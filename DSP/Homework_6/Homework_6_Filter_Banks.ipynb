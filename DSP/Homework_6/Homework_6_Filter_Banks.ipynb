{
 "cells": [
  {
   "cell_type": "code",
   "execution_count": null,
   "metadata": {},
   "outputs": [],
   "source": [
    "\"\"\"\n",
    "4/16\n",
    "\n",
    "Purpose: implement the juke box project\n",
    "\n",
    "\"\"\""
   ]
  },
  {
   "cell_type": "code",
   "execution_count": 1,
   "metadata": {},
   "outputs": [],
   "source": [
    "%load_ext autoreload\n",
    "%autoreload 2"
   ]
  },
  {
   "cell_type": "code",
   "execution_count": 2,
   "metadata": {},
   "outputs": [],
   "source": [
    "from pathlib import Path\n",
    "from os import sys\n",
    "\n",
    "library_path = Path(\"/meshAfterParty/meshAfterParty/\")\n",
    "library_path_str = str(library_path.absolute())\n",
    "\n",
    "if library_path_str not in sys.path:\n",
    "    sys.path.append(library_path_str)\n",
    "\n",
    "import numpy_utils as nu\n",
    "import numpy as np\n",
    "import polynomial_utils as pu\n",
    "import dsp_utils as dspu\n",
    "import matplotlib.pyplot as plt\n",
    "from numpy import sin,cos,pi,exp\n",
    "import time"
   ]
  },
  {
   "cell_type": "markdown",
   "metadata": {},
   "source": [
    "# Loading the juke data"
   ]
  },
  {
   "cell_type": "code",
   "execution_count": 3,
   "metadata": {},
   "outputs": [],
   "source": [
    "import scipy.io as sio\n",
    "import filter_banks_utils as fu"
   ]
  },
  {
   "cell_type": "code",
   "execution_count": 4,
   "metadata": {},
   "outputs": [
    {
     "data": {
      "text/plain": [
       "[WindowsPath('Music_Data/Mike_Juke_IntData.mat'),\n",
       " WindowsPath('Music_Data/TrackAA.mat'),\n",
       " WindowsPath('Music_Data/TrackBB.mat'),\n",
       " WindowsPath('Music_Data/TrackCC.mat'),\n",
       " WindowsPath('Music_Data/TrackDD.mat'),\n",
       " WindowsPath('Music_Data/TrackEE.mat')]"
      ]
     },
     "execution_count": 4,
     "metadata": {},
     "output_type": "execute_result"
    }
   ],
   "source": [
    "music_dir = Path(\"./Music_Data/\")\n",
    "list(music_dir.iterdir())"
   ]
  },
  {
   "cell_type": "code",
   "execution_count": 5,
   "metadata": {},
   "outputs": [],
   "source": [
    "dtype_juke = \"double\"\n",
    "juke_data = (sio.loadmat('Music_Data/Mike_Juke_IntData.mat')[\"mike_jukeI\"].astype(dtype_juke)/6400).flatten()"
   ]
  },
  {
   "cell_type": "code",
   "execution_count": 6,
   "metadata": {},
   "outputs": [],
   "source": [
    "L = 32"
   ]
  },
  {
   "cell_type": "markdown",
   "metadata": {},
   "source": [
    "# Loading the track data"
   ]
  },
  {
   "cell_type": "code",
   "execution_count": 7,
   "metadata": {},
   "outputs": [],
   "source": [
    "track_dir = [k for k in list(music_dir.iterdir()) if \"Track\" in str(k)]\n",
    "track_data = dict()\n",
    "for curr_file in track_dir: \n",
    "    curr_mat = sio.loadmat(curr_file)\n",
    "    file_name = curr_file.stem\n",
    "    curr_key = file_name[0].lower() + file_name[1:]\n",
    "    curr_mat = curr_mat[curr_key]\n",
    "    track_data[curr_key] = curr_mat.flatten()"
   ]
  },
  {
   "cell_type": "code",
   "execution_count": 8,
   "metadata": {},
   "outputs": [],
   "source": [
    "# import filter_banks_utils as fu\n",
    "# fu.play_track(audio = track_data[\"trackEE\"].copy(),\n",
    "# sampling_rate = 44100)"
   ]
  },
  {
   "cell_type": "markdown",
   "metadata": {},
   "source": [
    "# Trying to demodulate the individual tracks from the main data"
   ]
  },
  {
   "cell_type": "code",
   "execution_count": 10,
   "metadata": {},
   "outputs": [],
   "source": [
    "from scipy import signal\n",
    "import dsp_utils as dspu"
   ]
  },
  {
   "cell_type": "code",
   "execution_count": 11,
   "metadata": {},
   "outputs": [],
   "source": [
    "verbose = True\n",
    "plot_fir_Hdw = False"
   ]
  },
  {
   "cell_type": "code",
   "execution_count": 12,
   "metadata": {},
   "outputs": [
    {
     "name": "stdout",
     "output_type": "stream",
     "text": [
      "Lenght of filter = 511\n",
      "Proof Even Symmetric: np.linalg.norm(hhh[:256] - np.flip(hhh[255:])) = 0.0\n"
     ]
    }
   ],
   "source": [
    "filter_length=511\n",
    "delta = 0.008\n",
    "bandwidth = pi/32\n",
    "\n",
    "passband_freq=bandwidth - delta\n",
    "stopband_freq=bandwidth + delta\n",
    "sampling_freq=2*pi\n",
    "\n",
    "bands = [0,passband_freq,stopband_freq,pi]\n",
    "desired = [1,1,0,0]\n",
    "\n",
    "hhh = signal.firls(filter_length, bands, desired, fs=sampling_freq)\n",
    "if verbose:\n",
    "    print(f\"Lenght of filter = {len(hhh)}\")\n",
    "    m_idx = int((len(hhh)+1)/2 - 1)\n",
    "    print(f\"Proof Even Symmetric: np.linalg.norm(hhh[:{m_idx+1}] - np.flip(hhh[{m_idx}:])) = {np.linalg.norm(hhh[:m_idx+1] - np.flip(hhh[m_idx:]))}\")\n",
    "\n",
    "if plot_fir_Hdw:\n",
    "    sdspu.sequence_to_plot_Hdw_magnitude(hhh)"
   ]
  },
  {
   "cell_type": "markdown",
   "metadata": {},
   "source": [
    "# wanting to extract a song from the raw data"
   ]
  },
  {
   "cell_type": "code",
   "execution_count": null,
   "metadata": {},
   "outputs": [],
   "source": [
    "\"\"\"\n",
    "trackAA: classic violin (k = 4, cosine)\n",
    "trackBB: guitar (with drums): ground control to major Tom (k = 7, sin)\n",
    "trackCC: guitar: you're everlasting summer (are you reeling in the years) (k = 9: sin)\n",
    "trackDD: last thing I remember I was running for the door (hotel california) (k = 7 cosine)\n",
    "trackEE: coldplay: all the signs , some get made and some get (speed of sound) (k = 13, cosine)\n",
    "\n",
    "\n",
    "Psuedocode: \n",
    "1) Create an sin or cosine sequence that applies the \n",
    "certain modulation you want to apply\n",
    "2) multiply the sinusoid with the raw data\n",
    " -- or can do exponential and multiply by 2\n",
    "\n",
    "3) convolve the new sequence with the filter \n",
    "(to pass it through lowpass) filter\n",
    "4) downsample by 32 starting at some start index\n",
    "5) Play the song\n",
    "\"\"\""
   ]
  },
  {
   "cell_type": "markdown",
   "metadata": {},
   "source": [
    "# loading the matlab filter to start out"
   ]
  },
  {
   "cell_type": "code",
   "execution_count": null,
   "metadata": {},
   "outputs": [],
   "source": [
    "#hhh_mat = sio.loadmat(\"firls\")[\"hhh\"].flatten()"
   ]
  },
  {
   "cell_type": "code",
   "execution_count": null,
   "metadata": {},
   "outputs": [],
   "source": [
    "ex_conv = np.convolve(juke_data,hhh,\"same\")\n",
    "ex_conv"
   ]
  },
  {
   "cell_type": "code",
   "execution_count": null,
   "metadata": {},
   "outputs": [],
   "source": [
    "ex_conv[0]"
   ]
  },
  {
   "cell_type": "code",
   "execution_count": null,
   "metadata": {},
   "outputs": [],
   "source": [
    "np.sum(np.hstack([np.zeros(255),juke_data[:256]])*hhh)"
   ]
  },
  {
   "cell_type": "code",
   "execution_count": null,
   "metadata": {},
   "outputs": [],
   "source": [
    "index = 1001\n",
    "np.sum(juke_data[index-255:index+256]*hhh)"
   ]
  },
  {
   "cell_type": "code",
   "execution_count": null,
   "metadata": {},
   "outputs": [],
   "source": []
  },
  {
   "cell_type": "code",
   "execution_count": null,
   "metadata": {},
   "outputs": [],
   "source": [
    "track_1,track_2 =fu.extract_track_from_juke_data_by_mod_low_pass(juke_data,\n",
    "                                                    filt=hhh,\n",
    "                                                    #filt=hhh_mat,\n",
    "                                                    kkk=kkk,\n",
    "                                                    downsample_shift = -1,\n",
    "                                                    verbose=False)\n",
    "current_rms = fu.RMS(track_1,track_data[\"trackAA\"])"
   ]
  },
  {
   "cell_type": "code",
   "execution_count": null,
   "metadata": {},
   "outputs": [],
   "source": [
    "kkk = 13\n",
    "rms_values = [] \n",
    "#downsample_shifts = np.arange(32)\n",
    "downsample_shifts = [0]\n",
    "for d in downsample_shifts:\n",
    "    track_1,track_2 = fu.extract_track_from_juke_data_by_mod_low_pass(juke_data,\n",
    "                                                    filt=hhh,\n",
    "                                                    #filt=hhh_mat,\n",
    "                                                    kkk=kkk,\n",
    "                                                    downsample_shift = d,\n",
    "                                                    verbose=False)\n",
    "    current_rms = fu.RMS(track_1,track_data[\"trackEE\"])\n",
    "    #rms_values.append(current_rms)\n",
    "    print(f\"For downsample shift {d}: rms = {current_rms}\")"
   ]
  },
  {
   "cell_type": "code",
   "execution_count": null,
   "metadata": {},
   "outputs": [],
   "source": []
  },
  {
   "cell_type": "markdown",
   "metadata": {},
   "source": [
    "# Coding up the filter bank"
   ]
  },
  {
   "cell_type": "code",
   "execution_count": null,
   "metadata": {},
   "outputs": [],
   "source": [
    "\"\"\"\n",
    "1) Generate the polyphase filters of your filter\n",
    "- with a zero at the front or the end\n",
    "2) Rearrange the input data into an Lx(N/L) block\n",
    "3) convolve each row with the required polyphase\n",
    "4) Pass each column through an FFT to get a sequence of outputs\n",
    "--> collect each output as column and put in matrix (output)\n",
    "\"\"\""
   ]
  },
  {
   "cell_type": "code",
   "execution_count": null,
   "metadata": {},
   "outputs": [],
   "source": [
    "verbose = True"
   ]
  },
  {
   "cell_type": "code",
   "execution_count": null,
   "metadata": {},
   "outputs": [],
   "source": [
    "#1) Making the polyphase filters\n",
    "import numpy_utils as nu\n",
    "nu.turn_off_scientific_notation()\n",
    "\n",
    "st = time.time()\n",
    "p_filters = fu.filter_to_polyphase_filters(hhh,\n",
    "                                        pad_mode = \"start\",\n",
    "                                       verbose=True)\n",
    "p_filters_flip = np.flip(p_filters,axis=0)\n",
    "p_filters_flip[:,0]\n",
    "\n",
    "\n",
    "\n",
    "#2) Rearrange the input data into an Lx(N/L) block\n",
    "juke_data_banks = juke_data.reshape(-1,L).T\n",
    "print(f\"juke_data_banks.shape = {juke_data_banks.shape}\")\n",
    "\n",
    "if verbose:\n",
    "    print(f\"Total time for polyphase generation and data reshape= {time.time() - st}\")"
   ]
  },
  {
   "cell_type": "code",
   "execution_count": null,
   "metadata": {},
   "outputs": [],
   "source": [
    "#3) convolve each row with the required polyphase\n",
    "st = time.time()\n",
    "convolve_results = np.array([np.convolve(jd,pf,\"same\") for jd,pf in zip(juke_data_banks,p_filters_flip)]).T\n",
    "if verbose:\n",
    "    print(f\"convolve_results.shape = {convolve_results.shape}\")\n",
    "    print(f\"Total time for polyphase convolution= {time.time() - st}\")"
   ]
  },
  {
   "cell_type": "code",
   "execution_count": null,
   "metadata": {},
   "outputs": [],
   "source": [
    "#4) Pass each column through an FFT to get a sequence of outputs\n",
    "#--> collect each output as column and put in matrix (output)\n",
    "\n",
    "#Source: https://stackoverflow.com/questions/54535743/numpy-fft-numpy-fft2-and-fftw-for-2d-arrays\n",
    "st = time.time()\n",
    "filter_bank_output = 2*np.fft.fft(convolve_results)\n",
    "\n",
    "if verbose:\n",
    "    print(f\"filter_bank_output.shape = {filter_bank_output.shape}\")\n",
    "    print(f\"Total time for fft of filterbank= {time.time() - st}\")"
   ]
  },
  {
   "cell_type": "code",
   "execution_count": null,
   "metadata": {},
   "outputs": [],
   "source": [
    "# testing the output of the filter bank\n",
    "fu.play_track(audio = np.real(filter_bank_output[:,4]),\n",
    "sampling_rate = 44100)\n"
   ]
  },
  {
   "cell_type": "code",
   "execution_count": null,
   "metadata": {},
   "outputs": [],
   "source": [
    "fu.RMS(np.real(filter_bank_output[:,4]),track_data[\"trackAA\"])"
   ]
  },
  {
   "cell_type": "code",
   "execution_count": null,
   "metadata": {},
   "outputs": [],
   "source": []
  },
  {
   "cell_type": "markdown",
   "metadata": {},
   "source": [
    "# Part C"
   ]
  },
  {
   "cell_type": "code",
   "execution_count": 13,
   "metadata": {},
   "outputs": [],
   "source": [
    "#n_pads = int((np.floor(len(juke_data)/len(hhh)) + 1)*(len(hhh))-len(juke_data))\n",
    "n_pads = len(hhh) - L\n",
    "juke_data_len = len(juke_data)\n",
    "# juke_data_pad = np.hstack([,\n",
    "#                            juke_data,np.floor(np.zeros(n_pads)/2).astype(\"int\"),\n",
    "#                           ])\n",
    "juke_data_pad = np.hstack([np.zeros(255),\n",
    "                          juke_data,np.zeros(255 - 31)])"
   ]
  },
  {
   "cell_type": "code",
   "execution_count": 15,
   "metadata": {},
   "outputs": [],
   "source": [
    "mod_info = dict(AA=dict(func=np.cos,k = 4),\n",
    "                      BB=dict(func=np.sin,k = 7),\n",
    "                      CC=dict(func=np.sin,k = 9),\n",
    "                       DD=dict(func=np.cos,k = 7),\n",
    "                      EE=dict(func=np.cos,k = 13))"
   ]
  },
  {
   "cell_type": "code",
   "execution_count": 20,
   "metadata": {},
   "outputs": [],
   "source": []
  },
  {
   "cell_type": "code",
   "execution_count": null,
   "metadata": {},
   "outputs": [],
   "source": [
    "\"\"\"\n",
    "Pseudocode: To create a final DtD matrix and DtR that will\n",
    "hold the values for the least square solution\n",
    "\n",
    "Psuedocode: \n",
    "1) Create an empty DtD and DtR\n",
    "2) Iterate through all of the tracks we have the info for:\n",
    "\n",
    "a: get the actual track\n",
    "b. modulate the current D according to the track info\n",
    "c. create a current DtD out of the modulated D (add to master)\n",
    "d. create a current DtR from the modulated D and the actual track (add to master)\n",
    "\n",
    "3) invert the DtD\n",
    "4) matrix multiply DtD inverse and DtR\n",
    "\n",
    "\"\"\"\n",
    "\n",
    "DTD = np.zeros((len(hhh),len(hhh)))\n",
    "DTR = np.zeros((len(hhh),1))\n",
    "\n",
    "for track_suffix in mod_info.keys():\n",
    "    print(f\"Working on track_suffix = {track_suffix}\")\n",
    "    #a: get the actual track\n",
    "    curr_track_data = track_data[f\"track{track_suffix}\"]\n",
    "\n",
    "    #b. modulate the current D according to the track info\n",
    "    mod_func = mod_info[track_suffix][\"func\"]\n",
    "    mod_k = mod_info[track_suffix][\"k\"]\n",
    "    \n",
    "    DTD_curr = fu.modulated_D(juke_data,\n",
    "                  filter_len = len(hhh),\n",
    "                  L = L,\n",
    "                  mod_func = mod_func,\n",
    "                  mod_k = mod_k)\n",
    "    DTD += np.matmul(DTD_curr.T,DTD_curr)\n",
    "    \n",
    "    DTR_curr += np.matmul(DTD_curr.T,curr_track_data.reshape(len(curr_track_data),1))\n",
    "    break\n",
    "    "
   ]
  },
  {
   "cell_type": "code",
   "execution_count": null,
   "metadata": {},
   "outputs": [],
   "source": [
    "4*pi/16"
   ]
  },
  {
   "cell_type": "code",
   "execution_count": null,
   "metadata": {},
   "outputs": [],
   "source": []
  },
  {
   "cell_type": "code",
   "execution_count": null,
   "metadata": {},
   "outputs": [],
   "source": []
  },
  {
   "cell_type": "code",
   "execution_count": 30,
   "metadata": {},
   "outputs": [
    {
     "data": {
      "text/plain": [
       "0.0012918325162346092"
      ]
     },
     "execution_count": 30,
     "metadata": {},
     "output_type": "execute_result"
    }
   ],
   "source": [
    "fu.RMS(curr_audio.flatten(),track_data[\"trackAA\"])"
   ]
  },
  {
   "cell_type": "code",
   "execution_count": null,
   "metadata": {},
   "outputs": [],
   "source": []
  },
  {
   "cell_type": "code",
   "execution_count": null,
   "metadata": {},
   "outputs": [],
   "source": [
    "#curr_track = \"trackEE\"\n",
    "\n",
    "D_total = np.zeros((int(len(juke_data)/L),len(hhh)),dtype=\"float16\")\n",
    "for idx in range(int(len(juke_data)/L)):\n",
    "    for curr_track in mod_info.keys():\n",
    "        print()\n",
    "        D_total[idx,:] = juke_data_pad[L*idx:L*idx+len(hhh)]\n",
    "        st_shift = int((len(hhh)-1)/2)\n",
    "        cos_seq = mod_info[curr_track][\"func\"](2*pi/L*mod_info[curr_track][\"k\"]*np.arange(-st_shift,len(hhh)-st_shift)).astype(\"float16\")*2\n",
    "        D_mod = (D_total*cos_seq)\n",
    "#     for k in mod_info.keys():\n",
    "#         curr_k = mod_info[k][\"k\"]\n",
    "#         curr_func = mod_info[k][\"func\"]\n",
    "#         mod_info[k][\"mod_term\"][idx,:] = curr_func(2*pi/L*curr_k*np.arange(L*idx,L*idx+len(hhh)))"
   ]
  },
  {
   "cell_type": "code",
   "execution_count": 28,
   "metadata": {},
   "outputs": [
    {
     "data": {
      "text/plain": [
       "-0.439"
      ]
     },
     "execution_count": 28,
     "metadata": {},
     "output_type": "execute_result"
    }
   ],
   "source": [
    "DTD_curr[499,99]"
   ]
  },
  {
   "cell_type": "code",
   "execution_count": null,
   "metadata": {},
   "outputs": [],
   "source": []
  },
  {
   "cell_type": "code",
   "execution_count": null,
   "metadata": {},
   "outputs": [],
   "source": [
    "\"\"\"\n",
    "Least Squares Finite Element Method \n",
    "\"\"\""
   ]
  },
  {
   "cell_type": "code",
   "execution_count": null,
   "metadata": {},
   "outputs": [],
   "source": [
    "\"\"\"\n",
    "trackAA: classic violin (k = 4, cosine)\n",
    "trackBB: guitar (with drums): ground control to major Tom (k = 7, sin)\n",
    "trackCC: guitar: you're everlasting summer (are you reeling in the years) (k = 9: sin)\n",
    "trackDD: last thing I remember I was running for the door (hotel california) (k = 7 cosine)\n",
    "trackEE: coldplay: all the signs , some get made and some get (speed of sound) (k = 13, cosine)\n",
    "\n",
    "\"\"\""
   ]
  },
  {
   "cell_type": "code",
   "execution_count": null,
   "metadata": {},
   "outputs": [],
   "source": []
  },
  {
   "cell_type": "code",
   "execution_count": null,
   "metadata": {},
   "outputs": [],
   "source": []
  },
  {
   "cell_type": "code",
   "execution_count": null,
   "metadata": {},
   "outputs": [],
   "source": [
    "D_total"
   ]
  },
  {
   "cell_type": "code",
   "execution_count": null,
   "metadata": {},
   "outputs": [],
   "source": []
  },
  {
   "cell_type": "code",
   "execution_count": null,
   "metadata": {},
   "outputs": [],
   "source": [
    "fu.play_track(audio = track_1,\n",
    "sampling_rate = 44100)"
   ]
  },
  {
   "cell_type": "code",
   "execution_count": null,
   "metadata": {},
   "outputs": [],
   "source": [
    "if track_2 is not None:\n",
    "    fu.play_track(audio = track_2,\n",
    "    sampling_rate = 44100)\n",
    "else:\n",
    "    print(\"Track 2 was none\")"
   ]
  },
  {
   "cell_type": "code",
   "execution_count": null,
   "metadata": {},
   "outputs": [],
   "source": [
    "\n",
    "\n",
    "\"\"\"\n",
    "trackAA: classic violin (k = 4, cosine)\n",
    "trackBB: guitar (with drums): ground control to major Tom (k = 7, sin)\n",
    "trackCC: guitar: you're everlasting summer (are you reeling in the years) (k = 9: sin)\n",
    "trackDD: last thing I remember I was running for the door (hotel california) (k = 7 cosine)\n",
    "trackEE: coldplay: all the signs , some get made and some get (speed of sound) (k = 13, cosine)\n",
    "\n",
    "\n",
    "k = 0: cos: octopus garder sin: None\n",
    "k = 1: cos: folk (finding my way home)  sin: frank sinatra (just the way you look tonight)\n",
    "k = 2: cos: the who (wasted) sin: behtoven\n",
    "k = 3: cos: adele sin: jackson brown\n",
    "k = 4: cos: trackAA  sin: ?? (drove in my car)\n",
    "k = 5: cos: (slow wangy guitar) sin: pink floyd (darkside of the moon)\n",
    "k = 6: cos: (the band?) sin: eric clapton\n",
    "k = 7: cos: trackDD sin: trackBB (david bowie)\n",
    "k = 8: cos: green slaves sin: some girl singer\n",
    "k = 9: cos: no eye deer sin: trackCC\n",
    "k = 10: \n",
    "k = 11: cos pink floyd sin: some guitar \n",
    "k = 12: cos: strained rock (eric clapton)   sin: who ()\n",
    "k = 13: cos: trackEE (cold play)\n",
    "\n",
    "\n",
    "\"\"\""
   ]
  },
  {
   "cell_type": "code",
   "execution_count": null,
   "metadata": {},
   "outputs": [],
   "source": []
  },
  {
   "cell_type": "code",
   "execution_count": null,
   "metadata": {},
   "outputs": [],
   "source": []
  },
  {
   "cell_type": "code",
   "execution_count": null,
   "metadata": {},
   "outputs": [],
   "source": [
    "# Experiment for "
   ]
  },
  {
   "cell_type": "code",
   "execution_count": null,
   "metadata": {},
   "outputs": [],
   "source": [
    "n = np.arange(0,10*pi,1/(2*pi))\n",
    "sin_w = np.sin(0.3*pi*n)\n",
    "new_wave = sin_w*sin(2*n)\n",
    "plt.plot(n,sin_w)\n",
    "plt.plot(n,new_wave)\n"
   ]
  },
  {
   "cell_type": "code",
   "execution_count": null,
   "metadata": {},
   "outputs": [],
   "source": [
    "fir_firls = signal.firls(filter_length, [, desired, fs=sampling_freq)"
   ]
  },
  {
   "cell_type": "code",
   "execution_count": null,
   "metadata": {},
   "outputs": [],
   "source": []
  }
 ],
 "metadata": {
  "kernelspec": {
   "display_name": "Python 3",
   "language": "python",
   "name": "python3"
  },
  "language_info": {
   "codemirror_mode": {
    "name": "ipython",
    "version": 3
   },
   "file_extension": ".py",
   "mimetype": "text/x-python",
   "name": "python",
   "nbconvert_exporter": "python",
   "pygments_lexer": "ipython3",
   "version": "3.6.9"
  }
 },
 "nbformat": 4,
 "nbformat_minor": 4
}
