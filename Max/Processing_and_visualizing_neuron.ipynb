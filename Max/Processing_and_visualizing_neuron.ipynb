{
 "cells": [
  {
   "cell_type": "code",
   "execution_count": 13,
   "metadata": {},
   "outputs": [],
   "source": [
    "from os import sys\n",
    "sys.path.append(\"/meshAfterParty\")"
   ]
  },
  {
   "cell_type": "markdown",
   "metadata": {},
   "source": [
    "# Future Datajoint Pipeline"
   ]
  },
  {
   "cell_type": "code",
   "execution_count": null,
   "metadata": {},
   "outputs": [],
   "source": [
    "\"\"\"\n",
    "All neurons\n",
    "1) Start: Decimated Meshes\n",
    "2) Preprocess all meshes into neron object\n",
    "3) Begin to fill out DataJoint Table\n",
    "\n",
    "\n",
    "Datajoint table:\n",
    "Key: segment_id\n",
    "\n",
    "Attributes: (WHERE THE NEURON PACKAGE FITS IN)\n",
    "- spine count\n",
    "- axon_traveling_description\n",
    "- axon locations (np.array    N x 3)\n",
    "- soma center ( 1 x 3 array)\n",
    "\n",
    "\n",
    "\n",
    "Process: Make a populate function that\n",
    "For each preprocessed neuron\n",
    "a. Compute the attributes\n",
    "b. Store Attribute in datajoint table\n",
    "Finshed product: Populated datajoint table\n",
    "\n",
    "Analysis: Query the datajoint table:\n",
    "\n",
    "soma_center < [layer_6_y_value] & axon.....\n",
    "--> Returns: list of martinoti cell segment ids\n",
    "\n",
    "\"\"\"\n",
    "\n",
    "\"\"\"\n",
    "Populate your table on the cluster\n",
    "\n",
    "\"\"\"\n",
    "\n"
   ]
  },
  {
   "cell_type": "markdown",
   "metadata": {},
   "source": [
    "# Importing a Neuron to Process"
   ]
  },
  {
   "cell_type": "code",
   "execution_count": 21,
   "metadata": {},
   "outputs": [
    {
     "ename": "TypeError",
     "evalue": "'Trimesh' object is not callable",
     "output_type": "error",
     "traceback": [
      "\u001b[0;31m---------------------------------------------------------------------------\u001b[0m",
      "\u001b[0;31mTypeError\u001b[0m                                 Traceback (most recent call last)",
      "\u001b[0;32m<ipython-input-21-b9ea4f8e396c>\u001b[0m in \u001b[0;36m<module>\u001b[0;34m\u001b[0m\n\u001b[1;32m      2\u001b[0m \u001b[0minhibitory_neuron\u001b[0m \u001b[0;34m=\u001b[0m \u001b[0mtu\u001b[0m\u001b[0;34m.\u001b[0m\u001b[0mload_mesh_no_processing\u001b[0m\u001b[0;34m(\u001b[0m\u001b[0;34m\"/notebooks/test_neurons/spine_detection/90725377802114822_inhibitory_7.off\"\u001b[0m\u001b[0;34m)\u001b[0m\u001b[0;34m\u001b[0m\u001b[0;34m\u001b[0m\u001b[0m\n\u001b[1;32m      3\u001b[0m \u001b[0mdouble_soma_neuron\u001b[0m \u001b[0;34m=\u001b[0m \u001b[0mtu\u001b[0m\u001b[0;34m.\u001b[0m\u001b[0mload_mesh_no_processing\u001b[0m\u001b[0;34m(\u001b[0m\u001b[0;34m\"/notebooks/test_neurons/multi_soma_example.off\"\u001b[0m\u001b[0;34m)\u001b[0m\u001b[0;34m\u001b[0m\u001b[0;34m\u001b[0m\u001b[0m\n\u001b[0;32m----> 4\u001b[0;31m \u001b[0minhibitory_neuron\u001b[0m\u001b[0;34m(\u001b[0m\u001b[0;34m)\u001b[0m\u001b[0;34m\u001b[0m\u001b[0;34m\u001b[0m\u001b[0m\n\u001b[0m",
      "\u001b[0;31mTypeError\u001b[0m: 'Trimesh' object is not callable"
     ]
    }
   ],
   "source": [
    "import trimesh_utils as tu\n",
    "inhibitory_neuron = tu.load_mesh_no_processing(\"/notebooks/test_neurons/spine_detection/90725377802114822_inhibitory_7.off\")\n",
    "double_soma_neuron = tu.load_mesh_no_processing(\"/notebooks/test_neurons/multi_soma_example.off\")\n"
   ]
  },
  {
   "cell_type": "code",
   "execution_count": null,
   "metadata": {},
   "outputs": [],
   "source": []
  },
  {
   "cell_type": "markdown",
   "metadata": {},
   "source": [
    "# Pre-Processing the Neurons"
   ]
  },
  {
   "cell_type": "code",
   "execution_count": null,
   "metadata": {},
   "outputs": [],
   "source": []
  },
  {
   "cell_type": "code",
   "execution_count": null,
   "metadata": {},
   "outputs": [
    {
     "name": "stdout",
     "output_type": "stream",
     "text": [
      "--- 0) Having to preprocess the Neuron becuase no preprocessed data\n",
      "Please wait this could take a while.....\n"
     ]
    }
   ],
   "source": [
    "import neuron\n",
    "import time\n",
    "\n",
    "start_time = time.time()\n",
    "inhibitory_obj = neuron.Neuron(inhibitory_neuron,\n",
    "                              segment_id = 90725377802114822,\n",
    "                              description=\"inhibitory_7\",\n",
    "                              decomposition_type=\"meshafterparty\")\n",
    "print(f\"Total time for processing inhibitory neuron = {time.time() - start_time}\")"
   ]
  },
  {
   "cell_type": "code",
   "execution_count": null,
   "metadata": {},
   "outputs": [],
   "source": [
    "import neuron\n",
    "import time\n",
    "\n",
    "start_time = time.time()\n",
    "double_neuron_obj = neuron.Neuron(double_soma_neuron,\n",
    "                              segment_id = 12345,\n",
    "                              description=\"double_soma\",\n",
    "                              preprocessing_decomposition_type=\"meshparty\")\n",
    "print(f\"Total time for processing inhibitory neuron = {time.time() - start_time}\")"
   ]
  },
  {
   "cell_type": "markdown",
   "metadata": {},
   "source": [
    "# Visualizing Neurons"
   ]
  },
  {
   "cell_type": "code",
   "execution_count": null,
   "metadata": {},
   "outputs": [],
   "source": [
    "import skeleton_utils as sk\n",
    "sk.graph_skeleton_and_mesh(other_meshes=[inhibitory_obj.mesh])"
   ]
  },
  {
   "cell_type": "code",
   "execution_count": null,
   "metadata": {},
   "outputs": [],
   "source": [
    "inhibitory_obj.plot_soma_limb_concept_network()"
   ]
  },
  {
   "cell_type": "code",
   "execution_count": null,
   "metadata": {},
   "outputs": [],
   "source": [
    "import neuron_visualizations as nviz"
   ]
  },
  {
   "cell_type": "code",
   "execution_count": null,
   "metadata": {
    "scrolled": true
   },
   "outputs": [],
   "source": [
    "nviz.visualize_neuron(inhibitory_obj,\n",
    "                     visualize_type=[\"mesh\",\"skeleton\"],\n",
    "                     limb_branch_dict=\"all\",\n",
    "                     mesh_color=\"green\",\n",
    "                     skeleton_color=\"black\")"
   ]
  },
  {
   "cell_type": "code",
   "execution_count": null,
   "metadata": {},
   "outputs": [],
   "source": [
    "nviz.visualize_neuron(inhibitory_obj,\n",
    "                     visualize_type=[\"mesh\",\"skeleton\"],\n",
    "                     limb_branch_dict=\"all\",\n",
    "                     mesh_color=\"random\",\n",
    "                     skeleton_color=\"random\")"
   ]
  },
  {
   "cell_type": "code",
   "execution_count": null,
   "metadata": {},
   "outputs": [],
   "source": [
    "nviz.visualize_neuron(inhibitory_obj,\n",
    "                     visualize_type=[\"network\",\"mesh\"],\n",
    "                     limb_branch_dict=\"all\",\n",
    "                      mesh_limb_branch_dict=\"all\",\n",
    "                      mesh_soma=True,\n",
    "                      \n",
    "                     node_size=0.8,\n",
    "                     arrow_size=0.8)"
   ]
  },
  {
   "cell_type": "markdown",
   "metadata": {},
   "source": [
    "# Calculating Spines"
   ]
  },
  {
   "cell_type": "code",
   "execution_count": null,
   "metadata": {},
   "outputs": [],
   "source": [
    "inhibitory_obj.calculate_spines()"
   ]
  },
  {
   "cell_type": "code",
   "execution_count": null,
   "metadata": {},
   "outputs": [],
   "source": [
    "nviz.plot_spines(inhibitory_obj)"
   ]
  },
  {
   "cell_type": "markdown",
   "metadata": {},
   "source": [
    "# Neuron Object"
   ]
  },
  {
   "cell_type": "code",
   "execution_count": null,
   "metadata": {},
   "outputs": [],
   "source": [
    "dir(inhibitory_obj)"
   ]
  },
  {
   "cell_type": "code",
   "execution_count": null,
   "metadata": {},
   "outputs": [],
   "source": [
    "inhibitory_obj.concept_network"
   ]
  },
  {
   "cell_type": "code",
   "execution_count": null,
   "metadata": {},
   "outputs": [],
   "source": [
    "# networkx -> a way of storing graph stuff \n",
    "import networkx as nx\n",
    "#inhibitory_obj.plot_soma_limb_concept_network()\n",
    "nx.draw(inhibitory_obj.concept_network,with_labels=True)"
   ]
  },
  {
   "cell_type": "markdown",
   "metadata": {},
   "source": [
    "# Soma Object"
   ]
  },
  {
   "cell_type": "code",
   "execution_count": null,
   "metadata": {},
   "outputs": [],
   "source": [
    "soma_object = inhibitory_obj.concept_network.nodes[\"S0\"][\"data\"]\n",
    "#dir(soma_object)"
   ]
  },
  {
   "cell_type": "code",
   "execution_count": null,
   "metadata": {},
   "outputs": [],
   "source": [
    "# What verticies make up the face, index of the verticies.\n",
    "soma_object.mesh.faces"
   ]
  },
  {
   "cell_type": "code",
   "execution_count": null,
   "metadata": {},
   "outputs": [],
   "source": [
    "soma_object.mesh.vertices"
   ]
  },
  {
   "cell_type": "code",
   "execution_count": null,
   "metadata": {},
   "outputs": [],
   "source": [
    "sk.graph_skeleton_and_mesh(other_meshes=[soma_object.mesh])\n",
    "\n",
    "__init__\n",
    "\n",
    "Neuron()\n",
    "\n",
    "__eq__\n",
    "x == Y\n",
    "\n",
    "__getitem__(index= 4)\n",
    "\n",
    "x[4]\n",
    "\n",
    "**kwargs"
   ]
  },
  {
   "cell_type": "markdown",
   "metadata": {},
   "source": [
    "# Limb Object"
   ]
  },
  {
   "cell_type": "code",
   "execution_count": null,
   "metadata": {},
   "outputs": [],
   "source": [
    "limb_idx = \"L0\"\n",
    "limb_obj = inhibitory_obj.concept_network.nodes[limb_idx][\"data\"]\n",
    "\n",
    "nviz.visualize_neuron(inhibitory_obj,\n",
    "                      visualize_type=[\"mesh\",\"skeleton\"],\n",
    "                    limb_branch_dict=dict(L0=[\"all\"]),\n",
    "                      mesh_whole_neuron=True,\n",
    "                      mesh_color_alpha=0.1\n",
    "                     )"
   ]
  },
  {
   "cell_type": "code",
   "execution_count": null,
   "metadata": {},
   "outputs": [],
   "source": [
    "dir(limb_obj)"
   ]
  },
  {
   "cell_type": "code",
   "execution_count": null,
   "metadata": {},
   "outputs": [],
   "source": [
    "nviz.visualize_neuron(inhibitory_obj,\n",
    "                     limb_branch_dict=dict(L0=[7]),\n",
    "                     visualize_type=[\"mesh\",\"skeleton\"],\n",
    "                      mesh_color=\"red\",\n",
    "                      mesh_color_alpha=1,\n",
    "                     mesh_whole_neuron=True)"
   ]
  },
  {
   "cell_type": "code",
   "execution_count": null,
   "metadata": {},
   "outputs": [],
   "source": [
    "limb_obj.concept_network.nodes"
   ]
  },
  {
   "cell_type": "markdown",
   "metadata": {},
   "source": [
    "# Branch Object"
   ]
  },
  {
   "cell_type": "code",
   "execution_count": null,
   "metadata": {},
   "outputs": [],
   "source": [
    "branch_obj = limb_obj.concept_network.nodes[7][\"data\"]"
   ]
  },
  {
   "cell_type": "code",
   "execution_count": null,
   "metadata": {},
   "outputs": [],
   "source": [
    "dir(branch_obj)"
   ]
  },
  {
   "cell_type": "code",
   "execution_count": null,
   "metadata": {},
   "outputs": [],
   "source": [
    "branch_obj.spines"
   ]
  },
  {
   "cell_type": "code",
   "execution_count": null,
   "metadata": {},
   "outputs": [],
   "source": [
    "limb_obj.concept_network.nodes()"
   ]
  },
  {
   "cell_type": "markdown",
   "metadata": {},
   "source": [
    "# How to Query a Neuron object"
   ]
  },
  {
   "cell_type": "code",
   "execution_count": null,
   "metadata": {},
   "outputs": [],
   "source": [
    "# limb_obj.concept_network.nodes[4][\"data\"].labels.append(\"Axon\")\n",
    "# limb_obj.concept_network.nodes[1][\"data\"].labels.append(\"Axon\")\n",
    "# limb_obj.concept_network.nodes[2][\"data\"].labels.append(\"Axon\")"
   ]
  },
  {
   "cell_type": "code",
   "execution_count": 8,
   "metadata": {},
   "outputs": [
    {
     "name": "stdout",
     "output_type": "stream",
     "text": [
      "{'dc_voltage': 6, 'b': 4}\n"
     ]
    },
    {
     "data": {
      "text/plain": [
       "9"
      ]
     },
     "execution_count": 8,
     "metadata": {},
     "output_type": "execute_result"
    }
   ],
   "source": [
    "def new_function(x,y,**kwargs):\n",
    "    print(kwargs)\n",
    "    return x + y\n",
    "\n",
    "arg_var = dict(dc_voltage=6, b = 4)\n",
    "new_function(4,5,**arg_var)"
   ]
  },
  {
   "cell_type": "code",
   "execution_count": null,
   "metadata": {},
   "outputs": [],
   "source": [
    "from neuron_searching import run_options\n",
    "# Define some function list\n",
    "# You'll receive either a limb or a branch, and you'll need to do something about it\n",
    "# Use the file -> meshafterparty\\neuron_searching.py\n",
    "@run_options(run_type=\"Limb\")\n",
    "def limb_n_spine(curr_limb,limb_name=None,**kwargs):\n",
    "    \"\"\"\n",
    "    Pseudocode: \n",
    "    1) Get all the branch names in the limb\n",
    "    2) For each branch:\n",
    "        a. get the number of spines and add to total\n",
    "    3) Return total spine count\n",
    "    \"\"\"\n",
    "    \n",
    "    #1) Get all the branch names in the limb\n",
    "    branch_names = list(curr_limb.concept_network.nodes())\n",
    "     \n",
    "    #2) For each branch:\n",
    "    #a. get the number of spines and add to total\n",
    "    total_spines = 0\n",
    "    for b in branch_names:\n",
    "        branch_obj = curr_limb.concept_network.nodes[b][\"data\"]\n",
    "        \n",
    "        if branch_obj.spines is None:\n",
    "            continue\n",
    "        else:\n",
    "            total_spines += len(branch_obj.spines)\n",
    "        \n",
    "    #3) Return total spine count\n",
    "    return total_spines\n",
    "\n",
    "@run_options(run_type=\"Limb\")\n",
    "def limb_n_spine_per_skeletal_length(curr_limb,\n",
    "                                     limb_name=None,\n",
    "                                     **kwargs):\n",
    "    \"\"\"\n",
    "    Pseudocode: \n",
    "    1) Get all the branch names in the limb\n",
    "    2) For each branch:\n",
    "        a. get the number of spines and add to total\n",
    "    3) Get total skeletal length\n",
    "    4) Return n_spine/length\n",
    "    \"\"\"\n",
    "    \n",
    "    #1) Get all the branch names in the limb\n",
    "    branch_names = list(curr_limb.concept_network.nodes())\n",
    "    \n",
    "    #2) For each branch:\n",
    "    #a. get the number of spines and add to total\n",
    "    total_spines = 0\n",
    "    for b in branch_names:\n",
    "        branch_obj = curr_limb.concept_network.nodes[b][\"data\"]\n",
    "        \n",
    "        if branch_obj.spines is None:\n",
    "            continue\n",
    "        else:\n",
    "            total_spines += len(branch_obj.spines)\n",
    "        \n",
    "    #3) Get total skeletal length\n",
    "    import skeleton_utils as sk\n",
    "    skeletal_length = sk.calculate_skeleton_distance(curr_limb.skeleton)\n",
    "\n",
    "    #4) Return n_spine/length\n",
    "    return total_spines/skeletal_length\n",
    "\n",
    "@run_options(run_type=\"Branch\")\n",
    "def axon_branch(curr_branch,name=None,branch_name=None,**kwargs):\n",
    "    if \"axon\" in curr_branch.labels or \"Axon\" in curr_branch.labels:\n",
    "        return True\n",
    "    else:\n",
    "        return False"
   ]
  },
  {
   "cell_type": "code",
   "execution_count": null,
   "metadata": {},
   "outputs": [],
   "source": [
    "import neuron_searching as ns\n",
    "\n",
    "functions_list=[\n",
    "limb_n_spine,\n",
    "limb_n_spine_per_skeletal_length,\n",
    "\"width\",\n",
    "axon_branch\n",
    "\n",
    "]\n",
    "\n",
    "returned_output = ns.query_neuron(inhibitory_obj,\n",
    "                         functions_list,\n",
    "                          query=\"limb_n_spine > 1\",\n",
    "                          return_dataframe=True,\n",
    "                          return_limbs=False,\n",
    "                          return_limb_grouped_branches=True,\n",
    "                         print_flag=False)\n",
    "returned_output"
   ]
  },
  {
   "cell_type": "code",
   "execution_count": null,
   "metadata": {},
   "outputs": [],
   "source": [
    "returned_output = ns.query_neuron(inhibitory_obj,\n",
    "                         functions_list,\n",
    "                          query=\"limb_n_spine > 8 or axon_branch == True\",\n",
    "                          return_dataframe=False,\n",
    "                          return_limbs=False,\n",
    "                          return_limb_grouped_branches=True,\n",
    "                         print_flag=False)\n",
    "returned_output"
   ]
  },
  {
   "cell_type": "markdown",
   "metadata": {},
   "source": [
    "# How to identify an axon"
   ]
  },
  {
   "cell_type": "code",
   "execution_count": null,
   "metadata": {},
   "outputs": [],
   "source": [
    "returned_output = ns.query_neuron(inhibitory_obj,\n",
    "                         functions_list,\n",
    "                          query=\"limb_n_spine < 6 and width < 400\",\n",
    "                          return_dataframe=False,\n",
    "                          return_limbs=False,\n",
    "                          return_limb_grouped_branches=True,\n",
    "                         print_flag=False)\n",
    "returned_output"
   ]
  },
  {
   "cell_type": "code",
   "execution_count": null,
   "metadata": {},
   "outputs": [],
   "source": []
  },
  {
   "cell_type": "markdown",
   "metadata": {},
   "source": [
    "# Demo Max Analysis"
   ]
  },
  {
   "cell_type": "code",
   "execution_count": null,
   "metadata": {},
   "outputs": [],
   "source": [
    "soma_obj = inhibitory_obj.concept_network.nodes[\"S0\"][\"data\"]\n",
    "soma_obj.mesh_center"
   ]
  },
  {
   "cell_type": "code",
   "execution_count": null,
   "metadata": {},
   "outputs": [],
   "source": [
    "\"\"\"\n",
    "Pseudocode: \n",
    "1) Get the soma mesh center\n",
    "2) For every axon branch:\n",
    "a. GEt the branch mesh center\n",
    "b. Find the y distance above or below the soma center\n",
    "c. RELU\n",
    "\n",
    "3) Sum up results\n",
    "\n",
    "***** THEN STORE IN A DATJOINT TABLE *****\n",
    "\n",
    "\n",
    "\"\"\"\n",
    "soma_obj = inhibitory_obj.concept_network.nodes[\"S0\"][\"data\"]\n",
    "soma_obj_mesh_center = soma_obj.mesh_center\n",
    "\n",
    "total_above_soma_distance = 0\n",
    "\n",
    "for limb_idx,branch_list in returned_output.items():\n",
    "    for b in branch_list:\n",
    "        print(f\"---- Working on limb {limb_idx} branch {b} ------\")\n",
    "        branch_obj = inhibitory_obj.concept_network.nodes[limb_idx][\"data\"].concept_network.nodes[b][\"data\"]\n",
    "        branch_obj_mesh_center = branch_obj.mesh_center\n",
    "        \n",
    "        y_difference = branch_obj_mesh_center[1] - soma_obj_mesh_center[1]\n",
    "        print(f\"y_difference = {y_difference}\")\n",
    "        \n",
    "        #c. RELU\n",
    "        if y_difference < 0:\n",
    "            y_difference = 0\n",
    "        \n",
    "        print(f\"y_difference = {y_difference}\")\n",
    "        \n",
    "        total_above_soma_distance += y_difference\n",
    "    \n",
    "total_above_soma_distance"
   ]
  },
  {
   "cell_type": "markdown",
   "metadata": {},
   "source": [
    "# visualize results"
   ]
  },
  {
   "cell_type": "code",
   "execution_count": null,
   "metadata": {},
   "outputs": [],
   "source": [
    "nviz.visualize_neuron(inhibitory_obj,\n",
    "                     visualize_type=[\"mesh\",\"skeleton\"],\n",
    "                     limb_branch_dict=returned_output,\n",
    "                      mesh_color=\"red\",\n",
    "                     mesh_whole_neuron=True,\n",
    "                     axis_box_off=False)"
   ]
  },
  {
   "cell_type": "code",
   "execution_count": null,
   "metadata": {},
   "outputs": [],
   "source": []
  }
 ],
 "metadata": {
  "kernelspec": {
   "display_name": "Python 3",
   "language": "python",
   "name": "python3"
  },
  "language_info": {
   "codemirror_mode": {
    "name": "ipython",
    "version": 3
   },
   "file_extension": ".py",
   "mimetype": "text/x-python",
   "name": "python",
   "nbconvert_exporter": "python",
   "pygments_lexer": "ipython3",
   "version": "3.6.9"
  }
 },
 "nbformat": 4,
 "nbformat_minor": 4
}
