{
 "cells": [
  {
   "cell_type": "code",
   "execution_count": null,
   "metadata": {},
   "outputs": [],
   "source": [
    "\"\"\"\n",
    "Purpose:Find potential Martinotti cells\n",
    "\n",
    "Goal Table (information):\n",
    "1) Soma Location\n",
    "2) Center of mass (coordinate) of axon\n",
    "3) % of axon vertices in layer 1\n",
    "4) n_spines\n",
    "5) total_dendritic_length\n",
    "6) n_spines_per_dendritic length\n",
    "\n",
    "What do we need to get goal information:\n",
    "1) Decimated Mesh (for those with soma)\n",
    "\n",
    "\n",
    "\"\"\""
   ]
  },
  {
   "cell_type": "code",
   "execution_count": null,
   "metadata": {},
   "outputs": [],
   "source": [
    "\"\"\"\n",
    "Long Term:\n",
    "\n",
    "What do you need:\n",
    "1) Processed Neuron Object\n",
    "\n",
    "Pipeline:\n",
    "\n",
    "1) Decimated Mesh --> Soma Finder (Neurons with Soma)\n",
    "2) Decimated Mesh & (Neurons with Soma) --> Processed Neuron Objects (saved)\n",
    "------ Celii Objective ------\n",
    "3) Max Step: Processed Neuron Objects --> Martinotti Table\n",
    "\n",
    "What data does the Processed Neuron Object have:\n",
    "1) branches labeled with axon\n",
    "2) Soma meshes\n",
    "3) Dendrtiic Branches Labeled\n",
    "\n",
    "\n",
    "What your table would need to do\n",
    "\n",
    "--> DecimationMAP\n",
    "---\n",
    "soma_center\n",
    "axon_mass_center\n",
    "perc_axon_layer_1\n",
    "n_spines\n",
    "total_dendritic_length\n",
    "n_spines_per_dendritic_length\n",
    "\n",
    "Make Function:\n",
    "1) Access the neuron object\n",
    "2) Compute Secondary key statistic\n",
    "3) Write your dictionaries to your table\n",
    "\n",
    "To make table populate:    tableName.populate(reserve_jobs=True)\n",
    "\n",
    "\n",
    "-------------- Once table is done populating -------------\n",
    "Restrict your table to find only Martinotti cells\n",
    "\n",
    "\n",
    "\"\"\""
   ]
  },
  {
   "cell_type": "markdown",
   "metadata": {},
   "source": [
    "# Example Table"
   ]
  },
  {
   "cell_type": "code",
   "execution_count": 3,
   "metadata": {},
   "outputs": [
    {
     "data": {
      "text/plain": [
       "<function numpy.mean(a, axis=None, dtype=None, out=None, keepdims=<no value>)>"
      ]
     },
     "execution_count": 3,
     "metadata": {},
     "output_type": "execute_result"
    }
   ],
   "source": [
    "import numpy as np\n",
    "np.mean"
   ]
  },
  {
   "cell_type": "code",
   "execution_count": 4,
   "metadata": {},
   "outputs": [
    {
     "data": {
      "text/plain": [
       "3.3333333333333335"
      ]
     },
     "execution_count": 4,
     "metadata": {},
     "output_type": "execute_result"
    }
   ],
   "source": [
    "np.mean([1,4,5])"
   ]
  },
  {
   "cell_type": "code",
   "execution_count": null,
   "metadata": {},
   "outputs": [],
   "source": [
    "Spine_Axon_MAP_Stats.drop() #deleting the table and all rows\n",
    "Spine_Axon_MAP_Stats.delete() #\n",
    "schema = dj.schema(\"celiib_max_schema\", context=None, connection=dj.conn(), create_schema=True, create_tables=True)"
   ]
  },
  {
   "cell_type": "code",
   "execution_count": null,
   "metadata": {},
   "outputs": [],
   "source": [
    "decimation_version = 0\n",
    "decimation_ratio = 0.25\n",
    "\n",
    "@schema\n",
    "class Spine_Axon_MAP_Stats(dj.Computed):\n",
    "    definition=\"\"\"\n",
    "    -> minnie.NeuronMAP\n",
    "    ---\n",
    "    soma_center\n",
    "    axon_mass_center\n",
    "    perc_axon_layer_1\n",
    "    n_spines\n",
    "    total_dendritic_length\n",
    "    n_spines_per_dendritic_length\n",
    "    new_attribute:\n",
    "    \"\"\"\n",
    "    \n",
    "    key_source = minnie.NeuronMAP()\n",
    "    \n",
    "    def make(self,key):\n",
    "        # Retrive Neuron object\n",
    "        \n",
    "        #1) soma_center\n",
    "        #2) axon_mass_center\n",
    "        #3) perc_axon_layer_1\n",
    "        #4) n_spines\n",
    "        #5) total_dendritic_length\n",
    "        #6) n_spines_per_dendritic_length\n",
    "        \n",
    "        new_key = dict(key,\n",
    "                       soma_center= soma_center,\n",
    "                        axon_mass_center=axon_mass_center,\n",
    "                        perc_axon_layer_1=perc_axon_layer_1,\n",
    "                        n_spines=n_spines,\n",
    "                        total_dendritic_length=total_dendritic_length,\n",
    "                        n_spines_per_dendritic_length=n_spines_per_dendritic_length\n",
    "                      )\n",
    "\n",
    "        self.insert(dicts_to_insert,skip_duplicates=True)\n",
    "    "
   ]
  },
  {
   "cell_type": "code",
   "execution_count": null,
   "metadata": {},
   "outputs": [],
   "source": []
  }
 ],
 "metadata": {
  "kernelspec": {
   "display_name": "Python 3",
   "language": "python",
   "name": "python3"
  },
  "language_info": {
   "codemirror_mode": {
    "name": "ipython",
    "version": 3
   },
   "file_extension": ".py",
   "mimetype": "text/x-python",
   "name": "python",
   "nbconvert_exporter": "python",
   "pygments_lexer": "ipython3",
   "version": "3.6.9"
  }
 },
 "nbformat": 4,
 "nbformat_minor": 4
}
