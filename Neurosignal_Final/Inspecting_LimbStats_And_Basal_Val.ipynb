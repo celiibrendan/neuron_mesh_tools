{
 "cells": [
  {
   "cell_type": "code",
   "execution_count": 1,
   "metadata": {},
   "outputs": [
    {
     "data": {
      "text/plain": [
       "'\\nTo look at the status of our limb processing\\n'"
      ]
     },
     "execution_count": 1,
     "metadata": {},
     "output_type": "execute_result"
    }
   ],
   "source": [
    "\"\"\"\n",
    "To look at the status of our limb processing\n",
    "\"\"\""
   ]
  },
  {
   "cell_type": "code",
   "execution_count": 2,
   "metadata": {},
   "outputs": [
    {
     "name": "stderr",
     "output_type": "stream",
     "text": [
      "INFO - 2020-12-10 21:26:06,132 - settings - Setting database.host to at-database.ad.bcm.edu\n",
      "INFO - 2020-12-10 21:26:06,133 - settings - Setting database.user to celiib\n",
      "INFO - 2020-12-10 21:26:06,134 - settings - Setting database.password to newceliipass\n",
      "INFO - 2020-12-10 21:26:06,138 - settings - Setting stores to {'minnie65': {'protocol': 'file', 'location': '/mnt/dj-stor01/platinum/minnie65', 'stage': '/mnt/dj-stor01/platinum/minnie65'}, 'meshes': {'protocol': 'file', 'location': '/mnt/dj-stor01/platinum/minnie65/02/meshes', 'stage': '/mnt/dj-stor01/platinum/minnie65/02/meshes'}, 'decimated_meshes': {'protocol': 'file', 'location': '/mnt/dj-stor01/platinum/minnie65/02/decimated_meshes', 'stage': '/mnt/dj-stor01/platinum/minnie65/02/decimated_meshes'}, 'skeletons': {'protocol': 'file', 'location': '/mnt/dj-stor01/platinum/minnie65/02/skeletons'}}\n",
      "INFO - 2020-12-10 21:26:06,139 - settings - Setting enable_python_native_blobs to True\n",
      "INFO - 2020-12-10 21:26:06,150 - connection - Connected celiib@at-database.ad.bcm.edu:3306\n"
     ]
    },
    {
     "name": "stdout",
     "output_type": "stream",
     "text": [
      "Connecting celiib@at-database.ad.bcm.edu:3306\n"
     ]
    },
    {
     "name": "stderr",
     "output_type": "stream",
     "text": [
      "INFO - 2020-12-10 21:26:06,366 - settings - Setting enable_python_native_blobs to True\n"
     ]
    }
   ],
   "source": [
    "import numpy as np\n",
    "import datajoint as dj\n",
    "import trimesh\n",
    "from tqdm.notebook import tqdm\n",
    "from pathlib import Path\n",
    "\n",
    "from os import sys\n",
    "sys.path.append(\"/meshAfterParty/\")\n",
    "\n",
    "import datajoint_utils as du\n",
    "from importlib import reload\n",
    "import numpy_utils as nu\n",
    "import trimesh_utils as tu\n",
    "import error_detection as ed\n",
    "import networkx as nx\n",
    "import networkx_utils as xu\n",
    "import neuron_utils as nru\n",
    "import neuron_visualizations as nviz"
   ]
  },
  {
   "cell_type": "code",
   "execution_count": 3,
   "metadata": {},
   "outputs": [
    {
     "name": "stderr",
     "output_type": "stream",
     "text": [
      "INFO - 2020-12-10 21:26:06,388 - settings - Setting database.host to at-database.ad.bcm.edu\n",
      "INFO - 2020-12-10 21:26:06,389 - settings - Setting database.user to celiib\n",
      "INFO - 2020-12-10 21:26:06,390 - settings - Setting database.password to newceliipass\n",
      "INFO - 2020-12-10 21:26:06,392 - settings - Setting enable_python_native_blobs to True\n"
     ]
    },
    {
     "name": "stdout",
     "output_type": "stream",
     "text": [
      "Sleeping 23 sec before conneting\n",
      "Done sleeping\n",
      "Current path for external_segmentation_path = /mnt/dj-stor01/platinum/minnie65/02\n",
      "Current path for external_mesh_path = /mnt/dj-stor01/platinum/minnie65/02/meshes\n",
      "Current path for external_decimated_mesh_path = /mnt/dj-stor01/platinum/minnie65/02/decimated_meshes\n",
      "Current path for external_skeleton_path = /mnt/dj-stor01/platinum/minnie65/02/skeletons\n"
     ]
    },
    {
     "name": "stderr",
     "output_type": "stream",
     "text": [
      "INFO - 2020-12-10 21:26:06,610 - settings - Setting enable_python_native_blobs to True\n"
     ]
    }
   ],
   "source": [
    "import minfig\n",
    "import time\n",
    "import numpy as np\n",
    "#want to add in a wait for the connection part\n",
    "random_sleep_sec = np.random.randint(0, 30)\n",
    "print(f\"Sleeping {random_sleep_sec} sec before conneting\")\n",
    "#time.sleep(random_sleep_sec)\n",
    "print(\"Done sleeping\")\n",
    "\n",
    "du.config_celii()\n",
    "du.set_minnie65_config_segmentation(minfig)\n",
    "du.print_minnie65_config_paths(minfig)\n",
    "\n",
    "#configuring will include the adapters\n",
    "minnie,schema = du.configure_minnie_vm()"
   ]
  },
  {
   "cell_type": "code",
   "execution_count": 4,
   "metadata": {},
   "outputs": [
    {
     "data": {
      "text/plain": [
       "278318"
      ]
     },
     "execution_count": 4,
     "metadata": {},
     "output_type": "execute_result"
    }
   ],
   "source": [
    "len(minnie.LimbStats())"
   ]
  },
  {
   "cell_type": "code",
   "execution_count": 5,
   "metadata": {},
   "outputs": [
    {
     "data": {
      "text/plain": [
       "17073"
      ]
     },
     "execution_count": 5,
     "metadata": {},
     "output_type": "execute_result"
    }
   ],
   "source": [
    "len(minnie.Decomposition.proj() & minnie.LimbStats.proj())"
   ]
  },
  {
   "cell_type": "markdown",
   "metadata": {},
   "source": [
    "# Downloading the Data"
   ]
  },
  {
   "cell_type": "code",
   "execution_count": 6,
   "metadata": {},
   "outputs": [
    {
     "name": "stdout",
     "output_type": "stream",
     "text": [
      "Total time for download = 26.17853832244873\n"
     ]
    }
   ],
   "source": [
    "import time\n",
    "download_start_time = time.time()\n",
    "total_data_dict = minnie.LimbStats.fetch(as_dict=True)\n",
    "print(f\"Total time for download = {time.time() - download_start_time}\")"
   ]
  },
  {
   "cell_type": "markdown",
   "metadata": {},
   "source": [
    "# Convert to a pandas table"
   ]
  },
  {
   "cell_type": "code",
   "execution_count": null,
   "metadata": {},
   "outputs": [],
   "source": [
    "import pandas as pd\n",
    "import numpy as np\n",
    "path_df = pd.DataFrame.from_dict(total_data_dict)"
   ]
  },
  {
   "cell_type": "code",
   "execution_count": null,
   "metadata": {},
   "outputs": [],
   "source": [
    "path_df.to_pickle(\"neuron_dendrite_path_data\")\n",
    "df_recov = pd.read_pickle(\"neuron_dendrite_path_data\")\n",
    "df_recov"
   ]
  },
  {
   "cell_type": "markdown",
   "metadata": {},
   "source": [
    "# Saving the Data"
   ]
  },
  {
   "cell_type": "code",
   "execution_count": null,
   "metadata": {},
   "outputs": [],
   "source": [
    "import system_utils as su\n",
    "su.decompress_pickle(total_data_dict,\"\")"
   ]
  },
  {
   "cell_type": "markdown",
   "metadata": {},
   "source": [
    "# Seeing If Can Get approximately labeled data by the angle (spot checking neurons)"
   ]
  },
  {
   "cell_type": "code",
   "execution_count": 8,
   "metadata": {},
   "outputs": [
    {
     "name": "stdout",
     "output_type": "stream",
     "text": [
      "Length of restricted table = 39894\n"
     ]
    }
   ],
   "source": [
    "angle_interval = [100,115]\n",
    "restrict_table = (minnie.LimbStats() & f\"soma_angle>={angle_interval[0]} AND soma_angle<={angle_interval[-1]}\")\n",
    "print(f\"Length of restricted table = {len(restrict_table)}\")\n",
    "curr_data = restrict_table.fetch(\"segment_id\",\"limb_idx\")"
   ]
  },
  {
   "cell_type": "code",
   "execution_count": 9,
   "metadata": {},
   "outputs": [
    {
     "data": {
      "text/html": [
       "\n",
       "        \n",
       "        <style type=\"text/css\">\n",
       "            .Relation{\n",
       "                border-collapse:collapse;\n",
       "            }\n",
       "            .Relation th{\n",
       "                background: #A0A0A0; color: #ffffff; padding:4px; border:#f0e0e0 1px solid;\n",
       "                font-weight: normal; font-family: monospace; font-size: 100%;\n",
       "            }\n",
       "            .Relation td{\n",
       "                padding:4px; border:#f0e0e0 1px solid; font-size:100%;\n",
       "            }\n",
       "            .Relation tr:nth-child(odd){\n",
       "                background: #ffffff;\n",
       "            }\n",
       "            .Relation tr:nth-child(even){\n",
       "                background: #f3f1ff;\n",
       "            }\n",
       "            /* Tooltip container */\n",
       "            .djtooltip {\n",
       "            }\n",
       "            /* Tooltip text */\n",
       "            .djtooltip .djtooltiptext {\n",
       "                visibility: hidden;\n",
       "                width: 120px;\n",
       "                background-color: black;\n",
       "                color: #fff;\n",
       "                text-align: center;\n",
       "                padding: 5px 0;\n",
       "                border-radius: 6px;\n",
       "                /* Position the tooltip text - see examples below! */\n",
       "                position: absolute;\n",
       "                z-index: 1;\n",
       "            }\n",
       "            #primary {\n",
       "                font-weight: bold;\n",
       "                color: black;\n",
       "            }\n",
       "\n",
       "            #nonprimary {\n",
       "                font-weight: normal;\n",
       "                color: white;\n",
       "            }\n",
       "\n",
       "            /* Show the tooltip text when you mouse over the tooltip container */\n",
       "            .djtooltip:hover .djtooltiptext {\n",
       "                visibility: visible;\n",
       "            }\n",
       "        </style>\n",
       "        \n",
       "        <b></b>\n",
       "            <div style=\"max-height:1000px;max-width:1500px;overflow:auto;\">\n",
       "            <table border=\"1\" class=\"Relation\">\n",
       "                <thead> <tr style=\"text-align: right;\"> <th> <div class=\"djtooltip\">\n",
       "                                <p id=\"primary\">segment_id</p>\n",
       "                                <span class=\"djtooltiptext\">segment id unique within each Segmentation</span>\n",
       "                            </div></th><th><div class=\"djtooltip\">\n",
       "                                <p id=\"primary\">decimation_version</p>\n",
       "                                <span class=\"djtooltiptext\"></span>\n",
       "                            </div></th><th><div class=\"djtooltip\">\n",
       "                                <p id=\"primary\">decimation_ratio</p>\n",
       "                                <span class=\"djtooltiptext\">ratio of remaining mesh vertices/faces (which ones depends on what metric the decimation technique uses)</span>\n",
       "                            </div></th><th><div class=\"djtooltip\">\n",
       "                                <p id=\"primary\">limb_idx</p>\n",
       "                                <span class=\"djtooltiptext\">the limb id path was taken from</span>\n",
       "                            </div></th><th><div class=\"djtooltip\">\n",
       "                                <p id=\"primary\">path_idx</p>\n",
       "                                <span class=\"djtooltiptext\">path identifier</span>\n",
       "                            </div></th><th><div class=\"djtooltip\">\n",
       "                                <p id=\"nonprimary\">soma_angle</p>\n",
       "                                <span class=\"djtooltiptext\"></span>\n",
       "                            </div></th><th><div class=\"djtooltip\">\n",
       "                                <p id=\"nonprimary\">n0_width_median_mesh_center</p>\n",
       "                                <span class=\"djtooltiptext\"></span>\n",
       "                            </div></th><th><div class=\"djtooltip\">\n",
       "                                <p id=\"nonprimary\">n0_width_no_spine_median_mesh_center</p>\n",
       "                                <span class=\"djtooltiptext\"></span>\n",
       "                            </div></th><th><div class=\"djtooltip\">\n",
       "                                <p id=\"nonprimary\">n0_n_spines</p>\n",
       "                                <span class=\"djtooltiptext\"></span>\n",
       "                            </div></th><th><div class=\"djtooltip\">\n",
       "                                <p id=\"nonprimary\">n0_total_spine_volume</p>\n",
       "                                <span class=\"djtooltiptext\"></span>\n",
       "                            </div></th><th><div class=\"djtooltip\">\n",
       "                                <p id=\"nonprimary\">n0_spine_volume_median</p>\n",
       "                                <span class=\"djtooltiptext\"></span>\n",
       "                            </div></th><th><div class=\"djtooltip\">\n",
       "                                <p id=\"nonprimary\">n0_spine_volume_density</p>\n",
       "                                <span class=\"djtooltiptext\"></span>\n",
       "                            </div></th><th><div class=\"djtooltip\">\n",
       "                                <p id=\"nonprimary\">n0_skeletal_length</p>\n",
       "                                <span class=\"djtooltiptext\"></span>\n",
       "                            </div></th><th><div class=\"djtooltip\">\n",
       "                                <p id=\"nonprimary\">n0_parent_angle</p>\n",
       "                                <span class=\"djtooltiptext\"></span>\n",
       "                            </div></th><th><div class=\"djtooltip\">\n",
       "                                <p id=\"nonprimary\">n0_sibling_angle</p>\n",
       "                                <span class=\"djtooltiptext\"></span>\n",
       "                            </div></th><th><div class=\"djtooltip\">\n",
       "                                <p id=\"nonprimary\">n1_width_median_mesh_center</p>\n",
       "                                <span class=\"djtooltiptext\"></span>\n",
       "                            </div></th><th><div class=\"djtooltip\">\n",
       "                                <p id=\"nonprimary\">n1_width_no_spine_median_mesh_center</p>\n",
       "                                <span class=\"djtooltiptext\"></span>\n",
       "                            </div></th><th><div class=\"djtooltip\">\n",
       "                                <p id=\"nonprimary\">n1_n_spines</p>\n",
       "                                <span class=\"djtooltiptext\"></span>\n",
       "                            </div></th><th><div class=\"djtooltip\">\n",
       "                                <p id=\"nonprimary\">n1_total_spine_volume</p>\n",
       "                                <span class=\"djtooltiptext\"></span>\n",
       "                            </div></th><th><div class=\"djtooltip\">\n",
       "                                <p id=\"nonprimary\">n1_spine_volume_median</p>\n",
       "                                <span class=\"djtooltiptext\"></span>\n",
       "                            </div></th><th><div class=\"djtooltip\">\n",
       "                                <p id=\"nonprimary\">n1_spine_volume_density</p>\n",
       "                                <span class=\"djtooltiptext\"></span>\n",
       "                            </div></th><th><div class=\"djtooltip\">\n",
       "                                <p id=\"nonprimary\">n1_skeletal_length</p>\n",
       "                                <span class=\"djtooltiptext\"></span>\n",
       "                            </div></th><th><div class=\"djtooltip\">\n",
       "                                <p id=\"nonprimary\">n1_parent_angle</p>\n",
       "                                <span class=\"djtooltiptext\"></span>\n",
       "                            </div></th><th><div class=\"djtooltip\">\n",
       "                                <p id=\"nonprimary\">n1_sibling_angle</p>\n",
       "                                <span class=\"djtooltiptext\"></span>\n",
       "                            </div> </th> </tr> </thead>\n",
       "                <tbody> <tr> <td>864691134884741114</td>\n",
       "<td>0</td>\n",
       "<td>0.25</td>\n",
       "<td>2</td>\n",
       "<td>0</td>\n",
       "<td>101.76</td>\n",
       "<td>429.53</td>\n",
       "<td>429.53</td>\n",
       "<td>1</td>\n",
       "<td>70511497.64</td>\n",
       "<td>70511497.64</td>\n",
       "<td>8447.39</td>\n",
       "<td>8347.14</td>\n",
       "<td>46.73</td>\n",
       "<td>64.97</td>\n",
       "<td>369.76</td>\n",
       "<td>351.41</td>\n",
       "<td>10</td>\n",
       "<td>779012287.04</td>\n",
       "<td>71761960.37</td>\n",
       "<td>52069.05</td>\n",
       "<td>14961.14</td>\n",
       "<td>17.98</td>\n",
       "<td>71.89</td></tr><tr><td>864691134884741114</td>\n",
       "<td>0</td>\n",
       "<td>0.25</td>\n",
       "<td>2</td>\n",
       "<td>1</td>\n",
       "<td>101.76</td>\n",
       "<td>429.53</td>\n",
       "<td>429.53</td>\n",
       "<td>1</td>\n",
       "<td>70511497.64</td>\n",
       "<td>70511497.64</td>\n",
       "<td>8447.39</td>\n",
       "<td>8347.14</td>\n",
       "<td>46.73</td>\n",
       "<td>64.97</td>\n",
       "<td>425.5</td>\n",
       "<td>307.37</td>\n",
       "<td>109</td>\n",
       "<td>4804864882.98</td>\n",
       "<td>30316614.27</td>\n",
       "<td>42655.63</td>\n",
       "<td>112643.17</td>\n",
       "<td>53.93</td>\n",
       "<td>71.89</td></tr><tr><td>864691134884741114</td>\n",
       "<td>0</td>\n",
       "<td>0.25</td>\n",
       "<td>2</td>\n",
       "<td>2</td>\n",
       "<td>101.76</td>\n",
       "<td>560.07</td>\n",
       "<td>560.07</td>\n",
       "<td>1</td>\n",
       "<td>8062477.04</td>\n",
       "<td>8062477.04</td>\n",
       "<td>1115.37</td>\n",
       "<td>7228.49</td>\n",
       "<td>18.24</td>\n",
       "<td>64.97</td>\n",
       "<td>519.87</td>\n",
       "<td>481.64</td>\n",
       "<td>4</td>\n",
       "<td>228441104.21</td>\n",
       "<td>54306193.97</td>\n",
       "<td>24131.52</td>\n",
       "<td>9466.5</td>\n",
       "<td>22.98</td>\n",
       "<td>75.12</td></tr><tr><td>864691134884741114</td>\n",
       "<td>0</td>\n",
       "<td>0.25</td>\n",
       "<td>2</td>\n",
       "<td>3</td>\n",
       "<td>101.76</td>\n",
       "<td>560.07</td>\n",
       "<td>560.07</td>\n",
       "<td>1</td>\n",
       "<td>8062477.04</td>\n",
       "<td>8062477.04</td>\n",
       "<td>1115.37</td>\n",
       "<td>7228.49</td>\n",
       "<td>18.24</td>\n",
       "<td>64.97</td>\n",
       "<td>408.45</td>\n",
       "<td>312.89</td>\n",
       "<td>39</td>\n",
       "<td>2355101506.47</td>\n",
       "<td>46894065.26</td>\n",
       "<td>52496.81</td>\n",
       "<td>44861.8</td>\n",
       "<td>58.67</td>\n",
       "<td>75.12</td></tr><tr><td>864691134884744698</td>\n",
       "<td>0</td>\n",
       "<td>0.25</td>\n",
       "<td>1</td>\n",
       "<td>0</td>\n",
       "<td>102.37</td>\n",
       "<td>636.17</td>\n",
       "<td>553.72</td>\n",
       "<td>4</td>\n",
       "<td>310913112.85</td>\n",
       "<td>55589182.47</td>\n",
       "<td>29691.23</td>\n",
       "<td>10471.55</td>\n",
       "<td>24.78</td>\n",
       "<td>65.78</td>\n",
       "<td>362.97</td>\n",
       "<td>362.97</td>\n",
       "<td>0</td>\n",
       "<td>0.0</td>\n",
       "<td>0.0</td>\n",
       "<td>0.0</td>\n",
       "<td>668.25</td>\n",
       "<td>14.48</td>\n",
       "<td>49.0</td></tr><tr><td>864691134884744698</td>\n",
       "<td>0</td>\n",
       "<td>0.25</td>\n",
       "<td>1</td>\n",
       "<td>1</td>\n",
       "<td>102.37</td>\n",
       "<td>636.17</td>\n",
       "<td>553.72</td>\n",
       "<td>4</td>\n",
       "<td>310913112.85</td>\n",
       "<td>55589182.47</td>\n",
       "<td>29691.23</td>\n",
       "<td>10471.55</td>\n",
       "<td>24.78</td>\n",
       "<td>65.78</td>\n",
       "<td>377.44</td>\n",
       "<td>283.77</td>\n",
       "<td>32</td>\n",
       "<td>2419854415.01</td>\n",
       "<td>61084704.12</td>\n",
       "<td>44373.37</td>\n",
       "<td>54533.94</td>\n",
       "<td>41.59</td>\n",
       "<td>49.0</td></tr><tr><td>864691134884747002</td>\n",
       "<td>0</td>\n",
       "<td>0.25</td>\n",
       "<td>2</td>\n",
       "<td>0</td>\n",
       "<td>111.76</td>\n",
       "<td>422.39</td>\n",
       "<td>422.39</td>\n",
       "<td>0</td>\n",
       "<td>0.0</td>\n",
       "<td>0.0</td>\n",
       "<td>0.0</td>\n",
       "<td>5835.04</td>\n",
       "<td>10.41</td>\n",
       "<td>66.78</td>\n",
       "<td>373.28</td>\n",
       "<td>373.28</td>\n",
       "<td>0</td>\n",
       "<td>0.0</td>\n",
       "<td>0.0</td>\n",
       "<td>0.0</td>\n",
       "<td>9045.27</td>\n",
       "<td>19.46</td>\n",
       "<td>65.7</td></tr><tr><td>864691134884747002</td>\n",
       "<td>0</td>\n",
       "<td>0.25</td>\n",
       "<td>2</td>\n",
       "<td>1</td>\n",
       "<td>111.76</td>\n",
       "<td>422.39</td>\n",
       "<td>422.39</td>\n",
       "<td>0</td>\n",
       "<td>0.0</td>\n",
       "<td>0.0</td>\n",
       "<td>0.0</td>\n",
       "<td>5835.04</td>\n",
       "<td>10.41</td>\n",
       "<td>66.78</td>\n",
       "<td>223.88</td>\n",
       "<td>223.88</td>\n",
       "<td>2</td>\n",
       "<td>37447903.75</td>\n",
       "<td>18723951.87</td>\n",
       "<td>1465.74</td>\n",
       "<td>25548.73</td>\n",
       "<td>48.03</td>\n",
       "<td>65.7</td></tr><tr><td>864691134884747002</td>\n",
       "<td>0</td>\n",
       "<td>0.25</td>\n",
       "<td>2</td>\n",
       "<td>2</td>\n",
       "<td>111.76</td>\n",
       "<td>289.68</td>\n",
       "<td>277.92</td>\n",
       "<td>16</td>\n",
       "<td>713647504.3</td>\n",
       "<td>35687777.74</td>\n",
       "<td>11667.45</td>\n",
       "<td>61165.66</td>\n",
       "<td>57.21</td>\n",
       "<td>66.78</td>\n",
       "<td>60.3</td>\n",
       "<td>60.3</td>\n",
       "<td>0</td>\n",
       "<td>0.0</td>\n",
       "<td>0.0</td>\n",
       "<td>0.0</td>\n",
       "<td>15492.26</td>\n",
       "<td>49.42</td>\n",
       "<td>83.16</td></tr><tr><td>864691134884747002</td>\n",
       "<td>0</td>\n",
       "<td>0.25</td>\n",
       "<td>3</td>\n",
       "<td>0</td>\n",
       "<td>113.16</td>\n",
       "<td>275.21</td>\n",
       "<td>275.21</td>\n",
       "<td>0</td>\n",
       "<td>0.0</td>\n",
       "<td>0.0</td>\n",
       "<td>0.0</td>\n",
       "<td>4419.1</td>\n",
       "<td>26.27</td>\n",
       "<td>93.47</td>\n",
       "<td>340.48</td>\n",
       "<td>314.82</td>\n",
       "<td>5</td>\n",
       "<td>222074822.17</td>\n",
       "<td>23457919.88</td>\n",
       "<td>13244.69</td>\n",
       "<td>16767.08</td>\n",
       "<td>30.92</td>\n",
       "<td>78.5</td></tr><tr><td>864691134884747002</td>\n",
       "<td>0</td>\n",
       "<td>0.25</td>\n",
       "<td>3</td>\n",
       "<td>1</td>\n",
       "<td>113.16</td>\n",
       "<td>275.21</td>\n",
       "<td>275.21</td>\n",
       "<td>0</td>\n",
       "<td>0.0</td>\n",
       "<td>0.0</td>\n",
       "<td>0.0</td>\n",
       "<td>4419.1</td>\n",
       "<td>26.27</td>\n",
       "<td>93.47</td>\n",
       "<td>211.42</td>\n",
       "<td>211.42</td>\n",
       "<td>1</td>\n",
       "<td>81130182.72</td>\n",
       "<td>81130182.72</td>\n",
       "<td>1668.67</td>\n",
       "<td>48619.75</td>\n",
       "<td>49.85</td>\n",
       "<td>78.5</td></tr><tr><td>864691134884747002</td>\n",
       "<td>0</td>\n",
       "<td>0.25</td>\n",
       "<td>4</td>\n",
       "<td>0</td>\n",
       "<td>107.43</td>\n",
       "<td>212.8</td>\n",
       "<td>212.8</td>\n",
       "<td>8</td>\n",
       "<td>370306204.22</td>\n",
       "<td>35586273.16</td>\n",
       "<td>3449.24</td>\n",
       "<td>107358.69</td>\n",
       "<td>12.93</td>\n",
       "<td>67.02</td>\n",
       "<td>139.94</td>\n",
       "<td>139.94</td>\n",
       "<td>0</td>\n",
       "<td>0.0</td>\n",
       "<td>0.0</td>\n",
       "<td>0.0</td>\n",
       "<td>18932.52</td>\n",
       "<td>25.15</td>\n",
       "<td>85.9</td> </tr> </tbody>\n",
       "            </table>\n",
       "            <p>...</p>\n",
       "            <p>Total: 39894</p></div>\n",
       "            "
      ],
      "text/plain": [
       "*segment_id    *decimation_ve *decimation_ra *limb_idx    *path_idx    soma_angle     n0_width_media n0_width_no_sp n0_n_spines    n0_total_spine n0_spine_volum n0_spine_volum n0_skeletal_le n0_parent_angl n0_sibling_ang n1_width_media n1_width_no_sp n1_n_spines    n1_total_spine n1_spine_volum n1_spine_volum n1_skeletal_le n1_parent_angl n1_sibling_ang\n",
       "+------------+ +------------+ +------------+ +----------+ +----------+ +------------+ +------------+ +------------+ +------------+ +------------+ +------------+ +------------+ +------------+ +------------+ +------------+ +------------+ +------------+ +------------+ +------------+ +------------+ +------------+ +------------+ +------------+ +------------+\n",
       "86469113488474 0              0.25           2            0            101.76         429.53         429.53         1              70511497.64    70511497.64    8447.39        8347.14        46.73          64.97          369.76         351.41         10             779012287.04   71761960.37    52069.05       14961.14       17.98          71.89         \n",
       "86469113488474 0              0.25           2            1            101.76         429.53         429.53         1              70511497.64    70511497.64    8447.39        8347.14        46.73          64.97          425.5          307.37         109            4804864882.98  30316614.27    42655.63       112643.17      53.93          71.89         \n",
       "86469113488474 0              0.25           2            2            101.76         560.07         560.07         1              8062477.04     8062477.04     1115.37        7228.49        18.24          64.97          519.87         481.64         4              228441104.21   54306193.97    24131.52       9466.5         22.98          75.12         \n",
       "86469113488474 0              0.25           2            3            101.76         560.07         560.07         1              8062477.04     8062477.04     1115.37        7228.49        18.24          64.97          408.45         312.89         39             2355101506.47  46894065.26    52496.81       44861.8        58.67          75.12         \n",
       "86469113488474 0              0.25           1            0            102.37         636.17         553.72         4              310913112.85   55589182.47    29691.23       10471.55       24.78          65.78          362.97         362.97         0              0.0            0.0            0.0            668.25         14.48          49.0          \n",
       "86469113488474 0              0.25           1            1            102.37         636.17         553.72         4              310913112.85   55589182.47    29691.23       10471.55       24.78          65.78          377.44         283.77         32             2419854415.01  61084704.12    44373.37       54533.94       41.59          49.0          \n",
       "86469113488474 0              0.25           2            0            111.76         422.39         422.39         0              0.0            0.0            0.0            5835.04        10.41          66.78          373.28         373.28         0              0.0            0.0            0.0            9045.27        19.46          65.7          \n",
       "86469113488474 0              0.25           2            1            111.76         422.39         422.39         0              0.0            0.0            0.0            5835.04        10.41          66.78          223.88         223.88         2              37447903.75    18723951.87    1465.74        25548.73       48.03          65.7          \n",
       "86469113488474 0              0.25           2            2            111.76         289.68         277.92         16             713647504.3    35687777.74    11667.45       61165.66       57.21          66.78          60.3           60.3           0              0.0            0.0            0.0            15492.26       49.42          83.16         \n",
       "86469113488474 0              0.25           3            0            113.16         275.21         275.21         0              0.0            0.0            0.0            4419.1         26.27          93.47          340.48         314.82         5              222074822.17   23457919.88    13244.69       16767.08       30.92          78.5          \n",
       "86469113488474 0              0.25           3            1            113.16         275.21         275.21         0              0.0            0.0            0.0            4419.1         26.27          93.47          211.42         211.42         1              81130182.72    81130182.72    1668.67        48619.75       49.85          78.5          \n",
       "86469113488474 0              0.25           4            0            107.43         212.8          212.8          8              370306204.22   35586273.16    3449.24        107358.69      12.93          67.02          139.94         139.94         0              0.0            0.0            0.0            18932.52       25.15          85.9          \n",
       "   ...\n",
       " (Total: 39894)"
      ]
     },
     "execution_count": 9,
     "metadata": {},
     "output_type": "execute_result"
    }
   ],
   "source": [
    "restrict_table"
   ]
  },
  {
   "cell_type": "code",
   "execution_count": 10,
   "metadata": {
    "scrolled": true
   },
   "outputs": [
    {
     "data": {
      "text/plain": [
       "array([[864691134884741114,                  2],\n",
       "       [864691134884744698,                  1],\n",
       "       [864691134884747002,                  2],\n",
       "       ...,\n",
       "       [864691137196928321,                  3],\n",
       "       [864691137196928577,                  0],\n",
       "       [864691137196931137,                  4]])"
      ]
     },
     "execution_count": 10,
     "metadata": {},
     "output_type": "execute_result"
    }
   ],
   "source": [
    "unique_seg_id_branch_idx = np.unique(np.array(curr_data).T,axis=0)\n",
    "unique_seg_id_branch_idx"
   ]
  },
  {
   "cell_type": "code",
   "execution_count": 11,
   "metadata": {},
   "outputs": [],
   "source": [
    "correct_basal_classification = []\n",
    "wrong_basal_classification = []"
   ]
  },
  {
   "cell_type": "markdown",
   "metadata": {},
   "source": [
    "# Looking at an example branch"
   ]
  },
  {
   "cell_type": "code",
   "execution_count": 26,
   "metadata": {},
   "outputs": [
    {
     "data": {
      "text/plain": [
       "(864691134884747002, 4)"
      ]
     },
     "execution_count": 26,
     "metadata": {},
     "output_type": "execute_result"
    }
   ],
   "source": [
    "idx = 4\n",
    "curr_segment_id,curr_limb_idx = unique_seg_id_branch_idx[idx]\n",
    "curr_segment_id,curr_limb_idx"
   ]
  },
  {
   "cell_type": "code",
   "execution_count": 27,
   "metadata": {},
   "outputs": [
    {
     "name": "stdout",
     "output_type": "stream",
     "text": [
      "Decompressing Neuron in minimal output mode...please wait\n"
     ]
    }
   ],
   "source": [
    "import neuron_visualizations as nviz\n",
    "neuron_obj = (minnie.Decomposition & dict(segment_id=curr_segment_id)).fetch1(\"decomposition\")"
   ]
  },
  {
   "cell_type": "code",
   "execution_count": 28,
   "metadata": {},
   "outputs": [
    {
     "name": "stdout",
     "output_type": "stream",
     "text": [
      "Basal: Segment_id:864691134884747002, Limb: 4\n"
     ]
    },
    {
     "data": {
      "application/vnd.jupyter.widget-view+json": {
       "model_id": "ba3812af637e487cab87b1c3d2772b6c",
       "version_major": 2,
       "version_minor": 0
      },
      "text/plain": [
       "VBox(children=(Figure(camera=PerspectiveCamera(fov=46.0, position=(0.0, 0.0, 2.0), quaternion=(0.0, 0.0, 0.0, …"
      ]
     },
     "metadata": {},
     "output_type": "display_data"
    }
   ],
   "source": [
    "nviz = reload(nviz)\n",
    "print(f\"Basal: Segment_id:{curr_segment_id}, Limb: {curr_limb_idx}\")\n",
    "nviz.visualize_neuron(neuron_obj,\n",
    "                     visualize_type=[\"mesh\"],\n",
    "                     limb_branch_dict={f\"L{curr_limb_idx}\":\"all\"},\n",
    "                     mesh_resolution=\"limb\",\n",
    "                     mesh_color=\"red\",\n",
    "                      mesh_color_alpha=1,\n",
    "                     mesh_whole_neuron=True,\n",
    "                     verbose=False)"
   ]
  },
  {
   "cell_type": "code",
   "execution_count": null,
   "metadata": {},
   "outputs": [],
   "source": []
  },
  {
   "cell_type": "code",
   "execution_count": null,
   "metadata": {},
   "outputs": [],
   "source": []
  },
  {
   "cell_type": "code",
   "execution_count": 16,
   "metadata": {},
   "outputs": [],
   "source": [
    "correct_basal_classification.append([curr_segment_id,curr_limb_idx])"
   ]
  },
  {
   "cell_type": "code",
   "execution_count": null,
   "metadata": {},
   "outputs": [],
   "source": [
    "wrong_basal_classification.append([curr_segment_id,curr_limb_idx])"
   ]
  }
 ],
 "metadata": {
  "kernelspec": {
   "display_name": "Python 3",
   "language": "python",
   "name": "python3"
  },
  "language_info": {
   "codemirror_mode": {
    "name": "ipython",
    "version": 3
   },
   "file_extension": ".py",
   "mimetype": "text/x-python",
   "name": "python",
   "nbconvert_exporter": "python",
   "pygments_lexer": "ipython3",
   "version": "3.6.9"
  }
 },
 "nbformat": 4,
 "nbformat_minor": 4
}
