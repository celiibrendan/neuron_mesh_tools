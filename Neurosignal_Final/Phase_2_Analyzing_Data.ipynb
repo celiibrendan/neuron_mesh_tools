{
 "cells": [
  {
   "cell_type": "code",
   "execution_count": null,
   "metadata": {},
   "outputs": [],
   "source": [
    "\"\"\"\n",
    "To Analyze the \n",
    "\n",
    "\n",
    "\"\"\""
   ]
  },
  {
   "cell_type": "code",
   "execution_count": 1,
   "metadata": {},
   "outputs": [],
   "source": [
    "from os import sys\n",
    "sys.path.append(\"/meshAfterParty/\")\n",
    "%matplotlib inline"
   ]
  },
  {
   "cell_type": "code",
   "execution_count": 13,
   "metadata": {},
   "outputs": [],
   "source": [
    "import pandas as pd\n",
    "import numpy as np\n",
    "import matplotlib.pyplot as plt\n",
    "from importlib import reload\n",
    "\n",
    "import dimensionality_reduction_utils as dr\n",
    "import clustering_utils as cl\n",
    "dr = reload(dr)\n",
    "cl = reload(cl)\n",
    "import pandas_utils as pu\n",
    "\n",
    "from sklearn.preprocessing import StandardScaler\n",
    "import time\n",
    "from collections import Counter\n",
    "import copy\n",
    "np.set_printoptions(suppress=True)"
   ]
  },
  {
   "cell_type": "code",
   "execution_count": 3,
   "metadata": {},
   "outputs": [],
   "source": [
    "df = pd.read_pickle(\"neuron_dendrite_path_data\")\n",
    "df_filtered = pu.filter_away_nan_rows(df)"
   ]
  },
  {
   "cell_type": "markdown",
   "metadata": {},
   "source": [
    "# Get the distribution of the limb starts "
   ]
  },
  {
   "cell_type": "code",
   "execution_count": 4,
   "metadata": {},
   "outputs": [
    {
     "data": {
      "image/png": "[encoded data removed]",
      "text/plain": [
       "<Figure size 432x288 with 1 Axes>"
      ]
     },
     "metadata": {
      "needs_background": "light"
     },
     "output_type": "display_data"
    }
   ],
   "source": [
    "soma_angles =df_filtered[::4][\"soma_angle\"].to_numpy()\n",
    "bin_data = plt.hist(soma_angles,bins=30)"
   ]
  },
  {
   "cell_type": "markdown",
   "metadata": {},
   "source": [
    "# Extracting the Vectors we want to process (not excluding the soma angle)"
   ]
  },
  {
   "cell_type": "code",
   "execution_count": 5,
   "metadata": {},
   "outputs": [
    {
     "data": {
      "text/plain": [
       "array(['n0_width_median_mesh_center',\n",
       "       'n0_width_no_spine_median_mesh_center', 'n0_n_spines',\n",
       "       'n0_total_spine_volume', 'n0_spine_volume_median',\n",
       "       'n0_spine_volume_density', 'n0_skeletal_length', 'n0_parent_angle',\n",
       "       'n0_sibling_angle', 'n1_width_median_mesh_center',\n",
       "       'n1_width_no_spine_median_mesh_center', 'n1_n_spines',\n",
       "       'n1_total_spine_volume', 'n1_spine_volume_median',\n",
       "       'n1_spine_volume_density', 'n1_skeletal_length', 'n1_parent_angle',\n",
       "       'n1_sibling_angle'], dtype=object)"
      ]
     },
     "execution_count": 5,
     "metadata": {},
     "output_type": "execute_result"
    }
   ],
   "source": [
    "columns_picked = df_filtered.columns[6:].to_numpy()\n",
    "columns_picked"
   ]
  },
  {
   "cell_type": "code",
   "execution_count": null,
   "metadata": {},
   "outputs": [],
   "source": [
    "# def normalized_data(df_curr,picked_columns):\n",
    "#     df_data = df_curr[columns_picked].to_numpy()\n",
    "#     df_data_scaled = StandardScaler().fit_transform(df_data)\n",
    "#     df_scaled = pd.DataFrame(df_data_scaled)\n",
    "#     #add on the columns\n",
    "#     df_scaled.columns = picked_columns\n",
    "#     return df_scaled"
   ]
  },
  {
   "cell_type": "code",
   "execution_count": 6,
   "metadata": {},
   "outputs": [],
   "source": [
    "df_data = df_filtered[columns_picked].to_numpy()\n",
    "scaler = StandardScaler()\n",
    "df_data_scaled = scaler.fit_transform(df_data)\n",
    "df_data_reversed = scaler.inverse_transform(df_data_scaled,copy=True)\n",
    "\n",
    "data_df_normalized = pd.DataFrame(df_data_scaled)\n",
    "#add on the columns\n",
    "data_df_normalized.columns = columns_picked\n"
   ]
  },
  {
   "cell_type": "code",
   "execution_count": 9,
   "metadata": {},
   "outputs": [
    {
     "data": {
      "text/plain": [
       "array([[  192.16,   192.16,     0.  , ..., 70666.48,    13.53,    96.8 ],\n",
       "       [  192.16,   192.16,     0.  , ..., 12721.84,    84.41,    96.8 ],\n",
       "       [   83.79,    83.79,     0.  , ...,  5910.65,    29.57,    31.68],\n",
       "       ...,\n",
       "       [  396.01,   396.01,     2.  , ..., 76418.71,    60.77,    58.52],\n",
       "       [  327.06,   313.81,    23.  , ...,  5459.7 ,   102.4 ,   111.85],\n",
       "       [  327.06,   313.81,    23.  , ..., 35082.87,    12.73,   111.85]])"
      ]
     },
     "execution_count": 9,
     "metadata": {},
     "output_type": "execute_result"
    }
   ],
   "source": [
    "df_data_reversed"
   ]
  },
  {
   "cell_type": "code",
   "execution_count": 19,
   "metadata": {},
   "outputs": [],
   "source": [
    "def gmm_classification(gmm_model,curr_data,verbose=True):\n",
    "    probs = gmm_model.predict_proba(curr_data)\n",
    "    gmm_classification = np.argmax(probs,axis=1)\n",
    "    if verbose:\n",
    "        print(f\"Classification: {Counter(gmm_classification)}\")\n",
    "    return gmm_classification"
   ]
  },
  {
   "cell_type": "markdown",
   "metadata": {},
   "source": [
    "# Filtering the Data"
   ]
  },
  {
   "cell_type": "code",
   "execution_count": 11,
   "metadata": {},
   "outputs": [],
   "source": [
    "def indices_of_soma_angle(df_curr,angle_interval):\n",
    "    return np.where((df_curr[\"soma_angle\"]>=angle_interval[0]) & \n",
    "           (df_curr[\"soma_angle\"]<=angle_interval[-1]))[0]"
   ]
  },
  {
   "cell_type": "code",
   "execution_count": 12,
   "metadata": {},
   "outputs": [],
   "source": [
    "basal_indices = indices_of_soma_angle(df_filtered,[100,115])\n",
    "axon_indices = indices_of_soma_angle(df_filtered,[165,180])\n",
    "apical_indices = indices_of_soma_angle(df_filtered,[0,20])"
   ]
  },
  {
   "cell_type": "code",
   "execution_count": 15,
   "metadata": {},
   "outputs": [
    {
     "name": "stdout",
     "output_type": "stream",
     "text": [
      "# apical paths = 8785\n",
      " # basal paths = 39892\n",
      " # axon paths = 25478\n",
      "\n"
     ]
    }
   ],
   "source": [
    "axon_data_scaled = data_df_normalized.iloc[axon_indices]\n",
    "basal_data_scaled = data_df_normalized.iloc[basal_indices]\n",
    "apical_data_scaled = data_df_normalized.iloc[apical_indices]\n",
    "data_total_scaled = copy.copy(data_df_normalized)\n",
    "\n",
    "print(f\"# apical paths = {len(axon_data_scaled)}\\n\",\n",
    "     f\"# basal paths = {len(basal_data_scaled)}\\n\",\n",
    "     f\"# axon paths = {len(apical_data_scaled)}\\n\")"
   ]
  },
  {
   "cell_type": "markdown",
   "metadata": {},
   "source": [
    "# Run the Gaussian Mixture Model on Entire Dataset"
   ]
  },
  {
   "cell_type": "code",
   "execution_count": 17,
   "metadata": {},
   "outputs": [],
   "source": [
    "from sklearn import mixture"
   ]
  },
  {
   "cell_type": "code",
   "execution_count": 18,
   "metadata": {},
   "outputs": [
    {
     "name": "stdout",
     "output_type": "stream",
     "text": [
      "Convergence status = True\n",
      "Total time for GMM = 20.64546275138855\n"
     ]
    }
   ],
   "source": [
    "K = 3\n",
    "covariance_type = \"full\"\n",
    "\n",
    "st_time = time.time()\n",
    "\n",
    "#1) Training the GMM\n",
    "gmm = mixture.GaussianMixture(n_components=K, \n",
    "                              covariance_type=covariance_type,\n",
    "                             reg_covar=0.001,\n",
    "                             init_params=\"kmeans\")\n",
    "gmm.fit(data_total_scaled)\n",
    "\n",
    "# Getting the Average Log likelihood:\n",
    "average_log_likelihood_train = gmm.score(data_total_scaled)\n",
    "print(f\"Convergence status = {gmm.converged_}\")\n",
    "print(f\"Total time for GMM = {time.time() - st_time}\")\n"
   ]
  },
  {
   "cell_type": "code",
   "execution_count": 21,
   "metadata": {},
   "outputs": [
    {
     "data": {
      "text/html": [
       "<div>\n",
       "<style scoped>\n",
       "    .dataframe tbody tr th:only-of-type {\n",
       "        vertical-align: middle;\n",
       "    }\n",
       "\n",
       "    .dataframe tbody tr th {\n",
       "        vertical-align: top;\n",
       "    }\n",
       "\n",
       "    .dataframe thead th {\n",
       "        text-align: right;\n",
       "    }\n",
       "</style>\n",
       "<table border=\"1\" class=\"dataframe\">\n",
       "  <thead>\n",
       "    <tr style=\"text-align: right;\">\n",
       "      <th></th>\n",
       "      <th>n0_width_median_mesh_center</th>\n",
       "      <th>n0_width_no_spine_median_mesh_center</th>\n",
       "      <th>n0_n_spines</th>\n",
       "      <th>n0_total_spine_volume</th>\n",
       "      <th>n0_spine_volume_median</th>\n",
       "      <th>n0_spine_volume_density</th>\n",
       "      <th>n0_skeletal_length</th>\n",
       "      <th>n0_parent_angle</th>\n",
       "      <th>n0_sibling_angle</th>\n",
       "      <th>n1_width_median_mesh_center</th>\n",
       "      <th>n1_width_no_spine_median_mesh_center</th>\n",
       "      <th>n1_n_spines</th>\n",
       "      <th>n1_total_spine_volume</th>\n",
       "      <th>n1_spine_volume_median</th>\n",
       "      <th>n1_spine_volume_density</th>\n",
       "      <th>n1_skeletal_length</th>\n",
       "      <th>n1_parent_angle</th>\n",
       "      <th>n1_sibling_angle</th>\n",
       "    </tr>\n",
       "  </thead>\n",
       "  <tbody>\n",
       "    <tr>\n",
       "      <th>0</th>\n",
       "      <td>473.664188</td>\n",
       "      <td>468.680447</td>\n",
       "      <td>2.081757</td>\n",
       "      <td>1.261878e+08</td>\n",
       "      <td>3.465265e+07</td>\n",
       "      <td>10310.973024</td>\n",
       "      <td>9751.388809</td>\n",
       "      <td>38.822655</td>\n",
       "      <td>82.304580</td>\n",
       "      <td>381.957764</td>\n",
       "      <td>344.380208</td>\n",
       "      <td>24.044839</td>\n",
       "      <td>1.613143e+09</td>\n",
       "      <td>5.393595e+07</td>\n",
       "      <td>37325.880879</td>\n",
       "      <td>42886.727941</td>\n",
       "      <td>37.822994</td>\n",
       "      <td>74.137037</td>\n",
       "    </tr>\n",
       "    <tr>\n",
       "      <th>1</th>\n",
       "      <td>417.590243</td>\n",
       "      <td>379.172178</td>\n",
       "      <td>18.126656</td>\n",
       "      <td>1.378579e+09</td>\n",
       "      <td>6.973739e+07</td>\n",
       "      <td>45522.976099</td>\n",
       "      <td>33615.940832</td>\n",
       "      <td>38.208481</td>\n",
       "      <td>78.500294</td>\n",
       "      <td>353.265706</td>\n",
       "      <td>297.960434</td>\n",
       "      <td>31.289266</td>\n",
       "      <td>1.965289e+09</td>\n",
       "      <td>4.400419e+07</td>\n",
       "      <td>41433.332547</td>\n",
       "      <td>55746.904929</td>\n",
       "      <td>30.091196</td>\n",
       "      <td>73.482165</td>\n",
       "    </tr>\n",
       "    <tr>\n",
       "      <th>2</th>\n",
       "      <td>329.200593</td>\n",
       "      <td>309.960350</td>\n",
       "      <td>12.038479</td>\n",
       "      <td>8.525384e+08</td>\n",
       "      <td>3.169280e+07</td>\n",
       "      <td>20149.013667</td>\n",
       "      <td>30220.138303</td>\n",
       "      <td>43.717278</td>\n",
       "      <td>86.906167</td>\n",
       "      <td>175.994482</td>\n",
       "      <td>175.971107</td>\n",
       "      <td>0.040640</td>\n",
       "      <td>2.202406e+05</td>\n",
       "      <td>7.908198e+04</td>\n",
       "      <td>20.247095</td>\n",
       "      <td>10164.306675</td>\n",
       "      <td>61.472145</td>\n",
       "      <td>91.308483</td>\n",
       "    </tr>\n",
       "  </tbody>\n",
       "</table>\n",
       "</div>"
      ],
      "text/plain": [
       "   n0_width_median_mesh_center  n0_width_no_spine_median_mesh_center  \\\n",
       "0                   473.664188                            468.680447   \n",
       "1                   417.590243                            379.172178   \n",
       "2                   329.200593                            309.960350   \n",
       "\n",
       "   n0_n_spines  n0_total_spine_volume  n0_spine_volume_median  \\\n",
       "0     2.081757           1.261878e+08            3.465265e+07   \n",
       "1    18.126656           1.378579e+09            6.973739e+07   \n",
       "2    12.038479           8.525384e+08            3.169280e+07   \n",
       "\n",
       "   n0_spine_volume_density  n0_skeletal_length  n0_parent_angle  \\\n",
       "0             10310.973024         9751.388809        38.822655   \n",
       "1             45522.976099        33615.940832        38.208481   \n",
       "2             20149.013667        30220.138303        43.717278   \n",
       "\n",
       "   n0_sibling_angle  n1_width_median_mesh_center  \\\n",
       "0         82.304580                   381.957764   \n",
       "1         78.500294                   353.265706   \n",
       "2         86.906167                   175.994482   \n",
       "\n",
       "   n1_width_no_spine_median_mesh_center  n1_n_spines  n1_total_spine_volume  \\\n",
       "0                            344.380208    24.044839           1.613143e+09   \n",
       "1                            297.960434    31.289266           1.965289e+09   \n",
       "2                            175.971107     0.040640           2.202406e+05   \n",
       "\n",
       "   n1_spine_volume_median  n1_spine_volume_density  n1_skeletal_length  \\\n",
       "0            5.393595e+07             37325.880879        42886.727941   \n",
       "1            4.400419e+07             41433.332547        55746.904929   \n",
       "2            7.908198e+04                20.247095        10164.306675   \n",
       "\n",
       "   n1_parent_angle  n1_sibling_angle  \n",
       "0        37.822994         74.137037  \n",
       "1        30.091196         73.482165  \n",
       "2        61.472145         91.308483  "
      ]
     },
     "execution_count": 21,
     "metadata": {},
     "output_type": "execute_result"
    }
   ],
   "source": [
    "recovered_means = pd.DataFrame(scaler.inverse_transform(gmm.means_))\n",
    "recovered_means.columns = columns_picked\n",
    "recovered_means"
   ]
  },
  {
   "cell_type": "code",
   "execution_count": 22,
   "metadata": {},
   "outputs": [
    {
     "name": "stdout",
     "output_type": "stream",
     "text": [
      "Classification: Counter({0: 129327, 2: 81272, 1: 67693})\n",
      "Classification: Counter({2: 6554, 0: 1362, 1: 869})\n",
      "Classification: Counter({0: 19852, 1: 10775, 2: 9265})\n",
      "Classification: Counter({0: 15992, 1: 4969, 2: 4517})\n"
     ]
    },
    {
     "data": {
      "text/plain": [
       "array([1, 2, 0, ..., 0, 0, 0])"
      ]
     },
     "execution_count": 22,
     "metadata": {},
     "output_type": "execute_result"
    }
   ],
   "source": [
    "gmm_classification(gmm,data_total_scaled)\n",
    "gmm_classification(gmm,axon_data_scaled)\n",
    "gmm_classification(gmm,basal_data_scaled)\n",
    "gmm_classification(gmm,apical_data_scaled)"
   ]
  },
  {
   "cell_type": "markdown",
   "metadata": {},
   "source": [
    "# Doing without normalization"
   ]
  },
  {
   "cell_type": "code",
   "execution_count": 23,
   "metadata": {},
   "outputs": [],
   "source": [
    "df_filtered_unscaled = df_filtered[columns_picked]"
   ]
  },
  {
   "cell_type": "code",
   "execution_count": 26,
   "metadata": {},
   "outputs": [
    {
     "name": "stdout",
     "output_type": "stream",
     "text": [
      "# apical paths = 8785\n",
      " # basal paths = 39892\n",
      " # axon paths = 25478\n",
      "\n"
     ]
    }
   ],
   "source": [
    "axon_data_unscaled = df_filtered_unscaled.iloc[axon_indices]\n",
    "basal_data_unscaled = df_filtered_unscaled.iloc[basal_indices]\n",
    "apical_data_unscaled = df_filtered_unscaled.iloc[apical_indices]\n",
    "data_total_unscaled = copy.copy(df_filtered_unscaled)\n",
    "\n",
    "print(f\"# apical paths = {len(axon_data_scaled)}\\n\",\n",
    "     f\"# basal paths = {len(basal_data_scaled)}\\n\",\n",
    "     f\"# axon paths = {len(apical_data_scaled)}\\n\")"
   ]
  },
  {
   "cell_type": "code",
   "execution_count": 27,
   "metadata": {},
   "outputs": [
    {
     "name": "stdout",
     "output_type": "stream",
     "text": [
      "Convergence status = True\n",
      "Total time for GMM = 14.659416675567627\n"
     ]
    }
   ],
   "source": [
    "K = 3\n",
    "covariance_type = \"full\"\n",
    "\n",
    "st_time = time.time()\n",
    "\n",
    "#1) Training the GMM\n",
    "gmm_unscald = mixture.GaussianMixture(n_components=K, \n",
    "                              covariance_type=covariance_type,\n",
    "                             reg_covar=0.1,\n",
    "                             init_params=\"kmeans\")\n",
    "gmm.fit(data_total_unscaled)\n",
    "\n",
    "# Getting the Average Log likelihood:\n",
    "average_log_likelihood_train = gmm.score(data_total_unscaled)\n",
    "print(f\"Convergence status = {gmm.converged_}\")\n",
    "print(f\"Total time for GMM = {time.time() - st_time}\")\n"
   ]
  },
  {
   "cell_type": "code",
   "execution_count": 28,
   "metadata": {},
   "outputs": [
    {
     "name": "stdout",
     "output_type": "stream",
     "text": [
      "Classification: Counter({0: 143297, 1: 77703, 2: 57292})\n",
      "Classification: Counter({1: 6318, 0: 1618, 2: 849})\n",
      "Classification: Counter({0: 22562, 2: 8905, 1: 8425})\n",
      "Classification: Counter({0: 15618, 1: 6482, 2: 3378})\n"
     ]
    },
    {
     "data": {
      "text/plain": [
       "array([2, 2, 0, ..., 0, 0, 0])"
      ]
     },
     "execution_count": 28,
     "metadata": {},
     "output_type": "execute_result"
    }
   ],
   "source": [
    "gmm_classification(gmm,data_total_unscaled)\n",
    "gmm_classification(gmm,axon_data_unscaled)\n",
    "gmm_classification(gmm,basal_data_unscaled)\n",
    "gmm_classification(gmm,apical_data_unscaled)"
   ]
  },
  {
   "cell_type": "code",
   "execution_count": 32,
   "metadata": {},
   "outputs": [
    {
     "data": {
      "text/html": [
       "<div>\n",
       "<style scoped>\n",
       "    .dataframe tbody tr th:only-of-type {\n",
       "        vertical-align: middle;\n",
       "    }\n",
       "\n",
       "    .dataframe tbody tr th {\n",
       "        vertical-align: top;\n",
       "    }\n",
       "\n",
       "    .dataframe thead th {\n",
       "        text-align: right;\n",
       "    }\n",
       "</style>\n",
       "<table border=\"1\" class=\"dataframe\">\n",
       "  <thead>\n",
       "    <tr style=\"text-align: right;\">\n",
       "      <th></th>\n",
       "      <th>n0_width_median_mesh_center</th>\n",
       "      <th>n0_width_no_spine_median_mesh_center</th>\n",
       "      <th>n0_n_spines</th>\n",
       "      <th>n0_total_spine_volume</th>\n",
       "      <th>n0_spine_volume_median</th>\n",
       "      <th>n0_spine_volume_density</th>\n",
       "      <th>n0_skeletal_length</th>\n",
       "      <th>n0_parent_angle</th>\n",
       "      <th>n0_sibling_angle</th>\n",
       "      <th>n1_width_median_mesh_center</th>\n",
       "      <th>n1_width_no_spine_median_mesh_center</th>\n",
       "      <th>n1_n_spines</th>\n",
       "      <th>n1_total_spine_volume</th>\n",
       "      <th>n1_spine_volume_median</th>\n",
       "      <th>n1_spine_volume_density</th>\n",
       "      <th>n1_skeletal_length</th>\n",
       "      <th>n1_parent_angle</th>\n",
       "      <th>n1_sibling_angle</th>\n",
       "    </tr>\n",
       "  </thead>\n",
       "  <tbody>\n",
       "    <tr>\n",
       "      <th>0</th>\n",
       "      <td>447.147348</td>\n",
       "      <td>434.606544</td>\n",
       "      <td>5.149393</td>\n",
       "      <td>3.677029e+08</td>\n",
       "      <td>5.787506e+07</td>\n",
       "      <td>22367.574307</td>\n",
       "      <td>14743.384286</td>\n",
       "      <td>38.430049</td>\n",
       "      <td>80.483791</td>\n",
       "      <td>347.598336</td>\n",
       "      <td>309.100623</td>\n",
       "      <td>24.773733</td>\n",
       "      <td>1.616862e+09</td>\n",
       "      <td>4.185331e+07</td>\n",
       "      <td>32787.702045</td>\n",
       "      <td>43560.341558</td>\n",
       "      <td>39.899414</td>\n",
       "      <td>74.106648</td>\n",
       "    </tr>\n",
       "    <tr>\n",
       "      <th>1</th>\n",
       "      <td>375.605106</td>\n",
       "      <td>375.605131</td>\n",
       "      <td>0.010869</td>\n",
       "      <td>0.000000e+00</td>\n",
       "      <td>0.000000e+00</td>\n",
       "      <td>0.000000</td>\n",
       "      <td>10310.285656</td>\n",
       "      <td>44.083561</td>\n",
       "      <td>91.154625</td>\n",
       "      <td>288.169421</td>\n",
       "      <td>271.635997</td>\n",
       "      <td>12.213539</td>\n",
       "      <td>8.241376e+08</td>\n",
       "      <td>3.040338e+07</td>\n",
       "      <td>17769.069341</td>\n",
       "      <td>32390.747160</td>\n",
       "      <td>44.914366</td>\n",
       "      <td>84.264404</td>\n",
       "    </tr>\n",
       "    <tr>\n",
       "      <th>2</th>\n",
       "      <td>402.031124</td>\n",
       "      <td>349.260602</td>\n",
       "      <td>30.335393</td>\n",
       "      <td>2.207384e+09</td>\n",
       "      <td>6.141833e+07</td>\n",
       "      <td>50048.106483</td>\n",
       "      <td>53748.452602</td>\n",
       "      <td>38.843930</td>\n",
       "      <td>76.821286</td>\n",
       "      <td>270.333507</td>\n",
       "      <td>238.264448</td>\n",
       "      <td>13.129516</td>\n",
       "      <td>8.234840e+08</td>\n",
       "      <td>2.819253e+07</td>\n",
       "      <td>27468.529014</td>\n",
       "      <td>24767.039131</td>\n",
       "      <td>47.096265</td>\n",
       "      <td>83.877543</td>\n",
       "    </tr>\n",
       "  </tbody>\n",
       "</table>\n",
       "</div>"
      ],
      "text/plain": [
       "   n0_width_median_mesh_center  n0_width_no_spine_median_mesh_center  \\\n",
       "0                   447.147348                            434.606544   \n",
       "1                   375.605106                            375.605131   \n",
       "2                   402.031124                            349.260602   \n",
       "\n",
       "   n0_n_spines  n0_total_spine_volume  n0_spine_volume_median  \\\n",
       "0     5.149393           3.677029e+08            5.787506e+07   \n",
       "1     0.010869           0.000000e+00            0.000000e+00   \n",
       "2    30.335393           2.207384e+09            6.141833e+07   \n",
       "\n",
       "   n0_spine_volume_density  n0_skeletal_length  n0_parent_angle  \\\n",
       "0             22367.574307        14743.384286        38.430049   \n",
       "1                 0.000000        10310.285656        44.083561   \n",
       "2             50048.106483        53748.452602        38.843930   \n",
       "\n",
       "   n0_sibling_angle  n1_width_median_mesh_center  \\\n",
       "0         80.483791                   347.598336   \n",
       "1         91.154625                   288.169421   \n",
       "2         76.821286                   270.333507   \n",
       "\n",
       "   n1_width_no_spine_median_mesh_center  n1_n_spines  n1_total_spine_volume  \\\n",
       "0                            309.100623    24.773733           1.616862e+09   \n",
       "1                            271.635997    12.213539           8.241376e+08   \n",
       "2                            238.264448    13.129516           8.234840e+08   \n",
       "\n",
       "   n1_spine_volume_median  n1_spine_volume_density  n1_skeletal_length  \\\n",
       "0            4.185331e+07             32787.702045        43560.341558   \n",
       "1            3.040338e+07             17769.069341        32390.747160   \n",
       "2            2.819253e+07             27468.529014        24767.039131   \n",
       "\n",
       "   n1_parent_angle  n1_sibling_angle  \n",
       "0        39.899414         74.106648  \n",
       "1        44.914366         84.264404  \n",
       "2        47.096265         83.877543  "
      ]
     },
     "execution_count": 32,
     "metadata": {},
     "output_type": "execute_result"
    }
   ],
   "source": [
    "recov_unscaled = pd.DataFrame(gmm.means_)\n",
    "recov_unscaled.columns = columns_picked\n",
    "recov_unscaled"
   ]
  },
  {
   "cell_type": "markdown",
   "metadata": {},
   "source": [
    "# Try Doing it On PCA (full components)"
   ]
  },
  {
   "cell_type": "code",
   "execution_count": 35,
   "metadata": {},
   "outputs": [
    {
     "data": {
      "text/plain": [
       "(278292, 18)"
      ]
     },
     "execution_count": 35,
     "metadata": {},
     "output_type": "execute_result"
    }
   ],
   "source": [
    "data_v = data_df_normalized.to_numpy()\n",
    "data_v.shape"
   ]
  },
  {
   "cell_type": "code",
   "execution_count": 36,
   "metadata": {},
   "outputs": [
    {
     "name": "stdout",
     "output_type": "stream",
     "text": [
      "n_components = 18\n",
      "whiten = True\n",
      "---- Using sklearn method ----\n"
     ]
    },
    {
     "data": {
      "text/plain": [
       "<Figure size 432x288 with 0 Axes>"
      ]
     },
     "metadata": {},
     "output_type": "display_data"
    },
    {
     "data": {
      "image/png": "[encoded data removed]",
      "text/plain": [
       "<Figure size 432x288 with 1 Axes>"
      ]
     },
     "metadata": {
      "needs_background": "light"
     },
     "output_type": "display_data"
    }
   ],
   "source": [
    "dr = reload(dr)\n",
    "data_analyzed = dr.pca_analysis(data_v,\n",
    "                                n_components=data_v.shape[-1],\n",
    "                                whiten=True,\n",
    "                                plot_sqrt_eigvals=True)"
   ]
  },
  {
   "cell_type": "code",
   "execution_count": 37,
   "metadata": {},
   "outputs": [
    {
     "data": {
      "text/plain": [
       "<Figure size 432x288 with 0 Axes>"
      ]
     },
     "metadata": {},
     "output_type": "display_data"
    },
    {
     "data": {
      "image/png": "[encoded data removed]",
      "text/plain": [
       "<Figure size 432x288 with 1 Axes>"
      ]
     },
     "metadata": {
      "needs_background": "light"
     },
     "output_type": "display_data"
    }
   ],
   "source": [
    "dr.plot_variance_explained(data_analyzed)"
   ]
  },
  {
   "cell_type": "code",
   "execution_count": 38,
   "metadata": {},
   "outputs": [
    {
     "data": {
      "text/plain": [
       "array([0.24358275, 0.39851786, 0.53504943, 0.61538891, 0.69121311,\n",
       "       0.75457606, 0.81475647, 0.86183718, 0.90075796, 0.92839675,\n",
       "       0.95132215, 0.97077071, 0.98244248, 0.99170941, 0.9957869 ,\n",
       "       0.99866557, 0.99953143, 1.        ])"
      ]
     },
     "execution_count": 38,
     "metadata": {},
     "output_type": "execute_result"
    }
   ],
   "source": [
    "data_analyzed[\"percent_variance_explained_up_to_n_comp\"]"
   ]
  },
  {
   "cell_type": "code",
   "execution_count": 40,
   "metadata": {},
   "outputs": [],
   "source": [
    "axon_data_pca = data_analyzed[\"data_proj\"][axon_indices]\n",
    "basal_data_pca = data_analyzed[\"data_proj\"][basal_indices]\n",
    "apical_data_pca = data_analyzed[\"data_proj\"][apical_indices]\n",
    "data_total_pca = data_analyzed[\"data_proj\"]"
   ]
  },
  {
   "cell_type": "code",
   "execution_count": 41,
   "metadata": {},
   "outputs": [
    {
     "name": "stdout",
     "output_type": "stream",
     "text": [
      "Average Log likelihood = -7.832771789605084\n",
      "Convergence status = True\n",
      "Total time for GMM = 35.753939628601074\n"
     ]
    }
   ],
   "source": [
    "# Doing the GMM\n",
    "K = 4\n",
    "covariance_type = \"full\"\n",
    "curr_data = data_total_pca\n",
    "\n",
    "st_time = time.time()\n",
    "\n",
    "#1) Training the GMM\n",
    "gmm = mixture.GaussianMixture(n_components=K, \n",
    "                              covariance_type=covariance_type,\n",
    "                             reg_covar=0.000001,\n",
    "                             init_params=\"kmeans\")\n",
    "gmm.fit(curr_data)\n",
    "\n",
    "# Getting the Average Log likelihood:\n",
    "average_log_likelihood_train = gmm.score(curr_data)\n",
    "print(f\"Average Log likelihood = {average_log_likelihood_train}\")\n",
    "print(f\"Convergence status = {gmm.converged_}\")\n",
    "print(f\"Total time for GMM = {time.time() - st_time}\")\n"
   ]
  },
  {
   "cell_type": "code",
   "execution_count": 42,
   "metadata": {},
   "outputs": [
    {
     "name": "stdout",
     "output_type": "stream",
     "text": [
      "Classification: Counter({2: 112461, 1: 73319, 3: 50544, 0: 41968})\n",
      "Classification: Counter({1: 5729, 3: 1615, 2: 977, 0: 464})\n",
      "Classification: Counter({2: 17844, 1: 8109, 3: 7395, 0: 6544})\n",
      "Classification: Counter({2: 13020, 1: 6268, 0: 3124, 3: 3066})\n"
     ]
    },
    {
     "data": {
      "text/plain": [
       "array([0, 3, 2, ..., 2, 2, 2])"
      ]
     },
     "execution_count": 42,
     "metadata": {},
     "output_type": "execute_result"
    }
   ],
   "source": [
    "gmm_classification(gmm,data_total_pca)\n",
    "gmm_classification(gmm,axon_data_pca)\n",
    "gmm_classification(gmm,basal_data_pca)\n",
    "gmm_classification(gmm,apical_data_pca)"
   ]
  },
  {
   "cell_type": "code",
   "execution_count": 46,
   "metadata": {},
   "outputs": [
    {
     "data": {
      "text/html": [
       "<div>\n",
       "<style scoped>\n",
       "    .dataframe tbody tr th:only-of-type {\n",
       "        vertical-align: middle;\n",
       "    }\n",
       "\n",
       "    .dataframe tbody tr th {\n",
       "        vertical-align: top;\n",
       "    }\n",
       "\n",
       "    .dataframe thead th {\n",
       "        text-align: right;\n",
       "    }\n",
       "</style>\n",
       "<table border=\"1\" class=\"dataframe\">\n",
       "  <thead>\n",
       "    <tr style=\"text-align: right;\">\n",
       "      <th></th>\n",
       "      <th>n0_width_median_mesh_center</th>\n",
       "      <th>n0_width_no_spine_median_mesh_center</th>\n",
       "      <th>n0_n_spines</th>\n",
       "      <th>n0_total_spine_volume</th>\n",
       "      <th>n0_spine_volume_median</th>\n",
       "      <th>n0_spine_volume_density</th>\n",
       "      <th>n0_skeletal_length</th>\n",
       "      <th>n0_parent_angle</th>\n",
       "      <th>n0_sibling_angle</th>\n",
       "      <th>n1_width_median_mesh_center</th>\n",
       "      <th>n1_width_no_spine_median_mesh_center</th>\n",
       "      <th>n1_n_spines</th>\n",
       "      <th>n1_total_spine_volume</th>\n",
       "      <th>n1_spine_volume_median</th>\n",
       "      <th>n1_spine_volume_density</th>\n",
       "      <th>n1_skeletal_length</th>\n",
       "      <th>n1_parent_angle</th>\n",
       "      <th>n1_sibling_angle</th>\n",
       "    </tr>\n",
       "  </thead>\n",
       "  <tbody>\n",
       "    <tr>\n",
       "      <th>0</th>\n",
       "      <td>431.336638</td>\n",
       "      <td>383.198902</td>\n",
       "      <td>2.402287e+01</td>\n",
       "      <td>1.805886e+09</td>\n",
       "      <td>6.842836e+07</td>\n",
       "      <td>5.085130e+04</td>\n",
       "      <td>42821.319965</td>\n",
       "      <td>38.141330</td>\n",
       "      <td>78.359381</td>\n",
       "      <td>364.215671</td>\n",
       "      <td>311.350545</td>\n",
       "      <td>23.864028</td>\n",
       "      <td>1.504725e+09</td>\n",
       "      <td>5.142070e+07</td>\n",
       "      <td>45906.287641</td>\n",
       "      <td>42716.316624</td>\n",
       "      <td>28.655761</td>\n",
       "      <td>76.989951</td>\n",
       "    </tr>\n",
       "    <tr>\n",
       "      <th>1</th>\n",
       "      <td>381.798835</td>\n",
       "      <td>381.798835</td>\n",
       "      <td>6.910028e-13</td>\n",
       "      <td>5.078316e-05</td>\n",
       "      <td>3.285706e-06</td>\n",
       "      <td>1.717126e-09</td>\n",
       "      <td>7930.209634</td>\n",
       "      <td>43.940649</td>\n",
       "      <td>91.343552</td>\n",
       "      <td>293.106155</td>\n",
       "      <td>275.916557</td>\n",
       "      <td>12.745740</td>\n",
       "      <td>8.601858e+08</td>\n",
       "      <td>3.146374e+07</td>\n",
       "      <td>18430.554008</td>\n",
       "      <td>33180.309515</td>\n",
       "      <td>44.197874</td>\n",
       "      <td>83.355553</td>\n",
       "    </tr>\n",
       "    <tr>\n",
       "      <th>2</th>\n",
       "      <td>455.490224</td>\n",
       "      <td>444.259786</td>\n",
       "      <td>4.570388e+00</td>\n",
       "      <td>3.205405e+08</td>\n",
       "      <td>5.692542e+07</td>\n",
       "      <td>2.099111e+04</td>\n",
       "      <td>13638.538505</td>\n",
       "      <td>38.354037</td>\n",
       "      <td>80.555761</td>\n",
       "      <td>375.936263</td>\n",
       "      <td>330.069393</td>\n",
       "      <td>29.457036</td>\n",
       "      <td>1.925346e+09</td>\n",
       "      <td>4.897791e+07</td>\n",
       "      <td>38893.180862</td>\n",
       "      <td>49368.017154</td>\n",
       "      <td>35.753720</td>\n",
       "      <td>71.643322</td>\n",
       "    </tr>\n",
       "    <tr>\n",
       "      <th>3</th>\n",
       "      <td>375.098601</td>\n",
       "      <td>344.533685</td>\n",
       "      <td>1.899059e+01</td>\n",
       "      <td>1.339531e+09</td>\n",
       "      <td>5.009561e+07</td>\n",
       "      <td>3.128333e+04</td>\n",
       "      <td>41324.138641</td>\n",
       "      <td>40.019381</td>\n",
       "      <td>78.595551</td>\n",
       "      <td>170.565612</td>\n",
       "      <td>170.564786</td>\n",
       "      <td>0.000928</td>\n",
       "      <td>8.612391e+04</td>\n",
       "      <td>3.163661e+03</td>\n",
       "      <td>3.748558</td>\n",
       "      <td>7851.463488</td>\n",
       "      <td>68.108268</td>\n",
       "      <td>90.515328</td>\n",
       "    </tr>\n",
       "  </tbody>\n",
       "</table>\n",
       "</div>"
      ],
      "text/plain": [
       "   n0_width_median_mesh_center  n0_width_no_spine_median_mesh_center  \\\n",
       "0                   431.336638                            383.198902   \n",
       "1                   381.798835                            381.798835   \n",
       "2                   455.490224                            444.259786   \n",
       "3                   375.098601                            344.533685   \n",
       "\n",
       "    n0_n_spines  n0_total_spine_volume  n0_spine_volume_median  \\\n",
       "0  2.402287e+01           1.805886e+09            6.842836e+07   \n",
       "1  6.910028e-13           5.078316e-05            3.285706e-06   \n",
       "2  4.570388e+00           3.205405e+08            5.692542e+07   \n",
       "3  1.899059e+01           1.339531e+09            5.009561e+07   \n",
       "\n",
       "   n0_spine_volume_density  n0_skeletal_length  n0_parent_angle  \\\n",
       "0             5.085130e+04        42821.319965        38.141330   \n",
       "1             1.717126e-09         7930.209634        43.940649   \n",
       "2             2.099111e+04        13638.538505        38.354037   \n",
       "3             3.128333e+04        41324.138641        40.019381   \n",
       "\n",
       "   n0_sibling_angle  n1_width_median_mesh_center  \\\n",
       "0         78.359381                   364.215671   \n",
       "1         91.343552                   293.106155   \n",
       "2         80.555761                   375.936263   \n",
       "3         78.595551                   170.565612   \n",
       "\n",
       "   n1_width_no_spine_median_mesh_center  n1_n_spines  n1_total_spine_volume  \\\n",
       "0                            311.350545    23.864028           1.504725e+09   \n",
       "1                            275.916557    12.745740           8.601858e+08   \n",
       "2                            330.069393    29.457036           1.925346e+09   \n",
       "3                            170.564786     0.000928           8.612391e+04   \n",
       "\n",
       "   n1_spine_volume_median  n1_spine_volume_density  n1_skeletal_length  \\\n",
       "0            5.142070e+07             45906.287641        42716.316624   \n",
       "1            3.146374e+07             18430.554008        33180.309515   \n",
       "2            4.897791e+07             38893.180862        49368.017154   \n",
       "3            3.163661e+03                 3.748558         7851.463488   \n",
       "\n",
       "   n1_parent_angle  n1_sibling_angle  \n",
       "0        28.655761         76.989951  \n",
       "1        44.197874         83.355553  \n",
       "2        35.753720         71.643322  \n",
       "3        68.108268         90.515328  "
      ]
     },
     "execution_count": 46,
     "metadata": {},
     "output_type": "execute_result"
    }
   ],
   "source": [
    "gmm_means_inverse = data_analyzed[\"pca_obj\"].inverse_transform(gmm.means_)\n",
    "rec_means = pd.DataFrame(scaler.inverse_transform(gmm_means_inverse))\n",
    "rec_means.columns = columns_picked\n",
    "rec_means"
   ]
  },
  {
   "cell_type": "markdown",
   "metadata": {},
   "source": [
    "# Try Doing it On PCA (with reduced components)`"
   ]
  },
  {
   "cell_type": "code",
   "execution_count": 47,
   "metadata": {},
   "outputs": [
    {
     "data": {
      "text/plain": [
       "(278292, 18)"
      ]
     },
     "execution_count": 47,
     "metadata": {},
     "output_type": "execute_result"
    }
   ],
   "source": [
    "data_v = data_total_scaled.to_numpy()\n",
    "data_v.shape"
   ]
  },
  {
   "cell_type": "code",
   "execution_count": 48,
   "metadata": {},
   "outputs": [
    {
     "name": "stdout",
     "output_type": "stream",
     "text": [
      "n_components = 4\n",
      "whiten = True\n",
      "---- Using sklearn method ----\n"
     ]
    }
   ],
   "source": [
    "dr = reload(dr)\n",
    "data_analyzed = dr.pca_analysis(data_v,\n",
    "                                n_components=4,\n",
    "                                whiten=True,\n",
    "                                plot_sqrt_eigvals=False)"
   ]
  },
  {
   "cell_type": "code",
   "execution_count": 49,
   "metadata": {},
   "outputs": [
    {
     "data": {
      "text/plain": [
       "0.6153889128340007"
      ]
     },
     "execution_count": 49,
     "metadata": {},
     "output_type": "execute_result"
    }
   ],
   "source": [
    "data_analyzed[\"percent_variance_explained_up_to_n_comp\"][3]"
   ]
  },
  {
   "cell_type": "code",
   "execution_count": 50,
   "metadata": {},
   "outputs": [],
   "source": [
    "axon_data_pca = data_analyzed[\"data_proj\"][axon_indices]\n",
    "basal_data_pca = data_analyzed[\"data_proj\"][basal_indices]\n",
    "apical_data_pca = data_analyzed[\"data_proj\"][apical_indices]\n",
    "data_total_pca = data_analyzed[\"data_proj\"]\n"
   ]
  },
  {
   "cell_type": "code",
   "execution_count": 54,
   "metadata": {},
   "outputs": [
    {
     "name": "stdout",
     "output_type": "stream",
     "text": [
      "Average Log likelihood = -4.707431200587628\n",
      "Convergence status = True\n",
      "Total time for GMM = 3.072582960128784\n"
     ]
    }
   ],
   "source": [
    "# Doing the GMM\n",
    "K = 4\n",
    "covariance_type = \"full\"\n",
    "curr_data = data_total_pca\n",
    "\n",
    "st_time = time.time()\n",
    "\n",
    "#1) Training the GMM\n",
    "gmm = mixture.GaussianMixture(n_components=K, \n",
    "                              covariance_type=covariance_type,\n",
    "                             reg_covar=0.000001,\n",
    "                             init_params=\"kmeans\")\n",
    "gmm.fit(curr_data)\n",
    "\n",
    "# Getting the Average Log likelihood:\n",
    "average_log_likelihood_train = gmm.score(curr_data)\n",
    "print(f\"Average Log likelihood = {average_log_likelihood_train}\")\n",
    "print(f\"Convergence status = {gmm.converged_}\")\n",
    "print(f\"Total time for GMM = {time.time() - st_time}\")\n"
   ]
  },
  {
   "cell_type": "code",
   "execution_count": 55,
   "metadata": {},
   "outputs": [
    {
     "name": "stdout",
     "output_type": "stream",
     "text": [
      "Classification: Counter({3: 104675, 1: 97111, 0: 49227, 2: 27279})\n",
      "Classification: Counter({0: 5892, 1: 1818, 3: 780, 2: 295})\n",
      "Classification: Counter({3: 17354, 1: 13333, 0: 4820, 2: 4385})\n",
      "Classification: Counter({1: 13323, 3: 9440, 2: 1511, 0: 1204})\n"
     ]
    },
    {
     "data": {
      "text/plain": [
       "array([3, 0, 3, ..., 3, 1, 3])"
      ]
     },
     "execution_count": 55,
     "metadata": {},
     "output_type": "execute_result"
    }
   ],
   "source": [
    "gmm_classification(gmm,data_total_pca)\n",
    "gmm_classification(gmm,axon_data_pca)\n",
    "gmm_classification(gmm,basal_data_pca)\n",
    "gmm_classification(gmm,apical_data_pca)"
   ]
  },
  {
   "cell_type": "code",
   "execution_count": 56,
   "metadata": {},
   "outputs": [
    {
     "data": {
      "text/html": [
       "<div>\n",
       "<style scoped>\n",
       "    .dataframe tbody tr th:only-of-type {\n",
       "        vertical-align: middle;\n",
       "    }\n",
       "\n",
       "    .dataframe tbody tr th {\n",
       "        vertical-align: top;\n",
       "    }\n",
       "\n",
       "    .dataframe thead th {\n",
       "        text-align: right;\n",
       "    }\n",
       "</style>\n",
       "<table border=\"1\" class=\"dataframe\">\n",
       "  <thead>\n",
       "    <tr style=\"text-align: right;\">\n",
       "      <th></th>\n",
       "      <th>n0_width_median_mesh_center</th>\n",
       "      <th>n0_width_no_spine_median_mesh_center</th>\n",
       "      <th>n0_n_spines</th>\n",
       "      <th>n0_total_spine_volume</th>\n",
       "      <th>n0_spine_volume_median</th>\n",
       "      <th>n0_spine_volume_density</th>\n",
       "      <th>n0_skeletal_length</th>\n",
       "      <th>n0_parent_angle</th>\n",
       "      <th>n0_sibling_angle</th>\n",
       "      <th>n1_width_median_mesh_center</th>\n",
       "      <th>n1_width_no_spine_median_mesh_center</th>\n",
       "      <th>n1_n_spines</th>\n",
       "      <th>n1_total_spine_volume</th>\n",
       "      <th>n1_spine_volume_median</th>\n",
       "      <th>n1_spine_volume_density</th>\n",
       "      <th>n1_skeletal_length</th>\n",
       "      <th>n1_parent_angle</th>\n",
       "      <th>n1_sibling_angle</th>\n",
       "    </tr>\n",
       "  </thead>\n",
       "  <tbody>\n",
       "    <tr>\n",
       "      <th>0</th>\n",
       "      <td>251.630142</td>\n",
       "      <td>239.559612</td>\n",
       "      <td>8.872889</td>\n",
       "      <td>3.280799e+08</td>\n",
       "      <td>1.752033e+07</td>\n",
       "      <td>-693.748033</td>\n",
       "      <td>27683.567151</td>\n",
       "      <td>49.466815</td>\n",
       "      <td>91.332027</td>\n",
       "      <td>117.596885</td>\n",
       "      <td>120.830542</td>\n",
       "      <td>-0.018422</td>\n",
       "      <td>-1.356118e+08</td>\n",
       "      <td>1.214728e+06</td>\n",
       "      <td>-2952.448923</td>\n",
       "      <td>18180.461785</td>\n",
       "      <td>62.265292</td>\n",
       "      <td>92.535869</td>\n",
       "    </tr>\n",
       "    <tr>\n",
       "      <th>1</th>\n",
       "      <td>514.676390</td>\n",
       "      <td>504.698364</td>\n",
       "      <td>2.232804</td>\n",
       "      <td>-6.912737e+07</td>\n",
       "      <td>3.551143e+07</td>\n",
       "      <td>3811.253155</td>\n",
       "      <td>10770.635511</td>\n",
       "      <td>37.478582</td>\n",
       "      <td>84.392364</td>\n",
       "      <td>402.402655</td>\n",
       "      <td>378.584119</td>\n",
       "      <td>7.746533</td>\n",
       "      <td>5.337428e+08</td>\n",
       "      <td>4.517969e+07</td>\n",
       "      <td>27051.590064</td>\n",
       "      <td>19210.631414</td>\n",
       "      <td>38.899431</td>\n",
       "      <td>80.230988</td>\n",
       "    </tr>\n",
       "    <tr>\n",
       "      <th>2</th>\n",
       "      <td>361.046783</td>\n",
       "      <td>316.153278</td>\n",
       "      <td>31.648049</td>\n",
       "      <td>3.110650e+09</td>\n",
       "      <td>6.277315e+07</td>\n",
       "      <td>84388.024872</td>\n",
       "      <td>55227.266613</td>\n",
       "      <td>37.598996</td>\n",
       "      <td>73.648596</td>\n",
       "      <td>214.059796</td>\n",
       "      <td>192.234439</td>\n",
       "      <td>7.642660</td>\n",
       "      <td>4.608646e+08</td>\n",
       "      <td>2.096200e+07</td>\n",
       "      <td>18896.358973</td>\n",
       "      <td>17786.256267</td>\n",
       "      <td>51.910893</td>\n",
       "      <td>85.874142</td>\n",
       "    </tr>\n",
       "    <tr>\n",
       "      <th>3</th>\n",
       "      <td>421.482599</td>\n",
       "      <td>404.062845</td>\n",
       "      <td>7.627760</td>\n",
       "      <td>6.289586e+08</td>\n",
       "      <td>5.290490e+07</td>\n",
       "      <td>27597.310280</td>\n",
       "      <td>17773.383667</td>\n",
       "      <td>39.179682</td>\n",
       "      <td>80.377336</td>\n",
       "      <td>354.902049</td>\n",
       "      <td>299.578337</td>\n",
       "      <td>40.602264</td>\n",
       "      <td>2.696861e+09</td>\n",
       "      <td>4.725452e+07</td>\n",
       "      <td>43862.578969</td>\n",
       "      <td>66092.548788</td>\n",
       "      <td>34.887273</td>\n",
       "      <td>69.724366</td>\n",
       "    </tr>\n",
       "  </tbody>\n",
       "</table>\n",
       "</div>"
      ],
      "text/plain": [
       "   n0_width_median_mesh_center  n0_width_no_spine_median_mesh_center  \\\n",
       "0                   251.630142                            239.559612   \n",
       "1                   514.676390                            504.698364   \n",
       "2                   361.046783                            316.153278   \n",
       "3                   421.482599                            404.062845   \n",
       "\n",
       "   n0_n_spines  n0_total_spine_volume  n0_spine_volume_median  \\\n",
       "0     8.872889           3.280799e+08            1.752033e+07   \n",
       "1     2.232804          -6.912737e+07            3.551143e+07   \n",
       "2    31.648049           3.110650e+09            6.277315e+07   \n",
       "3     7.627760           6.289586e+08            5.290490e+07   \n",
       "\n",
       "   n0_spine_volume_density  n0_skeletal_length  n0_parent_angle  \\\n",
       "0              -693.748033        27683.567151        49.466815   \n",
       "1              3811.253155        10770.635511        37.478582   \n",
       "2             84388.024872        55227.266613        37.598996   \n",
       "3             27597.310280        17773.383667        39.179682   \n",
       "\n",
       "   n0_sibling_angle  n1_width_median_mesh_center  \\\n",
       "0         91.332027                   117.596885   \n",
       "1         84.392364                   402.402655   \n",
       "2         73.648596                   214.059796   \n",
       "3         80.377336                   354.902049   \n",
       "\n",
       "   n1_width_no_spine_median_mesh_center  n1_n_spines  n1_total_spine_volume  \\\n",
       "0                            120.830542    -0.018422          -1.356118e+08   \n",
       "1                            378.584119     7.746533           5.337428e+08   \n",
       "2                            192.234439     7.642660           4.608646e+08   \n",
       "3                            299.578337    40.602264           2.696861e+09   \n",
       "\n",
       "   n1_spine_volume_median  n1_spine_volume_density  n1_skeletal_length  \\\n",
       "0            1.214728e+06             -2952.448923        18180.461785   \n",
       "1            4.517969e+07             27051.590064        19210.631414   \n",
       "2            2.096200e+07             18896.358973        17786.256267   \n",
       "3            4.725452e+07             43862.578969        66092.548788   \n",
       "\n",
       "   n1_parent_angle  n1_sibling_angle  \n",
       "0        62.265292         92.535869  \n",
       "1        38.899431         80.230988  \n",
       "2        51.910893         85.874142  \n",
       "3        34.887273         69.724366  "
      ]
     },
     "execution_count": 56,
     "metadata": {},
     "output_type": "execute_result"
    }
   ],
   "source": [
    "gmm_means_inverse = data_analyzed[\"pca_obj\"].inverse_transform(gmm.means_)\n",
    "rec_means = pd.DataFrame(scaler.inverse_transform(gmm_means_inverse))\n",
    "rec_means.columns = columns_picked\n",
    "rec_means"
   ]
  },
  {
   "cell_type": "markdown",
   "metadata": {},
   "source": [
    "# Get the statistics on the different groups "
   ]
  },
  {
   "cell_type": "code",
   "execution_count": 59,
   "metadata": {},
   "outputs": [],
   "source": [
    "# getting the mean of a lot of properties\n",
    "\n",
    "df_to_analyze = df_filtered[columns_picked]\n",
    "\n",
    "basal_indices = indices_of_soma_angle(df_filtered,[100,115])\n",
    "axon_indices = indices_of_soma_angle(df_filtered,[165,180])\n",
    "apical_indices = indices_of_soma_angle(df_filtered,[0,20])"
   ]
  },
  {
   "cell_type": "markdown",
   "metadata": {},
   "source": [
    "# Apical Analysis"
   ]
  },
  {
   "cell_type": "code",
   "execution_count": 66,
   "metadata": {},
   "outputs": [
    {
     "data": {
      "text/plain": [
       "array([[<AxesSubplot:>, <AxesSubplot:>, <AxesSubplot:>, <AxesSubplot:>],\n",
       "       [<AxesSubplot:>, <AxesSubplot:>, <AxesSubplot:>, <AxesSubplot:>],\n",
       "       [<AxesSubplot:>, <AxesSubplot:>, <AxesSubplot:>, <AxesSubplot:>],\n",
       "       [<AxesSubplot:>, <AxesSubplot:>, <AxesSubplot:>, <AxesSubplot:>],\n",
       "       [<AxesSubplot:>, <AxesSubplot:>, <AxesSubplot:>, <AxesSubplot:>]],\n",
       "      dtype=object)"
      ]
     },
     "execution_count": 66,
     "metadata": {},
     "output_type": "execute_result"
    }
   ],
   "source": [
    "axes"
   ]
  },
  {
   "cell_type": "code",
   "execution_count": 70,
   "metadata": {},
   "outputs": [
    {
     "data": {
      "text/plain": [
       "0.0"
      ]
     },
     "execution_count": 70,
     "metadata": {},
     "output_type": "execute_result"
    }
   ],
   "source": [
    "row"
   ]
  },
  {
   "cell_type": "code",
   "execution_count": 72,
   "metadata": {},
   "outputs": [
    {
     "data": {
      "text/plain": [
       "['__class__',\n",
       " '__delattr__',\n",
       " '__dict__',\n",
       " '__dir__',\n",
       " '__doc__',\n",
       " '__eq__',\n",
       " '__format__',\n",
       " '__ge__',\n",
       " '__getattribute__',\n",
       " '__getstate__',\n",
       " '__gt__',\n",
       " '__hash__',\n",
       " '__init__',\n",
       " '__init_subclass__',\n",
       " '__le__',\n",
       " '__lt__',\n",
       " '__module__',\n",
       " '__ne__',\n",
       " '__new__',\n",
       " '__reduce__',\n",
       " '__reduce_ex__',\n",
       " '__repr__',\n",
       " '__setattr__',\n",
       " '__setstate__',\n",
       " '__sizeof__',\n",
       " '__str__',\n",
       " '__subclasshook__',\n",
       " '__weakref__',\n",
       " '_add_axes_internal',\n",
       " '_agg_filter',\n",
       " '_align_xlabel_grp',\n",
       " '_align_ylabel_grp',\n",
       " '_alpha',\n",
       " '_animated',\n",
       " '_axobservers',\n",
       " '_axstack',\n",
       " '_cachedRenderer',\n",
       " '_clipon',\n",
       " '_clippath',\n",
       " '_constrained',\n",
       " '_constrained_layout_pads',\n",
       " '_contains',\n",
       " '_default_contains',\n",
       " '_dpi',\n",
       " '_gci',\n",
       " '_get_clipping_extent_bbox',\n",
       " '_get_dpi',\n",
       " '_gid',\n",
       " '_gridspecs',\n",
       " '_in_layout',\n",
       " '_label',\n",
       " '_layoutbox',\n",
       " '_make_key',\n",
       " '_mouseover',\n",
       " '_normalize_grid_string',\n",
       " '_oid',\n",
       " '_path_effects',\n",
       " '_picker',\n",
       " '_process_projection_requirements',\n",
       " '_propobservers',\n",
       " '_rasterized',\n",
       " '_remove_method',\n",
       " '_repr_html_',\n",
       " '_set_artist_props',\n",
       " '_set_dpi',\n",
       " '_set_gc_clip',\n",
       " '_sketch',\n",
       " '_snap',\n",
       " '_stale',\n",
       " '_sticky_edges',\n",
       " '_suptitle',\n",
       " '_tight',\n",
       " '_tight_parameters',\n",
       " '_transform',\n",
       " '_transformSet',\n",
       " '_url',\n",
       " '_visible',\n",
       " 'add_artist',\n",
       " 'add_axes',\n",
       " 'add_axobserver',\n",
       " 'add_callback',\n",
       " 'add_gridspec',\n",
       " 'add_subplot',\n",
       " 'align_labels',\n",
       " 'align_xlabels',\n",
       " 'align_ylabels',\n",
       " 'artists',\n",
       " 'autofmt_xdate',\n",
       " 'axes',\n",
       " 'bbox',\n",
       " 'bbox_inches',\n",
       " 'callbacks',\n",
       " 'canvas',\n",
       " 'clear',\n",
       " 'clf',\n",
       " 'clipbox',\n",
       " 'colorbar',\n",
       " 'contains',\n",
       " 'convert_xunits',\n",
       " 'convert_yunits',\n",
       " 'delaxes',\n",
       " 'dpi',\n",
       " 'dpi_scale_trans',\n",
       " 'draw',\n",
       " 'draw_artist',\n",
       " 'eventson',\n",
       " 'execute_constrained_layout',\n",
       " 'figimage',\n",
       " 'figure',\n",
       " 'findobj',\n",
       " 'format_cursor_data',\n",
       " 'frameon',\n",
       " 'gca',\n",
       " 'get_agg_filter',\n",
       " 'get_alpha',\n",
       " 'get_animated',\n",
       " 'get_axes',\n",
       " 'get_children',\n",
       " 'get_clip_box',\n",
       " 'get_clip_on',\n",
       " 'get_clip_path',\n",
       " 'get_constrained_layout',\n",
       " 'get_constrained_layout_pads',\n",
       " 'get_contains',\n",
       " 'get_cursor_data',\n",
       " 'get_default_bbox_extra_artists',\n",
       " 'get_dpi',\n",
       " 'get_edgecolor',\n",
       " 'get_facecolor',\n",
       " 'get_figheight',\n",
       " 'get_figure',\n",
       " 'get_figwidth',\n",
       " 'get_frameon',\n",
       " 'get_gid',\n",
       " 'get_in_layout',\n",
       " 'get_label',\n",
       " 'get_path_effects',\n",
       " 'get_picker',\n",
       " 'get_rasterized',\n",
       " 'get_size_inches',\n",
       " 'get_sketch_params',\n",
       " 'get_snap',\n",
       " 'get_tight_layout',\n",
       " 'get_tightbbox',\n",
       " 'get_transform',\n",
       " 'get_transformed_clip_path_and_affine',\n",
       " 'get_url',\n",
       " 'get_visible',\n",
       " 'get_window_extent',\n",
       " 'get_zorder',\n",
       " 'ginput',\n",
       " 'have_units',\n",
       " 'images',\n",
       " 'init_layoutbox',\n",
       " 'is_transform_set',\n",
       " 'legend',\n",
       " 'legends',\n",
       " 'lines',\n",
       " 'mouseover',\n",
       " 'number',\n",
       " 'patch',\n",
       " 'patches',\n",
       " 'pchanged',\n",
       " 'pick',\n",
       " 'pickable',\n",
       " 'properties',\n",
       " 'remove',\n",
       " 'remove_callback',\n",
       " 'savefig',\n",
       " 'sca',\n",
       " 'set',\n",
       " 'set_agg_filter',\n",
       " 'set_alpha',\n",
       " 'set_animated',\n",
       " 'set_canvas',\n",
       " 'set_clip_box',\n",
       " 'set_clip_on',\n",
       " 'set_clip_path',\n",
       " 'set_constrained_layout',\n",
       " 'set_constrained_layout_pads',\n",
       " 'set_contains',\n",
       " 'set_dpi',\n",
       " 'set_edgecolor',\n",
       " 'set_facecolor',\n",
       " 'set_figheight',\n",
       " 'set_figure',\n",
       " 'set_figwidth',\n",
       " 'set_frameon',\n",
       " 'set_gid',\n",
       " 'set_in_layout',\n",
       " 'set_label',\n",
       " 'set_path_effects',\n",
       " 'set_picker',\n",
       " 'set_rasterized',\n",
       " 'set_size_inches',\n",
       " 'set_sketch_params',\n",
       " 'set_snap',\n",
       " 'set_tight_layout',\n",
       " 'set_transform',\n",
       " 'set_url',\n",
       " 'set_visible',\n",
       " 'set_zorder',\n",
       " 'show',\n",
       " 'stale',\n",
       " 'stale_callback',\n",
       " 'sticky_edges',\n",
       " 'subplot_mosaic',\n",
       " 'subplotpars',\n",
       " 'subplots',\n",
       " 'subplots_adjust',\n",
       " 'suppressComposite',\n",
       " 'suptitle',\n",
       " 'text',\n",
       " 'texts',\n",
       " 'tight_layout',\n",
       " 'transFigure',\n",
       " 'update',\n",
       " 'update_from',\n",
       " 'waitforbuttonpress',\n",
       " 'zorder']"
      ]
     },
     "execution_count": 72,
     "metadata": {},
     "output_type": "execute_result"
    }
   ],
   "source": [
    "dir(fig)"
   ]
  },
  {
   "cell_type": "code",
   "execution_count": 82,
   "metadata": {},
   "outputs": [
    {
     "data": {
      "image/png": "[encoded data removed]",
      "text/plain": [
       "<Figure size 1332x756 with 20 Axes>"
      ]
     },
     "metadata": {
      "needs_background": "light"
     },
     "output_type": "display_data"
    }
   ],
   "source": [
    "def plot_table_histograms(tables_to_plot,tables_labels,fig_title=None):\n",
    "    curr_table = apical_table\n",
    "\n",
    "    fig,axes = plt.subplots(5,4)\n",
    "    fig.set_size_inches(18.5, 10.5)\n",
    "    fig.tight_layout()\n",
    "    \n",
    "    if not fig_title is None:\n",
    "        fig.title(fig_title)\n",
    "\n",
    "    \n",
    "    for j,col_title in enumerate(curr_table):\n",
    "        row = np.floor(j/4).astype(\"int\")\n",
    "        column = j - row*4\n",
    "        ax = axes[row,column]\n",
    "        ax.set_title(col_title)\n",
    "        \n",
    "        for curr_table,curr_table_name in zip(tables_to_plot,tables_labels):\n",
    "            curr_data = curr_table[col_title].to_numpy()\n",
    "            ax.hist(curr_data,bins=50,label=curr_table_name,alpha=0.4,density=True)\n",
    "            \n",
    "        ax.legend()\n",
    "\n",
    "        \n",
    "apical_table = df_to_analyze.iloc[apical_indices]\n",
    "basal_table = df_to_analyze.iloc[basal_indices]\n",
    "axon_table = df_to_analyze.iloc[axon_indices]\n",
    "plot_table_histograms([apical_table,basal_table,axon_table],[\"apical\",\"basal\",\"axon\"])"
   ]
  },
  {
   "cell_type": "code",
   "execution_count": 83,
   "metadata": {},
   "outputs": [
    {
     "data": {
      "text/plain": [
       "(array([0.00174422, 0.00454415, 0.00615067, 0.00776867, 0.00957026,\n",
       "        0.01148661, 0.01456195, 0.01605371, 0.01793563, 0.01932413,\n",
       "        0.01817661, 0.01631764, 0.01512423, 0.0148603 , 0.01497505,\n",
       "        0.01456195, 0.01420622, 0.01290953, 0.0125079 , 0.01095875,\n",
       "        0.00929486, 0.00767686, 0.00611625, 0.00403925, 0.00236388,\n",
       "        0.00218028, 0.00162947, 0.00117046, 0.00071146, 0.00058523,\n",
       "        0.00034425, 0.00034425, 0.0002754 , 0.00021803, 0.00011475,\n",
       "        0.0001377 , 0.0001836 , 0.00012623, 0.00012623, 0.00020655,\n",
       "        0.00011475, 0.0000918 , 0.0000918 , 0.00006885, 0.00011475,\n",
       "        0.00011475, 0.00006885, 0.0000459 , 0.00002295, 0.0000459 ]),\n",
       " array([  0.14  ,   3.5604,   6.9808,  10.4012,  13.8216,  17.242 ,\n",
       "         20.6624,  24.0828,  27.5032,  30.9236,  34.344 ,  37.7644,\n",
       "         41.1848,  44.6052,  48.0256,  51.446 ,  54.8664,  58.2868,\n",
       "         61.7072,  65.1276,  68.548 ,  71.9684,  75.3888,  78.8092,\n",
       "         82.2296,  85.65  ,  89.0704,  92.4908,  95.9112,  99.3316,\n",
       "        102.752 , 106.1724, 109.5928, 113.0132, 116.4336, 119.854 ,\n",
       "        123.2744, 126.6948, 130.1152, 133.5356, 136.956 , 140.3764,\n",
       "        143.7968, 147.2172, 150.6376, 154.058 , 157.4784, 160.8988,\n",
       "        164.3192, 167.7396, 171.16  ]),\n",
       " <BarContainer object of 50 artists>)"
      ]
     },
     "execution_count": 83,
     "metadata": {},
     "output_type": "execute_result"
    },
    {
     "data": {
      "image/png": "[encoded data removed]",
      "text/plain": [
       "<Figure size 432x288 with 1 Axes>"
      ]
     },
     "metadata": {
      "needs_background": "light"
     },
     "output_type": "display_data"
    }
   ],
   "source": [
    "plt.hist(apical_table[\"n0_parent_angle\"].to_numpy(),density=True,bins=50)"
   ]
  },
  {
   "cell_type": "markdown",
   "metadata": {},
   "source": [
    "# Variational Inference"
   ]
  },
  {
   "cell_type": "code",
   "execution_count": 1,
   "metadata": {},
   "outputs": [],
   "source": [
    "from os import sys\n",
    "sys.path.append(\"/notebooks/Neurosignal_Final/PRML/\")"
   ]
  },
  {
   "cell_type": "code",
   "execution_count": 2,
   "metadata": {},
   "outputs": [],
   "source": [
    "from prml.rv import VariationalGaussianMixture"
   ]
  },
  {
   "cell_type": "code",
   "execution_count": 3,
   "metadata": {},
   "outputs": [],
   "source": [
    "vgmm = VariationalGaussianMixture(n_components=6)"
   ]
  },
  {
   "cell_type": "code",
   "execution_count": null,
   "metadata": {},
   "outputs": [],
   "source": []
  }
 ],
 "metadata": {
  "kernelspec": {
   "display_name": "Python 3",
   "language": "python",
   "name": "python3"
  },
  "language_info": {
   "codemirror_mode": {
    "name": "ipython",
    "version": 3
   },
   "file_extension": ".py",
   "mimetype": "text/x-python",
   "name": "python",
   "nbconvert_exporter": "python",
   "pygments_lexer": "ipython3",
   "version": "3.6.9"
  }
 },
 "nbformat": 4,
 "nbformat_minor": 4
}
