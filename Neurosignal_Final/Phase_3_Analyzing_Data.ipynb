{
 "cells": [
  {
   "cell_type": "code",
   "execution_count": null,
   "metadata": {},
   "outputs": [],
   "source": []
  },
  {
   "cell_type": "code",
   "execution_count": null,
   "metadata": {},
   "outputs": [],
   "source": []
  },
  {
   "cell_type": "code",
   "execution_count": null,
   "metadata": {},
   "outputs": [],
   "source": [
    "\"\"\"\n",
    "To Analyze the \n",
    "\n",
    "\n",
    "\"\"\""
   ]
  },
  {
   "cell_type": "code",
   "execution_count": 1,
   "metadata": {},
   "outputs": [],
   "source": [
    "from os import sys\n",
    "sys.path.append(\"/meshAfterParty/\")\n",
    "%matplotlib inline"
   ]
  },
  {
   "cell_type": "code",
   "execution_count": 2,
   "metadata": {},
   "outputs": [],
   "source": [
    "import pandas as pd\n",
    "import numpy as np\n",
    "import matplotlib.pyplot as plt\n",
    "from importlib import reload\n",
    "\n",
    "import dimensionality_reduction_utils as dr\n",
    "import clustering_utils as cl\n",
    "dr = reload(dr)\n",
    "cl = reload(cl)\n",
    "import pandas_utils as pu\n",
    "\n",
    "from sklearn.preprocessing import StandardScaler\n",
    "import time\n",
    "from collections import Counter\n",
    "import copy\n",
    "np.set_printoptions(suppress=True)"
   ]
  },
  {
   "cell_type": "code",
   "execution_count": 11,
   "metadata": {},
   "outputs": [],
   "source": [
    "from sklearn import mixture"
   ]
  },
  {
   "cell_type": "markdown",
   "metadata": {},
   "source": [
    "# Importing the Data"
   ]
  },
  {
   "cell_type": "code",
   "execution_count": 3,
   "metadata": {},
   "outputs": [],
   "source": [
    "df = pd.read_pickle(\"neuron_dendrite_path_data\")\n",
    "df_filtered = pu.filter_away_nan_rows(df)"
   ]
  },
  {
   "cell_type": "markdown",
   "metadata": {},
   "source": [
    "# Get the distribution of the limb starts "
   ]
  },
  {
   "cell_type": "code",
   "execution_count": 4,
   "metadata": {},
   "outputs": [
    {
     "data": {
      "image/png": "[encoded data removed]",
      "text/plain": [
       "<Figure size 432x288 with 1 Axes>"
      ]
     },
     "metadata": {
      "needs_background": "light"
     },
     "output_type": "display_data"
    }
   ],
   "source": [
    "soma_angles =df_filtered[::4][\"soma_angle\"].to_numpy()\n",
    "bin_data = plt.hist(soma_angles,bins=30)"
   ]
  },
  {
   "cell_type": "markdown",
   "metadata": {},
   "source": [
    "# Extracting the Vectors we want to process (not excluding the soma angle)"
   ]
  },
  {
   "cell_type": "code",
   "execution_count": 5,
   "metadata": {},
   "outputs": [
    {
     "data": {
      "text/plain": [
       "array(['n0_width_median_mesh_center',\n",
       "       'n0_width_no_spine_median_mesh_center', 'n0_n_spines',\n",
       "       'n0_total_spine_volume', 'n0_spine_volume_median',\n",
       "       'n0_spine_volume_density', 'n0_skeletal_length', 'n0_parent_angle',\n",
       "       'n0_sibling_angle', 'n1_width_median_mesh_center',\n",
       "       'n1_width_no_spine_median_mesh_center', 'n1_n_spines',\n",
       "       'n1_total_spine_volume', 'n1_spine_volume_median',\n",
       "       'n1_spine_volume_density', 'n1_skeletal_length', 'n1_parent_angle',\n",
       "       'n1_sibling_angle'], dtype=object)"
      ]
     },
     "execution_count": 5,
     "metadata": {},
     "output_type": "execute_result"
    }
   ],
   "source": [
    "columns_picked = df_filtered.columns[6:].to_numpy()\n",
    "columns_picked"
   ]
  },
  {
   "cell_type": "code",
   "execution_count": 6,
   "metadata": {},
   "outputs": [
    {
     "data": {
      "text/html": [
       "<div>\n",
       "<style scoped>\n",
       "    .dataframe tbody tr th:only-of-type {\n",
       "        vertical-align: middle;\n",
       "    }\n",
       "\n",
       "    .dataframe tbody tr th {\n",
       "        vertical-align: top;\n",
       "    }\n",
       "\n",
       "    .dataframe thead th {\n",
       "        text-align: right;\n",
       "    }\n",
       "</style>\n",
       "<table border=\"1\" class=\"dataframe\">\n",
       "  <thead>\n",
       "    <tr style=\"text-align: right;\">\n",
       "      <th></th>\n",
       "      <th>n0_width_median_mesh_center</th>\n",
       "      <th>n0_width_no_spine_median_mesh_center</th>\n",
       "      <th>n0_n_spines</th>\n",
       "      <th>n0_total_spine_volume</th>\n",
       "      <th>n0_spine_volume_median</th>\n",
       "      <th>n0_spine_volume_density</th>\n",
       "      <th>n0_skeletal_length</th>\n",
       "      <th>n0_parent_angle</th>\n",
       "      <th>n0_sibling_angle</th>\n",
       "      <th>n1_width_median_mesh_center</th>\n",
       "      <th>n1_width_no_spine_median_mesh_center</th>\n",
       "      <th>n1_n_spines</th>\n",
       "      <th>n1_total_spine_volume</th>\n",
       "      <th>n1_spine_volume_median</th>\n",
       "      <th>n1_spine_volume_density</th>\n",
       "      <th>n1_skeletal_length</th>\n",
       "      <th>n1_parent_angle</th>\n",
       "      <th>n1_sibling_angle</th>\n",
       "    </tr>\n",
       "  </thead>\n",
       "  <tbody>\n",
       "    <tr>\n",
       "      <th>0</th>\n",
       "      <td>-1.307408</td>\n",
       "      <td>-1.211303</td>\n",
       "      <td>-0.563713</td>\n",
       "      <td>-0.393487</td>\n",
       "      <td>-0.820227</td>\n",
       "      <td>-0.348209</td>\n",
       "      <td>-0.658634</td>\n",
       "      <td>-0.555927</td>\n",
       "      <td>2.580471</td>\n",
       "      <td>0.081006</td>\n",
       "      <td>0.289593</td>\n",
       "      <td>-0.593209</td>\n",
       "      <td>-0.622582</td>\n",
       "      <td>0.357911</td>\n",
       "      <td>-0.830670</td>\n",
       "      <td>0.882914</td>\n",
       "      <td>-1.052724</td>\n",
       "      <td>0.656866</td>\n",
       "    </tr>\n",
       "    <tr>\n",
       "      <th>1</th>\n",
       "      <td>-1.307408</td>\n",
       "      <td>-1.211303</td>\n",
       "      <td>-0.563713</td>\n",
       "      <td>-0.393487</td>\n",
       "      <td>-0.820227</td>\n",
       "      <td>-0.348209</td>\n",
       "      <td>-0.658634</td>\n",
       "      <td>-0.555927</td>\n",
       "      <td>2.580471</td>\n",
       "      <td>-1.312900</td>\n",
       "      <td>-1.230876</td>\n",
       "      <td>-0.752970</td>\n",
       "      <td>-0.732427</td>\n",
       "      <td>-0.901012</td>\n",
       "      <td>-0.917901</td>\n",
       "      <td>-0.616442</td>\n",
       "      <td>1.497255</td>\n",
       "      <td>0.656866</td>\n",
       "    </tr>\n",
       "    <tr>\n",
       "      <th>2</th>\n",
       "      <td>-1.935280</td>\n",
       "      <td>-1.841565</td>\n",
       "      <td>-0.563713</td>\n",
       "      <td>-0.393487</td>\n",
       "      <td>-0.820227</td>\n",
       "      <td>-0.348209</td>\n",
       "      <td>-0.591251</td>\n",
       "      <td>3.478030</td>\n",
       "      <td>2.580471</td>\n",
       "      <td>-1.394242</td>\n",
       "      <td>-1.319978</td>\n",
       "      <td>-0.752970</td>\n",
       "      <td>-0.732427</td>\n",
       "      <td>-0.901012</td>\n",
       "      <td>-0.917901</td>\n",
       "      <td>-0.792687</td>\n",
       "      <td>-0.475669</td>\n",
       "      <td>-1.742013</td>\n",
       "    </tr>\n",
       "    <tr>\n",
       "      <th>3</th>\n",
       "      <td>-1.935280</td>\n",
       "      <td>-1.841565</td>\n",
       "      <td>-0.563713</td>\n",
       "      <td>-0.393487</td>\n",
       "      <td>-0.820227</td>\n",
       "      <td>-0.348209</td>\n",
       "      <td>-0.591251</td>\n",
       "      <td>3.478030</td>\n",
       "      <td>2.580471</td>\n",
       "      <td>-1.534974</td>\n",
       "      <td>-1.474135</td>\n",
       "      <td>-0.752970</td>\n",
       "      <td>-0.732427</td>\n",
       "      <td>-0.901012</td>\n",
       "      <td>-0.917901</td>\n",
       "      <td>-0.778347</td>\n",
       "      <td>-1.384062</td>\n",
       "      <td>-1.742013</td>\n",
       "    </tr>\n",
       "    <tr>\n",
       "      <th>4</th>\n",
       "      <td>-0.312965</td>\n",
       "      <td>-0.213075</td>\n",
       "      <td>-0.563713</td>\n",
       "      <td>-0.393487</td>\n",
       "      <td>-0.820227</td>\n",
       "      <td>-0.348209</td>\n",
       "      <td>-0.459840</td>\n",
       "      <td>-0.177505</td>\n",
       "      <td>-1.244099</td>\n",
       "      <td>0.504117</td>\n",
       "      <td>0.227209</td>\n",
       "      <td>1.004394</td>\n",
       "      <td>0.705289</td>\n",
       "      <td>0.179588</td>\n",
       "      <td>0.621027</td>\n",
       "      <td>0.410959</td>\n",
       "      <td>-0.862051</td>\n",
       "      <td>-0.974313</td>\n",
       "    </tr>\n",
       "    <tr>\n",
       "      <th>...</th>\n",
       "      <td>...</td>\n",
       "      <td>...</td>\n",
       "      <td>...</td>\n",
       "      <td>...</td>\n",
       "      <td>...</td>\n",
       "      <td>...</td>\n",
       "      <td>...</td>\n",
       "      <td>...</td>\n",
       "      <td>...</td>\n",
       "      <td>...</td>\n",
       "      <td>...</td>\n",
       "      <td>...</td>\n",
       "      <td>...</td>\n",
       "      <td>...</td>\n",
       "      <td>...</td>\n",
       "      <td>...</td>\n",
       "      <td>...</td>\n",
       "      <td>...</td>\n",
       "    </tr>\n",
       "    <tr>\n",
       "      <th>278287</th>\n",
       "      <td>0.253897</td>\n",
       "      <td>0.355945</td>\n",
       "      <td>-0.563713</td>\n",
       "      <td>-0.393487</td>\n",
       "      <td>-0.820227</td>\n",
       "      <td>-0.348209</td>\n",
       "      <td>-0.793917</td>\n",
       "      <td>0.329122</td>\n",
       "      <td>1.425331</td>\n",
       "      <td>-0.159848</td>\n",
       "      <td>0.032174</td>\n",
       "      <td>-0.513329</td>\n",
       "      <td>-0.552690</td>\n",
       "      <td>0.338898</td>\n",
       "      <td>-0.468013</td>\n",
       "      <td>-0.365497</td>\n",
       "      <td>1.562012</td>\n",
       "      <td>0.739752</td>\n",
       "    </tr>\n",
       "    <tr>\n",
       "      <th>278288</th>\n",
       "      <td>-0.126348</td>\n",
       "      <td>-0.025747</td>\n",
       "      <td>-0.437556</td>\n",
       "      <td>-0.309463</td>\n",
       "      <td>0.513432</td>\n",
       "      <td>-0.199089</td>\n",
       "      <td>-0.270056</td>\n",
       "      <td>1.352386</td>\n",
       "      <td>1.425331</td>\n",
       "      <td>0.115213</td>\n",
       "      <td>0.003587</td>\n",
       "      <td>0.245533</td>\n",
       "      <td>0.498456</td>\n",
       "      <td>0.372328</td>\n",
       "      <td>0.318889</td>\n",
       "      <td>0.499524</td>\n",
       "      <td>-1.399172</td>\n",
       "      <td>-0.753286</td>\n",
       "    </tr>\n",
       "    <tr>\n",
       "      <th>278289</th>\n",
       "      <td>-0.126348</td>\n",
       "      <td>-0.025747</td>\n",
       "      <td>-0.437556</td>\n",
       "      <td>-0.309463</td>\n",
       "      <td>0.513432</td>\n",
       "      <td>-0.199089</td>\n",
       "      <td>-0.270056</td>\n",
       "      <td>1.352386</td>\n",
       "      <td>1.425331</td>\n",
       "      <td>0.035701</td>\n",
       "      <td>-0.024399</td>\n",
       "      <td>0.285473</td>\n",
       "      <td>-0.003151</td>\n",
       "      <td>-0.399218</td>\n",
       "      <td>-0.382360</td>\n",
       "      <td>1.031757</td>\n",
       "      <td>0.646782</td>\n",
       "      <td>-0.753286</td>\n",
       "    </tr>\n",
       "    <tr>\n",
       "      <th>278290</th>\n",
       "      <td>-0.525829</td>\n",
       "      <td>-0.503808</td>\n",
       "      <td>0.887093</td>\n",
       "      <td>0.578067</td>\n",
       "      <td>-0.179997</td>\n",
       "      <td>0.142657</td>\n",
       "      <td>1.191045</td>\n",
       "      <td>1.376693</td>\n",
       "      <td>-0.934671</td>\n",
       "      <td>-1.387596</td>\n",
       "      <td>-1.312697</td>\n",
       "      <td>-0.752970</td>\n",
       "      <td>-0.732427</td>\n",
       "      <td>-0.901012</td>\n",
       "      <td>-0.917901</td>\n",
       "      <td>-0.804355</td>\n",
       "      <td>2.144463</td>\n",
       "      <td>1.211276</td>\n",
       "    </tr>\n",
       "    <tr>\n",
       "      <th>278291</th>\n",
       "      <td>-0.525829</td>\n",
       "      <td>-0.503808</td>\n",
       "      <td>0.887093</td>\n",
       "      <td>0.578067</td>\n",
       "      <td>-0.179997</td>\n",
       "      <td>0.142657</td>\n",
       "      <td>1.191045</td>\n",
       "      <td>1.376693</td>\n",
       "      <td>-0.934671</td>\n",
       "      <td>-0.727472</td>\n",
       "      <td>-0.589599</td>\n",
       "      <td>-0.393509</td>\n",
       "      <td>-0.563609</td>\n",
       "      <td>-0.642906</td>\n",
       "      <td>-0.647863</td>\n",
       "      <td>-0.037836</td>\n",
       "      <td>-1.081504</td>\n",
       "      <td>1.211276</td>\n",
       "    </tr>\n",
       "  </tbody>\n",
       "</table>\n",
       "<p>278292 rows × 18 columns</p>\n",
       "</div>"
      ],
      "text/plain": [
       "        n0_width_median_mesh_center  n0_width_no_spine_median_mesh_center  \\\n",
       "0                         -1.307408                             -1.211303   \n",
       "1                         -1.307408                             -1.211303   \n",
       "2                         -1.935280                             -1.841565   \n",
       "3                         -1.935280                             -1.841565   \n",
       "4                         -0.312965                             -0.213075   \n",
       "...                             ...                                   ...   \n",
       "278287                     0.253897                              0.355945   \n",
       "278288                    -0.126348                             -0.025747   \n",
       "278289                    -0.126348                             -0.025747   \n",
       "278290                    -0.525829                             -0.503808   \n",
       "278291                    -0.525829                             -0.503808   \n",
       "\n",
       "        n0_n_spines  n0_total_spine_volume  n0_spine_volume_median  \\\n",
       "0         -0.563713              -0.393487               -0.820227   \n",
       "1         -0.563713              -0.393487               -0.820227   \n",
       "2         -0.563713              -0.393487               -0.820227   \n",
       "3         -0.563713              -0.393487               -0.820227   \n",
       "4         -0.563713              -0.393487               -0.820227   \n",
       "...             ...                    ...                     ...   \n",
       "278287    -0.563713              -0.393487               -0.820227   \n",
       "278288    -0.437556              -0.309463                0.513432   \n",
       "278289    -0.437556              -0.309463                0.513432   \n",
       "278290     0.887093               0.578067               -0.179997   \n",
       "278291     0.887093               0.578067               -0.179997   \n",
       "\n",
       "        n0_spine_volume_density  n0_skeletal_length  n0_parent_angle  \\\n",
       "0                     -0.348209           -0.658634        -0.555927   \n",
       "1                     -0.348209           -0.658634        -0.555927   \n",
       "2                     -0.348209           -0.591251         3.478030   \n",
       "3                     -0.348209           -0.591251         3.478030   \n",
       "4                     -0.348209           -0.459840        -0.177505   \n",
       "...                         ...                 ...              ...   \n",
       "278287                -0.348209           -0.793917         0.329122   \n",
       "278288                -0.199089           -0.270056         1.352386   \n",
       "278289                -0.199089           -0.270056         1.352386   \n",
       "278290                 0.142657            1.191045         1.376693   \n",
       "278291                 0.142657            1.191045         1.376693   \n",
       "\n",
       "        n0_sibling_angle  n1_width_median_mesh_center  \\\n",
       "0               2.580471                     0.081006   \n",
       "1               2.580471                    -1.312900   \n",
       "2               2.580471                    -1.394242   \n",
       "3               2.580471                    -1.534974   \n",
       "4              -1.244099                     0.504117   \n",
       "...                  ...                          ...   \n",
       "278287          1.425331                    -0.159848   \n",
       "278288          1.425331                     0.115213   \n",
       "278289          1.425331                     0.035701   \n",
       "278290         -0.934671                    -1.387596   \n",
       "278291         -0.934671                    -0.727472   \n",
       "\n",
       "        n1_width_no_spine_median_mesh_center  n1_n_spines  \\\n",
       "0                                   0.289593    -0.593209   \n",
       "1                                  -1.230876    -0.752970   \n",
       "2                                  -1.319978    -0.752970   \n",
       "3                                  -1.474135    -0.752970   \n",
       "4                                   0.227209     1.004394   \n",
       "...                                      ...          ...   \n",
       "278287                              0.032174    -0.513329   \n",
       "278288                              0.003587     0.245533   \n",
       "278289                             -0.024399     0.285473   \n",
       "278290                             -1.312697    -0.752970   \n",
       "278291                             -0.589599    -0.393509   \n",
       "\n",
       "        n1_total_spine_volume  n1_spine_volume_median  \\\n",
       "0                   -0.622582                0.357911   \n",
       "1                   -0.732427               -0.901012   \n",
       "2                   -0.732427               -0.901012   \n",
       "3                   -0.732427               -0.901012   \n",
       "4                    0.705289                0.179588   \n",
       "...                       ...                     ...   \n",
       "278287              -0.552690                0.338898   \n",
       "278288               0.498456                0.372328   \n",
       "278289              -0.003151               -0.399218   \n",
       "278290              -0.732427               -0.901012   \n",
       "278291              -0.563609               -0.642906   \n",
       "\n",
       "        n1_spine_volume_density  n1_skeletal_length  n1_parent_angle  \\\n",
       "0                     -0.830670            0.882914        -1.052724   \n",
       "1                     -0.917901           -0.616442         1.497255   \n",
       "2                     -0.917901           -0.792687        -0.475669   \n",
       "3                     -0.917901           -0.778347        -1.384062   \n",
       "4                      0.621027            0.410959        -0.862051   \n",
       "...                         ...                 ...              ...   \n",
       "278287                -0.468013           -0.365497         1.562012   \n",
       "278288                 0.318889            0.499524        -1.399172   \n",
       "278289                -0.382360            1.031757         0.646782   \n",
       "278290                -0.917901           -0.804355         2.144463   \n",
       "278291                -0.647863           -0.037836        -1.081504   \n",
       "\n",
       "        n1_sibling_angle  \n",
       "0               0.656866  \n",
       "1               0.656866  \n",
       "2              -1.742013  \n",
       "3              -1.742013  \n",
       "4              -0.974313  \n",
       "...                  ...  \n",
       "278287          0.739752  \n",
       "278288         -0.753286  \n",
       "278289         -0.753286  \n",
       "278290          1.211276  \n",
       "278291          1.211276  \n",
       "\n",
       "[278292 rows x 18 columns]"
      ]
     },
     "execution_count": 6,
     "metadata": {},
     "output_type": "execute_result"
    }
   ],
   "source": [
    "# Scaling the Data\n",
    "df_data = df_filtered[columns_picked].to_numpy()\n",
    "scaler = StandardScaler()\n",
    "df_data_scaled = scaler.fit_transform(df_data)\n",
    "\n",
    "#df_data_reversed = scaler.inverse_transform(df_data_scaled,copy=True)\n",
    "\n",
    "data_df_normalized = pd.DataFrame(df_data_scaled)\n",
    "#add on the columns\n",
    "data_df_normalized.columns = columns_picked\n",
    "data_df_normalized"
   ]
  },
  {
   "cell_type": "markdown",
   "metadata": {},
   "source": [
    "# Helper Function for GMM classification"
   ]
  },
  {
   "cell_type": "code",
   "execution_count": 92,
   "metadata": {},
   "outputs": [
    {
     "name": "stdout",
     "output_type": "stream",
     "text": [
      "Classification: {0: 100713.07, 1: 78692.12, 2: 77089.7, 3: 21797.11}\n"
     ]
    },
    {
     "data": {
      "text/plain": [
       "array([100713.06651972,  78692.11567267,  77089.70456086,  21797.11324674])"
      ]
     },
     "execution_count": 92,
     "metadata": {},
     "output_type": "execute_result"
    }
   ],
   "source": [
    "def gmm_classification(gmm_model,curr_data,\n",
    "                       classification=\"hard\",\n",
    "                       verbose=True,\n",
    "                       return_counts=True,\n",
    "                      ):\n",
    "    \n",
    "    probs = gmm_model.predict_proba(curr_data)\n",
    "    if classification == \"soft\":\n",
    "        count_values = np.sum(probs,axis=0)\n",
    "    elif classification == \"hard\":\n",
    "        gmm_class = np.argmax(probs,axis=1)\n",
    "        counter_obj = Counter(gmm_class)\n",
    "        count_values = []\n",
    "        for clust_idx in range(model.n_components):\n",
    "            if clust_idx in counter_obj.keys():\n",
    "                count_values.append(counter_obj[clust_idx])\n",
    "            else:\n",
    "                count_values.append(0)\n",
    "        count_values = np.array(count_values)\n",
    "    if verbose:\n",
    "        sorted_cluster_values = np.flip(np.argsort(count_values))\n",
    "        print(f\"Classification: {dict([(k,np.round(count_values[k],2)) for k in sorted_cluster_values])}\")\n",
    "    \n",
    "    return count_values\n",
    "\n",
    "gmm_classification(model,data_total_scaled,classification=\"soft\")"
   ]
  },
  {
   "cell_type": "markdown",
   "metadata": {},
   "source": [
    "# Approximate Ground Truth Labels"
   ]
  },
  {
   "cell_type": "code",
   "execution_count": 58,
   "metadata": {},
   "outputs": [],
   "source": [
    "def indices_of_soma_angle(df_curr,angle_interval):\n",
    "    return np.where((df_curr[\"soma_angle\"]>=angle_interval[0]) & \n",
    "           (df_curr[\"soma_angle\"]<=angle_interval[-1]))[0]"
   ]
  },
  {
   "cell_type": "code",
   "execution_count": 59,
   "metadata": {},
   "outputs": [
    {
     "name": "stdout",
     "output_type": "stream",
     "text": [
      "# basal paths = 39892\n",
      " # axon paths = 8785\n",
      " # apical paths = 25478\n",
      "\n"
     ]
    }
   ],
   "source": [
    "basal_indices = indices_of_soma_angle(df_filtered,[100,115])\n",
    "axon_indices = indices_of_soma_angle(df_filtered,[165,180])\n",
    "apical_indices = indices_of_soma_angle(df_filtered,[0,20])\n",
    "\n",
    "print(f\"# basal paths = {len(basal_indices)}\\n\",\n",
    "     f\"# axon paths = {len(axon_indices)}\\n\",\n",
    "     f\"# apical paths = {len(apical_indices)}\\n\")"
   ]
  },
  {
   "cell_type": "code",
   "execution_count": 60,
   "metadata": {},
   "outputs": [
    {
     "name": "stdout",
     "output_type": "stream",
     "text": [
      "After Picking a Random 8000 subset of paths:\n",
      "# basal paths = 8000\n",
      " # axon paths = 8000\n",
      " # apical paths = 8000\n",
      "\n"
     ]
    }
   ],
   "source": [
    "# picking 10000 of data randomly to test on\n",
    "random_N = 8000\n",
    "\n",
    "basal_indices_random =  basal_indices[np.random.choice(np.arange(len(basal_indices)),size=random_N,replace=False)]\n",
    "axon_indices_random =  axon_indices[np.random.choice(np.arange(len(axon_indices)),size=random_N,replace=False)]\n",
    "apical_indices_random =  apical_indices[np.random.choice(np.arange(len(apical_indices)),size=random_N,replace=False)]\n",
    "\n",
    "print(f\"After Picking a Random {random_N} subset of paths:\\n\"\n",
    "      f\"# basal paths = {len(basal_indices_random)}\\n\",\n",
    "     f\"# axon paths = {len(axon_indices_random)}\\n\",\n",
    "     f\"# apical paths = {len(apical_indices_random)}\\n\")"
   ]
  },
  {
   "cell_type": "markdown",
   "metadata": {},
   "source": [
    "# Part 1: GMM on scaled Dataset (Original Basis)"
   ]
  },
  {
   "cell_type": "code",
   "execution_count": 61,
   "metadata": {},
   "outputs": [
    {
     "name": "stdout",
     "output_type": "stream",
     "text": [
      "# apical paths = 8000\n",
      " # basal paths = 8000\n",
      " # axon paths = 8000\n",
      "\n"
     ]
    }
   ],
   "source": [
    "axon_data_scaled = data_df_normalized.iloc[axon_indices_random]\n",
    "basal_data_scaled = data_df_normalized.iloc[basal_indices_random]\n",
    "apical_data_scaled = data_df_normalized.iloc[apical_indices_random]\n",
    "data_total_scaled = copy.copy(data_df_normalized)\n",
    "\n",
    "print(f\"# apical paths = {len(axon_data_scaled)}\\n\",\n",
    "     f\"# basal paths = {len(basal_data_scaled)}\\n\",\n",
    "     f\"# axon paths = {len(apical_data_scaled)}\\n\")"
   ]
  },
  {
   "cell_type": "code",
   "execution_count": 63,
   "metadata": {},
   "outputs": [
    {
     "name": "stdout",
     "output_type": "stream",
     "text": [
      "\n",
      "\n",
      "------Working on clusters K=3-----\n",
      "Convergence status = True\n",
      "Total time for GMM = 19.62558889389038\n",
      "\n",
      "\n",
      "------Working on clusters K=4-----\n",
      "Convergence status = True\n",
      "Total time for GMM = 14.35541582107544\n",
      "\n",
      "\n",
      "------Working on clusters K=5-----\n",
      "Convergence status = True\n",
      "Total time for GMM = 17.33634305000305\n",
      "\n",
      "\n",
      "------Working on clusters K=6-----\n",
      "Convergence status = True\n",
      "Total time for GMM = 36.48520231246948\n",
      "\n",
      "\n",
      "------Working on clusters K=7-----\n",
      "Convergence status = True\n",
      "Total time for GMM = 28.14262628555298\n",
      "\n",
      "\n",
      "------Working on clusters K=8-----\n",
      "Convergence status = True\n",
      "Total time for GMM = 44.957191944122314\n",
      "\n",
      "\n",
      "------Working on clusters K=9-----\n",
      "Convergence status = True\n",
      "Total time for GMM = 48.82457423210144\n"
     ]
    }
   ],
   "source": [
    "import copy\n",
    "\n",
    "X_train = data_total_scaled\n",
    "\n",
    "reg_covar = 0.001\n",
    "init_params = \"kmeans\"\n",
    "covariance_type = \"full\"\n",
    "\n",
    "pca_obj = None\n",
    "scaler_obj = scaler\n",
    "\n",
    "scaled_original_results = dict()\n",
    "\n",
    "for K in range(3,10):\n",
    "    print(f\"\\n\\n------Working on clusters K={K}-----\")\n",
    "    st_time = time.time()\n",
    "    scaled_original_results[K] = dict()\n",
    "\n",
    "    reg_covar_local = copy.copy(reg_covar)\n",
    "    #1) Training the GMM\n",
    "    while reg_covar_local <= 0.1:\n",
    "        try:\n",
    "            gmm = mixture.GaussianMixture(n_components=K, \n",
    "                                          covariance_type=covariance_type,\n",
    "                                         reg_covar=reg_covar,\n",
    "                                         init_params=init_params)\n",
    "        except:\n",
    "            print(f\"Errored on gmm for reg_cov = {reg_covar_local}\")\n",
    "            reg_covar_local = reg_covar_local*10\n",
    "        else:\n",
    "            break\n",
    "            \n",
    "    if reg_covar_local >= 1:\n",
    "        raise Exception(f\"No gmm converged and reg_cov was {reg_cov}\")\n",
    "    \n",
    "        \n",
    "    gmm.fit(X_train)\n",
    "    bic_value = gmm.bic(X_train)\n",
    "\n",
    "    # Getting the Average Log likelihood:\n",
    "    average_log_likelihood_train = gmm.score(data_total_scaled)\n",
    "    scaled_original_results[K][\"model\"] = gmm\n",
    "    scaled_original_results[K][\"log_likelihood\"] = average_log_likelihood_train\n",
    "    scaled_original_results[K][\"bic_value\"] = bic_value\n",
    "    scaled_original_results[K][\"reg_covar\"] = reg_covar\n",
    "    \n",
    "    recovered_means = pd.DataFrame(scaler_obj.inverse_transform(gmm.means_))\n",
    "    recovered_means.columns = columns_picked\n",
    "    \n",
    "    if pca_obj is None:\n",
    "        scaled_original_results[K][\"recovered_means\"] = recovered_means\n",
    "    else:\n",
    "        raise Exception(\"Not implemented yet pca recovered mean\")\n",
    "    \n",
    "    print(f\"Convergence status = {gmm.converged_}\")\n",
    "    print(f\"Total time for GMM = {time.time() - st_time}\")\n"
   ]
  },
  {
   "cell_type": "code",
   "execution_count": 87,
   "metadata": {},
   "outputs": [
    {
     "data": {
      "image/png": "[encoded data removed]",
      "text/plain": [
       "<Figure size 432x288 with 1 Axes>"
      ]
     },
     "metadata": {
      "needs_background": "light"
     },
     "output_type": "display_data"
    },
    {
     "data": {
      "image/png": "[encoded data removed]",
      "text/plain": [
       "<Figure size 432x288 with 1 Axes>"
      ]
     },
     "metadata": {
      "needs_background": "light"
     },
     "output_type": "display_data"
    }
   ],
   "source": [
    "# plotting the BIC curve\n",
    "def plot_graph(title,\n",
    "                y_values,\n",
    "                x_values,\n",
    "                x_axis_label,\n",
    "                y_axis_label):\n",
    "    \"\"\"\n",
    "    Purpose: For easy plotting\n",
    "    \"\"\"\n",
    "    fig,ax = plt.subplots(1,1)\n",
    "    ax.plot(x_values,y_values)\n",
    "    ax.set_xlabel(x_axis_label)\n",
    "    ax.set_ylabel(y_axis_label)\n",
    "    ax.set_title(title)\n",
    "    plt.show()\n",
    "\n",
    "cluster_values = list(scaled_original_results.keys())\n",
    "cluster_labels = \"Number of Clusters\"\n",
    "title_suffix = f\"\\n(Normalized Original Data)\"\n",
    "\n",
    "\n",
    "plot_graph(\n",
    "    title = \"Average Log Likelihood Of Data vs. Number of Clusters\" + title_suffix,\n",
    "    y_values = [scaled_original_results[K][\"log_likelihood\"] for K in cluster_values],\n",
    "    x_values = cluster_values,\n",
    "    x_axis_label = cluster_labels,\n",
    "    y_axis_label = \"Average Log Likelihood of Data (Per Sample)\",\n",
    ")\n",
    "\n",
    "\n",
    "plot_graph(\n",
    "    title = \"BIC vs. Number of Clusters\" + title_suffix,\n",
    "    y_values = [scaled_original_results[K][\"bic_value\"] for K in cluster_values],\n",
    "    x_values = cluster_values,\n",
    "    x_axis_label = cluster_labels,\n",
    "    y_axis_label = \"BIC (Bayesian Information Criterion)\",\n",
    ")\n"
   ]
  },
  {
   "cell_type": "code",
   "execution_count": 184,
   "metadata": {},
   "outputs": [
    {
     "data": {
      "text/plain": [
       "Index(['n0_width_median_mesh_center', 'n0_width_no_spine_median_mesh_center',\n",
       "       'n0_n_spines', 'n0_total_spine_volume', 'n0_spine_volume_median',\n",
       "       'n0_spine_volume_density', 'n0_skeletal_length', 'n0_parent_angle',\n",
       "       'n0_sibling_angle', 'n1_width_median_mesh_center',\n",
       "       'n1_width_no_spine_median_mesh_center', 'n1_n_spines',\n",
       "       'n1_total_spine_volume', 'n1_spine_volume_median',\n",
       "       'n1_spine_volume_density', 'n1_skeletal_length', 'n1_parent_angle',\n",
       "       'n1_sibling_angle'],\n",
       "      dtype='object')"
      ]
     },
     "execution_count": 184,
     "metadata": {},
     "output_type": "execute_result"
    }
   ],
   "source": [
    "X_train.columns"
   ]
  },
  {
   "cell_type": "markdown",
   "metadata": {},
   "source": [
    "# Calculating How it Does on the Classified Data"
   ]
  },
  {
   "cell_type": "code",
   "execution_count": 147,
   "metadata": {},
   "outputs": [],
   "source": [
    "def clustering_stats(data,clust_perc=0.80):\n",
    "    # categories = [\"Apical\",\"Basal\",\"Axon\"]\n",
    "    # classifications = [\"hard\",\"soft\"]\n",
    "    # clust_perc = 0.8\n",
    "\n",
    "    classifications = list(data.keys())\n",
    "    categories = list(data[classifications[0]].keys())\n",
    "\n",
    "    stats_dict_by_classification = dict()\n",
    "\n",
    "    for curr_classification in classifications:\n",
    "        stats_dict = dict()\n",
    "\n",
    "        total_per_cluster_by_category = [data[curr_classification][c] for c in categories]\n",
    "        total_per_cluster = np.sum(total_per_cluster_by_category,axis=0)\n",
    "        for curr_category in categories:\n",
    "            local_stats_dict = dict()\n",
    "\n",
    "            count_data = data[curr_classification][curr_category]\n",
    "\n",
    "\n",
    "\n",
    "            \"\"\"\n",
    "            Statistics to find:\n",
    "            1) The cluster with the most of that label and the % in that cluster\n",
    "            2) The number of clusters needed to comprise 80% of labeled group\n",
    "            3) The purity measurements\n",
    "\n",
    "            Pseudocode: \n",
    "            1) get the total number items put in each cluster across all categories\n",
    "            2) For each cluster:\n",
    "            a. Multiply the perc in that cluster * (curent number in that cluster/total number in that cluster)\n",
    "\n",
    "\n",
    "            \"\"\"\n",
    "\n",
    "\n",
    "            sorted_labels = np.flip(np.argsort(count_data))\n",
    "            highest_cluster_perc = count_data[sorted_labels[0]]/np.sum(count_data)\n",
    "\n",
    "            local_stats_dict[\"highest_cluster\"]  = sorted_labels[0]\n",
    "            local_stats_dict[\"highest_cluster_perc\"] = highest_cluster_perc\n",
    "\n",
    "\n",
    "            sorted_labels_cumsum_perc = np.cumsum(count_data[sorted_labels]/np.sum(count_data))\n",
    "            perc_per_cluster = count_data/np.sum(count_data)\n",
    "\n",
    "            n_clusters = np.digitize(clust_perc,sorted_labels_cumsum_perc)+1\n",
    "            local_stats_dict[f\"n_clusters_{np.floor(clust_perc*100)}\"] = n_clusters\n",
    "\n",
    "            #find the purity metric\n",
    "\n",
    "            purity = np.sum(perc_per_cluster*count_data/total_per_cluster)\n",
    "\n",
    "            local_stats_dict[\"purity\"] = purity\n",
    "\n",
    "            stats_dict[curr_category] = local_stats_dict\n",
    "\n",
    "        # measure the purity of each cluster\n",
    "        cluster_purity = np.max(total_per_cluster_by_category,axis=0)/np.sum(total_per_cluster_by_category,axis=0)\n",
    "        cluster_purity\n",
    "\n",
    "        stats_dict_by_classification[curr_classification] = dict(cluster_purity= cluster_purity,stats_dict=stats_dict)\n",
    "    return stats_dict_by_classification"
   ]
  },
  {
   "cell_type": "code",
   "execution_count": 244,
   "metadata": {},
   "outputs": [
    {
     "data": {
      "text/plain": [
       "4"
      ]
     },
     "execution_count": 244,
     "metadata": {},
     "output_type": "execute_result"
    }
   ],
   "source": []
  },
  {
   "cell_type": "code",
   "execution_count": 179,
   "metadata": {},
   "outputs": [
    {
     "data": {
      "text/html": [
       "<div>\n",
       "<style scoped>\n",
       "    .dataframe tbody tr th:only-of-type {\n",
       "        vertical-align: middle;\n",
       "    }\n",
       "\n",
       "    .dataframe tbody tr th {\n",
       "        vertical-align: top;\n",
       "    }\n",
       "\n",
       "    .dataframe thead th {\n",
       "        text-align: right;\n",
       "    }\n",
       "</style>\n",
       "<table border=\"1\" class=\"dataframe\">\n",
       "  <thead>\n",
       "    <tr style=\"text-align: right;\">\n",
       "      <th></th>\n",
       "      <th>classification</th>\n",
       "      <th>category</th>\n",
       "      <th>cluster_0</th>\n",
       "      <th>cluster_1</th>\n",
       "      <th>cluster_2</th>\n",
       "      <th>cluster_3</th>\n",
       "    </tr>\n",
       "  </thead>\n",
       "  <tbody>\n",
       "    <tr>\n",
       "      <th>2</th>\n",
       "      <td>hard</td>\n",
       "      <td>Apical</td>\n",
       "      <td>2674.0</td>\n",
       "      <td>1193.0</td>\n",
       "      <td>3539.0</td>\n",
       "      <td>594.0</td>\n",
       "    </tr>\n",
       "    <tr>\n",
       "      <th>5</th>\n",
       "      <td>soft</td>\n",
       "      <td>Apical</td>\n",
       "      <td>2675.3</td>\n",
       "      <td>1173.9</td>\n",
       "      <td>3548.4</td>\n",
       "      <td>602.4</td>\n",
       "    </tr>\n",
       "    <tr>\n",
       "      <th>0</th>\n",
       "      <td>hard</td>\n",
       "      <td>Axon</td>\n",
       "      <td>903.0</td>\n",
       "      <td>6070.0</td>\n",
       "      <td>741.0</td>\n",
       "      <td>286.0</td>\n",
       "    </tr>\n",
       "    <tr>\n",
       "      <th>3</th>\n",
       "      <td>soft</td>\n",
       "      <td>Axon</td>\n",
       "      <td>902.8</td>\n",
       "      <td>6065.3</td>\n",
       "      <td>748.6</td>\n",
       "      <td>283.3</td>\n",
       "    </tr>\n",
       "    <tr>\n",
       "      <th>1</th>\n",
       "      <td>hard</td>\n",
       "      <td>Basal</td>\n",
       "      <td>3387.0</td>\n",
       "      <td>1793.0</td>\n",
       "      <td>2197.0</td>\n",
       "      <td>623.0</td>\n",
       "    </tr>\n",
       "    <tr>\n",
       "      <th>4</th>\n",
       "      <td>soft</td>\n",
       "      <td>Basal</td>\n",
       "      <td>3387.3</td>\n",
       "      <td>1785.6</td>\n",
       "      <td>2202.5</td>\n",
       "      <td>624.6</td>\n",
       "    </tr>\n",
       "  </tbody>\n",
       "</table>\n",
       "</div>"
      ],
      "text/plain": [
       "  classification category  cluster_0  cluster_1  cluster_2  cluster_3\n",
       "2           hard   Apical     2674.0     1193.0     3539.0      594.0\n",
       "5           soft   Apical     2675.3     1173.9     3548.4      602.4\n",
       "0           hard     Axon      903.0     6070.0      741.0      286.0\n",
       "3           soft     Axon      902.8     6065.3      748.6      283.3\n",
       "1           hard    Basal     3387.0     1793.0     2197.0      623.0\n",
       "4           soft    Basal     3387.3     1785.6     2202.5      624.6"
      ]
     },
     "execution_count": 179,
     "metadata": {},
     "output_type": "execute_result"
    }
   ],
   "source": [
    "curr_K = 4\n",
    "model = scaled_original_results[curr_K][\"model\"]\n",
    "labeled_data = dict(\n",
    "                    #Total = data_total_scaled,\n",
    "                     Axon=axon_data_scaled,\n",
    "                     Basal=basal_data_scaled,\n",
    "                     Apical=apical_data_scaled\n",
    ")\n",
    "\n",
    "\n",
    "total_hard = []\n",
    "total_soft = []\n",
    "\n",
    "classification_types = [\"hard\",\"soft\"]\n",
    "\n",
    "verbose = False\n",
    "labeled_data_classification = dict()\n",
    "dicts_for_classif_df = []\n",
    "\n",
    "for c_type in classification_types:\n",
    "    \n",
    "    if verbose:\n",
    "        print(f\"\\nclassification_type={c_type}\")\n",
    "    labeled_data_classification[c_type]=dict()\n",
    "    \n",
    "    for k,v in labeled_data.items():\n",
    "        \n",
    "        if verbose:\n",
    "            print(f\"{k}\")\n",
    "        \n",
    "        curr_class = gmm_classification(model,v,classification=c_type,verbose=verbose)\n",
    "        labeled_data_classification[c_type][k] = curr_class\n",
    "        \n",
    "        classifier_dict = dict()\n",
    "        classifier_dict[\"classification\"]=c_type\n",
    "        classifier_dict[\"category\"]=k\n",
    "        classif_dict_up = dict([(f\"cluster_{i}\",np.round(bb,1)) for i,bb in enumerate(curr_class)])\n",
    "        classifier_dict.update(classif_dict_up)\n",
    "        \n",
    "        dicts_for_classif_df.append(classifier_dict)\n",
    "\n",
    "# Print out the classification Numbers in Easy to See Dataframe\n",
    "df_class = pd.DataFrame.from_dict(dicts_for_classif_df)\n",
    "df_class.style.set_caption(f\"Clustering Numbers By Neuroscience Category for K = {model.n_components}\")\n",
    "df_class.sort_values(by=['category'])\n",
    "\n"
   ]
  },
  {
   "cell_type": "code",
   "execution_count": 246,
   "metadata": {},
   "outputs": [
    {
     "data": {
      "text/plain": [
       "{'hard': {'cluster_purity': array([0.48635841, 0.67027385, 0.54639494, 0.41450432]),\n",
       "  'stats_dict': {'Axon': {'highest_cluster': 1,\n",
       "    'highest_cluster_perc': 0.75875,\n",
       "    'n_clusters_80.0': 2,\n",
       "    'purity': 0.5406059055615006},\n",
       "   'Basal': {'highest_cluster': 0,\n",
       "    'highest_cluster_perc': 0.423375,\n",
       "    'n_clusters_80.0': 3,\n",
       "    'purity': 0.3757189580570914},\n",
       "   'Apical': {'highest_cluster': 2,\n",
       "    'highest_cluster_perc': 0.442375,\n",
       "    'n_clusters_80.0': 3,\n",
       "    'purity': 0.41904443469015895}}},\n",
       " 'soft': {'cluster_purity': array([0.48629963, 0.6720735 , 0.54595613, 0.41357302]),\n",
       "  'stats_dict': {'Axon': {'highest_cluster': 1,\n",
       "    'highest_cluster_perc': 0.758160764832448,\n",
       "    'n_clusters_80.0': 2,\n",
       "    'purity': 0.5415873270068527},\n",
       "   'Basal': {'highest_cluster': 0,\n",
       "    'highest_cluster_perc': 0.42341327725354727,\n",
       "    'n_clusters_80.0': 3,\n",
       "    'purity': 0.3756521742766262},\n",
       "   'Apical': {'highest_cluster': 2,\n",
       "    'highest_cluster_perc': 0.4435504487085462,\n",
       "    'n_clusters_80.0': 3,\n",
       "    'purity': 0.419722291321796}}}}"
      ]
     },
     "execution_count": 246,
     "metadata": {},
     "output_type": "execute_result"
    }
   ],
   "source": [
    "ret_stats"
   ]
  },
  {
   "cell_type": "code",
   "execution_count": 167,
   "metadata": {},
   "outputs": [
    {
     "data": {
      "text/html": [
       "<style  type=\"text/css\" >\n",
       "</style><table id=\"T_790ba2ae_3d9b_11eb_8285_0242ac1a0003\" ><caption>Clustering Statistics By Neuroscience Category for K = 4</caption><thead>    <tr>        <th class=\"blank level0\" ></th>        <th class=\"col_heading level0 col0\" >highest_cluster</th>        <th class=\"col_heading level0 col1\" >highest_cluster_perc</th>        <th class=\"col_heading level0 col2\" >n_clusters_80.0</th>        <th class=\"col_heading level0 col3\" >purity</th>        <th class=\"col_heading level0 col4\" >category</th>        <th class=\"col_heading level0 col5\" >classification</th>    </tr></thead><tbody>\n",
       "                <tr>\n",
       "                        <th id=\"T_790ba2ae_3d9b_11eb_8285_0242ac1a0003level0_row0\" class=\"row_heading level0 row0\" >0</th>\n",
       "                        <td id=\"T_790ba2ae_3d9b_11eb_8285_0242ac1a0003row0_col0\" class=\"data row0 col0\" >1</td>\n",
       "                        <td id=\"T_790ba2ae_3d9b_11eb_8285_0242ac1a0003row0_col1\" class=\"data row0 col1\" >0.758750</td>\n",
       "                        <td id=\"T_790ba2ae_3d9b_11eb_8285_0242ac1a0003row0_col2\" class=\"data row0 col2\" >2</td>\n",
       "                        <td id=\"T_790ba2ae_3d9b_11eb_8285_0242ac1a0003row0_col3\" class=\"data row0 col3\" >0.540606</td>\n",
       "                        <td id=\"T_790ba2ae_3d9b_11eb_8285_0242ac1a0003row0_col4\" class=\"data row0 col4\" >Axon</td>\n",
       "                        <td id=\"T_790ba2ae_3d9b_11eb_8285_0242ac1a0003row0_col5\" class=\"data row0 col5\" >hard</td>\n",
       "            </tr>\n",
       "            <tr>\n",
       "                        <th id=\"T_790ba2ae_3d9b_11eb_8285_0242ac1a0003level0_row1\" class=\"row_heading level0 row1\" >1</th>\n",
       "                        <td id=\"T_790ba2ae_3d9b_11eb_8285_0242ac1a0003row1_col0\" class=\"data row1 col0\" >0</td>\n",
       "                        <td id=\"T_790ba2ae_3d9b_11eb_8285_0242ac1a0003row1_col1\" class=\"data row1 col1\" >0.423375</td>\n",
       "                        <td id=\"T_790ba2ae_3d9b_11eb_8285_0242ac1a0003row1_col2\" class=\"data row1 col2\" >3</td>\n",
       "                        <td id=\"T_790ba2ae_3d9b_11eb_8285_0242ac1a0003row1_col3\" class=\"data row1 col3\" >0.375719</td>\n",
       "                        <td id=\"T_790ba2ae_3d9b_11eb_8285_0242ac1a0003row1_col4\" class=\"data row1 col4\" >Basal</td>\n",
       "                        <td id=\"T_790ba2ae_3d9b_11eb_8285_0242ac1a0003row1_col5\" class=\"data row1 col5\" >hard</td>\n",
       "            </tr>\n",
       "            <tr>\n",
       "                        <th id=\"T_790ba2ae_3d9b_11eb_8285_0242ac1a0003level0_row2\" class=\"row_heading level0 row2\" >2</th>\n",
       "                        <td id=\"T_790ba2ae_3d9b_11eb_8285_0242ac1a0003row2_col0\" class=\"data row2 col0\" >2</td>\n",
       "                        <td id=\"T_790ba2ae_3d9b_11eb_8285_0242ac1a0003row2_col1\" class=\"data row2 col1\" >0.442375</td>\n",
       "                        <td id=\"T_790ba2ae_3d9b_11eb_8285_0242ac1a0003row2_col2\" class=\"data row2 col2\" >3</td>\n",
       "                        <td id=\"T_790ba2ae_3d9b_11eb_8285_0242ac1a0003row2_col3\" class=\"data row2 col3\" >0.419044</td>\n",
       "                        <td id=\"T_790ba2ae_3d9b_11eb_8285_0242ac1a0003row2_col4\" class=\"data row2 col4\" >Apical</td>\n",
       "                        <td id=\"T_790ba2ae_3d9b_11eb_8285_0242ac1a0003row2_col5\" class=\"data row2 col5\" >hard</td>\n",
       "            </tr>\n",
       "            <tr>\n",
       "                        <th id=\"T_790ba2ae_3d9b_11eb_8285_0242ac1a0003level0_row3\" class=\"row_heading level0 row3\" >3</th>\n",
       "                        <td id=\"T_790ba2ae_3d9b_11eb_8285_0242ac1a0003row3_col0\" class=\"data row3 col0\" >1</td>\n",
       "                        <td id=\"T_790ba2ae_3d9b_11eb_8285_0242ac1a0003row3_col1\" class=\"data row3 col1\" >0.758161</td>\n",
       "                        <td id=\"T_790ba2ae_3d9b_11eb_8285_0242ac1a0003row3_col2\" class=\"data row3 col2\" >2</td>\n",
       "                        <td id=\"T_790ba2ae_3d9b_11eb_8285_0242ac1a0003row3_col3\" class=\"data row3 col3\" >0.541587</td>\n",
       "                        <td id=\"T_790ba2ae_3d9b_11eb_8285_0242ac1a0003row3_col4\" class=\"data row3 col4\" >Axon</td>\n",
       "                        <td id=\"T_790ba2ae_3d9b_11eb_8285_0242ac1a0003row3_col5\" class=\"data row3 col5\" >soft</td>\n",
       "            </tr>\n",
       "            <tr>\n",
       "                        <th id=\"T_790ba2ae_3d9b_11eb_8285_0242ac1a0003level0_row4\" class=\"row_heading level0 row4\" >4</th>\n",
       "                        <td id=\"T_790ba2ae_3d9b_11eb_8285_0242ac1a0003row4_col0\" class=\"data row4 col0\" >0</td>\n",
       "                        <td id=\"T_790ba2ae_3d9b_11eb_8285_0242ac1a0003row4_col1\" class=\"data row4 col1\" >0.423413</td>\n",
       "                        <td id=\"T_790ba2ae_3d9b_11eb_8285_0242ac1a0003row4_col2\" class=\"data row4 col2\" >3</td>\n",
       "                        <td id=\"T_790ba2ae_3d9b_11eb_8285_0242ac1a0003row4_col3\" class=\"data row4 col3\" >0.375652</td>\n",
       "                        <td id=\"T_790ba2ae_3d9b_11eb_8285_0242ac1a0003row4_col4\" class=\"data row4 col4\" >Basal</td>\n",
       "                        <td id=\"T_790ba2ae_3d9b_11eb_8285_0242ac1a0003row4_col5\" class=\"data row4 col5\" >soft</td>\n",
       "            </tr>\n",
       "            <tr>\n",
       "                        <th id=\"T_790ba2ae_3d9b_11eb_8285_0242ac1a0003level0_row5\" class=\"row_heading level0 row5\" >5</th>\n",
       "                        <td id=\"T_790ba2ae_3d9b_11eb_8285_0242ac1a0003row5_col0\" class=\"data row5 col0\" >2</td>\n",
       "                        <td id=\"T_790ba2ae_3d9b_11eb_8285_0242ac1a0003row5_col1\" class=\"data row5 col1\" >0.443550</td>\n",
       "                        <td id=\"T_790ba2ae_3d9b_11eb_8285_0242ac1a0003row5_col2\" class=\"data row5 col2\" >3</td>\n",
       "                        <td id=\"T_790ba2ae_3d9b_11eb_8285_0242ac1a0003row5_col3\" class=\"data row5 col3\" >0.419722</td>\n",
       "                        <td id=\"T_790ba2ae_3d9b_11eb_8285_0242ac1a0003row5_col4\" class=\"data row5 col4\" >Apical</td>\n",
       "                        <td id=\"T_790ba2ae_3d9b_11eb_8285_0242ac1a0003row5_col5\" class=\"data row5 col5\" >soft</td>\n",
       "            </tr>\n",
       "    </tbody></table>"
      ],
      "text/plain": [
       "<pandas.io.formats.style.Styler at 0x7febfc2ae240>"
      ]
     },
     "execution_count": 167,
     "metadata": {},
     "output_type": "execute_result"
    }
   ],
   "source": [
    "# Assemble The statistics and Visualize in Dataframe\n",
    "\"\"\"\n",
    "Purpose: Just want to visualize the soft and the hard assignment (and show they are not that different)\n",
    "\n",
    "Pseudocode: \n",
    "1) \n",
    "\n",
    "\"\"\"\n",
    "\n",
    "ret_stats = clustering_stats(labeled_data_classification)\n",
    "\n",
    "dict_for_df = [] \n",
    "\n",
    "for cl_type,cl_data in ret_stats.items():\n",
    "    curr_stats_dict = cl_data[\"stats_dict\"]\n",
    "    \n",
    "    for cat_name,cat_stats_dict in curr_stats_dict.items():\n",
    "        cat_local_dict = copy.copy(cat_stats_dict)\n",
    "        cat_local_dict[\"category\"] = cat_name\n",
    "        cat_local_dict[\"classification\"] = cl_type\n",
    "        dict_for_df.append(cat_local_dict)\n",
    "df = pd.DataFrame.from_dict(dict_for_df)\n",
    "df.sort_values(by=['category'])\n",
    "df.style.set_caption(f\"Clustering Advanced Statistics By Neuroscience Category for K = {curr_K}\")"
   ]
  },
  {
   "cell_type": "markdown",
   "metadata": {},
   "source": [
    "# Doing without normalization"
   ]
  },
  {
   "cell_type": "code",
   "execution_count": null,
   "metadata": {},
   "outputs": [],
   "source": [
    "df_filtered_unscaled = df_filtered[columns_picked]"
   ]
  },
  {
   "cell_type": "code",
   "execution_count": null,
   "metadata": {},
   "outputs": [],
   "source": [
    "axon_data_unscaled = df_filtered_unscaled.iloc[axon_indices]\n",
    "basal_data_unscaled = df_filtered_unscaled.iloc[basal_indices]\n",
    "apical_data_unscaled = df_filtered_unscaled.iloc[apical_indices]\n",
    "data_total_unscaled = copy.copy(df_filtered_unscaled)\n",
    "\n",
    "print(f\"# apical paths = {len(axon_data_scaled)}\\n\",\n",
    "     f\"# basal paths = {len(basal_data_scaled)}\\n\",\n",
    "     f\"# axon paths = {len(apical_data_scaled)}\\n\")"
   ]
  },
  {
   "cell_type": "code",
   "execution_count": null,
   "metadata": {},
   "outputs": [],
   "source": [
    "K = 3\n",
    "covariance_type = \"full\"\n",
    "\n",
    "st_time = time.time()\n",
    "\n",
    "#1) Training the GMM\n",
    "gmm_unscald = mixture.GaussianMixture(n_components=K, \n",
    "                              covariance_type=covariance_type,\n",
    "                             reg_covar=0.1,\n",
    "                             init_params=\"kmeans\")\n",
    "gmm.fit(data_total_unscaled)\n",
    "\n",
    "# Getting the Average Log likelihood:\n",
    "average_log_likelihood_train = gmm.score(data_total_unscaled)\n",
    "print(f\"Convergence status = {gmm.converged_}\")\n",
    "print(f\"Total time for GMM = {time.time() - st_time}\")\n"
   ]
  },
  {
   "cell_type": "code",
   "execution_count": null,
   "metadata": {},
   "outputs": [],
   "source": [
    "gmm_classification(gmm,data_total_unscaled)\n",
    "gmm_classification(gmm,axon_data_unscaled)\n",
    "gmm_classification(gmm,basal_data_unscaled)\n",
    "gmm_classification(gmm,apical_data_unscaled)"
   ]
  },
  {
   "cell_type": "code",
   "execution_count": null,
   "metadata": {},
   "outputs": [],
   "source": [
    "recov_unscaled = pd.DataFrame(gmm.means_)\n",
    "recov_unscaled.columns = columns_picked\n",
    "recov_unscaled"
   ]
  },
  {
   "cell_type": "markdown",
   "metadata": {},
   "source": [
    "# Try Doing it On PCA (full components)"
   ]
  },
  {
   "cell_type": "code",
   "execution_count": null,
   "metadata": {},
   "outputs": [],
   "source": [
    "data_v = data_df_normalized.to_numpy()\n",
    "data_v.shape"
   ]
  },
  {
   "cell_type": "code",
   "execution_count": null,
   "metadata": {},
   "outputs": [],
   "source": [
    "dr = reload(dr)\n",
    "data_analyzed = dr.pca_analysis(data_v,\n",
    "                                n_components=data_v.shape[-1],\n",
    "                                whiten=True,\n",
    "                                plot_sqrt_eigvals=True)"
   ]
  },
  {
   "cell_type": "code",
   "execution_count": null,
   "metadata": {},
   "outputs": [],
   "source": [
    "dr.plot_variance_explained(data_analyzed)"
   ]
  },
  {
   "cell_type": "code",
   "execution_count": null,
   "metadata": {},
   "outputs": [],
   "source": [
    "data_analyzed[\"percent_variance_explained_up_to_n_comp\"]"
   ]
  },
  {
   "cell_type": "code",
   "execution_count": null,
   "metadata": {},
   "outputs": [],
   "source": [
    "axon_data_pca = data_analyzed[\"data_proj\"][axon_indices]\n",
    "basal_data_pca = data_analyzed[\"data_proj\"][basal_indices]\n",
    "apical_data_pca = data_analyzed[\"data_proj\"][apical_indices]\n",
    "data_total_pca = data_analyzed[\"data_proj\"]"
   ]
  },
  {
   "cell_type": "code",
   "execution_count": null,
   "metadata": {},
   "outputs": [],
   "source": [
    "# Doing the GMM\n",
    "K = 4\n",
    "covariance_type = \"full\"\n",
    "curr_data = data_total_pca\n",
    "\n",
    "st_time = time.time()\n",
    "\n",
    "#1) Training the GMM\n",
    "gmm = mixture.GaussianMixture(n_components=K, \n",
    "                              covariance_type=covariance_type,\n",
    "                             reg_covar=0.000001,\n",
    "                             init_params=\"kmeans\")\n",
    "gmm.fit(curr_data)\n",
    "\n",
    "# Getting the Average Log likelihood:\n",
    "average_log_likelihood_train = gmm.score(curr_data)\n",
    "print(f\"Average Log likelihood = {average_log_likelihood_train}\")\n",
    "print(f\"Convergence status = {gmm.converged_}\")\n",
    "print(f\"Total time for GMM = {time.time() - st_time}\")\n"
   ]
  },
  {
   "cell_type": "code",
   "execution_count": null,
   "metadata": {},
   "outputs": [],
   "source": [
    "gmm_classification(gmm,data_total_pca)\n",
    "gmm_classification(gmm,axon_data_pca)\n",
    "gmm_classification(gmm,basal_data_pca)\n",
    "gmm_classification(gmm,apical_data_pca)"
   ]
  },
  {
   "cell_type": "code",
   "execution_count": null,
   "metadata": {},
   "outputs": [],
   "source": [
    "gmm_means_inverse = data_analyzed[\"pca_obj\"].inverse_transform(gmm.means_)\n",
    "rec_means = pd.DataFrame(scaler.inverse_transform(gmm_means_inverse))\n",
    "rec_means.columns = columns_picked\n",
    "rec_means"
   ]
  },
  {
   "cell_type": "code",
   "execution_count": 255,
   "metadata": {},
   "outputs": [
    {
     "data": {
      "text/plain": [
       "['__class__',\n",
       " '__delattr__',\n",
       " '__dict__',\n",
       " '__dir__',\n",
       " '__doc__',\n",
       " '__eq__',\n",
       " '__format__',\n",
       " '__ge__',\n",
       " '__getattribute__',\n",
       " '__getstate__',\n",
       " '__gt__',\n",
       " '__hash__',\n",
       " '__init__',\n",
       " '__init_subclass__',\n",
       " '__le__',\n",
       " '__lt__',\n",
       " '__module__',\n",
       " '__ne__',\n",
       " '__new__',\n",
       " '__reduce__',\n",
       " '__reduce_ex__',\n",
       " '__repr__',\n",
       " '__setattr__',\n",
       " '__setstate__',\n",
       " '__sizeof__',\n",
       " '__str__',\n",
       " '__subclasshook__',\n",
       " '__weakref__',\n",
       " '_add_axes_internal',\n",
       " '_agg_filter',\n",
       " '_align_xlabel_grp',\n",
       " '_align_ylabel_grp',\n",
       " '_alpha',\n",
       " '_animated',\n",
       " '_axobservers',\n",
       " '_axstack',\n",
       " '_cachedRenderer',\n",
       " '_clipon',\n",
       " '_clippath',\n",
       " '_constrained',\n",
       " '_constrained_layout_pads',\n",
       " '_contains',\n",
       " '_default_contains',\n",
       " '_dpi',\n",
       " '_gci',\n",
       " '_get_clipping_extent_bbox',\n",
       " '_get_dpi',\n",
       " '_gid',\n",
       " '_gridspecs',\n",
       " '_in_layout',\n",
       " '_label',\n",
       " '_layoutbox',\n",
       " '_make_key',\n",
       " '_mouseover',\n",
       " '_normalize_grid_string',\n",
       " '_oid',\n",
       " '_path_effects',\n",
       " '_picker',\n",
       " '_process_projection_requirements',\n",
       " '_propobservers',\n",
       " '_rasterized',\n",
       " '_remove_method',\n",
       " '_repr_html_',\n",
       " '_set_artist_props',\n",
       " '_set_dpi',\n",
       " '_set_gc_clip',\n",
       " '_sketch',\n",
       " '_snap',\n",
       " '_stale',\n",
       " '_sticky_edges',\n",
       " '_suptitle',\n",
       " '_tight',\n",
       " '_tight_parameters',\n",
       " '_transform',\n",
       " '_transformSet',\n",
       " '_url',\n",
       " '_visible',\n",
       " 'add_artist',\n",
       " 'add_axes',\n",
       " 'add_axobserver',\n",
       " 'add_callback',\n",
       " 'add_gridspec',\n",
       " 'add_subplot',\n",
       " 'align_labels',\n",
       " 'align_xlabels',\n",
       " 'align_ylabels',\n",
       " 'artists',\n",
       " 'autofmt_xdate',\n",
       " 'axes',\n",
       " 'bbox',\n",
       " 'bbox_inches',\n",
       " 'callbacks',\n",
       " 'canvas',\n",
       " 'clear',\n",
       " 'clf',\n",
       " 'clipbox',\n",
       " 'colorbar',\n",
       " 'contains',\n",
       " 'convert_xunits',\n",
       " 'convert_yunits',\n",
       " 'delaxes',\n",
       " 'dpi',\n",
       " 'dpi_scale_trans',\n",
       " 'draw',\n",
       " 'draw_artist',\n",
       " 'eventson',\n",
       " 'execute_constrained_layout',\n",
       " 'figimage',\n",
       " 'figure',\n",
       " 'findobj',\n",
       " 'format_cursor_data',\n",
       " 'frameon',\n",
       " 'gca',\n",
       " 'get_agg_filter',\n",
       " 'get_alpha',\n",
       " 'get_animated',\n",
       " 'get_axes',\n",
       " 'get_children',\n",
       " 'get_clip_box',\n",
       " 'get_clip_on',\n",
       " 'get_clip_path',\n",
       " 'get_constrained_layout',\n",
       " 'get_constrained_layout_pads',\n",
       " 'get_contains',\n",
       " 'get_cursor_data',\n",
       " 'get_default_bbox_extra_artists',\n",
       " 'get_dpi',\n",
       " 'get_edgecolor',\n",
       " 'get_facecolor',\n",
       " 'get_figheight',\n",
       " 'get_figure',\n",
       " 'get_figwidth',\n",
       " 'get_frameon',\n",
       " 'get_gid',\n",
       " 'get_in_layout',\n",
       " 'get_label',\n",
       " 'get_path_effects',\n",
       " 'get_picker',\n",
       " 'get_rasterized',\n",
       " 'get_size_inches',\n",
       " 'get_sketch_params',\n",
       " 'get_snap',\n",
       " 'get_tight_layout',\n",
       " 'get_tightbbox',\n",
       " 'get_transform',\n",
       " 'get_transformed_clip_path_and_affine',\n",
       " 'get_url',\n",
       " 'get_visible',\n",
       " 'get_window_extent',\n",
       " 'get_zorder',\n",
       " 'ginput',\n",
       " 'have_units',\n",
       " 'images',\n",
       " 'init_layoutbox',\n",
       " 'is_transform_set',\n",
       " 'legend',\n",
       " 'legends',\n",
       " 'lines',\n",
       " 'mouseover',\n",
       " 'number',\n",
       " 'patch',\n",
       " 'patches',\n",
       " 'pchanged',\n",
       " 'pick',\n",
       " 'pickable',\n",
       " 'properties',\n",
       " 'remove',\n",
       " 'remove_callback',\n",
       " 'savefig',\n",
       " 'sca',\n",
       " 'set',\n",
       " 'set_agg_filter',\n",
       " 'set_alpha',\n",
       " 'set_animated',\n",
       " 'set_canvas',\n",
       " 'set_clip_box',\n",
       " 'set_clip_on',\n",
       " 'set_clip_path',\n",
       " 'set_constrained_layout',\n",
       " 'set_constrained_layout_pads',\n",
       " 'set_contains',\n",
       " 'set_dpi',\n",
       " 'set_edgecolor',\n",
       " 'set_facecolor',\n",
       " 'set_figheight',\n",
       " 'set_figure',\n",
       " 'set_figwidth',\n",
       " 'set_frameon',\n",
       " 'set_gid',\n",
       " 'set_in_layout',\n",
       " 'set_label',\n",
       " 'set_path_effects',\n",
       " 'set_picker',\n",
       " 'set_rasterized',\n",
       " 'set_size_inches',\n",
       " 'set_sketch_params',\n",
       " 'set_snap',\n",
       " 'set_tight_layout',\n",
       " 'set_transform',\n",
       " 'set_url',\n",
       " 'set_visible',\n",
       " 'set_zorder',\n",
       " 'show',\n",
       " 'stale',\n",
       " 'stale_callback',\n",
       " 'sticky_edges',\n",
       " 'subplot_mosaic',\n",
       " 'subplotpars',\n",
       " 'subplots',\n",
       " 'subplots_adjust',\n",
       " 'suppressComposite',\n",
       " 'suptitle',\n",
       " 'text',\n",
       " 'texts',\n",
       " 'tight_layout',\n",
       " 'transFigure',\n",
       " 'update',\n",
       " 'update_from',\n",
       " 'waitforbuttonpress',\n",
       " 'zorder']"
      ]
     },
     "execution_count": 255,
     "metadata": {},
     "output_type": "execute_result"
    }
   ],
   "source": [
    "dir(fig1)"
   ]
  },
  {
   "cell_type": "code",
   "execution_count": 257,
   "metadata": {},
   "outputs": [
    {
     "data": {
      "image/png": "[encoded data removed]",
      "text/plain": [
       "<Figure size 864x360 with 2 Axes>"
      ]
     },
     "metadata": {},
     "output_type": "display_data"
    }
   ],
   "source": [
    "from IPython.display import display\n",
    "display(fig1)"
   ]
  },
  {
   "cell_type": "code",
   "execution_count": 256,
   "metadata": {},
   "outputs": [
    {
     "name": "stderr",
     "output_type": "stream",
     "text": [
      "/usr/local/lib/python3.6/dist-packages/ipykernel_launcher.py:1: UserWarning: Matplotlib is currently using module://ipykernel.pylab.backend_inline, which is a non-GUI backend, so cannot show the figure.\n",
      "  \"\"\"Entry point for launching an IPython kernel.\n"
     ]
    }
   ],
   "source": []
  },
  {
   "cell_type": "markdown",
   "metadata": {},
   "source": [
    "# Try Doing it On PCA (with reduced components)`"
   ]
  },
  {
   "cell_type": "code",
   "execution_count": null,
   "metadata": {},
   "outputs": [],
   "source": [
    "data_v = data_total_scaled.to_numpy()\n",
    "data_v.shape"
   ]
  },
  {
   "cell_type": "code",
   "execution_count": null,
   "metadata": {},
   "outputs": [],
   "source": [
    "dr = reload(dr)\n",
    "data_analyzed = dr.pca_analysis(data_v,\n",
    "                                n_components=4,\n",
    "                                whiten=True,\n",
    "                                plot_sqrt_eigvals=False)"
   ]
  },
  {
   "cell_type": "code",
   "execution_count": null,
   "metadata": {},
   "outputs": [],
   "source": [
    "data_analyzed[\"percent_variance_explained_up_to_n_comp\"][3]"
   ]
  },
  {
   "cell_type": "code",
   "execution_count": null,
   "metadata": {},
   "outputs": [],
   "source": [
    "axon_data_pca = data_analyzed[\"data_proj\"][axon_indices]\n",
    "basal_data_pca = data_analyzed[\"data_proj\"][basal_indices]\n",
    "apical_data_pca = data_analyzed[\"data_proj\"][apical_indices]\n",
    "data_total_pca = data_analyzed[\"data_proj\"]\n"
   ]
  },
  {
   "cell_type": "code",
   "execution_count": null,
   "metadata": {},
   "outputs": [],
   "source": [
    "# Doing the GMM\n",
    "K = 4\n",
    "covariance_type = \"full\"\n",
    "curr_data = data_total_pca\n",
    "\n",
    "st_time = time.time()\n",
    "\n",
    "#1) Training the GMM\n",
    "gmm = mixture.GaussianMixture(n_components=K, \n",
    "                              covariance_type=covariance_type,\n",
    "                             reg_covar=0.000001,\n",
    "                             init_params=\"kmeans\")\n",
    "gmm.fit(curr_data)\n",
    "\n",
    "# Getting the Average Log likelihood:\n",
    "average_log_likelihood_train = gmm.score(curr_data)\n",
    "print(f\"Average Log likelihood = {average_log_likelihood_train}\")\n",
    "print(f\"Convergence status = {gmm.converged_}\")\n",
    "print(f\"Total time for GMM = {time.time() - st_time}\")\n"
   ]
  },
  {
   "cell_type": "code",
   "execution_count": null,
   "metadata": {},
   "outputs": [],
   "source": [
    "gmm_classification(gmm,data_total_pca)\n",
    "gmm_classification(gmm,axon_data_pca)\n",
    "gmm_classification(gmm,basal_data_pca)\n",
    "gmm_classification(gmm,apical_data_pca)"
   ]
  },
  {
   "cell_type": "code",
   "execution_count": null,
   "metadata": {},
   "outputs": [],
   "source": [
    "gmm_means_inverse = data_analyzed[\"pca_obj\"].inverse_transform(gmm.means_)\n",
    "rec_means = pd.DataFrame(scaler.inverse_transform(gmm_means_inverse))\n",
    "rec_means.columns = columns_picked\n",
    "rec_means"
   ]
  },
  {
   "cell_type": "markdown",
   "metadata": {},
   "source": [
    "# Get the statistics on the different groups "
   ]
  },
  {
   "cell_type": "code",
   "execution_count": null,
   "metadata": {},
   "outputs": [],
   "source": [
    "# getting the mean of a lot of properties\n",
    "\n",
    "df_to_analyze = df_filtered[columns_picked]\n",
    "\n",
    "basal_indices = indices_of_soma_angle(df_filtered,[100,115])\n",
    "axon_indices = indices_of_soma_angle(df_filtered,[165,180])\n",
    "apical_indices = indices_of_soma_angle(df_filtered,[0,20])"
   ]
  },
  {
   "cell_type": "markdown",
   "metadata": {},
   "source": [
    "# Apical Analysis"
   ]
  },
  {
   "cell_type": "code",
   "execution_count": null,
   "metadata": {},
   "outputs": [],
   "source": [
    "axes"
   ]
  },
  {
   "cell_type": "code",
   "execution_count": null,
   "metadata": {},
   "outputs": [],
   "source": [
    "row"
   ]
  },
  {
   "cell_type": "code",
   "execution_count": null,
   "metadata": {},
   "outputs": [],
   "source": [
    "dir(fig)"
   ]
  },
  {
   "cell_type": "code",
   "execution_count": null,
   "metadata": {},
   "outputs": [],
   "source": [
    "def plot_table_histograms(tables_to_plot,tables_labels,fig_title=None):\n",
    "    curr_table = apical_table\n",
    "\n",
    "    fig,axes = plt.subplots(5,4)\n",
    "    fig.set_size_inches(18.5, 10.5)\n",
    "    fig.tight_layout()\n",
    "    \n",
    "    if not fig_title is None:\n",
    "        fig.title(fig_title)\n",
    "\n",
    "    \n",
    "    for j,col_title in enumerate(curr_table):\n",
    "        row = np.floor(j/4).astype(\"int\")\n",
    "        column = j - row*4\n",
    "        ax = axes[row,column]\n",
    "        ax.set_title(col_title)\n",
    "        \n",
    "        for curr_table,curr_table_name in zip(tables_to_plot,tables_labels):\n",
    "            curr_data = curr_table[col_title].to_numpy()\n",
    "            ax.hist(curr_data,bins=50,label=curr_table_name,alpha=0.4,density=True)\n",
    "            \n",
    "        ax.legend()\n",
    "\n",
    "        \n",
    "apical_table = df_to_analyze.iloc[apical_indices]\n",
    "basal_table = df_to_analyze.iloc[basal_indices]\n",
    "axon_table = df_to_analyze.iloc[axon_indices]\n",
    "plot_table_histograms([apical_table,basal_table,axon_table],[\"apical\",\"basal\",\"axon\"])"
   ]
  },
  {
   "cell_type": "code",
   "execution_count": null,
   "metadata": {},
   "outputs": [],
   "source": [
    "plt.hist(apical_table[\"n0_parent_angle\"].to_numpy(),density=True,bins=50)"
   ]
  },
  {
   "cell_type": "markdown",
   "metadata": {},
   "source": [
    "# Variational Inference"
   ]
  },
  {
   "cell_type": "code",
   "execution_count": null,
   "metadata": {},
   "outputs": [],
   "source": [
    "from os import sys\n",
    "sys.path.append(\"/notebooks/Neurosignal_Final/PRML/\")"
   ]
  },
  {
   "cell_type": "code",
   "execution_count": null,
   "metadata": {},
   "outputs": [],
   "source": [
    "from prml.rv import VariationalGaussianMixture"
   ]
  },
  {
   "cell_type": "code",
   "execution_count": null,
   "metadata": {},
   "outputs": [],
   "source": [
    "vgmm = VariationalGaussianMixture(n_components=6)"
   ]
  },
  {
   "cell_type": "code",
   "execution_count": null,
   "metadata": {},
   "outputs": [],
   "source": []
  }
 ],
 "metadata": {
  "kernelspec": {
   "display_name": "Python 3",
   "language": "python",
   "name": "python3"
  },
  "language_info": {
   "codemirror_mode": {
    "name": "ipython",
    "version": 3
   },
   "file_extension": ".py",
   "mimetype": "text/x-python",
   "name": "python",
   "nbconvert_exporter": "python",
   "pygments_lexer": "ipython3",
   "version": "3.6.9"
  }
 },
 "nbformat": 4,
 "nbformat_minor": 4
}
