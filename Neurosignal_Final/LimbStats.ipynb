{
 "cells": [
  {
   "cell_type": "code",
   "execution_count": null,
   "metadata": {},
   "outputs": [],
   "source": [
    "\"\"\"\n",
    "Purpose: To Run the processing pipeline that\n",
    "will extract statistics about the branching pattern \n",
    "and angles of branching in order to later cluster\n",
    "\n",
    "\n",
    "\"\"\""
   ]
  },
  {
   "cell_type": "code",
   "execution_count": null,
   "metadata": {},
   "outputs": [],
   "source": [
    "import numpy as np\n",
    "import datajoint as dj\n",
    "import trimesh\n",
    "from tqdm.notebook import tqdm\n",
    "from pathlib import Path\n",
    "\n",
    "from os import sys\n",
    "sys.path.append(\"/meshAfterParty/\")\n",
    "\n",
    "from importlib import reload"
   ]
  },
  {
   "cell_type": "markdown",
   "metadata": {},
   "source": [
    "# configuring the virtual module"
   ]
  },
  {
   "cell_type": "code",
   "execution_count": null,
   "metadata": {},
   "outputs": [],
   "source": [
    "test_mode = False"
   ]
  },
  {
   "cell_type": "code",
   "execution_count": null,
   "metadata": {},
   "outputs": [],
   "source": [
    "import minfig\n",
    "import time\n",
    "import numpy as np\n",
    "#want to add in a wait for the connection part\n",
    "random_sleep_sec = np.random.randint(0, 400)\n",
    "print(f\"Sleeping {random_sleep_sec} sec before conneting\")\n",
    "\n",
    "if not test_mode:\n",
    "    time.sleep(random_sleep_sec)\n",
    "\n",
    "print(\"Done sleeping\")\n",
    "import datajoint_utils as du\n",
    "du.config_celii()\n",
    "du.set_minnie65_config_segmentation(minfig)\n",
    "du.print_minnie65_config_paths(minfig)\n",
    "\n",
    "#configuring will include the adapters\n",
    "success_flag = False\n",
    "for i in range(10):\n",
    "    try:\n",
    "        minnie,schema = du.configure_minnie_vm()\n",
    "        \n",
    "    except:\n",
    "        print(\"Locked out trying agin in 30 seconds\")\n",
    "        time.sleep(30)\n",
    "    else:\n",
    "        success_flag = True\n",
    "        \n",
    "        \n",
    "    if success_flag:\n",
    "        print(\"successfully configured minnie\")\n",
    "        break"
   ]
  },
  {
   "cell_type": "markdown",
   "metadata": {},
   "source": [
    "# Defining Our Table"
   ]
  },
  {
   "cell_type": "code",
   "execution_count": null,
   "metadata": {},
   "outputs": [],
   "source": [
    "minnie.Limb"
   ]
  },
  {
   "cell_type": "code",
   "execution_count": null,
   "metadata": {},
   "outputs": [],
   "source": [
    "import neuron_utils as nru\n",
    "import neuron\n",
    "import trimesh_utils as tu\n",
    "import numpy as np"
   ]
  },
  {
   "cell_type": "code",
   "execution_count": null,
   "metadata": {},
   "outputs": [],
   "source": [
    "#so that it will have the adapter defined\n",
    "from datajoint_utils import *"
   ]
  },
  {
   "cell_type": "code",
   "execution_count": null,
   "metadata": {},
   "outputs": [],
   "source": [
    "import neuron_statistics as n_st"
   ]
  },
  {
   "cell_type": "code",
   "execution_count": null,
   "metadata": {},
   "outputs": [],
   "source": [
    "import numpy as np\n",
    "import time\n",
    "decimation_version = 0\n",
    "decimation_ratio = 0.25\n",
    "\n",
    "@schema\n",
    "class LimbStats(dj.Computed):\n",
    "    definition=\"\"\"\n",
    "    -> minnie.Decomposition\n",
    "    limb_idx : smallint unsigned #the limb id path was taken from\n",
    "    path_idx : smallint unsigned #path identifier\n",
    "    ---\n",
    "    soma_angle=NULL: double\n",
    "    n0_width_median_mesh_center=NULL: double\n",
    "    n0_width_no_spine_median_mesh_center=NULL: double\n",
    "    n0_n_spines=NULL:int\n",
    "    n0_total_spine_volume=NULL: double\n",
    "    n0_spine_volume_median=NULL: double\n",
    "    n0_spine_volume_density=NULL: double\n",
    "    n0_skeletal_length=NULL: double\n",
    "    n0_parent_angle=NULL: double\n",
    "    n0_sibling_angle=NULL: double\n",
    "    n1_width_median_mesh_center=NULL: double\n",
    "    n1_width_no_spine_median_mesh_center=NULL: double\n",
    "    n1_n_spines=NULL:int\n",
    "    n1_total_spine_volume=NULL: double\n",
    "    n1_spine_volume_median=NULL: double\n",
    "    n1_spine_volume_density=NULL: double\n",
    "    n1_skeletal_length=NULL: double\n",
    "    n1_parent_angle=NULL: double\n",
    "    n1_sibling_angle=NULL: double\n",
    "    \"\"\"\n",
    "    \n",
    "    key_source = (minnie.Decomposition() & \"n_error_limbs = 0\" & \"n_limbs > 4\" & \"n_somas=1\" & \"n_faces>500000\")\n",
    "    key_source\n",
    "    \n",
    "    def make(self,key):\n",
    "        global_start = time.time()\n",
    "        segment_id = key[\"segment_id\"]\n",
    "        verbose = True\n",
    "        \n",
    "        print(f\"\\n\\n----- Working on {segment_id}-------\")\n",
    "        whole_pass_time = time.time()\n",
    "        \n",
    "        neuron_obj = (minnie.Decomposition() & key).fetch1(\"decomposition\")\n",
    "    \n",
    "        dj_inserts = n_st.neuron_path_analysis(neuron_obj,\n",
    "                                      plot_paths=False,\n",
    "                                              verbose=False)\n",
    "        \n",
    "        #adding the key to the dictionaries to be inserted\n",
    "        for k in dj_inserts:\n",
    "            k.update(key)\n",
    "        \n",
    "        if len(dj_inserts)>0:\n",
    "            print(f\"Inserting {len(dj_inserts)} paths\")\n",
    "            LimbStats.insert(dj_inserts,allow_direct_insert=True, skip_duplicates=True)\n",
    "        else:\n",
    "            if verbose:\n",
    "                print(f\"Skipping inserts because none were present\")"
   ]
  },
  {
   "cell_type": "code",
   "execution_count": null,
   "metadata": {},
   "outputs": [],
   "source": [
    "#(minnie.schema.jobs & \"table_name='__limb_stats'\").delete()\n",
    "#((schema.jobs & \"table_name = '__decomposition'\") & \"timestamp>'2020-11-16 00:26:00'\").delete()"
   ]
  },
  {
   "cell_type": "code",
   "execution_count": null,
   "metadata": {},
   "outputs": [],
   "source": [
    "import time\n",
    "import random\n",
    "\n",
    "start_time = time.time()\n",
    "if not test_mode:\n",
    "    time.sleep(random.randint(0, 900))\n",
    "print('Populate Started')\n",
    "if test_mode:\n",
    "    LimbStats.populate(reserve_jobs=True, suppress_errors=False)\n",
    "else:\n",
    "    LimbStats.populate(reserve_jobs=True, suppress_errors=True)\n",
    "print('Populate Done')\n",
    "\n",
    "print(f\"Total time for LimbStats populate = {time.time() - start_time}\")"
   ]
  },
  {
   "cell_type": "code",
   "execution_count": null,
   "metadata": {},
   "outputs": [],
   "source": []
  }
 ],
 "metadata": {
  "kernelspec": {
   "display_name": "Python 3",
   "language": "python",
   "name": "python3"
  },
  "language_info": {
   "codemirror_mode": {
    "name": "ipython",
    "version": 3
   },
   "file_extension": ".py",
   "mimetype": "text/x-python",
   "name": "python",
   "nbconvert_exporter": "python",
   "pygments_lexer": "ipython3",
   "version": "3.6.9"
  }
 },
 "nbformat": 4,
 "nbformat_minor": 4
}
