{
 "cells": [
  {
   "cell_type": "code",
   "execution_count": null,
   "metadata": {},
   "outputs": [],
   "source": [
    "\"\"\"\n",
    "Purpose: To develop the methods for doing spine detection\n",
    "\n",
    "\"\"\""
   ]
  },
  {
   "cell_type": "code",
   "execution_count": 3,
   "metadata": {},
   "outputs": [],
   "source": [
    "from os import sys\n",
    "# sys.path.append(\"../../meshAfterParty/\")\n",
    "sys.path.append(\"../../meshAfterParty/\")\n",
    "from importlib import reload\n",
    "import os\n",
    "from pathlib import Path\n",
    "os.getcwd()\n",
    "\n",
    "\n",
    "import neuron_utils as nru\n",
    "nru = reload(nru)\n",
    "import neuron\n",
    "neuron=reload(neuron)\n",
    "\n",
    "import system_utils as su"
   ]
  },
  {
   "cell_type": "code",
   "execution_count": 4,
   "metadata": {},
   "outputs": [
    {
     "data": {
      "text/plain": [
       "<neuron.Neuron at 0x7f62164a9dd8>"
      ]
     },
     "execution_count": 4,
     "metadata": {},
     "output_type": "execute_result"
    }
   ],
   "source": [
    "compressed_neuron_path = Path(\"../test_neurons/test_objects/12345_2_soma_practice_decompress\")\n",
    "\n",
    "\n",
    "with su.suppress_stdout_stderr():\n",
    "    recovered_neuron = nru.decompress_neuron(filepath=compressed_neuron_path,\n",
    "                      original_mesh=compressed_neuron_path)\n",
    "\n",
    "recovered_neuron"
   ]
  },
  {
   "cell_type": "code",
   "execution_count": 8,
   "metadata": {},
   "outputs": [
    {
     "data": {
      "application/vnd.jupyter.widget-view+json": {
       "model_id": "d74fe6a4fbc9452f996ddb822e1e17a6",
       "version_major": 2,
       "version_minor": 0
      },
      "text/plain": [
       "VBox(children=(Figure(camera=PerspectiveCamera(fov=46.0, position=(0.0, 0.0, 2.0), quaternion=(0.0, 0.0, 0.0, …"
      ]
     },
     "metadata": {},
     "output_type": "display_data"
    }
   ],
   "source": [
    "import skeleton_utils as sk\n",
    "sk.graph_skeleton_and_mesh(other_meshes=[recovered_neuron.concept_network.nodes[\"L1\"][\"data\"].mesh])"
   ]
  },
  {
   "cell_type": "markdown",
   "metadata": {},
   "source": [
    "# Loading the Neuron object from a pkl file"
   ]
  },
  {
   "cell_type": "code",
   "execution_count": 5,
   "metadata": {},
   "outputs": [
    {
     "ename": "FileNotFoundError",
     "evalue": "[Errno 2] No such file or directory: './double_soma_with_spine_analysis.pkl'",
     "output_type": "error",
     "traceback": [
      "\u001b[0;31m---------------------------------------------------------------------------\u001b[0m",
      "\u001b[0;31mFileNotFoundError\u001b[0m                         Traceback (most recent call last)",
      "\u001b[0;32m<ipython-input-5-416d82fa8419>\u001b[0m in \u001b[0;36m<module>\u001b[0;34m\u001b[0m\n\u001b[1;32m      1\u001b[0m \u001b[0;32mimport\u001b[0m \u001b[0msystem_utils\u001b[0m \u001b[0;32mas\u001b[0m \u001b[0msu\u001b[0m\u001b[0;34m\u001b[0m\u001b[0;34m\u001b[0m\u001b[0m\n\u001b[0;32m----> 2\u001b[0;31m \u001b[0mrecovered_neuron\u001b[0m \u001b[0;34m=\u001b[0m \u001b[0msu\u001b[0m\u001b[0;34m.\u001b[0m\u001b[0mload_object\u001b[0m\u001b[0;34m(\u001b[0m\u001b[0;34m\"./double_soma_with_spine_analysis.pkl\"\u001b[0m\u001b[0;34m)\u001b[0m\u001b[0;34m\u001b[0m\u001b[0;34m\u001b[0m\u001b[0m\n\u001b[0m",
      "\u001b[0;32m/meshAfterParty/system_utils.py\u001b[0m in \u001b[0;36mload_object\u001b[0;34m(filename)\u001b[0m\n\u001b[1;32m    181\u001b[0m     \u001b[0;32mif\u001b[0m \u001b[0mfilename\u001b[0m\u001b[0;34m[\u001b[0m\u001b[0;34m-\u001b[0m\u001b[0;36m4\u001b[0m\u001b[0;34m:\u001b[0m\u001b[0;34m]\u001b[0m \u001b[0;34m!=\u001b[0m \u001b[0;34m\".pkl\"\u001b[0m\u001b[0;34m:\u001b[0m\u001b[0;34m\u001b[0m\u001b[0;34m\u001b[0m\u001b[0m\n\u001b[1;32m    182\u001b[0m         \u001b[0mfilename\u001b[0m \u001b[0;34m+=\u001b[0m \u001b[0;34m\".pkl\"\u001b[0m\u001b[0;34m\u001b[0m\u001b[0;34m\u001b[0m\u001b[0m\n\u001b[0;32m--> 183\u001b[0;31m     \u001b[0;32mwith\u001b[0m \u001b[0mopen\u001b[0m\u001b[0;34m(\u001b[0m\u001b[0mfilename\u001b[0m\u001b[0;34m,\u001b[0m \u001b[0;34m'rb'\u001b[0m\u001b[0;34m)\u001b[0m \u001b[0;32mas\u001b[0m \u001b[0minput\u001b[0m\u001b[0;34m:\u001b[0m\u001b[0;34m\u001b[0m\u001b[0;34m\u001b[0m\u001b[0m\n\u001b[0m\u001b[1;32m    184\u001b[0m         \u001b[0mretrieved_obj\u001b[0m \u001b[0;34m=\u001b[0m \u001b[0mpickle\u001b[0m\u001b[0;34m.\u001b[0m\u001b[0mload\u001b[0m\u001b[0;34m(\u001b[0m\u001b[0minput\u001b[0m\u001b[0;34m)\u001b[0m\u001b[0;34m\u001b[0m\u001b[0;34m\u001b[0m\u001b[0m\n\u001b[1;32m    185\u001b[0m     \u001b[0;32mreturn\u001b[0m \u001b[0mretrieved_obj\u001b[0m\u001b[0;34m\u001b[0m\u001b[0;34m\u001b[0m\u001b[0m\n",
      "\u001b[0;31mFileNotFoundError\u001b[0m: [Errno 2] No such file or directory: './double_soma_with_spine_analysis.pkl'"
     ]
    }
   ],
   "source": [
    "import system_utils as su\n",
    "recovered_neuron = su.load_object(\"./double_soma_with_spine_analysis.pkl\") "
   ]
  },
  {
   "cell_type": "code",
   "execution_count": 7,
   "metadata": {},
   "outputs": [],
   "source": [
    "current_neuron = recovered_neuron\n",
    "branch_idx = 0\n",
    "limb_idx = 0\n",
    "import spine_utils as spu\n",
    "spu = reload(spu)\n",
    "\n",
    "current_mesh = recovered_neuron.concept_network.nodes[nru.limb_label(limb_idx)][\"data\"].concept_network.nodes[branch_idx][\"data\"].mesh"
   ]
  },
  {
   "cell_type": "markdown",
   "metadata": {},
   "source": [
    "# Extracting the Spines"
   ]
  },
  {
   "cell_type": "code",
   "execution_count": 14,
   "metadata": {},
   "outputs": [
    {
     "name": "stdout",
     "output_type": "stream",
     "text": [
      "Counter of data = Counter({22.0: 3796, 23.0: 558, 19.0: 410, 5.0: 130, 20.0: 123, 21.0: 89, 10.0: 76, 0.0: 74, 17.0: 70, 1.0: 62, 7.0: 61, 13.0: 54, 18.0: 51, 14.0: 50, 9.0: 48, 15.0: 43, 12.0: 35, 2.0: 33, 6.0: 22, 16.0: 21, 3.0: 20, 8.0: 18, 11.0: 18, 4.0: 11})\n"
     ]
    },
    {
     "data": {
      "application/vnd.jupyter.widget-view+json": {
       "model_id": "e56bc204e319401cae3ea60bd16e6498",
       "version_major": 2,
       "version_minor": 0
      },
      "text/plain": [
       "HBox(children=(FloatProgress(value=0.0, max=24.0), HTML(value='')))"
      ]
     },
     "metadata": {},
     "output_type": "display_data"
    },
    {
     "name": "stdout",
     "output_type": "stream",
     "text": [
      "\n",
      "\n",
      "\n",
      "Total Number of Spines Found = 19\n",
      "Number of spines found = 19\n",
      "current_width = 1007.1029217407495\n"
     ]
    }
   ],
   "source": [
    "current_neuron = recovered_neuron\n",
    "branch_idx = 0\n",
    "limb_idx = 0\n",
    "import spine_utils as spu\n",
    "spu = reload(spu)\n",
    "\n",
    "current_mesh = recovered_neuron.concept_network.nodes[nru.limb_label(limb_idx)][\"data\"].concept_network.nodes[branch_idx][\"data\"].mesh\n",
    "\n",
    "spine_submesh_split = spu.get_spine_meshes_unfiltered(current_neuron = recovered_neuron,\n",
    "                                        limb_idx=limb_idx,\n",
    "                                        branch_idx=branch_idx,\n",
    "                                        clusters=2,\n",
    "                                        smoothness=0.08,\n",
    "                                        cgal_folder = Path(\"./cgal_temp\"),\n",
    "                                        delete_temp_file=True,\n",
    "                                        print_flag=True)\n",
    "\n",
    "print(f\"Number of spines found = {len(spine_submesh_split)}\")\n",
    "current_width = recovered_neuron.concept_network.nodes[nru.limb_label(limb_idx)][\"data\"].concept_network.nodes[branch_idx][\"data\"].width\n",
    "print(f\"current_width = {current_width}\")"
   ]
  },
  {
   "cell_type": "code",
   "execution_count": 15,
   "metadata": {},
   "outputs": [
    {
     "name": "stdout",
     "output_type": "stream",
     "text": [
      "Spine 0: face length = 134\n"
     ]
    },
    {
     "data": {
      "application/vnd.jupyter.widget-view+json": {
       "model_id": "7736dc2d4bf6468298bb2c31849d5cd4",
       "version_major": 2,
       "version_minor": 0
      },
      "text/plain": [
       "VBox(children=(Figure(camera=PerspectiveCamera(fov=46.0, position=(0.0, 0.0, 2.0), quaternion=(0.0, 0.0, 0.0, …"
      ]
     },
     "metadata": {},
     "output_type": "display_data"
    }
   ],
   "source": [
    "import skeleton_utils as sk\n",
    "\n",
    "k = 0\n",
    "v = spine_submesh_split[k]\n",
    "\n",
    "\n",
    "\n",
    "\n",
    "print(f\"Spine {k}: face length = {len(v.faces)}\")\n",
    "sk.graph_skeleton_and_mesh(other_meshes = [current_mesh,v],\n",
    "                          other_meshes_colors=[\"white\",\"red\"],\n",
    "                          mesh_alpha=0.3)"
   ]
  },
  {
   "cell_type": "code",
   "execution_count": null,
   "metadata": {},
   "outputs": [],
   "source": []
  },
  {
   "cell_type": "markdown",
   "metadata": {},
   "source": [
    "# Actually graphing the spines"
   ]
  },
  {
   "cell_type": "code",
   "execution_count": null,
   "metadata": {},
   "outputs": [],
   "source": [
    "#have a size threshold for them\n",
    "import skeleton_utils as sk\n",
    "\n",
    "# branch_idx = 0\n",
    "# limb_idx = 0\n",
    "# clusters=2\n",
    "# smoothness=0.05\n",
    "\n",
    "\n",
    "spine_n_faces_lower_bound = 50\n",
    "correct_spine = [4,5,6,7,8,9,13,14,15,16,17,18,19,20,21]\n",
    "correct_spine_double_kissing_head = [10]\n",
    "correct_spine_double_connected_stem = [4]\n",
    "coorect_spine_fat_head = [17]\n",
    "keep_spines = [2]\n",
    "false_spine = [0]\n",
    "small_stubs = [1,3,11.22]\n",
    "shaft_patch = [0,12]\n",
    "k = \n",
    "v = spine_submesh_split[k]\n",
    "\n",
    "\n",
    "\n",
    "\n",
    "print(f\"Spine {k}: face length = {len(v.faces)}\")\n",
    "sk.graph_skeleton_and_mesh(other_meshes = [current_mesh,v],\n",
    "                          other_meshes_colors=[\"white\",\"red\"],\n",
    "                          mesh_alpha=0.3)"
   ]
  },
  {
   "cell_type": "markdown",
   "metadata": {},
   "source": [
    "# Trial 2 (After sorting)"
   ]
  },
  {
   "cell_type": "code",
   "execution_count": null,
   "metadata": {},
   "outputs": [],
   "source": [
    "current_neuron = recovered_neuron\n",
    "branch_idx = 0\n",
    "limb_idx = 0\n",
    "import spine_utils as spu\n",
    "spu = reload(spu)\n",
    "\n",
    "current_mesh = recovered_neuron.concept_network.nodes[nru.limb_label(limb_idx)][\"data\"].concept_network.nodes[branch_idx][\"data\"].mesh\n",
    "\n",
    "(spine_submesh_split,\n",
    " spine_submesh_split_sdf)= spu.get_spine_meshes_unfiltered(current_neuron = recovered_neuron,\n",
    "                                        limb_idx=limb_idx,\n",
    "                                        branch_idx=branch_idx,\n",
    "                                        clusters=2,\n",
    "                                        smoothness=0.07,\n",
    "                                        cgal_folder = Path(\"./cgal_temp\"),\n",
    "                                        delete_temp_file=True,\n",
    "                                                           return_sdf=True,\n",
    "                                        print_flag=True)\n",
    "\n",
    "print(f\"Number of spines found = {len(spine_submesh_split)}\")\n",
    "#print(spine_submesh_split)\n",
    "\n",
    "\"\"\"\n",
    "Max spine size 70\n",
    "\"\"\"\n",
    "print(spu.apply_sdf_filter(spine_submesh_split_sdf,return_not_passed=True))\n",
    "for s_sdf in spine_submesh_split_sdf:\n",
    "    print(spu.sdf_median_mean_difference(s_sdf),np.mean(s_sdf))\n",
    "    \n",
    "\n",
    "current_width = recovered_neuron.concept_network.nodes[nru.limb_label(limb_idx)][\"data\"].concept_network.nodes[branch_idx][\"data\"].width\n",
    "print(f\"current_width = {current_width}\")"
   ]
  },
  {
   "cell_type": "code",
   "execution_count": null,
   "metadata": {},
   "outputs": [],
   "source": [
    "#have a size threshold for them\n",
    "import skeleton_utils as sk\n",
    "\n",
    "# branch_idx = 0\n",
    "# limb_idx = 0\n",
    "# clusters=2\n",
    "# smoothness=0.07\n",
    "\n",
    "\n",
    "spine_n_faces_lower_bound = 50\n",
    "correct_spine = [0,1,2,3,4,5,6,7,8,9,11,12,13,14,15,16,17]\n",
    "correct_spine_double_kissing_head = [1]\n",
    "correct_spine_double_connected_stem = [3]\n",
    "coorect_spine_fat_head = []\n",
    "correct_spine_small_stub = [15,16,17]\n",
    "keep_spines = []\n",
    "false_spine = []\n",
    "small_stubs = [18,19]\n",
    "end_of_branch_false = [10]\n",
    "\n",
    "lower_bound_size_threshold = 25\n",
    "\n",
    "\n",
    "k = 0\n",
    "v = spine_submesh_split[k]\n",
    "\n",
    "\n",
    "\n",
    "print(f\"Spine {k}: face length = {len(v.faces)}\")\n",
    "sk.graph_skeleton_and_mesh(other_meshes = [current_mesh,v],\n",
    "                          other_meshes_colors=[\"white\",\"red\"],\n",
    "                          mesh_alpha=0.3)"
   ]
  },
  {
   "cell_type": "code",
   "execution_count": null,
   "metadata": {},
   "outputs": [],
   "source": [
    "print(f\"Spine {k}: face length = {len(v.faces)}\")\n",
    "sk.graph_skeleton_and_mesh(other_meshes = [v],\n",
    "                          other_meshes_colors=[\"red\"],\n",
    "                          mesh_alpha=0.3)"
   ]
  },
  {
   "cell_type": "markdown",
   "metadata": {},
   "source": [
    "# Trial 2 (smoothnes = 0.15)"
   ]
  },
  {
   "cell_type": "code",
   "execution_count": null,
   "metadata": {},
   "outputs": [],
   "source": [
    "current_neuron = recovered_neuron\n",
    "branch_idx = 0\n",
    "limb_idx = 1\n",
    "import spine_utils as spu\n",
    "spu = reload(spu)\n",
    "\n",
    "current_mesh = recovered_neuron.concept_network.nodes[nru.limb_label(limb_idx)][\"data\"].concept_network.nodes[branch_idx][\"data\"].mesh\n",
    "\n",
    "spine_submesh_split = spu.get_spine_meshes_unfiltered(current_neuron = recovered_neuron,\n",
    "                                        limb_idx=limb_idx,\n",
    "                                        branch_idx=branch_idx,\n",
    "                                        clusters=2,\n",
    "                                        smoothness=0.1,\n",
    "                                        cgal_folder = Path(\"./cgal_temp\"),\n",
    "                                        delete_temp_file=True,\n",
    "                                        print_flag=True)\n",
    "\n",
    "print(f\"Number of spines found = {len(spine_submesh_split)}\")\n",
    "current_width = recovered_neuron.concept_network.nodes[nru.limb_label(limb_idx)][\"data\"].concept_network.nodes[branch_idx][\"data\"].width\n",
    "print(f\"\\n\\ncurrent_width = {current_width}\")\n",
    "\"\"\"\n",
    "Max spine size = 87\n",
    "\"\"\""
   ]
  },
  {
   "cell_type": "code",
   "execution_count": null,
   "metadata": {},
   "outputs": [],
   "source": [
    "#have a size threshold for them\n",
    "import skeleton_utils as sk\n",
    "\n",
    "# branch_idx = 0\n",
    "# limb_idx = 1\n",
    "# clusters=2\n",
    "# smoothness=0.07\n",
    "\n",
    "correct_spine = [0,1,2,3,4,6,7,8,9,10,11,12,13,14]\n",
    "correct_spine_double_kissing_head = []\n",
    "correct_spine_double_connected_stem = []\n",
    "coorect_spine_fat_head = []\n",
    "correct_spine_small_stub = [15,16]\n",
    "keep_spines = []\n",
    "false_spine = []\n",
    "small_stubs = []\n",
    "shaft_patch = [17,18,19,20,21,22,23,24,25]\n",
    "end_of_branch_false = [5]\n",
    "\n",
    "lower_bound_size_threshold = 20\n",
    "\n",
    "\n",
    "k = 0\n",
    "v = spine_submesh_split[k]\n",
    "\n",
    "\n",
    "\n",
    "print(f\"Spine {k}: face length = {len(v.faces)}\")\n",
    "sk.graph_skeleton_and_mesh(main_mesh_verts=current_mesh.vertices,\n",
    "                           main_mesh_faces = current_mesh.faces,\n",
    "                           main_mesh_color=\"white\",\n",
    "    other_meshes = spine_submesh_split,\n",
    "                          other_meshes_colors=[\"red\"],\n",
    "                          mesh_alpha=0.3)"
   ]
  },
  {
   "cell_type": "markdown",
   "metadata": {},
   "source": [
    "# Trial 2"
   ]
  },
  {
   "cell_type": "code",
   "execution_count": null,
   "metadata": {},
   "outputs": [],
   "source": [
    "current_neuron = recovered_neuron\n",
    "branch_idx = 0\n",
    "limb_idx = 1\n",
    "import spine_utils as spu\n",
    "spu = reload(spu)\n",
    "\n",
    "current_mesh = recovered_neuron.concept_network.nodes[nru.limb_label(limb_idx)][\"data\"].concept_network.nodes[branch_idx][\"data\"].mesh\n",
    "\n",
    "spine_submesh_split = spu.get_spine_meshes_unfiltered(current_neuron = recovered_neuron,\n",
    "                                        limb_idx=limb_idx,\n",
    "                                        branch_idx=branch_idx,\n",
    "                                        clusters=2,\n",
    "                                        smoothness=0.07,\n",
    "                                        cgal_folder = Path(\"./cgal_temp\"),\n",
    "                                        delete_temp_file=True,\n",
    "                                        print_flag=True)\n",
    "\n",
    "print(f\"Number of spines found = {len(spine_submesh_split)}\")\n",
    "print(spine_submesh_split)\n",
    "current_width = recovered_neuron.concept_network.nodes[nru.limb_label(limb_idx)][\"data\"].concept_network.nodes[branch_idx][\"data\"].width\n",
    "print(f\"\\n\\ncurrent_width = {current_width}\")\n",
    "\"\"\"\n",
    "Max spine size = 87\n",
    "\"\"\""
   ]
  },
  {
   "cell_type": "code",
   "execution_count": null,
   "metadata": {},
   "outputs": [],
   "source": [
    "#have a size threshold for them\n",
    "import skeleton_utils as sk\n",
    "\n",
    "# branch_idx = 0\n",
    "# limb_idx = 1\n",
    "# clusters=2\n",
    "# smoothness=0.07\n",
    "\n",
    "correct_spine = [0,1,2,3,4,6,7,8,9,10,11,12,13,14]\n",
    "correct_spine_double_kissing_head = []\n",
    "correct_spine_double_connected_stem = []\n",
    "coorect_spine_fat_head = []\n",
    "correct_spine_small_stub = [15,16]\n",
    "keep_spines = []\n",
    "false_spine = []\n",
    "small_stubs = []\n",
    "shaft_patch = [17,18,19,20,21,22,23,24,25]\n",
    "end_of_branch_false = [5]\n",
    "\n",
    "lower_bound_size_threshold = 20\n",
    "\n",
    "\n",
    "k = 21\n",
    "v = spine_submesh_split[k]\n",
    "\n",
    "\n",
    "\n",
    "print(f\"Spine {k}: face length = {len(v.faces)}\")\n",
    "sk.graph_skeleton_and_mesh(other_meshes = [current_mesh,v],\n",
    "                          other_meshes_colors=[\"white\",\"red\"],\n",
    "                          mesh_alpha=0.3)"
   ]
  },
  {
   "cell_type": "code",
   "execution_count": null,
   "metadata": {},
   "outputs": [],
   "source": [
    "print(f\"Spine {k}: face length = {len(v.faces)}\")\n",
    "sk.graph_skeleton_and_mesh(other_meshes = [v],\n",
    "                          other_meshes_colors=[\"red\"],\n",
    "                          mesh_alpha=0.3)"
   ]
  },
  {
   "cell_type": "markdown",
   "metadata": {},
   "source": [
    "# Trial 3"
   ]
  },
  {
   "cell_type": "code",
   "execution_count": null,
   "metadata": {},
   "outputs": [],
   "source": [
    "current_neuron = recovered_neuron\n",
    "branch_idx = 0\n",
    "limb_idx = 3\n",
    "import spine_utils as spu\n",
    "spu = reload(spu)\n",
    "\n",
    "\n",
    "current_mesh = recovered_neuron.concept_network.nodes[nru.limb_label(limb_idx)][\"data\"].concept_network.nodes[branch_idx][\"data\"].mesh\n",
    "\n",
    "spine_submesh_split = spu.get_spine_meshes_unfiltered(current_neuron = recovered_neuron,\n",
    "                                        limb_idx=limb_idx,\n",
    "                                        branch_idx=branch_idx,\n",
    "                                        clusters=2,\n",
    "                                        smoothness=0.15,\n",
    "                                        cgal_folder = Path(\"./cgal_temp\"),\n",
    "                                        delete_temp_file=True,\n",
    "                                        print_flag=True)\n",
    "\n",
    "print(f\"Number of spines found = {len(spine_submesh_split)}\")\n",
    "#print(spine_submesh_split)\n",
    "\n",
    "current_width = recovered_neuron.concept_network.nodes[nru.limb_label(limb_idx)][\"data\"].concept_network.nodes[branch_idx][\"data\"].width\n",
    "print(f\"\\n\\ncurrent_width = {current_width}\")\n",
    "\"\"\"\n",
    "Max spine size = 87\n",
    "\"\"\""
   ]
  },
  {
   "cell_type": "code",
   "execution_count": null,
   "metadata": {},
   "outputs": [],
   "source": [
    "##### have a size threshold for them\n",
    "import skeleton_utils as sk\n",
    "\n",
    "# branch_idx = 0\n",
    "# limb_idx = 1\n",
    "# clusters=2\n",
    "# smoothness=0.07\n",
    "\n",
    "correct_spine = [0,1,2,3,4,5,6,7,8,9,10,11,12,13,14,\n",
    "                16,17,19,20,21,22,23,24,25,26,27,28,\n",
    "                29,30,31,32,33,34,35,36,37,38,39,40,\n",
    "                41,42,43,45,46,47,48,49,50,51,52,53,54,\n",
    "                55,56,57,58,59,60,61,62,63]\n",
    "correct_spine_double_kissing_head = [0]\n",
    "correct_spine_double_connected_stem = [18]\n",
    "coorect_spine_fat_head = []\n",
    "correct_spine_small_stub = [44,53,54,58,61,62,63]\n",
    "keep_spines = []\n",
    "false_spine = []\n",
    "small_stubs = []\n",
    "shaft_patch = []\n",
    "big_shaft_patch = []\n",
    "end_of_branch_false = [15]\n",
    "\n",
    "lower_bound_size_threshold = 20\n",
    "\n",
    "\n",
    "k = 64\n",
    "v = spine_submesh_split[k]\n",
    "\n",
    "\n",
    "\"\"\"\n",
    "Max spine size = 105\n",
    "\"\"\"\n",
    "\n",
    "print(f\"Spine {k}: face length = {len(v.faces)}\")\n",
    "current_skeleton = recovered_neuron.concept_network.nodes[nru.limb_label(limb_idx)][\"data\"].concept_network.nodes[branch_idx][\"data\"].skeleton\n",
    "\n",
    "sk.graph_skeleton_and_mesh(other_meshes = [current_mesh,v],\n",
    "                          other_meshes_colors=[\"white\",\"red\"],\n",
    "                           other_skeletons=[current_skeleton],\n",
    "                          mesh_alpha=0.3)"
   ]
  },
  {
   "cell_type": "markdown",
   "metadata": {},
   "source": [
    "# Trial 4 (with 0.15 smoothness)"
   ]
  },
  {
   "cell_type": "code",
   "execution_count": null,
   "metadata": {},
   "outputs": [],
   "source": [
    "current_neuron = recovered_neuron\n",
    "branch_idx = 0\n",
    "limb_idx = 4\n",
    "import spine_utils as spu\n",
    "spu = reload(spu)\n",
    "\n",
    "\n",
    "current_mesh = recovered_neuron.concept_network.nodes[nru.limb_label(limb_idx)][\"data\"].concept_network.nodes[branch_idx][\"data\"].mesh\n",
    "\n",
    "spine_submesh_split = spu.get_spine_meshes_unfiltered(current_neuron = recovered_neuron,\n",
    "                                        limb_idx=limb_idx,\n",
    "                                        branch_idx=branch_idx,\n",
    "                                        clusters=2,\n",
    "                                        smoothness=0.15,\n",
    "                                        cgal_folder = Path(\"./cgal_temp\"),\n",
    "                                        delete_temp_file=True,\n",
    "                                        print_flag=True)\n",
    "\n",
    "print(f\"Number of spines found = {len(spine_submesh_split)}\")\n",
    "#print(spine_submesh_split)\n",
    "\n",
    "current_width = recovered_neuron.concept_network.nodes[nru.limb_label(limb_idx)][\"data\"].concept_network.nodes[branch_idx][\"data\"].width\n",
    "print(f\"\\n\\ncurrent_width = {current_width}\")\n",
    "\"\"\"\n",
    "Max spine size = 87\n",
    "\"\"\""
   ]
  },
  {
   "cell_type": "code",
   "execution_count": null,
   "metadata": {},
   "outputs": [],
   "source": [
    "##### have a size threshold for them\n",
    "import skeleton_utils as sk\n",
    "\n",
    "# branch_idx = 4\n",
    "# limb_idx = 0\n",
    "# clusters=2\n",
    "# smoothness=0.07\n",
    "\n",
    "correct_spine = [0,1,2,3,4,5,6,7,8,9,10,11,12,\n",
    "                13,14,15,16,17,18,19,20,21,22,23,24]\n",
    "\n",
    "correct_spine_double_kissing_head = []\n",
    "correct_spine_double_connected_stem = []\n",
    "coorect_spine_fat_head = []\n",
    "correct_spine_small_stub = [21,22,23,24]\n",
    "keep_spines = []\n",
    "false_spine = []\n",
    "small_stubs = []\n",
    "shaft_patch = [25]\n",
    "big_shaft_patch = []\n",
    "end_of_branch_false = []\n",
    "\n",
    "lower_bound_size_threshold = 20\n",
    "\n",
    "\n",
    "k = 25\n",
    "v = spine_submesh_split[k]\n",
    "\n",
    "\n",
    "\"\"\"\n",
    "Max spine size = 282\n",
    "\"\"\"\n",
    "\n",
    "print(f\"Spine {k}: face length = {len(v.faces)}\")\n",
    "current_skeleton = recovered_neuron.concept_network.nodes[nru.limb_label(limb_idx)][\"data\"].concept_network.nodes[branch_idx][\"data\"].skeleton\n",
    "\n",
    "sk.graph_skeleton_and_mesh(other_meshes = [current_mesh,v],\n",
    "                          other_meshes_colors=[\"white\",\"red\"],\n",
    "                           other_skeletons=[current_skeleton],\n",
    "                          mesh_alpha=0.3)"
   ]
  },
  {
   "cell_type": "code",
   "execution_count": null,
   "metadata": {},
   "outputs": [],
   "source": [
    "current_neuron = recovered_neuron\n",
    "branch_idx = 0\n",
    "limb_idx = 4\n",
    "import spine_utils as spu\n",
    "spu = reload(spu)\n",
    "\n",
    "\n",
    "current_mesh = recovered_neuron.concept_network.nodes[nru.limb_label(limb_idx)][\"data\"].concept_network.nodes[branch_idx][\"data\"].mesh\n",
    "\n",
    "spine_submesh_split = spu.get_spine_meshes_unfiltered(current_neuron = recovered_neuron,\n",
    "                                        limb_idx=limb_idx,\n",
    "                                        branch_idx=branch_idx,\n",
    "                                        clusters=2,\n",
    "                                        smoothness=0.07,\n",
    "                                        cgal_folder = Path(\"./cgal_temp\"),\n",
    "                                        delete_temp_file=True,\n",
    "                                        print_flag=True)\n",
    "\n",
    "print(f\"Number of spines found = {len(spine_submesh_split)}\")\n",
    "#print(spine_submesh_split)\n",
    "\n",
    "current_width = recovered_neuron.concept_network.nodes[nru.limb_label(limb_idx)][\"data\"].concept_network.nodes[branch_idx][\"data\"].width\n",
    "print(f\"\\n\\ncurrent_width = {current_width}\")\n",
    "\"\"\"\n",
    "Max spine size = 87\n",
    "\"\"\""
   ]
  },
  {
   "cell_type": "code",
   "execution_count": null,
   "metadata": {},
   "outputs": [],
   "source": [
    "##### have a size threshold for them\n",
    "import skeleton_utils as sk\n",
    "\n",
    "# branch_idx = 4\n",
    "# limb_idx = 0\n",
    "# clusters=2\n",
    "# smoothness=0.07\n",
    "\n",
    "correct_spine = []\n",
    "\n",
    "correct_spine_double_kissing_head = []\n",
    "correct_spine_double_connected_stem = []\n",
    "coorect_spine_fat_head = []\n",
    "correct_spine_small_stub = []\n",
    "keep_spines = []\n",
    "false_spine = []\n",
    "small_stubs = []\n",
    "shaft_patch = []\n",
    "big_shaft_patch = []\n",
    "end_of_branch_false = []\n",
    "\n",
    "lower_bound_size_threshold = 20\n",
    "\n",
    "\n",
    "k = 1\n",
    "v = spine_submesh_split[k]\n",
    "\n",
    "\n",
    "\"\"\"\n",
    "Max spine size = 282\n",
    "\"\"\"\n",
    "\n",
    "print(f\"Spine {k}: face length = {len(v.faces)}\")\n",
    "current_skeleton = recovered_neuron.concept_network.nodes[nru.limb_label(limb_idx)][\"data\"].concept_network.nodes[branch_idx][\"data\"].skeleton\n",
    "\n",
    "sk.graph_skeleton_and_mesh(other_meshes = [current_mesh,v],\n",
    "                          other_meshes_colors=[\"white\",\"red\"],\n",
    "                           other_skeletons=[current_skeleton],\n",
    "                          mesh_alpha=0.3)"
   ]
  },
  {
   "cell_type": "markdown",
   "metadata": {},
   "source": [
    "# Problem One (looking at sdf values)"
   ]
  },
  {
   "cell_type": "code",
   "execution_count": null,
   "metadata": {},
   "outputs": [],
   "source": []
  },
  {
   "cell_type": "code",
   "execution_count": 17,
   "metadata": {},
   "outputs": [
    {
     "name": "stdout",
     "output_type": "stream",
     "text": [
      "Counter of data = Counter({1.0: 907, 0.0: 133, 2.0: 128})\n"
     ]
    },
    {
     "data": {
      "application/vnd.jupyter.widget-view+json": {
       "model_id": "93bee97be8b34a2e9c08e018e7962765",
       "version_major": 2,
       "version_minor": 0
      },
      "text/plain": [
       "HBox(children=(FloatProgress(value=0.0, max=3.0), HTML(value='')))"
      ]
     },
     "metadata": {},
     "output_type": "display_data"
    },
    {
     "name": "stdout",
     "output_type": "stream",
     "text": [
      "\n",
      "\n",
      "\n",
      "Total Number of Spines Found = 1\n",
      "Number of spines found = 1\n",
      "\n",
      "\n",
      "current_width = 433.3839361035627\n"
     ]
    },
    {
     "data": {
      "text/plain": [
       "'\\nMax spine size = 87\\n'"
      ]
     },
     "execution_count": 17,
     "metadata": {},
     "output_type": "execute_result"
    }
   ],
   "source": [
    "current_neuron = uncompressed_neuron\n",
    "branch_idx = 3\n",
    "limb_idx = 1\n",
    "import spine_utils as spu\n",
    "spu = reload(spu)\n",
    "\n",
    "\n",
    "current_mesh = current_neuron.concept_network.nodes[nru.limb_label(limb_idx)][\"data\"].concept_network.nodes[branch_idx][\"data\"].mesh\n",
    "\n",
    "spine_submesh_split ,spine_submesh_split_sdf= spu.get_spine_meshes_unfiltered(current_neuron = current_neuron,\n",
    "                                        limb_idx=limb_idx,\n",
    "                                        branch_idx=branch_idx,\n",
    "                                        clusters=2,\n",
    "                                        smoothness=0.1,\n",
    "                                        cgal_folder = Path(\"./cgal_temp\"),\n",
    "                                        delete_temp_file=True,\n",
    "                                        return_sdf=True,\n",
    "                                        print_flag=True)\n",
    "\n",
    "print(f\"Number of spines found = {len(spine_submesh_split)}\")\n",
    "#print(spine_submesh_split)\n",
    "\n",
    "current_width = uncompressed_neuron.concept_network.nodes[nru.limb_label(limb_idx)][\"data\"].concept_network.nodes[branch_idx][\"data\"].width\n",
    "print(f\"\\n\\ncurrent_width = {current_width}\")\n",
    "\"\"\"\n",
    "Max spine size = 87\n",
    "\"\"\"\n",
    "\n",
    "#print(f\"Failed sdf test {spu.apply_sdf_filter(spine_submesh_split_sdf,return_not_passed=True)}\")"
   ]
  },
  {
   "cell_type": "code",
   "execution_count": null,
   "metadata": {},
   "outputs": [],
   "source": [
    "##### have a size threshold for them\n",
    "import skeleton_utils as sk\n",
    "\n",
    "# branch_idx = 4\n",
    "# limb_idx = 0\n",
    "# clusters=2\n",
    "# smoothness=0.07\n",
    "\n",
    "correct_spine = []\n",
    "\n",
    "correct_spine_double_kissing_head = []\n",
    "correct_spine_double_connected_stem = []\n",
    "coorect_spine_fat_head = []\n",
    "correct_spine_small_stub = []\n",
    "keep_spines = []\n",
    "false_spine = []\n",
    "small_stubs = []\n",
    "shaft_patch = []\n",
    "big_shaft_patch = []\n",
    "end_of_branch_false = []\n",
    "\n",
    "lower_bound_size_threshold = 20\n",
    "\n",
    "\n",
    "\n",
    "k = 0\n",
    "v = spine_submesh_split[k]\n",
    "v_sdf = spine_submesh_split_sdf[k]\n",
    "\n",
    "\n",
    "\n",
    "\"\"\"\n",
    "Max spine size = 282\n",
    "\"\"\"\n",
    "\n",
    "print(f\"Spine {k}: face length = {len(v.faces)}, sdf_median = {np.median(v_sdf)}, sdf_mean={np.mean(v_sdf)}\")\n",
    "current_skeleton = recovered_neuron.concept_network.nodes[nru.limb_label(limb_idx)][\"data\"].concept_network.nodes[branch_idx][\"data\"].skeleton\n",
    "\n",
    "sk.graph_skeleton_and_mesh(other_meshes = [current_mesh,v],\n",
    "                          other_meshes_colors=[\"white\",\"red\"],\n",
    "                           other_skeletons=[current_skeleton],\n",
    "                          mesh_alpha=0.3)"
   ]
  },
  {
   "cell_type": "code",
   "execution_count": null,
   "metadata": {},
   "outputs": [],
   "source": [
    "# print out all of the sdf values\n",
    "for j,v_sdf in enumerate(spine_submesh_split_sdf):\n",
    "    print(j,np.round(np.abs(np.median(v_sdf)-np.mean(v_sdf)),4),np.mean(v_sdf),np.median(v_sdf))"
   ]
  },
  {
   "cell_type": "markdown",
   "metadata": {},
   "source": [
    "# How to determine if on the shaft or not"
   ]
  },
  {
   "cell_type": "code",
   "execution_count": null,
   "metadata": {},
   "outputs": [],
   "source": [
    "\"\"\"\n",
    "What I've learned: \n",
    "\n",
    "lower size threshold = 19\n",
    "smoothness to use: 0.1\n",
    "\n",
    "Things to worry about: \n",
    "1) Could not count spines that have a max distance of vertices from the skeleton endpoints (but there are close spines\n",
    "2) When the mesh width gets big then a good bit of false positives\n",
    ">> branch_idx = 0; limb_idx = 2 #very large width so hard to distinguish false from positive spines\n",
    "\n",
    "\n",
    "\n",
    "\n",
    "\"\"\""
   ]
  },
  {
   "cell_type": "markdown",
   "metadata": {},
   "source": [
    "# checking what happens with axon like branches (need to get size, and width to use)"
   ]
  },
  {
   "cell_type": "code",
   "execution_count": null,
   "metadata": {},
   "outputs": [],
   "source": [
    "import neuron_visualizations as nviz\n",
    "import neuron_searching as ns\n",
    "\n",
    "\n",
    "recovered_neuron_limb_branch_dict = ns.query_neuron(recovered_neuron,\n",
    "               functions_list=[\"width\",\"n_faces_branch\"],\n",
    "               query=\"width<400 and n_faces_branch>30\")"
   ]
  },
  {
   "cell_type": "code",
   "execution_count": null,
   "metadata": {},
   "outputs": [],
   "source": [
    "nviz.visualize_neuron(recovered_neuron,\n",
    "                     limb_branch_dict = recovered_neuron_limb_branch_dict,\n",
    "                     visualize_type=[\"mesh\"],\n",
    "                     mesh_color=\"red\",\n",
    "                      mesh_color_alpha=1,\n",
    "                      mesh_whole_neuron=True,\n",
    "                      mesh_soma=False\n",
    "                     )"
   ]
  },
  {
   "cell_type": "markdown",
   "metadata": {},
   "source": [
    "# Problem neurons"
   ]
  },
  {
   "cell_type": "code",
   "execution_count": null,
   "metadata": {},
   "outputs": [],
   "source": [
    "recovered_neuron_limb_branch_dict"
   ]
  },
  {
   "cell_type": "code",
   "execution_count": null,
   "metadata": {},
   "outputs": [],
   "source": [
    "import ipyvolume as ipv\n",
    "ipv.pylab.clear()\n",
    "ns = reload(ns)\n",
    "nviz = reload(nviz)\n",
    "new_branch_dict = ns.query_neuron(recovered_neuron,\n",
    "               functions_list=[\"width\",\"n_faces_branch\"],\n",
    "               query=\"width > 400 and n_faces_branch>100\")\n",
    "\n",
    "nviz.visualize_neuron(recovered_neuron,\n",
    "                     limb_branch_dict = new_branch_dict,#dict(L1=[3]),\n",
    "                     visualize_type=[\"mesh\"],\n",
    "                     mesh_color=\"red\",\n",
    "                      mesh_color_alpha=1,\n",
    "                      mesh_whole_neuron=False,\n",
    "                      mesh_soma=False,\n",
    "                      \n",
    "                     )"
   ]
  },
  {
   "cell_type": "markdown",
   "metadata": {},
   "source": [
    "# Try a big run to calculate spines on entire neuron branches"
   ]
  },
  {
   "cell_type": "code",
   "execution_count": null,
   "metadata": {},
   "outputs": [],
   "source": [
    "import neuron_searching as ns\n",
    "new_branch_dict = ns.query_neuron(recovered_neuron,\n",
    "               functions_list=[\"width\",\"n_faces_branch\"],\n",
    "               query=\"width > 400 and n_faces_branch>100\")\n",
    "\n",
    "new_branch_dict"
   ]
  },
  {
   "cell_type": "code",
   "execution_count": null,
   "metadata": {
    "scrolled": true
   },
   "outputs": [],
   "source": [
    "clusters_threshold = 2\n",
    "smoothness_threshold = 0.1\n",
    "shaft_threshold = 300\n",
    "import spine_utils as spu\n",
    "spu = reload(spu)\n",
    "\n",
    "for limb_idx,branch_list in new_branch_dict.items():\n",
    "    for branch_idx in branch_list:\n",
    "        print(f\"Working on limb {limb_idx} branch {branch_idx}\")\n",
    "        #calculate the spines\n",
    "        spine_submesh_split= spu.get_spine_meshes_unfiltered(current_neuron = recovered_neuron,\n",
    "                                                limb_idx=limb_idx,\n",
    "                                                branch_idx=branch_idx,\n",
    "                                                clusters=clusters_threshold,\n",
    "                                                smoothness=smoothness_threshold,\n",
    "                                                cgal_folder = Path(\"./cgal_temp\"),\n",
    "                                                delete_temp_file=True,\n",
    "                                                return_sdf=False,\n",
    "                                                print_flag=False,\n",
    "                                                shaft_threshold=shaft_threshold)\n",
    "        \n",
    "        spine_submesh_split_filtered = spu.filter_spine_meshes(spine_submesh_split,\n",
    "                                                              spine_n_face_threshold=20)\n",
    "        \n",
    "        recovered_neuron.concept_network.nodes[nru.limb_label(limb_idx)][\"data\"].concept_network.nodes[branch_idx][\"data\"].spines = spine_submesh_split_filtered\n",
    "        \n",
    "        "
   ]
  },
  {
   "cell_type": "code",
   "execution_count": null,
   "metadata": {},
   "outputs": [],
   "source": [
    "import system_utils as su\n",
    "su.save_object(recovered_neuron,\"double_soma_with_spine_analysis\")"
   ]
  },
  {
   "cell_type": "markdown",
   "metadata": {},
   "source": [
    "# Load the object"
   ]
  },
  {
   "cell_type": "code",
   "execution_count": 5,
   "metadata": {},
   "outputs": [],
   "source": [
    "from os import sys\n",
    "sys.path.append(\"../../meshAfterParty/\")\n",
    "from importlib import reload\n",
    "import os\n",
    "from pathlib import Path\n",
    "os.getcwd()\n",
    "\n",
    "import neuron_utils as nru\n",
    "nru = reload(nru)\n",
    "import neuron\n",
    "neuron=reload(neuron)\n",
    "\n",
    "import system_utils as su"
   ]
  },
  {
   "cell_type": "code",
   "execution_count": 6,
   "metadata": {},
   "outputs": [
    {
     "data": {
      "text/plain": [
       "<neuron.Neuron at 0x7f8a493bc438>"
      ]
     },
     "execution_count": 6,
     "metadata": {},
     "output_type": "execute_result"
    }
   ],
   "source": [
    "uncompressed_neuron = su.load_object(\"/notebooks/Platinum_Spine_vp2/double_soma_with_spine_analysis.pkl\")\n",
    "uncompressed_neuron"
   ]
  },
  {
   "cell_type": "code",
   "execution_count": 7,
   "metadata": {},
   "outputs": [
    {
     "data": {
      "text/plain": [
       "[<trimesh.Trimesh(vertices.shape=(112, 3), faces.shape=(237, 3))>,\n",
       " <trimesh.Trimesh(vertices.shape=(89, 3), faces.shape=(171, 3))>,\n",
       " <trimesh.Trimesh(vertices.shape=(69, 3), faces.shape=(130, 3))>,\n",
       " <trimesh.Trimesh(vertices.shape=(33, 3), faces.shape=(59, 3))>,\n",
       " <trimesh.Trimesh(vertices.shape=(26, 3), faces.shape=(40, 3))>,\n",
       " <trimesh.Trimesh(vertices.shape=(16, 3), faces.shape=(27, 3))>]"
      ]
     },
     "execution_count": 7,
     "metadata": {},
     "output_type": "execute_result"
    }
   ],
   "source": [
    "limb_idx = 0\n",
    "branch_idx = 2\n",
    "recov_branch = uncompressed_neuron.concept_network.nodes[nru.limb_label(limb_idx)][\"data\"].concept_network.nodes[branch_idx][\"data\"]\n",
    "recov_branch.spines"
   ]
  },
  {
   "cell_type": "markdown",
   "metadata": {},
   "source": [
    "# How to graph and visualize the spines"
   ]
  },
  {
   "cell_type": "code",
   "execution_count": 8,
   "metadata": {},
   "outputs": [],
   "source": [
    "import neuron_visualizations as nviz\n",
    "nviz = reload(nviz)"
   ]
  },
  {
   "cell_type": "code",
   "execution_count": 9,
   "metadata": {},
   "outputs": [
    {
     "name": "stdout",
     "output_type": "stream",
     "text": [
      "\n",
      " Working on visualization type: mesh\n"
     ]
    },
    {
     "name": "stderr",
     "output_type": "stream",
     "text": [
      "/usr/local/lib/python3.6/dist-packages/traittypes/traittypes.py:101: UserWarning: Given trait value dtype \"float64\" does not match required type \"float64\". A coerced copy has been created.\n",
      "  np.dtype(self.dtype).name))\n"
     ]
    },
    {
     "data": {
      "application/vnd.jupyter.widget-view+json": {
       "model_id": "44956db634784ab3b6ae6e1a1a51f423",
       "version_major": 2,
       "version_minor": 0
      },
      "text/plain": [
       "VBox(children=(Figure(camera=PerspectiveCamera(fov=46.0, position=(0.0, 0.0, 2.0), quaternion=(0.0, 0.0, 0.0, …"
      ]
     },
     "metadata": {},
     "output_type": "display_data"
    }
   ],
   "source": [
    "nviz = reload(nviz)\n",
    "import ipyvolume as ipv\n",
    "\n",
    "nviz.visualize_neuron(uncompressed_neuron,\n",
    "                      limb_branch_dict = dict(),\n",
    "                     #mesh_spines=True,\n",
    "                      mesh_whole_neuron=True,\n",
    "                      mesh_whole_neuron_alpha = 0.1,\n",
    "                      \n",
    "                    mesh_spines = True,\n",
    "                    mesh_spines_color = \"red\",\n",
    "                    mesh_spines_alpha = 0.8,\n",
    "                      \n",
    "                     )"
   ]
  },
  {
   "cell_type": "code",
   "execution_count": null,
   "metadata": {},
   "outputs": [],
   "source": []
  }
 ],
 "metadata": {
  "kernelspec": {
   "display_name": "Python 3",
   "language": "python",
   "name": "python3"
  },
  "language_info": {
   "codemirror_mode": {
    "name": "ipython",
    "version": 3
   },
   "file_extension": ".py",
   "mimetype": "text/x-python",
   "name": "python",
   "nbconvert_exporter": "python",
   "pygments_lexer": "ipython3",
   "version": "3.6.9"
  }
 },
 "nbformat": 4,
 "nbformat_minor": 4
}
