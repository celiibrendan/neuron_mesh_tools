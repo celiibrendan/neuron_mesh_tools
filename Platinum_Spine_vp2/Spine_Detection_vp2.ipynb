{
 "cells": [
  {
   "cell_type": "code",
   "execution_count": null,
   "metadata": {},
   "outputs": [],
   "source": [
    "\"\"\"\n",
    "Purpose: Finalizing the spine extraction portion from a certain branch\n",
    "\"\"\""
   ]
  },
  {
   "cell_type": "code",
   "execution_count": 1,
   "metadata": {},
   "outputs": [
    {
     "data": {
      "text/plain": [
       "'/notebooks/Platinum_Spine_vp2'"
      ]
     },
     "execution_count": 1,
     "metadata": {},
     "output_type": "execute_result"
    }
   ],
   "source": [
    "from os import sys\n",
    "sys.path.append(\"../../meshAfterParty/\")\n",
    "from importlib import reload\n",
    "\n",
    "import os\n",
    "from pathlib import Path\n",
    "os.getcwd()"
   ]
  },
  {
   "cell_type": "code",
   "execution_count": 2,
   "metadata": {},
   "outputs": [
    {
     "data": {
      "application/vnd.jupyter.widget-view+json": {
       "model_id": "cc58cc75ba814fe0821400101461a417",
       "version_major": 2,
       "version_minor": 0
      },
      "text/plain": [
       "HBox(children=(FloatProgress(value=0.0, max=73.0), HTML(value='')))"
      ]
     },
     "metadata": {},
     "output_type": "display_data"
    },
    {
     "data": {
      "application/vnd.jupyter.widget-view+json": {
       "model_id": "045af20d073d470fba58573174b0b066",
       "version_major": 2,
       "version_minor": 0
      },
      "text/plain": [
       "HBox(children=(FloatProgress(value=0.0, max=53.0), HTML(value='')))"
      ]
     },
     "metadata": {},
     "output_type": "display_data"
    },
    {
     "data": {
      "application/vnd.jupyter.widget-view+json": {
       "model_id": "8bc64c72ae38499395fcd2bcc4d5511e",
       "version_major": 2,
       "version_minor": 0
      },
      "text/plain": [
       "HBox(children=(FloatProgress(value=0.0, max=49.0), HTML(value='')))"
      ]
     },
     "metadata": {},
     "output_type": "display_data"
    },
    {
     "data": {
      "application/vnd.jupyter.widget-view+json": {
       "model_id": "8d0bba8b1e344ca6ac99d83309e5726d",
       "version_major": 2,
       "version_minor": 0
      },
      "text/plain": [
       "HBox(children=(FloatProgress(value=0.0, max=39.0), HTML(value='')))"
      ]
     },
     "metadata": {},
     "output_type": "display_data"
    },
    {
     "data": {
      "application/vnd.jupyter.widget-view+json": {
       "model_id": "1cdc1b32b665443eb44aebe6f1b03f6c",
       "version_major": 2,
       "version_minor": 0
      },
      "text/plain": [
       "HBox(children=(FloatProgress(value=0.0, max=35.0), HTML(value='')))"
      ]
     },
     "metadata": {},
     "output_type": "display_data"
    },
    {
     "data": {
      "application/vnd.jupyter.widget-view+json": {
       "model_id": "6634f9a6b7274416b95f0fdabdd6e629",
       "version_major": 2,
       "version_minor": 0
      },
      "text/plain": [
       "HBox(children=(FloatProgress(value=0.0, max=16.0), HTML(value='')))"
      ]
     },
     "metadata": {},
     "output_type": "display_data"
    },
    {
     "data": {
      "application/vnd.jupyter.widget-view+json": {
       "model_id": "4f0d7e93fcce48ecbd4be125dbe73a38",
       "version_major": 2,
       "version_minor": 0
      },
      "text/plain": [
       "HBox(children=(FloatProgress(value=0.0, max=17.0), HTML(value='')))"
      ]
     },
     "metadata": {},
     "output_type": "display_data"
    },
    {
     "data": {
      "application/vnd.jupyter.widget-view+json": {
       "model_id": "92ee16a4283c40d29dd7644f29417d9e",
       "version_major": 2,
       "version_minor": 0
      },
      "text/plain": [
       "HBox(children=(FloatProgress(value=0.0, max=25.0), HTML(value='')))"
      ]
     },
     "metadata": {},
     "output_type": "display_data"
    },
    {
     "data": {
      "application/vnd.jupyter.widget-view+json": {
       "model_id": "5c0a6780ace8468eaee70060bb886a6f",
       "version_major": 2,
       "version_minor": 0
      },
      "text/plain": [
       "HBox(children=(FloatProgress(value=0.0, max=11.0), HTML(value='')))"
      ]
     },
     "metadata": {},
     "output_type": "display_data"
    },
    {
     "data": {
      "application/vnd.jupyter.widget-view+json": {
       "model_id": "fdc516aabbd64bc79c580b02c3e759be",
       "version_major": 2,
       "version_minor": 0
      },
      "text/plain": [
       "HBox(children=(FloatProgress(value=0.0, max=5.0), HTML(value='')))"
      ]
     },
     "metadata": {},
     "output_type": "display_data"
    },
    {
     "data": {
      "application/vnd.jupyter.widget-view+json": {
       "model_id": "9b7ecbd4329e40478387c784e8e49015",
       "version_major": 2,
       "version_minor": 0
      },
      "text/plain": [
       "HBox(children=(FloatProgress(value=0.0, max=1.0), HTML(value='')))"
      ]
     },
     "metadata": {},
     "output_type": "display_data"
    },
    {
     "data": {
      "text/plain": [
       "<neuron.Neuron at 0x7f59b1ec6ac8>"
      ]
     },
     "execution_count": 2,
     "metadata": {},
     "output_type": "execute_result"
    }
   ],
   "source": [
    "compressed_neuron_path = Path(\"../test_neurons/test_objects/12345_2_soma_practice_decompress\")\n",
    "\n",
    "import neuron_utils as nru\n",
    "nru = reload(nru)\n",
    "import neuron\n",
    "neuron=reload(neuron)\n",
    "\n",
    "import system_utils as su\n",
    "\n",
    "with su.suppress_stdout_stderr():\n",
    "    recovered_neuron = nru.decompress_neuron(filepath=compressed_neuron_path,\n",
    "                      original_mesh=compressed_neuron_path)\n",
    "\n",
    "recovered_neuron\n"
   ]
  },
  {
   "cell_type": "code",
   "execution_count": 3,
   "metadata": {},
   "outputs": [
    {
     "name": "stdout",
     "output_type": "stream",
     "text": [
      "Going to run cgal segmentation with:\n",
      "File: /notebooks/Platinum_Spine_vp2/cgal_temp/segment_0_0 \n",
      "clusters:2 \n",
      "smoothness:0.05\n",
      "Counter of data = Counter({26.0: 3849, 27.0: 563, 23.0: 326, 4.0: 130, 24.0: 109, 25.0: 89, 13.0: 76, 0.0: 74, 21.0: 70, 1.0: 62, 10.0: 61, 17.0: 54, 22.0: 51, 12.0: 48, 18.0: 43, 8.0: 37, 16.0: 35, 2.0: 33, 15.0: 25, 9.0: 22, 19.0: 21, 3.0: 20, 20.0: 19, 11.0: 18, 14.0: 18, 7.0: 8, 6.0: 6, 5.0: 6})\n"
     ]
    },
    {
     "data": {
      "application/vnd.jupyter.widget-view+json": {
       "model_id": "d03a4a1ab9604acab896b67b201e1b98",
       "version_major": 2,
       "version_minor": 0
      },
      "text/plain": [
       "HBox(children=(FloatProgress(value=0.0, max=28.0), HTML(value='')))"
      ]
     },
     "metadata": {},
     "output_type": "display_data"
    },
    {
     "name": "stdout",
     "output_type": "stream",
     "text": [
      "\n"
     ]
    },
    {
     "data": {
      "application/vnd.jupyter.widget-view+json": {
       "model_id": "afa8ea17a9f643d0815e1574be0683ae",
       "version_major": 2,
       "version_minor": 0
      },
      "text/plain": [
       "VBox(children=(Figure(camera=PerspectiveCamera(fov=46.0, position=(0.0, 0.0, 2.0), quaternion=(0.0, 0.0, 0.0, …"
      ]
     },
     "metadata": {},
     "output_type": "display_data"
    },
    {
     "data": {
      "application/vnd.jupyter.widget-view+json": {
       "model_id": "6f027cde9ac54ac68eb040e24289a88f",
       "version_major": 2,
       "version_minor": 0
      },
      "text/plain": [
       "VBox(children=(Figure(camera=PerspectiveCamera(fov=46.0, position=(0.0, 0.0, 2.0), quaternion=(0.0, 0.0, 0.0, …"
      ]
     },
     "metadata": {},
     "output_type": "display_data"
    }
   ],
   "source": [
    "\"\"\"\n",
    "Pseudocode: \n",
    "1) make sure the cgal temp folder exists\n",
    "2) run the segmentation command\n",
    "3) Read int csv \n",
    "4) Visualize the results using the graph function\n",
    "\n",
    "\"\"\"\n",
    "import cgal_Segmentation_Module as csm\n",
    "from pathlib import Path\n",
    "import trimesh_utils as tu\n",
    "import numpy as np\n",
    "import numpy_utils as nu\n",
    "import skeleton_utils as sk\n",
    "import copy\n",
    "\n",
    "def split_mesh_into_spines_shaft(current_mesh,\n",
    "                           segment_name=\"\",\n",
    "                           clusters=2,\n",
    "                          smoothness=0.03,\n",
    "                          cgal_folder = Path(\"./cgal_temp\"),\n",
    "                          delete_temp_file=True,\n",
    "                          shaft_threshold = 300,\n",
    "                                print_flag = True):\n",
    "\n",
    "    if not cgal_folder.exists():\n",
    "        cgal_folder.mkdir(parents=True,exist_ok=False)\n",
    "\n",
    "    file_to_write = cgal_folder / Path(f\"segment_{segment_name}.off\")\n",
    "\n",
    "    written_file_location = tu.write_neuron_off(current_mesh,file_to_write)\n",
    "\n",
    "    if written_file_location[-4:] == \".off\":\n",
    "        cgal_mesh_file = written_file_location[:-4]\n",
    "    else:\n",
    "        cgal_mesh_file = written_file_location\n",
    "\n",
    "    print(f\"Going to run cgal segmentation with:\"\n",
    "         f\"\\nFile: {cgal_mesh_file} \\nclusters:{clusters} \\nsmoothness:{smoothness}\")\n",
    "\n",
    "    csm.cgal_segmentation(cgal_mesh_file,clusters,smoothness)\n",
    "\n",
    "    #read in the csv file\n",
    "    cgal_output_file = Path(cgal_mesh_file + \"-cgal_\" + str(np.round(clusters,2)) + \"_\" + \"{:.2f}\".format(smoothness) + \".csv\" )\n",
    "\n",
    "    cgal_data = np.genfromtxt(str(cgal_output_file.absolute()), delimiter='\\n')\n",
    "\n",
    "    #get a look at how many groups and what distribution:\n",
    "    from collections import Counter\n",
    "    print(f\"Counter of data = {Counter(cgal_data)}\")\n",
    "\n",
    "    split_meshes,split_meshes_idx = tu.split_mesh_into_face_groups(current_mesh,cgal_data,return_idx=True,\n",
    "                                   check_connect_comp = False)\n",
    "    \n",
    "    \n",
    "    if len(split_meshes.keys()) <= 1:\n",
    "        print(\"There was only one mesh found from the spine process and mesh split, returning empty array\")\n",
    "        return [],[],[],[]\n",
    "        \n",
    "    \n",
    "#     # How to identify just one shaft\n",
    "#     shaft_index = -1\n",
    "#     shaft_total = -1\n",
    "#     for k,v in split_meshes.items():\n",
    "#         curr_length = len(v.faces)\n",
    "#         if  curr_length > shaft_total:\n",
    "#             shaft_index = k\n",
    "#             shaft_total = curr_length\n",
    "    \n",
    "#     shaft_mesh = split_meshes.pop(shaft_index)\n",
    "#     shaft_mesh_idx = split_meshes_idx.pop(shaft_index)\n",
    "    \n",
    "#     print(f\"shaft_index = {shaft_index}\")\n",
    "    \n",
    "    shaft_meshes = []\n",
    "    shaft_meshes_idx = []\n",
    "    \n",
    "    spine_meshes = []\n",
    "    spine_meshes_idx = []\n",
    "    \n",
    "    #Applying a length threshold to get all other possible shaft meshes\n",
    "    for spine_id,spine_mesh in split_meshes.items():\n",
    "        if len(spine_mesh.faces) < shaft_threshold:\n",
    "            spine_meshes.append(spine_mesh)\n",
    "            spine_meshes_idx.append(split_meshes_idx[spine_id])\n",
    "        else:\n",
    "            shaft_meshes.append(spine_mesh)\n",
    "            shaft_meshes_idx.append(split_meshes_idx[spine_id])\n",
    " \n",
    "    if len(shaft_meshes) == 0:\n",
    "        if print_flag:\n",
    "            print(\"No shaft meshes detected\")\n",
    "        return [],[],[],[]\n",
    " \n",
    "    if len(spine_meshes) == 0:\n",
    "        if print_flag:\n",
    "            print(\"No spine meshes detected\")\n",
    "\n",
    "    if delete_temp_file:\n",
    "        file_to_write.unlink()\n",
    "        \n",
    "    return spine_meshes,spine_meshes_idx,shaft_meshes,shaft_meshes_idx\n",
    "\n",
    "current_neuron = recovered_neuron\n",
    "branch_idx = 0\n",
    "limb_idx = 0\n",
    "current_mesh = recovered_neuron.concept_network.nodes[nru.limb_label(limb_idx)][\"data\"].concept_network.nodes[branch_idx][\"data\"].mesh\n",
    "(spine_meshes,\n",
    " spine_meshes_idx,\n",
    " shaft_meshes,\n",
    " shaft_meshes_idx) = spine_data_returned= split_mesh_into_spines_shaft(current_mesh,\n",
    "                           segment_name=f\"{limb_idx}_{branch_idx}\",\n",
    "                           clusters=2,\n",
    "                          smoothness=0.05,\n",
    "                          cgal_folder = Path(\"./cgal_temp\"),\n",
    "                          delete_temp_file=True)\n",
    "\n",
    "if len(spine_meshes) > 0:\n",
    "    sk.graph_skeleton_and_mesh(\n",
    "                           #main_mesh_verts = shaft_mesh.vertices,\n",
    "                           #main_mesh_faces = shaft_mesh.faces,\n",
    "                           #main_mesh_color=\"black\",\n",
    "                          other_meshes=spine_meshes,\n",
    "                          other_meshes_colors=\"random\",\n",
    "                           mesh_alpha=1)\n",
    "else:\n",
    "    print(\"No spines detected\")\n",
    "\n",
    "if len(shaft_meshes) > 0:\n",
    "    sk.graph_skeleton_and_mesh(\n",
    "                          other_meshes=shaft_meshes,\n",
    "                          other_meshes_colors=\"black\",\n",
    "                           mesh_alpha=1)\n",
    "else:\n",
    "    print(\"No shaft detected\")"
   ]
  },
  {
   "cell_type": "markdown",
   "metadata": {},
   "source": [
    "# # Want to turn the mesh into a graph and then can figure out all the pieces of the shaft"
   ]
  },
  {
   "cell_type": "code",
   "execution_count": 4,
   "metadata": {},
   "outputs": [
    {
     "data": {
      "image/png": "[encoded data removed]",
      "text/plain": [
       "<Figure size 432x288 with 1 Axes>"
      ]
     },
     "metadata": {},
     "output_type": "display_data"
    }
   ],
   "source": [
    "import networkx_utils as xu\n",
    "\n",
    "\"\"\"\n",
    "Purpose: To turn a group of meshes into a graph connectivity\n",
    "\n",
    "Pseudocdoe: \n",
    "1) For each mesh:\n",
    "a. make it the main mesh and find the meshes that are connected\n",
    "b. add these as edges to a running list\n",
    "2) create a networkx graph from the edges\n",
    "\n",
    "How to determine whih parts that are the shaft\n",
    "1) start with biggest shaft\n",
    "2) Find the shoftest paths to all shaft parts\n",
    "3) add all the nodes that aren't already in the shaft category to the shaft category\n",
    "\n",
    "\"\"\"\n",
    "import networkx as nx\n",
    "\n",
    "spine_mesh_names = [f\"s{i}\" for i,mesh in enumerate(spine_meshes)]\n",
    "shaft_mesh_names = [f\"b{i}\" for i,mesh in enumerate(shaft_meshes)]\n",
    "\n",
    "total_meshes = spine_meshes + shaft_meshes\n",
    "total_meshes_idx = spine_meshes_idx + shaft_meshes_idx\n",
    "total_names = spine_mesh_names + shaft_mesh_names\n",
    "\n",
    "total_edges = []\n",
    "for j,(curr_mesh,curr_mesh_idx) in enumerate(zip(total_meshes,total_meshes_idx)):\n",
    "    touching_meshes = tu.mesh_pieces_connectivity(\n",
    "                    main_mesh=current_mesh,\n",
    "                    central_piece=curr_mesh_idx,\n",
    "                    periphery_pieces=total_meshes_idx)\n",
    "    touching_meshes.remove(j)\n",
    "    #construct the edges\n",
    "    curr_edges = [[total_names[j],total_names[h]] for h in touching_meshes]\n",
    "    total_edges += curr_edges\n",
    "\n",
    "spine_graph = xu.remove_selfloops(nx.from_edgelist(total_edges))\n",
    "nx.draw(spine_graph,with_labels=True)\n",
    "\n",
    "\n"
   ]
  },
  {
   "cell_type": "code",
   "execution_count": 5,
   "metadata": {},
   "outputs": [],
   "source": [
    "\n",
    "\n",
    "\"\"\"\n",
    "How to determine whih parts that are the shaft\n",
    "1) start with biggest shaft\n",
    "2) Find the shoftest paths to all shaft parts\n",
    "3) add all the nodes that aren't already in the shaft category to the shaft category\n",
    "\"\"\"\n",
    "\n",
    "#find the biggest shaft\n",
    "biggest_shaft = f\"b{np.argmax([len(k.faces) for k in shaft_meshes])}\"\n",
    "non_biggest_shaft = [k for k in shaft_mesh_names if k != biggest_shaft]\n",
    "\n",
    "#find all shortest paths from biggest shaft to non_biggest_shaft\n",
    "shaft_shortest_paths = [nx.shortest_path(spine_graph,\n",
    "                                         source=biggest_shaft,target=curr_shaft) for curr_shaft in non_biggest_shaft]\n",
    "\n",
    "new_shaft_meshes = [int(k[1:]) for k in np.unique(np.concatenate(shaft_shortest_paths)) if \"s\" in k]\n",
    "final_shaft_meshes = shaft_meshes + [spine_meshes[k] for k in new_shaft_meshes]\n",
    "final_shaft_meshes_idx = np.unique(np.concatenate(shaft_meshes_idx + [spine_meshes_idx[k] for k in new_shaft_meshes]))\n",
    "final_spine_faces_idx = np.setdiff1d(np.arange(0,len(current_mesh.faces)), final_shaft_meshes_idx)\n",
    "\n"
   ]
  },
  {
   "cell_type": "code",
   "execution_count": 6,
   "metadata": {},
   "outputs": [],
   "source": [
    "\n",
    "\n",
    "\"\"\"\n",
    "Subtract the shaft mesh and then get all the disconnected components\n",
    "\"\"\"\n",
    "\n",
    "spine_submesh = current_mesh.submesh([final_spine_faces_idx],append=True)\n",
    "spine_submesh_split = spine_submesh.split(only_watertight=False)\n",
    "\n"
   ]
  },
  {
   "cell_type": "markdown",
   "metadata": {},
   "source": [
    "# Testing the Different Spines found"
   ]
  },
  {
   "cell_type": "code",
   "execution_count": 8,
   "metadata": {},
   "outputs": [],
   "source": [
    "#have a size threshold for them\n",
    "spine_n_faces_lower_bound = 50\n",
    "correct_spine = [4,5,6,7,8,9,13,14,15,16,17,18,19,20,21]\n",
    "correct_spine_double_kissing_head = [10]\n",
    "correct_spine_double_connected_stem = [4]\n",
    "coorect_spine_fat_head = [17]\n",
    "keep_spines = [2]\n",
    "false_spine = [0]\n",
    "small_stubs = [1,3,11.22]\n",
    "shaft_patch = [0,12]\n",
    "k = 22\n",
    "v = spine_submesh_split[k]\n"
   ]
  },
  {
   "cell_type": "code",
   "execution_count": 9,
   "metadata": {},
   "outputs": [
    {
     "name": "stdout",
     "output_type": "stream",
     "text": [
      "Spine 22: face length = 6\n"
     ]
    },
    {
     "data": {
      "application/vnd.jupyter.widget-view+json": {
       "model_id": "dca9a2b0da014f08a09f3bbff71507f6",
       "version_major": 2,
       "version_minor": 0
      },
      "text/plain": [
       "VBox(children=(Figure(camera=PerspectiveCamera(fov=46.0, position=(0.0, 0.0, 2.0), quaternion=(0.0, 0.0, 0.0, …"
      ]
     },
     "metadata": {},
     "output_type": "display_data"
    }
   ],
   "source": [
    "\n",
    "print(f\"Spine {k}: face length = {len(v.faces)}\")\n",
    "sk.graph_skeleton_and_mesh(other_meshes = [current_mesh,v],\n",
    "                          other_meshes_colors=[\"white\",\"red\"],\n",
    "                          mesh_alpha=0.3)\n"
   ]
  },
  {
   "cell_type": "code",
   "execution_count": 10,
   "metadata": {},
   "outputs": [
    {
     "name": "stdout",
     "output_type": "stream",
     "text": [
      "Spine 22: face length = 6\n"
     ]
    },
    {
     "data": {
      "application/vnd.jupyter.widget-view+json": {
       "model_id": "a41c78dff62544acb45cb31a80dc147b",
       "version_major": 2,
       "version_minor": 0
      },
      "text/plain": [
       "VBox(children=(Figure(camera=PerspectiveCamera(fov=46.0, position=(0.0, 0.0, 2.0), quaternion=(0.0, 0.0, 0.0, …"
      ]
     },
     "metadata": {},
     "output_type": "display_data"
    }
   ],
   "source": [
    "print(f\"Spine {k}: face length = {len(v.faces)}\")\n",
    "sk.graph_skeleton_and_mesh(other_meshes = [v],\n",
    "                          other_meshes_colors=[\"red\"],\n",
    "                          mesh_alpha=1)\n",
    "\n",
    "\n",
    "\n",
    "\n"
   ]
  },
  {
   "cell_type": "code",
   "execution_count": 11,
   "metadata": {},
   "outputs": [
    {
     "name": "stdout",
     "output_type": "stream",
     "text": [
      "Spine 22: face length = 6\n"
     ]
    },
    {
     "data": {
      "application/vnd.jupyter.widget-view+json": {
       "model_id": "e0c3b4ae765640f7a08dee6cfb7257e5",
       "version_major": 2,
       "version_minor": 0
      },
      "text/plain": [
       "VBox(children=(Figure(camera=PerspectiveCamera(fov=46.0, position=(0.0, 0.0, 2.0), quaternion=(0.0, 0.0, 0.0, …"
      ]
     },
     "metadata": {},
     "output_type": "display_data"
    },
    {
     "data": {
      "text/plain": [
       "'\\n1) can use synapses to try and find ones that missed? or confirm ones that \\n2) CAN USE A SKELETONIZATION TO LOOK FOR THE REALLY FAT SPINES\\n\\n\\n'"
      ]
     },
     "execution_count": 11,
     "metadata": {},
     "output_type": "execute_result"
    }
   ],
   "source": [
    "\"\"\"\n",
    "issues that can run into:\n",
    "1) false spines at end of the branch\n",
    "\n",
    "\"\"\"\n",
    "\n",
    "\n",
    "\n",
    "\n",
    "#Future Work\n",
    "\n",
    "\"\"\"\n",
    "1) can use synapses to try and find ones that missed? or confirm ones that \n",
    "2) CAN USE A SKELETONIZATION TO LOOK FOR THE REALLY FAT SPINES\n",
    "\n",
    "\n",
    "\"\"\""
   ]
  },
  {
   "cell_type": "markdown",
   "metadata": {},
   "source": [
    "# Putting all the steps together"
   ]
  },
  {
   "cell_type": "code",
   "execution_count": null,
   "metadata": {},
   "outputs": [],
   "source": [
    "current_neuron = recovered_neuron\n",
    "branch_idx = 0\n",
    "limb_idx = 0\n",
    "\n",
    "spine_submesh_split = get_spine_meshes(current_neuron = recovered_neuron,\n",
    "                                        limb_idx=limb_idx,\n",
    "                                        branch_idx=branch_idx,\n",
    "                                        clusters=2,\n",
    "                                        smoothness=0.05,\n",
    "                                        cgal_folder = Path(\"./cgal_temp\"),\n",
    "                                        delete_temp_file=True):\n"
   ]
  },
  {
   "cell_type": "markdown",
   "metadata": {},
   "source": [
    "# Actually graphing the spines"
   ]
  },
  {
   "cell_type": "code",
   "execution_count": null,
   "metadata": {},
   "outputs": [],
   "source": [
    "#have a size threshold for them\n",
    "spine_n_faces_lower_bound = 50\n",
    "correct_spine = [4,5,6,7,8,9,13,14,15,16,17,18,19,20,21]\n",
    "correct_spine_double_kissing_head = [10]\n",
    "correct_spine_double_connected_stem = [4]\n",
    "coorect_spine_fat_head = [17]\n",
    "keep_spines = [2]\n",
    "false_spine = [0]\n",
    "small_stubs = [1,3,11.22]\n",
    "shaft_patch = [0,12]\n",
    "k = 22\n",
    "v = spine_submesh_split[k]\n",
    "\n",
    "\n",
    "print(f\"Spine {k}: face length = {len(v.faces)}\")\n",
    "sk.graph_skeleton_and_mesh(other_meshes = [current_mesh,v],\n",
    "                          other_meshes_colors=[\"white\",\"red\"],\n",
    "                          mesh_alpha=0.3)"
   ]
  }
 ],
 "metadata": {
  "kernelspec": {
   "display_name": "Python 3",
   "language": "python",
   "name": "python3"
  },
  "language_info": {
   "codemirror_mode": {
    "name": "ipython",
    "version": 3
   },
   "file_extension": ".py",
   "mimetype": "text/x-python",
   "name": "python",
   "nbconvert_exporter": "python",
   "pygments_lexer": "ipython3",
   "version": "3.6.9"
  }
 },
 "nbformat": 4,
 "nbformat_minor": 4
}
