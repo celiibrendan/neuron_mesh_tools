{
 "cells": [
  {
   "cell_type": "code",
   "execution_count": null,
   "metadata": {},
   "outputs": [],
   "source": [
    "\"\"\"\n",
    "Purpose: To develop the methods for doing spine detection\n",
    "\n",
    "\"\"\""
   ]
  },
  {
   "cell_type": "code",
   "execution_count": 7,
   "metadata": {},
   "outputs": [],
   "source": [
    "from os import sys\n",
    "sys.path.append(\"../../meshAfterParty/\")\n",
    "from importlib import reload"
   ]
  },
  {
   "cell_type": "code",
   "execution_count": 8,
   "metadata": {},
   "outputs": [
    {
     "data": {
      "text/plain": [
       "'/notebooks/Platinum_Spine_vp2'"
      ]
     },
     "execution_count": 8,
     "metadata": {},
     "output_type": "execute_result"
    }
   ],
   "source": [
    "import os\n",
    "from pathlib import Path\n",
    "os.getcwd()"
   ]
  },
  {
   "cell_type": "code",
   "execution_count": 9,
   "metadata": {},
   "outputs": [
    {
     "data": {
      "application/vnd.jupyter.widget-view+json": {
       "model_id": "475d21b2e7a942d4aa483fe0a95cf268",
       "version_major": 2,
       "version_minor": 0
      },
      "text/plain": [
       "HBox(children=(FloatProgress(value=0.0, max=73.0), HTML(value='')))"
      ]
     },
     "metadata": {},
     "output_type": "display_data"
    },
    {
     "data": {
      "application/vnd.jupyter.widget-view+json": {
       "model_id": "37758ca65823453bb9b4fdf1b1de9762",
       "version_major": 2,
       "version_minor": 0
      },
      "text/plain": [
       "HBox(children=(FloatProgress(value=0.0, max=53.0), HTML(value='')))"
      ]
     },
     "metadata": {},
     "output_type": "display_data"
    },
    {
     "data": {
      "application/vnd.jupyter.widget-view+json": {
       "model_id": "bd9a0a0bde544068a3b2137c7e82ff04",
       "version_major": 2,
       "version_minor": 0
      },
      "text/plain": [
       "HBox(children=(FloatProgress(value=0.0, max=49.0), HTML(value='')))"
      ]
     },
     "metadata": {},
     "output_type": "display_data"
    },
    {
     "data": {
      "application/vnd.jupyter.widget-view+json": {
       "model_id": "374103ea267c47dd868538c212c0eb74",
       "version_major": 2,
       "version_minor": 0
      },
      "text/plain": [
       "HBox(children=(FloatProgress(value=0.0, max=39.0), HTML(value='')))"
      ]
     },
     "metadata": {},
     "output_type": "display_data"
    },
    {
     "data": {
      "application/vnd.jupyter.widget-view+json": {
       "model_id": "e0f6b094656c41acb3703549c231e41e",
       "version_major": 2,
       "version_minor": 0
      },
      "text/plain": [
       "HBox(children=(FloatProgress(value=0.0, max=35.0), HTML(value='')))"
      ]
     },
     "metadata": {},
     "output_type": "display_data"
    },
    {
     "data": {
      "application/vnd.jupyter.widget-view+json": {
       "model_id": "0d8f867cb4354ff8b506c7e0618e2fcb",
       "version_major": 2,
       "version_minor": 0
      },
      "text/plain": [
       "HBox(children=(FloatProgress(value=0.0, max=16.0), HTML(value='')))"
      ]
     },
     "metadata": {},
     "output_type": "display_data"
    },
    {
     "data": {
      "application/vnd.jupyter.widget-view+json": {
       "model_id": "4e03feae1b284050abc19f86394927ef",
       "version_major": 2,
       "version_minor": 0
      },
      "text/plain": [
       "HBox(children=(FloatProgress(value=0.0, max=17.0), HTML(value='')))"
      ]
     },
     "metadata": {},
     "output_type": "display_data"
    },
    {
     "data": {
      "application/vnd.jupyter.widget-view+json": {
       "model_id": "7246a8af178a4171982dee5c2e654cc9",
       "version_major": 2,
       "version_minor": 0
      },
      "text/plain": [
       "HBox(children=(FloatProgress(value=0.0, max=25.0), HTML(value='')))"
      ]
     },
     "metadata": {},
     "output_type": "display_data"
    },
    {
     "data": {
      "application/vnd.jupyter.widget-view+json": {
       "model_id": "6d41f7d4129b41659113a5744097461f",
       "version_major": 2,
       "version_minor": 0
      },
      "text/plain": [
       "HBox(children=(FloatProgress(value=0.0, max=11.0), HTML(value='')))"
      ]
     },
     "metadata": {},
     "output_type": "display_data"
    },
    {
     "data": {
      "application/vnd.jupyter.widget-view+json": {
       "model_id": "3d2102f6f1c44fe1b7bf95c50a1f5f11",
       "version_major": 2,
       "version_minor": 0
      },
      "text/plain": [
       "HBox(children=(FloatProgress(value=0.0, max=5.0), HTML(value='')))"
      ]
     },
     "metadata": {},
     "output_type": "display_data"
    },
    {
     "data": {
      "application/vnd.jupyter.widget-view+json": {
       "model_id": "cbe0792a12134422b34546370459e88c",
       "version_major": 2,
       "version_minor": 0
      },
      "text/plain": [
       "HBox(children=(FloatProgress(value=0.0, max=1.0), HTML(value='')))"
      ]
     },
     "metadata": {},
     "output_type": "display_data"
    },
    {
     "data": {
      "text/plain": [
       "<neuron.Neuron at 0x7f7b8d5deba8>"
      ]
     },
     "execution_count": 9,
     "metadata": {},
     "output_type": "execute_result"
    }
   ],
   "source": [
    "compressed_neuron_path = Path(\"../test_neurons/test_objects/12345_2_soma_practice_decompress\")\n",
    "\n",
    "import neuron_utils as nru\n",
    "nru = reload(nru)\n",
    "import neuron\n",
    "neuron=reload(neuron)\n",
    "\n",
    "import system_utils as su\n",
    "\n",
    "with su.suppress_stdout_stderr():\n",
    "    recovered_neuron = nru.decompress_neuron(filepath=compressed_neuron_path,\n",
    "                      original_mesh=compressed_neuron_path)\n",
    "\n",
    "recovered_neuron"
   ]
  },
  {
   "cell_type": "markdown",
   "metadata": {},
   "source": [
    "# Previous Work"
   ]
  },
  {
   "cell_type": "code",
   "execution_count": 39,
   "metadata": {},
   "outputs": [
    {
     "name": "stdout",
     "output_type": "stream",
     "text": [
      "Going to run cgal segmentation with:\n",
      "File: /notebooks/Platinum_Spine_vp2/cgal_temp/segment_0_0 \n",
      "clusters:2 \n",
      "smoothness:0.03\n",
      "Counter of data = Counter({28.0: 2181, 26.0: 1506, 29.0: 561, 23.0: 326, 24.0: 143, 6.0: 134, 25.0: 109, 27.0: 89, 21.0: 80, 12.0: 76, 0.0: 74, 1.0: 62, 9.0: 61, 16.0: 54, 22.0: 51, 11.0: 48, 18.0: 45, 15.0: 35, 4.0: 34, 2.0: 33, 14.0: 25, 8.0: 22, 19.0: 21, 13.0: 21, 3.0: 20, 20.0: 19, 10.0: 18, 17.0: 13, 7.0: 6, 5.0: 6})\n"
     ]
    },
    {
     "data": {
      "application/vnd.jupyter.widget-view+json": {
       "model_id": "d55b04af94bf442ebb1eac04c34f387a",
       "version_major": 2,
       "version_minor": 0
      },
      "text/plain": [
       "HBox(children=(FloatProgress(value=0.0, max=30.0), HTML(value='')))"
      ]
     },
     "metadata": {},
     "output_type": "display_data"
    },
    {
     "name": "stdout",
     "output_type": "stream",
     "text": [
      "\n",
      "shaft_index = 28.0\n"
     ]
    },
    {
     "data": {
      "application/vnd.jupyter.widget-view+json": {
       "model_id": "290733c6bf28483a8e6265614a30be07",
       "version_major": 2,
       "version_minor": 0
      },
      "text/plain": [
       "VBox(children=(Figure(camera=PerspectiveCamera(fov=46.0, position=(0.0, 0.0, 2.0), quaternion=(0.0, 0.0, 0.0, …"
      ]
     },
     "metadata": {},
     "output_type": "display_data"
    },
    {
     "data": {
      "application/vnd.jupyter.widget-view+json": {
       "model_id": "198b0a2a93a245ed8633682590e67b17",
       "version_major": 2,
       "version_minor": 0
      },
      "text/plain": [
       "VBox(children=(Figure(camera=PerspectiveCamera(fov=46.0, position=(0.0, 0.0, 2.0), quaternion=(0.0, 0.0, 0.0, …"
      ]
     },
     "metadata": {},
     "output_type": "display_data"
    }
   ],
   "source": [
    "\"\"\"\n",
    "Pseudocode: \n",
    "1) make sure the cgal temp folder exists\n",
    "2) run the segmentation command\n",
    "3) Read int csv \n",
    "4) Visualize the results using the graph function\n",
    "\n",
    "\"\"\"\n",
    "import cgal_Segmentation_Module as csm\n",
    "from pathlib import Path\n",
    "import trimesh_utils as tu\n",
    "import numpy as np\n",
    "import numpy_utils as nu\n",
    "import skeleton_utils as sk\n",
    "import copy\n",
    "\n",
    "def split_mesh_into_spines_shaft(current_mesh,\n",
    "                           segment_name=\"\",\n",
    "                           clusters=2,\n",
    "                          smoothness=0.03,\n",
    "                          cgal_folder = Path(\"./cgal_temp\"),\n",
    "                          delete_temp_file=True,\n",
    "                          shaft_threshold = 300):\n",
    "\n",
    "    if not cgal_folder.exists():\n",
    "        cgal_folder.mkdir(parents=True,exist_ok=False)\n",
    "\n",
    "    file_to_write = cgal_folder / Path(f\"segment_{segment_name}.off\")\n",
    "\n",
    "    written_file_location = tu.write_neuron_off(current_mesh,file_to_write)\n",
    "\n",
    "    if written_file_location[-4:] == \".off\":\n",
    "        cgal_mesh_file = written_file_location[:-4]\n",
    "    else:\n",
    "        cgal_mesh_file = written_file_location\n",
    "\n",
    "    print(f\"Going to run cgal segmentation with:\"\n",
    "         f\"\\nFile: {cgal_mesh_file} \\nclusters:{clusters} \\nsmoothness:{smoothness}\")\n",
    "\n",
    "    csm.cgal_segmentation(cgal_mesh_file,clusters,smoothness)\n",
    "\n",
    "    #read in the csv file\n",
    "    cgal_output_file = Path(cgal_mesh_file + \"-cgal_\" + str(np.round(clusters,2)) + \"_\" + \"{:.2f}\".format(smoothness) + \".csv\" )\n",
    "\n",
    "    cgal_data = np.genfromtxt(str(cgal_output_file.absolute()), delimiter='\\n')\n",
    "\n",
    "    #get a look at how many groups and what distribution:\n",
    "    from collections import Counter\n",
    "    print(f\"Counter of data = {Counter(cgal_data)}\")\n",
    "\n",
    "    split_meshes,split_meshes_idx = tu.split_mesh_into_face_groups(current_mesh,cgal_data,return_idx=True,\n",
    "                                   check_connect_comp = False)\n",
    "    \n",
    "    \n",
    "    if len(split_meshes.keys()) <= 1:\n",
    "        print(\"There was only one mesh found from the spine process and mesh split, returning empty array\")\n",
    "        return dict(),dict()\n",
    "        \n",
    "    \n",
    "    # How to identify just one shaft\n",
    "    shaft_index = -1\n",
    "    shaft_total = -1\n",
    "    for k,v in split_meshes.items():\n",
    "        curr_length = len(v.faces)\n",
    "        if  curr_length > shaft_total:\n",
    "            shaft_index = k\n",
    "            shaft_total = curr_length\n",
    "    \n",
    "    shaft_mesh = split_meshes.pop(shaft_index)\n",
    "    shaft_mesh_idx = split_meshes_idx.pop(shaft_index)\n",
    "    \n",
    "    print(f\"shaft_index = {shaft_index}\")\n",
    "    \n",
    "    #Applying a length threshold to get all other possible shaft meshes\n",
    "    \n",
    " \n",
    "\n",
    "    if delete_temp_file:\n",
    "        file_to_write.unlink()\n",
    "        \n",
    "    return split_meshes,split_meshes_idx,shaft_mesh,shaft_mesh_idx\n",
    "\n",
    "current_neuron = recovered_neuron\n",
    "branch_idx = 0\n",
    "limb_idx = 0\n",
    "current_mesh = recovered_neuron.concept_network.nodes[nru.limb_label(limb_idx)][\"data\"].concept_network.nodes[branch_idx][\"data\"].mesh\n",
    "spine_data_returned= split_mesh_into_spines_shaft(current_mesh,\n",
    "                           segment_name=f\"{limb_idx}_{branch_idx}\",\n",
    "                           clusters=2,\n",
    "                          smoothness=0.03,\n",
    "                          cgal_folder = Path(\"./cgal_temp\"),\n",
    "                          delete_temp_file=True)\n",
    "\n",
    "if len(spine_data_returned[0].keys()) < 0:\n",
    "    print(\"No spines were found\")\n",
    "else:\n",
    "    spine_meshes,spine_meshes_idx,shaft_mesh,shaft_mesh_idx = spine_data_returned\n",
    "     \n",
    "    sk.graph_skeleton_and_mesh(\n",
    "                               #main_mesh_verts = shaft_mesh.vertices,\n",
    "                               #main_mesh_faces = shaft_mesh.faces,\n",
    "                               #main_mesh_color=\"black\",\n",
    "                              other_meshes=[k for k in spine_meshes.values()],\n",
    "                              other_meshes_colors=\"random\",\n",
    "                               mesh_alpha=1)\n",
    "    sk.graph_skeleton_and_mesh(\n",
    "                           main_mesh_verts = shaft_mesh.vertices,\n",
    "                           main_mesh_faces = shaft_mesh.faces,\n",
    "                           main_mesh_color=\"black\"\n",
    "    )\n",
    "    \n",
    "    \n",
    "    "
   ]
  },
  {
   "cell_type": "markdown",
   "metadata": {},
   "source": [
    "# Determining right thresholds"
   ]
  },
  {
   "cell_type": "code",
   "execution_count": 46,
   "metadata": {},
   "outputs": [],
   "source": [
    "total_keys = list(spine_meshes.keys())"
   ]
  },
  {
   "cell_type": "code",
   "execution_count": 49,
   "metadata": {},
   "outputs": [
    {
     "name": "stdout",
     "output_type": "stream",
     "text": [
      "Index 3, Spine 29.0: face length = 561\n"
     ]
    },
    {
     "data": {
      "application/vnd.jupyter.widget-view+json": {
       "model_id": "addefbf5411c4bfbadc3c73283f366a9",
       "version_major": 2,
       "version_minor": 0
      },
      "text/plain": [
       "VBox(children=(Figure(camera=PerspectiveCamera(fov=46.0, position=(0.0, 0.0, 2.0), quaternion=(0.0, 0.0, 0.0, …"
      ]
     },
     "metadata": {},
     "output_type": "display_data"
    }
   ],
   "source": [
    "curr_key_index = 3\n",
    "k = total_keys[curr_key_index]\n",
    "k = 29.0\n",
    "v = spine_meshes[k]\n",
    "\n",
    "print(f\"Index {curr_key_index}, Spine {k}: face length = {len(v.faces)}\")\n",
    "sk.graph_skeleton_and_mesh(other_meshes = [current_mesh,v],\n",
    "                          other_meshes_colors=[\"black\",\"red\"],\n",
    "                          mesh_alpha=1)"
   ]
  },
  {
   "cell_type": "code",
   "execution_count": null,
   "metadata": {},
   "outputs": [],
   "source": [
    "spine_indexes = [0,1,2]\n",
    "shaft_indexes = [ ]"
   ]
  },
  {
   "cell_type": "code",
   "execution_count": null,
   "metadata": {},
   "outputs": [],
   "source": [
    "\"\"\"\n",
    "Problem going to face:\n",
    "1) The shaft gets split up into multiple pieces (just do a size threshold)\n",
    "2) but could have a large merge? but then would be part of another branch \n",
    "3) \n",
    "\"\"\""
   ]
  },
  {
   "cell_type": "code",
   "execution_count": null,
   "metadata": {},
   "outputs": [],
   "source": [
    "\"\"\"\n",
    "Pseudocode: \n",
    "1) make sure the cgal temp folder exists\n",
    "2) run the segmentation command\n",
    "3) Read int csv \n",
    "4) Visualize the results using the graph function\n",
    "\n",
    "Notes on what worked well:\n",
    "segment = 56: cluster=2,smoothness=0.03\n",
    "\n",
    "\"\"\"\n",
    "import cgal_Segmentation_Module as csm\n",
    "\n",
    "clusters=2\n",
    "smoothness = 0.03\n",
    "check_index = 56\n",
    "\n",
    "from pathlib import Path\n",
    "cgal_folder = Path(\"./cgal_temp\")\n",
    "if not cgal_folder.exists():\n",
    "    cgal_folder.mkdir(parents=True,exist_ok=False)\n",
    "\n",
    "\n",
    "current_mesh = total_branch_meshes[check_index]\n",
    "\n",
    "file_to_write = cgal_folder / Path(f\"segment_{check_index}.off\")\n",
    "\n",
    "written_file_location = tu.write_neuron_off(current_mesh,file_to_write)\n",
    "\n",
    "if written_file_location[-4:] == \".off\":\n",
    "    cgal_mesh_file = written_file_location[:-4]\n",
    "else:\n",
    "    cgal_mesh_file = written_file_location\n",
    "    \n",
    "print(f\"Going to run cgal segmentation with:\"\n",
    "     f\"\\nFile: {cgal_mesh_file} \\nclusters:{clusters} \\nsmoothness:{smoothness}\")\n",
    "    \n",
    "csm.cgal_segmentation(cgal_mesh_file,clusters,smoothness)\n",
    "\n",
    "#read in the csv file\n",
    "cgal_output_file = Path(cgal_mesh_file + \"-cgal_\" + str(np.round(clusters,2)) + \"_\" + \"{:.2f}\".format(smoothness) + \".csv\" )\n",
    "\n",
    "cgal_data = np.genfromtxt(str(cgal_output_file.absolute()), delimiter='\\n')\n",
    "\n",
    "#get a look at how many groups and what distribution:\n",
    "from collections import Counter\n",
    "print(f\"Counter of data = {Counter(cgal_data)}\")\n",
    "\n",
    "split_meshes,split_meshes_idx = tu.split_mesh_into_face_groups(current_mesh,cgal_data,return_idx=True,\n",
    "                               check_connect_comp = False)\n",
    "\n",
    "split_meshes,split_meshes_idx\n",
    "# plot the face mapping \n",
    "sk.graph_skeleton_and_mesh(other_meshes=[k for k in split_meshes.values()],\n",
    "                          other_meshes_colors=\"random\",\n",
    "                           mesh_alpha=1)"
   ]
  },
  {
   "cell_type": "code",
   "execution_count": null,
   "metadata": {},
   "outputs": [],
   "source": [
    "# Current Work "
   ]
  }
 ],
 "metadata": {
  "kernelspec": {
   "display_name": "Python 3",
   "language": "python",
   "name": "python3"
  },
  "language_info": {
   "codemirror_mode": {
    "name": "ipython",
    "version": 3
   },
   "file_extension": ".py",
   "mimetype": "text/x-python",
   "name": "python",
   "nbconvert_exporter": "python",
   "pygments_lexer": "ipython3",
   "version": "3.6.9"
  }
 },
 "nbformat": 4,
 "nbformat_minor": 4
}
