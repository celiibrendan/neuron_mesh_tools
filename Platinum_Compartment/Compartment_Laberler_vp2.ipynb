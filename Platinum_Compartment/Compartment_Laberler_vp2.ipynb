{
 "cells": [
  {
   "cell_type": "code",
   "execution_count": null,
   "metadata": {},
   "outputs": [],
   "source": [
    "\"\"\"\n",
    "Revised Pseudocode: \n",
    "1) Find all faces of soma subtract all of the somas \n",
    "2) Split the rest of the mesh up into significant mesh pieces and\n",
    "then find connectivity of which mesh piece touches which soma (can be multiple)\n",
    "3) Skeletonize each one of the branches\n",
    "4) --- if there are merge branches try to find the point where \n",
    "the merge error was encountered and do m - 1 cuts for \n",
    "number of somas it is touching\n",
    ": if can't do good cut then just mark it as an error \n",
    "and don't include in the analysis\n",
    "\n",
    "** could still classify it (so maybe include it still)\n",
    "\n",
    "5) For each branch with a skeleton: within a certain range look\n",
    "branching point that has large non-overlapping branch segments \n",
    "(can account for unintended loops), and split those into \n",
    "different meshes by backtracking from the skeleton to find a good cut\n",
    "(may have to go out a litte on each of the limbs and then do the \n",
    "projection algorithm from the skeleton), this is so can cleanly\n",
    "split the mesh pieces\n",
    "\n",
    "Result: would have a lot of meshpieces\n",
    "\n",
    "\"\"\""
   ]
  },
  {
   "cell_type": "code",
   "execution_count": 3,
   "metadata": {},
   "outputs": [
    {
     "name": "stdout",
     "output_type": "stream",
     "text": [
      "['/usr/lib/python36.zip', '/usr/lib/python3.6', '/usr/lib/python3.6/lib-dynload', '', '/usr/local/lib/python3.6/dist-packages', '/src/CGAL/cgal_segmentation', '/src/CGAL/cgal_skeleton', '/src/minnie-config', '/notebooks/pipeline/python', '/notebooks/neuron_mesh_tools/meshAfterParty/cgal_skeleton_param', '/usr/lib/python3/dist-packages', '/usr/local/lib/python3.6/dist-packages/IPython/extensions', '/root/.ipython', '../meshAfterParty']\n"
     ]
    }
   ],
   "source": [
    "import sys\n",
    "sys.path.append('../meshAfterParty')\n",
    "print(sys.path)"
   ]
  },
  {
   "cell_type": "code",
   "execution_count": 4,
   "metadata": {},
   "outputs": [],
   "source": [
    "#from skeleton_utils import *\n",
    "#from soma_extraction_utils import * \n",
    "\n",
    "import skeleton_utils as sk\n",
    "import soma_extraction_utils as sm\n",
    "import trimesh_utils as tu\n",
    "import trimesh\n",
    "\n",
    "from pykdtree.kdtree import KDTree\n",
    "import time\n",
    "import trimesh\n",
    "import numpy as np\n",
    "from pathlib import Path\n",
    "\n",
    "import time\n",
    "import os\n",
    "import pathlib\n",
    "\n",
    "from tqdm.notebook import tqdm"
   ]
  },
  {
   "cell_type": "markdown",
   "metadata": {},
   "source": [
    "# Load in the Neuron"
   ]
  },
  {
   "cell_type": "code",
   "execution_count": 5,
   "metadata": {},
   "outputs": [],
   "source": [
    "current_neuron = trimesh.load_mesh(\"../test_neurons/multi_soma_example.off\")\n",
    "segment_id = 12345"
   ]
  },
  {
   "cell_type": "markdown",
   "metadata": {},
   "source": [
    "# Do the Soma Detection (but isn't the original soma faces"
   ]
  },
  {
   "cell_type": "code",
   "execution_count": 7,
   "metadata": {
    "collapsed": true,
    "jupyter": {
     "outputs_hidden": true
    }
   },
   "outputs": [
    {
     "name": "stdout",
     "output_type": "stream",
     "text": [
      "Current Arguments Using (adjusted for decimation):\n",
      " large_mesh_threshold= 15000.0 \n",
      "large_mesh_threshold_inner = 10000.0 \n",
      "soma_size_threshold = 1250.0 \n",
      "soma_size_threshold_max = 12000.0\n",
      "outer_decimation_ratio = 0.25\n",
      "inner_decimation_ratio = 0.25\n",
      "IN INPUT FILE VALIDATION LOOP\n",
      "LEAVING LOOP, MESH VALIDATED\n",
      "Using port = 8734\n",
      "xvfb-run -n 8734 -s \"-screen 0 800x600x24\" meshlabserver $@  -i /notebooks/neuron_mesh_tools/Platinum_Compartment/12345/neuron_12345.off -o /notebooks/neuron_mesh_tools/Platinum_Compartment/12345/neuron_12345_decimated.off -s /notebooks/neuron_mesh_tools/Platinum_Compartment/12345/decimation_meshlab_25657756.mls\n",
      "Total found significant pieces before Poisson = [<trimesh.Trimesh(vertices.shape=(139795, 3), faces.shape=(284334, 3))>]\n",
      "----- working on large mesh #0: <trimesh.Trimesh(vertices.shape=(139795, 3), faces.shape=(284334, 3))>\n",
      "pre_largest_mesh_path = /notebooks/neuron_mesh_tools/Platinum_Compartment/12345/neuron_12345_decimated_largest_piece.off\n",
      "IN INPUT FILE VALIDATION LOOP\n",
      "LEAVING LOOP, MESH VALIDATED\n",
      "Using port = 2388\n",
      "xvfb-run -n 2388 -s \"-screen 0 800x600x24\" meshlabserver $@  -i /notebooks/neuron_mesh_tools/Platinum_Compartment/12345/neuron_12345_decimated_largest_piece.off -o /notebooks/neuron_mesh_tools/Platinum_Compartment/12345/neuron_12345_decimated_largest_piece_poisson.off -s /notebooks/neuron_mesh_tools/Platinum_Compartment/12345/poisson_854841.mls\n"
     ]
    },
    {
     "name": "stderr",
     "output_type": "stream",
     "text": [
      "face_normals all zero, ignoring!\n",
      "face_normals all zero, ignoring!\n",
      "face_normals all zero, ignoring!\n",
      "face_normals all zero, ignoring!\n",
      "face_normals all zero, ignoring!\n",
      "face_normals all zero, ignoring!\n",
      "face_normals all zero, ignoring!\n",
      "face_normals all zero, ignoring!\n",
      "face_normals all zero, ignoring!\n",
      "face_normals all zero, ignoring!\n",
      "face_normals all zero, ignoring!\n",
      "face_normals all zero, ignoring!\n",
      "face_normals all zero, ignoring!\n",
      "face_normals all zero, ignoring!\n",
      "face_normals all zero, ignoring!\n",
      "face_normals all zero, ignoring!\n",
      "face_normals all zero, ignoring!\n",
      "face_normals all zero, ignoring!\n",
      "face_normals all zero, ignoring!\n",
      "face_normals all zero, ignoring!\n",
      "face_normals all zero, ignoring!\n",
      "face_normals all zero, ignoring!\n",
      "face_normals all zero, ignoring!\n",
      "face_normals all zero, ignoring!\n",
      "face_normals all zero, ignoring!\n",
      "face_normals all zero, ignoring!\n",
      "face_normals all zero, ignoring!\n",
      "face_normals all zero, ignoring!\n",
      "face_normals all zero, ignoring!\n",
      "face_normals all zero, ignoring!\n",
      "face_normals all zero, ignoring!\n",
      "face_normals all zero, ignoring!\n",
      "face_normals all zero, ignoring!\n",
      "face_normals all zero, ignoring!\n",
      "face_normals all zero, ignoring!\n",
      "face_normals all zero, ignoring!\n",
      "face_normals all zero, ignoring!\n",
      "face_normals all zero, ignoring!\n",
      "face_normals all zero, ignoring!\n",
      "face_normals all zero, ignoring!\n",
      "face_normals all zero, ignoring!\n",
      "face_normals all zero, ignoring!\n",
      "face_normals all zero, ignoring!\n",
      "face_normals all zero, ignoring!\n",
      "face_normals all zero, ignoring!\n",
      "face_normals all zero, ignoring!\n",
      "face_normals all zero, ignoring!\n",
      "face_normals all zero, ignoring!\n",
      "face_normals all zero, ignoring!\n",
      "face_normals all zero, ignoring!\n",
      "face_normals all zero, ignoring!\n",
      "face_normals all zero, ignoring!\n",
      "face_normals all zero, ignoring!\n",
      "face_normals all zero, ignoring!\n",
      "face_normals all zero, ignoring!\n",
      "face_normals all zero, ignoring!\n",
      "face_normals all zero, ignoring!\n"
     ]
    },
    {
     "name": "stdout",
     "output_type": "stream",
     "text": [
      "Total found significant pieces AFTER Poisson = [<trimesh.Trimesh(vertices.shape=(151132, 3), faces.shape=(302272, 3))>, <trimesh.Trimesh(vertices.shape=(42551, 3), faces.shape=(85098, 3))>]\n",
      "----- working on mesh after poisson #0: <trimesh.Trimesh(vertices.shape=(151132, 3), faces.shape=(302272, 3))>\n",
      "IN INPUT FILE VALIDATION LOOP\n",
      "LEAVING LOOP, MESH VALIDATED\n",
      "Using port = 6149\n",
      "xvfb-run -n 6149 -s \"-screen 0 800x600x24\" meshlabserver $@  -i /notebooks/neuron_mesh_tools/Platinum_Compartment/12345/neuron_12345_decimated_largest_piece_poisson_largest_inner.off -o /notebooks/neuron_mesh_tools/Platinum_Compartment/12345/neuron_12345_decimated_largest_piece_poisson_largest_inner_decimated.off -s /notebooks/neuron_mesh_tools/Platinum_Compartment/12345/decimation_meshlab_25472879.mls\n",
      "done exporting decimated mesh: neuron_12345_decimated_largest_piece_poisson_largest_inner.off\n",
      "1) Starting: Mesh importing and Pymesh fix\n",
      "loading mesh from vertices and triangles array\n",
      "1) Finished: Mesh importing and Pymesh fix: 0.0002532005310058594\n",
      "2) Staring: Generating CGAL segmentation for neuron\n",
      "Done writing OFF file\n",
      "\n",
      "Starting CGAL segmentation\n",
      "Right before cgal segmentation, clusters = 3, smoothness = 0.2, path_and_filename = /notebooks/neuron_mesh_tools/Platinum_Compartment/temp/1234500_fixed \n",
      "1\n",
      "Finished CGAL segmentation algorithm: 9.72524118423462\n",
      "2) Finished: Generating CGAL segmentation for neuron: 10.907354354858398\n",
      "3) Staring: Generating Graph Structure and Identifying Soma using soma size threshold  = 3000\n",
      "my_list_keys = [0, 1, 2, 3, 4, 5, 6, 7, 8, 9, 10, 11, 12, 13, 14, 15, 16, 17, 18, 19, 20, 21, 22, 23, 24, 25]\n",
      "changed the median value\n",
      "changed the mean value\n",
      "changed the max value\n",
      "changed the median value\n",
      "changed the mean value\n",
      "changed the max value\n",
      "soma_index = 8\n",
      "3) Finished: Generating Graph Structure and Identifying Soma: 0.02554154396057129\n",
      "Not finding the apical because soma_only option selected\n",
      "6) Staring: Classifying Entire Neuron\n",
      "Total Labels found = {'unsure', 'soma'}\n",
      "6) Finished: Classifying Entire Neuron: 4.57763671875e-05\n",
      "7) Staring: Transfering Segmentation Labels to Face Labels\n",
      "7) Finished: Transfering Segmentation Labels to Face Labels: 0.06723666191101074\n",
      "8) Staring: Generating final Vertex and Face Labels\n",
      "8) Finished: Generating final Vertex and Face Labels: 0.43729352951049805\n",
      "Returning the soma_sdf value AND the classifier\n",
      "soma_sdf_value = 0.86738\n",
      "segmentation[sorted_medians],median_values[sorted_medians] = (array([ 8,  0, 20,  2, 21, 17,  5, 22, 11, 23,  7, 18,  3, 14, 12, 19,  6,\n",
      "       10, 16, 15,  4,  1,  9, 24, 13, 25]), array([0.86738   , 0.158169  , 0.1191325 , 0.1133125 , 0.111872  ,\n",
      "       0.09774035, 0.09184725, 0.0644599 , 0.0578784 , 0.05519205,\n",
      "       0.0505159 , 0.0494011 , 0.0493783 , 0.04724125, 0.0463232 ,\n",
      "       0.0458986 , 0.0457825 , 0.0449783 , 0.0448833 , 0.0440531 ,\n",
      "       0.0439781 , 0.0402523 , 0.04005445, 0.0398019 , 0.03863715,\n",
      "       0.0329097 ]))\n",
      "Sizes = [6235, 10571, 700, 2238, 115, 1542, 2512, 259, 423, 3786, 4496, 6100, 3919, 3592, 1726, 6253, 3984, 4039, 3191, 1175, 749, 2259, 3310, 957, 626, 811]\n",
      "valid_soma_segments_width\n",
      "      ------ Found 1 viable somas: [8]\n",
      "Using Poisson Surface Reconstruction to make mesh watertight\n",
      "IN INPUT FILE VALIDATION LOOP\n",
      "LEAVING LOOP, MESH VALIDATED\n",
      "Using port = 1512\n",
      "xvfb-run -n 1512 -s \"-screen 0 800x600x24\" meshlabserver $@  -i /notebooks/neuron_mesh_tools/Platinum_Compartment/Poisson_temp/neuron_907216.off -o /notebooks/neuron_mesh_tools/Platinum_Compartment/Poisson_temp/neuron_907216_poisson.off -s /notebooks/neuron_mesh_tools/Platinum_Compartment/Poisson_temp/poisson_931762.mls\n"
     ]
    },
    {
     "name": "stderr",
     "output_type": "stream",
     "text": [
      "face_normals all zero, ignoring!\n",
      "face_normals all zero, ignoring!\n"
     ]
    },
    {
     "name": "stdout",
     "output_type": "stream",
     "text": [
      "removed temporary input file: /notebooks/neuron_mesh_tools/Platinum_Compartment/Poisson_temp/neuron_907216.off\n",
      "removed temporary output file: /notebooks/neuron_mesh_tools/Platinum_Compartment/Poisson_temp/neuron_907216_poisson.off\n",
      "/notebooks/neuron_mesh_tools/Platinum_Compartment/Poisson_temp/poisson_931762.mls is being deleted....\n",
      "Inside sphere validater: ratio_val = 2.882922788675577\n",
      "----- working on mesh after poisson #1: <trimesh.Trimesh(vertices.shape=(42551, 3), faces.shape=(85098, 3))>\n",
      "IN INPUT FILE VALIDATION LOOP\n",
      "LEAVING LOOP, MESH VALIDATED\n",
      "Using port = 8188\n",
      "xvfb-run -n 8188 -s \"-screen 0 800x600x24\" meshlabserver $@  -i /notebooks/neuron_mesh_tools/Platinum_Compartment/12345/neuron_12345_decimated_largest_piece_poisson_largest_inner.off -o /notebooks/neuron_mesh_tools/Platinum_Compartment/12345/neuron_12345_decimated_largest_piece_poisson_largest_inner_decimated.off -s /notebooks/neuron_mesh_tools/Platinum_Compartment/12345/decimation_meshlab_25472879.mls\n",
      "done exporting decimated mesh: neuron_12345_decimated_largest_piece_poisson_largest_inner.off\n",
      "1) Starting: Mesh importing and Pymesh fix\n",
      "loading mesh from vertices and triangles array\n",
      "1) Finished: Mesh importing and Pymesh fix: 0.0001926422119140625\n",
      "2) Staring: Generating CGAL segmentation for neuron\n",
      "Done writing OFF file\n",
      "\n",
      "Starting CGAL segmentation\n",
      "Right before cgal segmentation, clusters = 3, smoothness = 0.2, path_and_filename = /notebooks/neuron_mesh_tools/Platinum_Compartment/temp/1234501_fixed \n",
      "1\n",
      "Finished CGAL segmentation algorithm: 1.84588623046875\n",
      "2) Finished: Generating CGAL segmentation for neuron: 2.1395623683929443\n",
      "3) Staring: Generating Graph Structure and Identifying Soma using soma size threshold  = 3000\n",
      "my_list_keys = [0, 1, 2, 3, 4, 5, 6, 7, 8, 9, 10, 11]\n",
      "changed the median value\n",
      "changed the mean value\n",
      "changed the max value\n",
      "changed the median value\n",
      "changed the mean value\n",
      "changed the max value\n",
      "changed the median value\n",
      "changed the mean value\n",
      "changed the max value\n",
      "soma_index = 6\n",
      "3) Finished: Generating Graph Structure and Identifying Soma: 0.007561683654785156\n",
      "Not finding the apical because soma_only option selected\n",
      "6) Staring: Classifying Entire Neuron\n",
      "Total Labels found = {'unsure', 'soma'}\n",
      "6) Finished: Classifying Entire Neuron: 4.291534423828125e-05\n",
      "7) Staring: Transfering Segmentation Labels to Face Labels\n",
      "7) Finished: Transfering Segmentation Labels to Face Labels: 0.018439292907714844\n",
      "8) Staring: Generating final Vertex and Face Labels\n",
      "8) Finished: Generating final Vertex and Face Labels: 0.09680962562561035\n",
      "Returning the soma_sdf value AND the classifier\n",
      "soma_sdf_value = 0.8608505\n",
      "segmentation[sorted_medians],median_values[sorted_medians] = (array([ 6, 10,  3,  2, 11,  9,  7,  5,  1,  8,  4,  0]), array([0.8608505, 0.130472 , 0.123803 , 0.100414 , 0.0995433, 0.062865 ,\n",
      "       0.0573147, 0.0541266, 0.0417295, 0.0410741, 0.0397183, 0.0262815]))\n",
      "Sizes = [4236, 758, 964, 623, 544, 2745, 658, 5778, 3023, 351, 1155, 439]\n",
      "valid_soma_segments_width\n",
      "      ------ Found 1 viable somas: [6]\n",
      "Using Poisson Surface Reconstruction to make mesh watertight\n",
      "IN INPUT FILE VALIDATION LOOP\n",
      "LEAVING LOOP, MESH VALIDATED\n",
      "Using port = 1231\n",
      "xvfb-run -n 1231 -s \"-screen 0 800x600x24\" meshlabserver $@  -i /notebooks/neuron_mesh_tools/Platinum_Compartment/Poisson_temp/neuron_546835.off -o /notebooks/neuron_mesh_tools/Platinum_Compartment/Poisson_temp/neuron_546835_poisson.off -s /notebooks/neuron_mesh_tools/Platinum_Compartment/Poisson_temp/poisson_133510.mls\n"
     ]
    },
    {
     "name": "stderr",
     "output_type": "stream",
     "text": [
      "face_normals all zero, ignoring!\n",
      "face_normals all zero, ignoring!\n",
      "face_normals all zero, ignoring!\n",
      "face_normals all zero, ignoring!\n",
      "face_normals all zero, ignoring!\n"
     ]
    },
    {
     "name": "stdout",
     "output_type": "stream",
     "text": [
      "removed temporary input file: /notebooks/neuron_mesh_tools/Platinum_Compartment/Poisson_temp/neuron_546835.off\n",
      "removed temporary output file: /notebooks/neuron_mesh_tools/Platinum_Compartment/Poisson_temp/neuron_546835_poisson.off\n",
      "/notebooks/neuron_mesh_tools/Platinum_Compartment/Poisson_temp/poisson_133510.mls is being deleted....\n",
      "Inside sphere validater: ratio_val = 3.0502651518210446\n",
      "\n",
      "\n",
      "\n",
      " Total time for run = 115.93357729911804\n"
     ]
    }
   ],
   "source": [
    "soma_mesh_list,run_time,total_soma_list_sdf = sm.extract_soma_center(segment_id,\n",
    "                                             current_neuron.vertices,\n",
    "                                             current_neuron.faces)"
   ]
  },
  {
   "cell_type": "code",
   "execution_count": 8,
   "metadata": {},
   "outputs": [
    {
     "data": {
      "text/html": [
       "<iframe srcdoc=\"<!DOCTYPE html>\n",
       "<html lang=&quot;en&quot;>\n",
       "  <head>\n",
       "    <title>trimesh: threejs viewer</title>\n",
       "    <meta charset=&quot;utf-8&quot;>\n",
       "    <meta name=&quot;viewport&quot; content=&quot;width=device-width, \n",
       "\t\t   user-scalable=no, \n",
       "\t\t   minimum-scale=1.0, \n",
       "\t\t   maximum-scale=1.0&quot;>\n",
       "    <style>\n",
       "      body {\n",
       "      margin: 0px;\n",
       "      overflow: hidden;\n",
       "      }\n",
       "    </style>\n",
       "  </head>\n",
       "  <body>\n",
       "    <div id=&quot;container&quot;></div>\n",
       "    <script src=&quot;https://cdnjs.cloudflare.com/ajax/libs/three.js/109/three.min.js&quot;></script>\n",
       "    <script>THREE.TrackballControls=function(object,domElement){var _this=this;var STATE={NONE:-1,ROTATE:0,ZOOM:1,PAN:2,TOUCH_ROTATE:3,TOUCH_ZOOM_PAN:4};this.object=object;this.domElement=(domElement!==undefined)?domElement:document;this.enabled=true;this.screen={left:0,top:0,width:0,height:0};this.rotateSpeed=1.0;this.zoomSpeed=1.2;this.panSpeed=0.3;this.noRotate=false;this.noZoom=false;this.noPan=false;this.staticMoving=false;this.dynamicDampingFactor=0.2;this.minDistance=0;this.maxDistance=Infinity;this.keys=[65 ,83 ,68 ];this.target=new THREE.Vector3();var EPS=0.000001;var lastPosition=new THREE.Vector3();var _state=STATE.NONE,_prevState=STATE.NONE,_eye=new THREE.Vector3(),_movePrev=new THREE.Vector2(),_moveCurr=new THREE.Vector2(),_lastAxis=new THREE.Vector3(),_lastAngle=0,_zoomStart=new THREE.Vector2(),_zoomEnd=new THREE.Vector2(),_touchZoomDistanceStart=0,_touchZoomDistanceEnd=0,_panStart=new THREE.Vector2(),_panEnd=new THREE.Vector2();this.target0=this.target.clone();this.position0=this.object.position.clone();this.up0=this.object.up.clone();var changeEvent={type:'change'};var startEvent={type:'start'};var endEvent={type:'end'};this.handleResize=function(){if(this.domElement===document){this.screen.left=0;this.screen.top=0;this.screen.width=window.innerWidth;this.screen.height=window.innerHeight;}else{var box=this.domElement.getBoundingClientRect();var d=this.domElement.ownerDocument.documentElement;this.screen.left=box.left+window.pageXOffset-d.clientLeft;this.screen.top=box.top+window.pageYOffset-d.clientTop;this.screen.width=box.width;this.screen.height=box.height;}};var getMouseOnScreen=(function(){var vector=new THREE.Vector2();return function getMouseOnScreen(pageX,pageY){vector.set((pageX-_this.screen.left)/_this.screen.width,(pageY-_this.screen.top)/_this.screen.height);return vector;};}());var getMouseOnCircle=(function(){var vector=new THREE.Vector2();return function getMouseOnCircle(pageX,pageY){vector.set(((pageX-_this.screen.width*0.5-_this.screen.left)/(_this.screen.width*0.5)),((_this.screen.height+2*(_this.screen.top-pageY))/_this.screen.width));return vector;};}());this.rotateCamera=(function(){var axis=new THREE.Vector3(),quaternion=new THREE.Quaternion(),eyeDirection=new THREE.Vector3(),objectUpDirection=new THREE.Vector3(),objectSidewaysDirection=new THREE.Vector3(),moveDirection=new THREE.Vector3(),angle;return function rotateCamera(){moveDirection.set(_moveCurr.x-_movePrev.x,_moveCurr.y-_movePrev.y,0);angle=moveDirection.length();if(angle){_eye.copy(_this.object.position).sub(_this.target);eyeDirection.copy(_eye).normalize();objectUpDirection.copy(_this.object.up).normalize();objectSidewaysDirection.crossVectors(objectUpDirection,eyeDirection).normalize();objectUpDirection.setLength(_moveCurr.y-_movePrev.y);objectSidewaysDirection.setLength(_moveCurr.x-_movePrev.x);moveDirection.copy(objectUpDirection.add(objectSidewaysDirection));axis.crossVectors(moveDirection,_eye).normalize();angle*=_this.rotateSpeed;quaternion.setFromAxisAngle(axis,angle);_eye.applyQuaternion(quaternion);_this.object.up.applyQuaternion(quaternion);_lastAxis.copy(axis);_lastAngle=angle;}else if(!_this.staticMoving&&_lastAngle){_lastAngle*=Math.sqrt(1.0-_this.dynamicDampingFactor);_eye.copy(_this.object.position).sub(_this.target);quaternion.setFromAxisAngle(_lastAxis,_lastAngle);_eye.applyQuaternion(quaternion);_this.object.up.applyQuaternion(quaternion);}\n",
       "_movePrev.copy(_moveCurr);};}());this.zoomCamera=function(){var factor;if(_state===STATE.TOUCH_ZOOM_PAN){factor=_touchZoomDistanceStart/_touchZoomDistanceEnd;_touchZoomDistanceStart=_touchZoomDistanceEnd;_eye.multiplyScalar(factor);}else{factor=1.0+(_zoomEnd.y-_zoomStart.y)*_this.zoomSpeed;if(factor!==1.0&&factor>0.0){_eye.multiplyScalar(factor);}\n",
       "if(_this.staticMoving){_zoomStart.copy(_zoomEnd);}else{_zoomStart.y+=(_zoomEnd.y-_zoomStart.y)*this.dynamicDampingFactor;}}};this.panCamera=(function(){var mouseChange=new THREE.Vector2(),objectUp=new THREE.Vector3(),pan=new THREE.Vector3();return function panCamera(){mouseChange.copy(_panEnd).sub(_panStart);if(mouseChange.lengthSq()){mouseChange.multiplyScalar(_eye.length()*_this.panSpeed);pan.copy(_eye).cross(_this.object.up).setLength(mouseChange.x);pan.add(objectUp.copy(_this.object.up).setLength(mouseChange.y));_this.object.position.add(pan);_this.target.add(pan);if(_this.staticMoving){_panStart.copy(_panEnd);}else{_panStart.add(mouseChange.subVectors(_panEnd,_panStart).multiplyScalar(_this.dynamicDampingFactor));}}};}());this.checkDistances=function(){if(!_this.noZoom||!_this.noPan){if(_eye.lengthSq()>_this.maxDistance*_this.maxDistance){_this.object.position.addVectors(_this.target,_eye.setLength(_this.maxDistance));_zoomStart.copy(_zoomEnd);}\n",
       "if(_eye.lengthSq()<_this.minDistance*_this.minDistance){_this.object.position.addVectors(_this.target,_eye.setLength(_this.minDistance));_zoomStart.copy(_zoomEnd);}}};this.update=function(){_eye.subVectors(_this.object.position,_this.target);if(!_this.noRotate){_this.rotateCamera();}\n",
       "if(!_this.noZoom){_this.zoomCamera();}\n",
       "if(!_this.noPan){_this.panCamera();}\n",
       "_this.object.position.addVectors(_this.target,_eye);_this.checkDistances();_this.object.lookAt(_this.target);if(lastPosition.distanceToSquared(_this.object.position)>EPS){_this.dispatchEvent(changeEvent);lastPosition.copy(_this.object.position);}};this.reset=function(){_state=STATE.NONE;_prevState=STATE.NONE;_this.target.copy(_this.target0);_this.object.position.copy(_this.position0);_this.object.up.copy(_this.up0);_eye.subVectors(_this.object.position,_this.target);_this.object.lookAt(_this.target);_this.dispatchEvent(changeEvent);lastPosition.copy(_this.object.position);};function keydown(event){if(_this.enabled===false)return;window.removeEventListener('keydown',keydown);_prevState=_state;if(_state!==STATE.NONE){return;}else if(event.keyCode===_this.keys[STATE.ROTATE]&&!_this.noRotate){_state=STATE.ROTATE;}else if(event.keyCode===_this.keys[STATE.ZOOM]&&!_this.noZoom){_state=STATE.ZOOM;}else if(event.keyCode===_this.keys[STATE.PAN]&&!_this.noPan){_state=STATE.PAN;}}\n",
       "function keyup(event){if(_this.enabled===false)return;_state=_prevState;window.addEventListener('keydown',keydown,false);}\n",
       "function mousedown(event){if(_this.enabled===false)return;event.preventDefault();event.stopPropagation();if(_state===STATE.NONE){_state=event.button;}\n",
       "if(_state===STATE.ROTATE&&!_this.noRotate){_moveCurr.copy(getMouseOnCircle(event.pageX,event.pageY));_movePrev.copy(_moveCurr);}else if(_state===STATE.ZOOM&&!_this.noZoom){_zoomStart.copy(getMouseOnScreen(event.pageX,event.pageY));_zoomEnd.copy(_zoomStart);}else if(_state===STATE.PAN&&!_this.noPan){_panStart.copy(getMouseOnScreen(event.pageX,event.pageY));_panEnd.copy(_panStart);}\n",
       "document.addEventListener('mousemove',mousemove,false);document.addEventListener('mouseup',mouseup,false);_this.dispatchEvent(startEvent);}\n",
       "function mousemove(event){if(_this.enabled===false)return;event.preventDefault();event.stopPropagation();if(_state===STATE.ROTATE&&!_this.noRotate){_movePrev.copy(_moveCurr);_moveCurr.copy(getMouseOnCircle(event.pageX,event.pageY));}else if(_state===STATE.ZOOM&&!_this.noZoom){_zoomEnd.copy(getMouseOnScreen(event.pageX,event.pageY));}else if(_state===STATE.PAN&&!_this.noPan){_panEnd.copy(getMouseOnScreen(event.pageX,event.pageY));}}\n",
       "function mouseup(event){if(_this.enabled===false)return;event.preventDefault();event.stopPropagation();_state=STATE.NONE;document.removeEventListener('mousemove',mousemove);document.removeEventListener('mouseup',mouseup);_this.dispatchEvent(endEvent);}\n",
       "function mousewheel(event){if(_this.enabled===false)return;if(_this.noZoom===true)return;event.preventDefault();event.stopPropagation();switch(event.deltaMode){case 2:_zoomStart.y-=event.deltaY*0.025;break;case 1:_zoomStart.y-=event.deltaY*0.01;break;default:_zoomStart.y-=event.deltaY*0.00025;break;}\n",
       "_this.dispatchEvent(startEvent);_this.dispatchEvent(endEvent);}\n",
       "function touchstart(event){if(_this.enabled===false)return;event.preventDefault();switch(event.touches.length){case 1:_state=STATE.TOUCH_ROTATE;_moveCurr.copy(getMouseOnCircle(event.touches[0].pageX,event.touches[0].pageY));_movePrev.copy(_moveCurr);break;default:_state=STATE.TOUCH_ZOOM_PAN;var dx=event.touches[0].pageX-event.touches[1].pageX;var dy=event.touches[0].pageY-event.touches[1].pageY;_touchZoomDistanceEnd=_touchZoomDistanceStart=Math.sqrt(dx*dx+dy*dy);var x=(event.touches[0].pageX+event.touches[1].pageX)/2;var y=(event.touches[0].pageY+event.touches[1].pageY)/2;_panStart.copy(getMouseOnScreen(x,y));_panEnd.copy(_panStart);break;}\n",
       "_this.dispatchEvent(startEvent);}\n",
       "function touchmove(event){if(_this.enabled===false)return;event.preventDefault();event.stopPropagation();switch(event.touches.length){case 1:_movePrev.copy(_moveCurr);_moveCurr.copy(getMouseOnCircle(event.touches[0].pageX,event.touches[0].pageY));break;default:var dx=event.touches[0].pageX-event.touches[1].pageX;var dy=event.touches[0].pageY-event.touches[1].pageY;_touchZoomDistanceEnd=Math.sqrt(dx*dx+dy*dy);var x=(event.touches[0].pageX+event.touches[1].pageX)/2;var y=(event.touches[0].pageY+event.touches[1].pageY)/2;_panEnd.copy(getMouseOnScreen(x,y));break;}}\n",
       "function touchend(event){if(_this.enabled===false)return;switch(event.touches.length){case 0:_state=STATE.NONE;break;case 1:_state=STATE.TOUCH_ROTATE;_moveCurr.copy(getMouseOnCircle(event.touches[0].pageX,event.touches[0].pageY));_movePrev.copy(_moveCurr);break;}\n",
       "_this.dispatchEvent(endEvent);}\n",
       "function contextmenu(event){if(_this.enabled===false)return;event.preventDefault();}\n",
       "this.dispose=function(){this.domElement.removeEventListener('contextmenu',contextmenu,false);this.domElement.removeEventListener('mousedown',mousedown,false);this.domElement.removeEventListener('wheel',mousewheel,false);this.domElement.removeEventListener('touchstart',touchstart,false);this.domElement.removeEventListener('touchend',touchend,false);this.domElement.removeEventListener('touchmove',touchmove,false);document.removeEventListener('mousemove',mousemove,false);document.removeEventListener('mouseup',mouseup,false);window.removeEventListener('keydown',keydown,false);window.removeEventListener('keyup',keyup,false);};this.domElement.addEventListener('contextmenu',contextmenu,false);this.domElement.addEventListener('mousedown',mousedown,false);this.domElement.addEventListener('wheel',mousewheel,false);this.domElement.addEventListener('touchstart',touchstart,false);this.domElement.addEventListener('touchend',touchend,false);this.domElement.addEventListener('touchmove',touchmove,false);window.addEventListener('keydown',keydown,false);window.addEventListener('keyup',keyup,false);this.handleResize();this.update();};THREE.TrackballControls.prototype=Object.create(THREE.EventDispatcher.prototype);THREE.TrackballControls.prototype.constructor=THREE.TrackballControls;THREE.GLTFLoader=(function(){function GLTFLoader(manager){this.manager=(manager!==undefined)?manager:THREE.DefaultLoadingManager;this.dracoLoader=null;this.ddsLoader=null;}\n",
       "GLTFLoader.prototype={constructor:GLTFLoader,crossOrigin:'anonymous',load:function(url,onLoad,onProgress,onError){var scope=this;var resourcePath;if(this.resourcePath!==undefined){resourcePath=this.resourcePath;}else if(this.path!==undefined){resourcePath=this.path;}else{resourcePath=THREE.LoaderUtils.extractUrlBase(url);}\n",
       "scope.manager.itemStart(url);var _onError=function(e){if(onError){onError(e);}else{console.error(e);}\n",
       "scope.manager.itemError(url);scope.manager.itemEnd(url);};var loader=new THREE.FileLoader(scope.manager);loader.setPath(this.path);loader.setResponseType('arraybuffer');if(scope.crossOrigin==='use-credentials'){loader.setWithCredentials(true);}\n",
       "loader.load(url,function(data){try{scope.parse(data,resourcePath,function(gltf){onLoad(gltf);scope.manager.itemEnd(url);},_onError);}catch(e){_onError(e);}},onProgress,_onError);},setCrossOrigin:function(value){this.crossOrigin=value;return this;},setPath:function(value){this.path=value;return this;},setResourcePath:function(value){this.resourcePath=value;return this;},setDRACOLoader:function(dracoLoader){this.dracoLoader=dracoLoader;return this;},setDDSLoader:function(ddsLoader){this.ddsLoader=ddsLoader;return this;},parse:function(data,path,onLoad,onError){var content;var extensions={};if(typeof data==='string'){content=data;}else{var magic=THREE.LoaderUtils.decodeText(new Uint8Array(data,0,4));if(magic===BINARY_EXTENSION_HEADER_MAGIC){try{extensions[EXTENSIONS.KHR_BINARY_GLTF]=new GLTFBinaryExtension(data);}catch(error){if(onError)onError(error);return;}\n",
       "content=extensions[EXTENSIONS.KHR_BINARY_GLTF].content;}else{content=THREE.LoaderUtils.decodeText(new Uint8Array(data));}}\n",
       "var json=JSON.parse(content);if(json.asset===undefined||json.asset.version[0]<2){if(onError)onError(new Error('THREE.GLTFLoader: Unsupported asset. glTF versions >=2.0 are supported. Use LegacyGLTFLoader instead.'));return;}\n",
       "if(json.extensionsUsed){for(var i=0;i<json.extensionsUsed.length;++i){var extensionName=json.extensionsUsed[i];var extensionsRequired=json.extensionsRequired||[];switch(extensionName){case EXTENSIONS.KHR_LIGHTS_PUNCTUAL:extensions[extensionName]=new GLTFLightsExtension(json);break;case EXTENSIONS.KHR_MATERIALS_UNLIT:extensions[extensionName]=new GLTFMaterialsUnlitExtension();break;case EXTENSIONS.KHR_MATERIALS_PBR_SPECULAR_GLOSSINESS:extensions[extensionName]=new GLTFMaterialsPbrSpecularGlossinessExtension();break;case EXTENSIONS.KHR_DRACO_MESH_COMPRESSION:extensions[extensionName]=new GLTFDracoMeshCompressionExtension(json,this.dracoLoader);break;case EXTENSIONS.MSFT_TEXTURE_DDS:extensions[EXTENSIONS.MSFT_TEXTURE_DDS]=new GLTFTextureDDSExtension(this.ddsLoader);break;case EXTENSIONS.KHR_TEXTURE_TRANSFORM:extensions[EXTENSIONS.KHR_TEXTURE_TRANSFORM]=new GLTFTextureTransformExtension();break;default:if(extensionsRequired.indexOf(extensionName)>=0){console.warn('THREE.GLTFLoader: Unknown extension &quot;'+extensionName+'&quot;.');}}}}\n",
       "var parser=new GLTFParser(json,extensions,{path:path||this.resourcePath||'',crossOrigin:this.crossOrigin,manager:this.manager});parser.parse(onLoad,onError);}};function GLTFRegistry(){var objects={};return{get:function(key){return objects[key];},add:function(key,object){objects[key]=object;},remove:function(key){delete objects[key];},removeAll:function(){objects={};}};}\n",
       "var EXTENSIONS={KHR_BINARY_GLTF:'KHR_binary_glTF',KHR_DRACO_MESH_COMPRESSION:'KHR_draco_mesh_compression',KHR_LIGHTS_PUNCTUAL:'KHR_lights_punctual',KHR_MATERIALS_PBR_SPECULAR_GLOSSINESS:'KHR_materials_pbrSpecularGlossiness',KHR_MATERIALS_UNLIT:'KHR_materials_unlit',KHR_TEXTURE_TRANSFORM:'KHR_texture_transform',MSFT_TEXTURE_DDS:'MSFT_texture_dds'};function GLTFTextureDDSExtension(ddsLoader){if(!ddsLoader){throw new Error('THREE.GLTFLoader: Attempting to load .dds texture without importing THREE.DDSLoader');}\n",
       "this.name=EXTENSIONS.MSFT_TEXTURE_DDS;this.ddsLoader=ddsLoader;}\n",
       "function GLTFLightsExtension(json){this.name=EXTENSIONS.KHR_LIGHTS_PUNCTUAL;var extension=(json.extensions&&json.extensions[EXTENSIONS.KHR_LIGHTS_PUNCTUAL])||{};this.lightDefs=extension.lights||[];}\n",
       "GLTFLightsExtension.prototype.loadLight=function(lightIndex){var lightDef=this.lightDefs[lightIndex];var lightNode;var color=new THREE.Color(0xffffff);if(lightDef.color!==undefined)color.fromArray(lightDef.color);var range=lightDef.range!==undefined?lightDef.range:0;switch(lightDef.type){case'directional':lightNode=new THREE.DirectionalLight(color);lightNode.target.position.set(0,0,-1);lightNode.add(lightNode.target);break;case'point':lightNode=new THREE.PointLight(color);lightNode.distance=range;break;case'spot':lightNode=new THREE.SpotLight(color);lightNode.distance=range;lightDef.spot=lightDef.spot||{};lightDef.spot.innerConeAngle=lightDef.spot.innerConeAngle!==undefined?lightDef.spot.innerConeAngle:0;lightDef.spot.outerConeAngle=lightDef.spot.outerConeAngle!==undefined?lightDef.spot.outerConeAngle:Math.PI/4.0;lightNode.angle=lightDef.spot.outerConeAngle;lightNode.penumbra=1.0-lightDef.spot.innerConeAngle/lightDef.spot.outerConeAngle;lightNode.target.position.set(0,0,-1);lightNode.add(lightNode.target);break;default:throw new Error('THREE.GLTFLoader: Unexpected light type, &quot;'+lightDef.type+'&quot;.');}\n",
       "lightNode.position.set(0,0,0);lightNode.decay=2;if(lightDef.intensity!==undefined)lightNode.intensity=lightDef.intensity;lightNode.name=lightDef.name||('light_'+lightIndex);return Promise.resolve(lightNode);};function GLTFMaterialsUnlitExtension(){this.name=EXTENSIONS.KHR_MATERIALS_UNLIT;}\n",
       "GLTFMaterialsUnlitExtension.prototype.getMaterialType=function(){return THREE.MeshBasicMaterial;};GLTFMaterialsUnlitExtension.prototype.extendParams=function(materialParams,materialDef,parser){var pending=[];materialParams.color=new THREE.Color(1.0,1.0,1.0);materialParams.opacity=1.0;var metallicRoughness=materialDef.pbrMetallicRoughness;if(metallicRoughness){if(Array.isArray(metallicRoughness.baseColorFactor)){var array=metallicRoughness.baseColorFactor;materialParams.color.fromArray(array);materialParams.opacity=array[3];}\n",
       "if(metallicRoughness.baseColorTexture!==undefined){pending.push(parser.assignTexture(materialParams,'map',metallicRoughness.baseColorTexture));}}\n",
       "return Promise.all(pending);};var BINARY_EXTENSION_HEADER_MAGIC='glTF';var BINARY_EXTENSION_HEADER_LENGTH=12;var BINARY_EXTENSION_CHUNK_TYPES={JSON:0x4E4F534A,BIN:0x004E4942};function GLTFBinaryExtension(data){this.name=EXTENSIONS.KHR_BINARY_GLTF;this.content=null;this.body=null;var headerView=new DataView(data,0,BINARY_EXTENSION_HEADER_LENGTH);this.header={magic:THREE.LoaderUtils.decodeText(new Uint8Array(data.slice(0,4))),version:headerView.getUint32(4,true),length:headerView.getUint32(8,true)};if(this.header.magic!==BINARY_EXTENSION_HEADER_MAGIC){throw new Error('THREE.GLTFLoader: Unsupported glTF-Binary header.');}else if(this.header.version<2.0){throw new Error('THREE.GLTFLoader: Legacy binary file detected. Use LegacyGLTFLoader instead.');}\n",
       "var chunkView=new DataView(data,BINARY_EXTENSION_HEADER_LENGTH);var chunkIndex=0;while(chunkIndex<chunkView.byteLength){var chunkLength=chunkView.getUint32(chunkIndex,true);chunkIndex+=4;var chunkType=chunkView.getUint32(chunkIndex,true);chunkIndex+=4;if(chunkType===BINARY_EXTENSION_CHUNK_TYPES.JSON){var contentArray=new Uint8Array(data,BINARY_EXTENSION_HEADER_LENGTH+chunkIndex,chunkLength);this.content=THREE.LoaderUtils.decodeText(contentArray);}else if(chunkType===BINARY_EXTENSION_CHUNK_TYPES.BIN){var byteOffset=BINARY_EXTENSION_HEADER_LENGTH+chunkIndex;this.body=data.slice(byteOffset,byteOffset+chunkLength);}\n",
       "chunkIndex+=chunkLength;}\n",
       "if(this.content===null){throw new Error('THREE.GLTFLoader: JSON content not found.');}}\n",
       "function GLTFDracoMeshCompressionExtension(json,dracoLoader){if(!dracoLoader){throw new Error('THREE.GLTFLoader: No DRACOLoader instance provided.');}\n",
       "this.name=EXTENSIONS.KHR_DRACO_MESH_COMPRESSION;this.json=json;this.dracoLoader=dracoLoader;}\n",
       "GLTFDracoMeshCompressionExtension.prototype.decodePrimitive=function(primitive,parser){var json=this.json;var dracoLoader=this.dracoLoader;var bufferViewIndex=primitive.extensions[this.name].bufferView;var gltfAttributeMap=primitive.extensions[this.name].attributes;var threeAttributeMap={};var attributeNormalizedMap={};var attributeTypeMap={};for(var attributeName in gltfAttributeMap){var threeAttributeName=ATTRIBUTES[attributeName]||attributeName.toLowerCase();threeAttributeMap[threeAttributeName]=gltfAttributeMap[attributeName];}\n",
       "for(attributeName in primitive.attributes){var threeAttributeName=ATTRIBUTES[attributeName]||attributeName.toLowerCase();if(gltfAttributeMap[attributeName]!==undefined){var accessorDef=json.accessors[primitive.attributes[attributeName]];var componentType=WEBGL_COMPONENT_TYPES[accessorDef.componentType];attributeTypeMap[threeAttributeName]=componentType;attributeNormalizedMap[threeAttributeName]=accessorDef.normalized===true;}}\n",
       "return parser.getDependency('bufferView',bufferViewIndex).then(function(bufferView){return new Promise(function(resolve){dracoLoader.decodeDracoFile(bufferView,function(geometry){for(var attributeName in geometry.attributes){var attribute=geometry.attributes[attributeName];var normalized=attributeNormalizedMap[attributeName];if(normalized!==undefined)attribute.normalized=normalized;}\n",
       "resolve(geometry);},threeAttributeMap,attributeTypeMap);});});};function GLTFTextureTransformExtension(){this.name=EXTENSIONS.KHR_TEXTURE_TRANSFORM;}\n",
       "GLTFTextureTransformExtension.prototype.extendTexture=function(texture,transform){texture=texture.clone();if(transform.offset!==undefined){texture.offset.fromArray(transform.offset);}\n",
       "if(transform.rotation!==undefined){texture.rotation=transform.rotation;}\n",
       "if(transform.scale!==undefined){texture.repeat.fromArray(transform.scale);}\n",
       "if(transform.texCoord!==undefined){console.warn('THREE.GLTFLoader: Custom UV sets in &quot;'+this.name+'&quot; extension not yet supported.');}\n",
       "texture.needsUpdate=true;return texture;};function GLTFMaterialsPbrSpecularGlossinessExtension(){return{name:EXTENSIONS.KHR_MATERIALS_PBR_SPECULAR_GLOSSINESS,specularGlossinessParams:['color','map','lightMap','lightMapIntensity','aoMap','aoMapIntensity','emissive','emissiveIntensity','emissiveMap','bumpMap','bumpScale','normalMap','displacementMap','displacementScale','displacementBias','specularMap','specular','glossinessMap','glossiness','alphaMap','envMap','envMapIntensity','refractionRatio',],getMaterialType:function(){return THREE.ShaderMaterial;},extendParams:function(materialParams,materialDef,parser){var pbrSpecularGlossiness=materialDef.extensions[this.name];var shader=THREE.ShaderLib['standard'];var uniforms=THREE.UniformsUtils.clone(shader.uniforms);var specularMapParsFragmentChunk=['#ifdef USE_SPECULARMAP','\tuniform sampler2D specularMap;','#endif'].join('\\n');var glossinessMapParsFragmentChunk=['#ifdef USE_GLOSSINESSMAP','\tuniform sampler2D glossinessMap;','#endif'].join('\\n');var specularMapFragmentChunk=['vec3 specularFactor = specular;','#ifdef USE_SPECULARMAP','\tvec4 texelSpecular = texture2D( specularMap, vUv );','\ttexelSpecular = sRGBToLinear( texelSpecular );','\t// reads channel RGB, compatible with a glTF Specular-Glossiness (RGBA) texture','\tspecularFactor *= texelSpecular.rgb;','#endif'].join('\\n');var glossinessMapFragmentChunk=['float glossinessFactor = glossiness;','#ifdef USE_GLOSSINESSMAP','\tvec4 texelGlossiness = texture2D( glossinessMap, vUv );','\t// reads channel A, compatible with a glTF Specular-Glossiness (RGBA) texture','\tglossinessFactor *= texelGlossiness.a;','#endif'].join('\\n');var lightPhysicalFragmentChunk=['PhysicalMaterial material;','material.diffuseColor = diffuseColor.rgb;','material.specularRoughness = clamp( 1.0 - glossinessFactor, 0.04, 1.0 );','material.specularColor = specularFactor.rgb;',].join('\\n');var fragmentShader=shader.fragmentShader.replace('uniform float roughness;','uniform vec3 specular;').replace('uniform float metalness;','uniform float glossiness;').replace('#include <roughnessmap_pars_fragment>',specularMapParsFragmentChunk).replace('#include <metalnessmap_pars_fragment>',glossinessMapParsFragmentChunk).replace('#include <roughnessmap_fragment>',specularMapFragmentChunk).replace('#include <metalnessmap_fragment>',glossinessMapFragmentChunk).replace('#include <lights_physical_fragment>',lightPhysicalFragmentChunk);delete uniforms.roughness;delete uniforms.metalness;delete uniforms.roughnessMap;delete uniforms.metalnessMap;uniforms.specular={value:new THREE.Color().setHex(0x111111)};uniforms.glossiness={value:0.5};uniforms.specularMap={value:null};uniforms.glossinessMap={value:null};materialParams.vertexShader=shader.vertexShader;materialParams.fragmentShader=fragmentShader;materialParams.uniforms=uniforms;materialParams.defines={'STANDARD':''};materialParams.color=new THREE.Color(1.0,1.0,1.0);materialParams.opacity=1.0;var pending=[];if(Array.isArray(pbrSpecularGlossiness.diffuseFactor)){var array=pbrSpecularGlossiness.diffuseFactor;materialParams.color.fromArray(array);materialParams.opacity=array[3];}\n",
       "if(pbrSpecularGlossiness.diffuseTexture!==undefined){pending.push(parser.assignTexture(materialParams,'map',pbrSpecularGlossiness.diffuseTexture));}\n",
       "materialParams.emissive=new THREE.Color(0.0,0.0,0.0);materialParams.glossiness=pbrSpecularGlossiness.glossinessFactor!==undefined?pbrSpecularGlossiness.glossinessFactor:1.0;materialParams.specular=new THREE.Color(1.0,1.0,1.0);if(Array.isArray(pbrSpecularGlossiness.specularFactor)){materialParams.specular.fromArray(pbrSpecularGlossiness.specularFactor);}\n",
       "if(pbrSpecularGlossiness.specularGlossinessTexture!==undefined){var specGlossMapDef=pbrSpecularGlossiness.specularGlossinessTexture;pending.push(parser.assignTexture(materialParams,'glossinessMap',specGlossMapDef));pending.push(parser.assignTexture(materialParams,'specularMap',specGlossMapDef));}\n",
       "return Promise.all(pending);},createMaterial:function(params){var material=new THREE.ShaderMaterial({defines:params.defines,vertexShader:params.vertexShader,fragmentShader:params.fragmentShader,uniforms:params.uniforms,fog:true,lights:true,opacity:params.opacity,transparent:params.transparent});material.isGLTFSpecularGlossinessMaterial=true;material.color=params.color;material.map=params.map===undefined?null:params.map;material.lightMap=null;material.lightMapIntensity=1.0;material.aoMap=params.aoMap===undefined?null:params.aoMap;material.aoMapIntensity=1.0;material.emissive=params.emissive;material.emissiveIntensity=1.0;material.emissiveMap=params.emissiveMap===undefined?null:params.emissiveMap;material.bumpMap=params.bumpMap===undefined?null:params.bumpMap;material.bumpScale=1;material.normalMap=params.normalMap===undefined?null:params.normalMap;if(params.normalScale)material.normalScale=params.normalScale;material.displacementMap=null;material.displacementScale=1;material.displacementBias=0;material.specularMap=params.specularMap===undefined?null:params.specularMap;material.specular=params.specular;material.glossinessMap=params.glossinessMap===undefined?null:params.glossinessMap;material.glossiness=params.glossiness;material.alphaMap=null;material.envMap=params.envMap===undefined?null:params.envMap;material.envMapIntensity=1.0;material.refractionRatio=0.98;material.extensions.derivatives=true;return material;},cloneMaterial:function(source){var target=source.clone();target.isGLTFSpecularGlossinessMaterial=true;var params=this.specularGlossinessParams;for(var i=0,il=params.length;i<il;i++){var value=source[params[i]];target[params[i]]=(value&&value.isColor)?value.clone():value;}\n",
       "return target;},refreshUniforms:function(renderer,scene,camera,geometry,material){if(material.isGLTFSpecularGlossinessMaterial!==true){return;}\n",
       "var uniforms=material.uniforms;var defines=material.defines;uniforms.opacity.value=material.opacity;uniforms.diffuse.value.copy(material.color);uniforms.emissive.value.copy(material.emissive).multiplyScalar(material.emissiveIntensity);uniforms.map.value=material.map;uniforms.specularMap.value=material.specularMap;uniforms.alphaMap.value=material.alphaMap;uniforms.lightMap.value=material.lightMap;uniforms.lightMapIntensity.value=material.lightMapIntensity;uniforms.aoMap.value=material.aoMap;uniforms.aoMapIntensity.value=material.aoMapIntensity;var uvScaleMap;if(material.map){uvScaleMap=material.map;}else if(material.specularMap){uvScaleMap=material.specularMap;}else if(material.displacementMap){uvScaleMap=material.displacementMap;}else if(material.normalMap){uvScaleMap=material.normalMap;}else if(material.bumpMap){uvScaleMap=material.bumpMap;}else if(material.glossinessMap){uvScaleMap=material.glossinessMap;}else if(material.alphaMap){uvScaleMap=material.alphaMap;}else if(material.emissiveMap){uvScaleMap=material.emissiveMap;}\n",
       "if(uvScaleMap!==undefined){if(uvScaleMap.isWebGLRenderTarget){uvScaleMap=uvScaleMap.texture;}\n",
       "if(uvScaleMap.matrixAutoUpdate===true){uvScaleMap.updateMatrix();}\n",
       "uniforms.uvTransform.value.copy(uvScaleMap.matrix);}\n",
       "if(material.envMap){uniforms.envMap.value=material.envMap;uniforms.envMapIntensity.value=material.envMapIntensity;uniforms.flipEnvMap.value=material.envMap.isCubeTexture?-1:1;uniforms.reflectivity.value=material.reflectivity;uniforms.refractionRatio.value=material.refractionRatio;uniforms.maxMipLevel.value=renderer.properties.get(material.envMap).__maxMipLevel;}\n",
       "uniforms.specular.value.copy(material.specular);uniforms.glossiness.value=material.glossiness;uniforms.glossinessMap.value=material.glossinessMap;uniforms.emissiveMap.value=material.emissiveMap;uniforms.bumpMap.value=material.bumpMap;uniforms.normalMap.value=material.normalMap;uniforms.displacementMap.value=material.displacementMap;uniforms.displacementScale.value=material.displacementScale;uniforms.displacementBias.value=material.displacementBias;if(uniforms.glossinessMap.value!==null&&defines.USE_GLOSSINESSMAP===undefined){defines.USE_GLOSSINESSMAP='';defines.USE_ROUGHNESSMAP='';}\n",
       "if(uniforms.glossinessMap.value===null&&defines.USE_GLOSSINESSMAP!==undefined){delete defines.USE_GLOSSINESSMAP;delete defines.USE_ROUGHNESSMAP;}}};}\n",
       "function GLTFCubicSplineInterpolant(parameterPositions,sampleValues,sampleSize,resultBuffer){THREE.Interpolant.call(this,parameterPositions,sampleValues,sampleSize,resultBuffer);}\n",
       "GLTFCubicSplineInterpolant.prototype=Object.create(THREE.Interpolant.prototype);GLTFCubicSplineInterpolant.prototype.constructor=GLTFCubicSplineInterpolant;GLTFCubicSplineInterpolant.prototype.copySampleValue_=function(index){var result=this.resultBuffer,values=this.sampleValues,valueSize=this.valueSize,offset=index*valueSize*3+valueSize;for(var i=0;i!==valueSize;i++){result[i]=values[offset+i];}\n",
       "return result;};GLTFCubicSplineInterpolant.prototype.beforeStart_=GLTFCubicSplineInterpolant.prototype.copySampleValue_;GLTFCubicSplineInterpolant.prototype.afterEnd_=GLTFCubicSplineInterpolant.prototype.copySampleValue_;GLTFCubicSplineInterpolant.prototype.interpolate_=function(i1,t0,t,t1){var result=this.resultBuffer;var values=this.sampleValues;var stride=this.valueSize;var stride2=stride*2;var stride3=stride*3;var td=t1-t0;var p=(t-t0)/td;var pp=p*p;var ppp=pp*p;var offset1=i1*stride3;var offset0=offset1-stride3;var s2=-2*ppp+3*pp;var s3=ppp-pp;var s0=1-s2;var s1=s3-pp+p;for(var i=0;i!==stride;i++){var p0=values[offset0+i+stride];var m0=values[offset0+i+stride2]*td;var p1=values[offset1+i+stride];var m1=values[offset1+i]*td;result[i]=s0*p0+s1*m0+s2*p1+s3*m1;}\n",
       "return result;};var WEBGL_CONSTANTS={FLOAT:5126,FLOAT_MAT3:35675,FLOAT_MAT4:35676,FLOAT_VEC2:35664,FLOAT_VEC3:35665,FLOAT_VEC4:35666,LINEAR:9729,REPEAT:10497,SAMPLER_2D:35678,POINTS:0,LINES:1,LINE_LOOP:2,LINE_STRIP:3,TRIANGLES:4,TRIANGLE_STRIP:5,TRIANGLE_FAN:6,UNSIGNED_BYTE:5121,UNSIGNED_SHORT:5123};var WEBGL_COMPONENT_TYPES={5120:Int8Array,5121:Uint8Array,5122:Int16Array,5123:Uint16Array,5125:Uint32Array,5126:Float32Array};var WEBGL_FILTERS={9728:THREE.NearestFilter,9729:THREE.LinearFilter,9984:THREE.NearestMipMapNearestFilter,9985:THREE.LinearMipMapNearestFilter,9986:THREE.NearestMipMapLinearFilter,9987:THREE.LinearMipMapLinearFilter};var WEBGL_WRAPPINGS={33071:THREE.ClampToEdgeWrapping,33648:THREE.MirroredRepeatWrapping,10497:THREE.RepeatWrapping};var WEBGL_TYPE_SIZES={'SCALAR':1,'VEC2':2,'VEC3':3,'VEC4':4,'MAT2':4,'MAT3':9,'MAT4':16};var ATTRIBUTES={POSITION:'position',NORMAL:'normal',TANGENT:'tangent',TEXCOORD_0:'uv',TEXCOORD_1:'uv2',COLOR_0:'color',WEIGHTS_0:'skinWeight',JOINTS_0:'skinIndex',};var PATH_PROPERTIES={scale:'scale',translation:'position',rotation:'quaternion',weights:'morphTargetInfluences'};var INTERPOLATION={CUBICSPLINE:undefined,LINEAR:THREE.InterpolateLinear,STEP:THREE.InterpolateDiscrete};var ALPHA_MODES={OPAQUE:'OPAQUE',MASK:'MASK',BLEND:'BLEND'};var MIME_TYPE_FORMATS={'image/png':THREE.RGBAFormat,'image/jpeg':THREE.RGBFormat};function resolveURL(url,path){if(typeof url!=='string'||url==='')return'';if(/^(https?:)?\\/\\//i.test(url))return url;if(/^data:.*,.*$/i.test(url))return url;if(/^blob:.*$/i.test(url))return url;return path+url;}\n",
       "var defaultMaterial;function createDefaultMaterial(){defaultMaterial=defaultMaterial||new THREE.MeshStandardMaterial({color:0xFFFFFF,emissive:0x000000,metalness:1,roughness:1,transparent:false,depthTest:true,side:THREE.FrontSide});return defaultMaterial;}\n",
       "function addUnknownExtensionsToUserData(knownExtensions,object,objectDef){for(var name in objectDef.extensions){if(knownExtensions[name]===undefined){object.userData.gltfExtensions=object.userData.gltfExtensions||{};object.userData.gltfExtensions[name]=objectDef.extensions[name];}}}\n",
       "function assignExtrasToUserData(object,gltfDef){if(gltfDef.extras!==undefined){if(typeof gltfDef.extras==='object'){Object.assign(object.userData,gltfDef.extras);}else{console.warn('THREE.GLTFLoader: Ignoring primitive type .extras, '+gltfDef.extras);}}}\n",
       "function addMorphTargets(geometry,targets,parser){var hasMorphPosition=false;var hasMorphNormal=false;for(var i=0,il=targets.length;i<il;i++){var target=targets[i];if(target.POSITION!==undefined)hasMorphPosition=true;if(target.NORMAL!==undefined)hasMorphNormal=true;if(hasMorphPosition&&hasMorphNormal)break;}\n",
       "if(!hasMorphPosition&&!hasMorphNormal)return Promise.resolve(geometry);var pendingPositionAccessors=[];var pendingNormalAccessors=[];for(var i=0,il=targets.length;i<il;i++){var target=targets[i];if(hasMorphPosition){var pendingAccessor=target.POSITION!==undefined?parser.getDependency('accessor',target.POSITION):geometry.attributes.position;pendingPositionAccessors.push(pendingAccessor);}\n",
       "if(hasMorphNormal){var pendingAccessor=target.NORMAL!==undefined?parser.getDependency('accessor',target.NORMAL):geometry.attributes.normal;pendingNormalAccessors.push(pendingAccessor);}}\n",
       "return Promise.all([Promise.all(pendingPositionAccessors),Promise.all(pendingNormalAccessors)]).then(function(accessors){var morphPositions=accessors[0];var morphNormals=accessors[1];for(var i=0,il=morphPositions.length;i<il;i++){if(geometry.attributes.position===morphPositions[i])continue;morphPositions[i]=cloneBufferAttribute(morphPositions[i]);}\n",
       "for(var i=0,il=morphNormals.length;i<il;i++){if(geometry.attributes.normal===morphNormals[i])continue;morphNormals[i]=cloneBufferAttribute(morphNormals[i]);}\n",
       "for(var i=0,il=targets.length;i<il;i++){var target=targets[i];var attributeName='morphTarget'+i;if(hasMorphPosition){if(target.POSITION!==undefined){var positionAttribute=morphPositions[i];positionAttribute.name=attributeName;var position=geometry.attributes.position;for(var j=0,jl=positionAttribute.count;j<jl;j++){positionAttribute.setXYZ(j,positionAttribute.getX(j)+position.getX(j),positionAttribute.getY(j)+position.getY(j),positionAttribute.getZ(j)+position.getZ(j));}}}\n",
       "if(hasMorphNormal){if(target.NORMAL!==undefined){var normalAttribute=morphNormals[i];normalAttribute.name=attributeName;var normal=geometry.attributes.normal;for(var j=0,jl=normalAttribute.count;j<jl;j++){normalAttribute.setXYZ(j,normalAttribute.getX(j)+normal.getX(j),normalAttribute.getY(j)+normal.getY(j),normalAttribute.getZ(j)+normal.getZ(j));}}}}\n",
       "if(hasMorphPosition)geometry.morphAttributes.position=morphPositions;if(hasMorphNormal)geometry.morphAttributes.normal=morphNormals;return geometry;});}\n",
       "function updateMorphTargets(mesh,meshDef){mesh.updateMorphTargets();if(meshDef.weights!==undefined){for(var i=0,il=meshDef.weights.length;i<il;i++){mesh.morphTargetInfluences[i]=meshDef.weights[i];}}\n",
       "if(meshDef.extras&&Array.isArray(meshDef.extras.targetNames)){var targetNames=meshDef.extras.targetNames;if(mesh.morphTargetInfluences.length===targetNames.length){mesh.morphTargetDictionary={};for(var i=0,il=targetNames.length;i<il;i++){mesh.morphTargetDictionary[targetNames[i]]=i;}}else{console.warn('THREE.GLTFLoader: Invalid extras.targetNames length. Ignoring names.');}}}\n",
       "function createPrimitiveKey(primitiveDef){var dracoExtension=primitiveDef.extensions&&primitiveDef.extensions[EXTENSIONS.KHR_DRACO_MESH_COMPRESSION];var geometryKey;if(dracoExtension){geometryKey='draco:'+dracoExtension.bufferView\n",
       "+':'+dracoExtension.indices\n",
       "+':'+createAttributesKey(dracoExtension.attributes);}else{geometryKey=primitiveDef.indices+':'+createAttributesKey(primitiveDef.attributes)+':'+primitiveDef.mode;}\n",
       "return geometryKey;}\n",
       "function createAttributesKey(attributes){var attributesKey='';var keys=Object.keys(attributes).sort();for(var i=0,il=keys.length;i<il;i++){attributesKey+=keys[i]+':'+attributes[keys[i]]+';';}\n",
       "return attributesKey;}\n",
       "function cloneBufferAttribute(attribute){if(attribute.isInterleavedBufferAttribute){var count=attribute.count;var itemSize=attribute.itemSize;var array=attribute.array.slice(0,count*itemSize);for(var i=0,j=0;i<count;++i){array[j++]=attribute.getX(i);if(itemSize>=2)array[j++]=attribute.getY(i);if(itemSize>=3)array[j++]=attribute.getZ(i);if(itemSize>=4)array[j++]=attribute.getW(i);}\n",
       "return new THREE.BufferAttribute(array,itemSize,attribute.normalized);}\n",
       "return attribute.clone();}\n",
       "function GLTFParser(json,extensions,options){this.json=json||{};this.extensions=extensions||{};this.options=options||{};this.cache=new GLTFRegistry();this.primitiveCache={};this.textureLoader=new THREE.TextureLoader(this.options.manager);this.textureLoader.setCrossOrigin(this.options.crossOrigin);this.fileLoader=new THREE.FileLoader(this.options.manager);this.fileLoader.setResponseType('arraybuffer');if(this.options.crossOrigin==='use-credentials'){this.fileLoader.setWithCredentials(true);}}\n",
       "GLTFParser.prototype.parse=function(onLoad,onError){var parser=this;var json=this.json;var extensions=this.extensions;this.cache.removeAll();this.markDefs();Promise.all([this.getDependencies('scene'),this.getDependencies('animation'),this.getDependencies('camera'),]).then(function(dependencies){var result={scene:dependencies[0][json.scene||0],scenes:dependencies[0],animations:dependencies[1],cameras:dependencies[2],asset:json.asset,parser:parser,userData:{}};addUnknownExtensionsToUserData(extensions,result,json);assignExtrasToUserData(result,json);onLoad(result);}).catch(onError);};GLTFParser.prototype.markDefs=function(){var nodeDefs=this.json.nodes||[];var skinDefs=this.json.skins||[];var meshDefs=this.json.meshes||[];var meshReferences={};var meshUses={};for(var skinIndex=0,skinLength=skinDefs.length;skinIndex<skinLength;skinIndex++){var joints=skinDefs[skinIndex].joints;for(var i=0,il=joints.length;i<il;i++){nodeDefs[joints[i]].isBone=true;}}\n",
       "for(var nodeIndex=0,nodeLength=nodeDefs.length;nodeIndex<nodeLength;nodeIndex++){var nodeDef=nodeDefs[nodeIndex];if(nodeDef.mesh!==undefined){if(meshReferences[nodeDef.mesh]===undefined){meshReferences[nodeDef.mesh]=meshUses[nodeDef.mesh]=0;}\n",
       "meshReferences[nodeDef.mesh]++;if(nodeDef.skin!==undefined){meshDefs[nodeDef.mesh].isSkinnedMesh=true;}}}\n",
       "this.json.meshReferences=meshReferences;this.json.meshUses=meshUses;};GLTFParser.prototype.getDependency=function(type,index){var cacheKey=type+':'+index;var dependency=this.cache.get(cacheKey);if(!dependency){switch(type){case'scene':dependency=this.loadScene(index);break;case'node':dependency=this.loadNode(index);break;case'mesh':dependency=this.loadMesh(index);break;case'accessor':dependency=this.loadAccessor(index);break;case'bufferView':dependency=this.loadBufferView(index);break;case'buffer':dependency=this.loadBuffer(index);break;case'material':dependency=this.loadMaterial(index);break;case'texture':dependency=this.loadTexture(index);break;case'skin':dependency=this.loadSkin(index);break;case'animation':dependency=this.loadAnimation(index);break;case'camera':dependency=this.loadCamera(index);break;case'light':dependency=this.extensions[EXTENSIONS.KHR_LIGHTS_PUNCTUAL].loadLight(index);break;default:throw new Error('Unknown type: '+type);}\n",
       "this.cache.add(cacheKey,dependency);}\n",
       "return dependency;};GLTFParser.prototype.getDependencies=function(type){var dependencies=this.cache.get(type);if(!dependencies){var parser=this;var defs=this.json[type+(type==='mesh'?'es':'s')]||[];dependencies=Promise.all(defs.map(function(def,index){return parser.getDependency(type,index);}));this.cache.add(type,dependencies);}\n",
       "return dependencies;};GLTFParser.prototype.loadBuffer=function(bufferIndex){var bufferDef=this.json.buffers[bufferIndex];var loader=this.fileLoader;if(bufferDef.type&&bufferDef.type!=='arraybuffer'){throw new Error('THREE.GLTFLoader: '+bufferDef.type+' buffer type is not supported.');}\n",
       "if(bufferDef.uri===undefined&&bufferIndex===0){return Promise.resolve(this.extensions[EXTENSIONS.KHR_BINARY_GLTF].body);}\n",
       "var options=this.options;return new Promise(function(resolve,reject){loader.load(resolveURL(bufferDef.uri,options.path),resolve,undefined,function(){reject(new Error('THREE.GLTFLoader: Failed to load buffer &quot;'+bufferDef.uri+'&quot;.'));});});};GLTFParser.prototype.loadBufferView=function(bufferViewIndex){var bufferViewDef=this.json.bufferViews[bufferViewIndex];return this.getDependency('buffer',bufferViewDef.buffer).then(function(buffer){var byteLength=bufferViewDef.byteLength||0;var byteOffset=bufferViewDef.byteOffset||0;return buffer.slice(byteOffset,byteOffset+byteLength);});};GLTFParser.prototype.loadAccessor=function(accessorIndex){var parser=this;var json=this.json;var accessorDef=this.json.accessors[accessorIndex];if(accessorDef.bufferView===undefined&&accessorDef.sparse===undefined){return Promise.resolve(null);}\n",
       "var pendingBufferViews=[];if(accessorDef.bufferView!==undefined){pendingBufferViews.push(this.getDependency('bufferView',accessorDef.bufferView));}else{pendingBufferViews.push(null);}\n",
       "if(accessorDef.sparse!==undefined){pendingBufferViews.push(this.getDependency('bufferView',accessorDef.sparse.indices.bufferView));pendingBufferViews.push(this.getDependency('bufferView',accessorDef.sparse.values.bufferView));}\n",
       "return Promise.all(pendingBufferViews).then(function(bufferViews){var bufferView=bufferViews[0];var itemSize=WEBGL_TYPE_SIZES[accessorDef.type];var TypedArray=WEBGL_COMPONENT_TYPES[accessorDef.componentType];var elementBytes=TypedArray.BYTES_PER_ELEMENT;var itemBytes=elementBytes*itemSize;var byteOffset=accessorDef.byteOffset||0;var byteStride=accessorDef.bufferView!==undefined?json.bufferViews[accessorDef.bufferView].byteStride:undefined;var normalized=accessorDef.normalized===true;var array,bufferAttribute;if(byteStride&&byteStride!==itemBytes){var ibCacheKey='InterleavedBuffer:'+accessorDef.bufferView+':'+accessorDef.componentType;var ib=parser.cache.get(ibCacheKey);if(!ib){array=new TypedArray(bufferView);ib=new THREE.InterleavedBuffer(array,byteStride/elementBytes);parser.cache.add(ibCacheKey,ib);}\n",
       "bufferAttribute=new THREE.InterleavedBufferAttribute(ib,itemSize,byteOffset/elementBytes,normalized);}else{if(bufferView===null){array=new TypedArray(accessorDef.count*itemSize);}else{array=new TypedArray(bufferView,byteOffset,accessorDef.count*itemSize);}\n",
       "bufferAttribute=new THREE.BufferAttribute(array,itemSize,normalized);}\n",
       "if(accessorDef.sparse!==undefined){var itemSizeIndices=WEBGL_TYPE_SIZES.SCALAR;var TypedArrayIndices=WEBGL_COMPONENT_TYPES[accessorDef.sparse.indices.componentType];var byteOffsetIndices=accessorDef.sparse.indices.byteOffset||0;var byteOffsetValues=accessorDef.sparse.values.byteOffset||0;var sparseIndices=new TypedArrayIndices(bufferViews[1],byteOffsetIndices,accessorDef.sparse.count*itemSizeIndices);var sparseValues=new TypedArray(bufferViews[2],byteOffsetValues,accessorDef.sparse.count*itemSize);if(bufferView!==null){bufferAttribute.setArray(bufferAttribute.array.slice());}\n",
       "for(var i=0,il=sparseIndices.length;i<il;i++){var index=sparseIndices[i];bufferAttribute.setX(index,sparseValues[i*itemSize]);if(itemSize>=2)bufferAttribute.setY(index,sparseValues[i*itemSize+1]);if(itemSize>=3)bufferAttribute.setZ(index,sparseValues[i*itemSize+2]);if(itemSize>=4)bufferAttribute.setW(index,sparseValues[i*itemSize+3]);if(itemSize>=5)throw new Error('THREE.GLTFLoader: Unsupported itemSize in sparse BufferAttribute.');}}\n",
       "return bufferAttribute;});};GLTFParser.prototype.loadTexture=function(textureIndex){var parser=this;var json=this.json;var options=this.options;var textureLoader=this.textureLoader;var URL=window.URL||window.webkitURL;var textureDef=json.textures[textureIndex];var textureExtensions=textureDef.extensions||{};var source;if(textureExtensions[EXTENSIONS.MSFT_TEXTURE_DDS]){source=json.images[textureExtensions[EXTENSIONS.MSFT_TEXTURE_DDS].source];}else{source=json.images[textureDef.source];}\n",
       "var sourceURI=source.uri;var isObjectURL=false;if(source.bufferView!==undefined){sourceURI=parser.getDependency('bufferView',source.bufferView).then(function(bufferView){isObjectURL=true;var blob=new Blob([bufferView],{type:source.mimeType});sourceURI=URL.createObjectURL(blob);return sourceURI;});}\n",
       "return Promise.resolve(sourceURI).then(function(sourceURI){var loader=THREE.Loader.Handlers.get(sourceURI);if(!loader){loader=textureExtensions[EXTENSIONS.MSFT_TEXTURE_DDS]?parser.extensions[EXTENSIONS.MSFT_TEXTURE_DDS].ddsLoader:textureLoader;}\n",
       "return new Promise(function(resolve,reject){loader.load(resolveURL(sourceURI,options.path),resolve,undefined,reject);});}).then(function(texture){if(isObjectURL===true){URL.revokeObjectURL(sourceURI);}\n",
       "texture.flipY=false;if(textureDef.name!==undefined)texture.name=textureDef.name;if(source.mimeType in MIME_TYPE_FORMATS){texture.format=MIME_TYPE_FORMATS[source.mimeType];}\n",
       "var samplers=json.samplers||{};var sampler=samplers[textureDef.sampler]||{};texture.magFilter=WEBGL_FILTERS[sampler.magFilter]||THREE.LinearFilter;texture.minFilter=WEBGL_FILTERS[sampler.minFilter]||THREE.LinearMipMapLinearFilter;texture.wrapS=WEBGL_WRAPPINGS[sampler.wrapS]||THREE.RepeatWrapping;texture.wrapT=WEBGL_WRAPPINGS[sampler.wrapT]||THREE.RepeatWrapping;return texture;});};GLTFParser.prototype.assignTexture=function(materialParams,mapName,mapDef){var parser=this;return this.getDependency('texture',mapDef.index).then(function(texture){if(!texture.isCompressedTexture){switch(mapName){case'aoMap':case'emissiveMap':case'metalnessMap':case'normalMap':case'roughnessMap':texture.format=THREE.RGBFormat;break;}}\n",
       "if(parser.extensions[EXTENSIONS.KHR_TEXTURE_TRANSFORM]){var transform=mapDef.extensions!==undefined?mapDef.extensions[EXTENSIONS.KHR_TEXTURE_TRANSFORM]:undefined;if(transform){texture=parser.extensions[EXTENSIONS.KHR_TEXTURE_TRANSFORM].extendTexture(texture,transform);}}\n",
       "materialParams[mapName]=texture;});};GLTFParser.prototype.assignFinalMaterial=function(mesh){var geometry=mesh.geometry;var material=mesh.material;var extensions=this.extensions;var useVertexTangents=geometry.attributes.tangent!==undefined;var useVertexColors=geometry.attributes.color!==undefined;var useFlatShading=geometry.attributes.normal===undefined;var useSkinning=mesh.isSkinnedMesh===true;var useMorphTargets=Object.keys(geometry.morphAttributes).length>0;var useMorphNormals=useMorphTargets&&geometry.morphAttributes.normal!==undefined;if(mesh.isPoints){var cacheKey='PointsMaterial:'+material.uuid;var pointsMaterial=this.cache.get(cacheKey);if(!pointsMaterial){pointsMaterial=new THREE.PointsMaterial();THREE.Material.prototype.copy.call(pointsMaterial,material);pointsMaterial.color.copy(material.color);pointsMaterial.map=material.map;pointsMaterial.lights=false;this.cache.add(cacheKey,pointsMaterial);}\n",
       "material=pointsMaterial;}else if(mesh.isLine){var cacheKey='LineBasicMaterial:'+material.uuid;var lineMaterial=this.cache.get(cacheKey);if(!lineMaterial){lineMaterial=new THREE.LineBasicMaterial();THREE.Material.prototype.copy.call(lineMaterial,material);lineMaterial.color.copy(material.color);lineMaterial.lights=false;this.cache.add(cacheKey,lineMaterial);}\n",
       "material=lineMaterial;}\n",
       "if(useVertexTangents||useVertexColors||useFlatShading||useSkinning||useMorphTargets){var cacheKey='ClonedMaterial:'+material.uuid+':';if(material.isGLTFSpecularGlossinessMaterial)cacheKey+='specular-glossiness:';if(useSkinning)cacheKey+='skinning:';if(useVertexTangents)cacheKey+='vertex-tangents:';if(useVertexColors)cacheKey+='vertex-colors:';if(useFlatShading)cacheKey+='flat-shading:';if(useMorphTargets)cacheKey+='morph-targets:';if(useMorphNormals)cacheKey+='morph-normals:';var cachedMaterial=this.cache.get(cacheKey);if(!cachedMaterial){cachedMaterial=material.isGLTFSpecularGlossinessMaterial?extensions[EXTENSIONS.KHR_MATERIALS_PBR_SPECULAR_GLOSSINESS].cloneMaterial(material):material.clone();if(useSkinning)cachedMaterial.skinning=true;if(useVertexTangents)cachedMaterial.vertexTangents=true;if(useVertexColors)cachedMaterial.vertexColors=THREE.VertexColors;if(useFlatShading)cachedMaterial.flatShading=true;if(useMorphTargets)cachedMaterial.morphTargets=true;if(useMorphNormals)cachedMaterial.morphNormals=true;this.cache.add(cacheKey,cachedMaterial);}\n",
       "material=cachedMaterial;}\n",
       "if(material.aoMap&&geometry.attributes.uv2===undefined&&geometry.attributes.uv!==undefined){console.log('THREE.GLTFLoader: Duplicating UVs to support aoMap.');geometry.addAttribute('uv2',new THREE.BufferAttribute(geometry.attributes.uv.array,2));}\n",
       "if(material.isGLTFSpecularGlossinessMaterial){mesh.onBeforeRender=extensions[EXTENSIONS.KHR_MATERIALS_PBR_SPECULAR_GLOSSINESS].refreshUniforms;}\n",
       "mesh.material=material;};GLTFParser.prototype.loadMaterial=function(materialIndex){var parser=this;var json=this.json;var extensions=this.extensions;var materialDef=json.materials[materialIndex];var materialType;var materialParams={};var materialExtensions=materialDef.extensions||{};var pending=[];if(materialExtensions[EXTENSIONS.KHR_MATERIALS_PBR_SPECULAR_GLOSSINESS]){var sgExtension=extensions[EXTENSIONS.KHR_MATERIALS_PBR_SPECULAR_GLOSSINESS];materialType=sgExtension.getMaterialType();pending.push(sgExtension.extendParams(materialParams,materialDef,parser));}else if(materialExtensions[EXTENSIONS.KHR_MATERIALS_UNLIT]){var kmuExtension=extensions[EXTENSIONS.KHR_MATERIALS_UNLIT];materialType=kmuExtension.getMaterialType();pending.push(kmuExtension.extendParams(materialParams,materialDef,parser));}else{materialType=THREE.MeshStandardMaterial;var metallicRoughness=materialDef.pbrMetallicRoughness||{};materialParams.color=new THREE.Color(1.0,1.0,1.0);materialParams.opacity=1.0;if(Array.isArray(metallicRoughness.baseColorFactor)){var array=metallicRoughness.baseColorFactor;materialParams.color.fromArray(array);materialParams.opacity=array[3];}\n",
       "if(metallicRoughness.baseColorTexture!==undefined){pending.push(parser.assignTexture(materialParams,'map',metallicRoughness.baseColorTexture));}\n",
       "materialParams.metalness=metallicRoughness.metallicFactor!==undefined?metallicRoughness.metallicFactor:1.0;materialParams.roughness=metallicRoughness.roughnessFactor!==undefined?metallicRoughness.roughnessFactor:1.0;if(metallicRoughness.metallicRoughnessTexture!==undefined){pending.push(parser.assignTexture(materialParams,'metalnessMap',metallicRoughness.metallicRoughnessTexture));pending.push(parser.assignTexture(materialParams,'roughnessMap',metallicRoughness.metallicRoughnessTexture));}}\n",
       "if(materialDef.doubleSided===true){materialParams.side=THREE.DoubleSide;}\n",
       "var alphaMode=materialDef.alphaMode||ALPHA_MODES.OPAQUE;if(alphaMode===ALPHA_MODES.BLEND){materialParams.transparent=true;}else{materialParams.transparent=false;if(alphaMode===ALPHA_MODES.MASK){materialParams.alphaTest=materialDef.alphaCutoff!==undefined?materialDef.alphaCutoff:0.5;}}\n",
       "if(materialDef.normalTexture!==undefined&&materialType!==THREE.MeshBasicMaterial){pending.push(parser.assignTexture(materialParams,'normalMap',materialDef.normalTexture));materialParams.normalScale=new THREE.Vector2(1,1);if(materialDef.normalTexture.scale!==undefined){materialParams.normalScale.set(materialDef.normalTexture.scale,materialDef.normalTexture.scale);}}\n",
       "if(materialDef.occlusionTexture!==undefined&&materialType!==THREE.MeshBasicMaterial){pending.push(parser.assignTexture(materialParams,'aoMap',materialDef.occlusionTexture));if(materialDef.occlusionTexture.strength!==undefined){materialParams.aoMapIntensity=materialDef.occlusionTexture.strength;}}\n",
       "if(materialDef.emissiveFactor!==undefined&&materialType!==THREE.MeshBasicMaterial){materialParams.emissive=new THREE.Color().fromArray(materialDef.emissiveFactor);}\n",
       "if(materialDef.emissiveTexture!==undefined&&materialType!==THREE.MeshBasicMaterial){pending.push(parser.assignTexture(materialParams,'emissiveMap',materialDef.emissiveTexture));}\n",
       "return Promise.all(pending).then(function(){var material;if(materialType===THREE.ShaderMaterial){material=extensions[EXTENSIONS.KHR_MATERIALS_PBR_SPECULAR_GLOSSINESS].createMaterial(materialParams);}else{material=new materialType(materialParams);}\n",
       "if(materialDef.name!==undefined)material.name=materialDef.name;if(material.map)material.map.encoding=THREE.sRGBEncoding;if(material.emissiveMap)material.emissiveMap.encoding=THREE.sRGBEncoding;if(material.specularMap)material.specularMap.encoding=THREE.sRGBEncoding;assignExtrasToUserData(material,materialDef);if(materialDef.extensions)addUnknownExtensionsToUserData(extensions,material,materialDef);return material;});};function addPrimitiveAttributes(geometry,primitiveDef,parser){var attributes=primitiveDef.attributes;var pending=[];function assignAttributeAccessor(accessorIndex,attributeName){return parser.getDependency('accessor',accessorIndex).then(function(accessor){geometry.addAttribute(attributeName,accessor);});}\n",
       "for(var gltfAttributeName in attributes){var threeAttributeName=ATTRIBUTES[gltfAttributeName]||gltfAttributeName.toLowerCase();if(threeAttributeName in geometry.attributes)continue;pending.push(assignAttributeAccessor(attributes[gltfAttributeName],threeAttributeName));}\n",
       "if(primitiveDef.indices!==undefined&&!geometry.index){var accessor=parser.getDependency('accessor',primitiveDef.indices).then(function(accessor){geometry.setIndex(accessor);});pending.push(accessor);}\n",
       "assignExtrasToUserData(geometry,primitiveDef);return Promise.all(pending).then(function(){return primitiveDef.targets!==undefined?addMorphTargets(geometry,primitiveDef.targets,parser):geometry;});}\n",
       "GLTFParser.prototype.loadGeometries=function(primitives){var parser=this;var extensions=this.extensions;var cache=this.primitiveCache;function createDracoPrimitive(primitive){return extensions[EXTENSIONS.KHR_DRACO_MESH_COMPRESSION].decodePrimitive(primitive,parser).then(function(geometry){return addPrimitiveAttributes(geometry,primitive,parser);});}\n",
       "var pending=[];for(var i=0,il=primitives.length;i<il;i++){var primitive=primitives[i];var cacheKey=createPrimitiveKey(primitive);var cached=cache[cacheKey];if(cached){pending.push(cached.promise);}else{var geometryPromise;if(primitive.extensions&&primitive.extensions[EXTENSIONS.KHR_DRACO_MESH_COMPRESSION]){geometryPromise=createDracoPrimitive(primitive);}else{geometryPromise=addPrimitiveAttributes(new THREE.BufferGeometry(),primitive,parser);}\n",
       "cache[cacheKey]={primitive:primitive,promise:geometryPromise};pending.push(geometryPromise);}}\n",
       "return Promise.all(pending);};GLTFParser.prototype.loadMesh=function(meshIndex){var parser=this;var json=this.json;var meshDef=json.meshes[meshIndex];var primitives=meshDef.primitives;var pending=[];for(var i=0,il=primitives.length;i<il;i++){var material=primitives[i].material===undefined?createDefaultMaterial():this.getDependency('material',primitives[i].material);pending.push(material);}\n",
       "return Promise.all(pending).then(function(originalMaterials){return parser.loadGeometries(primitives).then(function(geometries){var meshes=[];for(var i=0,il=geometries.length;i<il;i++){var geometry=geometries[i];var primitive=primitives[i];var mesh;var material=originalMaterials[i];if(primitive.mode===WEBGL_CONSTANTS.TRIANGLES||primitive.mode===WEBGL_CONSTANTS.TRIANGLE_STRIP||primitive.mode===WEBGL_CONSTANTS.TRIANGLE_FAN||primitive.mode===undefined){mesh=meshDef.isSkinnedMesh===true?new THREE.SkinnedMesh(geometry,material):new THREE.Mesh(geometry,material);if(mesh.isSkinnedMesh===true&&!mesh.geometry.attributes.skinWeight.normalized){mesh.normalizeSkinWeights();}\n",
       "if(primitive.mode===WEBGL_CONSTANTS.TRIANGLE_STRIP){mesh.drawMode=THREE.TriangleStripDrawMode;}else if(primitive.mode===WEBGL_CONSTANTS.TRIANGLE_FAN){mesh.drawMode=THREE.TriangleFanDrawMode;}}else if(primitive.mode===WEBGL_CONSTANTS.LINES){mesh=new THREE.LineSegments(geometry,material);}else if(primitive.mode===WEBGL_CONSTANTS.LINE_STRIP){mesh=new THREE.Line(geometry,material);}else if(primitive.mode===WEBGL_CONSTANTS.LINE_LOOP){mesh=new THREE.LineLoop(geometry,material);}else if(primitive.mode===WEBGL_CONSTANTS.POINTS){mesh=new THREE.Points(geometry,material);}else{throw new Error('THREE.GLTFLoader: Primitive mode unsupported: '+primitive.mode);}\n",
       "if(Object.keys(mesh.geometry.morphAttributes).length>0){updateMorphTargets(mesh,meshDef);}\n",
       "mesh.name=meshDef.name||('mesh_'+meshIndex);if(geometries.length>1)mesh.name+='_'+i;assignExtrasToUserData(mesh,meshDef);parser.assignFinalMaterial(mesh);meshes.push(mesh);}\n",
       "if(meshes.length===1){return meshes[0];}\n",
       "var group=new THREE.Group();for(var i=0,il=meshes.length;i<il;i++){group.add(meshes[i]);}\n",
       "return group;});});};GLTFParser.prototype.loadCamera=function(cameraIndex){var camera;var cameraDef=this.json.cameras[cameraIndex];var params=cameraDef[cameraDef.type];if(!params){console.warn('THREE.GLTFLoader: Missing camera parameters.');return;}\n",
       "if(cameraDef.type==='perspective'){camera=new THREE.PerspectiveCamera(THREE.Math.radToDeg(params.yfov),params.aspectRatio||1,params.znear||1,params.zfar||2e6);}else if(cameraDef.type==='orthographic'){camera=new THREE.OrthographicCamera(params.xmag/-2,params.xmag/2,params.ymag/2,params.ymag/-2,params.znear,params.zfar);}\n",
       "if(cameraDef.name!==undefined)camera.name=cameraDef.name;assignExtrasToUserData(camera,cameraDef);return Promise.resolve(camera);};GLTFParser.prototype.loadSkin=function(skinIndex){var skinDef=this.json.skins[skinIndex];var skinEntry={joints:skinDef.joints};if(skinDef.inverseBindMatrices===undefined){return Promise.resolve(skinEntry);}\n",
       "return this.getDependency('accessor',skinDef.inverseBindMatrices).then(function(accessor){skinEntry.inverseBindMatrices=accessor;return skinEntry;});};GLTFParser.prototype.loadAnimation=function(animationIndex){var json=this.json;var animationDef=json.animations[animationIndex];var pendingNodes=[];var pendingInputAccessors=[];var pendingOutputAccessors=[];var pendingSamplers=[];var pendingTargets=[];for(var i=0,il=animationDef.channels.length;i<il;i++){var channel=animationDef.channels[i];var sampler=animationDef.samplers[channel.sampler];var target=channel.target;var name=target.node!==undefined?target.node:target.id;var input=animationDef.parameters!==undefined?animationDef.parameters[sampler.input]:sampler.input;var output=animationDef.parameters!==undefined?animationDef.parameters[sampler.output]:sampler.output;pendingNodes.push(this.getDependency('node',name));pendingInputAccessors.push(this.getDependency('accessor',input));pendingOutputAccessors.push(this.getDependency('accessor',output));pendingSamplers.push(sampler);pendingTargets.push(target);}\n",
       "return Promise.all([Promise.all(pendingNodes),Promise.all(pendingInputAccessors),Promise.all(pendingOutputAccessors),Promise.all(pendingSamplers),Promise.all(pendingTargets)]).then(function(dependencies){var nodes=dependencies[0];var inputAccessors=dependencies[1];var outputAccessors=dependencies[2];var samplers=dependencies[3];var targets=dependencies[4];var tracks=[];for(var i=0,il=nodes.length;i<il;i++){var node=nodes[i];var inputAccessor=inputAccessors[i];var outputAccessor=outputAccessors[i];var sampler=samplers[i];var target=targets[i];if(node===undefined)continue;node.updateMatrix();node.matrixAutoUpdate=true;var TypedKeyframeTrack;switch(PATH_PROPERTIES[target.path]){case PATH_PROPERTIES.weights:TypedKeyframeTrack=THREE.NumberKeyframeTrack;break;case PATH_PROPERTIES.rotation:TypedKeyframeTrack=THREE.QuaternionKeyframeTrack;break;case PATH_PROPERTIES.position:case PATH_PROPERTIES.scale:default:TypedKeyframeTrack=THREE.VectorKeyframeTrack;break;}\n",
       "var targetName=node.name?node.name:node.uuid;var interpolation=sampler.interpolation!==undefined?INTERPOLATION[sampler.interpolation]:THREE.InterpolateLinear;var targetNames=[];if(PATH_PROPERTIES[target.path]===PATH_PROPERTIES.weights){node.traverse(function(object){if(object.isMesh===true&&object.morphTargetInfluences){targetNames.push(object.name?object.name:object.uuid);}});}else{targetNames.push(targetName);}\n",
       "var outputArray=outputAccessor.array;if(outputAccessor.normalized){var scale;if(outputArray.constructor===Int8Array){scale=1/127;}else if(outputArray.constructor===Uint8Array){scale=1/255;}else if(outputArray.constructor==Int16Array){scale=1/32767;}else if(outputArray.constructor===Uint16Array){scale=1/65535;}else{throw new Error('THREE.GLTFLoader: Unsupported output accessor component type.');}\n",
       "var scaled=new Float32Array(outputArray.length);for(var j=0,jl=outputArray.length;j<jl;j++){scaled[j]=outputArray[j]*scale;}\n",
       "outputArray=scaled;}\n",
       "for(var j=0,jl=targetNames.length;j<jl;j++){var track=new TypedKeyframeTrack(targetNames[j]+'.'+PATH_PROPERTIES[target.path],inputAccessor.array,outputArray,interpolation);if(sampler.interpolation==='CUBICSPLINE'){track.createInterpolant=function InterpolantFactoryMethodGLTFCubicSpline(result){return new GLTFCubicSplineInterpolant(this.times,this.values,this.getValueSize()/3,result);};track.createInterpolant.isInterpolantFactoryMethodGLTFCubicSpline=true;}\n",
       "tracks.push(track);}}\n",
       "var name=animationDef.name!==undefined?animationDef.name:'animation_'+animationIndex;return new THREE.AnimationClip(name,undefined,tracks);});};GLTFParser.prototype.loadNode=function(nodeIndex){var json=this.json;var extensions=this.extensions;var parser=this;var meshReferences=json.meshReferences;var meshUses=json.meshUses;var nodeDef=json.nodes[nodeIndex];return(function(){if(nodeDef.isBone===true){return Promise.resolve(new THREE.Bone());}else if(nodeDef.mesh!==undefined){return parser.getDependency('mesh',nodeDef.mesh).then(function(mesh){var node;if(meshReferences[nodeDef.mesh]>1){var instanceNum=meshUses[nodeDef.mesh]++;node=mesh.clone();node.name+='_instance_'+instanceNum;node.onBeforeRender=mesh.onBeforeRender;for(var i=0,il=node.children.length;i<il;i++){node.children[i].name+='_instance_'+instanceNum;node.children[i].onBeforeRender=mesh.children[i].onBeforeRender;}}else{node=mesh;}\n",
       "if(nodeDef.weights!==undefined){node.traverse(function(o){if(!o.isMesh)return;for(var i=0,il=nodeDef.weights.length;i<il;i++){o.morphTargetInfluences[i]=nodeDef.weights[i];}});}\n",
       "return node;});}else if(nodeDef.camera!==undefined){return parser.getDependency('camera',nodeDef.camera);}else if(nodeDef.extensions&&nodeDef.extensions[EXTENSIONS.KHR_LIGHTS_PUNCTUAL]&&nodeDef.extensions[EXTENSIONS.KHR_LIGHTS_PUNCTUAL].light!==undefined){return parser.getDependency('light',nodeDef.extensions[EXTENSIONS.KHR_LIGHTS_PUNCTUAL].light);}else{return Promise.resolve(new THREE.Object3D());}}()).then(function(node){if(nodeDef.name!==undefined){node.userData.name=nodeDef.name;node.name=THREE.PropertyBinding.sanitizeNodeName(nodeDef.name);}\n",
       "assignExtrasToUserData(node,nodeDef);if(nodeDef.extensions)addUnknownExtensionsToUserData(extensions,node,nodeDef);if(nodeDef.matrix!==undefined){var matrix=new THREE.Matrix4();matrix.fromArray(nodeDef.matrix);node.applyMatrix(matrix);}else{if(nodeDef.translation!==undefined){node.position.fromArray(nodeDef.translation);}\n",
       "if(nodeDef.rotation!==undefined){node.quaternion.fromArray(nodeDef.rotation);}\n",
       "if(nodeDef.scale!==undefined){node.scale.fromArray(nodeDef.scale);}}\n",
       "return node;});};GLTFParser.prototype.loadScene=function(){function buildNodeHierachy(nodeId,parentObject,json,parser){var nodeDef=json.nodes[nodeId];return parser.getDependency('node',nodeId).then(function(node){if(nodeDef.skin===undefined)return node;var skinEntry;return parser.getDependency('skin',nodeDef.skin).then(function(skin){skinEntry=skin;var pendingJoints=[];for(var i=0,il=skinEntry.joints.length;i<il;i++){pendingJoints.push(parser.getDependency('node',skinEntry.joints[i]));}\n",
       "return Promise.all(pendingJoints);}).then(function(jointNodes){var meshes=node.isGroup===true?node.children:[node];for(var i=0,il=meshes.length;i<il;i++){var mesh=meshes[i];var bones=[];var boneInverses=[];for(var j=0,jl=jointNodes.length;j<jl;j++){var jointNode=jointNodes[j];if(jointNode){bones.push(jointNode);var mat=new THREE.Matrix4();if(skinEntry.inverseBindMatrices!==undefined){mat.fromArray(skinEntry.inverseBindMatrices.array,j*16);}\n",
       "boneInverses.push(mat);}else{console.warn('THREE.GLTFLoader: Joint &quot;%s&quot; could not be found.',skinEntry.joints[j]);}}\n",
       "mesh.bind(new THREE.Skeleton(bones,boneInverses),mesh.matrixWorld);}\n",
       "return node;});}).then(function(node){parentObject.add(node);var pending=[];if(nodeDef.children){var children=nodeDef.children;for(var i=0,il=children.length;i<il;i++){var child=children[i];pending.push(buildNodeHierachy(child,node,json,parser));}}\n",
       "return Promise.all(pending);});}\n",
       "return function loadScene(sceneIndex){var json=this.json;var extensions=this.extensions;var sceneDef=this.json.scenes[sceneIndex];var parser=this;var scene=new THREE.Scene();if(sceneDef.name!==undefined)scene.name=sceneDef.name;assignExtrasToUserData(scene,sceneDef);if(sceneDef.extensions)addUnknownExtensionsToUserData(extensions,scene,sceneDef);var nodeIds=sceneDef.nodes||[];var pending=[];for(var i=0,il=nodeIds.length;i<il;i++){pending.push(buildNodeHierachy(nodeIds[i],scene,json,parser));}\n",
       "return Promise.all(pending).then(function(){return scene;});};}();return GLTFLoader;})();var camera,controls,scene,renderer,tracklight;function autoFit(obj,camera,controls){const boundingBox=new THREE.Box3().setFromObject(obj);const boundingSphere=new THREE.Sphere();boundingBox.getBoundingSphere((target=boundingSphere));const scale=1.0;const angularSize=((camera.fov*Math.PI)/180)*scale;const distanceToCamera=boundingSphere.radius/Math.tan(angularSize);const len=Math.sqrt(Math.pow(distanceToCamera,2)+\n",
       "Math.pow(distanceToCamera,2)+\n",
       "Math.pow(distanceToCamera,2));camera.position.set(len,len,len);controls.update();camera.lookAt(boundingSphere.center);controls.target.set(boundingSphere.center.x,boundingSphere.center.y,boundingSphere.center.z);camera.updateProjectionMatrix();}\n",
       "function centerControls(obj,camera,controls){const boundingBox=new THREE.Box3().setFromObject(obj);const boundingSphere=new THREE.Sphere();boundingBox.getBoundingSphere((target=boundingSphere));controls.update();controls.target.set(boundingSphere.center.x,boundingSphere.center.y,boundingSphere.center.z);}\n",
       "function init(){scene=new THREE.Scene();scene.background=new THREE.Color(0xffffff);tracklight=new THREE.DirectionalLight(0xffffff,1.75);scene.add(tracklight);base64_data=&quot;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&quot;;;renderer=new THREE.WebGLRenderer({antialias:true});renderer.setPixelRatio(window.devicePixelRatio);renderer.setSize(window.innerWidth,window.innerHeight);document.body.appendChild(renderer.domElement);loader=new THREE.GLTFLoader();loader.load(&quot;data:text/plain;base64,&quot;+base64_data,function(gltf){scene.add(gltf.scene);camera=gltf.cameras[0];controls=new THREE.TrackballControls(camera);controls.rotateSpeed=1.0;controls.zoomSpeed=1.2;controls.panSpeed=0.8;controls.noZoom=false;controls.noPan=false;controls.staticMoving=true;controls.dynamicDampingFactor=0.3;controls.keys=[65,83,68];controls.addEventListener(&quot;change&quot;,render);centerControls(scene,camera,controls);render();window.addEventListener(&quot;resize&quot;,onWindowResize,false);animate();onWindowResize();});}\n",
       "function onWindowResize(){camera.aspect=window.innerWidth/window.innerHeight;camera.updateProjectionMatrix();renderer.setSize(window.innerWidth,window.innerHeight);controls.handleResize();render();}\n",
       "function animate(){requestAnimationFrame(animate);controls.update();}\n",
       "function render(){tracklight.position.copy(camera.position);renderer.render(scene,camera);}\n",
       "init();</script></body>\n",
       "</html>\" width=\"100%\" height=\"500px\" style=\"border:none;\"></iframe> "
      ],
      "text/plain": [
       "<IPython.core.display.HTML object>"
      ]
     },
     "execution_count": 8,
     "metadata": {},
     "output_type": "execute_result"
    }
   ],
   "source": [
    "total_soma = tu.combine_meshes(soma_mesh_list)\n",
    "total_soma.show()"
   ]
  },
  {
   "cell_type": "code",
   "execution_count": 9,
   "metadata": {},
   "outputs": [
    {
     "name": "stdout",
     "output_type": "stream",
     "text": [
      "Soma List = [<trimesh.Trimesh(vertices.shape=(3177, 3), faces.shape=(6235, 3))>, <trimesh.Trimesh(vertices.shape=(2138, 3), faces.shape=(4236, 3))>]\n",
      "soma_mesh_list_centers = [array([756915.02275732, 958987.26197671, 874182.12348127]), array([864025.20827876, 994593.71529467, 859608.41014967])]\n"
     ]
    }
   ],
   "source": [
    "if len(soma_mesh_list) <= 0:\n",
    "    print(f\"**** No Somas Found for Mesh {segment_id} so just one mesh\")\n",
    "    soma_mesh_list_centers = []\n",
    "else:\n",
    "    #compute the soma centers\n",
    "    print(f\"Soma List = {soma_mesh_list}\")\n",
    "\n",
    "    soma_mesh_list_centers = sm.find_soma_centroids(soma_mesh_list)\n",
    "    print(f\"soma_mesh_list_centers = {soma_mesh_list_centers}\")"
   ]
  },
  {
   "cell_type": "markdown",
   "metadata": {},
   "source": [
    "# getting the soma submeshes that are connected to each soma and identifiying those that aren't (and eliminating any mesh pieces inside the soma)"
   ]
  },
  {
   "cell_type": "code",
   "execution_count": 10,
   "metadata": {},
   "outputs": [],
   "source": [
    "main_mesh_total = current_neuron\n",
    "sig_th_initial_split=15"
   ]
  },
  {
   "cell_type": "code",
   "execution_count": 11,
   "metadata": {},
   "outputs": [
    {
     "data": {
      "text/plain": [
       "{0: 0, 1: 0}"
      ]
     },
     "execution_count": 11,
     "metadata": {},
     "output_type": "execute_result"
    }
   ],
   "source": [
    "#splitting the current neuron into distinct pieces\n",
    "split_meshes = tu.split_significant_pieces(\n",
    "                            main_mesh_total,\n",
    "                            significance_threshold=sig_th_initial_split,\n",
    "                            print_flag=False)\n",
    "\n",
    "\n",
    "\n",
    "#returns the index of the split_meshes index that contains each soma    \n",
    "containing_mesh_indices = sm.find_soma_centroid_containing_meshes(soma_mesh_list_centers,\n",
    "                                        split_meshes)\n",
    "\n",
    "containing_mesh_indices"
   ]
  },
  {
   "cell_type": "code",
   "execution_count": 13,
   "metadata": {
    "collapsed": true,
    "jupyter": {
     "outputs_hidden": true
    }
   },
   "outputs": [
    {
     "name": "stdout",
     "output_type": "stream",
     "text": [
      "There were 78 pieces found after size threshold\n",
      "Mesh piece 0 OUTSIDE all meshes (corrected)\n",
      "Mesh piece 1 inside mesh 0 :( \n",
      "Mesh piece 2 inside mesh 1 :( \n",
      "Mesh piece 3 inside mesh 1 :( \n",
      "Mesh piece 4 OUTSIDE all meshes (corrected)\n",
      "Mesh piece 5 inside mesh 0 :( \n",
      "Mesh piece 6 inside mesh 0 :( \n",
      "Mesh piece 7 inside mesh 0 :( \n",
      "Mesh piece 8 OUTSIDE all meshes (corrected)\n",
      "Mesh piece 9 OUTSIDE all meshes (corrected)\n",
      "Mesh piece 10 inside mesh 0 :( \n",
      "Mesh piece 11 inside mesh 0 :( \n",
      "Mesh piece 12 inside mesh 0 :( \n",
      "Mesh piece 13 inside mesh 0 :( \n",
      "Mesh piece 14 OUTSIDE all meshes (corrected)\n",
      "Mesh piece 15 OUTSIDE all meshes (corrected)\n",
      "Mesh piece 16 inside mesh 1 :( \n",
      "Mesh piece 17 inside mesh 0 :( \n",
      "Mesh piece 18 inside mesh 1 :( \n",
      "Mesh piece 19 OUTSIDE all meshes (corrected)\n",
      "Mesh piece 20 inside mesh 0 :( \n",
      "Mesh piece 21 OUTSIDE all meshes (corrected)\n",
      "Mesh piece 22 OUTSIDE all meshes (corrected)\n",
      "Mesh piece 23 OUTSIDE all meshes (corrected)\n",
      "Mesh piece 24 inside mesh 0 :( \n",
      "Mesh piece 25 OUTSIDE all meshes (corrected)\n",
      "Mesh piece 26 OUTSIDE all meshes (corrected)\n",
      "Mesh piece 27 OUTSIDE all meshes (corrected)\n",
      "Mesh piece 28 inside mesh 1 :( \n",
      "Mesh piece 29 OUTSIDE all meshes (corrected)\n",
      "Mesh piece 30 OUTSIDE all meshes (corrected)\n",
      "Mesh piece 31 OUTSIDE all meshes (corrected)\n",
      "Mesh piece 32 inside mesh 1 :( \n",
      "Mesh piece 33 inside mesh 0 :( \n",
      "Mesh piece 34 inside mesh 0 :( \n",
      "Mesh piece 35 inside mesh 0 :( \n",
      "Mesh piece 36 OUTSIDE all meshes (corrected)\n",
      "Mesh piece 37 inside mesh 1 :( \n",
      "Mesh piece 38 inside mesh 0 :( \n",
      "Mesh piece 39 OUTSIDE all meshes (corrected)\n",
      "Mesh piece 40 OUTSIDE all meshes (corrected)\n",
      "Mesh piece 41 OUTSIDE all meshes (corrected)\n",
      "Mesh piece 42 inside mesh 0 :( \n",
      "Mesh piece 43 inside mesh 0 :( \n",
      "Mesh piece 44 OUTSIDE all meshes (corrected)\n",
      "Mesh piece 45 inside mesh 1 :( \n",
      "Mesh piece 46 OUTSIDE all meshes (corrected)\n",
      "Mesh piece 47 OUTSIDE all meshes (corrected)\n",
      "Mesh piece 48 OUTSIDE all meshes (corrected)\n",
      "Mesh piece 49 OUTSIDE all meshes (corrected)\n",
      "Mesh piece 50 OUTSIDE all meshes (corrected)\n",
      "Mesh piece 51 OUTSIDE all meshes (corrected)\n",
      "Mesh piece 52 inside mesh 0 :( \n",
      "Mesh piece 53 OUTSIDE all meshes (corrected)\n",
      "Mesh piece 54 OUTSIDE all meshes (corrected)\n",
      "Mesh piece 55 inside mesh 1 :( \n",
      "Mesh piece 56 inside mesh 1 :( \n",
      "Mesh piece 57 OUTSIDE all meshes (corrected)\n",
      "Mesh piece 58 OUTSIDE all meshes (corrected)\n",
      "Mesh piece 59 OUTSIDE all meshes (corrected)\n",
      "Mesh piece 60 inside mesh 0 :( \n",
      "Mesh piece 61 OUTSIDE all meshes (corrected)\n",
      "Mesh piece 62 OUTSIDE all meshes (corrected)\n",
      "Mesh piece 63 OUTSIDE all meshes (corrected)\n",
      "Mesh piece 64 inside mesh 1 :( \n",
      "Mesh piece 65 inside mesh 1 :( \n",
      "Mesh piece 66 OUTSIDE all meshes (corrected)\n",
      "Mesh piece 67 OUTSIDE all meshes (corrected)\n",
      "Mesh piece 68 OUTSIDE all meshes (corrected)\n",
      "Mesh piece 69 inside mesh 1 :( \n",
      "Mesh piece 70 OUTSIDE all meshes (corrected)\n",
      "Mesh piece 71 inside mesh 0 :( \n",
      "Mesh piece 72 inside mesh 0 :( \n",
      "Mesh piece 73 OUTSIDE all meshes (corrected)\n",
      "Mesh piece 74 OUTSIDE all meshes (corrected)\n",
      "Mesh piece 75 OUTSIDE all meshes (corrected)\n",
      "Mesh piece 76 OUTSIDE all meshes (corrected)\n",
      "Mesh piece 77 OUTSIDE all meshes (corrected)\n",
      "# of non soma touching seperate meshes = 44\n",
      "# of soma containing seperate meshes = 1\n",
      "meshes with somas = {0: [0, 1]}\n"
     ]
    }
   ],
   "source": [
    "# filtering away any of the inside floating pieces: \n",
    "non_soma_touching_meshes = [m for i,m in enumerate(split_meshes)\n",
    "                 if i not in list(containing_mesh_indices.values())]\n",
    "\n",
    "\n",
    "#Adding the step that will filter away any pieces that are inside the soma\n",
    "if len(non_soma_touching_meshes) > 0 and len(soma_mesh_list) > 0:\n",
    "    non_soma_touching_meshes = sm.filter_away_inside_soma_pieces(soma_mesh_list,non_soma_touching_meshes,\n",
    "                                    significance_threshold=sig_th_initial_split)                                                      \n",
    "\n",
    "\n",
    "split_meshes # the meshes of the original mesh\n",
    "containing_mesh_indices #the mapping of each soma centroid to the correct split mesh\n",
    "soma_containing_meshes = sm.grouping_containing_mesh_indices(containing_mesh_indices)\n",
    "\n",
    "soma_touching_meshes = [split_meshes[k] for k in soma_containing_meshes.keys()]\n",
    "\n",
    "    \n",
    "print(f\"# of non soma touching seperate meshes = {len(non_soma_touching_meshes)}\")\n",
    "print(f\"# of soma containing seperate meshes = {len(soma_touching_meshes)}\")\n",
    "print(f\"meshes with somas = {soma_containing_meshes}\")"
   ]
  },
  {
   "cell_type": "markdown",
   "metadata": {},
   "source": [
    "# Getting the original soma faces and the original non-soma faces of original pieces"
   ]
  },
  {
   "cell_type": "code",
   "execution_count": 257,
   "metadata": {},
   "outputs": [
    {
     "name": "stdout",
     "output_type": "stream",
     "text": [
      "\n",
      "\n",
      "----Working on soma-containing mesh piece 0----\n",
      "\n",
      "inside Soma subtraction\n",
      "mesh pieces in subtact soma BEFORE the filtering inside pieces = [<trimesh.Trimesh(vertices.shape=(153651, 3), faces.shape=(308343, 3))>, <trimesh.Trimesh(vertices.shape=(87663, 3), faces.shape=(176175, 3))>, <trimesh.Trimesh(vertices.shape=(56972, 3), faces.shape=(114671, 3))>, <trimesh.Trimesh(vertices.shape=(54953, 3), faces.shape=(110120, 3))>, <trimesh.Trimesh(vertices.shape=(53735, 3), faces.shape=(107788, 3))>, <trimesh.Trimesh(vertices.shape=(51875, 3), faces.shape=(104099, 3))>, <trimesh.Trimesh(vertices.shape=(29324, 3), faces.shape=(58779, 3))>, <trimesh.Trimesh(vertices.shape=(29151, 3), faces.shape=(58543, 3))>, <trimesh.Trimesh(vertices.shape=(14725, 3), faces.shape=(29598, 3))>, <trimesh.Trimesh(vertices.shape=(3865, 3), faces.shape=(7718, 3))>, <trimesh.Trimesh(vertices.shape=(1159, 3), faces.shape=(2282, 3))>]\n",
      "There were 11 pieces found after size threshold\n",
      "Mesh piece 0 OUTSIDE all meshes (corrected)\n",
      "Mesh piece 1 OUTSIDE all meshes (corrected)\n",
      "Mesh piece 2 OUTSIDE all meshes (corrected)\n",
      "Mesh piece 3 OUTSIDE all meshes (corrected)\n",
      "Mesh piece 4 OUTSIDE all meshes (corrected)\n",
      "Mesh piece 5 OUTSIDE all meshes (corrected)\n",
      "Mesh piece 6 OUTSIDE all meshes (corrected)\n",
      "Mesh piece 7 OUTSIDE all meshes (corrected)\n",
      "Mesh piece 8 OUTSIDE all meshes (corrected)\n",
      "Mesh piece 9 OUTSIDE all meshes (corrected)\n",
      "Mesh piece 10 OUTSIDE all meshes (corrected)\n",
      "mesh pieces in subtact soma AFTER the filtering inside pieces = [<trimesh.Trimesh(vertices.shape=(153651, 3), faces.shape=(308343, 3))>, <trimesh.Trimesh(vertices.shape=(87663, 3), faces.shape=(176175, 3))>, <trimesh.Trimesh(vertices.shape=(56972, 3), faces.shape=(114671, 3))>, <trimesh.Trimesh(vertices.shape=(54953, 3), faces.shape=(110120, 3))>, <trimesh.Trimesh(vertices.shape=(53735, 3), faces.shape=(107788, 3))>, <trimesh.Trimesh(vertices.shape=(51875, 3), faces.shape=(104099, 3))>, <trimesh.Trimesh(vertices.shape=(29324, 3), faces.shape=(58779, 3))>, <trimesh.Trimesh(vertices.shape=(29151, 3), faces.shape=(58543, 3))>, <trimesh.Trimesh(vertices.shape=(14725, 3), faces.shape=(29598, 3))>, <trimesh.Trimesh(vertices.shape=(3865, 3), faces.shape=(7718, 3))>, <trimesh.Trimesh(vertices.shape=(1159, 3), faces.shape=(2282, 3))>]\n",
      "Total Time for soma mesh cancellation = 2.124\n",
      "Total time for mesh mapping: 0.4517509937286377\n",
      "Total time for mesh mapping: 0.41617894172668457\n",
      "Total time for mesh mapping: 0.457547664642334\n",
      "Total time for mesh mapping: 0.45789289474487305\n",
      "Total time for mesh mapping: 0.41153931617736816\n",
      "Total time for mesh mapping: 0.38585877418518066\n",
      "Total time for mesh mapping: 0.22945547103881836\n",
      "Total time for mesh mapping: 0.39401698112487793\n",
      "Total time for mesh mapping: 0.4366183280944824\n",
      "Total time for mesh mapping: 0.4159700870513916\n",
      "Total time for mesh mapping: 0.3345823287963867\n",
      "Total time for mesh mapping: 0.4275486469268799\n",
      "Total time for mesh mapping: 0.2057194709777832\n",
      "Total time for mesh mapping: 0.2494494915008545\n",
      "Total time for mesh mapping: 0.6684918403625488\n",
      "Total time for mesh mapping: 0.41052865982055664\n",
      "Total time for mesh mapping: 0.38599228858947754\n",
      "Total time for mesh mapping: 0.3662910461425781\n",
      "Total time for mesh mapping: 0.2056748867034912\n",
      "Total time for mesh mapping: 0.37839412689208984\n",
      "Total time for mesh mapping: 0.4169754981994629\n",
      "Total time for mesh mapping: 0.4014134407043457\n",
      "Total time for mesh mapping: 0.35267019271850586\n",
      "Total time for mesh mapping: 0.4107365608215332\n",
      "Total time for mesh mapping: 0.1862645149230957\n",
      "Total time for mesh mapping: 0.24235224723815918\n"
     ]
    },
    {
     "data": {
      "text/plain": [
       "{0: {'branch_meshes': [<trimesh.Trimesh(vertices.shape=(153651, 3), faces.shape=(308343, 3))>,\n",
       "   <trimesh.Trimesh(vertices.shape=(87663, 3), faces.shape=(176175, 3))>,\n",
       "   <trimesh.Trimesh(vertices.shape=(56972, 3), faces.shape=(114671, 3))>,\n",
       "   <trimesh.Trimesh(vertices.shape=(54953, 3), faces.shape=(110120, 3))>,\n",
       "   <trimesh.Trimesh(vertices.shape=(53735, 3), faces.shape=(107788, 3))>,\n",
       "   <trimesh.Trimesh(vertices.shape=(51875, 3), faces.shape=(104099, 3))>,\n",
       "   <trimesh.Trimesh(vertices.shape=(29324, 3), faces.shape=(58779, 3))>,\n",
       "   <trimesh.Trimesh(vertices.shape=(29151, 3), faces.shape=(58543, 3))>,\n",
       "   <trimesh.Trimesh(vertices.shape=(14725, 3), faces.shape=(29598, 3))>,\n",
       "   <trimesh.Trimesh(vertices.shape=(3865, 3), faces.shape=(7718, 3))>,\n",
       "   <trimesh.Trimesh(vertices.shape=(1159, 3), faces.shape=(2282, 3))>],\n",
       "  'soma_meshes': array([<trimesh.Trimesh(vertices.shape=(20481, 3), faces.shape=(40659, 3))>,\n",
       "         <trimesh.Trimesh(vertices.shape=(14158, 3), faces.shape=(28309, 3))>],\n",
       "        dtype=object),\n",
       "  'soma_to_piece_connectivity': {0: [0, 1, 2, 3, 5, 10],\n",
       "   1: [1, 4, 6, 7, 8, 9]}}}"
      ]
     },
     "execution_count": 257,
     "metadata": {},
     "output_type": "execute_result"
    }
   ],
   "source": [
    "from importlib import reload\n",
    "sm = reload(sm)\n",
    "tu = reload(tu)\n",
    "\n",
    "\"\"\"\n",
    "for each soma touching mesh get the following:\n",
    "1) original soma meshes\n",
    "2) significant mesh pieces touching these somas\n",
    "3) The soma connectivity to each of the significant mesh pieces\n",
    "-- later will just translate the \n",
    "\n",
    "\n",
    "Process: \n",
    "\n",
    "1) Final all soma faces (through soma extraction and then soma original faces function)\n",
    "2) Subtact all soma faces from original mesh\n",
    "3) Find all significant mesh pieces\n",
    "4) Backtrack significant mesh pieces to orignal mesh and find connectivity of each to all\n",
    "   the available somas\n",
    "Conclusion: Will have connectivity map\n",
    "\n",
    "\n",
    "\"\"\"\n",
    "\n",
    "soma_touching_mesh_data = dict()\n",
    "\n",
    "for z,(mesh_idx, soma_idxes) in enumerate(soma_containing_meshes.items()):\n",
    "    soma_touching_mesh_data[z] = dict()\n",
    "    print(f\"\\n\\n----Working on soma-containing mesh piece {z}----\")\n",
    "\n",
    "    #1) Final all soma faces (through soma extraction and then soma original faces function)\n",
    "    current_mesh = split_meshes[mesh_idx]\n",
    "\n",
    "    current_soma_mesh_list = [soma_mesh_list[k] for k in soma_idxes]\n",
    "\n",
    "    mesh_pieces_without_soma = sm.subtract_soma(current_soma_mesh_list,current_mesh,\n",
    "                                                significance_threshold=250)\n",
    "\n",
    "    mesh_pieces_without_soma_stacked = tu.combine_meshes(mesh_pieces_without_soma)\n",
    "    \n",
    "    # find the original soma faces of mesh\n",
    "    soma_faces = tu.original_mesh_faces_map(current_mesh,mesh_pieces_without_soma_stacked,matching=False)\n",
    "    soma_meshes = current_mesh.submesh([soma_faces],append=True)\n",
    "    \n",
    "    # finding the non-soma original faces\n",
    "    non_soma_faces = tu.original_mesh_faces_map(current_mesh,soma_meshes,matching=False)\n",
    "    non_soma_stacked_mesh = current_mesh.submesh([non_soma_faces],append=True)\n",
    "    \n",
    "    # 3) Find all significant mesh pieces\n",
    "    sig_non_soma_pieces = tu.split_significant_pieces(non_soma_stacked_mesh,significance_threshold=200)\n",
    "   \n",
    "    \n",
    "    soma_touching_mesh_data[z][\"branch_meshes\"] = sig_non_soma_pieces\n",
    "    \n",
    "    #4) Backtrack significant mesh pieces to orignal mesh and find connectivity of each to all the available somas\n",
    "    # get all the seperate mesh faces\n",
    "\n",
    "    #How to seperate the mesh faces\n",
    "    seperate_soma_meshes,soma_face_components = tu.split(soma_meshes,only_watertight=False)\n",
    "    soma_touching_mesh_data[z][\"soma_meshes\"] = seperate_soma_meshes\n",
    "    \n",
    "    \n",
    "    soma_to_piece_connectivity = dict()\n",
    "    for i,curr_soma in enumerate(seperate_soma_meshes):\n",
    "        connected_mesh_pieces = tu.mesh_pieces_connectivity(\n",
    "                        main_mesh=current_mesh,\n",
    "                        central_piece=curr_soma,\n",
    "                        periphery_pieces = sig_non_soma_pieces,\n",
    "                        return_vertices = True\n",
    "        )\n",
    "        #print(f\"soma {i}: connected_mesh_pieces = {connected_mesh_pieces}\")\n",
    "        soma_to_piece_connectivity[i] = connected_mesh_pieces\n",
    "    \n",
    "    \n",
    "    soma_touching_mesh_data[z][\"soma_to_piece_connectivity\"] = soma_to_piece_connectivity\n",
    "\n",
    "soma_touching_mesh_data"
   ]
  },
  {
   "cell_type": "code",
   "execution_count": 22,
   "metadata": {},
   "outputs": [
    {
     "data": {
      "text/plain": [
       "[<trimesh.Trimesh(vertices.shape=(153651, 3), faces.shape=(308343, 3))>,\n",
       " <trimesh.Trimesh(vertices.shape=(87663, 3), faces.shape=(176175, 3))>,\n",
       " <trimesh.Trimesh(vertices.shape=(56972, 3), faces.shape=(114671, 3))>,\n",
       " <trimesh.Trimesh(vertices.shape=(54953, 3), faces.shape=(110120, 3))>,\n",
       " <trimesh.Trimesh(vertices.shape=(53735, 3), faces.shape=(107788, 3))>,\n",
       " <trimesh.Trimesh(vertices.shape=(51875, 3), faces.shape=(104099, 3))>,\n",
       " <trimesh.Trimesh(vertices.shape=(29324, 3), faces.shape=(58779, 3))>,\n",
       " <trimesh.Trimesh(vertices.shape=(29151, 3), faces.shape=(58543, 3))>,\n",
       " <trimesh.Trimesh(vertices.shape=(14725, 3), faces.shape=(29598, 3))>,\n",
       " <trimesh.Trimesh(vertices.shape=(3865, 3), faces.shape=(7718, 3))>,\n",
       " <trimesh.Trimesh(vertices.shape=(1159, 3), faces.shape=(2282, 3))>]"
      ]
     },
     "execution_count": 22,
     "metadata": {},
     "output_type": "execute_result"
    }
   ],
   "source": [
    "soma_touching_mesh_data[0][\"branch_meshes\"]"
   ]
  },
  {
   "cell_type": "markdown",
   "metadata": {},
   "source": [
    "# At this point have done the preprocessing so can start with skeletonization"
   ]
  },
  {
   "cell_type": "code",
   "execution_count": 51,
   "metadata": {
    "collapsed": true,
    "jupyter": {
     "outputs_hidden": true
    }
   },
   "outputs": [
    {
     "name": "stdout",
     "output_type": "stream",
     "text": [
      "\n",
      "-- Working on Soma Continaing Mesh 0--\n",
      "\n",
      "    -- Working on branch 0--\n",
      "     Starting Screened Poisson\n",
      "IN INPUT FILE VALIDATION LOOP\n",
      "LEAVING LOOP, MESH VALIDATED\n",
      "Using port = 7421\n",
      "xvfb-run -n 7421 -s \"-screen 0 800x600x24\" meshlabserver $@  -i /notebooks/neuron_mesh_tools/Platinum_Compartment/temp/None.off -o /notebooks/neuron_mesh_tools/Platinum_Compartment/temp/None_poisson.off -s /notebooks/neuron_mesh_tools/Platinum_Compartment/temp/poisson_554087.mls\n",
      "-----Time for Screened Poisson= 39.10453677177429\n"
     ]
    },
    {
     "name": "stderr",
     "output_type": "stream",
     "text": [
      "face_normals all zero, ignoring!\n",
      "face_normals all zero, ignoring!\n",
      "face_normals all zero, ignoring!\n",
      "face_normals all zero, ignoring!\n",
      "face_normals all zero, ignoring!\n",
      "face_normals all zero, ignoring!\n",
      "face_normals all zero, ignoring!\n",
      "face_normals all zero, ignoring!\n",
      "face_normals all zero, ignoring!\n",
      "face_normals all zero, ignoring!\n",
      "face_normals all zero, ignoring!\n",
      "face_normals all zero, ignoring!\n",
      "face_normals all zero, ignoring!\n",
      "face_normals all zero, ignoring!\n",
      "face_normals all zero, ignoring!\n",
      "face_normals all zero, ignoring!\n",
      "face_normals all zero, ignoring!\n",
      "face_normals all zero, ignoring!\n",
      "face_normals all zero, ignoring!\n",
      "face_normals all zero, ignoring!\n",
      "face_normals all zero, ignoring!\n",
      "face_normals all zero, ignoring!\n",
      "face_normals all zero, ignoring!\n",
      "face_normals all zero, ignoring!\n",
      "face_normals all zero, ignoring!\n",
      "face_normals all zero, ignoring!\n",
      "face_normals all zero, ignoring!\n",
      "face_normals all zero, ignoring!\n",
      "face_normals all zero, ignoring!\n",
      "face_normals all zero, ignoring!\n",
      "face_normals all zero, ignoring!\n",
      "face_normals all zero, ignoring!\n",
      "face_normals all zero, ignoring!\n",
      "face_normals all zero, ignoring!\n",
      "face_normals all zero, ignoring!\n",
      "face_normals all zero, ignoring!\n",
      "face_normals all zero, ignoring!\n",
      "face_normals all zero, ignoring!\n",
      "face_normals all zero, ignoring!\n",
      "face_normals all zero, ignoring!\n",
      "face_normals all zero, ignoring!\n",
      "face_normals all zero, ignoring!\n",
      "face_normals all zero, ignoring!\n",
      "face_normals all zero, ignoring!\n",
      "face_normals all zero, ignoring!\n",
      "face_normals all zero, ignoring!\n",
      "face_normals all zero, ignoring!\n",
      "face_normals all zero, ignoring!\n",
      "face_normals all zero, ignoring!\n",
      "face_normals all zero, ignoring!\n",
      "face_normals all zero, ignoring!\n",
      "face_normals all zero, ignoring!\n",
      "face_normals all zero, ignoring!\n",
      "face_normals all zero, ignoring!\n",
      "face_normals all zero, ignoring!\n",
      "face_normals all zero, ignoring!\n",
      "face_normals all zero, ignoring!\n",
      "face_normals all zero, ignoring!\n",
      "face_normals all zero, ignoring!\n",
      "face_normals all zero, ignoring!\n",
      "face_normals all zero, ignoring!\n",
      "face_normals all zero, ignoring!\n",
      "face_normals all zero, ignoring!\n",
      "face_normals all zero, ignoring!\n",
      "face_normals all zero, ignoring!\n",
      "face_normals all zero, ignoring!\n",
      "face_normals all zero, ignoring!\n",
      "face_normals all zero, ignoring!\n",
      "face_normals all zero, ignoring!\n",
      "face_normals all zero, ignoring!\n",
      "face_normals all zero, ignoring!\n",
      "face_normals all zero, ignoring!\n",
      "face_normals all zero, ignoring!\n",
      "face_normals all zero, ignoring!\n",
      "face_normals all zero, ignoring!\n",
      "face_normals all zero, ignoring!\n",
      "face_normals all zero, ignoring!\n",
      "face_normals all zero, ignoring!\n",
      "face_normals all zero, ignoring!\n",
      "face_normals all zero, ignoring!\n",
      "face_normals all zero, ignoring!\n",
      "face_normals all zero, ignoring!\n",
      "face_normals all zero, ignoring!\n",
      "face_normals all zero, ignoring!\n",
      "face_normals all zero, ignoring!\n",
      "face_normals all zero, ignoring!\n",
      "face_normals all zero, ignoring!\n",
      "face_normals all zero, ignoring!\n"
     ]
    },
    {
     "name": "stdout",
     "output_type": "stream",
     "text": [
      "     Starting Calcification\n",
      "Before mesh subtraction number of skeleton edges = 4143\n",
      "Inside mesh subtraction, len(main_mesh_bbox_restricted.faces) = 308343\n"
     ]
    },
    {
     "data": {
      "application/vnd.jupyter.widget-view+json": {
       "model_id": "cf8176989a324d318c58a133f5665eae",
       "version_major": 2,
       "version_minor": 0
      },
      "text/plain": [
       "HBox(children=(FloatProgress(value=1.0, bar_style='info', max=1.0), HTML(value='')))"
      ]
     },
     "metadata": {},
     "output_type": "display_data"
    },
    {
     "name": "stderr",
     "output_type": "stream",
     "text": [
      "No adjacent faces detected! Did you merge vertices?\n",
      "No adjacent faces detected! Did you merge vertices?\n",
      "No adjacent faces detected! Did you merge vertices?\n"
     ]
    },
    {
     "name": "stdout",
     "output_type": "stream",
     "text": [
      "\n",
      "Total Mesh subtraction time = 123.1163\n"
     ]
    },
    {
     "data": {
      "application/vnd.jupyter.widget-view+json": {
       "model_id": "79f49349cacf466d9e8091ea0c034af9",
       "version_major": 2,
       "version_minor": 0
      },
      "text/plain": [
       "HBox(children=(FloatProgress(value=0.0, max=255.0), HTML(value='')))"
      ]
     },
     "metadata": {},
     "output_type": "display_data"
    },
    {
     "name": "stdout",
     "output_type": "stream",
     "text": [
      "\n",
      "len_subgraphs AT BEGINNING of the loop\n"
     ]
    },
    {
     "data": {
      "application/vnd.jupyter.widget-view+json": {
       "model_id": "69c2118b81fe4e10a3f5cde9908f73a0",
       "version_major": 2,
       "version_minor": 0
      },
      "text/plain": [
       "HBox(children=(FloatProgress(value=0.0, max=782.0), HTML(value='')))"
      ]
     },
     "metadata": {},
     "output_type": "display_data"
    },
    {
     "name": "stdout",
     "output_type": "stream",
     "text": [
      "all graph is one component!\n",
      "Total time for skeleton stitching = 0.8085384368896484\n",
      "The process was using a temp folder\n",
      "Using Distance measure skeletal_distance\n",
      "\n"
     ]
    },
    {
     "data": {
      "application/vnd.jupyter.widget-view+json": {
       "model_id": "648c82c9f19f4c35bd39c7a2ffbab2cd",
       "version_major": 2,
       "version_minor": 0
      },
      "text/plain": [
       "HBox(children=(FloatProgress(value=0.0, max=731.0), HTML(value='')))"
      ]
     },
     "metadata": {},
     "output_type": "display_data"
    },
    {
     "name": "stdout",
     "output_type": "stream",
     "text": [
      "    Total time for skeleton and cleaning of branch 0: 19.420249700546265\n",
      "\n",
      "    -- Working on branch 1--\n",
      "     Starting Screened Poisson\n",
      "IN INPUT FILE VALIDATION LOOP\n",
      "LEAVING LOOP, MESH VALIDATED\n",
      "Using port = 8065\n",
      "xvfb-run -n 8065 -s \"-screen 0 800x600x24\" meshlabserver $@  -i /notebooks/neuron_mesh_tools/Platinum_Compartment/temp/None.off -o /notebooks/neuron_mesh_tools/Platinum_Compartment/temp/None_poisson.off -s /notebooks/neuron_mesh_tools/Platinum_Compartment/temp/poisson_279004.mls\n",
      "-----Time for Screened Poisson= 22.6951687335968\n"
     ]
    },
    {
     "name": "stderr",
     "output_type": "stream",
     "text": [
      "face_normals all zero, ignoring!\n",
      "face_normals all zero, ignoring!\n",
      "face_normals all zero, ignoring!\n",
      "face_normals all zero, ignoring!\n",
      "face_normals all zero, ignoring!\n",
      "face_normals all zero, ignoring!\n",
      "face_normals all zero, ignoring!\n",
      "face_normals all zero, ignoring!\n",
      "face_normals all zero, ignoring!\n",
      "face_normals all zero, ignoring!\n",
      "face_normals all zero, ignoring!\n",
      "face_normals all zero, ignoring!\n",
      "face_normals all zero, ignoring!\n",
      "face_normals all zero, ignoring!\n",
      "face_normals all zero, ignoring!\n",
      "face_normals all zero, ignoring!\n",
      "face_normals all zero, ignoring!\n",
      "face_normals all zero, ignoring!\n",
      "face_normals all zero, ignoring!\n",
      "face_normals all zero, ignoring!\n",
      "face_normals all zero, ignoring!\n",
      "face_normals all zero, ignoring!\n",
      "face_normals all zero, ignoring!\n",
      "face_normals all zero, ignoring!\n",
      "face_normals all zero, ignoring!\n",
      "face_normals all zero, ignoring!\n",
      "face_normals all zero, ignoring!\n",
      "face_normals all zero, ignoring!\n",
      "face_normals all zero, ignoring!\n",
      "face_normals all zero, ignoring!\n",
      "face_normals all zero, ignoring!\n",
      "face_normals all zero, ignoring!\n",
      "face_normals all zero, ignoring!\n",
      "face_normals all zero, ignoring!\n",
      "face_normals all zero, ignoring!\n",
      "face_normals all zero, ignoring!\n",
      "face_normals all zero, ignoring!\n",
      "face_normals all zero, ignoring!\n",
      "face_normals all zero, ignoring!\n",
      "face_normals all zero, ignoring!\n",
      "face_normals all zero, ignoring!\n",
      "face_normals all zero, ignoring!\n",
      "face_normals all zero, ignoring!\n",
      "face_normals all zero, ignoring!\n",
      "face_normals all zero, ignoring!\n",
      "face_normals all zero, ignoring!\n",
      "face_normals all zero, ignoring!\n",
      "face_normals all zero, ignoring!\n",
      "face_normals all zero, ignoring!\n",
      "face_normals all zero, ignoring!\n",
      "face_normals all zero, ignoring!\n",
      "face_normals all zero, ignoring!\n",
      "face_normals all zero, ignoring!\n",
      "face_normals all zero, ignoring!\n"
     ]
    },
    {
     "name": "stdout",
     "output_type": "stream",
     "text": [
      "     Starting Calcification\n",
      "Before mesh subtraction number of skeleton edges = 2857\n",
      "Inside mesh subtraction, len(main_mesh_bbox_restricted.faces) = 176175\n"
     ]
    },
    {
     "data": {
      "application/vnd.jupyter.widget-view+json": {
       "model_id": "6e6073992c8b433e9fd7c8609cbeb2a4",
       "version_major": 2,
       "version_minor": 0
      },
      "text/plain": [
       "HBox(children=(FloatProgress(value=1.0, bar_style='info', max=1.0), HTML(value='')))"
      ]
     },
     "metadata": {},
     "output_type": "display_data"
    },
    {
     "name": "stderr",
     "output_type": "stream",
     "text": [
      "No adjacent faces detected! Did you merge vertices?\n",
      "No adjacent faces detected! Did you merge vertices?\n",
      "No adjacent faces detected! Did you merge vertices?\n"
     ]
    },
    {
     "name": "stdout",
     "output_type": "stream",
     "text": [
      "\n",
      "Total Mesh subtraction time = 60.9787\n"
     ]
    },
    {
     "data": {
      "application/vnd.jupyter.widget-view+json": {
       "model_id": "f70bf1f28ba44f5ab5dd2871c4494cb8",
       "version_major": 2,
       "version_minor": 0
      },
      "text/plain": [
       "HBox(children=(FloatProgress(value=0.0, max=154.0), HTML(value='')))"
      ]
     },
     "metadata": {},
     "output_type": "display_data"
    },
    {
     "name": "stdout",
     "output_type": "stream",
     "text": [
      "\n",
      "len_subgraphs AT BEGINNING of the loop\n"
     ]
    },
    {
     "data": {
      "application/vnd.jupyter.widget-view+json": {
       "model_id": "19c814e490294bf5bd798215bfb465cb",
       "version_major": 2,
       "version_minor": 0
      },
      "text/plain": [
       "HBox(children=(FloatProgress(value=0.0, max=474.0), HTML(value='')))"
      ]
     },
     "metadata": {},
     "output_type": "display_data"
    },
    {
     "name": "stdout",
     "output_type": "stream",
     "text": [
      "all graph is one component!\n",
      "\n",
      "Total time for skeleton stitching = 0.40009307861328125\n",
      "The process was using a temp folder\n",
      "Using Distance measure skeletal_distance\n"
     ]
    },
    {
     "data": {
      "application/vnd.jupyter.widget-view+json": {
       "model_id": "7b04023004f945e89da298e65e973e3a",
       "version_major": 2,
       "version_minor": 0
      },
      "text/plain": [
       "HBox(children=(FloatProgress(value=0.0, max=407.0), HTML(value='')))"
      ]
     },
     "metadata": {},
     "output_type": "display_data"
    },
    {
     "name": "stdout",
     "output_type": "stream",
     "text": [
      "    Total time for skeleton and cleaning of branch 1: 6.212777614593506\n",
      "\n",
      "    -- Working on branch 2--\n",
      "     Starting Screened Poisson\n",
      "IN INPUT FILE VALIDATION LOOP\n",
      "LEAVING LOOP, MESH VALIDATED\n",
      "Using port = 2708\n",
      "xvfb-run -n 2708 -s \"-screen 0 800x600x24\" meshlabserver $@  -i /notebooks/neuron_mesh_tools/Platinum_Compartment/temp/None.off -o /notebooks/neuron_mesh_tools/Platinum_Compartment/temp/None_poisson.off -s /notebooks/neuron_mesh_tools/Platinum_Compartment/temp/poisson_934333.mls\n",
      "-----Time for Screened Poisson= 19.23483967781067\n"
     ]
    },
    {
     "name": "stderr",
     "output_type": "stream",
     "text": [
      "face_normals all zero, ignoring!\n",
      "face_normals all zero, ignoring!\n",
      "face_normals all zero, ignoring!\n",
      "face_normals all zero, ignoring!\n",
      "face_normals all zero, ignoring!\n",
      "face_normals all zero, ignoring!\n",
      "face_normals all zero, ignoring!\n",
      "face_normals all zero, ignoring!\n",
      "face_normals all zero, ignoring!\n",
      "face_normals all zero, ignoring!\n",
      "face_normals all zero, ignoring!\n",
      "face_normals all zero, ignoring!\n",
      "face_normals all zero, ignoring!\n",
      "face_normals all zero, ignoring!\n",
      "face_normals all zero, ignoring!\n",
      "face_normals all zero, ignoring!\n",
      "face_normals all zero, ignoring!\n",
      "face_normals all zero, ignoring!\n",
      "face_normals all zero, ignoring!\n",
      "face_normals all zero, ignoring!\n",
      "face_normals all zero, ignoring!\n",
      "face_normals all zero, ignoring!\n",
      "face_normals all zero, ignoring!\n",
      "face_normals all zero, ignoring!\n",
      "face_normals all zero, ignoring!\n",
      "face_normals all zero, ignoring!\n",
      "face_normals all zero, ignoring!\n",
      "face_normals all zero, ignoring!\n",
      "face_normals all zero, ignoring!\n",
      "face_normals all zero, ignoring!\n",
      "face_normals all zero, ignoring!\n",
      "face_normals all zero, ignoring!\n",
      "face_normals all zero, ignoring!\n",
      "face_normals all zero, ignoring!\n",
      "face_normals all zero, ignoring!\n",
      "face_normals all zero, ignoring!\n",
      "face_normals all zero, ignoring!\n",
      "face_normals all zero, ignoring!\n",
      "face_normals all zero, ignoring!\n",
      "face_normals all zero, ignoring!\n"
     ]
    },
    {
     "name": "stdout",
     "output_type": "stream",
     "text": [
      "     Starting Calcification\n",
      "Before mesh subtraction number of skeleton edges = 1799\n",
      "Inside mesh subtraction, len(main_mesh_bbox_restricted.faces) = 114671\n"
     ]
    },
    {
     "data": {
      "application/vnd.jupyter.widget-view+json": {
       "model_id": "a5fcc9c2f05f470ebda3c3320633486e",
       "version_major": 2,
       "version_minor": 0
      },
      "text/plain": [
       "HBox(children=(FloatProgress(value=1.0, bar_style='info', max=1.0), HTML(value='')))"
      ]
     },
     "metadata": {},
     "output_type": "display_data"
    },
    {
     "name": "stderr",
     "output_type": "stream",
     "text": [
      "No adjacent faces detected! Did you merge vertices?\n"
     ]
    },
    {
     "name": "stdout",
     "output_type": "stream",
     "text": [
      "\n",
      "Total Mesh subtraction time = 33.0845\n"
     ]
    },
    {
     "data": {
      "application/vnd.jupyter.widget-view+json": {
       "model_id": "b867874e1fda4e279ae1e610af01c518",
       "version_major": 2,
       "version_minor": 0
      },
      "text/plain": [
       "HBox(children=(FloatProgress(value=0.0, max=121.0), HTML(value='')))"
      ]
     },
     "metadata": {},
     "output_type": "display_data"
    },
    {
     "name": "stdout",
     "output_type": "stream",
     "text": [
      "\n",
      "len_subgraphs AT BEGINNING of the loop\n"
     ]
    },
    {
     "data": {
      "application/vnd.jupyter.widget-view+json": {
       "model_id": "6a003d7eeeb84cbe8f25c56849619aa9",
       "version_major": 2,
       "version_minor": 0
      },
      "text/plain": [
       "HBox(children=(FloatProgress(value=0.0, max=352.0), HTML(value='')))"
      ]
     },
     "metadata": {},
     "output_type": "display_data"
    },
    {
     "name": "stdout",
     "output_type": "stream",
     "text": [
      "all graph is one component!\n",
      "\n",
      "Total time for skeleton stitching = 0.254105806350708\n",
      "The process was using a temp folder\n",
      "Using Distance measure skeletal_distance\n"
     ]
    },
    {
     "data": {
      "application/vnd.jupyter.widget-view+json": {
       "model_id": "44a18aa9f0654f35b586d013b6e0724f",
       "version_major": 2,
       "version_minor": 0
      },
      "text/plain": [
       "HBox(children=(FloatProgress(value=0.0, max=270.0), HTML(value='')))"
      ]
     },
     "metadata": {},
     "output_type": "display_data"
    },
    {
     "name": "stdout",
     "output_type": "stream",
     "text": [
      "\n",
      "    Total time for skeleton and cleaning of branch 2: 2.8175134658813477\n",
      "\n",
      "    -- Working on branch 3--\n",
      "     Starting Screened Poisson\n",
      "IN INPUT FILE VALIDATION LOOP\n",
      "LEAVING LOOP, MESH VALIDATED\n",
      "Using port = 4716\n",
      "xvfb-run -n 4716 -s \"-screen 0 800x600x24\" meshlabserver $@  -i /notebooks/neuron_mesh_tools/Platinum_Compartment/temp/None.off -o /notebooks/neuron_mesh_tools/Platinum_Compartment/temp/None_poisson.off -s /notebooks/neuron_mesh_tools/Platinum_Compartment/temp/poisson_40170.mls\n",
      "-----Time for Screened Poisson= 19.122018098831177\n"
     ]
    },
    {
     "name": "stderr",
     "output_type": "stream",
     "text": [
      "face_normals all zero, ignoring!\n",
      "face_normals all zero, ignoring!\n",
      "face_normals all zero, ignoring!\n",
      "face_normals all zero, ignoring!\n",
      "face_normals all zero, ignoring!\n",
      "face_normals all zero, ignoring!\n",
      "face_normals all zero, ignoring!\n",
      "face_normals all zero, ignoring!\n",
      "face_normals all zero, ignoring!\n",
      "face_normals all zero, ignoring!\n",
      "face_normals all zero, ignoring!\n",
      "face_normals all zero, ignoring!\n",
      "face_normals all zero, ignoring!\n",
      "face_normals all zero, ignoring!\n",
      "face_normals all zero, ignoring!\n",
      "face_normals all zero, ignoring!\n",
      "face_normals all zero, ignoring!\n",
      "face_normals all zero, ignoring!\n",
      "face_normals all zero, ignoring!\n",
      "face_normals all zero, ignoring!\n",
      "face_normals all zero, ignoring!\n",
      "face_normals all zero, ignoring!\n",
      "face_normals all zero, ignoring!\n",
      "face_normals all zero, ignoring!\n",
      "face_normals all zero, ignoring!\n",
      "face_normals all zero, ignoring!\n",
      "face_normals all zero, ignoring!\n",
      "face_normals all zero, ignoring!\n",
      "face_normals all zero, ignoring!\n",
      "face_normals all zero, ignoring!\n",
      "face_normals all zero, ignoring!\n",
      "face_normals all zero, ignoring!\n",
      "face_normals all zero, ignoring!\n",
      "face_normals all zero, ignoring!\n",
      "face_normals all zero, ignoring!\n",
      "face_normals all zero, ignoring!\n",
      "face_normals all zero, ignoring!\n",
      "face_normals all zero, ignoring!\n",
      "face_normals all zero, ignoring!\n",
      "face_normals all zero, ignoring!\n",
      "face_normals all zero, ignoring!\n",
      "face_normals all zero, ignoring!\n",
      "face_normals all zero, ignoring!\n",
      "face_normals all zero, ignoring!\n",
      "face_normals all zero, ignoring!\n",
      "face_normals all zero, ignoring!\n",
      "face_normals all zero, ignoring!\n",
      "face_normals all zero, ignoring!\n",
      "face_normals all zero, ignoring!\n",
      "face_normals all zero, ignoring!\n",
      "face_normals all zero, ignoring!\n",
      "face_normals all zero, ignoring!\n",
      "face_normals all zero, ignoring!\n",
      "face_normals all zero, ignoring!\n",
      "face_normals all zero, ignoring!\n",
      "face_normals all zero, ignoring!\n"
     ]
    },
    {
     "name": "stdout",
     "output_type": "stream",
     "text": [
      "     Starting Calcification\n",
      "Before mesh subtraction number of skeleton edges = 1718\n",
      "Inside mesh subtraction, len(main_mesh_bbox_restricted.faces) = 110120\n"
     ]
    },
    {
     "data": {
      "application/vnd.jupyter.widget-view+json": {
       "model_id": "f58d10b4cb8e4cb0a0698d489bbde47e",
       "version_major": 2,
       "version_minor": 0
      },
      "text/plain": [
       "HBox(children=(FloatProgress(value=1.0, bar_style='info', max=1.0), HTML(value='')))"
      ]
     },
     "metadata": {},
     "output_type": "display_data"
    },
    {
     "name": "stderr",
     "output_type": "stream",
     "text": [
      "No adjacent faces detected! Did you merge vertices?\n",
      "No adjacent faces detected! Did you merge vertices?\n",
      "No adjacent faces detected! Did you merge vertices?\n"
     ]
    },
    {
     "name": "stdout",
     "output_type": "stream",
     "text": [
      "\n",
      "Total Mesh subtraction time = 32.2088\n"
     ]
    },
    {
     "data": {
      "application/vnd.jupyter.widget-view+json": {
       "model_id": "5192d55aa019443c9e718756d6df20aa",
       "version_major": 2,
       "version_minor": 0
      },
      "text/plain": [
       "HBox(children=(FloatProgress(value=0.0, max=91.0), HTML(value='')))"
      ]
     },
     "metadata": {},
     "output_type": "display_data"
    },
    {
     "name": "stdout",
     "output_type": "stream",
     "text": [
      "\n",
      "len_subgraphs AT BEGINNING of the loop\n"
     ]
    },
    {
     "data": {
      "application/vnd.jupyter.widget-view+json": {
       "model_id": "d6e28eb176274e30a95383a5bef22fec",
       "version_major": 2,
       "version_minor": 0
      },
      "text/plain": [
       "HBox(children=(FloatProgress(value=0.0, max=327.0), HTML(value='')))"
      ]
     },
     "metadata": {},
     "output_type": "display_data"
    },
    {
     "name": "stdout",
     "output_type": "stream",
     "text": [
      "all graph is one component!\n",
      "\n",
      "Total time for skeleton stitching = 0.22966670989990234\n",
      "The process was using a temp folder\n",
      "Using Distance measure skeletal_distance\n"
     ]
    },
    {
     "data": {
      "application/vnd.jupyter.widget-view+json": {
       "model_id": "4f6992cfd30e4850a9f7fc729bc6c5c8",
       "version_major": 2,
       "version_minor": 0
      },
      "text/plain": [
       "HBox(children=(FloatProgress(value=0.0, max=288.0), HTML(value='')))"
      ]
     },
     "metadata": {},
     "output_type": "display_data"
    },
    {
     "name": "stdout",
     "output_type": "stream",
     "text": [
      "    Total time for skeleton and cleaning of branch 3: 3.1185786724090576\n",
      "\n",
      "    -- Working on branch 4--\n",
      "     Starting Screened Poisson\n",
      "IN INPUT FILE VALIDATION LOOP\n",
      "LEAVING LOOP, MESH VALIDATED\n",
      "Using port = 579\n",
      "xvfb-run -n 579 -s \"-screen 0 800x600x24\" meshlabserver $@  -i /notebooks/neuron_mesh_tools/Platinum_Compartment/temp/None.off -o /notebooks/neuron_mesh_tools/Platinum_Compartment/temp/None_poisson.off -s /notebooks/neuron_mesh_tools/Platinum_Compartment/temp/poisson_247876.mls\n",
      "-----Time for Screened Poisson= 22.229156017303467\n"
     ]
    },
    {
     "name": "stderr",
     "output_type": "stream",
     "text": [
      "face_normals all zero, ignoring!\n",
      "face_normals all zero, ignoring!\n",
      "face_normals all zero, ignoring!\n",
      "face_normals all zero, ignoring!\n",
      "face_normals all zero, ignoring!\n",
      "face_normals all zero, ignoring!\n",
      "face_normals all zero, ignoring!\n",
      "face_normals all zero, ignoring!\n",
      "face_normals all zero, ignoring!\n",
      "face_normals all zero, ignoring!\n",
      "face_normals all zero, ignoring!\n",
      "face_normals all zero, ignoring!\n",
      "face_normals all zero, ignoring!\n",
      "face_normals all zero, ignoring!\n",
      "face_normals all zero, ignoring!\n",
      "face_normals all zero, ignoring!\n",
      "face_normals all zero, ignoring!\n",
      "face_normals all zero, ignoring!\n",
      "face_normals all zero, ignoring!\n",
      "face_normals all zero, ignoring!\n",
      "face_normals all zero, ignoring!\n",
      "face_normals all zero, ignoring!\n",
      "face_normals all zero, ignoring!\n",
      "face_normals all zero, ignoring!\n",
      "face_normals all zero, ignoring!\n",
      "face_normals all zero, ignoring!\n",
      "face_normals all zero, ignoring!\n",
      "face_normals all zero, ignoring!\n",
      "face_normals all zero, ignoring!\n",
      "face_normals all zero, ignoring!\n",
      "face_normals all zero, ignoring!\n",
      "face_normals all zero, ignoring!\n",
      "face_normals all zero, ignoring!\n",
      "face_normals all zero, ignoring!\n",
      "face_normals all zero, ignoring!\n",
      "face_normals all zero, ignoring!\n",
      "face_normals all zero, ignoring!\n",
      "face_normals all zero, ignoring!\n",
      "face_normals all zero, ignoring!\n",
      "face_normals all zero, ignoring!\n",
      "face_normals all zero, ignoring!\n",
      "face_normals all zero, ignoring!\n",
      "face_normals all zero, ignoring!\n",
      "face_normals all zero, ignoring!\n",
      "face_normals all zero, ignoring!\n",
      "face_normals all zero, ignoring!\n",
      "face_normals all zero, ignoring!\n",
      "face_normals all zero, ignoring!\n",
      "face_normals all zero, ignoring!\n",
      "face_normals all zero, ignoring!\n",
      "face_normals all zero, ignoring!\n",
      "face_normals all zero, ignoring!\n",
      "face_normals all zero, ignoring!\n",
      "face_normals all zero, ignoring!\n",
      "face_normals all zero, ignoring!\n",
      "face_normals all zero, ignoring!\n",
      "face_normals all zero, ignoring!\n",
      "face_normals all zero, ignoring!\n",
      "face_normals all zero, ignoring!\n",
      "face_normals all zero, ignoring!\n",
      "face_normals all zero, ignoring!\n",
      "face_normals all zero, ignoring!\n",
      "face_normals all zero, ignoring!\n",
      "face_normals all zero, ignoring!\n",
      "face_normals all zero, ignoring!\n",
      "face_normals all zero, ignoring!\n",
      "face_normals all zero, ignoring!\n",
      "face_normals all zero, ignoring!\n",
      "face_normals all zero, ignoring!\n",
      "face_normals all zero, ignoring!\n",
      "face_normals all zero, ignoring!\n",
      "face_normals all zero, ignoring!\n",
      "face_normals all zero, ignoring!\n",
      "face_normals all zero, ignoring!\n",
      "face_normals all zero, ignoring!\n",
      "face_normals all zero, ignoring!\n",
      "face_normals all zero, ignoring!\n",
      "face_normals all zero, ignoring!\n",
      "face_normals all zero, ignoring!\n",
      "face_normals all zero, ignoring!\n",
      "face_normals all zero, ignoring!\n",
      "face_normals all zero, ignoring!\n",
      "face_normals all zero, ignoring!\n",
      "face_normals all zero, ignoring!\n",
      "face_normals all zero, ignoring!\n",
      "face_normals all zero, ignoring!\n",
      "face_normals all zero, ignoring!\n",
      "face_normals all zero, ignoring!\n",
      "face_normals all zero, ignoring!\n",
      "face_normals all zero, ignoring!\n",
      "face_normals all zero, ignoring!\n",
      "face_normals all zero, ignoring!\n",
      "face_normals all zero, ignoring!\n",
      "face_normals all zero, ignoring!\n",
      "face_normals all zero, ignoring!\n",
      "face_normals all zero, ignoring!\n",
      "face_normals all zero, ignoring!\n",
      "face_normals all zero, ignoring!\n",
      "face_normals all zero, ignoring!\n",
      "face_normals all zero, ignoring!\n",
      "face_normals all zero, ignoring!\n",
      "face_normals all zero, ignoring!\n",
      "face_normals all zero, ignoring!\n",
      "face_normals all zero, ignoring!\n",
      "face_normals all zero, ignoring!\n",
      "face_normals all zero, ignoring!\n",
      "face_normals all zero, ignoring!\n",
      "face_normals all zero, ignoring!\n",
      "face_normals all zero, ignoring!\n",
      "face_normals all zero, ignoring!\n",
      "face_normals all zero, ignoring!\n",
      "face_normals all zero, ignoring!\n",
      "face_normals all zero, ignoring!\n",
      "face_normals all zero, ignoring!\n",
      "face_normals all zero, ignoring!\n",
      "face_normals all zero, ignoring!\n",
      "face_normals all zero, ignoring!\n",
      "face_normals all zero, ignoring!\n",
      "face_normals all zero, ignoring!\n",
      "face_normals all zero, ignoring!\n",
      "face_normals all zero, ignoring!\n",
      "face_normals all zero, ignoring!\n",
      "face_normals all zero, ignoring!\n",
      "face_normals all zero, ignoring!\n",
      "face_normals all zero, ignoring!\n",
      "face_normals all zero, ignoring!\n",
      "face_normals all zero, ignoring!\n",
      "face_normals all zero, ignoring!\n",
      "face_normals all zero, ignoring!\n",
      "face_normals all zero, ignoring!\n",
      "face_normals all zero, ignoring!\n",
      "face_normals all zero, ignoring!\n",
      "face_normals all zero, ignoring!\n",
      "face_normals all zero, ignoring!\n",
      "face_normals all zero, ignoring!\n",
      "face_normals all zero, ignoring!\n",
      "face_normals all zero, ignoring!\n",
      "face_normals all zero, ignoring!\n",
      "face_normals all zero, ignoring!\n",
      "face_normals all zero, ignoring!\n",
      "face_normals all zero, ignoring!\n",
      "face_normals all zero, ignoring!\n",
      "face_normals all zero, ignoring!\n",
      "face_normals all zero, ignoring!\n",
      "face_normals all zero, ignoring!\n",
      "face_normals all zero, ignoring!\n",
      "face_normals all zero, ignoring!\n",
      "face_normals all zero, ignoring!\n",
      "face_normals all zero, ignoring!\n",
      "face_normals all zero, ignoring!\n",
      "face_normals all zero, ignoring!\n",
      "face_normals all zero, ignoring!\n",
      "face_normals all zero, ignoring!\n",
      "face_normals all zero, ignoring!\n",
      "face_normals all zero, ignoring!\n",
      "face_normals all zero, ignoring!\n",
      "face_normals all zero, ignoring!\n",
      "face_normals all zero, ignoring!\n",
      "face_normals all zero, ignoring!\n",
      "face_normals all zero, ignoring!\n",
      "face_normals all zero, ignoring!\n",
      "face_normals all zero, ignoring!\n",
      "face_normals all zero, ignoring!\n",
      "face_normals all zero, ignoring!\n",
      "face_normals all zero, ignoring!\n",
      "face_normals all zero, ignoring!\n",
      "face_normals all zero, ignoring!\n",
      "face_normals all zero, ignoring!\n",
      "face_normals all zero, ignoring!\n",
      "face_normals all zero, ignoring!\n",
      "face_normals all zero, ignoring!\n",
      "face_normals all zero, ignoring!\n",
      "face_normals all zero, ignoring!\n",
      "face_normals all zero, ignoring!\n",
      "face_normals all zero, ignoring!\n",
      "face_normals all zero, ignoring!\n",
      "face_normals all zero, ignoring!\n"
     ]
    },
    {
     "name": "stdout",
     "output_type": "stream",
     "text": [
      "     Starting Calcification\n",
      "Before mesh subtraction number of skeleton edges = 1807\n",
      "Inside mesh subtraction, len(main_mesh_bbox_restricted.faces) = 107788\n"
     ]
    },
    {
     "data": {
      "application/vnd.jupyter.widget-view+json": {
       "model_id": "719f0b2011994dd3b9152663cb3d7f67",
       "version_major": 2,
       "version_minor": 0
      },
      "text/plain": [
       "HBox(children=(FloatProgress(value=1.0, bar_style='info', max=1.0), HTML(value='')))"
      ]
     },
     "metadata": {},
     "output_type": "display_data"
    },
    {
     "name": "stdout",
     "output_type": "stream",
     "text": [
      "\n",
      "Total Mesh subtraction time = 29.6702\n"
     ]
    },
    {
     "data": {
      "application/vnd.jupyter.widget-view+json": {
       "model_id": "924d179fcfa8450a9b5de3d3403cf3c1",
       "version_major": 2,
       "version_minor": 0
      },
      "text/plain": [
       "HBox(children=(FloatProgress(value=0.0, max=118.0), HTML(value='')))"
      ]
     },
     "metadata": {},
     "output_type": "display_data"
    },
    {
     "name": "stdout",
     "output_type": "stream",
     "text": [
      "\n",
      "len_subgraphs AT BEGINNING of the loop\n"
     ]
    },
    {
     "data": {
      "application/vnd.jupyter.widget-view+json": {
       "model_id": "5890bbeffe684a4ba2cdcf484e79e88e",
       "version_major": 2,
       "version_minor": 0
      },
      "text/plain": [
       "HBox(children=(FloatProgress(value=0.0, max=325.0), HTML(value='')))"
      ]
     },
     "metadata": {},
     "output_type": "display_data"
    },
    {
     "name": "stdout",
     "output_type": "stream",
     "text": [
      "all graph is one component!\n",
      "\n",
      "Total time for skeleton stitching = 0.24763774871826172\n",
      "The process was using a temp folder\n",
      "Using Distance measure skeletal_distance\n"
     ]
    },
    {
     "data": {
      "application/vnd.jupyter.widget-view+json": {
       "model_id": "807186708c264565981d40aac315a426",
       "version_major": 2,
       "version_minor": 0
      },
      "text/plain": [
       "HBox(children=(FloatProgress(value=0.0, max=228.0), HTML(value='')))"
      ]
     },
     "metadata": {},
     "output_type": "display_data"
    },
    {
     "name": "stdout",
     "output_type": "stream",
     "text": [
      "\n",
      "    Total time for skeleton and cleaning of branch 4: 2.041795015335083\n",
      "\n",
      "    -- Working on branch 5--\n",
      "     Starting Screened Poisson\n",
      "IN INPUT FILE VALIDATION LOOP\n",
      "LEAVING LOOP, MESH VALIDATED\n",
      "Using port = 2597\n",
      "xvfb-run -n 2597 -s \"-screen 0 800x600x24\" meshlabserver $@  -i /notebooks/neuron_mesh_tools/Platinum_Compartment/temp/None.off -o /notebooks/neuron_mesh_tools/Platinum_Compartment/temp/None_poisson.off -s /notebooks/neuron_mesh_tools/Platinum_Compartment/temp/poisson_123940.mls\n",
      "-----Time for Screened Poisson= 16.380316734313965\n"
     ]
    },
    {
     "name": "stderr",
     "output_type": "stream",
     "text": [
      "face_normals all zero, ignoring!\n",
      "face_normals all zero, ignoring!\n",
      "face_normals all zero, ignoring!\n",
      "face_normals all zero, ignoring!\n",
      "face_normals all zero, ignoring!\n",
      "face_normals all zero, ignoring!\n",
      "face_normals all zero, ignoring!\n",
      "face_normals all zero, ignoring!\n",
      "face_normals all zero, ignoring!\n",
      "face_normals all zero, ignoring!\n",
      "face_normals all zero, ignoring!\n",
      "face_normals all zero, ignoring!\n",
      "face_normals all zero, ignoring!\n",
      "face_normals all zero, ignoring!\n",
      "face_normals all zero, ignoring!\n",
      "face_normals all zero, ignoring!\n",
      "face_normals all zero, ignoring!\n",
      "face_normals all zero, ignoring!\n",
      "face_normals all zero, ignoring!\n",
      "face_normals all zero, ignoring!\n",
      "face_normals all zero, ignoring!\n",
      "face_normals all zero, ignoring!\n",
      "face_normals all zero, ignoring!\n",
      "face_normals all zero, ignoring!\n",
      "face_normals all zero, ignoring!\n",
      "face_normals all zero, ignoring!\n",
      "face_normals all zero, ignoring!\n",
      "face_normals all zero, ignoring!\n",
      "face_normals all zero, ignoring!\n",
      "face_normals all zero, ignoring!\n",
      "face_normals all zero, ignoring!\n",
      "face_normals all zero, ignoring!\n",
      "face_normals all zero, ignoring!\n",
      "face_normals all zero, ignoring!\n",
      "face_normals all zero, ignoring!\n",
      "face_normals all zero, ignoring!\n",
      "face_normals all zero, ignoring!\n",
      "face_normals all zero, ignoring!\n",
      "face_normals all zero, ignoring!\n",
      "face_normals all zero, ignoring!\n",
      "face_normals all zero, ignoring!\n",
      "face_normals all zero, ignoring!\n",
      "face_normals all zero, ignoring!\n",
      "face_normals all zero, ignoring!\n",
      "face_normals all zero, ignoring!\n",
      "face_normals all zero, ignoring!\n",
      "face_normals all zero, ignoring!\n",
      "face_normals all zero, ignoring!\n",
      "face_normals all zero, ignoring!\n",
      "face_normals all zero, ignoring!\n"
     ]
    },
    {
     "name": "stdout",
     "output_type": "stream",
     "text": [
      "     Starting Calcification\n",
      "Before mesh subtraction number of skeleton edges = 1295\n",
      "Inside mesh subtraction, len(main_mesh_bbox_restricted.faces) = 104099\n"
     ]
    },
    {
     "data": {
      "application/vnd.jupyter.widget-view+json": {
       "model_id": "1e1a6bf80809479698dc338959df48c0",
       "version_major": 2,
       "version_minor": 0
      },
      "text/plain": [
       "HBox(children=(FloatProgress(value=1.0, bar_style='info', max=1.0), HTML(value='')))"
      ]
     },
     "metadata": {},
     "output_type": "display_data"
    },
    {
     "name": "stdout",
     "output_type": "stream",
     "text": [
      "\n",
      "Total Mesh subtraction time = 22.4759\n"
     ]
    },
    {
     "data": {
      "application/vnd.jupyter.widget-view+json": {
       "model_id": "91e5aae2dabb40f2b7462e0664086a98",
       "version_major": 2,
       "version_minor": 0
      },
      "text/plain": [
       "HBox(children=(FloatProgress(value=0.0, max=49.0), HTML(value='')))"
      ]
     },
     "metadata": {},
     "output_type": "display_data"
    },
    {
     "name": "stdout",
     "output_type": "stream",
     "text": [
      "\n",
      "len_subgraphs AT BEGINNING of the loop\n"
     ]
    },
    {
     "data": {
      "application/vnd.jupyter.widget-view+json": {
       "model_id": "2bf10759d08742c98abf46ba68c577c6",
       "version_major": 2,
       "version_minor": 0
      },
      "text/plain": [
       "HBox(children=(FloatProgress(value=0.0, max=176.0), HTML(value='')))"
      ]
     },
     "metadata": {},
     "output_type": "display_data"
    },
    {
     "name": "stdout",
     "output_type": "stream",
     "text": [
      "all graph is one component!\n",
      "Total time for skeleton stitching = 0.13266754150390625\n",
      "The process was using a temp folder\n",
      "\n",
      "Using Distance measure skeletal_distance\n"
     ]
    },
    {
     "data": {
      "application/vnd.jupyter.widget-view+json": {
       "model_id": "5c76cd58a6e94094a4f48a02f578ec3a",
       "version_major": 2,
       "version_minor": 0
      },
      "text/plain": [
       "HBox(children=(FloatProgress(value=0.0, max=197.0), HTML(value='')))"
      ]
     },
     "metadata": {},
     "output_type": "display_data"
    },
    {
     "name": "stdout",
     "output_type": "stream",
     "text": [
      "\n",
      "    Total time for skeleton and cleaning of branch 5: 1.4448227882385254\n",
      "\n",
      "    -- Working on branch 6--\n",
      "     Starting Screened Poisson\n",
      "IN INPUT FILE VALIDATION LOOP\n",
      "LEAVING LOOP, MESH VALIDATED\n",
      "Using port = 9776\n",
      "xvfb-run -n 9776 -s \"-screen 0 800x600x24\" meshlabserver $@  -i /notebooks/neuron_mesh_tools/Platinum_Compartment/temp/None.off -o /notebooks/neuron_mesh_tools/Platinum_Compartment/temp/None_poisson.off -s /notebooks/neuron_mesh_tools/Platinum_Compartment/temp/poisson_897339.mls\n"
     ]
    },
    {
     "name": "stderr",
     "output_type": "stream",
     "text": [
      "face_normals all zero, ignoring!\n",
      "face_normals all zero, ignoring!\n"
     ]
    },
    {
     "name": "stdout",
     "output_type": "stream",
     "text": [
      "-----Time for Screened Poisson= 13.123314619064331\n"
     ]
    },
    {
     "name": "stderr",
     "output_type": "stream",
     "text": [
      "face_normals all zero, ignoring!\n",
      "face_normals all zero, ignoring!\n",
      "face_normals all zero, ignoring!\n",
      "face_normals all zero, ignoring!\n",
      "face_normals all zero, ignoring!\n",
      "face_normals all zero, ignoring!\n",
      "face_normals all zero, ignoring!\n",
      "face_normals all zero, ignoring!\n",
      "face_normals all zero, ignoring!\n",
      "face_normals all zero, ignoring!\n",
      "face_normals all zero, ignoring!\n",
      "face_normals all zero, ignoring!\n",
      "face_normals all zero, ignoring!\n",
      "face_normals all zero, ignoring!\n",
      "face_normals all zero, ignoring!\n",
      "face_normals all zero, ignoring!\n",
      "face_normals all zero, ignoring!\n",
      "face_normals all zero, ignoring!\n",
      "face_normals all zero, ignoring!\n"
     ]
    },
    {
     "name": "stdout",
     "output_type": "stream",
     "text": [
      "     Starting Calcification\n",
      "Before mesh subtraction number of skeleton edges = 1084\n",
      "Inside mesh subtraction, len(main_mesh_bbox_restricted.faces) = 58779\n"
     ]
    },
    {
     "data": {
      "application/vnd.jupyter.widget-view+json": {
       "model_id": "4e4788e3a693443f9839b789e1efc780",
       "version_major": 2,
       "version_minor": 0
      },
      "text/plain": [
       "HBox(children=(FloatProgress(value=1.0, bar_style='info', max=1.0), HTML(value='')))"
      ]
     },
     "metadata": {},
     "output_type": "display_data"
    },
    {
     "name": "stderr",
     "output_type": "stream",
     "text": [
      "No adjacent faces detected! Did you merge vertices?\n",
      "No adjacent faces detected! Did you merge vertices?\n",
      "No adjacent faces detected! Did you merge vertices?\n"
     ]
    },
    {
     "name": "stdout",
     "output_type": "stream",
     "text": [
      "\n",
      "Total Mesh subtraction time = 14.8246\n"
     ]
    },
    {
     "data": {
      "application/vnd.jupyter.widget-view+json": {
       "model_id": "293e19dd8b48460ba0052acfa7ed8356",
       "version_major": 2,
       "version_minor": 0
      },
      "text/plain": [
       "HBox(children=(FloatProgress(value=0.0, max=56.0), HTML(value='')))"
      ]
     },
     "metadata": {},
     "output_type": "display_data"
    },
    {
     "name": "stdout",
     "output_type": "stream",
     "text": [
      "\n",
      "len_subgraphs AT BEGINNING of the loop\n"
     ]
    },
    {
     "data": {
      "application/vnd.jupyter.widget-view+json": {
       "model_id": "0915bcc021704634a6b4231972fb878e",
       "version_major": 2,
       "version_minor": 0
      },
      "text/plain": [
       "HBox(children=(FloatProgress(value=0.0, max=174.0), HTML(value='')))"
      ]
     },
     "metadata": {},
     "output_type": "display_data"
    },
    {
     "name": "stdout",
     "output_type": "stream",
     "text": [
      "all graph is one component!\n",
      "Total time for skeleton stitching = 0.13246488571166992\n",
      "The process was using a temp folder\n",
      "\n",
      "Using Distance measure skeletal_distance\n"
     ]
    },
    {
     "data": {
      "application/vnd.jupyter.widget-view+json": {
       "model_id": "d3cc26d843f1488d951db46c67b39251",
       "version_major": 2,
       "version_minor": 0
      },
      "text/plain": [
       "HBox(children=(FloatProgress(value=0.0, max=153.0), HTML(value='')))"
      ]
     },
     "metadata": {},
     "output_type": "display_data"
    },
    {
     "name": "stdout",
     "output_type": "stream",
     "text": [
      "\n",
      "    Total time for skeleton and cleaning of branch 6: 0.8878355026245117\n",
      "\n",
      "    -- Working on branch 7--\n",
      "     Starting Screened Poisson\n",
      "IN INPUT FILE VALIDATION LOOP\n",
      "LEAVING LOOP, MESH VALIDATED\n",
      "Using port = 3434\n",
      "xvfb-run -n 3434 -s \"-screen 0 800x600x24\" meshlabserver $@  -i /notebooks/neuron_mesh_tools/Platinum_Compartment/temp/None.off -o /notebooks/neuron_mesh_tools/Platinum_Compartment/temp/None_poisson.off -s /notebooks/neuron_mesh_tools/Platinum_Compartment/temp/poisson_545676.mls\n",
      "-----Time for Screened Poisson= 14.878673553466797\n"
     ]
    },
    {
     "name": "stderr",
     "output_type": "stream",
     "text": [
      "face_normals all zero, ignoring!\n",
      "face_normals all zero, ignoring!\n",
      "face_normals all zero, ignoring!\n",
      "face_normals all zero, ignoring!\n",
      "face_normals all zero, ignoring!\n",
      "face_normals all zero, ignoring!\n",
      "face_normals all zero, ignoring!\n",
      "face_normals all zero, ignoring!\n",
      "face_normals all zero, ignoring!\n",
      "face_normals all zero, ignoring!\n",
      "face_normals all zero, ignoring!\n",
      "face_normals all zero, ignoring!\n",
      "face_normals all zero, ignoring!\n",
      "face_normals all zero, ignoring!\n",
      "face_normals all zero, ignoring!\n",
      "face_normals all zero, ignoring!\n",
      "face_normals all zero, ignoring!\n",
      "face_normals all zero, ignoring!\n",
      "face_normals all zero, ignoring!\n",
      "face_normals all zero, ignoring!\n",
      "face_normals all zero, ignoring!\n",
      "face_normals all zero, ignoring!\n",
      "face_normals all zero, ignoring!\n",
      "face_normals all zero, ignoring!\n",
      "face_normals all zero, ignoring!\n",
      "face_normals all zero, ignoring!\n",
      "face_normals all zero, ignoring!\n",
      "face_normals all zero, ignoring!\n",
      "face_normals all zero, ignoring!\n",
      "face_normals all zero, ignoring!\n",
      "face_normals all zero, ignoring!\n",
      "face_normals all zero, ignoring!\n",
      "face_normals all zero, ignoring!\n",
      "face_normals all zero, ignoring!\n",
      "face_normals all zero, ignoring!\n",
      "face_normals all zero, ignoring!\n",
      "face_normals all zero, ignoring!\n",
      "face_normals all zero, ignoring!\n",
      "face_normals all zero, ignoring!\n",
      "face_normals all zero, ignoring!\n",
      "face_normals all zero, ignoring!\n",
      "face_normals all zero, ignoring!\n",
      "face_normals all zero, ignoring!\n",
      "face_normals all zero, ignoring!\n",
      "face_normals all zero, ignoring!\n",
      "face_normals all zero, ignoring!\n"
     ]
    },
    {
     "name": "stdout",
     "output_type": "stream",
     "text": [
      "     Starting Calcification\n",
      "Before mesh subtraction number of skeleton edges = 1131\n",
      "Inside mesh subtraction, len(main_mesh_bbox_restricted.faces) = 58543\n"
     ]
    },
    {
     "data": {
      "application/vnd.jupyter.widget-view+json": {
       "model_id": "a7c3fda4ce5a463d92e183e54ac1dec2",
       "version_major": 2,
       "version_minor": 0
      },
      "text/plain": [
       "HBox(children=(FloatProgress(value=1.0, bar_style='info', max=1.0), HTML(value='')))"
      ]
     },
     "metadata": {},
     "output_type": "display_data"
    },
    {
     "name": "stderr",
     "output_type": "stream",
     "text": [
      "No adjacent faces detected! Did you merge vertices?\n"
     ]
    },
    {
     "name": "stdout",
     "output_type": "stream",
     "text": [
      "\n",
      "Total Mesh subtraction time = 16.4837\n"
     ]
    },
    {
     "data": {
      "application/vnd.jupyter.widget-view+json": {
       "model_id": "8fa971a3009443c4b867e3d6879465b7",
       "version_major": 2,
       "version_minor": 0
      },
      "text/plain": [
       "HBox(children=(FloatProgress(value=0.0, max=48.0), HTML(value='')))"
      ]
     },
     "metadata": {},
     "output_type": "display_data"
    },
    {
     "name": "stdout",
     "output_type": "stream",
     "text": [
      "\n",
      "len_subgraphs AT BEGINNING of the loop\n"
     ]
    },
    {
     "data": {
      "application/vnd.jupyter.widget-view+json": {
       "model_id": "71599c265bf242279aa4f8bb1f3843e3",
       "version_major": 2,
       "version_minor": 0
      },
      "text/plain": [
       "HBox(children=(FloatProgress(value=0.0, max=197.0), HTML(value='')))"
      ]
     },
     "metadata": {},
     "output_type": "display_data"
    },
    {
     "name": "stdout",
     "output_type": "stream",
     "text": [
      "all graph is one component!\n",
      "Total time for skeleton stitching = 0.14383554458618164\n",
      "The process was using a temp folder\n",
      "\n",
      "Using Distance measure skeletal_distance\n"
     ]
    },
    {
     "data": {
      "application/vnd.jupyter.widget-view+json": {
       "model_id": "589dab6acd014ae7b1e840959e1e6954",
       "version_major": 2,
       "version_minor": 0
      },
      "text/plain": [
       "HBox(children=(FloatProgress(value=0.0, max=161.0), HTML(value='')))"
      ]
     },
     "metadata": {},
     "output_type": "display_data"
    },
    {
     "name": "stdout",
     "output_type": "stream",
     "text": [
      "\n",
      "    Total time for skeleton and cleaning of branch 7: 1.0197889804840088\n",
      "\n",
      "    -- Working on branch 8--\n",
      "     Starting Screened Poisson\n",
      "IN INPUT FILE VALIDATION LOOP\n",
      "LEAVING LOOP, MESH VALIDATED\n",
      "Using port = 1501\n",
      "xvfb-run -n 1501 -s \"-screen 0 800x600x24\" meshlabserver $@  -i /notebooks/neuron_mesh_tools/Platinum_Compartment/temp/None.off -o /notebooks/neuron_mesh_tools/Platinum_Compartment/temp/None_poisson.off -s /notebooks/neuron_mesh_tools/Platinum_Compartment/temp/poisson_152319.mls\n"
     ]
    },
    {
     "name": "stderr",
     "output_type": "stream",
     "text": [
      "face_normals all zero, ignoring!\n",
      "face_normals all zero, ignoring!\n",
      "face_normals all zero, ignoring!\n",
      "face_normals all zero, ignoring!\n",
      "face_normals all zero, ignoring!\n",
      "face_normals all zero, ignoring!\n",
      "face_normals all zero, ignoring!\n",
      "face_normals all zero, ignoring!\n",
      "face_normals all zero, ignoring!\n",
      "face_normals all zero, ignoring!\n"
     ]
    },
    {
     "name": "stdout",
     "output_type": "stream",
     "text": [
      "-----Time for Screened Poisson= 8.818397283554077\n",
      "     Starting Calcification\n",
      "Before mesh subtraction number of skeleton edges = 546\n",
      "Inside mesh subtraction, len(main_mesh_bbox_restricted.faces) = 29598\n"
     ]
    },
    {
     "data": {
      "application/vnd.jupyter.widget-view+json": {
       "model_id": "0c17486ee94f4d069096a6b4aa7c5867",
       "version_major": 2,
       "version_minor": 0
      },
      "text/plain": [
       "HBox(children=(FloatProgress(value=1.0, bar_style='info', max=1.0), HTML(value='')))"
      ]
     },
     "metadata": {},
     "output_type": "display_data"
    },
    {
     "name": "stdout",
     "output_type": "stream",
     "text": [
      "\n",
      "Total Mesh subtraction time = 6.5317\n"
     ]
    },
    {
     "data": {
      "application/vnd.jupyter.widget-view+json": {
       "model_id": "309a55cfe7034f1e86ecb0118c59d4e9",
       "version_major": 2,
       "version_minor": 0
      },
      "text/plain": [
       "HBox(children=(FloatProgress(value=0.0, max=30.0), HTML(value='')))"
      ]
     },
     "metadata": {},
     "output_type": "display_data"
    },
    {
     "name": "stdout",
     "output_type": "stream",
     "text": [
      "\n",
      "len_subgraphs AT BEGINNING of the loop\n"
     ]
    },
    {
     "data": {
      "application/vnd.jupyter.widget-view+json": {
       "model_id": "0736b668e95e43d388c4bfbd4e878d33",
       "version_major": 2,
       "version_minor": 0
      },
      "text/plain": [
       "HBox(children=(FloatProgress(value=0.0, max=87.0), HTML(value='')))"
      ]
     },
     "metadata": {},
     "output_type": "display_data"
    },
    {
     "name": "stdout",
     "output_type": "stream",
     "text": [
      "all graph is one component!\n",
      "Total time for skeleton stitching = 0.08143782615661621\n",
      "The process was using a temp folder\n",
      "\n",
      "Using Distance measure skeletal_distance\n"
     ]
    },
    {
     "data": {
      "application/vnd.jupyter.widget-view+json": {
       "model_id": "1d085f555090443184fdd394bbf21b9c",
       "version_major": 2,
       "version_minor": 0
      },
      "text/plain": [
       "HBox(children=(FloatProgress(value=0.0, max=61.0), HTML(value='')))"
      ]
     },
     "metadata": {},
     "output_type": "display_data"
    },
    {
     "name": "stdout",
     "output_type": "stream",
     "text": [
      "\n",
      "    Total time for skeleton and cleaning of branch 8: 0.18537473678588867\n",
      "\n",
      "    -- Working on branch 9--\n",
      "     Starting Screened Poisson\n",
      "IN INPUT FILE VALIDATION LOOP\n",
      "LEAVING LOOP, MESH VALIDATED\n",
      "Using port = 2841\n",
      "xvfb-run -n 2841 -s \"-screen 0 800x600x24\" meshlabserver $@  -i /notebooks/neuron_mesh_tools/Platinum_Compartment/temp/None.off -o /notebooks/neuron_mesh_tools/Platinum_Compartment/temp/None_poisson.off -s /notebooks/neuron_mesh_tools/Platinum_Compartment/temp/poisson_46881.mls\n"
     ]
    },
    {
     "name": "stderr",
     "output_type": "stream",
     "text": [
      "face_normals all zero, ignoring!\n",
      "face_normals all zero, ignoring!\n",
      "face_normals all zero, ignoring!\n",
      "face_normals all zero, ignoring!\n",
      "face_normals all zero, ignoring!\n",
      "face_normals all zero, ignoring!\n",
      "face_normals all zero, ignoring!\n"
     ]
    },
    {
     "name": "stdout",
     "output_type": "stream",
     "text": [
      "-----Time for Screened Poisson= 6.3865132331848145\n",
      "     Starting Calcification\n",
      "Before mesh subtraction number of skeleton edges = 214\n",
      "Inside mesh subtraction, len(main_mesh_bbox_restricted.faces) = 7718\n"
     ]
    },
    {
     "data": {
      "application/vnd.jupyter.widget-view+json": {
       "model_id": "3ca871be5e0a46a18a611037f6a878b2",
       "version_major": 2,
       "version_minor": 0
      },
      "text/plain": [
       "HBox(children=(FloatProgress(value=1.0, bar_style='info', max=1.0), HTML(value='')))"
      ]
     },
     "metadata": {},
     "output_type": "display_data"
    },
    {
     "name": "stdout",
     "output_type": "stream",
     "text": [
      "\n",
      "Total Mesh subtraction time = 1.1003\n"
     ]
    },
    {
     "data": {
      "application/vnd.jupyter.widget-view+json": {
       "model_id": "77ce80edd6694415979b3f3247cbc183",
       "version_major": 2,
       "version_minor": 0
      },
      "text/plain": [
       "HBox(children=(FloatProgress(value=0.0, max=8.0), HTML(value='')))"
      ]
     },
     "metadata": {},
     "output_type": "display_data"
    },
    {
     "name": "stdout",
     "output_type": "stream",
     "text": [
      "\n",
      "len_subgraphs AT BEGINNING of the loop\n"
     ]
    },
    {
     "data": {
      "application/vnd.jupyter.widget-view+json": {
       "model_id": "4aa91eb1c8d849cfb5b83189dd6b7912",
       "version_major": 2,
       "version_minor": 0
      },
      "text/plain": [
       "HBox(children=(FloatProgress(value=0.0, max=22.0), HTML(value='')))"
      ]
     },
     "metadata": {},
     "output_type": "display_data"
    },
    {
     "name": "stdout",
     "output_type": "stream",
     "text": [
      "all graph is one component!\n",
      "Total time for skeleton stitching = 0.05577397346496582\n",
      "The process was using a temp folder\n",
      "\n",
      "Using Distance measure skeletal_distance\n"
     ]
    },
    {
     "data": {
      "application/vnd.jupyter.widget-view+json": {
       "model_id": "63008d4a600748cfac7594e90c8e826f",
       "version_major": 2,
       "version_minor": 0
      },
      "text/plain": [
       "HBox(children=(FloatProgress(value=0.0, max=10.0), HTML(value='')))"
      ]
     },
     "metadata": {},
     "output_type": "display_data"
    },
    {
     "name": "stdout",
     "output_type": "stream",
     "text": [
      "\n",
      "    Total time for skeleton and cleaning of branch 9: 0.0382232666015625\n",
      "\n",
      "    -- Working on branch 10--\n",
      "     Starting Screened Poisson\n",
      "IN INPUT FILE VALIDATION LOOP\n",
      "LEAVING LOOP, MESH VALIDATED\n",
      "Using port = 8176\n",
      "xvfb-run -n 8176 -s \"-screen 0 800x600x24\" meshlabserver $@  -i /notebooks/neuron_mesh_tools/Platinum_Compartment/temp/None.off -o /notebooks/neuron_mesh_tools/Platinum_Compartment/temp/None_poisson.off -s /notebooks/neuron_mesh_tools/Platinum_Compartment/temp/poisson_256857.mls\n"
     ]
    },
    {
     "name": "stderr",
     "output_type": "stream",
     "text": [
      "face_normals all zero, ignoring!\n"
     ]
    },
    {
     "name": "stdout",
     "output_type": "stream",
     "text": [
      "-----Time for Screened Poisson= 5.294917106628418\n",
      "     Starting Calcification\n",
      "only one skeleton so no stacking needed\n",
      "Before mesh subtraction number of skeleton edges = 21\n",
      "Inside mesh subtraction, len(main_mesh_bbox_restricted.faces) = 1736\n"
     ]
    },
    {
     "data": {
      "application/vnd.jupyter.widget-view+json": {
       "model_id": "a189b9ab7468473b923e004612f9f912",
       "version_major": 2,
       "version_minor": 0
      },
      "text/plain": [
       "HBox(children=(FloatProgress(value=1.0, bar_style='info', max=1.0), HTML(value='')))"
      ]
     },
     "metadata": {},
     "output_type": "display_data"
    },
    {
     "name": "stdout",
     "output_type": "stream",
     "text": [
      "\n",
      "Total Mesh subtraction time = 0.1183\n"
     ]
    },
    {
     "data": {
      "application/vnd.jupyter.widget-view+json": {
       "model_id": "338fd098e991480ea052d3991f978624",
       "version_major": 2,
       "version_minor": 0
      },
      "text/plain": [
       "HBox(children=(FloatProgress(value=0.0, max=2.0), HTML(value='')))"
      ]
     },
     "metadata": {},
     "output_type": "display_data"
    },
    {
     "name": "stdout",
     "output_type": "stream",
     "text": [
      "\n",
      "len_subgraphs AT BEGINNING of the loop\n"
     ]
    },
    {
     "data": {
      "application/vnd.jupyter.widget-view+json": {
       "model_id": "c9bb0b922c634d4c813d6f6eb9b00992",
       "version_major": 2,
       "version_minor": 0
      },
      "text/plain": [
       "HBox(children=(FloatProgress(value=0.0, max=3.0), HTML(value='')))"
      ]
     },
     "metadata": {},
     "output_type": "display_data"
    },
    {
     "name": "stdout",
     "output_type": "stream",
     "text": [
      "all graph is one component!\n",
      "Total time for skeleton stitching = 0.02981281280517578\n",
      "The process was using a temp folder\n",
      "\n",
      "Using Distance measure skeletal_distance\n"
     ]
    },
    {
     "data": {
      "application/vnd.jupyter.widget-view+json": {
       "model_id": "efe5a09262774e4aab7e6d0453626ce6",
       "version_major": 2,
       "version_minor": 0
      },
      "text/plain": [
       "HBox(children=(FloatProgress(value=0.0, max=4.0), HTML(value='')))"
      ]
     },
     "metadata": {},
     "output_type": "display_data"
    },
    {
     "name": "stdout",
     "output_type": "stream",
     "text": [
      "    Total time for skeleton and cleaning of branch 10: 0.02490687370300293\n",
      "Total time for skeletonization = 673.5598750114441\n"
     ]
    }
   ],
   "source": [
    "sk = reload(sk)\n",
    "import time\n",
    "global_start_time = time.time()\n",
    "\n",
    "for j,(soma_containing_mesh_idx,mesh_data) in enumerate(soma_touching_mesh_data.items()):\n",
    "    print(f\"\\n-- Working on Soma Continaing Mesh {j}--\")\n",
    "    current_branches = mesh_data[\"branch_meshes\"]\n",
    "    \n",
    "    #skeletonize each of the branches\n",
    "    total_skeletons = []\n",
    "    \n",
    "    for z,branch in enumerate(current_branches):\n",
    "        print(f\"\\n    -- Working on branch {z}--\")\n",
    "        curren_skeleton = sk.skeletonize_connected_branch(branch)\n",
    "        #clean the skeleton\n",
    "            # --------  Doing the cleaning ------- #\n",
    "        clean_time = time.time()\n",
    "        filter_end_node_length=5000,\n",
    "        new_cleaned_skeleton = sk.clean_skeleton(curren_skeleton,\n",
    "                                distance_func=sk.skeletal_distance,\n",
    "                          min_distance_to_junction=filter_end_node_length,\n",
    "                          return_skeleton=True,\n",
    "                          print_flag=False)\n",
    "        print(f\"    Total time for skeleton and cleaning of branch {z}: {time.time() - clean_time}\")\n",
    "        total_skeletons.append(new_cleaned_skeleton)\n",
    "    soma_touching_mesh_data[j][\"branch_skeletons\"] = total_skeletons\n",
    "    \n",
    "print(f\"Total time for skeletonization = {time.time() - global_start_time}\")"
   ]
  },
  {
   "cell_type": "code",
   "execution_count": 74,
   "metadata": {},
   "outputs": [
    {
     "name": "stdout",
     "output_type": "stream",
     "text": [
      "hello\n"
     ]
    }
   ],
   "source": [
    "# Save our current\n",
    "print(\"hello\")\n",
    "saved_file = \"soma_touching_mesh_data.npz\"\n",
    "np.savez(saved_file,soma_touching_mesh_data=soma_touching_mesh_data)"
   ]
  },
  {
   "cell_type": "markdown",
   "metadata": {},
   "source": [
    "# Load in the data and look at quality of skeletons"
   ]
  },
  {
   "cell_type": "code",
   "execution_count": null,
   "metadata": {},
   "outputs": [],
   "source": [
    "\"\"\"\n",
    "mesh #9 is the axon branch\n",
    "\"\"\""
   ]
  },
  {
   "cell_type": "code",
   "execution_count": 99,
   "metadata": {
    "jupyter": {
     "outputs_hidden": true
    }
   },
   "outputs": [
    {
     "data": {
      "text/plain": [
       "{0: [1, 4, 6, 7, 8, 9], 1: [0, 1, 2, 3, 5, 10]}"
      ]
     },
     "execution_count": 99,
     "metadata": {},
     "output_type": "execute_result"
    }
   ],
   "source": [
    "from importlib import reload\n",
    "import numpy_utils as nu\n",
    "import skeleton_utils as sk\n",
    "\n",
    "\n",
    "\n",
    "current_mesh_data = nu.load_dict(saved_file)\n",
    "current_mesh_data[0][\"soma_to_piece_connectivity\"]"
   ]
  },
  {
   "cell_type": "code",
   "execution_count": 208,
   "metadata": {},
   "outputs": [
    {
     "data": {
      "text/plain": [
       "341.4241057686761"
      ]
     },
     "execution_count": 208,
     "metadata": {},
     "output_type": "execute_result"
    }
   ],
   "source": [
    "np.linalg.norm(unique_rows[0]-unique_rows[2])"
   ]
  },
  {
   "cell_type": "code",
   "execution_count": 215,
   "metadata": {},
   "outputs": [
    {
     "data": {
      "text/plain": [
       "(2025,)"
      ]
     },
     "execution_count": 215,
     "metadata": {},
     "output_type": "execute_result"
    }
   ],
   "source": [
    "edges_with_coefficients.shape\n",
    "weights.shape"
   ]
  },
  {
   "cell_type": "code",
   "execution_count": 216,
   "metadata": {},
   "outputs": [
    {
     "data": {
      "text/plain": [
       "array([[0.00000000e+00, 2.00000000e+00, 3.41424106e+02],\n",
       "       [0.00000000e+00, 1.00000000e+00, 3.80573620e+02],\n",
       "       [2.00000000e+00, 3.00000000e+00, 4.52102300e+02],\n",
       "       ...,\n",
       "       [2.00100000e+03, 2.00200000e+03, 2.88889235e+02],\n",
       "       [2.00200000e+03, 2.00300000e+03, 4.30385072e+02],\n",
       "       [2.00300000e+03, 2.00400000e+03, 3.25514270e+02]])"
      ]
     },
     "execution_count": 216,
     "metadata": {},
     "output_type": "execute_result"
    }
   ],
   "source": []
  },
  {
   "cell_type": "code",
   "execution_count": 229,
   "metadata": {},
   "outputs": [],
   "source": [
    "\"\"\"\n",
    "#Planning algorithm for weights\n",
    "\n",
    "\n",
    "xu = reload(xu)\n",
    "\n",
    "staring_edges = branch_skeleton\n",
    "                              \n",
    "stitch_print=False\n",
    "    \n",
    "\n",
    "stitch_start = time.time()\n",
    "\n",
    "all_skeleton_vertices = staring_edges.reshape(-1,3)\n",
    "unique_rows,indices = np.unique(all_skeleton_vertices,return_inverse=True,axis=0)\n",
    "edges_with_coefficients = indices.reshape(-1,2)\n",
    "\n",
    "if stitch_print:\n",
    "    print(f\"Getting the unique rows and indices= {time.time()-stitch_start}\")\n",
    "stitch_start = time.time()\n",
    "\n",
    "#create the graph from the edges\n",
    "B = nx.Graph()\n",
    "B.add_nodes_from([(x,{\"coordinates\":y}) for x,y in enumerate(unique_rows)])\n",
    "weights = np.linalg.norm(unique_rows[edges_with_coefficients[:,0]] - unique_rows[edges_with_coefficients[:,1]],axis=1)\n",
    "edges_with_weights = np.hstack([edges_with_coefficients,weights.reshape(-1,1)])\n",
    "B.add_weighted_edges_from(edges_with_weights)\n",
    "\n",
    "if stitch_print:\n",
    "    print(f\"Putting edges into networkx graph= {time.time()-stitch_start}\")\n",
    "stitch_start = time.time()\n",
    "\n",
    "# find the shortest distance between the two different subgraphs:\n",
    "from scipy.spatial import distance_matrix\n",
    "\n",
    "UG = B.to_undirected()\n",
    "\n",
    "if stitch_print:\n",
    "    print(f\"Making undirected graph= {time.time()-stitch_start}\")\n",
    "stitch_start = time.time()\n",
    "\n",
    "#UG.remove_edges_from(nx.selfloop_edges(UG))\n",
    "UG = xu.remove_selfloops(UG)\n",
    "\n",
    "\n",
    "\"\"\""
   ]
  },
  {
   "cell_type": "code",
   "execution_count": 231,
   "metadata": {},
   "outputs": [
    {
     "data": {
      "application/vnd.jupyter.widget-view+json": {
       "model_id": "c2ec5daea6bb4a3fa0c2926acc7dc203",
       "version_major": 2,
       "version_minor": 0
      },
      "text/plain": [
       "VBox(children=(Figure(camera=PerspectiveCamera(fov=46.0, position=(0.0, 0.0, 2.0), quaternion=(0.0, 0.0, 0.0, …"
      ]
     },
     "metadata": {},
     "output_type": "display_data"
    }
   ],
   "source": [
    "branch_index = 2\n",
    "branch_mesh = current_mesh_data[0][\"branch_meshes\"][branch_index]\n",
    "branch_skeleton = current_mesh_data[0][\"branch_skeletons\"][branch_index]\n",
    "# will show a skeleton its mesh\n",
    "sk = reload(sk)\n",
    "\n",
    "\n",
    "import networkx as nx\n",
    "sk_graph = sk.convert_skeleton_to_graph(branch_skeleton)\n",
    "node_degrees = dict(sk_graph.degree)\n",
    "three_nodes = [k for k,v in node_degrees.items() if v == 3]\n",
    "greater_3_nodes = [k for k,v in node_degrees.items() if v > 3]\n",
    "\n",
    "\n",
    "#get the vertices of those nodes\n",
    "import networkx_utils as xu\n",
    "xu = reload(xu)\n",
    "node3_coordinates = xu.get_node_attributes(sk_graph,\"coordinates\",three_nodes)\n",
    "greater3_coordinates = xu.get_node_attributes(sk_graph,\"coordinates\",greater_3_nodes)\n",
    "\n",
    "\n",
    "import ipyvolume as ipv\n",
    "\n",
    "sk.graph_skeleton_and_mesh(\n",
    "                            #other_meshes=[current_neuron],\n",
    "                          other_skeletons=[branch_skeleton],\n",
    "                          other_scatter=[node3_coordinates,greater3_coordinates],\n",
    "                          other_scatter_colors=[[1,0,0,0.5],[1,1,1,0.5]],\n",
    "                          scatter_size=0.5\n",
    "                        )"
   ]
  }
 ],
 "metadata": {
  "kernelspec": {
   "display_name": "Python 3",
   "language": "python",
   "name": "python3"
  },
  "language_info": {
   "codemirror_mode": {
    "name": "ipython",
    "version": 3
   },
   "file_extension": ".py",
   "mimetype": "text/x-python",
   "name": "python",
   "nbconvert_exporter": "python",
   "pygments_lexer": "ipython3",
   "version": "3.6.9"
  }
 },
 "nbformat": 4,
 "nbformat_minor": 4
}
