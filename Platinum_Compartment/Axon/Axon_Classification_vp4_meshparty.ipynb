{
 "cells": [
  {
   "cell_type": "code",
   "execution_count": 1,
   "metadata": {},
   "outputs": [],
   "source": [
    "from os import sys\n",
    "sys.path.append(\"/meshAfterParty/\")\n",
    "#sys.path.append(\"../../meshAfterParty/meshAfterParty\")"
   ]
  },
  {
   "cell_type": "code",
   "execution_count": 2,
   "metadata": {},
   "outputs": [
    {
     "name": "stderr",
     "output_type": "stream",
     "text": [
      "WARNING:root:Need to pip install annotationframeworkclient to repair mesh with pychunkedgraph\n",
      "WARNING:root:Need to pip install annotationframeworkclient to use dataset_name parameters\n"
     ]
    }
   ],
   "source": [
    "from importlib import reload\n",
    "import os\n",
    "from pathlib import Path\n",
    "os.getcwd()\n",
    "\n",
    "import neuron_utils as nru\n",
    "nru = reload(nru)\n",
    "import neuron\n",
    "neuron=reload(neuron)\n",
    "import neuron_visualizations as nviz\n",
    "import time"
   ]
  },
  {
   "cell_type": "code",
   "execution_count": 3,
   "metadata": {},
   "outputs": [],
   "source": [
    "import system_utils as su"
   ]
  },
  {
   "cell_type": "markdown",
   "metadata": {},
   "source": [
    "# Loading the meshparty object with adaptive correspondence"
   ]
  },
  {
   "cell_type": "code",
   "execution_count": 45,
   "metadata": {},
   "outputs": [
    {
     "data": {
      "text/plain": [
       "'medianwer'"
      ]
     },
     "execution_count": 45,
     "metadata": {},
     "output_type": "execute_result"
    }
   ],
   "source": [
    "f = \"lower\"\n",
    "f.replace(\"lo\",\"median\")"
   ]
  },
  {
   "cell_type": "code",
   "execution_count": 6,
   "metadata": {},
   "outputs": [
    {
     "name": "stdout",
     "output_type": "stream",
     "text": [
      "Inside decompress neuron and decomposition_type = meshparty\n",
      "Passed faces original mesh check\n",
      "Passed vertices original mesh check\n"
     ]
    },
    {
     "data": {
      "application/vnd.jupyter.widget-view+json": {
       "model_id": "0eaff0f8f71942009f77af08312e20a8",
       "version_major": 2,
       "version_minor": 0
      },
      "text/plain": [
       "HBox(children=(FloatProgress(value=0.0, max=61.0), HTML(value='')))"
      ]
     },
     "metadata": {},
     "output_type": "display_data"
    },
    {
     "name": "stdout",
     "output_type": "stream",
     "text": [
      "\n"
     ]
    },
    {
     "data": {
      "application/vnd.jupyter.widget-view+json": {
       "model_id": "27c9bed9f2da4e31bc8f76c091b3982b",
       "version_major": 2,
       "version_minor": 0
      },
      "text/plain": [
       "HBox(children=(FloatProgress(value=0.0, max=45.0), HTML(value='')))"
      ]
     },
     "metadata": {},
     "output_type": "display_data"
    },
    {
     "name": "stdout",
     "output_type": "stream",
     "text": [
      "\n"
     ]
    },
    {
     "data": {
      "application/vnd.jupyter.widget-view+json": {
       "model_id": "a7f787347f18423892d0d2b3ecef3dda",
       "version_major": 2,
       "version_minor": 0
      },
      "text/plain": [
       "HBox(children=(FloatProgress(value=0.0, max=38.0), HTML(value='')))"
      ]
     },
     "metadata": {},
     "output_type": "display_data"
    },
    {
     "name": "stdout",
     "output_type": "stream",
     "text": [
      "\n"
     ]
    },
    {
     "data": {
      "application/vnd.jupyter.widget-view+json": {
       "model_id": "45ff20a0ccfd40b58f625b16dda5e2f7",
       "version_major": 2,
       "version_minor": 0
      },
      "text/plain": [
       "HBox(children=(FloatProgress(value=0.0, max=47.0), HTML(value='')))"
      ]
     },
     "metadata": {},
     "output_type": "display_data"
    },
    {
     "name": "stdout",
     "output_type": "stream",
     "text": [
      "\n"
     ]
    },
    {
     "data": {
      "application/vnd.jupyter.widget-view+json": {
       "model_id": "42e96f40078540c79f5bb3dd2faeef03",
       "version_major": 2,
       "version_minor": 0
      },
      "text/plain": [
       "HBox(children=(FloatProgress(value=0.0, max=33.0), HTML(value='')))"
      ]
     },
     "metadata": {},
     "output_type": "display_data"
    },
    {
     "name": "stdout",
     "output_type": "stream",
     "text": [
      "\n"
     ]
    },
    {
     "data": {
      "application/vnd.jupyter.widget-view+json": {
       "model_id": "f8a02d5fd7c340cb8806e73689b20a92",
       "version_major": 2,
       "version_minor": 0
      },
      "text/plain": [
       "HBox(children=(FloatProgress(value=0.0, max=7.0), HTML(value='')))"
      ]
     },
     "metadata": {},
     "output_type": "display_data"
    },
    {
     "name": "stdout",
     "output_type": "stream",
     "text": [
      "\n"
     ]
    },
    {
     "data": {
      "application/vnd.jupyter.widget-view+json": {
       "model_id": "982609b7b7c34bdb9e7fca8280643261",
       "version_major": 2,
       "version_minor": 0
      },
      "text/plain": [
       "HBox(children=(FloatProgress(value=0.0, max=17.0), HTML(value='')))"
      ]
     },
     "metadata": {},
     "output_type": "display_data"
    },
    {
     "name": "stdout",
     "output_type": "stream",
     "text": [
      "\n"
     ]
    },
    {
     "data": {
      "application/vnd.jupyter.widget-view+json": {
       "model_id": "c5609368bfb14055b87bb71ea9df87f1",
       "version_major": 2,
       "version_minor": 0
      },
      "text/plain": [
       "HBox(children=(FloatProgress(value=0.0, max=19.0), HTML(value='')))"
      ]
     },
     "metadata": {},
     "output_type": "display_data"
    },
    {
     "name": "stdout",
     "output_type": "stream",
     "text": [
      "\n"
     ]
    },
    {
     "data": {
      "application/vnd.jupyter.widget-view+json": {
       "model_id": "d1d29478441549b6acfe5cd482402744",
       "version_major": 2,
       "version_minor": 0
      },
      "text/plain": [
       "HBox(children=(FloatProgress(value=0.0, max=11.0), HTML(value='')))"
      ]
     },
     "metadata": {},
     "output_type": "display_data"
    },
    {
     "name": "stdout",
     "output_type": "stream",
     "text": [
      "\n"
     ]
    },
    {
     "data": {
      "application/vnd.jupyter.widget-view+json": {
       "model_id": "28169feecf2a424085b9381068c8d1c6",
       "version_major": 2,
       "version_minor": 0
      },
      "text/plain": [
       "HBox(children=(FloatProgress(value=0.0, max=1.0), HTML(value='')))"
      ]
     },
     "metadata": {},
     "output_type": "display_data"
    },
    {
     "name": "stdout",
     "output_type": "stream",
     "text": [
      "\n",
      "\n",
      "\n",
      "------Working on limb 0 -------\n",
      "inside loop len(curr_limb_divided_meshes) = 61 len(curr_limb_divided_skeletons) = 61\n",
      "--- Working on soma_idx: 0----\n",
      "Total time for filtering periphery meshes = 0.34769248962402344\n",
      "touching_pieces = [36]\n",
      "Total time for mesh connectivity = 0.703364372253418\n",
      "Touching piece endpoints = [[754818.09674815 945265.28459266 874984.43059141]\n",
      " [758656.5463299  950259.33381173 872013.37980394]]\n",
      "inside inner loop len(curr_limb_divided_skeletons) = 61\n",
      "closest_endpoint = [758656.5463299  950259.33381173 872013.37980394]\n",
      "Starting_edge inside branches_to_conept = [[754818.09674815 945265.28459266 874984.43059141]\n",
      " [758656.5463299  950259.33381173 872013.37980394]]\n",
      "At the start, starting_node (in terms of the skeleton, that shouldn't match the starting edge) = [39]\n",
      "printing out current edge:\n",
      "[[758656.5463299  950259.33381173 872013.37980394]\n",
      " [754818.09674815 945265.28459266 874984.43059141]]\n",
      "edge_endpoints_to_process was empty so exiting loop after 61 iterations\n",
      "starting_node in concept map (that should match the starting edge) = 36\n",
      "Total time for branches to concept conversion = 0.6439447402954102\n",
      "\n",
      "recovered_touching_piece = [36]\n",
      "After concept mapping size = 61\n",
      "Local time for concept mapping = 2.0275626182556152\n",
      "\n",
      "\n",
      "------Working on limb 1 -------\n",
      "inside loop len(curr_limb_divided_meshes) = 45 len(curr_limb_divided_skeletons) = 45\n",
      "Merge limb detected\n",
      "--- Working on soma_idx: 0----\n",
      "Total time for filtering periphery meshes = 0.22856354713439941\n",
      "touching_pieces = [12]\n",
      "Total time for mesh connectivity = 0.184190034866333\n",
      "Touching piece endpoints = [[763319.47401928 961876.86149876 878069.74620729]\n",
      " [783703.69662938 967336.72385451 880458.99853307]]\n",
      "inside inner loop len(curr_limb_divided_skeletons) = 45\n",
      "closest_endpoint = [763319.47401928 961876.86149876 878069.74620729]\n",
      "Starting_edge inside branches_to_conept = [[763319.47401928 961876.86149876 878069.74620729]\n",
      " [783703.69662938 967336.72385451 880458.99853307]]\n",
      "At the start, starting_node (in terms of the skeleton, that shouldn't match the starting edge) = [12]\n",
      "printing out current edge:\n",
      "[[763319.47401928 961876.86149876 878069.74620729]\n",
      " [783703.69662938 967336.72385451 880458.99853307]]\n",
      "edge_endpoints_to_process was empty so exiting loop after 45 iterations\n",
      "starting_node in concept map (that should match the starting edge) = 12\n",
      "Total time for branches to concept conversion = 0.4200758934020996\n",
      "\n",
      "recovered_touching_piece = [12]\n",
      "After concept mapping size = 45\n",
      "--- Working on soma_idx: 1----\n",
      "Total time for filtering periphery meshes = 0.1682593822479248\n",
      "touching_pieces = [39]\n",
      "Total time for mesh connectivity = 0.8063170909881592\n",
      "Touching piece endpoints = [[846538.69876646 998521.21722096 862460.44584884]\n",
      " [857470.59801583 996491.14600112 860725.64803815]]\n",
      "inside inner loop len(curr_limb_divided_skeletons) = 45\n",
      "closest_endpoint = [857470.59801583 996491.14600112 860725.64803815]\n",
      "Starting_edge inside branches_to_conept = [[846538.69876646 998521.21722096 862460.44584884]\n",
      " [857470.59801583 996491.14600112 860725.64803815]]\n",
      "At the start, starting_node (in terms of the skeleton, that shouldn't match the starting edge) = [40]\n",
      "printing out current edge:\n",
      "[[857470.59801583 996491.14600112 860725.64803815]\n",
      " [846538.69876646 998521.21722096 862460.44584884]]\n",
      "edge_endpoints_to_process was empty so exiting loop after 45 iterations\n",
      "starting_node in concept map (that should match the starting edge) = 39\n",
      "Total time for branches to concept conversion = 0.4430530071258545\n",
      "\n",
      "recovered_touching_piece = [39]\n",
      "After concept mapping size = 45\n",
      "Local time for concept mapping = 2.7176215648651123\n",
      "\n",
      "\n",
      "------Working on limb 2 -------\n",
      "inside loop len(curr_limb_divided_meshes) = 38 len(curr_limb_divided_skeletons) = 38\n",
      "--- Working on soma_idx: 1----\n",
      "Total time for filtering periphery meshes = 0.11232352256774902\n",
      "touching_pieces = [5]\n",
      "Total time for mesh connectivity = 0.3373260498046875\n",
      "Touching piece endpoints = [[ 862645.9448396  1002884.0699445   880118.87865598]\n",
      " [ 873768.70021299 1032973.86489271  874313.55777329]]\n",
      "inside inner loop len(curr_limb_divided_skeletons) = 38\n",
      "closest_endpoint = [ 862645.9448396  1002884.0699445   880118.87865598]\n",
      "Starting_edge inside branches_to_conept = [[ 862645.9448396  1002884.0699445   880118.87865598]\n",
      " [ 873768.70021299 1032973.86489271  874313.55777329]]\n",
      "At the start, starting_node (in terms of the skeleton, that shouldn't match the starting edge) = [5]\n",
      "printing out current edge:\n",
      "[[ 862645.9448396  1002884.0699445   880118.87865598]\n",
      " [ 873768.70021299 1032973.86489271  874313.55777329]]\n",
      "edge_endpoints_to_process was empty so exiting loop after 38 iterations\n",
      "starting_node in concept map (that should match the starting edge) = 5\n",
      "Total time for branches to concept conversion = 0.36862921714782715\n",
      "\n",
      "recovered_touching_piece = [5]\n",
      "After concept mapping size = 38\n",
      "Local time for concept mapping = 1.026705265045166\n",
      "\n",
      "\n",
      "------Working on limb 3 -------\n",
      "inside loop len(curr_limb_divided_meshes) = 47 len(curr_limb_divided_skeletons) = 47\n",
      "--- Working on soma_idx: 0----\n",
      "Total time for filtering periphery meshes = 0.19521498680114746\n",
      "touching_pieces = [0]\n",
      "Total time for mesh connectivity = 0.2980685234069824\n",
      "Touching piece endpoints = [[758015.51720251 960334.03137976 866058.72245698]\n",
      " [779456.01263424 968505.54590413 847482.64810226]]\n",
      "inside inner loop len(curr_limb_divided_skeletons) = 47\n",
      "closest_endpoint = [758015.51720251 960334.03137976 866058.72245698]\n",
      "Starting_edge inside branches_to_conept = [[758015.51720251 960334.03137976 866058.72245698]\n",
      " [779456.01263424 968505.54590413 847482.64810226]]\n",
      "At the start, starting_node (in terms of the skeleton, that shouldn't match the starting edge) = [0]\n",
      "printing out current edge:\n",
      "[[758015.51720251 960334.03137976 866058.72245698]\n",
      " [779456.01263424 968505.54590413 847482.64810226]]\n",
      "edge_endpoints_to_process was empty so exiting loop after 47 iterations\n",
      "starting_node in concept map (that should match the starting edge) = 0\n",
      "Total time for branches to concept conversion = 0.31586551666259766\n",
      "\n",
      "recovered_touching_piece = [0]\n",
      "After concept mapping size = 47\n",
      "Local time for concept mapping = 0.9783196449279785\n",
      "\n",
      "\n",
      "------Working on limb 4 -------\n",
      "inside loop len(curr_limb_divided_meshes) = 33 len(curr_limb_divided_skeletons) = 33\n",
      "--- Working on soma_idx: 0----\n",
      "Total time for filtering periphery meshes = 0.15572023391723633\n",
      "touching_pieces = [2]\n",
      "Total time for mesh connectivity = 0.19259214401245117\n",
      "Touching piece endpoints = [[693257.59056053 968712.85909033 877850.36525034]\n",
      " [746921.13943236 963351.4204698  884152.30584531]]\n",
      "inside inner loop len(curr_limb_divided_skeletons) = 33\n",
      "closest_endpoint = [746921.13943236 963351.4204698  884152.30584531]\n",
      "Starting_edge inside branches_to_conept = [[693257.59056053 968712.85909033 877850.36525034]\n",
      " [746921.13943236 963351.4204698  884152.30584531]]\n",
      "At the start, starting_node (in terms of the skeleton, that shouldn't match the starting edge) = [20]\n",
      "printing out current edge:\n",
      "[[746921.13943236 963351.4204698  884152.30584531]\n",
      " [693257.59056053 968712.85909033 877850.36525034]]\n",
      "edge_endpoints_to_process was empty so exiting loop after 33 iterations\n",
      "starting_node in concept map (that should match the starting edge) = 2\n",
      "Total time for branches to concept conversion = 0.29236721992492676\n",
      "\n",
      "recovered_touching_piece = [2]\n",
      "After concept mapping size = 33\n",
      "Local time for concept mapping = 0.8053958415985107\n",
      "\n",
      "\n",
      "------Working on limb 5 -------\n",
      "inside loop len(curr_limb_divided_meshes) = 7 len(curr_limb_divided_skeletons) = 7\n",
      "--- Working on soma_idx: 0----\n",
      "Total time for filtering periphery meshes = 0.048064470291137695\n",
      "touching_pieces = [3]\n",
      "Total time for mesh connectivity = 0.2817983627319336\n",
      "Touching piece endpoints = [[746565.14189411 969566.8857893  861509.36319248]\n",
      " [752721.52407524 964384.60481626 869347.08507125]]\n",
      "inside inner loop len(curr_limb_divided_skeletons) = 7\n",
      "closest_endpoint = [752721.52407524 964384.60481626 869347.08507125]\n",
      "Starting_edge inside branches_to_conept = [[746565.14189411 969566.8857893  861509.36319248]\n",
      " [752721.52407524 964384.60481626 869347.08507125]]\n",
      "At the start, starting_node (in terms of the skeleton, that shouldn't match the starting edge) = [4]\n",
      "printing out current edge:\n",
      "[[752721.52407524 964384.60481626 869347.08507125]\n",
      " [746565.14189411 969566.8857893  861509.36319248]]\n",
      "edge_endpoints_to_process was empty so exiting loop after 7 iterations\n",
      "starting_node in concept map (that should match the starting edge) = 3\n",
      "Total time for branches to concept conversion = 0.16109657287597656\n",
      "\n",
      "recovered_touching_piece = [3]\n",
      "After concept mapping size = 7\n"
     ]
    },
    {
     "name": "stdout",
     "output_type": "stream",
     "text": [
      "Local time for concept mapping = 0.5840303897857666\n",
      "\n",
      "\n",
      "------Working on limb 6 -------\n",
      "inside loop len(curr_limb_divided_meshes) = 17 len(curr_limb_divided_skeletons) = 17\n",
      "--- Working on soma_idx: 1----\n",
      "Total time for filtering periphery meshes = 0.0642235279083252\n",
      "touching_pieces = [13]\n",
      "Total time for mesh connectivity = 0.1440589427947998\n",
      "Touching piece endpoints = [[865899.05115931 988116.36181451 860319.94103288]\n",
      " [865951.42692904 982604.31816129 862424.97066397]]\n",
      "inside inner loop len(curr_limb_divided_skeletons) = 17\n",
      "closest_endpoint = [865899.05115931 988116.36181451 860319.94103288]\n",
      "Starting_edge inside branches_to_conept = [[865899.05115931 988116.36181451 860319.94103288]\n",
      " [865951.42692904 982604.31816129 862424.97066397]]\n",
      "At the start, starting_node (in terms of the skeleton, that shouldn't match the starting edge) = [10]\n",
      "printing out current edge:\n",
      "[[865899.05115931 988116.36181451 860319.94103288]\n",
      " [865951.42692904 982604.31816129 862424.97066397]]\n",
      "edge_endpoints_to_process was empty so exiting loop after 17 iterations\n",
      "starting_node in concept map (that should match the starting edge) = 13\n",
      "Total time for branches to concept conversion = 0.15719366073608398\n",
      "\n",
      "recovered_touching_piece = [13]\n",
      "After concept mapping size = 17\n",
      "Local time for concept mapping = 0.4528687000274658\n",
      "\n",
      "\n",
      "------Working on limb 7 -------\n",
      "inside loop len(curr_limb_divided_meshes) = 19 len(curr_limb_divided_skeletons) = 19\n",
      "--- Working on soma_idx: 1----\n",
      "Total time for filtering periphery meshes = 0.0686178207397461\n",
      "touching_pieces = [1]\n",
      "Total time for mesh connectivity = 0.22963333129882812\n",
      "Touching piece endpoints = [[866775.63419604 993569.53505392 851090.71915791]\n",
      " [877220.1534711  992895.02375849 841137.38136029]]\n",
      "inside inner loop len(curr_limb_divided_skeletons) = 19\n",
      "closest_endpoint = [866775.63419604 993569.53505392 851090.71915791]\n",
      "Starting_edge inside branches_to_conept = [[866775.63419604 993569.53505392 851090.71915791]\n",
      " [877220.1534711  992895.02375849 841137.38136029]]\n",
      "At the start, starting_node (in terms of the skeleton, that shouldn't match the starting edge) = [1]\n",
      "printing out current edge:\n",
      "[[866775.63419604 993569.53505392 851090.71915791]\n",
      " [877220.1534711  992895.02375849 841137.38136029]]\n",
      "edge_endpoints_to_process was empty so exiting loop after 19 iterations\n",
      "starting_node in concept map (that should match the starting edge) = 1\n",
      "Total time for branches to concept conversion = 0.16783452033996582\n",
      "\n",
      "recovered_touching_piece = [1]\n",
      "After concept mapping size = 19\n",
      "Local time for concept mapping = 0.5598282814025879\n",
      "\n",
      "\n",
      "------Working on limb 8 -------\n",
      "inside loop len(curr_limb_divided_meshes) = 11 len(curr_limb_divided_skeletons) = 11\n",
      "--- Working on soma_idx: 1----\n",
      "Total time for filtering periphery meshes = 0.04017019271850586\n",
      "touching_pieces = [10]\n",
      "Total time for mesh connectivity = 0.24965572357177734\n",
      "Touching piece endpoints = [[850241.65438488 997733.96318925 835120.92336446]\n",
      " [863032.30498317 995516.5725724  851441.49164123]]\n",
      "inside inner loop len(curr_limb_divided_skeletons) = 11\n",
      "closest_endpoint = [863032.30498317 995516.5725724  851441.49164123]\n",
      "Starting_edge inside branches_to_conept = [[850241.65438488 997733.96318925 835120.92336446]\n",
      " [863032.30498317 995516.5725724  851441.49164123]]\n",
      "At the start, starting_node (in terms of the skeleton, that shouldn't match the starting edge) = [11]\n",
      "printing out current edge:\n",
      "[[863032.30498317 995516.5725724  851441.49164123]\n",
      " [850241.65438488 997733.96318925 835120.92336446]]\n",
      "edge_endpoints_to_process was empty so exiting loop after 11 iterations\n",
      "starting_node in concept map (that should match the starting edge) = 10\n",
      "Total time for branches to concept conversion = 0.09303569793701172\n",
      "\n",
      "recovered_touching_piece = [10]\n",
      "After concept mapping size = 11\n",
      "Local time for concept mapping = 0.4390268325805664\n",
      "\n",
      "\n",
      "------Working on limb 9 -------\n",
      "inside loop len(curr_limb_divided_meshes) = 1 len(curr_limb_divided_skeletons) = 1\n",
      "--- Working on soma_idx: 0----\n",
      "Total time for filtering periphery meshes = 0.005764484405517578\n",
      "touching_pieces = [0]\n",
      "Total time for mesh connectivity = 0.2802755832672119\n",
      "Touching piece endpoints = [[760596.49548634 964473.95863002 877464.33675621]\n",
      " [764198.03071479 973954.65127816 881780.7690252 ]]\n",
      "inside inner loop len(curr_limb_divided_skeletons) = 1\n",
      "closest_endpoint = [760596.49548634 964473.95863002 877464.33675621]\n",
      "Starting_edge inside branches_to_conept = [[760596.49548634 964473.95863002 877464.33675621]\n",
      " [764198.03071479 973954.65127816 881780.7690252 ]]\n",
      "recovered_touching_piece = [0]\n",
      "After concept mapping size = 1\n",
      "Local time for concept mapping = 0.2939155101776123\n",
      "\n",
      "\n",
      " ----- Total time for concept mapping = 9.885944366455078 ----\n",
      "Processing Neuorn in minimal output mode...please wait\n"
     ]
    },
    {
     "name": "stderr",
     "output_type": "stream",
     "text": [
      "WARNING:trimesh:face_normals all zero, ignoring!\n",
      "WARNING:trimesh:face_normals all zero, ignoring!\n",
      "WARNING:trimesh:face_normals all zero, ignoring!\n",
      "WARNING:trimesh:face_normals all zero, ignoring!\n",
      "WARNING:trimesh:face_normals all zero, ignoring!\n",
      "WARNING:trimesh:face_normals all zero, ignoring!\n",
      "WARNING:trimesh:face_normals all zero, ignoring!\n",
      "WARNING:trimesh:face_normals all zero, ignoring!\n",
      "WARNING:trimesh:face_normals all zero, ignoring!\n",
      "WARNING:trimesh:face_normals all zero, ignoring!\n",
      "WARNING:trimesh:face_normals all zero, ignoring!\n",
      "WARNING:trimesh:face_normals all zero, ignoring!\n",
      "WARNING:trimesh:face_normals all zero, ignoring!\n",
      "WARNING:trimesh:face_normals all zero, ignoring!\n",
      "WARNING:trimesh:face_normals all zero, ignoring!\n",
      "WARNING:trimesh:face_normals all zero, ignoring!\n",
      "WARNING:trimesh:face_normals all zero, ignoring!\n",
      "WARNING:trimesh:face_normals all zero, ignoring!\n",
      "WARNING:trimesh:face_normals all zero, ignoring!\n",
      "WARNING:trimesh:face_normals all zero, ignoring!\n",
      "WARNING:trimesh:face_normals all zero, ignoring!\n",
      "WARNING:trimesh:face_normals all zero, ignoring!\n",
      "WARNING:trimesh:face_normals all zero, ignoring!\n",
      "WARNING:trimesh:face_normals all zero, ignoring!\n",
      "WARNING:trimesh:face_normals all zero, ignoring!\n",
      "WARNING:trimesh:face_normals all zero, ignoring!\n",
      "WARNING:trimesh:face_normals all zero, ignoring!\n",
      "WARNING:trimesh:face_normals all zero, ignoring!\n",
      "WARNING:trimesh:face_normals all zero, ignoring!\n",
      "WARNING:trimesh:face_normals all zero, ignoring!\n",
      "WARNING:trimesh:face_normals all zero, ignoring!\n",
      "WARNING:trimesh:face_normals all zero, ignoring!\n",
      "WARNING:trimesh:face_normals all zero, ignoring!\n"
     ]
    },
    {
     "name": "stdout",
     "output_type": "stream",
     "text": [
      "Total time for neuron instance creation = 23.901001691818237\n"
     ]
    }
   ],
   "source": [
    "nru = reload(nru)\n",
    "neuron = reload(neuron)\n",
    "adaptive_neuron = nru.decompress_neuron(filepath=\"/notebooks/test_neurons/preprocessed_neurons/meshparty/12345_double_soma_adaptive_correspondence_meshparty\",\n",
    "                     original_mesh='/notebooks/test_neurons/preprocessed_neurons/meshparty/12345_double_soma_adaptive_correspondence_meshparty')"
   ]
  },
  {
   "cell_type": "markdown",
   "metadata": {},
   "source": [
    "# Picking the Neuron to use:"
   ]
  },
  {
   "cell_type": "code",
   "execution_count": 12,
   "metadata": {},
   "outputs": [],
   "source": [
    "uncompressed_neuron = adaptive_neuron"
   ]
  },
  {
   "cell_type": "markdown",
   "metadata": {},
   "source": [
    "# Verify Width needed for the meshparty avenue (CONCLUSION 400 LOOKS ABOUT RIGHT FOR WIDTH)"
   ]
  },
  {
   "cell_type": "code",
   "execution_count": 16,
   "metadata": {
    "scrolled": false
   },
   "outputs": [
    {
     "name": "stdout",
     "output_type": "stream",
     "text": [
      "\n",
      " Working on visualization type: mesh\n"
     ]
    },
    {
     "data": {
      "application/vnd.jupyter.widget-view+json": {
       "model_id": "c652e93ccb4a4d12bb1147b35fc01dc7",
       "version_major": 2,
       "version_minor": 0
      },
      "text/plain": [
       "VBox(children=(Figure(camera=PerspectiveCamera(fov=46.0, position=(0.0, 0.0, 2.0), quaternion=(0.0, 0.0, 0.0, …"
      ]
     },
     "metadata": {},
     "output_type": "display_data"
    }
   ],
   "source": [
    "import neuron_searching as ns\n",
    "import neuron_visualizations as nviz\n",
    "\n",
    "functions_list = [\n",
    "    ns.width,\n",
    "    ns.n_faces_branch\n",
    "]\n",
    "\n",
    "returned_limb_branch_dict = ns.query_neuron(uncompressed_neuron,\n",
    "               functions_list=functions_list,\n",
    "                query=\"width < 600 and n_faces_branch>100\"\n",
    "               )\n",
    "\n",
    "nviz.visualize_neuron(adaptive_neuron,\n",
    "                      visualize_type=[\"mesh\"],\n",
    "                      mesh_whole_neuron=True,\n",
    "                      mesh_color=[1,0,0,1],\n",
    "                     limb_branch_dict=returned_limb_branch_dict,\n",
    "                     )\n"
   ]
  },
  {
   "cell_type": "markdown",
   "metadata": {},
   "source": [
    "# Calculating the Spines"
   ]
  },
  {
   "cell_type": "code",
   "execution_count": 25,
   "metadata": {},
   "outputs": [
    {
     "name": "stdout",
     "output_type": "stream",
     "text": [
      "\n",
      " Working on visualization type: mesh\n"
     ]
    },
    {
     "data": {
      "application/vnd.jupyter.widget-view+json": {
       "model_id": "61b1a0d03be6486e8bc750fc318281b0",
       "version_major": 2,
       "version_minor": 0
      },
      "text/plain": [
       "VBox(children=(Figure(camera=PerspectiveCamera(fov=46.0, position=(0.0, 0.0, 2.0), quaternion=(0.0, 0.0, 0.0, …"
      ]
     },
     "metadata": {},
     "output_type": "display_data"
    }
   ],
   "source": [
    "functions_list = [\"width\",\"n_faces_branch\"]\n",
    "current_query=\"width > 600 and n_faces_branch>100\"\n",
    "check_spine_query = ns.query_neuron(uncompressed_neuron,\n",
    "                       functions_list=functions_list,\n",
    "                       query=current_query)\n",
    "nviz.visualize_neuron(uncompressed_neuron,\n",
    "                     limb_branch_dict=check_spine_query,\n",
    "                     mesh_whole_neuron=False)"
   ]
  },
  {
   "cell_type": "code",
   "execution_count": 26,
   "metadata": {},
   "outputs": [
    {
     "data": {
      "text/plain": [
       "{'L0': array([ 0,  2,  4,  6,  8, 10, 11, 13, 14, 15, 16, 17, 18, 19, 21, 24, 26,\n",
       "        27, 28, 29, 30, 31, 32, 34, 35, 36, 37, 38, 39, 40, 41, 42, 43, 44,\n",
       "        45, 46, 47, 48, 49, 52, 53, 54, 56, 58, 60]),\n",
       " 'L1': array([ 0,  2,  4,  6,  8, 10, 11, 12, 13, 15, 17, 18, 19, 21, 23, 24, 27,\n",
       "        28, 30, 31, 32, 33, 34, 35, 36, 37, 38, 39, 41, 42, 44]),\n",
       " 'L2': array([ 0,  2,  5,  6,  7,  8,  9, 10, 11, 12, 15, 17, 18, 19, 20, 23, 25,\n",
       "        26, 35, 37]),\n",
       " 'L3': array([ 0,  1,  2,  5,  6,  7,  8, 10, 11, 13, 14, 16, 18, 20, 21, 22, 24,\n",
       "        25, 26, 29, 30, 32, 35, 36, 37, 38, 39, 41, 43, 45, 46]),\n",
       " 'L4': array([ 0,  1,  2,  3,  5,  7, 12, 13, 21, 22, 23, 24, 25, 26, 28, 32]),\n",
       " 'L5': array([0, 1, 2, 3, 4, 5, 6]),\n",
       " 'L6': array([ 1,  2,  3,  4,  5,  8,  9, 10, 11, 12, 13, 15, 16]),\n",
       " 'L7': array([ 0,  1,  2,  3,  4,  6,  7,  8, 10, 11, 12, 13, 16, 18]),\n",
       " 'L8': array([ 0,  3,  4,  5,  9, 10]),\n",
       " 'L9': array([0])}"
      ]
     },
     "execution_count": 26,
     "metadata": {},
     "output_type": "execute_result"
    }
   ],
   "source": [
    "check_spine_query"
   ]
  },
  {
   "cell_type": "code",
   "execution_count": 30,
   "metadata": {},
   "outputs": [
    {
     "name": "stdout",
     "output_type": "stream",
     "text": [
      "Recieved another instance of Neuron class in init -- so just copying data\n",
      "smoothness_threshold = 0.08\n",
      "Working on limb L0 branch 36\n",
      "Working on limb L0 branch 24\n",
      "Working on limb L0 branch 38\n",
      "Working on limb L0 branch 17\n",
      "Working on limb L0 branch 39\n",
      "Working on limb L0 branch 40\n",
      "Working on limb L0 branch 16\n",
      "Working on limb L0 branch 43\n",
      "Working on limb L0 branch 44\n",
      "Working on limb L0 branch 60\n",
      "Working on limb L0 branch 13\n",
      "Working on limb L0 branch 14\n",
      "Working on limb L0 branch 45\n",
      "Working on limb L0 branch 46\n",
      "Working on limb L0 branch 10\n",
      "Working on limb L0 branch 11\n",
      "Working on limb L0 branch 34\n",
      "Working on limb L0 branch 52\n",
      "Working on limb L0 branch 49\n",
      "Working on limb L0 branch 8\n",
      "Working on limb L0 branch 54\n",
      "Working on limb L0 branch 21\n",
      "Working on limb L0 branch 47\n",
      "Working on limb L0 branch 6\n",
      "Working on limb L0 branch 56\n",
      "Working on limb L0 branch 15\n",
      "Working on limb L0 branch 42\n",
      "Working on limb L0 branch 48\n",
      "Working on limb L0 branch 4\n",
      "Working on limb L0 branch 35\n",
      "Working on limb L0 branch 41\n",
      "Working on limb L0 branch 37\n",
      "Working on limb L0 branch 53\n",
      "Working on limb L0 branch 2\n",
      "Working on limb L0 branch 18\n",
      "Working on limb L0 branch 31\n",
      "Working on limb L0 branch 58\n",
      "Working on limb L0 branch 0\n",
      "Working on limb L0 branch 30\n",
      "Working on limb L0 branch 32\n",
      "Working on limb L0 branch 26\n",
      "Working on limb L0 branch 29\n",
      "Working on limb L0 branch 19\n",
      "Working on limb L0 branch 28\n",
      "Working on limb L0 branch 27\n",
      "Working on limb L1 branch 12\n",
      "Working on limb L1 branch 17\n",
      "Working on limb L1 branch 18\n",
      "Working on limb L1 branch 30\n",
      "Working on limb L1 branch 21\n",
      "Working on limb L1 branch 23\n",
      "Working on limb L1 branch 19\n",
      "Working on limb L1 branch 31\n",
      "Working on limb L1 branch 13\n",
      "Working on limb L1 branch 32\n",
      "Working on limb L1 branch 33\n",
      "Working on limb L1 branch 35\n",
      "Working on limb L1 branch 36\n",
      "Working on limb L1 branch 28\n",
      "Working on limb L1 branch 34\n",
      "Working on limb L1 branch 37\n",
      "Working on limb L1 branch 38\n",
      "Working on limb L1 branch 24\n",
      "There was only one mesh found from the spine process and mesh split, returning empty array\n",
      "Working on limb L1 branch 27\n",
      "Working on limb L1 branch 42\n",
      "Working on limb L1 branch 11\n",
      "Working on limb L1 branch 39\n",
      "Working on limb L1 branch 15\n",
      "Working on limb L1 branch 44\n",
      "Working on limb L1 branch 41\n",
      "Working on limb L1 branch 10\n",
      "Working on limb L1 branch 8\n",
      "Working on limb L1 branch 4\n",
      "Working on limb L1 branch 6\n",
      "Working on limb L1 branch 2\n",
      "Working on limb L1 branch 0\n",
      "Working on limb L3 branch 0\n",
      "Working on limb L3 branch 1\n",
      "Working on limb L3 branch 2\n",
      "Working on limb L3 branch 10\n",
      "Working on limb L3 branch 11\n",
      "Working on limb L3 branch 5\n",
      "Working on limb L3 branch 6\n",
      "Working on limb L3 branch 18\n",
      "Working on limb L3 branch 7\n",
      "Working on limb L3 branch 16\n",
      "Working on limb L3 branch 8\n",
      "Working on limb L3 branch 13\n",
      "Working on limb L3 branch 14\n",
      "Working on limb L3 branch 21\n",
      "There was only one mesh found from the spine process and mesh split, returning empty array\n",
      "Working on limb L3 branch 22\n",
      "There was only one mesh found from the spine process and mesh split, returning empty array\n",
      "Working on limb L3 branch 30\n",
      "Working on limb L3 branch 20\n",
      "Working on limb L3 branch 24\n",
      "Working on limb L3 branch 36\n",
      "Working on limb L3 branch 37\n",
      "Working on limb L3 branch 25\n",
      "Working on limb L3 branch 35\n",
      "Working on limb L3 branch 38\n",
      "Working on limb L3 branch 43\n",
      "Working on limb L3 branch 26\n",
      "Working on limb L3 branch 32\n",
      "Working on limb L3 branch 39\n",
      "Working on limb L3 branch 45\n",
      "Working on limb L3 branch 46\n",
      "Working on limb L3 branch 29\n",
      "Working on limb L3 branch 41\n",
      "Working on limb L4 branch 12\n",
      "Working on limb L4 branch 2\n",
      "Working on limb L4 branch 21\n",
      "Working on limb L4 branch 0\n",
      "Working on limb L4 branch 7\n",
      "Working on limb L4 branch 5\n",
      "Working on limb L4 branch 22\n",
      "Working on limb L4 branch 3\n",
      "Working on limb L4 branch 1\n",
      "Working on limb L4 branch 23\n",
      "Working on limb L4 branch 24\n",
      "Working on limb L4 branch 25\n",
      "Working on limb L4 branch 26\n",
      "Working on limb L4 branch 28\n",
      "Working on limb L4 branch 32\n",
      "Working on limb L4 branch 13\n",
      "There was only one mesh found from the spine process and mesh split, returning empty array\n",
      "Working on limb L5 branch 3\n",
      "Working on limb L5 branch 2\n",
      "Working on limb L5 branch 4\n",
      "Working on limb L5 branch 0\n",
      "Working on limb L5 branch 1\n",
      "Working on limb L5 branch 5\n",
      "Working on limb L5 branch 6\n",
      "Working on limb L9 branch 0\n",
      "Working on limb L2 branch 0\n",
      "Working on limb L2 branch 5\n",
      "Working on limb L2 branch 6\n",
      "Working on limb L2 branch 19\n",
      "There was only one mesh found from the spine process and mesh split, returning empty array\n",
      "Working on limb L2 branch 7\n",
      "Working on limb L2 branch 20\n",
      "There was only one mesh found from the spine process and mesh split, returning empty array\n",
      "Working on limb L2 branch 8\n",
      "Working on limb L2 branch 9\n",
      "Working on limb L2 branch 10\n",
      "Working on limb L2 branch 11\n",
      "Working on limb L2 branch 12\n",
      "Working on limb L2 branch 15\n",
      "Working on limb L2 branch 17\n",
      "Working on limb L2 branch 18\n",
      "Working on limb L2 branch 23\n",
      "Working on limb L2 branch 26\n",
      "Working on limb L2 branch 35\n",
      "Working on limb L2 branch 37\n",
      "Working on limb L2 branch 25\n",
      "Working on limb L2 branch 2\n",
      "Working on limb L6 branch 13\n",
      "Working on limb L6 branch 16\n",
      "Working on limb L6 branch 12\n",
      "Working on limb L6 branch 9\n",
      "Working on limb L6 branch 11\n",
      "Working on limb L6 branch 2\n",
      "Working on limb L6 branch 10\n",
      "Working on limb L6 branch 8\n",
      "Working on limb L6 branch 15\n",
      "Working on limb L6 branch 3\n",
      "Working on limb L6 branch 5\n",
      "Working on limb L6 branch 4\n",
      "Working on limb L6 branch 1\n",
      "Working on limb L7 branch 1\n",
      "Working on limb L7 branch 2\n",
      "Working on limb L7 branch 3\n",
      "Working on limb L7 branch 0\n",
      "Working on limb L7 branch 4\n",
      "Working on limb L7 branch 7\n",
      "Working on limb L7 branch 8\n",
      "Working on limb L7 branch 6\n",
      "Working on limb L7 branch 12\n",
      "Working on limb L7 branch 13\n",
      "Working on limb L7 branch 10\n",
      "Working on limb L7 branch 11\n",
      "Working on limb L7 branch 16\n",
      "Working on limb L7 branch 18\n",
      "Working on limb L8 branch 10\n",
      "Working on limb L8 branch 5\n",
      "Working on limb L8 branch 9\n",
      "Working on limb L8 branch 4\n",
      "Working on limb L8 branch 3\n",
      "Working on limb L8 branch 0\n"
     ]
    }
   ],
   "source": [
    "neuron = reload(neuron)\n",
    "uncompressed_neuron = neuron.Neuron(uncompressed_neuron)\n",
    "uncompressed_neuron.calculate_spines(\n",
    "    query=\"width > 600 and n_faces_branch>100\"\n",
    "\n",
    ")"
   ]
  },
  {
   "cell_type": "code",
   "execution_count": 31,
   "metadata": {},
   "outputs": [
    {
     "name": "stdout",
     "output_type": "stream",
     "text": [
      "\n",
      " Working on visualization type: mesh\n"
     ]
    },
    {
     "data": {
      "application/vnd.jupyter.widget-view+json": {
       "model_id": "a962d6e76cd542639aa25c26dfe24dc5",
       "version_major": 2,
       "version_minor": 0
      },
      "text/plain": [
       "VBox(children=(Figure(camera=PerspectiveCamera(fov=46.0, position=(0.0, 0.0, 2.0), quaternion=(0.0, 0.0, 0.0, …"
      ]
     },
     "metadata": {},
     "output_type": "display_data"
    }
   ],
   "source": [
    "nviz.plot_spines(uncompressed_neuron)"
   ]
  },
  {
   "cell_type": "markdown",
   "metadata": {},
   "source": [
    "# Calculating the Different Widths"
   ]
  },
  {
   "cell_type": "code",
   "execution_count": 33,
   "metadata": {},
   "outputs": [
    {
     "data": {
      "text/plain": [
       "{'no_spine_average_mesh_center': array([292.41943139, 158.43277856, 215.49804448, 261.88139752,\n",
       "        182.62813773, 186.9468557 , 381.62211965, 298.8295471 ,\n",
       "         84.84772502, 162.3338237 , 324.20948806, 337.82119951,\n",
       "        227.81443606, 319.19330664, 257.95435532, 117.79815705,\n",
       "        332.16650029, 293.79460771, 213.96291566, 313.90864018,\n",
       "        261.50133898, 189.88846563, 426.20675526, 396.929145  ,\n",
       "        168.62080206, 178.15386097, 229.21565593, 216.46757194,\n",
       "        200.90968662, 158.75086946, 205.89005194, 351.40213282,\n",
       "        522.26248988, 246.52411606, 200.11370726, 349.66973758,\n",
       "        231.85891815, 202.34537968, 296.50625597, 229.66600692,\n",
       "        203.07597991, 125.73034374, 250.95014065, 328.94615055,\n",
       "        335.09556159, 277.86871291, 480.61685415, 448.52378842,\n",
       "        264.35598938, 368.40458557, 504.91299747, 256.85013971,\n",
       "        187.65899495, 185.57731505, 285.33515573, 276.32649085,\n",
       "        162.22308996, 279.65597528, 242.3298203 , 276.92109677,\n",
       "        303.67120007, 324.88209894, 360.97445919, 199.23233572,\n",
       "        149.33294144, 293.49687608, 492.92778795, 226.05301517,\n",
       "        319.77708556, 299.62207564, 282.25408351, 294.49954215,\n",
       "        221.983473  , 222.5726823 , 287.07052693, 255.35039753,\n",
       "        409.90285301, 410.4828427 , 346.62459953, 308.9918067 ,\n",
       "        374.01471934, 263.66908424, 234.53960674, 272.02656776])}"
      ]
     },
     "execution_count": 33,
     "metadata": {},
     "output_type": "execute_result"
    }
   ],
   "source": [
    "ex_branch = uncompressed_neuron.concept_network.nodes[\"L1\"][\"data\"].concept_network.nodes[0][\"data\"]\n",
    "ex_branch.width_array"
   ]
  },
  {
   "cell_type": "code",
   "execution_count": 38,
   "metadata": {},
   "outputs": [],
   "source": [
    "import skeleton_utils as sk"
   ]
  },
  {
   "cell_type": "code",
   "execution_count": 43,
   "metadata": {},
   "outputs": [
    {
     "data": {
      "text/plain": [
       "3419.3429890393018"
      ]
     },
     "execution_count": 43,
     "metadata": {},
     "output_type": "execute_result"
    }
   ],
   "source": [
    "error_branch.width"
   ]
  },
  {
   "cell_type": "code",
   "execution_count": 40,
   "metadata": {},
   "outputs": [
    {
     "data": {
      "application/vnd.jupyter.widget-view+json": {
       "model_id": "1707519c432942cc9afcf155aa5b9563",
       "version_major": 2,
       "version_minor": 0
      },
      "text/plain": [
       "VBox(children=(Figure(camera=PerspectiveCamera(fov=46.0, position=(0.0, 0.0, 2.0), quaternion=(0.0, 0.0, 0.0, …"
      ]
     },
     "metadata": {},
     "output_type": "display_data"
    }
   ],
   "source": [
    "error_branch = uncompressed_neuron.concept_network.nodes[\"L3\"][\"data\"].concept_network.nodes[22][\"data\"]\n",
    "sk.calculate_skeleton_distance(error_branch.skeleton),error_branch.mesh.faces.shape\n",
    "sk.graph_skeleton_and_mesh(other_meshes=[error_branch.mesh],\n",
    "                          other_skeletons=[error_branch.skeleton])"
   ]
  },
  {
   "cell_type": "code",
   "execution_count": 41,
   "metadata": {},
   "outputs": [
    {
     "name": "stdout",
     "output_type": "stream",
     "text": [
      "\n",
      " Working on visualization type: mesh\n",
      "\n",
      " Working on visualization type: skeleton\n"
     ]
    },
    {
     "data": {
      "application/vnd.jupyter.widget-view+json": {
       "model_id": "7b825f32bb1a41b8a6b48d4bcbb29b97",
       "version_major": 2,
       "version_minor": 0
      },
      "text/plain": [
       "VBox(children=(Figure(camera=PerspectiveCamera(fov=46.0, position=(0.0, 0.0, 2.0), quaternion=(0.0, 0.0, 0.0, …"
      ]
     },
     "metadata": {},
     "output_type": "display_data"
    }
   ],
   "source": [
    "nviz.visualize_neuron(uncompressed_neuron,\n",
    "                     visualize_type=[\"mesh\",\"skeleton\"],\n",
    "                     limb_branch_dict=dict(L3=[22]),\n",
    "                     mesh_color=\"red\",\n",
    "                     mesh_color_alpha=1,\n",
    "                     mesh_whole_neuron=True,\n",
    "                     )"
   ]
  },
  {
   "cell_type": "code",
   "execution_count": 35,
   "metadata": {},
   "outputs": [
    {
     "name": "stdout",
     "output_type": "stream",
     "text": [
      "Working on limb L0 branch 36\n",
      "Working on limb L0 branch 24\n",
      "Working on limb L0 branch 38\n",
      "Working on limb L0 branch 17\n",
      "Working on limb L0 branch 22\n",
      "Working on limb L0 branch 39\n",
      "Working on limb L0 branch 40\n",
      "Working on limb L0 branch 12\n",
      "Working on limb L0 branch 16\n",
      "Working on limb L0 branch 43\n",
      "Working on limb L0 branch 44\n",
      "Working on limb L0 branch 59\n",
      "Working on limb L0 branch 60\n",
      "Working on limb L0 branch 13\n",
      "Working on limb L0 branch 14\n",
      "Working on limb L0 branch 45\n",
      "Working on limb L0 branch 46\n",
      "Working on limb L0 branch 10\n",
      "Working on limb L0 branch 11\n",
      "Working on limb L0 branch 34\n",
      "Working on limb L0 branch 52\n",
      "Working on limb L0 branch 49\n",
      "Working on limb L0 branch 50\n",
      "Working on limb L0 branch 8\n",
      "Working on limb L0 branch 9\n",
      "Working on limb L0 branch 54\n",
      "Working on limb L0 branch 55\n",
      "Working on limb L0 branch 21\n",
      "Working on limb L0 branch 47\n",
      "Working on limb L0 branch 6\n",
      "Working on limb L0 branch 7\n",
      "Working on limb L0 branch 51\n",
      "Working on limb L0 branch 56\n",
      "Working on limb L0 branch 15\n",
      "Working on limb L0 branch 20\n",
      "Working on limb L0 branch 42\n",
      "Working on limb L0 branch 48\n",
      "Working on limb L0 branch 4\n",
      "Working on limb L0 branch 5\n",
      "Working on limb L0 branch 35\n",
      "Working on limb L0 branch 41\n",
      "Working on limb L0 branch 37\n",
      "Working on limb L0 branch 53\n",
      "Working on limb L0 branch 2\n",
      "Working on limb L0 branch 3\n",
      "Working on limb L0 branch 18\n",
      "Working on limb L0 branch 31\n",
      "Working on limb L0 branch 57\n",
      "Working on limb L0 branch 58\n",
      "Working on limb L0 branch 0\n",
      "Working on limb L0 branch 1\n",
      "Working on limb L0 branch 30\n",
      "Working on limb L0 branch 32\n",
      "Working on limb L0 branch 26\n",
      "Working on limb L0 branch 29\n",
      "Working on limb L0 branch 23\n",
      "Working on limb L0 branch 33\n",
      "Working on limb L0 branch 19\n",
      "Working on limb L0 branch 28\n",
      "Working on limb L0 branch 25\n",
      "Working on limb L0 branch 27\n",
      "Working on limb L1 branch 12\n",
      "Working on limb L1 branch 17\n",
      "Working on limb L1 branch 18\n",
      "Working on limb L1 branch 22\n",
      "Working on limb L1 branch 30\n",
      "Working on limb L1 branch 21\n",
      "Working on limb L1 branch 23\n",
      "Working on limb L1 branch 19\n",
      "Working on limb L1 branch 31\n",
      "Working on limb L1 branch 13\n",
      "Working on limb L1 branch 16\n",
      "Working on limb L1 branch 32\n",
      "Working on limb L1 branch 33\n",
      "Working on limb L1 branch 35\n",
      "Working on limb L1 branch 36\n",
      "Working on limb L1 branch 28\n",
      "Working on limb L1 branch 34\n",
      "Working on limb L1 branch 37\n",
      "Working on limb L1 branch 38\n",
      "Working on limb L1 branch 24\n",
      "Working on limb L1 branch 27\n",
      "Working on limb L1 branch 42\n",
      "Working on limb L1 branch 43\n",
      "Working on limb L1 branch 11\n",
      "Working on limb L1 branch 39\n",
      "Working on limb L1 branch 15\n",
      "Working on limb L1 branch 20\n",
      "Working on limb L1 branch 26\n",
      "Working on limb L1 branch 44\n",
      "Working on limb L1 branch 40\n",
      "Working on limb L1 branch 41\n",
      "Working on limb L1 branch 10\n",
      "Working on limb L1 branch 14\n",
      "Working on limb L1 branch 25\n",
      "Working on limb L1 branch 29\n",
      "Working on limb L1 branch 8\n",
      "Working on limb L1 branch 9\n",
      "Working on limb L1 branch 4\n",
      "Working on limb L1 branch 6\n",
      "Working on limb L1 branch 2\n",
      "Working on limb L1 branch 3\n",
      "Working on limb L1 branch 5\n",
      "Working on limb L1 branch 7\n",
      "Working on limb L1 branch 0\n",
      "Working on limb L1 branch 1\n",
      "Working on limb L3 branch 0\n",
      "Working on limb L3 branch 1\n",
      "Working on limb L3 branch 2\n",
      "Working on limb L3 branch 10\n",
      "Working on limb L3 branch 11\n",
      "Working on limb L3 branch 5\n",
      "Working on limb L3 branch 6\n",
      "Working on limb L3 branch 17\n",
      "Working on limb L3 branch 18\n",
      "Working on limb L3 branch 3\n",
      "Working on limb L3 branch 7\n",
      "Working on limb L3 branch 12\n",
      "Working on limb L3 branch 16\n",
      "Working on limb L3 branch 4\n",
      "Working on limb L3 branch 8\n",
      "Working on limb L3 branch 9\n",
      "Working on limb L3 branch 15\n",
      "Working on limb L3 branch 13\n",
      "Working on limb L3 branch 14\n",
      "Working on limb L3 branch 21\n",
      "Working on limb L3 branch 22\n",
      "face_subtract_indices = [array([41])]\n",
      "unique_removed_faces = [41]\n",
      "Distance of skeleton = 1355.0351043703372\n"
     ]
    },
    {
     "ename": "Exception",
     "evalue": "unique_removed_faces = [41]",
     "output_type": "error",
     "traceback": [
      "\u001b[0;31m---------------------------------------------------------------------------\u001b[0m",
      "\u001b[0;31mException\u001b[0m                                 Traceback (most recent call last)",
      "\u001b[0;32m<ipython-input-35-dd57f095c2bd>\u001b[0m in \u001b[0;36m<module>\u001b[0;34m\u001b[0m\n\u001b[1;32m      4\u001b[0m                                       \u001b[0mskeleton_segment_size\u001b[0m \u001b[0;34m=\u001b[0m \u001b[0;36m1000\u001b[0m\u001b[0;34m,\u001b[0m\u001b[0;34m\u001b[0m\u001b[0;34m\u001b[0m\u001b[0m\n\u001b[1;32m      5\u001b[0m                                        \u001b[0mwidth_segment_size\u001b[0m\u001b[0;34m=\u001b[0m\u001b[0;32mNone\u001b[0m\u001b[0;34m,\u001b[0m\u001b[0;34m\u001b[0m\u001b[0;34m\u001b[0m\u001b[0m\n\u001b[0;32m----> 6\u001b[0;31m                                       width_name = \"no_spine_average_mesh_center\")\n\u001b[0m",
      "\u001b[0;32m/meshAfterParty/neuron.py\u001b[0m in \u001b[0;36mcalculate_width_without_spines\u001b[0;34m(self, skeleton_segment_size, width_segment_size, width_name, **kwargs)\u001b[0m\n\u001b[1;32m   1501\u001b[0m                                       \u001b[0mreturn_average\u001b[0m\u001b[0;34m=\u001b[0m\u001b[0;32mTrue\u001b[0m\u001b[0;34m,\u001b[0m\u001b[0;34m\u001b[0m\u001b[0;34m\u001b[0m\u001b[0m\n\u001b[1;32m   1502\u001b[0m                                       \u001b[0mprint_flag\u001b[0m\u001b[0;34m=\u001b[0m\u001b[0;32mFalse\u001b[0m\u001b[0;34m,\u001b[0m\u001b[0;34m\u001b[0m\u001b[0;34m\u001b[0m\u001b[0m\n\u001b[0;32m-> 1503\u001b[0;31m                                     **kwargs)\n\u001b[0m\u001b[1;32m   1504\u001b[0m \u001b[0;34m\u001b[0m\u001b[0m\n\u001b[1;32m   1505\u001b[0m \u001b[0;34m\u001b[0m\u001b[0m\n",
      "\u001b[0;32m/meshAfterParty/width_utils.py\u001b[0m in \u001b[0;36mcalculate_width_without_spines\u001b[0;34m(branch, skeleton_segment_size, width_segment_size, return_average, distance_by_mesh_center, print_flag)\u001b[0m\n\u001b[1;32m     37\u001b[0m                                     \u001b[0mdistance_by_mesh_center\u001b[0m\u001b[0;34m=\u001b[0m\u001b[0mdistance_by_mesh_center\u001b[0m\u001b[0;34m,\u001b[0m\u001b[0;34m\u001b[0m\u001b[0;34m\u001b[0m\u001b[0m\n\u001b[1;32m     38\u001b[0m                                     \u001b[0mprint_flag\u001b[0m\u001b[0;34m=\u001b[0m\u001b[0;32mFalse\u001b[0m\u001b[0;34m,\u001b[0m\u001b[0;34m\u001b[0m\u001b[0;34m\u001b[0m\u001b[0m\n\u001b[0;32m---> 39\u001b[0;31m                                     \u001b[0medge_loop_print\u001b[0m\u001b[0;34m=\u001b[0m\u001b[0;32mFalse\u001b[0m\u001b[0;34m\u001b[0m\u001b[0;34m\u001b[0m\u001b[0m\n\u001b[0m\u001b[1;32m     40\u001b[0m                                                          )\n\u001b[1;32m     41\u001b[0m \u001b[0;34m\u001b[0m\u001b[0m\n",
      "\u001b[0;32m/meshAfterParty/compartment_utils.py\u001b[0m in \u001b[0;36mget_skeletal_distance_no_skipping\u001b[0;34m(main_mesh, edges, buffer, bbox_ratio, distance_threshold, distance_by_mesh_center, print_flag, edge_loop_print)\u001b[0m\n\u001b[1;32m    186\u001b[0m             \u001b[0mprint\u001b[0m\u001b[0;34m(\u001b[0m\u001b[0;34mf\"unique_removed_faces = {unique_removed_faces}\"\u001b[0m\u001b[0;34m)\u001b[0m\u001b[0;34m\u001b[0m\u001b[0;34m\u001b[0m\u001b[0m\n\u001b[1;32m    187\u001b[0m             \u001b[0mprint\u001b[0m\u001b[0;34m(\u001b[0m\u001b[0;34mf\"Distance of skeleton = {sk.calculate_skeleton_distance(edges)}\"\u001b[0m\u001b[0;34m)\u001b[0m\u001b[0;34m\u001b[0m\u001b[0;34m\u001b[0m\u001b[0m\n\u001b[0;32m--> 188\u001b[0;31m             \u001b[0;32mraise\u001b[0m \u001b[0mException\u001b[0m\u001b[0;34m(\u001b[0m\u001b[0;34mf\"unique_removed_faces = {unique_removed_faces}\"\u001b[0m\u001b[0;34m)\u001b[0m\u001b[0;34m\u001b[0m\u001b[0;34m\u001b[0m\u001b[0m\n\u001b[0m\u001b[1;32m    189\u001b[0m \u001b[0;34m\u001b[0m\u001b[0m\n\u001b[1;32m    190\u001b[0m \u001b[0;34m\u001b[0m\u001b[0m\n",
      "\u001b[0;31mException\u001b[0m: unique_removed_faces = [41]"
     ]
    }
   ],
   "source": [
    "import compartment_utils as cu\n",
    "cu = reload(cu)\n",
    "uncompressed_neuron.calculate_width_without_spines(\n",
    "                                      skeleton_segment_size = 1000,\n",
    "                                       width_segment_size=None,\n",
    "                                      width_name = \"no_spine_average_mesh_center\")"
   ]
  },
  {
   "cell_type": "code",
   "execution_count": null,
   "metadata": {},
   "outputs": [],
   "source": [
    "ex_branch.width_array"
   ]
  },
  {
   "cell_type": "markdown",
   "metadata": {},
   "source": [
    "# Testing out the Distance to Soma function"
   ]
  },
  {
   "cell_type": "code",
   "execution_count": null,
   "metadata": {},
   "outputs": [],
   "source": [
    "import networkx_utils as xu\n",
    "xu.get_neighbors(curr_limb.concept_network,27)\n",
    "#curr_limb.current_starting_node"
   ]
  },
  {
   "cell_type": "code",
   "execution_count": null,
   "metadata": {},
   "outputs": [],
   "source": [
    "curr_branch_idx = 24\n",
    "nviz.visualize_neuron(uncompressed_neuron,\n",
    "                     limb_branch_dict=dict(L1=[curr_branch_idx]),\n",
    "                     visualize_type=[\"mesh\"],\n",
    "                      mesh_color=\"red\",\n",
    "                     mesh_whole_neuron=True)"
   ]
  },
  {
   "cell_type": "code",
   "execution_count": null,
   "metadata": {},
   "outputs": [],
   "source": [
    "curr_limb = uncompressed_neuron.concept_network.nodes[\"L1\"][\"data\"]"
   ]
  },
  {
   "cell_type": "code",
   "execution_count": null,
   "metadata": {},
   "outputs": [],
   "source": [
    "nru.branch_skeletal_distance_from_soma(curr_limb = curr_limb,\n",
    "                                      branch_idx = curr_branch_idx,\n",
    "                                      somas=[0,1],\n",
    "                                      dict_return = True,\n",
    "                                      print_flag=True)"
   ]
  },
  {
   "cell_type": "markdown",
   "metadata": {},
   "source": [
    "# Testing the Query on Distance from Soma"
   ]
  },
  {
   "cell_type": "code",
   "execution_count": null,
   "metadata": {},
   "outputs": [],
   "source": [
    "distance_from_soma_threshold = 30000\n",
    "close_limb_branch_dict = ns.query_neuron(uncompressed_neuron,\n",
    "                                        functions_list=[ns.skeletal_distance_from_soma],\n",
    "                                        query=f\"skeletal_distance_from_soma<{distance_from_soma_threshold}\",\n",
    "                                        function_kwargs=dict(somas=[0])\n",
    "\n",
    "\n",
    "                                        )"
   ]
  },
  {
   "cell_type": "code",
   "execution_count": null,
   "metadata": {},
   "outputs": [],
   "source": [
    "color_dictionary = nviz.visualize_neuron(uncompressed_neuron,\n",
    "                     limb_branch_dict=close_limb_branch_dict,\n",
    "                     mesh_color=\"random\",\n",
    "                                         mesh_color_alpha=1,\n",
    "                     mesh_whole_neuron=True,\n",
    "                     return_color_dict=True)"
   ]
  },
  {
   "cell_type": "code",
   "execution_count": null,
   "metadata": {},
   "outputs": [],
   "source": [
    "import matplotlib_utils as mu\n",
    "mu.plot_color_dict(color_dictionary)"
   ]
  },
  {
   "cell_type": "markdown",
   "metadata": {},
   "source": [
    "# Using the queries to find the mesh parts"
   ]
  },
  {
   "cell_type": "code",
   "execution_count": null,
   "metadata": {},
   "outputs": [],
   "source": [
    "import neuron_visualizations as nviz\n",
    "import neuron_searching as ns"
   ]
  },
  {
   "cell_type": "code",
   "execution_count": null,
   "metadata": {},
   "outputs": [],
   "source": [
    "current_functions_list = [\n",
    "    \"spines_per_skeletal_length\",\n",
    "    \"no_spine_average_mesh_center\",\n",
    "    \"n_spines\",\n",
    "    \"n_faces_branch\",\n",
    "    \n",
    "]\n",
    "\n",
    "import width_utils as wu\n",
    "wu = reload(wu)\n",
    "\n",
    "\n",
    "with su.suppress_stdout_stderr():\n",
    "    #The base level of segments we are going to check for axons\n",
    "    limb_branch_dict = ns.query_neuron(uncompressed_neuron,\n",
    "                                       query=\"n_spines < 4 and no_spine_average_mesh_center < 400\",\n",
    "                   functions_list=current_functions_list)\n",
    "    #print(F\"limb_branch_dict BEFORE = {limb_branch_dict}\")\n",
    "\n",
    "    #How to give a limb_branch_dict as an argument\n",
    "    current_functions_list = [\"axon_segment\"]\n",
    "    limb_branch_dict_upstream_filter = ns.query_neuron(uncompressed_neuron,\n",
    "                                       query=\"axon_segment==True\",\n",
    "                                       function_kwargs=dict(limb_branch_dict =limb_branch_dict,\n",
    "                                                            downstream_face_threshold=3000,\n",
    "                                                            width_match_threshold=50,\n",
    "                                                           print_flag=False),\n",
    "                                       functions_list=current_functions_list)"
   ]
  },
  {
   "cell_type": "code",
   "execution_count": null,
   "metadata": {},
   "outputs": [],
   "source": [
    "color_dictionary = nviz.visualize_neuron(uncompressed_neuron,\n",
    "                     limb_branch_dict=\"all\",\n",
    "                     mesh_color=\"random\",\n",
    "                                         mesh_color_alpha=1,\n",
    "                     mesh_whole_neuron=True,\n",
    "                     return_color_dict=True)"
   ]
  },
  {
   "cell_type": "code",
   "execution_count": null,
   "metadata": {},
   "outputs": [],
   "source": [
    "nviz = reload(nviz)\n",
    "xu = reload(xu)\n",
    "limb_idx = \"L1\"\n",
    "nviz.plot_limb_concept_network_2D(neuron_obj=uncompressed_neuron,\n",
    "                                 limb_name=limb_idx,\n",
    "                                 node_colors=color_dictionary)"
   ]
  },
  {
   "cell_type": "code",
   "execution_count": null,
   "metadata": {},
   "outputs": [],
   "source": []
  },
  {
   "cell_type": "code",
   "execution_count": null,
   "metadata": {},
   "outputs": [],
   "source": []
  },
  {
   "cell_type": "code",
   "execution_count": null,
   "metadata": {},
   "outputs": [],
   "source": []
  },
  {
   "cell_type": "code",
   "execution_count": null,
   "metadata": {},
   "outputs": [],
   "source": [
    "str(type(uncompressed_neuron)) == str(neuron.Neuron)"
   ]
  },
  {
   "cell_type": "code",
   "execution_count": null,
   "metadata": {},
   "outputs": [],
   "source": []
  },
  {
   "cell_type": "code",
   "execution_count": null,
   "metadata": {},
   "outputs": [],
   "source": [
    "returned_color_dict = nviz.visualize_neuron(uncompressed_neuron,\n",
    "                      visualize_type=[\"mesh\"],\n",
    "                     limb_branch_dict=dict(L0=[\"all\"]),\n",
    "                      mesh_color_alpha=1,\n",
    "                      return_color_dict=True\n",
    "                     mesh_whole_neuron=False)"
   ]
  },
  {
   "cell_type": "code",
   "execution_count": null,
   "metadata": {},
   "outputs": [],
   "source": [
    "nviz = reload(nviz)\n",
    "with su.suppress_stdout_stderr():\n",
    "    nviz.visualize_neuron(uncompressed_neuron,\n",
    "                          visualize_type=[\"mesh\"],\n",
    "                         limb_branch_dict=limb_branch_dict_upstream_filter,\n",
    "                          mesh_color=\"red\",\n",
    "                          mesh_color_alpha=1,\n",
    "                         mesh_whole_neuron=True)"
   ]
  },
  {
   "cell_type": "markdown",
   "metadata": {},
   "source": [
    "# Conclusions"
   ]
  },
  {
   "cell_type": "code",
   "execution_count": null,
   "metadata": {},
   "outputs": [],
   "source": [
    "\"\"\"\n",
    "There are still some false positives but this can be fixed when we do the merge analysis\n",
    "\n",
    "\n",
    "\"\"\""
   ]
  },
  {
   "cell_type": "markdown",
   "metadata": {},
   "source": [
    "# How to find the axon from this point"
   ]
  },
  {
   "cell_type": "code",
   "execution_count": null,
   "metadata": {},
   "outputs": [],
   "source": [
    "\"\"\"\n",
    "Ideas: \n",
    "1) Can look at how much axon in a row without being interrupted (or only interrupted by a certain amount)\n",
    "2) Look at branches that are within x distance of the soma\n",
    "3) Look at the width profile of the branch\n",
    "4) not a lot of spining\n",
    "5) where on the soma it is\n",
    "\"\"\""
   ]
  },
  {
   "cell_type": "markdown",
   "metadata": {},
   "source": [
    "# create a function that will measure the distance from the starting point (aka the soma)"
   ]
  },
  {
   "cell_type": "code",
   "execution_count": null,
   "metadata": {},
   "outputs": [],
   "source": [
    "import neuron_searching as ns\n",
    "ns = reload(ns)\n",
    "\n",
    "current_functions_list = [\n",
    "    \"skeletal_distance_from_soma\",\n",
    "    \"no_spine_average_mesh_center\",\n",
    "    \"n_spines\",\n",
    "    \"n_faces_branch\",\n",
    "    \n",
    "]\n",
    "\n",
    "function_kwargs=dict(somas=[0,1],print_flag=False)\n",
    "soma_skeletal_distance_threshold = 30000\n",
    "query=\"skeletal_distance_from_soma < @soma_skeletal_distance_threshold\"\n",
    "query_variables_dict = dict(limb_list=['L1'],\n",
    "                           soma_skeletal_distance_threshold=soma_skeletal_distance_threshold)\n",
    "\n",
    "# limb_branch_dict_df = ns.query_neuron(uncompressed_neuron,\n",
    "#                                    query=query,\n",
    "#                                       function_kwargs=function_kwargs,\n",
    "#                                       query_variables_dict=query_variables_dict,\n",
    "#                functions_list=current_functions_list,\n",
    "#                                   return_dataframe=True)\n",
    "\n",
    "limb_branch_dict = ns.query_neuron(uncompressed_neuron,\n",
    "                                   query=query,\n",
    "               functions_list=current_functions_list,\n",
    "                                   query_variables_dict=query_variables_dict,\n",
    "                                   function_kwargs=function_kwargs,\n",
    "                                  return_dataframe=False)\n"
   ]
  },
  {
   "cell_type": "code",
   "execution_count": null,
   "metadata": {},
   "outputs": [],
   "source": [
    "limb_branch_dict"
   ]
  },
  {
   "cell_type": "code",
   "execution_count": null,
   "metadata": {},
   "outputs": [],
   "source": [
    "nviz = reload(nviz)\n",
    "\n",
    "returned_colors = nviz.visualize_neuron(uncompressed_neuron,\n",
    "                      visualize_type=[\"mesh\"],\n",
    "                     limb_branch_dict=limb_branch_dict,\n",
    "                      mesh_color=\"red\",\n",
    "                      mesh_color_alpha=1,\n",
    "                     #mesh_whole_neuron=True,\n",
    "                     return_color_dict=True,\n",
    "                    print_time=True)"
   ]
  },
  {
   "cell_type": "code",
   "execution_count": null,
   "metadata": {
    "scrolled": true
   },
   "outputs": [],
   "source": [
    "mu = reload(mu)\n",
    "mu.plot_color_dict(returned_colors,print_flag=False)"
   ]
  },
  {
   "cell_type": "markdown",
   "metadata": {},
   "source": [
    "# The algorithm for finding the axon branch"
   ]
  },
  {
   "cell_type": "markdown",
   "metadata": {},
   "source": [
    "# --- practicing getting skeletons ----"
   ]
  },
  {
   "cell_type": "code",
   "execution_count": null,
   "metadata": {},
   "outputs": [],
   "source": [
    "neuron = reload(neuron)\n",
    "uncompressed_neuron = neuron.Neuron(uncompressed_neuron)"
   ]
  },
  {
   "cell_type": "code",
   "execution_count": null,
   "metadata": {},
   "outputs": [],
   "source": [
    "ex_limb_obj = uncompressed_neuron.concept_network.nodes[\"L3\"][\"data\"]"
   ]
  },
  {
   "cell_type": "code",
   "execution_count": null,
   "metadata": {},
   "outputs": [],
   "source": [
    "ex_limb_obj.find_branch_by_skeleton_coordinate(np.array([729486.6, 977760.4, 921825.8]))"
   ]
  },
  {
   "cell_type": "code",
   "execution_count": null,
   "metadata": {},
   "outputs": [],
   "source": [
    "ex_limb_obj.concept_network_data_by_soma\n",
    "ex_limb_obj.get_skeleton_soma_starting_node(1)"
   ]
  },
  {
   "cell_type": "code",
   "execution_count": null,
   "metadata": {},
   "outputs": [],
   "source": [
    "interested_soma = 0\n",
    "ex_limb_obj = uncompressed_neuron.concept_network.nodes[\"L4\"][\"data\"]"
   ]
  },
  {
   "cell_type": "code",
   "execution_count": null,
   "metadata": {},
   "outputs": [],
   "source": [
    "ex_limb_obj.touching_somas()\n",
    "ex_limb_starting_coordinate = ex_limb_obj.get_soma_starting_coordinate(1)\n",
    "ex_limb_starting_coordinate"
   ]
  },
  {
   "cell_type": "code",
   "execution_count": null,
   "metadata": {},
   "outputs": [],
   "source": [
    "import skeleton_utils as sk\n",
    "import networkx as nx\n",
    "import networkx_utils as xu\n",
    "ex_limb_skeleton_graph = sk.convert_skeleton_to_graph(ex_limb_obj.skeleton)\n",
    "xu.get_nodes_with_attributes_dict(ex_limb_skeleton_graph,\n",
    "                                  attribute_dict=dict(coordinates=ex_limb_starting_coordinate))"
   ]
  },
  {
   "cell_type": "code",
   "execution_count": null,
   "metadata": {},
   "outputs": [],
   "source": [
    "\n",
    "\n",
    "get_skeleton_soma_starting_node(uncompressed_neuron.concept_network.nodes[\"L5\"][\"data\"],\n",
    "                               0,\n",
    "                               print_flag = True)"
   ]
  },
  {
   "cell_type": "code",
   "execution_count": null,
   "metadata": {},
   "outputs": [],
   "source": [
    "ex_limb_skeleton_graph.nodes[256]"
   ]
  },
  {
   "cell_type": "code",
   "execution_count": null,
   "metadata": {},
   "outputs": [],
   "source": [
    "ex_limb_obj.skeleton[1000][1]"
   ]
  },
  {
   "cell_type": "code",
   "execution_count": null,
   "metadata": {},
   "outputs": [],
   "source": []
  },
  {
   "cell_type": "code",
   "execution_count": null,
   "metadata": {},
   "outputs": [],
   "source": [
    "import numpy_utils as nu\n",
    "import numpy as np\n",
    "\n",
    "\n",
    "limb= ex_limb_obj\n",
    "target_coordinate = np.array([695784., 986044., 906273.])\n",
    "\n",
    "\n",
    "\n",
    "find_branch_by_skeleton_coordinate(limb= ex_limb_obj,\n",
    "target_coordinate = np.array([729486.6, 977760.4, 921825.8]))"
   ]
  },
  {
   "cell_type": "code",
   "execution_count": null,
   "metadata": {},
   "outputs": [],
   "source": [
    "\"\"\"\n",
    "New Tool for help with identification\n",
    "\n",
    "Purpose: \n",
    "\n",
    "Given: \n",
    "a) If given limb or branch (any object)\n",
    "b) want starting endpoint of that limb/branch\n",
    "\n",
    "Gete the skeleton of x distance from the starting point\n",
    "Get the vector from the starting point to the endpoints\n",
    "Get the angle between that and a hardcoded vector of your choice\n",
    "\n",
    "\n",
    "Get the paths from the endpoints to the starting point\n",
    "For all those paths get the vector from \n",
    "\n",
    "\n",
    "\n",
    "Better algorithm: \n",
    "1) Take all skeletons of branches that border a soma\n",
    "and stitch them together at the soma node\n",
    "\n",
    "\n",
    "Would want to trace it back to the specific branch it starts on\n",
    "\n",
    "For each limb: \n",
    "1) \n",
    "\n",
    "2) \n",
    "\n",
    "\n",
    "\n",
    "\"\"\""
   ]
  },
  {
   "cell_type": "markdown",
   "metadata": {},
   "source": [
    "# Developing colors"
   ]
  },
  {
   "cell_type": "code",
   "execution_count": null,
   "metadata": {},
   "outputs": [],
   "source": [
    "import webcolors\n",
    "import numpy as np\n",
    "\n",
    "def closest_colour(requested_colour):\n",
    "    min_colours = {}\n",
    "    for key, name in webcolors.CSS3_HEX_TO_NAMES.items():\n",
    "        r_c, g_c, b_c = webcolors.hex_to_rgb(key)\n",
    "        rd = (r_c - requested_colour[0]) ** 2\n",
    "        gd = (g_c - requested_colour[1]) ** 2\n",
    "        bd = (b_c - requested_colour[2]) ** 2\n",
    "        min_colours[(rd + gd + bd)] = name\n",
    "    return min_colours[min(min_colours.keys())]\n",
    "\n",
    "def get_colour_name(requested_colour):\n",
    "    try:\n",
    "        closest_name = actual_name = webcolors.rgb_to_name(requested_colour)\n",
    "    except ValueError:\n",
    "        closest_name = closest_colour(requested_colour)\n",
    "        actual_name = None\n",
    "    return actual_name, closest_name\n",
    "\n",
    "def convert_rgb_to_name(rgb_value):\n",
    "    rgb_value = np.array(rgb_value)\n",
    "    if not nu.is_array_like(rgb_value[0]):\n",
    "        rgb_value = rgb_value.reshape(1,-1)\n",
    "    \n",
    "    print(f\"rgb_value.shape = {rgb_value.shape}\")\n",
    "\n",
    "    output_colors = []\n",
    "    for k in rgb_value:\n",
    "        if len(k) > 3:\n",
    "            k = k[:3]\n",
    "        adjusted_color_value = np.array(k)*255\n",
    "        output_colors.append(get_colour_name(adjusted_color_value)[-1])\n",
    "    \n",
    "    if len(output_colors) == 1:\n",
    "        return output_colors[0]\n",
    "    elif len(output_colors) > 1:\n",
    "        return output_colors\n",
    "    else:\n",
    "        raise Exception(\"len(output_colors) == 0\")"
   ]
  }
 ],
 "metadata": {
  "kernelspec": {
   "display_name": "Python 3",
   "language": "python",
   "name": "python3"
  },
  "language_info": {
   "codemirror_mode": {
    "name": "ipython",
    "version": 3
   },
   "file_extension": ".py",
   "mimetype": "text/x-python",
   "name": "python",
   "nbconvert_exporter": "python",
   "pygments_lexer": "ipython3",
   "version": "3.6.9"
  }
 },
 "nbformat": 4,
 "nbformat_minor": 4
}
