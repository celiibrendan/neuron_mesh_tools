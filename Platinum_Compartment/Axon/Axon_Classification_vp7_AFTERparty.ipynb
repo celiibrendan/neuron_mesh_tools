{
 "cells": [
  {
   "cell_type": "code",
   "execution_count": 1,
   "metadata": {},
   "outputs": [],
   "source": [
    "from os import sys\n",
    "sys.path.append(\"/meshAfterParty/\")\n",
    "#sys.path.append(\"../../meshAfterParty/meshAfterParty\")"
   ]
  },
  {
   "cell_type": "code",
   "execution_count": 2,
   "metadata": {},
   "outputs": [
    {
     "name": "stderr",
     "output_type": "stream",
     "text": [
      "WARNING:root:Need to pip install annotationframeworkclient to repair mesh with pychunkedgraph\n",
      "WARNING:root:Need to pip install annotationframeworkclient to use dataset_name parameters\n"
     ]
    }
   ],
   "source": [
    "from importlib import reload\n",
    "import os\n",
    "from pathlib import Path\n",
    "os.getcwd()\n",
    "\n",
    "import neuron_utils as nru\n",
    "nru = reload(nru)\n",
    "import neuron\n",
    "neuron=reload(neuron)\n",
    "import neuron_visualizations as nviz\n",
    "import time\n",
    "import system_utils as su"
   ]
  },
  {
   "cell_type": "markdown",
   "metadata": {},
   "source": [
    "# How to generate the decomposition from scratch"
   ]
  },
  {
   "cell_type": "code",
   "execution_count": 3,
   "metadata": {},
   "outputs": [],
   "source": [
    "# import trimesh_utils as tu\n",
    "# mesh_file_path = Path(\"/notebooks/test_neurons/multi_soma_example.off\")\n",
    "# mesh_file_path.exists()\n",
    "# current_neuron_mesh = tu.load_mesh_no_processing(str(mesh_file_path.absolute()))\n",
    "\n",
    "# # picking a random segment id\n",
    "# segment_id = 12345\n",
    "# description = \"double_soma_meshafterparty\"\n",
    "\n",
    "# # --------------------- Processing the Neuron ----------------- #\n",
    "# import soma_extraction_utils as sm\n",
    "\n",
    "# somas = sm.extract_soma_center(segment_id,\n",
    "#                              current_neuron_mesh.vertices,\n",
    "#                              current_neuron_mesh.faces)\n",
    "\n",
    "# import time\n",
    "# meshparty_time = time.time()\n",
    "# import compartment_utils as cu\n",
    "# cu = reload(cu)\n",
    "\n",
    "# import meshparty_skeletonize as m_sk\n",
    "# import preprocess_neuron as pn\n",
    "# pn = reload(pn)\n",
    "# m_sk = reload(m_sk)\n",
    "\n",
    "# somas = somas\n",
    "\n",
    "# nru = reload(nru)\n",
    "# neuron = reload(neuron)\n",
    "# current_neuron = neuron.Neuron(\n",
    "#     mesh=current_neuron_mesh,\n",
    "#     segment_id=segment_id,\n",
    "#     description=description,\n",
    "#     decomposition_type=\"meshafterparty\",\n",
    "#     somas = somas,\n",
    "#     #branch_skeleton_data=branch_skeleton_data,\n",
    "#     suppress_preprocessing_print=False,\n",
    "# )\n",
    "# print(f\"Total time for processing: {time.time() - meshparty_time}\")\n",
    "\n",
    "\n",
    "# # ----------------- Calculating the Spines and Width ----------- #\n",
    "# current_neuron.calculate_spines(print_flag=True)\n",
    "# #nviz.plot_spines(current_neuron)\n",
    "\n",
    "# current_neuron.calculate_new_width(no_spines=False,\n",
    "#                                        distance_by_mesh_center=True)\n",
    "\n",
    "# current_neuron.calculate_new_width(no_spines=False,\n",
    "#                                        distance_by_mesh_center=True,\n",
    "#                                        summary_measure=\"median\")\n",
    "\n",
    "# current_neuron.calculate_new_width(no_spines=True,\n",
    "#                                        distance_by_mesh_center=True,\n",
    "#                                        summary_measure=\"mean\")\n",
    "\n",
    "# current_neuron.calculate_new_width(no_spines=True,\n",
    "#                                        distance_by_mesh_center=True,\n",
    "#                                        summary_measure=\"median\")\n",
    "\n",
    "# # ------------------ Saving off the Neuron --------------- #\n",
    "# current_neuron.save_compressed_neuron(output_folder=Path(\"/notebooks/test_neurons/meshafterparty_processed/\"),\n",
    "#                                      export_mesh=True)"
   ]
  },
  {
   "cell_type": "markdown",
   "metadata": {},
   "source": [
    "# Loading in the Neuron Object"
   ]
  },
  {
   "cell_type": "code",
   "execution_count": 5,
   "metadata": {
    "collapsed": true,
    "jupyter": {
     "outputs_hidden": true
    }
   },
   "outputs": [
    {
     "name": "stdout",
     "output_type": "stream",
     "text": [
      "Inside decompress neuron and decomposition_type = meshafterparty\n",
      "Passed faces original mesh check\n",
      "Passed vertices original mesh check\n"
     ]
    },
    {
     "data": {
      "application/vnd.jupyter.widget-view+json": {
       "model_id": "867452c17e904f999ddef64afaeab993",
       "version_major": 2,
       "version_minor": 0
      },
      "text/plain": [
       "HBox(children=(FloatProgress(value=0.0, max=23.0), HTML(value='')))"
      ]
     },
     "metadata": {},
     "output_type": "display_data"
    },
    {
     "name": "stdout",
     "output_type": "stream",
     "text": [
      "\n"
     ]
    },
    {
     "data": {
      "application/vnd.jupyter.widget-view+json": {
       "model_id": "33f5b7734dd1406786daf7922856bac4",
       "version_major": 2,
       "version_minor": 0
      },
      "text/plain": [
       "HBox(children=(FloatProgress(value=0.0, max=43.0), HTML(value='')))"
      ]
     },
     "metadata": {},
     "output_type": "display_data"
    },
    {
     "name": "stdout",
     "output_type": "stream",
     "text": [
      "\n"
     ]
    },
    {
     "data": {
      "application/vnd.jupyter.widget-view+json": {
       "model_id": "5d80808481824de18e793fe407a863de",
       "version_major": 2,
       "version_minor": 0
      },
      "text/plain": [
       "HBox(children=(FloatProgress(value=0.0, max=47.0), HTML(value='')))"
      ]
     },
     "metadata": {},
     "output_type": "display_data"
    },
    {
     "name": "stdout",
     "output_type": "stream",
     "text": [
      "\n"
     ]
    },
    {
     "data": {
      "application/vnd.jupyter.widget-view+json": {
       "model_id": "be80b59606d146e3b068a1b0df46e8b3",
       "version_major": 2,
       "version_minor": 0
      },
      "text/plain": [
       "HBox(children=(FloatProgress(value=0.0, max=32.0), HTML(value='')))"
      ]
     },
     "metadata": {},
     "output_type": "display_data"
    },
    {
     "name": "stdout",
     "output_type": "stream",
     "text": [
      "\n"
     ]
    },
    {
     "data": {
      "application/vnd.jupyter.widget-view+json": {
       "model_id": "6cf6dc72c6d14473aa44d8d05dcb741c",
       "version_major": 2,
       "version_minor": 0
      },
      "text/plain": [
       "HBox(children=(FloatProgress(value=0.0, max=5.0), HTML(value='')))"
      ]
     },
     "metadata": {},
     "output_type": "display_data"
    },
    {
     "name": "stdout",
     "output_type": "stream",
     "text": [
      "\n"
     ]
    },
    {
     "data": {
      "application/vnd.jupyter.widget-view+json": {
       "model_id": "b931c83f41b84239bccfbda8d35e373a",
       "version_major": 2,
       "version_minor": 0
      },
      "text/plain": [
       "HBox(children=(FloatProgress(value=0.0, max=55.0), HTML(value='')))"
      ]
     },
     "metadata": {},
     "output_type": "display_data"
    },
    {
     "name": "stdout",
     "output_type": "stream",
     "text": [
      "\n"
     ]
    },
    {
     "data": {
      "application/vnd.jupyter.widget-view+json": {
       "model_id": "4e0378210ec2410aab361786015b670e",
       "version_major": 2,
       "version_minor": 0
      },
      "text/plain": [
       "HBox(children=(FloatProgress(value=0.0, max=1.0), HTML(value='')))"
      ]
     },
     "metadata": {},
     "output_type": "display_data"
    },
    {
     "name": "stdout",
     "output_type": "stream",
     "text": [
      "\n"
     ]
    },
    {
     "data": {
      "application/vnd.jupyter.widget-view+json": {
       "model_id": "028a9dc0e7154a4a9770c50ba54e665a",
       "version_major": 2,
       "version_minor": 0
      },
      "text/plain": [
       "HBox(children=(FloatProgress(value=0.0, max=30.0), HTML(value='')))"
      ]
     },
     "metadata": {},
     "output_type": "display_data"
    },
    {
     "name": "stdout",
     "output_type": "stream",
     "text": [
      "\n"
     ]
    },
    {
     "data": {
      "application/vnd.jupyter.widget-view+json": {
       "model_id": "71e908f300ba43158b54387dc041549a",
       "version_major": 2,
       "version_minor": 0
      },
      "text/plain": [
       "HBox(children=(FloatProgress(value=0.0, max=9.0), HTML(value='')))"
      ]
     },
     "metadata": {},
     "output_type": "display_data"
    },
    {
     "name": "stdout",
     "output_type": "stream",
     "text": [
      "\n"
     ]
    },
    {
     "data": {
      "application/vnd.jupyter.widget-view+json": {
       "model_id": "81805be879cd47849d10915863f9f355",
       "version_major": 2,
       "version_minor": 0
      },
      "text/plain": [
       "HBox(children=(FloatProgress(value=0.0, max=16.0), HTML(value='')))"
      ]
     },
     "metadata": {},
     "output_type": "display_data"
    },
    {
     "name": "stdout",
     "output_type": "stream",
     "text": [
      "\n"
     ]
    },
    {
     "data": {
      "application/vnd.jupyter.widget-view+json": {
       "model_id": "31ddf7e9af744050aebea591627ff3f4",
       "version_major": 2,
       "version_minor": 0
      },
      "text/plain": [
       "HBox(children=(FloatProgress(value=0.0, max=24.0), HTML(value='')))"
      ]
     },
     "metadata": {},
     "output_type": "display_data"
    },
    {
     "name": "stdout",
     "output_type": "stream",
     "text": [
      "\n"
     ]
    },
    {
     "data": {
      "application/vnd.jupyter.widget-view+json": {
       "model_id": "e46be75c6f234011b540ea72c06fdafd",
       "version_major": 2,
       "version_minor": 0
      },
      "text/plain": [
       "HBox(children=(FloatProgress(value=0.0, max=11.0), HTML(value='')))"
      ]
     },
     "metadata": {},
     "output_type": "display_data"
    },
    {
     "name": "stdout",
     "output_type": "stream",
     "text": [
      "\n"
     ]
    },
    {
     "data": {
      "application/vnd.jupyter.widget-view+json": {
       "model_id": "ca1b19ea854c448c982df6149fff099a",
       "version_major": 2,
       "version_minor": 0
      },
      "text/plain": [
       "HBox(children=(FloatProgress(value=0.0, max=1.0), HTML(value='')))"
      ]
     },
     "metadata": {},
     "output_type": "display_data"
    },
    {
     "name": "stdout",
     "output_type": "stream",
     "text": [
      "\n",
      "********************************** generate_limb_concept_networks_from_global_connectivity****************************\n",
      "\n",
      "\n",
      "------Working on limb 0 -------\n",
      "inside loop len(curr_limb_divided_meshes) = 23 len(curr_limb_divided_skeletons) = 23\n",
      "--- Working on soma_idx: 0----\n",
      "Total time for filtering periphery meshes = 0.18975472450256348\n",
      "touching_pieces = [22]\n",
      "Total time for mesh connectivity = 0.8578276634216309\n",
      "Using touching_pieces[0] = 22\n",
      "inside inner loop len(curr_limb_divided_skeletons) = 23\n",
      "closest_endpoint WITH NEW KDTREE METHOD= [755202. 946983. 875180.]\n",
      "About to send touching_soma_vertices = [[755269.  950604.8 875519.5]\n",
      " [756066.6 950991.5 875998.8]\n",
      " [755707.2 950526.4 875856.4]\n",
      " [756251.2 951230.5 876054. ]\n",
      " [755692.6 950878.2 875859.1]\n",
      " [755327.4 950467.4 875490.8]\n",
      " [755803.  950850.2 875940.2]\n",
      " [756577.3 951378.6 876091.8]\n",
      " [756371.5 951336.1 876063.7]\n",
      " [755903.9 950990.2 875982.8]\n",
      " [755611.5 950823.8 875822. ]\n",
      " [755415.9 950728.8 875713.6]\n",
      " [755186.1 950392.1 875386.3]\n",
      " [756127.1 951161.3 876031.9]\n",
      " [755434.3 950504.9 875650.2]\n",
      " [756767.9 951340.4 876101. ]\n",
      " [755570.1 950635.1 875768.6]\n",
      " [755051.3 950506.  875234.1]\n",
      " [755104.9 950590.4 875331.6]]\n",
      "Starting_edge inside branches_to_conept = [[740223. 948206. 881612.]\n",
      " [755202. 946983. 875180.]]\n",
      "At the start, starting_node (in terms of the skeleton, that shouldn't match the starting edge) = [23]\n",
      "printing out current edge:\n",
      "[[755202. 946983. 875180.]\n",
      " [740223. 948206. 881612.]]\n",
      "edge_endpoints_to_process was empty so exiting loop after 23 iterations\n",
      "starting_node in concept map (that should match the starting edge) = 22\n",
      "Total time for branches to concept conversion = 0.16360259056091309\n",
      "\n",
      "Recovered touching vertices = {22: TrackedArray([[755269. , 950604.8, 875519.5],\n",
      "              [756066.6, 950991.5, 875998.8],\n",
      "              [755707.2, 950526.4, 875856.4],\n",
      "              [756251.2, 951230.5, 876054. ],\n",
      "              [755692.6, 950878.2, 875859.1],\n",
      "              [755327.4, 950467.4, 875490.8],\n",
      "              [755803. , 950850.2, 875940.2],\n",
      "              [756577.3, 951378.6, 876091.8],\n",
      "              [756371.5, 951336.1, 876063.7],\n",
      "              [755903.9, 950990.2, 875982.8],\n",
      "              [755611.5, 950823.8, 875822. ],\n",
      "              [755415.9, 950728.8, 875713.6],\n",
      "              [755186.1, 950392.1, 875386.3],\n",
      "              [756127.1, 951161.3, 876031.9],\n",
      "              [755434.3, 950504.9, 875650.2],\n",
      "              [756767.9, 951340.4, 876101. ],\n",
      "              [755570.1, 950635.1, 875768.6],\n",
      "              [755051.3, 950506. , 875234.1],\n",
      "              [755104.9, 950590.4, 875331.6]])}\n",
      "recovered_touching_piece = [22]\n",
      "After concept mapping size = 23\n",
      "Local time for concept mapping = 1.298868179321289\n",
      "\n",
      "\n",
      "------Working on limb 1 -------\n",
      "inside loop len(curr_limb_divided_meshes) = 43 len(curr_limb_divided_skeletons) = 43\n",
      "--- Working on soma_idx: 0----\n",
      "Total time for filtering periphery meshes = 0.4378626346588135\n",
      "touching_pieces = [42]\n",
      "Total time for mesh connectivity = 0.19075441360473633\n",
      "Using touching_pieces[0] = 42\n",
      "inside inner loop len(curr_limb_divided_skeletons) = 43\n",
      "closest_endpoint WITH NEW KDTREE METHOD= [755749. 947117. 874713.]\n",
      "About to send touching_soma_vertices = [[758199.2 951673.5 875799.4]\n",
      " [756978.4 951254.  871233.8]\n",
      " [759524.8 951280.8 873206.6]\n",
      " [758907.  950977.6 871911.2]\n",
      " [759144.8 950937.4 872043.8]\n",
      " [759478.2 951371.6 873044.1]\n",
      " [758809.2 951824.5 875252.6]\n",
      " [758136.8 951401.1 875848.1]\n",
      " [757570.2 951200.8 876043. ]\n",
      " [759325.8 951924.6 874210.1]\n",
      " [759424.8 951622.7 873907.9]\n",
      " [754846.4 950863.9 872870.1]\n",
      " [754770.2 950773.4 873485.9]\n",
      " [759196.2 951888.4 874926.7]\n",
      " [757141.4 951461.7 876168.1]\n",
      " [758114.2 951068.5 871298. ]\n",
      " [754629.2 950805.8 874733.6]\n",
      " [754815.8 950676.  874942.4]\n",
      " [757712.6 950985.1 871274.2]\n",
      " [757811.6 951407.7 875993.1]\n",
      " [759296.4 952081.8 874209. ]\n",
      " [757296.2 951181.8 871155.6]\n",
      " [758642.2 951186.8 871719.2]\n",
      " [759458.  951338.4 873337.3]\n",
      " [759505.8 951789.1 873946.8]\n",
      " [758646.8 951741.4 875393.4]\n",
      " [754854.6 950993.4 872732.6]\n",
      " [754611.2 950713.5 874264.1]\n",
      " [755072.  951027.6 872537.5]\n",
      " [758261.2 951499.8 875681.4]\n",
      " [758287.4 951020.7 871252.9]\n",
      " [754908.2 950630.  875129.9]\n",
      " [758990.6 951834.2 875140.5]\n",
      " [756167.8 950779.  871893.6]\n",
      " [759353.6 952109.5 874707.1]\n",
      " [754778.6 950829.8 873281.9]\n",
      " [754778.6 950801.1 874921.8]\n",
      " [754724.  950705.9 873727.4]\n",
      " [755744.6 950610.9 872348.7]\n",
      " [758396.8 951125.5 871224.9]\n",
      " [759366.2 951106.5 872462.2]\n",
      " [759348.  951002.  872129.4]\n",
      " [758510.6 951008.6 871273.4]\n",
      " [758442.4 951674.2 875582.5]\n",
      " [759327.6 952007.1 874831.5]\n",
      " [757481.  951323.8 876083. ]\n",
      " [757920.2 951008.4 871312.7]\n",
      " [756004.2 950532.1 872162.8]\n",
      " [754615.  950854.6 874529.3]\n",
      " [759424.4 951263.5 872762.9]\n",
      " [755797.2 950725.2 872253.6]\n",
      " [757022.6 951378.9 876100.9]\n",
      " [756439.  951213.1 871400.6]\n",
      " [759372.2 952145.8 874416.9]\n",
      " [756037.4 950711.8 872034.6]\n",
      " [757250.9 951326.5 876102.9]\n",
      " [754746.7 950891.8 873708.9]\n",
      " [756459.1 950945.1 871628.2]\n",
      " [758537.9 951560.4 875464.6]\n",
      " [757769.9 951107.9 871218.8]\n",
      " [756684.5 951246.  871289.4]\n",
      " [754790.1 950822.8 873017.9]\n",
      " [759328.7 951957.9 874519.9]\n",
      " [756183.9 950630.5 871888.2]\n",
      " [755519.5 950686.2 872432.6]\n",
      " [756346.7 951124.1 871593.9]\n",
      " [755183.9 950801.6 872497.1]\n",
      " [755114.5 950600.9 872508.9]\n",
      " [758899.9 951712.6 875166.8]\n",
      " [759423.3 951601.  873683.1]\n",
      " [757672.3 951424.2 876080.6]\n",
      " [759410.9 951253.1 872351. ]\n",
      " [754631.1 950586.9 874005.6]\n",
      " [754708.5 950703.1 873861.2]\n",
      " [756767.9 951340.4 876101. ]\n",
      " [754957.7 950916.9 872613.9]\n",
      " [759119.7 951996.6 875014.6]\n",
      " [759101.5 951736.5 874955.2]\n",
      " [755294.5 950756.4 872467.8]\n",
      " [758711.3 951036.1 871771.4]\n",
      " [758810.3 951056.1 871855.5]\n",
      " [757941.1 951421.6 875931.9]\n",
      " [756687.3 951355.9 871260.1]\n",
      " [759433.9 951441.3 873429.2]\n",
      " [758607.9 951040.4 871535.8]\n",
      " [759438.5 951887.5 874061.6]\n",
      " [756278.9 950970.1 871769.4]\n",
      " [756564.5 951364.7 871351.3]\n",
      " [759410.1 951269.6 872591.5]\n",
      " [755051.3 950506.  875234.1]\n",
      " [757508.9 951134.2 871214.8]\n",
      " [759418.1 951494.4 873526.2]\n",
      " [754620.1 950757.8 874086.2]\n",
      " [758713.9 951644.5 875337.5]\n",
      " [757152.9 951182.4 871185.3]]\n",
      "Starting_edge inside branches_to_conept = [[755749. 947117. 874713.]\n",
      " [759176. 936807. 872375.]]\n",
      "At the start, starting_node (in terms of the skeleton, that shouldn't match the starting edge) = [20]\n",
      "printing out current edge:\n",
      "[[755749. 947117. 874713.]\n",
      " [759176. 936807. 872375.]]\n",
      "edge_endpoints_to_process was empty so exiting loop after 43 iterations\n",
      "starting_node in concept map (that should match the starting edge) = 42\n",
      "Total time for branches to concept conversion = 0.20866131782531738\n",
      "\n",
      "Recovered touching vertices = {42: TrackedArray([[758199.2, 951673.5, 875799.4],\n",
      "              [756978.4, 951254. , 871233.8],\n",
      "              [759524.8, 951280.8, 873206.6],\n",
      "              [758907. , 950977.6, 871911.2],\n",
      "              [759144.8, 950937.4, 872043.8],\n",
      "              [759478.2, 951371.6, 873044.1],\n",
      "              [758809.2, 951824.5, 875252.6],\n",
      "              [758136.8, 951401.1, 875848.1],\n",
      "              [757570.2, 951200.8, 876043. ],\n",
      "              [759325.8, 951924.6, 874210.1],\n",
      "              [759424.8, 951622.7, 873907.9],\n",
      "              [754846.4, 950863.9, 872870.1],\n",
      "              [754770.2, 950773.4, 873485.9],\n",
      "              [759196.2, 951888.4, 874926.7],\n",
      "              [757141.4, 951461.7, 876168.1],\n",
      "              [758114.2, 951068.5, 871298. ],\n",
      "              [754629.2, 950805.8, 874733.6],\n",
      "              [754815.8, 950676. , 874942.4],\n",
      "              [757712.6, 950985.1, 871274.2],\n",
      "              [757811.6, 951407.7, 875993.1],\n",
      "              [759296.4, 952081.8, 874209. ],\n",
      "              [757296.2, 951181.8, 871155.6],\n",
      "              [758642.2, 951186.8, 871719.2],\n",
      "              [759458. , 951338.4, 873337.3],\n",
      "              [759505.8, 951789.1, 873946.8],\n",
      "              [758646.8, 951741.4, 875393.4],\n",
      "              [754854.6, 950993.4, 872732.6],\n",
      "              [754611.2, 950713.5, 874264.1],\n",
      "              [755072. , 951027.6, 872537.5],\n",
      "              [758261.2, 951499.8, 875681.4],\n",
      "              [758287.4, 951020.7, 871252.9],\n",
      "              [754908.2, 950630. , 875129.9],\n",
      "              [758990.6, 951834.2, 875140.5],\n",
      "              [756167.8, 950779. , 871893.6],\n",
      "              [759353.6, 952109.5, 874707.1],\n",
      "              [754778.6, 950829.8, 873281.9],\n",
      "              [754778.6, 950801.1, 874921.8],\n",
      "              [754724. , 950705.9, 873727.4],\n",
      "              [755744.6, 950610.9, 872348.7],\n",
      "              [758396.8, 951125.5, 871224.9],\n",
      "              [759366.2, 951106.5, 872462.2],\n",
      "              [759348. , 951002. , 872129.4],\n",
      "              [758510.6, 951008.6, 871273.4],\n",
      "              [758442.4, 951674.2, 875582.5],\n",
      "              [759327.6, 952007.1, 874831.5],\n",
      "              [757481. , 951323.8, 876083. ],\n",
      "              [757920.2, 951008.4, 871312.7],\n",
      "              [756004.2, 950532.1, 872162.8],\n",
      "              [754615. , 950854.6, 874529.3],\n",
      "              [759424.4, 951263.5, 872762.9],\n",
      "              [755797.2, 950725.2, 872253.6],\n",
      "              [757022.6, 951378.9, 876100.9],\n",
      "              [756439. , 951213.1, 871400.6],\n",
      "              [759372.2, 952145.8, 874416.9],\n",
      "              [756037.4, 950711.8, 872034.6],\n",
      "              [757250.9, 951326.5, 876102.9],\n",
      "              [754746.7, 950891.8, 873708.9],\n",
      "              [756459.1, 950945.1, 871628.2],\n",
      "              [758537.9, 951560.4, 875464.6],\n",
      "              [757769.9, 951107.9, 871218.8],\n",
      "              [756684.5, 951246. , 871289.4],\n",
      "              [754790.1, 950822.8, 873017.9],\n",
      "              [759328.7, 951957.9, 874519.9],\n",
      "              [756183.9, 950630.5, 871888.2],\n",
      "              [755519.5, 950686.2, 872432.6],\n",
      "              [756346.7, 951124.1, 871593.9],\n",
      "              [755183.9, 950801.6, 872497.1],\n",
      "              [755114.5, 950600.9, 872508.9],\n",
      "              [758899.9, 951712.6, 875166.8],\n",
      "              [759423.3, 951601. , 873683.1],\n",
      "              [757672.3, 951424.2, 876080.6],\n",
      "              [759410.9, 951253.1, 872351. ],\n",
      "              [754631.1, 950586.9, 874005.6],\n",
      "              [754708.5, 950703.1, 873861.2],\n",
      "              [756767.9, 951340.4, 876101. ],\n",
      "              [754957.7, 950916.9, 872613.9],\n",
      "              [759119.7, 951996.6, 875014.6],\n",
      "              [759101.5, 951736.5, 874955.2],\n",
      "              [755294.5, 950756.4, 872467.8],\n",
      "              [758711.3, 951036.1, 871771.4],\n",
      "              [758810.3, 951056.1, 871855.5],\n",
      "              [757941.1, 951421.6, 875931.9],\n",
      "              [756687.3, 951355.9, 871260.1],\n",
      "              [759433.9, 951441.3, 873429.2],\n",
      "              [758607.9, 951040.4, 871535.8],\n",
      "              [759438.5, 951887.5, 874061.6],\n",
      "              [756278.9, 950970.1, 871769.4],\n",
      "              [756564.5, 951364.7, 871351.3],\n",
      "              [759410.1, 951269.6, 872591.5],\n",
      "              [755051.3, 950506. , 875234.1],\n",
      "              [757508.9, 951134.2, 871214.8],\n",
      "              [759418.1, 951494.4, 873526.2],\n",
      "              [754620.1, 950757.8, 874086.2],\n",
      "              [758713.9, 951644.5, 875337.5],\n",
      "              [757152.9, 951182.4, 871185.3]])}\n",
      "recovered_touching_piece = [42]\n",
      "After concept mapping size = 43\n",
      "Local time for concept mapping = 0.9558167457580566\n",
      "\n",
      "\n",
      "------Working on limb 2 -------\n",
      "inside loop len(curr_limb_divided_meshes) = 47 len(curr_limb_divided_skeletons) = 47\n",
      "Merge limb detected\n",
      "--- Working on soma_idx: 0----\n",
      "Total time for filtering periphery meshes = 0.3960235118865967\n",
      "touching_pieces = [12]\n",
      "Total time for mesh connectivity = 0.23708486557006836\n",
      "Using touching_pieces[0] = 12\n",
      "inside inner loop len(curr_limb_divided_skeletons) = 47\n",
      "closest_endpoint WITH NEW KDTREE METHOD= [764324. 961572. 878864.]\n",
      "About to send touching_soma_vertices = [[764369.4 961579.  877947.4]\n",
      " [763335.2 961687.8 879612.2]\n",
      " [763925.8 960916.3 879439.4]\n",
      " [763378.6 961830.4 878169.8]\n",
      " [764348.  960489.9 878697.4]\n",
      " [763189.8 961895.4 879268.1]\n",
      " [764502.8 960665.2 878480.4]\n",
      " [763201.2 961529.1 879621.8]\n",
      " [763385.6 961419.9 879647.8]\n",
      " [764359.6 961425.1 878059.9]\n",
      " [764093.4 960579.9 879224.1]\n",
      " [763293.6 961809.8 879253.9]\n",
      " [763290.2 961772.8 879492.6]\n",
      " [763181.  962043.1 879046.7]\n",
      " [764403.  960454.9 878594.8]\n",
      " [763599.8 961072.9 879668.7]\n",
      " [763677.2 960913.9 879506.8]\n",
      " [763037.8 961926.4 878059.2]\n",
      " [764585.2 960803.8 878456.6]\n",
      " [763032.2 962070.7 878683.1]\n",
      " [764290.6 961644.6 877834. ]\n",
      " [763548.8 961777.9 878050.8]\n",
      " [764521.6 960846.1 878329. ]\n",
      " [763476.  961204.6 879701.5]\n",
      " [763594.4 960867.1 879661.1]\n",
      " [764428.4 960596.4 878777.5]\n",
      " [763226.5 962003.4 878745.6]\n",
      " [764536.1 961081.2 878176.9]\n",
      " [763863.7 961619.9 877807.4]\n",
      " [764511.1 960590.5 878624.8]\n",
      " [764334.9 960607.1 878982.4]\n",
      " [764185.9 961522.5 877700.2]\n",
      " [763483.9 960940.1 879758.4]\n",
      " [764134.9 961703.7 877813.1]\n",
      " [762943.7 962131.7 878243.3]\n",
      " [763057.5 962112.2 878500.9]\n",
      " [764455.9 961286.5 878093.2]\n",
      " [763282.9 961887.9 878044.6]\n",
      " [764206.9 960501.9 878885.6]\n",
      " [763760.9 961716.8 877951.9]\n",
      " [763831.5 960844.8 879437. ]\n",
      " [764042.1 960726.8 879306.7]\n",
      " [764236.7 961432.5 877960.4]\n",
      " [763242.3 962018.7 878959.1]]\n",
      "Starting_edge inside branches_to_conept = [[764324. 961572. 878864.]\n",
      " [783422. 967124. 880664.]]\n",
      "At the start, starting_node (in terms of the skeleton, that shouldn't match the starting edge) = [12]\n",
      "printing out current edge:\n",
      "[[764324. 961572. 878864.]\n",
      " [783422. 967124. 880664.]]\n",
      "edge_endpoints_to_process was empty so exiting loop after 47 iterations\n",
      "starting_node in concept map (that should match the starting edge) = 12\n",
      "Total time for branches to concept conversion = 0.4060678482055664\n",
      "\n",
      "Recovered touching vertices = {12: TrackedArray([[764369.4, 961579. , 877947.4],\n",
      "              [763335.2, 961687.8, 879612.2],\n",
      "              [763925.8, 960916.3, 879439.4],\n",
      "              [763378.6, 961830.4, 878169.8],\n",
      "              [764348. , 960489.9, 878697.4],\n",
      "              [763189.8, 961895.4, 879268.1],\n",
      "              [764502.8, 960665.2, 878480.4],\n",
      "              [763201.2, 961529.1, 879621.8],\n",
      "              [763385.6, 961419.9, 879647.8],\n",
      "              [764359.6, 961425.1, 878059.9],\n",
      "              [764093.4, 960579.9, 879224.1],\n",
      "              [763293.6, 961809.8, 879253.9],\n",
      "              [763290.2, 961772.8, 879492.6],\n",
      "              [763181. , 962043.1, 879046.7],\n",
      "              [764403. , 960454.9, 878594.8],\n",
      "              [763599.8, 961072.9, 879668.7],\n",
      "              [763677.2, 960913.9, 879506.8],\n",
      "              [763037.8, 961926.4, 878059.2],\n",
      "              [764585.2, 960803.8, 878456.6],\n",
      "              [763032.2, 962070.7, 878683.1],\n",
      "              [764290.6, 961644.6, 877834. ],\n",
      "              [763548.8, 961777.9, 878050.8],\n",
      "              [764521.6, 960846.1, 878329. ],\n",
      "              [763476. , 961204.6, 879701.5],\n",
      "              [763594.4, 960867.1, 879661.1],\n",
      "              [764428.4, 960596.4, 878777.5],\n",
      "              [763226.5, 962003.4, 878745.6],\n",
      "              [764536.1, 961081.2, 878176.9],\n",
      "              [763863.7, 961619.9, 877807.4],\n",
      "              [764511.1, 960590.5, 878624.8],\n",
      "              [764334.9, 960607.1, 878982.4],\n",
      "              [764185.9, 961522.5, 877700.2],\n",
      "              [763483.9, 960940.1, 879758.4],\n",
      "              [764134.9, 961703.7, 877813.1],\n",
      "              [762943.7, 962131.7, 878243.3],\n",
      "              [763057.5, 962112.2, 878500.9],\n",
      "              [764455.9, 961286.5, 878093.2],\n",
      "              [763282.9, 961887.9, 878044.6],\n",
      "              [764206.9, 960501.9, 878885.6],\n",
      "              [763760.9, 961716.8, 877951.9],\n",
      "              [763831.5, 960844.8, 879437. ],\n",
      "              [764042.1, 960726.8, 879306.7],\n",
      "              [764236.7, 961432.5, 877960.4],\n",
      "              [763242.3, 962018.7, 878959.1]])}\n",
      "recovered_touching_piece = [12]\n",
      "After concept mapping size = 47\n",
      "--- Working on soma_idx: 1----\n",
      "Total time for filtering periphery meshes = 0.9150941371917725\n",
      "touching_pieces = [41]\n",
      "Total time for mesh connectivity = 2.0402169227600098\n",
      "Using touching_pieces[0] = 41\n",
      "inside inner loop len(curr_limb_divided_skeletons) = 47\n",
      "closest_endpoint WITH NEW KDTREE METHOD= [857105. 995732. 861038.]\n",
      "About to send touching_soma_vertices = [[857494.2 996403.1 860228.6]\n",
      " [856763.8 995194.4 861137. ]\n",
      " [856815.  995692.9 861534.8]\n",
      " [856808.2 995366.9 861323.4]\n",
      " [857435.2 996167.1 861367.6]\n",
      " [857673.  996411.6 861035. ]\n",
      " [857012.2 995560.1 860352.4]\n",
      " [856939.4 995636.8 860228.3]\n",
      " [857700.6 996514.1 860354.4]\n",
      " [857855.4 996494.9 860550.9]\n",
      " [857581.2 996336.4 860069.7]\n",
      " [856718.8 995567.6 860360.4]\n",
      " [857359.4 996054.1 859950.1]\n",
      " [856829.2 995195.4 860931.1]\n",
      " [857512.  996274.3 861203.9]\n",
      " [856786.2 995564.2 861440.3]\n",
      " [856853.4 995452.4 860459. ]\n",
      " [857039.7 995754.9 860137.8]\n",
      " [857354.9 996202.1 859973.8]\n",
      " [856640.5 995209.2 860957.8]\n",
      " [857708.9 996521.4 860641.9]\n",
      " [857928.5 996519.5 860442.2]\n",
      " [857294.9 996163.3 861275.6]\n",
      " [856974.1 996008.7 861385.9]\n",
      " [856653.3 995329.  860629.3]\n",
      " [857703.5 996470.8 860838.4]\n",
      " [857210.9 996053.2 861475.3]\n",
      " [857682.1 996319.6 861193.1]\n",
      " [856943.7 995780.1 861554.6]\n",
      " [857797.1 996545.6 860522.9]\n",
      " [857249.9 995953.9 860056.2]\n",
      " [856841.5 995268.3 860698.6]\n",
      " [857124.9 995842.4 860063.1]]\n",
      "Starting_edge inside branches_to_conept = [[846927. 999071. 862090.]\n",
      " [857105. 995732. 861038.]]\n",
      "At the start, starting_node (in terms of the skeleton, that shouldn't match the starting edge) = [42]\n",
      "printing out current edge:\n",
      "[[857105. 995732. 861038.]\n",
      " [846927. 999071. 862090.]]\n",
      "edge_endpoints_to_process was empty so exiting loop after 47 iterations\n",
      "starting_node in concept map (that should match the starting edge) = 41\n",
      "Total time for branches to concept conversion = 0.5075151920318604\n",
      "\n",
      "Recovered touching vertices = {41: TrackedArray([[857494.2, 996403.1, 860228.6],\n",
      "              [856763.8, 995194.4, 861137. ],\n",
      "              [856815. , 995692.9, 861534.8],\n",
      "              [856808.2, 995366.9, 861323.4],\n",
      "              [857435.2, 996167.1, 861367.6],\n",
      "              [857673. , 996411.6, 861035. ],\n",
      "              [857012.2, 995560.1, 860352.4],\n",
      "              [856939.4, 995636.8, 860228.3],\n",
      "              [857700.6, 996514.1, 860354.4],\n",
      "              [857855.4, 996494.9, 860550.9],\n",
      "              [857581.2, 996336.4, 860069.7],\n",
      "              [856718.8, 995567.6, 860360.4],\n",
      "              [857359.4, 996054.1, 859950.1],\n",
      "              [856829.2, 995195.4, 860931.1],\n",
      "              [857512. , 996274.3, 861203.9],\n",
      "              [856786.2, 995564.2, 861440.3],\n",
      "              [856853.4, 995452.4, 860459. ],\n",
      "              [857039.7, 995754.9, 860137.8],\n",
      "              [857354.9, 996202.1, 859973.8],\n",
      "              [856640.5, 995209.2, 860957.8],\n",
      "              [857708.9, 996521.4, 860641.9],\n",
      "              [857928.5, 996519.5, 860442.2],\n",
      "              [857294.9, 996163.3, 861275.6],\n",
      "              [856974.1, 996008.7, 861385.9],\n",
      "              [856653.3, 995329. , 860629.3],\n",
      "              [857703.5, 996470.8, 860838.4],\n",
      "              [857210.9, 996053.2, 861475.3],\n",
      "              [857682.1, 996319.6, 861193.1],\n",
      "              [856943.7, 995780.1, 861554.6],\n",
      "              [857797.1, 996545.6, 860522.9],\n",
      "              [857249.9, 995953.9, 860056.2],\n",
      "              [856841.5, 995268.3, 860698.6],\n",
      "              [857124.9, 995842.4, 860063.1]])}\n",
      "recovered_touching_piece = [41]\n",
      "After concept mapping size = 47\n",
      "Local time for concept mapping = 5.0214524269104\n",
      "\n",
      "\n",
      "------Working on limb 3 -------\n",
      "inside loop len(curr_limb_divided_meshes) = 32 len(curr_limb_divided_skeletons) = 32\n",
      "--- Working on soma_idx: 1----\n",
      "Total time for filtering periphery meshes = 0.7225089073181152\n",
      "touching_pieces = [31]\n",
      "Total time for mesh connectivity = 0.7096428871154785\n",
      "Using touching_pieces[0] = 31\n",
      "inside inner loop len(curr_limb_divided_skeletons) = 32\n",
      "closest_endpoint WITH NEW KDTREE METHOD= [865120. 998850. 867358.]\n",
      "About to send touching_soma_vertices = [[864669.2 997565.4 867472.4]\n",
      " [865488.4 998225.1 866958.1]\n",
      " [863506.4 997662.8 866843.4]\n",
      " [865453.2 997977.9 867053.9]\n",
      " [864429.2 997518.6 867434.7]\n",
      " [865199.6 998034.2 867383.3]\n",
      " [863561.2 997473.6 867104.4]\n",
      " [865759.4 998132.1 866720.4]\n",
      " [863560.2 997629.8 867095.6]\n",
      " [865883.6 998176.6 866616.4]\n",
      " [864810.8 997654.6 867551.6]\n",
      " [863735.6 997336.9 867139. ]\n",
      " [865045.2 998812.1 866446.1]\n",
      " [865130.6 997796.6 867426.5]\n",
      " [863470.6 997799.4 866945.5]\n",
      " [864623.2 998717.4 866638.1]\n",
      " [863475.2 997999.1 866973. ]\n",
      " [865615.4 998110.9 866868.8]\n",
      " [863710.8 998360.9 866966.2]\n",
      " [864729.9 998674.5 866491.9]\n",
      " [864174.7 997473.4 867347.9]\n",
      " [863472.7 997835.  866748.8]\n",
      " [863956.3 997274.  867219.2]\n",
      " [863657.1 998146.9 866955.6]\n",
      " [864728.9 998826.4 866626.6]\n",
      " [863789.1 998553.6 866964.2]\n",
      " [864923.5 997652.2 867423.3]\n",
      " [864082.7 997387.9 867266.4]\n",
      " [864284.1 998706.5 866922.5]\n",
      " [864877.1 998733.  866466.6]\n",
      " [864030.7 998681.9 866849.5]\n",
      " [864378.9 998606.6 866750.9]\n",
      " [865280.1 998125.8 867259. ]\n",
      " [863810.1 997425.7 867180.3]\n",
      " [865090.1 998878.2 866340.4]\n",
      " [863889.9 998605.2 866758.2]\n",
      " [865388.5 998128.  867087.8]\n",
      " [865279.3 999003.8 866300. ]]\n",
      "Starting_edge inside branches_to_conept = [[ 861304. 1002620.  879778.]\n",
      " [ 865120.  998850.  867358.]]\n",
      "At the start, starting_node (in terms of the skeleton, that shouldn't match the starting edge) = [9]\n",
      "printing out current edge:\n",
      "[[ 865120.  998850.  867358.]\n",
      " [ 861304. 1002620.  879778.]]\n",
      "edge_endpoints_to_process was empty so exiting loop after 32 iterations\n",
      "starting_node in concept map (that should match the starting edge) = 31\n",
      "Total time for branches to concept conversion = 0.35375404357910156\n",
      "\n",
      "Recovered touching vertices = {31: TrackedArray([[864669.2, 997565.4, 867472.4],\n",
      "              [865488.4, 998225.1, 866958.1],\n",
      "              [863506.4, 997662.8, 866843.4],\n",
      "              [865453.2, 997977.9, 867053.9],\n",
      "              [864429.2, 997518.6, 867434.7],\n",
      "              [865199.6, 998034.2, 867383.3],\n",
      "              [863561.2, 997473.6, 867104.4],\n",
      "              [865759.4, 998132.1, 866720.4],\n",
      "              [863560.2, 997629.8, 867095.6],\n",
      "              [865883.6, 998176.6, 866616.4],\n",
      "              [864810.8, 997654.6, 867551.6],\n",
      "              [863735.6, 997336.9, 867139. ],\n",
      "              [865045.2, 998812.1, 866446.1],\n",
      "              [865130.6, 997796.6, 867426.5],\n",
      "              [863470.6, 997799.4, 866945.5],\n",
      "              [864623.2, 998717.4, 866638.1],\n",
      "              [863475.2, 997999.1, 866973. ],\n",
      "              [865615.4, 998110.9, 866868.8],\n",
      "              [863710.8, 998360.9, 866966.2],\n",
      "              [864729.9, 998674.5, 866491.9],\n",
      "              [864174.7, 997473.4, 867347.9],\n",
      "              [863472.7, 997835. , 866748.8],\n",
      "              [863956.3, 997274. , 867219.2],\n",
      "              [863657.1, 998146.9, 866955.6],\n",
      "              [864728.9, 998826.4, 866626.6],\n",
      "              [863789.1, 998553.6, 866964.2],\n",
      "              [864923.5, 997652.2, 867423.3],\n",
      "              [864082.7, 997387.9, 867266.4],\n",
      "              [864284.1, 998706.5, 866922.5],\n",
      "              [864877.1, 998733. , 866466.6],\n",
      "              [864030.7, 998681.9, 866849.5],\n",
      "              [864378.9, 998606.6, 866750.9],\n",
      "              [865280.1, 998125.8, 867259. ],\n",
      "              [863810.1, 997425.7, 867180.3],\n",
      "              [865090.1, 998878.2, 866340.4],\n",
      "              [863889.9, 998605.2, 866758.2],\n",
      "              [865388.5, 998128. , 867087.8],\n",
      "              [865279.3, 999003.8, 866300. ]])}\n",
      "recovered_touching_piece = [31]\n",
      "After concept mapping size = 32\n",
      "Local time for concept mapping = 1.989919662475586\n",
      "\n",
      "\n",
      "------Working on limb 4 -------\n",
      "inside loop len(curr_limb_divided_meshes) = 5 len(curr_limb_divided_skeletons) = 5\n",
      "--- Working on soma_idx: 1----\n",
      "Total time for filtering periphery meshes = 0.16896820068359375\n",
      "touching_pieces = [4]\n",
      "Total time for mesh connectivity = 0.5127780437469482\n",
      "Using touching_pieces[0] = 4\n",
      "inside inner loop len(curr_limb_divided_skeletons) = 5\n",
      "closest_endpoint WITH NEW KDTREE METHOD= [865658. 999121. 867011.]\n",
      "About to send touching_soma_vertices = [[865523.6 999041.2 866004.2]\n",
      " [866137.  998252.4 866470.2]\n",
      " [866863.  998992.9 865393.7]\n",
      " [866033.6 999128.2 865682.9]\n",
      " [866945.  998612.9 865674.1]\n",
      " [867097.6 998874.2 865659.1]\n",
      " [865883.6 998176.6 866616.4]\n",
      " [866690.4 998360.8 866153. ]\n",
      " [866705.2 998250.4 866050.2]\n",
      " [866201.2 999131.2 865597.8]\n",
      " [866947.6 998432.3 865845.1]\n",
      " [865658.6 999083.8 865871.9]\n",
      " [866979.6 998634.6 865976.4]\n",
      " [865521.  999006.9 866144.1]\n",
      " [866916.  998515.6 865708.3]\n",
      " [866968.4 998736.6 865481.6]\n",
      " [866361.5 999156.6 865518.4]\n",
      " [867018.1 998694.7 865691.8]\n",
      " [866004.7 998238.2 866521.9]\n",
      " [866561.1 999202.9 865482.4]\n",
      " [866808.1 998400.3 866052.6]\n",
      " [866099.3 999074.3 865567.6]\n",
      " [866388.3 998187.8 866227.8]\n",
      " [865806.9 999098.2 865781.9]\n",
      " [866256.5 998213.4 866364.4]\n",
      " [866663.9 998988.1 865359. ]\n",
      " [865279.3 999003.8 866300. ]\n",
      " [866670.9 999130.1 865450.6]\n",
      " [866532.1 998292.1 866230.5]]\n",
      "Starting_edge inside branches_to_conept = [[ 865658.  999121.  867011.]\n",
      " [ 873719. 1032790.  874179.]]\n",
      "At the start, starting_node (in terms of the skeleton, that shouldn't match the starting edge) = [0]\n",
      "printing out current edge:\n",
      "[[ 865658.  999121.  867011.]\n",
      " [ 873719. 1032790.  874179.]]\n",
      "edge_endpoints_to_process was empty so exiting loop after 5 iterations\n",
      "starting_node in concept map (that should match the starting edge) = 4\n",
      "Total time for branches to concept conversion = 0.07588338851928711\n",
      "\n",
      "Recovered touching vertices = {4: TrackedArray([[865523.6, 999041.2, 866004.2],\n",
      "              [866137. , 998252.4, 866470.2],\n",
      "              [866863. , 998992.9, 865393.7],\n",
      "              [866033.6, 999128.2, 865682.9],\n",
      "              [866945. , 998612.9, 865674.1],\n",
      "              [867097.6, 998874.2, 865659.1],\n",
      "              [865883.6, 998176.6, 866616.4],\n",
      "              [866690.4, 998360.8, 866153. ],\n",
      "              [866705.2, 998250.4, 866050.2],\n",
      "              [866201.2, 999131.2, 865597.8],\n",
      "              [866947.6, 998432.3, 865845.1],\n",
      "              [865658.6, 999083.8, 865871.9],\n",
      "              [866979.6, 998634.6, 865976.4],\n",
      "              [865521. , 999006.9, 866144.1],\n",
      "              [866916. , 998515.6, 865708.3],\n",
      "              [866968.4, 998736.6, 865481.6],\n",
      "              [866361.5, 999156.6, 865518.4],\n",
      "              [867018.1, 998694.7, 865691.8],\n",
      "              [866004.7, 998238.2, 866521.9],\n",
      "              [866561.1, 999202.9, 865482.4],\n",
      "              [866808.1, 998400.3, 866052.6],\n",
      "              [866099.3, 999074.3, 865567.6],\n",
      "              [866388.3, 998187.8, 866227.8],\n",
      "              [865806.9, 999098.2, 865781.9],\n",
      "              [866256.5, 998213.4, 866364.4],\n",
      "              [866663.9, 998988.1, 865359. ],\n",
      "              [865279.3, 999003.8, 866300. ],\n",
      "              [866670.9, 999130.1, 865450.6],\n",
      "              [866532.1, 998292.1, 866230.5]])}\n",
      "recovered_touching_piece = [4]\n",
      "After concept mapping size = 5\n",
      "Local time for concept mapping = 0.8182520866394043\n",
      "\n",
      "\n",
      "------Working on limb 5 -------\n",
      "inside loop len(curr_limb_divided_meshes) = 55 len(curr_limb_divided_skeletons) = 55\n",
      "--- Working on soma_idx: 0----\n",
      "Total time for filtering periphery meshes = 1.4310908317565918\n",
      "touching_pieces = [0]\n",
      "Total time for mesh connectivity = 0.7955293655395508\n",
      "Using touching_pieces[0] = 0\n",
      "inside inner loop len(curr_limb_divided_skeletons) = 55\n",
      "closest_endpoint WITH NEW KDTREE METHOD= [760069. 961720. 865733.]\n",
      "About to send touching_soma_vertices = [[757928.4 962502.2 866083.1]\n",
      " [757431.2 961958.1 865624.8]\n",
      " [757241.2 960809.8 865940.9]\n",
      " [757409.6 960733.9 865987.2]\n",
      " [759607.8 962760.3 866627.8]\n",
      " [759926.4 959992.1 866323.6]\n",
      " [759242.6 962667.4 866284.2]\n",
      " [758284.6 962591.1 866085.4]\n",
      " [758735.2 959915.7 866344.1]\n",
      " [759006.  962652.2 866260.4]\n",
      " [757331.2 960980.1 865803.5]\n",
      " [759866.2 962747.5 866851.7]\n",
      " [757306.2 961203.8 865800.2]\n",
      " [757533.8 962121.5 865822.1]\n",
      " [759733.2 959948.  866322.7]\n",
      " [759543.2 962752.3 866723.1]\n",
      " [761295.4 959925.6 866808.7]\n",
      " [761566.2 959980.2 867122.1]\n",
      " [760114.4 962695.3 866990.7]\n",
      " [761633.4 960205.1 866937.1]\n",
      " [759395.4 962679.  866329.1]\n",
      " [757147.2 961170.7 865846.2]\n",
      " [757820.8 962270.5 865931.1]\n",
      " [758775.4 962635.3 865865.4]\n",
      " [761138.6 959740.4 866952.8]\n",
      " [759430.8 959696.4 866569.4]\n",
      " [757225.8 961604.4 865891.9]\n",
      " [759405.8 962769.1 866491.9]\n",
      " [758887.  962657.4 866136.8]\n",
      " [760576.6 960275.  866541.6]\n",
      " [760883.8 960165.9 866523.3]\n",
      " [760353.6 962611.9 867228.3]\n",
      " [759534.4 959831.1 866505.2]\n",
      " [761532.4 960121.8 866896.9]\n",
      " [761035.2 962261.9 867215.3]\n",
      " [759700.6 962718.1 866903.4]\n",
      " [760684.8 962495.3 867267.1]\n",
      " [757339.8 960635.9 866100.6]\n",
      " [758953.2 962679.4 866041.9]\n",
      " [759915.8 962811.8 866998.1]\n",
      " [760991.  959979.9 866626.4]\n",
      " [761478.  959964.6 866936.1]\n",
      " [758354.8 962496.2 865896.9]\n",
      " [760311.8 960252.8 866308.9]\n",
      " [760118.4 962696.9 867173.5]\n",
      " [757624.4 962062.6 865662.6]\n",
      " [761771.6 960872.4 866752.9]\n",
      " [761673.8 961303.1 866683.9]\n",
      " [761502.  961725.5 866756.2]\n",
      " [761700.  960395.9 866921.9]\n",
      " [758262.8 959968.9 866376.5]\n",
      " [761024.2 960132.9 866542.4]\n",
      " [759104.8 959802.5 866505.8]\n",
      " [761438.4 961816.9 866804.6]\n",
      " [757785.  962256.  865881.2]\n",
      " [760113.5 960151.8 866249.9]\n",
      " [758694.7 962658.4 866080.4]\n",
      " [758527.5 962584.4 865925.8]\n",
      " [757734.5 960200.2 866254.9]\n",
      " [761658.7 960096.7 867175.5]\n",
      " [761059.1 959929.6 866729.1]\n",
      " [760563.1 962580.2 867198. ]\n",
      " [761331.1 959843.4 866944.1]\n",
      " [757216.9 961332.9 865875.4]\n",
      " [757848.5 960058.9 866400.6]\n",
      " [761600.9 961571.4 866633.1]\n",
      " [757245.5 960931.9 865864.4]\n",
      " [760518.9 960267.9 866340.1]\n",
      " [761217.5 962224.9 867233.4]\n",
      " [761299.5 962176.4 867064.4]\n",
      " [760473.5 962572.4 867415.6]\n",
      " [761446.3 961954.7 866888. ]\n",
      " [757893.1 960106.5 866286.1]\n",
      " [761737.7 960571.1 866864.3]\n",
      " [759126.5 959678.6 866590.2]\n",
      " [758165.1 960018.8 866348.2]\n",
      " [757565.5 960242.8 866158.4]\n",
      " [760883.3 962402.6 867288.6]\n",
      " [757837.5 962361.9 866003.6]\n",
      " [757698.7 962224.6 865797.5]\n",
      " [757231.1 961449.1 865892.5]\n",
      " [759260.9 959791.6 866452.6]\n",
      " [760735.5 960220.4 866688.5]\n",
      " [758066.3 962471.1 865939.1]\n",
      " [758219.9 962513.4 865955.5]\n",
      " [761120.1 959798.6 866797.9]\n",
      " [757236.9 961917.4 865773.5]\n",
      " [761161.1 960143.1 866771.2]\n",
      " [759471.5 959866.4 866421.1]\n",
      " [757472.5 960330.2 866140. ]\n",
      " [759049.5 962679.  866365.1]\n",
      " [761711.9 960680.6 866766.1]\n",
      " [761741.5 961268.6 866772.4]\n",
      " [761559.5 961574.7 866762.2]\n",
      " [758781.1 959800.4 866504.1]\n",
      " [759084.9 962717.  866311.9]\n",
      " [757849.3 960218.4 866146. ]\n",
      " [757216.7 961775.  865713.4]\n",
      " [761448.1 962082.5 866983.5]\n",
      " [758562.7 960006.4 866369.8]]\n",
      "Starting_edge inside branches_to_conept = [[760069. 961720. 865733.]\n",
      " [779054. 968686. 847787.]]\n",
      "There were 2 duplication nodes found\n",
      "domination_map = {39: 37, 46: 45}\n",
      "At the start, starting_node (in terms of the skeleton, that shouldn't match the starting edge) = [0]\n",
      "printing out current edge:\n",
      "[[760069. 961720. 865733.]\n",
      " [779054. 968686. 847787.]]\n",
      "edge_endpoints_to_process was empty so exiting loop after 54 iterations\n",
      "starting_node in concept map (that should match the starting edge) = 0\n",
      "Total time for branches to concept conversion = 0.32537174224853516\n",
      "\n",
      "Working on adding back the edges that were duplicates\n",
      "Recovered touching vertices = {0: TrackedArray([[757928.4, 962502.2, 866083.1],\n",
      "              [757431.2, 961958.1, 865624.8],\n",
      "              [757241.2, 960809.8, 865940.9],\n",
      "              [757409.6, 960733.9, 865987.2],\n",
      "              [759607.8, 962760.3, 866627.8],\n",
      "              [759926.4, 959992.1, 866323.6],\n",
      "              [759242.6, 962667.4, 866284.2],\n",
      "              [758284.6, 962591.1, 866085.4],\n",
      "              [758735.2, 959915.7, 866344.1],\n",
      "              [759006. , 962652.2, 866260.4],\n",
      "              [757331.2, 960980.1, 865803.5],\n",
      "              [759866.2, 962747.5, 866851.7],\n",
      "              [757306.2, 961203.8, 865800.2],\n",
      "              [757533.8, 962121.5, 865822.1],\n",
      "              [759733.2, 959948. , 866322.7],\n",
      "              [759543.2, 962752.3, 866723.1],\n",
      "              [761295.4, 959925.6, 866808.7],\n",
      "              [761566.2, 959980.2, 867122.1],\n",
      "              [760114.4, 962695.3, 866990.7],\n",
      "              [761633.4, 960205.1, 866937.1],\n",
      "              [759395.4, 962679. , 866329.1],\n",
      "              [757147.2, 961170.7, 865846.2],\n",
      "              [757820.8, 962270.5, 865931.1],\n",
      "              [758775.4, 962635.3, 865865.4],\n",
      "              [761138.6, 959740.4, 866952.8],\n",
      "              [759430.8, 959696.4, 866569.4],\n",
      "              [757225.8, 961604.4, 865891.9],\n",
      "              [759405.8, 962769.1, 866491.9],\n",
      "              [758887. , 962657.4, 866136.8],\n",
      "              [760576.6, 960275. , 866541.6],\n",
      "              [760883.8, 960165.9, 866523.3],\n",
      "              [760353.6, 962611.9, 867228.3],\n",
      "              [759534.4, 959831.1, 866505.2],\n",
      "              [761532.4, 960121.8, 866896.9],\n",
      "              [761035.2, 962261.9, 867215.3],\n",
      "              [759700.6, 962718.1, 866903.4],\n",
      "              [760684.8, 962495.3, 867267.1],\n",
      "              [757339.8, 960635.9, 866100.6],\n",
      "              [758953.2, 962679.4, 866041.9],\n",
      "              [759915.8, 962811.8, 866998.1],\n",
      "              [760991. , 959979.9, 866626.4],\n",
      "              [761478. , 959964.6, 866936.1],\n",
      "              [758354.8, 962496.2, 865896.9],\n",
      "              [760311.8, 960252.8, 866308.9],\n",
      "              [760118.4, 962696.9, 867173.5],\n",
      "              [757624.4, 962062.6, 865662.6],\n",
      "              [761771.6, 960872.4, 866752.9],\n",
      "              [761673.8, 961303.1, 866683.9],\n",
      "              [761502. , 961725.5, 866756.2],\n",
      "              [761700. , 960395.9, 866921.9],\n",
      "              [758262.8, 959968.9, 866376.5],\n",
      "              [761024.2, 960132.9, 866542.4],\n",
      "              [759104.8, 959802.5, 866505.8],\n",
      "              [761438.4, 961816.9, 866804.6],\n",
      "              [757785. , 962256. , 865881.2],\n",
      "              [760113.5, 960151.8, 866249.9],\n",
      "              [758694.7, 962658.4, 866080.4],\n",
      "              [758527.5, 962584.4, 865925.8],\n",
      "              [757734.5, 960200.2, 866254.9],\n",
      "              [761658.7, 960096.7, 867175.5],\n",
      "              [761059.1, 959929.6, 866729.1],\n",
      "              [760563.1, 962580.2, 867198. ],\n",
      "              [761331.1, 959843.4, 866944.1],\n",
      "              [757216.9, 961332.9, 865875.4],\n",
      "              [757848.5, 960058.9, 866400.6],\n",
      "              [761600.9, 961571.4, 866633.1],\n",
      "              [757245.5, 960931.9, 865864.4],\n",
      "              [760518.9, 960267.9, 866340.1],\n",
      "              [761217.5, 962224.9, 867233.4],\n",
      "              [761299.5, 962176.4, 867064.4],\n",
      "              [760473.5, 962572.4, 867415.6],\n",
      "              [761446.3, 961954.7, 866888. ],\n",
      "              [757893.1, 960106.5, 866286.1],\n",
      "              [761737.7, 960571.1, 866864.3],\n",
      "              [759126.5, 959678.6, 866590.2],\n",
      "              [758165.1, 960018.8, 866348.2],\n",
      "              [757565.5, 960242.8, 866158.4],\n",
      "              [760883.3, 962402.6, 867288.6],\n",
      "              [757837.5, 962361.9, 866003.6],\n",
      "              [757698.7, 962224.6, 865797.5],\n",
      "              [757231.1, 961449.1, 865892.5],\n",
      "              [759260.9, 959791.6, 866452.6],\n",
      "              [760735.5, 960220.4, 866688.5],\n",
      "              [758066.3, 962471.1, 865939.1],\n",
      "              [758219.9, 962513.4, 865955.5],\n",
      "              [761120.1, 959798.6, 866797.9],\n",
      "              [757236.9, 961917.4, 865773.5],\n",
      "              [761161.1, 960143.1, 866771.2],\n",
      "              [759471.5, 959866.4, 866421.1],\n",
      "              [757472.5, 960330.2, 866140. ],\n",
      "              [759049.5, 962679. , 866365.1],\n",
      "              [761711.9, 960680.6, 866766.1],\n",
      "              [761741.5, 961268.6, 866772.4],\n",
      "              [761559.5, 961574.7, 866762.2],\n",
      "              [758781.1, 959800.4, 866504.1],\n",
      "              [759084.9, 962717. , 866311.9],\n",
      "              [757849.3, 960218.4, 866146. ],\n",
      "              [757216.7, 961775. , 865713.4],\n",
      "              [761448.1, 962082.5, 866983.5],\n",
      "              [758562.7, 960006.4, 866369.8]])}\n",
      "recovered_touching_piece = [0]\n",
      "After concept mapping size = 55\n",
      "Local time for concept mapping = 2.748095989227295\n",
      "\n",
      "\n",
      "------Working on limb 6 -------\n",
      "inside loop len(curr_limb_divided_meshes) = 1 len(curr_limb_divided_skeletons) = 1\n",
      "--- Working on soma_idx: 0----\n",
      "Total time for filtering periphery meshes = 0.014543771743774414\n",
      "touching_pieces = [0]\n",
      "Total time for mesh connectivity = 0.3653256893157959\n",
      "Using touching_pieces[0] = 0\n",
      "inside inner loop len(curr_limb_divided_skeletons) = 1\n",
      "closest_endpoint WITH NEW KDTREE METHOD= [748135. 960401. 880381.]\n",
      "About to send touching_soma_vertices = [[749568.  959616.  878860. ]\n",
      " [749691.  959599.1 878750.5]\n",
      " [749434.  959552.  879127.8]\n",
      " [749620.8 959331.9 879447.2]\n",
      " [749515.2 959431.9 879646.3]\n",
      " [749420.8 960057.8 878638.4]\n",
      " [749409.6 959571.2 878965.3]\n",
      " [749542.8 959486.6 878946.8]\n",
      " [749664.6 959312.4 879673.7]\n",
      " [749492.8 959735.  878828.6]\n",
      " [749401.8 959541.1 879220.8]\n",
      " [749240.9 960142.6 878729.8]\n",
      " [749548.1 959568.8 878859.6]\n",
      " [749644.1 959387.1 879814.9]\n",
      " [749425.9 959465.5 879332.7]\n",
      " [749522.9 959833.8 878694.1]]\n",
      "Starting_edge inside branches_to_conept = [[693114. 968520. 877708.]\n",
      " [748135. 960401. 880381.]]\n",
      "Recovered touching vertices = {0: TrackedArray([[749568. , 959616. , 878860. ],\n",
      "              [749691. , 959599.1, 878750.5],\n",
      "              [749434. , 959552. , 879127.8],\n",
      "              [749620.8, 959331.9, 879447.2],\n",
      "              [749515.2, 959431.9, 879646.3],\n",
      "              [749420.8, 960057.8, 878638.4],\n",
      "              [749409.6, 959571.2, 878965.3],\n",
      "              [749542.8, 959486.6, 878946.8],\n",
      "              [749664.6, 959312.4, 879673.7],\n",
      "              [749492.8, 959735. , 878828.6],\n",
      "              [749401.8, 959541.1, 879220.8],\n",
      "              [749240.9, 960142.6, 878729.8],\n",
      "              [749548.1, 959568.8, 878859.6],\n",
      "              [749644.1, 959387.1, 879814.9],\n",
      "              [749425.9, 959465.5, 879332.7],\n",
      "              [749522.9, 959833.8, 878694.1]])}\n",
      "recovered_touching_piece = [0]\n",
      "After concept mapping size = 1\n",
      "Local time for concept mapping = 0.43116068840026855\n",
      "\n",
      "\n",
      "------Working on limb 7 -------\n",
      "inside loop len(curr_limb_divided_meshes) = 30 len(curr_limb_divided_skeletons) = 30\n",
      "--- Working on soma_idx: 0----\n",
      "Total time for filtering periphery meshes = 0.7573518753051758\n",
      "touching_pieces = [29]\n",
      "Total time for mesh connectivity = 0.37032008171081543\n",
      "Using touching_pieces[0] = 29\n",
      "inside inner loop len(curr_limb_divided_skeletons) = 30\n",
      "closest_endpoint WITH NEW KDTREE METHOD= [748898. 960866. 880399.]\n",
      "About to send touching_soma_vertices = [[750899.2 960779.2 879791.8]\n",
      " [750936.8 961249.3 879241.2]\n",
      " [750732.  961588.6 879011.6]\n",
      " [749932.2 961177.6 878645.9]\n",
      " [750683.2 960326.9 879914.5]\n",
      " [750666.2 960107.2 879884.8]\n",
      " [750816.4 960543.8 879870.8]\n",
      " [749336.2 960465.  878662.3]\n",
      " [750956.4 960497.1 879780. ]\n",
      " [749279.4 960653.5 878656.5]\n",
      " [749381.8 960730.2 878637.8]\n",
      " [749700.4 960990.4 878772.8]\n",
      " [751112.4 960827.9 879445.8]\n",
      " [749471.8 960858.9 878749.2]\n",
      " [750887.2 961144.9 879458.2]\n",
      " [750302.4 959988.1 879982.1]\n",
      " [750742.8 961503.8 879189.4]\n",
      " [750293.4 959722.2 879921.1]\n",
      " [750398.2 961578.4 878711.1]\n",
      " [750958.  960906.5 879636.1]\n",
      " [750044.4 959640.1 879920.6]\n",
      " [749266.2 960317.8 878776.1]\n",
      " [750433.6 961513.8 878892.9]\n",
      " [751035.6 961052.5 879250.8]\n",
      " [749240.9 960142.6 878729.8]\n",
      " [750228.7 961399.9 878745.3]\n",
      " [750094.5 961224.8 878520.9]\n",
      " [749802.1 959494.2 879928.1]\n",
      " [749644.1 959387.1 879814.9]\n",
      " [750525.9 960101.6 879931.2]\n",
      " [750963.1 960702.2 879674.5]\n",
      " [750261.1 961413.1 878558.6]\n",
      " [750905.1 960285.  879851. ]\n",
      " [749795.9 961046.4 878649.9]\n",
      " [750846.1 961363.1 879261. ]\n",
      " [751057.9 960990.2 879430.9]]\n",
      "Starting_edge inside branches_to_conept = [[747328. 963089. 883282.]\n",
      " [748898. 960866. 880399.]]\n",
      "At the start, starting_node (in terms of the skeleton, that shouldn't match the starting edge) = [19]\n",
      "printing out current edge:\n",
      "[[748898. 960866. 880399.]\n",
      " [747328. 963089. 883282.]]\n",
      "edge_endpoints_to_process was empty so exiting loop after 30 iterations\n",
      "starting_node in concept map (that should match the starting edge) = 29\n",
      "Total time for branches to concept conversion = 0.2889673709869385\n",
      "\n",
      "Recovered touching vertices = {29: TrackedArray([[750899.2, 960779.2, 879791.8],\n",
      "              [750936.8, 961249.3, 879241.2],\n",
      "              [750732. , 961588.6, 879011.6],\n",
      "              [749932.2, 961177.6, 878645.9],\n",
      "              [750683.2, 960326.9, 879914.5],\n",
      "              [750666.2, 960107.2, 879884.8],\n",
      "              [750816.4, 960543.8, 879870.8],\n",
      "              [749336.2, 960465. , 878662.3],\n",
      "              [750956.4, 960497.1, 879780. ],\n",
      "              [749279.4, 960653.5, 878656.5],\n",
      "              [749381.8, 960730.2, 878637.8],\n",
      "              [749700.4, 960990.4, 878772.8],\n",
      "              [751112.4, 960827.9, 879445.8],\n",
      "              [749471.8, 960858.9, 878749.2],\n",
      "              [750887.2, 961144.9, 879458.2],\n",
      "              [750302.4, 959988.1, 879982.1],\n",
      "              [750742.8, 961503.8, 879189.4],\n",
      "              [750293.4, 959722.2, 879921.1],\n",
      "              [750398.2, 961578.4, 878711.1],\n",
      "              [750958. , 960906.5, 879636.1],\n",
      "              [750044.4, 959640.1, 879920.6],\n",
      "              [749266.2, 960317.8, 878776.1],\n",
      "              [750433.6, 961513.8, 878892.9],\n",
      "              [751035.6, 961052.5, 879250.8],\n",
      "              [749240.9, 960142.6, 878729.8],\n",
      "              [750228.7, 961399.9, 878745.3],\n",
      "              [750094.5, 961224.8, 878520.9],\n",
      "              [749802.1, 959494.2, 879928.1],\n",
      "              [749644.1, 959387.1, 879814.9],\n",
      "              [750525.9, 960101.6, 879931.2],\n",
      "              [750963.1, 960702.2, 879674.5],\n",
      "              [750261.1, 961413.1, 878558.6],\n",
      "              [750905.1, 960285. , 879851. ],\n",
      "              [749795.9, 961046.4, 878649.9],\n",
      "              [750846.1, 961363.1, 879261. ],\n",
      "              [751057.9, 960990.2, 879430.9]])}\n",
      "recovered_touching_piece = [29]\n",
      "After concept mapping size = 30\n",
      "Local time for concept mapping = 1.5924289226531982\n",
      "\n",
      "\n",
      "------Working on limb 8 -------\n",
      "inside loop len(curr_limb_divided_meshes) = 9 len(curr_limb_divided_skeletons) = 9\n",
      "--- Working on soma_idx: 0----\n",
      "Total time for filtering periphery meshes = 0.2590770721435547\n",
      "touching_pieces = [5]\n",
      "Total time for mesh connectivity = 0.8813116550445557\n",
      "Using touching_pieces[0] = 5\n",
      "inside inner loop len(curr_limb_divided_skeletons) = 9\n",
      "closest_endpoint WITH NEW KDTREE METHOD= [751770. 963805. 869009.]\n",
      "About to send touching_soma_vertices = [[752618.4 964281.4 869517. ]\n",
      " [750819.6 962859.9 869731.4]\n",
      " [751823.2 962800.2 868718.6]\n",
      " [753231.8 964522.2 868843.6]\n",
      " [750671.8 963090.7 869636.8]\n",
      " [751761.8 964135.9 870006.4]\n",
      " [752242.  963065.8 868199.2]\n",
      " [751957.6 962834.  868606.1]\n",
      " [752960.  964192.  868100. ]\n",
      " [752201.2 964167.2 869934.4]\n",
      " [751723.4 964079.1 870135.9]\n",
      " [750696.  963318.9 870114. ]\n",
      " [752639.4 963476.2 867820.1]\n",
      " [753131.  964304.4 868379.6]\n",
      " [752364.2 963106.6 868044.4]\n",
      " [750826.  962842.1 869605.1]\n",
      " [751371.  963901.5 870505.9]\n",
      " [751009.2 962752.6 869513.2]\n",
      " [750827.2 963534.6 870205.2]\n",
      " [752396.2 963180.4 867941.3]\n",
      " [751102.6 963721.6 870551. ]\n",
      " [751371.2 962752.1 869144.9]\n",
      " [751997.  963013.6 868428.1]\n",
      " [752984.6 963590.5 867900.3]\n",
      " [752981.2 963784.2 868026.1]\n",
      " [752992.6 964319.3 868262.1]\n",
      " [751925.4 964190.8 869904.1]\n",
      " [750704.6 963026.5 869926.1]\n",
      " [752556.5 963309.2 867857.4]\n",
      " [750959.1 963640.8 870417.5]\n",
      " [753081.1 964477.7 868567.8]\n",
      " [753077.7 964397.1 868432.1]\n",
      " [753067.5 964150.2 868173.8]\n",
      " [751206.1 962776.4 869221.2]\n",
      " [750669.1 963169.3 869999.9]\n",
      " [752417.9 963314.6 867909. ]\n",
      " [751164.1 962670.  869400.2]\n",
      " [751442.9 963994.  870284.4]\n",
      " [751483.9 962829.1 868963.6]\n",
      " [752985.9 963938.4 868106.9]\n",
      " [751713.9 962754.8 868828.8]\n",
      " [753305.7 964552.3 869088.2]\n",
      " [750662.7 963185.6 869812.3]\n",
      " [751222.5 963850.9 870550.1]\n",
      " [752074.7 964250.3 869709.1]\n",
      " [752736.9 964351.1 869466.3]\n",
      " [753366.1 964566.1 868984.2]\n",
      " [752492.3 964290.9 869682.4]\n",
      " [752804.1 963355.9 867840. ]\n",
      " [750888.1 963447.3 870344.9]\n",
      " [753170.5 964455.5 869299.9]\n",
      " [752278.5 964257.1 869707.5]\n",
      " [752977.1 964347.2 869548. ]\n",
      " [753090.9 964493.2 868758.4]\n",
      " [753158.1 964357.2 869454.4]\n",
      " [752922.7 963532.6 867865.8]]\n",
      "Starting_edge inside branches_to_conept = [[746625. 968880. 862557.]\n",
      " [751770. 963805. 869009.]]\n",
      "At the start, starting_node (in terms of the skeleton, that shouldn't match the starting edge) = [6]\n",
      "printing out current edge:\n",
      "[[751770. 963805. 869009.]\n",
      " [746625. 968880. 862557.]]\n",
      "edge_endpoints_to_process was empty so exiting loop after 9 iterations\n",
      "starting_node in concept map (that should match the starting edge) = 5\n",
      "Total time for branches to concept conversion = 0.1643223762512207\n",
      "\n",
      "Recovered touching vertices = {5: TrackedArray([[752618.4, 964281.4, 869517. ],\n",
      "              [750819.6, 962859.9, 869731.4],\n",
      "              [751823.2, 962800.2, 868718.6],\n",
      "              [753231.8, 964522.2, 868843.6],\n",
      "              [750671.8, 963090.7, 869636.8],\n",
      "              [751761.8, 964135.9, 870006.4],\n",
      "              [752242. , 963065.8, 868199.2],\n",
      "              [751957.6, 962834. , 868606.1],\n",
      "              [752960. , 964192. , 868100. ],\n",
      "              [752201.2, 964167.2, 869934.4],\n",
      "              [751723.4, 964079.1, 870135.9],\n",
      "              [750696. , 963318.9, 870114. ],\n",
      "              [752639.4, 963476.2, 867820.1],\n",
      "              [753131. , 964304.4, 868379.6],\n",
      "              [752364.2, 963106.6, 868044.4],\n",
      "              [750826. , 962842.1, 869605.1],\n",
      "              [751371. , 963901.5, 870505.9],\n",
      "              [751009.2, 962752.6, 869513.2],\n",
      "              [750827.2, 963534.6, 870205.2],\n",
      "              [752396.2, 963180.4, 867941.3],\n",
      "              [751102.6, 963721.6, 870551. ],\n",
      "              [751371.2, 962752.1, 869144.9],\n",
      "              [751997. , 963013.6, 868428.1],\n",
      "              [752984.6, 963590.5, 867900.3],\n",
      "              [752981.2, 963784.2, 868026.1],\n",
      "              [752992.6, 964319.3, 868262.1],\n",
      "              [751925.4, 964190.8, 869904.1],\n",
      "              [750704.6, 963026.5, 869926.1],\n",
      "              [752556.5, 963309.2, 867857.4],\n",
      "              [750959.1, 963640.8, 870417.5],\n",
      "              [753081.1, 964477.7, 868567.8],\n",
      "              [753077.7, 964397.1, 868432.1],\n",
      "              [753067.5, 964150.2, 868173.8],\n",
      "              [751206.1, 962776.4, 869221.2],\n",
      "              [750669.1, 963169.3, 869999.9],\n",
      "              [752417.9, 963314.6, 867909. ],\n",
      "              [751164.1, 962670. , 869400.2],\n",
      "              [751442.9, 963994. , 870284.4],\n",
      "              [751483.9, 962829.1, 868963.6],\n",
      "              [752985.9, 963938.4, 868106.9],\n",
      "              [751713.9, 962754.8, 868828.8],\n",
      "              [753305.7, 964552.3, 869088.2],\n",
      "              [750662.7, 963185.6, 869812.3],\n",
      "              [751222.5, 963850.9, 870550.1],\n",
      "              [752074.7, 964250.3, 869709.1],\n",
      "              [752736.9, 964351.1, 869466.3],\n",
      "              [753366.1, 964566.1, 868984.2],\n",
      "              [752492.3, 964290.9, 869682.4],\n",
      "              [752804.1, 963355.9, 867840. ],\n",
      "              [750888.1, 963447.3, 870344.9],\n",
      "              [753170.5, 964455.5, 869299.9],\n",
      "              [752278.5, 964257.1, 869707.5],\n",
      "              [752977.1, 964347.2, 869548. ],\n",
      "              [753090.9, 964493.2, 868758.4],\n",
      "              [753158.1, 964357.2, 869454.4],\n",
      "              [752922.7, 963532.6, 867865.8]])}\n",
      "recovered_touching_piece = [5]\n",
      "After concept mapping size = 9\n",
      "Local time for concept mapping = 1.4152417182922363\n",
      "\n",
      "\n",
      "------Working on limb 9 -------\n",
      "inside loop len(curr_limb_divided_meshes) = 16 len(curr_limb_divided_skeletons) = 16\n",
      "--- Working on soma_idx: 1----\n",
      "Total time for filtering periphery meshes = 0.44925379753112793\n",
      "touching_pieces = [13]\n",
      "Total time for mesh connectivity = 0.41857194900512695\n",
      "Using touching_pieces[0] = 13\n",
      "inside inner loop len(curr_limb_divided_skeletons) = 16\n",
      "closest_endpoint WITH NEW KDTREE METHOD= [865678. 987035. 860562.]\n",
      "About to send touching_soma_vertices = [[865118.6 988464.8 861143.9]\n",
      " [865083.4 988253.8 860778.4]\n",
      " [865414.6 988251.5 861162.3]\n",
      " [865104.  988115.4 860428.1]\n",
      " [865566.  988307.1 861057.4]\n",
      " [865855.  988391.1 860278.4]\n",
      " [865458.  988327.9 859823.9]\n",
      " [865946.2 988406.  860487.1]\n",
      " [865932.6 988373.2 860369.2]\n",
      " [864938.2 988285.8 860609.2]\n",
      " [865227.2 988357.5 859973.3]\n",
      " [865806.4 988462.  860184.5]\n",
      " [865028.2 988275.6 860437.9]\n",
      " [865194.4 988175.7 860171.6]\n",
      " [865216.2 988316.2 861235. ]\n",
      " [865658.8 988237.  859849.1]\n",
      " [865761.1 988224.4 860056.7]\n",
      " [865131.1 988359.8 860992.9]\n",
      " [865061.7 988147.9 860615.1]\n",
      " [865665.9 988387.8 860957.6]\n",
      " [865279.1 988428.1 861182.9]\n",
      " [865868.5 988307.9 860695.3]\n",
      " [865265.5 988125.  860032.6]\n",
      " [865430.5 988507.8 861176.7]\n",
      " [865864.1 988479.6 860621.9]\n",
      " [865543.3 988536.2 861054.4]\n",
      " [865371.5 988249.  859872.9]]\n",
      "Starting_edge inside branches_to_conept = [[865304.5 982400.5 862195. ]\n",
      " [865678.  987035.  860562. ]]\n",
      "At the start, starting_node (in terms of the skeleton, that shouldn't match the starting edge) = [11]\n",
      "printing out current edge:\n",
      "[[865678.  987035.  860562. ]\n",
      " [865304.5 982400.5 862195. ]]\n",
      "edge_endpoints_to_process was empty so exiting loop after 16 iterations\n",
      "starting_node in concept map (that should match the starting edge) = 13\n",
      "Total time for branches to concept conversion = 0.1685957908630371\n",
      "\n",
      "Recovered touching vertices = {13: TrackedArray([[865118.6, 988464.8, 861143.9],\n",
      "              [865083.4, 988253.8, 860778.4],\n",
      "              [865414.6, 988251.5, 861162.3],\n",
      "              [865104. , 988115.4, 860428.1],\n",
      "              [865566. , 988307.1, 861057.4],\n",
      "              [865855. , 988391.1, 860278.4],\n",
      "              [865458. , 988327.9, 859823.9],\n",
      "              [865946.2, 988406. , 860487.1],\n",
      "              [865932.6, 988373.2, 860369.2],\n",
      "              [864938.2, 988285.8, 860609.2],\n",
      "              [865227.2, 988357.5, 859973.3],\n",
      "              [865806.4, 988462. , 860184.5],\n",
      "              [865028.2, 988275.6, 860437.9],\n",
      "              [865194.4, 988175.7, 860171.6],\n",
      "              [865216.2, 988316.2, 861235. ],\n",
      "              [865658.8, 988237. , 859849.1],\n",
      "              [865761.1, 988224.4, 860056.7],\n",
      "              [865131.1, 988359.8, 860992.9],\n",
      "              [865061.7, 988147.9, 860615.1],\n",
      "              [865665.9, 988387.8, 860957.6],\n",
      "              [865279.1, 988428.1, 861182.9],\n",
      "              [865868.5, 988307.9, 860695.3],\n",
      "              [865265.5, 988125. , 860032.6],\n",
      "              [865430.5, 988507.8, 861176.7],\n",
      "              [865864.1, 988479.6, 860621.9],\n",
      "              [865543.3, 988536.2, 861054.4],\n",
      "              [865371.5, 988249. , 859872.9]])}\n",
      "recovered_touching_piece = [13]\n",
      "After concept mapping size = 16\n",
      "Local time for concept mapping = 1.1445908546447754\n",
      "\n",
      "\n",
      "------Working on limb 10 -------\n",
      "inside loop len(curr_limb_divided_meshes) = 24 len(curr_limb_divided_skeletons) = 24\n",
      "--- Working on soma_idx: 1----\n",
      "Total time for filtering periphery meshes = 0.4731636047363281\n",
      "touching_pieces = [1]\n",
      "Total time for mesh connectivity = 0.6115269660949707\n",
      "Using touching_pieces[0] = 1\n",
      "inside inner loop len(curr_limb_divided_skeletons) = 24\n",
      "closest_endpoint WITH NEW KDTREE METHOD= [867107. 993716. 851213.]\n",
      "About to send touching_soma_vertices = [[866520.2 994194.9 851413.6]\n",
      " [866590.8 993467.2 851482.3]\n",
      " [866720.8 993395.2 851593.1]\n",
      " [867003.  994448.7 851361.9]\n",
      " [867435.4 993751.4 851440. ]\n",
      " [866814.2 993324.4 851636.4]\n",
      " [866880.2 993377.  851460.1]\n",
      " [866509.6 993902.  851326.9]\n",
      " [867343.6 993522.1 851571.4]\n",
      " [867232.2 994380.1 851377.3]\n",
      " [867451.8 993962.1 851439.8]\n",
      " [867401.8 993727.7 851663.9]\n",
      " [867388.2 994041.8 851495.8]\n",
      " [867133.1 993448.3 851721.9]\n",
      " [866572.5 993742.7 851234.4]\n",
      " [867344.1 994204.8 851431.9]\n",
      " [866617.1 993579.2 851340.3]\n",
      " [866778.7 994302.8 851286.6]\n",
      " [867056.5 993361.  851625.5]\n",
      " [867408.1 993916.  851669.5]]\n",
      "Starting_edge inside branches_to_conept = [[867107. 993716. 851213.]\n",
      " [876670. 993102. 841374.]]\n",
      "There were 2 duplication nodes found\n",
      "domination_map = {16: 15, 20: 19}\n",
      "At the start, starting_node (in terms of the skeleton, that shouldn't match the starting edge) = [1]\n",
      "printing out current edge:\n",
      "[[867107. 993716. 851213.]\n",
      " [876670. 993102. 841374.]]\n",
      "edge_endpoints_to_process was empty so exiting loop after 22 iterations\n",
      "starting_node in concept map (that should match the starting edge) = 1\n",
      "Total time for branches to concept conversion = 0.16285371780395508\n",
      "\n",
      "Working on adding back the edges that were duplicates\n",
      "Recovered touching vertices = {1: TrackedArray([[866520.2, 994194.9, 851413.6],\n",
      "              [866590.8, 993467.2, 851482.3],\n",
      "              [866720.8, 993395.2, 851593.1],\n",
      "              [867003. , 994448.7, 851361.9],\n",
      "              [867435.4, 993751.4, 851440. ],\n",
      "              [866814.2, 993324.4, 851636.4],\n",
      "              [866880.2, 993377. , 851460.1],\n",
      "              [866509.6, 993902. , 851326.9],\n",
      "              [867343.6, 993522.1, 851571.4],\n",
      "              [867232.2, 994380.1, 851377.3],\n",
      "              [867451.8, 993962.1, 851439.8],\n",
      "              [867401.8, 993727.7, 851663.9],\n",
      "              [867388.2, 994041.8, 851495.8],\n",
      "              [867133.1, 993448.3, 851721.9],\n",
      "              [866572.5, 993742.7, 851234.4],\n",
      "              [867344.1, 994204.8, 851431.9],\n",
      "              [866617.1, 993579.2, 851340.3],\n",
      "              [866778.7, 994302.8, 851286.6],\n",
      "              [867056.5, 993361. , 851625.5],\n",
      "              [867408.1, 993916. , 851669.5]])}\n",
      "recovered_touching_piece = [1]\n",
      "After concept mapping size = 24\n",
      "Local time for concept mapping = 1.3583135604858398\n",
      "\n",
      "\n",
      "------Working on limb 11 -------\n",
      "inside loop len(curr_limb_divided_meshes) = 11 len(curr_limb_divided_skeletons) = 11\n",
      "--- Working on soma_idx: 1----\n",
      "Total time for filtering periphery meshes = 0.2765069007873535\n",
      "touching_pieces = [10]\n",
      "Total time for mesh connectivity = 0.605156421661377\n",
      "Using touching_pieces[0] = 10\n",
      "inside inner loop len(curr_limb_divided_skeletons) = 11\n",
      "closest_endpoint WITH NEW KDTREE METHOD= [862976. 995457. 850854.]\n",
      "About to send touching_soma_vertices = [[863258.4 994795.4 851581.6]\n",
      " [862916.2 994863.4 851665.6]\n",
      " [862833.4 995051.9 851711.6]\n",
      " [863442.2 995300.1 851652.8]\n",
      " [863088.4 994795.9 851393.9]\n",
      " [863250.  995375.4 851838.9]\n",
      " [863393.4 994948.1 851497. ]\n",
      " [863056.3 995379.6 851889.9]\n",
      " [863104.3 994755.2 851653.2]\n",
      " [863371.7 995357.5 851744.3]\n",
      " [862841.7 995264.1 851769.6]\n",
      " [863526.1 995167.9 851553.2]]\n",
      "Starting_edge inside branches_to_conept = [[850548. 997738. 835095.]\n",
      " [862976. 995457. 850854.]]\n",
      "At the start, starting_node (in terms of the skeleton, that shouldn't match the starting edge) = [11]\n",
      "printing out current edge:\n",
      "[[862976. 995457. 850854.]\n",
      " [850548. 997738. 835095.]]\n",
      "edge_endpoints_to_process was empty so exiting loop after 11 iterations\n",
      "starting_node in concept map (that should match the starting edge) = 10\n",
      "Total time for branches to concept conversion = 0.10613751411437988\n",
      "\n",
      "Recovered touching vertices = {10: TrackedArray([[863258.4, 994795.4, 851581.6],\n",
      "              [862916.2, 994863.4, 851665.6],\n",
      "              [862833.4, 995051.9, 851711.6],\n",
      "              [863442.2, 995300.1, 851652.8],\n",
      "              [863088.4, 994795.9, 851393.9],\n",
      "              [863250. , 995375.4, 851838.9],\n",
      "              [863393.4, 994948.1, 851497. ],\n",
      "              [863056.3, 995379.6, 851889.9],\n",
      "              [863104.3, 994755.2, 851653.2],\n",
      "              [863371.7, 995357.5, 851744.3],\n",
      "              [862841.7, 995264.1, 851769.6],\n",
      "              [863526.1, 995167.9, 851553.2]])}\n",
      "recovered_touching_piece = [10]\n",
      "After concept mapping size = 11\n",
      "Local time for concept mapping = 1.0660786628723145\n",
      "\n",
      "\n",
      "------Working on limb 12 -------\n",
      "inside loop len(curr_limb_divided_meshes) = 1 len(curr_limb_divided_skeletons) = 1\n",
      "--- Working on soma_idx: 0----\n",
      "Total time for filtering periphery meshes = 0.03156900405883789\n",
      "touching_pieces = [0]\n",
      "Total time for mesh connectivity = 0.732943058013916\n",
      "Using touching_pieces[0] = 0\n",
      "inside inner loop len(curr_limb_divided_skeletons) = 1\n",
      "closest_endpoint WITH NEW KDTREE METHOD= [760912. 965123. 878616.]\n",
      "About to send touching_soma_vertices = [[759735.2 964457.4 877252.6]\n",
      " [760755.8 964042.  879069.7]\n",
      " [759677.2 964645.8 877806.4]\n",
      " [759655.6 964561.6 877397.6]\n",
      " [759817.2 964706.  878417.8]\n",
      " [759949.2 964688.4 878675.6]\n",
      " [761668.4 963715.5 878210.4]\n",
      " [760143.8 964260.5 877123.9]\n",
      " [759632.  964608.  877720. ]\n",
      " [761586.8 963620.6 877885.6]\n",
      " [759692.4 964522.1 878399.8]\n",
      " [760088.4 964463.2 878807.8]\n",
      " [761244.4 963904.1 877388.4]\n",
      " [761277.4 963562.8 878814.6]\n",
      " [761197.8 963682.2 878930.9]\n",
      " [760259.2 964479.1 878887.4]\n",
      " [760475.6 964583.8 878978.1]\n",
      " [761098.  964103.7 877392.4]\n",
      " [759906.8 964445.6 877185.8]\n",
      " [761640.8 963681.3 877997.1]\n",
      " [760902.4 964079.6 877276.1]\n",
      " [759672.6 964451.2 878553.8]\n",
      " [761035.1 963606.8 878952.9]\n",
      " [760330.9 964276.9 878969.4]\n",
      " [760759.9 964190.6 879097.2]\n",
      " [760536.9 964222.5 877288.3]\n",
      " [759770.1 964688.1 877960.9]\n",
      " [759594.9 964625.  877558.4]\n",
      " [761356.3 963862.3 877593.9]\n",
      " [760175.3 964412.4 877185.3]\n",
      " [759623.5 964653.4 877658.7]\n",
      " [760941.1 963783.6 879058.8]\n",
      " [761530.5 963769.4 877670.2]\n",
      " [760912.7 963879.  879069.1]\n",
      " [759768.1 964308.7 877108.3]\n",
      " [761370.1 963525.3 878681.4]\n",
      " [760302.9 964275.5 877266.8]\n",
      " [760753.5 964233.9 877409.6]\n",
      " [760601.1 964381.5 879081.4]\n",
      " [759650.1 964605.2 877889. ]\n",
      " [760551.3 964243.8 879041.5]\n",
      " [759646.9 964581.1 878098.3]\n",
      " [760926.9 963639.4 879022.4]\n",
      " [761537.9 963689.  878609.1]\n",
      " [761593.7 963534.2 878318. ]]\n",
      "Starting_edge inside branches_to_conept = [[760912. 965123. 878616.]\n",
      " [763776. 973526. 881798.]]\n",
      "Recovered touching vertices = {0: TrackedArray([[759735.2, 964457.4, 877252.6],\n",
      "              [760755.8, 964042. , 879069.7],\n",
      "              [759677.2, 964645.8, 877806.4],\n",
      "              [759655.6, 964561.6, 877397.6],\n",
      "              [759817.2, 964706. , 878417.8],\n",
      "              [759949.2, 964688.4, 878675.6],\n",
      "              [761668.4, 963715.5, 878210.4],\n",
      "              [760143.8, 964260.5, 877123.9],\n",
      "              [759632. , 964608. , 877720. ],\n",
      "              [761586.8, 963620.6, 877885.6],\n",
      "              [759692.4, 964522.1, 878399.8],\n",
      "              [760088.4, 964463.2, 878807.8],\n",
      "              [761244.4, 963904.1, 877388.4],\n",
      "              [761277.4, 963562.8, 878814.6],\n",
      "              [761197.8, 963682.2, 878930.9],\n",
      "              [760259.2, 964479.1, 878887.4],\n",
      "              [760475.6, 964583.8, 878978.1],\n",
      "              [761098. , 964103.7, 877392.4],\n",
      "              [759906.8, 964445.6, 877185.8],\n",
      "              [761640.8, 963681.3, 877997.1],\n",
      "              [760902.4, 964079.6, 877276.1],\n",
      "              [759672.6, 964451.2, 878553.8],\n",
      "              [761035.1, 963606.8, 878952.9],\n",
      "              [760330.9, 964276.9, 878969.4],\n",
      "              [760759.9, 964190.6, 879097.2],\n",
      "              [760536.9, 964222.5, 877288.3],\n",
      "              [759770.1, 964688.1, 877960.9],\n",
      "              [759594.9, 964625. , 877558.4],\n",
      "              [761356.3, 963862.3, 877593.9],\n",
      "              [760175.3, 964412.4, 877185.3],\n",
      "              [759623.5, 964653.4, 877658.7],\n",
      "              [760941.1, 963783.6, 879058.8],\n",
      "              [761530.5, 963769.4, 877670.2],\n",
      "              [760912.7, 963879. , 879069.1],\n",
      "              [759768.1, 964308.7, 877108.3],\n",
      "              [761370.1, 963525.3, 878681.4],\n",
      "              [760302.9, 964275.5, 877266.8],\n",
      "              [760753.5, 964233.9, 877409.6],\n",
      "              [760601.1, 964381.5, 879081.4],\n",
      "              [759650.1, 964605.2, 877889. ],\n",
      "              [760551.3, 964243.8, 879041.5],\n",
      "              [759646.9, 964581.1, 878098.3],\n",
      "              [760926.9, 963639.4, 879022.4],\n",
      "              [761537.9, 963689. , 878609.1],\n",
      "              [761593.7, 963534.2, 878318. ]])}\n",
      "recovered_touching_piece = [0]\n",
      "After concept mapping size = 1\n",
      "Local time for concept mapping = 0.7855589389801025\n",
      "\n",
      "\n",
      " ----- Total time for concept mapping = 20.62941837310791 ----\n",
      "Processing Neuorn in minimal output mode...please wait\n"
     ]
    },
    {
     "name": "stderr",
     "output_type": "stream",
     "text": [
      "WARNING:trimesh:face_normals all zero, ignoring!\n",
      "WARNING:trimesh:face_normals all zero, ignoring!\n",
      "WARNING:trimesh:face_normals all zero, ignoring!\n",
      "WARNING:trimesh:face_normals all zero, ignoring!\n",
      "WARNING:trimesh:face_normals all zero, ignoring!\n",
      "WARNING:trimesh:face_normals all zero, ignoring!\n",
      "WARNING:trimesh:face_normals all zero, ignoring!\n",
      "WARNING:trimesh:face_normals all zero, ignoring!\n",
      "WARNING:trimesh:face_normals all zero, ignoring!\n",
      "WARNING:trimesh:face_normals all zero, ignoring!\n",
      "WARNING:trimesh:face_normals all zero, ignoring!\n",
      "WARNING:trimesh:face_normals all zero, ignoring!\n",
      "WARNING:trimesh:face_normals all zero, ignoring!\n",
      "WARNING:trimesh:face_normals all zero, ignoring!\n",
      "WARNING:trimesh:face_normals all zero, ignoring!\n",
      "WARNING:trimesh:face_normals all zero, ignoring!\n",
      "WARNING:trimesh:face_normals all zero, ignoring!\n",
      "WARNING:trimesh:face_normals all zero, ignoring!\n",
      "WARNING:trimesh:face_normals all zero, ignoring!\n",
      "WARNING:trimesh:face_normals all zero, ignoring!\n",
      "WARNING:trimesh:face_normals all zero, ignoring!\n",
      "WARNING:trimesh:face_normals all zero, ignoring!\n",
      "WARNING:trimesh:face_normals all zero, ignoring!\n",
      "WARNING:trimesh:face_normals all zero, ignoring!\n",
      "WARNING:trimesh:face_normals all zero, ignoring!\n",
      "WARNING:trimesh:face_normals all zero, ignoring!\n",
      "WARNING:trimesh:face_normals all zero, ignoring!\n",
      "WARNING:trimesh:face_normals all zero, ignoring!\n",
      "WARNING:trimesh:face_normals all zero, ignoring!\n",
      "WARNING:trimesh:face_normals all zero, ignoring!\n",
      "WARNING:trimesh:face_normals all zero, ignoring!\n",
      "WARNING:trimesh:face_normals all zero, ignoring!\n",
      "WARNING:trimesh:face_normals all zero, ignoring!\n"
     ]
    },
    {
     "name": "stdout",
     "output_type": "stream",
     "text": [
      "Total time for neuron instance creation = 31.316399574279785\n"
     ]
    }
   ],
   "source": [
    "current_file = \"/notebooks/test_neurons/meshafterparty_processed/12345_double_soma_meshafterparty_fixed_connectors\"\n",
    "neuron_obj = nru.decompress_neuron(filepath=current_file,\n",
    "                                  original_mesh=current_file,\n",
    "                                  minimal_output=True)\n"
   ]
  },
  {
   "cell_type": "code",
   "execution_count": 46,
   "metadata": {},
   "outputs": [
    {
     "data": {
      "application/vnd.jupyter.widget-view+json": {
       "model_id": "5025a85c27934c2db85dbdb6072fec65",
       "version_major": 2,
       "version_minor": 0
      },
      "text/plain": [
       "VBox(children=(Figure(camera=PerspectiveCamera(fov=46.0, position=(0.0, 0.0, 2.0), quaternion=(0.0, 0.0, 0.0, …"
      ]
     },
     "metadata": {},
     "output_type": "display_data"
    }
   ],
   "source": [
    "import numpy as np\n",
    "part_1_indices = tu.original_mesh_faces_map(\n",
    "    neuron_obj.mesh,\n",
    "    neuron_obj[0].mesh,\n",
    "    exact_match=True\n",
    "\n",
    ")\n",
    "\n",
    "part_2_indices = tu.original_mesh_faces_map(\n",
    "    neuron_obj.mesh,\n",
    "    neuron_obj[1].mesh,\n",
    "    exact_match=True\n",
    "\n",
    ")\n",
    "submesh_indices = np.unique(np.concatenate([part_1_indices,part_2_indices]))\n",
    "recovered_limb_mesh = neuron_obj.mesh.submesh([submesh_indices],append=True)\n",
    "sk.graph_skeleton_and_mesh(other_meshes=[recovered_limb_mesh])"
   ]
  },
  {
   "cell_type": "code",
   "execution_count": 47,
   "metadata": {},
   "outputs": [
    {
     "name": "stdout",
     "output_type": "stream",
     "text": [
      "     Starting Screened Poisson\n",
      "IN INPUT FILE VALIDATION LOOP\n",
      "LEAVING LOOP, MESH VALIDATED\n",
      "Using port = 7001\n",
      "xvfb-run -n 7001 -s \"-screen 0 800x600x24\" meshlabserver $@  -i /notebooks/Platinum_Compartment/Axon/temp/None.off -o /notebooks/Platinum_Compartment/Axon/temp/None_poisson.off -s /notebooks/Platinum_Compartment/Axon/temp/poisson_348122.mls\n",
      "removed temporary input file: /notebooks/Platinum_Compartment/Axon/temp/None.off\n",
      "removed temporary output file: /notebooks/Platinum_Compartment/Axon/temp/None_poisson.off\n",
      "Using the close holes feature\n",
      "IN INPUT FILE VALIDATION LOOP\n",
      "LEAVING LOOP, MESH VALIDATED\n",
      "Using port = 306\n",
      "xvfb-run -n 306 -s \"-screen 0 800x600x24\" meshlabserver $@  -i /notebooks/Platinum_Compartment/Axon/temp/neuron_None.off -o /notebooks/Platinum_Compartment/Axon/temp/neuron_None_fill_holes.off -s /notebooks/Platinum_Compartment/Axon/temp/fill_holes_362704.mls\n",
      "removed temporary input file: /notebooks/Platinum_Compartment/Axon/temp/neuron_None.off\n",
      "removed temporary output file: /notebooks/Platinum_Compartment/Axon/temp/neuron_None_fill_holes.off\n",
      "-----Time for Screened Poisson= 50.60538649559021\n",
      "     Starting Calcification\n",
      "Before mesh subtraction number of skeleton edges = 4224\n",
      "Inside mesh subtraction, len(main_mesh_bbox_restricted.faces) = 308998\n"
     ]
    },
    {
     "data": {
      "application/vnd.jupyter.widget-view+json": {
       "model_id": "8f6da2c758534bfe93d46ee914dc3214",
       "version_major": 2,
       "version_minor": 0
      },
      "text/plain": [
       "HBox(children=(FloatProgress(value=1.0, bar_style='info', layout=Layout(width='20px'), max=1.0), HTML(value=''…"
      ]
     },
     "metadata": {},
     "output_type": "display_data"
    },
    {
     "name": "stdout",
     "output_type": "stream",
     "text": [
      "\n",
      "Total Mesh subtraction time = 85.5264\n"
     ]
    },
    {
     "data": {
      "application/vnd.jupyter.widget-view+json": {
       "model_id": "bab29525fae24f1092fb75383a39ec65",
       "version_major": 2,
       "version_minor": 0
      },
      "text/plain": [
       "HBox(children=(FloatProgress(value=0.0, max=95.0), HTML(value='')))"
      ]
     },
     "metadata": {},
     "output_type": "display_data"
    },
    {
     "name": "stdout",
     "output_type": "stream",
     "text": [
      "\n",
      "len_subgraphs AT BEGINNING of the loop\n"
     ]
    },
    {
     "data": {
      "application/vnd.jupyter.widget-view+json": {
       "model_id": "c464589c72cc4f55a2fc3ad092e1682d",
       "version_major": 2,
       "version_minor": 0
      },
      "text/plain": [
       "HBox(children=(FloatProgress(value=0.0, max=620.0), HTML(value='')))"
      ]
     },
     "metadata": {},
     "output_type": "display_data"
    },
    {
     "name": "stdout",
     "output_type": "stream",
     "text": [
      "all graph is one component!\n",
      "\n",
      "Total time for skeleton stitching = 1.6741745471954346\n",
      "The process was using a temp folder\n"
     ]
    }
   ],
   "source": [
    "import trimesh_utils as tu\n",
    "new_skeleton = sk.skeletonize_connected_branch(current_mesh=recovered_limb_mesh)"
   ]
  },
  {
   "cell_type": "code",
   "execution_count": 48,
   "metadata": {},
   "outputs": [
    {
     "data": {
      "application/vnd.jupyter.widget-view+json": {
       "model_id": "f7ae8f1256dd4cdd8546a5f75ae1d421",
       "version_major": 2,
       "version_minor": 0
      },
      "text/plain": [
       "VBox(children=(Figure(camera=PerspectiveCamera(fov=46.0, position=(0.0, 0.0, 2.0), quaternion=(0.0, 0.0, 0.0, …"
      ]
     },
     "metadata": {},
     "output_type": "display_data"
    }
   ],
   "source": [
    "sk.graph_skeleton_and_mesh(other_meshes=[recovered_limb_mesh],\n",
    "                          other_skeletons=[new_skeleton])"
   ]
  },
  {
   "cell_type": "code",
   "execution_count": 50,
   "metadata": {},
   "outputs": [],
   "source": [
    "analyzing_limb = neuron_obj[0]"
   ]
  },
  {
   "cell_type": "code",
   "execution_count": 51,
   "metadata": {},
   "outputs": [
    {
     "data": {
      "text/plain": [
       "TrackedArray([[755269. , 950604.8, 875519.5],\n",
       "              [756066.6, 950991.5, 875998.8],\n",
       "              [755707.2, 950526.4, 875856.4],\n",
       "              [756251.2, 951230.5, 876054. ],\n",
       "              [755692.6, 950878.2, 875859.1],\n",
       "              [755327.4, 950467.4, 875490.8],\n",
       "              [755803. , 950850.2, 875940.2],\n",
       "              [756577.3, 951378.6, 876091.8],\n",
       "              [756371.5, 951336.1, 876063.7],\n",
       "              [755903.9, 950990.2, 875982.8],\n",
       "              [755611.5, 950823.8, 875822. ],\n",
       "              [755415.9, 950728.8, 875713.6],\n",
       "              [755186.1, 950392.1, 875386.3],\n",
       "              [756127.1, 951161.3, 876031.9],\n",
       "              [755434.3, 950504.9, 875650.2],\n",
       "              [756767.9, 951340.4, 876101. ],\n",
       "              [755570.1, 950635.1, 875768.6],\n",
       "              [755051.3, 950506. , 875234.1],\n",
       "              [755104.9, 950590.4, 875331.6]])"
      ]
     },
     "execution_count": 51,
     "metadata": {},
     "output_type": "execute_result"
    }
   ],
   "source": [
    "analyzing_limb.current_touching_soma_vertices"
   ]
  },
  {
   "cell_type": "code",
   "execution_count": 54,
   "metadata": {},
   "outputs": [
    {
     "name": "stdout",
     "output_type": "stream",
     "text": [
      "Using Distance measure skeletal_distance\n",
      "Going to ignore certain endnodes that are 5000 nm close to soma border vertices\n",
      "Number of end_nodes BEFORE filtering = 644\n",
      "May Eliminate end_node 399: 3516 because path_len to soma border was 4780.83147268884\n",
      "single_node_to_eliminate = 399\n"
     ]
    },
    {
     "data": {
      "application/vnd.jupyter.widget-view+json": {
       "model_id": "1765db2e3c5440b7a42fb497d872178b",
       "version_major": 2,
       "version_minor": 0
      },
      "text/plain": [
       "HBox(children=(FloatProgress(value=0.0, max=635.0), HTML(value='')))"
      ]
     },
     "metadata": {},
     "output_type": "display_data"
    },
    {
     "name": "stdout",
     "output_type": "stream",
     "text": [
      "\n"
     ]
    }
   ],
   "source": [
    "filter_end_node_length = 5000\n",
    "recovered_skeleton_clean = sk.clean_skeleton(\n",
    "new_skeleton,\n",
    "    distance_func=sk.skeletal_distance,\n",
    "    min_distance_to_junction=filter_end_node_length,\n",
    "    soma_border_vertices=analyzing_limb.current_touching_soma_vertices,\n",
    "    skeleton_mesh=recovered_limb_mesh,\n",
    ")"
   ]
  },
  {
   "cell_type": "code",
   "execution_count": 55,
   "metadata": {},
   "outputs": [
    {
     "data": {
      "application/vnd.jupyter.widget-view+json": {
       "model_id": "8262881cb293426c98a7d474edea22d8",
       "version_major": 2,
       "version_minor": 0
      },
      "text/plain": [
       "VBox(children=(Figure(camera=PerspectiveCamera(fov=46.0, position=(0.0, 0.0, 2.0), quaternion=(0.0, 0.0, 0.0, …"
      ]
     },
     "metadata": {},
     "output_type": "display_data"
    }
   ],
   "source": [
    "sk.graph_skeleton_and_mesh(other_meshes=[recovered_limb_mesh],\n",
    "                          other_skeletons=[recovered_skeleton_clean])"
   ]
  },
  {
   "cell_type": "code",
   "execution_count": 15,
   "metadata": {},
   "outputs": [
    {
     "name": "stdout",
     "output_type": "stream",
     "text": [
      "\n",
      " Working on visualization type: mesh\n",
      "\n",
      " Working on visualization type: skeleton\n"
     ]
    },
    {
     "data": {
      "application/vnd.jupyter.widget-view+json": {
       "model_id": "60870176a95948b2bf3ef87cd9f4ecaa",
       "version_major": 2,
       "version_minor": 0
      },
      "text/plain": [
       "VBox(children=(Figure(camera=PerspectiveCamera(fov=46.0, position=(0.0, 0.0, 2.0), quaternion=(0.0, 0.0, 0.0, …"
      ]
     },
     "metadata": {},
     "output_type": "display_data"
    }
   ],
   "source": [
    "returned_color_dict = nviz.visualize_neuron(neuron_obj,\n",
    "                                            visualize_type=[\"mesh\",\"skeleton\"],\n",
    "                      limb_branch_dict=dict(L1=\"all\"),\n",
    "                        \n",
    "                     #mesh_resolution=\"limb\",\n",
    "                     return_color_dict=True)"
   ]
  },
  {
   "cell_type": "markdown",
   "metadata": {},
   "source": [
    "# Debug label propagation:"
   ]
  },
  {
   "cell_type": "code",
   "execution_count": 28,
   "metadata": {},
   "outputs": [],
   "source": [
    "curr_limb = neuron_obj[\"L1\"]\n",
    "thin_branch = curr_limb[40]\n",
    "thick_branch = curr_limb[24]\n",
    "base_branch = curr_limb[42]"
   ]
  },
  {
   "cell_type": "markdown",
   "metadata": {},
   "source": [
    "# Run the adaptive mesh correspondence on each and visualize"
   ]
  },
  {
   "cell_type": "code",
   "execution_count": 23,
   "metadata": {},
   "outputs": [],
   "source": [
    "import skeleton_utils as sk"
   ]
  },
  {
   "cell_type": "code",
   "execution_count": null,
   "metadata": {},
   "outputs": [],
   "source": [
    "import compartment_utils as cu\n",
    "cu = reload(cu)\n",
    "return_value = cu.mesh_correspondence_adaptive_distance(\n",
    "                curr_branch_skeleton=base_branch.skeleton,\n",
    "                curr_branch_mesh=curr_limb.mesh,\n",
    "                print_flag=True)\n",
    "base_submesh_vertices, base_submesh_width = return_value\n",
    "base_new_mesh = curr_limb.mesh.submesh([thin_submesh_vertices],append=True)\n",
    "sk.graph_skeleton_and_mesh(other_meshes=[thin_new_mesh],\n",
    "                          other_skeletons=[thin_branch.skeleton])"
   ]
  },
  {
   "cell_type": "code",
   "execution_count": 26,
   "metadata": {},
   "outputs": [
    {
     "name": "stdout",
     "output_type": "stream",
     "text": [
      "new_skeleton.shape = (83, 2, 3)\n",
      "INSIDE GET SKELETAL DISTANCE distance_by_mesh_center = True\n"
     ]
    },
    {
     "data": {
      "application/vnd.jupyter.widget-view+json": {
       "model_id": "f060a62701544fc0ad11f85c071bab48",
       "version_major": 2,
       "version_minor": 0
      },
      "text/plain": [
       "HBox(children=(FloatProgress(value=1.0, bar_style='info', layout=Layout(width='20px'), max=1.0), HTML(value=''…"
      ]
     },
     "metadata": {},
     "output_type": "display_data"
    },
    {
     "name": "stdout",
     "output_type": "stream",
     "text": [
      "\n",
      "filtered_measurements = [269.65543392 193.92210268 255.89925697 290.35319049 341.37451785\n",
      " 354.49448539 495.79303919 296.80328223 385.63962015 365.91613192\n",
      " 301.8407867  424.27694433 383.1737609  392.86316215 409.55326211\n",
      " 289.09409565 283.03305309 291.65712386 242.06676149 264.87466074\n",
      " 419.90640102 296.60461248 315.27458326 455.66670364 301.61311588\n",
      " 362.00607376 280.09624994 341.63147989 477.88035332 397.22835076\n",
      " 379.0512148  308.58785143 490.55598106 350.63979634 390.22163658\n",
      " 422.6927681  485.57038283 352.16426642 343.84581334 392.6222664\n",
      " 458.25391303 342.40842133 370.94629034 410.10628922 283.61134368\n",
      " 313.11784329 258.66834125 441.73122904 441.06084172 403.02700261\n",
      " 340.69973972 549.44834498 344.58477981 277.53655883 385.76858619\n",
      " 332.87073447 438.2196827  197.53944476 224.84640971 283.20846608\n",
      " 233.83229067 345.98133117 372.07133661 405.48853039 434.39330914\n",
      " 426.32340953 345.99163819 326.5404759  551.07315131]\n",
      "INSIDE GET SKELETAL DISTANCE distance_by_mesh_center = True\n"
     ]
    },
    {
     "data": {
      "application/vnd.jupyter.widget-view+json": {
       "model_id": "d2c084d1ba0f4d61b66b452213a8cd09",
       "version_major": 2,
       "version_minor": 0
      },
      "text/plain": [
       "HBox(children=(FloatProgress(value=1.0, bar_style='info', layout=Layout(width='20px'), max=1.0), HTML(value=''…"
      ]
     },
     "metadata": {},
     "output_type": "display_data"
    },
    {
     "name": "stdout",
     "output_type": "stream",
     "text": [
      "--> Not exactly one containing mesh: []\n",
      "\n"
     ]
    },
    {
     "data": {
      "application/vnd.jupyter.widget-view+json": {
       "model_id": "738a7b9438d741a999a58e482b24d24b",
       "version_major": 2,
       "version_minor": 0
      },
      "text/plain": [
       "VBox(children=(Figure(camera=PerspectiveCamera(fov=46.0, position=(0.0, 0.0, 2.0), quaternion=(0.0, 0.0, 0.0, …"
      ]
     },
     "metadata": {},
     "output_type": "display_data"
    }
   ],
   "source": [
    "import compartment_utils as cu\n",
    "cu = reload(cu)\n",
    "return_value = cu.mesh_correspondence_adaptive_distance(\n",
    "                curr_branch_skeleton=thin_branch.skeleton,\n",
    "                curr_branch_mesh=curr_limb.mesh,\n",
    "                print_flag=True)\n",
    "thin_submesh_vertices, thin_submesh_width = return_value\n",
    "thin_new_mesh = curr_limb.mesh.submesh([thin_submesh_vertices],append=True)\n",
    "sk.graph_skeleton_and_mesh(other_meshes=[thin_new_mesh],\n",
    "                          other_skeletons=[thin_branch.skeleton])"
   ]
  },
  {
   "cell_type": "code",
   "execution_count": 27,
   "metadata": {},
   "outputs": [
    {
     "name": "stdout",
     "output_type": "stream",
     "text": [
      "new_skeleton.shape = (6, 2, 3)\n",
      "INSIDE GET SKELETAL DISTANCE distance_by_mesh_center = True\n"
     ]
    },
    {
     "data": {
      "application/vnd.jupyter.widget-view+json": {
       "model_id": "eaa8123d105a4fda9ced958aaba253e3",
       "version_major": 2,
       "version_minor": 0
      },
      "text/plain": [
       "HBox(children=(FloatProgress(value=1.0, bar_style='info', layout=Layout(width='20px'), max=1.0), HTML(value=''…"
      ]
     },
     "metadata": {},
     "output_type": "display_data"
    },
    {
     "name": "stdout",
     "output_type": "stream",
     "text": [
      "\n",
      "filtered_measurements = [1366.68477618 1259.72713408 1288.58458933 1328.21338613]\n",
      "INSIDE GET SKELETAL DISTANCE distance_by_mesh_center = True\n"
     ]
    },
    {
     "data": {
      "application/vnd.jupyter.widget-view+json": {
       "model_id": "e1b813a5d7eb48f69b76bea66de7d2de",
       "version_major": 2,
       "version_minor": 0
      },
      "text/plain": [
       "HBox(children=(FloatProgress(value=1.0, bar_style='info', layout=Layout(width='20px'), max=1.0), HTML(value=''…"
      ]
     },
     "metadata": {},
     "output_type": "display_data"
    },
    {
     "name": "stdout",
     "output_type": "stream",
     "text": [
      "\n"
     ]
    },
    {
     "data": {
      "application/vnd.jupyter.widget-view+json": {
       "model_id": "f05f5c89fe3749e9875229c2d29161c2",
       "version_major": 2,
       "version_minor": 0
      },
      "text/plain": [
       "VBox(children=(Figure(camera=PerspectiveCamera(fov=46.0, position=(0.0, 0.0, 2.0), quaternion=(0.0, 0.0, 0.0, …"
      ]
     },
     "metadata": {},
     "output_type": "display_data"
    }
   ],
   "source": [
    "import compartment_utils as cu\n",
    "cu = reload(cu)\n",
    "return_value = cu.mesh_correspondence_adaptive_distance(\n",
    "                curr_branch_skeleton=thick_branch.skeleton,\n",
    "                curr_branch_mesh=curr_limb.mesh,\n",
    "                print_flag=True)\n",
    "thick_submesh_vertices, thick_submesh_width = return_value\n",
    "thick_new_mesh = curr_limb.mesh.submesh([thick_submesh_vertices],append=True)\n",
    "sk.graph_skeleton_and_mesh(other_meshes=[thick_new_mesh],\n",
    "                          other_skeletons=[thick_branch.skeleton])"
   ]
  },
  {
   "cell_type": "code",
   "execution_count": 16,
   "metadata": {},
   "outputs": [
    {
     "data": {
      "image/png": "[encoded data removed]",
      "text/plain": [
       "<Figure size 2880x1440 with 1 Axes>"
      ]
     },
     "metadata": {},
     "output_type": "display_data"
    }
   ],
   "source": [
    "nviz.plot_limb_concept_network_2D(neuron_obj,\n",
    "                                  limb_name=\"L1\",\n",
    "                                 node_colors=returned_color_dict)"
   ]
  },
  {
   "cell_type": "code",
   "execution_count": 36,
   "metadata": {},
   "outputs": [
    {
     "name": "stdout",
     "output_type": "stream",
     "text": [
      "\n",
      " Working on visualization type: mesh\n"
     ]
    },
    {
     "data": {
      "application/vnd.jupyter.widget-view+json": {
       "model_id": "5a04d2ce25a24903b4b9e9df004e6343",
       "version_major": 2,
       "version_minor": 0
      },
      "text/plain": [
       "VBox(children=(Figure(camera=PerspectiveCamera(fov=46.0, position=(0.0, 0.0, 2.0), quaternion=(0.0, 0.0, 0.0, …"
      ]
     },
     "metadata": {},
     "output_type": "display_data"
    }
   ],
   "source": [
    "returned_color_dict = nviz.visualize_neuron(neuron_obj,\n",
    "                                            limb_branch_dict=\"all\",\n",
    "                                           mesh_resolution=\"limb\",\n",
    "                                            return_color_dict=True)"
   ]
  },
  {
   "cell_type": "code",
   "execution_count": 37,
   "metadata": {},
   "outputs": [
    {
     "name": "stdout",
     "output_type": "stream",
     "text": [
      "nrows = 4\n",
      "n-ncols*nrows = -1\n"
     ]
    },
    {
     "data": {
      "image/png": "[encoded data removed]",
      "text/plain": [
       "<Figure size 1440x576 with 1 Axes>"
      ]
     },
     "metadata": {
      "needs_background": "light"
     },
     "output_type": "display_data"
    }
   ],
   "source": [
    "import matplotlib_utils as mu\n",
    "mu.plot_color_dict(returned_color_dict)"
   ]
  },
  {
   "cell_type": "code",
   "execution_count": 7,
   "metadata": {},
   "outputs": [
    {
     "name": "stdout",
     "output_type": "stream",
     "text": [
      "\n",
      " Working on visualization type: mesh\n"
     ]
    },
    {
     "data": {
      "application/vnd.jupyter.widget-view+json": {
       "model_id": "90a1f4b75e4447c79a5b0ee40bf3cbbd",
       "version_major": 2,
       "version_minor": 0
      },
      "text/plain": [
       "VBox(children=(Figure(camera=PerspectiveCamera(fov=46.0, position=(0.0, 0.0, 2.0), quaternion=(0.0, 0.0, 0.0, …"
      ]
     },
     "metadata": {},
     "output_type": "display_data"
    }
   ],
   "source": [
    "nviz.plot_spines(neuron_obj)"
   ]
  },
  {
   "cell_type": "code",
   "execution_count": 8,
   "metadata": {},
   "outputs": [
    {
     "data": {
      "text/plain": [
       "{'median_mesh_center': 271.9277619984163,\n",
       " 'mean_mesh_center': 278.77233788161084,\n",
       " 'no_spine_mean_mesh_center': 264.73634782372875,\n",
       " 'no_spine_median_mesh_center': 271.106880453142}"
      ]
     },
     "execution_count": 8,
     "metadata": {},
     "output_type": "execute_result"
    }
   ],
   "source": [
    "neuron_obj[0][0].width_new"
   ]
  },
  {
   "cell_type": "markdown",
   "metadata": {},
   "source": [
    "# Doing the Axon Classificaiton"
   ]
  },
  {
   "cell_type": "code",
   "execution_count": null,
   "metadata": {},
   "outputs": [],
   "source": [
    "\"\"\"\n",
    "Pseudocode: \n",
    "0) Label the branches that you think are axon like\n",
    "1) Geta ll the branches a certain distance away from the soma\n",
    "2) Remove the branches from the graph\n",
    "3) Analyze each of the disconnected sub limbs (maybe that starts with an axon)\n",
    "a. trace back to the last dendritic branch or soma\n",
    "b. Find the width at the boundary between the dendritic shaft or the soma \n",
    "--> should be a certain distance\n",
    "c. Measure the amount of downstream nodes\n",
    "d. Measure total length\n",
    "e. See where the placement is in relation to the soma (and across from the apical)\n",
    "\n",
    "\n",
    "\n",
    "# Will need to do some clean up of who is axon and who is dendrite at the end\n",
    "\n",
    "\"\"\""
   ]
  },
  {
   "cell_type": "code",
   "execution_count": null,
   "metadata": {},
   "outputs": [],
   "source": [
    "import neuron_searching as ns\n",
    "uncompressed_neuron = neuron_obj"
   ]
  },
  {
   "cell_type": "markdown",
   "metadata": {},
   "source": [
    "# ----- 0) Initial Axon Querying without filtering"
   ]
  },
  {
   "cell_type": "code",
   "execution_count": null,
   "metadata": {},
   "outputs": [],
   "source": [
    "current_functions_list = [\n",
    "    \"width\",\n",
    "    \"median_mesh_center\",\n",
    "    \"n_spines\",\n",
    "    \"n_faces_branch\",\n",
    "    \"skeleton_distance_branch\",\n",
    "    \"spines_per_skeletal_length\",\n",
    "    \"no_spine_median_mesh_center\",\n",
    "]\n",
    "\n",
    "width_requirement = \"(median_mesh_center < 200)\"# or no_spine_median_mesh_center < 150)\"\n",
    "limb_branch_dict = ns.query_neuron(uncompressed_neuron,\n",
    "                                   #query=\"n_spines < 4 and no_spine_average_mesh_center < 400\",\n",
    "                                   query=(f\"(n_spines < 4 and {width_requirement} and skeleton_distance_branch <= 15000)\"\n",
    "                                   f\" or (skeleton_distance_branch > 15000 and {width_requirement} and spines_per_skeletal_length < 0.00023)\"),\n",
    "                                   #return_dataframe=True,\n",
    "               functions_list=current_functions_list)\n",
    "\n",
    "colors_dict_returned = nviz.visualize_neuron(uncompressed_neuron,\n",
    "                      limb_branch_dict=limb_branch_dict,\n",
    "                     mesh_color=\"red\",\n",
    "                     mesh_color_alpha=1,\n",
    "                     mesh_whole_neuron=True,\n",
    "                     return_color_dict=True)"
   ]
  },
  {
   "cell_type": "markdown",
   "metadata": {},
   "source": [
    "# ---- Adding the Axon Filtereing "
   ]
  },
  {
   "cell_type": "code",
   "execution_count": null,
   "metadata": {},
   "outputs": [],
   "source": [
    "#How to give a limb_branch_dict as an argument\n",
    "current_functions_list = [\"axon_segment\"]\n",
    "limb_branch_dict_upstream_filter = ns.query_neuron(uncompressed_neuron,\n",
    "                                   query=\"axon_segment==True\",\n",
    "                                   function_kwargs=dict(limb_branch_dict =limb_branch_dict,\n",
    "                                                        downstream_face_threshold=3000,\n",
    "                                                        width_match_threshold=50,\n",
    "                                                       print_flag=False),\n",
    "                                   functions_list=current_functions_list)\n",
    "\n",
    "colors_dict_returned = nviz.visualize_neuron(uncompressed_neuron,\n",
    "                      limb_branch_dict=limb_branch_dict_upstream_filter,\n",
    "                     mesh_color=\"red\",\n",
    "                     mesh_color_alpha=1,\n",
    "                     mesh_whole_neuron=True,\n",
    "                     return_color_dict=True)"
   ]
  },
  {
   "cell_type": "markdown",
   "metadata": {},
   "source": [
    "# ---- 1) Getting All of the Branches That are a certain Distance Away"
   ]
  },
  {
   "cell_type": "code",
   "execution_count": null,
   "metadata": {},
   "outputs": [],
   "source": [
    "soma_idx = 0"
   ]
  },
  {
   "cell_type": "code",
   "execution_count": null,
   "metadata": {},
   "outputs": [],
   "source": [
    "distance_from_soma_threshold = 20000\n",
    "close_limb_branch_dict = ns.query_neuron(uncompressed_neuron,\n",
    "                                        functions_list=[ns.skeletal_distance_from_soma],\n",
    "                                        query=f\"skeletal_distance_from_soma<{distance_from_soma_threshold}\",\n",
    "                                        function_kwargs=dict(somas=[soma_idx])\n",
    "\n",
    "\n",
    "                                        )\n",
    "\n",
    "colors_dict_returned = nviz.visualize_neuron(uncompressed_neuron,\n",
    "                      limb_branch_dict=close_limb_branch_dict,\n",
    "                     mesh_color=\"red\",\n",
    "                     mesh_color_alpha=1,\n",
    "                     mesh_whole_neuron=True,\n",
    "                     return_color_dict=True)"
   ]
  },
  {
   "cell_type": "markdown",
   "metadata": {},
   "source": [
    "# --- 2) Remove the Branches from the Graph"
   ]
  },
  {
   "cell_type": "code",
   "execution_count": null,
   "metadata": {},
   "outputs": [],
   "source": [
    "import matplotlib_utils as mu"
   ]
  },
  {
   "cell_type": "code",
   "execution_count": null,
   "metadata": {},
   "outputs": [],
   "source": [
    "neuron_copy = neuron.Neuron(uncompressed_neuron)\n",
    "neuron_copy"
   ]
  },
  {
   "cell_type": "code",
   "execution_count": null,
   "metadata": {},
   "outputs": [],
   "source": [
    "close_limb_branch_dict"
   ]
  },
  {
   "cell_type": "code",
   "execution_count": null,
   "metadata": {},
   "outputs": [],
   "source": [
    "import networkx_utils as xu\n",
    "from copy import deepcopy\n",
    "limbs_to_check = xu.get_neighbors(neuron_copy.concept_network,nru.soma_label(soma_idx),int_label=False)\n",
    "total_sub_limbs = dict()\n",
    "\n",
    "sub_limb_color_dict = dict()\n",
    "new_networks = dict()\n",
    "for limb_idx in limbs_to_check:\n",
    "    print(f\"\\nWorking on Limb {limb_idx}\")\n",
    "    \n",
    "    sub_limb_color_dict[limb_idx] = dict()\n",
    "    \n",
    "    \n",
    "    \n",
    "    curr_limb = neuron_copy[limb_idx]\n",
    "    if limb_idx in close_limb_branch_dict.keys():\n",
    "        nodes_to_eliminate = close_limb_branch_dict[limb_idx]\n",
    "    else:\n",
    "        nodes_to_eliminate = []\n",
    "    \n",
    "    #the nodes that were eliminated we need to show deleted colors\n",
    "    for n in nodes_to_eliminate:\n",
    "        sub_limb_color_dict[limb_idx][n] = \"black\"\n",
    "    \n",
    "    print(f\"nodes_to_eliminate = {nodes_to_eliminate}\")\n",
    "    curr_limb_copy = deepcopy(curr_limb)\n",
    "    curr_limb_copy.set_concept_network_directional(starting_soma=soma_idx)\n",
    "    curr_limb_copy.concept_network_directional.remove_nodes_from(nodes_to_eliminate)\n",
    "    new_networks[limb_idx] = curr_limb_copy.concept_network_directional\n",
    "    \n",
    "    curr_limb_conn_comp = list(nx.connected_components(nx.Graph(new_networks[limb_idx])))\n",
    "    \n",
    "    if len(curr_limb_conn_comp) == 0:\n",
    "        curr_limb_conn_comp = [nodes_to_eliminate]\n",
    "    \n",
    "    total_sub_limbs[limb_idx] = curr_limb_conn_comp\n",
    "    \n",
    "    colors_to_use = mu.generate_unique_random_color_list(n_colors=len(curr_limb_conn_comp),colors_to_omit=[\"black\"])\n",
    "    for j,(c_comp,curr_random_color) in enumerate(zip(curr_limb_conn_comp,colors_to_use)):\n",
    "        #get a random color\n",
    "        print(f\"curr_random_color = {curr_random_color}\")\n",
    "        for n in c_comp:\n",
    "            sub_limb_color_dict[limb_idx][n] = curr_random_color\n"
   ]
  },
  {
   "cell_type": "code",
   "execution_count": null,
   "metadata": {},
   "outputs": [],
   "source": [
    "nviz.visualize_neuron(uncompressed_neuron,\n",
    "                      limb_branch_dict=\"all\",\n",
    "                      mesh_color=sub_limb_color_dict,\n",
    "                      mesh_fill_color=[0,1,0,0.2],\n",
    "                     )"
   ]
  },
  {
   "cell_type": "markdown",
   "metadata": {},
   "source": [
    "# Analyze Each disconnected root node"
   ]
  },
  {
   "cell_type": "code",
   "execution_count": null,
   "metadata": {},
   "outputs": [],
   "source": [
    "\"\"\"\n",
    "Things that need to find out about each connected node:\n",
    "1) how much axon is on that branch (eASY)\n",
    "- but if no axon then we still want to count it\n",
    "2) What the width transitions look like going all the way back to the soma\n",
    "3) n_spines\n",
    "4) amount of axon on sublimb\n",
    "\n",
    "\n",
    "\n",
    "\n",
    "\n",
    "Problem 1: If no branches left after do cancelling\n",
    "If not any submeshes then just make that mesh the submesh\n",
    "\n",
    "Problem 2: If split up the axon into multiple pieces by doing the cancelling\n",
    "Idea: if all sublimbs on limb look like axon then \n",
    "recompile the sublimb into the whole limb and rerun the analysis on this limb\n",
    "and see if it fits the axon description -\n",
    "\n",
    "Problem 3: What if have small axon initial segment and not much after there?\n",
    "Idea: May just hae to cancel out and end up with one that doesn't violate any of the rules\n",
    "\n",
    "Problem 4: Could potentially cancel out a whole submesh by the subtraction nodes\n",
    "\n",
    "\"\"\""
   ]
  },
  {
   "cell_type": "code",
   "execution_count": null,
   "metadata": {},
   "outputs": [],
   "source": [
    "for limb_idx in limbs_to_check:\n",
    "    print(f\"\\n Limb {limb_idx}:\")\n",
    "    for sub_limb_nodes in total_sub_limbs[limb_idx]:\n",
    "        print(sub_limb_nodes)"
   ]
  },
  {
   "cell_type": "markdown",
   "metadata": {},
   "source": [
    "# ---  Getting the Width Transition going all the way back to the soma ---- "
   ]
  },
  {
   "cell_type": "code",
   "execution_count": null,
   "metadata": {},
   "outputs": [],
   "source": [
    "\"\"\"\n",
    "Pseudocode:\n",
    "1) check if using whole limb or just part of it\n",
    "\n",
    "- If using just part of it:\n",
    "a) Find the node that is bordering a subtraction node\n",
    "b) Trace that node all the way back to the soma on the concept network\n",
    "c) Find the path back to the soma\n",
    "d) Find all width transitions\n",
    "-- We want to ideally find out when it becomes the axon initial segment\n",
    "\n",
    "\n",
    "\"\"\""
   ]
  }
 ],
 "metadata": {
  "kernelspec": {
   "display_name": "Python 3",
   "language": "python",
   "name": "python3"
  },
  "language_info": {
   "codemirror_mode": {
    "name": "ipython",
    "version": 3
   },
   "file_extension": ".py",
   "mimetype": "text/x-python",
   "name": "python",
   "nbconvert_exporter": "python",
   "pygments_lexer": "ipython3",
   "version": "3.6.9"
  }
 },
 "nbformat": 4,
 "nbformat_minor": 4
}
