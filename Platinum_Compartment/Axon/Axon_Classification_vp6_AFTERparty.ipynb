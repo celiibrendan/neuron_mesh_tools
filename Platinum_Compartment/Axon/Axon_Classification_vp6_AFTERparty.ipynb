{
 "cells": [
  {
   "cell_type": "code",
   "execution_count": 1,
   "metadata": {},
   "outputs": [],
   "source": [
    "from os import sys\n",
    "sys.path.append(\"/meshAfterParty/\")\n",
    "#sys.path.append(\"../../meshAfterParty/meshAfterParty\")"
   ]
  },
  {
   "cell_type": "code",
   "execution_count": 2,
   "metadata": {},
   "outputs": [
    {
     "name": "stderr",
     "output_type": "stream",
     "text": [
      "WARNING:root:Need to pip install annotationframeworkclient to repair mesh with pychunkedgraph\n",
      "WARNING:root:Need to pip install annotationframeworkclient to use dataset_name parameters\n"
     ]
    }
   ],
   "source": [
    "from importlib import reload\n",
    "import os\n",
    "from pathlib import Path\n",
    "os.getcwd()\n",
    "\n",
    "import neuron_utils as nru\n",
    "nru = reload(nru)\n",
    "import neuron\n",
    "neuron=reload(neuron)\n",
    "import neuron_visualizations as nviz\n",
    "import time\n",
    "import system_utils as su"
   ]
  },
  {
   "cell_type": "markdown",
   "metadata": {},
   "source": [
    "# How to generate the decomposition from scratch"
   ]
  },
  {
   "cell_type": "code",
   "execution_count": 3,
   "metadata": {},
   "outputs": [],
   "source": [
    "# import trimesh_utils as tu\n",
    "# mesh_file_path = Path(\"/notebooks/test_neurons/multi_soma_example.off\")\n",
    "# mesh_file_path.exists()\n",
    "# current_neuron_mesh = tu.load_mesh_no_processing(str(mesh_file_path.absolute()))\n",
    "\n",
    "# # picking a random segment id\n",
    "# segment_id = 12345\n",
    "# description = \"double_soma_meshafterparty\"\n",
    "\n",
    "# # --------------------- Processing the Neuron ----------------- #\n",
    "# import soma_extraction_utils as sm\n",
    "\n",
    "# somas = sm.extract_soma_center(segment_id,\n",
    "#                              current_neuron_mesh.vertices,\n",
    "#                              current_neuron_mesh.faces)\n",
    "\n",
    "# import time\n",
    "# meshparty_time = time.time()\n",
    "# import compartment_utils as cu\n",
    "# cu = reload(cu)\n",
    "\n",
    "# import meshparty_skeletonize as m_sk\n",
    "# import preprocess_neuron as pn\n",
    "# pn = reload(pn)\n",
    "# m_sk = reload(m_sk)\n",
    "\n",
    "# somas = somas\n",
    "\n",
    "# nru = reload(nru)\n",
    "# neuron = reload(neuron)\n",
    "# current_neuron = neuron.Neuron(\n",
    "#     mesh=current_neuron_mesh,\n",
    "#     segment_id=segment_id,\n",
    "#     description=description,\n",
    "#     decomposition_type=\"meshafterparty\",\n",
    "#     somas = somas,\n",
    "#     #branch_skeleton_data=branch_skeleton_data,\n",
    "#     suppress_preprocessing_print=False,\n",
    "# )\n",
    "# print(f\"Total time for processing: {time.time() - meshparty_time}\")\n",
    "\n",
    "\n",
    "# # ----------------- Calculating the Spines and Width ----------- #\n",
    "# current_neuron.calculate_spines(print_flag=True)\n",
    "# #nviz.plot_spines(current_neuron)\n",
    "\n",
    "# current_neuron.calculate_new_width(no_spines=False,\n",
    "#                                        distance_by_mesh_center=True)\n",
    "\n",
    "# current_neuron.calculate_new_width(no_spines=False,\n",
    "#                                        distance_by_mesh_center=True,\n",
    "#                                        summary_measure=\"median\")\n",
    "\n",
    "# current_neuron.calculate_new_width(no_spines=True,\n",
    "#                                        distance_by_mesh_center=True,\n",
    "#                                        summary_measure=\"mean\")\n",
    "\n",
    "# current_neuron.calculate_new_width(no_spines=True,\n",
    "#                                        distance_by_mesh_center=True,\n",
    "#                                        summary_measure=\"median\")\n",
    "\n",
    "# # ------------------ Saving off the Neuron --------------- #\n",
    "# current_neuron.save_compressed_neuron(output_folder=Path(\"/notebooks/test_neurons/meshafterparty_processed/\"),\n",
    "#                                      export_mesh=True)"
   ]
  },
  {
   "cell_type": "markdown",
   "metadata": {},
   "source": [
    "# Loading in the Neuron Object"
   ]
  },
  {
   "cell_type": "code",
   "execution_count": 4,
   "metadata": {},
   "outputs": [
    {
     "name": "stdout",
     "output_type": "stream",
     "text": [
      "Inside decompress neuron and decomposition_type = meshafterparty\n",
      "Passed faces original mesh check\n",
      "Passed vertices original mesh check\n"
     ]
    },
    {
     "data": {
      "application/vnd.jupyter.widget-view+json": {
       "model_id": "35b2b52937524338a9e6cb869e9f20bd",
       "version_major": 2,
       "version_minor": 0
      },
      "text/plain": [
       "HBox(children=(FloatProgress(value=0.0, max=68.0), HTML(value='')))"
      ]
     },
     "metadata": {},
     "output_type": "display_data"
    },
    {
     "name": "stdout",
     "output_type": "stream",
     "text": [
      "\n"
     ]
    },
    {
     "data": {
      "application/vnd.jupyter.widget-view+json": {
       "model_id": "eb3fd14659a44ae9b6df7e672c3de431",
       "version_major": 2,
       "version_minor": 0
      },
      "text/plain": [
       "HBox(children=(FloatProgress(value=0.0, max=49.0), HTML(value='')))"
      ]
     },
     "metadata": {},
     "output_type": "display_data"
    },
    {
     "name": "stdout",
     "output_type": "stream",
     "text": [
      "\n"
     ]
    },
    {
     "data": {
      "application/vnd.jupyter.widget-view+json": {
       "model_id": "18523fdc73e244e4918137f77aac8650",
       "version_major": 2,
       "version_minor": 0
      },
      "text/plain": [
       "HBox(children=(FloatProgress(value=0.0, max=39.0), HTML(value='')))"
      ]
     },
     "metadata": {},
     "output_type": "display_data"
    },
    {
     "name": "stdout",
     "output_type": "stream",
     "text": [
      "\n"
     ]
    },
    {
     "data": {
      "application/vnd.jupyter.widget-view+json": {
       "model_id": "dc31cd06d9f94d3bbfdeeb972a9ad052",
       "version_major": 2,
       "version_minor": 0
      },
      "text/plain": [
       "HBox(children=(FloatProgress(value=0.0, max=56.0), HTML(value='')))"
      ]
     },
     "metadata": {},
     "output_type": "display_data"
    },
    {
     "name": "stdout",
     "output_type": "stream",
     "text": [
      "\n"
     ]
    },
    {
     "data": {
      "application/vnd.jupyter.widget-view+json": {
       "model_id": "42db1e90c68c49b983a31fc8be20fa89",
       "version_major": 2,
       "version_minor": 0
      },
      "text/plain": [
       "HBox(children=(FloatProgress(value=0.0, max=34.0), HTML(value='')))"
      ]
     },
     "metadata": {},
     "output_type": "display_data"
    },
    {
     "name": "stdout",
     "output_type": "stream",
     "text": [
      "\n"
     ]
    },
    {
     "data": {
      "application/vnd.jupyter.widget-view+json": {
       "model_id": "218027bdc7d8499b905688d4fe0c4fc3",
       "version_major": 2,
       "version_minor": 0
      },
      "text/plain": [
       "HBox(children=(FloatProgress(value=0.0, max=11.0), HTML(value='')))"
      ]
     },
     "metadata": {},
     "output_type": "display_data"
    },
    {
     "name": "stdout",
     "output_type": "stream",
     "text": [
      "\n"
     ]
    },
    {
     "data": {
      "application/vnd.jupyter.widget-view+json": {
       "model_id": "adae6021f15a4579956cbab56d949149",
       "version_major": 2,
       "version_minor": 0
      },
      "text/plain": [
       "HBox(children=(FloatProgress(value=0.0, max=16.0), HTML(value='')))"
      ]
     },
     "metadata": {},
     "output_type": "display_data"
    },
    {
     "name": "stdout",
     "output_type": "stream",
     "text": [
      "\n"
     ]
    },
    {
     "data": {
      "application/vnd.jupyter.widget-view+json": {
       "model_id": "4abe026d42ce46bd88deba59a2b0a950",
       "version_major": 2,
       "version_minor": 0
      },
      "text/plain": [
       "HBox(children=(FloatProgress(value=0.0, max=21.0), HTML(value='')))"
      ]
     },
     "metadata": {},
     "output_type": "display_data"
    },
    {
     "name": "stdout",
     "output_type": "stream",
     "text": [
      "\n"
     ]
    },
    {
     "data": {
      "application/vnd.jupyter.widget-view+json": {
       "model_id": "78327f3ffe5a434299636550a6404bc5",
       "version_major": 2,
       "version_minor": 0
      },
      "text/plain": [
       "HBox(children=(FloatProgress(value=0.0, max=11.0), HTML(value='')))"
      ]
     },
     "metadata": {},
     "output_type": "display_data"
    },
    {
     "name": "stdout",
     "output_type": "stream",
     "text": [
      "\n"
     ]
    },
    {
     "data": {
      "application/vnd.jupyter.widget-view+json": {
       "model_id": "a616a00426794a9783f2133b49798487",
       "version_major": 2,
       "version_minor": 0
      },
      "text/plain": [
       "HBox(children=(FloatProgress(value=0.0, max=1.0), HTML(value='')))"
      ]
     },
     "metadata": {},
     "output_type": "display_data"
    },
    {
     "name": "stdout",
     "output_type": "stream",
     "text": [
      "\n",
      "********************************** generate_limb_concept_networks_from_global_connectivity****************************\n",
      "\n",
      "\n",
      "------Working on limb 0 -------\n",
      "inside loop len(curr_limb_divided_meshes) = 68 len(curr_limb_divided_skeletons) = 68\n",
      "--- Working on soma_idx: 0----\n",
      "Total time for filtering periphery meshes = 0.3610844612121582\n",
      "touching_pieces = [44]\n",
      "Total time for mesh connectivity = 0.8191769123077393\n",
      "Using touching_pieces[0] = 44\n",
      "inside inner loop len(curr_limb_divided_skeletons) = 68\n",
      "closest_endpoint WITH NEW KDTREE METHOD= [754770.2 950773.4 873485.9]\n",
      "Starting_edge inside branches_to_conept = [[754770.2 950773.4 873485.9]\n",
      " [756303.  947334.  874339. ]]\n",
      "At the start, starting_node (in terms of the skeleton, that shouldn't match the starting edge) = [43]\n",
      "printing out current edge:\n",
      "[[754770.2 950773.4 873485.9]\n",
      " [756303.  947334.  874339. ]]\n",
      "edge_endpoints_to_process was empty so exiting loop after 68 iterations\n",
      "starting_node in concept map (that should match the starting edge) = 44\n",
      "Total time for branches to concept conversion = 0.36270761489868164\n",
      "\n",
      "recovered_touching_piece = [44]\n",
      "After concept mapping size = 68\n",
      "Local time for concept mapping = 1.7413349151611328\n",
      "\n",
      "\n",
      "------Working on limb 1 -------\n",
      "inside loop len(curr_limb_divided_meshes) = 49 len(curr_limb_divided_skeletons) = 49\n",
      "Merge limb detected\n",
      "--- Working on soma_idx: 0----\n",
      "Total time for filtering periphery meshes = 0.2246248722076416\n",
      "touching_pieces = [11]\n",
      "Total time for mesh connectivity = 0.19657397270202637\n",
      "Using touching_pieces[0] = 11\n",
      "inside inner loop len(curr_limb_divided_skeletons) = 49\n",
      "closest_endpoint WITH NEW KDTREE METHOD= [763677.2 960913.9 879506.8]\n",
      "Starting_edge inside branches_to_conept = [[763677.2 960913.9 879506.8]\n",
      " [783498.  967211.  880854. ]]\n",
      "At the start, starting_node (in terms of the skeleton, that shouldn't match the starting edge) = [12]\n",
      "printing out current edge:\n",
      "[[763677.2 960913.9 879506.8]\n",
      " [783498.  967211.  880854. ]]\n",
      "edge_endpoints_to_process was empty so exiting loop after 49 iterations\n",
      "starting_node in concept map (that should match the starting edge) = 11\n",
      "Total time for branches to concept conversion = 0.24893569946289062\n",
      "\n",
      "recovered_touching_piece = [11]\n",
      "After concept mapping size = 49\n",
      "--- Working on soma_idx: 1----\n",
      "Total time for filtering periphery meshes = 0.16839122772216797\n",
      "touching_pieces = [41]\n",
      "Total time for mesh connectivity = 0.8098413944244385\n",
      "Using touching_pieces[0] = 41\n",
      "inside inner loop len(curr_limb_divided_skeletons) = 49\n",
      "closest_endpoint WITH NEW KDTREE METHOD= [857243.4 996491.5 860801.4]\n",
      "Starting_edge inside branches_to_conept = [[847208.  998882.  862097. ]\n",
      " [857243.4 996491.5 860801.4]]\n",
      "At the start, starting_node (in terms of the skeleton, that shouldn't match the starting edge) = [44]\n",
      "printing out current edge:\n",
      "[[857243.4 996491.5 860801.4]\n",
      " [847208.  998882.  862097. ]]\n",
      "edge_endpoints_to_process was empty so exiting loop after 49 iterations\n",
      "starting_node in concept map (that should match the starting edge) = 41\n",
      "Total time for branches to concept conversion = 0.24964594841003418\n",
      "\n",
      "recovered_touching_piece = [41]\n",
      "After concept mapping size = 49\n",
      "Local time for concept mapping = 2.1613552570343018\n",
      "\n",
      "\n",
      "------Working on limb 2 -------\n",
      "inside loop len(curr_limb_divided_meshes) = 39 len(curr_limb_divided_skeletons) = 39\n",
      "--- Working on soma_idx: 1----\n",
      "Total time for filtering periphery meshes = 0.11069226264953613\n",
      "touching_pieces = [5]\n",
      "Total time for mesh connectivity = 0.34342265129089355\n",
      "Using touching_pieces[0] = 5\n",
      "inside inner loop len(curr_limb_divided_skeletons) = 39\n",
      "closest_endpoint WITH NEW KDTREE METHOD= [ 862103. 1002270.  879904.]\n",
      "Starting_edge inside branches_to_conept = [[ 862103. 1002270.  879904.]\n",
      " [ 873682. 1032910.  874304.]]\n",
      "At the start, starting_node (in terms of the skeleton, that shouldn't match the starting edge) = [4]\n",
      "printing out current edge:\n",
      "[[ 862103. 1002270.  879904.]\n",
      " [ 873682. 1032910.  874304.]]\n",
      "edge_endpoints_to_process was empty so exiting loop after 39 iterations\n",
      "starting_node in concept map (that should match the starting edge) = 5\n",
      "Total time for branches to concept conversion = 0.22287702560424805\n",
      "\n",
      "recovered_touching_piece = [5]\n",
      "After concept mapping size = 39\n",
      "Local time for concept mapping = 0.7897095680236816\n",
      "\n",
      "\n",
      "------Working on limb 3 -------\n",
      "inside loop len(curr_limb_divided_meshes) = 56 len(curr_limb_divided_skeletons) = 56\n",
      "--- Working on soma_idx: 0----\n",
      "Total time for filtering periphery meshes = 0.2293992042541504\n",
      "touching_pieces = [0]\n",
      "Total time for mesh connectivity = 0.29988861083984375\n",
      "Using touching_pieces[0] = 0\n",
      "inside inner loop len(curr_limb_divided_skeletons) = 56\n",
      "closest_endpoint WITH NEW KDTREE METHOD= [757294.6 961406.6 865840. ]\n",
      "Starting_edge inside branches_to_conept = [[757294.6 961406.6 865840. ]\n",
      " [778970.  968981.  847796. ]]\n",
      "There were 3 duplication nodes found\n",
      "domination_map = {37: 35, 42: 39, 52: 48}\n",
      "At the start, starting_node (in terms of the skeleton, that shouldn't match the starting edge) = [0]\n",
      "printing out current edge:\n",
      "[[757294.6 961406.6 865840. ]\n",
      " [778970.  968981.  847796. ]]\n",
      "edge_endpoints_to_process was empty so exiting loop after 53 iterations\n",
      "starting_node in concept map (that should match the starting edge) = 0\n",
      "Total time for branches to concept conversion = 0.19479608535766602\n",
      "\n",
      "Working on adding back the edges that were duplicates\n",
      "recovered_touching_piece = [0]\n",
      "After concept mapping size = 56\n",
      "Local time for concept mapping = 0.8308470249176025\n",
      "\n",
      "\n",
      "------Working on limb 4 -------\n",
      "inside loop len(curr_limb_divided_meshes) = 34 len(curr_limb_divided_skeletons) = 34\n",
      "--- Working on soma_idx: 0----\n",
      "Total time for filtering periphery meshes = 0.131850004196167\n",
      "touching_pieces = [24]\n",
      "Total time for mesh connectivity = 0.38410186767578125\n",
      "Using touching_pieces[0] = 24\n",
      "inside inner loop len(curr_limb_divided_skeletons) = 34\n",
      "closest_endpoint WITH NEW KDTREE METHOD= [750179.9 961460.2 879066.8]\n",
      "Starting_edge inside branches_to_conept = [[748382.  960577.  880387. ]\n",
      " [750179.9 961460.2 879066.8]]\n",
      "At the start, starting_node (in terms of the skeleton, that shouldn't match the starting edge) = [24]\n",
      "printing out current edge:\n",
      "[[750179.9 961460.2 879066.8]\n",
      " [748382.  960577.  880387. ]]\n",
      "edge_endpoints_to_process was empty so exiting loop after 34 iterations\n",
      "starting_node in concept map (that should match the starting edge) = 24\n",
      "Total time for branches to concept conversion = 0.1682875156402588\n",
      "\n",
      "recovered_touching_piece = [24]\n",
      "After concept mapping size = 34\n",
      "Local time for concept mapping = 0.7747340202331543\n",
      "\n",
      "\n",
      "------Working on limb 5 -------\n",
      "inside loop len(curr_limb_divided_meshes) = 11 len(curr_limb_divided_skeletons) = 11\n",
      "--- Working on soma_idx: 0----\n",
      "Total time for filtering periphery meshes = 0.06058788299560547\n",
      "touching_pieces = [7]\n",
      "Total time for mesh connectivity = 0.2982969284057617\n",
      "Using touching_pieces[0] = 7\n",
      "inside inner loop len(curr_limb_divided_skeletons) = 11\n",
      "closest_endpoint WITH NEW KDTREE METHOD= [752584.6 964335.9 869329.8]\n",
      "Starting_edge inside branches_to_conept = [[745892.  969058.  862615. ]\n",
      " [752584.6 964335.9 869329.8]]\n",
      "At the start, starting_node (in terms of the skeleton, that shouldn't match the starting edge) = [8]\n",
      "printing out current edge:\n",
      "[[752584.6 964335.9 869329.8]\n",
      " [745892.  969058.  862615. ]]\n",
      "edge_endpoints_to_process was empty so exiting loop after 11 iterations\n",
      "starting_node in concept map (that should match the starting edge) = 7\n",
      "Total time for branches to concept conversion = 0.0885460376739502\n",
      "\n",
      "recovered_touching_piece = [7]\n",
      "After concept mapping size = 11\n",
      "Local time for concept mapping = 0.49744486808776855\n",
      "\n",
      "\n",
      "------Working on limb 6 -------\n",
      "inside loop len(curr_limb_divided_meshes) = 16 len(curr_limb_divided_skeletons) = 16\n",
      "--- Working on soma_idx: 1----\n",
      "Total time for filtering periphery meshes = 0.06164860725402832\n",
      "touching_pieces = [13]\n",
      "Total time for mesh connectivity = 0.1435251235961914\n",
      "Using touching_pieces[0] = 13\n",
      "inside inner loop len(curr_limb_divided_skeletons) = 16\n",
      "closest_endpoint WITH NEW KDTREE METHOD= [865484. 988208. 860245.]\n",
      "Starting_edge inside branches_to_conept = [[865350.5 982411.  862064. ]\n",
      " [865484.  988208.  860245. ]]\n",
      "At the start, starting_node (in terms of the skeleton, that shouldn't match the starting edge) = [11]\n",
      "printing out current edge:\n",
      "[[865484.  988208.  860245. ]\n",
      " [865350.5 982411.  862064. ]]\n",
      "edge_endpoints_to_process was empty so exiting loop after 16 iterations\n",
      "starting_node in concept map (that should match the starting edge) = 13\n",
      "Total time for branches to concept conversion = 0.08792495727539062\n",
      "\n",
      "recovered_touching_piece = [13]\n",
      "After concept mapping size = 16\n",
      "Local time for concept mapping = 0.34087347984313965\n",
      "\n",
      "\n",
      "------Working on limb 7 -------\n",
      "inside loop len(curr_limb_divided_meshes) = 21 len(curr_limb_divided_skeletons) = 21\n",
      "--- Working on soma_idx: 1----\n",
      "Total time for filtering periphery meshes = 0.06561970710754395\n"
     ]
    },
    {
     "name": "stdout",
     "output_type": "stream",
     "text": [
      "touching_pieces = [1]\n",
      "Total time for mesh connectivity = 0.21119213104248047\n",
      "Using touching_pieces[0] = 1\n",
      "inside inner loop len(curr_limb_divided_skeletons) = 21\n",
      "closest_endpoint WITH NEW KDTREE METHOD= [867187. 993812. 851183.]\n",
      "Starting_edge inside branches_to_conept = [[867187. 993812. 851183.]\n",
      " [877071. 993135. 841685.]]\n",
      "There were 1 duplication nodes found\n",
      "domination_map = {17: 16}\n",
      "At the start, starting_node (in terms of the skeleton, that shouldn't match the starting edge) = [1]\n",
      "printing out current edge:\n",
      "[[867187. 993812. 851183.]\n",
      " [877071. 993135. 841685.]]\n",
      "edge_endpoints_to_process was empty so exiting loop after 20 iterations\n",
      "starting_node in concept map (that should match the starting edge) = 1\n",
      "Total time for branches to concept conversion = 0.0927882194519043\n",
      "\n",
      "Working on adding back the edges that were duplicates\n",
      "recovered_touching_piece = [1]\n",
      "After concept mapping size = 21\n",
      "Local time for concept mapping = 0.42143917083740234\n",
      "\n",
      "\n",
      "------Working on limb 8 -------\n",
      "inside loop len(curr_limb_divided_meshes) = 11 len(curr_limb_divided_skeletons) = 11\n",
      "--- Working on soma_idx: 1----\n",
      "Total time for filtering periphery meshes = 0.037276268005371094\n",
      "touching_pieces = [9]\n",
      "Total time for mesh connectivity = 0.24146223068237305\n",
      "Using touching_pieces[0] = 9\n",
      "inside inner loop len(curr_limb_divided_skeletons) = 11\n",
      "closest_endpoint WITH NEW KDTREE METHOD= [863014. 995271. 851325.]\n",
      "Starting_edge inside branches_to_conept = [[850611. 997661. 835195.]\n",
      " [863014. 995271. 851325.]]\n",
      "At the start, starting_node (in terms of the skeleton, that shouldn't match the starting edge) = [11]\n",
      "printing out current edge:\n",
      "[[863014. 995271. 851325.]\n",
      " [850611. 997661. 835195.]]\n",
      "edge_endpoints_to_process was empty so exiting loop after 11 iterations\n",
      "starting_node in concept map (that should match the starting edge) = 9\n",
      "Total time for branches to concept conversion = 0.05831408500671387\n",
      "\n",
      "recovered_touching_piece = [9]\n",
      "After concept mapping size = 11\n",
      "Local time for concept mapping = 0.3800227642059326\n",
      "\n",
      "\n",
      "------Working on limb 9 -------\n",
      "inside loop len(curr_limb_divided_meshes) = 1 len(curr_limb_divided_skeletons) = 1\n",
      "--- Working on soma_idx: 0----\n",
      "Total time for filtering periphery meshes = 0.00750732421875\n",
      "touching_pieces = [0]\n",
      "Total time for mesh connectivity = 0.28164196014404297\n",
      "Using touching_pieces[0] = 0\n",
      "inside inner loop len(curr_limb_divided_skeletons) = 1\n",
      "closest_endpoint WITH NEW KDTREE METHOD= [760302.9 964275.5 877266.8]\n",
      "Starting_edge inside branches_to_conept = [[760302.9 964275.5 877266.8]\n",
      " [764249.4 974142.2 881897.9]]\n",
      "recovered_touching_piece = [0]\n",
      "After concept mapping size = 1\n",
      "Local time for concept mapping = 0.29545092582702637\n",
      "\n",
      "\n",
      " ----- Total time for concept mapping = 8.233708620071411 ----\n",
      "Processing Neuorn in minimal output mode...please wait\n"
     ]
    },
    {
     "name": "stderr",
     "output_type": "stream",
     "text": [
      "WARNING:trimesh:face_normals all zero, ignoring!\n",
      "WARNING:trimesh:face_normals all zero, ignoring!\n",
      "WARNING:trimesh:face_normals all zero, ignoring!\n",
      "WARNING:trimesh:face_normals all zero, ignoring!\n",
      "WARNING:trimesh:face_normals all zero, ignoring!\n",
      "WARNING:trimesh:face_normals all zero, ignoring!\n",
      "WARNING:trimesh:face_normals all zero, ignoring!\n",
      "WARNING:trimesh:face_normals all zero, ignoring!\n",
      "WARNING:trimesh:face_normals all zero, ignoring!\n",
      "WARNING:trimesh:face_normals all zero, ignoring!\n",
      "WARNING:trimesh:face_normals all zero, ignoring!\n",
      "WARNING:trimesh:face_normals all zero, ignoring!\n",
      "WARNING:trimesh:face_normals all zero, ignoring!\n",
      "WARNING:trimesh:face_normals all zero, ignoring!\n",
      "WARNING:trimesh:face_normals all zero, ignoring!\n",
      "WARNING:trimesh:face_normals all zero, ignoring!\n",
      "WARNING:trimesh:face_normals all zero, ignoring!\n",
      "WARNING:trimesh:face_normals all zero, ignoring!\n",
      "WARNING:trimesh:face_normals all zero, ignoring!\n",
      "WARNING:trimesh:face_normals all zero, ignoring!\n",
      "WARNING:trimesh:face_normals all zero, ignoring!\n",
      "WARNING:trimesh:face_normals all zero, ignoring!\n",
      "WARNING:trimesh:face_normals all zero, ignoring!\n",
      "WARNING:trimesh:face_normals all zero, ignoring!\n",
      "WARNING:trimesh:face_normals all zero, ignoring!\n",
      "WARNING:trimesh:face_normals all zero, ignoring!\n",
      "WARNING:trimesh:face_normals all zero, ignoring!\n",
      "WARNING:trimesh:face_normals all zero, ignoring!\n",
      "WARNING:trimesh:face_normals all zero, ignoring!\n",
      "WARNING:trimesh:face_normals all zero, ignoring!\n",
      "WARNING:trimesh:face_normals all zero, ignoring!\n",
      "WARNING:trimesh:face_normals all zero, ignoring!\n",
      "WARNING:trimesh:face_normals all zero, ignoring!\n"
     ]
    },
    {
     "name": "stdout",
     "output_type": "stream",
     "text": [
      "Total time for neuron instance creation = 24.815741777420044\n"
     ]
    }
   ],
   "source": [
    "current_file = \"/notebooks/test_neurons/meshafterparty_processed/12345_double_soma_meshafterparty\"\n",
    "neuron_obj = nru.decompress_neuron(filepath=current_file,\n",
    "                                  original_mesh=current_file,\n",
    "                                  minimal_output=True)\n"
   ]
  },
  {
   "cell_type": "code",
   "execution_count": 106,
   "metadata": {},
   "outputs": [
    {
     "data": {
      "application/vnd.jupyter.widget-view+json": {
       "model_id": "49ffcd3dcd9f40839b2cef418804d531",
       "version_major": 2,
       "version_minor": 0
      },
      "text/plain": [
       "VBox(children=(Figure(camera=PerspectiveCamera(fov=46.0, position=(0.0, 0.0, 2.0), quaternion=(0.0, 0.0, 0.0, …"
      ]
     },
     "metadata": {},
     "output_type": "display_data"
    }
   ],
   "source": [
    "sk.graph_skeleton_and_mesh(other_meshes=[neuron_obj.mesh])"
   ]
  },
  {
   "cell_type": "code",
   "execution_count": 99,
   "metadata": {},
   "outputs": [
    {
     "name": "stdout",
     "output_type": "stream",
     "text": [
      "\n",
      " Working on visualization type: mesh\n"
     ]
    },
    {
     "data": {
      "application/vnd.jupyter.widget-view+json": {
       "model_id": "25ae0fd5d6b54f9399501c688539a97b",
       "version_major": 2,
       "version_minor": 0
      },
      "text/plain": [
       "VBox(children=(Figure(camera=PerspectiveCamera(fov=46.0, position=(0.0, 0.0, 2.0), quaternion=(0.0, 0.0, 0.0, …"
      ]
     },
     "metadata": {},
     "output_type": "display_data"
    }
   ],
   "source": [
    "nviz.plot_spines(neuron_obj)"
   ]
  },
  {
   "cell_type": "code",
   "execution_count": 5,
   "metadata": {},
   "outputs": [
    {
     "data": {
      "text/plain": [
       "{'mean_mesh_center': 280.05356240684165,\n",
       " 'median_mesh_center': 287.7623032304119,\n",
       " 'no_spine_mean_mesh_center': 270.3599993506097,\n",
       " 'no_spine_median_mesh_center': 281.38508558643196}"
      ]
     },
     "execution_count": 5,
     "metadata": {},
     "output_type": "execute_result"
    }
   ],
   "source": [
    "neuron_obj[0][0].width_new"
   ]
  },
  {
   "cell_type": "markdown",
   "metadata": {},
   "source": [
    "# Doing the Axon Classificaiton"
   ]
  },
  {
   "cell_type": "code",
   "execution_count": null,
   "metadata": {},
   "outputs": [],
   "source": [
    "\"\"\"\n",
    "Pseudocode: \n",
    "0) Label the branches that you think are axon like\n",
    "1) Geta ll the branches a certain distance away from the soma\n",
    "2) Remove the branches from the graph\n",
    "3) Analyze each of the disconnected sub limbs (maybe that starts with an axon)\n",
    "a. trace back to the last dendritic branch or soma\n",
    "b. Find the width at the boundary between the dendritic shaft or the soma \n",
    "--> should be a certain distance\n",
    "c. Measure the amount of downstream nodes\n",
    "d. Measure total length\n",
    "e. See where the placement is in relation to the soma (and across from the apical)\n",
    "\n",
    "\n",
    "\n",
    "# Will need to do some clean up of who is axon and who is dendrite at the end\n",
    "\n",
    "\"\"\""
   ]
  },
  {
   "cell_type": "code",
   "execution_count": 10,
   "metadata": {},
   "outputs": [],
   "source": [
    "import neuron_searching as ns\n",
    "uncompressed_neuron = neuron_obj"
   ]
  },
  {
   "cell_type": "markdown",
   "metadata": {},
   "source": [
    "# ----- 0) Initial Axon Querying without filtering"
   ]
  },
  {
   "cell_type": "code",
   "execution_count": 102,
   "metadata": {
    "scrolled": false
   },
   "outputs": [
    {
     "name": "stdout",
     "output_type": "stream",
     "text": [
      "\n",
      " Working on visualization type: mesh\n"
     ]
    },
    {
     "data": {
      "application/vnd.jupyter.widget-view+json": {
       "model_id": "43a527b07981462d97fd583fd851b792",
       "version_major": 2,
       "version_minor": 0
      },
      "text/plain": [
       "VBox(children=(Figure(camera=PerspectiveCamera(fov=46.0, position=(0.0, 0.0, 2.0), quaternion=(0.0, 0.0, 0.0, …"
      ]
     },
     "metadata": {},
     "output_type": "display_data"
    }
   ],
   "source": [
    "current_functions_list = [\n",
    "    \"width\",\n",
    "    \"median_mesh_center\",\n",
    "    \"n_spines\",\n",
    "    \"n_faces_branch\",\n",
    "    \"skeleton_distance_branch\",\n",
    "    \"spines_per_skeletal_length\",\n",
    "    \"no_spine_median_mesh_center\",\n",
    "]\n",
    "\n",
    "width_requirement = \"(median_mesh_center < 200)\"# or no_spine_median_mesh_center < 150)\"\n",
    "limb_branch_dict = ns.query_neuron(uncompressed_neuron,\n",
    "                                   #query=\"n_spines < 4 and no_spine_average_mesh_center < 400\",\n",
    "                                   query=(f\"(n_spines < 4 and {width_requirement} and skeleton_distance_branch <= 15000)\"\n",
    "                                   f\" or (skeleton_distance_branch > 15000 and {width_requirement} and spines_per_skeletal_length < 0.00023)\"),\n",
    "                                   #return_dataframe=True,\n",
    "               functions_list=current_functions_list)\n",
    "\n",
    "colors_dict_returned = nviz.visualize_neuron(uncompressed_neuron,\n",
    "                      limb_branch_dict=limb_branch_dict,\n",
    "                     mesh_color=\"red\",\n",
    "                     mesh_color_alpha=1,\n",
    "                     mesh_whole_neuron=True,\n",
    "                     return_color_dict=True)"
   ]
  },
  {
   "cell_type": "markdown",
   "metadata": {},
   "source": [
    "# ---- Adding the Axon Filtereing "
   ]
  },
  {
   "cell_type": "code",
   "execution_count": 14,
   "metadata": {},
   "outputs": [
    {
     "name": "stdout",
     "output_type": "stream",
     "text": [
      "\n",
      " Working on visualization type: mesh\n"
     ]
    },
    {
     "data": {
      "application/vnd.jupyter.widget-view+json": {
       "model_id": "5d28e64a1ac642a886389d38b9805844",
       "version_major": 2,
       "version_minor": 0
      },
      "text/plain": [
       "VBox(children=(Figure(camera=PerspectiveCamera(fov=46.0, position=(0.0, 0.0, 2.0), quaternion=(0.0, 0.0, 0.0, …"
      ]
     },
     "metadata": {},
     "output_type": "display_data"
    }
   ],
   "source": [
    "#How to give a limb_branch_dict as an argument\n",
    "current_functions_list = [\"axon_segment\"]\n",
    "limb_branch_dict_upstream_filter = ns.query_neuron(uncompressed_neuron,\n",
    "                                   query=\"axon_segment==True\",\n",
    "                                   function_kwargs=dict(limb_branch_dict =limb_branch_dict,\n",
    "                                                        downstream_face_threshold=3000,\n",
    "                                                        width_match_threshold=50,\n",
    "                                                       print_flag=False),\n",
    "                                   functions_list=current_functions_list)\n",
    "\n",
    "colors_dict_returned = nviz.visualize_neuron(uncompressed_neuron,\n",
    "                      limb_branch_dict=limb_branch_dict_upstream_filter,\n",
    "                     mesh_color=\"red\",\n",
    "                     mesh_color_alpha=1,\n",
    "                     mesh_whole_neuron=True,\n",
    "                     return_color_dict=True)"
   ]
  },
  {
   "cell_type": "markdown",
   "metadata": {},
   "source": [
    "# ---- 1) Getting All of the Branches That are a certain Distance Away"
   ]
  },
  {
   "cell_type": "code",
   "execution_count": 27,
   "metadata": {},
   "outputs": [],
   "source": [
    "soma_idx = 0"
   ]
  },
  {
   "cell_type": "code",
   "execution_count": 28,
   "metadata": {},
   "outputs": [
    {
     "name": "stdout",
     "output_type": "stream",
     "text": [
      "\n",
      " Working on visualization type: mesh\n"
     ]
    },
    {
     "data": {
      "application/vnd.jupyter.widget-view+json": {
       "model_id": "e43c1711d087445b84c2e518142e5f2e",
       "version_major": 2,
       "version_minor": 0
      },
      "text/plain": [
       "VBox(children=(Figure(camera=PerspectiveCamera(fov=46.0, position=(0.0, 0.0, 2.0), quaternion=(0.0, 0.0, 0.0, …"
      ]
     },
     "metadata": {},
     "output_type": "display_data"
    }
   ],
   "source": [
    "distance_from_soma_threshold = 20000\n",
    "close_limb_branch_dict = ns.query_neuron(uncompressed_neuron,\n",
    "                                        functions_list=[ns.skeletal_distance_from_soma],\n",
    "                                        query=f\"skeletal_distance_from_soma<{distance_from_soma_threshold}\",\n",
    "                                        function_kwargs=dict(somas=[soma_idx])\n",
    "\n",
    "\n",
    "                                        )\n",
    "\n",
    "colors_dict_returned = nviz.visualize_neuron(uncompressed_neuron,\n",
    "                      limb_branch_dict=close_limb_branch_dict,\n",
    "                     mesh_color=\"red\",\n",
    "                     mesh_color_alpha=1,\n",
    "                     mesh_whole_neuron=True,\n",
    "                     return_color_dict=True)"
   ]
  },
  {
   "cell_type": "markdown",
   "metadata": {},
   "source": [
    "# --- 2) Remove the Branches from the Graph"
   ]
  },
  {
   "cell_type": "code",
   "execution_count": null,
   "metadata": {},
   "outputs": [],
   "source": [
    "import matplotlib_utils as mu"
   ]
  },
  {
   "cell_type": "code",
   "execution_count": 24,
   "metadata": {},
   "outputs": [
    {
     "name": "stdout",
     "output_type": "stream",
     "text": [
      "Recieved another instance of Neuron class in init -- so just copying data\n"
     ]
    },
    {
     "data": {
      "text/plain": [
       "<neuron.Neuron at 0x7faac1004b70>"
      ]
     },
     "execution_count": 24,
     "metadata": {},
     "output_type": "execute_result"
    }
   ],
   "source": [
    "neuron_copy = neuron.Neuron(uncompressed_neuron)\n",
    "neuron_copy"
   ]
  },
  {
   "cell_type": "code",
   "execution_count": 21,
   "metadata": {},
   "outputs": [
    {
     "data": {
      "text/plain": [
       "{'L0': array([27, 44, 45]),\n",
       " 'L1': array([11]),\n",
       " 'L3': array([0]),\n",
       " 'L4': array([ 2, 12, 20, 23, 24]),\n",
       " 'L5': array([6, 7, 8]),\n",
       " 'L9': array([0])}"
      ]
     },
     "execution_count": 21,
     "metadata": {},
     "output_type": "execute_result"
    }
   ],
   "source": [
    "close_limb_branch_dict"
   ]
  },
  {
   "cell_type": "code",
   "execution_count": 96,
   "metadata": {},
   "outputs": [
    {
     "name": "stdout",
     "output_type": "stream",
     "text": [
      "\n",
      "Working on Limb L0\n",
      "nodes_to_eliminate = [27 44 45]\n",
      "curr_random_color = (0.8235294117647058, 0.7058823529411765, 0.5490196078431373, 1.0)\n",
      "curr_random_color = (0.6470588235294118, 0.16470588235294117, 0.16470588235294117, 1.0)\n",
      "curr_random_color = (0.0, 0.5019607843137255, 0.0, 1.0)\n",
      "curr_random_color = (0.13333333333333333, 0.5450980392156862, 0.13333333333333333, 1.0)\n",
      "\n",
      "Working on Limb L1\n",
      "nodes_to_eliminate = [11]\n",
      "curr_random_color = (0.0, 1.0, 1.0, 1.0)\n",
      "curr_random_color = (0.8627450980392157, 0.0784313725490196, 0.23529411764705882, 1.0)\n",
      "\n",
      "Working on Limb L3\n",
      "nodes_to_eliminate = [0]\n",
      "curr_random_color = (1.0, 0.0, 1.0, 1.0)\n",
      "curr_random_color = (0.596078431372549, 0.984313725490196, 0.596078431372549, 1.0)\n",
      "\n",
      "Working on Limb L4\n",
      "nodes_to_eliminate = [ 2 12 20 23 24]\n",
      "curr_random_color = (0.37254901960784315, 0.6196078431372549, 0.6274509803921569, 1.0)\n",
      "curr_random_color = (0.9568627450980393, 0.6431372549019608, 0.3764705882352941, 1.0)\n",
      "curr_random_color = (0.13333333333333333, 0.5450980392156862, 0.13333333333333333, 1.0)\n",
      "curr_random_color = (1.0, 0.0, 1.0, 1.0)\n",
      "\n",
      "Working on Limb L5\n",
      "nodes_to_eliminate = [6 7 8]\n",
      "curr_random_color = (0.13333333333333333, 0.5450980392156862, 0.13333333333333333, 1.0)\n",
      "curr_random_color = (1.0, 0.0, 0.0, 1.0)\n",
      "curr_random_color = (0.13333333333333333, 0.5450980392156862, 0.13333333333333333, 1.0)\n",
      "curr_random_color = (1.0, 0.8431372549019608, 0.0, 1.0)\n",
      "\n",
      "Working on Limb L9\n",
      "nodes_to_eliminate = [0]\n",
      "curr_random_color = (0.09803921568627451, 0.09803921568627451, 0.4392156862745098, 1.0)\n"
     ]
    }
   ],
   "source": [
    "import networkx_utils as xu\n",
    "from copy import deepcopy\n",
    "limbs_to_check = xu.get_neighbors(neuron_copy.concept_network,nru.soma_label(soma_idx),int_label=False)\n",
    "total_sub_limbs = dict()\n",
    "\n",
    "sub_limb_color_dict = dict()\n",
    "new_networks = dict()\n",
    "for limb_idx in limbs_to_check:\n",
    "    print(f\"\\nWorking on Limb {limb_idx}\")\n",
    "    \n",
    "    sub_limb_color_dict[limb_idx] = dict()\n",
    "    \n",
    "    \n",
    "    \n",
    "    curr_limb = neuron_copy[limb_idx]\n",
    "    if limb_idx in close_limb_branch_dict.keys():\n",
    "        nodes_to_eliminate = close_limb_branch_dict[limb_idx]\n",
    "    else:\n",
    "        nodes_to_eliminate = []\n",
    "    \n",
    "    #the nodes that were eliminated we need to show deleted colors\n",
    "    for n in nodes_to_eliminate:\n",
    "        sub_limb_color_dict[limb_idx][n] = \"black\"\n",
    "    \n",
    "    print(f\"nodes_to_eliminate = {nodes_to_eliminate}\")\n",
    "    curr_limb_copy = deepcopy(curr_limb)\n",
    "    curr_limb_copy.set_concept_network_directional(starting_soma=soma_idx)\n",
    "    curr_limb_copy.concept_network_directional.remove_nodes_from(nodes_to_eliminate)\n",
    "    new_networks[limb_idx] = curr_limb_copy.concept_network_directional\n",
    "    \n",
    "    curr_limb_conn_comp = list(nx.connected_components(nx.Graph(new_networks[limb_idx])))\n",
    "    \n",
    "    if len(curr_limb_conn_comp) == 0:\n",
    "        curr_limb_conn_comp = [nodes_to_eliminate]\n",
    "    \n",
    "    total_sub_limbs[limb_idx] = curr_limb_conn_comp\n",
    "    \n",
    "    colors_to_use = mu.generate_unique_random_color_list(n_colors=len(curr_limb_conn_comp),colors_to_omit=[\"black\"])\n",
    "    for j,(c_comp,curr_random_color) in enumerate(zip(curr_limb_conn_comp,colors_to_use)):\n",
    "        #get a random color\n",
    "        print(f\"curr_random_color = {curr_random_color}\")\n",
    "        for n in c_comp:\n",
    "            sub_limb_color_dict[limb_idx][n] = curr_random_color\n"
   ]
  },
  {
   "cell_type": "code",
   "execution_count": 97,
   "metadata": {
    "scrolled": false
   },
   "outputs": [
    {
     "name": "stdout",
     "output_type": "stream",
     "text": [
      "\n",
      " Working on visualization type: mesh\n"
     ]
    },
    {
     "data": {
      "application/vnd.jupyter.widget-view+json": {
       "model_id": "c5b2837af0aa452994ee5929cb2c8b0b",
       "version_major": 2,
       "version_minor": 0
      },
      "text/plain": [
       "VBox(children=(Figure(camera=PerspectiveCamera(fov=46.0, position=(0.0, 0.0, 2.0), quaternion=(0.0, 0.0, 0.0, …"
      ]
     },
     "metadata": {},
     "output_type": "display_data"
    }
   ],
   "source": [
    "nviz.visualize_neuron(uncompressed_neuron,\n",
    "                      limb_branch_dict=\"all\",\n",
    "                      mesh_color=sub_limb_color_dict,\n",
    "                      mesh_fill_color=[0,1,0,0.2],\n",
    "                     )"
   ]
  },
  {
   "cell_type": "markdown",
   "metadata": {},
   "source": [
    "# Analyze Each disconnected root node"
   ]
  },
  {
   "cell_type": "code",
   "execution_count": null,
   "metadata": {},
   "outputs": [],
   "source": [
    "\"\"\"\n",
    "Things that need to find out about each connected node:\n",
    "1) how much axon is on that branch (eASY)\n",
    "- but if no axon then we still want to count it\n",
    "2) What the width transitions look like going all the way back to the soma\n",
    "3) n_spines\n",
    "4) amount of axon on sublimb\n",
    "\n",
    "\n",
    "\n",
    "\n",
    "\n",
    "Problem 1: If no branches left after do cancelling\n",
    "If not any submeshes then just make that mesh the submesh\n",
    "\n",
    "Problem 2: If split up the axon into multiple pieces by doing the cancelling\n",
    "Idea: if all sublimbs on limb look like axon then \n",
    "recompile the sublimb into the whole limb and rerun the analysis on this limb\n",
    "and see if it fits the axon description -\n",
    "\n",
    "Problem 3: What if have small axon initial segment and not much after there?\n",
    "Idea: May just hae to cancel out and end up with one that doesn't violate any of the rules\n",
    "\n",
    "Problem 4: Could potentially cancel out a whole submesh by the subtraction nodes\n",
    "\n",
    "\"\"\""
   ]
  },
  {
   "cell_type": "code",
   "execution_count": 98,
   "metadata": {},
   "outputs": [
    {
     "name": "stdout",
     "output_type": "stream",
     "text": [
      "\n",
      " Limb L0:\n",
      "{0, 1, 2, 3, 4, 5, 6, 7, 8, 9, 10, 11, 12, 13, 14, 15, 16, 17, 18, 20, 21}\n",
      "{28}\n",
      "{19, 22, 23, 24, 25, 26, 29, 30, 31, 32, 33, 34, 35, 36, 37, 38, 39, 40, 41, 42, 43, 46, 47, 48, 49, 50, 51, 52, 53, 55, 56, 57, 58, 59, 60, 61, 62, 63, 64, 65}\n",
      "{66, 67, 54}\n",
      "\n",
      " Limb L1:\n",
      "{16, 24, 25, 22}\n",
      "{0, 1, 2, 3, 4, 5, 6, 7, 8, 9, 10, 12, 13, 14, 15, 17, 18, 19, 20, 21, 23, 26, 27, 28, 29, 30, 31, 32, 33, 34, 35, 36, 37, 38, 39, 40, 41, 42, 43, 44, 45, 46, 47, 48}\n",
      "\n",
      " Limb L3:\n",
      "{1, 3, 4, 5, 6, 7, 8, 13, 14, 18, 19, 20, 21, 22, 23, 24, 25, 26, 27, 28, 29, 30, 31, 32, 33, 34, 35, 36, 37.0, 38, 39, 40, 41, 42.0, 43, 44, 45, 46, 47, 48, 49, 50, 51, 52.0, 53, 54, 55}\n",
      "{2, 9, 10, 11, 12, 15, 16, 17}\n",
      "\n",
      " Limb L4:\n",
      "{0}\n",
      "{3, 6, 7, 9, 10}\n",
      "{5}\n",
      "{1, 4, 8, 11, 13, 14, 15, 16, 17, 18, 19, 21, 22, 25, 26, 27, 28, 29, 30, 31, 32, 33}\n",
      "\n",
      " Limb L5:\n",
      "{0, 3, 4}\n",
      "{1, 2, 5}\n",
      "{9}\n",
      "{10}\n",
      "\n",
      " Limb L9:\n",
      "[0]\n"
     ]
    }
   ],
   "source": [
    "for limb_idx in limbs_to_check:\n",
    "    print(f\"\\n Limb {limb_idx}:\")\n",
    "    for sub_limb_nodes in total_sub_limbs[limb_idx]:\n",
    "        print(sub_limb_nodes)"
   ]
  },
  {
   "cell_type": "markdown",
   "metadata": {},
   "source": [
    "# ---  Getting the Width Transition going all the way back to the soma ---- "
   ]
  },
  {
   "cell_type": "code",
   "execution_count": null,
   "metadata": {},
   "outputs": [],
   "source": [
    "\"\"\"\n",
    "Pseudocode:\n",
    "1) check if using whole limb or just part of it\n",
    "\n",
    "- If using just part of it:\n",
    "a) Find the node that is bordering a subtraction node\n",
    "b) Trace that node all the way back to the soma on the concept network\n",
    "c) Find the path back to the soma\n",
    "d) Find all width transitions\n",
    "-- We want to ideally find out when it becomes the axon initial segment\n",
    "\n",
    "\n",
    "\"\"\""
   ]
  }
 ],
 "metadata": {
  "kernelspec": {
   "display_name": "Python 3",
   "language": "python",
   "name": "python3"
  },
  "language_info": {
   "codemirror_mode": {
    "name": "ipython",
    "version": 3
   },
   "file_extension": ".py",
   "mimetype": "text/x-python",
   "name": "python",
   "nbconvert_exporter": "python",
   "pygments_lexer": "ipython3",
   "version": "3.6.9"
  }
 },
 "nbformat": 4,
 "nbformat_minor": 4
}
