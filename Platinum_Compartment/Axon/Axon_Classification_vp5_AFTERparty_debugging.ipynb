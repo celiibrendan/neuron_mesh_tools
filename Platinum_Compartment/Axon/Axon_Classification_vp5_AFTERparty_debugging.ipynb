{
 "cells": [
  {
   "cell_type": "code",
   "execution_count": 1,
   "metadata": {},
   "outputs": [],
   "source": [
    "from os import sys\n",
    "sys.path.append(\"/meshAfterParty/\")\n",
    "#sys.path.append(\"../../meshAfterParty/meshAfterParty\")"
   ]
  },
  {
   "cell_type": "code",
   "execution_count": 2,
   "metadata": {},
   "outputs": [
    {
     "name": "stderr",
     "output_type": "stream",
     "text": [
      "WARNING:root:Need to pip install annotationframeworkclient to repair mesh with pychunkedgraph\n",
      "WARNING:root:Need to pip install annotationframeworkclient to use dataset_name parameters\n"
     ]
    }
   ],
   "source": [
    "from importlib import reload\n",
    "import os\n",
    "from pathlib import Path\n",
    "os.getcwd()\n",
    "\n",
    "import neuron_utils as nru\n",
    "nru = reload(nru)\n",
    "import neuron\n",
    "neuron=reload(neuron)\n",
    "import neuron_visualizations as nviz\n",
    "import time"
   ]
  },
  {
   "cell_type": "code",
   "execution_count": 3,
   "metadata": {},
   "outputs": [],
   "source": [
    "import system_utils as su"
   ]
  },
  {
   "cell_type": "markdown",
   "metadata": {},
   "source": [
    "# Regenerating the meshAfterParty Object from scrath"
   ]
  },
  {
   "cell_type": "code",
   "execution_count": 4,
   "metadata": {},
   "outputs": [],
   "source": [
    "import trimesh_utils as tu\n",
    "mesh_file_path = Path(\"/notebooks/test_neurons/multi_soma_example.off\")\n",
    "mesh_file_path.exists()\n",
    "current_neuron_mesh = tu.load_mesh_no_processing(str(mesh_file_path.absolute()))"
   ]
  },
  {
   "cell_type": "code",
   "execution_count": null,
   "metadata": {},
   "outputs": [],
   "source": []
  },
  {
   "cell_type": "code",
   "execution_count": 5,
   "metadata": {},
   "outputs": [],
   "source": [
    "# picking a random segment id\n",
    "segment_id = 12345\n",
    "description = \"double_soma_meshafterparty\""
   ]
  },
  {
   "cell_type": "code",
   "execution_count": 10,
   "metadata": {},
   "outputs": [
    {
     "name": "stdout",
     "output_type": "stream",
     "text": [
      "Current Arguments Using (adjusted for decimation):\n",
      " large_mesh_threshold= 15000.0 \n",
      "large_mesh_threshold_inner = 10000.0 \n",
      "soma_size_threshold = 1250.0 \n",
      "soma_size_threshold_max = 12000.0\n",
      "outer_decimation_ratio = 0.25\n",
      "inner_decimation_ratio = 0.25\n",
      "IN INPUT FILE VALIDATION LOOP\n",
      "LEAVING LOOP, MESH VALIDATED\n",
      "Using port = 4482\n",
      "xvfb-run -n 4482 -s \"-screen 0 800x600x24\" meshlabserver $@  -i /notebooks/Platinum_Compartment/Axon/12345/neuron_12345.off -o /notebooks/Platinum_Compartment/Axon/12345/neuron_12345_decimated.off -s /notebooks/Platinum_Compartment/Axon/12345/decimation_meshlab_25771288.mls\n",
      "Total found significant pieces before Poisson = [<trimesh.Trimesh(vertices.shape=(139795, 3), faces.shape=(284336, 3))>]\n",
      "----- working on large mesh #0: <trimesh.Trimesh(vertices.shape=(139795, 3), faces.shape=(284336, 3))>\n",
      "pre_largest_mesh_path = /notebooks/Platinum_Compartment/Axon/12345/neuron_12345_decimated_largest_piece.off\n",
      "IN INPUT FILE VALIDATION LOOP\n",
      "LEAVING LOOP, MESH VALIDATED\n",
      "Using port = 4378\n",
      "xvfb-run -n 4378 -s \"-screen 0 800x600x24\" meshlabserver $@  -i /notebooks/Platinum_Compartment/Axon/12345/neuron_12345_decimated_largest_piece.off -o /notebooks/Platinum_Compartment/Axon/12345/neuron_12345_decimated_largest_piece_poisson.off -s /notebooks/Platinum_Compartment/Axon/12345/poisson_319314.mls\n"
     ]
    },
    {
     "name": "stderr",
     "output_type": "stream",
     "text": [
      "WARNING:trimesh:face_normals all zero, ignoring!\n",
      "WARNING:trimesh:face_normals all zero, ignoring!\n",
      "WARNING:trimesh:face_normals all zero, ignoring!\n",
      "WARNING:trimesh:face_normals all zero, ignoring!\n",
      "WARNING:trimesh:face_normals all zero, ignoring!\n",
      "WARNING:trimesh:face_normals all zero, ignoring!\n",
      "WARNING:trimesh:face_normals all zero, ignoring!\n",
      "WARNING:trimesh:face_normals all zero, ignoring!\n",
      "WARNING:trimesh:face_normals all zero, ignoring!\n",
      "WARNING:trimesh:face_normals all zero, ignoring!\n",
      "WARNING:trimesh:face_normals all zero, ignoring!\n",
      "WARNING:trimesh:face_normals all zero, ignoring!\n",
      "WARNING:trimesh:face_normals all zero, ignoring!\n",
      "WARNING:trimesh:face_normals all zero, ignoring!\n",
      "WARNING:trimesh:face_normals all zero, ignoring!\n",
      "WARNING:trimesh:face_normals all zero, ignoring!\n",
      "WARNING:trimesh:face_normals all zero, ignoring!\n",
      "WARNING:trimesh:face_normals all zero, ignoring!\n",
      "WARNING:trimesh:face_normals all zero, ignoring!\n",
      "WARNING:trimesh:face_normals all zero, ignoring!\n",
      "WARNING:trimesh:face_normals all zero, ignoring!\n",
      "WARNING:trimesh:face_normals all zero, ignoring!\n",
      "WARNING:trimesh:face_normals all zero, ignoring!\n",
      "WARNING:trimesh:face_normals all zero, ignoring!\n",
      "WARNING:trimesh:face_normals all zero, ignoring!\n",
      "WARNING:trimesh:face_normals all zero, ignoring!\n",
      "WARNING:trimesh:face_normals all zero, ignoring!\n",
      "WARNING:trimesh:face_normals all zero, ignoring!\n",
      "WARNING:trimesh:face_normals all zero, ignoring!\n",
      "WARNING:trimesh:face_normals all zero, ignoring!\n",
      "WARNING:trimesh:face_normals all zero, ignoring!\n",
      "WARNING:trimesh:face_normals all zero, ignoring!\n",
      "WARNING:trimesh:face_normals all zero, ignoring!\n",
      "WARNING:trimesh:face_normals all zero, ignoring!\n",
      "WARNING:trimesh:face_normals all zero, ignoring!\n",
      "WARNING:trimesh:face_normals all zero, ignoring!\n",
      "WARNING:trimesh:face_normals all zero, ignoring!\n",
      "WARNING:trimesh:face_normals all zero, ignoring!\n",
      "WARNING:trimesh:face_normals all zero, ignoring!\n",
      "WARNING:trimesh:face_normals all zero, ignoring!\n",
      "WARNING:trimesh:face_normals all zero, ignoring!\n",
      "WARNING:trimesh:face_normals all zero, ignoring!\n",
      "WARNING:trimesh:face_normals all zero, ignoring!\n",
      "WARNING:trimesh:face_normals all zero, ignoring!\n",
      "WARNING:trimesh:face_normals all zero, ignoring!\n",
      "WARNING:trimesh:face_normals all zero, ignoring!\n",
      "WARNING:trimesh:face_normals all zero, ignoring!\n",
      "WARNING:trimesh:face_normals all zero, ignoring!\n",
      "WARNING:trimesh:face_normals all zero, ignoring!\n",
      "WARNING:trimesh:face_normals all zero, ignoring!\n",
      "WARNING:trimesh:face_normals all zero, ignoring!\n",
      "WARNING:trimesh:face_normals all zero, ignoring!\n",
      "WARNING:trimesh:face_normals all zero, ignoring!\n",
      "WARNING:trimesh:face_normals all zero, ignoring!\n",
      "WARNING:trimesh:face_normals all zero, ignoring!\n",
      "WARNING:trimesh:face_normals all zero, ignoring!\n",
      "WARNING:trimesh:face_normals all zero, ignoring!\n",
      "WARNING:trimesh:face_normals all zero, ignoring!\n",
      "WARNING:trimesh:face_normals all zero, ignoring!\n",
      "WARNING:trimesh:face_normals all zero, ignoring!\n"
     ]
    },
    {
     "name": "stdout",
     "output_type": "stream",
     "text": [
      "Total found significant pieces AFTER Poisson = [<trimesh.Trimesh(vertices.shape=(151133, 3), faces.shape=(302274, 3))>, <trimesh.Trimesh(vertices.shape=(42554, 3), faces.shape=(85104, 3))>]\n",
      "----- working on mesh after poisson #0: <trimesh.Trimesh(vertices.shape=(151133, 3), faces.shape=(302274, 3))>\n",
      "IN INPUT FILE VALIDATION LOOP\n",
      "LEAVING LOOP, MESH VALIDATED\n",
      "Using port = 218\n",
      "xvfb-run -n 218 -s \"-screen 0 800x600x24\" meshlabserver $@  -i /notebooks/Platinum_Compartment/Axon/12345/neuron_12345_decimated_largest_piece_poisson_largest_inner.off -o /notebooks/Platinum_Compartment/Axon/12345/neuron_12345_decimated_largest_piece_poisson_largest_inner_decimated.off -s /notebooks/Platinum_Compartment/Axon/12345/decimation_meshlab_25699150.mls\n",
      "done exporting decimated mesh: neuron_12345_decimated_largest_piece_poisson_largest_inner.off\n",
      "1) Starting: Mesh importing and Pymesh fix\n",
      "loading mesh from vertices and triangles array\n",
      "1) Finished: Mesh importing and Pymesh fix: 0.00023698806762695312\n",
      "2) Staring: Generating CGAL segmentation for neuron\n",
      "Done writing OFF file\n",
      "\n",
      "Starting CGAL segmentation\n",
      "Right before cgal segmentation, clusters = 3, smoothness = 0.2, path_and_filename = /notebooks/Platinum_Compartment/Axon/temp/1234500_fixed \n",
      "1\n",
      "Finished CGAL segmentation algorithm: 9.144246578216553\n",
      "2) Finished: Generating CGAL segmentation for neuron: 10.171892881393433\n",
      "3) Staring: Generating Graph Structure and Identifying Soma using soma size threshold  = 3000\n",
      "my_list_keys = [0, 1, 2, 3, 4, 5, 6, 7, 8, 9, 10, 11, 12, 13, 14, 15, 16, 17, 18, 19, 20, 21, 22, 23, 24, 25]\n",
      "changed the median value\n",
      "changed the mean value\n",
      "changed the max value\n",
      "changed the median value\n",
      "changed the mean value\n",
      "changed the max value\n",
      "soma_index = 8\n",
      "3) Finished: Generating Graph Structure and Identifying Soma: 0.025068283081054688\n",
      "Not finding the apical because soma_only option selected\n",
      "6) Staring: Classifying Entire Neuron\n",
      "Total Labels found = {'unsure', 'soma'}\n",
      "6) Finished: Classifying Entire Neuron: 4.982948303222656e-05\n",
      "7) Staring: Transfering Segmentation Labels to Face Labels\n",
      "7) Finished: Transfering Segmentation Labels to Face Labels: 0.06577110290527344\n",
      "8) Staring: Generating final Vertex and Face Labels\n",
      "8) Finished: Generating final Vertex and Face Labels: 0.502709150314331\n",
      "Returning the soma_sdf value AND the classifier\n",
      "soma_sdf_value = 0.871016\n",
      "segmentation[sorted_medians],median_values[sorted_medians] = (array([ 8,  0, 20, 21,  2, 17,  5, 22, 11, 23,  7, 18,  3, 14, 12, 19,  6,\n",
      "       10, 16, 15,  4,  9,  1, 24, 13, 25]), array([0.871016  , 0.158708  , 0.14149   , 0.119257  , 0.113435  ,\n",
      "       0.09777135, 0.0925525 , 0.0640123 , 0.0579191 , 0.05534665,\n",
      "       0.0503552 , 0.0495514 , 0.0494046 , 0.0470996 , 0.0461567 ,\n",
      "       0.0458783 , 0.0458163 , 0.0451689 , 0.0448272 , 0.0446246 ,\n",
      "       0.043913  , 0.0403573 , 0.0402801 , 0.0397722 , 0.03789885,\n",
      "       0.032957  ]))\n",
      "Sizes = [6001, 10757, 139, 735, 2243, 1552, 2469, 261, 423, 3806, 4498, 6100, 3901, 3576, 1733, 6263, 3973, 4035, 3199, 1171, 749, 3345, 2269, 953, 604, 813]\n",
      "valid_soma_segments_width\n",
      "      ------ Found 1 viable somas: [8]\n",
      "Using Poisson Surface Reconstruction to make mesh watertight\n",
      "IN INPUT FILE VALIDATION LOOP\n",
      "LEAVING LOOP, MESH VALIDATED\n",
      "Using port = 8917\n",
      "xvfb-run -n 8917 -s \"-screen 0 800x600x24\" meshlabserver $@  -i /notebooks/Platinum_Compartment/Axon/Poisson_temp/neuron_993388.off -o /notebooks/Platinum_Compartment/Axon/Poisson_temp/neuron_993388_poisson.off -s /notebooks/Platinum_Compartment/Axon/Poisson_temp/poisson_17069.mls\n"
     ]
    },
    {
     "name": "stderr",
     "output_type": "stream",
     "text": [
      "WARNING:trimesh:face_normals all zero, ignoring!\n",
      "WARNING:trimesh:face_normals all zero, ignoring!\n"
     ]
    },
    {
     "name": "stdout",
     "output_type": "stream",
     "text": [
      "removed temporary input file: /notebooks/Platinum_Compartment/Axon/Poisson_temp/neuron_993388.off\n",
      "removed temporary output file: /notebooks/Platinum_Compartment/Axon/Poisson_temp/neuron_993388_poisson.off\n",
      "/notebooks/Platinum_Compartment/Axon/Poisson_temp/poisson_17069.mls is being deleted....\n",
      "Inside sphere validater: ratio_val = 2.7559125454571776\n",
      "----- working on mesh after poisson #1: <trimesh.Trimesh(vertices.shape=(42554, 3), faces.shape=(85104, 3))>\n",
      "IN INPUT FILE VALIDATION LOOP\n",
      "LEAVING LOOP, MESH VALIDATED\n",
      "Using port = 4808\n",
      "xvfb-run -n 4808 -s \"-screen 0 800x600x24\" meshlabserver $@  -i /notebooks/Platinum_Compartment/Axon/12345/neuron_12345_decimated_largest_piece_poisson_largest_inner.off -o /notebooks/Platinum_Compartment/Axon/12345/neuron_12345_decimated_largest_piece_poisson_largest_inner_decimated.off -s /notebooks/Platinum_Compartment/Axon/12345/decimation_meshlab_25699150.mls\n",
      "done exporting decimated mesh: neuron_12345_decimated_largest_piece_poisson_largest_inner.off\n",
      "1) Starting: Mesh importing and Pymesh fix\n",
      "loading mesh from vertices and triangles array\n",
      "1) Finished: Mesh importing and Pymesh fix: 0.000209808349609375\n",
      "2) Staring: Generating CGAL segmentation for neuron\n",
      "Done writing OFF file\n",
      "\n",
      "Starting CGAL segmentation\n",
      "Right before cgal segmentation, clusters = 3, smoothness = 0.2, path_and_filename = /notebooks/Platinum_Compartment/Axon/temp/1234501_fixed \n",
      "1\n",
      "Finished CGAL segmentation algorithm: 1.7884118556976318\n",
      "2) Finished: Generating CGAL segmentation for neuron: 2.0808603763580322\n",
      "3) Staring: Generating Graph Structure and Identifying Soma using soma size threshold  = 3000\n",
      "my_list_keys = [0, 1, 2, 3, 4, 5, 6, 7, 8, 9, 10, 11]\n",
      "changed the median value\n",
      "changed the mean value\n",
      "changed the max value\n",
      "soma_index = 2\n",
      "3) Finished: Generating Graph Structure and Identifying Soma: 0.007269859313964844\n",
      "Not finding the apical because soma_only option selected\n",
      "6) Staring: Classifying Entire Neuron\n",
      "Total Labels found = {'unsure', 'soma'}\n",
      "6) Finished: Classifying Entire Neuron: 4.5299530029296875e-05\n",
      "7) Staring: Transfering Segmentation Labels to Face Labels\n",
      "7) Finished: Transfering Segmentation Labels to Face Labels: 0.018006563186645508\n",
      "8) Staring: Generating final Vertex and Face Labels\n",
      "8) Finished: Generating final Vertex and Face Labels: 0.09841060638427734\n",
      "Returning the soma_sdf value AND the classifier\n",
      "soma_sdf_value = 0.861697\n",
      "segmentation[sorted_medians],median_values[sorted_medians] = (array([ 2, 10,  3,  8,  9,  1,  4,  7,  6,  5,  0, 11]), array([0.861697  , 0.129873  , 0.124665  , 0.0995653 , 0.098689  ,\n",
      "       0.0624025 , 0.05667075, 0.0533369 , 0.0409688 , 0.0400421 ,\n",
      "       0.0391096 , 0.0256826 ]))\n",
      "Sizes = [4205, 758, 1023, 617, 534, 2741, 658, 5774, 3017, 357, 1153, 439]\n",
      "valid_soma_segments_width\n",
      "      ------ Found 1 viable somas: [2]\n",
      "Using Poisson Surface Reconstruction to make mesh watertight\n",
      "IN INPUT FILE VALIDATION LOOP\n",
      "LEAVING LOOP, MESH VALIDATED\n",
      "Using port = 9399\n",
      "xvfb-run -n 9399 -s \"-screen 0 800x600x24\" meshlabserver $@  -i /notebooks/Platinum_Compartment/Axon/Poisson_temp/neuron_422457.off -o /notebooks/Platinum_Compartment/Axon/Poisson_temp/neuron_422457_poisson.off -s /notebooks/Platinum_Compartment/Axon/Poisson_temp/poisson_180778.mls\n",
      "removed temporary input file: /notebooks/Platinum_Compartment/Axon/Poisson_temp/neuron_422457.off\n",
      "removed temporary output file: /notebooks/Platinum_Compartment/Axon/Poisson_temp/neuron_422457_poisson.off\n",
      "/notebooks/Platinum_Compartment/Axon/Poisson_temp/poisson_180778.mls is being deleted....\n",
      "Inside sphere validater: ratio_val = 2.9142690667536324\n",
      "\n",
      "\n",
      "\n",
      " Total time for run = 119.37911653518677\n"
     ]
    }
   ],
   "source": [
    "import soma_extraction_utils as sm\n",
    "\n",
    "somas = sm.extract_soma_center(segment_id,\n",
    "                                                 current_neuron_mesh.vertices,\n",
    "                                                 current_neuron_mesh.faces)"
   ]
  },
  {
   "cell_type": "code",
   "execution_count": 24,
   "metadata": {},
   "outputs": [],
   "source": [
    "import system_utils as sua\n",
    "branch_skeleton_data = su.decompress_pickle(\"branch_skeletons_cleaned.pbz2\")"
   ]
  },
  {
   "cell_type": "code",
   "execution_count": 30,
   "metadata": {},
   "outputs": [
    {
     "data": {
      "text/plain": [
       "383.79551847305356"
      ]
     },
     "execution_count": 30,
     "metadata": {},
     "output_type": "execute_result"
    }
   ],
   "source": [
    "sk.calculate_skeleton_distance(debug_sk)"
   ]
  },
  {
   "cell_type": "code",
   "execution_count": 36,
   "metadata": {},
   "outputs": [
    {
     "name": "stdout",
     "output_type": "stream",
     "text": [
      "new_skeleton.shape = (1, 2, 3)\n",
      "empty mesh_correspondence_indices returned so returning an empty array\n"
     ]
    },
    {
     "data": {
      "text/plain": [
       "[]"
      ]
     },
     "execution_count": 36,
     "metadata": {},
     "output_type": "execute_result"
    }
   ],
   "source": [
    "import compartment_utils as cu\n",
    "cu = reload(cu)\n",
    "returned_data = cu.mesh_correspondence_adaptive_distance(debug_sk,\n",
    "                                                  debug_mesh,\n",
    "                                                 skeleton_segment_width = 1000,\n",
    "                                                        print_flag=True)\n",
    "returned_data"
   ]
  },
  {
   "cell_type": "code",
   "execution_count": 41,
   "metadata": {},
   "outputs": [
    {
     "data": {
      "application/vnd.jupyter.widget-view+json": {
       "model_id": "bbc6619a1b654aeab419c9f2283a0879",
       "version_major": 2,
       "version_minor": 0
      },
      "text/plain": [
       "VBox(children=(Figure(camera=PerspectiveCamera(fov=46.0, position=(0.0, 0.0, 2.0), quaternion=(0.0, 0.0, 0.0, …"
      ]
     },
     "metadata": {},
     "output_type": "display_data"
    }
   ],
   "source": [
    "debug_mesh = tu.load_mesh_no_processing(\"curr_limb_mesh.off\")\n",
    "curr_sk_data = np.load(\"saved_skeleton_branch.npz\",allow_pickle=True)\n",
    "debug_sk = curr_sk_data[\"curr_branch_sk\"].reshape(-1,2,3)\n",
    "sk.graph_skeleton_and_mesh(\n",
    "    other_meshes=[debug_mesh],\n",
    "                          #other_skeletons=[debug_sk],\n",
    "    other_skeletons=[branch_skeleton_data[1],debug_sk],\n",
    "    other_skeletons_colors=[\"black\",\"red\"],\n",
    "    other_scatter=[debug_sk.reshape(-1,3)],\n",
    "    scatter_size=0.1,\n",
    ")"
   ]
  },
  {
   "cell_type": "markdown",
   "metadata": {},
   "source": [
    "# Issues we are seeing: 1) Branches aren't (N,2,3) 2) LIttle Branches may not very big and don't have mesh correspondence"
   ]
  },
  {
   "cell_type": "markdown",
   "metadata": {},
   "source": [
    "# Problem 1: -- Branches aren't (N,2,3)"
   ]
  },
  {
   "cell_type": "code",
   "execution_count": 229,
   "metadata": {},
   "outputs": [
    {
     "name": "stdout",
     "output_type": "stream",
     "text": [
      "(239, 2, 3)\n",
      "(25, 2, 3)\n",
      "(103, 2, 3)\n",
      "(103, 2, 3)\n",
      "(245, 2, 3)\n",
      "(71, 2, 3)\n",
      "(25, 2, 3)\n",
      "(27, 2, 3)\n",
      "(18, 2, 3)\n",
      "(65, 2, 3)\n",
      "(291, 2, 3)\n",
      "(53, 2, 3)\n",
      "(71, 2, 3)\n",
      "(12, 2, 3)\n",
      "(88, 2, 3)\n",
      "(92, 2, 3)\n",
      "(68, 2, 3)\n",
      "(107, 2, 3)\n",
      "(5, 2, 3)\n",
      "(17, 2, 3)\n",
      "(62, 2, 3)\n",
      "(59, 2, 3)\n",
      "(56, 2, 3)\n",
      "(49, 2, 3)\n",
      "(13, 2, 3)\n",
      "(22, 2, 3)\n",
      "(6, 2, 3)\n",
      "(13, 2, 3)\n",
      "(24, 2, 3)\n",
      "(47, 2, 3)\n",
      "(3, 2, 3)\n",
      "(41, 2, 3)\n",
      "(13, 2, 3)\n",
      "(2, 2, 3)\n",
      "(144, 2, 3)\n",
      "(36, 2, 3)\n",
      "(186, 2, 3)\n",
      "(19, 2, 3)\n",
      "(28, 2, 3)\n",
      "(20, 2, 3)\n",
      "(8, 2, 3)\n",
      "(30, 2, 3)\n",
      "(74, 2, 3)\n",
      "(120, 2, 3)\n",
      "(15, 2, 3)\n",
      "(98, 2, 3)\n",
      "(7, 2, 3)\n",
      "(46, 2, 3)\n",
      "(1, 2, 3)\n",
      "(1, 2, 3)\n"
     ]
    }
   ],
   "source": [
    "sk = reload(sk)\n",
    "curr_limb_sk = branch_skeleton_data[1]\n",
    "decomposed_branches = sk.decompose_skeleton_to_branches(curr_limb_sk)\n",
    "for b in decomposed_branches:\n",
    "    print(b.shape)"
   ]
  },
  {
   "cell_type": "markdown",
   "metadata": {},
   "source": [
    "# Problem 2: -- LIttle Branches may not be very big and don't have mesh correspondence"
   ]
  },
  {
   "cell_type": "code",
   "execution_count": 230,
   "metadata": {},
   "outputs": [
    {
     "data": {
      "text/plain": [
       "array([[[808285., 969006., 863777.],\n",
       "        [808648., 968969., 863658.]]])"
      ]
     },
     "execution_count": 230,
     "metadata": {},
     "output_type": "execute_result"
    }
   ],
   "source": [
    "debug_sk"
   ]
  },
  {
   "cell_type": "code",
   "execution_count": 245,
   "metadata": {},
   "outputs": [
    {
     "data": {
      "text/plain": [
       "(array([ 72192,  72211,  72708, 111110, 111112, 111113,  72713,  72754,\n",
       "         72208,  72240, 112155,  72221,  72222,  72234, 111147,  72214,\n",
       "        112173,  72243,  72789, 111247, 112696,  72760, 112196,  72262,\n",
       "         73287,  72670,  72271, 112209, 112723, 112211,  73300,  72277,\n",
       "         72278,  73296, 111249,  73302,  72285, 112735,  72800, 112225,\n",
       "        112742,  72297,  72298,  72299, 112749, 112237,  73327,  73328,\n",
       "        112241, 112754, 112242, 112244,  73306,  72797, 112240, 112773,\n",
       "         72304, 111225, 112250,  72315,  72316,  73333,  72325,  73351,\n",
       "        112775, 111241,  73354,  72330,  73356, 112239, 112382, 112274,\n",
       "         72424, 112797, 112275, 112789, 112278, 111255, 111256,  71869,\n",
       "        112794, 112316, 112302,  73391,  73392,  73397,  73398,  73381,\n",
       "        111291, 112318, 112343,  72385,  72390,  73416,  71881,  73418,\n",
       "         72393,  72381,  73420, 112338, 112339, 112340,  71890, 112342,\n",
       "         73431,  72395,  72938,  71897,  73470,  71915,  72927,  72920,\n",
       "        112862, 111327, 111326,  73453,  71903,  72926,  73451,  72933,\n",
       "         71910,  73447,  72422, 111330,  72918,  73454, 112886,  72919,\n",
       "         72942,  72941,  72940,  73458,  71923, 112381,  72939,  73462,\n",
       "         72437,  72436,  72953,  72435, 111355, 112885,  72402, 112383,\n",
       "         72630,  72969, 111362,  71940,  71939,  72454,  72455, 112404,\n",
       "         72453, 111379,  72457,  72452, 112398,  73488, 111378,  73482,\n",
       "        112435,  72466,  71986,  72566,  72474,  73499,  73500,  71963,\n",
       "         72475,  71958, 111392, 111394,  71971,  72485,  73007,  73520,\n",
       "         71985,  71969,  72565,  71987,  72558,  71990,  72501,  72505,\n",
       "         71996,  73533,  73534,  72000,  73547,  72013,  72019,  72532,\n",
       "         72533,  73558,  72023,  72025,  73010,  73526,  72539,  72545,\n",
       "         72040,  72552,  72426,  72556,  72557, 111451, 111983,  72048,\n",
       "         72049,  73586,  73587, 111986,  72427,  73564,  72186, 111992,\n",
       "        112096,  73596,  73599, 111999,  73601,  72066,  72065, 112004,\n",
       "         72064,  73613,  72590,  72591,  72592, 112024,  72602,  72093,\n",
       "         72629, 112031,  72096,  73634,  72095,  72611,  72610,  72609,\n",
       "         72616,  73632,  72105,  72623,  73648,  73649,  73650,  73651,\n",
       "         72625,  72618,  73595,  73655,  72633,  72655,  72635,  73665,\n",
       "         72133,  72135,  73673, 112098,  73674,  72158, 112087, 111065,\n",
       "         72665, 112094, 112095,  72661,  73474,  73699, 111095,  72163,\n",
       "         72162,  73703, 112616,  72170, 112621, 111076,  73711,  73713,\n",
       "        111090, 111089,  73716, 112116,  72181, 111088, 111100]),\n",
       " 1803.051988854246)"
      ]
     },
     "execution_count": 245,
     "metadata": {},
     "output_type": "execute_result"
    }
   ],
   "source": [
    "import compartment_utils as cu\n",
    "cu = reload(cu)\n",
    "cu.mesh_correspondence_adaptive_distance(curr_branch_skeleton=debug_sk,\n",
    "                                         curr_branch_mesh=debug_mesh)"
   ]
  },
  {
   "cell_type": "markdown",
   "metadata": {},
   "source": [
    "# Problem 3: -- How to combine the close nodes in a skeleton -- "
   ]
  },
  {
   "cell_type": "code",
   "execution_count": 42,
   "metadata": {},
   "outputs": [
    {
     "data": {
      "text/plain": [
       "'\\nPurpose: \\nOption 1: combine high degree nodes (>2) that are connected by one edge that is below a skeletal distance threshold\\nOption 2: combine high degree nodes (>2 ) that are connected along a path of low degree nodes that is below a skeletal distance threshold\\n* may have to repeat this process a couople times to apply continually\\n\\nPseudocode:\\n1) convert the skeleton to a graph\\n2) Get all of the high degree nodes\\n3) Get paths between all of them \\n4) Filter out the paths that:\\n- only contain 2 high degree nodes\\n- are below a certain distance threshold\\n\\n5) For the paths that past the thresholding:\\nWith a certain path\\na. take the 2 end high degree nodes and get all of their neighbors\\nb. Create a new node with all the neighbors and averaged coordinate\\nc. replace all of the other paths computed (if they had the 2 end high degree nodes) replace with the new node ID\\nd. Delete the old high degree ends and all nodes on the path\\nGo to another path\\n\\n6) Turn the graph back into a skeleton\\n\\n'"
      ]
     },
     "execution_count": 42,
     "metadata": {},
     "output_type": "execute_result"
    }
   ],
   "source": [
    "\"\"\"\n",
    "Purpose: \n",
    "Option 1: combine high degree nodes (>2) that are connected by one edge that is below a skeletal distance threshold\n",
    "Option 2: combine high degree nodes (>2 ) that are connected along a path of low degree nodes that is below a skeletal distance threshold\n",
    "* may have to repeat this process a couople times to apply continually\n",
    "\n",
    "Pseudocode:\n",
    "1) convert the skeleton to a graph\n",
    "2) Get all of the high degree nodes\n",
    "3) Get paths between all of them \n",
    "4) Filter out the paths that:\n",
    "- contain more than 2 high degree nodes\n",
    "- are below a certain distance threshold\n",
    "\n",
    "5) For the paths that past the thresholding:\n",
    "With a certain path\n",
    "a. take the 2 end high degree nodes and get all of their neighbors\n",
    "b. Create a new node with all the neighbors and averaged coordinate\n",
    "c. replace all of the other paths computed (if they had the 2 end high degree nodes) replace with the new node ID\n",
    "d. Delete the old high degree ends and all nodes on the path\n",
    "Go to another path\n",
    "\n",
    "6) Turn the graph back into a skeleton\n",
    "\n",
    "\"\"\""
   ]
  },
  {
   "cell_type": "code",
   "execution_count": 127,
   "metadata": {},
   "outputs": [],
   "source": [
    "import networkx_utils as xu\n",
    "import skeleton_utils as sk\n",
    "import networkx as nx\n",
    "import copy\n",
    "\n",
    "xu = reload(xu)"
   ]
  },
  {
   "cell_type": "code",
   "execution_count": 187,
   "metadata": {},
   "outputs": [],
   "source": [
    "vals = np.array([[1570., 156, 1586.]])\n",
    "row = np.array([2063., 2069., 2075., 2078.,2090.])\n"
   ]
  },
  {
   "cell_type": "code",
   "execution_count": null,
   "metadata": {},
   "outputs": [],
   "source": []
  },
  {
   "cell_type": "markdown",
   "metadata": {},
   "source": [
    "# Testing out the new combining function"
   ]
  },
  {
   "cell_type": "code",
   "execution_count": null,
   "metadata": {},
   "outputs": [],
   "source": []
  },
  {
   "cell_type": "code",
   "execution_count": 221,
   "metadata": {
    "scrolled": true
   },
   "outputs": [
    {
     "name": "stdout",
     "output_type": "stream",
     "text": [
      "\n",
      "----- Working on skeleton 0 ---------\n",
      "Found 0 valid paths to replace\n",
      "valid_paths = []\n",
      "valid_path_lengths = []\n",
      "No valid paths found so just returning the original\n",
      "Original Sk = (4058, 2, 3), Cleaned Sk = (4058, 2, 3)\n",
      "\n",
      "----- Working on skeleton 1 ---------\n",
      "Found 1 valid paths to replace\n",
      "valid_paths = [array([1729., 1739.])]\n",
      "valid_path_lengths = [383.79551847305356]\n",
      "endpoint_neighbors = [1715 1724 1729 1739 1740 1753]\n",
      "Original Sk = (2968, 2, 3), Cleaned Sk = (2967, 2, 3)\n",
      "\n",
      "----- Working on skeleton 2 ---------\n",
      "Found 3 valid paths to replace\n",
      "valid_paths = [array([1570., 1586.]), array([2063., 2069., 2075., 2078., 2090.]), array([2261., 2262.])]\n",
      "valid_path_lengths = [604.2658024412628, 680.3306694691679, 598.4981202978001]\n",
      "endpoint_neighbors = [1564 1566 1570 1577 1586 1589]\n",
      "endpoint_neighbors = [2057 2060 2063 2069 2075 2078 2087 2090 2101]\n",
      "endpoint_neighbors = [2259 2260 2261 2262 2263 2265]\n",
      "Original Sk = (2499, 2, 3), Cleaned Sk = (2493, 2, 3)\n",
      "\n",
      "----- Working on skeleton 3 ---------\n",
      "Found 1 valid paths to replace\n",
      "valid_paths = [array([835., 873.])]\n",
      "valid_path_lengths = [649.1509608711837]\n",
      "endpoint_neighbors = [825 835 841 861 873 881]\n",
      "Original Sk = (2034, 2, 3), Cleaned Sk = (2033, 2, 3)\n",
      "\n",
      "----- Working on skeleton 4 ---------\n",
      "Found 1 valid paths to replace\n",
      "valid_paths = [array([ 992., 1002.])]\n",
      "valid_path_lengths = [521.1837871615367]\n",
      "endpoint_neighbors = [ 985  992  997 1002 1003 1016]\n",
      "Original Sk = (1871, 2, 3), Cleaned Sk = (1870, 2, 3)\n",
      "\n",
      "----- Working on skeleton 5 ---------\n",
      "Found 0 valid paths to replace\n",
      "valid_paths = []\n",
      "valid_path_lengths = []\n",
      "No valid paths found so just returning the original\n",
      "Original Sk = (1101, 2, 3), Cleaned Sk = (1101, 2, 3)\n",
      "\n",
      "----- Working on skeleton 6 ---------\n",
      "Found 1 valid paths to replace\n",
      "valid_paths = [array([645., 646.])]\n",
      "valid_path_lengths = [394.76701989907923]\n",
      "endpoint_neighbors = [624 643 645 646 649 675]\n",
      "Original Sk = (1019, 2, 3), Cleaned Sk = (1018, 2, 3)\n",
      "\n",
      "----- Working on skeleton 7 ---------\n",
      "Found 1 valid paths to replace\n",
      "valid_paths = [array([904., 905.])]\n",
      "valid_path_lengths = [359.8527476621514]\n",
      "endpoint_neighbors = [902 903 904 905 906 907]\n",
      "Original Sk = (1019, 2, 3), Cleaned Sk = (1018, 2, 3)\n",
      "\n",
      "----- Working on skeleton 8 ---------\n",
      "Found 0 valid paths to replace\n",
      "valid_paths = []\n",
      "valid_path_lengths = []\n",
      "No valid paths found so just returning the original\n",
      "Original Sk = (664, 2, 3), Cleaned Sk = (664, 2, 3)\n",
      "\n",
      "----- Working on skeleton 9 ---------\n",
      "Found 0 valid paths to replace\n",
      "valid_paths = []\n",
      "valid_path_lengths = []\n",
      "No valid paths found so just returning the original\n",
      "Original Sk = (33, 2, 3), Cleaned Sk = (33, 2, 3)\n"
     ]
    }
   ],
   "source": [
    "sk = reload(sk)\n",
    "import numpy_utils as nu\n",
    "nu = reload(nu)\n",
    "branch_skeleton_data_cleaned = []\n",
    "for i,curr_sk in enumerate(branch_skeleton_data):\n",
    "    print(f\"\\n----- Working on skeleton {i} ---------\")\n",
    "    new_sk = sk.combine_close_branch_points(curr_sk,combine_threshold=700,print_flag=True)\n",
    "    print(f\"Original Sk = {curr_sk.shape}, Cleaned Sk = {new_sk.shape}\")\n",
    "    branch_skeleton_data_cleaned.append(new_sk)"
   ]
  },
  {
   "cell_type": "markdown",
   "metadata": {},
   "source": [
    "# Visualizing the Results for the Test on Skeleton 2"
   ]
  },
  {
   "cell_type": "code",
   "execution_count": 194,
   "metadata": {},
   "outputs": [
    {
     "data": {
      "application/vnd.jupyter.widget-view+json": {
       "model_id": "acfec47f032743a788aeded22f49c4ab",
       "version_major": 2,
       "version_minor": 0
      },
      "text/plain": [
       "VBox(children=(Figure(camera=PerspectiveCamera(fov=46.0, position=(0.0, 0.0, 2.0), quaternion=(0.0, 0.0, 0.0, …"
      ]
     },
     "metadata": {},
     "output_type": "display_data"
    }
   ],
   "source": [
    "#1) convert the skeleton to a graph\n",
    "curr_sk = branch_skeleton_data[2]\n",
    "curr_sk_graph = sk.convert_skeleton_to_graph(curr_sk)\n",
    "\n",
    "combine_threshold = 700\n",
    "\n",
    "#2) Get all of the high degree nodes\n",
    "high_degree_nodes = np.array(xu.get_nodes_greater_or_equal_degree_k(curr_sk_graph,3))\n",
    "\n",
    "#Checked that thes high degree nodes were correctly retrieved\n",
    "high_degree_coordinates = xu.get_node_attributes(curr_sk_graph,node_list = high_degree_nodes)\n",
    "sk.graph_skeleton_and_mesh(other_skeletons=[curr_sk],\n",
    "                          other_scatter=[high_degree_coordinates],\n",
    "                          scatter_size=0.3)\n",
    "\n"
   ]
  },
  {
   "cell_type": "markdown",
   "metadata": {},
   "source": [
    "# Get coordinates of the ones that were removed"
   ]
  },
  {
   "cell_type": "code",
   "execution_count": 208,
   "metadata": {},
   "outputs": [
    {
     "data": {
      "text/plain": [
       "array([[ 882392. , 1101780. , 1021290. ],\n",
       "       [ 882751.6, 1102245. , 1021150. ],\n",
       "       [ 968217.5, 1083156. , 1049385. ],\n",
       "       [ 968358. , 1082860. , 1049370. ],\n",
       "       [ 968395. , 1082810. , 1049380. ],\n",
       "       [ 968419. , 1082770. , 1049390. ],\n",
       "       [ 968653.1, 1082711. , 1049400. ],\n",
       "       [ 979588. , 1079630. , 1030630. ],\n",
       "       [ 979598. , 1080220. , 1030530. ]])"
      ]
     },
     "execution_count": 208,
     "metadata": {},
     "output_type": "execute_result"
    }
   ],
   "source": [
    "removed_node_paths = np.concatenate([np.array([1570., 1586.]), np.array([2063., 2069., 2075., 2078., 2090.]), np.array([2261., 2262.])])\n",
    "removed_coordinates = xu.get_node_attributes(curr_sk_graph,node_list=list(removed_node_paths))\n",
    "certain_path_coordinates = xu.get_node_attributes(curr_sk_graph,node_list=list(np.array([2063., 2069., 2075., 2078., 2090.])))\n",
    "removed_coordinates\n"
   ]
  },
  {
   "cell_type": "code",
   "execution_count": 223,
   "metadata": {},
   "outputs": [
    {
     "data": {
      "application/vnd.jupyter.widget-view+json": {
       "model_id": "47b43726aece4285a340387144ec51c1",
       "version_major": 2,
       "version_minor": 0
      },
      "text/plain": [
       "VBox(children=(Figure(camera=PerspectiveCamera(fov=46.0, position=(0.0, 0.0, 2.0), quaternion=(0.0, 0.0, 0.0, …"
      ]
     },
     "metadata": {},
     "output_type": "display_data"
    }
   ],
   "source": [
    "sk.graph_skeleton_and_mesh(other_meshes=[adaptive_neuron[2].mesh],\n",
    "                            #other_skeletons=[curr_sk],\n",
    "                           other_skeletons=[branch_skeleton_data_cleaned[2]],\n",
    "                          other_scatter=[removed_coordinates],#,certain_path_coordinates],\n",
    "                           other_scatter_colors=[[1,0,0,0.2]],#,\"blue\"],\n",
    "                          scatter_size=0.5,)"
   ]
  },
  {
   "cell_type": "code",
   "execution_count": 203,
   "metadata": {},
   "outputs": [
    {
     "name": "stdout",
     "output_type": "stream",
     "text": [
      "Inside decompress neuron and decomposition_type = meshparty\n",
      "Passed faces original mesh check\n",
      "Passed vertices original mesh check\n",
      "********************************** generate_limb_concept_networks_from_global_connectivity****************************\n",
      "\n",
      "\n",
      "------Working on limb 0 -------\n",
      "inside loop len(curr_limb_divided_meshes) = 61 len(curr_limb_divided_skeletons) = 61\n",
      "--- Working on soma_idx: 0----\n",
      "Total time for filtering periphery meshes = 0.3425159454345703\n",
      "touching_pieces = [36]\n",
      "Total time for mesh connectivity = 0.7008905410766602\n",
      "Using touching_pieces[0] = 36\n",
      "inside inner loop len(curr_limb_divided_skeletons) = 61\n",
      "closest_endpoint WITH NEW KDTREE METHOD= [758656.5463299  950259.33381173 872013.37980394]\n",
      "Starting_edge inside branches_to_conept = [[754818.09674815 945265.28459266 874984.43059141]\n",
      " [758656.5463299  950259.33381173 872013.37980394]]\n",
      "At the start, starting_node (in terms of the skeleton, that shouldn't match the starting edge) = [39]\n",
      "printing out current edge:\n",
      "[[758656.5463299  950259.33381173 872013.37980394]\n",
      " [754818.09674815 945265.28459266 874984.43059141]]\n",
      "edge_endpoints_to_process was empty so exiting loop after 61 iterations\n",
      "starting_node in concept map (that should match the starting edge) = 36\n",
      "Total time for branches to concept conversion = 0.6374962329864502\n",
      "\n",
      "recovered_touching_piece = [36]\n",
      "After concept mapping size = 61\n",
      "Local time for concept mapping = 2.0122082233428955\n",
      "\n",
      "\n",
      "------Working on limb 1 -------\n",
      "inside loop len(curr_limb_divided_meshes) = 45 len(curr_limb_divided_skeletons) = 45\n",
      "Merge limb detected\n",
      "--- Working on soma_idx: 0----\n",
      "Total time for filtering periphery meshes = 0.2380509376525879\n",
      "touching_pieces = [12]\n",
      "Total time for mesh connectivity = 0.1841568946838379\n",
      "Using touching_pieces[0] = 12\n",
      "inside inner loop len(curr_limb_divided_skeletons) = 45\n",
      "closest_endpoint WITH NEW KDTREE METHOD= [763319.47401928 961876.86149876 878069.74620729]\n",
      "Starting_edge inside branches_to_conept = [[763319.47401928 961876.86149876 878069.74620729]\n",
      " [783703.69662938 967336.72385451 880458.99853307]]\n",
      "At the start, starting_node (in terms of the skeleton, that shouldn't match the starting edge) = [12]\n",
      "printing out current edge:\n",
      "[[763319.47401928 961876.86149876 878069.74620729]\n",
      " [783703.69662938 967336.72385451 880458.99853307]]\n",
      "edge_endpoints_to_process was empty so exiting loop after 45 iterations\n",
      "starting_node in concept map (that should match the starting edge) = 12\n",
      "Total time for branches to concept conversion = 0.42209815979003906\n",
      "\n",
      "recovered_touching_piece = [12]\n",
      "After concept mapping size = 45\n",
      "--- Working on soma_idx: 1----\n",
      "Total time for filtering periphery meshes = 0.17003774642944336\n",
      "touching_pieces = [39]\n",
      "Total time for mesh connectivity = 0.7984745502471924\n",
      "Using touching_pieces[0] = 39\n",
      "inside inner loop len(curr_limb_divided_skeletons) = 45\n",
      "closest_endpoint WITH NEW KDTREE METHOD= [857470.59801583 996491.14600112 860725.64803815]\n",
      "Starting_edge inside branches_to_conept = [[846538.69876646 998521.21722096 862460.44584884]\n",
      " [857470.59801583 996491.14600112 860725.64803815]]\n",
      "At the start, starting_node (in terms of the skeleton, that shouldn't match the starting edge) = [40]\n",
      "printing out current edge:\n",
      "[[857470.59801583 996491.14600112 860725.64803815]\n",
      " [846538.69876646 998521.21722096 862460.44584884]]\n",
      "edge_endpoints_to_process was empty so exiting loop after 45 iterations\n",
      "starting_node in concept map (that should match the starting edge) = 39\n",
      "Total time for branches to concept conversion = 0.42017221450805664\n",
      "\n",
      "recovered_touching_piece = [39]\n",
      "After concept mapping size = 45\n",
      "Local time for concept mapping = 2.698066234588623\n",
      "\n",
      "\n",
      "------Working on limb 2 -------\n",
      "inside loop len(curr_limb_divided_meshes) = 38 len(curr_limb_divided_skeletons) = 38\n",
      "--- Working on soma_idx: 1----\n",
      "Total time for filtering periphery meshes = 0.11495304107666016\n",
      "touching_pieces = [5]\n",
      "Total time for mesh connectivity = 0.3322298526763916\n",
      "Using touching_pieces[0] = 5\n",
      "inside inner loop len(curr_limb_divided_skeletons) = 38\n",
      "closest_endpoint WITH NEW KDTREE METHOD= [ 862645.9448396  1002884.0699445   880118.87865598]\n",
      "Starting_edge inside branches_to_conept = [[ 862645.9448396  1002884.0699445   880118.87865598]\n",
      " [ 873768.70021299 1032973.86489271  874313.55777329]]\n",
      "At the start, starting_node (in terms of the skeleton, that shouldn't match the starting edge) = [5]\n",
      "printing out current edge:\n",
      "[[ 862645.9448396  1002884.0699445   880118.87865598]\n",
      " [ 873768.70021299 1032973.86489271  874313.55777329]]\n",
      "edge_endpoints_to_process was empty so exiting loop after 38 iterations\n",
      "starting_node in concept map (that should match the starting edge) = 5\n",
      "Total time for branches to concept conversion = 0.3682560920715332\n",
      "\n",
      "recovered_touching_piece = [5]\n",
      "After concept mapping size = 38\n",
      "Local time for concept mapping = 1.0233573913574219\n",
      "\n",
      "\n",
      "------Working on limb 3 -------\n",
      "inside loop len(curr_limb_divided_meshes) = 47 len(curr_limb_divided_skeletons) = 47\n",
      "--- Working on soma_idx: 0----\n",
      "Total time for filtering periphery meshes = 0.19756317138671875\n",
      "touching_pieces = [0]\n",
      "Total time for mesh connectivity = 0.2981116771697998\n",
      "Using touching_pieces[0] = 0\n",
      "inside inner loop len(curr_limb_divided_skeletons) = 47\n",
      "closest_endpoint WITH NEW KDTREE METHOD= [758015.51720251 960334.03137976 866058.72245698]\n",
      "Starting_edge inside branches_to_conept = [[758015.51720251 960334.03137976 866058.72245698]\n",
      " [779456.01263424 968505.54590413 847482.64810226]]\n",
      "At the start, starting_node (in terms of the skeleton, that shouldn't match the starting edge) = [0]\n",
      "printing out current edge:\n",
      "[[758015.51720251 960334.03137976 866058.72245698]\n",
      " [779456.01263424 968505.54590413 847482.64810226]]\n",
      "edge_endpoints_to_process was empty so exiting loop after 47 iterations\n",
      "starting_node in concept map (that should match the starting edge) = 0\n",
      "Total time for branches to concept conversion = 0.30907106399536133\n",
      "\n",
      "recovered_touching_piece = [0]\n",
      "After concept mapping size = 47\n",
      "Local time for concept mapping = 0.9834644794464111\n",
      "\n",
      "\n",
      "------Working on limb 4 -------\n",
      "inside loop len(curr_limb_divided_meshes) = 33 len(curr_limb_divided_skeletons) = 33\n",
      "--- Working on soma_idx: 0----\n",
      "Total time for filtering periphery meshes = 0.126922607421875\n",
      "touching_pieces = [2]\n",
      "Total time for mesh connectivity = 0.18630146980285645\n",
      "Using touching_pieces[0] = 2\n",
      "inside inner loop len(curr_limb_divided_skeletons) = 33\n",
      "closest_endpoint WITH NEW KDTREE METHOD= [746921.13943236 963351.4204698  884152.30584531]\n",
      "Starting_edge inside branches_to_conept = [[693257.59056053 968712.85909033 877850.36525034]\n",
      " [746921.13943236 963351.4204698  884152.30584531]]\n",
      "At the start, starting_node (in terms of the skeleton, that shouldn't match the starting edge) = [20]\n",
      "printing out current edge:\n",
      "[[746921.13943236 963351.4204698  884152.30584531]\n",
      " [693257.59056053 968712.85909033 877850.36525034]]\n",
      "edge_endpoints_to_process was empty so exiting loop after 33 iterations\n",
      "starting_node in concept map (that should match the starting edge) = 2\n",
      "Total time for branches to concept conversion = 0.2943692207336426\n",
      "\n",
      "recovered_touching_piece = [2]\n",
      "After concept mapping size = 33\n",
      "Local time for concept mapping = 0.7768924236297607\n",
      "\n",
      "\n",
      "------Working on limb 5 -------\n",
      "inside loop len(curr_limb_divided_meshes) = 7 len(curr_limb_divided_skeletons) = 7\n",
      "--- Working on soma_idx: 0----\n",
      "Total time for filtering periphery meshes = 0.047876834869384766\n",
      "touching_pieces = [3]\n",
      "Total time for mesh connectivity = 0.2873423099517822\n",
      "Using touching_pieces[0] = 3\n",
      "inside inner loop len(curr_limb_divided_skeletons) = 7\n",
      "closest_endpoint WITH NEW KDTREE METHOD= [752721.52407524 964384.60481626 869347.08507125]\n",
      "Starting_edge inside branches_to_conept = [[746565.14189411 969566.8857893  861509.36319248]\n",
      " [752721.52407524 964384.60481626 869347.08507125]]\n",
      "At the start, starting_node (in terms of the skeleton, that shouldn't match the starting edge) = [4]\n",
      "printing out current edge:\n",
      "[[752721.52407524 964384.60481626 869347.08507125]\n",
      " [746565.14189411 969566.8857893  861509.36319248]]\n",
      "edge_endpoints_to_process was empty so exiting loop after 7 iterations\n",
      "starting_node in concept map (that should match the starting edge) = 3\n",
      "Total time for branches to concept conversion = 0.17181968688964844\n",
      "\n",
      "recovered_touching_piece = [3]\n",
      "After concept mapping size = 7\n"
     ]
    },
    {
     "name": "stdout",
     "output_type": "stream",
     "text": [
      "Local time for concept mapping = 0.6090278625488281\n",
      "\n",
      "\n",
      "------Working on limb 6 -------\n",
      "inside loop len(curr_limb_divided_meshes) = 17 len(curr_limb_divided_skeletons) = 17\n",
      "--- Working on soma_idx: 1----\n",
      "Total time for filtering periphery meshes = 0.06582164764404297\n",
      "touching_pieces = [13]\n",
      "Total time for mesh connectivity = 0.18073439598083496\n",
      "Using touching_pieces[0] = 13\n",
      "inside inner loop len(curr_limb_divided_skeletons) = 17\n",
      "closest_endpoint WITH NEW KDTREE METHOD= [865899.05115931 988116.36181451 860319.94103288]\n",
      "Starting_edge inside branches_to_conept = [[865899.05115931 988116.36181451 860319.94103288]\n",
      " [865951.42692904 982604.31816129 862424.97066397]]\n",
      "At the start, starting_node (in terms of the skeleton, that shouldn't match the starting edge) = [10]\n",
      "printing out current edge:\n",
      "[[865899.05115931 988116.36181451 860319.94103288]\n",
      " [865951.42692904 982604.31816129 862424.97066397]]\n",
      "edge_endpoints_to_process was empty so exiting loop after 17 iterations\n",
      "starting_node in concept map (that should match the starting edge) = 13\n",
      "Total time for branches to concept conversion = 0.17838597297668457\n",
      "\n",
      "recovered_touching_piece = [13]\n",
      "After concept mapping size = 17\n",
      "Local time for concept mapping = 0.5174407958984375\n",
      "\n",
      "\n",
      "------Working on limb 7 -------\n",
      "inside loop len(curr_limb_divided_meshes) = 19 len(curr_limb_divided_skeletons) = 19\n",
      "--- Working on soma_idx: 1----\n",
      "Total time for filtering periphery meshes = 0.06981682777404785\n",
      "touching_pieces = [1]\n",
      "Total time for mesh connectivity = 0.2327415943145752\n",
      "Using touching_pieces[0] = 1\n",
      "inside inner loop len(curr_limb_divided_skeletons) = 19\n",
      "closest_endpoint WITH NEW KDTREE METHOD= [866775.63419604 993569.53505392 851090.71915791]\n",
      "Starting_edge inside branches_to_conept = [[866775.63419604 993569.53505392 851090.71915791]\n",
      " [877220.1534711  992895.02375849 841137.38136029]]\n",
      "At the start, starting_node (in terms of the skeleton, that shouldn't match the starting edge) = [1]\n",
      "printing out current edge:\n",
      "[[866775.63419604 993569.53505392 851090.71915791]\n",
      " [877220.1534711  992895.02375849 841137.38136029]]\n",
      "edge_endpoints_to_process was empty so exiting loop after 19 iterations\n",
      "starting_node in concept map (that should match the starting edge) = 1\n",
      "Total time for branches to concept conversion = 0.16948699951171875\n",
      "\n",
      "recovered_touching_piece = [1]\n",
      "After concept mapping size = 19\n",
      "Local time for concept mapping = 0.5675058364868164\n",
      "\n",
      "\n",
      "------Working on limb 8 -------\n",
      "inside loop len(curr_limb_divided_meshes) = 11 len(curr_limb_divided_skeletons) = 11\n",
      "--- Working on soma_idx: 1----\n",
      "Total time for filtering periphery meshes = 0.04345059394836426\n",
      "touching_pieces = [10]\n",
      "Total time for mesh connectivity = 0.2500920295715332\n",
      "Using touching_pieces[0] = 10\n",
      "inside inner loop len(curr_limb_divided_skeletons) = 11\n",
      "closest_endpoint WITH NEW KDTREE METHOD= [863032.30498317 995516.5725724  851441.49164123]\n",
      "Starting_edge inside branches_to_conept = [[850241.65438488 997733.96318925 835120.92336446]\n",
      " [863032.30498317 995516.5725724  851441.49164123]]\n",
      "At the start, starting_node (in terms of the skeleton, that shouldn't match the starting edge) = [11]\n",
      "printing out current edge:\n",
      "[[863032.30498317 995516.5725724  851441.49164123]\n",
      " [850241.65438488 997733.96318925 835120.92336446]]\n",
      "edge_endpoints_to_process was empty so exiting loop after 11 iterations\n",
      "starting_node in concept map (that should match the starting edge) = 10\n",
      "Total time for branches to concept conversion = 0.09928083419799805\n",
      "\n",
      "recovered_touching_piece = [10]\n",
      "After concept mapping size = 11\n",
      "Local time for concept mapping = 0.4523615837097168\n",
      "\n",
      "\n",
      "------Working on limb 9 -------\n",
      "inside loop len(curr_limb_divided_meshes) = 1 len(curr_limb_divided_skeletons) = 1\n",
      "--- Working on soma_idx: 0----\n",
      "Total time for filtering periphery meshes = 0.007665872573852539\n",
      "touching_pieces = [0]\n",
      "Total time for mesh connectivity = 0.2829704284667969\n",
      "Using touching_pieces[0] = 0\n",
      "inside inner loop len(curr_limb_divided_skeletons) = 1\n",
      "closest_endpoint WITH NEW KDTREE METHOD= [760596.49548634 964473.95863002 877464.33675621]\n",
      "Starting_edge inside branches_to_conept = [[760596.49548634 964473.95863002 877464.33675621]\n",
      " [764198.03071479 973954.65127816 881780.7690252 ]]\n",
      "recovered_touching_piece = [0]\n",
      "After concept mapping size = 1\n",
      "Local time for concept mapping = 0.29921960830688477\n",
      "\n",
      "\n",
      " ----- Total time for concept mapping = 9.940230131149292 ----\n",
      "Processing Neuorn in minimal output mode...please wait\n"
     ]
    },
    {
     "name": "stderr",
     "output_type": "stream",
     "text": [
      "WARNING:trimesh:face_normals all zero, ignoring!\n",
      "WARNING:trimesh:face_normals all zero, ignoring!\n",
      "WARNING:trimesh:face_normals all zero, ignoring!\n",
      "WARNING:trimesh:face_normals all zero, ignoring!\n",
      "WARNING:trimesh:face_normals all zero, ignoring!\n",
      "WARNING:trimesh:face_normals all zero, ignoring!\n",
      "WARNING:trimesh:face_normals all zero, ignoring!\n",
      "WARNING:trimesh:face_normals all zero, ignoring!\n",
      "WARNING:trimesh:face_normals all zero, ignoring!\n",
      "WARNING:trimesh:face_normals all zero, ignoring!\n",
      "WARNING:trimesh:face_normals all zero, ignoring!\n",
      "WARNING:trimesh:face_normals all zero, ignoring!\n",
      "WARNING:trimesh:face_normals all zero, ignoring!\n",
      "WARNING:trimesh:face_normals all zero, ignoring!\n",
      "WARNING:trimesh:face_normals all zero, ignoring!\n",
      "WARNING:trimesh:face_normals all zero, ignoring!\n",
      "WARNING:trimesh:face_normals all zero, ignoring!\n",
      "WARNING:trimesh:face_normals all zero, ignoring!\n",
      "WARNING:trimesh:face_normals all zero, ignoring!\n",
      "WARNING:trimesh:face_normals all zero, ignoring!\n",
      "WARNING:trimesh:face_normals all zero, ignoring!\n",
      "WARNING:trimesh:face_normals all zero, ignoring!\n",
      "WARNING:trimesh:face_normals all zero, ignoring!\n",
      "WARNING:trimesh:face_normals all zero, ignoring!\n",
      "WARNING:trimesh:face_normals all zero, ignoring!\n",
      "WARNING:trimesh:face_normals all zero, ignoring!\n",
      "WARNING:trimesh:face_normals all zero, ignoring!\n",
      "WARNING:trimesh:face_normals all zero, ignoring!\n",
      "WARNING:trimesh:face_normals all zero, ignoring!\n",
      "WARNING:trimesh:face_normals all zero, ignoring!\n",
      "WARNING:trimesh:face_normals all zero, ignoring!\n",
      "WARNING:trimesh:face_normals all zero, ignoring!\n",
      "WARNING:trimesh:face_normals all zero, ignoring!\n"
     ]
    },
    {
     "name": "stdout",
     "output_type": "stream",
     "text": [
      "Total time for neuron instance creation = 24.27034831047058\n"
     ]
    }
   ],
   "source": [
    "nru = reload(nru)\n",
    "neuron = reload(neuron)\n",
    "adaptive_neuron = nru.decompress_neuron(filepath=\"/notebooks/test_neurons/preprocessed_neurons/meshparty/12345_double_soma_adaptive_correspondence_meshparty\",\n",
    "                     original_mesh='/notebooks/test_neurons/preprocessed_neurons/meshparty/12345_double_soma_adaptive_correspondence_meshparty')"
   ]
  },
  {
   "cell_type": "code",
   "execution_count": null,
   "metadata": {},
   "outputs": [],
   "source": []
  },
  {
   "cell_type": "code",
   "execution_count": 96,
   "metadata": {},
   "outputs": [
    {
     "data": {
      "text/plain": [
       "'\\nChecked that thes high degree nodes were correctly retrieved\\nhigh_degree_coordinates = xu.get_node_attributes(curr_sk_graph,node_list = high_degree_nodes)\\nsk.graph_skeleton_and_mesh(other_skeletons=[curr_sk],\\n                          other_scatter=[high_degree_coordinates])\\n\\n'"
      ]
     },
     "execution_count": 96,
     "metadata": {},
     "output_type": "execute_result"
    }
   ],
   "source": [
    "# #1) convert the skeleton to a graph\n",
    "# curr_sk = branch_skeleton_data[1]\n",
    "# curr_sk_graph = sk.convert_skeleton_to_graph(curr_sk)\n",
    "\n",
    "# combine_threshold = 700\n",
    "\n",
    "# #2) Get all of the high degree nodes\n",
    "# high_degree_nodes = np.array(xu.get_nodes_greater_or_equal_degree_k(curr_sk_graph,3))\n",
    "# \"\"\"\n",
    "# Checked that thes high degree nodes were correctly retrieved\n",
    "# high_degree_coordinates = xu.get_node_attributes(curr_sk_graph,node_list = high_degree_nodes)\n",
    "# sk.graph_skeleton_and_mesh(other_skeletons=[curr_sk],\n",
    "#                           other_scatter=[high_degree_coordinates])\n",
    "\n",
    "# \"\"\"\n",
    "\n"
   ]
  },
  {
   "cell_type": "code",
   "execution_count": 128,
   "metadata": {},
   "outputs": [
    {
     "data": {
      "text/plain": [
       "[array([1729., 1739.])]"
      ]
     },
     "execution_count": 128,
     "metadata": {},
     "output_type": "execute_result"
    }
   ],
   "source": [
    "# #3) Get paths between all of them high degree nodes\n",
    "# valid_paths = []\n",
    "# combine_threshold = 700\n",
    "# for s in high_degree_nodes:\n",
    "#     degree_copy = high_degree_nodes[high_degree_nodes != s]\n",
    "    \n",
    "#     for t in degree_copy:\n",
    "#         try:\n",
    "#             path_len, path = nx.single_source_dijkstra(curr_sk_graph,source = s,target=t,cutoff=combine_threshold)\n",
    "#         except:\n",
    "#             continues\n",
    "#         else: #a valid path was found\n",
    "#             degree_no_endpoints = degree_copy[degree_copy != t]\n",
    "            \n",
    "#             if len(set(degree_no_endpoints).intersection(set(path))) > 0:\n",
    "#                 continue\n",
    "#             else:\n",
    "#                 sorted_path = np.sort(path)\n",
    "#                 if len(nu.matching_rows(valid_paths,sorted_path)) > 0:\n",
    "#                     continue\n",
    "#                 else:\n",
    "#                     valid_paths.append(sorted_path)\n",
    "        \n",
    "# valid_paths"
   ]
  },
  {
   "cell_type": "code",
   "execution_count": 131,
   "metadata": {},
   "outputs": [],
   "source": [
    "# \"\"\"\n",
    "# 5) For the paths that past the thresholding:\n",
    "# With a certain path\n",
    "# a. take the 2 end high degree nodes and get all of their neighbors\n",
    "# a2. get the coordinates of the endpoints and average them for new node\n",
    "# b. Create a new node with all the neighbors and averaged coordinate\n",
    "# c. replace all of the other paths computed (if they had the 2 end high degree nodes) replace with the new node ID\n",
    "# d. Delete the old high degree ends and all nodes on the path\n",
    "# Go to another path\n",
    "# \"\"\"\n",
    "# curr_sk_graph_cp = copy.deepcopy(curr_sk_graph)\n",
    "# for p in valid_paths:\n",
    "#     #a. take the 2 end high degree nodes and get all of their neighbors\n",
    "#     endpoint_neighbors = np.unique([xu.get_neighbors(curr_sk_graph_cp,k) for k in p])\n",
    "#     #a2. get the coordinates of the endpoints and average them for new node\n",
    "#     endpoint_coordinates = np.vstack([xu.get_node_attributes(curr_sk_graph_cp,node_list=k) for k in p])\n",
    "#     average_endpoints = np.mean(endpoint_coordinates,axis=0)\n",
    "#     #b. Create a new node with all the neighbors and averaged coordinate\n",
    "#     new_node_id = np.max(curr_sk_graph_cp.nodes()) + 1\n",
    "#     curr_sk_graph_cp.add_node(new_node_id,coordinates=average_endpoints)\n",
    "#     #c. replace all of the other paths computed (if they had the 2 end high degree nodes) replace with the new node ID\n",
    "#     curr_sk_graph_cp.add_weighted_edges_from([(new_node_id,k,\n",
    "#                 np.linalg.norm(curr_sk_graph_cp.nodes[k][\"coordinates\"] - average_endpoints)) for k in endpoint_neighbors])\n",
    "#     #d. Delete the old high degree ends and all nodes on the path\n",
    "#     curr_sk_graph_cp.remove_nodes_from(p)\n"
   ]
  },
  {
   "cell_type": "code",
   "execution_count": 135,
   "metadata": {},
   "outputs": [
    {
     "data": {
      "application/vnd.jupyter.widget-view+json": {
       "model_id": "3755b61830354fdabec4fe7820ddadfa",
       "version_major": 2,
       "version_minor": 0
      },
      "text/plain": [
       "VBox(children=(Figure(camera=PerspectiveCamera(fov=46.0, position=(0.0, 0.0, 2.0), quaternion=(0.0, 0.0, 0.0, …"
      ]
     },
     "metadata": {},
     "output_type": "display_data"
    }
   ],
   "source": [
    "sk.graph_skeleton_and_mesh(\n",
    "    other_meshes=[debug_mesh],\n",
    "                          #other_skeletons=[debug_sk],\n",
    "    other_skeletons=[curr_sk_cleaned,debug_sk],\n",
    "    other_skeletons_colors=[\"black\",\"red\"],\n",
    "    other_scatter=[debug_sk.reshape(-1,3)],\n",
    "    scatter_size=0.1,\n",
    ")"
   ]
  },
  {
   "cell_type": "markdown",
   "metadata": {},
   "source": [
    "# Processing the Neuron"
   ]
  },
  {
   "cell_type": "code",
   "execution_count": 19,
   "metadata": {},
   "outputs": [
    {
     "name": "stdout",
     "output_type": "stream",
     "text": [
      "--- 0) Having to preprocess the Neuron becuase no preprocessed data\n",
      "Please wait this could take a while.....\n",
      "\n",
      "\n",
      "\n",
      "\n",
      "\n",
      "****** Phase A ***************\n",
      "\n",
      "\n",
      "\n",
      "\n",
      "\n",
      "Soma List = [<trimesh.Trimesh(vertices.shape=(3065, 3), faces.shape=(6001, 3))>, <trimesh.Trimesh(vertices.shape=(2124, 3), faces.shape=(4205, 3))>]\n",
      "soma_mesh_list_centers = [array([756862.7897553 , 959093.87004894, 874202.02264274]), array([864007.66209981, 994520.88554614, 859495.97886064])]\n",
      "# total split meshes = 79\n",
      "There were 78 pieces found after size threshold\n",
      "# of non soma touching seperate meshes = 55\n",
      "# of inside pieces = 23\n",
      "# of soma containing seperate meshes = 1\n",
      "meshes with somas = {0: [0, 1]}\n",
      "\n",
      "\n",
      "----Working on soma-containing mesh piece {z}----\n",
      "\n",
      "inside Soma subtraction\n",
      "mesh pieces in subtact soma BEFORE the filtering inside pieces = [<trimesh.Trimesh(vertices.shape=(153985, 3), faces.shape=(308998, 3))>, <trimesh.Trimesh(vertices.shape=(87699, 3), faces.shape=(176251, 3))>, <trimesh.Trimesh(vertices.shape=(57751, 3), faces.shape=(115799, 3))>, <trimesh.Trimesh(vertices.shape=(57006, 3), faces.shape=(114738, 3))>, <trimesh.Trimesh(vertices.shape=(54953, 3), faces.shape=(110120, 3))>, <trimesh.Trimesh(vertices.shape=(51856, 3), faces.shape=(104070, 3))>, <trimesh.Trimesh(vertices.shape=(29317, 3), faces.shape=(58765, 3))>, <trimesh.Trimesh(vertices.shape=(29167, 3), faces.shape=(58576, 3))>, <trimesh.Trimesh(vertices.shape=(14725, 3), faces.shape=(29598, 3))>, <trimesh.Trimesh(vertices.shape=(1234, 3), faces.shape=(2421, 3))>]\n",
      "There were 10 pieces found after size threshold\n",
      "mesh pieces in subtact soma AFTER the filtering inside pieces = [<trimesh.Trimesh(vertices.shape=(153985, 3), faces.shape=(308998, 3))>, <trimesh.Trimesh(vertices.shape=(87699, 3), faces.shape=(176251, 3))>, <trimesh.Trimesh(vertices.shape=(57751, 3), faces.shape=(115799, 3))>, <trimesh.Trimesh(vertices.shape=(57006, 3), faces.shape=(114738, 3))>, <trimesh.Trimesh(vertices.shape=(54953, 3), faces.shape=(110120, 3))>, <trimesh.Trimesh(vertices.shape=(51856, 3), faces.shape=(104070, 3))>, <trimesh.Trimesh(vertices.shape=(29317, 3), faces.shape=(58765, 3))>, <trimesh.Trimesh(vertices.shape=(29167, 3), faces.shape=(58576, 3))>, <trimesh.Trimesh(vertices.shape=(14725, 3), faces.shape=(29598, 3))>, <trimesh.Trimesh(vertices.shape=(1234, 3), faces.shape=(2421, 3))>]\n",
      "Total Time for soma mesh cancellation = 2.2\n",
      "Total time for Subtract Soam = 2.20092511177063\n",
      "Total time for Original_mesh_faces_map for mesh_pieces without soma= 0.710259199142456\n",
      "Total time for Original_mesh_faces_map for somas= 0.7036066055297852\n",
      "Total time for sig_non_soma_pieces= 1.7859432697296143\n",
      "Total time for split= 0.05404376983642578\n",
      "Total time for mesh_pieces_connectivity= 8.739918231964111\n",
      "# of insignificant_limbs = 0 with trimesh : []\n",
      "Using DECOMPOSITION TYPE: meshAfterParty\n",
      "\n",
      "-- Working on Soma Continaing Mesh 0--\n",
      "\n",
      "    -- Working on branch 0--\n",
      "     Starting Screened Poisson\n",
      "IN INPUT FILE VALIDATION LOOP\n",
      "LEAVING LOOP, MESH VALIDATED\n",
      "Using port = 3955\n",
      "xvfb-run -n 3955 -s \"-screen 0 800x600x24\" meshlabserver $@  -i /notebooks/Platinum_Compartment/Axon/temp/None.off -o /notebooks/Platinum_Compartment/Axon/temp/None_poisson.off -s /notebooks/Platinum_Compartment/Axon/temp/poisson_995361.mls\n",
      "-----Time for Screened Poisson= 39.61076831817627\n"
     ]
    },
    {
     "name": "stderr",
     "output_type": "stream",
     "text": [
      "WARNING:trimesh:face_normals all zero, ignoring!\n",
      "WARNING:trimesh:face_normals all zero, ignoring!\n",
      "WARNING:trimesh:face_normals all zero, ignoring!\n",
      "WARNING:trimesh:face_normals all zero, ignoring!\n",
      "WARNING:trimesh:face_normals all zero, ignoring!\n",
      "WARNING:trimesh:face_normals all zero, ignoring!\n",
      "WARNING:trimesh:face_normals all zero, ignoring!\n",
      "WARNING:trimesh:face_normals all zero, ignoring!\n",
      "WARNING:trimesh:face_normals all zero, ignoring!\n",
      "WARNING:trimesh:face_normals all zero, ignoring!\n",
      "WARNING:trimesh:face_normals all zero, ignoring!\n",
      "WARNING:trimesh:face_normals all zero, ignoring!\n",
      "WARNING:trimesh:face_normals all zero, ignoring!\n",
      "WARNING:trimesh:face_normals all zero, ignoring!\n",
      "WARNING:trimesh:face_normals all zero, ignoring!\n",
      "WARNING:trimesh:face_normals all zero, ignoring!\n",
      "WARNING:trimesh:face_normals all zero, ignoring!\n",
      "WARNING:trimesh:face_normals all zero, ignoring!\n",
      "WARNING:trimesh:face_normals all zero, ignoring!\n",
      "WARNING:trimesh:face_normals all zero, ignoring!\n",
      "WARNING:trimesh:face_normals all zero, ignoring!\n",
      "WARNING:trimesh:face_normals all zero, ignoring!\n",
      "WARNING:trimesh:face_normals all zero, ignoring!\n",
      "WARNING:trimesh:face_normals all zero, ignoring!\n",
      "WARNING:trimesh:face_normals all zero, ignoring!\n",
      "WARNING:trimesh:face_normals all zero, ignoring!\n",
      "WARNING:trimesh:face_normals all zero, ignoring!\n",
      "WARNING:trimesh:face_normals all zero, ignoring!\n",
      "WARNING:trimesh:face_normals all zero, ignoring!\n",
      "WARNING:trimesh:face_normals all zero, ignoring!\n",
      "WARNING:trimesh:face_normals all zero, ignoring!\n",
      "WARNING:trimesh:face_normals all zero, ignoring!\n",
      "WARNING:trimesh:face_normals all zero, ignoring!\n",
      "WARNING:trimesh:face_normals all zero, ignoring!\n",
      "WARNING:trimesh:face_normals all zero, ignoring!\n",
      "WARNING:trimesh:face_normals all zero, ignoring!\n",
      "WARNING:trimesh:face_normals all zero, ignoring!\n",
      "WARNING:trimesh:face_normals all zero, ignoring!\n",
      "WARNING:trimesh:face_normals all zero, ignoring!\n",
      "WARNING:trimesh:face_normals all zero, ignoring!\n",
      "WARNING:trimesh:face_normals all zero, ignoring!\n",
      "WARNING:trimesh:face_normals all zero, ignoring!\n",
      "WARNING:trimesh:face_normals all zero, ignoring!\n",
      "WARNING:trimesh:face_normals all zero, ignoring!\n",
      "WARNING:trimesh:face_normals all zero, ignoring!\n",
      "WARNING:trimesh:face_normals all zero, ignoring!\n",
      "WARNING:trimesh:face_normals all zero, ignoring!\n",
      "WARNING:trimesh:face_normals all zero, ignoring!\n",
      "WARNING:trimesh:face_normals all zero, ignoring!\n",
      "WARNING:trimesh:face_normals all zero, ignoring!\n",
      "WARNING:trimesh:face_normals all zero, ignoring!\n",
      "WARNING:trimesh:face_normals all zero, ignoring!\n",
      "WARNING:trimesh:face_normals all zero, ignoring!\n",
      "WARNING:trimesh:face_normals all zero, ignoring!\n",
      "WARNING:trimesh:face_normals all zero, ignoring!\n",
      "WARNING:trimesh:face_normals all zero, ignoring!\n",
      "WARNING:trimesh:face_normals all zero, ignoring!\n",
      "WARNING:trimesh:face_normals all zero, ignoring!\n",
      "WARNING:trimesh:face_normals all zero, ignoring!\n",
      "WARNING:trimesh:face_normals all zero, ignoring!\n",
      "WARNING:trimesh:face_normals all zero, ignoring!\n",
      "WARNING:trimesh:face_normals all zero, ignoring!\n",
      "WARNING:trimesh:face_normals all zero, ignoring!\n",
      "WARNING:trimesh:face_normals all zero, ignoring!\n",
      "WARNING:trimesh:face_normals all zero, ignoring!\n",
      "WARNING:trimesh:face_normals all zero, ignoring!\n",
      "WARNING:trimesh:face_normals all zero, ignoring!\n",
      "WARNING:trimesh:face_normals all zero, ignoring!\n",
      "WARNING:trimesh:face_normals all zero, ignoring!\n",
      "WARNING:trimesh:face_normals all zero, ignoring!\n",
      "WARNING:trimesh:face_normals all zero, ignoring!\n",
      "WARNING:trimesh:face_normals all zero, ignoring!\n",
      "WARNING:trimesh:face_normals all zero, ignoring!\n",
      "WARNING:trimesh:face_normals all zero, ignoring!\n",
      "WARNING:trimesh:face_normals all zero, ignoring!\n",
      "WARNING:trimesh:face_normals all zero, ignoring!\n",
      "WARNING:trimesh:face_normals all zero, ignoring!\n",
      "WARNING:trimesh:face_normals all zero, ignoring!\n",
      "WARNING:trimesh:face_normals all zero, ignoring!\n",
      "WARNING:trimesh:face_normals all zero, ignoring!\n",
      "WARNING:trimesh:face_normals all zero, ignoring!\n",
      "WARNING:trimesh:face_normals all zero, ignoring!\n",
      "WARNING:trimesh:face_normals all zero, ignoring!\n",
      "WARNING:trimesh:face_normals all zero, ignoring!\n",
      "WARNING:trimesh:face_normals all zero, ignoring!\n",
      "WARNING:trimesh:face_normals all zero, ignoring!\n",
      "WARNING:trimesh:face_normals all zero, ignoring!\n"
     ]
    },
    {
     "name": "stdout",
     "output_type": "stream",
     "text": [
      "     Starting Calcification\n",
      "Before mesh subtraction number of skeleton edges = 4195\n",
      "Inside mesh subtraction, len(main_mesh_bbox_restricted.faces) = 308998\n"
     ]
    },
    {
     "data": {
      "application/vnd.jupyter.widget-view+json": {
       "model_id": "69e5acd0e6b548b485e5e7db835256c5",
       "version_major": 2,
       "version_minor": 0
      },
      "text/plain": [
       "HBox(children=(FloatProgress(value=1.0, bar_style='info', layout=Layout(width='20px'), max=1.0), HTML(value=''…"
      ]
     },
     "metadata": {},
     "output_type": "display_data"
    },
    {
     "name": "stdout",
     "output_type": "stream",
     "text": [
      "\n",
      "Total Mesh subtraction time = 84.7468\n"
     ]
    },
    {
     "data": {
      "application/vnd.jupyter.widget-view+json": {
       "model_id": "19931d30735b4c11918788cd6cc592c0",
       "version_major": 2,
       "version_minor": 0
      },
      "text/plain": [
       "HBox(children=(FloatProgress(value=0.0, max=218.0), HTML(value='')))"
      ]
     },
     "metadata": {},
     "output_type": "display_data"
    },
    {
     "name": "stdout",
     "output_type": "stream",
     "text": [
      "\n",
      "len_subgraphs AT BEGINNING of the loop\n"
     ]
    },
    {
     "data": {
      "application/vnd.jupyter.widget-view+json": {
       "model_id": "f4e58c71699e4f879fa03850b6b9986e",
       "version_major": 2,
       "version_minor": 0
      },
      "text/plain": [
       "HBox(children=(FloatProgress(value=0.0, max=744.0), HTML(value='')))"
      ]
     },
     "metadata": {},
     "output_type": "display_data"
    },
    {
     "name": "stdout",
     "output_type": "stream",
     "text": [
      "all graph is one component!\n",
      "\n",
      "Total time for skeleton stitching = 1.8315045833587646\n",
      "The process was using a temp folder\n",
      "Using Distance measure skeletal_distance\n"
     ]
    },
    {
     "data": {
      "application/vnd.jupyter.widget-view+json": {
       "model_id": "58c53d3b45114650af685849037f4429",
       "version_major": 2,
       "version_minor": 0
      },
      "text/plain": [
       "HBox(children=(FloatProgress(value=0.0, max=746.0), HTML(value='')))"
      ]
     },
     "metadata": {},
     "output_type": "display_data"
    },
    {
     "name": "stdout",
     "output_type": "stream",
     "text": [
      "\n",
      "    Total time for skeleton and cleaning of branch 0: 65.66237950325012\n",
      "\n",
      "    -- Working on branch 1--\n",
      "     Starting Screened Poisson\n",
      "IN INPUT FILE VALIDATION LOOP\n",
      "LEAVING LOOP, MESH VALIDATED\n",
      "Using port = 619\n",
      "xvfb-run -n 619 -s \"-screen 0 800x600x24\" meshlabserver $@  -i /notebooks/Platinum_Compartment/Axon/temp/None.off -o /notebooks/Platinum_Compartment/Axon/temp/None_poisson.off -s /notebooks/Platinum_Compartment/Axon/temp/poisson_656981.mls\n",
      "-----Time for Screened Poisson= 23.144389629364014\n"
     ]
    },
    {
     "name": "stderr",
     "output_type": "stream",
     "text": [
      "WARNING:trimesh:face_normals all zero, ignoring!\n",
      "WARNING:trimesh:face_normals all zero, ignoring!\n",
      "WARNING:trimesh:face_normals all zero, ignoring!\n",
      "WARNING:trimesh:face_normals all zero, ignoring!\n",
      "WARNING:trimesh:face_normals all zero, ignoring!\n",
      "WARNING:trimesh:face_normals all zero, ignoring!\n",
      "WARNING:trimesh:face_normals all zero, ignoring!\n",
      "WARNING:trimesh:face_normals all zero, ignoring!\n",
      "WARNING:trimesh:face_normals all zero, ignoring!\n",
      "WARNING:trimesh:face_normals all zero, ignoring!\n",
      "WARNING:trimesh:face_normals all zero, ignoring!\n",
      "WARNING:trimesh:face_normals all zero, ignoring!\n",
      "WARNING:trimesh:face_normals all zero, ignoring!\n",
      "WARNING:trimesh:face_normals all zero, ignoring!\n",
      "WARNING:trimesh:face_normals all zero, ignoring!\n",
      "WARNING:trimesh:face_normals all zero, ignoring!\n",
      "WARNING:trimesh:face_normals all zero, ignoring!\n",
      "WARNING:trimesh:face_normals all zero, ignoring!\n",
      "WARNING:trimesh:face_normals all zero, ignoring!\n",
      "WARNING:trimesh:face_normals all zero, ignoring!\n",
      "WARNING:trimesh:face_normals all zero, ignoring!\n",
      "WARNING:trimesh:face_normals all zero, ignoring!\n",
      "WARNING:trimesh:face_normals all zero, ignoring!\n",
      "WARNING:trimesh:face_normals all zero, ignoring!\n",
      "WARNING:trimesh:face_normals all zero, ignoring!\n",
      "WARNING:trimesh:face_normals all zero, ignoring!\n",
      "WARNING:trimesh:face_normals all zero, ignoring!\n",
      "WARNING:trimesh:face_normals all zero, ignoring!\n",
      "WARNING:trimesh:face_normals all zero, ignoring!\n",
      "WARNING:trimesh:face_normals all zero, ignoring!\n",
      "WARNING:trimesh:face_normals all zero, ignoring!\n",
      "WARNING:trimesh:face_normals all zero, ignoring!\n",
      "WARNING:trimesh:face_normals all zero, ignoring!\n",
      "WARNING:trimesh:face_normals all zero, ignoring!\n",
      "WARNING:trimesh:face_normals all zero, ignoring!\n",
      "WARNING:trimesh:face_normals all zero, ignoring!\n",
      "WARNING:trimesh:face_normals all zero, ignoring!\n",
      "WARNING:trimesh:face_normals all zero, ignoring!\n",
      "WARNING:trimesh:face_normals all zero, ignoring!\n",
      "WARNING:trimesh:face_normals all zero, ignoring!\n",
      "WARNING:trimesh:face_normals all zero, ignoring!\n",
      "WARNING:trimesh:face_normals all zero, ignoring!\n",
      "WARNING:trimesh:face_normals all zero, ignoring!\n",
      "WARNING:trimesh:face_normals all zero, ignoring!\n",
      "WARNING:trimesh:face_normals all zero, ignoring!\n",
      "WARNING:trimesh:face_normals all zero, ignoring!\n",
      "WARNING:trimesh:face_normals all zero, ignoring!\n",
      "WARNING:trimesh:face_normals all zero, ignoring!\n",
      "WARNING:trimesh:face_normals all zero, ignoring!\n",
      "WARNING:trimesh:face_normals all zero, ignoring!\n",
      "WARNING:trimesh:face_normals all zero, ignoring!\n",
      "WARNING:trimesh:face_normals all zero, ignoring!\n",
      "WARNING:trimesh:face_normals all zero, ignoring!\n",
      "WARNING:trimesh:face_normals all zero, ignoring!\n",
      "WARNING:trimesh:face_normals all zero, ignoring!\n",
      "WARNING:trimesh:face_normals all zero, ignoring!\n",
      "WARNING:trimesh:face_normals all zero, ignoring!\n",
      "WARNING:trimesh:face_normals all zero, ignoring!\n",
      "WARNING:trimesh:face_normals all zero, ignoring!\n"
     ]
    },
    {
     "name": "stdout",
     "output_type": "stream",
     "text": [
      "     Starting Calcification\n",
      "Before mesh subtraction number of skeleton edges = 2886\n",
      "Inside mesh subtraction, len(main_mesh_bbox_restricted.faces) = 176251\n"
     ]
    },
    {
     "data": {
      "application/vnd.jupyter.widget-view+json": {
       "model_id": "ed60cdcda2e44c9f9c234c9af16ea401",
       "version_major": 2,
       "version_minor": 0
      },
      "text/plain": [
       "HBox(children=(FloatProgress(value=1.0, bar_style='info', layout=Layout(width='20px'), max=1.0), HTML(value=''…"
      ]
     },
     "metadata": {},
     "output_type": "display_data"
    },
    {
     "name": "stdout",
     "output_type": "stream",
     "text": [
      "\n",
      "Total Mesh subtraction time = 46.0121\n"
     ]
    },
    {
     "data": {
      "application/vnd.jupyter.widget-view+json": {
       "model_id": "f6ed9ddbf8f040e9b3c922629cc44d7b",
       "version_major": 2,
       "version_minor": 0
      },
      "text/plain": [
       "HBox(children=(FloatProgress(value=0.0, max=150.0), HTML(value='')))"
      ]
     },
     "metadata": {},
     "output_type": "display_data"
    },
    {
     "name": "stdout",
     "output_type": "stream",
     "text": [
      "\n",
      "len_subgraphs AT BEGINNING of the loop\n"
     ]
    },
    {
     "data": {
      "application/vnd.jupyter.widget-view+json": {
       "model_id": "aed38d6036a342148fdd6b59807770c7",
       "version_major": 2,
       "version_minor": 0
      },
      "text/plain": [
       "HBox(children=(FloatProgress(value=0.0, max=474.0), HTML(value='')))"
      ]
     },
     "metadata": {},
     "output_type": "display_data"
    },
    {
     "name": "stdout",
     "output_type": "stream",
     "text": [
      "all graph is one component!\n",
      "\n",
      "Total time for skeleton stitching = 0.894195556640625\n",
      "The process was using a temp folder\n",
      "Using Distance measure skeletal_distance\n"
     ]
    },
    {
     "data": {
      "application/vnd.jupyter.widget-view+json": {
       "model_id": "adaf445087ad4f5eb5dd25e8a4eeb604",
       "version_major": 2,
       "version_minor": 0
      },
      "text/plain": [
       "HBox(children=(FloatProgress(value=0.0, max=467.0), HTML(value='')))"
      ]
     },
     "metadata": {},
     "output_type": "display_data"
    },
    {
     "name": "stdout",
     "output_type": "stream",
     "text": [
      "\n",
      "    Total time for skeleton and cleaning of branch 1: 24.93156623840332\n",
      "\n",
      "    -- Working on branch 2--\n",
      "     Starting Screened Poisson\n",
      "IN INPUT FILE VALIDATION LOOP\n",
      "LEAVING LOOP, MESH VALIDATED\n",
      "Using port = 6063\n",
      "xvfb-run -n 6063 -s \"-screen 0 800x600x24\" meshlabserver $@  -i /notebooks/Platinum_Compartment/Axon/temp/None.off -o /notebooks/Platinum_Compartment/Axon/temp/None_poisson.off -s /notebooks/Platinum_Compartment/Axon/temp/poisson_481546.mls\n",
      "-----Time for Screened Poisson= 24.171454906463623\n"
     ]
    },
    {
     "name": "stderr",
     "output_type": "stream",
     "text": [
      "WARNING:trimesh:face_normals all zero, ignoring!\n",
      "WARNING:trimesh:face_normals all zero, ignoring!\n",
      "WARNING:trimesh:face_normals all zero, ignoring!\n",
      "WARNING:trimesh:face_normals all zero, ignoring!\n",
      "WARNING:trimesh:face_normals all zero, ignoring!\n",
      "WARNING:trimesh:face_normals all zero, ignoring!\n",
      "WARNING:trimesh:face_normals all zero, ignoring!\n",
      "WARNING:trimesh:face_normals all zero, ignoring!\n",
      "WARNING:trimesh:face_normals all zero, ignoring!\n",
      "WARNING:trimesh:face_normals all zero, ignoring!\n",
      "WARNING:trimesh:face_normals all zero, ignoring!\n",
      "WARNING:trimesh:face_normals all zero, ignoring!\n",
      "WARNING:trimesh:face_normals all zero, ignoring!\n",
      "WARNING:trimesh:face_normals all zero, ignoring!\n",
      "WARNING:trimesh:face_normals all zero, ignoring!\n",
      "WARNING:trimesh:face_normals all zero, ignoring!\n",
      "WARNING:trimesh:face_normals all zero, ignoring!\n",
      "WARNING:trimesh:face_normals all zero, ignoring!\n",
      "WARNING:trimesh:face_normals all zero, ignoring!\n",
      "WARNING:trimesh:face_normals all zero, ignoring!\n",
      "WARNING:trimesh:face_normals all zero, ignoring!\n",
      "WARNING:trimesh:face_normals all zero, ignoring!\n",
      "WARNING:trimesh:face_normals all zero, ignoring!\n",
      "WARNING:trimesh:face_normals all zero, ignoring!\n",
      "WARNING:trimesh:face_normals all zero, ignoring!\n",
      "WARNING:trimesh:face_normals all zero, ignoring!\n",
      "WARNING:trimesh:face_normals all zero, ignoring!\n",
      "WARNING:trimesh:face_normals all zero, ignoring!\n",
      "WARNING:trimesh:face_normals all zero, ignoring!\n",
      "WARNING:trimesh:face_normals all zero, ignoring!\n",
      "WARNING:trimesh:face_normals all zero, ignoring!\n",
      "WARNING:trimesh:face_normals all zero, ignoring!\n",
      "WARNING:trimesh:face_normals all zero, ignoring!\n",
      "WARNING:trimesh:face_normals all zero, ignoring!\n",
      "WARNING:trimesh:face_normals all zero, ignoring!\n",
      "WARNING:trimesh:face_normals all zero, ignoring!\n",
      "WARNING:trimesh:face_normals all zero, ignoring!\n",
      "WARNING:trimesh:face_normals all zero, ignoring!\n",
      "WARNING:trimesh:face_normals all zero, ignoring!\n",
      "WARNING:trimesh:face_normals all zero, ignoring!\n",
      "WARNING:trimesh:face_normals all zero, ignoring!\n",
      "WARNING:trimesh:face_normals all zero, ignoring!\n",
      "WARNING:trimesh:face_normals all zero, ignoring!\n",
      "WARNING:trimesh:face_normals all zero, ignoring!\n",
      "WARNING:trimesh:face_normals all zero, ignoring!\n",
      "WARNING:trimesh:face_normals all zero, ignoring!\n",
      "WARNING:trimesh:face_normals all zero, ignoring!\n",
      "WARNING:trimesh:face_normals all zero, ignoring!\n",
      "WARNING:trimesh:face_normals all zero, ignoring!\n",
      "WARNING:trimesh:face_normals all zero, ignoring!\n",
      "WARNING:trimesh:face_normals all zero, ignoring!\n",
      "WARNING:trimesh:face_normals all zero, ignoring!\n",
      "WARNING:trimesh:face_normals all zero, ignoring!\n",
      "WARNING:trimesh:face_normals all zero, ignoring!\n",
      "WARNING:trimesh:face_normals all zero, ignoring!\n",
      "WARNING:trimesh:face_normals all zero, ignoring!\n",
      "WARNING:trimesh:face_normals all zero, ignoring!\n",
      "WARNING:trimesh:face_normals all zero, ignoring!\n",
      "WARNING:trimesh:face_normals all zero, ignoring!\n",
      "WARNING:trimesh:face_normals all zero, ignoring!\n",
      "WARNING:trimesh:face_normals all zero, ignoring!\n",
      "WARNING:trimesh:face_normals all zero, ignoring!\n",
      "WARNING:trimesh:face_normals all zero, ignoring!\n",
      "WARNING:trimesh:face_normals all zero, ignoring!\n",
      "WARNING:trimesh:face_normals all zero, ignoring!\n",
      "WARNING:trimesh:face_normals all zero, ignoring!\n",
      "WARNING:trimesh:face_normals all zero, ignoring!\n",
      "WARNING:trimesh:face_normals all zero, ignoring!\n",
      "WARNING:trimesh:face_normals all zero, ignoring!\n",
      "WARNING:trimesh:face_normals all zero, ignoring!\n",
      "WARNING:trimesh:face_normals all zero, ignoring!\n",
      "WARNING:trimesh:face_normals all zero, ignoring!\n",
      "WARNING:trimesh:face_normals all zero, ignoring!\n",
      "WARNING:trimesh:face_normals all zero, ignoring!\n",
      "WARNING:trimesh:face_normals all zero, ignoring!\n",
      "WARNING:trimesh:face_normals all zero, ignoring!\n",
      "WARNING:trimesh:face_normals all zero, ignoring!\n",
      "WARNING:trimesh:face_normals all zero, ignoring!\n",
      "WARNING:trimesh:face_normals all zero, ignoring!\n",
      "WARNING:trimesh:face_normals all zero, ignoring!\n",
      "WARNING:trimesh:face_normals all zero, ignoring!\n",
      "WARNING:trimesh:face_normals all zero, ignoring!\n",
      "WARNING:trimesh:face_normals all zero, ignoring!\n",
      "WARNING:trimesh:face_normals all zero, ignoring!\n",
      "WARNING:trimesh:face_normals all zero, ignoring!\n",
      "WARNING:trimesh:face_normals all zero, ignoring!\n",
      "WARNING:trimesh:face_normals all zero, ignoring!\n",
      "WARNING:trimesh:face_normals all zero, ignoring!\n",
      "WARNING:trimesh:face_normals all zero, ignoring!\n",
      "WARNING:trimesh:face_normals all zero, ignoring!\n",
      "WARNING:trimesh:face_normals all zero, ignoring!\n",
      "WARNING:trimesh:face_normals all zero, ignoring!\n",
      "WARNING:trimesh:face_normals all zero, ignoring!\n",
      "WARNING:trimesh:face_normals all zero, ignoring!\n",
      "WARNING:trimesh:face_normals all zero, ignoring!\n",
      "WARNING:trimesh:face_normals all zero, ignoring!\n",
      "WARNING:trimesh:face_normals all zero, ignoring!\n",
      "WARNING:trimesh:face_normals all zero, ignoring!\n",
      "WARNING:trimesh:face_normals all zero, ignoring!\n",
      "WARNING:trimesh:face_normals all zero, ignoring!\n",
      "WARNING:trimesh:face_normals all zero, ignoring!\n",
      "WARNING:trimesh:face_normals all zero, ignoring!\n",
      "WARNING:trimesh:face_normals all zero, ignoring!\n",
      "WARNING:trimesh:face_normals all zero, ignoring!\n",
      "WARNING:trimesh:face_normals all zero, ignoring!\n",
      "WARNING:trimesh:face_normals all zero, ignoring!\n",
      "WARNING:trimesh:face_normals all zero, ignoring!\n",
      "WARNING:trimesh:face_normals all zero, ignoring!\n",
      "WARNING:trimesh:face_normals all zero, ignoring!\n",
      "WARNING:trimesh:face_normals all zero, ignoring!\n",
      "WARNING:trimesh:face_normals all zero, ignoring!\n",
      "WARNING:trimesh:face_normals all zero, ignoring!\n",
      "WARNING:trimesh:face_normals all zero, ignoring!\n",
      "WARNING:trimesh:face_normals all zero, ignoring!\n",
      "WARNING:trimesh:face_normals all zero, ignoring!\n",
      "WARNING:trimesh:face_normals all zero, ignoring!\n",
      "WARNING:trimesh:face_normals all zero, ignoring!\n",
      "WARNING:trimesh:face_normals all zero, ignoring!\n",
      "WARNING:trimesh:face_normals all zero, ignoring!\n",
      "WARNING:trimesh:face_normals all zero, ignoring!\n",
      "WARNING:trimesh:face_normals all zero, ignoring!\n",
      "WARNING:trimesh:face_normals all zero, ignoring!\n",
      "WARNING:trimesh:face_normals all zero, ignoring!\n",
      "WARNING:trimesh:face_normals all zero, ignoring!\n",
      "WARNING:trimesh:face_normals all zero, ignoring!\n",
      "WARNING:trimesh:face_normals all zero, ignoring!\n",
      "WARNING:trimesh:face_normals all zero, ignoring!\n",
      "WARNING:trimesh:face_normals all zero, ignoring!\n",
      "WARNING:trimesh:face_normals all zero, ignoring!\n",
      "WARNING:trimesh:face_normals all zero, ignoring!\n",
      "WARNING:trimesh:face_normals all zero, ignoring!\n",
      "WARNING:trimesh:face_normals all zero, ignoring!\n",
      "WARNING:trimesh:face_normals all zero, ignoring!\n",
      "WARNING:trimesh:face_normals all zero, ignoring!\n",
      "WARNING:trimesh:face_normals all zero, ignoring!\n",
      "WARNING:trimesh:face_normals all zero, ignoring!\n",
      "WARNING:trimesh:face_normals all zero, ignoring!\n",
      "WARNING:trimesh:face_normals all zero, ignoring!\n",
      "WARNING:trimesh:face_normals all zero, ignoring!\n",
      "WARNING:trimesh:face_normals all zero, ignoring!\n",
      "WARNING:trimesh:face_normals all zero, ignoring!\n",
      "WARNING:trimesh:face_normals all zero, ignoring!\n",
      "WARNING:trimesh:face_normals all zero, ignoring!\n",
      "WARNING:trimesh:face_normals all zero, ignoring!\n",
      "WARNING:trimesh:face_normals all zero, ignoring!\n",
      "WARNING:trimesh:face_normals all zero, ignoring!\n",
      "WARNING:trimesh:face_normals all zero, ignoring!\n",
      "WARNING:trimesh:face_normals all zero, ignoring!\n",
      "WARNING:trimesh:face_normals all zero, ignoring!\n",
      "WARNING:trimesh:face_normals all zero, ignoring!\n",
      "WARNING:trimesh:face_normals all zero, ignoring!\n",
      "WARNING:trimesh:face_normals all zero, ignoring!\n",
      "WARNING:trimesh:face_normals all zero, ignoring!\n",
      "WARNING:trimesh:face_normals all zero, ignoring!\n",
      "WARNING:trimesh:face_normals all zero, ignoring!\n",
      "WARNING:trimesh:face_normals all zero, ignoring!\n",
      "WARNING:trimesh:face_normals all zero, ignoring!\n",
      "WARNING:trimesh:face_normals all zero, ignoring!\n",
      "WARNING:trimesh:face_normals all zero, ignoring!\n",
      "WARNING:trimesh:face_normals all zero, ignoring!\n",
      "WARNING:trimesh:face_normals all zero, ignoring!\n",
      "WARNING:trimesh:face_normals all zero, ignoring!\n",
      "WARNING:trimesh:face_normals all zero, ignoring!\n",
      "WARNING:trimesh:face_normals all zero, ignoring!\n",
      "WARNING:trimesh:face_normals all zero, ignoring!\n",
      "WARNING:trimesh:face_normals all zero, ignoring!\n",
      "WARNING:trimesh:face_normals all zero, ignoring!\n",
      "WARNING:trimesh:face_normals all zero, ignoring!\n"
     ]
    },
    {
     "name": "stderr",
     "output_type": "stream",
     "text": [
      "WARNING:trimesh:face_normals all zero, ignoring!\n",
      "WARNING:trimesh:face_normals all zero, ignoring!\n",
      "WARNING:trimesh:face_normals all zero, ignoring!\n",
      "WARNING:trimesh:face_normals all zero, ignoring!\n",
      "WARNING:trimesh:face_normals all zero, ignoring!\n",
      "WARNING:trimesh:face_normals all zero, ignoring!\n",
      "WARNING:trimesh:face_normals all zero, ignoring!\n",
      "WARNING:trimesh:face_normals all zero, ignoring!\n",
      "WARNING:trimesh:face_normals all zero, ignoring!\n",
      "WARNING:trimesh:face_normals all zero, ignoring!\n",
      "WARNING:trimesh:face_normals all zero, ignoring!\n",
      "WARNING:trimesh:face_normals all zero, ignoring!\n",
      "WARNING:trimesh:face_normals all zero, ignoring!\n",
      "WARNING:trimesh:face_normals all zero, ignoring!\n",
      "WARNING:trimesh:face_normals all zero, ignoring!\n",
      "WARNING:trimesh:face_normals all zero, ignoring!\n",
      "WARNING:trimesh:face_normals all zero, ignoring!\n",
      "WARNING:trimesh:face_normals all zero, ignoring!\n",
      "WARNING:trimesh:face_normals all zero, ignoring!\n",
      "WARNING:trimesh:face_normals all zero, ignoring!\n"
     ]
    },
    {
     "name": "stdout",
     "output_type": "stream",
     "text": [
      "     Starting Calcification\n",
      "Before mesh subtraction number of skeleton edges = 2013\n",
      "Inside mesh subtraction, len(main_mesh_bbox_restricted.faces) = 115799\n"
     ]
    },
    {
     "data": {
      "application/vnd.jupyter.widget-view+json": {
       "model_id": "5abe4d5563de4ba286271aa7bdcaec2e",
       "version_major": 2,
       "version_minor": 0
      },
      "text/plain": [
       "HBox(children=(FloatProgress(value=1.0, bar_style='info', layout=Layout(width='20px'), max=1.0), HTML(value=''…"
      ]
     },
     "metadata": {},
     "output_type": "display_data"
    },
    {
     "name": "stdout",
     "output_type": "stream",
     "text": [
      "\n",
      "Total Mesh subtraction time = 25.2413\n"
     ]
    },
    {
     "data": {
      "application/vnd.jupyter.widget-view+json": {
       "model_id": "4846f2ce905a4d5f9d44f1bc741e131b",
       "version_major": 2,
       "version_minor": 0
      },
      "text/plain": [
       "HBox(children=(FloatProgress(value=0.0, max=123.0), HTML(value='')))"
      ]
     },
     "metadata": {},
     "output_type": "display_data"
    },
    {
     "name": "stdout",
     "output_type": "stream",
     "text": [
      "\n",
      "len_subgraphs AT BEGINNING of the loop\n"
     ]
    },
    {
     "data": {
      "application/vnd.jupyter.widget-view+json": {
       "model_id": "eb1b404c87e44a30ad52a1193f3028d2",
       "version_major": 2,
       "version_minor": 0
      },
      "text/plain": [
       "HBox(children=(FloatProgress(value=0.0, max=340.0), HTML(value='')))"
      ]
     },
     "metadata": {},
     "output_type": "display_data"
    },
    {
     "name": "stdout",
     "output_type": "stream",
     "text": [
      "all graph is one component!\n",
      "\n",
      "Total time for skeleton stitching = 0.5541954040527344\n",
      "The process was using a temp folder\n",
      "Using Distance measure skeletal_distance\n"
     ]
    },
    {
     "data": {
      "application/vnd.jupyter.widget-view+json": {
       "model_id": "6354d83414004f508f9db8dfbdef696a",
       "version_major": 2,
       "version_minor": 0
      },
      "text/plain": [
       "HBox(children=(FloatProgress(value=0.0, max=295.0), HTML(value='')))"
      ]
     },
     "metadata": {},
     "output_type": "display_data"
    },
    {
     "name": "stdout",
     "output_type": "stream",
     "text": [
      "\n",
      "    Total time for skeleton and cleaning of branch 2: 11.792634725570679\n",
      "\n",
      "    -- Working on branch 3--\n",
      "     Starting Screened Poisson\n",
      "IN INPUT FILE VALIDATION LOOP\n",
      "LEAVING LOOP, MESH VALIDATED\n",
      "Using port = 9746\n",
      "xvfb-run -n 9746 -s \"-screen 0 800x600x24\" meshlabserver $@  -i /notebooks/Platinum_Compartment/Axon/temp/None.off -o /notebooks/Platinum_Compartment/Axon/temp/None_poisson.off -s /notebooks/Platinum_Compartment/Axon/temp/poisson_46840.mls\n",
      "-----Time for Screened Poisson= 19.388997554779053\n"
     ]
    },
    {
     "name": "stderr",
     "output_type": "stream",
     "text": [
      "WARNING:trimesh:face_normals all zero, ignoring!\n",
      "WARNING:trimesh:face_normals all zero, ignoring!\n",
      "WARNING:trimesh:face_normals all zero, ignoring!\n",
      "WARNING:trimesh:face_normals all zero, ignoring!\n",
      "WARNING:trimesh:face_normals all zero, ignoring!\n",
      "WARNING:trimesh:face_normals all zero, ignoring!\n",
      "WARNING:trimesh:face_normals all zero, ignoring!\n",
      "WARNING:trimesh:face_normals all zero, ignoring!\n",
      "WARNING:trimesh:face_normals all zero, ignoring!\n",
      "WARNING:trimesh:face_normals all zero, ignoring!\n",
      "WARNING:trimesh:face_normals all zero, ignoring!\n",
      "WARNING:trimesh:face_normals all zero, ignoring!\n",
      "WARNING:trimesh:face_normals all zero, ignoring!\n",
      "WARNING:trimesh:face_normals all zero, ignoring!\n",
      "WARNING:trimesh:face_normals all zero, ignoring!\n",
      "WARNING:trimesh:face_normals all zero, ignoring!\n",
      "WARNING:trimesh:face_normals all zero, ignoring!\n",
      "WARNING:trimesh:face_normals all zero, ignoring!\n",
      "WARNING:trimesh:face_normals all zero, ignoring!\n",
      "WARNING:trimesh:face_normals all zero, ignoring!\n",
      "WARNING:trimesh:face_normals all zero, ignoring!\n",
      "WARNING:trimesh:face_normals all zero, ignoring!\n",
      "WARNING:trimesh:face_normals all zero, ignoring!\n",
      "WARNING:trimesh:face_normals all zero, ignoring!\n",
      "WARNING:trimesh:face_normals all zero, ignoring!\n",
      "WARNING:trimesh:face_normals all zero, ignoring!\n",
      "WARNING:trimesh:face_normals all zero, ignoring!\n",
      "WARNING:trimesh:face_normals all zero, ignoring!\n",
      "WARNING:trimesh:face_normals all zero, ignoring!\n",
      "WARNING:trimesh:face_normals all zero, ignoring!\n",
      "WARNING:trimesh:face_normals all zero, ignoring!\n",
      "WARNING:trimesh:face_normals all zero, ignoring!\n",
      "WARNING:trimesh:face_normals all zero, ignoring!\n",
      "WARNING:trimesh:face_normals all zero, ignoring!\n",
      "WARNING:trimesh:face_normals all zero, ignoring!\n",
      "WARNING:trimesh:face_normals all zero, ignoring!\n",
      "WARNING:trimesh:face_normals all zero, ignoring!\n",
      "WARNING:trimesh:face_normals all zero, ignoring!\n",
      "WARNING:trimesh:face_normals all zero, ignoring!\n",
      "WARNING:trimesh:face_normals all zero, ignoring!\n",
      "WARNING:trimesh:face_normals all zero, ignoring!\n",
      "WARNING:trimesh:face_normals all zero, ignoring!\n",
      "WARNING:trimesh:face_normals all zero, ignoring!\n",
      "WARNING:trimesh:face_normals all zero, ignoring!\n",
      "WARNING:trimesh:face_normals all zero, ignoring!\n",
      "WARNING:trimesh:face_normals all zero, ignoring!\n",
      "WARNING:trimesh:face_normals all zero, ignoring!\n",
      "WARNING:trimesh:face_normals all zero, ignoring!\n",
      "WARNING:trimesh:face_normals all zero, ignoring!\n",
      "WARNING:trimesh:face_normals all zero, ignoring!\n",
      "WARNING:trimesh:face_normals all zero, ignoring!\n",
      "WARNING:trimesh:face_normals all zero, ignoring!\n",
      "WARNING:trimesh:face_normals all zero, ignoring!\n",
      "WARNING:trimesh:face_normals all zero, ignoring!\n",
      "WARNING:trimesh:face_normals all zero, ignoring!\n",
      "WARNING:trimesh:face_normals all zero, ignoring!\n",
      "WARNING:trimesh:face_normals all zero, ignoring!\n",
      "WARNING:trimesh:face_normals all zero, ignoring!\n",
      "WARNING:trimesh:face_normals all zero, ignoring!\n",
      "WARNING:trimesh:face_normals all zero, ignoring!\n",
      "WARNING:trimesh:face_normals all zero, ignoring!\n"
     ]
    },
    {
     "name": "stdout",
     "output_type": "stream",
     "text": [
      "     Starting Calcification\n",
      "Before mesh subtraction number of skeleton edges = 1835\n",
      "Inside mesh subtraction, len(main_mesh_bbox_restricted.faces) = 114738\n"
     ]
    },
    {
     "data": {
      "application/vnd.jupyter.widget-view+json": {
       "model_id": "8c45d748e3fe4f1eb32a4ad4be86a0ee",
       "version_major": 2,
       "version_minor": 0
      },
      "text/plain": [
       "HBox(children=(FloatProgress(value=1.0, bar_style='info', layout=Layout(width='20px'), max=1.0), HTML(value=''…"
      ]
     },
     "metadata": {},
     "output_type": "display_data"
    },
    {
     "name": "stdout",
     "output_type": "stream",
     "text": [
      "\n",
      "Total Mesh subtraction time = 27.0226\n"
     ]
    },
    {
     "data": {
      "application/vnd.jupyter.widget-view+json": {
       "model_id": "1dea220ff43f460aa37f3a396318dbb1",
       "version_major": 2,
       "version_minor": 0
      },
      "text/plain": [
       "HBox(children=(FloatProgress(value=0.0, max=124.0), HTML(value='')))"
      ]
     },
     "metadata": {},
     "output_type": "display_data"
    },
    {
     "name": "stdout",
     "output_type": "stream",
     "text": [
      "\n",
      "len_subgraphs AT BEGINNING of the loop\n"
     ]
    },
    {
     "data": {
      "application/vnd.jupyter.widget-view+json": {
       "model_id": "70ac49707bd94258af90618c428a745b",
       "version_major": 2,
       "version_minor": 0
      },
      "text/plain": [
       "HBox(children=(FloatProgress(value=0.0, max=353.0), HTML(value='')))"
      ]
     },
     "metadata": {},
     "output_type": "display_data"
    },
    {
     "name": "stdout",
     "output_type": "stream",
     "text": [
      "all graph is one component!\n",
      "\n",
      "Total time for skeleton stitching = 0.5094151496887207\n",
      "The process was using a temp folder\n",
      "Using Distance measure skeletal_distance\n"
     ]
    },
    {
     "data": {
      "application/vnd.jupyter.widget-view+json": {
       "model_id": "fcb41b391f7c4a92a3cd058b21f3b795",
       "version_major": 2,
       "version_minor": 0
      },
      "text/plain": [
       "HBox(children=(FloatProgress(value=0.0, max=306.0), HTML(value='')))"
      ]
     },
     "metadata": {},
     "output_type": "display_data"
    },
    {
     "name": "stdout",
     "output_type": "stream",
     "text": [
      "\n",
      "    Total time for skeleton and cleaning of branch 3: 11.130557775497437\n",
      "\n",
      "    -- Working on branch 4--\n",
      "     Starting Screened Poisson\n",
      "IN INPUT FILE VALIDATION LOOP\n",
      "LEAVING LOOP, MESH VALIDATED\n",
      "Using port = 2592\n",
      "xvfb-run -n 2592 -s \"-screen 0 800x600x24\" meshlabserver $@  -i /notebooks/Platinum_Compartment/Axon/temp/None.off -o /notebooks/Platinum_Compartment/Axon/temp/None_poisson.off -s /notebooks/Platinum_Compartment/Axon/temp/poisson_912935.mls\n",
      "-----Time for Screened Poisson= 19.246270418167114\n"
     ]
    },
    {
     "name": "stderr",
     "output_type": "stream",
     "text": [
      "WARNING:trimesh:face_normals all zero, ignoring!\n",
      "WARNING:trimesh:face_normals all zero, ignoring!\n",
      "WARNING:trimesh:face_normals all zero, ignoring!\n",
      "WARNING:trimesh:face_normals all zero, ignoring!\n",
      "WARNING:trimesh:face_normals all zero, ignoring!\n",
      "WARNING:trimesh:face_normals all zero, ignoring!\n",
      "WARNING:trimesh:face_normals all zero, ignoring!\n",
      "WARNING:trimesh:face_normals all zero, ignoring!\n",
      "WARNING:trimesh:face_normals all zero, ignoring!\n",
      "WARNING:trimesh:face_normals all zero, ignoring!\n",
      "WARNING:trimesh:face_normals all zero, ignoring!\n",
      "WARNING:trimesh:face_normals all zero, ignoring!\n",
      "WARNING:trimesh:face_normals all zero, ignoring!\n",
      "WARNING:trimesh:face_normals all zero, ignoring!\n",
      "WARNING:trimesh:face_normals all zero, ignoring!\n",
      "WARNING:trimesh:face_normals all zero, ignoring!\n",
      "WARNING:trimesh:face_normals all zero, ignoring!\n",
      "WARNING:trimesh:face_normals all zero, ignoring!\n",
      "WARNING:trimesh:face_normals all zero, ignoring!\n",
      "WARNING:trimesh:face_normals all zero, ignoring!\n",
      "WARNING:trimesh:face_normals all zero, ignoring!\n",
      "WARNING:trimesh:face_normals all zero, ignoring!\n",
      "WARNING:trimesh:face_normals all zero, ignoring!\n",
      "WARNING:trimesh:face_normals all zero, ignoring!\n",
      "WARNING:trimesh:face_normals all zero, ignoring!\n",
      "WARNING:trimesh:face_normals all zero, ignoring!\n",
      "WARNING:trimesh:face_normals all zero, ignoring!\n",
      "WARNING:trimesh:face_normals all zero, ignoring!\n",
      "WARNING:trimesh:face_normals all zero, ignoring!\n",
      "WARNING:trimesh:face_normals all zero, ignoring!\n",
      "WARNING:trimesh:face_normals all zero, ignoring!\n",
      "WARNING:trimesh:face_normals all zero, ignoring!\n",
      "WARNING:trimesh:face_normals all zero, ignoring!\n",
      "WARNING:trimesh:face_normals all zero, ignoring!\n",
      "WARNING:trimesh:face_normals all zero, ignoring!\n",
      "WARNING:trimesh:face_normals all zero, ignoring!\n",
      "WARNING:trimesh:face_normals all zero, ignoring!\n",
      "WARNING:trimesh:face_normals all zero, ignoring!\n",
      "WARNING:trimesh:face_normals all zero, ignoring!\n",
      "WARNING:trimesh:face_normals all zero, ignoring!\n",
      "WARNING:trimesh:face_normals all zero, ignoring!\n",
      "WARNING:trimesh:face_normals all zero, ignoring!\n",
      "WARNING:trimesh:face_normals all zero, ignoring!\n",
      "WARNING:trimesh:face_normals all zero, ignoring!\n",
      "WARNING:trimesh:face_normals all zero, ignoring!\n",
      "WARNING:trimesh:face_normals all zero, ignoring!\n",
      "WARNING:trimesh:face_normals all zero, ignoring!\n",
      "WARNING:trimesh:face_normals all zero, ignoring!\n",
      "WARNING:trimesh:face_normals all zero, ignoring!\n",
      "WARNING:trimesh:face_normals all zero, ignoring!\n",
      "WARNING:trimesh:face_normals all zero, ignoring!\n",
      "WARNING:trimesh:face_normals all zero, ignoring!\n",
      "WARNING:trimesh:face_normals all zero, ignoring!\n",
      "WARNING:trimesh:face_normals all zero, ignoring!\n",
      "WARNING:trimesh:face_normals all zero, ignoring!\n",
      "WARNING:trimesh:face_normals all zero, ignoring!\n"
     ]
    },
    {
     "name": "stdout",
     "output_type": "stream",
     "text": [
      "     Starting Calcification\n",
      "Before mesh subtraction number of skeleton edges = 1726\n",
      "Inside mesh subtraction, len(main_mesh_bbox_restricted.faces) = 110120\n"
     ]
    },
    {
     "data": {
      "application/vnd.jupyter.widget-view+json": {
       "model_id": "3e9a1e0fead7493799152194a83e1114",
       "version_major": 2,
       "version_minor": 0
      },
      "text/plain": [
       "HBox(children=(FloatProgress(value=1.0, bar_style='info', layout=Layout(width='20px'), max=1.0), HTML(value=''…"
      ]
     },
     "metadata": {},
     "output_type": "display_data"
    },
    {
     "name": "stdout",
     "output_type": "stream",
     "text": [
      "\n",
      "Total Mesh subtraction time = 25.7934\n"
     ]
    },
    {
     "data": {
      "application/vnd.jupyter.widget-view+json": {
       "model_id": "bfab1fb8b5db4b2b9ab1930225195876",
       "version_major": 2,
       "version_minor": 0
      },
      "text/plain": [
       "HBox(children=(FloatProgress(value=0.0, max=90.0), HTML(value='')))"
      ]
     },
     "metadata": {},
     "output_type": "display_data"
    },
    {
     "name": "stdout",
     "output_type": "stream",
     "text": [
      "\n",
      "len_subgraphs AT BEGINNING of the loop\n"
     ]
    },
    {
     "data": {
      "application/vnd.jupyter.widget-view+json": {
       "model_id": "7d7e2804b9eb4f9bb765720cb2101093",
       "version_major": 2,
       "version_minor": 0
      },
      "text/plain": [
       "HBox(children=(FloatProgress(value=0.0, max=327.0), HTML(value='')))"
      ]
     },
     "metadata": {},
     "output_type": "display_data"
    },
    {
     "name": "stdout",
     "output_type": "stream",
     "text": [
      "all graph is one component!\n",
      "\n",
      "Total time for skeleton stitching = 0.4493100643157959\n",
      "The process was using a temp folder\n",
      "Using Distance measure skeletal_distance\n"
     ]
    },
    {
     "data": {
      "application/vnd.jupyter.widget-view+json": {
       "model_id": "b0b8f73489e54050b11602aa9ba0304f",
       "version_major": 2,
       "version_minor": 0
      },
      "text/plain": [
       "HBox(children=(FloatProgress(value=0.0, max=290.0), HTML(value='')))"
      ]
     },
     "metadata": {},
     "output_type": "display_data"
    },
    {
     "name": "stdout",
     "output_type": "stream",
     "text": [
      "\n",
      "    Total time for skeleton and cleaning of branch 4: 10.699517726898193\n",
      "\n",
      "    -- Working on branch 5--\n",
      "     Starting Screened Poisson\n",
      "IN INPUT FILE VALIDATION LOOP\n",
      "LEAVING LOOP, MESH VALIDATED\n",
      "Using port = 7239\n",
      "xvfb-run -n 7239 -s \"-screen 0 800x600x24\" meshlabserver $@  -i /notebooks/Platinum_Compartment/Axon/temp/None.off -o /notebooks/Platinum_Compartment/Axon/temp/None_poisson.off -s /notebooks/Platinum_Compartment/Axon/temp/poisson_780741.mls\n",
      "-----Time for Screened Poisson= 17.20845675468445\n"
     ]
    },
    {
     "name": "stderr",
     "output_type": "stream",
     "text": [
      "WARNING:trimesh:face_normals all zero, ignoring!\n",
      "WARNING:trimesh:face_normals all zero, ignoring!\n",
      "WARNING:trimesh:face_normals all zero, ignoring!\n",
      "WARNING:trimesh:face_normals all zero, ignoring!\n",
      "WARNING:trimesh:face_normals all zero, ignoring!\n",
      "WARNING:trimesh:face_normals all zero, ignoring!\n",
      "WARNING:trimesh:face_normals all zero, ignoring!\n",
      "WARNING:trimesh:face_normals all zero, ignoring!\n",
      "WARNING:trimesh:face_normals all zero, ignoring!\n",
      "WARNING:trimesh:face_normals all zero, ignoring!\n",
      "WARNING:trimesh:face_normals all zero, ignoring!\n",
      "WARNING:trimesh:face_normals all zero, ignoring!\n",
      "WARNING:trimesh:face_normals all zero, ignoring!\n",
      "WARNING:trimesh:face_normals all zero, ignoring!\n",
      "WARNING:trimesh:face_normals all zero, ignoring!\n",
      "WARNING:trimesh:face_normals all zero, ignoring!\n",
      "WARNING:trimesh:face_normals all zero, ignoring!\n",
      "WARNING:trimesh:face_normals all zero, ignoring!\n",
      "WARNING:trimesh:face_normals all zero, ignoring!\n",
      "WARNING:trimesh:face_normals all zero, ignoring!\n",
      "WARNING:trimesh:face_normals all zero, ignoring!\n",
      "WARNING:trimesh:face_normals all zero, ignoring!\n",
      "WARNING:trimesh:face_normals all zero, ignoring!\n",
      "WARNING:trimesh:face_normals all zero, ignoring!\n",
      "WARNING:trimesh:face_normals all zero, ignoring!\n",
      "WARNING:trimesh:face_normals all zero, ignoring!\n",
      "WARNING:trimesh:face_normals all zero, ignoring!\n",
      "WARNING:trimesh:face_normals all zero, ignoring!\n",
      "WARNING:trimesh:face_normals all zero, ignoring!\n",
      "WARNING:trimesh:face_normals all zero, ignoring!\n",
      "WARNING:trimesh:face_normals all zero, ignoring!\n",
      "WARNING:trimesh:face_normals all zero, ignoring!\n",
      "WARNING:trimesh:face_normals all zero, ignoring!\n",
      "WARNING:trimesh:face_normals all zero, ignoring!\n",
      "WARNING:trimesh:face_normals all zero, ignoring!\n",
      "WARNING:trimesh:face_normals all zero, ignoring!\n",
      "WARNING:trimesh:face_normals all zero, ignoring!\n",
      "WARNING:trimesh:face_normals all zero, ignoring!\n",
      "WARNING:trimesh:face_normals all zero, ignoring!\n",
      "WARNING:trimesh:face_normals all zero, ignoring!\n",
      "WARNING:trimesh:face_normals all zero, ignoring!\n",
      "WARNING:trimesh:face_normals all zero, ignoring!\n",
      "WARNING:trimesh:face_normals all zero, ignoring!\n",
      "WARNING:trimesh:face_normals all zero, ignoring!\n",
      "WARNING:trimesh:face_normals all zero, ignoring!\n",
      "WARNING:trimesh:face_normals all zero, ignoring!\n",
      "WARNING:trimesh:face_normals all zero, ignoring!\n",
      "WARNING:trimesh:face_normals all zero, ignoring!\n",
      "WARNING:trimesh:face_normals all zero, ignoring!\n"
     ]
    },
    {
     "name": "stdout",
     "output_type": "stream",
     "text": [
      "     Starting Calcification\n",
      "Before mesh subtraction number of skeleton edges = 1291\n",
      "Inside mesh subtraction, len(main_mesh_bbox_restricted.faces) = 104070\n"
     ]
    },
    {
     "data": {
      "application/vnd.jupyter.widget-view+json": {
       "model_id": "c7011c92767d45a794ecafec93d4f672",
       "version_major": 2,
       "version_minor": 0
      },
      "text/plain": [
       "HBox(children=(FloatProgress(value=1.0, bar_style='info', layout=Layout(width='20px'), max=1.0), HTML(value=''…"
      ]
     },
     "metadata": {},
     "output_type": "display_data"
    },
    {
     "name": "stdout",
     "output_type": "stream",
     "text": [
      "\n",
      "Total Mesh subtraction time = 17.9715\n"
     ]
    },
    {
     "data": {
      "application/vnd.jupyter.widget-view+json": {
       "model_id": "5960a1a0a8644ac6b23d55e7f120f1ec",
       "version_major": 2,
       "version_minor": 0
      },
      "text/plain": [
       "HBox(children=(FloatProgress(value=0.0, max=55.0), HTML(value='')))"
      ]
     },
     "metadata": {},
     "output_type": "display_data"
    },
    {
     "name": "stdout",
     "output_type": "stream",
     "text": [
      "\n",
      "len_subgraphs AT BEGINNING of the loop\n"
     ]
    },
    {
     "data": {
      "application/vnd.jupyter.widget-view+json": {
       "model_id": "4b0b6388a7ba433ab0e098681bf89f1f",
       "version_major": 2,
       "version_minor": 0
      },
      "text/plain": [
       "HBox(children=(FloatProgress(value=0.0, max=178.0), HTML(value='')))"
      ]
     },
     "metadata": {},
     "output_type": "display_data"
    },
    {
     "name": "stdout",
     "output_type": "stream",
     "text": [
      "all graph is one component!\n",
      "\n",
      "Total time for skeleton stitching = 0.211822509765625\n",
      "The process was using a temp folder\n",
      "Using Distance measure skeletal_distance\n"
     ]
    },
    {
     "data": {
      "application/vnd.jupyter.widget-view+json": {
       "model_id": "a1f6520f3c644edd80d70f97062b84da",
       "version_major": 2,
       "version_minor": 0
      },
      "text/plain": [
       "HBox(children=(FloatProgress(value=0.0, max=206.0), HTML(value='')))"
      ]
     },
     "metadata": {},
     "output_type": "display_data"
    },
    {
     "name": "stdout",
     "output_type": "stream",
     "text": [
      "\n",
      "    Total time for skeleton and cleaning of branch 5: 4.876374006271362\n",
      "\n",
      "    -- Working on branch 6--\n",
      "     Starting Screened Poisson\n",
      "IN INPUT FILE VALIDATION LOOP\n",
      "LEAVING LOOP, MESH VALIDATED\n",
      "Using port = 4432\n",
      "xvfb-run -n 4432 -s \"-screen 0 800x600x24\" meshlabserver $@  -i /notebooks/Platinum_Compartment/Axon/temp/None.off -o /notebooks/Platinum_Compartment/Axon/temp/None_poisson.off -s /notebooks/Platinum_Compartment/Axon/temp/poisson_580247.mls\n"
     ]
    },
    {
     "name": "stderr",
     "output_type": "stream",
     "text": [
      "WARNING:trimesh:face_normals all zero, ignoring!\n",
      "WARNING:trimesh:face_normals all zero, ignoring!\n",
      "WARNING:trimesh:face_normals all zero, ignoring!\n",
      "WARNING:trimesh:face_normals all zero, ignoring!\n"
     ]
    },
    {
     "name": "stdout",
     "output_type": "stream",
     "text": [
      "-----Time for Screened Poisson= 13.264958143234253\n"
     ]
    },
    {
     "name": "stderr",
     "output_type": "stream",
     "text": [
      "WARNING:trimesh:face_normals all zero, ignoring!\n",
      "WARNING:trimesh:face_normals all zero, ignoring!\n",
      "WARNING:trimesh:face_normals all zero, ignoring!\n",
      "WARNING:trimesh:face_normals all zero, ignoring!\n",
      "WARNING:trimesh:face_normals all zero, ignoring!\n",
      "WARNING:trimesh:face_normals all zero, ignoring!\n",
      "WARNING:trimesh:face_normals all zero, ignoring!\n",
      "WARNING:trimesh:face_normals all zero, ignoring!\n",
      "WARNING:trimesh:face_normals all zero, ignoring!\n",
      "WARNING:trimesh:face_normals all zero, ignoring!\n"
     ]
    },
    {
     "name": "stdout",
     "output_type": "stream",
     "text": [
      "     Starting Calcification\n",
      "Before mesh subtraction number of skeleton edges = 1079\n",
      "Inside mesh subtraction, len(main_mesh_bbox_restricted.faces) = 58765\n"
     ]
    },
    {
     "data": {
      "application/vnd.jupyter.widget-view+json": {
       "model_id": "c3d6d8a7538645faa4318c2bfb500f21",
       "version_major": 2,
       "version_minor": 0
      },
      "text/plain": [
       "HBox(children=(FloatProgress(value=1.0, bar_style='info', layout=Layout(width='20px'), max=1.0), HTML(value=''…"
      ]
     },
     "metadata": {},
     "output_type": "display_data"
    },
    {
     "name": "stdout",
     "output_type": "stream",
     "text": [
      "\n",
      "Total Mesh subtraction time = 13.4892\n"
     ]
    },
    {
     "data": {
      "application/vnd.jupyter.widget-view+json": {
       "model_id": "39afa98be0f244a8a5f9f741b6e4cb76",
       "version_major": 2,
       "version_minor": 0
      },
      "text/plain": [
       "HBox(children=(FloatProgress(value=0.0, max=57.0), HTML(value='')))"
      ]
     },
     "metadata": {},
     "output_type": "display_data"
    },
    {
     "name": "stdout",
     "output_type": "stream",
     "text": [
      "\n",
      "len_subgraphs AT BEGINNING of the loop\n"
     ]
    },
    {
     "data": {
      "application/vnd.jupyter.widget-view+json": {
       "model_id": "e021881a95584c71a70773bf09c9eac4",
       "version_major": 2,
       "version_minor": 0
      },
      "text/plain": [
       "HBox(children=(FloatProgress(value=0.0, max=182.0), HTML(value='')))"
      ]
     },
     "metadata": {},
     "output_type": "display_data"
    },
    {
     "name": "stdout",
     "output_type": "stream",
     "text": [
      "all graph is one component!\n",
      "\n",
      "Total time for skeleton stitching = 0.19881176948547363\n",
      "The process was using a temp folder\n",
      "Using Distance measure skeletal_distance\n"
     ]
    },
    {
     "data": {
      "application/vnd.jupyter.widget-view+json": {
       "model_id": "15274ee1194a40ffb10a4e29eac03e21",
       "version_major": 2,
       "version_minor": 0
      },
      "text/plain": [
       "HBox(children=(FloatProgress(value=0.0, max=172.0), HTML(value='')))"
      ]
     },
     "metadata": {},
     "output_type": "display_data"
    },
    {
     "name": "stdout",
     "output_type": "stream",
     "text": [
      "\n",
      "    Total time for skeleton and cleaning of branch 6: 3.6203432083129883\n",
      "\n",
      "    -- Working on branch 7--\n",
      "     Starting Screened Poisson\n",
      "IN INPUT FILE VALIDATION LOOP\n",
      "LEAVING LOOP, MESH VALIDATED\n",
      "Using port = 194\n",
      "xvfb-run -n 194 -s \"-screen 0 800x600x24\" meshlabserver $@  -i /notebooks/Platinum_Compartment/Axon/temp/None.off -o /notebooks/Platinum_Compartment/Axon/temp/None_poisson.off -s /notebooks/Platinum_Compartment/Axon/temp/poisson_90766.mls\n",
      "-----Time for Screened Poisson= 15.13552188873291\n"
     ]
    },
    {
     "name": "stderr",
     "output_type": "stream",
     "text": [
      "WARNING:trimesh:face_normals all zero, ignoring!\n",
      "WARNING:trimesh:face_normals all zero, ignoring!\n",
      "WARNING:trimesh:face_normals all zero, ignoring!\n",
      "WARNING:trimesh:face_normals all zero, ignoring!\n",
      "WARNING:trimesh:face_normals all zero, ignoring!\n",
      "WARNING:trimesh:face_normals all zero, ignoring!\n",
      "WARNING:trimesh:face_normals all zero, ignoring!\n",
      "WARNING:trimesh:face_normals all zero, ignoring!\n",
      "WARNING:trimesh:face_normals all zero, ignoring!\n",
      "WARNING:trimesh:face_normals all zero, ignoring!\n",
      "WARNING:trimesh:face_normals all zero, ignoring!\n",
      "WARNING:trimesh:face_normals all zero, ignoring!\n",
      "WARNING:trimesh:face_normals all zero, ignoring!\n",
      "WARNING:trimesh:face_normals all zero, ignoring!\n",
      "WARNING:trimesh:face_normals all zero, ignoring!\n",
      "WARNING:trimesh:face_normals all zero, ignoring!\n",
      "WARNING:trimesh:face_normals all zero, ignoring!\n",
      "WARNING:trimesh:face_normals all zero, ignoring!\n",
      "WARNING:trimesh:face_normals all zero, ignoring!\n",
      "WARNING:trimesh:face_normals all zero, ignoring!\n",
      "WARNING:trimesh:face_normals all zero, ignoring!\n",
      "WARNING:trimesh:face_normals all zero, ignoring!\n",
      "WARNING:trimesh:face_normals all zero, ignoring!\n",
      "WARNING:trimesh:face_normals all zero, ignoring!\n",
      "WARNING:trimesh:face_normals all zero, ignoring!\n",
      "WARNING:trimesh:face_normals all zero, ignoring!\n",
      "WARNING:trimesh:face_normals all zero, ignoring!\n",
      "WARNING:trimesh:face_normals all zero, ignoring!\n",
      "WARNING:trimesh:face_normals all zero, ignoring!\n",
      "WARNING:trimesh:face_normals all zero, ignoring!\n",
      "WARNING:trimesh:face_normals all zero, ignoring!\n",
      "WARNING:trimesh:face_normals all zero, ignoring!\n",
      "WARNING:trimesh:face_normals all zero, ignoring!\n",
      "WARNING:trimesh:face_normals all zero, ignoring!\n",
      "WARNING:trimesh:face_normals all zero, ignoring!\n",
      "WARNING:trimesh:face_normals all zero, ignoring!\n",
      "WARNING:trimesh:face_normals all zero, ignoring!\n",
      "WARNING:trimesh:face_normals all zero, ignoring!\n"
     ]
    },
    {
     "name": "stdout",
     "output_type": "stream",
     "text": [
      "     Starting Calcification\n",
      "Before mesh subtraction number of skeleton edges = 1157\n",
      "Inside mesh subtraction, len(main_mesh_bbox_restricted.faces) = 58576\n"
     ]
    },
    {
     "data": {
      "application/vnd.jupyter.widget-view+json": {
       "model_id": "0fcb081ff3d04511b35060136aa3a0b6",
       "version_major": 2,
       "version_minor": 0
      },
      "text/plain": [
       "HBox(children=(FloatProgress(value=1.0, bar_style='info', layout=Layout(width='20px'), max=1.0), HTML(value=''…"
      ]
     },
     "metadata": {},
     "output_type": "display_data"
    },
    {
     "name": "stdout",
     "output_type": "stream",
     "text": [
      "\n",
      "Total Mesh subtraction time = 14.8207\n"
     ]
    },
    {
     "data": {
      "application/vnd.jupyter.widget-view+json": {
       "model_id": "110e66f03f0040f08f75033cbb8a688c",
       "version_major": 2,
       "version_minor": 0
      },
      "text/plain": [
       "HBox(children=(FloatProgress(value=0.0, max=47.0), HTML(value='')))"
      ]
     },
     "metadata": {},
     "output_type": "display_data"
    },
    {
     "name": "stdout",
     "output_type": "stream",
     "text": [
      "\n",
      "len_subgraphs AT BEGINNING of the loop\n"
     ]
    },
    {
     "data": {
      "application/vnd.jupyter.widget-view+json": {
       "model_id": "18a247243b4a4301a77399d4c45958ac",
       "version_major": 2,
       "version_minor": 0
      },
      "text/plain": [
       "HBox(children=(FloatProgress(value=0.0, max=192.0), HTML(value='')))"
      ]
     },
     "metadata": {},
     "output_type": "display_data"
    },
    {
     "name": "stdout",
     "output_type": "stream",
     "text": [
      "all graph is one component!\n",
      "\n",
      "Total time for skeleton stitching = 0.6014804840087891\n",
      "The process was using a temp folder\n",
      "Using Distance measure skeletal_distance\n"
     ]
    },
    {
     "data": {
      "application/vnd.jupyter.widget-view+json": {
       "model_id": "722d2b7e333243ef88b9d2b4bc4f688b",
       "version_major": 2,
       "version_minor": 0
      },
      "text/plain": [
       "HBox(children=(FloatProgress(value=0.0, max=184.0), HTML(value='')))"
      ]
     },
     "metadata": {},
     "output_type": "display_data"
    },
    {
     "name": "stdout",
     "output_type": "stream",
     "text": [
      "\n",
      "    Total time for skeleton and cleaning of branch 7: 4.02710747718811\n",
      "\n",
      "    -- Working on branch 8--\n",
      "     Starting Screened Poisson\n",
      "IN INPUT FILE VALIDATION LOOP\n",
      "LEAVING LOOP, MESH VALIDATED\n",
      "Using port = 5079\n",
      "xvfb-run -n 5079 -s \"-screen 0 800x600x24\" meshlabserver $@  -i /notebooks/Platinum_Compartment/Axon/temp/None.off -o /notebooks/Platinum_Compartment/Axon/temp/None_poisson.off -s /notebooks/Platinum_Compartment/Axon/temp/poisson_155384.mls\n"
     ]
    },
    {
     "name": "stderr",
     "output_type": "stream",
     "text": [
      "WARNING:trimesh:face_normals all zero, ignoring!\n",
      "WARNING:trimesh:face_normals all zero, ignoring!\n",
      "WARNING:trimesh:face_normals all zero, ignoring!\n",
      "WARNING:trimesh:face_normals all zero, ignoring!\n",
      "WARNING:trimesh:face_normals all zero, ignoring!\n",
      "WARNING:trimesh:face_normals all zero, ignoring!\n",
      "WARNING:trimesh:face_normals all zero, ignoring!\n",
      "WARNING:trimesh:face_normals all zero, ignoring!\n",
      "WARNING:trimesh:face_normals all zero, ignoring!\n",
      "WARNING:trimesh:face_normals all zero, ignoring!\n"
     ]
    },
    {
     "name": "stdout",
     "output_type": "stream",
     "text": [
      "-----Time for Screened Poisson= 8.894269704818726\n",
      "     Starting Calcification\n",
      "Before mesh subtraction number of skeleton edges = 548\n",
      "Inside mesh subtraction, len(main_mesh_bbox_restricted.faces) = 29598\n"
     ]
    },
    {
     "data": {
      "application/vnd.jupyter.widget-view+json": {
       "model_id": "3b1be003b9fe48348143cf05124fd645",
       "version_major": 2,
       "version_minor": 0
      },
      "text/plain": [
       "HBox(children=(FloatProgress(value=1.0, bar_style='info', layout=Layout(width='20px'), max=1.0), HTML(value=''…"
      ]
     },
     "metadata": {},
     "output_type": "display_data"
    },
    {
     "name": "stdout",
     "output_type": "stream",
     "text": [
      "\n",
      "Total Mesh subtraction time = 6.5507\n"
     ]
    },
    {
     "data": {
      "application/vnd.jupyter.widget-view+json": {
       "model_id": "4f15cfcb93d54eeab911500881ade66d",
       "version_major": 2,
       "version_minor": 0
      },
      "text/plain": [
       "HBox(children=(FloatProgress(value=0.0, max=35.0), HTML(value='')))"
      ]
     },
     "metadata": {},
     "output_type": "display_data"
    },
    {
     "name": "stdout",
     "output_type": "stream",
     "text": [
      "\n",
      "len_subgraphs AT BEGINNING of the loop\n"
     ]
    },
    {
     "data": {
      "application/vnd.jupyter.widget-view+json": {
       "model_id": "1ab0301bb1be45d5a1136597d147bc7e",
       "version_major": 2,
       "version_minor": 0
      },
      "text/plain": [
       "HBox(children=(FloatProgress(value=0.0, max=92.0), HTML(value='')))"
      ]
     },
     "metadata": {},
     "output_type": "display_data"
    },
    {
     "name": "stdout",
     "output_type": "stream",
     "text": [
      "all graph is one component!\n",
      "\n",
      "Total time for skeleton stitching = 0.09840226173400879\n",
      "The process was using a temp folder\n",
      "Using Distance measure skeletal_distance\n"
     ]
    },
    {
     "data": {
      "application/vnd.jupyter.widget-view+json": {
       "model_id": "de58ccabafef4f32bb167f1208c387eb",
       "version_major": 2,
       "version_minor": 0
      },
      "text/plain": [
       "HBox(children=(FloatProgress(value=0.0, max=80.0), HTML(value='')))"
      ]
     },
     "metadata": {},
     "output_type": "display_data"
    },
    {
     "name": "stdout",
     "output_type": "stream",
     "text": [
      "\n",
      "    Total time for skeleton and cleaning of branch 8: 0.9514153003692627\n",
      "\n",
      "    -- Working on branch 9--\n",
      "     Starting Screened Poisson\n",
      "IN INPUT FILE VALIDATION LOOP\n",
      "LEAVING LOOP, MESH VALIDATED\n",
      "Using port = 9795\n",
      "xvfb-run -n 9795 -s \"-screen 0 800x600x24\" meshlabserver $@  -i /notebooks/Platinum_Compartment/Axon/temp/None.off -o /notebooks/Platinum_Compartment/Axon/temp/None_poisson.off -s /notebooks/Platinum_Compartment/Axon/temp/poisson_107871.mls\n"
     ]
    },
    {
     "name": "stderr",
     "output_type": "stream",
     "text": [
      "WARNING:trimesh:face_normals all zero, ignoring!\n",
      "WARNING:trimesh:face_normals all zero, ignoring!\n",
      "WARNING:trimesh:face_normals all zero, ignoring!\n"
     ]
    },
    {
     "name": "stdout",
     "output_type": "stream",
     "text": [
      "-----Time for Screened Poisson= 5.300022602081299\n",
      "     Starting Calcification\n",
      "file /notebooks/Platinum_Compartment/Axon/temp/None_0_skeleton.cgal not found so skipping\n",
      "No skeletons to stack so returning empty list\n",
      "No recorded skeleton so skiipping to surface skeletonization\n"
     ]
    },
    {
     "data": {
      "application/vnd.jupyter.widget-view+json": {
       "model_id": "de6846fb21974940bd8eaa4b4c4eab98",
       "version_major": 2,
       "version_minor": 0
      },
      "text/plain": [
       "HBox(children=(FloatProgress(value=0.0, max=1.0), HTML(value='')))"
      ]
     },
     "metadata": {},
     "output_type": "display_data"
    },
    {
     "name": "stdout",
     "output_type": "stream",
     "text": [
      "\n",
      "len_subgraphs AT BEGINNING of the loop\n"
     ]
    },
    {
     "data": {
      "application/vnd.jupyter.widget-view+json": {
       "model_id": "912789edb3f946edac48cc82a05333e7",
       "version_major": 2,
       "version_minor": 0
      },
      "text/plain": [
       "HBox(children=(FloatProgress(value=0.0, max=1.0), HTML(value='')))"
      ]
     },
     "metadata": {},
     "output_type": "display_data"
    },
    {
     "name": "stdout",
     "output_type": "stream",
     "text": [
      "all graph is one component!\n",
      "\n",
      "Total time for skeleton stitching = 0.0219266414642334\n",
      "The process was using a temp folder\n",
      "Using Distance measure skeletal_distance\n",
      "no small end nodes to get rid of so returning whole skeleton\n",
      "    Total time for skeleton and cleaning of branch 9: 0.004214048385620117\n",
      "Total time for skeletonization = 659.9710164070129\n",
      "\n",
      "\n",
      "\n",
      "\n",
      "\n",
      "****** Phase B ***************\n",
      "\n",
      "\n",
      "\n",
      "\n",
      "\n",
      "\n",
      "---- Working on Limb 0 ----\n",
      "before cleaning limb size of skeleton = (4060, 2, 3)\n",
      "Using Distance measure skeletal_distance\n",
      "no small end nodes to get rid of so returning whole skeleton\n",
      "after DISTANCE cleaning limb size of skeleton = (4060, 2, 3)\n",
      "high-degree endpoints were connected so just using that connection\n",
      "curr_branch = {2541}\n",
      "After DECOMPOSITION cleaning limb size of skeleton = (4058, 2, 3)\n",
      "Total time = 3.38370418548584\n",
      "\n",
      "---- Working on Limb 1 ----\n",
      "before cleaning limb size of skeleton = (2974, 2, 3)\n",
      "Using Distance measure skeletal_distance\n",
      "no small end nodes to get rid of so returning whole skeleton\n",
      "after DISTANCE cleaning limb size of skeleton = (2974, 2, 3)\n",
      "high-degree endpoints were connected so just using that connection\n",
      "curr_branch = {2206}\n",
      "high-degree endpoints were connected so just using that connection\n",
      "curr_branch = {2610, 2611.0, 2612.0}\n",
      "After DECOMPOSITION cleaning limb size of skeleton = (2968, 2, 3)\n",
      "Total time = 1.6183621883392334\n",
      "\n",
      "---- Working on Limb 2 ----\n",
      "before cleaning limb size of skeleton = (2503, 2, 3)\n",
      "Using Distance measure skeletal_distance\n",
      "no small end nodes to get rid of so returning whole skeleton\n",
      "after DISTANCE cleaning limb size of skeleton = (2503, 2, 3)\n",
      "high-degree endpoints were connected so just using that connection\n",
      "curr_branch = {1048, 1060.0, 1053.0}\n",
      "After DECOMPOSITION cleaning limb size of skeleton = (2499, 2, 3)\n",
      "Total time = 1.4266445636749268\n",
      "\n",
      "---- Working on Limb 3 ----\n",
      "before cleaning limb size of skeleton = (2036, 2, 3)\n",
      "Using Distance measure skeletal_distance\n",
      "no small end nodes to get rid of so returning whole skeleton\n",
      "after DISTANCE cleaning limb size of skeleton = (2036, 2, 3)\n",
      "high-degree endpoints were connected so just using that connection\n",
      "curr_branch = {1503}\n",
      "After DECOMPOSITION cleaning limb size of skeleton = (2034, 2, 3)\n",
      "Total time = 0.9951927661895752\n",
      "\n",
      "---- Working on Limb 4 ----\n",
      "before cleaning limb size of skeleton = (1871, 2, 3)\n",
      "Using Distance measure skeletal_distance\n",
      "no small end nodes to get rid of so returning whole skeleton\n",
      "after DISTANCE cleaning limb size of skeleton = (1871, 2, 3)\n",
      "After DECOMPOSITION cleaning limb size of skeleton = (1871, 2, 3)\n",
      "Total time = 0.9358525276184082\n",
      "\n",
      "---- Working on Limb 5 ----\n",
      "before cleaning limb size of skeleton = (1101, 2, 3)\n",
      "Using Distance measure skeletal_distance\n",
      "no small end nodes to get rid of so returning whole skeleton\n",
      "after DISTANCE cleaning limb size of skeleton = (1101, 2, 3)\n",
      "After DECOMPOSITION cleaning limb size of skeleton = (1101, 2, 3)\n",
      "Total time = 0.6506376266479492\n",
      "\n",
      "---- Working on Limb 6 ----\n",
      "before cleaning limb size of skeleton = (1019, 2, 3)\n",
      "Using Distance measure skeletal_distance\n",
      "no small end nodes to get rid of so returning whole skeleton\n",
      "after DISTANCE cleaning limb size of skeleton = (1019, 2, 3)\n",
      "After DECOMPOSITION cleaning limb size of skeleton = (1019, 2, 3)\n",
      "Total time = 0.45235323905944824\n",
      "\n",
      "---- Working on Limb 7 ----\n",
      "before cleaning limb size of skeleton = (1022, 2, 3)\n",
      "Using Distance measure skeletal_distance\n",
      "no small end nodes to get rid of so returning whole skeleton\n",
      "after DISTANCE cleaning limb size of skeleton = (1022, 2, 3)\n",
      "high-degree endpoints were connected so just using that connection\n",
      "curr_branch = {746, 749.0}\n",
      "After DECOMPOSITION cleaning limb size of skeleton = (1019, 2, 3)\n",
      "Total time = 0.4555628299713135\n",
      "\n",
      "---- Working on Limb 8 ----\n",
      "before cleaning limb size of skeleton = (664, 2, 3)\n",
      "Using Distance measure skeletal_distance\n",
      "no small end nodes to get rid of so returning whole skeleton\n",
      "after DISTANCE cleaning limb size of skeleton = (664, 2, 3)\n",
      "After DECOMPOSITION cleaning limb size of skeleton = (664, 2, 3)\n",
      "Total time = 0.29736328125\n",
      "\n",
      "---- Working on Limb 9 ----\n",
      "before cleaning limb size of skeleton = (33, 2, 3)\n",
      "Using Distance measure skeletal_distance\n",
      "no small end nodes to get rid of so returning whole skeleton\n",
      "after DISTANCE cleaning limb size of skeleton = (33, 2, 3)\n",
      "After DECOMPOSITION cleaning limb size of skeleton = (33, 2, 3)\n",
      "Total time = 0.019855260848999023\n",
      "Saved object at /notebooks/Platinum_Compartment/Axon/branch_skeletons_cleaned.pbz2\n",
      "File size is 0.209087 MB\n",
      "Working on limb #0\n",
      "--> Not exactly one containing mesh: []\n",
      "--> Not exactly one containing mesh: []\n",
      "--> Not exactly one containing mesh: []\n",
      "--> Not exactly one containing mesh: []\n",
      "--> Not exactly one containing mesh: []\n",
      "--> Not exactly one containing mesh: []\n",
      "--> Not exactly one containing mesh: []\n",
      "--> Not exactly one containing mesh: []\n",
      "--> Not exactly one containing mesh: [0 1]\n",
      "--> Not exactly one containing mesh: []\n",
      "--> Not exactly one containing mesh: []\n",
      "--> Not exactly one containing mesh: []\n",
      "--> Not exactly one containing mesh: []\n",
      "--> Not exactly one containing mesh: []\n",
      "--> Not exactly one containing mesh: []\n",
      "--> Not exactly one containing mesh: []\n",
      "--> Not exactly one containing mesh: []\n",
      "--> Not exactly one containing mesh: []\n",
      "--> Not exactly one containing mesh: []\n",
      "--> Not exactly one containing mesh: []\n",
      "--> Not exactly one containing mesh: []\n",
      "THERE WERE NO FACES THAT FIT THE DISTANCE (402.14714453868737) and Z transform requirements\n",
      "So just skipping this edge\n",
      "--> Not exactly one containing mesh: []\n",
      "--> Not exactly one containing mesh: []\n",
      "--> Not exactly one containing mesh: []\n",
      "--> Not exactly one containing mesh: []\n",
      "--> Not exactly one containing mesh: []\n",
      "--> Not exactly one containing mesh: []\n",
      "--> Not exactly one containing mesh: []\n",
      "--> Not exactly one containing mesh: []\n",
      "--> Not exactly one containing mesh: []\n",
      "--> Not exactly one containing mesh: []\n",
      "--> Not exactly one containing mesh: []\n",
      "--> Not exactly one containing mesh: []\n",
      "THERE WERE NO FACES THAT FIT THE DISTANCE (265.8150997503343) and Z transform requirements\n",
      "So just skipping this edge\n",
      "THERE WERE NO FACES THAT FIT THE DISTANCE (265.8150997503343) and Z transform requirements\n",
      "So just skipping this edge\n",
      "--> Not exactly one containing mesh: []\n",
      "--> Not exactly one containing mesh: []\n",
      "--> Not exactly one containing mesh: []\n",
      "--> Not exactly one containing mesh: []\n",
      "THERE WERE NO FACES THAT FIT THE DISTANCE (567.5052555407801) and Z transform requirements\n",
      "So just skipping this edge\n",
      "THERE WERE NO FACES THAT FIT THE DISTANCE (567.5052555407801) and Z transform requirements\n",
      "So just skipping this edge\n",
      "--> Not exactly one containing mesh: []\n",
      "--> Not exactly one containing mesh: []\n",
      "--> Not exactly one containing mesh: []\n",
      "--> Not exactly one containing mesh: []\n",
      "--> Not exactly one containing mesh: []\n",
      "--> Not exactly one containing mesh: []\n",
      "--> Not exactly one containing mesh: [0 1]\n",
      "--> Not exactly one containing mesh: []\n",
      "--> Not exactly one containing mesh: []\n",
      "--> Not exactly one containing mesh: []\n",
      "--> Not exactly one containing mesh: []\n",
      "--> Not exactly one containing mesh: []\n",
      "--> Not exactly one containing mesh: []\n",
      "--> Not exactly one containing mesh: []\n",
      "--> Not exactly one containing mesh: []\n",
      "--> Not exactly one containing mesh: []\n",
      "--> Not exactly one containing mesh: []\n",
      "--> Not exactly one containing mesh: []\n",
      "--> Not exactly one containing mesh: []\n",
      "--> Not exactly one containing mesh: []\n",
      "--> Not exactly one containing mesh: []\n",
      "--> Not exactly one containing mesh: []\n",
      "--> Not exactly one containing mesh: []\n",
      "--> Not exactly one containing mesh: []\n",
      "--> Not exactly one containing mesh: []\n",
      "--> Not exactly one containing mesh: []\n",
      "--> Not exactly one containing mesh: []\n",
      "--> Not exactly one containing mesh: []\n",
      "--> Not exactly one containing mesh: []\n",
      "THERE WERE NO FACES THAT FIT THE DISTANCE (1335.7044034159144) and Z transform requirements\n",
      "So just skipping this edge\n",
      "--> Not exactly one containing mesh: []\n",
      "--> Not exactly one containing mesh: []\n",
      "--> Not exactly one containing mesh: []\n",
      "--> Not exactly one containing mesh: []\n",
      "--> Not exactly one containing mesh: []\n",
      "--> Not exactly one containing mesh: [0 1]\n",
      "--> Not exactly one containing mesh: [0 1]\n",
      "--> Not exactly one containing mesh: []\n",
      "--> Not exactly one containing mesh: []\n"
     ]
    },
    {
     "name": "stdout",
     "output_type": "stream",
     "text": [
      "--> Not exactly one containing mesh: []\n",
      "--> Not exactly one containing mesh: [0 2]\n",
      "--> Not exactly one containing mesh: []\n",
      "--> Not exactly one containing mesh: []\n",
      "--> Not exactly one containing mesh: []\n",
      "--> Not exactly one containing mesh: []\n",
      "--> Not exactly one containing mesh: []\n",
      "--> Not exactly one containing mesh: []\n",
      "--> Not exactly one containing mesh: []\n",
      "--> Not exactly one containing mesh: []\n",
      "--> Not exactly one containing mesh: []\n",
      "THERE WERE NO FACES THAT FIT THE DISTANCE (773.2294549483838) and Z transform requirements\n",
      "So just skipping this edge\n",
      "--> Not exactly one containing mesh: []\n",
      "--> Not exactly one containing mesh: []\n",
      "--> Not exactly one containing mesh: []\n",
      "--> Not exactly one containing mesh: []\n",
      "--> Not exactly one containing mesh: []\n",
      "--> Not exactly one containing mesh: []\n",
      "--> Not exactly one containing mesh: [0 1]\n",
      "--> Not exactly one containing mesh: []\n",
      "--> Not exactly one containing mesh: []\n",
      "--> Not exactly one containing mesh: []\n",
      "--> Not exactly one containing mesh: []\n",
      "--> Not exactly one containing mesh: []\n",
      "--> Not exactly one containing mesh: []\n",
      "--> Not exactly one containing mesh: []\n",
      "--> Not exactly one containing mesh: []\n",
      "--> Not exactly one containing mesh: []\n",
      "--> Not exactly one containing mesh: []\n",
      "--> Not exactly one containing mesh: []\n",
      "--> Not exactly one containing mesh: []\n",
      "--> Not exactly one containing mesh: []\n",
      "--> Not exactly one containing mesh: []\n",
      "--> Not exactly one containing mesh: []\n",
      "--> Not exactly one containing mesh: []\n",
      "--> Not exactly one containing mesh: []\n",
      "--> Not exactly one containing mesh: []\n",
      "--> Not exactly one containing mesh: []\n",
      "--> Not exactly one containing mesh: []\n",
      "--> Not exactly one containing mesh: []\n",
      "--> Not exactly one containing mesh: []\n",
      "--> Not exactly one containing mesh: []\n",
      "--> Not exactly one containing mesh: []\n",
      "--> Not exactly one containing mesh: []\n",
      "--> Not exactly one containing mesh: []\n",
      "--> Not exactly one containing mesh: []\n",
      "--> Not exactly one containing mesh: []\n",
      "--> Not exactly one containing mesh: []\n",
      "--> Not exactly one containing mesh: [0 1]\n",
      "--> Not exactly one containing mesh: []\n",
      "--> Not exactly one containing mesh: []\n",
      "--> Not exactly one containing mesh: []\n",
      "--> Not exactly one containing mesh: []\n",
      "--> Not exactly one containing mesh: []\n",
      "Working on limb #1\n",
      "--> Not exactly one containing mesh: []\n",
      "--> Not exactly one containing mesh: []\n",
      "--> Not exactly one containing mesh: []\n",
      "--> Not exactly one containing mesh: []\n",
      "--> Not exactly one containing mesh: []\n",
      "--> Not exactly one containing mesh: []\n",
      "--> Not exactly one containing mesh: []\n",
      "--> Not exactly one containing mesh: []\n",
      "--> Not exactly one containing mesh: []\n",
      "--> Not exactly one containing mesh: []\n",
      "--> Not exactly one containing mesh: []\n",
      "--> Not exactly one containing mesh: []\n",
      "--> Not exactly one containing mesh: []\n",
      "--> Not exactly one containing mesh: []\n",
      "--> Not exactly one containing mesh: []\n",
      "--> Not exactly one containing mesh: []\n",
      "--> Not exactly one containing mesh: []\n",
      "--> Not exactly one containing mesh: []\n",
      "--> Not exactly one containing mesh: []\n",
      "--> Not exactly one containing mesh: []\n",
      "--> Not exactly one containing mesh: []\n",
      "--> Not exactly one containing mesh: []\n",
      "--> Not exactly one containing mesh: []\n",
      "--> Not exactly one containing mesh: []\n",
      "--> Not exactly one containing mesh: []\n",
      "--> Not exactly one containing mesh: []\n",
      "--> Not exactly one containing mesh: []\n",
      "--> Not exactly one containing mesh: []\n",
      "--> Not exactly one containing mesh: []\n",
      "--> Not exactly one containing mesh: []\n",
      "--> Not exactly one containing mesh: []\n",
      "--> Not exactly one containing mesh: []\n",
      "--> Not exactly one containing mesh: []\n",
      "--> Not exactly one containing mesh: []\n",
      "--> Not exactly one containing mesh: []\n",
      "--> Not exactly one containing mesh: []\n",
      "--> Not exactly one containing mesh: []\n",
      "--> Not exactly one containing mesh: []\n",
      "--> Not exactly one containing mesh: []\n",
      "--> Not exactly one containing mesh: []\n",
      "--> Not exactly one containing mesh: []\n",
      "--> Not exactly one containing mesh: []\n",
      "--> Not exactly one containing mesh: []\n",
      "--> Not exactly one containing mesh: []\n",
      "--> Not exactly one containing mesh: []\n",
      "--> Not exactly one containing mesh: []\n",
      "--> Not exactly one containing mesh: []\n",
      "--> Not exactly one containing mesh: []\n",
      "--> Not exactly one containing mesh: []\n",
      "--> Not exactly one containing mesh: []\n",
      "--> Not exactly one containing mesh: []\n",
      "--> Not exactly one containing mesh: []\n",
      "--> Not exactly one containing mesh: []\n",
      "--> Not exactly one containing mesh: []\n",
      "--> Not exactly one containing mesh: []\n",
      "--> Not exactly one containing mesh: []\n",
      "--> Not exactly one containing mesh: []\n",
      "--> Not exactly one containing mesh: []\n",
      "--> Not exactly one containing mesh: []\n",
      "--> Not exactly one containing mesh: []\n",
      "--> Not exactly one containing mesh: []\n",
      "--> Not exactly one containing mesh: []\n",
      "--> Not exactly one containing mesh: []\n",
      "--> Not exactly one containing mesh: []\n",
      "--> Not exactly one containing mesh: []\n",
      "--> Not exactly one containing mesh: []\n",
      "--> Not exactly one containing mesh: []\n",
      "--> Not exactly one containing mesh: []\n",
      "--> Not exactly one containing mesh: []\n",
      "--> Not exactly one containing mesh: []\n",
      "--> Not exactly one containing mesh: []\n",
      "--> Not exactly one containing mesh: []\n",
      "--> Not exactly one containing mesh: []\n",
      "--> Not exactly one containing mesh: []\n",
      "--> Not exactly one containing mesh: []\n",
      "--> Not exactly one containing mesh: []\n",
      "--> Not exactly one containing mesh: []\n",
      "--> Not exactly one containing mesh: []\n",
      "--> Not exactly one containing mesh: []\n",
      "--> Not exactly one containing mesh: []\n",
      "--> Not exactly one containing mesh: []\n",
      "--> Not exactly one containing mesh: []\n",
      "--> Not exactly one containing mesh: []\n",
      "--> Not exactly one containing mesh: []\n",
      "--> Not exactly one containing mesh: []\n",
      "--> Not exactly one containing mesh: []\n",
      "--> Not exactly one containing mesh: []\n",
      "curr_branch_sk.shape = (2, 3)\n"
     ]
    },
    {
     "ename": "Exception",
     "evalue": "The output from mesh_correspondence_adaptive_distance was nothing: curr_branch_face_correspondence=[63495 69662 69663 65570 63522 69668 69669 69670 69671 69687 69689 65593\n 65602 65605 63557 63562 65612 65613 65614 65616 63576 63580 63590 69749\n 65659 63615 65670 63630 65684 63637 65689 65716 65717 63735 65729 63684\n 65739 65748 63703 63715 65764 63719 65771 63725 65786 65728 63738 63913\n 65794 63747 65805 65814 63768 63773 63788 65841 65842 63806 65857 65860\n 63820 65869 65870 63822 63829 65878 65882 63845 63857 65907 65909 65910\n 63879 63880 65931 63890 63898 63900 63901 65953 63964 63919 63926 63929\n 65985 65986 65987 65997 65998 65999 66005 65787 66018 63994 63997 66062\n 64014 64036 64040 64043 66094 68146 68156 68157 66117 66188 66118 66134\n 66135 68203 68204 66169 66170 66180 68158 68549 68236 68244 66218 68272\n 66225 66226 64179 64180 68273 68281 68282 68232 66236 68284 64188 64187\n 64185 64199 66251 66252 68302 64207 68241 68306 66262 66263 64338 68318\n 68321 64228 68341 68342 68347 64251 68349 68437 64256 64270 64272 64284\n 64285 68386 64308 64332 68431 64337 64268 68548 68438 64443 64387 64342\n 64359 64372 68469 68470 68471 64375 64377 68439 68483 68317 68494 64401\n 68499 64408 68515 64426 64428 68538 64389 68283 64454 65043 68561 64472\n 64473 68571 68572 64482 68597 68605 68610 68614 68624 64528 64530 68626\n 68630 64534 68646 64567 68672 68676 68677 68687 62549 62550 62554 62562\n 68708 62576 64629 64630 64632 68731 64668 64647 68750 74903 64667 74908\n 74909 74910 74911 74912 68766 74919 64646 74921 68910 68785 68797 62655\n 74944 74945 68802 64706 74953 68818 64725 64726 64728 64730 74971 64735\n 64736 64737 68834 68835 74987 64747 74996 64758 64768 75009 64775 64776\n 64777 68882 64788 68890 64808 64857 68915 64833 68931 64845 64846 68945\n 68946 75094 64856 68953 68777 64866 68963 68964 64872 64873 64874 68971\n 64877 64878 68977 68978 68995 64908 69030 69008 64915 64916 69017 69018\n 69019 69020 69021 68997 68559 64935 69040 69042 64946 64954 69051 64956\n 65004 65011 65020 65027 64932 65063 65066 65070 65078 65079 65088 65089\n 63053 63060 63082 69037 63086 65144 63097 65271 63103 65162 65177 63130\n 63131 65184 65210 65213 65278 65214 65224 63189 65238 65248 65250 65251\n 65253 63212 63219 65223 65534 65280 65535 65404 65298 65314 65334 65350\n 65361 65386 65387 65388 65297 65389 63098 65410 65411 65430 65463 65467\n 65477 65485 65489 65407 63487], width_from_skeleton=3141.218539056797",
     "output_type": "error",
     "traceback": [
      "\u001b[0;31m---------------------------------------------------------------------------\u001b[0m",
      "\u001b[0;31mValueError\u001b[0m                                Traceback (most recent call last)",
      "\u001b[0;32m/meshAfterParty/preprocess_neuron.py\u001b[0m in \u001b[0;36mfurther_mesh_correspondence_processing_from_skeleton\u001b[0;34m(soma_touching_mesh_data)\u001b[0m\n\u001b[1;32m    174\u001b[0m                     curr_branch_face_correspondence, width_from_skeleton = cu.mesh_correspondence_adaptive_distance(curr_branch_sk,\n\u001b[0;32m--> 175\u001b[0;31m                                                   \u001b[0mcurr_limb_mesh\u001b[0m\u001b[0;34m,\u001b[0m\u001b[0;34m\u001b[0m\u001b[0;34m\u001b[0m\u001b[0m\n\u001b[0m\u001b[1;32m    176\u001b[0m                                                  skeleton_segment_width = 1000)\n",
      "\u001b[0;31mValueError\u001b[0m: not enough values to unpack (expected 2, got 0)",
      "\nDuring handling of the above exception, another exception occurred:\n",
      "\u001b[0;31mException\u001b[0m                                 Traceback (most recent call last)",
      "\u001b[0;32m<ipython-input-19-e5699efae055>\u001b[0m in \u001b[0;36m<module>\u001b[0;34m\u001b[0m\n\u001b[1;32m     17\u001b[0m     \u001b[0mdecomposition_type\u001b[0m\u001b[0;34m=\u001b[0m\u001b[0;34m\"meshafterparty\"\u001b[0m\u001b[0;34m,\u001b[0m\u001b[0;34m\u001b[0m\u001b[0;34m\u001b[0m\u001b[0m\n\u001b[1;32m     18\u001b[0m     \u001b[0msomas\u001b[0m \u001b[0;34m=\u001b[0m \u001b[0msomas\u001b[0m\u001b[0;34m,\u001b[0m\u001b[0;34m\u001b[0m\u001b[0;34m\u001b[0m\u001b[0m\n\u001b[0;32m---> 19\u001b[0;31m     \u001b[0msuppress_preprocessing_print\u001b[0m\u001b[0;34m=\u001b[0m\u001b[0;32mFalse\u001b[0m\u001b[0;34m,\u001b[0m\u001b[0;34m\u001b[0m\u001b[0;34m\u001b[0m\u001b[0m\n\u001b[0m\u001b[1;32m     20\u001b[0m )\n\u001b[1;32m     21\u001b[0m \u001b[0mprint\u001b[0m\u001b[0;34m(\u001b[0m\u001b[0;34mf\"Total time for processing: {time.time() - meshparty_time}\"\u001b[0m\u001b[0;34m)\u001b[0m\u001b[0;34m\u001b[0m\u001b[0;34m\u001b[0m\u001b[0m\n",
      "\u001b[0;32m/meshAfterParty/neuron.py\u001b[0m in \u001b[0;36m__init__\u001b[0;34m(self, mesh, segment_id, description, preprocessed_data, decomposition_type, mesh_correspondence, meshparty_segment_size, meshparty_n_surface_downsampling, meshparty_adaptive_correspondence_after_creation, suppress_preprocessing_print, computed_attribute_dict, somas, ignore_warnings, minimal_output)\u001b[0m\n\u001b[1;32m   1336\u001b[0m                                             \u001b[0mmeshparty_segment_size\u001b[0m \u001b[0;34m=\u001b[0m\u001b[0mmeshparty_segment_size\u001b[0m\u001b[0;34m,\u001b[0m\u001b[0;34m\u001b[0m\u001b[0;34m\u001b[0m\u001b[0m\n\u001b[1;32m   1337\u001b[0m                                              \u001b[0mmeshparty_n_surface_downsampling\u001b[0m \u001b[0;34m=\u001b[0m \u001b[0mmeshparty_n_surface_downsampling\u001b[0m\u001b[0;34m,\u001b[0m\u001b[0;34m\u001b[0m\u001b[0;34m\u001b[0m\u001b[0m\n\u001b[0;32m-> 1338\u001b[0;31m                                          somas=somas)\n\u001b[0m\u001b[1;32m   1339\u001b[0m \u001b[0;34m\u001b[0m\u001b[0m\n\u001b[1;32m   1340\u001b[0m                 \u001b[0mprint\u001b[0m\u001b[0;34m(\u001b[0m\u001b[0;34mf\"--- 0) Total time for preprocessing: {time.time() - neuron_start_time}\\n\\n\\n\\n\"\u001b[0m\u001b[0;34m)\u001b[0m\u001b[0;34m\u001b[0m\u001b[0;34m\u001b[0m\u001b[0m\n",
      "\u001b[0;32m/meshAfterParty/preprocess_neuron.py\u001b[0m in \u001b[0;36mpreprocess_neuron\u001b[0;34m(mesh, mesh_file, segment_id, description, sig_th_initial_split, limb_threshold, filter_end_node_length, return_no_somas, decomposition_type, mesh_correspondence, meshparty_segment_size, meshparty_n_surface_downsampling, somas)\u001b[0m\n\u001b[1;32m    653\u001b[0m \u001b[0;34m\u001b[0m\u001b[0m\n\u001b[1;32m    654\u001b[0m             \u001b[0msoma_touching_mesh_data\u001b[0m\u001b[0;34m[\u001b[0m\u001b[0mj\u001b[0m\u001b[0;34m]\u001b[0m\u001b[0;34m[\u001b[0m\u001b[0;34m\"branch_skeletons\"\u001b[0m\u001b[0;34m]\u001b[0m \u001b[0;34m=\u001b[0m \u001b[0mtotal_skeletons\u001b[0m\u001b[0;34m\u001b[0m\u001b[0;34m\u001b[0m\u001b[0m\n\u001b[0;32m--> 655\u001b[0;31m \u001b[0;34m\u001b[0m\u001b[0m\n\u001b[0m\u001b[1;32m    656\u001b[0m         \u001b[0mprint\u001b[0m\u001b[0;34m(\u001b[0m\u001b[0;34mf\"Total time for skeletonization = {time.time() - global_start_time}\"\u001b[0m\u001b[0;34m)\u001b[0m\u001b[0;34m\u001b[0m\u001b[0;34m\u001b[0m\u001b[0m\n\u001b[1;32m    657\u001b[0m         limb_correspondence = further_mesh_correspondence_processing_from_skeleton(soma_touching_mesh_data,\n",
      "\u001b[0;32m/meshAfterParty/preprocess_neuron.py\u001b[0m in \u001b[0;36mfurther_mesh_correspondence_processing_from_skeleton\u001b[0;34m(soma_touching_mesh_data)\u001b[0m\n\u001b[1;32m    178\u001b[0m                     \u001b[0mprint\u001b[0m\u001b[0;34m(\u001b[0m\u001b[0;34mf\"curr_branch_sk.shape = {curr_branch_sk.shape}\"\u001b[0m\u001b[0;34m)\u001b[0m\u001b[0;34m\u001b[0m\u001b[0;34m\u001b[0m\u001b[0m\n\u001b[1;32m    179\u001b[0m                     \u001b[0mnp\u001b[0m\u001b[0;34m.\u001b[0m\u001b[0msavez\u001b[0m\u001b[0;34m(\u001b[0m\u001b[0;34m\"saved_skeleton_branch.npz\"\u001b[0m\u001b[0;34m,\u001b[0m\u001b[0mcurr_branch_sk\u001b[0m\u001b[0;34m=\u001b[0m\u001b[0mcurr_branch_sk\u001b[0m\u001b[0;34m)\u001b[0m\u001b[0;34m\u001b[0m\u001b[0;34m\u001b[0m\u001b[0m\n\u001b[0;32m--> 180\u001b[0;31m                     \u001b[0mtu\u001b[0m\u001b[0;34m.\u001b[0m\u001b[0mwrite_neuron_off\u001b[0m\u001b[0;34m(\u001b[0m\u001b[0mcurr_limb_mesh\u001b[0m\u001b[0;34m,\u001b[0m\u001b[0;34m\"curr_limb_mesh.off\"\u001b[0m\u001b[0;34m)\u001b[0m\u001b[0;34m\u001b[0m\u001b[0;34m\u001b[0m\u001b[0m\n\u001b[0m\u001b[1;32m    181\u001b[0m                     \u001b[0;32mraise\u001b[0m \u001b[0mException\u001b[0m\u001b[0;34m(\u001b[0m\u001b[0;34mf\"The output from mesh_correspondence_adaptive_distance was nothing: curr_branch_face_correspondence={curr_branch_face_correspondence}, width_from_skeleton={width_from_skeleton}\"\u001b[0m\u001b[0;34m)\u001b[0m\u001b[0;34m\u001b[0m\u001b[0;34m\u001b[0m\u001b[0m\n\u001b[1;32m    182\u001b[0m \u001b[0;34m\u001b[0m\u001b[0m\n",
      "\u001b[0;31mException\u001b[0m: The output from mesh_correspondence_adaptive_distance was nothing: curr_branch_face_correspondence=[63495 69662 69663 65570 63522 69668 69669 69670 69671 69687 69689 65593\n 65602 65605 63557 63562 65612 65613 65614 65616 63576 63580 63590 69749\n 65659 63615 65670 63630 65684 63637 65689 65716 65717 63735 65729 63684\n 65739 65748 63703 63715 65764 63719 65771 63725 65786 65728 63738 63913\n 65794 63747 65805 65814 63768 63773 63788 65841 65842 63806 65857 65860\n 63820 65869 65870 63822 63829 65878 65882 63845 63857 65907 65909 65910\n 63879 63880 65931 63890 63898 63900 63901 65953 63964 63919 63926 63929\n 65985 65986 65987 65997 65998 65999 66005 65787 66018 63994 63997 66062\n 64014 64036 64040 64043 66094 68146 68156 68157 66117 66188 66118 66134\n 66135 68203 68204 66169 66170 66180 68158 68549 68236 68244 66218 68272\n 66225 66226 64179 64180 68273 68281 68282 68232 66236 68284 64188 64187\n 64185 64199 66251 66252 68302 64207 68241 68306 66262 66263 64338 68318\n 68321 64228 68341 68342 68347 64251 68349 68437 64256 64270 64272 64284\n 64285 68386 64308 64332 68431 64337 64268 68548 68438 64443 64387 64342\n 64359 64372 68469 68470 68471 64375 64377 68439 68483 68317 68494 64401\n 68499 64408 68515 64426 64428 68538 64389 68283 64454 65043 68561 64472\n 64473 68571 68572 64482 68597 68605 68610 68614 68624 64528 64530 68626\n 68630 64534 68646 64567 68672 68676 68677 68687 62549 62550 62554 62562\n 68708 62576 64629 64630 64632 68731 64668 64647 68750 74903 64667 74908\n 74909 74910 74911 74912 68766 74919 64646 74921 68910 68785 68797 62655\n 74944 74945 68802 64706 74953 68818 64725 64726 64728 64730 74971 64735\n 64736 64737 68834 68835 74987 64747 74996 64758 64768 75009 64775 64776\n 64777 68882 64788 68890 64808 64857 68915 64833 68931 64845 64846 68945\n 68946 75094 64856 68953 68777 64866 68963 68964 64872 64873 64874 68971\n 64877 64878 68977 68978 68995 64908 69030 69008 64915 64916 69017 69018\n 69019 69020 69021 68997 68559 64935 69040 69042 64946 64954 69051 64956\n 65004 65011 65020 65027 64932 65063 65066 65070 65078 65079 65088 65089\n 63053 63060 63082 69037 63086 65144 63097 65271 63103 65162 65177 63130\n 63131 65184 65210 65213 65278 65214 65224 63189 65238 65248 65250 65251\n 65253 63212 63219 65223 65534 65280 65535 65404 65298 65314 65334 65350\n 65361 65386 65387 65388 65297 65389 63098 65410 65411 65430 65463 65467\n 65477 65485 65489 65407 63487], width_from_skeleton=3141.218539056797"
     ]
    }
   ],
   "source": [
    "import time\n",
    "meshparty_time = time.time()\n",
    "\n",
    "import meshparty_skeletonize as m_sk\n",
    "import preprocess_neuron as pn\n",
    "pn = reload(pn)\n",
    "m_sk = reload(m_sk)\n",
    "\n",
    "somas = somas\n",
    "\n",
    "nru = reload(nru)\n",
    "neuron = reload(neuron)\n",
    "current_neuron = neuron.Neuron(\n",
    "    mesh=current_neuron_mesh,\n",
    "    segment_id=segment_id,\n",
    "    description=description,\n",
    "    decomposition_type=\"meshafterparty\",\n",
    "    somas = somas,\n",
    "    branch_skeleton_data=branch_skeleton_data,\n",
    "    suppress_preprocessing_print=False,\n",
    ")\n",
    "print(f\"Total time for processing: {time.time() - meshparty_time}\")"
   ]
  },
  {
   "cell_type": "code",
   "execution_count": null,
   "metadata": {},
   "outputs": [],
   "source": [
    "current_neuron.calculate_spines()"
   ]
  },
  {
   "cell_type": "code",
   "execution_count": null,
   "metadata": {},
   "outputs": [],
   "source": [
    "current_neuron.calculate_width_without_spines()"
   ]
  },
  {
   "cell_type": "markdown",
   "metadata": {},
   "source": [
    "# Loading the meshAFTERparty neuron object"
   ]
  },
  {
   "cell_type": "code",
   "execution_count": null,
   "metadata": {},
   "outputs": [],
   "source": [
    "nru = reload(nru)\n",
    "saved_file_location = \"/notebooks/test_neurons/preprocessed_neurons/meshafterparty/12345_double_soma_meshafterparty\"\n",
    "\n",
    "with su.suppress_stdout_stderr():\n",
    "    su.ignore_warnings()\n",
    "    uncompressed_neuron = nru.decompress_neuron(filepath=saved_file_location,\n",
    "                         original_mesh=saved_file_location)"
   ]
  },
  {
   "cell_type": "code",
   "execution_count": null,
   "metadata": {},
   "outputs": [],
   "source": [
    "uncompressed_neuron.decomposition_type"
   ]
  },
  {
   "cell_type": "code",
   "execution_count": null,
   "metadata": {},
   "outputs": [],
   "source": [
    "meshafterparty_neuron = uncompressed_neuron"
   ]
  },
  {
   "cell_type": "markdown",
   "metadata": {},
   "source": [
    "# Loading the meshparty neuron object"
   ]
  },
  {
   "cell_type": "code",
   "execution_count": null,
   "metadata": {},
   "outputs": [],
   "source": [
    "nru = reload(nru)\n",
    "neuron = reload(neuron)\n",
    "with su.suppress_stdout_stderr():\n",
    "    meshparty_neuron = nru.decompress_neuron(filepath=\"/notebooks/test_neurons/preprocessed_neurons/meshparty/12345_double_soma_meshparty\",\n",
    "                     original_mesh='/notebooks/test_neurons/preprocessed_neurons/meshparty/12345_double_soma_meshparty')"
   ]
  },
  {
   "cell_type": "code",
   "execution_count": null,
   "metadata": {},
   "outputs": [],
   "source": [
    "meshparty_neuron.decomposition_type"
   ]
  },
  {
   "cell_type": "markdown",
   "metadata": {},
   "source": [
    "# Visualize the Differences"
   ]
  },
  {
   "cell_type": "code",
   "execution_count": null,
   "metadata": {},
   "outputs": [],
   "source": [
    "import neuron_visualizations as nviz"
   ]
  },
  {
   "cell_type": "code",
   "execution_count": null,
   "metadata": {},
   "outputs": [],
   "source": [
    "return_colors = nviz.visualize_neuron(meshafterparty_neuron,\n",
    "                      visualize_type=[\"mesh\",\"skeleton\"],\n",
    "                      limb_branch_dict=\"all\",\n",
    "                                     return_color_dict=True)"
   ]
  },
  {
   "cell_type": "code",
   "execution_count": null,
   "metadata": {},
   "outputs": [],
   "source": [
    "nviz.plot_limb_concept_network_2D(meshafterparty_neuron,\n",
    "                                 limb_name=\"L0\",\n",
    "                                 node_colors=return_colors)"
   ]
  },
  {
   "cell_type": "code",
   "execution_count": null,
   "metadata": {},
   "outputs": [],
   "source": [
    "\n",
    "test_branch = meshafterparty_neuron[0][29]\n",
    "\n",
    "nviz.visualize_neuron(meshafterparty_neuron,\n",
    "                      visualize_type=[\"mesh\",\"skeleton\"],\n",
    "                      mesh_whole_neuron=True,\n",
    "                     limb_branch_dict=dict(L0=[56]))"
   ]
  },
  {
   "cell_type": "code",
   "execution_count": null,
   "metadata": {},
   "outputs": [],
   "source": [
    "import spine_utils as spu\n",
    "found_spines = spu.get_spine_meshes_unfiltered_from_mesh(meshafterparty_neuron[0][56].mesh,segment_name=\"test\")"
   ]
  },
  {
   "cell_type": "code",
   "execution_count": null,
   "metadata": {},
   "outputs": [],
   "source": [
    "import skeleton_utils as sk\n",
    "sk.graph_skeleton_and_mesh(main_mesh_faces=meshafterparty_neuron[0][56].mesh.faces,\n",
    "                           main_mesh_verts=meshafterparty_neuron[0][56].mesh.vertices,\n",
    "                            other_meshes= found_spines,\n",
    "                          other_meshes_colors=\"red\")"
   ]
  },
  {
   "cell_type": "code",
   "execution_count": null,
   "metadata": {},
   "outputs": [],
   "source": [
    "return_colors = nviz.visualize_neuron(meshparty_neuron,\n",
    "                      visualize_type=[\"mesh\",\"skeleton\"],\n",
    "                      limb_branch_dict=dict(L0=\"all\"),\n",
    "                     return_color_dict=True)"
   ]
  },
  {
   "cell_type": "code",
   "execution_count": null,
   "metadata": {},
   "outputs": [],
   "source": [
    "nviz.plot_limb_concept_network_2D(meshparty_neuron,\n",
    "                                 limb_name=\"L0\",\n",
    "                                 node_colors=return_colors)"
   ]
  },
  {
   "cell_type": "code",
   "execution_count": null,
   "metadata": {},
   "outputs": [],
   "source": [
    "nviz.visualize_neuron(meshparty_neuron,\n",
    "                      visualize_type=[\"mesh\",\"skeleton\"],\n",
    "                      mesh_whole_neuron=True,\n",
    "                     limb_branch_dict=dict(L0=[20]))"
   ]
  },
  {
   "cell_type": "code",
   "execution_count": null,
   "metadata": {},
   "outputs": [],
   "source": [
    "found_spines_meshparty = spu.get_spine_meshes_unfiltered_from_mesh(meshparty_neuron[0][20].mesh,segment_name=\"test\")\n",
    "found_spines_meshparty"
   ]
  },
  {
   "cell_type": "code",
   "execution_count": null,
   "metadata": {},
   "outputs": [],
   "source": [
    "sk.graph_skeleton_and_mesh(main_mesh_faces=meshparty_neuron[0][20].mesh.faces,\n",
    "                           main_mesh_verts=meshparty_neuron[0][20].mesh.vertices,\n",
    "                            other_meshes= found_spines_meshparty,\n",
    "                          other_meshes_colors=\"red\")"
   ]
  },
  {
   "cell_type": "code",
   "execution_count": null,
   "metadata": {},
   "outputs": [],
   "source": [
    "spu.get_spine_meshes_unfiltered_from_mesh(meshafterparty_neuron[0][20].mesh,segment_name=\"test\")"
   ]
  }
 ],
 "metadata": {
  "kernelspec": {
   "display_name": "Python 3",
   "language": "python",
   "name": "python3"
  },
  "language_info": {
   "codemirror_mode": {
    "name": "ipython",
    "version": 3
   },
   "file_extension": ".py",
   "mimetype": "text/x-python",
   "name": "python",
   "nbconvert_exporter": "python",
   "pygments_lexer": "ipython3",
   "version": "3.6.9"
  }
 },
 "nbformat": 4,
 "nbformat_minor": 4
}
