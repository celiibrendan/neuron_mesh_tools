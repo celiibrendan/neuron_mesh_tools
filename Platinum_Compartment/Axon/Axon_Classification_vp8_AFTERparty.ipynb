{
 "cells": [
  {
   "cell_type": "code",
   "execution_count": null,
   "metadata": {},
   "outputs": [],
   "source": [
    "\"\"\"\n",
    "To implement the axon finding that was brainstormed into\n",
    "4 parts\n",
    "\n",
    "1) Candidates\n",
    "2) Filtering\n",
    "3) Combining\n",
    "4) Ranking\n",
    "\n",
    "\"\"\""
   ]
  },
  {
   "cell_type": "code",
   "execution_count": 1,
   "metadata": {},
   "outputs": [],
   "source": [
    "from os import sys\n",
    "sys.path.append(\"/meshAfterParty/\")\n",
    "#sys.path.append(\"../../meshAfterParty/meshAfterParty\")"
   ]
  },
  {
   "cell_type": "code",
   "execution_count": 2,
   "metadata": {},
   "outputs": [
    {
     "name": "stderr",
     "output_type": "stream",
     "text": [
      "WARNING:root:Need to pip install annotationframeworkclient to repair mesh with pychunkedgraph\n",
      "WARNING:root:Need to pip install annotationframeworkclient to use dataset_name parameters\n"
     ]
    }
   ],
   "source": [
    "from importlib import reload\n",
    "import os\n",
    "from pathlib import Path\n",
    "os.getcwd()\n",
    "\n",
    "import neuron_utils as nru\n",
    "nru = reload(nru)\n",
    "import neuron\n",
    "neuron=reload(neuron)\n",
    "import neuron_visualizations as nviz\n",
    "import time\n",
    "import system_utils as su"
   ]
  },
  {
   "cell_type": "markdown",
   "metadata": {},
   "source": [
    "# Loading Neuron Object"
   ]
  },
  {
   "cell_type": "code",
   "execution_count": 3,
   "metadata": {},
   "outputs": [
    {
     "name": "stdout",
     "output_type": "stream",
     "text": [
      "Decompressing Neuron in minimal output mode...please wait\n"
     ]
    }
   ],
   "source": [
    "current_file = \"/notebooks/test_neurons/meshafterparty_processed/12345_double_soma_meshafterparty_9_29\"\n",
    "neuron_obj = nru.decompress_neuron(filepath=current_file,\n",
    "                                  original_mesh=current_file,\n",
    "                                  suppress_output=True)\n"
   ]
  },
  {
   "cell_type": "code",
   "execution_count": 4,
   "metadata": {},
   "outputs": [],
   "source": [
    "import neuron_searching as ns\n",
    "ns = reload(ns)\n",
    "current_neuron = neuron_obj"
   ]
  },
  {
   "cell_type": "code",
   "execution_count": 5,
   "metadata": {},
   "outputs": [
    {
     "name": "stdout",
     "output_type": "stream",
     "text": [
      "\n",
      " Working on visualization type: mesh\n",
      "\n",
      " Working on visualization type: skeleton\n"
     ]
    },
    {
     "data": {
      "application/vnd.jupyter.widget-view+json": {
       "model_id": "0bffb44b792e47e597397c3308077370",
       "version_major": 2,
       "version_minor": 0
      },
      "text/plain": [
       "VBox(children=(Figure(camera=PerspectiveCamera(fov=46.0, position=(0.0, 0.0, 2.0), quaternion=(0.0, 0.0, 0.0, …"
      ]
     },
     "metadata": {},
     "output_type": "display_data"
    }
   ],
   "source": [
    "ret_col = nviz.visualize_neuron(current_neuron,\n",
    "                                visualize_type=[\"mesh\",\"skeleton\"],\n",
    "                     limb_branch_dict=\"all\",\n",
    "                     mesh_resolution=\"limb\",\n",
    "                                skeleton_resolution=\"limb\",\n",
    "                     return_color_dict=True)"
   ]
  },
  {
   "cell_type": "code",
   "execution_count": 6,
   "metadata": {},
   "outputs": [
    {
     "data": {
      "text/plain": [
       "{'median_mesh_center': 478.22658334826417,\n",
       " 'no_spine_median_mesh_center': 478.22658334826417,\n",
       " 'no_spine_mean_mesh_center': 440.94571299323763}"
      ]
     },
     "execution_count": 6,
     "metadata": {},
     "output_type": "execute_result"
    }
   ],
   "source": [
    "current_neuron[10][0].width_new"
   ]
  },
  {
   "cell_type": "code",
   "execution_count": 7,
   "metadata": {},
   "outputs": [
    {
     "data": {
      "image/png": "[encoded data removed]",
      "text/plain": [
       "<Figure size 432x288 with 1 Axes>"
      ]
     },
     "metadata": {},
     "output_type": "display_data"
    }
   ],
   "source": [
    "nviz.plot_soma_limb_concept_network(current_neuron,\n",
    "                                   node_colors=ret_col)"
   ]
  },
  {
   "cell_type": "markdown",
   "metadata": {},
   "source": [
    "# *************** Prework on Axon classification and finding distance from somas ******************\n"
   ]
  },
  {
   "cell_type": "markdown",
   "metadata": {},
   "source": [
    "# Doing Axon Classification"
   ]
  },
  {
   "cell_type": "markdown",
   "metadata": {},
   "source": [
    "# A) Doing Axon Classification"
   ]
  },
  {
   "cell_type": "code",
   "execution_count": 8,
   "metadata": {},
   "outputs": [],
   "source": [
    "ns = reload(ns)"
   ]
  },
  {
   "cell_type": "code",
   "execution_count": null,
   "metadata": {},
   "outputs": [],
   "source": [
    "axon_like_limb_branch_dict = ns.axon_width_like_segments(current_neuron,\n",
    "                                                        include_ais=True)\n",
    "\n",
    "nviz.visualize_neuron(current_neuron,\n",
    "                     limb_branch_dict=axon_like_limb_branch_dict,\n",
    "                     mesh_color=\"red\",\n",
    "                      mesh_color_alpha=1,\n",
    "                     mesh_whole_neuron=True)"
   ]
  },
  {
   "cell_type": "code",
   "execution_count": null,
   "metadata": {
    "scrolled": true
   },
   "outputs": [],
   "source": [
    "#How to give a limb_branch_dict as an argument\n",
    "ns = reload(ns)\n",
    "current_functions_list = [\"axon_segment\"]\n",
    "limb_branch_dict_upstream_filter = ns.query_neuron(current_neuron,\n",
    "                                   query=\"axon_segment==True\",\n",
    "                                   function_kwargs=dict(limb_branch_dict =axon_like_limb_branch_dict,\n",
    "                                                        downstream_face_threshold=3000,\n",
    "                                                        width_match_threshold=50,\n",
    "                                                       print_flag=False),\n",
    "                                   functions_list=current_functions_list)\n"
   ]
  },
  {
   "cell_type": "code",
   "execution_count": null,
   "metadata": {},
   "outputs": [],
   "source": [
    "colors_dict_returned = nviz.visualize_neuron(current_neuron,\n",
    "                      limb_branch_dict=limb_branch_dict_upstream_filter,\n",
    "                     mesh_color=\"red\",\n",
    "                     mesh_color_alpha=1,\n",
    "                     mesh_whole_neuron=True,\n",
    "                     return_color_dict=True)"
   ]
  },
  {
   "cell_type": "markdown",
   "metadata": {},
   "source": [
    "# B) Getting All of the Branches That are a certain Distance Away ---"
   ]
  },
  {
   "cell_type": "code",
   "execution_count": null,
   "metadata": {},
   "outputs": [],
   "source": [
    "ns = reload(ns)"
   ]
  },
  {
   "cell_type": "code",
   "execution_count": null,
   "metadata": {},
   "outputs": [],
   "source": [
    "soma_idx = 0"
   ]
  },
  {
   "cell_type": "code",
   "execution_count": null,
   "metadata": {},
   "outputs": [],
   "source": [
    "close_limb_branch_df[close_limb_branch_df[\"skeletal_distance_from_soma\"] == 0]"
   ]
  },
  {
   "cell_type": "code",
   "execution_count": null,
   "metadata": {},
   "outputs": [],
   "source": [
    "distance_from_soma_threshold = 30000\n",
    "close_limb_branch_dict = ns.query_neuron(current_neuron,\n",
    "                                        functions_list=[ns.skeletal_distance_from_soma],\n",
    "                                        query=f\"skeletal_distance_from_soma<{distance_from_soma_threshold}\",\n",
    "                                        function_kwargs=dict(somas=[soma_idx]),\n",
    "                                         #return_dataframe=False\n",
    "\n",
    "\n",
    "                                        )\n",
    "close_limb_branch_dict\n",
    "\n",
    "colors_dict_returned = nviz.visualize_neuron(current_neuron,\n",
    "                      limb_branch_dict=close_limb_branch_dict,\n",
    "                     mesh_color=\"red\",\n",
    "                     mesh_color_alpha=1,\n",
    "                     mesh_whole_neuron=True,\n",
    "                     return_color_dict=True)"
   ]
  },
  {
   "cell_type": "markdown",
   "metadata": {},
   "source": [
    "# C)  Remove the Branches from the Graph"
   ]
  },
  {
   "cell_type": "code",
   "execution_count": null,
   "metadata": {},
   "outputs": [],
   "source": [
    "\n",
    "\n",
    "import networkx_utils as xu\n",
    "from copy import deepcopy\n",
    "limbs_to_check = xu.get_neighbors(neuron_copy.concept_network,nru.soma_label(soma_idx),int_label=False)\n",
    "total_sub_limbs = dict()\n",
    "\n",
    "sub_limb_color_dict = dict()\n",
    "new_networks = dict()\n",
    "for limb_idx in limbs_to_check:\n",
    "    print(f\"\\nWorking on Limb {limb_idx}\")\n",
    "    \n",
    "    sub_limb_color_dict[limb_idx] = dict()\n",
    "    \n",
    "    \n",
    "    \n",
    "    curr_limb = neuron_copy[limb_idx]\n",
    "    if limb_idx in close_limb_branch_dict.keys():\n",
    "        nodes_to_eliminate = close_limb_branch_dict[limb_idx]\n",
    "    else:\n",
    "        nodes_to_eliminate = []\n",
    "    \n",
    "    #the nodes that were eliminated we need to show deleted colors\n",
    "    for n in nodes_to_eliminate:\n",
    "        sub_limb_color_dict[limb_idx][n] = \"black\"\n",
    "    \n",
    "    print(f\"nodes_to_eliminate = {nodes_to_eliminate}\")\n",
    "    curr_limb_copy = deepcopy(curr_limb)\n",
    "    curr_limb_copy.set_concept_network_directional(starting_soma=soma_idx)\n",
    "    curr_limb_copy.concept_network_directional.remove_nodes_from(nodes_to_eliminate)\n",
    "    new_networks[limb_idx] = curr_limb_copy.concept_network_directional\n",
    "    \n",
    "    curr_limb_conn_comp = list(nx.connected_components(nx.Graph(new_networks[limb_idx])))\n",
    "    \n",
    "    if len(curr_limb_conn_comp) == 0:\n",
    "        curr_limb_conn_comp = [nodes_to_eliminate]\n",
    "    \n",
    "    total_sub_limbs[limb_idx] = curr_limb_conn_comp\n",
    "    \n",
    "    colors_to_use = mu.generate_unique_random_color_list(n_colors=len(curr_limb_conn_comp),colors_to_omit=[\"black\"])\n",
    "    for j,(c_comp,curr_random_color) in enumerate(zip(curr_limb_conn_comp,colors_to_use)):\n",
    "        #get a random color\n",
    "        print(f\"curr_random_color = {curr_random_color}\")\n",
    "        for n in c_comp:\n",
    "            sub_limb_color_dict[limb_idx][n] = curr_random_color\n"
   ]
  },
  {
   "cell_type": "code",
   "execution_count": null,
   "metadata": {},
   "outputs": [],
   "source": [
    "import networkx_utils as xu\n",
    "from copy import deepcopy\n",
    "limbs_to_check = xu.get_neighbors(neuron_copy.concept_network,nru.soma_label(soma_idx),int_label=False)\n",
    "total_sub_limbs = dict()\n",
    "\n",
    "sub_limb_color_dict = dict()\n",
    "new_networks = dict()\n",
    "for limb_idx in limbs_to_check:\n",
    "    print(f\"\\nWorking on Limb {limb_idx}\")\n",
    "    \n",
    "    sub_limb_color_dict[limb_idx] = dict()\n",
    "    \n",
    "    \n",
    "    \n",
    "    curr_limb = neuron_copy[limb_idx]\n",
    "    if limb_idx in close_limb_branch_dict.keys():\n",
    "        nodes_to_eliminate = close_limb_branch_dict[limb_idx]\n",
    "    else:\n",
    "        nodes_to_eliminate = []\n",
    "    \n",
    "    #the nodes that were eliminated we need to show deleted colors\n",
    "    for n in nodes_to_eliminate:\n",
    "        sub_limb_color_dict[limb_idx][n] = \"black\"\n",
    "    \n",
    "    print(f\"nodes_to_eliminate = {nodes_to_eliminate}\")\n",
    "    curr_limb_copy = deepcopy(curr_limb)\n",
    "    curr_limb_copy.set_concept_network_directional(starting_soma=soma_idx)\n",
    "    curr_limb_copy.concept_network_directional.remove_nodes_from(nodes_to_eliminate)\n",
    "    new_networks[limb_idx] = curr_limb_copy.concept_network_directional\n",
    "    \n",
    "    curr_limb_conn_comp = list(nx.connected_components(nx.Graph(new_networks[limb_idx])))\n",
    "    \n",
    "    if len(curr_limb_conn_comp) == 0:\n",
    "        curr_limb_conn_comp = [nodes_to_eliminate]\n",
    "    \n",
    "    total_sub_limbs[limb_idx] = curr_limb_conn_comp\n",
    "    \n",
    "    colors_to_use = mu.generate_unique_random_color_list(n_colors=len(curr_limb_conn_comp),colors_to_omit=[\"black\"])\n",
    "    for j,(c_comp,curr_random_color) in enumerate(zip(curr_limb_conn_comp,colors_to_use)):\n",
    "        #get a random color\n",
    "        print(f\"curr_random_color = {curr_random_color}\")\n",
    "        for n in c_comp:\n",
    "            sub_limb_color_dict[limb_idx][n] = curr_random_color\n"
   ]
  },
  {
   "cell_type": "markdown",
   "metadata": {},
   "source": [
    "# *************** Start of the Axon Pipeline ******************"
   ]
  },
  {
   "cell_type": "code",
   "execution_count": 10,
   "metadata": {},
   "outputs": [],
   "source": [
    "soma_idx = 0"
   ]
  },
  {
   "cell_type": "markdown",
   "metadata": {},
   "source": [
    "# Phase 1: Candidates"
   ]
  },
  {
   "cell_type": "code",
   "execution_count": 11,
   "metadata": {},
   "outputs": [
    {
     "data": {
      "text/plain": [
       "'\\nPurpose: Identify all sublimbs that could be part of the axon\\n\\nAssumption:\\nthe axon initial segment should have split off [ais_threshold] \\nnm of skeletal distance away from the soma \\n\\nPseudocode:\\n1) Find all branches that are less than [ais_threshold] distance\\naway from the soma\\n2) Delete the nodes from the branch graph and then group into connected ocmponents\\ninto candidates\\n3) Adding back all endpoints that were eliminated in step 2: Process is below\\na. Find each endpoint and get the shortest path to the soma\\nb. Concatenate the paths together into a dictionary mapping node to number of\\noccurances in the shortest paths\\nc. Filter each shortest path for only nodes that hae 1 occurance\\nd. Add all the shortest paths as candidates\\n\\n\\n\\n'"
      ]
     },
     "execution_count": 11,
     "metadata": {},
     "output_type": "execute_result"
    }
   ],
   "source": [
    "\"\"\"\n",
    "Purpose: Identify all sublimbs that could be part of the axon\n",
    "\n",
    "Assumption:\n",
    "the axon initial segment should have split off [ais_threshold] \n",
    "nm of skeletal distance away from the soma \n",
    "\n",
    "Pseudocode:\n",
    "1) Find all branches that are less than [ais_threshold] distance\n",
    "away from the soma\n",
    "2) Delete the nodes from the branch graph and then group into connected ocmponents\n",
    "into candidates\n",
    "3) Adding back all endpoints that were eliminated in step 2: Process is below\n",
    "a. Find each endpoint and get the shortest path to the soma\n",
    "b. Concatenate the paths together into a dictionary mapping node to number of\n",
    "occurances in the shortest paths\n",
    "c. Filter each shortest path for only nodes that hae 1 occurance\n",
    "d. Add all the shortest paths as candidates\n",
    "\n",
    "\n",
    "\n",
    "\"\"\""
   ]
  },
  {
   "cell_type": "code",
   "execution_count": 12,
   "metadata": {},
   "outputs": [],
   "source": [
    "#1) Find all branches that are less than [ais_threshold] distance\n",
    "#away from the soma\n",
    "\n",
    "ais_threshold = 30000\n",
    "close_limb_branch_dict = ns.query_neuron(current_neuron,\n",
    "                                        functions_list=[ns.skeletal_distance_from_soma],\n",
    "                                        query=f\"skeletal_distance_from_soma<{ais_threshold}\",\n",
    "                                        function_kwargs=dict(somas=[soma_idx]),\n",
    "                                         #return_dataframe=False\n",
    "\n",
    "\n",
    "                                        )\n",
    "outside_bubble_limb_branch_dict = ns.query_neuron(current_neuron,\n",
    "                                        functions_list=[ns.skeletal_distance_from_soma],\n",
    "                                        query=f\"skeletal_distance_from_soma>={ais_threshold}\",\n",
    "                                        function_kwargs=dict(somas=[soma_idx]),\n",
    "                                         #return_dataframe=False\n",
    "\n",
    "\n",
    "                                        )"
   ]
  },
  {
   "cell_type": "code",
   "execution_count": 80,
   "metadata": {},
   "outputs": [
    {
     "name": "stdout",
     "output_type": "stream",
     "text": [
      "\n",
      "Working on Limb L0\n",
      "nodes_to_eliminate = [29 48 49 57 61]\n",
      "\n",
      "Working on Limb L1\n",
      "nodes_to_eliminate = [13]\n",
      "\n",
      "Working on Limb L2\n",
      "nodes_to_eliminate = [0]\n",
      "\n",
      "Working on Limb L3\n",
      "nodes_to_eliminate = [16 28 31]\n",
      "\n",
      "Working on Limb L5\n",
      "nodes_to_eliminate = [7 8]\n",
      "\n",
      "Working on Limb L10\n",
      "nodes_to_eliminate = [0]\n",
      "The filtered network is empty so just leaving the candidates as empty lists\n"
     ]
    }
   ],
   "source": [
    "# 2) Delete the nodes from the branch graph and then group into connected ocmponents\n",
    "# into candidates\n",
    "\n",
    "\"\"\"\n",
    "Pseudocode:\n",
    "1) Get the limbs touching the soma of inteterst\n",
    "\n",
    "\n",
    "\"\"\"\n",
    "\n",
    "import networkx_utils as xu\n",
    "import networkx as nx\n",
    "import matplotlib_utils as mu\n",
    "from copy import deepcopy\n",
    "limbs_to_check = xu.get_neighbors(current_neuron.concept_network,nru.soma_label(soma_idx),int_label=False)\n",
    "\n",
    "sub_limb_color_dict = dict()\n",
    "total_sub_limbs = dict() #will map the limbs to the connected components\n",
    "\n",
    "verbose = True\n",
    "\n",
    "for limb_idx in limbs_to_check:\n",
    "    print(f\"\\nWorking on Limb {limb_idx}\")\n",
    "    \n",
    "    #initializing the candidate list and the color dictionary for visualization\n",
    "    total_sub_limbs[limb_idx] = []\n",
    "    sub_limb_color_dict[limb_idx] = dict()\n",
    "    \n",
    "    \n",
    "    \n",
    "    curr_limb = current_neuron[limb_idx]\n",
    "    if limb_idx in close_limb_branch_dict.keys():\n",
    "        nodes_to_eliminate = close_limb_branch_dict[limb_idx]\n",
    "    else:\n",
    "        nodes_to_eliminate = []\n",
    "    \n",
    "    #the nodes that were eliminated we need to show deleted colors\n",
    "    for n in nodes_to_eliminate:\n",
    "        sub_limb_color_dict[limb_idx][n] = mu.color_to_rgba(\"black\", alpha=1)\n",
    "    \n",
    "    if verbose:\n",
    "        print(f\"nodes_to_eliminate = {nodes_to_eliminate}\")\n",
    "        \n",
    "    curr_limb_copy = deepcopy(curr_limb)\n",
    "    curr_limb_copy.set_concept_network_directional(starting_soma=soma_idx)\n",
    "    curr_limb_copy.concept_network_directional.remove_nodes_from(nodes_to_eliminate)\n",
    "    curr_filt_network = nx.Graph(curr_limb_copy.concept_network_directional)\n",
    "    \n",
    "    if len(curr_filt_network) == 0:\n",
    "        if verbose:\n",
    "            print(\"The filtered network is empty so just leaving the candidates as empty lists\")\n",
    "        continue\n",
    "        \n",
    "    curr_limb_conn_comp = list(nx.connected_components(curr_filt_network))\n",
    "    \n",
    "\n",
    "    total_sub_limbs[limb_idx] = [list(k) for k in curr_limb_conn_comp]\n",
    "    \n",
    "    colors_to_use = mu.generate_unique_random_color_list(n_colors=len(curr_limb_conn_comp),colors_to_omit=[\"black\",\"midnightblue\"])\n",
    "    for j,(c_comp,curr_random_color) in enumerate(zip(curr_limb_conn_comp,colors_to_use)):\n",
    "\n",
    "        for n in c_comp:\n",
    "            sub_limb_color_dict[limb_idx][n] = curr_random_color"
   ]
  },
  {
   "cell_type": "code",
   "execution_count": 81,
   "metadata": {},
   "outputs": [
    {
     "name": "stdout",
     "output_type": "stream",
     "text": [
      "\n",
      " Working on visualization type: mesh\n"
     ]
    },
    {
     "data": {
      "application/vnd.jupyter.widget-view+json": {
       "model_id": "a9640f0d617c411099a4f0fafff24423",
       "version_major": 2,
       "version_minor": 0
      },
      "text/plain": [
       "VBox(children=(Figure(camera=PerspectiveCamera(fov=46.0, position=(0.0, 0.0, 2.0), quaternion=(0.0, 0.0, 0.0, …"
      ]
     },
     "metadata": {},
     "output_type": "display_data"
    }
   ],
   "source": [
    "nviz.visualize_neuron(current_neuron,\n",
    "                     limb_branch_dict=\"all\",\n",
    "                     mesh_color=sub_limb_color_dict,\n",
    "                     mesh_fill_color=\"green\")"
   ]
  },
  {
   "cell_type": "code",
   "execution_count": 83,
   "metadata": {},
   "outputs": [
    {
     "name": "stdout",
     "output_type": "stream",
     "text": [
      "\n",
      "----Working on Limb L0-----\n",
      "New candidates added back: [[48]]\n",
      "\n",
      "----Working on Limb L1-----\n",
      "No endpoints were eliminated so don't need to add back any candidates\n",
      "\n",
      "----Working on Limb L2-----\n",
      "No endpoints were eliminated so don't need to add back any candidates\n",
      "\n",
      "----Working on Limb L3-----\n",
      "No endpoints were eliminated so don't need to add back any candidates\n",
      "\n",
      "----Working on Limb L5-----\n",
      "No endpoints were eliminated so don't need to add back any candidates\n",
      "\n",
      "----Working on Limb L10-----\n",
      "network was only of size 1 and that node was eliminated so returning that as the only candidate\n"
     ]
    }
   ],
   "source": [
    "\"\"\"\n",
    "3) Adding back all endpoints that were eliminated in step 2: Process is below\n",
    "\n",
    "For each limb\n",
    "a. Create the subgraph for all the nodes that were eliminated\n",
    "b. Find each endpoint that was eliminated and get the shortest path to the starting node\n",
    "c. Concatenate the paths together into a dictionary mapping node to number of\n",
    "occurances in the shortest paths\n",
    "d. Filter each shortest path for only nodes that hae 1 occurance\n",
    "e. Add all the shortest paths as candidates\n",
    "\n",
    "\n",
    "Version 2: \n",
    "\n",
    "For each limb\n",
    "\n",
    "0) Get all of the endpoint nodes in the whole directed concept network\n",
    "- remove the starting node from the list\n",
    "1) Find the shortest path from every endpoint to the starting node\n",
    "2) Concatenate shortest paths into dictionary mapping node to number of\n",
    "occurances in the shortest paths\n",
    "3) Find all of the endpoints that were eliminated with the restriction\n",
    "4) Filter those endpoint paths for nodes that only have an \n",
    "occurance of one for the lookup dictionary\n",
    "5) Add all deleted endpoint filtered shortest paths as candidates\n",
    "\n",
    "How to handle corner cases:\n",
    "1) If only starting node that got deleted\n",
    "--> just add that as a candidate\n",
    "2) If all of network got deleted, current way will work\n",
    "\n",
    "\"\"\"\n",
    "import matplotlib.pyplot as plt\n",
    "\n",
    "removed_candidates = dict()\n",
    "\n",
    "for limb_idx in limbs_to_check:\n",
    "    if verbose:\n",
    "        print(f\"\\n----Working on Limb {limb_idx}-----\")\n",
    "        \n",
    "    curr_limb = current_neuron[limb_idx]    \n",
    "    \n",
    "    removed_candidates[limb_idx] = []\n",
    "    \n",
    "    if limb_idx in close_limb_branch_dict.keys():\n",
    "        nodes_to_eliminate = close_limb_branch_dict[limb_idx]\n",
    "    else:\n",
    "        nodes_to_eliminate = []\n",
    "        if verbose:\n",
    "            print(\"No nodes were eliminated so don't need to add back any candidates\")\n",
    "        continue\n",
    "\n",
    "    \n",
    "    curr_limb_copy = deepcopy(curr_limb)\n",
    "    curr_limb_copy.set_concept_network_directional(starting_soma=soma_idx)\n",
    "    curr_network = nx.Graph(curr_limb_copy.concept_network_directional)\n",
    "    curr_starting_node = curr_limb_copy.current_starting_node\n",
    "    \n",
    "    #covering the corner case that only the root node existed\n",
    "    #and it was deleted\n",
    "    if len(nodes_to_eliminate) == 1 and len(curr_network)==1:\n",
    "        if verbose:\n",
    "            print(\"network was only of size 1 and that node was eliminated so returning that as the only candidate\")\n",
    "        removed_candidates[limb_idx] = [[curr_starting_node]]\n",
    "        \n",
    "    else:\n",
    "        #0) Get all of the endpoint nodes in the whole directed concept network\n",
    "        #- remove the starting node from the list\n",
    "        curr_endpoints = xu.get_nodes_of_degree_k(curr_network,1)\n",
    "        if curr_starting_node in curr_endpoints:\n",
    "            curr_endpoints.remove(curr_starting_node)\n",
    "\n",
    "\n",
    "        #3) Find all of the endpoints that were eliminated with the restriction\n",
    "        endpoints_eliminated = [k for k in curr_endpoints if k in nodes_to_eliminate]\n",
    "\n",
    "        if len(endpoints_eliminated) == 0:\n",
    "            if verbose:\n",
    "                print(\"No endpoints were eliminated so don't need to add back any candidates\")\n",
    "            continue\n",
    "\n",
    "        #1) Find the shortest path from every endpoint to the starting node\n",
    "        shortest_paths_endpoints = dict()\n",
    "        for en in curr_endpoints:\n",
    "            en_shortest_path = nx.shortest_path(curr_network,\n",
    "                            source = en,\n",
    "                             target = curr_starting_node)\n",
    "            shortest_paths_endpoints[en] = en_shortest_path\n",
    "\n",
    "        #2) Concatenate shortest paths into dictionary mapping node to number of\n",
    "        #occurances in the shortest paths\n",
    "        node_occurance = dict()\n",
    "        for curr_path in shortest_paths_endpoints.values():\n",
    "            for n in curr_path:\n",
    "                if n not in node_occurance.keys():\n",
    "                    node_occurance[n] = 1\n",
    "                else:\n",
    "                    node_occurance[n] += 1\n",
    "\n",
    "        #4) Filter those endpoint paths for nodes that only have an \n",
    "        #occurance of one for the lookup dictionary\n",
    "        added_back_candidates = []\n",
    "        for en_elim in endpoints_eliminated:\n",
    "            filtered_path = [k for k in shortest_paths_endpoints[en_elim] if node_occurance[k] == 1]\n",
    "            added_back_candidates.append(filtered_path)\n",
    "\n",
    "        if verbose:\n",
    "            print(f\"New candidates added back: {added_back_candidates}\")\n",
    "\n",
    "        removed_candidates[limb_idx] = added_back_candidates\n",
    "    \n",
    "    #5) Adding the new paths to the color dictionary for visualization \n",
    "    colors_to_use = mu.generate_unique_random_color_list(n_colors=len(removed_candidates[limb_idx]),colors_to_omit=[\"black\",\"midnightblue\"])\n",
    "    for add_path,curr_random_color in zip(removed_candidates[limb_idx],colors_to_use):\n",
    "        for n in add_path:\n",
    "            sub_limb_color_dict[limb_idx][n] = curr_random_color"
   ]
  },
  {
   "cell_type": "code",
   "execution_count": 84,
   "metadata": {},
   "outputs": [
    {
     "name": "stdout",
     "output_type": "stream",
     "text": [
      "\n",
      " Working on visualization type: mesh\n"
     ]
    },
    {
     "data": {
      "application/vnd.jupyter.widget-view+json": {
       "model_id": "fd04b14191f2402fae7b570fa4b46e95",
       "version_major": 2,
       "version_minor": 0
      },
      "text/plain": [
       "VBox(children=(Figure(camera=PerspectiveCamera(fov=46.0, position=(0.0, 0.0, 2.0), quaternion=(0.0, 0.0, 0.0, …"
      ]
     },
     "metadata": {},
     "output_type": "display_data"
    }
   ],
   "source": [
    "# checking that adding back the candidates went well\n",
    "\n",
    "nviz.visualize_neuron(current_neuron,\n",
    "                     limb_branch_dict=\"all\",\n",
    "                     mesh_color=sub_limb_color_dict,\n",
    "                     mesh_fill_color=\"green\")"
   ]
  },
  {
   "cell_type": "markdown",
   "metadata": {},
   "source": [
    "# Phase 2: Filtering"
   ]
  },
  {
   "cell_type": "code",
   "execution_count": null,
   "metadata": {},
   "outputs": [],
   "source": [
    "\"\"\"\n",
    "Pseudocode: \n",
    "\n",
    "Step 1: Cancelling due to denditic components donwstream\n",
    "a) Use query (the ais_threshold option) to label all potential dendritic and axonal branches\n",
    "b) Calculate the number of dendritic faces per candidate\n",
    "c) Cancel the candidate because n_dendritic_faces > threshold\n",
    "\n",
    "Step 2: Trace Back \n",
    "a) Get the closest node to the starting node of that limb\n",
    "-- have options to check for what to trace back\n",
    "   i) axonal segment (should always be on)\n",
    "   ii) width boundary\n",
    "   \n",
    "b) trace back the component by finding shortest path to starting node\n",
    "and adding on each successive node if it is:\n",
    "   i) axonal segment\n",
    "   ii) valid width boundary (if selected)\n",
    "\n",
    "How to cancel:\n",
    "1) if by the time trace back then get the wdith of the AIS and not wide enough\n",
    "AKA if average width of first x 1000 nm segments is below the average for AIS\n",
    "--> this should take care of the width change??\n",
    "\n",
    "2) If there was a significant width change when tracing back (if selected)\n",
    "\n",
    "Step 3: Cancelling due to connection point (given that we have traced it back to AIS)\n",
    "Option 1 : cancelling based on y value of connection point\n",
    "a) Get the vertices of the connection point with the soma or the connecting dendritic branch\n",
    "b) compute what percentage of soma vertices are above the connection point\n",
    "    How? Strip all vertices of soma for y value and ask how many are below the minimum y value\n",
    "    of the connection point\n",
    "    \n",
    "c) if too little of soma vertices are below the min y value of the connetion point then cancel\n",
    "\n",
    "Option 2: Cancelling based on the direction of the first x nm of the AIS skeleton (Probably not implement because could branch)\n",
    "a) Get the first x nm of skeleton starting from the AIS\n",
    "b) Downsample skeleton to just one segment\n",
    "c) Do a dot product with vector pointing down in y direction to get the relative angle \n",
    "d) if angle is below some threshold then cancel\n",
    "\n",
    "\n",
    "\n",
    "\n",
    "\"\"\""
   ]
  },
  {
   "cell_type": "code",
   "execution_count": null,
   "metadata": {},
   "outputs": [],
   "source": [
    "\"\"\"\n",
    "Apical\n",
    "\n",
    "\n",
    "\"\"\""
   ]
  }
 ],
 "metadata": {
  "kernelspec": {
   "display_name": "Python 3",
   "language": "python",
   "name": "python3"
  },
  "language_info": {
   "codemirror_mode": {
    "name": "ipython",
    "version": 3
   },
   "file_extension": ".py",
   "mimetype": "text/x-python",
   "name": "python",
   "nbconvert_exporter": "python",
   "pygments_lexer": "ipython3",
   "version": "3.6.9"
  }
 },
 "nbformat": 4,
 "nbformat_minor": 4
}
