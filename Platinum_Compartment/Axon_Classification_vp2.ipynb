{
 "cells": [
  {
   "cell_type": "code",
   "execution_count": 3,
   "metadata": {},
   "outputs": [],
   "source": [
    "from os import sys\n",
    "#sys.path.append(\"../../meshAfterParty/\")\n",
    "sys.path.append(\"../../meshAfterParty/meshAfterParty\")"
   ]
  },
  {
   "cell_type": "code",
   "execution_count": 4,
   "metadata": {},
   "outputs": [],
   "source": [
    "from importlib import reload\n",
    "import os\n",
    "from pathlib import Path\n",
    "os.getcwd()\n",
    "\n",
    "import neuron_utils as nru\n",
    "nru = reload(nru)\n",
    "import neuron\n",
    "neuron=reload(neuron)\n",
    "import neuron_visualizations as nviz\n",
    "import time"
   ]
  },
  {
   "cell_type": "code",
   "execution_count": 5,
   "metadata": {},
   "outputs": [],
   "source": [
    "import system_utils as su"
   ]
  },
  {
   "cell_type": "markdown",
   "metadata": {},
   "source": [
    "# Loading the neuron object"
   ]
  },
  {
   "cell_type": "code",
   "execution_count": 6,
   "metadata": {},
   "outputs": [
    {
     "name": "stdout",
     "output_type": "stream",
     "text": [
      "Recieved another instance of Neuron class in init -- so just copying data\n"
     ]
    }
   ],
   "source": [
    "import system_utils as su\n",
    "uncompressed_neuron = su.load_object(\"../test_neurons/test_objects/12345_2_soma_practice_decompress.pkl\")\n",
    "uncompressed_neuron = neuron.Neuron(uncompressed_neuron)"
   ]
  },
  {
   "cell_type": "code",
   "execution_count": 7,
   "metadata": {},
   "outputs": [
    {
     "data": {
      "text/plain": [
       "[<trimesh.Trimesh(vertices.shape=(87, 3), faces.shape=(172, 3))>,\n",
       " <trimesh.Trimesh(vertices.shape=(87, 3), faces.shape=(169, 3))>,\n",
       " <trimesh.Trimesh(vertices.shape=(87, 3), faces.shape=(168, 3))>,\n",
       " <trimesh.Trimesh(vertices.shape=(37, 3), faces.shape=(80, 3))>,\n",
       " <trimesh.Trimesh(vertices.shape=(36, 3), faces.shape=(67, 3))>,\n",
       " <trimesh.Trimesh(vertices.shape=(34, 3), faces.shape=(63, 3))>,\n",
       " <trimesh.Trimesh(vertices.shape=(34, 3), faces.shape=(62, 3))>,\n",
       " <trimesh.Trimesh(vertices.shape=(33, 3), faces.shape=(61, 3))>,\n",
       " <trimesh.Trimesh(vertices.shape=(31, 3), faces.shape=(57, 3))>,\n",
       " <trimesh.Trimesh(vertices.shape=(29, 3), faces.shape=(53, 3))>,\n",
       " <trimesh.Trimesh(vertices.shape=(29, 3), faces.shape=(52, 3))>,\n",
       " <trimesh.Trimesh(vertices.shape=(24, 3), faces.shape=(43, 3))>,\n",
       " <trimesh.Trimesh(vertices.shape=(14, 3), faces.shape=(23, 3))>,\n",
       " <trimesh.Trimesh(vertices.shape=(13, 3), faces.shape=(21, 3))>]"
      ]
     },
     "execution_count": 7,
     "metadata": {},
     "output_type": "execute_result"
    }
   ],
   "source": [
    "ex_branch = uncompressed_neuron.concept_network.nodes[\"L1\"][\"data\"].concept_network.nodes[0][\"data\"]\n",
    "ex_branch.spines"
   ]
  },
  {
   "cell_type": "markdown",
   "metadata": {},
   "source": [
    "# computeing the no_spine_average_mesh_center values"
   ]
  },
  {
   "cell_type": "code",
   "execution_count": 8,
   "metadata": {},
   "outputs": [],
   "source": [
    "with su.suppress_stdout_stderr():\n",
    "    uncompressed_neuron.calculate_width_without_spines(\n",
    "                                          skeleton_segment_size = 1000,\n",
    "                                           width_segment_size=None,\n",
    "                                          width_name = \"no_spine_average_mesh_center\")"
   ]
  },
  {
   "cell_type": "code",
   "execution_count": 9,
   "metadata": {},
   "outputs": [
    {
     "data": {
      "text/plain": [
       "{'no_spine_average': array([372.75437324, 328.64377553, 148.11267103, 235.88908257,\n",
       "        237.72764699, 175.76123199, 215.93820724, 386.47661501,\n",
       "        327.90467202, 191.90625293, 129.58133538, 189.7049377 ,\n",
       "        360.70651848, 308.36163671, 245.44215651, 309.91280024,\n",
       "        273.02297591, 207.28745859, 130.41295143, 370.1637702 ,\n",
       "        212.90529696, 247.40015838, 306.86701654, 238.35984494,\n",
       "        151.43830001, 447.81376663, 274.39246255, 142.71216301,\n",
       "        187.30387521, 229.30420152, 188.57875627, 210.25282697,\n",
       "        143.19435823, 220.03304347, 374.6692225 , 514.84399019,\n",
       "        244.41003929, 189.60409336, 348.3049448 , 213.76177858,\n",
       "        201.44191234, 303.3096528 , 229.40138204, 194.83332352,\n",
       "        128.80936243, 232.57096852, 330.33822644, 330.57582023,\n",
       "        250.42098842, 446.23522378, 476.80729782, 292.78751488,\n",
       "        229.25834441, 480.32121572, 260.09126987, 213.98734592,\n",
       "        167.91085773, 225.03117827, 303.33491583, 212.49090954,\n",
       "        149.84483506, 214.31031982, 239.83178541, 295.77594315,\n",
       "        301.91856425, 321.78488448, 361.0130714 , 200.10580233,\n",
       "        138.6099856 , 268.62104551, 378.42717799, 216.60146361,\n",
       "        314.1863069 , 316.90206383, 225.26236604, 307.54049258,\n",
       "        231.15307078, 215.66782784, 266.4009745 , 263.7394455 ,\n",
       "        299.08868677, 441.98542947, 369.01751038, 296.71373414,\n",
       "        365.78501969, 296.33495013, 236.15749307, 237.13677057]),\n",
       " 'no_spine_average_mesh_center': array([310.94122416, 301.12787417, 147.88987709, 238.82579172,\n",
       "        230.08758812, 174.65804683, 216.67562564, 384.99394334,\n",
       "        326.64536293, 134.26085138, 121.90770933, 177.67350522,\n",
       "        360.69820953, 308.60505556, 243.87380849, 310.49563048,\n",
       "        269.6056973 , 131.24532089, 126.73197045, 330.63877073,\n",
       "        206.11650213, 245.305129  , 305.57040612, 236.29062814,\n",
       "        149.59927497, 411.98146537, 274.10927861, 142.14453194,\n",
       "        186.92496737, 229.383849  , 186.24654577, 196.75209822,\n",
       "        138.24448746, 210.28045101, 375.73359012, 502.17039874,\n",
       "        243.06743546, 188.99084577, 348.78478283, 211.82429704,\n",
       "        197.66455994, 298.59238628, 223.43240374, 193.19247637,\n",
       "        123.68354509, 231.31782124, 327.93056709, 323.14862887,\n",
       "        246.24070483, 443.40152876, 477.77888352, 289.51352008,\n",
       "        224.94490712, 458.69498092, 250.94577877, 214.10591294,\n",
       "        156.92343614, 223.6488752 , 299.85903525, 211.97582976,\n",
       "        146.67768966, 194.57574596, 238.83408046, 280.70370209,\n",
       "        287.24353588, 321.57178403, 358.71848913, 200.99323263,\n",
       "        139.78964349, 266.44300545, 371.89183708, 215.13675723,\n",
       "        311.29298174, 312.1376699 , 224.47081641, 285.32004509,\n",
       "        227.02403124, 219.0532513 , 264.27241586, 263.02756228,\n",
       "        297.28442724, 437.26927506, 368.20476621, 290.21080032,\n",
       "        344.36861637, 296.1034269 , 234.42241288, 233.32392196])}"
      ]
     },
     "execution_count": 9,
     "metadata": {},
     "output_type": "execute_result"
    }
   ],
   "source": [
    "ex_branch.width_array"
   ]
  },
  {
   "cell_type": "markdown",
   "metadata": {},
   "source": [
    "# Using the queries to find the mesh parts"
   ]
  },
  {
   "cell_type": "code",
   "execution_count": 10,
   "metadata": {},
   "outputs": [],
   "source": [
    "import neuron_visualizations as nviz\n",
    "import neuron_searching as ns"
   ]
  },
  {
   "cell_type": "code",
   "execution_count": null,
   "metadata": {},
   "outputs": [],
   "source": [
    "current_functions_list = [\n",
    "    \"spines_per_skeletal_length\",\n",
    "    \"no_spine_average_mesh_center\",\n",
    "    \"n_spines\",\n",
    "    \"n_faces_branch\",\n",
    "    \n",
    "]\n",
    "\n",
    "\n",
    "with su.suppress_stdout_stderr():\n",
    "    limb_branch_dict = ns.query_neuron(uncompressed_neuron,\n",
    "                                       query=\"n_spines < 4 and no_spine_average_mesh_center < 400\",\n",
    "                   functions_list=current_functions_list)\n",
    "    #print(F\"limb_branch_dict BEFORE = {limb_branch_dict}\")\n",
    "\n",
    "    #How to give a limb_branch_dict as an argument\n",
    "    current_functions_list = [\"axon_segment\"]\n",
    "    limb_branch_dict_upstream_filter = ns.query_neuron(uncompressed_neuron,\n",
    "                                       query=\"axon_segment==True\",\n",
    "                                       function_kwargs=dict(limb_branch_dict =limb_branch_dict,\n",
    "                                                            downstream_face_threshold=3000,\n",
    "                                                            width_match_threshold=50,\n",
    "                                                           print_flag=False),\n",
    "                                       functions_list=current_functions_list)"
   ]
  },
  {
   "cell_type": "code",
   "execution_count": null,
   "metadata": {},
   "outputs": [],
   "source": [
    "nviz = reload(nviz)\n",
    "with su.suppress_stdout_stderr():\n",
    "    nviz.visualize_neuron(uncompressed_neuron,\n",
    "                          visualize_type=[\"mesh\"],\n",
    "                         limb_branch_dict=limb_branch_dict_upstream_filter,\n",
    "                          mesh_color=\"red\",\n",
    "                          mesh_color_alpha=1,\n",
    "                         mesh_whole_neuron=True)"
   ]
  },
  {
   "cell_type": "markdown",
   "metadata": {},
   "source": [
    "# Conclusions"
   ]
  },
  {
   "cell_type": "code",
   "execution_count": null,
   "metadata": {},
   "outputs": [],
   "source": [
    "\"\"\"\n",
    "There are still some false positives but this can be fixed when we do the merge analysis\n",
    "\n",
    "\n",
    "\"\"\""
   ]
  },
  {
   "cell_type": "markdown",
   "metadata": {},
   "source": [
    "# How to find the axon from this point"
   ]
  },
  {
   "cell_type": "code",
   "execution_count": null,
   "metadata": {},
   "outputs": [],
   "source": [
    "\"\"\"\n",
    "Ideas: \n",
    "1) Can look at how much axon in a row without being interrupted (or only interrupted by a certain amount)\n",
    "2) Look at branches that are within x distance of the soma\n",
    "3) Look at the width profile of the branch\n",
    "4) not a lot of spining\n",
    "5) where on the soma it is\n",
    "\"\"\""
   ]
  },
  {
   "cell_type": "markdown",
   "metadata": {},
   "source": [
    "# create a function that will measure the distance from the starting point (aka the soma)"
   ]
  },
  {
   "cell_type": "code",
   "execution_count": null,
   "metadata": {},
   "outputs": [],
   "source": [
    "import neuron_searching as ns\n",
    "ns = reload(ns)\n",
    "\n",
    "current_functions_list = [\n",
    "    \"skeletal_distance_from_soma\",\n",
    "    \"no_spine_average_mesh_center\",\n",
    "    \"n_spines\",\n",
    "    \"n_faces_branch\",\n",
    "    \n",
    "]\n",
    "\n",
    "function_kwargs=dict(somas=[0,1],print_flag=False)\n",
    "soma_skeletal_distance_threshold = 30000\n",
    "query=\"skeletal_distance_from_soma < @soma_skeletal_distance_threshold\"\n",
    "query_variables_dict = dict(limb_list=['L1'],\n",
    "                           soma_skeletal_distance_threshold=soma_skeletal_distance_threshold)\n",
    "\n",
    "# limb_branch_dict_df = ns.query_neuron(uncompressed_neuron,\n",
    "#                                    query=query,\n",
    "#                                       function_kwargs=function_kwargs,\n",
    "#                                       query_variables_dict=query_variables_dict,\n",
    "#                functions_list=current_functions_list,\n",
    "#                                   return_dataframe=True)\n",
    "\n",
    "limb_branch_dict = ns.query_neuron(uncompressed_neuron,\n",
    "                                   query=query,\n",
    "               functions_list=current_functions_list,\n",
    "                                   query_variables_dict=query_variables_dict,\n",
    "                                   function_kwargs=function_kwargs,\n",
    "                                  return_dataframe=False)\n"
   ]
  },
  {
   "cell_type": "code",
   "execution_count": null,
   "metadata": {},
   "outputs": [],
   "source": [
    "limb_branch_dict"
   ]
  },
  {
   "cell_type": "code",
   "execution_count": null,
   "metadata": {},
   "outputs": [],
   "source": [
    "nviz = reload(nviz)\n",
    "\n",
    "returned_colors = nviz.visualize_neuron(uncompressed_neuron,\n",
    "                      visualize_type=[\"mesh\"],\n",
    "                     limb_branch_dict=limb_branch_dict,\n",
    "                      mesh_color=\"red\",\n",
    "                      mesh_color_alpha=1,\n",
    "                     #mesh_whole_neuron=True,\n",
    "                     return_color_dict=True,\n",
    "                    print_time=True)"
   ]
  },
  {
   "cell_type": "code",
   "execution_count": null,
   "metadata": {
    "scrolled": true
   },
   "outputs": [],
   "source": [
    "mu = reload(mu)\n",
    "mu.plot_color_dict(returned_colors,print_flag=False)"
   ]
  },
  {
   "cell_type": "markdown",
   "metadata": {},
   "source": [
    "# The algorithm for finding the axon branch"
   ]
  },
  {
   "cell_type": "markdown",
   "metadata": {},
   "source": [
    "# --- practicing getting skeletons ----"
   ]
  },
  {
   "cell_type": "code",
   "execution_count": 35,
   "metadata": {},
   "outputs": [
    {
     "name": "stdout",
     "output_type": "stream",
     "text": [
      "Recieved another instance of Neuron class in init -- so just copying data\n"
     ]
    }
   ],
   "source": [
    "neuron = reload(neuron)\n",
    "uncompressed_neuron = neuron.Neuron(uncompressed_neuron)"
   ]
  },
  {
   "cell_type": "code",
   "execution_count": 36,
   "metadata": {},
   "outputs": [],
   "source": [
    "ex_limb_obj = uncompressed_neuron.concept_network.nodes[\"L3\"][\"data\"]"
   ]
  },
  {
   "cell_type": "code",
   "execution_count": 38,
   "metadata": {},
   "outputs": [
    {
     "data": {
      "text/plain": [
       "11"
      ]
     },
     "execution_count": 38,
     "metadata": {},
     "output_type": "execute_result"
    }
   ],
   "source": [
    "ex_limb_obj.find_branch_by_skeleton_coordinate(np.array([729486.6, 977760.4, 921825.8]))"
   ]
  },
  {
   "cell_type": "code",
   "execution_count": 23,
   "metadata": {},
   "outputs": [
    {
     "ename": "KeyError",
     "evalue": "1",
     "output_type": "error",
     "traceback": [
      "\u001b[0;31m---------------------------------------------------------------------------\u001b[0m",
      "\u001b[0;31mKeyError\u001b[0m                                  Traceback (most recent call last)",
      "\u001b[0;32m<ipython-input-23-001d8ba5b214>\u001b[0m in \u001b[0;36m<module>\u001b[0;34m\u001b[0m\n\u001b[1;32m      1\u001b[0m \u001b[0mex_limb_obj\u001b[0m\u001b[0;34m.\u001b[0m\u001b[0mconcept_network_data_by_soma\u001b[0m\u001b[0;34m\u001b[0m\u001b[0;34m\u001b[0m\u001b[0m\n\u001b[0;32m----> 2\u001b[0;31m \u001b[0mex_limb_obj\u001b[0m\u001b[0;34m.\u001b[0m\u001b[0mget_skeleton_soma_starting_node\u001b[0m\u001b[0;34m(\u001b[0m\u001b[0;36m1\u001b[0m\u001b[0;34m)\u001b[0m\u001b[0;34m\u001b[0m\u001b[0;34m\u001b[0m\u001b[0m\n\u001b[0m",
      "\u001b[0;32m/notebooks/meshAfterParty/meshAfterParty/neuron.py\u001b[0m in \u001b[0;36mget_skeleton_soma_starting_node\u001b[0;34m(self, soma, print_flag)\u001b[0m\n\u001b[1;32m    338\u001b[0m         \"\"\"\n\u001b[1;32m    339\u001b[0m         \u001b[0;31m#limb_starting_coordinate = self.get_soma_starting_coordinate(soma)\u001b[0m\u001b[0;34m\u001b[0m\u001b[0;34m\u001b[0m\u001b[0;34m\u001b[0m\u001b[0m\n\u001b[0;32m--> 340\u001b[0;31m         \u001b[0mlimb_starting_coordinate\u001b[0m \u001b[0;34m=\u001b[0m \u001b[0mself\u001b[0m\u001b[0;34m.\u001b[0m\u001b[0mconcept_network_data_by_soma\u001b[0m\u001b[0;34m[\u001b[0m\u001b[0msoma\u001b[0m\u001b[0;34m]\u001b[0m\u001b[0;34m[\u001b[0m\u001b[0;34m\"starting_coordinate\"\u001b[0m\u001b[0;34m]\u001b[0m\u001b[0;34m\u001b[0m\u001b[0;34m\u001b[0m\u001b[0m\n\u001b[0m\u001b[1;32m    341\u001b[0m \u001b[0;34m\u001b[0m\u001b[0m\n\u001b[1;32m    342\u001b[0m         \u001b[0;32mif\u001b[0m \u001b[0mprint_flag\u001b[0m\u001b[0;34m:\u001b[0m\u001b[0;34m\u001b[0m\u001b[0;34m\u001b[0m\u001b[0m\n",
      "\u001b[0;31mKeyError\u001b[0m: 1"
     ]
    }
   ],
   "source": [
    "ex_limb_obj.concept_network_data_by_soma\n",
    "ex_limb_obj.get_skeleton_soma_starting_node(1)"
   ]
  },
  {
   "cell_type": "code",
   "execution_count": null,
   "metadata": {},
   "outputs": [],
   "source": [
    "interested_soma = 0\n",
    "ex_limb_obj = uncompressed_neuron.concept_network.nodes[\"L4\"][\"data\"]"
   ]
  },
  {
   "cell_type": "code",
   "execution_count": null,
   "metadata": {},
   "outputs": [],
   "source": [
    "ex_limb_obj.touching_somas()\n",
    "ex_limb_starting_coordinate = ex_limb_obj.get_soma_starting_coordinate(1)\n",
    "ex_limb_starting_coordinate"
   ]
  },
  {
   "cell_type": "code",
   "execution_count": null,
   "metadata": {},
   "outputs": [],
   "source": [
    "import skeleton_utils as sk\n",
    "import networkx as nx\n",
    "import networkx_utils as xu\n",
    "ex_limb_skeleton_graph = sk.convert_skeleton_to_graph(ex_limb_obj.skeleton)\n",
    "xu.get_nodes_with_attributes_dict(ex_limb_skeleton_graph,\n",
    "                                  attribute_dict=dict(coordinates=ex_limb_starting_coordinate))"
   ]
  },
  {
   "cell_type": "code",
   "execution_count": null,
   "metadata": {},
   "outputs": [],
   "source": [
    "\n",
    "\n",
    "get_skeleton_soma_starting_node(uncompressed_neuron.concept_network.nodes[\"L5\"][\"data\"],\n",
    "                               0,\n",
    "                               print_flag = True)"
   ]
  },
  {
   "cell_type": "code",
   "execution_count": null,
   "metadata": {},
   "outputs": [],
   "source": [
    "ex_limb_skeleton_graph.nodes[256]"
   ]
  },
  {
   "cell_type": "code",
   "execution_count": 31,
   "metadata": {},
   "outputs": [
    {
     "data": {
      "text/plain": [
       "array([729486.6, 977760.4, 921825.8])"
      ]
     },
     "execution_count": 31,
     "metadata": {},
     "output_type": "execute_result"
    }
   ],
   "source": [
    "ex_limb_obj.skeleton[1000][1]"
   ]
  },
  {
   "cell_type": "code",
   "execution_count": null,
   "metadata": {},
   "outputs": [],
   "source": []
  },
  {
   "cell_type": "code",
   "execution_count": 32,
   "metadata": {},
   "outputs": [
    {
     "data": {
      "text/plain": [
       "11"
      ]
     },
     "execution_count": 32,
     "metadata": {},
     "output_type": "execute_result"
    }
   ],
   "source": [
    "import numpy_utils as nu\n",
    "import numpy as np\n",
    "\n",
    "\n",
    "limb= ex_limb_obj\n",
    "target_coordinate = np.array([695784., 986044., 906273.])\n",
    "\n",
    "\n",
    "\n",
    "find_branch_by_skeleton_coordinate(limb= ex_limb_obj,\n",
    "target_coordinate = np.array([729486.6, 977760.4, 921825.8]))"
   ]
  },
  {
   "cell_type": "code",
   "execution_count": null,
   "metadata": {},
   "outputs": [],
   "source": [
    "\"\"\"\n",
    "New Tool for help with identification\n",
    "\n",
    "Purpose: \n",
    "\n",
    "Given: \n",
    "a) If given limb or branch (any object)\n",
    "b) want starting endpoint of that limb/branch\n",
    "\n",
    "Gete the skeleton of x distance from the starting point\n",
    "Get the vector from the starting point to the endpoints\n",
    "Get the angle between that and a hardcoded vector of your choice\n",
    "\n",
    "\n",
    "Get the paths from the endpoints to the starting point\n",
    "For all those paths get the vector from \n",
    "\n",
    "\n",
    "\n",
    "Better algorithm: \n",
    "1) Take all skeletons of branches that border a soma\n",
    "and stitch them together at the soma node\n",
    "\n",
    "\n",
    "Would want to trace it back to the specific branch it starts on\n",
    "\n",
    "For each limb: \n",
    "1) \n",
    "\n",
    "2) \n",
    "\n",
    "\n",
    "\n",
    "\"\"\""
   ]
  },
  {
   "cell_type": "markdown",
   "metadata": {},
   "source": [
    "# Developing colors"
   ]
  },
  {
   "cell_type": "code",
   "execution_count": null,
   "metadata": {},
   "outputs": [],
   "source": [
    "import webcolors\n",
    "import numpy as np\n",
    "\n",
    "def closest_colour(requested_colour):\n",
    "    min_colours = {}\n",
    "    for key, name in webcolors.CSS3_HEX_TO_NAMES.items():\n",
    "        r_c, g_c, b_c = webcolors.hex_to_rgb(key)\n",
    "        rd = (r_c - requested_colour[0]) ** 2\n",
    "        gd = (g_c - requested_colour[1]) ** 2\n",
    "        bd = (b_c - requested_colour[2]) ** 2\n",
    "        min_colours[(rd + gd + bd)] = name\n",
    "    return min_colours[min(min_colours.keys())]\n",
    "\n",
    "def get_colour_name(requested_colour):\n",
    "    try:\n",
    "        closest_name = actual_name = webcolors.rgb_to_name(requested_colour)\n",
    "    except ValueError:\n",
    "        closest_name = closest_colour(requested_colour)\n",
    "        actual_name = None\n",
    "    return actual_name, closest_name\n",
    "\n",
    "def convert_rgb_to_name(rgb_value):\n",
    "    rgb_value = np.array(rgb_value)\n",
    "    if not nu.is_array_like(rgb_value[0]):\n",
    "        rgb_value = rgb_value.reshape(1,-1)\n",
    "    \n",
    "    print(f\"rgb_value.shape = {rgb_value.shape}\")\n",
    "\n",
    "    output_colors = []\n",
    "    for k in rgb_value:\n",
    "        if len(k) > 3:\n",
    "            k = k[:3]\n",
    "        adjusted_color_value = np.array(k)*255\n",
    "        output_colors.append(get_colour_name(adjusted_color_value)[-1])\n",
    "    \n",
    "    if len(output_colors) == 1:\n",
    "        return output_colors[0]\n",
    "    elif len(output_colors) > 1:\n",
    "        return output_colors\n",
    "    else:\n",
    "        raise Exception(\"len(output_colors) == 0\")"
   ]
  }
 ],
 "metadata": {
  "kernelspec": {
   "display_name": "Python 3",
   "language": "python",
   "name": "python3"
  },
  "language_info": {
   "codemirror_mode": {
    "name": "ipython",
    "version": 3
   },
   "file_extension": ".py",
   "mimetype": "text/x-python",
   "name": "python",
   "nbconvert_exporter": "python",
   "pygments_lexer": "ipython3",
   "version": "3.6.9"
  }
 },
 "nbformat": 4,
 "nbformat_minor": 4
}
