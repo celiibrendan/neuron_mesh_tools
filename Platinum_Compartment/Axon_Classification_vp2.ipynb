{
 "cells": [
  {
   "cell_type": "code",
   "execution_count": null,
   "metadata": {},
   "outputs": [],
   "source": [
    "from os import sys\n",
    "sys.path.append(\"../../meshAfterParty/\")\n",
    "#sys.path.append(\"../../meshAfterParty/meshAfterParty\")"
   ]
  },
  {
   "cell_type": "code",
   "execution_count": null,
   "metadata": {},
   "outputs": [],
   "source": [
    "from importlib import reload\n",
    "import os\n",
    "from pathlib import Path\n",
    "os.getcwd()\n",
    "\n",
    "import neuron_utils as nru\n",
    "nru = reload(nru)\n",
    "import neuron\n",
    "neuron=reload(neuron)\n",
    "import neuron_visualizations as nviz\n",
    "import time"
   ]
  },
  {
   "cell_type": "code",
   "execution_count": null,
   "metadata": {},
   "outputs": [],
   "source": [
    "import system_utils as su"
   ]
  },
  {
   "cell_type": "markdown",
   "metadata": {},
   "source": [
    "# Loading the neuron object"
   ]
  },
  {
   "cell_type": "code",
   "execution_count": null,
   "metadata": {},
   "outputs": [],
   "source": [
    "import system_utils as su\n",
    "uncompressed_neuron = su.load_object(\"../test_neurons/test_objects/12345_2_soma_practice_decompress.pkl\")\n",
    "uncompressed_neuron = neuron.Neuron(uncompressed_neuron)"
   ]
  },
  {
   "cell_type": "code",
   "execution_count": null,
   "metadata": {},
   "outputs": [],
   "source": [
    "ex_branch = uncompressed_neuron.concept_network.nodes[\"L1\"][\"data\"].concept_network.nodes[0][\"data\"]\n",
    "ex_branch.spines"
   ]
  },
  {
   "cell_type": "markdown",
   "metadata": {},
   "source": [
    "# computeing the no_spine_average_mesh_center values"
   ]
  },
  {
   "cell_type": "code",
   "execution_count": null,
   "metadata": {},
   "outputs": [],
   "source": [
    "with su.suppress_stdout_stderr():\n",
    "    uncompressed_neuron.calculate_width_without_spines(\n",
    "                                          skeleton_segment_size = 1000,\n",
    "                                           width_segment_size=None,\n",
    "                                          width_name = \"no_spine_average_mesh_center\")"
   ]
  },
  {
   "cell_type": "code",
   "execution_count": null,
   "metadata": {},
   "outputs": [],
   "source": [
    "ex_branch.width_array"
   ]
  },
  {
   "cell_type": "markdown",
   "metadata": {},
   "source": [
    "# Using the queries to find the mesh parts"
   ]
  },
  {
   "cell_type": "code",
   "execution_count": null,
   "metadata": {},
   "outputs": [],
   "source": [
    "import neuron_visualizations as nviz\n",
    "import neuron_searching as ns"
   ]
  },
  {
   "cell_type": "code",
   "execution_count": null,
   "metadata": {},
   "outputs": [],
   "source": [
    "current_functions_list = [\n",
    "    \"spines_per_skeletal_length\",\n",
    "    \"no_spine_average_mesh_center\",\n",
    "    \"n_spines\",\n",
    "    \"n_faces_branch\",\n",
    "    \n",
    "]\n",
    "\n",
    "\n",
    "with su.suppress_stdout_stderr():\n",
    "    limb_branch_dict = ns.query_neuron(uncompressed_neuron,\n",
    "                                       query=\"n_spines < 4 and no_spine_average_mesh_center < 400\",\n",
    "                   functions_list=current_functions_list)\n",
    "    #print(F\"limb_branch_dict BEFORE = {limb_branch_dict}\")\n",
    "\n",
    "    #How to give a limb_branch_dict as an argument\n",
    "    current_functions_list = [\"axon_segment\"]\n",
    "    limb_branch_dict_upstream_filter = ns.query_neuron(uncompressed_neuron,\n",
    "                                       query=\"axon_segment==True\",\n",
    "                                       function_kwargs=dict(limb_branch_dict =limb_branch_dict,\n",
    "                                                            downstream_face_threshold=3000,\n",
    "                                                            width_match_threshold=50,\n",
    "                                                           print_flag=False),\n",
    "                                       functions_list=current_functions_list)"
   ]
  },
  {
   "cell_type": "code",
   "execution_count": null,
   "metadata": {},
   "outputs": [],
   "source": [
    "nviz = reload(nviz)\n",
    "with su.suppress_stdout_stderr():\n",
    "    nviz.visualize_neuron(uncompressed_neuron,\n",
    "                          visualize_type=[\"mesh\"],\n",
    "                         limb_branch_dict=limb_branch_dict_upstream_filter,\n",
    "                          mesh_color=\"red\",\n",
    "                          mesh_color_alpha=1,\n",
    "                         mesh_whole_neuron=True)"
   ]
  },
  {
   "cell_type": "markdown",
   "metadata": {},
   "source": [
    "# Conclusions"
   ]
  },
  {
   "cell_type": "code",
   "execution_count": null,
   "metadata": {},
   "outputs": [],
   "source": [
    "\"\"\"\n",
    "There are still some false positives but this can be fixed when we do the merge analysis\n",
    "\n",
    "\n",
    "\"\"\""
   ]
  },
  {
   "cell_type": "markdown",
   "metadata": {},
   "source": [
    "# How to find the axon from this point"
   ]
  },
  {
   "cell_type": "code",
   "execution_count": null,
   "metadata": {},
   "outputs": [],
   "source": [
    "\"\"\"\n",
    "Ideas: \n",
    "1) Can look at how much axon in a row without being interrupted (or only interrupted by a certain amount)\n",
    "2) Look at branches that are within x distance of the soma\n",
    "3) Look at the width profile of the branch\n",
    "4) not a lot of spining\n",
    "5) where on the soma it is\n",
    "\"\"\""
   ]
  },
  {
   "cell_type": "markdown",
   "metadata": {},
   "source": [
    "# create a function that will measure the distance from the starting point (aka the soma)"
   ]
  },
  {
   "cell_type": "code",
   "execution_count": null,
   "metadata": {},
   "outputs": [],
   "source": [
    "import neuron_searching as ns\n",
    "ns = reload(ns)\n",
    "\n",
    "current_functions_list = [\n",
    "    \"skeletal_distance_from_soma\",\n",
    "    \"no_spine_average_mesh_center\",\n",
    "    \"n_spines\",\n",
    "    \"n_faces_branch\",\n",
    "    \n",
    "]\n",
    "\n",
    "function_kwargs=dict(somas=[0,1],print_flag=False)\n",
    "soma_skeletal_distance_threshold = 30000\n",
    "query=\"skeletal_distance_from_soma < @soma_skeletal_distance_threshold\"\n",
    "query_variables_dict = dict(limb_list=['L1'],\n",
    "                           soma_skeletal_distance_threshold=soma_skeletal_distance_threshold)\n",
    "\n",
    "# limb_branch_dict_df = ns.query_neuron(uncompressed_neuron,\n",
    "#                                    query=query,\n",
    "#                                       function_kwargs=function_kwargs,\n",
    "#                                       query_variables_dict=query_variables_dict,\n",
    "#                functions_list=current_functions_list,\n",
    "#                                   return_dataframe=True)\n",
    "\n",
    "limb_branch_dict = ns.query_neuron(uncompressed_neuron,\n",
    "                                   query=query,\n",
    "               functions_list=current_functions_list,\n",
    "                                   query_variables_dict=query_variables_dict,\n",
    "                                   function_kwargs=function_kwargs,\n",
    "                                  return_dataframe=False)\n"
   ]
  },
  {
   "cell_type": "code",
   "execution_count": null,
   "metadata": {},
   "outputs": [],
   "source": [
    "limb_branch_dict"
   ]
  },
  {
   "cell_type": "code",
   "execution_count": null,
   "metadata": {},
   "outputs": [],
   "source": [
    "nviz = reload(nviz)\n",
    "\n",
    "returned_colors = nviz.visualize_neuron(uncompressed_neuron,\n",
    "                      visualize_type=[\"mesh\"],\n",
    "                     limb_branch_dict=limb_branch_dict,\n",
    "                      mesh_color=\"red\",\n",
    "                      mesh_color_alpha=1,\n",
    "                     #mesh_whole_neuron=True,\n",
    "                     return_color_dict=True,\n",
    "                    print_time=True)"
   ]
  },
  {
   "cell_type": "code",
   "execution_count": null,
   "metadata": {
    "scrolled": true
   },
   "outputs": [],
   "source": [
    "mu = reload(mu)\n",
    "mu.plot_color_dict(returned_colors,print_flag=False)"
   ]
  },
  {
   "cell_type": "markdown",
   "metadata": {},
   "source": [
    "# The algorithm for finding the axon branch"
   ]
  },
  {
   "cell_type": "markdown",
   "metadata": {},
   "source": [
    "# --- practicing getting skeletons ----"
   ]
  },
  {
   "cell_type": "code",
   "execution_count": null,
   "metadata": {},
   "outputs": [],
   "source": [
    "neuron = reload(neuron)\n",
    "uncompressed_neuron = neuron.Neuron(uncompressed_neuron)"
   ]
  },
  {
   "cell_type": "code",
   "execution_count": null,
   "metadata": {},
   "outputs": [],
   "source": [
    "ex_limb_obj = uncompressed_neuron.concept_network.nodes[\"L3\"][\"data\"]"
   ]
  },
  {
   "cell_type": "code",
   "execution_count": null,
   "metadata": {},
   "outputs": [],
   "source": [
    "ex_limb_obj.find_branch_by_skeleton_coordinate(np.array([729486.6, 977760.4, 921825.8]))"
   ]
  },
  {
   "cell_type": "code",
   "execution_count": null,
   "metadata": {},
   "outputs": [],
   "source": [
    "ex_limb_obj.concept_network_data_by_soma\n",
    "ex_limb_obj.get_skeleton_soma_starting_node(1)"
   ]
  },
  {
   "cell_type": "code",
   "execution_count": null,
   "metadata": {},
   "outputs": [],
   "source": [
    "interested_soma = 0\n",
    "ex_limb_obj = uncompressed_neuron.concept_network.nodes[\"L4\"][\"data\"]"
   ]
  },
  {
   "cell_type": "code",
   "execution_count": null,
   "metadata": {},
   "outputs": [],
   "source": [
    "ex_limb_obj.touching_somas()\n",
    "ex_limb_starting_coordinate = ex_limb_obj.get_soma_starting_coordinate(1)\n",
    "ex_limb_starting_coordinate"
   ]
  },
  {
   "cell_type": "code",
   "execution_count": null,
   "metadata": {},
   "outputs": [],
   "source": [
    "import skeleton_utils as sk\n",
    "import networkx as nx\n",
    "import networkx_utils as xu\n",
    "ex_limb_skeleton_graph = sk.convert_skeleton_to_graph(ex_limb_obj.skeleton)\n",
    "xu.get_nodes_with_attributes_dict(ex_limb_skeleton_graph,\n",
    "                                  attribute_dict=dict(coordinates=ex_limb_starting_coordinate))"
   ]
  },
  {
   "cell_type": "code",
   "execution_count": null,
   "metadata": {},
   "outputs": [],
   "source": [
    "\n",
    "\n",
    "get_skeleton_soma_starting_node(uncompressed_neuron.concept_network.nodes[\"L5\"][\"data\"],\n",
    "                               0,\n",
    "                               print_flag = True)"
   ]
  },
  {
   "cell_type": "code",
   "execution_count": null,
   "metadata": {},
   "outputs": [],
   "source": [
    "ex_limb_skeleton_graph.nodes[256]"
   ]
  },
  {
   "cell_type": "code",
   "execution_count": null,
   "metadata": {},
   "outputs": [],
   "source": [
    "ex_limb_obj.skeleton[1000][1]"
   ]
  },
  {
   "cell_type": "code",
   "execution_count": null,
   "metadata": {},
   "outputs": [],
   "source": []
  },
  {
   "cell_type": "code",
   "execution_count": null,
   "metadata": {},
   "outputs": [],
   "source": [
    "import numpy_utils as nu\n",
    "import numpy as np\n",
    "\n",
    "\n",
    "limb= ex_limb_obj\n",
    "target_coordinate = np.array([695784., 986044., 906273.])\n",
    "\n",
    "\n",
    "\n",
    "find_branch_by_skeleton_coordinate(limb= ex_limb_obj,\n",
    "target_coordinate = np.array([729486.6, 977760.4, 921825.8]))"
   ]
  },
  {
   "cell_type": "code",
   "execution_count": null,
   "metadata": {},
   "outputs": [],
   "source": [
    "\"\"\"\n",
    "New Tool for help with identification\n",
    "\n",
    "Purpose: \n",
    "\n",
    "Given: \n",
    "a) If given limb or branch (any object)\n",
    "b) want starting endpoint of that limb/branch\n",
    "\n",
    "Gete the skeleton of x distance from the starting point\n",
    "Get the vector from the starting point to the endpoints\n",
    "Get the angle between that and a hardcoded vector of your choice\n",
    "\n",
    "\n",
    "Get the paths from the endpoints to the starting point\n",
    "For all those paths get the vector from \n",
    "\n",
    "\n",
    "\n",
    "Better algorithm: \n",
    "1) Take all skeletons of branches that border a soma\n",
    "and stitch them together at the soma node\n",
    "\n",
    "\n",
    "Would want to trace it back to the specific branch it starts on\n",
    "\n",
    "For each limb: \n",
    "1) \n",
    "\n",
    "2) \n",
    "\n",
    "\n",
    "\n",
    "\"\"\""
   ]
  },
  {
   "cell_type": "markdown",
   "metadata": {},
   "source": [
    "# Developing colors"
   ]
  },
  {
   "cell_type": "code",
   "execution_count": null,
   "metadata": {},
   "outputs": [],
   "source": [
    "import webcolors\n",
    "import numpy as np\n",
    "\n",
    "def closest_colour(requested_colour):\n",
    "    min_colours = {}\n",
    "    for key, name in webcolors.CSS3_HEX_TO_NAMES.items():\n",
    "        r_c, g_c, b_c = webcolors.hex_to_rgb(key)\n",
    "        rd = (r_c - requested_colour[0]) ** 2\n",
    "        gd = (g_c - requested_colour[1]) ** 2\n",
    "        bd = (b_c - requested_colour[2]) ** 2\n",
    "        min_colours[(rd + gd + bd)] = name\n",
    "    return min_colours[min(min_colours.keys())]\n",
    "\n",
    "def get_colour_name(requested_colour):\n",
    "    try:\n",
    "        closest_name = actual_name = webcolors.rgb_to_name(requested_colour)\n",
    "    except ValueError:\n",
    "        closest_name = closest_colour(requested_colour)\n",
    "        actual_name = None\n",
    "    return actual_name, closest_name\n",
    "\n",
    "def convert_rgb_to_name(rgb_value):\n",
    "    rgb_value = np.array(rgb_value)\n",
    "    if not nu.is_array_like(rgb_value[0]):\n",
    "        rgb_value = rgb_value.reshape(1,-1)\n",
    "    \n",
    "    print(f\"rgb_value.shape = {rgb_value.shape}\")\n",
    "\n",
    "    output_colors = []\n",
    "    for k in rgb_value:\n",
    "        if len(k) > 3:\n",
    "            k = k[:3]\n",
    "        adjusted_color_value = np.array(k)*255\n",
    "        output_colors.append(get_colour_name(adjusted_color_value)[-1])\n",
    "    \n",
    "    if len(output_colors) == 1:\n",
    "        return output_colors[0]\n",
    "    elif len(output_colors) > 1:\n",
    "        return output_colors\n",
    "    else:\n",
    "        raise Exception(\"len(output_colors) == 0\")"
   ]
  }
 ],
 "metadata": {
  "kernelspec": {
   "display_name": "Python 3",
   "language": "python",
   "name": "python3"
  },
  "language_info": {
   "codemirror_mode": {
    "name": "ipython",
    "version": 3
   },
   "file_extension": ".py",
   "mimetype": "text/x-python",
   "name": "python",
   "nbconvert_exporter": "python",
   "pygments_lexer": "ipython3",
   "version": "3.6.9"
  }
 },
 "nbformat": 4,
 "nbformat_minor": 4
}
