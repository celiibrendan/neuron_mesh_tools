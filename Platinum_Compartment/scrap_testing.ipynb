{
 "cells": [
  {
   "cell_type": "code",
   "execution_count": null,
   "metadata": {},
   "outputs": [],
   "source": [
    "error_array = np.array([[[747406., 833303., 837956.],\n",
    "        [747930., 833302., 837983.]]])"
   ]
  },
  {
   "cell_type": "code",
   "execution_count": 2,
   "metadata": {},
   "outputs": [],
   "source": [
    "import numpy as np\n"
   ]
  },
  {
   "cell_type": "code",
   "execution_count": 7,
   "metadata": {},
   "outputs": [],
   "source": [
    "skeleton_node_coordinates = np.array([[ 543158.4, 1038308. ,  907171.7],\n",
    "       [ 543186.4, 1041988. ,  908267.2],\n",
    "       [ 543244.2, 1042422. ,  908158.7],\n",
    "       [ 543281. , 1038330. ,  907063. ],\n",
    "       [ 543283. , 1038370. ,  907077. ],\n",
    "       [ 543283. , 1038380. ,  907079. ],\n",
    "       [ 543321.1, 1037964. ,  906957.1],\n",
    "       [ 543368. , 1041023. ,  907942.7],\n",
    "       [ 543394.4, 1038393. ,  907126.2],\n",
    "       [ 543402.5, 1042541. ,  907920.3],\n",
    "       [ 543404.8, 1041559. ,  908055.2],\n",
    "       [ 543414. , 1040180. ,  907882.7],\n",
    "       [ 543441.1, 1038699. ,  907139.8],\n",
    "       [ 543461.6, 1039908. ,  907719.4],\n",
    "       [ 543476. , 1040910. ,  907977. ],\n",
    "       [ 543476. , 1040970. ,  907994. ],\n",
    "       [ 543477.6, 1039409. ,  907592. ],\n",
    "       [ 543510.9, 1042544. ,  907581.2],\n",
    "       [ 543545.4, 1040585. ,  907870.8],\n",
    "       [ 543562.2, 1040922. ,  908016.5],\n",
    "       [ 543562.4, 1039058. ,  907398.8],\n",
    "       [ 543599.1, 1037570. ,  906946.9],\n",
    "       [ 543604.2, 1042972. ,  907344.9],\n",
    "       [ 543642. , 1043190. ,  907616. ],\n",
    "       [ 543678. , 1043160. ,  907620. ],\n",
    "       [ 543722. , 1043130. ,  907638. ],\n",
    "       [ 543722.1, 1042659. ,  907256.4],\n",
    "       [ 543764.6, 1043422. ,  907418.2],\n",
    "       [ 543788.9, 1037133. ,  906862.1],\n",
    "       [ 543954.3, 1036630. ,  906737.6],\n",
    "       [ 544040.4, 1036196. ,  906669.4],\n",
    "       [ 544343.7, 1035775. ,  906504.2],\n",
    "       [ 544587.5, 1035492. ,  906599.8],\n",
    "       [ 544668.6, 1035294. ,  906598.4],\n",
    "       [ 544699. , 1035080. ,  907285. ]])\n",
    "\n",
    "s = np.arange(0,len(skeleton_node_coordinates)).T\n",
    "edges = np.vstack([s[:-1],s[1:]]).T\n",
    "new_skeleton = skeleton_node_coordinates[edges] "
   ]
  },
  {
   "cell_type": "code",
   "execution_count": 9,
   "metadata": {},
   "outputs": [
    {
     "data": {
      "text/plain": [
       "array([ 543722., 1043130.,  907638.])"
      ]
     },
     "execution_count": 9,
     "metadata": {},
     "output_type": "execute_result"
    }
   ],
   "source": [
    "skeleton_node_coordinates[25]"
   ]
  },
  {
   "cell_type": "code",
   "execution_count": null,
   "metadata": {},
   "outputs": [],
   "source": [
    "[25, 24, 23, 27.0, 22, 26.0, 17, 9, 2, 1, 10.0, \n",
    " 7, 15.0, 14, 19.0, 18, 11, 13.0, 16.0, 20.0, 12, \n",
    " 0, 3.0, 4.0, 5.0, 8.0, 6, 21.0, 28.0, 29.0, 30.0, 31.0, 32.0, 33.0, 34.0]"
   ]
  },
  {
   "cell_type": "code",
   "execution_count": null,
   "metadata": {},
   "outputs": [],
   "source": []
  }
 ],
 "metadata": {
  "kernelspec": {
   "display_name": "Python 3",
   "language": "python",
   "name": "python3"
  },
  "language_info": {
   "codemirror_mode": {
    "name": "ipython",
    "version": 3
   },
   "file_extension": ".py",
   "mimetype": "text/x-python",
   "name": "python",
   "nbconvert_exporter": "python",
   "pygments_lexer": "ipython3",
   "version": "3.6.9"
  }
 },
 "nbformat": 4,
 "nbformat_minor": 4
}
