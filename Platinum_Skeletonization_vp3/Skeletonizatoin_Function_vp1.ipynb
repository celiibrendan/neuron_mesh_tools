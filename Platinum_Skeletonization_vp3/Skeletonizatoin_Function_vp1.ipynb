{
 "cells": [
  {
   "cell_type": "code",
   "execution_count": 1,
   "metadata": {},
   "outputs": [
    {
     "data": {
      "text/plain": [
       "'\\nPurpose to make the skeletonization function that can \\njust be called on any mesh \\n\\nArguments: \\n- Mesh\\n- (Possible Soma mesh already computed)\\n- All parameters for skeletonization\\n\\nOutputs\\n- whether to save a html of the skeleton\\n- the skeleton of the neuron\\n'"
      ]
     },
     "execution_count": 1,
     "metadata": {},
     "output_type": "execute_result"
    }
   ],
   "source": [
    "\"\"\"\n",
    "Purpose to make the skeletonization function that can \n",
    "just be called on any mesh \n",
    "\n",
    "Arguments: \n",
    "- Mesh\n",
    "- (Possible Soma mesh already computed)\n",
    "- All parameters for skeletonization\n",
    "\n",
    "Outputs\n",
    "- whether to save a html of the skeleton\n",
    "- the skeleton of the neuron\n",
    "\"\"\""
   ]
  },
  {
   "cell_type": "code",
   "execution_count": 2,
   "metadata": {},
   "outputs": [],
   "source": [
    "from pykdtree.kdtree import KDTree\n",
    "import time\n",
    "import trimesh\n",
    "import numpy as np\n",
    "from pathlib import Path\n",
    "\n",
    "import time\n",
    "import os\n",
    "import pathlib\n",
    "\n",
    "from tqdm.notebook import tqdm"
   ]
  },
  {
   "cell_type": "code",
   "execution_count": 3,
   "metadata": {},
   "outputs": [],
   "source": [
    "import meshlab\n",
    "from importlib import reload\n",
    "meshlab = reload(meshlab)\n",
    "from meshlab import Decimator , Poisson\n",
    "import skeleton_utils as sk\n",
    "\n",
    "from shutil import rmtree\n",
    "from pathlib import Path"
   ]
  },
  {
   "cell_type": "code",
   "execution_count": 4,
   "metadata": {},
   "outputs": [],
   "source": [
    "import soma_extraction_utils as soma_utils\n",
    "from pathlib import Path\n",
    "import trimesh"
   ]
  },
  {
   "cell_type": "markdown",
   "metadata": {},
   "source": [
    "# Util functions for skeletonization"
   ]
  },
  {
   "cell_type": "code",
   "execution_count": 5,
   "metadata": {},
   "outputs": [],
   "source": [
    "def load_somas(segment_id,main_mesh_total,\n",
    "              soma_path):\n",
    "    soma_path = str(soma_path)\n",
    "    try:\n",
    "        current_soma = trimesh.load_mesh(str(soma_path))\n",
    "        return [current_soma]\n",
    "    except:\n",
    "        print(\"No Soma currently available so must compute own\")\n",
    "        (total_soma_list, \n",
    "             run_time, \n",
    "             total_soma_list_sdf) = soma_utils.extract_soma_center(\n",
    "                                segment_id,\n",
    "                                main_mesh_total.vertices,\n",
    "                                main_mesh_total.faces,\n",
    "                                outer_decimation_ratio= 0.25,\n",
    "                                large_mesh_threshold = 60000,\n",
    "                                large_mesh_threshold_inner = 40000,\n",
    "                                soma_width_threshold = 0.32,\n",
    "                                soma_size_threshold = 20000,\n",
    "                               inner_decimation_ratio = 0.25,\n",
    "                               volume_mulitplier=7,\n",
    "                               side_length_ratio_threshold=3,\n",
    "                                soma_size_threshold_max=192000,\n",
    "                                delete_files=True\n",
    "            )\n",
    "        \n",
    "        # save the soma\n",
    "        print(f\"Found {len(total_soma_list)} somas\")\n",
    "        soma_mesh = sk.combine_meshes(total_soma_list)\n",
    "        soma_mesh.export(soma_path)\n",
    "        \n",
    "        return total_soma_list\n",
    "    else:\n",
    "        return []\n",
    "    \n",
    "def subtract_soma(current_soma,main_mesh):\n",
    "    \n",
    "    start_time = time.time()\n",
    "    face_midpoints_soma = np.mean(current_soma.vertices[current_soma.faces],axis=1)\n",
    "\n",
    "\n",
    "    curr_mesh_bbox_restriction,faces_bbox_inclusion = (\n",
    "                    sk.bbox_mesh_restrcition(main_mesh,\n",
    "                                             current_soma.bounds,\n",
    "                                            mult_ratio=1.3)\n",
    "    )\n",
    "\n",
    "    face_midpoints_neuron = np.mean(curr_mesh_bbox_restriction.vertices[curr_mesh_bbox_restriction.faces],axis=1)\n",
    "\n",
    "    soma_kdtree = KDTree(face_midpoints_soma)\n",
    "\n",
    "    distances,closest_node = soma_kdtree.query(face_midpoints_neuron)\n",
    "\n",
    "    distance_threshold = 550\n",
    "    distance_passed_faces  = distances<distance_threshold\n",
    "\n",
    "    faces_to_keep = np.array(list(set(np.arange(0,len(main_mesh.faces))).difference(set(faces_bbox_inclusion[distance_passed_faces]))))\n",
    "    without_soma_mesh = main_mesh.submesh([faces_to_keep],append=True)\n",
    "\n",
    "    #get the significant mesh pieces\n",
    "    mesh_pieces = sk.split_significant_pieces(without_soma_mesh,significance_threshold=200)\n",
    "    print(f\"Total Time for soma mesh cancellation = {np.round(time.time() - start_time,3)}\")\n",
    "    return mesh_pieces\n",
    "\n",
    "\n",
    "def skeletonize_connected_branch(current_mesh,\n",
    "                        output_folder=\"./temp\",\n",
    "                        delete_temp_files=True,\n",
    "                        name=\"None\",\n",
    "                        surface_reconstruction_size=50,\n",
    "                        n_surface_downsampling = 1,\n",
    "                        n_surface_samples=1000,\n",
    "                        skeleton_print=False,\n",
    "                        mesh_subtraction_distance_threshold=3000,\n",
    "                        mesh_subtraction_buffer=50,\n",
    "                        max_stitch_distance = 18000,\n",
    "                        current_min_edge = 200\n",
    "                        ):\n",
    "    \"\"\"\n",
    "    Purpose: To take a mesh and construct a full skeleton of it\n",
    "    (Assuming the Soma is already extracted)\n",
    "    \n",
    "    1) Poisson Surface Reconstruction\n",
    "    2) CGAL skeletonization of all signfiicant pieces \n",
    "        (if above certain size ! threshold) \n",
    "                --> if not skip straight to surface skeletonization\n",
    "    3) Using CGAL skeleton, find the leftover mesh not skeletonized\n",
    "    4) Do surface reconstruction on the parts that are left over\n",
    "    - with some downsampling\n",
    "    5) Stitch the skeleton \n",
    "    \"\"\"\n",
    "    \n",
    "    #check that the mesh is all one piece\n",
    "    current_mesh_splits = sk.split_significant_pieces(current_mesh,\n",
    "                               significance_threshold=1)\n",
    "    if len(current_mesh_splits) > 1:\n",
    "        raise Exception(f\"The mesh passed has {len(current_mesh_splits)} pieces\")\n",
    "\n",
    "    # check the size of the branch and if small enough then just do\n",
    "    # Surface Skeletonization\n",
    "    if len(current_mesh.faces) < surface_reconstruction_size:\n",
    "        #do a surface skeletonization\n",
    "        print(\"Doing skeleton surface reconstruction\")\n",
    "        surf_sk = sk.generate_surface_skeleton(current_mesh.vertices,\n",
    "                                    current_mesh.faces,\n",
    "                                    surface_samples=n_surface_samples,\n",
    "                                             n_surface_downsampling=n_surface_downsampling )\n",
    "        return surf_sk\n",
    "    else:\n",
    "    \n",
    "        #if can't simply do a surface skeletonization then \n",
    "        #use cgal method that requires temp folder\n",
    "\n",
    "        if type(output_folder) != type(Path()):\n",
    "            output_folder = Path(str(output_folder))\n",
    "            output_folder.mkdir(parents=True,exist_ok=True)\n",
    "            \n",
    "        # CGAL Step 1: Do Poisson Surface Reconstruction\n",
    "        Poisson_obj = Poisson(output_folder,overwrite=True)\n",
    "        \n",
    "\n",
    "        skeleton_start = time.time()\n",
    "        print(\"     Starting Screened Poisson\")\n",
    "        new_mesh,output_subprocess_obj = Poisson_obj(   \n",
    "                                    vertices=current_mesh.vertices,\n",
    "                                     faces=current_mesh.faces,\n",
    "                                    mesh_filename=name + \".off\",\n",
    "                                     return_mesh=True,\n",
    "                                     delete_temp_files=False,\n",
    "                                    )\n",
    "        print(f\"-----Time for Screened Poisson= {time.time()-skeleton_start}\")\n",
    "            \n",
    "        #2) Filter away for largest_poisson_piece:\n",
    "        mesh_pieces = sk.split_significant_pieces(new_mesh,\n",
    "                                            significance_threshold=surface_reconstruction_size)\n",
    "        \n",
    "        if skeleton_print:\n",
    "            print(f\"Signifiant mesh pieces of {surface_reconstruction_size} size \"\n",
    "                 f\"after poisson = {len(mesh_pieces)}\")\n",
    "        skeleton_ready_for_stitching = np.array([])\n",
    "        skeleton_files = [] # to be erased later on if need be\n",
    "        if len(mesh_pieces) <= 0:\n",
    "            if skeleton_print:\n",
    "                print(\"No signficant skeleton pieces so just doing surface skeletonization\")\n",
    "            # do surface skeletonization on all of the pieces\n",
    "            surface_mesh_pieces = sk.split_significant_pieces(new_mesh,\n",
    "                                            significance_threshold=2)\n",
    "            \n",
    "            #get the skeletons for all those pieces\n",
    "            current_mesh_skeleton_list = [\n",
    "                sk.generate_surface_skeleton(p.vertices,\n",
    "                                    p.faces,\n",
    "                                    surface_samples=n_surface_samples,\n",
    "                                    n_surface_downsampling=n_surface_downsampling )\n",
    "                for p in surface_mesh_pieces\n",
    "            ]\n",
    "            \n",
    "            skeleton_ready_for_stitching = sk.stack_skeletons(current_mesh_skeleton_list)\n",
    "            \n",
    "            #will stitch them together later\n",
    "        else: #if there are parts that can do the cgal skeletonization\n",
    "            skeleton_start = time.time()\n",
    "            print(\"     Starting Calcification\")\n",
    "            for zz,piece in enumerate(mesh_pieces):\n",
    "                current_mesh_path = output_folder / f\"{name}_{zz}\"\n",
    "                \n",
    "                written_path = sk.write_neuron_off(piece,current_mesh_path)\n",
    "                \n",
    "                #print(f\"Path sending to calcification = {written_path[:-4]}\")\n",
    "                returned_value, sk_file_name = sk.calcification(written_path,\n",
    "                                                               min_edge_length = current_min_edge)\n",
    "                #print(f\"Time for skeletonizatin = {time.time() - skeleton_start}\")\n",
    "                skeleton_files.append(sk_file_name)\n",
    "                \n",
    "            if skeleton_print:\n",
    "                print(f\"-----Time for Running Calcification = {time.time()-skeleton_start}\")\n",
    "            \n",
    "            #collect the skeletons and subtract from the mesh\n",
    "            \n",
    "            significant_poisson_skeleton = sk.read_skeleton_edges_coordinates(skeleton_files)\n",
    "            \n",
    "            if len(significant_poisson_skeleton) > 0:\n",
    "                boolean_significance_threshold=5\n",
    "\n",
    "                print(f\"Before mesh subtraction number of skeleton edges = {significant_poisson_skeleton.shape[0]+1}\")\n",
    "                mesh_pieces_leftover =  sk.mesh_subtraction_by_skeleton(current_mesh,\n",
    "                                                            significant_poisson_skeleton,\n",
    "                                                            buffer=mesh_subtraction_buffer,\n",
    "                                                            bbox_ratio=1.2,\n",
    "                                                            distance_threshold=significant_poisson_skeleton,\n",
    "                                                            significance_threshold=boolean_significance_threshold,\n",
    "                                                            print_flag=False\n",
    "                                                           )\n",
    "\n",
    "                # *****adding another significance threshold*****\n",
    "                leftover_meshes_sig = [k for k in mesh_pieces_leftover if len(k.faces) > 50]\n",
    "                leftover_meshes = sk.combine_meshes(leftover_meshes_sig)\n",
    "            else:\n",
    "                print(\"No recorded skeleton so skiipping\"\n",
    "                     \" to surface skeletonization\")\n",
    "                leftover_meshes_sig = [current_mesh]\n",
    "    \n",
    "            leftover_meshes_sig_surf_sk = []\n",
    "            for m in tqdm(leftover_meshes_sig):\n",
    "                surf_sk = sk.generate_surface_skeleton(m.vertices,\n",
    "                                               m.faces,\n",
    "                                               surface_samples=n_surface_samples,\n",
    "                                    n_surface_downsampling=n_surface_downsampling )\n",
    "                if len(surf_sk) > 0:\n",
    "                    leftover_meshes_sig_surf_sk.append(surf_sk)\n",
    "            leftovers_stacked = sk.stack_skeletons(leftover_meshes_sig_surf_sk)\n",
    "            #print(f\"significant_poisson_skeleton = {significant_poisson_skeleton}\")\n",
    "            #print(f\"leftover_meshes_sig_surf_sk = {leftover_meshes_sig_surf_sk}\")\n",
    "            skeleton_ready_for_stitching = sk.stack_skeletons([significant_poisson_skeleton,leftovers_stacked])\n",
    "            \n",
    "        #now want to stitch together whether generated from \n",
    "        if skeleton_print:\n",
    "            print(f\"After cgal process the un-stitched skeleton has shape {skeleton_ready_for_stitching.shape}\")\n",
    "        \n",
    "        stitched_skeletons_full = sk.stitch_skeleton(\n",
    "                                                  skeleton_ready_for_stitching,\n",
    "                                                  max_stitch_distance=max_stitch_distance,\n",
    "                                                  stitch_print = False,\n",
    "                                                  main_mesh = []\n",
    "                                                )\n",
    "        #stitched_skeletons_full_cleaned = sk.clean_skeleton(stitched_skeletons_full)\n",
    "        \n",
    "        # erase the skeleton files if need to be\n",
    "        if delete_temp_files:\n",
    "            for sk_fi in skeleton_files:\n",
    "                if Path(sk_fi).exists():\n",
    "                    Path(sk_fi).unlink()\n",
    "        \n",
    "        # if created temp folder then erase if empty\n",
    "        if str(output_folder.absolute()) == str(Path(\"./temp\").absolute()):\n",
    "            print(\"The process was using a temp folder\")\n",
    "            if len(list(output_folder.iterdir())) == 0:\n",
    "                print(\"Temp folder was empty so deleting it\")\n",
    "                if output_folder.exists():\n",
    "                    rmtree(str(output_folder.absolute()))\n",
    "        \n",
    "        return stitched_skeletons_full\n",
    "    \n",
    "def soma_skeleton_stitching(total_soma_skeletons,soma_mesh):\n",
    "    \"\"\"\n",
    "    Purpose: Will stitch together the meshes that are touching\n",
    "    the soma \n",
    "    \n",
    "    Pseudocode: \n",
    "    1) Compute the soma mesh center point\n",
    "    2) For meshes that were originally connected to soma\n",
    "    a. Find the closest skeletal point to soma center\n",
    "    b. Add an edge from closest point to soma center\n",
    "    3) Then do stitching algorithm on all of remaining disconnected\n",
    "        skeletons\n",
    "    \n",
    "    \n",
    "    \"\"\"\n",
    "    # 1) Compute the soma mesh center point\n",
    "    soma_center = np.mean(soma_mesh.vertices,axis=0)\n",
    "    \n",
    "    soma_connecting_skeleton = []\n",
    "    for skel in total_soma_skeletons:\n",
    "        #get the unique vertex points\n",
    "        unique_skeleton_nodes = np.unique(skel.reshape(-1,3),axis=0)\n",
    "        \n",
    "        # a. Find the closest skeletal point to soma center\n",
    "        # b. Add an edge from closest point to soma center\n",
    "        mesh_tree = KDTree(unique_skeleton_nodes)\n",
    "        distances,closest_node = mesh_tree.query(soma_center.reshape(-1,3))\n",
    "        closest_skeleton_vert = unique_skeleton_nodes[closest_node[np.argmin(distances)]]\n",
    "        soma_connecting_skeleton.append(np.array([closest_skeleton_vert,soma_center]).reshape(-1,2,3))\n",
    "    \n",
    "    print(f\"soma_connecting_skeleton[0].shape = {soma_connecting_skeleton[0].shape}\")\n",
    "    print(f\"total_soma_skeletons[0].shape = {total_soma_skeletons[0].shape}\")\n",
    "    # stith all of the ekeletons together\n",
    "    soma_stitched_sk = sk.stack_skeletons(total_soma_skeletons + soma_connecting_skeleton)\n",
    "    \n",
    "    return soma_stitched_sk"
   ]
  },
  {
   "cell_type": "code",
   "execution_count": 6,
   "metadata": {},
   "outputs": [],
   "source": [
    "def skeletonize_neuron(main_mesh_total,\n",
    "                        segment_id = 12345,\n",
    "                        soma_mesh_list = [],\n",
    "                       mesh_base_path=\"\",\n",
    "                       current_name=\"\",\n",
    "                       filter_end_node_length=5000\n",
    "\n",
    "                        ):\n",
    "    \"\"\"\n",
    "    Purpose: to skeletonize a neuron\n",
    "    \"\"\"\n",
    "    import skeleton_utils as sk\n",
    "    global_time = time.time()\n",
    "    \n",
    "    #if no soma is provided then do own soma finding\n",
    "    if len(soma_mesh_list) == 0:\n",
    "        (soma_mesh_list, \n",
    "             run_time, \n",
    "             total_soma_list_sdf) = soma_utils.extract_soma_center(\n",
    "                                segment_id,\n",
    "                                main_mesh_total.vertices,\n",
    "                                main_mesh_total.faces,\n",
    "                                outer_decimation_ratio= 0.25,\n",
    "                                large_mesh_threshold = 60000,\n",
    "                                large_mesh_threshold_inner = 40000,\n",
    "                                soma_width_threshold = 0.32,\n",
    "                                soma_size_threshold = 20000,\n",
    "                               inner_decimation_ratio = 0.25,\n",
    "                               volume_mulitplier=7,\n",
    "                               side_length_ratio_threshold=3,\n",
    "                                soma_size_threshold_max=192000,\n",
    "                                delete_files=True\n",
    "            )\n",
    "        \n",
    "    \n",
    "    if len(soma_mesh_list) <= 0:\n",
    "        print(f\"**** No Somas Found for Mesh {segment_id} so just one mesh\")\n",
    "        soma_mesh_list_centers = []\n",
    "    else:\n",
    "        #compute the soma centers\n",
    "        print(f\"Soma List = {soma_mesh_list}\")\n",
    "        \n",
    "        soma_mesh_list_centers = [np.array(np.mean(k.vertices,axis=0)).astype(\"float\")\n",
    "                           for k in soma_mesh_list]\n",
    "        print(f\"soma_mesh_list_centers = {soma_mesh_list_centers}\")\n",
    "\n",
    "    \n",
    "    split_meshes = sk.split_significant_pieces(\n",
    "                            main_mesh_total,\n",
    "                            significance_threshold=15,\n",
    "                            print_flag=False)\n",
    "    \n",
    "    \n",
    "    \"\"\"\n",
    "    Pseudocode: \n",
    "    For all meshes in list\n",
    "    1) compute soma center\n",
    "    2) Find all the bounding boxes that contain the soma center\n",
    "    3) Find the mesh with the closest distance from \n",
    "       one vertex to the soma center and tht is winner\n",
    "    \"\"\"\n",
    "    containing_mesh_indices=dict([(i,[]) for i,sm_c in enumerate(soma_mesh_list_centers)])\n",
    "    for k,sm_center in enumerate(soma_mesh_list_centers):\n",
    "\n",
    "        viable_meshes = [j for j,m in enumerate(split_meshes) \n",
    "                 if trimesh.bounds.contains(m.bounds,sm_center.reshape(-1,3))\n",
    "                        ]\n",
    "        if len(viable_meshes) == 0:\n",
    "            raise Exception(f\"The Soma {k} with {sm_center} was not contained in any of the boundying boxes\")\n",
    "        elif len(viable_meshes) == 1:\n",
    "            containing_mesh_indices[k] = viable_meshes[0]\n",
    "        else:\n",
    "            #find which mesh is closer to the soma midpoint\n",
    "            min_distances_to_soma = []\n",
    "            for v_i in viable_meshes:\n",
    "                # build the KD Tree\n",
    "                viable_neuron_kdtree = KDTree(soma_mesh_list[v_i].vertices)\n",
    "                distances,closest_node = viable_neuron_kdtree.query(sm_centers.reshape(-1,3))\n",
    "                min_distances_to_soma.append(np.min(distances))\n",
    "            print(f\"min_distances_to_soma = {min_distances_to_soma}\")\n",
    "            containing_mesh_indices[k] = np.argmin(min_distances_to_soma)\n",
    "        \n",
    "    \n",
    "    non_soma_touching_meshes = [m for i,m in enumerate(split_meshes)\n",
    "                     if i not in list(containing_mesh_indices.values())]\n",
    "    \n",
    "    soma_touching_meshes = dict([(i,split_meshes[m_i]) \n",
    "                                 for i,m_i in containing_mesh_indices.items()])\n",
    "    \n",
    "    print(f\"# of non soma touching seperate meshes = {len(non_soma_touching_meshes)}\")\n",
    "    print(f\"# of soma touching seperate meshes = {len(list(soma_touching_meshes.keys()))}\")\n",
    "    \n",
    "    \n",
    "    # setting the base path and the current name\n",
    "    if mesh_base_path == \"\":\n",
    "        mesh_base_path = Path(f\"./{segment_id}\")\n",
    "    else:\n",
    "        mesh_base_path = Path(mesh_base_path)\n",
    "        \n",
    "    if current_name == \"\":\n",
    "        current_name = f\"{segment_id}\"\n",
    "        \n",
    "    if mesh_base_path.exists():\n",
    "        rmtree(str(mesh_base_path.absolute()))\n",
    "    mesh_base_path.mkdir(parents=True,exist_ok=True)\n",
    "    print(list(mesh_base_path.iterdir()))\n",
    "    \n",
    "    \n",
    "    #------ do the skeletonization of the soma touchings --------#\n",
    "    print(\"\\n\\n ---- Working on soma touching skeletons ------\")\n",
    "    sk = reload(sk)\n",
    "\n",
    "    soma_touching_time = time.time()\n",
    "    soma_touching_meshes_skeletons = []\n",
    "    for s_i,main_mesh in soma_touching_meshes.items():\n",
    "        #Do the mesh subtraction to get the disconnected pieces\n",
    "        current_soma = soma_mesh_list[s_i]\n",
    "\n",
    "        mesh_pieces = subtract_soma(current_soma,main_mesh)\n",
    "        print(f\"mesh_pieces after the soma subtraction = {len(mesh_pieces)}\")\n",
    "        #get each branch skeleton\n",
    "        total_soma_skeletons = []\n",
    "        for dendrite_index,picked_dendrite in enumerate(mesh_pieces):\n",
    "            dendrite_name=current_name + f\"_soma_{s_i}_branch_{dendrite_index}\"\n",
    "            print(f\"\\n\\nWorking on {dendrite_name}\")\n",
    "            stitched_dendrite_skeleton = skeletonize_connected_branch(picked_dendrite,\n",
    "                                                           output_folder=mesh_base_path,\n",
    "                                                           name=dendrite_name,\n",
    "                                                            skeleton_print = True)\n",
    "\n",
    "            if len(stitched_dendrite_skeleton)<=0:\n",
    "                print(f\"*** Dendrite {dendrite_index} did not have skeleton computed***\")\n",
    "            else: \n",
    "                total_soma_skeletons.append(stitched_dendrite_skeleton)\n",
    "\n",
    "    print(f\"Total time for soma touching skeletons: {time.time() - soma_touching_time}\")\n",
    "    \n",
    "    #stitching together the soma parts:\n",
    "    soma_stitched_skeleton = soma_skeleton_stitching(total_soma_skeletons,current_soma)\n",
    "    \n",
    "    #------ do the skeletonization of the NON soma touchings --------#\n",
    "    print(\"\\n\\n ---- Working on non-soma touching skeletons ------\")\n",
    "    non_soma_time = time.time()\n",
    "\n",
    "    non_soma_touching_meshes\n",
    "\n",
    "    total_non_soma_skeletons = []\n",
    "    for j,picked_non_soma_branch in enumerate(non_soma_touching_meshes):\n",
    "    #     if j<66:\n",
    "    #         continue\n",
    "        dendrite_name=current_name + f\"_non_soma_{j}\"\n",
    "        print(f\"\\n\\nWorking on {dendrite_name}\")\n",
    "        stitched_dendrite_skeleton = skeletonize_connected_branch(picked_non_soma_branch,\n",
    "                                                       output_folder=mesh_base_path,\n",
    "                                                       name=dendrite_name,\n",
    "                                                        skeleton_print = True)\n",
    "\n",
    "        if len(stitched_dendrite_skeleton)<=0:\n",
    "            print(f\"*** Dendrite {dendrite_index} did not have skeleton computed***\")\n",
    "        else: \n",
    "            total_non_soma_skeletons.append(stitched_dendrite_skeleton)\n",
    "\n",
    "\n",
    "    print(f\"Time for non-soma skeletons = {time.time() - non_soma_time}\")\n",
    "    \n",
    "    # --------- Doing the stitching of the skeletons -----------#\n",
    "    stacked_non_soma_skeletons = sk.stack_skeletons(total_non_soma_skeletons)\n",
    "    stacked_soma_skeletons = sk.stack_skeletons([soma_stitched_skeleton])\n",
    "    whole_skeletons_for_stitching = sk.stack_skeletons([stacked_non_soma_skeletons,stacked_soma_skeletons])\n",
    "\n",
    "    final_skeleton_pre_clean = sk.stitch_skeleton(\n",
    "                                                      whole_skeletons_for_stitching,\n",
    "                                                      stitch_print = False,\n",
    "                                                      main_mesh = []\n",
    "                                                    )\n",
    "    \n",
    "    # --------  Doing the cleaning ------- #\n",
    "    clean_time = time.time()\n",
    "    new_cleaned_skeleton = sk.clean_skeleton(final_skeleton_pre_clean,\n",
    "                            distance_func=sk.skeletal_distance,\n",
    "                      min_distance_to_junction=filter_end_node_length,\n",
    "                      return_skeleton=True,\n",
    "                      print_flag=False)\n",
    "    print(f\"Total time for skeleton clean {time.time() - clean_time}\")\n",
    "    \n",
    "    print(f\"\\n\\n\\n\\nTotal time for whole skeletonization of neuron = {time.time() - global_time}\")\n",
    "    return new_cleaned_skeleton\n"
   ]
  },
  {
   "cell_type": "code",
   "execution_count": 7,
   "metadata": {},
   "outputs": [
    {
     "data": {
      "text/plain": [
       "<trimesh.Trimesh(vertices.shape=(171465, 3), faces.shape=(342778, 3))>"
      ]
     },
     "execution_count": 7,
     "metadata": {},
     "output_type": "execute_result"
    }
   ],
   "source": [
    "neuron_file = '/notebooks/test_neurons/91216997676870145_excitatory_1.off'\n",
    "current_mesh = trimesh.load_mesh(neuron_file)\n",
    "segment_id = 91216997676870145\n",
    "html_path = neuron_file[:-4] + \"_skeleton.html\"\n",
    "current_mesh"
   ]
  },
  {
   "cell_type": "code",
   "execution_count": 8,
   "metadata": {},
   "outputs": [
    {
     "name": "stdout",
     "output_type": "stream",
     "text": [
      "Current Arguments Using (adjusted for decimation):\n",
      " large_mesh_threshold= 15000.0 \n",
      "large_mesh_threshold_inner = 10000.0 \n",
      "soma_size_threshold = 1250.0 \n",
      "soma_size_threshold_max = 12000.0\n",
      "outer_decimation_ratio = 0.25\n",
      "inner_decimation_ratio = 0.25\n",
      "IN INPUT FILE VALIDATION LOOP\n",
      "LEAVING LOOP, MESH VALIDATED\n",
      "Using port = 7118\n",
      "xvfb-run -n 7118 -s \"-screen 0 800x600x24\" meshlabserver $@  -i /notebooks/Platinum_Skeletonization_vp3/91216997676870145/neuron_91216997676870145.off -o /notebooks/Platinum_Skeletonization_vp3/91216997676870145/neuron_91216997676870145_decimated.off -s /notebooks/Platinum_Skeletonization_vp3/91216997676870145/decimation_meshlab_25422962.mls\n",
      "Total found significant pieces before Poisson = [<trimesh.Trimesh(vertices.shape=(41880, 3), faces.shape=(84664, 3))>]\n",
      "----- working on large mesh #0: <trimesh.Trimesh(vertices.shape=(41880, 3), faces.shape=(84664, 3))>\n",
      "pre_largest_mesh_path = /notebooks/Platinum_Skeletonization_vp3/91216997676870145/neuron_91216997676870145_decimated_largest_piece.off\n",
      "IN INPUT FILE VALIDATION LOOP\n",
      "LEAVING LOOP, MESH VALIDATED\n",
      "Using port = 2561\n",
      "xvfb-run -n 2561 -s \"-screen 0 800x600x24\" meshlabserver $@  -i /notebooks/Platinum_Skeletonization_vp3/91216997676870145/neuron_91216997676870145_decimated_largest_piece.off -o /notebooks/Platinum_Skeletonization_vp3/91216997676870145/neuron_91216997676870145_decimated_largest_piece_poisson.off -s /notebooks/Platinum_Skeletonization_vp3/91216997676870145/poisson_458127.mls\n"
     ]
    },
    {
     "name": "stderr",
     "output_type": "stream",
     "text": [
      "face_normals all zero, ignoring!\n",
      "face_normals all zero, ignoring!\n",
      "face_normals all zero, ignoring!\n",
      "face_normals all zero, ignoring!\n",
      "face_normals all zero, ignoring!\n",
      "face_normals all zero, ignoring!\n",
      "face_normals all zero, ignoring!\n",
      "face_normals all zero, ignoring!\n",
      "face_normals all zero, ignoring!\n",
      "face_normals all zero, ignoring!\n",
      "face_normals all zero, ignoring!\n",
      "face_normals all zero, ignoring!\n",
      "face_normals all zero, ignoring!\n",
      "face_normals all zero, ignoring!\n",
      "face_normals all zero, ignoring!\n",
      "face_normals all zero, ignoring!\n",
      "face_normals all zero, ignoring!\n",
      "face_normals all zero, ignoring!\n",
      "face_normals all zero, ignoring!\n",
      "face_normals all zero, ignoring!\n",
      "face_normals all zero, ignoring!\n",
      "face_normals all zero, ignoring!\n",
      "face_normals all zero, ignoring!\n",
      "face_normals all zero, ignoring!\n",
      "face_normals all zero, ignoring!\n",
      "face_normals all zero, ignoring!\n",
      "face_normals all zero, ignoring!\n",
      "face_normals all zero, ignoring!\n",
      "face_normals all zero, ignoring!\n",
      "face_normals all zero, ignoring!\n",
      "face_normals all zero, ignoring!\n",
      "face_normals all zero, ignoring!\n",
      "face_normals all zero, ignoring!\n",
      "face_normals all zero, ignoring!\n",
      "face_normals all zero, ignoring!\n"
     ]
    },
    {
     "name": "stdout",
     "output_type": "stream",
     "text": [
      "Total found significant pieces AFTER Poisson = [<trimesh.Trimesh(vertices.shape=(27910, 3), faces.shape=(55820, 3))>]\n",
      "----- working on mesh after poisson #0: <trimesh.Trimesh(vertices.shape=(27910, 3), faces.shape=(55820, 3))>\n",
      "IN INPUT FILE VALIDATION LOOP\n",
      "LEAVING LOOP, MESH VALIDATED\n",
      "Using port = 6287\n",
      "xvfb-run -n 6287 -s \"-screen 0 800x600x24\" meshlabserver $@  -i /notebooks/Platinum_Skeletonization_vp3/91216997676870145/neuron_91216997676870145_decimated_largest_piece_poisson_largest_inner.off -o /notebooks/Platinum_Skeletonization_vp3/91216997676870145/neuron_91216997676870145_decimated_largest_piece_poisson_largest_inner_decimated.off -s /notebooks/Platinum_Skeletonization_vp3/91216997676870145/decimation_meshlab_25573731.mls\n",
      "done exporting decimated mesh: neuron_91216997676870145_decimated_largest_piece_poisson_largest_inner.off\n",
      "1) Starting: Mesh importing and Pymesh fix\n",
      "loading mesh from vertices and triangles array\n",
      "1) Finished: Mesh importing and Pymesh fix: 0.00026988983154296875\n",
      "2) Staring: Generating CGAL segmentation for neuron\n",
      "Done writing OFF file\n",
      "\n",
      "Starting CGAL segmentation\n",
      "Right before cgal segmentation, clusters = 3, smoothness = 0.2, path_and_filename = /notebooks/Platinum_Skeletonization_vp3/temp/9121699767687014500_fixed \n",
      "1\n",
      "Finished CGAL segmentation algorithm: 1.3067436218261719\n",
      "2) Finished: Generating CGAL segmentation for neuron: 1.5133137702941895\n",
      "3) Staring: Generating Graph Structure and Identifying Soma using soma size threshold  = 3000\n",
      "my_list_keys = [0, 1, 2, 3, 4, 5, 6, 7]\n",
      "changed the median value\n",
      "changed the mean value\n",
      "changed the max value\n",
      "soma_index = 0\n",
      "3) Finished: Generating Graph Structure and Identifying Soma: 0.004834651947021484\n",
      "Not finding the apical because soma_only option selected\n",
      "6) Staring: Classifying Entire Neuron\n",
      "Total Labels found = {'unsure', 'soma'}\n",
      "6) Finished: Classifying Entire Neuron: 0.0002281665802001953\n",
      "7) Staring: Transfering Segmentation Labels to Face Labels\n",
      "7) Finished: Transfering Segmentation Labels to Face Labels: 0.011414051055908203\n",
      "8) Staring: Generating final Vertex and Face Labels\n",
      "8) Finished: Generating final Vertex and Face Labels: 0.13579821586608887\n",
      "Returning the soma_sdf value AND the classifier\n",
      "soma_sdf_value = 0.835965\n",
      "segmentation[sorted_medians],median_values[sorted_medians] = (array([0, 5, 3, 1, 7, 2, 6, 4]), array([0.835965 , 0.192673 , 0.1720795, 0.1000814, 0.0993457, 0.0889937,\n",
      "       0.0729006, 0.0165065]))\n",
      "Sizes = [4787, 2473, 348, 1746, 2837, 1345, 381, 37]\n",
      "valid_soma_segments_width\n",
      "      ------ Found 1 viable somas: [0]\n",
      "Using Poisson Surface Reconstruction to make mesh watertight\n",
      "IN INPUT FILE VALIDATION LOOP\n",
      "LEAVING LOOP, MESH VALIDATED\n",
      "Using port = 7505\n",
      "xvfb-run -n 7505 -s \"-screen 0 800x600x24\" meshlabserver $@  -i /notebooks/Platinum_Skeletonization_vp3/Poisson_temp/neuron_651871.off -o /notebooks/Platinum_Skeletonization_vp3/Poisson_temp/neuron_651871_poisson.off -s /notebooks/Platinum_Skeletonization_vp3/Poisson_temp/poisson_274250.mls\n",
      "removed temporary input file: /notebooks/Platinum_Skeletonization_vp3/Poisson_temp/neuron_651871.off\n",
      "removed temporary output file: /notebooks/Platinum_Skeletonization_vp3/Poisson_temp/neuron_651871_poisson.off\n",
      "/notebooks/Platinum_Skeletonization_vp3/Poisson_temp/poisson_274250.mls is being deleted....\n",
      "Inside sphere validater: ratio_val = 2.8767493620996447\n",
      "\n",
      "\n",
      "\n",
      " Total time for run = 36.355661153793335\n",
      "Soma List = [<trimesh.Trimesh(vertices.shape=(2416, 3), faces.shape=(4787, 3))>]\n",
      "soma_mesh_list_centers = [array([817077.71183775, 920243.23071192, 972867.56096854])]\n",
      "# of non soma touching seperate meshes = 7\n",
      "# of soma touching seperate meshes = 1\n",
      "[]\n",
      "\n",
      "\n",
      " ---- Working on soma touching skeletons ------\n",
      "Total Time for soma mesh cancellation = 0.595\n",
      "mesh_pieces after the soma subtraction = 5\n",
      "\n",
      "\n",
      "Working on 91216997676870145_soma_0_branch_0\n",
      "     Starting Screened Poisson\n",
      "IN INPUT FILE VALIDATION LOOP\n",
      "LEAVING LOOP, MESH VALIDATED\n",
      "Using port = 8302\n",
      "xvfb-run -n 8302 -s \"-screen 0 800x600x24\" meshlabserver $@  -i /notebooks/Platinum_Skeletonization_vp3/91216997676870145/91216997676870145_soma_0_branch_0.off -o /notebooks/Platinum_Skeletonization_vp3/91216997676870145/91216997676870145_soma_0_branch_0_poisson.off -s /notebooks/Platinum_Skeletonization_vp3/91216997676870145/poisson_870905.mls\n",
      "-----Time for Screened Poisson= 17.586040019989014\n"
     ]
    },
    {
     "name": "stderr",
     "output_type": "stream",
     "text": [
      "face_normals all zero, ignoring!\n",
      "face_normals all zero, ignoring!\n",
      "face_normals all zero, ignoring!\n",
      "face_normals all zero, ignoring!\n",
      "face_normals all zero, ignoring!\n",
      "face_normals all zero, ignoring!\n",
      "face_normals all zero, ignoring!\n",
      "face_normals all zero, ignoring!\n",
      "face_normals all zero, ignoring!\n",
      "face_normals all zero, ignoring!\n",
      "face_normals all zero, ignoring!\n",
      "face_normals all zero, ignoring!\n",
      "face_normals all zero, ignoring!\n",
      "face_normals all zero, ignoring!\n",
      "face_normals all zero, ignoring!\n",
      "face_normals all zero, ignoring!\n",
      "face_normals all zero, ignoring!\n",
      "face_normals all zero, ignoring!\n",
      "face_normals all zero, ignoring!\n",
      "face_normals all zero, ignoring!\n",
      "face_normals all zero, ignoring!\n",
      "face_normals all zero, ignoring!\n",
      "face_normals all zero, ignoring!\n",
      "face_normals all zero, ignoring!\n",
      "face_normals all zero, ignoring!\n",
      "face_normals all zero, ignoring!\n",
      "face_normals all zero, ignoring!\n",
      "face_normals all zero, ignoring!\n",
      "face_normals all zero, ignoring!\n",
      "face_normals all zero, ignoring!\n",
      "face_normals all zero, ignoring!\n",
      "face_normals all zero, ignoring!\n",
      "face_normals all zero, ignoring!\n",
      "face_normals all zero, ignoring!\n",
      "face_normals all zero, ignoring!\n"
     ]
    },
    {
     "name": "stdout",
     "output_type": "stream",
     "text": [
      "Signifiant mesh pieces of 50 size after poisson = 183\n",
      "     Starting Calcification\n",
      "-----Time for Running Calcification = 4.3729095458984375\n",
      "Before mesh subtraction number of skeleton edges = 2890\n",
      "Inside mesh subtraction, len(main_mesh_bbox_restricted.faces) = 158736\n"
     ]
    },
    {
     "data": {
      "application/vnd.jupyter.widget-view+json": {
       "model_id": "ba7a845dfb4d47738c8a437cb0cb5e9d",
       "version_major": 2,
       "version_minor": 0
      },
      "text/plain": [
       "HBox(children=(FloatProgress(value=1.0, bar_style='info', max=1.0), HTML(value='')))"
      ]
     },
     "metadata": {},
     "output_type": "display_data"
    },
    {
     "name": "stderr",
     "output_type": "stream",
     "text": [
      "No adjacent faces detected! Did you merge vertices?\n"
     ]
    },
    {
     "name": "stdout",
     "output_type": "stream",
     "text": [
      "\n",
      "Total Mesh subtraction time = 64.6114\n"
     ]
    },
    {
     "data": {
      "application/vnd.jupyter.widget-view+json": {
       "model_id": "43bcfc59b3ed4f3b976f078eea5d300e",
       "version_major": 2,
       "version_minor": 0
      },
      "text/plain": [
       "HBox(children=(FloatProgress(value=0.0, max=101.0), HTML(value='')))"
      ]
     },
     "metadata": {},
     "output_type": "display_data"
    },
    {
     "name": "stdout",
     "output_type": "stream",
     "text": [
      "\n",
      "After cgal process the un-stitched skeleton has shape (3571, 2, 3)\n",
      "len_subgraphs AT BEGINNING of the loop\n"
     ]
    },
    {
     "data": {
      "application/vnd.jupyter.widget-view+json": {
       "model_id": "09f1dcca7b5045a0b2147a84a2fa2aa6",
       "version_major": 2,
       "version_minor": 0
      },
      "text/plain": [
       "HBox(children=(FloatProgress(value=0.0, max=283.0), HTML(value='')))"
      ]
     },
     "metadata": {},
     "output_type": "display_data"
    },
    {
     "name": "stdout",
     "output_type": "stream",
     "text": [
      "all graph is one component!\n",
      "\n",
      "Total time for skeleton stitching = 0.5050380229949951\n",
      "\n",
      "\n",
      "Working on 91216997676870145_soma_0_branch_1\n",
      "     Starting Screened Poisson\n",
      "IN INPUT FILE VALIDATION LOOP\n",
      "LEAVING LOOP, MESH VALIDATED\n",
      "Using port = 8363\n",
      "xvfb-run -n 8363 -s \"-screen 0 800x600x24\" meshlabserver $@  -i /notebooks/Platinum_Skeletonization_vp3/91216997676870145/91216997676870145_soma_0_branch_1.off -o /notebooks/Platinum_Skeletonization_vp3/91216997676870145/91216997676870145_soma_0_branch_1_poisson.off -s /notebooks/Platinum_Skeletonization_vp3/91216997676870145/poisson_644847.mls\n"
     ]
    },
    {
     "name": "stderr",
     "output_type": "stream",
     "text": [
      "face_normals all zero, ignoring!\n",
      "face_normals all zero, ignoring!\n",
      "face_normals all zero, ignoring!\n",
      "face_normals all zero, ignoring!\n",
      "face_normals all zero, ignoring!\n",
      "face_normals all zero, ignoring!\n",
      "face_normals all zero, ignoring!\n",
      "face_normals all zero, ignoring!\n",
      "face_normals all zero, ignoring!\n",
      "face_normals all zero, ignoring!\n"
     ]
    },
    {
     "name": "stdout",
     "output_type": "stream",
     "text": [
      "-----Time for Screened Poisson= 12.905267000198364\n"
     ]
    },
    {
     "name": "stderr",
     "output_type": "stream",
     "text": [
      "face_normals all zero, ignoring!\n",
      "face_normals all zero, ignoring!\n",
      "face_normals all zero, ignoring!\n",
      "face_normals all zero, ignoring!\n",
      "face_normals all zero, ignoring!\n",
      "face_normals all zero, ignoring!\n",
      "face_normals all zero, ignoring!\n",
      "face_normals all zero, ignoring!\n",
      "face_normals all zero, ignoring!\n",
      "face_normals all zero, ignoring!\n",
      "face_normals all zero, ignoring!\n",
      "face_normals all zero, ignoring!\n",
      "face_normals all zero, ignoring!\n",
      "face_normals all zero, ignoring!\n",
      "face_normals all zero, ignoring!\n",
      "face_normals all zero, ignoring!\n",
      "face_normals all zero, ignoring!\n",
      "face_normals all zero, ignoring!\n",
      "face_normals all zero, ignoring!\n",
      "face_normals all zero, ignoring!\n",
      "face_normals all zero, ignoring!\n"
     ]
    },
    {
     "name": "stdout",
     "output_type": "stream",
     "text": [
      "Signifiant mesh pieces of 50 size after poisson = 108\n",
      "     Starting Calcification\n",
      "-----Time for Running Calcification = 3.108107089996338\n",
      "Before mesh subtraction number of skeleton edges = 1456\n",
      "Inside mesh subtraction, len(main_mesh_bbox_restricted.faces) = 76413\n"
     ]
    },
    {
     "data": {
      "application/vnd.jupyter.widget-view+json": {
       "model_id": "8267f7b01abf4cc4a365db93faf2370c",
       "version_major": 2,
       "version_minor": 0
      },
      "text/plain": [
       "HBox(children=(FloatProgress(value=1.0, bar_style='info', max=1.0), HTML(value='')))"
      ]
     },
     "metadata": {},
     "output_type": "display_data"
    },
    {
     "name": "stderr",
     "output_type": "stream",
     "text": [
      "No adjacent faces detected! Did you merge vertices?\n"
     ]
    },
    {
     "name": "stdout",
     "output_type": "stream",
     "text": [
      "\n",
      "Total Mesh subtraction time = 24.4799\n"
     ]
    },
    {
     "data": {
      "application/vnd.jupyter.widget-view+json": {
       "model_id": "286eedca211a43c5ae2c2137f8149f7e",
       "version_major": 2,
       "version_minor": 0
      },
      "text/plain": [
       "HBox(children=(FloatProgress(value=0.0, max=52.0), HTML(value='')))"
      ]
     },
     "metadata": {},
     "output_type": "display_data"
    },
    {
     "name": "stdout",
     "output_type": "stream",
     "text": [
      "\n",
      "After cgal process the un-stitched skeleton has shape (1746, 2, 3)\n",
      "len_subgraphs AT BEGINNING of the loop\n"
     ]
    },
    {
     "data": {
      "application/vnd.jupyter.widget-view+json": {
       "model_id": "bba3ac8b77ad4cd89db288cd2d29e6dd",
       "version_major": 2,
       "version_minor": 0
      },
      "text/plain": [
       "HBox(children=(FloatProgress(value=0.0, max=160.0), HTML(value='')))"
      ]
     },
     "metadata": {},
     "output_type": "display_data"
    },
    {
     "name": "stdout",
     "output_type": "stream",
     "text": [
      "all graph is one component!\n",
      "Total time for skeleton stitching = 0.33924031257629395\n",
      "\n",
      "\n",
      "Working on 91216997676870145_soma_0_branch_2\n",
      "     Starting Screened Poisson\n",
      "IN INPUT FILE VALIDATION LOOP\n",
      "\n",
      "LEAVING LOOP, MESH VALIDATED\n",
      "Using port = 920\n",
      "xvfb-run -n 920 -s \"-screen 0 800x600x24\" meshlabserver $@  -i /notebooks/Platinum_Skeletonization_vp3/91216997676870145/91216997676870145_soma_0_branch_2.off -o /notebooks/Platinum_Skeletonization_vp3/91216997676870145/91216997676870145_soma_0_branch_2_poisson.off -s /notebooks/Platinum_Skeletonization_vp3/91216997676870145/poisson_574469.mls\n"
     ]
    },
    {
     "name": "stderr",
     "output_type": "stream",
     "text": [
      "face_normals all zero, ignoring!\n",
      "face_normals all zero, ignoring!\n",
      "face_normals all zero, ignoring!\n",
      "face_normals all zero, ignoring!\n",
      "face_normals all zero, ignoring!\n",
      "face_normals all zero, ignoring!\n",
      "face_normals all zero, ignoring!\n",
      "face_normals all zero, ignoring!\n",
      "face_normals all zero, ignoring!\n",
      "face_normals all zero, ignoring!\n",
      "face_normals all zero, ignoring!\n"
     ]
    },
    {
     "name": "stdout",
     "output_type": "stream",
     "text": [
      "-----Time for Screened Poisson= 13.707300662994385\n"
     ]
    },
    {
     "name": "stderr",
     "output_type": "stream",
     "text": [
      "face_normals all zero, ignoring!\n",
      "face_normals all zero, ignoring!\n",
      "face_normals all zero, ignoring!\n",
      "face_normals all zero, ignoring!\n",
      "face_normals all zero, ignoring!\n",
      "face_normals all zero, ignoring!\n",
      "face_normals all zero, ignoring!\n",
      "face_normals all zero, ignoring!\n",
      "face_normals all zero, ignoring!\n",
      "face_normals all zero, ignoring!\n",
      "face_normals all zero, ignoring!\n",
      "face_normals all zero, ignoring!\n",
      "face_normals all zero, ignoring!\n",
      "face_normals all zero, ignoring!\n",
      "face_normals all zero, ignoring!\n",
      "face_normals all zero, ignoring!\n",
      "face_normals all zero, ignoring!\n",
      "face_normals all zero, ignoring!\n",
      "face_normals all zero, ignoring!\n",
      "face_normals all zero, ignoring!\n",
      "face_normals all zero, ignoring!\n",
      "face_normals all zero, ignoring!\n",
      "face_normals all zero, ignoring!\n",
      "face_normals all zero, ignoring!\n",
      "face_normals all zero, ignoring!\n",
      "face_normals all zero, ignoring!\n",
      "face_normals all zero, ignoring!\n",
      "face_normals all zero, ignoring!\n",
      "face_normals all zero, ignoring!\n",
      "face_normals all zero, ignoring!\n",
      "face_normals all zero, ignoring!\n"
     ]
    },
    {
     "name": "stdout",
     "output_type": "stream",
     "text": [
      "Signifiant mesh pieces of 50 size after poisson = 124\n",
      "     Starting Calcification\n",
      "-----Time for Running Calcification = 3.435027837753296\n",
      "Before mesh subtraction number of skeleton edges = 1451\n",
      "Inside mesh subtraction, len(main_mesh_bbox_restricted.faces) = 76070\n"
     ]
    },
    {
     "data": {
      "application/vnd.jupyter.widget-view+json": {
       "model_id": "5a9c81c8b8e749eaa1421fec54099368",
       "version_major": 2,
       "version_minor": 0
      },
      "text/plain": [
       "HBox(children=(FloatProgress(value=1.0, bar_style='info', max=1.0), HTML(value='')))"
      ]
     },
     "metadata": {},
     "output_type": "display_data"
    },
    {
     "name": "stdout",
     "output_type": "stream",
     "text": [
      "\n",
      "Total Mesh subtraction time = 25.5219\n"
     ]
    },
    {
     "data": {
      "application/vnd.jupyter.widget-view+json": {
       "model_id": "6c13f6d341ff4ee38a58a6ab0a3066e1",
       "version_major": 2,
       "version_minor": 0
      },
      "text/plain": [
       "HBox(children=(FloatProgress(value=0.0, max=47.0), HTML(value='')))"
      ]
     },
     "metadata": {},
     "output_type": "display_data"
    },
    {
     "name": "stdout",
     "output_type": "stream",
     "text": [
      "\n",
      "After cgal process the un-stitched skeleton has shape (1692, 2, 3)\n",
      "len_subgraphs AT BEGINNING of the loop\n"
     ]
    },
    {
     "data": {
      "application/vnd.jupyter.widget-view+json": {
       "model_id": "23ea0e671762437aa952a514957a02db",
       "version_major": 2,
       "version_minor": 0
      },
      "text/plain": [
       "HBox(children=(FloatProgress(value=0.0, max=171.0), HTML(value='')))"
      ]
     },
     "metadata": {},
     "output_type": "display_data"
    },
    {
     "name": "stdout",
     "output_type": "stream",
     "text": [
      "all graph is one component!\n",
      "Total time for skeleton stitching = 0.3055400848388672\n",
      "\n",
      "\n",
      "Working on 91216997676870145_soma_0_branch_3\n",
      "     Starting Screened Poisson\n",
      "IN INPUT FILE VALIDATION LOOP\n",
      "\n",
      "LEAVING LOOP, MESH VALIDATED\n",
      "Using port = 4753\n",
      "xvfb-run -n 4753 -s \"-screen 0 800x600x24\" meshlabserver $@  -i /notebooks/Platinum_Skeletonization_vp3/91216997676870145/91216997676870145_soma_0_branch_3.off -o /notebooks/Platinum_Skeletonization_vp3/91216997676870145/91216997676870145_soma_0_branch_3_poisson.off -s /notebooks/Platinum_Skeletonization_vp3/91216997676870145/poisson_12782.mls\n",
      "-----Time for Screened Poisson= 5.372675180435181\n",
      "Signifiant mesh pieces of 50 size after poisson = 20\n",
      "     Starting Calcification\n",
      "-----Time for Running Calcification = 0.11971306800842285\n",
      "Before mesh subtraction number of skeleton edges = 48\n",
      "Inside mesh subtraction, len(main_mesh_bbox_restricted.faces) = 2764\n"
     ]
    },
    {
     "data": {
      "application/vnd.jupyter.widget-view+json": {
       "model_id": "19ab604ed16448968eaf1850ee9d06e2",
       "version_major": 2,
       "version_minor": 0
      },
      "text/plain": [
       "HBox(children=(FloatProgress(value=1.0, bar_style='info', max=1.0), HTML(value='')))"
      ]
     },
     "metadata": {},
     "output_type": "display_data"
    },
    {
     "name": "stdout",
     "output_type": "stream",
     "text": [
      "\n",
      "Total Mesh subtraction time = 0.335\n"
     ]
    },
    {
     "data": {
      "application/vnd.jupyter.widget-view+json": {
       "model_id": "6c6d11272a8b49c4866d32149657fd54",
       "version_major": 2,
       "version_minor": 0
      },
      "text/plain": [
       "HBox(children=(FloatProgress(value=0.0, max=10.0), HTML(value='')))"
      ]
     },
     "metadata": {},
     "output_type": "display_data"
    },
    {
     "name": "stdout",
     "output_type": "stream",
     "text": [
      "\n",
      "After cgal process the un-stitched skeleton has shape (153, 2, 3)\n",
      "len_subgraphs AT BEGINNING of the loop\n"
     ]
    },
    {
     "data": {
      "application/vnd.jupyter.widget-view+json": {
       "model_id": "33049d42df42403dad55b95815918b81",
       "version_major": 2,
       "version_minor": 0
      },
      "text/plain": [
       "HBox(children=(FloatProgress(value=0.0, max=28.0), HTML(value='')))"
      ]
     },
     "metadata": {},
     "output_type": "display_data"
    },
    {
     "name": "stdout",
     "output_type": "stream",
     "text": [
      "all graph is one component!\n",
      "Total time for skeleton stitching = 0.10813641548156738\n",
      "\n",
      "\n",
      "Working on 91216997676870145_soma_0_branch_4\n",
      "     Starting Screened Poisson\n",
      "IN INPUT FILE VALIDATION LOOP\n",
      "\n",
      "LEAVING LOOP, MESH VALIDATED\n",
      "Using port = 8033\n",
      "xvfb-run -n 8033 -s \"-screen 0 800x600x24\" meshlabserver $@  -i /notebooks/Platinum_Skeletonization_vp3/91216997676870145/91216997676870145_soma_0_branch_4.off -o /notebooks/Platinum_Skeletonization_vp3/91216997676870145/91216997676870145_soma_0_branch_4_poisson.off -s /notebooks/Platinum_Skeletonization_vp3/91216997676870145/poisson_538563.mls\n"
     ]
    },
    {
     "name": "stderr",
     "output_type": "stream",
     "text": [
      "face_normals all zero, ignoring!\n",
      "face_normals all zero, ignoring!\n",
      "face_normals all zero, ignoring!\n"
     ]
    },
    {
     "name": "stdout",
     "output_type": "stream",
     "text": [
      "-----Time for Screened Poisson= 5.089641332626343\n",
      "Signifiant mesh pieces of 50 size after poisson = 2\n",
      "     Starting Calcification\n",
      "-----Time for Running Calcification = 0.17274713516235352\n",
      "Before mesh subtraction number of skeleton edges = 6\n",
      "Inside mesh subtraction, len(main_mesh_bbox_restricted.faces) = 141\n"
     ]
    },
    {
     "data": {
      "application/vnd.jupyter.widget-view+json": {
       "model_id": "284ca2988ba64f0fa3037d028a74fd6c",
       "version_major": 2,
       "version_minor": 0
      },
      "text/plain": [
       "HBox(children=(FloatProgress(value=1.0, bar_style='info', max=1.0), HTML(value='')))"
      ]
     },
     "metadata": {},
     "output_type": "display_data"
    },
    {
     "name": "stdout",
     "output_type": "stream",
     "text": [
      "\n",
      "Total Mesh subtraction time = 0.071\n"
     ]
    },
    {
     "data": {
      "application/vnd.jupyter.widget-view+json": {
       "model_id": "b06bc8ade7bc4e73bdac03095d476c66",
       "version_major": 2,
       "version_minor": 0
      },
      "text/plain": [
       "HBox(children=(FloatProgress(value=0.0, max=1.0), HTML(value='')))"
      ]
     },
     "metadata": {},
     "output_type": "display_data"
    },
    {
     "name": "stdout",
     "output_type": "stream",
     "text": [
      "\n",
      "only one skeleton so no stacking needed\n",
      "After cgal process the un-stitched skeleton has shape (13, 2, 3)\n",
      "len_subgraphs AT BEGINNING of the loop\n"
     ]
    },
    {
     "data": {
      "application/vnd.jupyter.widget-view+json": {
       "model_id": "5ee3f5f30aed4c5ab9b52de1981dc569",
       "version_major": 2,
       "version_minor": 0
      },
      "text/plain": [
       "HBox(children=(FloatProgress(value=0.0, max=3.0), HTML(value='')))"
      ]
     },
     "metadata": {},
     "output_type": "display_data"
    },
    {
     "name": "stdout",
     "output_type": "stream",
     "text": [
      "all graph is one component!\n",
      "Total time for skeleton stitching = 0.027218341827392578\n",
      "Total time for soma touching skeletons: 193.86393785476685\n",
      "soma_connecting_skeleton[0].shape = (1, 2, 3)\n",
      "total_soma_skeletons[0].shape = (3853, 2, 3)\n",
      "\n",
      "\n",
      " ---- Working on non-soma touching skeletons ------\n",
      "\n",
      "\n",
      "Working on 91216997676870145_non_soma_0\n",
      "Doing skeleton surface reconstruction\n",
      "\n",
      "\n",
      "Working on 91216997676870145_non_soma_1\n",
      "Doing skeleton surface reconstruction\n",
      "\n",
      "\n",
      "Working on 91216997676870145_non_soma_2\n",
      "Doing skeleton surface reconstruction\n",
      "\n",
      "\n",
      "Working on 91216997676870145_non_soma_3\n",
      "Doing skeleton surface reconstruction\n",
      "\n",
      "\n",
      "Working on 91216997676870145_non_soma_4\n",
      "Doing skeleton surface reconstruction\n",
      "\n",
      "\n",
      "\n",
      "Working on 91216997676870145_non_soma_5\n",
      "Doing skeleton surface reconstruction\n",
      "\n",
      "\n",
      "Working on 91216997676870145_non_soma_6\n",
      "Doing skeleton surface reconstruction\n",
      "Time for non-soma skeletons = 0.02493119239807129\n",
      "only one skeleton so no stacking needed\n",
      "len_subgraphs AT BEGINNING of the loop\n"
     ]
    },
    {
     "data": {
      "application/vnd.jupyter.widget-view+json": {
       "model_id": "477b98df8a3843bea1a431a73737d23c",
       "version_major": 2,
       "version_minor": 0
      },
      "text/plain": [
       "HBox(children=(FloatProgress(value=0.0, max=8.0), HTML(value='')))"
      ]
     },
     "metadata": {},
     "output_type": "display_data"
    },
    {
     "name": "stdout",
     "output_type": "stream",
     "text": [
      "all graph is one component!\n",
      "\n",
      "Total time for skeleton stitching = 0.37000393867492676\n",
      "Using Distance measure skeletal_distance\n"
     ]
    },
    {
     "data": {
      "application/vnd.jupyter.widget-view+json": {
       "model_id": "6b9bdaefbde94fc9b8434fafc69499d2",
       "version_major": 2,
       "version_minor": 0
      },
      "text/plain": [
       "HBox(children=(FloatProgress(value=0.0, max=576.0), HTML(value='')))"
      ]
     },
     "metadata": {},
     "output_type": "display_data"
    },
    {
     "name": "stdout",
     "output_type": "stream",
     "text": [
      "Total time for skeleton clean 13.105547904968262\n",
      "\n",
      "\n",
      "\n",
      "\n",
      "Total time for whole skeletonization of neuron = 244.30477166175842\n"
     ]
    },
    {
     "data": {
      "text/plain": [
       "(6107, 2, 3)"
      ]
     },
     "execution_count": 8,
     "metadata": {},
     "output_type": "execute_result"
    }
   ],
   "source": [
    "new_cleaned_skeleton = skeletonize_neuron(main_mesh_total=current_mesh,\n",
    "                        segment_id = segment_id,\n",
    "                       mesh_base_path=\"\",\n",
    "                       current_name=\"\",\n",
    "\n",
    "                        )\n",
    "\n",
    "new_cleaned_skeleton.shape"
   ]
  },
  {
   "cell_type": "code",
   "execution_count": 10,
   "metadata": {},
   "outputs": [],
   "source": [
    "sk = reload(sk)"
   ]
  },
  {
   "cell_type": "code",
   "execution_count": 11,
   "metadata": {},
   "outputs": [
    {
     "data": {
      "application/vnd.jupyter.widget-view+json": {
       "model_id": "cbbc5c3410aa457e819d6e29723c8a0d",
       "version_major": 2,
       "version_minor": 0
      },
      "text/plain": [
       "VBox(children=(Figure(camera=PerspectiveCamera(fov=46.0, position=(0.0, 0.0, 2.0), quaternion=(0.0, 0.0, 0.0, …"
      ]
     },
     "metadata": {},
     "output_type": "display_data"
    }
   ],
   "source": [
    "sk.graph_skeleton_and_mesh(\n",
    "                            current_mesh.vertices,\n",
    "                          current_mesh.faces,\n",
    "                          edge_coordinates=new_cleaned_skeleton,\n",
    "                            axis_box_off = True,\n",
    "                        html_path=html_path\n",
    "                          )"
   ]
  },
  {
   "cell_type": "code",
   "execution_count": null,
   "metadata": {},
   "outputs": [],
   "source": []
  }
 ],
 "metadata": {
  "kernelspec": {
   "display_name": "Python 3",
   "language": "python",
   "name": "python3"
  },
  "language_info": {
   "codemirror_mode": {
    "name": "ipython",
    "version": 3
   },
   "file_extension": ".py",
   "mimetype": "text/x-python",
   "name": "python",
   "nbconvert_exporter": "python",
   "pygments_lexer": "ipython3",
   "version": "3.6.9"
  }
 },
 "nbformat": 4,
 "nbformat_minor": 4
}
