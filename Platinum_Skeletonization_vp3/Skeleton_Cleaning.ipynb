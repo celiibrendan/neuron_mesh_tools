{
 "cells": [
  {
   "cell_type": "code",
   "execution_count": null,
   "metadata": {},
   "outputs": [],
   "source": [
    "\"\"\"\n",
    "Purpose: To test the skeleton cleaning\n",
    "To eliminate the parts of the skeleton that are spines\n",
    "\"\"\""
   ]
  },
  {
   "cell_type": "code",
   "execution_count": 1,
   "metadata": {},
   "outputs": [],
   "source": [
    "import networkx as nx\n",
    "import numpy as np\n",
    "import matplotlib.pyplot as plt\n",
    "%matplotlib inline"
   ]
  },
  {
   "cell_type": "code",
   "execution_count": 2,
   "metadata": {},
   "outputs": [
    {
     "data": {
      "image/png": "[encoded data removed]",
      "text/plain": [
       "<Figure size 432x288 with 1 Axes>"
      ]
     },
     "metadata": {},
     "output_type": "display_data"
    }
   ],
   "source": [
    "edges = np.array([\n",
    "    [1,2],\n",
    "    [2,3],\n",
    "    [3,11],\n",
    "    [3,4],\n",
    "    [4,5],\n",
    "    [5,9],\n",
    "    [9,10],\n",
    "    [5,6],\n",
    "    [6,7],\n",
    "    [7,8],\n",
    "    [8,13],\n",
    "    [13,14],\n",
    "    [14,15],\n",
    "    [15,16],\n",
    "    [16,17],\n",
    "    [8,12],\n",
    "    [12,18],\n",
    "    [18,19],\n",
    "    [19,20],\n",
    "    [20,24],\n",
    "    [24,27],\n",
    "    [24,25],\n",
    "    [25,26],\n",
    "    [19,21],\n",
    "    [21,22],\n",
    "    [22,23]\n",
    "])\n",
    "\n",
    "G = nx.from_edgelist(edges)\n",
    "nx.draw(G,with_labels=True)"
   ]
  },
  {
   "cell_type": "code",
   "execution_count": 3,
   "metadata": {},
   "outputs": [
    {
     "data": {
      "text/plain": [
       "'\\nPseudocode\\n1) Find all end nodes on graph\\n2) for each end node find the distance to the closest T\\n3) Start with node with lowest distance\"\\nif below minimum threshold then remove from path and return to step 2\\nif NOT --> BREAK\\n\\n'"
      ]
     },
     "execution_count": 3,
     "metadata": {},
     "output_type": "execute_result"
    }
   ],
   "source": [
    "\"\"\"\n",
    "Pseudocode\n",
    "1) Find all end nodes on graph\n",
    "2) for each end node find the distance to the closest T\n",
    "3) Start with node with lowest distance\"\n",
    "if below minimum threshold then remove from path and return to step 2\n",
    "if NOT --> BREAK\n",
    "\n",
    "\"\"\""
   ]
  },
  {
   "cell_type": "code",
   "execution_count": 19,
   "metadata": {},
   "outputs": [],
   "source": [
    "def end_node_path_to_junciton(curr_G,end_node):\n",
    "    curr_node = end_node\n",
    "    node_list = [curr_node]\n",
    "    for i in range(len(curr_G)):\n",
    "        neighbors = list(curr_G[curr_node])\n",
    "        if len(neighbors) <= 2:\n",
    "            curr_node = [k for k in neighbors if k not in node_list][0]\n",
    "            node_list.append(curr_node)\n",
    "            #print(f\"node_list = {node_list}\")\n",
    "        else:\n",
    "            break\n",
    "    return node_list\n",
    "        "
   ]
  },
  {
   "cell_type": "code",
   "execution_count": 5,
   "metadata": {},
   "outputs": [],
   "source": [
    "def distance_measure(path,G=None):\n",
    "    return len(path)"
   ]
  },
  {
   "cell_type": "code",
   "execution_count": null,
   "metadata": {},
   "outputs": [],
   "source": [
    "min_distance_to_junction = 3\n",
    "\n",
    "end_nodes = np.array([k for k,n in dict(G.degree()).items() if n == 1])\n",
    "end_nodes_dist_to_j = [distance_measure(end_node_path_to_junciton(G,n)) for n in end_nodes]\n",
    "ordered_end_nodes = end_nodes[np.argsort(end_nodes_dist_to_j)]\n",
    "ordered_end_nodes\n",
    "current_end_node = ordered_end_nodes[0]\n",
    "\n",
    "for i in range(len(end_nodes)):\n",
    "    current_path_to_junction = end_node_path_to_junciton(G,current_end_node)\n",
    "    if distance_measure(current_path_to_junction)<min_distance_to_junction:\n",
    "        #remove the nodes\n",
    "        G.remove_nodes_from(current_path_to_junction)\n",
    "        end_nodes = end_nodes[end_nodes != current_end_node]\n",
    "        end_nodes_dist_to_j = [len(end_node_path_to_junciton(G,n)) for n in end_nodes]\n",
    "        ordered_end_nodes = end_nodes[np.argsort(end_nodes_dist_to_j)]\n",
    "        current_end_node = ordered_end_nodes[0]\n",
    "    else:\n",
    "        break\n",
    "return G\n",
    "        \n",
    "    \n"
   ]
  },
  {
   "cell_type": "code",
   "execution_count": null,
   "metadata": {},
   "outputs": [],
   "source": [
    "nx.draw(G,with_labels=True)"
   ]
  },
  {
   "cell_type": "code",
   "execution_count": null,
   "metadata": {},
   "outputs": [],
   "source": [
    "edges = np.array([\n",
    "    [1,2],\n",
    "    [2,3],\n",
    "    [3,11],\n",
    "    [3,4],\n",
    "    [4,5],\n",
    "    [5,9],\n",
    "    [9,10],\n",
    "    [5,6],\n",
    "    [6,7],\n",
    "    [7,8],\n",
    "    [8,13],\n",
    "    [13,14],\n",
    "    [14,15],\n",
    "    [15,16],\n",
    "    [16,17],\n",
    "    [8,12],\n",
    "    [12,18],\n",
    "    [18,19],\n",
    "    [19,20],\n",
    "    [20,24],\n",
    "    [24,27],\n",
    "    [24,25],\n",
    "    [25,26],\n",
    "    [19,21],\n",
    "    [21,22],\n",
    "    [22,23]\n",
    "])\n",
    "\n",
    "G = nx.from_edgelist(edges)\n",
    "nx.draw(G,with_labels=True)"
   ]
  },
  {
   "cell_type": "code",
   "execution_count": null,
   "metadata": {},
   "outputs": [],
   "source": []
  },
  {
   "cell_type": "code",
   "execution_count": 22,
   "metadata": {},
   "outputs": [
    {
     "name": "stdout",
     "output_type": "stream",
     "text": [
      "Using Distance measure distance_measure_func\n"
     ]
    },
    {
     "data": {
      "image/png": "[encoded data removed]",
      "text/plain": [
       "<Figure size 432x288 with 1 Axes>"
      ]
     },
     "metadata": {},
     "output_type": "display_data"
    }
   ],
   "source": [
    "def convert_skeleton_to_graph(staring_edges,\n",
    "                             stitch_print=False):\n",
    "    stitch_start = time.time()\n",
    "\n",
    "    all_skeleton_vertices = staring_edges.reshape(-1,3)\n",
    "    unique_rows,indices = np.unique(all_skeleton_vertices,return_inverse=True,axis=0)\n",
    "    edges_with_coefficients = indices.reshape(-1,2)\n",
    "\n",
    "    if stitch_print:\n",
    "        print(f\"Getting the unique rows and indices= {time.time()-stitch_start}\")\n",
    "    stitch_start = time.time()\n",
    "\n",
    "    #create the graph from the edges\n",
    "    B = nx.Graph()\n",
    "    B.add_nodes_from([(x,{\"coordinates\":y}) for x,y in enumerate(unique_rows)])\n",
    "    B.add_edges_from(edges_with_coefficients)\n",
    "\n",
    "    if stitch_print:\n",
    "        print(f\"Putting edges into networkx graph= {time.time()-stitch_start}\")\n",
    "    stitch_start = time.time()\n",
    "\n",
    "    # find the shortest distance between the two different subgraphs:\n",
    "    from scipy.spatial import distance_matrix\n",
    "\n",
    "    UG = B.to_undirected()\n",
    "\n",
    "    if stitch_print:\n",
    "        print(f\"Making undirected graph= {time.time()-stitch_start}\")\n",
    "    stitch_start = time.time()\n",
    "    \n",
    "    return UG\n",
    "\n",
    "\n",
    "\n",
    "def get_skeleton_from_graph(UG):\n",
    "    UG = nx.convert_node_labels_to_integers(UG)\n",
    "    total_coord = nx.get_node_attributes(UG,'coordinates')\n",
    "    current_coordinates = np.array(list(total_coord.values()))\n",
    "    \n",
    "    try:\n",
    "        total_edges_stitched = current_coordinates[np.array(list(UG.edges())).reshape(-1,2)]\n",
    "    except:\n",
    "        print(\"getting the total edges stitched didn't work\")\n",
    "        print(f\"current_coordinates = {current_coordinates}\")\n",
    "        print(f\"UG.edges() = {list(UG.edges())} with type = {type(list(UG.edges()))}\")\n",
    "        print(f\"np.array(UG.edges()) = {np.array(list(UG.edges()))}\")\n",
    "        print(f\"np.array(UG.edges()).reshape(-1,2) = {np.array(list(UG.edges())).reshape(-1,2)}\")\n",
    "        \n",
    "        raise Exception(\" total_edges_stitched not calculated\")\n",
    "        \n",
    "    return total_edges_stitched\n",
    "\n",
    "def list_len_measure(curr_list,G):\n",
    "    return len(curr_list)\n",
    "\n",
    "def skeletal_distance(curr_list,G):\n",
    "    coordinates_dict = nx.get_node_attributes(G,'coordinates')\n",
    "    coor = [coordinates_dict[k] for k in curr_list]\n",
    "    norm_values =  [np.linalg.norm(coor[i] - coor[i-1]) for i in range(1,len(coor))]\n",
    "    #print(f\"norm_values = {norm_values}\")\n",
    "    return np.sum(norm_values)\n",
    "    \n",
    "def clean_skeleton(G,\n",
    "                   distance_func,\n",
    "                  min_distance_to_junction = 3,\n",
    "                  return_skeleton=True,\n",
    "                  print_flag=False):\n",
    "    \"\"\"\n",
    "    Example of how to use: \n",
    "    \n",
    "        \n",
    "    def distance_measure(path,G=None):\n",
    "        return len(path)\n",
    "    new_G = clean_skeleton(G,distance_measure)\n",
    "    nx.draw(new_G,with_labels=True)\n",
    "    \"\"\"\n",
    "    \n",
    "    \n",
    "    def end_node_path_to_junciton(curr_G,end_node):\n",
    "        curr_node = end_node\n",
    "        node_list = [curr_node]\n",
    "        for i in range(len(curr_G)):\n",
    "            neighbors = list(curr_G[curr_node])\n",
    "            if len(neighbors) <= 2:\n",
    "                curr_node = [k for k in neighbors if k not in node_list][0]\n",
    "                node_list.append(curr_node)\n",
    "                #print(f\"node_list = {node_list}\")\n",
    "            else:\n",
    "                break\n",
    "        return node_list\n",
    "\n",
    "    print(f\"Using Distance measure {distance_func.__name__}\")\n",
    "    \n",
    "    if type(G) != type(nx.Graph()):\n",
    "        G = convert_skeleton_to_graph(G)\n",
    "    \n",
    "    end_nodes = np.array([k for k,n in dict(G.degree()).items() if n == 1])\n",
    "    end_nodes_dist_to_j = [distance_func(end_node_path_to_junciton(G,n),G) for n in end_nodes]\n",
    "    ordered_end_nodes = end_nodes[np.argsort(end_nodes_dist_to_j)]\n",
    "    if print_flag:\n",
    "        print(f\"total end_nodes = {end_nodes}\")\n",
    "    current_end_node = ordered_end_nodes[0]\n",
    "    paths_removed = 0\n",
    "    \n",
    "    for i in range(len(end_nodes)):\n",
    "        current_path_to_junction = end_node_path_to_junciton(G,current_end_node)\n",
    "        if print_flag:\n",
    "            print(f\"ordered_end_nodes = {ordered_end_nodes}\")\n",
    "            print(f\"\\n\\ncurrent_end_node = {current_end_node}\")\n",
    "            print(f\"current_path_to_junction = {current_path_to_junction}\")\n",
    "            #print(f\"Using Distance measure {distance_func.__name__}\")\n",
    "        if distance_func(current_path_to_junction,G) <min_distance_to_junction:\n",
    "            if print_flag:\n",
    "                print(f\"the current distance that was below was {distance_func(current_path_to_junction,G)}\")\n",
    "            #remove the nodes\n",
    "            G.remove_nodes_from(current_path_to_junction[:-1])\n",
    "            end_nodes = end_nodes[end_nodes != current_end_node]\n",
    "            end_nodes_dist_to_j = [distance_func(end_node_path_to_junciton(G,n),G) for n in end_nodes]\n",
    "            ordered_end_nodes = end_nodes[np.argsort(end_nodes_dist_to_j)]\n",
    "            if print_flag:\n",
    "                print(f\"   insdie if statement ordered_end_nodes = {ordered_end_nodes}\")\n",
    "                \n",
    "            current_end_node = ordered_end_nodes[0]\n",
    "            paths_removed += 1\n",
    "        else:\n",
    "            break\n",
    "    if print_flag:\n",
    "        print(f\"Done cleaning networkx graph with {paths_removed} paths removed\")\n",
    "    if return_skeleton:\n",
    "        return get_skeleton_from_graph(G)\n",
    "    else:\n",
    "        return G\n",
    "    \n",
    "def distance_measure_func(path,G=None):\n",
    "    #print(\"new thing\")\n",
    "    return len(path)\n",
    "\n",
    "new_G = clean_skeleton(G,distance_measure_func,return_skeleton=False)\n",
    "nx.draw(new_G,with_labels=True)"
   ]
  },
  {
   "cell_type": "code",
   "execution_count": null,
   "metadata": {},
   "outputs": [],
   "source": [
    "nx.convert_node_labels_to_integers(new_G).nodes()"
   ]
  },
  {
   "cell_type": "markdown",
   "metadata": {},
   "source": [
    "# cleaning an actual skeleton"
   ]
  },
  {
   "cell_type": "code",
   "execution_count": 9,
   "metadata": {},
   "outputs": [],
   "source": [
    "import skeleton_utils as sk\n",
    "from importlib import reload\n",
    "sk = reload(sk)"
   ]
  },
  {
   "cell_type": "code",
   "execution_count": 10,
   "metadata": {},
   "outputs": [
    {
     "data": {
      "text/plain": [
       "13"
      ]
     },
     "execution_count": 10,
     "metadata": {},
     "output_type": "execute_result"
    }
   ],
   "source": [
    "len(\"skeleton.cgal\")"
   ]
  },
  {
   "cell_type": "code",
   "execution_count": 12,
   "metadata": {},
   "outputs": [],
   "source": [
    "from pathlib import Path\n",
    "test_skeleton = Path(\"./Dustin_vp6/Dustin_soma_0_branch_0_0_skeleton.cgal\")\n",
    "if not test_skeleton.exists():\n",
    "    print(str(test_skeleton)[:-14])\n",
    "    file_of_skeleton = sk.calcification(str(test_skeleton.absolute())[:-14])\n",
    "else:\n",
    "    file_of_skeleton = test_skeleton"
   ]
  },
  {
   "cell_type": "code",
   "execution_count": 14,
   "metadata": {},
   "outputs": [
    {
     "name": "stdout",
     "output_type": "stream",
     "text": [
      "only one skeleton so no stacking needed\n"
     ]
    },
    {
     "name": "stderr",
     "output_type": "stream",
     "text": [
      "/usr/local/lib/python3.6/dist-packages/traittypes/traittypes.py:101: UserWarning: Given trait value dtype \"float64\" does not match required type \"float64\". A coerced copy has been created.\n",
      "  np.dtype(self.dtype).name))\n"
     ]
    },
    {
     "data": {
      "application/vnd.jupyter.widget-view+json": {
       "model_id": "6498ad1736ad46ba8198df4503933032",
       "version_major": 2,
       "version_minor": 0
      },
      "text/plain": [
       "VBox(children=(Figure(camera=PerspectiveCamera(fov=46.0, position=(0.0, 0.0, 2.0), quaternion=(0.0, 0.0, 0.0, …"
      ]
     },
     "metadata": {},
     "output_type": "display_data"
    }
   ],
   "source": [
    "# import the skeleton\n",
    "test_sk = sk.read_skeleton_edges_coordinates(test_skeleton)\n",
    "import trimesh\n",
    "test_mesh = trimesh.load_mesh(str(str(test_skeleton.absolute())[:-14] + \".off\"))\n",
    "sk.graph_skeleton_and_mesh(test_mesh.vertices,\n",
    "                          test_mesh.faces,\n",
    "                          edge_coordinates=test_sk)"
   ]
  },
  {
   "cell_type": "code",
   "execution_count": 28,
   "metadata": {},
   "outputs": [
    {
     "name": "stdout",
     "output_type": "stream",
     "text": [
      "Using Distance measure skeletal_distance\n",
      "total end_nodes = [  0  30  58 153 239 242 250 301 306 320 497 499 531 548 604]\n",
      "ordered_end_nodes = [242 301 320 250 306 548 499  58 497 531   0 153 604 239  30]\n",
      "\n",
      "\n",
      "current_end_node = 242\n",
      "current_path_to_junction = [242, 238]\n",
      "the current distance that was below was 362.9283675878754\n",
      "   insdie if statement ordered_end_nodes = [301 320 250 306 548 499  58 497 531   0 153 604 239  30]\n",
      "ordered_end_nodes = [301 320 250 306 548 499  58 497 531   0 153 604 239  30]\n",
      "\n",
      "\n",
      "current_end_node = 301\n",
      "current_path_to_junction = [301, 302]\n",
      "the current distance that was below was 580.8614292583043\n",
      "   insdie if statement ordered_end_nodes = [320 306 548 499 250  58 497 531   0 153 604 239  30]\n",
      "ordered_end_nodes = [320 306 548 499 250  58 497 531   0 153 604 239  30]\n",
      "\n",
      "\n",
      "current_end_node = 320\n",
      "current_path_to_junction = [320, 316, 309]\n",
      "the current distance that was below was 1625.240564026802\n",
      "   insdie if statement ordered_end_nodes = [306 548 499 250  58 497 531   0 153 604 239  30]\n",
      "ordered_end_nodes = [306 548 499 250  58 497 531   0 153 604 239  30]\n",
      "\n",
      "\n",
      "current_end_node = 306\n",
      "current_path_to_junction = [306, 319, 321, 300, 290, 309]\n",
      "the current distance that was below was 9553.400686784938\n",
      "   insdie if statement ordered_end_nodes = [548 499 250  58 497 531   0 153 604 239  30]\n",
      "ordered_end_nodes = [548 499 250  58 497 531   0 153 604 239  30]\n",
      "\n",
      "\n",
      "current_end_node = 548\n",
      "current_path_to_junction = [548, 540, 537, 533, 530, 524, 519]\n",
      "Done cleaning networkx graph with 4 paths removed\n",
      "Total time for skeleton clean 0.12583613395690918\n"
     ]
    }
   ],
   "source": [
    "# clean the skeleton and then visualize\n",
    "import time\n",
    "clean_time = time.time()\n",
    "cleaned_skeleton = clean_skeleton(test_sk,\n",
    "                    distance_func=skeletal_distance,\n",
    "              min_distance_to_junction=10000,\n",
    "              return_skeleton=True,\n",
    "              print_flag=True)\n",
    "print(f\"Total time for skeleton clean {time.time() - clean_time}\")"
   ]
  },
  {
   "cell_type": "code",
   "execution_count": 29,
   "metadata": {},
   "outputs": [
    {
     "data": {
      "application/vnd.jupyter.widget-view+json": {
       "model_id": "f31255e05aac45cbaac513e5b9dab2c5",
       "version_major": 2,
       "version_minor": 0
      },
      "text/plain": [
       "VBox(children=(Figure(camera=PerspectiveCamera(fov=46.0, position=(0.0, 0.0, 2.0), quaternion=(0.0, 0.0, 0.0, …"
      ]
     },
     "metadata": {},
     "output_type": "display_data"
    }
   ],
   "source": [
    "# see what skeleton looks like now\n",
    "test_mesh = trimesh.load_mesh(str(str(test_skeleton.absolute())[:-14] + \".off\"))\n",
    "sk.graph_skeleton_and_mesh(test_mesh.vertices,\n",
    "                          test_mesh.faces,\n",
    "                          edge_coordinates=cleaned_skeleton)"
   ]
  },
  {
   "cell_type": "markdown",
   "metadata": {},
   "source": [
    "# Creating a distance measure for the filtering"
   ]
  },
  {
   "cell_type": "code",
   "execution_count": null,
   "metadata": {},
   "outputs": [],
   "source": [
    " # clean the skeleton and then visualize\n",
    "import time\n",
    "clean_time = time.time()\n",
    "cleaned_graph = clean_skeleton(test_sk,\n",
    "              min_distance_to_junction=5,\n",
    "              return_skeleton=False,\n",
    "              print_flag=False)\n",
    "print(f\"Total time for skeleton clean {time.time() - clean_time}\")"
   ]
  },
  {
   "cell_type": "code",
   "execution_count": null,
   "metadata": {},
   "outputs": [],
   "source": [
    "cleaned_graph\n",
    "coordinates_dict = nx.get_node_attributes(cleaned_graph,'coordinates')\n",
    "example_path = [1,3,5]\n",
    "coor = [coordinates_dict[k] for k in example_path]\n",
    "np.sum([np.linalg.norm(coor[i] - coor[i-1]) for i in range(1,len(coor))])\n",
    "    "
   ]
  },
  {
   "cell_type": "code",
   "execution_count": null,
   "metadata": {},
   "outputs": [],
   "source": []
  }
 ],
 "metadata": {
  "kernelspec": {
   "display_name": "Python 3",
   "language": "python",
   "name": "python3"
  },
  "language_info": {
   "codemirror_mode": {
    "name": "ipython",
    "version": 3
   },
   "file_extension": ".py",
   "mimetype": "text/x-python",
   "name": "python",
   "nbconvert_exporter": "python",
   "pygments_lexer": "ipython3",
   "version": "3.6.9"
  }
 },
 "nbformat": 4,
 "nbformat_minor": 4
}
