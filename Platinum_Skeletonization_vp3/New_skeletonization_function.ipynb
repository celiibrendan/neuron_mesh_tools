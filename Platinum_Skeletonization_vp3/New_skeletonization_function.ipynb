{
 "cells": [
  {
   "cell_type": "code",
   "execution_count": 1,
   "metadata": {},
   "outputs": [],
   "source": [
    "import sys\n",
    "sys.path.append(\"../meshAfterParty\")\n",
    "import skeleton_utils as sk\n",
    "import trimesh"
   ]
  },
  {
   "cell_type": "code",
   "execution_count": 2,
   "metadata": {},
   "outputs": [
    {
     "name": "stdout",
     "output_type": "stream",
     "text": [
      "\n",
      "Computing Soma because none given\n",
      "Current Arguments Using (adjusted for decimation):\n",
      " large_mesh_threshold= 15000.0 \n",
      "large_mesh_threshold_inner = 10000.0 \n",
      "soma_size_threshold = 1250.0 \n",
      "soma_size_threshold_max = 12000.0\n",
      "outer_decimation_ratio = 0.25\n",
      "inner_decimation_ratio = 0.25\n",
      "IN INPUT FILE VALIDATION LOOP\n",
      "LEAVING LOOP, MESH VALIDATED\n",
      "Using port = 9463\n",
      "xvfb-run -n 9463 -s \"-screen 0 800x600x24\" meshlabserver $@  -i /notebooks/Platinum_Skeletonization_vp3/104726695973782750/neuron_104726695973782750.off -o /notebooks/Platinum_Skeletonization_vp3/104726695973782750/neuron_104726695973782750_decimated.off -s /notebooks/Platinum_Skeletonization_vp3/104726695973782750/decimation_meshlab_25366678.mls\n",
      "Total found significant pieces before Poisson = [<trimesh.Trimesh(vertices.shape=(41247, 3), faces.shape=(83228, 3))>]\n",
      "----- working on large mesh #0: <trimesh.Trimesh(vertices.shape=(41247, 3), faces.shape=(83228, 3))>\n",
      "pre_largest_mesh_path = /notebooks/Platinum_Skeletonization_vp3/104726695973782750/neuron_104726695973782750_decimated_largest_piece.off\n",
      "IN INPUT FILE VALIDATION LOOP\n",
      "LEAVING LOOP, MESH VALIDATED\n",
      "Using port = 5211\n",
      "xvfb-run -n 5211 -s \"-screen 0 800x600x24\" meshlabserver $@  -i /notebooks/Platinum_Skeletonization_vp3/104726695973782750/neuron_104726695973782750_decimated_largest_piece.off -o /notebooks/Platinum_Skeletonization_vp3/104726695973782750/neuron_104726695973782750_decimated_largest_piece_poisson.off -s /notebooks/Platinum_Skeletonization_vp3/104726695973782750/poisson_846910.mls\n"
     ]
    },
    {
     "name": "stderr",
     "output_type": "stream",
     "text": [
      "face_normals all zero, ignoring!\n",
      "face_normals all zero, ignoring!\n",
      "face_normals all zero, ignoring!\n",
      "face_normals all zero, ignoring!\n",
      "face_normals all zero, ignoring!\n",
      "face_normals all zero, ignoring!\n",
      "face_normals all zero, ignoring!\n",
      "face_normals all zero, ignoring!\n",
      "face_normals all zero, ignoring!\n",
      "face_normals all zero, ignoring!\n",
      "face_normals all zero, ignoring!\n",
      "face_normals all zero, ignoring!\n",
      "face_normals all zero, ignoring!\n",
      "face_normals all zero, ignoring!\n",
      "face_normals all zero, ignoring!\n",
      "face_normals all zero, ignoring!\n",
      "face_normals all zero, ignoring!\n",
      "face_normals all zero, ignoring!\n",
      "face_normals all zero, ignoring!\n",
      "face_normals all zero, ignoring!\n",
      "face_normals all zero, ignoring!\n",
      "face_normals all zero, ignoring!\n",
      "face_normals all zero, ignoring!\n",
      "face_normals all zero, ignoring!\n",
      "face_normals all zero, ignoring!\n",
      "face_normals all zero, ignoring!\n"
     ]
    },
    {
     "name": "stdout",
     "output_type": "stream",
     "text": [
      "Total found significant pieces AFTER Poisson = [<trimesh.Trimesh(vertices.shape=(24592, 3), faces.shape=(49180, 3))>]\n",
      "----- working on mesh after poisson #0: <trimesh.Trimesh(vertices.shape=(24592, 3), faces.shape=(49180, 3))>\n",
      "IN INPUT FILE VALIDATION LOOP\n",
      "LEAVING LOOP, MESH VALIDATED\n",
      "Using port = 4570\n",
      "xvfb-run -n 4570 -s \"-screen 0 800x600x24\" meshlabserver $@  -i /notebooks/Platinum_Skeletonization_vp3/104726695973782750/neuron_104726695973782750_decimated_largest_piece_poisson_largest_inner.off -o /notebooks/Platinum_Skeletonization_vp3/104726695973782750/neuron_104726695973782750_decimated_largest_piece_poisson_largest_inner_decimated.off -s /notebooks/Platinum_Skeletonization_vp3/104726695973782750/decimation_meshlab_2575225.mls\n",
      "done exporting decimated mesh: neuron_104726695973782750_decimated_largest_piece_poisson_largest_inner.off\n",
      "1) Starting: Mesh importing and Pymesh fix\n",
      "loading mesh from vertices and triangles array\n",
      "1) Finished: Mesh importing and Pymesh fix: 0.00025534629821777344\n",
      "2) Staring: Generating CGAL segmentation for neuron\n",
      "Done writing OFF file\n",
      "\n",
      "Starting CGAL segmentation\n",
      "Right before cgal segmentation, clusters = 3, smoothness = 0.2, path_and_filename = /notebooks/Platinum_Skeletonization_vp3/temp/10472669597378275000_fixed \n",
      "1\n",
      "Finished CGAL segmentation algorithm: 1.199643611907959\n",
      "2) Finished: Generating CGAL segmentation for neuron: 1.383218765258789\n",
      "3) Staring: Generating Graph Structure and Identifying Soma using soma size threshold  = 3000\n",
      "my_list_keys = [0, 1, 2, 3, 4, 5, 6, 7, 8, 9]\n",
      "changed the median value\n",
      "changed the mean value\n",
      "changed the max value\n",
      "changed the median value\n",
      "changed the mean value\n",
      "changed the max value\n",
      "soma_index = 3\n",
      "3) Finished: Generating Graph Structure and Identifying Soma: 0.0043697357177734375\n",
      "Not finding the apical because soma_only option selected\n",
      "6) Staring: Classifying Entire Neuron\n",
      "Total Labels found = {'soma', 'unsure'}\n",
      "6) Finished: Classifying Entire Neuron: 5.1975250244140625e-05\n",
      "7) Staring: Transfering Segmentation Labels to Face Labels\n",
      "7) Finished: Transfering Segmentation Labels to Face Labels: 0.009810447692871094\n",
      "8) Staring: Generating final Vertex and Face Labels\n",
      "8) Finished: Generating final Vertex and Face Labels: 0.05940723419189453\n",
      "Returning the soma_sdf value AND the classifier\n",
      "soma_sdf_value = 0.7896295\n",
      "segmentation[sorted_medians],median_values[sorted_medians] = (array([3, 7, 5, 6, 4, 9, 8, 1, 2, 0]), array([0.7896295 , 0.156728  , 0.120808  , 0.11496   , 0.0778358 ,\n",
      "       0.07087885, 0.0630693 , 0.06058975, 0.0486843 , 0.04097455]))\n",
      "Sizes = [4732, 1098, 463, 449, 273, 168, 308, 4286, 91, 426]\n",
      "valid_soma_segments_width\n",
      "      ------ Found 1 viable somas: [3]\n",
      "Using Poisson Surface Reconstruction to make mesh watertight\n",
      "IN INPUT FILE VALIDATION LOOP\n",
      "LEAVING LOOP, MESH VALIDATED\n",
      "Using port = 8911\n",
      "xvfb-run -n 8911 -s \"-screen 0 800x600x24\" meshlabserver $@  -i /notebooks/Platinum_Skeletonization_vp3/Poisson_temp/neuron_915717.off -o /notebooks/Platinum_Skeletonization_vp3/Poisson_temp/neuron_915717_poisson.off -s /notebooks/Platinum_Skeletonization_vp3/Poisson_temp/poisson_602127.mls\n"
     ]
    },
    {
     "name": "stderr",
     "output_type": "stream",
     "text": [
      "face_normals all zero, ignoring!\n",
      "face_normals all zero, ignoring!\n",
      "face_normals all zero, ignoring!\n",
      "face_normals all zero, ignoring!\n",
      "face_normals all zero, ignoring!\n",
      "face_normals all zero, ignoring!\n",
      "face_normals all zero, ignoring!\n"
     ]
    },
    {
     "name": "stdout",
     "output_type": "stream",
     "text": [
      "removed temporary input file: /notebooks/Platinum_Skeletonization_vp3/Poisson_temp/neuron_915717.off\n",
      "removed temporary output file: /notebooks/Platinum_Skeletonization_vp3/Poisson_temp/neuron_915717_poisson.off\n",
      "/notebooks/Platinum_Skeletonization_vp3/Poisson_temp/poisson_602127.mls is being deleted....\n",
      "Inside sphere validater: ratio_val = 2.963169268464745\n",
      "\n",
      "\n",
      "\n",
      " Total time for run = 41.20271921157837\n",
      "Soma List = [<trimesh.Trimesh(vertices.shape=(2394, 3), faces.shape=(4732, 3))>]\n",
      "soma_mesh_list_centers = [array([1201570.03759398,  902731.14874687,  647705.23659148])]\n",
      "# of non soma touching seperate meshes = 43\n",
      "# of soma containing seperate meshes = 1\n",
      "[]\n",
      "\n",
      "\n",
      " ---- Working on soma touching skeletons ------\n",
      "Total Time for soma mesh cancellation = 0.666\n",
      "mesh_pieces after the soma subtraction = 5\n",
      "\n",
      "\n",
      "Working on 104726695973782750_soma_0_branch_0\n",
      "     Starting Screened Poisson\n",
      "IN INPUT FILE VALIDATION LOOP\n",
      "LEAVING LOOP, MESH VALIDATED\n",
      "Using port = 5696\n",
      "xvfb-run -n 5696 -s \"-screen 0 800x600x24\" meshlabserver $@  -i /notebooks/Platinum_Skeletonization_vp3/104726695973782750/104726695973782750_soma_0_branch_0.off -o /notebooks/Platinum_Skeletonization_vp3/104726695973782750/104726695973782750_soma_0_branch_0_poisson.off -s /notebooks/Platinum_Skeletonization_vp3/104726695973782750/poisson_317425.mls\n",
      "-----Time for Screened Poisson= 23.63851237297058\n"
     ]
    },
    {
     "name": "stderr",
     "output_type": "stream",
     "text": [
      "face_normals all zero, ignoring!\n",
      "face_normals all zero, ignoring!\n",
      "face_normals all zero, ignoring!\n",
      "face_normals all zero, ignoring!\n",
      "face_normals all zero, ignoring!\n",
      "face_normals all zero, ignoring!\n",
      "face_normals all zero, ignoring!\n",
      "face_normals all zero, ignoring!\n",
      "face_normals all zero, ignoring!\n",
      "face_normals all zero, ignoring!\n",
      "face_normals all zero, ignoring!\n",
      "face_normals all zero, ignoring!\n",
      "face_normals all zero, ignoring!\n",
      "face_normals all zero, ignoring!\n",
      "face_normals all zero, ignoring!\n",
      "face_normals all zero, ignoring!\n",
      "face_normals all zero, ignoring!\n",
      "face_normals all zero, ignoring!\n",
      "face_normals all zero, ignoring!\n",
      "face_normals all zero, ignoring!\n",
      "face_normals all zero, ignoring!\n",
      "face_normals all zero, ignoring!\n",
      "face_normals all zero, ignoring!\n",
      "face_normals all zero, ignoring!\n",
      "face_normals all zero, ignoring!\n",
      "face_normals all zero, ignoring!\n",
      "face_normals all zero, ignoring!\n",
      "face_normals all zero, ignoring!\n",
      "face_normals all zero, ignoring!\n",
      "face_normals all zero, ignoring!\n",
      "face_normals all zero, ignoring!\n",
      "face_normals all zero, ignoring!\n",
      "face_normals all zero, ignoring!\n",
      "face_normals all zero, ignoring!\n",
      "face_normals all zero, ignoring!\n",
      "face_normals all zero, ignoring!\n",
      "face_normals all zero, ignoring!\n",
      "face_normals all zero, ignoring!\n",
      "face_normals all zero, ignoring!\n",
      "face_normals all zero, ignoring!\n",
      "face_normals all zero, ignoring!\n",
      "face_normals all zero, ignoring!\n",
      "face_normals all zero, ignoring!\n",
      "face_normals all zero, ignoring!\n",
      "face_normals all zero, ignoring!\n",
      "face_normals all zero, ignoring!\n",
      "face_normals all zero, ignoring!\n",
      "face_normals all zero, ignoring!\n",
      "face_normals all zero, ignoring!\n",
      "face_normals all zero, ignoring!\n",
      "face_normals all zero, ignoring!\n",
      "face_normals all zero, ignoring!\n",
      "face_normals all zero, ignoring!\n",
      "face_normals all zero, ignoring!\n",
      "face_normals all zero, ignoring!\n",
      "face_normals all zero, ignoring!\n",
      "face_normals all zero, ignoring!\n",
      "face_normals all zero, ignoring!\n",
      "face_normals all zero, ignoring!\n",
      "face_normals all zero, ignoring!\n",
      "face_normals all zero, ignoring!\n",
      "face_normals all zero, ignoring!\n",
      "face_normals all zero, ignoring!\n",
      "face_normals all zero, ignoring!\n",
      "face_normals all zero, ignoring!\n",
      "face_normals all zero, ignoring!\n",
      "face_normals all zero, ignoring!\n",
      "face_normals all zero, ignoring!\n",
      "face_normals all zero, ignoring!\n",
      "face_normals all zero, ignoring!\n",
      "face_normals all zero, ignoring!\n",
      "face_normals all zero, ignoring!\n",
      "face_normals all zero, ignoring!\n",
      "face_normals all zero, ignoring!\n",
      "face_normals all zero, ignoring!\n",
      "face_normals all zero, ignoring!\n",
      "face_normals all zero, ignoring!\n",
      "face_normals all zero, ignoring!\n",
      "face_normals all zero, ignoring!\n",
      "face_normals all zero, ignoring!\n",
      "face_normals all zero, ignoring!\n",
      "face_normals all zero, ignoring!\n",
      "face_normals all zero, ignoring!\n",
      "face_normals all zero, ignoring!\n",
      "face_normals all zero, ignoring!\n",
      "face_normals all zero, ignoring!\n",
      "face_normals all zero, ignoring!\n",
      "face_normals all zero, ignoring!\n",
      "face_normals all zero, ignoring!\n",
      "face_normals all zero, ignoring!\n",
      "face_normals all zero, ignoring!\n",
      "face_normals all zero, ignoring!\n",
      "face_normals all zero, ignoring!\n",
      "face_normals all zero, ignoring!\n",
      "face_normals all zero, ignoring!\n",
      "face_normals all zero, ignoring!\n",
      "face_normals all zero, ignoring!\n",
      "face_normals all zero, ignoring!\n",
      "face_normals all zero, ignoring!\n",
      "face_normals all zero, ignoring!\n",
      "face_normals all zero, ignoring!\n",
      "face_normals all zero, ignoring!\n",
      "face_normals all zero, ignoring!\n",
      "face_normals all zero, ignoring!\n",
      "face_normals all zero, ignoring!\n",
      "face_normals all zero, ignoring!\n",
      "face_normals all zero, ignoring!\n",
      "face_normals all zero, ignoring!\n",
      "face_normals all zero, ignoring!\n",
      "face_normals all zero, ignoring!\n",
      "face_normals all zero, ignoring!\n",
      "face_normals all zero, ignoring!\n",
      "face_normals all zero, ignoring!\n",
      "face_normals all zero, ignoring!\n",
      "face_normals all zero, ignoring!\n"
     ]
    },
    {
     "name": "stdout",
     "output_type": "stream",
     "text": [
      "Signifiant mesh pieces of 50 size after poisson = 201\n",
      "     Starting Calcification\n",
      "-----Time for Running Calcification = 9.248886108398438\n",
      "Before mesh subtraction number of skeleton edges = 1950\n",
      "Inside mesh subtraction, len(main_mesh_bbox_restricted.faces) = 127722\n"
     ]
    },
    {
     "data": {
      "application/vnd.jupyter.widget-view+json": {
       "model_id": "979e2ace3e564daeb7866e011f6f0c30",
       "version_major": 2,
       "version_minor": 0
      },
      "text/plain": [
       "HBox(children=(FloatProgress(value=1.0, bar_style='info', max=1.0), HTML(value='')))"
      ]
     },
     "metadata": {},
     "output_type": "display_data"
    },
    {
     "name": "stdout",
     "output_type": "stream",
     "text": [
      "\n",
      "Total Mesh subtraction time = 35.5398\n"
     ]
    },
    {
     "data": {
      "application/vnd.jupyter.widget-view+json": {
       "model_id": "b8b7a51ff4a4448e96d128f5dc5d2795",
       "version_major": 2,
       "version_minor": 0
      },
      "text/plain": [
       "HBox(children=(FloatProgress(value=0.0, max=93.0), HTML(value='')))"
      ]
     },
     "metadata": {},
     "output_type": "display_data"
    },
    {
     "name": "stdout",
     "output_type": "stream",
     "text": [
      "\n",
      "After cgal process the un-stitched skeleton has shape (2500, 2, 3)\n",
      "len_subgraphs AT BEGINNING of the loop\n"
     ]
    },
    {
     "data": {
      "application/vnd.jupyter.widget-view+json": {
       "model_id": "9ec255b1337e4a099cff9de7954824b7",
       "version_major": 2,
       "version_minor": 0
      },
      "text/plain": [
       "HBox(children=(FloatProgress(value=0.0, max=294.0), HTML(value='')))"
      ]
     },
     "metadata": {},
     "output_type": "display_data"
    },
    {
     "name": "stdout",
     "output_type": "stream",
     "text": [
      "all graph is one component!\n",
      "\n",
      "Total time for skeleton stitching = 0.23256826400756836\n",
      "\n",
      "\n",
      "Working on 104726695973782750_soma_0_branch_1\n",
      "     Starting Screened Poisson\n",
      "IN INPUT FILE VALIDATION LOOP\n",
      "LEAVING LOOP, MESH VALIDATED\n",
      "Using port = 1787\n",
      "xvfb-run -n 1787 -s \"-screen 0 800x600x24\" meshlabserver $@  -i /notebooks/Platinum_Skeletonization_vp3/104726695973782750/104726695973782750_soma_0_branch_1.off -o /notebooks/Platinum_Skeletonization_vp3/104726695973782750/104726695973782750_soma_0_branch_1_poisson.off -s /notebooks/Platinum_Skeletonization_vp3/104726695973782750/poisson_7219.mls\n"
     ]
    },
    {
     "name": "stderr",
     "output_type": "stream",
     "text": [
      "face_normals all zero, ignoring!\n"
     ]
    },
    {
     "name": "stdout",
     "output_type": "stream",
     "text": [
      "-----Time for Screened Poisson= 13.885892391204834\n"
     ]
    },
    {
     "name": "stderr",
     "output_type": "stream",
     "text": [
      "face_normals all zero, ignoring!\n",
      "face_normals all zero, ignoring!\n",
      "face_normals all zero, ignoring!\n",
      "face_normals all zero, ignoring!\n",
      "face_normals all zero, ignoring!\n",
      "face_normals all zero, ignoring!\n",
      "face_normals all zero, ignoring!\n",
      "face_normals all zero, ignoring!\n",
      "face_normals all zero, ignoring!\n",
      "face_normals all zero, ignoring!\n",
      "face_normals all zero, ignoring!\n",
      "face_normals all zero, ignoring!\n",
      "face_normals all zero, ignoring!\n",
      "face_normals all zero, ignoring!\n",
      "face_normals all zero, ignoring!\n",
      "face_normals all zero, ignoring!\n",
      "face_normals all zero, ignoring!\n",
      "face_normals all zero, ignoring!\n",
      "face_normals all zero, ignoring!\n",
      "face_normals all zero, ignoring!\n",
      "face_normals all zero, ignoring!\n",
      "face_normals all zero, ignoring!\n",
      "face_normals all zero, ignoring!\n",
      "face_normals all zero, ignoring!\n",
      "face_normals all zero, ignoring!\n",
      "face_normals all zero, ignoring!\n",
      "face_normals all zero, ignoring!\n",
      "face_normals all zero, ignoring!\n",
      "face_normals all zero, ignoring!\n",
      "face_normals all zero, ignoring!\n",
      "face_normals all zero, ignoring!\n",
      "face_normals all zero, ignoring!\n",
      "face_normals all zero, ignoring!\n",
      "face_normals all zero, ignoring!\n",
      "face_normals all zero, ignoring!\n"
     ]
    },
    {
     "name": "stdout",
     "output_type": "stream",
     "text": [
      "Signifiant mesh pieces of 50 size after poisson = 159\n",
      "     Starting Calcification\n",
      "-----Time for Running Calcification = 3.3075602054595947\n",
      "Before mesh subtraction number of skeleton edges = 1682\n",
      "Inside mesh subtraction, len(main_mesh_bbox_restricted.faces) = 80772\n"
     ]
    },
    {
     "data": {
      "application/vnd.jupyter.widget-view+json": {
       "model_id": "399a0d9529414466a279c38e11ae7afc",
       "version_major": 2,
       "version_minor": 0
      },
      "text/plain": [
       "HBox(children=(FloatProgress(value=1.0, bar_style='info', max=1.0), HTML(value='')))"
      ]
     },
     "metadata": {},
     "output_type": "display_data"
    },
    {
     "name": "stderr",
     "output_type": "stream",
     "text": [
      "No adjacent faces detected! Did you merge vertices?\n"
     ]
    },
    {
     "name": "stdout",
     "output_type": "stream",
     "text": [
      "\n",
      "Total Mesh subtraction time = 25.8828\n"
     ]
    },
    {
     "data": {
      "application/vnd.jupyter.widget-view+json": {
       "model_id": "4707a0105bb6488180f1e5bfe946b3ae",
       "version_major": 2,
       "version_minor": 0
      },
      "text/plain": [
       "HBox(children=(FloatProgress(value=0.0, max=76.0), HTML(value='')))"
      ]
     },
     "metadata": {},
     "output_type": "display_data"
    },
    {
     "name": "stdout",
     "output_type": "stream",
     "text": [
      "\n",
      "After cgal process the un-stitched skeleton has shape (2118, 2, 3)\n",
      "len_subgraphs AT BEGINNING of the loop\n"
     ]
    },
    {
     "data": {
      "application/vnd.jupyter.widget-view+json": {
       "model_id": "9b4d5b4056d54b1e816b8c537a4ea28c",
       "version_major": 2,
       "version_minor": 0
      },
      "text/plain": [
       "HBox(children=(FloatProgress(value=0.0, max=234.0), HTML(value='')))"
      ]
     },
     "metadata": {},
     "output_type": "display_data"
    },
    {
     "name": "stdout",
     "output_type": "stream",
     "text": [
      "all graph is one component!\n",
      "\n",
      "Total time for skeleton stitching = 0.19481229782104492\n",
      "\n",
      "\n",
      "Working on 104726695973782750_soma_0_branch_2\n",
      "     Starting Screened Poisson\n",
      "IN INPUT FILE VALIDATION LOOP\n",
      "LEAVING LOOP, MESH VALIDATED\n",
      "Using port = 6867\n",
      "xvfb-run -n 6867 -s \"-screen 0 800x600x24\" meshlabserver $@  -i /notebooks/Platinum_Skeletonization_vp3/104726695973782750/104726695973782750_soma_0_branch_2.off -o /notebooks/Platinum_Skeletonization_vp3/104726695973782750/104726695973782750_soma_0_branch_2_poisson.off -s /notebooks/Platinum_Skeletonization_vp3/104726695973782750/poisson_217111.mls\n"
     ]
    },
    {
     "name": "stderr",
     "output_type": "stream",
     "text": [
      "face_normals all zero, ignoring!\n",
      "face_normals all zero, ignoring!\n",
      "face_normals all zero, ignoring!\n",
      "face_normals all zero, ignoring!\n",
      "face_normals all zero, ignoring!\n",
      "face_normals all zero, ignoring!\n",
      "face_normals all zero, ignoring!\n",
      "face_normals all zero, ignoring!\n",
      "face_normals all zero, ignoring!\n",
      "face_normals all zero, ignoring!\n",
      "face_normals all zero, ignoring!\n",
      "face_normals all zero, ignoring!\n",
      "face_normals all zero, ignoring!\n",
      "face_normals all zero, ignoring!\n",
      "face_normals all zero, ignoring!\n",
      "face_normals all zero, ignoring!\n",
      "face_normals all zero, ignoring!\n",
      "face_normals all zero, ignoring!\n",
      "face_normals all zero, ignoring!\n",
      "face_normals all zero, ignoring!\n",
      "face_normals all zero, ignoring!\n",
      "face_normals all zero, ignoring!\n",
      "face_normals all zero, ignoring!\n",
      "face_normals all zero, ignoring!\n",
      "face_normals all zero, ignoring!\n",
      "face_normals all zero, ignoring!\n",
      "face_normals all zero, ignoring!\n",
      "face_normals all zero, ignoring!\n",
      "face_normals all zero, ignoring!\n",
      "face_normals all zero, ignoring!\n",
      "face_normals all zero, ignoring!\n",
      "face_normals all zero, ignoring!\n",
      "face_normals all zero, ignoring!\n",
      "face_normals all zero, ignoring!\n",
      "face_normals all zero, ignoring!\n",
      "face_normals all zero, ignoring!\n",
      "face_normals all zero, ignoring!\n",
      "face_normals all zero, ignoring!\n",
      "face_normals all zero, ignoring!\n",
      "face_normals all zero, ignoring!\n",
      "face_normals all zero, ignoring!\n"
     ]
    },
    {
     "name": "stdout",
     "output_type": "stream",
     "text": [
      "-----Time for Screened Poisson= 12.394965887069702\n",
      "Signifiant mesh pieces of 50 size after poisson = 45\n",
      "     Starting Calcification\n",
      "-----Time for Running Calcification = 2.4175620079040527\n",
      "Before mesh subtraction number of skeleton edges = 1734\n",
      "Inside mesh subtraction, len(main_mesh_bbox_restricted.faces) = 57386\n"
     ]
    },
    {
     "data": {
      "application/vnd.jupyter.widget-view+json": {
       "model_id": "34a1214b20ac4ea3bc9b70b63cb34728",
       "version_major": 2,
       "version_minor": 0
      },
      "text/plain": [
       "HBox(children=(FloatProgress(value=1.0, bar_style='info', max=1.0), HTML(value='')))"
      ]
     },
     "metadata": {},
     "output_type": "display_data"
    },
    {
     "name": "stdout",
     "output_type": "stream",
     "text": [
      "\n",
      "Total Mesh subtraction time = 19.961\n"
     ]
    },
    {
     "data": {
      "application/vnd.jupyter.widget-view+json": {
       "model_id": "7934b858e6bd47bf9692ffe04f3cacad",
       "version_major": 2,
       "version_minor": 0
      },
      "text/plain": [
       "HBox(children=(FloatProgress(value=0.0, max=28.0), HTML(value='')))"
      ]
     },
     "metadata": {},
     "output_type": "display_data"
    },
    {
     "name": "stdout",
     "output_type": "stream",
     "text": [
      "\n",
      "After cgal process the un-stitched skeleton has shape (1953, 2, 3)\n",
      "len_subgraphs AT BEGINNING of the loop\n"
     ]
    },
    {
     "data": {
      "application/vnd.jupyter.widget-view+json": {
       "model_id": "0a8ae2ca93414f29a0486726147e80ed",
       "version_major": 2,
       "version_minor": 0
      },
      "text/plain": [
       "HBox(children=(FloatProgress(value=0.0, max=73.0), HTML(value='')))"
      ]
     },
     "metadata": {},
     "output_type": "display_data"
    },
    {
     "name": "stdout",
     "output_type": "stream",
     "text": [
      "all graph is one component!\n",
      "Total time for skeleton stitching = 0.11920475959777832\n",
      "\n",
      "\n",
      "Working on 104726695973782750_soma_0_branch_3\n",
      "     Starting Screened Poisson\n",
      "IN INPUT FILE VALIDATION LOOP\n",
      "\n",
      "LEAVING LOOP, MESH VALIDATED\n",
      "Using port = 4097\n",
      "xvfb-run -n 4097 -s \"-screen 0 800x600x24\" meshlabserver $@  -i /notebooks/Platinum_Skeletonization_vp3/104726695973782750/104726695973782750_soma_0_branch_3.off -o /notebooks/Platinum_Skeletonization_vp3/104726695973782750/104726695973782750_soma_0_branch_3_poisson.off -s /notebooks/Platinum_Skeletonization_vp3/104726695973782750/poisson_238566.mls\n"
     ]
    },
    {
     "name": "stderr",
     "output_type": "stream",
     "text": [
      "face_normals all zero, ignoring!\n",
      "face_normals all zero, ignoring!\n",
      "face_normals all zero, ignoring!\n",
      "face_normals all zero, ignoring!\n",
      "face_normals all zero, ignoring!\n",
      "face_normals all zero, ignoring!\n",
      "face_normals all zero, ignoring!\n",
      "face_normals all zero, ignoring!\n",
      "face_normals all zero, ignoring!\n",
      "face_normals all zero, ignoring!\n",
      "face_normals all zero, ignoring!\n",
      "face_normals all zero, ignoring!\n",
      "face_normals all zero, ignoring!\n",
      "face_normals all zero, ignoring!\n",
      "face_normals all zero, ignoring!\n",
      "face_normals all zero, ignoring!\n",
      "face_normals all zero, ignoring!\n",
      "face_normals all zero, ignoring!\n",
      "face_normals all zero, ignoring!\n",
      "face_normals all zero, ignoring!\n",
      "face_normals all zero, ignoring!\n",
      "face_normals all zero, ignoring!\n",
      "face_normals all zero, ignoring!\n",
      "face_normals all zero, ignoring!\n",
      "face_normals all zero, ignoring!\n",
      "face_normals all zero, ignoring!\n",
      "face_normals all zero, ignoring!\n",
      "face_normals all zero, ignoring!\n",
      "face_normals all zero, ignoring!\n",
      "face_normals all zero, ignoring!\n"
     ]
    },
    {
     "name": "stdout",
     "output_type": "stream",
     "text": [
      "-----Time for Screened Poisson= 11.642069339752197\n"
     ]
    },
    {
     "name": "stderr",
     "output_type": "stream",
     "text": [
      "face_normals all zero, ignoring!\n",
      "face_normals all zero, ignoring!\n",
      "face_normals all zero, ignoring!\n",
      "face_normals all zero, ignoring!\n",
      "face_normals all zero, ignoring!\n",
      "face_normals all zero, ignoring!\n",
      "face_normals all zero, ignoring!\n",
      "face_normals all zero, ignoring!\n",
      "face_normals all zero, ignoring!\n",
      "face_normals all zero, ignoring!\n",
      "face_normals all zero, ignoring!\n",
      "face_normals all zero, ignoring!\n",
      "face_normals all zero, ignoring!\n",
      "face_normals all zero, ignoring!\n",
      "face_normals all zero, ignoring!\n",
      "face_normals all zero, ignoring!\n",
      "face_normals all zero, ignoring!\n",
      "face_normals all zero, ignoring!\n",
      "face_normals all zero, ignoring!\n",
      "face_normals all zero, ignoring!\n",
      "face_normals all zero, ignoring!\n"
     ]
    },
    {
     "name": "stdout",
     "output_type": "stream",
     "text": [
      "Signifiant mesh pieces of 50 size after poisson = 79\n",
      "     Starting Calcification\n",
      "-----Time for Running Calcification = 3.1756136417388916\n",
      "Before mesh subtraction number of skeleton edges = 764\n",
      "Inside mesh subtraction, len(main_mesh_bbox_restricted.faces) = 39989\n"
     ]
    },
    {
     "data": {
      "application/vnd.jupyter.widget-view+json": {
       "model_id": "fcab54cc89fd4d1987aec6795b8a5f1a",
       "version_major": 2,
       "version_minor": 0
      },
      "text/plain": [
       "HBox(children=(FloatProgress(value=1.0, bar_style='info', max=1.0), HTML(value='')))"
      ]
     },
     "metadata": {},
     "output_type": "display_data"
    },
    {
     "name": "stdout",
     "output_type": "stream",
     "text": [
      "\n",
      "Total Mesh subtraction time = 9.8629\n"
     ]
    },
    {
     "data": {
      "application/vnd.jupyter.widget-view+json": {
       "model_id": "3c60592d47d845b49ff7b5984366fd49",
       "version_major": 2,
       "version_minor": 0
      },
      "text/plain": [
       "HBox(children=(FloatProgress(value=0.0, max=27.0), HTML(value='')))"
      ]
     },
     "metadata": {},
     "output_type": "display_data"
    },
    {
     "name": "stdout",
     "output_type": "stream",
     "text": [
      "\n",
      "After cgal process the un-stitched skeleton has shape (884, 2, 3)\n",
      "len_subgraphs AT BEGINNING of the loop\n"
     ]
    },
    {
     "data": {
      "application/vnd.jupyter.widget-view+json": {
       "model_id": "afcce37cff6b4abf966f3a2dee5ac16e",
       "version_major": 2,
       "version_minor": 0
      },
      "text/plain": [
       "HBox(children=(FloatProgress(value=0.0, max=106.0), HTML(value='')))"
      ]
     },
     "metadata": {},
     "output_type": "display_data"
    },
    {
     "name": "stdout",
     "output_type": "stream",
     "text": [
      "all graph is one component!\n",
      "Total time for skeleton stitching = 0.08885908126831055\n",
      "\n",
      "\n",
      "Working on 104726695973782750_soma_0_branch_4\n",
      "     Starting Screened Poisson\n",
      "IN INPUT FILE VALIDATION LOOP\n",
      "\n",
      "LEAVING LOOP, MESH VALIDATED\n",
      "Using port = 1540\n",
      "xvfb-run -n 1540 -s \"-screen 0 800x600x24\" meshlabserver $@  -i /notebooks/Platinum_Skeletonization_vp3/104726695973782750/104726695973782750_soma_0_branch_4.off -o /notebooks/Platinum_Skeletonization_vp3/104726695973782750/104726695973782750_soma_0_branch_4_poisson.off -s /notebooks/Platinum_Skeletonization_vp3/104726695973782750/poisson_988700.mls\n"
     ]
    },
    {
     "name": "stderr",
     "output_type": "stream",
     "text": [
      "face_normals all zero, ignoring!\n",
      "face_normals all zero, ignoring!\n",
      "face_normals all zero, ignoring!\n",
      "face_normals all zero, ignoring!\n",
      "face_normals all zero, ignoring!\n",
      "face_normals all zero, ignoring!\n"
     ]
    },
    {
     "name": "stdout",
     "output_type": "stream",
     "text": [
      "-----Time for Screened Poisson= 7.486359119415283\n",
      "Signifiant mesh pieces of 50 size after poisson = 29\n",
      "     Starting Calcification\n",
      "-----Time for Running Calcification = 0.9519226551055908\n",
      "Before mesh subtraction number of skeleton edges = 378\n",
      "Inside mesh subtraction, len(main_mesh_bbox_restricted.faces) = 20743\n"
     ]
    },
    {
     "data": {
      "application/vnd.jupyter.widget-view+json": {
       "model_id": "ac9d3833cafb4f4e8aa25392dcb1bc43",
       "version_major": 2,
       "version_minor": 0
      },
      "text/plain": [
       "HBox(children=(FloatProgress(value=1.0, bar_style='info', max=1.0), HTML(value='')))"
      ]
     },
     "metadata": {},
     "output_type": "display_data"
    },
    {
     "name": "stdout",
     "output_type": "stream",
     "text": [
      "\n",
      "Total Mesh subtraction time = 2.7414\n"
     ]
    },
    {
     "data": {
      "application/vnd.jupyter.widget-view+json": {
       "model_id": "f7b9ad84bcbf41468f3efb274326350e",
       "version_major": 2,
       "version_minor": 0
      },
      "text/plain": [
       "HBox(children=(FloatProgress(value=0.0, max=17.0), HTML(value='')))"
      ]
     },
     "metadata": {},
     "output_type": "display_data"
    },
    {
     "name": "stdout",
     "output_type": "stream",
     "text": [
      "\n",
      "After cgal process the un-stitched skeleton has shape (476, 2, 3)\n",
      "len_subgraphs AT BEGINNING of the loop\n"
     ]
    },
    {
     "data": {
      "application/vnd.jupyter.widget-view+json": {
       "model_id": "7552d39c74f041099c129ff75c38330c",
       "version_major": 2,
       "version_minor": 0
      },
      "text/plain": [
       "HBox(children=(FloatProgress(value=0.0, max=46.0), HTML(value='')))"
      ]
     },
     "metadata": {},
     "output_type": "display_data"
    },
    {
     "name": "stdout",
     "output_type": "stream",
     "text": [
      "all graph is one component!\n",
      "Total time for skeleton stitching = 0.05080413818359375\n",
      "Total time for soma touching skeletons: 195.93212008476257\n",
      "soma_connecting_skeleton[0].shape = (1, 2, 3)\n",
      "total_soma_skeletons[0].shape = (2787, 2, 3)\n",
      "\n",
      "\n",
      " ---- Working on non-soma touching skeletons ------\n",
      "\n",
      "\n",
      "Working on 104726695973782750_non_soma_0\n",
      "     Starting Screened Poisson\n",
      "IN INPUT FILE VALIDATION LOOP\n",
      "\n",
      "LEAVING LOOP, MESH VALIDATED\n",
      "Using port = 7020\n",
      "xvfb-run -n 7020 -s \"-screen 0 800x600x24\" meshlabserver $@  -i /notebooks/Platinum_Skeletonization_vp3/104726695973782750/104726695973782750_non_soma_0.off -o /notebooks/Platinum_Skeletonization_vp3/104726695973782750/104726695973782750_non_soma_0_poisson.off -s /notebooks/Platinum_Skeletonization_vp3/104726695973782750/poisson_941552.mls\n"
     ]
    },
    {
     "name": "stderr",
     "output_type": "stream",
     "text": [
      "face_normals all zero, ignoring!\n",
      "face_normals all zero, ignoring!\n",
      "face_normals all zero, ignoring!\n",
      "face_normals all zero, ignoring!\n",
      "face_normals all zero, ignoring!\n",
      "face_normals all zero, ignoring!\n",
      "face_normals all zero, ignoring!\n",
      "face_normals all zero, ignoring!\n",
      "face_normals all zero, ignoring!\n",
      "face_normals all zero, ignoring!\n",
      "face_normals all zero, ignoring!\n",
      "face_normals all zero, ignoring!\n",
      "face_normals all zero, ignoring!\n",
      "face_normals all zero, ignoring!\n"
     ]
    },
    {
     "name": "stdout",
     "output_type": "stream",
     "text": [
      "-----Time for Screened Poisson= 8.873838186264038\n",
      "Signifiant mesh pieces of 50 size after poisson = 96\n",
      "     Starting Calcification\n",
      "-----Time for Running Calcification = 0.9807627201080322\n",
      "Before mesh subtraction number of skeleton edges = 808\n",
      "Inside mesh subtraction, len(main_mesh_bbox_restricted.faces) = 26300\n"
     ]
    },
    {
     "data": {
      "application/vnd.jupyter.widget-view+json": {
       "model_id": "f47885167c4c4407a8df77d2b96f3bc2",
       "version_major": 2,
       "version_minor": 0
      },
      "text/plain": [
       "HBox(children=(FloatProgress(value=1.0, bar_style='info', max=1.0), HTML(value='')))"
      ]
     },
     "metadata": {},
     "output_type": "display_data"
    },
    {
     "name": "stdout",
     "output_type": "stream",
     "text": [
      "\n",
      "Total Mesh subtraction time = 5.033\n"
     ]
    },
    {
     "data": {
      "application/vnd.jupyter.widget-view+json": {
       "model_id": "1f0aa48cd06d474588588b2a170c8374",
       "version_major": 2,
       "version_minor": 0
      },
      "text/plain": [
       "HBox(children=(FloatProgress(value=0.0, max=75.0), HTML(value='')))"
      ]
     },
     "metadata": {},
     "output_type": "display_data"
    },
    {
     "name": "stdout",
     "output_type": "stream",
     "text": [
      "\n",
      "After cgal process the un-stitched skeleton has shape (1357, 2, 3)\n",
      "len_subgraphs AT BEGINNING of the loop\n"
     ]
    },
    {
     "data": {
      "application/vnd.jupyter.widget-view+json": {
       "model_id": "497ec3ad7095413ebdbb35362aa0c8ab",
       "version_major": 2,
       "version_minor": 0
      },
      "text/plain": [
       "HBox(children=(FloatProgress(value=0.0, max=171.0), HTML(value='')))"
      ]
     },
     "metadata": {},
     "output_type": "display_data"
    },
    {
     "name": "stdout",
     "output_type": "stream",
     "text": [
      "all graph is one component!\n",
      "Total time for skeleton stitching = 0.13819479942321777\n",
      "\n",
      "\n",
      "Working on 104726695973782750_non_soma_1\n",
      "     Starting Screened Poisson\n",
      "IN INPUT FILE VALIDATION LOOP\n",
      "\n",
      "LEAVING LOOP, MESH VALIDATED\n",
      "Using port = 654\n",
      "xvfb-run -n 654 -s \"-screen 0 800x600x24\" meshlabserver $@  -i /notebooks/Platinum_Skeletonization_vp3/104726695973782750/104726695973782750_non_soma_1.off -o /notebooks/Platinum_Skeletonization_vp3/104726695973782750/104726695973782750_non_soma_1_poisson.off -s /notebooks/Platinum_Skeletonization_vp3/104726695973782750/poisson_987336.mls\n"
     ]
    },
    {
     "name": "stderr",
     "output_type": "stream",
     "text": [
      "face_normals all zero, ignoring!\n",
      "face_normals all zero, ignoring!\n",
      "face_normals all zero, ignoring!\n",
      "face_normals all zero, ignoring!\n",
      "face_normals all zero, ignoring!\n",
      "face_normals all zero, ignoring!\n",
      "face_normals all zero, ignoring!\n",
      "face_normals all zero, ignoring!\n",
      "face_normals all zero, ignoring!\n",
      "face_normals all zero, ignoring!\n",
      "face_normals all zero, ignoring!\n",
      "face_normals all zero, ignoring!\n",
      "face_normals all zero, ignoring!\n",
      "face_normals all zero, ignoring!\n"
     ]
    },
    {
     "name": "stdout",
     "output_type": "stream",
     "text": [
      "-----Time for Screened Poisson= 8.787090539932251\n",
      "Signifiant mesh pieces of 50 size after poisson = 37\n",
      "     Starting Calcification\n",
      "-----Time for Running Calcification = 1.1695582866668701\n",
      "Before mesh subtraction number of skeleton edges = 646\n",
      "Inside mesh subtraction, len(main_mesh_bbox_restricted.faces) = 22460\n"
     ]
    },
    {
     "data": {
      "application/vnd.jupyter.widget-view+json": {
       "model_id": "21c6f2b31e0c4525828584664503387a",
       "version_major": 2,
       "version_minor": 0
      },
      "text/plain": [
       "HBox(children=(FloatProgress(value=1.0, bar_style='info', max=1.0), HTML(value='')))"
      ]
     },
     "metadata": {},
     "output_type": "display_data"
    },
    {
     "name": "stdout",
     "output_type": "stream",
     "text": [
      "\n",
      "Total Mesh subtraction time = 3.8366\n"
     ]
    },
    {
     "data": {
      "application/vnd.jupyter.widget-view+json": {
       "model_id": "6d71068f978b452fbd38f4d051f79b17",
       "version_major": 2,
       "version_minor": 0
      },
      "text/plain": [
       "HBox(children=(FloatProgress(value=0.0, max=33.0), HTML(value='')))"
      ]
     },
     "metadata": {},
     "output_type": "display_data"
    },
    {
     "name": "stdout",
     "output_type": "stream",
     "text": [
      "\n",
      "After cgal process the un-stitched skeleton has shape (911, 2, 3)\n",
      "len_subgraphs AT BEGINNING of the loop\n"
     ]
    },
    {
     "data": {
      "application/vnd.jupyter.widget-view+json": {
       "model_id": "915159f3bbf3409ea29723cc6ef86ea7",
       "version_major": 2,
       "version_minor": 0
      },
      "text/plain": [
       "HBox(children=(FloatProgress(value=0.0, max=69.0), HTML(value='')))"
      ]
     },
     "metadata": {},
     "output_type": "display_data"
    },
    {
     "name": "stdout",
     "output_type": "stream",
     "text": [
      "all graph is one component!\n",
      "Total time for skeleton stitching = 0.08565092086791992\n",
      "\n",
      "\n",
      "Working on 104726695973782750_non_soma_2\n",
      "     Starting Screened Poisson\n",
      "IN INPUT FILE VALIDATION LOOP\n",
      "\n",
      "LEAVING LOOP, MESH VALIDATED\n",
      "Using port = 9296\n",
      "xvfb-run -n 9296 -s \"-screen 0 800x600x24\" meshlabserver $@  -i /notebooks/Platinum_Skeletonization_vp3/104726695973782750/104726695973782750_non_soma_2.off -o /notebooks/Platinum_Skeletonization_vp3/104726695973782750/104726695973782750_non_soma_2_poisson.off -s /notebooks/Platinum_Skeletonization_vp3/104726695973782750/poisson_395883.mls\n"
     ]
    },
    {
     "name": "stderr",
     "output_type": "stream",
     "text": [
      "face_normals all zero, ignoring!\n",
      "face_normals all zero, ignoring!\n",
      "face_normals all zero, ignoring!\n",
      "face_normals all zero, ignoring!\n",
      "face_normals all zero, ignoring!\n",
      "face_normals all zero, ignoring!\n",
      "face_normals all zero, ignoring!\n",
      "face_normals all zero, ignoring!\n",
      "face_normals all zero, ignoring!\n",
      "face_normals all zero, ignoring!\n",
      "face_normals all zero, ignoring!\n",
      "face_normals all zero, ignoring!\n",
      "face_normals all zero, ignoring!\n",
      "face_normals all zero, ignoring!\n",
      "face_normals all zero, ignoring!\n",
      "face_normals all zero, ignoring!\n",
      "face_normals all zero, ignoring!\n",
      "face_normals all zero, ignoring!\n"
     ]
    },
    {
     "name": "stdout",
     "output_type": "stream",
     "text": [
      "-----Time for Screened Poisson= 8.357065439224243\n",
      "Signifiant mesh pieces of 50 size after poisson = 104\n",
      "     Starting Calcification\n",
      "-----Time for Running Calcification = 0.909182071685791\n",
      "Before mesh subtraction number of skeleton edges = 364\n",
      "Inside mesh subtraction, len(main_mesh_bbox_restricted.faces) = 20642\n"
     ]
    },
    {
     "data": {
      "application/vnd.jupyter.widget-view+json": {
       "model_id": "3329b7dec1704acab8aed126aee55b1b",
       "version_major": 2,
       "version_minor": 0
      },
      "text/plain": [
       "HBox(children=(FloatProgress(value=1.0, bar_style='info', max=1.0), HTML(value='')))"
      ]
     },
     "metadata": {},
     "output_type": "display_data"
    },
    {
     "name": "stderr",
     "output_type": "stream",
     "text": [
      "No adjacent faces detected! Did you merge vertices?\n"
     ]
    },
    {
     "name": "stdout",
     "output_type": "stream",
     "text": [
      "\n",
      "Total Mesh subtraction time = 2.2938\n"
     ]
    },
    {
     "data": {
      "application/vnd.jupyter.widget-view+json": {
       "model_id": "d4908da77fd84c498690beb804959662",
       "version_major": 2,
       "version_minor": 0
      },
      "text/plain": [
       "HBox(children=(FloatProgress(value=0.0, max=78.0), HTML(value='')))"
      ]
     },
     "metadata": {},
     "output_type": "display_data"
    },
    {
     "name": "stdout",
     "output_type": "stream",
     "text": [
      "\n",
      "After cgal process the un-stitched skeleton has shape (1031, 2, 3)\n",
      "len_subgraphs AT BEGINNING of the loop\n"
     ]
    },
    {
     "data": {
      "application/vnd.jupyter.widget-view+json": {
       "model_id": "ad20c98607b64f41aa0764473888652e",
       "version_major": 2,
       "version_minor": 0
      },
      "text/plain": [
       "HBox(children=(FloatProgress(value=0.0, max=180.0), HTML(value='')))"
      ]
     },
     "metadata": {},
     "output_type": "display_data"
    },
    {
     "name": "stdout",
     "output_type": "stream",
     "text": [
      "all graph is one component!\n",
      "Total time for skeleton stitching = 0.12649917602539062\n",
      "\n",
      "\n",
      "Working on 104726695973782750_non_soma_3\n",
      "     Starting Screened Poisson\n",
      "IN INPUT FILE VALIDATION LOOP\n",
      "\n",
      "LEAVING LOOP, MESH VALIDATED\n",
      "Using port = 8636\n",
      "xvfb-run -n 8636 -s \"-screen 0 800x600x24\" meshlabserver $@  -i /notebooks/Platinum_Skeletonization_vp3/104726695973782750/104726695973782750_non_soma_3.off -o /notebooks/Platinum_Skeletonization_vp3/104726695973782750/104726695973782750_non_soma_3_poisson.off -s /notebooks/Platinum_Skeletonization_vp3/104726695973782750/poisson_787916.mls\n"
     ]
    },
    {
     "name": "stderr",
     "output_type": "stream",
     "text": [
      "face_normals all zero, ignoring!\n",
      "face_normals all zero, ignoring!\n",
      "face_normals all zero, ignoring!\n",
      "face_normals all zero, ignoring!\n",
      "face_normals all zero, ignoring!\n",
      "face_normals all zero, ignoring!\n",
      "face_normals all zero, ignoring!\n",
      "face_normals all zero, ignoring!\n",
      "face_normals all zero, ignoring!\n",
      "face_normals all zero, ignoring!\n",
      "face_normals all zero, ignoring!\n",
      "face_normals all zero, ignoring!\n",
      "face_normals all zero, ignoring!\n",
      "face_normals all zero, ignoring!\n",
      "face_normals all zero, ignoring!\n",
      "face_normals all zero, ignoring!\n",
      "face_normals all zero, ignoring!\n",
      "face_normals all zero, ignoring!\n"
     ]
    },
    {
     "name": "stdout",
     "output_type": "stream",
     "text": [
      "-----Time for Screened Poisson= 7.306517124176025\n",
      "Signifiant mesh pieces of 50 size after poisson = 72\n",
      "     Starting Calcification\n",
      "-----Time for Running Calcification = 0.5386855602264404\n",
      "Before mesh subtraction number of skeleton edges = 470\n",
      "Inside mesh subtraction, len(main_mesh_bbox_restricted.faces) = 14490\n"
     ]
    },
    {
     "data": {
      "application/vnd.jupyter.widget-view+json": {
       "model_id": "6c33034ba04641368c7ddf286399c495",
       "version_major": 2,
       "version_minor": 0
      },
      "text/plain": [
       "HBox(children=(FloatProgress(value=1.0, bar_style='info', max=1.0), HTML(value='')))"
      ]
     },
     "metadata": {},
     "output_type": "display_data"
    },
    {
     "name": "stdout",
     "output_type": "stream",
     "text": [
      "\n",
      "Total Mesh subtraction time = 3.0269\n"
     ]
    },
    {
     "data": {
      "application/vnd.jupyter.widget-view+json": {
       "model_id": "fd38ede6172e4831afac69b254437390",
       "version_major": 2,
       "version_minor": 0
      },
      "text/plain": [
       "HBox(children=(FloatProgress(value=0.0, max=46.0), HTML(value='')))"
      ]
     },
     "metadata": {},
     "output_type": "display_data"
    },
    {
     "name": "stdout",
     "output_type": "stream",
     "text": [
      "\n",
      "After cgal process the un-stitched skeleton has shape (764, 2, 3)\n",
      "len_subgraphs AT BEGINNING of the loop\n"
     ]
    },
    {
     "data": {
      "application/vnd.jupyter.widget-view+json": {
       "model_id": "33989d2280274e73a5298496fb9f9abe",
       "version_major": 2,
       "version_minor": 0
      },
      "text/plain": [
       "HBox(children=(FloatProgress(value=0.0, max=118.0), HTML(value='')))"
      ]
     },
     "metadata": {},
     "output_type": "display_data"
    },
    {
     "name": "stdout",
     "output_type": "stream",
     "text": [
      "all graph is one component!\n",
      "Total time for skeleton stitching = 0.10399079322814941\n",
      "\n",
      "\n",
      "Working on 104726695973782750_non_soma_4\n",
      "     Starting Screened Poisson\n",
      "IN INPUT FILE VALIDATION LOOP\n",
      "\n",
      "LEAVING LOOP, MESH VALIDATED\n",
      "Using port = 6429\n",
      "xvfb-run -n 6429 -s \"-screen 0 800x600x24\" meshlabserver $@  -i /notebooks/Platinum_Skeletonization_vp3/104726695973782750/104726695973782750_non_soma_4.off -o /notebooks/Platinum_Skeletonization_vp3/104726695973782750/104726695973782750_non_soma_4_poisson.off -s /notebooks/Platinum_Skeletonization_vp3/104726695973782750/poisson_895244.mls\n"
     ]
    },
    {
     "name": "stderr",
     "output_type": "stream",
     "text": [
      "face_normals all zero, ignoring!\n",
      "face_normals all zero, ignoring!\n",
      "face_normals all zero, ignoring!\n",
      "face_normals all zero, ignoring!\n",
      "face_normals all zero, ignoring!\n",
      "face_normals all zero, ignoring!\n",
      "face_normals all zero, ignoring!\n",
      "face_normals all zero, ignoring!\n"
     ]
    },
    {
     "name": "stdout",
     "output_type": "stream",
     "text": [
      "-----Time for Screened Poisson= 6.796325922012329\n",
      "Signifiant mesh pieces of 50 size after poisson = 52\n",
      "     Starting Calcification\n",
      "-----Time for Running Calcification = 0.3977234363555908\n",
      "Before mesh subtraction number of skeleton edges = 411\n",
      "Inside mesh subtraction, len(main_mesh_bbox_restricted.faces) = 13088\n"
     ]
    },
    {
     "data": {
      "application/vnd.jupyter.widget-view+json": {
       "model_id": "2b72cf298a0743e4b60e1c679870b704",
       "version_major": 2,
       "version_minor": 0
      },
      "text/plain": [
       "HBox(children=(FloatProgress(value=1.0, bar_style='info', max=1.0), HTML(value='')))"
      ]
     },
     "metadata": {},
     "output_type": "display_data"
    },
    {
     "name": "stderr",
     "output_type": "stream",
     "text": [
      "No adjacent faces detected! Did you merge vertices?\n"
     ]
    },
    {
     "name": "stdout",
     "output_type": "stream",
     "text": [
      "\n",
      "Total Mesh subtraction time = 2.3039\n"
     ]
    },
    {
     "data": {
      "application/vnd.jupyter.widget-view+json": {
       "model_id": "aca1fe02b6dc44a7ad33ca7924bb3fdd",
       "version_major": 2,
       "version_minor": 0
      },
      "text/plain": [
       "HBox(children=(FloatProgress(value=0.0, max=44.0), HTML(value='')))"
      ]
     },
     "metadata": {},
     "output_type": "display_data"
    },
    {
     "name": "stdout",
     "output_type": "stream",
     "text": [
      "\n",
      "After cgal process the un-stitched skeleton has shape (691, 2, 3)\n",
      "len_subgraphs AT BEGINNING of the loop\n"
     ]
    },
    {
     "data": {
      "application/vnd.jupyter.widget-view+json": {
       "model_id": "fcaddc8327ba48d9bf15061fc5e68a6f",
       "version_major": 2,
       "version_minor": 0
      },
      "text/plain": [
       "HBox(children=(FloatProgress(value=0.0, max=96.0), HTML(value='')))"
      ]
     },
     "metadata": {},
     "output_type": "display_data"
    },
    {
     "name": "stdout",
     "output_type": "stream",
     "text": [
      "all graph is one component!\n",
      "Total time for skeleton stitching = 0.09129738807678223\n",
      "\n",
      "\n",
      "Working on 104726695973782750_non_soma_5\n",
      "     Starting Screened Poisson\n",
      "IN INPUT FILE VALIDATION LOOP\n",
      "\n",
      "LEAVING LOOP, MESH VALIDATED\n",
      "Using port = 178\n",
      "xvfb-run -n 178 -s \"-screen 0 800x600x24\" meshlabserver $@  -i /notebooks/Platinum_Skeletonization_vp3/104726695973782750/104726695973782750_non_soma_5.off -o /notebooks/Platinum_Skeletonization_vp3/104726695973782750/104726695973782750_non_soma_5_poisson.off -s /notebooks/Platinum_Skeletonization_vp3/104726695973782750/poisson_837863.mls\n"
     ]
    },
    {
     "name": "stderr",
     "output_type": "stream",
     "text": [
      "face_normals all zero, ignoring!\n",
      "face_normals all zero, ignoring!\n",
      "face_normals all zero, ignoring!\n",
      "face_normals all zero, ignoring!\n",
      "face_normals all zero, ignoring!\n",
      "face_normals all zero, ignoring!\n",
      "face_normals all zero, ignoring!\n",
      "face_normals all zero, ignoring!\n",
      "face_normals all zero, ignoring!\n"
     ]
    },
    {
     "name": "stdout",
     "output_type": "stream",
     "text": [
      "-----Time for Screened Poisson= 7.204112529754639\n",
      "Signifiant mesh pieces of 50 size after poisson = 18\n",
      "     Starting Calcification\n",
      "-----Time for Running Calcification = 0.7986202239990234\n",
      "Before mesh subtraction number of skeleton edges = 384\n",
      "Inside mesh subtraction, len(main_mesh_bbox_restricted.faces) = 9978\n"
     ]
    },
    {
     "data": {
      "application/vnd.jupyter.widget-view+json": {
       "model_id": "c120684938d84c0cb80ddfcf6e7f1689",
       "version_major": 2,
       "version_minor": 0
      },
      "text/plain": [
       "HBox(children=(FloatProgress(value=1.0, bar_style='info', max=1.0), HTML(value='')))"
      ]
     },
     "metadata": {},
     "output_type": "display_data"
    },
    {
     "name": "stdout",
     "output_type": "stream",
     "text": [
      "\n",
      "Total Mesh subtraction time = 2.0969\n"
     ]
    },
    {
     "data": {
      "application/vnd.jupyter.widget-view+json": {
       "model_id": "6b4356fa664a450591b006dd28b5d15b",
       "version_major": 2,
       "version_minor": 0
      },
      "text/plain": [
       "HBox(children=(FloatProgress(value=0.0, max=10.0), HTML(value='')))"
      ]
     },
     "metadata": {},
     "output_type": "display_data"
    },
    {
     "name": "stdout",
     "output_type": "stream",
     "text": [
      "\n",
      "After cgal process the un-stitched skeleton has shape (433, 2, 3)\n",
      "len_subgraphs AT BEGINNING of the loop\n"
     ]
    },
    {
     "data": {
      "application/vnd.jupyter.widget-view+json": {
       "model_id": "7afd9ee1098c4a68882b34e9c760d269",
       "version_major": 2,
       "version_minor": 0
      },
      "text/plain": [
       "HBox(children=(FloatProgress(value=0.0, max=28.0), HTML(value='')))"
      ]
     },
     "metadata": {},
     "output_type": "display_data"
    },
    {
     "name": "stdout",
     "output_type": "stream",
     "text": [
      "all graph is one component!\n",
      "Total time for skeleton stitching = 0.06177067756652832\n",
      "\n",
      "\n",
      "Working on 104726695973782750_non_soma_6\n",
      "     Starting Screened Poisson\n",
      "IN INPUT FILE VALIDATION LOOP\n",
      "\n",
      "LEAVING LOOP, MESH VALIDATED\n",
      "Using port = 2624\n",
      "xvfb-run -n 2624 -s \"-screen 0 800x600x24\" meshlabserver $@  -i /notebooks/Platinum_Skeletonization_vp3/104726695973782750/104726695973782750_non_soma_6.off -o /notebooks/Platinum_Skeletonization_vp3/104726695973782750/104726695973782750_non_soma_6_poisson.off -s /notebooks/Platinum_Skeletonization_vp3/104726695973782750/poisson_704841.mls\n"
     ]
    },
    {
     "name": "stderr",
     "output_type": "stream",
     "text": [
      "face_normals all zero, ignoring!\n",
      "face_normals all zero, ignoring!\n",
      "face_normals all zero, ignoring!\n",
      "face_normals all zero, ignoring!\n",
      "face_normals all zero, ignoring!\n",
      "face_normals all zero, ignoring!\n",
      "face_normals all zero, ignoring!\n",
      "face_normals all zero, ignoring!\n",
      "face_normals all zero, ignoring!\n",
      "face_normals all zero, ignoring!\n",
      "face_normals all zero, ignoring!\n"
     ]
    },
    {
     "name": "stdout",
     "output_type": "stream",
     "text": [
      "-----Time for Screened Poisson= 6.389051914215088\n",
      "Signifiant mesh pieces of 50 size after poisson = 5\n",
      "     Starting Calcification\n",
      "-----Time for Running Calcification = 0.5569572448730469\n",
      "Before mesh subtraction number of skeleton edges = 267\n",
      "Inside mesh subtraction, len(main_mesh_bbox_restricted.faces) = 8352\n"
     ]
    },
    {
     "data": {
      "application/vnd.jupyter.widget-view+json": {
       "model_id": "449406b7259549a783be835e5af01633",
       "version_major": 2,
       "version_minor": 0
      },
      "text/plain": [
       "HBox(children=(FloatProgress(value=1.0, bar_style='info', max=1.0), HTML(value='')))"
      ]
     },
     "metadata": {},
     "output_type": "display_data"
    },
    {
     "name": "stdout",
     "output_type": "stream",
     "text": [
      "\n",
      "Total Mesh subtraction time = 1.4037\n"
     ]
    },
    {
     "data": {
      "application/vnd.jupyter.widget-view+json": {
       "model_id": "4fc44a683c594da79f431fac1eeccc54",
       "version_major": 2,
       "version_minor": 0
      },
      "text/plain": [
       "HBox(children=(FloatProgress(value=0.0, max=3.0), HTML(value='')))"
      ]
     },
     "metadata": {},
     "output_type": "display_data"
    },
    {
     "name": "stdout",
     "output_type": "stream",
     "text": [
      "\n",
      "After cgal process the un-stitched skeleton has shape (283, 2, 3)\n",
      "len_subgraphs AT BEGINNING of the loop\n"
     ]
    },
    {
     "data": {
      "application/vnd.jupyter.widget-view+json": {
       "model_id": "2c143f2aff78471f895c58ba98e8d0f0",
       "version_major": 2,
       "version_minor": 0
      },
      "text/plain": [
       "HBox(children=(FloatProgress(value=0.0, max=8.0), HTML(value='')))"
      ]
     },
     "metadata": {},
     "output_type": "display_data"
    },
    {
     "name": "stdout",
     "output_type": "stream",
     "text": [
      "all graph is one component!\n",
      "Total time for skeleton stitching = 0.05444478988647461\n",
      "\n",
      "\n",
      "Working on 104726695973782750_non_soma_7\n",
      "     Starting Screened Poisson\n",
      "IN INPUT FILE VALIDATION LOOP\n",
      "\n",
      "LEAVING LOOP, MESH VALIDATED\n",
      "Using port = 1200\n",
      "xvfb-run -n 1200 -s \"-screen 0 800x600x24\" meshlabserver $@  -i /notebooks/Platinum_Skeletonization_vp3/104726695973782750/104726695973782750_non_soma_7.off -o /notebooks/Platinum_Skeletonization_vp3/104726695973782750/104726695973782750_non_soma_7_poisson.off -s /notebooks/Platinum_Skeletonization_vp3/104726695973782750/poisson_286751.mls\n"
     ]
    },
    {
     "name": "stderr",
     "output_type": "stream",
     "text": [
      "face_normals all zero, ignoring!\n",
      "face_normals all zero, ignoring!\n",
      "face_normals all zero, ignoring!\n"
     ]
    },
    {
     "name": "stdout",
     "output_type": "stream",
     "text": [
      "-----Time for Screened Poisson= 6.248538017272949\n",
      "Signifiant mesh pieces of 50 size after poisson = 35\n",
      "     Starting Calcification\n",
      "-----Time for Running Calcification = 0.29930663108825684\n",
      "Before mesh subtraction number of skeleton edges = 253\n",
      "Inside mesh subtraction, len(main_mesh_bbox_restricted.faces) = 7600\n"
     ]
    },
    {
     "data": {
      "application/vnd.jupyter.widget-view+json": {
       "model_id": "cffbaeb872174e52b2bc481e75fc5783",
       "version_major": 2,
       "version_minor": 0
      },
      "text/plain": [
       "HBox(children=(FloatProgress(value=1.0, bar_style='info', max=1.0), HTML(value='')))"
      ]
     },
     "metadata": {},
     "output_type": "display_data"
    },
    {
     "name": "stdout",
     "output_type": "stream",
     "text": [
      "\n",
      "Total Mesh subtraction time = 1.4095\n"
     ]
    },
    {
     "data": {
      "application/vnd.jupyter.widget-view+json": {
       "model_id": "adb54725250946efbb3c7711f1b233f9",
       "version_major": 2,
       "version_minor": 0
      },
      "text/plain": [
       "HBox(children=(FloatProgress(value=0.0, max=22.0), HTML(value='')))"
      ]
     },
     "metadata": {},
     "output_type": "display_data"
    },
    {
     "name": "stdout",
     "output_type": "stream",
     "text": [
      "\n",
      "After cgal process the un-stitched skeleton has shape (392, 2, 3)\n",
      "len_subgraphs AT BEGINNING of the loop\n"
     ]
    },
    {
     "data": {
      "application/vnd.jupyter.widget-view+json": {
       "model_id": "8f31f073f68a4ef1830ea1d8517bc31f",
       "version_major": 2,
       "version_minor": 0
      },
      "text/plain": [
       "HBox(children=(FloatProgress(value=0.0, max=56.0), HTML(value='')))"
      ]
     },
     "metadata": {},
     "output_type": "display_data"
    },
    {
     "name": "stdout",
     "output_type": "stream",
     "text": [
      "all graph is one component!\n",
      "Total time for skeleton stitching = 0.06665921211242676\n",
      "\n",
      "\n",
      "Working on 104726695973782750_non_soma_8\n",
      "     Starting Screened Poisson\n",
      "IN INPUT FILE VALIDATION LOOP\n",
      "\n",
      "LEAVING LOOP, MESH VALIDATED\n",
      "Using port = 4895\n",
      "xvfb-run -n 4895 -s \"-screen 0 800x600x24\" meshlabserver $@  -i /notebooks/Platinum_Skeletonization_vp3/104726695973782750/104726695973782750_non_soma_8.off -o /notebooks/Platinum_Skeletonization_vp3/104726695973782750/104726695973782750_non_soma_8_poisson.off -s /notebooks/Platinum_Skeletonization_vp3/104726695973782750/poisson_263951.mls\n"
     ]
    },
    {
     "name": "stderr",
     "output_type": "stream",
     "text": [
      "face_normals all zero, ignoring!\n",
      "face_normals all zero, ignoring!\n",
      "face_normals all zero, ignoring!\n",
      "face_normals all zero, ignoring!\n"
     ]
    },
    {
     "name": "stdout",
     "output_type": "stream",
     "text": [
      "-----Time for Screened Poisson= 6.0183680057525635\n",
      "Signifiant mesh pieces of 50 size after poisson = 33\n",
      "     Starting Calcification\n",
      "-----Time for Running Calcification = 0.28655242919921875\n",
      "Before mesh subtraction number of skeleton edges = 220\n",
      "Inside mesh subtraction, len(main_mesh_bbox_restricted.faces) = 7346\n"
     ]
    },
    {
     "data": {
      "application/vnd.jupyter.widget-view+json": {
       "model_id": "6929610cc794463bb5a4c782de9dc1b8",
       "version_major": 2,
       "version_minor": 0
      },
      "text/plain": [
       "HBox(children=(FloatProgress(value=1.0, bar_style='info', max=1.0), HTML(value='')))"
      ]
     },
     "metadata": {},
     "output_type": "display_data"
    },
    {
     "name": "stdout",
     "output_type": "stream",
     "text": [
      "\n",
      "Total Mesh subtraction time = 1.384\n"
     ]
    },
    {
     "data": {
      "application/vnd.jupyter.widget-view+json": {
       "model_id": "0c9591635e4140da9791e17d09d65a42",
       "version_major": 2,
       "version_minor": 0
      },
      "text/plain": [
       "HBox(children=(FloatProgress(value=0.0, max=22.0), HTML(value='')))"
      ]
     },
     "metadata": {},
     "output_type": "display_data"
    },
    {
     "name": "stdout",
     "output_type": "stream",
     "text": [
      "\n",
      "After cgal process the un-stitched skeleton has shape (359, 2, 3)\n",
      "len_subgraphs AT BEGINNING of the loop\n"
     ]
    },
    {
     "data": {
      "application/vnd.jupyter.widget-view+json": {
       "model_id": "dc01cdd5d15643e5bfa2f8ccc9d1db18",
       "version_major": 2,
       "version_minor": 0
      },
      "text/plain": [
       "HBox(children=(FloatProgress(value=0.0, max=55.0), HTML(value='')))"
      ]
     },
     "metadata": {},
     "output_type": "display_data"
    },
    {
     "name": "stdout",
     "output_type": "stream",
     "text": [
      "all graph is one component!\n",
      "Total time for skeleton stitching = 0.060706377029418945\n",
      "\n",
      "\n",
      "Working on 104726695973782750_non_soma_9\n",
      "     Starting Screened Poisson\n",
      "IN INPUT FILE VALIDATION LOOP\n",
      "\n",
      "LEAVING LOOP, MESH VALIDATED\n",
      "Using port = 6119\n",
      "xvfb-run -n 6119 -s \"-screen 0 800x600x24\" meshlabserver $@  -i /notebooks/Platinum_Skeletonization_vp3/104726695973782750/104726695973782750_non_soma_9.off -o /notebooks/Platinum_Skeletonization_vp3/104726695973782750/104726695973782750_non_soma_9_poisson.off -s /notebooks/Platinum_Skeletonization_vp3/104726695973782750/poisson_901713.mls\n"
     ]
    },
    {
     "name": "stderr",
     "output_type": "stream",
     "text": [
      "face_normals all zero, ignoring!\n",
      "face_normals all zero, ignoring!\n",
      "face_normals all zero, ignoring!\n",
      "face_normals all zero, ignoring!\n",
      "face_normals all zero, ignoring!\n",
      "face_normals all zero, ignoring!\n",
      "face_normals all zero, ignoring!\n",
      "face_normals all zero, ignoring!\n"
     ]
    },
    {
     "name": "stdout",
     "output_type": "stream",
     "text": [
      "-----Time for Screened Poisson= 5.886289834976196\n",
      "Signifiant mesh pieces of 50 size after poisson = 25\n",
      "     Starting Calcification\n",
      "-----Time for Running Calcification = 0.24613189697265625\n",
      "Before mesh subtraction number of skeleton edges = 196\n",
      "Inside mesh subtraction, len(main_mesh_bbox_restricted.faces) = 6182\n"
     ]
    },
    {
     "data": {
      "application/vnd.jupyter.widget-view+json": {
       "model_id": "e55b4ce8b2874aa6b1947cb6847644d4",
       "version_major": 2,
       "version_minor": 0
      },
      "text/plain": [
       "HBox(children=(FloatProgress(value=1.0, bar_style='info', max=1.0), HTML(value='')))"
      ]
     },
     "metadata": {},
     "output_type": "display_data"
    },
    {
     "name": "stdout",
     "output_type": "stream",
     "text": [
      "\n",
      "Total Mesh subtraction time = 1.0676\n"
     ]
    },
    {
     "data": {
      "application/vnd.jupyter.widget-view+json": {
       "model_id": "037a455d317546b19ccc265c56ff1145",
       "version_major": 2,
       "version_minor": 0
      },
      "text/plain": [
       "HBox(children=(FloatProgress(value=0.0, max=20.0), HTML(value='')))"
      ]
     },
     "metadata": {},
     "output_type": "display_data"
    },
    {
     "name": "stdout",
     "output_type": "stream",
     "text": [
      "\n",
      "After cgal process the un-stitched skeleton has shape (321, 2, 3)\n",
      "len_subgraphs AT BEGINNING of the loop\n"
     ]
    },
    {
     "data": {
      "application/vnd.jupyter.widget-view+json": {
       "model_id": "6a60d69499a5435dbc2e42e36cd63e73",
       "version_major": 2,
       "version_minor": 0
      },
      "text/plain": [
       "HBox(children=(FloatProgress(value=0.0, max=45.0), HTML(value='')))"
      ]
     },
     "metadata": {},
     "output_type": "display_data"
    },
    {
     "name": "stdout",
     "output_type": "stream",
     "text": [
      "all graph is one component!\n",
      "Total time for skeleton stitching = 0.0633094310760498\n",
      "\n",
      "\n",
      "Working on 104726695973782750_non_soma_10\n",
      "     Starting Screened Poisson\n",
      "IN INPUT FILE VALIDATION LOOP\n",
      "\n",
      "LEAVING LOOP, MESH VALIDATED\n",
      "Using port = 3585\n",
      "xvfb-run -n 3585 -s \"-screen 0 800x600x24\" meshlabserver $@  -i /notebooks/Platinum_Skeletonization_vp3/104726695973782750/104726695973782750_non_soma_10.off -o /notebooks/Platinum_Skeletonization_vp3/104726695973782750/104726695973782750_non_soma_10_poisson.off -s /notebooks/Platinum_Skeletonization_vp3/104726695973782750/poisson_895799.mls\n"
     ]
    },
    {
     "name": "stderr",
     "output_type": "stream",
     "text": [
      "face_normals all zero, ignoring!\n",
      "face_normals all zero, ignoring!\n",
      "face_normals all zero, ignoring!\n",
      "face_normals all zero, ignoring!\n"
     ]
    },
    {
     "name": "stdout",
     "output_type": "stream",
     "text": [
      "-----Time for Screened Poisson= 5.8966968059539795\n",
      "Signifiant mesh pieces of 50 size after poisson = 4\n",
      "     Starting Calcification\n",
      "-----Time for Running Calcification = 0.3372988700866699\n",
      "Before mesh subtraction number of skeleton edges = 193\n",
      "Inside mesh subtraction, len(main_mesh_bbox_restricted.faces) = 5560\n"
     ]
    },
    {
     "data": {
      "application/vnd.jupyter.widget-view+json": {
       "model_id": "9c1283c5e2654e7abc9279c7316a0735",
       "version_major": 2,
       "version_minor": 0
      },
      "text/plain": [
       "HBox(children=(FloatProgress(value=1.0, bar_style='info', max=1.0), HTML(value='')))"
      ]
     },
     "metadata": {},
     "output_type": "display_data"
    },
    {
     "name": "stdout",
     "output_type": "stream",
     "text": [
      "\n",
      "Total Mesh subtraction time = 1.0083\n"
     ]
    },
    {
     "data": {
      "application/vnd.jupyter.widget-view+json": {
       "model_id": "aa08df2eafba48799def19a5fe506f1a",
       "version_major": 2,
       "version_minor": 0
      },
      "text/plain": [
       "HBox(children=(FloatProgress(value=0.0, max=3.0), HTML(value='')))"
      ]
     },
     "metadata": {},
     "output_type": "display_data"
    },
    {
     "name": "stdout",
     "output_type": "stream",
     "text": [
      "\n",
      "After cgal process the un-stitched skeleton has shape (203, 2, 3)\n",
      "len_subgraphs AT BEGINNING of the loop\n"
     ]
    },
    {
     "data": {
      "application/vnd.jupyter.widget-view+json": {
       "model_id": "4a90e34d31984731a4697fe3630baf07",
       "version_major": 2,
       "version_minor": 0
      },
      "text/plain": [
       "HBox(children=(FloatProgress(value=0.0, max=7.0), HTML(value='')))"
      ]
     },
     "metadata": {},
     "output_type": "display_data"
    },
    {
     "name": "stdout",
     "output_type": "stream",
     "text": [
      "all graph is one component!\n",
      "Total time for skeleton stitching = 0.045258522033691406\n",
      "\n",
      "\n",
      "Working on 104726695973782750_non_soma_11\n",
      "     Starting Screened Poisson\n",
      "IN INPUT FILE VALIDATION LOOP\n",
      "\n",
      "LEAVING LOOP, MESH VALIDATED\n",
      "Using port = 2983\n",
      "xvfb-run -n 2983 -s \"-screen 0 800x600x24\" meshlabserver $@  -i /notebooks/Platinum_Skeletonization_vp3/104726695973782750/104726695973782750_non_soma_11.off -o /notebooks/Platinum_Skeletonization_vp3/104726695973782750/104726695973782750_non_soma_11_poisson.off -s /notebooks/Platinum_Skeletonization_vp3/104726695973782750/poisson_365351.mls\n"
     ]
    },
    {
     "name": "stderr",
     "output_type": "stream",
     "text": [
      "face_normals all zero, ignoring!\n",
      "face_normals all zero, ignoring!\n",
      "face_normals all zero, ignoring!\n",
      "face_normals all zero, ignoring!\n",
      "face_normals all zero, ignoring!\n",
      "face_normals all zero, ignoring!\n"
     ]
    },
    {
     "name": "stdout",
     "output_type": "stream",
     "text": [
      "-----Time for Screened Poisson= 6.124651670455933\n",
      "Signifiant mesh pieces of 50 size after poisson = 33\n",
      "     Starting Calcification\n",
      "-----Time for Running Calcification = 0.34474778175354004\n",
      "Before mesh subtraction number of skeleton edges = 181\n",
      "Inside mesh subtraction, len(main_mesh_bbox_restricted.faces) = 5422\n"
     ]
    },
    {
     "data": {
      "application/vnd.jupyter.widget-view+json": {
       "model_id": "028caeb05e4b4e82961ca14a43cc425a",
       "version_major": 2,
       "version_minor": 0
      },
      "text/plain": [
       "HBox(children=(FloatProgress(value=1.0, bar_style='info', max=1.0), HTML(value='')))"
      ]
     },
     "metadata": {},
     "output_type": "display_data"
    },
    {
     "name": "stdout",
     "output_type": "stream",
     "text": [
      "\n",
      "Total Mesh subtraction time = 1.0738\n"
     ]
    },
    {
     "data": {
      "application/vnd.jupyter.widget-view+json": {
       "model_id": "3b0353b1db654bf384958dedbfa2a661",
       "version_major": 2,
       "version_minor": 0
      },
      "text/plain": [
       "HBox(children=(FloatProgress(value=0.0, max=17.0), HTML(value='')))"
      ]
     },
     "metadata": {},
     "output_type": "display_data"
    },
    {
     "name": "stdout",
     "output_type": "stream",
     "text": [
      "\n",
      "After cgal process the un-stitched skeleton has shape (298, 2, 3)\n",
      "len_subgraphs AT BEGINNING of the loop\n"
     ]
    },
    {
     "data": {
      "application/vnd.jupyter.widget-view+json": {
       "model_id": "9d83e50585094fdd947b7ec39d92ee3e",
       "version_major": 2,
       "version_minor": 0
      },
      "text/plain": [
       "HBox(children=(FloatProgress(value=0.0, max=50.0), HTML(value='')))"
      ]
     },
     "metadata": {},
     "output_type": "display_data"
    },
    {
     "name": "stdout",
     "output_type": "stream",
     "text": [
      "all graph is one component!\n",
      "Total time for skeleton stitching = 0.07174825668334961\n",
      "\n",
      "\n",
      "Working on 104726695973782750_non_soma_12\n",
      "     Starting Screened Poisson\n",
      "IN INPUT FILE VALIDATION LOOP\n",
      "\n",
      "LEAVING LOOP, MESH VALIDATED\n",
      "Using port = 5796\n",
      "xvfb-run -n 5796 -s \"-screen 0 800x600x24\" meshlabserver $@  -i /notebooks/Platinum_Skeletonization_vp3/104726695973782750/104726695973782750_non_soma_12.off -o /notebooks/Platinum_Skeletonization_vp3/104726695973782750/104726695973782750_non_soma_12_poisson.off -s /notebooks/Platinum_Skeletonization_vp3/104726695973782750/poisson_897294.mls\n"
     ]
    },
    {
     "name": "stderr",
     "output_type": "stream",
     "text": [
      "face_normals all zero, ignoring!\n",
      "face_normals all zero, ignoring!\n",
      "face_normals all zero, ignoring!\n",
      "face_normals all zero, ignoring!\n",
      "face_normals all zero, ignoring!\n",
      "face_normals all zero, ignoring!\n",
      "face_normals all zero, ignoring!\n",
      "face_normals all zero, ignoring!\n",
      "face_normals all zero, ignoring!\n",
      "face_normals all zero, ignoring!\n",
      "face_normals all zero, ignoring!\n",
      "face_normals all zero, ignoring!\n",
      "face_normals all zero, ignoring!\n",
      "face_normals all zero, ignoring!\n",
      "face_normals all zero, ignoring!\n",
      "face_normals all zero, ignoring!\n",
      "face_normals all zero, ignoring!\n",
      "face_normals all zero, ignoring!\n"
     ]
    },
    {
     "name": "stdout",
     "output_type": "stream",
     "text": [
      "-----Time for Screened Poisson= 5.8994951248168945\n",
      "Signifiant mesh pieces of 50 size after poisson = 2\n",
      "     Starting Calcification\n",
      "-----Time for Running Calcification = 0.3377671241760254\n",
      "Before mesh subtraction number of skeleton edges = 158\n",
      "Inside mesh subtraction, len(main_mesh_bbox_restricted.faces) = 4434\n"
     ]
    },
    {
     "data": {
      "application/vnd.jupyter.widget-view+json": {
       "model_id": "fd50c9cffb834a7fa407c923ad8634dc",
       "version_major": 2,
       "version_minor": 0
      },
      "text/plain": [
       "HBox(children=(FloatProgress(value=1.0, bar_style='info', max=1.0), HTML(value='')))"
      ]
     },
     "metadata": {},
     "output_type": "display_data"
    },
    {
     "name": "stdout",
     "output_type": "stream",
     "text": [
      "\n",
      "Total Mesh subtraction time = 0.8401\n"
     ]
    },
    {
     "data": {
      "application/vnd.jupyter.widget-view+json": {
       "model_id": "783da9b0cb9b4eb6b06fdf83c38705c7",
       "version_major": 2,
       "version_minor": 0
      },
      "text/plain": [
       "HBox(children=(FloatProgress(value=0.0, max=1.0), HTML(value='')))"
      ]
     },
     "metadata": {},
     "output_type": "display_data"
    },
    {
     "name": "stdout",
     "output_type": "stream",
     "text": [
      "\n",
      "only one skeleton so no stacking needed\n",
      "After cgal process the un-stitched skeleton has shape (160, 2, 3)\n",
      "len_subgraphs AT BEGINNING of the loop\n"
     ]
    },
    {
     "data": {
      "application/vnd.jupyter.widget-view+json": {
       "model_id": "0235a53750404a9ba9bdbf7b0f113b2c",
       "version_major": 2,
       "version_minor": 0
      },
      "text/plain": [
       "HBox(children=(FloatProgress(value=0.0, max=3.0), HTML(value='')))"
      ]
     },
     "metadata": {},
     "output_type": "display_data"
    },
    {
     "name": "stdout",
     "output_type": "stream",
     "text": [
      "all graph is one component!\n",
      "Total time for skeleton stitching = 0.031059741973876953\n",
      "\n",
      "\n",
      "Working on 104726695973782750_non_soma_13\n",
      "     Starting Screened Poisson\n",
      "IN INPUT FILE VALIDATION LOOP\n",
      "\n",
      "LEAVING LOOP, MESH VALIDATED\n",
      "Using port = 5528\n",
      "xvfb-run -n 5528 -s \"-screen 0 800x600x24\" meshlabserver $@  -i /notebooks/Platinum_Skeletonization_vp3/104726695973782750/104726695973782750_non_soma_13.off -o /notebooks/Platinum_Skeletonization_vp3/104726695973782750/104726695973782750_non_soma_13_poisson.off -s /notebooks/Platinum_Skeletonization_vp3/104726695973782750/poisson_461285.mls\n"
     ]
    },
    {
     "name": "stderr",
     "output_type": "stream",
     "text": [
      "face_normals all zero, ignoring!\n"
     ]
    },
    {
     "name": "stdout",
     "output_type": "stream",
     "text": [
      "-----Time for Screened Poisson= 5.424285888671875\n",
      "Signifiant mesh pieces of 50 size after poisson = 2\n",
      "     Starting Calcification\n",
      "-----Time for Running Calcification = 0.21644306182861328\n",
      "Before mesh subtraction number of skeleton edges = 106\n",
      "Inside mesh subtraction, len(main_mesh_bbox_restricted.faces) = 3900\n"
     ]
    },
    {
     "data": {
      "application/vnd.jupyter.widget-view+json": {
       "model_id": "be1860b2619645729c416e43acdd3796",
       "version_major": 2,
       "version_minor": 0
      },
      "text/plain": [
       "HBox(children=(FloatProgress(value=1.0, bar_style='info', max=1.0), HTML(value='')))"
      ]
     },
     "metadata": {},
     "output_type": "display_data"
    },
    {
     "name": "stdout",
     "output_type": "stream",
     "text": [
      "\n",
      "Total Mesh subtraction time = 0.5553\n"
     ]
    },
    {
     "data": {
      "application/vnd.jupyter.widget-view+json": {
       "model_id": "f0b8b018621144e59547e82ab0412bc9",
       "version_major": 2,
       "version_minor": 0
      },
      "text/plain": [
       "HBox(children=(FloatProgress(value=0.0, max=2.0), HTML(value='')))"
      ]
     },
     "metadata": {},
     "output_type": "display_data"
    },
    {
     "name": "stdout",
     "output_type": "stream",
     "text": [
      "\n",
      "After cgal process the un-stitched skeleton has shape (114, 2, 3)\n",
      "len_subgraphs AT BEGINNING of the loop\n"
     ]
    },
    {
     "data": {
      "application/vnd.jupyter.widget-view+json": {
       "model_id": "03607af3879347f1ba0b67bcc28646b5",
       "version_major": 2,
       "version_minor": 0
      },
      "text/plain": [
       "HBox(children=(FloatProgress(value=0.0, max=4.0), HTML(value='')))"
      ]
     },
     "metadata": {},
     "output_type": "display_data"
    },
    {
     "name": "stdout",
     "output_type": "stream",
     "text": [
      "all graph is one component!\n",
      "Total time for skeleton stitching = 0.03478217124938965\n",
      "\n",
      "\n",
      "Working on 104726695973782750_non_soma_14\n",
      "     Starting Screened Poisson\n",
      "IN INPUT FILE VALIDATION LOOP\n",
      "\n",
      "LEAVING LOOP, MESH VALIDATED\n",
      "Using port = 7482\n",
      "xvfb-run -n 7482 -s \"-screen 0 800x600x24\" meshlabserver $@  -i /notebooks/Platinum_Skeletonization_vp3/104726695973782750/104726695973782750_non_soma_14.off -o /notebooks/Platinum_Skeletonization_vp3/104726695973782750/104726695973782750_non_soma_14_poisson.off -s /notebooks/Platinum_Skeletonization_vp3/104726695973782750/poisson_259945.mls\n"
     ]
    },
    {
     "name": "stderr",
     "output_type": "stream",
     "text": [
      "face_normals all zero, ignoring!\n"
     ]
    },
    {
     "name": "stdout",
     "output_type": "stream",
     "text": [
      "-----Time for Screened Poisson= 5.4894936084747314\n",
      "Signifiant mesh pieces of 50 size after poisson = 2\n",
      "     Starting Calcification\n",
      "-----Time for Running Calcification = 0.20124316215515137\n",
      "Before mesh subtraction number of skeleton edges = 96\n",
      "Inside mesh subtraction, len(main_mesh_bbox_restricted.faces) = 2704\n"
     ]
    },
    {
     "data": {
      "application/vnd.jupyter.widget-view+json": {
       "model_id": "1151544075a84625a1ec0092361ff722",
       "version_major": 2,
       "version_minor": 0
      },
      "text/plain": [
       "HBox(children=(FloatProgress(value=1.0, bar_style='info', max=1.0), HTML(value='')))"
      ]
     },
     "metadata": {},
     "output_type": "display_data"
    },
    {
     "name": "stdout",
     "output_type": "stream",
     "text": [
      "\n",
      "Total Mesh subtraction time = 0.5094\n"
     ]
    },
    {
     "data": {
      "application/vnd.jupyter.widget-view+json": {
       "model_id": "46795d5016904206a66103b9e24de765",
       "version_major": 2,
       "version_minor": 0
      },
      "text/plain": [
       "HBox(children=(FloatProgress(value=0.0, max=2.0), HTML(value='')))"
      ]
     },
     "metadata": {},
     "output_type": "display_data"
    },
    {
     "name": "stdout",
     "output_type": "stream",
     "text": [
      "\n",
      "After cgal process the un-stitched skeleton has shape (104, 2, 3)\n",
      "len_subgraphs AT BEGINNING of the loop\n"
     ]
    },
    {
     "data": {
      "application/vnd.jupyter.widget-view+json": {
       "model_id": "34ec3fcb8c1447f4abe1678f9f6fbd55",
       "version_major": 2,
       "version_minor": 0
      },
      "text/plain": [
       "HBox(children=(FloatProgress(value=0.0, max=4.0), HTML(value='')))"
      ]
     },
     "metadata": {},
     "output_type": "display_data"
    },
    {
     "name": "stdout",
     "output_type": "stream",
     "text": [
      "all graph is one component!\n",
      "Total time for skeleton stitching = 0.03456592559814453\n",
      "\n",
      "\n",
      "Working on 104726695973782750_non_soma_15\n",
      "     Starting Screened Poisson\n",
      "IN INPUT FILE VALIDATION LOOP\n",
      "\n",
      "LEAVING LOOP, MESH VALIDATED\n",
      "Using port = 6100\n",
      "xvfb-run -n 6100 -s \"-screen 0 800x600x24\" meshlabserver $@  -i /notebooks/Platinum_Skeletonization_vp3/104726695973782750/104726695973782750_non_soma_15.off -o /notebooks/Platinum_Skeletonization_vp3/104726695973782750/104726695973782750_non_soma_15_poisson.off -s /notebooks/Platinum_Skeletonization_vp3/104726695973782750/poisson_604109.mls\n"
     ]
    },
    {
     "name": "stderr",
     "output_type": "stream",
     "text": [
      "face_normals all zero, ignoring!\n",
      "face_normals all zero, ignoring!\n",
      "face_normals all zero, ignoring!\n",
      "face_normals all zero, ignoring!\n"
     ]
    },
    {
     "name": "stdout",
     "output_type": "stream",
     "text": [
      "-----Time for Screened Poisson= 5.1812663078308105\n",
      "Signifiant mesh pieces of 50 size after poisson = 1\n",
      "     Starting Calcification\n",
      "-----Time for Running Calcification = 0.10865116119384766\n",
      "only one skeleton so no stacking needed\n",
      "Before mesh subtraction number of skeleton edges = 74\n",
      "Inside mesh subtraction, len(main_mesh_bbox_restricted.faces) = 1950\n"
     ]
    },
    {
     "data": {
      "application/vnd.jupyter.widget-view+json": {
       "model_id": "403ef6435b534e6e94c6116c93a3f7e4",
       "version_major": 2,
       "version_minor": 0
      },
      "text/plain": [
       "HBox(children=(FloatProgress(value=1.0, bar_style='info', max=1.0), HTML(value='')))"
      ]
     },
     "metadata": {},
     "output_type": "display_data"
    },
    {
     "name": "stdout",
     "output_type": "stream",
     "text": [
      "\n",
      "Total Mesh subtraction time = 0.3962\n"
     ]
    },
    {
     "data": {
      "application/vnd.jupyter.widget-view+json": {
       "model_id": "6b0a2d4f1bc64627bfd5c6c0f6f5b5d9",
       "version_major": 2,
       "version_minor": 0
      },
      "text/plain": [
       "HBox(children=(FloatProgress(value=1.0, bar_style='info', max=1.0), HTML(value='')))"
      ]
     },
     "metadata": {},
     "output_type": "display_data"
    },
    {
     "name": "stdout",
     "output_type": "stream",
     "text": [
      "\n",
      "No skeletons to stack so returning empty list\n",
      "only one skeleton so no stacking needed\n",
      "After cgal process the un-stitched skeleton has shape (73, 2, 3)\n",
      "len_subgraphs AT BEGINNING of the loop\n"
     ]
    },
    {
     "data": {
      "application/vnd.jupyter.widget-view+json": {
       "model_id": "583a7eb9612f49adb87de3331419495b",
       "version_major": 2,
       "version_minor": 0
      },
      "text/plain": [
       "HBox(children=(FloatProgress(value=0.0, max=1.0), HTML(value='')))"
      ]
     },
     "metadata": {},
     "output_type": "display_data"
    },
    {
     "name": "stdout",
     "output_type": "stream",
     "text": [
      "all graph is one component!\n",
      "Total time for skeleton stitching = 0.022736310958862305\n",
      "\n",
      "\n",
      "Working on 104726695973782750_non_soma_16\n",
      "     Starting Screened Poisson\n",
      "IN INPUT FILE VALIDATION LOOP\n",
      "\n",
      "LEAVING LOOP, MESH VALIDATED\n",
      "Using port = 3984\n",
      "xvfb-run -n 3984 -s \"-screen 0 800x600x24\" meshlabserver $@  -i /notebooks/Platinum_Skeletonization_vp3/104726695973782750/104726695973782750_non_soma_16.off -o /notebooks/Platinum_Skeletonization_vp3/104726695973782750/104726695973782750_non_soma_16_poisson.off -s /notebooks/Platinum_Skeletonization_vp3/104726695973782750/poisson_536901.mls\n",
      "-----Time for Screened Poisson= 5.2080628871917725\n",
      "Signifiant mesh pieces of 50 size after poisson = 11\n",
      "     Starting Calcification\n",
      "-----Time for Running Calcification = 0.056118011474609375\n",
      "Before mesh subtraction number of skeleton edges = 40\n",
      "Inside mesh subtraction, len(main_mesh_bbox_restricted.faces) = 1740\n"
     ]
    },
    {
     "data": {
      "application/vnd.jupyter.widget-view+json": {
       "model_id": "d25355dbc4c0402e8007582e1bb397b2",
       "version_major": 2,
       "version_minor": 0
      },
      "text/plain": [
       "HBox(children=(FloatProgress(value=1.0, bar_style='info', max=1.0), HTML(value='')))"
      ]
     },
     "metadata": {},
     "output_type": "display_data"
    },
    {
     "name": "stdout",
     "output_type": "stream",
     "text": [
      "\n",
      "Total Mesh subtraction time = 0.2491\n"
     ]
    },
    {
     "data": {
      "application/vnd.jupyter.widget-view+json": {
       "model_id": "9434e46ad8a548278554331149187be3",
       "version_major": 2,
       "version_minor": 0
      },
      "text/plain": [
       "HBox(children=(FloatProgress(value=0.0, max=6.0), HTML(value='')))"
      ]
     },
     "metadata": {},
     "output_type": "display_data"
    },
    {
     "name": "stdout",
     "output_type": "stream",
     "text": [
      "\n",
      "After cgal process the un-stitched skeleton has shape (107, 2, 3)\n",
      "len_subgraphs AT BEGINNING of the loop\n"
     ]
    },
    {
     "data": {
      "application/vnd.jupyter.widget-view+json": {
       "model_id": "4f5e9f47bbbe4922a7b53e7241034a60",
       "version_major": 2,
       "version_minor": 0
      },
      "text/plain": [
       "HBox(children=(FloatProgress(value=0.0, max=17.0), HTML(value='')))"
      ]
     },
     "metadata": {},
     "output_type": "display_data"
    },
    {
     "name": "stdout",
     "output_type": "stream",
     "text": [
      "all graph is one component!\n",
      "Total time for skeleton stitching = 0.05058908462524414\n",
      "\n",
      "\n",
      "Working on 104726695973782750_non_soma_17\n",
      "     Starting Screened Poisson\n",
      "IN INPUT FILE VALIDATION LOOP\n",
      "\n",
      "LEAVING LOOP, MESH VALIDATED\n",
      "Using port = 6492\n",
      "xvfb-run -n 6492 -s \"-screen 0 800x600x24\" meshlabserver $@  -i /notebooks/Platinum_Skeletonization_vp3/104726695973782750/104726695973782750_non_soma_17.off -o /notebooks/Platinum_Skeletonization_vp3/104726695973782750/104726695973782750_non_soma_17_poisson.off -s /notebooks/Platinum_Skeletonization_vp3/104726695973782750/poisson_154946.mls\n",
      "-----Time for Screened Poisson= 5.098540544509888\n",
      "Signifiant mesh pieces of 50 size after poisson = 2\n",
      "     Starting Calcification\n",
      "-----Time for Running Calcification = 0.10750436782836914\n",
      "Before mesh subtraction number of skeleton edges = 52\n",
      "Inside mesh subtraction, len(main_mesh_bbox_restricted.faces) = 1490\n"
     ]
    },
    {
     "data": {
      "application/vnd.jupyter.widget-view+json": {
       "model_id": "9b202795e4174e4fbea6d47a2bf8a2f7",
       "version_major": 2,
       "version_minor": 0
      },
      "text/plain": [
       "HBox(children=(FloatProgress(value=1.0, bar_style='info', max=1.0), HTML(value='')))"
      ]
     },
     "metadata": {},
     "output_type": "display_data"
    },
    {
     "name": "stdout",
     "output_type": "stream",
     "text": [
      "\n",
      "Total Mesh subtraction time = 0.282\n"
     ]
    },
    {
     "data": {
      "application/vnd.jupyter.widget-view+json": {
       "model_id": "12506a3b7f7c4cd0b428777a7e78a8a4",
       "version_major": 2,
       "version_minor": 0
      },
      "text/plain": [
       "HBox(children=(FloatProgress(value=0.0, max=1.0), HTML(value='')))"
      ]
     },
     "metadata": {},
     "output_type": "display_data"
    },
    {
     "name": "stdout",
     "output_type": "stream",
     "text": [
      "\n",
      "only one skeleton so no stacking needed\n",
      "After cgal process the un-stitched skeleton has shape (56, 2, 3)\n",
      "len_subgraphs AT BEGINNING of the loop\n"
     ]
    },
    {
     "data": {
      "application/vnd.jupyter.widget-view+json": {
       "model_id": "100797c090704785a0cdfc5d83164fdf",
       "version_major": 2,
       "version_minor": 0
      },
      "text/plain": [
       "HBox(children=(FloatProgress(value=0.0, max=3.0), HTML(value='')))"
      ]
     },
     "metadata": {},
     "output_type": "display_data"
    },
    {
     "name": "stdout",
     "output_type": "stream",
     "text": [
      "all graph is one component!\n",
      "Total time for skeleton stitching = 0.028446674346923828\n",
      "\n",
      "\n",
      "Working on 104726695973782750_non_soma_18\n",
      "     Starting Screened Poisson\n",
      "IN INPUT FILE VALIDATION LOOP\n",
      "\n",
      "LEAVING LOOP, MESH VALIDATED\n",
      "Using port = 8531\n",
      "xvfb-run -n 8531 -s \"-screen 0 800x600x24\" meshlabserver $@  -i /notebooks/Platinum_Skeletonization_vp3/104726695973782750/104726695973782750_non_soma_18.off -o /notebooks/Platinum_Skeletonization_vp3/104726695973782750/104726695973782750_non_soma_18_poisson.off -s /notebooks/Platinum_Skeletonization_vp3/104726695973782750/poisson_889673.mls\n"
     ]
    },
    {
     "name": "stderr",
     "output_type": "stream",
     "text": [
      "face_normals all zero, ignoring!\n",
      "face_normals all zero, ignoring!\n"
     ]
    },
    {
     "name": "stdout",
     "output_type": "stream",
     "text": [
      "-----Time for Screened Poisson= 5.272992849349976\n",
      "Signifiant mesh pieces of 50 size after poisson = 10\n",
      "     Starting Calcification\n",
      "-----Time for Running Calcification = 0.1207742691040039\n",
      "Before mesh subtraction number of skeleton edges = 59\n",
      "Inside mesh subtraction, len(main_mesh_bbox_restricted.faces) = 1296\n"
     ]
    },
    {
     "data": {
      "application/vnd.jupyter.widget-view+json": {
       "model_id": "a6c2e06c55ee4ac9b7eb592434231576",
       "version_major": 2,
       "version_minor": 0
      },
      "text/plain": [
       "HBox(children=(FloatProgress(value=1.0, bar_style='info', max=1.0), HTML(value='')))"
      ]
     },
     "metadata": {},
     "output_type": "display_data"
    },
    {
     "name": "stdout",
     "output_type": "stream",
     "text": [
      "\n",
      "Total Mesh subtraction time = 0.3253\n"
     ]
    },
    {
     "data": {
      "application/vnd.jupyter.widget-view+json": {
       "model_id": "fd740cc906f0491f91a6dbd93024a2a0",
       "version_major": 2,
       "version_minor": 0
      },
      "text/plain": [
       "HBox(children=(FloatProgress(value=0.0, max=5.0), HTML(value='')))"
      ]
     },
     "metadata": {},
     "output_type": "display_data"
    },
    {
     "name": "stdout",
     "output_type": "stream",
     "text": [
      "\n",
      "After cgal process the un-stitched skeleton has shape (83, 2, 3)\n",
      "len_subgraphs AT BEGINNING of the loop\n"
     ]
    },
    {
     "data": {
      "application/vnd.jupyter.widget-view+json": {
       "model_id": "6d138099391949689b6815cd02d0f9a0",
       "version_major": 2,
       "version_minor": 0
      },
      "text/plain": [
       "HBox(children=(FloatProgress(value=0.0, max=15.0), HTML(value='')))"
      ]
     },
     "metadata": {},
     "output_type": "display_data"
    },
    {
     "name": "stdout",
     "output_type": "stream",
     "text": [
      "all graph is one component!\n",
      "Total time for skeleton stitching = 0.05230355262756348\n",
      "\n",
      "\n",
      "Working on 104726695973782750_non_soma_19\n",
      "     Starting Screened Poisson\n",
      "IN INPUT FILE VALIDATION LOOP\n",
      "\n",
      "LEAVING LOOP, MESH VALIDATED\n",
      "Using port = 6337\n",
      "xvfb-run -n 6337 -s \"-screen 0 800x600x24\" meshlabserver $@  -i /notebooks/Platinum_Skeletonization_vp3/104726695973782750/104726695973782750_non_soma_19.off -o /notebooks/Platinum_Skeletonization_vp3/104726695973782750/104726695973782750_non_soma_19_poisson.off -s /notebooks/Platinum_Skeletonization_vp3/104726695973782750/poisson_712116.mls\n",
      "-----Time for Screened Poisson= 5.25440788269043\n",
      "Signifiant mesh pieces of 50 size after poisson = 4\n",
      "     Starting Calcification\n",
      "-----Time for Running Calcification = 0.1089320182800293\n",
      "Before mesh subtraction number of skeleton edges = 37\n",
      "Inside mesh subtraction, len(main_mesh_bbox_restricted.faces) = 1076\n"
     ]
    },
    {
     "data": {
      "application/vnd.jupyter.widget-view+json": {
       "model_id": "106c46916eab4593ac347dfdbbf8b186",
       "version_major": 2,
       "version_minor": 0
      },
      "text/plain": [
       "HBox(children=(FloatProgress(value=1.0, bar_style='info', max=1.0), HTML(value='')))"
      ]
     },
     "metadata": {},
     "output_type": "display_data"
    },
    {
     "name": "stdout",
     "output_type": "stream",
     "text": [
      "\n",
      "Total Mesh subtraction time = 0.1979\n"
     ]
    },
    {
     "data": {
      "application/vnd.jupyter.widget-view+json": {
       "model_id": "0f43b048fc0c4f728f10942ef9c24f6d",
       "version_major": 2,
       "version_minor": 0
      },
      "text/plain": [
       "HBox(children=(FloatProgress(value=0.0, max=3.0), HTML(value='')))"
      ]
     },
     "metadata": {},
     "output_type": "display_data"
    },
    {
     "name": "stdout",
     "output_type": "stream",
     "text": [
      "\n",
      "After cgal process the un-stitched skeleton has shape (55, 2, 3)\n",
      "len_subgraphs AT BEGINNING of the loop\n"
     ]
    },
    {
     "data": {
      "application/vnd.jupyter.widget-view+json": {
       "model_id": "a8fe785e368249cabdbaa896454f0685",
       "version_major": 2,
       "version_minor": 0
      },
      "text/plain": [
       "HBox(children=(FloatProgress(value=0.0, max=7.0), HTML(value='')))"
      ]
     },
     "metadata": {},
     "output_type": "display_data"
    },
    {
     "name": "stdout",
     "output_type": "stream",
     "text": [
      "all graph is one component!\n",
      "Total time for skeleton stitching = 0.04208230972290039\n",
      "\n",
      "\n",
      "Working on 104726695973782750_non_soma_20\n",
      "     Starting Screened Poisson\n",
      "IN INPUT FILE VALIDATION LOOP\n",
      "\n",
      "LEAVING LOOP, MESH VALIDATED\n",
      "Using port = 5368\n",
      "xvfb-run -n 5368 -s \"-screen 0 800x600x24\" meshlabserver $@  -i /notebooks/Platinum_Skeletonization_vp3/104726695973782750/104726695973782750_non_soma_20.off -o /notebooks/Platinum_Skeletonization_vp3/104726695973782750/104726695973782750_non_soma_20_poisson.off -s /notebooks/Platinum_Skeletonization_vp3/104726695973782750/poisson_949282.mls\n"
     ]
    },
    {
     "name": "stderr",
     "output_type": "stream",
     "text": [
      "face_normals all zero, ignoring!\n"
     ]
    },
    {
     "name": "stdout",
     "output_type": "stream",
     "text": [
      "-----Time for Screened Poisson= 5.103744745254517\n",
      "Signifiant mesh pieces of 50 size after poisson = 2\n",
      "     Starting Calcification\n",
      "-----Time for Running Calcification = 0.048885345458984375\n",
      "Before mesh subtraction number of skeleton edges = 40\n",
      "Inside mesh subtraction, len(main_mesh_bbox_restricted.faces) = 911\n"
     ]
    },
    {
     "data": {
      "application/vnd.jupyter.widget-view+json": {
       "model_id": "a8a32b1f036b4cabae91a4b262a79d5f",
       "version_major": 2,
       "version_minor": 0
      },
      "text/plain": [
       "HBox(children=(FloatProgress(value=1.0, bar_style='info', max=1.0), HTML(value='')))"
      ]
     },
     "metadata": {},
     "output_type": "display_data"
    },
    {
     "name": "stdout",
     "output_type": "stream",
     "text": [
      "\n",
      "Total Mesh subtraction time = 0.2348\n"
     ]
    },
    {
     "data": {
      "application/vnd.jupyter.widget-view+json": {
       "model_id": "7c5d28d2a45a4bf3af2c60c01a1f2c50",
       "version_major": 2,
       "version_minor": 0
      },
      "text/plain": [
       "HBox(children=(FloatProgress(value=0.0, max=1.0), HTML(value='')))"
      ]
     },
     "metadata": {},
     "output_type": "display_data"
    },
    {
     "name": "stdout",
     "output_type": "stream",
     "text": [
      "\n",
      "only one skeleton so no stacking needed\n",
      "After cgal process the un-stitched skeleton has shape (49, 2, 3)\n",
      "len_subgraphs AT BEGINNING of the loop\n"
     ]
    },
    {
     "data": {
      "application/vnd.jupyter.widget-view+json": {
       "model_id": "9b17b2bcc2a74196baf274d48cc675b6",
       "version_major": 2,
       "version_minor": 0
      },
      "text/plain": [
       "HBox(children=(FloatProgress(value=0.0, max=3.0), HTML(value='')))"
      ]
     },
     "metadata": {},
     "output_type": "display_data"
    },
    {
     "name": "stdout",
     "output_type": "stream",
     "text": [
      "all graph is one component!\n",
      "Total time for skeleton stitching = 0.030004024505615234\n",
      "\n",
      "\n",
      "Working on 104726695973782750_non_soma_21\n",
      "     Starting Screened Poisson\n",
      "IN INPUT FILE VALIDATION LOOP\n",
      "\n",
      "LEAVING LOOP, MESH VALIDATED\n",
      "Using port = 3447\n",
      "xvfb-run -n 3447 -s \"-screen 0 800x600x24\" meshlabserver $@  -i /notebooks/Platinum_Skeletonization_vp3/104726695973782750/104726695973782750_non_soma_21.off -o /notebooks/Platinum_Skeletonization_vp3/104726695973782750/104726695973782750_non_soma_21_poisson.off -s /notebooks/Platinum_Skeletonization_vp3/104726695973782750/poisson_561232.mls\n"
     ]
    },
    {
     "name": "stderr",
     "output_type": "stream",
     "text": [
      "face_normals all zero, ignoring!\n",
      "face_normals all zero, ignoring!\n",
      "face_normals all zero, ignoring!\n",
      "face_normals all zero, ignoring!\n",
      "face_normals all zero, ignoring!\n",
      "face_normals all zero, ignoring!\n"
     ]
    },
    {
     "name": "stdout",
     "output_type": "stream",
     "text": [
      "-----Time for Screened Poisson= 5.182921409606934\n",
      "Signifiant mesh pieces of 50 size after poisson = 9\n",
      "     Starting Calcification\n",
      "-----Time for Running Calcification = 0.09080815315246582\n",
      "Before mesh subtraction number of skeleton edges = 27\n",
      "Inside mesh subtraction, len(main_mesh_bbox_restricted.faces) = 836\n"
     ]
    },
    {
     "data": {
      "application/vnd.jupyter.widget-view+json": {
       "model_id": "b8c039eaaa3248dfb3aac9484fd082ff",
       "version_major": 2,
       "version_minor": 0
      },
      "text/plain": [
       "HBox(children=(FloatProgress(value=1.0, bar_style='info', max=1.0), HTML(value='')))"
      ]
     },
     "metadata": {},
     "output_type": "display_data"
    },
    {
     "name": "stdout",
     "output_type": "stream",
     "text": [
      "\n",
      "Total Mesh subtraction time = 0.1798\n"
     ]
    },
    {
     "data": {
      "application/vnd.jupyter.widget-view+json": {
       "model_id": "0ef01d19e51244cf93830bf8cd21b82d",
       "version_major": 2,
       "version_minor": 0
      },
      "text/plain": [
       "HBox(children=(FloatProgress(value=0.0, max=4.0), HTML(value='')))"
      ]
     },
     "metadata": {},
     "output_type": "display_data"
    },
    {
     "name": "stdout",
     "output_type": "stream",
     "text": [
      "\n",
      "After cgal process the un-stitched skeleton has shape (49, 2, 3)\n",
      "len_subgraphs AT BEGINNING of the loop\n"
     ]
    },
    {
     "data": {
      "application/vnd.jupyter.widget-view+json": {
       "model_id": "97d3c2f959234e26b9940fd91468e06a",
       "version_major": 2,
       "version_minor": 0
      },
      "text/plain": [
       "HBox(children=(FloatProgress(value=0.0, max=13.0), HTML(value='')))"
      ]
     },
     "metadata": {},
     "output_type": "display_data"
    },
    {
     "name": "stdout",
     "output_type": "stream",
     "text": [
      "all graph is one component!\n",
      "Total time for skeleton stitching = 0.04918313026428223\n",
      "\n",
      "\n",
      "Working on 104726695973782750_non_soma_22\n",
      "     Starting Screened Poisson\n",
      "IN INPUT FILE VALIDATION LOOP\n",
      "\n",
      "LEAVING LOOP, MESH VALIDATED\n",
      "Using port = 3975\n",
      "xvfb-run -n 3975 -s \"-screen 0 800x600x24\" meshlabserver $@  -i /notebooks/Platinum_Skeletonization_vp3/104726695973782750/104726695973782750_non_soma_22.off -o /notebooks/Platinum_Skeletonization_vp3/104726695973782750/104726695973782750_non_soma_22_poisson.off -s /notebooks/Platinum_Skeletonization_vp3/104726695973782750/poisson_904458.mls\n",
      "-----Time for Screened Poisson= 5.127517938613892\n",
      "Signifiant mesh pieces of 50 size after poisson = 2\n",
      "     Starting Calcification\n",
      "-----Time for Running Calcification = 0.11829066276550293\n",
      "Before mesh subtraction number of skeleton edges = 14\n",
      "Inside mesh subtraction, len(main_mesh_bbox_restricted.faces) = 636\n"
     ]
    },
    {
     "data": {
      "application/vnd.jupyter.widget-view+json": {
       "model_id": "5b91b46eab544d4baa20109cb30400e4",
       "version_major": 2,
       "version_minor": 0
      },
      "text/plain": [
       "HBox(children=(FloatProgress(value=1.0, bar_style='info', max=1.0), HTML(value='')))"
      ]
     },
     "metadata": {},
     "output_type": "display_data"
    },
    {
     "name": "stdout",
     "output_type": "stream",
     "text": [
      "\n",
      "Total Mesh subtraction time = 0.0931\n"
     ]
    },
    {
     "data": {
      "application/vnd.jupyter.widget-view+json": {
       "model_id": "a55f45dae94c4cc784cb3f7300a86521",
       "version_major": 2,
       "version_minor": 0
      },
      "text/plain": [
       "HBox(children=(FloatProgress(value=0.0, max=2.0), HTML(value='')))"
      ]
     },
     "metadata": {},
     "output_type": "display_data"
    },
    {
     "name": "stdout",
     "output_type": "stream",
     "text": [
      "\n",
      "After cgal process the un-stitched skeleton has shape (23, 2, 3)\n",
      "len_subgraphs AT BEGINNING of the loop\n"
     ]
    },
    {
     "data": {
      "application/vnd.jupyter.widget-view+json": {
       "model_id": "a94b32b53e35475795a2a20c7231950e",
       "version_major": 2,
       "version_minor": 0
      },
      "text/plain": [
       "HBox(children=(FloatProgress(value=0.0, max=4.0), HTML(value='')))"
      ]
     },
     "metadata": {},
     "output_type": "display_data"
    },
    {
     "name": "stdout",
     "output_type": "stream",
     "text": [
      "all graph is one component!\n",
      "Total time for skeleton stitching = 0.026941299438476562\n",
      "\n",
      "\n",
      "Working on 104726695973782750_non_soma_23\n",
      "     Starting Screened Poisson\n",
      "IN INPUT FILE VALIDATION LOOP\n",
      "\n",
      "LEAVING LOOP, MESH VALIDATED\n",
      "Using port = 2767\n",
      "xvfb-run -n 2767 -s \"-screen 0 800x600x24\" meshlabserver $@  -i /notebooks/Platinum_Skeletonization_vp3/104726695973782750/104726695973782750_non_soma_23.off -o /notebooks/Platinum_Skeletonization_vp3/104726695973782750/104726695973782750_non_soma_23_poisson.off -s /notebooks/Platinum_Skeletonization_vp3/104726695973782750/poisson_820746.mls\n",
      "-----Time for Screened Poisson= 5.100508689880371\n",
      "Signifiant mesh pieces of 50 size after poisson = 4\n",
      "     Starting Calcification\n",
      "-----Time for Running Calcification = 0.04054665565490723\n",
      "Before mesh subtraction number of skeleton edges = 31\n",
      "Inside mesh subtraction, len(main_mesh_bbox_restricted.faces) = 669\n"
     ]
    },
    {
     "data": {
      "application/vnd.jupyter.widget-view+json": {
       "model_id": "c1e9c4feccea4cbb917acca31e869f56",
       "version_major": 2,
       "version_minor": 0
      },
      "text/plain": [
       "HBox(children=(FloatProgress(value=1.0, bar_style='info', max=1.0), HTML(value='')))"
      ]
     },
     "metadata": {},
     "output_type": "display_data"
    },
    {
     "name": "stdout",
     "output_type": "stream",
     "text": [
      "\n",
      "Total Mesh subtraction time = 0.1925\n"
     ]
    },
    {
     "data": {
      "application/vnd.jupyter.widget-view+json": {
       "model_id": "b85477d287f749848c86902730d621c8",
       "version_major": 2,
       "version_minor": 0
      },
      "text/plain": [
       "HBox(children=(FloatProgress(value=0.0, max=2.0), HTML(value='')))"
      ]
     },
     "metadata": {},
     "output_type": "display_data"
    },
    {
     "name": "stdout",
     "output_type": "stream",
     "text": [
      "\n",
      "After cgal process the un-stitched skeleton has shape (45, 2, 3)\n",
      "len_subgraphs AT BEGINNING of the loop\n"
     ]
    },
    {
     "data": {
      "application/vnd.jupyter.widget-view+json": {
       "model_id": "40503c0543e546908d7179dedf3cc925",
       "version_major": 2,
       "version_minor": 0
      },
      "text/plain": [
       "HBox(children=(FloatProgress(value=0.0, max=6.0), HTML(value='')))"
      ]
     },
     "metadata": {},
     "output_type": "display_data"
    },
    {
     "name": "stdout",
     "output_type": "stream",
     "text": [
      "all graph is one component!\n",
      "Total time for skeleton stitching = 0.03960871696472168\n",
      "\n",
      "\n",
      "Working on 104726695973782750_non_soma_24\n",
      "     Starting Screened Poisson\n",
      "IN INPUT FILE VALIDATION LOOP\n",
      "\n",
      "LEAVING LOOP, MESH VALIDATED\n",
      "Using port = 7253\n",
      "xvfb-run -n 7253 -s \"-screen 0 800x600x24\" meshlabserver $@  -i /notebooks/Platinum_Skeletonization_vp3/104726695973782750/104726695973782750_non_soma_24.off -o /notebooks/Platinum_Skeletonization_vp3/104726695973782750/104726695973782750_non_soma_24_poisson.off -s /notebooks/Platinum_Skeletonization_vp3/104726695973782750/poisson_787672.mls\n",
      "-----Time for Screened Poisson= 5.046557188034058\n",
      "Signifiant mesh pieces of 50 size after poisson = 5\n",
      "     Starting Calcification\n",
      "-----Time for Running Calcification = 0.029906511306762695\n",
      "Before mesh subtraction number of skeleton edges = 12\n",
      "Inside mesh subtraction, len(main_mesh_bbox_restricted.faces) = 530\n"
     ]
    },
    {
     "data": {
      "application/vnd.jupyter.widget-view+json": {
       "model_id": "f09dbf92d9dd44fda9521559ccaba506",
       "version_major": 2,
       "version_minor": 0
      },
      "text/plain": [
       "HBox(children=(FloatProgress(value=1.0, bar_style='info', max=1.0), HTML(value='')))"
      ]
     },
     "metadata": {},
     "output_type": "display_data"
    },
    {
     "name": "stdout",
     "output_type": "stream",
     "text": [
      "\n",
      "Total Mesh subtraction time = 0.0698\n"
     ]
    },
    {
     "data": {
      "application/vnd.jupyter.widget-view+json": {
       "model_id": "16ae91c03c0f492c8edda731d374cc0a",
       "version_major": 2,
       "version_minor": 0
      },
      "text/plain": [
       "HBox(children=(FloatProgress(value=0.0, max=4.0), HTML(value='')))"
      ]
     },
     "metadata": {},
     "output_type": "display_data"
    },
    {
     "name": "stdout",
     "output_type": "stream",
     "text": [
      "\n",
      "After cgal process the un-stitched skeleton has shape (40, 2, 3)\n",
      "len_subgraphs AT BEGINNING of the loop\n"
     ]
    },
    {
     "data": {
      "application/vnd.jupyter.widget-view+json": {
       "model_id": "c72d24c876b345a2b1cc563c19ed05dc",
       "version_major": 2,
       "version_minor": 0
      },
      "text/plain": [
       "HBox(children=(FloatProgress(value=0.0, max=9.0), HTML(value='')))"
      ]
     },
     "metadata": {},
     "output_type": "display_data"
    },
    {
     "name": "stdout",
     "output_type": "stream",
     "text": [
      "all graph is one component!\n",
      "Total time for skeleton stitching = 0.04771900177001953\n",
      "\n",
      "\n",
      "Working on 104726695973782750_non_soma_25\n",
      "     Starting Screened Poisson\n",
      "IN INPUT FILE VALIDATION LOOP\n",
      "\n",
      "LEAVING LOOP, MESH VALIDATED\n",
      "Using port = 9417\n",
      "xvfb-run -n 9417 -s \"-screen 0 800x600x24\" meshlabserver $@  -i /notebooks/Platinum_Skeletonization_vp3/104726695973782750/104726695973782750_non_soma_25.off -o /notebooks/Platinum_Skeletonization_vp3/104726695973782750/104726695973782750_non_soma_25_poisson.off -s /notebooks/Platinum_Skeletonization_vp3/104726695973782750/poisson_283575.mls\n"
     ]
    },
    {
     "name": "stderr",
     "output_type": "stream",
     "text": [
      "face_normals all zero, ignoring!\n",
      "face_normals all zero, ignoring!\n"
     ]
    },
    {
     "name": "stdout",
     "output_type": "stream",
     "text": [
      "-----Time for Screened Poisson= 5.0635669231414795\n",
      "Signifiant mesh pieces of 50 size after poisson = 1\n",
      "     Starting Calcification\n",
      "-----Time for Running Calcification = 0.048813581466674805\n",
      "only one skeleton so no stacking needed\n",
      "Before mesh subtraction number of skeleton edges = 16\n",
      "Inside mesh subtraction, len(main_mesh_bbox_restricted.faces) = 476\n"
     ]
    },
    {
     "data": {
      "application/vnd.jupyter.widget-view+json": {
       "model_id": "19e0e43afe59452890504398a23ecd53",
       "version_major": 2,
       "version_minor": 0
      },
      "text/plain": [
       "HBox(children=(FloatProgress(value=1.0, bar_style='info', max=1.0), HTML(value='')))"
      ]
     },
     "metadata": {},
     "output_type": "display_data"
    },
    {
     "name": "stdout",
     "output_type": "stream",
     "text": [
      "\n",
      "Total Mesh subtraction time = 0.1186\n"
     ]
    },
    {
     "data": {
      "application/vnd.jupyter.widget-view+json": {
       "model_id": "0d729defcc084824955e9d4753caca2a",
       "version_major": 2,
       "version_minor": 0
      },
      "text/plain": [
       "HBox(children=(FloatProgress(value=1.0, bar_style='info', max=1.0), HTML(value='')))"
      ]
     },
     "metadata": {},
     "output_type": "display_data"
    },
    {
     "name": "stdout",
     "output_type": "stream",
     "text": [
      "\n",
      "No skeletons to stack so returning empty list\n",
      "only one skeleton so no stacking needed\n",
      "After cgal process the un-stitched skeleton has shape (15, 2, 3)\n",
      "len_subgraphs AT BEGINNING of the loop\n"
     ]
    },
    {
     "data": {
      "application/vnd.jupyter.widget-view+json": {
       "model_id": "16590b7192df4bb3b6731851704a1871",
       "version_major": 2,
       "version_minor": 0
      },
      "text/plain": [
       "HBox(children=(FloatProgress(value=0.0, max=1.0), HTML(value='')))"
      ]
     },
     "metadata": {},
     "output_type": "display_data"
    },
    {
     "name": "stdout",
     "output_type": "stream",
     "text": [
      "all graph is one component!\n",
      "Total time for skeleton stitching = 0.02086019515991211\n",
      "\n",
      "\n",
      "Working on 104726695973782750_non_soma_26\n",
      "     Starting Screened Poisson\n",
      "IN INPUT FILE VALIDATION LOOP\n",
      "\n",
      "LEAVING LOOP, MESH VALIDATED\n",
      "Using port = 2634\n",
      "xvfb-run -n 2634 -s \"-screen 0 800x600x24\" meshlabserver $@  -i /notebooks/Platinum_Skeletonization_vp3/104726695973782750/104726695973782750_non_soma_26.off -o /notebooks/Platinum_Skeletonization_vp3/104726695973782750/104726695973782750_non_soma_26_poisson.off -s /notebooks/Platinum_Skeletonization_vp3/104726695973782750/poisson_860626.mls\n"
     ]
    },
    {
     "name": "stderr",
     "output_type": "stream",
     "text": [
      "face_normals all zero, ignoring!\n",
      "face_normals all zero, ignoring!\n"
     ]
    },
    {
     "name": "stdout",
     "output_type": "stream",
     "text": [
      "-----Time for Screened Poisson= 5.094392538070679\n",
      "Signifiant mesh pieces of 50 size after poisson = 4\n",
      "     Starting Calcification\n",
      "-----Time for Running Calcification = 0.09787583351135254\n",
      "Before mesh subtraction number of skeleton edges = 19\n",
      "Inside mesh subtraction, len(main_mesh_bbox_restricted.faces) = 455\n"
     ]
    },
    {
     "data": {
      "application/vnd.jupyter.widget-view+json": {
       "model_id": "1f94d2815b2142cd9aa07b5c8fd09a0c",
       "version_major": 2,
       "version_minor": 0
      },
      "text/plain": [
       "HBox(children=(FloatProgress(value=1.0, bar_style='info', max=1.0), HTML(value='')))"
      ]
     },
     "metadata": {},
     "output_type": "display_data"
    },
    {
     "name": "stdout",
     "output_type": "stream",
     "text": [
      "\n",
      "Total Mesh subtraction time = 0.119\n"
     ]
    },
    {
     "data": {
      "application/vnd.jupyter.widget-view+json": {
       "model_id": "657d875f1de749129594452e6666d33a",
       "version_major": 2,
       "version_minor": 0
      },
      "text/plain": [
       "HBox(children=(FloatProgress(value=0.0, max=3.0), HTML(value='')))"
      ]
     },
     "metadata": {},
     "output_type": "display_data"
    },
    {
     "name": "stdout",
     "output_type": "stream",
     "text": [
      "\n",
      "After cgal process the un-stitched skeleton has shape (32, 2, 3)\n",
      "len_subgraphs AT BEGINNING of the loop\n"
     ]
    },
    {
     "data": {
      "application/vnd.jupyter.widget-view+json": {
       "model_id": "c7fbd15d48d14bd6b35bcfcabc310395",
       "version_major": 2,
       "version_minor": 0
      },
      "text/plain": [
       "HBox(children=(FloatProgress(value=0.0, max=7.0), HTML(value='')))"
      ]
     },
     "metadata": {},
     "output_type": "display_data"
    },
    {
     "name": "stdout",
     "output_type": "stream",
     "text": [
      "all graph is one component!\n",
      "Total time for skeleton stitching = 0.04260563850402832\n",
      "\n",
      "\n",
      "Working on 104726695973782750_non_soma_27\n",
      "     Starting Screened Poisson\n",
      "IN INPUT FILE VALIDATION LOOP\n",
      "\n",
      "LEAVING LOOP, MESH VALIDATED\n",
      "Using port = 9976\n",
      "xvfb-run -n 9976 -s \"-screen 0 800x600x24\" meshlabserver $@  -i /notebooks/Platinum_Skeletonization_vp3/104726695973782750/104726695973782750_non_soma_27.off -o /notebooks/Platinum_Skeletonization_vp3/104726695973782750/104726695973782750_non_soma_27_poisson.off -s /notebooks/Platinum_Skeletonization_vp3/104726695973782750/poisson_654205.mls\n"
     ]
    },
    {
     "name": "stderr",
     "output_type": "stream",
     "text": [
      "face_normals all zero, ignoring!\n",
      "face_normals all zero, ignoring!\n",
      "face_normals all zero, ignoring!\n",
      "face_normals all zero, ignoring!\n",
      "face_normals all zero, ignoring!\n"
     ]
    },
    {
     "name": "stdout",
     "output_type": "stream",
     "text": [
      "-----Time for Screened Poisson= 5.317537784576416\n",
      "Signifiant mesh pieces of 50 size after poisson = 1\n",
      "     Starting Calcification\n",
      "-----Time for Running Calcification = 0.039301156997680664\n",
      "only one skeleton so no stacking needed\n",
      "Before mesh subtraction number of skeleton edges = 21\n",
      "Inside mesh subtraction, len(main_mesh_bbox_restricted.faces) = 431\n"
     ]
    },
    {
     "data": {
      "application/vnd.jupyter.widget-view+json": {
       "model_id": "847a7623e0114bdca180c8f7bbf46b7a",
       "version_major": 2,
       "version_minor": 0
      },
      "text/plain": [
       "HBox(children=(FloatProgress(value=1.0, bar_style='info', max=1.0), HTML(value='')))"
      ]
     },
     "metadata": {},
     "output_type": "display_data"
    },
    {
     "name": "stdout",
     "output_type": "stream",
     "text": [
      "\n",
      "Total Mesh subtraction time = 0.126\n"
     ]
    },
    {
     "data": {
      "application/vnd.jupyter.widget-view+json": {
       "model_id": "46a6c67eda3e4696b47969f25df9ac6b",
       "version_major": 2,
       "version_minor": 0
      },
      "text/plain": [
       "HBox(children=(FloatProgress(value=1.0, bar_style='info', max=1.0), HTML(value='')))"
      ]
     },
     "metadata": {},
     "output_type": "display_data"
    },
    {
     "name": "stdout",
     "output_type": "stream",
     "text": [
      "\n",
      "No skeletons to stack so returning empty list\n",
      "only one skeleton so no stacking needed\n",
      "After cgal process the un-stitched skeleton has shape (20, 2, 3)\n",
      "len_subgraphs AT BEGINNING of the loop\n"
     ]
    },
    {
     "data": {
      "application/vnd.jupyter.widget-view+json": {
       "model_id": "c1573c97f69a49658ed121d7633852c1",
       "version_major": 2,
       "version_minor": 0
      },
      "text/plain": [
       "HBox(children=(FloatProgress(value=0.0, max=1.0), HTML(value='')))"
      ]
     },
     "metadata": {},
     "output_type": "display_data"
    },
    {
     "name": "stdout",
     "output_type": "stream",
     "text": [
      "all graph is one component!\n",
      "Total time for skeleton stitching = 0.021344661712646484\n",
      "\n",
      "\n",
      "Working on 104726695973782750_non_soma_28\n",
      "     Starting Screened Poisson\n",
      "IN INPUT FILE VALIDATION LOOP\n",
      "\n",
      "LEAVING LOOP, MESH VALIDATED\n",
      "Using port = 6460\n",
      "xvfb-run -n 6460 -s \"-screen 0 800x600x24\" meshlabserver $@  -i /notebooks/Platinum_Skeletonization_vp3/104726695973782750/104726695973782750_non_soma_28.off -o /notebooks/Platinum_Skeletonization_vp3/104726695973782750/104726695973782750_non_soma_28_poisson.off -s /notebooks/Platinum_Skeletonization_vp3/104726695973782750/poisson_229652.mls\n",
      "-----Time for Screened Poisson= 5.184704065322876\n",
      "Signifiant mesh pieces of 50 size after poisson = 1\n",
      "     Starting Calcification\n",
      "-----Time for Running Calcification = 0.10239052772521973\n",
      "only one skeleton so no stacking needed\n",
      "Before mesh subtraction number of skeleton edges = 22\n",
      "Inside mesh subtraction, len(main_mesh_bbox_restricted.faces) = 362\n"
     ]
    },
    {
     "data": {
      "application/vnd.jupyter.widget-view+json": {
       "model_id": "59686f2ae0b641b1b0d09f084f5ec43c",
       "version_major": 2,
       "version_minor": 0
      },
      "text/plain": [
       "HBox(children=(FloatProgress(value=1.0, bar_style='info', max=1.0), HTML(value='')))"
      ]
     },
     "metadata": {},
     "output_type": "display_data"
    },
    {
     "name": "stdout",
     "output_type": "stream",
     "text": [
      "\n",
      "Total Mesh subtraction time = 0.1342\n"
     ]
    },
    {
     "data": {
      "application/vnd.jupyter.widget-view+json": {
       "model_id": "3409b3c2a84e440f89f943016be87e28",
       "version_major": 2,
       "version_minor": 0
      },
      "text/plain": [
       "HBox(children=(FloatProgress(value=1.0, bar_style='info', max=1.0), HTML(value='')))"
      ]
     },
     "metadata": {},
     "output_type": "display_data"
    },
    {
     "name": "stdout",
     "output_type": "stream",
     "text": [
      "\n",
      "No skeletons to stack so returning empty list\n",
      "only one skeleton so no stacking needed\n",
      "After cgal process the un-stitched skeleton has shape (21, 2, 3)\n",
      "len_subgraphs AT BEGINNING of the loop\n"
     ]
    },
    {
     "data": {
      "application/vnd.jupyter.widget-view+json": {
       "model_id": "082cab54d8cb4415838f4554432a3352",
       "version_major": 2,
       "version_minor": 0
      },
      "text/plain": [
       "HBox(children=(FloatProgress(value=0.0, max=1.0), HTML(value='')))"
      ]
     },
     "metadata": {},
     "output_type": "display_data"
    },
    {
     "name": "stdout",
     "output_type": "stream",
     "text": [
      "all graph is one component!\n",
      "Total time for skeleton stitching = 0.023700237274169922\n",
      "\n",
      "\n",
      "Working on 104726695973782750_non_soma_29\n",
      "     Starting Screened Poisson\n",
      "IN INPUT FILE VALIDATION LOOP\n",
      "LEAVING LOOP, MESH VALIDATED\n",
      "Using port = 2273\n",
      "xvfb-run -n 2273 -s \"-screen 0 800x600x24\" meshlabserver $@  -i /notebooks/Platinum_Skeletonization_vp3/104726695973782750/104726695973782750_non_soma_29.off -o /notebooks/Platinum_Skeletonization_vp3/104726695973782750/104726695973782750_non_soma_29_poisson.off -s /notebooks/Platinum_Skeletonization_vp3/104726695973782750/poisson_673165.mls\n",
      "\n",
      "-----Time for Screened Poisson= 5.060055732727051\n",
      "Signifiant mesh pieces of 50 size after poisson = 1\n",
      "     Starting Calcification\n",
      "-----Time for Running Calcification = 0.06202554702758789\n",
      "only one skeleton so no stacking needed\n",
      "Before mesh subtraction number of skeleton edges = 17\n",
      "Inside mesh subtraction, len(main_mesh_bbox_restricted.faces) = 349\n"
     ]
    },
    {
     "data": {
      "application/vnd.jupyter.widget-view+json": {
       "model_id": "7f8af2724dbe41e2aa2bbdd4ab872b10",
       "version_major": 2,
       "version_minor": 0
      },
      "text/plain": [
       "HBox(children=(FloatProgress(value=1.0, bar_style='info', max=1.0), HTML(value='')))"
      ]
     },
     "metadata": {},
     "output_type": "display_data"
    },
    {
     "name": "stdout",
     "output_type": "stream",
     "text": [
      "\n",
      "Total Mesh subtraction time = 0.1326\n"
     ]
    },
    {
     "data": {
      "application/vnd.jupyter.widget-view+json": {
       "model_id": "6a008432a5ca490db33b6eb0438ac624",
       "version_major": 2,
       "version_minor": 0
      },
      "text/plain": [
       "HBox(children=(FloatProgress(value=0.0, max=1.0), HTML(value='')))"
      ]
     },
     "metadata": {},
     "output_type": "display_data"
    },
    {
     "name": "stdout",
     "output_type": "stream",
     "text": [
      "\n",
      "only one skeleton so no stacking needed\n",
      "After cgal process the un-stitched skeleton has shape (19, 2, 3)\n",
      "len_subgraphs AT BEGINNING of the loop\n"
     ]
    },
    {
     "data": {
      "application/vnd.jupyter.widget-view+json": {
       "model_id": "e7c383cb8d0f4ca387b916f043f6c74a",
       "version_major": 2,
       "version_minor": 0
      },
      "text/plain": [
       "HBox(children=(FloatProgress(value=0.0, max=2.0), HTML(value='')))"
      ]
     },
     "metadata": {},
     "output_type": "display_data"
    },
    {
     "name": "stdout",
     "output_type": "stream",
     "text": [
      "all graph is one component!\n",
      "Total time for skeleton stitching = 0.026056766510009766\n",
      "\n",
      "\n",
      "Working on 104726695973782750_non_soma_30\n",
      "     Starting Screened Poisson\n",
      "IN INPUT FILE VALIDATION LOOP\n",
      "LEAVING LOOP, MESH VALIDATED\n",
      "Using port = 312\n",
      "xvfb-run -n 312 -s \"-screen 0 800x600x24\" meshlabserver $@  -i /notebooks/Platinum_Skeletonization_vp3/104726695973782750/104726695973782750_non_soma_30.off -o /notebooks/Platinum_Skeletonization_vp3/104726695973782750/104726695973782750_non_soma_30_poisson.off -s /notebooks/Platinum_Skeletonization_vp3/104726695973782750/poisson_508169.mls\n"
     ]
    },
    {
     "name": "stderr",
     "output_type": "stream",
     "text": [
      "face_normals all zero, ignoring!\n",
      "face_normals all zero, ignoring!\n",
      "face_normals all zero, ignoring!\n",
      "face_normals all zero, ignoring!\n",
      "face_normals all zero, ignoring!\n",
      "face_normals all zero, ignoring!\n"
     ]
    },
    {
     "name": "stdout",
     "output_type": "stream",
     "text": [
      "\n",
      "-----Time for Screened Poisson= 5.0877766609191895\n",
      "Signifiant mesh pieces of 50 size after poisson = 2\n",
      "     Starting Calcification\n",
      "-----Time for Running Calcification = 0.07699823379516602\n",
      "file /notebooks/Platinum_Skeletonization_vp3/104726695973782750/104726695973782750_non_soma_30_1_skeleton.cgal not found so skipping\n",
      "only one skeleton so no stacking needed\n",
      "Before mesh subtraction number of skeleton edges = 8\n",
      "Inside mesh subtraction, len(main_mesh_bbox_restricted.faces) = 53\n"
     ]
    },
    {
     "data": {
      "application/vnd.jupyter.widget-view+json": {
       "model_id": "1607217c875f4fe28539bd45963f5f47",
       "version_major": 2,
       "version_minor": 0
      },
      "text/plain": [
       "HBox(children=(FloatProgress(value=1.0, bar_style='info', max=1.0), HTML(value='')))"
      ]
     },
     "metadata": {},
     "output_type": "display_data"
    },
    {
     "name": "stdout",
     "output_type": "stream",
     "text": [
      "\n",
      "Total Mesh subtraction time = 0.0687\n"
     ]
    },
    {
     "data": {
      "application/vnd.jupyter.widget-view+json": {
       "model_id": "73ab5b88d09e44ac92cac99c06c18be6",
       "version_major": 2,
       "version_minor": 0
      },
      "text/plain": [
       "HBox(children=(FloatProgress(value=0.0, max=1.0), HTML(value='')))"
      ]
     },
     "metadata": {},
     "output_type": "display_data"
    },
    {
     "name": "stdout",
     "output_type": "stream",
     "text": [
      "\n",
      "only one skeleton so no stacking needed\n",
      "After cgal process the un-stitched skeleton has shape (14, 2, 3)\n",
      "len_subgraphs AT BEGINNING of the loop\n"
     ]
    },
    {
     "data": {
      "application/vnd.jupyter.widget-view+json": {
       "model_id": "75778202a06d45d483619fdc7b87c00d",
       "version_major": 2,
       "version_minor": 0
      },
      "text/plain": [
       "HBox(children=(FloatProgress(value=0.0, max=2.0), HTML(value='')))"
      ]
     },
     "metadata": {},
     "output_type": "display_data"
    },
    {
     "name": "stdout",
     "output_type": "stream",
     "text": [
      "all graph is one component!\n",
      "Total time for skeleton stitching = 0.021659135818481445\n",
      "\n",
      "\n",
      "Working on 104726695973782750_non_soma_31\n",
      "     Starting Screened Poisson\n",
      "IN INPUT FILE VALIDATION LOOP\n",
      "\n",
      "LEAVING LOOP, MESH VALIDATED\n",
      "Using port = 5644\n",
      "xvfb-run -n 5644 -s \"-screen 0 800x600x24\" meshlabserver $@  -i /notebooks/Platinum_Skeletonization_vp3/104726695973782750/104726695973782750_non_soma_31.off -o /notebooks/Platinum_Skeletonization_vp3/104726695973782750/104726695973782750_non_soma_31_poisson.off -s /notebooks/Platinum_Skeletonization_vp3/104726695973782750/poisson_802243.mls\n",
      "-----Time for Screened Poisson= 5.078186511993408\n",
      "Signifiant mesh pieces of 50 size after poisson = 2\n",
      "     Starting Calcification\n",
      "-----Time for Running Calcification = 0.028479814529418945\n",
      "Before mesh subtraction number of skeleton edges = 16\n",
      "Inside mesh subtraction, len(main_mesh_bbox_restricted.faces) = 260\n"
     ]
    },
    {
     "data": {
      "application/vnd.jupyter.widget-view+json": {
       "model_id": "691448d2106444db94be7d8f1fa69325",
       "version_major": 2,
       "version_minor": 0
      },
      "text/plain": [
       "HBox(children=(FloatProgress(value=1.0, bar_style='info', max=1.0), HTML(value='')))"
      ]
     },
     "metadata": {},
     "output_type": "display_data"
    },
    {
     "name": "stdout",
     "output_type": "stream",
     "text": [
      "\n",
      "Total Mesh subtraction time = 0.1147\n"
     ]
    },
    {
     "data": {
      "application/vnd.jupyter.widget-view+json": {
       "model_id": "f148112db4e048e790705624686a2f59",
       "version_major": 2,
       "version_minor": 0
      },
      "text/plain": [
       "HBox(children=(FloatProgress(value=0.0, max=1.0), HTML(value='')))"
      ]
     },
     "metadata": {},
     "output_type": "display_data"
    },
    {
     "name": "stdout",
     "output_type": "stream",
     "text": [
      "\n",
      "only one skeleton so no stacking needed\n",
      "After cgal process the un-stitched skeleton has shape (19, 2, 3)\n",
      "len_subgraphs AT BEGINNING of the loop\n"
     ]
    },
    {
     "data": {
      "application/vnd.jupyter.widget-view+json": {
       "model_id": "118c7c64525b441cb6fe55331257d761",
       "version_major": 2,
       "version_minor": 0
      },
      "text/plain": [
       "HBox(children=(FloatProgress(value=0.0, max=3.0), HTML(value='')))"
      ]
     },
     "metadata": {},
     "output_type": "display_data"
    },
    {
     "name": "stdout",
     "output_type": "stream",
     "text": [
      "all graph is one component!\n",
      "Total time for skeleton stitching = 0.02513861656188965\n",
      "\n",
      "\n",
      "Working on 104726695973782750_non_soma_32\n",
      "     Starting Screened Poisson\n",
      "IN INPUT FILE VALIDATION LOOP\n",
      "LEAVING LOOP, MESH VALIDATED\n",
      "Using port = 9121\n",
      "xvfb-run -n 9121 -s \"-screen 0 800x600x24\" meshlabserver $@  -i /notebooks/Platinum_Skeletonization_vp3/104726695973782750/104726695973782750_non_soma_32.off -o /notebooks/Platinum_Skeletonization_vp3/104726695973782750/104726695973782750_non_soma_32_poisson.off -s /notebooks/Platinum_Skeletonization_vp3/104726695973782750/poisson_74566.mls\n",
      "\n",
      "-----Time for Screened Poisson= 5.114380598068237\n",
      "Signifiant mesh pieces of 50 size after poisson = 2\n",
      "     Starting Calcification\n",
      "-----Time for Running Calcification = 0.15154314041137695\n",
      "Before mesh subtraction number of skeleton edges = 8\n",
      "Inside mesh subtraction, len(main_mesh_bbox_restricted.faces) = 81\n"
     ]
    },
    {
     "data": {
      "application/vnd.jupyter.widget-view+json": {
       "model_id": "7146cc620f044b2da5fa1ecb4b7cdab6",
       "version_major": 2,
       "version_minor": 0
      },
      "text/plain": [
       "HBox(children=(FloatProgress(value=1.0, bar_style='info', max=1.0), HTML(value='')))"
      ]
     },
     "metadata": {},
     "output_type": "display_data"
    },
    {
     "name": "stdout",
     "output_type": "stream",
     "text": [
      "\n",
      "Total Mesh subtraction time = 0.0597\n"
     ]
    },
    {
     "data": {
      "application/vnd.jupyter.widget-view+json": {
       "model_id": "4a4ff656735d40ca9148d62d72a2a2ba",
       "version_major": 2,
       "version_minor": 0
      },
      "text/plain": [
       "HBox(children=(FloatProgress(value=0.0, max=1.0), HTML(value='')))"
      ]
     },
     "metadata": {},
     "output_type": "display_data"
    },
    {
     "name": "stdout",
     "output_type": "stream",
     "text": [
      "\n",
      "only one skeleton so no stacking needed\n",
      "After cgal process the un-stitched skeleton has shape (14, 2, 3)\n",
      "len_subgraphs AT BEGINNING of the loop\n"
     ]
    },
    {
     "data": {
      "application/vnd.jupyter.widget-view+json": {
       "model_id": "eb2c584264f14307b4bace3f584fd5d5",
       "version_major": 2,
       "version_minor": 0
      },
      "text/plain": [
       "HBox(children=(FloatProgress(value=0.0, max=3.0), HTML(value='')))"
      ]
     },
     "metadata": {},
     "output_type": "display_data"
    },
    {
     "name": "stdout",
     "output_type": "stream",
     "text": [
      "all graph is one component!\n",
      "Total time for skeleton stitching = 0.027781248092651367\n",
      "\n",
      "\n",
      "Working on 104726695973782750_non_soma_33\n",
      "     Starting Screened Poisson\n",
      "IN INPUT FILE VALIDATION LOOP\n",
      "LEAVING LOOP, MESH VALIDATED\n",
      "Using port = 5495\n",
      "xvfb-run -n 5495 -s \"-screen 0 800x600x24\" meshlabserver $@  -i /notebooks/Platinum_Skeletonization_vp3/104726695973782750/104726695973782750_non_soma_33.off -o /notebooks/Platinum_Skeletonization_vp3/104726695973782750/104726695973782750_non_soma_33_poisson.off -s /notebooks/Platinum_Skeletonization_vp3/104726695973782750/poisson_582761.mls\n",
      "\n",
      "-----Time for Screened Poisson= 5.140665531158447\n",
      "Signifiant mesh pieces of 50 size after poisson = 1\n",
      "     Starting Calcification\n",
      "-----Time for Running Calcification = 0.056383609771728516\n",
      "only one skeleton so no stacking needed\n",
      "Before mesh subtraction number of skeleton edges = 8\n",
      "Inside mesh subtraction, len(main_mesh_bbox_restricted.faces) = 58\n"
     ]
    },
    {
     "data": {
      "application/vnd.jupyter.widget-view+json": {
       "model_id": "f37abd7fdeba4d01a5c17dc27a9d8789",
       "version_major": 2,
       "version_minor": 0
      },
      "text/plain": [
       "HBox(children=(FloatProgress(value=1.0, bar_style='info', max=1.0), HTML(value='')))"
      ]
     },
     "metadata": {},
     "output_type": "display_data"
    },
    {
     "name": "stdout",
     "output_type": "stream",
     "text": [
      "\n",
      "Total Mesh subtraction time = 0.0745\n"
     ]
    },
    {
     "data": {
      "application/vnd.jupyter.widget-view+json": {
       "model_id": "22e86d1ce90946da9ca1bdf02298cbc0",
       "version_major": 2,
       "version_minor": 0
      },
      "text/plain": [
       "HBox(children=(FloatProgress(value=0.0, max=1.0), HTML(value='')))"
      ]
     },
     "metadata": {},
     "output_type": "display_data"
    },
    {
     "name": "stdout",
     "output_type": "stream",
     "text": [
      "\n",
      "only one skeleton so no stacking needed\n",
      "After cgal process the un-stitched skeleton has shape (12, 2, 3)\n",
      "len_subgraphs AT BEGINNING of the loop\n"
     ]
    },
    {
     "data": {
      "application/vnd.jupyter.widget-view+json": {
       "model_id": "8dd43899d2204de49363034b8e6101ea",
       "version_major": 2,
       "version_minor": 0
      },
      "text/plain": [
       "HBox(children=(FloatProgress(value=0.0, max=2.0), HTML(value='')))"
      ]
     },
     "metadata": {},
     "output_type": "display_data"
    },
    {
     "name": "stdout",
     "output_type": "stream",
     "text": [
      "all graph is one component!\n",
      "Total time for skeleton stitching = 0.024054527282714844\n",
      "\n",
      "\n",
      "Working on 104726695973782750_non_soma_34\n",
      "     Starting Screened Poisson\n",
      "IN INPUT FILE VALIDATION LOOP\n",
      "LEAVING LOOP, MESH VALIDATED\n",
      "Using port = 6295\n",
      "xvfb-run -n 6295 -s \"-screen 0 800x600x24\" meshlabserver $@  -i /notebooks/Platinum_Skeletonization_vp3/104726695973782750/104726695973782750_non_soma_34.off -o /notebooks/Platinum_Skeletonization_vp3/104726695973782750/104726695973782750_non_soma_34_poisson.off -s /notebooks/Platinum_Skeletonization_vp3/104726695973782750/poisson_686628.mls\n"
     ]
    },
    {
     "name": "stderr",
     "output_type": "stream",
     "text": [
      "face_normals all zero, ignoring!\n",
      "face_normals all zero, ignoring!\n",
      "face_normals all zero, ignoring!\n",
      "face_normals all zero, ignoring!\n",
      "face_normals all zero, ignoring!\n",
      "face_normals all zero, ignoring!\n",
      "face_normals all zero, ignoring!\n",
      "face_normals all zero, ignoring!\n"
     ]
    },
    {
     "name": "stdout",
     "output_type": "stream",
     "text": [
      "\n",
      "-----Time for Screened Poisson= 5.251755475997925\n"
     ]
    },
    {
     "name": "stderr",
     "output_type": "stream",
     "text": [
      "face_normals all zero, ignoring!\n",
      "face_normals all zero, ignoring!\n",
      "face_normals all zero, ignoring!\n",
      "face_normals all zero, ignoring!\n",
      "face_normals all zero, ignoring!\n",
      "face_normals all zero, ignoring!\n",
      "face_normals all zero, ignoring!\n",
      "face_normals all zero, ignoring!\n",
      "face_normals all zero, ignoring!\n",
      "face_normals all zero, ignoring!\n",
      "face_normals all zero, ignoring!\n",
      "face_normals all zero, ignoring!\n",
      "face_normals all zero, ignoring!\n",
      "face_normals all zero, ignoring!\n",
      "face_normals all zero, ignoring!\n",
      "face_normals all zero, ignoring!\n",
      "face_normals all zero, ignoring!\n",
      "face_normals all zero, ignoring!\n",
      "face_normals all zero, ignoring!\n",
      "face_normals all zero, ignoring!\n",
      "face_normals all zero, ignoring!\n",
      "face_normals all zero, ignoring!\n",
      "face_normals all zero, ignoring!\n",
      "face_normals all zero, ignoring!\n",
      "face_normals all zero, ignoring!\n",
      "face_normals all zero, ignoring!\n",
      "face_normals all zero, ignoring!\n",
      "face_normals all zero, ignoring!\n",
      "face_normals all zero, ignoring!\n",
      "face_normals all zero, ignoring!\n",
      "face_normals all zero, ignoring!\n",
      "face_normals all zero, ignoring!\n",
      "face_normals all zero, ignoring!\n",
      "face_normals all zero, ignoring!\n",
      "face_normals all zero, ignoring!\n",
      "face_normals all zero, ignoring!\n",
      "face_normals all zero, ignoring!\n",
      "face_normals all zero, ignoring!\n",
      "face_normals all zero, ignoring!\n",
      "face_normals all zero, ignoring!\n",
      "face_normals all zero, ignoring!\n",
      "face_normals all zero, ignoring!\n",
      "face_normals all zero, ignoring!\n",
      "face_normals all zero, ignoring!\n",
      "face_normals all zero, ignoring!\n",
      "face_normals all zero, ignoring!\n",
      "face_normals all zero, ignoring!\n",
      "face_normals all zero, ignoring!\n",
      "face_normals all zero, ignoring!\n",
      "face_normals all zero, ignoring!\n",
      "face_normals all zero, ignoring!\n",
      "face_normals all zero, ignoring!\n",
      "face_normals all zero, ignoring!\n",
      "face_normals all zero, ignoring!\n",
      "face_normals all zero, ignoring!\n",
      "face_normals all zero, ignoring!\n",
      "face_normals all zero, ignoring!\n",
      "face_normals all zero, ignoring!\n",
      "face_normals all zero, ignoring!\n",
      "face_normals all zero, ignoring!\n",
      "face_normals all zero, ignoring!\n",
      "face_normals all zero, ignoring!\n",
      "face_normals all zero, ignoring!\n",
      "face_normals all zero, ignoring!\n",
      "face_normals all zero, ignoring!\n",
      "face_normals all zero, ignoring!\n",
      "face_normals all zero, ignoring!\n",
      "face_normals all zero, ignoring!\n",
      "face_normals all zero, ignoring!\n",
      "face_normals all zero, ignoring!\n",
      "face_normals all zero, ignoring!\n",
      "face_normals all zero, ignoring!\n",
      "face_normals all zero, ignoring!\n",
      "face_normals all zero, ignoring!\n",
      "face_normals all zero, ignoring!\n",
      "face_normals all zero, ignoring!\n",
      "face_normals all zero, ignoring!\n",
      "face_normals all zero, ignoring!\n",
      "face_normals all zero, ignoring!\n",
      "face_normals all zero, ignoring!\n",
      "face_normals all zero, ignoring!\n",
      "face_normals all zero, ignoring!\n",
      "face_normals all zero, ignoring!\n",
      "face_normals all zero, ignoring!\n",
      "face_normals all zero, ignoring!\n",
      "face_normals all zero, ignoring!\n",
      "face_normals all zero, ignoring!\n",
      "face_normals all zero, ignoring!\n",
      "face_normals all zero, ignoring!\n",
      "face_normals all zero, ignoring!\n",
      "face_normals all zero, ignoring!\n",
      "face_normals all zero, ignoring!\n",
      "face_normals all zero, ignoring!\n",
      "face_normals all zero, ignoring!\n",
      "face_normals all zero, ignoring!\n",
      "face_normals all zero, ignoring!\n",
      "face_normals all zero, ignoring!\n",
      "face_normals all zero, ignoring!\n",
      "face_normals all zero, ignoring!\n",
      "face_normals all zero, ignoring!\n",
      "face_normals all zero, ignoring!\n",
      "face_normals all zero, ignoring!\n",
      "face_normals all zero, ignoring!\n",
      "face_normals all zero, ignoring!\n",
      "face_normals all zero, ignoring!\n",
      "face_normals all zero, ignoring!\n",
      "face_normals all zero, ignoring!\n",
      "face_normals all zero, ignoring!\n",
      "face_normals all zero, ignoring!\n",
      "face_normals all zero, ignoring!\n",
      "face_normals all zero, ignoring!\n",
      "face_normals all zero, ignoring!\n",
      "face_normals all zero, ignoring!\n",
      "face_normals all zero, ignoring!\n",
      "face_normals all zero, ignoring!\n",
      "face_normals all zero, ignoring!\n",
      "face_normals all zero, ignoring!\n",
      "face_normals all zero, ignoring!\n",
      "face_normals all zero, ignoring!\n",
      "face_normals all zero, ignoring!\n",
      "face_normals all zero, ignoring!\n",
      "face_normals all zero, ignoring!\n",
      "face_normals all zero, ignoring!\n",
      "face_normals all zero, ignoring!\n",
      "face_normals all zero, ignoring!\n",
      "face_normals all zero, ignoring!\n",
      "face_normals all zero, ignoring!\n",
      "face_normals all zero, ignoring!\n",
      "face_normals all zero, ignoring!\n",
      "face_normals all zero, ignoring!\n",
      "face_normals all zero, ignoring!\n",
      "face_normals all zero, ignoring!\n",
      "face_normals all zero, ignoring!\n",
      "face_normals all zero, ignoring!\n",
      "face_normals all zero, ignoring!\n",
      "face_normals all zero, ignoring!\n",
      "face_normals all zero, ignoring!\n",
      "face_normals all zero, ignoring!\n",
      "face_normals all zero, ignoring!\n",
      "face_normals all zero, ignoring!\n",
      "face_normals all zero, ignoring!\n",
      "face_normals all zero, ignoring!\n",
      "face_normals all zero, ignoring!\n",
      "face_normals all zero, ignoring!\n",
      "face_normals all zero, ignoring!\n",
      "face_normals all zero, ignoring!\n",
      "face_normals all zero, ignoring!\n",
      "face_normals all zero, ignoring!\n",
      "face_normals all zero, ignoring!\n",
      "face_normals all zero, ignoring!\n",
      "face_normals all zero, ignoring!\n",
      "face_normals all zero, ignoring!\n",
      "face_normals all zero, ignoring!\n",
      "face_normals all zero, ignoring!\n",
      "face_normals all zero, ignoring!\n",
      "face_normals all zero, ignoring!\n",
      "face_normals all zero, ignoring!\n",
      "face_normals all zero, ignoring!\n",
      "face_normals all zero, ignoring!\n",
      "face_normals all zero, ignoring!\n",
      "face_normals all zero, ignoring!\n",
      "face_normals all zero, ignoring!\n",
      "face_normals all zero, ignoring!\n",
      "face_normals all zero, ignoring!\n",
      "face_normals all zero, ignoring!\n",
      "face_normals all zero, ignoring!\n",
      "face_normals all zero, ignoring!\n",
      "face_normals all zero, ignoring!\n",
      "face_normals all zero, ignoring!\n",
      "face_normals all zero, ignoring!\n",
      "face_normals all zero, ignoring!\n",
      "face_normals all zero, ignoring!\n",
      "face_normals all zero, ignoring!\n",
      "face_normals all zero, ignoring!\n",
      "face_normals all zero, ignoring!\n",
      "face_normals all zero, ignoring!\n",
      "face_normals all zero, ignoring!\n",
      "face_normals all zero, ignoring!\n",
      "face_normals all zero, ignoring!\n",
      "face_normals all zero, ignoring!\n",
      "face_normals all zero, ignoring!\n",
      "face_normals all zero, ignoring!\n"
     ]
    },
    {
     "name": "stdout",
     "output_type": "stream",
     "text": [
      "Signifiant mesh pieces of 50 size after poisson = 1\n",
      "     Starting Calcification\n",
      "-----Time for Running Calcification = 0.12505745887756348\n",
      "file /notebooks/Platinum_Skeletonization_vp3/104726695973782750/104726695973782750_non_soma_34_0_skeleton.cgal not found so skipping\n",
      "No skeletons to stack so returning empty list\n",
      "No recorded skeleton so skiipping to surface skeletonization\n"
     ]
    },
    {
     "data": {
      "application/vnd.jupyter.widget-view+json": {
       "model_id": "f491c1643212421b968a003138c601fa",
       "version_major": 2,
       "version_minor": 0
      },
      "text/plain": [
       "HBox(children=(FloatProgress(value=0.0, max=1.0), HTML(value='')))"
      ]
     },
     "metadata": {},
     "output_type": "display_data"
    },
    {
     "name": "stdout",
     "output_type": "stream",
     "text": [
      "\n",
      "only one skeleton so no stacking needed\n",
      "only one skeleton so no stacking needed\n",
      "After cgal process the un-stitched skeleton has shape (1, 2, 3)\n",
      "len_subgraphs AT BEGINNING of the loop\n"
     ]
    },
    {
     "data": {
      "application/vnd.jupyter.widget-view+json": {
       "model_id": "ea93e82e224c4ecbb74992e06354ed12",
       "version_major": 2,
       "version_minor": 0
      },
      "text/plain": [
       "HBox(children=(FloatProgress(value=0.0, max=1.0), HTML(value='')))"
      ]
     },
     "metadata": {},
     "output_type": "display_data"
    },
    {
     "name": "stdout",
     "output_type": "stream",
     "text": [
      "all graph is one component!\n",
      "Total time for skeleton stitching = 0.02125406265258789\n",
      "\n",
      "\n",
      "Working on 104726695973782750_non_soma_35\n",
      "Doing skeleton surface reconstruction\n",
      "\n",
      "\n",
      "Working on 104726695973782750_non_soma_36\n",
      "Doing skeleton surface reconstruction\n",
      "\n",
      "\n",
      "Working on 104726695973782750_non_soma_37\n",
      "Doing skeleton surface reconstruction\n",
      "\n",
      "\n",
      "\n",
      "Working on 104726695973782750_non_soma_38\n",
      "Doing skeleton surface reconstruction\n",
      "\n",
      "\n",
      "Working on 104726695973782750_non_soma_39\n",
      "Doing skeleton surface reconstruction\n",
      "\n",
      "\n",
      "Working on 104726695973782750_non_soma_40\n",
      "Doing skeleton surface reconstruction\n",
      "\n",
      "\n",
      "Working on 104726695973782750_non_soma_41\n",
      "Doing skeleton surface reconstruction\n",
      "\n",
      "\n",
      "Working on 104726695973782750_non_soma_42\n",
      "Doing skeleton surface reconstruction\n",
      "Time for non-soma skeletons = 265.3818120956421\n",
      "only one skeleton so no stacking needed\n",
      "len_subgraphs AT BEGINNING of the loop\n"
     ]
    },
    {
     "data": {
      "application/vnd.jupyter.widget-view+json": {
       "model_id": "588a798fd5e14db6a33226280f45e652",
       "version_major": 2,
       "version_minor": 0
      },
      "text/plain": [
       "HBox(children=(FloatProgress(value=0.0, max=44.0), HTML(value='')))"
      ]
     },
     "metadata": {},
     "output_type": "display_data"
    },
    {
     "name": "stdout",
     "output_type": "stream",
     "text": [
      "all graph is one component!\n",
      "\n",
      "Total time for skeleton stitching = 0.8739910125732422\n",
      "Using Distance measure skeletal_distance\n"
     ]
    },
    {
     "data": {
      "application/vnd.jupyter.widget-view+json": {
       "model_id": "8d3b4e018f354647a9b5ca2cbb8af1b7",
       "version_major": 2,
       "version_minor": 0
      },
      "text/plain": [
       "HBox(children=(FloatProgress(value=0.0, max=1000.0), HTML(value='')))"
      ]
     },
     "metadata": {},
     "output_type": "display_data"
    },
    {
     "name": "stdout",
     "output_type": "stream",
     "text": [
      "Total time for skeleton clean 37.78941369056702\n",
      "\n",
      "\n",
      "\n",
      "\n",
      "Total time for whole skeletonization of neuron = 542.1434164047241\n"
     ]
    }
   ],
   "source": [
    "current_mesh = trimesh.load_mesh(\"Darren.off\")\n",
    "new_skeleton = sk.skeletonize_neuron(current_mesh,\n",
    "                     segment_id=104726695973782750\n",
    "                     )"
   ]
  },
  {
   "cell_type": "code",
   "execution_count": 3,
   "metadata": {},
   "outputs": [
    {
     "name": "stderr",
     "output_type": "stream",
     "text": [
      "/usr/local/lib/python3.6/dist-packages/traittypes/traittypes.py:101: UserWarning: Given trait value dtype \"float64\" does not match required type \"float64\". A coerced copy has been created.\n",
      "  np.dtype(self.dtype).name))\n"
     ]
    },
    {
     "data": {
      "application/vnd.jupyter.widget-view+json": {
       "model_id": "7455374f9fd44e22a8c4a62358466b2d",
       "version_major": 2,
       "version_minor": 0
      },
      "text/plain": [
       "VBox(children=(Figure(camera=PerspectiveCamera(fov=46.0, position=(0.0, 0.0, 2.0), quaternion=(0.0, 0.0, 0.0, …"
      ]
     },
     "metadata": {},
     "output_type": "display_data"
    }
   ],
   "source": [
    "sk.graph_skeleton_and_mesh(current_mesh.vertices,\n",
    "                          current_mesh.faces,\n",
    "                          edge_coordinates=new_skeleton,\n",
    "                          html_path=\"./Daren_500.html\")"
   ]
  },
  {
   "cell_type": "code",
   "execution_count": null,
   "metadata": {},
   "outputs": [],
   "source": []
  }
 ],
 "metadata": {
  "kernelspec": {
   "display_name": "Python 3",
   "language": "python",
   "name": "python3"
  },
  "language_info": {
   "codemirror_mode": {
    "name": "ipython",
    "version": 3
   },
   "file_extension": ".py",
   "mimetype": "text/x-python",
   "name": "python",
   "nbconvert_exporter": "python",
   "pygments_lexer": "ipython3",
   "version": "3.6.9"
  }
 },
 "nbformat": 4,
 "nbformat_minor": 4
}
