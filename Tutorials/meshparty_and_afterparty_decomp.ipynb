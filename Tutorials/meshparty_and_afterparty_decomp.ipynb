{
 "cells": [
  {
   "cell_type": "code",
   "execution_count": 1,
   "metadata": {},
   "outputs": [
    {
     "data": {
      "text/plain": [
       "'\\nPurpose: To make sure the decomposition of a neuron \\nstill works even after all of the changes\\n\\n'"
      ]
     },
     "execution_count": 1,
     "metadata": {},
     "output_type": "execute_result"
    }
   ],
   "source": [
    "\"\"\"\n",
    "Purpose: To make sure the decomposition of a neuron \n",
    "still works even after all of the changes\n",
    "\n",
    "\"\"\""
   ]
  },
  {
   "cell_type": "code",
   "execution_count": 1,
   "metadata": {},
   "outputs": [],
   "source": [
    "from os import sys\n",
    "sys.path.append(\"/meshAfterParty/\")"
   ]
  },
  {
   "cell_type": "code",
   "execution_count": 2,
   "metadata": {},
   "outputs": [
    {
     "name": "stderr",
     "output_type": "stream",
     "text": [
      "WARNING:root:Need to pip install annotationframeworkclient to repair mesh with pychunkedgraph\n",
      "WARNING:root:Need to pip install annotationframeworkclient to use dataset_name parameters\n"
     ]
    }
   ],
   "source": [
    "from importlib import reload\n",
    "import os\n",
    "from pathlib import Path\n",
    "os.getcwd()\n",
    "\n",
    "import neuron_utils as nru\n",
    "nru = reload(nru)\n",
    "import neuron\n",
    "neuron=reload(neuron)\n",
    "import neuron_visualizations as nviz\n",
    "import time\n",
    "import system_utils as su"
   ]
  },
  {
   "cell_type": "code",
   "execution_count": 3,
   "metadata": {},
   "outputs": [],
   "source": [
    "su.compressed_pickle?"
   ]
  },
  {
   "cell_type": "markdown",
   "metadata": {},
   "source": [
    "# Loading in Excitatory Neuron"
   ]
  },
  {
   "cell_type": "code",
   "execution_count": 4,
   "metadata": {},
   "outputs": [],
   "source": [
    "# import trimesh_utils as tu\n",
    "# mesh_file_path = Path(\"/notebooks/test_neurons/spine_detection/100917645171610430_excitatory_8.off\")\n",
    "# mesh_file_path.exists()\n",
    "# current_neuron_mesh = tu.load_mesh_no_processing(str(mesh_file_path.absolute()))"
   ]
  },
  {
   "cell_type": "code",
   "execution_count": 5,
   "metadata": {},
   "outputs": [],
   "source": [
    "# file_parts = str(mesh_file_path.name)[:-4].split(\"_\")\n",
    "\n",
    "# segment_id=int(file_parts[0])\n",
    "# description = \"_\".join(file_parts[1:])\n",
    "# segment_id,description"
   ]
  },
  {
   "cell_type": "code",
   "execution_count": 6,
   "metadata": {},
   "outputs": [],
   "source": [
    "# import soma_extraction_utils as sm\n",
    "\n",
    "# somas = sm.extract_soma_center(segment_id,\n",
    "#                              current_neuron_mesh.vertices,\n",
    "#                              current_neuron_mesh.faces)"
   ]
  },
  {
   "cell_type": "code",
   "execution_count": 7,
   "metadata": {},
   "outputs": [],
   "source": [
    "# import time\n",
    "# meshparty_time = time.time()\n",
    "# import compartment_utils as cu\n",
    "# cu = reload(cu)\n",
    "\n",
    "# import meshparty_skeletonize as m_sk\n",
    "# import preprocess_neuron as pn\n",
    "# pn = reload(pn)\n",
    "# m_sk = reload(m_sk)\n",
    "# import skeleton_utils as sk\n",
    "# sk = reload(sk)\n",
    "# import trimesh_utils as tu\n",
    "# tu = reload(tu)\n",
    "# import networkx as xu\n",
    "# xu = reload(xu)\n",
    "\n",
    "# somas = somas\n",
    "\n",
    "# nru = reload(nru)\n",
    "# neuron = reload(neuron)\n",
    "# current_neuron = neuron.Neuron(\n",
    "#     mesh=current_neuron_mesh,\n",
    "#     segment_id=segment_id,\n",
    "#     description=description,\n",
    "#     decomposition_type=\"meshafterparty\",\n",
    "#     somas = somas,\n",
    "#     #branch_skeleton_data=branch_skeleton_data,\n",
    "#     suppress_preprocessing_print=True,\n",
    "# )\n",
    "# print(f\"Total time for processing: {time.time() - meshparty_time}\")\n",
    "\n",
    "\n",
    "\n"
   ]
  },
  {
   "cell_type": "code",
   "execution_count": 8,
   "metadata": {},
   "outputs": [],
   "source": [
    "# nviz.visualize_neuron(current_neuron,\n",
    "#                      visualize_type=[\"mesh\",\"skeleton\"],\n",
    "#                      limb_branch_dict=\"all\",\n",
    "#                      mesh_resolution=\"limb\",\n",
    "#                      skeleton_resolution=\"limb\")"
   ]
  },
  {
   "cell_type": "code",
   "execution_count": 9,
   "metadata": {},
   "outputs": [],
   "source": [
    "# nviz.visualize_neuron(current_neuron,\n",
    "#                      visualize_type=[\"mesh\"],\n",
    "#                      limb_branch_dict=\"all\",\n",
    "#                      mesh_resolution=\"branch\",\n",
    "#                      skeleton_resolution=\"branch\")"
   ]
  },
  {
   "cell_type": "markdown",
   "metadata": {},
   "source": [
    "# Testing MeshParty on Inhibitory Neuron"
   ]
  },
  {
   "cell_type": "code",
   "execution_count": 10,
   "metadata": {},
   "outputs": [],
   "source": [
    "import trimesh_utils as tu\n",
    "mesh_file_path = Path(\"/examples/test_neurons/inhibitory_excitatory/90725377802114822_inhibitory_7.off\")\n",
    "mesh_file_path.exists()\n",
    "current_neuron_mesh = tu.load_mesh_no_processing(str(mesh_file_path.absolute()))"
   ]
  },
  {
   "cell_type": "code",
   "execution_count": 11,
   "metadata": {},
   "outputs": [
    {
     "name": "stderr",
     "output_type": "stream",
     "text": [
      "/usr/local/lib/python3.6/dist-packages/traittypes/traittypes.py:101: UserWarning: Given trait value dtype \"float64\" does not match required type \"float64\". A coerced copy has been created.\n",
      "  np.dtype(self.dtype).name))\n"
     ]
    },
    {
     "data": {
      "application/vnd.jupyter.widget-view+json": {
       "model_id": "c2adcfa527bc48189fd955fdf530e671",
       "version_major": 2,
       "version_minor": 0
      },
      "text/plain": [
       "VBox(children=(Figure(camera=PerspectiveCamera(fov=46.0, position=(0.0, 0.0, 2.0), quaternion=(0.0, 0.0, 0.0, …"
      ]
     },
     "metadata": {},
     "output_type": "display_data"
    }
   ],
   "source": [
    "import skeleton_utils as sk\n",
    "sk.graph_skeleton_and_mesh(other_meshes=[current_neuron_mesh])"
   ]
  },
  {
   "cell_type": "code",
   "execution_count": 12,
   "metadata": {},
   "outputs": [
    {
     "data": {
      "text/plain": [
       "(90725377802114822, 'inhibitory_7')"
      ]
     },
     "execution_count": 12,
     "metadata": {},
     "output_type": "execute_result"
    }
   ],
   "source": [
    "file_parts = str(mesh_file_path.name)[:-4].split(\"_\")\n",
    "\n",
    "segment_id=int(file_parts[0])\n",
    "description = \"_\".join(file_parts[1:])\n",
    "segment_id,description"
   ]
  },
  {
   "cell_type": "code",
   "execution_count": 13,
   "metadata": {},
   "outputs": [
    {
     "name": "stdout",
     "output_type": "stream",
     "text": [
      "Current Arguments Using (adjusted for decimation):\n",
      " large_mesh_threshold= 15000.0 \n",
      "large_mesh_threshold_inner = 10000.0 \n",
      "soma_size_threshold = 1250.0 \n",
      "soma_size_threshold_max = 12000.0\n",
      "outer_decimation_ratio = 0.25\n",
      "inner_decimation_ratio = 0.25\n",
      "IN INPUT FILE VALIDATION LOOP\n",
      "LEAVING LOOP, MESH VALIDATED\n",
      "Using port = 6484\n",
      "xvfb-run -n 6484 -s \"-screen 0 800x600x24\" meshlabserver $@  -i /examples/90725377802114822/neuron_90725377802114822.off -o /examples/90725377802114822/neuron_90725377802114822_decimated.off -s /examples/90725377802114822/decimation_meshlab_25954327.mls\n",
      "Total found significant pieces before Poisson = [<trimesh.Trimesh(vertices.shape=(14574, 3), faces.shape=(29448, 3))>]\n",
      "----- working on large mesh #0: <trimesh.Trimesh(vertices.shape=(14574, 3), faces.shape=(29448, 3))>\n",
      "pre_largest_mesh_path = /examples/90725377802114822/neuron_90725377802114822_decimated_largest_piece.off\n",
      "IN INPUT FILE VALIDATION LOOP\n",
      "LEAVING LOOP, MESH VALIDATED\n",
      "Using port = 1682\n",
      "xvfb-run -n 1682 -s \"-screen 0 800x600x24\" meshlabserver $@  -i /examples/90725377802114822/neuron_90725377802114822_decimated_largest_piece.off -o /examples/90725377802114822/neuron_90725377802114822_decimated_largest_piece_poisson.off -s /examples/90725377802114822/poisson_588193.mls\n"
     ]
    },
    {
     "name": "stderr",
     "output_type": "stream",
     "text": [
      "WARNING:trimesh:face_normals all zero, ignoring!\n",
      "WARNING:trimesh:face_normals all zero, ignoring!\n",
      "WARNING:trimesh:face_normals all zero, ignoring!\n",
      "WARNING:trimesh:face_normals all zero, ignoring!\n",
      "WARNING:trimesh:face_normals all zero, ignoring!\n",
      "WARNING:trimesh:face_normals all zero, ignoring!\n",
      "WARNING:trimesh:face_normals all zero, ignoring!\n",
      "WARNING:trimesh:face_normals all zero, ignoring!\n"
     ]
    },
    {
     "name": "stdout",
     "output_type": "stream",
     "text": [
      "Total found significant pieces AFTER Poisson = [<trimesh.Trimesh(vertices.shape=(15240, 3), faces.shape=(30476, 3))>]\n",
      "----- working on mesh after poisson #0: <trimesh.Trimesh(vertices.shape=(15240, 3), faces.shape=(30476, 3))>\n",
      "IN INPUT FILE VALIDATION LOOP\n",
      "LEAVING LOOP, MESH VALIDATED\n",
      "Using port = 1138\n",
      "xvfb-run -n 1138 -s \"-screen 0 800x600x24\" meshlabserver $@  -i /examples/90725377802114822/neuron_90725377802114822_decimated_largest_piece_poisson_largest_inner.off -o /examples/90725377802114822/neuron_90725377802114822_decimated_largest_piece_poisson_largest_inner_decimated.off -s /examples/90725377802114822/decimation_meshlab_25193614.mls\n",
      "done exporting decimated mesh: neuron_90725377802114822_decimated_largest_piece_poisson_largest_inner.off\n",
      "1) Starting: Mesh importing and Pymesh fix\n",
      "loading mesh from vertices and triangles array\n",
      "1) Finished: Mesh importing and Pymesh fix: 0.00042819976806640625\n",
      "2) Staring: Generating CGAL segmentation for neuron\n",
      "Done writing OFF file\n",
      "\n",
      "Starting CGAL segmentation\n",
      "Right before cgal segmentation, clusters = 3, smoothness = 0.2, path_and_filename = /examples/temp/9072537780211482200_fixed \n",
      "1\n",
      "Finished CGAL segmentation algorithm: 0.7744326591491699\n",
      "2) Finished: Generating CGAL segmentation for neuron: 1.0106563568115234\n",
      "3) Staring: Generating Graph Structure and Identifying Soma using soma size threshold  = 3000\n",
      "my_list_keys = [0, 1, 2, 3, 4, 5, 6, 7, 8]\n",
      "soma_index = -1\n",
      "3) Finished: Generating Graph Structure and Identifying Soma: 0.0033941268920898438\n",
      "Not finding the apical because soma_only option selected\n",
      "6) Staring: Classifying Entire Neuron\n",
      "Total Labels found = {'unsure'}\n",
      "6) Finished: Classifying Entire Neuron: 8.630752563476562e-05\n",
      "7) Staring: Transfering Segmentation Labels to Face Labels\n",
      "7) Finished: Transfering Segmentation Labels to Face Labels: 0.008363485336303711\n",
      "8) Staring: Generating final Vertex and Face Labels\n",
      "8) Finished: Generating final Vertex and Face Labels: 0.055140018463134766\n",
      "Returning the soma_sdf value AND the classifier\n",
      "soma_sdf_value = 0\n",
      "segmentation[sorted_medians],median_values[sorted_medians] = (array([0, 6, 3, 5, 7, 4, 2, 1, 8]), array([0.8903285 , 0.503604  , 0.217541  , 0.1099245 , 0.08258765,\n",
      "       0.0798485 , 0.075388  , 0.0738739 , 0.06830305]))\n",
      "Sizes = [2820, 529, 400, 652, 640, 239, 485, 999, 854]\n",
      "valid_soma_segments_width\n",
      "      ------ Found 1 viable somas: [0]\n",
      "Using Poisson Surface Reconstruction to make mesh watertight\n",
      "IN INPUT FILE VALIDATION LOOP\n",
      "LEAVING LOOP, MESH VALIDATED\n",
      "Using port = 6300\n",
      "xvfb-run -n 6300 -s \"-screen 0 800x600x24\" meshlabserver $@  -i /examples/Poisson_temp/neuron_579682.off -o /examples/Poisson_temp/neuron_579682_poisson.off -s /examples/Poisson_temp/poisson_807972.mls\n"
     ]
    },
    {
     "name": "stderr",
     "output_type": "stream",
     "text": [
      "WARNING:trimesh:face_normals all zero, ignoring!\n",
      "WARNING:trimesh:face_normals all zero, ignoring!\n",
      "WARNING:trimesh:face_normals all zero, ignoring!\n",
      "WARNING:trimesh:face_normals all zero, ignoring!\n",
      "WARNING:trimesh:face_normals all zero, ignoring!\n",
      "WARNING:trimesh:face_normals all zero, ignoring!\n",
      "WARNING:trimesh:face_normals all zero, ignoring!\n",
      "WARNING:trimesh:face_normals all zero, ignoring!\n",
      "WARNING:trimesh:face_normals all zero, ignoring!\n"
     ]
    },
    {
     "name": "stdout",
     "output_type": "stream",
     "text": [
      "removed temporary input file: /examples/Poisson_temp/neuron_579682.off\n",
      "removed temporary output file: /examples/Poisson_temp/neuron_579682_poisson.off\n",
      "/examples/Poisson_temp/poisson_807972.mls is being deleted....\n",
      "Inside sphere validater: ratio_val = 2.151418464605979\n",
      "\n",
      "\n",
      "\n",
      " Total time for run = 24.64240336418152\n",
      "Before Filtering the number of somas found = 1\n",
      "Performing Soma Mesh Backtracking to original mesh\n",
      "# total split meshes = 8\n",
      "viable_meshes = [0]\n",
      "There were 7 pieces found after size threshold\n",
      "# of soma containing seperate meshes = 1\n",
      "meshes with somas = {0: [0]}\n",
      "\n",
      "\n",
      "----Working on soma-containing mesh piece 0----\n",
      "current_soma_mesh_list = [<trimesh.Trimesh(vertices.shape=(1439, 3), faces.shape=(2820, 3))>]\n",
      "current_mesh = <trimesh.Trimesh(vertices.shape=(14574, 3), faces.shape=(29448, 3))>\n",
      "\n",
      "inside Soma subtraction\n",
      "mesh pieces in subtact soma BEFORE the filtering inside pieces = [<trimesh.Trimesh(vertices.shape=(4575, 3), faces.shape=(9187, 3))>, <trimesh.Trimesh(vertices.shape=(3798, 3), faces.shape=(7597, 3))>, <trimesh.Trimesh(vertices.shape=(1917, 3), faces.shape=(3831, 3))>, <trimesh.Trimesh(vertices.shape=(737, 3), faces.shape=(1467, 3))>, <trimesh.Trimesh(vertices.shape=(318, 3), faces.shape=(643, 3))>]\n",
      "There were 5 pieces found after size threshold\n",
      "mesh pieces in subtact soma AFTER the filtering inside pieces = [<trimesh.Trimesh(vertices.shape=(4575, 3), faces.shape=(9187, 3))>, <trimesh.Trimesh(vertices.shape=(3798, 3), faces.shape=(7597, 3))>, <trimesh.Trimesh(vertices.shape=(1917, 3), faces.shape=(3831, 3))>, <trimesh.Trimesh(vertices.shape=(737, 3), faces.shape=(1467, 3))>, <trimesh.Trimesh(vertices.shape=(318, 3), faces.shape=(643, 3))>]\n",
      "Total Time for soma mesh cancellation = 0.161\n",
      "mesh_pieces_without_soma = [<trimesh.Trimesh(vertices.shape=(4575, 3), faces.shape=(9187, 3))>, <trimesh.Trimesh(vertices.shape=(3798, 3), faces.shape=(7597, 3))>, <trimesh.Trimesh(vertices.shape=(1917, 3), faces.shape=(3831, 3))>, <trimesh.Trimesh(vertices.shape=(737, 3), faces.shape=(1467, 3))>, <trimesh.Trimesh(vertices.shape=(318, 3), faces.shape=(643, 3))>]\n",
      "Total time for Subtract Soam = 0.16100478172302246\n",
      "mesh_pieces_without_soma_stacked = <trimesh.Trimesh(vertices.shape=(11345, 3), faces.shape=(22725, 3))>\n",
      "Total time for Original_mesh_faces_map for mesh_pieces without soma= 0.01932382583618164\n",
      "soma_faces = [    2     5     6 ... 25803 25804 25985]\n",
      "soma_meshes = <trimesh.Trimesh(vertices.shape=(3352, 3), faces.shape=(6723, 3))>\n",
      "poisson_backtrack_distance_threshold = None\n",
      "Using Poisson Surface Reconstruction to make mesh watertight\n",
      "IN INPUT FILE VALIDATION LOOP\n",
      "LEAVING LOOP, MESH VALIDATED\n",
      "Using port = 5078\n",
      "xvfb-run -n 5078 -s \"-screen 0 800x600x24\" meshlabserver $@  -i /examples/Poisson_temp/neuron_879324.off -o /examples/Poisson_temp/neuron_879324_poisson.off -s /examples/Poisson_temp/poisson_137611.mls\n"
     ]
    },
    {
     "name": "stderr",
     "output_type": "stream",
     "text": [
      "WARNING:trimesh:face_normals all zero, ignoring!\n"
     ]
    },
    {
     "name": "stdout",
     "output_type": "stream",
     "text": [
      "removed temporary input file: /examples/Poisson_temp/neuron_879324.off\n",
      "removed temporary output file: /examples/Poisson_temp/neuron_879324_poisson.off\n",
      "/examples/Poisson_temp/poisson_137611.mls is being deleted....\n",
      "Inside sphere validater: ratio_val = 2.318033995997825\n"
     ]
    }
   ],
   "source": [
    "import soma_extraction_utils as sm\n",
    "\n",
    "somas_inh = sm.extract_soma_center(segment_id,\n",
    "                             current_neuron_mesh.vertices,\n",
    "                             current_neuron_mesh.faces)"
   ]
  },
  {
   "cell_type": "code",
   "execution_count": 14,
   "metadata": {},
   "outputs": [
    {
     "name": "stdout",
     "output_type": "stream",
     "text": [
      "--- 0) Having to preprocess the Neuron becuase no preprocessed data\n",
      "Please wait this could take a while.....\n",
      "--- 0) Total time for preprocessing: 6.54728889465332\n",
      "\n",
      "\n",
      "\n",
      "\n",
      "--- 1) Finished unpacking preprocessed materials: 4.291534423828125e-06\n",
      "total_edges = [['S0', 'L0'], ['S0', 'L1'], ['S0', 'L2'], ['S0', 'L3'], ['S0', 'L4']]\n",
      "--- 2) Finished creating neuron connectivity graph: 0.00045800209045410156\n",
      "Having to generate soma_meshes_face_idx because none in preprocessed data\n",
      "--- 3a) Finshed generating soma_meshes_face_idx: 0.1341075897216797\n",
      "Using Poisson Surface Reconstruction to make mesh watertight\n",
      "IN INPUT FILE VALIDATION LOOP\n",
      "LEAVING LOOP, MESH VALIDATED\n",
      "Using port = 1943\n",
      "xvfb-run -n 1943 -s \"-screen 0 800x600x24\" meshlabserver $@  -i /examples/Poisson_temp/neuron_794185.off -o /examples/Poisson_temp/neuron_794185_poisson.off -s /examples/Poisson_temp/poisson_408109.mls\n"
     ]
    },
    {
     "name": "stderr",
     "output_type": "stream",
     "text": [
      "WARNING:trimesh:face_normals all zero, ignoring!\n",
      "WARNING:trimesh:face_normals all zero, ignoring!\n",
      "WARNING:trimesh:face_normals all zero, ignoring!\n",
      "WARNING:trimesh:face_normals all zero, ignoring!\n",
      "WARNING:trimesh:face_normals all zero, ignoring!\n",
      "WARNING:trimesh:face_normals all zero, ignoring!\n",
      "WARNING:trimesh:face_normals all zero, ignoring!\n",
      "WARNING:trimesh:face_normals all zero, ignoring!\n",
      "WARNING:trimesh:face_normals all zero, ignoring!\n",
      "WARNING:trimesh:face_normals all zero, ignoring!\n",
      "WARNING:trimesh:face_normals all zero, ignoring!\n",
      "WARNING:trimesh:face_normals all zero, ignoring!\n",
      "WARNING:trimesh:face_normals all zero, ignoring!\n"
     ]
    },
    {
     "name": "stdout",
     "output_type": "stream",
     "text": [
      "removed temporary input file: /examples/Poisson_temp/neuron_794185.off\n",
      "removed temporary output file: /examples/Poisson_temp/neuron_794185_poisson.off\n",
      "/examples/Poisson_temp/poisson_408109.mls is being deleted....\n",
      "--- 3) Finshed generating soma objects and adding them to concept graph: 10.45993423461914\n",
      "--- 4a) Finshed generating curr_limb_meshes_face_idx: 0.6323275566101074\n",
      "curr_limb_concept_networks= {0: <networkx_utils.GraphOrderedEdges object at 0x7f19a6cf8940>}\n",
      "concept_network_dict = {0: <networkx_utils.GraphOrderedEdges object at 0x7f19a6cf8940>}\n",
      "checking and resolving cycles\n",
      "No cycles to fix\n",
      "curr_limb_concept_networks= {0: <networkx_utils.GraphOrderedEdges object at 0x7f19a4c521d0>}\n",
      "concept_network_dict = {0: <networkx_utils.GraphOrderedEdges object at 0x7f19a4c521d0>}\n",
      "checking and resolving cycles\n",
      "No cycles to fix\n",
      "curr_limb_concept_networks= {0: <networkx_utils.GraphOrderedEdges object at 0x7f19a4c52f60>}\n",
      "concept_network_dict = {0: <networkx_utils.GraphOrderedEdges object at 0x7f19a4c52f60>}\n",
      "checking and resolving cycles\n",
      "No cycles to fix\n",
      "curr_limb_concept_networks= {0: <networkx_utils.GraphOrderedEdges object at 0x7f1a0810e9b0>}\n",
      "concept_network_dict = {0: <networkx_utils.GraphOrderedEdges object at 0x7f1a0810e9b0>}\n",
      "Concept graph size was 1 or less so returning original\n",
      "curr_limb_concept_networks= {0: <networkx_utils.GraphOrderedEdges object at 0x7f19a6cf8cc0>}\n",
      "concept_network_dict = {0: <networkx_utils.GraphOrderedEdges object at 0x7f19a6cf8cc0>}\n",
      "Concept graph size was 1 or less so returning original\n",
      "--- 4) Finshed generating Limb objects and adding them to concept graph: 0.1610431671142578\n",
      "--- 5) SKIPPING Doing the adaptive mesh correspondence on the meshparty preprocessing ---\n",
      "--- 6) SKIPPING Using the computed_attribute_dict to populate neuron attributes ---\n",
      "Total time for neuron instance creation = 17.936715841293335\n",
      "Total time for processing: 17.993884086608887\n"
     ]
    }
   ],
   "source": [
    "import time\n",
    "meshparty_time = time.time()\n",
    "import compartment_utils as cu\n",
    "cu = reload(cu)\n",
    "\n",
    "import meshparty_skeletonize as m_sk\n",
    "import preprocess_neuron as pn\n",
    "pn = reload(pn)\n",
    "m_sk = reload(m_sk)\n",
    "import skeleton_utils as sk\n",
    "sk = reload(sk)\n",
    "import trimesh_utils as tu\n",
    "tu = reload(tu)\n",
    "import networkx as xu\n",
    "xu = reload(xu)\n",
    "\n",
    "\n",
    "\n",
    "nru = reload(nru)\n",
    "neuron = reload(neuron)\n",
    "current_neuron_inh = neuron.Neuron(\n",
    "    mesh=current_neuron_mesh,\n",
    "    segment_id=segment_id,\n",
    "    description=description,\n",
    "    decomposition_type=\"meshparty\",\n",
    "    somas = somas_inh,\n",
    "    #branch_skeleton_data=branch_skeleton_data,\n",
    "    suppress_preprocessing_print=True,\n",
    ")\n",
    "print(f\"Total time for processing: {time.time() - meshparty_time}\")\n",
    "\n",
    "\n",
    "\n"
   ]
  },
  {
   "cell_type": "code",
   "execution_count": 15,
   "metadata": {},
   "outputs": [
    {
     "name": "stdout",
     "output_type": "stream",
     "text": [
      "\n",
      " Working on visualization type: mesh\n",
      "\n",
      " Working on visualization type: skeleton\n"
     ]
    },
    {
     "data": {
      "application/vnd.jupyter.widget-view+json": {
       "model_id": "e0f67c1a6e2641f8b04cfa6f9ede5b9f",
       "version_major": 2,
       "version_minor": 0
      },
      "text/plain": [
       "VBox(children=(Figure(camera=PerspectiveCamera(fov=46.0, position=(0.0, 0.0, 2.0), quaternion=(0.0, 0.0, 0.0, …"
      ]
     },
     "metadata": {},
     "output_type": "display_data"
    }
   ],
   "source": [
    "nviz.visualize_neuron(current_neuron_inh,\n",
    "                     visualize_type=[\"mesh\",\"skeleton\"],\n",
    "                     limb_branch_dict=\"all\",\n",
    "                     mesh_resolution=\"branch\",\n",
    "                     skeleton_resolution=\"branch\")"
   ]
  },
  {
   "cell_type": "markdown",
   "metadata": {},
   "source": [
    "# Testing MeshAfterParty On Inhibitory"
   ]
  },
  {
   "cell_type": "code",
   "execution_count": 16,
   "metadata": {},
   "outputs": [
    {
     "name": "stdout",
     "output_type": "stream",
     "text": [
      "--- 0) Having to preprocess the Neuron becuase no preprocessed data\n",
      "Please wait this could take a while.....\n"
     ]
    },
    {
     "data": {
      "application/vnd.jupyter.widget-view+json": {
       "model_id": "232d9fbfb6e847eea14d582211394a99",
       "version_major": 2,
       "version_minor": 0
      },
      "text/plain": [
       "HBox(children=(FloatProgress(value=1.0, bar_style='info', max=1.0), HTML(value='')))"
      ]
     },
     "metadata": {},
     "output_type": "display_data"
    },
    {
     "data": {
      "application/vnd.jupyter.widget-view+json": {
       "model_id": "308253ceab03428caf7dd262bb9b3caa",
       "version_major": 2,
       "version_minor": 0
      },
      "text/plain": [
       "HBox(children=(FloatProgress(value=0.0, max=6.0), HTML(value='')))"
      ]
     },
     "metadata": {},
     "output_type": "display_data"
    },
    {
     "data": {
      "application/vnd.jupyter.widget-view+json": {
       "model_id": "066ce0e2de5b473b9a030004a7028de6",
       "version_major": 2,
       "version_minor": 0
      },
      "text/plain": [
       "HBox(children=(FloatProgress(value=0.0, max=22.0), HTML(value='')))"
      ]
     },
     "metadata": {},
     "output_type": "display_data"
    },
    {
     "data": {
      "application/vnd.jupyter.widget-view+json": {
       "model_id": "63efa11cd87d4c2da02ca84f89b9206b",
       "version_major": 2,
       "version_minor": 0
      },
      "text/plain": [
       "HBox(children=(FloatProgress(value=0.0, max=5.0), HTML(value='')))"
      ]
     },
     "metadata": {},
     "output_type": "display_data"
    },
    {
     "data": {
      "application/vnd.jupyter.widget-view+json": {
       "model_id": "f0aa721013584551bb9632431c9cd696",
       "version_major": 2,
       "version_minor": 0
      },
      "text/plain": [
       "HBox(children=(FloatProgress(value=1.0, bar_style='info', max=1.0), HTML(value='')))"
      ]
     },
     "metadata": {},
     "output_type": "display_data"
    },
    {
     "data": {
      "application/vnd.jupyter.widget-view+json": {
       "model_id": "02744d81f0b743c994230bbfb734c225",
       "version_major": 2,
       "version_minor": 0
      },
      "text/plain": [
       "HBox(children=(FloatProgress(value=0.0, max=3.0), HTML(value='')))"
      ]
     },
     "metadata": {},
     "output_type": "display_data"
    },
    {
     "data": {
      "application/vnd.jupyter.widget-view+json": {
       "model_id": "9a1887b92e454d9ab812f4bd006aed69",
       "version_major": 2,
       "version_minor": 0
      },
      "text/plain": [
       "HBox(children=(FloatProgress(value=0.0, max=10.0), HTML(value='')))"
      ]
     },
     "metadata": {},
     "output_type": "display_data"
    },
    {
     "data": {
      "application/vnd.jupyter.widget-view+json": {
       "model_id": "d4057654defc400aaac2bef5d95ab913",
       "version_major": 2,
       "version_minor": 0
      },
      "text/plain": [
       "HBox(children=(FloatProgress(value=0.0, max=13.0), HTML(value='')))"
      ]
     },
     "metadata": {},
     "output_type": "display_data"
    },
    {
     "data": {
      "application/vnd.jupyter.widget-view+json": {
       "model_id": "df3073c34c3d47f7bfd00b092c45d5fa",
       "version_major": 2,
       "version_minor": 0
      },
      "text/plain": [
       "HBox(children=(FloatProgress(value=1.0, bar_style='info', max=1.0), HTML(value='')))"
      ]
     },
     "metadata": {},
     "output_type": "display_data"
    },
    {
     "data": {
      "application/vnd.jupyter.widget-view+json": {
       "model_id": "5016654b170d4d588e155578667000a7",
       "version_major": 2,
       "version_minor": 0
      },
      "text/plain": [
       "HBox(children=(FloatProgress(value=0.0, max=2.0), HTML(value='')))"
      ]
     },
     "metadata": {},
     "output_type": "display_data"
    },
    {
     "data": {
      "application/vnd.jupyter.widget-view+json": {
       "model_id": "c9b0def623364535903a074ceecaa8d4",
       "version_major": 2,
       "version_minor": 0
      },
      "text/plain": [
       "HBox(children=(FloatProgress(value=0.0, max=10.0), HTML(value='')))"
      ]
     },
     "metadata": {},
     "output_type": "display_data"
    },
    {
     "data": {
      "application/vnd.jupyter.widget-view+json": {
       "model_id": "bc873609bdc5432cbde1540945f9cc52",
       "version_major": 2,
       "version_minor": 0
      },
      "text/plain": [
       "HBox(children=(FloatProgress(value=0.0, max=3.0), HTML(value='')))"
      ]
     },
     "metadata": {},
     "output_type": "display_data"
    },
    {
     "data": {
      "application/vnd.jupyter.widget-view+json": {
       "model_id": "83234029e2074454bc08846951ec376a",
       "version_major": 2,
       "version_minor": 0
      },
      "text/plain": [
       "HBox(children=(FloatProgress(value=1.0, bar_style='info', max=1.0), HTML(value='')))"
      ]
     },
     "metadata": {},
     "output_type": "display_data"
    },
    {
     "data": {
      "application/vnd.jupyter.widget-view+json": {
       "model_id": "c5d8975241eb496f8bc1550e4710e9d6",
       "version_major": 2,
       "version_minor": 0
      },
      "text/plain": [
       "HBox(children=(FloatProgress(value=1.0, bar_style='info', max=1.0), HTML(value='')))"
      ]
     },
     "metadata": {},
     "output_type": "display_data"
    },
    {
     "data": {
      "application/vnd.jupyter.widget-view+json": {
       "model_id": "01b9da308b3a4e80ba87ff567bec8075",
       "version_major": 2,
       "version_minor": 0
      },
      "text/plain": [
       "HBox(children=(FloatProgress(value=0.0, max=2.0), HTML(value='')))"
      ]
     },
     "metadata": {},
     "output_type": "display_data"
    },
    {
     "data": {
      "application/vnd.jupyter.widget-view+json": {
       "model_id": "0573a98a13aa4428abeefb0c78a1c1c2",
       "version_major": 2,
       "version_minor": 0
      },
      "text/plain": [
       "HBox(children=(FloatProgress(value=0.0, max=1.0), HTML(value='')))"
      ]
     },
     "metadata": {},
     "output_type": "display_data"
    },
    {
     "data": {
      "application/vnd.jupyter.widget-view+json": {
       "model_id": "5f527ec59c5b48968aab7b16bd7c6690",
       "version_major": 2,
       "version_minor": 0
      },
      "text/plain": [
       "HBox(children=(FloatProgress(value=1.0, bar_style='info', max=1.0), HTML(value='')))"
      ]
     },
     "metadata": {},
     "output_type": "display_data"
    },
    {
     "data": {
      "application/vnd.jupyter.widget-view+json": {
       "model_id": "c3e32ea928144dd49c731e2e9e3f895f",
       "version_major": 2,
       "version_minor": 0
      },
      "text/plain": [
       "HBox(children=(FloatProgress(value=1.0, bar_style='info', max=1.0), HTML(value='')))"
      ]
     },
     "metadata": {},
     "output_type": "display_data"
    },
    {
     "data": {
      "application/vnd.jupyter.widget-view+json": {
       "model_id": "d8d12500c09b48a0aea7732bf9725779",
       "version_major": 2,
       "version_minor": 0
      },
      "text/plain": [
       "HBox(children=(FloatProgress(value=0.0, max=1.0), HTML(value='')))"
      ]
     },
     "metadata": {},
     "output_type": "display_data"
    },
    {
     "data": {
      "application/vnd.jupyter.widget-view+json": {
       "model_id": "6906bf75a8f3422780715f6e62e0d52d",
       "version_major": 2,
       "version_minor": 0
      },
      "text/plain": [
       "HBox(children=(FloatProgress(value=0.0, max=2.0), HTML(value='')))"
      ]
     },
     "metadata": {},
     "output_type": "display_data"
    },
    {
     "name": "stdout",
     "output_type": "stream",
     "text": [
      "--- 0) Total time for preprocessing: 100.29402256011963\n",
      "\n",
      "\n",
      "\n",
      "\n",
      "--- 1) Finished unpacking preprocessed materials: 6.9141387939453125e-06\n",
      "total_edges = [['S0', 'L0'], ['S0', 'L1'], ['S0', 'L2'], ['S0', 'L3'], ['S0', 'L4']]\n",
      "--- 2) Finished creating neuron connectivity graph: 0.00011491775512695312\n",
      "Having to generate soma_meshes_face_idx because none in preprocessed data\n",
      "--- 3a) Finshed generating soma_meshes_face_idx: 0.13638544082641602\n",
      "Using Poisson Surface Reconstruction to make mesh watertight\n",
      "IN INPUT FILE VALIDATION LOOP\n",
      "LEAVING LOOP, MESH VALIDATED\n",
      "Using port = 5644\n",
      "xvfb-run -n 5644 -s \"-screen 0 800x600x24\" meshlabserver $@  -i /examples/Poisson_temp/neuron_697660.off -o /examples/Poisson_temp/neuron_697660_poisson.off -s /examples/Poisson_temp/poisson_276191.mls\n"
     ]
    },
    {
     "name": "stderr",
     "output_type": "stream",
     "text": [
      "WARNING:trimesh:face_normals all zero, ignoring!\n",
      "WARNING:trimesh:face_normals all zero, ignoring!\n",
      "WARNING:trimesh:face_normals all zero, ignoring!\n",
      "WARNING:trimesh:face_normals all zero, ignoring!\n",
      "WARNING:trimesh:face_normals all zero, ignoring!\n",
      "WARNING:trimesh:face_normals all zero, ignoring!\n",
      "WARNING:trimesh:face_normals all zero, ignoring!\n",
      "WARNING:trimesh:face_normals all zero, ignoring!\n",
      "WARNING:trimesh:face_normals all zero, ignoring!\n"
     ]
    },
    {
     "name": "stdout",
     "output_type": "stream",
     "text": [
      "removed temporary input file: /examples/Poisson_temp/neuron_697660.off\n",
      "removed temporary output file: /examples/Poisson_temp/neuron_697660_poisson.off\n"
     ]
    },
    {
     "name": "stderr",
     "output_type": "stream",
     "text": [
      "WARNING:trimesh:face_normals all zero, ignoring!\n",
      "WARNING:trimesh:face_normals all zero, ignoring!\n",
      "WARNING:trimesh:face_normals all zero, ignoring!\n",
      "WARNING:trimesh:face_normals all zero, ignoring!\n"
     ]
    },
    {
     "name": "stdout",
     "output_type": "stream",
     "text": [
      "/examples/Poisson_temp/poisson_276191.mls is being deleted....\n",
      "--- 3) Finshed generating soma objects and adding them to concept graph: 11.870685338973999\n",
      "--- 4a) Finshed generating curr_limb_meshes_face_idx: 0.5963845252990723\n",
      "curr_limb_concept_networks= {0: <networkx_utils.GraphOrderedEdges object at 0x7f19a4ecbeb8>}\n",
      "concept_network_dict = {0: <networkx_utils.GraphOrderedEdges object at 0x7f19a4ecbeb8>}\n",
      "checking and resolving cycles\n",
      "No cycles to fix\n",
      "curr_limb_concept_networks= {0: <networkx_utils.GraphOrderedEdges object at 0x7f19a4c6f4a8>}\n",
      "concept_network_dict = {0: <networkx_utils.GraphOrderedEdges object at 0x7f19a4c6f4a8>}\n",
      "checking and resolving cycles\n",
      "No cycles to fix\n",
      "curr_limb_concept_networks= {0: <networkx_utils.GraphOrderedEdges object at 0x7f1992da1780>}\n",
      "concept_network_dict = {0: <networkx_utils.GraphOrderedEdges object at 0x7f1992da1780>}\n",
      "checking and resolving cycles\n",
      "No cycles to fix\n",
      "curr_limb_concept_networks= {0: <networkx_utils.GraphOrderedEdges object at 0x7f1992da1dd8>}\n",
      "concept_network_dict = {0: <networkx_utils.GraphOrderedEdges object at 0x7f1992da1dd8>}\n",
      "Concept graph size was 1 or less so returning original\n",
      "curr_limb_concept_networks= {0: <networkx_utils.GraphOrderedEdges object at 0x7f19a4c6f358>}\n",
      "concept_network_dict = {0: <networkx_utils.GraphOrderedEdges object at 0x7f19a4c6f358>}\n",
      "Concept graph size was 1 or less so returning original\n",
      "--- 4) Finshed generating Limb objects and adding them to concept graph: 0.08709430694580078\n",
      "--- 5) SKIPPING Doing the adaptive mesh correspondence on the meshparty preprocessing ---\n",
      "--- 6) SKIPPING Using the computed_attribute_dict to populate neuron attributes ---\n",
      "Total time for neuron instance creation = 112.98658609390259\n",
      "Total time for processing: 113.04507350921631\n"
     ]
    }
   ],
   "source": [
    "import time\n",
    "meshparty_time = time.time()\n",
    "import compartment_utils as cu\n",
    "cu = reload(cu)\n",
    "\n",
    "import meshparty_skeletonize as m_sk\n",
    "import preprocess_neuron as pn\n",
    "pn = reload(pn)\n",
    "m_sk = reload(m_sk)\n",
    "import skeleton_utils as sk\n",
    "sk = reload(sk)\n",
    "import trimesh_utils as tu\n",
    "tu = reload(tu)\n",
    "import networkx as xu\n",
    "xu = reload(xu)\n",
    "\n",
    "\n",
    "\n",
    "nru = reload(nru)\n",
    "neuron = reload(neuron)\n",
    "current_neuron_inh_MAP = neuron.Neuron(\n",
    "    mesh=current_neuron_mesh,\n",
    "    segment_id=segment_id,\n",
    "    description=description,\n",
    "    decomposition_type=\"meshafterparty\",\n",
    "    somas = somas_inh,\n",
    "    #branch_skeleton_data=branch_skeleton_data,\n",
    "    suppress_preprocessing_print=True,\n",
    ")\n",
    "print(f\"Total time for processing: {time.time() - meshparty_time}\")\n",
    "\n",
    "\n",
    "\n"
   ]
  },
  {
   "cell_type": "code",
   "execution_count": 17,
   "metadata": {},
   "outputs": [
    {
     "name": "stdout",
     "output_type": "stream",
     "text": [
      "\n",
      " Working on visualization type: mesh\n",
      "\n",
      " Working on visualization type: skeleton\n"
     ]
    },
    {
     "data": {
      "application/vnd.jupyter.widget-view+json": {
       "model_id": "b81f984001484967b10be262f1490a62",
       "version_major": 2,
       "version_minor": 0
      },
      "text/plain": [
       "VBox(children=(Figure(camera=PerspectiveCamera(fov=46.0, position=(0.0, 0.0, 2.0), quaternion=(0.0, 0.0, 0.0, …"
      ]
     },
     "metadata": {},
     "output_type": "display_data"
    }
   ],
   "source": [
    "nviz.visualize_neuron(current_neuron_inh_MAP,\n",
    "                     visualize_type=[\"mesh\",\"skeleton\"],\n",
    "                     limb_branch_dict=\"all\",\n",
    "                     mesh_resolution=\"branch\",\n",
    "                     skeleton_resolution=\"branch\")"
   ]
  },
  {
   "cell_type": "code",
   "execution_count": null,
   "metadata": {},
   "outputs": [],
   "source": [
    "curr"
   ]
  }
 ],
 "metadata": {
  "kernelspec": {
   "display_name": "Python 3",
   "language": "python",
   "name": "python3"
  },
  "language_info": {
   "codemirror_mode": {
    "name": "ipython",
    "version": 3
   },
   "file_extension": ".py",
   "mimetype": "text/x-python",
   "name": "python",
   "nbconvert_exporter": "python",
   "pygments_lexer": "ipython3",
   "version": "3.6.9"
  }
 },
 "nbformat": 4,
 "nbformat_minor": 4
}
