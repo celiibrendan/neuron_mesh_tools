{
 "cells": [
  {
   "cell_type": "code",
   "execution_count": 1,
   "metadata": {},
   "outputs": [
    {
     "data": {
      "text/plain": [
       "'\\nPurpose:\\nPractice how to learn do practical applications\\nwith the neuron processing\\n\\n\\n'"
      ]
     },
     "execution_count": 1,
     "metadata": {},
     "output_type": "execute_result"
    }
   ],
   "source": [
    "\"\"\"\n",
    "Purpose:\n",
    "Practice how to learn do practical applications\n",
    "with the neuron processing\n",
    "\n",
    "\n",
    "\"\"\""
   ]
  },
  {
   "cell_type": "markdown",
   "metadata": {},
   "source": [
    "# Importing Relevant Packages"
   ]
  },
  {
   "cell_type": "code",
   "execution_count": 2,
   "metadata": {},
   "outputs": [],
   "source": [
    "from os import sys\n",
    "sys.path.append(\"/meshAfterParty/\")"
   ]
  },
  {
   "cell_type": "code",
   "execution_count": 3,
   "metadata": {},
   "outputs": [
    {
     "name": "stderr",
     "output_type": "stream",
     "text": [
      "WARNING:root:Need to pip install annotationframeworkclient to repair mesh with pychunkedgraph\n",
      "WARNING:root:Need to pip install annotationframeworkclient to use dataset_name parameters\n"
     ]
    }
   ],
   "source": [
    "import soma_extraction_utils as sm\n",
    "import neuron\n",
    "import neuron_visualizations as nviz\n",
    "from pathlib import Path"
   ]
  },
  {
   "cell_type": "markdown",
   "metadata": {},
   "source": [
    "# ----------------- Application 1: Inhibitory vs Exctiatory ---------------"
   ]
  },
  {
   "cell_type": "code",
   "execution_count": null,
   "metadata": {},
   "outputs": [],
   "source": [
    "Path(\"../test_neurons/spine_detection/excitatory_meshafterparty/\")\n"
   ]
  },
  {
   "cell_type": "code",
   "execution_count": 19,
   "metadata": {},
   "outputs": [],
   "source": [
    "from pathlib import Path\n",
    "def strip_neuron_filename(neuron_path):\n",
    "    neuron_path = Path(neuron_path)\n",
    "    return \"_\".join(neuron_path.name.split(\"_\")[:3])"
   ]
  },
  {
   "cell_type": "markdown",
   "metadata": {},
   "source": [
    "# Excitatory Data"
   ]
  },
  {
   "cell_type": "code",
   "execution_count": 27,
   "metadata": {},
   "outputs": [
    {
     "data": {
      "text/plain": [
       "[PosixPath('../test_neurons/spine_detection/excitatory_meshafterparty/89309550087617165_excitatory_5_meshafterparty.pbz2'),\n",
       " PosixPath('../test_neurons/spine_detection/excitatory_meshafterparty/98887946639410170_excitatory_6_meshafterparty.pbz2'),\n",
       " PosixPath('../test_neurons/spine_detection/excitatory_meshafterparty/95442489112204099_excitatory_7_meshafterparty.pbz2'),\n",
       " PosixPath('../test_neurons/spine_detection/excitatory_meshafterparty/92700513338137592_excitatory_3_meshafterparty.pbz2'),\n",
       " PosixPath('../test_neurons/spine_detection/excitatory_meshafterparty/97626050552733538_excitatory_9_meshafterparty.pbz2'),\n",
       " PosixPath('../test_neurons/spine_detection/excitatory_meshafterparty/100917645171610430_excitatory_8_meshafterparty.pbz2')]"
      ]
     },
     "execution_count": 27,
     "metadata": {},
     "output_type": "execute_result"
    }
   ],
   "source": [
    "# getting all of the excitatory preprocessed neurons\n",
    "\n",
    "\n",
    "cell_type = \"excitatory\"\n",
    "\n",
    "curr_dir = Path(f\"../test_neurons/spine_detection/{cell_type}_meshafterparty/\")\n",
    "neuron_files = list(curr_dir.iterdir())\n",
    "excitatory_process_cell_files = [k for k in neuron_files if f\".pbz2\" in str(k)]\n",
    "excitatory_process_cell_files"
   ]
  },
  {
   "cell_type": "code",
   "execution_count": 28,
   "metadata": {},
   "outputs": [
    {
     "data": {
      "text/plain": [
       "[PosixPath('../test_neurons/spine_detection/89309550087617165_excitatory_5'),\n",
       " PosixPath('../test_neurons/spine_detection/98887946639410170_excitatory_6'),\n",
       " PosixPath('../test_neurons/spine_detection/95442489112204099_excitatory_7'),\n",
       " PosixPath('../test_neurons/spine_detection/92700513338137592_excitatory_3'),\n",
       " PosixPath('../test_neurons/spine_detection/97626050552733538_excitatory_9'),\n",
       " PosixPath('../test_neurons/spine_detection/100917645171610430_excitatory_8')]"
      ]
     },
     "execution_count": 28,
     "metadata": {},
     "output_type": "execute_result"
    }
   ],
   "source": [
    "excitatory_mesh_files = [Path(\"../test_neurons/spine_detection/\") / Path(strip_neuron_filename(k)) \n",
    "                         for k in excitatory_process_cell_files]\n",
    "excitatory_mesh_files"
   ]
  },
  {
   "cell_type": "code",
   "execution_count": 47,
   "metadata": {},
   "outputs": [
    {
     "name": "stdout",
     "output_type": "stream",
     "text": [
      "90083909\n",
      "36159681\n",
      "15498361\n",
      "15094439\n",
      "14430210\n",
      "66503149\n"
     ]
    }
   ],
   "source": [
    "import system_utils as su\n",
    "for e_file in excitatory_mesh_files:\n",
    "    print(su.get_file_size(str(e_file) + \".off\"))"
   ]
  },
  {
   "cell_type": "markdown",
   "metadata": {},
   "source": [
    "# Inhibitory Data"
   ]
  },
  {
   "cell_type": "code",
   "execution_count": 29,
   "metadata": {},
   "outputs": [
    {
     "data": {
      "text/plain": [
       "[PosixPath('../test_neurons/spine_detection/inhibitory_meshafterparty/100224677766544793_inhibitory_2_meshafterparty.pbz2'),\n",
       " PosixPath('../test_neurons/spine_detection/inhibitory_meshafterparty/90725377802114822_inhibitory_7_meshafterparty.pbz2'),\n",
       " PosixPath('../test_neurons/spine_detection/inhibitory_meshafterparty/91076260457105133_inhibitory_1_meshafterparty.pbz2')]"
      ]
     },
     "execution_count": 29,
     "metadata": {},
     "output_type": "execute_result"
    }
   ],
   "source": [
    "# getting all of the excitatory preprocessed neurons\n",
    "\n",
    "\n",
    "cell_type = \"inhibitory\"\n",
    "\n",
    "curr_dir = Path(f\"../test_neurons/spine_detection/{cell_type}_meshafterparty/\")\n",
    "neuron_files = list(curr_dir.iterdir())\n",
    "inhibitory_process_cell_files = [k for k in neuron_files if f\".pbz2\" in str(k)]\n",
    "inhibitory_process_cell_files"
   ]
  },
  {
   "cell_type": "code",
   "execution_count": 31,
   "metadata": {},
   "outputs": [
    {
     "data": {
      "text/plain": [
       "[PosixPath('../test_neurons/spine_detection/100224677766544793_inhibitory_2'),\n",
       " PosixPath('../test_neurons/spine_detection/90725377802114822_inhibitory_7'),\n",
       " PosixPath('../test_neurons/spine_detection/91076260457105133_inhibitory_1')]"
      ]
     },
     "execution_count": 31,
     "metadata": {},
     "output_type": "execute_result"
    }
   ],
   "source": [
    "inhibitory_mesh_files = [Path(\"../test_neurons/spine_detection/\") / Path(strip_neuron_filename(k)) \n",
    "                         for k in inhibitory_process_cell_files]\n",
    "inhibitory_mesh_files"
   ]
  },
  {
   "cell_type": "markdown",
   "metadata": {},
   "source": [
    "# Computing Spine Density"
   ]
  },
  {
   "cell_type": "code",
   "execution_count": 39,
   "metadata": {},
   "outputs": [],
   "source": [
    "import skeleton_utils as sk\n",
    "import neuron_utils as nru\n",
    "def compute_spine_density(current_neuron,\n",
    "                         verbose = True):\n",
    "    \"\"\"\n",
    "    Purpose: To compute the number of spines per skeleton segment length\n",
    "    for a certain decomposed cell (for each soma)\n",
    "    \n",
    "    Application: Discriminating between inhibitory and excitatory cells\n",
    "    \n",
    "    Pseudocode:\n",
    "    For each soma in the neuron:\n",
    "        0) Get all of the limbs that are touching the soma\n",
    "        1) Get total number of spines on all touching limbs\n",
    "        2) Get all skeletal length of touching limbs\n",
    "        3) Calculate the spine density\n",
    "    \n",
    "    Return a dictionary mapping soma id to n_spines/segment_length\n",
    "    \"\"\"\n",
    "\n",
    "    soma_idx_list = current_neuron.get_soma_node_names(int_label=True)\n",
    "    soma_to_spine_density = dict([(k,0) for k in soma_idx_list])\n",
    "    #For each soma in the neuron:\n",
    "    for sm_idx in soma_to_spine_density:\n",
    "        #0) Get all of the limbs that are touching the soma\n",
    "        curr_touching_limbs = current_neuron.get_limbs_touching_soma(sm_idx)\n",
    "        curr_total_spines = 0\n",
    "        curr_total_skeletal_length = 0\n",
    "        for l_idx in curr_touching_limbs:\n",
    "            curr_limb = current_neuron[l_idx]\n",
    "            #1) Get total number of spines on all touching limbs\n",
    "            curr_total_spines += len(curr_limb.spines)\n",
    "            \n",
    "            #2) Get all skeletal length of touching limbs\n",
    "            curr_total_skeletal_length += sk.calculate_skeleton_distance(curr_limb.skeleton)\n",
    "        \n",
    "        #3) Calculate the spine density\n",
    "        spine_density = curr_total_spines/curr_total_skeletal_length\n",
    "        if verbose:\n",
    "            print(f\"Soma_idx {sm_idx}: n_spines = {curr_total_spines},\"\n",
    "                  f\" skeletal_length = {curr_total_skeletal_length}, spine_density={spine_density}\")\n",
    "        soma_to_spine_density[sm_idx] = spine_density\n",
    "        \n",
    "    #Return a dictionary mapping soma id to n_spines/segment_length\n",
    "    return soma_to_spine_density"
   ]
  },
  {
   "cell_type": "markdown",
   "metadata": {},
   "source": [
    "# Getting Excitatory Spine Density"
   ]
  },
  {
   "cell_type": "code",
   "execution_count": 40,
   "metadata": {},
   "outputs": [
    {
     "name": "stdout",
     "output_type": "stream",
     "text": [
      "\n",
      "\n",
      "----- Working on ../test_neurons/spine_detection/excitatory_meshafterparty/89309550087617165_excitatory_5_meshafterparty.pbz2 -------\n",
      "Decompressing Neuron in minimal output mode...please wait\n",
      "Soma_idx 0: n_spines = 2566, skeletal_length = 6601029.838396014, spine_density=0.0003887272232999803\n",
      "Soma_idx 1: n_spines = 3724, skeletal_length = 9397451.851198383, spine_density=0.00039627763557257363\n",
      "Soma_idx 2: n_spines = 3350, skeletal_length = 7993082.478893886, spine_density=0.0004191124023611459\n",
      "Soma_idx 3: n_spines = 3244, skeletal_length = 8246551.236058918, spine_density=0.00039337656520161627\n",
      "\n",
      "\n",
      "----- Working on ../test_neurons/spine_detection/excitatory_meshafterparty/98887946639410170_excitatory_6_meshafterparty.pbz2 -------\n",
      "Decompressing Neuron in minimal output mode...please wait\n",
      "Soma_idx 0: n_spines = 883, skeletal_length = 5475102.147731724, spine_density=0.00016127552987587956\n",
      "\n",
      "\n",
      "----- Working on ../test_neurons/spine_detection/excitatory_meshafterparty/95442489112204099_excitatory_7_meshafterparty.pbz2 -------\n",
      "Decompressing Neuron in minimal output mode...please wait\n",
      "Soma_idx 0: n_spines = 774, skeletal_length = 1723975.535757783, spine_density=0.0004489622874258387\n",
      "\n",
      "\n",
      "----- Working on ../test_neurons/spine_detection/excitatory_meshafterparty/92700513338137592_excitatory_3_meshafterparty.pbz2 -------\n",
      "Decompressing Neuron in minimal output mode...please wait\n",
      "Soma_idx 0: n_spines = 526, skeletal_length = 1919468.9986478093, spine_density=0.00027403412108793963\n",
      "\n",
      "\n",
      "----- Working on ../test_neurons/spine_detection/excitatory_meshafterparty/97626050552733538_excitatory_9_meshafterparty.pbz2 -------\n",
      "Decompressing Neuron in minimal output mode...please wait\n",
      "Soma_idx 0: n_spines = 785, skeletal_length = 1656137.4589908517, spine_density=0.000473994471738071\n",
      "\n",
      "\n",
      "----- Working on ../test_neurons/spine_detection/excitatory_meshafterparty/100917645171610430_excitatory_8_meshafterparty.pbz2 -------\n",
      "Decompressing Neuron in minimal output mode...please wait\n",
      "Soma_idx 0: n_spines = 3285, skeletal_length = 6595487.469069708, spine_density=0.0004980678100603454\n",
      "Soma_idx 1: n_spines = 1780, skeletal_length = 5761530.3948788, spine_density=0.00030894569289822245\n"
     ]
    }
   ],
   "source": [
    "excitatory_spine_density = []\n",
    "for decomp_file,mesh_file in zip(excitatory_process_cell_files,excitatory_mesh_files):\n",
    "    print(f\"\\n\\n----- Working on {decomp_file} -------\")\n",
    "    n = nru.decompress_neuron(decomp_file,\n",
    "                                           original_mesh=mesh_file)\n",
    "    spine_density_mapping = compute_spine_density(current_neuron=n,\n",
    "                         verbose = True)\n",
    "    \n",
    "    excitatory_spine_density.append(spine_density_mapping)"
   ]
  },
  {
   "cell_type": "code",
   "execution_count": 41,
   "metadata": {},
   "outputs": [
    {
     "data": {
      "text/plain": [
       "[{0: 0.0003887272232999803,\n",
       "  1: 0.00039627763557257363,\n",
       "  2: 0.0004191124023611459,\n",
       "  3: 0.00039337656520161627},\n",
       " {0: 0.00016127552987587956},\n",
       " {0: 0.0004489622874258387},\n",
       " {0: 0.00027403412108793963},\n",
       " {0: 0.000473994471738071},\n",
       " {0: 0.0004980678100603454, 1: 0.00030894569289822245}]"
      ]
     },
     "execution_count": 41,
     "metadata": {},
     "output_type": "execute_result"
    }
   ],
   "source": [
    "excitatory_spine_density"
   ]
  },
  {
   "cell_type": "markdown",
   "metadata": {},
   "source": [
    "# Getting Inhibitory Spine Density"
   ]
  },
  {
   "cell_type": "code",
   "execution_count": 42,
   "metadata": {},
   "outputs": [
    {
     "name": "stdout",
     "output_type": "stream",
     "text": [
      "\n",
      "\n",
      "----- Working on ../test_neurons/spine_detection/inhibitory_meshafterparty/100224677766544793_inhibitory_2_meshafterparty.pbz2 -------\n",
      "Decompressing Neuron in minimal output mode...please wait\n",
      "Soma_idx 0: n_spines = 392, skeletal_length = 3945440.7023955313, spine_density=9.935518730822428e-05\n",
      "\n",
      "\n",
      "----- Working on ../test_neurons/spine_detection/inhibitory_meshafterparty/90725377802114822_inhibitory_7_meshafterparty.pbz2 -------\n",
      "Decompressing Neuron in minimal output mode...please wait\n",
      "Soma_idx 0: n_spines = 19, skeletal_length = 652430.3469801011, spine_density=2.9121882646852865e-05\n",
      "\n",
      "\n",
      "----- Working on ../test_neurons/spine_detection/inhibitory_meshafterparty/91076260457105133_inhibitory_1_meshafterparty.pbz2 -------\n",
      "Decompressing Neuron in minimal output mode...please wait\n",
      "Soma_idx 0: n_spines = 622, skeletal_length = 3422850.339899698, spine_density=0.00018171989372407877\n"
     ]
    }
   ],
   "source": [
    "inhibitory_spine_density = []\n",
    "for decomp_file,mesh_file in zip(inhibitory_process_cell_files,inhibitory_mesh_files):\n",
    "    print(f\"\\n\\n----- Working on {decomp_file} -------\")\n",
    "    n = nru.decompress_neuron(decomp_file,\n",
    "                                           original_mesh=mesh_file)\n",
    "    spine_density_mapping = compute_spine_density(current_neuron=n,\n",
    "                         verbose = True)\n",
    "    \n",
    "    inhibitory_spine_density.append(spine_density_mapping)"
   ]
  },
  {
   "cell_type": "code",
   "execution_count": 49,
   "metadata": {},
   "outputs": [
    {
     "name": "stdout",
     "output_type": "stream",
     "text": [
      "\n",
      " Working on visualization type: mesh\n"
     ]
    },
    {
     "data": {
      "application/vnd.jupyter.widget-view+json": {
       "model_id": "7750bc6006674594af51a411844fbdcb",
       "version_major": 2,
       "version_minor": 0
      },
      "text/plain": [
       "VBox(children=(Figure(camera=PerspectiveCamera(fov=46.0, position=(0.0, 0.0, 2.0), quaternion=(0.0, 0.0, 0.0, …"
      ]
     },
     "metadata": {},
     "output_type": "display_data"
    }
   ],
   "source": [
    "nviz.visualize_neuron(n,\n",
    "                     limb_branch_dict=\"all\",\n",
    "                     axis_box_off=False)"
   ]
  },
  {
   "cell_type": "code",
   "execution_count": 48,
   "metadata": {},
   "outputs": [
    {
     "name": "stdout",
     "output_type": "stream",
     "text": [
      "\n",
      " Working on visualization type: mesh\n"
     ]
    },
    {
     "data": {
      "application/vnd.jupyter.widget-view+json": {
       "model_id": "99cbeb6aac3848359da2f9bb1211ce0f",
       "version_major": 2,
       "version_minor": 0
      },
      "text/plain": [
       "VBox(children=(Figure(camera=PerspectiveCamera(fov=46.0, position=(0.0, 0.0, 2.0), quaternion=(0.0, 0.0, 0.0, …"
      ]
     },
     "metadata": {},
     "output_type": "display_data"
    }
   ],
   "source": [
    "nviz.plot_spines(n,\n",
    "                )"
   ]
  },
  {
   "cell_type": "code",
   "execution_count": null,
   "metadata": {},
   "outputs": [],
   "source": []
  }
 ],
 "metadata": {
  "kernelspec": {
   "display_name": "Python 3",
   "language": "python",
   "name": "python3"
  },
  "language_info": {
   "codemirror_mode": {
    "name": "ipython",
    "version": 3
   },
   "file_extension": ".py",
   "mimetype": "text/x-python",
   "name": "python",
   "nbconvert_exporter": "python",
   "pygments_lexer": "ipython3",
   "version": "3.6.9"
  }
 },
 "nbformat": 4,
 "nbformat_minor": 4
}
