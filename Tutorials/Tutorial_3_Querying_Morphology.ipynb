{
 "cells": [
  {
   "cell_type": "code",
   "execution_count": null,
   "metadata": {},
   "outputs": [],
   "source": [
    "\"\"\"\n",
    "Purpose: \n",
    "To show how to query the morphology of a processed neuron\n",
    "\n",
    "\"\"\""
   ]
  },
  {
   "cell_type": "markdown",
   "metadata": {},
   "source": [
    "# Importing Relevant Packages"
   ]
  },
  {
   "cell_type": "code",
   "execution_count": 1,
   "metadata": {},
   "outputs": [],
   "source": [
    "from os import sys\n",
    "sys.path.append(\"/meshAfterParty/\")"
   ]
  },
  {
   "cell_type": "code",
   "execution_count": 2,
   "metadata": {},
   "outputs": [
    {
     "name": "stderr",
     "output_type": "stream",
     "text": [
      "WARNING:root:Need to pip install annotationframeworkclient to repair mesh with pychunkedgraph\n",
      "WARNING:root:Need to pip install annotationframeworkclient to use dataset_name parameters\n"
     ]
    }
   ],
   "source": [
    "\n",
    "import neuron\n",
    "import neuron_visualizations as nviz\n",
    "import neuron_utils as nru\n",
    "from pathlib import Path"
   ]
  },
  {
   "cell_type": "markdown",
   "metadata": {},
   "source": [
    "# Load a Cell to analyze"
   ]
  },
  {
   "cell_type": "code",
   "execution_count": 3,
   "metadata": {},
   "outputs": [
    {
     "name": "stdout",
     "output_type": "stream",
     "text": [
      "Decompressing Neuron in minimal output mode...please wait\n"
     ]
    }
   ],
   "source": [
    "excitatory_file = \"95442489112204099_excitatory_7\"\n",
    "\n",
    "recovered_neuron = nru.decompress_neuron(filepath=f\"../test_neurons/spine_detection/excitatory_meshafterparty/{excitatory_file}_meshafterparty\",\n",
    "                     original_mesh=f\"../test_neurons/spine_detection/{excitatory_file}\",\n",
    "                     )"
   ]
  },
  {
   "cell_type": "code",
   "execution_count": 12,
   "metadata": {},
   "outputs": [
    {
     "name": "stdout",
     "output_type": "stream",
     "text": [
      "\n",
      " Working on visualization type: mesh\n",
      "\n",
      " Working on visualization type: skeleton\n"
     ]
    },
    {
     "data": {
      "application/vnd.jupyter.widget-view+json": {
       "model_id": "a7eb7b599538456f8275ecc271387222",
       "version_major": 2,
       "version_minor": 0
      },
      "text/plain": [
       "VBox(children=(Figure(camera=PerspectiveCamera(fov=46.0, position=(0.0, 0.0, 2.0), quaternion=(0.0, 0.0, 0.0, …"
      ]
     },
     "metadata": {},
     "output_type": "display_data"
    }
   ],
   "source": [
    "nviz.visualize_neuron(recovered_neuron,\n",
    "                      visualize_type=[\"mesh\",\"skeleton\"],\n",
    "                     limb_branch_dict=\"all\")"
   ]
  },
  {
   "cell_type": "markdown",
   "metadata": {},
   "source": [
    "# What the Querying Functions Look like"
   ]
  },
  {
   "cell_type": "code",
   "execution_count": null,
   "metadata": {},
   "outputs": [],
   "source": [
    "\"\"\"\n",
    "--- Excerpt from neuron_searching.py\n",
    "\n",
    "\n",
    "@run_options(run_type=\"Branch\")\n",
    "def median_mesh_center(branch,limb_name=None,branch_name=None,**kwargs):\n",
    "    return branch.width_new[\"median_mesh_center\"]\n",
    "\n",
    "@run_options(run_type=\"Branch\")\n",
    "def no_spine_mean_mesh_center(branch,limb_name=None,branch_name=None,**kwargs):\n",
    "    return branch.width_new[\"no_spine_mean_mesh_center\"]\n",
    "\n",
    "@run_options(run_type=\"Branch\")\n",
    "def no_spine_median_mesh_center(branch,limb_name=None,branch_name=None,**kwargs):\n",
    "    return branch.width_new[\"no_spine_median_mesh_center\"]\n",
    "    \n",
    "....\n",
    "\n",
    "\n",
    "@run_options(run_type=\"Limb\")\n",
    "def skeleton_distance_limb(curr_limb,limb_name=None,**kwargs):\n",
    "    curr_skeleton = curr_limb.get_skeleton()\n",
    "    return sk.calculate_skeleton_distance(curr_skeleton)\n",
    "\n",
    "@run_options(run_type=\"Limb\")\n",
    "def n_faces_limb(curr_limb,limb_name=None,**kwargs):\n",
    "    return len(curr_limb.mesh.faces)\n",
    "\n",
    "@run_options(run_type=\"Limb\")\n",
    "def merge_limbs(curr_limb,limb_name=None,**kwargs):\n",
    "    return \"MergeError\" in curr_limb.labels\n",
    "\n",
    "@run_options(run_type=\"Limb\")\n",
    "def limb_error_branches(curr_limb,limb_name=None,**kwargs):\n",
    "    error_nodes = nru.classify_endpoint_error_branches_from_limb_concept_network(curr_limb.concept_network)\n",
    "    node_names = np.array(list(curr_limb.concept_network.nodes()))\n",
    "    return dict([(k,k in error_nodes) for k in node_names])\n",
    "\n",
    "@run_options(run_type=\"Limb\")\n",
    "def average_branch_length(curr_limb,limb_name=None,**kwargs):\n",
    "    return np.mean([sk.calculate_skeleton_distance(curr_limb.concept_network.nodes[k][\"data\"].skeleton) for k in curr_limb.concept_network.nodes()])\n",
    "\n",
    "\n",
    "\"\"\""
   ]
  },
  {
   "cell_type": "code",
   "execution_count": 17,
   "metadata": {},
   "outputs": [],
   "source": [
    "import skeleton_utils as sk\n",
    "import neuron_searching as ns\n",
    "\n",
    "\n",
    "# def some_function(curr_limb):\n",
    "#     ...\n",
    "#     return stat\n",
    "functions_list=[\n",
    "ns.n_faces_branch,\n",
    "\"width\",\n",
    "ns.skeleton_distance_branch,\n",
    "ns.skeleton_distance_limb,\n",
    "    \n",
    "\"n_faces_limb\",\n",
    "ns.limb_error_branches,\n",
    "ns.average_branch_length\n",
    "    \n",
    "\n",
    "]\n",
    "\n",
    "local_dict = dict()\n",
    "\n",
    "#Example Query 1:\n",
    "current_query = \"(average_branch_length > 10000) and width < 500\"\n",
    "\n",
    "# dataframe_result = ns.query_neuron(recovered_neuron,\n",
    "#                          functions_list,\n",
    "#                           current_query,\n",
    "#                           query_variables_dict=local_dict,\n",
    "#                           return_dataframe=True,\n",
    "#                           return_limbs=False,\n",
    "#                           return_limb_grouped_branches=True,\n",
    "#                          print_flag=False)\n",
    "\n",
    "# dataframe_result\n"
   ]
  },
  {
   "cell_type": "code",
   "execution_count": 14,
   "metadata": {},
   "outputs": [
    {
     "data": {
      "text/plain": [
       "{'L0': array([ 4,  8,  9, 10, 15, 22, 31, 33, 35, 37, 41, 44, 46]),\n",
       " 'L1': array([3]),\n",
       " 'L2': array([ 2,  5,  9, 10]),\n",
       " 'L3': array([1])}"
      ]
     },
     "execution_count": 14,
     "metadata": {},
     "output_type": "execute_result"
    }
   ],
   "source": [
    "returned_query = ns.query_neuron(recovered_neuron,\n",
    "                         functions_list,\n",
    "                          current_query,\n",
    "                          query_variables_dict=local_dict,\n",
    "                          return_dataframe=False,\n",
    "                          return_limbs=False,\n",
    "                          return_limb_grouped_branches=True,\n",
    "                         print_flag=False)\n",
    "\n",
    "returned_query"
   ]
  },
  {
   "cell_type": "code",
   "execution_count": 16,
   "metadata": {},
   "outputs": [
    {
     "name": "stdout",
     "output_type": "stream",
     "text": [
      "\n",
      " Working on visualization type: mesh\n"
     ]
    },
    {
     "data": {
      "application/vnd.jupyter.widget-view+json": {
       "model_id": "0580a4dfe569460b81b6f0d04e8cd7a9",
       "version_major": 2,
       "version_minor": 0
      },
      "text/plain": [
       "VBox(children=(Figure(camera=PerspectiveCamera(fov=46.0, position=(0.0, 0.0, 2.0), quaternion=(0.0, 0.0, 0.0, …"
      ]
     },
     "metadata": {},
     "output_type": "display_data"
    }
   ],
   "source": [
    "nviz.visualize_neuron(recovered_neuron,\n",
    "                     limb_branch_dict=returned_query,\n",
    "                      mesh_color=\"red\",\n",
    "                      mesh_color_alpha=1,\n",
    "                     mesh_whole_neuron=True)"
   ]
  },
  {
   "cell_type": "markdown",
   "metadata": {},
   "source": [
    "# Example Query 2:"
   ]
  },
  {
   "cell_type": "code",
   "execution_count": 8,
   "metadata": {},
   "outputs": [
    {
     "data": {
      "text/plain": [
       "{'L0': array([ 0,  1,  2,  3,  4,  5,  6,  7,  8,  9, 10, 11, 12, 13, 14, 15, 16,\n",
       "        17, 18, 19, 20, 21, 22, 23, 24, 25, 26, 27, 28, 29, 30, 31, 32, 33,\n",
       "        34, 35, 36, 37, 38, 39, 40, 41, 42, 43, 44, 45, 46, 47, 48]),\n",
       " 'L1': array([0, 1, 2, 3, 4, 5, 6, 7, 8]),\n",
       " 'L2': array([ 0,  1,  2,  3,  4,  5,  6,  7,  8,  9, 10, 11, 12]),\n",
       " 'L3': array([0, 1, 2, 3, 4, 5, 6, 7, 8]),\n",
       " 'L4': array([0, 1, 2, 3, 4]),\n",
       " 'L5': array([0])}"
      ]
     },
     "execution_count": 8,
     "metadata": {},
     "output_type": "execute_result"
    }
   ],
   "source": [
    "\n",
    "\n",
    "current_query = \"n_faces_branch in @list_of_faces or skeleton_distance_branch > @branch_threshold or width > 10000\"\n",
    "\n",
    "local_dict = dict(list_of_faces=[100,200,300,400],\n",
    "          branch_threshold=400)\n",
    "\n",
    "returned_query = ns.query_neuron(recovered_neuron,\n",
    "                         functions_list,\n",
    "                          current_query,\n",
    "                          query_variables_dict=local_dict,\n",
    "                          return_dataframe=False,\n",
    "                          return_limbs=False,\n",
    "                          return_limb_grouped_branches=True,\n",
    "                         print_flag=False)\n",
    "\n",
    "returned_query"
   ]
  },
  {
   "cell_type": "code",
   "execution_count": 9,
   "metadata": {},
   "outputs": [
    {
     "name": "stdout",
     "output_type": "stream",
     "text": [
      "\n",
      " Working on visualization type: mesh\n"
     ]
    },
    {
     "data": {
      "application/vnd.jupyter.widget-view+json": {
       "model_id": "373fc6ca5097468ba2fc549a3ff119ba",
       "version_major": 2,
       "version_minor": 0
      },
      "text/plain": [
       "VBox(children=(Figure(camera=PerspectiveCamera(fov=46.0, position=(0.0, 0.0, 2.0), quaternion=(0.0, 0.0, 0.0, …"
      ]
     },
     "metadata": {},
     "output_type": "display_data"
    }
   ],
   "source": [
    "nviz.visualize_neuron(recovered_neuron,\n",
    "                     limb_branch_dict=returned_query,\n",
    "                      mesh_color=\"red\",\n",
    "                     mesh_whole_neuron=True)"
   ]
  },
  {
   "cell_type": "markdown",
   "metadata": {},
   "source": [
    "# Finding Axon Like Parts "
   ]
  },
  {
   "cell_type": "code",
   "execution_count": 20,
   "metadata": {},
   "outputs": [
    {
     "data": {
      "text/plain": [
       "{'L0': array([ 0,  4,  8,  9, 10, 12, 13, 14, 15, 22, 31, 33, 35, 36, 37, 41, 44,\n",
       "        45, 46, 47, 48]),\n",
       " 'L1': array([0, 1, 3, 7]),\n",
       " 'L2': array([ 1,  2,  5,  7,  9, 10]),\n",
       " 'L3': array([1]),\n",
       " 'L4': array([0, 3, 4]),\n",
       " 'L5': array([0])}"
      ]
     },
     "execution_count": 20,
     "metadata": {},
     "output_type": "execute_result"
    }
   ],
   "source": [
    "axon_width_like_requirement = \"(median_mesh_center < 400)\"# or no_spine_median_mesh_center < 150)\"\n",
    "axon_width_like_query = (f\"(n_spines < 4 and {axon_width_like_requirement} and skeleton_distance_branch <= 15000)\"\n",
    "                f\" or (skeleton_distance_branch > 15000 and {axon_width_like_requirement} and spines_per_skeletal_length < 0.00023)\")\n",
    "\n",
    "axon_width_like_functions_list = [\n",
    "    \"width\",\n",
    "    \"median_mesh_center\",\n",
    "    \"n_spines\",\n",
    "    \"n_faces_branch\",\n",
    "    \"skeleton_distance_branch\",\n",
    "    \"spines_per_skeletal_length\",\n",
    "    \"no_spine_median_mesh_center\",\n",
    "]\n",
    "\n",
    "axon_like_limb_branch_dict = ns.query_neuron(recovered_neuron,\n",
    "                                       query=axon_width_like_query,\n",
    "                   functions_list=axon_width_like_functions_list)\n",
    "\n",
    "axon_like_limb_branch_dict"
   ]
  },
  {
   "cell_type": "code",
   "execution_count": 21,
   "metadata": {},
   "outputs": [
    {
     "name": "stdout",
     "output_type": "stream",
     "text": [
      "\n",
      " Working on visualization type: mesh\n"
     ]
    },
    {
     "data": {
      "application/vnd.jupyter.widget-view+json": {
       "model_id": "0f655b4ab1c34b64b7e50eff4fe06f21",
       "version_major": 2,
       "version_minor": 0
      },
      "text/plain": [
       "VBox(children=(Figure(camera=PerspectiveCamera(fov=46.0, position=(0.0, 0.0, 2.0), quaternion=(0.0, 0.0, 0.0, …"
      ]
     },
     "metadata": {},
     "output_type": "display_data"
    }
   ],
   "source": [
    "nviz.visualize_neuron(recovered_neuron,\n",
    "                     limb_branch_dict=axon_like_limb_branch_dict,\n",
    "                      mesh_color=\"red\",\n",
    "                      mesh_color_alpha=1,\n",
    "                     mesh_whole_neuron=True)"
   ]
  },
  {
   "cell_type": "code",
   "execution_count": 27,
   "metadata": {},
   "outputs": [],
   "source": [
    "sub_mesh = []\n",
    "for l_idx,branch_list in axon_like_limb_branch_dict.items():\n",
    "    branch_meshes = [recovered_neuron[l_idx][k].mesh for k in branch_list]\n",
    "    sub_mesh += branch_meshes\n",
    "import trimesh_utils as tu"
   ]
  },
  {
   "cell_type": "code",
   "execution_count": 30,
   "metadata": {},
   "outputs": [
    {
     "data": {
      "application/vnd.jupyter.widget-view+json": {
       "model_id": "d786dd93a04f4d54b1c10ec41dccfecf",
       "version_major": 2,
       "version_minor": 0
      },
      "text/plain": [
       "VBox(children=(Figure(camera=PerspectiveCamera(fov=46.0, position=(0.0, 0.0, 2.0), quaternion=(0.0, 0.0, 0.0, …"
      ]
     },
     "metadata": {},
     "output_type": "display_data"
    }
   ],
   "source": [
    "total_subtract = tu.combine_meshes(sub_mesh)\n",
    "nviz.plot_objects(total_subtract,mesh_alpha=1)"
   ]
  },
  {
   "cell_type": "code",
   "execution_count": null,
   "metadata": {},
   "outputs": [],
   "source": []
  }
 ],
 "metadata": {
  "kernelspec": {
   "display_name": "Python 3",
   "language": "python",
   "name": "python3"
  },
  "language_info": {
   "codemirror_mode": {
    "name": "ipython",
    "version": 3
   },
   "file_extension": ".py",
   "mimetype": "text/x-python",
   "name": "python",
   "nbconvert_exporter": "python",
   "pygments_lexer": "ipython3",
   "version": "3.6.9"
  }
 },
 "nbformat": 4,
 "nbformat_minor": 4
}
