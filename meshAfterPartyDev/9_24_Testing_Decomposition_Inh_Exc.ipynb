{
 "cells": [
  {
   "cell_type": "code",
   "execution_count": null,
   "metadata": {},
   "outputs": [],
   "source": [
    "\"\"\"\n",
    "Purpose: To make sure the decomposition of a neuron \n",
    "still works even after all of the changes\n",
    "\n",
    "\"\"\""
   ]
  },
  {
   "cell_type": "code",
   "execution_count": 1,
   "metadata": {},
   "outputs": [],
   "source": [
    "from os import sys\n",
    "sys.path.append(\"/meshAfterParty/\")"
   ]
  },
  {
   "cell_type": "code",
   "execution_count": 2,
   "metadata": {},
   "outputs": [
    {
     "name": "stderr",
     "output_type": "stream",
     "text": [
      "WARNING:root:Need to pip install annotationframeworkclient to repair mesh with pychunkedgraph\n",
      "WARNING:root:Need to pip install annotationframeworkclient to use dataset_name parameters\n"
     ]
    }
   ],
   "source": [
    "from importlib import reload\n",
    "import os\n",
    "from pathlib import Path\n",
    "os.getcwd()\n",
    "\n",
    "import neuron_utils as nru\n",
    "nru = reload(nru)\n",
    "import neuron\n",
    "neuron=reload(neuron)\n",
    "import neuron_visualizations as nviz\n",
    "import time\n",
    "import system_utils as su"
   ]
  },
  {
   "cell_type": "markdown",
   "metadata": {},
   "source": [
    "# Loading in Excitatory Neuron"
   ]
  },
  {
   "cell_type": "code",
   "execution_count": 5,
   "metadata": {},
   "outputs": [],
   "source": [
    "import trimesh_utils as tu\n",
    "mesh_file_path = Path(\"/notebooks/test_neurons/spine_detection/100917645171610430_excitatory_8.off\")\n",
    "mesh_file_path.exists()\n",
    "current_neuron_mesh = tu.load_mesh_no_processing(str(mesh_file_path.absolute()))"
   ]
  },
  {
   "cell_type": "code",
   "execution_count": 10,
   "metadata": {},
   "outputs": [
    {
     "data": {
      "text/plain": [
       "(100917645171610430, 'excitatory_8')"
      ]
     },
     "execution_count": 10,
     "metadata": {},
     "output_type": "execute_result"
    }
   ],
   "source": [
    "file_parts = str(mesh_file_path.name)[:-4].split(\"_\")\n",
    "\n",
    "segment_id=int(file_parts[0])\n",
    "description = \"_\".join(file_parts[1:])\n",
    "segment_id,description"
   ]
  },
  {
   "cell_type": "code",
   "execution_count": 11,
   "metadata": {},
   "outputs": [
    {
     "name": "stdout",
     "output_type": "stream",
     "text": [
      "Current Arguments Using (adjusted for decimation):\n",
      " large_mesh_threshold= 15000.0 \n",
      "large_mesh_threshold_inner = 10000.0 \n",
      "soma_size_threshold = 1250.0 \n",
      "soma_size_threshold_max = 12000.0\n",
      "outer_decimation_ratio = 0.25\n",
      "inner_decimation_ratio = 0.25\n",
      "IN INPUT FILE VALIDATION LOOP\n",
      "LEAVING LOOP, MESH VALIDATED\n",
      "Using port = 9315\n",
      "xvfb-run -n 9315 -s \"-screen 0 800x600x24\" meshlabserver $@  -i /notebooks/meshAfterPartyDev/100917645171610430/neuron_100917645171610430.off -o /notebooks/meshAfterPartyDev/100917645171610430/neuron_100917645171610430_decimated.off -s /notebooks/meshAfterPartyDev/100917645171610430/decimation_meshlab_25797890.mls\n",
      "Total found significant pieces before Poisson = [<trimesh.Trimesh(vertices.shape=(162968, 3), faces.shape=(328336, 3))>]\n",
      "----- working on large mesh #0: <trimesh.Trimesh(vertices.shape=(162968, 3), faces.shape=(328336, 3))>\n",
      "pre_largest_mesh_path = /notebooks/meshAfterPartyDev/100917645171610430/neuron_100917645171610430_decimated_largest_piece.off\n",
      "IN INPUT FILE VALIDATION LOOP\n",
      "LEAVING LOOP, MESH VALIDATED\n",
      "Using port = 7038\n",
      "xvfb-run -n 7038 -s \"-screen 0 800x600x24\" meshlabserver $@  -i /notebooks/meshAfterPartyDev/100917645171610430/neuron_100917645171610430_decimated_largest_piece.off -o /notebooks/meshAfterPartyDev/100917645171610430/neuron_100917645171610430_decimated_largest_piece_poisson.off -s /notebooks/meshAfterPartyDev/100917645171610430/poisson_5425.mls\n"
     ]
    },
    {
     "name": "stderr",
     "output_type": "stream",
     "text": [
      "WARNING:trimesh:face_normals all zero, ignoring!\n",
      "WARNING:trimesh:face_normals all zero, ignoring!\n",
      "WARNING:trimesh:face_normals all zero, ignoring!\n",
      "WARNING:trimesh:face_normals all zero, ignoring!\n",
      "WARNING:trimesh:face_normals all zero, ignoring!\n",
      "WARNING:trimesh:face_normals all zero, ignoring!\n",
      "WARNING:trimesh:face_normals all zero, ignoring!\n",
      "WARNING:trimesh:face_normals all zero, ignoring!\n",
      "WARNING:trimesh:face_normals all zero, ignoring!\n",
      "WARNING:trimesh:face_normals all zero, ignoring!\n",
      "WARNING:trimesh:face_normals all zero, ignoring!\n",
      "WARNING:trimesh:face_normals all zero, ignoring!\n",
      "WARNING:trimesh:face_normals all zero, ignoring!\n",
      "WARNING:trimesh:face_normals all zero, ignoring!\n",
      "WARNING:trimesh:face_normals all zero, ignoring!\n",
      "WARNING:trimesh:face_normals all zero, ignoring!\n",
      "WARNING:trimesh:face_normals all zero, ignoring!\n",
      "WARNING:trimesh:face_normals all zero, ignoring!\n",
      "WARNING:trimesh:face_normals all zero, ignoring!\n",
      "WARNING:trimesh:face_normals all zero, ignoring!\n",
      "WARNING:trimesh:face_normals all zero, ignoring!\n",
      "WARNING:trimesh:face_normals all zero, ignoring!\n",
      "WARNING:trimesh:face_normals all zero, ignoring!\n",
      "WARNING:trimesh:face_normals all zero, ignoring!\n",
      "WARNING:trimesh:face_normals all zero, ignoring!\n",
      "WARNING:trimesh:face_normals all zero, ignoring!\n",
      "WARNING:trimesh:face_normals all zero, ignoring!\n",
      "WARNING:trimesh:face_normals all zero, ignoring!\n",
      "WARNING:trimesh:face_normals all zero, ignoring!\n",
      "WARNING:trimesh:face_normals all zero, ignoring!\n",
      "WARNING:trimesh:face_normals all zero, ignoring!\n",
      "WARNING:trimesh:face_normals all zero, ignoring!\n",
      "WARNING:trimesh:face_normals all zero, ignoring!\n",
      "WARNING:trimesh:face_normals all zero, ignoring!\n",
      "WARNING:trimesh:face_normals all zero, ignoring!\n",
      "WARNING:trimesh:face_normals all zero, ignoring!\n",
      "WARNING:trimesh:face_normals all zero, ignoring!\n",
      "WARNING:trimesh:face_normals all zero, ignoring!\n",
      "WARNING:trimesh:face_normals all zero, ignoring!\n",
      "WARNING:trimesh:face_normals all zero, ignoring!\n",
      "WARNING:trimesh:face_normals all zero, ignoring!\n",
      "WARNING:trimesh:face_normals all zero, ignoring!\n",
      "WARNING:trimesh:face_normals all zero, ignoring!\n",
      "WARNING:trimesh:face_normals all zero, ignoring!\n",
      "WARNING:trimesh:face_normals all zero, ignoring!\n",
      "WARNING:trimesh:face_normals all zero, ignoring!\n",
      "WARNING:trimesh:face_normals all zero, ignoring!\n",
      "WARNING:trimesh:face_normals all zero, ignoring!\n",
      "WARNING:trimesh:face_normals all zero, ignoring!\n",
      "WARNING:trimesh:face_normals all zero, ignoring!\n",
      "WARNING:trimesh:face_normals all zero, ignoring!\n",
      "WARNING:trimesh:face_normals all zero, ignoring!\n",
      "WARNING:trimesh:face_normals all zero, ignoring!\n",
      "WARNING:trimesh:face_normals all zero, ignoring!\n",
      "WARNING:trimesh:face_normals all zero, ignoring!\n",
      "WARNING:trimesh:face_normals all zero, ignoring!\n",
      "WARNING:trimesh:face_normals all zero, ignoring!\n",
      "WARNING:trimesh:face_normals all zero, ignoring!\n",
      "WARNING:trimesh:face_normals all zero, ignoring!\n",
      "WARNING:trimesh:face_normals all zero, ignoring!\n",
      "WARNING:trimesh:face_normals all zero, ignoring!\n",
      "WARNING:trimesh:face_normals all zero, ignoring!\n",
      "WARNING:trimesh:face_normals all zero, ignoring!\n",
      "WARNING:trimesh:face_normals all zero, ignoring!\n",
      "WARNING:trimesh:face_normals all zero, ignoring!\n",
      "WARNING:trimesh:face_normals all zero, ignoring!\n",
      "WARNING:trimesh:face_normals all zero, ignoring!\n",
      "WARNING:trimesh:face_normals all zero, ignoring!\n",
      "WARNING:trimesh:face_normals all zero, ignoring!\n",
      "WARNING:trimesh:face_normals all zero, ignoring!\n",
      "WARNING:trimesh:face_normals all zero, ignoring!\n",
      "WARNING:trimesh:face_normals all zero, ignoring!\n",
      "WARNING:trimesh:face_normals all zero, ignoring!\n",
      "WARNING:trimesh:face_normals all zero, ignoring!\n",
      "WARNING:trimesh:face_normals all zero, ignoring!\n",
      "WARNING:trimesh:face_normals all zero, ignoring!\n",
      "WARNING:trimesh:face_normals all zero, ignoring!\n",
      "WARNING:trimesh:face_normals all zero, ignoring!\n",
      "WARNING:trimesh:face_normals all zero, ignoring!\n",
      "WARNING:trimesh:face_normals all zero, ignoring!\n",
      "WARNING:trimesh:face_normals all zero, ignoring!\n",
      "WARNING:trimesh:face_normals all zero, ignoring!\n",
      "WARNING:trimesh:face_normals all zero, ignoring!\n",
      "WARNING:trimesh:face_normals all zero, ignoring!\n",
      "WARNING:trimesh:face_normals all zero, ignoring!\n",
      "WARNING:trimesh:face_normals all zero, ignoring!\n",
      "WARNING:trimesh:face_normals all zero, ignoring!\n"
     ]
    },
    {
     "name": "stdout",
     "output_type": "stream",
     "text": [
      "Total found significant pieces AFTER Poisson = [<trimesh.Trimesh(vertices.shape=(29307, 3), faces.shape=(58610, 3))>, <trimesh.Trimesh(vertices.shape=(22852, 3), faces.shape=(45700, 3))>]\n",
      "----- working on mesh after poisson #0: <trimesh.Trimesh(vertices.shape=(29307, 3), faces.shape=(58610, 3))>\n",
      "IN INPUT FILE VALIDATION LOOP\n",
      "LEAVING LOOP, MESH VALIDATED\n",
      "Using port = 3859\n",
      "xvfb-run -n 3859 -s \"-screen 0 800x600x24\" meshlabserver $@  -i /notebooks/meshAfterPartyDev/100917645171610430/neuron_100917645171610430_decimated_largest_piece_poisson_largest_inner.off -o /notebooks/meshAfterPartyDev/100917645171610430/neuron_100917645171610430_decimated_largest_piece_poisson_largest_inner_decimated.off -s /notebooks/meshAfterPartyDev/100917645171610430/decimation_meshlab_25153410.mls\n",
      "done exporting decimated mesh: neuron_100917645171610430_decimated_largest_piece_poisson_largest_inner.off\n",
      "1) Starting: Mesh importing and Pymesh fix\n",
      "loading mesh from vertices and triangles array\n",
      "1) Finished: Mesh importing and Pymesh fix: 0.0002510547637939453\n",
      "2) Staring: Generating CGAL segmentation for neuron\n",
      "Done writing OFF file\n",
      "\n",
      "Starting CGAL segmentation\n",
      "Right before cgal segmentation, clusters = 3, smoothness = 0.2, path_and_filename = /notebooks/meshAfterPartyDev/temp/10091764517161043000_fixed \n",
      "1\n",
      "Finished CGAL segmentation algorithm: 1.1545910835266113\n",
      "2) Finished: Generating CGAL segmentation for neuron: 1.3711345195770264\n",
      "3) Staring: Generating Graph Structure and Identifying Soma using soma size threshold  = 3000\n",
      "my_list_keys = [0, 1, 2, 3, 4, 5, 6, 7, 8, 9, 10, 11, 12, 13, 14, 15, 16, 17, 18, 19]\n",
      "soma_index = -1\n",
      "3) Finished: Generating Graph Structure and Identifying Soma: 0.004923343658447266\n",
      "Not finding the apical because soma_only option selected\n",
      "6) Staring: Classifying Entire Neuron\n",
      "Total Labels found = {'unsure'}\n",
      "6) Finished: Classifying Entire Neuron: 3.910064697265625e-05\n",
      "7) Staring: Transfering Segmentation Labels to Face Labels\n",
      "7) Finished: Transfering Segmentation Labels to Face Labels: 0.013123035430908203\n",
      "8) Staring: Generating final Vertex and Face Labels\n",
      "8) Finished: Generating final Vertex and Face Labels: 0.06839370727539062\n",
      "Returning the soma_sdf value AND the classifier\n",
      "soma_sdf_value = 0\n",
      "segmentation[sorted_medians],median_values[sorted_medians] = (array([ 2,  0,  9,  7, 16, 12, 15,  8,  6, 14, 17, 13, 19,  1,  4,  3,  5,\n",
      "       10, 11, 18]), array([0.825538  , 0.106346  , 0.098533  , 0.09523035, 0.0861018 ,\n",
      "       0.0810654 , 0.0803862 , 0.0573673 , 0.05505695, 0.0463206 ,\n",
      "       0.0443056 , 0.0432297 , 0.0420508 , 0.0412262 , 0.04101655,\n",
      "       0.0373569 , 0.0288211 , 0.0262876 , 0.0252232 , 0.0209228 ]))\n",
      "Sizes = [2317, 2147, 174, 302, 64, 53, 506, 1729, 496, 685, 283, 277, 337, 2070, 1170, 749, 590, 125, 433, 145]\n",
      "valid_soma_segments_width\n",
      "      ------ Found 1 viable somas: [2]\n",
      "Using Poisson Surface Reconstruction to make mesh watertight\n",
      "IN INPUT FILE VALIDATION LOOP\n",
      "LEAVING LOOP, MESH VALIDATED\n",
      "Using port = 6251\n",
      "xvfb-run -n 6251 -s \"-screen 0 800x600x24\" meshlabserver $@  -i /notebooks/meshAfterPartyDev/Poisson_temp/neuron_124468.off -o /notebooks/meshAfterPartyDev/Poisson_temp/neuron_124468_poisson.off -s /notebooks/meshAfterPartyDev/Poisson_temp/poisson_410057.mls\n"
     ]
    },
    {
     "name": "stderr",
     "output_type": "stream",
     "text": [
      "WARNING:trimesh:face_normals all zero, ignoring!\n",
      "WARNING:trimesh:face_normals all zero, ignoring!\n",
      "WARNING:trimesh:face_normals all zero, ignoring!\n",
      "WARNING:trimesh:face_normals all zero, ignoring!\n",
      "WARNING:trimesh:face_normals all zero, ignoring!\n"
     ]
    },
    {
     "name": "stdout",
     "output_type": "stream",
     "text": [
      "removed temporary input file: /notebooks/meshAfterPartyDev/Poisson_temp/neuron_124468.off\n",
      "removed temporary output file: /notebooks/meshAfterPartyDev/Poisson_temp/neuron_124468_poisson.off\n",
      "/notebooks/meshAfterPartyDev/Poisson_temp/poisson_410057.mls is being deleted....\n",
      "Inside sphere validater: ratio_val = 2.22630154882904\n",
      "----- working on mesh after poisson #1: <trimesh.Trimesh(vertices.shape=(22852, 3), faces.shape=(45700, 3))>\n",
      "IN INPUT FILE VALIDATION LOOP\n",
      "LEAVING LOOP, MESH VALIDATED\n",
      "Using port = 5427\n",
      "xvfb-run -n 5427 -s \"-screen 0 800x600x24\" meshlabserver $@  -i /notebooks/meshAfterPartyDev/100917645171610430/neuron_100917645171610430_decimated_largest_piece_poisson_largest_inner.off -o /notebooks/meshAfterPartyDev/100917645171610430/neuron_100917645171610430_decimated_largest_piece_poisson_largest_inner_decimated.off -s /notebooks/meshAfterPartyDev/100917645171610430/decimation_meshlab_25153410.mls\n",
      "done exporting decimated mesh: neuron_100917645171610430_decimated_largest_piece_poisson_largest_inner.off\n",
      "1) Starting: Mesh importing and Pymesh fix\n",
      "loading mesh from vertices and triangles array\n",
      "1) Finished: Mesh importing and Pymesh fix: 0.00025200843811035156\n",
      "2) Staring: Generating CGAL segmentation for neuron\n",
      "Done writing OFF file\n",
      "\n",
      "Starting CGAL segmentation\n",
      "Right before cgal segmentation, clusters = 3, smoothness = 0.2, path_and_filename = /notebooks/meshAfterPartyDev/temp/10091764517161043001_fixed \n",
      "1\n",
      "Finished CGAL segmentation algorithm: 0.8325190544128418\n",
      "2) Finished: Generating CGAL segmentation for neuron: 0.9981331825256348\n",
      "3) Staring: Generating Graph Structure and Identifying Soma using soma size threshold  = 3000\n",
      "my_list_keys = [0, 1, 2, 3, 4, 5, 6, 7, 8, 9]\n",
      "changed the median value\n",
      "changed the mean value\n",
      "changed the max value\n",
      "soma_index = 0\n",
      "3) Finished: Generating Graph Structure and Identifying Soma: 0.0039920806884765625\n",
      "Not finding the apical because soma_only option selected\n",
      "6) Staring: Classifying Entire Neuron\n",
      "Total Labels found = {'unsure', 'soma'}\n",
      "6) Finished: Classifying Entire Neuron: 4.696846008300781e-05\n",
      "7) Staring: Transfering Segmentation Labels to Face Labels\n",
      "7) Finished: Transfering Segmentation Labels to Face Labels: 0.00972890853881836\n",
      "8) Staring: Generating final Vertex and Face Labels\n",
      "8) Finished: Generating final Vertex and Face Labels: 0.053038597106933594\n",
      "Returning the soma_sdf value AND the classifier\n",
      "soma_sdf_value = 0.07791519999999999\n",
      "segmentation[sorted_medians],median_values[sorted_medians] = (array([5, 2, 0, 3, 7, 1, 9, 8, 4, 6]), array([0.874836  , 0.14692   , 0.0779152 , 0.07506925, 0.0679204 ,\n",
      "       0.06676555, 0.0473002 , 0.0389863 , 0.0302765 , 0.0190725 ]))\n",
      "Sizes = [2113, 601, 5996, 766, 293, 698, 333, 367, 167, 90]\n",
      "valid_soma_segments_width\n",
      "      ------ Found 1 viable somas: [5]\n",
      "Using Poisson Surface Reconstruction to make mesh watertight\n",
      "IN INPUT FILE VALIDATION LOOP\n",
      "LEAVING LOOP, MESH VALIDATED\n",
      "Using port = 3279\n",
      "xvfb-run -n 3279 -s \"-screen 0 800x600x24\" meshlabserver $@  -i /notebooks/meshAfterPartyDev/Poisson_temp/neuron_156624.off -o /notebooks/meshAfterPartyDev/Poisson_temp/neuron_156624_poisson.off -s /notebooks/meshAfterPartyDev/Poisson_temp/poisson_71832.mls\n"
     ]
    },
    {
     "name": "stderr",
     "output_type": "stream",
     "text": [
      "WARNING:trimesh:face_normals all zero, ignoring!\n",
      "WARNING:trimesh:face_normals all zero, ignoring!\n",
      "WARNING:trimesh:face_normals all zero, ignoring!\n",
      "WARNING:trimesh:face_normals all zero, ignoring!\n",
      "WARNING:trimesh:face_normals all zero, ignoring!\n",
      "WARNING:trimesh:face_normals all zero, ignoring!\n"
     ]
    },
    {
     "name": "stdout",
     "output_type": "stream",
     "text": [
      "removed temporary input file: /notebooks/meshAfterPartyDev/Poisson_temp/neuron_156624.off\n",
      "removed temporary output file: /notebooks/meshAfterPartyDev/Poisson_temp/neuron_156624_poisson.off\n",
      "/notebooks/meshAfterPartyDev/Poisson_temp/poisson_71832.mls is being deleted....\n",
      "Inside sphere validater: ratio_val = 2.64374798972688\n",
      "\n",
      "\n",
      "\n",
      " Total time for run = 103.46725273132324\n",
      "Before Filtering the number of somas found = 2\n",
      "Performing Soma Mesh Backtracking to original mesh\n",
      "# total split meshes = 16\n",
      "viable_meshes = [0]\n",
      "There were 15 pieces found after size threshold\n",
      "# of soma containing seperate meshes = 1\n",
      "meshes with somas = {0: [0]}\n",
      "\n",
      "\n",
      "----Working on soma-containing mesh piece 0----\n",
      "current_soma_mesh_list = [<trimesh.Trimesh(vertices.shape=(1183, 3), faces.shape=(2317, 3))>]\n",
      "current_mesh = <trimesh.Trimesh(vertices.shape=(162968, 3), faces.shape=(328336, 3))>\n",
      "\n",
      "inside Soma subtraction\n",
      "mesh pieces in subtact soma BEFORE the filtering inside pieces = [<trimesh.Trimesh(vertices.shape=(99156, 3), faces.shape=(199934, 3))>, <trimesh.Trimesh(vertices.shape=(15912, 3), faces.shape=(31948, 3))>, <trimesh.Trimesh(vertices.shape=(11098, 3), faces.shape=(22290, 3))>, <trimesh.Trimesh(vertices.shape=(8932, 3), faces.shape=(17932, 3))>, <trimesh.Trimesh(vertices.shape=(8130, 3), faces.shape=(16378, 3))>, <trimesh.Trimesh(vertices.shape=(7807, 3), faces.shape=(15644, 3))>, <trimesh.Trimesh(vertices.shape=(7494, 3), faces.shape=(15067, 3))>, <trimesh.Trimesh(vertices.shape=(1691, 3), faces.shape=(3487, 3))>]\n",
      "There were 8 pieces found after size threshold\n",
      "mesh pieces in subtact soma AFTER the filtering inside pieces = [<trimesh.Trimesh(vertices.shape=(99156, 3), faces.shape=(199934, 3))>, <trimesh.Trimesh(vertices.shape=(15912, 3), faces.shape=(31948, 3))>, <trimesh.Trimesh(vertices.shape=(11098, 3), faces.shape=(22290, 3))>, <trimesh.Trimesh(vertices.shape=(8932, 3), faces.shape=(17932, 3))>, <trimesh.Trimesh(vertices.shape=(8130, 3), faces.shape=(16378, 3))>, <trimesh.Trimesh(vertices.shape=(7807, 3), faces.shape=(15644, 3))>, <trimesh.Trimesh(vertices.shape=(7494, 3), faces.shape=(15067, 3))>, <trimesh.Trimesh(vertices.shape=(1691, 3), faces.shape=(3487, 3))>]\n",
      "Total Time for soma mesh cancellation = 0.605\n",
      "mesh_pieces_without_soma = [<trimesh.Trimesh(vertices.shape=(99156, 3), faces.shape=(199934, 3))>, <trimesh.Trimesh(vertices.shape=(15912, 3), faces.shape=(31948, 3))>, <trimesh.Trimesh(vertices.shape=(11098, 3), faces.shape=(22290, 3))>, <trimesh.Trimesh(vertices.shape=(8932, 3), faces.shape=(17932, 3))>, <trimesh.Trimesh(vertices.shape=(8130, 3), faces.shape=(16378, 3))>, <trimesh.Trimesh(vertices.shape=(7807, 3), faces.shape=(15644, 3))>, <trimesh.Trimesh(vertices.shape=(7494, 3), faces.shape=(15067, 3))>, <trimesh.Trimesh(vertices.shape=(1691, 3), faces.shape=(3487, 3))>]\n",
      "Total time for Subtract Soam = 0.6065332889556885\n",
      "mesh_pieces_without_soma_stacked = <trimesh.Trimesh(vertices.shape=(160220, 3), faces.shape=(322680, 3))>\n",
      "Total time for Original_mesh_faces_map for mesh_pieces without soma= 0.22821617126464844\n",
      "soma_faces = [13058 13059 13060 ... 82328 82329 82452]\n",
      "soma_meshes = <trimesh.Trimesh(vertices.shape=(2860, 3), faces.shape=(5656, 3))>\n",
      "poisson_backtrack_distance_threshold = None\n",
      "Using Poisson Surface Reconstruction to make mesh watertight\n",
      "IN INPUT FILE VALIDATION LOOP\n",
      "LEAVING LOOP, MESH VALIDATED\n",
      "Using port = 5580\n",
      "xvfb-run -n 5580 -s \"-screen 0 800x600x24\" meshlabserver $@  -i /notebooks/meshAfterPartyDev/Poisson_temp/neuron_356988.off -o /notebooks/meshAfterPartyDev/Poisson_temp/neuron_356988_poisson.off -s /notebooks/meshAfterPartyDev/Poisson_temp/poisson_148063.mls\n"
     ]
    },
    {
     "name": "stderr",
     "output_type": "stream",
     "text": [
      "WARNING:trimesh:face_normals all zero, ignoring!\n"
     ]
    },
    {
     "name": "stdout",
     "output_type": "stream",
     "text": [
      "removed temporary input file: /notebooks/meshAfterPartyDev/Poisson_temp/neuron_356988.off\n",
      "removed temporary output file: /notebooks/meshAfterPartyDev/Poisson_temp/neuron_356988_poisson.off\n",
      "/notebooks/meshAfterPartyDev/Poisson_temp/poisson_148063.mls is being deleted....\n",
      "Inside sphere validater: ratio_val = 2.4528614050854345\n",
      "Performing Soma Mesh Backtracking to original mesh\n",
      "# total split meshes = 16\n",
      "viable_meshes = [0]\n",
      "There were 15 pieces found after size threshold\n",
      "# of soma containing seperate meshes = 1\n",
      "meshes with somas = {0: [0]}\n",
      "\n",
      "\n",
      "----Working on soma-containing mesh piece 0----\n",
      "current_soma_mesh_list = [<trimesh.Trimesh(vertices.shape=(1073, 3), faces.shape=(2113, 3))>]\n",
      "current_mesh = <trimesh.Trimesh(vertices.shape=(162968, 3), faces.shape=(328336, 3))>\n",
      "\n",
      "inside Soma subtraction\n",
      "mesh pieces in subtact soma BEFORE the filtering inside pieces = [<trimesh.Trimesh(vertices.shape=(130664, 3), faces.shape=(262957, 3))>, <trimesh.Trimesh(vertices.shape=(11230, 3), faces.shape=(22668, 3))>, <trimesh.Trimesh(vertices.shape=(5465, 3), faces.shape=(10981, 3))>, <trimesh.Trimesh(vertices.shape=(5005, 3), faces.shape=(10092, 3))>, <trimesh.Trimesh(vertices.shape=(4724, 3), faces.shape=(9671, 3))>, <trimesh.Trimesh(vertices.shape=(2890, 3), faces.shape=(5833, 3))>, <trimesh.Trimesh(vertices.shape=(238, 3), faces.shape=(480, 3))>, <trimesh.Trimesh(vertices.shape=(171, 3), faces.shape=(353, 3))>]\n",
      "There were 8 pieces found after size threshold\n",
      "mesh pieces in subtact soma AFTER the filtering inside pieces = [<trimesh.Trimesh(vertices.shape=(130664, 3), faces.shape=(262957, 3))>, <trimesh.Trimesh(vertices.shape=(11230, 3), faces.shape=(22668, 3))>, <trimesh.Trimesh(vertices.shape=(5465, 3), faces.shape=(10981, 3))>, <trimesh.Trimesh(vertices.shape=(5005, 3), faces.shape=(10092, 3))>, <trimesh.Trimesh(vertices.shape=(4724, 3), faces.shape=(9671, 3))>, <trimesh.Trimesh(vertices.shape=(2890, 3), faces.shape=(5833, 3))>, <trimesh.Trimesh(vertices.shape=(238, 3), faces.shape=(480, 3))>, <trimesh.Trimesh(vertices.shape=(171, 3), faces.shape=(353, 3))>]\n",
      "Total Time for soma mesh cancellation = 0.594\n",
      "mesh_pieces_without_soma = [<trimesh.Trimesh(vertices.shape=(130664, 3), faces.shape=(262957, 3))>, <trimesh.Trimesh(vertices.shape=(11230, 3), faces.shape=(22668, 3))>, <trimesh.Trimesh(vertices.shape=(5465, 3), faces.shape=(10981, 3))>, <trimesh.Trimesh(vertices.shape=(5005, 3), faces.shape=(10092, 3))>, <trimesh.Trimesh(vertices.shape=(4724, 3), faces.shape=(9671, 3))>, <trimesh.Trimesh(vertices.shape=(2890, 3), faces.shape=(5833, 3))>, <trimesh.Trimesh(vertices.shape=(238, 3), faces.shape=(480, 3))>, <trimesh.Trimesh(vertices.shape=(171, 3), faces.shape=(353, 3))>]\n",
      "Total time for Subtract Soam = 0.5950045585632324\n",
      "mesh_pieces_without_soma_stacked = <trimesh.Trimesh(vertices.shape=(160387, 3), faces.shape=(323035, 3))>\n",
      "Total time for Original_mesh_faces_map for mesh_pieces without soma= 0.2392749786376953\n",
      "soma_faces = [  7750   7752   7781 ... 278325 278326 278366]\n",
      "soma_meshes = <trimesh.Trimesh(vertices.shape=(2676, 3), faces.shape=(5301, 3))>\n",
      "poisson_backtrack_distance_threshold = None\n",
      "Using Poisson Surface Reconstruction to make mesh watertight\n",
      "IN INPUT FILE VALIDATION LOOP\n",
      "LEAVING LOOP, MESH VALIDATED\n",
      "Using port = 7546\n",
      "xvfb-run -n 7546 -s \"-screen 0 800x600x24\" meshlabserver $@  -i /notebooks/meshAfterPartyDev/Poisson_temp/neuron_222377.off -o /notebooks/meshAfterPartyDev/Poisson_temp/neuron_222377_poisson.off -s /notebooks/meshAfterPartyDev/Poisson_temp/poisson_698226.mls\n"
     ]
    },
    {
     "name": "stderr",
     "output_type": "stream",
     "text": [
      "WARNING:trimesh:face_normals all zero, ignoring!\n",
      "WARNING:trimesh:face_normals all zero, ignoring!\n"
     ]
    },
    {
     "name": "stdout",
     "output_type": "stream",
     "text": [
      "removed temporary input file: /notebooks/meshAfterPartyDev/Poisson_temp/neuron_222377.off\n",
      "removed temporary output file: /notebooks/meshAfterPartyDev/Poisson_temp/neuron_222377_poisson.off\n",
      "/notebooks/meshAfterPartyDev/Poisson_temp/poisson_698226.mls is being deleted....\n",
      "Inside sphere validater: ratio_val = 3.11130932861382\n"
     ]
    }
   ],
   "source": [
    "import soma_extraction_utils as sm\n",
    "\n",
    "somas = sm.extract_soma_center(segment_id,\n",
    "                             current_neuron_mesh.vertices,\n",
    "                             current_neuron_mesh.faces)"
   ]
  },
  {
   "cell_type": "code",
   "execution_count": 12,
   "metadata": {},
   "outputs": [
    {
     "name": "stdout",
     "output_type": "stream",
     "text": [
      "--- 0) Having to preprocess the Neuron becuase no preprocessed data\n",
      "Please wait this could take a while.....\n"
     ]
    },
    {
     "data": {
      "application/vnd.jupyter.widget-view+json": {
       "model_id": "",
       "version_major": 2,
       "version_minor": 0
      },
      "text/plain": [
       "HBox(children=(FloatProgress(value=1.0, bar_style='info', layout=Layout(width='20px'), max=1.0), HTML(value=''…"
      ]
     },
     "metadata": {},
     "output_type": "display_data"
    },
    {
     "data": {
      "application/vnd.jupyter.widget-view+json": {
       "model_id": "",
       "version_major": 2,
       "version_minor": 0
      },
      "text/plain": [
       "HBox(children=(FloatProgress(value=0.0, max=264.0), HTML(value='')))"
      ]
     },
     "metadata": {},
     "output_type": "display_data"
    },
    {
     "data": {
      "application/vnd.jupyter.widget-view+json": {
       "model_id": "",
       "version_major": 2,
       "version_minor": 0
      },
      "text/plain": [
       "HBox(children=(FloatProgress(value=0.0, max=1111.0), HTML(value='')))"
      ]
     },
     "metadata": {},
     "output_type": "display_data"
    },
    {
     "data": {
      "application/vnd.jupyter.widget-view+json": {
       "model_id": "",
       "version_major": 2,
       "version_minor": 0
      },
      "text/plain": [
       "HBox(children=(FloatProgress(value=0.0, max=887.0), HTML(value='')))"
      ]
     },
     "metadata": {},
     "output_type": "display_data"
    },
    {
     "data": {
      "application/vnd.jupyter.widget-view+json": {
       "model_id": "",
       "version_major": 2,
       "version_minor": 0
      },
      "text/plain": [
       "HBox(children=(FloatProgress(value=1.0, bar_style='info', layout=Layout(width='20px'), max=1.0), HTML(value=''…"
      ]
     },
     "metadata": {},
     "output_type": "display_data"
    },
    {
     "data": {
      "application/vnd.jupyter.widget-view+json": {
       "model_id": "",
       "version_major": 2,
       "version_minor": 0
      },
      "text/plain": [
       "HBox(children=(FloatProgress(value=0.0, max=66.0), HTML(value='')))"
      ]
     },
     "metadata": {},
     "output_type": "display_data"
    },
    {
     "data": {
      "application/vnd.jupyter.widget-view+json": {
       "model_id": "",
       "version_major": 2,
       "version_minor": 0
      },
      "text/plain": [
       "HBox(children=(FloatProgress(value=0.0, max=503.0), HTML(value='')))"
      ]
     },
     "metadata": {},
     "output_type": "display_data"
    },
    {
     "data": {
      "application/vnd.jupyter.widget-view+json": {
       "model_id": "",
       "version_major": 2,
       "version_minor": 0
      },
      "text/plain": [
       "HBox(children=(FloatProgress(value=0.0, max=468.0), HTML(value='')))"
      ]
     },
     "metadata": {},
     "output_type": "display_data"
    },
    {
     "data": {
      "application/vnd.jupyter.widget-view+json": {
       "model_id": "",
       "version_major": 2,
       "version_minor": 0
      },
      "text/plain": [
       "HBox(children=(FloatProgress(value=1.0, bar_style='info', layout=Layout(width='20px'), max=1.0), HTML(value=''…"
      ]
     },
     "metadata": {},
     "output_type": "display_data"
    },
    {
     "data": {
      "application/vnd.jupyter.widget-view+json": {
       "model_id": "",
       "version_major": 2,
       "version_minor": 0
      },
      "text/plain": [
       "HBox(children=(FloatProgress(value=0.0, max=50.0), HTML(value='')))"
      ]
     },
     "metadata": {},
     "output_type": "display_data"
    },
    {
     "data": {
      "application/vnd.jupyter.widget-view+json": {
       "model_id": "",
       "version_major": 2,
       "version_minor": 0
      },
      "text/plain": [
       "HBox(children=(FloatProgress(value=0.0, max=184.0), HTML(value='')))"
      ]
     },
     "metadata": {},
     "output_type": "display_data"
    },
    {
     "data": {
      "application/vnd.jupyter.widget-view+json": {
       "model_id": "",
       "version_major": 2,
       "version_minor": 0
      },
      "text/plain": [
       "HBox(children=(FloatProgress(value=0.0, max=127.0), HTML(value='')))"
      ]
     },
     "metadata": {},
     "output_type": "display_data"
    },
    {
     "data": {
      "application/vnd.jupyter.widget-view+json": {
       "model_id": "",
       "version_major": 2,
       "version_minor": 0
      },
      "text/plain": [
       "HBox(children=(FloatProgress(value=1.0, bar_style='info', layout=Layout(width='20px'), max=1.0), HTML(value=''…"
      ]
     },
     "metadata": {},
     "output_type": "display_data"
    },
    {
     "data": {
      "application/vnd.jupyter.widget-view+json": {
       "model_id": "",
       "version_major": 2,
       "version_minor": 0
      },
      "text/plain": [
       "HBox(children=(FloatProgress(value=0.0, max=35.0), HTML(value='')))"
      ]
     },
     "metadata": {},
     "output_type": "display_data"
    },
    {
     "data": {
      "application/vnd.jupyter.widget-view+json": {
       "model_id": "",
       "version_major": 2,
       "version_minor": 0
      },
      "text/plain": [
       "HBox(children=(FloatProgress(value=0.0, max=352.0), HTML(value='')))"
      ]
     },
     "metadata": {},
     "output_type": "display_data"
    },
    {
     "data": {
      "application/vnd.jupyter.widget-view+json": {
       "model_id": "",
       "version_major": 2,
       "version_minor": 0
      },
      "text/plain": [
       "HBox(children=(FloatProgress(value=0.0, max=346.0), HTML(value='')))"
      ]
     },
     "metadata": {},
     "output_type": "display_data"
    },
    {
     "data": {
      "application/vnd.jupyter.widget-view+json": {
       "model_id": "",
       "version_major": 2,
       "version_minor": 0
      },
      "text/plain": [
       "HBox(children=(FloatProgress(value=1.0, bar_style='info', layout=Layout(width='20px'), max=1.0), HTML(value=''…"
      ]
     },
     "metadata": {},
     "output_type": "display_data"
    },
    {
     "data": {
      "application/vnd.jupyter.widget-view+json": {
       "model_id": "",
       "version_major": 2,
       "version_minor": 0
      },
      "text/plain": [
       "HBox(children=(FloatProgress(value=0.0, max=42.0), HTML(value='')))"
      ]
     },
     "metadata": {},
     "output_type": "display_data"
    },
    {
     "data": {
      "application/vnd.jupyter.widget-view+json": {
       "model_id": "",
       "version_major": 2,
       "version_minor": 0
      },
      "text/plain": [
       "HBox(children=(FloatProgress(value=0.0, max=285.0), HTML(value='')))"
      ]
     },
     "metadata": {},
     "output_type": "display_data"
    },
    {
     "data": {
      "application/vnd.jupyter.widget-view+json": {
       "model_id": "",
       "version_major": 2,
       "version_minor": 0
      },
      "text/plain": [
       "HBox(children=(FloatProgress(value=0.0, max=241.0), HTML(value='')))"
      ]
     },
     "metadata": {},
     "output_type": "display_data"
    },
    {
     "data": {
      "application/vnd.jupyter.widget-view+json": {
       "model_id": "",
       "version_major": 2,
       "version_minor": 0
      },
      "text/plain": [
       "HBox(children=(FloatProgress(value=1.0, bar_style='info', layout=Layout(width='20px'), max=1.0), HTML(value=''…"
      ]
     },
     "metadata": {},
     "output_type": "display_data"
    },
    {
     "data": {
      "application/vnd.jupyter.widget-view+json": {
       "model_id": "",
       "version_major": 2,
       "version_minor": 0
      },
      "text/plain": [
       "HBox(children=(FloatProgress(value=0.0, max=46.0), HTML(value='')))"
      ]
     },
     "metadata": {},
     "output_type": "display_data"
    },
    {
     "data": {
      "application/vnd.jupyter.widget-view+json": {
       "model_id": "",
       "version_major": 2,
       "version_minor": 0
      },
      "text/plain": [
       "HBox(children=(FloatProgress(value=0.0, max=259.0), HTML(value='')))"
      ]
     },
     "metadata": {},
     "output_type": "display_data"
    },
    {
     "data": {
      "application/vnd.jupyter.widget-view+json": {
       "model_id": "",
       "version_major": 2,
       "version_minor": 0
      },
      "text/plain": [
       "HBox(children=(FloatProgress(value=0.0, max=227.0), HTML(value='')))"
      ]
     },
     "metadata": {},
     "output_type": "display_data"
    },
    {
     "data": {
      "application/vnd.jupyter.widget-view+json": {
       "model_id": "",
       "version_major": 2,
       "version_minor": 0
      },
      "text/plain": [
       "HBox(children=(FloatProgress(value=1.0, bar_style='info', layout=Layout(width='20px'), max=1.0), HTML(value=''…"
      ]
     },
     "metadata": {},
     "output_type": "display_data"
    },
    {
     "data": {
      "application/vnd.jupyter.widget-view+json": {
       "model_id": "",
       "version_major": 2,
       "version_minor": 0
      },
      "text/plain": [
       "HBox(children=(FloatProgress(value=0.0, max=38.0), HTML(value='')))"
      ]
     },
     "metadata": {},
     "output_type": "display_data"
    },
    {
     "data": {
      "application/vnd.jupyter.widget-view+json": {
       "model_id": "",
       "version_major": 2,
       "version_minor": 0
      },
      "text/plain": [
       "HBox(children=(FloatProgress(value=0.0, max=276.0), HTML(value='')))"
      ]
     },
     "metadata": {},
     "output_type": "display_data"
    },
    {
     "data": {
      "application/vnd.jupyter.widget-view+json": {
       "model_id": "",
       "version_major": 2,
       "version_minor": 0
      },
      "text/plain": [
       "HBox(children=(FloatProgress(value=0.0, max=236.0), HTML(value='')))"
      ]
     },
     "metadata": {},
     "output_type": "display_data"
    },
    {
     "data": {
      "application/vnd.jupyter.widget-view+json": {
       "model_id": "",
       "version_major": 2,
       "version_minor": 0
      },
      "text/plain": [
       "HBox(children=(FloatProgress(value=1.0, bar_style='info', layout=Layout(width='20px'), max=1.0), HTML(value=''…"
      ]
     },
     "metadata": {},
     "output_type": "display_data"
    },
    {
     "data": {
      "application/vnd.jupyter.widget-view+json": {
       "model_id": "",
       "version_major": 2,
       "version_minor": 0
      },
      "text/plain": [
       "HBox(children=(FloatProgress(value=0.0, max=47.0), HTML(value='')))"
      ]
     },
     "metadata": {},
     "output_type": "display_data"
    },
    {
     "data": {
      "application/vnd.jupyter.widget-view+json": {
       "model_id": "",
       "version_major": 2,
       "version_minor": 0
      },
      "text/plain": [
       "HBox(children=(FloatProgress(value=0.0, max=250.0), HTML(value='')))"
      ]
     },
     "metadata": {},
     "output_type": "display_data"
    },
    {
     "data": {
      "application/vnd.jupyter.widget-view+json": {
       "model_id": "",
       "version_major": 2,
       "version_minor": 0
      },
      "text/plain": [
       "HBox(children=(FloatProgress(value=0.0, max=210.0), HTML(value='')))"
      ]
     },
     "metadata": {},
     "output_type": "display_data"
    },
    {
     "data": {
      "application/vnd.jupyter.widget-view+json": {
       "model_id": "",
       "version_major": 2,
       "version_minor": 0
      },
      "text/plain": [
       "HBox(children=(FloatProgress(value=1.0, bar_style='info', layout=Layout(width='20px'), max=1.0), HTML(value=''…"
      ]
     },
     "metadata": {},
     "output_type": "display_data"
    },
    {
     "data": {
      "application/vnd.jupyter.widget-view+json": {
       "model_id": "",
       "version_major": 2,
       "version_minor": 0
      },
      "text/plain": [
       "HBox(children=(FloatProgress(value=0.0, max=6.0), HTML(value='')))"
      ]
     },
     "metadata": {},
     "output_type": "display_data"
    },
    {
     "data": {
      "application/vnd.jupyter.widget-view+json": {
       "model_id": "",
       "version_major": 2,
       "version_minor": 0
      },
      "text/plain": [
       "HBox(children=(FloatProgress(value=0.0, max=55.0), HTML(value='')))"
      ]
     },
     "metadata": {},
     "output_type": "display_data"
    },
    {
     "data": {
      "application/vnd.jupyter.widget-view+json": {
       "model_id": "",
       "version_major": 2,
       "version_minor": 0
      },
      "text/plain": [
       "HBox(children=(FloatProgress(value=0.0, max=50.0), HTML(value='')))"
      ]
     },
     "metadata": {},
     "output_type": "display_data"
    },
    {
     "data": {
      "application/vnd.jupyter.widget-view+json": {
       "model_id": "",
       "version_major": 2,
       "version_minor": 0
      },
      "text/plain": [
       "HBox(children=(FloatProgress(value=1.0, bar_style='info', layout=Layout(width='20px'), max=1.0), HTML(value=''…"
      ]
     },
     "metadata": {},
     "output_type": "display_data"
    },
    {
     "data": {
      "application/vnd.jupyter.widget-view+json": {
       "model_id": "",
       "version_major": 2,
       "version_minor": 0
      },
      "text/plain": [
       "HBox(children=(FloatProgress(value=0.0, max=18.0), HTML(value='')))"
      ]
     },
     "metadata": {},
     "output_type": "display_data"
    },
    {
     "data": {
      "application/vnd.jupyter.widget-view+json": {
       "model_id": "",
       "version_major": 2,
       "version_minor": 0
      },
      "text/plain": [
       "HBox(children=(FloatProgress(value=0.0, max=86.0), HTML(value='')))"
      ]
     },
     "metadata": {},
     "output_type": "display_data"
    },
    {
     "data": {
      "application/vnd.jupyter.widget-view+json": {
       "model_id": "",
       "version_major": 2,
       "version_minor": 0
      },
      "text/plain": [
       "HBox(children=(FloatProgress(value=0.0, max=54.0), HTML(value='')))"
      ]
     },
     "metadata": {},
     "output_type": "display_data"
    },
    {
     "data": {
      "application/vnd.jupyter.widget-view+json": {
       "model_id": "",
       "version_major": 2,
       "version_minor": 0
      },
      "text/plain": [
       "HBox(children=(FloatProgress(value=1.0, bar_style='info', layout=Layout(width='20px'), max=1.0), HTML(value=''…"
      ]
     },
     "metadata": {},
     "output_type": "display_data"
    },
    {
     "data": {
      "application/vnd.jupyter.widget-view+json": {
       "model_id": "",
       "version_major": 2,
       "version_minor": 0
      },
      "text/plain": [
       "HBox(children=(FloatProgress(value=0.0, max=15.0), HTML(value='')))"
      ]
     },
     "metadata": {},
     "output_type": "display_data"
    },
    {
     "data": {
      "application/vnd.jupyter.widget-view+json": {
       "model_id": "",
       "version_major": 2,
       "version_minor": 0
      },
      "text/plain": [
       "HBox(children=(FloatProgress(value=0.0, max=66.0), HTML(value='')))"
      ]
     },
     "metadata": {},
     "output_type": "display_data"
    },
    {
     "data": {
      "application/vnd.jupyter.widget-view+json": {
       "model_id": "",
       "version_major": 2,
       "version_minor": 0
      },
      "text/plain": [
       "HBox(children=(FloatProgress(value=0.0, max=43.0), HTML(value='')))"
      ]
     },
     "metadata": {},
     "output_type": "display_data"
    },
    {
     "data": {
      "application/vnd.jupyter.widget-view+json": {
       "model_id": "",
       "version_major": 2,
       "version_minor": 0
      },
      "text/plain": [
       "HBox(children=(FloatProgress(value=1.0, bar_style='info', layout=Layout(width='20px'), max=1.0), HTML(value=''…"
      ]
     },
     "metadata": {},
     "output_type": "display_data"
    },
    {
     "data": {
      "application/vnd.jupyter.widget-view+json": {
       "model_id": "",
       "version_major": 2,
       "version_minor": 0
      },
      "text/plain": [
       "HBox(children=(FloatProgress(value=0.0, max=20.0), HTML(value='')))"
      ]
     },
     "metadata": {},
     "output_type": "display_data"
    },
    {
     "data": {
      "application/vnd.jupyter.widget-view+json": {
       "model_id": "",
       "version_major": 2,
       "version_minor": 0
      },
      "text/plain": [
       "HBox(children=(FloatProgress(value=0.0, max=75.0), HTML(value='')))"
      ]
     },
     "metadata": {},
     "output_type": "display_data"
    },
    {
     "data": {
      "application/vnd.jupyter.widget-view+json": {
       "model_id": "",
       "version_major": 2,
       "version_minor": 0
      },
      "text/plain": [
       "HBox(children=(FloatProgress(value=0.0, max=47.0), HTML(value='')))"
      ]
     },
     "metadata": {},
     "output_type": "display_data"
    },
    {
     "data": {
      "application/vnd.jupyter.widget-view+json": {
       "model_id": "",
       "version_major": 2,
       "version_minor": 0
      },
      "text/plain": [
       "HBox(children=(FloatProgress(value=1.0, bar_style='info', layout=Layout(width='20px'), max=1.0), HTML(value=''…"
      ]
     },
     "metadata": {},
     "output_type": "display_data"
    },
    {
     "data": {
      "application/vnd.jupyter.widget-view+json": {
       "model_id": "",
       "version_major": 2,
       "version_minor": 0
      },
      "text/plain": [
       "HBox(children=(FloatProgress(value=0.0, max=19.0), HTML(value='')))"
      ]
     },
     "metadata": {},
     "output_type": "display_data"
    },
    {
     "data": {
      "application/vnd.jupyter.widget-view+json": {
       "model_id": "",
       "version_major": 2,
       "version_minor": 0
      },
      "text/plain": [
       "HBox(children=(FloatProgress(value=0.0, max=65.0), HTML(value='')))"
      ]
     },
     "metadata": {},
     "output_type": "display_data"
    },
    {
     "data": {
      "application/vnd.jupyter.widget-view+json": {
       "model_id": "",
       "version_major": 2,
       "version_minor": 0
      },
      "text/plain": [
       "HBox(children=(FloatProgress(value=0.0, max=16.0), HTML(value='')))"
      ]
     },
     "metadata": {},
     "output_type": "display_data"
    },
    {
     "name": "stdout",
     "output_type": "stream",
     "text": [
      "--- 0) Total time for preprocessing: 1304.624892950058\n",
      "\n",
      "\n",
      "\n",
      "\n",
      "--- 1) Finished unpacking preprocessed materials: 5.9604644775390625e-06\n",
      "total_edges = [['S0', 'L0'], ['S0', 'L1'], ['S0', 'L3'], ['S0', 'L4'], ['S0', 'L5'], ['S0', 'L6'], ['S0', 'L7'], ['S0', 'L12'], ['S1', 'L0'], ['S1', 'L2'], ['S1', 'L8'], ['S1', 'L9'], ['S1', 'L10'], ['S1', 'L11']]\n",
      "--- 2) Finished creating neuron connectivity graph: 0.0002968311309814453\n",
      "Having to generate soma_meshes_face_idx because none in preprocessed data\n",
      "--- 3a) Finshed generating soma_meshes_face_idx: 1.09627103805542\n",
      "Using Poisson Surface Reconstruction to make mesh watertight\n",
      "IN INPUT FILE VALIDATION LOOP\n",
      "LEAVING LOOP, MESH VALIDATED\n",
      "Using port = 3585\n",
      "xvfb-run -n 3585 -s \"-screen 0 800x600x24\" meshlabserver $@  -i /notebooks/meshAfterPartyDev/Poisson_temp/neuron_860446.off -o /notebooks/meshAfterPartyDev/Poisson_temp/neuron_860446_poisson.off -s /notebooks/meshAfterPartyDev/Poisson_temp/poisson_643195.mls\n"
     ]
    },
    {
     "name": "stderr",
     "output_type": "stream",
     "text": [
      "WARNING:trimesh:face_normals all zero, ignoring!\n",
      "WARNING:trimesh:face_normals all zero, ignoring!\n",
      "WARNING:trimesh:face_normals all zero, ignoring!\n",
      "WARNING:trimesh:face_normals all zero, ignoring!\n",
      "WARNING:trimesh:face_normals all zero, ignoring!\n",
      "WARNING:trimesh:face_normals all zero, ignoring!\n",
      "WARNING:trimesh:face_normals all zero, ignoring!\n",
      "WARNING:trimesh:face_normals all zero, ignoring!\n",
      "WARNING:trimesh:face_normals all zero, ignoring!\n",
      "WARNING:trimesh:face_normals all zero, ignoring!\n",
      "WARNING:trimesh:face_normals all zero, ignoring!\n",
      "WARNING:trimesh:face_normals all zero, ignoring!\n",
      "WARNING:trimesh:face_normals all zero, ignoring!\n",
      "WARNING:trimesh:face_normals all zero, ignoring!\n",
      "WARNING:trimesh:face_normals all zero, ignoring!\n",
      "WARNING:trimesh:face_normals all zero, ignoring!\n",
      "WARNING:trimesh:face_normals all zero, ignoring!\n",
      "WARNING:trimesh:face_normals all zero, ignoring!\n",
      "WARNING:trimesh:face_normals all zero, ignoring!\n",
      "WARNING:trimesh:face_normals all zero, ignoring!\n",
      "WARNING:trimesh:face_normals all zero, ignoring!\n",
      "WARNING:trimesh:face_normals all zero, ignoring!\n",
      "WARNING:trimesh:face_normals all zero, ignoring!\n"
     ]
    },
    {
     "name": "stdout",
     "output_type": "stream",
     "text": [
      "removed temporary input file: /notebooks/meshAfterPartyDev/Poisson_temp/neuron_860446.off\n",
      "removed temporary output file: /notebooks/meshAfterPartyDev/Poisson_temp/neuron_860446_poisson.off\n",
      "/notebooks/meshAfterPartyDev/Poisson_temp/poisson_643195.mls is being deleted....\n",
      "Using Poisson Surface Reconstruction to make mesh watertight\n",
      "IN INPUT FILE VALIDATION LOOP\n",
      "LEAVING LOOP, MESH VALIDATED\n",
      "Using port = 6553\n",
      "xvfb-run -n 6553 -s \"-screen 0 800x600x24\" meshlabserver $@  -i /notebooks/meshAfterPartyDev/Poisson_temp/neuron_174987.off -o /notebooks/meshAfterPartyDev/Poisson_temp/neuron_174987_poisson.off -s /notebooks/meshAfterPartyDev/Poisson_temp/poisson_104346.mls\n"
     ]
    },
    {
     "name": "stderr",
     "output_type": "stream",
     "text": [
      "WARNING:trimesh:face_normals all zero, ignoring!\n",
      "WARNING:trimesh:face_normals all zero, ignoring!\n",
      "WARNING:trimesh:face_normals all zero, ignoring!\n",
      "WARNING:trimesh:face_normals all zero, ignoring!\n",
      "WARNING:trimesh:face_normals all zero, ignoring!\n",
      "WARNING:trimesh:face_normals all zero, ignoring!\n",
      "WARNING:trimesh:face_normals all zero, ignoring!\n",
      "WARNING:trimesh:face_normals all zero, ignoring!\n",
      "WARNING:trimesh:face_normals all zero, ignoring!\n",
      "WARNING:trimesh:face_normals all zero, ignoring!\n",
      "WARNING:trimesh:face_normals all zero, ignoring!\n",
      "WARNING:trimesh:face_normals all zero, ignoring!\n",
      "WARNING:trimesh:face_normals all zero, ignoring!\n",
      "WARNING:trimesh:face_normals all zero, ignoring!\n",
      "WARNING:trimesh:face_normals all zero, ignoring!\n",
      "WARNING:trimesh:face_normals all zero, ignoring!\n",
      "WARNING:trimesh:face_normals all zero, ignoring!\n",
      "WARNING:trimesh:face_normals all zero, ignoring!\n",
      "WARNING:trimesh:face_normals all zero, ignoring!\n"
     ]
    },
    {
     "name": "stdout",
     "output_type": "stream",
     "text": [
      "removed temporary input file: /notebooks/meshAfterPartyDev/Poisson_temp/neuron_174987.off\n",
      "removed temporary output file: /notebooks/meshAfterPartyDev/Poisson_temp/neuron_174987_poisson.off\n",
      "/notebooks/meshAfterPartyDev/Poisson_temp/poisson_104346.mls is being deleted....\n",
      "--- 3) Finshed generating soma objects and adding them to concept graph: 17.031407833099365\n",
      "--- 4a) Finshed generating curr_limb_meshes_face_idx: 5.34084415435791\n",
      "curr_limb_concept_networks= {0: <networkx_utils.GraphOrderedEdges object at 0x7fe8f6a2c668>, 1: <networkx_utils.GraphOrderedEdges object at 0x7fe8f387a400>}\n",
      "concept_network_dict = {0: <networkx_utils.GraphOrderedEdges object at 0x7fe8f6a2c668>, 1: <networkx_utils.GraphOrderedEdges object at 0x7fe8f387a400>}\n",
      "checking and resolving cycles\n",
      "No cycles to fix\n",
      "curr_limb_concept_networks= {0: <networkx_utils.GraphOrderedEdges object at 0x7fe8fdc77ba8>}\n",
      "concept_network_dict = {0: <networkx_utils.GraphOrderedEdges object at 0x7fe8fdc77ba8>}\n",
      "checking and resolving cycles\n",
      "No cycles to fix\n",
      "curr_limb_concept_networks= {1: <networkx_utils.GraphOrderedEdges object at 0x7fe890781d30>}\n",
      "concept_network_dict = {1: <networkx_utils.GraphOrderedEdges object at 0x7fe890781d30>}\n",
      "checking and resolving cycles\n",
      "No cycles to fix\n",
      "curr_limb_concept_networks= {0: <networkx_utils.GraphOrderedEdges object at 0x7fe8f6a2cbe0>}\n",
      "concept_network_dict = {0: <networkx_utils.GraphOrderedEdges object at 0x7fe8f6a2cbe0>}\n",
      "checking and resolving cycles\n",
      "No cycles to fix\n",
      "curr_limb_concept_networks= {0: <networkx_utils.GraphOrderedEdges object at 0x7fe8f6e4c8d0>}\n",
      "concept_network_dict = {0: <networkx_utils.GraphOrderedEdges object at 0x7fe8f6e4c8d0>}\n",
      "checking and resolving cycles\n",
      "No cycles to fix\n",
      "curr_limb_concept_networks= {0: <networkx_utils.GraphOrderedEdges object at 0x7fe8f387a1d0>}\n",
      "concept_network_dict = {0: <networkx_utils.GraphOrderedEdges object at 0x7fe8f387a1d0>}\n",
      "checking and resolving cycles\n",
      "No cycles to fix\n",
      "curr_limb_concept_networks= {0: <networkx_utils.GraphOrderedEdges object at 0x7fe8f384ba90>}\n",
      "concept_network_dict = {0: <networkx_utils.GraphOrderedEdges object at 0x7fe8f384ba90>}\n",
      "checking and resolving cycles\n",
      "No cycles to fix\n",
      "curr_limb_concept_networks= {0: <networkx_utils.GraphOrderedEdges object at 0x7fe89a0f8eb8>}\n",
      "concept_network_dict = {0: <networkx_utils.GraphOrderedEdges object at 0x7fe89a0f8eb8>}\n",
      "checking and resolving cycles\n",
      "No cycles to fix\n",
      "curr_limb_concept_networks= {1: <networkx_utils.GraphOrderedEdges object at 0x7fe8f6e4c748>}\n",
      "concept_network_dict = {1: <networkx_utils.GraphOrderedEdges object at 0x7fe8f6e4c748>}\n",
      "checking and resolving cycles\n",
      "No cycles to fix\n",
      "curr_limb_concept_networks= {1: <networkx_utils.GraphOrderedEdges object at 0x7fe88e2bf1d0>}\n",
      "concept_network_dict = {1: <networkx_utils.GraphOrderedEdges object at 0x7fe88e2bf1d0>}\n",
      "checking and resolving cycles\n",
      "No cycles to fix\n",
      "curr_limb_concept_networks= {1: <networkx_utils.GraphOrderedEdges object at 0x7fe8f6ee9ba8>}\n",
      "concept_network_dict = {1: <networkx_utils.GraphOrderedEdges object at 0x7fe8f6ee9ba8>}\n",
      "checking and resolving cycles\n",
      "No cycles to fix\n",
      "curr_limb_concept_networks= {1: <networkx_utils.GraphOrderedEdges object at 0x7fe929f47eb8>}\n",
      "concept_network_dict = {1: <networkx_utils.GraphOrderedEdges object at 0x7fe929f47eb8>}\n",
      "checking and resolving cycles\n",
      "No cycles to fix\n",
      "curr_limb_concept_networks= {0: <networkx_utils.GraphOrderedEdges object at 0x7fe8f6cc4198>}\n",
      "concept_network_dict = {0: <networkx_utils.GraphOrderedEdges object at 0x7fe8f6cc4198>}\n",
      "checking and resolving cycles\n",
      "No cycles to fix\n",
      "--- 4) Finshed generating Limb objects and adding them to concept graph: 1.0242774486541748\n",
      "--- 5) SKIPPING Doing the adaptive mesh correspondence on the meshparty preprocessing ---\n",
      "--- 6) SKIPPING Using the computed_attribute_dict to populate neuron attributes ---\n",
      "Total time for neuron instance creation = 1329.1188702583313\n",
      "Total time for processing: 1329.1274683475494\n"
     ]
    }
   ],
   "source": [
    "import time\n",
    "meshparty_time = time.time()\n",
    "import compartment_utils as cu\n",
    "cu = reload(cu)\n",
    "\n",
    "import meshparty_skeletonize as m_sk\n",
    "import preprocess_neuron as pn\n",
    "pn = reload(pn)\n",
    "m_sk = reload(m_sk)\n",
    "import skeleton_utils as sk\n",
    "sk = reload(sk)\n",
    "import trimesh_utils as tu\n",
    "tu = reload(tu)\n",
    "import networkx as xu\n",
    "xu = reload(xu)\n",
    "\n",
    "somas = somas\n",
    "\n",
    "nru = reload(nru)\n",
    "neuron = reload(neuron)\n",
    "current_neuron = neuron.Neuron(\n",
    "    mesh=current_neuron_mesh,\n",
    "    segment_id=segment_id,\n",
    "    description=description,\n",
    "    decomposition_type=\"meshafterparty\",\n",
    "    somas = somas,\n",
    "    #branch_skeleton_data=branch_skeleton_data,\n",
    "    suppress_preprocessing_print=True,\n",
    ")\n",
    "print(f\"Total time for processing: {time.time() - meshparty_time}\")\n",
    "\n",
    "\n",
    "\n"
   ]
  },
  {
   "cell_type": "code",
   "execution_count": 13,
   "metadata": {},
   "outputs": [
    {
     "name": "stdout",
     "output_type": "stream",
     "text": [
      "\n",
      " Working on visualization type: mesh\n",
      "\n",
      " Working on visualization type: skeleton\n"
     ]
    },
    {
     "data": {
      "application/vnd.jupyter.widget-view+json": {
       "model_id": "2320b6b7040540a9899432ded7a4d653",
       "version_major": 2,
       "version_minor": 0
      },
      "text/plain": [
       "VBox(children=(Figure(camera=PerspectiveCamera(fov=46.0, position=(0.0, 0.0, 2.0), quaternion=(0.0, 0.0, 0.0, …"
      ]
     },
     "metadata": {},
     "output_type": "display_data"
    }
   ],
   "source": [
    "nviz.visualize_neuron(current_neuron,\n",
    "                     visualize_type=[\"mesh\",\"skeleton\"],\n",
    "                     limb_branch_dict=\"all\",\n",
    "                     mesh_resolution=\"limb\",\n",
    "                     skeleton_resolution=\"limb\")"
   ]
  },
  {
   "cell_type": "code",
   "execution_count": 15,
   "metadata": {},
   "outputs": [
    {
     "name": "stdout",
     "output_type": "stream",
     "text": [
      "\n",
      " Working on visualization type: mesh\n"
     ]
    },
    {
     "data": {
      "application/vnd.jupyter.widget-view+json": {
       "model_id": "f1ed310ed3bd47cd9339d624e868f457",
       "version_major": 2,
       "version_minor": 0
      },
      "text/plain": [
       "VBox(children=(Figure(camera=PerspectiveCamera(fov=46.0, position=(0.0, 0.0, 2.0), quaternion=(0.0, 0.0, 0.0, …"
      ]
     },
     "metadata": {},
     "output_type": "display_data"
    }
   ],
   "source": [
    "nviz.visualize_neuron(current_neuron,\n",
    "                     visualize_type=[\"mesh\"],\n",
    "                     limb_branch_dict=\"all\",\n",
    "                     mesh_resolution=\"branch\",\n",
    "                     skeleton_resolution=\"branch\")"
   ]
  },
  {
   "cell_type": "markdown",
   "metadata": {},
   "source": [
    "# Testing MeshParty on Inhibitory Neuron"
   ]
  },
  {
   "cell_type": "code",
   "execution_count": 16,
   "metadata": {},
   "outputs": [],
   "source": [
    "import trimesh_utils as tu\n",
    "mesh_file_path = Path(\"/notebooks/test_neurons/spine_detection/90725377802114822_inhibitory_7.off\")\n",
    "mesh_file_path.exists()\n",
    "current_neuron_mesh = tu.load_mesh_no_processing(str(mesh_file_path.absolute()))"
   ]
  },
  {
   "cell_type": "code",
   "execution_count": 17,
   "metadata": {},
   "outputs": [
    {
     "data": {
      "application/vnd.jupyter.widget-view+json": {
       "model_id": "30dd421004c14fd896d267d3d6457597",
       "version_major": 2,
       "version_minor": 0
      },
      "text/plain": [
       "VBox(children=(Figure(camera=PerspectiveCamera(fov=46.0, position=(0.0, 0.0, 2.0), quaternion=(0.0, 0.0, 0.0, …"
      ]
     },
     "metadata": {},
     "output_type": "display_data"
    }
   ],
   "source": [
    "sk.graph_skeleton_and_mesh(other_meshes=[current_neuron_mesh])"
   ]
  },
  {
   "cell_type": "code",
   "execution_count": 19,
   "metadata": {},
   "outputs": [
    {
     "data": {
      "text/plain": [
       "(90725377802114822, 'inhibitory_7')"
      ]
     },
     "execution_count": 19,
     "metadata": {},
     "output_type": "execute_result"
    }
   ],
   "source": [
    "file_parts = str(mesh_file_path.name)[:-4].split(\"_\")\n",
    "\n",
    "segment_id=int(file_parts[0])\n",
    "description = \"_\".join(file_parts[1:])\n",
    "segment_id,description"
   ]
  },
  {
   "cell_type": "code",
   "execution_count": 23,
   "metadata": {},
   "outputs": [
    {
     "name": "stdout",
     "output_type": "stream",
     "text": [
      "Current Arguments Using (adjusted for decimation):\n",
      " large_mesh_threshold= 15000.0 \n",
      "large_mesh_threshold_inner = 10000.0 \n",
      "soma_size_threshold = 1250.0 \n",
      "soma_size_threshold_max = 12000.0\n",
      "outer_decimation_ratio = 0.25\n",
      "inner_decimation_ratio = 0.25\n",
      "IN INPUT FILE VALIDATION LOOP\n",
      "LEAVING LOOP, MESH VALIDATED\n",
      "Using port = 5735\n",
      "xvfb-run -n 5735 -s \"-screen 0 800x600x24\" meshlabserver $@  -i /notebooks/meshAfterPartyDev/90725377802114822/neuron_90725377802114822.off -o /notebooks/meshAfterPartyDev/90725377802114822/neuron_90725377802114822_decimated.off -s /notebooks/meshAfterPartyDev/90725377802114822/decimation_meshlab_25658357.mls\n",
      "Total found significant pieces before Poisson = [<trimesh.Trimesh(vertices.shape=(14574, 3), faces.shape=(29448, 3))>]\n",
      "----- working on large mesh #0: <trimesh.Trimesh(vertices.shape=(14574, 3), faces.shape=(29448, 3))>\n",
      "pre_largest_mesh_path = /notebooks/meshAfterPartyDev/90725377802114822/neuron_90725377802114822_decimated_largest_piece.off\n",
      "IN INPUT FILE VALIDATION LOOP\n",
      "LEAVING LOOP, MESH VALIDATED\n",
      "Using port = 1917\n",
      "xvfb-run -n 1917 -s \"-screen 0 800x600x24\" meshlabserver $@  -i /notebooks/meshAfterPartyDev/90725377802114822/neuron_90725377802114822_decimated_largest_piece.off -o /notebooks/meshAfterPartyDev/90725377802114822/neuron_90725377802114822_decimated_largest_piece_poisson.off -s /notebooks/meshAfterPartyDev/90725377802114822/poisson_25664.mls\n"
     ]
    },
    {
     "name": "stderr",
     "output_type": "stream",
     "text": [
      "WARNING:trimesh:face_normals all zero, ignoring!\n",
      "WARNING:trimesh:face_normals all zero, ignoring!\n",
      "WARNING:trimesh:face_normals all zero, ignoring!\n",
      "WARNING:trimesh:face_normals all zero, ignoring!\n",
      "WARNING:trimesh:face_normals all zero, ignoring!\n",
      "WARNING:trimesh:face_normals all zero, ignoring!\n",
      "WARNING:trimesh:face_normals all zero, ignoring!\n",
      "WARNING:trimesh:face_normals all zero, ignoring!\n"
     ]
    },
    {
     "name": "stdout",
     "output_type": "stream",
     "text": [
      "Total found significant pieces AFTER Poisson = [<trimesh.Trimesh(vertices.shape=(15240, 3), faces.shape=(30476, 3))>]\n",
      "----- working on mesh after poisson #0: <trimesh.Trimesh(vertices.shape=(15240, 3), faces.shape=(30476, 3))>\n",
      "IN INPUT FILE VALIDATION LOOP\n",
      "LEAVING LOOP, MESH VALIDATED\n",
      "Using port = 9628\n",
      "xvfb-run -n 9628 -s \"-screen 0 800x600x24\" meshlabserver $@  -i /notebooks/meshAfterPartyDev/90725377802114822/neuron_90725377802114822_decimated_largest_piece_poisson_largest_inner.off -o /notebooks/meshAfterPartyDev/90725377802114822/neuron_90725377802114822_decimated_largest_piece_poisson_largest_inner_decimated.off -s /notebooks/meshAfterPartyDev/90725377802114822/decimation_meshlab_25589173.mls\n",
      "done exporting decimated mesh: neuron_90725377802114822_decimated_largest_piece_poisson_largest_inner.off\n",
      "1) Starting: Mesh importing and Pymesh fix\n",
      "loading mesh from vertices and triangles array\n",
      "1) Finished: Mesh importing and Pymesh fix: 0.00023221969604492188\n",
      "2) Staring: Generating CGAL segmentation for neuron\n",
      "Done writing OFF file\n",
      "\n",
      "Starting CGAL segmentation\n",
      "Right before cgal segmentation, clusters = 3, smoothness = 0.2, path_and_filename = /notebooks/meshAfterPartyDev/temp/9072537780211482200_fixed \n",
      "1\n",
      "Finished CGAL segmentation algorithm: 0.7147610187530518\n",
      "2) Finished: Generating CGAL segmentation for neuron: 0.8299400806427002\n",
      "3) Staring: Generating Graph Structure and Identifying Soma using soma size threshold  = 3000\n",
      "my_list_keys = [0, 1, 2, 3, 4, 5, 6, 7, 8]\n",
      "soma_index = -1\n",
      "3) Finished: Generating Graph Structure and Identifying Soma: 0.00262451171875\n",
      "Not finding the apical because soma_only option selected\n",
      "6) Staring: Classifying Entire Neuron\n",
      "Total Labels found = {'unsure'}\n",
      "6) Finished: Classifying Entire Neuron: 4.100799560546875e-05\n",
      "7) Staring: Transfering Segmentation Labels to Face Labels\n",
      "7) Finished: Transfering Segmentation Labels to Face Labels: 0.0069730281829833984\n",
      "8) Staring: Generating final Vertex and Face Labels\n",
      "8) Finished: Generating final Vertex and Face Labels: 0.03579854965209961\n",
      "Returning the soma_sdf value AND the classifier\n",
      "soma_sdf_value = 0\n",
      "segmentation[sorted_medians],median_values[sorted_medians] = (array([0, 6, 3, 5, 7, 4, 2, 1, 8]), array([0.8903285 , 0.503604  , 0.217541  , 0.1099245 , 0.08258765,\n",
      "       0.0798485 , 0.075388  , 0.0738739 , 0.06830305]))\n",
      "Sizes = [2820, 529, 400, 652, 640, 239, 485, 999, 854]\n",
      "valid_soma_segments_width\n",
      "      ------ Found 1 viable somas: [0]\n",
      "Using Poisson Surface Reconstruction to make mesh watertight\n",
      "IN INPUT FILE VALIDATION LOOP\n",
      "LEAVING LOOP, MESH VALIDATED\n",
      "Using port = 546\n",
      "xvfb-run -n 546 -s \"-screen 0 800x600x24\" meshlabserver $@  -i /notebooks/meshAfterPartyDev/Poisson_temp/neuron_699545.off -o /notebooks/meshAfterPartyDev/Poisson_temp/neuron_699545_poisson.off -s /notebooks/meshAfterPartyDev/Poisson_temp/poisson_80250.mls\n"
     ]
    },
    {
     "name": "stderr",
     "output_type": "stream",
     "text": [
      "WARNING:trimesh:face_normals all zero, ignoring!\n",
      "WARNING:trimesh:face_normals all zero, ignoring!\n",
      "WARNING:trimesh:face_normals all zero, ignoring!\n",
      "WARNING:trimesh:face_normals all zero, ignoring!\n",
      "WARNING:trimesh:face_normals all zero, ignoring!\n",
      "WARNING:trimesh:face_normals all zero, ignoring!\n",
      "WARNING:trimesh:face_normals all zero, ignoring!\n",
      "WARNING:trimesh:face_normals all zero, ignoring!\n",
      "WARNING:trimesh:face_normals all zero, ignoring!\n"
     ]
    },
    {
     "name": "stdout",
     "output_type": "stream",
     "text": [
      "removed temporary input file: /notebooks/meshAfterPartyDev/Poisson_temp/neuron_699545.off\n",
      "removed temporary output file: /notebooks/meshAfterPartyDev/Poisson_temp/neuron_699545_poisson.off\n",
      "/notebooks/meshAfterPartyDev/Poisson_temp/poisson_80250.mls is being deleted....\n",
      "Inside sphere validater: ratio_val = 2.151418464605979\n",
      "\n",
      "\n",
      "\n",
      " Total time for run = 20.336482048034668\n",
      "Before Filtering the number of somas found = 1\n",
      "Performing Soma Mesh Backtracking to original mesh\n",
      "# total split meshes = 8\n",
      "viable_meshes = [0]\n",
      "There were 7 pieces found after size threshold\n",
      "# of soma containing seperate meshes = 1\n",
      "meshes with somas = {0: [0]}\n",
      "\n",
      "\n",
      "----Working on soma-containing mesh piece 0----\n",
      "current_soma_mesh_list = [<trimesh.Trimesh(vertices.shape=(1439, 3), faces.shape=(2820, 3))>]\n",
      "current_mesh = <trimesh.Trimesh(vertices.shape=(14574, 3), faces.shape=(29448, 3))>\n",
      "\n",
      "inside Soma subtraction\n",
      "mesh pieces in subtact soma BEFORE the filtering inside pieces = [<trimesh.Trimesh(vertices.shape=(4575, 3), faces.shape=(9187, 3))>, <trimesh.Trimesh(vertices.shape=(3798, 3), faces.shape=(7597, 3))>, <trimesh.Trimesh(vertices.shape=(1917, 3), faces.shape=(3831, 3))>, <trimesh.Trimesh(vertices.shape=(737, 3), faces.shape=(1467, 3))>, <trimesh.Trimesh(vertices.shape=(318, 3), faces.shape=(643, 3))>]\n",
      "There were 5 pieces found after size threshold\n",
      "mesh pieces in subtact soma AFTER the filtering inside pieces = [<trimesh.Trimesh(vertices.shape=(4575, 3), faces.shape=(9187, 3))>, <trimesh.Trimesh(vertices.shape=(3798, 3), faces.shape=(7597, 3))>, <trimesh.Trimesh(vertices.shape=(1917, 3), faces.shape=(3831, 3))>, <trimesh.Trimesh(vertices.shape=(737, 3), faces.shape=(1467, 3))>, <trimesh.Trimesh(vertices.shape=(318, 3), faces.shape=(643, 3))>]\n",
      "Total Time for soma mesh cancellation = 0.122\n",
      "mesh_pieces_without_soma = [<trimesh.Trimesh(vertices.shape=(4575, 3), faces.shape=(9187, 3))>, <trimesh.Trimesh(vertices.shape=(3798, 3), faces.shape=(7597, 3))>, <trimesh.Trimesh(vertices.shape=(1917, 3), faces.shape=(3831, 3))>, <trimesh.Trimesh(vertices.shape=(737, 3), faces.shape=(1467, 3))>, <trimesh.Trimesh(vertices.shape=(318, 3), faces.shape=(643, 3))>]\n",
      "Total time for Subtract Soam = 0.12243318557739258\n",
      "mesh_pieces_without_soma_stacked = <trimesh.Trimesh(vertices.shape=(11345, 3), faces.shape=(22725, 3))>\n",
      "Total time for Original_mesh_faces_map for mesh_pieces without soma= 0.02331256866455078\n",
      "soma_faces = [    2     5     6 ... 25803 25804 25985]\n",
      "soma_meshes = <trimesh.Trimesh(vertices.shape=(3352, 3), faces.shape=(6723, 3))>\n",
      "poisson_backtrack_distance_threshold = None\n",
      "Using Poisson Surface Reconstruction to make mesh watertight\n",
      "IN INPUT FILE VALIDATION LOOP\n",
      "LEAVING LOOP, MESH VALIDATED\n",
      "Using port = 1469\n",
      "xvfb-run -n 1469 -s \"-screen 0 800x600x24\" meshlabserver $@  -i /notebooks/meshAfterPartyDev/Poisson_temp/neuron_930320.off -o /notebooks/meshAfterPartyDev/Poisson_temp/neuron_930320_poisson.off -s /notebooks/meshAfterPartyDev/Poisson_temp/poisson_610392.mls\n"
     ]
    },
    {
     "name": "stderr",
     "output_type": "stream",
     "text": [
      "WARNING:trimesh:face_normals all zero, ignoring!\n"
     ]
    },
    {
     "name": "stdout",
     "output_type": "stream",
     "text": [
      "removed temporary input file: /notebooks/meshAfterPartyDev/Poisson_temp/neuron_930320.off\n",
      "removed temporary output file: /notebooks/meshAfterPartyDev/Poisson_temp/neuron_930320_poisson.off\n",
      "/notebooks/meshAfterPartyDev/Poisson_temp/poisson_610392.mls is being deleted....\n",
      "Inside sphere validater: ratio_val = 2.318033995997825\n"
     ]
    }
   ],
   "source": [
    "import soma_extraction_utils as sm\n",
    "\n",
    "somas_inh = sm.extract_soma_center(segment_id,\n",
    "                             current_neuron_mesh.vertices,\n",
    "                             current_neuron_mesh.faces)"
   ]
  },
  {
   "cell_type": "code",
   "execution_count": 25,
   "metadata": {},
   "outputs": [
    {
     "name": "stdout",
     "output_type": "stream",
     "text": [
      "--- 0) Having to preprocess the Neuron becuase no preprocessed data\n",
      "Please wait this could take a while.....\n",
      "--- 0) Total time for preprocessing: 4.0305116176605225\n",
      "\n",
      "\n",
      "\n",
      "\n",
      "--- 1) Finished unpacking preprocessed materials: 4.5299530029296875e-06\n",
      "total_edges = [['S0', 'L0'], ['S0', 'L1'], ['S0', 'L2'], ['S0', 'L3'], ['S0', 'L4']]\n",
      "--- 2) Finished creating neuron connectivity graph: 0.00014162063598632812\n",
      "Having to generate soma_meshes_face_idx because none in preprocessed data\n",
      "--- 3a) Finshed generating soma_meshes_face_idx: 0.03824114799499512\n",
      "Using Poisson Surface Reconstruction to make mesh watertight\n",
      "IN INPUT FILE VALIDATION LOOP\n",
      "LEAVING LOOP, MESH VALIDATED\n",
      "Using port = 7279\n",
      "xvfb-run -n 7279 -s \"-screen 0 800x600x24\" meshlabserver $@  -i /notebooks/meshAfterPartyDev/Poisson_temp/neuron_717656.off -o /notebooks/meshAfterPartyDev/Poisson_temp/neuron_717656_poisson.off -s /notebooks/meshAfterPartyDev/Poisson_temp/poisson_840608.mls\n"
     ]
    },
    {
     "name": "stderr",
     "output_type": "stream",
     "text": [
      "WARNING:trimesh:face_normals all zero, ignoring!\n",
      "WARNING:trimesh:face_normals all zero, ignoring!\n",
      "WARNING:trimesh:face_normals all zero, ignoring!\n",
      "WARNING:trimesh:face_normals all zero, ignoring!\n",
      "WARNING:trimesh:face_normals all zero, ignoring!\n",
      "WARNING:trimesh:face_normals all zero, ignoring!\n",
      "WARNING:trimesh:face_normals all zero, ignoring!\n",
      "WARNING:trimesh:face_normals all zero, ignoring!\n",
      "WARNING:trimesh:face_normals all zero, ignoring!\n",
      "WARNING:trimesh:face_normals all zero, ignoring!\n",
      "WARNING:trimesh:face_normals all zero, ignoring!\n",
      "WARNING:trimesh:face_normals all zero, ignoring!\n",
      "WARNING:trimesh:face_normals all zero, ignoring!\n"
     ]
    },
    {
     "name": "stdout",
     "output_type": "stream",
     "text": [
      "removed temporary input file: /notebooks/meshAfterPartyDev/Poisson_temp/neuron_717656.off\n",
      "removed temporary output file: /notebooks/meshAfterPartyDev/Poisson_temp/neuron_717656_poisson.off\n",
      "/notebooks/meshAfterPartyDev/Poisson_temp/poisson_840608.mls is being deleted....\n",
      "--- 3) Finshed generating soma objects and adding them to concept graph: 8.992848634719849\n",
      "--- 4a) Finshed generating curr_limb_meshes_face_idx: 0.16563916206359863\n",
      "curr_limb_concept_networks= {0: <networkx_utils.GraphOrderedEdges object at 0x7fe88e027ac8>}\n",
      "concept_network_dict = {0: <networkx_utils.GraphOrderedEdges object at 0x7fe88e027ac8>}\n",
      "checking and resolving cycles\n",
      "No cycles to fix\n",
      "curr_limb_concept_networks= {0: <networkx_utils.GraphOrderedEdges object at 0x7fe88d90da58>}\n",
      "concept_network_dict = {0: <networkx_utils.GraphOrderedEdges object at 0x7fe88d90da58>}\n",
      "checking and resolving cycles\n",
      "No cycles to fix\n",
      "curr_limb_concept_networks= {0: <networkx_utils.GraphOrderedEdges object at 0x7fe88d90d1d0>}\n",
      "concept_network_dict = {0: <networkx_utils.GraphOrderedEdges object at 0x7fe88d90d1d0>}\n",
      "checking and resolving cycles\n",
      "No cycles to fix\n",
      "curr_limb_concept_networks= {0: <networkx_utils.GraphOrderedEdges object at 0x7fe8f323d5f8>}\n",
      "concept_network_dict = {0: <networkx_utils.GraphOrderedEdges object at 0x7fe8f323d5f8>}\n",
      "Concept graph size was 1 or less so returning original\n",
      "curr_limb_concept_networks= {0: <networkx_utils.GraphOrderedEdges object at 0x7fe88d90dbe0>}\n",
      "concept_network_dict = {0: <networkx_utils.GraphOrderedEdges object at 0x7fe88d90dbe0>}\n",
      "Concept graph size was 1 or less so returning original\n",
      "--- 4) Finshed generating Limb objects and adding them to concept graph: 0.14788317680358887\n",
      "--- 5) SKIPPING Doing the adaptive mesh correspondence on the meshparty preprocessing ---\n",
      "--- 6) SKIPPING Using the computed_attribute_dict to populate neuron attributes ---\n",
      "Total time for neuron instance creation = 13.376173734664917\n",
      "Total time for processing: 13.405658483505249\n"
     ]
    }
   ],
   "source": [
    "import time\n",
    "meshparty_time = time.time()\n",
    "import compartment_utils as cu\n",
    "cu = reload(cu)\n",
    "\n",
    "import meshparty_skeletonize as m_sk\n",
    "import preprocess_neuron as pn\n",
    "pn = reload(pn)\n",
    "m_sk = reload(m_sk)\n",
    "import skeleton_utils as sk\n",
    "sk = reload(sk)\n",
    "import trimesh_utils as tu\n",
    "tu = reload(tu)\n",
    "import networkx as xu\n",
    "xu = reload(xu)\n",
    "\n",
    "\n",
    "\n",
    "nru = reload(nru)\n",
    "neuron = reload(neuron)\n",
    "current_neuron_inh = neuron.Neuron(\n",
    "    mesh=current_neuron_mesh,\n",
    "    segment_id=segment_id,\n",
    "    description=description,\n",
    "    decomposition_type=\"meshparty\",\n",
    "    somas = somas_inh,\n",
    "    #branch_skeleton_data=branch_skeleton_data,\n",
    "    suppress_preprocessing_print=True,\n",
    ")\n",
    "print(f\"Total time for processing: {time.time() - meshparty_time}\")\n",
    "\n",
    "\n",
    "\n"
   ]
  },
  {
   "cell_type": "code",
   "execution_count": 27,
   "metadata": {},
   "outputs": [
    {
     "name": "stdout",
     "output_type": "stream",
     "text": [
      "\n",
      " Working on visualization type: mesh\n",
      "\n",
      " Working on visualization type: skeleton\n"
     ]
    },
    {
     "data": {
      "application/vnd.jupyter.widget-view+json": {
       "model_id": "4397c05e04104746b84cc0c703328ba4",
       "version_major": 2,
       "version_minor": 0
      },
      "text/plain": [
       "VBox(children=(Figure(camera=PerspectiveCamera(fov=46.0, position=(0.0, 0.0, 2.0), quaternion=(0.0, 0.0, 0.0, …"
      ]
     },
     "metadata": {},
     "output_type": "display_data"
    }
   ],
   "source": [
    "nviz.visualize_neuron(current_neuron_inh,\n",
    "                     visualize_type=[\"mesh\",\"skeleton\"],\n",
    "                     limb_branch_dict=\"all\",\n",
    "                     mesh_resolution=\"branch\",\n",
    "                     skeleton_resolution=\"branch\")"
   ]
  },
  {
   "cell_type": "markdown",
   "metadata": {},
   "source": [
    "# Testing MeshAfterParty On Inhibitory"
   ]
  },
  {
   "cell_type": "code",
   "execution_count": 28,
   "metadata": {},
   "outputs": [
    {
     "name": "stdout",
     "output_type": "stream",
     "text": [
      "--- 0) Having to preprocess the Neuron becuase no preprocessed data\n",
      "Please wait this could take a while.....\n"
     ]
    },
    {
     "data": {
      "application/vnd.jupyter.widget-view+json": {
       "model_id": "5e289a5661494e75baf908a53154e141",
       "version_major": 2,
       "version_minor": 0
      },
      "text/plain": [
       "HBox(children=(FloatProgress(value=1.0, bar_style='info', layout=Layout(width='20px'), max=1.0), HTML(value=''…"
      ]
     },
     "metadata": {},
     "output_type": "display_data"
    },
    {
     "data": {
      "application/vnd.jupyter.widget-view+json": {
       "model_id": "627d7376b0c3462bb591e7edf58fca80",
       "version_major": 2,
       "version_minor": 0
      },
      "text/plain": [
       "HBox(children=(FloatProgress(value=0.0, max=6.0), HTML(value='')))"
      ]
     },
     "metadata": {},
     "output_type": "display_data"
    },
    {
     "data": {
      "application/vnd.jupyter.widget-view+json": {
       "model_id": "c1b95ff233b74bd2af22470aea580c92",
       "version_major": 2,
       "version_minor": 0
      },
      "text/plain": [
       "HBox(children=(FloatProgress(value=0.0, max=22.0), HTML(value='')))"
      ]
     },
     "metadata": {},
     "output_type": "display_data"
    },
    {
     "data": {
      "application/vnd.jupyter.widget-view+json": {
       "model_id": "d7b8c081cde74e2c92201d65bc3e8f0c",
       "version_major": 2,
       "version_minor": 0
      },
      "text/plain": [
       "HBox(children=(FloatProgress(value=0.0, max=7.0), HTML(value='')))"
      ]
     },
     "metadata": {},
     "output_type": "display_data"
    },
    {
     "data": {
      "application/vnd.jupyter.widget-view+json": {
       "model_id": "f2d75c3af5584c4ca3d2a9a14e45cc33",
       "version_major": 2,
       "version_minor": 0
      },
      "text/plain": [
       "HBox(children=(FloatProgress(value=1.0, bar_style='info', layout=Layout(width='20px'), max=1.0), HTML(value=''…"
      ]
     },
     "metadata": {},
     "output_type": "display_data"
    },
    {
     "data": {
      "application/vnd.jupyter.widget-view+json": {
       "model_id": "62a66a2ffaf8431eb3df04f8264d2e31",
       "version_major": 2,
       "version_minor": 0
      },
      "text/plain": [
       "HBox(children=(FloatProgress(value=0.0, max=2.0), HTML(value='')))"
      ]
     },
     "metadata": {},
     "output_type": "display_data"
    },
    {
     "data": {
      "application/vnd.jupyter.widget-view+json": {
       "model_id": "91541ff41f714fa693c0dd2d2dd0e5b6",
       "version_major": 2,
       "version_minor": 0
      },
      "text/plain": [
       "HBox(children=(FloatProgress(value=0.0, max=9.0), HTML(value='')))"
      ]
     },
     "metadata": {},
     "output_type": "display_data"
    },
    {
     "data": {
      "application/vnd.jupyter.widget-view+json": {
       "model_id": "41ebb54ef92d4f99a4873b1ff4721177",
       "version_major": 2,
       "version_minor": 0
      },
      "text/plain": [
       "HBox(children=(FloatProgress(value=0.0, max=10.0), HTML(value='')))"
      ]
     },
     "metadata": {},
     "output_type": "display_data"
    },
    {
     "data": {
      "application/vnd.jupyter.widget-view+json": {
       "model_id": "c8fc4e7ff2a94713a0c03cf082435b59",
       "version_major": 2,
       "version_minor": 0
      },
      "text/plain": [
       "HBox(children=(FloatProgress(value=1.0, bar_style='info', layout=Layout(width='20px'), max=1.0), HTML(value=''…"
      ]
     },
     "metadata": {},
     "output_type": "display_data"
    },
    {
     "data": {
      "application/vnd.jupyter.widget-view+json": {
       "model_id": "45051c10a9c4495c9aeccc0764dcd27a",
       "version_major": 2,
       "version_minor": 0
      },
      "text/plain": [
       "HBox(children=(FloatProgress(value=0.0, max=2.0), HTML(value='')))"
      ]
     },
     "metadata": {},
     "output_type": "display_data"
    },
    {
     "data": {
      "application/vnd.jupyter.widget-view+json": {
       "model_id": "bfa37b45c6114ff9939bd28b1bf3314d",
       "version_major": 2,
       "version_minor": 0
      },
      "text/plain": [
       "HBox(children=(FloatProgress(value=0.0, max=10.0), HTML(value='')))"
      ]
     },
     "metadata": {},
     "output_type": "display_data"
    },
    {
     "data": {
      "application/vnd.jupyter.widget-view+json": {
       "model_id": "4c1cc54445b04d91a3a38ca784dff55c",
       "version_major": 2,
       "version_minor": 0
      },
      "text/plain": [
       "HBox(children=(FloatProgress(value=0.0, max=3.0), HTML(value='')))"
      ]
     },
     "metadata": {},
     "output_type": "display_data"
    },
    {
     "data": {
      "application/vnd.jupyter.widget-view+json": {
       "model_id": "6123d295edee4dbba4b1f4e4fba12eba",
       "version_major": 2,
       "version_minor": 0
      },
      "text/plain": [
       "HBox(children=(FloatProgress(value=1.0, bar_style='info', layout=Layout(width='20px'), max=1.0), HTML(value=''…"
      ]
     },
     "metadata": {},
     "output_type": "display_data"
    },
    {
     "data": {
      "application/vnd.jupyter.widget-view+json": {
       "model_id": "f5d5e124391f404181a1c463c0271d6d",
       "version_major": 2,
       "version_minor": 0
      },
      "text/plain": [
       "HBox(children=(FloatProgress(value=1.0, bar_style='info', layout=Layout(width='20px'), max=1.0), HTML(value=''…"
      ]
     },
     "metadata": {},
     "output_type": "display_data"
    },
    {
     "data": {
      "application/vnd.jupyter.widget-view+json": {
       "model_id": "3938df0b530f4c6c9db5bb556c4e4e5d",
       "version_major": 2,
       "version_minor": 0
      },
      "text/plain": [
       "HBox(children=(FloatProgress(value=0.0, max=2.0), HTML(value='')))"
      ]
     },
     "metadata": {},
     "output_type": "display_data"
    },
    {
     "data": {
      "application/vnd.jupyter.widget-view+json": {
       "model_id": "66065b3c319e4227874eaf2ebaaa48fd",
       "version_major": 2,
       "version_minor": 0
      },
      "text/plain": [
       "HBox(children=(FloatProgress(value=0.0, max=1.0), HTML(value='')))"
      ]
     },
     "metadata": {},
     "output_type": "display_data"
    },
    {
     "data": {
      "application/vnd.jupyter.widget-view+json": {
       "model_id": "66d49283db0d4877a8e8c5ef71859fd2",
       "version_major": 2,
       "version_minor": 0
      },
      "text/plain": [
       "HBox(children=(FloatProgress(value=1.0, bar_style='info', layout=Layout(width='20px'), max=1.0), HTML(value=''…"
      ]
     },
     "metadata": {},
     "output_type": "display_data"
    },
    {
     "data": {
      "application/vnd.jupyter.widget-view+json": {
       "model_id": "291765884d3e4769ba8a2d4f45c0d7cf",
       "version_major": 2,
       "version_minor": 0
      },
      "text/plain": [
       "HBox(children=(FloatProgress(value=1.0, bar_style='info', layout=Layout(width='20px'), max=1.0), HTML(value=''…"
      ]
     },
     "metadata": {},
     "output_type": "display_data"
    },
    {
     "data": {
      "application/vnd.jupyter.widget-view+json": {
       "model_id": "3140bbee32a94ad5aeee420ee8d6101d",
       "version_major": 2,
       "version_minor": 0
      },
      "text/plain": [
       "HBox(children=(FloatProgress(value=0.0, max=1.0), HTML(value='')))"
      ]
     },
     "metadata": {},
     "output_type": "display_data"
    },
    {
     "name": "stdout",
     "output_type": "stream",
     "text": [
      "--- 0) Total time for preprocessing: 84.9220073223114\n",
      "\n",
      "\n",
      "\n",
      "\n",
      "--- 1) Finished unpacking preprocessed materials: 5.245208740234375e-06\n",
      "total_edges = [['S0', 'L0'], ['S0', 'L1'], ['S0', 'L2'], ['S0', 'L3'], ['S0', 'L4']]\n",
      "--- 2) Finished creating neuron connectivity graph: 7.796287536621094e-05\n",
      "Having to generate soma_meshes_face_idx because none in preprocessed data\n",
      "--- 3a) Finshed generating soma_meshes_face_idx: 0.03798031806945801\n",
      "Using Poisson Surface Reconstruction to make mesh watertight\n",
      "IN INPUT FILE VALIDATION LOOP\n",
      "LEAVING LOOP, MESH VALIDATED\n",
      "Using port = 8089\n",
      "xvfb-run -n 8089 -s \"-screen 0 800x600x24\" meshlabserver $@  -i /notebooks/meshAfterPartyDev/Poisson_temp/neuron_873854.off -o /notebooks/meshAfterPartyDev/Poisson_temp/neuron_873854_poisson.off -s /notebooks/meshAfterPartyDev/Poisson_temp/poisson_84537.mls\n"
     ]
    },
    {
     "name": "stderr",
     "output_type": "stream",
     "text": [
      "WARNING:trimesh:face_normals all zero, ignoring!\n",
      "WARNING:trimesh:face_normals all zero, ignoring!\n",
      "WARNING:trimesh:face_normals all zero, ignoring!\n",
      "WARNING:trimesh:face_normals all zero, ignoring!\n",
      "WARNING:trimesh:face_normals all zero, ignoring!\n",
      "WARNING:trimesh:face_normals all zero, ignoring!\n",
      "WARNING:trimesh:face_normals all zero, ignoring!\n",
      "WARNING:trimesh:face_normals all zero, ignoring!\n",
      "WARNING:trimesh:face_normals all zero, ignoring!\n",
      "WARNING:trimesh:face_normals all zero, ignoring!\n",
      "WARNING:trimesh:face_normals all zero, ignoring!\n",
      "WARNING:trimesh:face_normals all zero, ignoring!\n",
      "WARNING:trimesh:face_normals all zero, ignoring!\n"
     ]
    },
    {
     "name": "stdout",
     "output_type": "stream",
     "text": [
      "removed temporary input file: /notebooks/meshAfterPartyDev/Poisson_temp/neuron_873854.off\n",
      "removed temporary output file: /notebooks/meshAfterPartyDev/Poisson_temp/neuron_873854_poisson.off\n",
      "/notebooks/meshAfterPartyDev/Poisson_temp/poisson_84537.mls is being deleted....\n",
      "--- 3) Finshed generating soma objects and adding them to concept graph: 9.020738363265991\n",
      "--- 4a) Finshed generating curr_limb_meshes_face_idx: 0.16556406021118164\n",
      "curr_limb_concept_networks= {0: <networkx_utils.GraphOrderedEdges object at 0x7fe87c4f7438>}\n",
      "concept_network_dict = {0: <networkx_utils.GraphOrderedEdges object at 0x7fe87c4f7438>}\n",
      "checking and resolving cycles\n",
      "No cycles to fix\n",
      "curr_limb_concept_networks= {0: <networkx_utils.GraphOrderedEdges object at 0x7fe897efb7b8>}\n",
      "concept_network_dict = {0: <networkx_utils.GraphOrderedEdges object at 0x7fe897efb7b8>}\n",
      "checking and resolving cycles\n",
      "No cycles to fix\n",
      "curr_limb_concept_networks= {0: <networkx_utils.GraphOrderedEdges object at 0x7fe88ff5af28>}\n",
      "concept_network_dict = {0: <networkx_utils.GraphOrderedEdges object at 0x7fe88ff5af28>}\n",
      "checking and resolving cycles\n",
      "No cycles to fix\n",
      "curr_limb_concept_networks= {0: <networkx_utils.GraphOrderedEdges object at 0x7fe894c46d68>}\n",
      "concept_network_dict = {0: <networkx_utils.GraphOrderedEdges object at 0x7fe894c46d68>}\n",
      "Concept graph size was 1 or less so returning original\n",
      "curr_limb_concept_networks= {0: <networkx_utils.GraphOrderedEdges object at 0x7fe814e0f908>}\n",
      "concept_network_dict = {0: <networkx_utils.GraphOrderedEdges object at 0x7fe814e0f908>}\n",
      "Concept graph size was 1 or less so returning original\n",
      "--- 4) Finshed generating Limb objects and adding them to concept graph: 0.06880664825439453\n",
      "--- 5) SKIPPING Doing the adaptive mesh correspondence on the meshparty preprocessing ---\n",
      "--- 6) SKIPPING Using the computed_attribute_dict to populate neuron attributes ---\n",
      "Total time for neuron instance creation = 94.21586799621582\n",
      "Total time for processing: 94.2258369922638\n"
     ]
    }
   ],
   "source": [
    "import time\n",
    "meshparty_time = time.time()\n",
    "import compartment_utils as cu\n",
    "cu = reload(cu)\n",
    "\n",
    "import meshparty_skeletonize as m_sk\n",
    "import preprocess_neuron as pn\n",
    "pn = reload(pn)\n",
    "m_sk = reload(m_sk)\n",
    "import skeleton_utils as sk\n",
    "sk = reload(sk)\n",
    "import trimesh_utils as tu\n",
    "tu = reload(tu)\n",
    "import networkx as xu\n",
    "xu = reload(xu)\n",
    "\n",
    "\n",
    "\n",
    "nru = reload(nru)\n",
    "neuron = reload(neuron)\n",
    "current_neuron_inh_MAP = neuron.Neuron(\n",
    "    mesh=current_neuron_mesh,\n",
    "    segment_id=segment_id,\n",
    "    description=description,\n",
    "    decomposition_type=\"meshafterparty\",\n",
    "    somas = somas_inh,\n",
    "    #branch_skeleton_data=branch_skeleton_data,\n",
    "    suppress_preprocessing_print=True,\n",
    ")\n",
    "print(f\"Total time for processing: {time.time() - meshparty_time}\")\n",
    "\n",
    "\n",
    "\n"
   ]
  },
  {
   "cell_type": "code",
   "execution_count": 29,
   "metadata": {},
   "outputs": [
    {
     "name": "stdout",
     "output_type": "stream",
     "text": [
      "\n",
      " Working on visualization type: mesh\n",
      "\n",
      " Working on visualization type: skeleton\n"
     ]
    },
    {
     "data": {
      "application/vnd.jupyter.widget-view+json": {
       "model_id": "a6cae2412115467984393c44e388b375",
       "version_major": 2,
       "version_minor": 0
      },
      "text/plain": [
       "VBox(children=(Figure(camera=PerspectiveCamera(fov=46.0, position=(0.0, 0.0, 2.0), quaternion=(0.0, 0.0, 0.0, …"
      ]
     },
     "metadata": {},
     "output_type": "display_data"
    }
   ],
   "source": [
    "nviz.visualize_neuron(current_neuron_inh_MAP,\n",
    "                     visualize_type=[\"mesh\",\"skeleton\"],\n",
    "                     limb_branch_dict=\"all\",\n",
    "                     mesh_resolution=\"branch\",\n",
    "                     skeleton_resolution=\"branch\")"
   ]
  },
  {
   "cell_type": "code",
   "execution_count": null,
   "metadata": {},
   "outputs": [],
   "source": []
  }
 ],
 "metadata": {
  "kernelspec": {
   "display_name": "Python 3",
   "language": "python",
   "name": "python3"
  },
  "language_info": {
   "codemirror_mode": {
    "name": "ipython",
    "version": 3
   },
   "file_extension": ".py",
   "mimetype": "text/x-python",
   "name": "python",
   "nbconvert_exporter": "python",
   "pygments_lexer": "ipython3",
   "version": "3.6.9"
  }
 },
 "nbformat": 4,
 "nbformat_minor": 4
}
