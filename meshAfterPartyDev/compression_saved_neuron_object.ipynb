{
 "cells": [
  {
   "cell_type": "code",
   "execution_count": null,
   "metadata": {},
   "outputs": [],
   "source": [
    "\"\"\"\n",
    "Purpose: To work on getting a neuron object\n",
    "as small as possible when saved\n",
    "\n",
    "Ideas on how to do that: \n",
    "1) Save none of the meshes and only the face idxs\n",
    "2) decompact everything into the preprocessing\n",
    "format that can save a lot nicer\n",
    "\n",
    "Different version: \n",
    "1) save_mesh: Have copy of mesh in data structure\n",
    "2) no_mesh: Where will have access to the mesh in the \n",
    "database so no need to save again (avoid redundancy)\n",
    "\n",
    "\"\"\""
   ]
  },
  {
   "cell_type": "code",
   "execution_count": 1,
   "metadata": {},
   "outputs": [],
   "source": [
    "from os import sys\n",
    "sys.path.append(\"../../meshAfterParty/meshAfterParty\")\n"
   ]
  },
  {
   "cell_type": "code",
   "execution_count": 2,
   "metadata": {},
   "outputs": [],
   "source": [
    "import neuron\n",
    "import system_utils as su\n",
    "from importlib import reload\n",
    "import trimesh_utils as tu\n",
    "import skeleton_utils as sk"
   ]
  },
  {
   "cell_type": "markdown",
   "metadata": {},
   "source": [
    "# Practicing the new mesh preprocessing (that cleans the limb correspondence)"
   ]
  },
  {
   "cell_type": "code",
   "execution_count": 3,
   "metadata": {},
   "outputs": [
    {
     "name": "stderr",
     "output_type": "stream",
     "text": [
      "/usr/local/lib/python3.6/dist-packages/traittypes/traittypes.py:101: UserWarning: Given trait value dtype \"float64\" does not match required type \"float64\". A coerced copy has been created.\n",
      "  np.dtype(self.dtype).name))\n"
     ]
    },
    {
     "data": {
      "application/vnd.jupyter.widget-view+json": {
       "model_id": "504cb1c1eaea422ba17847571bf797e1",
       "version_major": 2,
       "version_minor": 0
      },
      "text/plain": [
       "VBox(children=(Figure(camera=PerspectiveCamera(fov=46.0, position=(0.0, 0.0, 2.0), quaternion=(0.0, 0.0, 0.0, …"
      ]
     },
     "metadata": {},
     "output_type": "display_data"
    }
   ],
   "source": [
    "from pathlib import Path\n",
    "import trimesh\n",
    "path_to_mesh = Path(\"/notebooks/neuron_mesh_tools/test_neurons/spine_detection/100224677766544793_inhibitory_2.off\")\n",
    "\n",
    "current_mesh = trimesh.load_mesh(str(path_to_mesh.absolute()))\n",
    "sk.graph_skeleton_and_mesh(other_meshes=[current_mesh])"
   ]
  },
  {
   "cell_type": "code",
   "execution_count": 4,
   "metadata": {},
   "outputs": [
    {
     "name": "stdout",
     "output_type": "stream",
     "text": [
      "--- 0) Having to preprocess the Neuron becuase no preprocessed data\n",
      "Please wait this could take a while.....\n"
     ]
    },
    {
     "data": {
      "application/vnd.jupyter.widget-view+json": {
       "model_id": "cd14baadb1b14063b22fb463d3cfa1c8",
       "version_major": 2,
       "version_minor": 0
      },
      "text/plain": [
       "HBox(children=(FloatProgress(value=1.0, bar_style='info', max=1.0), HTML(value='')))"
      ]
     },
     "metadata": {},
     "output_type": "display_data"
    },
    {
     "ename": "KeyboardInterrupt",
     "evalue": "",
     "output_type": "error",
     "traceback": [
      "\u001b[0;31m---------------------------------------------------------------------------\u001b[0m",
      "\u001b[0;31mKeyboardInterrupt\u001b[0m                         Traceback (most recent call last)",
      "\u001b[0;32m<ipython-input-4-65bb886b9e53>\u001b[0m in \u001b[0;36m<module>\u001b[0;34m\u001b[0m\n\u001b[1;32m      3\u001b[0m inhib_object = neuron.Neuron(mesh=current_mesh,\n\u001b[1;32m      4\u001b[0m                             \u001b[0msegment_id\u001b[0m\u001b[0;34m=\u001b[0m\u001b[0;36m100224677766544793\u001b[0m\u001b[0;34m,\u001b[0m\u001b[0;34m\u001b[0m\u001b[0;34m\u001b[0m\u001b[0m\n\u001b[0;32m----> 5\u001b[0;31m                             description=\"inhibitory_2\")\n\u001b[0m",
      "\u001b[0;32m/notebooks/meshAfterParty/meshAfterParty/neuron.py\u001b[0m in \u001b[0;36m__init__\u001b[0;34m(self, mesh, segment_id, description, preprocessed_data, suppress_preprocessing_print, ignore_warnings, minimal_output)\u001b[0m\n\u001b[1;32m    854\u001b[0m                         preprocessed_data = nru.preprocess_neuron(mesh,\n\u001b[1;32m    855\u001b[0m                                          \u001b[0msegment_id\u001b[0m\u001b[0;34m=\u001b[0m\u001b[0msegment_id\u001b[0m\u001b[0;34m,\u001b[0m\u001b[0;34m\u001b[0m\u001b[0;34m\u001b[0m\u001b[0m\n\u001b[0;32m--> 856\u001b[0;31m                                          description=description)\n\u001b[0m\u001b[1;32m    857\u001b[0m                         \u001b[0mprint\u001b[0m\u001b[0;34m(\u001b[0m\u001b[0;34mf\"preprocessed_data inside with = {preprocessed_data}\"\u001b[0m\u001b[0;34m)\u001b[0m\u001b[0;34m\u001b[0m\u001b[0;34m\u001b[0m\u001b[0m\n\u001b[1;32m    858\u001b[0m                 \u001b[0;32melse\u001b[0m\u001b[0;34m:\u001b[0m\u001b[0;34m\u001b[0m\u001b[0;34m\u001b[0m\u001b[0m\n",
      "\u001b[0;32m/notebooks/meshAfterParty/meshAfterParty/neuron_utils.py\u001b[0m in \u001b[0;36mpreprocess_neuron\u001b[0;34m(mesh, mesh_file, segment_id, description, sig_th_initial_split, limb_threshold, filter_end_node_length)\u001b[0m\n\u001b[1;32m   1048\u001b[0m         \u001b[0;32mfor\u001b[0m \u001b[0mz\u001b[0m\u001b[0;34m,\u001b[0m\u001b[0mbranch\u001b[0m \u001b[0;32min\u001b[0m \u001b[0menumerate\u001b[0m\u001b[0;34m(\u001b[0m\u001b[0mcurrent_branches\u001b[0m\u001b[0;34m)\u001b[0m\u001b[0;34m:\u001b[0m\u001b[0;34m\u001b[0m\u001b[0;34m\u001b[0m\u001b[0m\n\u001b[1;32m   1049\u001b[0m             \u001b[0mprint\u001b[0m\u001b[0;34m(\u001b[0m\u001b[0;34mf\"\\n    -- Working on branch {z}--\"\u001b[0m\u001b[0;34m)\u001b[0m\u001b[0;34m\u001b[0m\u001b[0;34m\u001b[0m\u001b[0m\n\u001b[0;32m-> 1050\u001b[0;31m             \u001b[0mcurren_skeleton\u001b[0m \u001b[0;34m=\u001b[0m \u001b[0msk\u001b[0m\u001b[0;34m.\u001b[0m\u001b[0mskeletonize_connected_branch\u001b[0m\u001b[0;34m(\u001b[0m\u001b[0mbranch\u001b[0m\u001b[0;34m)\u001b[0m\u001b[0;34m\u001b[0m\u001b[0;34m\u001b[0m\u001b[0m\n\u001b[0m\u001b[1;32m   1051\u001b[0m             \u001b[0;31m#clean the skeleton\u001b[0m\u001b[0;34m\u001b[0m\u001b[0;34m\u001b[0m\u001b[0;34m\u001b[0m\u001b[0m\n\u001b[1;32m   1052\u001b[0m                 \u001b[0;31m# --------  Doing the cleaning ------- #\u001b[0m\u001b[0;34m\u001b[0m\u001b[0;34m\u001b[0m\u001b[0;34m\u001b[0m\u001b[0m\n",
      "\u001b[0;32m/notebooks/meshAfterParty/meshAfterParty/skeleton_utils.py\u001b[0m in \u001b[0;36mskeletonize_connected_branch\u001b[0;34m(current_mesh, output_folder, delete_temp_files, name, surface_reconstruction_size, n_surface_downsampling, n_surface_samples, skeleton_print, mesh_subtraction_distance_threshold, mesh_subtraction_buffer, max_stitch_distance, current_min_edge)\u001b[0m\n\u001b[1;32m   1756\u001b[0m                                                             \u001b[0mdistance_threshold\u001b[0m\u001b[0;34m=\u001b[0m\u001b[0mmesh_subtraction_distance_threshold\u001b[0m\u001b[0;34m,\u001b[0m\u001b[0;34m\u001b[0m\u001b[0;34m\u001b[0m\u001b[0m\n\u001b[1;32m   1757\u001b[0m                                                             \u001b[0msignificance_threshold\u001b[0m\u001b[0;34m=\u001b[0m\u001b[0mboolean_significance_threshold\u001b[0m\u001b[0;34m,\u001b[0m\u001b[0;34m\u001b[0m\u001b[0;34m\u001b[0m\u001b[0m\n\u001b[0;32m-> 1758\u001b[0;31m                                                             \u001b[0mprint_flag\u001b[0m\u001b[0;34m=\u001b[0m\u001b[0;32mFalse\u001b[0m\u001b[0;34m\u001b[0m\u001b[0;34m\u001b[0m\u001b[0m\n\u001b[0m\u001b[1;32m   1759\u001b[0m                                                            )\n\u001b[1;32m   1760\u001b[0m \u001b[0;34m\u001b[0m\u001b[0m\n",
      "\u001b[0;32m/notebooks/meshAfterParty/meshAfterParty/skeleton_utils.py\u001b[0m in \u001b[0;36mmesh_subtraction_by_skeleton\u001b[0;34m(main_mesh, edges, buffer, bbox_ratio, distance_threshold, significance_threshold, print_flag)\u001b[0m\n\u001b[1;32m    678\u001b[0m         \u001b[0mcontains_points_results\u001b[0m \u001b[0;34m=\u001b[0m \u001b[0mnp\u001b[0m\u001b[0;34m.\u001b[0m\u001b[0marray\u001b[0m\u001b[0;34m(\u001b[0m\u001b[0;34m[\u001b[0m\u001b[0ms_comp\u001b[0m\u001b[0;34m.\u001b[0m\u001b[0mbounding_box_oriented\u001b[0m\u001b[0;34m.\u001b[0m\u001b[0mcontains\u001b[0m\u001b[0;34m(\u001b[0m\u001b[0mex_edge\u001b[0m\u001b[0;34m.\u001b[0m\u001b[0mreshape\u001b[0m\u001b[0;34m(\u001b[0m\u001b[0;34m-\u001b[0m\u001b[0;36m1\u001b[0m\u001b[0;34m,\u001b[0m\u001b[0;36m3\u001b[0m\u001b[0;34m)\u001b[0m\u001b[0;34m)\u001b[0m \u001b[0;32mfor\u001b[0m \u001b[0ms_comp\u001b[0m \u001b[0;32min\u001b[0m \u001b[0msub_components\u001b[0m\u001b[0;34m]\u001b[0m\u001b[0;34m)\u001b[0m\u001b[0;34m\u001b[0m\u001b[0;34m\u001b[0m\u001b[0m\n\u001b[1;32m    679\u001b[0m         \"\"\"\n\u001b[0;32m--> 680\u001b[0;31m         \u001b[0mcontains_points_results\u001b[0m \u001b[0;34m=\u001b[0m \u001b[0mnp\u001b[0m\u001b[0;34m.\u001b[0m\u001b[0marray\u001b[0m\u001b[0;34m(\u001b[0m\u001b[0;34m[\u001b[0m\u001b[0ms_comp\u001b[0m\u001b[0;34m.\u001b[0m\u001b[0mbounding_box\u001b[0m\u001b[0;34m.\u001b[0m\u001b[0mcontains\u001b[0m\u001b[0;34m(\u001b[0m\u001b[0mex_edge\u001b[0m\u001b[0;34m.\u001b[0m\u001b[0mreshape\u001b[0m\u001b[0;34m(\u001b[0m\u001b[0;34m-\u001b[0m\u001b[0;36m1\u001b[0m\u001b[0;34m,\u001b[0m\u001b[0;36m3\u001b[0m\u001b[0;34m)\u001b[0m\u001b[0;34m)\u001b[0m \u001b[0;32mfor\u001b[0m \u001b[0ms_comp\u001b[0m \u001b[0;32min\u001b[0m \u001b[0msub_components\u001b[0m\u001b[0;34m]\u001b[0m\u001b[0;34m)\u001b[0m\u001b[0;34m\u001b[0m\u001b[0;34m\u001b[0m\u001b[0m\n\u001b[0m\u001b[1;32m    681\u001b[0m \u001b[0;34m\u001b[0m\u001b[0m\n\u001b[1;32m    682\u001b[0m         \u001b[0mcontaining_indices\u001b[0m \u001b[0;34m=\u001b[0m \u001b[0;34m(\u001b[0m\u001b[0mnp\u001b[0m\u001b[0;34m.\u001b[0m\u001b[0marange\u001b[0m\u001b[0;34m(\u001b[0m\u001b[0;36m0\u001b[0m\u001b[0;34m,\u001b[0m\u001b[0mlen\u001b[0m\u001b[0;34m(\u001b[0m\u001b[0msub_components\u001b[0m\u001b[0;34m)\u001b[0m\u001b[0;34m)\u001b[0m\u001b[0;34m)\u001b[0m\u001b[0;34m[\u001b[0m\u001b[0mnp\u001b[0m\u001b[0;34m.\u001b[0m\u001b[0msum\u001b[0m\u001b[0;34m(\u001b[0m\u001b[0mcontains_points_results\u001b[0m\u001b[0;34m,\u001b[0m\u001b[0maxis\u001b[0m\u001b[0;34m=\u001b[0m\u001b[0;36m1\u001b[0m\u001b[0;34m)\u001b[0m \u001b[0;34m>=\u001b[0m \u001b[0mlen\u001b[0m\u001b[0;34m(\u001b[0m\u001b[0mex_edge\u001b[0m\u001b[0;34m)\u001b[0m\u001b[0;34m]\u001b[0m\u001b[0;34m\u001b[0m\u001b[0;34m\u001b[0m\u001b[0m\n",
      "\u001b[0;32m/notebooks/meshAfterParty/meshAfterParty/skeleton_utils.py\u001b[0m in \u001b[0;36m<listcomp>\u001b[0;34m(.0)\u001b[0m\n\u001b[1;32m    678\u001b[0m         \u001b[0mcontains_points_results\u001b[0m \u001b[0;34m=\u001b[0m \u001b[0mnp\u001b[0m\u001b[0;34m.\u001b[0m\u001b[0marray\u001b[0m\u001b[0;34m(\u001b[0m\u001b[0;34m[\u001b[0m\u001b[0ms_comp\u001b[0m\u001b[0;34m.\u001b[0m\u001b[0mbounding_box_oriented\u001b[0m\u001b[0;34m.\u001b[0m\u001b[0mcontains\u001b[0m\u001b[0;34m(\u001b[0m\u001b[0mex_edge\u001b[0m\u001b[0;34m.\u001b[0m\u001b[0mreshape\u001b[0m\u001b[0;34m(\u001b[0m\u001b[0;34m-\u001b[0m\u001b[0;36m1\u001b[0m\u001b[0;34m,\u001b[0m\u001b[0;36m3\u001b[0m\u001b[0;34m)\u001b[0m\u001b[0;34m)\u001b[0m \u001b[0;32mfor\u001b[0m \u001b[0ms_comp\u001b[0m \u001b[0;32min\u001b[0m \u001b[0msub_components\u001b[0m\u001b[0;34m]\u001b[0m\u001b[0;34m)\u001b[0m\u001b[0;34m\u001b[0m\u001b[0;34m\u001b[0m\u001b[0m\n\u001b[1;32m    679\u001b[0m         \"\"\"\n\u001b[0;32m--> 680\u001b[0;31m         \u001b[0mcontains_points_results\u001b[0m \u001b[0;34m=\u001b[0m \u001b[0mnp\u001b[0m\u001b[0;34m.\u001b[0m\u001b[0marray\u001b[0m\u001b[0;34m(\u001b[0m\u001b[0;34m[\u001b[0m\u001b[0ms_comp\u001b[0m\u001b[0;34m.\u001b[0m\u001b[0mbounding_box\u001b[0m\u001b[0;34m.\u001b[0m\u001b[0mcontains\u001b[0m\u001b[0;34m(\u001b[0m\u001b[0mex_edge\u001b[0m\u001b[0;34m.\u001b[0m\u001b[0mreshape\u001b[0m\u001b[0;34m(\u001b[0m\u001b[0;34m-\u001b[0m\u001b[0;36m1\u001b[0m\u001b[0;34m,\u001b[0m\u001b[0;36m3\u001b[0m\u001b[0;34m)\u001b[0m\u001b[0;34m)\u001b[0m \u001b[0;32mfor\u001b[0m \u001b[0ms_comp\u001b[0m \u001b[0;32min\u001b[0m \u001b[0msub_components\u001b[0m\u001b[0;34m]\u001b[0m\u001b[0;34m)\u001b[0m\u001b[0;34m\u001b[0m\u001b[0;34m\u001b[0m\u001b[0m\n\u001b[0m\u001b[1;32m    681\u001b[0m \u001b[0;34m\u001b[0m\u001b[0m\n\u001b[1;32m    682\u001b[0m         \u001b[0mcontaining_indices\u001b[0m \u001b[0;34m=\u001b[0m \u001b[0;34m(\u001b[0m\u001b[0mnp\u001b[0m\u001b[0;34m.\u001b[0m\u001b[0marange\u001b[0m\u001b[0;34m(\u001b[0m\u001b[0;36m0\u001b[0m\u001b[0;34m,\u001b[0m\u001b[0mlen\u001b[0m\u001b[0;34m(\u001b[0m\u001b[0msub_components\u001b[0m\u001b[0;34m)\u001b[0m\u001b[0;34m)\u001b[0m\u001b[0;34m)\u001b[0m\u001b[0;34m[\u001b[0m\u001b[0mnp\u001b[0m\u001b[0;34m.\u001b[0m\u001b[0msum\u001b[0m\u001b[0;34m(\u001b[0m\u001b[0mcontains_points_results\u001b[0m\u001b[0;34m,\u001b[0m\u001b[0maxis\u001b[0m\u001b[0;34m=\u001b[0m\u001b[0;36m1\u001b[0m\u001b[0;34m)\u001b[0m \u001b[0;34m>=\u001b[0m \u001b[0mlen\u001b[0m\u001b[0;34m(\u001b[0m\u001b[0mex_edge\u001b[0m\u001b[0;34m)\u001b[0m\u001b[0;34m]\u001b[0m\u001b[0;34m\u001b[0m\u001b[0;34m\u001b[0m\u001b[0m\n",
      "\u001b[0;32m/usr/local/lib/python3.6/dist-packages/trimesh/caching.py\u001b[0m in \u001b[0;36mget_cached\u001b[0;34m(*args, **kwargs)\u001b[0m\n\u001b[1;32m    101\u001b[0m             \u001b[0;32mreturn\u001b[0m \u001b[0mself\u001b[0m\u001b[0;34m.\u001b[0m\u001b[0m_cache\u001b[0m\u001b[0;34m.\u001b[0m\u001b[0mcache\u001b[0m\u001b[0;34m[\u001b[0m\u001b[0mname\u001b[0m\u001b[0;34m]\u001b[0m\u001b[0;34m\u001b[0m\u001b[0;34m\u001b[0m\u001b[0m\n\u001b[1;32m    102\u001b[0m         \u001b[0;31m# value not in cache so execute the function\u001b[0m\u001b[0;34m\u001b[0m\u001b[0;34m\u001b[0m\u001b[0;34m\u001b[0m\u001b[0m\n\u001b[0;32m--> 103\u001b[0;31m         \u001b[0mvalue\u001b[0m \u001b[0;34m=\u001b[0m \u001b[0mfunction\u001b[0m\u001b[0;34m(\u001b[0m\u001b[0;34m*\u001b[0m\u001b[0margs\u001b[0m\u001b[0;34m,\u001b[0m \u001b[0;34m**\u001b[0m\u001b[0mkwargs\u001b[0m\u001b[0;34m)\u001b[0m\u001b[0;34m\u001b[0m\u001b[0;34m\u001b[0m\u001b[0m\n\u001b[0m\u001b[1;32m    104\u001b[0m         \u001b[0mtic\u001b[0m\u001b[0;34m[\u001b[0m\u001b[0;36m2\u001b[0m\u001b[0;34m]\u001b[0m \u001b[0;34m=\u001b[0m \u001b[0mnow\u001b[0m\u001b[0;34m(\u001b[0m\u001b[0;34m)\u001b[0m\u001b[0;34m\u001b[0m\u001b[0;34m\u001b[0m\u001b[0m\n\u001b[1;32m    105\u001b[0m         \u001b[0;31m# store the value\u001b[0m\u001b[0;34m\u001b[0m\u001b[0;34m\u001b[0m\u001b[0;34m\u001b[0m\u001b[0m\n",
      "\u001b[0;32m/usr/local/lib/python3.6/dist-packages/trimesh/parent.py\u001b[0m in \u001b[0;36mbounding_box\u001b[0;34m(self)\u001b[0m\n\u001b[1;32m    141\u001b[0m         aabb = primitives.Box(transform=transform,\n\u001b[1;32m    142\u001b[0m                               \u001b[0mextents\u001b[0m\u001b[0;34m=\u001b[0m\u001b[0mself\u001b[0m\u001b[0;34m.\u001b[0m\u001b[0mextents\u001b[0m\u001b[0;34m,\u001b[0m\u001b[0;34m\u001b[0m\u001b[0;34m\u001b[0m\u001b[0m\n\u001b[0;32m--> 143\u001b[0;31m                               mutable=False)\n\u001b[0m\u001b[1;32m    144\u001b[0m         \u001b[0;32mreturn\u001b[0m \u001b[0maabb\u001b[0m\u001b[0;34m\u001b[0m\u001b[0;34m\u001b[0m\u001b[0m\n\u001b[1;32m    145\u001b[0m \u001b[0;34m\u001b[0m\u001b[0m\n",
      "\u001b[0;32m/usr/local/lib/python3.6/dist-packages/trimesh/primitives.py\u001b[0m in \u001b[0;36m__init__\u001b[0;34m(self, *args, **kwargs)\u001b[0m\n\u001b[1;32m    512\u001b[0m         self.primitive = _PrimitiveAttributes(self,\n\u001b[1;32m    513\u001b[0m                                               \u001b[0mdefaults\u001b[0m\u001b[0;34m,\u001b[0m\u001b[0;34m\u001b[0m\u001b[0;34m\u001b[0m\u001b[0m\n\u001b[0;32m--> 514\u001b[0;31m                                               kwargs)\n\u001b[0m\u001b[1;32m    515\u001b[0m \u001b[0;34m\u001b[0m\u001b[0m\n\u001b[1;32m    516\u001b[0m     \u001b[0;32mdef\u001b[0m \u001b[0msample_volume\u001b[0m\u001b[0;34m(\u001b[0m\u001b[0mself\u001b[0m\u001b[0;34m,\u001b[0m \u001b[0mcount\u001b[0m\u001b[0;34m)\u001b[0m\u001b[0;34m:\u001b[0m\u001b[0;34m\u001b[0m\u001b[0;34m\u001b[0m\u001b[0m\n",
      "\u001b[0;32m/usr/local/lib/python3.6/dist-packages/trimesh/primitives.py\u001b[0m in \u001b[0;36m__init__\u001b[0;34m(self, parent, defaults, kwargs)\u001b[0m\n\u001b[1;32m    147\u001b[0m         \u001b[0mself\u001b[0m\u001b[0;34m.\u001b[0m\u001b[0m_mutable\u001b[0m \u001b[0;34m=\u001b[0m \u001b[0;32mTrue\u001b[0m\u001b[0;34m\u001b[0m\u001b[0;34m\u001b[0m\u001b[0m\n\u001b[1;32m    148\u001b[0m         \u001b[0;32mfor\u001b[0m \u001b[0mkey\u001b[0m\u001b[0;34m,\u001b[0m \u001b[0mvalue\u001b[0m \u001b[0;32min\u001b[0m \u001b[0mkwargs\u001b[0m\u001b[0;34m.\u001b[0m\u001b[0mitems\u001b[0m\u001b[0;34m(\u001b[0m\u001b[0;34m)\u001b[0m\u001b[0;34m:\u001b[0m\u001b[0;34m\u001b[0m\u001b[0;34m\u001b[0m\u001b[0m\n\u001b[0;32m--> 149\u001b[0;31m             \u001b[0;32mif\u001b[0m \u001b[0mkey\u001b[0m \u001b[0;32min\u001b[0m \u001b[0mdefaults\u001b[0m\u001b[0;34m:\u001b[0m\u001b[0;34m\u001b[0m\u001b[0;34m\u001b[0m\u001b[0m\n\u001b[0m\u001b[1;32m    150\u001b[0m                 self._data[key] = util.convert_like(\n\u001b[1;32m    151\u001b[0m                     value, defaults[key])\n",
      "\u001b[0;31mKeyboardInterrupt\u001b[0m: "
     ]
    }
   ],
   "source": [
    "import neuron_utils as nru\n",
    "nru = reload(nru)\n",
    "inhib_object = neuron.Neuron(mesh=current_mesh,\n",
    "                            segment_id=100224677766544793,\n",
    "                            description=\"inhibitory_2\")"
   ]
  },
  {
   "cell_type": "code",
   "execution_count": null,
   "metadata": {},
   "outputs": [],
   "source": [
    "# Rerunning compression analysis on interneurons\n",
    "import neuron_utils as nru\n",
    "su = reload(su)\n",
    "nru = reload(nru)\n",
    "location=Path(\"test_pickle\")\n",
    "\n",
    "nru.save_compressed_neuron(inhib_object,output_folder=location)\n",
    "# output_path = location / Path(\"inhibitory_compressed_pickle_with_compressed_preprocess\")\n",
    "\n",
    "# output_path = Path(output_path)\n",
    "# output_path.parents[0].mkdir(parents=True, exist_ok=True)\n",
    "\n",
    "# inhib_object_compressed_preprocessed_data = nru.smaller_preprocessed_data(inhib_object,print_flag=True)\n",
    "# compressed_size = su.compressed_pickle(inhib_object_compressed_preprocessed_data,output_path,return_size=True)"
   ]
  },
  {
   "cell_type": "markdown",
   "metadata": {},
   "source": [
    "# Applying the Compression for the Double Soma"
   ]
  },
  {
   "cell_type": "code",
   "execution_count": null,
   "metadata": {},
   "outputs": [],
   "source": [
    "import neuron_utils as nru\n",
    "su = reload(su)\n",
    "nru = reload(nru)\n",
    "location=Path(\"test_pickle\")\n",
    "double_soma_obj = su.load_object(\"12345_2_somas_with_merge.pkl\")\n",
    "\n",
    "#nru.save_compressed_neuron(double_soma_obj,output_folder=location)"
   ]
  },
  {
   "cell_type": "markdown",
   "metadata": {},
   "source": [
    "# Uncompressing the neuron"
   ]
  },
  {
   "cell_type": "code",
   "execution_count": null,
   "metadata": {},
   "outputs": [],
   "source": [
    "double_soma_obj.preprocessed_data.keys()"
   ]
  },
  {
   "cell_type": "code",
   "execution_count": null,
   "metadata": {},
   "outputs": [],
   "source": [
    "compressed_dict.keys()"
   ]
  },
  {
   "cell_type": "code",
   "execution_count": null,
   "metadata": {},
   "outputs": [],
   "source": [
    "\"\"\"\n",
    "Psuedocode: \n",
    "0) Get the starting mesh ahead of time\n",
    "1) Read in the bz2 file\n",
    "\n",
    "Recover each of the following components\n",
    "a) soma_meshes: use the \n",
    "Data: soma_meshes_face_idx \n",
    "Process: use submesh on the neuron mesh for each\n",
    "\n",
    "b) soma_to_piece_connectivity\n",
    "Data: soma_to_piece_connectivity\n",
    "Process: None\n",
    "\n",
    "c) soma_sdfs\n",
    "Data: soma_sdfs\n",
    "Process: None\n",
    "\n",
    "d) insignificant_limbs\n",
    "Data: insignificant_limbs_face_idx\n",
    "Process: use submesh on the neuron mesh for each\n",
    "\n",
    "d) non_soma_touching_meshes\n",
    "Data: non_soma_touching_meshes_face_idx\n",
    "Process: use submesh on the neuron mesh for each\n",
    "\n",
    "d) inside_pieces\n",
    "Data: inside_pieces_face_idx\n",
    "Process: use submesh on the neuron mesh for each\n",
    "\n",
    "e) limb_meshes\n",
    "Data: limb_meshes_face_idx\n",
    "Process: use submesh on the neuron mesh for each\n",
    "\n",
    "f) limb_correspondence\n",
    "Data: new_limb_correspondence\n",
    "Process: \n",
    "-- get branch mesh for each item\n",
    "--> later can recover the branch_mesh from the whole neuron mesh and the new branch_face_idx\n",
    "-- get branch_face_idx for each itme\n",
    "--> regenerate the and branch_face_idx from the recovered limb mesh and he recovered mesh\n",
    "\n",
    "g) limb_concept_networks, limb_labels:\n",
    "Data: All previous data\n",
    "Process: Call the funciton that creates the concept_networks using all the data above\n",
    "\n",
    "\"\"\""
   ]
  },
  {
   "cell_type": "code",
   "execution_count": null,
   "metadata": {},
   "outputs": [],
   "source": [
    "su = reload(su)\n",
    "compressed_file = \"/notebooks/neuron_mesh_tools/meshAfterPartyDev/test_pickle/12345_2_somas_with_merge\"\n",
    "loaded_compression = su.decompress_pickle(compressed_file)\n",
    "original_mesh = loaded_compression.mesh\n",
    "original_seg_id = loaded_compression.segment_id\n",
    "original_description = loaded_compression.description"
   ]
  },
  {
   "cell_type": "code",
   "execution_count": null,
   "metadata": {},
   "outputs": [],
   "source": [
    "loaded_compression"
   ]
  },
  {
   "cell_type": "code",
   "execution_count": null,
   "metadata": {},
   "outputs": [],
   "source": [
    "double_soma_obj.preprocessed_data.keys()"
   ]
  },
  {
   "cell_type": "code",
   "execution_count": null,
   "metadata": {},
   "outputs": [],
   "source": [
    "loaded_compression.keys()"
   ]
  },
  {
   "cell_type": "code",
   "execution_count": null,
   "metadata": {},
   "outputs": [],
   "source": [
    "sk.graph_skeleton_and_mesh(other_meshes=[double_soma_obj.mesh])"
   ]
  },
  {
   "cell_type": "code",
   "execution_count": null,
   "metadata": {},
   "outputs": [],
   "source": [
    "recovered_preprocessed_data = dict()"
   ]
  },
  {
   "cell_type": "code",
   "execution_count": null,
   "metadata": {},
   "outputs": [],
   "source": [
    "\"\"\"\n",
    "a) soma_meshes: use the \n",
    "Data: soma_meshes_face_idx \n",
    "Process: use submesh on the neuron mesh for each\n",
    "\n",
    "\"\"\"\n",
    "recovered_preprocessed_data[\"soma_meshes\"] = [original_mesh.submesh([k],append=True) for k in loaded_compression[\"soma_meshes_face_idx\"]]\n",
    "soma_meshes, double_soma_obj.preprocessed_data[\"soma_meshes\"]"
   ]
  },
  {
   "cell_type": "code",
   "execution_count": null,
   "metadata": {},
   "outputs": [],
   "source": [
    "\"\"\"\n",
    "b) soma_to_piece_connectivity\n",
    "Data: soma_to_piece_connectivity\n",
    "Process: None\n",
    "\n",
    "c) soma_sdfs\n",
    "Data: soma_sdfs\n",
    "Process: None\n",
    "\"\"\"\n",
    "recovered_preprocessed_data[\"soma_to_piece_connectivity\"] = loaded_compression[\"soma_to_piece_connectivity\"]\n",
    "recovered_preprocessed_data[\"soma_sdfs\"] = loaded_compression[\"soma_sdfs\"]"
   ]
  },
  {
   "cell_type": "code",
   "execution_count": null,
   "metadata": {},
   "outputs": [],
   "source": [
    "\"\"\"\n",
    "d) insignificant_limbs\n",
    "Data: insignificant_limbs_face_idx\n",
    "Process: use submesh on the neuron mesh for each\n",
    "\n",
    "d) non_soma_touching_meshes\n",
    "Data: non_soma_touching_meshes_face_idx\n",
    "Process: use submesh on the neuron mesh for each\n",
    "\n",
    "d) inside_pieces\n",
    "Data: inside_pieces_face_idx\n",
    "Process: use submesh on the neuron mesh for each\n",
    "\"\"\"\n",
    "\n",
    "recovered_preprocessed_data[\"insignificant_limbs\"] = [original_mesh.submesh([k],append=True) for k in loaded_compression[\"insignificant_limbs_face_idx\"]]\n",
    "\n",
    "recovered_preprocessed_data[\"non_soma_touching_meshes\"] = [original_mesh.submesh([k],append=True) for k in loaded_compression[\"non_soma_touching_meshes_face_idx\"]]\n",
    "\n",
    "recovered_preprocessed_data[\"inside_pieces\"] = [original_mesh.submesh([k],append=True) for k in loaded_compression[\"inside_pieces_face_idx\"]]"
   ]
  },
  {
   "cell_type": "code",
   "execution_count": null,
   "metadata": {},
   "outputs": [],
   "source": [
    "\"\"\"\n",
    "e) limb_meshes\n",
    "Data: limb_meshes_face_idx\n",
    "Process: use submesh on the neuron mesh for each\n",
    "\n",
    "\"\"\"\n",
    "\n",
    "recovered_preprocessed_data[\"limb_meshes\"] = [original_mesh.submesh([k],append=True) for k in loaded_compression[\"limb_meshes_face_idx\"]]"
   ]
  },
  {
   "cell_type": "code",
   "execution_count": null,
   "metadata": {},
   "outputs": [],
   "source": [
    "\"\"\"\n",
    "\n",
    "f) limb_correspondence\n",
    "Data: new_limb_correspondence\n",
    "Process: \n",
    "-- get branch mesh for each item\n",
    "--> later can recover the branch_mesh from the whole neuron mesh and the new branch_face_idx\n",
    "-- get branch_face_idx for each itme\n",
    "--> regenerate the and branch_face_idx from the recovered limb mesh and he recovered mesh\n",
    "\n",
    "\"\"\"\n",
    "\n",
    "new_limb_correspondence = loaded_compression[\"new_limb_correspondence\"]\n",
    "\n",
    "for k in new_limb_correspondence:\n",
    "    for j in tqdm(new_limb_correspondence[k]):\n",
    "        \n",
    "        new_limb_correspondence[k][j][\"branch_mesh\"] = original_mesh.submesh([new_limb_correspondence[k][j][\"branch_face_idx_whole_neuron\"]],append=True)\n",
    "        new_limb_correspondence[k][j][\"branch_face_idx\"] = tu.original_mesh_faces_map(original_mesh=recovered_preprocessed_data[\"limb_meshes\"][k], \n",
    "                                   submesh=new_limb_correspondence[k][j][\"branch_mesh\"] ,\n",
    "                               matching=True,\n",
    "                               print_flag=False)\n",
    "        \n",
    "\n",
    "        if \"branch_face_idx_whole_neuron\" in new_limb_correspondence[k][j].keys():\n",
    "            del new_limb_correspondence[k][j][\"branch_face_idx_whole_neuron\"]\n",
    "\n",
    "recovered_preprocessed_data[\"limb_correspondence\"] = new_limb_correspondence"
   ]
  },
  {
   "cell_type": "code",
   "execution_count": null,
   "metadata": {},
   "outputs": [],
   "source": [
    "\"\"\"\n",
    "g) limb_concept_networks, limb_labels:\n",
    "Data: All previous data\n",
    "Process: Call the funciton that creates the concept_networks using all the data above\n",
    "\"\"\"\n",
    "import neuron_utils as nru \n",
    "nru = reload(nru)\n",
    "\n",
    "limb_concept_networks,limb_labels = nru.generate_limb_concept_networks_from_global_connectivity(\n",
    "        limb_correspondence = recovered_preprocessed_data[\"limb_correspondence\"],\n",
    "        #limb_idx_to_branch_meshes_dict = limb_idx_to_branch_meshes_dict,\n",
    "        #limb_idx_to_branch_skeletons_dict = limb_idx_to_branch_skeletons_dict,\n",
    "        \n",
    "        soma_meshes=recovered_preprocessed_data[\"soma_meshes\"],\n",
    "        soma_idx_connectivity=recovered_preprocessed_data[\"soma_to_piece_connectivity\"] ,\n",
    "        #soma_idx_to_mesh_dict = soma_idx_to_mesh_dict,\n",
    "        #soma_idx_connectivity = soma_idx_connectivity,\n",
    "        \n",
    "        current_neuron=original_mesh,\n",
    "        return_limb_labels=True\n",
    "        )\n",
    "\n",
    "recovered_preprocessed_data[\"limb_concept_networks\"] = limb_concept_networks\n",
    "recovered_preprocessed_data[\"limb_labels\"] = limb_labels\n",
    "\n"
   ]
  },
  {
   "cell_type": "code",
   "execution_count": null,
   "metadata": {},
   "outputs": [],
   "source": [
    "# Now create the neuron from preprocessed data\n",
    "decompressed_neuron = neuron.Neuron(mesh=original_mesh,\n",
    "             segment_id=original_seg_id,\n",
    "             description=original_description,\n",
    "             preprocessed_data=recovered_preprocessed_data,\n",
    "             minimal_output=True)\n",
    "\n"
   ]
  },
  {
   "cell_type": "markdown",
   "metadata": {},
   "source": [
    "# Final Version"
   ]
  },
  {
   "cell_type": "markdown",
   "metadata": {},
   "source": [
    "# Prework) Loading the Original Processing of the Neuron"
   ]
  },
  {
   "cell_type": "code",
   "execution_count": 78,
   "metadata": {},
   "outputs": [],
   "source": [
    "import neuron_utils as nru\n",
    "su = reload(su)\n",
    "nru = reload(nru)\n",
    "location=Path(\"test_pickle\")\n",
    "double_soma_obj = su.load_object(\"12345_2_somas_with_merge.pkl\")"
   ]
  },
  {
   "cell_type": "markdown",
   "metadata": {},
   "source": [
    "# Doing actual neuron processing"
   ]
  },
  {
   "cell_type": "code",
   "execution_count": 85,
   "metadata": {},
   "outputs": [
    {
     "data": {
      "application/vnd.jupyter.widget-view+json": {
       "model_id": "863fa3206ab9436b9ac35592c6a822d8",
       "version_major": 2,
       "version_minor": 0
      },
      "text/plain": [
       "VBox(children=(Figure(camera=PerspectiveCamera(fov=46.0, position=(0.0, 0.0, 2.0), quaternion=(0.0, 0.0, 0.0, …"
      ]
     },
     "metadata": {},
     "output_type": "display_data"
    }
   ],
   "source": [
    "segment_id = 12345\n",
    "current_mesh_file = \"/notebooks/neuron_mesh_tools/test_neurons/multi_soma_example.off\"\n",
    "description=\"2_somas_with_merge\"\n",
    "\n",
    "double_soma_neuron = trimesh.load_mesh(current_mesh_file,process=False)\n",
    "sk.graph_skeleton_and_mesh(other_meshes = [double_soma_neuron])"
   ]
  },
  {
   "cell_type": "code",
   "execution_count": 87,
   "metadata": {},
   "outputs": [
    {
     "name": "stdout",
     "output_type": "stream",
     "text": [
      "--- 0) Having to preprocess the Neuron becuase no preprocessed data\n",
      "Please wait this could take a while.....\n"
     ]
    },
    {
     "data": {
      "application/vnd.jupyter.widget-view+json": {
       "model_id": "b777e31506294bb2a1a8224e02953070",
       "version_major": 2,
       "version_minor": 0
      },
      "text/plain": [
       "HBox(children=(FloatProgress(value=1.0, bar_style='info', max=1.0), HTML(value='')))"
      ]
     },
     "metadata": {},
     "output_type": "display_data"
    },
    {
     "data": {
      "application/vnd.jupyter.widget-view+json": {
       "model_id": "8bc051d67bef4f72956852b933f8af2b",
       "version_major": 2,
       "version_minor": 0
      },
      "text/plain": [
       "HBox(children=(FloatProgress(value=0.0, max=237.0), HTML(value='')))"
      ]
     },
     "metadata": {},
     "output_type": "display_data"
    },
    {
     "data": {
      "application/vnd.jupyter.widget-view+json": {
       "model_id": "20809bd66465478f9de8edec7b3c013c",
       "version_major": 2,
       "version_minor": 0
      },
      "text/plain": [
       "HBox(children=(FloatProgress(value=0.0, max=766.0), HTML(value='')))"
      ]
     },
     "metadata": {},
     "output_type": "display_data"
    },
    {
     "data": {
      "application/vnd.jupyter.widget-view+json": {
       "model_id": "45ee2b8558574d4c9378f8ebdeb6a99e",
       "version_major": 2,
       "version_minor": 0
      },
      "text/plain": [
       "HBox(children=(FloatProgress(value=0.0, max=751.0), HTML(value='')))"
      ]
     },
     "metadata": {},
     "output_type": "display_data"
    },
    {
     "data": {
      "application/vnd.jupyter.widget-view+json": {
       "model_id": "59104b7ed4424883b89de17a7d614102",
       "version_major": 2,
       "version_minor": 0
      },
      "text/plain": [
       "HBox(children=(FloatProgress(value=1.0, bar_style='info', max=1.0), HTML(value='')))"
      ]
     },
     "metadata": {},
     "output_type": "display_data"
    },
    {
     "data": {
      "application/vnd.jupyter.widget-view+json": {
       "model_id": "9637a1362c7f4a21a5f6020f71629467",
       "version_major": 2,
       "version_minor": 0
      },
      "text/plain": [
       "HBox(children=(FloatProgress(value=0.0, max=148.0), HTML(value='')))"
      ]
     },
     "metadata": {},
     "output_type": "display_data"
    },
    {
     "data": {
      "application/vnd.jupyter.widget-view+json": {
       "model_id": "6f2b9394ac1f4494bbeb18d5d12589aa",
       "version_major": 2,
       "version_minor": 0
      },
      "text/plain": [
       "HBox(children=(FloatProgress(value=0.0, max=471.0), HTML(value='')))"
      ]
     },
     "metadata": {},
     "output_type": "display_data"
    },
    {
     "data": {
      "application/vnd.jupyter.widget-view+json": {
       "model_id": "2deb4f925865425fb79c2c9ae88cfeb1",
       "version_major": 2,
       "version_minor": 0
      },
      "text/plain": [
       "HBox(children=(FloatProgress(value=0.0, max=424.0), HTML(value='')))"
      ]
     },
     "metadata": {},
     "output_type": "display_data"
    },
    {
     "data": {
      "application/vnd.jupyter.widget-view+json": {
       "model_id": "014cc17ce23c4d9db187c06cb933d06d",
       "version_major": 2,
       "version_minor": 0
      },
      "text/plain": [
       "HBox(children=(FloatProgress(value=1.0, bar_style='info', max=1.0), HTML(value='')))"
      ]
     },
     "metadata": {},
     "output_type": "display_data"
    },
    {
     "data": {
      "application/vnd.jupyter.widget-view+json": {
       "model_id": "b0e74cb7f567485996026346553dc7b4",
       "version_major": 2,
       "version_minor": 0
      },
      "text/plain": [
       "HBox(children=(FloatProgress(value=0.0, max=124.0), HTML(value='')))"
      ]
     },
     "metadata": {},
     "output_type": "display_data"
    },
    {
     "data": {
      "application/vnd.jupyter.widget-view+json": {
       "model_id": "51c9ce25bb8e4726a2869fe1052503a2",
       "version_major": 2,
       "version_minor": 0
      },
      "text/plain": [
       "HBox(children=(FloatProgress(value=0.0, max=351.0), HTML(value='')))"
      ]
     },
     "metadata": {},
     "output_type": "display_data"
    },
    {
     "data": {
      "application/vnd.jupyter.widget-view+json": {
       "model_id": "c2d201a93bfd40bfb3063ee79194e831",
       "version_major": 2,
       "version_minor": 0
      },
      "text/plain": [
       "HBox(children=(FloatProgress(value=0.0, max=286.0), HTML(value='')))"
      ]
     },
     "metadata": {},
     "output_type": "display_data"
    },
    {
     "data": {
      "application/vnd.jupyter.widget-view+json": {
       "model_id": "4099ffe3168e41ffa855cc862464e724",
       "version_major": 2,
       "version_minor": 0
      },
      "text/plain": [
       "HBox(children=(FloatProgress(value=1.0, bar_style='info', max=1.0), HTML(value='')))"
      ]
     },
     "metadata": {},
     "output_type": "display_data"
    },
    {
     "name": "stderr",
     "output_type": "stream",
     "text": [
      "IOPub message rate exceeded.\n",
      "The notebook server will temporarily stop sending output\n",
      "to the client in order to avoid crashing it.\n",
      "To change this limit, set the config variable\n",
      "`--NotebookApp.iopub_msg_rate_limit`.\n",
      "\n",
      "Current values:\n",
      "NotebookApp.iopub_msg_rate_limit=1000.0 (msgs/sec)\n",
      "NotebookApp.rate_limit_window=3.0 (secs)\n",
      "\n"
     ]
    },
    {
     "data": {
      "application/vnd.jupyter.widget-view+json": {
       "model_id": "ccd6d4bca8504d88825181fdf3787cd4",
       "version_major": 2,
       "version_minor": 0
      },
      "text/plain": [
       "HBox(children=(FloatProgress(value=1.0, bar_style='info', max=1.0), HTML(value='')))"
      ]
     },
     "metadata": {},
     "output_type": "display_data"
    },
    {
     "data": {
      "application/vnd.jupyter.widget-view+json": {
       "model_id": "d23ebf82958b4f3e8584691253dc8781",
       "version_major": 2,
       "version_minor": 0
      },
      "text/plain": [
       "HBox(children=(FloatProgress(value=0.0, max=54.0), HTML(value='')))"
      ]
     },
     "metadata": {},
     "output_type": "display_data"
    },
    {
     "data": {
      "application/vnd.jupyter.widget-view+json": {
       "model_id": "d52c349b3af44646a191aa13bf0c6038",
       "version_major": 2,
       "version_minor": 0
      },
      "text/plain": [
       "HBox(children=(FloatProgress(value=0.0, max=172.0), HTML(value='')))"
      ]
     },
     "metadata": {},
     "output_type": "display_data"
    },
    {
     "data": {
      "application/vnd.jupyter.widget-view+json": {
       "model_id": "42e9b24f418745a68164da8a558177c2",
       "version_major": 2,
       "version_minor": 0
      },
      "text/plain": [
       "HBox(children=(FloatProgress(value=0.0, max=163.0), HTML(value='')))"
      ]
     },
     "metadata": {},
     "output_type": "display_data"
    },
    {
     "data": {
      "application/vnd.jupyter.widget-view+json": {
       "model_id": "acd3fa5fb3e14cd5b12d05c88a6510c2",
       "version_major": 2,
       "version_minor": 0
      },
      "text/plain": [
       "HBox(children=(FloatProgress(value=1.0, bar_style='info', max=1.0), HTML(value='')))"
      ]
     },
     "metadata": {},
     "output_type": "display_data"
    },
    {
     "data": {
      "application/vnd.jupyter.widget-view+json": {
       "model_id": "8817a4db072947a1a979fd0edfa8b48f",
       "version_major": 2,
       "version_minor": 0
      },
      "text/plain": [
       "HBox(children=(FloatProgress(value=0.0, max=54.0), HTML(value='')))"
      ]
     },
     "metadata": {},
     "output_type": "display_data"
    },
    {
     "data": {
      "application/vnd.jupyter.widget-view+json": {
       "model_id": "3218388ee3134cb49452a5461c156e22",
       "version_major": 2,
       "version_minor": 0
      },
      "text/plain": [
       "HBox(children=(FloatProgress(value=0.0, max=203.0), HTML(value='')))"
      ]
     },
     "metadata": {},
     "output_type": "display_data"
    },
    {
     "data": {
      "application/vnd.jupyter.widget-view+json": {
       "model_id": "557a36e2fe0642f79410ebc7af22062a",
       "version_major": 2,
       "version_minor": 0
      },
      "text/plain": [
       "HBox(children=(FloatProgress(value=0.0, max=180.0), HTML(value='')))"
      ]
     },
     "metadata": {},
     "output_type": "display_data"
    },
    {
     "data": {
      "application/vnd.jupyter.widget-view+json": {
       "model_id": "d227b14f4ea64de092dfc70461ff5c33",
       "version_major": 2,
       "version_minor": 0
      },
      "text/plain": [
       "HBox(children=(FloatProgress(value=1.0, bar_style='info', max=1.0), HTML(value='')))"
      ]
     },
     "metadata": {},
     "output_type": "display_data"
    },
    {
     "data": {
      "application/vnd.jupyter.widget-view+json": {
       "model_id": "1ad0c733897a4fd896db6197e75aedb7",
       "version_major": 2,
       "version_minor": 0
      },
      "text/plain": [
       "HBox(children=(FloatProgress(value=0.0, max=34.0), HTML(value='')))"
      ]
     },
     "metadata": {},
     "output_type": "display_data"
    },
    {
     "data": {
      "application/vnd.jupyter.widget-view+json": {
       "model_id": "75731e89b6074583b560b9eac7acd080",
       "version_major": 2,
       "version_minor": 0
      },
      "text/plain": [
       "HBox(children=(FloatProgress(value=0.0, max=92.0), HTML(value='')))"
      ]
     },
     "metadata": {},
     "output_type": "display_data"
    },
    {
     "data": {
      "application/vnd.jupyter.widget-view+json": {
       "model_id": "d9590e26f6e54bd5938f17c7123c70f3",
       "version_major": 2,
       "version_minor": 0
      },
      "text/plain": [
       "HBox(children=(FloatProgress(value=0.0, max=78.0), HTML(value='')))"
      ]
     },
     "metadata": {},
     "output_type": "display_data"
    },
    {
     "data": {
      "application/vnd.jupyter.widget-view+json": {
       "model_id": "6adbd050aa8c4259862a457f3b2f611e",
       "version_major": 2,
       "version_minor": 0
      },
      "text/plain": [
       "HBox(children=(FloatProgress(value=1.0, bar_style='info', max=1.0), HTML(value='')))"
      ]
     },
     "metadata": {},
     "output_type": "display_data"
    },
    {
     "data": {
      "application/vnd.jupyter.widget-view+json": {
       "model_id": "668686116513461190dcb25b9fb05e16",
       "version_major": 2,
       "version_minor": 0
      },
      "text/plain": [
       "HBox(children=(FloatProgress(value=0.0, max=7.0), HTML(value='')))"
      ]
     },
     "metadata": {},
     "output_type": "display_data"
    },
    {
     "data": {
      "application/vnd.jupyter.widget-view+json": {
       "model_id": "b8d74fba9fda4c66b21a298f407f939d",
       "version_major": 2,
       "version_minor": 0
      },
      "text/plain": [
       "HBox(children=(FloatProgress(value=0.0, max=21.0), HTML(value='')))"
      ]
     },
     "metadata": {},
     "output_type": "display_data"
    },
    {
     "data": {
      "application/vnd.jupyter.widget-view+json": {
       "model_id": "3c714bae617a430cb653204514f38db5",
       "version_major": 2,
       "version_minor": 0
      },
      "text/plain": [
       "HBox(children=(FloatProgress(value=0.0, max=5.0), HTML(value='')))"
      ]
     },
     "metadata": {},
     "output_type": "display_data"
    },
    {
     "data": {
      "application/vnd.jupyter.widget-view+json": {
       "model_id": "38c36f3675704361a72c44c50097da78",
       "version_major": 2,
       "version_minor": 0
      },
      "text/plain": [
       "HBox(children=(FloatProgress(value=1.0, bar_style='info', max=1.0), HTML(value='')))"
      ]
     },
     "metadata": {},
     "output_type": "display_data"
    },
    {
     "data": {
      "application/vnd.jupyter.widget-view+json": {
       "model_id": "aac9768677a24c9cb3fe929bd8828ab8",
       "version_major": 2,
       "version_minor": 0
      },
      "text/plain": [
       "HBox(children=(FloatProgress(value=0.0, max=2.0), HTML(value='')))"
      ]
     },
     "metadata": {},
     "output_type": "display_data"
    },
    {
     "data": {
      "application/vnd.jupyter.widget-view+json": {
       "model_id": "46f33a1f58564fba830da5ca4283809f",
       "version_major": 2,
       "version_minor": 0
      },
      "text/plain": [
       "HBox(children=(FloatProgress(value=0.0, max=3.0), HTML(value='')))"
      ]
     },
     "metadata": {},
     "output_type": "display_data"
    },
    {
     "data": {
      "application/vnd.jupyter.widget-view+json": {
       "model_id": "1635f5f0eff344479c40e4535e166eac",
       "version_major": 2,
       "version_minor": 0
      },
      "text/plain": [
       "HBox(children=(FloatProgress(value=0.0, max=4.0), HTML(value='')))"
      ]
     },
     "metadata": {},
     "output_type": "display_data"
    },
    {
     "data": {
      "application/vnd.jupyter.widget-view+json": {
       "model_id": "f43001e3018b45b7955f1ecf65299bff",
       "version_major": 2,
       "version_minor": 0
      },
      "text/plain": [
       "HBox(children=(FloatProgress(value=1.0, bar_style='info', max=1.0), HTML(value='')))"
      ]
     },
     "metadata": {},
     "output_type": "display_data"
    },
    {
     "data": {
      "application/vnd.jupyter.widget-view+json": {
       "model_id": "43c10c2de7b94d98831cd2909bd048b5",
       "version_major": 2,
       "version_minor": 0
      },
      "text/plain": [
       "HBox(children=(FloatProgress(value=1.0, bar_style='info', max=1.0), HTML(value='')))"
      ]
     },
     "metadata": {},
     "output_type": "display_data"
    },
    {
     "data": {
      "application/vnd.jupyter.widget-view+json": {
       "model_id": "77740472061644299a6bfa84496d1ced",
       "version_major": 2,
       "version_minor": 0
      },
      "text/plain": [
       "HBox(children=(FloatProgress(value=1.0, bar_style='info', max=1.0), HTML(value='')))"
      ]
     },
     "metadata": {},
     "output_type": "display_data"
    },
    {
     "data": {
      "application/vnd.jupyter.widget-view+json": {
       "model_id": "f3e17d4765b744f0b766035baffd18cf",
       "version_major": 2,
       "version_minor": 0
      },
      "text/plain": [
       "HBox(children=(FloatProgress(value=1.0, bar_style='info', max=1.0), HTML(value='')))"
      ]
     },
     "metadata": {},
     "output_type": "display_data"
    },
    {
     "data": {
      "application/vnd.jupyter.widget-view+json": {
       "model_id": "3995a6bf12e747bba8b919bbfaa5ad8f",
       "version_major": 2,
       "version_minor": 0
      },
      "text/plain": [
       "HBox(children=(FloatProgress(value=1.0, bar_style='info', max=1.0), HTML(value='')))"
      ]
     },
     "metadata": {},
     "output_type": "display_data"
    },
    {
     "data": {
      "application/vnd.jupyter.widget-view+json": {
       "model_id": "07a4970efda04a99a4e0074aaf2d47b4",
       "version_major": 2,
       "version_minor": 0
      },
      "text/plain": [
       "HBox(children=(FloatProgress(value=1.0, bar_style='info', max=1.0), HTML(value='')))"
      ]
     },
     "metadata": {},
     "output_type": "display_data"
    },
    {
     "data": {
      "application/vnd.jupyter.widget-view+json": {
       "model_id": "d9280ffe2d344d119919c430047f1829",
       "version_major": 2,
       "version_minor": 0
      },
      "text/plain": [
       "HBox(children=(FloatProgress(value=1.0, bar_style='info', max=1.0), HTML(value='')))"
      ]
     },
     "metadata": {},
     "output_type": "display_data"
    },
    {
     "data": {
      "application/vnd.jupyter.widget-view+json": {
       "model_id": "fc8452d13f1749b49ee8c6457acef559",
       "version_major": 2,
       "version_minor": 0
      },
      "text/plain": [
       "HBox(children=(FloatProgress(value=1.0, bar_style='info', max=1.0), HTML(value='')))"
      ]
     },
     "metadata": {},
     "output_type": "display_data"
    },
    {
     "data": {
      "application/vnd.jupyter.widget-view+json": {
       "model_id": "325e592bffec45b6ba7b8816d2ec083b",
       "version_major": 2,
       "version_minor": 0
      },
      "text/plain": [
       "HBox(children=(FloatProgress(value=1.0, bar_style='info', max=1.0), HTML(value='')))"
      ]
     },
     "metadata": {},
     "output_type": "display_data"
    },
    {
     "data": {
      "application/vnd.jupyter.widget-view+json": {
       "model_id": "27018c373b044573aa4167b43f51ef3b",
       "version_major": 2,
       "version_minor": 0
      },
      "text/plain": [
       "HBox(children=(FloatProgress(value=1.0, bar_style='info', max=1.0), HTML(value='')))"
      ]
     },
     "metadata": {},
     "output_type": "display_data"
    },
    {
     "data": {
      "application/vnd.jupyter.widget-view+json": {
       "model_id": "b1aee069a9924e3383af0e323d7a37de",
       "version_major": 2,
       "version_minor": 0
      },
      "text/plain": [
       "HBox(children=(FloatProgress(value=1.0, bar_style='info', max=1.0), HTML(value='')))"
      ]
     },
     "metadata": {},
     "output_type": "display_data"
    },
    {
     "data": {
      "application/vnd.jupyter.widget-view+json": {
       "model_id": "dba8cedb284047869da41240586c1633",
       "version_major": 2,
       "version_minor": 0
      },
      "text/plain": [
       "HBox(children=(FloatProgress(value=1.0, bar_style='info', max=1.0), HTML(value='')))"
      ]
     },
     "metadata": {},
     "output_type": "display_data"
    },
    {
     "data": {
      "application/vnd.jupyter.widget-view+json": {
       "model_id": "2a84343422fe40c5a2f45b6ca9463e68",
       "version_major": 2,
       "version_minor": 0
      },
      "text/plain": [
       "HBox(children=(FloatProgress(value=1.0, bar_style='info', max=1.0), HTML(value='')))"
      ]
     },
     "metadata": {},
     "output_type": "display_data"
    },
    {
     "data": {
      "application/vnd.jupyter.widget-view+json": {
       "model_id": "38bbb7701e4a49b8b8cbd7e1626b3807",
       "version_major": 2,
       "version_minor": 0
      },
      "text/plain": [
       "HBox(children=(FloatProgress(value=1.0, bar_style='info', max=1.0), HTML(value='')))"
      ]
     },
     "metadata": {},
     "output_type": "display_data"
    },
    {
     "data": {
      "application/vnd.jupyter.widget-view+json": {
       "model_id": "11a14e96352a426cafa7f3969d74f8ce",
       "version_major": 2,
       "version_minor": 0
      },
      "text/plain": [
       "HBox(children=(FloatProgress(value=1.0, bar_style='info', max=1.0), HTML(value='')))"
      ]
     },
     "metadata": {},
     "output_type": "display_data"
    },
    {
     "data": {
      "application/vnd.jupyter.widget-view+json": {
       "model_id": "547ee1d1c8d34623827fd17c0d81787f",
       "version_major": 2,
       "version_minor": 0
      },
      "text/plain": [
       "HBox(children=(FloatProgress(value=1.0, bar_style='info', max=1.0), HTML(value='')))"
      ]
     },
     "metadata": {},
     "output_type": "display_data"
    },
    {
     "data": {
      "application/vnd.jupyter.widget-view+json": {
       "model_id": "a3a421216ad44999b3d5b9a61fa691c1",
       "version_major": 2,
       "version_minor": 0
      },
      "text/plain": [
       "HBox(children=(FloatProgress(value=1.0, bar_style='info', max=1.0), HTML(value='')))"
      ]
     },
     "metadata": {},
     "output_type": "display_data"
    },
    {
     "data": {
      "application/vnd.jupyter.widget-view+json": {
       "model_id": "138d4acc6ecf46c9adf8a3ec8eb567bb",
       "version_major": 2,
       "version_minor": 0
      },
      "text/plain": [
       "HBox(children=(FloatProgress(value=1.0, bar_style='info', max=1.0), HTML(value='')))"
      ]
     },
     "metadata": {},
     "output_type": "display_data"
    },
    {
     "data": {
      "application/vnd.jupyter.widget-view+json": {
       "model_id": "00e80449c82f4c8e9597b9d24df04243",
       "version_major": 2,
       "version_minor": 0
      },
      "text/plain": [
       "HBox(children=(FloatProgress(value=1.0, bar_style='info', max=1.0), HTML(value='')))"
      ]
     },
     "metadata": {},
     "output_type": "display_data"
    },
    {
     "data": {
      "application/vnd.jupyter.widget-view+json": {
       "model_id": "fcd06667bf2249fa90b5a4743a72b6d2",
       "version_major": 2,
       "version_minor": 0
      },
      "text/plain": [
       "HBox(children=(FloatProgress(value=1.0, bar_style='info', max=1.0), HTML(value='')))"
      ]
     },
     "metadata": {},
     "output_type": "display_data"
    },
    {
     "data": {
      "application/vnd.jupyter.widget-view+json": {
       "model_id": "f7a8106c015244f5b675abfa872742ca",
       "version_major": 2,
       "version_minor": 0
      },
      "text/plain": [
       "HBox(children=(FloatProgress(value=1.0, bar_style='info', max=1.0), HTML(value='')))"
      ]
     },
     "metadata": {},
     "output_type": "display_data"
    },
    {
     "data": {
      "application/vnd.jupyter.widget-view+json": {
       "model_id": "01842d5aff3d4d81ba441ad97f396984",
       "version_major": 2,
       "version_minor": 0
      },
      "text/plain": [
       "HBox(children=(FloatProgress(value=1.0, bar_style='info', max=1.0), HTML(value='')))"
      ]
     },
     "metadata": {},
     "output_type": "display_data"
    },
    {
     "data": {
      "application/vnd.jupyter.widget-view+json": {
       "model_id": "47497853298b4aa68bff516af7ade3b7",
       "version_major": 2,
       "version_minor": 0
      },
      "text/plain": [
       "HBox(children=(FloatProgress(value=1.0, bar_style='info', max=1.0), HTML(value='')))"
      ]
     },
     "metadata": {},
     "output_type": "display_data"
    },
    {
     "data": {
      "application/vnd.jupyter.widget-view+json": {
       "model_id": "a00a5c1439c442e0baca545861e3f701",
       "version_major": 2,
       "version_minor": 0
      },
      "text/plain": [
       "HBox(children=(FloatProgress(value=1.0, bar_style='info', max=1.0), HTML(value='')))"
      ]
     },
     "metadata": {},
     "output_type": "display_data"
    },
    {
     "data": {
      "application/vnd.jupyter.widget-view+json": {
       "model_id": "a7712f26ac4c4639ab1afa26e7aa5a6d",
       "version_major": 2,
       "version_minor": 0
      },
      "text/plain": [
       "HBox(children=(FloatProgress(value=1.0, bar_style='info', max=1.0), HTML(value='')))"
      ]
     },
     "metadata": {},
     "output_type": "display_data"
    },
    {
     "data": {
      "application/vnd.jupyter.widget-view+json": {
       "model_id": "79c5ca564c9943a58b18aee1a63902b3",
       "version_major": 2,
       "version_minor": 0
      },
      "text/plain": [
       "HBox(children=(FloatProgress(value=1.0, bar_style='info', max=1.0), HTML(value='')))"
      ]
     },
     "metadata": {},
     "output_type": "display_data"
    },
    {
     "data": {
      "application/vnd.jupyter.widget-view+json": {
       "model_id": "dde85582cc1340828a0a4a3d4197eaac",
       "version_major": 2,
       "version_minor": 0
      },
      "text/plain": [
       "HBox(children=(FloatProgress(value=1.0, bar_style='info', max=1.0), HTML(value='')))"
      ]
     },
     "metadata": {},
     "output_type": "display_data"
    },
    {
     "data": {
      "application/vnd.jupyter.widget-view+json": {
       "model_id": "e40d229d55f3428c966593d50c9caf11",
       "version_major": 2,
       "version_minor": 0
      },
      "text/plain": [
       "HBox(children=(FloatProgress(value=1.0, bar_style='info', max=1.0), HTML(value='')))"
      ]
     },
     "metadata": {},
     "output_type": "display_data"
    },
    {
     "data": {
      "application/vnd.jupyter.widget-view+json": {
       "model_id": "b7f48a54e51d4239b1c51fb27dbd3023",
       "version_major": 2,
       "version_minor": 0
      },
      "text/plain": [
       "HBox(children=(FloatProgress(value=1.0, bar_style='info', max=1.0), HTML(value='')))"
      ]
     },
     "metadata": {},
     "output_type": "display_data"
    },
    {
     "data": {
      "application/vnd.jupyter.widget-view+json": {
       "model_id": "76223b101c0f401885f51f6154ffbf63",
       "version_major": 2,
       "version_minor": 0
      },
      "text/plain": [
       "HBox(children=(FloatProgress(value=1.0, bar_style='info', max=1.0), HTML(value='')))"
      ]
     },
     "metadata": {},
     "output_type": "display_data"
    },
    {
     "data": {
      "application/vnd.jupyter.widget-view+json": {
       "model_id": "2e1abcaa5ef74b91874d63f700d85e91",
       "version_major": 2,
       "version_minor": 0
      },
      "text/plain": [
       "HBox(children=(FloatProgress(value=1.0, bar_style='info', max=1.0), HTML(value='')))"
      ]
     },
     "metadata": {},
     "output_type": "display_data"
    },
    {
     "data": {
      "application/vnd.jupyter.widget-view+json": {
       "model_id": "319a6646bf604c2f82e0435473413cc4",
       "version_major": 2,
       "version_minor": 0
      },
      "text/plain": [
       "HBox(children=(FloatProgress(value=1.0, bar_style='info', max=1.0), HTML(value='')))"
      ]
     },
     "metadata": {},
     "output_type": "display_data"
    },
    {
     "data": {
      "application/vnd.jupyter.widget-view+json": {
       "model_id": "2801d0eace614270a2c5bf9895556265",
       "version_major": 2,
       "version_minor": 0
      },
      "text/plain": [
       "HBox(children=(FloatProgress(value=1.0, bar_style='info', max=1.0), HTML(value='')))"
      ]
     },
     "metadata": {},
     "output_type": "display_data"
    },
    {
     "data": {
      "application/vnd.jupyter.widget-view+json": {
       "model_id": "e352fc8cee244b198bef7b7496761cd3",
       "version_major": 2,
       "version_minor": 0
      },
      "text/plain": [
       "HBox(children=(FloatProgress(value=1.0, bar_style='info', max=1.0), HTML(value='')))"
      ]
     },
     "metadata": {},
     "output_type": "display_data"
    },
    {
     "data": {
      "application/vnd.jupyter.widget-view+json": {
       "model_id": "b4cf033391f242c39921ed8a9147fd64",
       "version_major": 2,
       "version_minor": 0
      },
      "text/plain": [
       "HBox(children=(FloatProgress(value=1.0, bar_style='info', max=1.0), HTML(value='')))"
      ]
     },
     "metadata": {},
     "output_type": "display_data"
    },
    {
     "data": {
      "application/vnd.jupyter.widget-view+json": {
       "model_id": "8397ee9e30dd4b74b8dea5ff3956a8ff",
       "version_major": 2,
       "version_minor": 0
      },
      "text/plain": [
       "HBox(children=(FloatProgress(value=1.0, bar_style='info', max=1.0), HTML(value='')))"
      ]
     },
     "metadata": {},
     "output_type": "display_data"
    },
    {
     "data": {
      "application/vnd.jupyter.widget-view+json": {
       "model_id": "f85857cd01b247c5a30cca433740ce5a",
       "version_major": 2,
       "version_minor": 0
      },
      "text/plain": [
       "HBox(children=(FloatProgress(value=1.0, bar_style='info', max=1.0), HTML(value='')))"
      ]
     },
     "metadata": {},
     "output_type": "display_data"
    },
    {
     "data": {
      "application/vnd.jupyter.widget-view+json": {
       "model_id": "0d0b86465ca24e769fbade95e49d1cdc",
       "version_major": 2,
       "version_minor": 0
      },
      "text/plain": [
       "HBox(children=(FloatProgress(value=1.0, bar_style='info', max=1.0), HTML(value='')))"
      ]
     },
     "metadata": {},
     "output_type": "display_data"
    },
    {
     "data": {
      "application/vnd.jupyter.widget-view+json": {
       "model_id": "e9e52c6497c8494583899829a212ddab",
       "version_major": 2,
       "version_minor": 0
      },
      "text/plain": [
       "HBox(children=(FloatProgress(value=1.0, bar_style='info', max=1.0), HTML(value='')))"
      ]
     },
     "metadata": {},
     "output_type": "display_data"
    },
    {
     "data": {
      "application/vnd.jupyter.widget-view+json": {
       "model_id": "d0bdae3a1c964b68ad8cadddd77fba35",
       "version_major": 2,
       "version_minor": 0
      },
      "text/plain": [
       "HBox(children=(FloatProgress(value=1.0, bar_style='info', max=1.0), HTML(value='')))"
      ]
     },
     "metadata": {},
     "output_type": "display_data"
    },
    {
     "data": {
      "application/vnd.jupyter.widget-view+json": {
       "model_id": "9285cbf1239e4149be8635a7c5bc918a",
       "version_major": 2,
       "version_minor": 0
      },
      "text/plain": [
       "HBox(children=(FloatProgress(value=1.0, bar_style='info', max=1.0), HTML(value='')))"
      ]
     },
     "metadata": {},
     "output_type": "display_data"
    },
    {
     "data": {
      "application/vnd.jupyter.widget-view+json": {
       "model_id": "51361988aad347e781fcaad34d49264e",
       "version_major": 2,
       "version_minor": 0
      },
      "text/plain": [
       "HBox(children=(FloatProgress(value=1.0, bar_style='info', max=1.0), HTML(value='')))"
      ]
     },
     "metadata": {},
     "output_type": "display_data"
    },
    {
     "data": {
      "application/vnd.jupyter.widget-view+json": {
       "model_id": "dfb01c94e05141629c28548f8c987174",
       "version_major": 2,
       "version_minor": 0
      },
      "text/plain": [
       "HBox(children=(FloatProgress(value=1.0, bar_style='info', max=1.0), HTML(value='')))"
      ]
     },
     "metadata": {},
     "output_type": "display_data"
    },
    {
     "data": {
      "application/vnd.jupyter.widget-view+json": {
       "model_id": "498445318f2c4e3d85981d3c36a4d5a3",
       "version_major": 2,
       "version_minor": 0
      },
      "text/plain": [
       "HBox(children=(FloatProgress(value=1.0, bar_style='info', max=1.0), HTML(value='')))"
      ]
     },
     "metadata": {},
     "output_type": "display_data"
    },
    {
     "data": {
      "application/vnd.jupyter.widget-view+json": {
       "model_id": "060e7960e1ce40eda2279d0cf26113c4",
       "version_major": 2,
       "version_minor": 0
      },
      "text/plain": [
       "HBox(children=(FloatProgress(value=1.0, bar_style='info', max=1.0), HTML(value='')))"
      ]
     },
     "metadata": {},
     "output_type": "display_data"
    },
    {
     "data": {
      "application/vnd.jupyter.widget-view+json": {
       "model_id": "f891804b718b40b28070ddf479536fef",
       "version_major": 2,
       "version_minor": 0
      },
      "text/plain": [
       "HBox(children=(FloatProgress(value=1.0, bar_style='info', max=1.0), HTML(value='')))"
      ]
     },
     "metadata": {},
     "output_type": "display_data"
    },
    {
     "data": {
      "application/vnd.jupyter.widget-view+json": {
       "model_id": "a4aba4f069b4438f8bd23e6dac0bb1a2",
       "version_major": 2,
       "version_minor": 0
      },
      "text/plain": [
       "HBox(children=(FloatProgress(value=1.0, bar_style='info', max=1.0), HTML(value='')))"
      ]
     },
     "metadata": {},
     "output_type": "display_data"
    },
    {
     "data": {
      "application/vnd.jupyter.widget-view+json": {
       "model_id": "bc52b4bb587d49fab638633d4419a523",
       "version_major": 2,
       "version_minor": 0
      },
      "text/plain": [
       "HBox(children=(FloatProgress(value=1.0, bar_style='info', max=1.0), HTML(value='')))"
      ]
     },
     "metadata": {},
     "output_type": "display_data"
    },
    {
     "data": {
      "application/vnd.jupyter.widget-view+json": {
       "model_id": "3def4b4fe2e64a498e65011ffab07577",
       "version_major": 2,
       "version_minor": 0
      },
      "text/plain": [
       "HBox(children=(FloatProgress(value=1.0, bar_style='info', max=1.0), HTML(value='')))"
      ]
     },
     "metadata": {},
     "output_type": "display_data"
    },
    {
     "data": {
      "application/vnd.jupyter.widget-view+json": {
       "model_id": "1afa3cb17a564834ab5001227fa92a03",
       "version_major": 2,
       "version_minor": 0
      },
      "text/plain": [
       "HBox(children=(FloatProgress(value=1.0, bar_style='info', max=1.0), HTML(value='')))"
      ]
     },
     "metadata": {},
     "output_type": "display_data"
    },
    {
     "data": {
      "application/vnd.jupyter.widget-view+json": {
       "model_id": "051a940d8af446f69de54ff136d618ab",
       "version_major": 2,
       "version_minor": 0
      },
      "text/plain": [
       "HBox(children=(FloatProgress(value=1.0, bar_style='info', max=1.0), HTML(value='')))"
      ]
     },
     "metadata": {},
     "output_type": "display_data"
    },
    {
     "data": {
      "application/vnd.jupyter.widget-view+json": {
       "model_id": "c15ef9836a9646c398ce2388a548b27a",
       "version_major": 2,
       "version_minor": 0
      },
      "text/plain": [
       "HBox(children=(FloatProgress(value=1.0, bar_style='info', max=1.0), HTML(value='')))"
      ]
     },
     "metadata": {},
     "output_type": "display_data"
    },
    {
     "data": {
      "application/vnd.jupyter.widget-view+json": {
       "model_id": "cf7d82f15a724fda8ead05b6d4ca7dd9",
       "version_major": 2,
       "version_minor": 0
      },
      "text/plain": [
       "HBox(children=(FloatProgress(value=1.0, bar_style='info', max=1.0), HTML(value='')))"
      ]
     },
     "metadata": {},
     "output_type": "display_data"
    },
    {
     "data": {
      "application/vnd.jupyter.widget-view+json": {
       "model_id": "f985c3ffc4b04fb1955365d526c14cfb",
       "version_major": 2,
       "version_minor": 0
      },
      "text/plain": [
       "HBox(children=(FloatProgress(value=1.0, bar_style='info', max=1.0), HTML(value='')))"
      ]
     },
     "metadata": {},
     "output_type": "display_data"
    },
    {
     "data": {
      "application/vnd.jupyter.widget-view+json": {
       "model_id": "1483adad77b8490abaa0e7dd29143b5c",
       "version_major": 2,
       "version_minor": 0
      },
      "text/plain": [
       "HBox(children=(FloatProgress(value=1.0, bar_style='info', max=1.0), HTML(value='')))"
      ]
     },
     "metadata": {},
     "output_type": "display_data"
    },
    {
     "data": {
      "application/vnd.jupyter.widget-view+json": {
       "model_id": "bcbb1391d3bc426db9b9678cfc48c206",
       "version_major": 2,
       "version_minor": 0
      },
      "text/plain": [
       "HBox(children=(FloatProgress(value=1.0, bar_style='info', max=1.0), HTML(value='')))"
      ]
     },
     "metadata": {},
     "output_type": "display_data"
    },
    {
     "data": {
      "application/vnd.jupyter.widget-view+json": {
       "model_id": "51329e097a3940e0bb721f3cddf40cd5",
       "version_major": 2,
       "version_minor": 0
      },
      "text/plain": [
       "HBox(children=(FloatProgress(value=1.0, bar_style='info', max=1.0), HTML(value='')))"
      ]
     },
     "metadata": {},
     "output_type": "display_data"
    },
    {
     "data": {
      "application/vnd.jupyter.widget-view+json": {
       "model_id": "5a8edee8513a4aa6a84250c1611d74a3",
       "version_major": 2,
       "version_minor": 0
      },
      "text/plain": [
       "HBox(children=(FloatProgress(value=1.0, bar_style='info', max=1.0), HTML(value='')))"
      ]
     },
     "metadata": {},
     "output_type": "display_data"
    },
    {
     "data": {
      "application/vnd.jupyter.widget-view+json": {
       "model_id": "05cb5dfc3b8f4324953a1471e515cad9",
       "version_major": 2,
       "version_minor": 0
      },
      "text/plain": [
       "HBox(children=(FloatProgress(value=1.0, bar_style='info', max=1.0), HTML(value='')))"
      ]
     },
     "metadata": {},
     "output_type": "display_data"
    },
    {
     "data": {
      "application/vnd.jupyter.widget-view+json": {
       "model_id": "b5352e4eb49a4cceb4104149652808a3",
       "version_major": 2,
       "version_minor": 0
      },
      "text/plain": [
       "HBox(children=(FloatProgress(value=1.0, bar_style='info', max=1.0), HTML(value='')))"
      ]
     },
     "metadata": {},
     "output_type": "display_data"
    },
    {
     "data": {
      "application/vnd.jupyter.widget-view+json": {
       "model_id": "ee76568bbea341068ade91b952e1a495",
       "version_major": 2,
       "version_minor": 0
      },
      "text/plain": [
       "HBox(children=(FloatProgress(value=1.0, bar_style='info', max=1.0), HTML(value='')))"
      ]
     },
     "metadata": {},
     "output_type": "display_data"
    },
    {
     "data": {
      "application/vnd.jupyter.widget-view+json": {
       "model_id": "454a0eca13b542dbb7706596b7902b82",
       "version_major": 2,
       "version_minor": 0
      },
      "text/plain": [
       "HBox(children=(FloatProgress(value=1.0, bar_style='info', max=1.0), HTML(value='')))"
      ]
     },
     "metadata": {},
     "output_type": "display_data"
    },
    {
     "data": {
      "application/vnd.jupyter.widget-view+json": {
       "model_id": "4cbd8251dd9d4d41bc95ba55a7c10786",
       "version_major": 2,
       "version_minor": 0
      },
      "text/plain": [
       "HBox(children=(FloatProgress(value=1.0, bar_style='info', max=1.0), HTML(value='')))"
      ]
     },
     "metadata": {},
     "output_type": "display_data"
    },
    {
     "data": {
      "application/vnd.jupyter.widget-view+json": {
       "model_id": "14f8117b6c554e1bae11b781aa52e221",
       "version_major": 2,
       "version_minor": 0
      },
      "text/plain": [
       "HBox(children=(FloatProgress(value=1.0, bar_style='info', max=1.0), HTML(value='')))"
      ]
     },
     "metadata": {},
     "output_type": "display_data"
    },
    {
     "data": {
      "application/vnd.jupyter.widget-view+json": {
       "model_id": "d6ae44cb83974ff3a763777c167cb942",
       "version_major": 2,
       "version_minor": 0
      },
      "text/plain": [
       "HBox(children=(FloatProgress(value=1.0, bar_style='info', max=1.0), HTML(value='')))"
      ]
     },
     "metadata": {},
     "output_type": "display_data"
    },
    {
     "data": {
      "application/vnd.jupyter.widget-view+json": {
       "model_id": "a2c796dceb8a4d11a24358a82b9ba91c",
       "version_major": 2,
       "version_minor": 0
      },
      "text/plain": [
       "HBox(children=(FloatProgress(value=1.0, bar_style='info', max=1.0), HTML(value='')))"
      ]
     },
     "metadata": {},
     "output_type": "display_data"
    },
    {
     "data": {
      "application/vnd.jupyter.widget-view+json": {
       "model_id": "3a80142f931d4f2489b923ad0c08d03f",
       "version_major": 2,
       "version_minor": 0
      },
      "text/plain": [
       "HBox(children=(FloatProgress(value=1.0, bar_style='info', max=1.0), HTML(value='')))"
      ]
     },
     "metadata": {},
     "output_type": "display_data"
    },
    {
     "data": {
      "application/vnd.jupyter.widget-view+json": {
       "model_id": "bcbddcc765c14e61933bc960aa48f260",
       "version_major": 2,
       "version_minor": 0
      },
      "text/plain": [
       "HBox(children=(FloatProgress(value=1.0, bar_style='info', max=1.0), HTML(value='')))"
      ]
     },
     "metadata": {},
     "output_type": "display_data"
    },
    {
     "data": {
      "application/vnd.jupyter.widget-view+json": {
       "model_id": "78d4da833e0146f79471cf01c3d3f0e8",
       "version_major": 2,
       "version_minor": 0
      },
      "text/plain": [
       "HBox(children=(FloatProgress(value=1.0, bar_style='info', max=1.0), HTML(value='')))"
      ]
     },
     "metadata": {},
     "output_type": "display_data"
    },
    {
     "data": {
      "application/vnd.jupyter.widget-view+json": {
       "model_id": "6cde890a216e48f892c761676027b38a",
       "version_major": 2,
       "version_minor": 0
      },
      "text/plain": [
       "HBox(children=(FloatProgress(value=1.0, bar_style='info', max=1.0), HTML(value='')))"
      ]
     },
     "metadata": {},
     "output_type": "display_data"
    },
    {
     "data": {
      "application/vnd.jupyter.widget-view+json": {
       "model_id": "5ed08896ca364575b02d1a780ea4d543",
       "version_major": 2,
       "version_minor": 0
      },
      "text/plain": [
       "HBox(children=(FloatProgress(value=1.0, bar_style='info', max=1.0), HTML(value='')))"
      ]
     },
     "metadata": {},
     "output_type": "display_data"
    },
    {
     "data": {
      "application/vnd.jupyter.widget-view+json": {
       "model_id": "e5eb5aa48e87477c99e9bf58a671d447",
       "version_major": 2,
       "version_minor": 0
      },
      "text/plain": [
       "HBox(children=(FloatProgress(value=1.0, bar_style='info', max=1.0), HTML(value='')))"
      ]
     },
     "metadata": {},
     "output_type": "display_data"
    },
    {
     "data": {
      "application/vnd.jupyter.widget-view+json": {
       "model_id": "2dee9ff5b4e34f34835e73ab281512ee",
       "version_major": 2,
       "version_minor": 0
      },
      "text/plain": [
       "HBox(children=(FloatProgress(value=1.0, bar_style='info', max=1.0), HTML(value='')))"
      ]
     },
     "metadata": {},
     "output_type": "display_data"
    },
    {
     "data": {
      "application/vnd.jupyter.widget-view+json": {
       "model_id": "7872e147a2c147bc8f66df34c50c745a",
       "version_major": 2,
       "version_minor": 0
      },
      "text/plain": [
       "HBox(children=(FloatProgress(value=1.0, bar_style='info', max=1.0), HTML(value='')))"
      ]
     },
     "metadata": {},
     "output_type": "display_data"
    },
    {
     "data": {
      "application/vnd.jupyter.widget-view+json": {
       "model_id": "930211adc0114cec86cacc19e65afa24",
       "version_major": 2,
       "version_minor": 0
      },
      "text/plain": [
       "HBox(children=(FloatProgress(value=1.0, bar_style='info', max=1.0), HTML(value='')))"
      ]
     },
     "metadata": {},
     "output_type": "display_data"
    },
    {
     "data": {
      "application/vnd.jupyter.widget-view+json": {
       "model_id": "6dbe39a327224fa9a88b5eeb96035da9",
       "version_major": 2,
       "version_minor": 0
      },
      "text/plain": [
       "HBox(children=(FloatProgress(value=1.0, bar_style='info', max=1.0), HTML(value='')))"
      ]
     },
     "metadata": {},
     "output_type": "display_data"
    },
    {
     "data": {
      "application/vnd.jupyter.widget-view+json": {
       "model_id": "c213c829edee44239865d02617997981",
       "version_major": 2,
       "version_minor": 0
      },
      "text/plain": [
       "HBox(children=(FloatProgress(value=1.0, bar_style='info', max=1.0), HTML(value='')))"
      ]
     },
     "metadata": {},
     "output_type": "display_data"
    },
    {
     "data": {
      "application/vnd.jupyter.widget-view+json": {
       "model_id": "79c8c7bfcbd24c19816a6d396cbdb879",
       "version_major": 2,
       "version_minor": 0
      },
      "text/plain": [
       "HBox(children=(FloatProgress(value=1.0, bar_style='info', max=1.0), HTML(value='')))"
      ]
     },
     "metadata": {},
     "output_type": "display_data"
    },
    {
     "data": {
      "application/vnd.jupyter.widget-view+json": {
       "model_id": "76630d23c5da440c83672de16ebacce9",
       "version_major": 2,
       "version_minor": 0
      },
      "text/plain": [
       "HBox(children=(FloatProgress(value=1.0, bar_style='info', max=1.0), HTML(value='')))"
      ]
     },
     "metadata": {},
     "output_type": "display_data"
    },
    {
     "data": {
      "application/vnd.jupyter.widget-view+json": {
       "model_id": "bf1078b976c240b1848e439a8690e6d8",
       "version_major": 2,
       "version_minor": 0
      },
      "text/plain": [
       "HBox(children=(FloatProgress(value=1.0, bar_style='info', max=1.0), HTML(value='')))"
      ]
     },
     "metadata": {},
     "output_type": "display_data"
    },
    {
     "data": {
      "application/vnd.jupyter.widget-view+json": {
       "model_id": "28bbda15fa3b4410bb3e7e2857d2aea6",
       "version_major": 2,
       "version_minor": 0
      },
      "text/plain": [
       "HBox(children=(FloatProgress(value=1.0, bar_style='info', max=1.0), HTML(value='')))"
      ]
     },
     "metadata": {},
     "output_type": "display_data"
    },
    {
     "data": {
      "application/vnd.jupyter.widget-view+json": {
       "model_id": "dff69421accd416d98f87c203ee56370",
       "version_major": 2,
       "version_minor": 0
      },
      "text/plain": [
       "HBox(children=(FloatProgress(value=1.0, bar_style='info', max=1.0), HTML(value='')))"
      ]
     },
     "metadata": {},
     "output_type": "display_data"
    },
    {
     "data": {
      "application/vnd.jupyter.widget-view+json": {
       "model_id": "3bd2e2486e0b4a1798f5881373d58c82",
       "version_major": 2,
       "version_minor": 0
      },
      "text/plain": [
       "HBox(children=(FloatProgress(value=1.0, bar_style='info', max=1.0), HTML(value='')))"
      ]
     },
     "metadata": {},
     "output_type": "display_data"
    },
    {
     "data": {
      "application/vnd.jupyter.widget-view+json": {
       "model_id": "ffb962a69464484899db7eb9736838f9",
       "version_major": 2,
       "version_minor": 0
      },
      "text/plain": [
       "HBox(children=(FloatProgress(value=1.0, bar_style='info', max=1.0), HTML(value='')))"
      ]
     },
     "metadata": {},
     "output_type": "display_data"
    },
    {
     "data": {
      "application/vnd.jupyter.widget-view+json": {
       "model_id": "4acdb1c2192b4c13b5bda2c18e0ddcde",
       "version_major": 2,
       "version_minor": 0
      },
      "text/plain": [
       "HBox(children=(FloatProgress(value=1.0, bar_style='info', max=1.0), HTML(value='')))"
      ]
     },
     "metadata": {},
     "output_type": "display_data"
    },
    {
     "data": {
      "application/vnd.jupyter.widget-view+json": {
       "model_id": "3e939b7d401a4476934c147178ff3708",
       "version_major": 2,
       "version_minor": 0
      },
      "text/plain": [
       "HBox(children=(FloatProgress(value=1.0, bar_style='info', max=1.0), HTML(value='')))"
      ]
     },
     "metadata": {},
     "output_type": "display_data"
    },
    {
     "data": {
      "application/vnd.jupyter.widget-view+json": {
       "model_id": "3ed3d74308e24babb9d01eccac3a3d31",
       "version_major": 2,
       "version_minor": 0
      },
      "text/plain": [
       "HBox(children=(FloatProgress(value=1.0, bar_style='info', max=1.0), HTML(value='')))"
      ]
     },
     "metadata": {},
     "output_type": "display_data"
    },
    {
     "data": {
      "application/vnd.jupyter.widget-view+json": {
       "model_id": "be57275ae05a41c5a64c5a906775184d",
       "version_major": 2,
       "version_minor": 0
      },
      "text/plain": [
       "HBox(children=(FloatProgress(value=1.0, bar_style='info', max=1.0), HTML(value='')))"
      ]
     },
     "metadata": {},
     "output_type": "display_data"
    },
    {
     "data": {
      "application/vnd.jupyter.widget-view+json": {
       "model_id": "9f2479b2d9694cbcbffc21b141ceb9a3",
       "version_major": 2,
       "version_minor": 0
      },
      "text/plain": [
       "HBox(children=(FloatProgress(value=1.0, bar_style='info', max=1.0), HTML(value='')))"
      ]
     },
     "metadata": {},
     "output_type": "display_data"
    },
    {
     "data": {
      "application/vnd.jupyter.widget-view+json": {
       "model_id": "70ff6444ba544cd783eb050c54d0626c",
       "version_major": 2,
       "version_minor": 0
      },
      "text/plain": [
       "HBox(children=(FloatProgress(value=1.0, bar_style='info', max=1.0), HTML(value='')))"
      ]
     },
     "metadata": {},
     "output_type": "display_data"
    },
    {
     "data": {
      "application/vnd.jupyter.widget-view+json": {
       "model_id": "8e62f719d0fb4ed1adce3b5c4ebaa739",
       "version_major": 2,
       "version_minor": 0
      },
      "text/plain": [
       "HBox(children=(FloatProgress(value=1.0, bar_style='info', max=1.0), HTML(value='')))"
      ]
     },
     "metadata": {},
     "output_type": "display_data"
    },
    {
     "data": {
      "application/vnd.jupyter.widget-view+json": {
       "model_id": "46bed2b947e04fb48aa931ec7597b38e",
       "version_major": 2,
       "version_minor": 0
      },
      "text/plain": [
       "HBox(children=(FloatProgress(value=1.0, bar_style='info', max=1.0), HTML(value='')))"
      ]
     },
     "metadata": {},
     "output_type": "display_data"
    },
    {
     "data": {
      "application/vnd.jupyter.widget-view+json": {
       "model_id": "a705b5c6a9554e899efb98d8c381888e",
       "version_major": 2,
       "version_minor": 0
      },
      "text/plain": [
       "HBox(children=(FloatProgress(value=1.0, bar_style='info', max=1.0), HTML(value='')))"
      ]
     },
     "metadata": {},
     "output_type": "display_data"
    },
    {
     "data": {
      "application/vnd.jupyter.widget-view+json": {
       "model_id": "66440cb0318c46b8969d597e015b24db",
       "version_major": 2,
       "version_minor": 0
      },
      "text/plain": [
       "HBox(children=(FloatProgress(value=1.0, bar_style='info', max=1.0), HTML(value='')))"
      ]
     },
     "metadata": {},
     "output_type": "display_data"
    },
    {
     "data": {
      "application/vnd.jupyter.widget-view+json": {
       "model_id": "4bac2d537585493f88d97c7c02ef7ebb",
       "version_major": 2,
       "version_minor": 0
      },
      "text/plain": [
       "HBox(children=(FloatProgress(value=1.0, bar_style='info', max=1.0), HTML(value='')))"
      ]
     },
     "metadata": {},
     "output_type": "display_data"
    },
    {
     "data": {
      "application/vnd.jupyter.widget-view+json": {
       "model_id": "f027138fbcc84a009bfeab1d5feacd0a",
       "version_major": 2,
       "version_minor": 0
      },
      "text/plain": [
       "HBox(children=(FloatProgress(value=1.0, bar_style='info', max=1.0), HTML(value='')))"
      ]
     },
     "metadata": {},
     "output_type": "display_data"
    },
    {
     "data": {
      "application/vnd.jupyter.widget-view+json": {
       "model_id": "236b0f9c1a164741ad32f79790af48c1",
       "version_major": 2,
       "version_minor": 0
      },
      "text/plain": [
       "HBox(children=(FloatProgress(value=1.0, bar_style='info', max=1.0), HTML(value='')))"
      ]
     },
     "metadata": {},
     "output_type": "display_data"
    },
    {
     "data": {
      "application/vnd.jupyter.widget-view+json": {
       "model_id": "3ad6b92542c04d0e84f0501e12c25205",
       "version_major": 2,
       "version_minor": 0
      },
      "text/plain": [
       "HBox(children=(FloatProgress(value=1.0, bar_style='info', max=1.0), HTML(value='')))"
      ]
     },
     "metadata": {},
     "output_type": "display_data"
    },
    {
     "data": {
      "application/vnd.jupyter.widget-view+json": {
       "model_id": "bc0d69d024eb4e448bf0969bcdf1b0e0",
       "version_major": 2,
       "version_minor": 0
      },
      "text/plain": [
       "HBox(children=(FloatProgress(value=1.0, bar_style='info', max=1.0), HTML(value='')))"
      ]
     },
     "metadata": {},
     "output_type": "display_data"
    },
    {
     "data": {
      "application/vnd.jupyter.widget-view+json": {
       "model_id": "1f3c942c74cf48ef807b2d78970323d4",
       "version_major": 2,
       "version_minor": 0
      },
      "text/plain": [
       "HBox(children=(FloatProgress(value=1.0, bar_style='info', max=1.0), HTML(value='')))"
      ]
     },
     "metadata": {},
     "output_type": "display_data"
    },
    {
     "data": {
      "application/vnd.jupyter.widget-view+json": {
       "model_id": "c245e81153824ec88383ab3a92844bfa",
       "version_major": 2,
       "version_minor": 0
      },
      "text/plain": [
       "HBox(children=(FloatProgress(value=1.0, bar_style='info', max=1.0), HTML(value='')))"
      ]
     },
     "metadata": {},
     "output_type": "display_data"
    },
    {
     "data": {
      "application/vnd.jupyter.widget-view+json": {
       "model_id": "8e24014c92184b38888953fa2f0e6a48",
       "version_major": 2,
       "version_minor": 0
      },
      "text/plain": [
       "HBox(children=(FloatProgress(value=1.0, bar_style='info', max=1.0), HTML(value='')))"
      ]
     },
     "metadata": {},
     "output_type": "display_data"
    },
    {
     "data": {
      "application/vnd.jupyter.widget-view+json": {
       "model_id": "bb7f8cc91f9e4be199c1e746b7ed1bea",
       "version_major": 2,
       "version_minor": 0
      },
      "text/plain": [
       "HBox(children=(FloatProgress(value=1.0, bar_style='info', max=1.0), HTML(value='')))"
      ]
     },
     "metadata": {},
     "output_type": "display_data"
    },
    {
     "data": {
      "application/vnd.jupyter.widget-view+json": {
       "model_id": "01d8921aee1146f0850705fa7ecdb561",
       "version_major": 2,
       "version_minor": 0
      },
      "text/plain": [
       "HBox(children=(FloatProgress(value=1.0, bar_style='info', max=1.0), HTML(value='')))"
      ]
     },
     "metadata": {},
     "output_type": "display_data"
    },
    {
     "data": {
      "application/vnd.jupyter.widget-view+json": {
       "model_id": "0cc192f9051e440a95c9024cbb47ee92",
       "version_major": 2,
       "version_minor": 0
      },
      "text/plain": [
       "HBox(children=(FloatProgress(value=1.0, bar_style='info', max=1.0), HTML(value='')))"
      ]
     },
     "metadata": {},
     "output_type": "display_data"
    },
    {
     "data": {
      "application/vnd.jupyter.widget-view+json": {
       "model_id": "8a44c3014d5c4f12b60affe8f66fed95",
       "version_major": 2,
       "version_minor": 0
      },
      "text/plain": [
       "HBox(children=(FloatProgress(value=1.0, bar_style='info', max=1.0), HTML(value='')))"
      ]
     },
     "metadata": {},
     "output_type": "display_data"
    },
    {
     "data": {
      "application/vnd.jupyter.widget-view+json": {
       "model_id": "0fe4b42dda3c44c49de94f3a89c99c43",
       "version_major": 2,
       "version_minor": 0
      },
      "text/plain": [
       "HBox(children=(FloatProgress(value=1.0, bar_style='info', max=1.0), HTML(value='')))"
      ]
     },
     "metadata": {},
     "output_type": "display_data"
    },
    {
     "data": {
      "application/vnd.jupyter.widget-view+json": {
       "model_id": "8255c9a91950488b8426707f160646bf",
       "version_major": 2,
       "version_minor": 0
      },
      "text/plain": [
       "HBox(children=(FloatProgress(value=1.0, bar_style='info', max=1.0), HTML(value='')))"
      ]
     },
     "metadata": {},
     "output_type": "display_data"
    },
    {
     "data": {
      "application/vnd.jupyter.widget-view+json": {
       "model_id": "54cc124c444043f88ea9668e1fcda39d",
       "version_major": 2,
       "version_minor": 0
      },
      "text/plain": [
       "HBox(children=(FloatProgress(value=1.0, bar_style='info', max=1.0), HTML(value='')))"
      ]
     },
     "metadata": {},
     "output_type": "display_data"
    },
    {
     "data": {
      "application/vnd.jupyter.widget-view+json": {
       "model_id": "5bef52a0fa5442f58d8a7ef04d8a5087",
       "version_major": 2,
       "version_minor": 0
      },
      "text/plain": [
       "HBox(children=(FloatProgress(value=1.0, bar_style='info', max=1.0), HTML(value='')))"
      ]
     },
     "metadata": {},
     "output_type": "display_data"
    },
    {
     "data": {
      "application/vnd.jupyter.widget-view+json": {
       "model_id": "ac5d644311a2471cb5d7c694b9bc94ab",
       "version_major": 2,
       "version_minor": 0
      },
      "text/plain": [
       "HBox(children=(FloatProgress(value=1.0, bar_style='info', max=1.0), HTML(value='')))"
      ]
     },
     "metadata": {},
     "output_type": "display_data"
    },
    {
     "data": {
      "application/vnd.jupyter.widget-view+json": {
       "model_id": "862bbc6b2d6d44109e185d21128d8d85",
       "version_major": 2,
       "version_minor": 0
      },
      "text/plain": [
       "HBox(children=(FloatProgress(value=1.0, bar_style='info', max=1.0), HTML(value='')))"
      ]
     },
     "metadata": {},
     "output_type": "display_data"
    },
    {
     "data": {
      "application/vnd.jupyter.widget-view+json": {
       "model_id": "83ae8a127e5e4dfbba5f238b50eafa56",
       "version_major": 2,
       "version_minor": 0
      },
      "text/plain": [
       "HBox(children=(FloatProgress(value=1.0, bar_style='info', max=1.0), HTML(value='')))"
      ]
     },
     "metadata": {},
     "output_type": "display_data"
    },
    {
     "data": {
      "application/vnd.jupyter.widget-view+json": {
       "model_id": "254135397b144cefa9b00367d6ea261a",
       "version_major": 2,
       "version_minor": 0
      },
      "text/plain": [
       "HBox(children=(FloatProgress(value=1.0, bar_style='info', max=1.0), HTML(value='')))"
      ]
     },
     "metadata": {},
     "output_type": "display_data"
    },
    {
     "data": {
      "application/vnd.jupyter.widget-view+json": {
       "model_id": "a1f3bd0910a34f7ba665b1a9bb8a64c5",
       "version_major": 2,
       "version_minor": 0
      },
      "text/plain": [
       "HBox(children=(FloatProgress(value=1.0, bar_style='info', max=1.0), HTML(value='')))"
      ]
     },
     "metadata": {},
     "output_type": "display_data"
    },
    {
     "data": {
      "application/vnd.jupyter.widget-view+json": {
       "model_id": "02b2b8d150f44480bf3d44eb9029b491",
       "version_major": 2,
       "version_minor": 0
      },
      "text/plain": [
       "HBox(children=(FloatProgress(value=1.0, bar_style='info', max=1.0), HTML(value='')))"
      ]
     },
     "metadata": {},
     "output_type": "display_data"
    },
    {
     "data": {
      "application/vnd.jupyter.widget-view+json": {
       "model_id": "a8fe665c16f34f31ad7068ce1d28cf5c",
       "version_major": 2,
       "version_minor": 0
      },
      "text/plain": [
       "HBox(children=(FloatProgress(value=1.0, bar_style='info', max=1.0), HTML(value='')))"
      ]
     },
     "metadata": {},
     "output_type": "display_data"
    },
    {
     "data": {
      "application/vnd.jupyter.widget-view+json": {
       "model_id": "3a87aaa1e4d54b0b84e9fbba7df0b16e",
       "version_major": 2,
       "version_minor": 0
      },
      "text/plain": [
       "HBox(children=(FloatProgress(value=1.0, bar_style='info', max=1.0), HTML(value='')))"
      ]
     },
     "metadata": {},
     "output_type": "display_data"
    },
    {
     "data": {
      "application/vnd.jupyter.widget-view+json": {
       "model_id": "3d5c6c886fb9417bb61704a0706d2bb8",
       "version_major": 2,
       "version_minor": 0
      },
      "text/plain": [
       "HBox(children=(FloatProgress(value=1.0, bar_style='info', max=1.0), HTML(value='')))"
      ]
     },
     "metadata": {},
     "output_type": "display_data"
    },
    {
     "data": {
      "application/vnd.jupyter.widget-view+json": {
       "model_id": "bee15c0278f04f6090e3234c3878496a",
       "version_major": 2,
       "version_minor": 0
      },
      "text/plain": [
       "HBox(children=(FloatProgress(value=1.0, bar_style='info', max=1.0), HTML(value='')))"
      ]
     },
     "metadata": {},
     "output_type": "display_data"
    },
    {
     "data": {
      "application/vnd.jupyter.widget-view+json": {
       "model_id": "37c382113c17406986c291eb2d5f92c3",
       "version_major": 2,
       "version_minor": 0
      },
      "text/plain": [
       "HBox(children=(FloatProgress(value=1.0, bar_style='info', max=1.0), HTML(value='')))"
      ]
     },
     "metadata": {},
     "output_type": "display_data"
    },
    {
     "data": {
      "application/vnd.jupyter.widget-view+json": {
       "model_id": "3fc2413e473c4a73a190209f0c67956d",
       "version_major": 2,
       "version_minor": 0
      },
      "text/plain": [
       "HBox(children=(FloatProgress(value=1.0, bar_style='info', max=1.0), HTML(value='')))"
      ]
     },
     "metadata": {},
     "output_type": "display_data"
    },
    {
     "data": {
      "application/vnd.jupyter.widget-view+json": {
       "model_id": "5a8be17233494c13b959cf70c0c84de9",
       "version_major": 2,
       "version_minor": 0
      },
      "text/plain": [
       "HBox(children=(FloatProgress(value=1.0, bar_style='info', max=1.0), HTML(value='')))"
      ]
     },
     "metadata": {},
     "output_type": "display_data"
    },
    {
     "data": {
      "application/vnd.jupyter.widget-view+json": {
       "model_id": "929ff76289164824bdabc79a431db414",
       "version_major": 2,
       "version_minor": 0
      },
      "text/plain": [
       "HBox(children=(FloatProgress(value=1.0, bar_style='info', max=1.0), HTML(value='')))"
      ]
     },
     "metadata": {},
     "output_type": "display_data"
    },
    {
     "data": {
      "application/vnd.jupyter.widget-view+json": {
       "model_id": "c9980a9868ad4204933511e395f9186c",
       "version_major": 2,
       "version_minor": 0
      },
      "text/plain": [
       "HBox(children=(FloatProgress(value=1.0, bar_style='info', max=1.0), HTML(value='')))"
      ]
     },
     "metadata": {},
     "output_type": "display_data"
    },
    {
     "data": {
      "application/vnd.jupyter.widget-view+json": {
       "model_id": "27ca71655b8441fa9138195946b54d9e",
       "version_major": 2,
       "version_minor": 0
      },
      "text/plain": [
       "HBox(children=(FloatProgress(value=1.0, bar_style='info', max=1.0), HTML(value='')))"
      ]
     },
     "metadata": {},
     "output_type": "display_data"
    },
    {
     "data": {
      "application/vnd.jupyter.widget-view+json": {
       "model_id": "bbbd89a9cd98492badc8e70a4b67f6df",
       "version_major": 2,
       "version_minor": 0
      },
      "text/plain": [
       "HBox(children=(FloatProgress(value=1.0, bar_style='info', max=1.0), HTML(value='')))"
      ]
     },
     "metadata": {},
     "output_type": "display_data"
    },
    {
     "data": {
      "application/vnd.jupyter.widget-view+json": {
       "model_id": "d7b1adfe21034e42a933d4dad914b7d6",
       "version_major": 2,
       "version_minor": 0
      },
      "text/plain": [
       "HBox(children=(FloatProgress(value=1.0, bar_style='info', max=1.0), HTML(value='')))"
      ]
     },
     "metadata": {},
     "output_type": "display_data"
    },
    {
     "data": {
      "application/vnd.jupyter.widget-view+json": {
       "model_id": "a72be988cd3149b39b665b0024be36b7",
       "version_major": 2,
       "version_minor": 0
      },
      "text/plain": [
       "HBox(children=(FloatProgress(value=1.0, bar_style='info', max=1.0), HTML(value='')))"
      ]
     },
     "metadata": {},
     "output_type": "display_data"
    },
    {
     "data": {
      "application/vnd.jupyter.widget-view+json": {
       "model_id": "3026d4c55cfa48be98a9c066ee4c2111",
       "version_major": 2,
       "version_minor": 0
      },
      "text/plain": [
       "HBox(children=(FloatProgress(value=1.0, bar_style='info', max=1.0), HTML(value='')))"
      ]
     },
     "metadata": {},
     "output_type": "display_data"
    },
    {
     "data": {
      "application/vnd.jupyter.widget-view+json": {
       "model_id": "a39aa2561070424ca39b8d6cda546054",
       "version_major": 2,
       "version_minor": 0
      },
      "text/plain": [
       "HBox(children=(FloatProgress(value=1.0, bar_style='info', max=1.0), HTML(value='')))"
      ]
     },
     "metadata": {},
     "output_type": "display_data"
    },
    {
     "data": {
      "application/vnd.jupyter.widget-view+json": {
       "model_id": "fc026b7e746149709e1de14c34b843e0",
       "version_major": 2,
       "version_minor": 0
      },
      "text/plain": [
       "HBox(children=(FloatProgress(value=1.0, bar_style='info', max=1.0), HTML(value='')))"
      ]
     },
     "metadata": {},
     "output_type": "display_data"
    },
    {
     "data": {
      "application/vnd.jupyter.widget-view+json": {
       "model_id": "8df76f8e83c543cbbeea833b49b34bd8",
       "version_major": 2,
       "version_minor": 0
      },
      "text/plain": [
       "HBox(children=(FloatProgress(value=1.0, bar_style='info', max=1.0), HTML(value='')))"
      ]
     },
     "metadata": {},
     "output_type": "display_data"
    },
    {
     "data": {
      "application/vnd.jupyter.widget-view+json": {
       "model_id": "cc7b0007167d48859f1be2b09044a616",
       "version_major": 2,
       "version_minor": 0
      },
      "text/plain": [
       "HBox(children=(FloatProgress(value=1.0, bar_style='info', max=1.0), HTML(value='')))"
      ]
     },
     "metadata": {},
     "output_type": "display_data"
    },
    {
     "data": {
      "application/vnd.jupyter.widget-view+json": {
       "model_id": "d766872e3b7947b491a15b3275c4d547",
       "version_major": 2,
       "version_minor": 0
      },
      "text/plain": [
       "HBox(children=(FloatProgress(value=1.0, bar_style='info', max=1.0), HTML(value='')))"
      ]
     },
     "metadata": {},
     "output_type": "display_data"
    },
    {
     "data": {
      "application/vnd.jupyter.widget-view+json": {
       "model_id": "ba0160ddd90f4d80a54042b04685138a",
       "version_major": 2,
       "version_minor": 0
      },
      "text/plain": [
       "HBox(children=(FloatProgress(value=1.0, bar_style='info', max=1.0), HTML(value='')))"
      ]
     },
     "metadata": {},
     "output_type": "display_data"
    },
    {
     "data": {
      "application/vnd.jupyter.widget-view+json": {
       "model_id": "5f8f49be2b9041e891f5eb8ea37f47d1",
       "version_major": 2,
       "version_minor": 0
      },
      "text/plain": [
       "HBox(children=(FloatProgress(value=1.0, bar_style='info', max=1.0), HTML(value='')))"
      ]
     },
     "metadata": {},
     "output_type": "display_data"
    },
    {
     "data": {
      "application/vnd.jupyter.widget-view+json": {
       "model_id": "cf1f767c2abe4d609527079834c8daa8",
       "version_major": 2,
       "version_minor": 0
      },
      "text/plain": [
       "HBox(children=(FloatProgress(value=1.0, bar_style='info', max=1.0), HTML(value='')))"
      ]
     },
     "metadata": {},
     "output_type": "display_data"
    },
    {
     "data": {
      "application/vnd.jupyter.widget-view+json": {
       "model_id": "8bd3c0a5f06b4dac9cb3a4534c897eec",
       "version_major": 2,
       "version_minor": 0
      },
      "text/plain": [
       "HBox(children=(FloatProgress(value=1.0, bar_style='info', max=1.0), HTML(value='')))"
      ]
     },
     "metadata": {},
     "output_type": "display_data"
    },
    {
     "data": {
      "application/vnd.jupyter.widget-view+json": {
       "model_id": "f1b7fe08f0c4479d9288724c396c9823",
       "version_major": 2,
       "version_minor": 0
      },
      "text/plain": [
       "HBox(children=(FloatProgress(value=1.0, bar_style='info', max=1.0), HTML(value='')))"
      ]
     },
     "metadata": {},
     "output_type": "display_data"
    },
    {
     "data": {
      "application/vnd.jupyter.widget-view+json": {
       "model_id": "4093ecbd243b47218ca7df670f6cdb6a",
       "version_major": 2,
       "version_minor": 0
      },
      "text/plain": [
       "HBox(children=(FloatProgress(value=1.0, bar_style='info', max=1.0), HTML(value='')))"
      ]
     },
     "metadata": {},
     "output_type": "display_data"
    },
    {
     "data": {
      "application/vnd.jupyter.widget-view+json": {
       "model_id": "2492786aa7a5415792c6cf0fb56d3090",
       "version_major": 2,
       "version_minor": 0
      },
      "text/plain": [
       "HBox(children=(FloatProgress(value=1.0, bar_style='info', max=1.0), HTML(value='')))"
      ]
     },
     "metadata": {},
     "output_type": "display_data"
    },
    {
     "data": {
      "application/vnd.jupyter.widget-view+json": {
       "model_id": "7f54b8fbc55a4ec2bb20095580db735b",
       "version_major": 2,
       "version_minor": 0
      },
      "text/plain": [
       "HBox(children=(FloatProgress(value=1.0, bar_style='info', max=1.0), HTML(value='')))"
      ]
     },
     "metadata": {},
     "output_type": "display_data"
    },
    {
     "data": {
      "application/vnd.jupyter.widget-view+json": {
       "model_id": "6f5fc166e3b649db895c1f365ee119a9",
       "version_major": 2,
       "version_minor": 0
      },
      "text/plain": [
       "HBox(children=(FloatProgress(value=1.0, bar_style='info', max=1.0), HTML(value='')))"
      ]
     },
     "metadata": {},
     "output_type": "display_data"
    },
    {
     "data": {
      "application/vnd.jupyter.widget-view+json": {
       "model_id": "adeb3e5b17274679972e87f6aea4394d",
       "version_major": 2,
       "version_minor": 0
      },
      "text/plain": [
       "HBox(children=(FloatProgress(value=1.0, bar_style='info', max=1.0), HTML(value='')))"
      ]
     },
     "metadata": {},
     "output_type": "display_data"
    },
    {
     "data": {
      "application/vnd.jupyter.widget-view+json": {
       "model_id": "5212b1007ece442587349b1978611697",
       "version_major": 2,
       "version_minor": 0
      },
      "text/plain": [
       "HBox(children=(FloatProgress(value=1.0, bar_style='info', max=1.0), HTML(value='')))"
      ]
     },
     "metadata": {},
     "output_type": "display_data"
    },
    {
     "data": {
      "application/vnd.jupyter.widget-view+json": {
       "model_id": "1ae78eb97d7a481285fdf77c95ba4238",
       "version_major": 2,
       "version_minor": 0
      },
      "text/plain": [
       "HBox(children=(FloatProgress(value=1.0, bar_style='info', max=1.0), HTML(value='')))"
      ]
     },
     "metadata": {},
     "output_type": "display_data"
    },
    {
     "data": {
      "application/vnd.jupyter.widget-view+json": {
       "model_id": "2be6006c87a64f019e656f89645202e8",
       "version_major": 2,
       "version_minor": 0
      },
      "text/plain": [
       "HBox(children=(FloatProgress(value=1.0, bar_style='info', max=1.0), HTML(value='')))"
      ]
     },
     "metadata": {},
     "output_type": "display_data"
    },
    {
     "data": {
      "application/vnd.jupyter.widget-view+json": {
       "model_id": "5b15c5586de744ba983416862ad2a774",
       "version_major": 2,
       "version_minor": 0
      },
      "text/plain": [
       "HBox(children=(FloatProgress(value=1.0, bar_style='info', max=1.0), HTML(value='')))"
      ]
     },
     "metadata": {},
     "output_type": "display_data"
    },
    {
     "data": {
      "application/vnd.jupyter.widget-view+json": {
       "model_id": "43edca43490c42e9bcf336820adc2869",
       "version_major": 2,
       "version_minor": 0
      },
      "text/plain": [
       "HBox(children=(FloatProgress(value=1.0, bar_style='info', max=1.0), HTML(value='')))"
      ]
     },
     "metadata": {},
     "output_type": "display_data"
    },
    {
     "data": {
      "application/vnd.jupyter.widget-view+json": {
       "model_id": "02b12ca9629e42958b503bf2c33d9b33",
       "version_major": 2,
       "version_minor": 0
      },
      "text/plain": [
       "HBox(children=(FloatProgress(value=1.0, bar_style='info', max=1.0), HTML(value='')))"
      ]
     },
     "metadata": {},
     "output_type": "display_data"
    },
    {
     "data": {
      "application/vnd.jupyter.widget-view+json": {
       "model_id": "e78d8f440e6842bea89b0f270d19f68e",
       "version_major": 2,
       "version_minor": 0
      },
      "text/plain": [
       "HBox(children=(FloatProgress(value=1.0, bar_style='info', max=1.0), HTML(value='')))"
      ]
     },
     "metadata": {},
     "output_type": "display_data"
    },
    {
     "data": {
      "application/vnd.jupyter.widget-view+json": {
       "model_id": "55b2dde4d95e45bba3ce259e0c3b7be3",
       "version_major": 2,
       "version_minor": 0
      },
      "text/plain": [
       "HBox(children=(FloatProgress(value=1.0, bar_style='info', max=1.0), HTML(value='')))"
      ]
     },
     "metadata": {},
     "output_type": "display_data"
    },
    {
     "data": {
      "application/vnd.jupyter.widget-view+json": {
       "model_id": "f5fcc5f6572a4f1298cd3be0ef148b73",
       "version_major": 2,
       "version_minor": 0
      },
      "text/plain": [
       "HBox(children=(FloatProgress(value=1.0, bar_style='info', max=1.0), HTML(value='')))"
      ]
     },
     "metadata": {},
     "output_type": "display_data"
    },
    {
     "data": {
      "application/vnd.jupyter.widget-view+json": {
       "model_id": "be00eb77700c43468427121ecbb55a33",
       "version_major": 2,
       "version_minor": 0
      },
      "text/plain": [
       "HBox(children=(FloatProgress(value=1.0, bar_style='info', max=1.0), HTML(value='')))"
      ]
     },
     "metadata": {},
     "output_type": "display_data"
    },
    {
     "data": {
      "application/vnd.jupyter.widget-view+json": {
       "model_id": "622b8bce262a4a0aab39ac6bd5128532",
       "version_major": 2,
       "version_minor": 0
      },
      "text/plain": [
       "HBox(children=(FloatProgress(value=1.0, bar_style='info', max=1.0), HTML(value='')))"
      ]
     },
     "metadata": {},
     "output_type": "display_data"
    },
    {
     "data": {
      "application/vnd.jupyter.widget-view+json": {
       "model_id": "3a4d36e3dc164b569066b44986555501",
       "version_major": 2,
       "version_minor": 0
      },
      "text/plain": [
       "HBox(children=(FloatProgress(value=1.0, bar_style='info', max=1.0), HTML(value='')))"
      ]
     },
     "metadata": {},
     "output_type": "display_data"
    },
    {
     "data": {
      "application/vnd.jupyter.widget-view+json": {
       "model_id": "fd28c159b5f9452b92264e60fe426104",
       "version_major": 2,
       "version_minor": 0
      },
      "text/plain": [
       "HBox(children=(FloatProgress(value=1.0, bar_style='info', max=1.0), HTML(value='')))"
      ]
     },
     "metadata": {},
     "output_type": "display_data"
    },
    {
     "data": {
      "application/vnd.jupyter.widget-view+json": {
       "model_id": "4fd79e6b2a6f483a84ea9235b1264269",
       "version_major": 2,
       "version_minor": 0
      },
      "text/plain": [
       "HBox(children=(FloatProgress(value=1.0, bar_style='info', max=1.0), HTML(value='')))"
      ]
     },
     "metadata": {},
     "output_type": "display_data"
    },
    {
     "data": {
      "application/vnd.jupyter.widget-view+json": {
       "model_id": "b7c6c5a6a155480aaba391f200e668cb",
       "version_major": 2,
       "version_minor": 0
      },
      "text/plain": [
       "HBox(children=(FloatProgress(value=1.0, bar_style='info', max=1.0), HTML(value='')))"
      ]
     },
     "metadata": {},
     "output_type": "display_data"
    },
    {
     "data": {
      "application/vnd.jupyter.widget-view+json": {
       "model_id": "24d521a1ce534f438ab2a8f267052318",
       "version_major": 2,
       "version_minor": 0
      },
      "text/plain": [
       "HBox(children=(FloatProgress(value=1.0, bar_style='info', max=1.0), HTML(value='')))"
      ]
     },
     "metadata": {},
     "output_type": "display_data"
    },
    {
     "data": {
      "application/vnd.jupyter.widget-view+json": {
       "model_id": "fda4847a97644bbe8f64969ee17c46c1",
       "version_major": 2,
       "version_minor": 0
      },
      "text/plain": [
       "HBox(children=(FloatProgress(value=1.0, bar_style='info', max=1.0), HTML(value='')))"
      ]
     },
     "metadata": {},
     "output_type": "display_data"
    },
    {
     "data": {
      "application/vnd.jupyter.widget-view+json": {
       "model_id": "cd1a3d67156a465da7f62fd93b32507f",
       "version_major": 2,
       "version_minor": 0
      },
      "text/plain": [
       "HBox(children=(FloatProgress(value=1.0, bar_style='info', max=1.0), HTML(value='')))"
      ]
     },
     "metadata": {},
     "output_type": "display_data"
    },
    {
     "data": {
      "application/vnd.jupyter.widget-view+json": {
       "model_id": "f2970026cfb647979c60c95a374a8293",
       "version_major": 2,
       "version_minor": 0
      },
      "text/plain": [
       "HBox(children=(FloatProgress(value=1.0, bar_style='info', max=1.0), HTML(value='')))"
      ]
     },
     "metadata": {},
     "output_type": "display_data"
    },
    {
     "data": {
      "application/vnd.jupyter.widget-view+json": {
       "model_id": "78cd84839671496db587e7ee305aa877",
       "version_major": 2,
       "version_minor": 0
      },
      "text/plain": [
       "HBox(children=(FloatProgress(value=1.0, bar_style='info', max=1.0), HTML(value='')))"
      ]
     },
     "metadata": {},
     "output_type": "display_data"
    },
    {
     "data": {
      "application/vnd.jupyter.widget-view+json": {
       "model_id": "5202a65f7f2e47d1aa10d47b6fd8dc6a",
       "version_major": 2,
       "version_minor": 0
      },
      "text/plain": [
       "HBox(children=(FloatProgress(value=1.0, bar_style='info', max=1.0), HTML(value='')))"
      ]
     },
     "metadata": {},
     "output_type": "display_data"
    },
    {
     "data": {
      "application/vnd.jupyter.widget-view+json": {
       "model_id": "e5d971c77fc143e6a3ccf8f473bc43e2",
       "version_major": 2,
       "version_minor": 0
      },
      "text/plain": [
       "HBox(children=(FloatProgress(value=1.0, bar_style='info', max=1.0), HTML(value='')))"
      ]
     },
     "metadata": {},
     "output_type": "display_data"
    },
    {
     "data": {
      "application/vnd.jupyter.widget-view+json": {
       "model_id": "972660385e4a4c7c976b0201f8e93e2c",
       "version_major": 2,
       "version_minor": 0
      },
      "text/plain": [
       "HBox(children=(FloatProgress(value=1.0, bar_style='info', max=1.0), HTML(value='')))"
      ]
     },
     "metadata": {},
     "output_type": "display_data"
    },
    {
     "data": {
      "application/vnd.jupyter.widget-view+json": {
       "model_id": "f5aa928d0de246e0bc924e96d2fe7e62",
       "version_major": 2,
       "version_minor": 0
      },
      "text/plain": [
       "HBox(children=(FloatProgress(value=1.0, bar_style='info', max=1.0), HTML(value='')))"
      ]
     },
     "metadata": {},
     "output_type": "display_data"
    },
    {
     "data": {
      "application/vnd.jupyter.widget-view+json": {
       "model_id": "ef0ef050b53343f3b2fed250dddf60bc",
       "version_major": 2,
       "version_minor": 0
      },
      "text/plain": [
       "HBox(children=(FloatProgress(value=1.0, bar_style='info', max=1.0), HTML(value='')))"
      ]
     },
     "metadata": {},
     "output_type": "display_data"
    },
    {
     "data": {
      "application/vnd.jupyter.widget-view+json": {
       "model_id": "a15b3411532e427fa6b84814af9b4a1c",
       "version_major": 2,
       "version_minor": 0
      },
      "text/plain": [
       "HBox(children=(FloatProgress(value=1.0, bar_style='info', max=1.0), HTML(value='')))"
      ]
     },
     "metadata": {},
     "output_type": "display_data"
    },
    {
     "data": {
      "application/vnd.jupyter.widget-view+json": {
       "model_id": "9ba1f289311c4504be7b08957a83eaa0",
       "version_major": 2,
       "version_minor": 0
      },
      "text/plain": [
       "HBox(children=(FloatProgress(value=1.0, bar_style='info', max=1.0), HTML(value='')))"
      ]
     },
     "metadata": {},
     "output_type": "display_data"
    },
    {
     "data": {
      "application/vnd.jupyter.widget-view+json": {
       "model_id": "eb9eb3c155f74227b2009e4996f717fa",
       "version_major": 2,
       "version_minor": 0
      },
      "text/plain": [
       "HBox(children=(FloatProgress(value=1.0, bar_style='info', max=1.0), HTML(value='')))"
      ]
     },
     "metadata": {},
     "output_type": "display_data"
    },
    {
     "data": {
      "application/vnd.jupyter.widget-view+json": {
       "model_id": "043d1b7400a94682be065620c85b2543",
       "version_major": 2,
       "version_minor": 0
      },
      "text/plain": [
       "HBox(children=(FloatProgress(value=1.0, bar_style='info', max=1.0), HTML(value='')))"
      ]
     },
     "metadata": {},
     "output_type": "display_data"
    },
    {
     "data": {
      "application/vnd.jupyter.widget-view+json": {
       "model_id": "43818a25fe59465889f59b285c7cd514",
       "version_major": 2,
       "version_minor": 0
      },
      "text/plain": [
       "HBox(children=(FloatProgress(value=1.0, bar_style='info', max=1.0), HTML(value='')))"
      ]
     },
     "metadata": {},
     "output_type": "display_data"
    },
    {
     "data": {
      "application/vnd.jupyter.widget-view+json": {
       "model_id": "9797aa427e7e4b209f2ebc0386b4bc76",
       "version_major": 2,
       "version_minor": 0
      },
      "text/plain": [
       "HBox(children=(FloatProgress(value=1.0, bar_style='info', max=1.0), HTML(value='')))"
      ]
     },
     "metadata": {},
     "output_type": "display_data"
    },
    {
     "data": {
      "application/vnd.jupyter.widget-view+json": {
       "model_id": "e8452ebfa80649caade39975e14b04d8",
       "version_major": 2,
       "version_minor": 0
      },
      "text/plain": [
       "HBox(children=(FloatProgress(value=1.0, bar_style='info', max=1.0), HTML(value='')))"
      ]
     },
     "metadata": {},
     "output_type": "display_data"
    },
    {
     "data": {
      "application/vnd.jupyter.widget-view+json": {
       "model_id": "e1db93e051a049839c0468459c4b5591",
       "version_major": 2,
       "version_minor": 0
      },
      "text/plain": [
       "HBox(children=(FloatProgress(value=1.0, bar_style='info', max=1.0), HTML(value='')))"
      ]
     },
     "metadata": {},
     "output_type": "display_data"
    },
    {
     "data": {
      "application/vnd.jupyter.widget-view+json": {
       "model_id": "0c2f71e32a0f4a27a75d7a35a968d396",
       "version_major": 2,
       "version_minor": 0
      },
      "text/plain": [
       "HBox(children=(FloatProgress(value=1.0, bar_style='info', max=1.0), HTML(value='')))"
      ]
     },
     "metadata": {},
     "output_type": "display_data"
    },
    {
     "data": {
      "application/vnd.jupyter.widget-view+json": {
       "model_id": "ceb37e5bc1cb45089d4e371f8a9c5d2e",
       "version_major": 2,
       "version_minor": 0
      },
      "text/plain": [
       "HBox(children=(FloatProgress(value=1.0, bar_style='info', max=1.0), HTML(value='')))"
      ]
     },
     "metadata": {},
     "output_type": "display_data"
    },
    {
     "data": {
      "application/vnd.jupyter.widget-view+json": {
       "model_id": "e8500dc0fa584918baa3181cb7dc6d40",
       "version_major": 2,
       "version_minor": 0
      },
      "text/plain": [
       "HBox(children=(FloatProgress(value=1.0, bar_style='info', max=1.0), HTML(value='')))"
      ]
     },
     "metadata": {},
     "output_type": "display_data"
    },
    {
     "data": {
      "application/vnd.jupyter.widget-view+json": {
       "model_id": "14982e2c745d4407854110276e70a609",
       "version_major": 2,
       "version_minor": 0
      },
      "text/plain": [
       "HBox(children=(FloatProgress(value=1.0, bar_style='info', max=1.0), HTML(value='')))"
      ]
     },
     "metadata": {},
     "output_type": "display_data"
    },
    {
     "data": {
      "application/vnd.jupyter.widget-view+json": {
       "model_id": "1f4978b246634d468608923d89ac7422",
       "version_major": 2,
       "version_minor": 0
      },
      "text/plain": [
       "HBox(children=(FloatProgress(value=1.0, bar_style='info', max=1.0), HTML(value='')))"
      ]
     },
     "metadata": {},
     "output_type": "display_data"
    },
    {
     "data": {
      "application/vnd.jupyter.widget-view+json": {
       "model_id": "4a9f4e2ccffc49faa517e76c45ba57bb",
       "version_major": 2,
       "version_minor": 0
      },
      "text/plain": [
       "HBox(children=(FloatProgress(value=1.0, bar_style='info', max=1.0), HTML(value='')))"
      ]
     },
     "metadata": {},
     "output_type": "display_data"
    },
    {
     "data": {
      "application/vnd.jupyter.widget-view+json": {
       "model_id": "5054d9b041564586b23056a79e656eee",
       "version_major": 2,
       "version_minor": 0
      },
      "text/plain": [
       "HBox(children=(FloatProgress(value=1.0, bar_style='info', max=1.0), HTML(value='')))"
      ]
     },
     "metadata": {},
     "output_type": "display_data"
    },
    {
     "data": {
      "application/vnd.jupyter.widget-view+json": {
       "model_id": "8794a7cb978042a9b22f8def8767dbd5",
       "version_major": 2,
       "version_minor": 0
      },
      "text/plain": [
       "HBox(children=(FloatProgress(value=1.0, bar_style='info', max=1.0), HTML(value='')))"
      ]
     },
     "metadata": {},
     "output_type": "display_data"
    },
    {
     "data": {
      "application/vnd.jupyter.widget-view+json": {
       "model_id": "13dfdad2c0194218b3817c21d5d5b802",
       "version_major": 2,
       "version_minor": 0
      },
      "text/plain": [
       "HBox(children=(FloatProgress(value=1.0, bar_style='info', max=1.0), HTML(value='')))"
      ]
     },
     "metadata": {},
     "output_type": "display_data"
    },
    {
     "data": {
      "application/vnd.jupyter.widget-view+json": {
       "model_id": "b2147fe7f63c4b9b958fe9d8606f4268",
       "version_major": 2,
       "version_minor": 0
      },
      "text/plain": [
       "HBox(children=(FloatProgress(value=1.0, bar_style='info', max=1.0), HTML(value='')))"
      ]
     },
     "metadata": {},
     "output_type": "display_data"
    },
    {
     "data": {
      "application/vnd.jupyter.widget-view+json": {
       "model_id": "73ede338ef524ec692d01032cdec9568",
       "version_major": 2,
       "version_minor": 0
      },
      "text/plain": [
       "HBox(children=(FloatProgress(value=1.0, bar_style='info', max=1.0), HTML(value='')))"
      ]
     },
     "metadata": {},
     "output_type": "display_data"
    },
    {
     "data": {
      "application/vnd.jupyter.widget-view+json": {
       "model_id": "94bda6243deb47e7883f710dadc00eda",
       "version_major": 2,
       "version_minor": 0
      },
      "text/plain": [
       "HBox(children=(FloatProgress(value=1.0, bar_style='info', max=1.0), HTML(value='')))"
      ]
     },
     "metadata": {},
     "output_type": "display_data"
    },
    {
     "data": {
      "application/vnd.jupyter.widget-view+json": {
       "model_id": "1347feccf0a246a59b5436af7be6263c",
       "version_major": 2,
       "version_minor": 0
      },
      "text/plain": [
       "HBox(children=(FloatProgress(value=1.0, bar_style='info', max=1.0), HTML(value='')))"
      ]
     },
     "metadata": {},
     "output_type": "display_data"
    },
    {
     "data": {
      "application/vnd.jupyter.widget-view+json": {
       "model_id": "ff2352feaeb14e43b0eb3dbb58c5a0cd",
       "version_major": 2,
       "version_minor": 0
      },
      "text/plain": [
       "HBox(children=(FloatProgress(value=1.0, bar_style='info', max=1.0), HTML(value='')))"
      ]
     },
     "metadata": {},
     "output_type": "display_data"
    },
    {
     "data": {
      "application/vnd.jupyter.widget-view+json": {
       "model_id": "370f4745134d47518183e0c2e45940d1",
       "version_major": 2,
       "version_minor": 0
      },
      "text/plain": [
       "HBox(children=(FloatProgress(value=1.0, bar_style='info', max=1.0), HTML(value='')))"
      ]
     },
     "metadata": {},
     "output_type": "display_data"
    },
    {
     "data": {
      "application/vnd.jupyter.widget-view+json": {
       "model_id": "e0ce84c744a9471ea2871aba15a80fda",
       "version_major": 2,
       "version_minor": 0
      },
      "text/plain": [
       "HBox(children=(FloatProgress(value=1.0, bar_style='info', max=1.0), HTML(value='')))"
      ]
     },
     "metadata": {},
     "output_type": "display_data"
    },
    {
     "data": {
      "application/vnd.jupyter.widget-view+json": {
       "model_id": "2cfe1f03b3064ed19d0458020378018e",
       "version_major": 2,
       "version_minor": 0
      },
      "text/plain": [
       "HBox(children=(FloatProgress(value=1.0, bar_style='info', max=1.0), HTML(value='')))"
      ]
     },
     "metadata": {},
     "output_type": "display_data"
    },
    {
     "data": {
      "application/vnd.jupyter.widget-view+json": {
       "model_id": "08e1a1d2cbcf4d5ab409d2948167c8c0",
       "version_major": 2,
       "version_minor": 0
      },
      "text/plain": [
       "HBox(children=(FloatProgress(value=1.0, bar_style='info', max=1.0), HTML(value='')))"
      ]
     },
     "metadata": {},
     "output_type": "display_data"
    },
    {
     "data": {
      "application/vnd.jupyter.widget-view+json": {
       "model_id": "55a984075fe04a3b99cde485685edbd1",
       "version_major": 2,
       "version_minor": 0
      },
      "text/plain": [
       "HBox(children=(FloatProgress(value=1.0, bar_style='info', max=1.0), HTML(value='')))"
      ]
     },
     "metadata": {},
     "output_type": "display_data"
    },
    {
     "data": {
      "application/vnd.jupyter.widget-view+json": {
       "model_id": "db1242c4ea254c98ba3b805e6e48d7d6",
       "version_major": 2,
       "version_minor": 0
      },
      "text/plain": [
       "HBox(children=(FloatProgress(value=1.0, bar_style='info', max=1.0), HTML(value='')))"
      ]
     },
     "metadata": {},
     "output_type": "display_data"
    },
    {
     "data": {
      "application/vnd.jupyter.widget-view+json": {
       "model_id": "3e073025a1bf491cb3490d07f10e10ca",
       "version_major": 2,
       "version_minor": 0
      },
      "text/plain": [
       "HBox(children=(FloatProgress(value=1.0, bar_style='info', max=1.0), HTML(value='')))"
      ]
     },
     "metadata": {},
     "output_type": "display_data"
    },
    {
     "data": {
      "application/vnd.jupyter.widget-view+json": {
       "model_id": "c2f0e4c2309142ddba8038fbe3006db8",
       "version_major": 2,
       "version_minor": 0
      },
      "text/plain": [
       "HBox(children=(FloatProgress(value=1.0, bar_style='info', max=1.0), HTML(value='')))"
      ]
     },
     "metadata": {},
     "output_type": "display_data"
    },
    {
     "data": {
      "application/vnd.jupyter.widget-view+json": {
       "model_id": "442de129dc2e4bce8c9985fb6248207c",
       "version_major": 2,
       "version_minor": 0
      },
      "text/plain": [
       "HBox(children=(FloatProgress(value=1.0, bar_style='info', max=1.0), HTML(value='')))"
      ]
     },
     "metadata": {},
     "output_type": "display_data"
    },
    {
     "data": {
      "application/vnd.jupyter.widget-view+json": {
       "model_id": "1776c41f56194dd9bd4c808adaf48430",
       "version_major": 2,
       "version_minor": 0
      },
      "text/plain": [
       "HBox(children=(FloatProgress(value=1.0, bar_style='info', max=1.0), HTML(value='')))"
      ]
     },
     "metadata": {},
     "output_type": "display_data"
    },
    {
     "data": {
      "application/vnd.jupyter.widget-view+json": {
       "model_id": "887514b65269402ba64d85aec2a62949",
       "version_major": 2,
       "version_minor": 0
      },
      "text/plain": [
       "HBox(children=(FloatProgress(value=1.0, bar_style='info', max=1.0), HTML(value='')))"
      ]
     },
     "metadata": {},
     "output_type": "display_data"
    },
    {
     "data": {
      "application/vnd.jupyter.widget-view+json": {
       "model_id": "d9cad0722fec47cfb0bfd87b5736ee0b",
       "version_major": 2,
       "version_minor": 0
      },
      "text/plain": [
       "HBox(children=(FloatProgress(value=1.0, bar_style='info', max=1.0), HTML(value='')))"
      ]
     },
     "metadata": {},
     "output_type": "display_data"
    },
    {
     "data": {
      "application/vnd.jupyter.widget-view+json": {
       "model_id": "e9250e0b8874403fbe66d0739ea2598f",
       "version_major": 2,
       "version_minor": 0
      },
      "text/plain": [
       "HBox(children=(FloatProgress(value=1.0, bar_style='info', max=1.0), HTML(value='')))"
      ]
     },
     "metadata": {},
     "output_type": "display_data"
    },
    {
     "data": {
      "application/vnd.jupyter.widget-view+json": {
       "model_id": "adb29e5f8dd64e0db35169631ce91f8d",
       "version_major": 2,
       "version_minor": 0
      },
      "text/plain": [
       "HBox(children=(FloatProgress(value=1.0, bar_style='info', max=1.0), HTML(value='')))"
      ]
     },
     "metadata": {},
     "output_type": "display_data"
    },
    {
     "data": {
      "application/vnd.jupyter.widget-view+json": {
       "model_id": "1db32793b48649f298ac346fe2a5298c",
       "version_major": 2,
       "version_minor": 0
      },
      "text/plain": [
       "HBox(children=(FloatProgress(value=1.0, bar_style='info', max=1.0), HTML(value='')))"
      ]
     },
     "metadata": {},
     "output_type": "display_data"
    },
    {
     "data": {
      "application/vnd.jupyter.widget-view+json": {
       "model_id": "6eb75d56b7ec43218d7f79b6ee871e7c",
       "version_major": 2,
       "version_minor": 0
      },
      "text/plain": [
       "HBox(children=(FloatProgress(value=1.0, bar_style='info', max=1.0), HTML(value='')))"
      ]
     },
     "metadata": {},
     "output_type": "display_data"
    },
    {
     "data": {
      "application/vnd.jupyter.widget-view+json": {
       "model_id": "5d01e5689738481692ad1ee3d97e4dac",
       "version_major": 2,
       "version_minor": 0
      },
      "text/plain": [
       "HBox(children=(FloatProgress(value=1.0, bar_style='info', max=1.0), HTML(value='')))"
      ]
     },
     "metadata": {},
     "output_type": "display_data"
    },
    {
     "data": {
      "application/vnd.jupyter.widget-view+json": {
       "model_id": "5425d89f6c7e4580a52e03e7908fba80",
       "version_major": 2,
       "version_minor": 0
      },
      "text/plain": [
       "HBox(children=(FloatProgress(value=1.0, bar_style='info', max=1.0), HTML(value='')))"
      ]
     },
     "metadata": {},
     "output_type": "display_data"
    },
    {
     "data": {
      "application/vnd.jupyter.widget-view+json": {
       "model_id": "71977dc7174646ae9c7848e9d37efd61",
       "version_major": 2,
       "version_minor": 0
      },
      "text/plain": [
       "HBox(children=(FloatProgress(value=1.0, bar_style='info', max=1.0), HTML(value='')))"
      ]
     },
     "metadata": {},
     "output_type": "display_data"
    },
    {
     "data": {
      "application/vnd.jupyter.widget-view+json": {
       "model_id": "2596e2ae468d44bb81dc466b0896e49a",
       "version_major": 2,
       "version_minor": 0
      },
      "text/plain": [
       "HBox(children=(FloatProgress(value=1.0, bar_style='info', max=1.0), HTML(value='')))"
      ]
     },
     "metadata": {},
     "output_type": "display_data"
    },
    {
     "data": {
      "application/vnd.jupyter.widget-view+json": {
       "model_id": "666984a23c8749c1b9c1e5fc9a5f2d66",
       "version_major": 2,
       "version_minor": 0
      },
      "text/plain": [
       "HBox(children=(FloatProgress(value=1.0, bar_style='info', max=1.0), HTML(value='')))"
      ]
     },
     "metadata": {},
     "output_type": "display_data"
    },
    {
     "data": {
      "application/vnd.jupyter.widget-view+json": {
       "model_id": "17fd8387263b44869edcbfa153bed30c",
       "version_major": 2,
       "version_minor": 0
      },
      "text/plain": [
       "HBox(children=(FloatProgress(value=1.0, bar_style='info', max=1.0), HTML(value='')))"
      ]
     },
     "metadata": {},
     "output_type": "display_data"
    },
    {
     "data": {
      "application/vnd.jupyter.widget-view+json": {
       "model_id": "60f59842fa894318887d2e963b1e2792",
       "version_major": 2,
       "version_minor": 0
      },
      "text/plain": [
       "HBox(children=(FloatProgress(value=1.0, bar_style='info', max=1.0), HTML(value='')))"
      ]
     },
     "metadata": {},
     "output_type": "display_data"
    },
    {
     "data": {
      "application/vnd.jupyter.widget-view+json": {
       "model_id": "46bd95119582421884b8b0dce3e23ef6",
       "version_major": 2,
       "version_minor": 0
      },
      "text/plain": [
       "HBox(children=(FloatProgress(value=1.0, bar_style='info', max=1.0), HTML(value='')))"
      ]
     },
     "metadata": {},
     "output_type": "display_data"
    },
    {
     "data": {
      "application/vnd.jupyter.widget-view+json": {
       "model_id": "8e9ee1416ccb4a5c97846d5394a0a20d",
       "version_major": 2,
       "version_minor": 0
      },
      "text/plain": [
       "HBox(children=(FloatProgress(value=1.0, bar_style='info', max=1.0), HTML(value='')))"
      ]
     },
     "metadata": {},
     "output_type": "display_data"
    },
    {
     "data": {
      "application/vnd.jupyter.widget-view+json": {
       "model_id": "7003c9122c3b48cfa08b4c294e8cddb8",
       "version_major": 2,
       "version_minor": 0
      },
      "text/plain": [
       "HBox(children=(FloatProgress(value=1.0, bar_style='info', max=1.0), HTML(value='')))"
      ]
     },
     "metadata": {},
     "output_type": "display_data"
    },
    {
     "data": {
      "application/vnd.jupyter.widget-view+json": {
       "model_id": "c887253870aa4bc9b8bab9de6b51bb39",
       "version_major": 2,
       "version_minor": 0
      },
      "text/plain": [
       "HBox(children=(FloatProgress(value=1.0, bar_style='info', max=1.0), HTML(value='')))"
      ]
     },
     "metadata": {},
     "output_type": "display_data"
    },
    {
     "data": {
      "application/vnd.jupyter.widget-view+json": {
       "model_id": "6458c07b265f45d38a06e24499a61fd4",
       "version_major": 2,
       "version_minor": 0
      },
      "text/plain": [
       "HBox(children=(FloatProgress(value=1.0, bar_style='info', max=1.0), HTML(value='')))"
      ]
     },
     "metadata": {},
     "output_type": "display_data"
    },
    {
     "data": {
      "application/vnd.jupyter.widget-view+json": {
       "model_id": "0801f73b453f4fb5a377fcc3309b1b9a",
       "version_major": 2,
       "version_minor": 0
      },
      "text/plain": [
       "HBox(children=(FloatProgress(value=1.0, bar_style='info', max=1.0), HTML(value='')))"
      ]
     },
     "metadata": {},
     "output_type": "display_data"
    },
    {
     "data": {
      "application/vnd.jupyter.widget-view+json": {
       "model_id": "452d42e6532a43439f8f9731ffed112d",
       "version_major": 2,
       "version_minor": 0
      },
      "text/plain": [
       "HBox(children=(FloatProgress(value=1.0, bar_style='info', max=1.0), HTML(value='')))"
      ]
     },
     "metadata": {},
     "output_type": "display_data"
    },
    {
     "data": {
      "application/vnd.jupyter.widget-view+json": {
       "model_id": "d20ceee4eda54703bdf076dc8944f3b8",
       "version_major": 2,
       "version_minor": 0
      },
      "text/plain": [
       "HBox(children=(FloatProgress(value=1.0, bar_style='info', max=1.0), HTML(value='')))"
      ]
     },
     "metadata": {},
     "output_type": "display_data"
    },
    {
     "data": {
      "application/vnd.jupyter.widget-view+json": {
       "model_id": "e72c5ce27cc54348a729a57a0472d397",
       "version_major": 2,
       "version_minor": 0
      },
      "text/plain": [
       "HBox(children=(FloatProgress(value=1.0, bar_style='info', max=1.0), HTML(value='')))"
      ]
     },
     "metadata": {},
     "output_type": "display_data"
    },
    {
     "data": {
      "application/vnd.jupyter.widget-view+json": {
       "model_id": "c60e49e363574630a7f99125d720d956",
       "version_major": 2,
       "version_minor": 0
      },
      "text/plain": [
       "HBox(children=(FloatProgress(value=1.0, bar_style='info', max=1.0), HTML(value='')))"
      ]
     },
     "metadata": {},
     "output_type": "display_data"
    },
    {
     "data": {
      "application/vnd.jupyter.widget-view+json": {
       "model_id": "f87e3edf57b64ee6ac04f259b3d31f0e",
       "version_major": 2,
       "version_minor": 0
      },
      "text/plain": [
       "HBox(children=(FloatProgress(value=1.0, bar_style='info', max=1.0), HTML(value='')))"
      ]
     },
     "metadata": {},
     "output_type": "display_data"
    },
    {
     "data": {
      "application/vnd.jupyter.widget-view+json": {
       "model_id": "dbeba15ac8a54e5cb12a0dd6ef908c1d",
       "version_major": 2,
       "version_minor": 0
      },
      "text/plain": [
       "HBox(children=(FloatProgress(value=1.0, bar_style='info', max=1.0), HTML(value='')))"
      ]
     },
     "metadata": {},
     "output_type": "display_data"
    },
    {
     "data": {
      "application/vnd.jupyter.widget-view+json": {
       "model_id": "cded5c8c7f8844aca4c578243a1e022a",
       "version_major": 2,
       "version_minor": 0
      },
      "text/plain": [
       "HBox(children=(FloatProgress(value=1.0, bar_style='info', max=1.0), HTML(value='')))"
      ]
     },
     "metadata": {},
     "output_type": "display_data"
    },
    {
     "data": {
      "application/vnd.jupyter.widget-view+json": {
       "model_id": "0698be8de35e44b490963e37c6bae423",
       "version_major": 2,
       "version_minor": 0
      },
      "text/plain": [
       "HBox(children=(FloatProgress(value=1.0, bar_style='info', max=1.0), HTML(value='')))"
      ]
     },
     "metadata": {},
     "output_type": "display_data"
    },
    {
     "data": {
      "application/vnd.jupyter.widget-view+json": {
       "model_id": "d78d9b0ad2244317b0e27910bd6f8d66",
       "version_major": 2,
       "version_minor": 0
      },
      "text/plain": [
       "HBox(children=(FloatProgress(value=1.0, bar_style='info', max=1.0), HTML(value='')))"
      ]
     },
     "metadata": {},
     "output_type": "display_data"
    },
    {
     "data": {
      "application/vnd.jupyter.widget-view+json": {
       "model_id": "5183db8f24314373ad1c842f6e5cebe1",
       "version_major": 2,
       "version_minor": 0
      },
      "text/plain": [
       "HBox(children=(FloatProgress(value=1.0, bar_style='info', max=1.0), HTML(value='')))"
      ]
     },
     "metadata": {},
     "output_type": "display_data"
    },
    {
     "data": {
      "application/vnd.jupyter.widget-view+json": {
       "model_id": "835c6ae69a37459aafe7569fcfac43b5",
       "version_major": 2,
       "version_minor": 0
      },
      "text/plain": [
       "HBox(children=(FloatProgress(value=1.0, bar_style='info', max=1.0), HTML(value='')))"
      ]
     },
     "metadata": {},
     "output_type": "display_data"
    },
    {
     "data": {
      "application/vnd.jupyter.widget-view+json": {
       "model_id": "a8df22ddb704444797bae82b3bc53424",
       "version_major": 2,
       "version_minor": 0
      },
      "text/plain": [
       "HBox(children=(FloatProgress(value=1.0, bar_style='info', max=1.0), HTML(value='')))"
      ]
     },
     "metadata": {},
     "output_type": "display_data"
    },
    {
     "data": {
      "application/vnd.jupyter.widget-view+json": {
       "model_id": "ad9744edbb874136a9f82782a570bede",
       "version_major": 2,
       "version_minor": 0
      },
      "text/plain": [
       "HBox(children=(FloatProgress(value=1.0, bar_style='info', max=1.0), HTML(value='')))"
      ]
     },
     "metadata": {},
     "output_type": "display_data"
    },
    {
     "data": {
      "application/vnd.jupyter.widget-view+json": {
       "model_id": "f6658ca3c36e4cc1a166a273aebd3c23",
       "version_major": 2,
       "version_minor": 0
      },
      "text/plain": [
       "HBox(children=(FloatProgress(value=1.0, bar_style='info', max=1.0), HTML(value='')))"
      ]
     },
     "metadata": {},
     "output_type": "display_data"
    },
    {
     "data": {
      "application/vnd.jupyter.widget-view+json": {
       "model_id": "23de9087e3da45a0b53f623d0d0299a2",
       "version_major": 2,
       "version_minor": 0
      },
      "text/plain": [
       "HBox(children=(FloatProgress(value=1.0, bar_style='info', max=1.0), HTML(value='')))"
      ]
     },
     "metadata": {},
     "output_type": "display_data"
    },
    {
     "data": {
      "application/vnd.jupyter.widget-view+json": {
       "model_id": "549881c14c1c4c6886832e64bdd35609",
       "version_major": 2,
       "version_minor": 0
      },
      "text/plain": [
       "HBox(children=(FloatProgress(value=1.0, bar_style='info', max=1.0), HTML(value='')))"
      ]
     },
     "metadata": {},
     "output_type": "display_data"
    },
    {
     "data": {
      "application/vnd.jupyter.widget-view+json": {
       "model_id": "5d16307d40e34866aa981878c1e7f515",
       "version_major": 2,
       "version_minor": 0
      },
      "text/plain": [
       "HBox(children=(FloatProgress(value=1.0, bar_style='info', max=1.0), HTML(value='')))"
      ]
     },
     "metadata": {},
     "output_type": "display_data"
    },
    {
     "data": {
      "application/vnd.jupyter.widget-view+json": {
       "model_id": "3e6bf1c3a99d46dba2604c67c811044f",
       "version_major": 2,
       "version_minor": 0
      },
      "text/plain": [
       "HBox(children=(FloatProgress(value=1.0, bar_style='info', max=1.0), HTML(value='')))"
      ]
     },
     "metadata": {},
     "output_type": "display_data"
    },
    {
     "data": {
      "application/vnd.jupyter.widget-view+json": {
       "model_id": "ed4a82c904b94e7cb02f9842d62335ed",
       "version_major": 2,
       "version_minor": 0
      },
      "text/plain": [
       "HBox(children=(FloatProgress(value=1.0, bar_style='info', max=1.0), HTML(value='')))"
      ]
     },
     "metadata": {},
     "output_type": "display_data"
    },
    {
     "data": {
      "application/vnd.jupyter.widget-view+json": {
       "model_id": "1c54a832426d45c29e108c0d7a77cd8d",
       "version_major": 2,
       "version_minor": 0
      },
      "text/plain": [
       "HBox(children=(FloatProgress(value=1.0, bar_style='info', max=1.0), HTML(value='')))"
      ]
     },
     "metadata": {},
     "output_type": "display_data"
    },
    {
     "data": {
      "application/vnd.jupyter.widget-view+json": {
       "model_id": "b18b1f09bade4536ab74c724dc6d4224",
       "version_major": 2,
       "version_minor": 0
      },
      "text/plain": [
       "HBox(children=(FloatProgress(value=1.0, bar_style='info', max=1.0), HTML(value='')))"
      ]
     },
     "metadata": {},
     "output_type": "display_data"
    },
    {
     "data": {
      "application/vnd.jupyter.widget-view+json": {
       "model_id": "9c13b780a9ab44b493dd4082028b4afe",
       "version_major": 2,
       "version_minor": 0
      },
      "text/plain": [
       "HBox(children=(FloatProgress(value=1.0, bar_style='info', max=1.0), HTML(value='')))"
      ]
     },
     "metadata": {},
     "output_type": "display_data"
    },
    {
     "data": {
      "application/vnd.jupyter.widget-view+json": {
       "model_id": "9718856db50a4abb8f99e988a037e5c5",
       "version_major": 2,
       "version_minor": 0
      },
      "text/plain": [
       "HBox(children=(FloatProgress(value=1.0, bar_style='info', max=1.0), HTML(value='')))"
      ]
     },
     "metadata": {},
     "output_type": "display_data"
    },
    {
     "data": {
      "application/vnd.jupyter.widget-view+json": {
       "model_id": "a20398b89c7e4cddbe65f9a241a64877",
       "version_major": 2,
       "version_minor": 0
      },
      "text/plain": [
       "HBox(children=(FloatProgress(value=1.0, bar_style='info', max=1.0), HTML(value='')))"
      ]
     },
     "metadata": {},
     "output_type": "display_data"
    },
    {
     "data": {
      "application/vnd.jupyter.widget-view+json": {
       "model_id": "c52016f266234facbeebcbbfc6eb8358",
       "version_major": 2,
       "version_minor": 0
      },
      "text/plain": [
       "HBox(children=(FloatProgress(value=1.0, bar_style='info', max=1.0), HTML(value='')))"
      ]
     },
     "metadata": {},
     "output_type": "display_data"
    },
    {
     "data": {
      "application/vnd.jupyter.widget-view+json": {
       "model_id": "3bfaeb0ef133468c829e9f1f9e37428b",
       "version_major": 2,
       "version_minor": 0
      },
      "text/plain": [
       "HBox(children=(FloatProgress(value=1.0, bar_style='info', max=1.0), HTML(value='')))"
      ]
     },
     "metadata": {},
     "output_type": "display_data"
    },
    {
     "data": {
      "application/vnd.jupyter.widget-view+json": {
       "model_id": "5abaf989753d43a1a29e4ed64171ce8a",
       "version_major": 2,
       "version_minor": 0
      },
      "text/plain": [
       "HBox(children=(FloatProgress(value=1.0, bar_style='info', max=1.0), HTML(value='')))"
      ]
     },
     "metadata": {},
     "output_type": "display_data"
    },
    {
     "data": {
      "application/vnd.jupyter.widget-view+json": {
       "model_id": "00bebe9558d34fe88443c011503eacb0",
       "version_major": 2,
       "version_minor": 0
      },
      "text/plain": [
       "HBox(children=(FloatProgress(value=1.0, bar_style='info', max=1.0), HTML(value='')))"
      ]
     },
     "metadata": {},
     "output_type": "display_data"
    },
    {
     "data": {
      "application/vnd.jupyter.widget-view+json": {
       "model_id": "3e2640efe7704b75aee69c61711c3a7b",
       "version_major": 2,
       "version_minor": 0
      },
      "text/plain": [
       "HBox(children=(FloatProgress(value=1.0, bar_style='info', max=1.0), HTML(value='')))"
      ]
     },
     "metadata": {},
     "output_type": "display_data"
    },
    {
     "data": {
      "application/vnd.jupyter.widget-view+json": {
       "model_id": "5afbc4a5dde946518b4e619114ccf74e",
       "version_major": 2,
       "version_minor": 0
      },
      "text/plain": [
       "HBox(children=(FloatProgress(value=1.0, bar_style='info', max=1.0), HTML(value='')))"
      ]
     },
     "metadata": {},
     "output_type": "display_data"
    },
    {
     "data": {
      "application/vnd.jupyter.widget-view+json": {
       "model_id": "1e3f483232254ec3aa7f93734362dafa",
       "version_major": 2,
       "version_minor": 0
      },
      "text/plain": [
       "HBox(children=(FloatProgress(value=1.0, bar_style='info', max=1.0), HTML(value='')))"
      ]
     },
     "metadata": {},
     "output_type": "display_data"
    },
    {
     "data": {
      "application/vnd.jupyter.widget-view+json": {
       "model_id": "6f489b9519fe4f3ebed1266a592bb165",
       "version_major": 2,
       "version_minor": 0
      },
      "text/plain": [
       "HBox(children=(FloatProgress(value=1.0, bar_style='info', max=1.0), HTML(value='')))"
      ]
     },
     "metadata": {},
     "output_type": "display_data"
    },
    {
     "data": {
      "application/vnd.jupyter.widget-view+json": {
       "model_id": "13c89b63223c466386b768bb5be76383",
       "version_major": 2,
       "version_minor": 0
      },
      "text/plain": [
       "HBox(children=(FloatProgress(value=1.0, bar_style='info', max=1.0), HTML(value='')))"
      ]
     },
     "metadata": {},
     "output_type": "display_data"
    },
    {
     "data": {
      "application/vnd.jupyter.widget-view+json": {
       "model_id": "4aeeef7f1afb41849c10ea72d682bcdb",
       "version_major": 2,
       "version_minor": 0
      },
      "text/plain": [
       "HBox(children=(FloatProgress(value=1.0, bar_style='info', max=1.0), HTML(value='')))"
      ]
     },
     "metadata": {},
     "output_type": "display_data"
    },
    {
     "data": {
      "application/vnd.jupyter.widget-view+json": {
       "model_id": "3f1324d37e9941e6babfc1972a9d642f",
       "version_major": 2,
       "version_minor": 0
      },
      "text/plain": [
       "HBox(children=(FloatProgress(value=1.0, bar_style='info', max=1.0), HTML(value='')))"
      ]
     },
     "metadata": {},
     "output_type": "display_data"
    },
    {
     "data": {
      "application/vnd.jupyter.widget-view+json": {
       "model_id": "49e14dc241674d25bf89295fc62ef1f0",
       "version_major": 2,
       "version_minor": 0
      },
      "text/plain": [
       "HBox(children=(FloatProgress(value=1.0, bar_style='info', max=1.0), HTML(value='')))"
      ]
     },
     "metadata": {},
     "output_type": "display_data"
    },
    {
     "data": {
      "application/vnd.jupyter.widget-view+json": {
       "model_id": "5aa89206aeee40508d45cea9f5707b66",
       "version_major": 2,
       "version_minor": 0
      },
      "text/plain": [
       "HBox(children=(FloatProgress(value=1.0, bar_style='info', max=1.0), HTML(value='')))"
      ]
     },
     "metadata": {},
     "output_type": "display_data"
    },
    {
     "data": {
      "application/vnd.jupyter.widget-view+json": {
       "model_id": "a4c510f85fbe40ff929c58d2e5a5ec41",
       "version_major": 2,
       "version_minor": 0
      },
      "text/plain": [
       "HBox(children=(FloatProgress(value=1.0, bar_style='info', max=1.0), HTML(value='')))"
      ]
     },
     "metadata": {},
     "output_type": "display_data"
    },
    {
     "data": {
      "application/vnd.jupyter.widget-view+json": {
       "model_id": "d6aa9c54ba414dee89f0b968cde9a7ac",
       "version_major": 2,
       "version_minor": 0
      },
      "text/plain": [
       "HBox(children=(FloatProgress(value=1.0, bar_style='info', max=1.0), HTML(value='')))"
      ]
     },
     "metadata": {},
     "output_type": "display_data"
    },
    {
     "data": {
      "application/vnd.jupyter.widget-view+json": {
       "model_id": "272b401e18094ff383cb270dc3177802",
       "version_major": 2,
       "version_minor": 0
      },
      "text/plain": [
       "HBox(children=(FloatProgress(value=1.0, bar_style='info', max=1.0), HTML(value='')))"
      ]
     },
     "metadata": {},
     "output_type": "display_data"
    },
    {
     "data": {
      "application/vnd.jupyter.widget-view+json": {
       "model_id": "75032874e60a4237ab78448155e2d835",
       "version_major": 2,
       "version_minor": 0
      },
      "text/plain": [
       "HBox(children=(FloatProgress(value=1.0, bar_style='info', max=1.0), HTML(value='')))"
      ]
     },
     "metadata": {},
     "output_type": "display_data"
    },
    {
     "data": {
      "application/vnd.jupyter.widget-view+json": {
       "model_id": "5e825ad284b4413e8448830c1a14eda0",
       "version_major": 2,
       "version_minor": 0
      },
      "text/plain": [
       "HBox(children=(FloatProgress(value=1.0, bar_style='info', max=1.0), HTML(value='')))"
      ]
     },
     "metadata": {},
     "output_type": "display_data"
    },
    {
     "data": {
      "application/vnd.jupyter.widget-view+json": {
       "model_id": "93df2daba85e4a47ab4d16093ffd316f",
       "version_major": 2,
       "version_minor": 0
      },
      "text/plain": [
       "HBox(children=(FloatProgress(value=1.0, bar_style='info', max=1.0), HTML(value='')))"
      ]
     },
     "metadata": {},
     "output_type": "display_data"
    },
    {
     "data": {
      "application/vnd.jupyter.widget-view+json": {
       "model_id": "95a06f48810346d4814815be67eb40be",
       "version_major": 2,
       "version_minor": 0
      },
      "text/plain": [
       "HBox(children=(FloatProgress(value=1.0, bar_style='info', max=1.0), HTML(value='')))"
      ]
     },
     "metadata": {},
     "output_type": "display_data"
    },
    {
     "data": {
      "application/vnd.jupyter.widget-view+json": {
       "model_id": "e957796980ca4d5c8f349d6e7aca8883",
       "version_major": 2,
       "version_minor": 0
      },
      "text/plain": [
       "HBox(children=(FloatProgress(value=1.0, bar_style='info', max=1.0), HTML(value='')))"
      ]
     },
     "metadata": {},
     "output_type": "display_data"
    },
    {
     "data": {
      "application/vnd.jupyter.widget-view+json": {
       "model_id": "e2ee221b377c45b2829b10d976203c2c",
       "version_major": 2,
       "version_minor": 0
      },
      "text/plain": [
       "HBox(children=(FloatProgress(value=1.0, bar_style='info', max=1.0), HTML(value='')))"
      ]
     },
     "metadata": {},
     "output_type": "display_data"
    },
    {
     "data": {
      "application/vnd.jupyter.widget-view+json": {
       "model_id": "495c629aa6344bc9851df22bb3fa7841",
       "version_major": 2,
       "version_minor": 0
      },
      "text/plain": [
       "HBox(children=(FloatProgress(value=1.0, bar_style='info', max=1.0), HTML(value='')))"
      ]
     },
     "metadata": {},
     "output_type": "display_data"
    },
    {
     "data": {
      "application/vnd.jupyter.widget-view+json": {
       "model_id": "f47a99681e7843e1bfb1d91bce3cf39e",
       "version_major": 2,
       "version_minor": 0
      },
      "text/plain": [
       "HBox(children=(FloatProgress(value=1.0, bar_style='info', max=1.0), HTML(value='')))"
      ]
     },
     "metadata": {},
     "output_type": "display_data"
    },
    {
     "data": {
      "application/vnd.jupyter.widget-view+json": {
       "model_id": "2f2d9a124a9947b397ea8ce56ac1f809",
       "version_major": 2,
       "version_minor": 0
      },
      "text/plain": [
       "HBox(children=(FloatProgress(value=1.0, bar_style='info', max=1.0), HTML(value='')))"
      ]
     },
     "metadata": {},
     "output_type": "display_data"
    },
    {
     "data": {
      "application/vnd.jupyter.widget-view+json": {
       "model_id": "8cac256c52cf4629ac2ad3269c0e18ee",
       "version_major": 2,
       "version_minor": 0
      },
      "text/plain": [
       "HBox(children=(FloatProgress(value=1.0, bar_style='info', max=1.0), HTML(value='')))"
      ]
     },
     "metadata": {},
     "output_type": "display_data"
    },
    {
     "data": {
      "application/vnd.jupyter.widget-view+json": {
       "model_id": "1515ef5b197045e2bbb6b7438a004251",
       "version_major": 2,
       "version_minor": 0
      },
      "text/plain": [
       "HBox(children=(FloatProgress(value=1.0, bar_style='info', max=1.0), HTML(value='')))"
      ]
     },
     "metadata": {},
     "output_type": "display_data"
    },
    {
     "data": {
      "application/vnd.jupyter.widget-view+json": {
       "model_id": "128ead0c332b41aea19d088e287fba2b",
       "version_major": 2,
       "version_minor": 0
      },
      "text/plain": [
       "HBox(children=(FloatProgress(value=1.0, bar_style='info', max=1.0), HTML(value='')))"
      ]
     },
     "metadata": {},
     "output_type": "display_data"
    },
    {
     "data": {
      "application/vnd.jupyter.widget-view+json": {
       "model_id": "a2af9b1ccbbf4fd4b16f36be570228f6",
       "version_major": 2,
       "version_minor": 0
      },
      "text/plain": [
       "HBox(children=(FloatProgress(value=1.0, bar_style='info', max=1.0), HTML(value='')))"
      ]
     },
     "metadata": {},
     "output_type": "display_data"
    },
    {
     "data": {
      "application/vnd.jupyter.widget-view+json": {
       "model_id": "21a0e162734a4426916d20ceba6c4b20",
       "version_major": 2,
       "version_minor": 0
      },
      "text/plain": [
       "HBox(children=(FloatProgress(value=1.0, bar_style='info', max=1.0), HTML(value='')))"
      ]
     },
     "metadata": {},
     "output_type": "display_data"
    },
    {
     "data": {
      "application/vnd.jupyter.widget-view+json": {
       "model_id": "ab85ddda667344749a49fbcedaa9daf3",
       "version_major": 2,
       "version_minor": 0
      },
      "text/plain": [
       "HBox(children=(FloatProgress(value=1.0, bar_style='info', max=1.0), HTML(value='')))"
      ]
     },
     "metadata": {},
     "output_type": "display_data"
    },
    {
     "data": {
      "application/vnd.jupyter.widget-view+json": {
       "model_id": "cf10eda437924a39bc33b440a457a4a5",
       "version_major": 2,
       "version_minor": 0
      },
      "text/plain": [
       "HBox(children=(FloatProgress(value=1.0, bar_style='info', max=1.0), HTML(value='')))"
      ]
     },
     "metadata": {},
     "output_type": "display_data"
    },
    {
     "data": {
      "application/vnd.jupyter.widget-view+json": {
       "model_id": "680d189f638d43118a73607c42f795ae",
       "version_major": 2,
       "version_minor": 0
      },
      "text/plain": [
       "HBox(children=(FloatProgress(value=1.0, bar_style='info', max=1.0), HTML(value='')))"
      ]
     },
     "metadata": {},
     "output_type": "display_data"
    },
    {
     "data": {
      "application/vnd.jupyter.widget-view+json": {
       "model_id": "eada90b9441e44dcb5f6f6d7c71c1c25",
       "version_major": 2,
       "version_minor": 0
      },
      "text/plain": [
       "HBox(children=(FloatProgress(value=1.0, bar_style='info', max=1.0), HTML(value='')))"
      ]
     },
     "metadata": {},
     "output_type": "display_data"
    },
    {
     "data": {
      "application/vnd.jupyter.widget-view+json": {
       "model_id": "0040dd56548f43ed926096db660acefb",
       "version_major": 2,
       "version_minor": 0
      },
      "text/plain": [
       "HBox(children=(FloatProgress(value=1.0, bar_style='info', max=1.0), HTML(value='')))"
      ]
     },
     "metadata": {},
     "output_type": "display_data"
    },
    {
     "data": {
      "application/vnd.jupyter.widget-view+json": {
       "model_id": "e8a3d78dfcb24cc2964596215b003cc4",
       "version_major": 2,
       "version_minor": 0
      },
      "text/plain": [
       "HBox(children=(FloatProgress(value=1.0, bar_style='info', max=1.0), HTML(value='')))"
      ]
     },
     "metadata": {},
     "output_type": "display_data"
    },
    {
     "data": {
      "application/vnd.jupyter.widget-view+json": {
       "model_id": "9d6b8ba5f65d4b4d8cfbb228c5b353ff",
       "version_major": 2,
       "version_minor": 0
      },
      "text/plain": [
       "HBox(children=(FloatProgress(value=1.0, bar_style='info', max=1.0), HTML(value='')))"
      ]
     },
     "metadata": {},
     "output_type": "display_data"
    },
    {
     "data": {
      "application/vnd.jupyter.widget-view+json": {
       "model_id": "901476ecc54048d28f608a125b1b9849",
       "version_major": 2,
       "version_minor": 0
      },
      "text/plain": [
       "HBox(children=(FloatProgress(value=1.0, bar_style='info', max=1.0), HTML(value='')))"
      ]
     },
     "metadata": {},
     "output_type": "display_data"
    },
    {
     "data": {
      "application/vnd.jupyter.widget-view+json": {
       "model_id": "a723805c6c8247cf84e93bf266b96864",
       "version_major": 2,
       "version_minor": 0
      },
      "text/plain": [
       "HBox(children=(FloatProgress(value=1.0, bar_style='info', max=1.0), HTML(value='')))"
      ]
     },
     "metadata": {},
     "output_type": "display_data"
    },
    {
     "data": {
      "application/vnd.jupyter.widget-view+json": {
       "model_id": "4d6b9dd2a78648f096a12dbc51e0034d",
       "version_major": 2,
       "version_minor": 0
      },
      "text/plain": [
       "HBox(children=(FloatProgress(value=1.0, bar_style='info', max=1.0), HTML(value='')))"
      ]
     },
     "metadata": {},
     "output_type": "display_data"
    },
    {
     "data": {
      "application/vnd.jupyter.widget-view+json": {
       "model_id": "8f07979dfc584ca3b91f38758ab5855d",
       "version_major": 2,
       "version_minor": 0
      },
      "text/plain": [
       "HBox(children=(FloatProgress(value=1.0, bar_style='info', max=1.0), HTML(value='')))"
      ]
     },
     "metadata": {},
     "output_type": "display_data"
    },
    {
     "data": {
      "application/vnd.jupyter.widget-view+json": {
       "model_id": "1e9881c886ce46ef83fc2147df24ba66",
       "version_major": 2,
       "version_minor": 0
      },
      "text/plain": [
       "HBox(children=(FloatProgress(value=1.0, bar_style='info', max=1.0), HTML(value='')))"
      ]
     },
     "metadata": {},
     "output_type": "display_data"
    },
    {
     "data": {
      "application/vnd.jupyter.widget-view+json": {
       "model_id": "022ee11faedf453c9dfdad996b1023f3",
       "version_major": 2,
       "version_minor": 0
      },
      "text/plain": [
       "HBox(children=(FloatProgress(value=1.0, bar_style='info', max=1.0), HTML(value='')))"
      ]
     },
     "metadata": {},
     "output_type": "display_data"
    },
    {
     "data": {
      "application/vnd.jupyter.widget-view+json": {
       "model_id": "9036b6d97f1540179474aaec16c0e4d1",
       "version_major": 2,
       "version_minor": 0
      },
      "text/plain": [
       "HBox(children=(FloatProgress(value=1.0, bar_style='info', max=1.0), HTML(value='')))"
      ]
     },
     "metadata": {},
     "output_type": "display_data"
    },
    {
     "data": {
      "application/vnd.jupyter.widget-view+json": {
       "model_id": "4d3cc27900404c45a27d5b45916c8d72",
       "version_major": 2,
       "version_minor": 0
      },
      "text/plain": [
       "HBox(children=(FloatProgress(value=1.0, bar_style='info', max=1.0), HTML(value='')))"
      ]
     },
     "metadata": {},
     "output_type": "display_data"
    },
    {
     "data": {
      "application/vnd.jupyter.widget-view+json": {
       "model_id": "d9179f7de7d145acbf9cdbdeb248a5a5",
       "version_major": 2,
       "version_minor": 0
      },
      "text/plain": [
       "HBox(children=(FloatProgress(value=1.0, bar_style='info', max=1.0), HTML(value='')))"
      ]
     },
     "metadata": {},
     "output_type": "display_data"
    },
    {
     "data": {
      "application/vnd.jupyter.widget-view+json": {
       "model_id": "321b11cc8bdc4069996ea52a77cff5c1",
       "version_major": 2,
       "version_minor": 0
      },
      "text/plain": [
       "HBox(children=(FloatProgress(value=1.0, bar_style='info', max=1.0), HTML(value='')))"
      ]
     },
     "metadata": {},
     "output_type": "display_data"
    },
    {
     "data": {
      "application/vnd.jupyter.widget-view+json": {
       "model_id": "f47c553d852e49aabc89088e97dfd156",
       "version_major": 2,
       "version_minor": 0
      },
      "text/plain": [
       "HBox(children=(FloatProgress(value=1.0, bar_style='info', max=1.0), HTML(value='')))"
      ]
     },
     "metadata": {},
     "output_type": "display_data"
    },
    {
     "data": {
      "application/vnd.jupyter.widget-view+json": {
       "model_id": "6d53f1d5c538481e8b5f6b4c7681f541",
       "version_major": 2,
       "version_minor": 0
      },
      "text/plain": [
       "HBox(children=(FloatProgress(value=1.0, bar_style='info', max=1.0), HTML(value='')))"
      ]
     },
     "metadata": {},
     "output_type": "display_data"
    },
    {
     "data": {
      "application/vnd.jupyter.widget-view+json": {
       "model_id": "a286915c9e8140e0af43c47200f80dc0",
       "version_major": 2,
       "version_minor": 0
      },
      "text/plain": [
       "HBox(children=(FloatProgress(value=1.0, bar_style='info', max=1.0), HTML(value='')))"
      ]
     },
     "metadata": {},
     "output_type": "display_data"
    },
    {
     "data": {
      "application/vnd.jupyter.widget-view+json": {
       "model_id": "ed6be82e2f4d4e12916ff5cda20106e9",
       "version_major": 2,
       "version_minor": 0
      },
      "text/plain": [
       "HBox(children=(FloatProgress(value=1.0, bar_style='info', max=1.0), HTML(value='')))"
      ]
     },
     "metadata": {},
     "output_type": "display_data"
    },
    {
     "data": {
      "application/vnd.jupyter.widget-view+json": {
       "model_id": "6d41ecfc59304021aadc80e1490ad544",
       "version_major": 2,
       "version_minor": 0
      },
      "text/plain": [
       "HBox(children=(FloatProgress(value=1.0, bar_style='info', max=1.0), HTML(value='')))"
      ]
     },
     "metadata": {},
     "output_type": "display_data"
    },
    {
     "data": {
      "application/vnd.jupyter.widget-view+json": {
       "model_id": "c4131fabe5974e1abc2225e66d5dab6a",
       "version_major": 2,
       "version_minor": 0
      },
      "text/plain": [
       "HBox(children=(FloatProgress(value=1.0, bar_style='info', max=1.0), HTML(value='')))"
      ]
     },
     "metadata": {},
     "output_type": "display_data"
    },
    {
     "data": {
      "application/vnd.jupyter.widget-view+json": {
       "model_id": "bff4e46dfc834e0785c1cbd34387c1c5",
       "version_major": 2,
       "version_minor": 0
      },
      "text/plain": [
       "HBox(children=(FloatProgress(value=1.0, bar_style='info', max=1.0), HTML(value='')))"
      ]
     },
     "metadata": {},
     "output_type": "display_data"
    },
    {
     "data": {
      "application/vnd.jupyter.widget-view+json": {
       "model_id": "e9324c18ca2c48a3bcc8baef30cfe1c7",
       "version_major": 2,
       "version_minor": 0
      },
      "text/plain": [
       "HBox(children=(FloatProgress(value=1.0, bar_style='info', max=1.0), HTML(value='')))"
      ]
     },
     "metadata": {},
     "output_type": "display_data"
    },
    {
     "data": {
      "application/vnd.jupyter.widget-view+json": {
       "model_id": "17f5e4b04de44740a64ccc278e64548c",
       "version_major": 2,
       "version_minor": 0
      },
      "text/plain": [
       "HBox(children=(FloatProgress(value=1.0, bar_style='info', max=1.0), HTML(value='')))"
      ]
     },
     "metadata": {},
     "output_type": "display_data"
    },
    {
     "data": {
      "application/vnd.jupyter.widget-view+json": {
       "model_id": "6f5cea973ea242a994d69bd91b9a3b1a",
       "version_major": 2,
       "version_minor": 0
      },
      "text/plain": [
       "HBox(children=(FloatProgress(value=1.0, bar_style='info', max=1.0), HTML(value='')))"
      ]
     },
     "metadata": {},
     "output_type": "display_data"
    },
    {
     "data": {
      "application/vnd.jupyter.widget-view+json": {
       "model_id": "6b20e3bcd8a741eeaddea62b7f6a87e1",
       "version_major": 2,
       "version_minor": 0
      },
      "text/plain": [
       "HBox(children=(FloatProgress(value=1.0, bar_style='info', max=1.0), HTML(value='')))"
      ]
     },
     "metadata": {},
     "output_type": "display_data"
    },
    {
     "data": {
      "application/vnd.jupyter.widget-view+json": {
       "model_id": "439dd53ec6724f97867a28ad4920018a",
       "version_major": 2,
       "version_minor": 0
      },
      "text/plain": [
       "HBox(children=(FloatProgress(value=1.0, bar_style='info', max=1.0), HTML(value='')))"
      ]
     },
     "metadata": {},
     "output_type": "display_data"
    },
    {
     "data": {
      "application/vnd.jupyter.widget-view+json": {
       "model_id": "08bc2dbec3cb464f951fa8ce71924bcb",
       "version_major": 2,
       "version_minor": 0
      },
      "text/plain": [
       "HBox(children=(FloatProgress(value=1.0, bar_style='info', max=1.0), HTML(value='')))"
      ]
     },
     "metadata": {},
     "output_type": "display_data"
    },
    {
     "data": {
      "application/vnd.jupyter.widget-view+json": {
       "model_id": "53ae753090c048dfa626ab4a68a13575",
       "version_major": 2,
       "version_minor": 0
      },
      "text/plain": [
       "HBox(children=(FloatProgress(value=1.0, bar_style='info', max=1.0), HTML(value='')))"
      ]
     },
     "metadata": {},
     "output_type": "display_data"
    },
    {
     "data": {
      "application/vnd.jupyter.widget-view+json": {
       "model_id": "12d6c67300ce49b7977d6df828e07067",
       "version_major": 2,
       "version_minor": 0
      },
      "text/plain": [
       "HBox(children=(FloatProgress(value=1.0, bar_style='info', max=1.0), HTML(value='')))"
      ]
     },
     "metadata": {},
     "output_type": "display_data"
    },
    {
     "data": {
      "application/vnd.jupyter.widget-view+json": {
       "model_id": "fe9d6ec6d0404d8f86f809544caaf5bc",
       "version_major": 2,
       "version_minor": 0
      },
      "text/plain": [
       "HBox(children=(FloatProgress(value=1.0, bar_style='info', max=1.0), HTML(value='')))"
      ]
     },
     "metadata": {},
     "output_type": "display_data"
    },
    {
     "data": {
      "application/vnd.jupyter.widget-view+json": {
       "model_id": "fb52c0dede78489ebee6b3f8c4186e11",
       "version_major": 2,
       "version_minor": 0
      },
      "text/plain": [
       "HBox(children=(FloatProgress(value=1.0, bar_style='info', max=1.0), HTML(value='')))"
      ]
     },
     "metadata": {},
     "output_type": "display_data"
    },
    {
     "data": {
      "application/vnd.jupyter.widget-view+json": {
       "model_id": "b1468408da51481e948026d798b95f9d",
       "version_major": 2,
       "version_minor": 0
      },
      "text/plain": [
       "HBox(children=(FloatProgress(value=1.0, bar_style='info', max=1.0), HTML(value='')))"
      ]
     },
     "metadata": {},
     "output_type": "display_data"
    },
    {
     "data": {
      "application/vnd.jupyter.widget-view+json": {
       "model_id": "34d4eef60e424b7ea24096daee0b91f6",
       "version_major": 2,
       "version_minor": 0
      },
      "text/plain": [
       "HBox(children=(FloatProgress(value=1.0, bar_style='info', max=1.0), HTML(value='')))"
      ]
     },
     "metadata": {},
     "output_type": "display_data"
    },
    {
     "data": {
      "application/vnd.jupyter.widget-view+json": {
       "model_id": "d06a0847a11c439992e007e92dd71ec7",
       "version_major": 2,
       "version_minor": 0
      },
      "text/plain": [
       "HBox(children=(FloatProgress(value=1.0, bar_style='info', max=1.0), HTML(value='')))"
      ]
     },
     "metadata": {},
     "output_type": "display_data"
    },
    {
     "data": {
      "application/vnd.jupyter.widget-view+json": {
       "model_id": "c2a90540065642808126719072f656b8",
       "version_major": 2,
       "version_minor": 0
      },
      "text/plain": [
       "HBox(children=(FloatProgress(value=1.0, bar_style='info', max=1.0), HTML(value='')))"
      ]
     },
     "metadata": {},
     "output_type": "display_data"
    },
    {
     "data": {
      "application/vnd.jupyter.widget-view+json": {
       "model_id": "4f3a683b415d42d3a140aa59569099f9",
       "version_major": 2,
       "version_minor": 0
      },
      "text/plain": [
       "HBox(children=(FloatProgress(value=1.0, bar_style='info', max=1.0), HTML(value='')))"
      ]
     },
     "metadata": {},
     "output_type": "display_data"
    },
    {
     "data": {
      "application/vnd.jupyter.widget-view+json": {
       "model_id": "22a8c31655524d89b92c940c550a5c46",
       "version_major": 2,
       "version_minor": 0
      },
      "text/plain": [
       "HBox(children=(FloatProgress(value=1.0, bar_style='info', max=1.0), HTML(value='')))"
      ]
     },
     "metadata": {},
     "output_type": "display_data"
    },
    {
     "data": {
      "application/vnd.jupyter.widget-view+json": {
       "model_id": "ab2a2e8756b04c5ca0b613b725497b41",
       "version_major": 2,
       "version_minor": 0
      },
      "text/plain": [
       "HBox(children=(FloatProgress(value=1.0, bar_style='info', max=1.0), HTML(value='')))"
      ]
     },
     "metadata": {},
     "output_type": "display_data"
    },
    {
     "data": {
      "application/vnd.jupyter.widget-view+json": {
       "model_id": "5063f15c06254487ad491db6a0a81aab",
       "version_major": 2,
       "version_minor": 0
      },
      "text/plain": [
       "HBox(children=(FloatProgress(value=1.0, bar_style='info', max=1.0), HTML(value='')))"
      ]
     },
     "metadata": {},
     "output_type": "display_data"
    },
    {
     "data": {
      "application/vnd.jupyter.widget-view+json": {
       "model_id": "d678128f61b648b38dd1726c10848325",
       "version_major": 2,
       "version_minor": 0
      },
      "text/plain": [
       "HBox(children=(FloatProgress(value=1.0, bar_style='info', max=1.0), HTML(value='')))"
      ]
     },
     "metadata": {},
     "output_type": "display_data"
    },
    {
     "data": {
      "application/vnd.jupyter.widget-view+json": {
       "model_id": "bdefa79ceea74a8e97109c709ce1aa47",
       "version_major": 2,
       "version_minor": 0
      },
      "text/plain": [
       "HBox(children=(FloatProgress(value=1.0, bar_style='info', max=1.0), HTML(value='')))"
      ]
     },
     "metadata": {},
     "output_type": "display_data"
    },
    {
     "data": {
      "application/vnd.jupyter.widget-view+json": {
       "model_id": "15da5f0b583f4972ba510ae647e215dc",
       "version_major": 2,
       "version_minor": 0
      },
      "text/plain": [
       "HBox(children=(FloatProgress(value=1.0, bar_style='info', max=1.0), HTML(value='')))"
      ]
     },
     "metadata": {},
     "output_type": "display_data"
    },
    {
     "data": {
      "application/vnd.jupyter.widget-view+json": {
       "model_id": "adbc3890c6af426fad1f0b2d9649356b",
       "version_major": 2,
       "version_minor": 0
      },
      "text/plain": [
       "HBox(children=(FloatProgress(value=1.0, bar_style='info', max=1.0), HTML(value='')))"
      ]
     },
     "metadata": {},
     "output_type": "display_data"
    },
    {
     "data": {
      "application/vnd.jupyter.widget-view+json": {
       "model_id": "3d12ca7d3e8c457db39e9c4b0647c349",
       "version_major": 2,
       "version_minor": 0
      },
      "text/plain": [
       "HBox(children=(FloatProgress(value=1.0, bar_style='info', max=1.0), HTML(value='')))"
      ]
     },
     "metadata": {},
     "output_type": "display_data"
    },
    {
     "data": {
      "application/vnd.jupyter.widget-view+json": {
       "model_id": "a4dd2e9b2cfd4543b4eca3473e3bbf0d",
       "version_major": 2,
       "version_minor": 0
      },
      "text/plain": [
       "HBox(children=(FloatProgress(value=1.0, bar_style='info', max=1.0), HTML(value='')))"
      ]
     },
     "metadata": {},
     "output_type": "display_data"
    },
    {
     "data": {
      "application/vnd.jupyter.widget-view+json": {
       "model_id": "9f8240ded5e443e6a857d22d3cf8d379",
       "version_major": 2,
       "version_minor": 0
      },
      "text/plain": [
       "HBox(children=(FloatProgress(value=1.0, bar_style='info', max=1.0), HTML(value='')))"
      ]
     },
     "metadata": {},
     "output_type": "display_data"
    },
    {
     "data": {
      "application/vnd.jupyter.widget-view+json": {
       "model_id": "2fbb9dea26734b32940b06fd9326d5b5",
       "version_major": 2,
       "version_minor": 0
      },
      "text/plain": [
       "HBox(children=(FloatProgress(value=1.0, bar_style='info', max=1.0), HTML(value='')))"
      ]
     },
     "metadata": {},
     "output_type": "display_data"
    },
    {
     "data": {
      "application/vnd.jupyter.widget-view+json": {
       "model_id": "c4c70a0d98b44f569f2e9d0b3f9bff9f",
       "version_major": 2,
       "version_minor": 0
      },
      "text/plain": [
       "HBox(children=(FloatProgress(value=1.0, bar_style='info', max=1.0), HTML(value='')))"
      ]
     },
     "metadata": {},
     "output_type": "display_data"
    },
    {
     "data": {
      "application/vnd.jupyter.widget-view+json": {
       "model_id": "a2dd8b5686234bcc8d9cd1a1eeee79ed",
       "version_major": 2,
       "version_minor": 0
      },
      "text/plain": [
       "HBox(children=(FloatProgress(value=1.0, bar_style='info', max=1.0), HTML(value='')))"
      ]
     },
     "metadata": {},
     "output_type": "display_data"
    },
    {
     "data": {
      "application/vnd.jupyter.widget-view+json": {
       "model_id": "58b1dc33a7c14e0da320b5115212438e",
       "version_major": 2,
       "version_minor": 0
      },
      "text/plain": [
       "HBox(children=(FloatProgress(value=1.0, bar_style='info', max=1.0), HTML(value='')))"
      ]
     },
     "metadata": {},
     "output_type": "display_data"
    },
    {
     "data": {
      "application/vnd.jupyter.widget-view+json": {
       "model_id": "cfd23a5f823c43ffbab85e74458a949d",
       "version_major": 2,
       "version_minor": 0
      },
      "text/plain": [
       "HBox(children=(FloatProgress(value=1.0, bar_style='info', max=1.0), HTML(value='')))"
      ]
     },
     "metadata": {},
     "output_type": "display_data"
    },
    {
     "data": {
      "application/vnd.jupyter.widget-view+json": {
       "model_id": "7af5285a8d0648a5a081cdf3973cb1e0",
       "version_major": 2,
       "version_minor": 0
      },
      "text/plain": [
       "HBox(children=(FloatProgress(value=1.0, bar_style='info', max=1.0), HTML(value='')))"
      ]
     },
     "metadata": {},
     "output_type": "display_data"
    },
    {
     "data": {
      "application/vnd.jupyter.widget-view+json": {
       "model_id": "aeca89f814fb46ceb3257295cab01d25",
       "version_major": 2,
       "version_minor": 0
      },
      "text/plain": [
       "HBox(children=(FloatProgress(value=1.0, bar_style='info', max=1.0), HTML(value='')))"
      ]
     },
     "metadata": {},
     "output_type": "display_data"
    },
    {
     "data": {
      "application/vnd.jupyter.widget-view+json": {
       "model_id": "137705e87f0f4e1090685cd775fafdba",
       "version_major": 2,
       "version_minor": 0
      },
      "text/plain": [
       "HBox(children=(FloatProgress(value=1.0, bar_style='info', max=1.0), HTML(value='')))"
      ]
     },
     "metadata": {},
     "output_type": "display_data"
    },
    {
     "data": {
      "application/vnd.jupyter.widget-view+json": {
       "model_id": "55c97e30bb204436b4160fa4b5ea1e56",
       "version_major": 2,
       "version_minor": 0
      },
      "text/plain": [
       "HBox(children=(FloatProgress(value=1.0, bar_style='info', max=1.0), HTML(value='')))"
      ]
     },
     "metadata": {},
     "output_type": "display_data"
    },
    {
     "data": {
      "application/vnd.jupyter.widget-view+json": {
       "model_id": "3459685c09114eac8f192ef096988192",
       "version_major": 2,
       "version_minor": 0
      },
      "text/plain": [
       "HBox(children=(FloatProgress(value=1.0, bar_style='info', max=1.0), HTML(value='')))"
      ]
     },
     "metadata": {},
     "output_type": "display_data"
    },
    {
     "data": {
      "application/vnd.jupyter.widget-view+json": {
       "model_id": "47e069927a50427d86c11897bd86332b",
       "version_major": 2,
       "version_minor": 0
      },
      "text/plain": [
       "HBox(children=(FloatProgress(value=1.0, bar_style='info', max=1.0), HTML(value='')))"
      ]
     },
     "metadata": {},
     "output_type": "display_data"
    },
    {
     "data": {
      "application/vnd.jupyter.widget-view+json": {
       "model_id": "621b018b69184f528bfe1dbc5e089a86",
       "version_major": 2,
       "version_minor": 0
      },
      "text/plain": [
       "HBox(children=(FloatProgress(value=1.0, bar_style='info', max=1.0), HTML(value='')))"
      ]
     },
     "metadata": {},
     "output_type": "display_data"
    },
    {
     "data": {
      "application/vnd.jupyter.widget-view+json": {
       "model_id": "210a33d72c9746b6bc5af5de997a0535",
       "version_major": 2,
       "version_minor": 0
      },
      "text/plain": [
       "HBox(children=(FloatProgress(value=1.0, bar_style='info', max=1.0), HTML(value='')))"
      ]
     },
     "metadata": {},
     "output_type": "display_data"
    },
    {
     "data": {
      "application/vnd.jupyter.widget-view+json": {
       "model_id": "aa5a8d44ab5d461d89bde71959b6b554",
       "version_major": 2,
       "version_minor": 0
      },
      "text/plain": [
       "HBox(children=(FloatProgress(value=1.0, bar_style='info', max=1.0), HTML(value='')))"
      ]
     },
     "metadata": {},
     "output_type": "display_data"
    },
    {
     "data": {
      "application/vnd.jupyter.widget-view+json": {
       "model_id": "35caec5f20da4ca3b8617e9ac00865e4",
       "version_major": 2,
       "version_minor": 0
      },
      "text/plain": [
       "HBox(children=(FloatProgress(value=1.0, bar_style='info', max=1.0), HTML(value='')))"
      ]
     },
     "metadata": {},
     "output_type": "display_data"
    },
    {
     "data": {
      "application/vnd.jupyter.widget-view+json": {
       "model_id": "0f9ccaabf4864a92bdb8c41c296dc199",
       "version_major": 2,
       "version_minor": 0
      },
      "text/plain": [
       "HBox(children=(FloatProgress(value=1.0, bar_style='info', max=1.0), HTML(value='')))"
      ]
     },
     "metadata": {},
     "output_type": "display_data"
    },
    {
     "data": {
      "application/vnd.jupyter.widget-view+json": {
       "model_id": "694717913ff74ef69e07e24b0cfa2c5f",
       "version_major": 2,
       "version_minor": 0
      },
      "text/plain": [
       "HBox(children=(FloatProgress(value=1.0, bar_style='info', max=1.0), HTML(value='')))"
      ]
     },
     "metadata": {},
     "output_type": "display_data"
    },
    {
     "data": {
      "application/vnd.jupyter.widget-view+json": {
       "model_id": "f03f08e6910e4f3898fec4c35eaa38cf",
       "version_major": 2,
       "version_minor": 0
      },
      "text/plain": [
       "HBox(children=(FloatProgress(value=1.0, bar_style='info', max=1.0), HTML(value='')))"
      ]
     },
     "metadata": {},
     "output_type": "display_data"
    },
    {
     "data": {
      "application/vnd.jupyter.widget-view+json": {
       "model_id": "0bdcf721fa9b483296b08e4246c6acd0",
       "version_major": 2,
       "version_minor": 0
      },
      "text/plain": [
       "HBox(children=(FloatProgress(value=1.0, bar_style='info', max=1.0), HTML(value='')))"
      ]
     },
     "metadata": {},
     "output_type": "display_data"
    },
    {
     "data": {
      "application/vnd.jupyter.widget-view+json": {
       "model_id": "2d28e15712134bc4902ee4b20c90aab6",
       "version_major": 2,
       "version_minor": 0
      },
      "text/plain": [
       "HBox(children=(FloatProgress(value=1.0, bar_style='info', max=1.0), HTML(value='')))"
      ]
     },
     "metadata": {},
     "output_type": "display_data"
    },
    {
     "data": {
      "application/vnd.jupyter.widget-view+json": {
       "model_id": "561951ca926d4c03b3a0a62b982cc8b4",
       "version_major": 2,
       "version_minor": 0
      },
      "text/plain": [
       "HBox(children=(FloatProgress(value=1.0, bar_style='info', max=1.0), HTML(value='')))"
      ]
     },
     "metadata": {},
     "output_type": "display_data"
    },
    {
     "data": {
      "application/vnd.jupyter.widget-view+json": {
       "model_id": "2c6589fc90a14a1a8456bd70ad788a42",
       "version_major": 2,
       "version_minor": 0
      },
      "text/plain": [
       "HBox(children=(FloatProgress(value=1.0, bar_style='info', max=1.0), HTML(value='')))"
      ]
     },
     "metadata": {},
     "output_type": "display_data"
    },
    {
     "data": {
      "application/vnd.jupyter.widget-view+json": {
       "model_id": "92c07188e19b42d1840b170b7b3e2b96",
       "version_major": 2,
       "version_minor": 0
      },
      "text/plain": [
       "HBox(children=(FloatProgress(value=1.0, bar_style='info', max=1.0), HTML(value='')))"
      ]
     },
     "metadata": {},
     "output_type": "display_data"
    },
    {
     "data": {
      "application/vnd.jupyter.widget-view+json": {
       "model_id": "6d8a0f58c6e745468b57f067189e384e",
       "version_major": 2,
       "version_minor": 0
      },
      "text/plain": [
       "HBox(children=(FloatProgress(value=1.0, bar_style='info', max=1.0), HTML(value='')))"
      ]
     },
     "metadata": {},
     "output_type": "display_data"
    },
    {
     "data": {
      "application/vnd.jupyter.widget-view+json": {
       "model_id": "3283d2781ef34eba8325233b095eaf38",
       "version_major": 2,
       "version_minor": 0
      },
      "text/plain": [
       "HBox(children=(FloatProgress(value=1.0, bar_style='info', max=1.0), HTML(value='')))"
      ]
     },
     "metadata": {},
     "output_type": "display_data"
    },
    {
     "data": {
      "application/vnd.jupyter.widget-view+json": {
       "model_id": "185a7e1ea2a4407d8e3573f169fd570d",
       "version_major": 2,
       "version_minor": 0
      },
      "text/plain": [
       "HBox(children=(FloatProgress(value=1.0, bar_style='info', max=1.0), HTML(value='')))"
      ]
     },
     "metadata": {},
     "output_type": "display_data"
    },
    {
     "data": {
      "application/vnd.jupyter.widget-view+json": {
       "model_id": "cfac681cf7a04358a1b89884ed32b5cb",
       "version_major": 2,
       "version_minor": 0
      },
      "text/plain": [
       "HBox(children=(FloatProgress(value=1.0, bar_style='info', max=1.0), HTML(value='')))"
      ]
     },
     "metadata": {},
     "output_type": "display_data"
    },
    {
     "data": {
      "application/vnd.jupyter.widget-view+json": {
       "model_id": "7c064831fdd14afaa5070e044cca446f",
       "version_major": 2,
       "version_minor": 0
      },
      "text/plain": [
       "HBox(children=(FloatProgress(value=1.0, bar_style='info', max=1.0), HTML(value='')))"
      ]
     },
     "metadata": {},
     "output_type": "display_data"
    },
    {
     "data": {
      "application/vnd.jupyter.widget-view+json": {
       "model_id": "15ffb00b5e9e4999912ae240c3f0ccdb",
       "version_major": 2,
       "version_minor": 0
      },
      "text/plain": [
       "HBox(children=(FloatProgress(value=1.0, bar_style='info', max=1.0), HTML(value='')))"
      ]
     },
     "metadata": {},
     "output_type": "display_data"
    },
    {
     "data": {
      "application/vnd.jupyter.widget-view+json": {
       "model_id": "c8c8ec8d40384528b01a865770acfe02",
       "version_major": 2,
       "version_minor": 0
      },
      "text/plain": [
       "HBox(children=(FloatProgress(value=1.0, bar_style='info', max=1.0), HTML(value='')))"
      ]
     },
     "metadata": {},
     "output_type": "display_data"
    },
    {
     "data": {
      "application/vnd.jupyter.widget-view+json": {
       "model_id": "a9a6e6b4031d41b5b05d1002332d64c3",
       "version_major": 2,
       "version_minor": 0
      },
      "text/plain": [
       "HBox(children=(FloatProgress(value=1.0, bar_style='info', max=1.0), HTML(value='')))"
      ]
     },
     "metadata": {},
     "output_type": "display_data"
    },
    {
     "data": {
      "application/vnd.jupyter.widget-view+json": {
       "model_id": "c16519b9f4d748c6b0f81e812ec7db0a",
       "version_major": 2,
       "version_minor": 0
      },
      "text/plain": [
       "HBox(children=(FloatProgress(value=1.0, bar_style='info', max=1.0), HTML(value='')))"
      ]
     },
     "metadata": {},
     "output_type": "display_data"
    },
    {
     "data": {
      "application/vnd.jupyter.widget-view+json": {
       "model_id": "f4c9b6e376d846ba8534f615a23b2425",
       "version_major": 2,
       "version_minor": 0
      },
      "text/plain": [
       "HBox(children=(FloatProgress(value=1.0, bar_style='info', max=1.0), HTML(value='')))"
      ]
     },
     "metadata": {},
     "output_type": "display_data"
    },
    {
     "data": {
      "application/vnd.jupyter.widget-view+json": {
       "model_id": "06ea5e82cb444c91a2bae5492b09eb6a",
       "version_major": 2,
       "version_minor": 0
      },
      "text/plain": [
       "HBox(children=(FloatProgress(value=1.0, bar_style='info', max=1.0), HTML(value='')))"
      ]
     },
     "metadata": {},
     "output_type": "display_data"
    },
    {
     "data": {
      "application/vnd.jupyter.widget-view+json": {
       "model_id": "45b54a1a5d06498c87e8c4a5e9f4b3e2",
       "version_major": 2,
       "version_minor": 0
      },
      "text/plain": [
       "HBox(children=(FloatProgress(value=1.0, bar_style='info', max=1.0), HTML(value='')))"
      ]
     },
     "metadata": {},
     "output_type": "display_data"
    },
    {
     "data": {
      "application/vnd.jupyter.widget-view+json": {
       "model_id": "ee73c57e91e94f7fb4fa094beadf657c",
       "version_major": 2,
       "version_minor": 0
      },
      "text/plain": [
       "HBox(children=(FloatProgress(value=1.0, bar_style='info', max=1.0), HTML(value='')))"
      ]
     },
     "metadata": {},
     "output_type": "display_data"
    },
    {
     "data": {
      "application/vnd.jupyter.widget-view+json": {
       "model_id": "5e7bda3da54a46ca8bc1288745fd508f",
       "version_major": 2,
       "version_minor": 0
      },
      "text/plain": [
       "HBox(children=(FloatProgress(value=1.0, bar_style='info', max=1.0), HTML(value='')))"
      ]
     },
     "metadata": {},
     "output_type": "display_data"
    },
    {
     "data": {
      "application/vnd.jupyter.widget-view+json": {
       "model_id": "c003c27a40a54872a56bc01302f5481b",
       "version_major": 2,
       "version_minor": 0
      },
      "text/plain": [
       "HBox(children=(FloatProgress(value=1.0, bar_style='info', max=1.0), HTML(value='')))"
      ]
     },
     "metadata": {},
     "output_type": "display_data"
    },
    {
     "data": {
      "application/vnd.jupyter.widget-view+json": {
       "model_id": "8d66c3dc767748af941e9e5c9285c141",
       "version_major": 2,
       "version_minor": 0
      },
      "text/plain": [
       "HBox(children=(FloatProgress(value=1.0, bar_style='info', max=1.0), HTML(value='')))"
      ]
     },
     "metadata": {},
     "output_type": "display_data"
    },
    {
     "data": {
      "application/vnd.jupyter.widget-view+json": {
       "model_id": "6f95088d0e2d40f0bd50933b2426f45e",
       "version_major": 2,
       "version_minor": 0
      },
      "text/plain": [
       "HBox(children=(FloatProgress(value=1.0, bar_style='info', max=1.0), HTML(value='')))"
      ]
     },
     "metadata": {},
     "output_type": "display_data"
    },
    {
     "data": {
      "application/vnd.jupyter.widget-view+json": {
       "model_id": "db3575f21f1e4d0181e20680ef9ac722",
       "version_major": 2,
       "version_minor": 0
      },
      "text/plain": [
       "HBox(children=(FloatProgress(value=1.0, bar_style='info', max=1.0), HTML(value='')))"
      ]
     },
     "metadata": {},
     "output_type": "display_data"
    },
    {
     "data": {
      "application/vnd.jupyter.widget-view+json": {
       "model_id": "4555075657d9403787d825d26b6ffa1d",
       "version_major": 2,
       "version_minor": 0
      },
      "text/plain": [
       "HBox(children=(FloatProgress(value=1.0, bar_style='info', max=1.0), HTML(value='')))"
      ]
     },
     "metadata": {},
     "output_type": "display_data"
    },
    {
     "data": {
      "application/vnd.jupyter.widget-view+json": {
       "model_id": "482c3c9397d44686bd369d820df26a25",
       "version_major": 2,
       "version_minor": 0
      },
      "text/plain": [
       "HBox(children=(FloatProgress(value=1.0, bar_style='info', max=1.0), HTML(value='')))"
      ]
     },
     "metadata": {},
     "output_type": "display_data"
    },
    {
     "data": {
      "application/vnd.jupyter.widget-view+json": {
       "model_id": "4547f58cbd1e452aacbf770ea27946a0",
       "version_major": 2,
       "version_minor": 0
      },
      "text/plain": [
       "HBox(children=(FloatProgress(value=1.0, bar_style='info', max=1.0), HTML(value='')))"
      ]
     },
     "metadata": {},
     "output_type": "display_data"
    },
    {
     "data": {
      "application/vnd.jupyter.widget-view+json": {
       "model_id": "cc9c80349f314a11bcf0a854d66aa6ae",
       "version_major": 2,
       "version_minor": 0
      },
      "text/plain": [
       "HBox(children=(FloatProgress(value=1.0, bar_style='info', max=1.0), HTML(value='')))"
      ]
     },
     "metadata": {},
     "output_type": "display_data"
    },
    {
     "data": {
      "application/vnd.jupyter.widget-view+json": {
       "model_id": "6703511181514a3988b748e93b0199a4",
       "version_major": 2,
       "version_minor": 0
      },
      "text/plain": [
       "HBox(children=(FloatProgress(value=1.0, bar_style='info', max=1.0), HTML(value='')))"
      ]
     },
     "metadata": {},
     "output_type": "display_data"
    },
    {
     "data": {
      "application/vnd.jupyter.widget-view+json": {
       "model_id": "dd856d92192b49dea7c9b63fb483611f",
       "version_major": 2,
       "version_minor": 0
      },
      "text/plain": [
       "HBox(children=(FloatProgress(value=1.0, bar_style='info', max=1.0), HTML(value='')))"
      ]
     },
     "metadata": {},
     "output_type": "display_data"
    },
    {
     "data": {
      "application/vnd.jupyter.widget-view+json": {
       "model_id": "2dd6bd6ffc5c49e4a34a7afdd2b2775c",
       "version_major": 2,
       "version_minor": 0
      },
      "text/plain": [
       "HBox(children=(FloatProgress(value=1.0, bar_style='info', max=1.0), HTML(value='')))"
      ]
     },
     "metadata": {},
     "output_type": "display_data"
    },
    {
     "data": {
      "application/vnd.jupyter.widget-view+json": {
       "model_id": "0704a2a8d8fb437689b95f63e03d2f5a",
       "version_major": 2,
       "version_minor": 0
      },
      "text/plain": [
       "HBox(children=(FloatProgress(value=1.0, bar_style='info', max=1.0), HTML(value='')))"
      ]
     },
     "metadata": {},
     "output_type": "display_data"
    },
    {
     "data": {
      "application/vnd.jupyter.widget-view+json": {
       "model_id": "efdb0522e09e4e029b38196f7f5fbcce",
       "version_major": 2,
       "version_minor": 0
      },
      "text/plain": [
       "HBox(children=(FloatProgress(value=1.0, bar_style='info', max=1.0), HTML(value='')))"
      ]
     },
     "metadata": {},
     "output_type": "display_data"
    },
    {
     "data": {
      "application/vnd.jupyter.widget-view+json": {
       "model_id": "b1ff0b3634314f77867f8168de382ff6",
       "version_major": 2,
       "version_minor": 0
      },
      "text/plain": [
       "HBox(children=(FloatProgress(value=1.0, bar_style='info', max=1.0), HTML(value='')))"
      ]
     },
     "metadata": {},
     "output_type": "display_data"
    },
    {
     "data": {
      "application/vnd.jupyter.widget-view+json": {
       "model_id": "30f3623fee734d8bb87eb96a7088db21",
       "version_major": 2,
       "version_minor": 0
      },
      "text/plain": [
       "HBox(children=(FloatProgress(value=1.0, bar_style='info', max=1.0), HTML(value='')))"
      ]
     },
     "metadata": {},
     "output_type": "display_data"
    },
    {
     "data": {
      "application/vnd.jupyter.widget-view+json": {
       "model_id": "e405ef7841884ecc865c2cf5e3267bb8",
       "version_major": 2,
       "version_minor": 0
      },
      "text/plain": [
       "HBox(children=(FloatProgress(value=1.0, bar_style='info', max=1.0), HTML(value='')))"
      ]
     },
     "metadata": {},
     "output_type": "display_data"
    },
    {
     "data": {
      "application/vnd.jupyter.widget-view+json": {
       "model_id": "af7f7d2851c343abb4e98d8a50180d86",
       "version_major": 2,
       "version_minor": 0
      },
      "text/plain": [
       "HBox(children=(FloatProgress(value=1.0, bar_style='info', max=1.0), HTML(value='')))"
      ]
     },
     "metadata": {},
     "output_type": "display_data"
    },
    {
     "data": {
      "application/vnd.jupyter.widget-view+json": {
       "model_id": "6abc899b63aa4247bbde8c52caceaf4d",
       "version_major": 2,
       "version_minor": 0
      },
      "text/plain": [
       "HBox(children=(FloatProgress(value=1.0, bar_style='info', max=1.0), HTML(value='')))"
      ]
     },
     "metadata": {},
     "output_type": "display_data"
    },
    {
     "data": {
      "application/vnd.jupyter.widget-view+json": {
       "model_id": "3f106013c1874d42aa2fcb7acddc1ae5",
       "version_major": 2,
       "version_minor": 0
      },
      "text/plain": [
       "HBox(children=(FloatProgress(value=1.0, bar_style='info', max=1.0), HTML(value='')))"
      ]
     },
     "metadata": {},
     "output_type": "display_data"
    },
    {
     "data": {
      "application/vnd.jupyter.widget-view+json": {
       "model_id": "d28c38075b1742a6a05693e459a75fd3",
       "version_major": 2,
       "version_minor": 0
      },
      "text/plain": [
       "HBox(children=(FloatProgress(value=1.0, bar_style='info', max=1.0), HTML(value='')))"
      ]
     },
     "metadata": {},
     "output_type": "display_data"
    },
    {
     "data": {
      "application/vnd.jupyter.widget-view+json": {
       "model_id": "e907a47fcd3542ea939574733086d056",
       "version_major": 2,
       "version_minor": 0
      },
      "text/plain": [
       "HBox(children=(FloatProgress(value=1.0, bar_style='info', max=1.0), HTML(value='')))"
      ]
     },
     "metadata": {},
     "output_type": "display_data"
    },
    {
     "data": {
      "application/vnd.jupyter.widget-view+json": {
       "model_id": "6c78c481c0894254b21760d3a5851799",
       "version_major": 2,
       "version_minor": 0
      },
      "text/plain": [
       "HBox(children=(FloatProgress(value=1.0, bar_style='info', max=1.0), HTML(value='')))"
      ]
     },
     "metadata": {},
     "output_type": "display_data"
    },
    {
     "data": {
      "application/vnd.jupyter.widget-view+json": {
       "model_id": "ad94d7df5d7742a8b087a10848e94833",
       "version_major": 2,
       "version_minor": 0
      },
      "text/plain": [
       "HBox(children=(FloatProgress(value=1.0, bar_style='info', max=1.0), HTML(value='')))"
      ]
     },
     "metadata": {},
     "output_type": "display_data"
    },
    {
     "data": {
      "application/vnd.jupyter.widget-view+json": {
       "model_id": "8a1733f9c47a4c77817627743023218f",
       "version_major": 2,
       "version_minor": 0
      },
      "text/plain": [
       "HBox(children=(FloatProgress(value=1.0, bar_style='info', max=1.0), HTML(value='')))"
      ]
     },
     "metadata": {},
     "output_type": "display_data"
    },
    {
     "data": {
      "application/vnd.jupyter.widget-view+json": {
       "model_id": "15bcab64f7ec418da65cf7570a7bbb09",
       "version_major": 2,
       "version_minor": 0
      },
      "text/plain": [
       "HBox(children=(FloatProgress(value=1.0, bar_style='info', max=1.0), HTML(value='')))"
      ]
     },
     "metadata": {},
     "output_type": "display_data"
    },
    {
     "data": {
      "application/vnd.jupyter.widget-view+json": {
       "model_id": "dd552fdbcf964ddf89956ca496869253",
       "version_major": 2,
       "version_minor": 0
      },
      "text/plain": [
       "HBox(children=(FloatProgress(value=1.0, bar_style='info', max=1.0), HTML(value='')))"
      ]
     },
     "metadata": {},
     "output_type": "display_data"
    },
    {
     "data": {
      "application/vnd.jupyter.widget-view+json": {
       "model_id": "bf0c0fcd8d7b49d593b0158d44010dcc",
       "version_major": 2,
       "version_minor": 0
      },
      "text/plain": [
       "HBox(children=(FloatProgress(value=1.0, bar_style='info', max=1.0), HTML(value='')))"
      ]
     },
     "metadata": {},
     "output_type": "display_data"
    },
    {
     "data": {
      "application/vnd.jupyter.widget-view+json": {
       "model_id": "bf1f4d6ea71f43e5b226aa3097a767af",
       "version_major": 2,
       "version_minor": 0
      },
      "text/plain": [
       "HBox(children=(FloatProgress(value=1.0, bar_style='info', max=1.0), HTML(value='')))"
      ]
     },
     "metadata": {},
     "output_type": "display_data"
    },
    {
     "data": {
      "application/vnd.jupyter.widget-view+json": {
       "model_id": "5b62e97cb77e466b8220533ef2b00d49",
       "version_major": 2,
       "version_minor": 0
      },
      "text/plain": [
       "HBox(children=(FloatProgress(value=1.0, bar_style='info', max=1.0), HTML(value='')))"
      ]
     },
     "metadata": {},
     "output_type": "display_data"
    },
    {
     "data": {
      "application/vnd.jupyter.widget-view+json": {
       "model_id": "ca472b3ff9854191bc038cebebe2ab69",
       "version_major": 2,
       "version_minor": 0
      },
      "text/plain": [
       "HBox(children=(FloatProgress(value=1.0, bar_style='info', max=1.0), HTML(value='')))"
      ]
     },
     "metadata": {},
     "output_type": "display_data"
    },
    {
     "data": {
      "application/vnd.jupyter.widget-view+json": {
       "model_id": "1097377663f24c609de9392db5b9a667",
       "version_major": 2,
       "version_minor": 0
      },
      "text/plain": [
       "HBox(children=(FloatProgress(value=1.0, bar_style='info', max=1.0), HTML(value='')))"
      ]
     },
     "metadata": {},
     "output_type": "display_data"
    },
    {
     "data": {
      "application/vnd.jupyter.widget-view+json": {
       "model_id": "b34b1ea3f53b4dc68ebc60756fb38748",
       "version_major": 2,
       "version_minor": 0
      },
      "text/plain": [
       "HBox(children=(FloatProgress(value=1.0, bar_style='info', max=1.0), HTML(value='')))"
      ]
     },
     "metadata": {},
     "output_type": "display_data"
    },
    {
     "data": {
      "application/vnd.jupyter.widget-view+json": {
       "model_id": "deb8bd6ad66943f5abb265ffb9718383",
       "version_major": 2,
       "version_minor": 0
      },
      "text/plain": [
       "HBox(children=(FloatProgress(value=1.0, bar_style='info', max=1.0), HTML(value='')))"
      ]
     },
     "metadata": {},
     "output_type": "display_data"
    },
    {
     "data": {
      "application/vnd.jupyter.widget-view+json": {
       "model_id": "de612338398c4a7e816cb2fdf2043bea",
       "version_major": 2,
       "version_minor": 0
      },
      "text/plain": [
       "HBox(children=(FloatProgress(value=1.0, bar_style='info', max=1.0), HTML(value='')))"
      ]
     },
     "metadata": {},
     "output_type": "display_data"
    },
    {
     "data": {
      "application/vnd.jupyter.widget-view+json": {
       "model_id": "5307f328bc024866a07771d63f11c550",
       "version_major": 2,
       "version_minor": 0
      },
      "text/plain": [
       "HBox(children=(FloatProgress(value=1.0, bar_style='info', max=1.0), HTML(value='')))"
      ]
     },
     "metadata": {},
     "output_type": "display_data"
    },
    {
     "data": {
      "application/vnd.jupyter.widget-view+json": {
       "model_id": "553f4ab13f21461b9debaa55467b3dd5",
       "version_major": 2,
       "version_minor": 0
      },
      "text/plain": [
       "HBox(children=(FloatProgress(value=1.0, bar_style='info', max=1.0), HTML(value='')))"
      ]
     },
     "metadata": {},
     "output_type": "display_data"
    },
    {
     "data": {
      "application/vnd.jupyter.widget-view+json": {
       "model_id": "720879b70fd44ba9adf60f95a952af6a",
       "version_major": 2,
       "version_minor": 0
      },
      "text/plain": [
       "HBox(children=(FloatProgress(value=1.0, bar_style='info', max=1.0), HTML(value='')))"
      ]
     },
     "metadata": {},
     "output_type": "display_data"
    },
    {
     "data": {
      "application/vnd.jupyter.widget-view+json": {
       "model_id": "5d3e9f0a0cc9478bbe790fe7cee69e2a",
       "version_major": 2,
       "version_minor": 0
      },
      "text/plain": [
       "HBox(children=(FloatProgress(value=1.0, bar_style='info', max=1.0), HTML(value='')))"
      ]
     },
     "metadata": {},
     "output_type": "display_data"
    },
    {
     "data": {
      "application/vnd.jupyter.widget-view+json": {
       "model_id": "7f9808bc3c7b4a8f8c3ed293fc7551b4",
       "version_major": 2,
       "version_minor": 0
      },
      "text/plain": [
       "HBox(children=(FloatProgress(value=1.0, bar_style='info', max=1.0), HTML(value='')))"
      ]
     },
     "metadata": {},
     "output_type": "display_data"
    },
    {
     "data": {
      "application/vnd.jupyter.widget-view+json": {
       "model_id": "c84c597308754a4cbc046fa1ceced614",
       "version_major": 2,
       "version_minor": 0
      },
      "text/plain": [
       "HBox(children=(FloatProgress(value=1.0, bar_style='info', max=1.0), HTML(value='')))"
      ]
     },
     "metadata": {},
     "output_type": "display_data"
    },
    {
     "data": {
      "application/vnd.jupyter.widget-view+json": {
       "model_id": "0de7248b60fa460d8370e4943fef7aea",
       "version_major": 2,
       "version_minor": 0
      },
      "text/plain": [
       "HBox(children=(FloatProgress(value=1.0, bar_style='info', max=1.0), HTML(value='')))"
      ]
     },
     "metadata": {},
     "output_type": "display_data"
    },
    {
     "data": {
      "application/vnd.jupyter.widget-view+json": {
       "model_id": "2a2b29603ea44128a90d2137b122aa70",
       "version_major": 2,
       "version_minor": 0
      },
      "text/plain": [
       "HBox(children=(FloatProgress(value=1.0, bar_style='info', max=1.0), HTML(value='')))"
      ]
     },
     "metadata": {},
     "output_type": "display_data"
    },
    {
     "data": {
      "application/vnd.jupyter.widget-view+json": {
       "model_id": "6485a0a987db4c8b9ff344bfa7ce3f99",
       "version_major": 2,
       "version_minor": 0
      },
      "text/plain": [
       "HBox(children=(FloatProgress(value=1.0, bar_style='info', max=1.0), HTML(value='')))"
      ]
     },
     "metadata": {},
     "output_type": "display_data"
    },
    {
     "data": {
      "application/vnd.jupyter.widget-view+json": {
       "model_id": "a9a48746c36640658b5048605737974c",
       "version_major": 2,
       "version_minor": 0
      },
      "text/plain": [
       "HBox(children=(FloatProgress(value=1.0, bar_style='info', max=1.0), HTML(value='')))"
      ]
     },
     "metadata": {},
     "output_type": "display_data"
    },
    {
     "data": {
      "application/vnd.jupyter.widget-view+json": {
       "model_id": "ee2e7389e10f43cb9d7e8e26905806ea",
       "version_major": 2,
       "version_minor": 0
      },
      "text/plain": [
       "HBox(children=(FloatProgress(value=1.0, bar_style='info', max=1.0), HTML(value='')))"
      ]
     },
     "metadata": {},
     "output_type": "display_data"
    },
    {
     "data": {
      "application/vnd.jupyter.widget-view+json": {
       "model_id": "8038c1e188b743f8aee439f7ceb8b38d",
       "version_major": 2,
       "version_minor": 0
      },
      "text/plain": [
       "HBox(children=(FloatProgress(value=1.0, bar_style='info', max=1.0), HTML(value='')))"
      ]
     },
     "metadata": {},
     "output_type": "display_data"
    },
    {
     "data": {
      "application/vnd.jupyter.widget-view+json": {
       "model_id": "3ed98369e0e8498792330195b3543e35",
       "version_major": 2,
       "version_minor": 0
      },
      "text/plain": [
       "HBox(children=(FloatProgress(value=1.0, bar_style='info', max=1.0), HTML(value='')))"
      ]
     },
     "metadata": {},
     "output_type": "display_data"
    },
    {
     "data": {
      "application/vnd.jupyter.widget-view+json": {
       "model_id": "9f1d220b1e4f4b94b717da0512adfe72",
       "version_major": 2,
       "version_minor": 0
      },
      "text/plain": [
       "HBox(children=(FloatProgress(value=1.0, bar_style='info', max=1.0), HTML(value='')))"
      ]
     },
     "metadata": {},
     "output_type": "display_data"
    },
    {
     "data": {
      "application/vnd.jupyter.widget-view+json": {
       "model_id": "8ef1ecc2af57425991bbcd41228a8681",
       "version_major": 2,
       "version_minor": 0
      },
      "text/plain": [
       "HBox(children=(FloatProgress(value=1.0, bar_style='info', max=1.0), HTML(value='')))"
      ]
     },
     "metadata": {},
     "output_type": "display_data"
    },
    {
     "data": {
      "application/vnd.jupyter.widget-view+json": {
       "model_id": "183cce89614c422885d6ea1c2af08d90",
       "version_major": 2,
       "version_minor": 0
      },
      "text/plain": [
       "HBox(children=(FloatProgress(value=1.0, bar_style='info', max=1.0), HTML(value='')))"
      ]
     },
     "metadata": {},
     "output_type": "display_data"
    },
    {
     "data": {
      "application/vnd.jupyter.widget-view+json": {
       "model_id": "22bd2796aaa8484b909f05ce86650bec",
       "version_major": 2,
       "version_minor": 0
      },
      "text/plain": [
       "HBox(children=(FloatProgress(value=1.0, bar_style='info', max=1.0), HTML(value='')))"
      ]
     },
     "metadata": {},
     "output_type": "display_data"
    },
    {
     "data": {
      "application/vnd.jupyter.widget-view+json": {
       "model_id": "d9a7d267f4b4498180703fb85c56a2b4",
       "version_major": 2,
       "version_minor": 0
      },
      "text/plain": [
       "HBox(children=(FloatProgress(value=1.0, bar_style='info', max=1.0), HTML(value='')))"
      ]
     },
     "metadata": {},
     "output_type": "display_data"
    },
    {
     "data": {
      "application/vnd.jupyter.widget-view+json": {
       "model_id": "ed7328c689de470ab1e1564cd156efa9",
       "version_major": 2,
       "version_minor": 0
      },
      "text/plain": [
       "HBox(children=(FloatProgress(value=1.0, bar_style='info', max=1.0), HTML(value='')))"
      ]
     },
     "metadata": {},
     "output_type": "display_data"
    },
    {
     "data": {
      "application/vnd.jupyter.widget-view+json": {
       "model_id": "daa6a54ba6974df69796351e04d7397d",
       "version_major": 2,
       "version_minor": 0
      },
      "text/plain": [
       "HBox(children=(FloatProgress(value=1.0, bar_style='info', max=1.0), HTML(value='')))"
      ]
     },
     "metadata": {},
     "output_type": "display_data"
    },
    {
     "data": {
      "application/vnd.jupyter.widget-view+json": {
       "model_id": "44b2daf1c73c473db84f7a5f37da22a1",
       "version_major": 2,
       "version_minor": 0
      },
      "text/plain": [
       "HBox(children=(FloatProgress(value=1.0, bar_style='info', max=1.0), HTML(value='')))"
      ]
     },
     "metadata": {},
     "output_type": "display_data"
    },
    {
     "data": {
      "application/vnd.jupyter.widget-view+json": {
       "model_id": "67027acd9fa345f68a9b0dbeaf6a2483",
       "version_major": 2,
       "version_minor": 0
      },
      "text/plain": [
       "HBox(children=(FloatProgress(value=1.0, bar_style='info', max=1.0), HTML(value='')))"
      ]
     },
     "metadata": {},
     "output_type": "display_data"
    },
    {
     "data": {
      "application/vnd.jupyter.widget-view+json": {
       "model_id": "fed6065ce85a4c04822d64833ed3251b",
       "version_major": 2,
       "version_minor": 0
      },
      "text/plain": [
       "HBox(children=(FloatProgress(value=1.0, bar_style='info', max=1.0), HTML(value='')))"
      ]
     },
     "metadata": {},
     "output_type": "display_data"
    },
    {
     "data": {
      "application/vnd.jupyter.widget-view+json": {
       "model_id": "13a5af4e83ce4b49901cdeed0ec51795",
       "version_major": 2,
       "version_minor": 0
      },
      "text/plain": [
       "HBox(children=(FloatProgress(value=1.0, bar_style='info', max=1.0), HTML(value='')))"
      ]
     },
     "metadata": {},
     "output_type": "display_data"
    },
    {
     "data": {
      "application/vnd.jupyter.widget-view+json": {
       "model_id": "ae61814a015547668c90e792956fb59f",
       "version_major": 2,
       "version_minor": 0
      },
      "text/plain": [
       "HBox(children=(FloatProgress(value=1.0, bar_style='info', max=1.0), HTML(value='')))"
      ]
     },
     "metadata": {},
     "output_type": "display_data"
    },
    {
     "data": {
      "application/vnd.jupyter.widget-view+json": {
       "model_id": "fb597dcd7adf42b1a6859637884f5efc",
       "version_major": 2,
       "version_minor": 0
      },
      "text/plain": [
       "HBox(children=(FloatProgress(value=1.0, bar_style='info', max=1.0), HTML(value='')))"
      ]
     },
     "metadata": {},
     "output_type": "display_data"
    },
    {
     "data": {
      "application/vnd.jupyter.widget-view+json": {
       "model_id": "2ad4bcf849584064a42b124f74abc3d5",
       "version_major": 2,
       "version_minor": 0
      },
      "text/plain": [
       "HBox(children=(FloatProgress(value=1.0, bar_style='info', max=1.0), HTML(value='')))"
      ]
     },
     "metadata": {},
     "output_type": "display_data"
    },
    {
     "data": {
      "application/vnd.jupyter.widget-view+json": {
       "model_id": "ec4b35f68a69425aad0ceeb6723ac6dc",
       "version_major": 2,
       "version_minor": 0
      },
      "text/plain": [
       "HBox(children=(FloatProgress(value=1.0, bar_style='info', max=1.0), HTML(value='')))"
      ]
     },
     "metadata": {},
     "output_type": "display_data"
    },
    {
     "data": {
      "application/vnd.jupyter.widget-view+json": {
       "model_id": "d6dea090de3549e7b922d5da349994aa",
       "version_major": 2,
       "version_minor": 0
      },
      "text/plain": [
       "HBox(children=(FloatProgress(value=1.0, bar_style='info', max=1.0), HTML(value='')))"
      ]
     },
     "metadata": {},
     "output_type": "display_data"
    },
    {
     "data": {
      "application/vnd.jupyter.widget-view+json": {
       "model_id": "a64e9f29663e4746a4670635fb2051c2",
       "version_major": 2,
       "version_minor": 0
      },
      "text/plain": [
       "HBox(children=(FloatProgress(value=1.0, bar_style='info', max=1.0), HTML(value='')))"
      ]
     },
     "metadata": {},
     "output_type": "display_data"
    },
    {
     "data": {
      "application/vnd.jupyter.widget-view+json": {
       "model_id": "3d376c17d4584d1f9940f33af7419fb0",
       "version_major": 2,
       "version_minor": 0
      },
      "text/plain": [
       "HBox(children=(FloatProgress(value=1.0, bar_style='info', max=1.0), HTML(value='')))"
      ]
     },
     "metadata": {},
     "output_type": "display_data"
    },
    {
     "data": {
      "application/vnd.jupyter.widget-view+json": {
       "model_id": "38ba8c1131244e64b1eaeab1eadd4c7d",
       "version_major": 2,
       "version_minor": 0
      },
      "text/plain": [
       "HBox(children=(FloatProgress(value=1.0, bar_style='info', max=1.0), HTML(value='')))"
      ]
     },
     "metadata": {},
     "output_type": "display_data"
    },
    {
     "data": {
      "application/vnd.jupyter.widget-view+json": {
       "model_id": "00655be74e5c4832ab2c5c6784d3670d",
       "version_major": 2,
       "version_minor": 0
      },
      "text/plain": [
       "HBox(children=(FloatProgress(value=1.0, bar_style='info', max=1.0), HTML(value='')))"
      ]
     },
     "metadata": {},
     "output_type": "display_data"
    },
    {
     "data": {
      "application/vnd.jupyter.widget-view+json": {
       "model_id": "d6cc60c685584adeb7dded510664fbb4",
       "version_major": 2,
       "version_minor": 0
      },
      "text/plain": [
       "HBox(children=(FloatProgress(value=1.0, bar_style='info', max=1.0), HTML(value='')))"
      ]
     },
     "metadata": {},
     "output_type": "display_data"
    },
    {
     "data": {
      "application/vnd.jupyter.widget-view+json": {
       "model_id": "f862b31640b146d9b76ae77f3eed5a5d",
       "version_major": 2,
       "version_minor": 0
      },
      "text/plain": [
       "HBox(children=(FloatProgress(value=1.0, bar_style='info', max=1.0), HTML(value='')))"
      ]
     },
     "metadata": {},
     "output_type": "display_data"
    },
    {
     "data": {
      "application/vnd.jupyter.widget-view+json": {
       "model_id": "48fa22cada5446fd8bac27db0217112d",
       "version_major": 2,
       "version_minor": 0
      },
      "text/plain": [
       "HBox(children=(FloatProgress(value=1.0, bar_style='info', max=1.0), HTML(value='')))"
      ]
     },
     "metadata": {},
     "output_type": "display_data"
    },
    {
     "data": {
      "application/vnd.jupyter.widget-view+json": {
       "model_id": "4d84677dc13b48839123a46dd310fe97",
       "version_major": 2,
       "version_minor": 0
      },
      "text/plain": [
       "HBox(children=(FloatProgress(value=1.0, bar_style='info', max=1.0), HTML(value='')))"
      ]
     },
     "metadata": {},
     "output_type": "display_data"
    },
    {
     "data": {
      "application/vnd.jupyter.widget-view+json": {
       "model_id": "7a3c96b396ad4a88a18bca1f97963a6a",
       "version_major": 2,
       "version_minor": 0
      },
      "text/plain": [
       "HBox(children=(FloatProgress(value=1.0, bar_style='info', max=1.0), HTML(value='')))"
      ]
     },
     "metadata": {},
     "output_type": "display_data"
    },
    {
     "data": {
      "application/vnd.jupyter.widget-view+json": {
       "model_id": "d5eaaf9951304e97b25bef2d01b6a5fc",
       "version_major": 2,
       "version_minor": 0
      },
      "text/plain": [
       "HBox(children=(FloatProgress(value=1.0, bar_style='info', max=1.0), HTML(value='')))"
      ]
     },
     "metadata": {},
     "output_type": "display_data"
    },
    {
     "data": {
      "application/vnd.jupyter.widget-view+json": {
       "model_id": "e2f34687ce1e4471ab6522f8926834aa",
       "version_major": 2,
       "version_minor": 0
      },
      "text/plain": [
       "HBox(children=(FloatProgress(value=1.0, bar_style='info', max=1.0), HTML(value='')))"
      ]
     },
     "metadata": {},
     "output_type": "display_data"
    },
    {
     "data": {
      "application/vnd.jupyter.widget-view+json": {
       "model_id": "ae3f658d8cf74589b29da9594b2e90af",
       "version_major": 2,
       "version_minor": 0
      },
      "text/plain": [
       "HBox(children=(FloatProgress(value=1.0, bar_style='info', max=1.0), HTML(value='')))"
      ]
     },
     "metadata": {},
     "output_type": "display_data"
    },
    {
     "data": {
      "application/vnd.jupyter.widget-view+json": {
       "model_id": "96f4469ad6ea49448b4ed5dc6562990c",
       "version_major": 2,
       "version_minor": 0
      },
      "text/plain": [
       "HBox(children=(FloatProgress(value=1.0, bar_style='info', max=1.0), HTML(value='')))"
      ]
     },
     "metadata": {},
     "output_type": "display_data"
    },
    {
     "data": {
      "application/vnd.jupyter.widget-view+json": {
       "model_id": "ef35179645c541078d896bad013a2a6f",
       "version_major": 2,
       "version_minor": 0
      },
      "text/plain": [
       "HBox(children=(FloatProgress(value=1.0, bar_style='info', max=1.0), HTML(value='')))"
      ]
     },
     "metadata": {},
     "output_type": "display_data"
    },
    {
     "data": {
      "application/vnd.jupyter.widget-view+json": {
       "model_id": "f7474b921b644525b9cd15dd0e5d46a5",
       "version_major": 2,
       "version_minor": 0
      },
      "text/plain": [
       "HBox(children=(FloatProgress(value=1.0, bar_style='info', max=1.0), HTML(value='')))"
      ]
     },
     "metadata": {},
     "output_type": "display_data"
    },
    {
     "data": {
      "application/vnd.jupyter.widget-view+json": {
       "model_id": "9753a206f37d4dfeb4ed672338d058e7",
       "version_major": 2,
       "version_minor": 0
      },
      "text/plain": [
       "HBox(children=(FloatProgress(value=1.0, bar_style='info', max=1.0), HTML(value='')))"
      ]
     },
     "metadata": {},
     "output_type": "display_data"
    },
    {
     "data": {
      "application/vnd.jupyter.widget-view+json": {
       "model_id": "f16810f6af264f04a2917631b7c44b0f",
       "version_major": 2,
       "version_minor": 0
      },
      "text/plain": [
       "HBox(children=(FloatProgress(value=1.0, bar_style='info', max=1.0), HTML(value='')))"
      ]
     },
     "metadata": {},
     "output_type": "display_data"
    },
    {
     "data": {
      "application/vnd.jupyter.widget-view+json": {
       "model_id": "98069a65d52f4599a9115a64ba7d5091",
       "version_major": 2,
       "version_minor": 0
      },
      "text/plain": [
       "HBox(children=(FloatProgress(value=1.0, bar_style='info', max=1.0), HTML(value='')))"
      ]
     },
     "metadata": {},
     "output_type": "display_data"
    },
    {
     "data": {
      "application/vnd.jupyter.widget-view+json": {
       "model_id": "35b3f65d413e495693f738a77c670e45",
       "version_major": 2,
       "version_minor": 0
      },
      "text/plain": [
       "HBox(children=(FloatProgress(value=1.0, bar_style='info', max=1.0), HTML(value='')))"
      ]
     },
     "metadata": {},
     "output_type": "display_data"
    },
    {
     "data": {
      "application/vnd.jupyter.widget-view+json": {
       "model_id": "6a8274560208494c86696f2c215eb4bc",
       "version_major": 2,
       "version_minor": 0
      },
      "text/plain": [
       "HBox(children=(FloatProgress(value=1.0, bar_style='info', max=1.0), HTML(value='')))"
      ]
     },
     "metadata": {},
     "output_type": "display_data"
    },
    {
     "data": {
      "application/vnd.jupyter.widget-view+json": {
       "model_id": "a5a2924b9e49414289b26a00167d04de",
       "version_major": 2,
       "version_minor": 0
      },
      "text/plain": [
       "HBox(children=(FloatProgress(value=1.0, bar_style='info', max=1.0), HTML(value='')))"
      ]
     },
     "metadata": {},
     "output_type": "display_data"
    },
    {
     "data": {
      "application/vnd.jupyter.widget-view+json": {
       "model_id": "a8deabe741484144aa8a141b7471ba18",
       "version_major": 2,
       "version_minor": 0
      },
      "text/plain": [
       "HBox(children=(FloatProgress(value=1.0, bar_style='info', max=1.0), HTML(value='')))"
      ]
     },
     "metadata": {},
     "output_type": "display_data"
    },
    {
     "data": {
      "application/vnd.jupyter.widget-view+json": {
       "model_id": "9dc0e50ab19944c0b5c3b8a7479304cd",
       "version_major": 2,
       "version_minor": 0
      },
      "text/plain": [
       "HBox(children=(FloatProgress(value=1.0, bar_style='info', max=1.0), HTML(value='')))"
      ]
     },
     "metadata": {},
     "output_type": "display_data"
    },
    {
     "data": {
      "application/vnd.jupyter.widget-view+json": {
       "model_id": "ad4c0cd2f46e4d59a7856242b1a8e999",
       "version_major": 2,
       "version_minor": 0
      },
      "text/plain": [
       "HBox(children=(FloatProgress(value=1.0, bar_style='info', max=1.0), HTML(value='')))"
      ]
     },
     "metadata": {},
     "output_type": "display_data"
    },
    {
     "data": {
      "application/vnd.jupyter.widget-view+json": {
       "model_id": "d1922652a0924eb2955a9c340ce85721",
       "version_major": 2,
       "version_minor": 0
      },
      "text/plain": [
       "HBox(children=(FloatProgress(value=1.0, bar_style='info', max=1.0), HTML(value='')))"
      ]
     },
     "metadata": {},
     "output_type": "display_data"
    },
    {
     "data": {
      "application/vnd.jupyter.widget-view+json": {
       "model_id": "6a389e2948684853ac328173caa761e3",
       "version_major": 2,
       "version_minor": 0
      },
      "text/plain": [
       "HBox(children=(FloatProgress(value=1.0, bar_style='info', max=1.0), HTML(value='')))"
      ]
     },
     "metadata": {},
     "output_type": "display_data"
    },
    {
     "data": {
      "application/vnd.jupyter.widget-view+json": {
       "model_id": "235e255b976c42e5acb5da59736ffdb4",
       "version_major": 2,
       "version_minor": 0
      },
      "text/plain": [
       "HBox(children=(FloatProgress(value=1.0, bar_style='info', max=1.0), HTML(value='')))"
      ]
     },
     "metadata": {},
     "output_type": "display_data"
    },
    {
     "data": {
      "application/vnd.jupyter.widget-view+json": {
       "model_id": "9405c4daf9614e99b917ec9ddd5de45a",
       "version_major": 2,
       "version_minor": 0
      },
      "text/plain": [
       "HBox(children=(FloatProgress(value=1.0, bar_style='info', max=1.0), HTML(value='')))"
      ]
     },
     "metadata": {},
     "output_type": "display_data"
    },
    {
     "data": {
      "application/vnd.jupyter.widget-view+json": {
       "model_id": "8e2c68dd688d4fff97e369c92b8b72bf",
       "version_major": 2,
       "version_minor": 0
      },
      "text/plain": [
       "HBox(children=(FloatProgress(value=1.0, bar_style='info', max=1.0), HTML(value='')))"
      ]
     },
     "metadata": {},
     "output_type": "display_data"
    },
    {
     "data": {
      "application/vnd.jupyter.widget-view+json": {
       "model_id": "d69ac28180a64377b39ff052770b6f30",
       "version_major": 2,
       "version_minor": 0
      },
      "text/plain": [
       "HBox(children=(FloatProgress(value=1.0, bar_style='info', max=1.0), HTML(value='')))"
      ]
     },
     "metadata": {},
     "output_type": "display_data"
    },
    {
     "data": {
      "application/vnd.jupyter.widget-view+json": {
       "model_id": "f90cea2518894e969d52333b06f81a64",
       "version_major": 2,
       "version_minor": 0
      },
      "text/plain": [
       "HBox(children=(FloatProgress(value=1.0, bar_style='info', max=1.0), HTML(value='')))"
      ]
     },
     "metadata": {},
     "output_type": "display_data"
    },
    {
     "data": {
      "application/vnd.jupyter.widget-view+json": {
       "model_id": "841aad96038a447fb5a6698cd280a5ce",
       "version_major": 2,
       "version_minor": 0
      },
      "text/plain": [
       "HBox(children=(FloatProgress(value=1.0, bar_style='info', max=1.0), HTML(value='')))"
      ]
     },
     "metadata": {},
     "output_type": "display_data"
    },
    {
     "data": {
      "application/vnd.jupyter.widget-view+json": {
       "model_id": "2840cc1ef8e7489bbe15e587a8dc2fc2",
       "version_major": 2,
       "version_minor": 0
      },
      "text/plain": [
       "HBox(children=(FloatProgress(value=1.0, bar_style='info', max=1.0), HTML(value='')))"
      ]
     },
     "metadata": {},
     "output_type": "display_data"
    },
    {
     "data": {
      "application/vnd.jupyter.widget-view+json": {
       "model_id": "ff1a7f0ee6534e029ce1d97a3a0947c6",
       "version_major": 2,
       "version_minor": 0
      },
      "text/plain": [
       "HBox(children=(FloatProgress(value=1.0, bar_style='info', max=1.0), HTML(value='')))"
      ]
     },
     "metadata": {},
     "output_type": "display_data"
    },
    {
     "data": {
      "application/vnd.jupyter.widget-view+json": {
       "model_id": "8dbc31e7d15b4929b085b1ba6351979d",
       "version_major": 2,
       "version_minor": 0
      },
      "text/plain": [
       "HBox(children=(FloatProgress(value=1.0, bar_style='info', max=1.0), HTML(value='')))"
      ]
     },
     "metadata": {},
     "output_type": "display_data"
    },
    {
     "data": {
      "application/vnd.jupyter.widget-view+json": {
       "model_id": "f84c2683763e428f80f148c81e9c7197",
       "version_major": 2,
       "version_minor": 0
      },
      "text/plain": [
       "HBox(children=(FloatProgress(value=1.0, bar_style='info', max=1.0), HTML(value='')))"
      ]
     },
     "metadata": {},
     "output_type": "display_data"
    },
    {
     "data": {
      "application/vnd.jupyter.widget-view+json": {
       "model_id": "c3d6c33cdab844d69dd780dfb88d4fc4",
       "version_major": 2,
       "version_minor": 0
      },
      "text/plain": [
       "HBox(children=(FloatProgress(value=1.0, bar_style='info', max=1.0), HTML(value='')))"
      ]
     },
     "metadata": {},
     "output_type": "display_data"
    },
    {
     "data": {
      "application/vnd.jupyter.widget-view+json": {
       "model_id": "d47ba1db0cc04a58ae305752142c2377",
       "version_major": 2,
       "version_minor": 0
      },
      "text/plain": [
       "HBox(children=(FloatProgress(value=1.0, bar_style='info', max=1.0), HTML(value='')))"
      ]
     },
     "metadata": {},
     "output_type": "display_data"
    },
    {
     "data": {
      "application/vnd.jupyter.widget-view+json": {
       "model_id": "6f7a9bd629cf43bf9a1a8b58221accd2",
       "version_major": 2,
       "version_minor": 0
      },
      "text/plain": [
       "HBox(children=(FloatProgress(value=1.0, bar_style='info', max=1.0), HTML(value='')))"
      ]
     },
     "metadata": {},
     "output_type": "display_data"
    },
    {
     "data": {
      "application/vnd.jupyter.widget-view+json": {
       "model_id": "4fe354fe5c874a669f90644074ad94a5",
       "version_major": 2,
       "version_minor": 0
      },
      "text/plain": [
       "HBox(children=(FloatProgress(value=1.0, bar_style='info', max=1.0), HTML(value='')))"
      ]
     },
     "metadata": {},
     "output_type": "display_data"
    },
    {
     "data": {
      "application/vnd.jupyter.widget-view+json": {
       "model_id": "b1d4ebb638fb4a3b8cd3eeb57e22bded",
       "version_major": 2,
       "version_minor": 0
      },
      "text/plain": [
       "HBox(children=(FloatProgress(value=1.0, bar_style='info', max=1.0), HTML(value='')))"
      ]
     },
     "metadata": {},
     "output_type": "display_data"
    },
    {
     "data": {
      "application/vnd.jupyter.widget-view+json": {
       "model_id": "0853a3848ef447028441c7f84c738b70",
       "version_major": 2,
       "version_minor": 0
      },
      "text/plain": [
       "HBox(children=(FloatProgress(value=1.0, bar_style='info', max=1.0), HTML(value='')))"
      ]
     },
     "metadata": {},
     "output_type": "display_data"
    },
    {
     "data": {
      "application/vnd.jupyter.widget-view+json": {
       "model_id": "38ac633d4eb645c1a248c8bbc910e0ed",
       "version_major": 2,
       "version_minor": 0
      },
      "text/plain": [
       "HBox(children=(FloatProgress(value=1.0, bar_style='info', max=1.0), HTML(value='')))"
      ]
     },
     "metadata": {},
     "output_type": "display_data"
    },
    {
     "data": {
      "application/vnd.jupyter.widget-view+json": {
       "model_id": "7c7a15ea82934149befb006f8ddab6ea",
       "version_major": 2,
       "version_minor": 0
      },
      "text/plain": [
       "HBox(children=(FloatProgress(value=1.0, bar_style='info', max=1.0), HTML(value='')))"
      ]
     },
     "metadata": {},
     "output_type": "display_data"
    },
    {
     "data": {
      "application/vnd.jupyter.widget-view+json": {
       "model_id": "895155ccda394ae891e3b300ba41adcd",
       "version_major": 2,
       "version_minor": 0
      },
      "text/plain": [
       "HBox(children=(FloatProgress(value=1.0, bar_style='info', max=1.0), HTML(value='')))"
      ]
     },
     "metadata": {},
     "output_type": "display_data"
    },
    {
     "data": {
      "application/vnd.jupyter.widget-view+json": {
       "model_id": "e256dd4bb87e41268d6b296fa7684c35",
       "version_major": 2,
       "version_minor": 0
      },
      "text/plain": [
       "HBox(children=(FloatProgress(value=1.0, bar_style='info', max=1.0), HTML(value='')))"
      ]
     },
     "metadata": {},
     "output_type": "display_data"
    },
    {
     "data": {
      "application/vnd.jupyter.widget-view+json": {
       "model_id": "e2e03e99e4f04209809e0b892a39c34e",
       "version_major": 2,
       "version_minor": 0
      },
      "text/plain": [
       "HBox(children=(FloatProgress(value=1.0, bar_style='info', max=1.0), HTML(value='')))"
      ]
     },
     "metadata": {},
     "output_type": "display_data"
    },
    {
     "data": {
      "application/vnd.jupyter.widget-view+json": {
       "model_id": "6758b9acb5db47ffb00be6caac0430e4",
       "version_major": 2,
       "version_minor": 0
      },
      "text/plain": [
       "HBox(children=(FloatProgress(value=1.0, bar_style='info', max=1.0), HTML(value='')))"
      ]
     },
     "metadata": {},
     "output_type": "display_data"
    },
    {
     "data": {
      "application/vnd.jupyter.widget-view+json": {
       "model_id": "08791b2e433a48508cd9e5a8b804eb8f",
       "version_major": 2,
       "version_minor": 0
      },
      "text/plain": [
       "HBox(children=(FloatProgress(value=1.0, bar_style='info', max=1.0), HTML(value='')))"
      ]
     },
     "metadata": {},
     "output_type": "display_data"
    },
    {
     "data": {
      "application/vnd.jupyter.widget-view+json": {
       "model_id": "33430cc3bc5f43f5859f1a132bd07939",
       "version_major": 2,
       "version_minor": 0
      },
      "text/plain": [
       "HBox(children=(FloatProgress(value=1.0, bar_style='info', max=1.0), HTML(value='')))"
      ]
     },
     "metadata": {},
     "output_type": "display_data"
    },
    {
     "data": {
      "application/vnd.jupyter.widget-view+json": {
       "model_id": "db89118c13ce4a3494f0032607b64358",
       "version_major": 2,
       "version_minor": 0
      },
      "text/plain": [
       "HBox(children=(FloatProgress(value=1.0, bar_style='info', max=1.0), HTML(value='')))"
      ]
     },
     "metadata": {},
     "output_type": "display_data"
    },
    {
     "data": {
      "application/vnd.jupyter.widget-view+json": {
       "model_id": "d5eb87692ba7444ea967a35322859294",
       "version_major": 2,
       "version_minor": 0
      },
      "text/plain": [
       "HBox(children=(FloatProgress(value=1.0, bar_style='info', max=1.0), HTML(value='')))"
      ]
     },
     "metadata": {},
     "output_type": "display_data"
    },
    {
     "data": {
      "application/vnd.jupyter.widget-view+json": {
       "model_id": "6abf09f757c84745b171940307cf945f",
       "version_major": 2,
       "version_minor": 0
      },
      "text/plain": [
       "HBox(children=(FloatProgress(value=1.0, bar_style='info', max=1.0), HTML(value='')))"
      ]
     },
     "metadata": {},
     "output_type": "display_data"
    },
    {
     "data": {
      "application/vnd.jupyter.widget-view+json": {
       "model_id": "e416f870139c456da2854658f6045b3b",
       "version_major": 2,
       "version_minor": 0
      },
      "text/plain": [
       "HBox(children=(FloatProgress(value=1.0, bar_style='info', max=1.0), HTML(value='')))"
      ]
     },
     "metadata": {},
     "output_type": "display_data"
    },
    {
     "data": {
      "application/vnd.jupyter.widget-view+json": {
       "model_id": "9f0ce939dc6e44648f10aa82487470d1",
       "version_major": 2,
       "version_minor": 0
      },
      "text/plain": [
       "HBox(children=(FloatProgress(value=1.0, bar_style='info', max=1.0), HTML(value='')))"
      ]
     },
     "metadata": {},
     "output_type": "display_data"
    },
    {
     "data": {
      "application/vnd.jupyter.widget-view+json": {
       "model_id": "1d7665e1f37340638265584317213cb1",
       "version_major": 2,
       "version_minor": 0
      },
      "text/plain": [
       "HBox(children=(FloatProgress(value=1.0, bar_style='info', max=1.0), HTML(value='')))"
      ]
     },
     "metadata": {},
     "output_type": "display_data"
    },
    {
     "data": {
      "application/vnd.jupyter.widget-view+json": {
       "model_id": "8b4be7bc39db43feb3ed521dc0da5f8d",
       "version_major": 2,
       "version_minor": 0
      },
      "text/plain": [
       "HBox(children=(FloatProgress(value=1.0, bar_style='info', max=1.0), HTML(value='')))"
      ]
     },
     "metadata": {},
     "output_type": "display_data"
    },
    {
     "data": {
      "application/vnd.jupyter.widget-view+json": {
       "model_id": "197e93af59cf46df9a1dde1d3b90724a",
       "version_major": 2,
       "version_minor": 0
      },
      "text/plain": [
       "HBox(children=(FloatProgress(value=1.0, bar_style='info', max=1.0), HTML(value='')))"
      ]
     },
     "metadata": {},
     "output_type": "display_data"
    },
    {
     "data": {
      "application/vnd.jupyter.widget-view+json": {
       "model_id": "9c7b7b940f85466fbf7356bacdf4c52a",
       "version_major": 2,
       "version_minor": 0
      },
      "text/plain": [
       "HBox(children=(FloatProgress(value=1.0, bar_style='info', max=1.0), HTML(value='')))"
      ]
     },
     "metadata": {},
     "output_type": "display_data"
    },
    {
     "data": {
      "application/vnd.jupyter.widget-view+json": {
       "model_id": "97caedbd6e394addb3e921a66e7446dd",
       "version_major": 2,
       "version_minor": 0
      },
      "text/plain": [
       "HBox(children=(FloatProgress(value=1.0, bar_style='info', max=1.0), HTML(value='')))"
      ]
     },
     "metadata": {},
     "output_type": "display_data"
    },
    {
     "data": {
      "application/vnd.jupyter.widget-view+json": {
       "model_id": "e6e511ab653945eb8b5a5f4c72174a18",
       "version_major": 2,
       "version_minor": 0
      },
      "text/plain": [
       "HBox(children=(FloatProgress(value=1.0, bar_style='info', max=1.0), HTML(value='')))"
      ]
     },
     "metadata": {},
     "output_type": "display_data"
    },
    {
     "data": {
      "application/vnd.jupyter.widget-view+json": {
       "model_id": "f7888871622d4ff2b99e8a253e8cc550",
       "version_major": 2,
       "version_minor": 0
      },
      "text/plain": [
       "HBox(children=(FloatProgress(value=1.0, bar_style='info', max=1.0), HTML(value='')))"
      ]
     },
     "metadata": {},
     "output_type": "display_data"
    },
    {
     "data": {
      "application/vnd.jupyter.widget-view+json": {
       "model_id": "9a7270f7b6b3498db93e55411af9cd52",
       "version_major": 2,
       "version_minor": 0
      },
      "text/plain": [
       "HBox(children=(FloatProgress(value=1.0, bar_style='info', max=1.0), HTML(value='')))"
      ]
     },
     "metadata": {},
     "output_type": "display_data"
    },
    {
     "data": {
      "application/vnd.jupyter.widget-view+json": {
       "model_id": "d8cdcd23948d4eca9eea175f50ad2972",
       "version_major": 2,
       "version_minor": 0
      },
      "text/plain": [
       "HBox(children=(FloatProgress(value=1.0, bar_style='info', max=1.0), HTML(value='')))"
      ]
     },
     "metadata": {},
     "output_type": "display_data"
    },
    {
     "data": {
      "application/vnd.jupyter.widget-view+json": {
       "model_id": "e3dff8d0b06b4a6286dccf6cc0e2972f",
       "version_major": 2,
       "version_minor": 0
      },
      "text/plain": [
       "HBox(children=(FloatProgress(value=1.0, bar_style='info', max=1.0), HTML(value='')))"
      ]
     },
     "metadata": {},
     "output_type": "display_data"
    },
    {
     "data": {
      "application/vnd.jupyter.widget-view+json": {
       "model_id": "237c39949a8e423e9a6d138c6e97866a",
       "version_major": 2,
       "version_minor": 0
      },
      "text/plain": [
       "HBox(children=(FloatProgress(value=1.0, bar_style='info', max=1.0), HTML(value='')))"
      ]
     },
     "metadata": {},
     "output_type": "display_data"
    },
    {
     "data": {
      "application/vnd.jupyter.widget-view+json": {
       "model_id": "78e584d2fa904183b880aba51c092e96",
       "version_major": 2,
       "version_minor": 0
      },
      "text/plain": [
       "HBox(children=(FloatProgress(value=1.0, bar_style='info', max=1.0), HTML(value='')))"
      ]
     },
     "metadata": {},
     "output_type": "display_data"
    },
    {
     "data": {
      "application/vnd.jupyter.widget-view+json": {
       "model_id": "c07645db69474076b42eecbf8f4455ce",
       "version_major": 2,
       "version_minor": 0
      },
      "text/plain": [
       "HBox(children=(FloatProgress(value=1.0, bar_style='info', max=1.0), HTML(value='')))"
      ]
     },
     "metadata": {},
     "output_type": "display_data"
    },
    {
     "data": {
      "application/vnd.jupyter.widget-view+json": {
       "model_id": "58791dcf33e346608062b1d236bcff24",
       "version_major": 2,
       "version_minor": 0
      },
      "text/plain": [
       "HBox(children=(FloatProgress(value=1.0, bar_style='info', max=1.0), HTML(value='')))"
      ]
     },
     "metadata": {},
     "output_type": "display_data"
    },
    {
     "data": {
      "application/vnd.jupyter.widget-view+json": {
       "model_id": "77aca1ebdc244b0691365539f416b25a",
       "version_major": 2,
       "version_minor": 0
      },
      "text/plain": [
       "HBox(children=(FloatProgress(value=1.0, bar_style='info', max=1.0), HTML(value='')))"
      ]
     },
     "metadata": {},
     "output_type": "display_data"
    },
    {
     "data": {
      "application/vnd.jupyter.widget-view+json": {
       "model_id": "5fc49bd5840b48e795f82c8844a6451d",
       "version_major": 2,
       "version_minor": 0
      },
      "text/plain": [
       "HBox(children=(FloatProgress(value=1.0, bar_style='info', max=1.0), HTML(value='')))"
      ]
     },
     "metadata": {},
     "output_type": "display_data"
    },
    {
     "data": {
      "application/vnd.jupyter.widget-view+json": {
       "model_id": "89e5e618d0b34d4d95ea6ad4a543a24a",
       "version_major": 2,
       "version_minor": 0
      },
      "text/plain": [
       "HBox(children=(FloatProgress(value=1.0, bar_style='info', max=1.0), HTML(value='')))"
      ]
     },
     "metadata": {},
     "output_type": "display_data"
    },
    {
     "data": {
      "application/vnd.jupyter.widget-view+json": {
       "model_id": "15d4de16126d465c8c3ceddef584dfdd",
       "version_major": 2,
       "version_minor": 0
      },
      "text/plain": [
       "HBox(children=(FloatProgress(value=1.0, bar_style='info', max=1.0), HTML(value='')))"
      ]
     },
     "metadata": {},
     "output_type": "display_data"
    },
    {
     "data": {
      "application/vnd.jupyter.widget-view+json": {
       "model_id": "52f6c61f54cd4fed9ffffe478856ccdc",
       "version_major": 2,
       "version_minor": 0
      },
      "text/plain": [
       "HBox(children=(FloatProgress(value=1.0, bar_style='info', max=1.0), HTML(value='')))"
      ]
     },
     "metadata": {},
     "output_type": "display_data"
    },
    {
     "data": {
      "application/vnd.jupyter.widget-view+json": {
       "model_id": "3217830215ab4b9e8f501f736b1fdd39",
       "version_major": 2,
       "version_minor": 0
      },
      "text/plain": [
       "HBox(children=(FloatProgress(value=1.0, bar_style='info', max=1.0), HTML(value='')))"
      ]
     },
     "metadata": {},
     "output_type": "display_data"
    },
    {
     "data": {
      "application/vnd.jupyter.widget-view+json": {
       "model_id": "fca06d7b08ae4fe6925047a3807adc60",
       "version_major": 2,
       "version_minor": 0
      },
      "text/plain": [
       "HBox(children=(FloatProgress(value=1.0, bar_style='info', max=1.0), HTML(value='')))"
      ]
     },
     "metadata": {},
     "output_type": "display_data"
    },
    {
     "data": {
      "application/vnd.jupyter.widget-view+json": {
       "model_id": "88e87fd8bad547bcb40722b01c363b43",
       "version_major": 2,
       "version_minor": 0
      },
      "text/plain": [
       "HBox(children=(FloatProgress(value=1.0, bar_style='info', max=1.0), HTML(value='')))"
      ]
     },
     "metadata": {},
     "output_type": "display_data"
    },
    {
     "data": {
      "application/vnd.jupyter.widget-view+json": {
       "model_id": "9a4915cd614841e8b85bcb5c3db457a8",
       "version_major": 2,
       "version_minor": 0
      },
      "text/plain": [
       "HBox(children=(FloatProgress(value=1.0, bar_style='info', max=1.0), HTML(value='')))"
      ]
     },
     "metadata": {},
     "output_type": "display_data"
    },
    {
     "data": {
      "application/vnd.jupyter.widget-view+json": {
       "model_id": "94b692edfe7c4303b37b6a950e9dfe6c",
       "version_major": 2,
       "version_minor": 0
      },
      "text/plain": [
       "HBox(children=(FloatProgress(value=1.0, bar_style='info', max=1.0), HTML(value='')))"
      ]
     },
     "metadata": {},
     "output_type": "display_data"
    },
    {
     "data": {
      "application/vnd.jupyter.widget-view+json": {
       "model_id": "4426e9999939426b8b2d18c79b794b90",
       "version_major": 2,
       "version_minor": 0
      },
      "text/plain": [
       "HBox(children=(FloatProgress(value=1.0, bar_style='info', max=1.0), HTML(value='')))"
      ]
     },
     "metadata": {},
     "output_type": "display_data"
    },
    {
     "data": {
      "application/vnd.jupyter.widget-view+json": {
       "model_id": "b8a564ff763640fab0ec2484037f37a8",
       "version_major": 2,
       "version_minor": 0
      },
      "text/plain": [
       "HBox(children=(FloatProgress(value=1.0, bar_style='info', max=1.0), HTML(value='')))"
      ]
     },
     "metadata": {},
     "output_type": "display_data"
    },
    {
     "data": {
      "application/vnd.jupyter.widget-view+json": {
       "model_id": "95178880e82a4f1aba3340e496a0512f",
       "version_major": 2,
       "version_minor": 0
      },
      "text/plain": [
       "HBox(children=(FloatProgress(value=1.0, bar_style='info', max=1.0), HTML(value='')))"
      ]
     },
     "metadata": {},
     "output_type": "display_data"
    },
    {
     "data": {
      "application/vnd.jupyter.widget-view+json": {
       "model_id": "5ac8925479304beaa63f96cf21013367",
       "version_major": 2,
       "version_minor": 0
      },
      "text/plain": [
       "HBox(children=(FloatProgress(value=1.0, bar_style='info', max=1.0), HTML(value='')))"
      ]
     },
     "metadata": {},
     "output_type": "display_data"
    },
    {
     "data": {
      "application/vnd.jupyter.widget-view+json": {
       "model_id": "2c8d3d134e084640a6361ce95e28fbf3",
       "version_major": 2,
       "version_minor": 0
      },
      "text/plain": [
       "HBox(children=(FloatProgress(value=1.0, bar_style='info', max=1.0), HTML(value='')))"
      ]
     },
     "metadata": {},
     "output_type": "display_data"
    },
    {
     "data": {
      "application/vnd.jupyter.widget-view+json": {
       "model_id": "dba720e6dc7f41f5aa5a017c6b548c45",
       "version_major": 2,
       "version_minor": 0
      },
      "text/plain": [
       "HBox(children=(FloatProgress(value=1.0, bar_style='info', max=1.0), HTML(value='')))"
      ]
     },
     "metadata": {},
     "output_type": "display_data"
    },
    {
     "data": {
      "application/vnd.jupyter.widget-view+json": {
       "model_id": "54a6d3abef8f43c783df7018c992caea",
       "version_major": 2,
       "version_minor": 0
      },
      "text/plain": [
       "HBox(children=(FloatProgress(value=1.0, bar_style='info', max=1.0), HTML(value='')))"
      ]
     },
     "metadata": {},
     "output_type": "display_data"
    },
    {
     "data": {
      "application/vnd.jupyter.widget-view+json": {
       "model_id": "8452702308d24f59820633c40b73f76b",
       "version_major": 2,
       "version_minor": 0
      },
      "text/plain": [
       "HBox(children=(FloatProgress(value=1.0, bar_style='info', max=1.0), HTML(value='')))"
      ]
     },
     "metadata": {},
     "output_type": "display_data"
    },
    {
     "data": {
      "application/vnd.jupyter.widget-view+json": {
       "model_id": "1929997f7a2948c9996811c06f369e8f",
       "version_major": 2,
       "version_minor": 0
      },
      "text/plain": [
       "HBox(children=(FloatProgress(value=1.0, bar_style='info', max=1.0), HTML(value='')))"
      ]
     },
     "metadata": {},
     "output_type": "display_data"
    },
    {
     "data": {
      "application/vnd.jupyter.widget-view+json": {
       "model_id": "094d75f9ace6466da6daebb1a3d52623",
       "version_major": 2,
       "version_minor": 0
      },
      "text/plain": [
       "HBox(children=(FloatProgress(value=1.0, bar_style='info', max=1.0), HTML(value='')))"
      ]
     },
     "metadata": {},
     "output_type": "display_data"
    },
    {
     "data": {
      "application/vnd.jupyter.widget-view+json": {
       "model_id": "64d0cf7f953b479681dda38fb0b045a7",
       "version_major": 2,
       "version_minor": 0
      },
      "text/plain": [
       "HBox(children=(FloatProgress(value=1.0, bar_style='info', max=1.0), HTML(value='')))"
      ]
     },
     "metadata": {},
     "output_type": "display_data"
    },
    {
     "data": {
      "application/vnd.jupyter.widget-view+json": {
       "model_id": "2b7e2f58795c47d6be14ac309573a925",
       "version_major": 2,
       "version_minor": 0
      },
      "text/plain": [
       "HBox(children=(FloatProgress(value=1.0, bar_style='info', max=1.0), HTML(value='')))"
      ]
     },
     "metadata": {},
     "output_type": "display_data"
    },
    {
     "data": {
      "application/vnd.jupyter.widget-view+json": {
       "model_id": "162cd518136348a197ed093c0d9c66fc",
       "version_major": 2,
       "version_minor": 0
      },
      "text/plain": [
       "HBox(children=(FloatProgress(value=1.0, bar_style='info', max=1.0), HTML(value='')))"
      ]
     },
     "metadata": {},
     "output_type": "display_data"
    },
    {
     "data": {
      "application/vnd.jupyter.widget-view+json": {
       "model_id": "37597263db7e4c8c8d0cb54a2efdc851",
       "version_major": 2,
       "version_minor": 0
      },
      "text/plain": [
       "HBox(children=(FloatProgress(value=1.0, bar_style='info', max=1.0), HTML(value='')))"
      ]
     },
     "metadata": {},
     "output_type": "display_data"
    },
    {
     "data": {
      "application/vnd.jupyter.widget-view+json": {
       "model_id": "0a54ecb769374c43b22b68afbd2669ae",
       "version_major": 2,
       "version_minor": 0
      },
      "text/plain": [
       "HBox(children=(FloatProgress(value=1.0, bar_style='info', max=1.0), HTML(value='')))"
      ]
     },
     "metadata": {},
     "output_type": "display_data"
    },
    {
     "data": {
      "application/vnd.jupyter.widget-view+json": {
       "model_id": "9ed1e1ed108b4e0181f69bf44b505451",
       "version_major": 2,
       "version_minor": 0
      },
      "text/plain": [
       "HBox(children=(FloatProgress(value=1.0, bar_style='info', max=1.0), HTML(value='')))"
      ]
     },
     "metadata": {},
     "output_type": "display_data"
    },
    {
     "data": {
      "application/vnd.jupyter.widget-view+json": {
       "model_id": "a6ac43ab3c6f41018181827fd78a4611",
       "version_major": 2,
       "version_minor": 0
      },
      "text/plain": [
       "HBox(children=(FloatProgress(value=1.0, bar_style='info', max=1.0), HTML(value='')))"
      ]
     },
     "metadata": {},
     "output_type": "display_data"
    },
    {
     "data": {
      "application/vnd.jupyter.widget-view+json": {
       "model_id": "95145fefccbf4d1daa26ee205de1e322",
       "version_major": 2,
       "version_minor": 0
      },
      "text/plain": [
       "HBox(children=(FloatProgress(value=1.0, bar_style='info', max=1.0), HTML(value='')))"
      ]
     },
     "metadata": {},
     "output_type": "display_data"
    },
    {
     "data": {
      "application/vnd.jupyter.widget-view+json": {
       "model_id": "ad0d110f41d04d77afd2ee6b9e2acf80",
       "version_major": 2,
       "version_minor": 0
      },
      "text/plain": [
       "HBox(children=(FloatProgress(value=1.0, bar_style='info', max=1.0), HTML(value='')))"
      ]
     },
     "metadata": {},
     "output_type": "display_data"
    },
    {
     "data": {
      "application/vnd.jupyter.widget-view+json": {
       "model_id": "dc413f7e864249caa90b1ad28607d3fb",
       "version_major": 2,
       "version_minor": 0
      },
      "text/plain": [
       "HBox(children=(FloatProgress(value=1.0, bar_style='info', max=1.0), HTML(value='')))"
      ]
     },
     "metadata": {},
     "output_type": "display_data"
    },
    {
     "data": {
      "application/vnd.jupyter.widget-view+json": {
       "model_id": "d0227abbc40a45a58cf3dafda4f68d7e",
       "version_major": 2,
       "version_minor": 0
      },
      "text/plain": [
       "HBox(children=(FloatProgress(value=1.0, bar_style='info', max=1.0), HTML(value='')))"
      ]
     },
     "metadata": {},
     "output_type": "display_data"
    },
    {
     "data": {
      "application/vnd.jupyter.widget-view+json": {
       "model_id": "25d531887d2f43f7a0852c43d06dc91e",
       "version_major": 2,
       "version_minor": 0
      },
      "text/plain": [
       "HBox(children=(FloatProgress(value=1.0, bar_style='info', max=1.0), HTML(value='')))"
      ]
     },
     "metadata": {},
     "output_type": "display_data"
    },
    {
     "data": {
      "application/vnd.jupyter.widget-view+json": {
       "model_id": "3960f36b7c714acf9227055aeca3f99f",
       "version_major": 2,
       "version_minor": 0
      },
      "text/plain": [
       "HBox(children=(FloatProgress(value=1.0, bar_style='info', max=1.0), HTML(value='')))"
      ]
     },
     "metadata": {},
     "output_type": "display_data"
    },
    {
     "data": {
      "application/vnd.jupyter.widget-view+json": {
       "model_id": "6f5b7d02fb8442da82642aced6b4a436",
       "version_major": 2,
       "version_minor": 0
      },
      "text/plain": [
       "HBox(children=(FloatProgress(value=1.0, bar_style='info', max=1.0), HTML(value='')))"
      ]
     },
     "metadata": {},
     "output_type": "display_data"
    },
    {
     "data": {
      "application/vnd.jupyter.widget-view+json": {
       "model_id": "45acb0adf9674cccb305f2490e10a725",
       "version_major": 2,
       "version_minor": 0
      },
      "text/plain": [
       "HBox(children=(FloatProgress(value=1.0, bar_style='info', max=1.0), HTML(value='')))"
      ]
     },
     "metadata": {},
     "output_type": "display_data"
    },
    {
     "data": {
      "application/vnd.jupyter.widget-view+json": {
       "model_id": "26bd1e51022840178b50242b897c4b9f",
       "version_major": 2,
       "version_minor": 0
      },
      "text/plain": [
       "HBox(children=(FloatProgress(value=1.0, bar_style='info', max=1.0), HTML(value='')))"
      ]
     },
     "metadata": {},
     "output_type": "display_data"
    },
    {
     "data": {
      "application/vnd.jupyter.widget-view+json": {
       "model_id": "d496472385d64e5e8041ecd8fcc9cd0b",
       "version_major": 2,
       "version_minor": 0
      },
      "text/plain": [
       "HBox(children=(FloatProgress(value=1.0, bar_style='info', max=1.0), HTML(value='')))"
      ]
     },
     "metadata": {},
     "output_type": "display_data"
    },
    {
     "data": {
      "application/vnd.jupyter.widget-view+json": {
       "model_id": "df0345cd72b74bfe84b9efbf8b4ad85c",
       "version_major": 2,
       "version_minor": 0
      },
      "text/plain": [
       "HBox(children=(FloatProgress(value=1.0, bar_style='info', max=1.0), HTML(value='')))"
      ]
     },
     "metadata": {},
     "output_type": "display_data"
    },
    {
     "data": {
      "application/vnd.jupyter.widget-view+json": {
       "model_id": "6a7a388ccbe24a6cb438404c5542e964",
       "version_major": 2,
       "version_minor": 0
      },
      "text/plain": [
       "HBox(children=(FloatProgress(value=1.0, bar_style='info', max=1.0), HTML(value='')))"
      ]
     },
     "metadata": {},
     "output_type": "display_data"
    },
    {
     "data": {
      "application/vnd.jupyter.widget-view+json": {
       "model_id": "dab8e373f5964f048416d5dea7f1d4f0",
       "version_major": 2,
       "version_minor": 0
      },
      "text/plain": [
       "HBox(children=(FloatProgress(value=1.0, bar_style='info', max=1.0), HTML(value='')))"
      ]
     },
     "metadata": {},
     "output_type": "display_data"
    },
    {
     "data": {
      "application/vnd.jupyter.widget-view+json": {
       "model_id": "f742d54d4aa9450db36f71b369a7c0e1",
       "version_major": 2,
       "version_minor": 0
      },
      "text/plain": [
       "HBox(children=(FloatProgress(value=1.0, bar_style='info', max=1.0), HTML(value='')))"
      ]
     },
     "metadata": {},
     "output_type": "display_data"
    },
    {
     "data": {
      "application/vnd.jupyter.widget-view+json": {
       "model_id": "570459866cd046209daef45f372b9241",
       "version_major": 2,
       "version_minor": 0
      },
      "text/plain": [
       "HBox(children=(FloatProgress(value=1.0, bar_style='info', max=1.0), HTML(value='')))"
      ]
     },
     "metadata": {},
     "output_type": "display_data"
    },
    {
     "data": {
      "application/vnd.jupyter.widget-view+json": {
       "model_id": "3a1b6501f22c44a4bfe7acfbe7c9ea9e",
       "version_major": 2,
       "version_minor": 0
      },
      "text/plain": [
       "HBox(children=(FloatProgress(value=1.0, bar_style='info', max=1.0), HTML(value='')))"
      ]
     },
     "metadata": {},
     "output_type": "display_data"
    },
    {
     "data": {
      "application/vnd.jupyter.widget-view+json": {
       "model_id": "f140fcd4eb86422fa591f72977b7e1ac",
       "version_major": 2,
       "version_minor": 0
      },
      "text/plain": [
       "HBox(children=(FloatProgress(value=1.0, bar_style='info', max=1.0), HTML(value='')))"
      ]
     },
     "metadata": {},
     "output_type": "display_data"
    },
    {
     "data": {
      "application/vnd.jupyter.widget-view+json": {
       "model_id": "118a46603ba947ab8571819ca4cc3fbf",
       "version_major": 2,
       "version_minor": 0
      },
      "text/plain": [
       "HBox(children=(FloatProgress(value=1.0, bar_style='info', max=1.0), HTML(value='')))"
      ]
     },
     "metadata": {},
     "output_type": "display_data"
    },
    {
     "data": {
      "application/vnd.jupyter.widget-view+json": {
       "model_id": "ef92f781025b40d9b3c41ba7e7f0648e",
       "version_major": 2,
       "version_minor": 0
      },
      "text/plain": [
       "HBox(children=(FloatProgress(value=1.0, bar_style='info', max=1.0), HTML(value='')))"
      ]
     },
     "metadata": {},
     "output_type": "display_data"
    },
    {
     "data": {
      "application/vnd.jupyter.widget-view+json": {
       "model_id": "6d46a15b0ce24f629097c27c984c51ce",
       "version_major": 2,
       "version_minor": 0
      },
      "text/plain": [
       "HBox(children=(FloatProgress(value=1.0, bar_style='info', max=1.0), HTML(value='')))"
      ]
     },
     "metadata": {},
     "output_type": "display_data"
    },
    {
     "data": {
      "application/vnd.jupyter.widget-view+json": {
       "model_id": "642298e5fdb44c94a46a18e45fe9bcf5",
       "version_major": 2,
       "version_minor": 0
      },
      "text/plain": [
       "HBox(children=(FloatProgress(value=1.0, bar_style='info', max=1.0), HTML(value='')))"
      ]
     },
     "metadata": {},
     "output_type": "display_data"
    },
    {
     "data": {
      "application/vnd.jupyter.widget-view+json": {
       "model_id": "7eda31a5666f4edba2b55889dece98bc",
       "version_major": 2,
       "version_minor": 0
      },
      "text/plain": [
       "HBox(children=(FloatProgress(value=1.0, bar_style='info', max=1.0), HTML(value='')))"
      ]
     },
     "metadata": {},
     "output_type": "display_data"
    },
    {
     "data": {
      "application/vnd.jupyter.widget-view+json": {
       "model_id": "583c84ef76ef460c842c8f6a123ad9b1",
       "version_major": 2,
       "version_minor": 0
      },
      "text/plain": [
       "HBox(children=(FloatProgress(value=1.0, bar_style='info', max=1.0), HTML(value='')))"
      ]
     },
     "metadata": {},
     "output_type": "display_data"
    },
    {
     "data": {
      "application/vnd.jupyter.widget-view+json": {
       "model_id": "ed0537440f7b409685ba96865ec4c411",
       "version_major": 2,
       "version_minor": 0
      },
      "text/plain": [
       "HBox(children=(FloatProgress(value=1.0, bar_style='info', max=1.0), HTML(value='')))"
      ]
     },
     "metadata": {},
     "output_type": "display_data"
    },
    {
     "data": {
      "application/vnd.jupyter.widget-view+json": {
       "model_id": "b80c2e25648d40a4b8a41e43e5c69f91",
       "version_major": 2,
       "version_minor": 0
      },
      "text/plain": [
       "HBox(children=(FloatProgress(value=1.0, bar_style='info', max=1.0), HTML(value='')))"
      ]
     },
     "metadata": {},
     "output_type": "display_data"
    },
    {
     "data": {
      "application/vnd.jupyter.widget-view+json": {
       "model_id": "942841682c0f49b092bd62d8d3f68414",
       "version_major": 2,
       "version_minor": 0
      },
      "text/plain": [
       "HBox(children=(FloatProgress(value=1.0, bar_style='info', max=1.0), HTML(value='')))"
      ]
     },
     "metadata": {},
     "output_type": "display_data"
    },
    {
     "data": {
      "application/vnd.jupyter.widget-view+json": {
       "model_id": "72f94326dbfc400d8829d260e3d46116",
       "version_major": 2,
       "version_minor": 0
      },
      "text/plain": [
       "HBox(children=(FloatProgress(value=1.0, bar_style='info', max=1.0), HTML(value='')))"
      ]
     },
     "metadata": {},
     "output_type": "display_data"
    },
    {
     "data": {
      "application/vnd.jupyter.widget-view+json": {
       "model_id": "87b80940dda94491878c74d9c307c0b5",
       "version_major": 2,
       "version_minor": 0
      },
      "text/plain": [
       "HBox(children=(FloatProgress(value=1.0, bar_style='info', max=1.0), HTML(value='')))"
      ]
     },
     "metadata": {},
     "output_type": "display_data"
    },
    {
     "data": {
      "application/vnd.jupyter.widget-view+json": {
       "model_id": "f474dbd749d34560a7fff1a2b5f35003",
       "version_major": 2,
       "version_minor": 0
      },
      "text/plain": [
       "HBox(children=(FloatProgress(value=1.0, bar_style='info', max=1.0), HTML(value='')))"
      ]
     },
     "metadata": {},
     "output_type": "display_data"
    },
    {
     "data": {
      "application/vnd.jupyter.widget-view+json": {
       "model_id": "4e2cf7d060e8485d8a635e3690ee6fff",
       "version_major": 2,
       "version_minor": 0
      },
      "text/plain": [
       "HBox(children=(FloatProgress(value=1.0, bar_style='info', max=1.0), HTML(value='')))"
      ]
     },
     "metadata": {},
     "output_type": "display_data"
    },
    {
     "data": {
      "application/vnd.jupyter.widget-view+json": {
       "model_id": "4b436476be684740a377bdd2f86e91df",
       "version_major": 2,
       "version_minor": 0
      },
      "text/plain": [
       "HBox(children=(FloatProgress(value=1.0, bar_style='info', max=1.0), HTML(value='')))"
      ]
     },
     "metadata": {},
     "output_type": "display_data"
    },
    {
     "data": {
      "application/vnd.jupyter.widget-view+json": {
       "model_id": "6b32dd84d58a4849963e88a39de68d79",
       "version_major": 2,
       "version_minor": 0
      },
      "text/plain": [
       "HBox(children=(FloatProgress(value=1.0, bar_style='info', max=1.0), HTML(value='')))"
      ]
     },
     "metadata": {},
     "output_type": "display_data"
    },
    {
     "data": {
      "application/vnd.jupyter.widget-view+json": {
       "model_id": "9f410aaf28ac43dc9b96ad66acc6a944",
       "version_major": 2,
       "version_minor": 0
      },
      "text/plain": [
       "HBox(children=(FloatProgress(value=1.0, bar_style='info', max=1.0), HTML(value='')))"
      ]
     },
     "metadata": {},
     "output_type": "display_data"
    },
    {
     "data": {
      "application/vnd.jupyter.widget-view+json": {
       "model_id": "5f17bc2828ff4ea982b60f9b285f4fb6",
       "version_major": 2,
       "version_minor": 0
      },
      "text/plain": [
       "HBox(children=(FloatProgress(value=1.0, bar_style='info', max=1.0), HTML(value='')))"
      ]
     },
     "metadata": {},
     "output_type": "display_data"
    },
    {
     "data": {
      "application/vnd.jupyter.widget-view+json": {
       "model_id": "e5ebf3071c5042d98520de0b389efc67",
       "version_major": 2,
       "version_minor": 0
      },
      "text/plain": [
       "HBox(children=(FloatProgress(value=1.0, bar_style='info', max=1.0), HTML(value='')))"
      ]
     },
     "metadata": {},
     "output_type": "display_data"
    },
    {
     "data": {
      "application/vnd.jupyter.widget-view+json": {
       "model_id": "19733142ddc647fe87d3269b82c13493",
       "version_major": 2,
       "version_minor": 0
      },
      "text/plain": [
       "HBox(children=(FloatProgress(value=1.0, bar_style='info', max=1.0), HTML(value='')))"
      ]
     },
     "metadata": {},
     "output_type": "display_data"
    },
    {
     "data": {
      "application/vnd.jupyter.widget-view+json": {
       "model_id": "b506725ffa3b4566bca398122dbba618",
       "version_major": 2,
       "version_minor": 0
      },
      "text/plain": [
       "HBox(children=(FloatProgress(value=1.0, bar_style='info', max=1.0), HTML(value='')))"
      ]
     },
     "metadata": {},
     "output_type": "display_data"
    },
    {
     "data": {
      "application/vnd.jupyter.widget-view+json": {
       "model_id": "9c349f7ec5054992a5cb6b6073e6834b",
       "version_major": 2,
       "version_minor": 0
      },
      "text/plain": [
       "HBox(children=(FloatProgress(value=1.0, bar_style='info', max=1.0), HTML(value='')))"
      ]
     },
     "metadata": {},
     "output_type": "display_data"
    },
    {
     "data": {
      "application/vnd.jupyter.widget-view+json": {
       "model_id": "b1d6fbc3791d42b7a737a4c3fb42da51",
       "version_major": 2,
       "version_minor": 0
      },
      "text/plain": [
       "HBox(children=(FloatProgress(value=1.0, bar_style='info', max=1.0), HTML(value='')))"
      ]
     },
     "metadata": {},
     "output_type": "display_data"
    },
    {
     "data": {
      "application/vnd.jupyter.widget-view+json": {
       "model_id": "5bc86f77419041b0a5c1d70300c7c019",
       "version_major": 2,
       "version_minor": 0
      },
      "text/plain": [
       "HBox(children=(FloatProgress(value=1.0, bar_style='info', max=1.0), HTML(value='')))"
      ]
     },
     "metadata": {},
     "output_type": "display_data"
    },
    {
     "data": {
      "application/vnd.jupyter.widget-view+json": {
       "model_id": "bf9c496a11d54bbc8792f360159313d2",
       "version_major": 2,
       "version_minor": 0
      },
      "text/plain": [
       "HBox(children=(FloatProgress(value=1.0, bar_style='info', max=1.0), HTML(value='')))"
      ]
     },
     "metadata": {},
     "output_type": "display_data"
    },
    {
     "data": {
      "application/vnd.jupyter.widget-view+json": {
       "model_id": "6a5d11ea464449cb8dbaf00cc9db7808",
       "version_major": 2,
       "version_minor": 0
      },
      "text/plain": [
       "HBox(children=(FloatProgress(value=1.0, bar_style='info', max=1.0), HTML(value='')))"
      ]
     },
     "metadata": {},
     "output_type": "display_data"
    },
    {
     "data": {
      "application/vnd.jupyter.widget-view+json": {
       "model_id": "fe384076317c4b0eba367cdfa9852dd7",
       "version_major": 2,
       "version_minor": 0
      },
      "text/plain": [
       "HBox(children=(FloatProgress(value=1.0, bar_style='info', max=1.0), HTML(value='')))"
      ]
     },
     "metadata": {},
     "output_type": "display_data"
    },
    {
     "data": {
      "application/vnd.jupyter.widget-view+json": {
       "model_id": "5427b6682dbb40a3a304f91d1e4d30d6",
       "version_major": 2,
       "version_minor": 0
      },
      "text/plain": [
       "HBox(children=(FloatProgress(value=1.0, bar_style='info', max=1.0), HTML(value='')))"
      ]
     },
     "metadata": {},
     "output_type": "display_data"
    },
    {
     "data": {
      "application/vnd.jupyter.widget-view+json": {
       "model_id": "7b9af05c845148419456883ab5f4d052",
       "version_major": 2,
       "version_minor": 0
      },
      "text/plain": [
       "HBox(children=(FloatProgress(value=1.0, bar_style='info', max=1.0), HTML(value='')))"
      ]
     },
     "metadata": {},
     "output_type": "display_data"
    },
    {
     "data": {
      "application/vnd.jupyter.widget-view+json": {
       "model_id": "82a50d7a8f0840abba8898cd5406126b",
       "version_major": 2,
       "version_minor": 0
      },
      "text/plain": [
       "HBox(children=(FloatProgress(value=1.0, bar_style='info', max=1.0), HTML(value='')))"
      ]
     },
     "metadata": {},
     "output_type": "display_data"
    },
    {
     "data": {
      "application/vnd.jupyter.widget-view+json": {
       "model_id": "1fcf765e4de44f949a72488300502fc9",
       "version_major": 2,
       "version_minor": 0
      },
      "text/plain": [
       "HBox(children=(FloatProgress(value=1.0, bar_style='info', max=1.0), HTML(value='')))"
      ]
     },
     "metadata": {},
     "output_type": "display_data"
    },
    {
     "data": {
      "application/vnd.jupyter.widget-view+json": {
       "model_id": "010aa9b6ff3d4ab6a0ae6cc8e83726f1",
       "version_major": 2,
       "version_minor": 0
      },
      "text/plain": [
       "HBox(children=(FloatProgress(value=1.0, bar_style='info', max=1.0), HTML(value='')))"
      ]
     },
     "metadata": {},
     "output_type": "display_data"
    },
    {
     "data": {
      "application/vnd.jupyter.widget-view+json": {
       "model_id": "20ae2d16c9a84f758deb93f8d1fb3a62",
       "version_major": 2,
       "version_minor": 0
      },
      "text/plain": [
       "HBox(children=(FloatProgress(value=1.0, bar_style='info', max=1.0), HTML(value='')))"
      ]
     },
     "metadata": {},
     "output_type": "display_data"
    },
    {
     "data": {
      "application/vnd.jupyter.widget-view+json": {
       "model_id": "18880389999c40daaaed32ea425cebbe",
       "version_major": 2,
       "version_minor": 0
      },
      "text/plain": [
       "HBox(children=(FloatProgress(value=1.0, bar_style='info', max=1.0), HTML(value='')))"
      ]
     },
     "metadata": {},
     "output_type": "display_data"
    },
    {
     "data": {
      "application/vnd.jupyter.widget-view+json": {
       "model_id": "33f176acbb8a499e8d28bf45d4e438a5",
       "version_major": 2,
       "version_minor": 0
      },
      "text/plain": [
       "HBox(children=(FloatProgress(value=1.0, bar_style='info', max=1.0), HTML(value='')))"
      ]
     },
     "metadata": {},
     "output_type": "display_data"
    },
    {
     "data": {
      "application/vnd.jupyter.widget-view+json": {
       "model_id": "7b1fb0cff8f6476485884f60b6a78220",
       "version_major": 2,
       "version_minor": 0
      },
      "text/plain": [
       "HBox(children=(FloatProgress(value=1.0, bar_style='info', max=1.0), HTML(value='')))"
      ]
     },
     "metadata": {},
     "output_type": "display_data"
    },
    {
     "data": {
      "application/vnd.jupyter.widget-view+json": {
       "model_id": "cd557c61a0064a14a62d06cda38fcb29",
       "version_major": 2,
       "version_minor": 0
      },
      "text/plain": [
       "HBox(children=(FloatProgress(value=1.0, bar_style='info', max=1.0), HTML(value='')))"
      ]
     },
     "metadata": {},
     "output_type": "display_data"
    },
    {
     "data": {
      "application/vnd.jupyter.widget-view+json": {
       "model_id": "fbb61420e22942bd8b71e14b9e74ad14",
       "version_major": 2,
       "version_minor": 0
      },
      "text/plain": [
       "HBox(children=(FloatProgress(value=1.0, bar_style='info', max=1.0), HTML(value='')))"
      ]
     },
     "metadata": {},
     "output_type": "display_data"
    },
    {
     "data": {
      "application/vnd.jupyter.widget-view+json": {
       "model_id": "27fb35203b14448992703d6a5d061df2",
       "version_major": 2,
       "version_minor": 0
      },
      "text/plain": [
       "HBox(children=(FloatProgress(value=1.0, bar_style='info', max=1.0), HTML(value='')))"
      ]
     },
     "metadata": {},
     "output_type": "display_data"
    },
    {
     "data": {
      "application/vnd.jupyter.widget-view+json": {
       "model_id": "c4936a6b5be64cd694362fd4eb4b60da",
       "version_major": 2,
       "version_minor": 0
      },
      "text/plain": [
       "HBox(children=(FloatProgress(value=1.0, bar_style='info', max=1.0), HTML(value='')))"
      ]
     },
     "metadata": {},
     "output_type": "display_data"
    },
    {
     "data": {
      "application/vnd.jupyter.widget-view+json": {
       "model_id": "e8315dd7af6f4991a57cdf6c4ed25565",
       "version_major": 2,
       "version_minor": 0
      },
      "text/plain": [
       "HBox(children=(FloatProgress(value=1.0, bar_style='info', max=1.0), HTML(value='')))"
      ]
     },
     "metadata": {},
     "output_type": "display_data"
    },
    {
     "data": {
      "application/vnd.jupyter.widget-view+json": {
       "model_id": "e95ef3bfcc114f818f85799ac1168061",
       "version_major": 2,
       "version_minor": 0
      },
      "text/plain": [
       "HBox(children=(FloatProgress(value=1.0, bar_style='info', max=1.0), HTML(value='')))"
      ]
     },
     "metadata": {},
     "output_type": "display_data"
    },
    {
     "data": {
      "application/vnd.jupyter.widget-view+json": {
       "model_id": "4d309cf08b114f1c87f3e5126b4d4a7a",
       "version_major": 2,
       "version_minor": 0
      },
      "text/plain": [
       "HBox(children=(FloatProgress(value=1.0, bar_style='info', max=1.0), HTML(value='')))"
      ]
     },
     "metadata": {},
     "output_type": "display_data"
    },
    {
     "data": {
      "application/vnd.jupyter.widget-view+json": {
       "model_id": "565e1b6589e043b785015c7d00ff0e55",
       "version_major": 2,
       "version_minor": 0
      },
      "text/plain": [
       "HBox(children=(FloatProgress(value=1.0, bar_style='info', max=1.0), HTML(value='')))"
      ]
     },
     "metadata": {},
     "output_type": "display_data"
    },
    {
     "data": {
      "application/vnd.jupyter.widget-view+json": {
       "model_id": "4ea1fd0b70e342a4961005447ceb6f0b",
       "version_major": 2,
       "version_minor": 0
      },
      "text/plain": [
       "HBox(children=(FloatProgress(value=1.0, bar_style='info', max=1.0), HTML(value='')))"
      ]
     },
     "metadata": {},
     "output_type": "display_data"
    },
    {
     "data": {
      "application/vnd.jupyter.widget-view+json": {
       "model_id": "919c37a2ee4741019dd2b1a84192e442",
       "version_major": 2,
       "version_minor": 0
      },
      "text/plain": [
       "HBox(children=(FloatProgress(value=1.0, bar_style='info', max=1.0), HTML(value='')))"
      ]
     },
     "metadata": {},
     "output_type": "display_data"
    },
    {
     "data": {
      "application/vnd.jupyter.widget-view+json": {
       "model_id": "af16a0240e1346b88162d3105705f944",
       "version_major": 2,
       "version_minor": 0
      },
      "text/plain": [
       "HBox(children=(FloatProgress(value=1.0, bar_style='info', max=1.0), HTML(value='')))"
      ]
     },
     "metadata": {},
     "output_type": "display_data"
    },
    {
     "data": {
      "application/vnd.jupyter.widget-view+json": {
       "model_id": "933dd8f188d5431aacf13b60a6719186",
       "version_major": 2,
       "version_minor": 0
      },
      "text/plain": [
       "HBox(children=(FloatProgress(value=1.0, bar_style='info', max=1.0), HTML(value='')))"
      ]
     },
     "metadata": {},
     "output_type": "display_data"
    },
    {
     "data": {
      "application/vnd.jupyter.widget-view+json": {
       "model_id": "9ef1fc795fd94cce987bef3a6035ef72",
       "version_major": 2,
       "version_minor": 0
      },
      "text/plain": [
       "HBox(children=(FloatProgress(value=1.0, bar_style='info', max=1.0), HTML(value='')))"
      ]
     },
     "metadata": {},
     "output_type": "display_data"
    },
    {
     "data": {
      "application/vnd.jupyter.widget-view+json": {
       "model_id": "ed865fcd86234094a6aef1b00aabfe1b",
       "version_major": 2,
       "version_minor": 0
      },
      "text/plain": [
       "HBox(children=(FloatProgress(value=1.0, bar_style='info', max=1.0), HTML(value='')))"
      ]
     },
     "metadata": {},
     "output_type": "display_data"
    },
    {
     "data": {
      "application/vnd.jupyter.widget-view+json": {
       "model_id": "02957e25c3ba444da341ce77fbe8135d",
       "version_major": 2,
       "version_minor": 0
      },
      "text/plain": [
       "HBox(children=(FloatProgress(value=1.0, bar_style='info', max=1.0), HTML(value='')))"
      ]
     },
     "metadata": {},
     "output_type": "display_data"
    },
    {
     "data": {
      "application/vnd.jupyter.widget-view+json": {
       "model_id": "a2c16346265c400cb6f3b7a291ac71f8",
       "version_major": 2,
       "version_minor": 0
      },
      "text/plain": [
       "HBox(children=(FloatProgress(value=1.0, bar_style='info', max=1.0), HTML(value='')))"
      ]
     },
     "metadata": {},
     "output_type": "display_data"
    },
    {
     "data": {
      "application/vnd.jupyter.widget-view+json": {
       "model_id": "1d2a18f967624fe19e55769940fb962c",
       "version_major": 2,
       "version_minor": 0
      },
      "text/plain": [
       "HBox(children=(FloatProgress(value=1.0, bar_style='info', max=1.0), HTML(value='')))"
      ]
     },
     "metadata": {},
     "output_type": "display_data"
    },
    {
     "data": {
      "application/vnd.jupyter.widget-view+json": {
       "model_id": "a9fc05bcf3a64d328410d3a3d53bafdf",
       "version_major": 2,
       "version_minor": 0
      },
      "text/plain": [
       "HBox(children=(FloatProgress(value=1.0, bar_style='info', max=1.0), HTML(value='')))"
      ]
     },
     "metadata": {},
     "output_type": "display_data"
    },
    {
     "data": {
      "application/vnd.jupyter.widget-view+json": {
       "model_id": "ecbc735e8ce441ec9e4d5fd855b0f49f",
       "version_major": 2,
       "version_minor": 0
      },
      "text/plain": [
       "HBox(children=(FloatProgress(value=1.0, bar_style='info', max=1.0), HTML(value='')))"
      ]
     },
     "metadata": {},
     "output_type": "display_data"
    },
    {
     "data": {
      "application/vnd.jupyter.widget-view+json": {
       "model_id": "04bd6c94f11b4d0e9c240a62030eec9e",
       "version_major": 2,
       "version_minor": 0
      },
      "text/plain": [
       "HBox(children=(FloatProgress(value=1.0, bar_style='info', max=1.0), HTML(value='')))"
      ]
     },
     "metadata": {},
     "output_type": "display_data"
    },
    {
     "data": {
      "application/vnd.jupyter.widget-view+json": {
       "model_id": "b582600bd61844ee884559ca106fd362",
       "version_major": 2,
       "version_minor": 0
      },
      "text/plain": [
       "HBox(children=(FloatProgress(value=1.0, bar_style='info', max=1.0), HTML(value='')))"
      ]
     },
     "metadata": {},
     "output_type": "display_data"
    },
    {
     "data": {
      "application/vnd.jupyter.widget-view+json": {
       "model_id": "3f2e04c849fd43888363985c543c8de9",
       "version_major": 2,
       "version_minor": 0
      },
      "text/plain": [
       "HBox(children=(FloatProgress(value=1.0, bar_style='info', max=1.0), HTML(value='')))"
      ]
     },
     "metadata": {},
     "output_type": "display_data"
    },
    {
     "data": {
      "application/vnd.jupyter.widget-view+json": {
       "model_id": "8a4569c895a642dab86b750a2c4cc699",
       "version_major": 2,
       "version_minor": 0
      },
      "text/plain": [
       "HBox(children=(FloatProgress(value=1.0, bar_style='info', max=1.0), HTML(value='')))"
      ]
     },
     "metadata": {},
     "output_type": "display_data"
    },
    {
     "data": {
      "application/vnd.jupyter.widget-view+json": {
       "model_id": "99ba302340254489a018c33b7ee6a1dd",
       "version_major": 2,
       "version_minor": 0
      },
      "text/plain": [
       "HBox(children=(FloatProgress(value=1.0, bar_style='info', max=1.0), HTML(value='')))"
      ]
     },
     "metadata": {},
     "output_type": "display_data"
    },
    {
     "data": {
      "application/vnd.jupyter.widget-view+json": {
       "model_id": "4b4b8e3a322b4975a709d01467e10d3b",
       "version_major": 2,
       "version_minor": 0
      },
      "text/plain": [
       "HBox(children=(FloatProgress(value=1.0, bar_style='info', max=1.0), HTML(value='')))"
      ]
     },
     "metadata": {},
     "output_type": "display_data"
    },
    {
     "data": {
      "application/vnd.jupyter.widget-view+json": {
       "model_id": "68ede50761fb4858a49fe0595f259e38",
       "version_major": 2,
       "version_minor": 0
      },
      "text/plain": [
       "HBox(children=(FloatProgress(value=1.0, bar_style='info', max=1.0), HTML(value='')))"
      ]
     },
     "metadata": {},
     "output_type": "display_data"
    },
    {
     "data": {
      "application/vnd.jupyter.widget-view+json": {
       "model_id": "b19ea032874f4a6c84771b869930d79c",
       "version_major": 2,
       "version_minor": 0
      },
      "text/plain": [
       "HBox(children=(FloatProgress(value=1.0, bar_style='info', max=1.0), HTML(value='')))"
      ]
     },
     "metadata": {},
     "output_type": "display_data"
    },
    {
     "data": {
      "application/vnd.jupyter.widget-view+json": {
       "model_id": "af5a400d13e0442a86ad81caf4bdfd04",
       "version_major": 2,
       "version_minor": 0
      },
      "text/plain": [
       "HBox(children=(FloatProgress(value=1.0, bar_style='info', max=1.0), HTML(value='')))"
      ]
     },
     "metadata": {},
     "output_type": "display_data"
    },
    {
     "data": {
      "application/vnd.jupyter.widget-view+json": {
       "model_id": "e835f919d8324a819d4952886e69ec2b",
       "version_major": 2,
       "version_minor": 0
      },
      "text/plain": [
       "HBox(children=(FloatProgress(value=1.0, bar_style='info', max=1.0), HTML(value='')))"
      ]
     },
     "metadata": {},
     "output_type": "display_data"
    },
    {
     "data": {
      "application/vnd.jupyter.widget-view+json": {
       "model_id": "d93af29f0b004abc8dcac70b3b241980",
       "version_major": 2,
       "version_minor": 0
      },
      "text/plain": [
       "HBox(children=(FloatProgress(value=1.0, bar_style='info', max=1.0), HTML(value='')))"
      ]
     },
     "metadata": {},
     "output_type": "display_data"
    },
    {
     "data": {
      "application/vnd.jupyter.widget-view+json": {
       "model_id": "d059c99516fb4b879eb2eb9138d15248",
       "version_major": 2,
       "version_minor": 0
      },
      "text/plain": [
       "HBox(children=(FloatProgress(value=1.0, bar_style='info', max=1.0), HTML(value='')))"
      ]
     },
     "metadata": {},
     "output_type": "display_data"
    },
    {
     "data": {
      "application/vnd.jupyter.widget-view+json": {
       "model_id": "ee15c960efee486783d55f6f1af54f54",
       "version_major": 2,
       "version_minor": 0
      },
      "text/plain": [
       "HBox(children=(FloatProgress(value=1.0, bar_style='info', max=1.0), HTML(value='')))"
      ]
     },
     "metadata": {},
     "output_type": "display_data"
    },
    {
     "data": {
      "application/vnd.jupyter.widget-view+json": {
       "model_id": "55ed8b258dca4190acfcafad6d8718aa",
       "version_major": 2,
       "version_minor": 0
      },
      "text/plain": [
       "HBox(children=(FloatProgress(value=1.0, bar_style='info', max=1.0), HTML(value='')))"
      ]
     },
     "metadata": {},
     "output_type": "display_data"
    },
    {
     "data": {
      "application/vnd.jupyter.widget-view+json": {
       "model_id": "669eb02b4a6f4e598d643f2cbe905c99",
       "version_major": 2,
       "version_minor": 0
      },
      "text/plain": [
       "HBox(children=(FloatProgress(value=1.0, bar_style='info', max=1.0), HTML(value='')))"
      ]
     },
     "metadata": {},
     "output_type": "display_data"
    },
    {
     "data": {
      "application/vnd.jupyter.widget-view+json": {
       "model_id": "4d6526464bf04e21ab7eef504b025415",
       "version_major": 2,
       "version_minor": 0
      },
      "text/plain": [
       "HBox(children=(FloatProgress(value=1.0, bar_style='info', max=1.0), HTML(value='')))"
      ]
     },
     "metadata": {},
     "output_type": "display_data"
    },
    {
     "data": {
      "application/vnd.jupyter.widget-view+json": {
       "model_id": "a74e0693bff74ba5b82127c7bfa35cc3",
       "version_major": 2,
       "version_minor": 0
      },
      "text/plain": [
       "HBox(children=(FloatProgress(value=1.0, bar_style='info', max=1.0), HTML(value='')))"
      ]
     },
     "metadata": {},
     "output_type": "display_data"
    },
    {
     "data": {
      "application/vnd.jupyter.widget-view+json": {
       "model_id": "9eaeea03561a465d949fea837186934b",
       "version_major": 2,
       "version_minor": 0
      },
      "text/plain": [
       "HBox(children=(FloatProgress(value=1.0, bar_style='info', max=1.0), HTML(value='')))"
      ]
     },
     "metadata": {},
     "output_type": "display_data"
    },
    {
     "data": {
      "application/vnd.jupyter.widget-view+json": {
       "model_id": "24e14cc457b0476e8786875811630624",
       "version_major": 2,
       "version_minor": 0
      },
      "text/plain": [
       "HBox(children=(FloatProgress(value=1.0, bar_style='info', max=1.0), HTML(value='')))"
      ]
     },
     "metadata": {},
     "output_type": "display_data"
    },
    {
     "data": {
      "application/vnd.jupyter.widget-view+json": {
       "model_id": "5449e932535e46d880ee1c801b23e860",
       "version_major": 2,
       "version_minor": 0
      },
      "text/plain": [
       "HBox(children=(FloatProgress(value=1.0, bar_style='info', max=1.0), HTML(value='')))"
      ]
     },
     "metadata": {},
     "output_type": "display_data"
    },
    {
     "data": {
      "application/vnd.jupyter.widget-view+json": {
       "model_id": "54b1356c1fef4133babdbc0cdce2f115",
       "version_major": 2,
       "version_minor": 0
      },
      "text/plain": [
       "HBox(children=(FloatProgress(value=1.0, bar_style='info', max=1.0), HTML(value='')))"
      ]
     },
     "metadata": {},
     "output_type": "display_data"
    },
    {
     "data": {
      "application/vnd.jupyter.widget-view+json": {
       "model_id": "08ac0d0780de48b5b7f188b1bb2c3759",
       "version_major": 2,
       "version_minor": 0
      },
      "text/plain": [
       "HBox(children=(FloatProgress(value=1.0, bar_style='info', max=1.0), HTML(value='')))"
      ]
     },
     "metadata": {},
     "output_type": "display_data"
    },
    {
     "data": {
      "application/vnd.jupyter.widget-view+json": {
       "model_id": "813ef0835f3c47afad9360fe91660352",
       "version_major": 2,
       "version_minor": 0
      },
      "text/plain": [
       "HBox(children=(FloatProgress(value=1.0, bar_style='info', max=1.0), HTML(value='')))"
      ]
     },
     "metadata": {},
     "output_type": "display_data"
    },
    {
     "data": {
      "application/vnd.jupyter.widget-view+json": {
       "model_id": "9682c34d39504420be23cb0add2ec09d",
       "version_major": 2,
       "version_minor": 0
      },
      "text/plain": [
       "HBox(children=(FloatProgress(value=1.0, bar_style='info', max=1.0), HTML(value='')))"
      ]
     },
     "metadata": {},
     "output_type": "display_data"
    },
    {
     "data": {
      "application/vnd.jupyter.widget-view+json": {
       "model_id": "e7b810b8d275457a9a886c4c6aff83bd",
       "version_major": 2,
       "version_minor": 0
      },
      "text/plain": [
       "HBox(children=(FloatProgress(value=1.0, bar_style='info', max=1.0), HTML(value='')))"
      ]
     },
     "metadata": {},
     "output_type": "display_data"
    },
    {
     "data": {
      "application/vnd.jupyter.widget-view+json": {
       "model_id": "70a4b2f1596b46088e41bbb5d09d8c08",
       "version_major": 2,
       "version_minor": 0
      },
      "text/plain": [
       "HBox(children=(FloatProgress(value=1.0, bar_style='info', max=1.0), HTML(value='')))"
      ]
     },
     "metadata": {},
     "output_type": "display_data"
    },
    {
     "data": {
      "application/vnd.jupyter.widget-view+json": {
       "model_id": "6ecaa9513c144209ac01022dae8f9a9e",
       "version_major": 2,
       "version_minor": 0
      },
      "text/plain": [
       "HBox(children=(FloatProgress(value=1.0, bar_style='info', max=1.0), HTML(value='')))"
      ]
     },
     "metadata": {},
     "output_type": "display_data"
    },
    {
     "data": {
      "application/vnd.jupyter.widget-view+json": {
       "model_id": "84edff5d66024cbb841fc117e23a46a5",
       "version_major": 2,
       "version_minor": 0
      },
      "text/plain": [
       "HBox(children=(FloatProgress(value=1.0, bar_style='info', max=1.0), HTML(value='')))"
      ]
     },
     "metadata": {},
     "output_type": "display_data"
    },
    {
     "data": {
      "application/vnd.jupyter.widget-view+json": {
       "model_id": "d2a1532b3823462c83305b812e769ea6",
       "version_major": 2,
       "version_minor": 0
      },
      "text/plain": [
       "HBox(children=(FloatProgress(value=1.0, bar_style='info', max=1.0), HTML(value='')))"
      ]
     },
     "metadata": {},
     "output_type": "display_data"
    },
    {
     "data": {
      "application/vnd.jupyter.widget-view+json": {
       "model_id": "f6e475f39cbb4014ac9317c4530487a8",
       "version_major": 2,
       "version_minor": 0
      },
      "text/plain": [
       "HBox(children=(FloatProgress(value=1.0, bar_style='info', max=1.0), HTML(value='')))"
      ]
     },
     "metadata": {},
     "output_type": "display_data"
    },
    {
     "data": {
      "application/vnd.jupyter.widget-view+json": {
       "model_id": "0de765fd444a4dffad4f55fa43a3bdf6",
       "version_major": 2,
       "version_minor": 0
      },
      "text/plain": [
       "HBox(children=(FloatProgress(value=1.0, bar_style='info', max=1.0), HTML(value='')))"
      ]
     },
     "metadata": {},
     "output_type": "display_data"
    },
    {
     "data": {
      "application/vnd.jupyter.widget-view+json": {
       "model_id": "d43b8d81e0b0457d9f0f12d42d9eca32",
       "version_major": 2,
       "version_minor": 0
      },
      "text/plain": [
       "HBox(children=(FloatProgress(value=1.0, bar_style='info', max=1.0), HTML(value='')))"
      ]
     },
     "metadata": {},
     "output_type": "display_data"
    },
    {
     "data": {
      "application/vnd.jupyter.widget-view+json": {
       "model_id": "49ab4ceb0eea40a88ef41797312b0114",
       "version_major": 2,
       "version_minor": 0
      },
      "text/plain": [
       "HBox(children=(FloatProgress(value=1.0, bar_style='info', max=1.0), HTML(value='')))"
      ]
     },
     "metadata": {},
     "output_type": "display_data"
    },
    {
     "data": {
      "application/vnd.jupyter.widget-view+json": {
       "model_id": "dcf0934334e74dab9f7647759dbd75a5",
       "version_major": 2,
       "version_minor": 0
      },
      "text/plain": [
       "HBox(children=(FloatProgress(value=1.0, bar_style='info', max=1.0), HTML(value='')))"
      ]
     },
     "metadata": {},
     "output_type": "display_data"
    },
    {
     "data": {
      "application/vnd.jupyter.widget-view+json": {
       "model_id": "eb54ff160bc74fb8b307626bc2ee2cf7",
       "version_major": 2,
       "version_minor": 0
      },
      "text/plain": [
       "HBox(children=(FloatProgress(value=1.0, bar_style='info', max=1.0), HTML(value='')))"
      ]
     },
     "metadata": {},
     "output_type": "display_data"
    },
    {
     "data": {
      "application/vnd.jupyter.widget-view+json": {
       "model_id": "b478b8a999a943a5bf81a4b39d8fc885",
       "version_major": 2,
       "version_minor": 0
      },
      "text/plain": [
       "HBox(children=(FloatProgress(value=1.0, bar_style='info', max=1.0), HTML(value='')))"
      ]
     },
     "metadata": {},
     "output_type": "display_data"
    },
    {
     "data": {
      "application/vnd.jupyter.widget-view+json": {
       "model_id": "606035b0cef041b1bf5d063e07f8f56e",
       "version_major": 2,
       "version_minor": 0
      },
      "text/plain": [
       "HBox(children=(FloatProgress(value=1.0, bar_style='info', max=1.0), HTML(value='')))"
      ]
     },
     "metadata": {},
     "output_type": "display_data"
    },
    {
     "data": {
      "application/vnd.jupyter.widget-view+json": {
       "model_id": "9ce297263625464da902cc3e21c2497f",
       "version_major": 2,
       "version_minor": 0
      },
      "text/plain": [
       "HBox(children=(FloatProgress(value=1.0, bar_style='info', max=1.0), HTML(value='')))"
      ]
     },
     "metadata": {},
     "output_type": "display_data"
    },
    {
     "data": {
      "application/vnd.jupyter.widget-view+json": {
       "model_id": "5fc2d629513141c390535da94fef756d",
       "version_major": 2,
       "version_minor": 0
      },
      "text/plain": [
       "HBox(children=(FloatProgress(value=1.0, bar_style='info', max=1.0), HTML(value='')))"
      ]
     },
     "metadata": {},
     "output_type": "display_data"
    },
    {
     "data": {
      "application/vnd.jupyter.widget-view+json": {
       "model_id": "0a7f85403ae1462baebc6646d3965305",
       "version_major": 2,
       "version_minor": 0
      },
      "text/plain": [
       "HBox(children=(FloatProgress(value=1.0, bar_style='info', max=1.0), HTML(value='')))"
      ]
     },
     "metadata": {},
     "output_type": "display_data"
    },
    {
     "data": {
      "application/vnd.jupyter.widget-view+json": {
       "model_id": "9fc4dbd483e84f29878adbe84fd9b019",
       "version_major": 2,
       "version_minor": 0
      },
      "text/plain": [
       "HBox(children=(FloatProgress(value=1.0, bar_style='info', max=1.0), HTML(value='')))"
      ]
     },
     "metadata": {},
     "output_type": "display_data"
    },
    {
     "data": {
      "application/vnd.jupyter.widget-view+json": {
       "model_id": "cd30bcfed05e4483a09ce3fb698c3ddf",
       "version_major": 2,
       "version_minor": 0
      },
      "text/plain": [
       "HBox(children=(FloatProgress(value=1.0, bar_style='info', max=1.0), HTML(value='')))"
      ]
     },
     "metadata": {},
     "output_type": "display_data"
    },
    {
     "data": {
      "application/vnd.jupyter.widget-view+json": {
       "model_id": "35a796d3417943c3835b583c3190319a",
       "version_major": 2,
       "version_minor": 0
      },
      "text/plain": [
       "HBox(children=(FloatProgress(value=1.0, bar_style='info', max=1.0), HTML(value='')))"
      ]
     },
     "metadata": {},
     "output_type": "display_data"
    },
    {
     "data": {
      "application/vnd.jupyter.widget-view+json": {
       "model_id": "85de0707e3fb4cad8837cb843be86efc",
       "version_major": 2,
       "version_minor": 0
      },
      "text/plain": [
       "HBox(children=(FloatProgress(value=1.0, bar_style='info', max=1.0), HTML(value='')))"
      ]
     },
     "metadata": {},
     "output_type": "display_data"
    },
    {
     "data": {
      "application/vnd.jupyter.widget-view+json": {
       "model_id": "d3a9d74891624aac8bc8a0d3e650b043",
       "version_major": 2,
       "version_minor": 0
      },
      "text/plain": [
       "HBox(children=(FloatProgress(value=1.0, bar_style='info', max=1.0), HTML(value='')))"
      ]
     },
     "metadata": {},
     "output_type": "display_data"
    },
    {
     "data": {
      "application/vnd.jupyter.widget-view+json": {
       "model_id": "611753b51323431b877513dfc0a5dd53",
       "version_major": 2,
       "version_minor": 0
      },
      "text/plain": [
       "HBox(children=(FloatProgress(value=1.0, bar_style='info', max=1.0), HTML(value='')))"
      ]
     },
     "metadata": {},
     "output_type": "display_data"
    },
    {
     "data": {
      "application/vnd.jupyter.widget-view+json": {
       "model_id": "01a2359746754eecbdf5f4a450f55d58",
       "version_major": 2,
       "version_minor": 0
      },
      "text/plain": [
       "HBox(children=(FloatProgress(value=1.0, bar_style='info', max=1.0), HTML(value='')))"
      ]
     },
     "metadata": {},
     "output_type": "display_data"
    },
    {
     "data": {
      "application/vnd.jupyter.widget-view+json": {
       "model_id": "651495ee2e364bbe81f7fe79539084c2",
       "version_major": 2,
       "version_minor": 0
      },
      "text/plain": [
       "HBox(children=(FloatProgress(value=1.0, bar_style='info', max=1.0), HTML(value='')))"
      ]
     },
     "metadata": {},
     "output_type": "display_data"
    },
    {
     "data": {
      "application/vnd.jupyter.widget-view+json": {
       "model_id": "fe0ba675914245fe90629db7790939ae",
       "version_major": 2,
       "version_minor": 0
      },
      "text/plain": [
       "HBox(children=(FloatProgress(value=1.0, bar_style='info', max=1.0), HTML(value='')))"
      ]
     },
     "metadata": {},
     "output_type": "display_data"
    },
    {
     "data": {
      "application/vnd.jupyter.widget-view+json": {
       "model_id": "f33bfcb52d7e4a8ca5355267d52ea3e8",
       "version_major": 2,
       "version_minor": 0
      },
      "text/plain": [
       "HBox(children=(FloatProgress(value=1.0, bar_style='info', max=1.0), HTML(value='')))"
      ]
     },
     "metadata": {},
     "output_type": "display_data"
    },
    {
     "data": {
      "application/vnd.jupyter.widget-view+json": {
       "model_id": "73153a53b8e84500b6c80d697b8b7bc8",
       "version_major": 2,
       "version_minor": 0
      },
      "text/plain": [
       "HBox(children=(FloatProgress(value=1.0, bar_style='info', max=1.0), HTML(value='')))"
      ]
     },
     "metadata": {},
     "output_type": "display_data"
    },
    {
     "data": {
      "application/vnd.jupyter.widget-view+json": {
       "model_id": "d1c7d99011d4410caba632b2b117f35b",
       "version_major": 2,
       "version_minor": 0
      },
      "text/plain": [
       "HBox(children=(FloatProgress(value=1.0, bar_style='info', max=1.0), HTML(value='')))"
      ]
     },
     "metadata": {},
     "output_type": "display_data"
    },
    {
     "data": {
      "application/vnd.jupyter.widget-view+json": {
       "model_id": "ebce0f5f146c4b32b0de4b94f1e41f3e",
       "version_major": 2,
       "version_minor": 0
      },
      "text/plain": [
       "HBox(children=(FloatProgress(value=1.0, bar_style='info', max=1.0), HTML(value='')))"
      ]
     },
     "metadata": {},
     "output_type": "display_data"
    },
    {
     "data": {
      "application/vnd.jupyter.widget-view+json": {
       "model_id": "65f3f30610404d2f8a3c0e8da3e31a6e",
       "version_major": 2,
       "version_minor": 0
      },
      "text/plain": [
       "HBox(children=(FloatProgress(value=1.0, bar_style='info', max=1.0), HTML(value='')))"
      ]
     },
     "metadata": {},
     "output_type": "display_data"
    },
    {
     "data": {
      "application/vnd.jupyter.widget-view+json": {
       "model_id": "54245ff145904f9281b6876514fad0df",
       "version_major": 2,
       "version_minor": 0
      },
      "text/plain": [
       "HBox(children=(FloatProgress(value=1.0, bar_style='info', max=1.0), HTML(value='')))"
      ]
     },
     "metadata": {},
     "output_type": "display_data"
    },
    {
     "data": {
      "application/vnd.jupyter.widget-view+json": {
       "model_id": "60c5a8e9191b44bab11a71638510626e",
       "version_major": 2,
       "version_minor": 0
      },
      "text/plain": [
       "HBox(children=(FloatProgress(value=1.0, bar_style='info', max=1.0), HTML(value='')))"
      ]
     },
     "metadata": {},
     "output_type": "display_data"
    },
    {
     "data": {
      "application/vnd.jupyter.widget-view+json": {
       "model_id": "f4fc2430b16f4d7a9f483de3293257ef",
       "version_major": 2,
       "version_minor": 0
      },
      "text/plain": [
       "HBox(children=(FloatProgress(value=1.0, bar_style='info', max=1.0), HTML(value='')))"
      ]
     },
     "metadata": {},
     "output_type": "display_data"
    },
    {
     "data": {
      "application/vnd.jupyter.widget-view+json": {
       "model_id": "ddf56cbd4fc548ed85cd1ce8430da8e1",
       "version_major": 2,
       "version_minor": 0
      },
      "text/plain": [
       "HBox(children=(FloatProgress(value=1.0, bar_style='info', max=1.0), HTML(value='')))"
      ]
     },
     "metadata": {},
     "output_type": "display_data"
    },
    {
     "data": {
      "application/vnd.jupyter.widget-view+json": {
       "model_id": "3e5f6adfbab749e0ab9946fbc5d15021",
       "version_major": 2,
       "version_minor": 0
      },
      "text/plain": [
       "HBox(children=(FloatProgress(value=1.0, bar_style='info', max=1.0), HTML(value='')))"
      ]
     },
     "metadata": {},
     "output_type": "display_data"
    },
    {
     "data": {
      "application/vnd.jupyter.widget-view+json": {
       "model_id": "593172bd84434f1997cbd8df0d06b0ab",
       "version_major": 2,
       "version_minor": 0
      },
      "text/plain": [
       "HBox(children=(FloatProgress(value=1.0, bar_style='info', max=1.0), HTML(value='')))"
      ]
     },
     "metadata": {},
     "output_type": "display_data"
    },
    {
     "data": {
      "application/vnd.jupyter.widget-view+json": {
       "model_id": "bad9410e64ba463aa9f05c4c4628e051",
       "version_major": 2,
       "version_minor": 0
      },
      "text/plain": [
       "HBox(children=(FloatProgress(value=1.0, bar_style='info', max=1.0), HTML(value='')))"
      ]
     },
     "metadata": {},
     "output_type": "display_data"
    },
    {
     "data": {
      "application/vnd.jupyter.widget-view+json": {
       "model_id": "0951cd1bc1294b02ad5f301a84f8d995",
       "version_major": 2,
       "version_minor": 0
      },
      "text/plain": [
       "HBox(children=(FloatProgress(value=1.0, bar_style='info', max=1.0), HTML(value='')))"
      ]
     },
     "metadata": {},
     "output_type": "display_data"
    },
    {
     "data": {
      "application/vnd.jupyter.widget-view+json": {
       "model_id": "7fa54eaeaa064156a10942734cda9a46",
       "version_major": 2,
       "version_minor": 0
      },
      "text/plain": [
       "HBox(children=(FloatProgress(value=0.0, max=797.0), HTML(value='')))"
      ]
     },
     "metadata": {},
     "output_type": "display_data"
    },
    {
     "data": {
      "application/vnd.jupyter.widget-view+json": {
       "model_id": "d09ee918844f4df5863db0a35d15ef3f",
       "version_major": 2,
       "version_minor": 0
      },
      "text/plain": [
       "HBox(children=(FloatProgress(value=0.0, max=78.0), HTML(value='')))"
      ]
     },
     "metadata": {},
     "output_type": "display_data"
    },
    {
     "data": {
      "application/vnd.jupyter.widget-view+json": {
       "model_id": "11a0ceb3217c40d3bf85d3b20b1d1589",
       "version_major": 2,
       "version_minor": 0
      },
      "text/plain": [
       "HBox(children=(FloatProgress(value=0.0, max=438.0), HTML(value='')))"
      ]
     },
     "metadata": {},
     "output_type": "display_data"
    },
    {
     "data": {
      "application/vnd.jupyter.widget-view+json": {
       "model_id": "f2eb96d5398e4233bd6d7bd9d9e72143",
       "version_major": 2,
       "version_minor": 0
      },
      "text/plain": [
       "HBox(children=(FloatProgress(value=0.0, max=47.0), HTML(value='')))"
      ]
     },
     "metadata": {},
     "output_type": "display_data"
    },
    {
     "data": {
      "application/vnd.jupyter.widget-view+json": {
       "model_id": "8717167a78df44b190c094d6623d576e",
       "version_major": 2,
       "version_minor": 0
      },
      "text/plain": [
       "HBox(children=(FloatProgress(value=0.0, max=279.0), HTML(value='')))"
      ]
     },
     "metadata": {},
     "output_type": "display_data"
    },
    {
     "data": {
      "application/vnd.jupyter.widget-view+json": {
       "model_id": "cef0e4133a654a509515cf5118945049",
       "version_major": 2,
       "version_minor": 0
      },
      "text/plain": [
       "HBox(children=(FloatProgress(value=0.0, max=54.0), HTML(value='')))"
      ]
     },
     "metadata": {},
     "output_type": "display_data"
    },
    {
     "data": {
      "application/vnd.jupyter.widget-view+json": {
       "model_id": "1edaf7e14d24441ca0c1bfa5975519c9",
       "version_major": 2,
       "version_minor": 0
      },
      "text/plain": [
       "HBox(children=(FloatProgress(value=0.0, max=308.0), HTML(value='')))"
      ]
     },
     "metadata": {},
     "output_type": "display_data"
    },
    {
     "data": {
      "application/vnd.jupyter.widget-view+json": {
       "model_id": "75f4a1d0dbcc4fb4b61109684f304c80",
       "version_major": 2,
       "version_minor": 0
      },
      "text/plain": [
       "HBox(children=(FloatProgress(value=0.0, max=37.0), HTML(value='')))"
      ]
     },
     "metadata": {},
     "output_type": "display_data"
    },
    {
     "data": {
      "application/vnd.jupyter.widget-view+json": {
       "model_id": "cef79a8f640e4449abbf841fea368672",
       "version_major": 2,
       "version_minor": 0
      },
      "text/plain": [
       "HBox(children=(FloatProgress(value=0.0, max=281.0), HTML(value='')))"
      ]
     },
     "metadata": {},
     "output_type": "display_data"
    },
    {
     "data": {
      "application/vnd.jupyter.widget-view+json": {
       "model_id": "dc641121c9114a07bd3bd374146726e1",
       "version_major": 2,
       "version_minor": 0
      },
      "text/plain": [
       "HBox(children=(FloatProgress(value=0.0, max=37.0), HTML(value='')))"
      ]
     },
     "metadata": {},
     "output_type": "display_data"
    },
    {
     "data": {
      "application/vnd.jupyter.widget-view+json": {
       "model_id": "6e4c4b9553e7498e991d6dfdb307154f",
       "version_major": 2,
       "version_minor": 0
      },
      "text/plain": [
       "HBox(children=(FloatProgress(value=0.0, max=201.0), HTML(value='')))"
      ]
     },
     "metadata": {},
     "output_type": "display_data"
    },
    {
     "data": {
      "application/vnd.jupyter.widget-view+json": {
       "model_id": "6d09287649ae4339ba503a626396b451",
       "version_major": 2,
       "version_minor": 0
      },
      "text/plain": [
       "HBox(children=(FloatProgress(value=0.0, max=9.0), HTML(value='')))"
      ]
     },
     "metadata": {},
     "output_type": "display_data"
    },
    {
     "data": {
      "application/vnd.jupyter.widget-view+json": {
       "model_id": "0599b7a2674444bb827b2801b9b83c10",
       "version_major": 2,
       "version_minor": 0
      },
      "text/plain": [
       "HBox(children=(FloatProgress(value=0.0, max=169.0), HTML(value='')))"
      ]
     },
     "metadata": {},
     "output_type": "display_data"
    },
    {
     "data": {
      "application/vnd.jupyter.widget-view+json": {
       "model_id": "517eba87580f478aa13c42ac797a11a3",
       "version_major": 2,
       "version_minor": 0
      },
      "text/plain": [
       "HBox(children=(FloatProgress(value=0.0, max=17.0), HTML(value='')))"
      ]
     },
     "metadata": {},
     "output_type": "display_data"
    },
    {
     "data": {
      "application/vnd.jupyter.widget-view+json": {
       "model_id": "fb174140083e4d68804f9c2a334b4957",
       "version_major": 2,
       "version_minor": 0
      },
      "text/plain": [
       "HBox(children=(FloatProgress(value=0.0, max=185.0), HTML(value='')))"
      ]
     },
     "metadata": {},
     "output_type": "display_data"
    },
    {
     "data": {
      "application/vnd.jupyter.widget-view+json": {
       "model_id": "a816391bdb6f46a18e7135ad5932821a",
       "version_major": 2,
       "version_minor": 0
      },
      "text/plain": [
       "HBox(children=(FloatProgress(value=0.0, max=25.0), HTML(value='')))"
      ]
     },
     "metadata": {},
     "output_type": "display_data"
    },
    {
     "data": {
      "application/vnd.jupyter.widget-view+json": {
       "model_id": "3bc91f8f08cb4473915514fad13b8545",
       "version_major": 2,
       "version_minor": 0
      },
      "text/plain": [
       "HBox(children=(FloatProgress(value=0.0, max=93.0), HTML(value='')))"
      ]
     },
     "metadata": {},
     "output_type": "display_data"
    },
    {
     "data": {
      "application/vnd.jupyter.widget-view+json": {
       "model_id": "01515e059e7641858cf63f391b490d0a",
       "version_major": 2,
       "version_minor": 0
      },
      "text/plain": [
       "HBox(children=(FloatProgress(value=0.0, max=11.0), HTML(value='')))"
      ]
     },
     "metadata": {},
     "output_type": "display_data"
    },
    {
     "data": {
      "application/vnd.jupyter.widget-view+json": {
       "model_id": "16eac1456b8a4ccd8396ec78687b7875",
       "version_major": 2,
       "version_minor": 0
      },
      "text/plain": [
       "HBox(children=(FloatProgress(value=0.0, max=11.0), HTML(value='')))"
      ]
     },
     "metadata": {},
     "output_type": "display_data"
    },
    {
     "data": {
      "application/vnd.jupyter.widget-view+json": {
       "model_id": "70566d1cc44946ad81edfc849795a159",
       "version_major": 2,
       "version_minor": 0
      },
      "text/plain": [
       "HBox(children=(FloatProgress(value=0.0, max=5.0), HTML(value='')))"
      ]
     },
     "metadata": {},
     "output_type": "display_data"
    },
    {
     "data": {
      "application/vnd.jupyter.widget-view+json": {
       "model_id": "fcfd64cc13d54637b83f933368bcfaaf",
       "version_major": 2,
       "version_minor": 0
      },
      "text/plain": [
       "HBox(children=(FloatProgress(value=0.0, max=3.0), HTML(value='')))"
      ]
     },
     "metadata": {},
     "output_type": "display_data"
    },
    {
     "data": {
      "application/vnd.jupyter.widget-view+json": {
       "model_id": "a9c1e62d285f42f4b88604ae83342a60",
       "version_major": 2,
       "version_minor": 0
      },
      "text/plain": [
       "HBox(children=(FloatProgress(value=0.0, max=1.0), HTML(value='')))"
      ]
     },
     "metadata": {},
     "output_type": "display_data"
    },
    {
     "name": "stdout",
     "output_type": "stream",
     "text": [
      "--- 0) Total time for preprocessing: 1048.7561738491058\n",
      "\n",
      "\n",
      "\n",
      "\n",
      "--- 1) Finished unpacking preprocessed materials: 5.245208740234375e-06\n",
      "total_edges = [['S0', 'L0'], ['S0', 'L1'], ['S0', 'L2'], ['S0', 'L3'], ['S0', 'L5'], ['S0', 'L10'], ['S1', 'L1'], ['S1', 'L4'], ['S1', 'L6'], ['S1', 'L7'], ['S1', 'L8'], ['S1', 'L9']]\n",
      "--- 2) Finished creating neuron connectivity graph: 0.00014066696166992188\n",
      "Having to generate soma_meshes_face_idx because none in preprocessed data\n",
      "--- 3a) Finshed generating soma_meshes_face_idx: 1.1018457412719727\n",
      "Using Poisson Surface Reconstruction to make mesh watertight\n",
      "IN INPUT FILE VALIDATION LOOP\n",
      "LEAVING LOOP, MESH VALIDATED\n",
      "Using port = 5296\n",
      "xvfb-run -n 5296 -s \"-screen 0 800x600x24\" meshlabserver $@  -i /notebooks/neuron_mesh_tools/meshAfterPartyDev/Poisson_temp/neuron_613390.off -o /notebooks/neuron_mesh_tools/meshAfterPartyDev/Poisson_temp/neuron_613390_poisson.off -s /notebooks/neuron_mesh_tools/meshAfterPartyDev/Poisson_temp/poisson_869165.mls\n"
     ]
    },
    {
     "name": "stderr",
     "output_type": "stream",
     "text": [
      "face_normals all zero, ignoring!\n",
      "face_normals all zero, ignoring!\n",
      "face_normals all zero, ignoring!\n",
      "face_normals all zero, ignoring!\n",
      "face_normals all zero, ignoring!\n",
      "face_normals all zero, ignoring!\n",
      "face_normals all zero, ignoring!\n",
      "face_normals all zero, ignoring!\n",
      "face_normals all zero, ignoring!\n",
      "face_normals all zero, ignoring!\n",
      "face_normals all zero, ignoring!\n",
      "face_normals all zero, ignoring!\n",
      "face_normals all zero, ignoring!\n",
      "face_normals all zero, ignoring!\n",
      "face_normals all zero, ignoring!\n",
      "face_normals all zero, ignoring!\n",
      "face_normals all zero, ignoring!\n"
     ]
    },
    {
     "name": "stdout",
     "output_type": "stream",
     "text": [
      "removed temporary input file: /notebooks/neuron_mesh_tools/meshAfterPartyDev/Poisson_temp/neuron_613390.off\n",
      "removed temporary output file: /notebooks/neuron_mesh_tools/meshAfterPartyDev/Poisson_temp/neuron_613390_poisson.off\n",
      "/notebooks/neuron_mesh_tools/meshAfterPartyDev/Poisson_temp/poisson_869165.mls is being deleted....\n",
      "Using Poisson Surface Reconstruction to make mesh watertight\n",
      "IN INPUT FILE VALIDATION LOOP\n",
      "LEAVING LOOP, MESH VALIDATED\n",
      "Using port = 8374\n",
      "xvfb-run -n 8374 -s \"-screen 0 800x600x24\" meshlabserver $@  -i /notebooks/neuron_mesh_tools/meshAfterPartyDev/Poisson_temp/neuron_70836.off -o /notebooks/neuron_mesh_tools/meshAfterPartyDev/Poisson_temp/neuron_70836_poisson.off -s /notebooks/neuron_mesh_tools/meshAfterPartyDev/Poisson_temp/poisson_463763.mls\n"
     ]
    },
    {
     "name": "stderr",
     "output_type": "stream",
     "text": [
      "face_normals all zero, ignoring!\n",
      "face_normals all zero, ignoring!\n",
      "face_normals all zero, ignoring!\n",
      "face_normals all zero, ignoring!\n",
      "face_normals all zero, ignoring!\n",
      "face_normals all zero, ignoring!\n",
      "face_normals all zero, ignoring!\n",
      "face_normals all zero, ignoring!\n",
      "face_normals all zero, ignoring!\n",
      "face_normals all zero, ignoring!\n",
      "face_normals all zero, ignoring!\n",
      "face_normals all zero, ignoring!\n",
      "face_normals all zero, ignoring!\n",
      "face_normals all zero, ignoring!\n"
     ]
    },
    {
     "name": "stdout",
     "output_type": "stream",
     "text": [
      "removed temporary input file: /notebooks/neuron_mesh_tools/meshAfterPartyDev/Poisson_temp/neuron_70836.off\n",
      "removed temporary output file: /notebooks/neuron_mesh_tools/meshAfterPartyDev/Poisson_temp/neuron_70836_poisson.off\n",
      "/notebooks/neuron_mesh_tools/meshAfterPartyDev/Poisson_temp/poisson_463763.mls is being deleted....\n",
      "--- 3) Finshed generating soma objects and adding them to concept graph: 18.776076793670654\n",
      "--- 4a) Finshed generating curr_limb_meshes_face_idx: 3.7952568531036377\n",
      "checking and resolving cycles\n",
      "No cycles to fix\n",
      "checking and resolving cycles\n",
      "No cycles to fix\n",
      "checking and resolving cycles\n",
      "There are loops to resolve and 'no_cycles' parameters set requires us to fix eliminate them\n",
      "Using mesh_widths for resolving loops\n",
      "checking and resolving cycles\n",
      "No cycles to fix\n",
      "checking and resolving cycles\n",
      "No cycles to fix\n",
      "checking and resolving cycles\n",
      "No cycles to fix\n",
      "checking and resolving cycles\n",
      "No cycles to fix\n",
      "checking and resolving cycles\n",
      "There are loops to resolve and 'no_cycles' parameters set requires us to fix eliminate them\n",
      "Using mesh_widths for resolving loops\n",
      "checking and resolving cycles\n",
      "No cycles to fix\n",
      "checking and resolving cycles\n",
      "No cycles to fix\n",
      "Concept graph size was 1 or less so returning original\n",
      "--- 4) Finshed generating Limb objects and adding them to concept graph: 0.7828550338745117\n",
      "Total time for neuron instance creation = 1073.2127935886383\n"
     ]
    }
   ],
   "source": [
    "nru = reload(nru)\n",
    "neuron = reload(neuron)\n",
    "double_neuron = neuron.Neuron(\n",
    "    mesh=double_soma_neuron,\n",
    "    segment_id=segment_id,\n",
    "    description=description\n",
    "                         )"
   ]
  },
  {
   "cell_type": "code",
   "execution_count": 88,
   "metadata": {},
   "outputs": [
    {
     "data": {
      "text/plain": [
       "<neuron.Neuron at 0x7f01e9a02e48>"
      ]
     },
     "execution_count": 88,
     "metadata": {},
     "output_type": "execute_result"
    }
   ],
   "source": [
    "double_neuron"
   ]
  },
  {
   "cell_type": "markdown",
   "metadata": {},
   "source": [
    "# A) Compressing a Neuron"
   ]
  },
  {
   "cell_type": "code",
   "execution_count": 89,
   "metadata": {},
   "outputs": [
    {
     "name": "stdout",
     "output_type": "stream",
     "text": [
      "Total time for soma meshes compression = 1.1648380756378174\n",
      "Total time for insignificant_limbs,inside_pieces,non_soma_touching_meshes compression = 2.6464602947235107\n",
      "Total time for limb_meshes compression = 4.717054605484009\n",
      "    Starting Limb Correspondence Compression\n"
     ]
    },
    {
     "data": {
      "application/vnd.jupyter.widget-view+json": {
       "model_id": "55bcdd6f024e4c2580017113776dbd20",
       "version_major": 2,
       "version_minor": 0
      },
      "text/plain": [
       "HBox(children=(FloatProgress(value=0.0, max=78.0), HTML(value='')))"
      ]
     },
     "metadata": {},
     "output_type": "display_data"
    },
    {
     "name": "stdout",
     "output_type": "stream",
     "text": [
      "\n"
     ]
    },
    {
     "data": {
      "application/vnd.jupyter.widget-view+json": {
       "model_id": "48464b2c1de64a728e05fe8ddea18bbf",
       "version_major": 2,
       "version_minor": 0
      },
      "text/plain": [
       "HBox(children=(FloatProgress(value=0.0, max=47.0), HTML(value='')))"
      ]
     },
     "metadata": {},
     "output_type": "display_data"
    },
    {
     "name": "stdout",
     "output_type": "stream",
     "text": [
      "\n"
     ]
    },
    {
     "data": {
      "application/vnd.jupyter.widget-view+json": {
       "model_id": "e6d0ba26c3094a129e5febf6c5bd20c0",
       "version_major": 2,
       "version_minor": 0
      },
      "text/plain": [
       "HBox(children=(FloatProgress(value=0.0, max=54.0), HTML(value='')))"
      ]
     },
     "metadata": {},
     "output_type": "display_data"
    },
    {
     "name": "stdout",
     "output_type": "stream",
     "text": [
      "\n"
     ]
    },
    {
     "data": {
      "application/vnd.jupyter.widget-view+json": {
       "model_id": "b50c8a403c2344ecbae0c58801fae454",
       "version_major": 2,
       "version_minor": 0
      },
      "text/plain": [
       "HBox(children=(FloatProgress(value=0.0, max=37.0), HTML(value='')))"
      ]
     },
     "metadata": {},
     "output_type": "display_data"
    },
    {
     "name": "stdout",
     "output_type": "stream",
     "text": [
      "\n"
     ]
    },
    {
     "data": {
      "application/vnd.jupyter.widget-view+json": {
       "model_id": "cbac9995207543fbaad155ede6bb2728",
       "version_major": 2,
       "version_minor": 0
      },
      "text/plain": [
       "HBox(children=(FloatProgress(value=0.0, max=37.0), HTML(value='')))"
      ]
     },
     "metadata": {},
     "output_type": "display_data"
    },
    {
     "name": "stdout",
     "output_type": "stream",
     "text": [
      "\n"
     ]
    },
    {
     "data": {
      "application/vnd.jupyter.widget-view+json": {
       "model_id": "5be7ad2e43b54bb686981f523169c798",
       "version_major": 2,
       "version_minor": 0
      },
      "text/plain": [
       "HBox(children=(FloatProgress(value=0.0, max=9.0), HTML(value='')))"
      ]
     },
     "metadata": {},
     "output_type": "display_data"
    },
    {
     "name": "stdout",
     "output_type": "stream",
     "text": [
      "\n"
     ]
    },
    {
     "data": {
      "application/vnd.jupyter.widget-view+json": {
       "model_id": "f43ae20cd3fd4e91b45ab40347a578b2",
       "version_major": 2,
       "version_minor": 0
      },
      "text/plain": [
       "HBox(children=(FloatProgress(value=0.0, max=17.0), HTML(value='')))"
      ]
     },
     "metadata": {},
     "output_type": "display_data"
    },
    {
     "name": "stdout",
     "output_type": "stream",
     "text": [
      "\n"
     ]
    },
    {
     "data": {
      "application/vnd.jupyter.widget-view+json": {
       "model_id": "006cb632c287401cbcb70f4b27ce30e4",
       "version_major": 2,
       "version_minor": 0
      },
      "text/plain": [
       "HBox(children=(FloatProgress(value=0.0, max=25.0), HTML(value='')))"
      ]
     },
     "metadata": {},
     "output_type": "display_data"
    },
    {
     "name": "stdout",
     "output_type": "stream",
     "text": [
      "\n"
     ]
    },
    {
     "data": {
      "application/vnd.jupyter.widget-view+json": {
       "model_id": "00cf18b7c6cf4dc59fbba1d1a8843056",
       "version_major": 2,
       "version_minor": 0
      },
      "text/plain": [
       "HBox(children=(FloatProgress(value=0.0, max=11.0), HTML(value='')))"
      ]
     },
     "metadata": {},
     "output_type": "display_data"
    },
    {
     "name": "stdout",
     "output_type": "stream",
     "text": [
      "\n"
     ]
    },
    {
     "data": {
      "application/vnd.jupyter.widget-view+json": {
       "model_id": "24f657ec276b48e594ead94485f4475f",
       "version_major": 2,
       "version_minor": 0
      },
      "text/plain": [
       "HBox(children=(FloatProgress(value=0.0, max=5.0), HTML(value='')))"
      ]
     },
     "metadata": {},
     "output_type": "display_data"
    },
    {
     "name": "stdout",
     "output_type": "stream",
     "text": [
      "\n"
     ]
    },
    {
     "data": {
      "application/vnd.jupyter.widget-view+json": {
       "model_id": "8bc61e07ea784531954fbf503e08b10d",
       "version_major": 2,
       "version_minor": 0
      },
      "text/plain": [
       "HBox(children=(FloatProgress(value=0.0, max=1.0), HTML(value='')))"
      ]
     },
     "metadata": {},
     "output_type": "display_data"
    },
    {
     "name": "stdout",
     "output_type": "stream",
     "text": [
      "\n",
      "Total time for new_limb_correspondence compression = 46.422938108444214\n",
      "Total time for compression = 54.95225715637207\n",
      "Saved object at /notebooks/neuron_mesh_tools/meshAfterPartyDev/test_pickle/12345_2_somas_with_merge.pbz2\n",
      "File size is 3.475121 MB\n",
      "\n",
      "\n",
      "---Finished outputing neuron at location: /notebooks/neuron_mesh_tools/meshAfterPartyDev/test_pickle/12345_2_somas_with_merge---\n"
     ]
    }
   ],
   "source": [
    "# Rerunning compression analysis on interneurons\n",
    "import neuron_utils as nru\n",
    "su = reload(su)\n",
    "nru = reload(nru)\n",
    "location=Path(\"test_pickle\")\n",
    "\n",
    "nru.save_compressed_neuron(double_neuron,output_folder=location)"
   ]
  },
  {
   "cell_type": "markdown",
   "metadata": {},
   "source": [
    "# Decompressing a Neuron"
   ]
  },
  {
   "cell_type": "code",
   "execution_count": 94,
   "metadata": {},
   "outputs": [
    {
     "data": {
      "application/vnd.jupyter.widget-view+json": {
       "model_id": "6d2705e1d9c44eaebbad9798e9de746d",
       "version_major": 2,
       "version_minor": 0
      },
      "text/plain": [
       "HBox(children=(FloatProgress(value=0.0, max=78.0), HTML(value='')))"
      ]
     },
     "metadata": {},
     "output_type": "display_data"
    },
    {
     "name": "stdout",
     "output_type": "stream",
     "text": [
      "\n"
     ]
    },
    {
     "data": {
      "application/vnd.jupyter.widget-view+json": {
       "model_id": "ca9864d75a7d4f77850f89a7325c2382",
       "version_major": 2,
       "version_minor": 0
      },
      "text/plain": [
       "HBox(children=(FloatProgress(value=0.0, max=47.0), HTML(value='')))"
      ]
     },
     "metadata": {},
     "output_type": "display_data"
    },
    {
     "name": "stdout",
     "output_type": "stream",
     "text": [
      "\n"
     ]
    },
    {
     "data": {
      "application/vnd.jupyter.widget-view+json": {
       "model_id": "4bd7d6ccf8534676bd3c2f6c5cf886a8",
       "version_major": 2,
       "version_minor": 0
      },
      "text/plain": [
       "HBox(children=(FloatProgress(value=0.0, max=54.0), HTML(value='')))"
      ]
     },
     "metadata": {},
     "output_type": "display_data"
    },
    {
     "name": "stdout",
     "output_type": "stream",
     "text": [
      "\n"
     ]
    },
    {
     "data": {
      "application/vnd.jupyter.widget-view+json": {
       "model_id": "9a5bfc4b8fbd4329b4c0487b8d04945d",
       "version_major": 2,
       "version_minor": 0
      },
      "text/plain": [
       "HBox(children=(FloatProgress(value=0.0, max=37.0), HTML(value='')))"
      ]
     },
     "metadata": {},
     "output_type": "display_data"
    },
    {
     "name": "stdout",
     "output_type": "stream",
     "text": [
      "\n"
     ]
    },
    {
     "data": {
      "application/vnd.jupyter.widget-view+json": {
       "model_id": "dd0e983265454bc682afce4eab2c1b8d",
       "version_major": 2,
       "version_minor": 0
      },
      "text/plain": [
       "HBox(children=(FloatProgress(value=0.0, max=37.0), HTML(value='')))"
      ]
     },
     "metadata": {},
     "output_type": "display_data"
    },
    {
     "name": "stdout",
     "output_type": "stream",
     "text": [
      "\n"
     ]
    },
    {
     "data": {
      "application/vnd.jupyter.widget-view+json": {
       "model_id": "58f201170501430fae402a4e663444cf",
       "version_major": 2,
       "version_minor": 0
      },
      "text/plain": [
       "HBox(children=(FloatProgress(value=0.0, max=9.0), HTML(value='')))"
      ]
     },
     "metadata": {},
     "output_type": "display_data"
    },
    {
     "name": "stdout",
     "output_type": "stream",
     "text": [
      "\n"
     ]
    },
    {
     "data": {
      "application/vnd.jupyter.widget-view+json": {
       "model_id": "6fb8c82c4fbe43bb9aa6954d5cf0f1ce",
       "version_major": 2,
       "version_minor": 0
      },
      "text/plain": [
       "HBox(children=(FloatProgress(value=0.0, max=17.0), HTML(value='')))"
      ]
     },
     "metadata": {},
     "output_type": "display_data"
    },
    {
     "name": "stdout",
     "output_type": "stream",
     "text": [
      "\n"
     ]
    },
    {
     "data": {
      "application/vnd.jupyter.widget-view+json": {
       "model_id": "580127ffee40412193cfa08c609fc37e",
       "version_major": 2,
       "version_minor": 0
      },
      "text/plain": [
       "HBox(children=(FloatProgress(value=0.0, max=25.0), HTML(value='')))"
      ]
     },
     "metadata": {},
     "output_type": "display_data"
    },
    {
     "name": "stdout",
     "output_type": "stream",
     "text": [
      "\n"
     ]
    },
    {
     "data": {
      "application/vnd.jupyter.widget-view+json": {
       "model_id": "64d0243ce66a4397921339ba9731910a",
       "version_major": 2,
       "version_minor": 0
      },
      "text/plain": [
       "HBox(children=(FloatProgress(value=0.0, max=11.0), HTML(value='')))"
      ]
     },
     "metadata": {},
     "output_type": "display_data"
    },
    {
     "name": "stdout",
     "output_type": "stream",
     "text": [
      "\n"
     ]
    },
    {
     "data": {
      "application/vnd.jupyter.widget-view+json": {
       "model_id": "3e4b581f20b64e04a6093a1214083eec",
       "version_major": 2,
       "version_minor": 0
      },
      "text/plain": [
       "HBox(children=(FloatProgress(value=0.0, max=5.0), HTML(value='')))"
      ]
     },
     "metadata": {},
     "output_type": "display_data"
    },
    {
     "name": "stdout",
     "output_type": "stream",
     "text": [
      "\n"
     ]
    },
    {
     "data": {
      "application/vnd.jupyter.widget-view+json": {
       "model_id": "e72e6911ad6945fd9c7656aedd3e6168",
       "version_major": 2,
       "version_minor": 0
      },
      "text/plain": [
       "HBox(children=(FloatProgress(value=0.0, max=1.0), HTML(value='')))"
      ]
     },
     "metadata": {},
     "output_type": "display_data"
    },
    {
     "name": "stdout",
     "output_type": "stream",
     "text": [
      "\n",
      "\n",
      "\n",
      "------Working on limb 0 -------\n",
      "inside loop len(curr_limb_divided_meshes) = 78 len(curr_limb_divided_skeletons) = 78\n",
      "--- Working on soma_idx: 0----\n",
      "Total time for filtering periphery meshes = 0.4163217544555664\n",
      "Total time for mesh mapping: 0.430086612701416\n",
      "Total time for mesh mapping: 0.1624603271484375\n",
      "Total time for mesh mapping: 0.11876749992370605\n",
      "Total time for mesh mapping: 0.15153026580810547\n",
      "touching_pieces = [51 52]\n",
      "Total time for mesh connectivity = 0.8848202228546143\n",
      "**More than one touching point to soma, touching_pieces = {touching_pieces}**\n",
      "winning_piece_idx = 0\n",
      "Winning touching piece = [51]\n",
      "Touching piece endpoints = [[755012.6 950306.6 872584.4]\n",
      " [756243.  947635.  874423. ]]\n",
      "inside inner loop len(curr_limb_divided_skeletons) = 78\n",
      "closest_endpoint = [755012.6 950306.6 872584.4]\n",
      "Starting_edge inside branches_to_conept = [[755012.6 950306.6 872584.4]\n",
      " [756243.  947635.  874423. ]]\n",
      "At the start, starting_node (in terms of the skeleton, that shouldn't match the starting edge) = [52]\n",
      "printing out current edge:\n",
      "[[755012.6 950306.6 872584.4]\n",
      " [756243.  947635.  874423. ]]\n",
      "edge_endpoints_to_process was empty so exiting loop after 78 iterations\n",
      "starting_node in concept map (that should match the starting edge) = 51\n",
      "Total time for branches to concept conversion = 0.34775853157043457\n",
      "\n",
      "recovered_touching_piece = [51]\n",
      "After concept mapping size = 78\n",
      "Local time for concept mapping = 1.8330321311950684\n",
      "\n",
      "\n",
      "------Working on limb 1 -------\n",
      "inside loop len(curr_limb_divided_meshes) = 47 len(curr_limb_divided_skeletons) = 47\n",
      "Merge limb detected\n",
      "--- Working on soma_idx: 0----\n",
      "Total time for filtering periphery meshes = 0.23253107070922852\n",
      "Total time for mesh mapping: 0.1887366771697998\n",
      "touching_pieces = [11]\n",
      "Total time for mesh connectivity = 0.19978666305541992\n",
      "Touching piece endpoints = [[763385.6 961419.9 879647.8]\n",
      " [783976.  967442.  880627. ]]\n",
      "inside inner loop len(curr_limb_divided_skeletons) = 47\n",
      "closest_endpoint = [763385.6 961419.9 879647.8]\n",
      "Starting_edge inside branches_to_conept = [[763385.6 961419.9 879647.8]\n",
      " [783976.  967442.  880627. ]]\n",
      "At the start, starting_node (in terms of the skeleton, that shouldn't match the starting edge) = [12]\n",
      "printing out current edge:\n",
      "[[763385.6 961419.9 879647.8]\n",
      " [783976.  967442.  880627. ]]\n",
      "edge_endpoints_to_process was empty so exiting loop after 47 iterations\n",
      "starting_node in concept map (that should match the starting edge) = 11\n",
      "Total time for branches to concept conversion = 0.2349550724029541\n",
      "\n",
      "recovered_touching_piece = [11]\n",
      "After concept mapping size = 47\n",
      "--- Working on soma_idx: 1----\n",
      "Total time for filtering periphery meshes = 0.1776261329650879\n",
      "Total time for mesh mapping: 0.6340687274932861\n",
      "Total time for mesh mapping: 0.17261099815368652\n",
      "touching_pieces = [36]\n",
      "Total time for mesh connectivity = 0.8189401626586914\n",
      "Touching piece endpoints = [[847251.  999127.  861952. ]\n",
      " [857494.2 996403.1 860228.6]]\n",
      "inside inner loop len(curr_limb_divided_skeletons) = 47\n",
      "closest_endpoint = [857494.2 996403.1 860228.6]\n",
      "Starting_edge inside branches_to_conept = [[847251.  999127.  861952. ]\n",
      " [857494.2 996403.1 860228.6]]\n",
      "At the start, starting_node (in terms of the skeleton, that shouldn't match the starting edge) = [42]\n",
      "printing out current edge:\n",
      "[[857494.2 996403.1 860228.6]\n",
      " [847251.  999127.  861952. ]]\n",
      "edge_endpoints_to_process was empty so exiting loop after 47 iterations\n",
      "starting_node in concept map (that should match the starting edge) = 36\n",
      "Total time for branches to concept conversion = 0.2449197769165039\n",
      "\n",
      "recovered_touching_piece = [36]\n",
      "After concept mapping size = 47\n",
      "Local time for concept mapping = 2.161196708679199\n",
      "\n",
      "\n",
      "------Working on limb 2 -------\n",
      "inside loop len(curr_limb_divided_meshes) = 54 len(curr_limb_divided_skeletons) = 54\n",
      "--- Working on soma_idx: 0----\n",
      "Total time for filtering periphery meshes = 0.23888897895812988\n",
      "Total time for mesh mapping: 0.2999396324157715\n",
      "touching_pieces = [0]\n",
      "Total time for mesh connectivity = 0.3147590160369873\n",
      "Touching piece endpoints = [[761566.2 959980.2 867122.1]\n",
      " [779301.  968613.  847596. ]]\n",
      "inside inner loop len(curr_limb_divided_skeletons) = 54\n",
      "closest_endpoint = [761566.2 959980.2 867122.1]\n",
      "Starting_edge inside branches_to_conept = [[761566.2 959980.2 867122.1]\n",
      " [779301.  968613.  847596. ]]\n",
      "There were 2 duplication nodes found\n",
      "domination_map = {37: 35, 48: 44}\n",
      "At the start, starting_node (in terms of the skeleton, that shouldn't match the starting edge) = [0]\n",
      "printing out current edge:\n",
      "[[761566.2 959980.2 867122.1]\n",
      " [779301.  968613.  847596. ]]\n",
      "edge_endpoints_to_process was empty so exiting loop after 52 iterations\n",
      "starting_node in concept map (that should match the starting edge) = 0\n",
      "Total time for branches to concept conversion = 0.18513107299804688\n",
      "\n",
      "Working on adding back the edges that were duplicates\n",
      "recovered_touching_piece = [0]\n",
      "After concept mapping size = 54\n",
      "Local time for concept mapping = 0.8434932231903076\n",
      "\n",
      "\n",
      "------Working on limb 3 -------\n",
      "inside loop len(curr_limb_divided_meshes) = 37 len(curr_limb_divided_skeletons) = 37\n",
      "--- Working on soma_idx: 0----\n",
      "Total time for filtering periphery meshes = 0.1527864933013916\n",
      "Total time for mesh mapping: 0.21655654907226562\n",
      "touching_pieces = [2]\n",
      "Total time for mesh connectivity = 0.2328803539276123\n",
      "Touching piece endpoints = [[692928. 968512. 878020.]\n",
      " [747509. 963096. 883433.]]\n",
      "inside inner loop len(curr_limb_divided_skeletons) = 37\n",
      "closest_endpoint = [747509. 963096. 883433.]\n",
      "Starting_edge inside branches_to_conept = [[692928. 968512. 878020.]\n",
      " [747509. 963096. 883433.]]\n",
      "At the start, starting_node (in terms of the skeleton, that shouldn't match the starting edge) = [24]\n",
      "printing out current edge:\n",
      "[[747509. 963096. 883433.]\n",
      " [692928. 968512. 878020.]]\n",
      "edge_endpoints_to_process was empty so exiting loop after 37 iterations\n",
      "starting_node in concept map (that should match the starting edge) = 2\n",
      "Total time for branches to concept conversion = 0.1600475311279297\n",
      "\n",
      "recovered_touching_piece = [2]\n",
      "After concept mapping size = 37\n",
      "Local time for concept mapping = 0.6391797065734863\n",
      "\n",
      "\n",
      "------Working on limb 4 -------\n",
      "inside loop len(curr_limb_divided_meshes) = 37 len(curr_limb_divided_skeletons) = 37\n",
      "--- Working on soma_idx: 1----\n",
      "Total time for filtering periphery meshes = 0.10410213470458984\n",
      "Total time for mesh mapping: 0.22724270820617676\n",
      "touching_pieces = [4]\n",
      "Total time for mesh connectivity = 0.237945556640625\n",
      "Touching piece endpoints = [[ 861630.  1002470.   879855. ]\n",
      " [ 863735.6  997336.9  867139. ]]\n",
      "inside inner loop len(curr_limb_divided_skeletons) = 37\n",
      "closest_endpoint = [863735.6 997336.9 867139. ]\n",
      "Starting_edge inside branches_to_conept = [[ 861630.  1002470.   879855. ]\n",
      " [ 863735.6  997336.9  867139. ]]\n",
      "At the start, starting_node (in terms of the skeleton, that shouldn't match the starting edge) = [7]\n",
      "printing out current edge:\n",
      "[[ 863735.6  997336.9  867139. ]\n",
      " [ 861630.  1002470.   879855. ]]\n",
      "edge_endpoints_to_process was empty so exiting loop after 37 iterations\n",
      "starting_node in concept map (that should match the starting edge) = 4\n",
      "Total time for branches to concept conversion = 0.17845559120178223\n",
      "\n",
      "recovered_touching_piece = [4]\n",
      "After concept mapping size = 37\n",
      "Local time for concept mapping = 0.6183481216430664\n",
      "\n",
      "\n",
      "------Working on limb 5 -------\n",
      "inside loop len(curr_limb_divided_meshes) = 9 len(curr_limb_divided_skeletons) = 9\n",
      "--- Working on soma_idx: 0----\n",
      "Total time for filtering periphery meshes = 0.05431818962097168\n",
      "Total time for mesh mapping: 0.2887547016143799\n",
      "touching_pieces = [5]\n",
      "Total time for mesh connectivity = 0.30074310302734375\n",
      "Touching piece endpoints = [[746571.  968760.  862705. ]\n",
      " [750819.6 962859.9 869731.4]]\n",
      "inside inner loop len(curr_limb_divided_skeletons) = 9\n",
      "closest_endpoint = [750819.6 962859.9 869731.4]\n",
      "Starting_edge inside branches_to_conept = [[746571.  968760.  862705. ]\n",
      " [750819.6 962859.9 869731.4]]\n",
      "At the start, starting_node (in terms of the skeleton, that shouldn't match the starting edge) = [6]\n",
      "printing out current edge:\n",
      "[[750819.6 962859.9 869731.4]\n",
      " [746571.  968760.  862705. ]]\n",
      "edge_endpoints_to_process was empty so exiting loop after 9 iterations\n",
      "starting_node in concept map (that should match the starting edge) = 5\n",
      "Total time for branches to concept conversion = 0.07790422439575195\n",
      "\n",
      "recovered_touching_piece = [5]\n",
      "After concept mapping size = 9\n",
      "Local time for concept mapping = 0.4776623249053955\n",
      "\n",
      "\n",
      "------Working on limb 6 -------\n",
      "inside loop len(curr_limb_divided_meshes) = 17 len(curr_limb_divided_skeletons) = 17\n",
      "--- Working on soma_idx: 1----\n"
     ]
    },
    {
     "name": "stdout",
     "output_type": "stream",
     "text": [
      "Total time for filtering periphery meshes = 0.06781387329101562\n",
      "Total time for mesh mapping: 0.13502216339111328\n",
      "touching_pieces = [12]\n",
      "Total time for mesh connectivity = 0.14386534690856934\n",
      "Touching piece endpoints = [[865028.2 988275.6 860437.9]\n",
      " [865468.  982588.  861852. ]]\n",
      "inside inner loop len(curr_limb_divided_skeletons) = 17\n",
      "closest_endpoint = [865028.2 988275.6 860437.9]\n",
      "Starting_edge inside branches_to_conept = [[865028.2 988275.6 860437.9]\n",
      " [865468.  982588.  861852. ]]\n",
      "At the start, starting_node (in terms of the skeleton, that shouldn't match the starting edge) = [10]\n",
      "printing out current edge:\n",
      "[[865028.2 988275.6 860437.9]\n",
      " [865468.  982588.  861852. ]]\n",
      "edge_endpoints_to_process was empty so exiting loop after 17 iterations\n",
      "starting_node in concept map (that should match the starting edge) = 12\n",
      "Total time for branches to concept conversion = 0.0837397575378418\n",
      "\n",
      "recovered_touching_piece = [12]\n",
      "After concept mapping size = 17\n",
      "Local time for concept mapping = 0.3415188789367676\n",
      "\n",
      "\n",
      "------Working on limb 7 -------\n",
      "inside loop len(curr_limb_divided_meshes) = 25 len(curr_limb_divided_skeletons) = 25\n",
      "--- Working on soma_idx: 1----\n",
      "Total time for filtering periphery meshes = 0.07304906845092773\n",
      "Total time for mesh mapping: 0.21011018753051758\n",
      "touching_pieces = [1]\n",
      "Total time for mesh connectivity = 0.2182154655456543\n",
      "Touching piece endpoints = [[866766.5 993457.3 851380.2]\n",
      " [876887.  993046.  841694. ]]\n",
      "inside inner loop len(curr_limb_divided_skeletons) = 25\n",
      "closest_endpoint = [866766.5 993457.3 851380.2]\n",
      "Starting_edge inside branches_to_conept = [[866766.5 993457.3 851380.2]\n",
      " [876887.  993046.  841694. ]]\n",
      "There were 2 duplication nodes found\n",
      "domination_map = {16: 15, 20: 19}\n",
      "At the start, starting_node (in terms of the skeleton, that shouldn't match the starting edge) = [1]\n",
      "printing out current edge:\n",
      "[[866766.5 993457.3 851380.2]\n",
      " [876887.  993046.  841694. ]]\n",
      "edge_endpoints_to_process was empty so exiting loop after 23 iterations\n",
      "starting_node in concept map (that should match the starting edge) = 1\n",
      "Total time for branches to concept conversion = 0.11400246620178223\n",
      "\n",
      "Working on adding back the edges that were duplicates\n",
      "recovered_touching_piece = [1]\n",
      "After concept mapping size = 25\n",
      "Local time for concept mapping = 0.45945286750793457\n",
      "\n",
      "\n",
      "------Working on limb 8 -------\n",
      "inside loop len(curr_limb_divided_meshes) = 11 len(curr_limb_divided_skeletons) = 11\n",
      "--- Working on soma_idx: 1----\n",
      "Total time for filtering periphery meshes = 0.04376792907714844\n",
      "Total time for mesh mapping: 0.24399304389953613\n",
      "touching_pieces = [10]\n",
      "Total time for mesh connectivity = 0.25426435470581055\n",
      "Touching piece endpoints = [[850563. 997744. 835107.]\n",
      " [863104. 995440. 851720.]]\n",
      "inside inner loop len(curr_limb_divided_skeletons) = 11\n",
      "closest_endpoint = [863104. 995440. 851720.]\n",
      "Starting_edge inside branches_to_conept = [[850563. 997744. 835107.]\n",
      " [863104. 995440. 851720.]]\n",
      "At the start, starting_node (in terms of the skeleton, that shouldn't match the starting edge) = [11]\n",
      "printing out current edge:\n",
      "[[863104. 995440. 851720.]\n",
      " [850563. 997744. 835107.]]\n",
      "edge_endpoints_to_process was empty so exiting loop after 11 iterations\n",
      "starting_node in concept map (that should match the starting edge) = 10\n",
      "Total time for branches to concept conversion = 0.05655527114868164\n",
      "\n",
      "recovered_touching_piece = [10]\n",
      "After concept mapping size = 11\n",
      "Local time for concept mapping = 0.3894803524017334\n",
      "\n",
      "\n",
      "------Working on limb 9 -------\n",
      "inside loop len(curr_limb_divided_meshes) = 5 len(curr_limb_divided_skeletons) = 5\n",
      "--- Working on soma_idx: 1----\n",
      "Total time for filtering periphery meshes = 0.029349327087402344\n",
      "Total time for mesh mapping: 0.2223954200744629\n",
      "touching_pieces = [1]\n",
      "Total time for mesh connectivity = 0.2357172966003418\n",
      "Touching piece endpoints = [[ 866885.   999652.1  865686.2]\n",
      " [ 873790.  1032910.   874165. ]]\n",
      "inside inner loop len(curr_limb_divided_skeletons) = 5\n",
      "closest_endpoint = [866885.  999652.1 865686.2]\n",
      "Starting_edge inside branches_to_conept = [[ 866885.   999652.1  865686.2]\n",
      " [ 873790.  1032910.   874165. ]]\n",
      "At the start, starting_node (in terms of the skeleton, that shouldn't match the starting edge) = [1]\n",
      "printing out current edge:\n",
      "[[ 866885.   999652.1  865686.2]\n",
      " [ 873790.  1032910.   874165. ]]\n",
      "edge_endpoints_to_process was empty so exiting loop after 5 iterations\n",
      "starting_node in concept map (that should match the starting edge) = 1\n",
      "Total time for branches to concept conversion = 0.02872323989868164\n",
      "\n",
      "recovered_touching_piece = [1]\n",
      "After concept mapping size = 5\n",
      "Local time for concept mapping = 0.31535863876342773\n",
      "\n",
      "\n",
      "------Working on limb 10 -------\n",
      "inside loop len(curr_limb_divided_meshes) = 1 len(curr_limb_divided_skeletons) = 1\n",
      "--- Working on soma_idx: 0----\n",
      "Total time for filtering periphery meshes = 0.009755849838256836\n",
      "Total time for mesh mapping: 0.2844977378845215\n",
      "touching_pieces = [0]\n",
      "Total time for mesh connectivity = 0.2959582805633545\n",
      "Touching piece endpoints = [[761676.4 963891.9 878090.1]\n",
      " [763913.4 972616.2 881344.8]]\n",
      "inside inner loop len(curr_limb_divided_skeletons) = 1\n",
      "closest_endpoint = [761676.4 963891.9 878090.1]\n",
      "Starting_edge inside branches_to_conept = [[761676.4 963891.9 878090.1]\n",
      " [763913.4 972616.2 881344.8]]\n",
      "recovered_touching_piece = [0]\n",
      "After concept mapping size = 1\n",
      "Local time for concept mapping = 0.31200647354125977\n",
      "\n",
      "\n",
      " ----- Total time for concept mapping = 8.39130687713623 ----\n",
      "Processing Neuorn in minimal output mode...please wait\n",
      "Total time for neuron instance creation = 24.770444631576538\n"
     ]
    }
   ],
   "source": [
    "su = reload(su)\n",
    "neuron = reload(neuron)\n",
    "nru=reload(nru)\n",
    "from tqdm.notebook import tqdm\n",
    "\n",
    "\n",
    "compressed_file = \"/notebooks/neuron_mesh_tools/meshAfterPartyDev/test_pickle/12345_2_somas_with_merge.pbz2\"\n",
    "recovered_neuron = nru.decompress_neuron(filepath=compressed_file,\n",
    "                  original_mesh=double_neuron.mesh)"
   ]
  },
  {
   "cell_type": "code",
   "execution_count": 92,
   "metadata": {},
   "outputs": [
    {
     "name": "stdout",
     "output_type": "stream",
     "text": [
      "*** Warning: mesh_face_idx didn't match (but not factored into equality comparison)\n",
      "*** Warning: mesh_face_idx didn't match (but not factored into equality comparison)\n",
      "*** Warning: mesh_face_idx didn't match (but not factored into equality comparison)\n",
      "*** Warning: mesh_face_idx didn't match (but not factored into equality comparison)\n",
      "*** Warning: mesh_face_idx didn't match (but not factored into equality comparison)\n",
      "*** Warning: mesh_face_idx didn't match (but not factored into equality comparison)\n",
      "*** Warning: mesh_face_idx didn't match (but not factored into equality comparison)\n",
      "*** Warning: mesh_face_idx didn't match (but not factored into equality comparison)\n",
      "*** Warning: mesh_face_idx didn't match (but not factored into equality comparison)\n",
      "*** Warning: mesh_face_idx didn't match (but not factored into equality comparison)\n",
      "*** Warning: mesh_face_idx didn't match (but not factored into equality comparison)\n",
      "*** Warning: mesh_face_idx didn't match (but not factored into equality comparison)\n",
      "*** Warning: mesh_face_idx didn't match (but not factored into equality comparison)\n",
      "*** Warning: mesh_face_idx didn't match (but not factored into equality comparison)\n",
      "*** Warning: mesh_face_idx didn't match (but not factored into equality comparison)\n",
      "*** Warning: mesh_face_idx didn't match (but not factored into equality comparison)\n",
      "*** Warning: mesh_face_idx didn't match (but not factored into equality comparison)\n",
      "*** Warning: mesh_face_idx didn't match (but not factored into equality comparison)\n",
      "*** Warning: mesh_face_idx didn't match (but not factored into equality comparison)\n",
      "*** Warning: mesh_face_idx didn't match (but not factored into equality comparison)\n",
      "*** Warning: mesh_face_idx didn't match (but not factored into equality comparison)\n",
      "*** Warning: mesh_face_idx didn't match (but not factored into equality comparison)\n",
      "*** Warning: mesh_face_idx didn't match (but not factored into equality comparison)\n",
      "*** Warning: mesh_face_idx didn't match (but not factored into equality comparison)\n",
      "*** Warning: mesh_face_idx didn't match (but not factored into equality comparison)\n",
      "*** Warning: mesh_face_idx didn't match (but not factored into equality comparison)\n",
      "*** Warning: mesh_face_idx didn't match (but not factored into equality comparison)\n",
      "*** Warning: mesh_face_idx didn't match (but not factored into equality comparison)\n",
      "*** Warning: mesh_face_idx didn't match (but not factored into equality comparison)\n",
      "*** Warning: mesh_face_idx didn't match (but not factored into equality comparison)\n",
      "*** Warning: mesh_face_idx didn't match (but not factored into equality comparison)\n",
      "*** Warning: mesh_face_idx didn't match (but not factored into equality comparison)\n",
      "*** Warning: mesh_face_idx didn't match (but not factored into equality comparison)\n",
      "*** Warning: mesh_face_idx didn't match (but not factored into equality comparison)\n",
      "*** Warning: mesh_face_idx didn't match (but not factored into equality comparison)\n",
      "*** Warning: mesh_face_idx didn't match (but not factored into equality comparison)\n",
      "*** Warning: mesh_face_idx didn't match (but not factored into equality comparison)\n",
      "*** Warning: mesh_face_idx didn't match (but not factored into equality comparison)\n",
      "*** Warning: mesh_face_idx didn't match (but not factored into equality comparison)\n",
      "*** Warning: mesh_face_idx didn't match (but not factored into equality comparison)\n",
      "*** Warning: mesh_face_idx didn't match (but not factored into equality comparison)\n",
      "*** Warning: mesh_face_idx didn't match (but not factored into equality comparison)\n",
      "*** Warning: mesh_face_idx didn't match (but not factored into equality comparison)\n",
      "*** Warning: mesh_face_idx didn't match (but not factored into equality comparison)\n",
      "*** Warning: mesh_face_idx didn't match (but not factored into equality comparison)\n",
      "*** Warning: mesh_face_idx didn't match (but not factored into equality comparison)\n",
      "*** Warning: mesh_face_idx didn't match (but not factored into equality comparison)\n",
      "*** Warning: mesh_face_idx didn't match (but not factored into equality comparison)\n",
      "*** Warning: mesh_face_idx didn't match (but not factored into equality comparison)\n",
      "*** Warning: mesh_face_idx didn't match (but not factored into equality comparison)\n",
      "*** Warning: mesh_face_idx didn't match (but not factored into equality comparison)\n",
      "*** Warning: mesh_face_idx didn't match (but not factored into equality comparison)\n",
      "*** Warning: mesh_face_idx didn't match (but not factored into equality comparison)\n",
      "*** Warning: mesh_face_idx didn't match (but not factored into equality comparison)\n",
      "*** Warning: mesh_face_idx didn't match (but not factored into equality comparison)\n",
      "*** Warning: mesh_face_idx didn't match (but not factored into equality comparison)\n",
      "*** Warning: mesh_face_idx didn't match (but not factored into equality comparison)\n",
      "*** Warning: mesh_face_idx didn't match (but not factored into equality comparison)\n",
      "*** Warning: mesh_face_idx didn't match (but not factored into equality comparison)\n",
      "*** Warning: mesh_face_idx didn't match (but not factored into equality comparison)\n",
      "*** Warning: mesh_face_idx didn't match (but not factored into equality comparison)\n",
      "*** Warning: mesh_face_idx didn't match (but not factored into equality comparison)\n",
      "*** Warning: mesh_face_idx didn't match (but not factored into equality comparison)\n",
      "*** Warning: mesh_face_idx didn't match (but not factored into equality comparison)\n",
      "*** Warning: mesh_face_idx didn't match (but not factored into equality comparison)\n",
      "*** Warning: mesh_face_idx didn't match (but not factored into equality comparison)\n",
      "*** Warning: mesh_face_idx didn't match (but not factored into equality comparison)\n",
      "*** Warning: mesh_face_idx didn't match (but not factored into equality comparison)\n",
      "*** Warning: mesh_face_idx didn't match (but not factored into equality comparison)\n",
      "*** Warning: mesh_face_idx didn't match (but not factored into equality comparison)\n",
      "*** Warning: mesh_face_idx didn't match (but not factored into equality comparison)\n",
      "*** Warning: mesh_face_idx didn't match (but not factored into equality comparison)\n",
      "*** Warning: mesh_face_idx didn't match (but not factored into equality comparison)\n",
      "*** Warning: mesh_face_idx didn't match (but not factored into equality comparison)\n",
      "*** Warning: mesh_face_idx didn't match (but not factored into equality comparison)\n",
      "*** Warning: mesh_face_idx didn't match (but not factored into equality comparison)\n",
      "*** Warning: mesh_face_idx didn't match (but not factored into equality comparison)\n",
      "*** Warning: mesh_face_idx didn't match (but not factored into equality comparison)\n",
      "*** Warning: mesh_face_idx didn't match (but not factored into equality comparison)\n",
      "*** Warning: mesh_face_idx didn't match (but not factored into equality comparison)\n",
      "*** Warning: mesh_face_idx didn't match (but not factored into equality comparison)\n",
      "*** Warning: mesh_face_idx didn't match (but not factored into equality comparison)\n",
      "*** Warning: mesh_face_idx didn't match (but not factored into equality comparison)\n",
      "*** Warning: mesh_face_idx didn't match (but not factored into equality comparison)\n",
      "*** Warning: mesh_face_idx didn't match (but not factored into equality comparison)\n",
      "*** Warning: mesh_face_idx didn't match (but not factored into equality comparison)\n",
      "*** Warning: mesh_face_idx didn't match (but not factored into equality comparison)\n",
      "*** Warning: mesh_face_idx didn't match (but not factored into equality comparison)\n",
      "*** Warning: mesh_face_idx didn't match (but not factored into equality comparison)\n",
      "*** Warning: mesh_face_idx didn't match (but not factored into equality comparison)\n",
      "*** Warning: mesh_face_idx didn't match (but not factored into equality comparison)\n",
      "*** Warning: mesh_face_idx didn't match (but not factored into equality comparison)\n",
      "*** Warning: mesh_face_idx didn't match (but not factored into equality comparison)\n",
      "*** Warning: mesh_face_idx didn't match (but not factored into equality comparison)\n",
      "*** Warning: mesh_face_idx didn't match (but not factored into equality comparison)\n",
      "*** Warning: mesh_face_idx didn't match (but not factored into equality comparison)\n",
      "*** Warning: mesh_face_idx didn't match (but not factored into equality comparison)\n",
      "*** Warning: mesh_face_idx didn't match (but not factored into equality comparison)\n",
      "*** Warning: mesh_face_idx didn't match (but not factored into equality comparison)\n",
      "*** Warning: mesh_face_idx didn't match (but not factored into equality comparison)\n",
      "*** Warning: mesh_face_idx didn't match (but not factored into equality comparison)\n",
      "*** Warning: mesh_face_idx didn't match (but not factored into equality comparison)\n",
      "*** Warning: mesh_face_idx didn't match (but not factored into equality comparison)\n",
      "*** Warning: mesh_face_idx didn't match (but not factored into equality comparison)\n",
      "*** Warning: mesh_face_idx didn't match (but not factored into equality comparison)\n",
      "*** Warning: mesh_face_idx didn't match (but not factored into equality comparison)\n",
      "*** Warning: mesh_face_idx didn't match (but not factored into equality comparison)\n",
      "*** Warning: mesh_face_idx didn't match (but not factored into equality comparison)\n",
      "*** Warning: mesh_face_idx didn't match (but not factored into equality comparison)\n",
      "*** Warning: mesh_face_idx didn't match (but not factored into equality comparison)\n",
      "*** Warning: mesh_face_idx didn't match (but not factored into equality comparison)\n",
      "*** Warning: mesh_face_idx didn't match (but not factored into equality comparison)\n",
      "*** Warning: mesh_face_idx didn't match (but not factored into equality comparison)\n",
      "*** Warning: mesh_face_idx didn't match (but not factored into equality comparison)\n"
     ]
    },
    {
     "name": "stdout",
     "output_type": "stream",
     "text": [
      "*** Warning: mesh_face_idx didn't match (but not factored into equality comparison)\n",
      "*** Warning: mesh_face_idx didn't match (but not factored into equality comparison)\n",
      "*** Warning: mesh_face_idx didn't match (but not factored into equality comparison)\n",
      "*** Warning: mesh_face_idx didn't match (but not factored into equality comparison)\n",
      "*** Warning: mesh_face_idx didn't match (but not factored into equality comparison)\n",
      "*** Warning: mesh_face_idx didn't match (but not factored into equality comparison)\n",
      "*** Warning: mesh_face_idx didn't match (but not factored into equality comparison)\n",
      "*** Warning: mesh_face_idx didn't match (but not factored into equality comparison)\n",
      "*** Warning: mesh_face_idx didn't match (but not factored into equality comparison)\n",
      "*** Warning: mesh_face_idx didn't match (but not factored into equality comparison)\n",
      "*** Warning: mesh_face_idx didn't match (but not factored into equality comparison)\n",
      "*** Warning: mesh_face_idx didn't match (but not factored into equality comparison)\n",
      "*** Warning: mesh_face_idx didn't match (but not factored into equality comparison)\n",
      "*** Warning: mesh_face_idx didn't match (but not factored into equality comparison)\n",
      "*** Warning: mesh_face_idx didn't match (but not factored into equality comparison)\n",
      "*** Warning: mesh_face_idx didn't match (but not factored into equality comparison)\n",
      "*** Warning: mesh_face_idx didn't match (but not factored into equality comparison)\n",
      "*** Warning: mesh_face_idx didn't match (but not factored into equality comparison)\n",
      "*** Warning: mesh_face_idx didn't match (but not factored into equality comparison)\n",
      "*** Warning: mesh_face_idx didn't match (but not factored into equality comparison)\n",
      "*** Warning: mesh_face_idx didn't match (but not factored into equality comparison)\n",
      "*** Warning: mesh_face_idx didn't match (but not factored into equality comparison)\n",
      "*** Warning: mesh_face_idx didn't match (but not factored into equality comparison)\n",
      "*** Warning: mesh_face_idx didn't match (but not factored into equality comparison)\n",
      "*** Warning: mesh_face_idx didn't match (but not factored into equality comparison)\n",
      "*** Warning: mesh_face_idx didn't match (but not factored into equality comparison)\n",
      "*** Warning: mesh_face_idx didn't match (but not factored into equality comparison)\n",
      "*** Warning: mesh_face_idx didn't match (but not factored into equality comparison)\n",
      "*** Warning: mesh_face_idx didn't match (but not factored into equality comparison)\n",
      "*** Warning: mesh_face_idx didn't match (but not factored into equality comparison)\n",
      "*** Warning: mesh_face_idx didn't match (but not factored into equality comparison)\n",
      "*** Warning: mesh_face_idx didn't match (but not factored into equality comparison)\n",
      "*** Warning: mesh_face_idx didn't match (but not factored into equality comparison)\n",
      "*** Warning: mesh_face_idx didn't match (but not factored into equality comparison)\n",
      "*** Warning: mesh_face_idx didn't match (but not factored into equality comparison)\n",
      "*** Warning: mesh_face_idx didn't match (but not factored into equality comparison)\n",
      "*** Warning: mesh_face_idx didn't match (but not factored into equality comparison)\n",
      "*** Warning: mesh_face_idx didn't match (but not factored into equality comparison)\n",
      "*** Warning: mesh_face_idx didn't match (but not factored into equality comparison)\n",
      "*** Warning: mesh_face_idx didn't match (but not factored into equality comparison)\n",
      "*** Warning: mesh_face_idx didn't match (but not factored into equality comparison)\n",
      "*** Warning: mesh_face_idx didn't match (but not factored into equality comparison)\n",
      "*** Warning: mesh_face_idx didn't match (but not factored into equality comparison)\n",
      "*** Warning: mesh_face_idx didn't match (but not factored into equality comparison)\n",
      "*** Warning: mesh_face_idx didn't match (but not factored into equality comparison)\n",
      "*** Warning: mesh_face_idx didn't match (but not factored into equality comparison)\n",
      "*** Warning: mesh_face_idx didn't match (but not factored into equality comparison)\n",
      "*** Warning: mesh_face_idx didn't match (but not factored into equality comparison)\n",
      "*** Warning: mesh_face_idx didn't match (but not factored into equality comparison)\n",
      "*** Warning: mesh_face_idx didn't match (but not factored into equality comparison)\n",
      "*** Warning: mesh_face_idx didn't match (but not factored into equality comparison)\n",
      "*** Warning: mesh_face_idx didn't match (but not factored into equality comparison)\n",
      "*** Warning: mesh_face_idx didn't match (but not factored into equality comparison)\n",
      "*** Warning: mesh_face_idx didn't match (but not factored into equality comparison)\n",
      "*** Warning: mesh_face_idx didn't match (but not factored into equality comparison)\n",
      "*** Warning: mesh_face_idx didn't match (but not factored into equality comparison)\n",
      "*** Warning: mesh_face_idx didn't match (but not factored into equality comparison)\n",
      "*** Warning: mesh_face_idx didn't match (but not factored into equality comparison)\n",
      "*** Warning: mesh_face_idx didn't match (but not factored into equality comparison)\n",
      "*** Warning: mesh_face_idx didn't match (but not factored into equality comparison)\n",
      "*** Warning: mesh_face_idx didn't match (but not factored into equality comparison)\n",
      "*** Warning: mesh_face_idx didn't match (but not factored into equality comparison)\n",
      "*** Warning: mesh_face_idx didn't match (but not factored into equality comparison)\n",
      "*** Warning: mesh_face_idx didn't match (but not factored into equality comparison)\n",
      "*** Warning: mesh_face_idx didn't match (but not factored into equality comparison)\n",
      "*** Warning: mesh_face_idx didn't match (but not factored into equality comparison)\n",
      "*** Warning: mesh_face_idx didn't match (but not factored into equality comparison)\n",
      "*** Warning: mesh_face_idx didn't match (but not factored into equality comparison)\n",
      "*** Warning: mesh_face_idx didn't match (but not factored into equality comparison)\n",
      "*** Warning: mesh_face_idx didn't match (but not factored into equality comparison)\n",
      "*** Warning: mesh_face_idx didn't match (but not factored into equality comparison)\n",
      "*** Warning: mesh_face_idx didn't match (but not factored into equality comparison)\n",
      "*** Warning: mesh_face_idx didn't match (but not factored into equality comparison)\n",
      "*** Warning: mesh_face_idx didn't match (but not factored into equality comparison)\n",
      "*** Warning: mesh_face_idx didn't match (but not factored into equality comparison)\n",
      "*** Warning: mesh_face_idx didn't match (but not factored into equality comparison)\n",
      "*** Warning: mesh_face_idx didn't match (but not factored into equality comparison)\n",
      "*** Warning: mesh_face_idx didn't match (but not factored into equality comparison)\n",
      "*** Warning: mesh_face_idx didn't match (but not factored into equality comparison)\n",
      "*** Warning: mesh_face_idx didn't match (but not factored into equality comparison)\n",
      "*** Warning: mesh_face_idx didn't match (but not factored into equality comparison)\n",
      "*** Warning: mesh_face_idx didn't match (but not factored into equality comparison)\n",
      "*** Warning: mesh_face_idx didn't match (but not factored into equality comparison)\n",
      "*** Warning: mesh_face_idx didn't match (but not factored into equality comparison)\n",
      "*** Warning: mesh_face_idx didn't match (but not factored into equality comparison)\n",
      "*** Warning: mesh_face_idx didn't match (but not factored into equality comparison)\n",
      "*** Warning: mesh_face_idx didn't match (but not factored into equality comparison)\n",
      "*** Warning: mesh_face_idx didn't match (but not factored into equality comparison)\n",
      "*** Warning: mesh_face_idx didn't match (but not factored into equality comparison)\n",
      "*** Warning: mesh_face_idx didn't match (but not factored into equality comparison)\n",
      "*** Warning: mesh_face_idx didn't match (but not factored into equality comparison)\n",
      "*** Warning: mesh_face_idx didn't match (but not factored into equality comparison)\n",
      "*** Warning: mesh_face_idx didn't match (but not factored into equality comparison)\n",
      "*** Warning: mesh_face_idx didn't match (but not factored into equality comparison)\n",
      "*** Warning: mesh_face_idx didn't match (but not factored into equality comparison)\n",
      "*** Warning: mesh_face_idx didn't match (but not factored into equality comparison)\n",
      "*** Warning: mesh_face_idx didn't match (but not factored into equality comparison)\n",
      "*** Warning: mesh_face_idx didn't match (but not factored into equality comparison)\n",
      "*** Warning: mesh_face_idx didn't match (but not factored into equality comparison)\n",
      "*** Warning: mesh_face_idx didn't match (but not factored into equality comparison)\n",
      "*** Warning: mesh_face_idx didn't match (but not factored into equality comparison)\n",
      "*** Warning: mesh_face_idx didn't match (but not factored into equality comparison)\n",
      "*** Warning: mesh_face_idx didn't match (but not factored into equality comparison)\n",
      "*** Warning: mesh_face_idx didn't match (but not factored into equality comparison)\n",
      "*** Warning: mesh_face_idx didn't match (but not factored into equality comparison)\n",
      "*** Warning: mesh_face_idx didn't match (but not factored into equality comparison)\n",
      "*** Warning: mesh_face_idx didn't match (but not factored into equality comparison)\n",
      "*** Warning: mesh_face_idx didn't match (but not factored into equality comparison)\n",
      "*** Warning: mesh_face_idx didn't match (but not factored into equality comparison)\n",
      "*** Warning: mesh_face_idx didn't match (but not factored into equality comparison)\n"
     ]
    },
    {
     "name": "stdout",
     "output_type": "stream",
     "text": [
      "*** Warning: mesh_face_idx didn't match (but not factored into equality comparison)\n",
      "*** Warning: mesh_face_idx didn't match (but not factored into equality comparison)\n",
      "*** Warning: mesh_face_idx didn't match (but not factored into equality comparison)\n",
      "*** Warning: mesh_face_idx didn't match (but not factored into equality comparison)\n",
      "*** Warning: mesh_face_idx didn't match (but not factored into equality comparison)\n",
      "*** Warning: mesh_face_idx didn't match (but not factored into equality comparison)\n",
      "*** Warning: mesh_face_idx didn't match (but not factored into equality comparison)\n",
      "*** Warning: mesh_face_idx didn't match (but not factored into equality comparison)\n",
      "*** Warning: mesh_face_idx didn't match (but not factored into equality comparison)\n",
      "*** Warning: mesh_face_idx didn't match (but not factored into equality comparison)\n",
      "*** Warning: mesh_face_idx didn't match (but not factored into equality comparison)\n",
      "*** Warning: mesh_face_idx didn't match (but not factored into equality comparison)\n",
      "*** Warning: mesh_face_idx didn't match (but not factored into equality comparison)\n",
      "*** Warning: mesh_face_idx didn't match (but not factored into equality comparison)\n",
      "*** Warning: mesh_face_idx didn't match (but not factored into equality comparison)\n",
      "*** Warning: mesh_face_idx didn't match (but not factored into equality comparison)\n",
      "*** Warning: mesh_face_idx didn't match (but not factored into equality comparison)\n",
      "*** Warning: mesh_face_idx didn't match (but not factored into equality comparison)\n",
      "*** Warning: mesh_face_idx didn't match (but not factored into equality comparison)\n",
      "*** Warning: mesh_face_idx didn't match (but not factored into equality comparison)\n",
      "*** Warning: mesh_face_idx didn't match (but not factored into equality comparison)\n",
      "*** Warning: mesh_face_idx didn't match (but not factored into equality comparison)\n",
      "*** Warning: mesh_face_idx didn't match (but not factored into equality comparison)\n",
      "*** Warning: mesh_face_idx didn't match (but not factored into equality comparison)\n",
      "*** Warning: mesh_face_idx didn't match (but not factored into equality comparison)\n",
      "*** Warning: mesh_face_idx didn't match (but not factored into equality comparison)\n",
      "*** Warning: mesh_face_idx didn't match (but not factored into equality comparison)\n",
      "*** Warning: mesh_face_idx didn't match (but not factored into equality comparison)\n",
      "*** Warning: mesh_face_idx didn't match (but not factored into equality comparison)\n",
      "*** Warning: mesh_face_idx didn't match (but not factored into equality comparison)\n",
      "*** Warning: mesh_face_idx didn't match (but not factored into equality comparison)\n",
      "*** Warning: mesh_face_idx didn't match (but not factored into equality comparison)\n",
      "*** Warning: mesh_face_idx didn't match (but not factored into equality comparison)\n",
      "*** Warning: mesh_face_idx didn't match (but not factored into equality comparison)\n",
      "*** Warning: mesh_face_idx didn't match (but not factored into equality comparison)\n",
      "*** Warning: mesh_face_idx didn't match (but not factored into equality comparison)\n",
      "*** Warning: mesh_face_idx didn't match (but not factored into equality comparison)\n",
      "*** Warning: mesh_face_idx didn't match (but not factored into equality comparison)\n",
      "*** Warning: mesh_face_idx didn't match (but not factored into equality comparison)\n",
      "*** Warning: mesh_face_idx didn't match (but not factored into equality comparison)\n",
      "*** Warning: mesh_face_idx didn't match (but not factored into equality comparison)\n",
      "*** Warning: mesh_face_idx didn't match (but not factored into equality comparison)\n",
      "*** Warning: mesh_face_idx didn't match (but not factored into equality comparison)\n",
      "*** Warning: mesh_face_idx didn't match (but not factored into equality comparison)\n",
      "*** Warning: mesh_face_idx didn't match (but not factored into equality comparison)\n",
      "*** Warning: mesh_face_idx didn't match (but not factored into equality comparison)\n",
      "*** Warning: mesh_face_idx didn't match (but not factored into equality comparison)\n",
      "*** Warning: mesh_face_idx didn't match (but not factored into equality comparison)\n",
      "*** Warning: mesh_face_idx didn't match (but not factored into equality comparison)\n",
      "*** Warning: mesh_face_idx didn't match (but not factored into equality comparison)\n",
      "*** Warning: mesh_face_idx didn't match (but not factored into equality comparison)\n",
      "*** Warning: mesh_face_idx didn't match (but not factored into equality comparison)\n",
      "*** Warning: mesh_face_idx didn't match (but not factored into equality comparison)\n",
      "*** Warning: mesh_face_idx didn't match (but not factored into equality comparison)\n",
      "*** Warning: mesh_face_idx didn't match (but not factored into equality comparison)\n",
      "*** Warning: mesh_face_idx didn't match (but not factored into equality comparison)\n",
      "*** Warning: mesh_face_idx didn't match (but not factored into equality comparison)\n",
      "*** Warning: mesh_face_idx didn't match (but not factored into equality comparison)\n",
      "*** Warning: mesh_face_idx didn't match (but not factored into equality comparison)\n",
      "*** Warning: mesh_face_idx didn't match (but not factored into equality comparison)\n",
      "*** Warning: mesh_face_idx didn't match (but not factored into equality comparison)\n",
      "*** Warning: mesh_face_idx didn't match (but not factored into equality comparison)\n",
      "*** Warning: mesh_face_idx didn't match (but not factored into equality comparison)\n",
      "*** Warning: mesh_face_idx didn't match (but not factored into equality comparison)\n",
      "*** Warning: mesh_face_idx didn't match (but not factored into equality comparison)\n",
      "*** Warning: mesh_face_idx didn't match (but not factored into equality comparison)\n",
      "*** Warning: mesh_face_idx didn't match (but not factored into equality comparison)\n",
      "*** Warning: mesh_face_idx didn't match (but not factored into equality comparison)\n",
      "*** Warning: mesh_face_idx didn't match (but not factored into equality comparison)\n",
      "*** Warning: mesh_face_idx didn't match (but not factored into equality comparison)\n",
      "*** Warning: mesh_face_idx didn't match (but not factored into equality comparison)\n",
      "*** Warning: mesh_face_idx didn't match (but not factored into equality comparison)\n",
      "*** Warning: mesh_face_idx didn't match (but not factored into equality comparison)\n",
      "*** Warning: mesh_face_idx didn't match (but not factored into equality comparison)\n",
      "*** Warning: mesh_face_idx didn't match (but not factored into equality comparison)\n",
      "*** Warning: mesh_face_idx didn't match (but not factored into equality comparison)\n",
      "*** Warning: mesh_face_idx didn't match (but not factored into equality comparison)\n",
      "*** Warning: mesh_face_idx didn't match (but not factored into equality comparison)\n",
      "*** Warning: mesh_face_idx didn't match (but not factored into equality comparison)\n",
      "*** Warning: mesh_face_idx didn't match (but not factored into equality comparison)\n",
      "*** Warning: mesh_face_idx didn't match (but not factored into equality comparison)\n",
      "*** Warning: mesh_face_idx didn't match (but not factored into equality comparison)\n",
      "*** Warning: mesh_face_idx didn't match (but not factored into equality comparison)\n",
      "*** Warning: mesh_face_idx didn't match (but not factored into equality comparison)\n",
      "*** Warning: mesh_face_idx didn't match (but not factored into equality comparison)\n",
      "*** Warning: mesh_face_idx didn't match (but not factored into equality comparison)\n",
      "*** Warning: mesh_face_idx didn't match (but not factored into equality comparison)\n",
      "*** Warning: mesh_face_idx didn't match (but not factored into equality comparison)\n",
      "*** Warning: mesh_face_idx didn't match (but not factored into equality comparison)\n",
      "*** Warning: mesh_face_idx didn't match (but not factored into equality comparison)\n",
      "*** Warning: mesh_face_idx didn't match (but not factored into equality comparison)\n",
      "*** Warning: mesh_face_idx didn't match (but not factored into equality comparison)\n",
      "*** Warning: mesh_face_idx didn't match (but not factored into equality comparison)\n",
      "*** Warning: mesh_face_idx didn't match (but not factored into equality comparison)\n",
      "*** Warning: mesh_face_idx didn't match (but not factored into equality comparison)\n",
      "*** Warning: mesh_face_idx didn't match (but not factored into equality comparison)\n",
      "*** Warning: mesh_face_idx didn't match (but not factored into equality comparison)\n",
      "*** Warning: mesh_face_idx didn't match (but not factored into equality comparison)\n"
     ]
    },
    {
     "name": "stdout",
     "output_type": "stream",
     "text": [
      "*** Warning: mesh_face_idx didn't match (but not factored into equality comparison)\n",
      "*** Warning: mesh_face_idx didn't match (but not factored into equality comparison)\n",
      "*** Warning: mesh_face_idx didn't match (but not factored into equality comparison)\n",
      "*** Warning: mesh_face_idx didn't match (but not factored into equality comparison)\n",
      "*** Warning: mesh_face_idx didn't match (but not factored into equality comparison)\n",
      "*** Warning: mesh_face_idx didn't match (but not factored into equality comparison)\n",
      "*** Warning: mesh_face_idx didn't match (but not factored into equality comparison)\n",
      "*** Warning: mesh_face_idx didn't match (but not factored into equality comparison)\n",
      "*** Warning: mesh_face_idx didn't match (but not factored into equality comparison)\n",
      "*** Warning: mesh_face_idx didn't match (but not factored into equality comparison)\n",
      "*** Warning: mesh_face_idx didn't match (but not factored into equality comparison)\n",
      "*** Warning: mesh_face_idx didn't match (but not factored into equality comparison)\n",
      "*** Warning: mesh_face_idx didn't match (but not factored into equality comparison)\n",
      "*** Warning: mesh_face_idx didn't match (but not factored into equality comparison)\n",
      "*** Warning: mesh_face_idx didn't match (but not factored into equality comparison)\n",
      "*** Warning: mesh_face_idx didn't match (but not factored into equality comparison)\n",
      "*** Warning: mesh_face_idx didn't match (but not factored into equality comparison)\n",
      "*** Warning: mesh_face_idx didn't match (but not factored into equality comparison)\n",
      "*** Warning: mesh_face_idx didn't match (but not factored into equality comparison)\n",
      "*** Warning: mesh_face_idx didn't match (but not factored into equality comparison)\n",
      "*** Warning: mesh_face_idx didn't match (but not factored into equality comparison)\n",
      "*** Warning: mesh_face_idx didn't match (but not factored into equality comparison)\n",
      "*** Warning: mesh_face_idx didn't match (but not factored into equality comparison)\n",
      "*** Warning: mesh_face_idx didn't match (but not factored into equality comparison)\n",
      "*** Warning: mesh_face_idx didn't match (but not factored into equality comparison)\n",
      "*** Warning: mesh_face_idx didn't match (but not factored into equality comparison)\n",
      "*** Warning: mesh_face_idx didn't match (but not factored into equality comparison)\n",
      "*** Warning: mesh_face_idx didn't match (but not factored into equality comparison)\n",
      "*** Warning: mesh_face_idx didn't match (but not factored into equality comparison)\n",
      "*** Warning: mesh_face_idx didn't match (but not factored into equality comparison)\n",
      "*** Warning: mesh_face_idx didn't match (but not factored into equality comparison)\n",
      "*** Warning: mesh_face_idx didn't match (but not factored into equality comparison)\n",
      "*** Warning: mesh_face_idx didn't match (but not factored into equality comparison)\n",
      "*** Warning: mesh_face_idx didn't match (but not factored into equality comparison)\n",
      "*** Warning: mesh_face_idx didn't match (but not factored into equality comparison)\n",
      "*** Warning: mesh_face_idx didn't match (but not factored into equality comparison)\n",
      "*** Warning: mesh_face_idx didn't match (but not factored into equality comparison)\n",
      "*** Warning: mesh_face_idx didn't match (but not factored into equality comparison)\n",
      "*** Warning: mesh_face_idx didn't match (but not factored into equality comparison)\n",
      "*** Warning: mesh_face_idx didn't match (but not factored into equality comparison)\n",
      "*** Warning: mesh_face_idx didn't match (but not factored into equality comparison)\n",
      "*** Warning: mesh_face_idx didn't match (but not factored into equality comparison)\n",
      "*** Warning: mesh_face_idx didn't match (but not factored into equality comparison)\n",
      "*** Warning: mesh_face_idx didn't match (but not factored into equality comparison)\n",
      "*** Warning: mesh_face_idx didn't match (but not factored into equality comparison)\n",
      "*** Warning: mesh_face_idx didn't match (but not factored into equality comparison)\n",
      "*** Warning: mesh_face_idx didn't match (but not factored into equality comparison)\n",
      "*** Warning: mesh_face_idx didn't match (but not factored into equality comparison)\n",
      "*** Warning: mesh_face_idx didn't match (but not factored into equality comparison)\n",
      "*** Warning: mesh_face_idx didn't match (but not factored into equality comparison)\n",
      "*** Warning: mesh_face_idx didn't match (but not factored into equality comparison)\n",
      "*** Warning: mesh_face_idx didn't match (but not factored into equality comparison)\n",
      "*** Warning: mesh_face_idx didn't match (but not factored into equality comparison)\n",
      "*** Warning: mesh_face_idx didn't match (but not factored into equality comparison)\n",
      "*** Warning: mesh_face_idx didn't match (but not factored into equality comparison)\n",
      "*** Warning: mesh_face_idx didn't match (but not factored into equality comparison)\n",
      "*** Warning: mesh_face_idx didn't match (but not factored into equality comparison)\n",
      "*** Warning: mesh_face_idx didn't match (but not factored into equality comparison)\n",
      "*** Warning: mesh_face_idx didn't match (but not factored into equality comparison)\n",
      "*** Warning: mesh_face_idx didn't match (but not factored into equality comparison)\n",
      "*** Warning: mesh_face_idx didn't match (but not factored into equality comparison)\n",
      "*** Warning: mesh_face_idx didn't match (but not factored into equality comparison)\n",
      "*** Warning: mesh_face_idx didn't match (but not factored into equality comparison)\n",
      "*** Warning: mesh_face_idx didn't match (but not factored into equality comparison)\n",
      "*** Warning: mesh_face_idx didn't match (but not factored into equality comparison)\n",
      "*** Warning: mesh_face_idx didn't match (but not factored into equality comparison)\n",
      "*** Warning: mesh_face_idx didn't match (but not factored into equality comparison)\n",
      "*** Warning: mesh_face_idx didn't match (but not factored into equality comparison)\n",
      "*** Warning: mesh_face_idx didn't match (but not factored into equality comparison)\n",
      "*** Warning: mesh_face_idx didn't match (but not factored into equality comparison)\n",
      "*** Warning: mesh_face_idx didn't match (but not factored into equality comparison)\n",
      "*** Warning: mesh_face_idx didn't match (but not factored into equality comparison)\n",
      "*** Warning: mesh_face_idx didn't match (but not factored into equality comparison)\n",
      "*** Warning: mesh_face_idx didn't match (but not factored into equality comparison)\n",
      "*** Warning: mesh_face_idx didn't match (but not factored into equality comparison)\n",
      "*** Warning: mesh_face_idx didn't match (but not factored into equality comparison)\n",
      "*** Warning: mesh_face_idx didn't match (but not factored into equality comparison)\n",
      "*** Warning: mesh_face_idx didn't match (but not factored into equality comparison)\n",
      "*** Warning: mesh_face_idx didn't match (but not factored into equality comparison)\n",
      "*** Warning: mesh_face_idx didn't match (but not factored into equality comparison)\n",
      "*** Warning: mesh_face_idx didn't match (but not factored into equality comparison)\n",
      "*** Warning: mesh_face_idx didn't match (but not factored into equality comparison)\n",
      "*** Warning: mesh_face_idx didn't match (but not factored into equality comparison)\n",
      "*** Warning: mesh_face_idx didn't match (but not factored into equality comparison)\n",
      "*** Warning: mesh_face_idx didn't match (but not factored into equality comparison)\n",
      "*** Warning: mesh_face_idx didn't match (but not factored into equality comparison)\n",
      "*** Warning: mesh_face_idx didn't match (but not factored into equality comparison)\n",
      "*** Warning: mesh_face_idx didn't match (but not factored into equality comparison)\n",
      "*** Warning: mesh_face_idx didn't match (but not factored into equality comparison)\n",
      "*** Warning: mesh_face_idx didn't match (but not factored into equality comparison)\n",
      "*** Warning: mesh_face_idx didn't match (but not factored into equality comparison)\n",
      "*** Warning: mesh_face_idx didn't match (but not factored into equality comparison)\n",
      "*** Warning: mesh_face_idx didn't match (but not factored into equality comparison)\n",
      "*** Warning: mesh_face_idx didn't match (but not factored into equality comparison)\n",
      "*** Warning: mesh_face_idx didn't match (but not factored into equality comparison)\n",
      "*** Warning: mesh_face_idx didn't match (but not factored into equality comparison)\n",
      "*** Warning: mesh_face_idx didn't match (but not factored into equality comparison)\n",
      "*** Warning: mesh_face_idx didn't match (but not factored into equality comparison)\n",
      "*** Warning: mesh_face_idx didn't match (but not factored into equality comparison)\n",
      "*** Warning: mesh_face_idx didn't match (but not factored into equality comparison)\n",
      "*** Warning: mesh_face_idx didn't match (but not factored into equality comparison)\n",
      "*** Warning: mesh_face_idx didn't match (but not factored into equality comparison)\n",
      "*** Warning: mesh_face_idx didn't match (but not factored into equality comparison)\n"
     ]
    },
    {
     "name": "stdout",
     "output_type": "stream",
     "text": [
      "*** Warning: mesh_face_idx didn't match (but not factored into equality comparison)\n",
      "*** Warning: mesh_face_idx didn't match (but not factored into equality comparison)\n",
      "*** Warning: mesh_face_idx didn't match (but not factored into equality comparison)\n",
      "*** Warning: mesh_face_idx didn't match (but not factored into equality comparison)\n",
      "*** Warning: mesh_face_idx didn't match (but not factored into equality comparison)\n",
      "*** Warning: mesh_face_idx didn't match (but not factored into equality comparison)\n",
      "*** Warning: mesh_face_idx didn't match (but not factored into equality comparison)\n",
      "*** Warning: mesh_face_idx didn't match (but not factored into equality comparison)\n",
      "*** Warning: mesh_face_idx didn't match (but not factored into equality comparison)\n",
      "*** Warning: mesh_face_idx didn't match (but not factored into equality comparison)\n",
      "*** Warning: mesh_face_idx didn't match (but not factored into equality comparison)\n",
      "*** Warning: mesh_face_idx didn't match (but not factored into equality comparison)\n",
      "*** Warning: mesh_face_idx didn't match (but not factored into equality comparison)\n",
      "*** Warning: mesh_face_idx didn't match (but not factored into equality comparison)\n",
      "*** Warning: mesh_face_idx didn't match (but not factored into equality comparison)\n",
      "*** Warning: mesh_face_idx didn't match (but not factored into equality comparison)\n",
      "*** Warning: mesh_face_idx didn't match (but not factored into equality comparison)\n",
      "*** Warning: mesh_face_idx didn't match (but not factored into equality comparison)\n",
      "*** Warning: mesh_face_idx didn't match (but not factored into equality comparison)\n",
      "*** Warning: mesh_face_idx didn't match (but not factored into equality comparison)\n",
      "*** Warning: mesh_face_idx didn't match (but not factored into equality comparison)\n",
      "*** Warning: mesh_face_idx didn't match (but not factored into equality comparison)\n",
      "*** Warning: mesh_face_idx didn't match (but not factored into equality comparison)\n",
      "*** Warning: mesh_face_idx didn't match (but not factored into equality comparison)\n",
      "*** Warning: mesh_face_idx didn't match (but not factored into equality comparison)\n",
      "*** Warning: mesh_face_idx didn't match (but not factored into equality comparison)\n",
      "*** Warning: mesh_face_idx didn't match (but not factored into equality comparison)\n",
      "*** Warning: mesh_face_idx didn't match (but not factored into equality comparison)\n",
      "*** Warning: mesh_face_idx didn't match (but not factored into equality comparison)\n",
      "*** Warning: mesh_face_idx didn't match (but not factored into equality comparison)\n",
      "*** Warning: mesh_face_idx didn't match (but not factored into equality comparison)\n",
      "*** Warning: mesh_face_idx didn't match (but not factored into equality comparison)\n",
      "*** Warning: mesh_face_idx didn't match (but not factored into equality comparison)\n",
      "*** Warning: mesh_face_idx didn't match (but not factored into equality comparison)\n",
      "*** Warning: mesh_face_idx didn't match (but not factored into equality comparison)\n",
      "*** Warning: mesh_face_idx didn't match (but not factored into equality comparison)\n",
      "*** Warning: mesh_face_idx didn't match (but not factored into equality comparison)\n",
      "*** Warning: mesh_face_idx didn't match (but not factored into equality comparison)\n",
      "*** Warning: mesh_face_idx didn't match (but not factored into equality comparison)\n",
      "*** Warning: mesh_face_idx didn't match (but not factored into equality comparison)\n",
      "*** Warning: mesh_face_idx didn't match (but not factored into equality comparison)\n",
      "*** Warning: mesh_face_idx didn't match (but not factored into equality comparison)\n",
      "*** Warning: mesh_face_idx didn't match (but not factored into equality comparison)\n",
      "*** Warning: mesh_face_idx didn't match (but not factored into equality comparison)\n",
      "*** Warning: mesh_face_idx didn't match (but not factored into equality comparison)\n",
      "*** Warning: mesh_face_idx didn't match (but not factored into equality comparison)\n",
      "*** Warning: mesh_face_idx didn't match (but not factored into equality comparison)\n",
      "*** Warning: mesh_face_idx didn't match (but not factored into equality comparison)\n",
      "*** Warning: mesh_face_idx didn't match (but not factored into equality comparison)\n",
      "*** Warning: mesh_face_idx didn't match (but not factored into equality comparison)\n",
      "*** Warning: mesh_face_idx didn't match (but not factored into equality comparison)\n",
      "*** Warning: mesh_face_idx didn't match (but not factored into equality comparison)\n",
      "*** Warning: mesh_face_idx didn't match (but not factored into equality comparison)\n",
      "*** Warning: mesh_face_idx didn't match (but not factored into equality comparison)\n",
      "*** Warning: mesh_face_idx didn't match (but not factored into equality comparison)\n",
      "*** Warning: mesh_face_idx didn't match (but not factored into equality comparison)\n",
      "*** Warning: mesh_face_idx didn't match (but not factored into equality comparison)\n",
      "*** Warning: mesh_face_idx didn't match (but not factored into equality comparison)\n",
      "*** Warning: mesh_face_idx didn't match (but not factored into equality comparison)\n",
      "*** Warning: mesh_face_idx didn't match (but not factored into equality comparison)\n",
      "*** Warning: mesh_face_idx didn't match (but not factored into equality comparison)\n",
      "*** Warning: mesh_face_idx didn't match (but not factored into equality comparison)\n",
      "*** Warning: mesh_face_idx didn't match (but not factored into equality comparison)\n",
      "*** Warning: mesh_face_idx didn't match (but not factored into equality comparison)\n",
      "*** Warning: mesh_face_idx didn't match (but not factored into equality comparison)\n",
      "*** Warning: mesh_face_idx didn't match (but not factored into equality comparison)\n",
      "*** Warning: mesh_face_idx didn't match (but not factored into equality comparison)\n",
      "*** Warning: mesh_face_idx didn't match (but not factored into equality comparison)\n",
      "*** Warning: mesh_face_idx didn't match (but not factored into equality comparison)\n",
      "*** Warning: mesh_face_idx didn't match (but not factored into equality comparison)\n",
      "*** Warning: mesh_face_idx didn't match (but not factored into equality comparison)\n",
      "*** Warning: mesh_face_idx didn't match (but not factored into equality comparison)\n",
      "*** Warning: mesh_face_idx didn't match (but not factored into equality comparison)\n",
      "*** Warning: mesh_face_idx didn't match (but not factored into equality comparison)\n",
      "*** Warning: mesh_face_idx didn't match (but not factored into equality comparison)\n",
      "*** Warning: mesh_face_idx didn't match (but not factored into equality comparison)\n",
      "*** Warning: mesh_face_idx didn't match (but not factored into equality comparison)\n",
      "*** Warning: mesh_face_idx didn't match (but not factored into equality comparison)\n",
      "*** Warning: mesh_face_idx didn't match (but not factored into equality comparison)\n",
      "*** Warning: mesh_face_idx didn't match (but not factored into equality comparison)\n",
      "*** Warning: mesh_face_idx didn't match (but not factored into equality comparison)\n",
      "*** Warning: mesh_face_idx didn't match (but not factored into equality comparison)\n",
      "*** Warning: mesh_face_idx didn't match (but not factored into equality comparison)\n",
      "*** Warning: mesh_face_idx didn't match (but not factored into equality comparison)\n",
      "*** Warning: mesh_face_idx didn't match (but not factored into equality comparison)\n",
      "*** Warning: mesh_face_idx didn't match (but not factored into equality comparison)\n",
      "*** Warning: mesh_face_idx didn't match (but not factored into equality comparison)\n",
      "*** Warning: mesh_face_idx didn't match (but not factored into equality comparison)\n",
      "*** Warning: mesh_face_idx didn't match (but not factored into equality comparison)\n",
      "*** Warning: mesh_face_idx didn't match (but not factored into equality comparison)\n",
      "*** Warning: mesh_face_idx didn't match (but not factored into equality comparison)\n",
      "*** Warning: mesh_face_idx didn't match (but not factored into equality comparison)\n",
      "*** Warning: mesh_face_idx didn't match (but not factored into equality comparison)\n",
      "*** Warning: mesh_face_idx didn't match (but not factored into equality comparison)\n",
      "*** Warning: mesh_face_idx didn't match (but not factored into equality comparison)\n",
      "*** Warning: mesh_face_idx didn't match (but not factored into equality comparison)\n",
      "*** Warning: mesh_face_idx didn't match (but not factored into equality comparison)\n",
      "*** Warning: mesh_face_idx didn't match (but not factored into equality comparison)\n",
      "*** Warning: mesh_face_idx didn't match (but not factored into equality comparison)\n",
      "*** Warning: mesh_face_idx didn't match (but not factored into equality comparison)\n",
      "*** Warning: mesh_face_idx didn't match (but not factored into equality comparison)\n",
      "*** Warning: mesh_face_idx didn't match (but not factored into equality comparison)\n",
      "*** Warning: mesh_face_idx didn't match (but not factored into equality comparison)\n",
      "*** Warning: mesh_face_idx didn't match (but not factored into equality comparison)\n",
      "*** Warning: mesh_face_idx didn't match (but not factored into equality comparison)\n",
      "*** Warning: mesh_face_idx didn't match (but not factored into equality comparison)\n",
      "*** Warning: mesh_face_idx didn't match (but not factored into equality comparison)\n",
      "*** Warning: mesh_face_idx didn't match (but not factored into equality comparison)\n",
      "*** Warning: mesh_face_idx didn't match (but not factored into equality comparison)\n"
     ]
    },
    {
     "name": "stdout",
     "output_type": "stream",
     "text": [
      "*** Warning: mesh_face_idx didn't match (but not factored into equality comparison)\n",
      "*** Warning: mesh_face_idx didn't match (but not factored into equality comparison)\n",
      "*** Warning: mesh_face_idx didn't match (but not factored into equality comparison)\n",
      "*** Warning: mesh_face_idx didn't match (but not factored into equality comparison)\n",
      "*** Warning: mesh_face_idx didn't match (but not factored into equality comparison)\n",
      "*** Warning: mesh_face_idx didn't match (but not factored into equality comparison)\n",
      "*** Warning: mesh_face_idx didn't match (but not factored into equality comparison)\n",
      "*** Warning: mesh_face_idx didn't match (but not factored into equality comparison)\n",
      "*** Warning: mesh_face_idx didn't match (but not factored into equality comparison)\n",
      "*** Warning: mesh_face_idx didn't match (but not factored into equality comparison)\n",
      "*** Warning: mesh_face_idx didn't match (but not factored into equality comparison)\n",
      "*** Warning: mesh_face_idx didn't match (but not factored into equality comparison)\n",
      "*** Warning: mesh_face_idx didn't match (but not factored into equality comparison)\n",
      "*** Warning: mesh_face_idx didn't match (but not factored into equality comparison)\n",
      "*** Warning: mesh_face_idx didn't match (but not factored into equality comparison)\n",
      "*** Warning: mesh_face_idx didn't match (but not factored into equality comparison)\n",
      "*** Warning: mesh_face_idx didn't match (but not factored into equality comparison)\n",
      "*** Warning: mesh_face_idx didn't match (but not factored into equality comparison)\n",
      "*** Warning: mesh_face_idx didn't match (but not factored into equality comparison)\n",
      "*** Warning: mesh_face_idx didn't match (but not factored into equality comparison)\n",
      "*** Warning: mesh_face_idx didn't match (but not factored into equality comparison)\n",
      "*** Warning: mesh_face_idx didn't match (but not factored into equality comparison)\n",
      "*** Warning: mesh_face_idx didn't match (but not factored into equality comparison)\n",
      "*** Warning: mesh_face_idx didn't match (but not factored into equality comparison)\n",
      "*** Warning: mesh_face_idx didn't match (but not factored into equality comparison)\n",
      "*** Warning: mesh_face_idx didn't match (but not factored into equality comparison)\n",
      "*** Warning: mesh_face_idx didn't match (but not factored into equality comparison)\n",
      "*** Warning: mesh_face_idx didn't match (but not factored into equality comparison)\n",
      "*** Warning: mesh_face_idx didn't match (but not factored into equality comparison)\n",
      "*** Warning: mesh_face_idx didn't match (but not factored into equality comparison)\n",
      "*** Warning: mesh_face_idx didn't match (but not factored into equality comparison)\n",
      "*** Warning: mesh_face_idx didn't match (but not factored into equality comparison)\n",
      "*** Warning: mesh_face_idx didn't match (but not factored into equality comparison)\n",
      "*** Warning: mesh_face_idx didn't match (but not factored into equality comparison)\n",
      "*** Warning: mesh_face_idx didn't match (but not factored into equality comparison)\n",
      "*** Warning: mesh_face_idx didn't match (but not factored into equality comparison)\n",
      "*** Warning: mesh_face_idx didn't match (but not factored into equality comparison)\n",
      "*** Warning: mesh_face_idx didn't match (but not factored into equality comparison)\n",
      "*** Warning: mesh_face_idx didn't match (but not factored into equality comparison)\n",
      "*** Warning: mesh_face_idx didn't match (but not factored into equality comparison)\n",
      "*** Warning: mesh_face_idx didn't match (but not factored into equality comparison)\n",
      "*** Warning: mesh_face_idx didn't match (but not factored into equality comparison)\n",
      "*** Warning: mesh_face_idx didn't match (but not factored into equality comparison)\n",
      "*** Warning: mesh_face_idx didn't match (but not factored into equality comparison)\n",
      "*** Warning: mesh_face_idx didn't match (but not factored into equality comparison)\n",
      "*** Warning: mesh_face_idx didn't match (but not factored into equality comparison)\n",
      "*** Warning: mesh_face_idx didn't match (but not factored into equality comparison)\n",
      "*** Warning: mesh_face_idx didn't match (but not factored into equality comparison)\n",
      "*** Warning: mesh_face_idx didn't match (but not factored into equality comparison)\n",
      "*** Warning: mesh_face_idx didn't match (but not factored into equality comparison)\n",
      "*** Warning: mesh_face_idx didn't match (but not factored into equality comparison)\n",
      "*** Warning: mesh_face_idx didn't match (but not factored into equality comparison)\n",
      "*** Warning: mesh_face_idx didn't match (but not factored into equality comparison)\n",
      "*** Warning: mesh_face_idx didn't match (but not factored into equality comparison)\n",
      "*** Warning: mesh_face_idx didn't match (but not factored into equality comparison)\n",
      "*** Warning: mesh_face_idx didn't match (but not factored into equality comparison)\n",
      "*** Warning: mesh_face_idx didn't match (but not factored into equality comparison)\n",
      "*** Warning: mesh_face_idx didn't match (but not factored into equality comparison)\n",
      "*** Warning: mesh_face_idx didn't match (but not factored into equality comparison)\n",
      "*** Warning: mesh_face_idx didn't match (but not factored into equality comparison)\n",
      "*** Warning: mesh_face_idx didn't match (but not factored into equality comparison)\n",
      "*** Warning: mesh_face_idx didn't match (but not factored into equality comparison)\n",
      "*** Warning: mesh_face_idx didn't match (but not factored into equality comparison)\n",
      "*** Warning: mesh_face_idx didn't match (but not factored into equality comparison)\n",
      "*** Warning: mesh_face_idx didn't match (but not factored into equality comparison)\n",
      "*** Warning: mesh_face_idx didn't match (but not factored into equality comparison)\n",
      "*** Warning: mesh_face_idx didn't match (but not factored into equality comparison)\n",
      "*** Warning: mesh_face_idx didn't match (but not factored into equality comparison)\n",
      "*** Warning: mesh_face_idx didn't match (but not factored into equality comparison)\n",
      "*** Warning: mesh_face_idx didn't match (but not factored into equality comparison)\n",
      "*** Warning: mesh_face_idx didn't match (but not factored into equality comparison)\n",
      "*** Warning: mesh_face_idx didn't match (but not factored into equality comparison)\n",
      "*** Warning: mesh_face_idx didn't match (but not factored into equality comparison)\n",
      "*** Warning: mesh_face_idx didn't match (but not factored into equality comparison)\n",
      "*** Warning: mesh_face_idx didn't match (but not factored into equality comparison)\n",
      "*** Warning: mesh_face_idx didn't match (but not factored into equality comparison)\n",
      "*** Warning: mesh_face_idx didn't match (but not factored into equality comparison)\n",
      "*** Warning: mesh_face_idx didn't match (but not factored into equality comparison)\n",
      "*** Warning: mesh_face_idx didn't match (but not factored into equality comparison)\n",
      "*** Warning: mesh_face_idx didn't match (but not factored into equality comparison)\n",
      "*** Warning: mesh_face_idx didn't match (but not factored into equality comparison)\n",
      "*** Warning: mesh_face_idx didn't match (but not factored into equality comparison)\n",
      "*** Warning: mesh_face_idx didn't match (but not factored into equality comparison)\n",
      "*** Warning: mesh_face_idx didn't match (but not factored into equality comparison)\n",
      "*** Warning: mesh_face_idx didn't match (but not factored into equality comparison)\n",
      "*** Warning: mesh_face_idx didn't match (but not factored into equality comparison)\n",
      "*** Warning: mesh_face_idx didn't match (but not factored into equality comparison)\n",
      "*** Warning: mesh_face_idx didn't match (but not factored into equality comparison)\n",
      "*** Warning: mesh_face_idx didn't match (but not factored into equality comparison)\n",
      "*** Warning: mesh_face_idx didn't match (but not factored into equality comparison)\n",
      "*** Warning: mesh_face_idx didn't match (but not factored into equality comparison)\n",
      "*** Warning: mesh_face_idx didn't match (but not factored into equality comparison)\n",
      "*** Warning: mesh_face_idx didn't match (but not factored into equality comparison)\n",
      "*** Warning: mesh_face_idx didn't match (but not factored into equality comparison)\n",
      "*** Warning: mesh_face_idx didn't match (but not factored into equality comparison)\n",
      "*** Warning: mesh_face_idx didn't match (but not factored into equality comparison)\n",
      "*** Warning: mesh_face_idx didn't match (but not factored into equality comparison)\n",
      "*** Warning: mesh_face_idx didn't match (but not factored into equality comparison)\n",
      "*** Warning: mesh_face_idx didn't match (but not factored into equality comparison)\n",
      "*** Warning: mesh_face_idx didn't match (but not factored into equality comparison)\n",
      "*** Warning: mesh_face_idx didn't match (but not factored into equality comparison)\n",
      "*** Warning: mesh_face_idx didn't match (but not factored into equality comparison)\n",
      "*** Warning: mesh_face_idx didn't match (but not factored into equality comparison)\n",
      "*** Warning: mesh_face_idx didn't match (but not factored into equality comparison)\n",
      "*** Warning: mesh_face_idx didn't match (but not factored into equality comparison)\n",
      "*** Warning: mesh_face_idx didn't match (but not factored into equality comparison)\n"
     ]
    },
    {
     "data": {
      "text/plain": [
       "True"
      ]
     },
     "execution_count": 92,
     "metadata": {},
     "output_type": "execute_result"
    }
   ],
   "source": [
    "# for n in double_soma_obj.concept_network.nodes:\n",
    "#     if \"L\" in n:\n",
    "#         double_soma_obj.concept_network.nodes[n][\"data\"].labels=double_soma_obj.concept_network.nodes[n][\"data\"].label\n",
    "recovered_neuron == double_neuron\n"
   ]
  },
  {
   "cell_type": "code",
   "execution_count": null,
   "metadata": {},
   "outputs": [],
   "source": []
  },
  {
   "cell_type": "markdown",
   "metadata": {},
   "source": [
    "# Creating the Comparison functions"
   ]
  },
  {
   "cell_type": "code",
   "execution_count": 5,
   "metadata": {},
   "outputs": [
    {
     "ename": "NameError",
     "evalue": "name 'nu' is not defined",
     "output_type": "error",
     "traceback": [
      "\u001b[0;31m---------------------------------------------------------------------------\u001b[0m",
      "\u001b[0;31mNameError\u001b[0m                                 Traceback (most recent call last)",
      "\u001b[0;32m<ipython-input-5-a13092a49279>\u001b[0m in \u001b[0;36m<module>\u001b[0;34m\u001b[0m\n\u001b[0;32m----> 1\u001b[0;31m \u001b[0mnu\u001b[0m \u001b[0;34m=\u001b[0m \u001b[0mreload\u001b[0m\u001b[0;34m(\u001b[0m\u001b[0mnu\u001b[0m\u001b[0;34m)\u001b[0m\u001b[0;34m\u001b[0m\u001b[0;34m\u001b[0m\u001b[0m\n\u001b[0m\u001b[1;32m      2\u001b[0m \u001b[0mxu\u001b[0m \u001b[0;34m=\u001b[0m \u001b[0mreload\u001b[0m\u001b[0;34m(\u001b[0m\u001b[0mxu\u001b[0m\u001b[0;34m)\u001b[0m\u001b[0;34m\u001b[0m\u001b[0;34m\u001b[0m\u001b[0m\n\u001b[1;32m      3\u001b[0m \u001b[0mendpoint_1\u001b[0m \u001b[0;34m=\u001b[0m \u001b[0mdouble_soma_obj\u001b[0m\u001b[0;34m.\u001b[0m\u001b[0mconcept_network\u001b[0m\u001b[0;34m.\u001b[0m\u001b[0mnodes\u001b[0m\u001b[0;34m[\u001b[0m\u001b[0;34m\"L0\"\u001b[0m\u001b[0;34m]\u001b[0m\u001b[0;34m[\u001b[0m\u001b[0;34m\"data\"\u001b[0m\u001b[0;34m]\u001b[0m\u001b[0;34m.\u001b[0m\u001b[0mconcept_network\u001b[0m\u001b[0;34m.\u001b[0m\u001b[0mnodes\u001b[0m\u001b[0;34m[\u001b[0m\u001b[0;36m0\u001b[0m\u001b[0;34m]\u001b[0m\u001b[0;34m[\u001b[0m\u001b[0;34m\"data\"\u001b[0m\u001b[0;34m]\u001b[0m\u001b[0;34m.\u001b[0m\u001b[0mendpoints\u001b[0m\u001b[0;34m\u001b[0m\u001b[0;34m\u001b[0m\u001b[0m\n\u001b[1;32m      4\u001b[0m \u001b[0mendpoint_2\u001b[0m \u001b[0;34m=\u001b[0m \u001b[0mcopy\u001b[0m\u001b[0;34m.\u001b[0m\u001b[0mcopy\u001b[0m\u001b[0;34m(\u001b[0m\u001b[0mendpoint_1\u001b[0m\u001b[0;34m)\u001b[0m\u001b[0;34m\u001b[0m\u001b[0;34m\u001b[0m\u001b[0m\n\u001b[1;32m      5\u001b[0m \u001b[0mendpoint_2\u001b[0m\u001b[0;34m[\u001b[0m\u001b[0;36m0\u001b[0m\u001b[0;34m]\u001b[0m\u001b[0;34m[\u001b[0m\u001b[0;34m-\u001b[0m\u001b[0;36m1\u001b[0m\u001b[0;34m]\u001b[0m \u001b[0;34m=\u001b[0m \u001b[0mendpoint_2\u001b[0m\u001b[0;34m[\u001b[0m\u001b[0;36m0\u001b[0m\u001b[0;34m]\u001b[0m\u001b[0;34m[\u001b[0m\u001b[0;34m-\u001b[0m\u001b[0;36m1\u001b[0m\u001b[0;34m]\u001b[0m \u001b[0;34m+\u001b[0m \u001b[0;36m0.01\u001b[0m\u001b[0;34m\u001b[0m\u001b[0;34m\u001b[0m\u001b[0m\n",
      "\u001b[0;31mNameError\u001b[0m: name 'nu' is not defined"
     ]
    }
   ],
   "source": [
    "nu = reload(nu)\n",
    "xu = reload(xu)\n",
    "endpoint_1 = double_soma_obj.concept_network.nodes[\"L0\"][\"data\"].concept_network.nodes[0][\"data\"].endpoints\n",
    "endpoint_2 = copy.copy(endpoint_1)\n",
    "endpoint_2[0][-1] = endpoint_2[0][-1] + 0.01\n",
    "\n",
    "print(nu.compare_threshold(endpoint_1,endpoint_2,print_flag=True))\n",
    "print(xu.compare_endpoints(endpoint_1,endpoint_2,print_flag=True,threshold=0.001))"
   ]
  },
  {
   "cell_type": "code",
   "execution_count": null,
   "metadata": {},
   "outputs": [],
   "source": [
    "\"\"\" How to compare neurons __cmp__\n",
    "Pseudocode: \n",
    "\n",
    "- want to tell it how it is different as well as returning True or False\n",
    "\n",
    "What we need to compare: \n",
    "-- Neuron level --\n",
    "segment_id #this might be random if originally none, but \n",
    "description\n",
    "mesh\n",
    "inside_pieces\n",
    "insignificant_limbs\n",
    "non_soma_touching_meshes\n",
    "\n",
    "---Neuron concept_network --\n",
    "Just use the is isomorphic property: where have a node_match(G1.nodes[n1], G2.nodes[n2]) function \n",
    "--= nodes should be considered equal if: \n",
    "    a. same name\n",
    "    \n",
    "--- Limb comparison:\n",
    "'all_concept_network_data',\n",
    "'concept_network',\n",
    "'concept_network_directional',\n",
    "'current_starting_coordinate',\n",
    "'current_starting_endpoints',\n",
    "'current_starting_node',\n",
    "'current_starting_soma',\n",
    "'label',\n",
    "'mesh',\n",
    "'mesh_center',\n",
    "\n",
    "    \n",
    "--- Branch comparison:\n",
    "'endpoints', #sort them by row and then subtract and then if distance is within threshold then equal\n",
    "'labels',\n",
    "'mesh',\n",
    "'mesh_center',\n",
    "'skeleton', : how do we compare skeletons? (compare just like a networkx graph)\n",
    "--> convert to networkx graph\n",
    "--> define functions that make nodes equal if within a certain distance\n",
    "--> define function that makes edges equal if have same distance\n",
    "'width'\n",
    "\n",
    "\n",
    "\n",
    "--- Soma Class compare\n",
    "'mesh',\n",
    "'mesh_center',\n",
    "'sdf',\n",
    "'side_length_ratios',\n",
    "'volume_ratio'\n",
    "\n",
    "\n",
    "How to actually do comparison: \n",
    "0) Make a compare endpoints function in skeletons\n",
    "\n",
    "1) Starting at neuron level compare all the things that are not the concept map\n",
    "2) Invoke the concept map comparison with a node comparison function that invokes the limb and node comparison functions \n",
    "based on the identity of the two nodes (if mismatching class type then print and automatically return False)\n",
    "\n",
    "3) Soma comparison function: \n",
    "- just compare all of the attributes\n",
    "\n",
    "4) Limb comparison: \n",
    "- compare all of the non networks attributes\n",
    "- For each network (directional and non-directional), call the is-isomorphic\n",
    "while defining the node comparison function as checking the name, and invoking the branch comparison function (if both are Branch type, if not print and return false)\n",
    "\n",
    "5) Branch comparison function:\n",
    "- compare all attributes (with special function developed to compare skeletons)\n",
    "\n",
    "\n",
    "\n",
    "\n",
    "\n",
    "\"\"\""
   ]
  },
  {
   "cell_type": "code",
   "execution_count": null,
   "metadata": {},
   "outputs": [],
   "source": [
    "neuron = reload(neuron)\n",
    "updated_neuron = neuron.Neuron(double_soma_obj,minimal_output=True)"
   ]
  },
  {
   "cell_type": "markdown",
   "metadata": {},
   "source": [
    "# Comparing Branches"
   ]
  },
  {
   "cell_type": "code",
   "execution_count": null,
   "metadata": {},
   "outputs": [],
   "source": [
    "double_soma_obj = su.load_object(\"12345_2_somas_with_merge.pkl\")"
   ]
  },
  {
   "cell_type": "code",
   "execution_count": null,
   "metadata": {},
   "outputs": [],
   "source": [
    "tu = reload(tu)\n",
    "neuron= reload(neuron)\n",
    "B1 = neuron.Branch(copy.deepcopy(double_soma_obj.concept_network.nodes[\"L1\"][\"data\"].concept_network.nodes[0][\"data\"]))\n",
    "B2= copy.deepcopy(B1)\n",
    "\n",
    "#initial comparison was equal\n",
    "#B1 == B2\n",
    "\n",
    "\n",
    "#when changed the skeleton was not equal\n",
    "# B2.skeleton[0][0] = [2,3,4]\n",
    "# B1 == B2\n",
    "\n",
    "#when changed the labels was not equal\n",
    "# B1.labels=[\"new Labels\"]\n",
    "# B1 == B2\n",
    "\n",
    "B2.mesh = B2.mesh.submesh([np.arange(0,len(B2.mesh.faces)-5)],append=True)\n",
    "B1 != B2\n",
    "\n",
    "# B1 != B2"
   ]
  },
  {
   "cell_type": "markdown",
   "metadata": {},
   "source": [
    "# Comparing the Limbs"
   ]
  },
  {
   "cell_type": "code",
   "execution_count": null,
   "metadata": {},
   "outputs": [],
   "source": [
    "tu = reload(tu)\n",
    "neuron= reload(neuron)\n",
    "xu = reload(xu)\n",
    "example_limb = double_soma_obj.concept_network.nodes[\"L1\"][\"data\"]\n",
    "example_limb.labels = example_limb.label\n",
    "[k for k in dir(example_limb) if \"__\" not in k]\n",
    "L1 = neuron.Limb(example_limb)\n",
    "\n",
    "L2 = neuron.Limb(L1)\n",
    "\n",
    "#----testing the all_concept_network_data\n",
    "# L1.all_concept_network_data = [L1.all_concept_network_data[1],L1.all_concept_network_data[0]]\n",
    "# L2.all_concept_network_data[0][\"starting_soma\"] = 10\n",
    "\n",
    "#---testing the concept network comparison\n",
    "#L1.concept_network.nodes[1][\"data\"].skeleton[0][0][0] = 1\n",
    "#L2.concept_network.remove_node(1)\n",
    "#L2.concept_network.nodes[1][\"data\"].mesh = L2.concept_network.nodes[1][\"data\"].mesh.submesh([np.arange(len(L2.concept_network.nodes[1][\"data\"].mesh.faces)-1)],append=True)\n",
    "\n",
    "#---testing concept_network_directional\n",
    "#L1.concept_network_directional.nodes[1][\"data\"].skeleton[0][0][0] = 1\n",
    "#L2.concept_network_directional.remove_node(1)\n",
    "#L2.concept_network_directional.nodes[1][\"data\"].mesh = L2.concept_network.nodes[1][\"data\"].mesh.submesh([np.arange(len(L2.concept_network.nodes[1][\"data\"].mesh.faces)-1)],append=True)\n",
    "\n",
    "#----testing current_starting_endpoints\n",
    "#L2.current_starting_endpoints = np.array([[1,2,3],[4,5,6]])\n",
    "\n",
    "#---- testing current_starting_soma\n",
    "#L1.current_starting_soma=10\n",
    "\n",
    "#---- testing current_starting_soma\n",
    "#L2.labels=[\"new_labels\"]\n",
    "\n",
    "# --- mesh_face_idx\n",
    "\n",
    "#L1.mesh_face_idx= np.array([])\n",
    "\n",
    "#----testing mesh_center\n",
    "#L2.mesh_center = np.array([1,2,3])\n"
   ]
  },
  {
   "cell_type": "markdown",
   "metadata": {},
   "source": [
    "# Comparing Somas"
   ]
  },
  {
   "cell_type": "code",
   "execution_count": null,
   "metadata": {},
   "outputs": [],
   "source": [
    "tu = reload(tu)\n",
    "neuron= reload(neuron)\n",
    "xu = reload(xu)\n",
    "example_soma = double_soma_obj.concept_network.nodes[\"S0\"][\"data\"]\n",
    "S1 = neuron.Soma(example_soma)\n",
    "S2 = neuron.Soma(example_soma)\n",
    "\n",
    "#----testing mesh_center\n",
    "S2.mesh_center = np.array([1,2,3])\n",
    "\n",
    "#---- testing side_length_ratios\n",
    "S1.side_length_ratios=[10,19,20]\n",
    "\n",
    "#---- testing current_starting_soma\n",
    "S2.volume_ratio = 14\n",
    "\n",
    "# --- mesh_face_idx\n",
    "S2.mesh_face_idx= np.array([])\n",
    "\n",
    "#----testing mesh_center\n",
    "S2.sdf = 14\n"
   ]
  },
  {
   "cell_type": "markdown",
   "metadata": {},
   "source": [
    "# Comparing the Neuron Object"
   ]
  },
  {
   "cell_type": "code",
   "execution_count": 8,
   "metadata": {},
   "outputs": [],
   "source": [
    "import networkx_utils as xu\n",
    "import numpy_utils as nu\n",
    "import neuron_utils as nru\n",
    "\n",
    "import neuron_utils as nru\n",
    "su = reload(su)\n",
    "nru = reload(nru)\n",
    "location=Path(\"test_pickle\")\n",
    "double_soma_obj = su.load_object(\"12345_2_somas_with_merge.pkl\")"
   ]
  },
  {
   "cell_type": "code",
   "execution_count": 9,
   "metadata": {},
   "outputs": [],
   "source": [
    "for n in double_soma_obj.concept_network.nodes:\n",
    "    if \"L\" in n:\n",
    "        double_soma_obj.concept_network.nodes[n][\"data\"].labels=double_soma_obj.concept_network.nodes[n][\"data\"].label"
   ]
  },
  {
   "cell_type": "code",
   "execution_count": 16,
   "metadata": {},
   "outputs": [
    {
     "data": {
      "text/plain": [
       "<module 'neuron' from '../../meshAfterParty/meshAfterParty/neuron.py'>"
      ]
     },
     "execution_count": 16,
     "metadata": {},
     "output_type": "execute_result"
    }
   ],
   "source": [
    "neuron"
   ]
  },
  {
   "cell_type": "code",
   "execution_count": 75,
   "metadata": {},
   "outputs": [
    {
     "name": "stdout",
     "output_type": "stream",
     "text": [
      "Recieved another instance of Neuron class in init -- so just copying data\n",
      "Recieved another instance of Neuron class in init -- so just copying data\n"
     ]
    }
   ],
   "source": [
    "import numpy as np\n",
    "nru = reload(nru)\n",
    "neuron = reload(neuron)\n",
    "xu = reload(xu)\n",
    "sk = reload(sk)\n",
    "nu= reload(nu)\n",
    "tu = reload(tu)\n",
    "\n",
    "import soma_extraction_utils as sm\n",
    "sm = reload(sm)\n",
    "\n",
    "obj1 = neuron.Neuron(double_soma_obj,minimal_output=False)\n",
    "obj2 = neuron.Neuron(double_soma_obj,minimal_output=False)\n",
    "\n",
    "#obj1 == obj2\n",
    "\n",
    "#testing the changing of different things\n",
    "#obj1.concept_network.nodes[\"S0\"][\"data\"].mesh = obj1.concept_network.nodes[\"S0\"][\"data\"].mesh.submesh([np.arange(0,len(obj1.concept_network.nodes[\"S0\"][\"data\"].mesh.faces)-5)],append=True)\n",
    "#obj1.concept_network.nodes[\"S0\"][\"data\"].sdf = 100\n",
    "#obj1.description = \"hello\"\n",
    "#obj1.segment_id = 1234567\n",
    "#obj1.inside_pieces = obj1.inside_pieces[:10]\n",
    "#obj2.non_soma_touching_meshes =  obj2.non_soma_touching_meshes[6:17]\n",
    "#curr_mesh = obj1.concept_network.nodes[\"L1\"][\"data\"].concept_network.nodes[1][\"data\"].mesh\n",
    "#obj1.concept_network.nodes[\"L1\"][\"data\"].concept_network.nodes[1][\"data\"].mesh = curr_mesh.submesh([np.arange(5,50)],append=True)"
   ]
  },
  {
   "cell_type": "code",
   "execution_count": 76,
   "metadata": {},
   "outputs": [
    {
     "name": "stdout",
     "output_type": "stream",
     "text": [
      "Differences List:\n",
      "0)   mesh didn't match\n",
      "    self.mesh = <trimesh.Trimesh(vertices.shape=(93, 3), faces.shape=(45, 3))>, other.mesh = <trimesh.Trimesh(vertices.shape=(180, 3), faces.shape=(359, 3))>\n",
      "Differences List:\n",
      "0)   concept_network didn't match\n",
      "    Differences in compare_networks = ['The node 1 has a different value for data in G1 (<neuron.Branch object at 0x7f01f1a7d390>) and in G2 (<neuron.Branch object at 0x7f01e495d1d0>) ']\n",
      "Differences List:\n",
      "0)   concept_network didn't match\n",
      "    Differences in compare_networks = ['The node L1 has a different value for data in G1 (<neuron.Limb object at 0x7f01db0a4e48>) and in G2 (<neuron.Limb object at 0x7f01f20f64e0>) ']\n"
     ]
    },
    {
     "data": {
      "text/plain": [
       "False"
      ]
     },
     "execution_count": 76,
     "metadata": {},
     "output_type": "execute_result"
    }
   ],
   "source": []
  },
  {
   "cell_type": "code",
   "execution_count": 24,
   "metadata": {},
   "outputs": [
    {
     "data": {
      "text/plain": [
       "neuron.Soma"
      ]
     },
     "execution_count": 24,
     "metadata": {},
     "output_type": "execute_result"
    }
   ],
   "source": [
    "getattr(neuron, \"Soma\")"
   ]
  },
  {
   "cell_type": "code",
   "execution_count": 31,
   "metadata": {},
   "outputs": [
    {
     "data": {
      "text/plain": [
       "neuron.Soma"
      ]
     },
     "execution_count": 31,
     "metadata": {},
     "output_type": "execute_result"
    }
   ],
   "source": [
    "getattr(neuron,obj1.concept_network.nodes[\"S0\"][\"data\"].__class__.__name__)"
   ]
  },
  {
   "cell_type": "code",
   "execution_count": 23,
   "metadata": {},
   "outputs": [
    {
     "name": "stdout",
     "output_type": "stream",
     "text": [
      "new soma init\n"
     ]
    },
    {
     "data": {
      "text/plain": [
       "<neuron.Soma at 0x7f01db4a4d68>"
      ]
     },
     "execution_count": 23,
     "metadata": {},
     "output_type": "execute_result"
    }
   ],
   "source": [
    "neuron = reload(neuron)\n",
    "neuron.Soma(obj1.concept_network.nodes[\"S0\"][\"data\"])"
   ]
  },
  {
   "cell_type": "code",
   "execution_count": null,
   "metadata": {},
   "outputs": [],
   "source": [
    "sk = reload(sk)\n",
    "nu = reload(nu)\n",
    "neuron=reload(neuron)\n",
    "xu = reload(xu)\n",
    "tu = reload(tu)\n",
    "\n"
   ]
  },
  {
   "cell_type": "code",
   "execution_count": null,
   "metadata": {},
   "outputs": [],
   "source": [
    "dir(obj1)"
   ]
  },
  {
   "cell_type": "code",
   "execution_count": null,
   "metadata": {},
   "outputs": [],
   "source": [
    "other_limb = L1.__class__(L1)\n",
    "other_limb"
   ]
  },
  {
   "cell_type": "code",
   "execution_count": null,
   "metadata": {},
   "outputs": [],
   "source": [
    "L1"
   ]
  },
  {
   "cell_type": "code",
   "execution_count": null,
   "metadata": {},
   "outputs": [],
   "source": [
    "# function that will compare skeletons\n"
   ]
  },
  {
   "cell_type": "code",
   "execution_count": null,
   "metadata": {},
   "outputs": [],
   "source": [
    "limb_concept_network = double_soma_obj.concept_network.nodes[\"L1\"][\"data\"].concept_network_directional\n",
    "nx.draw(limb_concept_network)"
   ]
  },
  {
   "cell_type": "code",
   "execution_count": null,
   "metadata": {},
   "outputs": [],
   "source": []
  },
  {
   "cell_type": "code",
   "execution_count": null,
   "metadata": {},
   "outputs": [],
   "source": []
  },
  {
   "cell_type": "code",
   "execution_count": null,
   "metadata": {},
   "outputs": [],
   "source": []
  },
  {
   "cell_type": "code",
   "execution_count": null,
   "metadata": {},
   "outputs": [],
   "source": []
  },
  {
   "cell_type": "markdown",
   "metadata": {},
   "source": [
    "# Development of the Compression"
   ]
  },
  {
   "cell_type": "code",
   "execution_count": null,
   "metadata": {},
   "outputs": [],
   "source": [
    "double_soma_obj = su.load_object(\"12345_2_somas_with_merge.pkl\")"
   ]
  },
  {
   "cell_type": "code",
   "execution_count": null,
   "metadata": {},
   "outputs": [],
   "source": [
    "import skeleton_utils as sk"
   ]
  },
  {
   "cell_type": "code",
   "execution_count": null,
   "metadata": {},
   "outputs": [],
   "source": [
    "sk.graph_skeleton_and_mesh(other_meshes=[double_soma_obj.mesh])"
   ]
  },
  {
   "cell_type": "code",
   "execution_count": null,
   "metadata": {},
   "outputs": [],
   "source": []
  },
  {
   "cell_type": "markdown",
   "metadata": {},
   "source": [
    "# lets look at what preprocessing input needs"
   ]
  },
  {
   "cell_type": "code",
   "execution_count": null,
   "metadata": {},
   "outputs": [],
   "source": [
    "#importing without the repair: \n",
    "original_neuron = trimesh.load_mesh(two_soma_path,reapir=False)\n"
   ]
  },
  {
   "cell_type": "code",
   "execution_count": null,
   "metadata": {},
   "outputs": [],
   "source": [
    "#original neuron from off file\n",
    "two_soma_path = Path(\"/notebooks/neuron_mesh_tools/test_neurons/multi_soma_example.off\")\n",
    "original_neuron_repaired = trimesh.load_mesh(two_soma_path,repair=True)"
   ]
  },
  {
   "cell_type": "code",
   "execution_count": null,
   "metadata": {},
   "outputs": [],
   "source": [
    "original_neuron.faces"
   ]
  },
  {
   "cell_type": "code",
   "execution_count": null,
   "metadata": {},
   "outputs": [],
   "source": [
    "double_soma_obj.preprocessed_data.keys()"
   ]
  },
  {
   "cell_type": "code",
   "execution_count": null,
   "metadata": {},
   "outputs": [],
   "source": [
    "def find_face_idx_and_check_recovery(original_mesh,submesh_list):\n",
    "    submesh_list_face_idx = []\n",
    "    for sm in submesh_list:\n",
    "        sm_faces_idx = tu.original_mesh_faces_map(original_mesh=original_mesh, \n",
    "                                   submesh=sm,\n",
    "                               matching=True,\n",
    "                               print_flag=False)\n",
    "        submesh_list_face_idx.append(sm_faces_idx)\n",
    "        \n",
    "    recovered_submesh_meshes = [original_mesh.submesh([sm_f],append=True) for sm_f in submesh_list_face_idx]\n",
    "    #return recovered_submesh_meshes\n",
    "    for j,(orig_sm,rec_sm) in enumerate(zip(submesh_list,recovered_submesh_meshes)):\n",
    "        result = tu.compare_meshes_by_face_midpoints(orig_sm,rec_sm,print_flag=False)\n",
    "        if not result:\n",
    "            tu.compare_meshes_by_face_midpoints(orig_sm,rec_sm,print_flag=True)\n",
    "            raise Exception(f\"Submesh {j} was not able to be accurately recovered\")\n",
    "    \n",
    "    return submesh_list_face_idx"
   ]
  },
  {
   "cell_type": "code",
   "execution_count": null,
   "metadata": {},
   "outputs": [],
   "source": [
    "# # How to process the soma_meshes down to face id's\n",
    "# tu = reload(tu)\n",
    "# soma_meshes_face_idx = []\n",
    "# for sm in double_soma_obj.preprocessed_data[\"soma_meshes\"]:\n",
    "#     sm_faces_idx = tu.original_mesh_faces_map(original_mesh=double_soma_obj.mesh, \n",
    "#                                submesh=sm,\n",
    "#                            matching=True,\n",
    "#                            print_flag=True)\n",
    "#     soma_meshes_face_idx.append(sm_faces_idx)\n",
    "\n",
    "# #getting the faces back\n",
    "# recovered_soma_meshes = [double_soma_obj.mesh.submesh([sm_f],append=True) for sm_f in soma_meshes_face_idx]\n",
    "\n",
    "# #comparing meshes to make sure what recovered was the same\n",
    "# for orig_sm,rec_sm in zip(double_soma_obj.preprocessed_data[\"soma_meshes\"],recovered_soma_meshes):\n",
    "#     tu.compare_meshes_by_face_midpoints(orig_sm,rec_sm)"
   ]
  },
  {
   "cell_type": "code",
   "execution_count": null,
   "metadata": {},
   "outputs": [],
   "source": [
    "# doing the soma recovery more streamlined\n",
    "soma_meshes_face_idx = find_face_idx_and_check_recovery(original_mesh=double_soma_obj.mesh,\n",
    "                                                       submesh_list=double_soma_obj.preprocessed_data[\"soma_meshes\"])\n",
    "soma_meshes_face_idx"
   ]
  },
  {
   "cell_type": "code",
   "execution_count": null,
   "metadata": {},
   "outputs": [],
   "source": [
    "# soma_to_piece_connectivity is already small dictionary\n",
    "double_soma_obj.preprocessed_data[\"soma_to_piece_connectivity\"]\n",
    "\n",
    "# soma_sdfs just list\n",
    "double_soma_obj.preprocessed_data[\"soma_sdfs\"]"
   ]
  },
  {
   "cell_type": "code",
   "execution_count": null,
   "metadata": {},
   "outputs": [],
   "source": [
    "#insignificant, non_soma touching and inside pieces just mesh pieces ()\n",
    "insignificant_limbs_face_idx = find_face_idx_and_check_recovery(original_mesh=double_soma_obj.mesh,\n",
    "                                                       submesh_list=double_soma_obj.preprocessed_data[\"insignificant_limbs\"])\n",
    "\n",
    "inside_pieces_face_idx = find_face_idx_and_check_recovery(original_mesh=double_soma_obj.mesh,\n",
    "                                                       submesh_list=double_soma_obj.preprocessed_data[\"inside_pieces\"])\n",
    "\n",
    "non_soma_touching_meshes_face_idx = find_face_idx_and_check_recovery(original_mesh=double_soma_obj.mesh,\n",
    "                                                       submesh_list=double_soma_obj.preprocessed_data[\"non_soma_touching_meshes\"])\n"
   ]
  },
  {
   "cell_type": "code",
   "execution_count": null,
   "metadata": {},
   "outputs": [],
   "source": [
    "# recover the limb meshes from the original\n",
    "limb_meshes_face_idx = find_face_idx_and_check_recovery(original_mesh=double_soma_obj.mesh,\n",
    "                                                       submesh_list=double_soma_obj.preprocessed_data[\"limb_meshes\"])\n",
    "limb_meshes_face_idx"
   ]
  },
  {
   "cell_type": "code",
   "execution_count": null,
   "metadata": {},
   "outputs": [],
   "source": [
    "double_soma_obj.preprocessed_data[\"limb_correspondence\"][0][0].keys()"
   ]
  },
  {
   "cell_type": "code",
   "execution_count": null,
   "metadata": {
    "scrolled": true
   },
   "outputs": [],
   "source": [
    "# limb_correspondence can get rid of branch mesh and just recover from branch_face_idx\n",
    "\"\"\"\n",
    "Pseudocode: \n",
    "1) Want to keep skeleton and width\n",
    "2) Generate new branch_face_idx based on the original mesh\n",
    "--> later can recover the branch_mesh from the whole neuron mesh and the new branch_face_idx\n",
    "--> regenerate the and branch_face_idx from the recovered limb mesh and he recovered mesh\n",
    "\n",
    "\n",
    "\"\"\"\n",
    "import copy\n",
    "new_limb_correspondence = copy.deepcopy(double_soma_obj.preprocessed_data[\"limb_correspondence\"])\n",
    "from tqdm.notebook import tqdm\n",
    "\n",
    "for k in new_limb_correspondence:\n",
    "    for j in tqdm(new_limb_correspondence[k]):\n",
    "        new_limb_correspondence[k][j][\"branch_face_idx_whole_neuron\"] = find_face_idx_and_check_recovery(original_mesh=double_soma_obj.mesh,\n",
    "                                                       submesh_list=[new_limb_correspondence[k][j][\"branch_mesh\"]])[0]\n",
    "        \n",
    "        if \"branch_face_idx\" in new_limb_correspondence[k][j].keys():\n",
    "            del new_limb_correspondence[k][j][\"branch_face_idx\"]\n",
    "        if \"branch_mesh\" in new_limb_correspondence[k][j].keys():\n",
    "            del new_limb_correspondence[k][j][\"branch_mesh\"]\n",
    "\n",
    "#sk.graph_skeleton_and_mesh(other_meshes = [double_soma_obj.mesh.submesh([new_limb_correspondence[0][0][\"branch_face_idx_whole_neuron\"]],append=True)]) #checked before deletion"
   ]
  },
  {
   "cell_type": "code",
   "execution_count": null,
   "metadata": {},
   "outputs": [],
   "source": [
    "'limb_concept_networks', 'limb_labels',\n",
    "\n",
    "#Example that the networks have data inside of them so don't just want to reduce to edges\n",
    "double_soma_obj.preprocessed_data['limb_concept_networks'][0][0].nodes[50]\n",
    "\n",
    "#limb_labels\n",
    "double_soma_obj.preprocessed_data['limb_labels']"
   ]
  },
  {
   "cell_type": "code",
   "execution_count": null,
   "metadata": {},
   "outputs": [],
   "source": [
    "double_soma_obj.preprocessed_data.keys()"
   ]
  },
  {
   "cell_type": "code",
   "execution_count": null,
   "metadata": {},
   "outputs": [],
   "source": [
    "# all of the data will be \n",
    "\n",
    "\n",
    "\n",
    "soma_meshes_face_idx\n",
    "\n",
    "# soma_to_piece_connectivity is already small dictionary\n",
    "double_soma_obj.preprocessed_data[\"soma_to_piece_connectivity\"]\n",
    "double_soma_obj.preprocessed_data[\"soma_sdfs\"]\n",
    "\n",
    "insignificant_limbs_face_idx\n",
    "inside_pieces_face_idx\n",
    "non_soma_touching_meshes_face_idx\n",
    "\n",
    "limb_meshes_face_idx\n",
    "\n",
    "new_limb_correspondence\n",
    "\n",
    "double_soma_obj.preprocessed_data['limb_labels']\n",
    "double_soma_obj.preprocessed_data['limb_concept_networks']\n",
    "\n",
    "compressed_dict = dict(\n",
    "                      soma_meshes_face_idx=soma_meshes_face_idx,\n",
    "                       \n",
    "                      soma_to_piece_connectivity=double_soma_obj.preprocessed_data[\"soma_to_piece_connectivity\"],\n",
    "                      soma_sdfs=double_soma_obj.preprocessed_data[\"soma_sdfs\"],\n",
    "                       \n",
    "                      insignificant_limbs_face_idx=insignificant_limbs_face_idx,\n",
    "                      inside_pieces_face_idx=inside_pieces_face_idx,\n",
    "                      non_soma_touching_meshes_face_idx=non_soma_touching_meshes_face_idx,\n",
    "                       \n",
    "                      limb_meshes_face_idx=limb_meshes_face_idx,\n",
    "                      \n",
    "                      new_limb_correspondence=new_limb_correspondence,\n",
    "                      \n",
    "                      #limb_labels= double_soma_obj.preprocessed_data['limb_labels'],\n",
    "                      #limb_concept_networks=double_soma_obj.preprocessed_data['limb_concept_networks']\n",
    ")"
   ]
  },
  {
   "cell_type": "code",
   "execution_count": null,
   "metadata": {},
   "outputs": [],
   "source": [
    "#going to pkl the dictionary and see how big it is: \n",
    "location=Path(\"test_pickle\")\n",
    "\n",
    "reg_size = su.save_object(compressed_dict,location / Path(\"double_soma_reg_pickle\"),return_size=True)\n"
   ]
  },
  {
   "cell_type": "code",
   "execution_count": null,
   "metadata": {},
   "outputs": [],
   "source": [
    "soma_meshes_face_idx"
   ]
  },
  {
   "cell_type": "code",
   "execution_count": null,
   "metadata": {},
   "outputs": [],
   "source": [
    "import system_utils as su\n",
    "su = reload(su)\n",
    "\n",
    "location=Path(\"test_pickle\")\n",
    "if not location.exists():\n",
    "    location.mkdir()\n",
    "    \n",
    "total_sizes = []\n",
    "for key,value in compressed_dict.items():\n",
    "    \n",
    "    curr_size = su.compressed_pickle(value,location / Path(f\"{key}_compressed_pickle\"),return_size=True)\n",
    "    total_sizes.append(curr_size)"
   ]
  },
  {
   "cell_type": "code",
   "execution_count": null,
   "metadata": {},
   "outputs": [],
   "source": [
    "\"\"\"very large items\n",
    "new_limb_correspondence\n",
    "\n",
    "limb_concept_networks\n",
    "\"\"\""
   ]
  },
  {
   "cell_type": "code",
   "execution_count": null,
   "metadata": {},
   "outputs": [],
   "source": [
    "16232788/1000000"
   ]
  },
  {
   "cell_type": "code",
   "execution_count": null,
   "metadata": {},
   "outputs": [],
   "source": [
    "\"\"\"\n",
    "Which parts can be scaled down:\n",
    "soma_meshes --> can be converted to face indexes (soma_meshes_face_idx)\n",
    "\n",
    "\n",
    "\"\"\""
   ]
  },
  {
   "cell_type": "markdown",
   "metadata": {},
   "source": [
    "# want a function that does comparison of two neuron objects to make sure the same"
   ]
  },
  {
   "cell_type": "code",
   "execution_count": null,
   "metadata": {},
   "outputs": [],
   "source": []
  }
 ],
 "metadata": {
  "kernelspec": {
   "display_name": "Python 3",
   "language": "python",
   "name": "python3"
  },
  "language_info": {
   "codemirror_mode": {
    "name": "ipython",
    "version": 3
   },
   "file_extension": ".py",
   "mimetype": "text/x-python",
   "name": "python",
   "nbconvert_exporter": "python",
   "pygments_lexer": "ipython3",
   "version": "3.6.9"
  }
 },
 "nbformat": 4,
 "nbformat_minor": 4
}
