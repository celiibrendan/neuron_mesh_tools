{
 "cells": [
  {
   "cell_type": "code",
   "execution_count": null,
   "metadata": {},
   "outputs": [],
   "source": [
    "\"\"\"\n",
    "Purpose: Investigate fidelity of meshAfterParty processing with \n",
    "1) over propagation of a label\n",
    "2) Spine at the end points\n",
    "\n",
    "\"\"\""
   ]
  },
  {
   "cell_type": "markdown",
   "metadata": {},
   "source": [
    "# Part 1) Investigating Propagation of Label"
   ]
  },
  {
   "cell_type": "markdown",
   "metadata": {},
   "source": [
    "# Importing Relevant Packages"
   ]
  },
  {
   "cell_type": "code",
   "execution_count": 1,
   "metadata": {},
   "outputs": [],
   "source": [
    "from os import sys\n",
    "sys.path.append(\"/meshAfterParty/\")"
   ]
  },
  {
   "cell_type": "code",
   "execution_count": 2,
   "metadata": {},
   "outputs": [
    {
     "name": "stderr",
     "output_type": "stream",
     "text": [
      "WARNING:root:Need to pip install annotationframeworkclient to repair mesh with pychunkedgraph\n",
      "WARNING:root:Need to pip install annotationframeworkclient to use dataset_name parameters\n"
     ]
    }
   ],
   "source": [
    "import soma_extraction_utils as sm\n",
    "import neuron\n",
    "import neuron_visualizations as nviz\n",
    "from pathlib import Path\n",
    "from importlib import reload"
   ]
  },
  {
   "cell_type": "markdown",
   "metadata": {},
   "source": [
    "# Importing Neuron Mesh"
   ]
  },
  {
   "cell_type": "code",
   "execution_count": 3,
   "metadata": {},
   "outputs": [],
   "source": [
    "neuron_mesh_file = Path(\"../test_neurons/spine_detection/100224677766544793_inhibitory_2.off\")\n",
    "seg_id = 100224677766544793\n",
    "description=\"inhibitory_2\"\n",
    "\n",
    "neuron_mesh_file = Path(\"../test_neurons/spine_detection/90725377802114822_inhibitory_7.off\")\n",
    "seg_id = 90725377802114822\n",
    "description=\"inhibitory_7\"\n",
    "\n",
    "import trimesh_utils as tu\n",
    "current_neuron_mesh = tu.load_mesh_no_processing(neuron_mesh_file)"
   ]
  },
  {
   "cell_type": "code",
   "execution_count": 4,
   "metadata": {},
   "outputs": [
    {
     "name": "stdout",
     "output_type": "stream",
     "text": [
      "picking a random 7 digit segment id: 71470279\n",
      "--- 0) Having to preprocess the Neuron becuase no preprocessed data\n",
      "Please wait this could take a while.....\n",
      "--- 0) Total time for preprocessing: 103.95130014419556\n",
      "\n",
      "\n",
      "\n",
      "\n",
      "--- 1) Finished unpacking preprocessed materials: 6.198883056640625e-06\n",
      "total_edges = [['S0', 'L0'], ['S0', 'L1'], ['S0', 'L2'], ['S0', 'L3'], ['S0', 'L4']]\n",
      "--- 2) Finished creating neuron connectivity graph: 7.963180541992188e-05\n",
      "Having to generate soma_meshes_face_idx because none in preprocessed data\n",
      "--- 3a) Finshed generating soma_meshes_face_idx: 0.038982391357421875\n",
      "Using the close holes feature for watertightness in soma_volume_ratio\n",
      "IN INPUT FILE VALIDATION LOOP\n",
      "LEAVING LOOP, MESH VALIDATED\n",
      "Using port = 9867\n",
      "xvfb-run -n 9867 -s \"-screen 0 800x600x24\" meshlabserver $@  -i /notebooks/meshAfterPartyDev/temp/neuron_84480.off -o /notebooks/meshAfterPartyDev/temp/neuron_84480_fill_holes.off -s /notebooks/meshAfterPartyDev/temp/fill_holes_16425.mls\n",
      "removed temporary input file: /notebooks/meshAfterPartyDev/temp/neuron_84480.off\n",
      "removed temporary output file: /notebooks/meshAfterPartyDev/temp/neuron_84480_fill_holes.off\n",
      "mesh.is_watertight = True\n",
      "/notebooks/meshAfterPartyDev/Poisson_temp/poisson_507641.mls is being deleted....\n",
      "--- 3) Finshed generating soma objects and adding them to concept graph: 1.1278033256530762\n",
      "--- 4a) Finshed generating curr_limb_meshes_face_idx: 0.16154909133911133\n",
      "curr_limb_concept_networks= {0: <networkx_utils.GraphOrderedEdges object at 0x7f093868b1d0>}\n",
      "concept_network_dict = {0: <networkx_utils.GraphOrderedEdges object at 0x7f093868b1d0>}\n",
      "checking and resolving cycles\n",
      "No cycles to fix\n",
      "curr_limb_concept_networks= {0: <networkx_utils.GraphOrderedEdges object at 0x7f09c818d5c0>}\n",
      "concept_network_dict = {0: <networkx_utils.GraphOrderedEdges object at 0x7f09c818d5c0>}\n",
      "checking and resolving cycles\n",
      "No cycles to fix\n",
      "curr_limb_concept_networks= {0: <networkx_utils.GraphOrderedEdges object at 0x7f099f243eb8>}\n",
      "concept_network_dict = {0: <networkx_utils.GraphOrderedEdges object at 0x7f099f243eb8>}\n",
      "checking and resolving cycles\n",
      "No cycles to fix\n",
      "curr_limb_concept_networks= {0: <networkx_utils.GraphOrderedEdges object at 0x7f099f243e48>}\n",
      "concept_network_dict = {0: <networkx_utils.GraphOrderedEdges object at 0x7f099f243e48>}\n",
      "Concept graph size was 1 or less so returning original\n",
      "curr_limb_concept_networks= {0: <networkx_utils.GraphOrderedEdges object at 0x7f093b98d0b8>}\n",
      "concept_network_dict = {0: <networkx_utils.GraphOrderedEdges object at 0x7f093b98d0b8>}\n",
      "Concept graph size was 1 or less so returning original\n",
      "--- 4) Finshed generating Limb objects and adding them to concept graph: 0.07249045372009277\n",
      "--- 5) SKIPPING Doing the adaptive mesh correspondence on the meshparty preprocessing ---\n",
      "--- 6) SKIPPING Using the computed_attribute_dict to populate neuron attributes ---\n",
      "7) Calculating the spines for the neuorn if do not already exist\n",
      "7a) calculating spines because didn't exist\n",
      "query = median_mesh_center > 200 and n_faces_branch>100\n",
      "smoothness_threshold = 0.08\n",
      "The median_mesh_center was requested but has not already been calculated so calculating now.... \n",
      "Working on limb L0 branch 12\n"
     ]
    },
    {
     "data": {
      "application/vnd.jupyter.widget-view+json": {
       "model_id": "51d775ee3fb74cd7b1e20bb25d841018",
       "version_major": 2,
       "version_minor": 0
      },
      "text/plain": [
       "HBox(children=(FloatProgress(value=1.0, bar_style='info', layout=Layout(width='20px'), max=1.0), HTML(value=''…"
      ]
     },
     "metadata": {},
     "output_type": "display_data"
    },
    {
     "name": "stdout",
     "output_type": "stream",
     "text": [
      "\n",
      "Working on limb L0 branch 7\n"
     ]
    },
    {
     "data": {
      "application/vnd.jupyter.widget-view+json": {
       "model_id": "c225873c7197448a84dd3883a1435344",
       "version_major": 2,
       "version_minor": 0
      },
      "text/plain": [
       "HBox(children=(FloatProgress(value=1.0, bar_style='info', layout=Layout(width='20px'), max=1.0), HTML(value=''…"
      ]
     },
     "metadata": {},
     "output_type": "display_data"
    },
    {
     "name": "stdout",
     "output_type": "stream",
     "text": [
      "\n",
      "Working on limb L0 branch 11\n"
     ]
    },
    {
     "data": {
      "application/vnd.jupyter.widget-view+json": {
       "model_id": "be148719096b44dab4efe22704b97b4e",
       "version_major": 2,
       "version_minor": 0
      },
      "text/plain": [
       "HBox(children=(FloatProgress(value=1.0, bar_style='info', layout=Layout(width='20px'), max=1.0), HTML(value=''…"
      ]
     },
     "metadata": {},
     "output_type": "display_data"
    },
    {
     "name": "stdout",
     "output_type": "stream",
     "text": [
      "\n",
      "Working on limb L0 branch 5\n"
     ]
    },
    {
     "data": {
      "application/vnd.jupyter.widget-view+json": {
       "model_id": "137ef89203d64798a4a6064a9c697ae6",
       "version_major": 2,
       "version_minor": 0
      },
      "text/plain": [
       "HBox(children=(FloatProgress(value=1.0, bar_style='info', layout=Layout(width='20px'), max=1.0), HTML(value=''…"
      ]
     },
     "metadata": {},
     "output_type": "display_data"
    },
    {
     "name": "stdout",
     "output_type": "stream",
     "text": [
      "\n",
      "Working on limb L0 branch 10\n"
     ]
    },
    {
     "data": {
      "application/vnd.jupyter.widget-view+json": {
       "model_id": "56e1d090568e4958adf8a00000469b57",
       "version_major": 2,
       "version_minor": 0
      },
      "text/plain": [
       "HBox(children=(FloatProgress(value=1.0, bar_style='info', layout=Layout(width='20px'), max=1.0), HTML(value=''…"
      ]
     },
     "metadata": {},
     "output_type": "display_data"
    },
    {
     "name": "stdout",
     "output_type": "stream",
     "text": [
      "\n",
      "Working on limb L0 branch 2\n"
     ]
    },
    {
     "data": {
      "application/vnd.jupyter.widget-view+json": {
       "model_id": "6f8cf7a296cc432f8cfc64b8288d9b20",
       "version_major": 2,
       "version_minor": 0
      },
      "text/plain": [
       "HBox(children=(FloatProgress(value=1.0, bar_style='info', layout=Layout(width='20px'), max=1.0), HTML(value=''…"
      ]
     },
     "metadata": {},
     "output_type": "display_data"
    },
    {
     "name": "stdout",
     "output_type": "stream",
     "text": [
      "\n",
      "Working on limb L0 branch 4\n"
     ]
    },
    {
     "data": {
      "application/vnd.jupyter.widget-view+json": {
       "model_id": "e67ce367586c400ba2f5565ae097a4d5",
       "version_major": 2,
       "version_minor": 0
      },
      "text/plain": [
       "HBox(children=(FloatProgress(value=1.0, bar_style='info', layout=Layout(width='20px'), max=1.0), HTML(value=''…"
      ]
     },
     "metadata": {},
     "output_type": "display_data"
    },
    {
     "name": "stdout",
     "output_type": "stream",
     "text": [
      "\n",
      "Working on limb L0 branch 8\n"
     ]
    },
    {
     "data": {
      "application/vnd.jupyter.widget-view+json": {
       "model_id": "dc83be7c720e4f9ea74aa6403fc44b10",
       "version_major": 2,
       "version_minor": 0
      },
      "text/plain": [
       "HBox(children=(FloatProgress(value=1.0, bar_style='info', layout=Layout(width='20px'), max=1.0), HTML(value=''…"
      ]
     },
     "metadata": {},
     "output_type": "display_data"
    },
    {
     "name": "stdout",
     "output_type": "stream",
     "text": [
      "\n",
      "Working on limb L0 branch 9\n"
     ]
    },
    {
     "data": {
      "application/vnd.jupyter.widget-view+json": {
       "model_id": "048f2f2476f641c489a9e7a1015c15e4",
       "version_major": 2,
       "version_minor": 0
      },
      "text/plain": [
       "HBox(children=(FloatProgress(value=1.0, bar_style='info', layout=Layout(width='20px'), max=1.0), HTML(value=''…"
      ]
     },
     "metadata": {},
     "output_type": "display_data"
    },
    {
     "name": "stdout",
     "output_type": "stream",
     "text": [
      "\n",
      "Working on limb L0 branch 0\n"
     ]
    },
    {
     "data": {
      "application/vnd.jupyter.widget-view+json": {
       "model_id": "4ba991777e514edc9e894c36e1a7eb41",
       "version_major": 2,
       "version_minor": 0
      },
      "text/plain": [
       "HBox(children=(FloatProgress(value=1.0, bar_style='info', layout=Layout(width='20px'), max=1.0), HTML(value=''…"
      ]
     },
     "metadata": {},
     "output_type": "display_data"
    },
    {
     "name": "stdout",
     "output_type": "stream",
     "text": [
      "\n",
      "Working on limb L0 branch 1\n"
     ]
    },
    {
     "data": {
      "application/vnd.jupyter.widget-view+json": {
       "model_id": "407a1f68aa3a487db1abcb1227ffc723",
       "version_major": 2,
       "version_minor": 0
      },
      "text/plain": [
       "HBox(children=(FloatProgress(value=1.0, bar_style='info', layout=Layout(width='20px'), max=1.0), HTML(value=''…"
      ]
     },
     "metadata": {},
     "output_type": "display_data"
    },
    {
     "name": "stdout",
     "output_type": "stream",
     "text": [
      "\n",
      "Working on limb L0 branch 3\n"
     ]
    },
    {
     "data": {
      "application/vnd.jupyter.widget-view+json": {
       "model_id": "513d9888316d48dfb44a9114135318d6",
       "version_major": 2,
       "version_minor": 0
      },
      "text/plain": [
       "HBox(children=(FloatProgress(value=1.0, bar_style='info', layout=Layout(width='20px'), max=1.0), HTML(value=''…"
      ]
     },
     "metadata": {},
     "output_type": "display_data"
    },
    {
     "name": "stdout",
     "output_type": "stream",
     "text": [
      "\n",
      "Working on limb L0 branch 6\n"
     ]
    },
    {
     "data": {
      "application/vnd.jupyter.widget-view+json": {
       "model_id": "1d5a8ed1c80d4182af2806b7084aafb1",
       "version_major": 2,
       "version_minor": 0
      },
      "text/plain": [
       "HBox(children=(FloatProgress(value=1.0, bar_style='info', layout=Layout(width='20px'), max=1.0), HTML(value=''…"
      ]
     },
     "metadata": {},
     "output_type": "display_data"
    },
    {
     "name": "stdout",
     "output_type": "stream",
     "text": [
      "\n",
      "Working on limb L1 branch 6\n"
     ]
    },
    {
     "data": {
      "application/vnd.jupyter.widget-view+json": {
       "model_id": "69d70f479b5c49bebb83af183b162595",
       "version_major": 2,
       "version_minor": 0
      },
      "text/plain": [
       "HBox(children=(FloatProgress(value=1.0, bar_style='info', layout=Layout(width='20px'), max=1.0), HTML(value=''…"
      ]
     },
     "metadata": {},
     "output_type": "display_data"
    },
    {
     "name": "stdout",
     "output_type": "stream",
     "text": [
      "\n",
      "Working on limb L1 branch 2\n"
     ]
    },
    {
     "data": {
      "application/vnd.jupyter.widget-view+json": {
       "model_id": "c24c86b0b1dc4aa68a0172cbd488b317",
       "version_major": 2,
       "version_minor": 0
      },
      "text/plain": [
       "HBox(children=(FloatProgress(value=1.0, bar_style='info', layout=Layout(width='20px'), max=1.0), HTML(value=''…"
      ]
     },
     "metadata": {},
     "output_type": "display_data"
    },
    {
     "name": "stdout",
     "output_type": "stream",
     "text": [
      "\n",
      "Working on limb L1 branch 4\n"
     ]
    },
    {
     "data": {
      "application/vnd.jupyter.widget-view+json": {
       "model_id": "4e502b6a384e4ca99adfc69f8af049dc",
       "version_major": 2,
       "version_minor": 0
      },
      "text/plain": [
       "HBox(children=(FloatProgress(value=1.0, bar_style='info', layout=Layout(width='20px'), max=1.0), HTML(value=''…"
      ]
     },
     "metadata": {},
     "output_type": "display_data"
    },
    {
     "name": "stdout",
     "output_type": "stream",
     "text": [
      "\n",
      "Working on limb L1 branch 0\n"
     ]
    },
    {
     "data": {
      "application/vnd.jupyter.widget-view+json": {
       "model_id": "75884ab6203e46ff815fbc4688053b98",
       "version_major": 2,
       "version_minor": 0
      },
      "text/plain": [
       "HBox(children=(FloatProgress(value=1.0, bar_style='info', layout=Layout(width='20px'), max=1.0), HTML(value=''…"
      ]
     },
     "metadata": {},
     "output_type": "display_data"
    },
    {
     "name": "stdout",
     "output_type": "stream",
     "text": [
      "\n",
      "Working on limb L1 branch 1\n"
     ]
    },
    {
     "data": {
      "application/vnd.jupyter.widget-view+json": {
       "model_id": "d264218c8809424dbda266ec04d91fda",
       "version_major": 2,
       "version_minor": 0
      },
      "text/plain": [
       "HBox(children=(FloatProgress(value=1.0, bar_style='info', layout=Layout(width='20px'), max=1.0), HTML(value=''…"
      ]
     },
     "metadata": {},
     "output_type": "display_data"
    },
    {
     "name": "stdout",
     "output_type": "stream",
     "text": [
      "\n",
      "Working on limb L1 branch 3\n"
     ]
    },
    {
     "data": {
      "application/vnd.jupyter.widget-view+json": {
       "model_id": "84cb7c1ccdee49088135906ef4e83c70",
       "version_major": 2,
       "version_minor": 0
      },
      "text/plain": [
       "HBox(children=(FloatProgress(value=1.0, bar_style='info', layout=Layout(width='20px'), max=1.0), HTML(value=''…"
      ]
     },
     "metadata": {},
     "output_type": "display_data"
    },
    {
     "name": "stdout",
     "output_type": "stream",
     "text": [
      "\n",
      "Working on limb L1 branch 5\n"
     ]
    },
    {
     "data": {
      "application/vnd.jupyter.widget-view+json": {
       "model_id": "dd09f324ddf84d958146bf8e26054d0c",
       "version_major": 2,
       "version_minor": 0
      },
      "text/plain": [
       "HBox(children=(FloatProgress(value=1.0, bar_style='info', layout=Layout(width='20px'), max=1.0), HTML(value=''…"
      ]
     },
     "metadata": {},
     "output_type": "display_data"
    },
    {
     "name": "stdout",
     "output_type": "stream",
     "text": [
      "\n",
      "Working on limb L2 branch 1\n"
     ]
    },
    {
     "data": {
      "application/vnd.jupyter.widget-view+json": {
       "model_id": "979cdc30e54c44dc98cd81f9223e81c1",
       "version_major": 2,
       "version_minor": 0
      },
      "text/plain": [
       "HBox(children=(FloatProgress(value=1.0, bar_style='info', layout=Layout(width='20px'), max=1.0), HTML(value=''…"
      ]
     },
     "metadata": {},
     "output_type": "display_data"
    },
    {
     "name": "stdout",
     "output_type": "stream",
     "text": [
      "\n",
      "Working on limb L2 branch 0\n"
     ]
    },
    {
     "data": {
      "application/vnd.jupyter.widget-view+json": {
       "model_id": "4954e47fa91e42f3a8afc9d225476f30",
       "version_major": 2,
       "version_minor": 0
      },
      "text/plain": [
       "HBox(children=(FloatProgress(value=1.0, bar_style='info', layout=Layout(width='20px'), max=1.0), HTML(value=''…"
      ]
     },
     "metadata": {},
     "output_type": "display_data"
    },
    {
     "name": "stdout",
     "output_type": "stream",
     "text": [
      "\n",
      "Working on limb L2 branch 2\n"
     ]
    },
    {
     "data": {
      "application/vnd.jupyter.widget-view+json": {
       "model_id": "a2090400fda94f88a564b7a61a5499e7",
       "version_major": 2,
       "version_minor": 0
      },
      "text/plain": [
       "HBox(children=(FloatProgress(value=1.0, bar_style='info', layout=Layout(width='20px'), max=1.0), HTML(value=''…"
      ]
     },
     "metadata": {},
     "output_type": "display_data"
    },
    {
     "name": "stdout",
     "output_type": "stream",
     "text": [
      "\n",
      "Working on limb L2 branch 3\n"
     ]
    },
    {
     "data": {
      "application/vnd.jupyter.widget-view+json": {
       "model_id": "a244de8094cd44c58b5d8386b6ffabaf",
       "version_major": 2,
       "version_minor": 0
      },
      "text/plain": [
       "HBox(children=(FloatProgress(value=1.0, bar_style='info', layout=Layout(width='20px'), max=1.0), HTML(value=''…"
      ]
     },
     "metadata": {},
     "output_type": "display_data"
    },
    {
     "name": "stdout",
     "output_type": "stream",
     "text": [
      "\n",
      "Working on limb L2 branch 4\n"
     ]
    },
    {
     "data": {
      "application/vnd.jupyter.widget-view+json": {
       "model_id": "25a2816e28154b28a33e229d0081a7da",
       "version_major": 2,
       "version_minor": 0
      },
      "text/plain": [
       "HBox(children=(FloatProgress(value=1.0, bar_style='info', layout=Layout(width='20px'), max=1.0), HTML(value=''…"
      ]
     },
     "metadata": {},
     "output_type": "display_data"
    },
    {
     "name": "stdout",
     "output_type": "stream",
     "text": [
      "\n",
      "Working on limb L3 branch 0\n"
     ]
    },
    {
     "data": {
      "application/vnd.jupyter.widget-view+json": {
       "model_id": "aa2ab85c6ab24804b26d03d8cf4ebe42",
       "version_major": 2,
       "version_minor": 0
      },
      "text/plain": [
       "HBox(children=(FloatProgress(value=1.0, bar_style='info', layout=Layout(width='20px'), max=1.0), HTML(value=''…"
      ]
     },
     "metadata": {},
     "output_type": "display_data"
    },
    {
     "name": "stdout",
     "output_type": "stream",
     "text": [
      "\n",
      "Working on limb L4 branch 0\n"
     ]
    },
    {
     "data": {
      "application/vnd.jupyter.widget-view+json": {
       "model_id": "6f1a6d1340cd42559a6265ec1f4fe70c",
       "version_major": 2,
       "version_minor": 0
      },
      "text/plain": [
       "HBox(children=(FloatProgress(value=1.0, bar_style='info', layout=Layout(width='20px'), max=1.0), HTML(value=''…"
      ]
     },
     "metadata": {},
     "output_type": "display_data"
    },
    {
     "name": "stdout",
     "output_type": "stream",
     "text": [
      "\n"
     ]
    },
    {
     "data": {
      "application/vnd.jupyter.widget-view+json": {
       "model_id": "f9e18230936e4014bb69ea804d5e2002",
       "version_major": 2,
       "version_minor": 0
      },
      "text/plain": [
       "HBox(children=(FloatProgress(value=0.0, max=14.0), HTML(value='')))"
      ]
     },
     "metadata": {},
     "output_type": "display_data"
    },
    {
     "name": "stdout",
     "output_type": "stream",
     "text": [
      "\n"
     ]
    },
    {
     "data": {
      "application/vnd.jupyter.widget-view+json": {
       "model_id": "004ae5dcf1854ec7bb68f4dad7fa9c62",
       "version_major": 2,
       "version_minor": 0
      },
      "text/plain": [
       "HBox(children=(FloatProgress(value=0.0, max=2.0), HTML(value='')))"
      ]
     },
     "metadata": {},
     "output_type": "display_data"
    },
    {
     "name": "stdout",
     "output_type": "stream",
     "text": [
      "\n"
     ]
    },
    {
     "data": {
      "application/vnd.jupyter.widget-view+json": {
       "model_id": "a2fce39b45ee433e885ad3cfda3b86c1",
       "version_major": 2,
       "version_minor": 0
      },
      "text/plain": [
       "HBox(children=(FloatProgress(value=0.0, max=5.0), HTML(value='')))"
      ]
     },
     "metadata": {},
     "output_type": "display_data"
    },
    {
     "name": "stdout",
     "output_type": "stream",
     "text": [
      "\n"
     ]
    },
    {
     "data": {
      "application/vnd.jupyter.widget-view+json": {
       "model_id": "677e036a391f4b04a1e1367b049f9d99",
       "version_major": 2,
       "version_minor": 0
      },
      "text/plain": [
       "HBox(children=(FloatProgress(value=0.0, max=2.0), HTML(value='')))"
      ]
     },
     "metadata": {},
     "output_type": "display_data"
    },
    {
     "name": "stdout",
     "output_type": "stream",
     "text": [
      "\n"
     ]
    },
    {
     "data": {
      "application/vnd.jupyter.widget-view+json": {
       "model_id": "15c41e3b6e3e48a1ba7cf8bf6fd5367e",
       "version_major": 2,
       "version_minor": 0
      },
      "text/plain": [
       "HBox(children=(FloatProgress(value=0.0, max=4.0), HTML(value='')))"
      ]
     },
     "metadata": {},
     "output_type": "display_data"
    },
    {
     "name": "stdout",
     "output_type": "stream",
     "text": [
      "\n"
     ]
    },
    {
     "data": {
      "application/vnd.jupyter.widget-view+json": {
       "model_id": "5f647cb046a2446f8a12e77d4c020e73",
       "version_major": 2,
       "version_minor": 0
      },
      "text/plain": [
       "HBox(children=(FloatProgress(value=0.0, max=3.0), HTML(value='')))"
      ]
     },
     "metadata": {},
     "output_type": "display_data"
    },
    {
     "name": "stdout",
     "output_type": "stream",
     "text": [
      "\n"
     ]
    },
    {
     "data": {
      "application/vnd.jupyter.widget-view+json": {
       "model_id": "89fbffe440aa4af1a7fdb2bc0f906636",
       "version_major": 2,
       "version_minor": 0
      },
      "text/plain": [
       "HBox(children=(FloatProgress(value=0.0, max=1.0), HTML(value='')))"
      ]
     },
     "metadata": {},
     "output_type": "display_data"
    },
    {
     "name": "stdout",
     "output_type": "stream",
     "text": [
      "\n",
      "There was only one mesh found from the spine process and mesh split, returning empty array\n"
     ]
    },
    {
     "data": {
      "application/vnd.jupyter.widget-view+json": {
       "model_id": "c818cfccc29d411bb41dfb4c060629e8",
       "version_major": 2,
       "version_minor": 0
      },
      "text/plain": [
       "HBox(children=(FloatProgress(value=0.0, max=4.0), HTML(value='')))"
      ]
     },
     "metadata": {},
     "output_type": "display_data"
    },
    {
     "name": "stdout",
     "output_type": "stream",
     "text": [
      "\n"
     ]
    },
    {
     "data": {
      "application/vnd.jupyter.widget-view+json": {
       "model_id": "49712afe74a44ee097232f2950353a2f",
       "version_major": 2,
       "version_minor": 0
      },
      "text/plain": [
       "HBox(children=(FloatProgress(value=0.0, max=1.0), HTML(value='')))"
      ]
     },
     "metadata": {},
     "output_type": "display_data"
    },
    {
     "name": "stdout",
     "output_type": "stream",
     "text": [
      "\n",
      "There was only one mesh found from the spine process and mesh split, returning empty array\n"
     ]
    },
    {
     "data": {
      "application/vnd.jupyter.widget-view+json": {
       "model_id": "e209a20f0cc84e93a3c11377ec2c975a",
       "version_major": 2,
       "version_minor": 0
      },
      "text/plain": [
       "HBox(children=(FloatProgress(value=0.0, max=2.0), HTML(value='')))"
      ]
     },
     "metadata": {},
     "output_type": "display_data"
    },
    {
     "name": "stdout",
     "output_type": "stream",
     "text": [
      "\n"
     ]
    },
    {
     "data": {
      "application/vnd.jupyter.widget-view+json": {
       "model_id": "f8d6ed51938147b4bd8095f3a573cac3",
       "version_major": 2,
       "version_minor": 0
      },
      "text/plain": [
       "HBox(children=(FloatProgress(value=0.0, max=1.0), HTML(value='')))"
      ]
     },
     "metadata": {},
     "output_type": "display_data"
    },
    {
     "name": "stdout",
     "output_type": "stream",
     "text": [
      "\n",
      "There was only one mesh found from the spine process and mesh split, returning empty array\n"
     ]
    },
    {
     "data": {
      "application/vnd.jupyter.widget-view+json": {
       "model_id": "fe0679d1354d47c988334decbae4e5b1",
       "version_major": 2,
       "version_minor": 0
      },
      "text/plain": [
       "HBox(children=(FloatProgress(value=0.0, max=3.0), HTML(value='')))"
      ]
     },
     "metadata": {},
     "output_type": "display_data"
    },
    {
     "name": "stdout",
     "output_type": "stream",
     "text": [
      "\n"
     ]
    },
    {
     "data": {
      "application/vnd.jupyter.widget-view+json": {
       "model_id": "943871d37d674d3e8284fbaa3ad9e5df",
       "version_major": 2,
       "version_minor": 0
      },
      "text/plain": [
       "HBox(children=(FloatProgress(value=0.0, max=14.0), HTML(value='')))"
      ]
     },
     "metadata": {},
     "output_type": "display_data"
    },
    {
     "name": "stdout",
     "output_type": "stream",
     "text": [
      "\n"
     ]
    },
    {
     "data": {
      "application/vnd.jupyter.widget-view+json": {
       "model_id": "cda788ef3127424f9234e2aa7ba68791",
       "version_major": 2,
       "version_minor": 0
      },
      "text/plain": [
       "HBox(children=(FloatProgress(value=0.0, max=6.0), HTML(value='')))"
      ]
     },
     "metadata": {},
     "output_type": "display_data"
    },
    {
     "name": "stdout",
     "output_type": "stream",
     "text": [
      "\n"
     ]
    },
    {
     "data": {
      "application/vnd.jupyter.widget-view+json": {
       "model_id": "78d28c860e604ef6beee561bff0b6a27",
       "version_major": 2,
       "version_minor": 0
      },
      "text/plain": [
       "HBox(children=(FloatProgress(value=0.0, max=2.0), HTML(value='')))"
      ]
     },
     "metadata": {},
     "output_type": "display_data"
    },
    {
     "name": "stdout",
     "output_type": "stream",
     "text": [
      "\n"
     ]
    },
    {
     "data": {
      "application/vnd.jupyter.widget-view+json": {
       "model_id": "02317d1875a34eb5916b4cef84897b91",
       "version_major": 2,
       "version_minor": 0
      },
      "text/plain": [
       "HBox(children=(FloatProgress(value=0.0, max=3.0), HTML(value='')))"
      ]
     },
     "metadata": {},
     "output_type": "display_data"
    },
    {
     "name": "stdout",
     "output_type": "stream",
     "text": [
      "\n"
     ]
    },
    {
     "data": {
      "application/vnd.jupyter.widget-view+json": {
       "model_id": "83a0800f5abc4b9e846663d0462c8395",
       "version_major": 2,
       "version_minor": 0
      },
      "text/plain": [
       "HBox(children=(FloatProgress(value=0.0, max=1.0), HTML(value='')))"
      ]
     },
     "metadata": {},
     "output_type": "display_data"
    },
    {
     "name": "stdout",
     "output_type": "stream",
     "text": [
      "\n",
      "There was only one mesh found from the spine process and mesh split, returning empty array\n"
     ]
    },
    {
     "data": {
      "application/vnd.jupyter.widget-view+json": {
       "model_id": "67783f47e12a47ecbec058e66da13042",
       "version_major": 2,
       "version_minor": 0
      },
      "text/plain": [
       "HBox(children=(FloatProgress(value=0.0, max=1.0), HTML(value='')))"
      ]
     },
     "metadata": {},
     "output_type": "display_data"
    },
    {
     "name": "stdout",
     "output_type": "stream",
     "text": [
      "\n",
      "There was only one mesh found from the spine process and mesh split, returning empty array\n"
     ]
    },
    {
     "data": {
      "application/vnd.jupyter.widget-view+json": {
       "model_id": "7bc6c3d2fdc14a26a389d3af49de81ca",
       "version_major": 2,
       "version_minor": 0
      },
      "text/plain": [
       "HBox(children=(FloatProgress(value=0.0, max=2.0), HTML(value='')))"
      ]
     },
     "metadata": {},
     "output_type": "display_data"
    },
    {
     "name": "stdout",
     "output_type": "stream",
     "text": [
      "\n"
     ]
    },
    {
     "data": {
      "application/vnd.jupyter.widget-view+json": {
       "model_id": "a3a9a9d052894bdba5d820469a33941d",
       "version_major": 2,
       "version_minor": 0
      },
      "text/plain": [
       "HBox(children=(FloatProgress(value=0.0, max=4.0), HTML(value='')))"
      ]
     },
     "metadata": {},
     "output_type": "display_data"
    },
    {
     "name": "stdout",
     "output_type": "stream",
     "text": [
      "\n"
     ]
    },
    {
     "data": {
      "application/vnd.jupyter.widget-view+json": {
       "model_id": "11172a5f05e9469ba8eaf498cf7317eb",
       "version_major": 2,
       "version_minor": 0
      },
      "text/plain": [
       "HBox(children=(FloatProgress(value=0.0, max=4.0), HTML(value='')))"
      ]
     },
     "metadata": {},
     "output_type": "display_data"
    },
    {
     "name": "stdout",
     "output_type": "stream",
     "text": [
      "\n"
     ]
    },
    {
     "data": {
      "application/vnd.jupyter.widget-view+json": {
       "model_id": "713e71fade8e4cdfaeabc2e43e56abd7",
       "version_major": 2,
       "version_minor": 0
      },
      "text/plain": [
       "HBox(children=(FloatProgress(value=0.0, max=8.0), HTML(value='')))"
      ]
     },
     "metadata": {},
     "output_type": "display_data"
    },
    {
     "name": "stdout",
     "output_type": "stream",
     "text": [
      "\n"
     ]
    },
    {
     "data": {
      "application/vnd.jupyter.widget-view+json": {
       "model_id": "ae778090aecc40bf804847bef875f851",
       "version_major": 2,
       "version_minor": 0
      },
      "text/plain": [
       "HBox(children=(FloatProgress(value=0.0, max=11.0), HTML(value='')))"
      ]
     },
     "metadata": {},
     "output_type": "display_data"
    },
    {
     "name": "stdout",
     "output_type": "stream",
     "text": [
      "\n",
      "Working on limb L0 branch 12\n"
     ]
    },
    {
     "data": {
      "application/vnd.jupyter.widget-view+json": {
       "model_id": "ee67e262a19e4c4eae63635b7d85a543",
       "version_major": 2,
       "version_minor": 0
      },
      "text/plain": [
       "HBox(children=(FloatProgress(value=1.0, bar_style='info', layout=Layout(width='20px'), max=1.0), HTML(value=''…"
      ]
     },
     "metadata": {},
     "output_type": "display_data"
    },
    {
     "name": "stdout",
     "output_type": "stream",
     "text": [
      "\n",
      "Working on limb L0 branch 7\n"
     ]
    },
    {
     "data": {
      "application/vnd.jupyter.widget-view+json": {
       "model_id": "fecf94df3b734c519bd210c5d2d12817",
       "version_major": 2,
       "version_minor": 0
      },
      "text/plain": [
       "HBox(children=(FloatProgress(value=1.0, bar_style='info', layout=Layout(width='20px'), max=1.0), HTML(value=''…"
      ]
     },
     "metadata": {},
     "output_type": "display_data"
    },
    {
     "name": "stdout",
     "output_type": "stream",
     "text": [
      "\n",
      "Working on limb L0 branch 11\n"
     ]
    },
    {
     "data": {
      "application/vnd.jupyter.widget-view+json": {
       "model_id": "95eda43286ea4adba60d0362b76bdc83",
       "version_major": 2,
       "version_minor": 0
      },
      "text/plain": [
       "HBox(children=(FloatProgress(value=1.0, bar_style='info', layout=Layout(width='20px'), max=1.0), HTML(value=''…"
      ]
     },
     "metadata": {},
     "output_type": "display_data"
    },
    {
     "name": "stdout",
     "output_type": "stream",
     "text": [
      "\n",
      "Working on limb L0 branch 5\n"
     ]
    },
    {
     "data": {
      "application/vnd.jupyter.widget-view+json": {
       "model_id": "cc1c9f5ecc7b4b17a0a34ebcd7d613c7",
       "version_major": 2,
       "version_minor": 0
      },
      "text/plain": [
       "HBox(children=(FloatProgress(value=1.0, bar_style='info', layout=Layout(width='20px'), max=1.0), HTML(value=''…"
      ]
     },
     "metadata": {},
     "output_type": "display_data"
    },
    {
     "name": "stdout",
     "output_type": "stream",
     "text": [
      "\n",
      "Working on limb L0 branch 10\n"
     ]
    },
    {
     "data": {
      "application/vnd.jupyter.widget-view+json": {
       "model_id": "a2532d06b6e84f70bb4f184932289486",
       "version_major": 2,
       "version_minor": 0
      },
      "text/plain": [
       "HBox(children=(FloatProgress(value=1.0, bar_style='info', layout=Layout(width='20px'), max=1.0), HTML(value=''…"
      ]
     },
     "metadata": {},
     "output_type": "display_data"
    },
    {
     "name": "stdout",
     "output_type": "stream",
     "text": [
      "\n",
      "Working on limb L0 branch 2\n"
     ]
    },
    {
     "data": {
      "application/vnd.jupyter.widget-view+json": {
       "model_id": "7dc0c1686200458c803c0ed9c4d97620",
       "version_major": 2,
       "version_minor": 0
      },
      "text/plain": [
       "HBox(children=(FloatProgress(value=1.0, bar_style='info', layout=Layout(width='20px'), max=1.0), HTML(value=''…"
      ]
     },
     "metadata": {},
     "output_type": "display_data"
    },
    {
     "name": "stdout",
     "output_type": "stream",
     "text": [
      "\n",
      "Working on limb L0 branch 4\n"
     ]
    },
    {
     "data": {
      "application/vnd.jupyter.widget-view+json": {
       "model_id": "068b18797ddc4b23b5604aaf2c28694e",
       "version_major": 2,
       "version_minor": 0
      },
      "text/plain": [
       "HBox(children=(FloatProgress(value=1.0, bar_style='info', layout=Layout(width='20px'), max=1.0), HTML(value=''…"
      ]
     },
     "metadata": {},
     "output_type": "display_data"
    },
    {
     "name": "stdout",
     "output_type": "stream",
     "text": [
      "\n",
      "Working on limb L0 branch 8\n"
     ]
    },
    {
     "data": {
      "application/vnd.jupyter.widget-view+json": {
       "model_id": "aac20cac0de9442f8293429ee9efb94f",
       "version_major": 2,
       "version_minor": 0
      },
      "text/plain": [
       "HBox(children=(FloatProgress(value=1.0, bar_style='info', layout=Layout(width='20px'), max=1.0), HTML(value=''…"
      ]
     },
     "metadata": {},
     "output_type": "display_data"
    },
    {
     "name": "stdout",
     "output_type": "stream",
     "text": [
      "\n",
      "Working on limb L0 branch 9\n"
     ]
    },
    {
     "data": {
      "application/vnd.jupyter.widget-view+json": {
       "model_id": "ebe44eccd4c44136b61f7f019b790bdb",
       "version_major": 2,
       "version_minor": 0
      },
      "text/plain": [
       "HBox(children=(FloatProgress(value=1.0, bar_style='info', layout=Layout(width='20px'), max=1.0), HTML(value=''…"
      ]
     },
     "metadata": {},
     "output_type": "display_data"
    },
    {
     "name": "stdout",
     "output_type": "stream",
     "text": [
      "\n",
      "Working on limb L0 branch 0\n"
     ]
    },
    {
     "data": {
      "application/vnd.jupyter.widget-view+json": {
       "model_id": "719a20acb88d4200a237d2a7d12a9b3d",
       "version_major": 2,
       "version_minor": 0
      },
      "text/plain": [
       "HBox(children=(FloatProgress(value=1.0, bar_style='info', layout=Layout(width='20px'), max=1.0), HTML(value=''…"
      ]
     },
     "metadata": {},
     "output_type": "display_data"
    },
    {
     "name": "stdout",
     "output_type": "stream",
     "text": [
      "\n",
      "Working on limb L0 branch 1\n"
     ]
    },
    {
     "data": {
      "application/vnd.jupyter.widget-view+json": {
       "model_id": "6238529048884eb09558e752bf2fc351",
       "version_major": 2,
       "version_minor": 0
      },
      "text/plain": [
       "HBox(children=(FloatProgress(value=1.0, bar_style='info', layout=Layout(width='20px'), max=1.0), HTML(value=''…"
      ]
     },
     "metadata": {},
     "output_type": "display_data"
    },
    {
     "name": "stdout",
     "output_type": "stream",
     "text": [
      "\n",
      "Working on limb L0 branch 3\n"
     ]
    },
    {
     "data": {
      "application/vnd.jupyter.widget-view+json": {
       "model_id": "87dd2b9a5fca44b7b319749a24568591",
       "version_major": 2,
       "version_minor": 0
      },
      "text/plain": [
       "HBox(children=(FloatProgress(value=1.0, bar_style='info', layout=Layout(width='20px'), max=1.0), HTML(value=''…"
      ]
     },
     "metadata": {},
     "output_type": "display_data"
    },
    {
     "name": "stdout",
     "output_type": "stream",
     "text": [
      "\n",
      "Working on limb L0 branch 6\n"
     ]
    },
    {
     "data": {
      "application/vnd.jupyter.widget-view+json": {
       "model_id": "28b3669cc3d8413fb69099a330ddad69",
       "version_major": 2,
       "version_minor": 0
      },
      "text/plain": [
       "HBox(children=(FloatProgress(value=1.0, bar_style='info', layout=Layout(width='20px'), max=1.0), HTML(value=''…"
      ]
     },
     "metadata": {},
     "output_type": "display_data"
    },
    {
     "name": "stdout",
     "output_type": "stream",
     "text": [
      "\n",
      "Working on limb L1 branch 6\n"
     ]
    },
    {
     "data": {
      "application/vnd.jupyter.widget-view+json": {
       "model_id": "468a93f7ec02411bbc51d239969943eb",
       "version_major": 2,
       "version_minor": 0
      },
      "text/plain": [
       "HBox(children=(FloatProgress(value=1.0, bar_style='info', layout=Layout(width='20px'), max=1.0), HTML(value=''…"
      ]
     },
     "metadata": {},
     "output_type": "display_data"
    },
    {
     "name": "stdout",
     "output_type": "stream",
     "text": [
      "\n",
      "Working on limb L1 branch 2\n"
     ]
    },
    {
     "data": {
      "application/vnd.jupyter.widget-view+json": {
       "model_id": "9f9c2bbedd3348d097eafe8c94783afe",
       "version_major": 2,
       "version_minor": 0
      },
      "text/plain": [
       "HBox(children=(FloatProgress(value=1.0, bar_style='info', layout=Layout(width='20px'), max=1.0), HTML(value=''…"
      ]
     },
     "metadata": {},
     "output_type": "display_data"
    },
    {
     "name": "stdout",
     "output_type": "stream",
     "text": [
      "\n",
      "Working on limb L1 branch 4\n"
     ]
    },
    {
     "data": {
      "application/vnd.jupyter.widget-view+json": {
       "model_id": "ee240ae7694a4e1f95bd28afabf13e4c",
       "version_major": 2,
       "version_minor": 0
      },
      "text/plain": [
       "HBox(children=(FloatProgress(value=1.0, bar_style='info', layout=Layout(width='20px'), max=1.0), HTML(value=''…"
      ]
     },
     "metadata": {},
     "output_type": "display_data"
    },
    {
     "name": "stdout",
     "output_type": "stream",
     "text": [
      "\n",
      "Working on limb L1 branch 0\n"
     ]
    },
    {
     "data": {
      "application/vnd.jupyter.widget-view+json": {
       "model_id": "603ebec593424f49969fe264d2c5bea6",
       "version_major": 2,
       "version_minor": 0
      },
      "text/plain": [
       "HBox(children=(FloatProgress(value=1.0, bar_style='info', layout=Layout(width='20px'), max=1.0), HTML(value=''…"
      ]
     },
     "metadata": {},
     "output_type": "display_data"
    },
    {
     "name": "stdout",
     "output_type": "stream",
     "text": [
      "\n",
      "Working on limb L1 branch 1\n"
     ]
    },
    {
     "data": {
      "application/vnd.jupyter.widget-view+json": {
       "model_id": "1b338d9ee5814f549234e64043c865e9",
       "version_major": 2,
       "version_minor": 0
      },
      "text/plain": [
       "HBox(children=(FloatProgress(value=1.0, bar_style='info', layout=Layout(width='20px'), max=1.0), HTML(value=''…"
      ]
     },
     "metadata": {},
     "output_type": "display_data"
    },
    {
     "name": "stdout",
     "output_type": "stream",
     "text": [
      "\n",
      "Working on limb L1 branch 3\n"
     ]
    },
    {
     "data": {
      "application/vnd.jupyter.widget-view+json": {
       "model_id": "09079cd511ba43ac82fa03be142209d3",
       "version_major": 2,
       "version_minor": 0
      },
      "text/plain": [
       "HBox(children=(FloatProgress(value=1.0, bar_style='info', layout=Layout(width='20px'), max=1.0), HTML(value=''…"
      ]
     },
     "metadata": {},
     "output_type": "display_data"
    },
    {
     "name": "stdout",
     "output_type": "stream",
     "text": [
      "\n",
      "Working on limb L1 branch 5\n"
     ]
    },
    {
     "data": {
      "application/vnd.jupyter.widget-view+json": {
       "model_id": "93af6414d1c14c0bb205d4439e5e8fbc",
       "version_major": 2,
       "version_minor": 0
      },
      "text/plain": [
       "HBox(children=(FloatProgress(value=1.0, bar_style='info', layout=Layout(width='20px'), max=1.0), HTML(value=''…"
      ]
     },
     "metadata": {},
     "output_type": "display_data"
    },
    {
     "name": "stdout",
     "output_type": "stream",
     "text": [
      "\n",
      "Working on limb L2 branch 1\n"
     ]
    },
    {
     "data": {
      "application/vnd.jupyter.widget-view+json": {
       "model_id": "a1938b07831d488d93f9c706984f38f7",
       "version_major": 2,
       "version_minor": 0
      },
      "text/plain": [
       "HBox(children=(FloatProgress(value=1.0, bar_style='info', layout=Layout(width='20px'), max=1.0), HTML(value=''…"
      ]
     },
     "metadata": {},
     "output_type": "display_data"
    },
    {
     "name": "stdout",
     "output_type": "stream",
     "text": [
      "\n",
      "Working on limb L2 branch 0\n"
     ]
    },
    {
     "data": {
      "application/vnd.jupyter.widget-view+json": {
       "model_id": "9ccc024d3afc4f88afd644ff5451a88b",
       "version_major": 2,
       "version_minor": 0
      },
      "text/plain": [
       "HBox(children=(FloatProgress(value=1.0, bar_style='info', layout=Layout(width='20px'), max=1.0), HTML(value=''…"
      ]
     },
     "metadata": {},
     "output_type": "display_data"
    },
    {
     "name": "stdout",
     "output_type": "stream",
     "text": [
      "\n",
      "Working on limb L2 branch 2\n"
     ]
    },
    {
     "data": {
      "application/vnd.jupyter.widget-view+json": {
       "model_id": "13dc9b3c3a7143649fa1eee40e1136f7",
       "version_major": 2,
       "version_minor": 0
      },
      "text/plain": [
       "HBox(children=(FloatProgress(value=1.0, bar_style='info', layout=Layout(width='20px'), max=1.0), HTML(value=''…"
      ]
     },
     "metadata": {},
     "output_type": "display_data"
    },
    {
     "name": "stdout",
     "output_type": "stream",
     "text": [
      "\n",
      "Working on limb L2 branch 3\n"
     ]
    },
    {
     "data": {
      "application/vnd.jupyter.widget-view+json": {
       "model_id": "4ce8f797249b4fb99ed7fb3e442bc0ec",
       "version_major": 2,
       "version_minor": 0
      },
      "text/plain": [
       "HBox(children=(FloatProgress(value=1.0, bar_style='info', layout=Layout(width='20px'), max=1.0), HTML(value=''…"
      ]
     },
     "metadata": {},
     "output_type": "display_data"
    },
    {
     "name": "stdout",
     "output_type": "stream",
     "text": [
      "\n",
      "Working on limb L2 branch 4\n"
     ]
    },
    {
     "data": {
      "application/vnd.jupyter.widget-view+json": {
       "model_id": "c5a39b7cf3724e39bb02c2fe10f6b8eb",
       "version_major": 2,
       "version_minor": 0
      },
      "text/plain": [
       "HBox(children=(FloatProgress(value=1.0, bar_style='info', layout=Layout(width='20px'), max=1.0), HTML(value=''…"
      ]
     },
     "metadata": {},
     "output_type": "display_data"
    },
    {
     "name": "stdout",
     "output_type": "stream",
     "text": [
      "\n",
      "Working on limb L3 branch 0\n"
     ]
    },
    {
     "data": {
      "application/vnd.jupyter.widget-view+json": {
       "model_id": "766b6ed832cf4e2883d1760b67a9b695",
       "version_major": 2,
       "version_minor": 0
      },
      "text/plain": [
       "HBox(children=(FloatProgress(value=1.0, bar_style='info', layout=Layout(width='20px'), max=1.0), HTML(value=''…"
      ]
     },
     "metadata": {},
     "output_type": "display_data"
    },
    {
     "name": "stdout",
     "output_type": "stream",
     "text": [
      "\n",
      "Working on limb L4 branch 0\n"
     ]
    },
    {
     "data": {
      "application/vnd.jupyter.widget-view+json": {
       "model_id": "2357cb69fbd14679b81d8f606bb79bce",
       "version_major": 2,
       "version_minor": 0
      },
      "text/plain": [
       "HBox(children=(FloatProgress(value=1.0, bar_style='info', layout=Layout(width='20px'), max=1.0), HTML(value=''…"
      ]
     },
     "metadata": {},
     "output_type": "display_data"
    },
    {
     "name": "stdout",
     "output_type": "stream",
     "text": [
      "\n",
      "Working on limb L0 branch 12\n"
     ]
    },
    {
     "data": {
      "application/vnd.jupyter.widget-view+json": {
       "model_id": "c2c40de0ff15408689cc434bb74ac15d",
       "version_major": 2,
       "version_minor": 0
      },
      "text/plain": [
       "HBox(children=(FloatProgress(value=1.0, bar_style='info', layout=Layout(width='20px'), max=1.0), HTML(value=''…"
      ]
     },
     "metadata": {},
     "output_type": "display_data"
    },
    {
     "name": "stdout",
     "output_type": "stream",
     "text": [
      "\n",
      "Working on limb L0 branch 7\n"
     ]
    },
    {
     "data": {
      "application/vnd.jupyter.widget-view+json": {
       "model_id": "8a7fe441b68c4da8a6e267cb464f1a1e",
       "version_major": 2,
       "version_minor": 0
      },
      "text/plain": [
       "HBox(children=(FloatProgress(value=1.0, bar_style='info', layout=Layout(width='20px'), max=1.0), HTML(value=''…"
      ]
     },
     "metadata": {},
     "output_type": "display_data"
    },
    {
     "name": "stdout",
     "output_type": "stream",
     "text": [
      "\n",
      "Working on limb L0 branch 11\n"
     ]
    },
    {
     "data": {
      "application/vnd.jupyter.widget-view+json": {
       "model_id": "bfe34aef650e4c478c8079fca57b343b",
       "version_major": 2,
       "version_minor": 0
      },
      "text/plain": [
       "HBox(children=(FloatProgress(value=1.0, bar_style='info', layout=Layout(width='20px'), max=1.0), HTML(value=''…"
      ]
     },
     "metadata": {},
     "output_type": "display_data"
    },
    {
     "name": "stdout",
     "output_type": "stream",
     "text": [
      "\n",
      "Working on limb L0 branch 5\n"
     ]
    },
    {
     "data": {
      "application/vnd.jupyter.widget-view+json": {
       "model_id": "a08f4bd7d3774e5b99fbeb950f9bd3b3",
       "version_major": 2,
       "version_minor": 0
      },
      "text/plain": [
       "HBox(children=(FloatProgress(value=1.0, bar_style='info', layout=Layout(width='20px'), max=1.0), HTML(value=''…"
      ]
     },
     "metadata": {},
     "output_type": "display_data"
    },
    {
     "name": "stdout",
     "output_type": "stream",
     "text": [
      "\n",
      "Working on limb L0 branch 10\n"
     ]
    },
    {
     "data": {
      "application/vnd.jupyter.widget-view+json": {
       "model_id": "1d73bbaf3544427facf3ad4f2382e22e",
       "version_major": 2,
       "version_minor": 0
      },
      "text/plain": [
       "HBox(children=(FloatProgress(value=1.0, bar_style='info', layout=Layout(width='20px'), max=1.0), HTML(value=''…"
      ]
     },
     "metadata": {},
     "output_type": "display_data"
    },
    {
     "name": "stdout",
     "output_type": "stream",
     "text": [
      "\n",
      "Working on limb L0 branch 2\n"
     ]
    },
    {
     "data": {
      "application/vnd.jupyter.widget-view+json": {
       "model_id": "80fd079a652b4259a1e68f7c9fbe106a",
       "version_major": 2,
       "version_minor": 0
      },
      "text/plain": [
       "HBox(children=(FloatProgress(value=1.0, bar_style='info', layout=Layout(width='20px'), max=1.0), HTML(value=''…"
      ]
     },
     "metadata": {},
     "output_type": "display_data"
    },
    {
     "name": "stdout",
     "output_type": "stream",
     "text": [
      "\n",
      "Working on limb L0 branch 4\n"
     ]
    },
    {
     "data": {
      "application/vnd.jupyter.widget-view+json": {
       "model_id": "576f416ef0c7428da3337667cb03bd32",
       "version_major": 2,
       "version_minor": 0
      },
      "text/plain": [
       "HBox(children=(FloatProgress(value=1.0, bar_style='info', layout=Layout(width='20px'), max=1.0), HTML(value=''…"
      ]
     },
     "metadata": {},
     "output_type": "display_data"
    },
    {
     "name": "stdout",
     "output_type": "stream",
     "text": [
      "\n",
      "Working on limb L0 branch 8\n"
     ]
    },
    {
     "data": {
      "application/vnd.jupyter.widget-view+json": {
       "model_id": "da385f4a5fe442389f30309429a4e5bd",
       "version_major": 2,
       "version_minor": 0
      },
      "text/plain": [
       "HBox(children=(FloatProgress(value=1.0, bar_style='info', layout=Layout(width='20px'), max=1.0), HTML(value=''…"
      ]
     },
     "metadata": {},
     "output_type": "display_data"
    },
    {
     "name": "stdout",
     "output_type": "stream",
     "text": [
      "\n",
      "Working on limb L0 branch 9\n"
     ]
    },
    {
     "data": {
      "application/vnd.jupyter.widget-view+json": {
       "model_id": "f8de8cdfa67b4d318919c45a2a613376",
       "version_major": 2,
       "version_minor": 0
      },
      "text/plain": [
       "HBox(children=(FloatProgress(value=1.0, bar_style='info', layout=Layout(width='20px'), max=1.0), HTML(value=''…"
      ]
     },
     "metadata": {},
     "output_type": "display_data"
    },
    {
     "name": "stdout",
     "output_type": "stream",
     "text": [
      "\n",
      "Working on limb L0 branch 0\n"
     ]
    },
    {
     "data": {
      "application/vnd.jupyter.widget-view+json": {
       "model_id": "651170b96a104a4d95abca707c6ac852",
       "version_major": 2,
       "version_minor": 0
      },
      "text/plain": [
       "HBox(children=(FloatProgress(value=1.0, bar_style='info', layout=Layout(width='20px'), max=1.0), HTML(value=''…"
      ]
     },
     "metadata": {},
     "output_type": "display_data"
    },
    {
     "name": "stdout",
     "output_type": "stream",
     "text": [
      "\n",
      "Working on limb L0 branch 1\n"
     ]
    },
    {
     "data": {
      "application/vnd.jupyter.widget-view+json": {
       "model_id": "6843e332332c43cfb28759d24333f4bc",
       "version_major": 2,
       "version_minor": 0
      },
      "text/plain": [
       "HBox(children=(FloatProgress(value=1.0, bar_style='info', layout=Layout(width='20px'), max=1.0), HTML(value=''…"
      ]
     },
     "metadata": {},
     "output_type": "display_data"
    },
    {
     "name": "stdout",
     "output_type": "stream",
     "text": [
      "\n",
      "Working on limb L0 branch 3\n"
     ]
    },
    {
     "data": {
      "application/vnd.jupyter.widget-view+json": {
       "model_id": "e5ffe149c2c44856b263874979943935",
       "version_major": 2,
       "version_minor": 0
      },
      "text/plain": [
       "HBox(children=(FloatProgress(value=1.0, bar_style='info', layout=Layout(width='20px'), max=1.0), HTML(value=''…"
      ]
     },
     "metadata": {},
     "output_type": "display_data"
    },
    {
     "name": "stdout",
     "output_type": "stream",
     "text": [
      "\n",
      "Working on limb L0 branch 6\n"
     ]
    },
    {
     "data": {
      "application/vnd.jupyter.widget-view+json": {
       "model_id": "207b8ce8ba814ae7b517607b8db076dc",
       "version_major": 2,
       "version_minor": 0
      },
      "text/plain": [
       "HBox(children=(FloatProgress(value=1.0, bar_style='info', layout=Layout(width='20px'), max=1.0), HTML(value=''…"
      ]
     },
     "metadata": {},
     "output_type": "display_data"
    },
    {
     "name": "stdout",
     "output_type": "stream",
     "text": [
      "\n",
      "Working on limb L1 branch 6\n"
     ]
    },
    {
     "data": {
      "application/vnd.jupyter.widget-view+json": {
       "model_id": "67ef89c4f58e4bbe93864eee226e482b",
       "version_major": 2,
       "version_minor": 0
      },
      "text/plain": [
       "HBox(children=(FloatProgress(value=1.0, bar_style='info', layout=Layout(width='20px'), max=1.0), HTML(value=''…"
      ]
     },
     "metadata": {},
     "output_type": "display_data"
    },
    {
     "name": "stdout",
     "output_type": "stream",
     "text": [
      "\n",
      "Working on limb L1 branch 2\n"
     ]
    },
    {
     "data": {
      "application/vnd.jupyter.widget-view+json": {
       "model_id": "78d3e0f5635642d9b8d3a5f02a4b6af3",
       "version_major": 2,
       "version_minor": 0
      },
      "text/plain": [
       "HBox(children=(FloatProgress(value=1.0, bar_style='info', layout=Layout(width='20px'), max=1.0), HTML(value=''…"
      ]
     },
     "metadata": {},
     "output_type": "display_data"
    },
    {
     "name": "stdout",
     "output_type": "stream",
     "text": [
      "\n",
      "Working on limb L1 branch 4\n"
     ]
    },
    {
     "data": {
      "application/vnd.jupyter.widget-view+json": {
       "model_id": "a4942e18eb0b4c9c954b440278cb0f3a",
       "version_major": 2,
       "version_minor": 0
      },
      "text/plain": [
       "HBox(children=(FloatProgress(value=1.0, bar_style='info', layout=Layout(width='20px'), max=1.0), HTML(value=''…"
      ]
     },
     "metadata": {},
     "output_type": "display_data"
    },
    {
     "name": "stdout",
     "output_type": "stream",
     "text": [
      "\n",
      "Working on limb L1 branch 0\n"
     ]
    },
    {
     "data": {
      "application/vnd.jupyter.widget-view+json": {
       "model_id": "2508f22be42b4331a34ee00e56ac8535",
       "version_major": 2,
       "version_minor": 0
      },
      "text/plain": [
       "HBox(children=(FloatProgress(value=1.0, bar_style='info', layout=Layout(width='20px'), max=1.0), HTML(value=''…"
      ]
     },
     "metadata": {},
     "output_type": "display_data"
    },
    {
     "name": "stdout",
     "output_type": "stream",
     "text": [
      "\n",
      "Working on limb L1 branch 1\n"
     ]
    },
    {
     "data": {
      "application/vnd.jupyter.widget-view+json": {
       "model_id": "fbb39662713849c9a50cb45bd7a49757",
       "version_major": 2,
       "version_minor": 0
      },
      "text/plain": [
       "HBox(children=(FloatProgress(value=1.0, bar_style='info', layout=Layout(width='20px'), max=1.0), HTML(value=''…"
      ]
     },
     "metadata": {},
     "output_type": "display_data"
    },
    {
     "name": "stdout",
     "output_type": "stream",
     "text": [
      "\n",
      "Working on limb L1 branch 3\n"
     ]
    },
    {
     "data": {
      "application/vnd.jupyter.widget-view+json": {
       "model_id": "75b3ea3641994bc3b19e06b08f035bd6",
       "version_major": 2,
       "version_minor": 0
      },
      "text/plain": [
       "HBox(children=(FloatProgress(value=1.0, bar_style='info', layout=Layout(width='20px'), max=1.0), HTML(value=''…"
      ]
     },
     "metadata": {},
     "output_type": "display_data"
    },
    {
     "name": "stdout",
     "output_type": "stream",
     "text": [
      "\n",
      "Working on limb L1 branch 5\n"
     ]
    },
    {
     "data": {
      "application/vnd.jupyter.widget-view+json": {
       "model_id": "765da14c3a824e838492b03c03d06caf",
       "version_major": 2,
       "version_minor": 0
      },
      "text/plain": [
       "HBox(children=(FloatProgress(value=1.0, bar_style='info', layout=Layout(width='20px'), max=1.0), HTML(value=''…"
      ]
     },
     "metadata": {},
     "output_type": "display_data"
    },
    {
     "name": "stdout",
     "output_type": "stream",
     "text": [
      "\n",
      "Working on limb L2 branch 1\n"
     ]
    },
    {
     "data": {
      "application/vnd.jupyter.widget-view+json": {
       "model_id": "c54d6c65a1ec4e80bb10bc681f2dd91b",
       "version_major": 2,
       "version_minor": 0
      },
      "text/plain": [
       "HBox(children=(FloatProgress(value=1.0, bar_style='info', layout=Layout(width='20px'), max=1.0), HTML(value=''…"
      ]
     },
     "metadata": {},
     "output_type": "display_data"
    },
    {
     "name": "stdout",
     "output_type": "stream",
     "text": [
      "\n",
      "Working on limb L2 branch 0\n"
     ]
    },
    {
     "data": {
      "application/vnd.jupyter.widget-view+json": {
       "model_id": "a126f436f69e44309fe54d53d68ddee6",
       "version_major": 2,
       "version_minor": 0
      },
      "text/plain": [
       "HBox(children=(FloatProgress(value=1.0, bar_style='info', layout=Layout(width='20px'), max=1.0), HTML(value=''…"
      ]
     },
     "metadata": {},
     "output_type": "display_data"
    },
    {
     "name": "stdout",
     "output_type": "stream",
     "text": [
      "\n",
      "Working on limb L2 branch 2\n"
     ]
    },
    {
     "data": {
      "application/vnd.jupyter.widget-view+json": {
       "model_id": "46f28a8be57549a3bba0bd5ba112f1a1",
       "version_major": 2,
       "version_minor": 0
      },
      "text/plain": [
       "HBox(children=(FloatProgress(value=1.0, bar_style='info', layout=Layout(width='20px'), max=1.0), HTML(value=''…"
      ]
     },
     "metadata": {},
     "output_type": "display_data"
    },
    {
     "name": "stdout",
     "output_type": "stream",
     "text": [
      "\n",
      "Working on limb L2 branch 3\n"
     ]
    },
    {
     "data": {
      "application/vnd.jupyter.widget-view+json": {
       "model_id": "8de83b1238b84bfca44266172ae12f51",
       "version_major": 2,
       "version_minor": 0
      },
      "text/plain": [
       "HBox(children=(FloatProgress(value=1.0, bar_style='info', layout=Layout(width='20px'), max=1.0), HTML(value=''…"
      ]
     },
     "metadata": {},
     "output_type": "display_data"
    },
    {
     "name": "stdout",
     "output_type": "stream",
     "text": [
      "\n",
      "Working on limb L2 branch 4\n"
     ]
    },
    {
     "data": {
      "application/vnd.jupyter.widget-view+json": {
       "model_id": "4d3c7a2f0e3443e5ac2c2f7fab8e31e5",
       "version_major": 2,
       "version_minor": 0
      },
      "text/plain": [
       "HBox(children=(FloatProgress(value=1.0, bar_style='info', layout=Layout(width='20px'), max=1.0), HTML(value=''…"
      ]
     },
     "metadata": {},
     "output_type": "display_data"
    },
    {
     "name": "stdout",
     "output_type": "stream",
     "text": [
      "\n",
      "Working on limb L3 branch 0\n"
     ]
    },
    {
     "data": {
      "application/vnd.jupyter.widget-view+json": {
       "model_id": "f856fe9308874345b556e4cc7d8da930",
       "version_major": 2,
       "version_minor": 0
      },
      "text/plain": [
       "HBox(children=(FloatProgress(value=1.0, bar_style='info', layout=Layout(width='20px'), max=1.0), HTML(value=''…"
      ]
     },
     "metadata": {},
     "output_type": "display_data"
    },
    {
     "name": "stdout",
     "output_type": "stream",
     "text": [
      "\n",
      "Working on limb L4 branch 0\n"
     ]
    },
    {
     "data": {
      "application/vnd.jupyter.widget-view+json": {
       "model_id": "32d3c4d469d747b5b29644f68ee11cee",
       "version_major": 2,
       "version_minor": 0
      },
      "text/plain": [
       "HBox(children=(FloatProgress(value=1.0, bar_style='info', layout=Layout(width='20px'), max=1.0), HTML(value=''…"
      ]
     },
     "metadata": {},
     "output_type": "display_data"
    },
    {
     "name": "stdout",
     "output_type": "stream",
     "text": [
      "\n",
      "Total time for neuron instance creation = 133.557391166687\n"
     ]
    }
   ],
   "source": [
    "current_neuron_mp = neuron.Neuron(current_neuron_mesh)"
   ]
  },
  {
   "cell_type": "code",
   "execution_count": 6,
   "metadata": {},
   "outputs": [
    {
     "name": "stdout",
     "output_type": "stream",
     "text": [
      "\n",
      " Working on visualization type: mesh\n",
      "\n",
      " Working on visualization type: skeleton\n"
     ]
    },
    {
     "data": {
      "application/vnd.jupyter.widget-view+json": {
       "model_id": "d65f831671084ef9a8cd9988c8152023",
       "version_major": 2,
       "version_minor": 0
      },
      "text/plain": [
       "VBox(children=(Figure(camera=PerspectiveCamera(fov=46.0, position=(0.0, 0.0, 2.0), quaternion=(0.0, 0.0, 0.0, …"
      ]
     },
     "metadata": {},
     "output_type": "display_data"
    }
   ],
   "source": [
    "nviz.visualize_neuron(current_neuron_mp,\n",
    "                     visualize_type=[\"mesh\",\"skeleton\"],\n",
    "                     limb_branch_dict=\"all\")"
   ]
  },
  {
   "cell_type": "code",
   "execution_count": 7,
   "metadata": {},
   "outputs": [
    {
     "name": "stdout",
     "output_type": "stream",
     "text": [
      "\n",
      " Working on visualization type: mesh\n",
      "\n",
      " Working on visualization type: skeleton\n"
     ]
    },
    {
     "data": {
      "application/vnd.jupyter.widget-view+json": {
       "model_id": "c5a4e8b52a8a4bd8b55ea75b99caadb5",
       "version_major": 2,
       "version_minor": 0
      },
      "text/plain": [
       "VBox(children=(Figure(camera=PerspectiveCamera(fov=46.0, position=(0.0, 0.0, 2.0), quaternion=(0.0, 0.0, 0.0, …"
      ]
     },
     "metadata": {},
     "output_type": "display_data"
    }
   ],
   "source": [
    "nviz.visualize_neuron(current_neuron_mp,\n",
    "                      visualize_type=[\"mesh\",\"skeleton\"],\n",
    "                     limb_branch_dict=dict(L0=[3]))\n"
   ]
  },
  {
   "cell_type": "code",
   "execution_count": 9,
   "metadata": {},
   "outputs": [
    {
     "name": "stdout",
     "output_type": "stream",
     "text": [
      "new_skeleton.shape = (58, 2, 3)\n",
      "INSIDE GET SKELETAL DISTANCE distance_by_mesh_center = True\n"
     ]
    },
    {
     "data": {
      "application/vnd.jupyter.widget-view+json": {
       "model_id": "c9d349d2d26242c5a73982fe043d8a67",
       "version_major": 2,
       "version_minor": 0
      },
      "text/plain": [
       "HBox(children=(FloatProgress(value=1.0, bar_style='info', layout=Layout(width='20px'), max=1.0), HTML(value=''…"
      ]
     },
     "metadata": {},
     "output_type": "display_data"
    },
    {
     "name": "stdout",
     "output_type": "stream",
     "text": [
      "\n",
      "BEFORE STITCHES unique_removed_faces.shape = (4709,)\n",
      "Working in the skeletal_distance patches\n",
      "unique_removed_faces.shape = (4749,)\n",
      "--------------------- Starting new trial --------------------\n",
      "main_mesh.faces.shape = (36856, 3)\n",
      "new_submesh.faces.shape = (4749, 3)\n",
      "unique_removed_faces.shape = (4749,)\n",
      "max(unique_removed_faces) = 27101\n",
      "\n",
      "After the split has been called\n",
      "split_meshes = [<trimesh.Trimesh(vertices.shape=(2390, 3), faces.shape=(4749, 3))>]\n",
      "components_faces = [(4749,)]\n",
      "\n",
      "main_mesh.faces.shape = (36856, 3)\n",
      "Assigning submesh to the only submesh\n",
      "new_submesh.faces.shape = (4749, 3)\n",
      "unique_removed_faces.shape = (4749,)\n",
      "max(unique_removed_faces) = 27101\n",
      "new_submesh = <trimesh.Trimesh(vertices.shape=(2390, 3), faces.shape=(4749, 3))>\n",
      "filtered_measurements = [117.97854432 101.88992601 163.38898745 107.11702285  83.93151447\n",
      "  97.51535148 123.21327255 105.91318444  92.81585689  77.06139617\n",
      "  95.47550984  79.60796678  83.53887864 135.84357413 163.74624301\n",
      "  86.1465009  102.53444836  78.6355986   73.91605172  89.77364805\n",
      "  80.77925564 105.80074661 117.4462128   70.61292482  98.69139898\n",
      " 104.66723109 164.18711869  99.94454698  84.28675096  77.02311546\n",
      "  90.42926186 114.69256593  82.64714966  92.57489311  66.4609658\n",
      "  96.85624403 140.2333465 ]\n",
      "INSIDE GET SKELETAL DISTANCE distance_by_mesh_center = True\n"
     ]
    },
    {
     "data": {
      "application/vnd.jupyter.widget-view+json": {
       "model_id": "a0bf2e462f0d46c992bb3a95f9d5335d",
       "version_major": 2,
       "version_minor": 0
      },
      "text/plain": [
       "HBox(children=(FloatProgress(value=1.0, bar_style='info', layout=Layout(width='20px'), max=1.0), HTML(value=''…"
      ]
     },
     "metadata": {},
     "output_type": "display_data"
    },
    {
     "name": "stdout",
     "output_type": "stream",
     "text": [
      "--> Not exactly one containing mesh: []\n",
      "--> Not exactly one containing mesh: []\n",
      "--> Not exactly one containing mesh: []\n",
      "--> Not exactly one containing mesh: []\n",
      "--> Not exactly one containing mesh: []\n",
      "--> Not exactly one containing mesh: []\n",
      "--> Not exactly one containing mesh: []\n",
      "--> Not exactly one containing mesh: []\n",
      "--> Not exactly one containing mesh: []\n",
      "--> Not exactly one containing mesh: []\n",
      "--> Not exactly one containing mesh: []\n",
      "\n",
      "BEFORE STITCHES unique_removed_faces.shape = (2344,)\n",
      "Working in the skeletal_distance patches\n",
      "unique_removed_faces.shape = (2433,)\n",
      "--------------------- Starting new trial --------------------\n",
      "main_mesh.faces.shape = (4749, 3)\n",
      "new_submesh.faces.shape = (2433, 3)\n",
      "unique_removed_faces.shape = (2433,)\n",
      "max(unique_removed_faces) = 4748\n",
      "\n",
      "After the split has been called\n",
      "split_meshes = [<trimesh.Trimesh(vertices.shape=(988, 3), faces.shape=(1970, 3))>\n",
      " <trimesh.Trimesh(vertices.shape=(116, 3), faces.shape=(182, 3))>\n",
      " <trimesh.Trimesh(vertices.shape=(71, 3), faces.shape=(96, 3))>\n",
      " <trimesh.Trimesh(vertices.shape=(71, 3), faces.shape=(93, 3))>\n",
      " <trimesh.Trimesh(vertices.shape=(31, 3), faces.shape=(36, 3))>\n",
      " <trimesh.Trimesh(vertices.shape=(19, 3), faces.shape=(21, 3))>\n",
      " <trimesh.Trimesh(vertices.shape=(14, 3), faces.shape=(12, 3))>\n",
      " <trimesh.Trimesh(vertices.shape=(12, 3), faces.shape=(10, 3))>\n",
      " <trimesh.Trimesh(vertices.shape=(8, 3), faces.shape=(6, 3))>\n",
      " <trimesh.Trimesh(vertices.shape=(6, 3), faces.shape=(4, 3))>\n",
      " <trimesh.Trimesh(vertices.shape=(4, 3), faces.shape=(2, 3))>\n",
      " <trimesh.Trimesh(vertices.shape=(3, 3), faces.shape=(1, 3))>]\n",
      "components_faces = [(1970,), (182,), (96,), (93,), (36,), (21,), (12,), (10,), (6,), (4,), (2,), (1,)]\n",
      "\n",
      "main_mesh.faces.shape = (4749, 3)\n",
      "reassigning new_submesh to one of many sub pieces\n",
      "new_submesh.faces.shape = (1970, 3)\n",
      "unique_removed_faces.shape = (1970,)\n",
      "max(unique_removed_faces) = 4748\n",
      "new_submesh = <trimesh.Trimesh(vertices.shape=(988, 3), faces.shape=(1970, 3))>\n"
     ]
    }
   ],
   "source": [
    "import compartment_utils as cu\n",
    "cu = reload(cu)\n",
    "mesh_faces, calc_width = cu.mesh_correspondence_adaptive_distance(\n",
    "    current_neuron_mp[0][3].skeleton,\n",
    "    current_neuron_mp[0].mesh,\n",
    "    print_flag=True\n",
    "    \n",
    ")"
   ]
  },
  {
   "cell_type": "code",
   "execution_count": 10,
   "metadata": {},
   "outputs": [],
   "source": [
    "new_submesh = tu.load_mesh_no_processing(\"new_submesh_2433.off\")\n",
    "main_mesh = tu.load_mesh_no_processing(\"main_mesh_4749.off\")"
   ]
  },
  {
   "cell_type": "code",
   "execution_count": 11,
   "metadata": {},
   "outputs": [
    {
     "data": {
      "application/vnd.jupyter.widget-view+json": {
       "model_id": "b6a8b042b76c41aa840425546464c9ae",
       "version_major": 2,
       "version_minor": 0
      },
      "text/plain": [
       "VBox(children=(Figure(camera=PerspectiveCamera(fov=46.0, position=(0.0, 0.0, 2.0), quaternion=(0.0, 0.0, 0.0, …"
      ]
     },
     "metadata": {},
     "output_type": "display_data"
    }
   ],
   "source": [
    "main_border = tu.find_border_vertex_groups(main_mesh)\n",
    "nviz.plot_objects(meshes=main_mesh,\n",
    "                 #scatters=[main_mesh.vertices[k] for k in tu.find_border_vertex_groups(main_mesh)],\n",
    "                  #scatters=main_mesh.vertices[main_border[1]].reshape(-1,3),\n",
    "                  scatters=main_mesh.vertices[tu.find_border_vertices(main_mesh)],\n",
    "                 scatters_colors=\"red\",\n",
    "                 scatter_size=0.5)"
   ]
  },
  {
   "cell_type": "code",
   "execution_count": 12,
   "metadata": {},
   "outputs": [
    {
     "data": {
      "application/vnd.jupyter.widget-view+json": {
       "model_id": "710a20c593b741b788ebad2ff9683a13",
       "version_major": 2,
       "version_minor": 0
      },
      "text/plain": [
       "VBox(children=(Figure(camera=PerspectiveCamera(fov=46.0, position=(0.0, 0.0, 2.0), quaternion=(0.0, 0.0, 0.0, …"
      ]
     },
     "metadata": {},
     "output_type": "display_data"
    }
   ],
   "source": [
    "main_border = tu.find_border_vertex_groups(new_submesh)\n",
    "nviz.plot_objects(meshes=new_submesh,\n",
    "                 #scatters=[main_mesh.vertices[k] for k in tu.find_border_vertex_groups(main_mesh)],\n",
    "                  #scatters=main_mesh.vertices[main_border[1]].reshape(-1,3),\n",
    "                  scatters=new_submesh.vertices[tu.find_border_vertices(new_submesh)],\n",
    "                 scatters_colors=\"red\",\n",
    "                 scatter_size=0.5)"
   ]
  },
  {
   "cell_type": "markdown",
   "metadata": {},
   "source": [
    "# Object Visualization"
   ]
  },
  {
   "cell_type": "code",
   "execution_count": null,
   "metadata": {},
   "outputs": [],
   "source": [
    "nviz.plot_objects(meshes=current_neuron_mesh)"
   ]
  },
  {
   "cell_type": "markdown",
   "metadata": {},
   "source": [
    "# Decomposition of Mesh (meshparty)"
   ]
  },
  {
   "cell_type": "code",
   "execution_count": null,
   "metadata": {},
   "outputs": [],
   "source": [
    "curr_limb_mesh = tu.load_mesh_no_processing(\"curr_limb_mesh.off\")\n",
    "curr_branch_sk = np.load(\"saved_skeleton_branch.npz\")[\"curr_branch_sk\"]\n",
    "nviz.plot_objects(meshes=curr_limb_mesh,\n",
    "                 skeletons=curr_branch_sk)"
   ]
  },
  {
   "cell_type": "code",
   "execution_count": null,
   "metadata": {},
   "outputs": [],
   "source": [
    "import neuron\n",
    "cu = reload(cu)\n",
    "tu = reload(tu)\n",
    "current_neuron_mp = neuron.Neuron(\n",
    "                 mesh=current_neuron_mesh, \n",
    "                 segment_id=seg_id,\n",
    "                 description=description,\n",
    "                 decomposition_type=\"meshafterparty\",\n",
    "                suppress_output=False)"
   ]
  },
  {
   "cell_type": "code",
   "execution_count": null,
   "metadata": {},
   "outputs": [],
   "source": [
    "neuron = reload(neuron)\n",
    "spu = reload(spu)\n",
    "current_neuron_mp = neuron.Neuron(current_neuron_mp)\n",
    "\n",
    "current_neuron_mp.calculate_spines(print_flag=True)"
   ]
  },
  {
   "cell_type": "code",
   "execution_count": null,
   "metadata": {},
   "outputs": [],
   "source": [
    "nviz.plot_spines(current_neuron_mp)"
   ]
  },
  {
   "cell_type": "code",
   "execution_count": null,
   "metadata": {},
   "outputs": [],
   "source": [
    "nviz.plot_objects(meshes=[current_neuron_mp[\"S0\"].mesh,\n",
    "                         current_neuron_mp[1].mesh],\n",
    "                 scatters=touching_soma_verts.reshape(-1,3))"
   ]
  },
  {
   "cell_type": "code",
   "execution_count": null,
   "metadata": {},
   "outputs": [],
   "source": [
    "nviz.plot_spines(current_neuron_mp)"
   ]
  },
  {
   "cell_type": "code",
   "execution_count": null,
   "metadata": {},
   "outputs": [],
   "source": [
    "ret_col = nviz.visualize_neuron(current_neuron_mp,\n",
    "                     limb_branch_dict=dict(L1=\"all\"),\n",
    "                     #mesh_resolution=\"limb\",\n",
    "                     return_color_dict=True)"
   ]
  },
  {
   "cell_type": "code",
   "execution_count": null,
   "metadata": {},
   "outputs": [],
   "source": [
    "nviz.plot_objects(meshes=current_neuron_mp[1][4].mesh)"
   ]
  },
  {
   "cell_type": "code",
   "execution_count": null,
   "metadata": {},
   "outputs": [],
   "source": [
    "nviz = reload(nviz)\n",
    "nviz.plot_limb_concept_network_2D(current_neuron_mp,\n",
    "                                 node_colors=ret_col)"
   ]
  },
  {
   "cell_type": "code",
   "execution_count": null,
   "metadata": {},
   "outputs": [],
   "source": [
    "\"\"\"\n",
    "Pseudocode for how to filter those containing the touching soma vertices\n",
    "\n",
    "1) Create a KDTree from the soma vertices\n",
    "2) For each spine:\n",
    "a) Do a query against the KDTree with vertices\n",
    "b) If any of the vertices have - distance then nullify\n",
    "\n",
    "\n",
    "\"\"\"\n"
   ]
  },
  {
   "cell_type": "code",
   "execution_count": null,
   "metadata": {},
   "outputs": [],
   "source": [
    "curr_limb = current_neuron_mp[1]\n",
    "curr_spines = curr_limb.spines\n",
    "verbose=True\n",
    "import spine_utils as spu\n",
    "spu = reload(spu)\n",
    "\n",
    "soma_verts = np.concatenate([current_neuron_mp[f\"S{k}\"].mesh.vertices for k in curr_limb.touching_somas()])\n",
    "\n",
    "filt_curr_spines = spu.filter_out_soma_touching_spines(spine_submeshes=curr_spines,soma_vertices=soma_verts,\n",
    "                                   verbose=True)"
   ]
  },
  {
   "cell_type": "code",
   "execution_count": null,
   "metadata": {},
   "outputs": [],
   "source": [
    "touching_soma_verts = np.concatenate([k[\"touching_soma_vertices\"] for k in curr_limb.all_concept_network_data])\n",
    "touching_soma_verts\n",
    "\n"
   ]
  },
  {
   "cell_type": "code",
   "execution_count": null,
   "metadata": {},
   "outputs": [],
   "source": [
    "nviz.visualize_neuron(current_neuron_mp,\n",
    "                      visualize_type=[\"mesh\",\"skeleton\"],\n",
    "                     limb_branch_dict=\"all\",\n",
    "                     )"
   ]
  },
  {
   "cell_type": "markdown",
   "metadata": {},
   "source": [
    "# Visualizing the Neuron Decomposition"
   ]
  },
  {
   "cell_type": "code",
   "execution_count": null,
   "metadata": {},
   "outputs": [],
   "source": [
    "ret_col = nviz.visualize_neuron(current_neuron_mp,\n",
    "                     visualize_type = [\"mesh\",\"skeleton\"],\n",
    "                     limb_branch_dict=dict(L0=\"all\"),\n",
    "                     #skeleton_resolution=\"limb\",\n",
    "                    #mesh_resolution=\"limb\",\n",
    "                           \n",
    "                     return_color_dict=True)"
   ]
  },
  {
   "cell_type": "code",
   "execution_count": null,
   "metadata": {
    "scrolled": true
   },
   "outputs": [],
   "source": [
    "nviz.plot_soma_limb_concept_network(current_neuron_mp,\n",
    "                                        node_colors=ret_col)"
   ]
  },
  {
   "cell_type": "code",
   "execution_count": null,
   "metadata": {},
   "outputs": [],
   "source": [
    "nviz.plot_limb_concept_network_2D(current_neuron_mp,\n",
    "                                  limb_name=\"L0\",\n",
    "                                        node_colors=ret_col)"
   ]
  },
  {
   "cell_type": "code",
   "execution_count": null,
   "metadata": {},
   "outputs": [],
   "source": [
    "ret_faces,new_threshold = cu.mesh_correspondence_adaptive_distance(current_neuron_mp[0][3].skeleton,\n",
    "                                                                   current_neuron_mp[0].mesh\n",
    "                                                                  )"
   ]
  },
  {
   "cell_type": "code",
   "execution_count": null,
   "metadata": {},
   "outputs": [],
   "source": [
    "nviz.plot_objects(meshes=current_neuron_mp[0].mesh.submesh([ret_faces],append=True),\n",
    "                 skeletons=current_neuron_mp[0][3].skeleton)"
   ]
  },
  {
   "cell_type": "code",
   "execution_count": null,
   "metadata": {},
   "outputs": [],
   "source": [
    "ret_faces,new_threshold = cu.mesh_correspondence_adaptive_distance"
   ]
  },
  {
   "cell_type": "code",
   "execution_count": null,
   "metadata": {},
   "outputs": [],
   "source": [
    "nviz.visualize_neuron(current_neuron_mp,\n",
    "                      visualize_type=[\"mesh\",\"skeleton\"],\n",
    "                     limb_branch_dict=dict(L0=[3]))\n",
    "\n"
   ]
  },
  {
   "cell_type": "code",
   "execution_count": null,
   "metadata": {},
   "outputs": [],
   "source": [
    "import compartment_utils as cu\n",
    "cu = reload(cu)\n",
    "mesh_faces, calc_width = cu.mesh_correspondence_adaptive_distance(\n",
    "    current_neuron_mp[0][3].skeleton,\n",
    "    current_neuron_mp[0].mesh,\n",
    "    print_flag=True\n",
    "    \n",
    ")"
   ]
  },
  {
   "cell_type": "code",
   "execution_count": null,
   "metadata": {},
   "outputs": [],
   "source": [
    "import skeleton_utils as sk\n",
    "curr_branch_skeleton = current_neuron_mp[0][3].skeleton\n",
    "new_skeleton  = sk.resize_skeleton_branch(curr_branch_skeleton,segment_width = 1000)\n",
    "\n",
    "(segment_skeletal_mean_distances_1,\n",
    "         segment_skeletal_std_distances_1,\n",
    "         mesh_correspondence_1,\n",
    "         mesh_correspondence_indices_1) = cu.get_skeletal_distance_no_skipping(\n",
    "                            main_mesh = current_neuron_mp[0].mesh,\n",
    "                            edges = new_skeleton[:-1],\n",
    "                            buffer=100,\n",
    "                            bbox_ratio=1.2,\n",
    "                            distance_threshold=3000,\n",
    "                            distance_by_mesh_center=True,\n",
    "                            print_flag=False)\n",
    "\n",
    "(segment_skeletal_mean_distances_2,\n",
    "         segment_skeletal_std_distances_2,\n",
    "         mesh_correspondence_2,\n",
    "         mesh_correspondence_indices_2) = cu.get_skeletal_distance_no_skipping(\n",
    "                            main_mesh = current_neuron_mp[0].mesh,\n",
    "                            edges = new_skeleton,\n",
    "                            buffer=100,\n",
    "                            bbox_ratio=1.2,\n",
    "                            distance_threshold=298.28472611045447,\n",
    "                            distance_by_mesh_center=True,\n",
    "                            print_flag=False)"
   ]
  },
  {
   "cell_type": "code",
   "execution_count": null,
   "metadata": {},
   "outputs": [],
   "source": [
    "mesh_correspondence_2.faces.shape[0]/mesh_correspondence_1.faces.shape[0]"
   ]
  },
  {
   "cell_type": "code",
   "execution_count": null,
   "metadata": {},
   "outputs": [],
   "source": [
    "import numpy as np\n",
    "\n",
    "segment_skeletal_mean_distances_2 = np.array(segment_skeletal_mean_distances_2)\n",
    "np.sum(segment_skeletal_mean_distances_2<=0)/len(segment_skeletal_mean_distances_2)"
   ]
  },
  {
   "cell_type": "code",
   "execution_count": null,
   "metadata": {},
   "outputs": [],
   "source": [
    "import networkx as nx\n",
    "import matplotlib.pyplot as plt\n",
    "n_nodes = 20\n",
    "G = nx.from_edgelist(np.vstack([np.arange(0,n_nodes)[:-1],np.arange(0,n_nodes)[1:]]).T)\n",
    "nx.draw(G)\n",
    "plt.show()\n",
    "G2 = nx.path_graph(n_nodes)\n",
    "nx.draw(G2)\n",
    "plt.show()"
   ]
  },
  {
   "cell_type": "code",
   "execution_count": null,
   "metadata": {},
   "outputs": [],
   "source": [
    "np.where(segment_skeletal_mean_distances_2==0)[0]"
   ]
  },
  {
   "cell_type": "code",
   "execution_count": null,
   "metadata": {},
   "outputs": [],
   "source": [
    "import trimesh_utils as tu\n",
    "round_1_mesh_corr = tu.load_mesh_no_processing(\"mesh_correspondence_round_1.off\")"
   ]
  },
  {
   "cell_type": "code",
   "execution_count": null,
   "metadata": {
    "scrolled": true
   },
   "outputs": [],
   "source": [
    "nviz.plot_objects(\n",
    "    #meshes=current_neuron_mp[0].mesh.submesh([mesh_faces],append=True),\n",
    "    meshes=round_1_mesh_corr,\n",
    "                  skeletons=current_neuron_mp[0][3].skeleton)"
   ]
  },
  {
   "cell_type": "code",
   "execution_count": null,
   "metadata": {},
   "outputs": [],
   "source": [
    "nviz.plot_objects(\n",
    "    #meshes=current_neuron_mp[0].mesh.submesh([mesh_faces],append=True),\n",
    "    meshes=mesh_correspondence_1,\n",
    "                  skeletons=current_neuron_mp[0][3].skeleton)"
   ]
  },
  {
   "cell_type": "code",
   "execution_count": null,
   "metadata": {},
   "outputs": [],
   "source": [
    "nviz.plot_objects(\n",
    "    #meshes=current_neuron_mp[0].mesh.submesh([mesh_faces],append=True),\n",
    "    meshes=mesh_correspondence_2,\n",
    "                  skeletons=current_neuron_mp[0][3].skeleton)"
   ]
  },
  {
   "cell_type": "markdown",
   "metadata": {},
   "source": [
    "# Solution to Part 1:"
   ]
  },
  {
   "cell_type": "code",
   "execution_count": null,
   "metadata": {},
   "outputs": [],
   "source": [
    "\"\"\"\n",
    "Reason for problem: There is a merge that is causing two branhes of different width to be in the same branch\n",
    "and then half of it gets eliminated with the adaptive correspondence\n",
    "\n",
    "Goal: The mesh should only be eliminated at the ends\n",
    "1) should we only elimnate the ends of the branch at most? No because some need to be eliminated a lot more\n",
    "than just end edges\n",
    "2) Or should we be able to eliminate multiple ends of branches? Yes\n",
    "\n",
    "Scenario: There would be a lot that is eliminated --> so maybe we only want eliminating the end\n",
    "\n",
    "Solution: Probably should eliminate just the endpoint belonging to the skeleton?\n",
    "\n",
    "Would only want to eliminate it on the endpoints that get eliminated a lot after new threshold\n",
    "\n",
    "Question to answer: \n",
    "1) Should we ever eliminate more than 1000 nm of skeleton?\n",
    "\n",
    "\n",
    "\"\"\""
   ]
  },
  {
   "cell_type": "code",
   "execution_count": null,
   "metadata": {},
   "outputs": [],
   "source": [
    "nviz.plot_objects(\n",
    "    #meshes=current_neuron_mp[0].mesh,\n",
    "    meshes=mesh_correspondence_1,\n",
    "                 skeletons=new_skeleton[:-1])"
   ]
  },
  {
   "cell_type": "code",
   "execution_count": null,
   "metadata": {},
   "outputs": [],
   "source": [
    "# Look at how much would need to be eliminated from "
   ]
  },
  {
   "cell_type": "code",
   "execution_count": null,
   "metadata": {},
   "outputs": [],
   "source": [
    "import neuron_utils as nru\n",
    "big_neuron = nru.decompress_neuron(\"/notebooks/test_neurons/meshafterparty_processed/12345_double_soma_meshafterparty_fixed_connectors_and_spines.pbz2\",\n",
    "                     \"/notebooks/test_neurons/meshafterparty_processed/12345_double_soma_meshafterparty_fixed_connectors_and_spines.off\")"
   ]
  },
  {
   "cell_type": "code",
   "execution_count": null,
   "metadata": {},
   "outputs": [],
   "source": [
    "big_neuron"
   ]
  },
  {
   "cell_type": "code",
   "execution_count": null,
   "metadata": {},
   "outputs": [],
   "source": [
    "rec_colors = nviz.visualize_neuron(big_neuron,\n",
    "                                  visualize_type=[\"mesh\",\"skeleton\"],\n",
    "                                   limb_branch_dict=dict(L0=\"all\"),\n",
    "                                  return_color_dict=True)"
   ]
  },
  {
   "cell_type": "code",
   "execution_count": null,
   "metadata": {},
   "outputs": [],
   "source": [
    "nviz.plot_limb_concept_network_2D(big_neuron,\n",
    "                                 limb_name=\"L0\",\n",
    "                                 node_colors=rec_colors)"
   ]
  },
  {
   "cell_type": "code",
   "execution_count": null,
   "metadata": {},
   "outputs": [],
   "source": [
    "new_skeleton_ordered = \n",
    "\n",
    "nviz.plot_objects(\n",
    "    meshes=big_neuron[0].mesh,\n",
    "    #meshes=mesh_correspondence_1,\n",
    "                 skeletons=new_skeleton_ordered[:-1],\n",
    "scatters=new_skeleton_ordered[-3:].reshape(-1,3))"
   ]
  },
  {
   "cell_type": "markdown",
   "metadata": {},
   "source": [
    "# checking which branches have large mesh percentage difference after adaptive correspondence"
   ]
  },
  {
   "cell_type": "code",
   "execution_count": null,
   "metadata": {},
   "outputs": [],
   "source": [
    "import neuron_utils as nru\n",
    "big_neuron = nru.decompress_neuron(\"/notebooks/test_neurons/meshafterparty_processed/12345_double_soma_meshafterparty_fixed_connectors_and_spines.pbz2\",\n",
    "                     \"/notebooks/test_neurons/meshafterparty_processed/12345_double_soma_meshafterparty_fixed_connectors_and_spines.off\")"
   ]
  },
  {
   "cell_type": "code",
   "execution_count": null,
   "metadata": {},
   "outputs": [],
   "source": [
    "import compartment_utils as cu\n",
    "cu = reload(cu)"
   ]
  },
  {
   "cell_type": "code",
   "execution_count": null,
   "metadata": {},
   "outputs": [],
   "source": [
    "limb_branch_to_original_corr = dict()\n",
    "import skeleton_utils as sk\n",
    "\n",
    "big_neuron._index = -1\n",
    "for limb_idx,limb in enumerate(big_neuron):\n",
    "    limb_branch_to_original_corr[limb_idx] = dict()\n",
    "    limb._index = -1\n",
    "    for branch_idx,branch in enumerate(limb):\n",
    "\n",
    "        new_skeleton  = sk.resize_skeleton_branch(branch.skeleton,segment_width = 1000)\n",
    "\n",
    "        (segment_skeletal_mean_distances_1,\n",
    "                 segment_skeletal_std_distances_1,\n",
    "                 mesh_correspondence_1,\n",
    "                 mesh_correspondence_indices_1) = cu.get_skeletal_distance_no_skipping(\n",
    "                                    main_mesh = limb.mesh,\n",
    "                                    edges = new_skeleton,\n",
    "                                    buffer=100,\n",
    "                                    bbox_ratio=1.2,\n",
    "                                    distance_threshold=3000,\n",
    "                                    distance_by_mesh_center=True,\n",
    "                                    print_flag=False)\n",
    "        \n",
    "        limb_branch_to_original_corr[limb_idx][branch_idx] = dict(mesh_correspondenc=mesh_correspondence_1)\n",
    "\n",
    "\n"
   ]
  },
  {
   "cell_type": "code",
   "execution_count": null,
   "metadata": {},
   "outputs": [],
   "source": [
    "\"\"\"\n",
    "Pseudocode for check:\n",
    "1) Iterate through all the limbs\n",
    "2) Iterate through all of the branches\n",
    "\n",
    "a. Run the adaptive mesh correspondence and get the percentage drop\n",
    "b. Save the percentage drop in a list and a lookup dictionary\n",
    "\n",
    "3) Visualize the results with the highest percentage\n",
    "\n",
    "\"\"\"\n",
    "limb_branch_to_drop_perc=dict()\n",
    "\n",
    "big_neuron._index = -1\n",
    "for limb_idx,limb in enumerate(big_neuron):\n",
    "    limb_branch_to_drop_perc[limb_idx] = dict()\n",
    "    limb._index = -1\n",
    "    for branch_idx,branch in enumerate(limb):\n",
    "        mesh_correspondenc,_,drop_perc = cu.mesh_correspondence_adaptive_distance(curr_branch_skeleton=branch.skeleton,\n",
    "                                                curr_branch_mesh=limb.mesh,\n",
    "                                                return_mesh_perc_drop=True)\n",
    "        limb_branch_to_drop_perc[limb_idx][branch_idx] = dict(mesh_correspondenc=mesh_correspondenc,drop_perc=drop_perc)"
   ]
  },
  {
   "cell_type": "code",
   "execution_count": null,
   "metadata": {},
   "outputs": [],
   "source": [
    "limb_branch_to_drop_perc"
   ]
  },
  {
   "cell_type": "code",
   "execution_count": null,
   "metadata": {},
   "outputs": [],
   "source": [
    "total_keep_values = []\n",
    "below_thresh_skeletons = []\n",
    "below_thresh_meshes = []\n",
    "loss_threshold = 0.5\n",
    "below_thresh_limb_branch_dict = dict()\n",
    "big_neuron._index = -1\n",
    "for limb_idx,limb in enumerate(big_neuron):\n",
    "    limb._index = -1\n",
    "    limb_name = f\"L{limb_idx}\"\n",
    "    below_thresh_limb_branch_dict[limb_name]=[]\n",
    "    for branch_idx,branch in enumerate(limb):\n",
    "        curr_keep_value = limb_branch_to_drop_perc[limb_idx][branch_idx][\"drop_perc\"]\n",
    "        if curr_keep_value > loss_threshold:\n",
    "            below_thresh_meshes.append(limb.mesh.submesh([limb_branch_to_drop_perc[limb_idx][branch_idx][\"mesh_correspondenc\"]],append=True))\n",
    "            below_thresh_skeletons.append(big_neuron[limb_idx][branch_idx].skeleton)\n",
    "\n"
   ]
  },
  {
   "cell_type": "code",
   "execution_count": null,
   "metadata": {
    "scrolled": false
   },
   "outputs": [],
   "source": [
    "import numpy as np\n",
    "nviz.plot_objects(main_mesh=big_neuron.mesh,\n",
    "                  main_mesh_color=np.array([0,0,1,0.2]),\n",
    "    meshes=below_thresh_meshes,\n",
    "                  meshes_colors=\"random\",#[np.array([1,0,0,1])]*len(below_thresh_meshes),\n",
    "                  mesh_alpha=1,\n",
    "                 skeletons=below_thresh_skeletons)"
   ]
  },
  {
   "cell_type": "code",
   "execution_count": null,
   "metadata": {
    "scrolled": false
   },
   "outputs": [],
   "source": [
    "nviz.visualize_neuron(big_neuron,\n",
    "                     visualize_type=[\"mesh\",\"skeleton\"],\n",
    "                      limb_branch_dict=below_thresh_limb_branch_dict,\n",
    "                      mesh_color=\"red\",\n",
    "                      mesh_color_alpha=1,\n",
    "                      skeleton_color=\"black\",\n",
    "                     mesh_whole_neuron=True)"
   ]
  },
  {
   "cell_type": "code",
   "execution_count": null,
   "metadata": {},
   "outputs": [],
   "source": [
    "\n",
    "below_thresh_skeletons_orig = []\n",
    "below_thresh_meshes_orig = []\n",
    "keep_threshold = 0.4\n",
    "\n",
    "big_neuron._index = -1\n",
    "for limb_idx,limb in enumerate(big_neuron):\n",
    "    limb._index = -1\n",
    "    limb_name = f\"L{limb_idx}\"\n",
    "    below_thresh_limb_branch_dict[limb_name]=[]\n",
    "    for branch_idx,branch in enumerate(limb):\n",
    "        if branch_idx in limb_branch_to_drop_perc[limb_idx].keys():\n",
    "            curr_keep_value = limb_branch_to_drop_perc[limb_idx][branch_idx][\"drop_perc\"]\n",
    "        else:\n",
    "            continue\n",
    "        if curr_keep_value < keep_threshold:\n",
    "            below_thresh_meshes_orig.append(limb_branch_to_original_corr[limb_idx][branch_idx][\"mesh_correspondenc\"])\n",
    "            below_thresh_skeletons_orig.append(big_neuron[limb_idx][branch_idx].skeleton)\n",
    "\n"
   ]
  },
  {
   "cell_type": "code",
   "execution_count": null,
   "metadata": {},
   "outputs": [],
   "source": [
    "import numpy as np\n",
    "nviz.plot_objects(main_mesh=big_neuron.mesh,\n",
    "                  main_mesh_color=np.array([0,0,1,0.2]),\n",
    "    meshes=below_thresh_meshes_orig,\n",
    "                  meshes_colors=[np.array([1,0,0,1])]*len(below_thresh_meshes),\n",
    "                  mesh_alpha=1,\n",
    "                 skeletons=below_thresh_skeletons_orig)"
   ]
  },
  {
   "cell_type": "code",
   "execution_count": null,
   "metadata": {},
   "outputs": [],
   "source": [
    "col_dict = nviz.visualize_neuron(big_neuron,\n",
    "                     limb_branch_dict=dict(L0=\"all\"),\n",
    "                    mesh_color_alpha=1,\n",
    "                     return_color_dict=True)"
   ]
  },
  {
   "cell_type": "code",
   "execution_count": null,
   "metadata": {},
   "outputs": [],
   "source": [
    "nviz.plot_limb_concept_network_2D(big_neuron,\n",
    "                                 limb_name=\"L0\",\n",
    "                                 node_colors=col_dict)"
   ]
  },
  {
   "cell_type": "code",
   "execution_count": null,
   "metadata": {},
   "outputs": [],
   "source": [
    "nviz.plot_objects(main_mesh = big_neuron[0].mesh,\n",
    "                  meshes=big_neuron[0][18].mesh,\n",
    "                  meshes_colors=\"black\")"
   ]
  },
  {
   "cell_type": "markdown",
   "metadata": {},
   "source": [
    "# implementing new mesh correspondence solution"
   ]
  },
  {
   "cell_type": "code",
   "execution_count": null,
   "metadata": {},
   "outputs": [],
   "source": [
    "cu."
   ]
  },
  {
   "cell_type": "code",
   "execution_count": null,
   "metadata": {},
   "outputs": [],
   "source": []
  },
  {
   "cell_type": "code",
   "execution_count": null,
   "metadata": {},
   "outputs": [],
   "source": [
    "        \n",
    "\"\"\" ---- 9/28 Addition: Want to fill in the holes that will be filled in later\n",
    "with waterfilling algorithm \n",
    "\n",
    "Pseudocode: \n",
    "1) the faces that are going to keep, get the compliment of those faces\n",
    "and divide those into seperate meshes \n",
    "(because will be decided if should add to faces to keep)\n",
    "\n",
    "2) Get all of the border vertices of the mesh\n",
    "\n",
    "3) \n",
    "\n",
    "\n",
    "\n",
    "\n",
    "\"\"\""
   ]
  },
  {
   "cell_type": "code",
   "execution_count": null,
   "metadata": {},
   "outputs": [],
   "source": [
    "skeleton_segment_width = 1000\n",
    "curr_branch_skeleton = big_neuron[0][18].skeleton \n",
    "curr_branch_mesh = big_neuron[0].mesh\n",
    "debug=False\n",
    "print_flag=False\n",
    "\n",
    "new_skeleton  = sk.resize_skeleton_branch(curr_branch_skeleton,segment_width = skeleton_segment_width)\n",
    "if debug:\n",
    "    print(f\"new_skeleton = {new_skeleton}\")\n",
    "if print_flag:\n",
    "    print(f\"new_skeleton.shape = {new_skeleton.shape}\")\n",
    "\n",
    "(segment_skeletal_mean_distances,\n",
    " segment_skeletal_std_distances,\n",
    " mesh_correspondence,\n",
    " mesh_correspondence_indices) = cu.get_skeletal_distance(\n",
    "                    main_mesh = curr_branch_mesh,\n",
    "                    edges = new_skeleton,\n",
    "                    buffer=100,\n",
    "                    bbox_ratio=1.2,\n",
    "                    distance_threshold=3000,\n",
    "                    distance_by_mesh_center=True,\n",
    "                    print_flag=False\n",
    ")\n",
    "\n",
    "mesh_after_corr = mesh_correspondence\n",
    "\n",
    "if debug:\n",
    "    print(\"\\n After first skeletal distance call\")\n",
    "    print(f\"segment_skeletal_mean_distances = {segment_skeletal_mean_distances}\")\n",
    "    print(f\"segment_skeletal_std_distances = {segment_skeletal_std_distances}\")\n",
    "    print(f\"mesh_correspondence = {mesh_correspondence}\")\n",
    "    print(f\"mesh_correspondence_indices = {mesh_correspondence_indices}\")\n",
    "    mesh_correspondence.export(\"mesh_correspondence_round_1.off\")\n",
    "\n",
    "if len(mesh_correspondence_indices)== 0:\n",
    "    if print_flag:\n",
    "        print(\"empty mesh_correspondence_indices returned so returning an empty array\")\n",
    "    return_value =  []\n",
    "\n",
    "#now use the new submesh to calculate the new threshold\n",
    "# -- Step where I compute the new threshold and and then rerun it -- #\n",
    "if len(segment_skeletal_mean_distances) > 4:\n",
    "    filtered_measurements = np.array(segment_skeletal_mean_distances[1:-1])\n",
    "    filtered_measurements_std = np.array(segment_skeletal_std_distances[1:-1])\n",
    "else:\n",
    "    filtered_measurements = np.array(segment_skeletal_mean_distances)\n",
    "    filtered_measurements_std = np.array(segment_skeletal_std_distances)\n",
    "\n",
    "\n",
    "\n",
    "#filter out the other outliers: do anything higher than 150% of median should be discounted\n",
    "median_value = np.median(filtered_measurements)\n",
    "outlier_mask = filtered_measurements <= median_value*1.5\n",
    "filtered_measurements = filtered_measurements[outlier_mask]\n",
    "filtered_measurements_std = filtered_measurements_std[outlier_mask]\n",
    "\n",
    "if print_flag:\n",
    "    print(f\"filtered_measurements = {filtered_measurements}\")\n",
    "\n",
    "# try the mesh subtraction again \n",
    "buffer = 100\n",
    "\n",
    "total_threshold = np.max(filtered_measurements) + 2*np.max(filtered_measurements_std)\n",
    "\n"
   ]
  },
  {
   "cell_type": "code",
   "execution_count": null,
   "metadata": {},
   "outputs": [],
   "source": [
    "import time\n",
    "from tqdm_utils import tqdm\n",
    "\n",
    "main_mesh = mesh_after_corr\n",
    "edges = curr_branch_skeleton\n",
    "buffer=0.01\n",
    "bbox_ratio=1.2\n",
    "distance_threshold=total_threshold\n",
    "distance_by_mesh_center=True\n",
    "print_flag=False\n",
    "edge_loop_print=True\n",
    "fill_in_holes=True\n",
    "\n",
    "from compartment_utils import *\n",
    "    \n",
    "\"\"\"\n",
    "Purpose: To return the histogram of distances along a mesh subtraction process\n",
    "so that we could evenutally find an adaptive distance threshold\n",
    "\n",
    "\n",
    "\"\"\"\n",
    "print(f\"INSIDE GET SKELETAL DISTANCE distance_by_mesh_center = {distance_by_mesh_center}\")\n",
    "debug=False\n",
    "\n",
    "\n",
    "main_mesh_bbox_restricted = main_mesh\n",
    "faces_bbox_inclusion = np.arange(0,len(main_mesh.faces))\n",
    "\n",
    "\n",
    "start_time = time.time()\n",
    "face_subtract_indices = []\n",
    "\n",
    "\n",
    "total_distances = []\n",
    "total_distances_std = []\n",
    "for i,ex_edge in tqdm(enumerate(edges)):\n",
    "    #print(\"\\n------ New loop ------\")\n",
    "    #print(ex_edge)\n",
    "\n",
    "    # ----------- creating edge and checking distance ----- #\n",
    "    loop_start = time.time()\n",
    "\n",
    "    edge_line = ex_edge[1] - ex_edge[0]\n",
    "    sum_threshold = 0.001\n",
    "    if np.sum(np.abs(edge_line)) < sum_threshold:\n",
    "        if edge_loop_print:\n",
    "            print(f\"edge number {i}, {ex_edge}: has sum less than {sum_threshold} so skipping\")\n",
    "        continue\n",
    "\n",
    "    cob_edge = change_basis_matrix(edge_line)\n",
    "\n",
    "    #get the limits of the example edge itself that should be cutoff\n",
    "    edge_trans = (cob_edge@ex_edge.T)\n",
    "    #slice_range = np.sort((cob_edge@ex_edge.T)[2,:])\n",
    "    slice_range = np.sort(edge_trans[2,:])\n",
    "\n",
    "    # adding the buffer to the slice range\n",
    "    slice_range_buffer = slice_range + np.array([-buffer,buffer])\n",
    "\n",
    "    # generate face midpoints from the triangles\n",
    "    #face_midpoints = np.mean(main_mesh_bbox_restricted.vertices[main_mesh_bbox_restricted.faces],axis=1) # Old way\n",
    "    face_midpoints = main_mesh_bbox_restricted.triangles_center\n",
    "\n",
    "\n",
    "    #get the face midpoints that fall within the slice (by lookig at the z component)\n",
    "    fac_midpoints_trans = cob_edge@face_midpoints.T\n",
    "\n",
    "    slice_mask_pre_distance = ((fac_midpoints_trans[2,:]>slice_range_buffer[0]) & \n",
    "                  (fac_midpoints_trans[2,:]<slice_range_buffer[1]))\n",
    "\n",
    "    edge_midpoint = np.mean(edge_trans.T,axis=0)\n",
    "    distance_check = np.linalg.norm((fac_midpoints_trans.T)[:,:2] - edge_midpoint[:2],axis=1) < distance_threshold\n",
    "\n",
    "    slice_mask = slice_mask_pre_distance & distance_check\n",
    "\n",
    "    face_list = np.arange(0,len(main_mesh_bbox_restricted.faces))[slice_mask]\n",
    "\n",
    "    #get the submesh of valid faces within the slice\n",
    "    if len(face_list)>0:\n",
    "        main_mesh_sub = main_mesh_bbox_restricted.submesh([face_list],append=True)\n",
    "    else:\n",
    "        main_mesh_sub = []\n",
    "\n",
    "    if type(main_mesh_sub) != type(trimesh.Trimesh()):\n",
    "        if edge_loop_print:\n",
    "            print(f\"THERE WERE NO FACES THAT FIT THE DISTANCE ({distance_threshold}) and Z transform requirements\")\n",
    "            print(\"So just skipping this edge\")\n",
    "        continue\n",
    "\n",
    "    if debug:\n",
    "        print(f\"face_list = {face_list}\")    \n",
    "\n",
    "    #get all disconnected mesh pieces of the submesh and the face indices for lookup later\n",
    "    sub_components,sub_components_face_indexes = tu.split(main_mesh_sub,only_watertight=False)\n",
    "\n",
    "    if debug:\n",
    "        print(f\"sub_components = {sub_components}\")\n",
    "\n",
    "    if type(sub_components) != type(np.array([])) and type(sub_components) != list:\n",
    "        #print(f\"meshes = {sub_components}, with type = {type(sub_components)}\")\n",
    "        if type(sub_components) == type(trimesh.Trimesh()) :\n",
    "            sub_components = [sub_components]\n",
    "        else:\n",
    "            raise Exception(\"The sub_components were not an array, list or trimesh\")\n",
    "\n",
    "    if debug:\n",
    "        print(f\"sub_components = {sub_components}\")\n",
    "        print(f\"sub_components_face_indexes = {sub_components_face_indexes}\")\n",
    "\n",
    "\n",
    "    #getting the indices of the submeshes whose bounding box contain the edge \n",
    "    contains_points_results = np.array([s_comp.bounding_box.contains(ex_edge.reshape(-1,3)) for s_comp in sub_components])\n",
    "\n",
    "    containing_indices = (np.arange(0,len(sub_components)))[np.sum(contains_points_results,axis=1) >= len(ex_edge)]\n",
    "\n",
    "    if debug:\n",
    "        print(f\"containing_indices = {containing_indices}\")\n",
    "\n",
    "    try:\n",
    "        if len(containing_indices) != 1: \n",
    "            if edge_loop_print:\n",
    "                print(f\"--> Not exactly one containing mesh: {containing_indices}\")\n",
    "            if len(containing_indices) > 1:\n",
    "                sub_components_inner = sub_components[containing_indices]\n",
    "                sub_components_face_indexes_inner = sub_components_face_indexes[containing_indices]\n",
    "            else:\n",
    "                sub_components_inner = sub_components\n",
    "                sub_components_face_indexes_inner = sub_components_face_indexes\n",
    "\n",
    "            #get the center of the edge\n",
    "            edge_center = np.mean(ex_edge,axis=0)\n",
    "            #print(f\"edge_center = {edge_center}\")\n",
    "\n",
    "            #find the distance between eacch bbox center and the edge center\n",
    "            bbox_centers = [np.mean(k.bounds,axis=0) for k in sub_components_inner]\n",
    "            #print(f\"bbox_centers = {bbox_centers}\")\n",
    "            closest_bbox = np.argmin([np.linalg.norm(edge_center-b_center) for b_center in bbox_centers])\n",
    "            #print(f\"bbox_distance = {closest_bbox}\")\n",
    "            edge_skeleton_faces = faces_bbox_inclusion[face_list[sub_components_face_indexes_inner[closest_bbox]]]\n",
    "\n",
    "\n",
    "        else:# when only one viable submesh piece and just using that sole index\n",
    "            edge_skeleton_faces = faces_bbox_inclusion[face_list[sub_components_face_indexes[containing_indices[0]]]]\n",
    "            if debug:\n",
    "                print(f\"edge_skeleton_faces = {edge_skeleton_faces}\")\n",
    "    except:\n",
    "        print(f\"sub_components = {sub_components}\")\n",
    "        print(f\"containing_indices = {containing_indices}\")\n",
    "        print(f\"sub_components_face_indexes (from the split) = {sub_components_face_indexes}\")\n",
    "        raise Exception(\"Error occured\")\n",
    "\n",
    "\n",
    "    if len(edge_skeleton_faces) < 0:\n",
    "        print(f\"****** Warning the edge index {i}: had no faces in the edge_skeleton_faces*******\")\n",
    "    face_subtract_indices.append(edge_skeleton_faces)\n",
    "\n",
    "\n",
    "    #---- calculating the relevant distances ---- #\n",
    "\n",
    "    face_midpoints = (main_mesh_bbox_restricted.triangles_center)[edge_skeleton_faces]\n",
    "    #print(f\"edge_skeleton_faces.shape = {edge_skeleton_faces.shape}\")\n",
    "#         print(f\"cob_edge = {cob_edge}\")\n",
    "#         print(f\"face_midpoints = {face_midpoints.shape}\")\n",
    "#         print(f\"sub_components = {sub_components}\")\n",
    "#         print(f\"containing_indices = {containing_indices}\")\n",
    "#         print(f\"sub_components_face_indexes (from the split) = {sub_components_face_indexes}\")\n",
    "    #Exception(\"failed on fac_midpoints_trans\")\n",
    "\n",
    "    fac_midpoints_trans = cob_edge@face_midpoints.T\n",
    "\n",
    "    if distance_by_mesh_center: \n",
    "        faces_submesh = main_mesh_bbox_restricted.submesh([edge_skeleton_faces],append=True)\n",
    "        faces_submesh_center = tu.mesh_center_weighted_face_midpoints(faces_submesh)\n",
    "        faces_submesh_center = faces_submesh_center.reshape(3,1)\n",
    "        #print(f\"cob_edge.shape = {cob_edge.shape}, faces_submesh_center.shape={faces_submesh_center.shape}\")\n",
    "        edge_midpoint = cob_edge@faces_submesh_center\n",
    "        edge_midpoint = edge_midpoint.reshape(-1)\n",
    "\n",
    "\n",
    "    #print(f\"fac_midpoints_trans.shape = {fac_midpoints_trans.shape}\")\n",
    "    mesh_slice_distances = np.linalg.norm((fac_midpoints_trans.T)[:,:2] - edge_midpoint[:2],axis=1)\n",
    "    #print(f\"mesh_slice_distances.shape = {mesh_slice_distances.shape}\")\n",
    "\n",
    "    total_distances.append(np.mean(mesh_slice_distances))\n",
    "    total_distances_std.append(np.std(mesh_slice_distances))\n",
    "\n",
    "debug = False\n",
    "\n",
    "if debug:\n",
    "    print(f\"face_subtract_indices = {face_subtract_indices}\")\n",
    "\n",
    "if len(face_subtract_indices)>0:\n",
    "    all_removed_faces = np.concatenate(face_subtract_indices)\n",
    "\n",
    "    unique_removed_faces = np.array(list(set(all_removed_faces)))\n",
    "\n",
    "    if len(unique_removed_faces) < 1:\n",
    "        print(f\"Distance of skeleton = {sk.calculate_skeleton_distance(edges)}\")\n",
    "        raise Exception(f\"unique_removed_faces = {unique_removed_faces}\")\n",
    "\n",
    "    if debug:\n",
    "        print(f\"unique_removed_faces = {unique_removed_faces}\")  \n",
    "\n",
    "\n",
    "        \n",
    "      \n",
    "    \"\"\" ---- 9/28 Addition: Want to fill in the holes that will be filled in later\n",
    "    with waterfilling algorithm \n",
    "\n",
    "    Pseudocode: \n",
    "\n",
    "    0) Get the border vertices for all of the kept_mesh and \n",
    "    map them to the main mesh\n",
    "\n",
    "    1) Find Part of mesh that is not in the faces that could \n",
    "    possibly be included in the mesh correspondence (eliminated_mesh)\n",
    "\n",
    "    2) Divide the eliminated_mesh into split pieces\n",
    "\n",
    "\n",
    "    3) For each split pieces of the eliminated_mesh\n",
    "    a. Get the border vertices\n",
    "    b. Map to the main mesh\n",
    "    c. Take these border vertices and take boolean difference with kept_mesh border vertices\n",
    "    d. If list is empty then add the split face indexes to the kept_mesh faces\n",
    "\n",
    "    4) Continue with rest of processing\n",
    "\n",
    "    \"\"\"\n",
    "\n",
    "    #0) Get the border vertices for all of the kept_mesh and \n",
    "    #map them to the main mesh\n",
    "    kept_mesh = main_mesh.submesh([unique_removed_faces],append=True,repair=False)\n",
    "    kept_mesh_splits,kept_mesh_splits_idx = tu.split(kept_mesh)\n",
    "    kept_border_verts = []\n",
    "    for km in kept_mesh_splits:\n",
    "        curr_border_verts = tu.find_border_vertices(km)\n",
    "        kept_border_verts.append(tu.original_mesh_vertices_map(main_mesh,vertices_coordinates=km.vertices[curr_border_verts]))\n",
    "\n",
    "    total_kept_border_verts = np.concatenate(kept_border_verts)\n",
    "\n",
    "\n",
    "    #1) Find Part of mesh that is not in the faces that could \n",
    "    #possibly be included in the mesh correspondence (eliminated_mesh)\n",
    "    eliminated_mesh_faces_idx = np.setdiff1d(np.arange(len(main_mesh.faces)),unique_removed_faces)\n",
    "    eliminated_mesh = main_mesh.submesh([eliminated_mesh_faces_idx],append=True,repair =False)\n",
    "\n",
    "    #2) Divide the eliminated_mesh into split pieces\n",
    "    elim_mesh_splits,elim_mesh_splits_idx = tu.split(eliminated_mesh)\n",
    "\n",
    "    # 3) For each split pieces of the eliminated_mesh\n",
    "    # a. Get the border vertices\n",
    "    # b. Map to the main mesh\n",
    "    # c. Take these border vertices and take boolean difference with kept_mesh border vertices\n",
    "    # d. If list is empty then add the split face indexes to the kept_mesh faces\n",
    "    final_faces_with_stitching = [unique_removed_faces]\n",
    "    meshes_to_stitch = []\n",
    "    for j,(e_mesh,e_mesh_face_idx) in enumerate(zip(elim_mesh_splits,elim_mesh_splits_idx)):\n",
    "        # a. Get the border vertices\n",
    "        curr_border_verts = tu.find_border_vertices(e_mesh)\n",
    "        original_bord_verts = tu.original_mesh_vertices_map(main_mesh,vertices_coordinates=e_mesh.vertices[curr_border_verts])\n",
    "        not_cancelled_verts = np.setdiff1d(original_bord_verts,total_kept_border_verts)\n",
    "        if len(not_cancelled_verts) == 0:\n",
    "            final_faces_with_stitching.append(eliminated_mesh_faces_idx[e_mesh_face_idx])\n",
    "            meshes_to_stitch.append(e_mesh)\n",
    "        else:\n",
    "            if debug:\n",
    "                print(f\"Split Mesh {j} Not stitched because not_cancelled_verts = {not_cancelled_verts}\")\n",
    "\n",
    "    unique_removed_faces_revised = np.unique(np.concatenate(final_faces_with_stitching))\n",
    "    unique_removed_faces = unique_removed_faces_revised\n",
    "\n",
    "\n",
    "    \n",
    "    new_submesh = main_mesh.submesh([unique_removed_faces],only_watertight=False,append=True)\n",
    "    if debug:\n",
    "        print(\"--------------------- Starting new trial --------------------\")\n",
    "        print(f\"main_mesh.faces.shape = {main_mesh.faces.shape}\")\n",
    "        print(f\"new_submesh.faces.shape = {new_submesh.faces.shape}\")\n",
    "        print(f\"unique_removed_faces.shape = {unique_removed_faces.shape}\")\n",
    "        print(f\"max(unique_removed_faces) = {max(unique_removed_faces)}\")\n",
    "\n",
    "    split_meshes,components_faces = tu.split(new_submesh,return_components=True)\n",
    "\n",
    "    if debug:\n",
    "        current_random_number = np.random.randint(10,10000)\n",
    "        print()\n",
    "        print(\"After the split has been called\")\n",
    "        print(f\"split_meshes = {split_meshes}\")\n",
    "        print(f\"components_faces = {[np.array(k).shape for k in components_faces]}\")\n",
    "        main_mesh.export(f\"main_mesh_{len(main_mesh.faces)}.off\")\n",
    "        new_submesh.export(f\"new_submesh_{len(new_submesh.faces)}.off\")\n",
    "        np.savez(f\"unique_removed_faces_{unique_removed_faces.shape[0]}.npz\",unique_removed_faces=unique_removed_faces)\n",
    "\n",
    "\n",
    "     #don't just want to take the biggest mesh: but want to take the one that has the most of the skeleton\n",
    "    #piece corresponding to it\n",
    "\n",
    "    \"\"\"\n",
    "    Pseudocode: \n",
    "    1) turn all of the mesh edge_skeleton_faces into meshes, have the main mesh be the whole mesh and \n",
    "    have each of the mesh pieces be a central piece\n",
    "    2) Call the mesh_pieces_connectivity function and see how many of the periphery pieces are touching each of the submehses\n",
    "    3) Pick the mesh that has the most \n",
    "\n",
    "    \"\"\"\n",
    "\n",
    "    if len(split_meshes) > 1: \n",
    "        branch_touching_number = []\n",
    "        #getting the mesh correspondence for each skeleton segment\n",
    "        branch_correspondence_meshes = [main_mesh.submesh([k],only_watertight=False,append=True) for k in face_subtract_indices]\n",
    "        #Out of all the submesh splits, see how many of the segment mesh correspondence it is touching\n",
    "        for curr_central_piece in split_meshes:\n",
    "            touching_periphery_pieces =tu.mesh_pieces_connectivity(\n",
    "                                        main_mesh = new_submesh,\n",
    "                                        central_piece = curr_central_piece,\n",
    "                                        periphery_pieces = branch_correspondence_meshes,\n",
    "                                        return_vertices=False)\n",
    "            branch_touching_number.append(len(touching_periphery_pieces))\n",
    "            if print_flag:\n",
    "                print(f\"branch_touching_number = {branch_touching_number}\")\n",
    "\n",
    "        #CONCLUSION: find the submesh split piece that is touching the most skeleton segment mesh correspondences (winning mesh)\n",
    "        most_branch_containing_piece = np.argmax(branch_touching_number)\n",
    "        if print_flag:\n",
    "            print(f\"most_branch_containing_piece = {most_branch_containing_piece}\")\n",
    "\n",
    "        #Make this the \n",
    "\n",
    "\n",
    "        new_submesh = split_meshes[most_branch_containing_piece]\n",
    "        unique_removed_faces = unique_removed_faces[components_faces[most_branch_containing_piece]]\n",
    "\n",
    "        if debug:\n",
    "            print()\n",
    "            print(f\"main_mesh.faces.shape = {main_mesh.faces.shape}\")\n",
    "            print(\"reassigning new_submesh to one of many sub pieces\")\n",
    "            print(f\"new_submesh.faces.shape = {new_submesh.faces.shape}\")\n",
    "            print(f\"unique_removed_faces.shape = {unique_removed_faces.shape}\")\n",
    "            print(f\"max(unique_removed_faces) = {max(unique_removed_faces)}\")\n",
    "\n",
    "    elif len(split_meshes) == 1: \n",
    "        new_submesh = split_meshes[0]\n",
    "        unique_removed_faces = unique_removed_faces[components_faces[0]]\n",
    "\n",
    "        if debug:\n",
    "            print()\n",
    "            print(f\"main_mesh.faces.shape = {main_mesh.faces.shape}\")\n",
    "            print(\"Assigning submesh to the only submesh\")\n",
    "            print(f\"new_submesh.faces.shape = {new_submesh.faces.shape}\")\n",
    "            print(f\"unique_removed_faces.shape = {unique_removed_faces.shape}\")\n",
    "            print(f\"max(unique_removed_faces) = {max(unique_removed_faces)}\")\n",
    "    else:\n",
    "        raise Exception(\"The split meshes in the mesh correspondence was 0 length\")\n",
    "\n",
    "    #need to further restric the unique_removed_faces to those of most significant piece\n",
    "\n",
    "else:\n",
    "    unique_removed_faces = np.array([])\n",
    "    new_submesh = trimesh.Trimesh()\n",
    "\n",
    "if debug:\n",
    "    print(f\"new_submesh = {new_submesh}\")\n",
    "\n",
    "return_value= total_distances,total_distances_std,new_submesh,np.array(unique_removed_faces)"
   ]
  },
  {
   "cell_type": "code",
   "execution_count": null,
   "metadata": {},
   "outputs": [],
   "source": [
    "nviz.plot_objects(meshes=[new_submesh,main_mesh],\n",
    "                  meshes_colors=[\"black\",\"red\"],\n",
    "                 skeletons=big_neuron[0][18].skeleton)"
   ]
  },
  {
   "cell_type": "code",
   "execution_count": null,
   "metadata": {},
   "outputs": [],
   "source": [
    "\"\"\" ---- 9/28 Addition: Want to fill in the holes that will be filled in later\n",
    "with waterfilling algorithm \n",
    "\n",
    "Pseudocode: \n",
    "\n",
    "0) Get the border vertices for all of the kept_mesh and \n",
    "map them to the main mesh\n",
    "\n",
    "1) Find Part of mesh that is not in the faces that could \n",
    "possibly be included in the mesh correspondence (eliminated_mesh)\n",
    "\n",
    "2) Divide the eliminated_mesh into split pieces\n",
    "\n",
    "\n",
    "3) For each split pieces of the eliminated_mesh\n",
    "a. Get the border vertices\n",
    "b. Map to the main mesh\n",
    "c. Take these border vertices and take boolean difference with kept_mesh border vertices\n",
    "d. If list is empty then add the split face indexes to the kept_mesh faces\n",
    "\n",
    "4) Continue with rest of processing\n",
    "\n",
    "\"\"\"\n",
    "\n",
    "#0) Get the border vertices for all of the kept_mesh and \n",
    "#map them to the main mesh\n",
    "kept_mesh = main_mesh.submesh([unique_removed_faces],append=True,repair=False)\n",
    "kept_mesh_splits,kept_mesh_splits_idx = tu.split(kept_mesh)\n",
    "kept_border_verts = []\n",
    "for km in kept_mesh_splits:\n",
    "    curr_border_verts = tu.find_border_vertices(km)\n",
    "    kept_border_verts.append(tu.original_mesh_vertices_map(main_mesh,vertices_coordinates=km.vertices[curr_border_verts]))\n",
    "\n",
    "total_kept_border_verts = np.concatenate(kept_border_verts)\n",
    "\n",
    "\n",
    "#1) Find Part of mesh that is not in the faces that could \n",
    "#possibly be included in the mesh correspondence (eliminated_mesh)\n",
    "eliminated_mesh_faces_idx = np.setdiff1d(np.arange(len(main_mesh.faces)),unique_removed_faces)\n",
    "eliminated_mesh = main_mesh.submesh([eliminated_mesh_faces_idx],append=True,repair =False)\n",
    "\n",
    "#2) Divide the eliminated_mesh into split pieces\n",
    "elim_mesh_splits,elim_mesh_splits_idx = tu.split(eliminated_mesh)\n",
    "\n",
    "# 3) For each split pieces of the eliminated_mesh\n",
    "# a. Get the border vertices\n",
    "# b. Map to the main mesh\n",
    "# c. Take these border vertices and take boolean difference with kept_mesh border vertices\n",
    "# d. If list is empty then add the split face indexes to the kept_mesh faces\n",
    "final_faces_with_stitching = [unique_removed_faces]\n",
    "meshes_to_stitch = []\n",
    "for j,(e_mesh,e_mesh_face_idx) in enumerate(zip(elim_mesh_splits,elim_mesh_splits_idx)):\n",
    "    # a. Get the border vertices\n",
    "    curr_border_verts = tu.find_border_vertices(e_mesh)\n",
    "    original_bord_verts = tu.original_mesh_vertices_map(main_mesh,vertices_coordinates=e_mesh.vertices[curr_border_verts])\n",
    "    not_cancelled_verts = np.setdiff1d(original_bord_verts,total_kept_border_verts)\n",
    "    if len(not_cancelled_verts) == 0:\n",
    "        final_faces_with_stitching.append(eliminated_mesh_faces_idx[e_mesh_face_idx])\n",
    "        meshes_to_stitch.append(e_mesh)\n",
    "    else:\n",
    "        print(f\"Split Mesh {j} Not stitched because not_cancelled_verts = {not_cancelled_verts}\")\n",
    "        \n",
    "unique_removed_faces_revised = np.unique(np.concatenate(final_faces_with_stitching))\n",
    "\n",
    "\n",
    "\n",
    "\n",
    "# mesh_after_corr = main_mesh.submesh([unique_removed_faces],append=True,repair=False)\n",
    "\n",
    "# sep_m_border_vets = tu.find_border_vertices(sep_m)\n",
    "# orig_mesh_vert_idxs = original_mesh_vertices_map(mesh_after_corr,vertices_coordinates=sep_m.vertices[sep_m_border_vets])\n"
   ]
  },
  {
   "cell_type": "markdown",
   "metadata": {},
   "source": [
    "# --- testing out the new mesh correspondence --- "
   ]
  },
  {
   "cell_type": "code",
   "execution_count": null,
   "metadata": {},
   "outputs": [],
   "source": [
    "cu = reload(cu)\n",
    "tu = reload(tu)"
   ]
  },
  {
   "cell_type": "code",
   "execution_count": null,
   "metadata": {},
   "outputs": [],
   "source": [
    "error_mesh_corr"
   ]
  },
  {
   "cell_type": "code",
   "execution_count": null,
   "metadata": {},
   "outputs": [],
   "source": [
    "error_mesh_corr = cu.mesh_correspondence_adaptive_distance(big_neuron[0][18].skeleton,\n",
    "                                        big_neuron[0].mesh)"
   ]
  },
  {
   "cell_type": "code",
   "execution_count": null,
   "metadata": {},
   "outputs": [],
   "source": [
    "nviz.plot_objects(meshes=big_neuron[0].mesh.submesh([error_mesh_corr],append=True),\n",
    "                 skeletons=big_neuron[0][18].skeleton)"
   ]
  },
  {
   "cell_type": "markdown",
   "metadata": {},
   "source": [
    "# Problem 2: Investigating Spine Problem Near endpoints"
   ]
  },
  {
   "cell_type": "code",
   "execution_count": null,
   "metadata": {},
   "outputs": [],
   "source": [
    "ret_col = nviz.visualize_neuron(current_neuron_mp,\n",
    "                     limb_branch_dict=dict(L0=\"all\"),\n",
    "                     #mesh_resolution=\"limb\",\n",
    "                                mesh_color_alpha=1,\n",
    "                     return_color_dict=True)"
   ]
  },
  {
   "cell_type": "code",
   "execution_count": null,
   "metadata": {},
   "outputs": [],
   "source": [
    "nviz.plot_objects(meshes=current_neuron_mp[0][7].mesh)"
   ]
  },
  {
   "cell_type": "code",
   "execution_count": null,
   "metadata": {},
   "outputs": [],
   "source": [
    "nviz.plot_limb_concept_network_2D(current_neuron_mp,\n",
    "                                 limb_name=\"L0\",\n",
    "                                  node_colors=ret_col\n",
    "                                 )"
   ]
  },
  {
   "cell_type": "code",
   "execution_count": null,
   "metadata": {},
   "outputs": [],
   "source": [
    "import spine_utils as sp\n",
    "import trimesh_utils as tu\n",
    "sp = reload(sp)\n",
    "tu = reload(tu)\n",
    "neuron = reload(neuron)"
   ]
  },
  {
   "cell_type": "code",
   "execution_count": null,
   "metadata": {},
   "outputs": [],
   "source": [
    "current_neuron_mp = neuron.Neuron(current_neuron_mp)"
   ]
  },
  {
   "cell_type": "code",
   "execution_count": null,
   "metadata": {},
   "outputs": [],
   "source": [
    "current_neuron_mp.calculate_spines(print_flag=True,\n",
    "                        filter_out_border_spines=True,\n",
    "                        skeleton_endpoint_nullification=True,\n",
    "                         border_percentage_threshold=0.3,\n",
    "                        check_spine_border_perc=0.4)"
   ]
  },
  {
   "cell_type": "code",
   "execution_count": null,
   "metadata": {},
   "outputs": [],
   "source": [
    "nviz.plot_spines(current_neuron_mp)"
   ]
  },
  {
   "cell_type": "code",
   "execution_count": null,
   "metadata": {},
   "outputs": [],
   "source": [
    "interest_branch = 11\n",
    "tu = reload(tu)\n",
    "tu.filter_away_border_touching_submeshes_by_group(\n",
    "                            mesh=current_neuron_mp[0][interest_branch].mesh,\n",
    "                            submesh_list=current_neuron_mp[0][interest_branch].spines,\n",
    "                            border_percentage_threshold=0.3,#would make 0.00001 if wanted to enforce nullification if at most one touchedss\n",
    "                            verbose = True,\n",
    "                            return_meshes=True,\n",
    "                    \n",
    "                            )"
   ]
  },
  {
   "cell_type": "code",
   "execution_count": null,
   "metadata": {},
   "outputs": [],
   "source": [
    "nviz.plot_objects(main_mesh=current_neuron_mp[0][5].mesh,\n",
    "                 meshes=current_neuron_mp[0][5].spines,\n",
    "                  meshes_colors=[np.array([1,0,0,1])],\n",
    "                 mesh_alpha=1)"
   ]
  },
  {
   "cell_type": "code",
   "execution_count": null,
   "metadata": {},
   "outputs": [],
   "source": [
    "interest = [7,11,5,10]\n",
    "for i in interest:\n",
    "    print(current_neuron_mp[0][i].spines)"
   ]
  },
  {
   "cell_type": "code",
   "execution_count": null,
   "metadata": {},
   "outputs": [],
   "source": [
    "nviz.plot_soma_limb_concept_network(current_neuron_mp,\n",
    "                                   node_colors=ret_col)"
   ]
  },
  {
   "cell_type": "code",
   "execution_count": null,
   "metadata": {},
   "outputs": [],
   "source": [
    "tu = reload(tu)\n",
    "current_neuron_mp.calculate_spines()"
   ]
  },
  {
   "cell_type": "code",
   "execution_count": null,
   "metadata": {},
   "outputs": [],
   "source": [
    "nviz.plot_spines(current_neuron_mp)"
   ]
  },
  {
   "cell_type": "code",
   "execution_count": null,
   "metadata": {},
   "outputs": [],
   "source": []
  }
 ],
 "metadata": {
  "kernelspec": {
   "display_name": "Python 3",
   "language": "python",
   "name": "python3"
  },
  "language_info": {
   "codemirror_mode": {
    "name": "ipython",
    "version": 3
   },
   "file_extension": ".py",
   "mimetype": "text/x-python",
   "name": "python",
   "nbconvert_exporter": "python",
   "pygments_lexer": "ipython3",
   "version": "3.6.9"
  }
 },
 "nbformat": 4,
 "nbformat_minor": 4
}
