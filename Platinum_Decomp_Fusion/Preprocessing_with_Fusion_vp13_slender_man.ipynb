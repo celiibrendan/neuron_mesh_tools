{
 "cells": [
  {
   "cell_type": "code",
   "execution_count": 1,
   "metadata": {},
   "outputs": [],
   "source": [
    "from os import sys\n",
    "sys.path.append(\"/meshAfterParty/\")"
   ]
  },
  {
   "cell_type": "code",
   "execution_count": 2,
   "metadata": {},
   "outputs": [
    {
     "name": "stderr",
     "output_type": "stream",
     "text": [
      "WARNING:root:Need to pip install annotationframeworkclient to repair mesh with pychunkedgraph\n",
      "WARNING:root:Need to pip install annotationframeworkclient to use dataset_name parameters\n"
     ]
    }
   ],
   "source": [
    "import neuron\n",
    "import neuron_visualizations as nviz\n",
    "import neuron_utils as nru\n",
    "from importlib import reload\n",
    "import preprocessing_vp2 as pre\n",
    "pre = reload(pre)"
   ]
  },
  {
   "cell_type": "markdown",
   "metadata": {},
   "source": [
    "# Loading the Neuron"
   ]
  },
  {
   "cell_type": "code",
   "execution_count": 3,
   "metadata": {},
   "outputs": [],
   "source": [
    "import trimesh_utils as tu\n",
    "neuron_mesh_file = \"/notebooks/test_neurons/Segmentation_2/864691135760452285_slender_man.off\"\n",
    "current_neuron_mesh = tu.load_mesh_no_processing(neuron_mesh_file)\n",
    "segment_id = 864691135760452285\n",
    "description = \"slender_man\""
   ]
  },
  {
   "cell_type": "code",
   "execution_count": 86,
   "metadata": {},
   "outputs": [
    {
     "data": {
      "application/vnd.jupyter.widget-view+json": {
       "model_id": "869cd3d64d10486086d595d8eafc29ae",
       "version_major": 2,
       "version_minor": 0
      },
      "text/plain": [
       "VBox(children=(Figure(camera=PerspectiveCamera(fov=46.0, position=(0.0, 0.0, 2.0), quaternion=(0.0, 0.0, 0.0, …"
      ]
     },
     "metadata": {},
     "output_type": "display_data"
    }
   ],
   "source": [
    "nviz.plot_objects(current_neuron_mesh)"
   ]
  },
  {
   "cell_type": "markdown",
   "metadata": {},
   "source": [
    "# Doing mesh decomposition"
   ]
  },
  {
   "cell_type": "code",
   "execution_count": 6,
   "metadata": {},
   "outputs": [
    {
     "name": "stdout",
     "output_type": "stream",
     "text": [
      "Current Arguments Using (adjusted for decimation):\n",
      " large_mesh_threshold= 15000.0 \n",
      "large_mesh_threshold_inner = 10000.0 \n",
      "soma_size_threshold = 937.5 \n",
      "soma_size_threshold_max = 12000.0\n",
      "outer_decimation_ratio = 0.25\n",
      "inner_decimation_ratio = 0.25\n",
      "xvfb-run -n 9978 -s \"-screen 0 800x600x24\" meshlabserver $@  -i /notebooks/Platinum_Decomp_Fusion/864691135760452285/neuron_864691135760452285.off -o /notebooks/Platinum_Decomp_Fusion/864691135760452285/neuron_864691135760452285_decimated.off -s /notebooks/Platinum_Decomp_Fusion/864691135760452285/decimation_meshlab_25974428.mls\n",
      "Total found significant pieces before Poisson = [<trimesh.Trimesh(vertices.shape=(200530, 3), faces.shape=(398306, 3))>]\n",
      "----- working on large mesh #0: <trimesh.Trimesh(vertices.shape=(200530, 3), faces.shape=(398306, 3))>\n",
      "pre_largest_mesh_path = /notebooks/Platinum_Decomp_Fusion/864691135760452285/neuron_864691135760452285_decimated_largest_piece.off\n",
      "xvfb-run -n 9814 -s \"-screen 0 800x600x24\" meshlabserver $@  -i /notebooks/Platinum_Decomp_Fusion/864691135760452285/neuron_864691135760452285_decimated_largest_piece.off -o /notebooks/Platinum_Decomp_Fusion/864691135760452285/neuron_864691135760452285_decimated_largest_piece_poisson.off -s /notebooks/Platinum_Decomp_Fusion/864691135760452285/poisson_278856.mls\n",
      "Total found significant pieces AFTER Poisson = [<trimesh.Trimesh(vertices.shape=(46009, 3), faces.shape=(92018, 3))>]\n",
      "----- working on mesh after poisson #0: <trimesh.Trimesh(vertices.shape=(46009, 3), faces.shape=(92018, 3))>\n",
      "xvfb-run -n 6155 -s \"-screen 0 800x600x24\" meshlabserver $@  -i /notebooks/Platinum_Decomp_Fusion/864691135760452285/neuron_864691135760452285_decimated_largest_piece_poisson_largest_inner.off -o /notebooks/Platinum_Decomp_Fusion/864691135760452285/neuron_864691135760452285_decimated_largest_piece_poisson_largest_inner_decimated.off -s /notebooks/Platinum_Decomp_Fusion/864691135760452285/decimation_meshlab_2524365.mls\n",
      "done exporting decimated mesh: neuron_864691135760452285_decimated_largest_piece_poisson_largest_inner.off\n",
      "1) Starting: Mesh importing and Pymesh fix\n",
      "loading mesh from vertices and triangles array\n",
      "1) Finished: Mesh importing and Pymesh fix: 0.0002727508544921875\n",
      "2) Staring: Generating CGAL segmentation for neuron\n",
      "Done writing OFF file\n",
      "\n",
      "Starting CGAL segmentation\n",
      "Right before cgal segmentation, clusters = 3, smoothness = 0.2, path_and_filename = /notebooks/Platinum_Decomp_Fusion/temp/86469113576045228500_fixed \n",
      "1\n",
      "Finished CGAL segmentation algorithm: 2.1569201946258545\n",
      "2) Finished: Generating CGAL segmentation for neuron: 2.489666700363159\n",
      "3) Staring: Generating Graph Structure and Identifying Soma using soma size threshold  = 3000\n",
      "my_list_keys = [0, 1, 2, 3, 4, 5, 6, 7, 8, 9, 10, 11, 12, 13, 14, 15, 16, 17, 18]\n",
      "changed the median value\n",
      "changed the mean value\n",
      "changed the max value\n",
      "soma_index = 0\n",
      "3) Finished: Generating Graph Structure and Identifying Soma: 0.007812023162841797\n",
      "Not finding the apical because soma_only option selected\n",
      "6) Staring: Classifying Entire Neuron\n",
      "Total Labels found = {'unsure', 'soma'}\n",
      "6) Finished: Classifying Entire Neuron: 4.982948303222656e-05\n",
      "7) Staring: Transfering Segmentation Labels to Face Labels\n",
      "7) Finished: Transfering Segmentation Labels to Face Labels: 0.019594669342041016\n",
      "8) Staring: Generating final Vertex and Face Labels\n",
      "8) Finished: Generating final Vertex and Face Labels: 0.10797858238220215\n",
      "Returning the soma_sdf value AND the classifier\n",
      "soma_sdf_value = 0.8495395\n",
      "segmentation[sorted_medians],median_values[sorted_medians] = (array([ 0, 10,  8,  3, 16,  5,  2, 14,  4, 12,  6, 13,  1,  9, 11, 15,  7,\n",
      "       18, 17]), array([0.8495395 , 0.0943122 , 0.0907267 , 0.0823634 , 0.08032995,\n",
      "       0.0788029 , 0.0674214 , 0.05290935, 0.0388852 , 0.0381512 ,\n",
      "       0.03772535, 0.037393  , 0.0372398 , 0.03565955, 0.0331646 ,\n",
      "       0.03183705, 0.026627  , 0.02252235, 0.0153906 ]))\n",
      "Sizes = [4914, 1100, 93, 2659, 3686, 847, 523, 658, 1420, 255, 1082, 345, 1069, 206, 1395, 2132, 99, 298, 215]\n",
      "valid_soma_segments_width\n",
      "      ------ Found 1 viable somas: [0]\n",
      "Using Poisson Surface Reconstruction for watertightness in soma_volume_ratio\n",
      "xvfb-run -n 4098 -s \"-screen 0 800x600x24\" meshlabserver $@  -i /notebooks/Platinum_Decomp_Fusion/Poisson_temp/neuron_541868.off -o /notebooks/Platinum_Decomp_Fusion/Poisson_temp/neuron_541868_poisson.off -s /notebooks/Platinum_Decomp_Fusion/Poisson_temp/poisson_969377.mls\n",
      "removed temporary input file: /notebooks/Platinum_Decomp_Fusion/Poisson_temp/neuron_541868.off\n",
      "removed temporary output file: /notebooks/Platinum_Decomp_Fusion/Poisson_temp/neuron_541868_poisson.off\n",
      "mesh.is_watertight = True\n",
      "/notebooks/Platinum_Decomp_Fusion/Poisson_temp/poisson_969377.mls is being deleted....\n",
      "Inside sphere validater: ratio_val = 2.8547571675858885\n",
      "\n",
      "\n",
      "\n",
      " Total time for run = 122.36254119873047\n",
      "Before Filtering the number of somas found = 1\n",
      "Performing Soma Mesh Backtracking to original mesh\n",
      "# total split meshes = 15\n",
      "viable_meshes = [0]\n",
      "There were 14 pieces found after size threshold\n",
      "# of soma containing seperate meshes = 1\n",
      "meshes with somas = {0: [0]}\n",
      "\n",
      "\n",
      "----Working on soma-containing mesh piece 0----\n",
      "current_soma_mesh_list = [<trimesh.Trimesh(vertices.shape=(2483, 3), faces.shape=(4914, 3))>]\n",
      "current_mesh = <trimesh.Trimesh(vertices.shape=(200530, 3), faces.shape=(397696, 3))>\n",
      "\n",
      "inside Soma subtraction\n",
      "mesh pieces in subtact soma BEFORE the filtering inside pieces = [<trimesh.Trimesh(vertices.shape=(128311, 3), faces.shape=(254295, 3))>, <trimesh.Trimesh(vertices.shape=(31201, 3), faces.shape=(61942, 3))>, <trimesh.Trimesh(vertices.shape=(18779, 3), faces.shape=(37059, 3))>, <trimesh.Trimesh(vertices.shape=(8818, 3), faces.shape=(17553, 3))>, <trimesh.Trimesh(vertices.shape=(8769, 3), faces.shape=(17448, 3))>]\n",
      "There were 5 pieces found after size threshold\n",
      "mesh pieces in subtact soma AFTER the filtering inside pieces = [<trimesh.Trimesh(vertices.shape=(128311, 3), faces.shape=(254295, 3))>, <trimesh.Trimesh(vertices.shape=(31201, 3), faces.shape=(61942, 3))>, <trimesh.Trimesh(vertices.shape=(18779, 3), faces.shape=(37059, 3))>, <trimesh.Trimesh(vertices.shape=(8818, 3), faces.shape=(17553, 3))>, <trimesh.Trimesh(vertices.shape=(8769, 3), faces.shape=(17448, 3))>]\n",
      "Total Time for soma mesh cancellation = 1.039\n",
      "mesh_pieces_without_soma = [<trimesh.Trimesh(vertices.shape=(128311, 3), faces.shape=(254295, 3))>, <trimesh.Trimesh(vertices.shape=(31201, 3), faces.shape=(61942, 3))>, <trimesh.Trimesh(vertices.shape=(18779, 3), faces.shape=(37059, 3))>, <trimesh.Trimesh(vertices.shape=(8818, 3), faces.shape=(17553, 3))>, <trimesh.Trimesh(vertices.shape=(8769, 3), faces.shape=(17448, 3))>]\n",
      "Total time for Subtract Soam = 1.040518045425415\n",
      "Total time for Original_mesh_faces_map for mesh_pieces without soma= 0.4187438488006592\n",
      "poisson_backtrack_distance_threshold = None\n",
      "Using Poisson Surface Reconstruction for watertightness in soma_volume_ratio\n",
      "xvfb-run -n 8415 -s \"-screen 0 800x600x24\" meshlabserver $@  -i /notebooks/Platinum_Decomp_Fusion/Poisson_temp/neuron_113895.off -o /notebooks/Platinum_Decomp_Fusion/Poisson_temp/neuron_113895_poisson.off -s /notebooks/Platinum_Decomp_Fusion/Poisson_temp/poisson_878821.mls\n",
      "removed temporary input file: /notebooks/Platinum_Decomp_Fusion/Poisson_temp/neuron_113895.off\n",
      "removed temporary output file: /notebooks/Platinum_Decomp_Fusion/Poisson_temp/neuron_113895_poisson.off\n",
      "mesh.is_watertight = True\n",
      "/notebooks/Platinum_Decomp_Fusion/Poisson_temp/poisson_878821.mls is being deleted....\n",
      "Inside sphere validater: ratio_val = 3.238759526761903\n"
     ]
    }
   ],
   "source": [
    "import soma_extraction_utils as sm\n",
    "somas = sm.extract_soma_center(segment_id,\n",
    "                             current_neuron_mesh.vertices,\n",
    "                             current_neuron_mesh.faces)"
   ]
  },
  {
   "cell_type": "code",
   "execution_count": 7,
   "metadata": {},
   "outputs": [
    {
     "name": "stdout",
     "output_type": "stream",
     "text": [
      "--- 0) Having to preprocess the Neuron becuase no preprocessed data\n",
      "Please wait this could take a while.....\n",
      "Skipping the hole filling\n",
      "use_meshafterparty = True\n",
      "Using pre-computed somas: soma_mesh_list = [<trimesh.Trimesh(vertices.shape=(4771, 3), faces.shape=(9399, 3))>]\n",
      "Soma List = [<trimesh.Trimesh(vertices.shape=(4771, 3), faces.shape=(9399, 3))>]\n",
      "soma_mesh_list_centers = [array([1469656.78851394,  484591.74915112,  927157.74544121])]\n",
      "# total split meshes = 41\n",
      "There were 40 pieces found after size threshold\n",
      "# of soma containing seperate meshes = 1\n",
      "meshes with somas = {0: [0]}\n",
      "\n",
      "\n",
      "----Working on soma-containing mesh piece 0----\n",
      "\n",
      "inside Soma subtraction\n",
      "mesh pieces in subtact soma BEFORE the filtering inside pieces = [<trimesh.Trimesh(vertices.shape=(480604, 3), faces.shape=(958848, 3))>, <trimesh.Trimesh(vertices.shape=(144633, 3), faces.shape=(288765, 3))>, <trimesh.Trimesh(vertices.shape=(73281, 3), faces.shape=(146045, 3))>, <trimesh.Trimesh(vertices.shape=(40336, 3), faces.shape=(80573, 3))>, <trimesh.Trimesh(vertices.shape=(40206, 3), faces.shape=(80301, 3))>]\n",
      "There were 5 pieces found after size threshold\n",
      "mesh pieces in subtact soma AFTER the filtering inside pieces = [<trimesh.Trimesh(vertices.shape=(480604, 3), faces.shape=(958848, 3))>, <trimesh.Trimesh(vertices.shape=(144633, 3), faces.shape=(288765, 3))>, <trimesh.Trimesh(vertices.shape=(73281, 3), faces.shape=(146045, 3))>, <trimesh.Trimesh(vertices.shape=(40336, 3), faces.shape=(80573, 3))>, <trimesh.Trimesh(vertices.shape=(40206, 3), faces.shape=(80301, 3))>]\n",
      "Total Time for soma mesh cancellation = 3.349\n",
      "Total time for Subtract Soam = 3.3499739170074463\n",
      "Total time for Original_mesh_faces_map for mesh_pieces without soma= 1.5108003616333008\n",
      "Total time for Original_mesh_faces_map for somas= 1.2179808616638184\n",
      "Total time for sig_non_soma_pieces= 2.1502363681793213\n",
      "Total time for split= 0.03467726707458496\n",
      "Total time for mesh_pieces_connectivity= 16.786611557006836\n",
      "# of insignificant_limbs = 0 with trimesh : []\n",
      "\n",
      "\n",
      "----- Working on Proper Limb # 0 ---------\n",
      "meshparty_segment_size = 100\n",
      "Time for preparing soma vertices and root: 5.4836273193359375e-06\n",
      "cc_vertex_thresh = 10\n"
     ]
    },
    {
     "name": "stderr",
     "output_type": "stream",
     "text": [
      "\r",
      "  0%|          | 0/1 [00:00<?, ?it/s]"
     ]
    },
    {
     "data": {
      "application/vnd.jupyter.widget-view+json": {
       "model_id": "c51bc4802efc4b53a19f3d3d0b63f6e7",
       "version_major": 2,
       "version_minor": 0
      },
      "text/plain": [
       "HBox(children=(FloatProgress(value=0.0, max=480603.0), HTML(value='')))"
      ]
     },
     "metadata": {},
     "output_type": "display_data"
    },
    {
     "name": "stderr",
     "output_type": "stream",
     "text": [
      "100%|██████████| 1/1 [01:54<00:00, 114.79s/it]"
     ]
    },
    {
     "name": "stdout",
     "output_type": "stream",
     "text": [
      "\n"
     ]
    },
    {
     "name": "stderr",
     "output_type": "stream",
     "text": [
      "\n"
     ]
    },
    {
     "name": "stdout",
     "output_type": "stream",
     "text": [
      "Time for 1st pass MP skeletonization: 120.29068112373352\n",
      "connecting at the root\n",
      "branches_touching_root = [529]\n",
      "length of Graph = 103872\n",
      "Working on path [5370. 5373. 5377. 5376. 5375.]\n",
      "path_degrees = [3, 2, 2, 2, 3]\n",
      "Working on path [8571. 8572. 8578. 8580. 8581. 8582.]\n",
      "path_degrees = [3, 2, 2, 2, 2, 3]\n",
      "Working on path [23757. 23821. 23875. 23931. 23983. 24046. 24107. 24117.]\n",
      "path_degrees = [3, 2, 2, 2, 2, 2, 2, 3]\n",
      "Working on path [24430. 24491. 24541. 24594. 24626.]\n",
      "path_degrees = [3, 2, 2, 2, 3]\n",
      "Working on path [25360. 25361. 25362. 25365. 25367.]\n",
      "path_degrees = [3, 2, 2, 2, 3]\n",
      "Working on path [28735. 28729. 28728. 28734. 28755. 28777. 28799. 28836. 28837.]\n",
      "path_degrees = [3, 2, 2, 2, 2, 2, 2, 2, 3]\n",
      "Working on path [30378. 30420. 30461. 30500. 30529. 30543.]\n",
      "path_degrees = [3, 2, 2, 2, 2, 3]\n",
      "Working on path [35346. 35372. 35395.]\n",
      "path_degrees = [3, 2, 3]\n",
      "Working on path [36836. 36858. 36885. 36901. 36919. 36947. 36978. 36998.]\n",
      "path_degrees = [3, 2, 2, 2, 2, 2, 2, 3]\n",
      "Working on path [39239. 39307. 39387. 39462.]\n",
      "path_degrees = [3, 2, 2, 3]\n",
      "Working on path [41674. 41712. 41749. 41781. 41811. 41826.]\n",
      "path_degrees = [3, 2, 2, 2, 2, 3]\n",
      "Working on path [103882.  41864.  41897.  41940.  41977.  42027.]\n",
      "path_degrees = [4, 2, 2, 2, 2, 3]\n",
      "Working on path [46709. 46784. 46859. 46902.]\n",
      "path_degrees = [3, 2, 2, 3]\n",
      "Working on path [67586. 67634. 67688. 67737. 67777. 67822. 67824.]\n",
      "path_degrees = [3, 2, 2, 2, 2, 2, 3]\n",
      "Working on path [84386. 84445. 84513.]\n",
      "path_degrees = [3, 2, 3]\n",
      "Working on path [92755. 92759. 92763. 92768. 92770.]\n",
      "path_degrees = [3, 2, 2, 2, 3]\n",
      "Working on path [93098. 93130. 93160. 93202. 93244.]\n",
      "path_degrees = [3, 2, 2, 2, 3]\n",
      "Working on path [103888.  93260.  93284.  93306.  93325.  93348.  93355.]\n",
      "path_degrees = [4, 2, 2, 2, 2, 2, 3]\n",
      "Working on path [93514. 93537. 93574. 93607. 93645. 93658.]\n",
      "path_degrees = [3, 2, 2, 2, 2, 3]\n",
      "Working on path [93886. 93964. 94015. 94074. 94110. 94126.]\n",
      "path_degrees = [3, 2, 2, 2, 2, 3]\n",
      "Working on path [102414. 102425. 102437.]\n",
      "path_degrees = [3, 2, 3]\n",
      "max(kept_branches_idx) = 529, len(kept_branches_idx) = 509\n",
      "empty_indices % = 0.0\n",
      " conflict_indices % = 0.012631407638308592\n"
     ]
    },
    {
     "data": {
      "application/vnd.jupyter.widget-view+json": {
       "model_id": "a222bdf9ff4446e7b1fc5f8d8fdd937a",
       "version_major": 2,
       "version_minor": 0
      },
      "text/plain": [
       "HBox(children=(FloatProgress(value=0.0, max=258.0), HTML(value='')))"
      ]
     },
     "metadata": {},
     "output_type": "display_data"
    },
    {
     "name": "stdout",
     "output_type": "stream",
     "text": [
      "\n",
      "AFTER face_lookup_resolved_test\n"
     ]
    },
    {
     "data": {
      "application/vnd.jupyter.widget-view+json": {
       "model_id": "1b0c54ef3d2b46ce9d96ff31cada3004",
       "version_major": 2,
       "version_minor": 0
      },
      "text/plain": [
       "HBox(children=(FloatProgress(value=0.0, max=509.0), HTML(value='')))"
      ]
     },
     "metadata": {},
     "output_type": "display_data"
    },
    {
     "name": "stdout",
     "output_type": "stream",
     "text": [
      "\n",
      "Decomposing first pass: 105.7368438243866\n",
      "Attempting to use MeshAfterParty Skeletonization and Mesh Correspondence\n",
      "Another print\n",
      "Found len(mesh_large_idx) MAP candidates: [246, 341, 36, 15027, 4505, 5262, 10149, 3411, 16459, 6927, 10833, 108, 2141, 4443]\n",
      "mesh_large_connectivity: 0.8062829971313477\n",
      "Finding MAP candidates connected components: 0.0002307891845703125\n",
      "len(filtered_pieces) = 3\n",
      "skeleton_connectivity_MP : 3.7913646697998047\n",
      "Grouping MP Sublimbs by Graph: 0.7807579040527344\n",
      "Divinding into MP and MAP pieces: 1.1920928955078125e-06\n",
      "--- Working on MAP piece 0---\n",
      "MAP Filtering Soma Pieces: 0.004773139953613281\n",
      "inside skeletonize_connected_branch and use_surface_after_CGAL=False, surface_reconstruction_size=1000\n",
      "     Starting Screened Poisson\n",
      "xvfb-run -n 9184 -s \"-screen 0 800x600x24\" meshlabserver $@  -i /notebooks/Platinum_Decomp_Fusion/temp/None.off -o /notebooks/Platinum_Decomp_Fusion/temp/None_poisson.off -s /notebooks/Platinum_Decomp_Fusion/temp/poisson_758444.mls\n",
      "removed temporary input file: /notebooks/Platinum_Decomp_Fusion/temp/None.off\n",
      "removed temporary output file: /notebooks/Platinum_Decomp_Fusion/temp/None_poisson.off\n",
      "Using the close holes feature\n",
      "xvfb-run -n 3563 -s \"-screen 0 800x600x24\" meshlabserver $@  -i /notebooks/Platinum_Decomp_Fusion/temp/neuron_78877.off -o /notebooks/Platinum_Decomp_Fusion/temp/neuron_78877_fill_holes.off -s /notebooks/Platinum_Decomp_Fusion/temp/fill_holes_857803.mls\n",
      "removed temporary input file: /notebooks/Platinum_Decomp_Fusion/temp/neuron_78877.off\n",
      "removed temporary output file: /notebooks/Platinum_Decomp_Fusion/temp/neuron_78877_fill_holes.off\n",
      "-----Time for Screened Poisson= 17.324549436569214\n",
      "     Starting Calcification\n",
      "node_degrees = [3 2 2 3 2]\n"
     ]
    },
    {
     "data": {
      "application/vnd.jupyter.widget-view+json": {
       "model_id": "b69d3468ccd0428b8efb4531ce07a54e",
       "version_major": 2,
       "version_minor": 0
      },
      "text/plain": [
       "HBox(children=(FloatProgress(value=1.0, bar_style='info', max=1.0), HTML(value='')))"
      ]
     },
     "metadata": {},
     "output_type": "display_data"
    },
    {
     "name": "stdout",
     "output_type": "stream",
     "text": [
      "\n",
      "No skeletons to stack so returning empty list\n",
      "len_subgraphs AT BEGINNING of the loop\n"
     ]
    },
    {
     "data": {
      "application/vnd.jupyter.widget-view+json": {
       "model_id": "d77b6a3ea91a437da76ea6f0d7bbc967",
       "version_major": 2,
       "version_minor": 0
      },
      "text/plain": [
       "HBox(children=(FloatProgress(value=0.0, max=1.0), HTML(value='')))"
      ]
     },
     "metadata": {},
     "output_type": "display_data"
    },
    {
     "name": "stdout",
     "output_type": "stream",
     "text": [
      "all graph is one component!\n",
      "\n",
      "Total time for skeleton stitching = 0.03592205047607422\n",
      "The process was using a temp folder\n",
      "Checking connected components after skeletonize_connected_branch\n",
      "    Total time for skeletonizing branch: 22.513160228729248\n",
      "Checking connected components after removing cycles\n",
      "Total time for mesh KDTree = 0.3644719123840332\n",
      "sbv[0].reshape(-1,3) = [[1470710.   475108.2  927749.2]]\n",
      "closest_sk_pt_coord BEFORE = [1470640.  474101.  927955.]\n",
      "current_skeleton.shape = (514, 2, 3)\n",
      "Current stitch point was not a branch or endpoint, shortest_path_length to one = 886.6287180998554\n",
      "Changing the stitch point becasue the distance to end or branch node was 886.6287180998554\n",
      "New stitch point has degree 1\n",
      "change_status for create soma extending pieces = True\n",
      "closest_sk_pt_coord AFTER = [1471260.  474148.  927345.]\n",
      "skipping soma 0 because closest skeleton node was already end node\n",
      "endpoints_must_keep = {0: array([[1471260.,  474148.,  927345.]])}\n",
      "    Total time for Fixing Skeleton Soma Endpoint Extension : 0.5521023273468018\n",
      "filter_end_node_length = 4001\n",
      "Using Distance measure skeletal_distance\n",
      "endpoints_must_keep = [[1471260.  474148.  927345.]]\n",
      "Number of end_nodes BEFORE filtering = 29\n",
      "all_single_nodes_to_eliminate = [25]\n"
     ]
    },
    {
     "data": {
      "application/vnd.jupyter.widget-view+json": {
       "model_id": "b4e04d458b594a168642bfed08a37458",
       "version_major": 2,
       "version_minor": 0
      },
      "text/plain": [
       "HBox(children=(FloatProgress(value=0.0, max=27.0), HTML(value='')))"
      ]
     },
     "metadata": {},
     "output_type": "display_data"
    },
    {
     "name": "stdout",
     "output_type": "stream",
     "text": [
      "\n",
      "Checking connected components after clean_skeleton\n",
      "after DISTANCE cleaning limb size of skeleton = (466, 2, 3)\n",
      "********COMBINING CLOSE SKELETON NODES WITHIN 700 DISTANCE**********\n",
      "Found 0 valid paths to replace\n",
      "valid_paths = []\n",
      "valid_path_lengths = []\n",
      "No valid paths found so just returning the original\n",
      "skeletonize_and_clean_connected_branch_CGAL: 23.504544019699097\n",
      "Working on limb correspondence for #0 MAP piece\n"
     ]
    },
    {
     "data": {
      "application/vnd.jupyter.widget-view+json": {
       "model_id": "61af97e837514e49b9dd3bb15dfac288",
       "version_major": 2,
       "version_minor": 0
      },
      "text/plain": [
       "HBox(children=(FloatProgress(value=1.0, bar_style='info', max=1.0), HTML(value='')))"
      ]
     },
     "metadata": {},
     "output_type": "display_data"
    },
    {
     "name": "stdout",
     "output_type": "stream",
     "text": [
      "\n",
      "Total time for decomposition = 5.15366005897522\n",
      "mesh_correspondence_first_pass: 5.1536877155303955\n",
      "Limb decomposed into 5 branches\n",
      "divided_skeleton_graph_recovered = (466, 2, 3) and \n",
      "current_mesh_data[0]['branch_skeletons_cleaned'].shape = (466, 2, 3)\n",
      "\n",
      "Number of connected components in deocmposed recovered graph = 1\n",
      "Number of connected components in cleaned skeleton graph= 1\n",
      "The downsampled branches number of connected components = 1\n",
      "Empty submeshes = []\n",
      "\n",
      "\n",
      "--- Working on 1-to-1 correspondence-----\n",
      "max(original_labels),len(original_labels) = (4, 5)\n",
      "empty_indices % = 0.03537942901288759\n",
      " conflict_indices % = 0.01490676686448713\n"
     ]
    },
    {
     "data": {
      "application/vnd.jupyter.widget-view+json": {
       "model_id": "28ee2b9652554778a35145292e951f37",
       "version_major": 2,
       "version_minor": 0
      },
      "text/plain": [
       "HBox(children=(FloatProgress(value=0.0, max=18.0), HTML(value='')))"
      ]
     },
     "metadata": {},
     "output_type": "display_data"
    },
    {
     "name": "stdout",
     "output_type": "stream",
     "text": [
      "\n",
      "AFTER face_lookup_resolved_test\n",
      "Took 0 iterations to expand the label back\n"
     ]
    },
    {
     "data": {
      "application/vnd.jupyter.widget-view+json": {
       "model_id": "a64eaf71b378443f9d52cda40835bcbd",
       "version_major": 2,
       "version_minor": 0
      },
      "text/plain": [
       "HBox(children=(FloatProgress(value=0.0, max=5.0), HTML(value='')))"
      ]
     },
     "metadata": {},
     "output_type": "display_data"
    },
    {
     "name": "stdout",
     "output_type": "stream",
     "text": [
      "\n",
      "Total time for MAP sublimb #0 mesh processing = 30.60052251815796\n",
      "correspondence_1_to_1: 1.937633991241455\n",
      "--- Working on MAP piece 1---\n",
      "MAP Filtering Soma Pieces: 0.00509333610534668\n",
      "inside skeletonize_connected_branch and use_surface_after_CGAL=False, surface_reconstruction_size=1000\n",
      "     Starting Screened Poisson\n",
      "xvfb-run -n 5120 -s \"-screen 0 800x600x24\" meshlabserver $@  -i /notebooks/Platinum_Decomp_Fusion/temp/None.off -o /notebooks/Platinum_Decomp_Fusion/temp/None_poisson.off -s /notebooks/Platinum_Decomp_Fusion/temp/poisson_28252.mls\n",
      "removed temporary input file: /notebooks/Platinum_Decomp_Fusion/temp/None.off\n",
      "removed temporary output file: /notebooks/Platinum_Decomp_Fusion/temp/None_poisson.off\n",
      "Using the close holes feature\n",
      "xvfb-run -n 4729 -s \"-screen 0 800x600x24\" meshlabserver $@  -i /notebooks/Platinum_Decomp_Fusion/temp/neuron_79197.off -o /notebooks/Platinum_Decomp_Fusion/temp/neuron_79197_fill_holes.off -s /notebooks/Platinum_Decomp_Fusion/temp/fill_holes_566608.mls\n",
      "removed temporary input file: /notebooks/Platinum_Decomp_Fusion/temp/neuron_79197.off\n",
      "removed temporary output file: /notebooks/Platinum_Decomp_Fusion/temp/neuron_79197_fill_holes.off\n",
      "-----Time for Screened Poisson= 7.065601825714111\n",
      "     Starting Calcification\n"
     ]
    },
    {
     "data": {
      "application/vnd.jupyter.widget-view+json": {
       "model_id": "eeffbb7d01d3442f911fadc3be6dba32",
       "version_major": 2,
       "version_minor": 0
      },
      "text/plain": [
       "HBox(children=(FloatProgress(value=1.0, bar_style='info', max=1.0), HTML(value='')))"
      ]
     },
     "metadata": {},
     "output_type": "display_data"
    },
    {
     "name": "stdout",
     "output_type": "stream",
     "text": [
      "\n",
      "No skeletons to stack so returning empty list\n",
      "len_subgraphs AT BEGINNING of the loop\n"
     ]
    },
    {
     "data": {
      "application/vnd.jupyter.widget-view+json": {
       "model_id": "5d8b3f52c30647f3a3a20a2953a61efc",
       "version_major": 2,
       "version_minor": 0
      },
      "text/plain": [
       "HBox(children=(FloatProgress(value=0.0, max=1.0), HTML(value='')))"
      ]
     },
     "metadata": {},
     "output_type": "display_data"
    },
    {
     "name": "stdout",
     "output_type": "stream",
     "text": [
      "all graph is one component!\n",
      "\n",
      "Total time for skeleton stitching = 0.024287939071655273\n",
      "The process was using a temp folder\n",
      "Checking connected components after skeletonize_connected_branch\n",
      "    Total time for skeletonizing branch: 7.882939577102661\n",
      "Checking connected components after removing cycles\n",
      "Total time for mesh KDTree = 0.09548377990722656\n",
      "sbv[0].reshape(-1,3) = [[1465068.   479080.5  925671.4]]\n",
      "closest_sk_pt_coord BEFORE = [1463360.  478674.  925166.]\n",
      "current_skeleton.shape = (122, 2, 3)\n",
      "Current stitch point was a branch or endpoint\n",
      "change_status for create soma extending pieces = False\n",
      "closest_sk_pt_coord AFTER = [1463360.  478674.  925166.]\n",
      "skipping soma 0 because closest skeleton node was already end node\n",
      "endpoints_must_keep = {0: array([[1463360.,  478674.,  925166.]])}\n",
      "    Total time for Fixing Skeleton Soma Endpoint Extension : 0.14298248291015625\n",
      "filter_end_node_length = 4001\n",
      "Using Distance measure skeletal_distance\n",
      "endpoints_must_keep = [[1463360.  478674.  925166.]]\n",
      "Number of end_nodes BEFORE filtering = 9\n",
      "all_single_nodes_to_eliminate = [8]\n"
     ]
    },
    {
     "data": {
      "application/vnd.jupyter.widget-view+json": {
       "model_id": "901e9477420a4e2894383891eafddd3f",
       "version_major": 2,
       "version_minor": 0
      },
      "text/plain": [
       "HBox(children=(FloatProgress(value=0.0, max=8.0), HTML(value='')))"
      ]
     },
     "metadata": {},
     "output_type": "display_data"
    },
    {
     "name": "stdout",
     "output_type": "stream",
     "text": [
      "\n",
      "Checking connected components after clean_skeleton\n",
      "after DISTANCE cleaning limb size of skeleton = (112, 2, 3)\n",
      "********COMBINING CLOSE SKELETON NODES WITHIN 700 DISTANCE**********\n",
      "Found 0 valid paths to replace\n",
      "valid_paths = []\n",
      "valid_path_lengths = []\n",
      "No valid paths found so just returning the original\n",
      "skeletonize_and_clean_connected_branch_CGAL: 8.12543773651123\n",
      "Working on limb correspondence for #1 MAP piece\n"
     ]
    },
    {
     "data": {
      "application/vnd.jupyter.widget-view+json": {
       "model_id": "674eb22b7b9148bca22d6ef76ce0b6d6",
       "version_major": 2,
       "version_minor": 0
      },
      "text/plain": [
       "HBox(children=(FloatProgress(value=1.0, bar_style='info', max=1.0), HTML(value='')))"
      ]
     },
     "metadata": {},
     "output_type": "display_data"
    },
    {
     "name": "stdout",
     "output_type": "stream",
     "text": [
      "\n",
      "Total time for decomposition = 0.7527410984039307\n",
      "mesh_correspondence_first_pass: 0.7527711391448975\n",
      "Limb decomposed into 1 branches\n",
      "divided_skeleton_graph_recovered = (112, 2, 3) and \n",
      "current_mesh_data[0]['branch_skeletons_cleaned'].shape = (112, 2, 3)\n",
      "\n",
      "Number of connected components in deocmposed recovered graph = 1\n",
      "Number of connected components in cleaned skeleton graph= 1\n",
      "The downsampled branches number of connected components = 1\n",
      "Empty submeshes = []\n",
      "\n",
      "\n",
      "--- Working on 1-to-1 correspondence-----\n",
      "max(original_labels),len(original_labels) = (0, 1)\n",
      "empty_indices % = 0.08891820580474934\n",
      " conflict_indices % = 0.0\n"
     ]
    },
    {
     "data": {
      "application/vnd.jupyter.widget-view+json": {
       "model_id": "2dd2e0c59b7c48c19b4ac83b61a9f193",
       "version_major": 2,
       "version_minor": 0
      },
      "text/plain": [
       "HBox(children=(FloatProgress(value=0.0, max=6.0), HTML(value='')))"
      ]
     },
     "metadata": {},
     "output_type": "display_data"
    },
    {
     "name": "stdout",
     "output_type": "stream",
     "text": [
      "\n",
      "AFTER face_lookup_resolved_test\n",
      "Took 0 iterations to expand the label back\n"
     ]
    },
    {
     "data": {
      "application/vnd.jupyter.widget-view+json": {
       "model_id": "16bd7cb68c374607831db34de7b65bbe",
       "version_major": 2,
       "version_minor": 0
      },
      "text/plain": [
       "HBox(children=(FloatProgress(value=0.0, max=1.0), HTML(value='')))"
      ]
     },
     "metadata": {},
     "output_type": "display_data"
    },
    {
     "name": "stdout",
     "output_type": "stream",
     "text": [
      "\n",
      "Total time for MAP sublimb #1 mesh processing = 9.997983694076538\n",
      "correspondence_1_to_1: 1.114621877670288\n",
      "--- Working on MAP piece 2---\n",
      "MAP Filtering Soma Pieces: 0.0060918331146240234\n",
      "inside skeletonize_connected_branch and use_surface_after_CGAL=False, surface_reconstruction_size=1000\n",
      "     Starting Screened Poisson\n",
      "xvfb-run -n 5723 -s \"-screen 0 800x600x24\" meshlabserver $@  -i /notebooks/Platinum_Decomp_Fusion/temp/None.off -o /notebooks/Platinum_Decomp_Fusion/temp/None_poisson.off -s /notebooks/Platinum_Decomp_Fusion/temp/poisson_443273.mls\n",
      "removed temporary input file: /notebooks/Platinum_Decomp_Fusion/temp/None.off\n",
      "removed temporary output file: /notebooks/Platinum_Decomp_Fusion/temp/None_poisson.off\n",
      "Using the close holes feature\n",
      "xvfb-run -n 980 -s \"-screen 0 800x600x24\" meshlabserver $@  -i /notebooks/Platinum_Decomp_Fusion/temp/neuron_9325.off -o /notebooks/Platinum_Decomp_Fusion/temp/neuron_9325_fill_holes.off -s /notebooks/Platinum_Decomp_Fusion/temp/fill_holes_646400.mls\n",
      "removed temporary input file: /notebooks/Platinum_Decomp_Fusion/temp/neuron_9325.off\n",
      "removed temporary output file: /notebooks/Platinum_Decomp_Fusion/temp/neuron_9325_fill_holes.off\n",
      "-----Time for Screened Poisson= 6.836581230163574\n",
      "     Starting Calcification\n"
     ]
    },
    {
     "data": {
      "application/vnd.jupyter.widget-view+json": {
       "model_id": "8bd830c3419448d38ddbf9446b91f129",
       "version_major": 2,
       "version_minor": 0
      },
      "text/plain": [
       "HBox(children=(FloatProgress(value=1.0, bar_style='info', max=1.0), HTML(value='')))"
      ]
     },
     "metadata": {},
     "output_type": "display_data"
    },
    {
     "name": "stdout",
     "output_type": "stream",
     "text": [
      "\n",
      "No skeletons to stack so returning empty list\n",
      "len_subgraphs AT BEGINNING of the loop\n"
     ]
    },
    {
     "data": {
      "application/vnd.jupyter.widget-view+json": {
       "model_id": "dc70aa62d2884cf38aa2d7827fc11b68",
       "version_major": 2,
       "version_minor": 0
      },
      "text/plain": [
       "HBox(children=(FloatProgress(value=0.0, max=1.0), HTML(value='')))"
      ]
     },
     "metadata": {},
     "output_type": "display_data"
    },
    {
     "name": "stdout",
     "output_type": "stream",
     "text": [
      "all graph is one component!\n",
      "\n",
      "Total time for skeleton stitching = 0.023661375045776367\n",
      "The process was using a temp folder\n",
      "Checking connected components after skeletonize_connected_branch\n",
      "    Total time for skeletonizing branch: 7.632359504699707\n",
      "Checking connected components after removing cycles\n",
      "    Total time for Fixing Skeleton Soma Endpoint Extension : 0.004553079605102539\n",
      "filter_end_node_length = 4001\n",
      "Using Distance measure skeletal_distance\n"
     ]
    },
    {
     "data": {
      "application/vnd.jupyter.widget-view+json": {
       "model_id": "5c1f6ce8ddd34552896b7f3bd1667b09",
       "version_major": 2,
       "version_minor": 0
      },
      "text/plain": [
       "HBox(children=(FloatProgress(value=0.0, max=10.0), HTML(value='')))"
      ]
     },
     "metadata": {},
     "output_type": "display_data"
    },
    {
     "name": "stdout",
     "output_type": "stream",
     "text": [
      "\n",
      "Checking connected components after clean_skeleton\n",
      "after DISTANCE cleaning limb size of skeleton = (83, 2, 3)\n",
      "********COMBINING CLOSE SKELETON NODES WITHIN 700 DISTANCE**********\n",
      "Found 0 valid paths to replace\n",
      "valid_paths = []\n",
      "valid_path_lengths = []\n",
      "No valid paths found so just returning the original\n",
      "Inside MAP decomposition and curr_limb_endpoints_must_keep was None\n",
      "skeletonize_and_clean_connected_branch_CGAL: 7.723936557769775\n",
      "Working on limb correspondence for #2 MAP piece\n"
     ]
    },
    {
     "data": {
      "application/vnd.jupyter.widget-view+json": {
       "model_id": "cebb2870ed6545ddb2246526d661a500",
       "version_major": 2,
       "version_minor": 0
      },
      "text/plain": [
       "HBox(children=(FloatProgress(value=1.0, bar_style='info', max=1.0), HTML(value='')))"
      ]
     },
     "metadata": {},
     "output_type": "display_data"
    },
    {
     "name": "stdout",
     "output_type": "stream",
     "text": [
      "\n",
      "Total time for decomposition = 0.6646482944488525\n",
      "mesh_correspondence_first_pass: 0.6646764278411865\n",
      "Limb decomposed into 1 branches\n",
      "divided_skeleton_graph_recovered = (83, 2, 3) and \n",
      "current_mesh_data[0]['branch_skeletons_cleaned'].shape = (83, 2, 3)\n",
      "\n",
      "Number of connected components in deocmposed recovered graph = 1\n",
      "Number of connected components in cleaned skeleton graph= 1\n",
      "The downsampled branches number of connected components = 1\n",
      "Empty submeshes = []\n",
      "\n",
      "\n",
      "--- Working on 1-to-1 correspondence-----\n",
      "max(original_labels),len(original_labels) = (0, 1)\n",
      "empty_indices % = 0.1250807717160528\n",
      " conflict_indices % = 0.0\n"
     ]
    },
    {
     "data": {
      "application/vnd.jupyter.widget-view+json": {
       "model_id": "9f0d1205c9904ad9a52fbc584eaf9b78",
       "version_major": 2,
       "version_minor": 0
      },
      "text/plain": [
       "HBox(children=(FloatProgress(value=0.0, max=4.0), HTML(value='')))"
      ]
     },
     "metadata": {},
     "output_type": "display_data"
    },
    {
     "name": "stdout",
     "output_type": "stream",
     "text": [
      "\n",
      "AFTER face_lookup_resolved_test\n"
     ]
    },
    {
     "data": {
      "application/vnd.jupyter.widget-view+json": {
       "model_id": "4969a33e6ce2411dbab881500d3143ac",
       "version_major": 2,
       "version_minor": 0
      },
      "text/plain": [
       "HBox(children=(FloatProgress(value=0.0, max=1.0), HTML(value='')))"
      ]
     },
     "metadata": {},
     "output_type": "display_data"
    },
    {
     "name": "stdout",
     "output_type": "stream",
     "text": [
      "\n",
      "Total time for MAP sublimb #2 mesh processing = 8.575854539871216\n",
      "correspondence_1_to_1: 0.1811201572418213\n",
      "Total time for MAP sublimb processing 49.174771785736084\n",
      "---- Working on MP Decomposition #0 ----\n",
      "MP filtering soma verts: 0.04956817626953125\n",
      "Do Not Need to Fix MP Decomposition 0 so just continuing\n",
      "---- Working on MP Decomposition #1 ----\n",
      "MP filtering soma verts: 0.005548238754272461\n",
      "Do Not Need to Fix MP Decomposition 1 so just continuing\n",
      "---- Working on MP Decomposition #2 ----\n",
      "MP filtering soma verts: 0.0018951892852783203\n",
      "Do Not Need to Fix MP Decomposition 2 so just continuing\n",
      "---- Working on MP Decomposition #3 ----\n",
      "MP filtering soma verts: 0.0011746883392333984\n",
      "Do Not Need to Fix MP Decomposition 3 so just continuing\n",
      "---- Working on MP Decomposition #4 ----\n",
      "MP filtering soma verts: 0.00136566162109375\n",
      "Do Not Need to Fix MP Decomposition 4 so just continuing\n",
      "---- Working on MP Decomposition #5 ----\n",
      "MP filtering soma verts: 0.001256704330444336\n",
      "Do Not Need to Fix MP Decomposition 5 so just continuing\n",
      "\n",
      "---- Working on (0, 0) connection-----\n",
      "winning_vertex = [1470086.2803903   470470.30652893  930044.41090477]\n",
      "MP_branches_with_stitch_point = [137]\n",
      "Current stitch point was not a branch or endpoint, shortest_path_length to one = 5124.706000074309\n",
      "MAP_branches_with_stitch_point = [2]\n",
      "MAP_stitch_point_on_end_or_branch = False\n",
      "Using max stitch distance (300) for smoothing because stitch_distance greater (1011.8747177081642) \n",
      "Found winning edge: [191, 193.0]\n",
      "in remove edge\n"
     ]
    },
    {
     "data": {
      "application/vnd.jupyter.widget-view+json": {
       "model_id": "713fd4b4e095439f933a7721521be811",
       "version_major": 2,
       "version_minor": 0
      },
      "text/plain": [
       "HBox(children=(FloatProgress(value=1.0, bar_style='info', max=1.0), HTML(value='')))"
      ]
     },
     "metadata": {},
     "output_type": "display_data"
    },
    {
     "name": "stdout",
     "output_type": "stream",
     "text": [
      "\n",
      "\n",
      "\n",
      "--- Working on 1-to-1 correspondence-----\n",
      "max(original_labels),len(original_labels) = (2, 3)\n",
      "empty_indices % = 0.05842534539199911\n",
      " conflict_indices % = 0.00921045330965988\n"
     ]
    },
    {
     "data": {
      "application/vnd.jupyter.widget-view+json": {
       "model_id": "937eb730e1374fd0930cfb5dcaf0b5ed",
       "version_major": 2,
       "version_minor": 0
      },
      "text/plain": [
       "HBox(children=(FloatProgress(value=0.0, max=10.0), HTML(value='')))"
      ]
     },
     "metadata": {},
     "output_type": "display_data"
    },
    {
     "name": "stdout",
     "output_type": "stream",
     "text": [
      "\n",
      "AFTER face_lookup_resolved_test\n"
     ]
    },
    {
     "data": {
      "application/vnd.jupyter.widget-view+json": {
       "model_id": "4a08c27b3bdd4f8aa80f6d043a80a159",
       "version_major": 2,
       "version_minor": 0
      },
      "text/plain": [
       "HBox(children=(FloatProgress(value=0.0, max=3.0), HTML(value='')))"
      ]
     },
     "metadata": {},
     "output_type": "display_data"
    },
    {
     "name": "stdout",
     "output_type": "stream",
     "text": [
      "\n",
      "Deleting branches from dictionary\n",
      " Finished with (0, 0) \n",
      "\n",
      "\n",
      "\n",
      "\n",
      "---- Working on (1, 0) connection-----\n",
      "winning_vertex = [1453118.42521481  389078.65547221 1010047.56438751]\n",
      "MP_branches_with_stitch_point = [1, 2]\n",
      "Current stitch point was a branch or endpoint\n",
      "MAP_branches_with_stitch_point = [1]\n",
      "MAP_stitch_point_on_end_or_branch = True\n",
      "Using max stitch distance (300) for smoothing because stitch_distance greater (2126.076383903443) \n",
      "Found winning edge: [64, 65.0]\n",
      "in remove edge\n",
      "Using max stitch distance (300) for smoothing because stitch_distance greater (2207.948335651947) \n",
      "Found winning edge: [681, 682.0]\n",
      "in remove edge\n"
     ]
    },
    {
     "data": {
      "application/vnd.jupyter.widget-view+json": {
       "model_id": "ff201460de2c46949f25da87d858e18e",
       "version_major": 2,
       "version_minor": 0
      },
      "text/plain": [
       "HBox(children=(FloatProgress(value=1.0, bar_style='info', max=1.0), HTML(value='')))"
      ]
     },
     "metadata": {},
     "output_type": "display_data"
    },
    {
     "name": "stdout",
     "output_type": "stream",
     "text": [
      "\n",
      "\n",
      "\n",
      "--- Working on 1-to-1 correspondence-----\n",
      "max(original_labels),len(original_labels) = (2, 3)\n",
      "empty_indices % = 0.03074498759471602\n",
      " conflict_indices % = 0.026017568564339837\n"
     ]
    },
    {
     "data": {
      "application/vnd.jupyter.widget-view+json": {
       "model_id": "c077bcf029a04d57baa9d650227dd2d5",
       "version_major": 2,
       "version_minor": 0
      },
      "text/plain": [
       "HBox(children=(FloatProgress(value=0.0, max=10.0), HTML(value='')))"
      ]
     },
     "metadata": {},
     "output_type": "display_data"
    },
    {
     "name": "stdout",
     "output_type": "stream",
     "text": [
      "\n",
      "AFTER face_lookup_resolved_test\n"
     ]
    },
    {
     "data": {
      "application/vnd.jupyter.widget-view+json": {
       "model_id": "b3a26fc360de4139bb00c5dfb2ba4427",
       "version_major": 2,
       "version_minor": 0
      },
      "text/plain": [
       "HBox(children=(FloatProgress(value=0.0, max=3.0), HTML(value='')))"
      ]
     },
     "metadata": {},
     "output_type": "display_data"
    },
    {
     "name": "stdout",
     "output_type": "stream",
     "text": [
      "\n",
      " Finished with (1, 0) \n",
      "\n",
      "\n",
      "\n",
      "\n",
      "---- Working on (2, 0) connection-----\n",
      "winning_vertex = [1481234.73890453  412211.830384    979778.2408573 ]\n",
      "MP_branches_with_stitch_point = [0, 1]\n",
      "Current stitch point was a branch or endpoint\n",
      "MAP_branches_with_stitch_point = [4]\n",
      "MAP_stitch_point_on_end_or_branch = True\n",
      "Using max stitch distance (300) for smoothing because stitch_distance greater (1591.827624001346) \n",
      "Found winning edge: [778, 779.0]\n",
      "in remove edge\n",
      "Using max stitch distance (300) for smoothing because stitch_distance greater (1593.8587288385888) \n",
      "Found winning edge: [9, 10.0]\n",
      "in remove edge\n"
     ]
    },
    {
     "data": {
      "application/vnd.jupyter.widget-view+json": {
       "model_id": "137560a8875942f6845959e08aa44424",
       "version_major": 2,
       "version_minor": 0
      },
      "text/plain": [
       "HBox(children=(FloatProgress(value=1.0, bar_style='info', max=1.0), HTML(value='')))"
      ]
     },
     "metadata": {},
     "output_type": "display_data"
    },
    {
     "name": "stdout",
     "output_type": "stream",
     "text": [
      "\n",
      "\n",
      "\n",
      "--- Working on 1-to-1 correspondence-----\n",
      "max(original_labels),len(original_labels) = (2, 3)\n",
      "empty_indices % = 0.02034092536885833\n",
      " conflict_indices % = 0.0016115169746454662\n"
     ]
    },
    {
     "data": {
      "application/vnd.jupyter.widget-view+json": {
       "model_id": "98c472360e534582bcfc2dbd903d5546",
       "version_major": 2,
       "version_minor": 0
      },
      "text/plain": [
       "HBox(children=(FloatProgress(value=0.0, max=6.0), HTML(value='')))"
      ]
     },
     "metadata": {},
     "output_type": "display_data"
    },
    {
     "name": "stdout",
     "output_type": "stream",
     "text": [
      "\n",
      "AFTER face_lookup_resolved_test\n"
     ]
    },
    {
     "data": {
      "application/vnd.jupyter.widget-view+json": {
       "model_id": "d7b5a9dca7c5403f99f3fa7090f0b9eb",
       "version_major": 2,
       "version_minor": 0
      },
      "text/plain": [
       "HBox(children=(FloatProgress(value=0.0, max=3.0), HTML(value='')))"
      ]
     },
     "metadata": {},
     "output_type": "display_data"
    },
    {
     "name": "stdout",
     "output_type": "stream",
     "text": [
      "\n",
      " Finished with (2, 0) \n",
      "\n",
      "\n",
      "\n",
      "\n",
      "---- Working on (3, 0) connection-----\n",
      "winning_vertex = [1415304.22358214  454467.39424459  986979.09448039]\n",
      "MP_branches_with_stitch_point = [0, 2]\n",
      "Current stitch point was a branch or endpoint\n",
      "MAP_branches_with_stitch_point = [0]\n",
      "MAP_stitch_point_on_end_or_branch = True\n",
      "Using max stitch distance (300) for smoothing because stitch_distance greater (1349.4767054598733) \n",
      "Found winning edge: [160, 162.0]\n",
      "in remove edge\n",
      "Using max stitch distance (300) for smoothing because stitch_distance greater (1364.481814823849) \n",
      "Found winning edge: [146, 147.0]\n",
      "in remove edge\n"
     ]
    },
    {
     "data": {
      "application/vnd.jupyter.widget-view+json": {
       "model_id": "484738472a13473ba85452bc676b5170",
       "version_major": 2,
       "version_minor": 0
      },
      "text/plain": [
       "HBox(children=(FloatProgress(value=1.0, bar_style='info', max=1.0), HTML(value='')))"
      ]
     },
     "metadata": {},
     "output_type": "display_data"
    },
    {
     "name": "stdout",
     "output_type": "stream",
     "text": [
      "\n",
      "\n",
      "\n",
      "--- Working on 1-to-1 correspondence-----\n",
      "max(original_labels),len(original_labels) = (2, 3)\n",
      "empty_indices % = 0.011012231297492786\n",
      " conflict_indices % = 0.024300052826201797\n"
     ]
    },
    {
     "data": {
      "application/vnd.jupyter.widget-view+json": {
       "model_id": "ee23b2c090144ad8b9502c8704e28068",
       "version_major": 2,
       "version_minor": 0
      },
      "text/plain": [
       "HBox(children=(FloatProgress(value=0.0, max=3.0), HTML(value='')))"
      ]
     },
     "metadata": {},
     "output_type": "display_data"
    },
    {
     "name": "stdout",
     "output_type": "stream",
     "text": [
      "\n",
      "AFTER face_lookup_resolved_test\n"
     ]
    },
    {
     "data": {
      "application/vnd.jupyter.widget-view+json": {
       "model_id": "95278239c072479d923fe3720a1726ac",
       "version_major": 2,
       "version_minor": 0
      },
      "text/plain": [
       "HBox(children=(FloatProgress(value=0.0, max=3.0), HTML(value='')))"
      ]
     },
     "metadata": {},
     "output_type": "display_data"
    },
    {
     "name": "stdout",
     "output_type": "stream",
     "text": [
      "\n",
      " Finished with (3, 0) \n",
      "\n",
      "\n",
      "\n",
      "\n",
      "---- Working on (5, 0) connection-----\n",
      "winning_vertex = [1475762.08876663  441421.19316566  965542.24307873]\n",
      "MP_branches_with_stitch_point = [0]\n",
      "Current stitch point was not a branch or endpoint, shortest_path_length to one = 16934.11635934658\n",
      "MAP_branches_with_stitch_point = [3]\n",
      "MAP_stitch_point_on_end_or_branch = False\n",
      "Using max stitch distance (300) for smoothing because stitch_distance greater (466.06202273569005) \n",
      "Found winning edge: [9, 10.0]\n",
      "in remove edge\n"
     ]
    },
    {
     "data": {
      "application/vnd.jupyter.widget-view+json": {
       "model_id": "51c10caa80544133a88d437b9832c8a2",
       "version_major": 2,
       "version_minor": 0
      },
      "text/plain": [
       "HBox(children=(FloatProgress(value=1.0, bar_style='info', max=1.0), HTML(value='')))"
      ]
     },
     "metadata": {},
     "output_type": "display_data"
    },
    {
     "name": "stdout",
     "output_type": "stream",
     "text": [
      "\n",
      "\n",
      "\n",
      "--- Working on 1-to-1 correspondence-----\n",
      "max(original_labels),len(original_labels) = (2, 3)\n",
      "empty_indices % = 0.005525331519891193\n",
      " conflict_indices % = 0.021506290377422646\n"
     ]
    },
    {
     "data": {
      "application/vnd.jupyter.widget-view+json": {
       "model_id": "8e601c6480e549f4a35b9edd2e0a1e70",
       "version_major": 2,
       "version_minor": 0
      },
      "text/plain": [
       "HBox(children=(FloatProgress(value=0.0, max=6.0), HTML(value='')))"
      ]
     },
     "metadata": {},
     "output_type": "display_data"
    },
    {
     "name": "stdout",
     "output_type": "stream",
     "text": [
      "\n",
      "AFTER face_lookup_resolved_test\n"
     ]
    },
    {
     "data": {
      "application/vnd.jupyter.widget-view+json": {
       "model_id": "d0e11d7f0a834c998959a8c9e9c51ad1",
       "version_major": 2,
       "version_minor": 0
      },
      "text/plain": [
       "HBox(children=(FloatProgress(value=0.0, max=3.0), HTML(value='')))"
      ]
     },
     "metadata": {},
     "output_type": "display_data"
    },
    {
     "name": "stdout",
     "output_type": "stream",
     "text": [
      "\n",
      "Deleting branches from dictionary\n",
      " Finished with (5, 0) \n",
      "\n",
      "\n",
      "\n",
      "\n",
      "---- Working on (0, 1) connection-----\n",
      "winning_vertex = [1450801.24351613  479597.19236399  914714.63219631]\n",
      "MP_branches_with_stitch_point = [16]\n",
      "Current stitch point was not a branch or endpoint, shortest_path_length to one = 17661.837595854067\n",
      "MAP_branches_with_stitch_point = [0]\n",
      "MAP_stitch_point_on_end_or_branch = False\n",
      "Found winning edge: [12, 13.0]\n",
      "in remove edge\n"
     ]
    },
    {
     "data": {
      "application/vnd.jupyter.widget-view+json": {
       "model_id": "1642abf0dd2f458fbb65e6fce705890b",
       "version_major": 2,
       "version_minor": 0
      },
      "text/plain": [
       "HBox(children=(FloatProgress(value=1.0, bar_style='info', max=1.0), HTML(value='')))"
      ]
     },
     "metadata": {},
     "output_type": "display_data"
    },
    {
     "name": "stdout",
     "output_type": "stream",
     "text": [
      "\n",
      "\n",
      "\n",
      "--- Working on 1-to-1 correspondence-----\n",
      "max(original_labels),len(original_labels) = (2, 3)\n",
      "empty_indices % = 0.0846987429562202\n",
      " conflict_indices % = 0.02271348071087993\n"
     ]
    },
    {
     "data": {
      "application/vnd.jupyter.widget-view+json": {
       "model_id": "a249b573244d45d7818738a33e56b5f8",
       "version_major": 2,
       "version_minor": 0
      },
      "text/plain": [
       "HBox(children=(FloatProgress(value=0.0, max=7.0), HTML(value='')))"
      ]
     },
     "metadata": {},
     "output_type": "display_data"
    },
    {
     "name": "stdout",
     "output_type": "stream",
     "text": [
      "\n",
      "AFTER face_lookup_resolved_test\n"
     ]
    },
    {
     "data": {
      "application/vnd.jupyter.widget-view+json": {
       "model_id": "8632216ccf764ff492ef70d74a8871a5",
       "version_major": 2,
       "version_minor": 0
      },
      "text/plain": [
       "HBox(children=(FloatProgress(value=0.0, max=3.0), HTML(value='')))"
      ]
     },
     "metadata": {},
     "output_type": "display_data"
    },
    {
     "name": "stdout",
     "output_type": "stream",
     "text": [
      "\n",
      "Deleting branches from dictionary\n",
      " Finished with (0, 1) \n",
      "\n",
      "\n",
      "\n",
      "\n",
      "---- Working on (4, 1) connection-----\n",
      "winning_vertex = [1433414.42695495  467982.0199628   891245.85301383]\n",
      "MP_branches_with_stitch_point = [0, 1]\n",
      "Current stitch point was a branch or endpoint\n",
      "MAP_branches_with_stitch_point = [0]\n",
      "MAP_stitch_point_on_end_or_branch = True\n",
      "Using max stitch distance (300) for smoothing because stitch_distance greater (423.54134158871216) \n",
      "Found winning edge: [340, 341.0]\n",
      "in remove edge\n",
      "Using max stitch distance (300) for smoothing because stitch_distance greater (530.5795301975242) \n",
      "Found winning edge: [449, 450.0]\n",
      "in remove edge\n"
     ]
    },
    {
     "data": {
      "application/vnd.jupyter.widget-view+json": {
       "model_id": "3e9ec1f0c1ab4f7fa3351ee343a67f93",
       "version_major": 2,
       "version_minor": 0
      },
      "text/plain": [
       "HBox(children=(FloatProgress(value=1.0, bar_style='info', max=1.0), HTML(value='')))"
      ]
     },
     "metadata": {},
     "output_type": "display_data"
    },
    {
     "name": "stdout",
     "output_type": "stream",
     "text": [
      "\n",
      "\n",
      "\n",
      "--- Working on 1-to-1 correspondence-----\n",
      "max(original_labels),len(original_labels) = (2, 3)\n",
      "empty_indices % = 0.007827526054479582\n",
      " conflict_indices % = 0.010019233349733864\n"
     ]
    },
    {
     "data": {
      "application/vnd.jupyter.widget-view+json": {
       "model_id": "83267db960ee43c89e6ebb666071126c",
       "version_major": 2,
       "version_minor": 0
      },
      "text/plain": [
       "HBox(children=(FloatProgress(value=0.0, max=3.0), HTML(value='')))"
      ]
     },
     "metadata": {},
     "output_type": "display_data"
    },
    {
     "name": "stdout",
     "output_type": "stream",
     "text": [
      "\n",
      "AFTER face_lookup_resolved_test\n"
     ]
    },
    {
     "data": {
      "application/vnd.jupyter.widget-view+json": {
       "model_id": "cc4886b68b1f451e8d746516ceb9b1c2",
       "version_major": 2,
       "version_minor": 0
      },
      "text/plain": [
       "HBox(children=(FloatProgress(value=0.0, max=3.0), HTML(value='')))"
      ]
     },
     "metadata": {},
     "output_type": "display_data"
    },
    {
     "name": "stdout",
     "output_type": "stream",
     "text": [
      "\n",
      " Finished with (4, 1) \n",
      "\n",
      "\n",
      "\n",
      "\n",
      "---- Working on (3, 2) connection-----\n",
      "winning_vertex = [1407817.94156856  442133.56453883  991609.19574936]\n",
      "MP_branches_with_stitch_point = [1, 2]\n",
      "Current stitch point was a branch or endpoint\n",
      "MAP_branches_with_stitch_point = [0]\n",
      "MAP_stitch_point_on_end_or_branch = True\n",
      "Using max stitch distance (300) for smoothing because stitch_distance greater (776.479231823155) \n",
      "Found winning edge: [85, 86.0]\n",
      "in remove edge\n",
      "Using max stitch distance (300) for smoothing because stitch_distance greater (867.2949889858031) \n",
      "Found winning edge: [8, 9.0]\n",
      "in remove edge\n"
     ]
    },
    {
     "data": {
      "application/vnd.jupyter.widget-view+json": {
       "model_id": "e28242d7efb644e981c8a890766603d5",
       "version_major": 2,
       "version_minor": 0
      },
      "text/plain": [
       "HBox(children=(FloatProgress(value=1.0, bar_style='info', max=1.0), HTML(value='')))"
      ]
     },
     "metadata": {},
     "output_type": "display_data"
    },
    {
     "name": "stdout",
     "output_type": "stream",
     "text": [
      "\n",
      "\n",
      "\n",
      "--- Working on 1-to-1 correspondence-----\n",
      "max(original_labels),len(original_labels) = (2, 3)\n",
      "empty_indices % = 0.08251013171225938\n",
      " conflict_indices % = 0.020073454913880445\n"
     ]
    },
    {
     "data": {
      "application/vnd.jupyter.widget-view+json": {
       "model_id": "4eac79764eb4461cad0266935c047176",
       "version_major": 2,
       "version_minor": 0
      },
      "text/plain": [
       "HBox(children=(FloatProgress(value=0.0, max=4.0), HTML(value='')))"
      ]
     },
     "metadata": {},
     "output_type": "display_data"
    },
    {
     "name": "stdout",
     "output_type": "stream",
     "text": [
      "\n",
      "AFTER face_lookup_resolved_test\n"
     ]
    },
    {
     "data": {
      "application/vnd.jupyter.widget-view+json": {
       "model_id": "6a1e318fb2ab45dbbf3c3d810c533be4",
       "version_major": 2,
       "version_minor": 0
      },
      "text/plain": [
       "HBox(children=(FloatProgress(value=0.0, max=3.0), HTML(value='')))"
      ]
     },
     "metadata": {},
     "output_type": "display_data"
    },
    {
     "name": "stdout",
     "output_type": "stream",
     "text": [
      "\n",
      " Finished with (3, 2) \n",
      "\n",
      "\n",
      "\n",
      "Time for decomp of Limb = 330.635360956192\n",
      "\n",
      "\n",
      "----- Working on Proper Limb # 1 ---------\n",
      "meshparty_segment_size = 100\n",
      "Time for preparing soma vertices and root: 5.9604644775390625e-06\n",
      "cc_vertex_thresh = 10\n"
     ]
    },
    {
     "name": "stderr",
     "output_type": "stream",
     "text": [
      "\r",
      "  0%|          | 0/1 [00:00<?, ?it/s]"
     ]
    },
    {
     "data": {
      "application/vnd.jupyter.widget-view+json": {
       "model_id": "cc36a7250e2641eaa9ac638336c462ae",
       "version_major": 2,
       "version_minor": 0
      },
      "text/plain": [
       "HBox(children=(FloatProgress(value=0.0, max=144632.0), HTML(value='')))"
      ]
     },
     "metadata": {},
     "output_type": "display_data"
    },
    {
     "name": "stderr",
     "output_type": "stream",
     "text": [
      "100%|██████████| 1/1 [00:02<00:00,  2.04s/it]"
     ]
    },
    {
     "name": "stdout",
     "output_type": "stream",
     "text": [
      "\n"
     ]
    },
    {
     "name": "stderr",
     "output_type": "stream",
     "text": [
      "\n"
     ]
    },
    {
     "name": "stdout",
     "output_type": "stream",
     "text": [
      "Time for 1st pass MP skeletonization: 3.290170907974243\n",
      "connecting at the root\n",
      "branches_touching_root = [22]\n",
      "length of Graph = 13487\n",
      "max(kept_branches_idx) = 22, len(kept_branches_idx) = 23\n",
      "empty_indices % = 0.0\n",
      " conflict_indices % = 0.0037608435925406474\n"
     ]
    },
    {
     "data": {
      "application/vnd.jupyter.widget-view+json": {
       "model_id": "884c7571e33c449caff179589e1e6d00",
       "version_major": 2,
       "version_minor": 0
      },
      "text/plain": [
       "HBox(children=(FloatProgress(value=0.0, max=11.0), HTML(value='')))"
      ]
     },
     "metadata": {},
     "output_type": "display_data"
    },
    {
     "name": "stdout",
     "output_type": "stream",
     "text": [
      "\n",
      "AFTER face_lookup_resolved_test\n"
     ]
    },
    {
     "data": {
      "application/vnd.jupyter.widget-view+json": {
       "model_id": "4ab88258054946a0bd84f4aab410f971",
       "version_major": 2,
       "version_minor": 0
      },
      "text/plain": [
       "HBox(children=(FloatProgress(value=0.0, max=23.0), HTML(value='')))"
      ]
     },
     "metadata": {},
     "output_type": "display_data"
    },
    {
     "name": "stdout",
     "output_type": "stream",
     "text": [
      "\n",
      "Decomposing first pass: 8.21570873260498\n",
      "Attempting to use MeshAfterParty Skeletonization and Mesh Correspondence\n",
      "Another print\n",
      "Found len(mesh_large_idx) MAP candidates: [6280, 15364, 4214, 3218, 13104, 2362, 4161, 8889]\n",
      "mesh_large_connectivity: 0.21026134490966797\n",
      "Finding MAP candidates connected components: 0.0001418590545654297\n",
      "len(filtered_pieces) = 1\n",
      "skeleton_connectivity_MP : 0.5213508605957031\n",
      "Grouping MP Sublimbs by Graph: 0.10475373268127441\n",
      "Divinding into MP and MAP pieces: 9.5367431640625e-07\n",
      "--- Working on MAP piece 0---\n",
      "MAP Filtering Soma Pieces: 0.003544330596923828\n",
      "inside skeletonize_connected_branch and use_surface_after_CGAL=False, surface_reconstruction_size=1000\n",
      "     Starting Screened Poisson\n",
      "xvfb-run -n 7987 -s \"-screen 0 800x600x24\" meshlabserver $@  -i /notebooks/Platinum_Decomp_Fusion/temp/None.off -o /notebooks/Platinum_Decomp_Fusion/temp/None_poisson.off -s /notebooks/Platinum_Decomp_Fusion/temp/poisson_78864.mls\n",
      "removed temporary input file: /notebooks/Platinum_Decomp_Fusion/temp/None.off\n",
      "removed temporary output file: /notebooks/Platinum_Decomp_Fusion/temp/None_poisson.off\n",
      "Using the close holes feature\n",
      "xvfb-run -n 7303 -s \"-screen 0 800x600x24\" meshlabserver $@  -i /notebooks/Platinum_Decomp_Fusion/temp/neuron_4312.off -o /notebooks/Platinum_Decomp_Fusion/temp/neuron_4312_fill_holes.off -s /notebooks/Platinum_Decomp_Fusion/temp/fill_holes_427830.mls\n",
      "removed temporary input file: /notebooks/Platinum_Decomp_Fusion/temp/neuron_4312.off\n",
      "removed temporary output file: /notebooks/Platinum_Decomp_Fusion/temp/neuron_4312_fill_holes.off\n",
      "-----Time for Screened Poisson= 15.715714454650879\n",
      "     Starting Calcification\n"
     ]
    },
    {
     "data": {
      "application/vnd.jupyter.widget-view+json": {
       "model_id": "9da6f06d02c5437da4de0d26b079d48a",
       "version_major": 2,
       "version_minor": 0
      },
      "text/plain": [
       "HBox(children=(FloatProgress(value=1.0, bar_style='info', max=1.0), HTML(value='')))"
      ]
     },
     "metadata": {},
     "output_type": "display_data"
    },
    {
     "name": "stdout",
     "output_type": "stream",
     "text": [
      "\n",
      "No skeletons to stack so returning empty list\n",
      "len_subgraphs AT BEGINNING of the loop\n"
     ]
    },
    {
     "data": {
      "application/vnd.jupyter.widget-view+json": {
       "model_id": "bf43b2455a974a9e9bb4f909591bf3e6",
       "version_major": 2,
       "version_minor": 0
      },
      "text/plain": [
       "HBox(children=(FloatProgress(value=0.0, max=3.0), HTML(value='')))"
      ]
     },
     "metadata": {},
     "output_type": "display_data"
    },
    {
     "name": "stdout",
     "output_type": "stream",
     "text": [
      "all graph is one component!\n",
      "\n",
      "Total time for skeleton stitching = 0.04627585411071777\n",
      "The process was using a temp folder\n",
      "Checking connected components after skeletonize_connected_branch\n",
      "    Total time for skeletonizing branch: 19.733491897583008\n",
      "Checking connected components after removing cycles\n",
      "Total time for mesh KDTree = 1.1845691204071045\n",
      "sbv[0].reshape(-1,3) = [[1468184.   494270.   928368.6]]\n",
      "closest_sk_pt_coord BEFORE = [1469140.  494083.  930204.]\n",
      "current_skeleton.shape = (493, 2, 3)\n",
      "Current stitch point was not a branch or endpoint, shortest_path_length to one = 1030.7368414557739\n",
      "Changing the stitch point becasue the distance to end or branch node was 1030.7368414557739\n",
      "New stitch point has degree 1\n",
      "change_status for create soma extending pieces = True\n",
      "closest_sk_pt_coord AFTER = [1468240.  493705.  930158.]\n",
      "skipping soma 0 because closest skeleton node was already end node\n",
      "endpoints_must_keep = {0: array([[1468240.,  493705.,  930158.]])}\n",
      "    Total time for Fixing Skeleton Soma Endpoint Extension : 1.3772375583648682\n",
      "filter_end_node_length = 4001\n",
      "Using Distance measure skeletal_distance\n",
      "endpoints_must_keep = [[1468240.  493705.  930158.]]\n",
      "Number of end_nodes BEFORE filtering = 26\n",
      "all_single_nodes_to_eliminate = [19]\n"
     ]
    },
    {
     "data": {
      "application/vnd.jupyter.widget-view+json": {
       "model_id": "80f76d6f6fe949d190aec8c656eaa1f9",
       "version_major": 2,
       "version_minor": 0
      },
      "text/plain": [
       "HBox(children=(FloatProgress(value=0.0, max=22.0), HTML(value='')))"
      ]
     },
     "metadata": {},
     "output_type": "display_data"
    },
    {
     "name": "stdout",
     "output_type": "stream",
     "text": [
      "\n",
      "Checking connected components after clean_skeleton\n",
      "after DISTANCE cleaning limb size of skeleton = (450, 2, 3)\n",
      "********COMBINING CLOSE SKELETON NODES WITHIN 700 DISTANCE**********\n",
      "Found 0 valid paths to replace\n",
      "valid_paths = []\n",
      "valid_path_lengths = []\n",
      "No valid paths found so just returning the original\n",
      "skeletonize_and_clean_connected_branch_CGAL: 21.518476247787476\n",
      "Working on limb correspondence for #0 MAP piece\n"
     ]
    },
    {
     "data": {
      "application/vnd.jupyter.widget-view+json": {
       "model_id": "77dd56d842cf4a979ae8befbc58aeca5",
       "version_major": 2,
       "version_minor": 0
      },
      "text/plain": [
       "HBox(children=(FloatProgress(value=1.0, bar_style='info', max=1.0), HTML(value='')))"
      ]
     },
     "metadata": {},
     "output_type": "display_data"
    },
    {
     "name": "stdout",
     "output_type": "stream",
     "text": [
      "\n",
      "Total time for decomposition = 5.2392332553863525\n",
      "mesh_correspondence_first_pass: 5.239262104034424\n",
      "Limb decomposed into 7 branches\n",
      "divided_skeleton_graph_recovered = (450, 2, 3) and \n",
      "current_mesh_data[0]['branch_skeletons_cleaned'].shape = (450, 2, 3)\n",
      "\n",
      "Number of connected components in deocmposed recovered graph = 1\n",
      "Number of connected components in cleaned skeleton graph= 1\n",
      "The downsampled branches number of connected components = 1\n",
      "Empty submeshes = []\n",
      "\n",
      "\n",
      "--- Working on 1-to-1 correspondence-----\n",
      "max(original_labels),len(original_labels) = (6, 7)\n",
      "empty_indices % = 0.0241526600916794\n",
      " conflict_indices % = 0.021530768162244755\n"
     ]
    },
    {
     "data": {
      "application/vnd.jupyter.widget-view+json": {
       "model_id": "8201fd68ed62444da585976a5b3a23ba",
       "version_major": 2,
       "version_minor": 0
      },
      "text/plain": [
       "HBox(children=(FloatProgress(value=0.0, max=21.0), HTML(value='')))"
      ]
     },
     "metadata": {},
     "output_type": "display_data"
    },
    {
     "name": "stdout",
     "output_type": "stream",
     "text": [
      "\n",
      "AFTER face_lookup_resolved_test\n",
      "Took 0 iterations to expand the label back\n"
     ]
    },
    {
     "data": {
      "application/vnd.jupyter.widget-view+json": {
       "model_id": "c06dd3a0f3da49b394e559455facbcec",
       "version_major": 2,
       "version_minor": 0
      },
      "text/plain": [
       "HBox(children=(FloatProgress(value=0.0, max=7.0), HTML(value='')))"
      ]
     },
     "metadata": {},
     "output_type": "display_data"
    },
    {
     "name": "stdout",
     "output_type": "stream",
     "text": [
      "\n",
      "Total time for MAP sublimb #0 mesh processing = 27.965786457061768\n",
      "correspondence_1_to_1: 1.2046277523040771\n",
      "Total time for MAP sublimb processing 27.966042041778564\n",
      "---- Working on MP Decomposition #0 ----\n",
      "MP filtering soma verts: 0.003398895263671875\n",
      "Do Not Need to Fix MP Decomposition 0 so just continuing\n",
      "---- Working on MP Decomposition #1 ----\n",
      "MP filtering soma verts: 0.0016300678253173828\n",
      "Do Not Need to Fix MP Decomposition 1 so just continuing\n",
      "---- Working on MP Decomposition #2 ----\n",
      "MP filtering soma verts: 0.001894235610961914\n",
      "Do Not Need to Fix MP Decomposition 2 so just continuing\n",
      "---- Working on MP Decomposition #3 ----\n",
      "MP filtering soma verts: 0.005767107009887695\n",
      "Do Not Need to Fix MP Decomposition 3 so just continuing\n",
      "---- Working on MP Decomposition #4 ----\n",
      "MP filtering soma verts: 0.0024971961975097656\n",
      "Do Not Need to Fix MP Decomposition 4 so just continuing\n",
      "---- Working on MP Decomposition #5 ----\n",
      "MP filtering soma verts: 0.0017361640930175781\n",
      "Do Not Need to Fix MP Decomposition 5 so just continuing\n",
      "\n",
      "---- Working on (0, 0) connection-----\n",
      "winning_vertex = [1443461.66814537  513351.89515704  923621.5917282 ]\n",
      "MP_branches_with_stitch_point = [0, 1]\n",
      "Current stitch point was a branch or endpoint\n",
      "MAP_branches_with_stitch_point = [1]\n",
      "MAP_stitch_point_on_end_or_branch = True\n",
      "Using max stitch distance (300) for smoothing because stitch_distance greater (463.5680097425935) \n",
      "Found winning edge: [1293, 1294.0]\n",
      "in remove edge\n",
      "Using max stitch distance (300) for smoothing because stitch_distance greater (386.6250226874365) \n",
      "Found winning edge: [924, 925.0]\n",
      "in remove edge\n"
     ]
    },
    {
     "data": {
      "application/vnd.jupyter.widget-view+json": {
       "model_id": "2bf0898009e14b2da8f137b9b7fda937",
       "version_major": 2,
       "version_minor": 0
      },
      "text/plain": [
       "HBox(children=(FloatProgress(value=1.0, bar_style='info', max=1.0), HTML(value='')))"
      ]
     },
     "metadata": {},
     "output_type": "display_data"
    },
    {
     "name": "stdout",
     "output_type": "stream",
     "text": [
      "\n",
      "\n",
      "\n",
      "--- Working on 1-to-1 correspondence-----\n",
      "max(original_labels),len(original_labels) = (2, 3)\n",
      "empty_indices % = 0.01488901412547494\n",
      " conflict_indices % = 0.00621739051393459\n"
     ]
    },
    {
     "data": {
      "application/vnd.jupyter.widget-view+json": {
       "model_id": "519d15a54bf141879a358da62493e444",
       "version_major": 2,
       "version_minor": 0
      },
      "text/plain": [
       "HBox(children=(FloatProgress(value=0.0, max=11.0), HTML(value='')))"
      ]
     },
     "metadata": {},
     "output_type": "display_data"
    },
    {
     "name": "stdout",
     "output_type": "stream",
     "text": [
      "\n",
      "AFTER face_lookup_resolved_test\n"
     ]
    },
    {
     "data": {
      "application/vnd.jupyter.widget-view+json": {
       "model_id": "98b2662e45ce4990a950fb2432490798",
       "version_major": 2,
       "version_minor": 0
      },
      "text/plain": [
       "HBox(children=(FloatProgress(value=0.0, max=3.0), HTML(value='')))"
      ]
     },
     "metadata": {},
     "output_type": "display_data"
    },
    {
     "name": "stdout",
     "output_type": "stream",
     "text": [
      "\n",
      " Finished with (0, 0) \n",
      "\n",
      "\n",
      "\n",
      "\n",
      "---- Working on (1, 0) connection-----\n",
      "winning_vertex = [1430682.00289543  487973.29000096  996886.85854536]\n",
      "MP_branches_with_stitch_point = [2, 3]\n",
      "Current stitch point was a branch or endpoint\n",
      "MAP_branches_with_stitch_point = [0]\n",
      "MAP_stitch_point_on_end_or_branch = True\n",
      "Using max stitch distance (300) for smoothing because stitch_distance greater (1276.4860037946357) \n",
      "Found winning edge: [30, 32.0]\n",
      "in remove edge\n",
      "Using max stitch distance (300) for smoothing because stitch_distance greater (1309.6963412230152) \n",
      "Found winning edge: [737, 738.0]\n",
      "in remove edge\n"
     ]
    },
    {
     "data": {
      "application/vnd.jupyter.widget-view+json": {
       "model_id": "ff63e7d3823f402784a0ea1ad2714517",
       "version_major": 2,
       "version_minor": 0
      },
      "text/plain": [
       "HBox(children=(FloatProgress(value=1.0, bar_style='info', max=1.0), HTML(value='')))"
      ]
     },
     "metadata": {},
     "output_type": "display_data"
    },
    {
     "name": "stdout",
     "output_type": "stream",
     "text": [
      "\n",
      "\n",
      "\n",
      "--- Working on 1-to-1 correspondence-----\n",
      "max(original_labels),len(original_labels) = (2, 3)\n",
      "empty_indices % = 0.034170983622381676\n",
      " conflict_indices % = 0.01023198944624988\n"
     ]
    },
    {
     "data": {
      "application/vnd.jupyter.widget-view+json": {
       "model_id": "098a115afba44687868b048bc08004d0",
       "version_major": 2,
       "version_minor": 0
      },
      "text/plain": [
       "HBox(children=(FloatProgress(value=0.0, max=10.0), HTML(value='')))"
      ]
     },
     "metadata": {},
     "output_type": "display_data"
    },
    {
     "name": "stdout",
     "output_type": "stream",
     "text": [
      "\n",
      "AFTER face_lookup_resolved_test\n"
     ]
    },
    {
     "data": {
      "application/vnd.jupyter.widget-view+json": {
       "model_id": "c89d04e0e37b42ad8df52954fc825caf",
       "version_major": 2,
       "version_minor": 0
      },
      "text/plain": [
       "HBox(children=(FloatProgress(value=0.0, max=3.0), HTML(value='')))"
      ]
     },
     "metadata": {},
     "output_type": "display_data"
    },
    {
     "name": "stdout",
     "output_type": "stream",
     "text": [
      "\n",
      " Finished with (1, 0) \n",
      "\n",
      "\n",
      "\n",
      "\n",
      "---- Working on (2, 0) connection-----\n",
      "winning_vertex = [1463309.75491862  552849.67621516  937107.63718283]\n",
      "MP_branches_with_stitch_point = [0]\n",
      "Current stitch point was not a branch or endpoint, shortest_path_length to one = 8976.00362755509\n",
      "MAP_branches_with_stitch_point = [2]\n",
      "MAP_stitch_point_on_end_or_branch = False\n",
      "Found winning edge: [7, 8.0]\n",
      "in remove edge\n"
     ]
    },
    {
     "data": {
      "application/vnd.jupyter.widget-view+json": {
       "model_id": "fedcc533ba36415db30e428eb5797d6e",
       "version_major": 2,
       "version_minor": 0
      },
      "text/plain": [
       "HBox(children=(FloatProgress(value=1.0, bar_style='info', max=1.0), HTML(value='')))"
      ]
     },
     "metadata": {},
     "output_type": "display_data"
    },
    {
     "name": "stdout",
     "output_type": "stream",
     "text": [
      "\n",
      "\n",
      "\n",
      "--- Working on 1-to-1 correspondence-----\n",
      "max(original_labels),len(original_labels) = (2, 3)\n",
      "empty_indices % = 0.028218135700697526\n",
      " conflict_indices % = 0.012497357852462481\n"
     ]
    },
    {
     "data": {
      "application/vnd.jupyter.widget-view+json": {
       "model_id": "7297585f78b24c7ca93cc2b8ed05035e",
       "version_major": 2,
       "version_minor": 0
      },
      "text/plain": [
       "HBox(children=(FloatProgress(value=0.0, max=13.0), HTML(value='')))"
      ]
     },
     "metadata": {},
     "output_type": "display_data"
    },
    {
     "name": "stdout",
     "output_type": "stream",
     "text": [
      "\n",
      "AFTER face_lookup_resolved_test\n"
     ]
    },
    {
     "data": {
      "application/vnd.jupyter.widget-view+json": {
       "model_id": "df824dc0a6854ec3bee357f4cfe8b2fe",
       "version_major": 2,
       "version_minor": 0
      },
      "text/plain": [
       "HBox(children=(FloatProgress(value=0.0, max=3.0), HTML(value='')))"
      ]
     },
     "metadata": {},
     "output_type": "display_data"
    },
    {
     "name": "stdout",
     "output_type": "stream",
     "text": [
      "\n",
      "Deleting branches from dictionary\n",
      " Finished with (2, 0) \n",
      "\n",
      "\n",
      "\n",
      "\n",
      "---- Working on (3, 0) connection-----\n",
      "winning_vertex = [1462529.83453418  561342.10412895  937611.20543793]\n",
      "MP_branches_with_stitch_point = [1, 2]\n",
      "Current stitch point was not a branch or endpoint, shortest_path_length to one = 1587.5167065575167\n",
      "MAP_branches_with_stitch_point = [2]\n",
      "MAP_stitch_point_on_end_or_branch = False\n",
      "Using max stitch distance (300) for smoothing because stitch_distance greater (1678.762409329406) \n",
      "Found winning edge: [1851, 1852.0]\n",
      "in remove edge\n",
      "Using max stitch distance (300) for smoothing because stitch_distance greater (1644.6796713390497) \n",
      "Found winning edge: [1289, 1295.0]\n",
      "in remove edge\n"
     ]
    },
    {
     "data": {
      "application/vnd.jupyter.widget-view+json": {
       "model_id": "6d42d81601e1432a92ae3bf458aa3be6",
       "version_major": 2,
       "version_minor": 0
      },
      "text/plain": [
       "HBox(children=(FloatProgress(value=1.0, bar_style='info', max=1.0), HTML(value='')))"
      ]
     },
     "metadata": {},
     "output_type": "display_data"
    },
    {
     "name": "stdout",
     "output_type": "stream",
     "text": [
      "\n",
      "\n",
      "\n",
      "--- Working on 1-to-1 correspondence-----\n",
      "max(original_labels),len(original_labels) = (3, 4)\n",
      "empty_indices % = 0.01853160085782768\n",
      " conflict_indices % = 0.010193011227450486\n"
     ]
    },
    {
     "data": {
      "application/vnd.jupyter.widget-view+json": {
       "model_id": "bee640054f4b49d98cf0cbd45d385fe9",
       "version_major": 2,
       "version_minor": 0
      },
      "text/plain": [
       "HBox(children=(FloatProgress(value=0.0, max=22.0), HTML(value='')))"
      ]
     },
     "metadata": {},
     "output_type": "display_data"
    },
    {
     "name": "stdout",
     "output_type": "stream",
     "text": [
      "\n",
      "AFTER face_lookup_resolved_test\n"
     ]
    },
    {
     "data": {
      "application/vnd.jupyter.widget-view+json": {
       "model_id": "61469950a4c4481bb3c5db596d142473",
       "version_major": 2,
       "version_minor": 0
      },
      "text/plain": [
       "HBox(children=(FloatProgress(value=0.0, max=4.0), HTML(value='')))"
      ]
     },
     "metadata": {},
     "output_type": "display_data"
    },
    {
     "name": "stdout",
     "output_type": "stream",
     "text": [
      "\n",
      "Deleting branches from dictionary\n",
      " Finished with (3, 0) \n",
      "\n",
      "\n",
      "\n",
      "\n",
      "---- Working on (4, 0) connection-----\n",
      "winning_vertex = [1468732.38147269  503038.75790791  937922.46537537]\n",
      "MP_branches_with_stitch_point = [0]\n",
      "Current stitch point was not a branch or endpoint, shortest_path_length to one = 13342.704237383894\n",
      "MAP_branches_with_stitch_point = [4]\n",
      "MAP_stitch_point_on_end_or_branch = False\n",
      "Using max stitch distance (300) for smoothing because stitch_distance greater (894.9004771602412) \n",
      "Found winning edge: [1501, 1503.0]\n",
      "in remove edge\n"
     ]
    },
    {
     "data": {
      "application/vnd.jupyter.widget-view+json": {
       "model_id": "0327381683d74675b1c59a352c36d0cc",
       "version_major": 2,
       "version_minor": 0
      },
      "text/plain": [
       "HBox(children=(FloatProgress(value=1.0, bar_style='info', max=1.0), HTML(value='')))"
      ]
     },
     "metadata": {},
     "output_type": "display_data"
    },
    {
     "name": "stdout",
     "output_type": "stream",
     "text": [
      "\n",
      "\n",
      "\n",
      "--- Working on 1-to-1 correspondence-----\n",
      "max(original_labels),len(original_labels) = (2, 3)\n",
      "empty_indices % = 0.016968193414000514\n",
      " conflict_indices % = 0.008823460575280268\n"
     ]
    },
    {
     "data": {
      "application/vnd.jupyter.widget-view+json": {
       "model_id": "b6c7ca6023d94052aaa618b0c022f05d",
       "version_major": 2,
       "version_minor": 0
      },
      "text/plain": [
       "HBox(children=(FloatProgress(value=0.0, max=10.0), HTML(value='')))"
      ]
     },
     "metadata": {},
     "output_type": "display_data"
    },
    {
     "name": "stdout",
     "output_type": "stream",
     "text": [
      "\n",
      "AFTER face_lookup_resolved_test\n"
     ]
    },
    {
     "data": {
      "application/vnd.jupyter.widget-view+json": {
       "model_id": "10ac9eb0f63f40aaa9a93a759f2fb7a4",
       "version_major": 2,
       "version_minor": 0
      },
      "text/plain": [
       "HBox(children=(FloatProgress(value=0.0, max=3.0), HTML(value='')))"
      ]
     },
     "metadata": {},
     "output_type": "display_data"
    },
    {
     "name": "stdout",
     "output_type": "stream",
     "text": [
      "\n",
      "Deleting branches from dictionary\n",
      " Finished with (4, 0) \n",
      "\n",
      "\n",
      "\n",
      "\n",
      "---- Working on (5, 0) connection-----\n",
      "winning_vertex = [1462598.77078916  542121.66501644  938215.68669212]\n",
      "MP_branches_with_stitch_point = [1]\n",
      "Current stitch point was not a branch or endpoint, shortest_path_length to one = 20010.006385363562\n",
      "MAP_branches_with_stitch_point = [7]\n",
      "MAP_stitch_point_on_end_or_branch = False\n",
      "Using max stitch distance (300) for smoothing because stitch_distance greater (323.9857298348823) \n",
      "Found winning edge: [387, 388.0]\n",
      "in remove edge\n"
     ]
    },
    {
     "data": {
      "application/vnd.jupyter.widget-view+json": {
       "model_id": "f6cf770935924f2da23af228c65a979d",
       "version_major": 2,
       "version_minor": 0
      },
      "text/plain": [
       "HBox(children=(FloatProgress(value=1.0, bar_style='info', max=1.0), HTML(value='')))"
      ]
     },
     "metadata": {},
     "output_type": "display_data"
    },
    {
     "name": "stdout",
     "output_type": "stream",
     "text": [
      "\n",
      "\n",
      "\n",
      "--- Working on 1-to-1 correspondence-----\n",
      "max(original_labels),len(original_labels) = (2, 3)\n",
      "empty_indices % = 0.004824314545308354\n",
      " conflict_indices % = 0.017287127120688268\n"
     ]
    },
    {
     "data": {
      "application/vnd.jupyter.widget-view+json": {
       "model_id": "fe7034df158748248ca99e3529c905fb",
       "version_major": 2,
       "version_minor": 0
      },
      "text/plain": [
       "HBox(children=(FloatProgress(value=0.0, max=5.0), HTML(value='')))"
      ]
     },
     "metadata": {},
     "output_type": "display_data"
    },
    {
     "name": "stdout",
     "output_type": "stream",
     "text": [
      "\n",
      "AFTER face_lookup_resolved_test\n"
     ]
    },
    {
     "data": {
      "application/vnd.jupyter.widget-view+json": {
       "model_id": "cbd9271991eb410095486f1c32bf4249",
       "version_major": 2,
       "version_minor": 0
      },
      "text/plain": [
       "HBox(children=(FloatProgress(value=0.0, max=3.0), HTML(value='')))"
      ]
     },
     "metadata": {},
     "output_type": "display_data"
    },
    {
     "name": "stderr",
     "output_type": "stream",
     "text": [
      "\r",
      "  0%|          | 0/1 [00:00<?, ?it/s]"
     ]
    },
    {
     "name": "stdout",
     "output_type": "stream",
     "text": [
      "\n",
      "Deleting branches from dictionary\n",
      " Finished with (5, 0) \n",
      "\n",
      "\n",
      "\n",
      "Time for decomp of Limb = 95.25391674041748\n",
      "\n",
      "\n",
      "----- Working on Proper Limb # 2 ---------\n",
      "meshparty_segment_size = 100\n",
      "Time for preparing soma vertices and root: 6.67572021484375e-06\n",
      "cc_vertex_thresh = 10\n"
     ]
    },
    {
     "data": {
      "application/vnd.jupyter.widget-view+json": {
       "model_id": "c02d73a5320749578f6bbb19dbdd2e62",
       "version_major": 2,
       "version_minor": 0
      },
      "text/plain": [
       "HBox(children=(FloatProgress(value=0.0, max=73280.0), HTML(value='')))"
      ]
     },
     "metadata": {},
     "output_type": "display_data"
    },
    {
     "name": "stderr",
     "output_type": "stream",
     "text": [
      "100%|██████████| 1/1 [00:02<00:00,  2.06s/it]"
     ]
    },
    {
     "name": "stdout",
     "output_type": "stream",
     "text": [
      "\n"
     ]
    },
    {
     "name": "stderr",
     "output_type": "stream",
     "text": [
      "\n"
     ]
    },
    {
     "name": "stdout",
     "output_type": "stream",
     "text": [
      "Time for 1st pass MP skeletonization: 2.7876529693603516\n",
      "connecting at the root\n",
      "branches_touching_root = [53]\n",
      "length of Graph = 14634\n",
      "Working on path [10181. 10186. 10189.]\n",
      "path_degrees = [3, 2, 3]\n",
      "max(kept_branches_idx) = 53, len(kept_branches_idx) = 53\n",
      "empty_indices % = 0.0\n",
      " conflict_indices % = 0.008860282789551166\n"
     ]
    },
    {
     "data": {
      "application/vnd.jupyter.widget-view+json": {
       "model_id": "eb1097c8f5b246ac99c95f1b8b7751a6",
       "version_major": 2,
       "version_minor": 0
      },
      "text/plain": [
       "HBox(children=(FloatProgress(value=0.0, max=25.0), HTML(value='')))"
      ]
     },
     "metadata": {},
     "output_type": "display_data"
    },
    {
     "name": "stdout",
     "output_type": "stream",
     "text": [
      "\n",
      "AFTER face_lookup_resolved_test\n"
     ]
    },
    {
     "data": {
      "application/vnd.jupyter.widget-view+json": {
       "model_id": "555510531f06457c979000e10af1aeef",
       "version_major": 2,
       "version_minor": 0
      },
      "text/plain": [
       "HBox(children=(FloatProgress(value=0.0, max=53.0), HTML(value='')))"
      ]
     },
     "metadata": {},
     "output_type": "display_data"
    },
    {
     "name": "stdout",
     "output_type": "stream",
     "text": [
      "\n",
      "Decomposing first pass: 7.267973184585571\n",
      "Attempting to use MeshAfterParty Skeletonization and Mesh Correspondence\n",
      "Another print\n",
      "Found len(mesh_large_idx) MAP candidates: [181, 8031, 745, 2181, 8813, 3712, 8374]\n",
      "mesh_large_connectivity: 0.094085693359375\n",
      "Finding MAP candidates connected components: 0.00015211105346679688\n",
      "len(filtered_pieces) = 1\n",
      "skeleton_connectivity_MP : 0.5429978370666504\n",
      "Grouping MP Sublimbs by Graph: 0.07096123695373535\n",
      "Divinding into MP and MAP pieces: 1.1920928955078125e-06\n",
      "--- Working on MAP piece 0---\n",
      "MAP Filtering Soma Pieces: 0.0023550987243652344\n",
      "inside skeletonize_connected_branch and use_surface_after_CGAL=False, surface_reconstruction_size=1000\n",
      "     Starting Screened Poisson\n",
      "xvfb-run -n 4813 -s \"-screen 0 800x600x24\" meshlabserver $@  -i /notebooks/Platinum_Decomp_Fusion/temp/None.off -o /notebooks/Platinum_Decomp_Fusion/temp/None_poisson.off -s /notebooks/Platinum_Decomp_Fusion/temp/poisson_36875.mls\n",
      "removed temporary input file: /notebooks/Platinum_Decomp_Fusion/temp/None.off\n",
      "removed temporary output file: /notebooks/Platinum_Decomp_Fusion/temp/None_poisson.off\n",
      "Using the close holes feature\n",
      "xvfb-run -n 3979 -s \"-screen 0 800x600x24\" meshlabserver $@  -i /notebooks/Platinum_Decomp_Fusion/temp/neuron_23600.off -o /notebooks/Platinum_Decomp_Fusion/temp/neuron_23600_fill_holes.off -s /notebooks/Platinum_Decomp_Fusion/temp/fill_holes_326871.mls\n",
      "removed temporary input file: /notebooks/Platinum_Decomp_Fusion/temp/neuron_23600.off\n",
      "removed temporary output file: /notebooks/Platinum_Decomp_Fusion/temp/neuron_23600_fill_holes.off\n",
      "-----Time for Screened Poisson= 13.294738054275513\n",
      "     Starting Calcification\n"
     ]
    },
    {
     "data": {
      "application/vnd.jupyter.widget-view+json": {
       "model_id": "7238afd7e5414a2ea1c49f2603698eb6",
       "version_major": 2,
       "version_minor": 0
      },
      "text/plain": [
       "HBox(children=(FloatProgress(value=1.0, bar_style='info', max=1.0), HTML(value='')))"
      ]
     },
     "metadata": {},
     "output_type": "display_data"
    },
    {
     "name": "stdout",
     "output_type": "stream",
     "text": [
      "\n",
      "No skeletons to stack so returning empty list\n",
      "len_subgraphs AT BEGINNING of the loop\n"
     ]
    },
    {
     "data": {
      "application/vnd.jupyter.widget-view+json": {
       "model_id": "38889da983cc448c934600d983737268",
       "version_major": 2,
       "version_minor": 0
      },
      "text/plain": [
       "HBox(children=(FloatProgress(value=0.0, max=1.0), HTML(value='')))"
      ]
     },
     "metadata": {},
     "output_type": "display_data"
    },
    {
     "name": "stdout",
     "output_type": "stream",
     "text": [
      "all graph is one component!\n",
      "\n",
      "Total time for skeleton stitching = 0.03627419471740723\n",
      "The process was using a temp folder\n",
      "Checking connected components after skeletonize_connected_branch\n",
      "    Total time for skeletonizing branch: 16.535178184509277\n",
      "Checking connected components after removing cycles\n",
      "Total time for mesh KDTree = 0.20459628105163574\n",
      "sbv[0].reshape(-1,3) = [[1474480.   482654.4  920665.6]]\n",
      "closest_sk_pt_coord BEFORE = [1475580.  482368.  919450.]\n",
      "current_skeleton.shape = (307, 2, 3)\n",
      "Current stitch point was not a branch or endpoint, shortest_path_length to one = 1087.2915026344717\n",
      "Changing the stitch point becasue the distance to end or branch node was 1087.2915026344717\n",
      "New stitch point has degree 1\n",
      "change_status for create soma extending pieces = True\n",
      "closest_sk_pt_coord AFTER = [1476130.  482506.  920301.]\n",
      "skipping soma 0 because closest skeleton node was already end node\n",
      "endpoints_must_keep = {0: array([[1476130.,  482506.,  920301.]])}\n",
      "    Total time for Fixing Skeleton Soma Endpoint Extension : 0.30408811569213867\n",
      "filter_end_node_length = 4001\n",
      "Using Distance measure skeletal_distance\n",
      "endpoints_must_keep = [[1476130.  482506.  920301.]]\n",
      "Number of end_nodes BEFORE filtering = 21\n",
      "all_single_nodes_to_eliminate = [1]\n"
     ]
    },
    {
     "data": {
      "application/vnd.jupyter.widget-view+json": {
       "model_id": "00e03a118c774aab8097da1c0ceeead7",
       "version_major": 2,
       "version_minor": 0
      },
      "text/plain": [
       "HBox(children=(FloatProgress(value=0.0, max=19.0), HTML(value='')))"
      ]
     },
     "metadata": {},
     "output_type": "display_data"
    },
    {
     "name": "stdout",
     "output_type": "stream",
     "text": [
      "\n",
      "Checking connected components after clean_skeleton\n",
      "after DISTANCE cleaning limb size of skeleton = (273, 2, 3)\n",
      "********COMBINING CLOSE SKELETON NODES WITHIN 700 DISTANCE**********\n",
      "Found 0 valid paths to replace\n",
      "valid_paths = []\n",
      "valid_path_lengths = []\n",
      "No valid paths found so just returning the original\n",
      "skeletonize_and_clean_connected_branch_CGAL: 17.07090187072754\n",
      "Working on limb correspondence for #0 MAP piece\n"
     ]
    },
    {
     "data": {
      "application/vnd.jupyter.widget-view+json": {
       "model_id": "5d3f3f0191bf4b65945521d45a7b2bef",
       "version_major": 2,
       "version_minor": 0
      },
      "text/plain": [
       "HBox(children=(FloatProgress(value=1.0, bar_style='info', max=1.0), HTML(value='')))"
      ]
     },
     "metadata": {},
     "output_type": "display_data"
    },
    {
     "name": "stdout",
     "output_type": "stream",
     "text": [
      "\n",
      "Total time for decomposition = 3.0370559692382812\n",
      "mesh_correspondence_first_pass: 3.0370850563049316\n",
      "Limb decomposed into 5 branches\n",
      "divided_skeleton_graph_recovered = (273, 2, 3) and \n",
      "current_mesh_data[0]['branch_skeletons_cleaned'].shape = (273, 2, 3)\n",
      "\n",
      "Number of connected components in deocmposed recovered graph = 1\n",
      "Number of connected components in cleaned skeleton graph= 1\n",
      "The downsampled branches number of connected components = 1\n",
      "Empty submeshes = []\n",
      "\n",
      "\n",
      "--- Working on 1-to-1 correspondence-----\n",
      "max(original_labels),len(original_labels) = (4, 5)\n",
      "empty_indices % = 0.03964716223003516\n",
      " conflict_indices % = 0.028691612255148168\n"
     ]
    },
    {
     "data": {
      "application/vnd.jupyter.widget-view+json": {
       "model_id": "a7b8e37bba264a26975a997b7d471eaf",
       "version_major": 2,
       "version_minor": 0
      },
      "text/plain": [
       "HBox(children=(FloatProgress(value=0.0, max=15.0), HTML(value='')))"
      ]
     },
     "metadata": {},
     "output_type": "display_data"
    },
    {
     "name": "stdout",
     "output_type": "stream",
     "text": [
      "\n",
      "AFTER face_lookup_resolved_test\n",
      "Took 0 iterations to expand the label back\n"
     ]
    },
    {
     "data": {
      "application/vnd.jupyter.widget-view+json": {
       "model_id": "1d8b2196162f477598ec23ee04aa8693",
       "version_major": 2,
       "version_minor": 0
      },
      "text/plain": [
       "HBox(children=(FloatProgress(value=0.0, max=5.0), HTML(value='')))"
      ]
     },
     "metadata": {},
     "output_type": "display_data"
    },
    {
     "name": "stdout",
     "output_type": "stream",
     "text": [
      "\n",
      "Total time for MAP sublimb #0 mesh processing = 21.57270312309265\n",
      "correspondence_1_to_1: 1.462327480316162\n",
      "Total time for MAP sublimb processing 21.57279944419861\n",
      "---- Working on MP Decomposition #0 ----\n",
      "MP filtering soma verts: 0.008736371994018555\n",
      "Do Not Need to Fix MP Decomposition 0 so just continuing\n",
      "---- Working on MP Decomposition #1 ----\n",
      "MP filtering soma verts: 0.0011751651763916016\n",
      "Do Not Need to Fix MP Decomposition 1 so just continuing\n",
      "---- Working on MP Decomposition #2 ----\n",
      "MP filtering soma verts: 0.00220489501953125\n",
      "Do Not Need to Fix MP Decomposition 2 so just continuing\n",
      "\n",
      "---- Working on (0, 0) connection-----\n",
      "winning_vertex = [1498228.26612209  499987.96393531  871757.316408  ]\n",
      "MP_branches_with_stitch_point = [6, 18]\n",
      "Current stitch point was a branch or endpoint\n",
      "MAP_branches_with_stitch_point = [4]\n",
      "MAP_stitch_point_on_end_or_branch = True\n",
      "Using max stitch distance (300) for smoothing because stitch_distance greater (816.4707211108706) \n",
      "Found winning edge: [9, 10.0]\n",
      "in remove edge\n",
      "Using max stitch distance (300) for smoothing because stitch_distance greater (828.1838057277481) \n",
      "Found winning edge: [734, 736.0]\n",
      "in remove edge\n"
     ]
    },
    {
     "data": {
      "application/vnd.jupyter.widget-view+json": {
       "model_id": "1c4dd5e5dd9b4309bebe956118c5417e",
       "version_major": 2,
       "version_minor": 0
      },
      "text/plain": [
       "HBox(children=(FloatProgress(value=1.0, bar_style='info', max=1.0), HTML(value='')))"
      ]
     },
     "metadata": {},
     "output_type": "display_data"
    },
    {
     "name": "stdout",
     "output_type": "stream",
     "text": [
      "\n",
      "\n",
      "\n",
      "--- Working on 1-to-1 correspondence-----\n",
      "max(original_labels),len(original_labels) = (2, 3)\n",
      "empty_indices % = 0.03990765171503958\n",
      " conflict_indices % = 0.004452506596306069\n"
     ]
    },
    {
     "data": {
      "application/vnd.jupyter.widget-view+json": {
       "model_id": "6b82b4576d94493fb241464b150d0a10",
       "version_major": 2,
       "version_minor": 0
      },
      "text/plain": [
       "HBox(children=(FloatProgress(value=0.0, max=8.0), HTML(value='')))"
      ]
     },
     "metadata": {},
     "output_type": "display_data"
    },
    {
     "name": "stdout",
     "output_type": "stream",
     "text": [
      "\n",
      "AFTER face_lookup_resolved_test\n"
     ]
    },
    {
     "data": {
      "application/vnd.jupyter.widget-view+json": {
       "model_id": "3c464b66227f497da81614903b2e1125",
       "version_major": 2,
       "version_minor": 0
      },
      "text/plain": [
       "HBox(children=(FloatProgress(value=0.0, max=3.0), HTML(value='')))"
      ]
     },
     "metadata": {},
     "output_type": "display_data"
    },
    {
     "name": "stdout",
     "output_type": "stream",
     "text": [
      "\n",
      " Finished with (0, 0) \n",
      "\n",
      "\n",
      "\n",
      "\n",
      "---- Working on (1, 0) connection-----\n",
      "winning_vertex = [1487108.10276107  482694.39263832  893920.33361348]\n",
      "MP_branches_with_stitch_point = [0]\n",
      "Current stitch point was not a branch or endpoint, shortest_path_length to one = 7210.527684557424\n",
      "MAP_branches_with_stitch_point = [1]\n",
      "MAP_stitch_point_on_end_or_branch = False\n",
      "Using max stitch distance (300) for smoothing because stitch_distance greater (514.8362069735531) \n",
      "Found winning edge: [16, 19.0]\n",
      "in remove edge\n"
     ]
    },
    {
     "data": {
      "application/vnd.jupyter.widget-view+json": {
       "model_id": "e649999e1b4d467cbbdffd79e657cafa",
       "version_major": 2,
       "version_minor": 0
      },
      "text/plain": [
       "HBox(children=(FloatProgress(value=1.0, bar_style='info', max=1.0), HTML(value='')))"
      ]
     },
     "metadata": {},
     "output_type": "display_data"
    },
    {
     "name": "stdout",
     "output_type": "stream",
     "text": [
      "\n",
      "\n",
      "\n",
      "--- Working on 1-to-1 correspondence-----\n",
      "max(original_labels),len(original_labels) = (2, 3)\n",
      "empty_indices % = 0.0326322301268172\n",
      " conflict_indices % = 0.041602227033714814\n"
     ]
    },
    {
     "data": {
      "application/vnd.jupyter.widget-view+json": {
       "model_id": "9293c2d25ce242ee8bc803394f9d556d",
       "version_major": 2,
       "version_minor": 0
      },
      "text/plain": [
       "HBox(children=(FloatProgress(value=0.0, max=3.0), HTML(value='')))"
      ]
     },
     "metadata": {},
     "output_type": "display_data"
    },
    {
     "name": "stdout",
     "output_type": "stream",
     "text": [
      "\n",
      "AFTER face_lookup_resolved_test\n"
     ]
    },
    {
     "data": {
      "application/vnd.jupyter.widget-view+json": {
       "model_id": "aec11507c73c474cb4dea607a79d5872",
       "version_major": 2,
       "version_minor": 0
      },
      "text/plain": [
       "HBox(children=(FloatProgress(value=0.0, max=3.0), HTML(value='')))"
      ]
     },
     "metadata": {},
     "output_type": "display_data"
    },
    {
     "name": "stdout",
     "output_type": "stream",
     "text": [
      "\n",
      "Deleting branches from dictionary\n",
      " Finished with (1, 0) \n",
      "\n",
      "\n",
      "\n",
      "\n",
      "---- Working on (2, 0) connection-----\n",
      "winning_vertex = [1483543.21989167  484698.4953437   880244.89361387]\n",
      "MP_branches_with_stitch_point = [0, 1]\n",
      "Current stitch point was a branch or endpoint\n",
      "MAP_branches_with_stitch_point = [1]\n",
      "MAP_stitch_point_on_end_or_branch = True\n",
      "Using max stitch distance (300) for smoothing because stitch_distance greater (1162.9960939886096) \n",
      "Found winning edge: [113, 114.0]\n",
      "in remove edge\n",
      "Using max stitch distance (300) for smoothing because stitch_distance greater (1159.1067639399162) \n",
      "Found winning edge: [81, 83.0]\n",
      "in remove edge\n"
     ]
    },
    {
     "data": {
      "application/vnd.jupyter.widget-view+json": {
       "model_id": "5e95342bcdf7441395623021ebdcdb67",
       "version_major": 2,
       "version_minor": 0
      },
      "text/plain": [
       "HBox(children=(FloatProgress(value=1.0, bar_style='info', max=1.0), HTML(value='')))"
      ]
     },
     "metadata": {},
     "output_type": "display_data"
    },
    {
     "name": "stdout",
     "output_type": "stream",
     "text": [
      "\n",
      "\n",
      "\n",
      "--- Working on 1-to-1 correspondence-----\n",
      "max(original_labels),len(original_labels) = (2, 3)\n",
      "empty_indices % = 0.14871284940890508\n",
      " conflict_indices % = 0.03369793392995249\n"
     ]
    },
    {
     "data": {
      "application/vnd.jupyter.widget-view+json": {
       "model_id": "93216693b35b4a7289d9e33856da6157",
       "version_major": 2,
       "version_minor": 0
      },
      "text/plain": [
       "HBox(children=(FloatProgress(value=0.0, max=3.0), HTML(value='')))"
      ]
     },
     "metadata": {},
     "output_type": "display_data"
    },
    {
     "name": "stdout",
     "output_type": "stream",
     "text": [
      "\n",
      "AFTER face_lookup_resolved_test\n"
     ]
    },
    {
     "data": {
      "application/vnd.jupyter.widget-view+json": {
       "model_id": "140fe16c8232472b8cf973561518425d",
       "version_major": 2,
       "version_minor": 0
      },
      "text/plain": [
       "HBox(children=(FloatProgress(value=0.0, max=3.0), HTML(value='')))"
      ]
     },
     "metadata": {},
     "output_type": "display_data"
    },
    {
     "name": "stderr",
     "output_type": "stream",
     "text": [
      "\r",
      "  0%|          | 0/1 [00:00<?, ?it/s]"
     ]
    },
    {
     "name": "stdout",
     "output_type": "stream",
     "text": [
      "\n",
      " Finished with (2, 0) \n",
      "\n",
      "\n",
      "\n",
      "Time for decomp of Limb = 40.210371255874634\n",
      "\n",
      "\n",
      "----- Working on Proper Limb # 3 ---------\n",
      "meshparty_segment_size = 100\n",
      "Time for preparing soma vertices and root: 6.198883056640625e-06\n",
      "cc_vertex_thresh = 10\n"
     ]
    },
    {
     "data": {
      "application/vnd.jupyter.widget-view+json": {
       "model_id": "5077ac27758944c487168d6b4f3d1562",
       "version_major": 2,
       "version_minor": 0
      },
      "text/plain": [
       "HBox(children=(FloatProgress(value=0.0, max=40335.0), HTML(value='')))"
      ]
     },
     "metadata": {},
     "output_type": "display_data"
    },
    {
     "name": "stderr",
     "output_type": "stream",
     "text": [
      "100%|██████████| 1/1 [00:00<00:00,  3.78it/s]"
     ]
    },
    {
     "name": "stdout",
     "output_type": "stream",
     "text": [
      "\n"
     ]
    },
    {
     "name": "stderr",
     "output_type": "stream",
     "text": [
      "\n"
     ]
    },
    {
     "name": "stdout",
     "output_type": "stream",
     "text": [
      "Time for 1st pass MP skeletonization: 0.6687133312225342\n",
      "connecting at the root\n",
      "branches_touching_root = [8]\n",
      "length of Graph = 3595\n",
      "max(kept_branches_idx) = 8, len(kept_branches_idx) = 9\n",
      "empty_indices % = 0.0\n",
      " conflict_indices % = 0.004480409070035868\n"
     ]
    },
    {
     "data": {
      "application/vnd.jupyter.widget-view+json": {
       "model_id": "669a491401044e66964bbfd7b9cf8915",
       "version_major": 2,
       "version_minor": 0
      },
      "text/plain": [
       "HBox(children=(FloatProgress(value=0.0, max=4.0), HTML(value='')))"
      ]
     },
     "metadata": {},
     "output_type": "display_data"
    },
    {
     "name": "stdout",
     "output_type": "stream",
     "text": [
      "\n",
      "AFTER face_lookup_resolved_test\n"
     ]
    },
    {
     "data": {
      "application/vnd.jupyter.widget-view+json": {
       "model_id": "54d328c614fe4bf693d3b45d87fc2fc8",
       "version_major": 2,
       "version_minor": 0
      },
      "text/plain": [
       "HBox(children=(FloatProgress(value=0.0, max=9.0), HTML(value='')))"
      ]
     },
     "metadata": {},
     "output_type": "display_data"
    },
    {
     "name": "stdout",
     "output_type": "stream",
     "text": [
      "\n",
      "Decomposing first pass: 1.9269356727600098\n",
      "Attempting to use MeshAfterParty Skeletonization and Mesh Correspondence\n",
      "Another print\n",
      "Found len(mesh_large_idx) MAP candidates: [10333, 6086, 2781, 6921]\n",
      "mesh_large_connectivity: 0.04556560516357422\n",
      "Finding MAP candidates connected components: 0.00011444091796875\n",
      "len(filtered_pieces) = 1\n",
      "skeleton_connectivity_MP : 0.11069273948669434\n",
      "Grouping MP Sublimbs by Graph: 0.025078535079956055\n",
      "Divinding into MP and MAP pieces: 1.1920928955078125e-06\n",
      "--- Working on MAP piece 0---\n",
      "MAP Filtering Soma Pieces: 0.00513768196105957\n",
      "inside skeletonize_connected_branch and use_surface_after_CGAL=False, surface_reconstruction_size=1000\n",
      "     Starting Screened Poisson\n",
      "xvfb-run -n 7691 -s \"-screen 0 800x600x24\" meshlabserver $@  -i /notebooks/Platinum_Decomp_Fusion/temp/None.off -o /notebooks/Platinum_Decomp_Fusion/temp/None_poisson.off -s /notebooks/Platinum_Decomp_Fusion/temp/poisson_842421.mls\n",
      "removed temporary input file: /notebooks/Platinum_Decomp_Fusion/temp/None.off\n",
      "removed temporary output file: /notebooks/Platinum_Decomp_Fusion/temp/None_poisson.off\n",
      "Using the close holes feature\n",
      "xvfb-run -n 6863 -s \"-screen 0 800x600x24\" meshlabserver $@  -i /notebooks/Platinum_Decomp_Fusion/temp/neuron_97883.off -o /notebooks/Platinum_Decomp_Fusion/temp/neuron_97883_fill_holes.off -s /notebooks/Platinum_Decomp_Fusion/temp/fill_holes_575238.mls\n",
      "removed temporary input file: /notebooks/Platinum_Decomp_Fusion/temp/neuron_97883.off\n",
      "removed temporary output file: /notebooks/Platinum_Decomp_Fusion/temp/neuron_97883_fill_holes.off\n",
      "-----Time for Screened Poisson= 12.897108316421509\n",
      "     Starting Calcification\n"
     ]
    },
    {
     "data": {
      "application/vnd.jupyter.widget-view+json": {
       "model_id": "cfbf65389f5c410eba0720854aefeab0",
       "version_major": 2,
       "version_minor": 0
      },
      "text/plain": [
       "HBox(children=(FloatProgress(value=1.0, bar_style='info', max=1.0), HTML(value='')))"
      ]
     },
     "metadata": {},
     "output_type": "display_data"
    },
    {
     "name": "stdout",
     "output_type": "stream",
     "text": [
      "\n",
      "No skeletons to stack so returning empty list\n",
      "len_subgraphs AT BEGINNING of the loop\n"
     ]
    },
    {
     "data": {
      "application/vnd.jupyter.widget-view+json": {
       "model_id": "97dea69250b343d490b6b80896aaa080",
       "version_major": 2,
       "version_minor": 0
      },
      "text/plain": [
       "HBox(children=(FloatProgress(value=0.0, max=1.0), HTML(value='')))"
      ]
     },
     "metadata": {},
     "output_type": "display_data"
    },
    {
     "name": "stdout",
     "output_type": "stream",
     "text": [
      "all graph is one component!\n",
      "\n",
      "Total time for skeleton stitching = 0.028506040573120117\n",
      "The process was using a temp folder\n",
      "Checking connected components after skeletonize_connected_branch\n",
      "    Total time for skeletonizing branch: 15.443816661834717\n",
      "Checking connected components after removing cycles\n",
      "Total time for mesh KDTree = 0.1748659610748291\n",
      "sbv[0].reshape(-1,3) = [[1476154.   489020.   926475.1]]\n",
      "closest_sk_pt_coord BEFORE = [1476260.  489906.  925821.]\n",
      "current_skeleton.shape = (260, 2, 3)\n",
      "Current stitch point was a branch or endpoint\n",
      "change_status for create soma extending pieces = False\n",
      "closest_sk_pt_coord AFTER = [1476260.  489906.  925821.]\n",
      "skipping soma 0 because closest skeleton node was already end node\n",
      "endpoints_must_keep = {0: array([[1476260.,  489906.,  925821.]])}\n",
      "    Total time for Fixing Skeleton Soma Endpoint Extension : 0.2627692222595215\n",
      "filter_end_node_length = 4001\n",
      "Using Distance measure skeletal_distance\n",
      "endpoints_must_keep = [[1476260.  489906.  925821.]]\n",
      "Number of end_nodes BEFORE filtering = 20\n",
      "all_single_nodes_to_eliminate = [0]\n"
     ]
    },
    {
     "data": {
      "application/vnd.jupyter.widget-view+json": {
       "model_id": "adafb6580bc04ec18423b2d1421638b8",
       "version_major": 2,
       "version_minor": 0
      },
      "text/plain": [
       "HBox(children=(FloatProgress(value=0.0, max=18.0), HTML(value='')))"
      ]
     },
     "metadata": {},
     "output_type": "display_data"
    },
    {
     "name": "stdout",
     "output_type": "stream",
     "text": [
      "\n",
      "Checking connected components after clean_skeleton\n",
      "after DISTANCE cleaning limb size of skeleton = (210, 2, 3)\n",
      "********COMBINING CLOSE SKELETON NODES WITHIN 700 DISTANCE**********\n",
      "Found 0 valid paths to replace\n",
      "valid_paths = []\n",
      "valid_path_lengths = []\n",
      "No valid paths found so just returning the original\n",
      "skeletonize_and_clean_connected_branch_CGAL: 15.902483701705933\n",
      "Working on limb correspondence for #0 MAP piece\n"
     ]
    },
    {
     "data": {
      "application/vnd.jupyter.widget-view+json": {
       "model_id": "fb9ef50d50f3470b9d84f4711dba5abb",
       "version_major": 2,
       "version_minor": 0
      },
      "text/plain": [
       "HBox(children=(FloatProgress(value=1.0, bar_style='info', max=1.0), HTML(value='')))"
      ]
     },
     "metadata": {},
     "output_type": "display_data"
    },
    {
     "name": "stdout",
     "output_type": "stream",
     "text": [
      "\n",
      "Total time for decomposition = 1.7775216102600098\n",
      "mesh_correspondence_first_pass: 1.7775497436523438\n",
      "Limb decomposed into 3 branches\n",
      "divided_skeleton_graph_recovered = (210, 2, 3) and \n",
      "current_mesh_data[0]['branch_skeletons_cleaned'].shape = (210, 2, 3)\n",
      "\n",
      "Number of connected components in deocmposed recovered graph = 1\n",
      "Number of connected components in cleaned skeleton graph= 1\n",
      "The downsampled branches number of connected components = 1\n",
      "Empty submeshes = []\n",
      "\n",
      "\n",
      "--- Working on 1-to-1 correspondence-----\n",
      "max(original_labels),len(original_labels) = (2, 3)\n",
      "empty_indices % = 0.03847479039852992\n",
      " conflict_indices % = 0.020826155200796295\n"
     ]
    },
    {
     "data": {
      "application/vnd.jupyter.widget-view+json": {
       "model_id": "662109d7cd57461a879abc0441e71043",
       "version_major": 2,
       "version_minor": 0
      },
      "text/plain": [
       "HBox(children=(FloatProgress(value=0.0, max=13.0), HTML(value='')))"
      ]
     },
     "metadata": {},
     "output_type": "display_data"
    },
    {
     "name": "stdout",
     "output_type": "stream",
     "text": [
      "\n",
      "AFTER face_lookup_resolved_test\n",
      "Took 0 iterations to expand the label back\n"
     ]
    },
    {
     "data": {
      "application/vnd.jupyter.widget-view+json": {
       "model_id": "ba80a86729384867bc97804e8f06cb2d",
       "version_major": 2,
       "version_minor": 0
      },
      "text/plain": [
       "HBox(children=(FloatProgress(value=0.0, max=3.0), HTML(value='')))"
      ]
     },
     "metadata": {},
     "output_type": "display_data"
    },
    {
     "name": "stdout",
     "output_type": "stream",
     "text": [
      "\n",
      "Total time for MAP sublimb #0 mesh processing = 18.243271827697754\n",
      "correspondence_1_to_1: 0.5580527782440186\n",
      "Total time for MAP sublimb processing 18.243353843688965\n",
      "---- Working on MP Decomposition #0 ----\n",
      "MP filtering soma verts: 0.006047248840332031\n",
      "Do Not Need to Fix MP Decomposition 0 so just continuing\n",
      "---- Working on MP Decomposition #1 ----\n",
      "MP filtering soma verts: 0.002769947052001953\n",
      "Do Not Need to Fix MP Decomposition 1 so just continuing\n",
      "---- Working on MP Decomposition #2 ----\n",
      "MP filtering soma verts: 0.0030241012573242188\n",
      "Do Not Need to Fix MP Decomposition 2 so just continuing\n",
      "\n",
      "---- Working on (0, 0) connection-----\n",
      "winning_vertex = [1525633.88096506  512217.40304289  918458.05756689]\n",
      "MP_branches_with_stitch_point = [0, 1]\n",
      "Current stitch point was a branch or endpoint\n",
      "MAP_branches_with_stitch_point = [2]\n",
      "MAP_stitch_point_on_end_or_branch = True\n",
      "Found winning edge: [4, 6.0]\n",
      "in remove edge\n",
      "Found winning edge: [7, 8.0]\n",
      "in remove edge\n"
     ]
    },
    {
     "data": {
      "application/vnd.jupyter.widget-view+json": {
       "model_id": "3cda2157ab394ef4ab471810c7d5f15a",
       "version_major": 2,
       "version_minor": 0
      },
      "text/plain": [
       "HBox(children=(FloatProgress(value=1.0, bar_style='info', max=1.0), HTML(value='')))"
      ]
     },
     "metadata": {},
     "output_type": "display_data"
    },
    {
     "name": "stdout",
     "output_type": "stream",
     "text": [
      "\n",
      "\n",
      "\n",
      "--- Working on 1-to-1 correspondence-----\n",
      "max(original_labels),len(original_labels) = (2, 3)\n",
      "empty_indices % = 0.04129375914773136\n",
      " conflict_indices % = 0.011349185402020298\n"
     ]
    },
    {
     "data": {
      "application/vnd.jupyter.widget-view+json": {
       "model_id": "7f9ad6a4971f4dc4aa614f2b5f85eb5f",
       "version_major": 2,
       "version_minor": 0
      },
      "text/plain": [
       "HBox(children=(FloatProgress(value=0.0, max=16.0), HTML(value='')))"
      ]
     },
     "metadata": {},
     "output_type": "display_data"
    },
    {
     "name": "stdout",
     "output_type": "stream",
     "text": [
      "\n",
      "AFTER face_lookup_resolved_test\n"
     ]
    },
    {
     "data": {
      "application/vnd.jupyter.widget-view+json": {
       "model_id": "538f41ace5034019a7749004e2e45a96",
       "version_major": 2,
       "version_minor": 0
      },
      "text/plain": [
       "HBox(children=(FloatProgress(value=0.0, max=3.0), HTML(value='')))"
      ]
     },
     "metadata": {},
     "output_type": "display_data"
    },
    {
     "name": "stdout",
     "output_type": "stream",
     "text": [
      "\n",
      " Finished with (0, 0) \n",
      "\n",
      "\n",
      "\n",
      "\n",
      "---- Working on (1, 0) connection-----\n",
      "winning_vertex = [1513317.33719654  514868.69137395  891782.85698739]\n",
      "MP_branches_with_stitch_point = [0, 1]\n",
      "Current stitch point was not a branch or endpoint, shortest_path_length to one = 240.6595105122588\n",
      "Changing the stitch point becasue the distance to end or branch node was 240.6595105122588\n",
      "New stitch point has degree 1\n",
      "MAP_branches_with_stitch_point = [1]\n",
      "MAP_stitch_point_on_end_or_branch = True\n",
      "Using max stitch distance (300) for smoothing because stitch_distance greater (487.0316898285669) \n",
      "Found winning edge: [215, 216.0]\n",
      "in remove edge\n",
      "Using max stitch distance (300) for smoothing because stitch_distance greater (434.0905548825333) \n",
      "Found winning edge: [46, 47.0]\n",
      "in remove edge\n"
     ]
    },
    {
     "data": {
      "application/vnd.jupyter.widget-view+json": {
       "model_id": "3d21863fa4a34378bb888b19c420a33a",
       "version_major": 2,
       "version_minor": 0
      },
      "text/plain": [
       "HBox(children=(FloatProgress(value=1.0, bar_style='info', max=1.0), HTML(value='')))"
      ]
     },
     "metadata": {},
     "output_type": "display_data"
    },
    {
     "name": "stdout",
     "output_type": "stream",
     "text": [
      "\n",
      "\n",
      "\n",
      "--- Working on 1-to-1 correspondence-----\n",
      "max(original_labels),len(original_labels) = (2, 3)\n",
      "empty_indices % = 0.042134484885872917\n",
      " conflict_indices % = 0.017088217149907464\n"
     ]
    },
    {
     "data": {
      "application/vnd.jupyter.widget-view+json": {
       "model_id": "656aad24fa14481d9d1f3116e0b8e72e",
       "version_major": 2,
       "version_minor": 0
      },
      "text/plain": [
       "HBox(children=(FloatProgress(value=0.0, max=12.0), HTML(value='')))"
      ]
     },
     "metadata": {},
     "output_type": "display_data"
    },
    {
     "name": "stdout",
     "output_type": "stream",
     "text": [
      "\n",
      "AFTER face_lookup_resolved_test\n"
     ]
    },
    {
     "data": {
      "application/vnd.jupyter.widget-view+json": {
       "model_id": "4e2324f011a74c03805c2247b55d11fe",
       "version_major": 2,
       "version_minor": 0
      },
      "text/plain": [
       "HBox(children=(FloatProgress(value=0.0, max=3.0), HTML(value='')))"
      ]
     },
     "metadata": {},
     "output_type": "display_data"
    },
    {
     "name": "stdout",
     "output_type": "stream",
     "text": [
      "\n",
      " Finished with (1, 0) \n",
      "\n",
      "\n",
      "\n",
      "\n",
      "---- Working on (2, 0) connection-----\n",
      "winning_vertex = [1497769.77261041  505319.51602996  917438.71700501]\n",
      "MP_branches_with_stitch_point = [0]\n",
      "Current stitch point was not a branch or endpoint, shortest_path_length to one = 14013.090090588135\n",
      "MAP_branches_with_stitch_point = [1]\n",
      "MAP_stitch_point_on_end_or_branch = False\n",
      "Using max stitch distance (300) for smoothing because stitch_distance greater (718.7392154728599) \n",
      "Found winning edge: [226, 236.0]\n",
      "in remove edge\n"
     ]
    },
    {
     "data": {
      "application/vnd.jupyter.widget-view+json": {
       "model_id": "48c34f40987a4e58921bdcc2b5391149",
       "version_major": 2,
       "version_minor": 0
      },
      "text/plain": [
       "HBox(children=(FloatProgress(value=1.0, bar_style='info', max=1.0), HTML(value='')))"
      ]
     },
     "metadata": {},
     "output_type": "display_data"
    },
    {
     "name": "stdout",
     "output_type": "stream",
     "text": [
      "\n",
      "\n",
      "\n",
      "--- Working on 1-to-1 correspondence-----\n",
      "max(original_labels),len(original_labels) = (2, 3)\n",
      "empty_indices % = 0.022558459422283357\n",
      " conflict_indices % = 0.008174494006681077\n"
     ]
    },
    {
     "data": {
      "application/vnd.jupyter.widget-view+json": {
       "model_id": "200c7e71a6a44a369739f827471fc0e2",
       "version_major": 2,
       "version_minor": 0
      },
      "text/plain": [
       "HBox(children=(FloatProgress(value=0.0, max=9.0), HTML(value='')))"
      ]
     },
     "metadata": {},
     "output_type": "display_data"
    },
    {
     "name": "stdout",
     "output_type": "stream",
     "text": [
      "\n",
      "AFTER face_lookup_resolved_test\n"
     ]
    },
    {
     "data": {
      "application/vnd.jupyter.widget-view+json": {
       "model_id": "75657fe392194c7e9dc395ec0862d711",
       "version_major": 2,
       "version_minor": 0
      },
      "text/plain": [
       "HBox(children=(FloatProgress(value=0.0, max=3.0), HTML(value='')))"
      ]
     },
     "metadata": {},
     "output_type": "display_data"
    },
    {
     "name": "stderr",
     "output_type": "stream",
     "text": [
      "\r",
      "  0%|          | 0/1 [00:00<?, ?it/s]"
     ]
    },
    {
     "name": "stdout",
     "output_type": "stream",
     "text": [
      "\n",
      "Deleting branches from dictionary\n",
      " Finished with (2, 0) \n",
      "\n",
      "\n",
      "\n",
      "Time for decomp of Limb = 33.434072732925415\n",
      "\n",
      "\n",
      "----- Working on Proper Limb # 4 ---------\n",
      "meshparty_segment_size = 100\n",
      "Time for preparing soma vertices and root: 5.245208740234375e-06\n",
      "cc_vertex_thresh = 10\n"
     ]
    },
    {
     "data": {
      "application/vnd.jupyter.widget-view+json": {
       "model_id": "931a6a74807145468807993f8e8557ca",
       "version_major": 2,
       "version_minor": 0
      },
      "text/plain": [
       "HBox(children=(FloatProgress(value=0.0, max=40205.0), HTML(value='')))"
      ]
     },
     "metadata": {},
     "output_type": "display_data"
    },
    {
     "name": "stderr",
     "output_type": "stream",
     "text": [
      "100%|██████████| 1/1 [00:00<00:00,  4.22it/s]"
     ]
    },
    {
     "name": "stdout",
     "output_type": "stream",
     "text": [
      "\n"
     ]
    },
    {
     "name": "stderr",
     "output_type": "stream",
     "text": [
      "\n"
     ]
    },
    {
     "name": "stdout",
     "output_type": "stream",
     "text": [
      "Time for 1st pass MP skeletonization: 0.6307177543640137\n",
      "connecting at the root\n",
      "branches_touching_root = [6]\n",
      "length of Graph = 4010\n",
      "max(kept_branches_idx) = 6, len(kept_branches_idx) = 7\n",
      "empty_indices % = 0.0\n",
      " conflict_indices % = 0.004458225924957348\n"
     ]
    },
    {
     "data": {
      "application/vnd.jupyter.widget-view+json": {
       "model_id": "b5fc1de065e849bfbf8ee8ff0b5c8cc4",
       "version_major": 2,
       "version_minor": 0
      },
      "text/plain": [
       "HBox(children=(FloatProgress(value=0.0, max=4.0), HTML(value='')))"
      ]
     },
     "metadata": {},
     "output_type": "display_data"
    },
    {
     "name": "stdout",
     "output_type": "stream",
     "text": [
      "\n",
      "AFTER face_lookup_resolved_test\n"
     ]
    },
    {
     "data": {
      "application/vnd.jupyter.widget-view+json": {
       "model_id": "2ba613eba5d743c8aa2d445fc61c8c4a",
       "version_major": 2,
       "version_minor": 0
      },
      "text/plain": [
       "HBox(children=(FloatProgress(value=0.0, max=7.0), HTML(value='')))"
      ]
     },
     "metadata": {},
     "output_type": "display_data"
    },
    {
     "name": "stdout",
     "output_type": "stream",
     "text": [
      "\n",
      "Decomposing first pass: 2.8886711597442627\n",
      "Attempting to use MeshAfterParty Skeletonization and Mesh Correspondence\n",
      "Another print\n",
      "Found len(mesh_large_idx) MAP candidates: [4877, 6576]\n",
      "mesh_large_connectivity: 0.035833120346069336\n",
      "Finding MAP candidates connected components: 0.00011348724365234375\n",
      "len(filtered_pieces) = 1\n",
      "skeleton_connectivity_MP : 0.1638944149017334\n",
      "Grouping MP Sublimbs by Graph: 0.03178763389587402\n",
      "Divinding into MP and MAP pieces: 9.5367431640625e-07\n",
      "--- Working on MAP piece 0---\n",
      "MAP Filtering Soma Pieces: 0.004912614822387695\n",
      "inside skeletonize_connected_branch and use_surface_after_CGAL=False, surface_reconstruction_size=1000\n",
      "     Starting Screened Poisson\n",
      "xvfb-run -n 8087 -s \"-screen 0 800x600x24\" meshlabserver $@  -i /notebooks/Platinum_Decomp_Fusion/temp/None.off -o /notebooks/Platinum_Decomp_Fusion/temp/None_poisson.off -s /notebooks/Platinum_Decomp_Fusion/temp/poisson_381644.mls\n",
      "removed temporary input file: /notebooks/Platinum_Decomp_Fusion/temp/None.off\n",
      "removed temporary output file: /notebooks/Platinum_Decomp_Fusion/temp/None_poisson.off\n",
      "Using the close holes feature\n",
      "xvfb-run -n 246 -s \"-screen 0 800x600x24\" meshlabserver $@  -i /notebooks/Platinum_Decomp_Fusion/temp/neuron_94736.off -o /notebooks/Platinum_Decomp_Fusion/temp/neuron_94736_fill_holes.off -s /notebooks/Platinum_Decomp_Fusion/temp/fill_holes_54739.mls\n",
      "removed temporary input file: /notebooks/Platinum_Decomp_Fusion/temp/neuron_94736.off\n",
      "removed temporary output file: /notebooks/Platinum_Decomp_Fusion/temp/neuron_94736_fill_holes.off\n",
      "-----Time for Screened Poisson= 7.244189977645874\n",
      "     Starting Calcification\n"
     ]
    },
    {
     "data": {
      "application/vnd.jupyter.widget-view+json": {
       "model_id": "34868e7f170b4852ab91494ad4370ea3",
       "version_major": 2,
       "version_minor": 0
      },
      "text/plain": [
       "HBox(children=(FloatProgress(value=1.0, bar_style='info', max=1.0), HTML(value='')))"
      ]
     },
     "metadata": {},
     "output_type": "display_data"
    },
    {
     "name": "stdout",
     "output_type": "stream",
     "text": [
      "\n",
      "No skeletons to stack so returning empty list\n",
      "len_subgraphs AT BEGINNING of the loop\n"
     ]
    },
    {
     "data": {
      "application/vnd.jupyter.widget-view+json": {
       "model_id": "494019fe24a8432d803ccb63f7b235a7",
       "version_major": 2,
       "version_minor": 0
      },
      "text/plain": [
       "HBox(children=(FloatProgress(value=0.0, max=1.0), HTML(value='')))"
      ]
     },
     "metadata": {},
     "output_type": "display_data"
    },
    {
     "name": "stdout",
     "output_type": "stream",
     "text": [
      "all graph is one component!\n",
      "\n",
      "Total time for skeleton stitching = 0.023630857467651367\n",
      "The process was using a temp folder\n",
      "Checking connected components after skeletonize_connected_branch\n",
      "    Total time for skeletonizing branch: 8.249744415283203\n",
      "Checking connected components after removing cycles\n",
      "Total time for mesh KDTree = 0.09697914123535156\n",
      "sbv[0].reshape(-1,3) = [[1464108.   490829.7  926242.8]]\n",
      "closest_sk_pt_coord BEFORE = [1463800.  490948.  925954.]\n",
      "current_skeleton.shape = (105, 2, 3)\n",
      "Current stitch point was not a branch or endpoint, shortest_path_length to one = 885.6155086948013\n",
      "Changing the stitch point becasue the distance to end or branch node was 885.6155086948013\n",
      "New stitch point has degree 1\n",
      "change_status for create soma extending pieces = True\n",
      "closest_sk_pt_coord AFTER = [1464480.  490996.  926482.]\n",
      "skipping soma 0 because closest skeleton node was already end node\n",
      "sbv[0].reshape(-1,3) = [[1464647.   490499.3  926734. ]]\n",
      "closest_sk_pt_coord BEFORE = [1464480.  490996.  926482.]\n",
      "current_skeleton.shape = (105, 2, 3)\n",
      "Current stitch point was a branch or endpoint\n",
      "change_status for create soma extending pieces = False\n",
      "closest_sk_pt_coord AFTER = [1464480.  490996.  926482.]\n",
      "skipping soma 0 because closest skeleton node was already end node\n",
      "endpoints_must_keep = {0: array([[1464480.,  490996.,  926482.],\n",
      "       [1464480.,  490996.,  926482.]])}\n",
      "    Total time for Fixing Skeleton Soma Endpoint Extension : 0.1810002326965332\n",
      "filter_end_node_length = 4001\n",
      "Using Distance measure skeletal_distance\n",
      "endpoints_must_keep = [[1464480.  490996.  926482.]\n",
      " [1464480.  490996.  926482.]]\n",
      "Number of end_nodes BEFORE filtering = 10\n",
      "all_single_nodes_to_eliminate = [9, 9]\n"
     ]
    },
    {
     "data": {
      "application/vnd.jupyter.widget-view+json": {
       "model_id": "cbab01ed2eff48f098723c263e92ef12",
       "version_major": 2,
       "version_minor": 0
      },
      "text/plain": [
       "HBox(children=(FloatProgress(value=0.0, max=8.0), HTML(value='')))"
      ]
     },
     "metadata": {},
     "output_type": "display_data"
    },
    {
     "name": "stdout",
     "output_type": "stream",
     "text": [
      "\n",
      "Checking connected components after clean_skeleton\n",
      "after DISTANCE cleaning limb size of skeleton = (92, 2, 3)\n",
      "********COMBINING CLOSE SKELETON NODES WITHIN 700 DISTANCE**********\n",
      "Found 0 valid paths to replace\n",
      "valid_paths = []\n",
      "valid_path_lengths = []\n",
      "No valid paths found so just returning the original\n",
      "skeletonize_and_clean_connected_branch_CGAL: 8.520522117614746\n",
      "Working on limb correspondence for #0 MAP piece\n"
     ]
    },
    {
     "data": {
      "application/vnd.jupyter.widget-view+json": {
       "model_id": "9404344fde2049aeb932c30ac9b08ce7",
       "version_major": 2,
       "version_minor": 0
      },
      "text/plain": [
       "HBox(children=(FloatProgress(value=1.0, bar_style='info', max=1.0), HTML(value='')))"
      ]
     },
     "metadata": {},
     "output_type": "display_data"
    },
    {
     "name": "stdout",
     "output_type": "stream",
     "text": [
      "\n",
      "Total time for decomposition = 0.6725246906280518\n",
      "mesh_correspondence_first_pass: 0.672553300857544\n",
      "Limb decomposed into 1 branches\n",
      "divided_skeleton_graph_recovered = (92, 2, 3) and \n",
      "current_mesh_data[0]['branch_skeletons_cleaned'].shape = (92, 2, 3)\n",
      "\n",
      "Number of connected components in deocmposed recovered graph = 1\n",
      "Number of connected components in cleaned skeleton graph= 1\n",
      "The downsampled branches number of connected components = 1\n",
      "Empty submeshes = []\n",
      "\n",
      "\n",
      "--- Working on 1-to-1 correspondence-----\n",
      "max(original_labels),len(original_labels) = (0, 1)\n",
      "empty_indices % = 0.053348467650397274\n",
      " conflict_indices % = 0.0\n"
     ]
    },
    {
     "data": {
      "application/vnd.jupyter.widget-view+json": {
       "model_id": "b575acd6fd69433fb404e54c3f119a30",
       "version_major": 2,
       "version_minor": 0
      },
      "text/plain": [
       "HBox(children=(FloatProgress(value=0.0, max=5.0), HTML(value='')))"
      ]
     },
     "metadata": {},
     "output_type": "display_data"
    },
    {
     "name": "stdout",
     "output_type": "stream",
     "text": [
      "\n",
      "AFTER face_lookup_resolved_test\n",
      "Took 0 iterations to expand the label back\n",
      "Took 0 iterations to expand the label back\n"
     ]
    },
    {
     "data": {
      "application/vnd.jupyter.widget-view+json": {
       "model_id": "7cdc77e66c67401eaf6d8980a106d155",
       "version_major": 2,
       "version_minor": 0
      },
      "text/plain": [
       "HBox(children=(FloatProgress(value=0.0, max=1.0), HTML(value='')))"
      ]
     },
     "metadata": {},
     "output_type": "display_data"
    },
    {
     "name": "stdout",
     "output_type": "stream",
     "text": [
      "\n",
      "Total time for MAP sublimb #0 mesh processing = 10.372652769088745\n",
      "correspondence_1_to_1: 1.1746337413787842\n",
      "Total time for MAP sublimb processing 10.372745037078857\n",
      "---- Working on MP Decomposition #0 ----\n",
      "MP filtering soma verts: 0.006174564361572266\n",
      "Do Not Need to Fix MP Decomposition 0 so just continuing\n",
      "---- Working on MP Decomposition #1 ----\n",
      "MP filtering soma verts: 0.00408172607421875\n",
      "Do Not Need to Fix MP Decomposition 1 so just continuing\n",
      "\n",
      "---- Working on (0, 0) connection-----\n",
      "winning_vertex = [1453078.53686562  507168.37753404  921354.12733605]\n",
      "MP_branches_with_stitch_point = [1]\n",
      "Current stitch point was not a branch or endpoint, shortest_path_length to one = 20742.552010542247\n",
      "MAP_branches_with_stitch_point = [0]\n",
      "MAP_stitch_point_on_end_or_branch = False\n",
      "Using max stitch distance (300) for smoothing because stitch_distance greater (369.95337113164965) \n",
      "Found winning edge: [993, 995.0]\n",
      "in remove edge\n"
     ]
    },
    {
     "data": {
      "application/vnd.jupyter.widget-view+json": {
       "model_id": "2bb9f3887bee45e2ba99b0bf2e1e04a0",
       "version_major": 2,
       "version_minor": 0
      },
      "text/plain": [
       "HBox(children=(FloatProgress(value=1.0, bar_style='info', max=1.0), HTML(value='')))"
      ]
     },
     "metadata": {},
     "output_type": "display_data"
    },
    {
     "name": "stdout",
     "output_type": "stream",
     "text": [
      "\n",
      "\n",
      "\n",
      "--- Working on 1-to-1 correspondence-----\n",
      "max(original_labels),len(original_labels) = (2, 3)\n",
      "empty_indices % = 0.04456164729661445\n",
      " conflict_indices % = 0.021128094997473472\n"
     ]
    },
    {
     "data": {
      "application/vnd.jupyter.widget-view+json": {
       "model_id": "0998a283847e4c65882a77471d61c1cc",
       "version_major": 2,
       "version_minor": 0
      },
      "text/plain": [
       "HBox(children=(FloatProgress(value=0.0, max=12.0), HTML(value='')))"
      ]
     },
     "metadata": {},
     "output_type": "display_data"
    },
    {
     "name": "stdout",
     "output_type": "stream",
     "text": [
      "\n",
      "AFTER face_lookup_resolved_test\n"
     ]
    },
    {
     "data": {
      "application/vnd.jupyter.widget-view+json": {
       "model_id": "feff00a5928041218f4a248c58add556",
       "version_major": 2,
       "version_minor": 0
      },
      "text/plain": [
       "HBox(children=(FloatProgress(value=0.0, max=3.0), HTML(value='')))"
      ]
     },
     "metadata": {},
     "output_type": "display_data"
    },
    {
     "name": "stdout",
     "output_type": "stream",
     "text": [
      "\n",
      "Deleting branches from dictionary\n",
      " Finished with (0, 0) \n",
      "\n",
      "\n",
      "\n",
      "\n",
      "---- Working on (1, 0) connection-----\n",
      "winning_vertex = [1436046.73067666  505224.11426762  910396.43991277]\n",
      "MP_branches_with_stitch_point = [0, 1]\n",
      "Current stitch point was a branch or endpoint\n",
      "MAP_branches_with_stitch_point = [0]\n",
      "MAP_stitch_point_on_end_or_branch = True\n",
      "Using max stitch distance (300) for smoothing because stitch_distance greater (1636.5464717220334) \n",
      "Found winning edge: [668, 670.0]\n",
      "in remove edge\n",
      "Using max stitch distance (300) for smoothing because stitch_distance greater (1683.3840065322163) \n",
      "Found winning edge: [930, 931.0]\n",
      "in remove edge\n"
     ]
    },
    {
     "data": {
      "application/vnd.jupyter.widget-view+json": {
       "model_id": "b4bca0a8e6084c2e9ff71eaf28968838",
       "version_major": 2,
       "version_minor": 0
      },
      "text/plain": [
       "HBox(children=(FloatProgress(value=1.0, bar_style='info', max=1.0), HTML(value='')))"
      ]
     },
     "metadata": {},
     "output_type": "display_data"
    },
    {
     "name": "stdout",
     "output_type": "stream",
     "text": [
      "\n",
      "\n",
      "\n",
      "--- Working on 1-to-1 correspondence-----\n",
      "max(original_labels),len(original_labels) = (2, 3)\n",
      "empty_indices % = 0.020471383948163255\n",
      " conflict_indices % = 0.01375945478483104\n"
     ]
    },
    {
     "data": {
      "application/vnd.jupyter.widget-view+json": {
       "model_id": "0f009b4a5bec442d8df34e82ecaf6d8d",
       "version_major": 2,
       "version_minor": 0
      },
      "text/plain": [
       "HBox(children=(FloatProgress(value=0.0, max=9.0), HTML(value='')))"
      ]
     },
     "metadata": {},
     "output_type": "display_data"
    },
    {
     "name": "stdout",
     "output_type": "stream",
     "text": [
      "\n",
      "AFTER face_lookup_resolved_test\n"
     ]
    },
    {
     "data": {
      "application/vnd.jupyter.widget-view+json": {
       "model_id": "1f8e69600b5e4bf78f0fd99f00713b8a",
       "version_major": 2,
       "version_minor": 0
      },
      "text/plain": [
       "HBox(children=(FloatProgress(value=0.0, max=3.0), HTML(value='')))"
      ]
     },
     "metadata": {},
     "output_type": "display_data"
    },
    {
     "name": "stdout",
     "output_type": "stream",
     "text": [
      "\n",
      " Finished with (1, 0) \n",
      "\n",
      "\n",
      "\n",
      "Time for decomp of Limb = 27.63240623474121\n",
      "Total time for Skeletonization and Mesh Correspondence = 527.1725187301636\n",
      "\n",
      "\n",
      " ----- Working on Stitching ----------\n",
      "Status of Main limb stitch point moved = False\n",
      "Status of Main limb stitch point moved = False\n",
      "Total time for stitching floating pieces = 15.703177452087402\n",
      "Starting_edge inside branches_to_conept = [[1469360.  471030.  930449.]\n",
      " [1471260.  474148.  927345.]]\n",
      "At the start, starting_node (in terms of the skeleton, that shouldn't match the starting edge) = [345]\n",
      "printing out current edge:\n",
      "[[1471260.  474148.  927345.]\n",
      " [1469360.  471030.  930449.]]\n",
      "edge_endpoints_to_process was empty so exiting loop after 511 iterations\n",
      "starting_node in concept map (that should match the starting edge) = 5\n",
      "Total time for branches to concept conversion = 8.463637351989746\n",
      "\n",
      "Done generating concept network \n",
      "\n",
      "\n",
      "recovered_touching_piece = [5]\n",
      "Starting_edge inside branches_to_conept = [[1450770.  479795.  914716.]\n",
      " [1463360.  478674.  925166.]]\n",
      "At the start, starting_node (in terms of the skeleton, that shouldn't match the starting edge) = [318]\n",
      "printing out current edge:\n",
      "[[1463360.  478674.  925166.]\n",
      " [1450770.  479795.  914716.]]\n",
      "edge_endpoints_to_process was empty so exiting loop after 511 iterations\n",
      "starting_node in concept map (that should match the starting edge) = 8\n",
      "Total time for branches to concept conversion = 8.47187328338623\n",
      "\n",
      "Done generating concept network \n",
      "\n",
      "\n",
      "recovered_touching_piece = [8]\n",
      "Starting_edge inside branches_to_conept = [[1468240.  493705.  930158.]\n",
      " [1468740.  493891.  930021.]]\n",
      "At the start, starting_node (in terms of the skeleton, that shouldn't match the starting edge) = [23]\n",
      "printing out current edge:\n",
      "[[1468240.  493705.  930158.]\n",
      " [1468740.  493891.  930021.]]\n",
      "edge_endpoints_to_process was empty so exiting loop after 26 iterations\n",
      "starting_node in concept map (that should match the starting edge) = 6\n",
      "Total time for branches to concept conversion = 1.0510189533233643\n",
      "\n",
      "Done generating concept network \n",
      "\n",
      "\n",
      "recovered_touching_piece = [6]\n",
      "Starting_edge inside branches_to_conept = [[1476130.  482506.  920301.]\n",
      " [1487870.  480902.  902200.]]\n",
      "At the start, starting_node (in terms of the skeleton, that shouldn't match the starting edge) = [38]\n",
      "printing out current edge:\n",
      "[[1476130.  482506.  920301.]\n",
      " [1487870.  480902.  902200.]]\n",
      "edge_endpoints_to_process was empty so exiting loop after 53 iterations\n",
      "starting_node in concept map (that should match the starting edge) = 0\n",
      "Total time for branches to concept conversion = 1.0769567489624023\n",
      "\n",
      "Done generating concept network \n",
      "\n",
      "\n",
      "recovered_touching_piece = [0]\n",
      "Starting_edge inside branches_to_conept = [[1476260.  489906.  925821.]\n",
      " [1493040.  496452.  925398.]]\n",
      "At the start, starting_node (in terms of the skeleton, that shouldn't match the starting edge) = [0]\n",
      "printing out current edge:\n",
      "[[1476260.  489906.  925821.]\n",
      " [1493040.  496452.  925398.]]\n",
      "edge_endpoints_to_process was empty so exiting loop after 9 iterations\n",
      "starting_node in concept map (that should match the starting edge) = 0\n",
      "Total time for branches to concept conversion = 0.2215585708618164\n",
      "\n",
      "Done generating concept network \n",
      "\n",
      "\n",
      "recovered_touching_piece = [0]\n",
      "Starting_edge inside branches_to_conept = [[1453050.  506825.  921270.]\n",
      " [1464480.  490996.  926482.]]\n",
      "At the start, starting_node (in terms of the skeleton, that shouldn't match the starting edge) = [7]\n",
      "printing out current edge:\n",
      "[[1464480.  490996.  926482.]\n",
      " [1453050.  506825.  921270.]]\n",
      "edge_endpoints_to_process was empty so exiting loop after 7 iterations\n",
      "starting_node in concept map (that should match the starting edge) = 1\n",
      "Total time for branches to concept conversion = 0.297382116317749\n",
      "\n",
      "Done generating concept network \n",
      "\n",
      "\n",
      "recovered_touching_piece = [1]\n",
      "Starting_edge inside branches_to_conept = [[1453050.  506825.  921270.]\n",
      " [1464480.  490996.  926482.]]\n",
      "At the start, starting_node (in terms of the skeleton, that shouldn't match the starting edge) = [7]\n",
      "printing out current edge:\n",
      "[[1464480.  490996.  926482.]\n",
      " [1453050.  506825.  921270.]]\n",
      "edge_endpoints_to_process was empty so exiting loop after 7 iterations\n",
      "starting_node in concept map (that should match the starting edge) = 1\n",
      "Total time for branches to concept conversion = 0.29933857917785645\n",
      "\n",
      "Done generating concept network \n",
      "\n",
      "\n",
      "recovered_touching_piece = [1]\n",
      "Total time for Concept Networks = 30.416444301605225\n",
      "Total time for all mesh and skeletonization decomp = 573.2923192977905\n",
      "--- 1) Finished unpacking preprocessed materials: 604.4769093990326\n",
      "total_edges = [['S0', 'L0'], ['S0', 'L1'], ['S0', 'L2'], ['S0', 'L3'], ['S0', 'L4']]\n",
      "--- 2) Finished creating neuron connectivity graph: 0.00011682510375976562\n",
      "Having to generate soma_meshes_face_idx because none in preprocessed data\n",
      "--- 3a) Finshed generating soma_meshes_face_idx: 0.7056334018707275\n",
      "Using Poisson Surface Reconstruction for watertightness in soma_volume_ratio\n",
      "xvfb-run -n 9531 -s \"-screen 0 800x600x24\" meshlabserver $@  -i /notebooks/Platinum_Decomp_Fusion/Poisson_temp/neuron_535804.off -o /notebooks/Platinum_Decomp_Fusion/Poisson_temp/neuron_535804_poisson.off -s /notebooks/Platinum_Decomp_Fusion/Poisson_temp/poisson_912218.mls\n",
      "removed temporary input file: /notebooks/Platinum_Decomp_Fusion/Poisson_temp/neuron_535804.off\n",
      "removed temporary output file: /notebooks/Platinum_Decomp_Fusion/Poisson_temp/neuron_535804_poisson.off\n",
      "mesh.is_watertight = True\n",
      "/notebooks/Platinum_Decomp_Fusion/Poisson_temp/poisson_912218.mls is being deleted....\n",
      "--- 3) Finshed generating soma objects and adding them to concept graph: 10.477848052978516\n",
      "--- 4a) Finshed generating curr_limb_meshes_face_idx: 2.308208703994751\n",
      "curr_limb_concept_networks= {0: [<networkx_utils.GraphOrderedEdges object at 0x7ff55f1d21d0>, <networkx_utils.GraphOrderedEdges object at 0x7ff56e538048>]}\n",
      "concept_network_dict = {0: [<networkx_utils.GraphOrderedEdges object at 0x7ff55f1d21d0>, <networkx_utils.GraphOrderedEdges object at 0x7ff56e538048>]}\n",
      "checking and resolving cycles\n",
      "No cycles to fix\n",
      "curr_limb_concept_networks= {0: [<networkx_utils.GraphOrderedEdges object at 0x7ff56e538a20>]}\n",
      "concept_network_dict = {0: [<networkx_utils.GraphOrderedEdges object at 0x7ff56e538a20>]}\n",
      "checking and resolving cycles\n",
      "No cycles to fix\n",
      "curr_limb_concept_networks= {0: [<networkx_utils.GraphOrderedEdges object at 0x7ff56e5b5390>]}\n",
      "concept_network_dict = {0: [<networkx_utils.GraphOrderedEdges object at 0x7ff56e5b5390>]}\n",
      "checking and resolving cycles\n",
      "No cycles to fix\n",
      "curr_limb_concept_networks= {0: [<networkx_utils.GraphOrderedEdges object at 0x7ff56e5b5940>]}\n",
      "concept_network_dict = {0: [<networkx_utils.GraphOrderedEdges object at 0x7ff56e5b5940>]}\n",
      "checking and resolving cycles\n",
      "No cycles to fix\n",
      "curr_limb_concept_networks= {0: [<networkx_utils.GraphOrderedEdges object at 0x7ff56e5b56a0>, <networkx_utils.GraphOrderedEdges object at 0x7ff56e3f9320>]}\n",
      "concept_network_dict = {0: [<networkx_utils.GraphOrderedEdges object at 0x7ff56e5b56a0>, <networkx_utils.GraphOrderedEdges object at 0x7ff56e3f9320>]}\n",
      "checking and resolving cycles\n",
      "No cycles to fix\n",
      "--- 4) Finshed generating Limb objects and adding them to concept graph: 5.356351375579834\n",
      "--- 5) SKIPPING Doing the adaptive mesh correspondence on the meshparty preprocessing ---\n",
      "--- 6) SKIPPING Using the computed_attribute_dict to populate neuron attributes ---\n",
      "7) Calculating the spines for the neuorn if do not already exist\n",
      "7a) calculating spines because didn't exist\n",
      "query = median_mesh_center > 200 and n_faces_branch>100\n",
      "smoothness_threshold = 0.08\n",
      "The median_mesh_center was requested but has not already been calculated so calculating now.... \n",
      "Working on limb L0 branch 5\n",
      "Working on limb L0 branch 2\n",
      "Working on limb L0 branch 147\n",
      "Working on limb L0 branch 0\n",
      "Working on limb L0 branch 3\n",
      "Working on limb L0 branch 93\n",
      "Working on limb L0 branch 94\n",
      "Working on limb L0 branch 503\n",
      "Working on limb L0 branch 505\n",
      "Working on limb L0 branch 6\n",
      "Working on limb L0 branch 508\n",
      "Working on limb L0 branch 92\n",
      "Working on limb L0 branch 254\n",
      "Working on limb L0 branch 48\n",
      "Working on limb L0 branch 49\n",
      "Working on limb L0 branch 9\n",
      "Working on limb L0 branch 504\n",
      "Working on limb L0 branch 1\n",
      "Working on limb L0 branch 4\n",
      "Working on limb L0 branch 91\n",
      "Working on limb L0 branch 210\n",
      "Working on limb L0 branch 253\n",
      "Working on limb L0 branch 489\n"
     ]
    },
    {
     "name": "stdout",
     "output_type": "stream",
     "text": [
      "Working on limb L0 branch 47\n",
      "Working on limb L0 branch 64\n",
      "Working on limb L0 branch 34\n",
      "Working on limb L0 branch 35\n",
      "Working on limb L0 branch 498\n",
      "Working on limb L0 branch 499\n",
      "Working on limb L0 branch 501\n",
      "Working on limb L0 branch 502\n",
      "Working on limb L0 branch 209\n",
      "Working on limb L0 branch 331\n",
      "Working on limb L0 branch 252\n",
      "Working on limb L0 branch 448\n",
      "Working on limb L0 branch 46\n",
      "Working on limb L0 branch 54\n",
      "Working on limb L0 branch 63\n",
      "Working on limb L0 branch 200\n",
      "Working on limb L0 branch 33\n",
      "Working on limb L0 branch 104\n",
      "Working on limb L0 branch 19\n",
      "Working on limb L0 branch 20\n",
      "Working on limb L0 branch 497\n",
      "Working on limb L0 branch 500\n",
      "Working on limb L0 branch 251\n",
      "Working on limb L0 branch 355\n",
      "Working on limb L0 branch 45\n",
      "Working on limb L0 branch 180\n",
      "Working on limb L0 branch 53\n",
      "Working on limb L0 branch 72\n",
      "Working on limb L0 branch 62\n",
      "Working on limb L0 branch 391\n",
      "Working on limb L0 branch 199\n",
      "Working on limb L0 branch 443\n",
      "Working on limb L0 branch 32\n",
      "Working on limb L0 branch 39\n",
      "Working on limb L0 branch 103\n",
      "Working on limb L0 branch 120\n",
      "Working on limb L0 branch 18\n",
      "Working on limb L0 branch 44\n",
      "Working on limb L0 branch 21\n",
      "Working on limb L0 branch 374\n",
      "Working on limb L0 branch 250\n",
      "Working on limb L0 branch 450\n",
      "Working on limb L0 branch 52\n",
      "Working on limb L0 branch 242\n",
      "Working on limb L0 branch 71\n",
      "Working on limb L0 branch 263\n",
      "Working on limb L0 branch 61\n",
      "Working on limb L0 branch 494\n",
      "Working on limb L0 branch 390\n",
      "Working on limb L0 branch 408\n",
      "Working on limb L0 branch 198\n",
      "Working on limb L0 branch 435\n",
      "Working on limb L0 branch 31\n",
      "Working on limb L0 branch 37\n",
      "Working on limb L0 branch 38\n",
      "Working on limb L0 branch 90\n",
      "Working on limb L0 branch 102\n",
      "Working on limb L0 branch 116\n",
      "Working on limb L0 branch 119\n",
      "Working on limb L0 branch 270\n",
      "Working on limb L0 branch 17\n",
      "Working on limb L0 branch 288\n",
      "Working on limb L0 branch 43\n",
      "Working on limb L0 branch 201\n",
      "Working on limb L0 branch 22\n",
      "Working on limb L0 branch 269\n",
      "Working on limb L0 branch 51\n",
      "Working on limb L0 branch 230\n",
      "Working on limb L0 branch 70\n",
      "Working on limb L0 branch 305\n",
      "Working on limb L0 branch 262\n",
      "Working on limb L0 branch 381\n",
      "Working on limb L0 branch 60\n",
      "Working on limb L0 branch 68\n",
      "Working on limb L0 branch 389\n",
      "Working on limb L0 branch 419\n",
      "Working on limb L0 branch 197\n",
      "Working on limb L0 branch 236\n",
      "Working on limb L0 branch 30\n",
      "Working on limb L0 branch 137\n",
      "Working on limb L0 branch 36\n",
      "Working on limb L0 branch 145\n",
      "Working on limb L0 branch 221\n",
      "Working on limb L0 branch 89\n",
      "Working on limb L0 branch 328\n",
      "Working on limb L0 branch 101\n",
      "Working on limb L0 branch 243\n",
      "Working on limb L0 branch 115\n",
      "Working on limb L0 branch 274\n",
      "Working on limb L0 branch 349\n",
      "Working on limb L0 branch 118\n",
      "Working on limb L0 branch 166\n",
      "Working on limb L0 branch 16\n",
      "Working on limb L0 branch 187\n",
      "Working on limb L0 branch 42\n",
      "Working on limb L0 branch 106\n",
      "Working on limb L0 branch 23\n",
      "Working on limb L0 branch 179\n",
      "Working on limb L0 branch 268\n",
      "Working on limb L0 branch 455\n",
      "Working on limb L0 branch 50\n",
      "Working on limb L0 branch 126\n",
      "Working on limb L0 branch 69\n",
      "Working on limb L0 branch 393\n",
      "Working on limb L0 branch 304\n",
      "Working on limb L0 branch 354\n",
      "Working on limb L0 branch 261\n",
      "Working on limb L0 branch 340\n",
      "Working on limb L0 branch 59\n",
      "Working on limb L0 branch 110\n",
      "Working on limb L0 branch 67\n",
      "Working on limb L0 branch 299\n",
      "Working on limb L0 branch 196\n",
      "Working on limb L0 branch 302\n",
      "Working on limb L0 branch 235\n",
      "Working on limb L0 branch 470\n",
      "Working on limb L0 branch 479\n",
      "Working on limb L0 branch 29\n",
      "Working on limb L0 branch 461\n",
      "Working on limb L0 branch 136\n",
      "Working on limb L0 branch 193\n",
      "Working on limb L0 branch 88\n",
      "Working on limb L0 branch 471\n",
      "Working on limb L0 branch 100\n",
      "Working on limb L0 branch 257\n",
      "Working on limb L0 branch 114\n",
      "Working on limb L0 branch 272\n",
      "Working on limb L0 branch 348\n",
      "Working on limb L0 branch 382\n",
      "Working on limb L0 branch 117\n",
      "Working on limb L0 branch 275\n",
      "Working on limb L0 branch 165\n",
      "Working on limb L0 branch 307\n",
      "Working on limb L0 branch 15\n",
      "Working on limb L0 branch 234\n",
      "Working on limb L0 branch 186\n",
      "Working on limb L0 branch 337\n",
      "Working on limb L0 branch 41\n",
      "Working on limb L0 branch 335\n",
      "Working on limb L0 branch 397\n",
      "Working on limb L0 branch 105\n",
      "Working on limb L0 branch 294\n",
      "Working on limb L0 branch 24\n",
      "Working on limb L0 branch 240\n",
      "Working on limb L0 branch 178\n",
      "Working on limb L0 branch 361\n",
      "Working on limb L0 branch 267\n",
      "Working on limb L0 branch 290\n",
      "Working on limb L0 branch 392\n",
      "Working on limb L0 branch 398\n",
      "Working on limb L0 branch 303\n",
      "Working on limb L0 branch 407\n",
      "Working on limb L0 branch 353\n",
      "Working on limb L0 branch 363\n",
      "Working on limb L0 branch 260\n",
      "Working on limb L0 branch 447\n",
      "Working on limb L0 branch 339\n",
      "Working on limb L0 branch 437\n",
      "Working on limb L0 branch 58\n",
      "Working on limb L0 branch 326\n",
      "Working on limb L0 branch 109\n",
      "Working on limb L0 branch 121\n",
      "Working on limb L0 branch 432\n",
      "Working on limb L0 branch 66\n",
      "Working on limb L0 branch 278\n",
      "Working on limb L0 branch 298\n",
      "Working on limb L0 branch 491\n",
      "Working on limb L0 branch 28\n",
      "Working on limb L0 branch 417\n",
      "Working on limb L0 branch 135\n",
      "Working on limb L0 branch 143\n",
      "Working on limb L0 branch 192\n",
      "Working on limb L0 branch 478\n",
      "Working on limb L0 branch 87\n",
      "Working on limb L0 branch 129\n",
      "Working on limb L0 branch 99\n",
      "Working on limb L0 branch 429\n",
      "Working on limb L0 branch 256\n",
      "Working on limb L0 branch 463\n",
      "Working on limb L0 branch 164\n",
      "Working on limb L0 branch 172\n",
      "Working on limb L0 branch 306\n",
      "Working on limb L0 branch 452\n",
      "Working on limb L0 branch 14\n",
      "Working on limb L0 branch 418\n",
      "Working on limb L0 branch 185\n",
      "Working on limb L0 branch 410\n",
      "Working on limb L0 branch 336\n",
      "Working on limb L0 branch 402\n",
      "Working on limb L0 branch 40\n",
      "Working on limb L0 branch 427\n",
      "Working on limb L0 branch 25\n",
      "Working on limb L0 branch 342\n",
      "Working on limb L0 branch 239\n",
      "Working on limb L0 branch 308\n",
      "Working on limb L0 branch 177\n",
      "Working on limb L0 branch 439\n",
      "Working on limb L0 branch 458\n",
      "Working on limb L0 branch 266\n",
      "Working on limb L0 branch 356\n",
      "Working on limb L0 branch 289\n",
      "Working on limb L0 branch 424\n",
      "Working on limb L0 branch 352\n",
      "Working on limb L0 branch 462\n",
      "Working on limb L0 branch 259\n",
      "Working on limb L0 branch 453\n",
      "Working on limb L0 branch 338\n",
      "Working on limb L0 branch 343\n",
      "Working on limb L0 branch 57\n",
      "Working on limb L0 branch 400\n",
      "Working on limb L0 branch 108\n",
      "Working on limb L0 branch 144\n",
      "Working on limb L0 branch 431\n",
      "Working on limb L0 branch 480\n",
      "Working on limb L0 branch 65\n",
      "Working on limb L0 branch 318\n",
      "Working on limb L0 branch 297\n",
      "Working on limb L0 branch 451\n",
      "Working on limb L0 branch 27\n",
      "Working on limb L0 branch 280\n",
      "Working on limb L0 branch 134\n",
      "Working on limb L0 branch 214\n",
      "Working on limb L0 branch 142\n",
      "Working on limb L0 branch 292\n",
      "Working on limb L0 branch 191\n",
      "Working on limb L0 branch 350\n",
      "Working on limb L0 branch 128\n",
      "Working on limb L0 branch 208\n",
      "Working on limb L0 branch 247\n",
      "Working on limb L0 branch 276\n",
      "Working on limb L0 branch 98\n",
      "Working on limb L0 branch 113\n",
      "Working on limb L0 branch 255\n",
      "Working on limb L0 branch 396\n",
      "Working on limb L0 branch 163\n",
      "Working on limb L0 branch 258\n",
      "Working on limb L0 branch 395\n",
      "Working on limb L0 branch 426\n",
      "Working on limb L0 branch 171\n",
      "Working on limb L0 branch 373\n",
      "Working on limb L0 branch 510\n",
      "Working on limb L0 branch 13\n",
      "Working on limb L0 branch 86\n",
      "Working on limb L0 branch 184\n",
      "Working on limb L0 branch 287\n",
      "Working on limb L0 branch 409\n",
      "Working on limb L0 branch 445\n",
      "Working on limb L0 branch 26\n",
      "Working on limb L0 branch 78\n",
      "Working on limb L0 branch 341\n",
      "Working on limb L0 branch 370\n",
      "Working on limb L0 branch 238\n",
      "Working on limb L0 branch 421\n",
      "Working on limb L0 branch 176\n",
      "Working on limb L0 branch 332\n",
      "Working on limb L0 branch 265\n",
      "Working on limb L0 branch 360\n",
      "Working on limb L0 branch 509\n",
      "Working on limb L0 branch 351\n",
      "Working on limb L0 branch 484\n",
      "Working on limb L0 branch 56\n",
      "Working on limb L0 branch 404\n",
      "Working on limb L0 branch 107\n",
      "Working on limb L0 branch 385\n",
      "Working on limb L0 branch 430\n",
      "Working on limb L0 branch 446\n",
      "Working on limb L0 branch 296\n",
      "Working on limb L0 branch 334\n",
      "Working on limb L0 branch 406\n",
      "Working on limb L0 branch 279\n",
      "Working on limb L0 branch 365\n",
      "Working on limb L0 branch 133\n",
      "Working on limb L0 branch 469\n",
      "Working on limb L0 branch 213\n",
      "Working on limb L0 branch 473\n",
      "Working on limb L0 branch 141\n",
      "Working on limb L0 branch 167\n"
     ]
    },
    {
     "name": "stdout",
     "output_type": "stream",
     "text": [
      "Working on limb L0 branch 190\n",
      "Working on limb L0 branch 487\n",
      "Working on limb L0 branch 127\n",
      "Working on limb L0 branch 245\n",
      "Working on limb L0 branch 207\n",
      "Working on limb L0 branch 241\n",
      "Working on limb L0 branch 399\n",
      "Working on limb L0 branch 97\n",
      "Working on limb L0 branch 229\n",
      "Working on limb L0 branch 112\n",
      "Working on limb L0 branch 125\n",
      "Working on limb L0 branch 162\n",
      "Working on limb L0 branch 386\n",
      "Working on limb L0 branch 490\n",
      "Working on limb L0 branch 394\n",
      "Working on limb L0 branch 457\n",
      "Working on limb L0 branch 459\n",
      "Working on limb L0 branch 372\n",
      "Working on limb L0 branch 476\n",
      "Working on limb L0 branch 12\n",
      "Working on limb L0 branch 212\n",
      "Working on limb L0 branch 85\n",
      "Working on limb L0 branch 323\n",
      "Working on limb L0 branch 183\n",
      "Working on limb L0 branch 283\n",
      "Working on limb L0 branch 7\n",
      "Working on limb L0 branch 8\n",
      "Working on limb L0 branch 77\n",
      "Working on limb L0 branch 277\n",
      "Working on limb L0 branch 369\n",
      "Working on limb L0 branch 414\n",
      "Working on limb L0 branch 55\n",
      "Working on limb L0 branch 492\n",
      "Working on limb L0 branch 384\n",
      "Working on limb L0 branch 438\n",
      "Working on limb L0 branch 364\n",
      "Working on limb L0 branch 486\n",
      "Working on limb L0 branch 132\n",
      "Working on limb L0 branch 423\n",
      "Working on limb L0 branch 140\n",
      "Working on limb L0 branch 312\n",
      "Working on limb L0 branch 330\n",
      "Working on limb L0 branch 189\n",
      "Working on limb L0 branch 246\n",
      "Working on limb L0 branch 206\n",
      "Working on limb L0 branch 322\n",
      "Working on limb L0 branch 96\n",
      "Working on limb L0 branch 460\n",
      "Working on limb L0 branch 228\n",
      "Working on limb L0 branch 405\n",
      "Working on limb L0 branch 111\n",
      "Working on limb L0 branch 155\n",
      "Working on limb L0 branch 124\n",
      "Working on limb L0 branch 466\n",
      "Working on limb L0 branch 161\n",
      "Working on limb L0 branch 411\n",
      "Working on limb L0 branch 11\n",
      "Working on limb L0 branch 346\n",
      "Working on limb L0 branch 211\n",
      "Working on limb L0 branch 244\n",
      "Working on limb L0 branch 84\n",
      "Working on limb L0 branch 482\n",
      "Working on limb L0 branch 182\n",
      "Working on limb L0 branch 468\n",
      "Working on limb L0 branch 282\n",
      "Working on limb L0 branch 475\n",
      "Working on limb L0 branch 506\n",
      "Working on limb L0 branch 507\n",
      "Working on limb L0 branch 76\n",
      "Working on limb L0 branch 472\n",
      "Working on limb L0 branch 368\n",
      "Working on limb L0 branch 412\n",
      "Working on limb L0 branch 383\n",
      "Working on limb L0 branch 436\n",
      "Working on limb L0 branch 131\n",
      "Working on limb L0 branch 301\n",
      "Working on limb L0 branch 422\n",
      "Working on limb L0 branch 434\n",
      "Working on limb L0 branch 139\n",
      "Working on limb L0 branch 493\n",
      "Working on limb L0 branch 311\n",
      "Working on limb L0 branch 325\n",
      "Working on limb L0 branch 188\n",
      "Working on limb L0 branch 456\n",
      "Working on limb L0 branch 95\n",
      "Working on limb L0 branch 232\n",
      "Working on limb L0 branch 227\n",
      "Working on limb L0 branch 281\n",
      "Working on limb L0 branch 293\n",
      "Working on limb L0 branch 154\n",
      "Working on limb L0 branch 379\n",
      "Working on limb L0 branch 123\n",
      "Working on limb L0 branch 344\n",
      "Working on limb L0 branch 160\n",
      "Working on limb L0 branch 377\n",
      "Working on limb L0 branch 10\n",
      "Working on limb L0 branch 467\n",
      "Working on limb L0 branch 345\n",
      "Working on limb L0 branch 367\n",
      "Working on limb L0 branch 83\n",
      "Working on limb L0 branch 428\n",
      "Working on limb L0 branch 181\n",
      "Working on limb L0 branch 204\n",
      "Working on limb L0 branch 225\n",
      "Working on limb L0 branch 75\n",
      "Working on limb L0 branch 375\n",
      "Working on limb L0 branch 130\n",
      "Working on limb L0 branch 413\n",
      "Working on limb L0 branch 300\n",
      "Working on limb L0 branch 454\n",
      "Working on limb L0 branch 433\n",
      "Working on limb L0 branch 495\n",
      "Working on limb L0 branch 138\n",
      "Working on limb L0 branch 220\n",
      "Working on limb L0 branch 310\n",
      "Working on limb L0 branch 376\n",
      "Working on limb L0 branch 324\n",
      "Working on limb L0 branch 359\n",
      "Working on limb L0 branch 231\n",
      "Working on limb L0 branch 264\n",
      "Working on limb L0 branch 226\n",
      "Working on limb L0 branch 371\n",
      "Working on limb L0 branch 153\n",
      "Working on limb L0 branch 483\n",
      "Working on limb L0 branch 378\n",
      "Working on limb L0 branch 380\n",
      "Working on limb L0 branch 122\n",
      "Working on limb L0 branch 170\n",
      "Working on limb L0 branch 358\n",
      "Working on limb L0 branch 159\n",
      "Working on limb L0 branch 195\n",
      "Working on limb L0 branch 366\n",
      "Working on limb L0 branch 420\n",
      "Working on limb L0 branch 82\n",
      "Working on limb L0 branch 333\n",
      "Working on limb L0 branch 203\n",
      "Working on limb L0 branch 223\n",
      "Working on limb L0 branch 442\n",
      "Working on limb L0 branch 74\n",
      "Working on limb L0 branch 146\n",
      "Working on limb L0 branch 219\n",
      "Working on limb L0 branch 481\n",
      "Working on limb L0 branch 152\n",
      "Working on limb L0 branch 273\n",
      "Working on limb L0 branch 169\n",
      "Working on limb L0 branch 440\n",
      "Working on limb L0 branch 465\n",
      "Working on limb L0 branch 357\n",
      "Working on limb L0 branch 449\n",
      "Working on limb L0 branch 158\n",
      "Working on limb L0 branch 271\n",
      "Working on limb L0 branch 194\n",
      "Working on limb L0 branch 205\n",
      "Working on limb L0 branch 415\n",
      "Working on limb L0 branch 81\n",
      "Working on limb L0 branch 286\n",
      "Working on limb L0 branch 362\n",
      "Working on limb L0 branch 202\n",
      "Working on limb L0 branch 387\n",
      "Working on limb L0 branch 222\n",
      "Working on limb L0 branch 464\n",
      "Working on limb L0 branch 441\n",
      "Working on limb L0 branch 496\n",
      "Working on limb L0 branch 73\n",
      "Working on limb L0 branch 474\n",
      "Working on limb L0 branch 218\n",
      "Working on limb L0 branch 401\n",
      "Working on limb L0 branch 151\n",
      "Working on limb L0 branch 233\n",
      "Working on limb L0 branch 168\n",
      "Working on limb L0 branch 309\n",
      "Working on limb L0 branch 157\n",
      "Working on limb L0 branch 477\n",
      "Working on limb L0 branch 80\n",
      "Working on limb L0 branch 403\n",
      "Working on limb L0 branch 285\n",
      "Working on limb L0 branch 425\n",
      "Working on limb L0 branch 217\n",
      "Working on limb L0 branch 295\n",
      "Working on limb L0 branch 150\n",
      "Working on limb L0 branch 347\n",
      "Working on limb L0 branch 156\n",
      "Working on limb L0 branch 317\n",
      "Working on limb L0 branch 79\n",
      "Working on limb L0 branch 488\n",
      "Working on limb L0 branch 284\n",
      "Working on limb L0 branch 321\n",
      "Working on limb L0 branch 216\n",
      "Working on limb L0 branch 224\n",
      "Working on limb L0 branch 149\n",
      "Working on limb L0 branch 175\n",
      "Working on limb L0 branch 316\n",
      "Working on limb L0 branch 388\n",
      "Working on limb L0 branch 320\n",
      "Working on limb L0 branch 327\n",
      "Working on limb L0 branch 215\n",
      "Working on limb L0 branch 315\n",
      "Working on limb L0 branch 148\n",
      "Working on limb L0 branch 237\n",
      "Working on limb L0 branch 174\n",
      "Working on limb L0 branch 291\n",
      "Working on limb L0 branch 319\n",
      "Working on limb L0 branch 329\n",
      "Working on limb L0 branch 314\n",
      "Working on limb L0 branch 416\n",
      "Working on limb L0 branch 173\n",
      "Working on limb L0 branch 249\n",
      "Working on limb L0 branch 313\n",
      "Working on limb L0 branch 444\n",
      "Working on limb L0 branch 248\n",
      "Working on limb L0 branch 485\n",
      "Working on limb L1 branch 6\n",
      "Working on limb L1 branch 3\n",
      "Working on limb L1 branch 9\n",
      "Working on limb L1 branch 1\n",
      "Working on limb L1 branch 10\n",
      "Working on limb L1 branch 4\n",
      "Working on limb L1 branch 22\n",
      "Working on limb L1 branch 11\n",
      "Working on limb L1 branch 12\n",
      "Working on limb L1 branch 7\n",
      "Working on limb L1 branch 24\n",
      "Working on limb L1 branch 0\n",
      "Working on limb L1 branch 5\n",
      "Working on limb L1 branch 8\n",
      "Working on limb L1 branch 17\n",
      "Working on limb L1 branch 23\n",
      "Working on limb L1 branch 25\n",
      "Working on limb L1 branch 15\n",
      "Working on limb L1 branch 16\n",
      "Working on limb L1 branch 2\n",
      "Working on limb L1 branch 19\n",
      "Working on limb L1 branch 20\n",
      "Working on limb L1 branch 13\n",
      "Working on limb L1 branch 14\n",
      "Working on limb L1 branch 18\n",
      "Working on limb L1 branch 21\n",
      "Working on limb L2 branch 0\n",
      "Working on limb L2 branch 2\n",
      "Working on limb L2 branch 3\n",
      "Working on limb L2 branch 4\n",
      "Working on limb L2 branch 5\n",
      "Working on limb L2 branch 12\n",
      "Working on limb L2 branch 24\n",
      "Working on limb L2 branch 1\n",
      "Working on limb L2 branch 50\n",
      "Working on limb L2 branch 11\n",
      "Working on limb L2 branch 15\n",
      "Working on limb L2 branch 23\n",
      "Working on limb L2 branch 32\n",
      "Working on limb L2 branch 51\n",
      "Working on limb L2 branch 52\n",
      "Working on limb L2 branch 10\n",
      "Working on limb L2 branch 35\n",
      "Working on limb L2 branch 14\n",
      "Working on limb L2 branch 42\n",
      "Working on limb L2 branch 22\n",
      "Working on limb L2 branch 39\n",
      "Working on limb L2 branch 31\n",
      "Working on limb L2 branch 47\n",
      "Working on limb L2 branch 9\n",
      "Working on limb L2 branch 44\n",
      "Working on limb L2 branch 13\n",
      "Working on limb L2 branch 38\n",
      "Working on limb L2 branch 21\n",
      "Working on limb L2 branch 26\n",
      "Working on limb L2 branch 46\n",
      "Working on limb L2 branch 48\n",
      "Working on limb L2 branch 8\n",
      "Working on limb L2 branch 20\n",
      "Working on limb L2 branch 25\n",
      "Working on limb L2 branch 27\n",
      "Working on limb L2 branch 41\n",
      "Working on limb L2 branch 7\n",
      "Working on limb L2 branch 16\n",
      "Working on limb L2 branch 45\n",
      "Working on limb L2 branch 19\n",
      "Working on limb L2 branch 36\n",
      "Working on limb L2 branch 6\n"
     ]
    },
    {
     "name": "stdout",
     "output_type": "stream",
     "text": [
      "Working on limb L2 branch 40\n",
      "Working on limb L2 branch 18\n",
      "Working on limb L2 branch 43\n",
      "Working on limb L2 branch 17\n",
      "Working on limb L2 branch 30\n",
      "Working on limb L2 branch 29\n",
      "Working on limb L2 branch 49\n",
      "Working on limb L2 branch 28\n",
      "Working on limb L2 branch 34\n",
      "Working on limb L2 branch 33\n",
      "Working on limb L2 branch 37\n",
      "Working on limb L3 branch 0\n",
      "Working on limb L3 branch 1\n",
      "Working on limb L3 branch 2\n",
      "Working on limb L3 branch 3\n",
      "Working on limb L3 branch 8\n",
      "Working on limb L3 branch 4\n",
      "Working on limb L3 branch 5\n",
      "Working on limb L3 branch 6\n",
      "Working on limb L3 branch 7\n",
      "Working on limb L4 branch 1\n",
      "Working on limb L4 branch 0\n",
      "Working on limb L4 branch 3\n",
      "Working on limb L4 branch 5\n",
      "Working on limb L4 branch 6\n",
      "Working on limb L4 branch 2\n",
      "Working on limb L4 branch 4\n",
      "functions_list = [<function median_mesh_center at 0x7ff65b30ee18>, <function n_faces_branch at 0x7ff65b30e9d8>]\n"
     ]
    },
    {
     "data": {
      "application/vnd.jupyter.widget-view+json": {
       "model_id": "ce8ebb74a41241059e4d5e2729ff121f",
       "version_major": 2,
       "version_minor": 0
      },
      "text/plain": [
       "HBox(children=(FloatProgress(value=0.0, max=65.0), HTML(value='')))"
      ]
     },
     "metadata": {},
     "output_type": "display_data"
    },
    {
     "name": "stdout",
     "output_type": "stream",
     "text": [
      "\n"
     ]
    },
    {
     "data": {
      "application/vnd.jupyter.widget-view+json": {
       "model_id": "dce4b28f6e0e4660b51f983aa1d0c316",
       "version_major": 2,
       "version_minor": 0
      },
      "text/plain": [
       "HBox(children=(FloatProgress(value=0.0, max=56.0), HTML(value='')))"
      ]
     },
     "metadata": {},
     "output_type": "display_data"
    },
    {
     "name": "stdout",
     "output_type": "stream",
     "text": [
      "\n"
     ]
    },
    {
     "data": {
      "application/vnd.jupyter.widget-view+json": {
       "model_id": "ba6eab0c72c248fbbeb68bd0e49b0c0a",
       "version_major": 2,
       "version_minor": 0
      },
      "text/plain": [
       "HBox(children=(FloatProgress(value=0.0, max=35.0), HTML(value='')))"
      ]
     },
     "metadata": {},
     "output_type": "display_data"
    },
    {
     "name": "stdout",
     "output_type": "stream",
     "text": [
      "\n"
     ]
    },
    {
     "data": {
      "application/vnd.jupyter.widget-view+json": {
       "model_id": "55948abb3c8d4e689e5dfabcca4cb92d",
       "version_major": 2,
       "version_minor": 0
      },
      "text/plain": [
       "HBox(children=(FloatProgress(value=0.0, max=20.0), HTML(value='')))"
      ]
     },
     "metadata": {},
     "output_type": "display_data"
    },
    {
     "name": "stdout",
     "output_type": "stream",
     "text": [
      "\n"
     ]
    },
    {
     "data": {
      "application/vnd.jupyter.widget-view+json": {
       "model_id": "86c5745fd64947108d7a77f9b2d2e896",
       "version_major": 2,
       "version_minor": 0
      },
      "text/plain": [
       "HBox(children=(FloatProgress(value=0.0, max=12.0), HTML(value='')))"
      ]
     },
     "metadata": {},
     "output_type": "display_data"
    },
    {
     "name": "stdout",
     "output_type": "stream",
     "text": [
      "\n"
     ]
    },
    {
     "data": {
      "application/vnd.jupyter.widget-view+json": {
       "model_id": "e2b184632dd0417eabdf8bbd3cfbce6b",
       "version_major": 2,
       "version_minor": 0
      },
      "text/plain": [
       "HBox(children=(FloatProgress(value=0.0, max=5.0), HTML(value='')))"
      ]
     },
     "metadata": {},
     "output_type": "display_data"
    },
    {
     "name": "stdout",
     "output_type": "stream",
     "text": [
      "\n"
     ]
    },
    {
     "data": {
      "application/vnd.jupyter.widget-view+json": {
       "model_id": "859a871f9a9e42018e8e37be8afbc458",
       "version_major": 2,
       "version_minor": 0
      },
      "text/plain": [
       "HBox(children=(FloatProgress(value=0.0, max=17.0), HTML(value='')))"
      ]
     },
     "metadata": {},
     "output_type": "display_data"
    },
    {
     "name": "stdout",
     "output_type": "stream",
     "text": [
      "\n"
     ]
    },
    {
     "data": {
      "application/vnd.jupyter.widget-view+json": {
       "model_id": "0d10df4b0f3e4a02a5026d2b81ec194c",
       "version_major": 2,
       "version_minor": 0
      },
      "text/plain": [
       "HBox(children=(FloatProgress(value=0.0, max=29.0), HTML(value='')))"
      ]
     },
     "metadata": {},
     "output_type": "display_data"
    },
    {
     "name": "stdout",
     "output_type": "stream",
     "text": [
      "\n"
     ]
    },
    {
     "data": {
      "application/vnd.jupyter.widget-view+json": {
       "model_id": "f7cd7d0cc7b64559b8febb80a6a41680",
       "version_major": 2,
       "version_minor": 0
      },
      "text/plain": [
       "HBox(children=(FloatProgress(value=0.0, max=13.0), HTML(value='')))"
      ]
     },
     "metadata": {},
     "output_type": "display_data"
    },
    {
     "name": "stdout",
     "output_type": "stream",
     "text": [
      "\n"
     ]
    },
    {
     "data": {
      "application/vnd.jupyter.widget-view+json": {
       "model_id": "03d64b5c9ab644e992e649b32424b7c1",
       "version_major": 2,
       "version_minor": 0
      },
      "text/plain": [
       "HBox(children=(FloatProgress(value=0.0, max=45.0), HTML(value='')))"
      ]
     },
     "metadata": {},
     "output_type": "display_data"
    },
    {
     "name": "stdout",
     "output_type": "stream",
     "text": [
      "\n"
     ]
    },
    {
     "data": {
      "application/vnd.jupyter.widget-view+json": {
       "model_id": "7966df3fa81f493fa50ee5e6c8dca379",
       "version_major": 2,
       "version_minor": 0
      },
      "text/plain": [
       "HBox(children=(FloatProgress(value=0.0, max=1.0), HTML(value='')))"
      ]
     },
     "metadata": {},
     "output_type": "display_data"
    },
    {
     "name": "stdout",
     "output_type": "stream",
     "text": [
      "\n",
      "There was only one mesh found from the spine process and mesh split, returning empty array\n"
     ]
    },
    {
     "data": {
      "application/vnd.jupyter.widget-view+json": {
       "model_id": "aee43302bbdb4a9c858892bb10d17479",
       "version_major": 2,
       "version_minor": 0
      },
      "text/plain": [
       "HBox(children=(FloatProgress(value=0.0, max=1.0), HTML(value='')))"
      ]
     },
     "metadata": {},
     "output_type": "display_data"
    },
    {
     "name": "stdout",
     "output_type": "stream",
     "text": [
      "\n",
      "There was only one mesh found from the spine process and mesh split, returning empty array\n"
     ]
    },
    {
     "data": {
      "application/vnd.jupyter.widget-view+json": {
       "model_id": "441e5ae339c9498a929d7d2658b15b73",
       "version_major": 2,
       "version_minor": 0
      },
      "text/plain": [
       "HBox(children=(FloatProgress(value=0.0, max=4.0), HTML(value='')))"
      ]
     },
     "metadata": {},
     "output_type": "display_data"
    },
    {
     "name": "stdout",
     "output_type": "stream",
     "text": [
      "\n"
     ]
    },
    {
     "data": {
      "application/vnd.jupyter.widget-view+json": {
       "model_id": "efd0ab63825146a28a7467b17dc849ca",
       "version_major": 2,
       "version_minor": 0
      },
      "text/plain": [
       "HBox(children=(FloatProgress(value=0.0, max=4.0), HTML(value='')))"
      ]
     },
     "metadata": {},
     "output_type": "display_data"
    },
    {
     "name": "stdout",
     "output_type": "stream",
     "text": [
      "\n"
     ]
    },
    {
     "data": {
      "application/vnd.jupyter.widget-view+json": {
       "model_id": "b498d8e47b784cd0821f8ce00487befa",
       "version_major": 2,
       "version_minor": 0
      },
      "text/plain": [
       "HBox(children=(FloatProgress(value=0.0, max=5.0), HTML(value='')))"
      ]
     },
     "metadata": {},
     "output_type": "display_data"
    },
    {
     "name": "stdout",
     "output_type": "stream",
     "text": [
      "\n"
     ]
    },
    {
     "data": {
      "application/vnd.jupyter.widget-view+json": {
       "model_id": "7a3b4c9eb42740208f2f4f5b75b4f2ee",
       "version_major": 2,
       "version_minor": 0
      },
      "text/plain": [
       "HBox(children=(FloatProgress(value=0.0, max=7.0), HTML(value='')))"
      ]
     },
     "metadata": {},
     "output_type": "display_data"
    },
    {
     "name": "stdout",
     "output_type": "stream",
     "text": [
      "\n"
     ]
    },
    {
     "data": {
      "application/vnd.jupyter.widget-view+json": {
       "model_id": "8a1615e60c8e422087b93c598404bdd9",
       "version_major": 2,
       "version_minor": 0
      },
      "text/plain": [
       "HBox(children=(FloatProgress(value=0.0, max=11.0), HTML(value='')))"
      ]
     },
     "metadata": {},
     "output_type": "display_data"
    },
    {
     "name": "stdout",
     "output_type": "stream",
     "text": [
      "\n"
     ]
    },
    {
     "data": {
      "application/vnd.jupyter.widget-view+json": {
       "model_id": "fed9a64bb98f4c96a9749daa1ceb2c09",
       "version_major": 2,
       "version_minor": 0
      },
      "text/plain": [
       "HBox(children=(FloatProgress(value=0.0, max=12.0), HTML(value='')))"
      ]
     },
     "metadata": {},
     "output_type": "display_data"
    },
    {
     "name": "stdout",
     "output_type": "stream",
     "text": [
      "\n"
     ]
    },
    {
     "data": {
      "application/vnd.jupyter.widget-view+json": {
       "model_id": "2dcc3cd9edac4a95ba3ee0d72843d67d",
       "version_major": 2,
       "version_minor": 0
      },
      "text/plain": [
       "HBox(children=(FloatProgress(value=0.0, max=55.0), HTML(value='')))"
      ]
     },
     "metadata": {},
     "output_type": "display_data"
    },
    {
     "name": "stdout",
     "output_type": "stream",
     "text": [
      "\n"
     ]
    },
    {
     "data": {
      "application/vnd.jupyter.widget-view+json": {
       "model_id": "359ad56b6a26490bbf15f7f1bd3ba4ae",
       "version_major": 2,
       "version_minor": 0
      },
      "text/plain": [
       "HBox(children=(FloatProgress(value=0.0, max=85.0), HTML(value='')))"
      ]
     },
     "metadata": {},
     "output_type": "display_data"
    },
    {
     "name": "stdout",
     "output_type": "stream",
     "text": [
      "\n"
     ]
    },
    {
     "data": {
      "application/vnd.jupyter.widget-view+json": {
       "model_id": "d536f55019cc4998b47e2915b85eadab",
       "version_major": 2,
       "version_minor": 0
      },
      "text/plain": [
       "HBox(children=(FloatProgress(value=0.0, max=23.0), HTML(value='')))"
      ]
     },
     "metadata": {},
     "output_type": "display_data"
    },
    {
     "name": "stdout",
     "output_type": "stream",
     "text": [
      "\n"
     ]
    },
    {
     "data": {
      "application/vnd.jupyter.widget-view+json": {
       "model_id": "5ce08c0f73ab4beab3137bfaf8992674",
       "version_major": 2,
       "version_minor": 0
      },
      "text/plain": [
       "HBox(children=(FloatProgress(value=0.0, max=19.0), HTML(value='')))"
      ]
     },
     "metadata": {},
     "output_type": "display_data"
    },
    {
     "name": "stdout",
     "output_type": "stream",
     "text": [
      "\n"
     ]
    },
    {
     "data": {
      "application/vnd.jupyter.widget-view+json": {
       "model_id": "a482e58ef0624ab0b71497e20c2c65b6",
       "version_major": 2,
       "version_minor": 0
      },
      "text/plain": [
       "HBox(children=(FloatProgress(value=0.0, max=5.0), HTML(value='')))"
      ]
     },
     "metadata": {},
     "output_type": "display_data"
    },
    {
     "name": "stdout",
     "output_type": "stream",
     "text": [
      "\n"
     ]
    },
    {
     "data": {
      "application/vnd.jupyter.widget-view+json": {
       "model_id": "67dc446b6c964f2fad053c581ae26486",
       "version_major": 2,
       "version_minor": 0
      },
      "text/plain": [
       "HBox(children=(FloatProgress(value=0.0, max=19.0), HTML(value='')))"
      ]
     },
     "metadata": {},
     "output_type": "display_data"
    },
    {
     "name": "stdout",
     "output_type": "stream",
     "text": [
      "\n"
     ]
    },
    {
     "data": {
      "application/vnd.jupyter.widget-view+json": {
       "model_id": "a70d858228dd4460bbd6bca62ca17e1f",
       "version_major": 2,
       "version_minor": 0
      },
      "text/plain": [
       "HBox(children=(FloatProgress(value=0.0, max=27.0), HTML(value='')))"
      ]
     },
     "metadata": {},
     "output_type": "display_data"
    },
    {
     "name": "stdout",
     "output_type": "stream",
     "text": [
      "\n"
     ]
    },
    {
     "data": {
      "application/vnd.jupyter.widget-view+json": {
       "model_id": "8d0a2db052954f378acf4b8a3ec330a8",
       "version_major": 2,
       "version_minor": 0
      },
      "text/plain": [
       "HBox(children=(FloatProgress(value=0.0, max=47.0), HTML(value='')))"
      ]
     },
     "metadata": {},
     "output_type": "display_data"
    },
    {
     "name": "stdout",
     "output_type": "stream",
     "text": [
      "\n"
     ]
    },
    {
     "data": {
      "application/vnd.jupyter.widget-view+json": {
       "model_id": "0ed6ec255b544b38a2b90ddb1b2c65a7",
       "version_major": 2,
       "version_minor": 0
      },
      "text/plain": [
       "HBox(children=(FloatProgress(value=0.0, max=35.0), HTML(value='')))"
      ]
     },
     "metadata": {},
     "output_type": "display_data"
    },
    {
     "name": "stdout",
     "output_type": "stream",
     "text": [
      "\n"
     ]
    },
    {
     "data": {
      "application/vnd.jupyter.widget-view+json": {
       "model_id": "e5d66a2eb80d47b0a0541330ced1aebd",
       "version_major": 2,
       "version_minor": 0
      },
      "text/plain": [
       "HBox(children=(FloatProgress(value=0.0, max=75.0), HTML(value='')))"
      ]
     },
     "metadata": {},
     "output_type": "display_data"
    },
    {
     "name": "stdout",
     "output_type": "stream",
     "text": [
      "\n"
     ]
    },
    {
     "data": {
      "application/vnd.jupyter.widget-view+json": {
       "model_id": "94393334aecf42cb8d2a9fda8f2c9c5c",
       "version_major": 2,
       "version_minor": 0
      },
      "text/plain": [
       "HBox(children=(FloatProgress(value=0.0, max=20.0), HTML(value='')))"
      ]
     },
     "metadata": {},
     "output_type": "display_data"
    },
    {
     "name": "stdout",
     "output_type": "stream",
     "text": [
      "\n"
     ]
    },
    {
     "data": {
      "application/vnd.jupyter.widget-view+json": {
       "model_id": "5bf61ca11ebc4214b32c30343f731c6a",
       "version_major": 2,
       "version_minor": 0
      },
      "text/plain": [
       "HBox(children=(FloatProgress(value=0.0, max=18.0), HTML(value='')))"
      ]
     },
     "metadata": {},
     "output_type": "display_data"
    },
    {
     "name": "stdout",
     "output_type": "stream",
     "text": [
      "\n"
     ]
    },
    {
     "data": {
      "application/vnd.jupyter.widget-view+json": {
       "model_id": "e984c1c54b8b40cabb9fa0be4d4fb4fd",
       "version_major": 2,
       "version_minor": 0
      },
      "text/plain": [
       "HBox(children=(FloatProgress(value=0.0, max=8.0), HTML(value='')))"
      ]
     },
     "metadata": {},
     "output_type": "display_data"
    },
    {
     "name": "stdout",
     "output_type": "stream",
     "text": [
      "\n"
     ]
    },
    {
     "data": {
      "application/vnd.jupyter.widget-view+json": {
       "model_id": "bc0fc54520544c8e9e870270f09a6149",
       "version_major": 2,
       "version_minor": 0
      },
      "text/plain": [
       "HBox(children=(FloatProgress(value=0.0, max=21.0), HTML(value='')))"
      ]
     },
     "metadata": {},
     "output_type": "display_data"
    },
    {
     "name": "stdout",
     "output_type": "stream",
     "text": [
      "\n"
     ]
    },
    {
     "data": {
      "application/vnd.jupyter.widget-view+json": {
       "model_id": "43409911e0e544e49ccb806b30a08fd3",
       "version_major": 2,
       "version_minor": 0
      },
      "text/plain": [
       "HBox(children=(FloatProgress(value=0.0, max=20.0), HTML(value='')))"
      ]
     },
     "metadata": {},
     "output_type": "display_data"
    },
    {
     "name": "stdout",
     "output_type": "stream",
     "text": [
      "\n"
     ]
    },
    {
     "data": {
      "application/vnd.jupyter.widget-view+json": {
       "model_id": "c665752198a5409eb9da9a32f56fd35f",
       "version_major": 2,
       "version_minor": 0
      },
      "text/plain": [
       "HBox(children=(FloatProgress(value=0.0, max=8.0), HTML(value='')))"
      ]
     },
     "metadata": {},
     "output_type": "display_data"
    },
    {
     "name": "stdout",
     "output_type": "stream",
     "text": [
      "\n"
     ]
    },
    {
     "data": {
      "application/vnd.jupyter.widget-view+json": {
       "model_id": "6bfabcec8b094fceb0499cce571cbdf5",
       "version_major": 2,
       "version_minor": 0
      },
      "text/plain": [
       "HBox(children=(FloatProgress(value=0.0, max=14.0), HTML(value='')))"
      ]
     },
     "metadata": {},
     "output_type": "display_data"
    },
    {
     "name": "stdout",
     "output_type": "stream",
     "text": [
      "\n"
     ]
    },
    {
     "data": {
      "application/vnd.jupyter.widget-view+json": {
       "model_id": "31ca4d55d6aa4cb3a272cc9349fee7db",
       "version_major": 2,
       "version_minor": 0
      },
      "text/plain": [
       "HBox(children=(FloatProgress(value=0.0, max=31.0), HTML(value='')))"
      ]
     },
     "metadata": {},
     "output_type": "display_data"
    },
    {
     "name": "stdout",
     "output_type": "stream",
     "text": [
      "\n"
     ]
    },
    {
     "data": {
      "application/vnd.jupyter.widget-view+json": {
       "model_id": "4f96d40459714ebfa8841d7bddb9df37",
       "version_major": 2,
       "version_minor": 0
      },
      "text/plain": [
       "HBox(children=(FloatProgress(value=0.0, max=138.0), HTML(value='')))"
      ]
     },
     "metadata": {},
     "output_type": "display_data"
    },
    {
     "name": "stdout",
     "output_type": "stream",
     "text": [
      "\n"
     ]
    },
    {
     "data": {
      "application/vnd.jupyter.widget-view+json": {
       "model_id": "b6289bafa8334e96af3295b7836ced75",
       "version_major": 2,
       "version_minor": 0
      },
      "text/plain": [
       "HBox(children=(FloatProgress(value=0.0, max=53.0), HTML(value='')))"
      ]
     },
     "metadata": {},
     "output_type": "display_data"
    },
    {
     "name": "stdout",
     "output_type": "stream",
     "text": [
      "\n"
     ]
    },
    {
     "data": {
      "application/vnd.jupyter.widget-view+json": {
       "model_id": "00e6ec9cc4ff4f1ca25dec6b9d788f05",
       "version_major": 2,
       "version_minor": 0
      },
      "text/plain": [
       "HBox(children=(FloatProgress(value=0.0, max=5.0), HTML(value='')))"
      ]
     },
     "metadata": {},
     "output_type": "display_data"
    },
    {
     "name": "stdout",
     "output_type": "stream",
     "text": [
      "\n"
     ]
    },
    {
     "data": {
      "application/vnd.jupyter.widget-view+json": {
       "model_id": "b818af0b9f23400d8f5dc41091a5a5f3",
       "version_major": 2,
       "version_minor": 0
      },
      "text/plain": [
       "HBox(children=(FloatProgress(value=0.0, max=51.0), HTML(value='')))"
      ]
     },
     "metadata": {},
     "output_type": "display_data"
    },
    {
     "name": "stdout",
     "output_type": "stream",
     "text": [
      "\n"
     ]
    },
    {
     "data": {
      "application/vnd.jupyter.widget-view+json": {
       "model_id": "b6a704b1425f4ebbb75f6fa82dc3df01",
       "version_major": 2,
       "version_minor": 0
      },
      "text/plain": [
       "HBox(children=(FloatProgress(value=0.0, max=57.0), HTML(value='')))"
      ]
     },
     "metadata": {},
     "output_type": "display_data"
    },
    {
     "name": "stdout",
     "output_type": "stream",
     "text": [
      "\n"
     ]
    },
    {
     "data": {
      "application/vnd.jupyter.widget-view+json": {
       "model_id": "59af0bd658bd41c4ab3521c7346b791a",
       "version_major": 2,
       "version_minor": 0
      },
      "text/plain": [
       "HBox(children=(FloatProgress(value=0.0, max=169.0), HTML(value='')))"
      ]
     },
     "metadata": {},
     "output_type": "display_data"
    },
    {
     "name": "stdout",
     "output_type": "stream",
     "text": [
      "\n"
     ]
    },
    {
     "data": {
      "application/vnd.jupyter.widget-view+json": {
       "model_id": "aa28a73c59b6487e9bc1c34becd5ac6a",
       "version_major": 2,
       "version_minor": 0
      },
      "text/plain": [
       "HBox(children=(FloatProgress(value=0.0, max=112.0), HTML(value='')))"
      ]
     },
     "metadata": {},
     "output_type": "display_data"
    },
    {
     "name": "stdout",
     "output_type": "stream",
     "text": [
      "\n"
     ]
    },
    {
     "data": {
      "application/vnd.jupyter.widget-view+json": {
       "model_id": "3ec10942087a4067807cac6d55f7570a",
       "version_major": 2,
       "version_minor": 0
      },
      "text/plain": [
       "HBox(children=(FloatProgress(value=0.0, max=101.0), HTML(value='')))"
      ]
     },
     "metadata": {},
     "output_type": "display_data"
    },
    {
     "name": "stdout",
     "output_type": "stream",
     "text": [
      "\n"
     ]
    },
    {
     "data": {
      "application/vnd.jupyter.widget-view+json": {
       "model_id": "cc0b3ede06a541f9961a141ec8c1d171",
       "version_major": 2,
       "version_minor": 0
      },
      "text/plain": [
       "HBox(children=(FloatProgress(value=0.0, max=22.0), HTML(value='')))"
      ]
     },
     "metadata": {},
     "output_type": "display_data"
    },
    {
     "name": "stdout",
     "output_type": "stream",
     "text": [
      "\n"
     ]
    },
    {
     "data": {
      "application/vnd.jupyter.widget-view+json": {
       "model_id": "b39033e59e3c4b1b91a5a327df59f5f7",
       "version_major": 2,
       "version_minor": 0
      },
      "text/plain": [
       "HBox(children=(FloatProgress(value=0.0, max=34.0), HTML(value='')))"
      ]
     },
     "metadata": {},
     "output_type": "display_data"
    },
    {
     "name": "stdout",
     "output_type": "stream",
     "text": [
      "\n"
     ]
    },
    {
     "data": {
      "application/vnd.jupyter.widget-view+json": {
       "model_id": "97cd404fba90443bb91da4270080e402",
       "version_major": 2,
       "version_minor": 0
      },
      "text/plain": [
       "HBox(children=(FloatProgress(value=0.0, max=21.0), HTML(value='')))"
      ]
     },
     "metadata": {},
     "output_type": "display_data"
    },
    {
     "name": "stdout",
     "output_type": "stream",
     "text": [
      "\n"
     ]
    },
    {
     "data": {
      "application/vnd.jupyter.widget-view+json": {
       "model_id": "2e159dcdfc284abd95bcf52dc3803bdf",
       "version_major": 2,
       "version_minor": 0
      },
      "text/plain": [
       "HBox(children=(FloatProgress(value=0.0, max=20.0), HTML(value='')))"
      ]
     },
     "metadata": {},
     "output_type": "display_data"
    },
    {
     "name": "stdout",
     "output_type": "stream",
     "text": [
      "\n"
     ]
    },
    {
     "data": {
      "application/vnd.jupyter.widget-view+json": {
       "model_id": "3ba13d6024c0433bb109f00539e70c82",
       "version_major": 2,
       "version_minor": 0
      },
      "text/plain": [
       "HBox(children=(FloatProgress(value=0.0, max=41.0), HTML(value='')))"
      ]
     },
     "metadata": {},
     "output_type": "display_data"
    },
    {
     "name": "stdout",
     "output_type": "stream",
     "text": [
      "\n"
     ]
    },
    {
     "data": {
      "application/vnd.jupyter.widget-view+json": {
       "model_id": "7857182eb94a4f338c03ee30a222790f",
       "version_major": 2,
       "version_minor": 0
      },
      "text/plain": [
       "HBox(children=(FloatProgress(value=0.0, max=4.0), HTML(value='')))"
      ]
     },
     "metadata": {},
     "output_type": "display_data"
    },
    {
     "name": "stdout",
     "output_type": "stream",
     "text": [
      "\n"
     ]
    },
    {
     "data": {
      "application/vnd.jupyter.widget-view+json": {
       "model_id": "d30cc9b1bb9f46da95bf5190c1d34613",
       "version_major": 2,
       "version_minor": 0
      },
      "text/plain": [
       "HBox(children=(FloatProgress(value=0.0, max=26.0), HTML(value='')))"
      ]
     },
     "metadata": {},
     "output_type": "display_data"
    },
    {
     "name": "stdout",
     "output_type": "stream",
     "text": [
      "\n"
     ]
    },
    {
     "data": {
      "application/vnd.jupyter.widget-view+json": {
       "model_id": "8303d23e0a994938a7ea930507325671",
       "version_major": 2,
       "version_minor": 0
      },
      "text/plain": [
       "HBox(children=(FloatProgress(value=0.0, max=11.0), HTML(value='')))"
      ]
     },
     "metadata": {},
     "output_type": "display_data"
    },
    {
     "name": "stdout",
     "output_type": "stream",
     "text": [
      "\n"
     ]
    },
    {
     "data": {
      "application/vnd.jupyter.widget-view+json": {
       "model_id": "89116afe61d9483f817f65901c83bcde",
       "version_major": 2,
       "version_minor": 0
      },
      "text/plain": [
       "HBox(children=(FloatProgress(value=0.0, max=1.0), HTML(value='')))"
      ]
     },
     "metadata": {},
     "output_type": "display_data"
    },
    {
     "name": "stdout",
     "output_type": "stream",
     "text": [
      "\n",
      "There was only one mesh found from the spine process and mesh split, returning empty array\n"
     ]
    },
    {
     "data": {
      "application/vnd.jupyter.widget-view+json": {
       "model_id": "a7dfb33ea2784441bcc4ab693aeb2fc0",
       "version_major": 2,
       "version_minor": 0
      },
      "text/plain": [
       "HBox(children=(FloatProgress(value=0.0, max=11.0), HTML(value='')))"
      ]
     },
     "metadata": {},
     "output_type": "display_data"
    },
    {
     "name": "stdout",
     "output_type": "stream",
     "text": [
      "\n"
     ]
    },
    {
     "data": {
      "application/vnd.jupyter.widget-view+json": {
       "model_id": "d774b63dc995413896145f3fad8b0040",
       "version_major": 2,
       "version_minor": 0
      },
      "text/plain": [
       "HBox(children=(FloatProgress(value=0.0, max=14.0), HTML(value='')))"
      ]
     },
     "metadata": {},
     "output_type": "display_data"
    },
    {
     "name": "stdout",
     "output_type": "stream",
     "text": [
      "\n"
     ]
    },
    {
     "data": {
      "application/vnd.jupyter.widget-view+json": {
       "model_id": "cd4724bfa5b746978f1082b54b388826",
       "version_major": 2,
       "version_minor": 0
      },
      "text/plain": [
       "HBox(children=(FloatProgress(value=0.0, max=20.0), HTML(value='')))"
      ]
     },
     "metadata": {},
     "output_type": "display_data"
    },
    {
     "name": "stdout",
     "output_type": "stream",
     "text": [
      "\n"
     ]
    },
    {
     "data": {
      "application/vnd.jupyter.widget-view+json": {
       "model_id": "97934a85c8db405dbd782838de0253ee",
       "version_major": 2,
       "version_minor": 0
      },
      "text/plain": [
       "HBox(children=(FloatProgress(value=0.0, max=13.0), HTML(value='')))"
      ]
     },
     "metadata": {},
     "output_type": "display_data"
    },
    {
     "name": "stdout",
     "output_type": "stream",
     "text": [
      "\n"
     ]
    },
    {
     "data": {
      "application/vnd.jupyter.widget-view+json": {
       "model_id": "baecada399504a6e89e1010df9206a54",
       "version_major": 2,
       "version_minor": 0
      },
      "text/plain": [
       "HBox(children=(FloatProgress(value=0.0, max=38.0), HTML(value='')))"
      ]
     },
     "metadata": {},
     "output_type": "display_data"
    },
    {
     "name": "stdout",
     "output_type": "stream",
     "text": [
      "\n"
     ]
    },
    {
     "data": {
      "application/vnd.jupyter.widget-view+json": {
       "model_id": "e7d7797f88f649779b32ad7288ae8042",
       "version_major": 2,
       "version_minor": 0
      },
      "text/plain": [
       "HBox(children=(FloatProgress(value=0.0, max=27.0), HTML(value='')))"
      ]
     },
     "metadata": {},
     "output_type": "display_data"
    },
    {
     "name": "stdout",
     "output_type": "stream",
     "text": [
      "\n"
     ]
    },
    {
     "data": {
      "application/vnd.jupyter.widget-view+json": {
       "model_id": "4900a52fd38c44099561885860108a38",
       "version_major": 2,
       "version_minor": 0
      },
      "text/plain": [
       "HBox(children=(FloatProgress(value=0.0, max=78.0), HTML(value='')))"
      ]
     },
     "metadata": {},
     "output_type": "display_data"
    },
    {
     "name": "stdout",
     "output_type": "stream",
     "text": [
      "\n"
     ]
    },
    {
     "data": {
      "application/vnd.jupyter.widget-view+json": {
       "model_id": "01f449666e22406e837e53af063538b6",
       "version_major": 2,
       "version_minor": 0
      },
      "text/plain": [
       "HBox(children=(FloatProgress(value=0.0, max=66.0), HTML(value='')))"
      ]
     },
     "metadata": {},
     "output_type": "display_data"
    },
    {
     "name": "stdout",
     "output_type": "stream",
     "text": [
      "\n"
     ]
    },
    {
     "data": {
      "application/vnd.jupyter.widget-view+json": {
       "model_id": "9784a00cb42945f2ae3a4ded30540324",
       "version_major": 2,
       "version_minor": 0
      },
      "text/plain": [
       "HBox(children=(FloatProgress(value=0.0, max=32.0), HTML(value='')))"
      ]
     },
     "metadata": {},
     "output_type": "display_data"
    },
    {
     "name": "stdout",
     "output_type": "stream",
     "text": [
      "\n"
     ]
    },
    {
     "data": {
      "application/vnd.jupyter.widget-view+json": {
       "model_id": "673269edac2246c7948e14c4b4902cd2",
       "version_major": 2,
       "version_minor": 0
      },
      "text/plain": [
       "HBox(children=(FloatProgress(value=0.0, max=4.0), HTML(value='')))"
      ]
     },
     "metadata": {},
     "output_type": "display_data"
    },
    {
     "name": "stdout",
     "output_type": "stream",
     "text": [
      "\n"
     ]
    },
    {
     "data": {
      "application/vnd.jupyter.widget-view+json": {
       "model_id": "bd7aa02756b44530a3011c1bbba04bda",
       "version_major": 2,
       "version_minor": 0
      },
      "text/plain": [
       "HBox(children=(FloatProgress(value=0.0, max=73.0), HTML(value='')))"
      ]
     },
     "metadata": {},
     "output_type": "display_data"
    },
    {
     "name": "stdout",
     "output_type": "stream",
     "text": [
      "\n"
     ]
    },
    {
     "data": {
      "application/vnd.jupyter.widget-view+json": {
       "model_id": "720bfdcb556747b2ae7d0a0b8d062a64",
       "version_major": 2,
       "version_minor": 0
      },
      "text/plain": [
       "HBox(children=(FloatProgress(value=0.0, max=18.0), HTML(value='')))"
      ]
     },
     "metadata": {},
     "output_type": "display_data"
    },
    {
     "name": "stdout",
     "output_type": "stream",
     "text": [
      "\n"
     ]
    },
    {
     "data": {
      "application/vnd.jupyter.widget-view+json": {
       "model_id": "acc18eb4ac204f71ae6b9a6154bfdb2b",
       "version_major": 2,
       "version_minor": 0
      },
      "text/plain": [
       "HBox(children=(FloatProgress(value=0.0, max=18.0), HTML(value='')))"
      ]
     },
     "metadata": {},
     "output_type": "display_data"
    },
    {
     "name": "stdout",
     "output_type": "stream",
     "text": [
      "\n"
     ]
    },
    {
     "data": {
      "application/vnd.jupyter.widget-view+json": {
       "model_id": "cca98edb386f49c49a54ce08510db846",
       "version_major": 2,
       "version_minor": 0
      },
      "text/plain": [
       "HBox(children=(FloatProgress(value=0.0, max=71.0), HTML(value='')))"
      ]
     },
     "metadata": {},
     "output_type": "display_data"
    },
    {
     "name": "stdout",
     "output_type": "stream",
     "text": [
      "\n"
     ]
    },
    {
     "data": {
      "application/vnd.jupyter.widget-view+json": {
       "model_id": "5cae8542200a403d8c11fe3d36615dac",
       "version_major": 2,
       "version_minor": 0
      },
      "text/plain": [
       "HBox(children=(FloatProgress(value=0.0, max=62.0), HTML(value='')))"
      ]
     },
     "metadata": {},
     "output_type": "display_data"
    },
    {
     "name": "stdout",
     "output_type": "stream",
     "text": [
      "\n"
     ]
    },
    {
     "data": {
      "application/vnd.jupyter.widget-view+json": {
       "model_id": "74eb45cba0dd4eb390ded2700dc0ae31",
       "version_major": 2,
       "version_minor": 0
      },
      "text/plain": [
       "HBox(children=(FloatProgress(value=0.0, max=90.0), HTML(value='')))"
      ]
     },
     "metadata": {},
     "output_type": "display_data"
    },
    {
     "name": "stdout",
     "output_type": "stream",
     "text": [
      "\n",
      "Working on limb L0 branch 5\n",
      "No spines and using precomputed width\n",
      "Working on limb L0 branch 2\n",
      "Working on limb L0 branch 147\n",
      "Working on limb L0 branch 0\n",
      "Working on limb L0 branch 3\n",
      "Working on limb L0 branch 93\n",
      "No spines and using precomputed width\n",
      "Working on limb L0 branch 94\n",
      "Working on limb L0 branch 503\n",
      "Working on limb L0 branch 505\n",
      "Working on limb L0 branch 6\n",
      "Working on limb L0 branch 508\n",
      "Working on limb L0 branch 92\n",
      "No spines and using precomputed width\n",
      "Working on limb L0 branch 254\n",
      "No spines and using precomputed width\n",
      "Working on limb L0 branch 48\n",
      "No spines and using precomputed width\n",
      "Working on limb L0 branch 49\n",
      "No spines and using precomputed width\n",
      "Working on limb L0 branch 9\n",
      "Working on limb L0 branch 504\n",
      "No spines and using precomputed width\n",
      "Working on limb L0 branch 1\n",
      "Working on limb L0 branch 4\n",
      "Working on limb L0 branch 91\n",
      "No spines and using precomputed width\n",
      "Working on limb L0 branch 210\n",
      "No spines and using precomputed width\n",
      "Working on limb L0 branch 253\n",
      "No spines and using precomputed width\n",
      "Working on limb L0 branch 489\n",
      "No spines and using precomputed width\n",
      "Working on limb L0 branch 47\n",
      "No spines and using precomputed width\n",
      "Working on limb L0 branch 64\n",
      "No spines and using precomputed width\n",
      "Working on limb L0 branch 34\n",
      "No spines and using precomputed width\n",
      "Working on limb L0 branch 35\n",
      "No spines and using precomputed width\n",
      "Working on limb L0 branch 498\n",
      "Working on limb L0 branch 499\n",
      "Working on limb L0 branch 501\n",
      "Working on limb L0 branch 502\n",
      "Working on limb L0 branch 209\n",
      "No spines and using precomputed width\n",
      "Working on limb L0 branch 331\n",
      "No spines and using precomputed width\n",
      "Working on limb L0 branch 252\n",
      "No spines and using precomputed width\n",
      "Working on limb L0 branch 448\n",
      "No spines and using precomputed width\n",
      "Working on limb L0 branch 46\n",
      "No spines and using precomputed width\n",
      "Working on limb L0 branch 54\n",
      "No spines and using precomputed width\n",
      "Working on limb L0 branch 63\n",
      "No spines and using precomputed width\n",
      "Working on limb L0 branch 200\n",
      "No spines and using precomputed width\n",
      "Working on limb L0 branch 33\n",
      "No spines and using precomputed width\n",
      "Working on limb L0 branch 104\n",
      "No spines and using precomputed width\n",
      "Working on limb L0 branch 19\n",
      "Working on limb L0 branch 20\n",
      "No spines and using precomputed width\n",
      "Working on limb L0 branch 497\n",
      "No spines and using precomputed width\n",
      "Working on limb L0 branch 500\n",
      "No spines and using precomputed width\n",
      "Working on limb L0 branch 251\n",
      "No spines and using precomputed width\n",
      "Working on limb L0 branch 355\n",
      "No spines and using precomputed width\n",
      "Working on limb L0 branch 45\n",
      "No spines and using precomputed width\n",
      "Working on limb L0 branch 180\n",
      "No spines and using precomputed width\n",
      "Working on limb L0 branch 53\n",
      "No spines and using precomputed width\n",
      "Working on limb L0 branch 72\n",
      "No spines and using precomputed width\n",
      "Working on limb L0 branch 62\n",
      "No spines and using precomputed width\n",
      "Working on limb L0 branch 391\n",
      "No spines and using precomputed width\n",
      "Working on limb L0 branch 199\n",
      "No spines and using precomputed width\n",
      "Working on limb L0 branch 443\n",
      "No spines and using precomputed width\n",
      "Working on limb L0 branch 32\n",
      "No spines and using precomputed width\n",
      "Working on limb L0 branch 39\n",
      "No spines and using precomputed width\n",
      "Working on limb L0 branch 103\n",
      "No spines and using precomputed width\n",
      "Working on limb L0 branch 120\n",
      "No spines and using precomputed width\n",
      "Working on limb L0 branch 18\n",
      "No spines and using precomputed width\n",
      "Working on limb L0 branch 44\n",
      "No spines and using precomputed width\n",
      "Working on limb L0 branch 21\n",
      "No spines and using precomputed width\n",
      "Working on limb L0 branch 374\n",
      "No spines and using precomputed width\n",
      "Working on limb L0 branch 250\n",
      "No spines and using precomputed width\n",
      "Working on limb L0 branch 450\n",
      "No spines and using precomputed width\n",
      "Working on limb L0 branch 52\n",
      "No spines and using precomputed width\n",
      "Working on limb L0 branch 242\n",
      "No spines and using precomputed width\n",
      "Working on limb L0 branch 71\n",
      "No spines and using precomputed width\n",
      "Working on limb L0 branch 263\n",
      "No spines and using precomputed width\n",
      "Working on limb L0 branch 61\n",
      "No spines and using precomputed width\n",
      "Working on limb L0 branch 494\n",
      "No spines and using precomputed width\n",
      "Working on limb L0 branch 390\n",
      "No spines and using precomputed width\n",
      "Working on limb L0 branch 408\n",
      "No spines and using precomputed width\n",
      "Working on limb L0 branch 198\n",
      "No spines and using precomputed width\n",
      "Working on limb L0 branch 435\n",
      "No spines and using precomputed width\n",
      "Working on limb L0 branch 31\n",
      "No spines and using precomputed width\n",
      "Working on limb L0 branch 37\n",
      "No spines and using precomputed width\n",
      "Working on limb L0 branch 38\n",
      "No spines and using precomputed width\n",
      "Working on limb L0 branch 90\n",
      "No spines and using precomputed width\n",
      "Working on limb L0 branch 102\n",
      "No spines and using precomputed width\n",
      "Working on limb L0 branch 116\n",
      "No spines and using precomputed width\n",
      "Working on limb L0 branch 119\n",
      "No spines and using precomputed width\n",
      "Working on limb L0 branch 270\n",
      "No spines and using precomputed width\n",
      "Working on limb L0 branch 17\n",
      "No spines and using precomputed width\n",
      "Working on limb L0 branch 288\n",
      "No spines and using precomputed width\n",
      "Working on limb L0 branch 43\n",
      "No spines and using precomputed width\n",
      "Working on limb L0 branch 201\n",
      "No spines and using precomputed width\n",
      "Working on limb L0 branch 22\n",
      "No spines and using precomputed width\n",
      "Working on limb L0 branch 269\n",
      "No spines and using precomputed width\n",
      "Working on limb L0 branch 51\n",
      "No spines and using precomputed width\n",
      "Working on limb L0 branch 230\n",
      "No spines and using precomputed width\n",
      "Working on limb L0 branch 70\n",
      "No spines and using precomputed width\n",
      "Working on limb L0 branch 305\n",
      "No spines and using precomputed width\n",
      "Working on limb L0 branch 262\n",
      "No spines and using precomputed width\n",
      "Working on limb L0 branch 381\n",
      "No spines and using precomputed width\n",
      "Working on limb L0 branch 60\n",
      "No spines and using precomputed width\n",
      "Working on limb L0 branch 68\n",
      "No spines and using precomputed width\n",
      "Working on limb L0 branch 389\n",
      "No spines and using precomputed width\n",
      "Working on limb L0 branch 419\n",
      "No spines and using precomputed width\n",
      "Working on limb L0 branch 197\n",
      "No spines and using precomputed width\n",
      "Working on limb L0 branch 236\n",
      "No spines and using precomputed width\n",
      "Working on limb L0 branch 30\n",
      "No spines and using precomputed width\n",
      "Working on limb L0 branch 137\n",
      "No spines and using precomputed width\n",
      "Working on limb L0 branch 36\n",
      "No spines and using precomputed width\n",
      "Working on limb L0 branch 145\n",
      "No spines and using precomputed width\n",
      "Working on limb L0 branch 221\n",
      "No spines and using precomputed width\n",
      "Working on limb L0 branch 89\n",
      "No spines and using precomputed width\n",
      "Working on limb L0 branch 328\n",
      "No spines and using precomputed width\n",
      "Working on limb L0 branch 101\n",
      "No spines and using precomputed width\n",
      "Working on limb L0 branch 243\n",
      "No spines and using precomputed width\n",
      "Working on limb L0 branch 115\n",
      "No spines and using precomputed width\n",
      "Working on limb L0 branch 274\n",
      "No spines and using precomputed width\n",
      "Working on limb L0 branch 349\n",
      "No spines and using precomputed width\n",
      "Working on limb L0 branch 118\n",
      "No spines and using precomputed width\n",
      "Working on limb L0 branch 166\n",
      "No spines and using precomputed width\n",
      "Working on limb L0 branch 16\n",
      "No spines and using precomputed width\n",
      "Working on limb L0 branch 187\n",
      "No spines and using precomputed width\n",
      "Working on limb L0 branch 42\n",
      "No spines and using precomputed width\n",
      "Working on limb L0 branch 106\n",
      "No spines and using precomputed width\n",
      "Working on limb L0 branch 23\n",
      "No spines and using precomputed width\n",
      "Working on limb L0 branch 179\n",
      "No spines and using precomputed width\n",
      "Working on limb L0 branch 268\n",
      "No spines and using precomputed width\n",
      "Working on limb L0 branch 455\n",
      "No spines and using precomputed width\n",
      "Working on limb L0 branch 50\n",
      "No spines and using precomputed width\n",
      "Working on limb L0 branch 126\n",
      "No spines and using precomputed width\n",
      "Working on limb L0 branch 69\n",
      "No spines and using precomputed width\n",
      "Working on limb L0 branch 393\n",
      "No spines and using precomputed width\n",
      "Working on limb L0 branch 304\n",
      "No spines and using precomputed width\n",
      "Working on limb L0 branch 354\n",
      "No spines and using precomputed width\n",
      "Working on limb L0 branch 261\n",
      "No spines and using precomputed width\n",
      "Working on limb L0 branch 340\n",
      "No spines and using precomputed width\n",
      "Working on limb L0 branch 59\n",
      "No spines and using precomputed width\n",
      "Working on limb L0 branch 110\n",
      "No spines and using precomputed width\n",
      "Working on limb L0 branch 67\n",
      "No spines and using precomputed width\n",
      "Working on limb L0 branch 299\n",
      "No spines and using precomputed width\n",
      "Working on limb L0 branch 196\n",
      "No spines and using precomputed width\n",
      "Working on limb L0 branch 302\n",
      "No spines and using precomputed width\n",
      "Working on limb L0 branch 235\n",
      "No spines and using precomputed width\n",
      "Working on limb L0 branch 470\n",
      "No spines and using precomputed width\n",
      "Working on limb L0 branch 479\n",
      "No spines and using precomputed width\n",
      "Working on limb L0 branch 29\n",
      "No spines and using precomputed width\n",
      "Working on limb L0 branch 461\n",
      "No spines and using precomputed width\n",
      "Working on limb L0 branch 136\n",
      "No spines and using precomputed width\n",
      "Working on limb L0 branch 193\n",
      "No spines and using precomputed width\n",
      "Working on limb L0 branch 88\n",
      "No spines and using precomputed width\n",
      "Working on limb L0 branch 471\n",
      "No spines and using precomputed width\n",
      "Working on limb L0 branch 100\n",
      "No spines and using precomputed width\n",
      "Working on limb L0 branch 257\n",
      "No spines and using precomputed width\n",
      "Working on limb L0 branch 114\n",
      "No spines and using precomputed width\n",
      "Working on limb L0 branch 272\n",
      "No spines and using precomputed width\n",
      "Working on limb L0 branch 348\n",
      "No spines and using precomputed width\n",
      "Working on limb L0 branch 382\n",
      "No spines and using precomputed width\n",
      "Working on limb L0 branch 117\n",
      "No spines and using precomputed width\n",
      "Working on limb L0 branch 275\n",
      "No spines and using precomputed width\n",
      "Working on limb L0 branch 165\n",
      "No spines and using precomputed width\n",
      "Working on limb L0 branch 307\n",
      "No spines and using precomputed width\n",
      "Working on limb L0 branch 15\n",
      "No spines and using precomputed width\n",
      "Working on limb L0 branch 234\n",
      "No spines and using precomputed width\n",
      "Working on limb L0 branch 186\n",
      "No spines and using precomputed width\n",
      "Working on limb L0 branch 337\n",
      "No spines and using precomputed width\n",
      "Working on limb L0 branch 41\n",
      "No spines and using precomputed width\n",
      "Working on limb L0 branch 335\n",
      "No spines and using precomputed width\n",
      "Working on limb L0 branch 397\n",
      "No spines and using precomputed width\n",
      "Working on limb L0 branch 105\n",
      "No spines and using precomputed width\n",
      "Working on limb L0 branch 294\n",
      "No spines and using precomputed width\n",
      "Working on limb L0 branch 24\n",
      "No spines and using precomputed width\n",
      "Working on limb L0 branch 240\n",
      "No spines and using precomputed width\n",
      "Working on limb L0 branch 178\n",
      "No spines and using precomputed width\n",
      "Working on limb L0 branch 361\n",
      "No spines and using precomputed width\n",
      "Working on limb L0 branch 267\n",
      "No spines and using precomputed width\n",
      "Working on limb L0 branch 290\n",
      "No spines and using precomputed width\n",
      "Working on limb L0 branch 392\n",
      "No spines and using precomputed width\n",
      "Working on limb L0 branch 398\n",
      "No spines and using precomputed width\n",
      "Working on limb L0 branch 303\n",
      "No spines and using precomputed width\n",
      "Working on limb L0 branch 407\n",
      "No spines and using precomputed width\n",
      "Working on limb L0 branch 353\n",
      "No spines and using precomputed width\n",
      "Working on limb L0 branch 363\n",
      "No spines and using precomputed width\n",
      "Working on limb L0 branch 260\n",
      "No spines and using precomputed width\n",
      "Working on limb L0 branch 447\n",
      "No spines and using precomputed width\n",
      "Working on limb L0 branch 339\n",
      "No spines and using precomputed width\n",
      "Working on limb L0 branch 437\n",
      "No spines and using precomputed width\n",
      "Working on limb L0 branch 58\n",
      "No spines and using precomputed width\n",
      "Working on limb L0 branch 326\n",
      "No spines and using precomputed width\n",
      "Working on limb L0 branch 109\n",
      "No spines and using precomputed width\n",
      "Working on limb L0 branch 121\n",
      "No spines and using precomputed width\n",
      "Working on limb L0 branch 432\n",
      "No spines and using precomputed width\n",
      "Working on limb L0 branch 66\n",
      "No spines and using precomputed width\n",
      "Working on limb L0 branch 278\n",
      "No spines and using precomputed width\n",
      "Working on limb L0 branch 298\n",
      "No spines and using precomputed width\n",
      "Working on limb L0 branch 491\n",
      "No spines and using precomputed width\n",
      "Working on limb L0 branch 28\n",
      "No spines and using precomputed width\n",
      "Working on limb L0 branch 417\n",
      "No spines and using precomputed width\n",
      "Working on limb L0 branch 135\n",
      "No spines and using precomputed width\n",
      "Working on limb L0 branch 143\n",
      "No spines and using precomputed width\n",
      "Working on limb L0 branch 192\n",
      "No spines and using precomputed width\n",
      "Working on limb L0 branch 478\n",
      "No spines and using precomputed width\n",
      "Working on limb L0 branch 87\n",
      "No spines and using precomputed width\n",
      "Working on limb L0 branch 129\n",
      "No spines and using precomputed width\n",
      "Working on limb L0 branch 99\n",
      "No spines and using precomputed width\n",
      "Working on limb L0 branch 429\n",
      "No spines and using precomputed width\n",
      "Working on limb L0 branch 256\n",
      "No spines and using precomputed width\n",
      "Working on limb L0 branch 463\n",
      "No spines and using precomputed width\n",
      "Working on limb L0 branch 164\n",
      "No spines and using precomputed width\n",
      "Working on limb L0 branch 172\n",
      "No spines and using precomputed width\n",
      "Working on limb L0 branch 306\n",
      "No spines and using precomputed width\n",
      "Working on limb L0 branch 452\n",
      "No spines and using precomputed width\n",
      "Working on limb L0 branch 14\n",
      "No spines and using precomputed width\n",
      "Working on limb L0 branch 418\n",
      "No spines and using precomputed width\n",
      "Working on limb L0 branch 185\n",
      "No spines and using precomputed width\n",
      "Working on limb L0 branch 410\n",
      "No spines and using precomputed width\n",
      "Working on limb L0 branch 336\n",
      "No spines and using precomputed width\n",
      "Working on limb L0 branch 402\n",
      "No spines and using precomputed width\n",
      "Working on limb L0 branch 40\n",
      "No spines and using precomputed width\n",
      "Working on limb L0 branch 427\n",
      "No spines and using precomputed width\n",
      "Working on limb L0 branch 25\n",
      "No spines and using precomputed width\n",
      "Working on limb L0 branch 342\n",
      "No spines and using precomputed width\n",
      "Working on limb L0 branch 239\n",
      "No spines and using precomputed width\n",
      "Working on limb L0 branch 308\n",
      "No spines and using precomputed width\n",
      "Working on limb L0 branch 177\n",
      "No spines and using precomputed width\n",
      "Working on limb L0 branch 439\n",
      "No spines and using precomputed width\n",
      "Working on limb L0 branch 458\n",
      "No spines and using precomputed width\n",
      "Working on limb L0 branch 266\n",
      "No spines and using precomputed width\n",
      "Working on limb L0 branch 356\n",
      "No spines and using precomputed width\n",
      "Working on limb L0 branch 289\n",
      "No spines and using precomputed width\n",
      "Working on limb L0 branch 424\n",
      "No spines and using precomputed width\n",
      "Working on limb L0 branch 352\n",
      "No spines and using precomputed width\n",
      "Working on limb L0 branch 462\n",
      "No spines and using precomputed width\n",
      "Working on limb L0 branch 259\n",
      "No spines and using precomputed width\n",
      "Working on limb L0 branch 453\n",
      "No spines and using precomputed width\n",
      "Working on limb L0 branch 338\n",
      "No spines and using precomputed width\n",
      "Working on limb L0 branch 343\n",
      "No spines and using precomputed width\n",
      "Working on limb L0 branch 57\n",
      "No spines and using precomputed width\n",
      "Working on limb L0 branch 400\n",
      "No spines and using precomputed width\n",
      "Working on limb L0 branch 108\n",
      "No spines and using precomputed width\n",
      "Working on limb L0 branch 144\n",
      "No spines and using precomputed width\n",
      "Working on limb L0 branch 431\n",
      "No spines and using precomputed width\n",
      "Working on limb L0 branch 480\n",
      "No spines and using precomputed width\n",
      "Working on limb L0 branch 65\n",
      "No spines and using precomputed width\n",
      "Working on limb L0 branch 318\n",
      "No spines and using precomputed width\n",
      "Working on limb L0 branch 297\n",
      "No spines and using precomputed width\n",
      "Working on limb L0 branch 451\n",
      "No spines and using precomputed width\n",
      "Working on limb L0 branch 27\n",
      "No spines and using precomputed width\n",
      "Working on limb L0 branch 280\n",
      "No spines and using precomputed width\n",
      "Working on limb L0 branch 134\n",
      "No spines and using precomputed width\n",
      "Working on limb L0 branch 214\n",
      "No spines and using precomputed width\n",
      "Working on limb L0 branch 142\n",
      "No spines and using precomputed width\n",
      "Working on limb L0 branch 292\n",
      "No spines and using precomputed width\n",
      "Working on limb L0 branch 191\n",
      "No spines and using precomputed width\n",
      "Working on limb L0 branch 350\n",
      "No spines and using precomputed width\n",
      "Working on limb L0 branch 128\n",
      "No spines and using precomputed width\n",
      "Working on limb L0 branch 208\n",
      "No spines and using precomputed width\n",
      "Working on limb L0 branch 247\n",
      "No spines and using precomputed width\n",
      "Working on limb L0 branch 276\n",
      "No spines and using precomputed width\n",
      "Working on limb L0 branch 98\n",
      "No spines and using precomputed width\n",
      "Working on limb L0 branch 113\n",
      "No spines and using precomputed width\n",
      "Working on limb L0 branch 255\n",
      "No spines and using precomputed width\n",
      "Working on limb L0 branch 396\n",
      "No spines and using precomputed width\n",
      "Working on limb L0 branch 163\n",
      "No spines and using precomputed width\n",
      "Working on limb L0 branch 258\n",
      "No spines and using precomputed width\n",
      "Working on limb L0 branch 395\n",
      "No spines and using precomputed width\n",
      "Working on limb L0 branch 426\n",
      "No spines and using precomputed width\n",
      "Working on limb L0 branch 171\n",
      "No spines and using precomputed width\n",
      "Working on limb L0 branch 373\n",
      "No spines and using precomputed width\n",
      "Working on limb L0 branch 510\n",
      "No spines and using precomputed width\n",
      "Working on limb L0 branch 13\n",
      "No spines and using precomputed width\n",
      "Working on limb L0 branch 86\n",
      "No spines and using precomputed width\n",
      "Working on limb L0 branch 184\n",
      "No spines and using precomputed width\n",
      "Working on limb L0 branch 287\n",
      "No spines and using precomputed width\n",
      "Working on limb L0 branch 409\n",
      "No spines and using precomputed width\n",
      "Working on limb L0 branch 445\n",
      "No spines and using precomputed width\n",
      "Working on limb L0 branch 26\n",
      "No spines and using precomputed width\n",
      "Working on limb L0 branch 78\n",
      "No spines and using precomputed width\n",
      "Working on limb L0 branch 341\n",
      "No spines and using precomputed width\n",
      "Working on limb L0 branch 370\n",
      "No spines and using precomputed width\n",
      "Working on limb L0 branch 238\n",
      "No spines and using precomputed width\n",
      "Working on limb L0 branch 421\n",
      "No spines and using precomputed width\n",
      "Working on limb L0 branch 176\n",
      "No spines and using precomputed width\n",
      "Working on limb L0 branch 332\n",
      "No spines and using precomputed width\n",
      "Working on limb L0 branch 265\n",
      "No spines and using precomputed width\n",
      "Working on limb L0 branch 360\n",
      "No spines and using precomputed width\n",
      "Working on limb L0 branch 509\n",
      "No spines and using precomputed width\n",
      "Working on limb L0 branch 351\n",
      "No spines and using precomputed width\n",
      "Working on limb L0 branch 484\n",
      "No spines and using precomputed width\n",
      "Working on limb L0 branch 56\n",
      "No spines and using precomputed width\n",
      "Working on limb L0 branch 404\n",
      "No spines and using precomputed width\n",
      "Working on limb L0 branch 107\n",
      "No spines and using precomputed width\n",
      "Working on limb L0 branch 385\n",
      "No spines and using precomputed width\n",
      "Working on limb L0 branch 430\n",
      "No spines and using precomputed width\n",
      "Working on limb L0 branch 446\n",
      "No spines and using precomputed width\n",
      "Working on limb L0 branch 296\n",
      "No spines and using precomputed width\n",
      "Working on limb L0 branch 334\n",
      "No spines and using precomputed width\n",
      "Working on limb L0 branch 406\n",
      "No spines and using precomputed width\n",
      "Working on limb L0 branch 279\n",
      "No spines and using precomputed width\n",
      "Working on limb L0 branch 365\n",
      "No spines and using precomputed width\n",
      "Working on limb L0 branch 133\n",
      "No spines and using precomputed width\n",
      "Working on limb L0 branch 469\n",
      "No spines and using precomputed width\n",
      "Working on limb L0 branch 213\n",
      "No spines and using precomputed width\n",
      "Working on limb L0 branch 473\n",
      "No spines and using precomputed width\n",
      "Working on limb L0 branch 141\n",
      "No spines and using precomputed width\n",
      "Working on limb L0 branch 167\n",
      "No spines and using precomputed width\n",
      "Working on limb L0 branch 190\n",
      "No spines and using precomputed width\n",
      "Working on limb L0 branch 487\n",
      "No spines and using precomputed width\n",
      "Working on limb L0 branch 127\n",
      "No spines and using precomputed width\n",
      "Working on limb L0 branch 245\n",
      "No spines and using precomputed width\n",
      "Working on limb L0 branch 207\n",
      "No spines and using precomputed width\n",
      "Working on limb L0 branch 241\n",
      "No spines and using precomputed width\n",
      "Working on limb L0 branch 399\n",
      "No spines and using precomputed width\n",
      "Working on limb L0 branch 97\n",
      "No spines and using precomputed width\n",
      "Working on limb L0 branch 229\n",
      "No spines and using precomputed width\n",
      "Working on limb L0 branch 112\n",
      "No spines and using precomputed width\n",
      "Working on limb L0 branch 125\n",
      "No spines and using precomputed width\n",
      "Working on limb L0 branch 162\n",
      "No spines and using precomputed width\n",
      "Working on limb L0 branch 386\n",
      "No spines and using precomputed width\n",
      "Working on limb L0 branch 490\n",
      "No spines and using precomputed width\n",
      "Working on limb L0 branch 394\n",
      "No spines and using precomputed width\n",
      "Working on limb L0 branch 457\n",
      "No spines and using precomputed width\n",
      "Working on limb L0 branch 459\n",
      "No spines and using precomputed width\n",
      "Working on limb L0 branch 372\n",
      "No spines and using precomputed width\n",
      "Working on limb L0 branch 476\n",
      "No spines and using precomputed width\n",
      "Working on limb L0 branch 12\n",
      "No spines and using precomputed width\n",
      "Working on limb L0 branch 212\n",
      "No spines and using precomputed width\n",
      "Working on limb L0 branch 85\n",
      "No spines and using precomputed width\n",
      "Working on limb L0 branch 323\n",
      "No spines and using precomputed width\n",
      "Working on limb L0 branch 183\n",
      "No spines and using precomputed width\n",
      "Working on limb L0 branch 283\n",
      "No spines and using precomputed width\n",
      "Working on limb L0 branch 7\n"
     ]
    },
    {
     "name": "stdout",
     "output_type": "stream",
     "text": [
      "Working on limb L0 branch 8\n",
      "Working on limb L0 branch 77\n",
      "No spines and using precomputed width\n",
      "Working on limb L0 branch 277\n",
      "No spines and using precomputed width\n",
      "Working on limb L0 branch 369\n",
      "No spines and using precomputed width\n",
      "Working on limb L0 branch 414\n",
      "No spines and using precomputed width\n",
      "Working on limb L0 branch 55\n",
      "No spines and using precomputed width\n",
      "Working on limb L0 branch 492\n",
      "No spines and using precomputed width\n",
      "Working on limb L0 branch 384\n",
      "No spines and using precomputed width\n",
      "Working on limb L0 branch 438\n",
      "No spines and using precomputed width\n",
      "Working on limb L0 branch 364\n",
      "No spines and using precomputed width\n",
      "Working on limb L0 branch 486\n",
      "No spines and using precomputed width\n",
      "Working on limb L0 branch 132\n",
      "No spines and using precomputed width\n",
      "Working on limb L0 branch 423\n",
      "No spines and using precomputed width\n",
      "Working on limb L0 branch 140\n",
      "No spines and using precomputed width\n",
      "Working on limb L0 branch 312\n",
      "No spines and using precomputed width\n",
      "Working on limb L0 branch 330\n",
      "No spines and using precomputed width\n",
      "Working on limb L0 branch 189\n",
      "No spines and using precomputed width\n",
      "Working on limb L0 branch 246\n",
      "No spines and using precomputed width\n",
      "Working on limb L0 branch 206\n",
      "No spines and using precomputed width\n",
      "Working on limb L0 branch 322\n",
      "No spines and using precomputed width\n",
      "Working on limb L0 branch 96\n",
      "No spines and using precomputed width\n",
      "Working on limb L0 branch 460\n",
      "No spines and using precomputed width\n",
      "Working on limb L0 branch 228\n",
      "No spines and using precomputed width\n",
      "Working on limb L0 branch 405\n",
      "No spines and using precomputed width\n",
      "Working on limb L0 branch 111\n",
      "No spines and using precomputed width\n",
      "Working on limb L0 branch 155\n",
      "No spines and using precomputed width\n",
      "Working on limb L0 branch 124\n",
      "No spines and using precomputed width\n",
      "Working on limb L0 branch 466\n",
      "No spines and using precomputed width\n",
      "Working on limb L0 branch 161\n",
      "No spines and using precomputed width\n",
      "Working on limb L0 branch 411\n",
      "No spines and using precomputed width\n",
      "Working on limb L0 branch 11\n",
      "No spines and using precomputed width\n",
      "Working on limb L0 branch 346\n",
      "No spines and using precomputed width\n",
      "Working on limb L0 branch 211\n",
      "No spines and using precomputed width\n",
      "Working on limb L0 branch 244\n",
      "No spines and using precomputed width\n",
      "Working on limb L0 branch 84\n",
      "No spines and using precomputed width\n",
      "Working on limb L0 branch 482\n",
      "No spines and using precomputed width\n",
      "Working on limb L0 branch 182\n",
      "No spines and using precomputed width\n",
      "Working on limb L0 branch 468\n",
      "No spines and using precomputed width\n",
      "Working on limb L0 branch 282\n",
      "No spines and using precomputed width\n",
      "Working on limb L0 branch 475\n",
      "No spines and using precomputed width\n",
      "Working on limb L0 branch 506\n",
      "Working on limb L0 branch 507\n",
      "Working on limb L0 branch 76\n",
      "No spines and using precomputed width\n",
      "Working on limb L0 branch 472\n",
      "No spines and using precomputed width\n",
      "Working on limb L0 branch 368\n",
      "No spines and using precomputed width\n",
      "Working on limb L0 branch 412\n",
      "No spines and using precomputed width\n",
      "Working on limb L0 branch 383\n",
      "No spines and using precomputed width\n",
      "Working on limb L0 branch 436\n",
      "No spines and using precomputed width\n",
      "Working on limb L0 branch 131\n",
      "No spines and using precomputed width\n",
      "Working on limb L0 branch 301\n",
      "No spines and using precomputed width\n",
      "Working on limb L0 branch 422\n",
      "No spines and using precomputed width\n",
      "Working on limb L0 branch 434\n",
      "No spines and using precomputed width\n",
      "Working on limb L0 branch 139\n",
      "No spines and using precomputed width\n",
      "Working on limb L0 branch 493\n",
      "No spines and using precomputed width\n",
      "Working on limb L0 branch 311\n",
      "No spines and using precomputed width\n",
      "Working on limb L0 branch 325\n",
      "No spines and using precomputed width\n",
      "Working on limb L0 branch 188\n",
      "No spines and using precomputed width\n",
      "Working on limb L0 branch 456\n",
      "No spines and using precomputed width\n",
      "Working on limb L0 branch 95\n",
      "No spines and using precomputed width\n",
      "Working on limb L0 branch 232\n",
      "No spines and using precomputed width\n",
      "Working on limb L0 branch 227\n",
      "No spines and using precomputed width\n",
      "Working on limb L0 branch 281\n",
      "No spines and using precomputed width\n",
      "Working on limb L0 branch 293\n",
      "No spines and using precomputed width\n",
      "Working on limb L0 branch 154\n",
      "No spines and using precomputed width\n",
      "Working on limb L0 branch 379\n",
      "No spines and using precomputed width\n",
      "Working on limb L0 branch 123\n",
      "No spines and using precomputed width\n",
      "Working on limb L0 branch 344\n",
      "No spines and using precomputed width\n",
      "Working on limb L0 branch 160\n",
      "No spines and using precomputed width\n",
      "Working on limb L0 branch 377\n",
      "No spines and using precomputed width\n",
      "Working on limb L0 branch 10\n",
      "No spines and using precomputed width\n",
      "Working on limb L0 branch 467\n",
      "No spines and using precomputed width\n",
      "Working on limb L0 branch 345\n",
      "No spines and using precomputed width\n",
      "Working on limb L0 branch 367\n",
      "No spines and using precomputed width\n",
      "Working on limb L0 branch 83\n",
      "No spines and using precomputed width\n",
      "Working on limb L0 branch 428\n",
      "No spines and using precomputed width\n",
      "Working on limb L0 branch 181\n",
      "No spines and using precomputed width\n",
      "Working on limb L0 branch 204\n",
      "No spines and using precomputed width\n",
      "Working on limb L0 branch 225\n",
      "No spines and using precomputed width\n",
      "Working on limb L0 branch 75\n",
      "No spines and using precomputed width\n",
      "Working on limb L0 branch 375\n",
      "No spines and using precomputed width\n",
      "Working on limb L0 branch 130\n",
      "No spines and using precomputed width\n",
      "Working on limb L0 branch 413\n",
      "No spines and using precomputed width\n",
      "Working on limb L0 branch 300\n",
      "No spines and using precomputed width\n",
      "Working on limb L0 branch 454\n",
      "No spines and using precomputed width\n",
      "Working on limb L0 branch 433\n",
      "No spines and using precomputed width\n",
      "Working on limb L0 branch 495\n",
      "No spines and using precomputed width\n",
      "Working on limb L0 branch 138\n",
      "No spines and using precomputed width\n",
      "Working on limb L0 branch 220\n",
      "No spines and using precomputed width\n",
      "Working on limb L0 branch 310\n",
      "No spines and using precomputed width\n",
      "Working on limb L0 branch 376\n",
      "No spines and using precomputed width\n",
      "Working on limb L0 branch 324\n",
      "No spines and using precomputed width\n",
      "Working on limb L0 branch 359\n",
      "No spines and using precomputed width\n",
      "Working on limb L0 branch 231\n",
      "No spines and using precomputed width\n",
      "Working on limb L0 branch 264\n",
      "No spines and using precomputed width\n",
      "Working on limb L0 branch 226\n",
      "No spines and using precomputed width\n",
      "Working on limb L0 branch 371\n",
      "No spines and using precomputed width\n",
      "Working on limb L0 branch 153\n",
      "No spines and using precomputed width\n",
      "Working on limb L0 branch 483\n",
      "No spines and using precomputed width\n",
      "Working on limb L0 branch 378\n",
      "No spines and using precomputed width\n",
      "Working on limb L0 branch 380\n",
      "No spines and using precomputed width\n",
      "Working on limb L0 branch 122\n",
      "No spines and using precomputed width\n",
      "Working on limb L0 branch 170\n",
      "No spines and using precomputed width\n",
      "Working on limb L0 branch 358\n",
      "No spines and using precomputed width\n",
      "Working on limb L0 branch 159\n",
      "No spines and using precomputed width\n",
      "Working on limb L0 branch 195\n",
      "No spines and using precomputed width\n",
      "Working on limb L0 branch 366\n",
      "No spines and using precomputed width\n",
      "Working on limb L0 branch 420\n",
      "No spines and using precomputed width\n",
      "Working on limb L0 branch 82\n",
      "No spines and using precomputed width\n",
      "Working on limb L0 branch 333\n",
      "No spines and using precomputed width\n",
      "Working on limb L0 branch 203\n",
      "No spines and using precomputed width\n",
      "Working on limb L0 branch 223\n",
      "No spines and using precomputed width\n",
      "Working on limb L0 branch 442\n",
      "No spines and using precomputed width\n",
      "Working on limb L0 branch 74\n",
      "No spines and using precomputed width\n",
      "Working on limb L0 branch 146\n",
      "No spines and using precomputed width\n",
      "Working on limb L0 branch 219\n",
      "No spines and using precomputed width\n",
      "Working on limb L0 branch 481\n",
      "No spines and using precomputed width\n",
      "Working on limb L0 branch 152\n",
      "No spines and using precomputed width\n",
      "Working on limb L0 branch 273\n",
      "No spines and using precomputed width\n",
      "Working on limb L0 branch 169\n",
      "No spines and using precomputed width\n",
      "Working on limb L0 branch 440\n",
      "No spines and using precomputed width\n",
      "Working on limb L0 branch 465\n",
      "No spines and using precomputed width\n",
      "Working on limb L0 branch 357\n",
      "No spines and using precomputed width\n",
      "Working on limb L0 branch 449\n",
      "No spines and using precomputed width\n",
      "Working on limb L0 branch 158\n",
      "No spines and using precomputed width\n",
      "Working on limb L0 branch 271\n",
      "No spines and using precomputed width\n",
      "Working on limb L0 branch 194\n",
      "No spines and using precomputed width\n",
      "Working on limb L0 branch 205\n",
      "No spines and using precomputed width\n",
      "Working on limb L0 branch 415\n",
      "No spines and using precomputed width\n",
      "Working on limb L0 branch 81\n",
      "No spines and using precomputed width\n",
      "Working on limb L0 branch 286\n",
      "No spines and using precomputed width\n",
      "Working on limb L0 branch 362\n",
      "No spines and using precomputed width\n",
      "Working on limb L0 branch 202\n",
      "No spines and using precomputed width\n",
      "Working on limb L0 branch 387\n",
      "No spines and using precomputed width\n",
      "Working on limb L0 branch 222\n",
      "No spines and using precomputed width\n",
      "Working on limb L0 branch 464\n",
      "No spines and using precomputed width\n",
      "Working on limb L0 branch 441\n",
      "No spines and using precomputed width\n",
      "Working on limb L0 branch 496\n",
      "No spines and using precomputed width\n",
      "Working on limb L0 branch 73\n",
      "No spines and using precomputed width\n",
      "Working on limb L0 branch 474\n",
      "No spines and using precomputed width\n",
      "Working on limb L0 branch 218\n",
      "No spines and using precomputed width\n",
      "Working on limb L0 branch 401\n",
      "No spines and using precomputed width\n",
      "Working on limb L0 branch 151\n",
      "No spines and using precomputed width\n",
      "Working on limb L0 branch 233\n",
      "No spines and using precomputed width\n",
      "Working on limb L0 branch 168\n",
      "No spines and using precomputed width\n",
      "Working on limb L0 branch 309\n",
      "No spines and using precomputed width\n",
      "Working on limb L0 branch 157\n",
      "No spines and using precomputed width\n",
      "Working on limb L0 branch 477\n",
      "No spines and using precomputed width\n",
      "Working on limb L0 branch 80\n",
      "No spines and using precomputed width\n",
      "Working on limb L0 branch 403\n",
      "No spines and using precomputed width\n",
      "Working on limb L0 branch 285\n",
      "No spines and using precomputed width\n",
      "Working on limb L0 branch 425\n",
      "No spines and using precomputed width\n",
      "Working on limb L0 branch 217\n",
      "No spines and using precomputed width\n",
      "Working on limb L0 branch 295\n",
      "No spines and using precomputed width\n",
      "Working on limb L0 branch 150\n",
      "No spines and using precomputed width\n",
      "Working on limb L0 branch 347\n",
      "No spines and using precomputed width\n",
      "Working on limb L0 branch 156\n",
      "No spines and using precomputed width\n",
      "Working on limb L0 branch 317\n",
      "No spines and using precomputed width\n",
      "Working on limb L0 branch 79\n",
      "No spines and using precomputed width\n",
      "Working on limb L0 branch 488\n",
      "No spines and using precomputed width\n",
      "Working on limb L0 branch 284\n",
      "No spines and using precomputed width\n",
      "Working on limb L0 branch 321\n",
      "No spines and using precomputed width\n",
      "Working on limb L0 branch 216\n",
      "No spines and using precomputed width\n",
      "Working on limb L0 branch 224\n",
      "No spines and using precomputed width\n",
      "Working on limb L0 branch 149\n",
      "No spines and using precomputed width\n",
      "Working on limb L0 branch 175\n",
      "No spines and using precomputed width\n",
      "Working on limb L0 branch 316\n",
      "No spines and using precomputed width\n",
      "Working on limb L0 branch 388\n",
      "No spines and using precomputed width\n",
      "Working on limb L0 branch 320\n",
      "No spines and using precomputed width\n",
      "Working on limb L0 branch 327\n",
      "No spines and using precomputed width\n",
      "Working on limb L0 branch 215\n",
      "No spines and using precomputed width\n",
      "Working on limb L0 branch 315\n",
      "No spines and using precomputed width\n",
      "Working on limb L0 branch 148\n",
      "No spines and using precomputed width\n",
      "Working on limb L0 branch 237\n",
      "No spines and using precomputed width\n",
      "Working on limb L0 branch 174\n",
      "No spines and using precomputed width\n",
      "Working on limb L0 branch 291\n",
      "No spines and using precomputed width\n",
      "Working on limb L0 branch 319\n",
      "No spines and using precomputed width\n",
      "Working on limb L0 branch 329\n",
      "No spines and using precomputed width\n",
      "Working on limb L0 branch 314\n",
      "No spines and using precomputed width\n",
      "Working on limb L0 branch 416\n",
      "No spines and using precomputed width\n",
      "Working on limb L0 branch 173\n",
      "No spines and using precomputed width\n",
      "Working on limb L0 branch 249\n",
      "No spines and using precomputed width\n",
      "Working on limb L0 branch 313\n",
      "No spines and using precomputed width\n",
      "Working on limb L0 branch 444\n",
      "No spines and using precomputed width\n",
      "Working on limb L0 branch 248\n",
      "No spines and using precomputed width\n",
      "Working on limb L0 branch 485\n",
      "No spines and using precomputed width\n",
      "Working on limb L1 branch 6\n",
      "No spines and using precomputed width\n",
      "Working on limb L1 branch 3\n",
      "Working on limb L1 branch 9\n"
     ]
    },
    {
     "name": "stdout",
     "output_type": "stream",
     "text": [
      "Working on limb L1 branch 1\n",
      "Working on limb L1 branch 10\n",
      "Working on limb L1 branch 4\n",
      "Working on limb L1 branch 22\n",
      "Working on limb L1 branch 11\n",
      "Working on limb L1 branch 12\n",
      "Working on limb L1 branch 7\n",
      "Working on limb L1 branch 24\n",
      "Working on limb L1 branch 0\n",
      "Working on limb L1 branch 5\n",
      "Working on limb L1 branch 8\n",
      "Working on limb L1 branch 17\n",
      "Working on limb L1 branch 23\n",
      "Working on limb L1 branch 25\n",
      "No spines and using precomputed width\n",
      "Working on limb L1 branch 15\n",
      "No spines and using precomputed width\n",
      "Working on limb L1 branch 16\n",
      "Working on limb L1 branch 2\n",
      "No spines and using precomputed width\n",
      "Working on limb L1 branch 19\n",
      "Working on limb L1 branch 20\n",
      "Working on limb L1 branch 13\n",
      "No spines and using precomputed width\n",
      "Working on limb L1 branch 14\n",
      "No spines and using precomputed width\n",
      "Working on limb L1 branch 18\n",
      "No spines and using precomputed width\n",
      "Working on limb L1 branch 21\n",
      "No spines and using precomputed width\n",
      "Working on limb L2 branch 0\n",
      "Working on limb L2 branch 2\n",
      "Working on limb L2 branch 3\n",
      "Working on limb L2 branch 4\n",
      "Working on limb L2 branch 5\n",
      "Working on limb L2 branch 12\n",
      "Working on limb L2 branch 24\n",
      "No spines and using precomputed width\n",
      "Working on limb L2 branch 1\n",
      "Working on limb L2 branch 50\n",
      "No spines and using precomputed width\n",
      "Working on limb L2 branch 11\n",
      "No spines and using precomputed width\n",
      "Working on limb L2 branch 15\n",
      "No spines and using precomputed width\n",
      "Working on limb L2 branch 23\n",
      "No spines and using precomputed width\n",
      "Working on limb L2 branch 32\n",
      "No spines and using precomputed width\n",
      "Working on limb L2 branch 51\n",
      "No spines and using precomputed width\n",
      "Working on limb L2 branch 52\n",
      "Working on limb L2 branch 10\n",
      "No spines and using precomputed width\n",
      "Working on limb L2 branch 35\n",
      "No spines and using precomputed width\n",
      "Working on limb L2 branch 14\n",
      "No spines and using precomputed width\n",
      "Working on limb L2 branch 42\n",
      "No spines and using precomputed width\n",
      "Working on limb L2 branch 22\n",
      "No spines and using precomputed width\n",
      "Working on limb L2 branch 39\n",
      "No spines and using precomputed width\n",
      "Working on limb L2 branch 31\n",
      "No spines and using precomputed width\n",
      "Working on limb L2 branch 47\n",
      "No spines and using precomputed width\n",
      "Working on limb L2 branch 9\n",
      "No spines and using precomputed width\n",
      "Working on limb L2 branch 44\n",
      "No spines and using precomputed width\n",
      "Working on limb L2 branch 13\n",
      "No spines and using precomputed width\n",
      "Working on limb L2 branch 38\n",
      "No spines and using precomputed width\n",
      "Working on limb L2 branch 21\n",
      "No spines and using precomputed width\n",
      "Working on limb L2 branch 26\n",
      "No spines and using precomputed width\n",
      "Working on limb L2 branch 46\n",
      "No spines and using precomputed width\n",
      "Working on limb L2 branch 48\n",
      "No spines and using precomputed width\n",
      "Working on limb L2 branch 8\n",
      "No spines and using precomputed width\n",
      "Working on limb L2 branch 20\n",
      "No spines and using precomputed width\n",
      "Working on limb L2 branch 25\n",
      "No spines and using precomputed width\n",
      "Working on limb L2 branch 27\n",
      "No spines and using precomputed width\n",
      "Working on limb L2 branch 41\n",
      "No spines and using precomputed width\n",
      "Working on limb L2 branch 7\n",
      "No spines and using precomputed width\n",
      "Working on limb L2 branch 16\n",
      "No spines and using precomputed width\n",
      "Working on limb L2 branch 45\n",
      "No spines and using precomputed width\n",
      "Working on limb L2 branch 19\n",
      "No spines and using precomputed width\n",
      "Working on limb L2 branch 36\n",
      "No spines and using precomputed width\n",
      "Working on limb L2 branch 6\n",
      "No spines and using precomputed width\n",
      "Working on limb L2 branch 40\n",
      "No spines and using precomputed width\n",
      "Working on limb L2 branch 18\n",
      "No spines and using precomputed width\n",
      "Working on limb L2 branch 43\n",
      "No spines and using precomputed width\n",
      "Working on limb L2 branch 17\n",
      "No spines and using precomputed width\n",
      "Working on limb L2 branch 30\n",
      "No spines and using precomputed width\n",
      "Working on limb L2 branch 29\n",
      "No spines and using precomputed width\n",
      "Working on limb L2 branch 49\n",
      "No spines and using precomputed width\n",
      "Working on limb L2 branch 28\n",
      "No spines and using precomputed width\n",
      "Working on limb L2 branch 34\n",
      "No spines and using precomputed width\n",
      "Working on limb L2 branch 33\n",
      "No spines and using precomputed width\n",
      "Working on limb L2 branch 37\n",
      "No spines and using precomputed width\n",
      "Working on limb L3 branch 0\n",
      "Working on limb L3 branch 1\n",
      "Working on limb L3 branch 2\n",
      "Working on limb L3 branch 3\n",
      "Working on limb L3 branch 8\n",
      "Working on limb L3 branch 4\n",
      "Working on limb L3 branch 5\n",
      "Working on limb L3 branch 6\n",
      "Working on limb L3 branch 7\n",
      "No spines and using precomputed width\n",
      "Working on limb L4 branch 1\n",
      "Working on limb L4 branch 0\n",
      "Working on limb L4 branch 3\n",
      "Working on limb L4 branch 5\n",
      "Working on limb L4 branch 6\n",
      "Working on limb L4 branch 2\n",
      "No spines and using precomputed width\n",
      "Working on limb L4 branch 4\n",
      "No spines and using precomputed width\n",
      "Total time for neuron instance creation = 935.7534322738647\n",
      "\n",
      "\n",
      "\n",
      "---- Total preprocessing time = 935.7536511421204\n"
     ]
    }
   ],
   "source": [
    "neuron = reload(neuron)\n",
    "import skeleton_utils as sk\n",
    "sk = reload(sk)\n",
    "import meshparty_skeletonize as m_sk\n",
    "m_sk = reload(m_sk)\n",
    "import preprocessing_vp2 as pre\n",
    "pre = reload(pre)\n",
    "\n",
    "\n",
    "\n",
    "import time\n",
    "total_neuron_process_time = time.time()\n",
    "\n",
    "\n",
    "neuron_obj = neuron.Neuron(\n",
    "            mesh = current_neuron_mesh,\n",
    "            somas = somas,\n",
    "            segment_id=segment_id,\n",
    "            description=description,\n",
    "            suppress_preprocessing_print=False,\n",
    "            suppress_output=False,\n",
    "            calculate_spines=True,\n",
    "            widths_to_calculate=[\"no_spine_median_mesh_center\"]\n",
    "                \n",
    "        )\n",
    "\n",
    "print(f\"\\n\\n\\n---- Total preprocessing time = {time.time() - total_neuron_process_time}\")"
   ]
  },
  {
   "cell_type": "code",
   "execution_count": null,
   "metadata": {},
   "outputs": [
    {
     "name": "stdout",
     "output_type": "stream",
     "text": [
      "\n",
      " Working on visualization type: mesh\n"
     ]
    }
   ],
   "source": [
    "ret_col = nviz.visualize_neuron(neuron_obj,\n",
    "                      visualize_type=[\"mesh\",\"skeleton\"],\n",
    "                     limb_branch_dict=dict(L0=\"all\"),\n",
    "                    return_color_dict=True)"
   ]
  },
  {
   "cell_type": "code",
   "execution_count": 10,
   "metadata": {},
   "outputs": [
    {
     "name": "stdout",
     "output_type": "stream",
     "text": [
      "Saving Neuorn in suppress_output mode...please wait\n",
      "Saved File at location: /notebooks/test_neurons/Fusion_decomp/864691135760452285_slender_man\n",
      "Save time = 92.70506739616394\n"
     ]
    }
   ],
   "source": [
    "nru = reload(nru)\n",
    "save_time = time.time()\n",
    "neuron_obj.save_compressed_neuron(output_folder=\"/notebooks/test_neurons/Fusion_decomp/\",\n",
    "                                 export_mesh=True,\n",
    "                                 suppress_output=True)\n",
    "print(f\"Save time = {time.time() - save_time}\")"
   ]
  },
  {
   "cell_type": "code",
   "execution_count": 83,
   "metadata": {},
   "outputs": [
    {
     "name": "stdout",
     "output_type": "stream",
     "text": [
      "Saving Neuorn in suppress_output mode...please wait\n",
      "Saved File at location: /notebooks/test_neurons/Fusion_decomp/864691135760452285_slender_man\n",
      "Save time = 89.26155495643616\n"
     ]
    }
   ],
   "source": [
    "nru = reload(nru)\n",
    "save_time = time.time()\n",
    "ret_file_path = neuron_obj.save_compressed_neuron(output_folder=\"/notebooks/test_neurons/Fusion_decomp/\",\n",
    "                                  return_file_path=True,\n",
    "                                 export_mesh=True,\n",
    "                                 suppress_output=True)\n",
    "print(f\"Save time = {time.time() - save_time}\")"
   ]
  },
  {
   "cell_type": "code",
   "execution_count": null,
   "metadata": {},
   "outputs": [],
   "source": [
    "\"/notebooks/test_neurons/Fusion_decomp/12345_double_soma.pbz2\""
   ]
  },
  {
   "cell_type": "code",
   "execution_count": 85,
   "metadata": {},
   "outputs": [
    {
     "data": {
      "text/plain": [
       "'/notebooks/test_neurons/Fusion_decomp/864691135760452285_slender_man.pbz2'"
      ]
     },
     "execution_count": 85,
     "metadata": {},
     "output_type": "execute_result"
    }
   ],
   "source": [
    "str(ret_file_path.absolute()) + \".pbz2\""
   ]
  },
  {
   "cell_type": "code",
   "execution_count": 11,
   "metadata": {},
   "outputs": [
    {
     "name": "stdout",
     "output_type": "stream",
     "text": [
      "Decompressing Neuron in minimal output mode...please wait\n",
      "Save time = 104.01100492477417\n"
     ]
    }
   ],
   "source": [
    "nru = reload(nru)\n",
    "reload_time = time.time()\n",
    "recovered_neuron = nru.decompress_neuron(filepath=\"/notebooks/test_neurons/Fusion_decomp/864691135760452285_slender_man\",\n",
    "                     original_mesh=\"/notebooks/test_neurons/Fusion_decomp/864691135760452285_slender_man\")\n",
    "print(f\"Save time = {time.time() - reload_time}\")"
   ]
  },
  {
   "cell_type": "code",
   "execution_count": 12,
   "metadata": {},
   "outputs": [
    {
     "name": "stdout",
     "output_type": "stream",
     "text": [
      "\n",
      " Working on visualization type: mesh\n"
     ]
    },
    {
     "data": {
      "application/vnd.jupyter.widget-view+json": {
       "model_id": "0a7de3e6d89b45f6ad7c02ee416a1a78",
       "version_major": 2,
       "version_minor": 0
      },
      "text/plain": [
       "VBox(children=(Figure(camera=PerspectiveCamera(fov=46.0, position=(0.0, 0.0, 2.0), quaternion=(0.0, 0.0, 0.0, …"
      ]
     },
     "metadata": {},
     "output_type": "display_data"
    }
   ],
   "source": [
    "nviz.plot_spines(recovered_neuron)"
   ]
  },
  {
   "cell_type": "code",
   "execution_count": 21,
   "metadata": {},
   "outputs": [
    {
     "data": {
      "text/plain": [
       "5"
      ]
     },
     "execution_count": 21,
     "metadata": {},
     "output_type": "execute_result"
    }
   ],
   "source": [
    "len(recovered_neuron)"
   ]
  },
  {
   "cell_type": "code",
   "execution_count": 22,
   "metadata": {},
   "outputs": [
    {
     "name": "stdout",
     "output_type": "stream",
     "text": [
      "2\n",
      "1\n",
      "1\n",
      "1\n",
      "2\n"
     ]
    }
   ],
   "source": [
    "for limb_idx in range(0,len(recovered_neuron)):\n",
    "    print(len(recovered_neuron[limb_idx].all_concept_network_data))"
   ]
  },
  {
   "cell_type": "code",
   "execution_count": 78,
   "metadata": {},
   "outputs": [
    {
     "data": {
      "text/plain": [
       "[10433573.564348254,\n",
       " 1354538.3914382644,\n",
       " 1465240.413086148,\n",
       " 362921.5544753412,\n",
       " 402463.0039076145]"
      ]
     },
     "execution_count": 78,
     "metadata": {},
     "output_type": "execute_result"
    }
   ],
   "source": [
    "sk_len_per_branch = [sk.calculate_skeleton_distance(limb.skeleton) for limb in recovered_neuron]\n",
    "sk_len_per_branch"
   ]
  },
  {
   "cell_type": "code",
   "execution_count": 77,
   "metadata": {},
   "outputs": [
    {
     "data": {
      "text/plain": [
       "14082506.168692265"
      ]
     },
     "execution_count": 77,
     "metadata": {},
     "output_type": "execute_result"
    }
   ],
   "source": [
    "import skeleton_utils as sk\n",
    "sk.calculate_skeleton_distance(total_sk)"
   ]
  },
  {
   "cell_type": "code",
   "execution_count": 80,
   "metadata": {},
   "outputs": [
    {
     "data": {
      "text/plain": [
       "inf"
      ]
     },
     "execution_count": 80,
     "metadata": {},
     "output_type": "execute_result"
    }
   ],
   "source": [
    "np.array(1)/np.array(0)"
   ]
  },
  {
   "cell_type": "code",
   "execution_count": 66,
   "metadata": {},
   "outputs": [
    {
     "data": {
      "text/plain": [
       "array([0, 4])"
      ]
     },
     "execution_count": 66,
     "metadata": {},
     "output_type": "execute_result"
    }
   ],
   "source": [
    "nru = reload(nru)\n",
    "nru.error_limb_indexes(recovered_neuron)"
   ]
  },
  {
   "cell_type": "code",
   "execution_count": 69,
   "metadata": {},
   "outputs": [],
   "source": [
    "ex_limb = recovered_neuron[0]"
   ]
  },
  {
   "cell_type": "code",
   "execution_count": 71,
   "metadata": {},
   "outputs": [
    {
     "data": {
      "text/plain": [
       "[511, 26, 53, 9, 7]"
      ]
     },
     "execution_count": 71,
     "metadata": {},
     "output_type": "execute_result"
    }
   ],
   "source": [
    "n_branches_per_limb = [len(ex_limb.get_branch_names()) for ex_limb in recovered_neuron]"
   ]
  },
  {
   "cell_type": "code",
   "execution_count": 61,
   "metadata": {},
   "outputs": [
    {
     "name": "stdout",
     "output_type": "stream",
     "text": [
      "\n",
      " Working on visualization type: mesh\n",
      "\n",
      " Working on visualization type: skeleton\n",
      "working on soma border vertices\n",
      "Working on  new stand alone scatter points\n"
     ]
    },
    {
     "data": {
      "application/vnd.jupyter.widget-view+json": {
       "model_id": "3b5423743a5d4e5ea45217590a4f97eb",
       "version_major": 2,
       "version_minor": 0
      },
      "text/plain": [
       "VBox(children=(Figure(camera=PerspectiveCamera(fov=46.0, position=(0.0, 0.0, 2.0), quaternion=(0.0, 0.0, 0.0, …"
      ]
     },
     "metadata": {},
     "output_type": "display_data"
    }
   ],
   "source": [
    "nviz = reload(nviz)\n",
    "nviz.visualize_neuron(recovered_neuron,\n",
    "                      visualize_type=[\"mesh\",\"skeleton\"],\n",
    "                     limb_branch_dict=dict(L0=\"all\"),\n",
    "                      #mesh_resolution=\"limb\",\n",
    "                     #scatters=all_soma_verts,\n",
    "                      #soma_border_vertices=True,\n",
    "                    soma_border_vertices_color=\"red\",\n",
    "                     #print_flag=True\n",
    "                     )"
   ]
  },
  {
   "cell_type": "code",
   "execution_count": null,
   "metadata": {},
   "outputs": [],
   "source": []
  }
 ],
 "metadata": {
  "kernelspec": {
   "display_name": "Python 3",
   "language": "python",
   "name": "python3"
  },
  "language_info": {
   "codemirror_mode": {
    "name": "ipython",
    "version": 3
   },
   "file_extension": ".py",
   "mimetype": "text/x-python",
   "name": "python",
   "nbconvert_exporter": "python",
   "pygments_lexer": "ipython3",
   "version": "3.6.9"
  }
 },
 "nbformat": 4,
 "nbformat_minor": 4
}
