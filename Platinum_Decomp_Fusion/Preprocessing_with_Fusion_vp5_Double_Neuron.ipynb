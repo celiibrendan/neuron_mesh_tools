{
 "cells": [
  {
   "cell_type": "code",
   "execution_count": 1,
   "metadata": {},
   "outputs": [
    {
     "data": {
      "text/plain": [
       "'\\nTo make sure the fusion decomposition works\\nup to the part where we would stitch the sublimbs together into one limb\\n\\n\\n'"
      ]
     },
     "execution_count": 1,
     "metadata": {},
     "output_type": "execute_result"
    }
   ],
   "source": [
    "\"\"\"\n",
    "To make sure the fusion decomposition works\n",
    "up to the part where we would stitch the sublimbs together into one limb\n",
    "\n",
    "\n",
    "\"\"\""
   ]
  },
  {
   "cell_type": "code",
   "execution_count": 2,
   "metadata": {},
   "outputs": [],
   "source": [
    "from os import sys\n",
    "sys.path.append(\"/meshAfterParty/\")"
   ]
  },
  {
   "cell_type": "code",
   "execution_count": 3,
   "metadata": {},
   "outputs": [
    {
     "name": "stderr",
     "output_type": "stream",
     "text": [
      "WARNING:root:Need to pip install annotationframeworkclient to repair mesh with pychunkedgraph\n",
      "WARNING:root:Need to pip install annotationframeworkclient to use dataset_name parameters\n"
     ]
    }
   ],
   "source": [
    "import skeleton_utils as sk\n",
    "import soma_extraction_utils as sm\n",
    "import trimesh_utils as tu\n",
    "import trimesh\n",
    "import numpy_utils as nu\n",
    "import numpy as np\n",
    "from importlib import reload\n",
    "import networkx as nx\n",
    "import time\n",
    "import compartment_utils as cu\n",
    "import networkx_utils as xu\n",
    "import matplotlib_utils as mu\n",
    "\n",
    "#importing at the bottom so don't get any conflicts\n",
    "import itertools\n",
    "from tqdm_utils import tqdm\n",
    "\n",
    "#for meshparty preprocessing\n",
    "import meshparty_skeletonize as m_sk\n",
    "import general_utils as gu\n",
    "import compartment_utils as cu\n",
    "from meshparty import trimesh_io\n",
    "from copy import deepcopy\n",
    "\n",
    "\n",
    "from neuron_utils import *\n"
   ]
  },
  {
   "cell_type": "markdown",
   "metadata": {},
   "source": [
    "# Loading the Neuron"
   ]
  },
  {
   "cell_type": "code",
   "execution_count": 4,
   "metadata": {},
   "outputs": [],
   "source": [
    "import trimesh_utils as tu\n",
    "curent_neuron = tu.load_mesh_no_processing(\"/notebooks/test_neurons/Segmentation_2/meshparty/864691135382617330_double_soma_large_axon.off\")\n",
    "segment_id = 864691135382617330\n",
    "description = \"double_soma_large_axon\""
   ]
  },
  {
   "cell_type": "code",
   "execution_count": 6,
   "metadata": {},
   "outputs": [],
   "source": [
    "# import neuron_visualizations as nviz\n",
    "# nviz.plot_objects(main_mesh=curent_neuron)"
   ]
  },
  {
   "cell_type": "markdown",
   "metadata": {},
   "source": [
    "# Setting the Arguments that would be present inside a preprocessing function call"
   ]
  },
  {
   "cell_type": "code",
   "execution_count": 7,
   "metadata": {},
   "outputs": [],
   "source": [
    "#predefined arguments for the Neuron constructor\n",
    "\n",
    "decomposition_type=\"meshafterparty\"\n",
    "mesh_correspondence=\"meshparty\" #meshafterparty_adaptive\n",
    "distance_by_mesh_center=True #how the distance is calculated for mesh correspondence\n",
    "meshparty_segment_size = 100\n",
    "meshparty_n_surface_downsampling = 2\n",
    "meshparty_adaptive_correspondence_after_creation=False\n",
    "suppress_preprocessing_print=True\n",
    "computed_attribute_dict=None\n",
    "somas = None\n",
    "branch_skeleton_data=None\n",
    "combine_close_skeleton_nodes = True\n",
    "combine_close_skeleton_nodes_threshold=700\n",
    "ignore_warnings=True\n",
    "suppress_output=False\n",
    "calculate_spines=True\n",
    "widths_to_calculate=[\"no_spine_median_mesh_center\",\n",
    "                \"no_spine_mean_mesh_center\"]\n",
    "fill_hole_size=2000"
   ]
  },
  {
   "cell_type": "code",
   "execution_count": 8,
   "metadata": {},
   "outputs": [],
   "source": [
    "#arguments for the preprocess neuron\n",
    "mesh = curent_neuron\n",
    "segment_id=segment_id\n",
    "description=description\n",
    "\n",
    "sig_th_initial_split=15 #for significant splitting meshes in the intial mesh split\n",
    "limb_threshold = 2000 #the mesh faces threshold for a mesh to be qualified as a limb (otherwise too small)\n",
    "filter_end_node_length=4001 #used in cleaning the skeleton during skeletonizations\n",
    "return_no_somas = False\n",
    "\n",
    "decomposition_type=decomposition_type\n",
    "mesh_correspondence=mesh_correspondence\n",
    "distance_by_mesh_center=distance_by_mesh_center\n",
    "meshparty_segment_size =meshparty_segment_size\n",
    "meshparty_n_surface_downsampling = meshparty_n_surface_downsampling\n",
    "somas=somas\n",
    "branch_skeleton_data=branch_skeleton_data\n",
    "combine_close_skeleton_nodes = combine_close_skeleton_nodes\n",
    "combine_close_skeleton_nodes_threshold=combine_close_skeleton_nodes_threshold"
   ]
  },
  {
   "cell_type": "markdown",
   "metadata": {},
   "source": [
    "# Setting up the metadata"
   ]
  },
  {
   "cell_type": "code",
   "execution_count": 9,
   "metadata": {},
   "outputs": [],
   "source": [
    "whole_processing_tiempo = time.time()\n",
    "\n",
    "\n",
    "\"\"\"\n",
    "Purpose: To process the mesh into a format that can be loaded into the neuron class\n",
    "and used for higher order processing (how to visualize is included)\n",
    "\n",
    "\"\"\"\n",
    "if description is None:\n",
    "    description = \"no_description\"\n",
    "if segment_id is None:\n",
    "    #pick a random segment id\n",
    "    segment_id = np.random.randint(100000000)\n",
    "    print(f\"picking a random 7 digit segment id: {segment_id}\")\n",
    "    description += \"_random_id\"\n",
    "\n",
    "\n",
    "if mesh is None:\n",
    "    if current_mesh_file is None:\n",
    "        raise Exception(\"No mesh or mesh_file file were given\")\n",
    "    else:\n",
    "        current_neuron = trimesh.load_mesh(current_mesh_file)\n",
    "else:\n",
    "    current_neuron = mesh"
   ]
  },
  {
   "cell_type": "markdown",
   "metadata": {},
   "source": [
    "# ************************ Phase A: Soma and Limb Identification ********************************"
   ]
  },
  {
   "cell_type": "code",
   "execution_count": 10,
   "metadata": {},
   "outputs": [
    {
     "name": "stdout",
     "output_type": "stream",
     "text": [
      "Current Arguments Using (adjusted for decimation):\n",
      " large_mesh_threshold= 15000.0 \n",
      "large_mesh_threshold_inner = 10000.0 \n",
      "soma_size_threshold = 937.5 \n",
      "soma_size_threshold_max = 12000.0\n",
      "outer_decimation_ratio = 0.25\n",
      "inner_decimation_ratio = 0.25\n",
      "xvfb-run -n 1439 -s \"-screen 0 800x600x24\" meshlabserver $@  -i /notebooks/Platinum_Decomp_Fusion/864691135382617330/neuron_864691135382617330.off -o /notebooks/Platinum_Decomp_Fusion/864691135382617330/neuron_864691135382617330_decimated.off -s /notebooks/Platinum_Decomp_Fusion/864691135382617330/decimation_meshlab_25553959.mls\n",
      "Total found significant pieces before Poisson = [<trimesh.Trimesh(vertices.shape=(190811, 3), faces.shape=(378905, 3))>]\n",
      "----- working on large mesh #0: <trimesh.Trimesh(vertices.shape=(190811, 3), faces.shape=(378905, 3))>\n",
      "pre_largest_mesh_path = /notebooks/Platinum_Decomp_Fusion/864691135382617330/neuron_864691135382617330_decimated_largest_piece.off\n",
      "xvfb-run -n 3179 -s \"-screen 0 800x600x24\" meshlabserver $@  -i /notebooks/Platinum_Decomp_Fusion/864691135382617330/neuron_864691135382617330_decimated_largest_piece.off -o /notebooks/Platinum_Decomp_Fusion/864691135382617330/neuron_864691135382617330_decimated_largest_piece_poisson.off -s /notebooks/Platinum_Decomp_Fusion/864691135382617330/poisson_715039.mls\n",
      "Total found significant pieces AFTER Poisson = [<trimesh.Trimesh(vertices.shape=(74405, 3), faces.shape=(148814, 3))>, <trimesh.Trimesh(vertices.shape=(8005, 3), faces.shape=(16006, 3))>]\n",
      "----- working on mesh after poisson #0: <trimesh.Trimesh(vertices.shape=(74405, 3), faces.shape=(148814, 3))>\n",
      "xvfb-run -n 1943 -s \"-screen 0 800x600x24\" meshlabserver $@  -i /notebooks/Platinum_Decomp_Fusion/864691135382617330/neuron_864691135382617330_decimated_largest_piece_poisson_largest_inner.off -o /notebooks/Platinum_Decomp_Fusion/864691135382617330/neuron_864691135382617330_decimated_largest_piece_poisson_largest_inner_decimated.off -s /notebooks/Platinum_Decomp_Fusion/864691135382617330/decimation_meshlab_25938301.mls\n",
      "done exporting decimated mesh: neuron_864691135382617330_decimated_largest_piece_poisson_largest_inner.off\n",
      "1) Starting: Mesh importing and Pymesh fix\n",
      "loading mesh from vertices and triangles array\n",
      "1) Finished: Mesh importing and Pymesh fix: 0.0003001689910888672\n",
      "2) Staring: Generating CGAL segmentation for neuron\n",
      "Done writing OFF file\n",
      "\n",
      "Starting CGAL segmentation\n",
      "Right before cgal segmentation, clusters = 3, smoothness = 0.2, path_and_filename = /notebooks/Platinum_Decomp_Fusion/temp/86469113538261733000_fixed \n",
      "1\n",
      "Finished CGAL segmentation algorithm: 3.277024030685425\n",
      "2) Finished: Generating CGAL segmentation for neuron: 3.815354824066162\n",
      "3) Staring: Generating Graph Structure and Identifying Soma using soma size threshold  = 3000\n",
      "my_list_keys = [0, 1, 2, 3, 4, 5, 6, 7, 8, 9, 10, 11, 12, 13, 14, 15, 16, 17, 18, 19, 20, 21]\n",
      "changed the median value\n",
      "changed the mean value\n",
      "changed the max value\n",
      "changed the median value\n",
      "changed the mean value\n",
      "changed the max value\n",
      "soma_index = 1\n",
      "3) Finished: Generating Graph Structure and Identifying Soma: 0.012222051620483398\n",
      "Not finding the apical because soma_only option selected\n",
      "6) Staring: Classifying Entire Neuron\n",
      "Total Labels found = {'soma', 'unsure'}\n",
      "6) Finished: Classifying Entire Neuron: 6.031990051269531e-05\n",
      "7) Staring: Transfering Segmentation Labels to Face Labels\n",
      "7) Finished: Transfering Segmentation Labels to Face Labels: 0.03182482719421387\n",
      "8) Staring: Generating final Vertex and Face Labels\n",
      "8) Finished: Generating final Vertex and Face Labels: 0.283764123916626\n",
      "Returning the soma_sdf value AND the classifier\n",
      "soma_sdf_value = 0.847623\n",
      "segmentation[sorted_medians],median_values[sorted_medians] = (array([ 1,  2,  0, 14, 11,  9,  7,  5, 12,  8, 15,  4,  6, 19, 13, 20, 21,\n",
      "        3, 16, 17, 18, 10]), array([0.847623  , 0.111356  , 0.0889274 , 0.08557525, 0.0789168 ,\n",
      "       0.07515045, 0.07377955, 0.0551733 , 0.0479358 , 0.0467237 ,\n",
      "       0.04545335, 0.0427671 , 0.040336  , 0.0403023 , 0.0392318 ,\n",
      "       0.03752   , 0.0317943 , 0.0296281 , 0.0294771 , 0.0292086 ,\n",
      "       0.0271177 , 0.00995052]))\n",
      "Sizes = [3423, 536, 8953, 112, 311, 280, 1348, 1721, 3202, 1507, 1008, 2487, 1429, 3150, 1904, 1080, 1653, 955, 1604, 159, 280, 98]\n",
      "valid_soma_segments_width\n",
      "      ------ Found 1 viable somas: [1]\n",
      "Using Poisson Surface Reconstruction for watertightness in soma_volume_ratio\n",
      "xvfb-run -n 3452 -s \"-screen 0 800x600x24\" meshlabserver $@  -i /notebooks/Platinum_Decomp_Fusion/Poisson_temp/neuron_838578.off -o /notebooks/Platinum_Decomp_Fusion/Poisson_temp/neuron_838578_poisson.off -s /notebooks/Platinum_Decomp_Fusion/Poisson_temp/poisson_658016.mls\n",
      "removed temporary input file: /notebooks/Platinum_Decomp_Fusion/Poisson_temp/neuron_838578.off\n",
      "removed temporary output file: /notebooks/Platinum_Decomp_Fusion/Poisson_temp/neuron_838578_poisson.off\n",
      "mesh.is_watertight = True\n",
      "/notebooks/Platinum_Decomp_Fusion/Poisson_temp/poisson_658016.mls is being deleted....\n",
      "Inside sphere validater: ratio_val = 2.6146491146792594\n",
      "----- working on mesh after poisson #1: <trimesh.Trimesh(vertices.shape=(8005, 3), faces.shape=(16006, 3))>\n",
      "xvfb-run -n 842 -s \"-screen 0 800x600x24\" meshlabserver $@  -i /notebooks/Platinum_Decomp_Fusion/864691135382617330/neuron_864691135382617330_decimated_largest_piece_poisson_largest_inner.off -o /notebooks/Platinum_Decomp_Fusion/864691135382617330/neuron_864691135382617330_decimated_largest_piece_poisson_largest_inner_decimated.off -s /notebooks/Platinum_Decomp_Fusion/864691135382617330/decimation_meshlab_25938301.mls\n",
      "done exporting decimated mesh: neuron_864691135382617330_decimated_largest_piece_poisson_largest_inner.off\n",
      "1) Starting: Mesh importing and Pymesh fix\n",
      "loading mesh from vertices and triangles array\n",
      "1) Finished: Mesh importing and Pymesh fix: 0.0002491474151611328\n",
      "2) Staring: Generating CGAL segmentation for neuron\n",
      "Done writing OFF file\n",
      "\n",
      "Starting CGAL segmentation\n",
      "Right before cgal segmentation, clusters = 3, smoothness = 0.2, path_and_filename = /notebooks/Platinum_Decomp_Fusion/temp/86469113538261733001_fixed \n",
      "1\n",
      "Finished CGAL segmentation algorithm: 0.34587597846984863\n",
      "2) Finished: Generating CGAL segmentation for neuron: 0.4054443836212158\n",
      "3) Staring: Generating Graph Structure and Identifying Soma using soma size threshold  = 3000\n",
      "my_list_keys = [0, 1, 2, 3, 4, 5, 6]\n",
      "soma_index = -1\n",
      "3) Finished: Generating Graph Structure and Identifying Soma: 0.00144195556640625\n",
      "Not finding the apical because soma_only option selected\n",
      "6) Staring: Classifying Entire Neuron\n",
      "Total Labels found = {'unsure'}\n",
      "6) Finished: Classifying Entire Neuron: 5.1021575927734375e-05\n",
      "7) Staring: Transfering Segmentation Labels to Face Labels\n",
      "7) Finished: Transfering Segmentation Labels to Face Labels: 0.0035085678100585938\n",
      "8) Staring: Generating final Vertex and Face Labels\n",
      "8) Finished: Generating final Vertex and Face Labels: 0.12618422508239746\n",
      "Returning the soma_sdf value AND the classifier\n",
      "soma_sdf_value = 0\n",
      "segmentation[sorted_medians],median_values[sorted_medians] = (array([0, 1, 6, 5, 3, 4, 2]), array([0.885963  , 0.154745  , 0.06080995, 0.0581409 , 0.0515606 ,\n",
      "       0.0266828 , 0.0201806 ]))\n",
      "Sizes = [2355, 498, 350, 299, 190, 199, 109]\n",
      "valid_soma_segments_width\n",
      "      ------ Found 1 viable somas: [0]\n",
      "Using Poisson Surface Reconstruction for watertightness in soma_volume_ratio\n",
      "xvfb-run -n 3124 -s \"-screen 0 800x600x24\" meshlabserver $@  -i /notebooks/Platinum_Decomp_Fusion/Poisson_temp/neuron_303776.off -o /notebooks/Platinum_Decomp_Fusion/Poisson_temp/neuron_303776_poisson.off -s /notebooks/Platinum_Decomp_Fusion/Poisson_temp/poisson_33550.mls\n",
      "removed temporary input file: /notebooks/Platinum_Decomp_Fusion/Poisson_temp/neuron_303776.off\n",
      "removed temporary output file: /notebooks/Platinum_Decomp_Fusion/Poisson_temp/neuron_303776_poisson.off\n",
      "mesh.is_watertight = True\n",
      "/notebooks/Platinum_Decomp_Fusion/Poisson_temp/poisson_33550.mls is being deleted....\n",
      "Inside sphere validater: ratio_val = 2.203076407056745\n",
      "\n",
      "\n",
      "\n",
      " Total time for run = 114.50028276443481\n",
      "Before Filtering the number of somas found = 2\n",
      "Performing Soma Mesh Backtracking to original mesh\n",
      "# total split meshes = 9\n",
      "viable_meshes = [0]\n",
      "There were 8 pieces found after size threshold\n",
      "# of soma containing seperate meshes = 1\n",
      "meshes with somas = {0: [0]}\n",
      "\n",
      "\n",
      "----Working on soma-containing mesh piece 0----\n",
      "current_soma_mesh_list = [<trimesh.Trimesh(vertices.shape=(1734, 3), faces.shape=(3423, 3))>]\n",
      "current_mesh = <trimesh.Trimesh(vertices.shape=(190811, 3), faces.shape=(378473, 3))>\n",
      "\n",
      "inside Soma subtraction\n"
     ]
    },
    {
     "name": "stdout",
     "output_type": "stream",
     "text": [
      "mesh pieces in subtact soma BEFORE the filtering inside pieces = [<trimesh.Trimesh(vertices.shape=(93568, 3), faces.shape=(185548, 3))>, <trimesh.Trimesh(vertices.shape=(45531, 3), faces.shape=(90282, 3))>, <trimesh.Trimesh(vertices.shape=(20424, 3), faces.shape=(40376, 3))>, <trimesh.Trimesh(vertices.shape=(14722, 3), faces.shape=(29215, 3))>, <trimesh.Trimesh(vertices.shape=(7153, 3), faces.shape=(14176, 3))>, <trimesh.Trimesh(vertices.shape=(4474, 3), faces.shape=(8911, 3))>]\n",
      "There were 6 pieces found after size threshold\n",
      "mesh pieces in subtact soma AFTER the filtering inside pieces = [<trimesh.Trimesh(vertices.shape=(93568, 3), faces.shape=(185548, 3))>, <trimesh.Trimesh(vertices.shape=(45531, 3), faces.shape=(90282, 3))>, <trimesh.Trimesh(vertices.shape=(20424, 3), faces.shape=(40376, 3))>, <trimesh.Trimesh(vertices.shape=(14722, 3), faces.shape=(29215, 3))>, <trimesh.Trimesh(vertices.shape=(7153, 3), faces.shape=(14176, 3))>, <trimesh.Trimesh(vertices.shape=(4474, 3), faces.shape=(8911, 3))>]\n",
      "Total Time for soma mesh cancellation = 2.499\n",
      "mesh_pieces_without_soma = [<trimesh.Trimesh(vertices.shape=(93568, 3), faces.shape=(185548, 3))>, <trimesh.Trimesh(vertices.shape=(45531, 3), faces.shape=(90282, 3))>, <trimesh.Trimesh(vertices.shape=(20424, 3), faces.shape=(40376, 3))>, <trimesh.Trimesh(vertices.shape=(14722, 3), faces.shape=(29215, 3))>, <trimesh.Trimesh(vertices.shape=(7153, 3), faces.shape=(14176, 3))>, <trimesh.Trimesh(vertices.shape=(4474, 3), faces.shape=(8911, 3))>]\n",
      "Total time for Subtract Soam = 2.5002102851867676\n",
      "mesh_pieces_without_soma_stacked = <trimesh.Trimesh(vertices.shape=(185872, 3), faces.shape=(368508, 3))>\n",
      "Total time for Original_mesh_faces_map for mesh_pieces without soma= 0.7096457481384277\n",
      "soma_faces = [213558 213559 213560 ... 373535 373536 373537]\n",
      "soma_meshes = <trimesh.Trimesh(vertices.shape=(5050, 3), faces.shape=(9965, 3))>\n",
      "poisson_backtrack_distance_threshold = None\n",
      "Using Poisson Surface Reconstruction for watertightness in soma_volume_ratio\n",
      "xvfb-run -n 2508 -s \"-screen 0 800x600x24\" meshlabserver $@  -i /notebooks/Platinum_Decomp_Fusion/Poisson_temp/neuron_488736.off -o /notebooks/Platinum_Decomp_Fusion/Poisson_temp/neuron_488736_poisson.off -s /notebooks/Platinum_Decomp_Fusion/Poisson_temp/poisson_870779.mls\n",
      "removed temporary input file: /notebooks/Platinum_Decomp_Fusion/Poisson_temp/neuron_488736.off\n",
      "removed temporary output file: /notebooks/Platinum_Decomp_Fusion/Poisson_temp/neuron_488736_poisson.off\n",
      "mesh.is_watertight = True\n",
      "/notebooks/Platinum_Decomp_Fusion/Poisson_temp/poisson_870779.mls is being deleted....\n",
      "Inside sphere validater: ratio_val = 2.999123442124214\n",
      "Performing Soma Mesh Backtracking to original mesh\n",
      "# total split meshes = 9\n",
      "viable_meshes = [0]\n",
      "There were 8 pieces found after size threshold\n",
      "# of soma containing seperate meshes = 1\n",
      "meshes with somas = {0: [0]}\n",
      "\n",
      "\n",
      "----Working on soma-containing mesh piece 0----\n",
      "current_soma_mesh_list = [<trimesh.Trimesh(vertices.shape=(1190, 3), faces.shape=(2355, 3))>]\n",
      "current_mesh = <trimesh.Trimesh(vertices.shape=(190811, 3), faces.shape=(378473, 3))>\n",
      "\n",
      "inside Soma subtraction\n",
      "mesh pieces in subtact soma BEFORE the filtering inside pieces = [<trimesh.Trimesh(vertices.shape=(128569, 3), faces.shape=(255208, 3))>, <trimesh.Trimesh(vertices.shape=(35396, 3), faces.shape=(70016, 3))>, <trimesh.Trimesh(vertices.shape=(11161, 3), faces.shape=(22059, 3))>, <trimesh.Trimesh(vertices.shape=(8416, 3), faces.shape=(16693, 3))>, <trimesh.Trimesh(vertices.shape=(1515, 3), faces.shape=(3006, 3))>, <trimesh.Trimesh(vertices.shape=(1229, 3), faces.shape=(2393, 3))>, <trimesh.Trimesh(vertices.shape=(778, 3), faces.shape=(1556, 3))>]\n",
      "There were 7 pieces found after size threshold\n",
      "mesh pieces in subtact soma AFTER the filtering inside pieces = [<trimesh.Trimesh(vertices.shape=(128569, 3), faces.shape=(255208, 3))>, <trimesh.Trimesh(vertices.shape=(35396, 3), faces.shape=(70016, 3))>, <trimesh.Trimesh(vertices.shape=(11161, 3), faces.shape=(22059, 3))>, <trimesh.Trimesh(vertices.shape=(8416, 3), faces.shape=(16693, 3))>, <trimesh.Trimesh(vertices.shape=(1515, 3), faces.shape=(3006, 3))>, <trimesh.Trimesh(vertices.shape=(1229, 3), faces.shape=(2393, 3))>, <trimesh.Trimesh(vertices.shape=(778, 3), faces.shape=(1556, 3))>]\n",
      "Total Time for soma mesh cancellation = 0.667\n",
      "mesh_pieces_without_soma = [<trimesh.Trimesh(vertices.shape=(128569, 3), faces.shape=(255208, 3))>, <trimesh.Trimesh(vertices.shape=(35396, 3), faces.shape=(70016, 3))>, <trimesh.Trimesh(vertices.shape=(11161, 3), faces.shape=(22059, 3))>, <trimesh.Trimesh(vertices.shape=(8416, 3), faces.shape=(16693, 3))>, <trimesh.Trimesh(vertices.shape=(1515, 3), faces.shape=(3006, 3))>, <trimesh.Trimesh(vertices.shape=(1229, 3), faces.shape=(2393, 3))>, <trimesh.Trimesh(vertices.shape=(778, 3), faces.shape=(1556, 3))>]\n",
      "Total time for Subtract Soam = 0.6685030460357666\n",
      "mesh_pieces_without_soma_stacked = <trimesh.Trimesh(vertices.shape=(187064, 3), faces.shape=(370931, 3))>\n",
      "Total time for Original_mesh_faces_map for mesh_pieces without soma= 0.46240687370300293\n",
      "soma_faces = [11861 11862 11863 ... 82227 82228 82647]\n",
      "soma_meshes = <trimesh.Trimesh(vertices.shape=(3820, 3), faces.shape=(7542, 3))>\n",
      "poisson_backtrack_distance_threshold = None\n",
      "Using Poisson Surface Reconstruction for watertightness in soma_volume_ratio\n",
      "xvfb-run -n 7746 -s \"-screen 0 800x600x24\" meshlabserver $@  -i /notebooks/Platinum_Decomp_Fusion/Poisson_temp/neuron_368825.off -o /notebooks/Platinum_Decomp_Fusion/Poisson_temp/neuron_368825_poisson.off -s /notebooks/Platinum_Decomp_Fusion/Poisson_temp/poisson_334909.mls\n",
      "removed temporary input file: /notebooks/Platinum_Decomp_Fusion/Poisson_temp/neuron_368825.off\n",
      "removed temporary output file: /notebooks/Platinum_Decomp_Fusion/Poisson_temp/neuron_368825_poisson.off\n",
      "mesh.is_watertight = True\n",
      "/notebooks/Platinum_Decomp_Fusion/Poisson_temp/poisson_334909.mls is being deleted....\n",
      "Inside sphere validater: ratio_val = 2.5720445695784573\n",
      "Soma List = [<trimesh.Trimesh(vertices.shape=(5050, 3), faces.shape=(9965, 3))>, <trimesh.Trimesh(vertices.shape=(3820, 3), faces.shape=(7542, 3))>]\n",
      "soma_mesh_list_centers = [array([464662.59483168, 769808.27283168, 792359.5169505 ]), array([594661.62128272, 878392.65256545, 829248.78044503])]\n"
     ]
    }
   ],
   "source": [
    "# --- 1) Doing the soma detection\n",
    "if somas is None:\n",
    "    soma_mesh_list,run_time,total_soma_list_sdf = sm.extract_soma_center(segment_id,\n",
    "                                             current_neuron.vertices,\n",
    "                                             current_neuron.faces)\n",
    "else:\n",
    "    soma_mesh_list,run_time,total_soma_list_sdf = somas\n",
    "\n",
    "# geting the soma centers\n",
    "if len(soma_mesh_list) <= 0:\n",
    "    print(f\"**** No Somas Found for Mesh {segment_id} so just one mesh\")\n",
    "    soma_mesh_list_centers = []\n",
    "    if return_no_somas:\n",
    "        return_value= soma_mesh_list_centers\n",
    "    raise Exception(\"Processing of No Somas is not yet implemented yet\")\n",
    "else:\n",
    "    #compute the soma centers\n",
    "    print(f\"Soma List = {soma_mesh_list}\")\n",
    "\n",
    "    soma_mesh_list_centers = sm.find_soma_centroids(soma_mesh_list)\n",
    "    print(f\"soma_mesh_list_centers = {soma_mesh_list_centers}\")"
   ]
  },
  {
   "cell_type": "code",
   "execution_count": 11,
   "metadata": {},
   "outputs": [
    {
     "name": "stdout",
     "output_type": "stream",
     "text": [
      "# total split meshes = 108\n",
      "There were 107 pieces found after size threshold\n",
      "# of soma containing seperate meshes = 1\n",
      "meshes with somas = {0: [0, 1]}\n"
     ]
    }
   ],
   "source": [
    "#--- 2) getting the soma submeshes that are connected to each soma and identifiying those that aren't (and eliminating any mesh pieces inside the soma)\n",
    "\n",
    "main_mesh_total = current_neuron\n",
    "\n",
    "\n",
    "#finding the mesh pieces that contain the soma\n",
    "#splitting the current neuron into distinct pieces\n",
    "split_meshes = tu.split_significant_pieces(\n",
    "                            main_mesh_total,\n",
    "                            significance_threshold=sig_th_initial_split,\n",
    "                            print_flag=False)\n",
    "\n",
    "print(f\"# total split meshes = {len(split_meshes)}\")\n",
    "\n",
    "\n",
    "#returns the index of the split_meshes index that contains each soma    \n",
    "containing_mesh_indices = sm.find_soma_centroid_containing_meshes(soma_mesh_list,\n",
    "                                        split_meshes)\n",
    "\n",
    "# filtering away any of the inside floating pieces: \n",
    "non_soma_touching_meshes = [m for i,m in enumerate(split_meshes)\n",
    "                 if i not in list(containing_mesh_indices.values())]\n",
    "\n",
    "\n",
    "#Adding the step that will filter away any pieces that are inside the soma\n",
    "if len(non_soma_touching_meshes) > 0 and len(soma_mesh_list) > 0:\n",
    "    \"\"\"\n",
    "    *** want to save these pieces that are inside of the soma***\n",
    "    \"\"\"\n",
    "\n",
    "    non_soma_touching_meshes,inside_pieces = sm.filter_away_inside_soma_pieces(soma_mesh_list,non_soma_touching_meshes,\n",
    "                                    significance_threshold=sig_th_initial_split,\n",
    "                                    return_inside_pieces = True)                                                      \n",
    "\n",
    "\n",
    "split_meshes # the meshes of the original mesh\n",
    "containing_mesh_indices #the mapping of each soma centroid to the correct split mesh\n",
    "soma_containing_meshes = sm.grouping_containing_mesh_indices(containing_mesh_indices)\n",
    "\n",
    "soma_touching_meshes = [split_meshes[k] for k in soma_containing_meshes.keys()]\n",
    "\n",
    "\n",
    "#     print(f\"# of non soma touching seperate meshes = {len(non_soma_touching_meshes)}\")\n",
    "#     print(f\"# of inside pieces = {len(inside_pieces)}\")\n",
    "print(f\"# of soma containing seperate meshes = {len(soma_touching_meshes)}\")\n",
    "print(f\"meshes with somas = {soma_containing_meshes}\")\n",
    "\n",
    "\n",
    "\n",
    "\n"
   ]
  },
  {
   "cell_type": "code",
   "execution_count": 12,
   "metadata": {},
   "outputs": [
    {
     "name": "stdout",
     "output_type": "stream",
     "text": [
      "\n",
      "\n",
      "----Working on soma-containing mesh piece 0----\n",
      "\n",
      "inside Soma subtraction\n",
      "mesh pieces in subtact soma BEFORE the filtering inside pieces = [<trimesh.Trimesh(vertices.shape=(185730, 3), faces.shape=(370654, 3))>, <trimesh.Trimesh(vertices.shape=(128995, 3), faces.shape=(257202, 3))>, <trimesh.Trimesh(vertices.shape=(125943, 3), faces.shape=(251486, 3))>, <trimesh.Trimesh(vertices.shape=(82227, 3), faces.shape=(163975, 3))>, <trimesh.Trimesh(vertices.shape=(61258, 3), faces.shape=(122260, 3))>, <trimesh.Trimesh(vertices.shape=(46188, 3), faces.shape=(92114, 3))>, <trimesh.Trimesh(vertices.shape=(34195, 3), faces.shape=(68245, 3))>, <trimesh.Trimesh(vertices.shape=(29600, 3), faces.shape=(59059, 3))>, <trimesh.Trimesh(vertices.shape=(16660, 3), faces.shape=(33269, 3))>, <trimesh.Trimesh(vertices.shape=(5880, 3), faces.shape=(11727, 3))>, <trimesh.Trimesh(vertices.shape=(4432, 3), faces.shape=(8797, 3))>, <trimesh.Trimesh(vertices.shape=(3264, 3), faces.shape=(6519, 3))>]\n",
      "There were 12 pieces found after size threshold\n",
      "mesh pieces in subtact soma AFTER the filtering inside pieces = [<trimesh.Trimesh(vertices.shape=(185730, 3), faces.shape=(370654, 3))>, <trimesh.Trimesh(vertices.shape=(128995, 3), faces.shape=(257202, 3))>, <trimesh.Trimesh(vertices.shape=(125943, 3), faces.shape=(251486, 3))>, <trimesh.Trimesh(vertices.shape=(82227, 3), faces.shape=(163975, 3))>, <trimesh.Trimesh(vertices.shape=(61258, 3), faces.shape=(122260, 3))>, <trimesh.Trimesh(vertices.shape=(46188, 3), faces.shape=(92114, 3))>, <trimesh.Trimesh(vertices.shape=(34195, 3), faces.shape=(68245, 3))>, <trimesh.Trimesh(vertices.shape=(29600, 3), faces.shape=(59059, 3))>, <trimesh.Trimesh(vertices.shape=(16660, 3), faces.shape=(33269, 3))>, <trimesh.Trimesh(vertices.shape=(5880, 3), faces.shape=(11727, 3))>, <trimesh.Trimesh(vertices.shape=(4432, 3), faces.shape=(8797, 3))>, <trimesh.Trimesh(vertices.shape=(3264, 3), faces.shape=(6519, 3))>]\n",
      "Total Time for soma mesh cancellation = 7.903\n",
      "Total time for Subtract Soam = 7.903815031051636\n",
      "Total time for Original_mesh_faces_map for mesh_pieces without soma= 2.851116895675659\n",
      "Total time for Original_mesh_faces_map for somas= 1.092874526977539\n",
      "Total time for sig_non_soma_pieces= 2.551799774169922\n",
      "Total time for split= 0.05727577209472656\n"
     ]
    },
    {
     "name": "stderr",
     "output_type": "stream",
     "text": [
      "/meshAfterParty/trimesh_utils.py:314: VisibleDeprecationWarning: Creating an ndarray from ragged nested sequences (which is a list-or-tuple of lists-or-tuples-or ndarrays with different lengths or shapes) is deprecated. If you meant to do this, you must specify 'dtype=object' when creating the ndarray\n",
      "  ordered_comp_indices = np.array([k.astype(\"int\") for k in ordered_components])\n"
     ]
    },
    {
     "name": "stdout",
     "output_type": "stream",
     "text": [
      "Total time for mesh_pieces_connectivity= 29.791834831237793\n",
      "# of insignificant_limbs = 0 with trimesh : []\n"
     ]
    }
   ],
   "source": [
    "tu = reload(tu)\n",
    "#--- 3)  Soma Extraction was great (but it wasn't the original soma faces), so now need to get the original soma faces and the original non-soma faces of original pieces\n",
    "\n",
    "#     sk.graph_skeleton_and_mesh(other_meshes=[soma_meshes])\n",
    "\n",
    "\"\"\"\n",
    "for each soma touching mesh get the following:\n",
    "1) original soma meshes\n",
    "2) significant mesh pieces touching these somas\n",
    "3) The soma connectivity to each of the significant mesh pieces\n",
    "-- later will just translate the \n",
    "\n",
    "\n",
    "Process: \n",
    "\n",
    "1) Final all soma faces (through soma extraction and then soma original faces function)\n",
    "2) Subtact all soma faces from original mesh\n",
    "3) Find all significant mesh pieces\n",
    "4) Backtrack significant mesh pieces to orignal mesh and find connectivity of each to all\n",
    "   the available somas\n",
    "Conclusion: Will have connectivity map\n",
    "\n",
    "\n",
    "\"\"\"\n",
    "\n",
    "soma_touching_mesh_data = dict()\n",
    "\n",
    "for z,(mesh_idx, soma_idxes) in enumerate(soma_containing_meshes.items()):\n",
    "    soma_touching_mesh_data[z] = dict()\n",
    "    print(f\"\\n\\n----Working on soma-containing mesh piece {z}----\")\n",
    "\n",
    "    #1) Final all soma faces (through soma extraction and then soma original faces function)\n",
    "    current_mesh = split_meshes[mesh_idx]\n",
    "\n",
    "    current_soma_mesh_list = [soma_mesh_list[k] for k in soma_idxes]\n",
    "\n",
    "    current_time = time.time()\n",
    "    mesh_pieces_without_soma = sm.subtract_soma(current_soma_mesh_list,current_mesh,\n",
    "                                                significance_threshold=250)\n",
    "    print(f\"Total time for Subtract Soam = {time.time() - current_time}\")\n",
    "    current_time = time.time()\n",
    "\n",
    "    mesh_pieces_without_soma_stacked = tu.combine_meshes(mesh_pieces_without_soma)\n",
    "\n",
    "    # find the original soma faces of mesh\n",
    "    soma_faces = tu.original_mesh_faces_map(current_mesh,mesh_pieces_without_soma_stacked,matching=False)\n",
    "    print(f\"Total time for Original_mesh_faces_map for mesh_pieces without soma= {time.time() - current_time}\")\n",
    "    current_time = time.time()\n",
    "    soma_meshes = current_mesh.submesh([soma_faces],append=True,repair=False)\n",
    "\n",
    "    # finding the non-soma original faces\n",
    "    non_soma_faces = tu.original_mesh_faces_map(current_mesh,soma_meshes,matching=False)\n",
    "    non_soma_stacked_mesh = current_mesh.submesh([non_soma_faces],append=True,repair=False)\n",
    "\n",
    "    print(f\"Total time for Original_mesh_faces_map for somas= {time.time() - current_time}\")\n",
    "    current_time = time.time()\n",
    "\n",
    "    # 3) Find all significant mesh pieces\n",
    "    sig_non_soma_pieces,insignificant_limbs = tu.split_significant_pieces(non_soma_stacked_mesh,significance_threshold=limb_threshold,\n",
    "                                                     return_insignificant_pieces=True)\n",
    "\n",
    "    print(f\"Total time for sig_non_soma_pieces= {time.time() - current_time}\")\n",
    "    current_time = time.time()\n",
    "\n",
    "    soma_touching_mesh_data[z][\"branch_meshes\"] = sig_non_soma_pieces\n",
    "\n",
    "    #4) Backtrack significant mesh pieces to orignal mesh and find connectivity of each to all the available somas\n",
    "    # get all the seperate mesh faces\n",
    "\n",
    "    #How to seperate the mesh faces\n",
    "    seperate_soma_meshes,soma_face_components = tu.split(soma_meshes,only_watertight=False)\n",
    "    #take the top largest ones depending how many were originally in the soma list\n",
    "    seperate_soma_meshes = seperate_soma_meshes[:len(soma_mesh_list)]\n",
    "    soma_face_components = soma_face_components[:len(soma_mesh_list)]\n",
    "\n",
    "    soma_touching_mesh_data[z][\"soma_meshes\"] = seperate_soma_meshes\n",
    "\n",
    "    print(f\"Total time for split= {time.time() - current_time}\")\n",
    "    current_time = time.time()\n",
    "\n",
    "\n",
    "\n",
    "    soma_to_piece_connectivity = dict()\n",
    "    soma_to_piece_touching_vertices = dict()\n",
    "    soma_to_piece_touching_vertices_idx = dict()\n",
    "    limb_root_nodes = dict()\n",
    "    \n",
    "    m_vert_graph = tu.mesh_vertex_graph(current_mesh)\n",
    "    \n",
    "    for i,curr_soma in enumerate(seperate_soma_meshes):\n",
    "        (connected_mesh_pieces,\n",
    "         connected_mesh_pieces_vertices,\n",
    "         connected_mesh_pieces_vertices_idx) = tu.mesh_pieces_connectivity(\n",
    "                        main_mesh=current_mesh,\n",
    "                        central_piece=curr_soma,\n",
    "                        periphery_pieces = sig_non_soma_pieces,\n",
    "                        return_vertices = True,\n",
    "                        return_vertices_idx=True)\n",
    "        #print(f\"soma {i}: connected_mesh_pieces = {connected_mesh_pieces}\")\n",
    "        soma_to_piece_connectivity[i] = connected_mesh_pieces\n",
    "\n",
    "        soma_to_piece_touching_vertices[i] = dict()\n",
    "        for piece_index,piece_idx in enumerate(connected_mesh_pieces):\n",
    "            limb_root_nodes[piece_idx] = connected_mesh_pieces_vertices[piece_index][0]\n",
    "            \n",
    "            \"\"\" Old way of finding vertex connected components on a mesh without trimesh function\n",
    "            #find the number of touching groups and save those \n",
    "            soma_touching_graph = m_vert_graph.subgraph(connected_mesh_pieces_vertices_idx[piece_index])\n",
    "            soma_con_comp = [current_mesh.vertices[np.array(list(k)).astype(\"int\")] for k in list(nx.connected_components(soma_touching_graph))]\n",
    "            soma_to_piece_touching_vertices[i][piece_idx] = soma_con_comp\n",
    "            \"\"\"\n",
    "            \n",
    "            soma_to_piece_touching_vertices[i][piece_idx] = tu.split_vertex_list_into_connected_components(\n",
    "                                                vertex_indices_list=connected_mesh_pieces_vertices_idx[piece_index],\n",
    "                                                mesh=current_mesh, \n",
    "                                                vertex_graph=m_vert_graph, \n",
    "                                                return_coordinates=True\n",
    "                                               )\n",
    "            \n",
    "            \n",
    "            \n",
    "            \n",
    "\n",
    "#         border_debug = False\n",
    "#         if border_debug:\n",
    "#             print(f\"soma_to_piece_connectivity = {soma_to_piece_connectivity}\")\n",
    "#             print(f\"soma_to_piece_touching_vertices = {soma_to_piece_touching_vertices}\")\n",
    "\n",
    "\n",
    "    print(f\"Total time for mesh_pieces_connectivity= {time.time() - current_time}\")\n",
    "\n",
    "    soma_touching_mesh_data[z][\"soma_to_piece_connectivity\"] = soma_to_piece_connectivity\n",
    "\n",
    "print(f\"# of insignificant_limbs = {len(insignificant_limbs)} with trimesh : {insignificant_limbs}\")\n",
    "\n",
    "\n",
    "\n",
    "# Lets have an alert if there was more than one soma disconnected meshes\n",
    "if len(soma_touching_mesh_data.keys()) > 1:\n",
    "    raise Exception(\"More than 1 disconnected meshes that contain somas\")\n",
    "\n",
    "current_mesh_data = soma_touching_mesh_data\n",
    "soma_containing_idx = 0\n",
    "\n",
    "#doing inversion of the connectivity and touching vertices\n",
    "piece_to_soma_touching_vertices = gu.flip_key_orders_for_dict(soma_to_piece_touching_vertices)\n",
    "\n",
    "\n",
    "# ****Soma Touching mesh Data has the branches and the connectivity (So this is where you end up skipping if you don't have somas)***"
   ]
  },
  {
   "cell_type": "markdown",
   "metadata": {},
   "source": [
    "# Process that will start for each limb"
   ]
  },
  {
   "cell_type": "code",
   "execution_count": 13,
   "metadata": {},
   "outputs": [],
   "source": [
    "import preprocessing_vp2 as pre\n",
    "from copy import deepcopy"
   ]
  },
  {
   "cell_type": "code",
   "execution_count": 40,
   "metadata": {},
   "outputs": [
    {
     "data": {
      "text/plain": [
       "{1: [None]}"
      ]
     },
     "execution_count": 40,
     "metadata": {},
     "output_type": "execute_result"
    }
   ],
   "source": [
    "new_branch_info"
   ]
  },
  {
   "cell_type": "code",
   "execution_count": 36,
   "metadata": {},
   "outputs": [
    {
     "name": "stdout",
     "output_type": "stream",
     "text": [
      "\n",
      "\n",
      "----- Working on Proper Limb #0 ---------\n",
      "Time for preparing soma vertices and root: 0.00031280517578125\n",
      "smooth_neighborhood = 1\n"
     ]
    },
    {
     "name": "stderr",
     "output_type": "stream",
     "text": [
      "\r",
      "  0%|          | 0/1 [00:00<?, ?it/s]"
     ]
    },
    {
     "data": {
      "application/vnd.jupyter.widget-view+json": {
       "model_id": "950eae7e3e68447f8b3cd611594f5ed2",
       "version_major": 2,
       "version_minor": 0
      },
      "text/plain": [
       "HBox(children=(FloatProgress(value=0.0, max=185729.0), HTML(value='')))"
      ]
     },
     "metadata": {},
     "output_type": "display_data"
    },
    {
     "name": "stderr",
     "output_type": "stream",
     "text": [
      "100%|██████████| 1/1 [00:03<00:00,  3.62s/it]"
     ]
    },
    {
     "name": "stdout",
     "output_type": "stream",
     "text": [
      "\n"
     ]
    },
    {
     "name": "stderr",
     "output_type": "stream",
     "text": [
      "\n"
     ]
    },
    {
     "name": "stdout",
     "output_type": "stream",
     "text": [
      "Time for 1st pass MP skeletonization: 5.200608253479004\n",
      "branches_touching_root = [65]\n"
     ]
    },
    {
     "name": "stderr",
     "output_type": "stream",
     "text": [
      "/meshAfterParty/meshparty_skeletonize.py:867: VisibleDeprecationWarning: Creating an ndarray from ragged nested sequences (which is a list-or-tuple of lists-or-tuples-or ndarrays with different lengths or shapes) is deprecated. If you meant to do this, you must specify 'dtype=object' when creating the ndarray\n",
      "  segment_branches = np.array([sk_meshparty_obj.vertices[np.vstack([k[:-1],k[1:]]).T] for k in segments])\n",
      "/meshAfterParty/meshparty_skeletonize.py:900: VisibleDeprecationWarning: Creating an ndarray from ragged nested sequences (which is a list-or-tuple of lists-or-tuples-or ndarrays with different lengths or shapes) is deprecated. If you meant to do this, you must specify 'dtype=object' when creating the ndarray\n",
      "  new_segment_branches = np.array([sk_meshparty_obj.vertices[np.vstack([k[:-1],k[1:]]).T] for k in new_segments])\n",
      "/meshAfterParty/meshparty_skeletonize.py:928: VisibleDeprecationWarning: Creating an ndarray from ragged nested sequences (which is a list-or-tuple of lists-or-tuples-or ndarrays with different lengths or shapes) is deprecated. If you meant to do this, you must specify 'dtype=object' when creating the ndarray\n",
      "  segment_branches = np.array(new_segment_branches)\n"
     ]
    },
    {
     "name": "stdout",
     "output_type": "stream",
     "text": [
      "empty_indices % = 0.0\n",
      " conflict_indices % = 0.008150458378973382\n"
     ]
    },
    {
     "name": "stderr",
     "output_type": "stream",
     "text": [
      "/meshAfterParty/trimesh_utils.py:314: VisibleDeprecationWarning: Creating an ndarray from ragged nested sequences (which is a list-or-tuple of lists-or-tuples-or ndarrays with different lengths or shapes) is deprecated. If you meant to do this, you must specify 'dtype=object' when creating the ndarray\n",
      "  ordered_comp_indices = np.array([k.astype(\"int\") for k in ordered_components])\n"
     ]
    },
    {
     "data": {
      "application/vnd.jupyter.widget-view+json": {
       "model_id": "f6b7ed9863f5496a9eb8c87757ef9e03",
       "version_major": 2,
       "version_minor": 0
      },
      "text/plain": [
       "HBox(children=(FloatProgress(value=0.0, max=30.0), HTML(value='')))"
      ]
     },
     "metadata": {},
     "output_type": "display_data"
    },
    {
     "name": "stdout",
     "output_type": "stream",
     "text": [
      "\n",
      "AFTER face_lookup_resolved_test\n"
     ]
    },
    {
     "data": {
      "application/vnd.jupyter.widget-view+json": {
       "model_id": "252d435be9ab4577956aa620fc548f77",
       "version_major": 2,
       "version_minor": 0
      },
      "text/plain": [
       "HBox(children=(FloatProgress(value=0.0, max=66.0), HTML(value='')))"
      ]
     },
     "metadata": {},
     "output_type": "display_data"
    },
    {
     "name": "stdout",
     "output_type": "stream",
     "text": [
      "\n",
      "Decomposing first pass: 7.74880576133728\n",
      "Found len(mesh_large_idx) MAP candidates: [37667, 30895, 28698, 27159, 5339, 3953, 14727, 7480, 10169, 9298, 12482, 18914, 12488, 3177, 48, 11316, 2334, 28510, 12670, 1245, 8468, 13174, 1480, 3693]\n"
     ]
    },
    {
     "name": "stderr",
     "output_type": "stream",
     "text": [
      "/meshAfterParty/trimesh_utils.py:807: VisibleDeprecationWarning: Creating an ndarray from ragged nested sequences (which is a list-or-tuple of lists-or-tuples-or ndarrays with different lengths or shapes) is deprecated. If you meant to do this, you must specify 'dtype=object' when creating the ndarray\n",
      "  total_submeshes_idx =np.array(list(total_submeshes_idx.values()))\n"
     ]
    },
    {
     "name": "stdout",
     "output_type": "stream",
     "text": [
      "mesh_large_connectivity: 0.7858080863952637\n",
      "Finding MAP candidates connected components: 0.00028705596923828125\n",
      "len(filtered_pieces) = 1\n",
      "skeleton_connectivity_MP : 0.2616560459136963\n",
      "Grouping MP Sublimbs by Graph: 0.055526018142700195\n",
      "Divinding into MP and MAP pieces: 1.9073486328125e-06\n",
      "--- Working on MAP piece 0---\n",
      "MAP Filtering Soma Pieces: 0.019160985946655273\n",
      "     Starting Screened Poisson\n",
      "xvfb-run -n 1380 -s \"-screen 0 800x600x24\" meshlabserver $@  -i /notebooks/Platinum_Decomp_Fusion/temp/None.off -o /notebooks/Platinum_Decomp_Fusion/temp/None_poisson.off -s /notebooks/Platinum_Decomp_Fusion/temp/poisson_186818.mls\n",
      "removed temporary input file: /notebooks/Platinum_Decomp_Fusion/temp/None.off\n",
      "removed temporary output file: /notebooks/Platinum_Decomp_Fusion/temp/None_poisson.off\n",
      "Using the close holes feature\n",
      "xvfb-run -n 5690 -s \"-screen 0 800x600x24\" meshlabserver $@  -i /notebooks/Platinum_Decomp_Fusion/temp/neuron_19583.off -o /notebooks/Platinum_Decomp_Fusion/temp/neuron_19583_fill_holes.off -s /notebooks/Platinum_Decomp_Fusion/temp/fill_holes_30300.mls\n",
      "removed temporary input file: /notebooks/Platinum_Decomp_Fusion/temp/neuron_19583.off\n",
      "removed temporary output file: /notebooks/Platinum_Decomp_Fusion/temp/neuron_19583_fill_holes.off\n",
      "-----Time for Screened Poisson= 31.373149871826172\n",
      "     Starting Calcification\n",
      "Before mesh subtraction number of skeleton edges = 3083\n",
      "Inside mesh subtraction, len(main_mesh_bbox_restricted.faces) = 305384\n"
     ]
    },
    {
     "data": {
      "application/vnd.jupyter.widget-view+json": {
       "model_id": "aacc72a29ec7412c804a018655281635",
       "version_major": 2,
       "version_minor": 0
      },
      "text/plain": [
       "HBox(children=(FloatProgress(value=1.0, bar_style='info', layout=Layout(width='20px'), max=1.0), HTML(value=''…"
      ]
     },
     "metadata": {},
     "output_type": "display_data"
    },
    {
     "name": "stdout",
     "output_type": "stream",
     "text": [
      "\n",
      "Total Mesh subtraction time = 62.0837\n"
     ]
    },
    {
     "name": "stderr",
     "output_type": "stream",
     "text": [
      "WARNING:trimesh:face_normals all zero, ignoring!\n"
     ]
    },
    {
     "data": {
      "application/vnd.jupyter.widget-view+json": {
       "model_id": "7c9da30ae4524a18a556af2914976718",
       "version_major": 2,
       "version_minor": 0
      },
      "text/plain": [
       "HBox(children=(FloatProgress(value=0.0, max=69.0), HTML(value='')))"
      ]
     },
     "metadata": {},
     "output_type": "display_data"
    },
    {
     "name": "stdout",
     "output_type": "stream",
     "text": [
      "\n",
      "len_subgraphs AT BEGINNING of the loop\n"
     ]
    },
    {
     "data": {
      "application/vnd.jupyter.widget-view+json": {
       "model_id": "ef6540a91d8e43a5abd2e52582dce456",
       "version_major": 2,
       "version_minor": 0
      },
      "text/plain": [
       "HBox(children=(FloatProgress(value=0.0, max=388.0), HTML(value='')))"
      ]
     },
     "metadata": {},
     "output_type": "display_data"
    },
    {
     "name": "stdout",
     "output_type": "stream",
     "text": [
      "all graph is one component!\n",
      "\n",
      "Total time for skeleton stitching = 0.6736960411071777\n",
      "The process was using a temp folder\n",
      "    Total time for skeletonizing branch: 106.16568994522095\n",
      "skipping soma 0 because closest skeleton node was already end node\n",
      "    Total time for Fixing Skeleton Soma Endpoint Extension : 12.664748668670654\n",
      "filter_end_node_length = 4001\n",
      "Using Distance measure skeletal_distance\n",
      "Going to ignore certain endnodes that are 5000 nm close to soma border vertices\n",
      "Number of end_nodes BEFORE filtering = 394\n",
      "Using an already specified end node: 2783 with index 298checking was correct node end_nodes[index] = 2783\n",
      "May Eliminate end_node 298: 2783 because path_len to soma border was 3067.3961017420274\n",
      "single_node_to_eliminate = 298\n",
      "all_single_nodes_to_eliminate = [298, 298]\n"
     ]
    },
    {
     "data": {
      "application/vnd.jupyter.widget-view+json": {
       "model_id": "0bfbab30e2f74147a156ddd9893a00c5",
       "version_major": 2,
       "version_minor": 0
      },
      "text/plain": [
       "HBox(children=(FloatProgress(value=0.0, max=384.0), HTML(value='')))"
      ]
     },
     "metadata": {},
     "output_type": "display_data"
    },
    {
     "name": "stdout",
     "output_type": "stream",
     "text": [
      "\n",
      "********COMBINING CLOSE SKELETON NODES WITHIN 700 DISTANCE**********\n",
      "Found 0 valid paths to replace\n",
      "valid_paths = []\n",
      "valid_path_lengths = []\n",
      "No valid paths found so just returning the original\n",
      "skeletonize_and_clean_connected_branch_CGAL: 145.59951615333557\n",
      "Working on limb correspondence for #0 MAP piece\n"
     ]
    },
    {
     "data": {
      "application/vnd.jupyter.widget-view+json": {
       "model_id": "dd1b8c55627f47fb88f5f84c42a21eeb",
       "version_major": 2,
       "version_minor": 0
      },
      "text/plain": [
       "HBox(children=(FloatProgress(value=1.0, bar_style='info', layout=Layout(width='20px'), max=1.0), HTML(value=''…"
      ]
     },
     "metadata": {},
     "output_type": "display_data"
    },
    {
     "name": "stdout",
     "output_type": "stream",
     "text": [
      "\n",
      "Total time for decomposition = 61.67001914978027\n",
      "mesh_correspondence_first_pass: 61.67005276679993\n",
      "Limb decomposed into 59 branches\n",
      "divided_skeleton_graph_recovered = (2727, 2, 3) and \n",
      "current_mesh_data[0]['branch_skeletons_cleaned'].shape = (2727, 2, 3)\n",
      "\n",
      "Number of connected components in deocmposed recovered graph = 1\n",
      "Number of connected components in cleaned skeleton graph= 1\n",
      "The downsampled branches number of connected components = 1\n",
      "Empty submeshes = []\n",
      "\n",
      "\n",
      "--- Working on 1-to-1 correspondence-----\n",
      "max(original_labels),len(original_labels) = (58, 59)\n",
      "empty_indices % = 0.05278600057632358\n",
      " conflict_indices % = 0.046613444057318\n"
     ]
    },
    {
     "data": {
      "application/vnd.jupyter.widget-view+json": {
       "model_id": "0d0e3b78688c4195976cd33b0aca5c1b",
       "version_major": 2,
       "version_minor": 0
      },
      "text/plain": [
       "HBox(children=(FloatProgress(value=0.0, max=193.0), HTML(value='')))"
      ]
     },
     "metadata": {},
     "output_type": "display_data"
    },
    {
     "name": "stdout",
     "output_type": "stream",
     "text": [
      "\n",
      "AFTER face_lookup_resolved_test\n",
      "Took 0 iterations to expand the label back\n"
     ]
    },
    {
     "data": {
      "application/vnd.jupyter.widget-view+json": {
       "model_id": "c9008c0fdc314016a42a408c871f5c2d",
       "version_major": 2,
       "version_minor": 0
      },
      "text/plain": [
       "HBox(children=(FloatProgress(value=0.0, max=59.0), HTML(value='')))"
      ]
     },
     "metadata": {},
     "output_type": "display_data"
    },
    {
     "name": "stdout",
     "output_type": "stream",
     "text": [
      "\n",
      "Total time for MAP sublimb #0 mesh processing = 218.01906895637512\n",
      "correspondence_1_to_1: 10.730368375778198\n",
      "Total time for MAP sublimb processing 218.01938796043396\n",
      "***************Arrived at MESH PIECES FOR MAP AND mp***************\n",
      "---- Working on MP Decomposition #0 ----\n",
      "MP filtering soma verts: 0.002109527587890625\n",
      "Do Not Need to Fix MP Decomposition 0 so just continuing\n",
      "---- Working on MP Decomposition #1 ----\n",
      "MP filtering soma verts: 0.002384185791015625\n",
      "Do Not Need to Fix MP Decomposition 1 so just continuing\n",
      "---- Working on MP Decomposition #2 ----\n",
      "MP filtering soma verts: 0.0006029605865478516\n",
      "Do Not Need to Fix MP Decomposition 2 so just continuing\n",
      "---- Working on MP Decomposition #3 ----\n",
      "MP filtering soma verts: 0.0002372264862060547\n",
      "Do Not Need to Fix MP Decomposition 3 so just continuing\n",
      "---- Working on MP Decomposition #4 ----\n",
      "MP filtering soma verts: 0.0002579689025878906\n",
      "Do Not Need to Fix MP Decomposition 4 so just continuing\n",
      "---- Working on MP Decomposition #5 ----\n",
      "MP filtering soma verts: 0.0002353191375732422\n",
      "Do Not Need to Fix MP Decomposition 5 so just continuing\n",
      "---- Working on MP Decomposition #6 ----\n",
      "MP filtering soma verts: 0.0004763603210449219\n",
      "Do Not Need to Fix MP Decomposition 6 so just continuing\n",
      "---- Working on MP Decomposition #7 ----\n",
      "MP filtering soma verts: 0.00026607513427734375\n",
      "Do Not Need to Fix MP Decomposition 7 so just continuing\n",
      "---- Working on MP Decomposition #8 ----\n",
      "MP filtering soma verts: 0.0034363269805908203\n",
      "Do Not Need to Fix MP Decomposition 8 so just continuing\n",
      "\n",
      "---- Working on (0, 0) connection-----\n",
      "    ---- Working on vertex group 0-----\n",
      "winning_vertex = [426693.20739189 576651.22991079 794449.95875867]\n",
      "MP_branches_with_stitch_point = [0]\n",
      "Current stitch point was not a branch or endpoint, shortest_path_length to one = 4001.3166144751667\n",
      "MAP_branches_with_stitch_point = [18]\n",
      "MAP_stitch_point_on_end_or_branch = False\n"
     ]
    },
    {
     "data": {
      "application/vnd.jupyter.widget-view+json": {
       "model_id": "07198d9b4b7647ceb834d86fa98c3482",
       "version_major": 2,
       "version_minor": 0
      },
      "text/plain": [
       "HBox(children=(FloatProgress(value=1.0, bar_style='info', layout=Layout(width='20px'), max=1.0), HTML(value=''…"
      ]
     },
     "metadata": {},
     "output_type": "display_data"
    },
    {
     "name": "stdout",
     "output_type": "stream",
     "text": [
      "\n",
      "\n",
      "\n",
      "--- Working on 1-to-1 correspondence-----\n",
      "max(original_labels),len(original_labels) = (2, 3)\n",
      "empty_indices % = 0.060501890684083875\n",
      " conflict_indices % = 0.04274091898705168\n"
     ]
    },
    {
     "data": {
      "application/vnd.jupyter.widget-view+json": {
       "model_id": "c8b2047a14684b3da8a9de1f5286f18b",
       "version_major": 2,
       "version_minor": 0
      },
      "text/plain": [
       "HBox(children=(FloatProgress(value=0.0, max=9.0), HTML(value='')))"
      ]
     },
     "metadata": {},
     "output_type": "display_data"
    },
    {
     "name": "stdout",
     "output_type": "stream",
     "text": [
      "\n",
      "AFTER face_lookup_resolved_test\n"
     ]
    },
    {
     "data": {
      "application/vnd.jupyter.widget-view+json": {
       "model_id": "9f8946a1cc23478296a3dd75f2eb3484",
       "version_major": 2,
       "version_minor": 0
      },
      "text/plain": [
       "HBox(children=(FloatProgress(value=0.0, max=3.0), HTML(value='')))"
      ]
     },
     "metadata": {},
     "output_type": "display_data"
    },
    {
     "name": "stdout",
     "output_type": "stream",
     "text": [
      "\n",
      "Deleting branches from dictionary\n",
      " Finished with (0, 0) vertex group 0 \n",
      "\n",
      "\n",
      "\n",
      "\n",
      "---- Working on (1, 0) connection-----\n",
      "    ---- Working on vertex group 0-----\n",
      "winning_vertex = [418165.31417932 520404.28568414 792483.16848975]\n",
      "MP_branches_with_stitch_point = [9]\n",
      "Current stitch point was not a branch or endpoint, shortest_path_length to one = 3678.3674974070796\n",
      "MAP_branches_with_stitch_point = [11]\n",
      "MAP_stitch_point_on_end_or_branch = False\n"
     ]
    },
    {
     "data": {
      "application/vnd.jupyter.widget-view+json": {
       "model_id": "0115fa3a67424d59a6f0faa635d25ff9",
       "version_major": 2,
       "version_minor": 0
      },
      "text/plain": [
       "HBox(children=(FloatProgress(value=1.0, bar_style='info', layout=Layout(width='20px'), max=1.0), HTML(value=''…"
      ]
     },
     "metadata": {},
     "output_type": "display_data"
    },
    {
     "name": "stdout",
     "output_type": "stream",
     "text": [
      "\n",
      "\n",
      "\n",
      "--- Working on 1-to-1 correspondence-----\n",
      "max(original_labels),len(original_labels) = (2, 3)\n",
      "empty_indices % = 0.04422051965356429\n",
      " conflict_indices % = 0.02031978680879414\n"
     ]
    },
    {
     "data": {
      "application/vnd.jupyter.widget-view+json": {
       "model_id": "27ba1026ba6846199c1b56302f989c1f",
       "version_major": 2,
       "version_minor": 0
      },
      "text/plain": [
       "HBox(children=(FloatProgress(value=0.0, max=10.0), HTML(value='')))"
      ]
     },
     "metadata": {},
     "output_type": "display_data"
    },
    {
     "name": "stdout",
     "output_type": "stream",
     "text": [
      "\n",
      "AFTER face_lookup_resolved_test\n"
     ]
    },
    {
     "data": {
      "application/vnd.jupyter.widget-view+json": {
       "model_id": "a0bb1bf6e5614599b14bd03b21269f9c",
       "version_major": 2,
       "version_minor": 0
      },
      "text/plain": [
       "HBox(children=(FloatProgress(value=0.0, max=3.0), HTML(value='')))"
      ]
     },
     "metadata": {},
     "output_type": "display_data"
    },
    {
     "name": "stdout",
     "output_type": "stream",
     "text": [
      "\n",
      "Deleting branches from dictionary\n",
      " Finished with (1, 0) vertex group 0 \n",
      "\n",
      "\n",
      "\n",
      "\n",
      "---- Working on (2, 0) connection-----\n",
      "    ---- Working on vertex group 0-----\n",
      "winning_vertex = [405701.12260374 472341.24421257 799030.07880684]\n",
      "MP_branches_with_stitch_point = [0]\n",
      "Current stitch point was not a branch or endpoint, shortest_path_length to one = 18752.661607284965\n",
      "MAP_branches_with_stitch_point = [4]\n",
      "MAP_stitch_point_on_end_or_branch = False\n"
     ]
    },
    {
     "data": {
      "application/vnd.jupyter.widget-view+json": {
       "model_id": "0f52263d9b1f438bb1f3d50d052c6f42",
       "version_major": 2,
       "version_minor": 0
      },
      "text/plain": [
       "HBox(children=(FloatProgress(value=1.0, bar_style='info', layout=Layout(width='20px'), max=1.0), HTML(value=''…"
      ]
     },
     "metadata": {},
     "output_type": "display_data"
    },
    {
     "name": "stdout",
     "output_type": "stream",
     "text": [
      "\n",
      "\n",
      "\n",
      "--- Working on 1-to-1 correspondence-----\n",
      "max(original_labels),len(original_labels) = (2, 3)\n",
      "empty_indices % = 0.07752998106459079\n",
      " conflict_indices % = 0.009099516095097833\n"
     ]
    },
    {
     "data": {
      "application/vnd.jupyter.widget-view+json": {
       "model_id": "c36b90bbff6d4e1191e34a5d358d3b03",
       "version_major": 2,
       "version_minor": 0
      },
      "text/plain": [
       "HBox(children=(FloatProgress(value=0.0, max=13.0), HTML(value='')))"
      ]
     },
     "metadata": {},
     "output_type": "display_data"
    },
    {
     "name": "stdout",
     "output_type": "stream",
     "text": [
      "\n",
      "AFTER face_lookup_resolved_test\n"
     ]
    },
    {
     "data": {
      "application/vnd.jupyter.widget-view+json": {
       "model_id": "303727c106334b2585ce160c547b1862",
       "version_major": 2,
       "version_minor": 0
      },
      "text/plain": [
       "HBox(children=(FloatProgress(value=0.0, max=3.0), HTML(value='')))"
      ]
     },
     "metadata": {},
     "output_type": "display_data"
    },
    {
     "name": "stdout",
     "output_type": "stream",
     "text": [
      "\n",
      "Deleting branches from dictionary\n",
      " Finished with (2, 0) vertex group 0 \n",
      "\n",
      "\n",
      "\n",
      "\n",
      "---- Working on (3, 0) connection-----\n",
      "    ---- Working on vertex group 0-----\n",
      "winning_vertex = [388194.22842704 410695.6131358  773642.99324305]\n",
      "MP_branches_with_stitch_point = [0, 1]\n",
      "Current stitch point was a branch or endpoint\n",
      "MAP_branches_with_stitch_point = [1]\n",
      "MAP_stitch_point_on_end_or_branch = True\n"
     ]
    },
    {
     "data": {
      "application/vnd.jupyter.widget-view+json": {
       "model_id": "accbf5c6a3a4456593632303464ac58d",
       "version_major": 2,
       "version_minor": 0
      },
      "text/plain": [
       "HBox(children=(FloatProgress(value=1.0, bar_style='info', layout=Layout(width='20px'), max=1.0), HTML(value=''…"
      ]
     },
     "metadata": {},
     "output_type": "display_data"
    },
    {
     "name": "stdout",
     "output_type": "stream",
     "text": [
      "\n",
      "\n",
      "\n",
      "--- Working on 1-to-1 correspondence-----\n",
      "max(original_labels),len(original_labels) = (2, 3)\n",
      "empty_indices % = 0.12814154547282353\n",
      " conflict_indices % = 0.0008042356410428255\n"
     ]
    },
    {
     "data": {
      "application/vnd.jupyter.widget-view+json": {
       "model_id": "f9f1753dd59747dc89af2a001d9783d5",
       "version_major": 2,
       "version_minor": 0
      },
      "text/plain": [
       "HBox(children=(FloatProgress(value=0.0, max=9.0), HTML(value='')))"
      ]
     },
     "metadata": {},
     "output_type": "display_data"
    },
    {
     "name": "stdout",
     "output_type": "stream",
     "text": [
      "\n",
      "AFTER face_lookup_resolved_test\n"
     ]
    },
    {
     "data": {
      "application/vnd.jupyter.widget-view+json": {
       "model_id": "6cac209baafb4d449b7438fd6a0bd05c",
       "version_major": 2,
       "version_minor": 0
      },
      "text/plain": [
       "HBox(children=(FloatProgress(value=0.0, max=3.0), HTML(value='')))"
      ]
     },
     "metadata": {},
     "output_type": "display_data"
    },
    {
     "name": "stdout",
     "output_type": "stream",
     "text": [
      "\n",
      " Finished with (3, 0) vertex group 0 \n",
      "\n",
      "\n",
      "\n",
      "\n",
      "---- Working on (4, 0) connection-----\n",
      "    ---- Working on vertex group 0-----\n",
      "winning_vertex = [388790.33996644 411211.3176466  773163.31726256]\n",
      "MP_branches_with_stitch_point = [0]\n",
      "Current stitch point was a branch or endpoint\n",
      "MAP_branches_with_stitch_point = [1]\n",
      "MAP_stitch_point_on_end_or_branch = True\n"
     ]
    },
    {
     "data": {
      "application/vnd.jupyter.widget-view+json": {
       "model_id": "2b67a5ecb36847748c29ac66d552a6a8",
       "version_major": 2,
       "version_minor": 0
      },
      "text/plain": [
       "HBox(children=(FloatProgress(value=1.0, bar_style='info', layout=Layout(width='20px'), max=1.0), HTML(value=''…"
      ]
     },
     "metadata": {},
     "output_type": "display_data"
    },
    {
     "name": "stdout",
     "output_type": "stream",
     "text": [
      "\n",
      "\n",
      "\n",
      "--- Working on 1-to-1 correspondence-----\n",
      "max(original_labels),len(original_labels) = (1, 2)\n",
      "empty_indices % = 0.11754128929142248\n",
      " conflict_indices % = 0.01125466169419286\n"
     ]
    },
    {
     "data": {
      "application/vnd.jupyter.widget-view+json": {
       "model_id": "7afd40b9590842bcb76e388f352c8314",
       "version_major": 2,
       "version_minor": 0
      },
      "text/plain": [
       "HBox(children=(FloatProgress(value=0.0, max=10.0), HTML(value='')))"
      ]
     },
     "metadata": {},
     "output_type": "display_data"
    },
    {
     "name": "stdout",
     "output_type": "stream",
     "text": [
      "\n",
      "AFTER face_lookup_resolved_test\n"
     ]
    },
    {
     "data": {
      "application/vnd.jupyter.widget-view+json": {
       "model_id": "e703f9802d814280b697684372cc2646",
       "version_major": 2,
       "version_minor": 0
      },
      "text/plain": [
       "HBox(children=(FloatProgress(value=0.0, max=2.0), HTML(value='')))"
      ]
     },
     "metadata": {},
     "output_type": "display_data"
    },
    {
     "name": "stdout",
     "output_type": "stream",
     "text": [
      "\n",
      " Finished with (4, 0) vertex group 0 \n",
      "\n",
      "\n",
      "\n",
      "\n",
      "---- Working on (5, 0) connection-----\n",
      "    ---- Working on vertex group 0-----\n",
      "winning_vertex = [498114.34534151 627688.30198165 780288.02773456]\n",
      "MP_branches_with_stitch_point = [0, 1]\n",
      "Current stitch point was not a branch or endpoint, shortest_path_length to one = 2077.4802225767467\n",
      "MAP_branches_with_stitch_point = [58]\n",
      "MAP_stitch_point_on_end_or_branch = False\n"
     ]
    },
    {
     "data": {
      "application/vnd.jupyter.widget-view+json": {
       "model_id": "59c9f830b3cb44f6a5c8eb54fab1f56c",
       "version_major": 2,
       "version_minor": 0
      },
      "text/plain": [
       "HBox(children=(FloatProgress(value=1.0, bar_style='info', layout=Layout(width='20px'), max=1.0), HTML(value=''…"
      ]
     },
     "metadata": {},
     "output_type": "display_data"
    },
    {
     "name": "stdout",
     "output_type": "stream",
     "text": [
      "\n",
      "\n",
      "\n",
      "--- Working on 1-to-1 correspondence-----\n",
      "max(original_labels),len(original_labels) = (3, 4)\n",
      "empty_indices % = 0.04111405835543767\n",
      " conflict_indices % = 0.03076923076923077\n"
     ]
    },
    {
     "data": {
      "application/vnd.jupyter.widget-view+json": {
       "model_id": "32f54253f20649dbb33648ed7e95a876",
       "version_major": 2,
       "version_minor": 0
      },
      "text/plain": [
       "HBox(children=(FloatProgress(value=0.0, max=4.0), HTML(value='')))"
      ]
     },
     "metadata": {},
     "output_type": "display_data"
    },
    {
     "name": "stdout",
     "output_type": "stream",
     "text": [
      "\n",
      "AFTER face_lookup_resolved_test\n"
     ]
    },
    {
     "data": {
      "application/vnd.jupyter.widget-view+json": {
       "model_id": "cea0a7fc142b4aeaa39999a30b7b732a",
       "version_major": 2,
       "version_minor": 0
      },
      "text/plain": [
       "HBox(children=(FloatProgress(value=0.0, max=4.0), HTML(value='')))"
      ]
     },
     "metadata": {},
     "output_type": "display_data"
    },
    {
     "name": "stdout",
     "output_type": "stream",
     "text": [
      "\n",
      "Deleting branches from dictionary\n",
      " Finished with (5, 0) vertex group 0 \n",
      "\n",
      "\n",
      "\n",
      "\n",
      "---- Working on (6, 0) connection-----\n",
      "    ---- Working on vertex group 0-----\n",
      "winning_vertex = [383704.9834592  408451.1924655  833095.87559677]\n",
      "MP_branches_with_stitch_point = [0]\n",
      "Current stitch point was not a branch or endpoint, shortest_path_length to one = 16894.204856382356\n",
      "MAP_branches_with_stitch_point = [0]\n",
      "MAP_stitch_point_on_end_or_branch = False\n"
     ]
    },
    {
     "data": {
      "application/vnd.jupyter.widget-view+json": {
       "model_id": "9208d2d627e84e368bee7058e5c0f683",
       "version_major": 2,
       "version_minor": 0
      },
      "text/plain": [
       "HBox(children=(FloatProgress(value=1.0, bar_style='info', layout=Layout(width='20px'), max=1.0), HTML(value=''…"
      ]
     },
     "metadata": {},
     "output_type": "display_data"
    },
    {
     "name": "stdout",
     "output_type": "stream",
     "text": [
      "\n",
      "\n",
      "\n",
      "--- Working on 1-to-1 correspondence-----\n",
      "max(original_labels),len(original_labels) = (2, 3)\n",
      "empty_indices % = 0.17640473024980757\n",
      " conflict_indices % = 0.016024071093695334\n"
     ]
    },
    {
     "data": {
      "application/vnd.jupyter.widget-view+json": {
       "model_id": "27416d29848a47a59814d466b395ca5b",
       "version_major": 2,
       "version_minor": 0
      },
      "text/plain": [
       "HBox(children=(FloatProgress(value=0.0, max=8.0), HTML(value='')))"
      ]
     },
     "metadata": {},
     "output_type": "display_data"
    },
    {
     "name": "stdout",
     "output_type": "stream",
     "text": [
      "\n",
      "AFTER face_lookup_resolved_test\n"
     ]
    },
    {
     "data": {
      "application/vnd.jupyter.widget-view+json": {
       "model_id": "e51e082d1c654c5dbb2ec4f2eb5fe8d1",
       "version_major": 2,
       "version_minor": 0
      },
      "text/plain": [
       "HBox(children=(FloatProgress(value=0.0, max=3.0), HTML(value='')))"
      ]
     },
     "metadata": {},
     "output_type": "display_data"
    },
    {
     "name": "stdout",
     "output_type": "stream",
     "text": [
      "\n",
      "Deleting branches from dictionary\n",
      " Finished with (6, 0) vertex group 0 \n",
      "\n",
      "\n",
      "\n",
      "\n",
      "---- Working on (7, 0) connection-----\n",
      "    ---- Working on vertex group 0-----\n",
      "winning_vertex = [400401.83694117 450374.1996322  796552.87711019]\n",
      "MP_branches_with_stitch_point = [0]\n",
      "Current stitch point was not a branch or endpoint, shortest_path_length to one = 6003.839157919229\n",
      "MAP_branches_with_stitch_point = [1]\n",
      "MAP_stitch_point_on_end_or_branch = False\n"
     ]
    },
    {
     "data": {
      "application/vnd.jupyter.widget-view+json": {
       "model_id": "c5a9927804f74d86a55c61b7374bea74",
       "version_major": 2,
       "version_minor": 0
      },
      "text/plain": [
       "HBox(children=(FloatProgress(value=1.0, bar_style='info', layout=Layout(width='20px'), max=1.0), HTML(value=''…"
      ]
     },
     "metadata": {},
     "output_type": "display_data"
    },
    {
     "name": "stdout",
     "output_type": "stream",
     "text": [
      "\n",
      "\n",
      "\n",
      "--- Working on 1-to-1 correspondence-----\n",
      "max(original_labels),len(original_labels) = (2, 3)\n",
      "empty_indices % = 0.15213037773634416\n",
      " conflict_indices % = 0.008010496512671777\n"
     ]
    },
    {
     "data": {
      "application/vnd.jupyter.widget-view+json": {
       "model_id": "d11fdd44fd68457e8c1c618a04ae156e",
       "version_major": 2,
       "version_minor": 0
      },
      "text/plain": [
       "HBox(children=(FloatProgress(value=0.0, max=9.0), HTML(value='')))"
      ]
     },
     "metadata": {},
     "output_type": "display_data"
    },
    {
     "name": "stdout",
     "output_type": "stream",
     "text": [
      "\n",
      "AFTER face_lookup_resolved_test\n"
     ]
    },
    {
     "data": {
      "application/vnd.jupyter.widget-view+json": {
       "model_id": "ddcf500050064309b4d27a829bab5ea3",
       "version_major": 2,
       "version_minor": 0
      },
      "text/plain": [
       "HBox(children=(FloatProgress(value=0.0, max=3.0), HTML(value='')))"
      ]
     },
     "metadata": {},
     "output_type": "display_data"
    },
    {
     "name": "stdout",
     "output_type": "stream",
     "text": [
      "\n",
      "Deleting branches from dictionary\n",
      " Finished with (7, 0) vertex group 0 \n",
      "\n",
      "\n",
      "\n",
      "\n",
      "---- Working on (8, 0) connection-----\n",
      "    ---- Working on vertex group 0-----\n",
      "winning_vertex = [443451.58503645 645096.86203822 791649.07079933]\n",
      "MP_branches_with_stitch_point = [0]\n",
      "Current stitch point was not a branch or endpoint, shortest_path_length to one = 6065.431907654038\n",
      "MAP_branches_with_stitch_point = [38]\n",
      "MAP_stitch_point_on_end_or_branch = False\n"
     ]
    },
    {
     "data": {
      "application/vnd.jupyter.widget-view+json": {
       "model_id": "84e21123829b4e0c91787af540f99493",
       "version_major": 2,
       "version_minor": 0
      },
      "text/plain": [
       "HBox(children=(FloatProgress(value=1.0, bar_style='info', layout=Layout(width='20px'), max=1.0), HTML(value=''…"
      ]
     },
     "metadata": {},
     "output_type": "display_data"
    },
    {
     "name": "stdout",
     "output_type": "stream",
     "text": [
      "\n",
      "\n",
      "\n",
      "--- Working on 1-to-1 correspondence-----\n",
      "max(original_labels),len(original_labels) = (2, 3)\n",
      "empty_indices % = 0.07092710136564724\n",
      " conflict_indices % = 0.01788805539526832\n"
     ]
    },
    {
     "data": {
      "application/vnd.jupyter.widget-view+json": {
       "model_id": "64c6384d9408414fb3dabec15593b43e",
       "version_major": 2,
       "version_minor": 0
      },
      "text/plain": [
       "HBox(children=(FloatProgress(value=0.0, max=26.0), HTML(value='')))"
      ]
     },
     "metadata": {},
     "output_type": "display_data"
    },
    {
     "name": "stdout",
     "output_type": "stream",
     "text": [
      "\n",
      "AFTER face_lookup_resolved_test\n"
     ]
    },
    {
     "data": {
      "application/vnd.jupyter.widget-view+json": {
       "model_id": "d356a51cf03e475e9eb0f25f9932e892",
       "version_major": 2,
       "version_minor": 0
      },
      "text/plain": [
       "HBox(children=(FloatProgress(value=0.0, max=3.0), HTML(value='')))"
      ]
     },
     "metadata": {},
     "output_type": "display_data"
    },
    {
     "name": "stdout",
     "output_type": "stream",
     "text": [
      "\n",
      "Deleting branches from dictionary\n",
      " Finished with (8, 0) vertex group 0 \n",
      "\n",
      "\n",
      "\n",
      "Time for decomp of Limb 0 = 253.99244213104248\n",
      "\n",
      "\n",
      "----- Working on Proper Limb #1 ---------\n",
      "Time for preparing soma vertices and root: 0.00029015541076660156\n",
      "smooth_neighborhood = 1\n"
     ]
    },
    {
     "name": "stderr",
     "output_type": "stream",
     "text": [
      "\r",
      "  0%|          | 0/1 [00:00<?, ?it/s]"
     ]
    },
    {
     "data": {
      "application/vnd.jupyter.widget-view+json": {
       "model_id": "59ef1ed123514d96bec850a2d0aabf09",
       "version_major": 2,
       "version_minor": 0
      },
      "text/plain": [
       "HBox(children=(FloatProgress(value=0.0, max=128994.0), HTML(value='')))"
      ]
     },
     "metadata": {},
     "output_type": "display_data"
    },
    {
     "name": "stderr",
     "output_type": "stream",
     "text": [
      "100%|██████████| 1/1 [00:06<00:00,  6.42s/it]"
     ]
    },
    {
     "name": "stdout",
     "output_type": "stream",
     "text": [
      "\n"
     ]
    },
    {
     "name": "stderr",
     "output_type": "stream",
     "text": [
      "\n"
     ]
    },
    {
     "name": "stdout",
     "output_type": "stream",
     "text": [
      "Time for 1st pass MP skeletonization: 7.609320878982544\n",
      "branches_touching_root = [110]\n",
      "empty_indices % = 0.0\n",
      " conflict_indices % = 0.010691985287828243\n"
     ]
    },
    {
     "data": {
      "application/vnd.jupyter.widget-view+json": {
       "model_id": "a9236906dfb340b7ac0e146eb690b505",
       "version_major": 2,
       "version_minor": 0
      },
      "text/plain": [
       "HBox(children=(FloatProgress(value=0.0, max=56.0), HTML(value='')))"
      ]
     },
     "metadata": {},
     "output_type": "display_data"
    },
    {
     "name": "stdout",
     "output_type": "stream",
     "text": [
      "\n",
      "AFTER face_lookup_resolved_test\n"
     ]
    },
    {
     "data": {
      "application/vnd.jupyter.widget-view+json": {
       "model_id": "95a88733cc704b5cbaeecf82bd89c997",
       "version_major": 2,
       "version_minor": 0
      },
      "text/plain": [
       "HBox(children=(FloatProgress(value=0.0, max=111.0), HTML(value='')))"
      ]
     },
     "metadata": {},
     "output_type": "display_data"
    },
    {
     "name": "stdout",
     "output_type": "stream",
     "text": [
      "\n",
      "Decomposing first pass: 6.566885709762573\n",
      "Found len(mesh_large_idx) MAP candidates: [658, 1263, 1102, 6617, 2133, 686, 4786]\n",
      "mesh_large_connectivity: 0.011235475540161133\n",
      "Finding MAP candidates connected components: 0.0001800060272216797\n",
      "len(filtered_pieces) = 1\n",
      "skeleton_connectivity_MP : 1.0763680934906006\n",
      "Grouping MP Sublimbs by Graph: 0.1558845043182373\n",
      "Divinding into MP and MAP pieces: 3.0994415283203125e-06\n",
      "--- Working on MAP piece 0---\n",
      "MAP Filtering Soma Pieces: 0.001165628433227539\n",
      "     Starting Screened Poisson\n",
      "xvfb-run -n 5270 -s \"-screen 0 800x600x24\" meshlabserver $@  -i /notebooks/Platinum_Decomp_Fusion/temp/None.off -o /notebooks/Platinum_Decomp_Fusion/temp/None_poisson.off -s /notebooks/Platinum_Decomp_Fusion/temp/poisson_257851.mls\n",
      "removed temporary input file: /notebooks/Platinum_Decomp_Fusion/temp/None.off\n",
      "removed temporary output file: /notebooks/Platinum_Decomp_Fusion/temp/None_poisson.off\n",
      "Using the close holes feature\n",
      "xvfb-run -n 3204 -s \"-screen 0 800x600x24\" meshlabserver $@  -i /notebooks/Platinum_Decomp_Fusion/temp/neuron_50033.off -o /notebooks/Platinum_Decomp_Fusion/temp/neuron_50033_fill_holes.off -s /notebooks/Platinum_Decomp_Fusion/temp/fill_holes_704365.mls\n",
      "removed temporary input file: /notebooks/Platinum_Decomp_Fusion/temp/neuron_50033.off\n",
      "removed temporary output file: /notebooks/Platinum_Decomp_Fusion/temp/neuron_50033_fill_holes.off\n",
      "-----Time for Screened Poisson= 10.749325513839722\n",
      "     Starting Calcification\n",
      "Before mesh subtraction number of skeleton edges = 225\n",
      "Inside mesh subtraction, len(main_mesh_bbox_restricted.faces) = 17245\n"
     ]
    },
    {
     "data": {
      "application/vnd.jupyter.widget-view+json": {
       "model_id": "bbf71a96eacf4f14a73bb353133bf037",
       "version_major": 2,
       "version_minor": 0
      },
      "text/plain": [
       "HBox(children=(FloatProgress(value=1.0, bar_style='info', layout=Layout(width='20px'), max=1.0), HTML(value=''…"
      ]
     },
     "metadata": {},
     "output_type": "display_data"
    },
    {
     "name": "stdout",
     "output_type": "stream",
     "text": [
      "\n",
      "Total Mesh subtraction time = 1.1392\n"
     ]
    },
    {
     "data": {
      "application/vnd.jupyter.widget-view+json": {
       "model_id": "50de9f5f2f2043968ef716ff866a4f34",
       "version_major": 2,
       "version_minor": 0
      },
      "text/plain": [
       "HBox(children=(FloatProgress(value=1.0, bar_style='info', layout=Layout(width='20px'), max=1.0), HTML(value=''…"
      ]
     },
     "metadata": {},
     "output_type": "display_data"
    },
    {
     "name": "stdout",
     "output_type": "stream",
     "text": [
      "\n",
      "No skeletons to stack so returning empty list\n",
      "len_subgraphs AT BEGINNING of the loop\n"
     ]
    },
    {
     "data": {
      "application/vnd.jupyter.widget-view+json": {
       "model_id": "855538084f7e411dbfa122a6ecf76e71",
       "version_major": 2,
       "version_minor": 0
      },
      "text/plain": [
       "HBox(children=(FloatProgress(value=0.0, max=5.0), HTML(value='')))"
      ]
     },
     "metadata": {},
     "output_type": "display_data"
    },
    {
     "name": "stdout",
     "output_type": "stream",
     "text": [
      "all graph is one component!\n",
      "\n",
      "Total time for skeleton stitching = 0.037984609603881836\n",
      "The process was using a temp folder\n",
      "    Total time for skeletonizing branch: 14.118329763412476\n",
      "skipping soma 1 because closest skeleton node was already end node\n",
      "    Total time for Fixing Skeleton Soma Endpoint Extension : 0.6277048587799072\n",
      "filter_end_node_length = 4001\n",
      "Using Distance measure skeletal_distance\n",
      "Going to ignore certain endnodes that are 5000 nm close to soma border vertices\n",
      "Number of end_nodes BEFORE filtering = 9\n",
      "Using an already specified end node: 64 with index 4checking was correct node end_nodes[index] = 64\n",
      "May Eliminate end_node 4: 64 because path_len to soma border was 2717.2588771029814\n",
      "single_node_to_eliminate = 4\n",
      "all_single_nodes_to_eliminate = [4, 4]\n"
     ]
    },
    {
     "data": {
      "application/vnd.jupyter.widget-view+json": {
       "model_id": "3fb130d1a46a4fa6a9f59a78a5e116b6",
       "version_major": 2,
       "version_minor": 0
      },
      "text/plain": [
       "HBox(children=(FloatProgress(value=0.0, max=7.0), HTML(value='')))"
      ]
     },
     "metadata": {},
     "output_type": "display_data"
    },
    {
     "name": "stdout",
     "output_type": "stream",
     "text": [
      "\n",
      "********COMBINING CLOSE SKELETON NODES WITHIN 700 DISTANCE**********\n",
      "Found 0 valid paths to replace\n",
      "valid_paths = []\n",
      "valid_path_lengths = []\n",
      "No valid paths found so just returning the original\n",
      "skeletonize_and_clean_connected_branch_CGAL: 15.042747497558594\n",
      "Working on limb correspondence for #0 MAP piece\n"
     ]
    },
    {
     "data": {
      "application/vnd.jupyter.widget-view+json": {
       "model_id": "2a3260ac0f834ac981eecb72b21cfa59",
       "version_major": 2,
       "version_minor": 0
      },
      "text/plain": [
       "HBox(children=(FloatProgress(value=1.0, bar_style='info', layout=Layout(width='20px'), max=1.0), HTML(value=''…"
      ]
     },
     "metadata": {},
     "output_type": "display_data"
    },
    {
     "name": "stdout",
     "output_type": "stream",
     "text": [
      "\n",
      "Total time for decomposition = 1.4612491130828857\n",
      "mesh_correspondence_first_pass: 1.4612970352172852\n",
      "Limb decomposed into 5 branches\n",
      "divided_skeleton_graph_recovered = (218, 2, 3) and \n",
      "current_mesh_data[0]['branch_skeletons_cleaned'].shape = (218, 2, 3)\n",
      "\n",
      "Number of connected components in deocmposed recovered graph = 1\n",
      "Number of connected components in cleaned skeleton graph= 1\n",
      "The downsampled branches number of connected components = 1\n",
      "Empty submeshes = []\n",
      "\n",
      "\n",
      "--- Working on 1-to-1 correspondence-----\n",
      "max(original_labels),len(original_labels) = (4, 5)\n",
      "empty_indices % = 0.09939112786314874\n",
      " conflict_indices % = 0.02708031313424181\n"
     ]
    },
    {
     "data": {
      "application/vnd.jupyter.widget-view+json": {
       "model_id": "2d00ba95965f4da0b9c0ac9a75278ec3",
       "version_major": 2,
       "version_minor": 0
      },
      "text/plain": [
       "HBox(children=(FloatProgress(value=0.0, max=8.0), HTML(value='')))"
      ]
     },
     "metadata": {},
     "output_type": "display_data"
    },
    {
     "name": "stdout",
     "output_type": "stream",
     "text": [
      "\n",
      "AFTER face_lookup_resolved_test\n",
      "Took 0 iterations to expand the label back\n"
     ]
    },
    {
     "data": {
      "application/vnd.jupyter.widget-view+json": {
       "model_id": "ca5aaea3e2924e5f9b216f4a5f305460",
       "version_major": 2,
       "version_minor": 0
      },
      "text/plain": [
       "HBox(children=(FloatProgress(value=0.0, max=5.0), HTML(value='')))"
      ]
     },
     "metadata": {},
     "output_type": "display_data"
    },
    {
     "name": "stdout",
     "output_type": "stream",
     "text": [
      "\n",
      "Total time for MAP sublimb #0 mesh processing = 17.080432653427124\n",
      "correspondence_1_to_1: 0.5751943588256836\n",
      "Total time for MAP sublimb processing 17.080535411834717\n",
      "***************Arrived at MESH PIECES FOR MAP AND mp***************\n",
      "---- Working on MP Decomposition #0 ----\n",
      "MP filtering soma verts: 0.013473987579345703\n",
      "Do Not Need to Fix MP Decomposition 0 so just continuing\n",
      "---- Working on MP Decomposition #1 ----\n",
      "MP filtering soma verts: 0.0037055015563964844\n",
      "Do Not Need to Fix MP Decomposition 1 so just continuing\n",
      "---- Working on MP Decomposition #2 ----\n",
      "MP filtering soma verts: 0.0014352798461914062\n",
      "Do Not Need to Fix MP Decomposition 2 so just continuing\n",
      "---- Working on MP Decomposition #3 ----\n",
      "MP filtering soma verts: 0.0007410049438476562\n",
      "Do Not Need to Fix MP Decomposition 3 so just continuing\n",
      "---- Working on MP Decomposition #4 ----\n",
      "MP filtering soma verts: 0.0010924339294433594\n",
      "Do Not Need to Fix MP Decomposition 4 so just continuing\n",
      "---- Working on MP Decomposition #5 ----\n",
      "MP filtering soma verts: 0.0017211437225341797\n",
      "Do Not Need to Fix MP Decomposition 5 so just continuing\n",
      "---- Working on MP Decomposition #6 ----\n",
      "MP filtering soma verts: 0.0006527900695800781\n",
      "Do Not Need to Fix MP Decomposition 6 so just continuing\n",
      "\n",
      "---- Working on (0, 0) connection-----\n",
      "    ---- Working on vertex group 0-----\n",
      "winning_vertex = [596677.37348554 865128.22119902 820208.95136298]\n",
      "MP_branches_with_stitch_point = [7]\n",
      "Current stitch point was not a branch or endpoint, shortest_path_length to one = 3020.419714404498\n",
      "MAP_branches_with_stitch_point = [4]\n",
      "MAP_stitch_point_on_end_or_branch = False\n"
     ]
    },
    {
     "data": {
      "application/vnd.jupyter.widget-view+json": {
       "model_id": "2a2b12ace9804390ac2043a532133aa0",
       "version_major": 2,
       "version_minor": 0
      },
      "text/plain": [
       "HBox(children=(FloatProgress(value=1.0, bar_style='info', layout=Layout(width='20px'), max=1.0), HTML(value=''…"
      ]
     },
     "metadata": {},
     "output_type": "display_data"
    },
    {
     "name": "stdout",
     "output_type": "stream",
     "text": [
      "\n",
      "\n",
      "\n",
      "--- Working on 1-to-1 correspondence-----\n",
      "max(original_labels),len(original_labels) = (2, 3)\n",
      "empty_indices % = 0.03601090059693745\n",
      " conflict_indices % = 0.013301323643913834\n"
     ]
    },
    {
     "data": {
      "application/vnd.jupyter.widget-view+json": {
       "model_id": "42c92a40a6514a76849706a374422384",
       "version_major": 2,
       "version_minor": 0
      },
      "text/plain": [
       "HBox(children=(FloatProgress(value=0.0, max=6.0), HTML(value='')))"
      ]
     },
     "metadata": {},
     "output_type": "display_data"
    },
    {
     "name": "stdout",
     "output_type": "stream",
     "text": [
      "\n",
      "AFTER face_lookup_resolved_test\n"
     ]
    },
    {
     "data": {
      "application/vnd.jupyter.widget-view+json": {
       "model_id": "608db3e01ad54e13a30600a770dacaa9",
       "version_major": 2,
       "version_minor": 0
      },
      "text/plain": [
       "HBox(children=(FloatProgress(value=0.0, max=3.0), HTML(value='')))"
      ]
     },
     "metadata": {},
     "output_type": "display_data"
    },
    {
     "name": "stdout",
     "output_type": "stream",
     "text": [
      "\n",
      "Deleting branches from dictionary\n",
      " Finished with (0, 0) vertex group 0 \n",
      "\n",
      "\n",
      "\n",
      "\n",
      "---- Working on (1, 0) connection-----\n",
      "    ---- Working on vertex group 0-----\n",
      "winning_vertex = [582849.78641165 863252.29831947 815396.16874456]\n",
      "MP_branches_with_stitch_point = [1, 2]\n",
      "Current stitch point was a branch or endpoint\n",
      "MAP_branches_with_stitch_point = [0]\n",
      "MAP_stitch_point_on_end_or_branch = True\n"
     ]
    },
    {
     "data": {
      "application/vnd.jupyter.widget-view+json": {
       "model_id": "52a6f21e44984cef891bb09a5542c170",
       "version_major": 2,
       "version_minor": 0
      },
      "text/plain": [
       "HBox(children=(FloatProgress(value=1.0, bar_style='info', layout=Layout(width='20px'), max=1.0), HTML(value=''…"
      ]
     },
     "metadata": {},
     "output_type": "display_data"
    },
    {
     "name": "stdout",
     "output_type": "stream",
     "text": [
      "\n",
      "\n",
      "\n",
      "--- Working on 1-to-1 correspondence-----\n",
      "max(original_labels),len(original_labels) = (2, 3)\n",
      "empty_indices % = 0.012560322601969988\n",
      " conflict_indices % = 0.02835988629602697\n"
     ]
    },
    {
     "data": {
      "application/vnd.jupyter.widget-view+json": {
       "model_id": "ea70b09522fa41879d02b83cb83c5fb8",
       "version_major": 2,
       "version_minor": 0
      },
      "text/plain": [
       "HBox(children=(FloatProgress(value=0.0, max=5.0), HTML(value='')))"
      ]
     },
     "metadata": {},
     "output_type": "display_data"
    },
    {
     "name": "stdout",
     "output_type": "stream",
     "text": [
      "\n",
      "AFTER face_lookup_resolved_test\n"
     ]
    },
    {
     "data": {
      "application/vnd.jupyter.widget-view+json": {
       "model_id": "53823dfbc7084512854283926b3075fb",
       "version_major": 2,
       "version_minor": 0
      },
      "text/plain": [
       "HBox(children=(FloatProgress(value=0.0, max=3.0), HTML(value='')))"
      ]
     },
     "metadata": {},
     "output_type": "display_data"
    },
    {
     "name": "stdout",
     "output_type": "stream",
     "text": [
      "\n",
      " Finished with (1, 0) vertex group 0 \n",
      "\n",
      "\n",
      "\n",
      "\n",
      "---- Working on (2, 0) connection-----\n",
      "    ---- Working on vertex group 0-----\n",
      "winning_vertex = [590229.11148509 864542.41406466 833906.46902734]\n",
      "MP_branches_with_stitch_point = [0, 3]\n",
      "Current stitch point was not a branch or endpoint, shortest_path_length to one = 1016.7899408993705\n",
      "MAP_branches_with_stitch_point = [1]\n",
      "MAP_stitch_point_on_end_or_branch = False\n"
     ]
    },
    {
     "data": {
      "application/vnd.jupyter.widget-view+json": {
       "model_id": "4594e70b8b2d4357a4d2c8594ce17433",
       "version_major": 2,
       "version_minor": 0
      },
      "text/plain": [
       "HBox(children=(FloatProgress(value=1.0, bar_style='info', layout=Layout(width='20px'), max=1.0), HTML(value=''…"
      ]
     },
     "metadata": {},
     "output_type": "display_data"
    },
    {
     "name": "stdout",
     "output_type": "stream",
     "text": [
      "\n",
      "\n",
      "\n",
      "--- Working on 1-to-1 correspondence-----\n",
      "max(original_labels),len(original_labels) = (3, 4)\n",
      "empty_indices % = 0.064670582226762\n",
      " conflict_indices % = 0.061095505617977525\n"
     ]
    },
    {
     "data": {
      "application/vnd.jupyter.widget-view+json": {
       "model_id": "92766641acf94760a05331755518b7d0",
       "version_major": 2,
       "version_minor": 0
      },
      "text/plain": [
       "HBox(children=(FloatProgress(value=0.0, max=8.0), HTML(value='')))"
      ]
     },
     "metadata": {},
     "output_type": "display_data"
    },
    {
     "name": "stdout",
     "output_type": "stream",
     "text": [
      "\n",
      "AFTER face_lookup_resolved_test\n"
     ]
    },
    {
     "data": {
      "application/vnd.jupyter.widget-view+json": {
       "model_id": "57d3c8f1e6344e41b6e1af39ec132416",
       "version_major": 2,
       "version_minor": 0
      },
      "text/plain": [
       "HBox(children=(FloatProgress(value=0.0, max=4.0), HTML(value='')))"
      ]
     },
     "metadata": {},
     "output_type": "display_data"
    },
    {
     "name": "stdout",
     "output_type": "stream",
     "text": [
      "\n",
      "Deleting branches from dictionary\n",
      " Finished with (2, 0) vertex group 0 \n",
      "\n",
      "\n",
      "\n",
      "\n",
      "---- Working on (3, 0) connection-----\n",
      "    ---- Working on vertex group 0-----\n",
      "winning_vertex = [591037.28333996 865061.74994926 816237.82925817]\n",
      "MP_branches_with_stitch_point = [0]\n",
      "Current stitch point was not a branch or endpoint, shortest_path_length to one = 6971.38890924452\n",
      "MAP_branches_with_stitch_point = [0]\n",
      "MAP_stitch_point_on_end_or_branch = False\n"
     ]
    },
    {
     "data": {
      "application/vnd.jupyter.widget-view+json": {
       "model_id": "c687fc44c0a84ca588b4449ba05f4fe5",
       "version_major": 2,
       "version_minor": 0
      },
      "text/plain": [
       "HBox(children=(FloatProgress(value=1.0, bar_style='info', layout=Layout(width='20px'), max=1.0), HTML(value=''…"
      ]
     },
     "metadata": {},
     "output_type": "display_data"
    },
    {
     "name": "stdout",
     "output_type": "stream",
     "text": [
      "\n",
      "\n",
      "\n",
      "--- Working on 1-to-1 correspondence-----\n",
      "max(original_labels),len(original_labels) = (2, 3)\n",
      "empty_indices % = 0.06702312857498134\n",
      " conflict_indices % = 0.03693111166376523\n"
     ]
    },
    {
     "data": {
      "application/vnd.jupyter.widget-view+json": {
       "model_id": "a7e12012152f4650a9f3c26b25fb7c6b",
       "version_major": 2,
       "version_minor": 0
      },
      "text/plain": [
       "HBox(children=(FloatProgress(value=0.0, max=5.0), HTML(value='')))"
      ]
     },
     "metadata": {},
     "output_type": "display_data"
    },
    {
     "name": "stdout",
     "output_type": "stream",
     "text": [
      "\n",
      "AFTER face_lookup_resolved_test\n"
     ]
    },
    {
     "data": {
      "application/vnd.jupyter.widget-view+json": {
       "model_id": "c407250858764813ae4915c8e8b9fa70",
       "version_major": 2,
       "version_minor": 0
      },
      "text/plain": [
       "HBox(children=(FloatProgress(value=0.0, max=3.0), HTML(value='')))"
      ]
     },
     "metadata": {},
     "output_type": "display_data"
    },
    {
     "name": "stdout",
     "output_type": "stream",
     "text": [
      "\n",
      "Deleting branches from dictionary\n",
      " Finished with (3, 0) vertex group 0 \n",
      "\n",
      "\n",
      "\n",
      "\n",
      "---- Working on (4, 0) connection-----\n",
      "    ---- Working on vertex group 0-----\n",
      "winning_vertex = [624230.37002145 884664.36886479 788993.00106597]\n",
      "MP_branches_with_stitch_point = [0, 1]\n",
      "Current stitch point was a branch or endpoint\n",
      "MAP_branches_with_stitch_point = [5]\n",
      "MAP_stitch_point_on_end_or_branch = True\n"
     ]
    },
    {
     "data": {
      "application/vnd.jupyter.widget-view+json": {
       "model_id": "12dab4e6c1474c5ea3fdb56edfc6f75e",
       "version_major": 2,
       "version_minor": 0
      },
      "text/plain": [
       "HBox(children=(FloatProgress(value=1.0, bar_style='info', layout=Layout(width='20px'), max=1.0), HTML(value=''…"
      ]
     },
     "metadata": {},
     "output_type": "display_data"
    },
    {
     "name": "stdout",
     "output_type": "stream",
     "text": [
      "\n",
      "\n",
      "\n",
      "--- Working on 1-to-1 correspondence-----\n",
      "max(original_labels),len(original_labels) = (2, 3)\n",
      "empty_indices % = 0.024501796798431886\n",
      " conflict_indices % = 0.006347132123022355\n"
     ]
    },
    {
     "data": {
      "application/vnd.jupyter.widget-view+json": {
       "model_id": "61acd69614a6403c93a4ae6b5f0f878e",
       "version_major": 2,
       "version_minor": 0
      },
      "text/plain": [
       "HBox(children=(FloatProgress(value=0.0, max=5.0), HTML(value='')))"
      ]
     },
     "metadata": {},
     "output_type": "display_data"
    },
    {
     "name": "stdout",
     "output_type": "stream",
     "text": [
      "\n",
      "AFTER face_lookup_resolved_test\n"
     ]
    },
    {
     "data": {
      "application/vnd.jupyter.widget-view+json": {
       "model_id": "1868ba4bb91e4ae899f31f683a4dff40",
       "version_major": 2,
       "version_minor": 0
      },
      "text/plain": [
       "HBox(children=(FloatProgress(value=0.0, max=3.0), HTML(value='')))"
      ]
     },
     "metadata": {},
     "output_type": "display_data"
    },
    {
     "name": "stdout",
     "output_type": "stream",
     "text": [
      "\n",
      " Finished with (4, 0) vertex group 0 \n",
      "\n",
      "\n",
      "\n",
      "\n",
      "---- Working on (5, 0) connection-----\n",
      "    ---- Working on vertex group 0-----\n",
      "winning_vertex = [607929.12977842 872984.37507435 816349.59063535]\n",
      "MP_branches_with_stitch_point = [2]\n",
      "Current stitch point was not a branch or endpoint, shortest_path_length to one = 18576.8115870224\n",
      "MAP_branches_with_stitch_point = [5]\n",
      "MAP_stitch_point_on_end_or_branch = False\n"
     ]
    },
    {
     "data": {
      "application/vnd.jupyter.widget-view+json": {
       "model_id": "2a9182ac733346c39b4b627c1b42e05d",
       "version_major": 2,
       "version_minor": 0
      },
      "text/plain": [
       "HBox(children=(FloatProgress(value=1.0, bar_style='info', layout=Layout(width='20px'), max=1.0), HTML(value=''…"
      ]
     },
     "metadata": {},
     "output_type": "display_data"
    },
    {
     "name": "stdout",
     "output_type": "stream",
     "text": [
      "\n",
      "\n",
      "\n",
      "--- Working on 1-to-1 correspondence-----\n",
      "max(original_labels),len(original_labels) = (2, 3)\n",
      "empty_indices % = 0.0035026269702276708\n",
      " conflict_indices % = 0.013169877408056042\n"
     ]
    },
    {
     "data": {
      "application/vnd.jupyter.widget-view+json": {
       "model_id": "91bf71d3c2a84b19b34a2550008a74fa",
       "version_major": 2,
       "version_minor": 0
      },
      "text/plain": [
       "HBox(children=(FloatProgress(value=0.0, max=5.0), HTML(value='')))"
      ]
     },
     "metadata": {},
     "output_type": "display_data"
    },
    {
     "name": "stdout",
     "output_type": "stream",
     "text": [
      "\n",
      "AFTER face_lookup_resolved_test\n"
     ]
    },
    {
     "data": {
      "application/vnd.jupyter.widget-view+json": {
       "model_id": "064397a718384f6898e054652d46a18c",
       "version_major": 2,
       "version_minor": 0
      },
      "text/plain": [
       "HBox(children=(FloatProgress(value=0.0, max=3.0), HTML(value='')))"
      ]
     },
     "metadata": {},
     "output_type": "display_data"
    },
    {
     "name": "stdout",
     "output_type": "stream",
     "text": [
      "\n",
      "Deleting branches from dictionary\n",
      " Finished with (5, 0) vertex group 0 \n",
      "\n",
      "\n",
      "\n",
      "\n",
      "---- Working on (6, 0) connection-----\n",
      "    ---- Working on vertex group 0-----\n",
      "winning_vertex = [599582.04088846 864993.11062389 819107.57061522]\n",
      "MP_branches_with_stitch_point = [0]\n",
      "Current stitch point was not a branch or endpoint, shortest_path_length to one = 6363.393190848015\n",
      "MAP_branches_with_stitch_point = [5]\n",
      "MAP_stitch_point_on_end_or_branch = False\n"
     ]
    },
    {
     "data": {
      "application/vnd.jupyter.widget-view+json": {
       "model_id": "dcfc9c50d63042038c2da400520781f3",
       "version_major": 2,
       "version_minor": 0
      },
      "text/plain": [
       "HBox(children=(FloatProgress(value=1.0, bar_style='info', layout=Layout(width='20px'), max=1.0), HTML(value=''…"
      ]
     },
     "metadata": {},
     "output_type": "display_data"
    },
    {
     "name": "stdout",
     "output_type": "stream",
     "text": [
      "\n",
      "\n",
      "\n",
      "--- Working on 1-to-1 correspondence-----\n",
      "max(original_labels),len(original_labels) = (2, 3)\n",
      "empty_indices % = 0.06154120585087406\n",
      " conflict_indices % = 0.04174099179450589\n"
     ]
    },
    {
     "data": {
      "application/vnd.jupyter.widget-view+json": {
       "model_id": "2fb5ac8d03eb4e5dadc8782d25505fa0",
       "version_major": 2,
       "version_minor": 0
      },
      "text/plain": [
       "HBox(children=(FloatProgress(value=0.0, max=4.0), HTML(value='')))"
      ]
     },
     "metadata": {},
     "output_type": "display_data"
    },
    {
     "name": "stdout",
     "output_type": "stream",
     "text": [
      "\n",
      "AFTER face_lookup_resolved_test\n"
     ]
    },
    {
     "data": {
      "application/vnd.jupyter.widget-view+json": {
       "model_id": "9f344cee933c40ac974942345eed0080",
       "version_major": 2,
       "version_minor": 0
      },
      "text/plain": [
       "HBox(children=(FloatProgress(value=0.0, max=3.0), HTML(value='')))"
      ]
     },
     "metadata": {},
     "output_type": "display_data"
    },
    {
     "name": "stdout",
     "output_type": "stream",
     "text": [
      "\n",
      "Deleting branches from dictionary\n",
      " Finished with (6, 0) vertex group 0 \n",
      "\n",
      "\n",
      "\n",
      "Time for decomp of Limb 1 = 50.31799125671387\n",
      "\n",
      "\n",
      "----- Working on Proper Limb #2 ---------\n",
      "Time for preparing soma vertices and root: 0.00029659271240234375\n",
      "smooth_neighborhood = 1\n"
     ]
    },
    {
     "name": "stderr",
     "output_type": "stream",
     "text": [
      "\r",
      "  0%|          | 0/1 [00:00<?, ?it/s]"
     ]
    },
    {
     "data": {
      "application/vnd.jupyter.widget-view+json": {
       "model_id": "21e4b3b04bb245f98a933f642af98b93",
       "version_major": 2,
       "version_minor": 0
      },
      "text/plain": [
       "HBox(children=(FloatProgress(value=0.0, max=125942.0), HTML(value='')))"
      ]
     },
     "metadata": {},
     "output_type": "display_data"
    },
    {
     "name": "stderr",
     "output_type": "stream",
     "text": [
      "100%|██████████| 1/1 [00:01<00:00,  1.51s/it]"
     ]
    },
    {
     "name": "stdout",
     "output_type": "stream",
     "text": [
      "\n"
     ]
    },
    {
     "name": "stderr",
     "output_type": "stream",
     "text": [
      "\n"
     ]
    },
    {
     "name": "stdout",
     "output_type": "stream",
     "text": [
      "Time for 1st pass MP skeletonization: 2.5948476791381836\n",
      "branches_touching_root = [28]\n",
      "empty_indices % = 0.0\n",
      " conflict_indices % = 0.0049625028828642545\n"
     ]
    },
    {
     "data": {
      "application/vnd.jupyter.widget-view+json": {
       "model_id": "fdc0bd12a40c4cc68f5154d1e5c6f6e4",
       "version_major": 2,
       "version_minor": 0
      },
      "text/plain": [
       "HBox(children=(FloatProgress(value=0.0, max=12.0), HTML(value='')))"
      ]
     },
     "metadata": {},
     "output_type": "display_data"
    },
    {
     "name": "stdout",
     "output_type": "stream",
     "text": [
      "\n",
      "AFTER face_lookup_resolved_test\n"
     ]
    },
    {
     "data": {
      "application/vnd.jupyter.widget-view+json": {
       "model_id": "d3b2ff34b9ef41bda918cea00693e40b",
       "version_major": 2,
       "version_minor": 0
      },
      "text/plain": [
       "HBox(children=(FloatProgress(value=0.0, max=29.0), HTML(value='')))"
      ]
     },
     "metadata": {},
     "output_type": "display_data"
    },
    {
     "name": "stdout",
     "output_type": "stream",
     "text": [
      "\n",
      "Decomposing first pass: 4.379691123962402\n",
      "Found len(mesh_large_idx) MAP candidates: [66826, 735, 29356, 6054, 4087, 7281, 1645, 46085, 3147, 5234, 4384, 1699, 8508, 10244, 9522, 2515, 6128]\n",
      "mesh_large_connectivity: 0.4210805892944336\n",
      "Finding MAP candidates connected components: 0.00022649765014648438\n",
      "len(filtered_pieces) = 1\n",
      "skeleton_connectivity_MP : 0.17116618156433105\n",
      "Grouping MP Sublimbs by Graph: 0.024849653244018555\n",
      "Divinding into MP and MAP pieces: 1.9073486328125e-06\n",
      "--- Working on MAP piece 0---\n",
      "MAP Filtering Soma Pieces: 0.013453006744384766\n",
      "     Starting Screened Poisson\n",
      "xvfb-run -n 6700 -s \"-screen 0 800x600x24\" meshlabserver $@  -i /notebooks/Platinum_Decomp_Fusion/temp/None.off -o /notebooks/Platinum_Decomp_Fusion/temp/None_poisson.off -s /notebooks/Platinum_Decomp_Fusion/temp/poisson_837835.mls\n",
      "removed temporary input file: /notebooks/Platinum_Decomp_Fusion/temp/None.off\n",
      "removed temporary output file: /notebooks/Platinum_Decomp_Fusion/temp/None_poisson.off\n",
      "Using the close holes feature\n",
      "xvfb-run -n 2854 -s \"-screen 0 800x600x24\" meshlabserver $@  -i /notebooks/Platinum_Decomp_Fusion/temp/neuron_42335.off -o /notebooks/Platinum_Decomp_Fusion/temp/neuron_42335_fill_holes.off -s /notebooks/Platinum_Decomp_Fusion/temp/fill_holes_831169.mls\n",
      "removed temporary input file: /notebooks/Platinum_Decomp_Fusion/temp/neuron_42335.off\n",
      "removed temporary output file: /notebooks/Platinum_Decomp_Fusion/temp/neuron_42335_fill_holes.off\n",
      "-----Time for Screened Poisson= 51.622026205062866\n",
      "     Starting Calcification\n",
      "Before mesh subtraction number of skeleton edges = 2298\n",
      "Inside mesh subtraction, len(main_mesh_bbox_restricted.faces) = 213450\n"
     ]
    },
    {
     "data": {
      "application/vnd.jupyter.widget-view+json": {
       "model_id": "160f71e7db494376b2314fbf085de6a4",
       "version_major": 2,
       "version_minor": 0
      },
      "text/plain": [
       "HBox(children=(FloatProgress(value=1.0, bar_style='info', layout=Layout(width='20px'), max=1.0), HTML(value=''…"
      ]
     },
     "metadata": {},
     "output_type": "display_data"
    },
    {
     "name": "stderr",
     "output_type": "stream",
     "text": [
      "WARNING:trimesh:face_normals all zero, ignoring!\n"
     ]
    },
    {
     "name": "stdout",
     "output_type": "stream",
     "text": [
      "\n",
      "Total Mesh subtraction time = 41.3766\n"
     ]
    },
    {
     "data": {
      "application/vnd.jupyter.widget-view+json": {
       "model_id": "cd829e82ba864b4a8475f5bd4e920846",
       "version_major": 2,
       "version_minor": 0
      },
      "text/plain": [
       "HBox(children=(FloatProgress(value=0.0, max=41.0), HTML(value='')))"
      ]
     },
     "metadata": {},
     "output_type": "display_data"
    },
    {
     "name": "stdout",
     "output_type": "stream",
     "text": [
      "\n",
      "len_subgraphs AT BEGINNING of the loop\n"
     ]
    },
    {
     "data": {
      "application/vnd.jupyter.widget-view+json": {
       "model_id": "d1aa68131fc8496a8f0b4c86ecb0c56e",
       "version_major": 2,
       "version_minor": 0
      },
      "text/plain": [
       "HBox(children=(FloatProgress(value=0.0, max=400.0), HTML(value='')))"
      ]
     },
     "metadata": {},
     "output_type": "display_data"
    },
    {
     "name": "stdout",
     "output_type": "stream",
     "text": [
      "all graph is one component!\n",
      "\n",
      "Total time for skeleton stitching = 0.5458984375\n",
      "The process was using a temp folder\n",
      "    Total time for skeletonizing branch: 113.9168210029602\n",
      "skipping soma 0 because closest skeleton node was already end node\n",
      "skipping soma 1 because closest skeleton node was already end node\n",
      "    Total time for Fixing Skeleton Soma Endpoint Extension : 16.1279194355011\n",
      "filter_end_node_length = 4001\n",
      "Using Distance measure skeletal_distance\n",
      "Going to ignore certain endnodes that are 5000 nm close to soma border vertices\n",
      "Number of end_nodes BEFORE filtering = 400\n",
      "Using an already specified end node: 0 with index 0checking was correct node end_nodes[index] = 0\n",
      "May Eliminate end_node 0: 0 because path_len to soma border was 766.1930598689104\n",
      "single_node_to_eliminate = 0\n",
      "Using an already specified end node: 2809 with index 396checking was correct node end_nodes[index] = 2809\n",
      "May Eliminate end_node 396: 2809 because path_len to soma border was 235.77862498535583\n",
      "single_node_to_eliminate = 396\n",
      "all_single_nodes_to_eliminate = [0, 0, 396, 396]\n"
     ]
    },
    {
     "data": {
      "application/vnd.jupyter.widget-view+json": {
       "model_id": "756b9f44a5a44faa950bcfd5f6cac399",
       "version_major": 2,
       "version_minor": 0
      },
      "text/plain": [
       "HBox(children=(FloatProgress(value=0.0, max=391.0), HTML(value='')))"
      ]
     },
     "metadata": {},
     "output_type": "display_data"
    },
    {
     "name": "stdout",
     "output_type": "stream",
     "text": [
      "\n",
      "********COMBINING CLOSE SKELETON NODES WITHIN 700 DISTANCE**********\n",
      "Found 1 valid paths to replace\n",
      "valid_paths = [array([26., 27.])]\n",
      "valid_path_lengths = [530.439440464225]\n",
      "endpoint_neighbors = [25 26 27 28 29 30]\n",
      "Concatenating all paths and deleting: [26. 27.]\n",
      "skeletonize_and_clean_connected_branch_CGAL: 157.39202308654785\n",
      "Working on limb correspondence for #0 MAP piece\n"
     ]
    },
    {
     "data": {
      "application/vnd.jupyter.widget-view+json": {
       "model_id": "b289e90102774d44a40a7be0c339d904",
       "version_major": 2,
       "version_minor": 0
      },
      "text/plain": [
       "HBox(children=(FloatProgress(value=1.0, bar_style='info', layout=Layout(width='20px'), max=1.0), HTML(value=''…"
      ]
     },
     "metadata": {},
     "output_type": "display_data"
    },
    {
     "name": "stdout",
     "output_type": "stream",
     "text": [
      "\n",
      "Total time for decomposition = 38.27035045623779\n",
      "mesh_correspondence_first_pass: 38.270392179489136\n",
      "Limb decomposed into 38 branches\n",
      "divided_skeleton_graph_recovered = (1747, 2, 3) and \n",
      "current_mesh_data[0]['branch_skeletons_cleaned'].shape = (1747, 2, 3)\n",
      "\n",
      "Number of connected components in deocmposed recovered graph = 1\n",
      "Number of connected components in cleaned skeleton graph= 1\n",
      "**** Warning: There were redundant edges in the skeleton*****\n",
      "The downsampled branches number of connected components = 1\n",
      "Empty submeshes = []\n",
      "\n",
      "\n",
      "--- Working on 1-to-1 correspondence-----\n",
      "max(original_labels),len(original_labels) = (37, 38)\n",
      "empty_indices % = 0.056865776528461\n",
      " conflict_indices % = 0.03746544858280628\n"
     ]
    },
    {
     "data": {
      "application/vnd.jupyter.widget-view+json": {
       "model_id": "ba72996534ed4e9d888264f7aa0e88d0",
       "version_major": 2,
       "version_minor": 0
      },
      "text/plain": [
       "HBox(children=(FloatProgress(value=0.0, max=128.0), HTML(value='')))"
      ]
     },
     "metadata": {},
     "output_type": "display_data"
    },
    {
     "name": "stdout",
     "output_type": "stream",
     "text": [
      "\n",
      "AFTER face_lookup_resolved_test\n",
      "Took 0 iterations to expand the label back\n",
      "Took 0 iterations to expand the label back\n"
     ]
    },
    {
     "data": {
      "application/vnd.jupyter.widget-view+json": {
       "model_id": "53fa3f0ae6354909a11672f375a2995e",
       "version_major": 2,
       "version_minor": 0
      },
      "text/plain": [
       "HBox(children=(FloatProgress(value=0.0, max=38.0), HTML(value='')))"
      ]
     },
     "metadata": {},
     "output_type": "display_data"
    },
    {
     "name": "stdout",
     "output_type": "stream",
     "text": [
      "\n",
      "Total time for MAP sublimb #0 mesh processing = 204.47743916511536\n",
      "correspondence_1_to_1: 8.801555871963501\n",
      "Total time for MAP sublimb processing 204.47757744789124\n",
      "***************Arrived at MESH PIECES FOR MAP AND mp***************\n",
      "---- Working on MP Decomposition #0 ----\n",
      "MP filtering soma verts: 0.00398564338684082\n",
      "Do Not Need to Fix MP Decomposition 0 so just continuing\n",
      "---- Working on MP Decomposition #1 ----\n",
      "MP filtering soma verts: 0.00030422210693359375\n",
      "Do Not Need to Fix MP Decomposition 1 so just continuing\n",
      "---- Working on MP Decomposition #2 ----\n",
      "MP filtering soma verts: 0.00024127960205078125\n",
      "Do Not Need to Fix MP Decomposition 2 so just continuing\n",
      "---- Working on MP Decomposition #3 ----\n",
      "MP filtering soma verts: 0.0010933876037597656\n",
      "Do Not Need to Fix MP Decomposition 3 so just continuing\n",
      "---- Working on MP Decomposition #4 ----\n",
      "MP filtering soma verts: 0.002933025360107422\n",
      "Do Not Need to Fix MP Decomposition 4 so just continuing\n",
      "---- Working on MP Decomposition #5 ----\n",
      "MP filtering soma verts: 0.0006551742553710938\n",
      "Do Not Need to Fix MP Decomposition 5 so just continuing\n",
      "\n",
      "---- Working on (0, 0) connection-----\n",
      "    ---- Working on vertex group 0-----\n",
      "winning_vertex = [533400.43447339 933771.13798149 889650.56557281]\n",
      "MP_branches_with_stitch_point = [0]\n",
      "Current stitch point was not a branch or endpoint, shortest_path_length to one = 33248.49005131755\n",
      "MAP_branches_with_stitch_point = [30]\n",
      "MAP_stitch_point_on_end_or_branch = False\n"
     ]
    },
    {
     "data": {
      "application/vnd.jupyter.widget-view+json": {
       "model_id": "543db298106a4f8583176dc0e41e2a9b",
       "version_major": 2,
       "version_minor": 0
      },
      "text/plain": [
       "HBox(children=(FloatProgress(value=1.0, bar_style='info', layout=Layout(width='20px'), max=1.0), HTML(value=''…"
      ]
     },
     "metadata": {},
     "output_type": "display_data"
    },
    {
     "name": "stdout",
     "output_type": "stream",
     "text": [
      "\n",
      "\n",
      "\n",
      "--- Working on 1-to-1 correspondence-----\n",
      "max(original_labels),len(original_labels) = (2, 3)\n",
      "empty_indices % = 0.08548090197883111\n",
      " conflict_indices % = 0.0047169811320754715\n"
     ]
    },
    {
     "data": {
      "application/vnd.jupyter.widget-view+json": {
       "model_id": "3a6862fe145b48e9bb2b4c90e79fdf9d",
       "version_major": 2,
       "version_minor": 0
      },
      "text/plain": [
       "HBox(children=(FloatProgress(value=0.0, max=14.0), HTML(value='')))"
      ]
     },
     "metadata": {},
     "output_type": "display_data"
    },
    {
     "name": "stdout",
     "output_type": "stream",
     "text": [
      "\n",
      "AFTER face_lookup_resolved_test\n"
     ]
    },
    {
     "data": {
      "application/vnd.jupyter.widget-view+json": {
       "model_id": "3de09df263d44e929a81c25b199c62c2",
       "version_major": 2,
       "version_minor": 0
      },
      "text/plain": [
       "HBox(children=(FloatProgress(value=0.0, max=3.0), HTML(value='')))"
      ]
     },
     "metadata": {},
     "output_type": "display_data"
    },
    {
     "name": "stdout",
     "output_type": "stream",
     "text": [
      "\n",
      "Deleting branches from dictionary\n",
      " Finished with (0, 0) vertex group 0 \n",
      "\n",
      "\n",
      "\n",
      "\n",
      "---- Working on (1, 0) connection-----\n",
      "    ---- Working on vertex group 0-----\n",
      "winning_vertex = [536695.33468773 919597.63527823 844916.61502423]\n",
      "MP_branches_with_stitch_point = [0]\n",
      "Current stitch point was not a branch or endpoint, shortest_path_length to one = 3534.7903509166795\n",
      "MAP_branches_with_stitch_point = [34]\n",
      "MAP_stitch_point_on_end_or_branch = False\n"
     ]
    },
    {
     "data": {
      "application/vnd.jupyter.widget-view+json": {
       "model_id": "ef684c0ac43949d198503afbdd7b7b26",
       "version_major": 2,
       "version_minor": 0
      },
      "text/plain": [
       "HBox(children=(FloatProgress(value=1.0, bar_style='info', layout=Layout(width='20px'), max=1.0), HTML(value=''…"
      ]
     },
     "metadata": {},
     "output_type": "display_data"
    },
    {
     "name": "stdout",
     "output_type": "stream",
     "text": [
      "\n",
      "\n",
      "\n",
      "--- Working on 1-to-1 correspondence-----\n",
      "max(original_labels),len(original_labels) = (2, 3)\n",
      "empty_indices % = 0.006379406827084499\n",
      " conflict_indices % = 0.004476776720761052\n"
     ]
    },
    {
     "data": {
      "application/vnd.jupyter.widget-view+json": {
       "model_id": "841ad2932cd54c11b08b6bce507be3cd",
       "version_major": 2,
       "version_minor": 0
      },
      "text/plain": [
       "HBox(children=(FloatProgress(value=0.0, max=4.0), HTML(value='')))"
      ]
     },
     "metadata": {},
     "output_type": "display_data"
    },
    {
     "name": "stdout",
     "output_type": "stream",
     "text": [
      "\n",
      "AFTER face_lookup_resolved_test\n"
     ]
    },
    {
     "data": {
      "application/vnd.jupyter.widget-view+json": {
       "model_id": "68bf74f07653498da3791b8b132acae7",
       "version_major": 2,
       "version_minor": 0
      },
      "text/plain": [
       "HBox(children=(FloatProgress(value=0.0, max=3.0), HTML(value='')))"
      ]
     },
     "metadata": {},
     "output_type": "display_data"
    },
    {
     "name": "stdout",
     "output_type": "stream",
     "text": [
      "\n",
      "Deleting branches from dictionary\n",
      " Finished with (1, 0) vertex group 0 \n",
      "\n",
      "\n",
      "\n",
      "\n",
      "---- Working on (2, 0) connection-----\n",
      "    ---- Working on vertex group 0-----\n",
      "winning_vertex = [511330.97999853 788466.77912894 843288.85632196]\n",
      "MP_branches_with_stitch_point = [0]\n",
      "Current stitch point was not a branch or endpoint, shortest_path_length to one = 7482.81834100281\n",
      "MAP_branches_with_stitch_point = [10]\n",
      "MAP_stitch_point_on_end_or_branch = False\n"
     ]
    },
    {
     "data": {
      "application/vnd.jupyter.widget-view+json": {
       "model_id": "d36c81d0ca8d4c9fa903d08a9618ed01",
       "version_major": 2,
       "version_minor": 0
      },
      "text/plain": [
       "HBox(children=(FloatProgress(value=1.0, bar_style='info', layout=Layout(width='20px'), max=1.0), HTML(value=''…"
      ]
     },
     "metadata": {},
     "output_type": "display_data"
    },
    {
     "name": "stdout",
     "output_type": "stream",
     "text": [
      "\n",
      "\n",
      "\n",
      "--- Working on 1-to-1 correspondence-----\n",
      "max(original_labels),len(original_labels) = (2, 3)\n",
      "empty_indices % = 0.11326479015675038\n",
      " conflict_indices % = 0.017697623461992246\n"
     ]
    },
    {
     "data": {
      "application/vnd.jupyter.widget-view+json": {
       "model_id": "6060e0a1da5b416b999f1d98f6a4c5e0",
       "version_major": 2,
       "version_minor": 0
      },
      "text/plain": [
       "HBox(children=(FloatProgress(value=0.0, max=5.0), HTML(value='')))"
      ]
     },
     "metadata": {},
     "output_type": "display_data"
    },
    {
     "name": "stdout",
     "output_type": "stream",
     "text": [
      "\n",
      "AFTER face_lookup_resolved_test\n"
     ]
    },
    {
     "data": {
      "application/vnd.jupyter.widget-view+json": {
       "model_id": "58222e8a92284734b29b877e31c864f0",
       "version_major": 2,
       "version_minor": 0
      },
      "text/plain": [
       "HBox(children=(FloatProgress(value=0.0, max=3.0), HTML(value='')))"
      ]
     },
     "metadata": {},
     "output_type": "display_data"
    },
    {
     "name": "stdout",
     "output_type": "stream",
     "text": [
      "\n",
      "Deleting branches from dictionary\n",
      " Finished with (2, 0) vertex group 0 \n",
      "\n",
      "\n",
      "\n",
      "\n",
      "---- Working on (3, 0) connection-----\n",
      "    ---- Working on vertex group 0-----\n",
      "winning_vertex = [510639.55542624 919331.90248487 857632.25883053]\n",
      "MP_branches_with_stitch_point = [0, 1]\n",
      "Current stitch point was a branch or endpoint\n",
      "MAP_branches_with_stitch_point = [14]\n",
      "MAP_stitch_point_on_end_or_branch = True\n"
     ]
    },
    {
     "data": {
      "application/vnd.jupyter.widget-view+json": {
       "model_id": "f35003a1d7164dd08cdad1296a700eb4",
       "version_major": 2,
       "version_minor": 0
      },
      "text/plain": [
       "HBox(children=(FloatProgress(value=1.0, bar_style='info', layout=Layout(width='20px'), max=1.0), HTML(value=''…"
      ]
     },
     "metadata": {},
     "output_type": "display_data"
    },
    {
     "name": "stderr",
     "output_type": "stream",
     "text": [
      "WARNING:trimesh:face_normals all zero, ignoring!\n"
     ]
    },
    {
     "name": "stdout",
     "output_type": "stream",
     "text": [
      "\n",
      "\n",
      "\n",
      "--- Working on 1-to-1 correspondence-----\n",
      "max(original_labels),len(original_labels) = (2, 3)\n",
      "empty_indices % = 0.02527102256079695\n",
      " conflict_indices % = 0.004614708467623792\n"
     ]
    },
    {
     "data": {
      "application/vnd.jupyter.widget-view+json": {
       "model_id": "67a9667399a748978ba1b6ead32beeed",
       "version_major": 2,
       "version_minor": 0
      },
      "text/plain": [
       "HBox(children=(FloatProgress(value=0.0, max=4.0), HTML(value='')))"
      ]
     },
     "metadata": {},
     "output_type": "display_data"
    },
    {
     "name": "stdout",
     "output_type": "stream",
     "text": [
      "\n",
      "AFTER face_lookup_resolved_test\n"
     ]
    },
    {
     "data": {
      "application/vnd.jupyter.widget-view+json": {
       "model_id": "2ec3663663b544e2a675692284acc3b8",
       "version_major": 2,
       "version_minor": 0
      },
      "text/plain": [
       "HBox(children=(FloatProgress(value=0.0, max=3.0), HTML(value='')))"
      ]
     },
     "metadata": {},
     "output_type": "display_data"
    },
    {
     "name": "stdout",
     "output_type": "stream",
     "text": [
      "\n",
      " Finished with (3, 0) vertex group 0 \n",
      "\n",
      "\n",
      "\n",
      "\n",
      "---- Working on (4, 0) connection-----\n",
      "    ---- Working on vertex group 0-----\n",
      "winning_vertex = [568118.66098506 884546.59685296 852538.56727646]\n",
      "MP_branches_with_stitch_point = [0, 1]\n",
      "Current stitch point was a branch or endpoint\n",
      "MAP_branches_with_stitch_point = [36]\n",
      "MAP_stitch_point_on_end_or_branch = True\n"
     ]
    },
    {
     "data": {
      "application/vnd.jupyter.widget-view+json": {
       "model_id": "1fc294f8ad3149c39972eabb62c7607c",
       "version_major": 2,
       "version_minor": 0
      },
      "text/plain": [
       "HBox(children=(FloatProgress(value=1.0, bar_style='info', layout=Layout(width='20px'), max=1.0), HTML(value=''…"
      ]
     },
     "metadata": {},
     "output_type": "display_data"
    },
    {
     "name": "stdout",
     "output_type": "stream",
     "text": [
      "\n",
      "\n",
      "\n",
      "--- Working on 1-to-1 correspondence-----\n",
      "max(original_labels),len(original_labels) = (2, 3)\n",
      "empty_indices % = 0.02287888963510186\n",
      " conflict_indices % = 0.006715916722632639\n"
     ]
    },
    {
     "data": {
      "application/vnd.jupyter.widget-view+json": {
       "model_id": "186ec36430374a7bb0d67b5e60c54e34",
       "version_major": 2,
       "version_minor": 0
      },
      "text/plain": [
       "HBox(children=(FloatProgress(value=0.0, max=10.0), HTML(value='')))"
      ]
     },
     "metadata": {},
     "output_type": "display_data"
    },
    {
     "name": "stdout",
     "output_type": "stream",
     "text": [
      "\n",
      "AFTER face_lookup_resolved_test\n"
     ]
    },
    {
     "data": {
      "application/vnd.jupyter.widget-view+json": {
       "model_id": "1155cc9cc6b442e9a99f42b3b55dd754",
       "version_major": 2,
       "version_minor": 0
      },
      "text/plain": [
       "HBox(children=(FloatProgress(value=0.0, max=3.0), HTML(value='')))"
      ]
     },
     "metadata": {},
     "output_type": "display_data"
    },
    {
     "name": "stdout",
     "output_type": "stream",
     "text": [
      "\n",
      " Finished with (4, 0) vertex group 0 \n",
      "\n",
      "\n",
      "\n",
      "\n",
      "---- Working on (5, 0) connection-----\n",
      "    ---- Working on vertex group 0-----\n",
      "winning_vertex = [534946.90101132 784722.74894193 852092.77770538]\n",
      "MP_branches_with_stitch_point = [2]\n",
      "Current stitch point was not a branch or endpoint, shortest_path_length to one = 346.2101794660226\n",
      "Changing the stitch point becasue the distance to end or branch node was 346.2101794660226\n",
      "New stitch point has degree 3\n",
      "MAP_branches_with_stitch_point = [13, 31, 35]\n",
      "MAP_stitch_point_on_end_or_branch = True\n"
     ]
    },
    {
     "data": {
      "application/vnd.jupyter.widget-view+json": {
       "model_id": "33dec097c0df4596865b21031f59120c",
       "version_major": 2,
       "version_minor": 0
      },
      "text/plain": [
       "HBox(children=(FloatProgress(value=1.0, bar_style='info', layout=Layout(width='20px'), max=1.0), HTML(value=''…"
      ]
     },
     "metadata": {},
     "output_type": "display_data"
    },
    {
     "name": "stdout",
     "output_type": "stream",
     "text": [
      "\n",
      "\n",
      "\n",
      "--- Working on 1-to-1 correspondence-----\n",
      "max(original_labels),len(original_labels) = (3, 4)\n",
      "empty_indices % = 0.08079306071871127\n",
      " conflict_indices % = 0.01571251548946716\n"
     ]
    },
    {
     "data": {
      "application/vnd.jupyter.widget-view+json": {
       "model_id": "77f6469764c149699f8f94c3ee0aef1a",
       "version_major": 2,
       "version_minor": 0
      },
      "text/plain": [
       "HBox(children=(FloatProgress(value=0.0, max=10.0), HTML(value='')))"
      ]
     },
     "metadata": {},
     "output_type": "display_data"
    },
    {
     "name": "stdout",
     "output_type": "stream",
     "text": [
      "\n",
      "AFTER face_lookup_resolved_test\n"
     ]
    },
    {
     "data": {
      "application/vnd.jupyter.widget-view+json": {
       "model_id": "bfe6af8c224a4b2197e4366f428d97eb",
       "version_major": 2,
       "version_minor": 0
      },
      "text/plain": [
       "HBox(children=(FloatProgress(value=0.0, max=4.0), HTML(value='')))"
      ]
     },
     "metadata": {},
     "output_type": "display_data"
    },
    {
     "name": "stderr",
     "output_type": "stream",
     "text": [
      "\r",
      "  0%|          | 0/1 [00:00<?, ?it/s]"
     ]
    },
    {
     "name": "stdout",
     "output_type": "stream",
     "text": [
      "\n",
      " Finished with (5, 0) vertex group 0 \n",
      "\n",
      "\n",
      "\n",
      "Time for decomp of Limb 2 = 227.43286633491516\n",
      "\n",
      "\n",
      "----- Working on Proper Limb #3 ---------\n",
      "Time for preparing soma vertices and root: 0.0002949237823486328\n",
      "smooth_neighborhood = 1\n"
     ]
    },
    {
     "data": {
      "application/vnd.jupyter.widget-view+json": {
       "model_id": "260e2d8b0bf941efafa393efa34803a1",
       "version_major": 2,
       "version_minor": 0
      },
      "text/plain": [
       "HBox(children=(FloatProgress(value=0.0, max=82226.0), HTML(value='')))"
      ]
     },
     "metadata": {},
     "output_type": "display_data"
    },
    {
     "name": "stderr",
     "output_type": "stream",
     "text": [
      "100%|██████████| 1/1 [00:00<00:00,  2.11it/s]"
     ]
    },
    {
     "name": "stdout",
     "output_type": "stream",
     "text": [
      "\n"
     ]
    },
    {
     "name": "stderr",
     "output_type": "stream",
     "text": [
      "\n"
     ]
    },
    {
     "name": "stdout",
     "output_type": "stream",
     "text": [
      "Time for 1st pass MP skeletonization: 1.208383321762085\n",
      "branches_touching_root = [6]\n",
      "empty_indices % = 0.0\n",
      " conflict_indices % = 0.0013843573715505413\n"
     ]
    },
    {
     "data": {
      "application/vnd.jupyter.widget-view+json": {
       "model_id": "e94b2a2929424b0ba0dee91213a24ed4",
       "version_major": 2,
       "version_minor": 0
      },
      "text/plain": [
       "HBox(children=(FloatProgress(value=0.0, max=3.0), HTML(value='')))"
      ]
     },
     "metadata": {},
     "output_type": "display_data"
    },
    {
     "name": "stdout",
     "output_type": "stream",
     "text": [
      "\n",
      "AFTER face_lookup_resolved_test\n"
     ]
    },
    {
     "data": {
      "application/vnd.jupyter.widget-view+json": {
       "model_id": "f33849e34f3b46f1919340e3aa79ca92",
       "version_major": 2,
       "version_minor": 0
      },
      "text/plain": [
       "HBox(children=(FloatProgress(value=0.0, max=7.0), HTML(value='')))"
      ]
     },
     "metadata": {},
     "output_type": "display_data"
    },
    {
     "name": "stdout",
     "output_type": "stream",
     "text": [
      "\n",
      "Decomposing first pass: 3.035367250442505\n",
      "Found len(mesh_large_idx) MAP candidates: [31646, 1742, 70704, 36366, 3229]\n",
      "mesh_large_connectivity: 0.07535123825073242\n",
      "Finding MAP candidates connected components: 0.00013947486877441406\n",
      "len(filtered_pieces) = 1\n",
      "skeleton_connectivity_MP : 0.0775003433227539\n",
      "Grouping MP Sublimbs by Graph: 0.010670185089111328\n",
      "Divinding into MP and MAP pieces: 2.384185791015625e-06\n",
      "--- Working on MAP piece 0---\n",
      "MAP Filtering Soma Pieces: 0.009316444396972656\n",
      "     Starting Screened Poisson\n",
      "xvfb-run -n 497 -s \"-screen 0 800x600x24\" meshlabserver $@  -i /notebooks/Platinum_Decomp_Fusion/temp/None.off -o /notebooks/Platinum_Decomp_Fusion/temp/None_poisson.off -s /notebooks/Platinum_Decomp_Fusion/temp/poisson_996523.mls\n",
      "removed temporary input file: /notebooks/Platinum_Decomp_Fusion/temp/None.off\n",
      "removed temporary output file: /notebooks/Platinum_Decomp_Fusion/temp/None_poisson.off\n",
      "Using the close holes feature\n",
      "xvfb-run -n 2326 -s \"-screen 0 800x600x24\" meshlabserver $@  -i /notebooks/Platinum_Decomp_Fusion/temp/neuron_31309.off -o /notebooks/Platinum_Decomp_Fusion/temp/neuron_31309_fill_holes.off -s /notebooks/Platinum_Decomp_Fusion/temp/fill_holes_491105.mls\n",
      "removed temporary input file: /notebooks/Platinum_Decomp_Fusion/temp/neuron_31309.off\n",
      "removed temporary output file: /notebooks/Platinum_Decomp_Fusion/temp/neuron_31309_fill_holes.off\n",
      "-----Time for Screened Poisson= 34.73306584358215\n",
      "     Starting Calcification\n",
      "Before mesh subtraction number of skeleton edges = 1607\n",
      "Inside mesh subtraction, len(main_mesh_bbox_restricted.faces) = 143687\n"
     ]
    },
    {
     "data": {
      "application/vnd.jupyter.widget-view+json": {
       "model_id": "15f6b683c3894e108162429d58123515",
       "version_major": 2,
       "version_minor": 0
      },
      "text/plain": [
       "HBox(children=(FloatProgress(value=1.0, bar_style='info', layout=Layout(width='20px'), max=1.0), HTML(value=''…"
      ]
     },
     "metadata": {},
     "output_type": "display_data"
    },
    {
     "name": "stderr",
     "output_type": "stream",
     "text": [
      "WARNING:trimesh:face_normals all zero, ignoring!\n"
     ]
    },
    {
     "name": "stdout",
     "output_type": "stream",
     "text": [
      "\n",
      "Total Mesh subtraction time = 28.4667\n"
     ]
    },
    {
     "name": "stderr",
     "output_type": "stream",
     "text": [
      "WARNING:trimesh:face_normals all zero, ignoring!\n"
     ]
    },
    {
     "data": {
      "application/vnd.jupyter.widget-view+json": {
       "model_id": "1122b29aa45f4837805961fa42176aa4",
       "version_major": 2,
       "version_minor": 0
      },
      "text/plain": [
       "HBox(children=(FloatProgress(value=0.0, max=27.0), HTML(value='')))"
      ]
     },
     "metadata": {},
     "output_type": "display_data"
    },
    {
     "name": "stdout",
     "output_type": "stream",
     "text": [
      "\n",
      "len_subgraphs AT BEGINNING of the loop\n"
     ]
    },
    {
     "data": {
      "application/vnd.jupyter.widget-view+json": {
       "model_id": "0655688b944349c28cc71f522756c893",
       "version_major": 2,
       "version_minor": 0
      },
      "text/plain": [
       "HBox(children=(FloatProgress(value=0.0, max=319.0), HTML(value='')))"
      ]
     },
     "metadata": {},
     "output_type": "display_data"
    },
    {
     "name": "stdout",
     "output_type": "stream",
     "text": [
      "all graph is one component!\n",
      "\n",
      "Total time for skeleton stitching = 0.3503246307373047\n",
      "The process was using a temp folder\n",
      "    Total time for skeletonizing branch: 76.30903458595276\n",
      "skipping soma 0 because closest skeleton node was already end node\n",
      "    Total time for Fixing Skeleton Soma Endpoint Extension : 6.172640800476074\n",
      "filter_end_node_length = 4001\n",
      "Using Distance measure skeletal_distance\n",
      "Going to ignore certain endnodes that are 5000 nm close to soma border vertices\n",
      "Number of end_nodes BEFORE filtering = 302\n",
      "Using an already specified end node: 0 with index 0checking was correct node end_nodes[index] = 0\n",
      "May Eliminate end_node 0: 0 because path_len to soma border was 1361.6341926929517\n",
      "single_node_to_eliminate = 0\n",
      "all_single_nodes_to_eliminate = [0, 0]\n"
     ]
    },
    {
     "data": {
      "application/vnd.jupyter.widget-view+json": {
       "model_id": "dc9ecbbee7374919a59bc6d24f1071bc",
       "version_major": 2,
       "version_minor": 0
      },
      "text/plain": [
       "HBox(children=(FloatProgress(value=0.0, max=299.0), HTML(value='')))"
      ]
     },
     "metadata": {},
     "output_type": "display_data"
    },
    {
     "name": "stdout",
     "output_type": "stream",
     "text": [
      "\n",
      "********COMBINING CLOSE SKELETON NODES WITHIN 700 DISTANCE**********\n",
      "Found 0 valid paths to replace\n",
      "valid_paths = []\n",
      "valid_path_lengths = []\n",
      "No valid paths found so just returning the original\n",
      "skeletonize_and_clean_connected_branch_CGAL: 95.40939545631409\n",
      "Working on limb correspondence for #0 MAP piece\n"
     ]
    },
    {
     "data": {
      "application/vnd.jupyter.widget-view+json": {
       "model_id": "e9edaa8b4f6d4bbc83c6167a9056a238",
       "version_major": 2,
       "version_minor": 0
      },
      "text/plain": [
       "HBox(children=(FloatProgress(value=1.0, bar_style='info', layout=Layout(width='20px'), max=1.0), HTML(value=''…"
      ]
     },
     "metadata": {},
     "output_type": "display_data"
    },
    {
     "name": "stderr",
     "output_type": "stream",
     "text": [
      "WARNING:trimesh:face_normals all zero, ignoring!\n",
      "WARNING:trimesh:face_normals all zero, ignoring!\n"
     ]
    },
    {
     "name": "stdout",
     "output_type": "stream",
     "text": [
      "\n",
      "Total time for decomposition = 20.02485418319702\n",
      "mesh_correspondence_first_pass: 20.024884700775146\n",
      "Limb decomposed into 19 branches\n",
      "divided_skeleton_graph_recovered = (1153, 2, 3) and \n",
      "current_mesh_data[0]['branch_skeletons_cleaned'].shape = (1153, 2, 3)\n",
      "\n",
      "Number of connected components in deocmposed recovered graph = 1\n",
      "Number of connected components in cleaned skeleton graph= 1\n",
      "The downsampled branches number of connected components = 1\n",
      "Empty submeshes = []\n",
      "\n",
      "\n",
      "--- Working on 1-to-1 correspondence-----\n",
      "max(original_labels),len(original_labels) = (18, 19)\n",
      "empty_indices % = 0.054563043281577316\n",
      " conflict_indices % = 0.01735717218676707\n"
     ]
    },
    {
     "data": {
      "application/vnd.jupyter.widget-view+json": {
       "model_id": "5025f24dff4f46f489b20e01f65e6579",
       "version_major": 2,
       "version_minor": 0
      },
      "text/plain": [
       "HBox(children=(FloatProgress(value=0.0, max=84.0), HTML(value='')))"
      ]
     },
     "metadata": {},
     "output_type": "display_data"
    },
    {
     "name": "stdout",
     "output_type": "stream",
     "text": [
      "\n",
      "AFTER face_lookup_resolved_test\n",
      "Took 0 iterations to expand the label back\n"
     ]
    },
    {
     "data": {
      "application/vnd.jupyter.widget-view+json": {
       "model_id": "f7d17266fdd14abd85ac9700a559182b",
       "version_major": 2,
       "version_minor": 0
      },
      "text/plain": [
       "HBox(children=(FloatProgress(value=0.0, max=19.0), HTML(value='')))"
      ]
     },
     "metadata": {},
     "output_type": "display_data"
    },
    {
     "name": "stdout",
     "output_type": "stream",
     "text": [
      "\n",
      "Total time for MAP sublimb #0 mesh processing = 120.10638403892517\n",
      "correspondence_1_to_1: 4.662803411483765\n",
      "Total time for MAP sublimb processing 120.1065194606781\n",
      "***************Arrived at MESH PIECES FOR MAP AND mp***************\n",
      "---- Working on MP Decomposition #0 ----\n",
      "MP filtering soma verts: 0.0014293193817138672\n",
      "Do Not Need to Fix MP Decomposition 0 so just continuing\n",
      "\n",
      "---- Working on (0, 0) connection-----\n",
      "    ---- Working on vertex group 0-----\n",
      "winning_vertex = [593375.3092872  770341.20468954 739546.91752316]\n",
      "MP_branches_with_stitch_point = [0, 1]\n",
      "Current stitch point was a branch or endpoint\n",
      "MAP_branches_with_stitch_point = [18]\n",
      "MAP_stitch_point_on_end_or_branch = True\n"
     ]
    },
    {
     "data": {
      "application/vnd.jupyter.widget-view+json": {
       "model_id": "99fd3d58b1f84ac296cca4cd88f50e8b",
       "version_major": 2,
       "version_minor": 0
      },
      "text/plain": [
       "HBox(children=(FloatProgress(value=1.0, bar_style='info', layout=Layout(width='20px'), max=1.0), HTML(value=''…"
      ]
     },
     "metadata": {},
     "output_type": "display_data"
    },
    {
     "name": "stdout",
     "output_type": "stream",
     "text": [
      "\n",
      "\n",
      "\n",
      "--- Working on 1-to-1 correspondence-----\n",
      "max(original_labels),len(original_labels) = (2, 3)\n",
      "empty_indices % = 0.05914906277893484\n",
      " conflict_indices % = 0.0012198750371913121\n"
     ]
    },
    {
     "data": {
      "application/vnd.jupyter.widget-view+json": {
       "model_id": "cc327c25fbeb4aa6960479ac111648ce",
       "version_major": 2,
       "version_minor": 0
      },
      "text/plain": [
       "HBox(children=(FloatProgress(value=0.0, max=18.0), HTML(value='')))"
      ]
     },
     "metadata": {},
     "output_type": "display_data"
    },
    {
     "name": "stdout",
     "output_type": "stream",
     "text": [
      "\n",
      "AFTER face_lookup_resolved_test\n"
     ]
    },
    {
     "data": {
      "application/vnd.jupyter.widget-view+json": {
       "model_id": "ea45e306bd6d4e3d98a66cfbb2ac3fb1",
       "version_major": 2,
       "version_minor": 0
      },
      "text/plain": [
       "HBox(children=(FloatProgress(value=0.0, max=3.0), HTML(value='')))"
      ]
     },
     "metadata": {},
     "output_type": "display_data"
    },
    {
     "name": "stderr",
     "output_type": "stream",
     "text": [
      "\r",
      "  0%|          | 0/1 [00:00<?, ?it/s]"
     ]
    },
    {
     "name": "stdout",
     "output_type": "stream",
     "text": [
      "\n",
      " Finished with (0, 0) vertex group 0 \n",
      "\n",
      "\n",
      "\n",
      "Time for decomp of Limb 3 = 130.01089549064636\n",
      "\n",
      "\n",
      "----- Working on Proper Limb #4 ---------\n",
      "Time for preparing soma vertices and root: 0.0002777576446533203\n",
      "smooth_neighborhood = 1\n"
     ]
    },
    {
     "data": {
      "application/vnd.jupyter.widget-view+json": {
       "model_id": "fa837af53ff840d08afb2c90bb51eac3",
       "version_major": 2,
       "version_minor": 0
      },
      "text/plain": [
       "HBox(children=(FloatProgress(value=0.0, max=61257.0), HTML(value='')))"
      ]
     },
     "metadata": {},
     "output_type": "display_data"
    },
    {
     "name": "stderr",
     "output_type": "stream",
     "text": [
      "100%|██████████| 1/1 [00:00<00:00,  2.86it/s]"
     ]
    },
    {
     "name": "stdout",
     "output_type": "stream",
     "text": [
      "\n"
     ]
    },
    {
     "name": "stderr",
     "output_type": "stream",
     "text": [
      "\n"
     ]
    },
    {
     "name": "stdout",
     "output_type": "stream",
     "text": [
      "Time for 1st pass MP skeletonization: 0.8678689002990723\n",
      "branches_touching_root = [10]\n",
      "empty_indices % = 0.0\n",
      " conflict_indices % = 0.003664321936855881\n"
     ]
    },
    {
     "data": {
      "application/vnd.jupyter.widget-view+json": {
       "model_id": "47081d1b6b82453992a638ae8546e064",
       "version_major": 2,
       "version_minor": 0
      },
      "text/plain": [
       "HBox(children=(FloatProgress(value=0.0, max=5.0), HTML(value='')))"
      ]
     },
     "metadata": {},
     "output_type": "display_data"
    },
    {
     "name": "stdout",
     "output_type": "stream",
     "text": [
      "\n",
      "AFTER face_lookup_resolved_test\n"
     ]
    },
    {
     "data": {
      "application/vnd.jupyter.widget-view+json": {
       "model_id": "50812057af7344b3bb8bcf0f6336a68e",
       "version_major": 2,
       "version_minor": 0
      },
      "text/plain": [
       "HBox(children=(FloatProgress(value=0.0, max=11.0), HTML(value='')))"
      ]
     },
     "metadata": {},
     "output_type": "display_data"
    },
    {
     "name": "stdout",
     "output_type": "stream",
     "text": [
      "\n",
      "Decomposing first pass: 2.433892250061035\n",
      "Found len(mesh_large_idx) MAP candidates: [18066, 652, 1253, 30344, 22148, 16879, 28853]\n",
      "mesh_large_connectivity: 0.0660090446472168\n",
      "Finding MAP candidates connected components: 0.00014400482177734375\n",
      "len(filtered_pieces) = 1\n",
      "skeleton_connectivity_MP : 0.045676231384277344\n",
      "Grouping MP Sublimbs by Graph: 0.005787372589111328\n",
      "Divinding into MP and MAP pieces: 1.430511474609375e-06\n",
      "--- Working on MAP piece 0---\n",
      "MAP Filtering Soma Pieces: 0.0070858001708984375\n",
      "     Starting Screened Poisson\n",
      "xvfb-run -n 1240 -s \"-screen 0 800x600x24\" meshlabserver $@  -i /notebooks/Platinum_Decomp_Fusion/temp/None.off -o /notebooks/Platinum_Decomp_Fusion/temp/None_poisson.off -s /notebooks/Platinum_Decomp_Fusion/temp/poisson_357938.mls\n",
      "removed temporary input file: /notebooks/Platinum_Decomp_Fusion/temp/None.off\n",
      "removed temporary output file: /notebooks/Platinum_Decomp_Fusion/temp/None_poisson.off\n",
      "Using the close holes feature\n",
      "xvfb-run -n 1314 -s \"-screen 0 800x600x24\" meshlabserver $@  -i /notebooks/Platinum_Decomp_Fusion/temp/neuron_92014.off -o /notebooks/Platinum_Decomp_Fusion/temp/neuron_92014_fill_holes.off -s /notebooks/Platinum_Decomp_Fusion/temp/fill_holes_746191.mls\n",
      "removed temporary input file: /notebooks/Platinum_Decomp_Fusion/temp/neuron_92014.off\n",
      "removed temporary output file: /notebooks/Platinum_Decomp_Fusion/temp/neuron_92014_fill_holes.off\n",
      "-----Time for Screened Poisson= 31.02321434020996\n",
      "     Starting Calcification\n",
      "Before mesh subtraction number of skeleton edges = 1246\n",
      "Inside mesh subtraction, len(main_mesh_bbox_restricted.faces) = 118195\n"
     ]
    },
    {
     "data": {
      "application/vnd.jupyter.widget-view+json": {
       "model_id": "c5585042ebce44c393f0a172a611aac5",
       "version_major": 2,
       "version_minor": 0
      },
      "text/plain": [
       "HBox(children=(FloatProgress(value=1.0, bar_style='info', layout=Layout(width='20px'), max=1.0), HTML(value=''…"
      ]
     },
     "metadata": {},
     "output_type": "display_data"
    },
    {
     "name": "stdout",
     "output_type": "stream",
     "text": [
      "\n",
      "Total Mesh subtraction time = 21.1703\n"
     ]
    },
    {
     "data": {
      "application/vnd.jupyter.widget-view+json": {
       "model_id": "79c29a4a47b14045b3bdebee38bc93e0",
       "version_major": 2,
       "version_minor": 0
      },
      "text/plain": [
       "HBox(children=(FloatProgress(value=0.0, max=41.0), HTML(value='')))"
      ]
     },
     "metadata": {},
     "output_type": "display_data"
    },
    {
     "name": "stdout",
     "output_type": "stream",
     "text": [
      "\n",
      "len_subgraphs AT BEGINNING of the loop\n"
     ]
    },
    {
     "data": {
      "application/vnd.jupyter.widget-view+json": {
       "model_id": "c19d57a8cc3d498295f4a632332e1272",
       "version_major": 2,
       "version_minor": 0
      },
      "text/plain": [
       "HBox(children=(FloatProgress(value=0.0, max=243.0), HTML(value='')))"
      ]
     },
     "metadata": {},
     "output_type": "display_data"
    },
    {
     "name": "stdout",
     "output_type": "stream",
     "text": [
      "all graph is one component!\n",
      "\n",
      "Total time for skeleton stitching = 0.24492645263671875\n",
      "The process was using a temp folder\n",
      "    Total time for skeletonizing branch: 62.888009548187256\n",
      "Adding new branch to skeleton\n",
      "    Total time for Fixing Skeleton Soma Endpoint Extension : 4.3606040477752686\n",
      "filter_end_node_length = 4001\n",
      "Using Distance measure skeletal_distance\n",
      "Going to ignore certain endnodes that are 5000 nm close to soma border vertices\n",
      "Number of end_nodes BEFORE filtering = 236\n",
      "Using an already specified end node: 1546 with index 224checking was correct node end_nodes[index] = 1546\n",
      "May Eliminate end_node 224: 1546 because path_len to soma border was 1559.8153844962503\n",
      "May Eliminate end_node 225: 1547 because path_len to soma border was 2532.493711510093\n",
      "single_node_to_eliminate = 224\n",
      "all_single_nodes_to_eliminate = [224, 224]\n"
     ]
    },
    {
     "data": {
      "application/vnd.jupyter.widget-view+json": {
       "model_id": "cf18f0150d9a4baaa40b87d8f86561f3",
       "version_major": 2,
       "version_minor": 0
      },
      "text/plain": [
       "HBox(children=(FloatProgress(value=0.0, max=235.0), HTML(value='')))"
      ]
     },
     "metadata": {},
     "output_type": "display_data"
    },
    {
     "name": "stdout",
     "output_type": "stream",
     "text": [
      "\n",
      "********COMBINING CLOSE SKELETON NODES WITHIN 700 DISTANCE**********\n",
      "Found 0 valid paths to replace\n",
      "valid_paths = []\n",
      "valid_path_lengths = []\n",
      "No valid paths found so just returning the original\n",
      "skeletonize_and_clean_connected_branch_CGAL: 76.98804378509521\n",
      "Working on limb correspondence for #0 MAP piece\n"
     ]
    },
    {
     "data": {
      "application/vnd.jupyter.widget-view+json": {
       "model_id": "6223387d15f948df8c51f6d2b284a406",
       "version_major": 2,
       "version_minor": 0
      },
      "text/plain": [
       "HBox(children=(FloatProgress(value=1.0, bar_style='info', layout=Layout(width='20px'), max=1.0), HTML(value=''…"
      ]
     },
     "metadata": {},
     "output_type": "display_data"
    },
    {
     "name": "stdout",
     "output_type": "stream",
     "text": [
      "\n",
      "Total time for decomposition = 14.544083595275879\n",
      "mesh_correspondence_first_pass: 14.54411506652832\n",
      "Limb decomposed into 19 branches\n",
      "divided_skeleton_graph_recovered = (949, 2, 3) and \n",
      "current_mesh_data[0]['branch_skeletons_cleaned'].shape = (949, 2, 3)\n",
      "\n",
      "Number of connected components in deocmposed recovered graph = 1\n",
      "Number of connected components in cleaned skeleton graph= 1\n",
      "The downsampled branches number of connected components = 1\n",
      "Empty submeshes = []\n",
      "\n",
      "\n",
      "--- Working on 1-to-1 correspondence-----\n",
      "max(original_labels),len(original_labels) = (18, 19)\n",
      "empty_indices % = 0.07100977198697069\n",
      " conflict_indices % = 0.015398282499259699\n"
     ]
    },
    {
     "data": {
      "application/vnd.jupyter.widget-view+json": {
       "model_id": "aa5d4589112a4df1b2e021aa05aabf5c",
       "version_major": 2,
       "version_minor": 0
      },
      "text/plain": [
       "HBox(children=(FloatProgress(value=0.0, max=91.0), HTML(value='')))"
      ]
     },
     "metadata": {},
     "output_type": "display_data"
    },
    {
     "name": "stdout",
     "output_type": "stream",
     "text": [
      "\n",
      "AFTER face_lookup_resolved_test\n",
      "Took 0 iterations to expand the label back\n"
     ]
    },
    {
     "data": {
      "application/vnd.jupyter.widget-view+json": {
       "model_id": "be6f5d5864aa4044ad624eaff5a797c3",
       "version_major": 2,
       "version_minor": 0
      },
      "text/plain": [
       "HBox(children=(FloatProgress(value=0.0, max=19.0), HTML(value='')))"
      ]
     },
     "metadata": {},
     "output_type": "display_data"
    },
    {
     "name": "stdout",
     "output_type": "stream",
     "text": [
      "\n",
      "Total time for MAP sublimb #0 mesh processing = 94.88185572624207\n",
      "correspondence_1_to_1: 3.3428432941436768\n",
      "Total time for MAP sublimb processing 94.88221621513367\n",
      "***************Arrived at MESH PIECES FOR MAP AND mp***************\n",
      "---- Working on MP Decomposition #0 ----\n",
      "MP filtering soma verts: 0.0025827884674072266\n",
      "Do Not Need to Fix MP Decomposition 0 so just continuing\n",
      "---- Working on MP Decomposition #1 ----\n",
      "MP filtering soma verts: 0.0019176006317138672\n",
      "Do Not Need to Fix MP Decomposition 1 so just continuing\n",
      "---- Working on MP Decomposition #2 ----\n",
      "MP filtering soma verts: 0.0002148151397705078\n",
      "Do Not Need to Fix MP Decomposition 2 so just continuing\n",
      "---- Working on MP Decomposition #3 ----\n",
      "MP filtering soma verts: 0.00018143653869628906\n",
      "Do Not Need to Fix MP Decomposition 3 so just continuing\n",
      "\n",
      "---- Working on (0, 0) connection-----\n",
      "    ---- Working on vertex group 0-----\n",
      "winning_vertex = [402844.07778755 825614.26549398 790590.46198629]\n",
      "MP_branches_with_stitch_point = [0]\n",
      "Current stitch point was not a branch or endpoint, shortest_path_length to one = 40472.97370802926\n",
      "MAP_branches_with_stitch_point = [5]\n",
      "MAP_stitch_point_on_end_or_branch = False\n"
     ]
    },
    {
     "data": {
      "application/vnd.jupyter.widget-view+json": {
       "model_id": "7a3ab96f23f845dd8ced84c32b28e913",
       "version_major": 2,
       "version_minor": 0
      },
      "text/plain": [
       "HBox(children=(FloatProgress(value=1.0, bar_style='info', layout=Layout(width='20px'), max=1.0), HTML(value=''…"
      ]
     },
     "metadata": {},
     "output_type": "display_data"
    },
    {
     "name": "stdout",
     "output_type": "stream",
     "text": [
      "\n",
      "\n",
      "\n",
      "--- Working on 1-to-1 correspondence-----\n",
      "max(original_labels),len(original_labels) = (2, 3)\n",
      "empty_indices % = 0.1193374858437146\n",
      " conflict_indices % = 0.0025835220838052097\n"
     ]
    },
    {
     "data": {
      "application/vnd.jupyter.widget-view+json": {
       "model_id": "8f3cadb437014ee2ab74c8048baa655a",
       "version_major": 2,
       "version_minor": 0
      },
      "text/plain": [
       "HBox(children=(FloatProgress(value=0.0, max=19.0), HTML(value='')))"
      ]
     },
     "metadata": {},
     "output_type": "display_data"
    },
    {
     "name": "stdout",
     "output_type": "stream",
     "text": [
      "\n",
      "AFTER face_lookup_resolved_test\n"
     ]
    },
    {
     "data": {
      "application/vnd.jupyter.widget-view+json": {
       "model_id": "ea7a1514e4ae4c59a181cc885dd7ba2a",
       "version_major": 2,
       "version_minor": 0
      },
      "text/plain": [
       "HBox(children=(FloatProgress(value=0.0, max=3.0), HTML(value='')))"
      ]
     },
     "metadata": {},
     "output_type": "display_data"
    },
    {
     "name": "stdout",
     "output_type": "stream",
     "text": [
      "\n",
      "Deleting branches from dictionary\n",
      " Finished with (0, 0) vertex group 0 \n",
      "\n",
      "\n",
      "\n",
      "\n",
      "---- Working on (1, 0) connection-----\n",
      "    ---- Working on vertex group 0-----\n",
      "winning_vertex = [397522.5530909  834138.8905877  788313.42021475]\n",
      "MP_branches_with_stitch_point = [0]\n",
      "Current stitch point was not a branch or endpoint, shortest_path_length to one = 49401.13095817595\n",
      "MAP_branches_with_stitch_point = [5]\n",
      "MAP_stitch_point_on_end_or_branch = False\n"
     ]
    },
    {
     "data": {
      "application/vnd.jupyter.widget-view+json": {
       "model_id": "07fe83af014a41f7946d013323121546",
       "version_major": 2,
       "version_minor": 0
      },
      "text/plain": [
       "HBox(children=(FloatProgress(value=1.0, bar_style='info', layout=Layout(width='20px'), max=1.0), HTML(value=''…"
      ]
     },
     "metadata": {},
     "output_type": "display_data"
    },
    {
     "name": "stdout",
     "output_type": "stream",
     "text": [
      "\n",
      "\n",
      "\n",
      "--- Working on 1-to-1 correspondence-----\n",
      "max(original_labels),len(original_labels) = (2, 3)\n",
      "empty_indices % = 0.08009259259259259\n",
      " conflict_indices % = 0.005158730158730159\n"
     ]
    },
    {
     "data": {
      "application/vnd.jupyter.widget-view+json": {
       "model_id": "37a795d61dcf4d73a19f6409337303e5",
       "version_major": 2,
       "version_minor": 0
      },
      "text/plain": [
       "HBox(children=(FloatProgress(value=0.0, max=11.0), HTML(value='')))"
      ]
     },
     "metadata": {},
     "output_type": "display_data"
    },
    {
     "name": "stdout",
     "output_type": "stream",
     "text": [
      "\n",
      "AFTER face_lookup_resolved_test\n"
     ]
    },
    {
     "data": {
      "application/vnd.jupyter.widget-view+json": {
       "model_id": "615b4006106341a7882b6619df218390",
       "version_major": 2,
       "version_minor": 0
      },
      "text/plain": [
       "HBox(children=(FloatProgress(value=0.0, max=3.0), HTML(value='')))"
      ]
     },
     "metadata": {},
     "output_type": "display_data"
    },
    {
     "name": "stdout",
     "output_type": "stream",
     "text": [
      "\n",
      "Deleting branches from dictionary\n",
      " Finished with (1, 0) vertex group 0 \n",
      "\n",
      "\n",
      "\n",
      "\n",
      "---- Working on (2, 0) connection-----\n",
      "    ---- Working on vertex group 0-----\n",
      "winning_vertex = [398747.35113177 830787.75101273 789328.66461812]\n",
      "MP_branches_with_stitch_point = [0]\n",
      "Current stitch point was not a branch or endpoint, shortest_path_length to one = 47955.96931871705\n",
      "MAP_branches_with_stitch_point = [20]\n",
      "MAP_stitch_point_on_end_or_branch = False\n"
     ]
    },
    {
     "data": {
      "application/vnd.jupyter.widget-view+json": {
       "model_id": "fa4ff13199c3443485456abbfe8a385c",
       "version_major": 2,
       "version_minor": 0
      },
      "text/plain": [
       "HBox(children=(FloatProgress(value=1.0, bar_style='info', layout=Layout(width='20px'), max=1.0), HTML(value=''…"
      ]
     },
     "metadata": {},
     "output_type": "display_data"
    },
    {
     "name": "stdout",
     "output_type": "stream",
     "text": [
      "\n",
      "\n",
      "\n",
      "--- Working on 1-to-1 correspondence-----\n",
      "max(original_labels),len(original_labels) = (2, 3)\n",
      "empty_indices % = 0.16991206030150754\n",
      " conflict_indices % = 0.005967336683417085\n"
     ]
    },
    {
     "data": {
      "application/vnd.jupyter.widget-view+json": {
       "model_id": "1fb26e41223f4872bf68433e86298d02",
       "version_major": 2,
       "version_minor": 0
      },
      "text/plain": [
       "HBox(children=(FloatProgress(value=0.0, max=10.0), HTML(value='')))"
      ]
     },
     "metadata": {},
     "output_type": "display_data"
    },
    {
     "name": "stdout",
     "output_type": "stream",
     "text": [
      "\n",
      "AFTER face_lookup_resolved_test\n"
     ]
    },
    {
     "data": {
      "application/vnd.jupyter.widget-view+json": {
       "model_id": "0731507ef90647d8b05f9a66fec89079",
       "version_major": 2,
       "version_minor": 0
      },
      "text/plain": [
       "HBox(children=(FloatProgress(value=0.0, max=3.0), HTML(value='')))"
      ]
     },
     "metadata": {},
     "output_type": "display_data"
    },
    {
     "name": "stdout",
     "output_type": "stream",
     "text": [
      "\n",
      "Deleting branches from dictionary\n",
      " Finished with (2, 0) vertex group 0 \n",
      "\n",
      "\n",
      "\n",
      "\n",
      "---- Working on (3, 0) connection-----\n",
      "    ---- Working on vertex group 0-----\n",
      "winning_vertex = [408933.15158693 815206.7164161  797472.19305683]\n",
      "MP_branches_with_stitch_point = [0]\n",
      "Current stitch point was not a branch or endpoint, shortest_path_length to one = 4144.791085032147\n",
      "MAP_branches_with_stitch_point = [6]\n",
      "MAP_stitch_point_on_end_or_branch = False\n"
     ]
    },
    {
     "data": {
      "application/vnd.jupyter.widget-view+json": {
       "model_id": "28600ed0eb2c4e0eb05943ba9deec50c",
       "version_major": 2,
       "version_minor": 0
      },
      "text/plain": [
       "HBox(children=(FloatProgress(value=1.0, bar_style='info', layout=Layout(width='20px'), max=1.0), HTML(value=''…"
      ]
     },
     "metadata": {},
     "output_type": "display_data"
    },
    {
     "name": "stdout",
     "output_type": "stream",
     "text": [
      "\n",
      "\n",
      "\n",
      "--- Working on 1-to-1 correspondence-----\n",
      "max(original_labels),len(original_labels) = (2, 3)\n",
      "empty_indices % = 0.06643824826717076\n",
      " conflict_indices % = 0.0014571518588531822\n"
     ]
    },
    {
     "data": {
      "application/vnd.jupyter.widget-view+json": {
       "model_id": "06d5942219144d7cb43f50a4492509da",
       "version_major": 2,
       "version_minor": 0
      },
      "text/plain": [
       "HBox(children=(FloatProgress(value=0.0, max=21.0), HTML(value='')))"
      ]
     },
     "metadata": {},
     "output_type": "display_data"
    },
    {
     "name": "stdout",
     "output_type": "stream",
     "text": [
      "\n",
      "AFTER face_lookup_resolved_test\n"
     ]
    },
    {
     "data": {
      "application/vnd.jupyter.widget-view+json": {
       "model_id": "6d90a34ef7fd462c85c7b9ed167861d4",
       "version_major": 2,
       "version_minor": 0
      },
      "text/plain": [
       "HBox(children=(FloatProgress(value=0.0, max=3.0), HTML(value='')))"
      ]
     },
     "metadata": {},
     "output_type": "display_data"
    },
    {
     "name": "stderr",
     "output_type": "stream",
     "text": [
      "\r",
      "  0%|          | 0/1 [00:00<?, ?it/s]"
     ]
    },
    {
     "name": "stdout",
     "output_type": "stream",
     "text": [
      "\n",
      "Deleting branches from dictionary\n",
      " Finished with (3, 0) vertex group 0 \n",
      "\n",
      "\n",
      "\n",
      "Time for decomp of Limb 4 = 106.99243974685669\n",
      "\n",
      "\n",
      "----- Working on Proper Limb #5 ---------\n",
      "Time for preparing soma vertices and root: 0.0002684593200683594\n",
      "smooth_neighborhood = 1\n"
     ]
    },
    {
     "data": {
      "application/vnd.jupyter.widget-view+json": {
       "model_id": "25dbb7ea92064c0581f3a3adffb928c5",
       "version_major": 2,
       "version_minor": 0
      },
      "text/plain": [
       "HBox(children=(FloatProgress(value=0.0, max=46187.0), HTML(value='')))"
      ]
     },
     "metadata": {},
     "output_type": "display_data"
    },
    {
     "name": "stderr",
     "output_type": "stream",
     "text": [
      "100%|██████████| 1/1 [00:00<00:00,  2.38it/s]"
     ]
    },
    {
     "name": "stdout",
     "output_type": "stream",
     "text": [
      "\n"
     ]
    },
    {
     "name": "stderr",
     "output_type": "stream",
     "text": [
      "\n"
     ]
    },
    {
     "name": "stdout",
     "output_type": "stream",
     "text": [
      "Time for 1st pass MP skeletonization: 0.8821742534637451\n",
      "branches_touching_root = [16]\n",
      "empty_indices % = 0.0\n",
      " conflict_indices % = 0.005145797598627788\n"
     ]
    },
    {
     "data": {
      "application/vnd.jupyter.widget-view+json": {
       "model_id": "77317e71ebf6476fb2bd83549a1fa105",
       "version_major": 2,
       "version_minor": 0
      },
      "text/plain": [
       "HBox(children=(FloatProgress(value=0.0, max=8.0), HTML(value='')))"
      ]
     },
     "metadata": {},
     "output_type": "display_data"
    },
    {
     "name": "stdout",
     "output_type": "stream",
     "text": [
      "\n",
      "AFTER face_lookup_resolved_test\n"
     ]
    },
    {
     "data": {
      "application/vnd.jupyter.widget-view+json": {
       "model_id": "d1caa1c4a091478e8a1f0ac125ed221d",
       "version_major": 2,
       "version_minor": 0
      },
      "text/plain": [
       "HBox(children=(FloatProgress(value=0.0, max=17.0), HTML(value='')))"
      ]
     },
     "metadata": {},
     "output_type": "display_data"
    },
    {
     "name": "stdout",
     "output_type": "stream",
     "text": [
      "\n",
      "Decomposing first pass: 2.27919340133667\n",
      "Found len(mesh_large_idx) MAP candidates: [3736]\n",
      "mesh_large_connectivity: 0.0011627674102783203\n",
      "Finding MAP candidates connected components: 9.34600830078125e-05\n",
      "len(filtered_pieces) = 1\n",
      "skeleton_connectivity_MP : 0.27074694633483887\n",
      "Grouping MP Sublimbs by Graph: 0.04275012016296387\n",
      "Divinding into MP and MAP pieces: 2.1457672119140625e-06\n",
      "--- Working on MAP piece 0---\n",
      "MAP Filtering Soma Pieces: 0.0010247230529785156\n",
      "     Starting Screened Poisson\n",
      "xvfb-run -n 8874 -s \"-screen 0 800x600x24\" meshlabserver $@  -i /notebooks/Platinum_Decomp_Fusion/temp/None.off -o /notebooks/Platinum_Decomp_Fusion/temp/None_poisson.off -s /notebooks/Platinum_Decomp_Fusion/temp/poisson_733898.mls\n",
      "removed temporary input file: /notebooks/Platinum_Decomp_Fusion/temp/None.off\n",
      "removed temporary output file: /notebooks/Platinum_Decomp_Fusion/temp/None_poisson.off\n",
      "Using the close holes feature\n",
      "xvfb-run -n 6928 -s \"-screen 0 800x600x24\" meshlabserver $@  -i /notebooks/Platinum_Decomp_Fusion/temp/neuron_17285.off -o /notebooks/Platinum_Decomp_Fusion/temp/neuron_17285_fill_holes.off -s /notebooks/Platinum_Decomp_Fusion/temp/fill_holes_166991.mls\n",
      "removed temporary input file: /notebooks/Platinum_Decomp_Fusion/temp/neuron_17285.off\n",
      "removed temporary output file: /notebooks/Platinum_Decomp_Fusion/temp/neuron_17285_fill_holes.off\n",
      "-----Time for Screened Poisson= 6.222834587097168\n",
      "     Starting Calcification\n",
      "Before mesh subtraction number of skeleton edges = 38\n",
      "Inside mesh subtraction, len(main_mesh_bbox_restricted.faces) = 3073\n"
     ]
    },
    {
     "data": {
      "application/vnd.jupyter.widget-view+json": {
       "model_id": "98d911ceb99846e8899bb56ff156cc63",
       "version_major": 2,
       "version_minor": 0
      },
      "text/plain": [
       "HBox(children=(FloatProgress(value=1.0, bar_style='info', layout=Layout(width='20px'), max=1.0), HTML(value=''…"
      ]
     },
     "metadata": {},
     "output_type": "display_data"
    },
    {
     "name": "stdout",
     "output_type": "stream",
     "text": [
      "\n",
      "Total Mesh subtraction time = 0.2326\n"
     ]
    },
    {
     "data": {
      "application/vnd.jupyter.widget-view+json": {
       "model_id": "9bdd23af865d4bf9b6e1517866bb0f04",
       "version_major": 2,
       "version_minor": 0
      },
      "text/plain": [
       "HBox(children=(FloatProgress(value=1.0, bar_style='info', layout=Layout(width='20px'), max=1.0), HTML(value=''…"
      ]
     },
     "metadata": {},
     "output_type": "display_data"
    },
    {
     "name": "stdout",
     "output_type": "stream",
     "text": [
      "\n",
      "No skeletons to stack so returning empty list\n",
      "len_subgraphs AT BEGINNING of the loop\n"
     ]
    },
    {
     "data": {
      "application/vnd.jupyter.widget-view+json": {
       "model_id": "e45c0547b58644a386b4bdcad9c3dbf9",
       "version_major": 2,
       "version_minor": 0
      },
      "text/plain": [
       "HBox(children=(FloatProgress(value=0.0, max=2.0), HTML(value='')))"
      ]
     },
     "metadata": {},
     "output_type": "display_data"
    },
    {
     "name": "stdout",
     "output_type": "stream",
     "text": [
      "all graph is one component!\n",
      "\n",
      "Total time for skeleton stitching = 0.026091575622558594\n",
      "The process was using a temp folder\n",
      "    Total time for skeletonizing branch: 7.0053417682647705\n",
      "Adding new branch to skeleton\n",
      "    Total time for Fixing Skeleton Soma Endpoint Extension : 0.16496896743774414\n",
      "filter_end_node_length = 4001\n",
      "Using Distance measure skeletal_distance\n",
      "Going to ignore certain endnodes that are 5000 nm close to soma border vertices\n",
      "Number of end_nodes BEFORE filtering = 5\n",
      "Using an already specified end node: 0 with index 0checking was correct node end_nodes[index] = 0\n",
      "May Eliminate end_node 0: 0 because path_len to soma border was 178.80366327354426\n",
      "single_node_to_eliminate = 0\n",
      "all_single_nodes_to_eliminate = [0, 0]\n"
     ]
    },
    {
     "data": {
      "application/vnd.jupyter.widget-view+json": {
       "model_id": "ea9c767a52084413a754b4deb850529c",
       "version_major": 2,
       "version_minor": 0
      },
      "text/plain": [
       "HBox(children=(FloatProgress(value=0.0, max=4.0), HTML(value='')))"
      ]
     },
     "metadata": {},
     "output_type": "display_data"
    },
    {
     "name": "stdout",
     "output_type": "stream",
     "text": [
      "\n",
      "********COMBINING CLOSE SKELETON NODES WITHIN 700 DISTANCE**********\n",
      "Found 0 valid paths to replace\n",
      "valid_paths = []\n",
      "valid_path_lengths = []\n",
      "No valid paths found so just returning the original\n",
      "skeletonize_and_clean_connected_branch_CGAL: 7.264971017837524\n",
      "Working on limb correspondence for #0 MAP piece\n"
     ]
    },
    {
     "data": {
      "application/vnd.jupyter.widget-view+json": {
       "model_id": "81fb890e1cec4277b81d55e0051cf2b3",
       "version_major": 2,
       "version_minor": 0
      },
      "text/plain": [
       "HBox(children=(FloatProgress(value=1.0, bar_style='info', layout=Layout(width='20px'), max=1.0), HTML(value=''…"
      ]
     },
     "metadata": {},
     "output_type": "display_data"
    },
    {
     "name": "stdout",
     "output_type": "stream",
     "text": [
      "\n",
      "Total time for decomposition = 0.2312755584716797\n",
      "mesh_correspondence_first_pass: 0.23133158683776855\n",
      "Limb decomposed into 1 branches\n",
      "divided_skeleton_graph_recovered = (27, 2, 3) and \n",
      "current_mesh_data[0]['branch_skeletons_cleaned'].shape = (27, 2, 3)\n",
      "\n",
      "Number of connected components in deocmposed recovered graph = 1\n",
      "Number of connected components in cleaned skeleton graph= 1\n",
      "The downsampled branches number of connected components = 1\n",
      "Empty submeshes = []\n",
      "\n",
      "\n",
      "--- Working on 1-to-1 correspondence-----\n",
      "max(original_labels),len(original_labels) = (0, 1)\n",
      "empty_indices % = 0.3013918629550321\n",
      " conflict_indices % = 0.0\n"
     ]
    },
    {
     "data": {
      "application/vnd.jupyter.widget-view+json": {
       "model_id": "2e97308d044e4f7897666c0f7a73267a",
       "version_major": 2,
       "version_minor": 0
      },
      "text/plain": [
       "HBox(children=(FloatProgress(value=0.0, max=2.0), HTML(value='')))"
      ]
     },
     "metadata": {},
     "output_type": "display_data"
    },
    {
     "name": "stdout",
     "output_type": "stream",
     "text": [
      "\n",
      "AFTER face_lookup_resolved_test\n",
      "Took 0 iterations to expand the label back\n"
     ]
    },
    {
     "data": {
      "application/vnd.jupyter.widget-view+json": {
       "model_id": "df7900e19c49459194e474359975fe1f",
       "version_major": 2,
       "version_minor": 0
      },
      "text/plain": [
       "HBox(children=(FloatProgress(value=0.0, max=1.0), HTML(value='')))"
      ]
     },
     "metadata": {},
     "output_type": "display_data"
    },
    {
     "name": "stdout",
     "output_type": "stream",
     "text": [
      "\n",
      "Total time for MAP sublimb #0 mesh processing = 7.636675596237183\n",
      "correspondence_1_to_1: 0.1391582489013672\n",
      "Total time for MAP sublimb processing 7.636812448501587\n",
      "***************Arrived at MESH PIECES FOR MAP AND mp***************\n",
      "---- Working on MP Decomposition #0 ----\n",
      "MP filtering soma verts: 0.004427433013916016\n",
      "Do Not Need to Fix MP Decomposition 0 so just continuing\n",
      "---- Working on MP Decomposition #1 ----\n",
      "MP filtering soma verts: 0.004733085632324219\n",
      "Do Not Need to Fix MP Decomposition 1 so just continuing\n",
      "\n",
      "---- Working on (0, 0) connection-----\n",
      "    ---- Working on vertex group 0-----\n",
      "winning_vertex = [605423.15507501 884993.53359631 834283.22600344]\n",
      "MP_branches_with_stitch_point = [1, 5]\n",
      "Current stitch point was not a branch or endpoint, shortest_path_length to one = 6381.864400592756\n",
      "MAP_branches_with_stitch_point = [0]\n",
      "MAP_stitch_point_on_end_or_branch = False\n"
     ]
    },
    {
     "data": {
      "application/vnd.jupyter.widget-view+json": {
       "model_id": "df03d96277e040ed88ba19eef318cb59",
       "version_major": 2,
       "version_minor": 0
      },
      "text/plain": [
       "HBox(children=(FloatProgress(value=1.0, bar_style='info', layout=Layout(width='20px'), max=1.0), HTML(value=''…"
      ]
     },
     "metadata": {},
     "output_type": "display_data"
    },
    {
     "name": "stdout",
     "output_type": "stream",
     "text": [
      "\n",
      "\n",
      "\n",
      "--- Working on 1-to-1 correspondence-----\n",
      "max(original_labels),len(original_labels) = (3, 4)\n",
      "empty_indices % = 0.08797901246135108\n",
      " conflict_indices % = 0.0078703269933477\n"
     ]
    },
    {
     "data": {
      "application/vnd.jupyter.widget-view+json": {
       "model_id": "6d1c293c37ba4d82980981764bc8609c",
       "version_major": 2,
       "version_minor": 0
      },
      "text/plain": [
       "HBox(children=(FloatProgress(value=0.0, max=11.0), HTML(value='')))"
      ]
     },
     "metadata": {},
     "output_type": "display_data"
    },
    {
     "name": "stdout",
     "output_type": "stream",
     "text": [
      "\n",
      "AFTER face_lookup_resolved_test\n"
     ]
    },
    {
     "data": {
      "application/vnd.jupyter.widget-view+json": {
       "model_id": "f75fc3b45bbc487ea76fd3d35d71e05e",
       "version_major": 2,
       "version_minor": 0
      },
      "text/plain": [
       "HBox(children=(FloatProgress(value=0.0, max=4.0), HTML(value='')))"
      ]
     },
     "metadata": {},
     "output_type": "display_data"
    },
    {
     "name": "stdout",
     "output_type": "stream",
     "text": [
      "\n",
      "Deleting branches from dictionary\n",
      " Finished with (0, 0) vertex group 0 \n",
      "\n",
      "\n",
      "\n",
      "\n",
      "---- Working on (1, 0) connection-----\n",
      "    ---- Working on vertex group 0-----\n",
      "winning_vertex = [614310.30941064 883655.17816974 834538.85559416]\n",
      "MP_branches_with_stitch_point = [0, 1]\n",
      "Current stitch point was a branch or endpoint\n",
      "MAP_branches_with_stitch_point = [1]\n",
      "MAP_stitch_point_on_end_or_branch = True\n"
     ]
    },
    {
     "data": {
      "application/vnd.jupyter.widget-view+json": {
       "model_id": "3ef7c3f5dda54d918d291193b3013b80",
       "version_major": 2,
       "version_minor": 0
      },
      "text/plain": [
       "HBox(children=(FloatProgress(value=1.0, bar_style='info', layout=Layout(width='20px'), max=1.0), HTML(value=''…"
      ]
     },
     "metadata": {},
     "output_type": "display_data"
    },
    {
     "name": "stdout",
     "output_type": "stream",
     "text": [
      "\n",
      "\n",
      "\n",
      "--- Working on 1-to-1 correspondence-----\n",
      "max(original_labels),len(original_labels) = (2, 3)\n",
      "empty_indices % = 0.019183485298637434\n",
      " conflict_indices % = 0.012216985964552812\n"
     ]
    },
    {
     "data": {
      "application/vnd.jupyter.widget-view+json": {
       "model_id": "92340da9da464630822ae5183b4981a2",
       "version_major": 2,
       "version_minor": 0
      },
      "text/plain": [
       "HBox(children=(FloatProgress(value=0.0, max=9.0), HTML(value='')))"
      ]
     },
     "metadata": {},
     "output_type": "display_data"
    },
    {
     "name": "stdout",
     "output_type": "stream",
     "text": [
      "\n",
      "AFTER face_lookup_resolved_test\n"
     ]
    },
    {
     "data": {
      "application/vnd.jupyter.widget-view+json": {
       "model_id": "1a7f02d7cbfe48798d4076e96c2dbe65",
       "version_major": 2,
       "version_minor": 0
      },
      "text/plain": [
       "HBox(children=(FloatProgress(value=0.0, max=3.0), HTML(value='')))"
      ]
     },
     "metadata": {},
     "output_type": "display_data"
    },
    {
     "name": "stderr",
     "output_type": "stream",
     "text": [
      "\r",
      "  0%|          | 0/1 [00:00<?, ?it/s]"
     ]
    },
    {
     "name": "stdout",
     "output_type": "stream",
     "text": [
      "\n",
      " Finished with (1, 0) vertex group 0 \n",
      "\n",
      "\n",
      "\n",
      "Time for decomp of Limb 5 = 21.707481622695923\n",
      "\n",
      "\n",
      "----- Working on Proper Limb #6 ---------\n",
      "Time for preparing soma vertices and root: 0.0002944469451904297\n",
      "smooth_neighborhood = 1\n"
     ]
    },
    {
     "data": {
      "application/vnd.jupyter.widget-view+json": {
       "model_id": "b0675e44211a48d68d6c989564f58b44",
       "version_major": 2,
       "version_minor": 0
      },
      "text/plain": [
       "HBox(children=(FloatProgress(value=0.0, max=34194.0), HTML(value='')))"
      ]
     },
     "metadata": {},
     "output_type": "display_data"
    },
    {
     "name": "stderr",
     "output_type": "stream",
     "text": [
      "100%|██████████| 1/1 [00:00<00:00,  3.53it/s]"
     ]
    },
    {
     "name": "stdout",
     "output_type": "stream",
     "text": [
      "\n"
     ]
    },
    {
     "name": "stderr",
     "output_type": "stream",
     "text": [
      "\n"
     ]
    },
    {
     "name": "stdout",
     "output_type": "stream",
     "text": [
      "Time for 1st pass MP skeletonization: 0.6433513164520264\n",
      "branches_touching_root = [4]\n",
      "empty_indices % = 0.0\n",
      " conflict_indices % = 0.006520624221554693\n"
     ]
    },
    {
     "data": {
      "application/vnd.jupyter.widget-view+json": {
       "model_id": "5cfd455ddcf7474fb6f027ba626f64be",
       "version_major": 2,
       "version_minor": 0
      },
      "text/plain": [
       "HBox(children=(FloatProgress(value=0.0, max=8.0), HTML(value='')))"
      ]
     },
     "metadata": {},
     "output_type": "display_data"
    },
    {
     "name": "stdout",
     "output_type": "stream",
     "text": [
      "\n",
      "AFTER face_lookup_resolved_test\n"
     ]
    },
    {
     "data": {
      "application/vnd.jupyter.widget-view+json": {
       "model_id": "b1d3d679df19415084aa6e0d9252f171",
       "version_major": 2,
       "version_minor": 0
      },
      "text/plain": [
       "HBox(children=(FloatProgress(value=0.0, max=15.0), HTML(value='')))"
      ]
     },
     "metadata": {},
     "output_type": "display_data"
    },
    {
     "name": "stdout",
     "output_type": "stream",
     "text": [
      "\n",
      "Decomposing first pass: 1.0977389812469482\n",
      "Found len(mesh_large_idx) MAP candidates: [3538, 2671, 2913]\n",
      "mesh_large_connectivity: 0.004052400588989258\n",
      "Finding MAP candidates connected components: 0.00011324882507324219\n",
      "len(filtered_pieces) = 1\n",
      "skeleton_connectivity_MP : 0.19298744201660156\n",
      "Grouping MP Sublimbs by Graph: 0.02947378158569336\n",
      "Divinding into MP and MAP pieces: 2.1457672119140625e-06\n",
      "--- Working on MAP piece 0---\n",
      "MAP Filtering Soma Pieces: 0.0007164478302001953\n",
      "     Starting Screened Poisson\n",
      "xvfb-run -n 6840 -s \"-screen 0 800x600x24\" meshlabserver $@  -i /notebooks/Platinum_Decomp_Fusion/temp/None.off -o /notebooks/Platinum_Decomp_Fusion/temp/None_poisson.off -s /notebooks/Platinum_Decomp_Fusion/temp/poisson_780888.mls\n",
      "removed temporary input file: /notebooks/Platinum_Decomp_Fusion/temp/None.off\n",
      "removed temporary output file: /notebooks/Platinum_Decomp_Fusion/temp/None_poisson.off\n",
      "Using the close holes feature\n",
      "xvfb-run -n 5611 -s \"-screen 0 800x600x24\" meshlabserver $@  -i /notebooks/Platinum_Decomp_Fusion/temp/neuron_48223.off -o /notebooks/Platinum_Decomp_Fusion/temp/neuron_48223_fill_holes.off -s /notebooks/Platinum_Decomp_Fusion/temp/fill_holes_435298.mls\n",
      "removed temporary input file: /notebooks/Platinum_Decomp_Fusion/temp/neuron_48223.off\n",
      "removed temporary output file: /notebooks/Platinum_Decomp_Fusion/temp/neuron_48223_fill_holes.off\n",
      "-----Time for Screened Poisson= 8.395756959915161\n",
      "     Starting Calcification\n",
      "Before mesh subtraction number of skeleton edges = 111\n",
      "Inside mesh subtraction, len(main_mesh_bbox_restricted.faces) = 9122\n"
     ]
    },
    {
     "data": {
      "application/vnd.jupyter.widget-view+json": {
       "model_id": "53c8e1a8012149aab580fa19d19ccf9a",
       "version_major": 2,
       "version_minor": 0
      },
      "text/plain": [
       "HBox(children=(FloatProgress(value=1.0, bar_style='info', layout=Layout(width='20px'), max=1.0), HTML(value=''…"
      ]
     },
     "metadata": {},
     "output_type": "display_data"
    },
    {
     "name": "stdout",
     "output_type": "stream",
     "text": [
      "\n",
      "Total Mesh subtraction time = 0.5871\n"
     ]
    },
    {
     "data": {
      "application/vnd.jupyter.widget-view+json": {
       "model_id": "fd02f71d77b4413db4e1cd390d5c03b1",
       "version_major": 2,
       "version_minor": 0
      },
      "text/plain": [
       "HBox(children=(FloatProgress(value=1.0, bar_style='info', layout=Layout(width='20px'), max=1.0), HTML(value=''…"
      ]
     },
     "metadata": {},
     "output_type": "display_data"
    },
    {
     "name": "stdout",
     "output_type": "stream",
     "text": [
      "\n",
      "No skeletons to stack so returning empty list\n",
      "len_subgraphs AT BEGINNING of the loop\n"
     ]
    },
    {
     "data": {
      "application/vnd.jupyter.widget-view+json": {
       "model_id": "92f81b76e0a545d0abe8881da95821af",
       "version_major": 2,
       "version_minor": 0
      },
      "text/plain": [
       "HBox(children=(FloatProgress(value=0.0, max=5.0), HTML(value='')))"
      ]
     },
     "metadata": {},
     "output_type": "display_data"
    },
    {
     "name": "stdout",
     "output_type": "stream",
     "text": [
      "all graph is one component!\n",
      "\n",
      "Total time for skeleton stitching = 0.04042935371398926\n",
      "The process was using a temp folder\n",
      "    Total time for skeletonizing branch: 10.181004524230957\n",
      "skipping soma 1 because closest skeleton node was already end node\n",
      "    Total time for Fixing Skeleton Soma Endpoint Extension : 0.3260459899902344\n",
      "filter_end_node_length = 4001\n",
      "Using Distance measure skeletal_distance\n",
      "Going to ignore certain endnodes that are 5000 nm close to soma border vertices\n",
      "Number of end_nodes BEFORE filtering = 7\n",
      "Using an already specified end node: 85 with index 3checking was correct node end_nodes[index] = 85\n",
      "May Eliminate end_node 3: 85 because path_len to soma border was 769.7475677702193\n",
      "single_node_to_eliminate = 3\n",
      "all_single_nodes_to_eliminate = [3, 3]\n"
     ]
    },
    {
     "data": {
      "application/vnd.jupyter.widget-view+json": {
       "model_id": "d9be1aafe8cf412999225257fc89fcb7",
       "version_major": 2,
       "version_minor": 0
      },
      "text/plain": [
       "HBox(children=(FloatProgress(value=0.0, max=4.0), HTML(value='')))"
      ]
     },
     "metadata": {},
     "output_type": "display_data"
    },
    {
     "name": "stdout",
     "output_type": "stream",
     "text": [
      "\n",
      "********COMBINING CLOSE SKELETON NODES WITHIN 700 DISTANCE**********\n",
      "Found 0 valid paths to replace\n",
      "valid_paths = []\n",
      "valid_path_lengths = []\n",
      "No valid paths found so just returning the original\n",
      "skeletonize_and_clean_connected_branch_CGAL: 10.68277621269226\n",
      "Working on limb correspondence for #0 MAP piece\n"
     ]
    },
    {
     "data": {
      "application/vnd.jupyter.widget-view+json": {
       "model_id": "cd2601f166b54874ab747a2f817a949d",
       "version_major": 2,
       "version_minor": 0
      },
      "text/plain": [
       "HBox(children=(FloatProgress(value=1.0, bar_style='info', layout=Layout(width='20px'), max=1.0), HTML(value=''…"
      ]
     },
     "metadata": {},
     "output_type": "display_data"
    },
    {
     "name": "stdout",
     "output_type": "stream",
     "text": [
      "\n",
      "Total time for decomposition = 0.7908010482788086\n",
      "mesh_correspondence_first_pass: 0.7908329963684082\n",
      "Limb decomposed into 3 branches\n",
      "divided_skeleton_graph_recovered = (105, 2, 3) and \n",
      "current_mesh_data[0]['branch_skeletons_cleaned'].shape = (105, 2, 3)\n",
      "\n",
      "Number of connected components in deocmposed recovered graph = 1\n",
      "Number of connected components in cleaned skeleton graph= 1\n",
      "The downsampled branches number of connected components = 1\n",
      "Empty submeshes = []\n",
      "\n",
      "\n",
      "--- Working on 1-to-1 correspondence-----\n",
      "max(original_labels),len(original_labels) = (2, 3)\n",
      "empty_indices % = 0.07158517868888402\n",
      " conflict_indices % = 0.016991887743915808\n"
     ]
    },
    {
     "data": {
      "application/vnd.jupyter.widget-view+json": {
       "model_id": "32f48624f8c64dbba5f1ac15ea043248",
       "version_major": 2,
       "version_minor": 0
      },
      "text/plain": [
       "HBox(children=(FloatProgress(value=0.0, max=9.0), HTML(value='')))"
      ]
     },
     "metadata": {},
     "output_type": "display_data"
    },
    {
     "name": "stdout",
     "output_type": "stream",
     "text": [
      "\n",
      "AFTER face_lookup_resolved_test\n",
      "Took 0 iterations to expand the label back\n"
     ]
    },
    {
     "data": {
      "application/vnd.jupyter.widget-view+json": {
       "model_id": "7144d4ae2fba4ee89cd7347cf8faee4f",
       "version_major": 2,
       "version_minor": 0
      },
      "text/plain": [
       "HBox(children=(FloatProgress(value=0.0, max=3.0), HTML(value='')))"
      ]
     },
     "metadata": {},
     "output_type": "display_data"
    },
    {
     "name": "stdout",
     "output_type": "stream",
     "text": [
      "\n",
      "Total time for MAP sublimb #0 mesh processing = 12.541792392730713\n",
      "correspondence_1_to_1: 1.0675504207611084\n",
      "Total time for MAP sublimb processing 12.54198694229126\n",
      "***************Arrived at MESH PIECES FOR MAP AND mp***************\n",
      "---- Working on MP Decomposition #0 ----\n",
      "MP filtering soma verts: 0.004155158996582031\n",
      "Do Not Need to Fix MP Decomposition 0 so just continuing\n",
      "---- Working on MP Decomposition #1 ----\n",
      "MP filtering soma verts: 0.003074169158935547\n",
      "Do Not Need to Fix MP Decomposition 1 so just continuing\n",
      "\n",
      "---- Working on (0, 0) connection-----\n",
      "    ---- Working on vertex group 0-----\n",
      "winning_vertex = [590271.14012208 907263.58260447 847777.17896777]\n",
      "MP_branches_with_stitch_point = [2, 6]\n",
      "Current stitch point was a branch or endpoint\n",
      "MAP_branches_with_stitch_point = [2]\n",
      "MAP_stitch_point_on_end_or_branch = True\n"
     ]
    },
    {
     "data": {
      "application/vnd.jupyter.widget-view+json": {
       "model_id": "728bed98e9d44d2ebea200e74bc64465",
       "version_major": 2,
       "version_minor": 0
      },
      "text/plain": [
       "HBox(children=(FloatProgress(value=1.0, bar_style='info', layout=Layout(width='20px'), max=1.0), HTML(value=''…"
      ]
     },
     "metadata": {},
     "output_type": "display_data"
    },
    {
     "name": "stdout",
     "output_type": "stream",
     "text": [
      "\n",
      "\n",
      "\n",
      "--- Working on 1-to-1 correspondence-----\n",
      "max(original_labels),len(original_labels) = (2, 3)\n",
      "empty_indices % = 0.027018346782287525\n",
      " conflict_indices % = 0.015335822393512385\n"
     ]
    },
    {
     "data": {
      "application/vnd.jupyter.widget-view+json": {
       "model_id": "ebacb81ab01f4e81b27f4c6f2589f38d",
       "version_major": 2,
       "version_minor": 0
      },
      "text/plain": [
       "HBox(children=(FloatProgress(value=0.0, max=8.0), HTML(value='')))"
      ]
     },
     "metadata": {},
     "output_type": "display_data"
    },
    {
     "name": "stdout",
     "output_type": "stream",
     "text": [
      "\n",
      "AFTER face_lookup_resolved_test\n"
     ]
    },
    {
     "data": {
      "application/vnd.jupyter.widget-view+json": {
       "model_id": "0d3a5c434a614e78879a962730446b84",
       "version_major": 2,
       "version_minor": 0
      },
      "text/plain": [
       "HBox(children=(FloatProgress(value=0.0, max=3.0), HTML(value='')))"
      ]
     },
     "metadata": {},
     "output_type": "display_data"
    },
    {
     "name": "stdout",
     "output_type": "stream",
     "text": [
      "\n",
      " Finished with (0, 0) vertex group 0 \n",
      "\n",
      "\n",
      "\n",
      "\n",
      "---- Working on (1, 0) connection-----\n",
      "    ---- Working on vertex group 0-----\n",
      "winning_vertex = [579051.80648322 911648.3308827  820404.12429717]\n",
      "MP_branches_with_stitch_point = [1, 3]\n",
      "Current stitch point was a branch or endpoint\n",
      "MAP_branches_with_stitch_point = [0]\n",
      "MAP_stitch_point_on_end_or_branch = True\n"
     ]
    },
    {
     "data": {
      "application/vnd.jupyter.widget-view+json": {
       "model_id": "8c04fc8143ed4b008bc5c15ff569ea40",
       "version_major": 2,
       "version_minor": 0
      },
      "text/plain": [
       "HBox(children=(FloatProgress(value=1.0, bar_style='info', layout=Layout(width='20px'), max=1.0), HTML(value=''…"
      ]
     },
     "metadata": {},
     "output_type": "display_data"
    },
    {
     "name": "stdout",
     "output_type": "stream",
     "text": [
      "\n",
      "\n",
      "\n",
      "--- Working on 1-to-1 correspondence-----\n",
      "max(original_labels),len(original_labels) = (2, 3)\n",
      "empty_indices % = 0.10804731151585516\n",
      " conflict_indices % = 0.015093244321892461\n"
     ]
    },
    {
     "data": {
      "application/vnd.jupyter.widget-view+json": {
       "model_id": "4a805566b8d54be5b92624b87a531330",
       "version_major": 2,
       "version_minor": 0
      },
      "text/plain": [
       "HBox(children=(FloatProgress(value=0.0, max=5.0), HTML(value='')))"
      ]
     },
     "metadata": {},
     "output_type": "display_data"
    },
    {
     "name": "stdout",
     "output_type": "stream",
     "text": [
      "\n",
      "AFTER face_lookup_resolved_test\n"
     ]
    },
    {
     "data": {
      "application/vnd.jupyter.widget-view+json": {
       "model_id": "a880fa93234d432cac4bcb6d3bd23534",
       "version_major": 2,
       "version_minor": 0
      },
      "text/plain": [
       "HBox(children=(FloatProgress(value=0.0, max=3.0), HTML(value='')))"
      ]
     },
     "metadata": {},
     "output_type": "display_data"
    },
    {
     "name": "stderr",
     "output_type": "stream",
     "text": [
      "\r",
      "  0%|          | 0/1 [00:00<?, ?it/s]"
     ]
    },
    {
     "name": "stdout",
     "output_type": "stream",
     "text": [
      "\n",
      " Finished with (1, 0) vertex group 0 \n",
      "\n",
      "\n",
      "\n",
      "Time for decomp of Limb 6 = 20.352049350738525\n",
      "\n",
      "\n",
      "----- Working on Proper Limb #7 ---------\n",
      "Time for preparing soma vertices and root: 0.0002751350402832031\n",
      "smooth_neighborhood = 1\n"
     ]
    },
    {
     "data": {
      "application/vnd.jupyter.widget-view+json": {
       "model_id": "0c53b4be13754d28bf4e991be8e64346",
       "version_major": 2,
       "version_minor": 0
      },
      "text/plain": [
       "HBox(children=(FloatProgress(value=0.0, max=29599.0), HTML(value='')))"
      ]
     },
     "metadata": {},
     "output_type": "display_data"
    },
    {
     "name": "stderr",
     "output_type": "stream",
     "text": [
      "100%|██████████| 1/1 [00:00<00:00,  6.64it/s]\n"
     ]
    },
    {
     "name": "stdout",
     "output_type": "stream",
     "text": [
      "\n",
      "Time for 1st pass MP skeletonization: 0.4531426429748535\n",
      "branches_touching_root = [2]\n",
      "empty_indices % = 0.0\n",
      " conflict_indices % = 0.0027430196921722346\n"
     ]
    },
    {
     "data": {
      "application/vnd.jupyter.widget-view+json": {
       "model_id": "46fa0963902945ada0ef96f281d8f4cd",
       "version_major": 2,
       "version_minor": 0
      },
      "text/plain": [
       "HBox(children=(FloatProgress(value=0.0, max=2.0), HTML(value='')))"
      ]
     },
     "metadata": {},
     "output_type": "display_data"
    },
    {
     "name": "stdout",
     "output_type": "stream",
     "text": [
      "\n",
      "AFTER face_lookup_resolved_test\n"
     ]
    },
    {
     "data": {
      "application/vnd.jupyter.widget-view+json": {
       "model_id": "911b96d42770465a8be36cde61045087",
       "version_major": 2,
       "version_minor": 0
      },
      "text/plain": [
       "HBox(children=(FloatProgress(value=0.0, max=5.0), HTML(value='')))"
      ]
     },
     "metadata": {},
     "output_type": "display_data"
    },
    {
     "name": "stdout",
     "output_type": "stream",
     "text": [
      "\n",
      "Decomposing first pass: 0.8217718601226807\n",
      "Found len(mesh_large_idx) MAP candidates: [9740, 6019, 18034, 14165]\n",
      "mesh_large_connectivity: 0.01780533790588379\n",
      "Finding MAP candidates connected components: 0.00011157989501953125\n",
      "len(filtered_pieces) = 1\n",
      "skeleton_connectivity_MP : 0.036604881286621094\n",
      "Grouping MP Sublimbs by Graph: 0.005632877349853516\n",
      "Divinding into MP and MAP pieces: 2.1457672119140625e-06\n",
      "--- Working on MAP piece 0---\n",
      "MAP Filtering Soma Pieces: 0.0029010772705078125\n",
      "     Starting Screened Poisson\n",
      "xvfb-run -n 6428 -s \"-screen 0 800x600x24\" meshlabserver $@  -i /notebooks/Platinum_Decomp_Fusion/temp/None.off -o /notebooks/Platinum_Decomp_Fusion/temp/None_poisson.off -s /notebooks/Platinum_Decomp_Fusion/temp/poisson_694308.mls\n",
      "removed temporary input file: /notebooks/Platinum_Decomp_Fusion/temp/None.off\n",
      "removed temporary output file: /notebooks/Platinum_Decomp_Fusion/temp/None_poisson.off\n",
      "Using the close holes feature\n",
      "xvfb-run -n 2182 -s \"-screen 0 800x600x24\" meshlabserver $@  -i /notebooks/Platinum_Decomp_Fusion/temp/neuron_68690.off -o /notebooks/Platinum_Decomp_Fusion/temp/neuron_68690_fill_holes.off -s /notebooks/Platinum_Decomp_Fusion/temp/fill_holes_223170.mls\n",
      "removed temporary input file: /notebooks/Platinum_Decomp_Fusion/temp/neuron_68690.off\n",
      "removed temporary output file: /notebooks/Platinum_Decomp_Fusion/temp/neuron_68690_fill_holes.off\n",
      "-----Time for Screened Poisson= 17.027799606323242\n",
      "     Starting Calcification\n",
      "Before mesh subtraction number of skeleton edges = 550\n",
      "Inside mesh subtraction, len(main_mesh_bbox_restricted.faces) = 47958\n"
     ]
    },
    {
     "data": {
      "application/vnd.jupyter.widget-view+json": {
       "model_id": "e5de06666c054b1ba616f2d67e0f7204",
       "version_major": 2,
       "version_minor": 0
      },
      "text/plain": [
       "HBox(children=(FloatProgress(value=1.0, bar_style='info', layout=Layout(width='20px'), max=1.0), HTML(value=''…"
      ]
     },
     "metadata": {},
     "output_type": "display_data"
    },
    {
     "name": "stdout",
     "output_type": "stream",
     "text": [
      "\n",
      "Total Mesh subtraction time = 7.9237\n"
     ]
    },
    {
     "data": {
      "application/vnd.jupyter.widget-view+json": {
       "model_id": "7628acf8cf214717ae2e1e7e4caaf200",
       "version_major": 2,
       "version_minor": 0
      },
      "text/plain": [
       "HBox(children=(FloatProgress(value=0.0, max=9.0), HTML(value='')))"
      ]
     },
     "metadata": {},
     "output_type": "display_data"
    },
    {
     "name": "stdout",
     "output_type": "stream",
     "text": [
      "\n",
      "len_subgraphs AT BEGINNING of the loop\n"
     ]
    },
    {
     "data": {
      "application/vnd.jupyter.widget-view+json": {
       "model_id": "b68e3d07b75e4329a7c76661f7d4a312",
       "version_major": 2,
       "version_minor": 0
      },
      "text/plain": [
       "HBox(children=(FloatProgress(value=0.0), HTML(value='')))"
      ]
     },
     "metadata": {},
     "output_type": "display_data"
    },
    {
     "name": "stdout",
     "output_type": "stream",
     "text": [
      "all graph is one component!\n",
      "\n",
      "Total time for skeleton stitching = 0.09053587913513184\n",
      "The process was using a temp folder\n",
      "    Total time for skeletonizing branch: 29.33096694946289\n",
      "skipping soma 0 because closest skeleton node was already end node\n",
      "    Total time for Fixing Skeleton Soma Endpoint Extension : 1.7044637203216553\n",
      "filter_end_node_length = 4001\n",
      "Using Distance measure skeletal_distance\n",
      "Going to ignore certain endnodes that are 5000 nm close to soma border vertices\n",
      "Number of end_nodes BEFORE filtering = 88\n",
      "Using an already specified end node: 670 with index 87checking was correct node end_nodes[index] = 670\n",
      "May Eliminate end_node 87: 670 because path_len to soma border was 1512.8250776235693\n",
      "single_node_to_eliminate = 87\n",
      "all_single_nodes_to_eliminate = [87, 87]\n"
     ]
    },
    {
     "data": {
      "application/vnd.jupyter.widget-view+json": {
       "model_id": "ce9c6fad78474285987d011a38b4db06",
       "version_major": 2,
       "version_minor": 0
      },
      "text/plain": [
       "HBox(children=(FloatProgress(value=0.0, max=86.0), HTML(value='')))"
      ]
     },
     "metadata": {},
     "output_type": "display_data"
    },
    {
     "name": "stdout",
     "output_type": "stream",
     "text": [
      "\n",
      "********COMBINING CLOSE SKELETON NODES WITHIN 700 DISTANCE**********\n",
      "Found 0 valid paths to replace\n",
      "valid_paths = []\n",
      "valid_path_lengths = []\n",
      "No valid paths found so just returning the original\n",
      "skeletonize_and_clean_connected_branch_CGAL: 33.974278688430786\n",
      "Working on limb correspondence for #0 MAP piece\n"
     ]
    },
    {
     "data": {
      "application/vnd.jupyter.widget-view+json": {
       "model_id": "e1e7f5bc358a48d8ac891509f8a4060a",
       "version_major": 2,
       "version_minor": 0
      },
      "text/plain": [
       "HBox(children=(FloatProgress(value=1.0, bar_style='info', layout=Layout(width='20px'), max=1.0), HTML(value=''…"
      ]
     },
     "metadata": {},
     "output_type": "display_data"
    },
    {
     "name": "stdout",
     "output_type": "stream",
     "text": [
      "\n",
      "Total time for decomposition = 4.750147104263306\n",
      "mesh_correspondence_first_pass: 4.750177621841431\n",
      "Limb decomposed into 5 branches\n",
      "divided_skeleton_graph_recovered = (413, 2, 3) and \n",
      "current_mesh_data[0]['branch_skeletons_cleaned'].shape = (413, 2, 3)\n",
      "\n",
      "Number of connected components in deocmposed recovered graph = 1\n",
      "Number of connected components in cleaned skeleton graph= 1\n",
      "The downsampled branches number of connected components = 1\n",
      "Empty submeshes = []\n",
      "\n",
      "\n",
      "--- Working on 1-to-1 correspondence-----\n",
      "max(original_labels),len(original_labels) = (4, 5)\n",
      "empty_indices % = 0.03863797489469953\n",
      " conflict_indices % = 0.013511822844989366\n"
     ]
    },
    {
     "data": {
      "application/vnd.jupyter.widget-view+json": {
       "model_id": "bc6af2c52d8542eaa1d7b66b3ba8ee43",
       "version_major": 2,
       "version_minor": 0
      },
      "text/plain": [
       "HBox(children=(FloatProgress(value=0.0, max=19.0), HTML(value='')))"
      ]
     },
     "metadata": {},
     "output_type": "display_data"
    },
    {
     "name": "stdout",
     "output_type": "stream",
     "text": [
      "\n",
      "AFTER face_lookup_resolved_test\n",
      "Took 0 iterations to expand the label back\n"
     ]
    },
    {
     "data": {
      "application/vnd.jupyter.widget-view+json": {
       "model_id": "f68703d4a434480f8cdd3faef6bc9b69",
       "version_major": 2,
       "version_minor": 0
      },
      "text/plain": [
       "HBox(children=(FloatProgress(value=0.0, max=5.0), HTML(value='')))"
      ]
     },
     "metadata": {},
     "output_type": "display_data"
    },
    {
     "name": "stdout",
     "output_type": "stream",
     "text": [
      "\n",
      "Total time for MAP sublimb #0 mesh processing = 39.713645935058594\n",
      "correspondence_1_to_1: 0.9861598014831543\n",
      "Total time for MAP sublimb processing 39.7137610912323\n",
      "***************Arrived at MESH PIECES FOR MAP AND mp***************\n",
      "---- Working on MP Decomposition #0 ----\n",
      "MP filtering soma verts: 0.004675388336181641\n",
      "Do Not Need to Fix MP Decomposition 0 so just continuing\n",
      "\n",
      "---- Working on (0, 0) connection-----\n",
      "    ---- Working on vertex group 0-----\n",
      "winning_vertex = [414982.07629702 771703.96978555 751136.7806007 ]\n",
      "MP_branches_with_stitch_point = [0]\n",
      "Current stitch point was not a branch or endpoint, shortest_path_length to one = 24448.044142240095\n",
      "MAP_branches_with_stitch_point = [2]\n",
      "MAP_stitch_point_on_end_or_branch = False\n"
     ]
    },
    {
     "data": {
      "application/vnd.jupyter.widget-view+json": {
       "model_id": "19ebec06b5a549bc8969b5b860453f98",
       "version_major": 2,
       "version_minor": 0
      },
      "text/plain": [
       "HBox(children=(FloatProgress(value=1.0, bar_style='info', layout=Layout(width='20px'), max=1.0), HTML(value=''…"
      ]
     },
     "metadata": {},
     "output_type": "display_data"
    },
    {
     "name": "stderr",
     "output_type": "stream",
     "text": [
      "WARNING:trimesh:face_normals all zero, ignoring!\n",
      "WARNING:trimesh:face_normals all zero, ignoring!\n"
     ]
    },
    {
     "name": "stdout",
     "output_type": "stream",
     "text": [
      "\n",
      "\n",
      "\n",
      "--- Working on 1-to-1 correspondence-----\n",
      "max(original_labels),len(original_labels) = (2, 3)\n",
      "empty_indices % = 0.06484424666242848\n",
      " conflict_indices % = 0.011584375220738857\n"
     ]
    },
    {
     "data": {
      "application/vnd.jupyter.widget-view+json": {
       "model_id": "903f1f0863c84f79ab683c9de869656b",
       "version_major": 2,
       "version_minor": 0
      },
      "text/plain": [
       "HBox(children=(FloatProgress(value=0.0, max=14.0), HTML(value='')))"
      ]
     },
     "metadata": {},
     "output_type": "display_data"
    },
    {
     "name": "stdout",
     "output_type": "stream",
     "text": [
      "\n",
      "AFTER face_lookup_resolved_test\n"
     ]
    },
    {
     "data": {
      "application/vnd.jupyter.widget-view+json": {
       "model_id": "ef7d16c987944f1098adafe9dd477197",
       "version_major": 2,
       "version_minor": 0
      },
      "text/plain": [
       "HBox(children=(FloatProgress(value=0.0, max=3.0), HTML(value='')))"
      ]
     },
     "metadata": {},
     "output_type": "display_data"
    },
    {
     "name": "stderr",
     "output_type": "stream",
     "text": [
      "\r",
      "  0%|          | 0/1 [00:00<?, ?it/s]"
     ]
    },
    {
     "name": "stdout",
     "output_type": "stream",
     "text": [
      "\n",
      "Deleting branches from dictionary\n",
      " Finished with (0, 0) vertex group 0 \n",
      "\n",
      "\n",
      "\n",
      "Time for decomp of Limb 7 = 44.94949555397034\n",
      "\n",
      "\n",
      "----- Working on Proper Limb #8 ---------\n",
      "Time for preparing soma vertices and root: 0.00029730796813964844\n",
      "smooth_neighborhood = 1\n"
     ]
    },
    {
     "data": {
      "application/vnd.jupyter.widget-view+json": {
       "model_id": "250d1a90e3fd4de585f8c37ce9134423",
       "version_major": 2,
       "version_minor": 0
      },
      "text/plain": [
       "HBox(children=(FloatProgress(value=0.0, max=16659.0), HTML(value='')))"
      ]
     },
     "metadata": {},
     "output_type": "display_data"
    },
    {
     "name": "stderr",
     "output_type": "stream",
     "text": [
      "100%|██████████| 1/1 [00:00<00:00,  4.35it/s]"
     ]
    },
    {
     "name": "stdout",
     "output_type": "stream",
     "text": [
      "\n",
      "Time for 1st pass MP skeletonization: 0.43680381774902344\n",
      "branches_touching_root = [5]\n"
     ]
    },
    {
     "name": "stderr",
     "output_type": "stream",
     "text": [
      "\n"
     ]
    },
    {
     "name": "stdout",
     "output_type": "stream",
     "text": [
      "empty_indices % = 0.0\n",
      " conflict_indices % = 0.019207069644413717\n"
     ]
    },
    {
     "data": {
      "application/vnd.jupyter.widget-view+json": {
       "model_id": "684c4f7f0e5545cbb4447172c36f5928",
       "version_major": 2,
       "version_minor": 0
      },
      "text/plain": [
       "HBox(children=(FloatProgress(value=0.0, max=11.0), HTML(value='')))"
      ]
     },
     "metadata": {},
     "output_type": "display_data"
    },
    {
     "name": "stdout",
     "output_type": "stream",
     "text": [
      "\n",
      "AFTER face_lookup_resolved_test\n"
     ]
    },
    {
     "data": {
      "application/vnd.jupyter.widget-view+json": {
       "model_id": "552844ddbce647d0888e3b1863de5353",
       "version_major": 2,
       "version_minor": 0
      },
      "text/plain": [
       "HBox(children=(FloatProgress(value=0.0, max=27.0), HTML(value='')))"
      ]
     },
     "metadata": {},
     "output_type": "display_data"
    },
    {
     "name": "stdout",
     "output_type": "stream",
     "text": [
      "\n",
      "Decomposing first pass: 0.7351508140563965\n",
      "Found len(mesh_large_idx) MAP candidates: [199, 2773]\n",
      "mesh_large_connectivity: 0.0013320446014404297\n",
      "Finding MAP candidates connected components: 9.72747802734375e-05\n",
      "len(filtered_pieces) = 1\n",
      "skeleton_connectivity_MP : 0.14129114151000977\n",
      "Grouping MP Sublimbs by Graph: 0.0257871150970459\n",
      "Divinding into MP and MAP pieces: 1.6689300537109375e-06\n",
      "--- Working on MAP piece 0---\n",
      "MAP Filtering Soma Pieces: 0.0015079975128173828\n",
      "     Starting Screened Poisson\n",
      "xvfb-run -n 6698 -s \"-screen 0 800x600x24\" meshlabserver $@  -i /notebooks/Platinum_Decomp_Fusion/temp/None.off -o /notebooks/Platinum_Decomp_Fusion/temp/None_poisson.off -s /notebooks/Platinum_Decomp_Fusion/temp/poisson_631267.mls\n",
      "removed temporary input file: /notebooks/Platinum_Decomp_Fusion/temp/None.off\n",
      "removed temporary output file: /notebooks/Platinum_Decomp_Fusion/temp/None_poisson.off\n",
      "Using the close holes feature\n",
      "xvfb-run -n 4803 -s \"-screen 0 800x600x24\" meshlabserver $@  -i /notebooks/Platinum_Decomp_Fusion/temp/neuron_88678.off -o /notebooks/Platinum_Decomp_Fusion/temp/neuron_88678_fill_holes.off -s /notebooks/Platinum_Decomp_Fusion/temp/fill_holes_911682.mls\n",
      "removed temporary input file: /notebooks/Platinum_Decomp_Fusion/temp/neuron_88678.off\n",
      "removed temporary output file: /notebooks/Platinum_Decomp_Fusion/temp/neuron_88678_fill_holes.off\n",
      "-----Time for Screened Poisson= 6.020096063613892\n",
      "     Starting Calcification\n",
      "Before mesh subtraction number of skeleton edges = 32\n",
      "Inside mesh subtraction, len(main_mesh_bbox_restricted.faces) = 2523\n"
     ]
    },
    {
     "data": {
      "application/vnd.jupyter.widget-view+json": {
       "model_id": "a094b9aedbd747abb54ea0101c043e7e",
       "version_major": 2,
       "version_minor": 0
      },
      "text/plain": [
       "HBox(children=(FloatProgress(value=1.0, bar_style='info', layout=Layout(width='20px'), max=1.0), HTML(value=''…"
      ]
     },
     "metadata": {},
     "output_type": "display_data"
    },
    {
     "name": "stdout",
     "output_type": "stream",
     "text": [
      "\n",
      "Total Mesh subtraction time = 0.1546\n"
     ]
    },
    {
     "data": {
      "application/vnd.jupyter.widget-view+json": {
       "model_id": "9b56e11021ce4a78892255ac85bc27fd",
       "version_major": 2,
       "version_minor": 0
      },
      "text/plain": [
       "HBox(children=(FloatProgress(value=1.0, bar_style='info', layout=Layout(width='20px'), max=1.0), HTML(value=''…"
      ]
     },
     "metadata": {},
     "output_type": "display_data"
    },
    {
     "name": "stdout",
     "output_type": "stream",
     "text": [
      "\n",
      "No skeletons to stack so returning empty list\n",
      "len_subgraphs AT BEGINNING of the loop\n"
     ]
    },
    {
     "data": {
      "application/vnd.jupyter.widget-view+json": {
       "model_id": "47547cddcf024143b8088c47e8ebe1d8",
       "version_major": 2,
       "version_minor": 0
      },
      "text/plain": [
       "HBox(children=(FloatProgress(value=0.0, max=1.0), HTML(value='')))"
      ]
     },
     "metadata": {},
     "output_type": "display_data"
    },
    {
     "name": "stdout",
     "output_type": "stream",
     "text": [
      "all graph is one component!\n",
      "\n",
      "Total time for skeleton stitching = 0.02126765251159668\n",
      "The process was using a temp folder\n",
      "    Total time for skeletonizing branch: 6.584146738052368\n",
      "    Total time for Fixing Skeleton Soma Endpoint Extension : 2.86102294921875e-06\n",
      "filter_end_node_length = 4001\n",
      "Using Distance measure skeletal_distance\n",
      "Going to ignore certain endnodes that are 5000 nm close to soma border vertices\n",
      "Number of end_nodes BEFORE filtering = 2\n",
      "May Eliminate end_node 0: 0 because path_len to soma border was 778.2781635629092\n",
      "single_node_to_eliminate = 0\n",
      "May Eliminate end_node 1: 31 because path_len to soma border was 2083.8219486904513\n",
      "single_node_to_eliminate = 1\n",
      "May Eliminate end_node 0: 0 because path_len to soma border was 778.2781635629092\n",
      "single_node_to_eliminate = 0\n",
      "May Eliminate end_node 0: 0 because path_len to soma border was 778.2781635629092\n",
      "single_node_to_eliminate = 0\n",
      "May Eliminate end_node 0: 0 because path_len to soma border was 778.2781635629092\n",
      "single_node_to_eliminate = 0\n",
      "May Eliminate end_node 1: 31 because path_len to soma border was 2083.8219486904513\n",
      "single_node_to_eliminate = 1\n",
      "May Eliminate end_node 1: 31 because path_len to soma border was 2083.8219486904513\n",
      "single_node_to_eliminate = 1\n",
      "May Eliminate end_node 0: 0 because path_len to soma border was 778.2781635629092\n",
      "single_node_to_eliminate = 0\n",
      "May Eliminate end_node 0: 0 because path_len to soma border was 778.2781635629092\n",
      "single_node_to_eliminate = 0\n",
      "May Eliminate end_node 1: 31 because path_len to soma border was 2083.8219486904513\n",
      "single_node_to_eliminate = 1\n",
      "May Eliminate end_node 1: 31 because path_len to soma border was 2083.8219486904513\n",
      "single_node_to_eliminate = 1\n",
      "May Eliminate end_node 1: 31 because path_len to soma border was 2083.8219486904513\n",
      "single_node_to_eliminate = 1\n",
      "all_single_nodes_to_eliminate = [0, 1, 0, 0, 0, 1, 1, 0, 0, 1, 1, 1]\n",
      "no small end nodes to get rid of so returning whole skeleton\n",
      "********COMBINING CLOSE SKELETON NODES WITHIN 700 DISTANCE**********\n",
      "Found 0 valid paths to replace\n",
      "valid_paths = []\n",
      "valid_path_lengths = []\n",
      "No valid paths found so just returning the original\n",
      "skeletonize_and_clean_connected_branch_CGAL: 6.797260284423828\n",
      "Working on limb correspondence for #0 MAP piece\n"
     ]
    },
    {
     "data": {
      "application/vnd.jupyter.widget-view+json": {
       "model_id": "be00f8e31939478f9589d26a8e2da071",
       "version_major": 2,
       "version_minor": 0
      },
      "text/plain": [
       "HBox(children=(FloatProgress(value=1.0, bar_style='info', layout=Layout(width='20px'), max=1.0), HTML(value=''…"
      ]
     },
     "metadata": {},
     "output_type": "display_data"
    },
    {
     "name": "stdout",
     "output_type": "stream",
     "text": [
      "\n",
      "Total time for decomposition = 0.21636128425598145\n",
      "mesh_correspondence_first_pass: 0.21640229225158691\n",
      "Limb decomposed into 1 branches\n",
      "divided_skeleton_graph_recovered = (31, 2, 3) and \n",
      "current_mesh_data[0]['branch_skeletons_cleaned'].shape = (31, 2, 3)\n",
      "\n",
      "Number of connected components in deocmposed recovered graph = 1\n",
      "Number of connected components in cleaned skeleton graph= 1\n",
      "The downsampled branches number of connected components = 1\n",
      "Empty submeshes = []\n",
      "\n",
      "\n",
      "--- Working on 1-to-1 correspondence-----\n",
      "max(original_labels),len(original_labels) = (0, 1)\n",
      "empty_indices % = 0.16408222142084386\n",
      " conflict_indices % = 0.0\n"
     ]
    },
    {
     "data": {
      "application/vnd.jupyter.widget-view+json": {
       "model_id": "aad13048e4a44f65bb408ff4941f9204",
       "version_major": 2,
       "version_minor": 0
      },
      "text/plain": [
       "HBox(children=(FloatProgress(value=0.0, max=2.0), HTML(value='')))"
      ]
     },
     "metadata": {},
     "output_type": "display_data"
    },
    {
     "name": "stdout",
     "output_type": "stream",
     "text": [
      "\n",
      "AFTER face_lookup_resolved_test\n"
     ]
    },
    {
     "data": {
      "application/vnd.jupyter.widget-view+json": {
       "model_id": "b3e79aa8690d4972af05db376187ee1e",
       "version_major": 2,
       "version_minor": 0
      },
      "text/plain": [
       "HBox(children=(FloatProgress(value=0.0, max=1.0), HTML(value='')))"
      ]
     },
     "metadata": {},
     "output_type": "display_data"
    },
    {
     "name": "stdout",
     "output_type": "stream",
     "text": [
      "\n",
      "Total time for MAP sublimb #0 mesh processing = 7.10987114906311\n",
      "correspondence_1_to_1: 0.0946812629699707\n",
      "Total time for MAP sublimb processing 7.10996150970459\n",
      "***************Arrived at MESH PIECES FOR MAP AND mp***************\n",
      "---- Working on MP Decomposition #0 ----\n",
      "MP filtering soma verts: 0.004467487335205078\n",
      "Fixing Possible Soma Extension Branch for Sublimb 0\n",
      "skipping soma 0 because closest skeleton node was already end node\n",
      "MP (because soma touching verts) create_soma_extending_branches: 1.8010101318359375\n",
      "No soma extending branch was added for this sublimb even though it had a soma border (means they already existed)\n",
      "MP (because soma touching verts) soma extension add: 2.6464462280273438e-05\n",
      "\n",
      "---- Working on (0, 0) connection-----\n",
      "    ---- Working on vertex group 0-----\n",
      "winning_vertex = [483442.11198086 847620.0619628  812869.31462227]\n",
      "MP_branches_with_stitch_point = [16, 24]\n",
      "Current stitch point was a branch or endpoint\n",
      "MAP_branches_with_stitch_point = [0]\n",
      "MAP_stitch_point_on_end_or_branch = True\n"
     ]
    },
    {
     "data": {
      "application/vnd.jupyter.widget-view+json": {
       "model_id": "06af0f780d284d0b9cb7b50b321d1ed1",
       "version_major": 2,
       "version_minor": 0
      },
      "text/plain": [
       "HBox(children=(FloatProgress(value=1.0, bar_style='info', layout=Layout(width='20px'), max=1.0), HTML(value=''…"
      ]
     },
     "metadata": {},
     "output_type": "display_data"
    },
    {
     "name": "stdout",
     "output_type": "stream",
     "text": [
      "\n",
      "\n",
      "\n",
      "--- Working on 1-to-1 correspondence-----\n",
      "max(original_labels),len(original_labels) = (2, 3)\n",
      "empty_indices % = 0.14409459645263303\n",
      " conflict_indices % = 0.002199917503093634\n"
     ]
    },
    {
     "data": {
      "application/vnd.jupyter.widget-view+json": {
       "model_id": "7fd732bc067b4cf5a8514b47f4e933af",
       "version_major": 2,
       "version_minor": 0
      },
      "text/plain": [
       "HBox(children=(FloatProgress(value=0.0, max=7.0), HTML(value='')))"
      ]
     },
     "metadata": {},
     "output_type": "display_data"
    },
    {
     "name": "stdout",
     "output_type": "stream",
     "text": [
      "\n",
      "AFTER face_lookup_resolved_test\n"
     ]
    },
    {
     "data": {
      "application/vnd.jupyter.widget-view+json": {
       "model_id": "d6ac974f575140d099d179d95df911d2",
       "version_major": 2,
       "version_minor": 0
      },
      "text/plain": [
       "HBox(children=(FloatProgress(value=0.0, max=3.0), HTML(value='')))"
      ]
     },
     "metadata": {},
     "output_type": "display_data"
    },
    {
     "name": "stderr",
     "output_type": "stream",
     "text": [
      "\r",
      "  0%|          | 0/1 [00:00<?, ?it/s]"
     ]
    },
    {
     "name": "stdout",
     "output_type": "stream",
     "text": [
      "\n",
      " Finished with (0, 0) vertex group 0 \n",
      "\n",
      "\n",
      "\n",
      "Time for decomp of Limb 8 = 11.986992359161377\n",
      "\n",
      "\n",
      "----- Working on Proper Limb #9 ---------\n",
      "Time for preparing soma vertices and root: 0.0009205341339111328\n",
      "smooth_neighborhood = 1\n"
     ]
    },
    {
     "data": {
      "application/vnd.jupyter.widget-view+json": {
       "model_id": "e2b8eddba9664dd48cb7c6220bd1d1eb",
       "version_major": 2,
       "version_minor": 0
      },
      "text/plain": [
       "HBox(children=(FloatProgress(value=0.0, max=5879.0), HTML(value='')))"
      ]
     },
     "metadata": {},
     "output_type": "display_data"
    },
    {
     "name": "stderr",
     "output_type": "stream",
     "text": [
      "\r",
      "100%|██████████| 1/1 [00:00<00:00, 14.22it/s]"
     ]
    },
    {
     "name": "stdout",
     "output_type": "stream",
     "text": [
      "\n",
      "Time for 1st pass MP skeletonization: 0.17694854736328125\n",
      "branches_touching_root = [1]\n"
     ]
    },
    {
     "name": "stderr",
     "output_type": "stream",
     "text": [
      "\n"
     ]
    },
    {
     "name": "stdout",
     "output_type": "stream",
     "text": [
      "empty_indices % = 0.0\n",
      " conflict_indices % = 0.004690031551121344\n"
     ]
    },
    {
     "data": {
      "application/vnd.jupyter.widget-view+json": {
       "model_id": "789e05407b024053986a25ccd6c917c4",
       "version_major": 2,
       "version_minor": 0
      },
      "text/plain": [
       "HBox(children=(FloatProgress(value=0.0, max=1.0), HTML(value='')))"
      ]
     },
     "metadata": {},
     "output_type": "display_data"
    },
    {
     "name": "stdout",
     "output_type": "stream",
     "text": [
      "\n",
      "AFTER face_lookup_resolved_test\n"
     ]
    },
    {
     "data": {
      "application/vnd.jupyter.widget-view+json": {
       "model_id": "b3b2972bc94b448085ed1d77fdf344e2",
       "version_major": 2,
       "version_minor": 0
      },
      "text/plain": [
       "HBox(children=(FloatProgress(value=0.0, max=3.0), HTML(value='')))"
      ]
     },
     "metadata": {},
     "output_type": "display_data"
    },
    {
     "name": "stdout",
     "output_type": "stream",
     "text": [
      "\n",
      "Decomposing first pass: 0.2478780746459961\n",
      "Found len(mesh_large_idx) MAP candidates: [1400, 3362]\n",
      "mesh_large_connectivity: 0.0017743110656738281\n",
      "Finding MAP candidates connected components: 9.131431579589844e-05\n",
      "len(filtered_pieces) = 1\n",
      "skeleton_connectivity_MP : 0.03698110580444336\n",
      "Grouping MP Sublimbs by Graph: 0.003996610641479492\n",
      "Divinding into MP and MAP pieces: 2.384185791015625e-06\n",
      "--- Working on MAP piece 0---\n",
      "MAP Filtering Soma Pieces: 0.003789663314819336\n",
      "     Starting Screened Poisson\n",
      "xvfb-run -n 3835 -s \"-screen 0 800x600x24\" meshlabserver $@  -i /notebooks/Platinum_Decomp_Fusion/temp/None.off -o /notebooks/Platinum_Decomp_Fusion/temp/None_poisson.off -s /notebooks/Platinum_Decomp_Fusion/temp/poisson_317607.mls\n",
      "removed temporary input file: /notebooks/Platinum_Decomp_Fusion/temp/None.off\n",
      "removed temporary output file: /notebooks/Platinum_Decomp_Fusion/temp/None_poisson.off\n",
      "Using the close holes feature\n",
      "xvfb-run -n 3430 -s \"-screen 0 800x600x24\" meshlabserver $@  -i /notebooks/Platinum_Decomp_Fusion/temp/neuron_65112.off -o /notebooks/Platinum_Decomp_Fusion/temp/neuron_65112_fill_holes.off -s /notebooks/Platinum_Decomp_Fusion/temp/fill_holes_719151.mls\n",
      "removed temporary input file: /notebooks/Platinum_Decomp_Fusion/temp/neuron_65112.off\n",
      "removed temporary output file: /notebooks/Platinum_Decomp_Fusion/temp/neuron_65112_fill_holes.off\n",
      "-----Time for Screened Poisson= 7.379433870315552\n",
      "     Starting Calcification\n",
      "Before mesh subtraction number of skeleton edges = 73\n",
      "Inside mesh subtraction, len(main_mesh_bbox_restricted.faces) = 4742\n"
     ]
    },
    {
     "data": {
      "application/vnd.jupyter.widget-view+json": {
       "model_id": "6e3a409e35764dd99d9155c6c25c9c4f",
       "version_major": 2,
       "version_minor": 0
      },
      "text/plain": [
       "HBox(children=(FloatProgress(value=1.0, bar_style='info', layout=Layout(width='20px'), max=1.0), HTML(value=''…"
      ]
     },
     "metadata": {},
     "output_type": "display_data"
    },
    {
     "name": "stdout",
     "output_type": "stream",
     "text": [
      "\n",
      "Total Mesh subtraction time = 0.3521\n"
     ]
    },
    {
     "data": {
      "application/vnd.jupyter.widget-view+json": {
       "model_id": "db8fe29e08af45dc91e046763e31e819",
       "version_major": 2,
       "version_minor": 0
      },
      "text/plain": [
       "HBox(children=(FloatProgress(value=1.0, bar_style='info', layout=Layout(width='20px'), max=1.0), HTML(value=''…"
      ]
     },
     "metadata": {},
     "output_type": "display_data"
    },
    {
     "name": "stdout",
     "output_type": "stream",
     "text": [
      "\n",
      "No skeletons to stack so returning empty list\n",
      "len_subgraphs AT BEGINNING of the loop\n"
     ]
    },
    {
     "data": {
      "application/vnd.jupyter.widget-view+json": {
       "model_id": "5bff3d624a3247d2b6190f6b1a438ccd",
       "version_major": 2,
       "version_minor": 0
      },
      "text/plain": [
       "HBox(children=(FloatProgress(value=0.0, max=2.0), HTML(value='')))"
      ]
     },
     "metadata": {},
     "output_type": "display_data"
    },
    {
     "name": "stdout",
     "output_type": "stream",
     "text": [
      "all graph is one component!\n",
      "\n",
      "Total time for skeleton stitching = 0.030535221099853516\n",
      "The process was using a temp folder\n",
      "    Total time for skeletonizing branch: 8.421848773956299\n",
      "skipping soma 1 because closest skeleton node was already end node\n",
      "    Total time for Fixing Skeleton Soma Endpoint Extension : 0.2030341625213623\n",
      "filter_end_node_length = 4001\n",
      "Using Distance measure skeletal_distance\n",
      "Going to ignore certain endnodes that are 5000 nm close to soma border vertices\n",
      "Number of end_nodes BEFORE filtering = 4\n",
      "Using an already specified end node: 52 with index 3checking was correct node end_nodes[index] = 52\n",
      "May Eliminate end_node 3: 52 because path_len to soma border was 1876.878457698904\n",
      "single_node_to_eliminate = 3\n",
      "all_single_nodes_to_eliminate = [3, 3]\n"
     ]
    },
    {
     "data": {
      "application/vnd.jupyter.widget-view+json": {
       "model_id": "ef95baf481d74ed699a0c0acbdabded1",
       "version_major": 2,
       "version_minor": 0
      },
      "text/plain": [
       "HBox(children=(FloatProgress(value=0.0, max=3.0), HTML(value='')))"
      ]
     },
     "metadata": {},
     "output_type": "display_data"
    },
    {
     "name": "stdout",
     "output_type": "stream",
     "text": [
      "\n",
      "********COMBINING CLOSE SKELETON NODES WITHIN 700 DISTANCE**********\n",
      "Found 0 valid paths to replace\n",
      "valid_paths = []\n",
      "valid_path_lengths = []\n",
      "No valid paths found so just returning the original\n",
      "skeletonize_and_clean_connected_branch_CGAL: 8.7304368019104\n",
      "Working on limb correspondence for #0 MAP piece\n"
     ]
    },
    {
     "data": {
      "application/vnd.jupyter.widget-view+json": {
       "model_id": "a31adb1d740c45fcbb0235e35aad65e0",
       "version_major": 2,
       "version_minor": 0
      },
      "text/plain": [
       "HBox(children=(FloatProgress(value=1.0, bar_style='info', layout=Layout(width='20px'), max=1.0), HTML(value=''…"
      ]
     },
     "metadata": {},
     "output_type": "display_data"
    },
    {
     "name": "stdout",
     "output_type": "stream",
     "text": [
      "\n",
      "Total time for decomposition = 0.41329288482666016\n",
      "mesh_correspondence_first_pass: 0.41332459449768066\n",
      "Limb decomposed into 1 branches\n",
      "divided_skeleton_graph_recovered = (70, 2, 3) and \n",
      "current_mesh_data[0]['branch_skeletons_cleaned'].shape = (70, 2, 3)\n",
      "\n",
      "Number of connected components in deocmposed recovered graph = 1\n",
      "Number of connected components in cleaned skeleton graph= 1\n",
      "The downsampled branches number of connected components = 1\n",
      "Empty submeshes = []\n",
      "\n",
      "\n",
      "--- Working on 1-to-1 correspondence-----\n",
      "max(original_labels),len(original_labels) = (0, 1)\n",
      "empty_indices % = 0.12179756404871903\n",
      " conflict_indices % = 0.0\n"
     ]
    },
    {
     "data": {
      "application/vnd.jupyter.widget-view+json": {
       "model_id": "885eaf85faba44a38fee69b72c7a8009",
       "version_major": 2,
       "version_minor": 0
      },
      "text/plain": [
       "HBox(children=(FloatProgress(value=0.0, max=2.0), HTML(value='')))"
      ]
     },
     "metadata": {},
     "output_type": "display_data"
    },
    {
     "name": "stdout",
     "output_type": "stream",
     "text": [
      "\n",
      "AFTER face_lookup_resolved_test\n",
      "Took 0 iterations to expand the label back\n"
     ]
    },
    {
     "data": {
      "application/vnd.jupyter.widget-view+json": {
       "model_id": "dbd995679bf042a9940e750aeedae820",
       "version_major": 2,
       "version_minor": 0
      },
      "text/plain": [
       "HBox(children=(FloatProgress(value=0.0, max=1.0), HTML(value='')))"
      ]
     },
     "metadata": {},
     "output_type": "display_data"
    },
    {
     "name": "stdout",
     "output_type": "stream",
     "text": [
      "\n",
      "Total time for MAP sublimb #0 mesh processing = 9.300288200378418\n",
      "correspondence_1_to_1: 0.15271544456481934\n",
      "Total time for MAP sublimb processing 9.300382614135742\n",
      "***************Arrived at MESH PIECES FOR MAP AND mp***************\n",
      "---- Working on MP Decomposition #0 ----\n",
      "MP filtering soma verts: 0.0032820701599121094\n",
      "Do Not Need to Fix MP Decomposition 0 so just continuing\n",
      "\n",
      "---- Working on (0, 0) connection-----\n",
      "    ---- Working on vertex group 0-----\n",
      "winning_vertex = [593198.92919895 874730.04617672 843312.21573988]\n",
      "MP_branches_with_stitch_point = [0]\n",
      "Current stitch point was not a branch or endpoint, shortest_path_length to one = 7330.13730227688\n",
      "MAP_branches_with_stitch_point = [0]\n",
      "MAP_stitch_point_on_end_or_branch = False\n"
     ]
    },
    {
     "data": {
      "application/vnd.jupyter.widget-view+json": {
       "model_id": "6277042e31a147e5868467aa75527126",
       "version_major": 2,
       "version_minor": 0
      },
      "text/plain": [
       "HBox(children=(FloatProgress(value=1.0, bar_style='info', layout=Layout(width='20px'), max=1.0), HTML(value=''…"
      ]
     },
     "metadata": {},
     "output_type": "display_data"
    },
    {
     "name": "stdout",
     "output_type": "stream",
     "text": [
      "\n",
      "\n",
      "\n",
      "--- Working on 1-to-1 correspondence-----\n",
      "max(original_labels),len(original_labels) = (2, 3)\n",
      "empty_indices % = 0.06796282084079475\n",
      " conflict_indices % = 0.006310224268781445\n"
     ]
    },
    {
     "data": {
      "application/vnd.jupyter.widget-view+json": {
       "model_id": "8473e576f25c4679ad8d34511d605bbb",
       "version_major": 2,
       "version_minor": 0
      },
      "text/plain": [
       "HBox(children=(FloatProgress(value=0.0, max=7.0), HTML(value='')))"
      ]
     },
     "metadata": {},
     "output_type": "display_data"
    },
    {
     "name": "stdout",
     "output_type": "stream",
     "text": [
      "\n",
      "AFTER face_lookup_resolved_test\n"
     ]
    },
    {
     "data": {
      "application/vnd.jupyter.widget-view+json": {
       "model_id": "431b07415e7447d1b915cb8cf4d1686d",
       "version_major": 2,
       "version_minor": 0
      },
      "text/plain": [
       "HBox(children=(FloatProgress(value=0.0, max=3.0), HTML(value='')))"
      ]
     },
     "metadata": {},
     "output_type": "display_data"
    },
    {
     "name": "stdout",
     "output_type": "stream",
     "text": [
      "\n",
      "Deleting branches from dictionary\n",
      " Finished with (0, 0) vertex group 0 \n",
      "\n",
      "\n",
      "\n",
      "Time for decomp of Limb 9 = 11.782154083251953\n",
      "\n",
      "\n",
      "----- Working on Proper Limb #10 ---------\n",
      "Time for preparing soma vertices and root: 0.00028705596923828125\n"
     ]
    },
    {
     "name": "stderr",
     "output_type": "stream",
     "text": [
      "\r",
      "  0%|          | 0/1 [00:00<?, ?it/s]"
     ]
    },
    {
     "name": "stdout",
     "output_type": "stream",
     "text": [
      "smooth_neighborhood = 1\n"
     ]
    },
    {
     "data": {
      "application/vnd.jupyter.widget-view+json": {
       "model_id": "947273a0ce4c4f909e1093034351654b",
       "version_major": 2,
       "version_minor": 0
      },
      "text/plain": [
       "HBox(children=(FloatProgress(value=0.0, max=4431.0), HTML(value='')))"
      ]
     },
     "metadata": {},
     "output_type": "display_data"
    },
    {
     "name": "stderr",
     "output_type": "stream",
     "text": [
      "\r",
      "100%|██████████| 1/1 [00:00<00:00, 14.91it/s]"
     ]
    },
    {
     "name": "stdout",
     "output_type": "stream",
     "text": [
      "\n",
      "Time for 1st pass MP skeletonization: 0.17672085762023926\n",
      "branches_touching_root = [2]\n"
     ]
    },
    {
     "name": "stderr",
     "output_type": "stream",
     "text": [
      "\n"
     ]
    },
    {
     "name": "stdout",
     "output_type": "stream",
     "text": [
      "empty_indices % = 0.0\n",
      " conflict_indices % = 0.008525633738774583\n"
     ]
    },
    {
     "data": {
      "application/vnd.jupyter.widget-view+json": {
       "model_id": "8aa34e5d2a434198a232535adfa1dc8b",
       "version_major": 2,
       "version_minor": 0
      },
      "text/plain": [
       "HBox(children=(FloatProgress(value=0.0, max=2.0), HTML(value='')))"
      ]
     },
     "metadata": {},
     "output_type": "display_data"
    },
    {
     "name": "stdout",
     "output_type": "stream",
     "text": [
      "\n",
      "AFTER face_lookup_resolved_test\n"
     ]
    },
    {
     "data": {
      "application/vnd.jupyter.widget-view+json": {
       "model_id": "22f9671331ed46a1ac27b9deb193f1af",
       "version_major": 2,
       "version_minor": 0
      },
      "text/plain": [
       "HBox(children=(FloatProgress(value=0.0, max=5.0), HTML(value='')))"
      ]
     },
     "metadata": {},
     "output_type": "display_data"
    },
    {
     "name": "stdout",
     "output_type": "stream",
     "text": [
      "\n",
      "Decomposing first pass: 0.26282691955566406\n",
      "Divinding into MP and MAP pieces: 5.030632019042969e-05\n",
      "Total time for MAP sublimb processing 5.4836273193359375e-06\n",
      "***************Arrived at MESH PIECES FOR MAP AND mp***************\n",
      "---- Working on MP Decomposition #0 ----\n",
      "Using Quicker soma_to_piece_touching_vertices because no MAP and only one sublimb_mesh piece \n",
      "MP filtering soma verts: 8.654594421386719e-05\n",
      "Fixing Possible Soma Extension Branch for Sublimb 0\n"
     ]
    },
    {
     "name": "stderr",
     "output_type": "stream",
     "text": [
      "\r",
      "  0%|          | 0/1 [00:00<?, ?it/s]"
     ]
    },
    {
     "name": "stdout",
     "output_type": "stream",
     "text": [
      "skipping soma 1 because closest skeleton node was already end node\n",
      "MP (because soma touching verts) create_soma_extending_branches: 0.39870786666870117\n",
      "No soma extending branch was added for this sublimb even though it had a soma border (means they already existed)\n",
      "MP (because soma touching verts) soma extension add: 2.9802322387695312e-05\n",
      "There were not both MAP and MP pieces so skipping the stitch resolving phase\n",
      "Time for decomp of Limb 10 = 0.8392515182495117\n",
      "\n",
      "\n",
      "----- Working on Proper Limb #11 ---------\n",
      "Time for preparing soma vertices and root: 0.00036716461181640625\n",
      "smooth_neighborhood = 1\n"
     ]
    },
    {
     "data": {
      "application/vnd.jupyter.widget-view+json": {
       "model_id": "bb16a576c2bf405d866ba384c5646b6f",
       "version_major": 2,
       "version_minor": 0
      },
      "text/plain": [
       "HBox(children=(FloatProgress(value=0.0, max=3263.0), HTML(value='')))"
      ]
     },
     "metadata": {},
     "output_type": "display_data"
    },
    {
     "name": "stderr",
     "output_type": "stream",
     "text": [
      "\r",
      "100%|██████████| 1/1 [00:00<00:00, 18.27it/s]"
     ]
    },
    {
     "name": "stdout",
     "output_type": "stream",
     "text": [
      "\n",
      "Time for 1st pass MP skeletonization: 0.12070775032043457\n",
      "branches_touching_root = [0]\n",
      "empty_indices % = 0.0\n",
      " conflict_indices % = 0.0\n"
     ]
    },
    {
     "name": "stderr",
     "output_type": "stream",
     "text": [
      "\n"
     ]
    },
    {
     "data": {
      "application/vnd.jupyter.widget-view+json": {
       "model_id": "a014f0eec10b411f9dbdb891c520fcd4",
       "version_major": 2,
       "version_minor": 0
      },
      "text/plain": [
       "HBox(children=(FloatProgress(value=1.0, bar_style='info', layout=Layout(width='20px'), max=1.0), HTML(value=''…"
      ]
     },
     "metadata": {},
     "output_type": "display_data"
    },
    {
     "name": "stdout",
     "output_type": "stream",
     "text": [
      "\n",
      "AFTER face_lookup_resolved_test\n"
     ]
    },
    {
     "data": {
      "application/vnd.jupyter.widget-view+json": {
       "model_id": "414f77ff91484eba9393ed99e962b4b4",
       "version_major": 2,
       "version_minor": 0
      },
      "text/plain": [
       "HBox(children=(FloatProgress(value=0.0, max=1.0), HTML(value='')))"
      ]
     },
     "metadata": {},
     "output_type": "display_data"
    },
    {
     "name": "stdout",
     "output_type": "stream",
     "text": [
      "\n",
      "Decomposing first pass: 0.15555667877197266\n",
      "Found len(mesh_large_idx) MAP candidates: [6519]\n",
      "mesh_large_connectivity: 0.0015935897827148438\n",
      "Finding MAP candidates connected components: 9.202957153320312e-05\n",
      "len(filtered_pieces) = 1\n",
      "skeleton_connectivity_MP : 0.0027649402618408203\n",
      "Grouping MP Sublimbs by Graph: 4.315376281738281e-05\n",
      "Divinding into MP and MAP pieces: 1.430511474609375e-06\n",
      "--- Working on MAP piece 0---\n",
      "MAP Filtering Soma Pieces: 0.0022966861724853516\n",
      "     Starting Screened Poisson\n",
      "xvfb-run -n 1999 -s \"-screen 0 800x600x24\" meshlabserver $@  -i /notebooks/Platinum_Decomp_Fusion/temp/None.off -o /notebooks/Platinum_Decomp_Fusion/temp/None_poisson.off -s /notebooks/Platinum_Decomp_Fusion/temp/poisson_572218.mls\n",
      "removed temporary input file: /notebooks/Platinum_Decomp_Fusion/temp/None.off\n",
      "removed temporary output file: /notebooks/Platinum_Decomp_Fusion/temp/None_poisson.off\n",
      "Using the close holes feature\n",
      "xvfb-run -n 6506 -s \"-screen 0 800x600x24\" meshlabserver $@  -i /notebooks/Platinum_Decomp_Fusion/temp/neuron_26494.off -o /notebooks/Platinum_Decomp_Fusion/temp/neuron_26494_fill_holes.off -s /notebooks/Platinum_Decomp_Fusion/temp/fill_holes_736972.mls\n",
      "removed temporary input file: /notebooks/Platinum_Decomp_Fusion/temp/neuron_26494.off\n",
      "removed temporary output file: /notebooks/Platinum_Decomp_Fusion/temp/neuron_26494_fill_holes.off\n",
      "-----Time for Screened Poisson= 7.5845301151275635\n",
      "     Starting Calcification\n",
      "Before mesh subtraction number of skeleton edges = 93\n",
      "Inside mesh subtraction, len(main_mesh_bbox_restricted.faces) = 6519\n"
     ]
    },
    {
     "data": {
      "application/vnd.jupyter.widget-view+json": {
       "model_id": "3dedc742b29148c8818fd4f647a4255d",
       "version_major": 2,
       "version_minor": 0
      },
      "text/plain": [
       "HBox(children=(FloatProgress(value=1.0, bar_style='info', layout=Layout(width='20px'), max=1.0), HTML(value=''…"
      ]
     },
     "metadata": {},
     "output_type": "display_data"
    },
    {
     "name": "stdout",
     "output_type": "stream",
     "text": [
      "\n",
      "Total Mesh subtraction time = 0.4946\n"
     ]
    },
    {
     "data": {
      "application/vnd.jupyter.widget-view+json": {
       "model_id": "39e3caa085584640bbecd485ffdaff83",
       "version_major": 2,
       "version_minor": 0
      },
      "text/plain": [
       "HBox(children=(FloatProgress(value=0.0, max=1.0), HTML(value='')))"
      ]
     },
     "metadata": {},
     "output_type": "display_data"
    },
    {
     "name": "stdout",
     "output_type": "stream",
     "text": [
      "\n",
      "len_subgraphs AT BEGINNING of the loop\n"
     ]
    },
    {
     "data": {
      "application/vnd.jupyter.widget-view+json": {
       "model_id": "d250422277024253a766c20f3518400b",
       "version_major": 2,
       "version_minor": 0
      },
      "text/plain": [
       "HBox(children=(FloatProgress(value=0.0, max=8.0), HTML(value='')))"
      ]
     },
     "metadata": {},
     "output_type": "display_data"
    },
    {
     "name": "stdout",
     "output_type": "stream",
     "text": [
      "all graph is one component!\n",
      "\n",
      "Total time for skeleton stitching = 0.043356895446777344\n",
      "The process was using a temp folder\n",
      "    Total time for skeletonizing branch: 8.875633001327515\n",
      "skipping soma 1 because closest skeleton node was already end node\n",
      "    Total time for Fixing Skeleton Soma Endpoint Extension : 0.26132845878601074\n",
      "filter_end_node_length = 4001\n",
      "Using Distance measure skeletal_distance\n",
      "Going to ignore certain endnodes that are 5000 nm close to soma border vertices\n",
      "Number of end_nodes BEFORE filtering = 7\n",
      "Using an already specified end node: 107 with index 6checking was correct node end_nodes[index] = 107\n",
      "May Eliminate end_node 6: 107 because path_len to soma border was 1987.9058505548453\n",
      "single_node_to_eliminate = 6\n",
      "all_single_nodes_to_eliminate = [6, 6]\n"
     ]
    },
    {
     "data": {
      "application/vnd.jupyter.widget-view+json": {
       "model_id": "f4cc4a2f7e3f4a25b978890c62f93807",
       "version_major": 2,
       "version_minor": 0
      },
      "text/plain": [
       "HBox(children=(FloatProgress(value=0.0, max=5.0), HTML(value='')))"
      ]
     },
     "metadata": {},
     "output_type": "display_data"
    },
    {
     "name": "stdout",
     "output_type": "stream",
     "text": [
      "\n",
      "********COMBINING CLOSE SKELETON NODES WITHIN 700 DISTANCE**********\n",
      "Found 0 valid paths to replace\n",
      "valid_paths = []\n",
      "valid_path_lengths = []\n",
      "No valid paths found so just returning the original\n",
      "skeletonize_and_clean_connected_branch_CGAL: 9.281634092330933\n",
      "Working on limb correspondence for #0 MAP piece\n"
     ]
    },
    {
     "data": {
      "application/vnd.jupyter.widget-view+json": {
       "model_id": "62a7f014c54a4f02bc373973335d9f04",
       "version_major": 2,
       "version_minor": 0
      },
      "text/plain": [
       "HBox(children=(FloatProgress(value=1.0, bar_style='info', layout=Layout(width='20px'), max=1.0), HTML(value=''…"
      ]
     },
     "metadata": {},
     "output_type": "display_data"
    },
    {
     "name": "stdout",
     "output_type": "stream",
     "text": [
      "\n",
      "Total time for decomposition = 0.5255711078643799\n",
      "mesh_correspondence_first_pass: 0.5256028175354004\n",
      "Limb decomposed into 1 branches\n",
      "divided_skeleton_graph_recovered = (87, 2, 3) and \n",
      "current_mesh_data[0]['branch_skeletons_cleaned'].shape = (87, 2, 3)\n",
      "\n",
      "Number of connected components in deocmposed recovered graph = 1\n",
      "Number of connected components in cleaned skeleton graph= 1\n",
      "The downsampled branches number of connected components = 1\n",
      "Empty submeshes = []\n",
      "\n",
      "\n",
      "--- Working on 1-to-1 correspondence-----\n",
      "max(original_labels),len(original_labels) = (0, 1)\n",
      "empty_indices % = 0.11704249117962878\n",
      " conflict_indices % = 0.0\n"
     ]
    },
    {
     "data": {
      "application/vnd.jupyter.widget-view+json": {
       "model_id": "88193f6d7e2a462c922aeee3c3b26dca",
       "version_major": 2,
       "version_minor": 0
      },
      "text/plain": [
       "HBox(children=(FloatProgress(value=0.0, max=4.0), HTML(value='')))"
      ]
     },
     "metadata": {},
     "output_type": "display_data"
    },
    {
     "name": "stdout",
     "output_type": "stream",
     "text": [
      "\n",
      "AFTER face_lookup_resolved_test\n",
      "Took 0 iterations to expand the label back\n"
     ]
    },
    {
     "data": {
      "application/vnd.jupyter.widget-view+json": {
       "model_id": "fc429ff55df4402b9e39778a8f2c22f5",
       "version_major": 2,
       "version_minor": 0
      },
      "text/plain": [
       "HBox(children=(FloatProgress(value=0.0, max=1.0), HTML(value='')))"
      ]
     },
     "metadata": {},
     "output_type": "display_data"
    },
    {
     "name": "stdout",
     "output_type": "stream",
     "text": [
      "\n",
      "Total time for MAP sublimb #0 mesh processing = 10.003514289855957\n",
      "correspondence_1_to_1: 0.1939542293548584\n",
      "Total time for MAP sublimb processing 10.003605842590332\n",
      "***************Arrived at MESH PIECES FOR MAP AND mp***************\n",
      "There were not both MAP and MP pieces so skipping the stitch resolving phase\n",
      "Time for decomp of Limb 11 = 10.285126447677612\n",
      "Total time for all limb decomps = 890.6527583599091\n"
     ]
    }
   ],
   "source": [
    "sk = reload(sk)\n",
    "tu = reload(tu)\n",
    "cu = reload(cu)\n",
    "m_sk = reload(m_sk)\n",
    "\n",
    "proper_limb_mesh_correspondence_MAP = dict()\n",
    "proper_limb_mesh_correspondence_MP = dict()\n",
    "\n",
    "\n",
    "proper_time = time.time()\n",
    "print_fusion_steps=True\n",
    "\n",
    "#parameter for CGAL skeletonization\n",
    "use_surface_after_CGAL=False\n",
    "\n",
    "#parameters for the stitching:\n",
    "\n",
    "move_MAP_stitch_to_end_or_branch = True\n",
    "distance_to_move_point_threshold=500\n",
    "\n",
    "#\n",
    "\n",
    "for curr_limb_idx,limb_mesh_mparty in enumerate(current_mesh_data[0][\"branch_meshes\"]):\n",
    "    \n",
    "#     if curr_limb_idx != 5:\n",
    "#         continue\n",
    "    \n",
    "    curr_limb_time = time.time()\n",
    "    print(f\"\\n\\n----- Working on Proper Limb #{curr_limb_idx} ---------\")\n",
    "    \n",
    "    \n",
    "    \n",
    "    fusion_time = time.time()\n",
    "    # Doing the first pass of surface skeletonization\n",
    "    total_border_vertices = dict()\n",
    "    for l_idx,s_dict in piece_to_soma_touching_vertices.items():\n",
    "        local_b_verts = []\n",
    "        for sm_idx,sm_bord_verts in s_dict.items():\n",
    "            local_b_verts.append(np.vstack(sm_bord_verts))\n",
    "        total_border_vertices[l_idx] = np.vstack(local_b_verts)\n",
    "\n",
    "    #will eventually get the current root from soma_to_piece_touching_vertices[i]\n",
    "    root_curr = total_border_vertices[curr_limb_idx][0]\n",
    "    if print_fusion_steps:\n",
    "        print(f\"Time for preparing soma vertices and root: {time.time() - fusion_time }\")\n",
    "        fusion_time = time.time()\n",
    "    \n",
    "    sk_meshparty_obj = m_sk.skeletonize_mesh_largest_component(limb_mesh_mparty,\n",
    "                                                            root=root_curr,\n",
    "                                                              filter_mesh=False)\n",
    "\n",
    "    if print_fusion_steps:\n",
    "        print(f\"Time for 1st pass MP skeletonization: {time.time() - fusion_time }\")\n",
    "        fusion_time = time.time()\n",
    "        \n",
    "    (segment_branches, #skeleton branches\n",
    "    divided_submeshes, divided_submeshes_idx, #mesh correspondence (mesh and indices)\n",
    "    segment_widths_median) = m_sk.skeleton_obj_to_branches(sk_meshparty_obj,\n",
    "                                                          mesh = limb_mesh_mparty,\n",
    "                                                          meshparty_segment_size=meshparty_segment_size)\n",
    "    \n",
    "    \n",
    "    if print_fusion_steps:\n",
    "        print(f\"Decomposing first pass: {time.time() - fusion_time }\")\n",
    "        fusion_time = time.time()\n",
    "    \n",
    "    \n",
    "    \n",
    "    #using the width threshold\n",
    "    width_threshold = 450\n",
    "    size_threshold = 1000\n",
    "\n",
    "    #gettin the branches that should be passed through MAP skeletonization\n",
    "    pieces_above_threshold = np.where(segment_widths_median>width_threshold)[0]\n",
    "\n",
    "    #getting the correspondnece info for those MAP qualifying\n",
    "    width_large = segment_widths_median[pieces_above_threshold]\n",
    "    sk_large = [segment_branches[k] for k in pieces_above_threshold]\n",
    "    mesh_large_idx = [divided_submeshes_idx[k] for k in pieces_above_threshold]\n",
    "    \n",
    "    \n",
    "\n",
    "    mesh_pieces_for_MAP = []\n",
    "\n",
    "    if len(mesh_large_idx) > 0: #will only continue processing if found MAP candidates\n",
    "        \n",
    "        print(f\"Found len(mesh_large_idx) MAP candidates: {[len(k) for k in mesh_large_idx]}\")\n",
    "        \n",
    "        #finds the connectivity edges of all the MAP candidates\n",
    "        mesh_large_connectivity = tu.mesh_list_connectivity(meshes = mesh_large_idx,\n",
    "                                main_mesh = limb_mesh_mparty,\n",
    "                                print_flag = False)\n",
    "        if print_fusion_steps:\n",
    "            print(f\"mesh_large_connectivity: {time.time() - fusion_time }\")\n",
    "            fusion_time = time.time()\n",
    "        \"\"\"\n",
    "        --------------- Grouping MAP candidates ----------------\n",
    "        Purpose: Will see what mesh pieces should be grouped together\n",
    "        to pass through CGAL skeletonization\n",
    "\n",
    "\n",
    "        Pseudocode: \n",
    "        1) build a networkx graph with all nodes for mesh_large_idx indexes\n",
    "        2) Add the edges\n",
    "        3) Find the connected components\n",
    "        4) Find sizes of connected components\n",
    "        5) For all those connected components that are of a large enough size, \n",
    "        add the mesh branches and skeletons to the final list\n",
    "\n",
    "\n",
    "        \"\"\"\n",
    "        G = nx.Graph()\n",
    "        G.add_nodes_from(np.arange(len(mesh_large_idx)))\n",
    "        G.add_edges_from(mesh_large_connectivity)\n",
    "        conn_comp = list(nx.connected_components(G))\n",
    "\n",
    "        filtered_pieces = []\n",
    "\n",
    "        sk_large_size_filt = []\n",
    "        mesh_large_idx_size_filt = []\n",
    "        width_large_size_filt = []\n",
    "\n",
    "        for cc in conn_comp:\n",
    "            total_cc_size = np.sum([len(mesh_large_idx[k]) for k in cc])\n",
    "            if total_cc_size>size_threshold:\n",
    "                #print(f\"cc ({cc}) passed the size threshold because size was {total_cc_size}\")\n",
    "                filtered_pieces.append(pieces_above_threshold[list(cc)])\n",
    "                \n",
    "        if print_fusion_steps:\n",
    "            print(f\"Finding MAP candidates connected components: {time.time() - fusion_time }\")\n",
    "            fusion_time = time.time()\n",
    "\n",
    "        #filtered_pieces: will have the indexes of all the branch candidates that should  be \n",
    "        #grouped together and passed through MAP skeletonization\n",
    "\n",
    "        if len(filtered_pieces) > 0:\n",
    "            print(f\"len(filtered_pieces) = {len(filtered_pieces)}\")\n",
    "            #all the pieces that will require MAP mesh correspondence and skeletonization\n",
    "            #(already organized into their components)\n",
    "            mesh_pieces_for_MAP = [limb_mesh_mparty.submesh([np.concatenate(divided_submeshes_idx[k])],append=True,repair=False) for k in filtered_pieces]\n",
    "            mesh_pieces_for_MAP_face_idx = [np.concatenate(divided_submeshes_idx[k]) for k in filtered_pieces]\n",
    "            \n",
    "            pieces_idx_MP = np.setdiff1d(np.arange(len(divided_submeshes_idx)),np.concatenate(filtered_pieces))\n",
    "\n",
    "            \"\"\"\n",
    "            Old Way: Finding connectivity of pieces through\n",
    "            mesh_idx_MP = [divided_submeshes_idx[k] for k in pieces_idx_MP]\n",
    "\n",
    "            mesh_large_connectivity_MP = tu.mesh_list_connectivity(meshes = mesh_idx_MP,\n",
    "                                    main_mesh = limb_mesh_mparty,\n",
    "                                    print_flag = False)\n",
    "\n",
    "            New Way: going to use skeleton connectivity to determine\n",
    "            connectivity of pieces\n",
    "\n",
    "            Pseudocode: \n",
    "            1)\n",
    "\n",
    "            \"\"\"\n",
    "\n",
    "            skeleton_MP = [segment_branches[k] for k in pieces_idx_MP]\n",
    "            skeleton_connectivity_MP = sk.skeleton_list_connectivity(\n",
    "                                            skeletons=skeleton_MP\n",
    "                                            )\n",
    "            if print_fusion_steps:\n",
    "                print(f\"skeleton_connectivity_MP : {time.time() - fusion_time }\")\n",
    "                fusion_time = time.time()\n",
    "\n",
    "            G = nx.Graph()\n",
    "            G.add_nodes_from(np.arange(len(skeleton_MP)))\n",
    "            G.add_edges_from(skeleton_connectivity_MP)\n",
    "            sublimbs_MP = list(nx.connected_components(G))\n",
    "            sublimbs_MP_orig_idx = [pieces_idx_MP[list(k)] for k in sublimbs_MP]\n",
    "\n",
    "\n",
    "            #concatenate into sublimbs the skeletons and meshes\n",
    "            sublimb_mesh_idx_branches_MP = [divided_submeshes_idx[k] for k in sublimbs_MP_orig_idx]\n",
    "            sublimb_mesh_branches_MP = [[limb_mesh_mparty.submesh([ki],append=True,repair=False)\n",
    "                                        for ki in k] for k in sublimb_mesh_idx_branches_MP]\n",
    "            sublimb_meshes_MP = [limb_mesh_mparty.submesh([np.concatenate(k)],append=True,repair=False)\n",
    "                                                         for k in sublimb_mesh_idx_branches_MP]\n",
    "            sublimb_meshes_MP_face_idx = [np.concatenate(k)\n",
    "                                                         for k in sublimb_mesh_idx_branches_MP]\n",
    "            sublimb_skeleton_branches = [segment_branches[k] for k in sublimbs_MP_orig_idx]\n",
    "            widths_MP = [segment_widths_median[k] for k in sublimbs_MP_orig_idx]\n",
    "            \n",
    "            if print_fusion_steps:\n",
    "                print(f\"Grouping MP Sublimbs by Graph: {time.time() - fusion_time }\")\n",
    "                fusion_time = time.time()\n",
    "\n",
    "    # else: #if no pieces were determine to need MAP processing\n",
    "    #     print(\"No MAP processing needed: just returning the Meshparty skeletonization and mesh correspondence\")\n",
    "    #     raise Exception(\"Returning MP correspondence\")\n",
    "\n",
    "\n",
    "    # nviz.plot_objects(main_mesh=tu.combine_meshes([limb_mesh_mparty,current_neuron[\"S0\"].mesh]),\n",
    "    #                   main_mesh_color=\"green\",\n",
    "    #     skeletons=sk_large_size_filt,\n",
    "    #      meshes=[limb_mesh_mparty.submesh([k],append=True) for k in mesh_large_idx_size_filt],\n",
    "    #       meshes_colors=\"red\")\n",
    "    \n",
    "    \n",
    "    \n",
    "    \n",
    "    \n",
    "    \n",
    "    \n",
    "    \n",
    "    \n",
    "    \n",
    "    #if no sublimbs need to be decomposed with MAP then just reassign all of the previous MP processing to the sublimb_MPs\n",
    "    if len(mesh_pieces_for_MAP) == 0:\n",
    "        sublimb_meshes_MP = [limb_mesh_mparty] #trimesh pieces that have already been passed through MP skeletonization (may not need)\n",
    "        # -- the decomposition information ---\n",
    "        sublimb_mesh_branches_MP = [divided_submeshes] #the mesh branches for all the disconnected sublimbs\n",
    "        sublimb_mesh_idx_branches_MP = [divided_submeshes_idx] #The mesh branches idx that have already passed through MP skeletonization\n",
    "        sublimb_skeleton_branches = [segment_branches]#the skeleton bnraches for all the sublimbs\n",
    "        widths_MP = [segment_widths_median] #the mesh branches widths for all the disconnected groups\n",
    "\n",
    "        MAP_flag = False\n",
    "    else:\n",
    "        MAP_flag = True\n",
    "\n",
    "    \n",
    "\n",
    "    mesh_pieces_for_MAP #trimesh pieces that should go through CGAL skeletonization\n",
    "    sublimb_meshes_MP #trimesh pieces that have already been passed through MP skeletonization (may not need)\n",
    "\n",
    "    # -- the decomposition information ---\n",
    "    sublimb_mesh_branches_MP #the mesh branches for all the disconnected sublimbs\n",
    "    sublimb_mesh_idx_branches_MP #The mesh branches idx that have already passed through MP skeletonization\n",
    "    sublimb_skeleton_branches #the skeleton bnraches for all the sublimbs\n",
    "    widths_MP #the mesh branches widths for all the disconnected groups\n",
    "    \n",
    "    if print_fusion_steps:\n",
    "        print(f\"Divinding into MP and MAP pieces: {time.time() - fusion_time }\")\n",
    "        fusion_time = time.time()\n",
    "\n",
    "    \n",
    "    \n",
    "    # ------------------- At this point have the correct division between MAP and MP ------------------------\n",
    "    \n",
    "    # -------------- Doing the MAP decomposition ------------------ #\n",
    "    global_start_time = time.time()\n",
    "    endpoints_must_keep = dict()\n",
    "\n",
    "    perform_cleaning_checks = False\n",
    "\n",
    "    limb_correspondence_MAP = dict()\n",
    "    \n",
    "    for sublimb_idx,(mesh,mesh_idx) in enumerate(zip(mesh_pieces_for_MAP,mesh_pieces_for_MAP_face_idx)):\n",
    "        print(f\"--- Working on MAP piece {sublimb_idx}---\")\n",
    "        mesh_start_time = time.time()\n",
    "        curr_soma_to_piece_touching_vertices = pre.filter_soma_touching_vertices_dict_by_mesh(\n",
    "        mesh = mesh,\n",
    "        curr_piece_to_soma_touching_vertices = piece_to_soma_touching_vertices[curr_limb_idx]\n",
    "        )\n",
    "        \n",
    "        if print_fusion_steps:\n",
    "            print(f\"MAP Filtering Soma Pieces: {time.time() - fusion_time }\")\n",
    "            fusion_time = time.time()\n",
    "\n",
    "        # ---- 0) Generating the Clean skeletons  -------------------------------------------#\n",
    "        if not curr_soma_to_piece_touching_vertices is None:\n",
    "            total_border_vertices = dict([(k,np.vstack(v)) for k,v in curr_soma_to_piece_touching_vertices.items()])\n",
    "\n",
    "        cleaned_branch,curr_limb_endpoints_must_keep = sk.skeletonize_and_clean_connected_branch_CGAL(\n",
    "            mesh=mesh,\n",
    "            curr_soma_to_piece_touching_vertices=curr_soma_to_piece_touching_vertices,\n",
    "            total_border_vertices=total_border_vertices,\n",
    "            filter_end_node_length=filter_end_node_length,\n",
    "            perform_cleaning_checks=perform_cleaning_checks,\n",
    "            combine_close_skeleton_nodes = combine_close_skeleton_nodes,\n",
    "            combine_close_skeleton_nodes_threshold=combine_close_skeleton_nodes_threshold,\n",
    "        use_surface_after_CGAL=use_surface_after_CGAL)\n",
    "\n",
    "        if len(cleaned_branch) == 0:\n",
    "            raise Exception(f\"Found a zero length skeleton for limb {z} of trmesh {branch}\")\n",
    "            \n",
    "        if print_fusion_steps:\n",
    "            print(f\"skeletonize_and_clean_connected_branch_CGAL: {time.time() - fusion_time }\")\n",
    "            fusion_time = time.time()\n",
    "\n",
    "        # ---- 1) Generating Initial Mesh Correspondence -------------------------------------------#\n",
    "        start_time = time.time()\n",
    "\n",
    "        print(f\"Working on limb correspondence for #{sublimb_idx} MAP piece\")\n",
    "        local_correspondence = pre.mesh_correspondence_first_pass(mesh=mesh,\n",
    "                                                             skeleton=cleaned_branch,\n",
    "                                                             distance_by_mesh_center=distance_by_mesh_center)\n",
    "\n",
    "\n",
    "        print(f\"Total time for decomposition = {time.time() - start_time}\")\n",
    "        if print_fusion_steps:\n",
    "            print(f\"mesh_correspondence_first_pass: {time.time() - fusion_time }\")\n",
    "            fusion_time = time.time()\n",
    "\n",
    "\n",
    "        #------------- 2) Doing Some checks on the initial corespondence -------- #\n",
    "\n",
    "        perform_cleaning_checks = True       \n",
    "        if perform_cleaning_checks:\n",
    "            pre.check_skeletonization_and_decomp(skeleton=cleaned_branch,\n",
    "                                            local_correspondence=local_correspondence)\n",
    "\n",
    "        # -------3) Finishing off the face correspondence so get 1-to-1 correspondence of mesh face to skeletal piece\n",
    "        local_correspondence_revised = pre.correspondence_1_to_1(mesh=mesh,\n",
    "                                        local_correspondence=local_correspondence,\n",
    "                                        curr_limb_endpoints_must_keep=curr_limb_endpoints_must_keep,\n",
    "                                        curr_soma_to_piece_touching_vertices=curr_soma_to_piece_touching_vertices)\n",
    "        \n",
    "        # -------3b) Fixing the mesh indices to correspond to the larger mesh as a whole\n",
    "        for k,v in local_correspondence_revised.items():\n",
    "            local_correspondence_revised[k][\"branch_face_idx\"] = mesh_idx[local_correspondence_revised[k][\"branch_face_idx\"]]\n",
    "        \n",
    "        print(f\"Total time for MAP sublimb #{sublimb_idx} mesh processing = {time.time() - mesh_start_time}\")\n",
    "        \n",
    "        if print_fusion_steps:\n",
    "            print(f\"correspondence_1_to_1: {time.time() - fusion_time }\")\n",
    "            fusion_time = time.time()\n",
    "\n",
    "        limb_correspondence_MAP[sublimb_idx] = local_correspondence_revised\n",
    "\n",
    "    print(f\"Total time for MAP sublimb processing {time.time() - global_start_time}\")\n",
    "\n",
    "    \n",
    "\n",
    "    \n",
    "    \n",
    "    # ----------------- Part B: Doing the MP Decomposition ---------------------- #\n",
    "    \n",
    "    \n",
    "    \n",
    "    \n",
    "    sublimb_meshes_MP #trimesh pieces that have already been passed through MP skeletonization (may not need)\n",
    "    # -- the decomposition information ---\n",
    "    sublimb_mesh_branches_MP #the mesh branches for all the disconnected sublimbs\n",
    "    sublimb_mesh_idx_branches_MP #The mesh branches idx that have already passed through MP skeletonization\n",
    "    sublimb_skeleton_branches #the skeleton bnraches for all the sublimbs\n",
    "    widths_MP #the mesh branches widths for all the disconnected groups\n",
    "\n",
    "    limb_correspondence_MP = dict()\n",
    "\n",
    "    print(\"***************Arrived at MESH PIECES FOR MAP AND mp***************\")\n",
    "    for sublimb_idx,mesh in enumerate(sublimb_meshes_MP):\n",
    "        print(f\"---- Working on MP Decomposition #{sublimb_idx} ----\")\n",
    "        mesh_start_time = time.time()\n",
    "\n",
    "        if len(sublimb_meshes_MP) == 1 and MAP_flag == False:\n",
    "            print(\"Using Quicker soma_to_piece_touching_vertices because no MAP and only one sublimb_mesh piece \")\n",
    "            curr_soma_to_piece_touching_vertices = piece_to_soma_touching_vertices[curr_limb_idx]\n",
    "        else:\n",
    "            curr_soma_to_piece_touching_vertices = pre.filter_soma_touching_vertices_dict_by_mesh(\n",
    "                                                mesh = mesh,\n",
    "                                                curr_piece_to_soma_touching_vertices = piece_to_soma_touching_vertices[curr_limb_idx]\n",
    "                                                )\n",
    "            \n",
    "        if print_fusion_steps:\n",
    "            print(f\"MP filtering soma verts: {time.time() - fusion_time }\")\n",
    "            fusion_time = time.time()\n",
    "\n",
    "        #creating all of the sublimb groups\n",
    "        segment_branches = sublimb_skeleton_branches[sublimb_idx]\n",
    "        whole_sk_MP = sk.stack_skeletons(segment_branches)\n",
    "        branch = mesh\n",
    "        divided_submeshes = sublimb_mesh_branches_MP[sublimb_idx]\n",
    "        divided_submeshes_idx = sublimb_mesh_idx_branches_MP[sublimb_idx]\n",
    "        segment_widths_median = widths_MP[sublimb_idx]\n",
    "\n",
    "        if curr_soma_to_piece_touching_vertices is None:\n",
    "            print(f\"Do Not Need to Fix MP Decomposition {sublimb_idx} so just continuing\")\n",
    "\n",
    "        else:\n",
    "            print(f\"Fixing Possible Soma Extension Branch for Sublimb {sublimb_idx}\")\n",
    "\n",
    "            #If there is some soma touching then need to see if have to fix soma extending pieces\n",
    "            return_info = sk.create_soma_extending_branches(current_skeleton=whole_sk_MP,\n",
    "                                      skeleton_mesh=branch,\n",
    "                                      soma_to_piece_touching_vertices=curr_soma_to_piece_touching_vertices,\n",
    "                                      return_endpoints_must_keep=True,\n",
    "                                         return_created_branch_info=True)\n",
    "            new_sk,endpts,new_branch_info = return_info\n",
    "\n",
    "            if print_fusion_steps:\n",
    "                print(f\"MP (because soma touching verts) create_soma_extending_branches: {time.time() - fusion_time }\")\n",
    "                fusion_time = time.time()\n",
    "\n",
    "            no_soma_extension_add = True\n",
    "            for sm_idx in new_branch_info.keys():\n",
    "                for b_vert_idx,br_info in enumerate(new_branch_info[sm_idx]):\n",
    "                    if br_info is None:\n",
    "                        continue\n",
    "                    no_soma_extension_add=False\n",
    "\n",
    "\n",
    "                    #1) Get the newly added branch (and the original vertex which is the first row)\n",
    "                    br_new,sm_bord_verts = br_info #this will hold the new branch and the border vertices corresponding to it\n",
    "\n",
    "                    curr_soma_to_piece_touching_vertices_MP = {sm_idx:[sm_bord_verts]}\n",
    "                    endpoints_must_keep_MP = {sm_idx:[br_new[0][1]]}\n",
    "\n",
    "                    orig_vertex = br_new[0][0]\n",
    "\n",
    "                    #2) Find the branches that have that coordinate (could be multiple)\n",
    "                    match_sk_branches = sk.find_branch_skeleton_with_specific_coordinate(segment_branches,\n",
    "                        current_coordinate=orig_vertex)\n",
    "\n",
    "                    #2b) If multiple branches: Pick a winning branch that has the most of the\n",
    "                    #    soma touching vertices\n",
    "                    if len(match_sk_branches) > 1:\n",
    "                        bord_verts_tree = KDTree(sm_bord_verts.reshape(-1,3))\n",
    "                        winning_branch = match_sk_branches[0]\n",
    "                        dist,_ = bord_verts_tree.query(divided_submeshes[winning_branch].vertices)\n",
    "                        winning_branch_n_bord_verts = np.sum(dist == 0)\n",
    "\n",
    "                        for i in range(1,len(match_sk_branches)):\n",
    "                            curr_branch = match_sk_branches[i]\n",
    "                            dist,_ = bord_verts_tree.query(divided_submeshes[winning_branch].vertices)\n",
    "                            n_bord_verts = np.sum(dist == 0)\n",
    "                            if n_bord_verts>winning_branch_n_bord_verts:\n",
    "                                winning_branch_n_bord_verts = n_bord_verts\n",
    "                                winning_branch = curr_branch\n",
    "                    elif len(match_sk_branches) == 1:\n",
    "                        winning_branch = match_sk_branches[0]\n",
    "                    else:\n",
    "                        raise Exception(\"No matching branches found for soma extending point\")\n",
    "\n",
    "                    if verbose:\n",
    "                        print(f\"Winning Branch = {winning_branch}\")\n",
    "\n",
    "                    #3) Find the mesh and skeleton of the winning branch\n",
    "                    winning_branch_mesh = divided_submeshes[winning_branch]\n",
    "                    winning_branch_mesh_idx = divided_submeshes_idx[winning_branch]\n",
    "                    winning_branch_sk = segment_branches[winning_branch]\n",
    "\n",
    "                    #4) Add newly created branch to skeleton and divide the skeleton into branches (could make 2 or 3)\n",
    "                    extended_skeleton_to_soma = sk.stack_skeletons([winning_branch_sk,br_new])\n",
    "                    soma_extending_branches = sk.decompose_skeleton_to_branches(extended_skeleton_to_soma)\n",
    "\n",
    "                    #5) Run Adaptive mesh correspondnece using branches and mesh\n",
    "                    local_correspondnece_MP = pre.mesh_correspondence_first_pass(mesh=winning_branch_mesh,\n",
    "                                                  skeleton=extended_skeleton_to_soma)\n",
    "\n",
    "                    local_correspondence_revised = pre.correspondence_1_to_1(mesh=winning_branch_mesh,\n",
    "                                                                local_correspondence=local_correspondnece_MP,\n",
    "                                                                curr_limb_endpoints_must_keep=endpoints_must_keep_MP,\n",
    "                                                                curr_soma_to_piece_touching_vertices=curr_soma_to_piece_touching_vertices_MP)\n",
    "\n",
    "                    # All the things that should be revised:\n",
    "                #     segment_branches, #skeleton branches\n",
    "                #     divided_submeshes, divided_submeshes_idx, #mesh correspondence (mesh and indices)\n",
    "                #     segment_widths_median\n",
    "\n",
    "\n",
    "                    new_submeshes = [k[\"branch_mesh\"] for k in local_correspondence_revised.values()]\n",
    "                    new_submeshes_idx = [winning_branch_mesh_idx[k[\"branch_face_idx\"]] for k in local_correspondence_revised.values()]\n",
    "                    new_skeletal_branches = [k[\"branch_skeleton\"] for k in local_correspondence_revised.values()]\n",
    "\n",
    "                    #calculate the new width\n",
    "                    ray_inter = tu.ray_pyembree.RayMeshIntersector(limb_mesh_mparty)\n",
    "                    new_widths = []\n",
    "                    for new_s_idx in new_submeshes_idx:\n",
    "                        curr_ray_distance = tu.ray_trace_distance(mesh=limb_mesh_mparty, \n",
    "                                            face_inds=new_s_idx,\n",
    "                                           ray_inter=ray_inter)\n",
    "                        new_widths.append(np.median(curr_ray_distance[curr_ray_distance!=0]))\n",
    "\n",
    "\n",
    "                    #6) Remove the original branch and mesh correspondence and replace with the multiples\n",
    "                #     new_segment_branches = deepcopy(segment_branches)\n",
    "                #     new_divided_submeshes = deepcopy(divided_submeshes)\n",
    "                #     new_divided_submeshes_idx = deepcopy(divided_submeshes_idx)\n",
    "                #     new_segment_widths_median = deepcopy(segment_widths_median)\n",
    "\n",
    "                    segment_branches = np.delete(segment_branches,winning_branch)\n",
    "                    segment_branches = np.append(segment_branches,new_skeletal_branches,axis=0)\n",
    "\n",
    "                    divided_submeshes = np.delete(divided_submeshes,winning_branch)\n",
    "                    divided_submeshes = np.append(divided_submeshes,new_submeshes,axis=0)\n",
    "\n",
    "                    divided_submeshes_idx = np.delete(divided_submeshes_idx,winning_branch)\n",
    "                    divided_submeshes_idx = np.append(divided_submeshes_idx,new_submeshes_idx,axis=0)\n",
    "\n",
    "                    segment_widths_median = np.delete(segment_widths_median,winning_branch)\n",
    "                    segment_widths_median = np.append(segment_widths_median,new_widths,axis=0)\n",
    "\n",
    "\n",
    "\n",
    "\n",
    "            if no_soma_extension_add:\n",
    "                print(\"No soma extending branch was added for this sublimb even though it had a soma border (means they already existed)\")\n",
    "\n",
    "            if print_fusion_steps:\n",
    "                print(f\"MP (because soma touching verts) soma extension add: {time.time() - fusion_time }\")\n",
    "                fusion_time = time.time()\n",
    "            \n",
    "        #building the limb correspondence\n",
    "        limb_correspondence_MP[sublimb_idx] = dict()\n",
    "\n",
    "        for zz,b_sk in enumerate(segment_branches):\n",
    "            limb_correspondence_MP[sublimb_idx][zz] = dict(\n",
    "                branch_skeleton = b_sk,\n",
    "                width_from_skeleton = segment_widths_median[zz],\n",
    "                branch_mesh = divided_submeshes[zz],\n",
    "                branch_face_idx = divided_submeshes_idx[zz]\n",
    "                )\n",
    "            \n",
    "            \n",
    "            \n",
    "        \n",
    "        \n",
    "    # ------------------------------------- Part C: Will make sure the correspondences can all be stitched together --------------- #\n",
    "\n",
    "    # Only want to perform this step if both MP and MAP pieces\n",
    "    if len(limb_correspondence_MAP)>0 and len(limb_correspondence_MP)>0:\n",
    "\n",
    "\n",
    "        # ---- Doing the mesh connectivity ---------#\n",
    "        sublimb_meshes_MP = []\n",
    "        sublimb_skeletons_MP = []\n",
    "\n",
    "        for sublimb_key,sublimb_v in limb_correspondence_MP.items():\n",
    "            sublimb_meshes_MP.append(tu.combine_meshes([branch_v[\"branch_mesh\"] for branch_v in sublimb_v.values()]))\n",
    "            sublimb_skeletons_MP.append(sk.stack_skeletons([branch_v[\"branch_skeleton\"] for branch_v in sublimb_v.values()]))\n",
    "\n",
    "        sublimb_meshes_MAP = []\n",
    "        sublimb_skeletons_MAP = []\n",
    "\n",
    "        for sublimb_key,sublimb_v in limb_correspondence_MAP.items():\n",
    "            sublimb_meshes_MAP.append(tu.combine_meshes([branch_v[\"branch_mesh\"] for branch_v in sublimb_v.values()]))\n",
    "            sublimb_skeletons_MAP.append(sk.stack_skeletons([branch_v[\"branch_skeleton\"] for branch_v in sublimb_v.values()]))\n",
    "\n",
    "\n",
    "\n",
    "        mesh_conn,mesh_conn_vertex_groups = tu.mesh_list_connectivity(meshes = sublimb_meshes_MP + sublimb_meshes_MAP,\n",
    "                                            main_mesh = limb_mesh_mparty,\n",
    "                                            min_common_vertices=1,\n",
    "                                            return_vertex_connection_groups=True,\n",
    "                                            print_flag = False)\n",
    "\n",
    "        #check that every MAP piece mapped to a MP piece\n",
    "        mesh_conn_filt = []\n",
    "        mesh_conn_vertex_groups_filt = []\n",
    "        for j,(m1,m2) in enumerate(mesh_conn):\n",
    "            if m1 < len(sublimb_meshes_MP) and m2 >=len(sublimb_meshes_MP):\n",
    "                mesh_conn_filt.append([m1,m2])\n",
    "                mesh_conn_vertex_groups_filt.append(mesh_conn_vertex_groups[j])\n",
    "        mesh_conn_filt = np.array(mesh_conn_filt)\n",
    "\n",
    "        mesh_conn = mesh_conn_filt\n",
    "        mesh_conn_vertex_groups = mesh_conn_vertex_groups_filt\n",
    "\n",
    "        #check that the mapping should create only one connected component\n",
    "        G = nx.from_edgelist(mesh_conn)\n",
    "\n",
    "        if len(G) != len(sublimb_meshes_MP) + len(sublimb_meshes_MAP):\n",
    "            raise Exception(\"Number of nodes in mesh connectivity graph is not equal to number of  MAP and MP sublimbs\")\n",
    "\n",
    "        connect_comp = list(nx.connected_components(G))\n",
    "        if len(connect_comp)>1:\n",
    "            raise Exception(f\"Mesh connectivity was not one component, instead it was ({len(connect_comp)}): {connect_comp} \")\n",
    "            \n",
    "            \n",
    "            \n",
    "\n",
    "        #adjust the connection indices for MP and MAP indices\n",
    "        mesh_conn_adjusted = np.vstack([mesh_conn[:,0],mesh_conn[:,1]-len(sublimb_meshes_MP)]).T\n",
    "\n",
    "\n",
    "\n",
    "\n",
    "\n",
    "\n",
    "        \"\"\"\n",
    "        Pseudocode:\n",
    "        For each connection edge:\n",
    "            For each vertex connection group:\n",
    "                1) Get the endpoint vertices of the MP skeleton\n",
    "                2) Find the closest endpoint vertex to the vertex connection group (this is MP stitch point)\n",
    "                3) Find the closest skeletal point on MAP pairing (MAP stitch) \n",
    "                4) Find the branches that have that MAP stitch point:\n",
    "                5A) If the number of branches corresponding to stitch point is multipled\n",
    "                    --> then we are stitching at a branching oint\n",
    "                    i) Just add the skeletal segment from MP_stitch to MAP stitch to the MP skeletal segment\n",
    "                    ii) \n",
    "\n",
    "        \"\"\"\n",
    "\n",
    "\n",
    "        for (MP_idx,MAP_idx),vert_groups in zip(mesh_conn_adjusted,mesh_conn_vertex_groups):\n",
    "            print(f\"\\n---- Working on {(MP_idx,MAP_idx)} connection-----\")\n",
    "\n",
    "            \"\"\"\n",
    "            This old way of getting the endpoints was not good because could possibly just need\n",
    "            a stitching done between original branch junction\n",
    "\n",
    "            skeleton_MP_graph = sk.convert_skeleton_to_graph(curr_skeleton_MP)\n",
    "            endpoint_nodes = xu.get_nodes_of_degree_k(skeleton_MP_graph,1)\n",
    "            endpoint_nodes_coordinates = xu.get_node_attributes(skeleton_MP_graph,node_list=endpoint_nodes)\n",
    "            \"\"\"\n",
    "\n",
    "            for v_idx,v_g in enumerate(vert_groups):\n",
    "                print(f\"    ---- Working on vertex group {v_idx}-----\")\n",
    "\n",
    "\n",
    "                #getting the skeletons that should be stitched\n",
    "                curr_skeleton_MP = sk.stack_skeletons([branch_v[\"branch_skeleton\"] for branch_v in limb_correspondence_MP[MP_idx].values()])\n",
    "                curr_skeleton_MAP = sk.stack_skeletons([branch_v[\"branch_skeleton\"] for branch_v in limb_correspondence_MAP[MAP_idx].values()])\n",
    "\n",
    "                #1) Get the endpoint vertices of the MP skeleton (needs to be inside loop because limb correspondence will change)\n",
    "                curr_MP_branch_skeletons = [k[\"branch_skeleton\"] for k in limb_correspondence_MP[MP_idx].values()]\n",
    "                endpoint_nodes_coordinates = np.array([sk.find_branch_endpoints(k) for k in curr_MP_branch_skeletons])\n",
    "                endpoint_nodes_coordinates = np.unique(endpoint_nodes_coordinates.reshape(-1,3),axis=0)\n",
    "\n",
    "                #2) Find the closest endpoint vertex to the vertex connection group (this is MP stitch point)\n",
    "                av_vert = np.mean(v_g,axis=0)\n",
    "                winning_vertex = endpoint_nodes_coordinates[np.argmin(np.linalg.norm(endpoint_nodes_coordinates-av_vert,axis=1))]\n",
    "                print(f\"winning_vertex = {winning_vertex}\")\n",
    "\n",
    "\n",
    "                #2b) Find the branch points where the winning vertex is located\n",
    "                MP_branches_with_stitch_point = sk.find_branch_skeleton_with_specific_coordinate(\n",
    "                    divded_skeleton=curr_MP_branch_skeletons,\n",
    "                    current_coordinate = winning_vertex\n",
    "                )\n",
    "                print(f\"MP_branches_with_stitch_point = {MP_branches_with_stitch_point}\")\n",
    "\n",
    "\n",
    "                #3) Find the closest skeletal point on MAP pairing (MAP stitch)\n",
    "                MAP_skeleton_coords = np.unique(curr_skeleton_MAP.reshape(-1,3),axis=0)\n",
    "                MAP_stitch_point = MAP_skeleton_coords[np.argmin(np.linalg.norm(MAP_skeleton_coords-winning_vertex,axis=1))]\n",
    "\n",
    "\n",
    "                #3b) Consider if the stitch point is close enough to end or branch node in skeleton:\n",
    "                # and if so then reassign\n",
    "                if move_MAP_stitch_to_end_or_branch:\n",
    "                    MAP_stitch_point_new,change_status = sk.move_point_to_nearest_branch_end_point_within_threshold(\n",
    "                                                            graph=curr_skeleton_MAP,\n",
    "                                                            coordinate=MAP_stitch_point,\n",
    "                                                            distance_to_move_point_threshold = distance_to_move_point_threshold,\n",
    "                                                            verbose=True\n",
    "\n",
    "                                                            )\n",
    "                    MAP_stitch_point=MAP_stitch_point_new\n",
    "\n",
    "\n",
    "                #4) Find the branches that have that MAP stitch point:\n",
    "                curr_MAP_branch_skeletons = [k[\"branch_skeleton\"] for k in limb_correspondence_MAP[MAP_idx].values()]\n",
    "\n",
    "                MAP_branches_with_stitch_point = sk.find_branch_skeleton_with_specific_coordinate(\n",
    "                    divded_skeleton=curr_MAP_branch_skeletons,\n",
    "                    current_coordinate = MAP_stitch_point\n",
    "                )\n",
    "\n",
    "\n",
    "                MAP_stitch_point_on_end_or_branch = False\n",
    "                if len(MAP_branches_with_stitch_point)>1:\n",
    "                    MAP_stitch_point_on_end_or_branch = True\n",
    "                elif len(MAP_branches_with_stitch_point)==1:\n",
    "                    if len(nu.matching_rows(sk.find_branch_endpoints(curr_MAP_branch_skeletons[MAP_branches_with_stitch_point[0]]),\n",
    "                                            MAP_stitch_point))>0:\n",
    "                        MAP_stitch_point_on_end_or_branch=True\n",
    "                else:\n",
    "                    raise Exception(\"No matching MAP values\")\n",
    "\n",
    "\n",
    "                print(f\"MAP_branches_with_stitch_point = {MAP_branches_with_stitch_point}\")\n",
    "                print(f\"MAP_stitch_point_on_end_or_branch = {MAP_stitch_point_on_end_or_branch}\")\n",
    "\n",
    "\n",
    "                # ------------------------- This part does the stitching -------------------- #\n",
    "\n",
    "\n",
    "                \"\"\"\n",
    "                Pseudocode:\n",
    "                1) For all MP branches\n",
    "                    a) Get neighbor coordinates to MP stitch points\n",
    "                    b) Delete the MP Stitch points on each \n",
    "                    c) Add skeleton segment from neighbor to MAP stitch point\n",
    "                2) Get skeletons and meshes from MP and MAP pieces\n",
    "                3) Run mesh correspondence to get new meshes and mesh_idx and widths\n",
    "                4a) If MAP_stitch_point_on_end_or_branch is False\n",
    "                - Delete the old MAP branch parts and replace with new MAP ones\n",
    "                4b) Revise the meshes,  mesh_idx, and widths of the MAP pieces\n",
    "                5) Revise the meshes,  mesh_idx, and widths of the MP pieces\n",
    "\n",
    "\n",
    "                \"\"\"\n",
    "\n",
    "                curr_MP_sk = []\n",
    "                for b_idx in MP_branches_with_stitch_point:\n",
    "\n",
    "                    #a) Get neighbor coordinates to MP stitch points\n",
    "                    MP_stitch_branch_graph = sk.convert_skeleton_to_graph(curr_MP_branch_skeletons[b_idx])\n",
    "                    stitch_node = xu.get_nodes_with_attributes_dict(MP_stitch_branch_graph,dict(coordinates=winning_vertex))[0]\n",
    "                    stitch_neighbors = xu.get_neighbors(MP_stitch_branch_graph,stitch_node)\n",
    "\n",
    "                    if len(stitch_neighbors) != 1:\n",
    "                        raise Exception(\"Not just one neighbor for stitch point of MP branch\")\n",
    "                    keep_neighbor = stitch_neighbors[0]  \n",
    "                    keep_neighbor_coordinates = xu.get_node_attributes(MP_stitch_branch_graph,node_list=[keep_neighbor])[0]\n",
    "\n",
    "                    #b) Delete the MP Stitch points on each \n",
    "                    MP_stitch_branch_graph.remove_node(stitch_node)\n",
    "\n",
    "                    #c) Add skeleton segment from neighbor to MAP stitch point\n",
    "                    new_node_name = np.max(MP_stitch_branch_graph.nodes())+1\n",
    "\n",
    "                    MP_stitch_branch_graph.add_nodes_from([(int(new_node_name),{\"coordinates\":MAP_stitch_point})])\n",
    "                    MP_stitch_branch_graph.add_weighted_edges_from([(keep_neighbor,new_node_name,np.linalg.norm(MAP_stitch_point - keep_neighbor_coordinates))])\n",
    "\n",
    "                    new_MP_skeleton = sk.convert_graph_to_skeleton(MP_stitch_branch_graph)\n",
    "                    curr_MP_sk.append(new_MP_skeleton)\n",
    "\n",
    "\n",
    "\n",
    "                #2) Get skeletons and meshes from MP and MAP pieces\n",
    "                curr_MAP_sk = [limb_correspondence_MAP[MAP_idx][k][\"branch_skeleton\"] for k in MAP_branches_with_stitch_point]\n",
    "\n",
    "                #2.1) Going to break up the MAP skeleton if need be\n",
    "                \"\"\"\n",
    "                Pseudocode:\n",
    "                a) check to see if it needs to be broken up\n",
    "                If it does:\n",
    "                b) Convert the skeleton into a graph\n",
    "                c) Find the node of the MAP stitch point (where need to do the breaking)\n",
    "                d) Find the degree one nodes\n",
    "                e) For each degree one node:\n",
    "                - Find shortest path from stitch node to end node\n",
    "                - get a subgraph from that path\n",
    "                - convert graph to a skeleton and save as new skeletons\n",
    "\n",
    "                \"\"\"\n",
    "                #a) check to see if it needs to be broken up\n",
    "                if not MAP_stitch_point_on_end_or_branch:\n",
    "                    if len(curr_MAP_sk) > 1:\n",
    "                        raise Exception(f\"There was more than one skeleton for MAP skeletons even though MAP_stitch_point_on_end_or_branch = {MAP_stitch_point_on_end_or_branch}\")\n",
    "\n",
    "                    curr_MAP_sk_new = []\n",
    "                    #b) Convert the skeleton into a graph\n",
    "                    curr_MAP_sk_graph = sk.convert_skeleton_to_graph(curr_MAP_sk[0])\n",
    "                    #c) Find the node of the MAP stitch point (where need to do the breaking)\n",
    "                    MP_stitch_node = xu.get_nodes_with_attributes_dict(curr_MAP_sk_graph,dict(coordinates=MAP_stitch_point))[0]\n",
    "                    #d) Find the degree one nodes\n",
    "                    curr_end_nodes_for_break = xu.get_nodes_of_degree_k(curr_MAP_sk_graph,1)\n",
    "\n",
    "                    #e) For each degree one node:\n",
    "                    for e_n in curr_end_nodes_for_break:\n",
    "                        #- Find shortest path from stitch node to end node\n",
    "                        stitch_to_end_path = nx.shortest_path(curr_MAP_sk_graph,MP_stitch_node,e_n)\n",
    "                        #- get a subgraph from that path\n",
    "                        stitch_to_end_path_graph = curr_MAP_sk_graph.subgraph(stitch_to_end_path)\n",
    "                        #- convert graph to a skeleton and save as new skeletons\n",
    "                        new_sk = sk.convert_graph_to_skeleton(stitch_to_end_path_graph)\n",
    "                        curr_MAP_sk_new.append(new_sk)\n",
    "                    curr_MAP_sk = curr_MAP_sk_new\n",
    "\n",
    "                curr_MAP_meshes_idx = [limb_correspondence_MAP[MAP_idx][k][\"branch_face_idx\"] for k in MAP_branches_with_stitch_point]\n",
    "\n",
    "                curr_MP_sk\n",
    "                curr_MP_meshes_idx = [limb_correspondence_MP[MP_idx][k][\"branch_face_idx\"] for k in MP_branches_with_stitch_point]\n",
    "\n",
    "                stitching_mesh_idx = np.concatenate(curr_MAP_meshes_idx + curr_MP_meshes_idx)\n",
    "                stitching_mesh = limb_mesh_mparty.submesh([stitching_mesh_idx],append=True,repair=True)\n",
    "                stitching_skeleton_branches = curr_MAP_sk + curr_MP_sk\n",
    "                \"\"\"\n",
    "\n",
    "                ****** NEED TO GET THE RIGHT MESH TO RUN HE IDX ON SO GETS A GOOD MESH (CAN'T BE LIMB_MESH_MPARTY)\n",
    "                BUT MUST BE THE ORIGINAL MAP MESH\n",
    "\n",
    "                mesh_pieces_for_MAP\n",
    "                sublimb_meshes_MP\n",
    "\n",
    "                mesh_pieces_for_MAP_face_idx\n",
    "                sublimb_meshes_MP_face_idx\n",
    "\n",
    "                stitching_mesh = tu.combine_meshes(curr_MAP_meshes + curr_MP_meshes)\n",
    "                stitching_skeleton_branches = curr_MAP_sk + curr_MP_sk\n",
    "\n",
    "                \"\"\"\n",
    "\n",
    "\n",
    "\n",
    "                #3) Run mesh correspondence to get new meshes and mesh_idx and widths\n",
    "                local_correspondnece_stitch = pre.mesh_correspondence_first_pass(mesh=stitching_mesh,\n",
    "                                              skeleton_branches=stitching_skeleton_branches)\n",
    "\n",
    "                local_correspondence_stitch_revised = pre.correspondence_1_to_1(mesh=stitching_mesh,\n",
    "                                                            local_correspondence=local_correspondnece_stitch,\n",
    "                                                            curr_limb_endpoints_must_keep=None,\n",
    "                                                            curr_soma_to_piece_touching_vertices=None)\n",
    "\n",
    "                #Need to readjust the mesh correspondence idx\n",
    "                for k,v in local_correspondence_stitch_revised.items():\n",
    "                    local_correspondence_stitch_revised[k][\"branch_face_idx\"] = stitching_mesh_idx[local_correspondence_stitch_revised[k][\"branch_face_idx\"]]\n",
    "\n",
    "                #4a) If MAP_stitch_point_on_end_or_branch is False\n",
    "                #- Delete the old MAP branch parts and replace with new MAP ones\n",
    "                if not MAP_stitch_point_on_end_or_branch:\n",
    "                    print(\"Deleting branches from dictionary\")\n",
    "                    del limb_correspondence_MAP[MAP_idx][MAP_branches_with_stitch_point[0]]\n",
    "                    #adding the two new branches created from the stitching\n",
    "                    limb_correspondence_MAP[MAP_idx][MAP_branches_with_stitch_point[0]] = local_correspondence_stitch_revised[0]\n",
    "                    limb_correspondence_MAP[MAP_idx][np.max(list(limb_correspondence_MAP[MAP_idx].keys()))+1] = local_correspondence_stitch_revised[1]\n",
    "\n",
    "                    #have to reorder the keys\n",
    "                    limb_correspondence_MAP[MAP_idx] = dict([(k,limb_correspondence_MAP[MAP_idx][k]) for k in np.sort(list(limb_correspondence_MAP[MAP_idx].keys()))])\n",
    "\n",
    "                else: #4b) Revise the meshes,  mesh_idx, and widths of the MAP pieces if weren't broken up\n",
    "                    for j,curr_MAP_idx_fixed in enumerate(MAP_branches_with_stitch_point):\n",
    "                        limb_correspondence_MAP[MAP_idx][curr_MAP_idx_fixed] = local_correspondence_stitch_revised[j]\n",
    "\n",
    "                #5) Revise the meshes,  mesh_idx, and widths of the MP pieces\n",
    "                for j,curr_MP_idx_fixed in enumerate(MP_branches_with_stitch_point):\n",
    "                    limb_correspondence_MP[MP_idx][curr_MP_idx_fixed] = local_correspondence_stitch_revised[j+len(curr_MAP_sk)]\n",
    "\n",
    "\n",
    "                print(f\" Finished with {(MP_idx,MAP_idx)} vertex group {v_idx} \\n\\n\\n\")\n",
    "\n",
    "\n",
    "    else:\n",
    "        print(\"There were not both MAP and MP pieces so skipping the stitch resolving phase\")\n",
    "    \n",
    "    print(f\"Time for decomp of Limb {curr_limb_idx} = {time.time() - curr_limb_time}\")\n",
    "    # ------------- Saving the MAP and MP Decompositions ---------------- #\n",
    "    proper_limb_mesh_correspondence_MAP[curr_limb_idx] = limb_correspondence_MAP\n",
    "    proper_limb_mesh_correspondence_MP[curr_limb_idx] = limb_correspondence_MP\n",
    "    \n",
    "\n",
    "print(f\"Total time for all limb decomps = {time.time() - proper_time}\")"
   ]
  },
  {
   "cell_type": "markdown",
   "metadata": {},
   "source": [
    "# Visualizing the Results before stitching"
   ]
  },
  {
   "cell_type": "code",
   "execution_count": 38,
   "metadata": {},
   "outputs": [],
   "source": [
    "import neuron_visualizations as nviz"
   ]
  },
  {
   "cell_type": "code",
   "execution_count": 39,
   "metadata": {},
   "outputs": [
    {
     "name": "stderr",
     "output_type": "stream",
     "text": [
      "/usr/local/lib/python3.6/dist-packages/traittypes/traittypes.py:101: UserWarning: Given trait value dtype \"float64\" does not match required type \"float64\". A coerced copy has been created.\n",
      "  np.dtype(self.dtype).name))\n"
     ]
    },
    {
     "data": {
      "application/vnd.jupyter.widget-view+json": {
       "model_id": "3be5f4384f2a49e9879b931acf24a5f2",
       "version_major": 2,
       "version_minor": 0
      },
      "text/plain": [
       "VBox(children=(Figure(camera=PerspectiveCamera(fov=46.0, position=(0.0, 0.0, 2.0), quaternion=(0.0, 0.0, 0.0, …"
      ]
     },
     "metadata": {},
     "output_type": "display_data"
    }
   ],
   "source": [
    "MAP_skeletons = []\n",
    "MAP_meshes = []\n",
    "\n",
    "for proper_idx,limb_correspondence_MAP in proper_limb_mesh_correspondence_MAP.items():\n",
    "    for MAP_sublimb_idx,v in limb_correspondence_MAP.items():\n",
    "        for MAP_branch_idx,v2 in v.items():\n",
    "            MAP_skeletons.append(v2[\"branch_skeleton\"])\n",
    "            MAP_meshes.append(v2[\"branch_mesh\"])\n",
    "\n",
    "MP_skeletons = []\n",
    "MP_meshes = []\n",
    "\n",
    "for proper_idx,limb_correspondence_MP in proper_limb_mesh_correspondence_MP.items():\n",
    "    for MP_sublimb_idx,v in limb_correspondence_MP.items():\n",
    "        for MP_branch_idx,v2 in v.items():\n",
    "            MP_skeletons.append(v2[\"branch_skeleton\"])\n",
    "            MP_meshes.append(v2[\"branch_mesh\"])\n",
    "\n",
    "nviz.plot_objects(main_mesh=tu.combine_meshes(soma_touching_mesh_data[z][\"soma_meshes\"]),\n",
    "                  main_mesh_color=\"red\",\n",
    "    meshes=MP_meshes + MAP_meshes,\n",
    "                  meshes_colors=\"random\",\n",
    "                 skeletons=MP_skeletons + MAP_skeletons,\n",
    "                 skeletons_colors=\"random\",\n",
    "                html_path=\"cloud_neuron_decomp_test.html\",\n",
    "#show_at_end=False\n",
    "                 )"
   ]
  },
  {
   "cell_type": "markdown",
   "metadata": {},
   "source": [
    "# checking that a branch has all one connected component skeleton"
   ]
  },
  {
   "cell_type": "code",
   "execution_count": null,
   "metadata": {},
   "outputs": [],
   "source": [
    "MAP_skeletons = []\n",
    "MAP_meshes = []\n",
    "\n",
    "check_idx = 0\n",
    "\n",
    "limb_correspondence_MAP = proper_limb_mesh_correspondence_MAP[check_idx]\n",
    "for MAP_sublimb_idx,v in limb_correspondence_MAP.items():\n",
    "    for MAP_branch_idx,v2 in v.items():\n",
    "        MAP_skeletons.append(v2[\"branch_skeleton\"])\n",
    "        MAP_meshes.append(v2[\"branch_mesh\"])\n",
    "\n",
    "MP_skeletons = []\n",
    "MP_meshes = []\n",
    "\n",
    "limb_correspondence_MP = proper_limb_mesh_correspondence_MP[check_idx]\n",
    "for MP_sublimb_idx,v in limb_correspondence_MP.items():\n",
    "    for MP_branch_idx,v2 in v.items():\n",
    "        MP_skeletons.append(v2[\"branch_skeleton\"])\n",
    "        MP_meshes.append(v2[\"branch_mesh\"])\n",
    "        \n"
   ]
  },
  {
   "cell_type": "code",
   "execution_count": null,
   "metadata": {},
   "outputs": [],
   "source": [
    "total_limb_sk = sk.stack_skeletons(MAP_skeletons+MP_skeletons)\n",
    "nx.number_connected_components(sk.convert_skeleton_to_graph(total_limb_sk))"
   ]
  }
 ],
 "metadata": {
  "kernelspec": {
   "display_name": "Python 3",
   "language": "python",
   "name": "python3"
  },
  "language_info": {
   "codemirror_mode": {
    "name": "ipython",
    "version": 3
   },
   "file_extension": ".py",
   "mimetype": "text/x-python",
   "name": "python",
   "nbconvert_exporter": "python",
   "pygments_lexer": "ipython3",
   "version": "3.6.9"
  }
 },
 "nbformat": 4,
 "nbformat_minor": 4
}
