{
 "cells": [
  {
   "cell_type": "code",
   "execution_count": 1,
   "metadata": {},
   "outputs": [],
   "source": [
    "from os import sys\n",
    "sys.path.append(\"/meshAfterParty/\")"
   ]
  },
  {
   "cell_type": "code",
   "execution_count": 2,
   "metadata": {},
   "outputs": [
    {
     "name": "stderr",
     "output_type": "stream",
     "text": [
      "WARNING - 2020-11-14 08:36:57,847 - trimesh_repair - Need to pip install annotationframeworkclient to repair mesh with pychunkedgraph\n",
      "WARNING - 2020-11-14 08:36:57,850 - trimesh_io - Need to pip install annotationframeworkclient to use dataset_name parameters\n",
      "INFO - 2020-11-14 08:36:57,857 - settings - Setting database.host to at-database.ad.bcm.edu\n",
      "INFO - 2020-11-14 08:36:57,858 - settings - Setting database.user to celiib\n",
      "INFO - 2020-11-14 08:36:57,859 - settings - Setting database.password to newceliipass\n"
     ]
    }
   ],
   "source": [
    "import skeleton_utils as sk\n",
    "import soma_extraction_utils as sm\n",
    "import trimesh_utils as tu\n",
    "import trimesh\n",
    "import numpy_utils as nu\n",
    "import numpy as np\n",
    "from importlib import reload\n",
    "import networkx as nx\n",
    "import time\n",
    "import compartment_utils as cu\n",
    "import networkx_utils as xu\n",
    "import matplotlib_utils as mu\n",
    "import neuron_utils as nru\n",
    "\n",
    "#importing at the bottom so don't get any conflicts\n",
    "import itertools\n",
    "from tqdm_utils import tqdm\n",
    "\n",
    "#for meshparty preprocessing\n",
    "import meshparty_skeletonize as m_sk\n",
    "import general_utils as gu\n",
    "import compartment_utils as cu\n",
    "from meshparty import trimesh_io\n",
    "from copy import deepcopy\n",
    "\n",
    "\n",
    "from neuron_utils import *\n"
   ]
  },
  {
   "cell_type": "markdown",
   "metadata": {},
   "source": [
    "# Downloading the Neuron"
   ]
  },
  {
   "cell_type": "code",
   "execution_count": 3,
   "metadata": {},
   "outputs": [
    {
     "name": "stderr",
     "output_type": "stream",
     "text": [
      "INFO - 2020-11-14 08:36:58,252 - settings - Setting database.host to at-database.ad.bcm.edu\n",
      "INFO - 2020-11-14 08:36:58,253 - settings - Setting database.user to celiib\n",
      "INFO - 2020-11-14 08:36:58,253 - settings - Setting database.password to newceliipass\n",
      "INFO - 2020-11-14 08:36:58,260 - settings - Setting stores to {'minnie65': {'protocol': 'file', 'location': '/mnt/dj-stor01/platinum/minnie65', 'stage': '/mnt/dj-stor01/platinum/minnie65'}, 'meshes': {'protocol': 'file', 'location': '/mnt/dj-stor01/platinum/minnie65/02/meshes', 'stage': '/mnt/dj-stor01/platinum/minnie65/02/meshes'}, 'decimated_meshes': {'protocol': 'file', 'location': '/mnt/dj-stor01/platinum/minnie65/02/decimated_meshes', 'stage': '/mnt/dj-stor01/platinum/minnie65/02/decimated_meshes'}, 'skeletons': {'protocol': 'file', 'location': '/mnt/dj-stor01/platinum/minnie65/02/skeletons'}}\n",
      "INFO - 2020-11-14 08:36:58,260 - settings - Setting enable_python_native_blobs to True\n",
      "INFO - 2020-11-14 08:36:58,272 - connection - Connected celiib@at-database.ad.bcm.edu:3306\n",
      "INFO - 2020-11-14 08:36:58,427 - settings - Setting enable_python_native_blobs to True\n"
     ]
    },
    {
     "name": "stdout",
     "output_type": "stream",
     "text": [
      "Connecting celiib@at-database.ad.bcm.edu:3306\n"
     ]
    }
   ],
   "source": [
    "import datajoint_utils as du\n",
    "import neuron_visualizations as nviz"
   ]
  },
  {
   "cell_type": "code",
   "execution_count": 4,
   "metadata": {},
   "outputs": [
    {
     "name": "stdout",
     "output_type": "stream",
     "text": [
      "curr_segment_id = 864691135550020804\n"
     ]
    },
    {
     "name": "stderr",
     "output_type": "stream",
     "text": [
      "/usr/local/lib/python3.6/dist-packages/traittypes/traittypes.py:101: UserWarning: Given trait value dtype \"float64\" does not match required type \"float64\". A coerced copy has been created.\n",
      "  np.dtype(self.dtype).name))\n"
     ]
    },
    {
     "data": {
      "application/vnd.jupyter.widget-view+json": {
       "model_id": "20986f40700e4c8c96f9d7d1ad3034b9",
       "version_major": 2,
       "version_minor": 0
      },
      "text/plain": [
       "VBox(children=(Figure(camera=PerspectiveCamera(fov=46.0, position=(0.0, 0.0, 2.0), quaternion=(0.0, 0.0, 0.0, …"
      ]
     },
     "metadata": {},
     "output_type": "display_data"
    }
   ],
   "source": [
    "segment_id = 864691135550020804\n",
    "\n",
    "print(f\"curr_segment_id = {segment_id}\")\n",
    "current_neuron = du.fetch_segment_id_mesh(segment_id)\n",
    "nviz.plot_objects(current_neuron)"
   ]
  },
  {
   "cell_type": "code",
   "execution_count": 5,
   "metadata": {},
   "outputs": [],
   "source": [
    "description=\"conn_debug\""
   ]
  },
  {
   "cell_type": "markdown",
   "metadata": {},
   "source": [
    "# Arguments for preprocessing"
   ]
  },
  {
   "cell_type": "code",
   "execution_count": 6,
   "metadata": {},
   "outputs": [],
   "source": [
    "#predefined arguments for the Neuron constructor\n",
    "\n",
    "decomposition_type=\"meshafterparty\"\n",
    "mesh_correspondence=\"meshparty\" #meshafterparty_adaptive\n",
    "distance_by_mesh_center=True #how the distance is calculated for mesh correspondence\n",
    "meshparty_segment_size = 100\n",
    "meshparty_n_surface_downsampling = 2\n",
    "meshparty_adaptive_correspondence_after_creation=False\n",
    "suppress_preprocessing_print=True\n",
    "computed_attribute_dict=None\n",
    "#somas = None\n",
    "branch_skeleton_data=None\n",
    "combine_close_skeleton_nodes = True\n",
    "combine_close_skeleton_nodes_threshold=700\n",
    "ignore_warnings=True\n",
    "suppress_output=False\n",
    "calculate_spines=True\n",
    "widths_to_calculate=[\"no_spine_median_mesh_center\"]\n",
    "fill_hole_size=2000"
   ]
  },
  {
   "cell_type": "code",
   "execution_count": 7,
   "metadata": {},
   "outputs": [],
   "source": [
    "#arguments for the preprocess neuron\n",
    "mesh = current_neuron\n",
    "segment_id=segment_id\n",
    "description=description\n",
    "\n",
    "sig_th_initial_split=15 #for significant splitting meshes in the intial mesh split\n",
    "limb_threshold = 2000 #the mesh faces threshold for a mesh to be qualified as a limb (otherwise too small)\n",
    "filter_end_node_length=4001 #used in cleaning the skeleton during skeletonizations\n",
    "return_no_somas = False\n",
    "\n",
    "decomposition_type=decomposition_type\n",
    "mesh_correspondence=mesh_correspondence\n",
    "distance_by_mesh_center=distance_by_mesh_center\n",
    "meshparty_segment_size =meshparty_segment_size\n",
    "meshparty_n_surface_downsampling = meshparty_n_surface_downsampling\n",
    "somas=None\n",
    "branch_skeleton_data=branch_skeleton_data\n",
    "combine_close_skeleton_nodes = combine_close_skeleton_nodes\n",
    "combine_close_skeleton_nodes_threshold=combine_close_skeleton_nodes_threshold\n",
    "\n",
    "if \"meshafterparty\" in decomposition_type.lower():\n",
    "    use_meshafterparty = True\n",
    "else:\n",
    "    use_meshafterparty = False"
   ]
  },
  {
   "cell_type": "markdown",
   "metadata": {},
   "source": [
    "# Setting up the metadata"
   ]
  },
  {
   "cell_type": "code",
   "execution_count": 8,
   "metadata": {},
   "outputs": [
    {
     "name": "stdout",
     "output_type": "stream",
     "text": [
      "Mesh was not none\n"
     ]
    }
   ],
   "source": [
    "whole_processing_tiempo = time.time()\n",
    "\n",
    "\n",
    "\"\"\"\n",
    "Purpose: To process the mesh into a format that can be loaded into the neuron class\n",
    "and used for higher order processing (how to visualize is included)\n",
    "\n",
    "\"\"\"\n",
    "if description is None:\n",
    "    description = \"no_description\"\n",
    "if segment_id is None:\n",
    "    #pick a random segment id\n",
    "    segment_id = np.random.randint(100000000)\n",
    "    print(f\"picking a random 7 digit segment id: {segment_id}\")\n",
    "    description += \"_random_id\"\n",
    "\n",
    "\n",
    "if mesh is None:\n",
    "    if current_mesh_file is None:\n",
    "        raise Exception(\"No mesh or mesh_file file were given\")\n",
    "    else:\n",
    "        current_neuron = trimesh.load_mesh(current_mesh_file)\n",
    "else:\n",
    "    print(\"Mesh was not none\")\n",
    "    current_neuron = mesh"
   ]
  },
  {
   "cell_type": "code",
   "execution_count": 9,
   "metadata": {},
   "outputs": [
    {
     "name": "stdout",
     "output_type": "stream",
     "text": [
      "Current Arguments Using (adjusted for decimation):\n",
      " large_mesh_threshold= 15000.0 \n",
      "large_mesh_threshold_inner = 10000.0 \n",
      "soma_size_threshold = 937.5 \n",
      "soma_size_threshold_max = 12000.0\n",
      "outer_decimation_ratio = 0.25\n",
      "inner_decimation_ratio = 0.25\n",
      "xvfb-run -n 5226 -s \"-screen 0 800x600x24\" meshlabserver $@  -i /notebooks/Platinum_Decomp_Fusion/864691135550020804/neuron_864691135550020804.off -o /notebooks/Platinum_Decomp_Fusion/864691135550020804/neuron_864691135550020804_decimated.off -s /notebooks/Platinum_Decomp_Fusion/864691135550020804/decimation_meshlab_25701278.mls\n",
      "Total found significant pieces before Poisson = [<trimesh.Trimesh(vertices.shape=(164427, 3), faces.shape=(327853, 3))>]\n",
      "----- working on large mesh #0: <trimesh.Trimesh(vertices.shape=(164427, 3), faces.shape=(327853, 3))>\n",
      "remove_inside_pieces requested \n",
      "xvfb-run -n 4419 -s \"-screen 0 800x600x24\" meshlabserver $@  -i /notebooks/Platinum_Decomp_Fusion/temp/neuron_71853.off -o /notebooks/Platinum_Decomp_Fusion/temp/neuron_71853_remove_interior.off -s /notebooks/Platinum_Decomp_Fusion/temp/remove_interior_524926.mls\n",
      "removed temporary input file: /notebooks/Platinum_Decomp_Fusion/temp/neuron_71853.off\n",
      "removed temporary output file: /notebooks/Platinum_Decomp_Fusion/temp/neuron_71853_remove_interior.off\n",
      "/notebooks/Platinum_Decomp_Fusion/temp/remove_interior_524926.mls is being deleted....\n",
      "Removing the following inside neurons: [<trimesh.Trimesh(vertices.shape=(3580, 3), faces.shape=(7821, 3))>]\n",
      "pre_largest_mesh_path = /notebooks/Platinum_Decomp_Fusion/864691135550020804/neuron_864691135550020804_decimated_largest_piece.off\n",
      "xvfb-run -n 5396 -s \"-screen 0 800x600x24\" meshlabserver $@  -i /notebooks/Platinum_Decomp_Fusion/864691135550020804/neuron_864691135550020804_decimated_largest_piece.off -o /notebooks/Platinum_Decomp_Fusion/864691135550020804/neuron_864691135550020804_decimated_largest_piece_poisson.off -s /notebooks/Platinum_Decomp_Fusion/864691135550020804/poisson_640815.mls\n",
      "Total found significant pieces AFTER Poisson = [<trimesh.Trimesh(vertices.shape=(83344, 3), faces.shape=(166696, 3))>, <trimesh.Trimesh(vertices.shape=(27094, 3), faces.shape=(54184, 3))>, <trimesh.Trimesh(vertices.shape=(5528, 3), faces.shape=(11052, 3))>, <trimesh.Trimesh(vertices.shape=(5379, 3), faces.shape=(10754, 3))>]\n",
      "----- working on mesh after poisson #0: <trimesh.Trimesh(vertices.shape=(83344, 3), faces.shape=(166696, 3))>\n",
      "xvfb-run -n 2703 -s \"-screen 0 800x600x24\" meshlabserver $@  -i /notebooks/Platinum_Decomp_Fusion/864691135550020804/neuron_864691135550020804_decimated_largest_piece_poisson_largest_inner.off -o /notebooks/Platinum_Decomp_Fusion/864691135550020804/neuron_864691135550020804_decimated_largest_piece_poisson_largest_inner_decimated.off -s /notebooks/Platinum_Decomp_Fusion/864691135550020804/decimation_meshlab_25585810.mls\n",
      "done exporting decimated mesh: neuron_864691135550020804_decimated_largest_piece_poisson_largest_inner.off\n",
      "1) Starting: Mesh importing and Pymesh fix\n",
      "loading mesh from vertices and triangles array\n",
      "1) Finished: Mesh importing and Pymesh fix: 0.00028228759765625\n",
      "2) Staring: Generating CGAL segmentation for neuron\n",
      "Done writing OFF file\n",
      "\n",
      "Starting CGAL segmentation\n",
      "Right before cgal segmentation, clusters = 3, smoothness = 0.2, path_and_filename = /notebooks/Platinum_Decomp_Fusion/temp/86469113555002080400_fixed \n",
      "1\n",
      "Finished CGAL segmentation algorithm: 5.370501518249512\n",
      "2) Finished: Generating CGAL segmentation for neuron: 6.138377666473389\n",
      "3) Staring: Generating Graph Structure and Identifying Soma using soma size threshold  = 3000\n",
      "my_list_keys = [0, 1, 2, 3, 4, 5, 6, 7, 8, 9, 10, 11, 12, 13, 14, 15, 16, 17, 18, 19, 20, 21, 22, 23, 24]\n",
      "changed the median value\n",
      "changed the mean value\n",
      "changed the max value\n",
      "changed the median value\n",
      "changed the mean value\n",
      "changed the median value\n",
      "changed the mean value\n",
      "changed the max value\n",
      "soma_index = 4\n",
      "3) Finished: Generating Graph Structure and Identifying Soma: 0.019099712371826172\n",
      "Not finding the apical because soma_only option selected\n",
      "6) Staring: Classifying Entire Neuron\n",
      "Total Labels found = {'unsure', 'soma'}\n",
      "6) Finished: Classifying Entire Neuron: 8.463859558105469e-05\n",
      "7) Staring: Transfering Segmentation Labels to Face Labels\n",
      "7) Finished: Transfering Segmentation Labels to Face Labels: 0.047387123107910156\n",
      "8) Staring: Generating final Vertex and Face Labels\n",
      "8) Finished: Generating final Vertex and Face Labels: 0.2593672275543213\n",
      "Returning the soma_sdf value AND the classifier\n",
      "soma_sdf_value = 0.798045\n",
      "segmentation[sorted_medians],median_values[sorted_medians] = (array([ 4, 21, 24, 17,  3,  9,  1, 11,  7,  8, 18, 20, 22,  6, 12,  5,  0,\n",
      "       19, 23, 16, 14, 15, 13,  2, 10]), array([0.798045  , 0.0985961 , 0.095806  , 0.092847  , 0.0893685 ,\n",
      "       0.0859818 , 0.0832197 , 0.07377585, 0.0636103 , 0.0583708 ,\n",
      "       0.0559484 , 0.0558561 , 0.0517746 , 0.04865255, 0.0480847 ,\n",
      "       0.0480335 , 0.04700725, 0.0462637 , 0.0457879 , 0.04552565,\n",
      "       0.0455038 , 0.0448684 , 0.039449  , 0.0383523 , 0.0325314 ]))\n",
      "Sizes = [8295, 142, 416, 594, 6225, 383, 6679, 820, 270, 1356, 451, 1808, 943, 1410, 1925, 578, 1784, 147, 765, 60, 3585, 1396, 1457, 71, 104]\n",
      "soma_size_threshold = 937.5\n",
      "soma_size_threshold_max=12000.0\n",
      "valid_soma_segments_width\n",
      "      ------ Found 1 viable somas: [4]\n",
      "Using Poisson Surface Reconstruction for watertightness in soma_volume_ratio\n",
      "xvfb-run -n 5623 -s \"-screen 0 800x600x24\" meshlabserver $@  -i /notebooks/Platinum_Decomp_Fusion/Poisson_temp/neuron_572130.off -o /notebooks/Platinum_Decomp_Fusion/Poisson_temp/neuron_572130_poisson.off -s /notebooks/Platinum_Decomp_Fusion/Poisson_temp/poisson_748979.mls\n",
      "removed temporary input file: /notebooks/Platinum_Decomp_Fusion/Poisson_temp/neuron_572130.off\n",
      "removed temporary output file: /notebooks/Platinum_Decomp_Fusion/Poisson_temp/neuron_572130_poisson.off\n",
      "mesh.is_watertight = True\n",
      "/notebooks/Platinum_Decomp_Fusion/Poisson_temp/poisson_748979.mls is being deleted....\n",
      "Inside sphere validater: ratio_val = 3.888183950833596\n",
      "----- working on mesh after poisson #1: <trimesh.Trimesh(vertices.shape=(27094, 3), faces.shape=(54184, 3))>\n",
      "xvfb-run -n 6898 -s \"-screen 0 800x600x24\" meshlabserver $@  -i /notebooks/Platinum_Decomp_Fusion/864691135550020804/neuron_864691135550020804_decimated_largest_piece_poisson_largest_inner.off -o /notebooks/Platinum_Decomp_Fusion/864691135550020804/neuron_864691135550020804_decimated_largest_piece_poisson_largest_inner_decimated.off -s /notebooks/Platinum_Decomp_Fusion/864691135550020804/decimation_meshlab_25585810.mls\n",
      "done exporting decimated mesh: neuron_864691135550020804_decimated_largest_piece_poisson_largest_inner.off\n",
      "1) Starting: Mesh importing and Pymesh fix\n",
      "loading mesh from vertices and triangles array\n",
      "1) Finished: Mesh importing and Pymesh fix: 0.0003788471221923828\n",
      "2) Staring: Generating CGAL segmentation for neuron\n",
      "Done writing OFF file\n",
      "\n",
      "Starting CGAL segmentation\n",
      "Right before cgal segmentation, clusters = 3, smoothness = 0.2, path_and_filename = /notebooks/Platinum_Decomp_Fusion/temp/86469113555002080401_fixed \n",
      "1\n",
      "Finished CGAL segmentation algorithm: 1.4042530059814453\n",
      "2) Finished: Generating CGAL segmentation for neuron: 1.6171422004699707\n",
      "3) Staring: Generating Graph Structure and Identifying Soma using soma size threshold  = 3000\n",
      "my_list_keys = [0, 1, 2, 3, 4, 5]\n",
      "changed the median value\n",
      "changed the mean value\n",
      "changed the max value\n",
      "soma_index = 1\n",
      "3) Finished: Generating Graph Structure and Identifying Soma: 0.005309343338012695\n",
      "Not finding the apical because soma_only option selected\n",
      "6) Staring: Classifying Entire Neuron\n",
      "Total Labels found = {'unsure', 'soma'}\n",
      "6) Finished: Classifying Entire Neuron: 5.125999450683594e-05\n",
      "7) Staring: Transfering Segmentation Labels to Face Labels\n",
      "7) Finished: Transfering Segmentation Labels to Face Labels: 0.012066125869750977\n",
      "8) Staring: Generating final Vertex and Face Labels\n",
      "8) Finished: Generating final Vertex and Face Labels: 0.07168865203857422\n",
      "Returning the soma_sdf value AND the classifier\n",
      "soma_sdf_value = 0.838408\n",
      "segmentation[sorted_medians],median_values[sorted_medians] = (array([1, 4, 0, 2, 5, 3]), array([0.838408  , 0.2458945 , 0.128338  , 0.1019455 , 0.0737449 ,\n",
      "       0.07284685]))\n",
      "Sizes = [4540, 166, 757, 4844, 1011, 2224]\n",
      "soma_size_threshold = 937.5\n",
      "soma_size_threshold_max=12000.0\n",
      "valid_soma_segments_width\n",
      "      ------ Found 1 viable somas: [1]\n"
     ]
    },
    {
     "name": "stdout",
     "output_type": "stream",
     "text": [
      "Using Poisson Surface Reconstruction for watertightness in soma_volume_ratio\n",
      "xvfb-run -n 7032 -s \"-screen 0 800x600x24\" meshlabserver $@  -i /notebooks/Platinum_Decomp_Fusion/Poisson_temp/neuron_880737.off -o /notebooks/Platinum_Decomp_Fusion/Poisson_temp/neuron_880737_poisson.off -s /notebooks/Platinum_Decomp_Fusion/Poisson_temp/poisson_316237.mls\n",
      "removed temporary input file: /notebooks/Platinum_Decomp_Fusion/Poisson_temp/neuron_880737.off\n",
      "removed temporary output file: /notebooks/Platinum_Decomp_Fusion/Poisson_temp/neuron_880737_poisson.off\n",
      "mesh.is_watertight = True\n",
      "/notebooks/Platinum_Decomp_Fusion/Poisson_temp/poisson_316237.mls is being deleted....\n",
      "Inside sphere validater: ratio_val = 2.691253852068108\n",
      "----- working on mesh after poisson #2: <trimesh.Trimesh(vertices.shape=(5528, 3), faces.shape=(11052, 3))>\n",
      "xvfb-run -n 640 -s \"-screen 0 800x600x24\" meshlabserver $@  -i /notebooks/Platinum_Decomp_Fusion/864691135550020804/neuron_864691135550020804_decimated_largest_piece_poisson_largest_inner.off -o /notebooks/Platinum_Decomp_Fusion/864691135550020804/neuron_864691135550020804_decimated_largest_piece_poisson_largest_inner_decimated.off -s /notebooks/Platinum_Decomp_Fusion/864691135550020804/decimation_meshlab_25585810.mls\n",
      "done exporting decimated mesh: neuron_864691135550020804_decimated_largest_piece_poisson_largest_inner.off\n",
      "1) Starting: Mesh importing and Pymesh fix\n",
      "loading mesh from vertices and triangles array\n",
      "1) Finished: Mesh importing and Pymesh fix: 0.00025963783264160156\n",
      "2) Staring: Generating CGAL segmentation for neuron\n",
      "Done writing OFF file\n",
      "\n",
      "Starting CGAL segmentation\n",
      "Right before cgal segmentation, clusters = 3, smoothness = 0.2, path_and_filename = /notebooks/Platinum_Decomp_Fusion/temp/86469113555002080402_fixed \n",
      "1\n",
      "Finished CGAL segmentation algorithm: 0.20824646949768066\n",
      "2) Finished: Generating CGAL segmentation for neuron: 0.2535696029663086\n",
      "3) Staring: Generating Graph Structure and Identifying Soma using soma size threshold  = 3000\n",
      "my_list_keys = [0, 1]\n",
      "soma_index = -1\n",
      "3) Finished: Generating Graph Structure and Identifying Soma: 0.0011675357818603516\n",
      "Not finding the apical because soma_only option selected\n",
      "6) Staring: Classifying Entire Neuron\n",
      "Total Labels found = {'unsure'}\n",
      "6) Finished: Classifying Entire Neuron: 4.7206878662109375e-05\n",
      "7) Staring: Transfering Segmentation Labels to Face Labels\n",
      "7) Finished: Transfering Segmentation Labels to Face Labels: 0.002701282501220703\n",
      "8) Staring: Generating final Vertex and Face Labels\n",
      "8) Finished: Generating final Vertex and Face Labels: 0.013673543930053711\n",
      "Returning the soma_sdf value AND the classifier\n",
      "soma_sdf_value = 0\n",
      "segmentation[sorted_medians],median_values[sorted_medians] = (array([0, 1]), array([0.5829655, 0.441953 ]))\n",
      "Sizes = [1220, 1542]\n",
      "soma_size_threshold = 937.5\n",
      "soma_size_threshold_max=12000.0\n",
      "valid_soma_segments_width\n",
      "      ------ Found 2 viable somas: [0, 1]\n",
      "mesh.is_watertight = True\n",
      "/notebooks/Platinum_Decomp_Fusion/Poisson_temp/poisson_751952.mls is being deleted....\n",
      "Inside sphere validater: ratio_val = 31.013764205997425\n",
      "--->This soma mesh was not added because it did not pass the sphere validation:\n",
      " soma_mesh = <trimesh.Trimesh(vertices.shape=(613, 3), faces.shape=(1220, 3))>, curr_side_len_check = True, curr_volume_check = False\n",
      "mesh.is_watertight = True\n",
      "/notebooks/Platinum_Decomp_Fusion/Poisson_temp/poisson_207488.mls is being deleted....\n",
      "Inside sphere validater: ratio_val = 312.5943577182689\n",
      "--->This soma mesh was not added because it did not pass the sphere validation:\n",
      " soma_mesh = <trimesh.Trimesh(vertices.shape=(774, 3), faces.shape=(1542, 3))>, curr_side_len_check = True, curr_volume_check = False\n",
      "----- working on mesh after poisson #3: <trimesh.Trimesh(vertices.shape=(5379, 3), faces.shape=(10754, 3))>\n",
      "xvfb-run -n 8932 -s \"-screen 0 800x600x24\" meshlabserver $@  -i /notebooks/Platinum_Decomp_Fusion/864691135550020804/neuron_864691135550020804_decimated_largest_piece_poisson_largest_inner.off -o /notebooks/Platinum_Decomp_Fusion/864691135550020804/neuron_864691135550020804_decimated_largest_piece_poisson_largest_inner_decimated.off -s /notebooks/Platinum_Decomp_Fusion/864691135550020804/decimation_meshlab_25585810.mls\n",
      "done exporting decimated mesh: neuron_864691135550020804_decimated_largest_piece_poisson_largest_inner.off\n",
      "1) Starting: Mesh importing and Pymesh fix\n",
      "loading mesh from vertices and triangles array\n",
      "1) Finished: Mesh importing and Pymesh fix: 0.000247955322265625\n",
      "2) Staring: Generating CGAL segmentation for neuron\n",
      "Done writing OFF file\n",
      "\n",
      "Starting CGAL segmentation\n",
      "Right before cgal segmentation, clusters = 3, smoothness = 0.2, path_and_filename = /notebooks/Platinum_Decomp_Fusion/temp/86469113555002080403_fixed \n",
      "1\n",
      "Finished CGAL segmentation algorithm: 0.19913434982299805\n",
      "2) Finished: Generating CGAL segmentation for neuron: 0.25484347343444824\n",
      "3) Staring: Generating Graph Structure and Identifying Soma using soma size threshold  = 3000\n",
      "my_list_keys = [0, 1, 2, 3, 4, 5, 6]\n",
      "soma_index = -1\n",
      "3) Finished: Generating Graph Structure and Identifying Soma: 0.0012407302856445312\n",
      "Not finding the apical because soma_only option selected\n",
      "6) Staring: Classifying Entire Neuron\n",
      "Total Labels found = {'unsure'}\n",
      "6) Finished: Classifying Entire Neuron: 0.000102996826171875\n",
      "7) Staring: Transfering Segmentation Labels to Face Labels\n",
      "7) Finished: Transfering Segmentation Labels to Face Labels: 0.0026445388793945312\n",
      "8) Staring: Generating final Vertex and Face Labels\n",
      "8) Finished: Generating final Vertex and Face Labels: 0.013117313385009766\n",
      "Returning the soma_sdf value AND the classifier\n",
      "soma_sdf_value = 0\n",
      "segmentation[sorted_medians],median_values[sorted_medians] = (array([4, 0, 3, 1, 5, 2, 6]), array([0.762323 , 0.5212805, 0.453781 , 0.3469835, 0.318491 , 0.174037 ,\n",
      "       0.11323  ]))\n",
      "Sizes = [575, 1458, 191, 172, 254, 23, 15]\n",
      "soma_size_threshold = 937.5\n",
      "soma_size_threshold_max=12000.0\n",
      "valid_soma_segments_width\n",
      "      ------ Found 1 viable somas: [0]\n",
      "mesh.is_watertight = True\n",
      "/notebooks/Platinum_Decomp_Fusion/Poisson_temp/poisson_652205.mls is being deleted....\n",
      "Inside sphere validater: ratio_val = 169.7280328394388\n",
      "--->This soma mesh was not added because it did not pass the sphere validation:\n",
      " soma_mesh = <trimesh.Trimesh(vertices.shape=(732, 3), faces.shape=(1458, 3))>, curr_side_len_check = True, curr_volume_check = False\n",
      "\n",
      "\n",
      "\n",
      " Total time for run = 153.7833230495453\n",
      "Before Filtering the number of somas found = 2\n",
      "Performing Soma Mesh Backtracking to original mesh\n",
      "# total split meshes = 12\n",
      "viable_meshes = [0]\n",
      "There were 11 pieces found after size threshold\n",
      "# of soma containing seperate meshes = 1\n",
      "meshes with somas = {0: [0]}\n",
      "\n",
      "\n",
      "----Working on soma-containing mesh piece 0----\n",
      "current_soma_mesh_list = [<trimesh.Trimesh(vertices.shape=(4189, 3), faces.shape=(8295, 3))>]\n",
      "current_mesh = <trimesh.Trimesh(vertices.shape=(164427, 3), faces.shape=(327388, 3))>\n",
      "\n",
      "inside Soma subtraction\n",
      "mesh pieces in subtact soma BEFORE the filtering inside pieces = [<trimesh.Trimesh(vertices.shape=(55346, 3), faces.shape=(110068, 3))>, <trimesh.Trimesh(vertices.shape=(45493, 3), faces.shape=(90152, 3))>, <trimesh.Trimesh(vertices.shape=(16867, 3), faces.shape=(33248, 3))>, <trimesh.Trimesh(vertices.shape=(12550, 3), faces.shape=(24672, 3))>, <trimesh.Trimesh(vertices.shape=(9413, 3), faces.shape=(18523, 3))>, <trimesh.Trimesh(vertices.shape=(8102, 3), faces.shape=(15988, 3))>, <trimesh.Trimesh(vertices.shape=(6698, 3), faces.shape=(13326, 3))>, <trimesh.Trimesh(vertices.shape=(2507, 3), faces.shape=(4959, 3))>, <trimesh.Trimesh(vertices.shape=(1784, 3), faces.shape=(3528, 3))>]\n",
      "There were 9 pieces found after size threshold\n",
      "mesh pieces in subtact soma AFTER the filtering inside pieces = [<trimesh.Trimesh(vertices.shape=(55346, 3), faces.shape=(110068, 3))>, <trimesh.Trimesh(vertices.shape=(45493, 3), faces.shape=(90152, 3))>, <trimesh.Trimesh(vertices.shape=(16867, 3), faces.shape=(33248, 3))>, <trimesh.Trimesh(vertices.shape=(12550, 3), faces.shape=(24672, 3))>, <trimesh.Trimesh(vertices.shape=(9413, 3), faces.shape=(18523, 3))>, <trimesh.Trimesh(vertices.shape=(8102, 3), faces.shape=(15988, 3))>, <trimesh.Trimesh(vertices.shape=(6698, 3), faces.shape=(13326, 3))>, <trimesh.Trimesh(vertices.shape=(2507, 3), faces.shape=(4959, 3))>, <trimesh.Trimesh(vertices.shape=(1784, 3), faces.shape=(3528, 3))>]\n",
      "Total Time for soma mesh cancellation = 1.01\n",
      "mesh_pieces_without_soma = [<trimesh.Trimesh(vertices.shape=(55346, 3), faces.shape=(110068, 3))>, <trimesh.Trimesh(vertices.shape=(45493, 3), faces.shape=(90152, 3))>, <trimesh.Trimesh(vertices.shape=(16867, 3), faces.shape=(33248, 3))>, <trimesh.Trimesh(vertices.shape=(12550, 3), faces.shape=(24672, 3))>, <trimesh.Trimesh(vertices.shape=(9413, 3), faces.shape=(18523, 3))>, <trimesh.Trimesh(vertices.shape=(8102, 3), faces.shape=(15988, 3))>, <trimesh.Trimesh(vertices.shape=(6698, 3), faces.shape=(13326, 3))>, <trimesh.Trimesh(vertices.shape=(2507, 3), faces.shape=(4959, 3))>, <trimesh.Trimesh(vertices.shape=(1784, 3), faces.shape=(3528, 3))>]\n",
      "Total time for Subtract Soam = 1.011223554611206\n"
     ]
    },
    {
     "name": "stdout",
     "output_type": "stream",
     "text": [
      "Total time for Original_mesh_faces_map for mesh_pieces without soma= 0.2964458465576172\n",
      "poisson_backtrack_distance_threshold = None\n",
      "Using Poisson Surface Reconstruction for watertightness in soma_volume_ratio\n"
     ]
    },
    {
     "name": "stderr",
     "output_type": "stream",
     "text": [
      "/meshAfterParty/trimesh_utils.py:331: VisibleDeprecationWarning: Creating an ndarray from ragged nested sequences (which is a list-or-tuple of lists-or-tuples-or ndarrays with different lengths or shapes) is deprecated. If you meant to do this, you must specify 'dtype=object' when creating the ndarray\n",
      "  ordered_comp_indices = np.array([k.astype(\"int\") for k in ordered_components])\n"
     ]
    },
    {
     "name": "stdout",
     "output_type": "stream",
     "text": [
      "xvfb-run -n 4467 -s \"-screen 0 800x600x24\" meshlabserver $@  -i /notebooks/Platinum_Decomp_Fusion/Poisson_temp/neuron_928738.off -o /notebooks/Platinum_Decomp_Fusion/Poisson_temp/neuron_928738_poisson.off -s /notebooks/Platinum_Decomp_Fusion/Poisson_temp/poisson_634883.mls\n",
      "removed temporary input file: /notebooks/Platinum_Decomp_Fusion/Poisson_temp/neuron_928738.off\n",
      "removed temporary output file: /notebooks/Platinum_Decomp_Fusion/Poisson_temp/neuron_928738_poisson.off\n",
      "mesh.is_watertight = True\n",
      "/notebooks/Platinum_Decomp_Fusion/Poisson_temp/poisson_634883.mls is being deleted....\n",
      "Inside sphere validater: ratio_val = 4.573542126820232\n",
      "Performing Soma Mesh Backtracking to original mesh\n",
      "# total split meshes = 12\n",
      "viable_meshes = [0]\n",
      "There were 11 pieces found after size threshold\n",
      "# of soma containing seperate meshes = 1\n",
      "meshes with somas = {0: [0]}\n",
      "\n",
      "\n",
      "----Working on soma-containing mesh piece 0----\n",
      "current_soma_mesh_list = [<trimesh.Trimesh(vertices.shape=(2291, 3), faces.shape=(4540, 3))>]\n",
      "current_mesh = <trimesh.Trimesh(vertices.shape=(164427, 3), faces.shape=(327388, 3))>\n",
      "\n",
      "inside Soma subtraction\n",
      "mesh pieces in subtact soma BEFORE the filtering inside pieces = [<trimesh.Trimesh(vertices.shape=(144983, 3), faces.shape=(288649, 3))>, <trimesh.Trimesh(vertices.shape=(16633, 3), faces.shape=(33066, 3))>]\n",
      "There were 2 pieces found after size threshold\n",
      "mesh pieces in subtact soma AFTER the filtering inside pieces = [<trimesh.Trimesh(vertices.shape=(144983, 3), faces.shape=(288649, 3))>, <trimesh.Trimesh(vertices.shape=(16633, 3), faces.shape=(33066, 3))>]\n",
      "Total Time for soma mesh cancellation = 0.671\n",
      "mesh_pieces_without_soma = [<trimesh.Trimesh(vertices.shape=(144983, 3), faces.shape=(288649, 3))>, <trimesh.Trimesh(vertices.shape=(16633, 3), faces.shape=(33066, 3))>]\n",
      "Total time for Subtract Soam = 0.6719799041748047\n",
      "Total time for Original_mesh_faces_map for mesh_pieces without soma= 0.24529767036437988\n",
      "poisson_backtrack_distance_threshold = None\n",
      "Using Poisson Surface Reconstruction for watertightness in soma_volume_ratio\n",
      "xvfb-run -n 3575 -s \"-screen 0 800x600x24\" meshlabserver $@  -i /notebooks/Platinum_Decomp_Fusion/Poisson_temp/neuron_440448.off -o /notebooks/Platinum_Decomp_Fusion/Poisson_temp/neuron_440448_poisson.off -s /notebooks/Platinum_Decomp_Fusion/Poisson_temp/poisson_484301.mls\n",
      "removed temporary input file: /notebooks/Platinum_Decomp_Fusion/Poisson_temp/neuron_440448.off\n",
      "removed temporary output file: /notebooks/Platinum_Decomp_Fusion/Poisson_temp/neuron_440448_poisson.off\n",
      "mesh.is_watertight = True\n",
      "/notebooks/Platinum_Decomp_Fusion/Poisson_temp/poisson_484301.mls is being deleted....\n",
      "Inside sphere validater: ratio_val = 2.8084260635943186\n",
      "removing mesh interior before segmentation\n",
      "xvfb-run -n 626 -s \"-screen 0 800x600x24\" meshlabserver $@  -i /notebooks/Platinum_Decomp_Fusion/temp/neuron_87048.off -o /notebooks/Platinum_Decomp_Fusion/temp/neuron_87048_remove_interior.off -s /notebooks/Platinum_Decomp_Fusion/temp/remove_interior_877028.mls\n",
      "removed temporary input file: /notebooks/Platinum_Decomp_Fusion/temp/neuron_87048.off\n",
      "removed temporary output file: /notebooks/Platinum_Decomp_Fusion/temp/neuron_87048_remove_interior.off\n",
      "/notebooks/Platinum_Decomp_Fusion/temp/remove_interior_877028.mls is being deleted....\n",
      "Removing the following inside neurons: [<trimesh.Trimesh(vertices.shape=(983, 3), faces.shape=(2308, 3))>]\n",
      "Doing the soma segmentation filter at end\n"
     ]
    },
    {
     "data": {
      "application/vnd.jupyter.widget-view+json": {
       "model_id": "fd8390977cee45b9b88d4a7eac2211d7",
       "version_major": 2,
       "version_minor": 0
      },
      "text/plain": [
       "HBox(children=(FloatProgress(value=0.0, max=3.0), HTML(value='')))"
      ]
     },
     "metadata": {},
     "output_type": "display_data"
    },
    {
     "name": "stdout",
     "output_type": "stream",
     "text": [
      "\n",
      "meshes_split = [<trimesh.Trimesh(vertices.shape=(5277, 3), faces.shape=(10611, 3))>, <trimesh.Trimesh(vertices.shape=(3, 3), faces.shape=(1, 3))>, <trimesh.Trimesh(vertices.shape=(3, 3), faces.shape=(1, 3))>]\n",
      "meshes_split_sdf = [0.718364 0.492469 0.141962]\n",
      "removing mesh interior before segmentation\n",
      "xvfb-run -n 127 -s \"-screen 0 800x600x24\" meshlabserver $@  -i /notebooks/Platinum_Decomp_Fusion/temp/neuron_83980.off -o /notebooks/Platinum_Decomp_Fusion/temp/neuron_83980_remove_interior.off -s /notebooks/Platinum_Decomp_Fusion/temp/remove_interior_556181.mls\n"
     ]
    },
    {
     "name": "stderr",
     "output_type": "stream",
     "text": [
      "/meshAfterParty/trimesh_utils.py:996: VisibleDeprecationWarning: Creating an ndarray from ragged nested sequences (which is a list-or-tuple of lists-or-tuples-or ndarrays with different lengths or shapes) is deprecated. If you meant to do this, you must specify 'dtype=object' when creating the ndarray\n",
      "  total_submeshes_idx =np.array(list(total_submeshes_idx.values()))\n"
     ]
    },
    {
     "name": "stdout",
     "output_type": "stream",
     "text": [
      "removed temporary input file: /notebooks/Platinum_Decomp_Fusion/temp/neuron_83980.off\n",
      "removed temporary output file: /notebooks/Platinum_Decomp_Fusion/temp/neuron_83980_remove_interior.off\n",
      "/notebooks/Platinum_Decomp_Fusion/temp/remove_interior_556181.mls is being deleted....\n",
      "THERE WERE NO MESH PIECES GREATER THAN THE significance_threshold\n",
      "No significant (1000) interior meshes present, largest is 6\n",
      "Doing the soma segmentation filter at end\n"
     ]
    },
    {
     "data": {
      "application/vnd.jupyter.widget-view+json": {
       "model_id": "539200f6207646d283bc0dd986915741",
       "version_major": 2,
       "version_minor": 0
      },
      "text/plain": [
       "HBox(children=(FloatProgress(value=0.0, max=1.0), HTML(value='')))"
      ]
     },
     "metadata": {},
     "output_type": "display_data"
    },
    {
     "name": "stdout",
     "output_type": "stream",
     "text": [
      "\n",
      "meshes_split = [<trimesh.Trimesh(vertices.shape=(2863, 3), faces.shape=(5672, 3))>]\n",
      "meshes_split_sdf = [0.8264255]\n",
      "Soma List = [<trimesh.Trimesh(vertices.shape=(5277, 3), faces.shape=(10611, 3))>, <trimesh.Trimesh(vertices.shape=(2863, 3), faces.shape=(5672, 3))>]\n",
      "soma_mesh_list_centers = [array([643452.26164488, 436630.16425999, 693487.98872465]), array([581182.98767028, 528704.31348236, 713503.613657  ])]\n"
     ]
    }
   ],
   "source": [
    "# -------- Phase 1: Doing Soma Detection (if Not already done) ---------- #\n",
    "if somas is None:\n",
    "    soma_mesh_list,run_time,total_soma_list_sdf = sm.extract_soma_center(segment_id,\n",
    "                                             current_neuron.vertices,\n",
    "                                             current_neuron.faces)\n",
    "else:\n",
    "    soma_mesh_list,run_time,total_soma_list_sdf = somas\n",
    "    print(f\"Using pre-computed somas: soma_mesh_list = {soma_mesh_list}\")\n",
    "\n",
    "# geting the soma centers\n",
    "if len(soma_mesh_list) <= 0:\n",
    "    print(f\"**** No Somas Found for Mesh {segment_id} so just one mesh\")\n",
    "    soma_mesh_list_centers = []\n",
    "    if return_no_somas:\n",
    "        return_value= soma_mesh_list_centers\n",
    "    raise Exception(\"Processing of No Somas is not yet implemented yet\")\n",
    "else:\n",
    "    #compute the soma centers\n",
    "    print(f\"Soma List = {soma_mesh_list}\")\n",
    "\n",
    "    soma_mesh_list_centers = sm.find_soma_centroids(soma_mesh_list)\n",
    "    print(f\"soma_mesh_list_centers = {soma_mesh_list_centers}\")\n"
   ]
  },
  {
   "cell_type": "code",
   "execution_count": 10,
   "metadata": {},
   "outputs": [
    {
     "name": "stdout",
     "output_type": "stream",
     "text": [
      "xvfb-run -n 2642 -s \"-screen 0 800x600x24\" meshlabserver $@  -i /notebooks/Platinum_Decomp_Fusion/temp/neuron_29107.off -o /notebooks/Platinum_Decomp_Fusion/temp/neuron_29107_remove_interior.off -s /notebooks/Platinum_Decomp_Fusion/temp/remove_interior_263895.mls\n",
      "removed temporary input file: /notebooks/Platinum_Decomp_Fusion/temp/neuron_29107.off\n",
      "removed temporary output file: /notebooks/Platinum_Decomp_Fusion/temp/neuron_29107_remove_interior.off\n",
      "/notebooks/Platinum_Decomp_Fusion/temp/remove_interior_263895.mls is being deleted....\n",
      "Removing the following inside neurons: [<trimesh.Trimesh(vertices.shape=(12136, 3), faces.shape=(24775, 3))>]\n"
     ]
    },
    {
     "name": "stderr",
     "output_type": "stream",
     "text": [
      "WARNING - 2020-11-14 08:41:22,503 - base - face_normals all zero, ignoring!\n"
     ]
    },
    {
     "name": "stdout",
     "output_type": "stream",
     "text": [
      "# total split meshes = 28\n",
      "There were 27 pieces found after size threshold\n",
      "# of soma containing seperate meshes = 1\n",
      "meshes with somas = {0: [0, 1]}\n"
     ]
    }
   ],
   "source": [
    "#--- Phase 2: getting the soma submeshes that are connected to each soma and identifiying those that aren't \n",
    "# ------------------ (and eliminating any mesh pieces inside the soma) ------------------------\n",
    "\n",
    "# -------- 11/13 Addition: Will remove the inside nucleus --------- #\n",
    "main_mesh_total,inside_nucleus_pieces = tu.remove_mesh_interior(current_neuron,return_removed_pieces=True)\n",
    "\n",
    "\n",
    "#finding the mesh pieces that contain the soma\n",
    "#splitting the current neuron into distinct pieces\n",
    "split_meshes = tu.split_significant_pieces(\n",
    "                            main_mesh_total,\n",
    "                            significance_threshold=sig_th_initial_split,\n",
    "                            print_flag=False)\n",
    "\n",
    "print(f\"# total split meshes = {len(split_meshes)}\")\n",
    "\n",
    "\n",
    "#returns the index of the split_meshes index that contains each soma    \n",
    "containing_mesh_indices = sm.find_soma_centroid_containing_meshes(soma_mesh_list,\n",
    "                                        split_meshes)\n",
    "\n",
    "# filtering away any of the inside floating pieces: \n",
    "non_soma_touching_meshes = [m for i,m in enumerate(split_meshes)\n",
    "                 if i not in list(containing_mesh_indices.values())]\n",
    "\n",
    "\n",
    "#Adding the step that will filter away any pieces that are inside the soma\n",
    "if len(non_soma_touching_meshes) > 0 and len(soma_mesh_list) > 0:\n",
    "    \"\"\"\n",
    "    *** want to save these pieces that are inside of the soma***\n",
    "    \"\"\"\n",
    "\n",
    "    non_soma_touching_meshes,inside_pieces = sm.filter_away_inside_soma_pieces(soma_mesh_list,non_soma_touching_meshes,\n",
    "                                    significance_threshold=sig_th_initial_split,\n",
    "                                    return_inside_pieces = True)\n",
    "\n",
    "else:\n",
    "    non_soma_touching_meshes = []\n",
    "    inside_pieces=[]\n",
    "\n",
    "#adding in the nuclei center to the inside pieces\n",
    "inside_pieces += inside_nucleus_pieces\n",
    "\n",
    "\n",
    "split_meshes # the meshes of the original mesh\n",
    "containing_mesh_indices #the mapping of each soma centroid to the correct split mesh\n",
    "soma_containing_meshes = sm.grouping_containing_mesh_indices(containing_mesh_indices)\n",
    "\n",
    "soma_touching_meshes = [split_meshes[k] for k in soma_containing_meshes.keys()]\n",
    "\n",
    "\n",
    "#     print(f\"# of non soma touching seperate meshes = {len(non_soma_touching_meshes)}\")\n",
    "#     print(f\"# of inside pieces = {len(inside_pieces)}\")\n",
    "print(f\"# of soma containing seperate meshes = {len(soma_touching_meshes)}\")\n",
    "print(f\"meshes with somas = {soma_containing_meshes}\")"
   ]
  },
  {
   "cell_type": "code",
   "execution_count": 11,
   "metadata": {},
   "outputs": [
    {
     "name": "stdout",
     "output_type": "stream",
     "text": [
      "\n",
      "\n",
      "----Working on soma-containing mesh piece 0----\n",
      "\n",
      "inside Soma subtraction\n",
      "mesh pieces in subtact soma BEFORE the filtering inside pieces = [<trimesh.Trimesh(vertices.shape=(181399, 3), faces.shape=(361948, 3))>, <trimesh.Trimesh(vertices.shape=(144237, 3), faces.shape=(287964, 3))>, <trimesh.Trimesh(vertices.shape=(70728, 3), faces.shape=(141239, 3))>, <trimesh.Trimesh(vertices.shape=(66105, 3), faces.shape=(131712, 3))>, <trimesh.Trimesh(vertices.shape=(49044, 3), faces.shape=(97650, 3))>, <trimesh.Trimesh(vertices.shape=(36889, 3), faces.shape=(73457, 3))>, <trimesh.Trimesh(vertices.shape=(32180, 3), faces.shape=(64137, 3))>, <trimesh.Trimesh(vertices.shape=(27015, 3), faces.shape=(53950, 3))>, <trimesh.Trimesh(vertices.shape=(6292, 3), faces.shape=(12534, 3))>]\n",
      "There were 9 pieces found after size threshold\n",
      "mesh pieces in subtact soma AFTER the filtering inside pieces = [<trimesh.Trimesh(vertices.shape=(181399, 3), faces.shape=(361948, 3))>, <trimesh.Trimesh(vertices.shape=(144237, 3), faces.shape=(287964, 3))>, <trimesh.Trimesh(vertices.shape=(70728, 3), faces.shape=(141239, 3))>, <trimesh.Trimesh(vertices.shape=(66105, 3), faces.shape=(131712, 3))>, <trimesh.Trimesh(vertices.shape=(49044, 3), faces.shape=(97650, 3))>, <trimesh.Trimesh(vertices.shape=(36889, 3), faces.shape=(73457, 3))>, <trimesh.Trimesh(vertices.shape=(32180, 3), faces.shape=(64137, 3))>, <trimesh.Trimesh(vertices.shape=(27015, 3), faces.shape=(53950, 3))>, <trimesh.Trimesh(vertices.shape=(6292, 3), faces.shape=(12534, 3))>]\n",
      "Total Time for soma mesh cancellation = 2.712\n",
      "Total time for Subtract Soam = 2.7131924629211426\n",
      "Total time for Original_mesh_faces_map for mesh_pieces without soma= 0.9849646091461182\n",
      "Total time for Original_mesh_faces_map for somas= 1.1585171222686768\n",
      "Total time for sig_non_soma_pieces= 1.2579541206359863\n",
      "Total time for split= 0.053771018981933594\n",
      "Total time for mesh_pieces_connectivity= 23.848594665527344\n",
      "# of insignificant_limbs = 0 with trimesh : []\n"
     ]
    }
   ],
   "source": [
    "\n",
    "#--- Phase 3:  Soma Extraction was great (but it wasn't the original soma faces), so now need to get the original soma faces and the original non-soma faces of original pieces\n",
    "\n",
    "\"\"\"\n",
    "for each soma touching mesh get the following:\n",
    "1) original soma meshes\n",
    "2) significant mesh pieces touching these somas\n",
    "3) The soma connectivity to each of the significant mesh pieces\n",
    "-- later will just translate the \n",
    "\n",
    "\n",
    "Process: \n",
    "\n",
    "1) Final all soma faces (through soma extraction and then soma original faces function)\n",
    "2) Subtact all soma faces from original mesh\n",
    "3) Find all significant mesh pieces\n",
    "4) Backtrack significant mesh pieces to orignal mesh and find connectivity of each to all\n",
    "   the available somas\n",
    "Conclusion: Will have connectivity map\n",
    "\n",
    "\n",
    "\"\"\"\n",
    "\n",
    "soma_touching_mesh_data = dict()\n",
    "\n",
    "for z,(mesh_idx, soma_idxes) in enumerate(soma_containing_meshes.items()):\n",
    "    soma_touching_mesh_data[z] = dict()\n",
    "    print(f\"\\n\\n----Working on soma-containing mesh piece {z}----\")\n",
    "\n",
    "    #1) Final all soma faces (through soma extraction and then soma original faces function)\n",
    "    current_mesh = split_meshes[mesh_idx]\n",
    "\n",
    "    current_soma_mesh_list = [soma_mesh_list[k] for k in soma_idxes]\n",
    "\n",
    "    current_time = time.time()\n",
    "    mesh_pieces_without_soma = sm.subtract_soma(current_soma_mesh_list,current_mesh,\n",
    "                                                significance_threshold=250)\n",
    "    print(f\"Total time for Subtract Soam = {time.time() - current_time}\")\n",
    "    current_time = time.time()\n",
    "\n",
    "    mesh_pieces_without_soma_stacked = tu.combine_meshes(mesh_pieces_without_soma)\n",
    "\n",
    "    # find the original soma faces of mesh\n",
    "    soma_faces = tu.original_mesh_faces_map(current_mesh,mesh_pieces_without_soma_stacked,matching=False)\n",
    "    print(f\"Total time for Original_mesh_faces_map for mesh_pieces without soma= {time.time() - current_time}\")\n",
    "    current_time = time.time()\n",
    "    soma_meshes = current_mesh.submesh([soma_faces],append=True,repair=False)\n",
    "\n",
    "    # finding the non-soma original faces\n",
    "    non_soma_faces = tu.original_mesh_faces_map(current_mesh,soma_meshes,matching=False)\n",
    "    non_soma_stacked_mesh = current_mesh.submesh([non_soma_faces],append=True,repair=False)\n",
    "\n",
    "    print(f\"Total time for Original_mesh_faces_map for somas= {time.time() - current_time}\")\n",
    "    current_time = time.time()\n",
    "\n",
    "    # 3) Find all significant mesh pieces\n",
    "    sig_non_soma_pieces,insignificant_limbs = tu.split_significant_pieces(non_soma_stacked_mesh,significance_threshold=limb_threshold,\n",
    "                                                     return_insignificant_pieces=True)\n",
    "\n",
    "    print(f\"Total time for sig_non_soma_pieces= {time.time() - current_time}\")\n",
    "    current_time = time.time()\n",
    "\n",
    "    soma_touching_mesh_data[z][\"branch_meshes\"] = sig_non_soma_pieces\n",
    "\n",
    "    #4) Backtrack significant mesh pieces to orignal mesh and find connectivity of each to all the available somas\n",
    "    # get all the seperate mesh faces\n",
    "\n",
    "    #How to seperate the mesh faces\n",
    "    seperate_soma_meshes,soma_face_components = tu.split(soma_meshes,only_watertight=False)\n",
    "    #take the top largest ones depending how many were originally in the soma list\n",
    "    seperate_soma_meshes = seperate_soma_meshes[:len(soma_mesh_list)]\n",
    "    soma_face_components = soma_face_components[:len(soma_mesh_list)]\n",
    "\n",
    "    soma_touching_mesh_data[z][\"soma_meshes\"] = seperate_soma_meshes\n",
    "\n",
    "    print(f\"Total time for split= {time.time() - current_time}\")\n",
    "    current_time = time.time()\n",
    "\n",
    "\n",
    "\n",
    "    soma_to_piece_connectivity = dict()\n",
    "    soma_to_piece_touching_vertices = dict()\n",
    "    soma_to_piece_touching_vertices_idx = dict()\n",
    "    limb_root_nodes = dict()\n",
    "\n",
    "    m_vert_graph = tu.mesh_vertex_graph(current_mesh)\n",
    "\n",
    "    for i,curr_soma in enumerate(seperate_soma_meshes):\n",
    "        (connected_mesh_pieces,\n",
    "         connected_mesh_pieces_vertices,\n",
    "         connected_mesh_pieces_vertices_idx) = tu.mesh_pieces_connectivity(\n",
    "                        main_mesh=current_mesh,\n",
    "                        central_piece=curr_soma,\n",
    "                        periphery_pieces = sig_non_soma_pieces,\n",
    "                        return_vertices = True,\n",
    "                        return_vertices_idx=True)\n",
    "        #print(f\"soma {i}: connected_mesh_pieces = {connected_mesh_pieces}\")\n",
    "        soma_to_piece_connectivity[i] = connected_mesh_pieces\n",
    "\n",
    "        soma_to_piece_touching_vertices[i] = dict()\n",
    "        for piece_index,piece_idx in enumerate(connected_mesh_pieces):\n",
    "            limb_root_nodes[piece_idx] = connected_mesh_pieces_vertices[piece_index][0]\n",
    "\n",
    "            \"\"\" Old way of finding vertex connected components on a mesh without trimesh function\n",
    "            #find the number of touching groups and save those \n",
    "            soma_touching_graph = m_vert_graph.subgraph(connected_mesh_pieces_vertices_idx[piece_index])\n",
    "            soma_con_comp = [current_mesh.vertices[np.array(list(k)).astype(\"int\")] for k in list(nx.connected_components(soma_touching_graph))]\n",
    "            soma_to_piece_touching_vertices[i][piece_idx] = soma_con_comp\n",
    "            \"\"\"\n",
    "\n",
    "            soma_to_piece_touching_vertices[i][piece_idx] = tu.split_vertex_list_into_connected_components(\n",
    "                                                vertex_indices_list=connected_mesh_pieces_vertices_idx[piece_index],\n",
    "                                                mesh=current_mesh, \n",
    "                                                vertex_graph=m_vert_graph, \n",
    "                                                return_coordinates=True\n",
    "                                               )\n",
    "\n",
    "\n",
    "\n",
    "\n",
    "\n",
    "#         border_debug = False\n",
    "#         if border_debug:\n",
    "#             print(f\"soma_to_piece_connectivity = {soma_to_piece_connectivity}\")\n",
    "#             print(f\"soma_to_piece_touching_vertices = {soma_to_piece_touching_vertices}\")\n",
    "\n",
    "\n",
    "    print(f\"Total time for mesh_pieces_connectivity= {time.time() - current_time}\")\n",
    "\n",
    "    soma_touching_mesh_data[z][\"soma_to_piece_connectivity\"] = soma_to_piece_connectivity\n",
    "\n",
    "print(f\"# of insignificant_limbs = {len(insignificant_limbs)} with trimesh : {insignificant_limbs}\")\n",
    "\n",
    "\n",
    "\n",
    "# Lets have an alert if there was more than one soma disconnected meshes\n",
    "if len(soma_touching_mesh_data.keys()) > 1:\n",
    "    raise Exception(\"More than 1 disconnected meshes that contain somas\")\n",
    "\n",
    "current_mesh_data = soma_touching_mesh_data\n",
    "soma_containing_idx = 0\n",
    "\n",
    "#doing inversion of the connectivity and touching vertices\n",
    "piece_to_soma_touching_vertices = gu.flip_key_orders_for_dict(soma_to_piece_touching_vertices)\n"
   ]
  },
  {
   "cell_type": "markdown",
   "metadata": {},
   "source": [
    "# Doing the Limb Processing"
   ]
  },
  {
   "cell_type": "code",
   "execution_count": 12,
   "metadata": {},
   "outputs": [
    {
     "name": "stdout",
     "output_type": "stream",
     "text": [
      "\n",
      "\n",
      "----- Working on Proper Limb # 0 ---------\n",
      "meshparty_segment_size = 100\n",
      "Time for preparing soma vertices and root: 8.344650268554688e-06\n",
      "cc_vertex_thresh = 10\n"
     ]
    },
    {
     "name": "stderr",
     "output_type": "stream",
     "text": [
      "\r",
      "  0%|          | 0/1 [00:00<?, ?it/s]"
     ]
    },
    {
     "data": {
      "application/vnd.jupyter.widget-view+json": {
       "model_id": "0127d4f2bb224fa8be39f4b7e604cc67",
       "version_major": 2,
       "version_minor": 0
      },
      "text/plain": [
       "HBox(children=(FloatProgress(value=0.0, max=181398.0), HTML(value='')))"
      ]
     },
     "metadata": {},
     "output_type": "display_data"
    },
    {
     "name": "stderr",
     "output_type": "stream",
     "text": [
      "100%|██████████| 1/1 [00:04<00:00,  4.09s/it]"
     ]
    },
    {
     "name": "stdout",
     "output_type": "stream",
     "text": [
      "\n"
     ]
    },
    {
     "name": "stderr",
     "output_type": "stream",
     "text": [
      "\n"
     ]
    },
    {
     "name": "stdout",
     "output_type": "stream",
     "text": [
      "Time for 1st pass MP skeletonization: 5.826981067657471\n",
      "branches_touching_root = [7]\n"
     ]
    },
    {
     "name": "stderr",
     "output_type": "stream",
     "text": [
      "/meshAfterParty/meshparty_skeletonize.py:895: VisibleDeprecationWarning: Creating an ndarray from ragged nested sequences (which is a list-or-tuple of lists-or-tuples-or ndarrays with different lengths or shapes) is deprecated. If you meant to do this, you must specify 'dtype=object' when creating the ndarray\n",
      "  segment_branches = np.array([sk_meshparty_obj.vertices[np.vstack([k[:-1],k[1:]]).T] for k in segments])\n",
      "/meshAfterParty/meshparty_skeletonize.py:965: VisibleDeprecationWarning: Creating an ndarray from ragged nested sequences (which is a list-or-tuple of lists-or-tuples-or ndarrays with different lengths or shapes) is deprecated. If you meant to do this, you must specify 'dtype=object' when creating the ndarray\n",
      "  segment_branches = np.array(new_segment_branches)\n"
     ]
    },
    {
     "name": "stdout",
     "output_type": "stream",
     "text": [
      "length of Graph = 16187\n",
      "Working on path [8134. 8151. 8166. 8180. 8193. 8207. 8220.]\n",
      "path_degrees = [3, 2, 2, 2, 2, 2, 3]\n"
     ]
    },
    {
     "name": "stderr",
     "output_type": "stream",
     "text": [
      "/meshAfterParty/meshparty_skeletonize.py:990: VisibleDeprecationWarning: Creating an ndarray from ragged nested sequences (which is a list-or-tuple of lists-or-tuples-or ndarrays with different lengths or shapes) is deprecated. If you meant to do this, you must specify 'dtype=object' when creating the ndarray\n",
      "  segment_branches_filtered = np.array(segment_branches_filtered)\n"
     ]
    },
    {
     "name": "stdout",
     "output_type": "stream",
     "text": [
      "max(kept_branches_idx) = 50, len(kept_branches_idx) = 50\n",
      "empty_indices % = 0.0\n",
      " conflict_indices % = 0.005498179246169233\n"
     ]
    },
    {
     "name": "stderr",
     "output_type": "stream",
     "text": [
      "/meshAfterParty/trimesh_utils.py:331: VisibleDeprecationWarning: Creating an ndarray from ragged nested sequences (which is a list-or-tuple of lists-or-tuples-or ndarrays with different lengths or shapes) is deprecated. If you meant to do this, you must specify 'dtype=object' when creating the ndarray\n",
      "  ordered_comp_indices = np.array([k.astype(\"int\") for k in ordered_components])\n"
     ]
    },
    {
     "data": {
      "application/vnd.jupyter.widget-view+json": {
       "model_id": "cf4ff252f7f5430d9b306c927a927bea",
       "version_major": 2,
       "version_minor": 0
      },
      "text/plain": [
       "HBox(children=(FloatProgress(value=0.0, max=24.0), HTML(value='')))"
      ]
     },
     "metadata": {},
     "output_type": "display_data"
    },
    {
     "name": "stdout",
     "output_type": "stream",
     "text": [
      "\n",
      "AFTER face_lookup_resolved_test\n"
     ]
    },
    {
     "data": {
      "application/vnd.jupyter.widget-view+json": {
       "model_id": "80270ba78b004ec0bf139d5ecb80ba34",
       "version_major": 2,
       "version_minor": 0
      },
      "text/plain": [
       "HBox(children=(FloatProgress(value=0.0, max=50.0), HTML(value='')))"
      ]
     },
     "metadata": {},
     "output_type": "display_data"
    },
    {
     "name": "stdout",
     "output_type": "stream",
     "text": [
      "\n",
      "Decomposing first pass: 12.160229444503784\n",
      "Attempting to use MeshAfterParty Skeletonization and Mesh Correspondence\n",
      "Another print\n",
      "Found len(mesh_large_idx) MAP candidates: [8688, 14699, 1589, 2712, 264, 2657, 20300, 1728, 841, 4740, 7241, 7014, 7537, 7222, 4862, 5139, 5701, 25455, 10179, 19319, 1367]\n"
     ]
    },
    {
     "name": "stderr",
     "output_type": "stream",
     "text": [
      "/meshAfterParty/trimesh_utils.py:996: VisibleDeprecationWarning: Creating an ndarray from ragged nested sequences (which is a list-or-tuple of lists-or-tuples-or ndarrays with different lengths or shapes) is deprecated. If you meant to do this, you must specify 'dtype=object' when creating the ndarray\n",
      "  total_submeshes_idx =np.array(list(total_submeshes_idx.values()))\n"
     ]
    },
    {
     "name": "stdout",
     "output_type": "stream",
     "text": [
      "mesh_large_connectivity: 0.8284342288970947\n",
      "Finding MAP candidates connected components: 0.012967586517333984\n",
      "len(filtered_pieces) = 3\n",
      "skeleton_connectivity_MP : 0.4538843631744385\n",
      "Grouping MP Sublimbs by Graph: 0.11379289627075195\n",
      "Divinding into MP and MAP pieces: 9.5367431640625e-07\n",
      "--- Working on MAP piece 0---\n",
      "MAP Filtering Soma Pieces: 0.0134735107421875\n",
      "inside skeletonize_connected_branch and use_surface_after_CGAL=False, surface_reconstruction_size=1000\n",
      "     Starting Screened Poisson\n",
      "xvfb-run -n 809 -s \"-screen 0 800x600x24\" meshlabserver $@  -i /notebooks/Platinum_Decomp_Fusion/temp/None.off -o /notebooks/Platinum_Decomp_Fusion/temp/None_poisson.off -s /notebooks/Platinum_Decomp_Fusion/temp/poisson_446510.mls\n",
      "removed temporary input file: /notebooks/Platinum_Decomp_Fusion/temp/None.off\n",
      "removed temporary output file: /notebooks/Platinum_Decomp_Fusion/temp/None_poisson.off\n",
      "Using the close holes feature\n",
      "xvfb-run -n 1201 -s \"-screen 0 800x600x24\" meshlabserver $@  -i /notebooks/Platinum_Decomp_Fusion/temp/neuron_42740.off -o /notebooks/Platinum_Decomp_Fusion/temp/neuron_42740_fill_holes.off -s /notebooks/Platinum_Decomp_Fusion/temp/fill_holes_928783.mls\n",
      "removed temporary input file: /notebooks/Platinum_Decomp_Fusion/temp/neuron_42740.off\n",
      "removed temporary output file: /notebooks/Platinum_Decomp_Fusion/temp/neuron_42740_fill_holes.off\n",
      "-----Time for Screened Poisson= 40.20571184158325\n",
      "     Starting Calcification\n",
      "node_degrees = [2 2 2 2 3 3 2]\n"
     ]
    },
    {
     "data": {
      "application/vnd.jupyter.widget-view+json": {
       "model_id": "0b387a9cd7374c02953b6e9603f3d6af",
       "version_major": 2,
       "version_minor": 0
      },
      "text/plain": [
       "HBox(children=(FloatProgress(value=1.0, bar_style='info', max=1.0), HTML(value='')))"
      ]
     },
     "metadata": {},
     "output_type": "display_data"
    },
    {
     "name": "stdout",
     "output_type": "stream",
     "text": [
      "\n",
      "No skeletons to stack so returning empty list\n",
      "len_subgraphs AT BEGINNING of the loop\n"
     ]
    },
    {
     "data": {
      "application/vnd.jupyter.widget-view+json": {
       "model_id": "766bfec71bc54bcb975ef55167c0bf38",
       "version_major": 2,
       "version_minor": 0
      },
      "text/plain": [
       "HBox(children=(FloatProgress(value=0.0, max=6.0), HTML(value='')))"
      ]
     },
     "metadata": {},
     "output_type": "display_data"
    },
    {
     "name": "stdout",
     "output_type": "stream",
     "text": [
      "all graph is one component!\n",
      "\n",
      "Total time for skeleton stitching = 0.08613729476928711\n",
      "The process was using a temp folder\n",
      "Checking connected components after skeletonize_connected_branch\n",
      "    Total time for skeletonizing branch: 53.661669969558716\n",
      "Checking connected components after removing cycles\n",
      "Total time for mesh KDTree = 0.915790319442749\n",
      "sbv[0].reshape(-1,3) = [[650492.2 429211.9 699739.2]]\n",
      "closest_sk_pt_coord BEFORE = [650876. 429589. 700836.]\n",
      "current_skeleton.shape = (1124, 2, 3)\n",
      "Current stitch point was a branch or endpoint\n",
      "change_status for create soma extending pieces = False\n",
      "closest_sk_pt_coord AFTER = [650876. 429589. 700836.]\n",
      "skipping soma 0 because closest skeleton node was already end node\n",
      "endpoints_must_keep = {0: array([[650876., 429589., 700836.]])}\n",
      "    Total time for Fixing Skeleton Soma Endpoint Extension : 1.3219144344329834\n",
      "filter_end_node_length = 1500\n",
      "Using Distance measure skeletal_distance\n",
      "endpoints_must_keep = [[650876. 429589. 700836.]]\n",
      "Number of end_nodes BEFORE filtering = 53\n",
      "all_single_nodes_to_eliminate = [21]\n"
     ]
    },
    {
     "data": {
      "application/vnd.jupyter.widget-view+json": {
       "model_id": "5fa566a7a16b4e1280cb0984d2642c36",
       "version_major": 2,
       "version_minor": 0
      },
      "text/plain": [
       "HBox(children=(FloatProgress(value=0.0, max=42.0), HTML(value='')))"
      ]
     },
     "metadata": {},
     "output_type": "display_data"
    },
    {
     "name": "stdout",
     "output_type": "stream",
     "text": [
      "\n",
      "Checking connected components after clean_skeleton\n",
      "after DISTANCE cleaning limb size of skeleton = (1051, 2, 3)\n",
      "********COMBINING CLOSE SKELETON NODES WITHIN 700 DISTANCE**********\n",
      "Found 0 valid paths to replace\n",
      "valid_paths = []\n",
      "valid_path_lengths = []\n",
      "No valid paths found so just returning the original\n",
      "skeletonize_and_clean_connected_branch_CGAL: 56.289538621902466\n",
      "Working on limb correspondence for #0 MAP piece\n"
     ]
    },
    {
     "data": {
      "application/vnd.jupyter.widget-view+json": {
       "model_id": "368cdb2d2c1e4fa5816a17eff6f8d90b",
       "version_major": 2,
       "version_minor": 0
      },
      "text/plain": [
       "HBox(children=(FloatProgress(value=1.0, bar_style='info', max=1.0), HTML(value='')))"
      ]
     },
     "metadata": {},
     "output_type": "display_data"
    },
    {
     "name": "stdout",
     "output_type": "stream",
     "text": [
      "\n",
      "Total time for decomposition = 21.473758697509766\n",
      "mesh_correspondence_first_pass: 21.473791122436523\n",
      "Limb decomposed into 18 branches\n",
      "divided_skeleton_graph_recovered = (1051, 2, 3) and \n",
      "current_mesh_data[0]['branch_skeletons_cleaned'].shape = (1051, 2, 3)\n",
      "\n",
      "Number of connected components in deocmposed recovered graph = 1\n",
      "Number of connected components in cleaned skeleton graph= 1\n",
      "The downsampled branches number of connected components = 1\n",
      "Empty submeshes = []\n",
      "\n",
      "\n",
      "--- Working on 1-to-1 correspondence-----\n",
      "max(original_labels),len(original_labels) = (17, 18)\n",
      "empty_indices % = 0.07631497792386555\n",
      " conflict_indices % = 0.027732438754710452\n"
     ]
    },
    {
     "data": {
      "application/vnd.jupyter.widget-view+json": {
       "model_id": "5d0fc4baf9e0464ebf28a025a3091a71",
       "version_major": 2,
       "version_minor": 0
      },
      "text/plain": [
       "HBox(children=(FloatProgress(value=0.0, max=82.0), HTML(value='')))"
      ]
     },
     "metadata": {},
     "output_type": "display_data"
    },
    {
     "name": "stdout",
     "output_type": "stream",
     "text": [
      "\n",
      "AFTER face_lookup_resolved_test\n",
      "Took 0 iterations to expand the label back\n",
      "empty_indices % = 0.0\n",
      " conflict_indices % = 0.0\n"
     ]
    },
    {
     "data": {
      "application/vnd.jupyter.widget-view+json": {
       "model_id": "089ee54b510549db9912512a546f1efd",
       "version_major": 2,
       "version_minor": 0
      },
      "text/plain": [
       "HBox(children=(FloatProgress(value=1.0, bar_style='info', max=1.0), HTML(value='')))"
      ]
     },
     "metadata": {},
     "output_type": "display_data"
    },
    {
     "name": "stdout",
     "output_type": "stream",
     "text": [
      "\n",
      "AFTER face_lookup_resolved_test\n"
     ]
    },
    {
     "data": {
      "application/vnd.jupyter.widget-view+json": {
       "model_id": "3ae19b49cb84402fa9326370293dce5d",
       "version_major": 2,
       "version_minor": 0
      },
      "text/plain": [
       "HBox(children=(FloatProgress(value=0.0, max=18.0), HTML(value='')))"
      ]
     },
     "metadata": {},
     "output_type": "display_data"
    },
    {
     "name": "stdout",
     "output_type": "stream",
     "text": [
      "\n",
      "Total time for MAP sublimb #0 mesh processing = 85.22602987289429\n",
      "correspondence_1_to_1: 7.449056625366211\n",
      "--- Working on MAP piece 1---\n",
      "MAP Filtering Soma Pieces: 0.0076906681060791016\n",
      "inside skeletonize_connected_branch and use_surface_after_CGAL=False, surface_reconstruction_size=1000\n",
      "     Starting Screened Poisson\n",
      "xvfb-run -n 1721 -s \"-screen 0 800x600x24\" meshlabserver $@  -i /notebooks/Platinum_Decomp_Fusion/temp/None.off -o /notebooks/Platinum_Decomp_Fusion/temp/None_poisson.off -s /notebooks/Platinum_Decomp_Fusion/temp/poisson_74968.mls\n",
      "removed temporary input file: /notebooks/Platinum_Decomp_Fusion/temp/None.off\n",
      "removed temporary output file: /notebooks/Platinum_Decomp_Fusion/temp/None_poisson.off\n",
      "Using the close holes feature\n",
      "xvfb-run -n 4123 -s \"-screen 0 800x600x24\" meshlabserver $@  -i /notebooks/Platinum_Decomp_Fusion/temp/neuron_67591.off -o /notebooks/Platinum_Decomp_Fusion/temp/neuron_67591_fill_holes.off -s /notebooks/Platinum_Decomp_Fusion/temp/fill_holes_700077.mls\n",
      "removed temporary input file: /notebooks/Platinum_Decomp_Fusion/temp/neuron_67591.off\n",
      "removed temporary output file: /notebooks/Platinum_Decomp_Fusion/temp/neuron_67591_fill_holes.off\n",
      "-----Time for Screened Poisson= 8.12002182006836\n",
      "     Starting Calcification\n"
     ]
    },
    {
     "data": {
      "application/vnd.jupyter.widget-view+json": {
       "model_id": "955e249fb0b041c0810b9bf685a66352",
       "version_major": 2,
       "version_minor": 0
      },
      "text/plain": [
       "HBox(children=(FloatProgress(value=1.0, bar_style='info', max=1.0), HTML(value='')))"
      ]
     },
     "metadata": {},
     "output_type": "display_data"
    },
    {
     "name": "stdout",
     "output_type": "stream",
     "text": [
      "\n",
      "No skeletons to stack so returning empty list\n",
      "len_subgraphs AT BEGINNING of the loop\n"
     ]
    },
    {
     "data": {
      "application/vnd.jupyter.widget-view+json": {
       "model_id": "d710fc94326343e6a3d38b1f0488ce14",
       "version_major": 2,
       "version_minor": 0
      },
      "text/plain": [
       "HBox(children=(FloatProgress(value=0.0, max=1.0), HTML(value='')))"
      ]
     },
     "metadata": {},
     "output_type": "display_data"
    },
    {
     "name": "stdout",
     "output_type": "stream",
     "text": [
      "all graph is one component!\n",
      "\n",
      "Total time for skeleton stitching = 0.026996135711669922\n",
      "The process was using a temp folder\n",
      "Checking connected components after skeletonize_connected_branch\n",
      "    Total time for skeletonizing branch: 9.12187385559082\n",
      "Checking connected components after removing cycles\n",
      "Total time for mesh KDTree = 0.15880799293518066\n",
      "sbv[0].reshape(-1,3) = [[641412.8 444597.5 697369.8]]\n",
      "closest_sk_pt_coord BEFORE = [641714. 444951. 697927.]\n",
      "current_skeleton.shape = (184, 2, 3)\n",
      "Current stitch point was not a branch or endpoint, shortest_path_length to one = 1815.46625100735\n",
      "change_status for create soma extending pieces = False\n",
      "closest_sk_pt_coord AFTER = [641714. 444951. 697927.]\n",
      "Adding new branch to skeleton\n",
      "border_average_coordinate = [641893.38275862 444213.64827586 697578.59655172]\n",
      "endpoints_must_keep = {0: array([[641893.38275862, 444213.64827586, 697578.59655172]])}\n",
      "    Total time for Fixing Skeleton Soma Endpoint Extension : 0.24651527404785156\n",
      "filter_end_node_length = 1500\n",
      "Using Distance measure skeletal_distance\n",
      "endpoints_must_keep = [[641893.38275862 444213.64827586 697578.59655172]]\n",
      "Number of end_nodes BEFORE filtering = 13\n",
      "all_single_nodes_to_eliminate = [4]\n"
     ]
    },
    {
     "data": {
      "application/vnd.jupyter.widget-view+json": {
       "model_id": "e9a6b5eca19f43ebafa1f5b8b75ba686",
       "version_major": 2,
       "version_minor": 0
      },
      "text/plain": [
       "HBox(children=(FloatProgress(value=0.0, max=10.0), HTML(value='')))"
      ]
     },
     "metadata": {},
     "output_type": "display_data"
    },
    {
     "name": "stdout",
     "output_type": "stream",
     "text": [
      "\n",
      "Checking connected components after clean_skeleton\n",
      "after DISTANCE cleaning limb size of skeleton = (162, 2, 3)\n",
      "********COMBINING CLOSE SKELETON NODES WITHIN 700 DISTANCE**********\n",
      "Found 0 valid paths to replace\n",
      "valid_paths = []\n",
      "valid_path_lengths = []\n",
      "No valid paths found so just returning the original\n",
      "skeletonize_and_clean_connected_branch_CGAL: 9.534678936004639\n",
      "Working on limb correspondence for #1 MAP piece\n"
     ]
    },
    {
     "data": {
      "application/vnd.jupyter.widget-view+json": {
       "model_id": "b6d5000b42384281a1f51563e823b9ab",
       "version_major": 2,
       "version_minor": 0
      },
      "text/plain": [
       "HBox(children=(FloatProgress(value=1.0, bar_style='info', max=1.0), HTML(value='')))"
      ]
     },
     "metadata": {},
     "output_type": "display_data"
    },
    {
     "name": "stdout",
     "output_type": "stream",
     "text": [
      "\n",
      "Total time for decomposition = 1.590451717376709\n",
      "mesh_correspondence_first_pass: 1.590487003326416\n",
      "Limb decomposed into 3 branches\n",
      "divided_skeleton_graph_recovered = (162, 2, 3) and \n",
      "current_mesh_data[0]['branch_skeletons_cleaned'].shape = (162, 2, 3)\n",
      "\n",
      "Number of connected components in deocmposed recovered graph = 1\n",
      "Number of connected components in cleaned skeleton graph= 1\n",
      "The downsampled branches number of connected components = 1\n",
      "Empty submeshes = []\n",
      "\n",
      "\n",
      "--- Working on 1-to-1 correspondence-----\n",
      "max(original_labels),len(original_labels) = (2, 3)\n",
      "empty_indices % = 0.09477308647550237\n",
      " conflict_indices % = 0.018344998871076993\n"
     ]
    },
    {
     "data": {
      "application/vnd.jupyter.widget-view+json": {
       "model_id": "4b39d41f71504f679a1a45eb0be6bdc9",
       "version_major": 2,
       "version_minor": 0
      },
      "text/plain": [
       "HBox(children=(FloatProgress(value=0.0, max=17.0), HTML(value='')))"
      ]
     },
     "metadata": {},
     "output_type": "display_data"
    },
    {
     "name": "stdout",
     "output_type": "stream",
     "text": [
      "\n",
      "AFTER face_lookup_resolved_test\n",
      "Took 0 iterations to expand the label back\n",
      "empty_indices % = 0.0\n",
      " conflict_indices % = 0.0\n"
     ]
    },
    {
     "data": {
      "application/vnd.jupyter.widget-view+json": {
       "model_id": "6c60f5dc72624731afa8a106612bf79b",
       "version_major": 2,
       "version_minor": 0
      },
      "text/plain": [
       "HBox(children=(FloatProgress(value=1.0, bar_style='info', max=1.0), HTML(value='')))"
      ]
     },
     "metadata": {},
     "output_type": "display_data"
    },
    {
     "name": "stdout",
     "output_type": "stream",
     "text": [
      "\n",
      "AFTER face_lookup_resolved_test\n"
     ]
    },
    {
     "data": {
      "application/vnd.jupyter.widget-view+json": {
       "model_id": "3eafe68a1337455ebaa16d8cbd25832b",
       "version_major": 2,
       "version_minor": 0
      },
      "text/plain": [
       "HBox(children=(FloatProgress(value=0.0, max=3.0), HTML(value='')))"
      ]
     },
     "metadata": {},
     "output_type": "display_data"
    },
    {
     "name": "stdout",
     "output_type": "stream",
     "text": [
      "\n",
      "Total time for MAP sublimb #1 mesh processing = 12.740554332733154\n",
      "correspondence_1_to_1: 1.6076204776763916\n",
      "--- Working on MAP piece 2---\n",
      "MAP Filtering Soma Pieces: 0.010467290878295898\n",
      "inside skeletonize_connected_branch and use_surface_after_CGAL=False, surface_reconstruction_size=1000\n",
      "     Starting Screened Poisson\n",
      "xvfb-run -n 2996 -s \"-screen 0 800x600x24\" meshlabserver $@  -i /notebooks/Platinum_Decomp_Fusion/temp/None.off -o /notebooks/Platinum_Decomp_Fusion/temp/None_poisson.off -s /notebooks/Platinum_Decomp_Fusion/temp/poisson_980399.mls\n",
      "removed temporary input file: /notebooks/Platinum_Decomp_Fusion/temp/None.off\n",
      "removed temporary output file: /notebooks/Platinum_Decomp_Fusion/temp/None_poisson.off\n",
      "Using the close holes feature\n",
      "xvfb-run -n 3268 -s \"-screen 0 800x600x24\" meshlabserver $@  -i /notebooks/Platinum_Decomp_Fusion/temp/neuron_33370.off -o /notebooks/Platinum_Decomp_Fusion/temp/neuron_33370_fill_holes.off -s /notebooks/Platinum_Decomp_Fusion/temp/fill_holes_479873.mls\n",
      "removed temporary input file: /notebooks/Platinum_Decomp_Fusion/temp/neuron_33370.off\n",
      "removed temporary output file: /notebooks/Platinum_Decomp_Fusion/temp/neuron_33370_fill_holes.off\n",
      "-----Time for Screened Poisson= 7.8002283573150635\n",
      "     Starting Calcification\n"
     ]
    },
    {
     "data": {
      "application/vnd.jupyter.widget-view+json": {
       "model_id": "bff2feda39bf412c8848a07dfda75131",
       "version_major": 2,
       "version_minor": 0
      },
      "text/plain": [
       "HBox(children=(FloatProgress(value=1.0, bar_style='info', max=1.0), HTML(value='')))"
      ]
     },
     "metadata": {},
     "output_type": "display_data"
    },
    {
     "name": "stdout",
     "output_type": "stream",
     "text": [
      "\n",
      "No skeletons to stack so returning empty list\n",
      "len_subgraphs AT BEGINNING of the loop\n"
     ]
    },
    {
     "data": {
      "application/vnd.jupyter.widget-view+json": {
       "model_id": "44b5f2062dda450fac9b8fcd45c94b42",
       "version_major": 2,
       "version_minor": 0
      },
      "text/plain": [
       "HBox(children=(FloatProgress(value=0.0, max=2.0), HTML(value='')))"
      ]
     },
     "metadata": {},
     "output_type": "display_data"
    },
    {
     "name": "stdout",
     "output_type": "stream",
     "text": [
      "all graph is one component!\n",
      "\n",
      "Total time for skeleton stitching = 0.030136585235595703\n",
      "The process was using a temp folder\n",
      "Checking connected components after skeletonize_connected_branch\n",
      "    Total time for skeletonizing branch: 8.51560926437378\n",
      "Checking connected components after removing cycles\n",
      "    Total time for Fixing Skeleton Soma Endpoint Extension : 0.0036427974700927734\n",
      "filter_end_node_length = 1500\n",
      "Using Distance measure skeletal_distance\n"
     ]
    },
    {
     "data": {
      "application/vnd.jupyter.widget-view+json": {
       "model_id": "8293770bea8546f08aa93344ff9c2909",
       "version_major": 2,
       "version_minor": 0
      },
      "text/plain": [
       "HBox(children=(FloatProgress(value=0.0, max=1.0), HTML(value='')))"
      ]
     },
     "metadata": {},
     "output_type": "display_data"
    },
    {
     "name": "stdout",
     "output_type": "stream",
     "text": [
      "\n",
      "Checking connected components after clean_skeleton\n",
      "after DISTANCE cleaning limb size of skeleton = (69, 2, 3)\n",
      "********COMBINING CLOSE SKELETON NODES WITHIN 700 DISTANCE**********\n",
      "Found 0 valid paths to replace\n",
      "valid_paths = []\n",
      "valid_path_lengths = []\n",
      "No valid paths found so just returning the original\n",
      "Inside MAP decomposition and curr_limb_endpoints_must_keep was None\n",
      "skeletonize_and_clean_connected_branch_CGAL: 8.600245475769043\n",
      "Working on limb correspondence for #2 MAP piece\n"
     ]
    },
    {
     "data": {
      "application/vnd.jupyter.widget-view+json": {
       "model_id": "ef07c330d73846f89b88f439353ac3f1",
       "version_major": 2,
       "version_minor": 0
      },
      "text/plain": [
       "HBox(children=(FloatProgress(value=1.0, bar_style='info', max=1.0), HTML(value='')))"
      ]
     },
     "metadata": {},
     "output_type": "display_data"
    },
    {
     "name": "stdout",
     "output_type": "stream",
     "text": [
      "\n",
      "Total time for decomposition = 0.7835628986358643\n",
      "mesh_correspondence_first_pass: 0.7835958003997803\n",
      "Limb decomposed into 3 branches\n",
      "divided_skeleton_graph_recovered = (69, 2, 3) and \n",
      "current_mesh_data[0]['branch_skeletons_cleaned'].shape = (69, 2, 3)\n",
      "\n",
      "Number of connected components in deocmposed recovered graph = 1\n",
      "Number of connected components in cleaned skeleton graph= 1\n",
      "The downsampled branches number of connected components = 1\n",
      "Empty submeshes = []\n",
      "\n",
      "\n",
      "--- Working on 1-to-1 correspondence-----\n",
      "max(original_labels),len(original_labels) = (2, 3)\n",
      "empty_indices % = 0.15009692605926336\n",
      " conflict_indices % = 0.07449459983384105\n"
     ]
    },
    {
     "data": {
      "application/vnd.jupyter.widget-view+json": {
       "model_id": "35d520c2883b4f93ba9d9b98c59a1305",
       "version_major": 2,
       "version_minor": 0
      },
      "text/plain": [
       "HBox(children=(FloatProgress(value=0.0, max=8.0), HTML(value='')))"
      ]
     },
     "metadata": {},
     "output_type": "display_data"
    },
    {
     "name": "stdout",
     "output_type": "stream",
     "text": [
      "\n",
      "AFTER face_lookup_resolved_test\n"
     ]
    },
    {
     "data": {
      "application/vnd.jupyter.widget-view+json": {
       "model_id": "3e62fbdc8afb4c61a639de7488ab8f82",
       "version_major": 2,
       "version_minor": 0
      },
      "text/plain": [
       "HBox(children=(FloatProgress(value=0.0, max=3.0), HTML(value='')))"
      ]
     },
     "metadata": {},
     "output_type": "display_data"
    },
    {
     "name": "stdout",
     "output_type": "stream",
     "text": [
      "\n",
      "Total time for MAP sublimb #2 mesh processing = 10.443052291870117\n",
      "correspondence_1_to_1: 1.048715591430664\n",
      "Total time for MAP sublimb processing 108.41014981269836\n",
      "---- Working on MP Decomposition #0 ----\n",
      "Computing the current soma touching verts dict manually\n",
      "MP filtering soma verts: 0.007903814315795898\n",
      "Do Not Need to Fix MP Decomposition 0 so just continuing\n",
      "---- Working on MP Decomposition #1 ----\n",
      "Computing the current soma touching verts dict manually\n",
      "MP filtering soma verts: 0.006653308868408203\n",
      "Do Not Need to Fix MP Decomposition 1 so just continuing\n",
      "---- Working on MP Decomposition #2 ----\n",
      "Computing the current soma touching verts dict manually\n",
      "MP filtering soma verts: 0.00587916374206543\n",
      "Do Not Need to Fix MP Decomposition 2 so just continuing\n",
      "---- Working on MP Decomposition #3 ----\n",
      "Computing the current soma touching verts dict manually\n",
      "MP filtering soma verts: 0.007582187652587891\n",
      "Do Not Need to Fix MP Decomposition 3 so just continuing\n",
      "---- Working on MP Decomposition #4 ----\n",
      "Computing the current soma touching verts dict manually\n",
      "MP filtering soma verts: 0.007658481597900391\n",
      "Do Not Need to Fix MP Decomposition 4 so just continuing\n",
      "---- Working on MP Decomposition #5 ----\n",
      "Computing the current soma touching verts dict manually\n",
      "MP filtering soma verts: 0.007166624069213867\n",
      "Do Not Need to Fix MP Decomposition 5 so just continuing\n",
      "---- Working on MP Decomposition #6 ----\n",
      "Computing the current soma touching verts dict manually\n",
      "MP filtering soma verts: 0.005900144577026367\n",
      "Do Not Need to Fix MP Decomposition 6 so just continuing\n",
      "---- Working on MP Decomposition #7 ----\n",
      "Computing the current soma touching verts dict manually\n",
      "MP filtering soma verts: 0.006402730941772461\n",
      "Do Not Need to Fix MP Decomposition 7 so just continuing\n",
      "---- Working on MP Decomposition #8 ----\n",
      "Computing the current soma touching verts dict manually\n",
      "MP filtering soma verts: 0.007764577865600586\n",
      "Do Not Need to Fix MP Decomposition 8 so just continuing\n",
      "---- Working on MP Decomposition #9 ----\n",
      "Computing the current soma touching verts dict manually\n",
      "MP filtering soma verts: 0.005570173263549805\n",
      "Do Not Need to Fix MP Decomposition 9 so just continuing\n",
      "---- Working on MP Decomposition #10 ----\n",
      "Computing the current soma touching verts dict manually\n",
      "MP filtering soma verts: 0.008062601089477539\n",
      "Do Not Need to Fix MP Decomposition 10 so just continuing\n",
      "\n",
      "---- Working on (0, 0) connection-----\n",
      "Current stitch point was not a branch or endpoint, shortest_path_length to one = 789.6282029034587\n",
      "sk_conn = [0, 3]\n",
      "conn = [0, 3]\n"
     ]
    },
    {
     "name": "stderr",
     "output_type": "stream",
     "text": [
      "/meshAfterParty/preprocessing_vp2.py:1588: VisibleDeprecationWarning: Creating an ndarray from ragged nested sequences (which is a list-or-tuple of lists-or-tuples-or ndarrays with different lengths or shapes) is deprecated. If you meant to do this, you must specify 'dtype=object' when creating the ndarray\n",
      "  for k in o_keys])\n"
     ]
    },
    {
     "name": "stdout",
     "output_type": "stream",
     "text": [
      "winning_vertex = [640324.22425676 400121.75412039 769522.03172693]\n",
      "MP_branches_with_stitch_point = [0, 3]\n",
      "MAP_branches_with_stitch_point = [6]\n",
      "MAP_stitch_point_on_end_or_branch = False\n",
      "Using max stitch distance (300) for smoothing because stitch_distance greater (497.2108666728785) \n",
      "Found winning edge: [9, 10.0]\n",
      "in remove edge\n",
      "Using max stitch distance (300) for smoothing because stitch_distance greater (435.55405366187415) \n",
      "Found winning edge: [405, 406.0]\n",
      "in remove edge\n"
     ]
    },
    {
     "data": {
      "application/vnd.jupyter.widget-view+json": {
       "model_id": "1b18731d80db46bd8c9a5a5316eb1198",
       "version_major": 2,
       "version_minor": 0
      },
      "text/plain": [
       "HBox(children=(FloatProgress(value=1.0, bar_style='info', max=1.0), HTML(value='')))"
      ]
     },
     "metadata": {},
     "output_type": "display_data"
    },
    {
     "name": "stderr",
     "output_type": "stream",
     "text": [
      "/meshAfterParty/trimesh_utils.py:331: VisibleDeprecationWarning: Creating an ndarray from ragged nested sequences (which is a list-or-tuple of lists-or-tuples-or ndarrays with different lengths or shapes) is deprecated. If you meant to do this, you must specify 'dtype=object' when creating the ndarray\n",
      "  ordered_comp_indices = np.array([k.astype(\"int\") for k in ordered_components])\n"
     ]
    },
    {
     "name": "stdout",
     "output_type": "stream",
     "text": [
      "\n",
      "\n",
      "\n",
      "--- Working on 1-to-1 correspondence-----\n",
      "max(original_labels),len(original_labels) = (1, 2)\n",
      "empty_indices % = 0.1324898543805204\n",
      " conflict_indices % = 0.016113630938171402\n"
     ]
    },
    {
     "data": {
      "application/vnd.jupyter.widget-view+json": {
       "model_id": "75eaa7c488eb42b0950da7964205def4",
       "version_major": 2,
       "version_minor": 0
      },
      "text/plain": [
       "HBox(children=(FloatProgress(value=0.0, max=9.0), HTML(value='')))"
      ]
     },
     "metadata": {},
     "output_type": "display_data"
    },
    {
     "name": "stdout",
     "output_type": "stream",
     "text": [
      "\n",
      "AFTER face_lookup_resolved_test\n"
     ]
    },
    {
     "data": {
      "application/vnd.jupyter.widget-view+json": {
       "model_id": "62e0d4cf4155465286cbe624c6650c5f",
       "version_major": 2,
       "version_minor": 0
      },
      "text/plain": [
       "HBox(children=(FloatProgress(value=0.0, max=2.0), HTML(value='')))"
      ]
     },
     "metadata": {},
     "output_type": "display_data"
    },
    {
     "name": "stdout",
     "output_type": "stream",
     "text": [
      "\n"
     ]
    },
    {
     "data": {
      "application/vnd.jupyter.widget-view+json": {
       "model_id": "d26c21ca3dd94fc88fd35a5393874eb5",
       "version_major": 2,
       "version_minor": 0
      },
      "text/plain": [
       "HBox(children=(FloatProgress(value=1.0, bar_style='info', max=1.0), HTML(value='')))"
      ]
     },
     "metadata": {},
     "output_type": "display_data"
    },
    {
     "name": "stdout",
     "output_type": "stream",
     "text": [
      "\n",
      "\n",
      "\n",
      "--- Working on 1-to-1 correspondence-----\n",
      "max(original_labels),len(original_labels) = (3, 4)\n",
      "empty_indices % = 0.05639369342569377\n",
      " conflict_indices % = 0.03841740682503931\n"
     ]
    },
    {
     "data": {
      "application/vnd.jupyter.widget-view+json": {
       "model_id": "6c7ef688ab914d44a7e7d6f07f5e6e58",
       "version_major": 2,
       "version_minor": 0
      },
      "text/plain": [
       "HBox(children=(FloatProgress(value=0.0, max=4.0), HTML(value='')))"
      ]
     },
     "metadata": {},
     "output_type": "display_data"
    },
    {
     "name": "stdout",
     "output_type": "stream",
     "text": [
      "\n",
      "AFTER face_lookup_resolved_test\n"
     ]
    },
    {
     "data": {
      "application/vnd.jupyter.widget-view+json": {
       "model_id": "6fd7fec17e1844a2a658d74dde0b327a",
       "version_major": 2,
       "version_minor": 0
      },
      "text/plain": [
       "HBox(children=(FloatProgress(value=0.0, max=4.0), HTML(value='')))"
      ]
     },
     "metadata": {},
     "output_type": "display_data"
    },
    {
     "name": "stdout",
     "output_type": "stream",
     "text": [
      "\n",
      "Deleting branches from dictionary\n",
      "MP_branches_with_stitch_point= [0, 3]\n",
      "MP_branches_for_correspondence = [0 3]\n",
      "MP_leftover = [], MP_leftover_idx = []\n",
      " Finished with (0, 0) \n",
      "\n",
      "\n",
      "\n",
      "\n",
      "---- Working on (1, 0) connection-----\n",
      "Current stitch point was not a branch or endpoint, shortest_path_length to one = 399.56601457080905\n",
      "Changing the stitch point becasue the distance to end or branch node was 399.56601457080905\n",
      "New stitch point has degree 1\n",
      "sk_conn = [0, 1]\n",
      "conn = [0, 1]\n"
     ]
    },
    {
     "name": "stderr",
     "output_type": "stream",
     "text": [
      "/meshAfterParty/preprocessing_vp2.py:1588: VisibleDeprecationWarning: Creating an ndarray from ragged nested sequences (which is a list-or-tuple of lists-or-tuples-or ndarrays with different lengths or shapes) is deprecated. If you meant to do this, you must specify 'dtype=object' when creating the ndarray\n",
      "  for k in o_keys])\n"
     ]
    },
    {
     "name": "stdout",
     "output_type": "stream",
     "text": [
      "winning_vertex = [663769.20410291 453394.69459309 718807.23382698]\n",
      "MP_branches_with_stitch_point = [0, 1]\n",
      "MAP_branches_with_stitch_point = [8]\n",
      "MAP_stitch_point_on_end_or_branch = True\n",
      "Found winning edge: [6, 7.0]\n",
      "in remove edge\n",
      "Found winning edge: [438, 441.0]\n",
      "in remove edge\n"
     ]
    },
    {
     "data": {
      "application/vnd.jupyter.widget-view+json": {
       "model_id": "fe51719adc32421ba38160957a661607",
       "version_major": 2,
       "version_minor": 0
      },
      "text/plain": [
       "HBox(children=(FloatProgress(value=1.0, bar_style='info', max=1.0), HTML(value='')))"
      ]
     },
     "metadata": {},
     "output_type": "display_data"
    },
    {
     "name": "stderr",
     "output_type": "stream",
     "text": [
      "/meshAfterParty/trimesh_utils.py:331: VisibleDeprecationWarning: Creating an ndarray from ragged nested sequences (which is a list-or-tuple of lists-or-tuples-or ndarrays with different lengths or shapes) is deprecated. If you meant to do this, you must specify 'dtype=object' when creating the ndarray\n",
      "  ordered_comp_indices = np.array([k.astype(\"int\") for k in ordered_components])\n"
     ]
    },
    {
     "name": "stdout",
     "output_type": "stream",
     "text": [
      "\n",
      "\n",
      "\n",
      "--- Working on 1-to-1 correspondence-----\n",
      "max(original_labels),len(original_labels) = (2, 3)\n",
      "empty_indices % = 0.10426745329400197\n",
      " conflict_indices % = 0.027492625368731562\n"
     ]
    },
    {
     "data": {
      "application/vnd.jupyter.widget-view+json": {
       "model_id": "70f7ee6c36404a9cbfd70b7d00fd2bf5",
       "version_major": 2,
       "version_minor": 0
      },
      "text/plain": [
       "HBox(children=(FloatProgress(value=0.0, max=19.0), HTML(value='')))"
      ]
     },
     "metadata": {},
     "output_type": "display_data"
    },
    {
     "name": "stdout",
     "output_type": "stream",
     "text": [
      "\n",
      "AFTER face_lookup_resolved_test\n"
     ]
    },
    {
     "data": {
      "application/vnd.jupyter.widget-view+json": {
       "model_id": "ad7a1c2af69d46faaebf016f19ec7849",
       "version_major": 2,
       "version_minor": 0
      },
      "text/plain": [
       "HBox(children=(FloatProgress(value=0.0, max=3.0), HTML(value='')))"
      ]
     },
     "metadata": {},
     "output_type": "display_data"
    },
    {
     "name": "stdout",
     "output_type": "stream",
     "text": [
      "\n",
      "MP_branches_with_stitch_point= [0, 1]\n",
      "MP_branches_for_correspondence = [0 1]\n",
      "MP_leftover = [], MP_leftover_idx = []\n",
      " Finished with (1, 0) \n",
      "\n",
      "\n",
      "\n",
      "\n",
      "---- Working on (2, 0) connection-----\n",
      "Current stitch point was a branch or endpoint\n",
      "sk_conn = [1, 2]\n",
      "conn = [1, 2]\n",
      "winning_vertex = [668238.73771766 386138.47682063 801506.01162687]\n",
      "MP_branches_with_stitch_point = [1, 2]\n",
      "MAP_branches_with_stitch_point = [10]\n",
      "MAP_stitch_point_on_end_or_branch = True\n",
      "Using max stitch distance (300) for smoothing because stitch_distance greater (557.1490000360155) \n"
     ]
    },
    {
     "name": "stderr",
     "output_type": "stream",
     "text": [
      "/meshAfterParty/preprocessing_vp2.py:1588: VisibleDeprecationWarning: Creating an ndarray from ragged nested sequences (which is a list-or-tuple of lists-or-tuples-or ndarrays with different lengths or shapes) is deprecated. If you meant to do this, you must specify 'dtype=object' when creating the ndarray\n",
      "  for k in o_keys])\n"
     ]
    },
    {
     "name": "stdout",
     "output_type": "stream",
     "text": [
      "Found winning edge: [9, 10.0]\n",
      "in remove edge\n",
      "Using max stitch distance (300) for smoothing because stitch_distance greater (434.47254755337224) \n",
      "Found winning edge: [45, 47.0]\n",
      "in remove edge\n"
     ]
    },
    {
     "data": {
      "application/vnd.jupyter.widget-view+json": {
       "model_id": "c8546b754b6c4307ba348299bac44ee0",
       "version_major": 2,
       "version_minor": 0
      },
      "text/plain": [
       "HBox(children=(FloatProgress(value=1.0, bar_style='info', max=1.0), HTML(value='')))"
      ]
     },
     "metadata": {},
     "output_type": "display_data"
    },
    {
     "name": "stderr",
     "output_type": "stream",
     "text": [
      "/meshAfterParty/trimesh_utils.py:331: VisibleDeprecationWarning: Creating an ndarray from ragged nested sequences (which is a list-or-tuple of lists-or-tuples-or ndarrays with different lengths or shapes) is deprecated. If you meant to do this, you must specify 'dtype=object' when creating the ndarray\n",
      "  ordered_comp_indices = np.array([k.astype(\"int\") for k in ordered_components])\n"
     ]
    },
    {
     "name": "stdout",
     "output_type": "stream",
     "text": [
      "\n",
      "\n",
      "\n",
      "--- Working on 1-to-1 correspondence-----\n",
      "max(original_labels),len(original_labels) = (2, 3)\n",
      "empty_indices % = 0.17943754981213708\n",
      " conflict_indices % = 0.003871114653307526\n"
     ]
    },
    {
     "data": {
      "application/vnd.jupyter.widget-view+json": {
       "model_id": "49caffab7f384116abef805d4a3b444d",
       "version_major": 2,
       "version_minor": 0
      },
      "text/plain": [
       "HBox(children=(FloatProgress(value=0.0, max=3.0), HTML(value='')))"
      ]
     },
     "metadata": {},
     "output_type": "display_data"
    },
    {
     "name": "stdout",
     "output_type": "stream",
     "text": [
      "\n",
      "AFTER face_lookup_resolved_test\n"
     ]
    },
    {
     "data": {
      "application/vnd.jupyter.widget-view+json": {
       "model_id": "7700f5511db1407db64824a75d871f63",
       "version_major": 2,
       "version_minor": 0
      },
      "text/plain": [
       "HBox(children=(FloatProgress(value=0.0, max=3.0), HTML(value='')))"
      ]
     },
     "metadata": {},
     "output_type": "display_data"
    },
    {
     "name": "stdout",
     "output_type": "stream",
     "text": [
      "\n",
      "MP_branches_with_stitch_point= [1, 2]\n",
      "MP_branches_for_correspondence = [1 2]\n",
      "MP_leftover = [], MP_leftover_idx = []\n",
      " Finished with (2, 0) \n",
      "\n",
      "\n",
      "\n",
      "\n",
      "---- Working on (4, 0) connection-----\n",
      "Current stitch point was not a branch or endpoint, shortest_path_length to one = 6593.303118547974\n",
      "sk_conn = [2]\n",
      "conn = [2]\n",
      "winning_vertex = [663414.07589443 448270.3547066  715116.24194395]\n",
      "MP_branches_with_stitch_point = [2]\n",
      "MAP_branches_with_stitch_point = [8]\n",
      "MAP_stitch_point_on_end_or_branch = False\n"
     ]
    },
    {
     "name": "stderr",
     "output_type": "stream",
     "text": [
      "/meshAfterParty/preprocessing_vp2.py:1588: VisibleDeprecationWarning: Creating an ndarray from ragged nested sequences (which is a list-or-tuple of lists-or-tuples-or ndarrays with different lengths or shapes) is deprecated. If you meant to do this, you must specify 'dtype=object' when creating the ndarray\n",
      "  for k in o_keys])\n"
     ]
    },
    {
     "name": "stdout",
     "output_type": "stream",
     "text": [
      "Using max stitch distance (300) for smoothing because stitch_distance greater (708.91884452347) \n",
      "Found winning edge: [9, 10.0]\n",
      "in remove edge\n"
     ]
    },
    {
     "data": {
      "application/vnd.jupyter.widget-view+json": {
       "model_id": "12a23cf5075b43729ecf6e7f42f7acd2",
       "version_major": 2,
       "version_minor": 0
      },
      "text/plain": [
       "HBox(children=(FloatProgress(value=1.0, bar_style='info', max=1.0), HTML(value='')))"
      ]
     },
     "metadata": {},
     "output_type": "display_data"
    },
    {
     "name": "stderr",
     "output_type": "stream",
     "text": [
      "/meshAfterParty/trimesh_utils.py:331: VisibleDeprecationWarning: Creating an ndarray from ragged nested sequences (which is a list-or-tuple of lists-or-tuples-or ndarrays with different lengths or shapes) is deprecated. If you meant to do this, you must specify 'dtype=object' when creating the ndarray\n",
      "  ordered_comp_indices = np.array([k.astype(\"int\") for k in ordered_components])\n"
     ]
    },
    {
     "name": "stdout",
     "output_type": "stream",
     "text": [
      "\n",
      "\n",
      "\n",
      "--- Working on 1-to-1 correspondence-----\n",
      "max(original_labels),len(original_labels) = (1, 2)\n",
      "empty_indices % = 0.10316275281661463\n",
      " conflict_indices % = 0.0036649925342744673\n"
     ]
    },
    {
     "data": {
      "application/vnd.jupyter.widget-view+json": {
       "model_id": "b7e8cb27e5f24d10a772c6408406f964",
       "version_major": 2,
       "version_minor": 0
      },
      "text/plain": [
       "HBox(children=(FloatProgress(value=0.0, max=9.0), HTML(value='')))"
      ]
     },
     "metadata": {},
     "output_type": "display_data"
    },
    {
     "name": "stdout",
     "output_type": "stream",
     "text": [
      "\n",
      "AFTER face_lookup_resolved_test\n"
     ]
    },
    {
     "data": {
      "application/vnd.jupyter.widget-view+json": {
       "model_id": "b3166ccd7dda40a1a9f6f71094cce2f0",
       "version_major": 2,
       "version_minor": 0
      },
      "text/plain": [
       "HBox(children=(FloatProgress(value=0.0, max=2.0), HTML(value='')))"
      ]
     },
     "metadata": {},
     "output_type": "display_data"
    },
    {
     "name": "stdout",
     "output_type": "stream",
     "text": [
      "\n"
     ]
    },
    {
     "data": {
      "application/vnd.jupyter.widget-view+json": {
       "model_id": "881bbe14508c4c6796a4f34ce461c2c0",
       "version_major": 2,
       "version_minor": 0
      },
      "text/plain": [
       "HBox(children=(FloatProgress(value=1.0, bar_style='info', max=1.0), HTML(value='')))"
      ]
     },
     "metadata": {},
     "output_type": "display_data"
    },
    {
     "name": "stdout",
     "output_type": "stream",
     "text": [
      "\n",
      "\n",
      "\n",
      "--- Working on 1-to-1 correspondence-----\n",
      "max(original_labels),len(original_labels) = (2, 3)\n",
      "empty_indices % = 0.09534426229508197\n",
      " conflict_indices % = 0.026295081967213113\n"
     ]
    },
    {
     "data": {
      "application/vnd.jupyter.widget-view+json": {
       "model_id": "c1eab5aa21f34b3d9c9bc78823ac3877",
       "version_major": 2,
       "version_minor": 0
      },
      "text/plain": [
       "HBox(children=(FloatProgress(value=0.0, max=7.0), HTML(value='')))"
      ]
     },
     "metadata": {},
     "output_type": "display_data"
    },
    {
     "name": "stdout",
     "output_type": "stream",
     "text": [
      "\n",
      "AFTER face_lookup_resolved_test\n"
     ]
    },
    {
     "data": {
      "application/vnd.jupyter.widget-view+json": {
       "model_id": "168b160be1374b0980bbef1c71711df9",
       "version_major": 2,
       "version_minor": 0
      },
      "text/plain": [
       "HBox(children=(FloatProgress(value=0.0, max=3.0), HTML(value='')))"
      ]
     },
     "metadata": {},
     "output_type": "display_data"
    },
    {
     "name": "stdout",
     "output_type": "stream",
     "text": [
      "\n",
      "Deleting branches from dictionary\n",
      "MP_branches_with_stitch_point= [2]\n",
      "MP_branches_for_correspondence = [2]\n",
      "MP_leftover = [], MP_leftover_idx = []\n",
      " Finished with (4, 0) \n",
      "\n",
      "\n",
      "\n",
      "\n",
      "---- Working on (5, 0) connection-----\n",
      "Current stitch point was not a branch or endpoint, shortest_path_length to one = 3612.522393617116\n",
      "sk_conn = [0]\n",
      "conn = [0]\n",
      "winning_vertex = [662116.64880656 444883.16279615 714511.11671369]\n",
      "MP_branches_with_stitch_point = [0]\n",
      "MAP_branches_with_stitch_point = [8]\n",
      "MAP_stitch_point_on_end_or_branch = False\n"
     ]
    },
    {
     "name": "stderr",
     "output_type": "stream",
     "text": [
      "/meshAfterParty/preprocessing_vp2.py:1588: VisibleDeprecationWarning: Creating an ndarray from ragged nested sequences (which is a list-or-tuple of lists-or-tuples-or ndarrays with different lengths or shapes) is deprecated. If you meant to do this, you must specify 'dtype=object' when creating the ndarray\n",
      "  for k in o_keys])\n"
     ]
    },
    {
     "name": "stdout",
     "output_type": "stream",
     "text": [
      "Found winning edge: [513, 514.0]\n",
      "in remove edge\n"
     ]
    },
    {
     "data": {
      "application/vnd.jupyter.widget-view+json": {
       "model_id": "be8114cfe74b4128a5d478f0428aec9e",
       "version_major": 2,
       "version_minor": 0
      },
      "text/plain": [
       "HBox(children=(FloatProgress(value=1.0, bar_style='info', max=1.0), HTML(value='')))"
      ]
     },
     "metadata": {},
     "output_type": "display_data"
    },
    {
     "name": "stderr",
     "output_type": "stream",
     "text": [
      "/meshAfterParty/trimesh_utils.py:331: VisibleDeprecationWarning: Creating an ndarray from ragged nested sequences (which is a list-or-tuple of lists-or-tuples-or ndarrays with different lengths or shapes) is deprecated. If you meant to do this, you must specify 'dtype=object' when creating the ndarray\n",
      "  ordered_comp_indices = np.array([k.astype(\"int\") for k in ordered_components])\n"
     ]
    },
    {
     "name": "stdout",
     "output_type": "stream",
     "text": [
      "\n",
      "\n",
      "\n",
      "--- Working on 1-to-1 correspondence-----\n",
      "max(original_labels),len(original_labels) = (1, 2)\n",
      "empty_indices % = 0.1291487532244196\n",
      " conflict_indices % = 0.002235597592433362\n"
     ]
    },
    {
     "data": {
      "application/vnd.jupyter.widget-view+json": {
       "model_id": "ea9dc21be0624539a807b853ded2ceba",
       "version_major": 2,
       "version_minor": 0
      },
      "text/plain": [
       "HBox(children=(FloatProgress(value=0.0, max=8.0), HTML(value='')))"
      ]
     },
     "metadata": {},
     "output_type": "display_data"
    },
    {
     "name": "stdout",
     "output_type": "stream",
     "text": [
      "\n",
      "AFTER face_lookup_resolved_test\n"
     ]
    },
    {
     "data": {
      "application/vnd.jupyter.widget-view+json": {
       "model_id": "c274b8fef3d9486eaf1a3a32760e0deb",
       "version_major": 2,
       "version_minor": 0
      },
      "text/plain": [
       "HBox(children=(FloatProgress(value=0.0, max=2.0), HTML(value='')))"
      ]
     },
     "metadata": {},
     "output_type": "display_data"
    },
    {
     "name": "stdout",
     "output_type": "stream",
     "text": [
      "\n"
     ]
    },
    {
     "data": {
      "application/vnd.jupyter.widget-view+json": {
       "model_id": "b091a613a3d3484aa5d350d10a77d4c5",
       "version_major": 2,
       "version_minor": 0
      },
      "text/plain": [
       "HBox(children=(FloatProgress(value=1.0, bar_style='info', max=1.0), HTML(value='')))"
      ]
     },
     "metadata": {},
     "output_type": "display_data"
    },
    {
     "name": "stdout",
     "output_type": "stream",
     "text": [
      "\n",
      "\n",
      "\n",
      "--- Working on 1-to-1 correspondence-----\n",
      "max(original_labels),len(original_labels) = (2, 3)\n",
      "empty_indices % = 0.08831718454170844\n",
      " conflict_indices % = 0.020380888740394253\n"
     ]
    },
    {
     "data": {
      "application/vnd.jupyter.widget-view+json": {
       "model_id": "3e70048608a043e784ef0659d8ceef20",
       "version_major": 2,
       "version_minor": 0
      },
      "text/plain": [
       "HBox(children=(FloatProgress(value=0.0, max=10.0), HTML(value='')))"
      ]
     },
     "metadata": {},
     "output_type": "display_data"
    },
    {
     "name": "stdout",
     "output_type": "stream",
     "text": [
      "\n",
      "AFTER face_lookup_resolved_test\n"
     ]
    },
    {
     "data": {
      "application/vnd.jupyter.widget-view+json": {
       "model_id": "4e217ccb706243a3bbde49dbcdb92426",
       "version_major": 2,
       "version_minor": 0
      },
      "text/plain": [
       "HBox(children=(FloatProgress(value=0.0, max=3.0), HTML(value='')))"
      ]
     },
     "metadata": {},
     "output_type": "display_data"
    },
    {
     "name": "stdout",
     "output_type": "stream",
     "text": [
      "\n",
      "Deleting branches from dictionary\n",
      "MP_branches_with_stitch_point= [0]\n",
      "MP_branches_for_correspondence = [0]\n",
      "MP_leftover = [], MP_leftover_idx = []\n",
      " Finished with (5, 0) \n",
      "\n",
      "\n",
      "\n",
      "\n",
      "---- Working on (6, 0) connection-----\n",
      "Current stitch point was a branch or endpoint\n",
      "sk_conn = [1, 3]\n",
      "conn = [1, 3]\n"
     ]
    },
    {
     "name": "stderr",
     "output_type": "stream",
     "text": [
      "/meshAfterParty/preprocessing_vp2.py:1588: VisibleDeprecationWarning: Creating an ndarray from ragged nested sequences (which is a list-or-tuple of lists-or-tuples-or ndarrays with different lengths or shapes) is deprecated. If you meant to do this, you must specify 'dtype=object' when creating the ndarray\n",
      "  for k in o_keys])\n"
     ]
    },
    {
     "name": "stdout",
     "output_type": "stream",
     "text": [
      "winning_vertex = [691045.9242614  385845.54573817 806188.34438764]\n",
      "MP_branches_with_stitch_point = [1, 3]\n",
      "MAP_branches_with_stitch_point = [15]\n",
      "MAP_stitch_point_on_end_or_branch = True\n",
      "Using max stitch distance (300) for smoothing because stitch_distance greater (783.3117249153293) \n",
      "Found winning edge: [9, 10.0]\n",
      "in remove edge\n",
      "Using max stitch distance (300) for smoothing because stitch_distance greater (707.0288638493471) \n",
      "Found winning edge: [9, 10.0]\n",
      "in remove edge\n"
     ]
    },
    {
     "data": {
      "application/vnd.jupyter.widget-view+json": {
       "model_id": "235c412cfce34a8983b3578ad2ec6660",
       "version_major": 2,
       "version_minor": 0
      },
      "text/plain": [
       "HBox(children=(FloatProgress(value=1.0, bar_style='info', max=1.0), HTML(value='')))"
      ]
     },
     "metadata": {},
     "output_type": "display_data"
    },
    {
     "name": "stderr",
     "output_type": "stream",
     "text": [
      "/meshAfterParty/trimesh_utils.py:331: VisibleDeprecationWarning: Creating an ndarray from ragged nested sequences (which is a list-or-tuple of lists-or-tuples-or ndarrays with different lengths or shapes) is deprecated. If you meant to do this, you must specify 'dtype=object' when creating the ndarray\n",
      "  ordered_comp_indices = np.array([k.astype(\"int\") for k in ordered_components])\n"
     ]
    },
    {
     "name": "stdout",
     "output_type": "stream",
     "text": [
      "\n",
      "\n",
      "\n",
      "--- Working on 1-to-1 correspondence-----\n",
      "max(original_labels),len(original_labels) = (2, 3)\n",
      "empty_indices % = 0.2667400188619931\n",
      " conflict_indices % = 0.008592685738237451\n"
     ]
    },
    {
     "data": {
      "application/vnd.jupyter.widget-view+json": {
       "model_id": "36303a4a405c44c78083d17791674d21",
       "version_major": 2,
       "version_minor": 0
      },
      "text/plain": [
       "HBox(children=(FloatProgress(value=0.0, max=7.0), HTML(value='')))"
      ]
     },
     "metadata": {},
     "output_type": "display_data"
    },
    {
     "name": "stdout",
     "output_type": "stream",
     "text": [
      "\n",
      "AFTER face_lookup_resolved_test\n"
     ]
    },
    {
     "data": {
      "application/vnd.jupyter.widget-view+json": {
       "model_id": "bd5cf8884f1f4a41a12c27efc25ad764",
       "version_major": 2,
       "version_minor": 0
      },
      "text/plain": [
       "HBox(children=(FloatProgress(value=0.0, max=3.0), HTML(value='')))"
      ]
     },
     "metadata": {},
     "output_type": "display_data"
    },
    {
     "name": "stdout",
     "output_type": "stream",
     "text": [
      "\n",
      "MP_branches_with_stitch_point= [1, 3]\n",
      "MP_branches_for_correspondence = [1 3]\n",
      "MP_leftover = [], MP_leftover_idx = []\n",
      " Finished with (6, 0) \n",
      "\n",
      "\n",
      "\n",
      "\n",
      "---- Working on (7, 0) connection-----\n",
      "Current stitch point was not a branch or endpoint, shortest_path_length to one = 22567.435307752625\n",
      "sk_conn = [0]\n",
      "conn = [0]\n"
     ]
    },
    {
     "name": "stderr",
     "output_type": "stream",
     "text": [
      "/meshAfterParty/preprocessing_vp2.py:1588: VisibleDeprecationWarning: Creating an ndarray from ragged nested sequences (which is a list-or-tuple of lists-or-tuples-or ndarrays with different lengths or shapes) is deprecated. If you meant to do this, you must specify 'dtype=object' when creating the ndarray\n",
      "  for k in o_keys])\n"
     ]
    },
    {
     "name": "stdout",
     "output_type": "stream",
     "text": [
      "winning_vertex = [641069.10497679 416262.15816317 717661.17321542]\n",
      "MP_branches_with_stitch_point = [0]\n",
      "MAP_branches_with_stitch_point = [5]\n",
      "MAP_stitch_point_on_end_or_branch = False\n",
      "Using max stitch distance (300) for smoothing because stitch_distance greater (806.7891764242067) \n",
      "Found winning edge: [786, 787.0]\n",
      "in remove edge\n"
     ]
    },
    {
     "data": {
      "application/vnd.jupyter.widget-view+json": {
       "model_id": "5e235edabe1a4ee38991e222616aff22",
       "version_major": 2,
       "version_minor": 0
      },
      "text/plain": [
       "HBox(children=(FloatProgress(value=1.0, bar_style='info', max=1.0), HTML(value='')))"
      ]
     },
     "metadata": {},
     "output_type": "display_data"
    },
    {
     "name": "stderr",
     "output_type": "stream",
     "text": [
      "/meshAfterParty/trimesh_utils.py:331: VisibleDeprecationWarning: Creating an ndarray from ragged nested sequences (which is a list-or-tuple of lists-or-tuples-or ndarrays with different lengths or shapes) is deprecated. If you meant to do this, you must specify 'dtype=object' when creating the ndarray\n",
      "  ordered_comp_indices = np.array([k.astype(\"int\") for k in ordered_components])\n"
     ]
    },
    {
     "name": "stdout",
     "output_type": "stream",
     "text": [
      "\n",
      "\n",
      "\n",
      "--- Working on 1-to-1 correspondence-----\n",
      "max(original_labels),len(original_labels) = (1, 2)\n",
      "empty_indices % = 0.08463772221828741\n",
      " conflict_indices % = 0.0031163680147319214\n"
     ]
    },
    {
     "data": {
      "application/vnd.jupyter.widget-view+json": {
       "model_id": "125b7da8bdaf49748185313e6f9a843a",
       "version_major": 2,
       "version_minor": 0
      },
      "text/plain": [
       "HBox(children=(FloatProgress(value=0.0, max=15.0), HTML(value='')))"
      ]
     },
     "metadata": {},
     "output_type": "display_data"
    },
    {
     "name": "stdout",
     "output_type": "stream",
     "text": [
      "\n",
      "AFTER face_lookup_resolved_test\n"
     ]
    },
    {
     "data": {
      "application/vnd.jupyter.widget-view+json": {
       "model_id": "98ee5cb64fdc4cb7aa36068c57943e50",
       "version_major": 2,
       "version_minor": 0
      },
      "text/plain": [
       "HBox(children=(FloatProgress(value=0.0, max=2.0), HTML(value='')))"
      ]
     },
     "metadata": {},
     "output_type": "display_data"
    },
    {
     "name": "stdout",
     "output_type": "stream",
     "text": [
      "\n"
     ]
    },
    {
     "data": {
      "application/vnd.jupyter.widget-view+json": {
       "model_id": "4b5212a9dde948a080924c9ed857ca4d",
       "version_major": 2,
       "version_minor": 0
      },
      "text/plain": [
       "HBox(children=(FloatProgress(value=1.0, bar_style='info', max=1.0), HTML(value='')))"
      ]
     },
     "metadata": {},
     "output_type": "display_data"
    },
    {
     "name": "stdout",
     "output_type": "stream",
     "text": [
      "\n",
      "\n",
      "\n",
      "--- Working on 1-to-1 correspondence-----\n",
      "max(original_labels),len(original_labels) = (2, 3)\n",
      "empty_indices % = 0.07375596864770714\n",
      " conflict_indices % = 0.015225682452926515\n"
     ]
    },
    {
     "data": {
      "application/vnd.jupyter.widget-view+json": {
       "model_id": "fce478611a9a4035be7c0cc1b6216c3b",
       "version_major": 2,
       "version_minor": 0
      },
      "text/plain": [
       "HBox(children=(FloatProgress(value=0.0, max=13.0), HTML(value='')))"
      ]
     },
     "metadata": {},
     "output_type": "display_data"
    },
    {
     "name": "stdout",
     "output_type": "stream",
     "text": [
      "\n",
      "AFTER face_lookup_resolved_test\n"
     ]
    },
    {
     "data": {
      "application/vnd.jupyter.widget-view+json": {
       "model_id": "03151ff1346047ee83b24cafa4dba3b2",
       "version_major": 2,
       "version_minor": 0
      },
      "text/plain": [
       "HBox(children=(FloatProgress(value=0.0, max=3.0), HTML(value='')))"
      ]
     },
     "metadata": {},
     "output_type": "display_data"
    },
    {
     "name": "stdout",
     "output_type": "stream",
     "text": [
      "\n",
      "Deleting branches from dictionary\n",
      "MP_branches_with_stitch_point= [0]\n",
      "MP_branches_for_correspondence = [0]\n",
      "MP_leftover = [], MP_leftover_idx = []\n",
      " Finished with (7, 0) \n",
      "\n",
      "\n",
      "\n",
      "\n",
      "---- Working on (8, 0) connection-----\n",
      "Current stitch point was not a branch or endpoint, shortest_path_length to one = 20276.968000470657\n",
      "sk_conn = [0]\n",
      "conn = [0]\n"
     ]
    },
    {
     "name": "stderr",
     "output_type": "stream",
     "text": [
      "/meshAfterParty/preprocessing_vp2.py:1588: VisibleDeprecationWarning: Creating an ndarray from ragged nested sequences (which is a list-or-tuple of lists-or-tuples-or ndarrays with different lengths or shapes) is deprecated. If you meant to do this, you must specify 'dtype=object' when creating the ndarray\n",
      "  for k in o_keys])\n"
     ]
    },
    {
     "name": "stdout",
     "output_type": "stream",
     "text": [
      "winning_vertex = [676545.47673944 395756.23753063 793044.38219521]\n",
      "MP_branches_with_stitch_point = [0]\n",
      "MAP_branches_with_stitch_point = [15]\n",
      "MAP_stitch_point_on_end_or_branch = False\n",
      "Using max stitch distance (300) for smoothing because stitch_distance greater (388.76129625526335) \n",
      "Found winning edge: [9, 10.0]\n",
      "in remove edge\n"
     ]
    },
    {
     "data": {
      "application/vnd.jupyter.widget-view+json": {
       "model_id": "bb90d7c1f5b84a9697224ff21979e1bb",
       "version_major": 2,
       "version_minor": 0
      },
      "text/plain": [
       "HBox(children=(FloatProgress(value=1.0, bar_style='info', max=1.0), HTML(value='')))"
      ]
     },
     "metadata": {},
     "output_type": "display_data"
    },
    {
     "name": "stderr",
     "output_type": "stream",
     "text": [
      "/meshAfterParty/trimesh_utils.py:331: VisibleDeprecationWarning: Creating an ndarray from ragged nested sequences (which is a list-or-tuple of lists-or-tuples-or ndarrays with different lengths or shapes) is deprecated. If you meant to do this, you must specify 'dtype=object' when creating the ndarray\n",
      "  ordered_comp_indices = np.array([k.astype(\"int\") for k in ordered_components])\n"
     ]
    },
    {
     "name": "stdout",
     "output_type": "stream",
     "text": [
      "\n",
      "\n",
      "\n",
      "--- Working on 1-to-1 correspondence-----\n",
      "max(original_labels),len(original_labels) = (1, 2)\n",
      "empty_indices % = 0.07954214763798623\n",
      " conflict_indices % = 0.0030070811911921624\n"
     ]
    },
    {
     "data": {
      "application/vnd.jupyter.widget-view+json": {
       "model_id": "8fa141941f994e76a7ed88eca3d110f8",
       "version_major": 2,
       "version_minor": 0
      },
      "text/plain": [
       "HBox(children=(FloatProgress(value=0.0, max=7.0), HTML(value='')))"
      ]
     },
     "metadata": {},
     "output_type": "display_data"
    },
    {
     "name": "stdout",
     "output_type": "stream",
     "text": [
      "\n",
      "AFTER face_lookup_resolved_test\n"
     ]
    },
    {
     "data": {
      "application/vnd.jupyter.widget-view+json": {
       "model_id": "0030f9ec35094324a8723308363ee0f8",
       "version_major": 2,
       "version_minor": 0
      },
      "text/plain": [
       "HBox(children=(FloatProgress(value=0.0, max=2.0), HTML(value='')))"
      ]
     },
     "metadata": {},
     "output_type": "display_data"
    },
    {
     "name": "stdout",
     "output_type": "stream",
     "text": [
      "\n"
     ]
    },
    {
     "data": {
      "application/vnd.jupyter.widget-view+json": {
       "model_id": "7ca094660bda40288dfcc5c1ef64b454",
       "version_major": 2,
       "version_minor": 0
      },
      "text/plain": [
       "HBox(children=(FloatProgress(value=1.0, bar_style='info', max=1.0), HTML(value='')))"
      ]
     },
     "metadata": {},
     "output_type": "display_data"
    },
    {
     "name": "stdout",
     "output_type": "stream",
     "text": [
      "\n",
      "\n",
      "\n",
      "--- Working on 1-to-1 correspondence-----\n",
      "max(original_labels),len(original_labels) = (2, 3)\n",
      "empty_indices % = 0.06646212155394125\n",
      " conflict_indices % = 0.014618959527139827\n"
     ]
    },
    {
     "data": {
      "application/vnd.jupyter.widget-view+json": {
       "model_id": "beda9abda6764fc8be8c4a7912591b27",
       "version_major": 2,
       "version_minor": 0
      },
      "text/plain": [
       "HBox(children=(FloatProgress(value=0.0, max=6.0), HTML(value='')))"
      ]
     },
     "metadata": {},
     "output_type": "display_data"
    },
    {
     "name": "stdout",
     "output_type": "stream",
     "text": [
      "\n",
      "AFTER face_lookup_resolved_test\n"
     ]
    },
    {
     "data": {
      "application/vnd.jupyter.widget-view+json": {
       "model_id": "64752deb730c4d5ebe7ec8e1a478990e",
       "version_major": 2,
       "version_minor": 0
      },
      "text/plain": [
       "HBox(children=(FloatProgress(value=0.0, max=3.0), HTML(value='')))"
      ]
     },
     "metadata": {},
     "output_type": "display_data"
    },
    {
     "name": "stdout",
     "output_type": "stream",
     "text": [
      "\n",
      "Deleting branches from dictionary\n",
      "MP_branches_with_stitch_point= [0]\n",
      "MP_branches_for_correspondence = [0]\n",
      "MP_leftover = [], MP_leftover_idx = []\n",
      " Finished with (8, 0) \n",
      "\n",
      "\n",
      "\n",
      "\n",
      "---- Working on (9, 0) connection-----\n",
      "Current stitch point was not a branch or endpoint, shortest_path_length to one = 5974.426318431442\n",
      "sk_conn = [0]\n",
      "conn = [0]\n",
      "winning_vertex = [658877.25174045 429816.60814028 718096.62848059]\n",
      "MP_branches_with_stitch_point = [0]\n",
      "MAP_branches_with_stitch_point = [9]\n",
      "MAP_stitch_point_on_end_or_branch = False\n"
     ]
    },
    {
     "name": "stderr",
     "output_type": "stream",
     "text": [
      "/meshAfterParty/preprocessing_vp2.py:1588: VisibleDeprecationWarning: Creating an ndarray from ragged nested sequences (which is a list-or-tuple of lists-or-tuples-or ndarrays with different lengths or shapes) is deprecated. If you meant to do this, you must specify 'dtype=object' when creating the ndarray\n",
      "  for k in o_keys])\n"
     ]
    },
    {
     "name": "stdout",
     "output_type": "stream",
     "text": [
      "Using max stitch distance (300) for smoothing because stitch_distance greater (399.4763724537609) \n",
      "Found winning edge: [218, 220.0]\n",
      "in remove edge\n"
     ]
    },
    {
     "data": {
      "application/vnd.jupyter.widget-view+json": {
       "model_id": "f53621a0dd1b439b92c19f229fe0e106",
       "version_major": 2,
       "version_minor": 0
      },
      "text/plain": [
       "HBox(children=(FloatProgress(value=1.0, bar_style='info', max=1.0), HTML(value='')))"
      ]
     },
     "metadata": {},
     "output_type": "display_data"
    },
    {
     "name": "stderr",
     "output_type": "stream",
     "text": [
      "/meshAfterParty/trimesh_utils.py:331: VisibleDeprecationWarning: Creating an ndarray from ragged nested sequences (which is a list-or-tuple of lists-or-tuples-or ndarrays with different lengths or shapes) is deprecated. If you meant to do this, you must specify 'dtype=object' when creating the ndarray\n",
      "  ordered_comp_indices = np.array([k.astype(\"int\") for k in ordered_components])\n"
     ]
    },
    {
     "name": "stdout",
     "output_type": "stream",
     "text": [
      "\n",
      "\n",
      "\n",
      "--- Working on 1-to-1 correspondence-----\n",
      "max(original_labels),len(original_labels) = (1, 2)\n",
      "empty_indices % = 0.03945957538065623\n",
      " conflict_indices % = 0.004503538494531417\n"
     ]
    },
    {
     "data": {
      "application/vnd.jupyter.widget-view+json": {
       "model_id": "fb403d2432914a829c2b38e49b969159",
       "version_major": 2,
       "version_minor": 0
      },
      "text/plain": [
       "HBox(children=(FloatProgress(value=0.0, max=6.0), HTML(value='')))"
      ]
     },
     "metadata": {},
     "output_type": "display_data"
    },
    {
     "name": "stdout",
     "output_type": "stream",
     "text": [
      "\n",
      "AFTER face_lookup_resolved_test\n"
     ]
    },
    {
     "data": {
      "application/vnd.jupyter.widget-view+json": {
       "model_id": "969511e4ee144fd2b1b34d4dfe300cb8",
       "version_major": 2,
       "version_minor": 0
      },
      "text/plain": [
       "HBox(children=(FloatProgress(value=0.0, max=2.0), HTML(value='')))"
      ]
     },
     "metadata": {},
     "output_type": "display_data"
    },
    {
     "name": "stdout",
     "output_type": "stream",
     "text": [
      "\n"
     ]
    },
    {
     "data": {
      "application/vnd.jupyter.widget-view+json": {
       "model_id": "1738422d93a94014909a4982c473940b",
       "version_major": 2,
       "version_minor": 0
      },
      "text/plain": [
       "HBox(children=(FloatProgress(value=1.0, bar_style='info', max=1.0), HTML(value='')))"
      ]
     },
     "metadata": {},
     "output_type": "display_data"
    },
    {
     "name": "stdout",
     "output_type": "stream",
     "text": [
      "\n",
      "\n",
      "\n",
      "--- Working on 1-to-1 correspondence-----\n",
      "max(original_labels),len(original_labels) = (2, 3)\n",
      "empty_indices % = 0.20879633227134975\n",
      " conflict_indices % = 0.029761442225503146\n"
     ]
    },
    {
     "data": {
      "application/vnd.jupyter.widget-view+json": {
       "model_id": "9ae0d4bb8a8f46b5b8159c7dd06def4c",
       "version_major": 2,
       "version_minor": 0
      },
      "text/plain": [
       "HBox(children=(FloatProgress(value=0.0, max=4.0), HTML(value='')))"
      ]
     },
     "metadata": {},
     "output_type": "display_data"
    },
    {
     "name": "stdout",
     "output_type": "stream",
     "text": [
      "\n",
      "AFTER face_lookup_resolved_test\n"
     ]
    },
    {
     "data": {
      "application/vnd.jupyter.widget-view+json": {
       "model_id": "0438295336624575bf148ac87c9fbbc5",
       "version_major": 2,
       "version_minor": 0
      },
      "text/plain": [
       "HBox(children=(FloatProgress(value=0.0, max=3.0), HTML(value='')))"
      ]
     },
     "metadata": {},
     "output_type": "display_data"
    },
    {
     "name": "stdout",
     "output_type": "stream",
     "text": [
      "\n",
      "Deleting branches from dictionary\n",
      "MP_branches_with_stitch_point= [0]\n",
      "MP_branches_for_correspondence = [0]\n",
      "MP_leftover = [], MP_leftover_idx = []\n",
      " Finished with (9, 0) \n",
      "\n",
      "\n",
      "\n",
      "\n",
      "---- Working on (3, 1) connection-----\n",
      "Current stitch point was not a branch or endpoint, shortest_path_length to one = 1028.2702438028111\n",
      "sk_conn = [0, 1]\n",
      "conn = [0, 1]\n",
      "winning_vertex = [620125.15386216 447746.99919431 703821.84700061]\n",
      "MP_branches_with_stitch_point = [0, 1]\n",
      "MAP_branches_with_stitch_point = [0]\n",
      "MAP_stitch_point_on_end_or_branch = False\n",
      "Using max stitch distance (300) for smoothing because stitch_distance greater (1635.1927084648205) \n"
     ]
    },
    {
     "name": "stderr",
     "output_type": "stream",
     "text": [
      "/meshAfterParty/preprocessing_vp2.py:1588: VisibleDeprecationWarning: Creating an ndarray from ragged nested sequences (which is a list-or-tuple of lists-or-tuples-or ndarrays with different lengths or shapes) is deprecated. If you meant to do this, you must specify 'dtype=object' when creating the ndarray\n",
      "  for k in o_keys])\n"
     ]
    },
    {
     "name": "stdout",
     "output_type": "stream",
     "text": [
      "Found winning edge: [881, 882.0]\n",
      "in remove edge\n",
      "Using max stitch distance (300) for smoothing because stitch_distance greater (1542.4207456991523) \n",
      "Found winning edge: [541, 542.0]\n",
      "in remove edge\n"
     ]
    },
    {
     "data": {
      "application/vnd.jupyter.widget-view+json": {
       "model_id": "e5223948404040639fd9d3aa800bed0a",
       "version_major": 2,
       "version_minor": 0
      },
      "text/plain": [
       "HBox(children=(FloatProgress(value=1.0, bar_style='info', max=1.0), HTML(value='')))"
      ]
     },
     "metadata": {},
     "output_type": "display_data"
    },
    {
     "name": "stderr",
     "output_type": "stream",
     "text": [
      "/meshAfterParty/trimesh_utils.py:331: VisibleDeprecationWarning: Creating an ndarray from ragged nested sequences (which is a list-or-tuple of lists-or-tuples-or ndarrays with different lengths or shapes) is deprecated. If you meant to do this, you must specify 'dtype=object' when creating the ndarray\n",
      "  ordered_comp_indices = np.array([k.astype(\"int\") for k in ordered_components])\n"
     ]
    },
    {
     "name": "stdout",
     "output_type": "stream",
     "text": [
      "\n",
      "\n",
      "\n",
      "--- Working on 1-to-1 correspondence-----\n",
      "max(original_labels),len(original_labels) = (1, 2)\n",
      "empty_indices % = 0.12628774422735348\n",
      " conflict_indices % = 0.024156305506216696\n"
     ]
    },
    {
     "data": {
      "application/vnd.jupyter.widget-view+json": {
       "model_id": "76e1f779a22d47ccbf0de51f6c6e986f",
       "version_major": 2,
       "version_minor": 0
      },
      "text/plain": [
       "HBox(children=(FloatProgress(value=0.0, max=6.0), HTML(value='')))"
      ]
     },
     "metadata": {},
     "output_type": "display_data"
    },
    {
     "name": "stdout",
     "output_type": "stream",
     "text": [
      "\n",
      "AFTER face_lookup_resolved_test\n"
     ]
    },
    {
     "data": {
      "application/vnd.jupyter.widget-view+json": {
       "model_id": "a7b071e20d9342d7a6f18b22b6407750",
       "version_major": 2,
       "version_minor": 0
      },
      "text/plain": [
       "HBox(children=(FloatProgress(value=0.0, max=2.0), HTML(value='')))"
      ]
     },
     "metadata": {},
     "output_type": "display_data"
    },
    {
     "name": "stdout",
     "output_type": "stream",
     "text": [
      "\n"
     ]
    },
    {
     "data": {
      "application/vnd.jupyter.widget-view+json": {
       "model_id": "9f64f8b0a62641dabcebd93c50f56e99",
       "version_major": 2,
       "version_minor": 0
      },
      "text/plain": [
       "HBox(children=(FloatProgress(value=1.0, bar_style='info', max=1.0), HTML(value='')))"
      ]
     },
     "metadata": {},
     "output_type": "display_data"
    },
    {
     "name": "stdout",
     "output_type": "stream",
     "text": [
      "\n",
      "\n",
      "\n",
      "--- Working on 1-to-1 correspondence-----\n",
      "max(original_labels),len(original_labels) = (3, 4)\n",
      "empty_indices % = 0.08716172947845267\n",
      " conflict_indices % = 0.017337475986054122\n"
     ]
    },
    {
     "data": {
      "application/vnd.jupyter.widget-view+json": {
       "model_id": "87ab9632827347f98fd681a2e9508a5a",
       "version_major": 2,
       "version_minor": 0
      },
      "text/plain": [
       "HBox(children=(FloatProgress(value=0.0, max=30.0), HTML(value='')))"
      ]
     },
     "metadata": {},
     "output_type": "display_data"
    },
    {
     "name": "stdout",
     "output_type": "stream",
     "text": [
      "\n",
      "AFTER face_lookup_resolved_test\n"
     ]
    },
    {
     "data": {
      "application/vnd.jupyter.widget-view+json": {
       "model_id": "fb1a9f8b440841f5ac4a1daf28252765",
       "version_major": 2,
       "version_minor": 0
      },
      "text/plain": [
       "HBox(children=(FloatProgress(value=0.0, max=4.0), HTML(value='')))"
      ]
     },
     "metadata": {},
     "output_type": "display_data"
    },
    {
     "name": "stdout",
     "output_type": "stream",
     "text": [
      "\n",
      "Deleting branches from dictionary\n",
      "MP_branches_with_stitch_point= [0, 1]\n",
      "MP_branches_for_correspondence = [0 1]\n",
      "MP_leftover = [], MP_leftover_idx = []\n",
      " Finished with (3, 1) \n",
      "\n",
      "\n",
      "\n",
      "\n",
      "---- Working on (4, 1) connection-----\n",
      "Current stitch point was not a branch or endpoint, shortest_path_length to one = 9672.173885719754\n",
      "sk_conn = [0]\n",
      "conn = [0]\n",
      "winning_vertex = [648385.32526021 450615.68145619 700860.5136134 ]\n",
      "MP_branches_with_stitch_point = [0]\n",
      "MAP_branches_with_stitch_point = [2]\n",
      "MAP_stitch_point_on_end_or_branch = False\n",
      "Using max stitch distance (300) for smoothing because stitch_distance greater (1035.0261025263674) \n"
     ]
    },
    {
     "name": "stderr",
     "output_type": "stream",
     "text": [
      "/meshAfterParty/preprocessing_vp2.py:1588: VisibleDeprecationWarning: Creating an ndarray from ragged nested sequences (which is a list-or-tuple of lists-or-tuples-or ndarrays with different lengths or shapes) is deprecated. If you meant to do this, you must specify 'dtype=object' when creating the ndarray\n",
      "  for k in o_keys])\n"
     ]
    },
    {
     "name": "stdout",
     "output_type": "stream",
     "text": [
      "Found winning edge: [9, 10.0]\n",
      "in remove edge\n"
     ]
    },
    {
     "data": {
      "application/vnd.jupyter.widget-view+json": {
       "model_id": "58588655dcd54278a1109782b849e56f",
       "version_major": 2,
       "version_minor": 0
      },
      "text/plain": [
       "HBox(children=(FloatProgress(value=1.0, bar_style='info', max=1.0), HTML(value='')))"
      ]
     },
     "metadata": {},
     "output_type": "display_data"
    },
    {
     "name": "stderr",
     "output_type": "stream",
     "text": [
      "/meshAfterParty/trimesh_utils.py:331: VisibleDeprecationWarning: Creating an ndarray from ragged nested sequences (which is a list-or-tuple of lists-or-tuples-or ndarrays with different lengths or shapes) is deprecated. If you meant to do this, you must specify 'dtype=object' when creating the ndarray\n",
      "  ordered_comp_indices = np.array([k.astype(\"int\") for k in ordered_components])\n"
     ]
    },
    {
     "name": "stdout",
     "output_type": "stream",
     "text": [
      "\n",
      "\n",
      "\n",
      "--- Working on 1-to-1 correspondence-----\n",
      "max(original_labels),len(original_labels) = (1, 2)\n",
      "empty_indices % = 0.07238047642845244\n",
      " conflict_indices % = 0.002332167249708479\n"
     ]
    },
    {
     "data": {
      "application/vnd.jupyter.widget-view+json": {
       "model_id": "48fd087c518b441ebd8cde08aa5275da",
       "version_major": 2,
       "version_minor": 0
      },
      "text/plain": [
       "HBox(children=(FloatProgress(value=0.0, max=11.0), HTML(value='')))"
      ]
     },
     "metadata": {},
     "output_type": "display_data"
    },
    {
     "name": "stdout",
     "output_type": "stream",
     "text": [
      "\n",
      "AFTER face_lookup_resolved_test\n"
     ]
    },
    {
     "data": {
      "application/vnd.jupyter.widget-view+json": {
       "model_id": "cf951b6bb37249219fc0ad97eb1aa15b",
       "version_major": 2,
       "version_minor": 0
      },
      "text/plain": [
       "HBox(children=(FloatProgress(value=0.0, max=2.0), HTML(value='')))"
      ]
     },
     "metadata": {},
     "output_type": "display_data"
    },
    {
     "name": "stdout",
     "output_type": "stream",
     "text": [
      "\n"
     ]
    },
    {
     "data": {
      "application/vnd.jupyter.widget-view+json": {
       "model_id": "3804b52c3cfa4e08950b4eb7116369c3",
       "version_major": 2,
       "version_minor": 0
      },
      "text/plain": [
       "HBox(children=(FloatProgress(value=1.0, bar_style='info', max=1.0), HTML(value='')))"
      ]
     },
     "metadata": {},
     "output_type": "display_data"
    },
    {
     "name": "stdout",
     "output_type": "stream",
     "text": [
      "\n",
      "\n",
      "\n",
      "--- Working on 1-to-1 correspondence-----\n",
      "max(original_labels),len(original_labels) = (2, 3)\n",
      "empty_indices % = 0.08403991008400047\n",
      " conflict_indices % = 0.013605710454706788\n"
     ]
    },
    {
     "data": {
      "application/vnd.jupyter.widget-view+json": {
       "model_id": "8c8e16b07bb24b66b8a2e3c4fde54453",
       "version_major": 2,
       "version_minor": 0
      },
      "text/plain": [
       "HBox(children=(FloatProgress(value=0.0, max=10.0), HTML(value='')))"
      ]
     },
     "metadata": {},
     "output_type": "display_data"
    },
    {
     "name": "stdout",
     "output_type": "stream",
     "text": [
      "\n",
      "AFTER face_lookup_resolved_test\n"
     ]
    },
    {
     "data": {
      "application/vnd.jupyter.widget-view+json": {
       "model_id": "0a0d11f20fa04e68bc841cb85d0f9405",
       "version_major": 2,
       "version_minor": 0
      },
      "text/plain": [
       "HBox(children=(FloatProgress(value=0.0, max=3.0), HTML(value='')))"
      ]
     },
     "metadata": {},
     "output_type": "display_data"
    },
    {
     "name": "stdout",
     "output_type": "stream",
     "text": [
      "\n",
      "Deleting branches from dictionary\n",
      "MP_branches_with_stitch_point= [0]\n",
      "MP_branches_for_correspondence = [0]\n",
      "MP_leftover = [], MP_leftover_idx = []\n",
      " Finished with (4, 1) \n",
      "\n",
      "\n",
      "\n",
      "\n",
      "---- Working on (10, 1) connection-----\n",
      "Current stitch point was a branch or endpoint\n",
      "sk_conn = [1, 3]\n",
      "conn = [1, 3]\n",
      "winning_vertex = [655620.09516215 480838.03063884 676732.16637217]\n",
      "MP_branches_with_stitch_point = [1, 3]\n",
      "MAP_branches_with_stitch_point = [4]\n",
      "MAP_stitch_point_on_end_or_branch = True\n",
      "Using max stitch distance (300) for smoothing because stitch_distance greater (577.2834906707488) \n",
      "Found winning edge: [170, 171.0]\n",
      "in remove edge\n"
     ]
    },
    {
     "name": "stderr",
     "output_type": "stream",
     "text": [
      "/meshAfterParty/preprocessing_vp2.py:1588: VisibleDeprecationWarning: Creating an ndarray from ragged nested sequences (which is a list-or-tuple of lists-or-tuples-or ndarrays with different lengths or shapes) is deprecated. If you meant to do this, you must specify 'dtype=object' when creating the ndarray\n",
      "  for k in o_keys])\n"
     ]
    },
    {
     "name": "stdout",
     "output_type": "stream",
     "text": [
      "Using max stitch distance (300) for smoothing because stitch_distance greater (666.3628780436933) \n",
      "Found winning edge: [9, 10.0]\n",
      "in remove edge\n"
     ]
    },
    {
     "data": {
      "application/vnd.jupyter.widget-view+json": {
       "model_id": "9ab060f7c09f45f9a90bef91188011e0",
       "version_major": 2,
       "version_minor": 0
      },
      "text/plain": [
       "HBox(children=(FloatProgress(value=1.0, bar_style='info', max=1.0), HTML(value='')))"
      ]
     },
     "metadata": {},
     "output_type": "display_data"
    },
    {
     "name": "stderr",
     "output_type": "stream",
     "text": [
      "/meshAfterParty/trimesh_utils.py:331: VisibleDeprecationWarning: Creating an ndarray from ragged nested sequences (which is a list-or-tuple of lists-or-tuples-or ndarrays with different lengths or shapes) is deprecated. If you meant to do this, you must specify 'dtype=object' when creating the ndarray\n",
      "  ordered_comp_indices = np.array([k.astype(\"int\") for k in ordered_components])\n"
     ]
    },
    {
     "name": "stdout",
     "output_type": "stream",
     "text": [
      "\n",
      "\n",
      "\n",
      "--- Working on 1-to-1 correspondence-----\n",
      "max(original_labels),len(original_labels) = (2, 3)\n",
      "empty_indices % = 0.07647035431661829\n",
      " conflict_indices % = 0.023819938760090666\n"
     ]
    },
    {
     "data": {
      "application/vnd.jupyter.widget-view+json": {
       "model_id": "863f8eda8849410db6bf0e10bc465a40",
       "version_major": 2,
       "version_minor": 0
      },
      "text/plain": [
       "HBox(children=(FloatProgress(value=0.0, max=12.0), HTML(value='')))"
      ]
     },
     "metadata": {},
     "output_type": "display_data"
    },
    {
     "name": "stdout",
     "output_type": "stream",
     "text": [
      "\n",
      "AFTER face_lookup_resolved_test\n"
     ]
    },
    {
     "data": {
      "application/vnd.jupyter.widget-view+json": {
       "model_id": "73ca95ebea674c86b89731c8d0fcfdcf",
       "version_major": 2,
       "version_minor": 0
      },
      "text/plain": [
       "HBox(children=(FloatProgress(value=0.0, max=3.0), HTML(value='')))"
      ]
     },
     "metadata": {},
     "output_type": "display_data"
    },
    {
     "name": "stdout",
     "output_type": "stream",
     "text": [
      "\n",
      "MP_branches_with_stitch_point= [1, 3]\n",
      "MP_branches_for_correspondence = [1 3]\n",
      "MP_leftover = [], MP_leftover_idx = []\n",
      " Finished with (10, 1) \n",
      "\n",
      "\n",
      "\n",
      "\n",
      "---- Working on (2, 2) connection-----\n",
      "Current stitch point was a branch or endpoint\n",
      "sk_conn = [0, 1]\n",
      "conn = [0, 1]\n",
      "winning_vertex = [674430.85595742 382219.48233397 808437.6858034 ]\n",
      "MP_branches_with_stitch_point = [0, 1]\n",
      "MAP_branches_with_stitch_point = [2]\n",
      "MAP_stitch_point_on_end_or_branch = True\n",
      "Using max stitch distance (300) for smoothing because stitch_distance greater (1324.9456913965225) \n",
      "Found winning edge: [9, 10.0]\n",
      "in remove edge\n"
     ]
    },
    {
     "name": "stderr",
     "output_type": "stream",
     "text": [
      "/meshAfterParty/preprocessing_vp2.py:1588: VisibleDeprecationWarning: Creating an ndarray from ragged nested sequences (which is a list-or-tuple of lists-or-tuples-or ndarrays with different lengths or shapes) is deprecated. If you meant to do this, you must specify 'dtype=object' when creating the ndarray\n",
      "  for k in o_keys])\n"
     ]
    },
    {
     "name": "stdout",
     "output_type": "stream",
     "text": [
      "Using max stitch distance (300) for smoothing because stitch_distance greater (1388.5773014684626) \n",
      "Found winning edge: [97, 98.0]\n",
      "in remove edge\n"
     ]
    },
    {
     "data": {
      "application/vnd.jupyter.widget-view+json": {
       "model_id": "f6f92e05d4974e7fb555d0383bfaca35",
       "version_major": 2,
       "version_minor": 0
      },
      "text/plain": [
       "HBox(children=(FloatProgress(value=1.0, bar_style='info', max=1.0), HTML(value='')))"
      ]
     },
     "metadata": {},
     "output_type": "display_data"
    },
    {
     "name": "stderr",
     "output_type": "stream",
     "text": [
      "/meshAfterParty/trimesh_utils.py:331: VisibleDeprecationWarning: Creating an ndarray from ragged nested sequences (which is a list-or-tuple of lists-or-tuples-or ndarrays with different lengths or shapes) is deprecated. If you meant to do this, you must specify 'dtype=object' when creating the ndarray\n",
      "  ordered_comp_indices = np.array([k.astype(\"int\") for k in ordered_components])\n"
     ]
    },
    {
     "name": "stdout",
     "output_type": "stream",
     "text": [
      "\n",
      "\n",
      "\n",
      "--- Working on 1-to-1 correspondence-----\n",
      "max(original_labels),len(original_labels) = (2, 3)\n",
      "empty_indices % = 0.05141992942362628\n",
      " conflict_indices % = 0.009074105192404638\n"
     ]
    },
    {
     "data": {
      "application/vnd.jupyter.widget-view+json": {
       "model_id": "a0220911ad9e4bc48ec91473d0cf620b",
       "version_major": 2,
       "version_minor": 0
      },
      "text/plain": [
       "HBox(children=(FloatProgress(value=0.0, max=3.0), HTML(value='')))"
      ]
     },
     "metadata": {},
     "output_type": "display_data"
    },
    {
     "name": "stdout",
     "output_type": "stream",
     "text": [
      "\n",
      "AFTER face_lookup_resolved_test\n"
     ]
    },
    {
     "data": {
      "application/vnd.jupyter.widget-view+json": {
       "model_id": "00a8fc5456a24f7d802897b76c2ef2e7",
       "version_major": 2,
       "version_minor": 0
      },
      "text/plain": [
       "HBox(children=(FloatProgress(value=0.0, max=3.0), HTML(value='')))"
      ]
     },
     "metadata": {},
     "output_type": "display_data"
    },
    {
     "name": "stdout",
     "output_type": "stream",
     "text": [
      "\n",
      "MP_branches_with_stitch_point= [0, 1]\n",
      "MP_branches_for_correspondence = [0 1]\n",
      "MP_leftover = [], MP_leftover_idx = []\n",
      " Finished with (2, 2) \n",
      "\n",
      "\n",
      "\n",
      "Time for decomp of Limb = 190.9101095199585\n",
      "\n",
      "\n",
      "----- Working on Proper Limb # 1 ---------\n",
      "meshparty_segment_size = 100\n",
      "Time for preparing soma vertices and root: 9.775161743164062e-06\n",
      "cc_vertex_thresh = 10\n"
     ]
    },
    {
     "name": "stderr",
     "output_type": "stream",
     "text": [
      "\r",
      "  0%|          | 0/1 [00:00<?, ?it/s]"
     ]
    },
    {
     "data": {
      "application/vnd.jupyter.widget-view+json": {
       "model_id": "6d4dd60311594313bb8ed767535c608c",
       "version_major": 2,
       "version_minor": 0
      },
      "text/plain": [
       "HBox(children=(FloatProgress(value=0.0, max=144236.0), HTML(value='')))"
      ]
     },
     "metadata": {},
     "output_type": "display_data"
    },
    {
     "name": "stderr",
     "output_type": "stream",
     "text": [
      "100%|██████████| 1/1 [00:02<00:00,  2.93s/it]"
     ]
    },
    {
     "name": "stdout",
     "output_type": "stream",
     "text": [
      "\n"
     ]
    },
    {
     "name": "stderr",
     "output_type": "stream",
     "text": [
      "\n"
     ]
    },
    {
     "name": "stdout",
     "output_type": "stream",
     "text": [
      "Time for 1st pass MP skeletonization: 4.323913812637329\n",
      "branches_touching_root = [5]\n"
     ]
    },
    {
     "name": "stderr",
     "output_type": "stream",
     "text": [
      "/meshAfterParty/meshparty_skeletonize.py:895: VisibleDeprecationWarning: Creating an ndarray from ragged nested sequences (which is a list-or-tuple of lists-or-tuples-or ndarrays with different lengths or shapes) is deprecated. If you meant to do this, you must specify 'dtype=object' when creating the ndarray\n",
      "  segment_branches = np.array([sk_meshparty_obj.vertices[np.vstack([k[:-1],k[1:]]).T] for k in segments])\n",
      "/meshAfterParty/meshparty_skeletonize.py:965: VisibleDeprecationWarning: Creating an ndarray from ragged nested sequences (which is a list-or-tuple of lists-or-tuples-or ndarrays with different lengths or shapes) is deprecated. If you meant to do this, you must specify 'dtype=object' when creating the ndarray\n",
      "  segment_branches = np.array(new_segment_branches)\n"
     ]
    },
    {
     "name": "stdout",
     "output_type": "stream",
     "text": [
      "length of Graph = 13362\n",
      "Working on path [5316. 5328. 5340. 5350. 5358.]\n",
      "path_degrees = [3, 2, 2, 2, 3]\n",
      "Working on path [6357. 6361. 6364. 6377. 6380.]\n",
      "path_degrees = [3, 2, 2, 2, 3]\n"
     ]
    },
    {
     "name": "stderr",
     "output_type": "stream",
     "text": [
      "/meshAfterParty/meshparty_skeletonize.py:990: VisibleDeprecationWarning: Creating an ndarray from ragged nested sequences (which is a list-or-tuple of lists-or-tuples-or ndarrays with different lengths or shapes) is deprecated. If you meant to do this, you must specify 'dtype=object' when creating the ndarray\n",
      "  segment_branches_filtered = np.array(segment_branches_filtered)\n"
     ]
    },
    {
     "name": "stdout",
     "output_type": "stream",
     "text": [
      "max(kept_branches_idx) = 48, len(kept_branches_idx) = 47\n",
      "empty_indices % = 0.0\n",
      " conflict_indices % = 0.007851365998721547\n"
     ]
    },
    {
     "name": "stderr",
     "output_type": "stream",
     "text": [
      "/meshAfterParty/trimesh_utils.py:331: VisibleDeprecationWarning: Creating an ndarray from ragged nested sequences (which is a list-or-tuple of lists-or-tuples-or ndarrays with different lengths or shapes) is deprecated. If you meant to do this, you must specify 'dtype=object' when creating the ndarray\n",
      "  ordered_comp_indices = np.array([k.astype(\"int\") for k in ordered_components])\n"
     ]
    },
    {
     "data": {
      "application/vnd.jupyter.widget-view+json": {
       "model_id": "a6b4e0aba6e94240a7ac1877ec02f315",
       "version_major": 2,
       "version_minor": 0
      },
      "text/plain": [
       "HBox(children=(FloatProgress(value=0.0, max=24.0), HTML(value='')))"
      ]
     },
     "metadata": {},
     "output_type": "display_data"
    },
    {
     "name": "stdout",
     "output_type": "stream",
     "text": [
      "\n",
      "AFTER face_lookup_resolved_test\n"
     ]
    },
    {
     "data": {
      "application/vnd.jupyter.widget-view+json": {
       "model_id": "79e448867ad14ae4841a566099528229",
       "version_major": 2,
       "version_minor": 0
      },
      "text/plain": [
       "HBox(children=(FloatProgress(value=0.0, max=47.0), HTML(value='')))"
      ]
     },
     "metadata": {},
     "output_type": "display_data"
    },
    {
     "name": "stdout",
     "output_type": "stream",
     "text": [
      "\n",
      "Decomposing first pass: 10.161491394042969\n",
      "Attempting to use MeshAfterParty Skeletonization and Mesh Correspondence\n",
      "Another print\n",
      "Found len(mesh_large_idx) MAP candidates: [19107, 21464, 13638, 2419, 1653, 9728, 2525, 1065, 5853, 3731, 21695, 4661, 2144, 3465, 4878, 11796, 10286, 8658, 10605, 2494, 2167, 14146, 10591, 1016]\n"
     ]
    },
    {
     "name": "stderr",
     "output_type": "stream",
     "text": [
      "/meshAfterParty/trimesh_utils.py:996: VisibleDeprecationWarning: Creating an ndarray from ragged nested sequences (which is a list-or-tuple of lists-or-tuples-or ndarrays with different lengths or shapes) is deprecated. If you meant to do this, you must specify 'dtype=object' when creating the ndarray\n",
      "  total_submeshes_idx =np.array(list(total_submeshes_idx.values()))\n"
     ]
    },
    {
     "name": "stdout",
     "output_type": "stream",
     "text": [
      "mesh_large_connectivity: 1.0953261852264404\n",
      "Finding MAP candidates connected components: 0.0007507801055908203\n",
      "len(filtered_pieces) = 3\n",
      "skeleton_connectivity_MP : 0.3055238723754883\n",
      "Grouping MP Sublimbs by Graph: 0.06920623779296875\n",
      "Divinding into MP and MAP pieces: 9.5367431640625e-07\n",
      "--- Working on MAP piece 0---\n",
      "MAP Filtering Soma Pieces: 0.010140180587768555\n",
      "inside skeletonize_connected_branch and use_surface_after_CGAL=False, surface_reconstruction_size=1000\n",
      "     Starting Screened Poisson\n",
      "xvfb-run -n 7895 -s \"-screen 0 800x600x24\" meshlabserver $@  -i /notebooks/Platinum_Decomp_Fusion/temp/None.off -o /notebooks/Platinum_Decomp_Fusion/temp/None_poisson.off -s /notebooks/Platinum_Decomp_Fusion/temp/poisson_433194.mls\n",
      "removed temporary input file: /notebooks/Platinum_Decomp_Fusion/temp/None.off\n",
      "removed temporary output file: /notebooks/Platinum_Decomp_Fusion/temp/None_poisson.off\n",
      "Using the close holes feature\n",
      "xvfb-run -n 9251 -s \"-screen 0 800x600x24\" meshlabserver $@  -i /notebooks/Platinum_Decomp_Fusion/temp/neuron_59475.off -o /notebooks/Platinum_Decomp_Fusion/temp/neuron_59475_fill_holes.off -s /notebooks/Platinum_Decomp_Fusion/temp/fill_holes_820478.mls\n",
      "removed temporary input file: /notebooks/Platinum_Decomp_Fusion/temp/neuron_59475.off\n",
      "removed temporary output file: /notebooks/Platinum_Decomp_Fusion/temp/neuron_59475_fill_holes.off\n",
      "-----Time for Screened Poisson= 20.18149423599243\n",
      "     Starting Calcification\n"
     ]
    },
    {
     "data": {
      "application/vnd.jupyter.widget-view+json": {
       "model_id": "41fe1f7476df4d92a2c85701ec627514",
       "version_major": 2,
       "version_minor": 0
      },
      "text/plain": [
       "HBox(children=(FloatProgress(value=1.0, bar_style='info', max=1.0), HTML(value='')))"
      ]
     },
     "metadata": {},
     "output_type": "display_data"
    },
    {
     "name": "stdout",
     "output_type": "stream",
     "text": [
      "\n",
      "No skeletons to stack so returning empty list\n",
      "len_subgraphs AT BEGINNING of the loop\n"
     ]
    },
    {
     "data": {
      "application/vnd.jupyter.widget-view+json": {
       "model_id": "1ca3ce33fdf045b7bed6167af61732e1",
       "version_major": 2,
       "version_minor": 0
      },
      "text/plain": [
       "HBox(children=(FloatProgress(value=0.0, max=3.0), HTML(value='')))"
      ]
     },
     "metadata": {},
     "output_type": "display_data"
    },
    {
     "name": "stdout",
     "output_type": "stream",
     "text": [
      "all graph is one component!\n",
      "\n",
      "Total time for skeleton stitching = 0.06058502197265625\n",
      "The process was using a temp folder\n",
      "Checking connected components after skeletonize_connected_branch\n",
      "    Total time for skeletonizing branch: 26.00545358657837\n",
      "Checking connected components after removing cycles\n",
      "Total time for mesh KDTree = 0.6570675373077393\n",
      "sbv[0].reshape(-1,3) = [[582172.6 521760.4 713145.8]]\n",
      "closest_sk_pt_coord BEFORE = [581303. 520624. 713523.]\n",
      "current_skeleton.shape = (997, 2, 3)\n",
      "Current stitch point was a branch or endpoint\n",
      "change_status for create soma extending pieces = False\n",
      "closest_sk_pt_coord AFTER = [581303. 520624. 713523.]\n",
      "skipping soma 1 because closest skeleton node was already end node\n",
      "endpoints_must_keep = {1: array([[581303., 520624., 713523.]])}\n",
      "    Total time for Fixing Skeleton Soma Endpoint Extension : 0.9940497875213623\n",
      "filter_end_node_length = 1500\n",
      "Using Distance measure skeletal_distance\n",
      "endpoints_must_keep = [[581303. 520624. 713523.]]\n",
      "Number of end_nodes BEFORE filtering = 11\n",
      "all_single_nodes_to_eliminate = [6]\n"
     ]
    },
    {
     "data": {
      "application/vnd.jupyter.widget-view+json": {
       "model_id": "d09a33a53b3042aca4a02326e09e7e98",
       "version_major": 2,
       "version_minor": 0
      },
      "text/plain": [
       "HBox(children=(FloatProgress(value=0.0, max=4.0), HTML(value='')))"
      ]
     },
     "metadata": {},
     "output_type": "display_data"
    },
    {
     "name": "stdout",
     "output_type": "stream",
     "text": [
      "\n",
      "Checking connected components after clean_skeleton\n",
      "after DISTANCE cleaning limb size of skeleton = (993, 2, 3)\n",
      "********COMBINING CLOSE SKELETON NODES WITHIN 700 DISTANCE**********\n",
      "Found 0 valid paths to replace\n",
      "valid_paths = []\n",
      "valid_path_lengths = []\n",
      "No valid paths found so just returning the original\n",
      "skeletonize_and_clean_connected_branch_CGAL: 27.75798487663269\n",
      "Working on limb correspondence for #0 MAP piece\n"
     ]
    },
    {
     "data": {
      "application/vnd.jupyter.widget-view+json": {
       "model_id": "4b2932ad8ade4226b3c75831113b8998",
       "version_major": 2,
       "version_minor": 0
      },
      "text/plain": [
       "HBox(children=(FloatProgress(value=1.0, bar_style='info', max=1.0), HTML(value='')))"
      ]
     },
     "metadata": {},
     "output_type": "display_data"
    },
    {
     "name": "stdout",
     "output_type": "stream",
     "text": [
      "\n",
      "Total time for decomposition = 12.814914226531982\n",
      "mesh_correspondence_first_pass: 12.814946413040161\n",
      "Limb decomposed into 11 branches\n",
      "divided_skeleton_graph_recovered = (993, 2, 3) and \n",
      "current_mesh_data[0]['branch_skeletons_cleaned'].shape = (993, 2, 3)\n",
      "\n",
      "Number of connected components in deocmposed recovered graph = 1\n",
      "Number of connected components in cleaned skeleton graph= 1\n",
      "The downsampled branches number of connected components = 1\n",
      "Empty submeshes = []\n",
      "\n",
      "\n",
      "--- Working on 1-to-1 correspondence-----\n",
      "max(original_labels),len(original_labels) = (10, 11)\n",
      "empty_indices % = 0.017678841582018587\n",
      " conflict_indices % = 0.014966500972552409\n"
     ]
    },
    {
     "data": {
      "application/vnd.jupyter.widget-view+json": {
       "model_id": "45aad5ab1ccf4a1abc0c3482678ff07f",
       "version_major": 2,
       "version_minor": 0
      },
      "text/plain": [
       "HBox(children=(FloatProgress(value=0.0, max=15.0), HTML(value='')))"
      ]
     },
     "metadata": {},
     "output_type": "display_data"
    },
    {
     "name": "stdout",
     "output_type": "stream",
     "text": [
      "\n",
      "AFTER face_lookup_resolved_test\n",
      "Took 0 iterations to expand the label back\n",
      "empty_indices % = 0.0\n",
      " conflict_indices % = 0.0\n"
     ]
    },
    {
     "data": {
      "application/vnd.jupyter.widget-view+json": {
       "model_id": "485ea93f815141dc8f4981192dbc41cc",
       "version_major": 2,
       "version_minor": 0
      },
      "text/plain": [
       "HBox(children=(FloatProgress(value=1.0, bar_style='info', max=1.0), HTML(value='')))"
      ]
     },
     "metadata": {},
     "output_type": "display_data"
    },
    {
     "name": "stdout",
     "output_type": "stream",
     "text": [
      "\n",
      "AFTER face_lookup_resolved_test\n"
     ]
    },
    {
     "data": {
      "application/vnd.jupyter.widget-view+json": {
       "model_id": "30371c977a754f73bf9cc8e9f52bf7e3",
       "version_major": 2,
       "version_minor": 0
      },
      "text/plain": [
       "HBox(children=(FloatProgress(value=0.0, max=11.0), HTML(value='')))"
      ]
     },
     "metadata": {},
     "output_type": "display_data"
    },
    {
     "name": "stdout",
     "output_type": "stream",
     "text": [
      "\n",
      "Total time for MAP sublimb #0 mesh processing = 45.567469358444214\n",
      "correspondence_1_to_1: 4.984360218048096\n",
      "--- Working on MAP piece 1---\n",
      "MAP Filtering Soma Pieces: 0.012409687042236328\n",
      "inside skeletonize_connected_branch and use_surface_after_CGAL=False, surface_reconstruction_size=1000\n",
      "     Starting Screened Poisson\n",
      "xvfb-run -n 6430 -s \"-screen 0 800x600x24\" meshlabserver $@  -i /notebooks/Platinum_Decomp_Fusion/temp/None.off -o /notebooks/Platinum_Decomp_Fusion/temp/None_poisson.off -s /notebooks/Platinum_Decomp_Fusion/temp/poisson_185447.mls\n",
      "removed temporary input file: /notebooks/Platinum_Decomp_Fusion/temp/None.off\n",
      "removed temporary output file: /notebooks/Platinum_Decomp_Fusion/temp/None_poisson.off\n",
      "Using the close holes feature\n",
      "xvfb-run -n 7027 -s \"-screen 0 800x600x24\" meshlabserver $@  -i /notebooks/Platinum_Decomp_Fusion/temp/neuron_58522.off -o /notebooks/Platinum_Decomp_Fusion/temp/neuron_58522_fill_holes.off -s /notebooks/Platinum_Decomp_Fusion/temp/fill_holes_596365.mls\n",
      "removed temporary input file: /notebooks/Platinum_Decomp_Fusion/temp/neuron_58522.off\n",
      "removed temporary output file: /notebooks/Platinum_Decomp_Fusion/temp/neuron_58522_fill_holes.off\n",
      "-----Time for Screened Poisson= 28.761765241622925\n",
      "     Starting Calcification\n",
      "node_degrees = [2 2 4]\n",
      "node_degrees = [2 2 3]\n"
     ]
    },
    {
     "data": {
      "application/vnd.jupyter.widget-view+json": {
       "model_id": "a67bcd15e2cf436b9fcaa33178287dca",
       "version_major": 2,
       "version_minor": 0
      },
      "text/plain": [
       "HBox(children=(FloatProgress(value=1.0, bar_style='info', max=1.0), HTML(value='')))"
      ]
     },
     "metadata": {},
     "output_type": "display_data"
    },
    {
     "name": "stdout",
     "output_type": "stream",
     "text": [
      "\n",
      "No skeletons to stack so returning empty list\n",
      "len_subgraphs AT BEGINNING of the loop\n"
     ]
    },
    {
     "data": {
      "application/vnd.jupyter.widget-view+json": {
       "model_id": "d8e45da70f1d4f91b87c63d3513205cd",
       "version_major": 2,
       "version_minor": 0
      },
      "text/plain": [
       "HBox(children=(FloatProgress(value=0.0, max=1.0), HTML(value='')))"
      ]
     },
     "metadata": {},
     "output_type": "display_data"
    },
    {
     "name": "stdout",
     "output_type": "stream",
     "text": [
      "all graph is one component!\n",
      "\n",
      "Total time for skeleton stitching = 0.044686317443847656\n",
      "The process was using a temp folder\n",
      "Checking connected components after skeletonize_connected_branch\n",
      "    Total time for skeletonizing branch: 36.30003118515015\n",
      "Checking connected components after removing cycles\n",
      "Total time for mesh KDTree = 0.625382661819458\n",
      "sbv[0].reshape(-1,3) = [[651210. 428799. 697410.]]\n",
      "closest_sk_pt_coord BEFORE = [652304. 427496. 696589.]\n",
      "current_skeleton.shape = (756, 2, 3)\n",
      "Current stitch point was a branch or endpoint\n",
      "change_status for create soma extending pieces = False\n",
      "closest_sk_pt_coord AFTER = [652304. 427496. 696589.]\n",
      "skipping soma 0 because closest skeleton node was already end node\n",
      "endpoints_must_keep = {0: array([[652304., 427496., 696589.]])}\n",
      "    Total time for Fixing Skeleton Soma Endpoint Extension : 0.8834500312805176\n",
      "filter_end_node_length = 1500\n",
      "Using Distance measure skeletal_distance\n",
      "endpoints_must_keep = [[652304. 427496. 696589.]]\n",
      "Number of end_nodes BEFORE filtering = 24\n",
      "all_single_nodes_to_eliminate = [6]\n"
     ]
    },
    {
     "data": {
      "application/vnd.jupyter.widget-view+json": {
       "model_id": "a1b81a3f5a704b4ab91a36aa5acbd736",
       "version_major": 2,
       "version_minor": 0
      },
      "text/plain": [
       "HBox(children=(FloatProgress(value=0.0, max=17.0), HTML(value='')))"
      ]
     },
     "metadata": {},
     "output_type": "display_data"
    },
    {
     "name": "stdout",
     "output_type": "stream",
     "text": [
      "\n",
      "Checking connected components after clean_skeleton\n",
      "after DISTANCE cleaning limb size of skeleton = (724, 2, 3)\n",
      "********COMBINING CLOSE SKELETON NODES WITHIN 700 DISTANCE**********\n",
      "Found 0 valid paths to replace\n",
      "valid_paths = []\n",
      "valid_path_lengths = []\n",
      "No valid paths found so just returning the original\n",
      "skeletonize_and_clean_connected_branch_CGAL: 37.81898021697998\n",
      "Working on limb correspondence for #1 MAP piece\n"
     ]
    },
    {
     "data": {
      "application/vnd.jupyter.widget-view+json": {
       "model_id": "5802ee5421e5403ea2cd61597c253928",
       "version_major": 2,
       "version_minor": 0
      },
      "text/plain": [
       "HBox(children=(FloatProgress(value=1.0, bar_style='info', max=1.0), HTML(value='')))"
      ]
     },
     "metadata": {},
     "output_type": "display_data"
    },
    {
     "name": "stdout",
     "output_type": "stream",
     "text": [
      "\n",
      "Total time for decomposition = 12.310219287872314\n",
      "mesh_correspondence_first_pass: 12.31025218963623\n",
      "Limb decomposed into 11 branches\n",
      "divided_skeleton_graph_recovered = (724, 2, 3) and \n",
      "current_mesh_data[0]['branch_skeletons_cleaned'].shape = (724, 2, 3)\n",
      "\n",
      "Number of connected components in deocmposed recovered graph = 1\n",
      "Number of connected components in cleaned skeleton graph= 1\n",
      "The downsampled branches number of connected components = 1\n",
      "Empty submeshes = []\n",
      "\n",
      "\n",
      "--- Working on 1-to-1 correspondence-----\n",
      "max(original_labels),len(original_labels) = (10, 11)\n",
      "empty_indices % = 0.08310940499040308\n",
      " conflict_indices % = 0.026956707187033482\n"
     ]
    },
    {
     "data": {
      "application/vnd.jupyter.widget-view+json": {
       "model_id": "2c8f21a794d54c55a680255b0f289f52",
       "version_major": 2,
       "version_minor": 0
      },
      "text/plain": [
       "HBox(children=(FloatProgress(value=0.0, max=53.0), HTML(value='')))"
      ]
     },
     "metadata": {},
     "output_type": "display_data"
    },
    {
     "name": "stdout",
     "output_type": "stream",
     "text": [
      "\n",
      "AFTER face_lookup_resolved_test\n",
      "Took 0 iterations to expand the label back\n",
      "empty_indices % = 0.0\n",
      " conflict_indices % = 0.0\n"
     ]
    },
    {
     "data": {
      "application/vnd.jupyter.widget-view+json": {
       "model_id": "8a5c1137b67d4f7da15f873e1a6e4637",
       "version_major": 2,
       "version_minor": 0
      },
      "text/plain": [
       "HBox(children=(FloatProgress(value=1.0, bar_style='info', max=1.0), HTML(value='')))"
      ]
     },
     "metadata": {},
     "output_type": "display_data"
    },
    {
     "name": "stdout",
     "output_type": "stream",
     "text": [
      "\n",
      "AFTER face_lookup_resolved_test\n"
     ]
    },
    {
     "data": {
      "application/vnd.jupyter.widget-view+json": {
       "model_id": "4135c912e58c4bf3b74ec33c50ddc5ec",
       "version_major": 2,
       "version_minor": 0
      },
      "text/plain": [
       "HBox(children=(FloatProgress(value=0.0, max=11.0), HTML(value='')))"
      ]
     },
     "metadata": {},
     "output_type": "display_data"
    },
    {
     "name": "stdout",
     "output_type": "stream",
     "text": [
      "\n",
      "Total time for MAP sublimb #1 mesh processing = 55.427793741226196\n",
      "correspondence_1_to_1: 5.286262273788452\n",
      "--- Working on MAP piece 2---\n",
      "MAP Filtering Soma Pieces: 0.00513458251953125\n",
      "inside skeletonize_connected_branch and use_surface_after_CGAL=False, surface_reconstruction_size=1000\n",
      "     Starting Screened Poisson\n",
      "xvfb-run -n 8942 -s \"-screen 0 800x600x24\" meshlabserver $@  -i /notebooks/Platinum_Decomp_Fusion/temp/None.off -o /notebooks/Platinum_Decomp_Fusion/temp/None_poisson.off -s /notebooks/Platinum_Decomp_Fusion/temp/poisson_223598.mls\n",
      "removed temporary input file: /notebooks/Platinum_Decomp_Fusion/temp/None.off\n",
      "removed temporary output file: /notebooks/Platinum_Decomp_Fusion/temp/None_poisson.off\n",
      "Using the close holes feature\n",
      "xvfb-run -n 7695 -s \"-screen 0 800x600x24\" meshlabserver $@  -i /notebooks/Platinum_Decomp_Fusion/temp/neuron_48365.off -o /notebooks/Platinum_Decomp_Fusion/temp/neuron_48365_fill_holes.off -s /notebooks/Platinum_Decomp_Fusion/temp/fill_holes_573593.mls\n",
      "removed temporary input file: /notebooks/Platinum_Decomp_Fusion/temp/neuron_48365.off\n",
      "removed temporary output file: /notebooks/Platinum_Decomp_Fusion/temp/neuron_48365_fill_holes.off\n",
      "-----Time for Screened Poisson= 6.154191493988037\n",
      "     Starting Calcification\n"
     ]
    },
    {
     "data": {
      "application/vnd.jupyter.widget-view+json": {
       "model_id": "3893c90b620747f5b1309023bbaf3d0f",
       "version_major": 2,
       "version_minor": 0
      },
      "text/plain": [
       "HBox(children=(FloatProgress(value=1.0, bar_style='info', max=1.0), HTML(value='')))"
      ]
     },
     "metadata": {},
     "output_type": "display_data"
    },
    {
     "name": "stdout",
     "output_type": "stream",
     "text": [
      "\n",
      "No skeletons to stack so returning empty list\n",
      "len_subgraphs AT BEGINNING of the loop\n"
     ]
    },
    {
     "data": {
      "application/vnd.jupyter.widget-view+json": {
       "model_id": "bda6a80c66b344b6a7be6b8daa10a43e",
       "version_major": 2,
       "version_minor": 0
      },
      "text/plain": [
       "HBox(children=(FloatProgress(value=0.0, max=1.0), HTML(value='')))"
      ]
     },
     "metadata": {},
     "output_type": "display_data"
    },
    {
     "name": "stdout",
     "output_type": "stream",
     "text": [
      "all graph is one component!\n",
      "\n",
      "Total time for skeleton stitching = 0.023426055908203125\n",
      "The process was using a temp folder\n",
      "Checking connected components after skeletonize_connected_branch\n",
      "    Total time for skeletonizing branch: 6.451664209365845\n",
      "Checking connected components after removing cycles\n",
      "    Total time for Fixing Skeleton Soma Endpoint Extension : 0.0021800994873046875\n",
      "filter_end_node_length = 1500\n",
      "Using Distance measure skeletal_distance\n",
      "no small end nodes to get rid of so returning whole skeleton\n",
      "Checking connected components after clean_skeleton\n",
      "after DISTANCE cleaning limb size of skeleton = (36, 2, 3)\n",
      "********COMBINING CLOSE SKELETON NODES WITHIN 700 DISTANCE**********\n",
      "Found 0 valid paths to replace\n",
      "valid_paths = []\n",
      "valid_path_lengths = []\n",
      "No valid paths found so just returning the original\n",
      "Inside MAP decomposition and curr_limb_endpoints_must_keep was None\n",
      "skeletonize_and_clean_connected_branch_CGAL: 6.484193801879883\n",
      "Working on limb correspondence for #2 MAP piece\n"
     ]
    },
    {
     "data": {
      "application/vnd.jupyter.widget-view+json": {
       "model_id": "132881212d30477bbf2d4cf28304eaba",
       "version_major": 2,
       "version_minor": 0
      },
      "text/plain": [
       "HBox(children=(FloatProgress(value=1.0, bar_style='info', max=1.0), HTML(value='')))"
      ]
     },
     "metadata": {},
     "output_type": "display_data"
    },
    {
     "name": "stdout",
     "output_type": "stream",
     "text": [
      "\n",
      "Total time for decomposition = 0.42052149772644043\n",
      "mesh_correspondence_first_pass: 0.42055511474609375\n",
      "Limb decomposed into 3 branches\n",
      "divided_skeleton_graph_recovered = (36, 2, 3) and \n",
      "current_mesh_data[0]['branch_skeletons_cleaned'].shape = (36, 2, 3)\n",
      "\n",
      "Number of connected components in deocmposed recovered graph = 1\n",
      "Number of connected components in cleaned skeleton graph= 1\n",
      "The downsampled branches number of connected components = 1\n",
      "Empty submeshes = []\n",
      "\n",
      "\n",
      "--- Working on 1-to-1 correspondence-----\n",
      "max(original_labels),len(original_labels) = (2, 3)\n",
      "empty_indices % = 0.1924963924963925\n",
      " conflict_indices % = 0.03780663780663781\n"
     ]
    },
    {
     "data": {
      "application/vnd.jupyter.widget-view+json": {
       "model_id": "e159e05da5004a4984113f4cee758e1e",
       "version_major": 2,
       "version_minor": 0
      },
      "text/plain": [
       "HBox(children=(FloatProgress(value=0.0, max=6.0), HTML(value='')))"
      ]
     },
     "metadata": {},
     "output_type": "display_data"
    },
    {
     "name": "stdout",
     "output_type": "stream",
     "text": [
      "\n",
      "AFTER face_lookup_resolved_test\n"
     ]
    },
    {
     "data": {
      "application/vnd.jupyter.widget-view+json": {
       "model_id": "32fd8e3ee8b5491bbc908fc973569f0c",
       "version_major": 2,
       "version_minor": 0
      },
      "text/plain": [
       "HBox(children=(FloatProgress(value=0.0, max=3.0), HTML(value='')))"
      ]
     },
     "metadata": {},
     "output_type": "display_data"
    },
    {
     "name": "stdout",
     "output_type": "stream",
     "text": [
      "\n",
      "Total time for MAP sublimb #2 mesh processing = 7.045632839202881\n",
      "correspondence_1_to_1: 0.13581180572509766\n",
      "Total time for MAP sublimb processing 108.04166722297668\n",
      "---- Working on MP Decomposition #0 ----\n",
      "Computing the current soma touching verts dict manually\n",
      "MP filtering soma verts: 0.008160829544067383\n",
      "Do Not Need to Fix MP Decomposition 0 so just continuing\n",
      "---- Working on MP Decomposition #1 ----\n",
      "Computing the current soma touching verts dict manually\n",
      "MP filtering soma verts: 0.008725166320800781\n",
      "Do Not Need to Fix MP Decomposition 1 so just continuing\n",
      "---- Working on MP Decomposition #2 ----\n",
      "Computing the current soma touching verts dict manually\n",
      "MP filtering soma verts: 0.00552678108215332\n",
      "Do Not Need to Fix MP Decomposition 2 so just continuing\n",
      "---- Working on MP Decomposition #3 ----\n",
      "Computing the current soma touching verts dict manually\n",
      "MP filtering soma verts: 0.0058917999267578125\n",
      "Do Not Need to Fix MP Decomposition 3 so just continuing\n",
      "---- Working on MP Decomposition #4 ----\n",
      "Computing the current soma touching verts dict manually\n",
      "MP filtering soma verts: 0.005931854248046875\n",
      "Do Not Need to Fix MP Decomposition 4 so just continuing\n",
      "---- Working on MP Decomposition #5 ----\n",
      "Computing the current soma touching verts dict manually\n",
      "MP filtering soma verts: 0.009186267852783203\n",
      "Do Not Need to Fix MP Decomposition 5 so just continuing\n",
      "---- Working on MP Decomposition #6 ----\n",
      "Computing the current soma touching verts dict manually\n",
      "MP filtering soma verts: 0.006316184997558594\n",
      "Do Not Need to Fix MP Decomposition 6 so just continuing\n",
      "---- Working on MP Decomposition #7 ----\n",
      "Computing the current soma touching verts dict manually\n",
      "MP filtering soma verts: 0.0058269500732421875\n",
      "Do Not Need to Fix MP Decomposition 7 so just continuing\n",
      "\n",
      "---- Working on (0, 0) connection-----\n",
      "Current stitch point was not a branch or endpoint, shortest_path_length to one = 19306.9972236526\n",
      "sk_conn = [4]\n",
      "conn = [4]\n",
      "winning_vertex = [582476.2800289  388077.12590537 700269.85374997]\n",
      "MP_branches_with_stitch_point = [4]\n",
      "MAP_branches_with_stitch_point = [8]\n",
      "MAP_stitch_point_on_end_or_branch = False\n",
      "Using max stitch distance (300) for smoothing because stitch_distance greater (736.2091170635134) \n",
      "Found winning edge: [26, 28.0]\n",
      "in remove edge\n"
     ]
    },
    {
     "name": "stderr",
     "output_type": "stream",
     "text": [
      "/meshAfterParty/preprocessing_vp2.py:1588: VisibleDeprecationWarning: Creating an ndarray from ragged nested sequences (which is a list-or-tuple of lists-or-tuples-or ndarrays with different lengths or shapes) is deprecated. If you meant to do this, you must specify 'dtype=object' when creating the ndarray\n",
      "  for k in o_keys])\n"
     ]
    },
    {
     "data": {
      "application/vnd.jupyter.widget-view+json": {
       "model_id": "beda8e4b954941b386ce5c130b360793",
       "version_major": 2,
       "version_minor": 0
      },
      "text/plain": [
       "HBox(children=(FloatProgress(value=1.0, bar_style='info', max=1.0), HTML(value='')))"
      ]
     },
     "metadata": {},
     "output_type": "display_data"
    },
    {
     "name": "stderr",
     "output_type": "stream",
     "text": [
      "/meshAfterParty/trimesh_utils.py:331: VisibleDeprecationWarning: Creating an ndarray from ragged nested sequences (which is a list-or-tuple of lists-or-tuples-or ndarrays with different lengths or shapes) is deprecated. If you meant to do this, you must specify 'dtype=object' when creating the ndarray\n",
      "  ordered_comp_indices = np.array([k.astype(\"int\") for k in ordered_components])\n"
     ]
    },
    {
     "name": "stdout",
     "output_type": "stream",
     "text": [
      "\n",
      "\n",
      "\n",
      "--- Working on 1-to-1 correspondence-----\n",
      "max(original_labels),len(original_labels) = (1, 2)\n",
      "empty_indices % = 0.03751705320600273\n",
      " conflict_indices % = 0.0036152796725784446\n"
     ]
    },
    {
     "data": {
      "application/vnd.jupyter.widget-view+json": {
       "model_id": "17591dfe82fd4b6ba00e168f98a70e84",
       "version_major": 2,
       "version_minor": 0
      },
      "text/plain": [
       "HBox(children=(FloatProgress(value=0.0, max=3.0), HTML(value='')))"
      ]
     },
     "metadata": {},
     "output_type": "display_data"
    },
    {
     "name": "stdout",
     "output_type": "stream",
     "text": [
      "\n",
      "AFTER face_lookup_resolved_test\n"
     ]
    },
    {
     "data": {
      "application/vnd.jupyter.widget-view+json": {
       "model_id": "c9b62766a26b41bdb49b066ef02321b8",
       "version_major": 2,
       "version_minor": 0
      },
      "text/plain": [
       "HBox(children=(FloatProgress(value=0.0, max=2.0), HTML(value='')))"
      ]
     },
     "metadata": {},
     "output_type": "display_data"
    },
    {
     "name": "stdout",
     "output_type": "stream",
     "text": [
      "\n"
     ]
    },
    {
     "data": {
      "application/vnd.jupyter.widget-view+json": {
       "model_id": "e0c80d365075449bb63776af5174a3b3",
       "version_major": 2,
       "version_minor": 0
      },
      "text/plain": [
       "HBox(children=(FloatProgress(value=1.0, bar_style='info', max=1.0), HTML(value='')))"
      ]
     },
     "metadata": {},
     "output_type": "display_data"
    },
    {
     "name": "stdout",
     "output_type": "stream",
     "text": [
      "\n",
      "\n",
      "\n",
      "--- Working on 1-to-1 correspondence-----\n",
      "max(original_labels),len(original_labels) = (2, 3)\n",
      "empty_indices % = 0.04798618392647875\n",
      " conflict_indices % = 0.02269783507062234\n"
     ]
    },
    {
     "data": {
      "application/vnd.jupyter.widget-view+json": {
       "model_id": "bb7194e03fb344f1a0a23eb976d1d980",
       "version_major": 2,
       "version_minor": 0
      },
      "text/plain": [
       "HBox(children=(FloatProgress(value=0.0, max=2.0), HTML(value='')))"
      ]
     },
     "metadata": {},
     "output_type": "display_data"
    },
    {
     "name": "stdout",
     "output_type": "stream",
     "text": [
      "\n",
      "AFTER face_lookup_resolved_test\n"
     ]
    },
    {
     "data": {
      "application/vnd.jupyter.widget-view+json": {
       "model_id": "b0a6d38302f64182829f43a667e2c57f",
       "version_major": 2,
       "version_minor": 0
      },
      "text/plain": [
       "HBox(children=(FloatProgress(value=0.0, max=3.0), HTML(value='')))"
      ]
     },
     "metadata": {},
     "output_type": "display_data"
    },
    {
     "name": "stdout",
     "output_type": "stream",
     "text": [
      "\n",
      "Deleting branches from dictionary\n",
      "MP_branches_with_stitch_point= [4]\n",
      "MP_branches_for_correspondence = [4]\n",
      "MP_leftover = [], MP_leftover_idx = []\n",
      " Finished with (0, 0) \n",
      "\n",
      "\n",
      "\n",
      "\n",
      "---- Working on (3, 0) connection-----\n",
      "Current stitch point was a branch or endpoint\n",
      "sk_conn = [0, 1]\n",
      "conn = [0, 1]\n",
      "winning_vertex = [589225.18073694 383133.3708209  717758.46861973]\n",
      "MP_branches_with_stitch_point = [0, 1]\n",
      "MAP_branches_with_stitch_point = [11]\n",
      "MAP_stitch_point_on_end_or_branch = True\n",
      "Using max stitch distance (300) for smoothing because stitch_distance greater (1759.3541432948807) \n",
      "Found winning edge: [9, 10.0]\n",
      "in remove edge\n"
     ]
    },
    {
     "name": "stderr",
     "output_type": "stream",
     "text": [
      "/meshAfterParty/preprocessing_vp2.py:1588: VisibleDeprecationWarning: Creating an ndarray from ragged nested sequences (which is a list-or-tuple of lists-or-tuples-or ndarrays with different lengths or shapes) is deprecated. If you meant to do this, you must specify 'dtype=object' when creating the ndarray\n",
      "  for k in o_keys])\n"
     ]
    },
    {
     "name": "stdout",
     "output_type": "stream",
     "text": [
      "Using max stitch distance (300) for smoothing because stitch_distance greater (1923.820572334894) \n",
      "Found winning edge: [63, 64.0]\n",
      "in remove edge\n"
     ]
    },
    {
     "data": {
      "application/vnd.jupyter.widget-view+json": {
       "model_id": "61210ab412f649d7a519d1ca3549c717",
       "version_major": 2,
       "version_minor": 0
      },
      "text/plain": [
       "HBox(children=(FloatProgress(value=1.0, bar_style='info', max=1.0), HTML(value='')))"
      ]
     },
     "metadata": {},
     "output_type": "display_data"
    },
    {
     "name": "stderr",
     "output_type": "stream",
     "text": [
      "/meshAfterParty/trimesh_utils.py:331: VisibleDeprecationWarning: Creating an ndarray from ragged nested sequences (which is a list-or-tuple of lists-or-tuples-or ndarrays with different lengths or shapes) is deprecated. If you meant to do this, you must specify 'dtype=object' when creating the ndarray\n",
      "  ordered_comp_indices = np.array([k.astype(\"int\") for k in ordered_components])\n"
     ]
    },
    {
     "name": "stdout",
     "output_type": "stream",
     "text": [
      "\n",
      "\n",
      "\n",
      "--- Working on 1-to-1 correspondence-----\n",
      "max(original_labels),len(original_labels) = (2, 3)\n",
      "empty_indices % = 0.2289048473967684\n",
      " conflict_indices % = 0.005001282380097461\n"
     ]
    },
    {
     "data": {
      "application/vnd.jupyter.widget-view+json": {
       "model_id": "e1399e8719f14f95ab91063d30ed97e2",
       "version_major": 2,
       "version_minor": 0
      },
      "text/plain": [
       "HBox(children=(FloatProgress(value=0.0, max=3.0), HTML(value='')))"
      ]
     },
     "metadata": {},
     "output_type": "display_data"
    },
    {
     "name": "stdout",
     "output_type": "stream",
     "text": [
      "\n",
      "AFTER face_lookup_resolved_test\n"
     ]
    },
    {
     "data": {
      "application/vnd.jupyter.widget-view+json": {
       "model_id": "866c180098ce4f8bbaa8e0e981b0fce6",
       "version_major": 2,
       "version_minor": 0
      },
      "text/plain": [
       "HBox(children=(FloatProgress(value=0.0, max=3.0), HTML(value='')))"
      ]
     },
     "metadata": {},
     "output_type": "display_data"
    },
    {
     "name": "stdout",
     "output_type": "stream",
     "text": [
      "\n",
      "MP_branches_with_stitch_point= [0, 1]\n",
      "MP_branches_for_correspondence = [0 1]\n",
      "MP_leftover = [], MP_leftover_idx = []\n",
      " Finished with (3, 0) \n",
      "\n",
      "\n",
      "\n",
      "\n",
      "---- Working on (4, 0) connection-----\n",
      "Current stitch point was a branch or endpoint\n",
      "sk_conn = [0, 1]\n",
      "conn = [0, 1]\n",
      "winning_vertex = [619929.85065234 371540.81116291 715428.2162527 ]\n",
      "MP_branches_with_stitch_point = [0, 1]\n",
      "MAP_branches_with_stitch_point = [10]\n",
      "MAP_stitch_point_on_end_or_branch = True\n",
      "Using max stitch distance (300) for smoothing because stitch_distance greater (897.9786823872804) \n",
      "Found winning edge: [9, 10.0]\n",
      "in remove edge\n"
     ]
    },
    {
     "name": "stderr",
     "output_type": "stream",
     "text": [
      "/meshAfterParty/preprocessing_vp2.py:1588: VisibleDeprecationWarning: Creating an ndarray from ragged nested sequences (which is a list-or-tuple of lists-or-tuples-or ndarrays with different lengths or shapes) is deprecated. If you meant to do this, you must specify 'dtype=object' when creating the ndarray\n",
      "  for k in o_keys])\n"
     ]
    },
    {
     "name": "stdout",
     "output_type": "stream",
     "text": [
      "Using max stitch distance (300) for smoothing because stitch_distance greater (1050.9872558122643) \n",
      "Found winning edge: [13, 16.0]\n",
      "in remove edge\n"
     ]
    },
    {
     "data": {
      "application/vnd.jupyter.widget-view+json": {
       "model_id": "d772993d58ee4dbf8f504dc735a5d5f4",
       "version_major": 2,
       "version_minor": 0
      },
      "text/plain": [
       "HBox(children=(FloatProgress(value=1.0, bar_style='info', max=1.0), HTML(value='')))"
      ]
     },
     "metadata": {},
     "output_type": "display_data"
    },
    {
     "name": "stderr",
     "output_type": "stream",
     "text": [
      "/meshAfterParty/trimesh_utils.py:331: VisibleDeprecationWarning: Creating an ndarray from ragged nested sequences (which is a list-or-tuple of lists-or-tuples-or ndarrays with different lengths or shapes) is deprecated. If you meant to do this, you must specify 'dtype=object' when creating the ndarray\n",
      "  ordered_comp_indices = np.array([k.astype(\"int\") for k in ordered_components])\n"
     ]
    },
    {
     "name": "stdout",
     "output_type": "stream",
     "text": [
      "\n",
      "\n",
      "\n",
      "--- Working on 1-to-1 correspondence-----\n",
      "max(original_labels),len(original_labels) = (2, 3)\n",
      "empty_indices % = 0.1264028581414314\n",
      " conflict_indices % = 0.0\n"
     ]
    },
    {
     "data": {
      "application/vnd.jupyter.widget-view+json": {
       "model_id": "03de46f97f974dec9d70c04a4a42e763",
       "version_major": 2,
       "version_minor": 0
      },
      "text/plain": [
       "HBox(children=(FloatProgress(value=0.0, max=1.0), HTML(value='')))"
      ]
     },
     "metadata": {},
     "output_type": "display_data"
    },
    {
     "name": "stdout",
     "output_type": "stream",
     "text": [
      "\n",
      "AFTER face_lookup_resolved_test\n"
     ]
    },
    {
     "data": {
      "application/vnd.jupyter.widget-view+json": {
       "model_id": "5b483dd3133044778330ab7c35a87e9a",
       "version_major": 2,
       "version_minor": 0
      },
      "text/plain": [
       "HBox(children=(FloatProgress(value=0.0, max=3.0), HTML(value='')))"
      ]
     },
     "metadata": {},
     "output_type": "display_data"
    },
    {
     "name": "stdout",
     "output_type": "stream",
     "text": [
      "\n",
      "MP_branches_with_stitch_point= [0, 1]\n",
      "MP_branches_for_correspondence = [0 1]\n",
      "MP_leftover = [], MP_leftover_idx = []\n",
      " Finished with (4, 0) \n",
      "\n",
      "\n",
      "\n",
      "\n",
      "---- Working on (7, 0) connection-----\n",
      "Current stitch point was not a branch or endpoint, shortest_path_length to one = 6651.674342104557\n",
      "sk_conn = [0]\n",
      "conn = [0]\n",
      "winning_vertex = [559889.06636972 429656.02427319 694170.45636229]\n",
      "MP_branches_with_stitch_point = [0]\n",
      "MAP_branches_with_stitch_point = [7]\n",
      "MAP_stitch_point_on_end_or_branch = False\n",
      "Using max stitch distance (300) for smoothing because stitch_distance greater (465.0461795073647) \n"
     ]
    },
    {
     "name": "stderr",
     "output_type": "stream",
     "text": [
      "/meshAfterParty/preprocessing_vp2.py:1588: VisibleDeprecationWarning: Creating an ndarray from ragged nested sequences (which is a list-or-tuple of lists-or-tuples-or ndarrays with different lengths or shapes) is deprecated. If you meant to do this, you must specify 'dtype=object' when creating the ndarray\n",
      "  for k in o_keys])\n"
     ]
    },
    {
     "name": "stdout",
     "output_type": "stream",
     "text": [
      "Found winning edge: [9, 10.0]\n",
      "in remove edge\n"
     ]
    },
    {
     "data": {
      "application/vnd.jupyter.widget-view+json": {
       "model_id": "7b2aebc627d24db28b0b29f088da6d5a",
       "version_major": 2,
       "version_minor": 0
      },
      "text/plain": [
       "HBox(children=(FloatProgress(value=1.0, bar_style='info', max=1.0), HTML(value='')))"
      ]
     },
     "metadata": {},
     "output_type": "display_data"
    },
    {
     "name": "stderr",
     "output_type": "stream",
     "text": [
      "/meshAfterParty/trimesh_utils.py:331: VisibleDeprecationWarning: Creating an ndarray from ragged nested sequences (which is a list-or-tuple of lists-or-tuples-or ndarrays with different lengths or shapes) is deprecated. If you meant to do this, you must specify 'dtype=object' when creating the ndarray\n",
      "  ordered_comp_indices = np.array([k.astype(\"int\") for k in ordered_components])\n"
     ]
    },
    {
     "name": "stdout",
     "output_type": "stream",
     "text": [
      "\n",
      "\n",
      "\n",
      "--- Working on 1-to-1 correspondence-----\n",
      "max(original_labels),len(original_labels) = (1, 2)\n",
      "empty_indices % = 0.09803400637619554\n",
      " conflict_indices % = 0.0\n"
     ]
    },
    {
     "data": {
      "application/vnd.jupyter.widget-view+json": {
       "model_id": "4a35cdd4b37e4200ac3b7f9da17e4758",
       "version_major": 2,
       "version_minor": 0
      },
      "text/plain": [
       "HBox(children=(FloatProgress(value=0.0, max=2.0), HTML(value='')))"
      ]
     },
     "metadata": {},
     "output_type": "display_data"
    },
    {
     "name": "stdout",
     "output_type": "stream",
     "text": [
      "\n",
      "AFTER face_lookup_resolved_test\n"
     ]
    },
    {
     "data": {
      "application/vnd.jupyter.widget-view+json": {
       "model_id": "543db7a9facc494db8ae61388ba9cab9",
       "version_major": 2,
       "version_minor": 0
      },
      "text/plain": [
       "HBox(children=(FloatProgress(value=0.0, max=2.0), HTML(value='')))"
      ]
     },
     "metadata": {},
     "output_type": "display_data"
    },
    {
     "name": "stdout",
     "output_type": "stream",
     "text": [
      "\n"
     ]
    },
    {
     "data": {
      "application/vnd.jupyter.widget-view+json": {
       "model_id": "e57726d344fb4104963d05d078bdcdf1",
       "version_major": 2,
       "version_minor": 0
      },
      "text/plain": [
       "HBox(children=(FloatProgress(value=1.0, bar_style='info', max=1.0), HTML(value='')))"
      ]
     },
     "metadata": {},
     "output_type": "display_data"
    },
    {
     "name": "stdout",
     "output_type": "stream",
     "text": [
      "\n",
      "\n",
      "\n",
      "--- Working on 1-to-1 correspondence-----\n",
      "max(original_labels),len(original_labels) = (2, 3)\n",
      "empty_indices % = 0.05879105713497102\n",
      " conflict_indices % = 0.017802925752139112\n"
     ]
    },
    {
     "data": {
      "application/vnd.jupyter.widget-view+json": {
       "model_id": "ba2655be15cb4441aad632a9fc6cfa82",
       "version_major": 2,
       "version_minor": 0
      },
      "text/plain": [
       "HBox(children=(FloatProgress(value=0.0, max=1.0), HTML(value='')))"
      ]
     },
     "metadata": {},
     "output_type": "display_data"
    },
    {
     "name": "stdout",
     "output_type": "stream",
     "text": [
      "\n",
      "AFTER face_lookup_resolved_test\n"
     ]
    },
    {
     "data": {
      "application/vnd.jupyter.widget-view+json": {
       "model_id": "75bc92364e5a437fbcf73a508800ba17",
       "version_major": 2,
       "version_minor": 0
      },
      "text/plain": [
       "HBox(children=(FloatProgress(value=0.0, max=3.0), HTML(value='')))"
      ]
     },
     "metadata": {},
     "output_type": "display_data"
    },
    {
     "name": "stdout",
     "output_type": "stream",
     "text": [
      "\n",
      "Deleting branches from dictionary\n",
      "MP_branches_with_stitch_point= [0]\n",
      "MP_branches_for_correspondence = [0]\n",
      "MP_leftover = [], MP_leftover_idx = []\n",
      " Finished with (7, 0) \n",
      "\n",
      "\n",
      "\n",
      "\n",
      "---- Working on (1, 1) connection-----\n",
      "Current stitch point was not a branch or endpoint, shortest_path_length to one = 14032.393989051814\n",
      "sk_conn = [2]\n",
      "conn = [2]\n",
      "winning_vertex = [644517.33744325 415770.91381617 695234.05155563]\n",
      "MP_branches_with_stitch_point = [2]\n",
      "MAP_branches_with_stitch_point = [0]\n",
      "MAP_stitch_point_on_end_or_branch = False\n",
      "Using max stitch distance (300) for smoothing because stitch_distance greater (375.57525721121885) \n",
      "Found winning edge: [48, 49.0]\n",
      "in remove edge\n"
     ]
    },
    {
     "name": "stderr",
     "output_type": "stream",
     "text": [
      "/meshAfterParty/preprocessing_vp2.py:1588: VisibleDeprecationWarning: Creating an ndarray from ragged nested sequences (which is a list-or-tuple of lists-or-tuples-or ndarrays with different lengths or shapes) is deprecated. If you meant to do this, you must specify 'dtype=object' when creating the ndarray\n",
      "  for k in o_keys])\n"
     ]
    },
    {
     "data": {
      "application/vnd.jupyter.widget-view+json": {
       "model_id": "9fb18cf094904393a64a9688538f5c85",
       "version_major": 2,
       "version_minor": 0
      },
      "text/plain": [
       "HBox(children=(FloatProgress(value=1.0, bar_style='info', max=1.0), HTML(value='')))"
      ]
     },
     "metadata": {},
     "output_type": "display_data"
    },
    {
     "name": "stderr",
     "output_type": "stream",
     "text": [
      "/meshAfterParty/trimesh_utils.py:331: VisibleDeprecationWarning: Creating an ndarray from ragged nested sequences (which is a list-or-tuple of lists-or-tuples-or ndarrays with different lengths or shapes) is deprecated. If you meant to do this, you must specify 'dtype=object' when creating the ndarray\n",
      "  ordered_comp_indices = np.array([k.astype(\"int\") for k in ordered_components])\n"
     ]
    },
    {
     "name": "stdout",
     "output_type": "stream",
     "text": [
      "\n",
      "\n",
      "\n",
      "--- Working on 1-to-1 correspondence-----\n",
      "max(original_labels),len(original_labels) = (1, 2)\n",
      "empty_indices % = 0.1086200471991057\n",
      " conflict_indices % = 0.0012420817289777667\n"
     ]
    },
    {
     "data": {
      "application/vnd.jupyter.widget-view+json": {
       "model_id": "84027380b6504c4fb564b3c1669659b2",
       "version_major": 2,
       "version_minor": 0
      },
      "text/plain": [
       "HBox(children=(FloatProgress(value=0.0, max=13.0), HTML(value='')))"
      ]
     },
     "metadata": {},
     "output_type": "display_data"
    },
    {
     "name": "stdout",
     "output_type": "stream",
     "text": [
      "\n",
      "AFTER face_lookup_resolved_test\n"
     ]
    },
    {
     "data": {
      "application/vnd.jupyter.widget-view+json": {
       "model_id": "a9a6846091b34fc18efe62ff026a34e1",
       "version_major": 2,
       "version_minor": 0
      },
      "text/plain": [
       "HBox(children=(FloatProgress(value=0.0, max=2.0), HTML(value='')))"
      ]
     },
     "metadata": {},
     "output_type": "display_data"
    },
    {
     "name": "stdout",
     "output_type": "stream",
     "text": [
      "\n"
     ]
    },
    {
     "data": {
      "application/vnd.jupyter.widget-view+json": {
       "model_id": "7b0a007736644c53bffae15b6a7a3908",
       "version_major": 2,
       "version_minor": 0
      },
      "text/plain": [
       "HBox(children=(FloatProgress(value=1.0, bar_style='info', max=1.0), HTML(value='')))"
      ]
     },
     "metadata": {},
     "output_type": "display_data"
    },
    {
     "name": "stdout",
     "output_type": "stream",
     "text": [
      "\n",
      "\n",
      "\n",
      "--- Working on 1-to-1 correspondence-----\n",
      "max(original_labels),len(original_labels) = (2, 3)\n",
      "empty_indices % = 0.10223884959373356\n",
      " conflict_indices % = 0.02028409423043199\n"
     ]
    },
    {
     "data": {
      "application/vnd.jupyter.widget-view+json": {
       "model_id": "d7039f22bc4047608e40c380fdd53153",
       "version_major": 2,
       "version_minor": 0
      },
      "text/plain": [
       "HBox(children=(FloatProgress(value=0.0, max=1.0), HTML(value='')))"
      ]
     },
     "metadata": {},
     "output_type": "display_data"
    },
    {
     "name": "stdout",
     "output_type": "stream",
     "text": [
      "\n",
      "AFTER face_lookup_resolved_test\n"
     ]
    },
    {
     "data": {
      "application/vnd.jupyter.widget-view+json": {
       "model_id": "67637a5707de4514a171cdd696c5b4b1",
       "version_major": 2,
       "version_minor": 0
      },
      "text/plain": [
       "HBox(children=(FloatProgress(value=0.0, max=3.0), HTML(value='')))"
      ]
     },
     "metadata": {},
     "output_type": "display_data"
    },
    {
     "name": "stdout",
     "output_type": "stream",
     "text": [
      "\n",
      "Deleting branches from dictionary\n",
      "MP_branches_with_stitch_point= [2]\n",
      "MP_branches_for_correspondence = [2]\n",
      "MP_leftover = [], MP_leftover_idx = []\n",
      " Finished with (1, 1) \n",
      "\n",
      "\n",
      "\n",
      "\n",
      "---- Working on (2, 1) connection-----\n",
      "Current stitch point was a branch or endpoint\n",
      "sk_conn = [0, 1]\n",
      "conn = [0, 1]\n",
      "winning_vertex = [753839.18189722 408611.09655305 693259.69495066]\n",
      "MP_branches_with_stitch_point = [0, 1]\n",
      "MAP_branches_with_stitch_point = [7]\n",
      "MAP_stitch_point_on_end_or_branch = True\n",
      "Using max stitch distance (300) for smoothing because stitch_distance greater (1376.092556107681) \n"
     ]
    },
    {
     "name": "stderr",
     "output_type": "stream",
     "text": [
      "/meshAfterParty/preprocessing_vp2.py:1588: VisibleDeprecationWarning: Creating an ndarray from ragged nested sequences (which is a list-or-tuple of lists-or-tuples-or ndarrays with different lengths or shapes) is deprecated. If you meant to do this, you must specify 'dtype=object' when creating the ndarray\n",
      "  for k in o_keys])\n"
     ]
    },
    {
     "name": "stdout",
     "output_type": "stream",
     "text": [
      "Found winning edge: [9, 10.0]\n",
      "in remove edge\n",
      "Using max stitch distance (300) for smoothing because stitch_distance greater (1293.4879961630004) \n",
      "Found winning edge: [9, 10.0]\n",
      "in remove edge\n"
     ]
    },
    {
     "data": {
      "application/vnd.jupyter.widget-view+json": {
       "model_id": "66c1ac6735354d05beb6d0d9781d8cd3",
       "version_major": 2,
       "version_minor": 0
      },
      "text/plain": [
       "HBox(children=(FloatProgress(value=1.0, bar_style='info', max=1.0), HTML(value='')))"
      ]
     },
     "metadata": {},
     "output_type": "display_data"
    },
    {
     "name": "stderr",
     "output_type": "stream",
     "text": [
      "/meshAfterParty/trimesh_utils.py:331: VisibleDeprecationWarning: Creating an ndarray from ragged nested sequences (which is a list-or-tuple of lists-or-tuples-or ndarrays with different lengths or shapes) is deprecated. If you meant to do this, you must specify 'dtype=object' when creating the ndarray\n",
      "  ordered_comp_indices = np.array([k.astype(\"int\") for k in ordered_components])\n"
     ]
    },
    {
     "name": "stdout",
     "output_type": "stream",
     "text": [
      "\n",
      "\n",
      "\n",
      "--- Working on 1-to-1 correspondence-----\n",
      "max(original_labels),len(original_labels) = (2, 3)\n",
      "empty_indices % = 0.04005235602094241\n",
      " conflict_indices % = 0.05150523560209424\n"
     ]
    },
    {
     "data": {
      "application/vnd.jupyter.widget-view+json": {
       "model_id": "3f595afdc3bc4a348b6d051a577aa924",
       "version_major": 2,
       "version_minor": 0
      },
      "text/plain": [
       "HBox(children=(FloatProgress(value=0.0, max=3.0), HTML(value='')))"
      ]
     },
     "metadata": {},
     "output_type": "display_data"
    },
    {
     "name": "stdout",
     "output_type": "stream",
     "text": [
      "\n",
      "AFTER face_lookup_resolved_test\n"
     ]
    },
    {
     "data": {
      "application/vnd.jupyter.widget-view+json": {
       "model_id": "b8c68de1d6844726a0f088fb2e706e66",
       "version_major": 2,
       "version_minor": 0
      },
      "text/plain": [
       "HBox(children=(FloatProgress(value=0.0, max=3.0), HTML(value='')))"
      ]
     },
     "metadata": {},
     "output_type": "display_data"
    },
    {
     "name": "stdout",
     "output_type": "stream",
     "text": [
      "\n",
      "MP_branches_with_stitch_point= [0, 1]\n",
      "MP_branches_for_correspondence = [0 1]\n",
      "MP_leftover = [], MP_leftover_idx = []\n",
      " Finished with (2, 1) \n",
      "\n",
      "\n",
      "\n",
      "\n",
      "---- Working on (4, 1) connection-----\n",
      "Current stitch point was a branch or endpoint\n",
      "Connectivity was 0 for the MP mesh groups touching the vertex group so not restricting by that anymore\n",
      "sk_conn = [0 1]\n",
      "conn = []\n",
      "winning_vertex = [620306. 372375. 715277.]\n",
      "MP_branches_with_stitch_point = [0, 1]\n",
      "MAP_branches_with_stitch_point = [0]\n",
      "MAP_stitch_point_on_end_or_branch = True\n",
      "Not adjusting MP skeletons because keep_MP_stitch_static = True\n",
      "Not adjusting MP skeletons because keep_MP_stitch_static = True\n",
      "Using max stitch distance (300) for smoothing because stitch_distance greater (1159.2920253327027) \n"
     ]
    },
    {
     "name": "stderr",
     "output_type": "stream",
     "text": [
      "/meshAfterParty/preprocessing_vp2.py:1588: VisibleDeprecationWarning: Creating an ndarray from ragged nested sequences (which is a list-or-tuple of lists-or-tuples-or ndarrays with different lengths or shapes) is deprecated. If you meant to do this, you must specify 'dtype=object' when creating the ndarray\n",
      "  for k in o_keys])\n"
     ]
    },
    {
     "name": "stdout",
     "output_type": "stream",
     "text": [
      "Found winning edge: [2, 3.0]\n",
      "in remove edge\n"
     ]
    },
    {
     "data": {
      "application/vnd.jupyter.widget-view+json": {
       "model_id": "72d9ead18e594c2fa33d4b50e3de24d6",
       "version_major": 2,
       "version_minor": 0
      },
      "text/plain": [
       "HBox(children=(FloatProgress(value=1.0, bar_style='info', max=1.0), HTML(value='')))"
      ]
     },
     "metadata": {},
     "output_type": "display_data"
    },
    {
     "name": "stderr",
     "output_type": "stream",
     "text": [
      "/meshAfterParty/trimesh_utils.py:331: VisibleDeprecationWarning: Creating an ndarray from ragged nested sequences (which is a list-or-tuple of lists-or-tuples-or ndarrays with different lengths or shapes) is deprecated. If you meant to do this, you must specify 'dtype=object' when creating the ndarray\n",
      "  ordered_comp_indices = np.array([k.astype(\"int\") for k in ordered_components])\n"
     ]
    },
    {
     "name": "stdout",
     "output_type": "stream",
     "text": [
      "\n",
      "\n",
      "\n",
      "--- Working on 1-to-1 correspondence-----\n",
      "max(original_labels),len(original_labels) = (0, 1)\n",
      "empty_indices % = 0.11037796743885821\n",
      " conflict_indices % = 0.0\n"
     ]
    },
    {
     "data": {
      "application/vnd.jupyter.widget-view+json": {
       "model_id": "5baf59f0c9de4221a94d64fd90ee192e",
       "version_major": 2,
       "version_minor": 0
      },
      "text/plain": [
       "HBox(children=(FloatProgress(value=1.0, bar_style='info', max=1.0), HTML(value='')))"
      ]
     },
     "metadata": {},
     "output_type": "display_data"
    },
    {
     "name": "stdout",
     "output_type": "stream",
     "text": [
      "\n",
      "AFTER face_lookup_resolved_test\n"
     ]
    },
    {
     "data": {
      "application/vnd.jupyter.widget-view+json": {
       "model_id": "aca6747df1b649fdb2ca78a6956b1364",
       "version_major": 2,
       "version_minor": 0
      },
      "text/plain": [
       "HBox(children=(FloatProgress(value=0.0, max=1.0), HTML(value='')))"
      ]
     },
     "metadata": {},
     "output_type": "display_data"
    },
    {
     "name": "stdout",
     "output_type": "stream",
     "text": [
      "\n",
      "MP_branches_with_stitch_point= [0, 1]\n",
      "MP_branches_for_correspondence = []\n",
      "MP_leftover = [0 1], MP_leftover_idx = [0 1]\n",
      " Finished with (4, 1) \n",
      "\n",
      "\n",
      "\n",
      "\n",
      "---- Working on (5, 1) connection-----\n",
      "Current stitch point was not a branch or endpoint, shortest_path_length to one = 237.0232056149777\n",
      "Changing the stitch point becasue the distance to end or branch node was 237.0232056149777\n",
      "New stitch point has degree 1\n",
      "sk_conn = [0, 1]\n",
      "conn = [0, 1]\n"
     ]
    },
    {
     "name": "stderr",
     "output_type": "stream",
     "text": [
      "/meshAfterParty/preprocessing_vp2.py:1588: VisibleDeprecationWarning: Creating an ndarray from ragged nested sequences (which is a list-or-tuple of lists-or-tuples-or ndarrays with different lengths or shapes) is deprecated. If you meant to do this, you must specify 'dtype=object' when creating the ndarray\n",
      "  for k in o_keys])\n"
     ]
    },
    {
     "name": "stdout",
     "output_type": "stream",
     "text": [
      "winning_vertex = [663458.93794779 426034.6182999  661434.26902754]\n",
      "MP_branches_with_stitch_point = [0, 1]\n",
      "MAP_branches_with_stitch_point = [3]\n",
      "MAP_stitch_point_on_end_or_branch = True\n",
      "Using max stitch distance (300) for smoothing because stitch_distance greater (2043.1001242485122) \n",
      "Found winning edge: [202, 204.0]\n",
      "in remove edge\n",
      "Using max stitch distance (300) for smoothing because stitch_distance greater (1979.6050244161945) \n",
      "Found winning edge: [9, 10.0]\n",
      "in remove edge\n"
     ]
    },
    {
     "data": {
      "application/vnd.jupyter.widget-view+json": {
       "model_id": "f5e2fb02a10740558ca3b79742674474",
       "version_major": 2,
       "version_minor": 0
      },
      "text/plain": [
       "HBox(children=(FloatProgress(value=1.0, bar_style='info', max=1.0), HTML(value='')))"
      ]
     },
     "metadata": {},
     "output_type": "display_data"
    },
    {
     "name": "stderr",
     "output_type": "stream",
     "text": [
      "/meshAfterParty/trimesh_utils.py:331: VisibleDeprecationWarning: Creating an ndarray from ragged nested sequences (which is a list-or-tuple of lists-or-tuples-or ndarrays with different lengths or shapes) is deprecated. If you meant to do this, you must specify 'dtype=object' when creating the ndarray\n",
      "  ordered_comp_indices = np.array([k.astype(\"int\") for k in ordered_components])\n"
     ]
    },
    {
     "name": "stdout",
     "output_type": "stream",
     "text": [
      "\n",
      "\n",
      "\n",
      "--- Working on 1-to-1 correspondence-----\n",
      "max(original_labels),len(original_labels) = (2, 3)\n",
      "empty_indices % = 0.08815380265761945\n",
      " conflict_indices % = 0.027367825841108286\n"
     ]
    },
    {
     "data": {
      "application/vnd.jupyter.widget-view+json": {
       "model_id": "80c0e3c6c1e74e64bc9d7f33ce78a2f8",
       "version_major": 2,
       "version_minor": 0
      },
      "text/plain": [
       "HBox(children=(FloatProgress(value=0.0, max=19.0), HTML(value='')))"
      ]
     },
     "metadata": {},
     "output_type": "display_data"
    },
    {
     "name": "stdout",
     "output_type": "stream",
     "text": [
      "\n",
      "AFTER face_lookup_resolved_test\n"
     ]
    },
    {
     "data": {
      "application/vnd.jupyter.widget-view+json": {
       "model_id": "bdf525e7c2ab452e8094a8c8a6febe68",
       "version_major": 2,
       "version_minor": 0
      },
      "text/plain": [
       "HBox(children=(FloatProgress(value=0.0, max=3.0), HTML(value='')))"
      ]
     },
     "metadata": {},
     "output_type": "display_data"
    },
    {
     "name": "stdout",
     "output_type": "stream",
     "text": [
      "\n",
      "MP_branches_with_stitch_point= [0, 1]\n",
      "MP_branches_for_correspondence = [0 1]\n",
      "MP_leftover = [], MP_leftover_idx = []\n",
      " Finished with (5, 1) \n",
      "\n",
      "\n",
      "\n",
      "\n",
      "---- Working on (6, 1) connection-----\n",
      "Current stitch point was a branch or endpoint\n",
      "sk_conn = [0, 1]\n",
      "conn = [0, 1]\n"
     ]
    },
    {
     "name": "stderr",
     "output_type": "stream",
     "text": [
      "/meshAfterParty/preprocessing_vp2.py:1588: VisibleDeprecationWarning: Creating an ndarray from ragged nested sequences (which is a list-or-tuple of lists-or-tuples-or ndarrays with different lengths or shapes) is deprecated. If you meant to do this, you must specify 'dtype=object' when creating the ndarray\n",
      "  for k in o_keys])\n"
     ]
    },
    {
     "name": "stdout",
     "output_type": "stream",
     "text": [
      "winning_vertex = [693227.05948601 407408.1681101  660595.50593688]\n",
      "MP_branches_with_stitch_point = [0, 1]\n",
      "MAP_branches_with_stitch_point = [5]\n",
      "MAP_stitch_point_on_end_or_branch = True\n",
      "Using max stitch distance (300) for smoothing because stitch_distance greater (531.1548121850876) \n",
      "Found winning edge: [9, 10.0]\n",
      "in remove edge\n",
      "Using max stitch distance (300) for smoothing because stitch_distance greater (590.2968922196494) \n",
      "Found winning edge: [9, 10.0]\n",
      "in remove edge\n"
     ]
    },
    {
     "data": {
      "application/vnd.jupyter.widget-view+json": {
       "model_id": "b6ddd3f7ebf54dc88e52af7cefd84b08",
       "version_major": 2,
       "version_minor": 0
      },
      "text/plain": [
       "HBox(children=(FloatProgress(value=1.0, bar_style='info', max=1.0), HTML(value='')))"
      ]
     },
     "metadata": {},
     "output_type": "display_data"
    },
    {
     "name": "stderr",
     "output_type": "stream",
     "text": [
      "/meshAfterParty/trimesh_utils.py:331: VisibleDeprecationWarning: Creating an ndarray from ragged nested sequences (which is a list-or-tuple of lists-or-tuples-or ndarrays with different lengths or shapes) is deprecated. If you meant to do this, you must specify 'dtype=object' when creating the ndarray\n",
      "  ordered_comp_indices = np.array([k.astype(\"int\") for k in ordered_components])\n"
     ]
    },
    {
     "name": "stdout",
     "output_type": "stream",
     "text": [
      "\n",
      "\n",
      "\n",
      "--- Working on 1-to-1 correspondence-----\n",
      "max(original_labels),len(original_labels) = (2, 3)\n",
      "empty_indices % = 0.12499649830517971\n",
      " conflict_indices % = 0.01442698265960725\n"
     ]
    },
    {
     "data": {
      "application/vnd.jupyter.widget-view+json": {
       "model_id": "cbe7718fe50649a79939ef744959e1d0",
       "version_major": 2,
       "version_minor": 0
      },
      "text/plain": [
       "HBox(children=(FloatProgress(value=0.0, max=6.0), HTML(value='')))"
      ]
     },
     "metadata": {},
     "output_type": "display_data"
    },
    {
     "name": "stdout",
     "output_type": "stream",
     "text": [
      "\n",
      "AFTER face_lookup_resolved_test\n"
     ]
    },
    {
     "data": {
      "application/vnd.jupyter.widget-view+json": {
       "model_id": "6cda993e0b8d4d1f8d2857f952db323a",
       "version_major": 2,
       "version_minor": 0
      },
      "text/plain": [
       "HBox(children=(FloatProgress(value=0.0, max=3.0), HTML(value='')))"
      ]
     },
     "metadata": {},
     "output_type": "display_data"
    },
    {
     "name": "stdout",
     "output_type": "stream",
     "text": [
      "\n",
      "MP_branches_with_stitch_point= [0, 1]\n",
      "MP_branches_for_correspondence = [0 1]\n",
      "MP_leftover = [], MP_leftover_idx = []\n",
      " Finished with (6, 1) \n",
      "\n",
      "\n",
      "\n",
      "\n",
      "---- Working on (3, 2) connection-----\n",
      "Current stitch point was a branch or endpoint\n",
      "sk_conn = [1]\n",
      "conn = [1]\n",
      "winning_vertex = [587873. 383707. 716699.]\n",
      "MP_branches_with_stitch_point = [0, 1]\n",
      "MAP_branches_with_stitch_point = [1]\n",
      "MAP_stitch_point_on_end_or_branch = True\n",
      "Not adjusting MP skeletons because keep_MP_stitch_static = True\n",
      "Not adjusting MP skeletons because keep_MP_stitch_static = True\n",
      "Using max stitch distance (300) for smoothing because stitch_distance greater (3960.726574758727) \n",
      "Found winning edge: [1, 2.0]\n",
      "in remove edge\n"
     ]
    },
    {
     "name": "stderr",
     "output_type": "stream",
     "text": [
      "/meshAfterParty/preprocessing_vp2.py:1588: VisibleDeprecationWarning: Creating an ndarray from ragged nested sequences (which is a list-or-tuple of lists-or-tuples-or ndarrays with different lengths or shapes) is deprecated. If you meant to do this, you must specify 'dtype=object' when creating the ndarray\n",
      "  for k in o_keys])\n"
     ]
    },
    {
     "data": {
      "application/vnd.jupyter.widget-view+json": {
       "model_id": "989744f4c6914bbd8248c2c785264d26",
       "version_major": 2,
       "version_minor": 0
      },
      "text/plain": [
       "HBox(children=(FloatProgress(value=1.0, bar_style='info', max=1.0), HTML(value='')))"
      ]
     },
     "metadata": {},
     "output_type": "display_data"
    },
    {
     "name": "stderr",
     "output_type": "stream",
     "text": [
      "/meshAfterParty/trimesh_utils.py:331: VisibleDeprecationWarning: Creating an ndarray from ragged nested sequences (which is a list-or-tuple of lists-or-tuples-or ndarrays with different lengths or shapes) is deprecated. If you meant to do this, you must specify 'dtype=object' when creating the ndarray\n",
      "  ordered_comp_indices = np.array([k.astype(\"int\") for k in ordered_components])\n"
     ]
    },
    {
     "name": "stdout",
     "output_type": "stream",
     "text": [
      "\n",
      "\n",
      "\n",
      "--- Working on 1-to-1 correspondence-----\n",
      "max(original_labels),len(original_labels) = (1, 2)\n",
      "empty_indices % = 0.07616511318242343\n",
      " conflict_indices % = 0.0607190412782956\n"
     ]
    },
    {
     "data": {
      "application/vnd.jupyter.widget-view+json": {
       "model_id": "02a7d5fafab74f56877e324c24343848",
       "version_major": 2,
       "version_minor": 0
      },
      "text/plain": [
       "HBox(children=(FloatProgress(value=0.0, max=2.0), HTML(value='')))"
      ]
     },
     "metadata": {},
     "output_type": "display_data"
    },
    {
     "name": "stdout",
     "output_type": "stream",
     "text": [
      "\n",
      "AFTER face_lookup_resolved_test\n"
     ]
    },
    {
     "data": {
      "application/vnd.jupyter.widget-view+json": {
       "model_id": "8810ceb4829d4c3ea72806106f13048c",
       "version_major": 2,
       "version_minor": 0
      },
      "text/plain": [
       "HBox(children=(FloatProgress(value=0.0, max=2.0), HTML(value='')))"
      ]
     },
     "metadata": {},
     "output_type": "display_data"
    },
    {
     "name": "stdout",
     "output_type": "stream",
     "text": [
      "\n",
      "MP_branches_with_stitch_point= [0, 1]\n",
      "MP_branches_for_correspondence = [1]\n",
      "MP_leftover = [0], MP_leftover_idx = [0]\n",
      " Finished with (3, 2) \n",
      "\n",
      "\n",
      "\n",
      "Time for decomp of Limb = 162.39686036109924\n",
      "\n",
      "\n",
      "----- Working on Proper Limb # 2 ---------\n",
      "meshparty_segment_size = 100\n",
      "Time for preparing soma vertices and root: 5.9604644775390625e-06\n",
      "cc_vertex_thresh = 10\n"
     ]
    },
    {
     "name": "stderr",
     "output_type": "stream",
     "text": [
      "\r",
      "  0%|          | 0/1 [00:00<?, ?it/s]"
     ]
    },
    {
     "data": {
      "application/vnd.jupyter.widget-view+json": {
       "model_id": "ad801cd332744cafaf1fa037d677bd94",
       "version_major": 2,
       "version_minor": 0
      },
      "text/plain": [
       "HBox(children=(FloatProgress(value=0.0, max=70727.0), HTML(value='')))"
      ]
     },
     "metadata": {},
     "output_type": "display_data"
    },
    {
     "name": "stderr",
     "output_type": "stream",
     "text": [
      "100%|██████████| 1/1 [00:01<00:00,  1.22s/it]"
     ]
    },
    {
     "name": "stdout",
     "output_type": "stream",
     "text": [
      "\n"
     ]
    },
    {
     "name": "stderr",
     "output_type": "stream",
     "text": [
      "\n"
     ]
    },
    {
     "name": "stdout",
     "output_type": "stream",
     "text": [
      "Time for 1st pass MP skeletonization: 1.9583978652954102\n",
      "connecting at the root\n",
      "branches_touching_root = [32]\n"
     ]
    },
    {
     "name": "stderr",
     "output_type": "stream",
     "text": [
      "/meshAfterParty/meshparty_skeletonize.py:895: VisibleDeprecationWarning: Creating an ndarray from ragged nested sequences (which is a list-or-tuple of lists-or-tuples-or ndarrays with different lengths or shapes) is deprecated. If you meant to do this, you must specify 'dtype=object' when creating the ndarray\n",
      "  segment_branches = np.array([sk_meshparty_obj.vertices[np.vstack([k[:-1],k[1:]]).T] for k in segments])\n",
      "/meshAfterParty/meshparty_skeletonize.py:933: VisibleDeprecationWarning: Creating an ndarray from ragged nested sequences (which is a list-or-tuple of lists-or-tuples-or ndarrays with different lengths or shapes) is deprecated. If you meant to do this, you must specify 'dtype=object' when creating the ndarray\n",
      "  new_segment_branches = np.array([sk_meshparty_obj.vertices[np.vstack([k[:-1],k[1:]]).T] for k in new_segments])\n",
      "/meshAfterParty/meshparty_skeletonize.py:965: VisibleDeprecationWarning: Creating an ndarray from ragged nested sequences (which is a list-or-tuple of lists-or-tuples-or ndarrays with different lengths or shapes) is deprecated. If you meant to do this, you must specify 'dtype=object' when creating the ndarray\n",
      "  segment_branches = np.array(new_segment_branches)\n"
     ]
    },
    {
     "name": "stdout",
     "output_type": "stream",
     "text": [
      "length of Graph = 9279\n"
     ]
    },
    {
     "name": "stderr",
     "output_type": "stream",
     "text": [
      "/meshAfterParty/meshparty_skeletonize.py:990: VisibleDeprecationWarning: Creating an ndarray from ragged nested sequences (which is a list-or-tuple of lists-or-tuples-or ndarrays with different lengths or shapes) is deprecated. If you meant to do this, you must specify 'dtype=object' when creating the ndarray\n",
      "  segment_branches_filtered = np.array(segment_branches_filtered)\n"
     ]
    },
    {
     "name": "stdout",
     "output_type": "stream",
     "text": [
      "max(kept_branches_idx) = 32, len(kept_branches_idx) = 33\n",
      "empty_indices % = 0.0\n",
      " conflict_indices % = 0.009119294245923577\n"
     ]
    },
    {
     "name": "stderr",
     "output_type": "stream",
     "text": [
      "/meshAfterParty/trimesh_utils.py:331: VisibleDeprecationWarning: Creating an ndarray from ragged nested sequences (which is a list-or-tuple of lists-or-tuples-or ndarrays with different lengths or shapes) is deprecated. If you meant to do this, you must specify 'dtype=object' when creating the ndarray\n",
      "  ordered_comp_indices = np.array([k.astype(\"int\") for k in ordered_components])\n"
     ]
    },
    {
     "data": {
      "application/vnd.jupyter.widget-view+json": {
       "model_id": "f65402842932441fbf25009c383eab24",
       "version_major": 2,
       "version_minor": 0
      },
      "text/plain": [
       "HBox(children=(FloatProgress(value=0.0, max=15.0), HTML(value='')))"
      ]
     },
     "metadata": {},
     "output_type": "display_data"
    },
    {
     "name": "stdout",
     "output_type": "stream",
     "text": [
      "\n",
      "AFTER face_lookup_resolved_test\n"
     ]
    },
    {
     "data": {
      "application/vnd.jupyter.widget-view+json": {
       "model_id": "bd4ea8ae7384484796243ef2c9d3ceb9",
       "version_major": 2,
       "version_minor": 0
      },
      "text/plain": [
       "HBox(children=(FloatProgress(value=0.0, max=33.0), HTML(value='')))"
      ]
     },
     "metadata": {},
     "output_type": "display_data"
    },
    {
     "name": "stdout",
     "output_type": "stream",
     "text": [
      "\n",
      "Decomposing first pass: 6.554383754730225\n",
      "Attempting to use MeshAfterParty Skeletonization and Mesh Correspondence\n",
      "Another print\n",
      "Found len(mesh_large_idx) MAP candidates: [2166, 6009, 5143, 560, 5972, 1209, 1675, 2419, 1275, 16541, 8857, 2335]\n"
     ]
    },
    {
     "name": "stderr",
     "output_type": "stream",
     "text": [
      "/meshAfterParty/trimesh_utils.py:996: VisibleDeprecationWarning: Creating an ndarray from ragged nested sequences (which is a list-or-tuple of lists-or-tuples-or ndarrays with different lengths or shapes) is deprecated. If you meant to do this, you must specify 'dtype=object' when creating the ndarray\n",
      "  total_submeshes_idx =np.array(list(total_submeshes_idx.values()))\n"
     ]
    },
    {
     "name": "stdout",
     "output_type": "stream",
     "text": [
      "mesh_large_connectivity: 0.17862868309020996\n",
      "Finding MAP candidates connected components: 0.00019311904907226562\n",
      "len(filtered_pieces) = 1\n",
      "skeleton_connectivity_MP : 0.2915618419647217\n",
      "Grouping MP Sublimbs by Graph: 0.05213046073913574\n",
      "Divinding into MP and MAP pieces: 9.5367431640625e-07\n",
      "--- Working on MAP piece 0---\n",
      "MAP Filtering Soma Pieces: 0.0062830448150634766\n",
      "inside skeletonize_connected_branch and use_surface_after_CGAL=False, surface_reconstruction_size=1000\n",
      "     Starting Screened Poisson\n",
      "xvfb-run -n 2797 -s \"-screen 0 800x600x24\" meshlabserver $@  -i /notebooks/Platinum_Decomp_Fusion/temp/None.off -o /notebooks/Platinum_Decomp_Fusion/temp/None_poisson.off -s /notebooks/Platinum_Decomp_Fusion/temp/poisson_681564.mls\n",
      "removed temporary input file: /notebooks/Platinum_Decomp_Fusion/temp/None.off\n",
      "removed temporary output file: /notebooks/Platinum_Decomp_Fusion/temp/None_poisson.off\n",
      "Using the close holes feature\n",
      "xvfb-run -n 6007 -s \"-screen 0 800x600x24\" meshlabserver $@  -i /notebooks/Platinum_Decomp_Fusion/temp/neuron_26425.off -o /notebooks/Platinum_Decomp_Fusion/temp/neuron_26425_fill_holes.off -s /notebooks/Platinum_Decomp_Fusion/temp/fill_holes_220112.mls\n",
      "removed temporary input file: /notebooks/Platinum_Decomp_Fusion/temp/neuron_26425.off\n",
      "removed temporary output file: /notebooks/Platinum_Decomp_Fusion/temp/neuron_26425_fill_holes.off\n",
      "-----Time for Screened Poisson= 16.320116758346558\n",
      "     Starting Calcification\n"
     ]
    },
    {
     "data": {
      "application/vnd.jupyter.widget-view+json": {
       "model_id": "653ced6114bb4840b5ffc745f0731f00",
       "version_major": 2,
       "version_minor": 0
      },
      "text/plain": [
       "HBox(children=(FloatProgress(value=1.0, bar_style='info', max=1.0), HTML(value='')))"
      ]
     },
     "metadata": {},
     "output_type": "display_data"
    },
    {
     "name": "stdout",
     "output_type": "stream",
     "text": [
      "\n",
      "No skeletons to stack so returning empty list\n",
      "len_subgraphs AT BEGINNING of the loop\n"
     ]
    },
    {
     "data": {
      "application/vnd.jupyter.widget-view+json": {
       "model_id": "f7ccc8af8bc449f9bf63b55df6ab5499",
       "version_major": 2,
       "version_minor": 0
      },
      "text/plain": [
       "HBox(children=(FloatProgress(value=0.0, max=1.0), HTML(value='')))"
      ]
     },
     "metadata": {},
     "output_type": "display_data"
    },
    {
     "name": "stdout",
     "output_type": "stream",
     "text": [
      "all graph is one component!\n",
      "\n",
      "Total time for skeleton stitching = 0.0418543815612793\n",
      "The process was using a temp folder\n",
      "Checking connected components after skeletonize_connected_branch\n",
      "    Total time for skeletonizing branch: 20.22753405570984\n",
      "Checking connected components after removing cycles\n",
      "Total time for mesh KDTree = 0.3663179874420166\n",
      "sbv[0].reshape(-1,3) = [[581007.  535993.5 713769. ]]\n",
      "closest_sk_pt_coord BEFORE = [581364. 536420. 714562.]\n",
      "current_skeleton.shape = (645, 2, 3)\n",
      "Current stitch point was a branch or endpoint\n",
      "change_status for create soma extending pieces = False\n",
      "closest_sk_pt_coord AFTER = [581364. 536420. 714562.]\n",
      "skipping soma 1 because closest skeleton node was already end node\n",
      "endpoints_must_keep = {1: array([[581364., 536420., 714562.]])}\n",
      "    Total time for Fixing Skeleton Soma Endpoint Extension : 0.5685243606567383\n",
      "filter_end_node_length = 1500\n",
      "Using Distance measure skeletal_distance\n",
      "endpoints_must_keep = [[581364. 536420. 714562.]]\n",
      "Number of end_nodes BEFORE filtering = 12\n",
      "all_single_nodes_to_eliminate = [5]\n"
     ]
    },
    {
     "data": {
      "application/vnd.jupyter.widget-view+json": {
       "model_id": "f02896b86f464c84bbadebb88136d8c2",
       "version_major": 2,
       "version_minor": 0
      },
      "text/plain": [
       "HBox(children=(FloatProgress(value=0.0, max=6.0), HTML(value='')))"
      ]
     },
     "metadata": {},
     "output_type": "display_data"
    },
    {
     "name": "stdout",
     "output_type": "stream",
     "text": [
      "\n",
      "Checking connected components after clean_skeleton\n",
      "after DISTANCE cleaning limb size of skeleton = (637, 2, 3)\n",
      "********COMBINING CLOSE SKELETON NODES WITHIN 700 DISTANCE**********\n",
      "Found 0 valid paths to replace\n",
      "valid_paths = []\n",
      "valid_path_lengths = []\n",
      "No valid paths found so just returning the original\n",
      "skeletonize_and_clean_connected_branch_CGAL: 21.2734432220459\n",
      "Working on limb correspondence for #0 MAP piece\n"
     ]
    },
    {
     "data": {
      "application/vnd.jupyter.widget-view+json": {
       "model_id": "ca9acd6e68d94438b25fa158733319fc",
       "version_major": 2,
       "version_minor": 0
      },
      "text/plain": [
       "HBox(children=(FloatProgress(value=1.0, bar_style='info', max=1.0), HTML(value='')))"
      ]
     },
     "metadata": {},
     "output_type": "display_data"
    },
    {
     "name": "stdout",
     "output_type": "stream",
     "text": [
      "\n",
      "Total time for decomposition = 8.124510049819946\n",
      "mesh_correspondence_first_pass: 8.124544620513916\n",
      "Limb decomposed into 9 branches\n",
      "divided_skeleton_graph_recovered = (637, 2, 3) and \n",
      "current_mesh_data[0]['branch_skeletons_cleaned'].shape = (637, 2, 3)\n",
      "\n",
      "Number of connected components in deocmposed recovered graph = 1\n",
      "Number of connected components in cleaned skeleton graph= 1\n",
      "The downsampled branches number of connected components = 1\n",
      "Empty submeshes = []\n",
      "\n",
      "\n",
      "--- Working on 1-to-1 correspondence-----\n",
      "max(original_labels),len(original_labels) = (8, 9)\n",
      "empty_indices % = 0.01613707280146231\n",
      " conflict_indices % = 0.018241908384261738\n"
     ]
    },
    {
     "data": {
      "application/vnd.jupyter.widget-view+json": {
       "model_id": "b57b9847fced4d63b4e6ceb4a29894b9",
       "version_major": 2,
       "version_minor": 0
      },
      "text/plain": [
       "HBox(children=(FloatProgress(value=0.0, max=13.0), HTML(value='')))"
      ]
     },
     "metadata": {},
     "output_type": "display_data"
    },
    {
     "name": "stdout",
     "output_type": "stream",
     "text": [
      "\n",
      "AFTER face_lookup_resolved_test\n",
      "Took 0 iterations to expand the label back\n",
      "empty_indices % = 0.0\n",
      " conflict_indices % = 0.0\n"
     ]
    },
    {
     "data": {
      "application/vnd.jupyter.widget-view+json": {
       "model_id": "f60e544131494e90b80c38a03b162672",
       "version_major": 2,
       "version_minor": 0
      },
      "text/plain": [
       "HBox(children=(FloatProgress(value=1.0, bar_style='info', max=1.0), HTML(value='')))"
      ]
     },
     "metadata": {},
     "output_type": "display_data"
    },
    {
     "name": "stdout",
     "output_type": "stream",
     "text": [
      "\n",
      "AFTER face_lookup_resolved_test\n"
     ]
    },
    {
     "data": {
      "application/vnd.jupyter.widget-view+json": {
       "model_id": "a5b7d33a14814bd6813f48955e1bc146",
       "version_major": 2,
       "version_minor": 0
      },
      "text/plain": [
       "HBox(children=(FloatProgress(value=0.0, max=9.0), HTML(value='')))"
      ]
     },
     "metadata": {},
     "output_type": "display_data"
    },
    {
     "name": "stdout",
     "output_type": "stream",
     "text": [
      "\n",
      "Total time for MAP sublimb #0 mesh processing = 33.14590382575989\n",
      "correspondence_1_to_1: 3.74174165725708\n",
      "Total time for MAP sublimb processing 33.14620018005371\n",
      "---- Working on MP Decomposition #0 ----\n",
      "Computing the current soma touching verts dict manually\n",
      "MP filtering soma verts: 0.00257110595703125\n",
      "Do Not Need to Fix MP Decomposition 0 so just continuing\n",
      "---- Working on MP Decomposition #1 ----\n",
      "Computing the current soma touching verts dict manually\n",
      "MP filtering soma verts: 0.002913236618041992\n",
      "Do Not Need to Fix MP Decomposition 1 so just continuing\n",
      "---- Working on MP Decomposition #2 ----\n",
      "Computing the current soma touching verts dict manually\n",
      "MP filtering soma verts: 0.002943277359008789\n",
      "Do Not Need to Fix MP Decomposition 2 so just continuing\n",
      "---- Working on MP Decomposition #3 ----\n",
      "Computing the current soma touching verts dict manually\n",
      "MP filtering soma verts: 0.0029587745666503906\n",
      "Do Not Need to Fix MP Decomposition 3 so just continuing\n",
      "---- Working on MP Decomposition #4 ----\n",
      "Computing the current soma touching verts dict manually\n",
      "MP filtering soma verts: 0.004524707794189453\n",
      "Do Not Need to Fix MP Decomposition 4 so just continuing\n",
      "---- Working on MP Decomposition #5 ----\n",
      "Computing the current soma touching verts dict manually\n",
      "MP filtering soma verts: 0.0032279491424560547\n",
      "Do Not Need to Fix MP Decomposition 5 so just continuing\n",
      "---- Working on MP Decomposition #6 ----\n",
      "Computing the current soma touching verts dict manually\n",
      "MP filtering soma verts: 0.0029611587524414062\n",
      "Do Not Need to Fix MP Decomposition 6 so just continuing\n",
      "---- Working on MP Decomposition #7 ----\n",
      "Computing the current soma touching verts dict manually\n",
      "MP filtering soma verts: 0.0029778480529785156\n",
      "Do Not Need to Fix MP Decomposition 7 so just continuing\n",
      "\n",
      "---- Working on (0, 0) connection-----\n",
      "Current stitch point was a branch or endpoint\n",
      "sk_conn = [0, 1]\n",
      "conn = [0, 1]\n",
      "winning_vertex = [635260.99961218 571884.67538752 722528.48653684]\n",
      "MP_branches_with_stitch_point = [0, 1]\n",
      "MAP_branches_with_stitch_point = [8]\n",
      "MAP_stitch_point_on_end_or_branch = True\n",
      "Using max stitch distance (300) for smoothing because stitch_distance greater (567.1677185686921) \n"
     ]
    },
    {
     "name": "stderr",
     "output_type": "stream",
     "text": [
      "/meshAfterParty/preprocessing_vp2.py:1588: VisibleDeprecationWarning: Creating an ndarray from ragged nested sequences (which is a list-or-tuple of lists-or-tuples-or ndarrays with different lengths or shapes) is deprecated. If you meant to do this, you must specify 'dtype=object' when creating the ndarray\n",
      "  for k in o_keys])\n"
     ]
    },
    {
     "name": "stdout",
     "output_type": "stream",
     "text": [
      "Found winning edge: [9, 10.0]\n",
      "in remove edge\n",
      "Using max stitch distance (300) for smoothing because stitch_distance greater (713.3278063435379) \n",
      "Found winning edge: [9, 10.0]\n",
      "in remove edge\n"
     ]
    },
    {
     "data": {
      "application/vnd.jupyter.widget-view+json": {
       "model_id": "964658e038f147088a4d351cfc805be7",
       "version_major": 2,
       "version_minor": 0
      },
      "text/plain": [
       "HBox(children=(FloatProgress(value=1.0, bar_style='info', max=1.0), HTML(value='')))"
      ]
     },
     "metadata": {},
     "output_type": "display_data"
    },
    {
     "name": "stderr",
     "output_type": "stream",
     "text": [
      "/meshAfterParty/trimesh_utils.py:331: VisibleDeprecationWarning: Creating an ndarray from ragged nested sequences (which is a list-or-tuple of lists-or-tuples-or ndarrays with different lengths or shapes) is deprecated. If you meant to do this, you must specify 'dtype=object' when creating the ndarray\n",
      "  ordered_comp_indices = np.array([k.astype(\"int\") for k in ordered_components])\n"
     ]
    },
    {
     "name": "stdout",
     "output_type": "stream",
     "text": [
      "\n",
      "\n",
      "\n",
      "--- Working on 1-to-1 correspondence-----\n",
      "max(original_labels),len(original_labels) = (2, 3)\n",
      "empty_indices % = 0.005029662109878773\n",
      " conflict_indices % = 0.009887369959590749\n"
     ]
    },
    {
     "data": {
      "application/vnd.jupyter.widget-view+json": {
       "model_id": "0045b03eaa32417aa5afbc591b254e09",
       "version_major": 2,
       "version_minor": 0
      },
      "text/plain": [
       "HBox(children=(FloatProgress(value=0.0, max=6.0), HTML(value='')))"
      ]
     },
     "metadata": {},
     "output_type": "display_data"
    },
    {
     "name": "stdout",
     "output_type": "stream",
     "text": [
      "\n",
      "AFTER face_lookup_resolved_test\n"
     ]
    },
    {
     "data": {
      "application/vnd.jupyter.widget-view+json": {
       "model_id": "dd6cbf6a2fed42328ada236fbdd22ea9",
       "version_major": 2,
       "version_minor": 0
      },
      "text/plain": [
       "HBox(children=(FloatProgress(value=0.0, max=3.0), HTML(value='')))"
      ]
     },
     "metadata": {},
     "output_type": "display_data"
    },
    {
     "name": "stdout",
     "output_type": "stream",
     "text": [
      "\n",
      "MP_branches_with_stitch_point= [0, 1]\n",
      "MP_branches_for_correspondence = [0 1]\n",
      "MP_leftover = [], MP_leftover_idx = []\n",
      " Finished with (0, 0) \n",
      "\n",
      "\n",
      "\n",
      "\n",
      "---- Working on (1, 0) connection-----\n",
      "Current stitch point was a branch or endpoint\n",
      "sk_conn = [0, 1]\n",
      "conn = [0, 1]\n",
      "winning_vertex = [647821.73617957 562622.56640732 738477.33712528]\n",
      "MP_branches_with_stitch_point = [0, 1]\n",
      "MAP_branches_with_stitch_point = [7]\n",
      "MAP_stitch_point_on_end_or_branch = True\n",
      "Using max stitch distance (300) for smoothing because stitch_distance greater (637.5440821047018) \n"
     ]
    },
    {
     "name": "stderr",
     "output_type": "stream",
     "text": [
      "/meshAfterParty/preprocessing_vp2.py:1588: VisibleDeprecationWarning: Creating an ndarray from ragged nested sequences (which is a list-or-tuple of lists-or-tuples-or ndarrays with different lengths or shapes) is deprecated. If you meant to do this, you must specify 'dtype=object' when creating the ndarray\n",
      "  for k in o_keys])\n"
     ]
    },
    {
     "name": "stdout",
     "output_type": "stream",
     "text": [
      "Found winning edge: [9, 10.0]\n",
      "in remove edge\n",
      "Using max stitch distance (300) for smoothing because stitch_distance greater (505.1235610046758) \n",
      "Found winning edge: [9, 10.0]\n",
      "in remove edge\n"
     ]
    },
    {
     "data": {
      "application/vnd.jupyter.widget-view+json": {
       "model_id": "6d072e3bd29149fc9ec0daf6f76334b0",
       "version_major": 2,
       "version_minor": 0
      },
      "text/plain": [
       "HBox(children=(FloatProgress(value=1.0, bar_style='info', max=1.0), HTML(value='')))"
      ]
     },
     "metadata": {},
     "output_type": "display_data"
    },
    {
     "name": "stderr",
     "output_type": "stream",
     "text": [
      "/meshAfterParty/trimesh_utils.py:331: VisibleDeprecationWarning: Creating an ndarray from ragged nested sequences (which is a list-or-tuple of lists-or-tuples-or ndarrays with different lengths or shapes) is deprecated. If you meant to do this, you must specify 'dtype=object' when creating the ndarray\n",
      "  ordered_comp_indices = np.array([k.astype(\"int\") for k in ordered_components])\n"
     ]
    },
    {
     "name": "stdout",
     "output_type": "stream",
     "text": [
      "\n",
      "\n",
      "\n",
      "--- Working on 1-to-1 correspondence-----\n",
      "max(original_labels),len(original_labels) = (2, 3)\n",
      "empty_indices % = 0.032612427051150014\n",
      " conflict_indices % = 0.013250944043940954\n"
     ]
    },
    {
     "data": {
      "application/vnd.jupyter.widget-view+json": {
       "model_id": "6f20d0c47ea3422cb48eb4db3c60a364",
       "version_major": 2,
       "version_minor": 0
      },
      "text/plain": [
       "HBox(children=(FloatProgress(value=0.0, max=2.0), HTML(value='')))"
      ]
     },
     "metadata": {},
     "output_type": "display_data"
    },
    {
     "name": "stdout",
     "output_type": "stream",
     "text": [
      "\n",
      "AFTER face_lookup_resolved_test\n"
     ]
    },
    {
     "data": {
      "application/vnd.jupyter.widget-view+json": {
       "model_id": "c86e0913e5ba45aaa453596ca87d4bbf",
       "version_major": 2,
       "version_minor": 0
      },
      "text/plain": [
       "HBox(children=(FloatProgress(value=0.0, max=3.0), HTML(value='')))"
      ]
     },
     "metadata": {},
     "output_type": "display_data"
    },
    {
     "name": "stdout",
     "output_type": "stream",
     "text": [
      "\n",
      "MP_branches_with_stitch_point= [0, 1]\n",
      "MP_branches_for_correspondence = [0 1]\n",
      "MP_leftover = [], MP_leftover_idx = []\n",
      " Finished with (1, 0) \n",
      "\n",
      "\n",
      "\n",
      "\n",
      "---- Working on (2, 0) connection-----\n",
      "Current stitch point was not a branch or endpoint, shortest_path_length to one = 1927.0128788349698\n",
      "sk_conn = [1]\n",
      "conn = [1]\n",
      "winning_vertex = [582257.74400815 542942.95849255 716115.36487915]\n",
      "MP_branches_with_stitch_point = [1]\n",
      "MAP_branches_with_stitch_point = [5]\n",
      "MAP_stitch_point_on_end_or_branch = False\n",
      "Using max stitch distance (300) for smoothing because stitch_distance greater (1249.2967847083773) \n",
      "Found winning edge: [9, 11.0]\n",
      "in remove edge\n"
     ]
    },
    {
     "name": "stderr",
     "output_type": "stream",
     "text": [
      "/meshAfterParty/preprocessing_vp2.py:1588: VisibleDeprecationWarning: Creating an ndarray from ragged nested sequences (which is a list-or-tuple of lists-or-tuples-or ndarrays with different lengths or shapes) is deprecated. If you meant to do this, you must specify 'dtype=object' when creating the ndarray\n",
      "  for k in o_keys])\n"
     ]
    },
    {
     "data": {
      "application/vnd.jupyter.widget-view+json": {
       "model_id": "1252bde2f9ef452b91ead45e39394109",
       "version_major": 2,
       "version_minor": 0
      },
      "text/plain": [
       "HBox(children=(FloatProgress(value=1.0, bar_style='info', max=1.0), HTML(value='')))"
      ]
     },
     "metadata": {},
     "output_type": "display_data"
    },
    {
     "name": "stderr",
     "output_type": "stream",
     "text": [
      "/meshAfterParty/trimesh_utils.py:331: VisibleDeprecationWarning: Creating an ndarray from ragged nested sequences (which is a list-or-tuple of lists-or-tuples-or ndarrays with different lengths or shapes) is deprecated. If you meant to do this, you must specify 'dtype=object' when creating the ndarray\n",
      "  ordered_comp_indices = np.array([k.astype(\"int\") for k in ordered_components])\n"
     ]
    },
    {
     "name": "stdout",
     "output_type": "stream",
     "text": [
      "\n",
      "\n",
      "\n",
      "--- Working on 1-to-1 correspondence-----\n",
      "max(original_labels),len(original_labels) = (1, 2)\n",
      "empty_indices % = 0.07272106520996928\n",
      " conflict_indices % = 0.026630249231819735\n"
     ]
    },
    {
     "data": {
      "application/vnd.jupyter.widget-view+json": {
       "model_id": "1b17d93d9cf54214affe9abbc2e9d8c8",
       "version_major": 2,
       "version_minor": 0
      },
      "text/plain": [
       "HBox(children=(FloatProgress(value=0.0, max=4.0), HTML(value='')))"
      ]
     },
     "metadata": {},
     "output_type": "display_data"
    },
    {
     "name": "stdout",
     "output_type": "stream",
     "text": [
      "\n",
      "AFTER face_lookup_resolved_test\n"
     ]
    },
    {
     "data": {
      "application/vnd.jupyter.widget-view+json": {
       "model_id": "dec9dee2741a4e63b9d1b4d078611d71",
       "version_major": 2,
       "version_minor": 0
      },
      "text/plain": [
       "HBox(children=(FloatProgress(value=0.0, max=2.0), HTML(value='')))"
      ]
     },
     "metadata": {},
     "output_type": "display_data"
    },
    {
     "name": "stdout",
     "output_type": "stream",
     "text": [
      "\n"
     ]
    },
    {
     "data": {
      "application/vnd.jupyter.widget-view+json": {
       "model_id": "e9e6494afc4b4e3e92e100cf1ee02977",
       "version_major": 2,
       "version_minor": 0
      },
      "text/plain": [
       "HBox(children=(FloatProgress(value=1.0, bar_style='info', max=1.0), HTML(value='')))"
      ]
     },
     "metadata": {},
     "output_type": "display_data"
    },
    {
     "name": "stdout",
     "output_type": "stream",
     "text": [
      "\n",
      "\n",
      "\n",
      "--- Working on 1-to-1 correspondence-----\n",
      "max(original_labels),len(original_labels) = (2, 3)\n",
      "empty_indices % = 0.10863016126174022\n",
      " conflict_indices % = 0.04040404040404041\n"
     ]
    },
    {
     "data": {
      "application/vnd.jupyter.widget-view+json": {
       "model_id": "10d21f9afd57415baf69da3999714b68",
       "version_major": 2,
       "version_minor": 0
      },
      "text/plain": [
       "HBox(children=(FloatProgress(value=0.0, max=2.0), HTML(value='')))"
      ]
     },
     "metadata": {},
     "output_type": "display_data"
    },
    {
     "name": "stdout",
     "output_type": "stream",
     "text": [
      "\n",
      "AFTER face_lookup_resolved_test\n"
     ]
    },
    {
     "data": {
      "application/vnd.jupyter.widget-view+json": {
       "model_id": "08945af93f124d12ad4d95e121d1c9d0",
       "version_major": 2,
       "version_minor": 0
      },
      "text/plain": [
       "HBox(children=(FloatProgress(value=0.0, max=3.0), HTML(value='')))"
      ]
     },
     "metadata": {},
     "output_type": "display_data"
    },
    {
     "name": "stdout",
     "output_type": "stream",
     "text": [
      "\n",
      "Deleting branches from dictionary\n",
      "MP_branches_with_stitch_point= [1]\n",
      "MP_branches_for_correspondence = [1]\n",
      "MP_leftover = [], MP_leftover_idx = []\n",
      " Finished with (2, 0) \n",
      "\n",
      "\n",
      "\n",
      "\n",
      "---- Working on (3, 0) connection-----\n",
      "Current stitch point was a branch or endpoint\n",
      "sk_conn = [0, 1]\n",
      "conn = [0, 1]\n",
      "winning_vertex = [569064.08990472 550671.18107353 743907.66991228]\n",
      "MP_branches_with_stitch_point = [0, 1]\n",
      "MAP_branches_with_stitch_point = [1]\n",
      "MAP_stitch_point_on_end_or_branch = True\n",
      "Using max stitch distance (300) for smoothing because stitch_distance greater (2696.499884499994) \n"
     ]
    },
    {
     "name": "stderr",
     "output_type": "stream",
     "text": [
      "/meshAfterParty/preprocessing_vp2.py:1588: VisibleDeprecationWarning: Creating an ndarray from ragged nested sequences (which is a list-or-tuple of lists-or-tuples-or ndarrays with different lengths or shapes) is deprecated. If you meant to do this, you must specify 'dtype=object' when creating the ndarray\n",
      "  for k in o_keys])\n"
     ]
    },
    {
     "name": "stdout",
     "output_type": "stream",
     "text": [
      "Found winning edge: [218, 221.0]\n",
      "in remove edge\n",
      "Using max stitch distance (300) for smoothing because stitch_distance greater (2732.0928719534936) \n",
      "Found winning edge: [347, 348.0]\n",
      "in remove edge\n"
     ]
    },
    {
     "data": {
      "application/vnd.jupyter.widget-view+json": {
       "model_id": "10dd039375b641f2b5ff01a4d40ab4de",
       "version_major": 2,
       "version_minor": 0
      },
      "text/plain": [
       "HBox(children=(FloatProgress(value=1.0, bar_style='info', max=1.0), HTML(value='')))"
      ]
     },
     "metadata": {},
     "output_type": "display_data"
    },
    {
     "name": "stderr",
     "output_type": "stream",
     "text": [
      "/meshAfterParty/trimesh_utils.py:331: VisibleDeprecationWarning: Creating an ndarray from ragged nested sequences (which is a list-or-tuple of lists-or-tuples-or ndarrays with different lengths or shapes) is deprecated. If you meant to do this, you must specify 'dtype=object' when creating the ndarray\n",
      "  ordered_comp_indices = np.array([k.astype(\"int\") for k in ordered_components])\n"
     ]
    },
    {
     "name": "stdout",
     "output_type": "stream",
     "text": [
      "\n",
      "\n",
      "\n",
      "--- Working on 1-to-1 correspondence-----\n",
      "max(original_labels),len(original_labels) = (2, 3)\n",
      "empty_indices % = 0.011514052583862193\n",
      " conflict_indices % = 0.021758839528558477\n"
     ]
    },
    {
     "data": {
      "application/vnd.jupyter.widget-view+json": {
       "model_id": "e470e773c1a44b8bbd34a40d44712c33",
       "version_major": 2,
       "version_minor": 0
      },
      "text/plain": [
       "HBox(children=(FloatProgress(value=0.0, max=4.0), HTML(value='')))"
      ]
     },
     "metadata": {},
     "output_type": "display_data"
    },
    {
     "name": "stdout",
     "output_type": "stream",
     "text": [
      "\n",
      "AFTER face_lookup_resolved_test\n"
     ]
    },
    {
     "data": {
      "application/vnd.jupyter.widget-view+json": {
       "model_id": "43ea5c4592884797acff7017cbd60c90",
       "version_major": 2,
       "version_minor": 0
      },
      "text/plain": [
       "HBox(children=(FloatProgress(value=0.0, max=3.0), HTML(value='')))"
      ]
     },
     "metadata": {},
     "output_type": "display_data"
    },
    {
     "name": "stdout",
     "output_type": "stream",
     "text": [
      "\n",
      "MP_branches_with_stitch_point= [0, 1]\n",
      "MP_branches_for_correspondence = [0 1]\n",
      "MP_leftover = [], MP_leftover_idx = []\n",
      " Finished with (3, 0) \n",
      "\n",
      "\n",
      "\n",
      "\n",
      "---- Working on (4, 0) connection-----\n",
      "Current stitch point was a branch or endpoint\n",
      "sk_conn = [0, 1]\n",
      "conn = [0, 1]\n",
      "winning_vertex = [488679.35577616 551972.54011543 729107.97409789]\n",
      "MP_branches_with_stitch_point = [0, 1]\n",
      "MAP_branches_with_stitch_point = [0]\n",
      "MAP_stitch_point_on_end_or_branch = True\n",
      "Using max stitch distance (300) for smoothing because stitch_distance greater (466.8735418120845) \n"
     ]
    },
    {
     "name": "stderr",
     "output_type": "stream",
     "text": [
      "/meshAfterParty/preprocessing_vp2.py:1588: VisibleDeprecationWarning: Creating an ndarray from ragged nested sequences (which is a list-or-tuple of lists-or-tuples-or ndarrays with different lengths or shapes) is deprecated. If you meant to do this, you must specify 'dtype=object' when creating the ndarray\n",
      "  for k in o_keys])\n"
     ]
    },
    {
     "name": "stdout",
     "output_type": "stream",
     "text": [
      "Found winning edge: [299, 300.0]\n",
      "in remove edge\n",
      "Using max stitch distance (300) for smoothing because stitch_distance greater (378.9924770289099) \n",
      "Found winning edge: [140, 142.0]\n",
      "in remove edge\n"
     ]
    },
    {
     "data": {
      "application/vnd.jupyter.widget-view+json": {
       "model_id": "de4addd6feea46aa8ec417687b860aea",
       "version_major": 2,
       "version_minor": 0
      },
      "text/plain": [
       "HBox(children=(FloatProgress(value=1.0, bar_style='info', max=1.0), HTML(value='')))"
      ]
     },
     "metadata": {},
     "output_type": "display_data"
    },
    {
     "name": "stderr",
     "output_type": "stream",
     "text": [
      "/meshAfterParty/trimesh_utils.py:331: VisibleDeprecationWarning: Creating an ndarray from ragged nested sequences (which is a list-or-tuple of lists-or-tuples-or ndarrays with different lengths or shapes) is deprecated. If you meant to do this, you must specify 'dtype=object' when creating the ndarray\n",
      "  ordered_comp_indices = np.array([k.astype(\"int\") for k in ordered_components])\n"
     ]
    },
    {
     "name": "stdout",
     "output_type": "stream",
     "text": [
      "\n",
      "\n",
      "\n",
      "--- Working on 1-to-1 correspondence-----\n",
      "max(original_labels),len(original_labels) = (2, 3)\n",
      "empty_indices % = 0.007561769102259738\n",
      " conflict_indices % = 0.006814384946803834\n"
     ]
    },
    {
     "data": {
      "application/vnd.jupyter.widget-view+json": {
       "model_id": "a1ae2ff8b92c49dc995532a56e47acb9",
       "version_major": 2,
       "version_minor": 0
      },
      "text/plain": [
       "HBox(children=(FloatProgress(value=0.0, max=3.0), HTML(value='')))"
      ]
     },
     "metadata": {},
     "output_type": "display_data"
    },
    {
     "name": "stdout",
     "output_type": "stream",
     "text": [
      "\n",
      "AFTER face_lookup_resolved_test\n"
     ]
    },
    {
     "data": {
      "application/vnd.jupyter.widget-view+json": {
       "model_id": "17d40a4b52074054a68e06936c35d4a4",
       "version_major": 2,
       "version_minor": 0
      },
      "text/plain": [
       "HBox(children=(FloatProgress(value=0.0, max=3.0), HTML(value='')))"
      ]
     },
     "metadata": {},
     "output_type": "display_data"
    },
    {
     "name": "stdout",
     "output_type": "stream",
     "text": [
      "\n",
      "MP_branches_with_stitch_point= [0, 1]\n",
      "MP_branches_for_correspondence = [0 1]\n",
      "MP_leftover = [], MP_leftover_idx = []\n",
      " Finished with (4, 0) \n",
      "\n",
      "\n",
      "\n",
      "\n",
      "---- Working on (5, 0) connection-----\n",
      "Current stitch point was a branch or endpoint\n",
      "sk_conn = [2, 3]\n",
      "conn = [2, 3]\n",
      "winning_vertex = [575449.09270176 593854.16295665 758149.09368367]\n",
      "MP_branches_with_stitch_point = [2, 3]\n",
      "MAP_branches_with_stitch_point = [2]\n",
      "MAP_stitch_point_on_end_or_branch = True\n",
      "Using max stitch distance (300) for smoothing because stitch_distance greater (1145.7896424189616) \n",
      "Found winning edge: [41, 43.0]\n",
      "in remove edge\n",
      "Using max stitch distance (300) for smoothing because stitch_distance greater (1048.2770026605742) \n"
     ]
    },
    {
     "name": "stderr",
     "output_type": "stream",
     "text": [
      "/meshAfterParty/preprocessing_vp2.py:1588: VisibleDeprecationWarning: Creating an ndarray from ragged nested sequences (which is a list-or-tuple of lists-or-tuples-or ndarrays with different lengths or shapes) is deprecated. If you meant to do this, you must specify 'dtype=object' when creating the ndarray\n",
      "  for k in o_keys])\n"
     ]
    },
    {
     "name": "stdout",
     "output_type": "stream",
     "text": [
      "Found winning edge: [107, 108.0]\n",
      "in remove edge\n"
     ]
    },
    {
     "data": {
      "application/vnd.jupyter.widget-view+json": {
       "model_id": "fe5f87a2f6b744789ce479c65d7d0eea",
       "version_major": 2,
       "version_minor": 0
      },
      "text/plain": [
       "HBox(children=(FloatProgress(value=1.0, bar_style='info', max=1.0), HTML(value='')))"
      ]
     },
     "metadata": {},
     "output_type": "display_data"
    },
    {
     "name": "stderr",
     "output_type": "stream",
     "text": [
      "/meshAfterParty/trimesh_utils.py:331: VisibleDeprecationWarning: Creating an ndarray from ragged nested sequences (which is a list-or-tuple of lists-or-tuples-or ndarrays with different lengths or shapes) is deprecated. If you meant to do this, you must specify 'dtype=object' when creating the ndarray\n",
      "  ordered_comp_indices = np.array([k.astype(\"int\") for k in ordered_components])\n"
     ]
    },
    {
     "name": "stdout",
     "output_type": "stream",
     "text": [
      "\n",
      "\n",
      "\n",
      "--- Working on 1-to-1 correspondence-----\n",
      "max(original_labels),len(original_labels) = (2, 3)\n",
      "empty_indices % = 0.001192441753806641\n",
      " conflict_indices % = 0.013667217024399193\n"
     ]
    },
    {
     "data": {
      "application/vnd.jupyter.widget-view+json": {
       "model_id": "b518ee11f159441d9638e00b5e294c7d",
       "version_major": 2,
       "version_minor": 0
      },
      "text/plain": [
       "HBox(children=(FloatProgress(value=0.0, max=2.0), HTML(value='')))"
      ]
     },
     "metadata": {},
     "output_type": "display_data"
    },
    {
     "name": "stdout",
     "output_type": "stream",
     "text": [
      "\n",
      "AFTER face_lookup_resolved_test\n"
     ]
    },
    {
     "data": {
      "application/vnd.jupyter.widget-view+json": {
       "model_id": "747ba7cbe3814404b0fddf5fad9fcc49",
       "version_major": 2,
       "version_minor": 0
      },
      "text/plain": [
       "HBox(children=(FloatProgress(value=0.0, max=3.0), HTML(value='')))"
      ]
     },
     "metadata": {},
     "output_type": "display_data"
    },
    {
     "name": "stdout",
     "output_type": "stream",
     "text": [
      "\n",
      "MP_branches_with_stitch_point= [2, 3]\n",
      "MP_branches_for_correspondence = [2 3]\n",
      "MP_leftover = [], MP_leftover_idx = []\n",
      " Finished with (5, 0) \n",
      "\n",
      "\n",
      "\n",
      "\n",
      "---- Working on (6, 0) connection-----\n",
      "Current stitch point was not a branch or endpoint, shortest_path_length to one = 5097.730606523778\n",
      "sk_conn = [0]\n",
      "conn = [0]\n",
      "winning_vertex = [576289.16967071 549293.70073431 740262.30973008]\n",
      "MP_branches_with_stitch_point = [0]\n",
      "MAP_branches_with_stitch_point = [1]\n",
      "MAP_stitch_point_on_end_or_branch = False\n",
      "Using max stitch distance (300) for smoothing because stitch_distance greater (1117.5469333874962) \n"
     ]
    },
    {
     "name": "stderr",
     "output_type": "stream",
     "text": [
      "/meshAfterParty/preprocessing_vp2.py:1588: VisibleDeprecationWarning: Creating an ndarray from ragged nested sequences (which is a list-or-tuple of lists-or-tuples-or ndarrays with different lengths or shapes) is deprecated. If you meant to do this, you must specify 'dtype=object' when creating the ndarray\n",
      "  for k in o_keys])\n"
     ]
    },
    {
     "name": "stdout",
     "output_type": "stream",
     "text": [
      "Found winning edge: [9, 10.0]\n",
      "in remove edge\n"
     ]
    },
    {
     "data": {
      "application/vnd.jupyter.widget-view+json": {
       "model_id": "f749392b7e7b4d7d9369516d9675a57a",
       "version_major": 2,
       "version_minor": 0
      },
      "text/plain": [
       "HBox(children=(FloatProgress(value=1.0, bar_style='info', max=1.0), HTML(value='')))"
      ]
     },
     "metadata": {},
     "output_type": "display_data"
    },
    {
     "name": "stderr",
     "output_type": "stream",
     "text": [
      "/meshAfterParty/trimesh_utils.py:331: VisibleDeprecationWarning: Creating an ndarray from ragged nested sequences (which is a list-or-tuple of lists-or-tuples-or ndarrays with different lengths or shapes) is deprecated. If you meant to do this, you must specify 'dtype=object' when creating the ndarray\n",
      "  ordered_comp_indices = np.array([k.astype(\"int\") for k in ordered_components])\n"
     ]
    },
    {
     "name": "stdout",
     "output_type": "stream",
     "text": [
      "\n",
      "\n",
      "\n",
      "--- Working on 1-to-1 correspondence-----\n",
      "max(original_labels),len(original_labels) = (1, 2)\n",
      "empty_indices % = 0.11637778563848603\n",
      " conflict_indices % = 0.008843296781039971\n"
     ]
    },
    {
     "data": {
      "application/vnd.jupyter.widget-view+json": {
       "model_id": "04f5d4885a9242d483438d99583ef741",
       "version_major": 2,
       "version_minor": 0
      },
      "text/plain": [
       "HBox(children=(FloatProgress(value=0.0, max=8.0), HTML(value='')))"
      ]
     },
     "metadata": {},
     "output_type": "display_data"
    },
    {
     "name": "stdout",
     "output_type": "stream",
     "text": [
      "\n",
      "AFTER face_lookup_resolved_test\n"
     ]
    },
    {
     "data": {
      "application/vnd.jupyter.widget-view+json": {
       "model_id": "032b715631d049f4853c01da9f66549f",
       "version_major": 2,
       "version_minor": 0
      },
      "text/plain": [
       "HBox(children=(FloatProgress(value=0.0, max=2.0), HTML(value='')))"
      ]
     },
     "metadata": {},
     "output_type": "display_data"
    },
    {
     "name": "stdout",
     "output_type": "stream",
     "text": [
      "\n"
     ]
    },
    {
     "data": {
      "application/vnd.jupyter.widget-view+json": {
       "model_id": "d2b8b408ae9c41a292db517e9ab56d2b",
       "version_major": 2,
       "version_minor": 0
      },
      "text/plain": [
       "HBox(children=(FloatProgress(value=1.0, bar_style='info', max=1.0), HTML(value='')))"
      ]
     },
     "metadata": {},
     "output_type": "display_data"
    },
    {
     "name": "stdout",
     "output_type": "stream",
     "text": [
      "\n",
      "\n",
      "\n",
      "--- Working on 1-to-1 correspondence-----\n",
      "max(original_labels),len(original_labels) = (2, 3)\n",
      "empty_indices % = 0.029015240328253224\n",
      " conflict_indices % = 0.016803438843298164\n"
     ]
    },
    {
     "data": {
      "application/vnd.jupyter.widget-view+json": {
       "model_id": "2fc93a6dbd6341878a3b4f746758485b",
       "version_major": 2,
       "version_minor": 0
      },
      "text/plain": [
       "HBox(children=(FloatProgress(value=0.0, max=1.0), HTML(value='')))"
      ]
     },
     "metadata": {},
     "output_type": "display_data"
    },
    {
     "name": "stdout",
     "output_type": "stream",
     "text": [
      "\n",
      "AFTER face_lookup_resolved_test\n"
     ]
    },
    {
     "data": {
      "application/vnd.jupyter.widget-view+json": {
       "model_id": "158b8a195aad43bc9f6b46ac671ac214",
       "version_major": 2,
       "version_minor": 0
      },
      "text/plain": [
       "HBox(children=(FloatProgress(value=0.0, max=3.0), HTML(value='')))"
      ]
     },
     "metadata": {},
     "output_type": "display_data"
    },
    {
     "name": "stdout",
     "output_type": "stream",
     "text": [
      "\n",
      "Deleting branches from dictionary\n",
      "MP_branches_with_stitch_point= [0]\n",
      "MP_branches_for_correspondence = [0]\n",
      "MP_leftover = [], MP_leftover_idx = []\n",
      " Finished with (6, 0) \n",
      "\n",
      "\n",
      "\n",
      "\n",
      "---- Working on (7, 0) connection-----\n",
      "Current stitch point was not a branch or endpoint, shortest_path_length to one = 22441.0300686037\n",
      "sk_conn = [0]\n",
      "conn = [0]\n",
      "winning_vertex = [595381.8671236  560415.7522856  716390.28705674]\n",
      "MP_branches_with_stitch_point = [0]\n",
      "MAP_branches_with_stitch_point = [6]\n",
      "MAP_stitch_point_on_end_or_branch = False\n"
     ]
    },
    {
     "name": "stderr",
     "output_type": "stream",
     "text": [
      "/meshAfterParty/preprocessing_vp2.py:1588: VisibleDeprecationWarning: Creating an ndarray from ragged nested sequences (which is a list-or-tuple of lists-or-tuples-or ndarrays with different lengths or shapes) is deprecated. If you meant to do this, you must specify 'dtype=object' when creating the ndarray\n",
      "  for k in o_keys])\n"
     ]
    },
    {
     "name": "stdout",
     "output_type": "stream",
     "text": [
      "Found winning edge: [483, 494.0]\n",
      "in remove edge\n"
     ]
    },
    {
     "data": {
      "application/vnd.jupyter.widget-view+json": {
       "model_id": "481f22dbe83344b39f1d6e6e01146739",
       "version_major": 2,
       "version_minor": 0
      },
      "text/plain": [
       "HBox(children=(FloatProgress(value=1.0, bar_style='info', max=1.0), HTML(value='')))"
      ]
     },
     "metadata": {},
     "output_type": "display_data"
    },
    {
     "name": "stderr",
     "output_type": "stream",
     "text": [
      "/meshAfterParty/trimesh_utils.py:331: VisibleDeprecationWarning: Creating an ndarray from ragged nested sequences (which is a list-or-tuple of lists-or-tuples-or ndarrays with different lengths or shapes) is deprecated. If you meant to do this, you must specify 'dtype=object' when creating the ndarray\n",
      "  ordered_comp_indices = np.array([k.astype(\"int\") for k in ordered_components])\n"
     ]
    },
    {
     "name": "stdout",
     "output_type": "stream",
     "text": [
      "\n",
      "\n",
      "\n",
      "--- Working on 1-to-1 correspondence-----\n",
      "max(original_labels),len(original_labels) = (1, 2)\n",
      "empty_indices % = 0.01426071741032371\n",
      " conflict_indices % = 0.0\n"
     ]
    },
    {
     "data": {
      "application/vnd.jupyter.widget-view+json": {
       "model_id": "05ad206699644b7285de5d172cc887fd",
       "version_major": 2,
       "version_minor": 0
      },
      "text/plain": [
       "HBox(children=(FloatProgress(value=0.0, max=5.0), HTML(value='')))"
      ]
     },
     "metadata": {},
     "output_type": "display_data"
    },
    {
     "name": "stdout",
     "output_type": "stream",
     "text": [
      "\n",
      "AFTER face_lookup_resolved_test\n"
     ]
    },
    {
     "data": {
      "application/vnd.jupyter.widget-view+json": {
       "model_id": "97835c9eeb19464eaac1ae42fc8224b7",
       "version_major": 2,
       "version_minor": 0
      },
      "text/plain": [
       "HBox(children=(FloatProgress(value=0.0, max=2.0), HTML(value='')))"
      ]
     },
     "metadata": {},
     "output_type": "display_data"
    },
    {
     "name": "stdout",
     "output_type": "stream",
     "text": [
      "\n"
     ]
    },
    {
     "data": {
      "application/vnd.jupyter.widget-view+json": {
       "model_id": "774297bd98a043fbb6ccd414c15089eb",
       "version_major": 2,
       "version_minor": 0
      },
      "text/plain": [
       "HBox(children=(FloatProgress(value=1.0, bar_style='info', max=1.0), HTML(value='')))"
      ]
     },
     "metadata": {},
     "output_type": "display_data"
    },
    {
     "name": "stdout",
     "output_type": "stream",
     "text": [
      "\n",
      "\n",
      "\n",
      "--- Working on 1-to-1 correspondence-----\n",
      "max(original_labels),len(original_labels) = (2, 3)\n",
      "empty_indices % = 0.006410860752333365\n",
      " conflict_indices % = 0.01088903554256623\n"
     ]
    },
    {
     "data": {
      "application/vnd.jupyter.widget-view+json": {
       "model_id": "83d926cb769944ebbaaea605ecd9af46",
       "version_major": 2,
       "version_minor": 0
      },
      "text/plain": [
       "HBox(children=(FloatProgress(value=0.0, max=5.0), HTML(value='')))"
      ]
     },
     "metadata": {},
     "output_type": "display_data"
    },
    {
     "name": "stdout",
     "output_type": "stream",
     "text": [
      "\n",
      "AFTER face_lookup_resolved_test\n"
     ]
    },
    {
     "data": {
      "application/vnd.jupyter.widget-view+json": {
       "model_id": "0715eb410a0e44668a29d364c4c9b08a",
       "version_major": 2,
       "version_minor": 0
      },
      "text/plain": [
       "HBox(children=(FloatProgress(value=0.0, max=3.0), HTML(value='')))"
      ]
     },
     "metadata": {},
     "output_type": "display_data"
    },
    {
     "name": "stdout",
     "output_type": "stream",
     "text": [
      "\n",
      "Deleting branches from dictionary\n",
      "MP_branches_with_stitch_point= [0]\n",
      "MP_branches_for_correspondence = [0]\n",
      "MP_leftover = [], MP_leftover_idx = []\n",
      " Finished with (7, 0) \n",
      "\n",
      "\n",
      "\n",
      "Time for decomp of Limb = 66.37338757514954\n",
      "\n",
      "\n",
      "----- Working on Proper Limb # 3 ---------\n",
      "meshparty_segment_size = 100\n",
      "Time for preparing soma vertices and root: 8.821487426757812e-06\n",
      "cc_vertex_thresh = 10\n"
     ]
    },
    {
     "name": "stderr",
     "output_type": "stream",
     "text": [
      "\r",
      "  0%|          | 0/1 [00:00<?, ?it/s]"
     ]
    },
    {
     "data": {
      "application/vnd.jupyter.widget-view+json": {
       "model_id": "37a3692596be4245a637cf91c8709510",
       "version_major": 2,
       "version_minor": 0
      },
      "text/plain": [
       "HBox(children=(FloatProgress(value=0.0, max=66104.0), HTML(value='')))"
      ]
     },
     "metadata": {},
     "output_type": "display_data"
    },
    {
     "name": "stderr",
     "output_type": "stream",
     "text": [
      "100%|██████████| 1/1 [00:00<00:00,  1.76it/s]"
     ]
    },
    {
     "name": "stdout",
     "output_type": "stream",
     "text": [
      "\n"
     ]
    },
    {
     "name": "stderr",
     "output_type": "stream",
     "text": [
      "\n"
     ]
    },
    {
     "name": "stdout",
     "output_type": "stream",
     "text": [
      "Time for 1st pass MP skeletonization: 1.406219482421875\n",
      "connecting at the root\n",
      "branches_touching_root = [8]\n"
     ]
    },
    {
     "name": "stderr",
     "output_type": "stream",
     "text": [
      "/meshAfterParty/meshparty_skeletonize.py:895: VisibleDeprecationWarning: Creating an ndarray from ragged nested sequences (which is a list-or-tuple of lists-or-tuples-or ndarrays with different lengths or shapes) is deprecated. If you meant to do this, you must specify 'dtype=object' when creating the ndarray\n",
      "  segment_branches = np.array([sk_meshparty_obj.vertices[np.vstack([k[:-1],k[1:]]).T] for k in segments])\n",
      "/meshAfterParty/meshparty_skeletonize.py:933: VisibleDeprecationWarning: Creating an ndarray from ragged nested sequences (which is a list-or-tuple of lists-or-tuples-or ndarrays with different lengths or shapes) is deprecated. If you meant to do this, you must specify 'dtype=object' when creating the ndarray\n",
      "  new_segment_branches = np.array([sk_meshparty_obj.vertices[np.vstack([k[:-1],k[1:]]).T] for k in new_segments])\n",
      "/meshAfterParty/meshparty_skeletonize.py:965: VisibleDeprecationWarning: Creating an ndarray from ragged nested sequences (which is a list-or-tuple of lists-or-tuples-or ndarrays with different lengths or shapes) is deprecated. If you meant to do this, you must specify 'dtype=object' when creating the ndarray\n",
      "  segment_branches = np.array(new_segment_branches)\n"
     ]
    },
    {
     "name": "stdout",
     "output_type": "stream",
     "text": [
      "length of Graph = 5270\n"
     ]
    },
    {
     "name": "stderr",
     "output_type": "stream",
     "text": [
      "/meshAfterParty/meshparty_skeletonize.py:990: VisibleDeprecationWarning: Creating an ndarray from ragged nested sequences (which is a list-or-tuple of lists-or-tuples-or ndarrays with different lengths or shapes) is deprecated. If you meant to do this, you must specify 'dtype=object' when creating the ndarray\n",
      "  segment_branches_filtered = np.array(segment_branches_filtered)\n"
     ]
    },
    {
     "name": "stdout",
     "output_type": "stream",
     "text": [
      "max(kept_branches_idx) = 8, len(kept_branches_idx) = 9\n",
      "empty_indices % = 0.0\n",
      " conflict_indices % = 0.0030369290573372208\n"
     ]
    },
    {
     "data": {
      "application/vnd.jupyter.widget-view+json": {
       "model_id": "4383427e6adf4da0a9a303af78994644",
       "version_major": 2,
       "version_minor": 0
      },
      "text/plain": [
       "HBox(children=(FloatProgress(value=0.0, max=3.0), HTML(value='')))"
      ]
     },
     "metadata": {},
     "output_type": "display_data"
    },
    {
     "name": "stdout",
     "output_type": "stream",
     "text": [
      "\n",
      "AFTER face_lookup_resolved_test\n"
     ]
    },
    {
     "data": {
      "application/vnd.jupyter.widget-view+json": {
       "model_id": "1cd1b3d14064406292d358ba0dc50151",
       "version_major": 2,
       "version_minor": 0
      },
      "text/plain": [
       "HBox(children=(FloatProgress(value=0.0, max=9.0), HTML(value='')))"
      ]
     },
     "metadata": {},
     "output_type": "display_data"
    },
    {
     "name": "stdout",
     "output_type": "stream",
     "text": [
      "\n",
      "Decomposing first pass: 5.52264928817749\n",
      "Attempting to use MeshAfterParty Skeletonization and Mesh Correspondence\n",
      "Another print\n",
      "Found len(mesh_large_idx) MAP candidates: [2410, 223, 20331, 4606, 21798]\n",
      "mesh_large_connectivity: 0.09813356399536133\n",
      "Finding MAP candidates connected components: 0.0001442432403564453\n",
      "len(filtered_pieces) = 1\n"
     ]
    },
    {
     "name": "stderr",
     "output_type": "stream",
     "text": [
      "/meshAfterParty/trimesh_utils.py:996: VisibleDeprecationWarning: Creating an ndarray from ragged nested sequences (which is a list-or-tuple of lists-or-tuples-or ndarrays with different lengths or shapes) is deprecated. If you meant to do this, you must specify 'dtype=object' when creating the ndarray\n",
      "  total_submeshes_idx =np.array(list(total_submeshes_idx.values()))\n"
     ]
    },
    {
     "name": "stdout",
     "output_type": "stream",
     "text": [
      "skeleton_connectivity_MP : 0.17842364311218262\n",
      "Grouping MP Sublimbs by Graph: 0.03862476348876953\n",
      "Divinding into MP and MAP pieces: 9.5367431640625e-07\n",
      "--- Working on MAP piece 0---\n",
      "MAP Filtering Soma Pieces: 0.0062313079833984375\n",
      "inside skeletonize_connected_branch and use_surface_after_CGAL=False, surface_reconstruction_size=1000\n",
      "     Starting Screened Poisson\n",
      "xvfb-run -n 2191 -s \"-screen 0 800x600x24\" meshlabserver $@  -i /notebooks/Platinum_Decomp_Fusion/temp/None.off -o /notebooks/Platinum_Decomp_Fusion/temp/None_poisson.off -s /notebooks/Platinum_Decomp_Fusion/temp/poisson_919237.mls\n",
      "removed temporary input file: /notebooks/Platinum_Decomp_Fusion/temp/None.off\n",
      "removed temporary output file: /notebooks/Platinum_Decomp_Fusion/temp/None_poisson.off\n",
      "Using the close holes feature\n",
      "xvfb-run -n 6219 -s \"-screen 0 800x600x24\" meshlabserver $@  -i /notebooks/Platinum_Decomp_Fusion/temp/neuron_87375.off -o /notebooks/Platinum_Decomp_Fusion/temp/neuron_87375_fill_holes.off -s /notebooks/Platinum_Decomp_Fusion/temp/fill_holes_214675.mls\n",
      "removed temporary input file: /notebooks/Platinum_Decomp_Fusion/temp/neuron_87375.off\n",
      "removed temporary output file: /notebooks/Platinum_Decomp_Fusion/temp/neuron_87375_fill_holes.off\n",
      "-----Time for Screened Poisson= 14.658069133758545\n",
      "     Starting Calcification\n"
     ]
    },
    {
     "data": {
      "application/vnd.jupyter.widget-view+json": {
       "model_id": "355204ccd46441918951b3988c670a06",
       "version_major": 2,
       "version_minor": 0
      },
      "text/plain": [
       "HBox(children=(FloatProgress(value=1.0, bar_style='info', max=1.0), HTML(value='')))"
      ]
     },
     "metadata": {},
     "output_type": "display_data"
    },
    {
     "name": "stdout",
     "output_type": "stream",
     "text": [
      "\n",
      "No skeletons to stack so returning empty list\n",
      "len_subgraphs AT BEGINNING of the loop\n"
     ]
    },
    {
     "data": {
      "application/vnd.jupyter.widget-view+json": {
       "model_id": "3ba7e31267be4cb3ba87d926113b32ca",
       "version_major": 2,
       "version_minor": 0
      },
      "text/plain": [
       "HBox(children=(FloatProgress(value=0.0, max=2.0), HTML(value='')))"
      ]
     },
     "metadata": {},
     "output_type": "display_data"
    },
    {
     "name": "stdout",
     "output_type": "stream",
     "text": [
      "all graph is one component!\n",
      "\n",
      "Total time for skeleton stitching = 0.04227328300476074\n",
      "The process was using a temp folder\n",
      "Checking connected components after skeletonize_connected_branch\n",
      "    Total time for skeletonizing branch: 17.104943990707397\n",
      "Checking connected components after removing cycles\n",
      "    Total time for Fixing Skeleton Soma Endpoint Extension : 0.020924091339111328\n",
      "filter_end_node_length = 1500\n",
      "Using Distance measure skeletal_distance\n"
     ]
    },
    {
     "data": {
      "application/vnd.jupyter.widget-view+json": {
       "model_id": "687d98cd86534ae9b29f578472b2682c",
       "version_major": 2,
       "version_minor": 0
      },
      "text/plain": [
       "HBox(children=(FloatProgress(value=0.0, max=14.0), HTML(value='')))"
      ]
     },
     "metadata": {},
     "output_type": "display_data"
    },
    {
     "name": "stdout",
     "output_type": "stream",
     "text": [
      "\n",
      "Checking connected components after clean_skeleton\n",
      "after DISTANCE cleaning limb size of skeleton = (448, 2, 3)\n",
      "********COMBINING CLOSE SKELETON NODES WITHIN 700 DISTANCE**********\n",
      "Found 0 valid paths to replace\n",
      "valid_paths = []\n",
      "valid_path_lengths = []\n",
      "No valid paths found so just returning the original\n",
      "Inside MAP decomposition and curr_limb_endpoints_must_keep was None\n",
      "skeletonize_and_clean_connected_branch_CGAL: 17.508373498916626\n",
      "Working on limb correspondence for #0 MAP piece\n"
     ]
    },
    {
     "data": {
      "application/vnd.jupyter.widget-view+json": {
       "model_id": "85ce02c8d824475a95a6252b9ed9d481",
       "version_major": 2,
       "version_minor": 0
      },
      "text/plain": [
       "HBox(children=(FloatProgress(value=1.0, bar_style='info', max=1.0), HTML(value='')))"
      ]
     },
     "metadata": {},
     "output_type": "display_data"
    },
    {
     "name": "stderr",
     "output_type": "stream",
     "text": [
      "/meshAfterParty/trimesh_utils.py:331: VisibleDeprecationWarning: Creating an ndarray from ragged nested sequences (which is a list-or-tuple of lists-or-tuples-or ndarrays with different lengths or shapes) is deprecated. If you meant to do this, you must specify 'dtype=object' when creating the ndarray\n",
      "  ordered_comp_indices = np.array([k.astype(\"int\") for k in ordered_components])\n"
     ]
    },
    {
     "name": "stdout",
     "output_type": "stream",
     "text": [
      "\n",
      "Total time for decomposition = 6.399101972579956\n",
      "mesh_correspondence_first_pass: 6.3991615772247314\n",
      "Limb decomposed into 3 branches\n",
      "divided_skeleton_graph_recovered = (448, 2, 3) and \n",
      "current_mesh_data[0]['branch_skeletons_cleaned'].shape = (448, 2, 3)\n",
      "\n",
      "Number of connected components in deocmposed recovered graph = 1\n",
      "Number of connected components in cleaned skeleton graph= 1\n",
      "The downsampled branches number of connected components = 1\n",
      "Empty submeshes = []\n",
      "\n",
      "\n",
      "--- Working on 1-to-1 correspondence-----\n",
      "max(original_labels),len(original_labels) = (2, 3)\n",
      "empty_indices % = 0.10417679468481608\n",
      " conflict_indices % = 0.005651434127369956\n"
     ]
    },
    {
     "data": {
      "application/vnd.jupyter.widget-view+json": {
       "model_id": "379aebb6ebcb4b04ae52a65c99a2ca46",
       "version_major": 2,
       "version_minor": 0
      },
      "text/plain": [
       "HBox(children=(FloatProgress(value=0.0, max=49.0), HTML(value='')))"
      ]
     },
     "metadata": {},
     "output_type": "display_data"
    },
    {
     "name": "stdout",
     "output_type": "stream",
     "text": [
      "\n",
      "AFTER face_lookup_resolved_test\n"
     ]
    },
    {
     "data": {
      "application/vnd.jupyter.widget-view+json": {
       "model_id": "62410bcfa43e4b5bb2b831bfebdc3f77",
       "version_major": 2,
       "version_minor": 0
      },
      "text/plain": [
       "HBox(children=(FloatProgress(value=0.0, max=3.0), HTML(value='')))"
      ]
     },
     "metadata": {},
     "output_type": "display_data"
    },
    {
     "name": "stdout",
     "output_type": "stream",
     "text": [
      "\n",
      "Total time for MAP sublimb #0 mesh processing = 25.52321696281433\n",
      "correspondence_1_to_1: 1.6093456745147705\n",
      "Total time for MAP sublimb processing 25.523422241210938\n",
      "---- Working on MP Decomposition #0 ----\n",
      "Computing the current soma touching verts dict manually\n",
      "MP filtering soma verts: 0.003984928131103516\n",
      "Fixing Possible Soma Extension Branch for Sublimb 0\n",
      "Total time for mesh KDTree = 0.2396395206451416\n",
      "sbv[0].reshape(-1,3) = [[637569.2 435171.3 687001.6]]\n",
      "closest_sk_pt_coord BEFORE = [635006.37275489 433583.86255831 684772.53941545]\n",
      "current_skeleton.shape = (1418, 2, 3)\n",
      "Current stitch point was not a branch or endpoint, shortest_path_length to one = 27795.989271751827\n",
      "change_status for create soma extending pieces = False\n",
      "closest_sk_pt_coord AFTER = [635006.37275489 433583.86255831 684772.53941545]\n",
      "Adding new branch to skeleton\n",
      "border_average_coordinate = [637710.05555556 434821.75185185 687318.8       ]\n",
      "endpoints_must_keep = {0: array([[637710.05555556, 434821.75185185, 687318.8       ]])}\n",
      "orig_vertex = [635006.37275489 433583.86255831 684772.53941545]\n",
      "match_sk_branches = [1]\n"
     ]
    },
    {
     "data": {
      "application/vnd.jupyter.widget-view+json": {
       "model_id": "f7d3623a47814523b209b6b2ad7f6ca1",
       "version_major": 2,
       "version_minor": 0
      },
      "text/plain": [
       "HBox(children=(FloatProgress(value=1.0, bar_style='info', max=1.0), HTML(value='')))"
      ]
     },
     "metadata": {},
     "output_type": "display_data"
    },
    {
     "name": "stdout",
     "output_type": "stream",
     "text": [
      "\n",
      "\n",
      "\n",
      "--- Working on 1-to-1 correspondence-----\n",
      "max(original_labels),len(original_labels) = (2, 3)\n",
      "empty_indices % = 0.028115015974440896\n",
      " conflict_indices % = 0.03466453674121406\n"
     ]
    },
    {
     "data": {
      "application/vnd.jupyter.widget-view+json": {
       "model_id": "86465c90d72f44e1953bca40a62cf07a",
       "version_major": 2,
       "version_minor": 0
      },
      "text/plain": [
       "HBox(children=(FloatProgress(value=0.0, max=4.0), HTML(value='')))"
      ]
     },
     "metadata": {},
     "output_type": "display_data"
    },
    {
     "name": "stdout",
     "output_type": "stream",
     "text": [
      "\n",
      "AFTER face_lookup_resolved_test\n",
      "Took 0 iterations to expand the label back\n",
      "empty_indices % = 0.0\n",
      " conflict_indices % = 0.0\n"
     ]
    },
    {
     "data": {
      "application/vnd.jupyter.widget-view+json": {
       "model_id": "ee764f3ca2964dce940972010d3b9bbc",
       "version_major": 2,
       "version_minor": 0
      },
      "text/plain": [
       "HBox(children=(FloatProgress(value=1.0, bar_style='info', max=1.0), HTML(value='')))"
      ]
     },
     "metadata": {},
     "output_type": "display_data"
    },
    {
     "name": "stdout",
     "output_type": "stream",
     "text": [
      "\n",
      "AFTER face_lookup_resolved_test\n"
     ]
    },
    {
     "data": {
      "application/vnd.jupyter.widget-view+json": {
       "model_id": "93bf9d78939442e2b60558ab5408b792",
       "version_major": 2,
       "version_minor": 0
      },
      "text/plain": [
       "HBox(children=(FloatProgress(value=0.0, max=3.0), HTML(value='')))"
      ]
     },
     "metadata": {},
     "output_type": "display_data"
    },
    {
     "name": "stdout",
     "output_type": "stream",
     "text": [
      "\n",
      "curr_width_median = 432.6346926058976\n",
      "curr_width_median = 1230.6473933044563\n",
      "curr_width_median = 1026.2268046722495\n",
      "checked segment branches after soma add on\n",
      "MP (because soma touching verts) soma extension add: 1.9387743473052979\n",
      "---- Working on MP Decomposition #1 ----\n",
      "Computing the current soma touching verts dict manually\n",
      "MP filtering soma verts: 0.0044400691986083984\n",
      "Do Not Need to Fix MP Decomposition 1 so just continuing\n",
      "---- Working on MP Decomposition #2 ----\n",
      "Computing the current soma touching verts dict manually\n",
      "MP filtering soma verts: 0.004576206207275391\n",
      "Do Not Need to Fix MP Decomposition 2 so just continuing\n"
     ]
    },
    {
     "name": "stderr",
     "output_type": "stream",
     "text": [
      "/meshAfterParty/preprocessing_vp2.py:1311: VisibleDeprecationWarning: Creating an ndarray from ragged nested sequences (which is a list-or-tuple of lists-or-tuples-or ndarrays with different lengths or shapes) is deprecated. If you meant to do this, you must specify 'dtype=object' when creating the ndarray\n",
      "  segment_branches = np.array([k for i,k in enumerate(segment_branches) if i not in match_sk_branches] + new_skeletal_branches)\n",
      "/meshAfterParty/preprocessing_vp2.py:1320: VisibleDeprecationWarning: Creating an ndarray from ragged nested sequences (which is a list-or-tuple of lists-or-tuples-or ndarrays with different lengths or shapes) is deprecated. If you meant to do this, you must specify 'dtype=object' when creating the ndarray\n",
      "  divided_submeshes_idx = np.array([k for i,k in enumerate(divided_submeshes_idx) if i not in match_sk_branches] + new_submeshes_idx)\n"
     ]
    },
    {
     "name": "stdout",
     "output_type": "stream",
     "text": [
      "\n",
      "---- Working on (0, 0) connection-----\n",
      "Current stitch point was not a branch or endpoint, shortest_path_length to one = 284.28682698992577\n",
      "Changing the stitch point becasue the distance to end or branch node was 284.28682698992577\n",
      "New stitch point has degree 1\n",
      "sk_conn = [0, 2, 3]\n",
      "conn = [0, 2, 3]\n",
      "winning_vertex = [634734.10586626 433247.14114857 685076.64944664]\n",
      "MP_branches_with_stitch_point = [0, 2]\n",
      "MAP_branches_with_stitch_point = [1]\n",
      "MAP_stitch_point_on_end_or_branch = True\n"
     ]
    },
    {
     "name": "stderr",
     "output_type": "stream",
     "text": [
      "/meshAfterParty/preprocessing_vp2.py:1588: VisibleDeprecationWarning: Creating an ndarray from ragged nested sequences (which is a list-or-tuple of lists-or-tuples-or ndarrays with different lengths or shapes) is deprecated. If you meant to do this, you must specify 'dtype=object' when creating the ndarray\n",
      "  for k in o_keys])\n"
     ]
    },
    {
     "name": "stdout",
     "output_type": "stream",
     "text": [
      "Using max stitch distance (300) for smoothing because stitch_distance greater (1427.0527810101426) \n",
      "Found winning edge: [1124, 1125.0]\n",
      "in remove edge\n",
      "Using max stitch distance (300) for smoothing because stitch_distance greater (1408.2784165007265) \n",
      "Only 2 skeleton nodes so cannot do smoothing\n"
     ]
    },
    {
     "data": {
      "application/vnd.jupyter.widget-view+json": {
       "model_id": "7a4e30a18b354423a79afd023289cd3a",
       "version_major": 2,
       "version_minor": 0
      },
      "text/plain": [
       "HBox(children=(FloatProgress(value=1.0, bar_style='info', max=1.0), HTML(value='')))"
      ]
     },
     "metadata": {},
     "output_type": "display_data"
    },
    {
     "name": "stderr",
     "output_type": "stream",
     "text": [
      "/meshAfterParty/trimesh_utils.py:331: VisibleDeprecationWarning: Creating an ndarray from ragged nested sequences (which is a list-or-tuple of lists-or-tuples-or ndarrays with different lengths or shapes) is deprecated. If you meant to do this, you must specify 'dtype=object' when creating the ndarray\n",
      "  ordered_comp_indices = np.array([k.astype(\"int\") for k in ordered_components])\n"
     ]
    },
    {
     "name": "stdout",
     "output_type": "stream",
     "text": [
      "\n",
      "\n",
      "\n",
      "--- Working on 1-to-1 correspondence-----\n",
      "max(original_labels),len(original_labels) = (2, 3)\n",
      "empty_indices % = 0.06867648580593977\n",
      " conflict_indices % = 0.015108137008036976\n"
     ]
    },
    {
     "data": {
      "application/vnd.jupyter.widget-view+json": {
       "model_id": "1da00879f9a540d08c9c2a54e43c906d",
       "version_major": 2,
       "version_minor": 0
      },
      "text/plain": [
       "HBox(children=(FloatProgress(value=0.0, max=16.0), HTML(value='')))"
      ]
     },
     "metadata": {},
     "output_type": "display_data"
    },
    {
     "name": "stdout",
     "output_type": "stream",
     "text": [
      "\n",
      "AFTER face_lookup_resolved_test\n"
     ]
    },
    {
     "data": {
      "application/vnd.jupyter.widget-view+json": {
       "model_id": "6185b71ae9e44291af7bf74b22f7b2d9",
       "version_major": 2,
       "version_minor": 0
      },
      "text/plain": [
       "HBox(children=(FloatProgress(value=0.0, max=3.0), HTML(value='')))"
      ]
     },
     "metadata": {},
     "output_type": "display_data"
    },
    {
     "name": "stdout",
     "output_type": "stream",
     "text": [
      "\n",
      "MP_branches_with_stitch_point= [0, 2]\n",
      "MP_branches_for_correspondence = [0 2]\n",
      "MP_leftover = [], MP_leftover_idx = []\n",
      " Finished with (0, 0) \n",
      "\n",
      "\n",
      "\n",
      "\n",
      "---- Working on (1, 0) connection-----\n",
      "Current stitch point was not a branch or endpoint, shortest_path_length to one = 11419.56410118453\n",
      "sk_conn = [0]\n",
      "conn = [0]\n",
      "winning_vertex = [640083.50113615 431670.79211929 674474.80689737]\n",
      "MP_branches_with_stitch_point = [0]\n",
      "MAP_branches_with_stitch_point = [2]\n",
      "MAP_stitch_point_on_end_or_branch = False\n"
     ]
    },
    {
     "name": "stderr",
     "output_type": "stream",
     "text": [
      "/meshAfterParty/preprocessing_vp2.py:1588: VisibleDeprecationWarning: Creating an ndarray from ragged nested sequences (which is a list-or-tuple of lists-or-tuples-or ndarrays with different lengths or shapes) is deprecated. If you meant to do this, you must specify 'dtype=object' when creating the ndarray\n",
      "  for k in o_keys])\n"
     ]
    },
    {
     "name": "stdout",
     "output_type": "stream",
     "text": [
      "Using max stitch distance (300) for smoothing because stitch_distance greater (563.417828008341) \n",
      "Found winning edge: [9, 10.0]\n",
      "in remove edge\n"
     ]
    },
    {
     "data": {
      "application/vnd.jupyter.widget-view+json": {
       "model_id": "fbac294116f546219a0caebab0f96c28",
       "version_major": 2,
       "version_minor": 0
      },
      "text/plain": [
       "HBox(children=(FloatProgress(value=1.0, bar_style='info', max=1.0), HTML(value='')))"
      ]
     },
     "metadata": {},
     "output_type": "display_data"
    },
    {
     "name": "stderr",
     "output_type": "stream",
     "text": [
      "/meshAfterParty/trimesh_utils.py:331: VisibleDeprecationWarning: Creating an ndarray from ragged nested sequences (which is a list-or-tuple of lists-or-tuples-or ndarrays with different lengths or shapes) is deprecated. If you meant to do this, you must specify 'dtype=object' when creating the ndarray\n",
      "  ordered_comp_indices = np.array([k.astype(\"int\") for k in ordered_components])\n"
     ]
    },
    {
     "name": "stdout",
     "output_type": "stream",
     "text": [
      "\n",
      "\n",
      "\n",
      "--- Working on 1-to-1 correspondence-----\n",
      "max(original_labels),len(original_labels) = (1, 2)\n",
      "empty_indices % = 0.09403183023872679\n",
      " conflict_indices % = 0.004686118479221927\n"
     ]
    },
    {
     "data": {
      "application/vnd.jupyter.widget-view+json": {
       "model_id": "38c0bb45c574412abb80cdb12c2bdc11",
       "version_major": 2,
       "version_minor": 0
      },
      "text/plain": [
       "HBox(children=(FloatProgress(value=0.0, max=20.0), HTML(value='')))"
      ]
     },
     "metadata": {},
     "output_type": "display_data"
    },
    {
     "name": "stdout",
     "output_type": "stream",
     "text": [
      "\n",
      "AFTER face_lookup_resolved_test\n"
     ]
    },
    {
     "data": {
      "application/vnd.jupyter.widget-view+json": {
       "model_id": "7aed06b40ac745e4aa6b16baf8b5cca2",
       "version_major": 2,
       "version_minor": 0
      },
      "text/plain": [
       "HBox(children=(FloatProgress(value=0.0, max=2.0), HTML(value='')))"
      ]
     },
     "metadata": {},
     "output_type": "display_data"
    },
    {
     "name": "stdout",
     "output_type": "stream",
     "text": [
      "\n"
     ]
    },
    {
     "data": {
      "application/vnd.jupyter.widget-view+json": {
       "model_id": "adde05e094d149b29e9c02b2ece9575c",
       "version_major": 2,
       "version_minor": 0
      },
      "text/plain": [
       "HBox(children=(FloatProgress(value=1.0, bar_style='info', max=1.0), HTML(value='')))"
      ]
     },
     "metadata": {},
     "output_type": "display_data"
    },
    {
     "name": "stdout",
     "output_type": "stream",
     "text": [
      "\n",
      "\n",
      "\n",
      "--- Working on 1-to-1 correspondence-----\n",
      "max(original_labels),len(original_labels) = (2, 3)\n",
      "empty_indices % = 0.08399777091906721\n",
      " conflict_indices % = 0.0140389231824417\n"
     ]
    },
    {
     "data": {
      "application/vnd.jupyter.widget-view+json": {
       "model_id": "a4af41d2600f423fac3c7c217c1d3a41",
       "version_major": 2,
       "version_minor": 0
      },
      "text/plain": [
       "HBox(children=(FloatProgress(value=0.0, max=18.0), HTML(value='')))"
      ]
     },
     "metadata": {},
     "output_type": "display_data"
    },
    {
     "name": "stdout",
     "output_type": "stream",
     "text": [
      "\n",
      "AFTER face_lookup_resolved_test\n"
     ]
    },
    {
     "data": {
      "application/vnd.jupyter.widget-view+json": {
       "model_id": "29864f5e57084661b3364c947f6cf3d5",
       "version_major": 2,
       "version_minor": 0
      },
      "text/plain": [
       "HBox(children=(FloatProgress(value=0.0, max=3.0), HTML(value='')))"
      ]
     },
     "metadata": {},
     "output_type": "display_data"
    },
    {
     "name": "stdout",
     "output_type": "stream",
     "text": [
      "\n",
      "Deleting branches from dictionary\n",
      "MP_branches_with_stitch_point= [0]\n",
      "MP_branches_for_correspondence = [0]\n",
      "MP_leftover = [], MP_leftover_idx = []\n",
      " Finished with (1, 0) \n",
      "\n",
      "\n",
      "\n",
      "\n",
      "---- Working on (2, 0) connection-----\n",
      "Current stitch point was not a branch or endpoint, shortest_path_length to one = 17476.49345252947\n",
      "sk_conn = [0]\n",
      "conn = [0]\n",
      "winning_vertex = [621517.83123509 423298.36191482 683944.84268265]\n",
      "MP_branches_with_stitch_point = [0]\n",
      "MAP_branches_with_stitch_point = [0]\n",
      "MAP_stitch_point_on_end_or_branch = False\n",
      "Using max stitch distance (300) for smoothing because stitch_distance greater (919.4235779189628) \n"
     ]
    },
    {
     "name": "stderr",
     "output_type": "stream",
     "text": [
      "/meshAfterParty/preprocessing_vp2.py:1588: VisibleDeprecationWarning: Creating an ndarray from ragged nested sequences (which is a list-or-tuple of lists-or-tuples-or ndarrays with different lengths or shapes) is deprecated. If you meant to do this, you must specify 'dtype=object' when creating the ndarray\n",
      "  for k in o_keys])\n"
     ]
    },
    {
     "name": "stdout",
     "output_type": "stream",
     "text": [
      "Found winning edge: [915, 916.0]\n",
      "in remove edge\n"
     ]
    },
    {
     "data": {
      "application/vnd.jupyter.widget-view+json": {
       "model_id": "ecdeb660601e44bdac6e908385badfe7",
       "version_major": 2,
       "version_minor": 0
      },
      "text/plain": [
       "HBox(children=(FloatProgress(value=1.0, bar_style='info', max=1.0), HTML(value='')))"
      ]
     },
     "metadata": {},
     "output_type": "display_data"
    },
    {
     "name": "stderr",
     "output_type": "stream",
     "text": [
      "/meshAfterParty/trimesh_utils.py:331: VisibleDeprecationWarning: Creating an ndarray from ragged nested sequences (which is a list-or-tuple of lists-or-tuples-or ndarrays with different lengths or shapes) is deprecated. If you meant to do this, you must specify 'dtype=object' when creating the ndarray\n",
      "  ordered_comp_indices = np.array([k.astype(\"int\") for k in ordered_components])\n"
     ]
    },
    {
     "name": "stdout",
     "output_type": "stream",
     "text": [
      "\n",
      "\n",
      "\n",
      "--- Working on 1-to-1 correspondence-----\n",
      "max(original_labels),len(original_labels) = (1, 2)\n",
      "empty_indices % = 0.12817904374364192\n",
      " conflict_indices % = 0.0024867186616932295\n"
     ]
    },
    {
     "data": {
      "application/vnd.jupyter.widget-view+json": {
       "model_id": "0f965903ad0c4b42abe910f0f89822f7",
       "version_major": 2,
       "version_minor": 0
      },
      "text/plain": [
       "HBox(children=(FloatProgress(value=0.0, max=33.0), HTML(value='')))"
      ]
     },
     "metadata": {},
     "output_type": "display_data"
    },
    {
     "name": "stdout",
     "output_type": "stream",
     "text": [
      "\n",
      "AFTER face_lookup_resolved_test\n"
     ]
    },
    {
     "data": {
      "application/vnd.jupyter.widget-view+json": {
       "model_id": "398839216fe1459c93b415a9a64ba7e9",
       "version_major": 2,
       "version_minor": 0
      },
      "text/plain": [
       "HBox(children=(FloatProgress(value=0.0, max=2.0), HTML(value='')))"
      ]
     },
     "metadata": {},
     "output_type": "display_data"
    },
    {
     "name": "stdout",
     "output_type": "stream",
     "text": [
      "\n"
     ]
    },
    {
     "data": {
      "application/vnd.jupyter.widget-view+json": {
       "model_id": "4ca4a0f659e04f62a664facec395f66f",
       "version_major": 2,
       "version_minor": 0
      },
      "text/plain": [
       "HBox(children=(FloatProgress(value=1.0, bar_style='info', max=1.0), HTML(value='')))"
      ]
     },
     "metadata": {},
     "output_type": "display_data"
    },
    {
     "name": "stdout",
     "output_type": "stream",
     "text": [
      "\n",
      "\n",
      "\n",
      "--- Working on 1-to-1 correspondence-----\n",
      "max(original_labels),len(original_labels) = (2, 3)\n",
      "empty_indices % = 0.09261892839258888\n",
      " conflict_indices % = 0.010475713570355533\n"
     ]
    },
    {
     "data": {
      "application/vnd.jupyter.widget-view+json": {
       "model_id": "5ef0a2847170447aa0172c4b9cf35339",
       "version_major": 2,
       "version_minor": 0
      },
      "text/plain": [
       "HBox(children=(FloatProgress(value=0.0, max=14.0), HTML(value='')))"
      ]
     },
     "metadata": {},
     "output_type": "display_data"
    },
    {
     "name": "stdout",
     "output_type": "stream",
     "text": [
      "\n",
      "AFTER face_lookup_resolved_test\n"
     ]
    },
    {
     "data": {
      "application/vnd.jupyter.widget-view+json": {
       "model_id": "a6955b235d0146faaa9a5137b6a968eb",
       "version_major": 2,
       "version_minor": 0
      },
      "text/plain": [
       "HBox(children=(FloatProgress(value=0.0, max=3.0), HTML(value='')))"
      ]
     },
     "metadata": {},
     "output_type": "display_data"
    },
    {
     "name": "stderr",
     "output_type": "stream",
     "text": [
      "\r",
      "  0%|          | 0/1 [00:00<?, ?it/s]"
     ]
    },
    {
     "name": "stdout",
     "output_type": "stream",
     "text": [
      "\n",
      "Deleting branches from dictionary\n",
      "MP_branches_with_stitch_point= [0]\n",
      "MP_branches_for_correspondence = [0]\n",
      "MP_leftover = [], MP_leftover_idx = []\n",
      " Finished with (2, 0) \n",
      "\n",
      "\n",
      "\n",
      "Time for decomp of Limb = 64.93283987045288\n",
      "\n",
      "\n",
      "----- Working on Proper Limb # 4 ---------\n",
      "meshparty_segment_size = 100\n",
      "Time for preparing soma vertices and root: 6.9141387939453125e-06\n",
      "cc_vertex_thresh = 10\n"
     ]
    },
    {
     "data": {
      "application/vnd.jupyter.widget-view+json": {
       "model_id": "71e2929640da4414a357527929602683",
       "version_major": 2,
       "version_minor": 0
      },
      "text/plain": [
       "HBox(children=(FloatProgress(value=0.0, max=49043.0), HTML(value='')))"
      ]
     },
     "metadata": {},
     "output_type": "display_data"
    },
    {
     "name": "stderr",
     "output_type": "stream",
     "text": [
      "100%|██████████| 1/1 [00:00<00:00,  2.39it/s]"
     ]
    },
    {
     "name": "stdout",
     "output_type": "stream",
     "text": [
      "\n"
     ]
    },
    {
     "name": "stderr",
     "output_type": "stream",
     "text": [
      "\n"
     ]
    },
    {
     "name": "stdout",
     "output_type": "stream",
     "text": [
      "Time for 1st pass MP skeletonization: 0.9043769836425781\n",
      "connecting at the root\n",
      "branches_touching_root = [12]\n"
     ]
    },
    {
     "name": "stderr",
     "output_type": "stream",
     "text": [
      "/meshAfterParty/meshparty_skeletonize.py:895: VisibleDeprecationWarning: Creating an ndarray from ragged nested sequences (which is a list-or-tuple of lists-or-tuples-or ndarrays with different lengths or shapes) is deprecated. If you meant to do this, you must specify 'dtype=object' when creating the ndarray\n",
      "  segment_branches = np.array([sk_meshparty_obj.vertices[np.vstack([k[:-1],k[1:]]).T] for k in segments])\n",
      "/meshAfterParty/meshparty_skeletonize.py:933: VisibleDeprecationWarning: Creating an ndarray from ragged nested sequences (which is a list-or-tuple of lists-or-tuples-or ndarrays with different lengths or shapes) is deprecated. If you meant to do this, you must specify 'dtype=object' when creating the ndarray\n",
      "  new_segment_branches = np.array([sk_meshparty_obj.vertices[np.vstack([k[:-1],k[1:]]).T] for k in new_segments])\n",
      "/meshAfterParty/meshparty_skeletonize.py:965: VisibleDeprecationWarning: Creating an ndarray from ragged nested sequences (which is a list-or-tuple of lists-or-tuples-or ndarrays with different lengths or shapes) is deprecated. If you meant to do this, you must specify 'dtype=object' when creating the ndarray\n",
      "  segment_branches = np.array(new_segment_branches)\n"
     ]
    },
    {
     "name": "stdout",
     "output_type": "stream",
     "text": [
      "length of Graph = 4224\n"
     ]
    },
    {
     "name": "stderr",
     "output_type": "stream",
     "text": [
      "/meshAfterParty/meshparty_skeletonize.py:990: VisibleDeprecationWarning: Creating an ndarray from ragged nested sequences (which is a list-or-tuple of lists-or-tuples-or ndarrays with different lengths or shapes) is deprecated. If you meant to do this, you must specify 'dtype=object' when creating the ndarray\n",
      "  segment_branches_filtered = np.array(segment_branches_filtered)\n"
     ]
    },
    {
     "name": "stdout",
     "output_type": "stream",
     "text": [
      "max(kept_branches_idx) = 12, len(kept_branches_idx) = 13\n",
      "empty_indices % = 0.0\n",
      " conflict_indices % = 0.0052739375320020486\n"
     ]
    },
    {
     "name": "stderr",
     "output_type": "stream",
     "text": [
      "/meshAfterParty/trimesh_utils.py:331: VisibleDeprecationWarning: Creating an ndarray from ragged nested sequences (which is a list-or-tuple of lists-or-tuples-or ndarrays with different lengths or shapes) is deprecated. If you meant to do this, you must specify 'dtype=object' when creating the ndarray\n",
      "  ordered_comp_indices = np.array([k.astype(\"int\") for k in ordered_components])\n"
     ]
    },
    {
     "data": {
      "application/vnd.jupyter.widget-view+json": {
       "model_id": "ff7c7c23597847d08e87eec79438086d",
       "version_major": 2,
       "version_minor": 0
      },
      "text/plain": [
       "HBox(children=(FloatProgress(value=0.0, max=5.0), HTML(value='')))"
      ]
     },
     "metadata": {},
     "output_type": "display_data"
    },
    {
     "name": "stdout",
     "output_type": "stream",
     "text": [
      "\n",
      "AFTER face_lookup_resolved_test\n"
     ]
    },
    {
     "data": {
      "application/vnd.jupyter.widget-view+json": {
       "model_id": "f24e9c2eb3a244778fccc7338b6a1f01",
       "version_major": 2,
       "version_minor": 0
      },
      "text/plain": [
       "HBox(children=(FloatProgress(value=0.0, max=13.0), HTML(value='')))"
      ]
     },
     "metadata": {},
     "output_type": "display_data"
    },
    {
     "name": "stdout",
     "output_type": "stream",
     "text": [
      "\n",
      "Decomposing first pass: 3.640026569366455\n",
      "Attempting to use MeshAfterParty Skeletonization and Mesh Correspondence\n",
      "Another print\n",
      "Found len(mesh_large_idx) MAP candidates: [247, 3517, 301, 28666, 2094, 1695]\n",
      "mesh_large_connectivity: 0.07747745513916016\n",
      "Finding MAP candidates connected components: 0.00013780593872070312\n",
      "len(filtered_pieces) = 1\n"
     ]
    },
    {
     "name": "stderr",
     "output_type": "stream",
     "text": [
      "/meshAfterParty/trimesh_utils.py:996: VisibleDeprecationWarning: Creating an ndarray from ragged nested sequences (which is a list-or-tuple of lists-or-tuples-or ndarrays with different lengths or shapes) is deprecated. If you meant to do this, you must specify 'dtype=object' when creating the ndarray\n",
      "  total_submeshes_idx =np.array(list(total_submeshes_idx.values()))\n"
     ]
    },
    {
     "name": "stdout",
     "output_type": "stream",
     "text": [
      "skeleton_connectivity_MP : 0.1293318271636963\n",
      "Grouping MP Sublimbs by Graph: 0.031401634216308594\n",
      "Divinding into MP and MAP pieces: 7.152557373046875e-07\n",
      "--- Working on MAP piece 0---\n",
      "MAP Filtering Soma Pieces: 0.005345582962036133\n",
      "inside skeletonize_connected_branch and use_surface_after_CGAL=False, surface_reconstruction_size=1000\n",
      "     Starting Screened Poisson\n",
      "xvfb-run -n 3310 -s \"-screen 0 800x600x24\" meshlabserver $@  -i /notebooks/Platinum_Decomp_Fusion/temp/None.off -o /notebooks/Platinum_Decomp_Fusion/temp/None_poisson.off -s /notebooks/Platinum_Decomp_Fusion/temp/poisson_385280.mls\n",
      "removed temporary input file: /notebooks/Platinum_Decomp_Fusion/temp/None.off\n",
      "removed temporary output file: /notebooks/Platinum_Decomp_Fusion/temp/None_poisson.off\n",
      "Using the close holes feature\n",
      "xvfb-run -n 5949 -s \"-screen 0 800x600x24\" meshlabserver $@  -i /notebooks/Platinum_Decomp_Fusion/temp/neuron_51293.off -o /notebooks/Platinum_Decomp_Fusion/temp/neuron_51293_fill_holes.off -s /notebooks/Platinum_Decomp_Fusion/temp/fill_holes_898556.mls\n",
      "removed temporary input file: /notebooks/Platinum_Decomp_Fusion/temp/neuron_51293.off\n",
      "removed temporary output file: /notebooks/Platinum_Decomp_Fusion/temp/neuron_51293_fill_holes.off\n",
      "-----Time for Screened Poisson= 15.646909952163696\n",
      "     Starting Calcification\n",
      "node_degrees = [3 2 3]\n"
     ]
    },
    {
     "data": {
      "application/vnd.jupyter.widget-view+json": {
       "model_id": "2718685b0a2c4171b683fa1ffe46bfac",
       "version_major": 2,
       "version_minor": 0
      },
      "text/plain": [
       "HBox(children=(FloatProgress(value=1.0, bar_style='info', max=1.0), HTML(value='')))"
      ]
     },
     "metadata": {},
     "output_type": "display_data"
    },
    {
     "name": "stdout",
     "output_type": "stream",
     "text": [
      "\n",
      "No skeletons to stack so returning empty list\n",
      "len_subgraphs AT BEGINNING of the loop\n"
     ]
    },
    {
     "data": {
      "application/vnd.jupyter.widget-view+json": {
       "model_id": "0a4e83acf055424580be1e91be5548f9",
       "version_major": 2,
       "version_minor": 0
      },
      "text/plain": [
       "HBox(children=(FloatProgress(value=0.0, max=2.0), HTML(value='')))"
      ]
     },
     "metadata": {},
     "output_type": "display_data"
    },
    {
     "name": "stdout",
     "output_type": "stream",
     "text": [
      "all graph is one component!\n",
      "\n",
      "Total time for skeleton stitching = 0.05625414848327637\n",
      "The process was using a temp folder\n",
      "Checking connected components after skeletonize_connected_branch\n",
      "    Total time for skeletonizing branch: 18.874736309051514\n",
      "Checking connected components after removing cycles\n",
      "Total time for mesh KDTree = 0.25742101669311523\n",
      "sbv[0].reshape(-1,3) = [[650296.7 438980.5 690554.7]]\n",
      "closest_sk_pt_coord BEFORE = [651391. 440284. 689999.]\n",
      "current_skeleton.shape = (339, 2, 3)\n",
      "Current stitch point was a branch or endpoint\n",
      "change_status for create soma extending pieces = False\n",
      "closest_sk_pt_coord AFTER = [651391. 440284. 689999.]\n",
      "skipping soma 0 because closest skeleton node was already end node\n",
      "endpoints_must_keep = {0: array([[651391., 440284., 689999.]])}\n",
      "    Total time for Fixing Skeleton Soma Endpoint Extension : 0.38155436515808105\n",
      "filter_end_node_length = 1500\n",
      "Using Distance measure skeletal_distance\n",
      "endpoints_must_keep = [[651391. 440284. 689999.]]\n",
      "Number of end_nodes BEFORE filtering = 12\n",
      "all_single_nodes_to_eliminate = [0]\n"
     ]
    },
    {
     "data": {
      "application/vnd.jupyter.widget-view+json": {
       "model_id": "c6580b9228ff42e5b79f92ea384c2e4f",
       "version_major": 2,
       "version_minor": 0
      },
      "text/plain": [
       "HBox(children=(FloatProgress(value=0.0, max=9.0), HTML(value='')))"
      ]
     },
     "metadata": {},
     "output_type": "display_data"
    },
    {
     "name": "stdout",
     "output_type": "stream",
     "text": [
      "\n",
      "Checking connected components after clean_skeleton\n",
      "after DISTANCE cleaning limb size of skeleton = (323, 2, 3)\n",
      "********COMBINING CLOSE SKELETON NODES WITHIN 700 DISTANCE**********\n",
      "Found 0 valid paths to replace\n",
      "valid_paths = []\n",
      "valid_path_lengths = []\n",
      "No valid paths found so just returning the original\n",
      "skeletonize_and_clean_connected_branch_CGAL: 19.51903796195984\n",
      "Working on limb correspondence for #0 MAP piece\n"
     ]
    },
    {
     "data": {
      "application/vnd.jupyter.widget-view+json": {
       "model_id": "724b69c139b94cebb8d6772245acd880",
       "version_major": 2,
       "version_minor": 0
      },
      "text/plain": [
       "HBox(children=(FloatProgress(value=1.0, bar_style='info', max=1.0), HTML(value='')))"
      ]
     },
     "metadata": {},
     "output_type": "display_data"
    },
    {
     "name": "stdout",
     "output_type": "stream",
     "text": [
      "\n",
      "Total time for decomposition = 5.519725322723389\n",
      "mesh_correspondence_first_pass: 5.519759178161621\n",
      "Limb decomposed into 3 branches\n",
      "divided_skeleton_graph_recovered = (323, 2, 3) and \n",
      "current_mesh_data[0]['branch_skeletons_cleaned'].shape = (323, 2, 3)\n",
      "\n",
      "Number of connected components in deocmposed recovered graph = 1\n",
      "Number of connected components in cleaned skeleton graph= 1\n",
      "The downsampled branches number of connected components = 1\n",
      "Empty submeshes = []\n",
      "\n",
      "\n",
      "--- Working on 1-to-1 correspondence-----\n",
      "max(original_labels),len(original_labels) = (2, 3)\n",
      "empty_indices % = 0.08743154435925521\n",
      " conflict_indices % = 0.013389923329682366\n"
     ]
    },
    {
     "data": {
      "application/vnd.jupyter.widget-view+json": {
       "model_id": "0b315023bcc44edca3e9e6a2aaf15ef0",
       "version_major": 2,
       "version_minor": 0
      },
      "text/plain": [
       "HBox(children=(FloatProgress(value=0.0, max=22.0), HTML(value='')))"
      ]
     },
     "metadata": {},
     "output_type": "display_data"
    },
    {
     "name": "stdout",
     "output_type": "stream",
     "text": [
      "\n",
      "AFTER face_lookup_resolved_test\n",
      "Took 0 iterations to expand the label back\n",
      "empty_indices % = 0.0\n",
      " conflict_indices % = 0.0\n"
     ]
    },
    {
     "data": {
      "application/vnd.jupyter.widget-view+json": {
       "model_id": "0858d7bf23fd4b3c836caba11a71b581",
       "version_major": 2,
       "version_minor": 0
      },
      "text/plain": [
       "HBox(children=(FloatProgress(value=1.0, bar_style='info', max=1.0), HTML(value='')))"
      ]
     },
     "metadata": {},
     "output_type": "display_data"
    },
    {
     "name": "stdout",
     "output_type": "stream",
     "text": [
      "\n",
      "AFTER face_lookup_resolved_test\n"
     ]
    },
    {
     "data": {
      "application/vnd.jupyter.widget-view+json": {
       "model_id": "9833215a3d8d441d8dae5faf8712a7f3",
       "version_major": 2,
       "version_minor": 0
      },
      "text/plain": [
       "HBox(children=(FloatProgress(value=0.0, max=3.0), HTML(value='')))"
      ]
     },
     "metadata": {},
     "output_type": "display_data"
    },
    {
     "name": "stdout",
     "output_type": "stream",
     "text": [
      "\n",
      "Total time for MAP sublimb #0 mesh processing = 27.13375949859619\n",
      "correspondence_1_to_1: 2.0895447731018066\n",
      "Total time for MAP sublimb processing 27.13398289680481\n",
      "---- Working on MP Decomposition #0 ----\n",
      "Computing the current soma touching verts dict manually\n",
      "MP filtering soma verts: 0.0057032108306884766\n",
      "Do Not Need to Fix MP Decomposition 0 so just continuing\n",
      "---- Working on MP Decomposition #1 ----\n",
      "Computing the current soma touching verts dict manually\n",
      "MP filtering soma verts: 0.004259347915649414\n",
      "Do Not Need to Fix MP Decomposition 1 so just continuing\n",
      "---- Working on MP Decomposition #2 ----\n",
      "Computing the current soma touching verts dict manually\n",
      "MP filtering soma verts: 0.0027909278869628906\n",
      "Do Not Need to Fix MP Decomposition 2 so just continuing\n",
      "---- Working on MP Decomposition #3 ----\n",
      "Computing the current soma touching verts dict manually\n",
      "MP filtering soma verts: 0.0031251907348632812\n",
      "Do Not Need to Fix MP Decomposition 3 so just continuing\n",
      "\n",
      "---- Working on (0, 0) connection-----\n",
      "Current stitch point was a branch or endpoint\n",
      "sk_conn = [1, 3]\n",
      "conn = [1, 3]\n",
      "winning_vertex = [662010.2009971  456792.71156643 691619.01219174]\n",
      "MP_branches_with_stitch_point = [1, 3]\n",
      "MAP_branches_with_stitch_point = [1]\n",
      "MAP_stitch_point_on_end_or_branch = True\n",
      "Using max stitch distance (300) for smoothing because stitch_distance greater (2146.7397987805552) \n"
     ]
    },
    {
     "name": "stderr",
     "output_type": "stream",
     "text": [
      "/meshAfterParty/preprocessing_vp2.py:1588: VisibleDeprecationWarning: Creating an ndarray from ragged nested sequences (which is a list-or-tuple of lists-or-tuples-or ndarrays with different lengths or shapes) is deprecated. If you meant to do this, you must specify 'dtype=object' when creating the ndarray\n",
      "  for k in o_keys])\n"
     ]
    },
    {
     "name": "stdout",
     "output_type": "stream",
     "text": [
      "Found winning edge: [9, 10.0]\n",
      "in remove edge\n",
      "Using max stitch distance (300) for smoothing because stitch_distance greater (2055.514751212245) \n",
      "Found winning edge: [2, 4.0]\n",
      "in remove edge\n"
     ]
    },
    {
     "data": {
      "application/vnd.jupyter.widget-view+json": {
       "model_id": "66ce5c1c95da4c1ab912dbd6e717098b",
       "version_major": 2,
       "version_minor": 0
      },
      "text/plain": [
       "HBox(children=(FloatProgress(value=1.0, bar_style='info', max=1.0), HTML(value='')))"
      ]
     },
     "metadata": {},
     "output_type": "display_data"
    },
    {
     "name": "stderr",
     "output_type": "stream",
     "text": [
      "/meshAfterParty/trimesh_utils.py:331: VisibleDeprecationWarning: Creating an ndarray from ragged nested sequences (which is a list-or-tuple of lists-or-tuples-or ndarrays with different lengths or shapes) is deprecated. If you meant to do this, you must specify 'dtype=object' when creating the ndarray\n",
      "  ordered_comp_indices = np.array([k.astype(\"int\") for k in ordered_components])\n"
     ]
    },
    {
     "name": "stdout",
     "output_type": "stream",
     "text": [
      "\n",
      "\n",
      "\n",
      "--- Working on 1-to-1 correspondence-----\n",
      "max(original_labels),len(original_labels) = (2, 3)\n",
      "empty_indices % = 0.3039722572509458\n",
      " conflict_indices % = 0.015037831021437579\n"
     ]
    },
    {
     "data": {
      "application/vnd.jupyter.widget-view+json": {
       "model_id": "d2e4ac68dbc24790a3b7f28124c5c25d",
       "version_major": 2,
       "version_minor": 0
      },
      "text/plain": [
       "HBox(children=(FloatProgress(value=0.0, max=10.0), HTML(value='')))"
      ]
     },
     "metadata": {},
     "output_type": "display_data"
    },
    {
     "name": "stdout",
     "output_type": "stream",
     "text": [
      "\n",
      "AFTER face_lookup_resolved_test\n"
     ]
    },
    {
     "data": {
      "application/vnd.jupyter.widget-view+json": {
       "model_id": "5565785878574554a2100675ac863541",
       "version_major": 2,
       "version_minor": 0
      },
      "text/plain": [
       "HBox(children=(FloatProgress(value=0.0, max=3.0), HTML(value='')))"
      ]
     },
     "metadata": {},
     "output_type": "display_data"
    },
    {
     "name": "stdout",
     "output_type": "stream",
     "text": [
      "\n",
      "MP_branches_with_stitch_point= [1, 3]\n",
      "MP_branches_for_correspondence = [1 3]\n",
      "MP_leftover = [], MP_leftover_idx = []\n",
      " Finished with (0, 0) \n",
      "\n",
      "\n",
      "\n",
      "\n",
      "---- Working on (1, 0) connection-----\n",
      "Current stitch point was not a branch or endpoint, shortest_path_length to one = 1624.2794868856517\n",
      "sk_conn = [0]\n",
      "conn = [0]\n",
      "winning_vertex = [655999.1170481  443179.61111621 688793.94447527]\n",
      "MP_branches_with_stitch_point = [0]\n",
      "MAP_branches_with_stitch_point = [1]\n",
      "MAP_stitch_point_on_end_or_branch = False\n",
      "Using max stitch distance (300) for smoothing because stitch_distance greater (425.82706862691384) \n"
     ]
    },
    {
     "name": "stderr",
     "output_type": "stream",
     "text": [
      "/meshAfterParty/preprocessing_vp2.py:1588: VisibleDeprecationWarning: Creating an ndarray from ragged nested sequences (which is a list-or-tuple of lists-or-tuples-or ndarrays with different lengths or shapes) is deprecated. If you meant to do this, you must specify 'dtype=object' when creating the ndarray\n",
      "  for k in o_keys])\n"
     ]
    },
    {
     "name": "stdout",
     "output_type": "stream",
     "text": [
      "Found winning edge: [366, 371.0]\n",
      "in remove edge\n"
     ]
    },
    {
     "data": {
      "application/vnd.jupyter.widget-view+json": {
       "model_id": "d61755502fa54394b9dd47f1e90cb519",
       "version_major": 2,
       "version_minor": 0
      },
      "text/plain": [
       "HBox(children=(FloatProgress(value=1.0, bar_style='info', max=1.0), HTML(value='')))"
      ]
     },
     "metadata": {},
     "output_type": "display_data"
    },
    {
     "name": "stderr",
     "output_type": "stream",
     "text": [
      "/meshAfterParty/trimesh_utils.py:331: VisibleDeprecationWarning: Creating an ndarray from ragged nested sequences (which is a list-or-tuple of lists-or-tuples-or ndarrays with different lengths or shapes) is deprecated. If you meant to do this, you must specify 'dtype=object' when creating the ndarray\n",
      "  ordered_comp_indices = np.array([k.astype(\"int\") for k in ordered_components])\n"
     ]
    },
    {
     "name": "stdout",
     "output_type": "stream",
     "text": [
      "\n",
      "\n",
      "\n",
      "--- Working on 1-to-1 correspondence-----\n",
      "max(original_labels),len(original_labels) = (1, 2)\n",
      "empty_indices % = 0.08883939618906211\n",
      " conflict_indices % = 0.007918831972284088\n"
     ]
    },
    {
     "data": {
      "application/vnd.jupyter.widget-view+json": {
       "model_id": "e774f1abfcc142189d37d299f322e7fb",
       "version_major": 2,
       "version_minor": 0
      },
      "text/plain": [
       "HBox(children=(FloatProgress(value=0.0, max=3.0), HTML(value='')))"
      ]
     },
     "metadata": {},
     "output_type": "display_data"
    },
    {
     "name": "stdout",
     "output_type": "stream",
     "text": [
      "\n",
      "AFTER face_lookup_resolved_test\n"
     ]
    },
    {
     "data": {
      "application/vnd.jupyter.widget-view+json": {
       "model_id": "3c73b9fbe7ae431d858727b052e451c6",
       "version_major": 2,
       "version_minor": 0
      },
      "text/plain": [
       "HBox(children=(FloatProgress(value=0.0, max=2.0), HTML(value='')))"
      ]
     },
     "metadata": {},
     "output_type": "display_data"
    },
    {
     "name": "stdout",
     "output_type": "stream",
     "text": [
      "\n"
     ]
    },
    {
     "data": {
      "application/vnd.jupyter.widget-view+json": {
       "model_id": "a973fe51701c4d4d888f60caea43d300",
       "version_major": 2,
       "version_minor": 0
      },
      "text/plain": [
       "HBox(children=(FloatProgress(value=1.0, bar_style='info', max=1.0), HTML(value='')))"
      ]
     },
     "metadata": {},
     "output_type": "display_data"
    },
    {
     "name": "stdout",
     "output_type": "stream",
     "text": [
      "\n",
      "\n",
      "\n",
      "--- Working on 1-to-1 correspondence-----\n",
      "max(original_labels),len(original_labels) = (2, 3)\n",
      "empty_indices % = 0.09752605202450083\n",
      " conflict_indices % = 0.025614509585554054\n"
     ]
    },
    {
     "data": {
      "application/vnd.jupyter.widget-view+json": {
       "model_id": "6b135b8bd4a442418f9d1e0add216b9a",
       "version_major": 2,
       "version_minor": 0
      },
      "text/plain": [
       "HBox(children=(FloatProgress(value=0.0, max=8.0), HTML(value='')))"
      ]
     },
     "metadata": {},
     "output_type": "display_data"
    },
    {
     "name": "stdout",
     "output_type": "stream",
     "text": [
      "\n",
      "AFTER face_lookup_resolved_test\n"
     ]
    },
    {
     "data": {
      "application/vnd.jupyter.widget-view+json": {
       "model_id": "93a6ab4169894255af821fdf3c05d351",
       "version_major": 2,
       "version_minor": 0
      },
      "text/plain": [
       "HBox(children=(FloatProgress(value=0.0, max=3.0), HTML(value='')))"
      ]
     },
     "metadata": {},
     "output_type": "display_data"
    },
    {
     "name": "stdout",
     "output_type": "stream",
     "text": [
      "\n",
      "Deleting branches from dictionary\n",
      "MP_branches_with_stitch_point= [0]\n",
      "MP_branches_for_correspondence = [0]\n",
      "MP_leftover = [], MP_leftover_idx = []\n",
      " Finished with (1, 0) \n",
      "\n",
      "\n",
      "\n",
      "\n",
      "---- Working on (2, 0) connection-----\n",
      "Current stitch point was a branch or endpoint\n",
      "sk_conn = [0]\n",
      "conn = [0]\n",
      "winning_vertex = [661225.9540263  455833.10425842 690967.87892665]\n",
      "MP_branches_with_stitch_point = [0]\n",
      "MAP_branches_with_stitch_point = [3]\n",
      "MAP_stitch_point_on_end_or_branch = True\n",
      "Using max stitch distance (300) for smoothing because stitch_distance greater (679.0750263340178) \n"
     ]
    },
    {
     "name": "stderr",
     "output_type": "stream",
     "text": [
      "/meshAfterParty/preprocessing_vp2.py:1588: VisibleDeprecationWarning: Creating an ndarray from ragged nested sequences (which is a list-or-tuple of lists-or-tuples-or ndarrays with different lengths or shapes) is deprecated. If you meant to do this, you must specify 'dtype=object' when creating the ndarray\n",
      "  for k in o_keys])\n"
     ]
    },
    {
     "name": "stdout",
     "output_type": "stream",
     "text": [
      "Found winning edge: [9, 10.0]\n",
      "in remove edge\n"
     ]
    },
    {
     "data": {
      "application/vnd.jupyter.widget-view+json": {
       "model_id": "909b4b6dd6064b9694ce0467d199c6fa",
       "version_major": 2,
       "version_minor": 0
      },
      "text/plain": [
       "HBox(children=(FloatProgress(value=1.0, bar_style='info', max=1.0), HTML(value='')))"
      ]
     },
     "metadata": {},
     "output_type": "display_data"
    },
    {
     "name": "stderr",
     "output_type": "stream",
     "text": [
      "/meshAfterParty/trimesh_utils.py:331: VisibleDeprecationWarning: Creating an ndarray from ragged nested sequences (which is a list-or-tuple of lists-or-tuples-or ndarrays with different lengths or shapes) is deprecated. If you meant to do this, you must specify 'dtype=object' when creating the ndarray\n",
      "  ordered_comp_indices = np.array([k.astype(\"int\") for k in ordered_components])\n"
     ]
    },
    {
     "name": "stdout",
     "output_type": "stream",
     "text": [
      "\n",
      "\n",
      "\n",
      "--- Working on 1-to-1 correspondence-----\n",
      "max(original_labels),len(original_labels) = (1, 2)\n",
      "empty_indices % = 0.058817104472721315\n",
      " conflict_indices % = 0.00513352629566927\n"
     ]
    },
    {
     "data": {
      "application/vnd.jupyter.widget-view+json": {
       "model_id": "cd094120e0f4426d8cafeb356dc49505",
       "version_major": 2,
       "version_minor": 0
      },
      "text/plain": [
       "HBox(children=(FloatProgress(value=0.0, max=12.0), HTML(value='')))"
      ]
     },
     "metadata": {},
     "output_type": "display_data"
    },
    {
     "name": "stdout",
     "output_type": "stream",
     "text": [
      "\n",
      "AFTER face_lookup_resolved_test\n"
     ]
    },
    {
     "data": {
      "application/vnd.jupyter.widget-view+json": {
       "model_id": "75c8badf919741e683756c377a1386b8",
       "version_major": 2,
       "version_minor": 0
      },
      "text/plain": [
       "HBox(children=(FloatProgress(value=0.0, max=2.0), HTML(value='')))"
      ]
     },
     "metadata": {},
     "output_type": "display_data"
    },
    {
     "name": "stdout",
     "output_type": "stream",
     "text": [
      "\n",
      "MP_branches_with_stitch_point= [0]\n",
      "MP_branches_for_correspondence = [0]\n",
      "MP_leftover = [], MP_leftover_idx = []\n",
      " Finished with (2, 0) \n",
      "\n",
      "\n",
      "\n",
      "\n",
      "---- Working on (3, 0) connection-----\n",
      "Current stitch point was not a branch or endpoint, shortest_path_length to one = 10832.297531734312\n",
      "sk_conn = [0]\n",
      "conn = [0]\n",
      "winning_vertex = [661998.59464337 440327.15933528 681700.5794359 ]\n",
      "MP_branches_with_stitch_point = [0]\n",
      "MAP_branches_with_stitch_point = [2]\n",
      "MAP_stitch_point_on_end_or_branch = False\n",
      "Using max stitch distance (300) for smoothing because stitch_distance greater (320.3587715346957) \n",
      "Found winning edge: [50, 52.0]\n",
      "in remove edge\n"
     ]
    },
    {
     "name": "stderr",
     "output_type": "stream",
     "text": [
      "/meshAfterParty/preprocessing_vp2.py:1588: VisibleDeprecationWarning: Creating an ndarray from ragged nested sequences (which is a list-or-tuple of lists-or-tuples-or ndarrays with different lengths or shapes) is deprecated. If you meant to do this, you must specify 'dtype=object' when creating the ndarray\n",
      "  for k in o_keys])\n"
     ]
    },
    {
     "data": {
      "application/vnd.jupyter.widget-view+json": {
       "model_id": "8371478cb8b14d3f99627771ab6ef11f",
       "version_major": 2,
       "version_minor": 0
      },
      "text/plain": [
       "HBox(children=(FloatProgress(value=1.0, bar_style='info', max=1.0), HTML(value='')))"
      ]
     },
     "metadata": {},
     "output_type": "display_data"
    },
    {
     "name": "stderr",
     "output_type": "stream",
     "text": [
      "/meshAfterParty/trimesh_utils.py:331: VisibleDeprecationWarning: Creating an ndarray from ragged nested sequences (which is a list-or-tuple of lists-or-tuples-or ndarrays with different lengths or shapes) is deprecated. If you meant to do this, you must specify 'dtype=object' when creating the ndarray\n",
      "  ordered_comp_indices = np.array([k.astype(\"int\") for k in ordered_components])\n"
     ]
    },
    {
     "name": "stdout",
     "output_type": "stream",
     "text": [
      "\n",
      "\n",
      "\n",
      "--- Working on 1-to-1 correspondence-----\n",
      "max(original_labels),len(original_labels) = (1, 2)\n",
      "empty_indices % = 0.058286675944205314\n",
      " conflict_indices % = 0.001553448331661219\n"
     ]
    },
    {
     "data": {
      "application/vnd.jupyter.widget-view+json": {
       "model_id": "2578a945bbe24c7782a7d2d40f255718",
       "version_major": 2,
       "version_minor": 0
      },
      "text/plain": [
       "HBox(children=(FloatProgress(value=0.0, max=17.0), HTML(value='')))"
      ]
     },
     "metadata": {},
     "output_type": "display_data"
    },
    {
     "name": "stdout",
     "output_type": "stream",
     "text": [
      "\n",
      "AFTER face_lookup_resolved_test\n"
     ]
    },
    {
     "data": {
      "application/vnd.jupyter.widget-view+json": {
       "model_id": "8b169e6e32834f70bbc951bee86cadc1",
       "version_major": 2,
       "version_minor": 0
      },
      "text/plain": [
       "HBox(children=(FloatProgress(value=0.0, max=2.0), HTML(value='')))"
      ]
     },
     "metadata": {},
     "output_type": "display_data"
    },
    {
     "name": "stdout",
     "output_type": "stream",
     "text": [
      "\n"
     ]
    },
    {
     "data": {
      "application/vnd.jupyter.widget-view+json": {
       "model_id": "a47e0d0465f748afac882cc3d40a51f0",
       "version_major": 2,
       "version_minor": 0
      },
      "text/plain": [
       "HBox(children=(FloatProgress(value=1.0, bar_style='info', max=1.0), HTML(value='')))"
      ]
     },
     "metadata": {},
     "output_type": "display_data"
    },
    {
     "name": "stdout",
     "output_type": "stream",
     "text": [
      "\n",
      "\n",
      "\n",
      "--- Working on 1-to-1 correspondence-----\n",
      "max(original_labels),len(original_labels) = (2, 3)\n",
      "empty_indices % = 0.05426825912268149\n",
      " conflict_indices % = 0.011337993285266112\n"
     ]
    },
    {
     "data": {
      "application/vnd.jupyter.widget-view+json": {
       "model_id": "dd2a25687f8a4c71961f64e385cb4cf2",
       "version_major": 2,
       "version_minor": 0
      },
      "text/plain": [
       "HBox(children=(FloatProgress(value=0.0, max=3.0), HTML(value='')))"
      ]
     },
     "metadata": {},
     "output_type": "display_data"
    },
    {
     "name": "stdout",
     "output_type": "stream",
     "text": [
      "\n",
      "AFTER face_lookup_resolved_test\n"
     ]
    },
    {
     "data": {
      "application/vnd.jupyter.widget-view+json": {
       "model_id": "75b563a9baee4570bb2ab8640d1ae991",
       "version_major": 2,
       "version_minor": 0
      },
      "text/plain": [
       "HBox(children=(FloatProgress(value=0.0, max=3.0), HTML(value='')))"
      ]
     },
     "metadata": {},
     "output_type": "display_data"
    },
    {
     "name": "stderr",
     "output_type": "stream",
     "text": [
      "\r",
      "  0%|          | 0/1 [00:00<?, ?it/s]"
     ]
    },
    {
     "name": "stdout",
     "output_type": "stream",
     "text": [
      "\n",
      "Deleting branches from dictionary\n",
      "MP_branches_with_stitch_point= [0]\n",
      "MP_branches_for_correspondence = [0]\n",
      "MP_leftover = [], MP_leftover_idx = []\n",
      " Finished with (3, 0) \n",
      "\n",
      "\n",
      "\n",
      "Time for decomp of Limb = 55.10042452812195\n",
      "\n",
      "\n",
      "----- Working on Proper Limb # 5 ---------\n",
      "meshparty_segment_size = 100\n",
      "Time for preparing soma vertices and root: 1.1444091796875e-05\n",
      "cc_vertex_thresh = 10\n"
     ]
    },
    {
     "data": {
      "application/vnd.jupyter.widget-view+json": {
       "model_id": "3eef389d2ec44190b104815c073ba18e",
       "version_major": 2,
       "version_minor": 0
      },
      "text/plain": [
       "HBox(children=(FloatProgress(value=0.0, max=36888.0), HTML(value='')))"
      ]
     },
     "metadata": {},
     "output_type": "display_data"
    },
    {
     "name": "stderr",
     "output_type": "stream",
     "text": [
      "100%|██████████| 1/1 [00:00<00:00,  4.90it/s]"
     ]
    },
    {
     "name": "stdout",
     "output_type": "stream",
     "text": [
      "\n"
     ]
    },
    {
     "name": "stderr",
     "output_type": "stream",
     "text": [
      "\n"
     ]
    },
    {
     "name": "stdout",
     "output_type": "stream",
     "text": [
      "Time for 1st pass MP skeletonization: 0.5667757987976074\n",
      "connecting at the root\n",
      "branches_touching_root = [2]\n"
     ]
    },
    {
     "name": "stderr",
     "output_type": "stream",
     "text": [
      "/meshAfterParty/meshparty_skeletonize.py:895: VisibleDeprecationWarning: Creating an ndarray from ragged nested sequences (which is a list-or-tuple of lists-or-tuples-or ndarrays with different lengths or shapes) is deprecated. If you meant to do this, you must specify 'dtype=object' when creating the ndarray\n",
      "  segment_branches = np.array([sk_meshparty_obj.vertices[np.vstack([k[:-1],k[1:]]).T] for k in segments])\n",
      "/meshAfterParty/meshparty_skeletonize.py:933: VisibleDeprecationWarning: Creating an ndarray from ragged nested sequences (which is a list-or-tuple of lists-or-tuples-or ndarrays with different lengths or shapes) is deprecated. If you meant to do this, you must specify 'dtype=object' when creating the ndarray\n",
      "  new_segment_branches = np.array([sk_meshparty_obj.vertices[np.vstack([k[:-1],k[1:]]).T] for k in new_segments])\n",
      "/meshAfterParty/meshparty_skeletonize.py:965: VisibleDeprecationWarning: Creating an ndarray from ragged nested sequences (which is a list-or-tuple of lists-or-tuples-or ndarrays with different lengths or shapes) is deprecated. If you meant to do this, you must specify 'dtype=object' when creating the ndarray\n",
      "  segment_branches = np.array(new_segment_branches)\n"
     ]
    },
    {
     "name": "stdout",
     "output_type": "stream",
     "text": [
      "length of Graph = 2694\n"
     ]
    },
    {
     "name": "stderr",
     "output_type": "stream",
     "text": [
      "/meshAfterParty/meshparty_skeletonize.py:990: VisibleDeprecationWarning: Creating an ndarray from ragged nested sequences (which is a list-or-tuple of lists-or-tuples-or ndarrays with different lengths or shapes) is deprecated. If you meant to do this, you must specify 'dtype=object' when creating the ndarray\n",
      "  segment_branches_filtered = np.array(segment_branches_filtered)\n"
     ]
    },
    {
     "name": "stdout",
     "output_type": "stream",
     "text": [
      "max(kept_branches_idx) = 2, len(kept_branches_idx) = 3\n",
      "empty_indices % = 0.0\n",
      " conflict_indices % = 0.0011026859250990375\n"
     ]
    },
    {
     "data": {
      "application/vnd.jupyter.widget-view+json": {
       "model_id": "b67ae86fd4234721b52284861c0edc1a",
       "version_major": 2,
       "version_minor": 0
      },
      "text/plain": [
       "HBox(children=(FloatProgress(value=0.0, max=1.0), HTML(value='')))"
      ]
     },
     "metadata": {},
     "output_type": "display_data"
    },
    {
     "name": "stdout",
     "output_type": "stream",
     "text": [
      "\n",
      "AFTER face_lookup_resolved_test\n"
     ]
    },
    {
     "data": {
      "application/vnd.jupyter.widget-view+json": {
       "model_id": "6efc8cb0895c4764b6340d77bf84f5ab",
       "version_major": 2,
       "version_minor": 0
      },
      "text/plain": [
       "HBox(children=(FloatProgress(value=0.0, max=3.0), HTML(value='')))"
      ]
     },
     "metadata": {},
     "output_type": "display_data"
    },
    {
     "name": "stdout",
     "output_type": "stream",
     "text": [
      "\n",
      "Decomposing first pass: 1.8348076343536377\n",
      "Attempting to use MeshAfterParty Skeletonization and Mesh Correspondence\n",
      "Another print\n",
      "Found len(mesh_large_idx) MAP candidates: [25080, 28902]\n",
      "mesh_large_connectivity: 0.04208779335021973\n",
      "Finding MAP candidates connected components: 0.0001125335693359375\n",
      "len(filtered_pieces) = 1\n",
      "skeleton_connectivity_MP : 0.0499730110168457\n",
      "Grouping MP Sublimbs by Graph: 0.009630441665649414\n",
      "Divinding into MP and MAP pieces: 9.5367431640625e-07\n",
      "--- Working on MAP piece 0---\n",
      "MAP Filtering Soma Pieces: 0.005365848541259766\n",
      "inside skeletonize_connected_branch and use_surface_after_CGAL=False, surface_reconstruction_size=1000\n",
      "     Starting Screened Poisson\n"
     ]
    },
    {
     "name": "stderr",
     "output_type": "stream",
     "text": [
      "/meshAfterParty/trimesh_utils.py:996: VisibleDeprecationWarning: Creating an ndarray from ragged nested sequences (which is a list-or-tuple of lists-or-tuples-or ndarrays with different lengths or shapes) is deprecated. If you meant to do this, you must specify 'dtype=object' when creating the ndarray\n",
      "  total_submeshes_idx =np.array(list(total_submeshes_idx.values()))\n"
     ]
    },
    {
     "name": "stdout",
     "output_type": "stream",
     "text": [
      "xvfb-run -n 2810 -s \"-screen 0 800x600x24\" meshlabserver $@  -i /notebooks/Platinum_Decomp_Fusion/temp/None.off -o /notebooks/Platinum_Decomp_Fusion/temp/None_poisson.off -s /notebooks/Platinum_Decomp_Fusion/temp/poisson_843788.mls\n",
      "removed temporary input file: /notebooks/Platinum_Decomp_Fusion/temp/None.off\n",
      "removed temporary output file: /notebooks/Platinum_Decomp_Fusion/temp/None_poisson.off\n",
      "Using the close holes feature\n",
      "xvfb-run -n 909 -s \"-screen 0 800x600x24\" meshlabserver $@  -i /notebooks/Platinum_Decomp_Fusion/temp/neuron_924.off -o /notebooks/Platinum_Decomp_Fusion/temp/neuron_924_fill_holes.off -s /notebooks/Platinum_Decomp_Fusion/temp/fill_holes_788469.mls\n",
      "removed temporary input file: /notebooks/Platinum_Decomp_Fusion/temp/neuron_924.off\n",
      "removed temporary output file: /notebooks/Platinum_Decomp_Fusion/temp/neuron_924_fill_holes.off\n",
      "-----Time for Screened Poisson= 20.449267625808716\n",
      "     Starting Calcification\n"
     ]
    },
    {
     "data": {
      "application/vnd.jupyter.widget-view+json": {
       "model_id": "3893ca5b423a4ebda08f00f5c6d50236",
       "version_major": 2,
       "version_minor": 0
      },
      "text/plain": [
       "HBox(children=(FloatProgress(value=1.0, bar_style='info', max=1.0), HTML(value='')))"
      ]
     },
     "metadata": {},
     "output_type": "display_data"
    },
    {
     "name": "stdout",
     "output_type": "stream",
     "text": [
      "\n",
      "No skeletons to stack so returning empty list\n",
      "len_subgraphs AT BEGINNING of the loop\n"
     ]
    },
    {
     "data": {
      "application/vnd.jupyter.widget-view+json": {
       "model_id": "c894f0c3cbbf427ab3c32259f6220c31",
       "version_major": 2,
       "version_minor": 0
      },
      "text/plain": [
       "HBox(children=(FloatProgress(value=0.0, max=5.0), HTML(value='')))"
      ]
     },
     "metadata": {},
     "output_type": "display_data"
    },
    {
     "name": "stdout",
     "output_type": "stream",
     "text": [
      "all graph is one component!\n",
      "\n",
      "Total time for skeleton stitching = 0.05512261390686035\n",
      "The process was using a temp folder\n",
      "Checking connected components after skeletonize_connected_branch\n",
      "    Total time for skeletonizing branch: 24.672566890716553\n",
      "Checking connected components after removing cycles\n",
      "Total time for mesh KDTree = 0.36888575553894043\n",
      "sbv[0].reshape(-1,3) = [[635051.  437996.5 693226.9]]\n",
      "closest_sk_pt_coord BEFORE = [632959. 438146. 692828.]\n",
      "current_skeleton.shape = (460, 2, 3)\n",
      "Current stitch point was a branch or endpoint\n",
      "change_status for create soma extending pieces = False\n",
      "closest_sk_pt_coord AFTER = [632959. 438146. 692828.]\n",
      "skipping soma 0 because closest skeleton node was already end node\n",
      "endpoints_must_keep = {0: array([[632959., 438146., 692828.]])}\n",
      "    Total time for Fixing Skeleton Soma Endpoint Extension : 0.5274097919464111\n",
      "filter_end_node_length = 1500\n",
      "Using Distance measure skeletal_distance\n",
      "endpoints_must_keep = [[632959. 438146. 692828.]]\n",
      "Number of end_nodes BEFORE filtering = 22\n",
      "all_single_nodes_to_eliminate = [21]\n"
     ]
    },
    {
     "data": {
      "application/vnd.jupyter.widget-view+json": {
       "model_id": "7e17ab2eeb88456a9638f8048157c809",
       "version_major": 2,
       "version_minor": 0
      },
      "text/plain": [
       "HBox(children=(FloatProgress(value=0.0, max=14.0), HTML(value='')))"
      ]
     },
     "metadata": {},
     "output_type": "display_data"
    },
    {
     "name": "stdout",
     "output_type": "stream",
     "text": [
      "\n",
      "Checking connected components after clean_skeleton\n",
      "after DISTANCE cleaning limb size of skeleton = (429, 2, 3)\n",
      "********COMBINING CLOSE SKELETON NODES WITHIN 700 DISTANCE**********\n",
      "Found 0 valid paths to replace\n",
      "valid_paths = []\n",
      "valid_path_lengths = []\n",
      "No valid paths found so just returning the original\n",
      "skeletonize_and_clean_connected_branch_CGAL: 25.60170030593872\n",
      "Working on limb correspondence for #0 MAP piece\n"
     ]
    },
    {
     "data": {
      "application/vnd.jupyter.widget-view+json": {
       "model_id": "3c2176b116284630b63e6cc922caf8ca",
       "version_major": 2,
       "version_minor": 0
      },
      "text/plain": [
       "HBox(children=(FloatProgress(value=1.0, bar_style='info', max=1.0), HTML(value='')))"
      ]
     },
     "metadata": {},
     "output_type": "display_data"
    },
    {
     "name": "stderr",
     "output_type": "stream",
     "text": [
      "/meshAfterParty/trimesh_utils.py:331: VisibleDeprecationWarning: Creating an ndarray from ragged nested sequences (which is a list-or-tuple of lists-or-tuples-or ndarrays with different lengths or shapes) is deprecated. If you meant to do this, you must specify 'dtype=object' when creating the ndarray\n",
      "  ordered_comp_indices = np.array([k.astype(\"int\") for k in ordered_components])\n"
     ]
    },
    {
     "name": "stdout",
     "output_type": "stream",
     "text": [
      "\n",
      "Total time for decomposition = 8.115629196166992\n",
      "mesh_correspondence_first_pass: 8.115660429000854\n",
      "Limb decomposed into 13 branches\n",
      "divided_skeleton_graph_recovered = (429, 2, 3) and \n",
      "current_mesh_data[0]['branch_skeletons_cleaned'].shape = (429, 2, 3)\n",
      "\n",
      "Number of connected components in deocmposed recovered graph = 1\n",
      "Number of connected components in cleaned skeleton graph= 1\n",
      "The downsampled branches number of connected components = 1\n",
      "Empty submeshes = []\n",
      "\n",
      "\n",
      "--- Working on 1-to-1 correspondence-----\n",
      "max(original_labels),len(original_labels) = (12, 13)\n",
      "empty_indices % = 0.10827683301841355\n",
      " conflict_indices % = 0.050387166092401174\n"
     ]
    },
    {
     "data": {
      "application/vnd.jupyter.widget-view+json": {
       "model_id": "9eafcac437c944d1bce7ec34c0a8bf2a",
       "version_major": 2,
       "version_minor": 0
      },
      "text/plain": [
       "HBox(children=(FloatProgress(value=0.0, max=46.0), HTML(value='')))"
      ]
     },
     "metadata": {},
     "output_type": "display_data"
    },
    {
     "name": "stdout",
     "output_type": "stream",
     "text": [
      "\n",
      "AFTER face_lookup_resolved_test\n",
      "Took 0 iterations to expand the label back\n",
      "empty_indices % = 0.0\n",
      " conflict_indices % = 0.0\n"
     ]
    },
    {
     "data": {
      "application/vnd.jupyter.widget-view+json": {
       "model_id": "47a71dd9dfd74f46874ac103374aca85",
       "version_major": 2,
       "version_minor": 0
      },
      "text/plain": [
       "HBox(children=(FloatProgress(value=1.0, bar_style='info', max=1.0), HTML(value='')))"
      ]
     },
     "metadata": {},
     "output_type": "display_data"
    },
    {
     "name": "stdout",
     "output_type": "stream",
     "text": [
      "\n",
      "AFTER face_lookup_resolved_test\n"
     ]
    },
    {
     "data": {
      "application/vnd.jupyter.widget-view+json": {
       "model_id": "2a306aa70c8a46a099a45e26a6a62845",
       "version_major": 2,
       "version_minor": 0
      },
      "text/plain": [
       "HBox(children=(FloatProgress(value=0.0, max=13.0), HTML(value='')))"
      ]
     },
     "metadata": {},
     "output_type": "display_data"
    },
    {
     "name": "stdout",
     "output_type": "stream",
     "text": [
      "\n",
      "Total time for MAP sublimb #0 mesh processing = 36.77604365348816\n",
      "correspondence_1_to_1: 3.053248405456543\n",
      "Total time for MAP sublimb processing 36.776158571243286\n",
      "---- Working on MP Decomposition #0 ----\n",
      "Computing the current soma touching verts dict manually\n",
      "MP filtering soma verts: 0.003077268600463867\n",
      "Do Not Need to Fix MP Decomposition 0 so just continuing\n",
      "\n",
      "---- Working on (0, 0) connection-----\n",
      "Current stitch point was not a branch or endpoint, shortest_path_length to one = 6897.0133964136\n",
      "sk_conn = [0]\n",
      "conn = [0]\n",
      "winning_vertex = [623988.12588289 437556.99558899 691433.17135607]\n",
      "MP_branches_with_stitch_point = [0]\n",
      "MAP_branches_with_stitch_point = [11]\n",
      "MAP_stitch_point_on_end_or_branch = False\n",
      "Using max stitch distance (300) for smoothing because stitch_distance greater (465.69397615401147) \n"
     ]
    },
    {
     "name": "stderr",
     "output_type": "stream",
     "text": [
      "/meshAfterParty/preprocessing_vp2.py:1588: VisibleDeprecationWarning: Creating an ndarray from ragged nested sequences (which is a list-or-tuple of lists-or-tuples-or ndarrays with different lengths or shapes) is deprecated. If you meant to do this, you must specify 'dtype=object' when creating the ndarray\n",
      "  for k in o_keys])\n"
     ]
    },
    {
     "name": "stdout",
     "output_type": "stream",
     "text": [
      "Found winning edge: [770, 771.0]\n",
      "in remove edge\n"
     ]
    },
    {
     "data": {
      "application/vnd.jupyter.widget-view+json": {
       "model_id": "cad07ae04c1c4397b6ed01cf277678db",
       "version_major": 2,
       "version_minor": 0
      },
      "text/plain": [
       "HBox(children=(FloatProgress(value=1.0, bar_style='info', max=1.0), HTML(value='')))"
      ]
     },
     "metadata": {},
     "output_type": "display_data"
    },
    {
     "name": "stderr",
     "output_type": "stream",
     "text": [
      "/meshAfterParty/trimesh_utils.py:331: VisibleDeprecationWarning: Creating an ndarray from ragged nested sequences (which is a list-or-tuple of lists-or-tuples-or ndarrays with different lengths or shapes) is deprecated. If you meant to do this, you must specify 'dtype=object' when creating the ndarray\n",
      "  ordered_comp_indices = np.array([k.astype(\"int\") for k in ordered_components])\n"
     ]
    },
    {
     "name": "stdout",
     "output_type": "stream",
     "text": [
      "\n",
      "\n",
      "\n",
      "--- Working on 1-to-1 correspondence-----\n",
      "max(original_labels),len(original_labels) = (1, 2)\n",
      "empty_indices % = 0.0871770673587354\n",
      " conflict_indices % = 0.004010852896071723\n"
     ]
    },
    {
     "data": {
      "application/vnd.jupyter.widget-view+json": {
       "model_id": "5c23e2bce3254945a7cd3c38c1d5ba60",
       "version_major": 2,
       "version_minor": 0
      },
      "text/plain": [
       "HBox(children=(FloatProgress(value=0.0, max=8.0), HTML(value='')))"
      ]
     },
     "metadata": {},
     "output_type": "display_data"
    },
    {
     "name": "stdout",
     "output_type": "stream",
     "text": [
      "\n",
      "AFTER face_lookup_resolved_test\n"
     ]
    },
    {
     "data": {
      "application/vnd.jupyter.widget-view+json": {
       "model_id": "9da8f3989d9c4573b4bdfe1caa91ebd1",
       "version_major": 2,
       "version_minor": 0
      },
      "text/plain": [
       "HBox(children=(FloatProgress(value=0.0, max=2.0), HTML(value='')))"
      ]
     },
     "metadata": {},
     "output_type": "display_data"
    },
    {
     "name": "stdout",
     "output_type": "stream",
     "text": [
      "\n"
     ]
    },
    {
     "data": {
      "application/vnd.jupyter.widget-view+json": {
       "model_id": "8aca51e60337439fa529a25f9ea94d2c",
       "version_major": 2,
       "version_minor": 0
      },
      "text/plain": [
       "HBox(children=(FloatProgress(value=1.0, bar_style='info', max=1.0), HTML(value='')))"
      ]
     },
     "metadata": {},
     "output_type": "display_data"
    },
    {
     "name": "stdout",
     "output_type": "stream",
     "text": [
      "\n",
      "\n",
      "\n",
      "--- Working on 1-to-1 correspondence-----\n",
      "max(original_labels),len(original_labels) = (2, 3)\n",
      "empty_indices % = 0.057992272467086436\n",
      " conflict_indices % = 0.017494275901545505\n"
     ]
    },
    {
     "data": {
      "application/vnd.jupyter.widget-view+json": {
       "model_id": "4cf84f6ed70f480295bb18c1ba042c7b",
       "version_major": 2,
       "version_minor": 0
      },
      "text/plain": [
       "HBox(children=(FloatProgress(value=0.0, max=10.0), HTML(value='')))"
      ]
     },
     "metadata": {},
     "output_type": "display_data"
    },
    {
     "name": "stdout",
     "output_type": "stream",
     "text": [
      "\n",
      "AFTER face_lookup_resolved_test\n"
     ]
    },
    {
     "data": {
      "application/vnd.jupyter.widget-view+json": {
       "model_id": "9ac18dea5739494187755e970b281efb",
       "version_major": 2,
       "version_minor": 0
      },
      "text/plain": [
       "HBox(children=(FloatProgress(value=0.0, max=3.0), HTML(value='')))"
      ]
     },
     "metadata": {},
     "output_type": "display_data"
    },
    {
     "name": "stderr",
     "output_type": "stream",
     "text": [
      "\r",
      "  0%|          | 0/1 [00:00<?, ?it/s]"
     ]
    },
    {
     "name": "stdout",
     "output_type": "stream",
     "text": [
      "\n",
      "Deleting branches from dictionary\n",
      "MP_branches_with_stitch_point= [0]\n",
      "MP_branches_for_correspondence = [0]\n",
      "MP_leftover = [], MP_leftover_idx = []\n",
      " Finished with (0, 0) \n",
      "\n",
      "\n",
      "\n",
      "Time for decomp of Limb = 45.82224464416504\n",
      "\n",
      "\n",
      "----- Working on Proper Limb # 6 ---------\n",
      "meshparty_segment_size = 100\n",
      "Time for preparing soma vertices and root: 6.198883056640625e-06\n",
      "cc_vertex_thresh = 10\n"
     ]
    },
    {
     "data": {
      "application/vnd.jupyter.widget-view+json": {
       "model_id": "5931a5c734494f1a801724d522d83894",
       "version_major": 2,
       "version_minor": 0
      },
      "text/plain": [
       "HBox(children=(FloatProgress(value=0.0, max=32179.0), HTML(value='')))"
      ]
     },
     "metadata": {},
     "output_type": "display_data"
    },
    {
     "name": "stderr",
     "output_type": "stream",
     "text": [
      "100%|██████████| 1/1 [00:00<00:00,  4.97it/s]"
     ]
    },
    {
     "name": "stdout",
     "output_type": "stream",
     "text": [
      "\n"
     ]
    },
    {
     "name": "stderr",
     "output_type": "stream",
     "text": [
      "\n"
     ]
    },
    {
     "name": "stdout",
     "output_type": "stream",
     "text": [
      "Time for 1st pass MP skeletonization: 0.5422227382659912\n",
      "branches_touching_root = [3]\n"
     ]
    },
    {
     "name": "stderr",
     "output_type": "stream",
     "text": [
      "/meshAfterParty/meshparty_skeletonize.py:895: VisibleDeprecationWarning: Creating an ndarray from ragged nested sequences (which is a list-or-tuple of lists-or-tuples-or ndarrays with different lengths or shapes) is deprecated. If you meant to do this, you must specify 'dtype=object' when creating the ndarray\n",
      "  segment_branches = np.array([sk_meshparty_obj.vertices[np.vstack([k[:-1],k[1:]]).T] for k in segments])\n",
      "/meshAfterParty/meshparty_skeletonize.py:965: VisibleDeprecationWarning: Creating an ndarray from ragged nested sequences (which is a list-or-tuple of lists-or-tuples-or ndarrays with different lengths or shapes) is deprecated. If you meant to do this, you must specify 'dtype=object' when creating the ndarray\n",
      "  segment_branches = np.array(new_segment_branches)\n"
     ]
    },
    {
     "name": "stdout",
     "output_type": "stream",
     "text": [
      "length of Graph = 2654\n",
      "Working on path [1264. 1285. 1294. 1305. 1315. 1316.]\n",
      "path_degrees = [3, 2, 2, 2, 2, 3]\n"
     ]
    },
    {
     "name": "stderr",
     "output_type": "stream",
     "text": [
      "/meshAfterParty/meshparty_skeletonize.py:990: VisibleDeprecationWarning: Creating an ndarray from ragged nested sequences (which is a list-or-tuple of lists-or-tuples-or ndarrays with different lengths or shapes) is deprecated. If you meant to do this, you must specify 'dtype=object' when creating the ndarray\n",
      "  segment_branches_filtered = np.array(segment_branches_filtered)\n"
     ]
    },
    {
     "name": "stdout",
     "output_type": "stream",
     "text": [
      "max(kept_branches_idx) = 6, len(kept_branches_idx) = 6\n",
      "empty_indices % = 0.0\n",
      " conflict_indices % = 0.0027442114290169174\n"
     ]
    },
    {
     "data": {
      "application/vnd.jupyter.widget-view+json": {
       "model_id": "45ff313fce184f38adddee88b62f26cb",
       "version_major": 2,
       "version_minor": 0
      },
      "text/plain": [
       "HBox(children=(FloatProgress(value=0.0, max=4.0), HTML(value='')))"
      ]
     },
     "metadata": {},
     "output_type": "display_data"
    },
    {
     "name": "stdout",
     "output_type": "stream",
     "text": [
      "\n",
      "AFTER face_lookup_resolved_test\n"
     ]
    },
    {
     "data": {
      "application/vnd.jupyter.widget-view+json": {
       "model_id": "afa1af7701604eb7b1fadcaa3b5dc559",
       "version_major": 2,
       "version_minor": 0
      },
      "text/plain": [
       "HBox(children=(FloatProgress(value=0.0, max=6.0), HTML(value='')))"
      ]
     },
     "metadata": {},
     "output_type": "display_data"
    },
    {
     "name": "stdout",
     "output_type": "stream",
     "text": [
      "\n",
      "Decomposing first pass: 2.603745937347412\n",
      "Attempting to use MeshAfterParty Skeletonization and Mesh Correspondence\n",
      "Another print\n",
      "Found len(mesh_large_idx) MAP candidates: [3396, 3304]\n",
      "mesh_large_connectivity: 0.03006291389465332\n",
      "Finding MAP candidates connected components: 0.00010824203491210938\n",
      "len(filtered_pieces) = 1\n",
      "skeleton_connectivity_MP : 0.11557483673095703\n",
      "Grouping MP Sublimbs by Graph: 0.027651309967041016\n",
      "Divinding into MP and MAP pieces: 7.152557373046875e-07\n",
      "--- Working on MAP piece 0---\n",
      "MAP Filtering Soma Pieces: 0.0037877559661865234\n",
      "inside skeletonize_connected_branch and use_surface_after_CGAL=False, surface_reconstruction_size=1000\n",
      "     Starting Screened Poisson\n"
     ]
    },
    {
     "name": "stderr",
     "output_type": "stream",
     "text": [
      "/meshAfterParty/trimesh_utils.py:996: VisibleDeprecationWarning: Creating an ndarray from ragged nested sequences (which is a list-or-tuple of lists-or-tuples-or ndarrays with different lengths or shapes) is deprecated. If you meant to do this, you must specify 'dtype=object' when creating the ndarray\n",
      "  total_submeshes_idx =np.array(list(total_submeshes_idx.values()))\n"
     ]
    },
    {
     "name": "stdout",
     "output_type": "stream",
     "text": [
      "xvfb-run -n 911 -s \"-screen 0 800x600x24\" meshlabserver $@  -i /notebooks/Platinum_Decomp_Fusion/temp/None.off -o /notebooks/Platinum_Decomp_Fusion/temp/None_poisson.off -s /notebooks/Platinum_Decomp_Fusion/temp/poisson_654939.mls\n",
      "removed temporary input file: /notebooks/Platinum_Decomp_Fusion/temp/None.off\n",
      "removed temporary output file: /notebooks/Platinum_Decomp_Fusion/temp/None_poisson.off\n",
      "Using the close holes feature\n",
      "xvfb-run -n 7236 -s \"-screen 0 800x600x24\" meshlabserver $@  -i /notebooks/Platinum_Decomp_Fusion/temp/neuron_12854.off -o /notebooks/Platinum_Decomp_Fusion/temp/neuron_12854_fill_holes.off -s /notebooks/Platinum_Decomp_Fusion/temp/fill_holes_8412.mls\n",
      "removed temporary input file: /notebooks/Platinum_Decomp_Fusion/temp/neuron_12854.off\n",
      "removed temporary output file: /notebooks/Platinum_Decomp_Fusion/temp/neuron_12854_fill_holes.off\n",
      "-----Time for Screened Poisson= 7.301161050796509\n",
      "     Starting Calcification\n"
     ]
    },
    {
     "data": {
      "application/vnd.jupyter.widget-view+json": {
       "model_id": "3879fe5754be4880a3fbd907bb283440",
       "version_major": 2,
       "version_minor": 0
      },
      "text/plain": [
       "HBox(children=(FloatProgress(value=1.0, bar_style='info', max=1.0), HTML(value='')))"
      ]
     },
     "metadata": {},
     "output_type": "display_data"
    },
    {
     "name": "stdout",
     "output_type": "stream",
     "text": [
      "\n",
      "No skeletons to stack so returning empty list\n",
      "len_subgraphs AT BEGINNING of the loop\n"
     ]
    },
    {
     "data": {
      "application/vnd.jupyter.widget-view+json": {
       "model_id": "e64dc0d0477c4a518cb441a59934a52f",
       "version_major": 2,
       "version_minor": 0
      },
      "text/plain": [
       "HBox(children=(FloatProgress(value=0.0, max=1.0), HTML(value='')))"
      ]
     },
     "metadata": {},
     "output_type": "display_data"
    },
    {
     "name": "stdout",
     "output_type": "stream",
     "text": [
      "all graph is one component!\n",
      "\n",
      "Total time for skeleton stitching = 0.026601791381835938\n",
      "The process was using a temp folder\n",
      "Checking connected components after skeletonize_connected_branch\n",
      "    Total time for skeletonizing branch: 7.909364223480225\n",
      "Checking connected components after removing cycles\n",
      "Total time for mesh KDTree = 0.07520341873168945\n",
      "sbv[0].reshape(-1,3) = [[639681.  439955.2 699042.8]]\n",
      "closest_sk_pt_coord BEFORE = [639707. 440313. 700084.]\n",
      "current_skeleton.shape = (57, 2, 3)\n",
      "Current stitch point was a branch or endpoint\n",
      "change_status for create soma extending pieces = False\n",
      "closest_sk_pt_coord AFTER = [639707. 440313. 700084.]\n",
      "skipping soma 0 because closest skeleton node was already end node\n",
      "endpoints_must_keep = {0: array([[639707., 440313., 700084.]])}\n",
      "    Total time for Fixing Skeleton Soma Endpoint Extension : 0.11473655700683594\n",
      "filter_end_node_length = 1500\n",
      "Using Distance measure skeletal_distance\n",
      "endpoints_must_keep = [[639707. 440313. 700084.]]\n",
      "Number of end_nodes BEFORE filtering = 2\n",
      "all_single_nodes_to_eliminate = [1]\n",
      "no small end nodes to get rid of so returning whole skeleton\n",
      "Checking connected components after clean_skeleton\n",
      "after DISTANCE cleaning limb size of skeleton = (57, 2, 3)\n",
      "********COMBINING CLOSE SKELETON NODES WITHIN 700 DISTANCE**********\n",
      "Found 0 valid paths to replace\n",
      "valid_paths = []\n",
      "valid_path_lengths = []\n",
      "No valid paths found so just returning the original\n",
      "skeletonize_and_clean_connected_branch_CGAL: 8.065554857254028\n",
      "Working on limb correspondence for #0 MAP piece\n"
     ]
    },
    {
     "data": {
      "application/vnd.jupyter.widget-view+json": {
       "model_id": "b4d74cea095c4658abb0de10e4692bed",
       "version_major": 2,
       "version_minor": 0
      },
      "text/plain": [
       "HBox(children=(FloatProgress(value=1.0, bar_style='info', max=1.0), HTML(value='')))"
      ]
     },
     "metadata": {},
     "output_type": "display_data"
    },
    {
     "name": "stderr",
     "output_type": "stream",
     "text": [
      "/meshAfterParty/trimesh_utils.py:331: VisibleDeprecationWarning: Creating an ndarray from ragged nested sequences (which is a list-or-tuple of lists-or-tuples-or ndarrays with different lengths or shapes) is deprecated. If you meant to do this, you must specify 'dtype=object' when creating the ndarray\n",
      "  ordered_comp_indices = np.array([k.astype(\"int\") for k in ordered_components])\n"
     ]
    },
    {
     "name": "stdout",
     "output_type": "stream",
     "text": [
      "\n",
      "Total time for decomposition = 0.47252726554870605\n",
      "mesh_correspondence_first_pass: 0.47255992889404297\n",
      "Limb decomposed into 1 branches\n",
      "divided_skeleton_graph_recovered = (57, 2, 3) and \n",
      "current_mesh_data[0]['branch_skeletons_cleaned'].shape = (57, 2, 3)\n",
      "\n",
      "Number of connected components in deocmposed recovered graph = 1\n",
      "Number of connected components in cleaned skeleton graph= 1\n",
      "The downsampled branches number of connected components = 1\n",
      "Empty submeshes = []\n",
      "\n",
      "\n",
      "--- Working on 1-to-1 correspondence-----\n",
      "max(original_labels),len(original_labels) = (0, 1)\n",
      "empty_indices % = 0.13671641791044775\n",
      " conflict_indices % = 0.0\n"
     ]
    },
    {
     "data": {
      "application/vnd.jupyter.widget-view+json": {
       "model_id": "741f14cdd72d4bf2b57b1a14a3d5313b",
       "version_major": 2,
       "version_minor": 0
      },
      "text/plain": [
       "HBox(children=(FloatProgress(value=0.0, max=5.0), HTML(value='')))"
      ]
     },
     "metadata": {},
     "output_type": "display_data"
    },
    {
     "name": "stdout",
     "output_type": "stream",
     "text": [
      "\n",
      "AFTER face_lookup_resolved_test\n",
      "Took 0 iterations to expand the label back\n",
      "empty_indices % = 0.0\n",
      " conflict_indices % = 0.0\n"
     ]
    },
    {
     "data": {
      "application/vnd.jupyter.widget-view+json": {
       "model_id": "29eafd8ef3e24289a3f30c54f7c9f65f",
       "version_major": 2,
       "version_minor": 0
      },
      "text/plain": [
       "HBox(children=(FloatProgress(value=1.0, bar_style='info', max=1.0), HTML(value='')))"
      ]
     },
     "metadata": {},
     "output_type": "display_data"
    },
    {
     "name": "stdout",
     "output_type": "stream",
     "text": [
      "\n",
      "AFTER face_lookup_resolved_test\n"
     ]
    },
    {
     "data": {
      "application/vnd.jupyter.widget-view+json": {
       "model_id": "3e15f511b5f84a40a275cbbeaef12e14",
       "version_major": 2,
       "version_minor": 0
      },
      "text/plain": [
       "HBox(children=(FloatProgress(value=0.0, max=1.0), HTML(value='')))"
      ]
     },
     "metadata": {},
     "output_type": "display_data"
    },
    {
     "name": "stdout",
     "output_type": "stream",
     "text": [
      "\n",
      "Total time for MAP sublimb #0 mesh processing = 8.876777648925781\n",
      "correspondence_1_to_1: 0.3349878787994385\n",
      "Total time for MAP sublimb processing 8.877022743225098\n",
      "---- Working on MP Decomposition #0 ----\n",
      "Computing the current soma touching verts dict manually\n",
      "MP filtering soma verts: 0.005321025848388672\n",
      "Do Not Need to Fix MP Decomposition 0 so just continuing\n",
      "---- Working on MP Decomposition #1 ----\n",
      "Computing the current soma touching verts dict manually\n",
      "MP filtering soma verts: 0.0055158138275146484\n",
      "Do Not Need to Fix MP Decomposition 1 so just continuing\n",
      "\n",
      "---- Working on (0, 0) connection-----\n",
      "Current stitch point was a branch or endpoint\n",
      "sk_conn = [1, 2]\n",
      "conn = [1, 2]\n",
      "winning_vertex = [638034.99223176 453586.5229131  721138.8833826 ]\n",
      "MP_branches_with_stitch_point = [0, 1, 2]\n",
      "MAP_branches_with_stitch_point = [0]\n",
      "MAP_stitch_point_on_end_or_branch = True\n",
      "Using max stitch distance (300) for smoothing because stitch_distance greater (1652.048943473953) \n",
      "Found winning edge: [151, 154.0]\n",
      "in remove edge\n",
      "Using max stitch distance (300) for smoothing because stitch_distance greater (1192.155428883225) \n",
      "Found winning edge: [12, 14.0]\n",
      "in remove edge\n",
      "Using max stitch distance (300) for smoothing because stitch_distance greater (1643.6266578711125) \n",
      "Found winning edge: [1, 3.0]\n",
      "in remove edge\n"
     ]
    },
    {
     "data": {
      "application/vnd.jupyter.widget-view+json": {
       "model_id": "e129aa8a1faa406b98e6d42fb80be749",
       "version_major": 2,
       "version_minor": 0
      },
      "text/plain": [
       "HBox(children=(FloatProgress(value=1.0, bar_style='info', max=1.0), HTML(value='')))"
      ]
     },
     "metadata": {},
     "output_type": "display_data"
    },
    {
     "name": "stderr",
     "output_type": "stream",
     "text": [
      "/meshAfterParty/trimesh_utils.py:331: VisibleDeprecationWarning: Creating an ndarray from ragged nested sequences (which is a list-or-tuple of lists-or-tuples-or ndarrays with different lengths or shapes) is deprecated. If you meant to do this, you must specify 'dtype=object' when creating the ndarray\n",
      "  ordered_comp_indices = np.array([k.astype(\"int\") for k in ordered_components])\n"
     ]
    },
    {
     "name": "stdout",
     "output_type": "stream",
     "text": [
      "\n",
      "\n",
      "\n",
      "--- Working on 1-to-1 correspondence-----\n",
      "max(original_labels),len(original_labels) = (2, 3)\n",
      "empty_indices % = 0.10917358083720058\n",
      " conflict_indices % = 0.001031266113533024\n"
     ]
    },
    {
     "data": {
      "application/vnd.jupyter.widget-view+json": {
       "model_id": "ea8552c8f065486f9d5cf8c70cc43b2c",
       "version_major": 2,
       "version_minor": 0
      },
      "text/plain": [
       "HBox(children=(FloatProgress(value=0.0, max=13.0), HTML(value='')))"
      ]
     },
     "metadata": {},
     "output_type": "display_data"
    },
    {
     "name": "stdout",
     "output_type": "stream",
     "text": [
      "\n",
      "AFTER face_lookup_resolved_test\n"
     ]
    },
    {
     "data": {
      "application/vnd.jupyter.widget-view+json": {
       "model_id": "3227b959e7bc45878b6833ad410170d6",
       "version_major": 2,
       "version_minor": 0
      },
      "text/plain": [
       "HBox(children=(FloatProgress(value=0.0, max=3.0), HTML(value='')))"
      ]
     },
     "metadata": {},
     "output_type": "display_data"
    },
    {
     "name": "stdout",
     "output_type": "stream",
     "text": [
      "\n",
      "MP_branches_with_stitch_point= [0, 1, 2]\n",
      "MP_branches_for_correspondence = [1 2]\n",
      "MP_leftover = [0], MP_leftover_idx = [0]\n",
      " Finished with (0, 0) \n",
      "\n",
      "\n",
      "\n",
      "\n",
      "---- Working on (1, 0) connection-----\n",
      "Current stitch point was not a branch or endpoint, shortest_path_length to one = 12116.915037766761\n",
      "sk_conn = [0]\n",
      "conn = [0]\n",
      "winning_vertex = [636110.5477919  447089.63130063 710699.61643102]\n",
      "MP_branches_with_stitch_point = [0]\n",
      "MAP_branches_with_stitch_point = [0]\n",
      "MAP_stitch_point_on_end_or_branch = False\n",
      "Using max stitch distance (300) for smoothing because stitch_distance greater (983.6087939424324) \n",
      "Found winning edge: [865, 866.0]\n",
      "in remove edge\n"
     ]
    },
    {
     "data": {
      "application/vnd.jupyter.widget-view+json": {
       "model_id": "93267e50f54d4b5898e29d84d81c272e",
       "version_major": 2,
       "version_minor": 0
      },
      "text/plain": [
       "HBox(children=(FloatProgress(value=1.0, bar_style='info', max=1.0), HTML(value='')))"
      ]
     },
     "metadata": {},
     "output_type": "display_data"
    },
    {
     "name": "stderr",
     "output_type": "stream",
     "text": [
      "/meshAfterParty/trimesh_utils.py:331: VisibleDeprecationWarning: Creating an ndarray from ragged nested sequences (which is a list-or-tuple of lists-or-tuples-or ndarrays with different lengths or shapes) is deprecated. If you meant to do this, you must specify 'dtype=object' when creating the ndarray\n",
      "  ordered_comp_indices = np.array([k.astype(\"int\") for k in ordered_components])\n"
     ]
    },
    {
     "name": "stdout",
     "output_type": "stream",
     "text": [
      "\n",
      "\n",
      "\n",
      "--- Working on 1-to-1 correspondence-----\n",
      "max(original_labels),len(original_labels) = (1, 2)\n",
      "empty_indices % = 0.1364179104477612\n",
      " conflict_indices % = 0.0037313432835820895\n"
     ]
    },
    {
     "data": {
      "application/vnd.jupyter.widget-view+json": {
       "model_id": "fb25b358b10644ea8a05b0abca026cbe",
       "version_major": 2,
       "version_minor": 0
      },
      "text/plain": [
       "HBox(children=(FloatProgress(value=0.0, max=9.0), HTML(value='')))"
      ]
     },
     "metadata": {},
     "output_type": "display_data"
    },
    {
     "name": "stdout",
     "output_type": "stream",
     "text": [
      "\n",
      "AFTER face_lookup_resolved_test\n"
     ]
    },
    {
     "data": {
      "application/vnd.jupyter.widget-view+json": {
       "model_id": "db7b87bd535c496d8302ccb99b048047",
       "version_major": 2,
       "version_minor": 0
      },
      "text/plain": [
       "HBox(children=(FloatProgress(value=0.0, max=2.0), HTML(value='')))"
      ]
     },
     "metadata": {},
     "output_type": "display_data"
    },
    {
     "name": "stdout",
     "output_type": "stream",
     "text": [
      "\n"
     ]
    },
    {
     "data": {
      "application/vnd.jupyter.widget-view+json": {
       "model_id": "7527949459f54e3d82e6239d3ecd032f",
       "version_major": 2,
       "version_minor": 0
      },
      "text/plain": [
       "HBox(children=(FloatProgress(value=1.0, bar_style='info', max=1.0), HTML(value='')))"
      ]
     },
     "metadata": {},
     "output_type": "display_data"
    },
    {
     "name": "stdout",
     "output_type": "stream",
     "text": [
      "\n",
      "\n",
      "\n",
      "--- Working on 1-to-1 correspondence-----\n",
      "max(original_labels),len(original_labels) = (2, 3)\n",
      "empty_indices % = 0.10327846735024285\n",
      " conflict_indices % = 0.0147733405288721\n"
     ]
    },
    {
     "data": {
      "application/vnd.jupyter.widget-view+json": {
       "model_id": "32e40d36a70e4d51ab26123ee6d7f8b8",
       "version_major": 2,
       "version_minor": 0
      },
      "text/plain": [
       "HBox(children=(FloatProgress(value=0.0, max=17.0), HTML(value='')))"
      ]
     },
     "metadata": {},
     "output_type": "display_data"
    },
    {
     "name": "stdout",
     "output_type": "stream",
     "text": [
      "\n",
      "AFTER face_lookup_resolved_test\n"
     ]
    },
    {
     "data": {
      "application/vnd.jupyter.widget-view+json": {
       "model_id": "52e713842731499896a61b4cccc27417",
       "version_major": 2,
       "version_minor": 0
      },
      "text/plain": [
       "HBox(children=(FloatProgress(value=0.0, max=3.0), HTML(value='')))"
      ]
     },
     "metadata": {},
     "output_type": "display_data"
    },
    {
     "name": "stderr",
     "output_type": "stream",
     "text": [
      "\r",
      "  0%|          | 0/1 [00:00<?, ?it/s]"
     ]
    },
    {
     "name": "stdout",
     "output_type": "stream",
     "text": [
      "\n",
      "Deleting branches from dictionary\n",
      "MP_branches_with_stitch_point= [0]\n",
      "MP_branches_for_correspondence = [0]\n",
      "MP_leftover = [], MP_leftover_idx = []\n",
      " Finished with (1, 0) \n",
      "\n",
      "\n",
      "\n",
      "Time for decomp of Limb = 23.859638214111328\n",
      "\n",
      "\n",
      "----- Working on Proper Limb # 7 ---------\n",
      "meshparty_segment_size = 100\n",
      "Time for preparing soma vertices and root: 7.152557373046875e-06\n",
      "cc_vertex_thresh = 10\n"
     ]
    },
    {
     "data": {
      "application/vnd.jupyter.widget-view+json": {
       "model_id": "10931e533861424b907f3d39c56756cd",
       "version_major": 2,
       "version_minor": 0
      },
      "text/plain": [
       "HBox(children=(FloatProgress(value=0.0, max=27014.0), HTML(value='')))"
      ]
     },
     "metadata": {},
     "output_type": "display_data"
    },
    {
     "name": "stderr",
     "output_type": "stream",
     "text": [
      "100%|██████████| 1/1 [00:00<00:00,  5.86it/s]\n"
     ]
    },
    {
     "name": "stdout",
     "output_type": "stream",
     "text": [
      "\n",
      "Time for 1st pass MP skeletonization: 0.5221984386444092\n",
      "branches_touching_root = [1]\n"
     ]
    },
    {
     "name": "stderr",
     "output_type": "stream",
     "text": [
      "/meshAfterParty/meshparty_skeletonize.py:895: VisibleDeprecationWarning: Creating an ndarray from ragged nested sequences (which is a list-or-tuple of lists-or-tuples-or ndarrays with different lengths or shapes) is deprecated. If you meant to do this, you must specify 'dtype=object' when creating the ndarray\n",
      "  segment_branches = np.array([sk_meshparty_obj.vertices[np.vstack([k[:-1],k[1:]]).T] for k in segments])\n",
      "/meshAfterParty/meshparty_skeletonize.py:965: VisibleDeprecationWarning: Creating an ndarray from ragged nested sequences (which is a list-or-tuple of lists-or-tuples-or ndarrays with different lengths or shapes) is deprecated. If you meant to do this, you must specify 'dtype=object' when creating the ndarray\n",
      "  segment_branches = np.array(new_segment_branches)\n"
     ]
    },
    {
     "name": "stdout",
     "output_type": "stream",
     "text": [
      "length of Graph = 2164\n",
      "max(kept_branches_idx) = 2, len(kept_branches_idx) = 3\n"
     ]
    },
    {
     "name": "stderr",
     "output_type": "stream",
     "text": [
      "/meshAfterParty/meshparty_skeletonize.py:990: VisibleDeprecationWarning: Creating an ndarray from ragged nested sequences (which is a list-or-tuple of lists-or-tuples-or ndarrays with different lengths or shapes) is deprecated. If you meant to do this, you must specify 'dtype=object' when creating the ndarray\n",
      "  segment_branches_filtered = np.array(segment_branches_filtered)\n"
     ]
    },
    {
     "name": "stdout",
     "output_type": "stream",
     "text": [
      "empty_indices % = 0.0\n",
      " conflict_indices % = 0.0014828544949026877\n"
     ]
    },
    {
     "data": {
      "application/vnd.jupyter.widget-view+json": {
       "model_id": "1427c98cce714764a737c0974fd7897e",
       "version_major": 2,
       "version_minor": 0
      },
      "text/plain": [
       "HBox(children=(FloatProgress(value=0.0, max=1.0), HTML(value='')))"
      ]
     },
     "metadata": {},
     "output_type": "display_data"
    },
    {
     "name": "stdout",
     "output_type": "stream",
     "text": [
      "\n",
      "AFTER face_lookup_resolved_test\n"
     ]
    },
    {
     "data": {
      "application/vnd.jupyter.widget-view+json": {
       "model_id": "890f5018b13b45779dc92754748752ff",
       "version_major": 2,
       "version_minor": 0
      },
      "text/plain": [
       "HBox(children=(FloatProgress(value=0.0, max=3.0), HTML(value='')))"
      ]
     },
     "metadata": {},
     "output_type": "display_data"
    },
    {
     "name": "stdout",
     "output_type": "stream",
     "text": [
      "\n",
      "Decomposing first pass: 2.1306769847869873\n",
      "Attempting to use MeshAfterParty Skeletonization and Mesh Correspondence\n",
      "Another print\n",
      "Found len(mesh_large_idx) MAP candidates: [2642, 26343]\n",
      "mesh_large_connectivity: 0.027153730392456055\n",
      "Finding MAP candidates connected components: 0.00010728836059570312\n",
      "len(filtered_pieces) = 1\n",
      "skeleton_connectivity_MP : 0.05286240577697754\n",
      "Grouping MP Sublimbs by Graph: 0.011665105819702148\n",
      "Divinding into MP and MAP pieces: 9.5367431640625e-07\n",
      "--- Working on MAP piece 0---\n",
      "MAP Filtering Soma Pieces: 0.003372669219970703\n",
      "inside skeletonize_connected_branch and use_surface_after_CGAL=False, surface_reconstruction_size=1000\n",
      "     Starting Screened Poisson\n"
     ]
    },
    {
     "name": "stderr",
     "output_type": "stream",
     "text": [
      "/meshAfterParty/trimesh_utils.py:996: VisibleDeprecationWarning: Creating an ndarray from ragged nested sequences (which is a list-or-tuple of lists-or-tuples-or ndarrays with different lengths or shapes) is deprecated. If you meant to do this, you must specify 'dtype=object' when creating the ndarray\n",
      "  total_submeshes_idx =np.array(list(total_submeshes_idx.values()))\n"
     ]
    },
    {
     "name": "stdout",
     "output_type": "stream",
     "text": [
      "xvfb-run -n 3965 -s \"-screen 0 800x600x24\" meshlabserver $@  -i /notebooks/Platinum_Decomp_Fusion/temp/None.off -o /notebooks/Platinum_Decomp_Fusion/temp/None_poisson.off -s /notebooks/Platinum_Decomp_Fusion/temp/poisson_101121.mls\n",
      "removed temporary input file: /notebooks/Platinum_Decomp_Fusion/temp/None.off\n",
      "removed temporary output file: /notebooks/Platinum_Decomp_Fusion/temp/None_poisson.off\n",
      "Using the close holes feature\n",
      "xvfb-run -n 5273 -s \"-screen 0 800x600x24\" meshlabserver $@  -i /notebooks/Platinum_Decomp_Fusion/temp/neuron_98638.off -o /notebooks/Platinum_Decomp_Fusion/temp/neuron_98638_fill_holes.off -s /notebooks/Platinum_Decomp_Fusion/temp/fill_holes_521041.mls\n",
      "removed temporary input file: /notebooks/Platinum_Decomp_Fusion/temp/neuron_98638.off\n",
      "removed temporary output file: /notebooks/Platinum_Decomp_Fusion/temp/neuron_98638_fill_holes.off\n",
      "-----Time for Screened Poisson= 12.078782081604004\n",
      "     Starting Calcification\n"
     ]
    },
    {
     "data": {
      "application/vnd.jupyter.widget-view+json": {
       "model_id": "d03070e7a73f40e7b94a16748153c57a",
       "version_major": 2,
       "version_minor": 0
      },
      "text/plain": [
       "HBox(children=(FloatProgress(value=1.0, bar_style='info', max=1.0), HTML(value='')))"
      ]
     },
     "metadata": {},
     "output_type": "display_data"
    },
    {
     "name": "stdout",
     "output_type": "stream",
     "text": [
      "\n",
      "No skeletons to stack so returning empty list\n",
      "len_subgraphs AT BEGINNING of the loop\n"
     ]
    },
    {
     "data": {
      "application/vnd.jupyter.widget-view+json": {
       "model_id": "b4e658fa984d420b82a497b1387b9663",
       "version_major": 2,
       "version_minor": 0
      },
      "text/plain": [
       "HBox(children=(FloatProgress(value=0.0, max=2.0), HTML(value='')))"
      ]
     },
     "metadata": {},
     "output_type": "display_data"
    },
    {
     "name": "stdout",
     "output_type": "stream",
     "text": [
      "all graph is one component!\n",
      "\n",
      "Total time for skeleton stitching = 0.038481950759887695\n",
      "The process was using a temp folder\n",
      "Checking connected components after skeletonize_connected_branch\n",
      "    Total time for skeletonizing branch: 13.748711347579956\n",
      "Checking connected components after removing cycles\n",
      "Total time for mesh KDTree = 0.2097761631011963\n",
      "sbv[0].reshape(-1,3) = [[650841.6 437112.7 691089.5]]\n",
      "closest_sk_pt_coord BEFORE = [651094. 436729. 691485.]\n",
      "current_skeleton.shape = (292, 2, 3)\n",
      "Current stitch point was a branch or endpoint\n",
      "change_status for create soma extending pieces = False\n",
      "closest_sk_pt_coord AFTER = [651094. 436729. 691485.]\n",
      "skipping soma 0 because closest skeleton node was already end node\n",
      "endpoints_must_keep = {0: array([[651094., 436729., 691485.]])}\n",
      "    Total time for Fixing Skeleton Soma Endpoint Extension : 0.3060004711151123\n",
      "filter_end_node_length = 1500\n",
      "Using Distance measure skeletal_distance\n",
      "endpoints_must_keep = [[651094. 436729. 691485.]]\n",
      "Number of end_nodes BEFORE filtering = 7\n",
      "all_single_nodes_to_eliminate = [0]\n"
     ]
    },
    {
     "data": {
      "application/vnd.jupyter.widget-view+json": {
       "model_id": "a3b57b8ec3f04f17bfb9913da16cec0a",
       "version_major": 2,
       "version_minor": 0
      },
      "text/plain": [
       "HBox(children=(FloatProgress(value=0.0, max=5.0), HTML(value='')))"
      ]
     },
     "metadata": {},
     "output_type": "display_data"
    },
    {
     "name": "stdout",
     "output_type": "stream",
     "text": [
      "\n",
      "Checking connected components after clean_skeleton\n",
      "after DISTANCE cleaning limb size of skeleton = (282, 2, 3)\n",
      "********COMBINING CLOSE SKELETON NODES WITHIN 700 DISTANCE**********\n",
      "Found 0 valid paths to replace\n",
      "valid_paths = []\n",
      "valid_path_lengths = []\n",
      "No valid paths found so just returning the original\n",
      "skeletonize_and_clean_connected_branch_CGAL: 14.279539823532104\n",
      "Working on limb correspondence for #0 MAP piece\n"
     ]
    },
    {
     "data": {
      "application/vnd.jupyter.widget-view+json": {
       "model_id": "7cafba3d94074c68bf8c703366d02b87",
       "version_major": 2,
       "version_minor": 0
      },
      "text/plain": [
       "HBox(children=(FloatProgress(value=1.0, bar_style='info', max=1.0), HTML(value='')))"
      ]
     },
     "metadata": {},
     "output_type": "display_data"
    },
    {
     "name": "stderr",
     "output_type": "stream",
     "text": [
      "/meshAfterParty/trimesh_utils.py:331: VisibleDeprecationWarning: Creating an ndarray from ragged nested sequences (which is a list-or-tuple of lists-or-tuples-or ndarrays with different lengths or shapes) is deprecated. If you meant to do this, you must specify 'dtype=object' when creating the ndarray\n",
      "  ordered_comp_indices = np.array([k.astype(\"int\") for k in ordered_components])\n"
     ]
    },
    {
     "name": "stdout",
     "output_type": "stream",
     "text": [
      "\n",
      "Total time for decomposition = 2.556363582611084\n",
      "mesh_correspondence_first_pass: 2.5564045906066895\n",
      "Limb decomposed into 1 branches\n",
      "divided_skeleton_graph_recovered = (282, 2, 3) and \n",
      "current_mesh_data[0]['branch_skeletons_cleaned'].shape = (282, 2, 3)\n",
      "\n",
      "Number of connected components in deocmposed recovered graph = 1\n",
      "Number of connected components in cleaned skeleton graph= 1\n",
      "The downsampled branches number of connected components = 1\n",
      "Empty submeshes = []\n",
      "\n",
      "\n",
      "--- Working on 1-to-1 correspondence-----\n",
      "max(original_labels),len(original_labels) = (0, 1)\n",
      "empty_indices % = 0.09898223218906331\n",
      " conflict_indices % = 0.0\n"
     ]
    },
    {
     "data": {
      "application/vnd.jupyter.widget-view+json": {
       "model_id": "9a22afa0109d444c97e5086071dded01",
       "version_major": 2,
       "version_minor": 0
      },
      "text/plain": [
       "HBox(children=(FloatProgress(value=0.0, max=24.0), HTML(value='')))"
      ]
     },
     "metadata": {},
     "output_type": "display_data"
    },
    {
     "name": "stdout",
     "output_type": "stream",
     "text": [
      "\n",
      "AFTER face_lookup_resolved_test\n",
      "Took 0 iterations to expand the label back\n",
      "empty_indices % = 0.0\n",
      " conflict_indices % = 0.0\n"
     ]
    },
    {
     "data": {
      "application/vnd.jupyter.widget-view+json": {
       "model_id": "2881b14a40bb482d96ef63a18f353259",
       "version_major": 2,
       "version_minor": 0
      },
      "text/plain": [
       "HBox(children=(FloatProgress(value=1.0, bar_style='info', max=1.0), HTML(value='')))"
      ]
     },
     "metadata": {},
     "output_type": "display_data"
    },
    {
     "name": "stdout",
     "output_type": "stream",
     "text": [
      "\n",
      "AFTER face_lookup_resolved_test\n"
     ]
    },
    {
     "data": {
      "application/vnd.jupyter.widget-view+json": {
       "model_id": "c19452deeb164c0988170a1afe89a4ea",
       "version_major": 2,
       "version_minor": 0
      },
      "text/plain": [
       "HBox(children=(FloatProgress(value=0.0, max=1.0), HTML(value='')))"
      ]
     },
     "metadata": {},
     "output_type": "display_data"
    },
    {
     "name": "stdout",
     "output_type": "stream",
     "text": [
      "\n",
      "Total time for MAP sublimb #0 mesh processing = 18.62799906730652\n",
      "correspondence_1_to_1: 1.788679838180542\n",
      "Total time for MAP sublimb processing 18.628175973892212\n",
      "---- Working on MP Decomposition #0 ----\n",
      "Computing the current soma touching verts dict manually\n",
      "MP filtering soma verts: 0.0031511783599853516\n",
      "Do Not Need to Fix MP Decomposition 0 so just continuing\n",
      "\n",
      "---- Working on (0, 0) connection-----\n",
      "Current stitch point was not a branch or endpoint, shortest_path_length to one = 12289.398987413708\n",
      "sk_conn = [0]\n",
      "conn = [0]\n",
      "winning_vertex = [663572.52223136 435671.9952797  690104.56366323]\n",
      "MP_branches_with_stitch_point = [0]\n",
      "MAP_branches_with_stitch_point = [0]\n",
      "MAP_stitch_point_on_end_or_branch = False\n",
      "Using max stitch distance (300) for smoothing because stitch_distance greater (890.3893025656863) \n",
      "Found winning edge: [9, 10.0]\n",
      "in remove edge\n"
     ]
    },
    {
     "data": {
      "application/vnd.jupyter.widget-view+json": {
       "model_id": "10c8bae654aa44d496540e0912b71d5a",
       "version_major": 2,
       "version_minor": 0
      },
      "text/plain": [
       "HBox(children=(FloatProgress(value=1.0, bar_style='info', max=1.0), HTML(value='')))"
      ]
     },
     "metadata": {},
     "output_type": "display_data"
    },
    {
     "name": "stderr",
     "output_type": "stream",
     "text": [
      "/meshAfterParty/trimesh_utils.py:331: VisibleDeprecationWarning: Creating an ndarray from ragged nested sequences (which is a list-or-tuple of lists-or-tuples-or ndarrays with different lengths or shapes) is deprecated. If you meant to do this, you must specify 'dtype=object' when creating the ndarray\n",
      "  ordered_comp_indices = np.array([k.astype(\"int\") for k in ordered_components])\n"
     ]
    },
    {
     "name": "stdout",
     "output_type": "stream",
     "text": [
      "\n",
      "\n",
      "\n",
      "--- Working on 1-to-1 correspondence-----\n",
      "max(original_labels),len(original_labels) = (1, 2)\n",
      "empty_indices % = 0.10491633603588063\n",
      " conflict_indices % = 0.0010695187165775401\n"
     ]
    },
    {
     "data": {
      "application/vnd.jupyter.widget-view+json": {
       "model_id": "db1cc3d627114173abf4a7156b8a04e1",
       "version_major": 2,
       "version_minor": 0
      },
      "text/plain": [
       "HBox(children=(FloatProgress(value=0.0, max=32.0), HTML(value='')))"
      ]
     },
     "metadata": {},
     "output_type": "display_data"
    },
    {
     "name": "stdout",
     "output_type": "stream",
     "text": [
      "\n",
      "AFTER face_lookup_resolved_test\n"
     ]
    },
    {
     "data": {
      "application/vnd.jupyter.widget-view+json": {
       "model_id": "d30c4f79ada845258121482d61e18d9a",
       "version_major": 2,
       "version_minor": 0
      },
      "text/plain": [
       "HBox(children=(FloatProgress(value=0.0, max=2.0), HTML(value='')))"
      ]
     },
     "metadata": {},
     "output_type": "display_data"
    },
    {
     "name": "stdout",
     "output_type": "stream",
     "text": [
      "\n"
     ]
    },
    {
     "data": {
      "application/vnd.jupyter.widget-view+json": {
       "model_id": "09d56f569cae46eea481c1d446bcdace",
       "version_major": 2,
       "version_minor": 0
      },
      "text/plain": [
       "HBox(children=(FloatProgress(value=1.0, bar_style='info', max=1.0), HTML(value='')))"
      ]
     },
     "metadata": {},
     "output_type": "display_data"
    },
    {
     "name": "stdout",
     "output_type": "stream",
     "text": [
      "\n",
      "\n",
      "\n",
      "--- Working on 1-to-1 correspondence-----\n",
      "max(original_labels),len(original_labels) = (2, 3)\n",
      "empty_indices % = 0.08837812789620018\n",
      " conflict_indices % = 0.01015755329008341\n"
     ]
    },
    {
     "data": {
      "application/vnd.jupyter.widget-view+json": {
       "model_id": "6a489adc192249288c8c70d8b62642cc",
       "version_major": 2,
       "version_minor": 0
      },
      "text/plain": [
       "HBox(children=(FloatProgress(value=0.0, max=16.0), HTML(value='')))"
      ]
     },
     "metadata": {},
     "output_type": "display_data"
    },
    {
     "name": "stdout",
     "output_type": "stream",
     "text": [
      "\n",
      "AFTER face_lookup_resolved_test\n"
     ]
    },
    {
     "data": {
      "application/vnd.jupyter.widget-view+json": {
       "model_id": "83231ee44cb745a799efe4d44ed8e20d",
       "version_major": 2,
       "version_minor": 0
      },
      "text/plain": [
       "HBox(children=(FloatProgress(value=0.0, max=3.0), HTML(value='')))"
      ]
     },
     "metadata": {},
     "output_type": "display_data"
    },
    {
     "name": "stderr",
     "output_type": "stream",
     "text": [
      "\r",
      "  0%|          | 0/1 [00:00<?, ?it/s]"
     ]
    },
    {
     "name": "stdout",
     "output_type": "stream",
     "text": [
      "\n",
      "Deleting branches from dictionary\n",
      "MP_branches_with_stitch_point= [0]\n",
      "MP_branches_for_correspondence = [0]\n",
      "MP_leftover = [], MP_leftover_idx = []\n",
      " Finished with (0, 0) \n",
      "\n",
      "\n",
      "\n",
      "Time for decomp of Limb = 34.107625007629395\n",
      "\n",
      "\n",
      "----- Working on Proper Limb # 8 ---------\n",
      "meshparty_segment_size = 100\n",
      "Time for preparing soma vertices and root: 9.059906005859375e-06\n",
      "cc_vertex_thresh = 10\n"
     ]
    },
    {
     "data": {
      "application/vnd.jupyter.widget-view+json": {
       "model_id": "9272fbad774a48a8a3de0d675c39efdd",
       "version_major": 2,
       "version_minor": 0
      },
      "text/plain": [
       "HBox(children=(FloatProgress(value=0.0, max=6291.0), HTML(value='')))"
      ]
     },
     "metadata": {},
     "output_type": "display_data"
    },
    {
     "name": "stderr",
     "output_type": "stream",
     "text": [
      "\r",
      "100%|██████████| 1/1 [00:00<00:00, 11.58it/s]"
     ]
    },
    {
     "name": "stdout",
     "output_type": "stream",
     "text": [
      "\n"
     ]
    },
    {
     "name": "stderr",
     "output_type": "stream",
     "text": [
      "\n"
     ]
    },
    {
     "name": "stdout",
     "output_type": "stream",
     "text": [
      "Time for 1st pass MP skeletonization: 0.2665557861328125\n",
      "branches_touching_root = [2]\n"
     ]
    },
    {
     "name": "stderr",
     "output_type": "stream",
     "text": [
      "/meshAfterParty/meshparty_skeletonize.py:895: VisibleDeprecationWarning: Creating an ndarray from ragged nested sequences (which is a list-or-tuple of lists-or-tuples-or ndarrays with different lengths or shapes) is deprecated. If you meant to do this, you must specify 'dtype=object' when creating the ndarray\n",
      "  segment_branches = np.array([sk_meshparty_obj.vertices[np.vstack([k[:-1],k[1:]]).T] for k in segments])\n",
      "/meshAfterParty/meshparty_skeletonize.py:965: VisibleDeprecationWarning: Creating an ndarray from ragged nested sequences (which is a list-or-tuple of lists-or-tuples-or ndarrays with different lengths or shapes) is deprecated. If you meant to do this, you must specify 'dtype=object' when creating the ndarray\n",
      "  segment_branches = np.array(new_segment_branches)\n"
     ]
    },
    {
     "name": "stdout",
     "output_type": "stream",
     "text": [
      "length of Graph = 1381\n",
      "max(kept_branches_idx) = 4, len(kept_branches_idx) = 5\n",
      "empty_indices % = 0.0\n",
      " conflict_indices % = 0.005425243338120313\n"
     ]
    },
    {
     "name": "stderr",
     "output_type": "stream",
     "text": [
      "/meshAfterParty/meshparty_skeletonize.py:990: VisibleDeprecationWarning: Creating an ndarray from ragged nested sequences (which is a list-or-tuple of lists-or-tuples-or ndarrays with different lengths or shapes) is deprecated. If you meant to do this, you must specify 'dtype=object' when creating the ndarray\n",
      "  segment_branches_filtered = np.array(segment_branches_filtered)\n"
     ]
    },
    {
     "data": {
      "application/vnd.jupyter.widget-view+json": {
       "model_id": "dc0dc85d1758498f926a09ad73f1ee98",
       "version_major": 2,
       "version_minor": 0
      },
      "text/plain": [
       "HBox(children=(FloatProgress(value=0.0, max=2.0), HTML(value='')))"
      ]
     },
     "metadata": {},
     "output_type": "display_data"
    },
    {
     "name": "stdout",
     "output_type": "stream",
     "text": [
      "\n",
      "AFTER face_lookup_resolved_test\n"
     ]
    },
    {
     "data": {
      "application/vnd.jupyter.widget-view+json": {
       "model_id": "7396888bbc7f4a52a370393b2c937f05",
       "version_major": 2,
       "version_minor": 0
      },
      "text/plain": [
       "HBox(children=(FloatProgress(value=0.0, max=5.0), HTML(value='')))"
      ]
     },
     "metadata": {},
     "output_type": "display_data"
    },
    {
     "name": "stdout",
     "output_type": "stream",
     "text": [
      "\n",
      "Decomposing first pass: 0.6611266136169434\n",
      "Attempting to use MeshAfterParty Skeletonization and Mesh Correspondence\n",
      "Another print\n",
      "Divinding into MP and MAP pieces: 9.298324584960938e-05\n",
      "Total time for MAP sublimb processing 3.337860107421875e-06\n",
      "---- Working on MP Decomposition #0 ----\n",
      "Using Quicker soma_to_piece_touching_vertices because no MAP and only one sublimb_mesh piece \n",
      "MP filtering soma verts: 9.083747863769531e-05\n",
      "Fixing Possible Soma Extension Branch for Sublimb 0\n",
      "Total time for mesh KDTree = 0.0872187614440918\n",
      "sbv[0].reshape(-1,3) = [[640378.5 444597.9 694540.9]]\n",
      "closest_sk_pt_coord BEFORE = [640168.95750915 444910.60430817 694491.02225514]\n",
      "current_skeleton.shape = (572, 2, 3)\n",
      "Current stitch point was a branch or endpoint\n",
      "change_status for create soma extending pieces = False\n",
      "closest_sk_pt_coord AFTER = [640168.95750915 444910.60430817 694491.02225514]\n",
      "skipping soma 0 because closest skeleton node was already end node\n",
      "endpoints_must_keep = {0: array([[640168.95750915, 444910.60430817, 694491.02225514]])}\n"
     ]
    },
    {
     "name": "stderr",
     "output_type": "stream",
     "text": [
      "/meshAfterParty/trimesh_utils.py:996: VisibleDeprecationWarning: Creating an ndarray from ragged nested sequences (which is a list-or-tuple of lists-or-tuples-or ndarrays with different lengths or shapes) is deprecated. If you meant to do this, you must specify 'dtype=object' when creating the ndarray\n",
      "  total_submeshes_idx =np.array(list(total_submeshes_idx.values()))\n"
     ]
    },
    {
     "name": "stdout",
     "output_type": "stream",
     "text": [
      "The new branch info was none so skipping \n",
      "\n",
      "No soma extending branch was added for this sublimb even though it had a soma border (means they already existed)\n",
      "MP (because soma touching verts) soma extension add: 0.19628238677978516\n",
      "There were not both MAP and MP pieces so skipping the stitch resolving phase\n",
      "Time for decomp of Limb = 1.1247305870056152\n",
      "Total time for Skeletonization and Mesh Correspondence = 644.6407833099365\n",
      "\n",
      "\n",
      " ----- Working on Stitching ----------\n",
      "Status of Main limb stitch point moved = False\n",
      "Total time for stitching floating pieces = 1.7304065227508545\n",
      "Starting_edge inside branches_to_conept = [[650876. 429589. 700836.]\n",
      " [654226. 429253. 706929.]]\n",
      "At the start, starting_node (in terms of the skeleton, that shouldn't match the starting edge) = [24]\n",
      "printing out current edge:\n",
      "[[650876. 429589. 700836.]\n",
      " [654226. 429253. 706929.]]\n",
      "edge_endpoints_to_process was empty so exiting loop after 62 iterations\n",
      "starting_node in concept map (that should match the starting edge) = 7\n",
      "Total time for branches to concept conversion = 1.1234066486358643\n",
      "\n",
      "Done generating concept network \n",
      "\n",
      "\n",
      "recovered_touching_piece = [7]\n",
      "Starting_edge inside branches_to_conept = [[641714.         444951.         697927.        ]\n",
      " [641893.38275862 444213.64827586 697578.59655172]]\n",
      "At the start, starting_node (in terms of the skeleton, that shouldn't match the starting edge) = [18]\n",
      "printing out current edge:\n",
      "[[641893.38275862 444213.64827586 697578.59655172]\n",
      " [641714.         444951.         697927.        ]]\n",
      "edge_endpoints_to_process was empty so exiting loop after 62 iterations\n",
      "starting_node in concept map (that should match the starting edge) = 25\n",
      "Total time for branches to concept conversion = 1.1030988693237305\n",
      "\n",
      "Done generating concept network \n",
      "\n",
      "\n",
      "recovered_touching_piece = [25]\n",
      "Starting_edge inside branches_to_conept = [[571080. 457772. 705480.]\n",
      " [581303. 520624. 713523.]]\n",
      "At the start, starting_node (in terms of the skeleton, that shouldn't match the starting edge) = [18]\n",
      "printing out current edge:\n",
      "[[581303. 520624. 713523.]\n",
      " [571080. 457772. 705480.]]\n",
      "edge_endpoints_to_process was empty so exiting loop after 52 iterations\n",
      "starting_node in concept map (that should match the starting edge) = 9\n",
      "Total time for branches to concept conversion = 0.7407834529876709\n",
      "\n",
      "Done generating concept network \n",
      "\n",
      "\n",
      "recovered_touching_piece = [9]\n",
      "Starting_edge inside branches_to_conept = [[652304. 427496. 696589.]\n",
      " [654670. 424520. 695840.]]\n",
      "At the start, starting_node (in terms of the skeleton, that shouldn't match the starting edge) = [36]\n",
      "printing out current edge:\n",
      "[[652304. 427496. 696589.]\n",
      " [654670. 424520. 695840.]]\n",
      "edge_endpoints_to_process was empty so exiting loop after 52 iterations\n",
      "starting_node in concept map (that should match the starting edge) = 14\n",
      "Total time for branches to concept conversion = 0.7187683582305908\n",
      "\n",
      "Done generating concept network \n",
      "\n",
      "\n",
      "recovered_touching_piece = [14]\n",
      "Starting_edge inside branches_to_conept = [[581364. 536420. 714562.]\n",
      " [582203. 541936. 716685.]]\n",
      "At the start, starting_node (in terms of the skeleton, that shouldn't match the starting edge) = [15]\n",
      "printing out current edge:\n",
      "[[581364. 536420. 714562.]\n",
      " [582203. 541936. 716685.]]\n",
      "edge_endpoints_to_process was empty so exiting loop after 33 iterations\n",
      "starting_node in concept map (that should match the starting edge) = 5\n",
      "Total time for branches to concept conversion = 0.6622109413146973\n",
      "\n",
      "Done generating concept network \n",
      "\n",
      "\n",
      "recovered_touching_piece = [5]\n",
      "Starting_edge inside branches_to_conept = [[635006.37275489 433583.86255831 684772.53941545]\n",
      " [637710.05555556 434821.75185185 687318.8       ]]\n",
      "At the start, starting_node (in terms of the skeleton, that shouldn't match the starting edge) = [8]\n",
      "printing out current edge:\n",
      "[[637710.05555556 434821.75185185 687318.8       ]\n",
      " [635006.37275489 433583.86255831 684772.53941545]]\n",
      "edge_endpoints_to_process was empty so exiting loop after 11 iterations\n",
      "starting_node in concept map (that should match the starting edge) = 8\n",
      "Total time for branches to concept conversion = 0.3595247268676758\n",
      "\n",
      "Done generating concept network \n",
      "\n",
      "\n",
      "recovered_touching_piece = [8]\n",
      "Starting_edge inside branches_to_conept = [[651391. 440284. 689999.]\n",
      " [654655. 441991. 688976.]]\n",
      "At the start, starting_node (in terms of the skeleton, that shouldn't match the starting edge) = [1]\n",
      "printing out current edge:\n",
      "[[651391. 440284. 689999.]\n",
      " [654655. 441991. 688976.]]\n",
      "edge_endpoints_to_process was empty so exiting loop after 12 iterations\n",
      "starting_node in concept map (that should match the starting edge) = 0\n",
      "Total time for branches to concept conversion = 0.2875819206237793\n",
      "\n",
      "Done generating concept network \n",
      "\n",
      "\n",
      "recovered_touching_piece = [0]\n",
      "Starting_edge inside branches_to_conept = [[630865. 438158. 693318.]\n",
      " [632959. 438146. 692828.]]\n",
      "At the start, starting_node (in terms of the skeleton, that shouldn't match the starting edge) = [15]\n",
      "printing out current edge:\n",
      "[[632959. 438146. 692828.]\n",
      " [630865. 438158. 693318.]]\n",
      "edge_endpoints_to_process was empty so exiting loop after 15 iterations\n",
      "starting_node in concept map (that should match the starting edge) = 12\n",
      "Total time for branches to concept conversion = 0.1230306625366211\n",
      "\n",
      "Done generating concept network \n",
      "\n",
      "\n",
      "recovered_touching_piece = [12]\n",
      "Starting_edge inside branches_to_conept = [[636603. 446393. 710274.]\n",
      " [639707. 440313. 700084.]]\n",
      "At the start, starting_node (in terms of the skeleton, that shouldn't match the starting edge) = [4]\n",
      "printing out current edge:\n",
      "[[639707. 440313. 700084.]\n",
      " [636603. 446393. 710274.]]\n",
      "edge_endpoints_to_process was empty so exiting loop after 6 iterations\n",
      "starting_node in concept map (that should match the starting edge) = 1\n",
      "Total time for branches to concept conversion = 0.23710250854492188\n",
      "\n",
      "Done generating concept network \n",
      "\n",
      "\n",
      "recovered_touching_piece = [1]\n",
      "Starting_edge inside branches_to_conept = [[651094. 436729. 691485.]\n",
      " [662989. 435149. 690263.]]\n",
      "At the start, starting_node (in terms of the skeleton, that shouldn't match the starting edge) = [0]\n",
      "printing out current edge:\n",
      "[[651094. 436729. 691485.]\n",
      " [662989. 435149. 690263.]]\n",
      "edge_endpoints_to_process was empty so exiting loop after 3 iterations\n",
      "starting_node in concept map (that should match the starting edge) = 0\n",
      "Total time for branches to concept conversion = 0.11255478858947754\n",
      "\n",
      "Done generating concept network \n",
      "\n",
      "\n",
      "recovered_touching_piece = [0]\n",
      "Starting_edge inside branches_to_conept = [[640168.95750915 444910.60430817 694491.02225514]\n",
      " [648101.73681011 497129.65577252 694063.0896147 ]]\n",
      "At the start, starting_node (in terms of the skeleton, that shouldn't match the starting edge) = [0]\n",
      "printing out current edge:\n",
      "[[640168.95750915 444910.60430817 694491.02225514]\n",
      " [648101.73681011 497129.65577252 694063.0896147 ]]\n",
      "edge_endpoints_to_process was empty so exiting loop after 5 iterations\n",
      "starting_node in concept map (that should match the starting edge) = 2\n",
      "Total time for branches to concept conversion = 0.11516594886779785\n",
      "\n",
      "Done generating concept network \n",
      "\n",
      "\n",
      "recovered_touching_piece = [2]\n",
      "Total time for Concept Networks = 8.478017568588257\n"
     ]
    }
   ],
   "source": [
    "sk = reload(sk)\n",
    "tu = reload(tu)\n",
    "cu = reload(cu)\n",
    "m_sk = reload(m_sk)\n",
    "pre = reload(pre)\n",
    "xu = reload(xu)\n",
    "nu = reload(nu)\n",
    "gu = reload(gu)\n",
    "\n",
    "\n",
    "# Phase 4: Skeletonization, Mesh Correspondence,  \n",
    "\n",
    "proper_time = time.time()\n",
    "\n",
    "#The containers that will hold the final data for the preprocessed neuron\n",
    "limb_correspondence=dict()\n",
    "limb_network_stating_info = dict()\n",
    "\n",
    "# ---------- Part A: skeletonization and mesh decomposition --------- #\n",
    "skeleton_time = time.time()\n",
    "\n",
    "for curr_limb_idx,limb_mesh_mparty in enumerate(current_mesh_data[0][\"branch_meshes\"]):\n",
    "\n",
    "    #Arguments to pass to the specific function (when working with a limb)\n",
    "    soma_touching_vertices_dict = piece_to_soma_touching_vertices[curr_limb_idx]\n",
    "\n",
    "#     if curr_limb_idx != 10:\n",
    "#         continue\n",
    "\n",
    "    curr_limb_time = time.time()\n",
    "    print(f\"\\n\\n----- Working on Proper Limb # {curr_limb_idx} ---------\")\n",
    "\n",
    "    print(f\"meshparty_segment_size = {meshparty_segment_size}\")\n",
    "    limb_correspondence_individual,network_starting_info = pre.preprocess_limb(mesh=limb_mesh_mparty,\n",
    "                   soma_touching_vertices_dict = soma_touching_vertices_dict,\n",
    "                   return_concept_network = False, \n",
    "                   return_concept_network_starting_info=True,\n",
    "                   width_threshold_MAP=500,\n",
    "                   size_threshold_MAP=2000,\n",
    "                   surface_reconstruction_size=1000,  \n",
    "\n",
    "                   #arguments added from the big preprocessing step                                                            \n",
    "                   distance_by_mesh_center=distance_by_mesh_center,\n",
    "                   meshparty_segment_size=meshparty_segment_size,\n",
    "                   meshparty_n_surface_downsampling = meshparty_n_surface_downsampling,\n",
    "\n",
    "                    use_meshafterparty=use_meshafterparty,\n",
    "\n",
    "                   )\n",
    "    #Storing all of the data to be sent to \n",
    "\n",
    "    limb_correspondence[curr_limb_idx] = limb_correspondence_individual\n",
    "    limb_network_stating_info[curr_limb_idx] = network_starting_info\n",
    "\n",
    "print(f\"Total time for Skeletonization and Mesh Correspondence = {time.time() - skeleton_time}\")\n",
    "\n",
    "pre = reload(pre)\n",
    "\n",
    "# ---------- Part B: Stitching on floating pieces --------- #\n",
    "print(\"\\n\\n ----- Working on Stitching ----------\")\n",
    "\n",
    "floating_stitching_time = time.time()\n",
    "\n",
    "limb_correspondence_with_floating_pieces = pre.attach_floating_pieces_to_limb_correspondence(\n",
    "        limb_correspondence,\n",
    "        floating_meshes=non_soma_touching_meshes,\n",
    "        floating_piece_face_threshold = 600,\n",
    "        max_stitch_distance=8000,\n",
    "        distance_to_move_point_threshold = 4000,\n",
    "        verbose = False)\n",
    "\n",
    "\n",
    "\n",
    "print(f\"Total time for stitching floating pieces = {time.time() - floating_stitching_time}\")\n",
    "\n",
    "\n",
    "\n",
    "\n",
    "\n",
    "# ---------- Part C: Computing Concept Networks --------- #\n",
    "concept_network_time = time.time()\n",
    "\n",
    "limb_concept_networks=dict()\n",
    "limb_labels=dict()\n",
    "\n",
    "for curr_limb_idx,limb_mesh_mparty in enumerate(current_mesh_data[0][\"branch_meshes\"]):\n",
    "    limb_to_soma_concept_networks = pre.calculate_limb_concept_networks(limb_correspondence_with_floating_pieces[curr_limb_idx],\n",
    "                                                                        run_concept_network_checks=True,\n",
    "                                                                       **limb_network_stating_info[curr_limb_idx])   \n",
    "\n",
    "\n",
    "\n",
    "    limb_concept_networks[curr_limb_idx] = limb_to_soma_concept_networks\n",
    "    limb_labels[curr_limb_idx]= \"Unlabeled\"\n",
    "\n",
    "print(f\"Total time for Concept Networks = {time.time() - concept_network_time}\")\n",
    "\n"
   ]
  },
  {
   "cell_type": "code",
   "execution_count": 13,
   "metadata": {},
   "outputs": [
    {
     "name": "stdout",
     "output_type": "stream",
     "text": [
      "Already have preprocessed data\n",
      "--- 1) Finished unpacking preprocessed materials: 0.0002262592315673828\n",
      "total_edges = [['S0', 'L0'], ['S0', 'L1'], ['S0', 'L3'], ['S0', 'L4'], ['S0', 'L5'], ['S0', 'L6'], ['S0', 'L7'], ['S0', 'L8'], ['S1', 'L1'], ['S1', 'L2']]\n",
      "--- 2) Finished creating neuron connectivity graph: 0.00021767616271972656\n",
      "Having to generate soma_meshes_face_idx because none in preprocessed data\n",
      "--- 3a) Finshed generating soma_meshes_face_idx: 1.4497694969177246\n",
      "Using Poisson Surface Reconstruction for watertightness in soma_volume_ratio\n",
      "xvfb-run -n 4281 -s \"-screen 0 800x600x24\" meshlabserver $@  -i /notebooks/Platinum_Decomp_Fusion/Poisson_temp/neuron_264658.off -o /notebooks/Platinum_Decomp_Fusion/Poisson_temp/neuron_264658_poisson.off -s /notebooks/Platinum_Decomp_Fusion/Poisson_temp/poisson_497117.mls\n",
      "removed temporary input file: /notebooks/Platinum_Decomp_Fusion/Poisson_temp/neuron_264658.off\n",
      "removed temporary output file: /notebooks/Platinum_Decomp_Fusion/Poisson_temp/neuron_264658_poisson.off\n",
      "mesh.is_watertight = True\n",
      "/notebooks/Platinum_Decomp_Fusion/Poisson_temp/poisson_497117.mls is being deleted....\n",
      "Using Poisson Surface Reconstruction for watertightness in soma_volume_ratio\n",
      "xvfb-run -n 6433 -s \"-screen 0 800x600x24\" meshlabserver $@  -i /notebooks/Platinum_Decomp_Fusion/Poisson_temp/neuron_928491.off -o /notebooks/Platinum_Decomp_Fusion/Poisson_temp/neuron_928491_poisson.off -s /notebooks/Platinum_Decomp_Fusion/Poisson_temp/poisson_886082.mls\n",
      "removed temporary input file: /notebooks/Platinum_Decomp_Fusion/Poisson_temp/neuron_928491.off\n",
      "removed temporary output file: /notebooks/Platinum_Decomp_Fusion/Poisson_temp/neuron_928491_poisson.off\n",
      "mesh.is_watertight = True\n",
      "/notebooks/Platinum_Decomp_Fusion/Poisson_temp/poisson_886082.mls is being deleted....\n",
      "--- 3) Finshed generating soma objects and adding them to concept graph: 19.97521948814392\n",
      "--- 4a) Finshed generating curr_limb_meshes_face_idx: 5.018249273300171\n",
      "curr_limb_concept_networks= {0: [<networkx_utils.GraphOrderedEdges object at 0x7f1e8aedbd30>, <networkx_utils.GraphOrderedEdges object at 0x7f1f07119b70>]}\n",
      "concept_network_dict = {0: [<networkx_utils.GraphOrderedEdges object at 0x7f1e8aedbd30>, <networkx_utils.GraphOrderedEdges object at 0x7f1f07119b70>]}\n",
      "checking and resolving cycles\n",
      "No cycles to fix\n",
      "curr_limb_concept_networks= {1: [<networkx_utils.GraphOrderedEdges object at 0x7f1f07119eb8>], 0: [<networkx_utils.GraphOrderedEdges object at 0x7f1e8ab168d0>]}\n",
      "concept_network_dict = {1: [<networkx_utils.GraphOrderedEdges object at 0x7f1f07119eb8>], 0: [<networkx_utils.GraphOrderedEdges object at 0x7f1e8ab168d0>]}\n",
      "checking and resolving cycles\n",
      "No cycles to fix\n",
      "curr_limb_concept_networks= {1: [<networkx_utils.GraphOrderedEdges object at 0x7f1f362f9be0>]}\n",
      "concept_network_dict = {1: [<networkx_utils.GraphOrderedEdges object at 0x7f1f362f9be0>]}\n",
      "checking and resolving cycles\n",
      "No cycles to fix\n",
      "curr_limb_concept_networks= {0: [<networkx_utils.GraphOrderedEdges object at 0x7f1f07119ba8>]}\n",
      "concept_network_dict = {0: [<networkx_utils.GraphOrderedEdges object at 0x7f1f07119ba8>]}\n",
      "checking and resolving cycles\n",
      "No cycles to fix\n",
      "curr_limb_concept_networks= {0: [<networkx_utils.GraphOrderedEdges object at 0x7f1f07119dd8>]}\n",
      "concept_network_dict = {0: [<networkx_utils.GraphOrderedEdges object at 0x7f1f07119dd8>]}\n",
      "checking and resolving cycles\n",
      "No cycles to fix\n",
      "curr_limb_concept_networks= {0: [<networkx_utils.GraphOrderedEdges object at 0x7f1f07119748>]}\n",
      "concept_network_dict = {0: [<networkx_utils.GraphOrderedEdges object at 0x7f1f07119748>]}\n",
      "checking and resolving cycles\n",
      "No cycles to fix\n",
      "curr_limb_concept_networks= {0: [<networkx_utils.GraphOrderedEdges object at 0x7f1f07119518>]}\n",
      "concept_network_dict = {0: [<networkx_utils.GraphOrderedEdges object at 0x7f1f07119518>]}\n",
      "checking and resolving cycles\n",
      "No cycles to fix\n",
      "curr_limb_concept_networks= {0: [<networkx_utils.GraphOrderedEdges object at 0x7f1f07119f98>]}\n",
      "concept_network_dict = {0: [<networkx_utils.GraphOrderedEdges object at 0x7f1f07119f98>]}\n",
      "checking and resolving cycles\n",
      "No cycles to fix\n",
      "curr_limb_concept_networks= {0: [<networkx_utils.GraphOrderedEdges object at 0x7f1f070f6da0>]}\n",
      "concept_network_dict = {0: [<networkx_utils.GraphOrderedEdges object at 0x7f1f070f6da0>]}\n",
      "checking and resolving cycles\n",
      "No cycles to fix\n",
      "--- 4) Finshed generating Limb objects and adding them to concept graph: 1.7828340530395508\n",
      "--- 5) SKIPPING Doing the adaptive mesh correspondence on the meshparty preprocessing ---\n",
      "--- 6) SKIPPING Using the computed_attribute_dict to populate neuron attributes ---\n",
      "7) Calculating the spines for the neuorn if do not already exist\n",
      "7a) calculating spines because didn't exist\n",
      "query = median_mesh_center > 200 and n_faces_branch>100\n",
      "smoothness_threshold = 0.08\n",
      "The median_mesh_center was requested but has not already been calculated so calculating now.... \n",
      "Working on limb L0 branch 7\n",
      "Working on limb L0 branch 8\n",
      "Working on limb L0 branch 17\n",
      "Working on limb L0 branch 20\n",
      "Working on limb L0 branch 48\n",
      "Working on limb L0 branch 9\n",
      "Working on limb L0 branch 21\n",
      "Working on limb L0 branch 19\n",
      "Working on limb L0 branch 45\n",
      "Working on limb L0 branch 23\n",
      "Working on limb L0 branch 57\n",
      "Working on limb L0 branch 5\n",
      "Working on limb L0 branch 55\n",
      "Working on limb L0 branch 36\n",
      "Working on limb L0 branch 37\n",
      "Working on limb L0 branch 44\n",
      "Working on limb L0 branch 46\n",
      "Working on limb L0 branch 3\n",
      "Working on limb L0 branch 11\n",
      "Working on limb L0 branch 12\n",
      "Working on limb L0 branch 2\n",
      "Working on limb L0 branch 4\n",
      "Working on limb L0 branch 43\n",
      "Working on limb L0 branch 47\n",
      "Working on limb L0 branch 14\n",
      "Working on limb L0 branch 16\n",
      "Working on limb L0 branch 0\n",
      "Working on limb L0 branch 1\n",
      "Working on limb L0 branch 26\n",
      "Working on limb L0 branch 28\n",
      "Working on limb L0 branch 13\n",
      "Working on limb L0 branch 18\n",
      "Working on limb L0 branch 25\n",
      "Working on limb L0 branch 27\n",
      "Working on limb L0 branch 59\n",
      "Working on limb L0 branch 61\n",
      "Working on limb L0 branch 10\n",
      "Working on limb L0 branch 15\n",
      "Working on limb L0 branch 6\n",
      "Working on limb L0 branch 32\n",
      "Working on limb L0 branch 35\n",
      "Working on limb L0 branch 24\n",
      "Working on limb L0 branch 41\n",
      "Working on limb L0 branch 42\n",
      "Working on limb L0 branch 58\n",
      "Working on limb L0 branch 60\n",
      "Working on limb L0 branch 39\n",
      "Working on limb L0 branch 40\n",
      "Working on limb L0 branch 22\n",
      "Working on limb L0 branch 56\n",
      "Working on limb L0 branch 33\n",
      "Working on limb L0 branch 34\n",
      "Working on limb L0 branch 31\n",
      "Working on limb L0 branch 38\n",
      "Working on limb L0 branch 50\n",
      "Working on limb L0 branch 52\n",
      "Working on limb L0 branch 29\n",
      "Working on limb L0 branch 30\n",
      "Working on limb L0 branch 49\n",
      "Working on limb L0 branch 53\n",
      "Working on limb L0 branch 51\n",
      "Working on limb L0 branch 54\n",
      "Working on limb L1 branch 9\n",
      "Working on limb L1 branch 6\n",
      "Working on limb L1 branch 10\n",
      "Working on limb L1 branch 4\n",
      "Working on limb L1 branch 7\n",
      "Working on limb L1 branch 13\n",
      "Working on limb L1 branch 44\n",
      "Working on limb L1 branch 45\n",
      "Working on limb L1 branch 0\n",
      "Working on limb L1 branch 2\n",
      "Working on limb L1 branch 12\n",
      "Working on limb L1 branch 50\n",
      "Working on limb L1 branch 24\n",
      "Working on limb L1 branch 39\n",
      "Working on limb L1 branch 1\n",
      "Working on limb L1 branch 3\n",
      "Working on limb L1 branch 5\n",
      "Working on limb L1 branch 8\n",
      "Working on limb L1 branch 14\n",
      "Working on limb L1 branch 15\n",
      "Working on limb L1 branch 37\n",
      "Working on limb L1 branch 38\n",
      "Working on limb L1 branch 11\n",
      "Working on limb L1 branch 32\n",
      "Working on limb L1 branch 16\n",
      "Working on limb L1 branch 17\n",
      "Working on limb L1 branch 26\n",
      "Working on limb L1 branch 42\n",
      "Working on limb L1 branch 43\n",
      "Working on limb L1 branch 31\n",
      "Working on limb L1 branch 34\n",
      "Working on limb L1 branch 46\n",
      "Working on limb L1 branch 47\n",
      "Working on limb L1 branch 18\n",
      "Working on limb L1 branch 19\n",
      "Working on limb L1 branch 25\n",
      "Working on limb L1 branch 27\n",
      "Working on limb L1 branch 30\n",
      "Working on limb L1 branch 33\n",
      "Working on limb L1 branch 48\n",
      "Working on limb L1 branch 49\n",
      "Working on limb L1 branch 20\n",
      "Working on limb L1 branch 21\n",
      "Working on limb L1 branch 29\n",
      "Working on limb L1 branch 36\n",
      "Working on limb L1 branch 40\n",
      "Working on limb L1 branch 41\n",
      "Working on limb L1 branch 22\n",
      "Working on limb L1 branch 23\n",
      "Working on limb L1 branch 28\n",
      "Working on limb L1 branch 35\n",
      "Working on limb L1 branch 51\n",
      "Working on limb L3 branch 8\n",
      "Working on limb L3 branch 6\n"
     ]
    },
    {
     "name": "stdout",
     "output_type": "stream",
     "text": [
      "Working on limb L3 branch 7\n",
      "Working on limb L3 branch 1\n",
      "Working on limb L3 branch 5\n",
      "Working on limb L3 branch 2\n",
      "Working on limb L3 branch 4\n",
      "Working on limb L3 branch 3\n",
      "Working on limb L3 branch 9\n",
      "Working on limb L3 branch 0\n",
      "Working on limb L3 branch 10\n",
      "Working on limb L4 branch 0\n",
      "Working on limb L4 branch 1\n",
      "Working on limb L4 branch 2\n",
      "Working on limb L4 branch 3\n",
      "Working on limb L4 branch 9\n",
      "Working on limb L4 branch 4\n",
      "Working on limb L4 branch 11\n",
      "Working on limb L4 branch 6\n",
      "Working on limb L4 branch 8\n",
      "Working on limb L4 branch 10\n",
      "Working on limb L4 branch 5\n",
      "Working on limb L4 branch 7\n",
      "Working on limb L5 branch 12\n",
      "Working on limb L5 branch 8\n",
      "Working on limb L5 branch 13\n",
      "Working on limb L5 branch 5\n",
      "Working on limb L5 branch 9\n",
      "Working on limb L5 branch 11\n",
      "Working on limb L5 branch 14\n",
      "Working on limb L5 branch 1\n",
      "Working on limb L5 branch 4\n",
      "Working on limb L5 branch 7\n",
      "Working on limb L5 branch 10\n",
      "Working on limb L5 branch 3\n",
      "Working on limb L5 branch 6\n",
      "Working on limb L5 branch 0\n",
      "Working on limb L5 branch 2\n",
      "Working on limb L6 branch 1\n",
      "Working on limb L6 branch 0\n",
      "Working on limb L6 branch 5\n",
      "Working on limb L6 branch 2\n",
      "Working on limb L6 branch 3\n",
      "Working on limb L6 branch 4\n",
      "Working on limb L7 branch 0\n",
      "Working on limb L7 branch 1\n",
      "Working on limb L7 branch 2\n",
      "Working on limb L8 branch 2\n",
      "Working on limb L8 branch 1\n",
      "Working on limb L8 branch 3\n",
      "Working on limb L8 branch 0\n",
      "Working on limb L8 branch 4\n",
      "Working on limb L2 branch 5\n",
      "Working on limb L2 branch 9\n",
      "Working on limb L2 branch 17\n",
      "Working on limb L2 branch 4\n",
      "Working on limb L2 branch 6\n",
      "Working on limb L2 branch 16\n",
      "Working on limb L2 branch 19\n",
      "Working on limb L2 branch 0\n",
      "Working on limb L2 branch 3\n",
      "Working on limb L2 branch 11\n",
      "Working on limb L2 branch 32\n",
      "Working on limb L2 branch 18\n",
      "Working on limb L2 branch 20\n",
      "Working on limb L2 branch 23\n",
      "Working on limb L2 branch 24\n",
      "Working on limb L2 branch 2\n",
      "Working on limb L2 branch 10\n",
      "Working on limb L2 branch 7\n",
      "Working on limb L2 branch 8\n",
      "Working on limb L2 branch 27\n",
      "Working on limb L2 branch 28\n",
      "Working on limb L2 branch 1\n",
      "Working on limb L2 branch 31\n",
      "Working on limb L2 branch 14\n",
      "Working on limb L2 branch 15\n",
      "Working on limb L2 branch 12\n",
      "Working on limb L2 branch 13\n",
      "Working on limb L2 branch 26\n",
      "Working on limb L2 branch 29\n",
      "Working on limb L2 branch 21\n",
      "Working on limb L2 branch 22\n",
      "Working on limb L2 branch 25\n",
      "Working on limb L2 branch 30\n",
      "functions_list = [<function median_mesh_center at 0x7f1f346ad8c8>, <function n_faces_branch at 0x7f1f346ad488>]\n"
     ]
    },
    {
     "data": {
      "application/vnd.jupyter.widget-view+json": {
       "model_id": "9d99c527ae834153acf7fd32f784657e",
       "version_major": 2,
       "version_minor": 0
      },
      "text/plain": [
       "HBox(children=(FloatProgress(value=0.0, max=5.0), HTML(value='')))"
      ]
     },
     "metadata": {},
     "output_type": "display_data"
    },
    {
     "name": "stdout",
     "output_type": "stream",
     "text": [
      "\n"
     ]
    },
    {
     "data": {
      "application/vnd.jupyter.widget-view+json": {
       "model_id": "411a85c3cee14caba616f6ed2e58ea8c",
       "version_major": 2,
       "version_minor": 0
      },
      "text/plain": [
       "HBox(children=(FloatProgress(value=0.0, max=41.0), HTML(value='')))"
      ]
     },
     "metadata": {},
     "output_type": "display_data"
    },
    {
     "name": "stdout",
     "output_type": "stream",
     "text": [
      "\n"
     ]
    },
    {
     "data": {
      "application/vnd.jupyter.widget-view+json": {
       "model_id": "c522691f29064873a793dcea157cab0a",
       "version_major": 2,
       "version_minor": 0
      },
      "text/plain": [
       "HBox(children=(FloatProgress(value=0.0, max=101.0), HTML(value='')))"
      ]
     },
     "metadata": {},
     "output_type": "display_data"
    },
    {
     "name": "stdout",
     "output_type": "stream",
     "text": [
      "\n"
     ]
    },
    {
     "data": {
      "application/vnd.jupyter.widget-view+json": {
       "model_id": "35e4203f97da43f187347d5132f3471b",
       "version_major": 2,
       "version_minor": 0
      },
      "text/plain": [
       "HBox(children=(FloatProgress(value=0.0, max=33.0), HTML(value='')))"
      ]
     },
     "metadata": {},
     "output_type": "display_data"
    },
    {
     "name": "stdout",
     "output_type": "stream",
     "text": [
      "\n"
     ]
    },
    {
     "data": {
      "application/vnd.jupyter.widget-view+json": {
       "model_id": "d2a175e93cdb467f945aa8a5363f9e13",
       "version_major": 2,
       "version_minor": 0
      },
      "text/plain": [
       "HBox(children=(FloatProgress(value=0.0, max=2.0), HTML(value='')))"
      ]
     },
     "metadata": {},
     "output_type": "display_data"
    },
    {
     "name": "stdout",
     "output_type": "stream",
     "text": [
      "\n"
     ]
    },
    {
     "data": {
      "application/vnd.jupyter.widget-view+json": {
       "model_id": "dcb7e0d0f34741eda156cfcff31a2327",
       "version_major": 2,
       "version_minor": 0
      },
      "text/plain": [
       "HBox(children=(FloatProgress(value=0.0, max=4.0), HTML(value='')))"
      ]
     },
     "metadata": {},
     "output_type": "display_data"
    },
    {
     "name": "stdout",
     "output_type": "stream",
     "text": [
      "\n"
     ]
    },
    {
     "data": {
      "application/vnd.jupyter.widget-view+json": {
       "model_id": "0b1de08c5d03409883a9b22dbdbbef07",
       "version_major": 2,
       "version_minor": 0
      },
      "text/plain": [
       "HBox(children=(FloatProgress(value=0.0, max=12.0), HTML(value='')))"
      ]
     },
     "metadata": {},
     "output_type": "display_data"
    },
    {
     "name": "stdout",
     "output_type": "stream",
     "text": [
      "\n"
     ]
    },
    {
     "data": {
      "application/vnd.jupyter.widget-view+json": {
       "model_id": "062cc1017899424d9bd38755ce538041",
       "version_major": 2,
       "version_minor": 0
      },
      "text/plain": [
       "HBox(children=(FloatProgress(value=0.0, max=4.0), HTML(value='')))"
      ]
     },
     "metadata": {},
     "output_type": "display_data"
    },
    {
     "name": "stdout",
     "output_type": "stream",
     "text": [
      "\n"
     ]
    },
    {
     "data": {
      "application/vnd.jupyter.widget-view+json": {
       "model_id": "e79d27358f93463cb01f4a097f89ee59",
       "version_major": 2,
       "version_minor": 0
      },
      "text/plain": [
       "HBox(children=(FloatProgress(value=0.0, max=19.0), HTML(value='')))"
      ]
     },
     "metadata": {},
     "output_type": "display_data"
    },
    {
     "name": "stdout",
     "output_type": "stream",
     "text": [
      "\n"
     ]
    },
    {
     "data": {
      "application/vnd.jupyter.widget-view+json": {
       "model_id": "f1450c37cfa44ecf803fa4be549c4abb",
       "version_major": 2,
       "version_minor": 0
      },
      "text/plain": [
       "HBox(children=(FloatProgress(value=0.0, max=10.0), HTML(value='')))"
      ]
     },
     "metadata": {},
     "output_type": "display_data"
    },
    {
     "name": "stdout",
     "output_type": "stream",
     "text": [
      "\n"
     ]
    },
    {
     "data": {
      "application/vnd.jupyter.widget-view+json": {
       "model_id": "fd29bedce1c44c20b51d1e81834865ac",
       "version_major": 2,
       "version_minor": 0
      },
      "text/plain": [
       "HBox(children=(FloatProgress(value=0.0, max=104.0), HTML(value='')))"
      ]
     },
     "metadata": {},
     "output_type": "display_data"
    },
    {
     "name": "stdout",
     "output_type": "stream",
     "text": [
      "\n"
     ]
    },
    {
     "data": {
      "application/vnd.jupyter.widget-view+json": {
       "model_id": "c51a211b02914a4db5e9109020170ec8",
       "version_major": 2,
       "version_minor": 0
      },
      "text/plain": [
       "HBox(children=(FloatProgress(value=0.0, max=24.0), HTML(value='')))"
      ]
     },
     "metadata": {},
     "output_type": "display_data"
    },
    {
     "name": "stdout",
     "output_type": "stream",
     "text": [
      "\n"
     ]
    },
    {
     "data": {
      "application/vnd.jupyter.widget-view+json": {
       "model_id": "f804e2c6d94c4f4a89741dc6d22dfb58",
       "version_major": 2,
       "version_minor": 0
      },
      "text/plain": [
       "HBox(children=(FloatProgress(value=0.0, max=44.0), HTML(value='')))"
      ]
     },
     "metadata": {},
     "output_type": "display_data"
    },
    {
     "name": "stdout",
     "output_type": "stream",
     "text": [
      "\n"
     ]
    },
    {
     "data": {
      "application/vnd.jupyter.widget-view+json": {
       "model_id": "cb7a265bf1ae4d8796fbaabb6382cd1a",
       "version_major": 2,
       "version_minor": 0
      },
      "text/plain": [
       "HBox(children=(FloatProgress(value=0.0, max=15.0), HTML(value='')))"
      ]
     },
     "metadata": {},
     "output_type": "display_data"
    },
    {
     "name": "stdout",
     "output_type": "stream",
     "text": [
      "\n"
     ]
    },
    {
     "data": {
      "application/vnd.jupyter.widget-view+json": {
       "model_id": "9d05cf87ba82442aae38f85f74a10d80",
       "version_major": 2,
       "version_minor": 0
      },
      "text/plain": [
       "HBox(children=(FloatProgress(value=0.0, max=1.0), HTML(value='')))"
      ]
     },
     "metadata": {},
     "output_type": "display_data"
    },
    {
     "name": "stdout",
     "output_type": "stream",
     "text": [
      "\n",
      "There was only one mesh found from the spine process and mesh split, returning empty array\n"
     ]
    },
    {
     "data": {
      "application/vnd.jupyter.widget-view+json": {
       "model_id": "7800abc02b3049c0a178e8539b72631e",
       "version_major": 2,
       "version_minor": 0
      },
      "text/plain": [
       "HBox(children=(FloatProgress(value=0.0, max=1.0), HTML(value='')))"
      ]
     },
     "metadata": {},
     "output_type": "display_data"
    },
    {
     "name": "stdout",
     "output_type": "stream",
     "text": [
      "\n",
      "There was only one mesh found from the spine process and mesh split, returning empty array\n"
     ]
    },
    {
     "data": {
      "application/vnd.jupyter.widget-view+json": {
       "model_id": "3e225f89cca5426e9dde4bd55cdde4f0",
       "version_major": 2,
       "version_minor": 0
      },
      "text/plain": [
       "HBox(children=(FloatProgress(value=0.0, max=34.0), HTML(value='')))"
      ]
     },
     "metadata": {},
     "output_type": "display_data"
    },
    {
     "name": "stdout",
     "output_type": "stream",
     "text": [
      "\n"
     ]
    },
    {
     "data": {
      "application/vnd.jupyter.widget-view+json": {
       "model_id": "83c9a163182f4ce1a3ac7e83f7cc85d4",
       "version_major": 2,
       "version_minor": 0
      },
      "text/plain": [
       "HBox(children=(FloatProgress(value=0.0, max=8.0), HTML(value='')))"
      ]
     },
     "metadata": {},
     "output_type": "display_data"
    },
    {
     "name": "stdout",
     "output_type": "stream",
     "text": [
      "\n"
     ]
    },
    {
     "data": {
      "application/vnd.jupyter.widget-view+json": {
       "model_id": "550519a0ccd54f99946ed3a96f0741ec",
       "version_major": 2,
       "version_minor": 0
      },
      "text/plain": [
       "HBox(children=(FloatProgress(value=0.0, max=6.0), HTML(value='')))"
      ]
     },
     "metadata": {},
     "output_type": "display_data"
    },
    {
     "name": "stdout",
     "output_type": "stream",
     "text": [
      "\n"
     ]
    },
    {
     "data": {
      "application/vnd.jupyter.widget-view+json": {
       "model_id": "10198f7fa9af42fd9342f4e1a447f6fb",
       "version_major": 2,
       "version_minor": 0
      },
      "text/plain": [
       "HBox(children=(FloatProgress(value=0.0, max=20.0), HTML(value='')))"
      ]
     },
     "metadata": {},
     "output_type": "display_data"
    },
    {
     "name": "stdout",
     "output_type": "stream",
     "text": [
      "\n"
     ]
    },
    {
     "data": {
      "application/vnd.jupyter.widget-view+json": {
       "model_id": "9be76a913fbb432ca3917d2c4bfd451a",
       "version_major": 2,
       "version_minor": 0
      },
      "text/plain": [
       "HBox(children=(FloatProgress(value=0.0, max=18.0), HTML(value='')))"
      ]
     },
     "metadata": {},
     "output_type": "display_data"
    },
    {
     "name": "stdout",
     "output_type": "stream",
     "text": [
      "\n"
     ]
    },
    {
     "data": {
      "application/vnd.jupyter.widget-view+json": {
       "model_id": "55487727be8c453a881336f1f6f6e5a3",
       "version_major": 2,
       "version_minor": 0
      },
      "text/plain": [
       "HBox(children=(FloatProgress(value=0.0, max=8.0), HTML(value='')))"
      ]
     },
     "metadata": {},
     "output_type": "display_data"
    },
    {
     "name": "stdout",
     "output_type": "stream",
     "text": [
      "\n"
     ]
    },
    {
     "data": {
      "application/vnd.jupyter.widget-view+json": {
       "model_id": "d6ed29abe500445d96a805d271111741",
       "version_major": 2,
       "version_minor": 0
      },
      "text/plain": [
       "HBox(children=(FloatProgress(value=0.0, max=3.0), HTML(value='')))"
      ]
     },
     "metadata": {},
     "output_type": "display_data"
    },
    {
     "name": "stdout",
     "output_type": "stream",
     "text": [
      "\n"
     ]
    },
    {
     "data": {
      "application/vnd.jupyter.widget-view+json": {
       "model_id": "f653ae0a31df40fea5972e628d477512",
       "version_major": 2,
       "version_minor": 0
      },
      "text/plain": [
       "HBox(children=(FloatProgress(value=0.0, max=18.0), HTML(value='')))"
      ]
     },
     "metadata": {},
     "output_type": "display_data"
    },
    {
     "name": "stdout",
     "output_type": "stream",
     "text": [
      "\n"
     ]
    },
    {
     "data": {
      "application/vnd.jupyter.widget-view+json": {
       "model_id": "c79bcbc2e64248858bd3a23c61f6c77c",
       "version_major": 2,
       "version_minor": 0
      },
      "text/plain": [
       "HBox(children=(FloatProgress(value=0.0, max=43.0), HTML(value='')))"
      ]
     },
     "metadata": {},
     "output_type": "display_data"
    },
    {
     "name": "stdout",
     "output_type": "stream",
     "text": [
      "\n"
     ]
    },
    {
     "data": {
      "application/vnd.jupyter.widget-view+json": {
       "model_id": "7f4069e6f6c648e89b52b596a5b671fa",
       "version_major": 2,
       "version_minor": 0
      },
      "text/plain": [
       "HBox(children=(FloatProgress(value=0.0, max=22.0), HTML(value='')))"
      ]
     },
     "metadata": {},
     "output_type": "display_data"
    },
    {
     "name": "stdout",
     "output_type": "stream",
     "text": [
      "\n"
     ]
    },
    {
     "data": {
      "application/vnd.jupyter.widget-view+json": {
       "model_id": "2400e1c6060242fe895e214953ef7203",
       "version_major": 2,
       "version_minor": 0
      },
      "text/plain": [
       "HBox(children=(FloatProgress(value=0.0, max=11.0), HTML(value='')))"
      ]
     },
     "metadata": {},
     "output_type": "display_data"
    },
    {
     "name": "stdout",
     "output_type": "stream",
     "text": [
      "\n"
     ]
    },
    {
     "data": {
      "application/vnd.jupyter.widget-view+json": {
       "model_id": "edd220e7d2624bf6b05a8d00afa6e8a0",
       "version_major": 2,
       "version_minor": 0
      },
      "text/plain": [
       "HBox(children=(FloatProgress(value=0.0, max=22.0), HTML(value='')))"
      ]
     },
     "metadata": {},
     "output_type": "display_data"
    },
    {
     "name": "stdout",
     "output_type": "stream",
     "text": [
      "\n"
     ]
    },
    {
     "data": {
      "application/vnd.jupyter.widget-view+json": {
       "model_id": "dce202e48c264849804115e94e2369eb",
       "version_major": 2,
       "version_minor": 0
      },
      "text/plain": [
       "HBox(children=(FloatProgress(value=0.0, max=5.0), HTML(value='')))"
      ]
     },
     "metadata": {},
     "output_type": "display_data"
    },
    {
     "name": "stdout",
     "output_type": "stream",
     "text": [
      "\n"
     ]
    },
    {
     "data": {
      "application/vnd.jupyter.widget-view+json": {
       "model_id": "39ba706386af45c6ad2dc0a01ac56273",
       "version_major": 2,
       "version_minor": 0
      },
      "text/plain": [
       "HBox(children=(FloatProgress(value=0.0, max=20.0), HTML(value='')))"
      ]
     },
     "metadata": {},
     "output_type": "display_data"
    },
    {
     "name": "stdout",
     "output_type": "stream",
     "text": [
      "\n"
     ]
    },
    {
     "data": {
      "application/vnd.jupyter.widget-view+json": {
       "model_id": "3b6195c785874be99d103aa4392a68ec",
       "version_major": 2,
       "version_minor": 0
      },
      "text/plain": [
       "HBox(children=(FloatProgress(value=0.0, max=41.0), HTML(value='')))"
      ]
     },
     "metadata": {},
     "output_type": "display_data"
    },
    {
     "name": "stdout",
     "output_type": "stream",
     "text": [
      "\n"
     ]
    },
    {
     "data": {
      "application/vnd.jupyter.widget-view+json": {
       "model_id": "fe56aa6d18824ec68215ba6dc0072ede",
       "version_major": 2,
       "version_minor": 0
      },
      "text/plain": [
       "HBox(children=(FloatProgress(value=0.0, max=48.0), HTML(value='')))"
      ]
     },
     "metadata": {},
     "output_type": "display_data"
    },
    {
     "name": "stdout",
     "output_type": "stream",
     "text": [
      "\n"
     ]
    },
    {
     "data": {
      "application/vnd.jupyter.widget-view+json": {
       "model_id": "e6c12310600a42fd9f3cd783e93b7f20",
       "version_major": 2,
       "version_minor": 0
      },
      "text/plain": [
       "HBox(children=(FloatProgress(value=0.0, max=7.0), HTML(value='')))"
      ]
     },
     "metadata": {},
     "output_type": "display_data"
    },
    {
     "name": "stdout",
     "output_type": "stream",
     "text": [
      "\n"
     ]
    },
    {
     "data": {
      "application/vnd.jupyter.widget-view+json": {
       "model_id": "04f2c2e699b44a6aaec644f6dfcbbef8",
       "version_major": 2,
       "version_minor": 0
      },
      "text/plain": [
       "HBox(children=(FloatProgress(value=0.0, max=99.0), HTML(value='')))"
      ]
     },
     "metadata": {},
     "output_type": "display_data"
    },
    {
     "name": "stdout",
     "output_type": "stream",
     "text": [
      "\n"
     ]
    },
    {
     "data": {
      "application/vnd.jupyter.widget-view+json": {
       "model_id": "c19386f68a3745b0baa98d55104ceec0",
       "version_major": 2,
       "version_minor": 0
      },
      "text/plain": [
       "HBox(children=(FloatProgress(value=0.0, max=62.0), HTML(value='')))"
      ]
     },
     "metadata": {},
     "output_type": "display_data"
    },
    {
     "name": "stdout",
     "output_type": "stream",
     "text": [
      "\n"
     ]
    },
    {
     "data": {
      "application/vnd.jupyter.widget-view+json": {
       "model_id": "9ddc36e0fa9245b085a3faa816051824",
       "version_major": 2,
       "version_minor": 0
      },
      "text/plain": [
       "HBox(children=(FloatProgress(value=0.0, max=57.0), HTML(value='')))"
      ]
     },
     "metadata": {},
     "output_type": "display_data"
    },
    {
     "name": "stdout",
     "output_type": "stream",
     "text": [
      "\n"
     ]
    },
    {
     "data": {
      "application/vnd.jupyter.widget-view+json": {
       "model_id": "23db6844ba05408095efaa7b0e6c232c",
       "version_major": 2,
       "version_minor": 0
      },
      "text/plain": [
       "HBox(children=(FloatProgress(value=0.0, max=40.0), HTML(value='')))"
      ]
     },
     "metadata": {},
     "output_type": "display_data"
    },
    {
     "name": "stdout",
     "output_type": "stream",
     "text": [
      "\n"
     ]
    },
    {
     "data": {
      "application/vnd.jupyter.widget-view+json": {
       "model_id": "6bad3211224949bd847705784756e2d7",
       "version_major": 2,
       "version_minor": 0
      },
      "text/plain": [
       "HBox(children=(FloatProgress(value=0.0, max=14.0), HTML(value='')))"
      ]
     },
     "metadata": {},
     "output_type": "display_data"
    },
    {
     "name": "stdout",
     "output_type": "stream",
     "text": [
      "\n"
     ]
    },
    {
     "data": {
      "application/vnd.jupyter.widget-view+json": {
       "model_id": "a1bdfa9d2bd54c06afdd0fd8dc70c5b0",
       "version_major": 2,
       "version_minor": 0
      },
      "text/plain": [
       "HBox(children=(FloatProgress(value=0.0, max=55.0), HTML(value='')))"
      ]
     },
     "metadata": {},
     "output_type": "display_data"
    },
    {
     "name": "stdout",
     "output_type": "stream",
     "text": [
      "\n"
     ]
    },
    {
     "data": {
      "application/vnd.jupyter.widget-view+json": {
       "model_id": "5f795083379d44b097c913c7afa0bbf9",
       "version_major": 2,
       "version_minor": 0
      },
      "text/plain": [
       "HBox(children=(FloatProgress(value=0.0, max=66.0), HTML(value='')))"
      ]
     },
     "metadata": {},
     "output_type": "display_data"
    },
    {
     "name": "stdout",
     "output_type": "stream",
     "text": [
      "\n"
     ]
    },
    {
     "data": {
      "application/vnd.jupyter.widget-view+json": {
       "model_id": "82c0006d156f4ec39cfa3a84b2693811",
       "version_major": 2,
       "version_minor": 0
      },
      "text/plain": [
       "HBox(children=(FloatProgress(value=0.0, max=25.0), HTML(value='')))"
      ]
     },
     "metadata": {},
     "output_type": "display_data"
    },
    {
     "name": "stdout",
     "output_type": "stream",
     "text": [
      "\n"
     ]
    },
    {
     "data": {
      "application/vnd.jupyter.widget-view+json": {
       "model_id": "3aa9b0d276814e0a8707a08de7e348be",
       "version_major": 2,
       "version_minor": 0
      },
      "text/plain": [
       "HBox(children=(FloatProgress(value=0.0, max=6.0), HTML(value='')))"
      ]
     },
     "metadata": {},
     "output_type": "display_data"
    },
    {
     "name": "stdout",
     "output_type": "stream",
     "text": [
      "\n"
     ]
    },
    {
     "data": {
      "application/vnd.jupyter.widget-view+json": {
       "model_id": "ff5038140aac4db1833c31823f12bedf",
       "version_major": 2,
       "version_minor": 0
      },
      "text/plain": [
       "HBox(children=(FloatProgress(value=0.0, max=89.0), HTML(value='')))"
      ]
     },
     "metadata": {},
     "output_type": "display_data"
    },
    {
     "name": "stdout",
     "output_type": "stream",
     "text": [
      "\n"
     ]
    },
    {
     "data": {
      "application/vnd.jupyter.widget-view+json": {
       "model_id": "56e690431acd4e9089832f83bd4f4b35",
       "version_major": 2,
       "version_minor": 0
      },
      "text/plain": [
       "HBox(children=(FloatProgress(value=0.0, max=46.0), HTML(value='')))"
      ]
     },
     "metadata": {},
     "output_type": "display_data"
    },
    {
     "name": "stdout",
     "output_type": "stream",
     "text": [
      "\n"
     ]
    },
    {
     "data": {
      "application/vnd.jupyter.widget-view+json": {
       "model_id": "f043efd12b834fd585ce50316d776779",
       "version_major": 2,
       "version_minor": 0
      },
      "text/plain": [
       "HBox(children=(FloatProgress(value=0.0, max=38.0), HTML(value='')))"
      ]
     },
     "metadata": {},
     "output_type": "display_data"
    },
    {
     "name": "stdout",
     "output_type": "stream",
     "text": [
      "\n"
     ]
    },
    {
     "data": {
      "application/vnd.jupyter.widget-view+json": {
       "model_id": "a28ec94cea1a489c95138d0a1bfc1a03",
       "version_major": 2,
       "version_minor": 0
      },
      "text/plain": [
       "HBox(children=(FloatProgress(value=0.0, max=21.0), HTML(value='')))"
      ]
     },
     "metadata": {},
     "output_type": "display_data"
    },
    {
     "name": "stdout",
     "output_type": "stream",
     "text": [
      "\n"
     ]
    },
    {
     "data": {
      "application/vnd.jupyter.widget-view+json": {
       "model_id": "4329fd1ffd614e4791ed6d5a2330aff9",
       "version_major": 2,
       "version_minor": 0
      },
      "text/plain": [
       "HBox(children=(FloatProgress(value=0.0, max=55.0), HTML(value='')))"
      ]
     },
     "metadata": {},
     "output_type": "display_data"
    },
    {
     "name": "stdout",
     "output_type": "stream",
     "text": [
      "\n"
     ]
    },
    {
     "data": {
      "application/vnd.jupyter.widget-view+json": {
       "model_id": "a533be25e09e4086b8acadb2f9a176e1",
       "version_major": 2,
       "version_minor": 0
      },
      "text/plain": [
       "HBox(children=(FloatProgress(value=0.0, max=2.0), HTML(value='')))"
      ]
     },
     "metadata": {},
     "output_type": "display_data"
    },
    {
     "name": "stdout",
     "output_type": "stream",
     "text": [
      "\n"
     ]
    },
    {
     "data": {
      "application/vnd.jupyter.widget-view+json": {
       "model_id": "f5a254df5337445280e58aaf86d1e050",
       "version_major": 2,
       "version_minor": 0
      },
      "text/plain": [
       "HBox(children=(FloatProgress(value=0.0, max=3.0), HTML(value='')))"
      ]
     },
     "metadata": {},
     "output_type": "display_data"
    },
    {
     "name": "stdout",
     "output_type": "stream",
     "text": [
      "\n"
     ]
    },
    {
     "data": {
      "application/vnd.jupyter.widget-view+json": {
       "model_id": "a55e6dcc43614c64abe9538b53252bc7",
       "version_major": 2,
       "version_minor": 0
      },
      "text/plain": [
       "HBox(children=(FloatProgress(value=0.0, max=3.0), HTML(value='')))"
      ]
     },
     "metadata": {},
     "output_type": "display_data"
    },
    {
     "name": "stdout",
     "output_type": "stream",
     "text": [
      "\n"
     ]
    },
    {
     "data": {
      "application/vnd.jupyter.widget-view+json": {
       "model_id": "c5e3c386798146b6a83d33777e2f2141",
       "version_major": 2,
       "version_minor": 0
      },
      "text/plain": [
       "HBox(children=(FloatProgress(value=0.0, max=2.0), HTML(value='')))"
      ]
     },
     "metadata": {},
     "output_type": "display_data"
    },
    {
     "name": "stdout",
     "output_type": "stream",
     "text": [
      "\n"
     ]
    },
    {
     "data": {
      "application/vnd.jupyter.widget-view+json": {
       "model_id": "b392050cf9a546fea480541439fc9f57",
       "version_major": 2,
       "version_minor": 0
      },
      "text/plain": [
       "HBox(children=(FloatProgress(value=0.0, max=19.0), HTML(value='')))"
      ]
     },
     "metadata": {},
     "output_type": "display_data"
    },
    {
     "name": "stdout",
     "output_type": "stream",
     "text": [
      "\n"
     ]
    },
    {
     "data": {
      "application/vnd.jupyter.widget-view+json": {
       "model_id": "182cae77b0114d5781fde8478be3adc1",
       "version_major": 2,
       "version_minor": 0
      },
      "text/plain": [
       "HBox(children=(FloatProgress(value=0.0, max=28.0), HTML(value='')))"
      ]
     },
     "metadata": {},
     "output_type": "display_data"
    },
    {
     "name": "stdout",
     "output_type": "stream",
     "text": [
      "\n"
     ]
    },
    {
     "data": {
      "application/vnd.jupyter.widget-view+json": {
       "model_id": "3a2c7c56fdf34e70a9db569c261c36b4",
       "version_major": 2,
       "version_minor": 0
      },
      "text/plain": [
       "HBox(children=(FloatProgress(value=0.0, max=4.0), HTML(value='')))"
      ]
     },
     "metadata": {},
     "output_type": "display_data"
    },
    {
     "name": "stdout",
     "output_type": "stream",
     "text": [
      "\n"
     ]
    },
    {
     "data": {
      "application/vnd.jupyter.widget-view+json": {
       "model_id": "71a93dab6164473aa5ee93000ba1dd34",
       "version_major": 2,
       "version_minor": 0
      },
      "text/plain": [
       "HBox(children=(FloatProgress(value=0.0, max=3.0), HTML(value='')))"
      ]
     },
     "metadata": {},
     "output_type": "display_data"
    },
    {
     "name": "stdout",
     "output_type": "stream",
     "text": [
      "\n"
     ]
    },
    {
     "data": {
      "application/vnd.jupyter.widget-view+json": {
       "model_id": "f8ed6f93fd564bd3ac918b48432943e4",
       "version_major": 2,
       "version_minor": 0
      },
      "text/plain": [
       "HBox(children=(FloatProgress(value=0.0, max=12.0), HTML(value='')))"
      ]
     },
     "metadata": {},
     "output_type": "display_data"
    },
    {
     "name": "stdout",
     "output_type": "stream",
     "text": [
      "\n"
     ]
    },
    {
     "data": {
      "application/vnd.jupyter.widget-view+json": {
       "model_id": "68a90fa4838647ccb2e6719a295591a8",
       "version_major": 2,
       "version_minor": 0
      },
      "text/plain": [
       "HBox(children=(FloatProgress(value=0.0, max=8.0), HTML(value='')))"
      ]
     },
     "metadata": {},
     "output_type": "display_data"
    },
    {
     "name": "stdout",
     "output_type": "stream",
     "text": [
      "\n"
     ]
    },
    {
     "data": {
      "application/vnd.jupyter.widget-view+json": {
       "model_id": "653497eab1534b96bedc9f72d8a72885",
       "version_major": 2,
       "version_minor": 0
      },
      "text/plain": [
       "HBox(children=(FloatProgress(value=0.0, max=33.0), HTML(value='')))"
      ]
     },
     "metadata": {},
     "output_type": "display_data"
    },
    {
     "name": "stdout",
     "output_type": "stream",
     "text": [
      "\n"
     ]
    },
    {
     "data": {
      "application/vnd.jupyter.widget-view+json": {
       "model_id": "28507935bfa142989ec731718c70ec1b",
       "version_major": 2,
       "version_minor": 0
      },
      "text/plain": [
       "HBox(children=(FloatProgress(value=0.0, max=12.0), HTML(value='')))"
      ]
     },
     "metadata": {},
     "output_type": "display_data"
    },
    {
     "name": "stdout",
     "output_type": "stream",
     "text": [
      "\n"
     ]
    },
    {
     "data": {
      "application/vnd.jupyter.widget-view+json": {
       "model_id": "a1910eafc7aa491eb9fc9b82befd8416",
       "version_major": 2,
       "version_minor": 0
      },
      "text/plain": [
       "HBox(children=(FloatProgress(value=0.0, max=4.0), HTML(value='')))"
      ]
     },
     "metadata": {},
     "output_type": "display_data"
    },
    {
     "name": "stdout",
     "output_type": "stream",
     "text": [
      "\n"
     ]
    },
    {
     "data": {
      "application/vnd.jupyter.widget-view+json": {
       "model_id": "5d883446695a4c2bbe6a82a0f18c4cd1",
       "version_major": 2,
       "version_minor": 0
      },
      "text/plain": [
       "HBox(children=(FloatProgress(value=0.0, max=43.0), HTML(value='')))"
      ]
     },
     "metadata": {},
     "output_type": "display_data"
    },
    {
     "name": "stdout",
     "output_type": "stream",
     "text": [
      "\n"
     ]
    },
    {
     "data": {
      "application/vnd.jupyter.widget-view+json": {
       "model_id": "d6358cbfd0034713945f2ed1503fe884",
       "version_major": 2,
       "version_minor": 0
      },
      "text/plain": [
       "HBox(children=(FloatProgress(value=0.0, max=2.0), HTML(value='')))"
      ]
     },
     "metadata": {},
     "output_type": "display_data"
    },
    {
     "name": "stdout",
     "output_type": "stream",
     "text": [
      "\n"
     ]
    },
    {
     "data": {
      "application/vnd.jupyter.widget-view+json": {
       "model_id": "47a02b1efd174d94afdf2f94e8adf5e8",
       "version_major": 2,
       "version_minor": 0
      },
      "text/plain": [
       "HBox(children=(FloatProgress(value=0.0, max=7.0), HTML(value='')))"
      ]
     },
     "metadata": {},
     "output_type": "display_data"
    },
    {
     "name": "stdout",
     "output_type": "stream",
     "text": [
      "\n"
     ]
    },
    {
     "data": {
      "application/vnd.jupyter.widget-view+json": {
       "model_id": "bd42efdbfbdb4b1988a50dd7bf92370c",
       "version_major": 2,
       "version_minor": 0
      },
      "text/plain": [
       "HBox(children=(FloatProgress(value=0.0, max=34.0), HTML(value='')))"
      ]
     },
     "metadata": {},
     "output_type": "display_data"
    },
    {
     "name": "stdout",
     "output_type": "stream",
     "text": [
      "\n"
     ]
    },
    {
     "data": {
      "application/vnd.jupyter.widget-view+json": {
       "model_id": "dc54bad5404f4ef5927f1de68de6b3e2",
       "version_major": 2,
       "version_minor": 0
      },
      "text/plain": [
       "HBox(children=(FloatProgress(value=0.0, max=12.0), HTML(value='')))"
      ]
     },
     "metadata": {},
     "output_type": "display_data"
    },
    {
     "name": "stdout",
     "output_type": "stream",
     "text": [
      "\n"
     ]
    },
    {
     "data": {
      "application/vnd.jupyter.widget-view+json": {
       "model_id": "88ab63661cd145aaa5f89085a8c03ef2",
       "version_major": 2,
       "version_minor": 0
      },
      "text/plain": [
       "HBox(children=(FloatProgress(value=0.0, max=54.0), HTML(value='')))"
      ]
     },
     "metadata": {},
     "output_type": "display_data"
    },
    {
     "name": "stdout",
     "output_type": "stream",
     "text": [
      "\n"
     ]
    },
    {
     "data": {
      "application/vnd.jupyter.widget-view+json": {
       "model_id": "84d1f321fabd49b88507631ffcb9f803",
       "version_major": 2,
       "version_minor": 0
      },
      "text/plain": [
       "HBox(children=(FloatProgress(value=0.0, max=62.0), HTML(value='')))"
      ]
     },
     "metadata": {},
     "output_type": "display_data"
    },
    {
     "name": "stdout",
     "output_type": "stream",
     "text": [
      "\n"
     ]
    },
    {
     "data": {
      "application/vnd.jupyter.widget-view+json": {
       "model_id": "1f7d5955d3374df1aa7f9dcb4ed6e1e7",
       "version_major": 2,
       "version_minor": 0
      },
      "text/plain": [
       "HBox(children=(FloatProgress(value=0.0, max=20.0), HTML(value='')))"
      ]
     },
     "metadata": {},
     "output_type": "display_data"
    },
    {
     "name": "stdout",
     "output_type": "stream",
     "text": [
      "\n"
     ]
    },
    {
     "data": {
      "application/vnd.jupyter.widget-view+json": {
       "model_id": "53c27ad6716a45afaf559c787b1d672e",
       "version_major": 2,
       "version_minor": 0
      },
      "text/plain": [
       "HBox(children=(FloatProgress(value=0.0, max=40.0), HTML(value='')))"
      ]
     },
     "metadata": {},
     "output_type": "display_data"
    },
    {
     "name": "stdout",
     "output_type": "stream",
     "text": [
      "\n"
     ]
    },
    {
     "data": {
      "application/vnd.jupyter.widget-view+json": {
       "model_id": "5475a1c2427f4a219e4322f9f41b6ed8",
       "version_major": 2,
       "version_minor": 0
      },
      "text/plain": [
       "HBox(children=(FloatProgress(value=0.0, max=14.0), HTML(value='')))"
      ]
     },
     "metadata": {},
     "output_type": "display_data"
    },
    {
     "name": "stdout",
     "output_type": "stream",
     "text": [
      "\n"
     ]
    },
    {
     "data": {
      "application/vnd.jupyter.widget-view+json": {
       "model_id": "204cb342e8ec4193be8454a551ee260b",
       "version_major": 2,
       "version_minor": 0
      },
      "text/plain": [
       "HBox(children=(FloatProgress(value=0.0, max=32.0), HTML(value='')))"
      ]
     },
     "metadata": {},
     "output_type": "display_data"
    },
    {
     "name": "stdout",
     "output_type": "stream",
     "text": [
      "\n"
     ]
    },
    {
     "data": {
      "application/vnd.jupyter.widget-view+json": {
       "model_id": "eb55fee454bd48c08687618069a1a9fb",
       "version_major": 2,
       "version_minor": 0
      },
      "text/plain": [
       "HBox(children=(FloatProgress(value=0.0, max=4.0), HTML(value='')))"
      ]
     },
     "metadata": {},
     "output_type": "display_data"
    },
    {
     "name": "stdout",
     "output_type": "stream",
     "text": [
      "\n"
     ]
    },
    {
     "data": {
      "application/vnd.jupyter.widget-view+json": {
       "model_id": "55d9b8b2bd9b4810b243533c4339e858",
       "version_major": 2,
       "version_minor": 0
      },
      "text/plain": [
       "HBox(children=(FloatProgress(value=0.0, max=6.0), HTML(value='')))"
      ]
     },
     "metadata": {},
     "output_type": "display_data"
    },
    {
     "name": "stdout",
     "output_type": "stream",
     "text": [
      "\n"
     ]
    },
    {
     "data": {
      "application/vnd.jupyter.widget-view+json": {
       "model_id": "029c5ad99f0443dbbad4e436b774b491",
       "version_major": 2,
       "version_minor": 0
      },
      "text/plain": [
       "HBox(children=(FloatProgress(value=0.0, max=3.0), HTML(value='')))"
      ]
     },
     "metadata": {},
     "output_type": "display_data"
    },
    {
     "name": "stdout",
     "output_type": "stream",
     "text": [
      "\n"
     ]
    },
    {
     "data": {
      "application/vnd.jupyter.widget-view+json": {
       "model_id": "7ffa19a39a044d498e0c208d03651c5f",
       "version_major": 2,
       "version_minor": 0
      },
      "text/plain": [
       "HBox(children=(FloatProgress(value=0.0, max=29.0), HTML(value='')))"
      ]
     },
     "metadata": {},
     "output_type": "display_data"
    },
    {
     "name": "stdout",
     "output_type": "stream",
     "text": [
      "\n"
     ]
    },
    {
     "data": {
      "application/vnd.jupyter.widget-view+json": {
       "model_id": "1e6e0ddaad3649519b08d14eca5bded7",
       "version_major": 2,
       "version_minor": 0
      },
      "text/plain": [
       "HBox(children=(FloatProgress(value=0.0, max=37.0), HTML(value='')))"
      ]
     },
     "metadata": {},
     "output_type": "display_data"
    },
    {
     "name": "stdout",
     "output_type": "stream",
     "text": [
      "\n"
     ]
    },
    {
     "data": {
      "application/vnd.jupyter.widget-view+json": {
       "model_id": "ea5a3cb8c51a4543bc7908ef76fa3b1d",
       "version_major": 2,
       "version_minor": 0
      },
      "text/plain": [
       "HBox(children=(FloatProgress(value=0.0, max=25.0), HTML(value='')))"
      ]
     },
     "metadata": {},
     "output_type": "display_data"
    },
    {
     "name": "stdout",
     "output_type": "stream",
     "text": [
      "\n"
     ]
    },
    {
     "data": {
      "application/vnd.jupyter.widget-view+json": {
       "model_id": "f90128d49e664107828176d1c461d766",
       "version_major": 2,
       "version_minor": 0
      },
      "text/plain": [
       "HBox(children=(FloatProgress(value=0.0, max=4.0), HTML(value='')))"
      ]
     },
     "metadata": {},
     "output_type": "display_data"
    },
    {
     "name": "stdout",
     "output_type": "stream",
     "text": [
      "\n"
     ]
    },
    {
     "data": {
      "application/vnd.jupyter.widget-view+json": {
       "model_id": "7ed8ccd9102f4f5cabcfd12bbe1b3e1c",
       "version_major": 2,
       "version_minor": 0
      },
      "text/plain": [
       "HBox(children=(FloatProgress(value=0.0, max=75.0), HTML(value='')))"
      ]
     },
     "metadata": {},
     "output_type": "display_data"
    },
    {
     "name": "stdout",
     "output_type": "stream",
     "text": [
      "\n"
     ]
    },
    {
     "data": {
      "application/vnd.jupyter.widget-view+json": {
       "model_id": "0c26fc702b1e4e13b127601fe25de340",
       "version_major": 2,
       "version_minor": 0
      },
      "text/plain": [
       "HBox(children=(FloatProgress(value=0.0, max=58.0), HTML(value='')))"
      ]
     },
     "metadata": {},
     "output_type": "display_data"
    },
    {
     "name": "stdout",
     "output_type": "stream",
     "text": [
      "\n"
     ]
    },
    {
     "data": {
      "application/vnd.jupyter.widget-view+json": {
       "model_id": "b5752f48ada3492c9f2fa0965d8e9e0a",
       "version_major": 2,
       "version_minor": 0
      },
      "text/plain": [
       "HBox(children=(FloatProgress(value=0.0, max=50.0), HTML(value='')))"
      ]
     },
     "metadata": {},
     "output_type": "display_data"
    },
    {
     "name": "stdout",
     "output_type": "stream",
     "text": [
      "\n"
     ]
    },
    {
     "data": {
      "application/vnd.jupyter.widget-view+json": {
       "model_id": "c11444a0f1a048798d4e9c845024b6bb",
       "version_major": 2,
       "version_minor": 0
      },
      "text/plain": [
       "HBox(children=(FloatProgress(value=0.0, max=64.0), HTML(value='')))"
      ]
     },
     "metadata": {},
     "output_type": "display_data"
    },
    {
     "name": "stdout",
     "output_type": "stream",
     "text": [
      "\n"
     ]
    },
    {
     "data": {
      "application/vnd.jupyter.widget-view+json": {
       "model_id": "f952058ed2f845a8b7e3c215c52ed04e",
       "version_major": 2,
       "version_minor": 0
      },
      "text/plain": [
       "HBox(children=(FloatProgress(value=0.0, max=16.0), HTML(value='')))"
      ]
     },
     "metadata": {},
     "output_type": "display_data"
    },
    {
     "name": "stdout",
     "output_type": "stream",
     "text": [
      "\n"
     ]
    },
    {
     "data": {
      "application/vnd.jupyter.widget-view+json": {
       "model_id": "5b31bac141af4060b1744ca9a63fa75f",
       "version_major": 2,
       "version_minor": 0
      },
      "text/plain": [
       "HBox(children=(FloatProgress(value=0.0, max=45.0), HTML(value='')))"
      ]
     },
     "metadata": {},
     "output_type": "display_data"
    },
    {
     "name": "stdout",
     "output_type": "stream",
     "text": [
      "\n"
     ]
    },
    {
     "data": {
      "application/vnd.jupyter.widget-view+json": {
       "model_id": "3e17dd0a8fd1449dba77ca235d8e76d6",
       "version_major": 2,
       "version_minor": 0
      },
      "text/plain": [
       "HBox(children=(FloatProgress(value=0.0, max=6.0), HTML(value='')))"
      ]
     },
     "metadata": {},
     "output_type": "display_data"
    },
    {
     "name": "stdout",
     "output_type": "stream",
     "text": [
      "\n"
     ]
    },
    {
     "data": {
      "application/vnd.jupyter.widget-view+json": {
       "model_id": "c1483965ceb64f419f4585db7dca36fd",
       "version_major": 2,
       "version_minor": 0
      },
      "text/plain": [
       "HBox(children=(FloatProgress(value=0.0, max=17.0), HTML(value='')))"
      ]
     },
     "metadata": {},
     "output_type": "display_data"
    },
    {
     "name": "stdout",
     "output_type": "stream",
     "text": [
      "\n"
     ]
    },
    {
     "data": {
      "application/vnd.jupyter.widget-view+json": {
       "model_id": "4be440a9b5604e4b955767a8df45ec95",
       "version_major": 2,
       "version_minor": 0
      },
      "text/plain": [
       "HBox(children=(FloatProgress(value=0.0, max=4.0), HTML(value='')))"
      ]
     },
     "metadata": {},
     "output_type": "display_data"
    },
    {
     "name": "stdout",
     "output_type": "stream",
     "text": [
      "\n"
     ]
    },
    {
     "data": {
      "application/vnd.jupyter.widget-view+json": {
       "model_id": "847f1b365720477ca216a6a551d281b6",
       "version_major": 2,
       "version_minor": 0
      },
      "text/plain": [
       "HBox(children=(FloatProgress(value=0.0, max=2.0), HTML(value='')))"
      ]
     },
     "metadata": {},
     "output_type": "display_data"
    },
    {
     "name": "stdout",
     "output_type": "stream",
     "text": [
      "\n"
     ]
    },
    {
     "data": {
      "application/vnd.jupyter.widget-view+json": {
       "model_id": "021d057b42984b5a96739d613a405562",
       "version_major": 2,
       "version_minor": 0
      },
      "text/plain": [
       "HBox(children=(FloatProgress(value=0.0, max=5.0), HTML(value='')))"
      ]
     },
     "metadata": {},
     "output_type": "display_data"
    },
    {
     "name": "stdout",
     "output_type": "stream",
     "text": [
      "\n"
     ]
    },
    {
     "data": {
      "application/vnd.jupyter.widget-view+json": {
       "model_id": "c103154f27c34907b60ac3e3a72ec5d4",
       "version_major": 2,
       "version_minor": 0
      },
      "text/plain": [
       "HBox(children=(FloatProgress(value=0.0, max=13.0), HTML(value='')))"
      ]
     },
     "metadata": {},
     "output_type": "display_data"
    },
    {
     "name": "stdout",
     "output_type": "stream",
     "text": [
      "\n"
     ]
    },
    {
     "data": {
      "application/vnd.jupyter.widget-view+json": {
       "model_id": "13b2a7b1d75d45c6afde6240206dd7dc",
       "version_major": 2,
       "version_minor": 0
      },
      "text/plain": [
       "HBox(children=(FloatProgress(value=0.0, max=14.0), HTML(value='')))"
      ]
     },
     "metadata": {},
     "output_type": "display_data"
    },
    {
     "name": "stdout",
     "output_type": "stream",
     "text": [
      "\n"
     ]
    },
    {
     "data": {
      "application/vnd.jupyter.widget-view+json": {
       "model_id": "70109569d6b74828bfcc2d0b017d7638",
       "version_major": 2,
       "version_minor": 0
      },
      "text/plain": [
       "HBox(children=(FloatProgress(value=0.0, max=4.0), HTML(value='')))"
      ]
     },
     "metadata": {},
     "output_type": "display_data"
    },
    {
     "name": "stdout",
     "output_type": "stream",
     "text": [
      "\n"
     ]
    },
    {
     "data": {
      "application/vnd.jupyter.widget-view+json": {
       "model_id": "8ad145f517fd4d1c8ebafa172efd6caa",
       "version_major": 2,
       "version_minor": 0
      },
      "text/plain": [
       "HBox(children=(FloatProgress(value=0.0, max=3.0), HTML(value='')))"
      ]
     },
     "metadata": {},
     "output_type": "display_data"
    },
    {
     "name": "stdout",
     "output_type": "stream",
     "text": [
      "\n"
     ]
    },
    {
     "data": {
      "application/vnd.jupyter.widget-view+json": {
       "model_id": "8dcd82c6a9714e26b323eb643b27c9ad",
       "version_major": 2,
       "version_minor": 0
      },
      "text/plain": [
       "HBox(children=(FloatProgress(value=0.0, max=6.0), HTML(value='')))"
      ]
     },
     "metadata": {},
     "output_type": "display_data"
    },
    {
     "name": "stdout",
     "output_type": "stream",
     "text": [
      "\n"
     ]
    },
    {
     "data": {
      "application/vnd.jupyter.widget-view+json": {
       "model_id": "7394ebab96ba4665baa851de2278a5e2",
       "version_major": 2,
       "version_minor": 0
      },
      "text/plain": [
       "HBox(children=(FloatProgress(value=0.0, max=12.0), HTML(value='')))"
      ]
     },
     "metadata": {},
     "output_type": "display_data"
    },
    {
     "name": "stdout",
     "output_type": "stream",
     "text": [
      "\n"
     ]
    },
    {
     "data": {
      "application/vnd.jupyter.widget-view+json": {
       "model_id": "5043df402b4e45a3b7dbec987c3aba7c",
       "version_major": 2,
       "version_minor": 0
      },
      "text/plain": [
       "HBox(children=(FloatProgress(value=0.0, max=21.0), HTML(value='')))"
      ]
     },
     "metadata": {},
     "output_type": "display_data"
    },
    {
     "name": "stdout",
     "output_type": "stream",
     "text": [
      "\n"
     ]
    },
    {
     "data": {
      "application/vnd.jupyter.widget-view+json": {
       "model_id": "fe33273dcccd4982854ed0280860e521",
       "version_major": 2,
       "version_minor": 0
      },
      "text/plain": [
       "HBox(children=(FloatProgress(value=0.0, max=33.0), HTML(value='')))"
      ]
     },
     "metadata": {},
     "output_type": "display_data"
    },
    {
     "name": "stdout",
     "output_type": "stream",
     "text": [
      "\n"
     ]
    },
    {
     "data": {
      "application/vnd.jupyter.widget-view+json": {
       "model_id": "f4bfefee3eb54013944d980ea5812eb4",
       "version_major": 2,
       "version_minor": 0
      },
      "text/plain": [
       "HBox(children=(FloatProgress(value=0.0, max=18.0), HTML(value='')))"
      ]
     },
     "metadata": {},
     "output_type": "display_data"
    },
    {
     "name": "stdout",
     "output_type": "stream",
     "text": [
      "\n"
     ]
    },
    {
     "data": {
      "application/vnd.jupyter.widget-view+json": {
       "model_id": "a845704083d247e9bf4b33e5430681c5",
       "version_major": 2,
       "version_minor": 0
      },
      "text/plain": [
       "HBox(children=(FloatProgress(value=0.0, max=11.0), HTML(value='')))"
      ]
     },
     "metadata": {},
     "output_type": "display_data"
    },
    {
     "name": "stdout",
     "output_type": "stream",
     "text": [
      "\n"
     ]
    },
    {
     "data": {
      "application/vnd.jupyter.widget-view+json": {
       "model_id": "117f3e7d1b114a7e999bc4330c980280",
       "version_major": 2,
       "version_minor": 0
      },
      "text/plain": [
       "HBox(children=(FloatProgress(value=0.0, max=19.0), HTML(value='')))"
      ]
     },
     "metadata": {},
     "output_type": "display_data"
    },
    {
     "name": "stdout",
     "output_type": "stream",
     "text": [
      "\n"
     ]
    },
    {
     "data": {
      "application/vnd.jupyter.widget-view+json": {
       "model_id": "21056ddc84bb465c8a3db39004d0d280",
       "version_major": 2,
       "version_minor": 0
      },
      "text/plain": [
       "HBox(children=(FloatProgress(value=0.0, max=10.0), HTML(value='')))"
      ]
     },
     "metadata": {},
     "output_type": "display_data"
    },
    {
     "name": "stdout",
     "output_type": "stream",
     "text": [
      "\n"
     ]
    },
    {
     "data": {
      "application/vnd.jupyter.widget-view+json": {
       "model_id": "e564ecd2e14e4928a612df49ea27ac29",
       "version_major": 2,
       "version_minor": 0
      },
      "text/plain": [
       "HBox(children=(FloatProgress(value=0.0, max=9.0), HTML(value='')))"
      ]
     },
     "metadata": {},
     "output_type": "display_data"
    },
    {
     "name": "stdout",
     "output_type": "stream",
     "text": [
      "\n"
     ]
    },
    {
     "data": {
      "application/vnd.jupyter.widget-view+json": {
       "model_id": "b738062df41e4617a1c71118e74129c2",
       "version_major": 2,
       "version_minor": 0
      },
      "text/plain": [
       "HBox(children=(FloatProgress(value=0.0, max=12.0), HTML(value='')))"
      ]
     },
     "metadata": {},
     "output_type": "display_data"
    },
    {
     "name": "stdout",
     "output_type": "stream",
     "text": [
      "\n"
     ]
    },
    {
     "data": {
      "application/vnd.jupyter.widget-view+json": {
       "model_id": "a28e39c5d4d64a888350cda66416e20f",
       "version_major": 2,
       "version_minor": 0
      },
      "text/plain": [
       "HBox(children=(FloatProgress(value=0.0, max=18.0), HTML(value='')))"
      ]
     },
     "metadata": {},
     "output_type": "display_data"
    },
    {
     "name": "stdout",
     "output_type": "stream",
     "text": [
      "\n"
     ]
    },
    {
     "data": {
      "application/vnd.jupyter.widget-view+json": {
       "model_id": "ffd32bb3dc744fd496c72f01cf794dff",
       "version_major": 2,
       "version_minor": 0
      },
      "text/plain": [
       "HBox(children=(FloatProgress(value=0.0, max=3.0), HTML(value='')))"
      ]
     },
     "metadata": {},
     "output_type": "display_data"
    },
    {
     "name": "stdout",
     "output_type": "stream",
     "text": [
      "\n"
     ]
    },
    {
     "data": {
      "application/vnd.jupyter.widget-view+json": {
       "model_id": "f96b1bc7111b4698ae61de0a9607350c",
       "version_major": 2,
       "version_minor": 0
      },
      "text/plain": [
       "HBox(children=(FloatProgress(value=0.0, max=26.0), HTML(value='')))"
      ]
     },
     "metadata": {},
     "output_type": "display_data"
    },
    {
     "name": "stdout",
     "output_type": "stream",
     "text": [
      "\n"
     ]
    },
    {
     "data": {
      "application/vnd.jupyter.widget-view+json": {
       "model_id": "d1856a0510b14cde9c042e74b4307b12",
       "version_major": 2,
       "version_minor": 0
      },
      "text/plain": [
       "HBox(children=(FloatProgress(value=0.0, max=28.0), HTML(value='')))"
      ]
     },
     "metadata": {},
     "output_type": "display_data"
    },
    {
     "name": "stdout",
     "output_type": "stream",
     "text": [
      "\n"
     ]
    },
    {
     "data": {
      "application/vnd.jupyter.widget-view+json": {
       "model_id": "d1814fc33b05455da47e40ee147d2fe2",
       "version_major": 2,
       "version_minor": 0
      },
      "text/plain": [
       "HBox(children=(FloatProgress(value=0.0, max=106.0), HTML(value='')))"
      ]
     },
     "metadata": {},
     "output_type": "display_data"
    },
    {
     "name": "stdout",
     "output_type": "stream",
     "text": [
      "\n"
     ]
    },
    {
     "data": {
      "application/vnd.jupyter.widget-view+json": {
       "model_id": "c661d4f2bd4648e4ae285a9ed7d18312",
       "version_major": 2,
       "version_minor": 0
      },
      "text/plain": [
       "HBox(children=(FloatProgress(value=0.0, max=5.0), HTML(value='')))"
      ]
     },
     "metadata": {},
     "output_type": "display_data"
    },
    {
     "name": "stdout",
     "output_type": "stream",
     "text": [
      "\n"
     ]
    },
    {
     "data": {
      "application/vnd.jupyter.widget-view+json": {
       "model_id": "2b87bd8f4b5f4615898fc7683f0d1fe4",
       "version_major": 2,
       "version_minor": 0
      },
      "text/plain": [
       "HBox(children=(FloatProgress(value=0.0, max=86.0), HTML(value='')))"
      ]
     },
     "metadata": {},
     "output_type": "display_data"
    },
    {
     "name": "stdout",
     "output_type": "stream",
     "text": [
      "\n"
     ]
    },
    {
     "data": {
      "application/vnd.jupyter.widget-view+json": {
       "model_id": "31476bb28fa841879b29308124ea6765",
       "version_major": 2,
       "version_minor": 0
      },
      "text/plain": [
       "HBox(children=(FloatProgress(value=0.0, max=15.0), HTML(value='')))"
      ]
     },
     "metadata": {},
     "output_type": "display_data"
    },
    {
     "name": "stdout",
     "output_type": "stream",
     "text": [
      "\n"
     ]
    },
    {
     "data": {
      "application/vnd.jupyter.widget-view+json": {
       "model_id": "4862a5b34d16434797ba115f4d852916",
       "version_major": 2,
       "version_minor": 0
      },
      "text/plain": [
       "HBox(children=(FloatProgress(value=0.0, max=126.0), HTML(value='')))"
      ]
     },
     "metadata": {},
     "output_type": "display_data"
    },
    {
     "name": "stdout",
     "output_type": "stream",
     "text": [
      "\n"
     ]
    },
    {
     "data": {
      "application/vnd.jupyter.widget-view+json": {
       "model_id": "58c15ab605ad45228f01629d2747bad2",
       "version_major": 2,
       "version_minor": 0
      },
      "text/plain": [
       "HBox(children=(FloatProgress(value=0.0, max=22.0), HTML(value='')))"
      ]
     },
     "metadata": {},
     "output_type": "display_data"
    },
    {
     "name": "stdout",
     "output_type": "stream",
     "text": [
      "\n"
     ]
    },
    {
     "data": {
      "application/vnd.jupyter.widget-view+json": {
       "model_id": "beaf79682f1042e1b71dfae1ac8066e5",
       "version_major": 2,
       "version_minor": 0
      },
      "text/plain": [
       "HBox(children=(FloatProgress(value=0.0, max=2.0), HTML(value='')))"
      ]
     },
     "metadata": {},
     "output_type": "display_data"
    },
    {
     "name": "stdout",
     "output_type": "stream",
     "text": [
      "\n"
     ]
    },
    {
     "data": {
      "application/vnd.jupyter.widget-view+json": {
       "model_id": "51d7261c784e4d249a9d325a4fa8b7e0",
       "version_major": 2,
       "version_minor": 0
      },
      "text/plain": [
       "HBox(children=(FloatProgress(value=0.0, max=2.0), HTML(value='')))"
      ]
     },
     "metadata": {},
     "output_type": "display_data"
    },
    {
     "name": "stdout",
     "output_type": "stream",
     "text": [
      "\n"
     ]
    },
    {
     "data": {
      "application/vnd.jupyter.widget-view+json": {
       "model_id": "d76e32b5a5654aeab49c0540318d242a",
       "version_major": 2,
       "version_minor": 0
      },
      "text/plain": [
       "HBox(children=(FloatProgress(value=0.0, max=92.0), HTML(value='')))"
      ]
     },
     "metadata": {},
     "output_type": "display_data"
    },
    {
     "name": "stdout",
     "output_type": "stream",
     "text": [
      "\n"
     ]
    },
    {
     "data": {
      "application/vnd.jupyter.widget-view+json": {
       "model_id": "87dfb8aacd174ca0aed084a8583d1c03",
       "version_major": 2,
       "version_minor": 0
      },
      "text/plain": [
       "HBox(children=(FloatProgress(value=0.0, max=117.0), HTML(value='')))"
      ]
     },
     "metadata": {},
     "output_type": "display_data"
    },
    {
     "name": "stdout",
     "output_type": "stream",
     "text": [
      "\n"
     ]
    },
    {
     "data": {
      "application/vnd.jupyter.widget-view+json": {
       "model_id": "cf0bb84d6d6a4f92a0ffef5048afdb1a",
       "version_major": 2,
       "version_minor": 0
      },
      "text/plain": [
       "HBox(children=(FloatProgress(value=0.0, max=2.0), HTML(value='')))"
      ]
     },
     "metadata": {},
     "output_type": "display_data"
    },
    {
     "name": "stdout",
     "output_type": "stream",
     "text": [
      "\n"
     ]
    },
    {
     "data": {
      "application/vnd.jupyter.widget-view+json": {
       "model_id": "cf8d2bee1e944f84a97af35bc130694d",
       "version_major": 2,
       "version_minor": 0
      },
      "text/plain": [
       "HBox(children=(FloatProgress(value=0.0, max=2.0), HTML(value='')))"
      ]
     },
     "metadata": {},
     "output_type": "display_data"
    },
    {
     "name": "stdout",
     "output_type": "stream",
     "text": [
      "\n"
     ]
    },
    {
     "data": {
      "application/vnd.jupyter.widget-view+json": {
       "model_id": "36b447c9d305466ca8e3f2ddcc2bad3d",
       "version_major": 2,
       "version_minor": 0
      },
      "text/plain": [
       "HBox(children=(FloatProgress(value=0.0, max=8.0), HTML(value='')))"
      ]
     },
     "metadata": {},
     "output_type": "display_data"
    },
    {
     "name": "stdout",
     "output_type": "stream",
     "text": [
      "\n"
     ]
    },
    {
     "data": {
      "application/vnd.jupyter.widget-view+json": {
       "model_id": "c8855c09f5f3492b9f4476c9d12cfdb0",
       "version_major": 2,
       "version_minor": 0
      },
      "text/plain": [
       "HBox(children=(FloatProgress(value=0.0, max=16.0), HTML(value='')))"
      ]
     },
     "metadata": {},
     "output_type": "display_data"
    },
    {
     "name": "stdout",
     "output_type": "stream",
     "text": [
      "\n"
     ]
    },
    {
     "data": {
      "application/vnd.jupyter.widget-view+json": {
       "model_id": "8f0bd553d266469c9785b73b71fc9bfc",
       "version_major": 2,
       "version_minor": 0
      },
      "text/plain": [
       "HBox(children=(FloatProgress(value=0.0, max=124.0), HTML(value='')))"
      ]
     },
     "metadata": {},
     "output_type": "display_data"
    },
    {
     "name": "stdout",
     "output_type": "stream",
     "text": [
      "\n"
     ]
    },
    {
     "data": {
      "application/vnd.jupyter.widget-view+json": {
       "model_id": "26c8245d9c41488b9b4a654bb5bd9149",
       "version_major": 2,
       "version_minor": 0
      },
      "text/plain": [
       "HBox(children=(FloatProgress(value=0.0, max=36.0), HTML(value='')))"
      ]
     },
     "metadata": {},
     "output_type": "display_data"
    },
    {
     "name": "stdout",
     "output_type": "stream",
     "text": [
      "\n"
     ]
    },
    {
     "data": {
      "application/vnd.jupyter.widget-view+json": {
       "model_id": "cf3dba49a0f34d6092d47c1070392064",
       "version_major": 2,
       "version_minor": 0
      },
      "text/plain": [
       "HBox(children=(FloatProgress(value=0.0, max=89.0), HTML(value='')))"
      ]
     },
     "metadata": {},
     "output_type": "display_data"
    },
    {
     "name": "stdout",
     "output_type": "stream",
     "text": [
      "\n"
     ]
    },
    {
     "data": {
      "application/vnd.jupyter.widget-view+json": {
       "model_id": "826f5b62c3314c75b8754389a2e196d0",
       "version_major": 2,
       "version_minor": 0
      },
      "text/plain": [
       "HBox(children=(FloatProgress(value=0.0, max=39.0), HTML(value='')))"
      ]
     },
     "metadata": {},
     "output_type": "display_data"
    },
    {
     "name": "stdout",
     "output_type": "stream",
     "text": [
      "\n"
     ]
    },
    {
     "data": {
      "application/vnd.jupyter.widget-view+json": {
       "model_id": "9d4f7311dbef404495d3b48a06bc1d9d",
       "version_major": 2,
       "version_minor": 0
      },
      "text/plain": [
       "HBox(children=(FloatProgress(value=0.0, max=70.0), HTML(value='')))"
      ]
     },
     "metadata": {},
     "output_type": "display_data"
    },
    {
     "name": "stdout",
     "output_type": "stream",
     "text": [
      "\n"
     ]
    },
    {
     "data": {
      "application/vnd.jupyter.widget-view+json": {
       "model_id": "87005f46b08049669282aefb69e23ced",
       "version_major": 2,
       "version_minor": 0
      },
      "text/plain": [
       "HBox(children=(FloatProgress(value=0.0, max=26.0), HTML(value='')))"
      ]
     },
     "metadata": {},
     "output_type": "display_data"
    },
    {
     "name": "stdout",
     "output_type": "stream",
     "text": [
      "\n"
     ]
    },
    {
     "data": {
      "application/vnd.jupyter.widget-view+json": {
       "model_id": "96ede9214e034fd990545045e9d94c89",
       "version_major": 2,
       "version_minor": 0
      },
      "text/plain": [
       "HBox(children=(FloatProgress(value=0.0, max=58.0), HTML(value='')))"
      ]
     },
     "metadata": {},
     "output_type": "display_data"
    },
    {
     "name": "stdout",
     "output_type": "stream",
     "text": [
      "\n"
     ]
    },
    {
     "data": {
      "application/vnd.jupyter.widget-view+json": {
       "model_id": "00985f633818411887dfed69d2e68047",
       "version_major": 2,
       "version_minor": 0
      },
      "text/plain": [
       "HBox(children=(FloatProgress(value=0.0, max=29.0), HTML(value='')))"
      ]
     },
     "metadata": {},
     "output_type": "display_data"
    },
    {
     "name": "stdout",
     "output_type": "stream",
     "text": [
      "\n"
     ]
    },
    {
     "data": {
      "application/vnd.jupyter.widget-view+json": {
       "model_id": "6905ac9252eb4ed793dc369ab77a53f0",
       "version_major": 2,
       "version_minor": 0
      },
      "text/plain": [
       "HBox(children=(FloatProgress(value=0.0, max=1.0), HTML(value='')))"
      ]
     },
     "metadata": {},
     "output_type": "display_data"
    },
    {
     "name": "stdout",
     "output_type": "stream",
     "text": [
      "\n",
      "There was only one mesh found from the spine process and mesh split, returning empty array\n"
     ]
    },
    {
     "data": {
      "application/vnd.jupyter.widget-view+json": {
       "model_id": "ba62cba55a9e4e17829b3d9e5da134bc",
       "version_major": 2,
       "version_minor": 0
      },
      "text/plain": [
       "HBox(children=(FloatProgress(value=0.0, max=11.0), HTML(value='')))"
      ]
     },
     "metadata": {},
     "output_type": "display_data"
    },
    {
     "name": "stdout",
     "output_type": "stream",
     "text": [
      "\n"
     ]
    },
    {
     "data": {
      "application/vnd.jupyter.widget-view+json": {
       "model_id": "4fe6f705d3d54fbb976850c48bf77364",
       "version_major": 2,
       "version_minor": 0
      },
      "text/plain": [
       "HBox(children=(FloatProgress(value=0.0, max=11.0), HTML(value='')))"
      ]
     },
     "metadata": {},
     "output_type": "display_data"
    },
    {
     "name": "stdout",
     "output_type": "stream",
     "text": [
      "\n"
     ]
    },
    {
     "data": {
      "application/vnd.jupyter.widget-view+json": {
       "model_id": "3ee0c6e22ead42799597f1740c9dfdc0",
       "version_major": 2,
       "version_minor": 0
      },
      "text/plain": [
       "HBox(children=(FloatProgress(value=0.0, max=4.0), HTML(value='')))"
      ]
     },
     "metadata": {},
     "output_type": "display_data"
    },
    {
     "name": "stdout",
     "output_type": "stream",
     "text": [
      "\n"
     ]
    },
    {
     "data": {
      "application/vnd.jupyter.widget-view+json": {
       "model_id": "292599936bd64303ad4518519eeae796",
       "version_major": 2,
       "version_minor": 0
      },
      "text/plain": [
       "HBox(children=(FloatProgress(value=0.0, max=22.0), HTML(value='')))"
      ]
     },
     "metadata": {},
     "output_type": "display_data"
    },
    {
     "name": "stdout",
     "output_type": "stream",
     "text": [
      "\n"
     ]
    },
    {
     "data": {
      "application/vnd.jupyter.widget-view+json": {
       "model_id": "aa95c8d0d33c4224b44bc0286ba17c4b",
       "version_major": 2,
       "version_minor": 0
      },
      "text/plain": [
       "HBox(children=(FloatProgress(value=0.0, max=62.0), HTML(value='')))"
      ]
     },
     "metadata": {},
     "output_type": "display_data"
    },
    {
     "name": "stdout",
     "output_type": "stream",
     "text": [
      "\n"
     ]
    },
    {
     "data": {
      "application/vnd.jupyter.widget-view+json": {
       "model_id": "64e843c8344941e5b872f96394602e5a",
       "version_major": 2,
       "version_minor": 0
      },
      "text/plain": [
       "HBox(children=(FloatProgress(value=0.0, max=2.0), HTML(value='')))"
      ]
     },
     "metadata": {},
     "output_type": "display_data"
    },
    {
     "name": "stdout",
     "output_type": "stream",
     "text": [
      "\n"
     ]
    },
    {
     "data": {
      "application/vnd.jupyter.widget-view+json": {
       "model_id": "bd9f04fc91294cd791608f7408e73d87",
       "version_major": 2,
       "version_minor": 0
      },
      "text/plain": [
       "HBox(children=(FloatProgress(value=0.0, max=38.0), HTML(value='')))"
      ]
     },
     "metadata": {},
     "output_type": "display_data"
    },
    {
     "name": "stdout",
     "output_type": "stream",
     "text": [
      "\n"
     ]
    },
    {
     "data": {
      "application/vnd.jupyter.widget-view+json": {
       "model_id": "afb6b74e5d43470c959557fa8aeddd9e",
       "version_major": 2,
       "version_minor": 0
      },
      "text/plain": [
       "HBox(children=(FloatProgress(value=0.0, max=2.0), HTML(value='')))"
      ]
     },
     "metadata": {},
     "output_type": "display_data"
    },
    {
     "name": "stdout",
     "output_type": "stream",
     "text": [
      "\n"
     ]
    },
    {
     "data": {
      "application/vnd.jupyter.widget-view+json": {
       "model_id": "068fa5b076d24f499c5b07f67e060c32",
       "version_major": 2,
       "version_minor": 0
      },
      "text/plain": [
       "HBox(children=(FloatProgress(value=0.0, max=3.0), HTML(value='')))"
      ]
     },
     "metadata": {},
     "output_type": "display_data"
    },
    {
     "name": "stdout",
     "output_type": "stream",
     "text": [
      "\n"
     ]
    },
    {
     "data": {
      "application/vnd.jupyter.widget-view+json": {
       "model_id": "2cfa29bb4eb14e68a99ec9248c5fb719",
       "version_major": 2,
       "version_minor": 0
      },
      "text/plain": [
       "HBox(children=(FloatProgress(value=0.0, max=71.0), HTML(value='')))"
      ]
     },
     "metadata": {},
     "output_type": "display_data"
    },
    {
     "name": "stdout",
     "output_type": "stream",
     "text": [
      "\n"
     ]
    },
    {
     "data": {
      "application/vnd.jupyter.widget-view+json": {
       "model_id": "dae72ab80956416c9e570f7b2f5f2a52",
       "version_major": 2,
       "version_minor": 0
      },
      "text/plain": [
       "HBox(children=(FloatProgress(value=0.0, max=15.0), HTML(value='')))"
      ]
     },
     "metadata": {},
     "output_type": "display_data"
    },
    {
     "name": "stdout",
     "output_type": "stream",
     "text": [
      "\n"
     ]
    },
    {
     "data": {
      "application/vnd.jupyter.widget-view+json": {
       "model_id": "52c1459c585b4af5a26253d1d7193085",
       "version_major": 2,
       "version_minor": 0
      },
      "text/plain": [
       "HBox(children=(FloatProgress(value=0.0, max=4.0), HTML(value='')))"
      ]
     },
     "metadata": {},
     "output_type": "display_data"
    },
    {
     "name": "stdout",
     "output_type": "stream",
     "text": [
      "\n"
     ]
    },
    {
     "data": {
      "application/vnd.jupyter.widget-view+json": {
       "model_id": "b5749f4bafd2426fa014d781665f6959",
       "version_major": 2,
       "version_minor": 0
      },
      "text/plain": [
       "HBox(children=(FloatProgress(value=0.0, max=84.0), HTML(value='')))"
      ]
     },
     "metadata": {},
     "output_type": "display_data"
    },
    {
     "name": "stdout",
     "output_type": "stream",
     "text": [
      "\n"
     ]
    },
    {
     "data": {
      "application/vnd.jupyter.widget-view+json": {
       "model_id": "bff325d121f34693aca9327262a2ca08",
       "version_major": 2,
       "version_minor": 0
      },
      "text/plain": [
       "HBox(children=(FloatProgress(value=0.0, max=77.0), HTML(value='')))"
      ]
     },
     "metadata": {},
     "output_type": "display_data"
    },
    {
     "name": "stdout",
     "output_type": "stream",
     "text": [
      "\n"
     ]
    },
    {
     "data": {
      "application/vnd.jupyter.widget-view+json": {
       "model_id": "f21d50b9753445b0bf594d53b5b02d50",
       "version_major": 2,
       "version_minor": 0
      },
      "text/plain": [
       "HBox(children=(FloatProgress(value=0.0, max=112.0), HTML(value='')))"
      ]
     },
     "metadata": {},
     "output_type": "display_data"
    },
    {
     "name": "stdout",
     "output_type": "stream",
     "text": [
      "\n"
     ]
    },
    {
     "data": {
      "application/vnd.jupyter.widget-view+json": {
       "model_id": "a1c63431e88c45f79fb79c796e6a28a0",
       "version_major": 2,
       "version_minor": 0
      },
      "text/plain": [
       "HBox(children=(FloatProgress(value=0.0, max=6.0), HTML(value='')))"
      ]
     },
     "metadata": {},
     "output_type": "display_data"
    },
    {
     "name": "stdout",
     "output_type": "stream",
     "text": [
      "\n"
     ]
    },
    {
     "data": {
      "application/vnd.jupyter.widget-view+json": {
       "model_id": "f30f137be4d743e7aedb785c0f036b8e",
       "version_major": 2,
       "version_minor": 0
      },
      "text/plain": [
       "HBox(children=(FloatProgress(value=0.0, max=109.0), HTML(value='')))"
      ]
     },
     "metadata": {},
     "output_type": "display_data"
    },
    {
     "name": "stdout",
     "output_type": "stream",
     "text": [
      "\n"
     ]
    },
    {
     "data": {
      "application/vnd.jupyter.widget-view+json": {
       "model_id": "af8ef51cd37a4f92b7ff112255b1fe34",
       "version_major": 2,
       "version_minor": 0
      },
      "text/plain": [
       "HBox(children=(FloatProgress(value=0.0, max=111.0), HTML(value='')))"
      ]
     },
     "metadata": {},
     "output_type": "display_data"
    },
    {
     "name": "stdout",
     "output_type": "stream",
     "text": [
      "\n"
     ]
    },
    {
     "data": {
      "application/vnd.jupyter.widget-view+json": {
       "model_id": "15cbd2f6f8184bd18dc962ad2ba496b5",
       "version_major": 2,
       "version_minor": 0
      },
      "text/plain": [
       "HBox(children=(FloatProgress(value=0.0, max=6.0), HTML(value='')))"
      ]
     },
     "metadata": {},
     "output_type": "display_data"
    },
    {
     "name": "stdout",
     "output_type": "stream",
     "text": [
      "\n",
      "Working on limb L0 branch 7\n",
      "No spines and using precomputed width\n",
      "Working on limb L0 branch 8\n",
      "Working on limb L0 branch 17\n",
      "No spines and using precomputed width\n",
      "Working on limb L0 branch 20\n",
      "Working on limb L0 branch 48\n",
      "Working on limb L0 branch 9\n",
      "Working on limb L0 branch 21\n",
      "Working on limb L0 branch 19\n",
      "Working on limb L0 branch 45\n",
      "Working on limb L0 branch 23\n",
      "Working on limb L0 branch 57\n",
      "Working on limb L0 branch 5\n",
      "Working on limb L0 branch 55\n",
      "Working on limb L0 branch 36\n",
      "Working on limb L0 branch 37\n",
      "Working on limb L0 branch 44\n",
      "No spines and using precomputed width\n",
      "Working on limb L0 branch 46\n",
      "Working on limb L0 branch 3\n",
      "Working on limb L0 branch 11\n",
      "Working on limb L0 branch 12\n",
      "Working on limb L0 branch 2\n",
      "Working on limb L0 branch 4\n",
      "No spines and using precomputed width\n",
      "Working on limb L0 branch 43\n",
      "Working on limb L0 branch 47\n",
      "Working on limb L0 branch 14\n",
      "Working on limb L0 branch 16\n",
      "No spines and using precomputed width\n",
      "Working on limb L0 branch 0\n",
      "Working on limb L0 branch 1\n",
      "No spines and using precomputed width\n",
      "Working on limb L0 branch 26\n",
      "No spines and using precomputed width\n",
      "Working on limb L0 branch 28\n",
      "Working on limb L0 branch 13\n",
      "Working on limb L0 branch 18\n",
      "Working on limb L0 branch 25\n",
      "No spines and using precomputed width\n",
      "Working on limb L0 branch 27\n",
      "Working on limb L0 branch 59\n",
      "Working on limb L0 branch 61\n",
      "Working on limb L0 branch 10\n",
      "Working on limb L0 branch 15\n",
      "Working on limb L0 branch 6\n",
      "No spines and using precomputed width\n",
      "Working on limb L0 branch 32\n",
      "Working on limb L0 branch 35\n",
      "Working on limb L0 branch 24\n",
      "No spines and using precomputed width\n",
      "Working on limb L0 branch 41\n",
      "Working on limb L0 branch 42\n",
      "Working on limb L0 branch 58\n",
      "No spines and using precomputed width\n",
      "Working on limb L0 branch 60\n",
      "No spines and using precomputed width\n",
      "Working on limb L0 branch 39\n",
      "Working on limb L0 branch 40\n",
      "No spines and using precomputed width\n",
      "Working on limb L0 branch 22\n",
      "Working on limb L0 branch 56\n",
      "Working on limb L0 branch 33\n",
      "Working on limb L0 branch 34\n",
      "No spines and using precomputed width\n",
      "Working on limb L0 branch 31\n",
      "Working on limb L0 branch 38\n",
      "No spines and using precomputed width\n",
      "Working on limb L0 branch 50\n",
      "No spines and using precomputed width\n",
      "Working on limb L0 branch 52\n",
      "Working on limb L0 branch 29\n",
      "Working on limb L0 branch 30\n",
      "No spines and using precomputed width\n",
      "Working on limb L0 branch 49\n",
      "No spines and using precomputed width\n",
      "Working on limb L0 branch 53\n",
      "No spines and using precomputed width\n",
      "Working on limb L0 branch 51\n",
      "No spines and using precomputed width\n",
      "Working on limb L0 branch 54\n",
      "Working on limb L1 branch 9\n",
      "Working on limb L1 branch 6\n",
      "No spines and using precomputed width\n",
      "Working on limb L1 branch 10\n",
      "Working on limb L1 branch 4\n",
      "Working on limb L1 branch 7\n",
      "No spines and using precomputed width\n",
      "Working on limb L1 branch 13\n",
      "Working on limb L1 branch 44\n",
      "No spines and using precomputed width\n",
      "Working on limb L1 branch 45\n",
      "No spines and using precomputed width\n",
      "Working on limb L1 branch 0\n",
      "No spines and using precomputed width\n",
      "Working on limb L1 branch 2\n",
      "No spines and using precomputed width\n",
      "Working on limb L1 branch 12\n",
      "Working on limb L1 branch 50\n",
      "Working on limb L1 branch 24\n",
      "Working on limb L1 branch 39\n",
      "No spines and using precomputed width\n",
      "Working on limb L1 branch 1\n",
      "No spines and using precomputed width\n",
      "Working on limb L1 branch 3\n",
      "No spines and using precomputed width\n",
      "Working on limb L1 branch 5\n",
      "Working on limb L1 branch 8\n",
      "Working on limb L1 branch 14\n",
      "No spines and using precomputed width\n",
      "Working on limb L1 branch 15\n",
      "Working on limb L1 branch 37\n",
      "Working on limb L1 branch 38\n",
      "No spines and using precomputed width\n",
      "Working on limb L1 branch 11\n",
      "Working on limb L1 branch 32\n",
      "No spines and using precomputed width\n",
      "Working on limb L1 branch 16\n",
      "Working on limb L1 branch 17\n",
      "Working on limb L1 branch 26\n",
      "Working on limb L1 branch 42\n",
      "No spines and using precomputed width\n",
      "Working on limb L1 branch 43\n",
      "No spines and using precomputed width\n",
      "Working on limb L1 branch 31\n",
      "No spines and using precomputed width\n",
      "Working on limb L1 branch 34\n",
      "No spines and using precomputed width\n",
      "Working on limb L1 branch 46\n",
      "Working on limb L1 branch 47\n",
      "Working on limb L1 branch 18\n",
      "Working on limb L1 branch 19\n",
      "Working on limb L1 branch 25\n",
      "No spines and using precomputed width\n",
      "Working on limb L1 branch 27\n",
      "No spines and using precomputed width\n",
      "Working on limb L1 branch 30\n",
      "No spines and using precomputed width\n",
      "Working on limb L1 branch 33\n",
      "No spines and using precomputed width\n",
      "Working on limb L1 branch 48\n",
      "Working on limb L1 branch 49\n",
      "Working on limb L1 branch 20\n",
      "Working on limb L1 branch 21\n",
      "Working on limb L1 branch 29\n",
      "No spines and using precomputed width\n",
      "Working on limb L1 branch 36\n",
      "No spines and using precomputed width\n",
      "Working on limb L1 branch 40\n",
      "Working on limb L1 branch 41\n",
      "Working on limb L1 branch 22\n",
      "Working on limb L1 branch 23\n",
      "Working on limb L1 branch 28\n",
      "No spines and using precomputed width\n",
      "Working on limb L1 branch 35\n",
      "No spines and using precomputed width\n",
      "Working on limb L1 branch 51\n",
      "No spines and using precomputed width\n",
      "Working on limb L3 branch 8\n",
      "Working on limb L3 branch 6\n",
      "Working on limb L3 branch 7\n",
      "No spines and using precomputed width\n",
      "Working on limb L3 branch 1\n",
      "No spines and using precomputed width\n",
      "Working on limb L3 branch 5\n",
      "Working on limb L3 branch 2\n",
      "Working on limb L3 branch 4\n",
      "Working on limb L3 branch 3\n",
      "Working on limb L3 branch 9\n",
      "Working on limb L3 branch 0\n",
      "Working on limb L3 branch 10\n",
      "Working on limb L4 branch 0\n",
      "Working on limb L4 branch 1\n",
      "No spines and using precomputed width\n",
      "Working on limb L4 branch 2\n",
      "Working on limb L4 branch 3\n",
      "Working on limb L4 branch 9\n",
      "Working on limb L4 branch 4\n",
      "Working on limb L4 branch 11\n",
      "Working on limb L4 branch 6\n",
      "Working on limb L4 branch 8\n",
      "Working on limb L4 branch 10\n",
      "Working on limb L4 branch 5\n",
      "No spines and using precomputed width\n",
      "Working on limb L4 branch 7\n",
      "No spines and using precomputed width\n",
      "Working on limb L5 branch 12\n",
      "No spines and using precomputed width\n",
      "Working on limb L5 branch 8\n",
      "Working on limb L5 branch 13\n",
      "Working on limb L5 branch 5\n",
      "Working on limb L5 branch 9\n",
      "No spines and using precomputed width\n",
      "Working on limb L5 branch 11\n",
      "Working on limb L5 branch 14\n",
      "Working on limb L5 branch 1\n",
      "Working on limb L5 branch 4\n",
      "No spines and using precomputed width\n",
      "Working on limb L5 branch 7\n",
      "Working on limb L5 branch 10\n",
      "No spines and using precomputed width\n",
      "Working on limb L5 branch 3\n",
      "Working on limb L5 branch 6\n",
      "Working on limb L5 branch 0\n",
      "Working on limb L5 branch 2\n",
      "No spines and using precomputed width\n",
      "Working on limb L6 branch 1\n",
      "Working on limb L6 branch 0\n",
      "Working on limb L6 branch 5\n",
      "Working on limb L6 branch 2\n",
      "Working on limb L6 branch 3\n",
      "Working on limb L6 branch 4\n",
      "No spines and using precomputed width\n",
      "Working on limb L7 branch 0\n",
      "Working on limb L7 branch 1\n",
      "Working on limb L7 branch 2\n",
      "Working on limb L8 branch 2\n",
      "Working on limb L8 branch 1\n",
      "No spines and using precomputed width\n",
      "Working on limb L8 branch 3\n",
      "No spines and using precomputed width\n",
      "Working on limb L8 branch 0\n",
      "No spines and using precomputed width\n",
      "Working on limb L8 branch 4\n",
      "No spines and using precomputed width\n",
      "Working on limb L2 branch 5\n",
      "Working on limb L2 branch 9\n",
      "No spines and using precomputed width\n",
      "Working on limb L2 branch 17\n",
      "No spines and using precomputed width\n",
      "Working on limb L2 branch 4\n",
      "Working on limb L2 branch 6\n",
      "Working on limb L2 branch 16\n",
      "No spines and using precomputed width\n",
      "Working on limb L2 branch 19\n",
      "No spines and using precomputed width\n",
      "Working on limb L2 branch 0\n",
      "Working on limb L2 branch 3\n",
      "No spines and using precomputed width\n",
      "Working on limb L2 branch 11\n",
      "Working on limb L2 branch 32\n",
      "Working on limb L2 branch 18\n",
      "No spines and using precomputed width\n",
      "Working on limb L2 branch 20\n",
      "No spines and using precomputed width\n",
      "Working on limb L2 branch 23\n",
      "Working on limb L2 branch 24\n",
      "Working on limb L2 branch 2\n",
      "Working on limb L2 branch 10\n",
      "Working on limb L2 branch 7\n",
      "Working on limb L2 branch 8\n",
      "Working on limb L2 branch 27\n",
      "Working on limb L2 branch 28\n",
      "No spines and using precomputed width\n",
      "Working on limb L2 branch 1\n",
      "Working on limb L2 branch 31\n",
      "Working on limb L2 branch 14\n",
      "Working on limb L2 branch 15\n",
      "No spines and using precomputed width\n",
      "Working on limb L2 branch 12\n",
      "Working on limb L2 branch 13\n",
      "Working on limb L2 branch 26\n",
      "Working on limb L2 branch 29\n",
      "No spines and using precomputed width\n",
      "Working on limb L2 branch 21\n"
     ]
    },
    {
     "name": "stdout",
     "output_type": "stream",
     "text": [
      "Working on limb L2 branch 22\n",
      "Working on limb L2 branch 25\n",
      "Working on limb L2 branch 30\n",
      "No spines and using precomputed width\n",
      "Total time for neuron instance creation = 610.5701010227203\n"
     ]
    }
   ],
   "source": [
    "preprocessed_data= dict(\n",
    "    soma_meshes = current_mesh_data[0][\"soma_meshes\"],\n",
    "    soma_to_piece_connectivity = current_mesh_data[0][\"soma_to_piece_connectivity\"],\n",
    "    soma_sdfs = total_soma_list_sdf,\n",
    "    insignificant_limbs=insignificant_limbs,\n",
    "    non_soma_touching_meshes=non_soma_touching_meshes,\n",
    "    inside_pieces=inside_pieces,\n",
    "    limb_correspondence=limb_correspondence_with_floating_pieces,\n",
    "    limb_concept_networks=limb_concept_networks,\n",
    "    limb_network_stating_info=limb_network_stating_info,\n",
    "    limb_labels=limb_labels,\n",
    "    limb_meshes=current_mesh_data[0][\"branch_meshes\"],\n",
    "    )\n",
    "neuron_obj = neuron.Neuron(\n",
    "                mesh=current_neuron,\n",
    "                 segment_id=segment_id,\n",
    "                 description=description,\n",
    "                 preprocessed_data=preprocessed_data,\n",
    "#                  decomposition_type=\"meshafterparty\",\n",
    "#                  mesh_correspondence=\"meshparty\", #meshafterparty_adaptive\n",
    "#                  distance_by_mesh_center=True, #how the distance is calculated for mesh correspondence\n",
    "#                  meshparty_segment_size = 0,\n",
    "#                  meshparty_n_surface_downsampling = 0,\n",
    "#                  meshparty_adaptive_correspondence_after_creation=False,\n",
    "#                 suppress_preprocessing_print=True,\n",
    "#                  computed_attribute_dict=None,\n",
    "#                  somas = None,\n",
    "#                  branch_skeleton_data=None,\n",
    "#                  combine_close_skeleton_nodes = True,\n",
    "#                 combine_close_skeleton_nodes_threshold=700,\n",
    "\n",
    "\n",
    "                ignore_warnings=True,\n",
    "                suppress_output=False,\n",
    "                calculate_spines=True,\n",
    "                widths_to_calculate=[\"no_spine_median_mesh_center\"]\n",
    "                )"
   ]
  },
  {
   "cell_type": "code",
   "execution_count": 14,
   "metadata": {},
   "outputs": [
    {
     "name": "stdout",
     "output_type": "stream",
     "text": [
      "\n",
      " Working on visualization type: mesh\n",
      "\n",
      " Working on visualization type: skeleton\n",
      "working on soma border vertices\n",
      "Working on  new stand alone scatter points\n"
     ]
    },
    {
     "data": {
      "application/vnd.jupyter.widget-view+json": {
       "model_id": "f38f1c2badab4f4fb08f6e6efa8f5518",
       "version_major": 2,
       "version_minor": 0
      },
      "text/plain": [
       "VBox(children=(Figure(camera=PerspectiveCamera(fov=46.0, position=(0.0, 0.0, 2.0), quaternion=(0.0, 0.0, 0.0, …"
      ]
     },
     "metadata": {},
     "output_type": "display_data"
    }
   ],
   "source": [
    "nviz.visualize_neuron(neuron_obj,\n",
    "                      visualize_type=[\"mesh\",\"skeleton\"],\n",
    "                     limb_branch_dict=\"all\")"
   ]
  },
  {
   "cell_type": "markdown",
   "metadata": {},
   "source": [
    "# Debugging the Limb"
   ]
  },
  {
   "cell_type": "code",
   "execution_count": null,
   "metadata": {},
   "outputs": [],
   "source": [
    "from preprocessing_vp2 import *\n",
    "sk = reload(sk)\n",
    "pre=reload(pre)\n",
    "xu = reload(xu)\n",
    "\n",
    "\n",
    "\n",
    "#Arguments to pass to the specific function (when working with a limb)\n",
    "soma_touching_vertices_dict = piece_to_soma_touching_vertices[curr_limb_idx]\n",
    "curr_limb_idx = 1\n",
    "mesh=current_mesh_data[0][\"branch_meshes\"][curr_limb_idx]\n",
    "\n",
    "\n",
    "\n",
    "distance_by_mesh_center=True #how the distance is calculated for mesh correspondence\n",
    "meshparty_segment_size = 100\n",
    "meshparty_n_surface_downsampling = 2\n",
    "combine_close_skeleton_nodes=True\n",
    "combine_close_skeleton_nodes_threshold=700\n",
    "filter_end_node_length=1500\n",
    "use_meshafterparty=True\n",
    "perform_cleaning_checks = True\n",
    "\n",
    "#for controlling the pieces processed by MAP\n",
    "width_threshold_MAP = 450\n",
    "size_threshold_MAP = 1000\n",
    "\n",
    "#parameters for MP skeletonization,\n",
    "\n",
    "#Parameters for setting how the MAP skeletonization takes place\n",
    "use_surface_after_CGAL=False\n",
    "surface_reconstruction_size = 500\n",
    "\n",
    "#parametrers for stitching the MAP and MP pieces together\n",
    "move_MAP_stitch_to_end_or_branch = True\n",
    "distance_to_move_point_threshold=500\n",
    "\n",
    "#concept_network parameters\n",
    "run_concept_network_checks = True\n",
    "return_concept_network = True\n",
    "return_concept_network_starting_info=False\n",
    "\n",
    "#printing controls\n",
    "verbose = True\n",
    "print_fusion_steps=True\n",
    "\n",
    "\n",
    "#arguments\n",
    "return_concept_network = False\n",
    "return_concept_network_starting_info=True\n",
    "width_threshold_MAP=500\n",
    "size_threshold_MAP=2000\n",
    "surface_reconstruction_size=1000\n",
    "                    \n",
    "                   \n",
    "    \n",
    "curr_limb_time = time.time()\n",
    "    \n",
    "limb_mesh_mparty = mesh\n",
    "\n",
    "\n",
    "#will store a list of all the endpoints tha tmust be kept:\n",
    "limb_to_endpoints_must_keep_list = []\n",
    "limb_to_soma_touching_vertices_list = []\n",
    "\n",
    "# --------------- Part 1 and 2: Getting Border Vertices and Setting the Root------------- #\n",
    "fusion_time = time.time()\n",
    "#will eventually get the current root from soma_to_piece_touching_vertices[i]\n",
    "if not soma_touching_vertices_dict is None:\n",
    "    root_curr = soma_touching_vertices_dict[list(soma_touching_vertices_dict.keys())[0]][0][0]\n",
    "else:\n",
    "    root_curr = None\n",
    "\n",
    "if print_fusion_steps:\n",
    "    print(f\"Time for preparing soma vertices and root: {time.time() - fusion_time }\")\n",
    "    fusion_time = time.time()\n",
    "\n",
    "# --------------- Part 3: Meshparty skeletonization and Decomposition ------------- #\n",
    "sk_meshparty_obj = m_sk.skeletonize_mesh_largest_component(limb_mesh_mparty,\n",
    "                                                        root=root_curr,\n",
    "                                                          filter_mesh=False)\n",
    "\n",
    "if print_fusion_steps:\n",
    "    print(f\"Time for 1st pass MP skeletonization: {time.time() - fusion_time }\")\n",
    "    fusion_time = time.time()\n",
    "\n",
    "(segment_branches, #skeleton branches\n",
    "divided_submeshes, divided_submeshes_idx, #mesh correspondence (mesh and indices)\n",
    "segment_widths_median) = m_sk.skeleton_obj_to_branches(sk_meshparty_obj,\n",
    "                                                      mesh = limb_mesh_mparty,\n",
    "                                                      meshparty_segment_size=meshparty_segment_size)\n",
    "\n",
    "\n",
    "\n",
    "\n",
    "if print_fusion_steps:\n",
    "    print(f\"Decomposing first pass: {time.time() - fusion_time }\")\n",
    "    fusion_time = time.time()\n",
    "\n",
    "\n",
    "if use_meshafterparty:\n",
    "    print(\"Attempting to use MeshAfterParty Skeletonization and Mesh Correspondence\")\n",
    "    # --------------- Part 4: Find Individual Branches that could be MAP processed because of width ------------- #\n",
    "    #gettin the branches that should be passed through MAP skeletonization\n",
    "    pieces_above_threshold = np.where(segment_widths_median>width_threshold_MAP)[0]\n",
    "\n",
    "    #getting the correspondnece info for those MAP qualifying\n",
    "    width_large = segment_widths_median[pieces_above_threshold]\n",
    "    sk_large = [segment_branches[k] for k in pieces_above_threshold]\n",
    "    mesh_large_idx = [divided_submeshes_idx[k] for k in pieces_above_threshold]\n",
    "else:\n",
    "    print(\"Only Using MeshParty Skeletonization and Mesh Correspondence\")\n",
    "    mesh_large_idx = []\n",
    "    width_large = []\n",
    "    sk_large = []\n",
    "\n",
    "\n",
    "print(\"Another print\")\n",
    "mesh_pieces_for_MAP = []\n",
    "mesh_pieces_for_MAP_face_idx = []\n",
    "\n",
    "\n",
    "if len(mesh_large_idx) > 0: #will only continue processing if found MAP candidates\n",
    "\n",
    "    # --------------- Part 5: Find mesh connectivity and group MAP branch candidates into MAP sublimbs ------------- #\n",
    "    print(f\"Found len(mesh_large_idx) MAP candidates: {[len(k) for k in mesh_large_idx]}\")\n",
    "\n",
    "    #finds the connectivity edges of all the MAP candidates\n",
    "    mesh_large_connectivity = tu.mesh_list_connectivity(meshes = mesh_large_idx,\n",
    "                            main_mesh = limb_mesh_mparty,\n",
    "                            print_flag = False)\n",
    "    if print_fusion_steps:\n",
    "        print(f\"mesh_large_connectivity: {time.time() - fusion_time }\")\n",
    "        fusion_time = time.time()\n",
    "    \"\"\"\n",
    "    --------------- Grouping MAP candidates ----------------\n",
    "    Purpose: Will see what mesh pieces should be grouped together\n",
    "    to pass through CGAL skeletonization\n",
    "\n",
    "\n",
    "    Pseudocode: \n",
    "    1) build a networkx graph with all nodes for mesh_large_idx indexes\n",
    "    2) Add the edges\n",
    "    3) Find the connected components\n",
    "    4) Find sizes of connected components\n",
    "    5) For all those connected components that are of a large enough size, \n",
    "    add the mesh branches and skeletons to the final list\n",
    "\n",
    "\n",
    "    \"\"\"\n",
    "    G = nx.Graph()\n",
    "    G.add_nodes_from(np.arange(len(mesh_large_idx)))\n",
    "    G.add_edges_from(mesh_large_connectivity)\n",
    "    conn_comp = list(nx.connected_components(G))\n",
    "\n",
    "    filtered_pieces = []\n",
    "\n",
    "    sk_large_size_filt = []\n",
    "    mesh_large_idx_size_filt = []\n",
    "    width_large_size_filt = []\n",
    "\n",
    "    for cc in conn_comp:\n",
    "        total_cc_size = np.sum([len(mesh_large_idx[k]) for k in cc])\n",
    "        if total_cc_size>size_threshold_MAP:\n",
    "            #print(f\"cc ({cc}) passed the size threshold because size was {total_cc_size}\")\n",
    "            filtered_pieces.append(pieces_above_threshold[list(cc)])\n",
    "\n",
    "    if print_fusion_steps:\n",
    "        print(f\"Finding MAP candidates connected components: {time.time() - fusion_time }\")\n",
    "        fusion_time = time.time()\n",
    "\n",
    "    #filtered_pieces: will have the indexes of all the branch candidates that should  be \n",
    "    #grouped together and passed through MAP skeletonization\n",
    "\n",
    "    if len(filtered_pieces) > 0:\n",
    "        # --------------- Part 6: If Found MAP sublimbs, Get the meshes and mesh_idxs of the sublimbs ------------- #\n",
    "        print(f\"len(filtered_pieces) = {len(filtered_pieces)}\")\n",
    "        #all the pieces that will require MAP mesh correspondence and skeletonization\n",
    "        #(already organized into their components)\n",
    "        mesh_pieces_for_MAP = [limb_mesh_mparty.submesh([np.concatenate(divided_submeshes_idx[k])],append=True,repair=False) for k in filtered_pieces]\n",
    "        mesh_pieces_for_MAP_face_idx = [np.concatenate(divided_submeshes_idx[k]) for k in filtered_pieces]\n",
    "\n",
    "\n",
    "\n",
    "        \"\"\"\n",
    "        Old Way: Finding connectivity of pieces through\n",
    "        mesh_idx_MP = [divided_submeshes_idx[k] for k in pieces_idx_MP]\n",
    "\n",
    "        mesh_large_connectivity_MP = tu.mesh_list_connectivity(meshes = mesh_idx_MP,\n",
    "                                main_mesh = limb_mesh_mparty,\n",
    "                                print_flag = False)\n",
    "\n",
    "        New Way: going to use skeleton connectivity to determine\n",
    "        connectivity of pieces\n",
    "\n",
    "        Pseudocode: \n",
    "        1)\n",
    "\n",
    "        \"\"\"\n",
    "        # --------------- Part 7: If Found MAP sublimbs, Get the meshes and mesh_idxs of the sublimbs ------------- #\n",
    "        # ********* if there are no pieces leftover then will automatically make all the lists below just empty (don't need to if.. else.. the case)****\n",
    "        pieces_idx_MP = np.setdiff1d(np.arange(len(divided_submeshes_idx)),np.concatenate(filtered_pieces))\n",
    "\n",
    "        skeleton_MP = [segment_branches[k] for k in pieces_idx_MP]\n",
    "        skeleton_connectivity_MP = sk.skeleton_list_connectivity(\n",
    "                                        skeletons=skeleton_MP\n",
    "                                        )\n",
    "        if print_fusion_steps:\n",
    "            print(f\"skeleton_connectivity_MP : {time.time() - fusion_time }\")\n",
    "            fusion_time = time.time()\n",
    "\n",
    "        G = nx.Graph()\n",
    "        G.add_nodes_from(np.arange(len(skeleton_MP)))\n",
    "        G.add_edges_from(skeleton_connectivity_MP)\n",
    "        sublimbs_MP = list(nx.connected_components(G))\n",
    "        sublimbs_MP_orig_idx = [pieces_idx_MP[list(k)] for k in sublimbs_MP]\n",
    "\n",
    "\n",
    "        #concatenate into sublimbs the skeletons and meshes\n",
    "        sublimb_mesh_idx_branches_MP = [divided_submeshes_idx[k] for k in sublimbs_MP_orig_idx]\n",
    "        sublimb_mesh_branches_MP = [[limb_mesh_mparty.submesh([ki],append=True,repair=False)\n",
    "                                    for ki in k] for k in sublimb_mesh_idx_branches_MP]\n",
    "        sublimb_meshes_MP = [limb_mesh_mparty.submesh([np.concatenate(k)],append=True,repair=False)\n",
    "                                                     for k in sublimb_mesh_idx_branches_MP]\n",
    "        sublimb_meshes_MP_face_idx = [np.concatenate(k)\n",
    "                                                     for k in sublimb_mesh_idx_branches_MP]\n",
    "        sublimb_skeleton_branches = [segment_branches[k] for k in sublimbs_MP_orig_idx]\n",
    "        widths_MP = [segment_widths_median[k] for k in sublimbs_MP_orig_idx]\n",
    "\n",
    "        if print_fusion_steps:\n",
    "            print(f\"Grouping MP Sublimbs by Graph: {time.time() - fusion_time }\")\n",
    "            fusion_time = time.time()\n",
    "\n",
    "\n",
    "# else: #if no pieces were determine to need MAP processing\n",
    "#     print(\"No MAP processing needed: just returning the Meshparty skeletonization and mesh correspondence\")\n",
    "#     raise Exception(\"Returning MP correspondence\")\n",
    "\n",
    "\n",
    "# nviz.plot_objects(main_mesh=tu.combine_meshes([limb_mesh_mparty,current_neuron[\"S0\"].mesh]),\n",
    "#                   main_mesh_color=\"green\",\n",
    "#     skeletons=sk_large_size_filt,\n",
    "#      meshes=[limb_mesh_mparty.submesh([k],append=True) for k in mesh_large_idx_size_filt],\n",
    "#       meshes_colors=\"red\")\n",
    "\n",
    "\n",
    "\n",
    "\n",
    "\n",
    "\n",
    "\n",
    "\n",
    "# --------------- Part 8: If No MAP sublimbs found, set the MP sublimb lists to just the whole MP branch decomposition ------------- #\n",
    "\n",
    "#if no sublimbs need to be decomposed with MAP then just reassign all of the previous MP processing to the sublimb_MPs\n",
    "if len(mesh_pieces_for_MAP) == 0:\n",
    "    sublimb_meshes_MP = [limb_mesh_mparty] #trimesh pieces that have already been passed through MP skeletonization (may not need)\n",
    "    # -- the decomposition information ---\n",
    "    sublimb_mesh_branches_MP = [divided_submeshes] #the mesh branches for all the disconnected sublimbs\n",
    "    sublimb_mesh_idx_branches_MP = [divided_submeshes_idx] #The mesh branches idx that have already passed through MP skeletonization\n",
    "    sublimb_skeleton_branches = [segment_branches]#the skeleton bnraches for all the sublimbs\n",
    "    widths_MP = [segment_widths_median] #the mesh branches widths for all the disconnected groups\n",
    "\n",
    "    MAP_flag = False\n",
    "else:\n",
    "    MAP_flag = True\n",
    "\n",
    "\n",
    "\n",
    "mesh_pieces_for_MAP #trimesh pieces that should go through CGAL skeletonization\n",
    "sublimb_meshes_MP #trimesh pieces that have already been passed through MP skeletonization (may not need)\n",
    "\n",
    "# -- the decomposition information ---\n",
    "sublimb_mesh_branches_MP #the mesh branches for all the disconnected sublimbs\n",
    "sublimb_mesh_idx_branches_MP #The mesh branches idx that have already passed through MP skeletonization\n",
    "sublimb_skeleton_branches #the skeleton bnraches for all the sublimbs\n",
    "widths_MP #the mesh branches widths for all the disconnected groups\n",
    "\n",
    "if print_fusion_steps:\n",
    "    print(f\"Divinding into MP and MAP pieces: {time.time() - fusion_time }\")\n",
    "    fusion_time = time.time()\n",
    "\n",
    "\n",
    "\n",
    "# ------------------- At this point have the correct division between MAP and MP ------------------------\n",
    "\n",
    "# -------------- Part 9: Doing the MAP decomposition ------------------ #\n",
    "global_start_time = time.time()\n",
    "endpoints_must_keep = dict()\n",
    "\n",
    "\n",
    "\n",
    "limb_correspondence_MAP = dict()\n",
    "\n",
    "for sublimb_idx,(mesh,mesh_idx) in enumerate(zip(mesh_pieces_for_MAP,mesh_pieces_for_MAP_face_idx)):\n",
    "    print(f\"--- Working on MAP piece {sublimb_idx}---\")\n",
    "    mesh_start_time = time.time()\n",
    "    curr_soma_to_piece_touching_vertices = filter_soma_touching_vertices_dict_by_mesh(\n",
    "    mesh = mesh,\n",
    "    curr_piece_to_soma_touching_vertices = soma_touching_vertices_dict\n",
    "    )\n",
    "\n",
    "    if print_fusion_steps:\n",
    "        print(f\"MAP Filtering Soma Pieces: {time.time() - fusion_time }\")\n",
    "        fusion_time = time.time()\n",
    "\n",
    "    # ---- 0) Generating the Clean skeletons  -------------------------------------------#\n",
    "    if not curr_soma_to_piece_touching_vertices is None:\n",
    "        curr_total_border_vertices = dict([(k,np.vstack(v)) for k,v in curr_soma_to_piece_touching_vertices.items()])\n",
    "    else:\n",
    "        curr_total_border_vertices = None\n",
    "\n",
    "\n",
    "    cleaned_branch,curr_limb_endpoints_must_keep = sk.skeletonize_and_clean_connected_branch_CGAL(\n",
    "        mesh=mesh,\n",
    "        curr_soma_to_piece_touching_vertices=curr_soma_to_piece_touching_vertices,\n",
    "        total_border_vertices=curr_total_border_vertices,\n",
    "        filter_end_node_length=filter_end_node_length,\n",
    "        perform_cleaning_checks=perform_cleaning_checks,\n",
    "        combine_close_skeleton_nodes = combine_close_skeleton_nodes,\n",
    "        combine_close_skeleton_nodes_threshold=combine_close_skeleton_nodes_threshold,\n",
    "    use_surface_after_CGAL=use_surface_after_CGAL,\n",
    "    surface_reconstruction_size=surface_reconstruction_size)\n",
    "\n",
    "    if not curr_limb_endpoints_must_keep is None:\n",
    "        limb_to_endpoints_must_keep_list.append(curr_limb_endpoints_must_keep)\n",
    "        limb_to_soma_touching_vertices_list.append(curr_soma_to_piece_touching_vertices)\n",
    "    else:\n",
    "        print(\"Inside MAP decomposition and curr_limb_endpoints_must_keep was None\")\n",
    "\n",
    "    if len(cleaned_branch) == 0:\n",
    "        raise Exception(f\"Found a zero length skeleton for limb {z} of trmesh {branch}\")\n",
    "\n",
    "    if print_fusion_steps:\n",
    "        print(f\"skeletonize_and_clean_connected_branch_CGAL: {time.time() - fusion_time }\")\n",
    "        fusion_time = time.time()\n",
    "\n",
    "    # ---- 1) Generating Initial Mesh Correspondence -------------------------------------------#\n",
    "    start_time = time.time()\n",
    "\n",
    "    print(f\"Working on limb correspondence for #{sublimb_idx} MAP piece\")\n",
    "    local_correspondence = mesh_correspondence_first_pass(mesh=mesh,\n",
    "                                                         skeleton=cleaned_branch,\n",
    "                                                         distance_by_mesh_center=distance_by_mesh_center)\n",
    "\n",
    "\n",
    "    print(f\"Total time for decomposition = {time.time() - start_time}\")\n",
    "    if print_fusion_steps:\n",
    "        print(f\"mesh_correspondence_first_pass: {time.time() - fusion_time }\")\n",
    "        fusion_time = time.time()\n",
    "\n",
    "\n",
    "    #------------- 2) Doing Some checks on the initial corespondence -------- #\n",
    "\n",
    "\n",
    "    if perform_cleaning_checks:\n",
    "        check_skeletonization_and_decomp(skeleton=cleaned_branch,\n",
    "                                        local_correspondence=local_correspondence)\n",
    "\n",
    "    # -------3) Finishing off the face correspondence so get 1-to-1 correspondence of mesh face to skeletal piece\n",
    "    local_correspondence_revised = correspondence_1_to_1(mesh=mesh,\n",
    "                                    local_correspondence=local_correspondence,\n",
    "                                    curr_limb_endpoints_must_keep=curr_limb_endpoints_must_keep,\n",
    "                                    curr_soma_to_piece_touching_vertices=curr_soma_to_piece_touching_vertices)\n",
    "\n",
    "    # -------3b) Fixing the mesh indices to correspond to the larger mesh as a whole\n",
    "    for k,v in local_correspondence_revised.items():\n",
    "        local_correspondence_revised[k][\"branch_face_idx\"] = mesh_idx[local_correspondence_revised[k][\"branch_face_idx\"]]\n",
    "\n",
    "    print(f\"Total time for MAP sublimb #{sublimb_idx} mesh processing = {time.time() - mesh_start_time}\")\n",
    "\n",
    "    if print_fusion_steps:\n",
    "        print(f\"correspondence_1_to_1: {time.time() - fusion_time }\")\n",
    "        fusion_time = time.time()\n",
    "\n",
    "    limb_correspondence_MAP[sublimb_idx] = local_correspondence_revised\n",
    "\n",
    "print(f\"Total time for MAP sublimb processing {time.time() - global_start_time}\")\n",
    "\n",
    "\n",
    "\n",
    "\n",
    "\n",
    "# ----------------- Part 10: Doing the MP Decomposition ---------------------- #\n",
    "\n",
    "\n",
    "\n",
    "\n",
    "sublimb_meshes_MP #trimesh pieces that have already been passed through MP skeletonization (may not need)\n",
    "# -- the decomposition information ---\n",
    "sublimb_mesh_branches_MP #the mesh branches for all the disconnected sublimbs\n",
    "sublimb_mesh_idx_branches_MP #The mesh branches idx that have already passed through MP skeletonization\n",
    "sublimb_skeleton_branches #the skeleton bnraches for all the sublimbs\n",
    "widths_MP #the mesh branches widths for all the disconnected groups\n",
    "\n",
    "limb_correspondence_MP = dict()\n",
    "\n",
    "for sublimb_idx,mesh in enumerate(sublimb_meshes_MP):\n",
    "    print(f\"---- Working on MP Decomposition #{sublimb_idx} ----\")\n",
    "    mesh_start_time = time.time()\n",
    "\n",
    "    if len(sublimb_meshes_MP) == 1 and MAP_flag == False:\n",
    "        print(\"Using Quicker soma_to_piece_touching_vertices because no MAP and only one sublimb_mesh piece \")\n",
    "        curr_soma_to_piece_touching_vertices = soma_touching_vertices_dict\n",
    "    else:\n",
    "        if not soma_touching_vertices_dict is None:\n",
    "            print(\"Computing the current soma touching verts dict manually\")\n",
    "            curr_soma_to_piece_touching_vertices = filter_soma_touching_vertices_dict_by_mesh(\n",
    "                                                mesh = mesh,\n",
    "                                                curr_piece_to_soma_touching_vertices = soma_touching_vertices_dict\n",
    "                                                )\n",
    "        else:\n",
    "            curr_soma_to_piece_touching_vertices = None\n",
    "\n",
    "    if print_fusion_steps:\n",
    "        print(f\"MP filtering soma verts: {time.time() - fusion_time }\")\n",
    "        fusion_time = time.time()\n",
    "\n",
    "    #creating all of the sublimb groups\n",
    "    segment_branches = np.array(sublimb_skeleton_branches[sublimb_idx])\n",
    "    whole_sk_MP = sk.stack_skeletons(segment_branches)\n",
    "    branch = mesh\n",
    "    divided_submeshes = np.array(sublimb_mesh_branches_MP[sublimb_idx])\n",
    "    divided_submeshes_idx = sublimb_mesh_idx_branches_MP[sublimb_idx]\n",
    "    segment_widths_median = widths_MP[sublimb_idx]\n",
    "\n",
    "\n",
    "    if curr_soma_to_piece_touching_vertices is None:\n",
    "        print(f\"Do Not Need to Fix MP Decomposition {sublimb_idx} so just continuing\")\n",
    "\n",
    "    else:\n",
    "        \n",
    "        # ------- 11/9 addition: Fixing error where creating soma touching branch on mesh that doesn't touch border ------------------- #\n",
    "        print(f\"Fixing Possible Soma Extension Branch for Sublimb {sublimb_idx}\")\n",
    "        no_soma_extension_add = True \n",
    "        \n",
    "        endpts_total = dict()\n",
    "        curr_soma_to_piece_touching_vertices_total = dict()\n",
    "        for sm_idx,sm_bord_verts_list in curr_soma_to_piece_touching_vertices.items():\n",
    "            #will be used for later\n",
    "            endpts_total[sm_idx] = []\n",
    "            curr_soma_to_piece_touching_vertices_total[sm_idx] = []\n",
    "            \n",
    "            for sm_bord_verts in sm_bord_verts_list:\n",
    "                #1) Get the mesh pieces that are touching the border\n",
    "                matching_mesh_idx = tu.filter_meshes_by_containing_coordinates(mesh_list=divided_submeshes,\n",
    "                                           nullifying_points=sm_bord_verts,\n",
    "                                            filter_away=False,\n",
    "                                           distance_threshold=0,\n",
    "                                           return_indices=True)\n",
    "                #2) concatenate all meshes and skeletons that are touching\n",
    "                if len(matching_mesh_idx) <= 0:\n",
    "                    raise Exception(\"None of branches were touching the border vertices when fixing MP pieces\")\n",
    "                \n",
    "                touch_mesh = tu.combine_meshes(divided_submeshes[matching_mesh_idx])\n",
    "                touch_sk = sk.stack_skeletons(segment_branches[matching_mesh_idx])\n",
    "                \n",
    "                local_curr_soma_to_piece_touching_vertices = {sm_idx:[sm_bord_verts]}\n",
    "                new_sk,endpts,new_branch_info = sk.create_soma_extending_branches(current_skeleton=touch_sk,\n",
    "                                      skeleton_mesh=touch_mesh,\n",
    "                                      soma_to_piece_touching_vertices=local_curr_soma_to_piece_touching_vertices,\n",
    "                                      return_endpoints_must_keep=True,\n",
    "                                      return_created_branch_info=True,\n",
    "                                      check_connected_skeleton=False)\n",
    "                \n",
    "                #3) Add the info to the new running lists\n",
    "                endpts_total[sm_idx].append(endpts[sm_idx][0])\n",
    "                curr_soma_to_piece_touching_vertices_total[sm_idx].append(sm_bord_verts)\n",
    "                \n",
    "                \n",
    "                #4) Skip if no new branch was added\n",
    "                br_info = new_branch_info[sm_idx][0]\n",
    "                if br_info is None:\n",
    "                    print(\"The new branch info was none so skipping \\n\")\n",
    "                    continue\n",
    "                    \n",
    "                #4 If new branch was made then \n",
    "                no_soma_extension_add=False\n",
    "\n",
    "                #1) Get the newly added branch (and the original vertex which is the first row)\n",
    "                br_new,sm_bord_verts = br_info[\"new_branch\"],br_info[\"border_verts\"] #this will hold the new branch and the border vertices corresponding to it\n",
    "\n",
    "                curr_soma_to_piece_touching_vertices_MP = {sm_idx:[sm_bord_verts]}\n",
    "                endpoints_must_keep_MP = {sm_idx:[br_new[0][1]]}\n",
    "\n",
    "\n",
    "                orig_vertex = br_new[0][0]\n",
    "                print(f\"orig_vertex = {orig_vertex}\")\n",
    "\n",
    "                #2) Find the branches that have that coordinate (could be multiple)\n",
    "                match_sk_branches = sk.find_branch_skeleton_with_specific_coordinate(segment_branches,\n",
    "                    current_coordinate=orig_vertex)\n",
    "\n",
    "                print(f\"match_sk_branches = {match_sk_branches}\")\n",
    "\n",
    "\n",
    "\n",
    "                \"\"\" ******************* THIS NEEDS TO BE FIXED WITH THE SAME METHOD OF STITCHING ********************  \"\"\"\n",
    "                \"\"\"\n",
    "                Pseudocode:\n",
    "                1) Find if branch point will require split or not\n",
    "                2) If does require split then split the skeleton\n",
    "                3) Gather mesh pieces for correspondence and the skeletons\n",
    "                4) Run the mesh correspondence\n",
    "                - this case calculate the new widths after run \n",
    "                5) Replace the old branch parts with the new ones\n",
    "\n",
    "\n",
    "\n",
    "                \"\"\"\n",
    "\n",
    "                stitch_point_on_end_or_branch = find_if_stitch_point_on_end_or_branch(\n",
    "                                                        matched_branches_skeletons= segment_branches[match_sk_branches],\n",
    "                                                         stitch_coordinate=orig_vertex,\n",
    "                                                          verbose=False)\n",
    "\n",
    "\n",
    "                if not stitch_point_on_end_or_branch:\n",
    "                    matching_branch_sk = sk.cut_skeleton_at_coordinate(skeleton=segment_branches[match_sk_branches][0],\n",
    "                                                                      cut_coordinate = orig_vertex)\n",
    "                else:\n",
    "                    matching_branch_sk = segment_branches[match_sk_branches]\n",
    "\n",
    "\n",
    "                #3) Find the mesh and skeleton of the winning branch\n",
    "                matching_branch_meshes = np.array(divided_submeshes)[match_sk_branches]\n",
    "                matching_branch_mesh_idx = np.array(divided_submeshes_idx)[match_sk_branches]\n",
    "                extend_soma_mesh_idx = np.concatenate(matching_branch_mesh_idx)\n",
    "                extend_soma_mesh = limb_mesh_mparty.submesh([extend_soma_mesh_idx ],append=True,repair=False)\n",
    "\n",
    "                #4) Add newly created branch to skeleton and divide the skeleton into branches (could make 2 or 3)\n",
    "                #extended_skeleton_to_soma = sk.stack_skeletons([list(matching_branch_sk),br_new])\n",
    "\n",
    "                sk.check_skeleton_connected_component(sk.stack_skeletons(list(matching_branch_sk) + [br_new]))\n",
    "\n",
    "                #5) Run Adaptive mesh correspondnece using branches and mesh\n",
    "                local_correspondnece_MP = mesh_correspondence_first_pass(mesh=extend_soma_mesh,\n",
    "                                                                         skeleton_branches = list(matching_branch_sk) + [br_new]\n",
    "                                              #skeleton=extended_skeleton_to_soma\n",
    "                                                                        )\n",
    "\n",
    "                # GETTING MESHES THAT ARE NOT FULLY CONNECTED!!\n",
    "                local_correspondence_revised = correspondence_1_to_1(mesh=extend_soma_mesh,\n",
    "                                                            local_correspondence=local_correspondnece_MP,\n",
    "                                                            curr_limb_endpoints_must_keep=endpoints_must_keep_MP,\n",
    "                                                            curr_soma_to_piece_touching_vertices=curr_soma_to_piece_touching_vertices_MP)\n",
    "\n",
    "                # All the things that should be revised:\n",
    "            #     segment_branches, #skeleton branches\n",
    "            #     divided_submeshes, divided_submeshes_idx, #mesh correspondence (mesh and indices)\n",
    "            #     segment_widths_median\n",
    "\n",
    "\n",
    "                new_submeshes = [k[\"branch_mesh\"] for k in local_correspondence_revised.values()]\n",
    "                new_submeshes_idx = [extend_soma_mesh_idx[k[\"branch_face_idx\"]] for k in local_correspondence_revised.values()]\n",
    "                new_skeletal_branches = [k[\"branch_skeleton\"] for k in local_correspondence_revised.values()]\n",
    "\n",
    "                #calculate the new width\n",
    "                ray_inter = tu.ray_pyembree.RayMeshIntersector(limb_mesh_mparty)\n",
    "                new_widths = []\n",
    "                for new_s_idx in new_submeshes_idx:\n",
    "                    curr_ray_distance = tu.ray_trace_distance(mesh=limb_mesh_mparty, \n",
    "                                        face_inds=new_s_idx,\n",
    "                                       ray_inter=ray_inter)\n",
    "                    curr_width_median = np.median(curr_ray_distance[curr_ray_distance!=0])\n",
    "                    print(f\"curr_width_median = {curr_width_median}\")\n",
    "                    if (not np.isnan(curr_width_median)) and (curr_width_median > 0):\n",
    "                        new_widths.append(curr_width_median)\n",
    "                    else:\n",
    "                        print(f\"USING A DEFAULT WIDTH BECAUSE THE NEWLY COMPUTED ONE WAS {curr_width_median}: {segment_widths_median[match_sk_branches[0]]}\")\n",
    "                        new_widths.append(segment_widths_median[match_sk_branches[0]])\n",
    "\n",
    "\n",
    "                #6) Remove the original branch and mesh correspondence and replace with the multiples\n",
    "#                     print(f\"match_sk_branches BEFORE = {match_sk_branches}\")\n",
    "#                     print(f\"segment_branches BEFORE = {segment_branches}\")\n",
    "#                     print(f\"len(new_skeletal_branches) = {len(new_skeletal_branches)}\")\n",
    "#                     print(f\"new_skeletal_branches BEFORE= {new_skeletal_branches}\")\n",
    "\n",
    "\n",
    "                #segment_branches = np.delete(segment_branches,match_sk_branches,axis=0)\n",
    "                #segment_branches = np.append(segment_branches,new_skeletal_branches,axis=0)\n",
    "\n",
    "                segment_branches = np.array([k for i,k in enumerate(segment_branches) if i not in match_sk_branches] + new_skeletal_branches)\n",
    "\n",
    "\n",
    "                divided_submeshes = np.delete(divided_submeshes,match_sk_branches,axis=0)\n",
    "                divided_submeshes = np.append(divided_submeshes,new_submeshes,axis=0)\n",
    "\n",
    "\n",
    "                #divided_submeshes_idx = np.delete(divided_submeshes_idx,match_sk_branches,axis=0)\n",
    "                #divided_submeshes_idx = np.append(divided_submeshes_idx,new_submeshes_idx,axis=0)\n",
    "                divided_submeshes_idx = np.array([k for i,k in enumerate(divided_submeshes_idx) if i not in match_sk_branches] + new_submeshes_idx)\n",
    "\n",
    "                segment_widths_median = np.delete(segment_widths_median,match_sk_branches,axis=0)\n",
    "                segment_widths_median = np.append(segment_widths_median,new_widths,axis=0)\n",
    "\n",
    "                try:\n",
    "                    debug = False\n",
    "                    if debug:\n",
    "                        print(f\"segment_branches.shape = {segment_branches.shape}\")\n",
    "                        print(f\"segment_branches = {segment_branches}\")\n",
    "                        print(f\"new_skeletal_branches = {new_skeletal_branches}\")\n",
    "                    sk.check_skeleton_connected_component(sk.stack_skeletons(segment_branches))\n",
    "                except:\n",
    "                    su.compressed_pickle(local_correspondence_revised,\"local_correspondence_revised\")\n",
    "                print(\"checked segment branches after soma add on\")\n",
    "                return_find = sk.find_branch_skeleton_with_specific_coordinate(segment_branches,\n",
    "                                             orig_vertex)\n",
    "\n",
    "\n",
    "\n",
    "                \"\"\" ******************* END OF HOW CAN DO STITCHING ********************  \"\"\"\n",
    "\n",
    "    \n",
    "\n",
    "        limb_to_endpoints_must_keep_list.append(endpts_total)\n",
    "        limb_to_soma_touching_vertices_list.append(curr_soma_to_piece_touching_vertices_total)\n",
    "        \n",
    "        # ------------------- 11/9 addition ------------------- #\n",
    "\n",
    "        if no_soma_extension_add:\n",
    "            print(\"No soma extending branch was added for this sublimb even though it had a soma border (means they already existed)\")\n",
    "\n",
    "        if print_fusion_steps:\n",
    "            print(f\"MP (because soma touching verts) soma extension add: {time.time() - fusion_time }\")\n",
    "            fusion_time = time.time()\n",
    "\n",
    "    #building the limb correspondence\n",
    "    limb_correspondence_MP[sublimb_idx] = dict()\n",
    "\n",
    "    for zz,b_sk in enumerate(segment_branches):\n",
    "        limb_correspondence_MP[sublimb_idx][zz] = dict(\n",
    "            branch_skeleton = b_sk,\n",
    "            width_from_skeleton = segment_widths_median[zz],\n",
    "            branch_mesh = divided_submeshes[zz],\n",
    "            branch_face_idx = divided_submeshes_idx[zz]\n",
    "            )\n",
    "\n",
    "\n",
    "\n",
    "#limb_correspondence_MP_saved = copy.deepcopy(limb_correspondence_MP)\n",
    "#limb_correspondence_MAP_saved = copy.deepcopy(limb_correspondence_MAP)\n",
    "\n",
    "# ------------------------------------- Part C: Will make sure the correspondences can all be stitched together --------------- #\n",
    "\n",
    "# Only want to perform this step if both MP and MAP pieces\n",
    "if len(limb_correspondence_MAP)>0 and len(limb_correspondence_MP)>0:\n",
    "\n",
    "    # -------------- Part 11: Getting Sublimb Mesh and Skeletons and Gets connectivitiy by Mesh -------#\n",
    "    # -------------(filtering connections to only MP to MAP edges)--------------- #\n",
    "\n",
    "    # ---- Doing the mesh connectivity ---------#\n",
    "    sublimb_meshes_MP = []\n",
    "    sublimb_skeletons_MP = []\n",
    "\n",
    "    for sublimb_key,sublimb_v in limb_correspondence_MP.items():\n",
    "        sublimb_meshes_MP.append(tu.combine_meshes([branch_v[\"branch_mesh\"] for branch_v in sublimb_v.values()]))\n",
    "        sublimb_skeletons_MP.append(sk.stack_skeletons([branch_v[\"branch_skeleton\"] for branch_v in sublimb_v.values()]))\n",
    "\n",
    "        \n",
    "        \n",
    "    sublimb_meshes_MAP = []\n",
    "    sublimb_skeletons_MAP = []\n",
    "\n",
    "\n",
    "    for sublimb_key,sublimb_v in limb_correspondence_MAP.items():\n",
    "        sublimb_meshes_MAP.append(tu.combine_meshes([branch_v[\"branch_mesh\"] for branch_v in sublimb_v.values()]))\n",
    "        sublimb_skeletons_MAP.append(sk.stack_skeletons([branch_v[\"branch_skeleton\"] for branch_v in sublimb_v.values()]))\n",
    "\n",
    "    sublimb_skeletons_MP_saved = copy.deepcopy(sublimb_skeletons_MP)\n",
    "    sublimb_skeletons_MAP_saved = copy.deepcopy(sublimb_skeletons_MAP)\n",
    "\n",
    "    mesh_conn,mesh_conn_vertex_groups = tu.mesh_list_connectivity(meshes = sublimb_meshes_MP + sublimb_meshes_MAP,\n",
    "                                        main_mesh = limb_mesh_mparty,\n",
    "                                        min_common_vertices=1,\n",
    "                                        return_vertex_connection_groups=True,\n",
    "                                        return_largest_vertex_connection_group=True,\n",
    "                                        print_flag = False)\n",
    "    mesh_conn_old = copy.deepcopy(mesh_conn)\n",
    "\n",
    "\n",
    "\n",
    "    #check that every MAP piece mapped to a MP piece\n",
    "    mesh_conn_filt = []\n",
    "    mesh_conn_vertex_groups_filt = []\n",
    "    for j,(m1,m2) in enumerate(mesh_conn):\n",
    "        if m1 < len(sublimb_meshes_MP) and m2 >=len(sublimb_meshes_MP):\n",
    "            mesh_conn_filt.append([m1,m2])\n",
    "            mesh_conn_vertex_groups_filt.append(mesh_conn_vertex_groups[j])\n",
    "    mesh_conn_filt = np.array(mesh_conn_filt)\n",
    "\n",
    "    mesh_conn = mesh_conn_filt\n",
    "    mesh_conn_vertex_groups = mesh_conn_vertex_groups_filt\n",
    "\n",
    "    #check that the mapping should create only one connected component\n",
    "    G = nx.from_edgelist(mesh_conn)\n",
    "\n",
    "\n",
    "\n",
    "    try:\n",
    "        if len(G) != len(sublimb_meshes_MP) + len(sublimb_meshes_MAP):\n",
    "            raise Exception(\"Number of nodes in mesh connectivity graph is not equal to number of  MAP and MP sublimbs\")\n",
    "\n",
    "        connect_comp = list(nx.connected_components(G))\n",
    "        if len(connect_comp)>1:\n",
    "            raise Exception(f\"Mesh connectivity was not one component, instead it was ({len(connect_comp)}): {connect_comp} \")\n",
    "    except:\n",
    "        print(f\"mesh_conn_filt = {mesh_conn_filt}\")\n",
    "        print(f\"mesh_conn_old = {mesh_conn_old}\")\n",
    "        mesh_conn_adjusted = np.vstack([mesh_conn[:,0],mesh_conn[:,1]-len(sublimb_meshes_MP)]).T\n",
    "        print(f\"mesh_conn_adjusted = {mesh_conn_adjusted}\")\n",
    "        print(f\"len(sublimb_meshes_MP) = {len(sublimb_meshes_MP)}\")\n",
    "        print(f\"len(sublimb_meshes_MAP) = {len(sublimb_meshes_MAP)}\")\n",
    "        meshes = sublimb_meshes_MP + sublimb_meshes_MAP\n",
    "        #su.compressed_pickle(meshes,\"meshes\")\n",
    "        su.compressed_pickle(sublimb_meshes_MP,\"sublimb_meshes_MP\")\n",
    "        su.compressed_pickle(sublimb_meshes_MAP,\"sublimb_meshes_MAP\")\n",
    "        su.compressed_pickle(limb_mesh_mparty,\"limb_mesh_mparty\")\n",
    "        su.compressed_pickle(sublimb_skeletons_MP,\"sublimb_skeletons_MP\")\n",
    "        su.compressed_pickle(sublimb_skeletons_MAP,\"sublimb_skeletons_MAP\")\n",
    "\n",
    "\n",
    "        raise Exception(\"Something went wrong in the connectivity\")\n",
    "\n",
    "\n",
    "    #adjust the connection indices for MP and MAP indices\n",
    "    mesh_conn_adjusted = np.vstack([mesh_conn[:,0],mesh_conn[:,1]-len(sublimb_meshes_MP)]).T\n",
    "\n",
    "\n",
    "\n",
    "\n",
    "\n",
    "\n",
    "    \"\"\"\n",
    "    Pseudocode:\n",
    "    For each connection edge:\n",
    "        For each vertex connection group:\n",
    "            1) Get the endpoint vertices of the MP skeleton\n",
    "            2) Find the closest endpoint vertex to the vertex connection group (this is MP stitch point)\n",
    "            3) Find the closest skeletal point on MAP pairing (MAP stitch) \n",
    "            4) Find the branches that have that MAP stitch point:\n",
    "            5A) If the number of branches corresponding to stitch point is multipled\n",
    "                --> then we are stitching at a branching oint\n",
    "                i) Just add the skeletal segment from MP_stitch to MAP stitch to the MP skeletal segment\n",
    "                ii) \n",
    "\n",
    "    \"\"\"\n",
    "    \n",
    "\n",
    "\n",
    "    # -------------- STITCHING PHASE -------#\n",
    "    stitch_counter = 0\n",
    "    all_map_stitch_points = []\n",
    "    for (MP_idx,MAP_idx),v_g in zip(mesh_conn_adjusted,mesh_conn_vertex_groups):\n",
    "        print(f\"\\n---- Working on {(MP_idx,MAP_idx)} connection-----\")\n",
    "\n",
    "        \"\"\"\n",
    "        This old way of getting the endpoints was not good because could possibly just need\n",
    "        a stitching done between original branch junction\n",
    "\n",
    "        skeleton_MP_graph = sk.convert_skeleton_to_graph(curr_skeleton_MP)\n",
    "        endpoint_nodes = xu.get_nodes_of_degree_k(skeleton_MP_graph,1)\n",
    "        endpoint_nodes_coordinates = xu.get_node_attributes(skeleton_MP_graph,node_list=endpoint_nodes)\n",
    "        \"\"\"\n",
    "\n",
    "\n",
    "        # -------------- Part 12: Find the MP and MAP stitching point and branches that contain the stitching point-------#\n",
    "\n",
    "        \"\"\"  OLD WAY THAT ALLOWED STITICHING POINTS TO NOT BE CONNECTED AT THE CONNECTING BRANCHES\n",
    "        #getting the skeletons that should be stitched\n",
    "        curr_skeleton_MP = sk.stack_skeletons([branch_v[\"branch_skeleton\"] for branch_v in limb_correspondence_MP[MP_idx].values()])\n",
    "        curr_skeleton_MAP = sk.stack_skeletons([branch_v[\"branch_skeleton\"] for branch_v in limb_correspondence_MAP[MAP_idx].values()])\n",
    "\n",
    "        #1) Get the endpoint vertices of the MP skeleton branches (so every endpoint or high degree node)\n",
    "        #(needs to be inside loop because limb correspondence will change)\n",
    "        curr_MP_branch_skeletons = [limb_correspondence_MP[MP_idx][k][\"branch_skeleton\"] for k in np.sort(list(limb_correspondence_MP[MP_idx].keys()))]\n",
    "        endpoint_nodes_coordinates = np.array([sk.find_branch_endpoints(k) for k in curr_MP_branch_skeletons])\n",
    "        endpoint_nodes_coordinates = np.unique(endpoint_nodes_coordinates.reshape(-1,3),axis=0)\n",
    "\n",
    "        #2) Find the closest endpoint vertex to the vertex connection group (this is MP stitch point)\n",
    "        av_vert = np.mean(v_g,axis=0)\n",
    "        winning_vertex = endpoint_nodes_coordinates[np.argmin(np.linalg.norm(endpoint_nodes_coordinates-av_vert,axis=1))]\n",
    "        print(f\"winning_vertex = {winning_vertex}\")\n",
    "\n",
    "\n",
    "        #2b) Find the branch points where the winning vertex is located\n",
    "        MP_branches_with_stitch_point = sk.find_branch_skeleton_with_specific_coordinate(\n",
    "            divded_skeleton=curr_MP_branch_skeletons,\n",
    "            current_coordinate = winning_vertex\n",
    "        )\n",
    "        print(f\"MP_branches_with_stitch_point = {MP_branches_with_stitch_point}\")\n",
    "\n",
    "\n",
    "        #3) Find the closest skeletal point on MAP pairing (MAP stitch)\n",
    "        MAP_skeleton_coords = np.unique(curr_skeleton_MAP.reshape(-1,3),axis=0)\n",
    "        MAP_stitch_point = MAP_skeleton_coords[np.argmin(np.linalg.norm(MAP_skeleton_coords-winning_vertex,axis=1))]\n",
    "\n",
    "\n",
    "        #3b) Consider if the stitch point is close enough to end or branch node in skeleton:\n",
    "        # and if so then reassign\n",
    "        if move_MAP_stitch_to_end_or_branch:\n",
    "            MAP_stitch_point_new,change_status = sk.move_point_to_nearest_branch_end_point_within_threshold(\n",
    "                                                    skeleton=curr_skeleton_MAP,\n",
    "                                                    coordinate=MAP_stitch_point,\n",
    "                                                    distance_to_move_point_threshold = distance_to_move_point_threshold,\n",
    "                                                    verbose=True\n",
    "\n",
    "                                                    )\n",
    "            MAP_stitch_point=MAP_stitch_point_new\n",
    "\n",
    "\n",
    "        #4) Find the branches that have that MAP stitch point:\n",
    "        curr_MAP_branch_skeletons = [limb_correspondence_MAP[MAP_idx][k][\"branch_skeleton\"]\n",
    "                                         for k in np.sort(list(limb_correspondence_MAP[MAP_idx].keys()))]\n",
    "\n",
    "        MAP_branches_with_stitch_point = sk.find_branch_skeleton_with_specific_coordinate(\n",
    "            divded_skeleton=curr_MAP_branch_skeletons,\n",
    "            current_coordinate = MAP_stitch_point\n",
    "        )\n",
    "\n",
    "\n",
    "\n",
    "        MAP_stitch_point_on_end_or_branch = False\n",
    "        if len(MAP_branches_with_stitch_point)>1:\n",
    "            MAP_stitch_point_on_end_or_branch = True\n",
    "        elif len(MAP_branches_with_stitch_point)==1:\n",
    "            if len(nu.matching_rows(sk.find_branch_endpoints(curr_MAP_branch_skeletons[MAP_branches_with_stitch_point[0]]),\n",
    "                                    MAP_stitch_point))>0:\n",
    "                MAP_stitch_point_on_end_or_branch=True\n",
    "        else:\n",
    "            raise Exception(\"No matching MAP values\")\n",
    "\n",
    "    \"\"\"\n",
    "\n",
    "        #*****should only get branches that are touching....****\n",
    "\n",
    "        #getting the skeletons that should be stitched\n",
    "        curr_skeleton_MP = sk.stack_skeletons([branch_v[\"branch_skeleton\"] for branch_v in limb_correspondence_MP[MP_idx].values()])\n",
    "        curr_skeleton_MAP = sk.stack_skeletons([branch_v[\"branch_skeleton\"] for branch_v in limb_correspondence_MAP[MAP_idx].values()])\n",
    "\n",
    "\n",
    "        av_vert = np.mean(v_g,axis=0)\n",
    "\n",
    "        # ---------------- Doing the MAP part first -------------- #\n",
    "        \"\"\"\n",
    "        The previous way did not ensure that the MAP point found will have a branch mesh that is touching the border vertices\n",
    "\n",
    "        #3) Find the closest skeletal point on MAP pairing (MAP stitch)\n",
    "        MAP_skeleton_coords = np.unique(curr_skeleton_MAP.reshape(-1,3),axis=0)\n",
    "\n",
    "        #this does not guarentee that the MAP branch associated with the MAP stitch point is touching the border group\n",
    "        MAP_stitch_point = MAP_skeleton_coords[np.argmin(np.linalg.norm(MAP_skeleton_coords-av_vert,axis=1))]\n",
    "        \"\"\"\n",
    "\n",
    "        # -------------- 11/9 NEW METHOD FOR FINDING MAP STITCH POINT ------------ #\n",
    "        o_keys = np.sort(list(limb_correspondence_MAP[MAP_idx].keys()))\n",
    "        curr_MAP_branch_meshes = np.array([limb_correspondence_MAP[MAP_idx][k][\"branch_mesh\"]\n",
    "                                         for k in o_keys])\n",
    "        curr_MAP_branch_skeletons = np.array([limb_correspondence_MAP[MAP_idx][k][\"branch_skeleton\"]\n",
    "                                         for k in o_keys])\n",
    "\n",
    "        MAP_pieces_idx_touching_border = tu.filter_meshes_by_containing_coordinates(mesh_list=curr_MAP_branch_meshes,\n",
    "                                       nullifying_points=v_g,\n",
    "                                        filter_away=False,\n",
    "                                       distance_threshold=0,\n",
    "                                       return_indices=True)\n",
    "\n",
    "        MAP_branches_considered = curr_MAP_branch_skeletons[MAP_pieces_idx_touching_border]\n",
    "        curr_skeleton_MAP_for_stitch = sk.stack_skeletons(MAP_branches_considered)\n",
    "\n",
    "        #3) Find the closest skeletal point on MAP pairing (MAP stitch)\n",
    "        MAP_skeleton_coords = np.unique(curr_skeleton_MAP_for_stitch.reshape(-1,3),axis=0)\n",
    "\n",
    "        #this does not guarentee that the MAP branch associated with the MAP stitch point is touching the border group\n",
    "        MAP_stitch_point = MAP_skeleton_coords[np.argmin(np.linalg.norm(MAP_skeleton_coords-av_vert,axis=1))]\n",
    "        \n",
    "        # --------- 11/13: Making so could possibly stitch to another point that was already stitched to\n",
    "        curr_br_endpts = np.array([sk.find_branch_endpoints(k) for k in MAP_branches_considered]).reshape(-1,3)\n",
    "        curr_br_endpts_unique = np.unique(curr_br_endpts,axis=0)\n",
    "        \n",
    "\n",
    "\n",
    "        #3b) Consider if the stitch point is close enough to end or branch node in skeleton:\n",
    "        # and if so then reassign\n",
    "        if move_MAP_stitch_to_end_or_branch:\n",
    "            MAP_stitch_point_new,change_status = sk.move_point_to_nearest_branch_end_point_within_threshold(\n",
    "                                                    skeleton=curr_skeleton_MAP,\n",
    "                                                    coordinate=MAP_stitch_point,\n",
    "                                                    distance_to_move_point_threshold = distance_to_move_point_threshold,\n",
    "                                                    verbose=True,\n",
    "                                                    possible_node_coordinates=curr_br_endpts_unique,\n",
    "                                                    )\n",
    "            MAP_stitch_point=MAP_stitch_point_new\n",
    "\n",
    "\n",
    "        #4) Find the branches that have that MAP stitch point:\n",
    "\n",
    "        MAP_branches_with_stitch_point = sk.find_branch_skeleton_with_specific_coordinate(\n",
    "            divded_skeleton=curr_MAP_branch_skeletons,\n",
    "            current_coordinate = MAP_stitch_point\n",
    "        )\n",
    "\n",
    "\n",
    "\n",
    "        MAP_stitch_point_on_end_or_branch = False\n",
    "        if len(MAP_branches_with_stitch_point)>1:\n",
    "            MAP_stitch_point_on_end_or_branch = True\n",
    "        elif len(MAP_branches_with_stitch_point)==1:\n",
    "            if len(nu.matching_rows(sk.find_branch_endpoints(curr_MAP_branch_skeletons[MAP_branches_with_stitch_point[0]]),\n",
    "                                    MAP_stitch_point))>0:\n",
    "                MAP_stitch_point_on_end_or_branch=True\n",
    "        else:\n",
    "            raise Exception(\"No matching MAP values\")\n",
    "            \n",
    "        #add the map stitch point to the history\n",
    "        all_map_stitch_points.append(MAP_stitch_point)\n",
    "\n",
    "        # ---------------- Doing the MP Part --------------------- #\n",
    "\n",
    "\n",
    "\n",
    "        ord_keys = np.sort(list(limb_correspondence_MP[MP_idx].keys()))\n",
    "        curr_MP_branch_meshes = [limb_correspondence_MP[MP_idx][k][\"branch_mesh\"] for k in ord_keys]\n",
    "\n",
    "\n",
    "\n",
    "        \"\"\" old way of filtering MP pieces just to those touching the MAP, but just want the ones touching the connection group\n",
    "\n",
    "        MAP_meshes_with_stitch_point = tu.combine_meshes([limb_correspondence_MAP[MAP_idx][k][\"branch_mesh\"] for k in MAP_branches_with_stitch_point])\n",
    "\n",
    "        conn = tu.mesh_pieces_connectivity(main_mesh=limb_mesh_mparty,\n",
    "                                   central_piece=MAP_meshes_with_stitch_point,\n",
    "                                   periphery_pieces=curr_MP_branch_meshes)\n",
    "        \"\"\"\n",
    "        # 11/9 Addition: New way that filters meshes by their touching of the vertex connection group (this could possibly be an empty group)\n",
    "        conn = tu.filter_meshes_by_containing_coordinates(mesh_list=curr_MP_branch_meshes,\n",
    "                                       nullifying_points=v_g,\n",
    "                                        filter_away=False,\n",
    "                                       distance_threshold=0,\n",
    "                                       return_indices=True)\n",
    "\n",
    "        if len(conn) == 0:\n",
    "            print(\"Connectivity was 0 for the MP mesh groups touching the vertex group so not restricting by that anymore\")\n",
    "            conn = np.arange(0,len(curr_MP_branch_meshes))\n",
    "        \n",
    "        print(f\"conn = {conn}\")\n",
    "\n",
    "\n",
    "        #1) Get the endpoint vertices of the MP skeleton branches (so every endpoint or high degree node)\n",
    "        #(needs to be inside loop because limb correspondence will change)\n",
    "        curr_MP_branch_skeletons = [limb_correspondence_MP[MP_idx][k][\"branch_skeleton\"] for k in conn]\n",
    "        endpoint_nodes_coordinates = np.array([sk.find_branch_endpoints(k) for k in curr_MP_branch_skeletons])\n",
    "        endpoint_nodes_coordinates = np.unique(endpoint_nodes_coordinates.reshape(-1,3),axis=0)\n",
    "\n",
    "\n",
    "        #2) Find the closest endpoint vertex to the vertex connection group (this is MP stitch point)\n",
    "\n",
    "        winning_vertex = endpoint_nodes_coordinates[np.argmin(np.linalg.norm(endpoint_nodes_coordinates-av_vert,axis=1))]\n",
    "        print(f\"winning_vertex = {winning_vertex}\")\n",
    "\n",
    "\n",
    "        #2b) Find the branch points where the winning vertex is located\n",
    "        curr_MP_branch_skeletons = [limb_correspondence_MP[MP_idx][k][\"branch_skeleton\"] for k in np.sort(list(limb_correspondence_MP[MP_idx].keys()))]\n",
    "        MP_branches_with_stitch_point = sk.find_branch_skeleton_with_specific_coordinate(\n",
    "            divded_skeleton=curr_MP_branch_skeletons,\n",
    "            current_coordinate = winning_vertex\n",
    "        )\n",
    "        print(f\"MP_branches_with_stitch_point = {MP_branches_with_stitch_point}\")\n",
    "\n",
    "\n",
    "\n",
    "        print(f\"MAP_branches_with_stitch_point = {MAP_branches_with_stitch_point}\")\n",
    "        print(f\"MAP_stitch_point_on_end_or_branch = {MAP_stitch_point_on_end_or_branch}\")\n",
    "\n",
    "\n",
    "        # -------- 11/13 addition: Will see if the MP stitch point was already a MAP stitch point ---- #\n",
    "        if len(nu.matching_rows(np.array(all_map_stitch_points),winning_vertex)) > 0:\n",
    "            keep_MP_stitch_static = True\n",
    "        else:\n",
    "            keep_MP_stitch_static = False\n",
    "\n",
    "\n",
    "\n",
    "\n",
    "\n",
    "        # ------------------------- This part does the stitching -------------------- #\n",
    "\n",
    "\n",
    "        \"\"\"\n",
    "        Pseudocode:\n",
    "        1) For all MP branches\n",
    "            a) Get neighbor coordinates to MP stitch points\n",
    "            b) Delete the MP Stitch points on each \n",
    "            c) Add skeleton segment from neighbor to MAP stitch point\n",
    "        2) Get skeletons and meshes from MP and MAP pieces\n",
    "        3) Run mesh correspondence to get new meshes and mesh_idx and widths\n",
    "        4a) If MAP_stitch_point_on_end_or_branch is False\n",
    "        - Delete the old MAP branch parts and replace with new MAP ones\n",
    "        4b) Revise the meshes,  mesh_idx, and widths of the MAP pieces\n",
    "        5) Revise the meshes,  mesh_idx, and widths of the MP pieces\n",
    "\n",
    "\n",
    "        \"\"\"\n",
    "\n",
    "        # -------------- Part 13: Will Adjust the MP branches that have the stitch point so extends to the MAP stitch point -------#\n",
    "        curr_MP_sk = []\n",
    "        for b_idx in MP_branches_with_stitch_point:\n",
    "            if not keep_MP_stitch_static:\n",
    "                #a) Get neighbor coordinates to MP stitch points\n",
    "                MP_stitch_branch_graph = sk.convert_skeleton_to_graph(curr_MP_branch_skeletons[b_idx])\n",
    "                stitch_node = xu.get_nodes_with_attributes_dict(MP_stitch_branch_graph,dict(coordinates=winning_vertex))[0]\n",
    "                stitch_neighbors = xu.get_neighbors(MP_stitch_branch_graph,stitch_node)\n",
    "\n",
    "                if len(stitch_neighbors) != 1:\n",
    "                    raise Exception(\"Not just one neighbor for stitch point of MP branch\")\n",
    "                keep_neighbor = stitch_neighbors[0]  \n",
    "                keep_neighbor_coordinates = xu.get_node_attributes(MP_stitch_branch_graph,node_list=[keep_neighbor])[0]\n",
    "\n",
    "                #b) Delete the MP Stitch points on each \n",
    "                MP_stitch_branch_graph.remove_node(stitch_node)\n",
    "\n",
    "                \"\"\" Old way that does not do smoothing\n",
    "\n",
    "                #c) Add skeleton segment from neighbor to MAP stitch point\n",
    "                new_node_name = np.max(MP_stitch_branch_graph.nodes())+1\n",
    "\n",
    "                MP_stitch_branch_graph.add_nodes_from([(int(new_node_name),{\"coordinates\":MAP_stitch_point})])\n",
    "                MP_stitch_branch_graph.add_weighted_edges_from([(keep_neighbor,new_node_name,np.linalg.norm(MAP_stitch_point - keep_neighbor_coordinates))])\n",
    "\n",
    "                new_MP_skeleton = sk.convert_graph_to_skeleton(MP_stitch_branch_graph)\n",
    "\n",
    "                \"\"\"\n",
    "                try:\n",
    "                    if len(MP_stitch_branch_graph)>1:\n",
    "                        new_MP_skeleton = sk.add_and_smooth_segment_to_branch(skeleton=sk.convert_graph_to_skeleton(MP_stitch_branch_graph),\n",
    "                                                        skeleton_stitch_point=keep_neighbor_coordinates,\n",
    "                                                         new_stitch_point=MAP_stitch_point)\n",
    "                    else:\n",
    "                        print(\"Not even attempting smoothing segment because once keep_neighbor_coordinates\")\n",
    "                        new_MP_skeleton = np.vstack([keep_neighbor_coordinates,MAP_stitch_point]).reshape(-1,2,3)\n",
    "                except:\n",
    "                    su.compressed_pickle(MP_stitch_branch_graph,\"MP_stitch_branch_graph\")\n",
    "                    su.compressed_pickle(keep_neighbor_coordinates,\"keep_neighbor_coordinates\")\n",
    "                    su.compressed_pickle(MAP_stitch_point,\"MAP_stitch_point\")\n",
    "\n",
    "\n",
    "                    raise Exception(\"Something went wrong with add_and_smooth_segment_to_branch\")\n",
    "\n",
    "\n",
    "\n",
    "\n",
    "\n",
    "                #smooth over the new skeleton\n",
    "                new_MP_skeleton_smooth = sk.resize_skeleton_branch(new_MP_skeleton,\n",
    "                                                                  segment_width=meshparty_segment_size)\n",
    "\n",
    "                curr_MP_sk.append(new_MP_skeleton_smooth)\n",
    "            else:\n",
    "                print(f\"Not adjusting MP skeletons because keep_MP_stitch_static = {keep_MP_stitch_static}\")\n",
    "                curr_MP_sk.append(curr_MP_branch_skeletons[b_idx])\n",
    "            \n",
    "\n",
    "\n",
    "        #2) Get skeletons and meshes from MP and MAP pieces\n",
    "        curr_MAP_sk = [limb_correspondence_MAP[MAP_idx][k][\"branch_skeleton\"] for k in MAP_branches_with_stitch_point]\n",
    "\n",
    "        #2.1) Going to break up the MAP skeleton if need be\n",
    "        \"\"\"\n",
    "        Pseudocode:\n",
    "        a) check to see if it needs to be broken up\n",
    "        If it does:\n",
    "        b) Convert the skeleton into a graph\n",
    "        c) Find the node of the MAP stitch point (where need to do the breaking)\n",
    "        d) Find the degree one nodes\n",
    "        e) For each degree one node:\n",
    "        - Find shortest path from stitch node to end node\n",
    "        - get a subgraph from that path\n",
    "        - convert graph to a skeleton and save as new skeletons\n",
    "\n",
    "        \"\"\"\n",
    "        # -------------- Part 14: Breaks Up MAP skeleton into 2 pieces if Needs (because MAP stitch point not on endpoint or branch point)  -------#\n",
    "\n",
    "        #a) check to see if it needs to be broken up\n",
    "        cut_flag = False\n",
    "        if not MAP_stitch_point_on_end_or_branch:\n",
    "            if len(curr_MAP_sk) > 1:\n",
    "                raise Exception(f\"There was more than one skeleton for MAP skeletons even though MAP_stitch_point_on_end_or_branch = {MAP_stitch_point_on_end_or_branch}\")\n",
    "\n",
    "\n",
    "            skeleton_to_cut = curr_MAP_sk[0]\n",
    "            curr_MAP_sk = sk.cut_skeleton_at_coordinate(skeleton=skeleton_to_cut,\n",
    "                                                        cut_coordinate=MAP_stitch_point)\n",
    "            cut_flag=True\n",
    "            \n",
    "            \n",
    "        # ------ 11/13 Addition: need to adjust the MAP points if have to keep MP static\n",
    "        if keep_MP_stitch_static:\n",
    "            curr_MAP_sk_final = []\n",
    "            for map_skel in curr_MAP_sk:\n",
    "                #a) Get neighbor coordinates to MP stitch points\n",
    "                MP_stitch_branch_graph = sk.convert_skeleton_to_graph(map_skel)\n",
    "                stitch_node = xu.get_nodes_with_attributes_dict(MP_stitch_branch_graph,dict(coordinates=MAP_stitch_point))[0]\n",
    "                stitch_neighbors = xu.get_neighbors(MP_stitch_branch_graph,stitch_node)\n",
    "\n",
    "                if len(stitch_neighbors) != 1:\n",
    "                    raise Exception(\"Not just one neighbor for stitch point of MP branch\")\n",
    "                keep_neighbor = stitch_neighbors[0]  \n",
    "                keep_neighbor_coordinates = xu.get_node_attributes(MP_stitch_branch_graph,node_list=[keep_neighbor])[0]\n",
    "\n",
    "                #b) Delete the MP Stitch points on each \n",
    "                MP_stitch_branch_graph.remove_node(stitch_node)\n",
    "\n",
    "                \"\"\" Old way that does not do smoothing\n",
    "\n",
    "                #c) Add skeleton segment from neighbor to MAP stitch point\n",
    "                new_node_name = np.max(MP_stitch_branch_graph.nodes())+1\n",
    "\n",
    "                MP_stitch_branch_graph.add_nodes_from([(int(new_node_name),{\"coordinates\":MAP_stitch_point})])\n",
    "                MP_stitch_branch_graph.add_weighted_edges_from([(keep_neighbor,new_node_name,np.linalg.norm(MAP_stitch_point - keep_neighbor_coordinates))])\n",
    "\n",
    "                new_MP_skeleton = sk.convert_graph_to_skeleton(MP_stitch_branch_graph)\n",
    "\n",
    "                \"\"\"\n",
    "                try:\n",
    "                    if len(MP_stitch_branch_graph)>1:\n",
    "                        new_MP_skeleton = sk.add_and_smooth_segment_to_branch(skeleton=sk.convert_graph_to_skeleton(MP_stitch_branch_graph),\n",
    "                                                        skeleton_stitch_point=keep_neighbor_coordinates,\n",
    "                                                         new_stitch_point=winning_vertex)\n",
    "                    else:\n",
    "                        print(\"Not even attempting smoothing segment because once keep_neighbor_coordinates\")\n",
    "                        new_MP_skeleton = np.vstack([keep_neighbor_coordinates,MAP_stitch_point]).reshape(-1,2,3)\n",
    "                except:\n",
    "                    su.compressed_pickle(MP_stitch_branch_graph,\"MP_stitch_branch_graph\")\n",
    "                    su.compressed_pickle(keep_neighbor_coordinates,\"keep_neighbor_coordinates\")\n",
    "                    su.compressed_pickle(MAP_stitch_point,\"MAP_stitch_point\")\n",
    "\n",
    "\n",
    "                    raise Exception(\"Something went wrong with add_and_smooth_segment_to_branch\")\n",
    "\n",
    "\n",
    "\n",
    "\n",
    "\n",
    "                #smooth over the new skeleton\n",
    "                new_MP_skeleton_smooth = sk.resize_skeleton_branch(new_MP_skeleton,\n",
    "                                                                  segment_width=meshparty_segment_size)\n",
    "\n",
    "                curr_MAP_sk_final.append(new_MP_skeleton_smooth)\n",
    "            curr_MAP_sk = copy.deepcopy(curr_MAP_sk_final)\n",
    "\n",
    "\n",
    "\n",
    "        # -------------- Part 15: Gets all of the skeletons and Mesh to divide u and does mesh correspondence -------#\n",
    "        # ------------- revise IDX so still references the whole limb mesh -----------#\n",
    "\n",
    "        # -------------- 11/10 Addition accounting for not all MAP pieces always touching each other --------------------#\n",
    "        if len(MAP_branches_with_stitch_point) > 1:\n",
    "            print(\"\\nRevising the MAP pieces index:\")\n",
    "            print(f\"MAP_pieces_idx_touching_border = {MAP_pieces_idx_touching_border}, MAP_branches_with_stitch_point = {MAP_branches_with_stitch_point}\")\n",
    "            MAP_pieces_for_correspondence = nu.intersect1d(MAP_pieces_idx_touching_border,MAP_branches_with_stitch_point)\n",
    "            print(f\"MAP_pieces_for_correspondence = {MAP_pieces_for_correspondence}\")\n",
    "            curr_MAP_sk = [limb_correspondence_MAP[MAP_idx][k][\"branch_skeleton\"] for k in MAP_pieces_for_correspondence]\n",
    "        else:\n",
    "            MAP_pieces_for_correspondence = MAP_branches_with_stitch_point\n",
    "\n",
    "        curr_MAP_meshes_idx = [limb_correspondence_MAP[MAP_idx][k][\"branch_face_idx\"] for k in MAP_pieces_for_correspondence]\n",
    "        \n",
    "        # Have to adjust based on if the skeleton were split\n",
    "        \n",
    "        if cut_flag:\n",
    "            #Then it was cut and have to do mesh correspondence to find what label to cut\n",
    "            if len(curr_MAP_meshes_idx) > 1:\n",
    "                raise Exception(\"MAP_pieces_for_correspondence was longer than 1 and cut flag was set\")\n",
    "            pre_stitch_mesh_idx = curr_MAP_meshes_idx[0]\n",
    "            pre_stitch_mesh = limb_mesh_mparty.submesh([pre_stitch_mesh_idx],append=True,repair=False)\n",
    "            local_correspondnece_stitch = mesh_correspondence_first_pass(mesh=pre_stitch_mesh,\n",
    "                                      skeleton_branches=curr_MAP_sk)\n",
    "            local_correspondence_stitch_revised = correspondence_1_to_1(mesh=pre_stitch_mesh,\n",
    "                                                        local_correspondence=local_correspondnece_stitch,\n",
    "                                                        curr_limb_endpoints_must_keep=None,\n",
    "                                                        curr_soma_to_piece_touching_vertices=None)\n",
    "            \n",
    "            curr_MAP_meshes_idx = [pre_stitch_mesh_idx[local_correspondence_stitch_revised[nn][\"branch_face_idx\"]] for \n",
    "                                           nn in local_correspondence_stitch_revised.keys()]\n",
    "            \n",
    "        \n",
    "        #To make sure that the MAP never gives up ground on the labels\n",
    "        must_keep_labels_MAP = dict()\n",
    "        must_keep_counter = 0\n",
    "        for kk,b_idx in enumerate(curr_MAP_meshes_idx):\n",
    "            #must_keep_labels_MAP.update(dict([(ii,kk) for ii in range(must_keep_counter,must_keep_counter+len(b_idx))]))\n",
    "            must_keep_labels_MAP[kk] = np.arange(must_keep_counter,must_keep_counter+len(b_idx))\n",
    "            must_keep_counter += len(b_idx)\n",
    "        \n",
    "            \n",
    "\n",
    "        #this is where should send only the MP that apply\n",
    "        MP_branches_for_correspondence,conn_idx,MP_branches_with_stitch_point_idx = nu.intersect1d(conn,MP_branches_with_stitch_point,return_indices=True)\n",
    "\n",
    "        curr_MP_meshes_idx = [limb_correspondence_MP[MP_idx][k][\"branch_face_idx\"] for k in MP_branches_for_correspondence]\n",
    "        curr_MP_sk_for_correspondence = [curr_MP_sk[zz] for zz in MP_branches_with_stitch_point_idx]\n",
    "\n",
    "        stitching_mesh_idx = np.concatenate(curr_MAP_meshes_idx + curr_MP_meshes_idx)\n",
    "        stitching_mesh = limb_mesh_mparty.submesh([stitching_mesh_idx],append=True,repair=False)\n",
    "        stitching_skeleton_branches = curr_MAP_sk + curr_MP_sk_for_correspondence\n",
    "        \"\"\"\n",
    "\n",
    "        ****** NEED TO GET THE RIGHT MESH TO RUN HE IDX ON SO GETS A GOOD MESH (CAN'T BE LIMB_MESH_MPARTY)\n",
    "        BUT MUST BE THE ORIGINAL MAP MESH\n",
    "\n",
    "        mesh_pieces_for_MAP\n",
    "        sublimb_meshes_MP\n",
    "\n",
    "        mesh_pieces_for_MAP_face_idx\n",
    "        sublimb_meshes_MP_face_idx\n",
    "\n",
    "        stitching_mesh = tu.combine_meshes(curr_MAP_meshes + curr_MP_meshes)\n",
    "        stitching_skeleton_branches = curr_MAP_sk + curr_MP_sk\n",
    "\n",
    "        \"\"\"\n",
    "\n",
    "        #3) Run mesh correspondence to get new meshes and mesh_idx and widths\n",
    "        local_correspondnece_stitch = mesh_correspondence_first_pass(mesh=stitching_mesh,\n",
    "                                      skeleton_branches=stitching_skeleton_branches)\n",
    "\n",
    "        try:\n",
    "\n",
    "            local_correspondence_stitch_revised = correspondence_1_to_1(mesh=stitching_mesh,\n",
    "                                                        local_correspondence=local_correspondnece_stitch,\n",
    "                                                        curr_limb_endpoints_must_keep=None,\n",
    "                                                        curr_soma_to_piece_touching_vertices=None,\n",
    "                                                        must_keep_labels=must_keep_labels_MAP)\n",
    "        except:\n",
    "            su.compressed_pickle(stitching_skeleton_branches,\"stitching_skeleton_branches\")\n",
    "            su.compressed_pickle(stitching_mesh,\"stitching_mesh\")\n",
    "            su.compressed_pickle(local_correspondnece_stitch,\"local_correspondnece_stitch\")\n",
    "            raise Exception(\"Something went wrong with 1 to 1 correspondence\")\n",
    "\n",
    "\n",
    "        #Need to readjust the mesh correspondence idx\n",
    "        for k,v in local_correspondence_stitch_revised.items():\n",
    "            local_correspondence_stitch_revised[k][\"branch_face_idx\"] = stitching_mesh_idx[local_correspondence_stitch_revised[k][\"branch_face_idx\"]]\n",
    "\n",
    "\n",
    "\n",
    "\n",
    "        # -------------- Part 16: Overwrite old branch entries (and add on one new to MAP if required a split) -------#\n",
    "\n",
    "\n",
    "        #4a) If MAP_stitch_point_on_end_or_branch is False\n",
    "        #- Delete the old MAP branch parts and replace with new MAP ones\n",
    "        if not MAP_stitch_point_on_end_or_branch:\n",
    "            print(\"Deleting branches from dictionary\")\n",
    "            del limb_correspondence_MAP[MAP_idx][MAP_branches_with_stitch_point[0]]\n",
    "            #adding the two new branches created from the stitching\n",
    "            limb_correspondence_MAP[MAP_idx][MAP_branches_with_stitch_point[0]] = local_correspondence_stitch_revised[0]\n",
    "            limb_correspondence_MAP[MAP_idx][np.max(list(limb_correspondence_MAP[MAP_idx].keys()))+1] = local_correspondence_stitch_revised[1]\n",
    "\n",
    "            #have to reorder the keys\n",
    "            #limb_correspondence_MAP[MAP_idx] = dict([(k,limb_correspondence_MAP[MAP_idx][k]) for k in np.sort(list(limb_correspondence_MAP[MAP_idx].keys()))])\n",
    "            limb_correspondence_MAP[MAP_idx] = gu.order_dict_by_keys(limb_correspondence_MAP[MAP_idx])\n",
    "\n",
    "        else: #4b) Revise the meshes,  mesh_idx, and widths of the MAP pieces if weren't broken up\n",
    "            for j,curr_MAP_idx_fixed in enumerate(MAP_pieces_for_correspondence): \n",
    "                limb_correspondence_MAP[MAP_idx][curr_MAP_idx_fixed] = local_correspondence_stitch_revised[j]\n",
    "            #want to update all of the skeletons just in case was altered by keep_MP_stitch_static and not included in correspondence\n",
    "            if keep_MP_stitch_static:\n",
    "                if len(MAP_branches_with_stitch_point) != len(curr_MAP_sk_final):\n",
    "                    raise Exception(\"MAP_branches_with_stitch_point not same size as curr_MAP_sk_final\")\n",
    "                for gg,map_idx_curr in enumerate(MAP_branches_with_stitch_point):\n",
    "                    limb_correspondence_MAP[MAP_idx][map_idx_curr][\"branch_skeleton\"] = curr_MAP_sk_final[gg]\n",
    "            \n",
    "\n",
    "        for j,curr_MP_idx_fixed in enumerate(MP_branches_for_correspondence): #************** right here just need to make only the ones that applied\n",
    "            limb_correspondence_MP[MP_idx][curr_MP_idx_fixed] = local_correspondence_stitch_revised[j+len(curr_MAP_sk)]\n",
    "\n",
    "\n",
    "        #5b) Fixing the branch skeletons that were not included in the correspondence\n",
    "        MP_leftover,MP_leftover_idx = nu.setdiff1d(MP_branches_with_stitch_point,MP_branches_for_correspondence)\n",
    "        print(f\"MP_branches_with_stitch_point= {MP_branches_with_stitch_point}\")\n",
    "        print(f\"MP_branches_for_correspondence = {MP_branches_for_correspondence}\")\n",
    "        print(f\"MP_leftover = {MP_leftover}, MP_leftover_idx = {MP_leftover_idx}\")\n",
    "\n",
    "        for curr_MP_leftover,curr_MP_leftover_idx in zip(MP_leftover,MP_leftover_idx):\n",
    "            limb_correspondence_MP[MP_idx][curr_MP_leftover][\"branch_skeleton\"] = curr_MP_sk[curr_MP_leftover_idx]\n",
    "\n",
    "\n",
    "        print(f\" Finished with {(MP_idx,MAP_idx)} \\n\\n\\n\")\n",
    "        stitch_counter += 1\n",
    "#         if cut_flag:\n",
    "#             raise Exception(\"Cut flag was activated\")\n",
    "\n",
    "\n",
    "else:\n",
    "    print(\"There were not both MAP and MP pieces so skipping the stitch resolving phase\")\n",
    "\n",
    "print(f\"Time for decomp of Limb = {time.time() - curr_limb_time}\")\n",
    "#     # ------------- Saving the MAP and MP Decompositions ---------------- #\n",
    "#     proper_limb_mesh_correspondence_MAP[curr_limb_idx] = limb_correspondence_MAP\n",
    "#     proper_limb_mesh_correspondence_MP[curr_limb_idx] = limb_correspondence_MP\n",
    "\n",
    "\n",
    "\n",
    "\n",
    "\n",
    "\n",
    "# -------------- Part 17: Grouping the MP and MAP Correspondence into one correspondence dictionary -------#\n",
    "limb_correspondence_individual = dict()\n",
    "counter = 0\n",
    "\n",
    "for sublimb_idx,sublimb_branches in limb_correspondence_MAP.items():\n",
    "    for branch_dict in sublimb_branches.values():\n",
    "        limb_correspondence_individual[counter]= branch_dict\n",
    "        counter += 1\n",
    "for sublimb_idx,sublimb_branches in limb_correspondence_MP.items():\n",
    "    for branch_dict in sublimb_branches.values():\n",
    "        limb_correspondence_individual[counter]= branch_dict\n",
    "        counter += 1\n",
    "\n",
    "\n",
    "#info that may be used for concept networks\n",
    "network_starting_info = dict(\n",
    "            touching_verts_list = limb_to_soma_touching_vertices_list,\n",
    "            endpoints_must_keep = limb_to_endpoints_must_keep_list\n",
    ")\n",
    "\n",
    "if not return_concept_network:\n",
    "    if return_concept_network_starting_info: #because may want to calculate the concept networks later\n",
    "        return_value= limb_correspondence_individual,network_starting_info\n",
    "    else:\n",
    "        return_value= limb_correspondence_individual\n",
    "else:\n",
    "    limb_to_soma_concept_networks = calculate_limb_concept_networks(limb_correspondence_individual,\n",
    "                                                                    run_concept_network_checks=run_concept_network_checks,\n",
    "                                                                   **network_starting_info)\n",
    "\n",
    "\n",
    "\n",
    "\n",
    "return_value = limb_correspondence_individual,limb_to_soma_concept_networks"
   ]
  }
 ],
 "metadata": {
  "kernelspec": {
   "display_name": "Python 3",
   "language": "python",
   "name": "python3"
  },
  "language_info": {
   "codemirror_mode": {
    "name": "ipython",
    "version": 3
   },
   "file_extension": ".py",
   "mimetype": "text/x-python",
   "name": "python",
   "nbconvert_exporter": "python",
   "pygments_lexer": "ipython3",
   "version": "3.6.9"
  }
 },
 "nbformat": 4,
 "nbformat_minor": 4
}
