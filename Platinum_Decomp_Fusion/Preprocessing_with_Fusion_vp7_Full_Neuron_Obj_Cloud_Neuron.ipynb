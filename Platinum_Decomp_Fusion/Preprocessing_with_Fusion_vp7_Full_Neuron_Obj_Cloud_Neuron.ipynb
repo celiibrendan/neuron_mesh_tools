{
 "cells": [
  {
   "cell_type": "code",
   "execution_count": 1,
   "metadata": {},
   "outputs": [
    {
     "data": {
      "text/plain": [
       "'\\nTo make sure the fusion decomposition works\\nup to the part where we would stitch the sublimbs together into one limb\\n\\n\\n'"
      ]
     },
     "execution_count": 1,
     "metadata": {},
     "output_type": "execute_result"
    }
   ],
   "source": [
    "\"\"\"\n",
    "To make sure the fusion decomposition works\n",
    "up to the part where we would stitch the sublimbs together into one limb\n",
    "\n",
    "\n",
    "\"\"\""
   ]
  },
  {
   "cell_type": "code",
   "execution_count": 2,
   "metadata": {},
   "outputs": [],
   "source": [
    "from os import sys\n",
    "sys.path.append(\"/meshAfterParty/\")"
   ]
  },
  {
   "cell_type": "code",
   "execution_count": 3,
   "metadata": {},
   "outputs": [
    {
     "name": "stderr",
     "output_type": "stream",
     "text": [
      "WARNING:root:Need to pip install annotationframeworkclient to repair mesh with pychunkedgraph\n",
      "WARNING:root:Need to pip install annotationframeworkclient to use dataset_name parameters\n"
     ]
    }
   ],
   "source": [
    "import skeleton_utils as sk\n",
    "import soma_extraction_utils as sm\n",
    "import trimesh_utils as tu\n",
    "import trimesh\n",
    "import numpy_utils as nu\n",
    "import numpy as np\n",
    "from importlib import reload\n",
    "import networkx as nx\n",
    "import time\n",
    "import compartment_utils as cu\n",
    "import networkx_utils as xu\n",
    "import matplotlib_utils as mu\n",
    "import neuron_utils as nru\n",
    "\n",
    "#importing at the bottom so don't get any conflicts\n",
    "import itertools\n",
    "from tqdm_utils import tqdm\n",
    "\n",
    "#for meshparty preprocessing\n",
    "import meshparty_skeletonize as m_sk\n",
    "import general_utils as gu\n",
    "import compartment_utils as cu\n",
    "from meshparty import trimesh_io\n",
    "from copy import deepcopy\n",
    "\n",
    "\n",
    "from neuron_utils import *\n"
   ]
  },
  {
   "cell_type": "markdown",
   "metadata": {},
   "source": [
    "# Loading the Neuron"
   ]
  },
  {
   "cell_type": "code",
   "execution_count": 4,
   "metadata": {},
   "outputs": [],
   "source": [
    "import trimesh_utils as tu\n",
    "curent_neuron = tu.load_mesh_no_processing(\"/notebooks/test_neurons/Segmentation_2/meshparty/864691135548568516_single_soma_inhib_axon_cloud.off\")\n",
    "segment_id = 864691135548568516\n",
    "description = \"single_soma_inhib_axon_cloud\""
   ]
  },
  {
   "cell_type": "code",
   "execution_count": 5,
   "metadata": {},
   "outputs": [],
   "source": [
    "# import neuron_visualizations as nviz\n",
    "# nviz.plot_objects(main_mesh=curent_neuron)"
   ]
  },
  {
   "cell_type": "markdown",
   "metadata": {},
   "source": [
    "# Setting the Arguments that would be present inside a preprocessing function call"
   ]
  },
  {
   "cell_type": "code",
   "execution_count": 6,
   "metadata": {},
   "outputs": [],
   "source": [
    "#predefined arguments for the Neuron constructor\n",
    "\n",
    "decomposition_type=\"meshafterparty\"\n",
    "mesh_correspondence=\"meshparty\" #meshafterparty_adaptive\n",
    "distance_by_mesh_center=True #how the distance is calculated for mesh correspondence\n",
    "meshparty_segment_size = 100\n",
    "meshparty_n_surface_downsampling = 2\n",
    "meshparty_adaptive_correspondence_after_creation=False\n",
    "suppress_preprocessing_print=True\n",
    "computed_attribute_dict=None\n",
    "somas = None\n",
    "branch_skeleton_data=None\n",
    "combine_close_skeleton_nodes = True\n",
    "combine_close_skeleton_nodes_threshold=700\n",
    "ignore_warnings=True\n",
    "suppress_output=False\n",
    "calculate_spines=True\n",
    "widths_to_calculate=[\"no_spine_median_mesh_center\",\n",
    "                \"no_spine_mean_mesh_center\"]\n",
    "fill_hole_size=2000"
   ]
  },
  {
   "cell_type": "code",
   "execution_count": 7,
   "metadata": {},
   "outputs": [],
   "source": [
    "#arguments for the preprocess neuron\n",
    "mesh = curent_neuron\n",
    "segment_id=segment_id\n",
    "description=description\n",
    "\n",
    "sig_th_initial_split=15 #for significant splitting meshes in the intial mesh split\n",
    "limb_threshold = 2000 #the mesh faces threshold for a mesh to be qualified as a limb (otherwise too small)\n",
    "filter_end_node_length=4001 #used in cleaning the skeleton during skeletonizations\n",
    "return_no_somas = False\n",
    "\n",
    "decomposition_type=decomposition_type\n",
    "mesh_correspondence=mesh_correspondence\n",
    "distance_by_mesh_center=distance_by_mesh_center\n",
    "meshparty_segment_size =meshparty_segment_size\n",
    "meshparty_n_surface_downsampling = meshparty_n_surface_downsampling\n",
    "somas=somas\n",
    "branch_skeleton_data=branch_skeleton_data\n",
    "combine_close_skeleton_nodes = combine_close_skeleton_nodes\n",
    "combine_close_skeleton_nodes_threshold=combine_close_skeleton_nodes_threshold"
   ]
  },
  {
   "cell_type": "markdown",
   "metadata": {},
   "source": [
    "# Setting up the metadata"
   ]
  },
  {
   "cell_type": "code",
   "execution_count": 8,
   "metadata": {},
   "outputs": [],
   "source": [
    "whole_processing_tiempo = time.time()\n",
    "\n",
    "\n",
    "\"\"\"\n",
    "Purpose: To process the mesh into a format that can be loaded into the neuron class\n",
    "and used for higher order processing (how to visualize is included)\n",
    "\n",
    "\"\"\"\n",
    "if description is None:\n",
    "    description = \"no_description\"\n",
    "if segment_id is None:\n",
    "    #pick a random segment id\n",
    "    segment_id = np.random.randint(100000000)\n",
    "    print(f\"picking a random 7 digit segment id: {segment_id}\")\n",
    "    description += \"_random_id\"\n",
    "\n",
    "\n",
    "if mesh is None:\n",
    "    if current_mesh_file is None:\n",
    "        raise Exception(\"No mesh or mesh_file file were given\")\n",
    "    else:\n",
    "        current_neuron = trimesh.load_mesh(current_mesh_file)\n",
    "else:\n",
    "    current_neuron = mesh"
   ]
  },
  {
   "cell_type": "markdown",
   "metadata": {},
   "source": [
    "# ************************ Phase A: Soma and Limb Identification ********************************"
   ]
  },
  {
   "cell_type": "code",
   "execution_count": 9,
   "metadata": {},
   "outputs": [
    {
     "name": "stdout",
     "output_type": "stream",
     "text": [
      "Current Arguments Using (adjusted for decimation):\n",
      " large_mesh_threshold= 15000.0 \n",
      "large_mesh_threshold_inner = 10000.0 \n",
      "soma_size_threshold = 937.5 \n",
      "soma_size_threshold_max = 12000.0\n",
      "outer_decimation_ratio = 0.25\n",
      "inner_decimation_ratio = 0.25\n",
      "xvfb-run -n 5847 -s \"-screen 0 800x600x24\" meshlabserver $@  -i /notebooks/Platinum_Decomp_Fusion/864691135548568516/neuron_864691135548568516.off -o /notebooks/Platinum_Decomp_Fusion/864691135548568516/neuron_864691135548568516_decimated.off -s /notebooks/Platinum_Decomp_Fusion/864691135548568516/decimation_meshlab_2521553.mls\n",
      "Total found significant pieces before Poisson = [<trimesh.Trimesh(vertices.shape=(191269, 3), faces.shape=(379018, 3))>]\n",
      "----- working on large mesh #0: <trimesh.Trimesh(vertices.shape=(191269, 3), faces.shape=(379018, 3))>\n",
      "pre_largest_mesh_path = /notebooks/Platinum_Decomp_Fusion/864691135548568516/neuron_864691135548568516_decimated_largest_piece.off\n",
      "xvfb-run -n 6520 -s \"-screen 0 800x600x24\" meshlabserver $@  -i /notebooks/Platinum_Decomp_Fusion/864691135548568516/neuron_864691135548568516_decimated_largest_piece.off -o /notebooks/Platinum_Decomp_Fusion/864691135548568516/neuron_864691135548568516_decimated_largest_piece_poisson.off -s /notebooks/Platinum_Decomp_Fusion/864691135548568516/poisson_349342.mls\n",
      "Total found significant pieces AFTER Poisson = [<trimesh.Trimesh(vertices.shape=(48099, 3), faces.shape=(96194, 3))>]\n",
      "----- working on mesh after poisson #0: <trimesh.Trimesh(vertices.shape=(48099, 3), faces.shape=(96194, 3))>\n",
      "xvfb-run -n 7243 -s \"-screen 0 800x600x24\" meshlabserver $@  -i /notebooks/Platinum_Decomp_Fusion/864691135548568516/neuron_864691135548568516_decimated_largest_piece_poisson_largest_inner.off -o /notebooks/Platinum_Decomp_Fusion/864691135548568516/neuron_864691135548568516_decimated_largest_piece_poisson_largest_inner_decimated.off -s /notebooks/Platinum_Decomp_Fusion/864691135548568516/decimation_meshlab_25994201.mls\n",
      "done exporting decimated mesh: neuron_864691135548568516_decimated_largest_piece_poisson_largest_inner.off\n",
      "1) Starting: Mesh importing and Pymesh fix\n",
      "loading mesh from vertices and triangles array\n",
      "1) Finished: Mesh importing and Pymesh fix: 0.0003199577331542969\n",
      "2) Staring: Generating CGAL segmentation for neuron\n",
      "Done writing OFF file\n",
      "\n",
      "Starting CGAL segmentation\n",
      "Right before cgal segmentation, clusters = 3, smoothness = 0.2, path_and_filename = /notebooks/Platinum_Decomp_Fusion/temp/86469113554856851600_fixed \n",
      "1\n",
      "Finished CGAL segmentation algorithm: 2.3368358612060547\n",
      "2) Finished: Generating CGAL segmentation for neuron: 2.693173408508301\n",
      "3) Staring: Generating Graph Structure and Identifying Soma using soma size threshold  = 3000\n",
      "my_list_keys = [0, 1, 2, 3, 4, 5, 6, 7, 8, 9, 10]\n",
      "changed the median value\n",
      "changed the mean value\n",
      "changed the max value\n",
      "soma_index = 1\n",
      "3) Finished: Generating Graph Structure and Identifying Soma: 0.008587121963500977\n",
      "Not finding the apical because soma_only option selected\n",
      "6) Staring: Classifying Entire Neuron\n",
      "Total Labels found = {'soma', 'unsure'}\n",
      "6) Finished: Classifying Entire Neuron: 5.125999450683594e-05\n",
      "7) Staring: Transfering Segmentation Labels to Face Labels\n",
      "7) Finished: Transfering Segmentation Labels to Face Labels: 0.022330045700073242\n",
      "8) Staring: Generating final Vertex and Face Labels\n",
      "8) Finished: Generating final Vertex and Face Labels: 0.24077916145324707\n",
      "Returning the soma_sdf value AND the classifier\n",
      "soma_sdf_value = 0.848731\n",
      "segmentation[sorted_medians],median_values[sorted_medians] = (array([ 1,  5,  8,  3,  2,  9,  7,  6,  0, 10,  4]), array([0.848731  , 0.299497  , 0.178388  , 0.06392905, 0.05540815,\n",
      "       0.0527049 , 0.0524823 , 0.0519053 , 0.05173975, 0.049012  ,\n",
      "       0.0467932 ]))\n",
      "Sizes = [4344, 331, 132, 3990, 3288, 2013, 1240, 3793, 2528, 1456, 929]\n",
      "valid_soma_segments_width\n",
      "      ------ Found 1 viable somas: [1]\n",
      "Using Poisson Surface Reconstruction for watertightness in soma_volume_ratio\n",
      "xvfb-run -n 3339 -s \"-screen 0 800x600x24\" meshlabserver $@  -i /notebooks/Platinum_Decomp_Fusion/Poisson_temp/neuron_645632.off -o /notebooks/Platinum_Decomp_Fusion/Poisson_temp/neuron_645632_poisson.off -s /notebooks/Platinum_Decomp_Fusion/Poisson_temp/poisson_584876.mls\n",
      "removed temporary input file: /notebooks/Platinum_Decomp_Fusion/Poisson_temp/neuron_645632.off\n",
      "removed temporary output file: /notebooks/Platinum_Decomp_Fusion/Poisson_temp/neuron_645632_poisson.off\n",
      "mesh.is_watertight = True\n",
      "/notebooks/Platinum_Decomp_Fusion/Poisson_temp/poisson_584876.mls is being deleted....\n",
      "Inside sphere validater: ratio_val = 2.6141178927767426\n",
      "\n",
      "\n",
      "\n",
      " Total time for run = 121.01011681556702\n",
      "Before Filtering the number of somas found = 1\n",
      "Performing Soma Mesh Backtracking to original mesh\n",
      "# total split meshes = 12\n",
      "viable_meshes = [0]\n",
      "There were 11 pieces found after size threshold\n",
      "# of soma containing seperate meshes = 1\n",
      "meshes with somas = {0: [0]}\n",
      "\n",
      "\n",
      "----Working on soma-containing mesh piece 0----\n",
      "current_soma_mesh_list = [<trimesh.Trimesh(vertices.shape=(2209, 3), faces.shape=(4344, 3))>]\n",
      "current_mesh = <trimesh.Trimesh(vertices.shape=(191269, 3), faces.shape=(378525, 3))>\n",
      "\n",
      "inside Soma subtraction\n",
      "mesh pieces in subtact soma BEFORE the filtering inside pieces = [<trimesh.Trimesh(vertices.shape=(122248, 3), faces.shape=(241890, 3))>, <trimesh.Trimesh(vertices.shape=(23355, 3), faces.shape=(46192, 3))>, <trimesh.Trimesh(vertices.shape=(16468, 3), faces.shape=(32480, 3))>, <trimesh.Trimesh(vertices.shape=(12096, 3), faces.shape=(23917, 3))>, <trimesh.Trimesh(vertices.shape=(9190, 3), faces.shape=(18171, 3))>, <trimesh.Trimesh(vertices.shape=(3788, 3), faces.shape=(7526, 3))>]\n",
      "There were 6 pieces found after size threshold\n",
      "mesh pieces in subtact soma AFTER the filtering inside pieces = [<trimesh.Trimesh(vertices.shape=(122248, 3), faces.shape=(241890, 3))>, <trimesh.Trimesh(vertices.shape=(23355, 3), faces.shape=(46192, 3))>, <trimesh.Trimesh(vertices.shape=(16468, 3), faces.shape=(32480, 3))>, <trimesh.Trimesh(vertices.shape=(12096, 3), faces.shape=(23917, 3))>, <trimesh.Trimesh(vertices.shape=(9190, 3), faces.shape=(18171, 3))>, <trimesh.Trimesh(vertices.shape=(3788, 3), faces.shape=(7526, 3))>]\n",
      "Total Time for soma mesh cancellation = 1.109\n",
      "mesh_pieces_without_soma = [<trimesh.Trimesh(vertices.shape=(122248, 3), faces.shape=(241890, 3))>, <trimesh.Trimesh(vertices.shape=(23355, 3), faces.shape=(46192, 3))>, <trimesh.Trimesh(vertices.shape=(16468, 3), faces.shape=(32480, 3))>, <trimesh.Trimesh(vertices.shape=(12096, 3), faces.shape=(23917, 3))>, <trimesh.Trimesh(vertices.shape=(9190, 3), faces.shape=(18171, 3))>, <trimesh.Trimesh(vertices.shape=(3788, 3), faces.shape=(7526, 3))>]\n",
      "Total time for Subtract Soam = 1.1097955703735352\n",
      "mesh_pieces_without_soma_stacked = <trimesh.Trimesh(vertices.shape=(187145, 3), faces.shape=(370176, 3))>\n",
      "Total time for Original_mesh_faces_map for mesh_pieces without soma= 0.46182990074157715\n",
      "soma_faces = [109701 109702 109703 ... 183817 183818 183819]\n",
      "soma_meshes = <trimesh.Trimesh(vertices.shape=(4251, 3), faces.shape=(8349, 3))>\n",
      "poisson_backtrack_distance_threshold = None\n",
      "Using Poisson Surface Reconstruction for watertightness in soma_volume_ratio\n",
      "xvfb-run -n 4565 -s \"-screen 0 800x600x24\" meshlabserver $@  -i /notebooks/Platinum_Decomp_Fusion/Poisson_temp/neuron_590284.off -o /notebooks/Platinum_Decomp_Fusion/Poisson_temp/neuron_590284_poisson.off -s /notebooks/Platinum_Decomp_Fusion/Poisson_temp/poisson_807381.mls\n",
      "removed temporary input file: /notebooks/Platinum_Decomp_Fusion/Poisson_temp/neuron_590284.off\n",
      "removed temporary output file: /notebooks/Platinum_Decomp_Fusion/Poisson_temp/neuron_590284_poisson.off\n",
      "mesh.is_watertight = True\n",
      "/notebooks/Platinum_Decomp_Fusion/Poisson_temp/poisson_807381.mls is being deleted....\n",
      "Inside sphere validater: ratio_val = 2.898320107139027\n",
      "Soma List = [<trimesh.Trimesh(vertices.shape=(4251, 3), faces.shape=(8349, 3))>]\n",
      "soma_mesh_list_centers = [array([577248.53133381, 778008.04476594, 890132.63702658])]\n"
     ]
    }
   ],
   "source": [
    "# --- 1) Doing the soma detection\n",
    "if somas is None:\n",
    "    soma_mesh_list,run_time,total_soma_list_sdf = sm.extract_soma_center(segment_id,\n",
    "                                             current_neuron.vertices,\n",
    "                                             current_neuron.faces)\n",
    "else:\n",
    "    soma_mesh_list,run_time,total_soma_list_sdf = somas\n",
    "\n",
    "# geting the soma centers\n",
    "if len(soma_mesh_list) <= 0:\n",
    "    print(f\"**** No Somas Found for Mesh {segment_id} so just one mesh\")\n",
    "    soma_mesh_list_centers = []\n",
    "    if return_no_somas:\n",
    "        return_value= soma_mesh_list_centers\n",
    "    raise Exception(\"Processing of No Somas is not yet implemented yet\")\n",
    "else:\n",
    "    #compute the soma centers\n",
    "    print(f\"Soma List = {soma_mesh_list}\")\n",
    "\n",
    "    soma_mesh_list_centers = sm.find_soma_centroids(soma_mesh_list)\n",
    "    print(f\"soma_mesh_list_centers = {soma_mesh_list_centers}\")"
   ]
  },
  {
   "cell_type": "code",
   "execution_count": 10,
   "metadata": {},
   "outputs": [
    {
     "name": "stdout",
     "output_type": "stream",
     "text": [
      "# total split meshes = 35\n",
      "There were 34 pieces found after size threshold\n",
      "# of soma containing seperate meshes = 1\n",
      "meshes with somas = {0: [0]}\n"
     ]
    }
   ],
   "source": [
    "#--- 2) getting the soma submeshes that are connected to each soma and identifiying those that aren't (and eliminating any mesh pieces inside the soma)\n",
    "\n",
    "main_mesh_total = current_neuron\n",
    "\n",
    "\n",
    "#finding the mesh pieces that contain the soma\n",
    "#splitting the current neuron into distinct pieces\n",
    "split_meshes = tu.split_significant_pieces(\n",
    "                            main_mesh_total,\n",
    "                            significance_threshold=sig_th_initial_split,\n",
    "                            print_flag=False)\n",
    "\n",
    "print(f\"# total split meshes = {len(split_meshes)}\")\n",
    "\n",
    "\n",
    "#returns the index of the split_meshes index that contains each soma    \n",
    "containing_mesh_indices = sm.find_soma_centroid_containing_meshes(soma_mesh_list,\n",
    "                                        split_meshes)\n",
    "\n",
    "# filtering away any of the inside floating pieces: \n",
    "non_soma_touching_meshes = [m for i,m in enumerate(split_meshes)\n",
    "                 if i not in list(containing_mesh_indices.values())]\n",
    "\n",
    "\n",
    "#Adding the step that will filter away any pieces that are inside the soma\n",
    "if len(non_soma_touching_meshes) > 0 and len(soma_mesh_list) > 0:\n",
    "    \"\"\"\n",
    "    *** want to save these pieces that are inside of the soma***\n",
    "    \"\"\"\n",
    "\n",
    "    non_soma_touching_meshes,inside_pieces = sm.filter_away_inside_soma_pieces(soma_mesh_list,non_soma_touching_meshes,\n",
    "                                    significance_threshold=sig_th_initial_split,\n",
    "                                    return_inside_pieces = True)                                                      \n",
    "\n",
    "\n",
    "split_meshes # the meshes of the original mesh\n",
    "containing_mesh_indices #the mapping of each soma centroid to the correct split mesh\n",
    "soma_containing_meshes = sm.grouping_containing_mesh_indices(containing_mesh_indices)\n",
    "\n",
    "soma_touching_meshes = [split_meshes[k] for k in soma_containing_meshes.keys()]\n",
    "\n",
    "\n",
    "#     print(f\"# of non soma touching seperate meshes = {len(non_soma_touching_meshes)}\")\n",
    "#     print(f\"# of inside pieces = {len(inside_pieces)}\")\n",
    "print(f\"# of soma containing seperate meshes = {len(soma_touching_meshes)}\")\n",
    "print(f\"meshes with somas = {soma_containing_meshes}\")\n",
    "\n",
    "\n",
    "\n",
    "\n"
   ]
  },
  {
   "cell_type": "code",
   "execution_count": 11,
   "metadata": {},
   "outputs": [
    {
     "name": "stdout",
     "output_type": "stream",
     "text": [
      "\n",
      "\n",
      "----Working on soma-containing mesh piece 0----\n",
      "\n",
      "inside Soma subtraction\n",
      "mesh pieces in subtact soma BEFORE the filtering inside pieces = [<trimesh.Trimesh(vertices.shape=(442924, 3), faces.shape=(883241, 3))>, <trimesh.Trimesh(vertices.shape=(108008, 3), faces.shape=(215445, 3))>, <trimesh.Trimesh(vertices.shape=(75957, 3), faces.shape=(151431, 3))>, <trimesh.Trimesh(vertices.shape=(54061, 3), faces.shape=(107833, 3))>, <trimesh.Trimesh(vertices.shape=(42023, 3), faces.shape=(83820, 3))>, <trimesh.Trimesh(vertices.shape=(17933, 3), faces.shape=(35808, 3))>]\n",
      "There were 6 pieces found after size threshold\n",
      "mesh pieces in subtact soma AFTER the filtering inside pieces = [<trimesh.Trimesh(vertices.shape=(442924, 3), faces.shape=(883241, 3))>, <trimesh.Trimesh(vertices.shape=(108008, 3), faces.shape=(215445, 3))>, <trimesh.Trimesh(vertices.shape=(75957, 3), faces.shape=(151431, 3))>, <trimesh.Trimesh(vertices.shape=(54061, 3), faces.shape=(107833, 3))>, <trimesh.Trimesh(vertices.shape=(42023, 3), faces.shape=(83820, 3))>, <trimesh.Trimesh(vertices.shape=(17933, 3), faces.shape=(35808, 3))>]\n",
      "Total Time for soma mesh cancellation = 11.88\n",
      "Total time for Subtract Soam = 11.881159782409668\n",
      "Total time for Original_mesh_faces_map for mesh_pieces without soma= 10.673430919647217\n",
      "Total time for Original_mesh_faces_map for somas= 2.340895652770996\n",
      "Total time for sig_non_soma_pieces= 23.250749111175537\n",
      "Total time for split= 0.031146526336669922\n",
      "Total time for mesh_pieces_connectivity= 48.59898567199707\n",
      "# of insignificant_limbs = 0 with trimesh : []\n"
     ]
    }
   ],
   "source": [
    "tu = reload(tu)\n",
    "#--- 3)  Soma Extraction was great (but it wasn't the original soma faces), so now need to get the original soma faces and the original non-soma faces of original pieces\n",
    "\n",
    "#     sk.graph_skeleton_and_mesh(other_meshes=[soma_meshes])\n",
    "\n",
    "\"\"\"\n",
    "for each soma touching mesh get the following:\n",
    "1) original soma meshes\n",
    "2) significant mesh pieces touching these somas\n",
    "3) The soma connectivity to each of the significant mesh pieces\n",
    "-- later will just translate the \n",
    "\n",
    "\n",
    "Process: \n",
    "\n",
    "1) Final all soma faces (through soma extraction and then soma original faces function)\n",
    "2) Subtact all soma faces from original mesh\n",
    "3) Find all significant mesh pieces\n",
    "4) Backtrack significant mesh pieces to orignal mesh and find connectivity of each to all\n",
    "   the available somas\n",
    "Conclusion: Will have connectivity map\n",
    "\n",
    "\n",
    "\"\"\"\n",
    "\n",
    "soma_touching_mesh_data = dict()\n",
    "\n",
    "for z,(mesh_idx, soma_idxes) in enumerate(soma_containing_meshes.items()):\n",
    "    soma_touching_mesh_data[z] = dict()\n",
    "    print(f\"\\n\\n----Working on soma-containing mesh piece {z}----\")\n",
    "\n",
    "    #1) Final all soma faces (through soma extraction and then soma original faces function)\n",
    "    current_mesh = split_meshes[mesh_idx]\n",
    "\n",
    "    current_soma_mesh_list = [soma_mesh_list[k] for k in soma_idxes]\n",
    "\n",
    "    current_time = time.time()\n",
    "    mesh_pieces_without_soma = sm.subtract_soma(current_soma_mesh_list,current_mesh,\n",
    "                                                significance_threshold=250)\n",
    "    print(f\"Total time for Subtract Soam = {time.time() - current_time}\")\n",
    "    current_time = time.time()\n",
    "\n",
    "    mesh_pieces_without_soma_stacked = tu.combine_meshes(mesh_pieces_without_soma)\n",
    "\n",
    "    # find the original soma faces of mesh\n",
    "    soma_faces = tu.original_mesh_faces_map(current_mesh,mesh_pieces_without_soma_stacked,matching=False)\n",
    "    print(f\"Total time for Original_mesh_faces_map for mesh_pieces without soma= {time.time() - current_time}\")\n",
    "    current_time = time.time()\n",
    "    soma_meshes = current_mesh.submesh([soma_faces],append=True,repair=False)\n",
    "\n",
    "    # finding the non-soma original faces\n",
    "    non_soma_faces = tu.original_mesh_faces_map(current_mesh,soma_meshes,matching=False)\n",
    "    non_soma_stacked_mesh = current_mesh.submesh([non_soma_faces],append=True,repair=False)\n",
    "\n",
    "    print(f\"Total time for Original_mesh_faces_map for somas= {time.time() - current_time}\")\n",
    "    current_time = time.time()\n",
    "\n",
    "    # 3) Find all significant mesh pieces\n",
    "    sig_non_soma_pieces,insignificant_limbs = tu.split_significant_pieces(non_soma_stacked_mesh,significance_threshold=limb_threshold,\n",
    "                                                     return_insignificant_pieces=True)\n",
    "\n",
    "    print(f\"Total time for sig_non_soma_pieces= {time.time() - current_time}\")\n",
    "    current_time = time.time()\n",
    "\n",
    "    soma_touching_mesh_data[z][\"branch_meshes\"] = sig_non_soma_pieces\n",
    "\n",
    "    #4) Backtrack significant mesh pieces to orignal mesh and find connectivity of each to all the available somas\n",
    "    # get all the seperate mesh faces\n",
    "\n",
    "    #How to seperate the mesh faces\n",
    "    seperate_soma_meshes,soma_face_components = tu.split(soma_meshes,only_watertight=False)\n",
    "    #take the top largest ones depending how many were originally in the soma list\n",
    "    seperate_soma_meshes = seperate_soma_meshes[:len(soma_mesh_list)]\n",
    "    soma_face_components = soma_face_components[:len(soma_mesh_list)]\n",
    "\n",
    "    soma_touching_mesh_data[z][\"soma_meshes\"] = seperate_soma_meshes\n",
    "\n",
    "    print(f\"Total time for split= {time.time() - current_time}\")\n",
    "    current_time = time.time()\n",
    "\n",
    "\n",
    "\n",
    "    soma_to_piece_connectivity = dict()\n",
    "    soma_to_piece_touching_vertices = dict()\n",
    "    soma_to_piece_touching_vertices_idx = dict()\n",
    "    limb_root_nodes = dict()\n",
    "    \n",
    "    m_vert_graph = tu.mesh_vertex_graph(current_mesh)\n",
    "    \n",
    "    for i,curr_soma in enumerate(seperate_soma_meshes):\n",
    "        (connected_mesh_pieces,\n",
    "         connected_mesh_pieces_vertices,\n",
    "         connected_mesh_pieces_vertices_idx) = tu.mesh_pieces_connectivity(\n",
    "                        main_mesh=current_mesh,\n",
    "                        central_piece=curr_soma,\n",
    "                        periphery_pieces = sig_non_soma_pieces,\n",
    "                        return_vertices = True,\n",
    "                        return_vertices_idx=True)\n",
    "        #print(f\"soma {i}: connected_mesh_pieces = {connected_mesh_pieces}\")\n",
    "        soma_to_piece_connectivity[i] = connected_mesh_pieces\n",
    "\n",
    "        soma_to_piece_touching_vertices[i] = dict()\n",
    "        for piece_index,piece_idx in enumerate(connected_mesh_pieces):\n",
    "            limb_root_nodes[piece_idx] = connected_mesh_pieces_vertices[piece_index][0]\n",
    "            \n",
    "            \"\"\" Old way of finding vertex connected components on a mesh without trimesh function\n",
    "            #find the number of touching groups and save those \n",
    "            soma_touching_graph = m_vert_graph.subgraph(connected_mesh_pieces_vertices_idx[piece_index])\n",
    "            soma_con_comp = [current_mesh.vertices[np.array(list(k)).astype(\"int\")] for k in list(nx.connected_components(soma_touching_graph))]\n",
    "            soma_to_piece_touching_vertices[i][piece_idx] = soma_con_comp\n",
    "            \"\"\"\n",
    "            \n",
    "            soma_to_piece_touching_vertices[i][piece_idx] = tu.split_vertex_list_into_connected_components(\n",
    "                                                vertex_indices_list=connected_mesh_pieces_vertices_idx[piece_index],\n",
    "                                                mesh=current_mesh, \n",
    "                                                vertex_graph=m_vert_graph, \n",
    "                                                return_coordinates=True\n",
    "                                               )\n",
    "            \n",
    "            \n",
    "            \n",
    "            \n",
    "\n",
    "#         border_debug = False\n",
    "#         if border_debug:\n",
    "#             print(f\"soma_to_piece_connectivity = {soma_to_piece_connectivity}\")\n",
    "#             print(f\"soma_to_piece_touching_vertices = {soma_to_piece_touching_vertices}\")\n",
    "\n",
    "\n",
    "    print(f\"Total time for mesh_pieces_connectivity= {time.time() - current_time}\")\n",
    "\n",
    "    soma_touching_mesh_data[z][\"soma_to_piece_connectivity\"] = soma_to_piece_connectivity\n",
    "\n",
    "print(f\"# of insignificant_limbs = {len(insignificant_limbs)} with trimesh : {insignificant_limbs}\")\n",
    "\n",
    "\n",
    "\n",
    "# Lets have an alert if there was more than one soma disconnected meshes\n",
    "if len(soma_touching_mesh_data.keys()) > 1:\n",
    "    raise Exception(\"More than 1 disconnected meshes that contain somas\")\n",
    "\n",
    "current_mesh_data = soma_touching_mesh_data\n",
    "soma_containing_idx = 0\n",
    "\n",
    "#doing inversion of the connectivity and touching vertices\n",
    "piece_to_soma_touching_vertices = gu.flip_key_orders_for_dict(soma_to_piece_touching_vertices)\n",
    "\n",
    "\n",
    "# ****Soma Touching mesh Data has the branches and the connectivity (So this is where you end up skipping if you don't have somas)***"
   ]
  },
  {
   "cell_type": "markdown",
   "metadata": {},
   "source": [
    "# Process that will start for each limb"
   ]
  },
  {
   "cell_type": "code",
   "execution_count": 12,
   "metadata": {},
   "outputs": [],
   "source": [
    "import preprocessing_vp2 as pre\n",
    "from copy import deepcopy\n"
   ]
  },
  {
   "cell_type": "code",
   "execution_count": 13,
   "metadata": {},
   "outputs": [],
   "source": [
    "proper_limb_mesh_correspondence_MAP = dict()\n",
    "proper_limb_mesh_correspondence_MP = dict()\n",
    "limb_to_endpoints_must_keep_list = dict()\n",
    "limb_to_soma_touching_vertices_list = dict()\n",
    "\n",
    "#The containers that will hold the final data for the preprocessed neuron\n",
    "limb_correspondence=dict()\n",
    "limb_concept_networks=dict()\n",
    "limb_labels=dict()"
   ]
  },
  {
   "cell_type": "code",
   "execution_count": 14,
   "metadata": {
    "scrolled": true
   },
   "outputs": [
    {
     "name": "stdout",
     "output_type": "stream",
     "text": [
      "\n",
      "\n",
      "----- Working on Proper Limb #0 ---------\n",
      "Time for preparing soma vertices and root: 0.0001671314239501953\n",
      "smooth_neighborhood = 1\n"
     ]
    },
    {
     "name": "stderr",
     "output_type": "stream",
     "text": [
      "\r",
      "  0%|          | 0/1 [00:00<?, ?it/s]"
     ]
    },
    {
     "data": {
      "application/vnd.jupyter.widget-view+json": {
       "model_id": "dc30002dc891492787e7351b3cfdc151",
       "version_major": 2,
       "version_minor": 0
      },
      "text/plain": [
       "HBox(children=(FloatProgress(value=0.0, max=442923.0), HTML(value='')))"
      ]
     },
     "metadata": {},
     "output_type": "display_data"
    },
    {
     "name": "stderr",
     "output_type": "stream",
     "text": [
      "100%|██████████| 1/1 [01:38<00:00, 98.46s/it]"
     ]
    },
    {
     "name": "stdout",
     "output_type": "stream",
     "text": [
      "\n"
     ]
    },
    {
     "name": "stderr",
     "output_type": "stream",
     "text": [
      "\n"
     ]
    },
    {
     "name": "stdout",
     "output_type": "stream",
     "text": [
      "Time for 1st pass MP skeletonization: 102.71653985977173\n"
     ]
    },
    {
     "name": "stderr",
     "output_type": "stream",
     "text": [
      "/meshAfterParty/meshparty_skeletonize.py:867: VisibleDeprecationWarning: Creating an ndarray from ragged nested sequences (which is a list-or-tuple of lists-or-tuples-or ndarrays with different lengths or shapes) is deprecated. If you meant to do this, you must specify 'dtype=object' when creating the ndarray\n",
      "  segment_branches = np.array([sk_meshparty_obj.vertices[np.vstack([k[:-1],k[1:]]).T] for k in segments])\n"
     ]
    },
    {
     "name": "stdout",
     "output_type": "stream",
     "text": [
      "branches_touching_root = [12]\n"
     ]
    },
    {
     "name": "stderr",
     "output_type": "stream",
     "text": [
      "/meshAfterParty/meshparty_skeletonize.py:928: VisibleDeprecationWarning: Creating an ndarray from ragged nested sequences (which is a list-or-tuple of lists-or-tuples-or ndarrays with different lengths or shapes) is deprecated. If you meant to do this, you must specify 'dtype=object' when creating the ndarray\n",
      "  segment_branches = np.array(new_segment_branches)\n"
     ]
    },
    {
     "name": "stdout",
     "output_type": "stream",
     "text": [
      "empty_indices % = 0.0\n",
      " conflict_indices % = 0.011054740438906255\n"
     ]
    },
    {
     "name": "stderr",
     "output_type": "stream",
     "text": [
      "/meshAfterParty/trimesh_utils.py:314: VisibleDeprecationWarning: Creating an ndarray from ragged nested sequences (which is a list-or-tuple of lists-or-tuples-or ndarrays with different lengths or shapes) is deprecated. If you meant to do this, you must specify 'dtype=object' when creating the ndarray\n",
      "  ordered_comp_indices = np.array([k.astype(\"int\") for k in ordered_components])\n"
     ]
    },
    {
     "data": {
      "application/vnd.jupyter.widget-view+json": {
       "model_id": "6362b6b08bcd4b9b9acc66e983694791",
       "version_major": 2,
       "version_minor": 0
      },
      "text/plain": [
       "HBox(children=(FloatProgress(value=0.0, max=212.0), HTML(value='')))"
      ]
     },
     "metadata": {},
     "output_type": "display_data"
    },
    {
     "name": "stdout",
     "output_type": "stream",
     "text": [
      "\n",
      "AFTER face_lookup_resolved_test\n"
     ]
    },
    {
     "data": {
      "application/vnd.jupyter.widget-view+json": {
       "model_id": "71da2b22d9784db4a3b15b21435d44fa",
       "version_major": 2,
       "version_minor": 0
      },
      "text/plain": [
       "HBox(children=(FloatProgress(value=0.0, max=451.0), HTML(value='')))"
      ]
     },
     "metadata": {},
     "output_type": "display_data"
    },
    {
     "name": "stdout",
     "output_type": "stream",
     "text": [
      "\n",
      "Decomposing first pass: 25.442485332489014\n",
      "Found len(mesh_large_idx) MAP candidates: [462, 7008, 979, 4299, 4257, 357, 2926, 662, 41, 4428, 773, 25, 101, 28, 149, 3584, 1129, 21]\n"
     ]
    },
    {
     "name": "stderr",
     "output_type": "stream",
     "text": [
      "/meshAfterParty/trimesh_utils.py:968: VisibleDeprecationWarning: Creating an ndarray from ragged nested sequences (which is a list-or-tuple of lists-or-tuples-or ndarrays with different lengths or shapes) is deprecated. If you meant to do this, you must specify 'dtype=object' when creating the ndarray\n",
      "  total_submeshes_idx =np.array(list(total_submeshes_idx.values()))\n"
     ]
    },
    {
     "name": "stdout",
     "output_type": "stream",
     "text": [
      "mesh_large_connectivity: 0.6473715305328369\n",
      "Finding MAP candidates connected components: 0.0003273487091064453\n",
      "len(filtered_pieces) = 5\n",
      "skeleton_connectivity_MP : 3.9667060375213623\n",
      "Grouping MP Sublimbs by Graph: 0.6956961154937744\n",
      "Divinding into MP and MAP pieces: 1.9073486328125e-06\n",
      "--- Working on MAP piece 0---\n",
      "MAP Filtering Soma Pieces: 0.004388093948364258\n",
      "inside skeletonize_connected_branch and use_surface_after_CGAL=False, surface_reconstruction_size=500\n",
      "     Starting Screened Poisson\n",
      "xvfb-run -n 4894 -s \"-screen 0 800x600x24\" meshlabserver $@  -i /notebooks/Platinum_Decomp_Fusion/temp/None.off -o /notebooks/Platinum_Decomp_Fusion/temp/None_poisson.off -s /notebooks/Platinum_Decomp_Fusion/temp/poisson_192894.mls\n",
      "removed temporary input file: /notebooks/Platinum_Decomp_Fusion/temp/None.off\n",
      "removed temporary output file: /notebooks/Platinum_Decomp_Fusion/temp/None_poisson.off\n",
      "Using the close holes feature\n",
      "xvfb-run -n 4930 -s \"-screen 0 800x600x24\" meshlabserver $@  -i /notebooks/Platinum_Decomp_Fusion/temp/neuron_49945.off -o /notebooks/Platinum_Decomp_Fusion/temp/neuron_49945_fill_holes.off -s /notebooks/Platinum_Decomp_Fusion/temp/fill_holes_252737.mls\n",
      "removed temporary input file: /notebooks/Platinum_Decomp_Fusion/temp/neuron_49945.off\n",
      "removed temporary output file: /notebooks/Platinum_Decomp_Fusion/temp/neuron_49945_fill_holes.off\n",
      "-----Time for Screened Poisson= 7.908259391784668\n",
      "     Starting Calcification\n",
      "Before mesh subtraction number of skeleton edges = 99\n",
      "Inside mesh subtraction, len(main_mesh_bbox_restricted.faces) = 8411\n"
     ]
    },
    {
     "data": {
      "application/vnd.jupyter.widget-view+json": {
       "model_id": "01d84b6d848446b0a8ecd1df381ac348",
       "version_major": 2,
       "version_minor": 0
      },
      "text/plain": [
       "HBox(children=(FloatProgress(value=1.0, bar_style='info', layout=Layout(width='20px'), max=1.0), HTML(value=''…"
      ]
     },
     "metadata": {},
     "output_type": "display_data"
    },
    {
     "name": "stdout",
     "output_type": "stream",
     "text": [
      "\n",
      "Total Mesh subtraction time = 0.4678\n"
     ]
    },
    {
     "data": {
      "application/vnd.jupyter.widget-view+json": {
       "model_id": "e3f35b9ffec1440fa7f5fd1d1a3160d1",
       "version_major": 2,
       "version_minor": 0
      },
      "text/plain": [
       "HBox(children=(FloatProgress(value=1.0, bar_style='info', layout=Layout(width='20px'), max=1.0), HTML(value=''…"
      ]
     },
     "metadata": {},
     "output_type": "display_data"
    },
    {
     "name": "stdout",
     "output_type": "stream",
     "text": [
      "\n",
      "No skeletons to stack so returning empty list\n",
      "len_subgraphs AT BEGINNING of the loop\n"
     ]
    },
    {
     "data": {
      "application/vnd.jupyter.widget-view+json": {
       "model_id": "e510ac8d042f437092c734477e3ad359",
       "version_major": 2,
       "version_minor": 0
      },
      "text/plain": [
       "HBox(children=(FloatProgress(value=0.0, max=1.0), HTML(value='')))"
      ]
     },
     "metadata": {},
     "output_type": "display_data"
    },
    {
     "name": "stdout",
     "output_type": "stream",
     "text": [
      "all graph is one component!\n",
      "\n",
      "Total time for skeleton stitching = 0.023450851440429688\n",
      "The process was using a temp folder\n",
      "    Total time for skeletonizing branch: 9.202630758285522\n",
      "skipping soma 0 because closest skeleton node was already end node\n",
      "    Total time for Fixing Skeleton Soma Endpoint Extension : 0.3184325695037842\n",
      "filter_end_node_length = 4001\n",
      "Using Distance measure skeletal_distance\n",
      "Going to ignore certain endnodes that are 5000 nm close to soma border vertices\n",
      "Number of end_nodes BEFORE filtering = 2\n",
      "Using an already specified end node: 42 with index 1checking was correct node end_nodes[index] = 42\n",
      "May Eliminate end_node 1: 42 because path_len to soma border was 1768.522500081368\n",
      "single_node_to_eliminate = 1\n",
      "all_single_nodes_to_eliminate = [1, 1]\n",
      "no small end nodes to get rid of so returning whole skeleton\n",
      "********COMBINING CLOSE SKELETON NODES WITHIN 700 DISTANCE**********\n",
      "Found 0 valid paths to replace\n",
      "valid_paths = []\n",
      "valid_path_lengths = []\n",
      "No valid paths found so just returning the original\n",
      "skeletonize_and_clean_connected_branch_CGAL: 9.617188930511475\n",
      "Working on limb correspondence for #0 MAP piece\n"
     ]
    },
    {
     "data": {
      "application/vnd.jupyter.widget-view+json": {
       "model_id": "8875b149ff784ff7b849b108b497b9a1",
       "version_major": 2,
       "version_minor": 0
      },
      "text/plain": [
       "HBox(children=(FloatProgress(value=1.0, bar_style='info', layout=Layout(width='20px'), max=1.0), HTML(value=''…"
      ]
     },
     "metadata": {},
     "output_type": "display_data"
    },
    {
     "name": "stdout",
     "output_type": "stream",
     "text": [
      "\n",
      "Total time for decomposition = 0.6270768642425537\n",
      "mesh_correspondence_first_pass: 0.627110481262207\n",
      "Limb decomposed into 1 branches\n",
      "divided_skeleton_graph_recovered = (98, 2, 3) and \n",
      "current_mesh_data[0]['branch_skeletons_cleaned'].shape = (98, 2, 3)\n",
      "\n",
      "Number of connected components in deocmposed recovered graph = 1\n",
      "Number of connected components in cleaned skeleton graph= 1\n",
      "The downsampled branches number of connected components = 1\n",
      "Empty submeshes = []\n",
      "\n",
      "\n",
      "--- Working on 1-to-1 correspondence-----\n",
      "max(original_labels),len(original_labels) = (0, 1)\n",
      "empty_indices % = 0.04521245117765416\n",
      " conflict_indices % = 0.0\n"
     ]
    },
    {
     "data": {
      "application/vnd.jupyter.widget-view+json": {
       "model_id": "82f8dcdedaa14c6bbf4d6770d2f1b2f1",
       "version_major": 2,
       "version_minor": 0
      },
      "text/plain": [
       "HBox(children=(FloatProgress(value=0.0, max=3.0), HTML(value='')))"
      ]
     },
     "metadata": {},
     "output_type": "display_data"
    },
    {
     "name": "stdout",
     "output_type": "stream",
     "text": [
      "\n",
      "AFTER face_lookup_resolved_test\n",
      "Took 0 iterations to expand the label back\n"
     ]
    },
    {
     "data": {
      "application/vnd.jupyter.widget-view+json": {
       "model_id": "fd90ead6955744b3b6bb8cc7da383898",
       "version_major": 2,
       "version_minor": 0
      },
      "text/plain": [
       "HBox(children=(FloatProgress(value=0.0, max=1.0), HTML(value='')))"
      ]
     },
     "metadata": {},
     "output_type": "display_data"
    },
    {
     "name": "stdout",
     "output_type": "stream",
     "text": [
      "\n",
      "Total time for MAP sublimb #0 mesh processing = 10.453898668289185\n",
      "correspondence_1_to_1: 0.20507001876831055\n",
      "--- Working on MAP piece 1---\n",
      "MAP Filtering Soma Pieces: 0.002934694290161133\n",
      "inside skeletonize_connected_branch and use_surface_after_CGAL=False, surface_reconstruction_size=500\n",
      "     Starting Screened Poisson\n",
      "xvfb-run -n 3685 -s \"-screen 0 800x600x24\" meshlabserver $@  -i /notebooks/Platinum_Decomp_Fusion/temp/None.off -o /notebooks/Platinum_Decomp_Fusion/temp/None_poisson.off -s /notebooks/Platinum_Decomp_Fusion/temp/poisson_833663.mls\n",
      "removed temporary input file: /notebooks/Platinum_Decomp_Fusion/temp/None.off\n",
      "removed temporary output file: /notebooks/Platinum_Decomp_Fusion/temp/None_poisson.off\n",
      "Using the close holes feature\n",
      "xvfb-run -n 9087 -s \"-screen 0 800x600x24\" meshlabserver $@  -i /notebooks/Platinum_Decomp_Fusion/temp/neuron_71658.off -o /notebooks/Platinum_Decomp_Fusion/temp/neuron_71658_fill_holes.off -s /notebooks/Platinum_Decomp_Fusion/temp/fill_holes_929224.mls\n",
      "removed temporary input file: /notebooks/Platinum_Decomp_Fusion/temp/neuron_71658.off\n",
      "removed temporary output file: /notebooks/Platinum_Decomp_Fusion/temp/neuron_71658_fill_holes.off\n",
      "-----Time for Screened Poisson= 7.899348258972168\n",
      "     Starting Calcification\n",
      "Before mesh subtraction number of skeleton edges = 123\n",
      "Inside mesh subtraction, len(main_mesh_bbox_restricted.faces) = 8556\n"
     ]
    },
    {
     "data": {
      "application/vnd.jupyter.widget-view+json": {
       "model_id": "d71af54dad8b4af593c2515ec6956f92",
       "version_major": 2,
       "version_minor": 0
      },
      "text/plain": [
       "HBox(children=(FloatProgress(value=1.0, bar_style='info', layout=Layout(width='20px'), max=1.0), HTML(value=''…"
      ]
     },
     "metadata": {},
     "output_type": "display_data"
    },
    {
     "name": "stdout",
     "output_type": "stream",
     "text": [
      "\n",
      "Total Mesh subtraction time = 0.5573\n"
     ]
    },
    {
     "data": {
      "application/vnd.jupyter.widget-view+json": {
       "model_id": "fce94fdbd3df4e4fbc9b58ae8cdb17c5",
       "version_major": 2,
       "version_minor": 0
      },
      "text/plain": [
       "HBox(children=(FloatProgress(value=1.0, bar_style='info', layout=Layout(width='20px'), max=1.0), HTML(value=''…"
      ]
     },
     "metadata": {},
     "output_type": "display_data"
    },
    {
     "name": "stdout",
     "output_type": "stream",
     "text": [
      "\n",
      "No skeletons to stack so returning empty list\n",
      "len_subgraphs AT BEGINNING of the loop\n"
     ]
    },
    {
     "data": {
      "application/vnd.jupyter.widget-view+json": {
       "model_id": "ba70d10dbff34b2cb62862f804aa8cd9",
       "version_major": 2,
       "version_minor": 0
      },
      "text/plain": [
       "HBox(children=(FloatProgress(value=0.0, max=1.0), HTML(value='')))"
      ]
     },
     "metadata": {},
     "output_type": "display_data"
    },
    {
     "name": "stdout",
     "output_type": "stream",
     "text": [
      "all graph is one component!\n",
      "\n",
      "Total time for skeleton stitching = 0.02436232566833496\n",
      "The process was using a temp folder\n",
      "    Total time for skeletonizing branch: 9.293156147003174\n",
      "    Total time for Fixing Skeleton Soma Endpoint Extension : 1.9073486328125e-06\n",
      "filter_end_node_length = 4001\n",
      "Using Distance measure skeletal_distance\n",
      "Going to ignore certain endnodes that are 5000 nm close to soma border vertices\n",
      "Number of end_nodes BEFORE filtering = 4\n",
      "May Eliminate end_node 2: 32 because path_len to soma border was 494.87257054585086\n",
      "single_node_to_eliminate = 2\n",
      "all_single_nodes_to_eliminate = [2]\n"
     ]
    },
    {
     "data": {
      "application/vnd.jupyter.widget-view+json": {
       "model_id": "3c50412129bb4cc29ba4a84e7a2797b8",
       "version_major": 2,
       "version_minor": 0
      },
      "text/plain": [
       "HBox(children=(FloatProgress(value=0.0, max=2.0), HTML(value='')))"
      ]
     },
     "metadata": {},
     "output_type": "display_data"
    },
    {
     "name": "stdout",
     "output_type": "stream",
     "text": [
      "\n",
      "after DISTANCE cleaning limb size of skeleton = (120, 2, 3)\n",
      "********COMBINING CLOSE SKELETON NODES WITHIN 700 DISTANCE**********\n",
      "Found 0 valid paths to replace\n",
      "valid_paths = []\n",
      "valid_path_lengths = []\n",
      "No valid paths found so just returning the original\n",
      "Inside MAP decomposition and curr_limb_endpoints_must_keep was None\n",
      "skeletonize_and_clean_connected_branch_CGAL: 9.491648435592651\n",
      "Working on limb correspondence for #1 MAP piece\n"
     ]
    },
    {
     "data": {
      "application/vnd.jupyter.widget-view+json": {
       "model_id": "76dfe8aa629b4ad58fdacd67ca0f52c6",
       "version_major": 2,
       "version_minor": 0
      },
      "text/plain": [
       "HBox(children=(FloatProgress(value=1.0, bar_style='info', layout=Layout(width='20px'), max=1.0), HTML(value=''…"
      ]
     },
     "metadata": {},
     "output_type": "display_data"
    },
    {
     "name": "stdout",
     "output_type": "stream",
     "text": [
      "\n",
      "Total time for decomposition = 0.7661716938018799\n",
      "mesh_correspondence_first_pass: 0.7662043571472168\n",
      "Limb decomposed into 1 branches\n",
      "divided_skeleton_graph_recovered = (120, 2, 3) and \n",
      "current_mesh_data[0]['branch_skeletons_cleaned'].shape = (120, 2, 3)\n",
      "\n",
      "Number of connected components in deocmposed recovered graph = 1\n",
      "Number of connected components in cleaned skeleton graph= 1\n",
      "The downsampled branches number of connected components = 1\n",
      "Empty submeshes = []\n",
      "\n",
      "\n",
      "--- Working on 1-to-1 correspondence-----\n",
      "max(original_labels),len(original_labels) = (0, 1)\n",
      "empty_indices % = 0.0032725572697522207\n",
      " conflict_indices % = 0.0\n"
     ]
    },
    {
     "data": {
      "application/vnd.jupyter.widget-view+json": {
       "model_id": "7c541cb9076c4ed3a31cbcfe6201d872",
       "version_major": 2,
       "version_minor": 0
      },
      "text/plain": [
       "HBox(children=(FloatProgress(value=0.0, max=2.0), HTML(value='')))"
      ]
     },
     "metadata": {},
     "output_type": "display_data"
    },
    {
     "name": "stdout",
     "output_type": "stream",
     "text": [
      "\n",
      "AFTER face_lookup_resolved_test\n"
     ]
    },
    {
     "data": {
      "application/vnd.jupyter.widget-view+json": {
       "model_id": "d4d21b2df23747609c1d5cfe26aaf0cb",
       "version_major": 2,
       "version_minor": 0
      },
      "text/plain": [
       "HBox(children=(FloatProgress(value=0.0, max=1.0), HTML(value='')))"
      ]
     },
     "metadata": {},
     "output_type": "display_data"
    },
    {
     "name": "stdout",
     "output_type": "stream",
     "text": [
      "\n",
      "Total time for MAP sublimb #1 mesh processing = 10.408507823944092\n",
      "correspondence_1_to_1: 0.1476917266845703\n",
      "--- Working on MAP piece 2---\n",
      "MAP Filtering Soma Pieces: 0.0019538402557373047\n",
      "inside skeletonize_connected_branch and use_surface_after_CGAL=False, surface_reconstruction_size=500\n",
      "     Starting Screened Poisson\n",
      "xvfb-run -n 2616 -s \"-screen 0 800x600x24\" meshlabserver $@  -i /notebooks/Platinum_Decomp_Fusion/temp/None.off -o /notebooks/Platinum_Decomp_Fusion/temp/None_poisson.off -s /notebooks/Platinum_Decomp_Fusion/temp/poisson_77337.mls\n",
      "removed temporary input file: /notebooks/Platinum_Decomp_Fusion/temp/None.off\n",
      "removed temporary output file: /notebooks/Platinum_Decomp_Fusion/temp/None_poisson.off\n",
      "Using the close holes feature\n",
      "xvfb-run -n 7376 -s \"-screen 0 800x600x24\" meshlabserver $@  -i /notebooks/Platinum_Decomp_Fusion/temp/neuron_8896.off -o /notebooks/Platinum_Decomp_Fusion/temp/neuron_8896_fill_holes.off -s /notebooks/Platinum_Decomp_Fusion/temp/fill_holes_754643.mls\n",
      "removed temporary input file: /notebooks/Platinum_Decomp_Fusion/temp/neuron_8896.off\n",
      "removed temporary output file: /notebooks/Platinum_Decomp_Fusion/temp/neuron_8896_fill_holes.off\n",
      "-----Time for Screened Poisson= 6.061949729919434\n",
      "     Starting Calcification\n",
      "Before mesh subtraction number of skeleton edges = 20\n",
      "Inside mesh subtraction, len(main_mesh_bbox_restricted.faces) = 882\n"
     ]
    },
    {
     "data": {
      "application/vnd.jupyter.widget-view+json": {
       "model_id": "d224a6cd639d44a79757c030a1f5bdfe",
       "version_major": 2,
       "version_minor": 0
      },
      "text/plain": [
       "HBox(children=(FloatProgress(value=1.0, bar_style='info', layout=Layout(width='20px'), max=1.0), HTML(value=''…"
      ]
     },
     "metadata": {},
     "output_type": "display_data"
    },
    {
     "name": "stdout",
     "output_type": "stream",
     "text": [
      "\n",
      "Total Mesh subtraction time = 0.1425\n"
     ]
    },
    {
     "data": {
      "application/vnd.jupyter.widget-view+json": {
       "model_id": "181f4564cb8f4b52b768a8927a30148c",
       "version_major": 2,
       "version_minor": 0
      },
      "text/plain": [
       "HBox(children=(FloatProgress(value=1.0, bar_style='info', layout=Layout(width='20px'), max=1.0), HTML(value=''…"
      ]
     },
     "metadata": {},
     "output_type": "display_data"
    },
    {
     "name": "stdout",
     "output_type": "stream",
     "text": [
      "\n",
      "No skeletons to stack so returning empty list\n",
      "len_subgraphs AT BEGINNING of the loop\n"
     ]
    },
    {
     "data": {
      "application/vnd.jupyter.widget-view+json": {
       "model_id": "c775c5237a1445ada8f745f6b9fe7a25",
       "version_major": 2,
       "version_minor": 0
      },
      "text/plain": [
       "HBox(children=(FloatProgress(value=0.0, max=1.0), HTML(value='')))"
      ]
     },
     "metadata": {},
     "output_type": "display_data"
    },
    {
     "name": "stdout",
     "output_type": "stream",
     "text": [
      "all graph is one component!\n",
      "\n",
      "Total time for skeleton stitching = 0.02852606773376465\n",
      "The process was using a temp folder\n",
      "    Total time for skeletonizing branch: 6.6577253341674805\n",
      "    Total time for Fixing Skeleton Soma Endpoint Extension : 2.6226043701171875e-06\n",
      "filter_end_node_length = 4001\n",
      "Using Distance measure skeletal_distance\n",
      "Going to ignore certain endnodes that are 5000 nm close to soma border vertices\n",
      "Number of end_nodes BEFORE filtering = 2\n",
      "May Eliminate end_node 0: 2 because path_len to soma border was 1328.6486680565697\n",
      "single_node_to_eliminate = 0\n",
      "all_single_nodes_to_eliminate = [0]\n",
      "no small end nodes to get rid of so returning whole skeleton\n",
      "after DISTANCE cleaning limb size of skeleton = (19, 2, 3)\n",
      "********COMBINING CLOSE SKELETON NODES WITHIN 700 DISTANCE**********\n",
      "Found 0 valid paths to replace\n",
      "valid_paths = []\n",
      "valid_path_lengths = []\n",
      "No valid paths found so just returning the original\n",
      "Inside MAP decomposition and curr_limb_endpoints_must_keep was None\n",
      "skeletonize_and_clean_connected_branch_CGAL: 6.729771852493286\n",
      "Working on limb correspondence for #2 MAP piece\n"
     ]
    },
    {
     "data": {
      "application/vnd.jupyter.widget-view+json": {
       "model_id": "fde51163a43946178110b7e169370ed2",
       "version_major": 2,
       "version_minor": 0
      },
      "text/plain": [
       "HBox(children=(FloatProgress(value=1.0, bar_style='info', layout=Layout(width='20px'), max=1.0), HTML(value=''…"
      ]
     },
     "metadata": {},
     "output_type": "display_data"
    },
    {
     "name": "stdout",
     "output_type": "stream",
     "text": [
      "\n",
      "Total time for decomposition = 0.19667911529541016\n",
      "mesh_correspondence_first_pass: 0.19675993919372559\n",
      "Limb decomposed into 1 branches\n",
      "divided_skeleton_graph_recovered = (19, 2, 3) and \n",
      "current_mesh_data[0]['branch_skeletons_cleaned'].shape = (19, 2, 3)\n",
      "\n",
      "Number of connected components in deocmposed recovered graph = 1\n",
      "Number of connected components in cleaned skeleton graph= 1\n",
      "The downsampled branches number of connected components = 1\n",
      "Empty submeshes = []\n",
      "\n",
      "\n",
      "--- Working on 1-to-1 correspondence-----\n",
      "max(original_labels),len(original_labels) = (0, 1)\n",
      "empty_indices % = 0.20642515379357484\n",
      " conflict_indices % = 0.0\n"
     ]
    },
    {
     "data": {
      "application/vnd.jupyter.widget-view+json": {
       "model_id": "eaefb7d411064beb82a6ccc0758c1a80",
       "version_major": 2,
       "version_minor": 0
      },
      "text/plain": [
       "HBox(children=(FloatProgress(value=0.0, max=2.0), HTML(value='')))"
      ]
     },
     "metadata": {},
     "output_type": "display_data"
    },
    {
     "name": "stdout",
     "output_type": "stream",
     "text": [
      "\n",
      "AFTER face_lookup_resolved_test\n"
     ]
    },
    {
     "data": {
      "application/vnd.jupyter.widget-view+json": {
       "model_id": "7616097c7a7243399c6047ebfe7f8dd9",
       "version_major": 2,
       "version_minor": 0
      },
      "text/plain": [
       "HBox(children=(FloatProgress(value=0.0, max=1.0), HTML(value='')))"
      ]
     },
     "metadata": {},
     "output_type": "display_data"
    },
    {
     "name": "stdout",
     "output_type": "stream",
     "text": [
      "\n",
      "Total time for MAP sublimb #2 mesh processing = 7.020800590515137\n",
      "correspondence_1_to_1: 0.09221124649047852\n",
      "--- Working on MAP piece 3---\n",
      "MAP Filtering Soma Pieces: 0.003563404083251953\n",
      "inside skeletonize_connected_branch and use_surface_after_CGAL=False, surface_reconstruction_size=500\n",
      "     Starting Screened Poisson\n",
      "xvfb-run -n 703 -s \"-screen 0 800x600x24\" meshlabserver $@  -i /notebooks/Platinum_Decomp_Fusion/temp/None.off -o /notebooks/Platinum_Decomp_Fusion/temp/None_poisson.off -s /notebooks/Platinum_Decomp_Fusion/temp/poisson_585373.mls\n",
      "removed temporary input file: /notebooks/Platinum_Decomp_Fusion/temp/None.off\n",
      "removed temporary output file: /notebooks/Platinum_Decomp_Fusion/temp/None_poisson.off\n",
      "Using the close holes feature\n",
      "xvfb-run -n 2933 -s \"-screen 0 800x600x24\" meshlabserver $@  -i /notebooks/Platinum_Decomp_Fusion/temp/neuron_87937.off -o /notebooks/Platinum_Decomp_Fusion/temp/neuron_87937_fill_holes.off -s /notebooks/Platinum_Decomp_Fusion/temp/fill_holes_579120.mls\n",
      "removed temporary input file: /notebooks/Platinum_Decomp_Fusion/temp/neuron_87937.off\n",
      "removed temporary output file: /notebooks/Platinum_Decomp_Fusion/temp/neuron_87937_fill_holes.off\n",
      "-----Time for Screened Poisson= 6.991176128387451\n",
      "     Starting Calcification\n",
      "Before mesh subtraction number of skeleton edges = 59\n",
      "Inside mesh subtraction, len(main_mesh_bbox_restricted.faces) = 4428\n"
     ]
    },
    {
     "data": {
      "application/vnd.jupyter.widget-view+json": {
       "model_id": "4ac8c9d6d6f54530a2c72acea5f53b86",
       "version_major": 2,
       "version_minor": 0
      },
      "text/plain": [
       "HBox(children=(FloatProgress(value=1.0, bar_style='info', layout=Layout(width='20px'), max=1.0), HTML(value=''…"
      ]
     },
     "metadata": {},
     "output_type": "display_data"
    },
    {
     "name": "stdout",
     "output_type": "stream",
     "text": [
      "\n",
      "Total Mesh subtraction time = 0.275\n"
     ]
    },
    {
     "data": {
      "application/vnd.jupyter.widget-view+json": {
       "model_id": "f9275f9141c14991b52ce4ad65233f8b",
       "version_major": 2,
       "version_minor": 0
      },
      "text/plain": [
       "HBox(children=(FloatProgress(value=1.0, bar_style='info', layout=Layout(width='20px'), max=1.0), HTML(value=''…"
      ]
     },
     "metadata": {},
     "output_type": "display_data"
    },
    {
     "name": "stdout",
     "output_type": "stream",
     "text": [
      "\n",
      "No skeletons to stack so returning empty list\n",
      "len_subgraphs AT BEGINNING of the loop\n"
     ]
    },
    {
     "data": {
      "application/vnd.jupyter.widget-view+json": {
       "model_id": "9fe5819e891b4bedae970f29809d0b58",
       "version_major": 2,
       "version_minor": 0
      },
      "text/plain": [
       "HBox(children=(FloatProgress(value=0.0, max=1.0), HTML(value='')))"
      ]
     },
     "metadata": {},
     "output_type": "display_data"
    },
    {
     "name": "stdout",
     "output_type": "stream",
     "text": [
      "all graph is one component!\n",
      "\n",
      "Total time for skeleton stitching = 0.022881031036376953\n",
      "The process was using a temp folder\n",
      "    Total time for skeletonizing branch: 7.722182989120483\n",
      "    Total time for Fixing Skeleton Soma Endpoint Extension : 1.9073486328125e-06\n",
      "filter_end_node_length = 4001\n",
      "Using Distance measure skeletal_distance\n",
      "Going to ignore certain endnodes that are 5000 nm close to soma border vertices\n",
      "Number of end_nodes BEFORE filtering = 3\n",
      "May Eliminate end_node 2: 58 because path_len to soma border was 1050.151040511574\n",
      "single_node_to_eliminate = 2\n",
      "all_single_nodes_to_eliminate = [2]\n"
     ]
    },
    {
     "data": {
      "application/vnd.jupyter.widget-view+json": {
       "model_id": "d5b3eefdd69d4b4c886759de8116b25c",
       "version_major": 2,
       "version_minor": 0
      },
      "text/plain": [
       "HBox(children=(FloatProgress(value=0.0, max=2.0), HTML(value='')))"
      ]
     },
     "metadata": {},
     "output_type": "display_data"
    },
    {
     "name": "stdout",
     "output_type": "stream",
     "text": [
      "\n",
      "after DISTANCE cleaning limb size of skeleton = (57, 2, 3)\n",
      "********COMBINING CLOSE SKELETON NODES WITHIN 700 DISTANCE**********\n",
      "Found 0 valid paths to replace\n",
      "valid_paths = []\n",
      "valid_path_lengths = []\n",
      "No valid paths found so just returning the original\n",
      "Inside MAP decomposition and curr_limb_endpoints_must_keep was None\n",
      "skeletonize_and_clean_connected_branch_CGAL: 7.855803966522217\n",
      "Working on limb correspondence for #3 MAP piece\n"
     ]
    },
    {
     "data": {
      "application/vnd.jupyter.widget-view+json": {
       "model_id": "aa419e730cf04097a644395833811ed4",
       "version_major": 2,
       "version_minor": 0
      },
      "text/plain": [
       "HBox(children=(FloatProgress(value=1.0, bar_style='info', layout=Layout(width='20px'), max=1.0), HTML(value=''…"
      ]
     },
     "metadata": {},
     "output_type": "display_data"
    },
    {
     "name": "stdout",
     "output_type": "stream",
     "text": [
      "\n",
      "Total time for decomposition = 0.39124298095703125\n",
      "mesh_correspondence_first_pass: 0.39127540588378906\n",
      "Limb decomposed into 1 branches\n",
      "divided_skeleton_graph_recovered = (57, 2, 3) and \n",
      "current_mesh_data[0]['branch_skeletons_cleaned'].shape = (57, 2, 3)\n",
      "\n",
      "Number of connected components in deocmposed recovered graph = 1\n",
      "Number of connected components in cleaned skeleton graph= 1\n",
      "The downsampled branches number of connected components = 1\n",
      "Empty submeshes = []\n",
      "\n",
      "\n",
      "--- Working on 1-to-1 correspondence-----\n",
      "max(original_labels),len(original_labels) = (0, 1)\n",
      "empty_indices % = 0.026196928635953028\n",
      " conflict_indices % = 0.0\n"
     ]
    },
    {
     "data": {
      "application/vnd.jupyter.widget-view+json": {
       "model_id": "1616d2369a3348a7ac3f41f4ff81321a",
       "version_major": 2,
       "version_minor": 0
      },
      "text/plain": [
       "HBox(children=(FloatProgress(value=0.0, max=1.0), HTML(value='')))"
      ]
     },
     "metadata": {},
     "output_type": "display_data"
    },
    {
     "name": "stdout",
     "output_type": "stream",
     "text": [
      "\n",
      "AFTER face_lookup_resolved_test\n"
     ]
    },
    {
     "data": {
      "application/vnd.jupyter.widget-view+json": {
       "model_id": "661b6625750d4d5eb67596dc8e4304ae",
       "version_major": 2,
       "version_minor": 0
      },
      "text/plain": [
       "HBox(children=(FloatProgress(value=0.0, max=1.0), HTML(value='')))"
      ]
     },
     "metadata": {},
     "output_type": "display_data"
    },
    {
     "name": "stdout",
     "output_type": "stream",
     "text": [
      "\n",
      "Total time for MAP sublimb #3 mesh processing = 8.354117393493652\n",
      "correspondence_1_to_1: 0.10345721244812012\n",
      "--- Working on MAP piece 4---\n",
      "MAP Filtering Soma Pieces: 0.003947019577026367\n",
      "inside skeletonize_connected_branch and use_surface_after_CGAL=False, surface_reconstruction_size=500\n",
      "     Starting Screened Poisson\n",
      "xvfb-run -n 2600 -s \"-screen 0 800x600x24\" meshlabserver $@  -i /notebooks/Platinum_Decomp_Fusion/temp/None.off -o /notebooks/Platinum_Decomp_Fusion/temp/None_poisson.off -s /notebooks/Platinum_Decomp_Fusion/temp/poisson_214808.mls\n",
      "removed temporary input file: /notebooks/Platinum_Decomp_Fusion/temp/None.off\n",
      "removed temporary output file: /notebooks/Platinum_Decomp_Fusion/temp/None_poisson.off\n",
      "Using the close holes feature\n",
      "xvfb-run -n 1721 -s \"-screen 0 800x600x24\" meshlabserver $@  -i /notebooks/Platinum_Decomp_Fusion/temp/neuron_7902.off -o /notebooks/Platinum_Decomp_Fusion/temp/neuron_7902_fill_holes.off -s /notebooks/Platinum_Decomp_Fusion/temp/fill_holes_542902.mls\n",
      "removed temporary input file: /notebooks/Platinum_Decomp_Fusion/temp/neuron_7902.off\n",
      "removed temporary output file: /notebooks/Platinum_Decomp_Fusion/temp/neuron_7902_fill_holes.off\n",
      "-----Time for Screened Poisson= 6.349241018295288\n",
      "     Starting Calcification\n",
      "Before mesh subtraction number of skeleton edges = 67\n",
      "Inside mesh subtraction, len(main_mesh_bbox_restricted.faces) = 4713\n"
     ]
    },
    {
     "data": {
      "application/vnd.jupyter.widget-view+json": {
       "model_id": "9df0fa7c19664f898d9dfd672a7b7209",
       "version_major": 2,
       "version_minor": 0
      },
      "text/plain": [
       "HBox(children=(FloatProgress(value=1.0, bar_style='info', layout=Layout(width='20px'), max=1.0), HTML(value=''…"
      ]
     },
     "metadata": {},
     "output_type": "display_data"
    },
    {
     "name": "stdout",
     "output_type": "stream",
     "text": [
      "\n",
      "Total Mesh subtraction time = 0.3219\n"
     ]
    },
    {
     "data": {
      "application/vnd.jupyter.widget-view+json": {
       "model_id": "0361fe0895ae4b0783056411a53b1173",
       "version_major": 2,
       "version_minor": 0
      },
      "text/plain": [
       "HBox(children=(FloatProgress(value=1.0, bar_style='info', layout=Layout(width='20px'), max=1.0), HTML(value=''…"
      ]
     },
     "metadata": {},
     "output_type": "display_data"
    },
    {
     "name": "stdout",
     "output_type": "stream",
     "text": [
      "\n",
      "No skeletons to stack so returning empty list\n",
      "len_subgraphs AT BEGINNING of the loop\n"
     ]
    },
    {
     "data": {
      "application/vnd.jupyter.widget-view+json": {
       "model_id": "1dc4eff2ac684515a914e5a8b0ab9dd0",
       "version_major": 2,
       "version_minor": 0
      },
      "text/plain": [
       "HBox(children=(FloatProgress(value=0.0, max=1.0), HTML(value='')))"
      ]
     },
     "metadata": {},
     "output_type": "display_data"
    },
    {
     "name": "stdout",
     "output_type": "stream",
     "text": [
      "all graph is one component!\n",
      "\n",
      "Total time for skeleton stitching = 0.022639989852905273\n",
      "The process was using a temp folder\n",
      "    Total time for skeletonizing branch: 7.186711311340332\n",
      "    Total time for Fixing Skeleton Soma Endpoint Extension : 1.6689300537109375e-06\n",
      "filter_end_node_length = 4001\n",
      "Using Distance measure skeletal_distance\n",
      "Going to ignore certain endnodes that are 5000 nm close to soma border vertices\n",
      "Number of end_nodes BEFORE filtering = 2\n",
      "No close endpoints to choose from for elimination\n",
      "all_single_nodes_to_eliminate = []\n",
      "no small end nodes to get rid of so returning whole skeleton\n",
      "after DISTANCE cleaning limb size of skeleton = (66, 2, 3)\n",
      "********COMBINING CLOSE SKELETON NODES WITHIN 700 DISTANCE**********\n",
      "Found 0 valid paths to replace\n",
      "valid_paths = []\n",
      "valid_path_lengths = []\n",
      "No valid paths found so just returning the original\n",
      "Inside MAP decomposition and curr_limb_endpoints_must_keep was None\n",
      "skeletonize_and_clean_connected_branch_CGAL: 7.310958385467529\n",
      "Working on limb correspondence for #4 MAP piece\n"
     ]
    },
    {
     "data": {
      "application/vnd.jupyter.widget-view+json": {
       "model_id": "0c1051f955b748aea8073859b1fddcb0",
       "version_major": 2,
       "version_minor": 0
      },
      "text/plain": [
       "HBox(children=(FloatProgress(value=1.0, bar_style='info', layout=Layout(width='20px'), max=1.0), HTML(value=''…"
      ]
     },
     "metadata": {},
     "output_type": "display_data"
    },
    {
     "name": "stdout",
     "output_type": "stream",
     "text": [
      "\n",
      "Total time for decomposition = 0.43538856506347656\n",
      "mesh_correspondence_first_pass: 0.43543457984924316\n",
      "Limb decomposed into 1 branches\n",
      "divided_skeleton_graph_recovered = (66, 2, 3) and \n",
      "current_mesh_data[0]['branch_skeletons_cleaned'].shape = (66, 2, 3)\n",
      "\n",
      "Number of connected components in deocmposed recovered graph = 1\n",
      "Number of connected components in cleaned skeleton graph= 1\n",
      "The downsampled branches number of connected components = 1\n",
      "Empty submeshes = []\n",
      "\n",
      "\n",
      "--- Working on 1-to-1 correspondence-----\n",
      "max(original_labels),len(original_labels) = (0, 1)\n",
      "empty_indices % = 0.014428177381710164\n",
      " conflict_indices % = 0.0\n"
     ]
    },
    {
     "data": {
      "application/vnd.jupyter.widget-view+json": {
       "model_id": "c8e0a5ee332e45c195c26e72ac22021a",
       "version_major": 2,
       "version_minor": 0
      },
      "text/plain": [
       "HBox(children=(FloatProgress(value=0.0, max=3.0), HTML(value='')))"
      ]
     },
     "metadata": {},
     "output_type": "display_data"
    },
    {
     "name": "stdout",
     "output_type": "stream",
     "text": [
      "\n",
      "AFTER face_lookup_resolved_test\n"
     ]
    },
    {
     "data": {
      "application/vnd.jupyter.widget-view+json": {
       "model_id": "90b53de451b3468da9f877a47cc3271f",
       "version_major": 2,
       "version_minor": 0
      },
      "text/plain": [
       "HBox(children=(FloatProgress(value=0.0, max=1.0), HTML(value='')))"
      ]
     },
     "metadata": {},
     "output_type": "display_data"
    },
    {
     "name": "stdout",
     "output_type": "stream",
     "text": [
      "\n",
      "Total time for MAP sublimb #4 mesh processing = 7.865177154541016\n",
      "correspondence_1_to_1: 0.11481952667236328\n",
      "Total time for MAP sublimb processing 44.102911949157715\n",
      "***************Arrived at MESH PIECES FOR MAP AND mp***************\n",
      "---- Working on MP Decomposition #0 ----\n",
      "MP filtering soma verts: 0.023825407028198242\n",
      "Do Not Need to Fix MP Decomposition 0 so just continuing\n",
      "---- Working on MP Decomposition #1 ----\n",
      "MP filtering soma verts: 0.01660442352294922\n",
      "Do Not Need to Fix MP Decomposition 1 so just continuing\n",
      "---- Working on MP Decomposition #2 ----\n",
      "MP filtering soma verts: 0.009786128997802734\n",
      "Do Not Need to Fix MP Decomposition 2 so just continuing\n",
      "---- Working on MP Decomposition #3 ----\n",
      "MP filtering soma verts: 0.005778074264526367\n",
      "Do Not Need to Fix MP Decomposition 3 so just continuing\n",
      "---- Working on MP Decomposition #4 ----\n",
      "MP filtering soma verts: 0.0014123916625976562\n",
      "Do Not Need to Fix MP Decomposition 4 so just continuing\n",
      "---- Working on MP Decomposition #5 ----\n",
      "MP filtering soma verts: 0.0003662109375\n",
      "Do Not Need to Fix MP Decomposition 5 so just continuing\n",
      "---- Working on MP Decomposition #6 ----\n",
      "MP filtering soma verts: 0.0006673336029052734\n",
      "Do Not Need to Fix MP Decomposition 6 so just continuing\n",
      "---- Working on MP Decomposition #7 ----\n",
      "MP filtering soma verts: 0.00024390220642089844\n",
      "Do Not Need to Fix MP Decomposition 7 so just continuing\n",
      "\n",
      "---- Working on (0, 0) connection-----\n",
      "winning_vertex = [577077.65814314 804143.75072217 852154.48854756]\n",
      "MP_branches_with_stitch_point = [9, 77]\n",
      "Current stitch point was a branch or endpoint\n",
      "MAP_branches_with_stitch_point = [0]\n",
      "MAP_stitch_point_on_end_or_branch = True\n"
     ]
    },
    {
     "data": {
      "application/vnd.jupyter.widget-view+json": {
       "model_id": "a0e73a96ca654aae95591a0a65d7984d",
       "version_major": 2,
       "version_minor": 0
      },
      "text/plain": [
       "HBox(children=(FloatProgress(value=1.0, bar_style='info', layout=Layout(width='20px'), max=1.0), HTML(value=''…"
      ]
     },
     "metadata": {},
     "output_type": "display_data"
    },
    {
     "name": "stdout",
     "output_type": "stream",
     "text": [
      "\n",
      "\n",
      "\n",
      "--- Working on 1-to-1 correspondence-----\n",
      "max(original_labels),len(original_labels) = (2, 3)\n",
      "empty_indices % = 0.05863291139240506\n",
      " conflict_indices % = 0.012151898734177215\n"
     ]
    },
    {
     "data": {
      "application/vnd.jupyter.widget-view+json": {
       "model_id": "297ba922402740be9d4e18ff5a40b970",
       "version_major": 2,
       "version_minor": 0
      },
      "text/plain": [
       "HBox(children=(FloatProgress(value=0.0, max=5.0), HTML(value='')))"
      ]
     },
     "metadata": {},
     "output_type": "display_data"
    },
    {
     "name": "stdout",
     "output_type": "stream",
     "text": [
      "\n",
      "AFTER face_lookup_resolved_test\n"
     ]
    },
    {
     "data": {
      "application/vnd.jupyter.widget-view+json": {
       "model_id": "ca687ab8021a4338b21eba511fcaf1b5",
       "version_major": 2,
       "version_minor": 0
      },
      "text/plain": [
       "HBox(children=(FloatProgress(value=0.0, max=3.0), HTML(value='')))"
      ]
     },
     "metadata": {},
     "output_type": "display_data"
    },
    {
     "name": "stdout",
     "output_type": "stream",
     "text": [
      "\n",
      " Finished with (0, 0) \n",
      "\n",
      "\n",
      "\n",
      "\n",
      "---- Working on (2, 0) connection-----\n",
      "winning_vertex = [575506.36977751 801186.21111388 852256.28674014]\n",
      "MP_branches_with_stitch_point = [57]\n",
      "Current stitch point was not a branch or endpoint, shortest_path_length to one = 1654.8336336225616\n",
      "MAP_branches_with_stitch_point = [0]\n",
      "MAP_stitch_point_on_end_or_branch = False\n"
     ]
    },
    {
     "data": {
      "application/vnd.jupyter.widget-view+json": {
       "model_id": "0aadfefbdf4d49a78c04ac65a8f2f134",
       "version_major": 2,
       "version_minor": 0
      },
      "text/plain": [
       "HBox(children=(FloatProgress(value=1.0, bar_style='info', layout=Layout(width='20px'), max=1.0), HTML(value=''…"
      ]
     },
     "metadata": {},
     "output_type": "display_data"
    },
    {
     "name": "stdout",
     "output_type": "stream",
     "text": [
      "\n",
      "\n",
      "\n",
      "--- Working on 1-to-1 correspondence-----\n",
      "max(original_labels),len(original_labels) = (2, 3)\n",
      "empty_indices % = 0.031435030681451176\n",
      " conflict_indices % = 0.021207880288513295\n"
     ]
    },
    {
     "data": {
      "application/vnd.jupyter.widget-view+json": {
       "model_id": "61bd66c51fc844e787d3c196edbf58cf",
       "version_major": 2,
       "version_minor": 0
      },
      "text/plain": [
       "HBox(children=(FloatProgress(value=0.0, max=5.0), HTML(value='')))"
      ]
     },
     "metadata": {},
     "output_type": "display_data"
    },
    {
     "name": "stdout",
     "output_type": "stream",
     "text": [
      "\n",
      "AFTER face_lookup_resolved_test\n"
     ]
    },
    {
     "data": {
      "application/vnd.jupyter.widget-view+json": {
       "model_id": "a94d2e9b827a41f6b5bbd2cd8704a4f9",
       "version_major": 2,
       "version_minor": 0
      },
      "text/plain": [
       "HBox(children=(FloatProgress(value=0.0, max=3.0), HTML(value='')))"
      ]
     },
     "metadata": {},
     "output_type": "display_data"
    },
    {
     "name": "stdout",
     "output_type": "stream",
     "text": [
      "\n",
      "Deleting branches from dictionary\n",
      " Finished with (2, 0) \n",
      "\n",
      "\n",
      "\n",
      "\n",
      "---- Working on (7, 0) connection-----\n",
      "winning_vertex = [577361.28231041 779732.91142829 876898.36228111]\n",
      "MP_branches_with_stitch_point = [0]\n",
      "Current stitch point was not a branch or endpoint, shortest_path_length to one = 4972.588141304155\n",
      "MAP_branches_with_stitch_point = [1]\n",
      "MAP_stitch_point_on_end_or_branch = False\n"
     ]
    },
    {
     "data": {
      "application/vnd.jupyter.widget-view+json": {
       "model_id": "4622b35aa0cc4ec6978780b25205fe34",
       "version_major": 2,
       "version_minor": 0
      },
      "text/plain": [
       "HBox(children=(FloatProgress(value=1.0, bar_style='info', layout=Layout(width='20px'), max=1.0), HTML(value=''…"
      ]
     },
     "metadata": {},
     "output_type": "display_data"
    },
    {
     "name": "stdout",
     "output_type": "stream",
     "text": [
      "\n",
      "\n",
      "\n",
      "--- Working on 1-to-1 correspondence-----\n",
      "max(original_labels),len(original_labels) = (2, 3)\n",
      "empty_indices % = 0.03180085755121487\n",
      " conflict_indices % = 0.004883277751310148\n"
     ]
    },
    {
     "data": {
      "application/vnd.jupyter.widget-view+json": {
       "model_id": "a546b906dbf14f35821483db58882f05",
       "version_major": 2,
       "version_minor": 0
      },
      "text/plain": [
       "HBox(children=(FloatProgress(value=0.0, max=2.0), HTML(value='')))"
      ]
     },
     "metadata": {},
     "output_type": "display_data"
    },
    {
     "name": "stdout",
     "output_type": "stream",
     "text": [
      "\n",
      "AFTER face_lookup_resolved_test\n"
     ]
    },
    {
     "data": {
      "application/vnd.jupyter.widget-view+json": {
       "model_id": "61116760cae640caa69a4c5f92b53ae8",
       "version_major": 2,
       "version_minor": 0
      },
      "text/plain": [
       "HBox(children=(FloatProgress(value=0.0, max=3.0), HTML(value='')))"
      ]
     },
     "metadata": {},
     "output_type": "display_data"
    },
    {
     "name": "stdout",
     "output_type": "stream",
     "text": [
      "\n",
      "Deleting branches from dictionary\n",
      " Finished with (7, 0) \n",
      "\n",
      "\n",
      "\n",
      "\n",
      "---- Working on (0, 1) connection-----\n",
      "winning_vertex = [580084.13138504 809371.50435209 854460.13212649]\n",
      "MP_branches_with_stitch_point = [7, 8]\n",
      "Current stitch point was a branch or endpoint\n",
      "MAP_branches_with_stitch_point = [0]\n",
      "MAP_stitch_point_on_end_or_branch = True\n"
     ]
    },
    {
     "data": {
      "application/vnd.jupyter.widget-view+json": {
       "model_id": "7af1dacbe3ed4a6eb5720b66ea76177d",
       "version_major": 2,
       "version_minor": 0
      },
      "text/plain": [
       "HBox(children=(FloatProgress(value=1.0, bar_style='info', layout=Layout(width='20px'), max=1.0), HTML(value=''…"
      ]
     },
     "metadata": {},
     "output_type": "display_data"
    },
    {
     "name": "stdout",
     "output_type": "stream",
     "text": [
      "\n",
      "\n",
      "\n",
      "--- Working on 1-to-1 correspondence-----\n",
      "max(original_labels),len(original_labels) = (2, 3)\n",
      "empty_indices % = 0.009218089144344431\n",
      " conflict_indices % = 0.0034703394425767272\n"
     ]
    },
    {
     "data": {
      "application/vnd.jupyter.widget-view+json": {
       "model_id": "1f94c5b3e03e4de78ffc35064432af60",
       "version_major": 2,
       "version_minor": 0
      },
      "text/plain": [
       "HBox(children=(FloatProgress(value=0.0, max=5.0), HTML(value='')))"
      ]
     },
     "metadata": {},
     "output_type": "display_data"
    },
    {
     "name": "stdout",
     "output_type": "stream",
     "text": [
      "\n",
      "AFTER face_lookup_resolved_test\n"
     ]
    },
    {
     "data": {
      "application/vnd.jupyter.widget-view+json": {
       "model_id": "7d5d5d42d74646ea9208d4b959b09d10",
       "version_major": 2,
       "version_minor": 0
      },
      "text/plain": [
       "HBox(children=(FloatProgress(value=0.0, max=3.0), HTML(value='')))"
      ]
     },
     "metadata": {},
     "output_type": "display_data"
    },
    {
     "name": "stdout",
     "output_type": "stream",
     "text": [
      "\n",
      " Finished with (0, 1) \n",
      "\n",
      "\n",
      "\n",
      "\n",
      "---- Working on (1, 1) connection-----\n",
      "winning_vertex = [597487.15517674 793327.38152401 877224.26802702]\n",
      "MP_branches_with_stitch_point = [11, 29]\n",
      "Current stitch point was a branch or endpoint\n",
      "MAP_branches_with_stitch_point = [0]\n",
      "MAP_stitch_point_on_end_or_branch = True\n"
     ]
    },
    {
     "data": {
      "application/vnd.jupyter.widget-view+json": {
       "model_id": "bf2b0902a67b42c78d56a3d0327514bb",
       "version_major": 2,
       "version_minor": 0
      },
      "text/plain": [
       "HBox(children=(FloatProgress(value=1.0, bar_style='info', layout=Layout(width='20px'), max=1.0), HTML(value=''…"
      ]
     },
     "metadata": {},
     "output_type": "display_data"
    },
    {
     "name": "stdout",
     "output_type": "stream",
     "text": [
      "\n",
      "\n",
      "\n",
      "--- Working on 1-to-1 correspondence-----\n",
      "max(original_labels),len(original_labels) = (2, 3)\n",
      "empty_indices % = 0.0044596912521440825\n",
      " conflict_indices % = 0.0064493996569468266\n"
     ]
    },
    {
     "data": {
      "application/vnd.jupyter.widget-view+json": {
       "model_id": "eafe17f901e54cbcbc4d102cf6b0a691",
       "version_major": 2,
       "version_minor": 0
      },
      "text/plain": [
       "HBox(children=(FloatProgress(value=0.0, max=3.0), HTML(value='')))"
      ]
     },
     "metadata": {},
     "output_type": "display_data"
    },
    {
     "name": "stdout",
     "output_type": "stream",
     "text": [
      "\n",
      "AFTER face_lookup_resolved_test\n"
     ]
    },
    {
     "data": {
      "application/vnd.jupyter.widget-view+json": {
       "model_id": "e42524aa3cec401eaf1de6164e9d8acf",
       "version_major": 2,
       "version_minor": 0
      },
      "text/plain": [
       "HBox(children=(FloatProgress(value=0.0, max=3.0), HTML(value='')))"
      ]
     },
     "metadata": {},
     "output_type": "display_data"
    },
    {
     "name": "stdout",
     "output_type": "stream",
     "text": [
      "\n",
      " Finished with (1, 1) \n",
      "\n",
      "\n",
      "\n",
      "\n",
      "---- Working on (4, 1) connection-----\n",
      "winning_vertex = [604585.37712658 806083.59682735 851113.40794192]\n",
      "MP_branches_with_stitch_point = [7]\n",
      "Current stitch point was not a branch or endpoint, shortest_path_length to one = 25177.77516668675\n",
      "MAP_branches_with_stitch_point = [0]\n",
      "MAP_stitch_point_on_end_or_branch = False\n"
     ]
    },
    {
     "data": {
      "application/vnd.jupyter.widget-view+json": {
       "model_id": "ceef2ac5dd7a47fd90e0a908ac4fa530",
       "version_major": 2,
       "version_minor": 0
      },
      "text/plain": [
       "HBox(children=(FloatProgress(value=1.0, bar_style='info', layout=Layout(width='20px'), max=1.0), HTML(value=''…"
      ]
     },
     "metadata": {},
     "output_type": "display_data"
    },
    {
     "name": "stdout",
     "output_type": "stream",
     "text": [
      "\n",
      "\n",
      "\n",
      "--- Working on 1-to-1 correspondence-----\n",
      "max(original_labels),len(original_labels) = (2, 3)\n",
      "empty_indices % = 0.07392058596761758\n",
      " conflict_indices % = 0.002602158828064765\n"
     ]
    },
    {
     "data": {
      "application/vnd.jupyter.widget-view+json": {
       "model_id": "8081bd19e70245e28024b67875b37fee",
       "version_major": 2,
       "version_minor": 0
      },
      "text/plain": [
       "HBox(children=(FloatProgress(value=0.0, max=5.0), HTML(value='')))"
      ]
     },
     "metadata": {},
     "output_type": "display_data"
    },
    {
     "name": "stdout",
     "output_type": "stream",
     "text": [
      "\n",
      "AFTER face_lookup_resolved_test\n"
     ]
    },
    {
     "data": {
      "application/vnd.jupyter.widget-view+json": {
       "model_id": "ea02946027da4ba1a6860479239c81f4",
       "version_major": 2,
       "version_minor": 0
      },
      "text/plain": [
       "HBox(children=(FloatProgress(value=0.0, max=3.0), HTML(value='')))"
      ]
     },
     "metadata": {},
     "output_type": "display_data"
    },
    {
     "name": "stdout",
     "output_type": "stream",
     "text": [
      "\n",
      "Deleting branches from dictionary\n",
      " Finished with (4, 1) \n",
      "\n",
      "\n",
      "\n",
      "\n",
      "---- Working on (0, 2) connection-----\n",
      "winning_vertex = [579899.23505552 800918.83667692 845665.9879333 ]\n",
      "MP_branches_with_stitch_point = [77, 138]\n",
      "Current stitch point was a branch or endpoint\n",
      "MAP_branches_with_stitch_point = [0]\n",
      "MAP_stitch_point_on_end_or_branch = True\n"
     ]
    },
    {
     "data": {
      "application/vnd.jupyter.widget-view+json": {
       "model_id": "ff96d331a3464c6e8b5f1fb0ed0fc410",
       "version_major": 2,
       "version_minor": 0
      },
      "text/plain": [
       "HBox(children=(FloatProgress(value=1.0, bar_style='info', layout=Layout(width='20px'), max=1.0), HTML(value=''…"
      ]
     },
     "metadata": {},
     "output_type": "display_data"
    },
    {
     "name": "stdout",
     "output_type": "stream",
     "text": [
      "\n",
      "\n",
      "\n",
      "--- Working on 1-to-1 correspondence-----\n",
      "max(original_labels),len(original_labels) = (2, 3)\n",
      "empty_indices % = 0.054535827744440525\n",
      " conflict_indices % = 0.06247793858100953\n"
     ]
    },
    {
     "data": {
      "application/vnd.jupyter.widget-view+json": {
       "model_id": "455a32efa26144a59129002d8a7790bd",
       "version_major": 2,
       "version_minor": 0
      },
      "text/plain": [
       "HBox(children=(FloatProgress(value=0.0, max=5.0), HTML(value='')))"
      ]
     },
     "metadata": {},
     "output_type": "display_data"
    },
    {
     "name": "stdout",
     "output_type": "stream",
     "text": [
      "\n",
      "AFTER face_lookup_resolved_test\n"
     ]
    },
    {
     "data": {
      "application/vnd.jupyter.widget-view+json": {
       "model_id": "f7d2c826eea24ead906c064d20443c06",
       "version_major": 2,
       "version_minor": 0
      },
      "text/plain": [
       "HBox(children=(FloatProgress(value=0.0, max=3.0), HTML(value='')))"
      ]
     },
     "metadata": {},
     "output_type": "display_data"
    },
    {
     "name": "stdout",
     "output_type": "stream",
     "text": [
      "\n",
      " Finished with (0, 2) \n",
      "\n",
      "\n",
      "\n",
      "\n",
      "---- Working on (3, 2) connection-----\n",
      "winning_vertex = [580110.57979085 787260.75501824 844365.47036714]\n",
      "MP_branches_with_stitch_point = [28, 32]\n",
      "Current stitch point was a branch or endpoint\n",
      "MAP_branches_with_stitch_point = [0]\n",
      "MAP_stitch_point_on_end_or_branch = True\n"
     ]
    },
    {
     "data": {
      "application/vnd.jupyter.widget-view+json": {
       "model_id": "a29c9f45fe4c4392955d8ea3b653dcf0",
       "version_major": 2,
       "version_minor": 0
      },
      "text/plain": [
       "HBox(children=(FloatProgress(value=1.0, bar_style='info', layout=Layout(width='20px'), max=1.0), HTML(value=''…"
      ]
     },
     "metadata": {},
     "output_type": "display_data"
    },
    {
     "name": "stdout",
     "output_type": "stream",
     "text": [
      "\n",
      "\n",
      "\n",
      "--- Working on 1-to-1 correspondence-----\n",
      "max(original_labels),len(original_labels) = (2, 3)\n",
      "empty_indices % = 0.1691919191919192\n",
      " conflict_indices % = 0.02295684113865932\n"
     ]
    },
    {
     "data": {
      "application/vnd.jupyter.widget-view+json": {
       "model_id": "d56510944353423b9c6395fc56b56b07",
       "version_major": 2,
       "version_minor": 0
      },
      "text/plain": [
       "HBox(children=(FloatProgress(value=0.0, max=4.0), HTML(value='')))"
      ]
     },
     "metadata": {},
     "output_type": "display_data"
    },
    {
     "name": "stdout",
     "output_type": "stream",
     "text": [
      "\n",
      "AFTER face_lookup_resolved_test\n"
     ]
    },
    {
     "data": {
      "application/vnd.jupyter.widget-view+json": {
       "model_id": "f612540c2cb94e0480ab5af51ae19e02",
       "version_major": 2,
       "version_minor": 0
      },
      "text/plain": [
       "HBox(children=(FloatProgress(value=0.0, max=3.0), HTML(value='')))"
      ]
     },
     "metadata": {},
     "output_type": "display_data"
    },
    {
     "name": "stdout",
     "output_type": "stream",
     "text": [
      "\n",
      " Finished with (3, 2) \n",
      "\n",
      "\n",
      "\n",
      "\n",
      "---- Working on (0, 3) connection-----\n",
      "winning_vertex = [567308.2096599  819446.18111031 853900.51602715]\n",
      "MP_branches_with_stitch_point = [38, 39]\n",
      "Current stitch point was a branch or endpoint\n",
      "MAP_branches_with_stitch_point = [0]\n",
      "MAP_stitch_point_on_end_or_branch = True\n"
     ]
    },
    {
     "data": {
      "application/vnd.jupyter.widget-view+json": {
       "model_id": "a08ec06842b44e25b16f771d54b89ed2",
       "version_major": 2,
       "version_minor": 0
      },
      "text/plain": [
       "HBox(children=(FloatProgress(value=1.0, bar_style='info', layout=Layout(width='20px'), max=1.0), HTML(value=''…"
      ]
     },
     "metadata": {},
     "output_type": "display_data"
    },
    {
     "name": "stdout",
     "output_type": "stream",
     "text": [
      "\n",
      "\n",
      "\n",
      "--- Working on 1-to-1 correspondence-----\n",
      "max(original_labels),len(original_labels) = (2, 3)\n",
      "empty_indices % = 0.028731045490822026\n",
      " conflict_indices % = 0.01775738228252195\n"
     ]
    },
    {
     "data": {
      "application/vnd.jupyter.widget-view+json": {
       "model_id": "59fa23bf45414bc79cc5fd10aac17bab",
       "version_major": 2,
       "version_minor": 0
      },
      "text/plain": [
       "HBox(children=(FloatProgress(value=0.0, max=3.0), HTML(value='')))"
      ]
     },
     "metadata": {},
     "output_type": "display_data"
    },
    {
     "name": "stdout",
     "output_type": "stream",
     "text": [
      "\n",
      "AFTER face_lookup_resolved_test\n"
     ]
    },
    {
     "data": {
      "application/vnd.jupyter.widget-view+json": {
       "model_id": "9772329fb7a64b319166144ee0c9b397",
       "version_major": 2,
       "version_minor": 0
      },
      "text/plain": [
       "HBox(children=(FloatProgress(value=0.0, max=3.0), HTML(value='')))"
      ]
     },
     "metadata": {},
     "output_type": "display_data"
    },
    {
     "name": "stdout",
     "output_type": "stream",
     "text": [
      "\n",
      " Finished with (0, 3) \n",
      "\n",
      "\n",
      "\n",
      "\n",
      "---- Working on (2, 4) connection-----\n",
      "winning_vertex = [575177.48934665 797145.29945836 848222.75160166]\n",
      "MP_branches_with_stitch_point = [55, 57]\n",
      "Current stitch point was a branch or endpoint\n",
      "MAP_branches_with_stitch_point = [0]\n",
      "MAP_stitch_point_on_end_or_branch = True\n"
     ]
    },
    {
     "data": {
      "application/vnd.jupyter.widget-view+json": {
       "model_id": "b62474defcbb447fb2b6916a47cfff78",
       "version_major": 2,
       "version_minor": 0
      },
      "text/plain": [
       "HBox(children=(FloatProgress(value=1.0, bar_style='info', layout=Layout(width='20px'), max=1.0), HTML(value=''…"
      ]
     },
     "metadata": {},
     "output_type": "display_data"
    },
    {
     "name": "stdout",
     "output_type": "stream",
     "text": [
      "\n",
      "\n",
      "\n",
      "--- Working on 1-to-1 correspondence-----\n",
      "max(original_labels),len(original_labels) = (2, 3)\n",
      "empty_indices % = 0.02742650681556906\n",
      " conflict_indices % = 0.004105764493348662\n"
     ]
    },
    {
     "data": {
      "application/vnd.jupyter.widget-view+json": {
       "model_id": "a4df7e27ab4447efabdf7b03041dc147",
       "version_major": 2,
       "version_minor": 0
      },
      "text/plain": [
       "HBox(children=(FloatProgress(value=0.0, max=7.0), HTML(value='')))"
      ]
     },
     "metadata": {},
     "output_type": "display_data"
    },
    {
     "name": "stdout",
     "output_type": "stream",
     "text": [
      "\n",
      "AFTER face_lookup_resolved_test\n"
     ]
    },
    {
     "data": {
      "application/vnd.jupyter.widget-view+json": {
       "model_id": "59331f234ba94b33adc1344a83484b56",
       "version_major": 2,
       "version_minor": 0
      },
      "text/plain": [
       "HBox(children=(FloatProgress(value=0.0, max=3.0), HTML(value='')))"
      ]
     },
     "metadata": {},
     "output_type": "display_data"
    },
    {
     "name": "stdout",
     "output_type": "stream",
     "text": [
      "\n",
      " Finished with (2, 4) \n",
      "\n",
      "\n",
      "\n",
      "\n",
      "---- Working on (5, 4) connection-----\n",
      "winning_vertex = [576083.12497509 777699.99769326 846084.87959885]\n",
      "MP_branches_with_stitch_point = [0]\n",
      "Current stitch point was not a branch or endpoint, shortest_path_length to one = 9179.940034791889\n",
      "MAP_branches_with_stitch_point = [0]\n",
      "MAP_stitch_point_on_end_or_branch = False\n"
     ]
    },
    {
     "data": {
      "application/vnd.jupyter.widget-view+json": {
       "model_id": "ca1f6398960c4766834cda4b9188c826",
       "version_major": 2,
       "version_minor": 0
      },
      "text/plain": [
       "HBox(children=(FloatProgress(value=1.0, bar_style='info', layout=Layout(width='20px'), max=1.0), HTML(value=''…"
      ]
     },
     "metadata": {},
     "output_type": "display_data"
    },
    {
     "name": "stdout",
     "output_type": "stream",
     "text": [
      "\n",
      "\n",
      "\n",
      "--- Working on 1-to-1 correspondence-----\n",
      "max(original_labels),len(original_labels) = (2, 3)\n",
      "empty_indices % = 0.028714308759477336\n",
      " conflict_indices % = 0.013066623648975642\n"
     ]
    },
    {
     "data": {
      "application/vnd.jupyter.widget-view+json": {
       "model_id": "bac912a561ce42a9987a68e7e1884390",
       "version_major": 2,
       "version_minor": 0
      },
      "text/plain": [
       "HBox(children=(FloatProgress(value=0.0, max=5.0), HTML(value='')))"
      ]
     },
     "metadata": {},
     "output_type": "display_data"
    },
    {
     "name": "stdout",
     "output_type": "stream",
     "text": [
      "\n",
      "AFTER face_lookup_resolved_test\n"
     ]
    },
    {
     "data": {
      "application/vnd.jupyter.widget-view+json": {
       "model_id": "b174ac182d5347a6849d87793330eb75",
       "version_major": 2,
       "version_minor": 0
      },
      "text/plain": [
       "HBox(children=(FloatProgress(value=0.0, max=3.0), HTML(value='')))"
      ]
     },
     "metadata": {},
     "output_type": "display_data"
    },
    {
     "name": "stdout",
     "output_type": "stream",
     "text": [
      "\n",
      "Deleting branches from dictionary\n",
      " Finished with (5, 4) \n",
      "\n",
      "\n",
      "\n",
      "\n",
      "---- Working on (6, 4) connection-----\n",
      "winning_vertex = [571228.9570534  770574.81191415 841876.24523264]\n",
      "MP_branches_with_stitch_point = [2, 5]\n",
      "Current stitch point was a branch or endpoint\n",
      "MAP_branches_with_stitch_point = [0]\n",
      "MAP_stitch_point_on_end_or_branch = True\n"
     ]
    },
    {
     "data": {
      "application/vnd.jupyter.widget-view+json": {
       "model_id": "f96e8bb662fb4e3e937ad3061f09aa8a",
       "version_major": 2,
       "version_minor": 0
      },
      "text/plain": [
       "HBox(children=(FloatProgress(value=1.0, bar_style='info', layout=Layout(width='20px'), max=1.0), HTML(value=''…"
      ]
     },
     "metadata": {},
     "output_type": "display_data"
    },
    {
     "name": "stdout",
     "output_type": "stream",
     "text": [
      "\n",
      "\n",
      "\n",
      "--- Working on 1-to-1 correspondence-----\n",
      "max(original_labels),len(original_labels) = (2, 3)\n",
      "empty_indices % = 0.1797808764940239\n",
      " conflict_indices % = 0.0\n"
     ]
    },
    {
     "data": {
      "application/vnd.jupyter.widget-view+json": {
       "model_id": "904701740e8c41ab84f2d4785fe74e59",
       "version_major": 2,
       "version_minor": 0
      },
      "text/plain": [
       "HBox(children=(FloatProgress(value=0.0, max=3.0), HTML(value='')))"
      ]
     },
     "metadata": {},
     "output_type": "display_data"
    },
    {
     "name": "stdout",
     "output_type": "stream",
     "text": [
      "\n",
      "AFTER face_lookup_resolved_test\n"
     ]
    },
    {
     "data": {
      "application/vnd.jupyter.widget-view+json": {
       "model_id": "418ff5ef48ae46f982256f9ed598207c",
       "version_major": 2,
       "version_minor": 0
      },
      "text/plain": [
       "HBox(children=(FloatProgress(value=0.0, max=3.0), HTML(value='')))"
      ]
     },
     "metadata": {},
     "output_type": "display_data"
    },
    {
     "name": "stdout",
     "output_type": "stream",
     "text": [
      "\n",
      " Finished with (6, 4) \n",
      "\n",
      "\n",
      "\n",
      "Time for decomp of Limb 0 = 215.46424174308777\n",
      "Starting_branch = 2\n",
      "Start endpt = [577450. 779440. 881485.]\n",
      "Starting_branch endpoints = [[577001. 779883. 876662.]\n",
      " [577450. 779440. 881485.]]\n",
      "Starting_edge inside branches_to_conept = [[577001. 779883. 876662.]\n",
      " [577450. 779440. 881485.]]\n"
     ]
    },
    {
     "name": "stderr",
     "output_type": "stream",
     "text": [
      "/usr/local/lib/python3.6/dist-packages/ipykernel_launcher.py:871: VisibleDeprecationWarning: Creating an ndarray from ragged nested sequences (which is a list-or-tuple of lists-or-tuples-or ndarrays with different lengths or shapes) is deprecated. If you meant to do this, you must specify 'dtype=object' when creating the ndarray\n"
     ]
    },
    {
     "name": "stdout",
     "output_type": "stream",
     "text": [
      "At the start, starting_node (in terms of the skeleton, that shouldn't match the starting edge) = [214]\n",
      "printing out current edge:\n",
      "[[577450. 779440. 881485.]\n",
      " [577001. 779883. 876662.]]\n",
      "edge_endpoints_to_process was empty so exiting loop after 451 iterations\n",
      "starting_node in concept map (that should match the starting edge) = 2\n",
      "Total time for branches to concept conversion = 8.54459524154663\n",
      "\n",
      "Done generating concept network \n",
      "\n",
      "\n",
      "recovered_touching_piece = [2]\n"
     ]
    },
    {
     "name": "stderr",
     "output_type": "stream",
     "text": [
      "\r",
      "  0%|          | 0/1 [00:00<?, ?it/s]"
     ]
    },
    {
     "name": "stdout",
     "output_type": "stream",
     "text": [
      "\n",
      "\n",
      "----- Working on Proper Limb #1 ---------\n",
      "Time for preparing soma vertices and root: 0.00027561187744140625\n",
      "smooth_neighborhood = 1\n"
     ]
    },
    {
     "data": {
      "application/vnd.jupyter.widget-view+json": {
       "model_id": "71b5f42b30864b35aee2ec535b3c8a0e",
       "version_major": 2,
       "version_minor": 0
      },
      "text/plain": [
       "HBox(children=(FloatProgress(value=0.0, max=108007.0), HTML(value='')))"
      ]
     },
     "metadata": {},
     "output_type": "display_data"
    },
    {
     "name": "stderr",
     "output_type": "stream",
     "text": [
      "100%|██████████| 1/1 [00:01<00:00,  1.64s/it]"
     ]
    },
    {
     "name": "stdout",
     "output_type": "stream",
     "text": [
      "\n"
     ]
    },
    {
     "name": "stderr",
     "output_type": "stream",
     "text": [
      "\n"
     ]
    },
    {
     "name": "stdout",
     "output_type": "stream",
     "text": [
      "Time for 1st pass MP skeletonization: 2.5896098613739014\n",
      "branches_touching_root = [27]\n"
     ]
    },
    {
     "name": "stderr",
     "output_type": "stream",
     "text": [
      "/meshAfterParty/meshparty_skeletonize.py:900: VisibleDeprecationWarning: Creating an ndarray from ragged nested sequences (which is a list-or-tuple of lists-or-tuples-or ndarrays with different lengths or shapes) is deprecated. If you meant to do this, you must specify 'dtype=object' when creating the ndarray\n",
      "  new_segment_branches = np.array([sk_meshparty_obj.vertices[np.vstack([k[:-1],k[1:]]).T] for k in new_segments])\n"
     ]
    },
    {
     "name": "stdout",
     "output_type": "stream",
     "text": [
      "empty_indices % = 0.0\n",
      " conflict_indices % = 0.004901482977093922\n"
     ]
    },
    {
     "data": {
      "application/vnd.jupyter.widget-view+json": {
       "model_id": "db9a4f224a4f4d45b1071094d3677279",
       "version_major": 2,
       "version_minor": 0
      },
      "text/plain": [
       "HBox(children=(FloatProgress(value=0.0, max=14.0), HTML(value='')))"
      ]
     },
     "metadata": {},
     "output_type": "display_data"
    },
    {
     "name": "stdout",
     "output_type": "stream",
     "text": [
      "\n",
      "AFTER face_lookup_resolved_test\n"
     ]
    },
    {
     "data": {
      "application/vnd.jupyter.widget-view+json": {
       "model_id": "7f2aa45efe5a4b49a0047907d06c7d03",
       "version_major": 2,
       "version_minor": 0
      },
      "text/plain": [
       "HBox(children=(FloatProgress(value=0.0, max=28.0), HTML(value='')))"
      ]
     },
     "metadata": {},
     "output_type": "display_data"
    },
    {
     "name": "stdout",
     "output_type": "stream",
     "text": [
      "\n",
      "Decomposing first pass: 4.8263840675354\n",
      "Found len(mesh_large_idx) MAP candidates: [4871, 884, 4843, 23083, 5704, 17917, 16216, 6470, 7613, 3708, 2515, 4907, 13734, 8322, 13326, 6190, 7784]\n",
      "mesh_large_connectivity: 0.516333818435669\n",
      "Finding MAP candidates connected components: 0.00023746490478515625\n",
      "len(filtered_pieces) = 1\n",
      "skeleton_connectivity_MP : 0.24249625205993652\n",
      "Grouping MP Sublimbs by Graph: 0.035758256912231445\n",
      "Divinding into MP and MAP pieces: 1.9073486328125e-06\n",
      "--- Working on MAP piece 0---\n",
      "MAP Filtering Soma Pieces: 0.010020732879638672\n",
      "inside skeletonize_connected_branch and use_surface_after_CGAL=False, surface_reconstruction_size=500\n",
      "     Starting Screened Poisson\n",
      "xvfb-run -n 6409 -s \"-screen 0 800x600x24\" meshlabserver $@  -i /notebooks/Platinum_Decomp_Fusion/temp/None.off -o /notebooks/Platinum_Decomp_Fusion/temp/None_poisson.off -s /notebooks/Platinum_Decomp_Fusion/temp/poisson_974223.mls\n",
      "removed temporary input file: /notebooks/Platinum_Decomp_Fusion/temp/None.off\n",
      "removed temporary output file: /notebooks/Platinum_Decomp_Fusion/temp/None_poisson.off\n",
      "Using the close holes feature\n",
      "xvfb-run -n 5685 -s \"-screen 0 800x600x24\" meshlabserver $@  -i /notebooks/Platinum_Decomp_Fusion/temp/neuron_92706.off -o /notebooks/Platinum_Decomp_Fusion/temp/neuron_92706_fill_holes.off -s /notebooks/Platinum_Decomp_Fusion/temp/fill_holes_189879.mls\n",
      "removed temporary input file: /notebooks/Platinum_Decomp_Fusion/temp/neuron_92706.off\n",
      "removed temporary output file: /notebooks/Platinum_Decomp_Fusion/temp/neuron_92706_fill_holes.off\n",
      "-----Time for Screened Poisson= 31.440068244934082\n",
      "     Starting Calcification\n",
      "Before mesh subtraction number of skeleton edges = 1726\n",
      "Inside mesh subtraction, len(main_mesh_bbox_restricted.faces) = 148087\n"
     ]
    },
    {
     "data": {
      "application/vnd.jupyter.widget-view+json": {
       "model_id": "374b31f999aa459f8304ad8922c3e4fa",
       "version_major": 2,
       "version_minor": 0
      },
      "text/plain": [
       "HBox(children=(FloatProgress(value=1.0, bar_style='info', layout=Layout(width='20px'), max=1.0), HTML(value=''…"
      ]
     },
     "metadata": {},
     "output_type": "display_data"
    },
    {
     "name": "stderr",
     "output_type": "stream",
     "text": [
      "WARNING:trimesh:face_normals all zero, ignoring!\n",
      "WARNING:trimesh:face_normals all zero, ignoring!\n"
     ]
    },
    {
     "name": "stdout",
     "output_type": "stream",
     "text": [
      "\n",
      "Total Mesh subtraction time = 20.4227\n"
     ]
    },
    {
     "data": {
      "application/vnd.jupyter.widget-view+json": {
       "model_id": "4c08abf6d6a142dc9b5c9436fce7da82",
       "version_major": 2,
       "version_minor": 0
      },
      "text/plain": [
       "HBox(children=(FloatProgress(value=1.0, bar_style='info', layout=Layout(width='20px'), max=1.0), HTML(value=''…"
      ]
     },
     "metadata": {},
     "output_type": "display_data"
    },
    {
     "name": "stdout",
     "output_type": "stream",
     "text": [
      "\n",
      "No skeletons to stack so returning empty list\n",
      "len_subgraphs AT BEGINNING of the loop\n"
     ]
    },
    {
     "data": {
      "application/vnd.jupyter.widget-view+json": {
       "model_id": "5ea4422af2e64611a83c75a3eda579ee",
       "version_major": 2,
       "version_minor": 0
      },
      "text/plain": [
       "HBox(children=(FloatProgress(value=0.0, max=12.0), HTML(value='')))"
      ]
     },
     "metadata": {},
     "output_type": "display_data"
    },
    {
     "name": "stdout",
     "output_type": "stream",
     "text": [
      "all graph is one component!\n",
      "\n",
      "Total time for skeleton stitching = 0.10253667831420898\n",
      "The process was using a temp folder\n",
      "    Total time for skeletonizing branch: 60.680070877075195\n",
      "skipping soma 0 because closest skeleton node was already end node\n",
      "Adding new branch to skeleton\n",
      "    Total time for Fixing Skeleton Soma Endpoint Extension : 12.563414335250854\n",
      "filter_end_node_length = 4001\n",
      "Using Distance measure skeletal_distance\n",
      "Going to ignore certain endnodes that are 5000 nm close to soma border vertices\n",
      "Number of end_nodes BEFORE filtering = 42\n",
      "Using an already specified end node: 865 with index 22checking was correct node end_nodes[index] = 865\n",
      "Using an already specified end node: 809 with index 21checking was correct node end_nodes[index] = 809\n",
      "May Eliminate end_node 22: 865 because path_len to soma border was 2070.282670892157\n",
      "single_node_to_eliminate = 22\n",
      "all_single_nodes_to_eliminate = [22, 21, 22]\n"
     ]
    },
    {
     "data": {
      "application/vnd.jupyter.widget-view+json": {
       "model_id": "9aa07e4d884842b39a949732a5158861",
       "version_major": 2,
       "version_minor": 0
      },
      "text/plain": [
       "HBox(children=(FloatProgress(value=0.0, max=31.0), HTML(value='')))"
      ]
     },
     "metadata": {},
     "output_type": "display_data"
    },
    {
     "name": "stdout",
     "output_type": "stream",
     "text": [
      "\n",
      "********COMBINING CLOSE SKELETON NODES WITHIN 700 DISTANCE**********\n",
      "Found 0 valid paths to replace\n",
      "valid_paths = []\n",
      "valid_path_lengths = []\n",
      "No valid paths found so just returning the original\n",
      "skeletonize_and_clean_connected_branch_CGAL: 75.8536810874939\n",
      "Working on limb correspondence for #0 MAP piece\n"
     ]
    },
    {
     "data": {
      "application/vnd.jupyter.widget-view+json": {
       "model_id": "cf8f0b75404c4271922f1f1dd9d63454",
       "version_major": 2,
       "version_minor": 0
      },
      "text/plain": [
       "HBox(children=(FloatProgress(value=1.0, bar_style='info', layout=Layout(width='20px'), max=1.0), HTML(value=''…"
      ]
     },
     "metadata": {},
     "output_type": "display_data"
    },
    {
     "name": "stderr",
     "output_type": "stream",
     "text": [
      "WARNING:trimesh:face_normals all zero, ignoring!\n"
     ]
    },
    {
     "name": "stdout",
     "output_type": "stream",
     "text": [
      "\n",
      "Total time for decomposition = 21.511210680007935\n",
      "mesh_correspondence_first_pass: 21.511240482330322\n",
      "Limb decomposed into 19 branches\n",
      "divided_skeleton_graph_recovered = (1681, 2, 3) and \n",
      "current_mesh_data[0]['branch_skeletons_cleaned'].shape = (1681, 2, 3)\n",
      "\n",
      "Number of connected components in deocmposed recovered graph = 1\n",
      "Number of connected components in cleaned skeleton graph= 1\n",
      "The downsampled branches number of connected components = 1\n",
      "Empty submeshes = []\n",
      "\n",
      "\n",
      "--- Working on 1-to-1 correspondence-----\n",
      "max(original_labels),len(original_labels) = (18, 19)\n",
      "empty_indices % = 0.025397232707800144\n",
      " conflict_indices % = 0.027288013127418343\n"
     ]
    },
    {
     "data": {
      "application/vnd.jupyter.widget-view+json": {
       "model_id": "44f9faf4608842b896995dc30c706f9e",
       "version_major": 2,
       "version_minor": 0
      },
      "text/plain": [
       "HBox(children=(FloatProgress(value=0.0, max=37.0), HTML(value='')))"
      ]
     },
     "metadata": {},
     "output_type": "display_data"
    },
    {
     "name": "stdout",
     "output_type": "stream",
     "text": [
      "\n",
      "AFTER face_lookup_resolved_test\n",
      "Took 0 iterations to expand the label back\n",
      "Took 0 iterations to expand the label back\n"
     ]
    },
    {
     "data": {
      "application/vnd.jupyter.widget-view+json": {
       "model_id": "d33e19c971964c858b40ca344dd57d6e",
       "version_major": 2,
       "version_minor": 0
      },
      "text/plain": [
       "HBox(children=(FloatProgress(value=0.0, max=19.0), HTML(value='')))"
      ]
     },
     "metadata": {},
     "output_type": "display_data"
    },
    {
     "name": "stdout",
     "output_type": "stream",
     "text": [
      "\n",
      "Total time for MAP sublimb #0 mesh processing = 103.82401585578918\n",
      "correspondence_1_to_1: 6.449113607406616\n",
      "Total time for MAP sublimb processing 103.8241720199585\n",
      "***************Arrived at MESH PIECES FOR MAP AND mp***************\n",
      "---- Working on MP Decomposition #0 ----\n",
      "MP filtering soma verts: 0.0016207695007324219\n",
      "Do Not Need to Fix MP Decomposition 0 so just continuing\n",
      "---- Working on MP Decomposition #1 ----\n",
      "MP filtering soma verts: 0.0005102157592773438\n",
      "Do Not Need to Fix MP Decomposition 1 so just continuing\n",
      "---- Working on MP Decomposition #2 ----\n",
      "MP filtering soma verts: 0.000591278076171875\n",
      "Do Not Need to Fix MP Decomposition 2 so just continuing\n",
      "---- Working on MP Decomposition #3 ----\n",
      "MP filtering soma verts: 0.0009958744049072266\n",
      "Do Not Need to Fix MP Decomposition 3 so just continuing\n",
      "---- Working on MP Decomposition #4 ----\n",
      "MP filtering soma verts: 0.0007488727569580078\n",
      "Do Not Need to Fix MP Decomposition 4 so just continuing\n",
      "---- Working on MP Decomposition #5 ----\n",
      "MP filtering soma verts: 0.0029859542846679688\n",
      "Do Not Need to Fix MP Decomposition 5 so just continuing\n",
      "\n",
      "---- Working on (0, 0) connection-----\n",
      "winning_vertex = [505650.10601563 746001.25483436 923569.77901208]\n",
      "MP_branches_with_stitch_point = [1]\n",
      "Current stitch point was not a branch or endpoint, shortest_path_length to one = 34756.916656497975\n",
      "MAP_branches_with_stitch_point = [0]\n",
      "MAP_stitch_point_on_end_or_branch = False\n"
     ]
    },
    {
     "data": {
      "application/vnd.jupyter.widget-view+json": {
       "model_id": "6a26bc79e27f4dc4af1001ae3312a761",
       "version_major": 2,
       "version_minor": 0
      },
      "text/plain": [
       "HBox(children=(FloatProgress(value=1.0, bar_style='info', layout=Layout(width='20px'), max=1.0), HTML(value=''…"
      ]
     },
     "metadata": {},
     "output_type": "display_data"
    },
    {
     "name": "stdout",
     "output_type": "stream",
     "text": [
      "\n",
      "\n",
      "\n",
      "--- Working on 1-to-1 correspondence-----\n",
      "max(original_labels),len(original_labels) = (2, 3)\n",
      "empty_indices % = 0.010801757409520111\n",
      " conflict_indices % = 0.006675243342961866\n"
     ]
    },
    {
     "data": {
      "application/vnd.jupyter.widget-view+json": {
       "model_id": "cb5bcd8599d44858846f606b0fbf4479",
       "version_major": 2,
       "version_minor": 0
      },
      "text/plain": [
       "HBox(children=(FloatProgress(value=0.0, max=6.0), HTML(value='')))"
      ]
     },
     "metadata": {},
     "output_type": "display_data"
    },
    {
     "name": "stdout",
     "output_type": "stream",
     "text": [
      "\n",
      "AFTER face_lookup_resolved_test\n"
     ]
    },
    {
     "data": {
      "application/vnd.jupyter.widget-view+json": {
       "model_id": "c6d38540f7594d44964883fa9865d87a",
       "version_major": 2,
       "version_minor": 0
      },
      "text/plain": [
       "HBox(children=(FloatProgress(value=0.0, max=3.0), HTML(value='')))"
      ]
     },
     "metadata": {},
     "output_type": "display_data"
    },
    {
     "name": "stdout",
     "output_type": "stream",
     "text": [
      "\n",
      "Deleting branches from dictionary\n",
      " Finished with (0, 0) \n",
      "\n",
      "\n",
      "\n",
      "\n",
      "---- Working on (1, 0) connection-----\n",
      "winning_vertex = [591315.62600457 755607.78127527 885966.08547152]\n",
      "MP_branches_with_stitch_point = [0]\n",
      "Current stitch point was not a branch or endpoint, shortest_path_length to one = 17685.367090250293\n",
      "MAP_branches_with_stitch_point = [13]\n",
      "MAP_stitch_point_on_end_or_branch = False\n"
     ]
    },
    {
     "data": {
      "application/vnd.jupyter.widget-view+json": {
       "model_id": "4c5596641e994d6394fa34e859bed868",
       "version_major": 2,
       "version_minor": 0
      },
      "text/plain": [
       "HBox(children=(FloatProgress(value=1.0, bar_style='info', layout=Layout(width='20px'), max=1.0), HTML(value=''…"
      ]
     },
     "metadata": {},
     "output_type": "display_data"
    },
    {
     "name": "stdout",
     "output_type": "stream",
     "text": [
      "\n",
      "\n",
      "\n",
      "--- Working on 1-to-1 correspondence-----\n",
      "max(original_labels),len(original_labels) = (2, 3)\n",
      "empty_indices % = 0.02814105558150397\n",
      " conflict_indices % = 0.006305464736104624\n"
     ]
    },
    {
     "data": {
      "application/vnd.jupyter.widget-view+json": {
       "model_id": "277edb1eada34f1c84a986b9557c6434",
       "version_major": 2,
       "version_minor": 0
      },
      "text/plain": [
       "HBox(children=(FloatProgress(value=0.0, max=9.0), HTML(value='')))"
      ]
     },
     "metadata": {},
     "output_type": "display_data"
    },
    {
     "name": "stdout",
     "output_type": "stream",
     "text": [
      "\n",
      "AFTER face_lookup_resolved_test\n"
     ]
    },
    {
     "data": {
      "application/vnd.jupyter.widget-view+json": {
       "model_id": "ba417ec6a3974c288e12e75ba2fa2cb9",
       "version_major": 2,
       "version_minor": 0
      },
      "text/plain": [
       "HBox(children=(FloatProgress(value=0.0, max=3.0), HTML(value='')))"
      ]
     },
     "metadata": {},
     "output_type": "display_data"
    },
    {
     "name": "stdout",
     "output_type": "stream",
     "text": [
      "\n",
      "Deleting branches from dictionary\n",
      " Finished with (1, 0) \n",
      "\n",
      "\n",
      "\n",
      "\n",
      "---- Working on (2, 0) connection-----\n",
      "winning_vertex = [589993.58813283 848905.60513635 860067.00912503]\n",
      "MP_branches_with_stitch_point = [0]\n",
      "Current stitch point was not a branch or endpoint, shortest_path_length to one = 31158.533142208198\n",
      "MAP_branches_with_stitch_point = [8]\n",
      "MAP_stitch_point_on_end_or_branch = False\n"
     ]
    },
    {
     "data": {
      "application/vnd.jupyter.widget-view+json": {
       "model_id": "1be8f6ea08c04cedb3d8e63551b828eb",
       "version_major": 2,
       "version_minor": 0
      },
      "text/plain": [
       "HBox(children=(FloatProgress(value=1.0, bar_style='info', layout=Layout(width='20px'), max=1.0), HTML(value=''…"
      ]
     },
     "metadata": {},
     "output_type": "display_data"
    },
    {
     "name": "stdout",
     "output_type": "stream",
     "text": [
      "\n",
      "\n",
      "\n",
      "--- Working on 1-to-1 correspondence-----\n",
      "max(original_labels),len(original_labels) = (2, 3)\n",
      "empty_indices % = 0.022572991498055757\n",
      " conflict_indices % = 0.005931589006788374\n"
     ]
    },
    {
     "data": {
      "application/vnd.jupyter.widget-view+json": {
       "model_id": "1169a3e9c90b4402aa1464182dabc76d",
       "version_major": 2,
       "version_minor": 0
      },
      "text/plain": [
       "HBox(children=(FloatProgress(value=0.0, max=9.0), HTML(value='')))"
      ]
     },
     "metadata": {},
     "output_type": "display_data"
    },
    {
     "name": "stdout",
     "output_type": "stream",
     "text": [
      "\n",
      "AFTER face_lookup_resolved_test\n"
     ]
    },
    {
     "data": {
      "application/vnd.jupyter.widget-view+json": {
       "model_id": "cc84106cc2fe4bc88a9f61fc6b338070",
       "version_major": 2,
       "version_minor": 0
      },
      "text/plain": [
       "HBox(children=(FloatProgress(value=0.0, max=3.0), HTML(value='')))"
      ]
     },
     "metadata": {},
     "output_type": "display_data"
    },
    {
     "name": "stdout",
     "output_type": "stream",
     "text": [
      "\n",
      "Deleting branches from dictionary\n",
      " Finished with (2, 0) \n",
      "\n",
      "\n",
      "\n",
      "\n",
      "---- Working on (3, 0) connection-----\n",
      "winning_vertex = [607264.25124866 731077.89478847 879920.32434012]\n",
      "MP_branches_with_stitch_point = [0]\n",
      "Current stitch point was not a branch or endpoint, shortest_path_length to one = 49169.465590266984\n",
      "MAP_branches_with_stitch_point = [20]\n",
      "MAP_stitch_point_on_end_or_branch = False\n"
     ]
    },
    {
     "data": {
      "application/vnd.jupyter.widget-view+json": {
       "model_id": "0ce2407e666042e4928b722bb173108e",
       "version_major": 2,
       "version_minor": 0
      },
      "text/plain": [
       "HBox(children=(FloatProgress(value=1.0, bar_style='info', layout=Layout(width='20px'), max=1.0), HTML(value=''…"
      ]
     },
     "metadata": {},
     "output_type": "display_data"
    },
    {
     "name": "stdout",
     "output_type": "stream",
     "text": [
      "\n",
      "\n",
      "\n",
      "--- Working on 1-to-1 correspondence-----\n",
      "max(original_labels),len(original_labels) = (2, 3)\n",
      "empty_indices % = 0.02024019215372298\n",
      " conflict_indices % = 0.0061489191353082465\n"
     ]
    },
    {
     "data": {
      "application/vnd.jupyter.widget-view+json": {
       "model_id": "eac4c76dfdaf4fdea5f6facfc356b372",
       "version_major": 2,
       "version_minor": 0
      },
      "text/plain": [
       "HBox(children=(FloatProgress(value=0.0, max=8.0), HTML(value='')))"
      ]
     },
     "metadata": {},
     "output_type": "display_data"
    },
    {
     "name": "stdout",
     "output_type": "stream",
     "text": [
      "\n",
      "AFTER face_lookup_resolved_test\n"
     ]
    },
    {
     "data": {
      "application/vnd.jupyter.widget-view+json": {
       "model_id": "99bb0137522441b6983b4f27e9a9917b",
       "version_major": 2,
       "version_minor": 0
      },
      "text/plain": [
       "HBox(children=(FloatProgress(value=0.0, max=3.0), HTML(value='')))"
      ]
     },
     "metadata": {},
     "output_type": "display_data"
    },
    {
     "name": "stdout",
     "output_type": "stream",
     "text": [
      "\n",
      "Deleting branches from dictionary\n",
      " Finished with (3, 0) \n",
      "\n",
      "\n",
      "\n",
      "\n",
      "---- Working on (4, 0) connection-----\n",
      "winning_vertex = [477594.5557203  748794.27625902 935731.93490347]\n",
      "MP_branches_with_stitch_point = [0, 1]\n",
      "Current stitch point was a branch or endpoint\n",
      "MAP_branches_with_stitch_point = [0]\n",
      "MAP_stitch_point_on_end_or_branch = True\n"
     ]
    },
    {
     "data": {
      "application/vnd.jupyter.widget-view+json": {
       "model_id": "63baf63643b44230aa3aa423b95c7c7b",
       "version_major": 2,
       "version_minor": 0
      },
      "text/plain": [
       "HBox(children=(FloatProgress(value=1.0, bar_style='info', layout=Layout(width='20px'), max=1.0), HTML(value=''…"
      ]
     },
     "metadata": {},
     "output_type": "display_data"
    },
    {
     "name": "stdout",
     "output_type": "stream",
     "text": [
      "\n",
      "\n",
      "\n",
      "--- Working on 1-to-1 correspondence-----\n",
      "max(original_labels),len(original_labels) = (2, 3)\n",
      "empty_indices % = 0.036255945436596965\n",
      " conflict_indices % = 0.03087139908462712\n"
     ]
    },
    {
     "data": {
      "application/vnd.jupyter.widget-view+json": {
       "model_id": "57d1c69bebc64433a913866afad938b8",
       "version_major": 2,
       "version_minor": 0
      },
      "text/plain": [
       "HBox(children=(FloatProgress(value=0.0, max=5.0), HTML(value='')))"
      ]
     },
     "metadata": {},
     "output_type": "display_data"
    },
    {
     "name": "stdout",
     "output_type": "stream",
     "text": [
      "\n",
      "AFTER face_lookup_resolved_test\n"
     ]
    },
    {
     "data": {
      "application/vnd.jupyter.widget-view+json": {
       "model_id": "071e3b59e4504f62b159b83fef1d7c3c",
       "version_major": 2,
       "version_minor": 0
      },
      "text/plain": [
       "HBox(children=(FloatProgress(value=0.0, max=3.0), HTML(value='')))"
      ]
     },
     "metadata": {},
     "output_type": "display_data"
    },
    {
     "name": "stdout",
     "output_type": "stream",
     "text": [
      "\n",
      " Finished with (4, 0) \n",
      "\n",
      "\n",
      "\n",
      "\n",
      "---- Working on (5, 0) connection-----\n",
      "winning_vertex = [597327.89804131 746508.67764411 884683.08259358]\n",
      "MP_branches_with_stitch_point = [0]\n",
      "Current stitch point was not a branch or endpoint, shortest_path_length to one = 29137.89914266304\n",
      "MAP_branches_with_stitch_point = [20]\n",
      "MAP_stitch_point_on_end_or_branch = False\n"
     ]
    },
    {
     "data": {
      "application/vnd.jupyter.widget-view+json": {
       "model_id": "0ed7747f55f14986968fa6c9b1d71e98",
       "version_major": 2,
       "version_minor": 0
      },
      "text/plain": [
       "HBox(children=(FloatProgress(value=1.0, bar_style='info', layout=Layout(width='20px'), max=1.0), HTML(value=''…"
      ]
     },
     "metadata": {},
     "output_type": "display_data"
    },
    {
     "name": "stdout",
     "output_type": "stream",
     "text": [
      "\n",
      "\n",
      "\n",
      "--- Working on 1-to-1 correspondence-----\n",
      "max(original_labels),len(original_labels) = (2, 3)\n",
      "empty_indices % = 0.013042641255173742\n",
      " conflict_indices % = 0.009048031571854846\n"
     ]
    },
    {
     "data": {
      "application/vnd.jupyter.widget-view+json": {
       "model_id": "ac5b2286c2ff4c0f9063234378f208b2",
       "version_major": 2,
       "version_minor": 0
      },
      "text/plain": [
       "HBox(children=(FloatProgress(value=0.0, max=6.0), HTML(value='')))"
      ]
     },
     "metadata": {},
     "output_type": "display_data"
    },
    {
     "name": "stdout",
     "output_type": "stream",
     "text": [
      "\n",
      "AFTER face_lookup_resolved_test\n"
     ]
    },
    {
     "data": {
      "application/vnd.jupyter.widget-view+json": {
       "model_id": "4c228a7fea2149fda76413cd35f50d09",
       "version_major": 2,
       "version_minor": 0
      },
      "text/plain": [
       "HBox(children=(FloatProgress(value=0.0, max=3.0), HTML(value='')))"
      ]
     },
     "metadata": {},
     "output_type": "display_data"
    },
    {
     "name": "stdout",
     "output_type": "stream",
     "text": [
      "\n",
      "Deleting branches from dictionary\n",
      " Finished with (5, 0) \n",
      "\n",
      "\n",
      "\n",
      "Time for decomp of Limb 1 = 136.74081301689148\n",
      "Starting_branch = 12\n",
      "Start endpt = [579728. 770025. 884915.]\n",
      "Starting_branch endpoints = [[579728. 770025. 884915.]\n",
      " [579854. 768257. 883913.]]\n",
      "Starting_edge inside branches_to_conept = [[579728. 770025. 884915.]\n",
      " [579854. 768257. 883913.]]\n",
      "At the start, starting_node (in terms of the skeleton, that shouldn't match the starting edge) = [21]\n",
      "printing out current edge:\n",
      "[[579728. 770025. 884915.]\n",
      " [579854. 768257. 883913.]]\n",
      "edge_endpoints_to_process was empty so exiting loop after 35 iterations\n",
      "starting_node in concept map (that should match the starting edge) = 12\n",
      "Total time for branches to concept conversion = 0.5450074672698975\n",
      "\n",
      "Done generating concept network \n",
      "\n",
      "\n",
      "recovered_touching_piece = [12]\n",
      "Starting_branch = 10\n",
      "Start endpt = [574112.13372093 784665.63837209 890838.61395349]\n",
      "Starting_branch endpoints = [[573258.         785953.         890085.        ]\n",
      " [574112.13372093 784665.63837209 890838.61395349]]\n",
      "Starting_edge inside branches_to_conept = [[573258.         785953.         890085.        ]\n",
      " [574112.13372093 784665.63837209 890838.61395349]]\n",
      "At the start, starting_node (in terms of the skeleton, that shouldn't match the starting edge) = [17]\n",
      "printing out current edge:\n",
      "[[574112.13372093 784665.63837209 890838.61395349]\n",
      " [573258.         785953.         890085.        ]]\n",
      "edge_endpoints_to_process was empty so exiting loop after 35 iterations\n",
      "starting_node in concept map (that should match the starting edge) = 10\n",
      "Total time for branches to concept conversion = 0.5487656593322754\n",
      "\n",
      "Done generating concept network \n",
      "\n",
      "\n",
      "recovered_touching_piece = [10]\n"
     ]
    },
    {
     "name": "stderr",
     "output_type": "stream",
     "text": [
      "\r",
      "  0%|          | 0/1 [00:00<?, ?it/s]"
     ]
    },
    {
     "name": "stdout",
     "output_type": "stream",
     "text": [
      "\n",
      "\n",
      "----- Working on Proper Limb #2 ---------\n",
      "Time for preparing soma vertices and root: 0.00028252601623535156\n",
      "smooth_neighborhood = 1\n"
     ]
    },
    {
     "data": {
      "application/vnd.jupyter.widget-view+json": {
       "model_id": "11b2598fec834e89a0236356c66fb7e7",
       "version_major": 2,
       "version_minor": 0
      },
      "text/plain": [
       "HBox(children=(FloatProgress(value=0.0, max=75956.0), HTML(value='')))"
      ]
     },
     "metadata": {},
     "output_type": "display_data"
    },
    {
     "name": "stderr",
     "output_type": "stream",
     "text": [
      "100%|██████████| 1/1 [00:00<00:00,  1.19it/s]"
     ]
    },
    {
     "name": "stdout",
     "output_type": "stream",
     "text": [
      "\n"
     ]
    },
    {
     "name": "stderr",
     "output_type": "stream",
     "text": [
      "\n"
     ]
    },
    {
     "name": "stdout",
     "output_type": "stream",
     "text": [
      "Time for 1st pass MP skeletonization: 1.5620431900024414\n",
      "branches_touching_root = [16]\n",
      "empty_indices % = 0.0\n",
      " conflict_indices % = 0.004497097688055947\n"
     ]
    },
    {
     "data": {
      "application/vnd.jupyter.widget-view+json": {
       "model_id": "a10a846a3d734a91ac1cce7eccaca4c1",
       "version_major": 2,
       "version_minor": 0
      },
      "text/plain": [
       "HBox(children=(FloatProgress(value=0.0, max=8.0), HTML(value='')))"
      ]
     },
     "metadata": {},
     "output_type": "display_data"
    },
    {
     "name": "stdout",
     "output_type": "stream",
     "text": [
      "\n",
      "AFTER face_lookup_resolved_test\n"
     ]
    },
    {
     "data": {
      "application/vnd.jupyter.widget-view+json": {
       "model_id": "716a8b093f974b80881700fa73c04e3b",
       "version_major": 2,
       "version_minor": 0
      },
      "text/plain": [
       "HBox(children=(FloatProgress(value=0.0, max=17.0), HTML(value='')))"
      ]
     },
     "metadata": {},
     "output_type": "display_data"
    },
    {
     "name": "stdout",
     "output_type": "stream",
     "text": [
      "\n",
      "Decomposing first pass: 3.0753448009490967\n",
      "Found len(mesh_large_idx) MAP candidates: [839, 26606, 2226, 1641, 17030, 4103, 27170, 20150]\n",
      "mesh_large_connectivity: 0.18686389923095703\n",
      "Finding MAP candidates connected components: 0.00018215179443359375\n",
      "len(filtered_pieces) = 1\n",
      "Gettng rid of 1 nodes\n",
      "skeleton_connectivity_MP : 0.19417428970336914\n",
      "Grouping MP Sublimbs by Graph: 0.02958846092224121\n",
      "Divinding into MP and MAP pieces: 2.384185791015625e-06\n",
      "--- Working on MAP piece 0---\n",
      "MAP Filtering Soma Pieces: 0.0064105987548828125\n",
      "inside skeletonize_connected_branch and use_surface_after_CGAL=False, surface_reconstruction_size=500\n",
      "     Starting Screened Poisson\n",
      "xvfb-run -n 1635 -s \"-screen 0 800x600x24\" meshlabserver $@  -i /notebooks/Platinum_Decomp_Fusion/temp/None.off -o /notebooks/Platinum_Decomp_Fusion/temp/None_poisson.off -s /notebooks/Platinum_Decomp_Fusion/temp/poisson_326571.mls\n",
      "removed temporary input file: /notebooks/Platinum_Decomp_Fusion/temp/None.off\n",
      "removed temporary output file: /notebooks/Platinum_Decomp_Fusion/temp/None_poisson.off\n",
      "Using the close holes feature\n",
      "xvfb-run -n 5253 -s \"-screen 0 800x600x24\" meshlabserver $@  -i /notebooks/Platinum_Decomp_Fusion/temp/neuron_14865.off -o /notebooks/Platinum_Decomp_Fusion/temp/neuron_14865_fill_holes.off -s /notebooks/Platinum_Decomp_Fusion/temp/fill_holes_471648.mls\n",
      "removed temporary input file: /notebooks/Platinum_Decomp_Fusion/temp/neuron_14865.off\n",
      "removed temporary output file: /notebooks/Platinum_Decomp_Fusion/temp/neuron_14865_fill_holes.off\n",
      "-----Time for Screened Poisson= 27.677874088287354\n",
      "     Starting Calcification\n",
      "Before mesh subtraction number of skeleton edges = 1136\n",
      "Inside mesh subtraction, len(main_mesh_bbox_restricted.faces) = 99765\n"
     ]
    },
    {
     "data": {
      "application/vnd.jupyter.widget-view+json": {
       "model_id": "dcaa2cf40f7c4d73aed0ab9d02f08aae",
       "version_major": 2,
       "version_minor": 0
      },
      "text/plain": [
       "HBox(children=(FloatProgress(value=1.0, bar_style='info', layout=Layout(width='20px'), max=1.0), HTML(value=''…"
      ]
     },
     "metadata": {},
     "output_type": "display_data"
    },
    {
     "name": "stdout",
     "output_type": "stream",
     "text": [
      "\n",
      "Total Mesh subtraction time = 12.8518\n"
     ]
    },
    {
     "data": {
      "application/vnd.jupyter.widget-view+json": {
       "model_id": "daa3359a52374ab490ed6e81edbc8a77",
       "version_major": 2,
       "version_minor": 0
      },
      "text/plain": [
       "HBox(children=(FloatProgress(value=1.0, bar_style='info', layout=Layout(width='20px'), max=1.0), HTML(value=''…"
      ]
     },
     "metadata": {},
     "output_type": "display_data"
    },
    {
     "name": "stdout",
     "output_type": "stream",
     "text": [
      "\n",
      "No skeletons to stack so returning empty list\n",
      "len_subgraphs AT BEGINNING of the loop\n"
     ]
    },
    {
     "data": {
      "application/vnd.jupyter.widget-view+json": {
       "model_id": "a40844d126fc4118a3ca9588f411b2a4",
       "version_major": 2,
       "version_minor": 0
      },
      "text/plain": [
       "HBox(children=(FloatProgress(value=0.0, max=6.0), HTML(value='')))"
      ]
     },
     "metadata": {},
     "output_type": "display_data"
    },
    {
     "name": "stdout",
     "output_type": "stream",
     "text": [
      "all graph is one component!\n",
      "\n",
      "Total time for skeleton stitching = 0.07311773300170898\n",
      "The process was using a temp folder\n",
      "    Total time for skeletonizing branch: 49.049686670303345\n",
      "skipping soma 0 because closest skeleton node was already end node\n",
      "    Total time for Fixing Skeleton Soma Endpoint Extension : 3.634495973587036\n",
      "filter_end_node_length = 4001\n",
      "Using Distance measure skeletal_distance\n",
      "Going to ignore certain endnodes that are 5000 nm close to soma border vertices\n",
      "Number of end_nodes BEFORE filtering = 31\n",
      "Using an already specified end node: 0 with index 0checking was correct node end_nodes[index] = 0\n",
      "May Eliminate end_node 0: 0 because path_len to soma border was 1915.3864422478748\n",
      "single_node_to_eliminate = 0\n",
      "all_single_nodes_to_eliminate = [0, 0]\n"
     ]
    },
    {
     "data": {
      "application/vnd.jupyter.widget-view+json": {
       "model_id": "00178aecc9db49ea9b01fdef2822700b",
       "version_major": 2,
       "version_minor": 0
      },
      "text/plain": [
       "HBox(children=(FloatProgress(value=0.0, max=27.0), HTML(value='')))"
      ]
     },
     "metadata": {},
     "output_type": "display_data"
    },
    {
     "name": "stdout",
     "output_type": "stream",
     "text": [
      "\n",
      "********COMBINING CLOSE SKELETON NODES WITHIN 700 DISTANCE**********\n",
      "Found 0 valid paths to replace\n",
      "valid_paths = []\n",
      "valid_path_lengths = []\n",
      "No valid paths found so just returning the original\n",
      "skeletonize_and_clean_connected_branch_CGAL: 54.345356941223145\n",
      "Working on limb correspondence for #0 MAP piece\n"
     ]
    },
    {
     "data": {
      "application/vnd.jupyter.widget-view+json": {
       "model_id": "5244494b2af64a14b72018ea85ba5be9",
       "version_major": 2,
       "version_minor": 0
      },
      "text/plain": [
       "HBox(children=(FloatProgress(value=1.0, bar_style='info', layout=Layout(width='20px'), max=1.0), HTML(value=''…"
      ]
     },
     "metadata": {},
     "output_type": "display_data"
    },
    {
     "name": "stdout",
     "output_type": "stream",
     "text": [
      "\n",
      "Total time for decomposition = 12.214571237564087\n",
      "mesh_correspondence_first_pass: 12.214606046676636\n",
      "Limb decomposed into 7 branches\n",
      "divided_skeleton_graph_recovered = (1096, 2, 3) and \n",
      "current_mesh_data[0]['branch_skeletons_cleaned'].shape = (1096, 2, 3)\n",
      "\n",
      "Number of connected components in deocmposed recovered graph = 1\n",
      "Number of connected components in cleaned skeleton graph= 1\n",
      "The downsampled branches number of connected components = 1\n",
      "Empty submeshes = []\n",
      "\n",
      "\n",
      "--- Working on 1-to-1 correspondence-----\n",
      "max(original_labels),len(original_labels) = (6, 7)\n",
      "empty_indices % = 0.027203929233699194\n",
      " conflict_indices % = 0.01027414423896156\n"
     ]
    },
    {
     "data": {
      "application/vnd.jupyter.widget-view+json": {
       "model_id": "d26bdd7803df4f1f9f87c5ed781d6b20",
       "version_major": 2,
       "version_minor": 0
      },
      "text/plain": [
       "HBox(children=(FloatProgress(value=0.0, max=26.0), HTML(value='')))"
      ]
     },
     "metadata": {},
     "output_type": "display_data"
    },
    {
     "name": "stdout",
     "output_type": "stream",
     "text": [
      "\n",
      "AFTER face_lookup_resolved_test\n",
      "Took 0 iterations to expand the label back\n"
     ]
    },
    {
     "data": {
      "application/vnd.jupyter.widget-view+json": {
       "model_id": "4a499ec9ac234b2b9afe45815293e563",
       "version_major": 2,
       "version_minor": 0
      },
      "text/plain": [
       "HBox(children=(FloatProgress(value=0.0, max=7.0), HTML(value='')))"
      ]
     },
     "metadata": {},
     "output_type": "display_data"
    },
    {
     "name": "stdout",
     "output_type": "stream",
     "text": [
      "\n",
      "Total time for MAP sublimb #0 mesh processing = 70.08062767982483\n",
      "correspondence_1_to_1: 3.5142598152160645\n",
      "Total time for MAP sublimb processing 70.08075833320618\n",
      "***************Arrived at MESH PIECES FOR MAP AND mp***************\n",
      "---- Working on MP Decomposition #0 ----\n",
      "MP filtering soma verts: 0.0023229122161865234\n",
      "Do Not Need to Fix MP Decomposition 0 so just continuing\n",
      "---- Working on MP Decomposition #1 ----\n",
      "MP filtering soma verts: 0.0004107952117919922\n",
      "Do Not Need to Fix MP Decomposition 1 so just continuing\n",
      "---- Working on MP Decomposition #2 ----\n",
      "MP filtering soma verts: 0.0013136863708496094\n",
      "Do Not Need to Fix MP Decomposition 2 so just continuing\n",
      "---- Working on MP Decomposition #3 ----\n",
      "MP filtering soma verts: 0.0006830692291259766\n",
      "Do Not Need to Fix MP Decomposition 3 so just continuing\n",
      "---- Working on MP Decomposition #4 ----\n",
      "MP filtering soma verts: 0.0012707710266113281\n",
      "Do Not Need to Fix MP Decomposition 4 so just continuing\n",
      "\n",
      "---- Working on (0, 0) connection-----\n",
      "winning_vertex = [663874.07691202 910533.71524588 907397.77593947]\n",
      "MP_branches_with_stitch_point = [0, 1]\n",
      "Current stitch point was a branch or endpoint\n",
      "MAP_branches_with_stitch_point = [5]\n",
      "MAP_stitch_point_on_end_or_branch = True\n"
     ]
    },
    {
     "data": {
      "application/vnd.jupyter.widget-view+json": {
       "model_id": "6d7fb73fa46b4d97890e3691e2e5d328",
       "version_major": 2,
       "version_minor": 0
      },
      "text/plain": [
       "HBox(children=(FloatProgress(value=1.0, bar_style='info', layout=Layout(width='20px'), max=1.0), HTML(value=''…"
      ]
     },
     "metadata": {},
     "output_type": "display_data"
    },
    {
     "name": "stdout",
     "output_type": "stream",
     "text": [
      "\n",
      "\n",
      "\n",
      "--- Working on 1-to-1 correspondence-----\n",
      "max(original_labels),len(original_labels) = (2, 3)\n",
      "empty_indices % = 0.024110555718906204\n",
      " conflict_indices % = 0.005827163133837641\n"
     ]
    },
    {
     "data": {
      "application/vnd.jupyter.widget-view+json": {
       "model_id": "31bd0ff6006a42daaa04349af8c41e7b",
       "version_major": 2,
       "version_minor": 0
      },
      "text/plain": [
       "HBox(children=(FloatProgress(value=0.0, max=9.0), HTML(value='')))"
      ]
     },
     "metadata": {},
     "output_type": "display_data"
    },
    {
     "name": "stdout",
     "output_type": "stream",
     "text": [
      "\n",
      "AFTER face_lookup_resolved_test\n"
     ]
    },
    {
     "data": {
      "application/vnd.jupyter.widget-view+json": {
       "model_id": "62526172d7c14cfe842a13f3377f6497",
       "version_major": 2,
       "version_minor": 0
      },
      "text/plain": [
       "HBox(children=(FloatProgress(value=0.0, max=3.0), HTML(value='')))"
      ]
     },
     "metadata": {},
     "output_type": "display_data"
    },
    {
     "name": "stdout",
     "output_type": "stream",
     "text": [
      "\n",
      " Finished with (0, 0) \n",
      "\n",
      "\n",
      "\n",
      "\n",
      "---- Working on (1, 0) connection-----\n",
      "winning_vertex = [662955.77795536 905826.64719248 907850.51395737]\n",
      "MP_branches_with_stitch_point = [0]\n",
      "Current stitch point was not a branch or endpoint, shortest_path_length to one = 3443.35491871969\n",
      "MAP_branches_with_stitch_point = [5]\n",
      "MAP_stitch_point_on_end_or_branch = False\n"
     ]
    },
    {
     "data": {
      "application/vnd.jupyter.widget-view+json": {
       "model_id": "f6f700efedaf41ccbe9f726319f28737",
       "version_major": 2,
       "version_minor": 0
      },
      "text/plain": [
       "HBox(children=(FloatProgress(value=1.0, bar_style='info', layout=Layout(width='20px'), max=1.0), HTML(value=''…"
      ]
     },
     "metadata": {},
     "output_type": "display_data"
    },
    {
     "name": "stdout",
     "output_type": "stream",
     "text": [
      "\n",
      "\n",
      "\n",
      "--- Working on 1-to-1 correspondence-----\n",
      "max(original_labels),len(original_labels) = (2, 3)\n",
      "empty_indices % = 0.0223618176231607\n",
      " conflict_indices % = 0.0030043358028063226\n"
     ]
    },
    {
     "data": {
      "application/vnd.jupyter.widget-view+json": {
       "model_id": "a123378fbf4d48b4ba9b758b3002f5a7",
       "version_major": 2,
       "version_minor": 0
      },
      "text/plain": [
       "HBox(children=(FloatProgress(value=0.0, max=8.0), HTML(value='')))"
      ]
     },
     "metadata": {},
     "output_type": "display_data"
    },
    {
     "name": "stdout",
     "output_type": "stream",
     "text": [
      "\n",
      "AFTER face_lookup_resolved_test\n"
     ]
    },
    {
     "data": {
      "application/vnd.jupyter.widget-view+json": {
       "model_id": "56f1bcc2c041491f920e1ec58b20b82c",
       "version_major": 2,
       "version_minor": 0
      },
      "text/plain": [
       "HBox(children=(FloatProgress(value=0.0, max=3.0), HTML(value='')))"
      ]
     },
     "metadata": {},
     "output_type": "display_data"
    },
    {
     "name": "stdout",
     "output_type": "stream",
     "text": [
      "\n",
      "Deleting branches from dictionary\n",
      " Finished with (1, 0) \n",
      "\n",
      "\n",
      "\n",
      "\n",
      "---- Working on (2, 0) connection-----\n",
      "Gettng rid of 1 nodes\n",
      "winning_vertex = [592481.98044849 775891.86305588 963189.98436009]\n",
      "MP_branches_with_stitch_point = [1]\n",
      "Current stitch point was not a branch or endpoint, shortest_path_length to one = 27876.96674757849\n",
      "MAP_branches_with_stitch_point = [1]\n",
      "MAP_stitch_point_on_end_or_branch = False\n"
     ]
    },
    {
     "data": {
      "application/vnd.jupyter.widget-view+json": {
       "model_id": "1fb611c4a25f42d397d53732efbc939d",
       "version_major": 2,
       "version_minor": 0
      },
      "text/plain": [
       "HBox(children=(FloatProgress(value=1.0, bar_style='info', layout=Layout(width='20px'), max=1.0), HTML(value=''…"
      ]
     },
     "metadata": {},
     "output_type": "display_data"
    },
    {
     "name": "stdout",
     "output_type": "stream",
     "text": [
      "\n",
      "\n",
      "\n",
      "--- Working on 1-to-1 correspondence-----\n",
      "max(original_labels),len(original_labels) = (2, 3)\n",
      "empty_indices % = 0.009559484566976325\n",
      " conflict_indices % = 0.00572370392568175\n"
     ]
    },
    {
     "data": {
      "application/vnd.jupyter.widget-view+json": {
       "model_id": "af05584ad5264d97b3321e5e87014b33",
       "version_major": 2,
       "version_minor": 0
      },
      "text/plain": [
       "HBox(children=(FloatProgress(value=0.0, max=9.0), HTML(value='')))"
      ]
     },
     "metadata": {},
     "output_type": "display_data"
    },
    {
     "name": "stdout",
     "output_type": "stream",
     "text": [
      "\n",
      "AFTER face_lookup_resolved_test\n"
     ]
    },
    {
     "data": {
      "application/vnd.jupyter.widget-view+json": {
       "model_id": "abac43f79c35429cbffc08c4c1802c44",
       "version_major": 2,
       "version_minor": 0
      },
      "text/plain": [
       "HBox(children=(FloatProgress(value=0.0, max=3.0), HTML(value='')))"
      ]
     },
     "metadata": {},
     "output_type": "display_data"
    },
    {
     "name": "stdout",
     "output_type": "stream",
     "text": [
      "\n",
      "Deleting branches from dictionary\n",
      " Finished with (2, 0) \n",
      "\n",
      "\n",
      "\n",
      "\n",
      "---- Working on (3, 0) connection-----\n",
      "winning_vertex = [597639.10168588 778777.29258182 895857.12781047]\n",
      "MP_branches_with_stitch_point = [0]\n",
      "Current stitch point was not a branch or endpoint, shortest_path_length to one = 6194.998704775891\n",
      "MAP_branches_with_stitch_point = [4]\n",
      "MAP_stitch_point_on_end_or_branch = False\n"
     ]
    },
    {
     "data": {
      "application/vnd.jupyter.widget-view+json": {
       "model_id": "ace4ebecd2cb4754aa5a30c83fbc0262",
       "version_major": 2,
       "version_minor": 0
      },
      "text/plain": [
       "HBox(children=(FloatProgress(value=1.0, bar_style='info', layout=Layout(width='20px'), max=1.0), HTML(value=''…"
      ]
     },
     "metadata": {},
     "output_type": "display_data"
    },
    {
     "name": "stdout",
     "output_type": "stream",
     "text": [
      "\n",
      "\n",
      "\n",
      "--- Working on 1-to-1 correspondence-----\n",
      "max(original_labels),len(original_labels) = (2, 3)\n",
      "empty_indices % = 0.01573156315358734\n",
      " conflict_indices % = 0.021824133854687643\n"
     ]
    },
    {
     "data": {
      "application/vnd.jupyter.widget-view+json": {
       "model_id": "d2b0bc2772624fa1853dc792a2c3d983",
       "version_major": 2,
       "version_minor": 0
      },
      "text/plain": [
       "HBox(children=(FloatProgress(value=0.0, max=2.0), HTML(value='')))"
      ]
     },
     "metadata": {},
     "output_type": "display_data"
    },
    {
     "name": "stdout",
     "output_type": "stream",
     "text": [
      "\n",
      "AFTER face_lookup_resolved_test\n"
     ]
    },
    {
     "data": {
      "application/vnd.jupyter.widget-view+json": {
       "model_id": "c555d3429f3c421c9c7e40fdb0171da7",
       "version_major": 2,
       "version_minor": 0
      },
      "text/plain": [
       "HBox(children=(FloatProgress(value=0.0, max=3.0), HTML(value='')))"
      ]
     },
     "metadata": {},
     "output_type": "display_data"
    },
    {
     "name": "stdout",
     "output_type": "stream",
     "text": [
      "\n",
      "Deleting branches from dictionary\n",
      " Finished with (3, 0) \n",
      "\n",
      "\n",
      "\n",
      "\n",
      "---- Working on (4, 0) connection-----\n",
      "winning_vertex = [648531.23433295 699616.10245187 872905.97328518]\n",
      "MP_branches_with_stitch_point = [0, 1]\n",
      "Current stitch point was a branch or endpoint\n",
      "MAP_branches_with_stitch_point = [3]\n",
      "MAP_stitch_point_on_end_or_branch = True\n"
     ]
    },
    {
     "data": {
      "application/vnd.jupyter.widget-view+json": {
       "model_id": "675f161095f0499a9c7f6aa0532f180f",
       "version_major": 2,
       "version_minor": 0
      },
      "text/plain": [
       "HBox(children=(FloatProgress(value=1.0, bar_style='info', layout=Layout(width='20px'), max=1.0), HTML(value=''…"
      ]
     },
     "metadata": {},
     "output_type": "display_data"
    },
    {
     "name": "stdout",
     "output_type": "stream",
     "text": [
      "\n",
      "\n",
      "\n",
      "--- Working on 1-to-1 correspondence-----\n",
      "max(original_labels),len(original_labels) = (2, 3)\n",
      "empty_indices % = 0.011134787958822294\n",
      " conflict_indices % = 0.003811639004772052\n"
     ]
    },
    {
     "data": {
      "application/vnd.jupyter.widget-view+json": {
       "model_id": "b27ce524dd6544f7a29e518cd53e7538",
       "version_major": 2,
       "version_minor": 0
      },
      "text/plain": [
       "HBox(children=(FloatProgress(value=0.0, max=3.0), HTML(value='')))"
      ]
     },
     "metadata": {},
     "output_type": "display_data"
    },
    {
     "name": "stdout",
     "output_type": "stream",
     "text": [
      "\n",
      "AFTER face_lookup_resolved_test\n"
     ]
    },
    {
     "data": {
      "application/vnd.jupyter.widget-view+json": {
       "model_id": "dc19641c9261433fb70cd2c36fefd6f2",
       "version_major": 2,
       "version_minor": 0
      },
      "text/plain": [
       "HBox(children=(FloatProgress(value=0.0, max=3.0), HTML(value='')))"
      ]
     },
     "metadata": {},
     "output_type": "display_data"
    },
    {
     "name": "stdout",
     "output_type": "stream",
     "text": [
      "\n",
      " Finished with (4, 0) \n",
      "\n",
      "\n",
      "\n",
      "Time for decomp of Limb 2 = 98.247065782547\n",
      "Starting_branch = 0\n",
      "Start endpt = [583811. 776181. 894191.]\n",
      "Starting_branch endpoints = [[583811. 776181. 894191.]\n",
      " [584901. 775878. 894865.]]\n",
      "Starting_edge inside branches_to_conept = [[583811. 776181. 894191.]\n",
      " [584901. 775878. 894865.]]\n",
      "Gettng rid of 1 nodes\n",
      "At the start, starting_node (in terms of the skeleton, that shouldn't match the starting edge) = [0]\n",
      "printing out current edge:\n",
      "[[583811. 776181. 894191.]\n",
      " [584901. 775878. 894865.]]\n",
      "edge_endpoints_to_process was empty so exiting loop after 19 iterations\n",
      "starting_node in concept map (that should match the starting edge) = 0\n",
      "Total time for branches to concept conversion = 0.3994150161743164\n",
      "\n",
      "Done generating concept network \n",
      "\n",
      "\n",
      "recovered_touching_piece = [0]\n",
      "Gettng rid of 1 nodes\n"
     ]
    },
    {
     "name": "stderr",
     "output_type": "stream",
     "text": [
      "\r",
      "  0%|          | 0/1 [00:00<?, ?it/s]"
     ]
    },
    {
     "name": "stdout",
     "output_type": "stream",
     "text": [
      "\n",
      "\n",
      "----- Working on Proper Limb #3 ---------\n",
      "Time for preparing soma vertices and root: 0.00018787384033203125\n",
      "smooth_neighborhood = 1\n"
     ]
    },
    {
     "data": {
      "application/vnd.jupyter.widget-view+json": {
       "model_id": "6f19756d5b6d490da054713e9f515027",
       "version_major": 2,
       "version_minor": 0
      },
      "text/plain": [
       "HBox(children=(FloatProgress(value=0.0, max=54060.0), HTML(value='')))"
      ]
     },
     "metadata": {},
     "output_type": "display_data"
    },
    {
     "name": "stderr",
     "output_type": "stream",
     "text": [
      "100%|██████████| 1/1 [00:00<00:00,  2.28it/s]"
     ]
    },
    {
     "name": "stdout",
     "output_type": "stream",
     "text": [
      "\n"
     ]
    },
    {
     "name": "stderr",
     "output_type": "stream",
     "text": [
      "\n"
     ]
    },
    {
     "name": "stdout",
     "output_type": "stream",
     "text": [
      "Time for 1st pass MP skeletonization: 0.9782238006591797\n",
      "branches_touching_root = [10]\n",
      "empty_indices % = 0.0\n",
      " conflict_indices % = 0.004553337104596923\n"
     ]
    },
    {
     "data": {
      "application/vnd.jupyter.widget-view+json": {
       "model_id": "62267025bd084ef79e6b321b9921f9a8",
       "version_major": 2,
       "version_minor": 0
      },
      "text/plain": [
       "HBox(children=(FloatProgress(value=0.0, max=4.0), HTML(value='')))"
      ]
     },
     "metadata": {},
     "output_type": "display_data"
    },
    {
     "name": "stdout",
     "output_type": "stream",
     "text": [
      "\n",
      "AFTER face_lookup_resolved_test\n"
     ]
    },
    {
     "data": {
      "application/vnd.jupyter.widget-view+json": {
       "model_id": "aeadadcb9af348ca95f2137361410bcc",
       "version_major": 2,
       "version_minor": 0
      },
      "text/plain": [
       "HBox(children=(FloatProgress(value=0.0, max=11.0), HTML(value='')))"
      ]
     },
     "metadata": {},
     "output_type": "display_data"
    },
    {
     "name": "stdout",
     "output_type": "stream",
     "text": [
      "\n",
      "Decomposing first pass: 1.6101210117340088\n",
      "Found len(mesh_large_idx) MAP candidates: [14387, 226, 19431, 12635, 6417, 12461, 13972, 13697]\n",
      "mesh_large_connectivity: 0.1610260009765625\n",
      "Finding MAP candidates connected components: 0.00016355514526367188\n",
      "len(filtered_pieces) = 1\n",
      "skeleton_connectivity_MP : 0.06932973861694336\n",
      "Grouping MP Sublimbs by Graph: 0.008498430252075195\n",
      "Divinding into MP and MAP pieces: 1.9073486328125e-06\n",
      "--- Working on MAP piece 0---\n",
      "MAP Filtering Soma Pieces: 0.010594844818115234\n",
      "inside skeletonize_connected_branch and use_surface_after_CGAL=False, surface_reconstruction_size=500\n",
      "     Starting Screened Poisson\n",
      "xvfb-run -n 9647 -s \"-screen 0 800x600x24\" meshlabserver $@  -i /notebooks/Platinum_Decomp_Fusion/temp/None.off -o /notebooks/Platinum_Decomp_Fusion/temp/None_poisson.off -s /notebooks/Platinum_Decomp_Fusion/temp/poisson_945762.mls\n",
      "removed temporary input file: /notebooks/Platinum_Decomp_Fusion/temp/None.off\n",
      "removed temporary output file: /notebooks/Platinum_Decomp_Fusion/temp/None_poisson.off\n",
      "Using the close holes feature\n",
      "xvfb-run -n 3096 -s \"-screen 0 800x600x24\" meshlabserver $@  -i /notebooks/Platinum_Decomp_Fusion/temp/neuron_2250.off -o /notebooks/Platinum_Decomp_Fusion/temp/neuron_2250_fill_holes.off -s /notebooks/Platinum_Decomp_Fusion/temp/fill_holes_710841.mls\n",
      "removed temporary input file: /notebooks/Platinum_Decomp_Fusion/temp/neuron_2250.off\n",
      "removed temporary output file: /notebooks/Platinum_Decomp_Fusion/temp/neuron_2250_fill_holes.off\n",
      "-----Time for Screened Poisson= 26.55290722846985\n",
      "     Starting Calcification\n",
      "Before mesh subtraction number of skeleton edges = 1134\n",
      "Inside mesh subtraction, len(main_mesh_bbox_restricted.faces) = 93226\n"
     ]
    },
    {
     "data": {
      "application/vnd.jupyter.widget-view+json": {
       "model_id": "a0c2ea5424b941b68ed9e9a16f37cfa0",
       "version_major": 2,
       "version_minor": 0
      },
      "text/plain": [
       "HBox(children=(FloatProgress(value=1.0, bar_style='info', layout=Layout(width='20px'), max=1.0), HTML(value=''…"
      ]
     },
     "metadata": {},
     "output_type": "display_data"
    },
    {
     "name": "stdout",
     "output_type": "stream",
     "text": [
      "\n",
      "Total Mesh subtraction time = 12.1697\n"
     ]
    },
    {
     "data": {
      "application/vnd.jupyter.widget-view+json": {
       "model_id": "c5228bd86f454a9c878dea7ad995bf62",
       "version_major": 2,
       "version_minor": 0
      },
      "text/plain": [
       "HBox(children=(FloatProgress(value=1.0, bar_style='info', layout=Layout(width='20px'), max=1.0), HTML(value=''…"
      ]
     },
     "metadata": {},
     "output_type": "display_data"
    },
    {
     "name": "stdout",
     "output_type": "stream",
     "text": [
      "\n",
      "No skeletons to stack so returning empty list\n",
      "len_subgraphs AT BEGINNING of the loop\n"
     ]
    },
    {
     "data": {
      "application/vnd.jupyter.widget-view+json": {
       "model_id": "137e31097e0e4939804bfb2d1be0ef2e",
       "version_major": 2,
       "version_minor": 0
      },
      "text/plain": [
       "HBox(children=(FloatProgress(value=0.0, max=11.0), HTML(value='')))"
      ]
     },
     "metadata": {},
     "output_type": "display_data"
    },
    {
     "name": "stdout",
     "output_type": "stream",
     "text": [
      "all graph is one component!\n",
      "\n",
      "Total time for skeleton stitching = 0.07690954208374023\n",
      "The process was using a temp folder\n",
      "    Total time for skeletonizing branch: 46.25294780731201\n",
      "skipping soma 0 because closest skeleton node was already end node\n",
      "    Total time for Fixing Skeleton Soma Endpoint Extension : 3.645343065261841\n",
      "filter_end_node_length = 4001\n",
      "Using Distance measure skeletal_distance\n",
      "Going to ignore certain endnodes that are 5000 nm close to soma border vertices\n",
      "Number of end_nodes BEFORE filtering = 19\n",
      "Using an already specified end node: 0 with index 0checking was correct node end_nodes[index] = 0\n",
      "May Eliminate end_node 0: 0 because path_len to soma border was 177.48308191901486\n",
      "single_node_to_eliminate = 0\n",
      "all_single_nodes_to_eliminate = [0, 0]\n"
     ]
    },
    {
     "data": {
      "application/vnd.jupyter.widget-view+json": {
       "model_id": "20a0fae58ecb4acda4d50c0f9321fcef",
       "version_major": 2,
       "version_minor": 0
      },
      "text/plain": [
       "HBox(children=(FloatProgress(value=0.0, max=14.0), HTML(value='')))"
      ]
     },
     "metadata": {},
     "output_type": "display_data"
    },
    {
     "name": "stdout",
     "output_type": "stream",
     "text": [
      "\n",
      "********COMBINING CLOSE SKELETON NODES WITHIN 700 DISTANCE**********\n",
      "Found 0 valid paths to replace\n",
      "valid_paths = []\n",
      "valid_path_lengths = []\n",
      "No valid paths found so just returning the original\n",
      "skeletonize_and_clean_connected_branch_CGAL: 51.28634333610535\n",
      "Working on limb correspondence for #0 MAP piece\n"
     ]
    },
    {
     "data": {
      "application/vnd.jupyter.widget-view+json": {
       "model_id": "e41a7b99ccfb445791d7a4820638f6a3",
       "version_major": 2,
       "version_minor": 0
      },
      "text/plain": [
       "HBox(children=(FloatProgress(value=1.0, bar_style='info', layout=Layout(width='20px'), max=1.0), HTML(value=''…"
      ]
     },
     "metadata": {},
     "output_type": "display_data"
    },
    {
     "name": "stdout",
     "output_type": "stream",
     "text": [
      "\n",
      "Total time for decomposition = 12.157888412475586\n",
      "mesh_correspondence_first_pass: 12.157920122146606\n",
      "Limb decomposed into 7 branches\n",
      "divided_skeleton_graph_recovered = (1115, 2, 3) and \n",
      "current_mesh_data[0]['branch_skeletons_cleaned'].shape = (1115, 2, 3)\n",
      "\n",
      "Number of connected components in deocmposed recovered graph = 1\n",
      "Number of connected components in cleaned skeleton graph= 1\n",
      "The downsampled branches number of connected components = 1\n",
      "Empty submeshes = []\n",
      "\n",
      "\n",
      "--- Working on 1-to-1 correspondence-----\n",
      "max(original_labels),len(original_labels) = (6, 7)\n",
      "empty_indices % = 0.030688863621736426\n",
      " conflict_indices % = 0.011327312123227426\n"
     ]
    },
    {
     "data": {
      "application/vnd.jupyter.widget-view+json": {
       "model_id": "4e4cb544f7a448588fbb2848c892fd3b",
       "version_major": 2,
       "version_minor": 0
      },
      "text/plain": [
       "HBox(children=(FloatProgress(value=0.0, max=21.0), HTML(value='')))"
      ]
     },
     "metadata": {},
     "output_type": "display_data"
    },
    {
     "name": "stdout",
     "output_type": "stream",
     "text": [
      "\n",
      "AFTER face_lookup_resolved_test\n",
      "Took 0 iterations to expand the label back\n"
     ]
    },
    {
     "data": {
      "application/vnd.jupyter.widget-view+json": {
       "model_id": "151d460aba774bdf94cebb9f8c2496bd",
       "version_major": 2,
       "version_minor": 0
      },
      "text/plain": [
       "HBox(children=(FloatProgress(value=0.0, max=7.0), HTML(value='')))"
      ]
     },
     "metadata": {},
     "output_type": "display_data"
    },
    {
     "name": "stdout",
     "output_type": "stream",
     "text": [
      "\n",
      "Total time for MAP sublimb #0 mesh processing = 66.14413642883301\n",
      "correspondence_1_to_1: 2.6894068717956543\n",
      "Total time for MAP sublimb processing 66.14438223838806\n",
      "***************Arrived at MESH PIECES FOR MAP AND mp***************\n",
      "---- Working on MP Decomposition #0 ----\n",
      "MP filtering soma verts: 0.0021202564239501953\n",
      "Do Not Need to Fix MP Decomposition 0 so just continuing\n",
      "---- Working on MP Decomposition #1 ----\n",
      "MP filtering soma verts: 0.0008029937744140625\n",
      "Do Not Need to Fix MP Decomposition 1 so just continuing\n",
      "\n",
      "---- Working on (0, 0) connection-----\n",
      "winning_vertex = [660613.56797262 818034.40926154 804275.23548302]\n",
      "MP_branches_with_stitch_point = [0]\n",
      "Current stitch point was not a branch or endpoint, shortest_path_length to one = 82197.44649792109\n",
      "MAP_branches_with_stitch_point = [4]\n",
      "MAP_stitch_point_on_end_or_branch = False\n"
     ]
    },
    {
     "data": {
      "application/vnd.jupyter.widget-view+json": {
       "model_id": "8126f91c2a764e0e8ddced949c144a4f",
       "version_major": 2,
       "version_minor": 0
      },
      "text/plain": [
       "HBox(children=(FloatProgress(value=1.0, bar_style='info', layout=Layout(width='20px'), max=1.0), HTML(value=''…"
      ]
     },
     "metadata": {},
     "output_type": "display_data"
    },
    {
     "name": "stdout",
     "output_type": "stream",
     "text": [
      "\n",
      "\n",
      "\n",
      "--- Working on 1-to-1 correspondence-----\n",
      "max(original_labels),len(original_labels) = (2, 3)\n",
      "empty_indices % = 0.038638956400972174\n",
      " conflict_indices % = 0.0046872674966519515\n"
     ]
    },
    {
     "data": {
      "application/vnd.jupyter.widget-view+json": {
       "model_id": "c8064571be474400b3790668ec874cdd",
       "version_major": 2,
       "version_minor": 0
      },
      "text/plain": [
       "HBox(children=(FloatProgress(value=0.0, max=11.0), HTML(value='')))"
      ]
     },
     "metadata": {},
     "output_type": "display_data"
    },
    {
     "name": "stdout",
     "output_type": "stream",
     "text": [
      "\n",
      "AFTER face_lookup_resolved_test\n"
     ]
    },
    {
     "data": {
      "application/vnd.jupyter.widget-view+json": {
       "model_id": "7bb5d5afb45c49f7be32dfc91090f84d",
       "version_major": 2,
       "version_minor": 0
      },
      "text/plain": [
       "HBox(children=(FloatProgress(value=0.0, max=3.0), HTML(value='')))"
      ]
     },
     "metadata": {},
     "output_type": "display_data"
    },
    {
     "name": "stdout",
     "output_type": "stream",
     "text": [
      "\n",
      "Deleting branches from dictionary\n",
      " Finished with (0, 0) \n",
      "\n",
      "\n",
      "\n",
      "\n",
      "---- Working on (1, 0) connection-----\n",
      "winning_vertex = [636307.69562109 813178.0040385  797703.68094455]\n",
      "MP_branches_with_stitch_point = [0, 1]\n",
      "Current stitch point was a branch or endpoint\n",
      "MAP_branches_with_stitch_point = [1]\n",
      "MAP_stitch_point_on_end_or_branch = True\n"
     ]
    },
    {
     "data": {
      "application/vnd.jupyter.widget-view+json": {
       "model_id": "c1ba759e544f4c42bb82f0123b41ae04",
       "version_major": 2,
       "version_minor": 0
      },
      "text/plain": [
       "HBox(children=(FloatProgress(value=1.0, bar_style='info', layout=Layout(width='20px'), max=1.0), HTML(value=''…"
      ]
     },
     "metadata": {},
     "output_type": "display_data"
    },
    {
     "name": "stdout",
     "output_type": "stream",
     "text": [
      "\n",
      "\n",
      "\n",
      "--- Working on 1-to-1 correspondence-----\n",
      "max(original_labels),len(original_labels) = (2, 3)\n",
      "empty_indices % = 0.02677964565680366\n",
      " conflict_indices % = 0.009470297702659839\n"
     ]
    },
    {
     "data": {
      "application/vnd.jupyter.widget-view+json": {
       "model_id": "ba8067d70f5e423185f7b0ce2b01a00a",
       "version_major": 2,
       "version_minor": 0
      },
      "text/plain": [
       "HBox(children=(FloatProgress(value=0.0, max=4.0), HTML(value='')))"
      ]
     },
     "metadata": {},
     "output_type": "display_data"
    },
    {
     "name": "stdout",
     "output_type": "stream",
     "text": [
      "\n",
      "AFTER face_lookup_resolved_test\n"
     ]
    },
    {
     "data": {
      "application/vnd.jupyter.widget-view+json": {
       "model_id": "ed8b92f1981d474d84f423c0f1218337",
       "version_major": 2,
       "version_minor": 0
      },
      "text/plain": [
       "HBox(children=(FloatProgress(value=0.0, max=3.0), HTML(value='')))"
      ]
     },
     "metadata": {},
     "output_type": "display_data"
    },
    {
     "name": "stdout",
     "output_type": "stream",
     "text": [
      "\n",
      " Finished with (1, 0) \n",
      "\n",
      "\n",
      "\n",
      "Time for decomp of Limb 3 = 78.95098733901978\n",
      "Starting_branch = 0\n",
      "Start endpt = [584612. 778819. 883071.]\n",
      "Starting_branch endpoints = [[584612. 778819. 883071.]\n",
      " [617305. 782456. 856267.]]\n",
      "Starting_edge inside branches_to_conept = [[584612. 778819. 883071.]\n",
      " [617305. 782456. 856267.]]\n",
      "At the start, starting_node (in terms of the skeleton, that shouldn't match the starting edge) = [0]\n",
      "printing out current edge:\n",
      "[[584612. 778819. 883071.]\n",
      " [617305. 782456. 856267.]]\n",
      "edge_endpoints_to_process was empty so exiting loop after 11 iterations\n",
      "starting_node in concept map (that should match the starting edge) = 0\n",
      "Total time for branches to concept conversion = 0.18091845512390137\n",
      "\n",
      "Done generating concept network \n",
      "\n",
      "\n",
      "recovered_touching_piece = [0]\n"
     ]
    },
    {
     "name": "stderr",
     "output_type": "stream",
     "text": [
      "\r",
      "  0%|          | 0/1 [00:00<?, ?it/s]"
     ]
    },
    {
     "name": "stdout",
     "output_type": "stream",
     "text": [
      "\n",
      "\n",
      "----- Working on Proper Limb #4 ---------\n",
      "Time for preparing soma vertices and root: 0.0001518726348876953\n",
      "smooth_neighborhood = 1\n"
     ]
    },
    {
     "data": {
      "application/vnd.jupyter.widget-view+json": {
       "model_id": "2b17f8fa3b074968900d1a1bf870f54c",
       "version_major": 2,
       "version_minor": 0
      },
      "text/plain": [
       "HBox(children=(FloatProgress(value=0.0, max=42022.0), HTML(value='')))"
      ]
     },
     "metadata": {},
     "output_type": "display_data"
    },
    {
     "name": "stderr",
     "output_type": "stream",
     "text": [
      "100%|██████████| 1/1 [00:00<00:00,  2.53it/s]"
     ]
    },
    {
     "name": "stdout",
     "output_type": "stream",
     "text": [
      "\n"
     ]
    },
    {
     "name": "stderr",
     "output_type": "stream",
     "text": [
      "\n"
     ]
    },
    {
     "name": "stdout",
     "output_type": "stream",
     "text": [
      "Time for 1st pass MP skeletonization: 0.8420093059539795\n",
      "branches_touching_root = [18]\n",
      "empty_indices % = 0.0\n",
      " conflict_indices % = 0.007909806728704366\n"
     ]
    },
    {
     "data": {
      "application/vnd.jupyter.widget-view+json": {
       "model_id": "f942483b44464cb7a25525014ad3e494",
       "version_major": 2,
       "version_minor": 0
      },
      "text/plain": [
       "HBox(children=(FloatProgress(value=0.0, max=9.0), HTML(value='')))"
      ]
     },
     "metadata": {},
     "output_type": "display_data"
    },
    {
     "name": "stdout",
     "output_type": "stream",
     "text": [
      "\n",
      "AFTER face_lookup_resolved_test\n"
     ]
    },
    {
     "data": {
      "application/vnd.jupyter.widget-view+json": {
       "model_id": "9a2fbe2cf69d4dcea6d28d8bcecead80",
       "version_major": 2,
       "version_minor": 0
      },
      "text/plain": [
       "HBox(children=(FloatProgress(value=0.0, max=19.0), HTML(value='')))"
      ]
     },
     "metadata": {},
     "output_type": "display_data"
    },
    {
     "name": "stdout",
     "output_type": "stream",
     "text": [
      "\n",
      "Decomposing first pass: 2.108241558074951\n",
      "Found len(mesh_large_idx) MAP candidates: [10920, 14977, 2246, 2947, 4482, 10464, 2878]\n",
      "mesh_large_connectivity: 0.08447456359863281\n",
      "Finding MAP candidates connected components: 0.00014591217041015625\n",
      "len(filtered_pieces) = 1\n",
      "skeleton_connectivity_MP : 0.11963677406311035\n",
      "Grouping MP Sublimbs by Graph: 0.022170066833496094\n",
      "Divinding into MP and MAP pieces: 1.9073486328125e-06\n",
      "--- Working on MAP piece 0---\n",
      "MAP Filtering Soma Pieces: 0.003010272979736328\n",
      "inside skeletonize_connected_branch and use_surface_after_CGAL=False, surface_reconstruction_size=500\n",
      "     Starting Screened Poisson\n",
      "xvfb-run -n 4909 -s \"-screen 0 800x600x24\" meshlabserver $@  -i /notebooks/Platinum_Decomp_Fusion/temp/None.off -o /notebooks/Platinum_Decomp_Fusion/temp/None_poisson.off -s /notebooks/Platinum_Decomp_Fusion/temp/poisson_364853.mls\n",
      "removed temporary input file: /notebooks/Platinum_Decomp_Fusion/temp/None.off\n",
      "removed temporary output file: /notebooks/Platinum_Decomp_Fusion/temp/None_poisson.off\n",
      "Using the close holes feature\n",
      "xvfb-run -n 3836 -s \"-screen 0 800x600x24\" meshlabserver $@  -i /notebooks/Platinum_Decomp_Fusion/temp/neuron_94492.off -o /notebooks/Platinum_Decomp_Fusion/temp/neuron_94492_fill_holes.off -s /notebooks/Platinum_Decomp_Fusion/temp/fill_holes_731408.mls\n",
      "removed temporary input file: /notebooks/Platinum_Decomp_Fusion/temp/neuron_94492.off\n",
      "removed temporary output file: /notebooks/Platinum_Decomp_Fusion/temp/neuron_94492_fill_holes.off\n",
      "-----Time for Screened Poisson= 15.829126834869385\n",
      "     Starting Calcification\n",
      "Before mesh subtraction number of skeleton edges = 540\n",
      "Inside mesh subtraction, len(main_mesh_bbox_restricted.faces) = 48914\n"
     ]
    },
    {
     "data": {
      "application/vnd.jupyter.widget-view+json": {
       "model_id": "a8cf419bd66b47fc91f5745a23475de7",
       "version_major": 2,
       "version_minor": 0
      },
      "text/plain": [
       "HBox(children=(FloatProgress(value=1.0, bar_style='info', layout=Layout(width='20px'), max=1.0), HTML(value=''…"
      ]
     },
     "metadata": {},
     "output_type": "display_data"
    },
    {
     "name": "stdout",
     "output_type": "stream",
     "text": [
      "\n",
      "Total Mesh subtraction time = 4.9505\n"
     ]
    },
    {
     "data": {
      "application/vnd.jupyter.widget-view+json": {
       "model_id": "6452dc39dfa44d4998a23dcc661367a5",
       "version_major": 2,
       "version_minor": 0
      },
      "text/plain": [
       "HBox(children=(FloatProgress(value=1.0, bar_style='info', layout=Layout(width='20px'), max=1.0), HTML(value=''…"
      ]
     },
     "metadata": {},
     "output_type": "display_data"
    },
    {
     "name": "stdout",
     "output_type": "stream",
     "text": [
      "\n",
      "No skeletons to stack so returning empty list\n",
      "len_subgraphs AT BEGINNING of the loop\n"
     ]
    },
    {
     "data": {
      "application/vnd.jupyter.widget-view+json": {
       "model_id": "9d1e230887ca4d84b0cba4fd5077cb96",
       "version_major": 2,
       "version_minor": 0
      },
      "text/plain": [
       "HBox(children=(FloatProgress(value=0.0, max=4.0), HTML(value='')))"
      ]
     },
     "metadata": {},
     "output_type": "display_data"
    },
    {
     "name": "stdout",
     "output_type": "stream",
     "text": [
      "all graph is one component!\n",
      "\n",
      "Total time for skeleton stitching = 0.05646252632141113\n",
      "The process was using a temp folder\n",
      "    Total time for skeletonizing branch: 24.37744927406311\n",
      "skipping soma 0 because closest skeleton node was already end node\n",
      "    Total time for Fixing Skeleton Soma Endpoint Extension : 2.5088794231414795\n",
      "filter_end_node_length = 4001\n",
      "Using Distance measure skeletal_distance\n",
      "Going to ignore certain endnodes that are 5000 nm close to soma border vertices\n",
      "Number of end_nodes BEFORE filtering = 14\n",
      "Using an already specified end node: 542 with index 13checking was correct node end_nodes[index] = 542\n",
      "May Eliminate end_node 13: 542 because path_len to soma border was 2213.825736778329\n",
      "single_node_to_eliminate = 13\n",
      "all_single_nodes_to_eliminate = [13, 13]\n"
     ]
    },
    {
     "data": {
      "application/vnd.jupyter.widget-view+json": {
       "model_id": "25b96e2b46f74d92a7c577bc957d8f28",
       "version_major": 2,
       "version_minor": 0
      },
      "text/plain": [
       "HBox(children=(FloatProgress(value=0.0, max=11.0), HTML(value='')))"
      ]
     },
     "metadata": {},
     "output_type": "display_data"
    },
    {
     "name": "stdout",
     "output_type": "stream",
     "text": [
      "\n",
      "********COMBINING CLOSE SKELETON NODES WITHIN 700 DISTANCE**********\n",
      "Found 0 valid paths to replace\n",
      "valid_paths = []\n",
      "valid_path_lengths = []\n",
      "No valid paths found so just returning the original\n",
      "skeletonize_and_clean_connected_branch_CGAL: 27.581443309783936\n",
      "Working on limb correspondence for #0 MAP piece\n"
     ]
    },
    {
     "data": {
      "application/vnd.jupyter.widget-view+json": {
       "model_id": "07a359f912d9411b9ae837563f419aae",
       "version_major": 2,
       "version_minor": 0
      },
      "text/plain": [
       "HBox(children=(FloatProgress(value=1.0, bar_style='info', layout=Layout(width='20px'), max=1.0), HTML(value=''…"
      ]
     },
     "metadata": {},
     "output_type": "display_data"
    },
    {
     "name": "stdout",
     "output_type": "stream",
     "text": [
      "\n",
      "Total time for decomposition = 5.507060527801514\n",
      "mesh_correspondence_first_pass: 5.5070929527282715\n",
      "Limb decomposed into 3 branches\n",
      "divided_skeleton_graph_recovered = (524, 2, 3) and \n",
      "current_mesh_data[0]['branch_skeletons_cleaned'].shape = (524, 2, 3)\n",
      "\n",
      "Number of connected components in deocmposed recovered graph = 1\n",
      "Number of connected components in cleaned skeleton graph= 1\n",
      "The downsampled branches number of connected components = 1\n",
      "Empty submeshes = []\n",
      "\n",
      "\n",
      "--- Working on 1-to-1 correspondence-----\n",
      "max(original_labels),len(original_labels) = (2, 3)\n",
      "empty_indices % = 0.028642106554360714\n",
      " conflict_indices % = 0.004906570715950444\n"
     ]
    },
    {
     "data": {
      "application/vnd.jupyter.widget-view+json": {
       "model_id": "7b5a7b50ced24594a5896c7f95acd8ca",
       "version_major": 2,
       "version_minor": 0
      },
      "text/plain": [
       "HBox(children=(FloatProgress(value=0.0, max=9.0), HTML(value='')))"
      ]
     },
     "metadata": {},
     "output_type": "display_data"
    },
    {
     "name": "stdout",
     "output_type": "stream",
     "text": [
      "\n",
      "AFTER face_lookup_resolved_test\n",
      "Took 0 iterations to expand the label back\n"
     ]
    },
    {
     "data": {
      "application/vnd.jupyter.widget-view+json": {
       "model_id": "cc731514d76d400fb934c40d438e0452",
       "version_major": 2,
       "version_minor": 0
      },
      "text/plain": [
       "HBox(children=(FloatProgress(value=0.0, max=3.0), HTML(value='')))"
      ]
     },
     "metadata": {},
     "output_type": "display_data"
    },
    {
     "name": "stdout",
     "output_type": "stream",
     "text": [
      "\n",
      "Total time for MAP sublimb #0 mesh processing = 34.809489250183105\n",
      "correspondence_1_to_1: 1.7179374694824219\n",
      "Total time for MAP sublimb processing 34.809595823287964\n",
      "***************Arrived at MESH PIECES FOR MAP AND mp***************\n",
      "---- Working on MP Decomposition #0 ----\n",
      "MP filtering soma verts: 0.0026640892028808594\n",
      "Do Not Need to Fix MP Decomposition 0 so just continuing\n",
      "---- Working on MP Decomposition #1 ----\n",
      "MP filtering soma verts: 0.0027747154235839844\n",
      "Do Not Need to Fix MP Decomposition 1 so just continuing\n",
      "---- Working on MP Decomposition #2 ----\n",
      "MP filtering soma verts: 0.0021257400512695312\n",
      "Do Not Need to Fix MP Decomposition 2 so just continuing\n",
      "---- Working on MP Decomposition #3 ----\n",
      "MP filtering soma verts: 0.001634359359741211\n",
      "Do Not Need to Fix MP Decomposition 3 so just continuing\n",
      "---- Working on MP Decomposition #4 ----\n",
      "MP filtering soma verts: 0.0003342628479003906\n",
      "Do Not Need to Fix MP Decomposition 4 so just continuing\n",
      "---- Working on MP Decomposition #5 ----\n",
      "MP filtering soma verts: 0.0001862049102783203\n",
      "Do Not Need to Fix MP Decomposition 5 so just continuing\n",
      "\n",
      "---- Working on (0, 0) connection-----\n",
      "winning_vertex = [506008.84527864 780780.7233273  893476.50107485]\n",
      "MP_branches_with_stitch_point = [1]\n",
      "Current stitch point was not a branch or endpoint, shortest_path_length to one = 58220.71743008578\n",
      "MAP_branches_with_stitch_point = [0]\n",
      "MAP_stitch_point_on_end_or_branch = False\n"
     ]
    },
    {
     "data": {
      "application/vnd.jupyter.widget-view+json": {
       "model_id": "d394681254194af69d3652ddde426b16",
       "version_major": 2,
       "version_minor": 0
      },
      "text/plain": [
       "HBox(children=(FloatProgress(value=1.0, bar_style='info', layout=Layout(width='20px'), max=1.0), HTML(value=''…"
      ]
     },
     "metadata": {},
     "output_type": "display_data"
    },
    {
     "name": "stdout",
     "output_type": "stream",
     "text": [
      "\n",
      "\n",
      "\n",
      "--- Working on 1-to-1 correspondence-----\n",
      "max(original_labels),len(original_labels) = (2, 3)\n",
      "empty_indices % = 0.013981358189081226\n",
      " conflict_indices % = 0.010712988742283016\n"
     ]
    },
    {
     "data": {
      "application/vnd.jupyter.widget-view+json": {
       "model_id": "ff79fefdc9b54e5d9bafccaa765b1d18",
       "version_major": 2,
       "version_minor": 0
      },
      "text/plain": [
       "HBox(children=(FloatProgress(value=0.0, max=7.0), HTML(value='')))"
      ]
     },
     "metadata": {},
     "output_type": "display_data"
    },
    {
     "name": "stdout",
     "output_type": "stream",
     "text": [
      "\n",
      "AFTER face_lookup_resolved_test\n"
     ]
    },
    {
     "data": {
      "application/vnd.jupyter.widget-view+json": {
       "model_id": "a12e82bf7a474eb0be5f691d9f0018bd",
       "version_major": 2,
       "version_minor": 0
      },
      "text/plain": [
       "HBox(children=(FloatProgress(value=0.0, max=3.0), HTML(value='')))"
      ]
     },
     "metadata": {},
     "output_type": "display_data"
    },
    {
     "name": "stdout",
     "output_type": "stream",
     "text": [
      "\n",
      "Deleting branches from dictionary\n",
      " Finished with (0, 0) \n",
      "\n",
      "\n",
      "\n",
      "\n",
      "---- Working on (1, 0) connection-----\n",
      "winning_vertex = [455888.63868655 724876.30809508 920194.36596337]\n",
      "MP_branches_with_stitch_point = [1, 2]\n",
      "Current stitch point was a branch or endpoint\n",
      "MAP_branches_with_stitch_point = [1]\n",
      "MAP_stitch_point_on_end_or_branch = True\n"
     ]
    },
    {
     "data": {
      "application/vnd.jupyter.widget-view+json": {
       "model_id": "5a1e16b577874f15bcc1b11abf8b4896",
       "version_major": 2,
       "version_minor": 0
      },
      "text/plain": [
       "HBox(children=(FloatProgress(value=1.0, bar_style='info', layout=Layout(width='20px'), max=1.0), HTML(value=''…"
      ]
     },
     "metadata": {},
     "output_type": "display_data"
    },
    {
     "name": "stdout",
     "output_type": "stream",
     "text": [
      "\n",
      "\n",
      "\n",
      "--- Working on 1-to-1 correspondence-----\n",
      "max(original_labels),len(original_labels) = (2, 3)\n",
      "empty_indices % = 0.026637341153470186\n",
      " conflict_indices % = 0.0016408322859935763\n"
     ]
    },
    {
     "data": {
      "application/vnd.jupyter.widget-view+json": {
       "model_id": "19aa1f38af474e04be1d2a56732eb8c4",
       "version_major": 2,
       "version_minor": 0
      },
      "text/plain": [
       "HBox(children=(FloatProgress(value=0.0, max=10.0), HTML(value='')))"
      ]
     },
     "metadata": {},
     "output_type": "display_data"
    },
    {
     "name": "stdout",
     "output_type": "stream",
     "text": [
      "\n",
      "AFTER face_lookup_resolved_test\n"
     ]
    },
    {
     "data": {
      "application/vnd.jupyter.widget-view+json": {
       "model_id": "01284e5bfb3e4dc7a7bd8da4a40684ed",
       "version_major": 2,
       "version_minor": 0
      },
      "text/plain": [
       "HBox(children=(FloatProgress(value=0.0, max=3.0), HTML(value='')))"
      ]
     },
     "metadata": {},
     "output_type": "display_data"
    },
    {
     "name": "stdout",
     "output_type": "stream",
     "text": [
      "\n",
      " Finished with (1, 0) \n",
      "\n",
      "\n",
      "\n",
      "\n",
      "---- Working on (2, 0) connection-----\n",
      "winning_vertex = [546740.30685956 763562.98258692 908729.61548156]\n",
      "MP_branches_with_stitch_point = [0]\n",
      "Current stitch point was not a branch or endpoint, shortest_path_length to one = 23770.26732744593\n",
      "MAP_branches_with_stitch_point = [1]\n",
      "MAP_stitch_point_on_end_or_branch = False\n"
     ]
    },
    {
     "data": {
      "application/vnd.jupyter.widget-view+json": {
       "model_id": "b2225fec95464f40a31d05b247b5036a",
       "version_major": 2,
       "version_minor": 0
      },
      "text/plain": [
       "HBox(children=(FloatProgress(value=1.0, bar_style='info', layout=Layout(width='20px'), max=1.0), HTML(value=''…"
      ]
     },
     "metadata": {},
     "output_type": "display_data"
    },
    {
     "name": "stdout",
     "output_type": "stream",
     "text": [
      "\n",
      "\n",
      "\n",
      "--- Working on 1-to-1 correspondence-----\n",
      "max(original_labels),len(original_labels) = (2, 3)\n",
      "empty_indices % = 0.030057010897019558\n",
      " conflict_indices % = 0.003933030237425128\n"
     ]
    },
    {
     "data": {
      "application/vnd.jupyter.widget-view+json": {
       "model_id": "b1f3dc018e4d4756970751e6e75e61d9",
       "version_major": 2,
       "version_minor": 0
      },
      "text/plain": [
       "HBox(children=(FloatProgress(value=0.0, max=6.0), HTML(value='')))"
      ]
     },
     "metadata": {},
     "output_type": "display_data"
    },
    {
     "name": "stdout",
     "output_type": "stream",
     "text": [
      "\n",
      "AFTER face_lookup_resolved_test\n"
     ]
    },
    {
     "data": {
      "application/vnd.jupyter.widget-view+json": {
       "model_id": "4f8f45c7f1424d148c6f730c7785a422",
       "version_major": 2,
       "version_minor": 0
      },
      "text/plain": [
       "HBox(children=(FloatProgress(value=0.0, max=3.0), HTML(value='')))"
      ]
     },
     "metadata": {},
     "output_type": "display_data"
    },
    {
     "name": "stdout",
     "output_type": "stream",
     "text": [
      "\n",
      "Deleting branches from dictionary\n",
      " Finished with (2, 0) \n",
      "\n",
      "\n",
      "\n",
      "\n",
      "---- Working on (3, 0) connection-----\n",
      "winning_vertex = [454563.33552475 782530.1310164  920030.16609552]\n",
      "MP_branches_with_stitch_point = [0, 1]\n",
      "Current stitch point was a branch or endpoint\n",
      "MAP_branches_with_stitch_point = [0]\n",
      "MAP_stitch_point_on_end_or_branch = True\n"
     ]
    },
    {
     "data": {
      "application/vnd.jupyter.widget-view+json": {
       "model_id": "4ec92871088d4419b8b90f67936e505d",
       "version_major": 2,
       "version_minor": 0
      },
      "text/plain": [
       "HBox(children=(FloatProgress(value=1.0, bar_style='info', layout=Layout(width='20px'), max=1.0), HTML(value=''…"
      ]
     },
     "metadata": {},
     "output_type": "display_data"
    },
    {
     "name": "stdout",
     "output_type": "stream",
     "text": [
      "\n",
      "\n",
      "\n",
      "--- Working on 1-to-1 correspondence-----\n",
      "max(original_labels),len(original_labels) = (2, 3)\n",
      "empty_indices % = 0.022185589669620167\n",
      " conflict_indices % = 0.005288824781921836\n"
     ]
    },
    {
     "data": {
      "application/vnd.jupyter.widget-view+json": {
       "model_id": "f7f21bda873e4889b8aa6cb146fa8511",
       "version_major": 2,
       "version_minor": 0
      },
      "text/plain": [
       "HBox(children=(FloatProgress(value=0.0, max=3.0), HTML(value='')))"
      ]
     },
     "metadata": {},
     "output_type": "display_data"
    },
    {
     "name": "stdout",
     "output_type": "stream",
     "text": [
      "\n",
      "AFTER face_lookup_resolved_test\n"
     ]
    },
    {
     "data": {
      "application/vnd.jupyter.widget-view+json": {
       "model_id": "35773e53aadd450eb94eac8ede7c1ce1",
       "version_major": 2,
       "version_minor": 0
      },
      "text/plain": [
       "HBox(children=(FloatProgress(value=0.0, max=3.0), HTML(value='')))"
      ]
     },
     "metadata": {},
     "output_type": "display_data"
    },
    {
     "name": "stdout",
     "output_type": "stream",
     "text": [
      "\n",
      " Finished with (3, 0) \n",
      "\n",
      "\n",
      "\n",
      "\n",
      "---- Working on (4, 0) connection-----\n",
      "winning_vertex = [534308.03377781 760494.84549006 917102.94775202]\n",
      "MP_branches_with_stitch_point = [0]\n",
      "Current stitch point was not a branch or endpoint, shortest_path_length to one = 39763.95751893227\n",
      "MAP_branches_with_stitch_point = [1]\n",
      "MAP_stitch_point_on_end_or_branch = False\n"
     ]
    },
    {
     "data": {
      "application/vnd.jupyter.widget-view+json": {
       "model_id": "a31cb73f021c420588c611aeea9792de",
       "version_major": 2,
       "version_minor": 0
      },
      "text/plain": [
       "HBox(children=(FloatProgress(value=1.0, bar_style='info', layout=Layout(width='20px'), max=1.0), HTML(value=''…"
      ]
     },
     "metadata": {},
     "output_type": "display_data"
    },
    {
     "name": "stdout",
     "output_type": "stream",
     "text": [
      "\n",
      "\n",
      "\n",
      "--- Working on 1-to-1 correspondence-----\n",
      "max(original_labels),len(original_labels) = (2, 3)\n",
      "empty_indices % = 0.0352977152592722\n",
      " conflict_indices % = 0.007819667118081342\n"
     ]
    },
    {
     "data": {
      "application/vnd.jupyter.widget-view+json": {
       "model_id": "91726072d9af4f0b8cbec28c4e11afe5",
       "version_major": 2,
       "version_minor": 0
      },
      "text/plain": [
       "HBox(children=(FloatProgress(value=0.0, max=6.0), HTML(value='')))"
      ]
     },
     "metadata": {},
     "output_type": "display_data"
    },
    {
     "name": "stdout",
     "output_type": "stream",
     "text": [
      "\n",
      "AFTER face_lookup_resolved_test\n"
     ]
    },
    {
     "data": {
      "application/vnd.jupyter.widget-view+json": {
       "model_id": "057de728890f4eeeba5a800395ff1351",
       "version_major": 2,
       "version_minor": 0
      },
      "text/plain": [
       "HBox(children=(FloatProgress(value=0.0, max=3.0), HTML(value='')))"
      ]
     },
     "metadata": {},
     "output_type": "display_data"
    },
    {
     "name": "stdout",
     "output_type": "stream",
     "text": [
      "\n",
      "Deleting branches from dictionary\n",
      " Finished with (4, 0) \n",
      "\n",
      "\n",
      "\n",
      "\n",
      "---- Working on (5, 0) connection-----\n",
      "winning_vertex = [526542.9939797  753792.52896142 923863.40758492]\n",
      "MP_branches_with_stitch_point = [0]\n",
      "Current stitch point was not a branch or endpoint, shortest_path_length to one = 53297.70860388536\n",
      "MAP_branches_with_stitch_point = [1]\n",
      "MAP_stitch_point_on_end_or_branch = False\n"
     ]
    },
    {
     "data": {
      "application/vnd.jupyter.widget-view+json": {
       "model_id": "8304d7c3a60343538b96b49ea2b5c34b",
       "version_major": 2,
       "version_minor": 0
      },
      "text/plain": [
       "HBox(children=(FloatProgress(value=1.0, bar_style='info', layout=Layout(width='20px'), max=1.0), HTML(value=''…"
      ]
     },
     "metadata": {},
     "output_type": "display_data"
    },
    {
     "name": "stdout",
     "output_type": "stream",
     "text": [
      "\n",
      "\n",
      "\n",
      "--- Working on 1-to-1 correspondence-----\n",
      "max(original_labels),len(original_labels) = (2, 3)\n",
      "empty_indices % = 0.03244657168299198\n",
      " conflict_indices % = 0.002949688334817453\n"
     ]
    },
    {
     "data": {
      "application/vnd.jupyter.widget-view+json": {
       "model_id": "b8a1db8eedde497f99337e58a2c238fb",
       "version_major": 2,
       "version_minor": 0
      },
      "text/plain": [
       "HBox(children=(FloatProgress(value=0.0, max=5.0), HTML(value='')))"
      ]
     },
     "metadata": {},
     "output_type": "display_data"
    },
    {
     "name": "stdout",
     "output_type": "stream",
     "text": [
      "\n",
      "AFTER face_lookup_resolved_test\n"
     ]
    },
    {
     "data": {
      "application/vnd.jupyter.widget-view+json": {
       "model_id": "ae0637d0a80f4148bfb16070e2651d99",
       "version_major": 2,
       "version_minor": 0
      },
      "text/plain": [
       "HBox(children=(FloatProgress(value=0.0, max=3.0), HTML(value='')))"
      ]
     },
     "metadata": {},
     "output_type": "display_data"
    },
    {
     "name": "stdout",
     "output_type": "stream",
     "text": [
      "\n",
      "Deleting branches from dictionary\n",
      " Finished with (5, 0) \n",
      "\n",
      "\n",
      "\n",
      "Time for decomp of Limb 4 = 56.435383796691895\n",
      "Starting_branch = 2\n",
      "Start endpt = [569468. 772535. 891630.]\n",
      "Starting_branch endpoints = [[561682. 770031. 894183.]\n",
      " [569468. 772535. 891630.]]\n",
      "Starting_edge inside branches_to_conept = [[561682. 770031. 894183.]\n",
      " [569468. 772535. 891630.]]\n"
     ]
    },
    {
     "name": "stderr",
     "output_type": "stream",
     "text": [
      "\r",
      "  0%|          | 0/1 [00:00<?, ?it/s]"
     ]
    },
    {
     "name": "stdout",
     "output_type": "stream",
     "text": [
      "At the start, starting_node (in terms of the skeleton, that shouldn't match the starting edge) = [19]\n",
      "printing out current edge:\n",
      "[[569468. 772535. 891630.]\n",
      " [561682. 770031. 894183.]]\n",
      "edge_endpoints_to_process was empty so exiting loop after 19 iterations\n",
      "starting_node in concept map (that should match the starting edge) = 2\n",
      "Total time for branches to concept conversion = 0.26070094108581543\n",
      "\n",
      "Done generating concept network \n",
      "\n",
      "\n",
      "recovered_touching_piece = [2]\n",
      "\n",
      "\n",
      "----- Working on Proper Limb #5 ---------\n",
      "Time for preparing soma vertices and root: 0.00013709068298339844\n",
      "smooth_neighborhood = 1\n"
     ]
    },
    {
     "data": {
      "application/vnd.jupyter.widget-view+json": {
       "model_id": "b69fd620f9894f228f99820244036a09",
       "version_major": 2,
       "version_minor": 0
      },
      "text/plain": [
       "HBox(children=(FloatProgress(value=0.0, max=17932.0), HTML(value='')))"
      ]
     },
     "metadata": {},
     "output_type": "display_data"
    },
    {
     "name": "stderr",
     "output_type": "stream",
     "text": [
      "100%|██████████| 1/1 [00:00<00:00, 10.26it/s]\n"
     ]
    },
    {
     "name": "stdout",
     "output_type": "stream",
     "text": [
      "\n",
      "Time for 1st pass MP skeletonization: 0.31662678718566895\n",
      "branches_touching_root = [0]\n",
      "empty_indices % = 0.0\n",
      " conflict_indices % = 0.0\n"
     ]
    },
    {
     "data": {
      "application/vnd.jupyter.widget-view+json": {
       "model_id": "47140cf9d7ea4877b77241db8e0fd058",
       "version_major": 2,
       "version_minor": 0
      },
      "text/plain": [
       "HBox(children=(FloatProgress(value=1.0, bar_style='info', layout=Layout(width='20px'), max=1.0), HTML(value=''…"
      ]
     },
     "metadata": {},
     "output_type": "display_data"
    },
    {
     "name": "stdout",
     "output_type": "stream",
     "text": [
      "\n",
      "AFTER face_lookup_resolved_test\n"
     ]
    },
    {
     "data": {
      "application/vnd.jupyter.widget-view+json": {
       "model_id": "eaf3346cb3874a699631a5a1e0967e05",
       "version_major": 2,
       "version_minor": 0
      },
      "text/plain": [
       "HBox(children=(FloatProgress(value=0.0, max=1.0), HTML(value='')))"
      ]
     },
     "metadata": {},
     "output_type": "display_data"
    },
    {
     "name": "stdout",
     "output_type": "stream",
     "text": [
      "\n",
      "Decomposing first pass: 0.5457110404968262\n",
      "Found len(mesh_large_idx) MAP candidates: [35808]\n",
      "mesh_large_connectivity: 0.00014638900756835938\n",
      "Finding MAP candidates connected components: 9.560585021972656e-05\n",
      "len(filtered_pieces) = 1\n",
      "skeleton_connectivity_MP : 0.008442163467407227\n",
      "Grouping MP Sublimbs by Graph: 7.271766662597656e-05\n",
      "Divinding into MP and MAP pieces: 1.430511474609375e-06\n",
      "--- Working on MAP piece 0---\n",
      "MAP Filtering Soma Pieces: 0.0023081302642822266\n",
      "inside skeletonize_connected_branch and use_surface_after_CGAL=False, surface_reconstruction_size=500\n",
      "     Starting Screened Poisson\n",
      "xvfb-run -n 2724 -s \"-screen 0 800x600x24\" meshlabserver $@  -i /notebooks/Platinum_Decomp_Fusion/temp/None.off -o /notebooks/Platinum_Decomp_Fusion/temp/None_poisson.off -s /notebooks/Platinum_Decomp_Fusion/temp/poisson_404589.mls\n",
      "removed temporary input file: /notebooks/Platinum_Decomp_Fusion/temp/None.off\n",
      "removed temporary output file: /notebooks/Platinum_Decomp_Fusion/temp/None_poisson.off\n",
      "Using the close holes feature\n",
      "xvfb-run -n 5237 -s \"-screen 0 800x600x24\" meshlabserver $@  -i /notebooks/Platinum_Decomp_Fusion/temp/neuron_7665.off -o /notebooks/Platinum_Decomp_Fusion/temp/neuron_7665_fill_holes.off -s /notebooks/Platinum_Decomp_Fusion/temp/fill_holes_765142.mls\n",
      "removed temporary input file: /notebooks/Platinum_Decomp_Fusion/temp/neuron_7665.off\n",
      "removed temporary output file: /notebooks/Platinum_Decomp_Fusion/temp/neuron_7665_fill_holes.off\n",
      "-----Time for Screened Poisson= 13.166970252990723\n",
      "     Starting Calcification\n",
      "Before mesh subtraction number of skeleton edges = 457\n",
      "Inside mesh subtraction, len(main_mesh_bbox_restricted.faces) = 35808\n"
     ]
    },
    {
     "data": {
      "application/vnd.jupyter.widget-view+json": {
       "model_id": "9696f77c350c44fd9943178b79ba58fb",
       "version_major": 2,
       "version_minor": 0
      },
      "text/plain": [
       "HBox(children=(FloatProgress(value=1.0, bar_style='info', layout=Layout(width='20px'), max=1.0), HTML(value=''…"
      ]
     },
     "metadata": {},
     "output_type": "display_data"
    },
    {
     "name": "stdout",
     "output_type": "stream",
     "text": [
      "\n",
      "Total Mesh subtraction time = 3.9321\n"
     ]
    },
    {
     "data": {
      "application/vnd.jupyter.widget-view+json": {
       "model_id": "24d850693f8748c3ab7d84a1c8467f1f",
       "version_major": 2,
       "version_minor": 0
      },
      "text/plain": [
       "HBox(children=(FloatProgress(value=1.0, bar_style='info', layout=Layout(width='20px'), max=1.0), HTML(value=''…"
      ]
     },
     "metadata": {},
     "output_type": "display_data"
    },
    {
     "name": "stdout",
     "output_type": "stream",
     "text": [
      "\n",
      "No skeletons to stack so returning empty list\n",
      "len_subgraphs AT BEGINNING of the loop\n"
     ]
    },
    {
     "data": {
      "application/vnd.jupyter.widget-view+json": {
       "model_id": "1fcd4784bd0a46f9b000f09fc96cc207",
       "version_major": 2,
       "version_minor": 0
      },
      "text/plain": [
       "HBox(children=(FloatProgress(value=0.0, max=3.0), HTML(value='')))"
      ]
     },
     "metadata": {},
     "output_type": "display_data"
    },
    {
     "name": "stdout",
     "output_type": "stream",
     "text": [
      "all graph is one component!\n",
      "\n",
      "Total time for skeleton stitching = 0.0514833927154541\n",
      "The process was using a temp folder\n",
      "    Total time for skeletonizing branch: 19.570008516311646\n",
      "skipping soma 0 because closest skeleton node was already end node\n",
      "    Total time for Fixing Skeleton Soma Endpoint Extension : 1.261486530303955\n",
      "filter_end_node_length = 4001\n",
      "Using Distance measure skeletal_distance\n",
      "Going to ignore certain endnodes that are 5000 nm close to soma border vertices\n",
      "Number of end_nodes BEFORE filtering = 7\n",
      "Using an already specified end node: 80 with index 0checking was correct node end_nodes[index] = 80\n",
      "May Eliminate end_node 0: 80 because path_len to soma border was 3194.6320125478096\n",
      "single_node_to_eliminate = 0\n",
      "all_single_nodes_to_eliminate = [0, 0]\n"
     ]
    },
    {
     "data": {
      "application/vnd.jupyter.widget-view+json": {
       "model_id": "ee5112a49ca24a15bc6e7c308ead16c0",
       "version_major": 2,
       "version_minor": 0
      },
      "text/plain": [
       "HBox(children=(FloatProgress(value=0.0, max=5.0), HTML(value='')))"
      ]
     },
     "metadata": {},
     "output_type": "display_data"
    },
    {
     "name": "stdout",
     "output_type": "stream",
     "text": [
      "\n",
      "********COMBINING CLOSE SKELETON NODES WITHIN 700 DISTANCE**********\n",
      "Found 0 valid paths to replace\n",
      "valid_paths = []\n",
      "valid_path_lengths = []\n",
      "No valid paths found so just returning the original\n",
      "skeletonize_and_clean_connected_branch_CGAL: 21.34173274040222\n",
      "Working on limb correspondence for #0 MAP piece\n"
     ]
    },
    {
     "data": {
      "application/vnd.jupyter.widget-view+json": {
       "model_id": "610d872f6f3f40cda78a93d6f3bc4f94",
       "version_major": 2,
       "version_minor": 0
      },
      "text/plain": [
       "HBox(children=(FloatProgress(value=1.0, bar_style='info', layout=Layout(width='20px'), max=1.0), HTML(value=''…"
      ]
     },
     "metadata": {},
     "output_type": "display_data"
    },
    {
     "name": "stdout",
     "output_type": "stream",
     "text": [
      "\n",
      "Total time for decomposition = 5.073038578033447\n",
      "mesh_correspondence_first_pass: 5.073071479797363\n",
      "Limb decomposed into 1 branches\n",
      "divided_skeleton_graph_recovered = (453, 2, 3) and \n",
      "current_mesh_data[0]['branch_skeletons_cleaned'].shape = (453, 2, 3)\n",
      "\n",
      "Number of connected components in deocmposed recovered graph = 1\n",
      "Number of connected components in cleaned skeleton graph= 1\n",
      "The downsampled branches number of connected components = 1\n",
      "Empty submeshes = []\n",
      "\n",
      "\n",
      "--- Working on 1-to-1 correspondence-----\n",
      "max(original_labels),len(original_labels) = (0, 1)\n",
      "empty_indices % = 0.04191800714924039\n",
      " conflict_indices % = 0.0\n"
     ]
    },
    {
     "data": {
      "application/vnd.jupyter.widget-view+json": {
       "model_id": "99d1e6e6e7b3410da7734775bdd0314a",
       "version_major": 2,
       "version_minor": 0
      },
      "text/plain": [
       "HBox(children=(FloatProgress(value=0.0, max=6.0), HTML(value='')))"
      ]
     },
     "metadata": {},
     "output_type": "display_data"
    },
    {
     "name": "stdout",
     "output_type": "stream",
     "text": [
      "\n",
      "AFTER face_lookup_resolved_test\n",
      "Took 0 iterations to expand the label back\n"
     ]
    },
    {
     "data": {
      "application/vnd.jupyter.widget-view+json": {
       "model_id": "fc4a1158133e422aba9138516e8228b7",
       "version_major": 2,
       "version_minor": 0
      },
      "text/plain": [
       "HBox(children=(FloatProgress(value=0.0, max=1.0), HTML(value='')))"
      ]
     },
     "metadata": {},
     "output_type": "display_data"
    },
    {
     "name": "stdout",
     "output_type": "stream",
     "text": [
      "\n",
      "Total time for MAP sublimb #0 mesh processing = 27.884849548339844\n",
      "correspondence_1_to_1: 1.4676969051361084\n",
      "Total time for MAP sublimb processing 27.884943962097168\n",
      "***************Arrived at MESH PIECES FOR MAP AND mp***************\n",
      "There were not both MAP and MP pieces so skipping the stitch resolving phase\n",
      "Time for decomp of Limb 5 = 28.75674343109131\n",
      "Starting_branch = 0\n",
      "Start endpt = [573458. 768883. 892038.]\n",
      "Starting_branch endpoints = [[573458. 768883. 892038.]\n",
      " [620463. 643734. 977141.]]\n",
      "Starting_edge inside branches_to_conept = [[573458. 768883. 892038.]\n",
      " [620463. 643734. 977141.]]\n",
      "Done generating concept network \n",
      "\n",
      "\n",
      "recovered_touching_piece = [0]\n",
      "Total time for all limb decomps = 630.3011791706085\n"
     ]
    }
   ],
   "source": [
    "sk = reload(sk)\n",
    "tu = reload(tu)\n",
    "cu = reload(cu)\n",
    "m_sk = reload(m_sk)\n",
    "\n",
    "\n",
    "#For controlling which pieces are MAP\n",
    "width_threshold = 450\n",
    "size_threshold = 1000\n",
    "\n",
    "verbose = True\n",
    "\n",
    "proper_time = time.time()\n",
    "print_fusion_steps=True\n",
    "\n",
    "#parameter for CGAL skeletonization\n",
    "use_surface_after_CGAL=False\n",
    "surface_reconstruction_size = 500\n",
    "\n",
    "#parameters for the stitching:\n",
    "\n",
    "move_MAP_stitch_to_end_or_branch = True\n",
    "distance_to_move_point_threshold=500\n",
    "\n",
    "run_concept_network_checks = True\n",
    "\n",
    "\n",
    "for curr_limb_idx,limb_mesh_mparty in enumerate(current_mesh_data[0][\"branch_meshes\"]):\n",
    "    \n",
    "#     if curr_limb_idx != 11:\n",
    "#         continue\n",
    "    \n",
    "    curr_limb_time = time.time()\n",
    "    print(f\"\\n\\n----- Working on Proper Limb #{curr_limb_idx} ---------\")\n",
    "    \n",
    "    #will store a list of all the endpoints tha tmust be kept:\n",
    "    limb_to_endpoints_must_keep_list[curr_limb_idx] = []\n",
    "    limb_to_soma_touching_vertices_list[curr_limb_idx] = []\n",
    "    \n",
    "    \n",
    "    \n",
    "    \n",
    "    fusion_time = time.time()\n",
    "    # Doing the first pass of surface skeletonization\n",
    "    total_border_vertices = dict()\n",
    "    for l_idx,s_dict in piece_to_soma_touching_vertices.items():\n",
    "        local_b_verts = []\n",
    "        for sm_idx,sm_bord_verts in s_dict.items():\n",
    "            local_b_verts.append(np.vstack(sm_bord_verts))\n",
    "        total_border_vertices[l_idx] = np.vstack(local_b_verts)\n",
    "\n",
    "    #will eventually get the current root from soma_to_piece_touching_vertices[i]\n",
    "    root_curr = total_border_vertices[curr_limb_idx][0]\n",
    "    if print_fusion_steps:\n",
    "        print(f\"Time for preparing soma vertices and root: {time.time() - fusion_time }\")\n",
    "        fusion_time = time.time()\n",
    "    \n",
    "    sk_meshparty_obj = m_sk.skeletonize_mesh_largest_component(limb_mesh_mparty,\n",
    "                                                            root=root_curr,\n",
    "                                                              filter_mesh=False)\n",
    "\n",
    "    if print_fusion_steps:\n",
    "        print(f\"Time for 1st pass MP skeletonization: {time.time() - fusion_time }\")\n",
    "        fusion_time = time.time()\n",
    "        \n",
    "    (segment_branches, #skeleton branches\n",
    "    divided_submeshes, divided_submeshes_idx, #mesh correspondence (mesh and indices)\n",
    "    segment_widths_median) = m_sk.skeleton_obj_to_branches(sk_meshparty_obj,\n",
    "                                                          mesh = limb_mesh_mparty,\n",
    "                                                          meshparty_segment_size=meshparty_segment_size)\n",
    "    \n",
    "    \n",
    "    if print_fusion_steps:\n",
    "        print(f\"Decomposing first pass: {time.time() - fusion_time }\")\n",
    "        fusion_time = time.time()\n",
    "    \n",
    "    \n",
    "    \n",
    "\n",
    "\n",
    "    #gettin the branches that should be passed through MAP skeletonization\n",
    "    pieces_above_threshold = np.where(segment_widths_median>width_threshold)[0]\n",
    "\n",
    "    #getting the correspondnece info for those MAP qualifying\n",
    "    width_large = segment_widths_median[pieces_above_threshold]\n",
    "    sk_large = [segment_branches[k] for k in pieces_above_threshold]\n",
    "    mesh_large_idx = [divided_submeshes_idx[k] for k in pieces_above_threshold]\n",
    "    \n",
    "    \n",
    "\n",
    "    mesh_pieces_for_MAP = []\n",
    "\n",
    "    if len(mesh_large_idx) > 0: #will only continue processing if found MAP candidates\n",
    "        \n",
    "        print(f\"Found len(mesh_large_idx) MAP candidates: {[len(k) for k in mesh_large_idx]}\")\n",
    "        \n",
    "        #finds the connectivity edges of all the MAP candidates\n",
    "        mesh_large_connectivity = tu.mesh_list_connectivity(meshes = mesh_large_idx,\n",
    "                                main_mesh = limb_mesh_mparty,\n",
    "                                print_flag = False)\n",
    "        if print_fusion_steps:\n",
    "            print(f\"mesh_large_connectivity: {time.time() - fusion_time }\")\n",
    "            fusion_time = time.time()\n",
    "        \"\"\"\n",
    "        --------------- Grouping MAP candidates ----------------\n",
    "        Purpose: Will see what mesh pieces should be grouped together\n",
    "        to pass through CGAL skeletonization\n",
    "\n",
    "\n",
    "        Pseudocode: \n",
    "        1) build a networkx graph with all nodes for mesh_large_idx indexes\n",
    "        2) Add the edges\n",
    "        3) Find the connected components\n",
    "        4) Find sizes of connected components\n",
    "        5) For all those connected components that are of a large enough size, \n",
    "        add the mesh branches and skeletons to the final list\n",
    "\n",
    "\n",
    "        \"\"\"\n",
    "        G = nx.Graph()\n",
    "        G.add_nodes_from(np.arange(len(mesh_large_idx)))\n",
    "        G.add_edges_from(mesh_large_connectivity)\n",
    "        conn_comp = list(nx.connected_components(G))\n",
    "\n",
    "        filtered_pieces = []\n",
    "\n",
    "        sk_large_size_filt = []\n",
    "        mesh_large_idx_size_filt = []\n",
    "        width_large_size_filt = []\n",
    "\n",
    "        for cc in conn_comp:\n",
    "            total_cc_size = np.sum([len(mesh_large_idx[k]) for k in cc])\n",
    "            if total_cc_size>size_threshold:\n",
    "                #print(f\"cc ({cc}) passed the size threshold because size was {total_cc_size}\")\n",
    "                filtered_pieces.append(pieces_above_threshold[list(cc)])\n",
    "                \n",
    "        if print_fusion_steps:\n",
    "            print(f\"Finding MAP candidates connected components: {time.time() - fusion_time }\")\n",
    "            fusion_time = time.time()\n",
    "\n",
    "        #filtered_pieces: will have the indexes of all the branch candidates that should  be \n",
    "        #grouped together and passed through MAP skeletonization\n",
    "\n",
    "        if len(filtered_pieces) > 0:\n",
    "            print(f\"len(filtered_pieces) = {len(filtered_pieces)}\")\n",
    "            #all the pieces that will require MAP mesh correspondence and skeletonization\n",
    "            #(already organized into their components)\n",
    "            mesh_pieces_for_MAP = [limb_mesh_mparty.submesh([np.concatenate(divided_submeshes_idx[k])],append=True,repair=False) for k in filtered_pieces]\n",
    "            mesh_pieces_for_MAP_face_idx = [np.concatenate(divided_submeshes_idx[k]) for k in filtered_pieces]\n",
    "            \n",
    "            pieces_idx_MP = np.setdiff1d(np.arange(len(divided_submeshes_idx)),np.concatenate(filtered_pieces))\n",
    "\n",
    "            \"\"\"\n",
    "            Old Way: Finding connectivity of pieces through\n",
    "            mesh_idx_MP = [divided_submeshes_idx[k] for k in pieces_idx_MP]\n",
    "\n",
    "            mesh_large_connectivity_MP = tu.mesh_list_connectivity(meshes = mesh_idx_MP,\n",
    "                                    main_mesh = limb_mesh_mparty,\n",
    "                                    print_flag = False)\n",
    "\n",
    "            New Way: going to use skeleton connectivity to determine\n",
    "            connectivity of pieces\n",
    "\n",
    "            Pseudocode: \n",
    "            1)\n",
    "\n",
    "            \"\"\"\n",
    "\n",
    "            skeleton_MP = [segment_branches[k] for k in pieces_idx_MP]\n",
    "            skeleton_connectivity_MP = sk.skeleton_list_connectivity(\n",
    "                                            skeletons=skeleton_MP\n",
    "                                            )\n",
    "            if print_fusion_steps:\n",
    "                print(f\"skeleton_connectivity_MP : {time.time() - fusion_time }\")\n",
    "                fusion_time = time.time()\n",
    "\n",
    "            G = nx.Graph()\n",
    "            G.add_nodes_from(np.arange(len(skeleton_MP)))\n",
    "            G.add_edges_from(skeleton_connectivity_MP)\n",
    "            sublimbs_MP = list(nx.connected_components(G))\n",
    "            sublimbs_MP_orig_idx = [pieces_idx_MP[list(k)] for k in sublimbs_MP]\n",
    "\n",
    "\n",
    "            #concatenate into sublimbs the skeletons and meshes\n",
    "            sublimb_mesh_idx_branches_MP = [divided_submeshes_idx[k] for k in sublimbs_MP_orig_idx]\n",
    "            sublimb_mesh_branches_MP = [[limb_mesh_mparty.submesh([ki],append=True,repair=False)\n",
    "                                        for ki in k] for k in sublimb_mesh_idx_branches_MP]\n",
    "            sublimb_meshes_MP = [limb_mesh_mparty.submesh([np.concatenate(k)],append=True,repair=False)\n",
    "                                                         for k in sublimb_mesh_idx_branches_MP]\n",
    "            sublimb_meshes_MP_face_idx = [np.concatenate(k)\n",
    "                                                         for k in sublimb_mesh_idx_branches_MP]\n",
    "            sublimb_skeleton_branches = [segment_branches[k] for k in sublimbs_MP_orig_idx]\n",
    "            widths_MP = [segment_widths_median[k] for k in sublimbs_MP_orig_idx]\n",
    "            \n",
    "            if print_fusion_steps:\n",
    "                print(f\"Grouping MP Sublimbs by Graph: {time.time() - fusion_time }\")\n",
    "                fusion_time = time.time()\n",
    "\n",
    "    # else: #if no pieces were determine to need MAP processing\n",
    "    #     print(\"No MAP processing needed: just returning the Meshparty skeletonization and mesh correspondence\")\n",
    "    #     raise Exception(\"Returning MP correspondence\")\n",
    "\n",
    "\n",
    "    # nviz.plot_objects(main_mesh=tu.combine_meshes([limb_mesh_mparty,current_neuron[\"S0\"].mesh]),\n",
    "    #                   main_mesh_color=\"green\",\n",
    "    #     skeletons=sk_large_size_filt,\n",
    "    #      meshes=[limb_mesh_mparty.submesh([k],append=True) for k in mesh_large_idx_size_filt],\n",
    "    #       meshes_colors=\"red\")\n",
    "    \n",
    "    \n",
    "    \n",
    "    \n",
    "    \n",
    "    \n",
    "    \n",
    "    \n",
    "    \n",
    "    \n",
    "    #if no sublimbs need to be decomposed with MAP then just reassign all of the previous MP processing to the sublimb_MPs\n",
    "    if len(mesh_pieces_for_MAP) == 0:\n",
    "        sublimb_meshes_MP = [limb_mesh_mparty] #trimesh pieces that have already been passed through MP skeletonization (may not need)\n",
    "        # -- the decomposition information ---\n",
    "        sublimb_mesh_branches_MP = [divided_submeshes] #the mesh branches for all the disconnected sublimbs\n",
    "        sublimb_mesh_idx_branches_MP = [divided_submeshes_idx] #The mesh branches idx that have already passed through MP skeletonization\n",
    "        sublimb_skeleton_branches = [segment_branches]#the skeleton bnraches for all the sublimbs\n",
    "        widths_MP = [segment_widths_median] #the mesh branches widths for all the disconnected groups\n",
    "\n",
    "        MAP_flag = False\n",
    "    else:\n",
    "        MAP_flag = True\n",
    "\n",
    "    \n",
    "\n",
    "    mesh_pieces_for_MAP #trimesh pieces that should go through CGAL skeletonization\n",
    "    sublimb_meshes_MP #trimesh pieces that have already been passed through MP skeletonization (may not need)\n",
    "\n",
    "    # -- the decomposition information ---\n",
    "    sublimb_mesh_branches_MP #the mesh branches for all the disconnected sublimbs\n",
    "    sublimb_mesh_idx_branches_MP #The mesh branches idx that have already passed through MP skeletonization\n",
    "    sublimb_skeleton_branches #the skeleton bnraches for all the sublimbs\n",
    "    widths_MP #the mesh branches widths for all the disconnected groups\n",
    "    \n",
    "    if print_fusion_steps:\n",
    "        print(f\"Divinding into MP and MAP pieces: {time.time() - fusion_time }\")\n",
    "        fusion_time = time.time()\n",
    "\n",
    "    \n",
    "    \n",
    "    # ------------------- At this point have the correct division between MAP and MP ------------------------\n",
    "    \n",
    "    # -------------- Doing the MAP decomposition ------------------ #\n",
    "    global_start_time = time.time()\n",
    "    endpoints_must_keep = dict()\n",
    "\n",
    "    perform_cleaning_checks = False\n",
    "\n",
    "    limb_correspondence_MAP = dict()\n",
    "    \n",
    "    for sublimb_idx,(mesh,mesh_idx) in enumerate(zip(mesh_pieces_for_MAP,mesh_pieces_for_MAP_face_idx)):\n",
    "        print(f\"--- Working on MAP piece {sublimb_idx}---\")\n",
    "        mesh_start_time = time.time()\n",
    "        curr_soma_to_piece_touching_vertices = pre.filter_soma_touching_vertices_dict_by_mesh(\n",
    "        mesh = mesh,\n",
    "        curr_piece_to_soma_touching_vertices = piece_to_soma_touching_vertices[curr_limb_idx]\n",
    "        )\n",
    "        \n",
    "        if print_fusion_steps:\n",
    "            print(f\"MAP Filtering Soma Pieces: {time.time() - fusion_time }\")\n",
    "            fusion_time = time.time()\n",
    "\n",
    "        # ---- 0) Generating the Clean skeletons  -------------------------------------------#\n",
    "        if not curr_soma_to_piece_touching_vertices is None:\n",
    "            total_border_vertices = dict([(k,np.vstack(v)) for k,v in curr_soma_to_piece_touching_vertices.items()])\n",
    "\n",
    "        cleaned_branch,curr_limb_endpoints_must_keep = sk.skeletonize_and_clean_connected_branch_CGAL(\n",
    "            mesh=mesh,\n",
    "            curr_soma_to_piece_touching_vertices=curr_soma_to_piece_touching_vertices,\n",
    "            total_border_vertices=total_border_vertices,\n",
    "            filter_end_node_length=filter_end_node_length,\n",
    "            perform_cleaning_checks=perform_cleaning_checks,\n",
    "            combine_close_skeleton_nodes = combine_close_skeleton_nodes,\n",
    "            combine_close_skeleton_nodes_threshold=combine_close_skeleton_nodes_threshold,\n",
    "        use_surface_after_CGAL=use_surface_after_CGAL,\n",
    "        surface_reconstruction_size=surface_reconstruction_size)\n",
    "        \n",
    "        if not curr_limb_endpoints_must_keep is None:\n",
    "            limb_to_endpoints_must_keep_list[curr_limb_idx].append(curr_limb_endpoints_must_keep)\n",
    "            limb_to_soma_touching_vertices_list[curr_limb_idx].append(curr_soma_to_piece_touching_vertices)\n",
    "        else:\n",
    "            print(\"Inside MAP decomposition and curr_limb_endpoints_must_keep was None\")\n",
    "\n",
    "        if len(cleaned_branch) == 0:\n",
    "            raise Exception(f\"Found a zero length skeleton for limb {z} of trmesh {branch}\")\n",
    "            \n",
    "        if print_fusion_steps:\n",
    "            print(f\"skeletonize_and_clean_connected_branch_CGAL: {time.time() - fusion_time }\")\n",
    "            fusion_time = time.time()\n",
    "\n",
    "        # ---- 1) Generating Initial Mesh Correspondence -------------------------------------------#\n",
    "        start_time = time.time()\n",
    "\n",
    "        print(f\"Working on limb correspondence for #{sublimb_idx} MAP piece\")\n",
    "        local_correspondence = pre.mesh_correspondence_first_pass(mesh=mesh,\n",
    "                                                             skeleton=cleaned_branch,\n",
    "                                                             distance_by_mesh_center=distance_by_mesh_center)\n",
    "\n",
    "\n",
    "        print(f\"Total time for decomposition = {time.time() - start_time}\")\n",
    "        if print_fusion_steps:\n",
    "            print(f\"mesh_correspondence_first_pass: {time.time() - fusion_time }\")\n",
    "            fusion_time = time.time()\n",
    "\n",
    "\n",
    "        #------------- 2) Doing Some checks on the initial corespondence -------- #\n",
    "\n",
    "        perform_cleaning_checks = True       \n",
    "        if perform_cleaning_checks:\n",
    "            pre.check_skeletonization_and_decomp(skeleton=cleaned_branch,\n",
    "                                            local_correspondence=local_correspondence)\n",
    "\n",
    "        # -------3) Finishing off the face correspondence so get 1-to-1 correspondence of mesh face to skeletal piece\n",
    "        local_correspondence_revised = pre.correspondence_1_to_1(mesh=mesh,\n",
    "                                        local_correspondence=local_correspondence,\n",
    "                                        curr_limb_endpoints_must_keep=curr_limb_endpoints_must_keep,\n",
    "                                        curr_soma_to_piece_touching_vertices=curr_soma_to_piece_touching_vertices)\n",
    "        \n",
    "        # -------3b) Fixing the mesh indices to correspond to the larger mesh as a whole\n",
    "        for k,v in local_correspondence_revised.items():\n",
    "            local_correspondence_revised[k][\"branch_face_idx\"] = mesh_idx[local_correspondence_revised[k][\"branch_face_idx\"]]\n",
    "        \n",
    "        print(f\"Total time for MAP sublimb #{sublimb_idx} mesh processing = {time.time() - mesh_start_time}\")\n",
    "        \n",
    "        if print_fusion_steps:\n",
    "            print(f\"correspondence_1_to_1: {time.time() - fusion_time }\")\n",
    "            fusion_time = time.time()\n",
    "\n",
    "        limb_correspondence_MAP[sublimb_idx] = local_correspondence_revised\n",
    "\n",
    "    print(f\"Total time for MAP sublimb processing {time.time() - global_start_time}\")\n",
    "\n",
    "    \n",
    "\n",
    "    \n",
    "    \n",
    "    # ----------------- Part B: Doing the MP Decomposition ---------------------- #\n",
    "    \n",
    "    \n",
    "    \n",
    "    \n",
    "    sublimb_meshes_MP #trimesh pieces that have already been passed through MP skeletonization (may not need)\n",
    "    # -- the decomposition information ---\n",
    "    sublimb_mesh_branches_MP #the mesh branches for all the disconnected sublimbs\n",
    "    sublimb_mesh_idx_branches_MP #The mesh branches idx that have already passed through MP skeletonization\n",
    "    sublimb_skeleton_branches #the skeleton bnraches for all the sublimbs\n",
    "    widths_MP #the mesh branches widths for all the disconnected groups\n",
    "\n",
    "    limb_correspondence_MP = dict()\n",
    "\n",
    "    print(\"***************Arrived at MESH PIECES FOR MAP AND mp***************\")\n",
    "    for sublimb_idx,mesh in enumerate(sublimb_meshes_MP):\n",
    "        print(f\"---- Working on MP Decomposition #{sublimb_idx} ----\")\n",
    "        mesh_start_time = time.time()\n",
    "\n",
    "        if len(sublimb_meshes_MP) == 1 and MAP_flag == False:\n",
    "            print(\"Using Quicker soma_to_piece_touching_vertices because no MAP and only one sublimb_mesh piece \")\n",
    "            curr_soma_to_piece_touching_vertices = piece_to_soma_touching_vertices[curr_limb_idx]\n",
    "        else:\n",
    "            curr_soma_to_piece_touching_vertices = pre.filter_soma_touching_vertices_dict_by_mesh(\n",
    "                                                mesh = mesh,\n",
    "                                                curr_piece_to_soma_touching_vertices = piece_to_soma_touching_vertices[curr_limb_idx]\n",
    "                                                )\n",
    "            \n",
    "        if print_fusion_steps:\n",
    "            print(f\"MP filtering soma verts: {time.time() - fusion_time }\")\n",
    "            fusion_time = time.time()\n",
    "\n",
    "        #creating all of the sublimb groups\n",
    "        segment_branches = sublimb_skeleton_branches[sublimb_idx]\n",
    "        whole_sk_MP = sk.stack_skeletons(segment_branches)\n",
    "        branch = mesh\n",
    "        divided_submeshes = sublimb_mesh_branches_MP[sublimb_idx]\n",
    "        divided_submeshes_idx = sublimb_mesh_idx_branches_MP[sublimb_idx]\n",
    "        segment_widths_median = widths_MP[sublimb_idx]\n",
    "\n",
    "        if curr_soma_to_piece_touching_vertices is None:\n",
    "            print(f\"Do Not Need to Fix MP Decomposition {sublimb_idx} so just continuing\")\n",
    "\n",
    "        else:\n",
    "            print(f\"Fixing Possible Soma Extension Branch for Sublimb {sublimb_idx}\")\n",
    "\n",
    "            #If there is some soma touching then need to see if have to fix soma extending pieces\n",
    "            return_info = sk.create_soma_extending_branches(current_skeleton=whole_sk_MP,\n",
    "                                      skeleton_mesh=branch,\n",
    "                                      soma_to_piece_touching_vertices=curr_soma_to_piece_touching_vertices,\n",
    "                                      return_endpoints_must_keep=True,\n",
    "                                         return_created_branch_info=True)\n",
    "            new_sk,endpts,new_branch_info = return_info\n",
    "\n",
    "            if print_fusion_steps:\n",
    "                print(f\"MP (because soma touching verts) create_soma_extending_branches: {time.time() - fusion_time }\")\n",
    "                fusion_time = time.time()\n",
    "\n",
    "            no_soma_extension_add = True\n",
    "            \n",
    "            if not endpts is None:\n",
    "                limb_to_endpoints_must_keep_list[curr_limb_idx].append(endpts)\n",
    "                limb_to_soma_touching_vertices_list[curr_limb_idx].append(curr_soma_to_piece_touching_vertices)\n",
    "            \n",
    "            for sm_idx in new_branch_info.keys():        \n",
    "                for b_vert_idx,br_info in enumerate(new_branch_info[sm_idx]):\n",
    "                    if br_info is None:\n",
    "                        continue\n",
    "                    no_soma_extension_add=False\n",
    "\n",
    "\n",
    "                    #1) Get the newly added branch (and the original vertex which is the first row)\n",
    "                    br_new,sm_bord_verts = br_info[\"new_branch\"],br_info[\"border_verts\"] #this will hold the new branch and the border vertices corresponding to it\n",
    "\n",
    "                    curr_soma_to_piece_touching_vertices_MP = {sm_idx:[sm_bord_verts]}\n",
    "                    endpoints_must_keep_MP = {sm_idx:[br_new[0][1]]}\n",
    "                    \n",
    "\n",
    "                    orig_vertex = br_new[0][0]\n",
    "\n",
    "                    #2) Find the branches that have that coordinate (could be multiple)\n",
    "                    match_sk_branches = sk.find_branch_skeleton_with_specific_coordinate(segment_branches,\n",
    "                        current_coordinate=orig_vertex)\n",
    "\n",
    "                    #2b) If multiple branches: Pick a winning branch that has the most of the\n",
    "                    #    soma touching vertices\n",
    "                    if len(match_sk_branches) > 1:\n",
    "                        bord_verts_tree = KDTree(sm_bord_verts.reshape(-1,3))\n",
    "                        winning_branch = match_sk_branches[0]\n",
    "                        dist,_ = bord_verts_tree.query(divided_submeshes[winning_branch].vertices)\n",
    "                        winning_branch_n_bord_verts = np.sum(dist == 0)\n",
    "\n",
    "                        for i in range(1,len(match_sk_branches)):\n",
    "                            curr_branch = match_sk_branches[i]\n",
    "                            dist,_ = bord_verts_tree.query(divided_submeshes[winning_branch].vertices)\n",
    "                            n_bord_verts = np.sum(dist == 0)\n",
    "                            if n_bord_verts>winning_branch_n_bord_verts:\n",
    "                                winning_branch_n_bord_verts = n_bord_verts\n",
    "                                winning_branch = curr_branch\n",
    "                    elif len(match_sk_branches) == 1:\n",
    "                        winning_branch = match_sk_branches[0]\n",
    "                    else:\n",
    "                        raise Exception(\"No matching branches found for soma extending point\")\n",
    "\n",
    "                    if verbose:\n",
    "                        print(f\"Winning Branch = {winning_branch}\")\n",
    "\n",
    "                    #3) Find the mesh and skeleton of the winning branch\n",
    "                    winning_branch_mesh = divided_submeshes[winning_branch]\n",
    "                    winning_branch_mesh_idx = divided_submeshes_idx[winning_branch]\n",
    "                    winning_branch_sk = segment_branches[winning_branch]\n",
    "\n",
    "                    #4) Add newly created branch to skeleton and divide the skeleton into branches (could make 2 or 3)\n",
    "                    extended_skeleton_to_soma = sk.stack_skeletons([winning_branch_sk,br_new])\n",
    "                    soma_extending_branches = sk.decompose_skeleton_to_branches(extended_skeleton_to_soma)\n",
    "\n",
    "                    #5) Run Adaptive mesh correspondnece using branches and mesh\n",
    "                    local_correspondnece_MP = pre.mesh_correspondence_first_pass(mesh=winning_branch_mesh,\n",
    "                                                  skeleton=extended_skeleton_to_soma)\n",
    "\n",
    "                    local_correspondence_revised = pre.correspondence_1_to_1(mesh=winning_branch_mesh,\n",
    "                                                                local_correspondence=local_correspondnece_MP,\n",
    "                                                                curr_limb_endpoints_must_keep=endpoints_must_keep_MP,\n",
    "                                                                curr_soma_to_piece_touching_vertices=curr_soma_to_piece_touching_vertices_MP)\n",
    "\n",
    "                    # All the things that should be revised:\n",
    "                #     segment_branches, #skeleton branches\n",
    "                #     divided_submeshes, divided_submeshes_idx, #mesh correspondence (mesh and indices)\n",
    "                #     segment_widths_median\n",
    "\n",
    "\n",
    "                    new_submeshes = [k[\"branch_mesh\"] for k in local_correspondence_revised.values()]\n",
    "                    new_submeshes_idx = [winning_branch_mesh_idx[k[\"branch_face_idx\"]] for k in local_correspondence_revised.values()]\n",
    "                    new_skeletal_branches = [k[\"branch_skeleton\"] for k in local_correspondence_revised.values()]\n",
    "\n",
    "                    #calculate the new width\n",
    "                    ray_inter = tu.ray_pyembree.RayMeshIntersector(limb_mesh_mparty)\n",
    "                    new_widths = []\n",
    "                    for new_s_idx in new_submeshes_idx:\n",
    "                        curr_ray_distance = tu.ray_trace_distance(mesh=limb_mesh_mparty, \n",
    "                                            face_inds=new_s_idx,\n",
    "                                           ray_inter=ray_inter)\n",
    "                        new_widths.append(np.median(curr_ray_distance[curr_ray_distance!=0]))\n",
    "\n",
    "\n",
    "                    #6) Remove the original branch and mesh correspondence and replace with the multiples\n",
    "                #     new_segment_branches = deepcopy(segment_branches)\n",
    "                #     new_divided_submeshes = deepcopy(divided_submeshes)\n",
    "                #     new_divided_submeshes_idx = deepcopy(divided_submeshes_idx)\n",
    "                #     new_segment_widths_median = deepcopy(segment_widths_median)\n",
    "\n",
    "                    segment_branches = np.delete(segment_branches,winning_branch)\n",
    "                    segment_branches = np.append(segment_branches,new_skeletal_branches,axis=0)\n",
    "\n",
    "                    divided_submeshes = np.delete(divided_submeshes,winning_branch)\n",
    "                    divided_submeshes = np.append(divided_submeshes,new_submeshes,axis=0)\n",
    "\n",
    "                    divided_submeshes_idx = np.delete(divided_submeshes_idx,winning_branch)\n",
    "                    divided_submeshes_idx = np.append(divided_submeshes_idx,new_submeshes_idx,axis=0)\n",
    "\n",
    "                    segment_widths_median = np.delete(segment_widths_median,winning_branch)\n",
    "                    segment_widths_median = np.append(segment_widths_median,new_widths,axis=0)\n",
    "\n",
    "\n",
    "\n",
    "\n",
    "            if no_soma_extension_add:\n",
    "                print(\"No soma extending branch was added for this sublimb even though it had a soma border (means they already existed)\")\n",
    "\n",
    "            if print_fusion_steps:\n",
    "                print(f\"MP (because soma touching verts) soma extension add: {time.time() - fusion_time }\")\n",
    "                fusion_time = time.time()\n",
    "            \n",
    "        #building the limb correspondence\n",
    "        limb_correspondence_MP[sublimb_idx] = dict()\n",
    "\n",
    "        for zz,b_sk in enumerate(segment_branches):\n",
    "            limb_correspondence_MP[sublimb_idx][zz] = dict(\n",
    "                branch_skeleton = b_sk,\n",
    "                width_from_skeleton = segment_widths_median[zz],\n",
    "                branch_mesh = divided_submeshes[zz],\n",
    "                branch_face_idx = divided_submeshes_idx[zz]\n",
    "                )\n",
    "            \n",
    "            \n",
    "            \n",
    "        \n",
    "        \n",
    "    # ------------------------------------- Part C: Will make sure the correspondences can all be stitched together --------------- #\n",
    "\n",
    "    # Only want to perform this step if both MP and MAP pieces\n",
    "    if len(limb_correspondence_MAP)>0 and len(limb_correspondence_MP)>0:\n",
    "\n",
    "\n",
    "        # ---- Doing the mesh connectivity ---------#\n",
    "        sublimb_meshes_MP = []\n",
    "        sublimb_skeletons_MP = []\n",
    "\n",
    "        for sublimb_key,sublimb_v in limb_correspondence_MP.items():\n",
    "            sublimb_meshes_MP.append(tu.combine_meshes([branch_v[\"branch_mesh\"] for branch_v in sublimb_v.values()]))\n",
    "            sublimb_skeletons_MP.append(sk.stack_skeletons([branch_v[\"branch_skeleton\"] for branch_v in sublimb_v.values()]))\n",
    "\n",
    "        sublimb_meshes_MAP = []\n",
    "        sublimb_skeletons_MAP = []\n",
    "\n",
    "        for sublimb_key,sublimb_v in limb_correspondence_MAP.items():\n",
    "            sublimb_meshes_MAP.append(tu.combine_meshes([branch_v[\"branch_mesh\"] for branch_v in sublimb_v.values()]))\n",
    "            sublimb_skeletons_MAP.append(sk.stack_skeletons([branch_v[\"branch_skeleton\"] for branch_v in sublimb_v.values()]))\n",
    "\n",
    "\n",
    "\n",
    "        mesh_conn,mesh_conn_vertex_groups = tu.mesh_list_connectivity(meshes = sublimb_meshes_MP + sublimb_meshes_MAP,\n",
    "                                            main_mesh = limb_mesh_mparty,\n",
    "                                            min_common_vertices=1,\n",
    "                                            return_vertex_connection_groups=True,\n",
    "                                            return_largest_vertex_connection_group=True,\n",
    "                                            print_flag = False)\n",
    "\n",
    "        #check that every MAP piece mapped to a MP piece\n",
    "        mesh_conn_filt = []\n",
    "        mesh_conn_vertex_groups_filt = []\n",
    "        for j,(m1,m2) in enumerate(mesh_conn):\n",
    "            if m1 < len(sublimb_meshes_MP) and m2 >=len(sublimb_meshes_MP):\n",
    "                mesh_conn_filt.append([m1,m2])\n",
    "                mesh_conn_vertex_groups_filt.append(mesh_conn_vertex_groups[j])\n",
    "        mesh_conn_filt = np.array(mesh_conn_filt)\n",
    "\n",
    "        mesh_conn = mesh_conn_filt\n",
    "        mesh_conn_vertex_groups = mesh_conn_vertex_groups_filt\n",
    "\n",
    "        #check that the mapping should create only one connected component\n",
    "        G = nx.from_edgelist(mesh_conn)\n",
    "\n",
    "        if len(G) != len(sublimb_meshes_MP) + len(sublimb_meshes_MAP):\n",
    "            raise Exception(\"Number of nodes in mesh connectivity graph is not equal to number of  MAP and MP sublimbs\")\n",
    "\n",
    "        connect_comp = list(nx.connected_components(G))\n",
    "        if len(connect_comp)>1:\n",
    "            raise Exception(f\"Mesh connectivity was not one component, instead it was ({len(connect_comp)}): {connect_comp} \")\n",
    "            \n",
    "            \n",
    "            \n",
    "\n",
    "        #adjust the connection indices for MP and MAP indices\n",
    "        mesh_conn_adjusted = np.vstack([mesh_conn[:,0],mesh_conn[:,1]-len(sublimb_meshes_MP)]).T\n",
    "\n",
    "\n",
    "\n",
    "\n",
    "\n",
    "\n",
    "        \"\"\"\n",
    "        Pseudocode:\n",
    "        For each connection edge:\n",
    "            For each vertex connection group:\n",
    "                1) Get the endpoint vertices of the MP skeleton\n",
    "                2) Find the closest endpoint vertex to the vertex connection group (this is MP stitch point)\n",
    "                3) Find the closest skeletal point on MAP pairing (MAP stitch) \n",
    "                4) Find the branches that have that MAP stitch point:\n",
    "                5A) If the number of branches corresponding to stitch point is multipled\n",
    "                    --> then we are stitching at a branching oint\n",
    "                    i) Just add the skeletal segment from MP_stitch to MAP stitch to the MP skeletal segment\n",
    "                    ii) \n",
    "\n",
    "        \"\"\"\n",
    "\n",
    "\n",
    "        for (MP_idx,MAP_idx),v_g in zip(mesh_conn_adjusted,mesh_conn_vertex_groups):\n",
    "            print(f\"\\n---- Working on {(MP_idx,MAP_idx)} connection-----\")\n",
    "\n",
    "            \"\"\"\n",
    "            This old way of getting the endpoints was not good because could possibly just need\n",
    "            a stitching done between original branch junction\n",
    "\n",
    "            skeleton_MP_graph = sk.convert_skeleton_to_graph(curr_skeleton_MP)\n",
    "            endpoint_nodes = xu.get_nodes_of_degree_k(skeleton_MP_graph,1)\n",
    "            endpoint_nodes_coordinates = xu.get_node_attributes(skeleton_MP_graph,node_list=endpoint_nodes)\n",
    "            \"\"\"\n",
    "\n",
    "\n",
    "            #getting the skeletons that should be stitched\n",
    "            curr_skeleton_MP = sk.stack_skeletons([branch_v[\"branch_skeleton\"] for branch_v in limb_correspondence_MP[MP_idx].values()])\n",
    "            curr_skeleton_MAP = sk.stack_skeletons([branch_v[\"branch_skeleton\"] for branch_v in limb_correspondence_MAP[MAP_idx].values()])\n",
    "\n",
    "            #1) Get the endpoint vertices of the MP skeleton (needs to be inside loop because limb correspondence will change)\n",
    "            curr_MP_branch_skeletons = [k[\"branch_skeleton\"] for k in limb_correspondence_MP[MP_idx].values()]\n",
    "            endpoint_nodes_coordinates = np.array([sk.find_branch_endpoints(k) for k in curr_MP_branch_skeletons])\n",
    "            endpoint_nodes_coordinates = np.unique(endpoint_nodes_coordinates.reshape(-1,3),axis=0)\n",
    "\n",
    "            #2) Find the closest endpoint vertex to the vertex connection group (this is MP stitch point)\n",
    "            av_vert = np.mean(v_g,axis=0)\n",
    "            winning_vertex = endpoint_nodes_coordinates[np.argmin(np.linalg.norm(endpoint_nodes_coordinates-av_vert,axis=1))]\n",
    "            print(f\"winning_vertex = {winning_vertex}\")\n",
    "\n",
    "\n",
    "            #2b) Find the branch points where the winning vertex is located\n",
    "            MP_branches_with_stitch_point = sk.find_branch_skeleton_with_specific_coordinate(\n",
    "                divded_skeleton=curr_MP_branch_skeletons,\n",
    "                current_coordinate = winning_vertex\n",
    "            )\n",
    "            print(f\"MP_branches_with_stitch_point = {MP_branches_with_stitch_point}\")\n",
    "\n",
    "\n",
    "            #3) Find the closest skeletal point on MAP pairing (MAP stitch)\n",
    "            MAP_skeleton_coords = np.unique(curr_skeleton_MAP.reshape(-1,3),axis=0)\n",
    "            MAP_stitch_point = MAP_skeleton_coords[np.argmin(np.linalg.norm(MAP_skeleton_coords-winning_vertex,axis=1))]\n",
    "\n",
    "\n",
    "            #3b) Consider if the stitch point is close enough to end or branch node in skeleton:\n",
    "            # and if so then reassign\n",
    "            if move_MAP_stitch_to_end_or_branch:\n",
    "                MAP_stitch_point_new,change_status = sk.move_point_to_nearest_branch_end_point_within_threshold(\n",
    "                                                        graph=curr_skeleton_MAP,\n",
    "                                                        coordinate=MAP_stitch_point,\n",
    "                                                        distance_to_move_point_threshold = distance_to_move_point_threshold,\n",
    "                                                        verbose=True\n",
    "\n",
    "                                                        )\n",
    "                MAP_stitch_point=MAP_stitch_point_new\n",
    "\n",
    "\n",
    "            #4) Find the branches that have that MAP stitch point:\n",
    "            curr_MAP_branch_skeletons = [k[\"branch_skeleton\"] for k in limb_correspondence_MAP[MAP_idx].values()]\n",
    "\n",
    "            MAP_branches_with_stitch_point = sk.find_branch_skeleton_with_specific_coordinate(\n",
    "                divded_skeleton=curr_MAP_branch_skeletons,\n",
    "                current_coordinate = MAP_stitch_point\n",
    "            )\n",
    "\n",
    "\n",
    "            MAP_stitch_point_on_end_or_branch = False\n",
    "            if len(MAP_branches_with_stitch_point)>1:\n",
    "                MAP_stitch_point_on_end_or_branch = True\n",
    "            elif len(MAP_branches_with_stitch_point)==1:\n",
    "                if len(nu.matching_rows(sk.find_branch_endpoints(curr_MAP_branch_skeletons[MAP_branches_with_stitch_point[0]]),\n",
    "                                        MAP_stitch_point))>0:\n",
    "                    MAP_stitch_point_on_end_or_branch=True\n",
    "            else:\n",
    "                raise Exception(\"No matching MAP values\")\n",
    "\n",
    "\n",
    "            print(f\"MAP_branches_with_stitch_point = {MAP_branches_with_stitch_point}\")\n",
    "            print(f\"MAP_stitch_point_on_end_or_branch = {MAP_stitch_point_on_end_or_branch}\")\n",
    "\n",
    "\n",
    "            # ------------------------- This part does the stitching -------------------- #\n",
    "\n",
    "\n",
    "            \"\"\"\n",
    "            Pseudocode:\n",
    "            1) For all MP branches\n",
    "                a) Get neighbor coordinates to MP stitch points\n",
    "                b) Delete the MP Stitch points on each \n",
    "                c) Add skeleton segment from neighbor to MAP stitch point\n",
    "            2) Get skeletons and meshes from MP and MAP pieces\n",
    "            3) Run mesh correspondence to get new meshes and mesh_idx and widths\n",
    "            4a) If MAP_stitch_point_on_end_or_branch is False\n",
    "            - Delete the old MAP branch parts and replace with new MAP ones\n",
    "            4b) Revise the meshes,  mesh_idx, and widths of the MAP pieces\n",
    "            5) Revise the meshes,  mesh_idx, and widths of the MP pieces\n",
    "\n",
    "\n",
    "            \"\"\"\n",
    "\n",
    "            curr_MP_sk = []\n",
    "            for b_idx in MP_branches_with_stitch_point:\n",
    "\n",
    "                #a) Get neighbor coordinates to MP stitch points\n",
    "                MP_stitch_branch_graph = sk.convert_skeleton_to_graph(curr_MP_branch_skeletons[b_idx])\n",
    "                stitch_node = xu.get_nodes_with_attributes_dict(MP_stitch_branch_graph,dict(coordinates=winning_vertex))[0]\n",
    "                stitch_neighbors = xu.get_neighbors(MP_stitch_branch_graph,stitch_node)\n",
    "\n",
    "                if len(stitch_neighbors) != 1:\n",
    "                    raise Exception(\"Not just one neighbor for stitch point of MP branch\")\n",
    "                keep_neighbor = stitch_neighbors[0]  \n",
    "                keep_neighbor_coordinates = xu.get_node_attributes(MP_stitch_branch_graph,node_list=[keep_neighbor])[0]\n",
    "\n",
    "                #b) Delete the MP Stitch points on each \n",
    "                MP_stitch_branch_graph.remove_node(stitch_node)\n",
    "\n",
    "                #c) Add skeleton segment from neighbor to MAP stitch point\n",
    "                new_node_name = np.max(MP_stitch_branch_graph.nodes())+1\n",
    "\n",
    "                MP_stitch_branch_graph.add_nodes_from([(int(new_node_name),{\"coordinates\":MAP_stitch_point})])\n",
    "                MP_stitch_branch_graph.add_weighted_edges_from([(keep_neighbor,new_node_name,np.linalg.norm(MAP_stitch_point - keep_neighbor_coordinates))])\n",
    "\n",
    "                new_MP_skeleton = sk.convert_graph_to_skeleton(MP_stitch_branch_graph)\n",
    "                \n",
    "                #smooth over the new skeleton\n",
    "                new_MP_skeleton_smooth = sk.resize_skeleton_branch(new_MP_skeleton,\n",
    "                                                                  segment_width=meshparty_segment_size)\n",
    "                \n",
    "                curr_MP_sk.append(new_MP_skeleton_smooth)\n",
    "\n",
    "\n",
    "\n",
    "            #2) Get skeletons and meshes from MP and MAP pieces\n",
    "            curr_MAP_sk = [limb_correspondence_MAP[MAP_idx][k][\"branch_skeleton\"] for k in MAP_branches_with_stitch_point]\n",
    "\n",
    "            #2.1) Going to break up the MAP skeleton if need be\n",
    "            \"\"\"\n",
    "            Pseudocode:\n",
    "            a) check to see if it needs to be broken up\n",
    "            If it does:\n",
    "            b) Convert the skeleton into a graph\n",
    "            c) Find the node of the MAP stitch point (where need to do the breaking)\n",
    "            d) Find the degree one nodes\n",
    "            e) For each degree one node:\n",
    "            - Find shortest path from stitch node to end node\n",
    "            - get a subgraph from that path\n",
    "            - convert graph to a skeleton and save as new skeletons\n",
    "\n",
    "            \"\"\"\n",
    "            #a) check to see if it needs to be broken up\n",
    "            if not MAP_stitch_point_on_end_or_branch:\n",
    "                if len(curr_MAP_sk) > 1:\n",
    "                    raise Exception(f\"There was more than one skeleton for MAP skeletons even though MAP_stitch_point_on_end_or_branch = {MAP_stitch_point_on_end_or_branch}\")\n",
    "\n",
    "                curr_MAP_sk_new = []\n",
    "                #b) Convert the skeleton into a graph\n",
    "                curr_MAP_sk_graph = sk.convert_skeleton_to_graph(curr_MAP_sk[0])\n",
    "                #c) Find the node of the MAP stitch point (where need to do the breaking)\n",
    "                MP_stitch_node = xu.get_nodes_with_attributes_dict(curr_MAP_sk_graph,dict(coordinates=MAP_stitch_point))[0]\n",
    "                #d) Find the degree one nodes\n",
    "                curr_end_nodes_for_break = xu.get_nodes_of_degree_k(curr_MAP_sk_graph,1)\n",
    "\n",
    "                #e) For each degree one node:\n",
    "                for e_n in curr_end_nodes_for_break:\n",
    "                    #- Find shortest path from stitch node to end node\n",
    "                    stitch_to_end_path = nx.shortest_path(curr_MAP_sk_graph,MP_stitch_node,e_n)\n",
    "                    #- get a subgraph from that path\n",
    "                    stitch_to_end_path_graph = curr_MAP_sk_graph.subgraph(stitch_to_end_path)\n",
    "                    #- convert graph to a skeleton and save as new skeletons\n",
    "                    new_sk = sk.convert_graph_to_skeleton(stitch_to_end_path_graph)\n",
    "                    curr_MAP_sk_new.append(new_sk)\n",
    "                curr_MAP_sk = curr_MAP_sk_new\n",
    "\n",
    "            curr_MAP_meshes_idx = [limb_correspondence_MAP[MAP_idx][k][\"branch_face_idx\"] for k in MAP_branches_with_stitch_point]\n",
    "\n",
    "            curr_MP_sk\n",
    "            curr_MP_meshes_idx = [limb_correspondence_MP[MP_idx][k][\"branch_face_idx\"] for k in MP_branches_with_stitch_point]\n",
    "\n",
    "            stitching_mesh_idx = np.concatenate(curr_MAP_meshes_idx + curr_MP_meshes_idx)\n",
    "            stitching_mesh = limb_mesh_mparty.submesh([stitching_mesh_idx],append=True,repair=True)\n",
    "            stitching_skeleton_branches = curr_MAP_sk + curr_MP_sk\n",
    "            \"\"\"\n",
    "\n",
    "            ****** NEED TO GET THE RIGHT MESH TO RUN HE IDX ON SO GETS A GOOD MESH (CAN'T BE LIMB_MESH_MPARTY)\n",
    "            BUT MUST BE THE ORIGINAL MAP MESH\n",
    "\n",
    "            mesh_pieces_for_MAP\n",
    "            sublimb_meshes_MP\n",
    "\n",
    "            mesh_pieces_for_MAP_face_idx\n",
    "            sublimb_meshes_MP_face_idx\n",
    "\n",
    "            stitching_mesh = tu.combine_meshes(curr_MAP_meshes + curr_MP_meshes)\n",
    "            stitching_skeleton_branches = curr_MAP_sk + curr_MP_sk\n",
    "\n",
    "            \"\"\"\n",
    "\n",
    "\n",
    "\n",
    "            #3) Run mesh correspondence to get new meshes and mesh_idx and widths\n",
    "            local_correspondnece_stitch = pre.mesh_correspondence_first_pass(mesh=stitching_mesh,\n",
    "                                          skeleton_branches=stitching_skeleton_branches)\n",
    "\n",
    "            local_correspondence_stitch_revised = pre.correspondence_1_to_1(mesh=stitching_mesh,\n",
    "                                                        local_correspondence=local_correspondnece_stitch,\n",
    "                                                        curr_limb_endpoints_must_keep=None,\n",
    "                                                        curr_soma_to_piece_touching_vertices=None)\n",
    "\n",
    "            #Need to readjust the mesh correspondence idx\n",
    "            for k,v in local_correspondence_stitch_revised.items():\n",
    "                local_correspondence_stitch_revised[k][\"branch_face_idx\"] = stitching_mesh_idx[local_correspondence_stitch_revised[k][\"branch_face_idx\"]]\n",
    "\n",
    "            #4a) If MAP_stitch_point_on_end_or_branch is False\n",
    "            #- Delete the old MAP branch parts and replace with new MAP ones\n",
    "            if not MAP_stitch_point_on_end_or_branch:\n",
    "                print(\"Deleting branches from dictionary\")\n",
    "                del limb_correspondence_MAP[MAP_idx][MAP_branches_with_stitch_point[0]]\n",
    "                #adding the two new branches created from the stitching\n",
    "                limb_correspondence_MAP[MAP_idx][MAP_branches_with_stitch_point[0]] = local_correspondence_stitch_revised[0]\n",
    "                limb_correspondence_MAP[MAP_idx][np.max(list(limb_correspondence_MAP[MAP_idx].keys()))+1] = local_correspondence_stitch_revised[1]\n",
    "\n",
    "                #have to reorder the keys\n",
    "                limb_correspondence_MAP[MAP_idx] = dict([(k,limb_correspondence_MAP[MAP_idx][k]) for k in np.sort(list(limb_correspondence_MAP[MAP_idx].keys()))])\n",
    "\n",
    "            else: #4b) Revise the meshes,  mesh_idx, and widths of the MAP pieces if weren't broken up\n",
    "                for j,curr_MAP_idx_fixed in enumerate(MAP_branches_with_stitch_point):\n",
    "                    limb_correspondence_MAP[MAP_idx][curr_MAP_idx_fixed] = local_correspondence_stitch_revised[j]\n",
    "\n",
    "            #5) Revise the meshes,  mesh_idx, and widths of the MP pieces\n",
    "            for j,curr_MP_idx_fixed in enumerate(MP_branches_with_stitch_point):\n",
    "                limb_correspondence_MP[MP_idx][curr_MP_idx_fixed] = local_correspondence_stitch_revised[j+len(curr_MAP_sk)]\n",
    "\n",
    "\n",
    "            print(f\" Finished with {(MP_idx,MAP_idx)} \\n\\n\\n\")\n",
    "\n",
    "\n",
    "    else:\n",
    "        print(\"There were not both MAP and MP pieces so skipping the stitch resolving phase\")\n",
    "    \n",
    "    print(f\"Time for decomp of Limb {curr_limb_idx} = {time.time() - curr_limb_time}\")\n",
    "    # ------------- Saving the MAP and MP Decompositions ---------------- #\n",
    "    proper_limb_mesh_correspondence_MAP[curr_limb_idx] = limb_correspondence_MAP\n",
    "    proper_limb_mesh_correspondence_MP[curr_limb_idx] = limb_correspondence_MP\n",
    "    \n",
    "    \n",
    "    \n",
    "    \n",
    "    \n",
    "    \n",
    "    # ------------------ Part D: Compiling the MP and MAP together ---------------- #\n",
    "    limb_correspondence_individual = dict()\n",
    "    counter = 0\n",
    "\n",
    "    for sublimb_idx,sublimb_branches in limb_correspondence_MAP.items():\n",
    "        for branch_dict in sublimb_branches.values():\n",
    "            limb_correspondence_individual[counter]= branch_dict\n",
    "            counter += 1\n",
    "    for sublimb_idx,sublimb_branches in limb_correspondence_MP.items():\n",
    "        for branch_dict in sublimb_branches.values():\n",
    "            limb_correspondence_individual[counter]= branch_dict\n",
    "            counter += 1\n",
    "\n",
    "    divided_skeletons = np.array([limb_correspondence_individual[k][\"branch_skeleton\"] for k in np.sort(list(limb_correspondence_individual.keys()))])\n",
    "    \n",
    "    # ------------------ Part E: Compiling the MP and MAP together ---------------- #\n",
    "    \n",
    "    \n",
    "    \"\"\"\n",
    "    Concept Network Pseudocode:\n",
    "\n",
    "    Step 0: Compile the Limb correspondence into final form\n",
    "\n",
    "    Make sure these have the same list\n",
    "    limb_to_soma_touching_vertices_list,limb_to_endpoints_must_keep_list\n",
    "\n",
    "    For every dictionary in zip(limb_to_soma_touching_vertices_list[curr_limb_idx],\n",
    "                            limb_to_endpoints_must_keep_list[curr_limb_idx]):\n",
    "\n",
    "        #make sure the dicts have same keys\n",
    "        For every key (represents the soma) in the dictionary:\n",
    "\n",
    "            #make sure the lists have the same sizes\n",
    "            For every item in the list (which would be a list of endpoints or list of groups of vertexes):\n",
    "                #At this point have the soma, the endpoint and the touching vertices\n",
    "\n",
    "                1) find the branch with the endoint that must keep\n",
    "                    --> if multiple endpoints then error\n",
    "                2) Call the branches_to_concept_network with the\n",
    "                   a. divided skeletons\n",
    "                   b. closest endpoint\n",
    "                   c. endpoints of branch (from the branch found)\n",
    "                   d. touching soma vertices\n",
    "\n",
    "                3) Run the checks on the concept network\n",
    "\n",
    "    \"\"\"\n",
    "\n",
    "    curr_touching_verts_list = limb_to_soma_touching_vertices_list[curr_limb_idx]\n",
    "    curr_endpoints_must_keep = limb_to_endpoints_must_keep_list[curr_limb_idx]\n",
    "\n",
    "    limb_to_soma_concept_networks = dict()\n",
    "\n",
    "    if len(curr_touching_verts_list) != len(curr_endpoints_must_keep):\n",
    "        raise Exception(f\"curr_touching_verts_list ({curr_touching_verts_list}) not same size as curr_endpoints_must_keep ({len(curr_endpoints_must_keep)})\")\n",
    "\n",
    "    for touch_vert_dict,endpoints_keep_dict in zip(curr_touching_verts_list,curr_endpoints_must_keep):\n",
    "        if not np.array_equal(list(touch_vert_dict.keys()),list(endpoints_keep_dict.keys())):\n",
    "            raise Exception(f\"touch_vert_dict keys ({touch_vert_dict.keys()}) don't match endpoints_keep_dict keys ({endpoints_keep_dict.keys()})\")\n",
    "        for soma_idx in touch_vert_dict.keys():\n",
    "            soma_t_verts_list = touch_vert_dict[soma_idx]\n",
    "            soma_endpt_list = endpoints_keep_dict[soma_idx]\n",
    "\n",
    "            if soma_idx not in list(limb_to_soma_concept_networks.keys()):\n",
    "                limb_to_soma_concept_networks[soma_idx] = []\n",
    "\n",
    "            if len(soma_t_verts_list) != len(soma_endpt_list):\n",
    "                raise Exception(f\"soma_t_verts_list length ({len(soma_t_verts_list)}) not equal to soma_endpt_list length ({soma_endpt_list})\")\n",
    "            for t_verts,endpt in zip(soma_t_verts_list,soma_endpt_list):\n",
    "\n",
    "\n",
    "\n",
    "                #1) find the branch with the endoint that must keep\n",
    "                start_branch = sk.find_branch_skeleton_with_specific_coordinate(divded_skeleton=divided_skeletons,\n",
    "                                                                current_coordinate=endpt)[0]\n",
    "                print(f\"Starting_branch = {start_branch}\")\n",
    "                print(f\"Start endpt = {endpt}\")\n",
    "                start_branch_endpoints = sk.find_branch_endpoints(divided_skeletons[start_branch])\n",
    "                print(f\"Starting_branch endpoints = {start_branch_endpoints}\")\n",
    "\n",
    "                #2) Call the branches_to_concept_network with the\n",
    "                curr_limb_concept_network = nru.branches_to_concept_network(curr_branch_skeletons=divided_skeletons,\n",
    "                                                                      starting_coordinate=endpt,\n",
    "                                                                      starting_edge=start_branch_endpoints,\n",
    "                                                                      touching_soma_vertices=t_verts)\n",
    "                print(\"Done generating concept network \\n\\n\")\n",
    "\n",
    "\n",
    "                run_checks = True\n",
    "                check_print_flag = True\n",
    "\n",
    "                if run_concept_network_checks:\n",
    "                    #3) Run the checks on the concept network\n",
    "                    #3.1: check to make sure the starting coordinate was recovered\n",
    "\n",
    "                    recovered_touching_piece = xu.get_nodes_with_attributes_dict(curr_limb_concept_network,dict(starting_coordinate=endpt))\n",
    "\n",
    "                    if check_print_flag:\n",
    "                        print(f\"recovered_touching_piece = {recovered_touching_piece}\")\n",
    "                    if recovered_touching_piece[0] != start_branch:\n",
    "                        raise Exception(f\"For limb {curr_limb_idx} and soma {soma_idx} the recovered_touching and original touching do not match\\n\"\n",
    "                                       f\"recovered_touching_piece = {recovered_touching_piece}, original_touching_pieces = {start_branch}\")\n",
    "\n",
    "\n",
    "                    #3.2: Check number of nodes match the number of divided skeletons\n",
    "                    if len(curr_limb_concept_network.nodes()) != len(divided_skeletons):\n",
    "                        raise Exception(\"The number of nodes in the concept graph and number of branches passed to it did not match\\n\"\n",
    "                                      f\"len(curr_limb_concept_network.nodes())={len(curr_limb_concept_network.nodes())}, len(curr_limb_divided_skeletons)= {len(divided_skeletons)}\")\n",
    "\n",
    "                    #3.3: Check that concept network is a connected component\n",
    "                    if nx.number_connected_components(curr_limb_concept_network) > 1:\n",
    "                        raise Exception(\"There was more than 1 connected components in the concept network\")\n",
    "\n",
    "\n",
    "                    #3.4 Make sure the oriiginal divided skeleton endpoints match the concept map endpoints\n",
    "                    for j,un_resized_b in enumerate(divided_skeletons):\n",
    "                        \"\"\"\n",
    "                        Pseudocode: \n",
    "                        1) get the endpoints of the current branch\n",
    "                        2) get the endpoints in the concept map\n",
    "                        3) compare\n",
    "                        - if not equalt then break\n",
    "                        \"\"\"\n",
    "                        #1) get the endpoints of the current branch\n",
    "                        b_endpoints = neuron.Branch(un_resized_b).endpoints\n",
    "                        #2) get the endpoints in the concept map\n",
    "                        graph_endpoints = xu.get_node_attributes(curr_limb_concept_network,attribute_name=\"endpoints\",node_list=[j])[0]\n",
    "                        #print(f\"original_branch_endpoints = {b_endpoints}, concept graph node endpoints = {graph_endpoints}\")\n",
    "                        if not xu.compare_endpoints(b_endpoints,graph_endpoints):\n",
    "                            raise Exception(f\"The node {j} in concept graph endpoints do not match the endpoints of the original branch\\n\"\n",
    "                                           f\"original_branch_endpoints = {b_endpoints}, concept graph node endpoints = {graph_endpoints}\")\n",
    "\n",
    "                limb_to_soma_concept_networks[soma_idx].append(curr_limb_concept_network)\n",
    "    \n",
    "    \n",
    "    #Storing all of the data to be sent to \n",
    "    \n",
    "    limb_correspondence[curr_limb_idx] = limb_correspondence_individual\n",
    "    limb_concept_networks[curr_limb_idx] = limb_to_soma_concept_networks\n",
    "    limb_labels[curr_limb_idx]= \"Unlabeled\"\n",
    "\n",
    "preprocessed_data= dict(\n",
    "    soma_meshes = current_mesh_data[0][\"soma_meshes\"],\n",
    "    soma_to_piece_connectivity = current_mesh_data[0][\"soma_to_piece_connectivity\"],\n",
    "    soma_sdfs = total_soma_list_sdf,\n",
    "    insignificant_limbs=insignificant_limbs,\n",
    "    non_soma_touching_meshes=non_soma_touching_meshes,\n",
    "    inside_pieces=inside_pieces,\n",
    "    limb_correspondence=limb_correspondence,\n",
    "    limb_concept_networks=limb_concept_networks,\n",
    "    limb_labels=limb_labels,\n",
    "    limb_meshes=current_mesh_data[0][\"branch_meshes\"],\n",
    "    )\n",
    "\n",
    "print(f\"Total time for all limb decomps = {time.time() - proper_time}\")"
   ]
  },
  {
   "cell_type": "markdown",
   "metadata": {},
   "source": [
    "# Sending the data to the Neuron Object"
   ]
  },
  {
   "cell_type": "code",
   "execution_count": 15,
   "metadata": {},
   "outputs": [],
   "source": [
    "neuron = reload(neuron)\n",
    "nru = reload(nru)"
   ]
  },
  {
   "cell_type": "code",
   "execution_count": 16,
   "metadata": {},
   "outputs": [
    {
     "name": "stdout",
     "output_type": "stream",
     "text": [
      "Already have preprocessed data\n",
      "--- 1) Finished unpacking preprocessed materials: 0.0001652240753173828\n",
      "total_edges = [['S0', 'L0'], ['S0', 'L1'], ['S0', 'L2'], ['S0', 'L3'], ['S0', 'L4'], ['S0', 'L5']]\n",
      "--- 2) Finished creating neuron connectivity graph: 0.00034546852111816406\n",
      "Having to generate soma_meshes_face_idx because none in preprocessed data\n",
      "--- 3a) Finshed generating soma_meshes_face_idx: 1.2803986072540283\n",
      "Using Poisson Surface Reconstruction for watertightness in soma_volume_ratio\n",
      "xvfb-run -n 230 -s \"-screen 0 800x600x24\" meshlabserver $@  -i /notebooks/Platinum_Decomp_Fusion/Poisson_temp/neuron_237595.off -o /notebooks/Platinum_Decomp_Fusion/Poisson_temp/neuron_237595_poisson.off -s /notebooks/Platinum_Decomp_Fusion/Poisson_temp/poisson_828398.mls\n",
      "removed temporary input file: /notebooks/Platinum_Decomp_Fusion/Poisson_temp/neuron_237595.off\n",
      "removed temporary output file: /notebooks/Platinum_Decomp_Fusion/Poisson_temp/neuron_237595_poisson.off\n",
      "mesh.is_watertight = True\n",
      "/notebooks/Platinum_Decomp_Fusion/Poisson_temp/poisson_828398.mls is being deleted....\n",
      "--- 3) Finshed generating soma objects and adding them to concept graph: 11.891361713409424\n",
      "--- 4a) Finshed generating curr_limb_meshes_face_idx: 3.6120991706848145\n",
      "curr_limb_concept_networks= {0: [<networkx_utils.GraphOrderedEdges object at 0x7f846bfe4828>]}\n",
      "concept_network_dict = {0: [<networkx_utils.GraphOrderedEdges object at 0x7f846bfe4828>]}\n",
      "checking and resolving cycles\n",
      "No cycles to fix\n",
      "curr_limb_concept_networks= {0: [<networkx_utils.GraphOrderedEdges object at 0x7f843fac9ac8>, <networkx_utils.GraphOrderedEdges object at 0x7f843fac9940>]}\n",
      "concept_network_dict = {0: [<networkx_utils.GraphOrderedEdges object at 0x7f843fac9ac8>, <networkx_utils.GraphOrderedEdges object at 0x7f843fac9940>]}\n",
      "checking and resolving cycles\n",
      "No cycles to fix\n",
      "curr_limb_concept_networks= {0: [<networkx_utils.GraphOrderedEdges object at 0x7f843fd51240>]}\n",
      "concept_network_dict = {0: [<networkx_utils.GraphOrderedEdges object at 0x7f843fd51240>]}\n",
      "Gettng rid of 1 nodes\n",
      "checking and resolving cycles\n",
      "No cycles to fix\n",
      "curr_limb_concept_networks= {0: [<networkx_utils.GraphOrderedEdges object at 0x7f843fa63630>]}\n",
      "concept_network_dict = {0: [<networkx_utils.GraphOrderedEdges object at 0x7f843fa63630>]}\n",
      "checking and resolving cycles\n",
      "No cycles to fix\n",
      "curr_limb_concept_networks= {0: [<networkx_utils.GraphOrderedEdges object at 0x7f85789196a0>]}\n",
      "concept_network_dict = {0: [<networkx_utils.GraphOrderedEdges object at 0x7f85789196a0>]}\n",
      "checking and resolving cycles\n",
      "No cycles to fix\n",
      "curr_limb_concept_networks= {0: [<networkx_utils.GraphOrderedEdges object at 0x7f843fd4ed68>]}\n",
      "concept_network_dict = {0: [<networkx_utils.GraphOrderedEdges object at 0x7f843fd4ed68>]}\n",
      "Concept graph size was 1 or less so returning original\n",
      "--- 4) Finshed generating Limb objects and adding them to concept graph: 4.858881711959839\n",
      "--- 5) SKIPPING Doing the adaptive mesh correspondence on the meshparty preprocessing ---\n",
      "--- 6) SKIPPING Using the computed_attribute_dict to populate neuron attributes ---\n",
      "Total time for neuron instance creation = 21.644519329071045\n"
     ]
    }
   ],
   "source": [
    "neuron_obj = neuron.Neuron(\n",
    "                mesh=curent_neuron,\n",
    "                 segment_id=segment_id,\n",
    "                 description=description,\n",
    "                 preprocessed_data=preprocessed_data,\n",
    "#                  decomposition_type=\"meshafterparty\",\n",
    "#                  mesh_correspondence=\"meshparty\", #meshafterparty_adaptive\n",
    "#                  distance_by_mesh_center=True, #how the distance is calculated for mesh correspondence\n",
    "#                  meshparty_segment_size = 0,\n",
    "#                  meshparty_n_surface_downsampling = 0,\n",
    "#                  meshparty_adaptive_correspondence_after_creation=False,\n",
    "#                 suppress_preprocessing_print=True,\n",
    "#                  computed_attribute_dict=None,\n",
    "#                  somas = None,\n",
    "#                  branch_skeleton_data=None,\n",
    "#                  combine_close_skeleton_nodes = True,\n",
    "#                 combine_close_skeleton_nodes_threshold=700,\n",
    "    \n",
    "    \n",
    "                ignore_warnings=True,\n",
    "                suppress_output=False,\n",
    "                calculate_spines=False,\n",
    "                 widths_to_calculate=[]#[\"no_spine_median_mesh_center\",\n",
    "#                                     \"no_spine_mean_mesh_center\"]\n",
    "                )"
   ]
  },
  {
   "cell_type": "code",
   "execution_count": 24,
   "metadata": {},
   "outputs": [],
   "source": [
    "curr_limb = neuron_obj[2]"
   ]
  },
  {
   "cell_type": "code",
   "execution_count": 25,
   "metadata": {},
   "outputs": [
    {
     "data": {
      "text/plain": [
       "array([583811., 776181., 894191.])"
      ]
     },
     "execution_count": 25,
     "metadata": {},
     "output_type": "execute_result"
    }
   ],
   "source": [
    "curr_limb.current_starting_coordinate"
   ]
  },
  {
   "cell_type": "code",
   "execution_count": 26,
   "metadata": {},
   "outputs": [
    {
     "name": "stdout",
     "output_type": "stream",
     "text": [
      "\n",
      " Working on visualization type: mesh\n",
      "\n",
      " Working on visualization type: skeleton\n"
     ]
    },
    {
     "data": {
      "application/vnd.jupyter.widget-view+json": {
       "model_id": "c29096af95354773b7012dbd6a79342e",
       "version_major": 2,
       "version_minor": 0
      },
      "text/plain": [
       "VBox(children=(Figure(camera=PerspectiveCamera(fov=46.0, position=(0.0, 0.0, 2.0), quaternion=(0.0, 0.0, 0.0, …"
      ]
     },
     "metadata": {},
     "output_type": "display_data"
    }
   ],
   "source": [
    "import neuron_visualizations as nviz\n",
    "nru = reload(nru)\n",
    "nviz.visualize_neuron(neuron_obj,\n",
    "                     visualize_type=[\"mesh\",\"skeleton\"],\n",
    "                     limb_branch_dict=\"all\")"
   ]
  },
  {
   "cell_type": "code",
   "execution_count": 28,
   "metadata": {},
   "outputs": [
    {
     "name": "stdout",
     "output_type": "stream",
     "text": [
      "query = median_mesh_center > 200 and n_faces_branch>100\n",
      "smoothness_threshold = 0.08\n",
      "The median_mesh_center was requested but has not already been calculated so calculating now.... \n",
      "Working on limb L0 branch 2\n",
      "Working on limb L0 branch 1\n",
      "Working on limb L0 branch 450\n",
      "Working on limb L0 branch 0\n",
      "Working on limb L0 branch 373\n",
      "Working on limb L0 branch 18\n",
      "Working on limb L0 branch 86\n",
      "Working on limb L0 branch 8\n",
      "Working on limb L0 branch 371\n",
      "Working on limb L0 branch 17\n",
      "Working on limb L0 branch 24\n",
      "Working on limb L0 branch 5\n",
      "Working on limb L0 branch 147\n",
      "Working on limb L0 branch 7\n",
      "Working on limb L0 branch 443\n",
      "Working on limb L0 branch 339\n",
      "Working on limb L0 branch 369\n",
      "Working on limb L0 branch 3\n",
      "Working on limb L0 branch 16\n",
      "Working on limb L0 branch 23\n",
      "Working on limb L0 branch 48\n",
      "Working on limb L0 branch 428\n",
      "Working on limb L0 branch 432\n",
      "Working on limb L0 branch 446\n",
      "Working on limb L0 branch 449\n",
      "Working on limb L0 branch 350\n",
      "Working on limb L0 branch 367\n",
      "Working on limb L0 branch 4\n",
      "Working on limb L0 branch 441\n",
      "Working on limb L0 branch 15\n",
      "Working on limb L0 branch 39\n",
      "Working on limb L0 branch 22\n",
      "Working on limb L0 branch 54\n",
      "Working on limb L0 branch 6\n",
      "Working on limb L0 branch 47\n",
      "Working on limb L0 branch 405\n",
      "Working on limb L0 branch 427\n",
      "Working on limb L0 branch 404\n",
      "Working on limb L0 branch 419\n",
      "Working on limb L0 branch 445\n",
      "Working on limb L0 branch 448\n",
      "Working on limb L0 branch 326\n",
      "Working on limb L0 branch 366\n",
      "Working on limb L0 branch 206\n",
      "Working on limb L0 branch 224\n",
      "Working on limb L0 branch 437\n",
      "Working on limb L0 branch 440\n",
      "Working on limb L0 branch 14\n",
      "Working on limb L0 branch 74\n",
      "Working on limb L0 branch 38\n",
      "Working on limb L0 branch 61\n",
      "Working on limb L0 branch 21\n",
      "Working on limb L0 branch 32\n",
      "Working on limb L0 branch 46\n",
      "Working on limb L0 branch 66\n",
      "Working on limb L0 branch 409\n",
      "Working on limb L0 branch 426\n",
      "Working on limb L0 branch 403\n",
      "Working on limb L0 branch 417\n",
      "Working on limb L0 branch 408\n",
      "Working on limb L0 branch 430\n",
      "Working on limb L0 branch 444\n",
      "Working on limb L0 branch 447\n",
      "Working on limb L0 branch 325\n",
      "Working on limb L0 branch 376\n",
      "Working on limb L0 branch 318\n",
      "Working on limb L0 branch 365\n",
      "Working on limb L0 branch 205\n",
      "Working on limb L0 branch 298\n",
      "Working on limb L0 branch 223\n",
      "Working on limb L0 branch 270\n",
      "Working on limb L0 branch 436\n",
      "Working on limb L0 branch 442\n",
      "Working on limb L0 branch 435\n",
      "Working on limb L0 branch 439\n",
      "Working on limb L0 branch 13\n",
      "Working on limb L0 branch 68\n",
      "Working on limb L0 branch 73\n",
      "Working on limb L0 branch 77\n",
      "Working on limb L0 branch 37\n",
      "Working on limb L0 branch 128\n",
      "Working on limb L0 branch 60\n",
      "Working on limb L0 branch 172\n",
      "Working on limb L0 branch 20\n",
      "Working on limb L0 branch 40\n",
      "Working on limb L0 branch 31\n",
      "Working on limb L0 branch 82\n",
      "Working on limb L0 branch 45\n",
      "Working on limb L0 branch 118\n",
      "Working on limb L0 branch 65\n",
      "Working on limb L0 branch 90\n",
      "Working on limb L0 branch 402\n",
      "Working on limb L0 branch 422\n",
      "Working on limb L0 branch 416\n",
      "Working on limb L0 branch 431\n",
      "Working on limb L0 branch 407\n",
      "Working on limb L0 branch 413\n",
      "Working on limb L0 branch 429\n",
      "Working on limb L0 branch 433\n",
      "Working on limb L0 branch 332\n",
      "Working on limb L0 branch 342\n",
      "Working on limb L0 branch 319\n",
      "Working on limb L0 branch 336\n",
      "Working on limb L0 branch 323\n",
      "Working on limb L0 branch 364\n",
      "Working on limb L0 branch 204\n",
      "Working on limb L0 branch 250\n",
      "Working on limb L0 branch 297\n",
      "Working on limb L0 branch 306\n",
      "Working on limb L0 branch 222\n",
      "Working on limb L0 branch 314\n",
      "Working on limb L0 branch 434\n",
      "Working on limb L0 branch 438\n",
      "Working on limb L0 branch 12\n",
      "Working on limb L0 branch 178\n",
      "Working on limb L0 branch 67\n",
      "Working on limb L0 branch 188\n",
      "Working on limb L0 branch 72\n",
      "Working on limb L0 branch 99\n",
      "Working on limb L0 branch 76\n",
      "Working on limb L0 branch 142\n",
      "Working on limb L0 branch 36\n",
      "Working on limb L0 branch 78\n",
      "Working on limb L0 branch 127\n",
      "Working on limb L0 branch 137\n",
      "Working on limb L0 branch 59\n",
      "Working on limb L0 branch 139\n",
      "Working on limb L0 branch 19\n",
      "Working on limb L0 branch 85\n",
      "Working on limb L0 branch 30\n",
      "Working on limb L0 branch 42\n",
      "Working on limb L0 branch 81\n",
      "Working on limb L0 branch 107\n",
      "Working on limb L0 branch 44\n",
      "Working on limb L0 branch 51\n",
      "Working on limb L0 branch 117\n",
      "Working on limb L0 branch 136\n",
      "Working on limb L0 branch 64\n",
      "Working on limb L0 branch 152\n",
      "Working on limb L0 branch 89\n",
      "Working on limb L0 branch 129\n",
      "Working on limb L0 branch 401\n",
      "Working on limb L0 branch 412\n",
      "Working on limb L0 branch 418\n",
      "Working on limb L0 branch 421\n",
      "Working on limb L0 branch 351\n",
      "Working on limb L0 branch 354\n",
      "Working on limb L0 branch 340\n",
      "Working on limb L0 branch 341\n",
      "Working on limb L0 branch 316\n",
      "Working on limb L0 branch 379\n",
      "Working on limb L0 branch 322\n",
      "Working on limb L0 branch 353\n",
      "Working on limb L0 branch 331\n",
      "Working on limb L0 branch 363\n",
      "Working on limb L0 branch 203\n",
      "Working on limb L0 branch 260\n",
      "Working on limb L0 branch 249\n",
      "Working on limb L0 branch 254\n",
      "Working on limb L0 branch 221\n",
      "Working on limb L0 branch 293\n",
      "Working on limb L0 branch 313\n",
      "Working on limb L0 branch 315\n",
      "Working on limb L0 branch 11\n",
      "Working on limb L0 branch 53\n",
      "Working on limb L0 branch 71\n",
      "Working on limb L0 branch 194\n",
      "Working on limb L0 branch 75\n",
      "Working on limb L0 branch 119\n",
      "Working on limb L0 branch 35\n",
      "Working on limb L0 branch 149\n",
      "Working on limb L0 branch 126\n",
      "Working on limb L0 branch 184\n",
      "Working on limb L0 branch 58\n",
      "Assigning the old width calculation because no valid new widths\n",
      "Working on limb L0 branch 87\n",
      "Working on limb L0 branch 138\n",
      "Working on limb L0 branch 158\n",
      "Working on limb L0 branch 84\n",
      "Working on limb L0 branch 190\n",
      "Working on limb L0 branch 29\n",
      "Working on limb L0 branch 95\n",
      "Working on limb L0 branch 41\n",
      "Working on limb L0 branch 153\n",
      "Working on limb L0 branch 80\n",
      "Working on limb L0 branch 102\n",
      "Working on limb L0 branch 43\n",
      "Working on limb L0 branch 145\n",
      "Working on limb L0 branch 50\n",
      "Working on limb L0 branch 173\n",
      "Working on limb L0 branch 116\n",
      "Working on limb L0 branch 151\n",
      "Working on limb L0 branch 135\n",
      "Working on limb L0 branch 186\n",
      "Working on limb L0 branch 63\n",
      "Working on limb L0 branch 125\n",
      "Working on limb L0 branch 88\n",
      "Working on limb L0 branch 177\n",
      "Working on limb L0 branch 400\n",
      "Working on limb L0 branch 424\n",
      "Working on limb L0 branch 411\n",
      "Working on limb L0 branch 415\n",
      "Working on limb L0 branch 406\n",
      "Working on limb L0 branch 420\n",
      "Working on limb L0 branch 348\n",
      "Working on limb L0 branch 356\n",
      "Working on limb L0 branch 337\n",
      "Working on limb L0 branch 343\n",
      "Working on limb L0 branch 333\n",
      "Working on limb L0 branch 399\n",
      "Working on limb L0 branch 378\n",
      "Working on limb L0 branch 395\n",
      "Working on limb L0 branch 321\n",
      "Working on limb L0 branch 358\n",
      "Working on limb L0 branch 330\n",
      "Working on limb L0 branch 381\n",
      "Working on limb L0 branch 362\n",
      "Working on limb L0 branch 388\n",
      "Working on limb L0 branch 202\n",
      "Working on limb L0 branch 310\n",
      "Working on limb L0 branch 253\n",
      "Working on limb L0 branch 294\n",
      "Working on limb L0 branch 220\n",
      "Working on limb L0 branch 284\n",
      "Working on limb L0 branch 10\n",
      "Working on limb L0 branch 122\n",
      "Working on limb L0 branch 52\n",
      "Working on limb L0 branch 183\n",
      "Working on limb L0 branch 70\n",
      "Working on limb L0 branch 103\n",
      "Working on limb L0 branch 34\n",
      "Working on limb L0 branch 115\n",
      "Working on limb L0 branch 148\n",
      "Working on limb L0 branch 156\n",
      "Working on limb L0 branch 57\n",
      "Working on limb L0 branch 92\n",
      "Working on limb L0 branch 157\n",
      "Working on limb L0 branch 192\n",
      "Working on limb L0 branch 83\n",
      "Working on limb L0 branch 167\n",
      "Working on limb L0 branch 28\n",
      "Working on limb L0 branch 132\n",
      "Working on limb L0 branch 94\n",
      "Working on limb L0 branch 181\n",
      "Working on limb L0 branch 79\n",
      "Working on limb L0 branch 98\n",
      "Working on limb L0 branch 101\n",
      "Working on limb L0 branch 112\n",
      "Working on limb L0 branch 49\n",
      "Working on limb L0 branch 131\n",
      "Working on limb L0 branch 150\n",
      "Working on limb L0 branch 193\n",
      "Working on limb L0 branch 62\n",
      "Working on limb L0 branch 179\n",
      "Working on limb L0 branch 124\n",
      "Working on limb L0 branch 191\n",
      "Working on limb L0 branch 410\n",
      "Working on limb L0 branch 423\n",
      "Working on limb L0 branch 414\n",
      "Working on limb L0 branch 425\n",
      "Working on limb L0 branch 361\n",
      "Working on limb L0 branch 398\n",
      "Working on limb L0 branch 320\n",
      "Working on limb L0 branch 359\n",
      "Working on limb L0 branch 317\n",
      "Working on limb L0 branch 329\n",
      "Working on limb L0 branch 380\n",
      "Working on limb L0 branch 386\n",
      "Working on limb L0 branch 201\n",
      "Working on limb L0 branch 286\n"
     ]
    },
    {
     "name": "stdout",
     "output_type": "stream",
     "text": [
      "Working on limb L0 branch 252\n",
      "Working on limb L0 branch 285\n",
      "Working on limb L0 branch 219\n",
      "Working on limb L0 branch 262\n",
      "Working on limb L0 branch 283\n",
      "Working on limb L0 branch 303\n",
      "Working on limb L0 branch 9\n",
      "Working on limb L0 branch 26\n",
      "Working on limb L0 branch 121\n",
      "Working on limb L0 branch 155\n",
      "Working on limb L0 branch 69\n",
      "Working on limb L0 branch 123\n",
      "Working on limb L0 branch 33\n",
      "Working on limb L0 branch 180\n",
      "Working on limb L0 branch 56\n",
      "Working on limb L0 branch 146\n",
      "Working on limb L0 branch 91\n",
      "Working on limb L0 branch 141\n",
      "Working on limb L0 branch 27\n",
      "Working on limb L0 branch 165\n",
      "Working on limb L0 branch 175\n",
      "Working on limb L0 branch 93\n",
      "Working on limb L0 branch 96\n",
      "Working on limb L0 branch 97\n",
      "Working on limb L0 branch 161\n",
      "Working on limb L0 branch 100\n",
      "Working on limb L0 branch 106\n",
      "Working on limb L0 branch 111\n",
      "Working on limb L0 branch 185\n",
      "Working on limb L0 branch 130\n",
      "Working on limb L0 branch 143\n",
      "Working on limb L0 branch 349\n",
      "Working on limb L0 branch 360\n",
      "Working on limb L0 branch 393\n",
      "Working on limb L0 branch 397\n",
      "Working on limb L0 branch 324\n",
      "Working on limb L0 branch 347\n",
      "Working on limb L0 branch 328\n",
      "Working on limb L0 branch 382\n",
      "Working on limb L0 branch 200\n",
      "Working on limb L0 branch 212\n",
      "Working on limb L0 branch 251\n",
      "Working on limb L0 branch 276\n",
      "Working on limb L0 branch 218\n",
      "Working on limb L0 branch 296\n",
      "Working on limb L0 branch 261\n",
      "Working on limb L0 branch 299\n",
      "Working on limb L0 branch 25\n",
      "Working on limb L0 branch 114\n",
      "Working on limb L0 branch 120\n",
      "Working on limb L0 branch 134\n",
      "Working on limb L0 branch 154\n",
      "Working on limb L0 branch 176\n",
      "Working on limb L0 branch 55\n",
      "Working on limb L0 branch 105\n",
      "Working on limb L0 branch 140\n",
      "Working on limb L0 branch 171\n",
      "Working on limb L0 branch 160\n",
      "Working on limb L0 branch 182\n",
      "Working on limb L0 branch 387\n",
      "Working on limb L0 branch 392\n",
      "Working on limb L0 branch 338\n",
      "Working on limb L0 branch 346\n",
      "Working on limb L0 branch 327\n",
      "Working on limb L0 branch 368\n",
      "Working on limb L0 branch 199\n",
      "Working on limb L0 branch 272\n",
      "Working on limb L0 branch 211\n",
      "Working on limb L0 branch 278\n",
      "Working on limb L0 branch 275\n",
      "Working on limb L0 branch 292\n",
      "Working on limb L0 branch 217\n",
      "Working on limb L0 branch 228\n",
      "Working on limb L0 branch 113\n",
      "Working on limb L0 branch 166\n",
      "Working on limb L0 branch 133\n",
      "Working on limb L0 branch 144\n",
      "Working on limb L0 branch 104\n",
      "Working on limb L0 branch 110\n",
      "Working on limb L0 branch 159\n",
      "Working on limb L0 branch 187\n",
      "Working on limb L0 branch 352\n",
      "Working on limb L0 branch 396\n",
      "Working on limb L0 branch 377\n",
      "Working on limb L0 branch 391\n",
      "Working on limb L0 branch 345\n",
      "Working on limb L0 branch 383\n",
      "Working on limb L0 branch 370\n",
      "Working on limb L0 branch 385\n",
      "Working on limb L0 branch 198\n",
      "Working on limb L0 branch 239\n",
      "Working on limb L0 branch 210\n",
      "Working on limb L0 branch 213\n",
      "Working on limb L0 branch 277\n",
      "Working on limb L0 branch 288\n",
      "Working on limb L0 branch 274\n",
      "Working on limb L0 branch 295\n",
      "Working on limb L0 branch 216\n",
      "Working on limb L0 branch 301\n",
      "Working on limb L0 branch 227\n",
      "Working on limb L0 branch 265\n",
      "Working on limb L0 branch 109\n",
      "Working on limb L0 branch 164\n",
      "Working on limb L0 branch 335\n",
      "Working on limb L0 branch 375\n",
      "Working on limb L0 branch 344\n",
      "Working on limb L0 branch 390\n",
      "Working on limb L0 branch 372\n",
      "Working on limb L0 branch 374\n",
      "Working on limb L0 branch 334\n",
      "Working on limb L0 branch 384\n",
      "Working on limb L0 branch 197\n",
      "Working on limb L0 branch 240\n",
      "Working on limb L0 branch 238\n",
      "Working on limb L0 branch 259\n",
      "Working on limb L0 branch 209\n",
      "Working on limb L0 branch 273\n",
      "Working on limb L0 branch 215\n",
      "Working on limb L0 branch 302\n",
      "Working on limb L0 branch 226\n",
      "Working on limb L0 branch 241\n",
      "Working on limb L0 branch 108\n",
      "Working on limb L0 branch 174\n",
      "Working on limb L0 branch 163\n",
      "Working on limb L0 branch 189\n",
      "Working on limb L0 branch 357\n",
      "Working on limb L0 branch 389\n",
      "Working on limb L0 branch 196\n",
      "Working on limb L0 branch 264\n",
      "Working on limb L0 branch 237\n",
      "Working on limb L0 branch 309\n",
      "Working on limb L0 branch 208\n",
      "Working on limb L0 branch 308\n",
      "Working on limb L0 branch 214\n",
      "Working on limb L0 branch 311\n",
      "Working on limb L0 branch 225\n",
      "Working on limb L0 branch 233\n",
      "Working on limb L0 branch 162\n",
      "Working on limb L0 branch 169\n",
      "Working on limb L0 branch 355\n",
      "Working on limb L0 branch 394\n",
      "Working on limb L0 branch 195\n",
      "Working on limb L0 branch 207\n",
      "Working on limb L0 branch 236\n",
      "Working on limb L0 branch 248\n",
      "Working on limb L0 branch 232\n",
      "Working on limb L0 branch 304\n",
      "Working on limb L0 branch 168\n",
      "Working on limb L0 branch 170\n",
      "Working on limb L0 branch 235\n",
      "Working on limb L0 branch 281\n",
      "Working on limb L0 branch 247\n",
      "Working on limb L0 branch 267\n",
      "Working on limb L0 branch 231\n",
      "Working on limb L0 branch 269\n",
      "Working on limb L0 branch 234\n",
      "Working on limb L0 branch 256\n",
      "Working on limb L0 branch 307\n",
      "Working on limb L0 branch 280\n",
      "Working on limb L0 branch 290\n",
      "Working on limb L0 branch 246\n",
      "Working on limb L0 branch 287\n",
      "Working on limb L0 branch 266\n",
      "Working on limb L0 branch 291\n",
      "Working on limb L0 branch 230\n",
      "Working on limb L0 branch 257\n",
      "Working on limb L0 branch 268\n",
      "Working on limb L0 branch 300\n",
      "Working on limb L0 branch 255\n",
      "Working on limb L0 branch 305\n",
      "Working on limb L0 branch 289\n",
      "Working on limb L0 branch 312\n",
      "Working on limb L0 branch 245\n",
      "Working on limb L0 branch 258\n",
      "Working on limb L0 branch 229\n",
      "Working on limb L0 branch 282\n",
      "Working on limb L0 branch 244\n",
      "Working on limb L0 branch 271\n",
      "Working on limb L0 branch 243\n",
      "Working on limb L0 branch 279\n",
      "Working on limb L0 branch 242\n",
      "Working on limb L0 branch 263\n",
      "Working on limb L1 branch 12\n",
      "Working on limb L1 branch 11\n",
      "Working on limb L1 branch 13\n",
      "Working on limb L1 branch 1\n",
      "Working on limb L1 branch 7\n",
      "Working on limb L1 branch 20\n",
      "Working on limb L1 branch 27\n",
      "Working on limb L1 branch 3\n",
      "Working on limb L1 branch 18\n",
      "Working on limb L1 branch 23\n",
      "Working on limb L1 branch 32\n",
      "Working on limb L1 branch 5\n",
      "Working on limb L1 branch 6\n",
      "Working on limb L1 branch 22\n",
      "Working on limb L1 branch 29\n",
      "Working on limb L1 branch 33\n",
      "Working on limb L1 branch 34\n",
      "Working on limb L1 branch 2\n",
      "Working on limb L1 branch 4\n",
      "Working on limb L1 branch 8\n",
      "Working on limb L1 branch 9\n",
      "Working on limb L1 branch 21\n",
      "Working on limb L1 branch 28\n",
      "Working on limb L1 branch 10\n",
      "Working on limb L1 branch 19\n",
      "Working on limb L1 branch 14\n",
      "Working on limb L1 branch 15\n",
      "Working on limb L1 branch 0\n",
      "Working on limb L1 branch 25\n",
      "Working on limb L1 branch 16\n",
      "Working on limb L1 branch 17\n",
      "Working on limb L1 branch 30\n",
      "Working on limb L1 branch 31\n",
      "Working on limb L1 branch 24\n",
      "Working on limb L1 branch 26\n",
      "Working on limb L2 branch 0\n",
      "Working on limb L2 branch 1\n",
      "Working on limb L2 branch 2\n",
      "Working on limb L2 branch 8\n",
      "Working on limb L2 branch 14\n",
      "Working on limb L2 branch 3\n",
      "Working on limb L2 branch 4\n",
      "Working on limb L2 branch 13\n",
      "Gettng rid of 1 nodes\n",
      "Working on limb L2 branch 15\n",
      "Working on limb L2 branch 17\n",
      "Working on limb L2 branch 18\n",
      "Working on limb L2 branch 9\n",
      "Working on limb L2 branch 16\n",
      "Working on limb L2 branch 5\n",
      "Working on limb L2 branch 6\n",
      "Working on limb L2 branch 7\n",
      "Working on limb L2 branch 12\n",
      "Working on limb L2 branch 10\n",
      "Working on limb L2 branch 11\n",
      "Working on limb L3 branch 0\n",
      "Working on limb L3 branch 1\n",
      "Working on limb L3 branch 2\n",
      "Working on limb L3 branch 9\n",
      "Working on limb L3 branch 10\n",
      "Working on limb L3 branch 3\n",
      "Working on limb L3 branch 4\n",
      "Working on limb L3 branch 5\n",
      "Working on limb L3 branch 6\n",
      "Working on limb L3 branch 7\n",
      "Working on limb L3 branch 8\n",
      "Working on limb L4 branch 2\n",
      "Working on limb L4 branch 3\n",
      "Working on limb L4 branch 4\n",
      "Working on limb L4 branch 0\n",
      "Working on limb L4 branch 8\n",
      "Working on limb L4 branch 5\n",
      "Working on limb L4 branch 14\n",
      "Working on limb L4 branch 15\n",
      "Working on limb L4 branch 16\n",
      "Working on limb L4 branch 7\n",
      "Working on limb L4 branch 9\n",
      "Working on limb L4 branch 6\n",
      "Working on limb L4 branch 17\n",
      "Working on limb L4 branch 1\n",
      "Working on limb L4 branch 18\n",
      "Working on limb L4 branch 11\n",
      "Working on limb L4 branch 12\n",
      "Working on limb L4 branch 10\n",
      "Working on limb L4 branch 13\n",
      "Working on limb L5 branch 0\n"
     ]
    },
    {
     "data": {
      "application/vnd.jupyter.widget-view+json": {
       "model_id": "4aa4c3b5195c407f87cb21cec8be3ae2",
       "version_major": 2,
       "version_minor": 0
      },
      "text/plain": [
       "HBox(children=(FloatProgress(value=0.0, max=1.0), HTML(value='')))"
      ]
     },
     "metadata": {},
     "output_type": "display_data"
    },
    {
     "name": "stdout",
     "output_type": "stream",
     "text": [
      "\n",
      "There was only one mesh found from the spine process and mesh split, returning empty array\n"
     ]
    },
    {
     "data": {
      "application/vnd.jupyter.widget-view+json": {
       "model_id": "54c4fd7e5a984bb2a7430681d5efe686",
       "version_major": 2,
       "version_minor": 0
      },
      "text/plain": [
       "HBox(children=(FloatProgress(value=0.0, max=7.0), HTML(value='')))"
      ]
     },
     "metadata": {},
     "output_type": "display_data"
    },
    {
     "name": "stdout",
     "output_type": "stream",
     "text": [
      "\n"
     ]
    },
    {
     "data": {
      "application/vnd.jupyter.widget-view+json": {
       "model_id": "d8dbb6a68e584d5396d677e773983cba",
       "version_major": 2,
       "version_minor": 0
      },
      "text/plain": [
       "HBox(children=(FloatProgress(value=0.0, max=6.0), HTML(value='')))"
      ]
     },
     "metadata": {},
     "output_type": "display_data"
    },
    {
     "name": "stdout",
     "output_type": "stream",
     "text": [
      "\n"
     ]
    },
    {
     "data": {
      "application/vnd.jupyter.widget-view+json": {
       "model_id": "39eccc5a94bc4a479c9ec6b768603a60",
       "version_major": 2,
       "version_minor": 0
      },
      "text/plain": [
       "HBox(children=(FloatProgress(value=0.0, max=12.0), HTML(value='')))"
      ]
     },
     "metadata": {},
     "output_type": "display_data"
    },
    {
     "name": "stdout",
     "output_type": "stream",
     "text": [
      "\n"
     ]
    },
    {
     "data": {
      "application/vnd.jupyter.widget-view+json": {
       "model_id": "51e807867504450199bf4fce0499a2a4",
       "version_major": 2,
       "version_minor": 0
      },
      "text/plain": [
       "HBox(children=(FloatProgress(value=0.0, max=10.0), HTML(value='')))"
      ]
     },
     "metadata": {},
     "output_type": "display_data"
    },
    {
     "name": "stdout",
     "output_type": "stream",
     "text": [
      "\n"
     ]
    },
    {
     "data": {
      "application/vnd.jupyter.widget-view+json": {
       "model_id": "aca558c8e7224191bbdcfae0f84378af",
       "version_major": 2,
       "version_minor": 0
      },
      "text/plain": [
       "HBox(children=(FloatProgress(value=0.0, max=16.0), HTML(value='')))"
      ]
     },
     "metadata": {},
     "output_type": "display_data"
    },
    {
     "name": "stdout",
     "output_type": "stream",
     "text": [
      "\n"
     ]
    },
    {
     "data": {
      "application/vnd.jupyter.widget-view+json": {
       "model_id": "394547763767497aa0a086019d245442",
       "version_major": 2,
       "version_minor": 0
      },
      "text/plain": [
       "HBox(children=(FloatProgress(value=0.0, max=8.0), HTML(value='')))"
      ]
     },
     "metadata": {},
     "output_type": "display_data"
    },
    {
     "name": "stdout",
     "output_type": "stream",
     "text": [
      "\n"
     ]
    },
    {
     "data": {
      "application/vnd.jupyter.widget-view+json": {
       "model_id": "82fcdbfda89e4e849676a79c734c10a1",
       "version_major": 2,
       "version_minor": 0
      },
      "text/plain": [
       "HBox(children=(FloatProgress(value=0.0, max=3.0), HTML(value='')))"
      ]
     },
     "metadata": {},
     "output_type": "display_data"
    },
    {
     "name": "stdout",
     "output_type": "stream",
     "text": [
      "\n"
     ]
    },
    {
     "data": {
      "application/vnd.jupyter.widget-view+json": {
       "model_id": "114a8527f252498697dff975d505a417",
       "version_major": 2,
       "version_minor": 0
      },
      "text/plain": [
       "HBox(children=(FloatProgress(value=0.0, max=6.0), HTML(value='')))"
      ]
     },
     "metadata": {},
     "output_type": "display_data"
    },
    {
     "name": "stdout",
     "output_type": "stream",
     "text": [
      "\n"
     ]
    },
    {
     "data": {
      "application/vnd.jupyter.widget-view+json": {
       "model_id": "9521231c97104e23bd3899e6f6de9b49",
       "version_major": 2,
       "version_minor": 0
      },
      "text/plain": [
       "HBox(children=(FloatProgress(value=0.0, max=17.0), HTML(value='')))"
      ]
     },
     "metadata": {},
     "output_type": "display_data"
    },
    {
     "name": "stdout",
     "output_type": "stream",
     "text": [
      "\n"
     ]
    },
    {
     "data": {
      "application/vnd.jupyter.widget-view+json": {
       "model_id": "78b9ed3c6e66453e9c79d5dca158ca1e",
       "version_major": 2,
       "version_minor": 0
      },
      "text/plain": [
       "HBox(children=(FloatProgress(value=0.0, max=2.0), HTML(value='')))"
      ]
     },
     "metadata": {},
     "output_type": "display_data"
    },
    {
     "name": "stdout",
     "output_type": "stream",
     "text": [
      "\n"
     ]
    },
    {
     "data": {
      "application/vnd.jupyter.widget-view+json": {
       "model_id": "b03a95a65fe74abe9bd48cd7b5fd007b",
       "version_major": 2,
       "version_minor": 0
      },
      "text/plain": [
       "HBox(children=(FloatProgress(value=0.0, max=1.0), HTML(value='')))"
      ]
     },
     "metadata": {},
     "output_type": "display_data"
    },
    {
     "name": "stdout",
     "output_type": "stream",
     "text": [
      "\n",
      "There was only one mesh found from the spine process and mesh split, returning empty array\n"
     ]
    },
    {
     "data": {
      "application/vnd.jupyter.widget-view+json": {
       "model_id": "bfc1e87a29ab4ab2b6ecf5bdc898e822",
       "version_major": 2,
       "version_minor": 0
      },
      "text/plain": [
       "HBox(children=(FloatProgress(value=0.0, max=10.0), HTML(value='')))"
      ]
     },
     "metadata": {},
     "output_type": "display_data"
    },
    {
     "name": "stdout",
     "output_type": "stream",
     "text": [
      "\n"
     ]
    },
    {
     "data": {
      "application/vnd.jupyter.widget-view+json": {
       "model_id": "1892d9e35480415ab5ec903dbada8609",
       "version_major": 2,
       "version_minor": 0
      },
      "text/plain": [
       "HBox(children=(FloatProgress(value=0.0, max=1.0), HTML(value='')))"
      ]
     },
     "metadata": {},
     "output_type": "display_data"
    },
    {
     "name": "stdout",
     "output_type": "stream",
     "text": [
      "\n",
      "There was only one mesh found from the spine process and mesh split, returning empty array\n"
     ]
    },
    {
     "data": {
      "application/vnd.jupyter.widget-view+json": {
       "model_id": "e051081aae63424382ae5ff7fef9e930",
       "version_major": 2,
       "version_minor": 0
      },
      "text/plain": [
       "HBox(children=(FloatProgress(value=0.0, max=2.0), HTML(value='')))"
      ]
     },
     "metadata": {},
     "output_type": "display_data"
    },
    {
     "name": "stdout",
     "output_type": "stream",
     "text": [
      "\n"
     ]
    },
    {
     "data": {
      "application/vnd.jupyter.widget-view+json": {
       "model_id": "3527ed3ea62d43d0abc289e0bac62a4f",
       "version_major": 2,
       "version_minor": 0
      },
      "text/plain": [
       "HBox(children=(FloatProgress(value=0.0, max=3.0), HTML(value='')))"
      ]
     },
     "metadata": {},
     "output_type": "display_data"
    },
    {
     "name": "stdout",
     "output_type": "stream",
     "text": [
      "\n"
     ]
    },
    {
     "data": {
      "application/vnd.jupyter.widget-view+json": {
       "model_id": "c9b8c9a49bb3424aa7b8925eda397d36",
       "version_major": 2,
       "version_minor": 0
      },
      "text/plain": [
       "HBox(children=(FloatProgress(value=0.0, max=17.0), HTML(value='')))"
      ]
     },
     "metadata": {},
     "output_type": "display_data"
    },
    {
     "name": "stdout",
     "output_type": "stream",
     "text": [
      "\n"
     ]
    },
    {
     "data": {
      "application/vnd.jupyter.widget-view+json": {
       "model_id": "757da86cab3c41eb8be2853362f3c616",
       "version_major": 2,
       "version_minor": 0
      },
      "text/plain": [
       "HBox(children=(FloatProgress(value=0.0, max=33.0), HTML(value='')))"
      ]
     },
     "metadata": {},
     "output_type": "display_data"
    },
    {
     "name": "stdout",
     "output_type": "stream",
     "text": [
      "\n"
     ]
    },
    {
     "data": {
      "application/vnd.jupyter.widget-view+json": {
       "model_id": "0b60d2a847d34fe6aac4d278576c81c7",
       "version_major": 2,
       "version_minor": 0
      },
      "text/plain": [
       "HBox(children=(FloatProgress(value=0.0, max=21.0), HTML(value='')))"
      ]
     },
     "metadata": {},
     "output_type": "display_data"
    },
    {
     "name": "stdout",
     "output_type": "stream",
     "text": [
      "\n"
     ]
    },
    {
     "data": {
      "application/vnd.jupyter.widget-view+json": {
       "model_id": "e10cc1ae2b864c7192b82e903b761363",
       "version_major": 2,
       "version_minor": 0
      },
      "text/plain": [
       "HBox(children=(FloatProgress(value=0.0, max=32.0), HTML(value='')))"
      ]
     },
     "metadata": {},
     "output_type": "display_data"
    },
    {
     "name": "stdout",
     "output_type": "stream",
     "text": [
      "\n"
     ]
    },
    {
     "data": {
      "application/vnd.jupyter.widget-view+json": {
       "model_id": "352a7e5692d64d76a246c2192b26a91a",
       "version_major": 2,
       "version_minor": 0
      },
      "text/plain": [
       "HBox(children=(FloatProgress(value=0.0, max=16.0), HTML(value='')))"
      ]
     },
     "metadata": {},
     "output_type": "display_data"
    },
    {
     "name": "stdout",
     "output_type": "stream",
     "text": [
      "\n"
     ]
    },
    {
     "data": {
      "application/vnd.jupyter.widget-view+json": {
       "model_id": "70bb6522525646d0b76bcc0349e8ffbf",
       "version_major": 2,
       "version_minor": 0
      },
      "text/plain": [
       "HBox(children=(FloatProgress(value=0.0, max=4.0), HTML(value='')))"
      ]
     },
     "metadata": {},
     "output_type": "display_data"
    },
    {
     "name": "stdout",
     "output_type": "stream",
     "text": [
      "\n"
     ]
    },
    {
     "data": {
      "application/vnd.jupyter.widget-view+json": {
       "model_id": "c16e34ba02ba4868b8795bf4802271bf",
       "version_major": 2,
       "version_minor": 0
      },
      "text/plain": [
       "HBox(children=(FloatProgress(value=0.0, max=24.0), HTML(value='')))"
      ]
     },
     "metadata": {},
     "output_type": "display_data"
    },
    {
     "name": "stdout",
     "output_type": "stream",
     "text": [
      "\n"
     ]
    },
    {
     "data": {
      "application/vnd.jupyter.widget-view+json": {
       "model_id": "87fcf8d2f7de483f9b98078ef84d3f5c",
       "version_major": 2,
       "version_minor": 0
      },
      "text/plain": [
       "HBox(children=(FloatProgress(value=0.0, max=12.0), HTML(value='')))"
      ]
     },
     "metadata": {},
     "output_type": "display_data"
    },
    {
     "name": "stdout",
     "output_type": "stream",
     "text": [
      "\n"
     ]
    },
    {
     "data": {
      "application/vnd.jupyter.widget-view+json": {
       "model_id": "0af127acca9a4c14826d3906aac0962c",
       "version_major": 2,
       "version_minor": 0
      },
      "text/plain": [
       "HBox(children=(FloatProgress(value=0.0, max=40.0), HTML(value='')))"
      ]
     },
     "metadata": {},
     "output_type": "display_data"
    },
    {
     "name": "stdout",
     "output_type": "stream",
     "text": [
      "\n"
     ]
    },
    {
     "data": {
      "application/vnd.jupyter.widget-view+json": {
       "model_id": "f228a8a42b9b47aa95131481eb30213e",
       "version_major": 2,
       "version_minor": 0
      },
      "text/plain": [
       "HBox(children=(FloatProgress(value=0.0, max=6.0), HTML(value='')))"
      ]
     },
     "metadata": {},
     "output_type": "display_data"
    },
    {
     "name": "stdout",
     "output_type": "stream",
     "text": [
      "\n"
     ]
    },
    {
     "data": {
      "application/vnd.jupyter.widget-view+json": {
       "model_id": "ce0e6fb03347418ab488c4fe4d672004",
       "version_major": 2,
       "version_minor": 0
      },
      "text/plain": [
       "HBox(children=(FloatProgress(value=0.0, max=4.0), HTML(value='')))"
      ]
     },
     "metadata": {},
     "output_type": "display_data"
    },
    {
     "name": "stdout",
     "output_type": "stream",
     "text": [
      "\n"
     ]
    },
    {
     "data": {
      "application/vnd.jupyter.widget-view+json": {
       "model_id": "60cb6d7152fe42feaa80824eb087f642",
       "version_major": 2,
       "version_minor": 0
      },
      "text/plain": [
       "HBox(children=(FloatProgress(value=0.0, max=10.0), HTML(value='')))"
      ]
     },
     "metadata": {},
     "output_type": "display_data"
    },
    {
     "name": "stdout",
     "output_type": "stream",
     "text": [
      "\n"
     ]
    },
    {
     "data": {
      "application/vnd.jupyter.widget-view+json": {
       "model_id": "44f618541e4e46a6889948c2d40db398",
       "version_major": 2,
       "version_minor": 0
      },
      "text/plain": [
       "HBox(children=(FloatProgress(value=0.0, max=2.0), HTML(value='')))"
      ]
     },
     "metadata": {},
     "output_type": "display_data"
    },
    {
     "name": "stdout",
     "output_type": "stream",
     "text": [
      "\n"
     ]
    },
    {
     "data": {
      "application/vnd.jupyter.widget-view+json": {
       "model_id": "6b676e70ad1b4d5198ba093ff4ca259e",
       "version_major": 2,
       "version_minor": 0
      },
      "text/plain": [
       "HBox(children=(FloatProgress(value=0.0, max=9.0), HTML(value='')))"
      ]
     },
     "metadata": {},
     "output_type": "display_data"
    },
    {
     "name": "stdout",
     "output_type": "stream",
     "text": [
      "\n"
     ]
    },
    {
     "data": {
      "application/vnd.jupyter.widget-view+json": {
       "model_id": "ba823e3cbd1548dcb31790bce7a2e8ec",
       "version_major": 2,
       "version_minor": 0
      },
      "text/plain": [
       "HBox(children=(FloatProgress(value=0.0, max=25.0), HTML(value='')))"
      ]
     },
     "metadata": {},
     "output_type": "display_data"
    },
    {
     "name": "stdout",
     "output_type": "stream",
     "text": [
      "\n"
     ]
    },
    {
     "data": {
      "application/vnd.jupyter.widget-view+json": {
       "model_id": "497b91761b1347939c2a81fdefdd8064",
       "version_major": 2,
       "version_minor": 0
      },
      "text/plain": [
       "HBox(children=(FloatProgress(value=0.0, max=56.0), HTML(value='')))"
      ]
     },
     "metadata": {},
     "output_type": "display_data"
    },
    {
     "name": "stdout",
     "output_type": "stream",
     "text": [
      "\n"
     ]
    },
    {
     "data": {
      "application/vnd.jupyter.widget-view+json": {
       "model_id": "88e71e31d255461c9a554d72ca7f3f82",
       "version_major": 2,
       "version_minor": 0
      },
      "text/plain": [
       "HBox(children=(FloatProgress(value=0.0, max=12.0), HTML(value='')))"
      ]
     },
     "metadata": {},
     "output_type": "display_data"
    },
    {
     "name": "stdout",
     "output_type": "stream",
     "text": [
      "\n"
     ]
    },
    {
     "data": {
      "application/vnd.jupyter.widget-view+json": {
       "model_id": "5eb2d8f6c15e4eb0ac25c95f1a306d73",
       "version_major": 2,
       "version_minor": 0
      },
      "text/plain": [
       "HBox(children=(FloatProgress(value=0.0, max=11.0), HTML(value='')))"
      ]
     },
     "metadata": {},
     "output_type": "display_data"
    },
    {
     "name": "stdout",
     "output_type": "stream",
     "text": [
      "\n"
     ]
    },
    {
     "data": {
      "application/vnd.jupyter.widget-view+json": {
       "model_id": "5ee2eb2d8c414dd7a6f7773c2393114d",
       "version_major": 2,
       "version_minor": 0
      },
      "text/plain": [
       "HBox(children=(FloatProgress(value=0.0, max=39.0), HTML(value='')))"
      ]
     },
     "metadata": {},
     "output_type": "display_data"
    },
    {
     "name": "stdout",
     "output_type": "stream",
     "text": [
      "\n"
     ]
    },
    {
     "data": {
      "application/vnd.jupyter.widget-view+json": {
       "model_id": "2026377884bd4eb289ada1dd015ee55d",
       "version_major": 2,
       "version_minor": 0
      },
      "text/plain": [
       "HBox(children=(FloatProgress(value=0.0, max=8.0), HTML(value='')))"
      ]
     },
     "metadata": {},
     "output_type": "display_data"
    },
    {
     "name": "stdout",
     "output_type": "stream",
     "text": [
      "\n"
     ]
    },
    {
     "data": {
      "application/vnd.jupyter.widget-view+json": {
       "model_id": "15de88fd08704d6fbd8767f7277f9f7a",
       "version_major": 2,
       "version_minor": 0
      },
      "text/plain": [
       "HBox(children=(FloatProgress(value=0.0, max=22.0), HTML(value='')))"
      ]
     },
     "metadata": {},
     "output_type": "display_data"
    },
    {
     "name": "stdout",
     "output_type": "stream",
     "text": [
      "\n"
     ]
    },
    {
     "data": {
      "application/vnd.jupyter.widget-view+json": {
       "model_id": "a31648be9ab94f88b2261f7589a8340e",
       "version_major": 2,
       "version_minor": 0
      },
      "text/plain": [
       "HBox(children=(FloatProgress(value=0.0, max=41.0), HTML(value='')))"
      ]
     },
     "metadata": {},
     "output_type": "display_data"
    },
    {
     "name": "stdout",
     "output_type": "stream",
     "text": [
      "\n"
     ]
    },
    {
     "data": {
      "application/vnd.jupyter.widget-view+json": {
       "model_id": "f94f8da4b730470783e4b4a6573a21c7",
       "version_major": 2,
       "version_minor": 0
      },
      "text/plain": [
       "HBox(children=(FloatProgress(value=0.0, max=12.0), HTML(value='')))"
      ]
     },
     "metadata": {},
     "output_type": "display_data"
    },
    {
     "name": "stdout",
     "output_type": "stream",
     "text": [
      "\n"
     ]
    },
    {
     "data": {
      "application/vnd.jupyter.widget-view+json": {
       "model_id": "7494898570b24a4dbf413b868854444b",
       "version_major": 2,
       "version_minor": 0
      },
      "text/plain": [
       "HBox(children=(FloatProgress(value=0.0, max=62.0), HTML(value='')))"
      ]
     },
     "metadata": {},
     "output_type": "display_data"
    },
    {
     "name": "stdout",
     "output_type": "stream",
     "text": [
      "\n"
     ]
    },
    {
     "data": {
      "application/vnd.jupyter.widget-view+json": {
       "model_id": "4cdbfafaa4954cdfa314507d5f040f0a",
       "version_major": 2,
       "version_minor": 0
      },
      "text/plain": [
       "HBox(children=(FloatProgress(value=0.0, max=9.0), HTML(value='')))"
      ]
     },
     "metadata": {},
     "output_type": "display_data"
    },
    {
     "name": "stdout",
     "output_type": "stream",
     "text": [
      "\n"
     ]
    },
    {
     "data": {
      "application/vnd.jupyter.widget-view+json": {
       "model_id": "27df881eac50403b93dc9c417f1ce5f2",
       "version_major": 2,
       "version_minor": 0
      },
      "text/plain": [
       "HBox(children=(FloatProgress(value=0.0, max=22.0), HTML(value='')))"
      ]
     },
     "metadata": {},
     "output_type": "display_data"
    },
    {
     "name": "stdout",
     "output_type": "stream",
     "text": [
      "\n"
     ]
    },
    {
     "data": {
      "application/vnd.jupyter.widget-view+json": {
       "model_id": "603686d8afcf4f578429ed05504b3beb",
       "version_major": 2,
       "version_minor": 0
      },
      "text/plain": [
       "HBox(children=(FloatProgress(value=0.0, max=41.0), HTML(value='')))"
      ]
     },
     "metadata": {},
     "output_type": "display_data"
    },
    {
     "name": "stdout",
     "output_type": "stream",
     "text": [
      "\n"
     ]
    },
    {
     "data": {
      "application/vnd.jupyter.widget-view+json": {
       "model_id": "9d0f76ecf616498590ff46022fbd3e14",
       "version_major": 2,
       "version_minor": 0
      },
      "text/plain": [
       "HBox(children=(FloatProgress(value=0.0, max=16.0), HTML(value='')))"
      ]
     },
     "metadata": {},
     "output_type": "display_data"
    },
    {
     "name": "stdout",
     "output_type": "stream",
     "text": [
      "\n"
     ]
    },
    {
     "data": {
      "application/vnd.jupyter.widget-view+json": {
       "model_id": "f67dafdd50564d858a7b64cece7434ba",
       "version_major": 2,
       "version_minor": 0
      },
      "text/plain": [
       "HBox(children=(FloatProgress(value=0.0, max=3.0), HTML(value='')))"
      ]
     },
     "metadata": {},
     "output_type": "display_data"
    },
    {
     "name": "stdout",
     "output_type": "stream",
     "text": [
      "\n"
     ]
    },
    {
     "data": {
      "application/vnd.jupyter.widget-view+json": {
       "model_id": "7f2b8da8124b4987b94d938586bfc69c",
       "version_major": 2,
       "version_minor": 0
      },
      "text/plain": [
       "HBox(children=(FloatProgress(value=0.0, max=39.0), HTML(value='')))"
      ]
     },
     "metadata": {},
     "output_type": "display_data"
    },
    {
     "name": "stdout",
     "output_type": "stream",
     "text": [
      "\n",
      "Gettng rid of 1 nodes\n"
     ]
    },
    {
     "data": {
      "application/vnd.jupyter.widget-view+json": {
       "model_id": "5da0aef5eee342e9940fa39cc3a94a85",
       "version_major": 2,
       "version_minor": 0
      },
      "text/plain": [
       "HBox(children=(FloatProgress(value=0.0, max=5.0), HTML(value='')))"
      ]
     },
     "metadata": {},
     "output_type": "display_data"
    },
    {
     "name": "stdout",
     "output_type": "stream",
     "text": [
      "\n"
     ]
    },
    {
     "data": {
      "application/vnd.jupyter.widget-view+json": {
       "model_id": "3641f95281d34f58ba697fb52b221146",
       "version_major": 2,
       "version_minor": 0
      },
      "text/plain": [
       "HBox(children=(FloatProgress(value=0.0, max=37.0), HTML(value='')))"
      ]
     },
     "metadata": {},
     "output_type": "display_data"
    },
    {
     "name": "stdout",
     "output_type": "stream",
     "text": [
      "\n"
     ]
    },
    {
     "data": {
      "application/vnd.jupyter.widget-view+json": {
       "model_id": "9e8a4ff54cb048abb5ab33759233378e",
       "version_major": 2,
       "version_minor": 0
      },
      "text/plain": [
       "HBox(children=(FloatProgress(value=0.0, max=11.0), HTML(value='')))"
      ]
     },
     "metadata": {},
     "output_type": "display_data"
    },
    {
     "name": "stdout",
     "output_type": "stream",
     "text": [
      "\n"
     ]
    },
    {
     "data": {
      "application/vnd.jupyter.widget-view+json": {
       "model_id": "6ca2c784eedd4932b467bb4fcbeb220a",
       "version_major": 2,
       "version_minor": 0
      },
      "text/plain": [
       "HBox(children=(FloatProgress(value=0.0, max=34.0), HTML(value='')))"
      ]
     },
     "metadata": {},
     "output_type": "display_data"
    },
    {
     "name": "stdout",
     "output_type": "stream",
     "text": [
      "\n"
     ]
    },
    {
     "data": {
      "application/vnd.jupyter.widget-view+json": {
       "model_id": "bc5396cf16564503927ec229b23369e9",
       "version_major": 2,
       "version_minor": 0
      },
      "text/plain": [
       "HBox(children=(FloatProgress(value=0.0, max=7.0), HTML(value='')))"
      ]
     },
     "metadata": {},
     "output_type": "display_data"
    },
    {
     "name": "stdout",
     "output_type": "stream",
     "text": [
      "\n"
     ]
    },
    {
     "data": {
      "application/vnd.jupyter.widget-view+json": {
       "model_id": "f7ba60d165854c358a7ceb91e53e018c",
       "version_major": 2,
       "version_minor": 0
      },
      "text/plain": [
       "HBox(children=(FloatProgress(value=0.0, max=57.0), HTML(value='')))"
      ]
     },
     "metadata": {},
     "output_type": "display_data"
    },
    {
     "name": "stdout",
     "output_type": "stream",
     "text": [
      "\n"
     ]
    },
    {
     "data": {
      "application/vnd.jupyter.widget-view+json": {
       "model_id": "5625f5da25a645bbb7b2ef1127c21b98",
       "version_major": 2,
       "version_minor": 0
      },
      "text/plain": [
       "HBox(children=(FloatProgress(value=0.0, max=88.0), HTML(value='')))"
      ]
     },
     "metadata": {},
     "output_type": "display_data"
    },
    {
     "name": "stdout",
     "output_type": "stream",
     "text": [
      "\n"
     ]
    },
    {
     "data": {
      "application/vnd.jupyter.widget-view+json": {
       "model_id": "61d33dd24db84dd5a5b9f82c4e2f4c7e",
       "version_major": 2,
       "version_minor": 0
      },
      "text/plain": [
       "HBox(children=(FloatProgress(value=0.0, max=3.0), HTML(value='')))"
      ]
     },
     "metadata": {},
     "output_type": "display_data"
    },
    {
     "name": "stdout",
     "output_type": "stream",
     "text": [
      "\n"
     ]
    },
    {
     "data": {
      "application/vnd.jupyter.widget-view+json": {
       "model_id": "45d2c26fbcdd4822915dc6d5576a2b69",
       "version_major": 2,
       "version_minor": 0
      },
      "text/plain": [
       "HBox(children=(FloatProgress(value=0.0, max=19.0), HTML(value='')))"
      ]
     },
     "metadata": {},
     "output_type": "display_data"
    },
    {
     "name": "stdout",
     "output_type": "stream",
     "text": [
      "\n"
     ]
    },
    {
     "data": {
      "application/vnd.jupyter.widget-view+json": {
       "model_id": "f91d6550b4b14142897e80cb2046952d",
       "version_major": 2,
       "version_minor": 0
      },
      "text/plain": [
       "HBox(children=(FloatProgress(value=0.0, max=7.0), HTML(value='')))"
      ]
     },
     "metadata": {},
     "output_type": "display_data"
    },
    {
     "name": "stdout",
     "output_type": "stream",
     "text": [
      "\n"
     ]
    },
    {
     "data": {
      "application/vnd.jupyter.widget-view+json": {
       "model_id": "8e92d86c8f7e407f83217e1f86573b43",
       "version_major": 2,
       "version_minor": 0
      },
      "text/plain": [
       "HBox(children=(FloatProgress(value=0.0, max=37.0), HTML(value='')))"
      ]
     },
     "metadata": {},
     "output_type": "display_data"
    },
    {
     "name": "stdout",
     "output_type": "stream",
     "text": [
      "\n"
     ]
    },
    {
     "data": {
      "application/vnd.jupyter.widget-view+json": {
       "model_id": "4b266350af794773b9f421f73389d28a",
       "version_major": 2,
       "version_minor": 0
      },
      "text/plain": [
       "HBox(children=(FloatProgress(value=0.0, max=31.0), HTML(value='')))"
      ]
     },
     "metadata": {},
     "output_type": "display_data"
    },
    {
     "name": "stdout",
     "output_type": "stream",
     "text": [
      "\n"
     ]
    },
    {
     "data": {
      "application/vnd.jupyter.widget-view+json": {
       "model_id": "5beaca14303347eb8cb87bfa6e4b8dc2",
       "version_major": 2,
       "version_minor": 0
      },
      "text/plain": [
       "HBox(children=(FloatProgress(value=0.0, max=26.0), HTML(value='')))"
      ]
     },
     "metadata": {},
     "output_type": "display_data"
    },
    {
     "name": "stdout",
     "output_type": "stream",
     "text": [
      "\n"
     ]
    },
    {
     "data": {
      "application/vnd.jupyter.widget-view+json": {
       "model_id": "87d7bc43d3df4bdc9d541e1fba0b5535",
       "version_major": 2,
       "version_minor": 0
      },
      "text/plain": [
       "HBox(children=(FloatProgress(value=0.0, max=17.0), HTML(value='')))"
      ]
     },
     "metadata": {},
     "output_type": "display_data"
    },
    {
     "name": "stdout",
     "output_type": "stream",
     "text": [
      "\n"
     ]
    },
    {
     "data": {
      "application/vnd.jupyter.widget-view+json": {
       "model_id": "31676826d906457d940cc0c2c2f1dc46",
       "version_major": 2,
       "version_minor": 0
      },
      "text/plain": [
       "HBox(children=(FloatProgress(value=0.0, max=57.0), HTML(value='')))"
      ]
     },
     "metadata": {},
     "output_type": "display_data"
    },
    {
     "name": "stdout",
     "output_type": "stream",
     "text": [
      "\n"
     ]
    },
    {
     "data": {
      "application/vnd.jupyter.widget-view+json": {
       "model_id": "87dbddc4972e4a1093fdf2efa48154d3",
       "version_major": 2,
       "version_minor": 0
      },
      "text/plain": [
       "HBox(children=(FloatProgress(value=0.0, max=33.0), HTML(value='')))"
      ]
     },
     "metadata": {},
     "output_type": "display_data"
    },
    {
     "name": "stdout",
     "output_type": "stream",
     "text": [
      "\n"
     ]
    },
    {
     "data": {
      "application/vnd.jupyter.widget-view+json": {
       "model_id": "4f160022ce334af9963dc05d1b4e18d8",
       "version_major": 2,
       "version_minor": 0
      },
      "text/plain": [
       "HBox(children=(FloatProgress(value=0.0, max=45.0), HTML(value='')))"
      ]
     },
     "metadata": {},
     "output_type": "display_data"
    },
    {
     "name": "stdout",
     "output_type": "stream",
     "text": [
      "\n"
     ]
    },
    {
     "data": {
      "application/vnd.jupyter.widget-view+json": {
       "model_id": "df8115cb1fc64950be89cf04859714a4",
       "version_major": 2,
       "version_minor": 0
      },
      "text/plain": [
       "HBox(children=(FloatProgress(value=0.0, max=2.0), HTML(value='')))"
      ]
     },
     "metadata": {},
     "output_type": "display_data"
    },
    {
     "name": "stdout",
     "output_type": "stream",
     "text": [
      "\n"
     ]
    },
    {
     "data": {
      "application/vnd.jupyter.widget-view+json": {
       "model_id": "8b7dcb46cf024f62b73d041064cb0a4d",
       "version_major": 2,
       "version_minor": 0
      },
      "text/plain": [
       "HBox(children=(FloatProgress(value=0.0, max=18.0), HTML(value='')))"
      ]
     },
     "metadata": {},
     "output_type": "display_data"
    },
    {
     "name": "stdout",
     "output_type": "stream",
     "text": [
      "\n"
     ]
    },
    {
     "data": {
      "application/vnd.jupyter.widget-view+json": {
       "model_id": "a9de11714714416eb1a65b3220bb8d51",
       "version_major": 2,
       "version_minor": 0
      },
      "text/plain": [
       "HBox(children=(FloatProgress(value=0.0, max=40.0), HTML(value='')))"
      ]
     },
     "metadata": {},
     "output_type": "display_data"
    },
    {
     "name": "stdout",
     "output_type": "stream",
     "text": [
      "\n"
     ]
    },
    {
     "data": {
      "application/vnd.jupyter.widget-view+json": {
       "model_id": "3b2c940c9ebf4332812f5c2f51f051a9",
       "version_major": 2,
       "version_minor": 0
      },
      "text/plain": [
       "HBox(children=(FloatProgress(value=0.0, max=27.0), HTML(value='')))"
      ]
     },
     "metadata": {},
     "output_type": "display_data"
    },
    {
     "name": "stdout",
     "output_type": "stream",
     "text": [
      "\n"
     ]
    },
    {
     "data": {
      "application/vnd.jupyter.widget-view+json": {
       "model_id": "e4f402b6c0ad4028a8b9bda5493dc286",
       "version_major": 2,
       "version_minor": 0
      },
      "text/plain": [
       "HBox(children=(FloatProgress(value=0.0, max=40.0), HTML(value='')))"
      ]
     },
     "metadata": {},
     "output_type": "display_data"
    },
    {
     "name": "stdout",
     "output_type": "stream",
     "text": [
      "\n"
     ]
    },
    {
     "data": {
      "application/vnd.jupyter.widget-view+json": {
       "model_id": "7cb5f9f2c85140bd9e982de144aeb46e",
       "version_major": 2,
       "version_minor": 0
      },
      "text/plain": [
       "HBox(children=(FloatProgress(value=0.0, max=32.0), HTML(value='')))"
      ]
     },
     "metadata": {},
     "output_type": "display_data"
    },
    {
     "name": "stdout",
     "output_type": "stream",
     "text": [
      "\n"
     ]
    },
    {
     "data": {
      "application/vnd.jupyter.widget-view+json": {
       "model_id": "975892f6566d4db6ba137be8e8aa98a3",
       "version_major": 2,
       "version_minor": 0
      },
      "text/plain": [
       "HBox(children=(FloatProgress(value=0.0, max=27.0), HTML(value='')))"
      ]
     },
     "metadata": {},
     "output_type": "display_data"
    },
    {
     "name": "stdout",
     "output_type": "stream",
     "text": [
      "\n"
     ]
    },
    {
     "data": {
      "application/vnd.jupyter.widget-view+json": {
       "model_id": "9e4f40503b4a4c7581956ec5cc4421e6",
       "version_major": 2,
       "version_minor": 0
      },
      "text/plain": [
       "HBox(children=(FloatProgress(value=0.0, max=10.0), HTML(value='')))"
      ]
     },
     "metadata": {},
     "output_type": "display_data"
    },
    {
     "name": "stdout",
     "output_type": "stream",
     "text": [
      "\n"
     ]
    },
    {
     "data": {
      "application/vnd.jupyter.widget-view+json": {
       "model_id": "1a240c2a7a224997a1f2884c4b5dfc75",
       "version_major": 2,
       "version_minor": 0
      },
      "text/plain": [
       "HBox(children=(FloatProgress(value=0.0, max=34.0), HTML(value='')))"
      ]
     },
     "metadata": {},
     "output_type": "display_data"
    },
    {
     "name": "stdout",
     "output_type": "stream",
     "text": [
      "\n"
     ]
    },
    {
     "data": {
      "application/vnd.jupyter.widget-view+json": {
       "model_id": "2f4ae19cc8c64c468dc8d9a413455043",
       "version_major": 2,
       "version_minor": 0
      },
      "text/plain": [
       "HBox(children=(FloatProgress(value=0.0, max=44.0), HTML(value='')))"
      ]
     },
     "metadata": {},
     "output_type": "display_data"
    },
    {
     "name": "stdout",
     "output_type": "stream",
     "text": [
      "\n"
     ]
    },
    {
     "data": {
      "application/vnd.jupyter.widget-view+json": {
       "model_id": "04a41896c1c74917b8426b43bae12e7c",
       "version_major": 2,
       "version_minor": 0
      },
      "text/plain": [
       "HBox(children=(FloatProgress(value=0.0, max=14.0), HTML(value='')))"
      ]
     },
     "metadata": {},
     "output_type": "display_data"
    },
    {
     "name": "stdout",
     "output_type": "stream",
     "text": [
      "\n"
     ]
    },
    {
     "data": {
      "application/vnd.jupyter.widget-view+json": {
       "model_id": "7c1f0f6c71d24f1ba5be9e6f012934ae",
       "version_major": 2,
       "version_minor": 0
      },
      "text/plain": [
       "HBox(children=(FloatProgress(value=0.0, max=20.0), HTML(value='')))"
      ]
     },
     "metadata": {},
     "output_type": "display_data"
    },
    {
     "name": "stdout",
     "output_type": "stream",
     "text": [
      "\n"
     ]
    },
    {
     "data": {
      "application/vnd.jupyter.widget-view+json": {
       "model_id": "02b7199e888540d498bc8d36dd198800",
       "version_major": 2,
       "version_minor": 0
      },
      "text/plain": [
       "HBox(children=(FloatProgress(value=0.0, max=14.0), HTML(value='')))"
      ]
     },
     "metadata": {},
     "output_type": "display_data"
    },
    {
     "name": "stdout",
     "output_type": "stream",
     "text": [
      "\n"
     ]
    },
    {
     "data": {
      "application/vnd.jupyter.widget-view+json": {
       "model_id": "8011e63bc86349a3b73b111d1f20972f",
       "version_major": 2,
       "version_minor": 0
      },
      "text/plain": [
       "HBox(children=(FloatProgress(value=0.0, max=12.0), HTML(value='')))"
      ]
     },
     "metadata": {},
     "output_type": "display_data"
    },
    {
     "name": "stdout",
     "output_type": "stream",
     "text": [
      "\n"
     ]
    },
    {
     "data": {
      "application/vnd.jupyter.widget-view+json": {
       "model_id": "96451a2380cc414c848e3790396747b5",
       "version_major": 2,
       "version_minor": 0
      },
      "text/plain": [
       "HBox(children=(FloatProgress(value=0.0, max=7.0), HTML(value='')))"
      ]
     },
     "metadata": {},
     "output_type": "display_data"
    },
    {
     "name": "stdout",
     "output_type": "stream",
     "text": [
      "\n"
     ]
    },
    {
     "data": {
      "application/vnd.jupyter.widget-view+json": {
       "model_id": "7a4083ead9024322aed9080237f33471",
       "version_major": 2,
       "version_minor": 0
      },
      "text/plain": [
       "HBox(children=(FloatProgress(value=0.0, max=32.0), HTML(value='')))"
      ]
     },
     "metadata": {},
     "output_type": "display_data"
    },
    {
     "name": "stdout",
     "output_type": "stream",
     "text": [
      "\n"
     ]
    },
    {
     "data": {
      "application/vnd.jupyter.widget-view+json": {
       "model_id": "e30d9ce7610242c9bf66dacc7288d2fa",
       "version_major": 2,
       "version_minor": 0
      },
      "text/plain": [
       "HBox(children=(FloatProgress(value=0.0, max=15.0), HTML(value='')))"
      ]
     },
     "metadata": {},
     "output_type": "display_data"
    },
    {
     "name": "stdout",
     "output_type": "stream",
     "text": [
      "\n"
     ]
    },
    {
     "data": {
      "application/vnd.jupyter.widget-view+json": {
       "model_id": "270e8cc1147649229c9840c87e9ae99d",
       "version_major": 2,
       "version_minor": 0
      },
      "text/plain": [
       "HBox(children=(FloatProgress(value=0.0, max=14.0), HTML(value='')))"
      ]
     },
     "metadata": {},
     "output_type": "display_data"
    },
    {
     "name": "stdout",
     "output_type": "stream",
     "text": [
      "\n"
     ]
    },
    {
     "data": {
      "application/vnd.jupyter.widget-view+json": {
       "model_id": "c9e557eb83a34b89b140b9004fffd2ad",
       "version_major": 2,
       "version_minor": 0
      },
      "text/plain": [
       "HBox(children=(FloatProgress(value=0.0, max=56.0), HTML(value='')))"
      ]
     },
     "metadata": {},
     "output_type": "display_data"
    },
    {
     "name": "stdout",
     "output_type": "stream",
     "text": [
      "\n"
     ]
    }
   ],
   "source": [
    "import spine_utils as spu\n",
    "tu = reload(tu)\n",
    "spu = reload(spu)\n",
    "neuron_obj.calculate_spines()"
   ]
  },
  {
   "cell_type": "code",
   "execution_count": 29,
   "metadata": {},
   "outputs": [
    {
     "name": "stdout",
     "output_type": "stream",
     "text": [
      "\n",
      " Working on visualization type: mesh\n"
     ]
    },
    {
     "data": {
      "application/vnd.jupyter.widget-view+json": {
       "model_id": "d02daba553f44f828a320eb94294ec9e",
       "version_major": 2,
       "version_minor": 0
      },
      "text/plain": [
       "VBox(children=(Figure(camera=PerspectiveCamera(fov=46.0, position=(0.0, 0.0, 2.0), quaternion=(0.0, 0.0, 0.0, …"
      ]
     },
     "metadata": {},
     "output_type": "display_data"
    }
   ],
   "source": [
    "nviz.plot_spines(neuron_obj)"
   ]
  },
  {
   "cell_type": "code",
   "execution_count": 27,
   "metadata": {},
   "outputs": [
    {
     "data": {
      "image/png": "[encoded data removed]",
      "text/plain": [
       "<Figure size 432x288 with 1 Axes>"
      ]
     },
     "metadata": {},
     "output_type": "display_data"
    }
   ],
   "source": [
    "nviz.plot_soma_limb_concept_network(neuron_obj)"
   ]
  },
  {
   "cell_type": "code",
   "execution_count": 31,
   "metadata": {},
   "outputs": [
    {
     "data": {
      "application/vnd.jupyter.widget-view+json": {
       "model_id": "43b141e5c4a44bbaa0864aa3ddd63efa",
       "version_major": 2,
       "version_minor": 0
      },
      "text/plain": [
       "VBox(children=(Figure(camera=PerspectiveCamera(fov=46.0, position=(0.0, 0.0, 2.0), quaternion=(0.0, 0.0, 0.0, …"
      ]
     },
     "metadata": {},
     "output_type": "display_data"
    }
   ],
   "source": [
    "nviz.plot_objects(meshes=non_soma_touching_meshes)"
   ]
  },
  {
   "cell_type": "code",
   "execution_count": 32,
   "metadata": {},
   "outputs": [
    {
     "data": {
      "text/plain": [
       "'single_soma_inhib_axon_cloud'"
      ]
     },
     "execution_count": 32,
     "metadata": {},
     "output_type": "execute_result"
    }
   ],
   "source": [
    "description"
   ]
  },
  {
   "cell_type": "code",
   "execution_count": 33,
   "metadata": {},
   "outputs": [
    {
     "name": "stdout",
     "output_type": "stream",
     "text": [
      "Saving Neuorn in suppress_output mode...please wait\n",
      "Saved File at location: /notebooks/test_neurons/Fusion_decomp/864691135548568516_single_soma_inhib_axon_cloud\n"
     ]
    }
   ],
   "source": [
    "neuron_obj.save_compressed_neuron(\"/notebooks/test_neurons/Fusion_decomp/\",\n",
    "                                 export_mesh=True)"
   ]
  },
  {
   "cell_type": "code",
   "execution_count": null,
   "metadata": {},
   "outputs": [],
   "source": []
  }
 ],
 "metadata": {
  "kernelspec": {
   "display_name": "Python 3",
   "language": "python",
   "name": "python3"
  },
  "language_info": {
   "codemirror_mode": {
    "name": "ipython",
    "version": 3
   },
   "file_extension": ".py",
   "mimetype": "text/x-python",
   "name": "python",
   "nbconvert_exporter": "python",
   "pygments_lexer": "ipython3",
   "version": "3.6.9"
  }
 },
 "nbformat": 4,
 "nbformat_minor": 4
}
