{
 "cells": [
  {
   "cell_type": "code",
   "execution_count": null,
   "metadata": {},
   "outputs": [],
   "source": [
    "\"\"\"\n",
    "To make sure the fusion decomposition works\n",
    "up to the part where we would stitch the sublimbs together into one limb\n",
    "\n",
    "\n",
    "\"\"\""
   ]
  },
  {
   "cell_type": "code",
   "execution_count": 1,
   "metadata": {},
   "outputs": [],
   "source": [
    "from os import sys\n",
    "sys.path.append(\"/meshAfterParty/\")"
   ]
  },
  {
   "cell_type": "code",
   "execution_count": 81,
   "metadata": {},
   "outputs": [],
   "source": [
    "import skeleton_utils as sk\n",
    "import soma_extraction_utils as sm\n",
    "import trimesh_utils as tu\n",
    "import trimesh\n",
    "import numpy_utils as nu\n",
    "import numpy as np\n",
    "from importlib import reload\n",
    "import networkx as nx\n",
    "import time\n",
    "import compartment_utils as cu\n",
    "import networkx_utils as xu\n",
    "import matplotlib_utils as mu\n",
    "import neuron_utils as nru\n",
    "\n",
    "#importing at the bottom so don't get any conflicts\n",
    "import itertools\n",
    "from tqdm_utils import tqdm\n",
    "\n",
    "#for meshparty preprocessing\n",
    "import meshparty_skeletonize as m_sk\n",
    "import general_utils as gu\n",
    "import compartment_utils as cu\n",
    "from meshparty import trimesh_io\n",
    "from copy import deepcopy\n",
    "\n",
    "\n",
    "from neuron_utils import *\n"
   ]
  },
  {
   "cell_type": "markdown",
   "metadata": {},
   "source": [
    "# Loading the Neuron"
   ]
  },
  {
   "cell_type": "code",
   "execution_count": 3,
   "metadata": {},
   "outputs": [],
   "source": [
    "import trimesh_utils as tu\n",
    "curent_neuron = tu.load_mesh_no_processing(\"/notebooks/test_neurons/Segmentation_2/meshparty/864691135382617330_double_soma_large_axon.off\")\n",
    "segment_id = 864691135382617330\n",
    "description = \"double_soma_large_axon\""
   ]
  },
  {
   "cell_type": "code",
   "execution_count": 4,
   "metadata": {},
   "outputs": [],
   "source": [
    "# import neuron_visualizations as nviz\n",
    "# nviz.plot_objects(main_mesh=curent_neuron)"
   ]
  },
  {
   "cell_type": "markdown",
   "metadata": {},
   "source": [
    "# Setting the Arguments that would be present inside a preprocessing function call"
   ]
  },
  {
   "cell_type": "code",
   "execution_count": 5,
   "metadata": {},
   "outputs": [],
   "source": [
    "#predefined arguments for the Neuron constructor\n",
    "\n",
    "decomposition_type=\"meshafterparty\"\n",
    "mesh_correspondence=\"meshparty\" #meshafterparty_adaptive\n",
    "distance_by_mesh_center=True #how the distance is calculated for mesh correspondence\n",
    "meshparty_segment_size = 100\n",
    "meshparty_n_surface_downsampling = 2\n",
    "meshparty_adaptive_correspondence_after_creation=False\n",
    "suppress_preprocessing_print=True\n",
    "computed_attribute_dict=None\n",
    "somas = None\n",
    "branch_skeleton_data=None\n",
    "combine_close_skeleton_nodes = True\n",
    "combine_close_skeleton_nodes_threshold=700\n",
    "ignore_warnings=True\n",
    "suppress_output=False\n",
    "calculate_spines=True\n",
    "widths_to_calculate=[\"no_spine_median_mesh_center\",\n",
    "                \"no_spine_mean_mesh_center\"]\n",
    "fill_hole_size=2000"
   ]
  },
  {
   "cell_type": "code",
   "execution_count": 6,
   "metadata": {},
   "outputs": [],
   "source": [
    "#arguments for the preprocess neuron\n",
    "mesh = curent_neuron\n",
    "segment_id=segment_id\n",
    "description=description\n",
    "\n",
    "sig_th_initial_split=15 #for significant splitting meshes in the intial mesh split\n",
    "limb_threshold = 2000 #the mesh faces threshold for a mesh to be qualified as a limb (otherwise too small)\n",
    "filter_end_node_length=4001 #used in cleaning the skeleton during skeletonizations\n",
    "return_no_somas = False\n",
    "\n",
    "decomposition_type=decomposition_type\n",
    "mesh_correspondence=mesh_correspondence\n",
    "distance_by_mesh_center=distance_by_mesh_center\n",
    "meshparty_segment_size =meshparty_segment_size\n",
    "meshparty_n_surface_downsampling = meshparty_n_surface_downsampling\n",
    "somas=somas\n",
    "branch_skeleton_data=branch_skeleton_data\n",
    "combine_close_skeleton_nodes = combine_close_skeleton_nodes\n",
    "combine_close_skeleton_nodes_threshold=combine_close_skeleton_nodes_threshold"
   ]
  },
  {
   "cell_type": "markdown",
   "metadata": {},
   "source": [
    "# Setting up the metadata"
   ]
  },
  {
   "cell_type": "code",
   "execution_count": 7,
   "metadata": {},
   "outputs": [],
   "source": [
    "whole_processing_tiempo = time.time()\n",
    "\n",
    "\n",
    "\"\"\"\n",
    "Purpose: To process the mesh into a format that can be loaded into the neuron class\n",
    "and used for higher order processing (how to visualize is included)\n",
    "\n",
    "\"\"\"\n",
    "if description is None:\n",
    "    description = \"no_description\"\n",
    "if segment_id is None:\n",
    "    #pick a random segment id\n",
    "    segment_id = np.random.randint(100000000)\n",
    "    print(f\"picking a random 7 digit segment id: {segment_id}\")\n",
    "    description += \"_random_id\"\n",
    "\n",
    "\n",
    "if mesh is None:\n",
    "    if current_mesh_file is None:\n",
    "        raise Exception(\"No mesh or mesh_file file were given\")\n",
    "    else:\n",
    "        current_neuron = trimesh.load_mesh(current_mesh_file)\n",
    "else:\n",
    "    current_neuron = mesh"
   ]
  },
  {
   "cell_type": "markdown",
   "metadata": {},
   "source": [
    "# ************************ Phase A: Soma and Limb Identification ********************************"
   ]
  },
  {
   "cell_type": "code",
   "execution_count": 8,
   "metadata": {},
   "outputs": [
    {
     "name": "stdout",
     "output_type": "stream",
     "text": [
      "Current Arguments Using (adjusted for decimation):\n",
      " large_mesh_threshold= 15000.0 \n",
      "large_mesh_threshold_inner = 10000.0 \n",
      "soma_size_threshold = 937.5 \n",
      "soma_size_threshold_max = 12000.0\n",
      "outer_decimation_ratio = 0.25\n",
      "inner_decimation_ratio = 0.25\n",
      "xvfb-run -n 5273 -s \"-screen 0 800x600x24\" meshlabserver $@  -i /notebooks/Platinum_Decomp_Fusion/864691135382617330/neuron_864691135382617330.off -o /notebooks/Platinum_Decomp_Fusion/864691135382617330/neuron_864691135382617330_decimated.off -s /notebooks/Platinum_Decomp_Fusion/864691135382617330/decimation_meshlab_25346210.mls\n",
      "Total found significant pieces before Poisson = [<trimesh.Trimesh(vertices.shape=(190811, 3), faces.shape=(378905, 3))>]\n",
      "----- working on large mesh #0: <trimesh.Trimesh(vertices.shape=(190811, 3), faces.shape=(378905, 3))>\n",
      "pre_largest_mesh_path = /notebooks/Platinum_Decomp_Fusion/864691135382617330/neuron_864691135382617330_decimated_largest_piece.off\n",
      "xvfb-run -n 6432 -s \"-screen 0 800x600x24\" meshlabserver $@  -i /notebooks/Platinum_Decomp_Fusion/864691135382617330/neuron_864691135382617330_decimated_largest_piece.off -o /notebooks/Platinum_Decomp_Fusion/864691135382617330/neuron_864691135382617330_decimated_largest_piece_poisson.off -s /notebooks/Platinum_Decomp_Fusion/864691135382617330/poisson_167443.mls\n",
      "Total found significant pieces AFTER Poisson = [<trimesh.Trimesh(vertices.shape=(74405, 3), faces.shape=(148814, 3))>, <trimesh.Trimesh(vertices.shape=(8005, 3), faces.shape=(16006, 3))>]\n",
      "----- working on mesh after poisson #0: <trimesh.Trimesh(vertices.shape=(74405, 3), faces.shape=(148814, 3))>\n",
      "xvfb-run -n 6844 -s \"-screen 0 800x600x24\" meshlabserver $@  -i /notebooks/Platinum_Decomp_Fusion/864691135382617330/neuron_864691135382617330_decimated_largest_piece_poisson_largest_inner.off -o /notebooks/Platinum_Decomp_Fusion/864691135382617330/neuron_864691135382617330_decimated_largest_piece_poisson_largest_inner_decimated.off -s /notebooks/Platinum_Decomp_Fusion/864691135382617330/decimation_meshlab_25353085.mls\n",
      "done exporting decimated mesh: neuron_864691135382617330_decimated_largest_piece_poisson_largest_inner.off\n",
      "1) Starting: Mesh importing and Pymesh fix\n",
      "loading mesh from vertices and triangles array\n",
      "1) Finished: Mesh importing and Pymesh fix: 0.0003273487091064453\n",
      "2) Staring: Generating CGAL segmentation for neuron\n",
      "Done writing OFF file\n",
      "\n",
      "Starting CGAL segmentation\n",
      "Right before cgal segmentation, clusters = 3, smoothness = 0.2, path_and_filename = /notebooks/Platinum_Decomp_Fusion/temp/86469113538261733000_fixed \n",
      "1\n",
      "Finished CGAL segmentation algorithm: 3.203629732131958\n",
      "2) Finished: Generating CGAL segmentation for neuron: 3.756255865097046\n",
      "3) Staring: Generating Graph Structure and Identifying Soma using soma size threshold  = 3000\n",
      "my_list_keys = [0, 1, 2, 3, 4, 5, 6, 7, 8, 9, 10, 11, 12, 13, 14, 15, 16, 17, 18, 19, 20, 21]\n",
      "changed the median value\n",
      "changed the mean value\n",
      "changed the max value\n",
      "changed the median value\n",
      "changed the mean value\n",
      "changed the max value\n",
      "soma_index = 1\n",
      "3) Finished: Generating Graph Structure and Identifying Soma: 0.012932777404785156\n",
      "Not finding the apical because soma_only option selected\n",
      "6) Staring: Classifying Entire Neuron\n",
      "Total Labels found = {'unsure', 'soma'}\n",
      "6) Finished: Classifying Entire Neuron: 5.245208740234375e-05\n",
      "7) Staring: Transfering Segmentation Labels to Face Labels\n",
      "7) Finished: Transfering Segmentation Labels to Face Labels: 0.033553361892700195\n",
      "8) Staring: Generating final Vertex and Face Labels\n",
      "8) Finished: Generating final Vertex and Face Labels: 0.2942349910736084\n",
      "Returning the soma_sdf value AND the classifier\n",
      "soma_sdf_value = 0.847623\n",
      "segmentation[sorted_medians],median_values[sorted_medians] = (array([ 1,  2,  0, 14, 11,  9,  7,  5, 12,  8, 15,  4,  6, 19, 13, 20, 21,\n",
      "        3, 16, 17, 18, 10]), array([0.847623  , 0.111356  , 0.0889274 , 0.08557525, 0.0789168 ,\n",
      "       0.07515045, 0.07377955, 0.0551733 , 0.0479358 , 0.0467237 ,\n",
      "       0.04545335, 0.0427671 , 0.040336  , 0.0403023 , 0.0392318 ,\n",
      "       0.03752   , 0.0317943 , 0.0296281 , 0.0294771 , 0.0292086 ,\n",
      "       0.0271177 , 0.00995052]))\n",
      "Sizes = [3423, 536, 8953, 112, 311, 280, 1348, 1721, 3202, 1507, 1008, 2487, 1429, 3150, 1904, 1080, 1653, 955, 1604, 159, 280, 98]\n",
      "valid_soma_segments_width\n",
      "      ------ Found 1 viable somas: [1]\n",
      "Using Poisson Surface Reconstruction for watertightness in soma_volume_ratio\n",
      "xvfb-run -n 6052 -s \"-screen 0 800x600x24\" meshlabserver $@  -i /notebooks/Platinum_Decomp_Fusion/Poisson_temp/neuron_476066.off -o /notebooks/Platinum_Decomp_Fusion/Poisson_temp/neuron_476066_poisson.off -s /notebooks/Platinum_Decomp_Fusion/Poisson_temp/poisson_124114.mls\n",
      "removed temporary input file: /notebooks/Platinum_Decomp_Fusion/Poisson_temp/neuron_476066.off\n",
      "removed temporary output file: /notebooks/Platinum_Decomp_Fusion/Poisson_temp/neuron_476066_poisson.off\n",
      "mesh.is_watertight = True\n",
      "/notebooks/Platinum_Decomp_Fusion/Poisson_temp/poisson_124114.mls is being deleted....\n",
      "Inside sphere validater: ratio_val = 2.6146491146792594\n",
      "----- working on mesh after poisson #1: <trimesh.Trimesh(vertices.shape=(8005, 3), faces.shape=(16006, 3))>\n",
      "xvfb-run -n 9958 -s \"-screen 0 800x600x24\" meshlabserver $@  -i /notebooks/Platinum_Decomp_Fusion/864691135382617330/neuron_864691135382617330_decimated_largest_piece_poisson_largest_inner.off -o /notebooks/Platinum_Decomp_Fusion/864691135382617330/neuron_864691135382617330_decimated_largest_piece_poisson_largest_inner_decimated.off -s /notebooks/Platinum_Decomp_Fusion/864691135382617330/decimation_meshlab_25353085.mls\n",
      "done exporting decimated mesh: neuron_864691135382617330_decimated_largest_piece_poisson_largest_inner.off\n",
      "1) Starting: Mesh importing and Pymesh fix\n",
      "loading mesh from vertices and triangles array\n",
      "1) Finished: Mesh importing and Pymesh fix: 0.0002541542053222656\n",
      "2) Staring: Generating CGAL segmentation for neuron\n",
      "Done writing OFF file\n",
      "\n",
      "Starting CGAL segmentation\n",
      "Right before cgal segmentation, clusters = 3, smoothness = 0.2, path_and_filename = /notebooks/Platinum_Decomp_Fusion/temp/86469113538261733001_fixed \n",
      "1\n",
      "Finished CGAL segmentation algorithm: 0.3482632637023926\n",
      "2) Finished: Generating CGAL segmentation for neuron: 0.41042232513427734\n",
      "3) Staring: Generating Graph Structure and Identifying Soma using soma size threshold  = 3000\n",
      "my_list_keys = [0, 1, 2, 3, 4, 5, 6]\n",
      "soma_index = -1\n",
      "3) Finished: Generating Graph Structure and Identifying Soma: 0.0014982223510742188\n",
      "Not finding the apical because soma_only option selected\n",
      "6) Staring: Classifying Entire Neuron\n",
      "Total Labels found = {'unsure'}\n",
      "6) Finished: Classifying Entire Neuron: 0.00036072731018066406\n",
      "7) Staring: Transfering Segmentation Labels to Face Labels\n",
      "7) Finished: Transfering Segmentation Labels to Face Labels: 0.0036542415618896484\n",
      "8) Staring: Generating final Vertex and Face Labels\n",
      "8) Finished: Generating final Vertex and Face Labels: 0.12628722190856934\n",
      "Returning the soma_sdf value AND the classifier\n",
      "soma_sdf_value = 0\n",
      "segmentation[sorted_medians],median_values[sorted_medians] = (array([0, 1, 6, 5, 3, 4, 2]), array([0.885963  , 0.154745  , 0.06080995, 0.0581409 , 0.0515606 ,\n",
      "       0.0266828 , 0.0201806 ]))\n",
      "Sizes = [2355, 498, 350, 299, 190, 199, 109]\n",
      "valid_soma_segments_width\n",
      "      ------ Found 1 viable somas: [0]\n",
      "Using Poisson Surface Reconstruction for watertightness in soma_volume_ratio\n",
      "xvfb-run -n 1356 -s \"-screen 0 800x600x24\" meshlabserver $@  -i /notebooks/Platinum_Decomp_Fusion/Poisson_temp/neuron_670194.off -o /notebooks/Platinum_Decomp_Fusion/Poisson_temp/neuron_670194_poisson.off -s /notebooks/Platinum_Decomp_Fusion/Poisson_temp/poisson_23322.mls\n",
      "removed temporary input file: /notebooks/Platinum_Decomp_Fusion/Poisson_temp/neuron_670194.off\n",
      "removed temporary output file: /notebooks/Platinum_Decomp_Fusion/Poisson_temp/neuron_670194_poisson.off\n",
      "mesh.is_watertight = True\n",
      "/notebooks/Platinum_Decomp_Fusion/Poisson_temp/poisson_23322.mls is being deleted....\n",
      "Inside sphere validater: ratio_val = 2.203076407056745\n",
      "\n",
      "\n",
      "\n",
      " Total time for run = 111.3386881351471\n",
      "Before Filtering the number of somas found = 2\n",
      "Performing Soma Mesh Backtracking to original mesh\n",
      "# total split meshes = 9\n",
      "viable_meshes = [0]\n",
      "There were 8 pieces found after size threshold\n",
      "# of soma containing seperate meshes = 1\n",
      "meshes with somas = {0: [0]}\n",
      "\n",
      "\n",
      "----Working on soma-containing mesh piece 0----\n",
      "current_soma_mesh_list = [<trimesh.Trimesh(vertices.shape=(1734, 3), faces.shape=(3423, 3))>]\n",
      "current_mesh = <trimesh.Trimesh(vertices.shape=(190811, 3), faces.shape=(378473, 3))>\n",
      "\n",
      "inside Soma subtraction\n"
     ]
    },
    {
     "name": "stdout",
     "output_type": "stream",
     "text": [
      "mesh pieces in subtact soma BEFORE the filtering inside pieces = [<trimesh.Trimesh(vertices.shape=(93568, 3), faces.shape=(185548, 3))>, <trimesh.Trimesh(vertices.shape=(45531, 3), faces.shape=(90282, 3))>, <trimesh.Trimesh(vertices.shape=(20424, 3), faces.shape=(40376, 3))>, <trimesh.Trimesh(vertices.shape=(14722, 3), faces.shape=(29215, 3))>, <trimesh.Trimesh(vertices.shape=(7153, 3), faces.shape=(14176, 3))>, <trimesh.Trimesh(vertices.shape=(4474, 3), faces.shape=(8911, 3))>]\n",
      "There were 6 pieces found after size threshold\n",
      "mesh pieces in subtact soma AFTER the filtering inside pieces = [<trimesh.Trimesh(vertices.shape=(93568, 3), faces.shape=(185548, 3))>, <trimesh.Trimesh(vertices.shape=(45531, 3), faces.shape=(90282, 3))>, <trimesh.Trimesh(vertices.shape=(20424, 3), faces.shape=(40376, 3))>, <trimesh.Trimesh(vertices.shape=(14722, 3), faces.shape=(29215, 3))>, <trimesh.Trimesh(vertices.shape=(7153, 3), faces.shape=(14176, 3))>, <trimesh.Trimesh(vertices.shape=(4474, 3), faces.shape=(8911, 3))>]\n",
      "Total Time for soma mesh cancellation = 0.696\n",
      "mesh_pieces_without_soma = [<trimesh.Trimesh(vertices.shape=(93568, 3), faces.shape=(185548, 3))>, <trimesh.Trimesh(vertices.shape=(45531, 3), faces.shape=(90282, 3))>, <trimesh.Trimesh(vertices.shape=(20424, 3), faces.shape=(40376, 3))>, <trimesh.Trimesh(vertices.shape=(14722, 3), faces.shape=(29215, 3))>, <trimesh.Trimesh(vertices.shape=(7153, 3), faces.shape=(14176, 3))>, <trimesh.Trimesh(vertices.shape=(4474, 3), faces.shape=(8911, 3))>]\n",
      "Total time for Subtract Soam = 0.6962583065032959\n",
      "mesh_pieces_without_soma_stacked = <trimesh.Trimesh(vertices.shape=(185872, 3), faces.shape=(368508, 3))>\n",
      "Total time for Original_mesh_faces_map for mesh_pieces without soma= 0.2273697853088379\n",
      "soma_faces = [213558 213559 213560 ... 373535 373536 373537]\n",
      "soma_meshes = <trimesh.Trimesh(vertices.shape=(5050, 3), faces.shape=(9965, 3))>\n",
      "poisson_backtrack_distance_threshold = None\n",
      "Using Poisson Surface Reconstruction for watertightness in soma_volume_ratio\n",
      "xvfb-run -n 1097 -s \"-screen 0 800x600x24\" meshlabserver $@  -i /notebooks/Platinum_Decomp_Fusion/Poisson_temp/neuron_5647.off -o /notebooks/Platinum_Decomp_Fusion/Poisson_temp/neuron_5647_poisson.off -s /notebooks/Platinum_Decomp_Fusion/Poisson_temp/poisson_142115.mls\n",
      "removed temporary input file: /notebooks/Platinum_Decomp_Fusion/Poisson_temp/neuron_5647.off\n",
      "removed temporary output file: /notebooks/Platinum_Decomp_Fusion/Poisson_temp/neuron_5647_poisson.off\n",
      "mesh.is_watertight = True\n",
      "/notebooks/Platinum_Decomp_Fusion/Poisson_temp/poisson_142115.mls is being deleted....\n",
      "Inside sphere validater: ratio_val = 2.999123442124214\n",
      "Performing Soma Mesh Backtracking to original mesh\n",
      "# total split meshes = 9\n",
      "viable_meshes = [0]\n",
      "There were 8 pieces found after size threshold\n",
      "# of soma containing seperate meshes = 1\n",
      "meshes with somas = {0: [0]}\n",
      "\n",
      "\n",
      "----Working on soma-containing mesh piece 0----\n",
      "current_soma_mesh_list = [<trimesh.Trimesh(vertices.shape=(1190, 3), faces.shape=(2355, 3))>]\n",
      "current_mesh = <trimesh.Trimesh(vertices.shape=(190811, 3), faces.shape=(378473, 3))>\n",
      "\n",
      "inside Soma subtraction\n",
      "mesh pieces in subtact soma BEFORE the filtering inside pieces = [<trimesh.Trimesh(vertices.shape=(128569, 3), faces.shape=(255208, 3))>, <trimesh.Trimesh(vertices.shape=(35396, 3), faces.shape=(70016, 3))>, <trimesh.Trimesh(vertices.shape=(11161, 3), faces.shape=(22059, 3))>, <trimesh.Trimesh(vertices.shape=(8416, 3), faces.shape=(16693, 3))>, <trimesh.Trimesh(vertices.shape=(1515, 3), faces.shape=(3006, 3))>, <trimesh.Trimesh(vertices.shape=(1229, 3), faces.shape=(2393, 3))>, <trimesh.Trimesh(vertices.shape=(778, 3), faces.shape=(1556, 3))>]\n",
      "There were 7 pieces found after size threshold\n",
      "mesh pieces in subtact soma AFTER the filtering inside pieces = [<trimesh.Trimesh(vertices.shape=(128569, 3), faces.shape=(255208, 3))>, <trimesh.Trimesh(vertices.shape=(35396, 3), faces.shape=(70016, 3))>, <trimesh.Trimesh(vertices.shape=(11161, 3), faces.shape=(22059, 3))>, <trimesh.Trimesh(vertices.shape=(8416, 3), faces.shape=(16693, 3))>, <trimesh.Trimesh(vertices.shape=(1515, 3), faces.shape=(3006, 3))>, <trimesh.Trimesh(vertices.shape=(1229, 3), faces.shape=(2393, 3))>, <trimesh.Trimesh(vertices.shape=(778, 3), faces.shape=(1556, 3))>]\n",
      "Total Time for soma mesh cancellation = 0.656\n",
      "mesh_pieces_without_soma = [<trimesh.Trimesh(vertices.shape=(128569, 3), faces.shape=(255208, 3))>, <trimesh.Trimesh(vertices.shape=(35396, 3), faces.shape=(70016, 3))>, <trimesh.Trimesh(vertices.shape=(11161, 3), faces.shape=(22059, 3))>, <trimesh.Trimesh(vertices.shape=(8416, 3), faces.shape=(16693, 3))>, <trimesh.Trimesh(vertices.shape=(1515, 3), faces.shape=(3006, 3))>, <trimesh.Trimesh(vertices.shape=(1229, 3), faces.shape=(2393, 3))>, <trimesh.Trimesh(vertices.shape=(778, 3), faces.shape=(1556, 3))>]\n",
      "Total time for Subtract Soam = 0.6567513942718506\n",
      "mesh_pieces_without_soma_stacked = <trimesh.Trimesh(vertices.shape=(187064, 3), faces.shape=(370931, 3))>\n",
      "Total time for Original_mesh_faces_map for mesh_pieces without soma= 0.2451000213623047\n",
      "soma_faces = [11861 11862 11863 ... 82227 82228 82647]\n",
      "soma_meshes = <trimesh.Trimesh(vertices.shape=(3820, 3), faces.shape=(7542, 3))>\n",
      "poisson_backtrack_distance_threshold = None\n",
      "Using Poisson Surface Reconstruction for watertightness in soma_volume_ratio\n",
      "xvfb-run -n 7415 -s \"-screen 0 800x600x24\" meshlabserver $@  -i /notebooks/Platinum_Decomp_Fusion/Poisson_temp/neuron_903369.off -o /notebooks/Platinum_Decomp_Fusion/Poisson_temp/neuron_903369_poisson.off -s /notebooks/Platinum_Decomp_Fusion/Poisson_temp/poisson_412951.mls\n",
      "removed temporary input file: /notebooks/Platinum_Decomp_Fusion/Poisson_temp/neuron_903369.off\n",
      "removed temporary output file: /notebooks/Platinum_Decomp_Fusion/Poisson_temp/neuron_903369_poisson.off\n",
      "mesh.is_watertight = True\n",
      "/notebooks/Platinum_Decomp_Fusion/Poisson_temp/poisson_412951.mls is being deleted....\n",
      "Inside sphere validater: ratio_val = 2.5720445695784573\n",
      "Soma List = [<trimesh.Trimesh(vertices.shape=(5050, 3), faces.shape=(9965, 3))>, <trimesh.Trimesh(vertices.shape=(3820, 3), faces.shape=(7542, 3))>]\n",
      "soma_mesh_list_centers = [array([464662.59483168, 769808.27283168, 792359.5169505 ]), array([594661.62128272, 878392.65256545, 829248.78044503])]\n"
     ]
    }
   ],
   "source": [
    "# --- 1) Doing the soma detection\n",
    "if somas is None:\n",
    "    soma_mesh_list,run_time,total_soma_list_sdf = sm.extract_soma_center(segment_id,\n",
    "                                             current_neuron.vertices,\n",
    "                                             current_neuron.faces)\n",
    "else:\n",
    "    soma_mesh_list,run_time,total_soma_list_sdf = somas\n",
    "\n",
    "# geting the soma centers\n",
    "if len(soma_mesh_list) <= 0:\n",
    "    print(f\"**** No Somas Found for Mesh {segment_id} so just one mesh\")\n",
    "    soma_mesh_list_centers = []\n",
    "    if return_no_somas:\n",
    "        return_value= soma_mesh_list_centers\n",
    "    raise Exception(\"Processing of No Somas is not yet implemented yet\")\n",
    "else:\n",
    "    #compute the soma centers\n",
    "    print(f\"Soma List = {soma_mesh_list}\")\n",
    "\n",
    "    soma_mesh_list_centers = sm.find_soma_centroids(soma_mesh_list)\n",
    "    print(f\"soma_mesh_list_centers = {soma_mesh_list_centers}\")"
   ]
  },
  {
   "cell_type": "code",
   "execution_count": 9,
   "metadata": {},
   "outputs": [
    {
     "name": "stdout",
     "output_type": "stream",
     "text": [
      "# total split meshes = 108\n",
      "There were 107 pieces found after size threshold\n",
      "# of soma containing seperate meshes = 1\n",
      "meshes with somas = {0: [0, 1]}\n"
     ]
    }
   ],
   "source": [
    "#--- 2) getting the soma submeshes that are connected to each soma and identifiying those that aren't (and eliminating any mesh pieces inside the soma)\n",
    "\n",
    "main_mesh_total = current_neuron\n",
    "\n",
    "\n",
    "#finding the mesh pieces that contain the soma\n",
    "#splitting the current neuron into distinct pieces\n",
    "split_meshes = tu.split_significant_pieces(\n",
    "                            main_mesh_total,\n",
    "                            significance_threshold=sig_th_initial_split,\n",
    "                            print_flag=False)\n",
    "\n",
    "print(f\"# total split meshes = {len(split_meshes)}\")\n",
    "\n",
    "\n",
    "#returns the index of the split_meshes index that contains each soma    \n",
    "containing_mesh_indices = sm.find_soma_centroid_containing_meshes(soma_mesh_list,\n",
    "                                        split_meshes)\n",
    "\n",
    "# filtering away any of the inside floating pieces: \n",
    "non_soma_touching_meshes = [m for i,m in enumerate(split_meshes)\n",
    "                 if i not in list(containing_mesh_indices.values())]\n",
    "\n",
    "\n",
    "#Adding the step that will filter away any pieces that are inside the soma\n",
    "if len(non_soma_touching_meshes) > 0 and len(soma_mesh_list) > 0:\n",
    "    \"\"\"\n",
    "    *** want to save these pieces that are inside of the soma***\n",
    "    \"\"\"\n",
    "\n",
    "    non_soma_touching_meshes,inside_pieces = sm.filter_away_inside_soma_pieces(soma_mesh_list,non_soma_touching_meshes,\n",
    "                                    significance_threshold=sig_th_initial_split,\n",
    "                                    return_inside_pieces = True)                                                      \n",
    "\n",
    "\n",
    "split_meshes # the meshes of the original mesh\n",
    "containing_mesh_indices #the mapping of each soma centroid to the correct split mesh\n",
    "soma_containing_meshes = sm.grouping_containing_mesh_indices(containing_mesh_indices)\n",
    "\n",
    "soma_touching_meshes = [split_meshes[k] for k in soma_containing_meshes.keys()]\n",
    "\n",
    "\n",
    "#     print(f\"# of non soma touching seperate meshes = {len(non_soma_touching_meshes)}\")\n",
    "#     print(f\"# of inside pieces = {len(inside_pieces)}\")\n",
    "print(f\"# of soma containing seperate meshes = {len(soma_touching_meshes)}\")\n",
    "print(f\"meshes with somas = {soma_containing_meshes}\")\n",
    "\n",
    "\n",
    "\n",
    "\n"
   ]
  },
  {
   "cell_type": "code",
   "execution_count": 10,
   "metadata": {},
   "outputs": [
    {
     "name": "stdout",
     "output_type": "stream",
     "text": [
      "\n",
      "\n",
      "----Working on soma-containing mesh piece 0----\n",
      "\n",
      "inside Soma subtraction\n",
      "mesh pieces in subtact soma BEFORE the filtering inside pieces = [<trimesh.Trimesh(vertices.shape=(185730, 3), faces.shape=(370654, 3))>, <trimesh.Trimesh(vertices.shape=(128995, 3), faces.shape=(257202, 3))>, <trimesh.Trimesh(vertices.shape=(125943, 3), faces.shape=(251486, 3))>, <trimesh.Trimesh(vertices.shape=(82227, 3), faces.shape=(163975, 3))>, <trimesh.Trimesh(vertices.shape=(61258, 3), faces.shape=(122260, 3))>, <trimesh.Trimesh(vertices.shape=(46188, 3), faces.shape=(92114, 3))>, <trimesh.Trimesh(vertices.shape=(34195, 3), faces.shape=(68245, 3))>, <trimesh.Trimesh(vertices.shape=(29600, 3), faces.shape=(59059, 3))>, <trimesh.Trimesh(vertices.shape=(16660, 3), faces.shape=(33269, 3))>, <trimesh.Trimesh(vertices.shape=(5880, 3), faces.shape=(11727, 3))>, <trimesh.Trimesh(vertices.shape=(4432, 3), faces.shape=(8797, 3))>, <trimesh.Trimesh(vertices.shape=(3264, 3), faces.shape=(6519, 3))>]\n",
      "There were 12 pieces found after size threshold\n",
      "mesh pieces in subtact soma AFTER the filtering inside pieces = [<trimesh.Trimesh(vertices.shape=(185730, 3), faces.shape=(370654, 3))>, <trimesh.Trimesh(vertices.shape=(128995, 3), faces.shape=(257202, 3))>, <trimesh.Trimesh(vertices.shape=(125943, 3), faces.shape=(251486, 3))>, <trimesh.Trimesh(vertices.shape=(82227, 3), faces.shape=(163975, 3))>, <trimesh.Trimesh(vertices.shape=(61258, 3), faces.shape=(122260, 3))>, <trimesh.Trimesh(vertices.shape=(46188, 3), faces.shape=(92114, 3))>, <trimesh.Trimesh(vertices.shape=(34195, 3), faces.shape=(68245, 3))>, <trimesh.Trimesh(vertices.shape=(29600, 3), faces.shape=(59059, 3))>, <trimesh.Trimesh(vertices.shape=(16660, 3), faces.shape=(33269, 3))>, <trimesh.Trimesh(vertices.shape=(5880, 3), faces.shape=(11727, 3))>, <trimesh.Trimesh(vertices.shape=(4432, 3), faces.shape=(8797, 3))>, <trimesh.Trimesh(vertices.shape=(3264, 3), faces.shape=(6519, 3))>]\n",
      "Total Time for soma mesh cancellation = 2.991\n",
      "Total time for Subtract Soam = 2.9919137954711914\n",
      "Total time for Original_mesh_faces_map for mesh_pieces without soma= 1.0349631309509277\n",
      "Total time for Original_mesh_faces_map for somas= 0.9236876964569092\n",
      "Total time for sig_non_soma_pieces= 1.4085562229156494\n",
      "Total time for split= 0.05471181869506836\n"
     ]
    },
    {
     "name": "stderr",
     "output_type": "stream",
     "text": [
      "/meshAfterParty/trimesh_utils.py:314: VisibleDeprecationWarning: Creating an ndarray from ragged nested sequences (which is a list-or-tuple of lists-or-tuples-or ndarrays with different lengths or shapes) is deprecated. If you meant to do this, you must specify 'dtype=object' when creating the ndarray\n",
      "  ordered_comp_indices = np.array([k.astype(\"int\") for k in ordered_components])\n"
     ]
    },
    {
     "name": "stdout",
     "output_type": "stream",
     "text": [
      "Total time for mesh_pieces_connectivity= 24.88273525238037\n",
      "# of insignificant_limbs = 0 with trimesh : []\n"
     ]
    }
   ],
   "source": [
    "tu = reload(tu)\n",
    "#--- 3)  Soma Extraction was great (but it wasn't the original soma faces), so now need to get the original soma faces and the original non-soma faces of original pieces\n",
    "\n",
    "#     sk.graph_skeleton_and_mesh(other_meshes=[soma_meshes])\n",
    "\n",
    "\"\"\"\n",
    "for each soma touching mesh get the following:\n",
    "1) original soma meshes\n",
    "2) significant mesh pieces touching these somas\n",
    "3) The soma connectivity to each of the significant mesh pieces\n",
    "-- later will just translate the \n",
    "\n",
    "\n",
    "Process: \n",
    "\n",
    "1) Final all soma faces (through soma extraction and then soma original faces function)\n",
    "2) Subtact all soma faces from original mesh\n",
    "3) Find all significant mesh pieces\n",
    "4) Backtrack significant mesh pieces to orignal mesh and find connectivity of each to all\n",
    "   the available somas\n",
    "Conclusion: Will have connectivity map\n",
    "\n",
    "\n",
    "\"\"\"\n",
    "\n",
    "soma_touching_mesh_data = dict()\n",
    "\n",
    "for z,(mesh_idx, soma_idxes) in enumerate(soma_containing_meshes.items()):\n",
    "    soma_touching_mesh_data[z] = dict()\n",
    "    print(f\"\\n\\n----Working on soma-containing mesh piece {z}----\")\n",
    "\n",
    "    #1) Final all soma faces (through soma extraction and then soma original faces function)\n",
    "    current_mesh = split_meshes[mesh_idx]\n",
    "\n",
    "    current_soma_mesh_list = [soma_mesh_list[k] for k in soma_idxes]\n",
    "\n",
    "    current_time = time.time()\n",
    "    mesh_pieces_without_soma = sm.subtract_soma(current_soma_mesh_list,current_mesh,\n",
    "                                                significance_threshold=250)\n",
    "    print(f\"Total time for Subtract Soam = {time.time() - current_time}\")\n",
    "    current_time = time.time()\n",
    "\n",
    "    mesh_pieces_without_soma_stacked = tu.combine_meshes(mesh_pieces_without_soma)\n",
    "\n",
    "    # find the original soma faces of mesh\n",
    "    soma_faces = tu.original_mesh_faces_map(current_mesh,mesh_pieces_without_soma_stacked,matching=False)\n",
    "    print(f\"Total time for Original_mesh_faces_map for mesh_pieces without soma= {time.time() - current_time}\")\n",
    "    current_time = time.time()\n",
    "    soma_meshes = current_mesh.submesh([soma_faces],append=True,repair=False)\n",
    "\n",
    "    # finding the non-soma original faces\n",
    "    non_soma_faces = tu.original_mesh_faces_map(current_mesh,soma_meshes,matching=False)\n",
    "    non_soma_stacked_mesh = current_mesh.submesh([non_soma_faces],append=True,repair=False)\n",
    "\n",
    "    print(f\"Total time for Original_mesh_faces_map for somas= {time.time() - current_time}\")\n",
    "    current_time = time.time()\n",
    "\n",
    "    # 3) Find all significant mesh pieces\n",
    "    sig_non_soma_pieces,insignificant_limbs = tu.split_significant_pieces(non_soma_stacked_mesh,significance_threshold=limb_threshold,\n",
    "                                                     return_insignificant_pieces=True)\n",
    "\n",
    "    print(f\"Total time for sig_non_soma_pieces= {time.time() - current_time}\")\n",
    "    current_time = time.time()\n",
    "\n",
    "    soma_touching_mesh_data[z][\"branch_meshes\"] = sig_non_soma_pieces\n",
    "\n",
    "    #4) Backtrack significant mesh pieces to orignal mesh and find connectivity of each to all the available somas\n",
    "    # get all the seperate mesh faces\n",
    "\n",
    "    #How to seperate the mesh faces\n",
    "    seperate_soma_meshes,soma_face_components = tu.split(soma_meshes,only_watertight=False)\n",
    "    #take the top largest ones depending how many were originally in the soma list\n",
    "    seperate_soma_meshes = seperate_soma_meshes[:len(soma_mesh_list)]\n",
    "    soma_face_components = soma_face_components[:len(soma_mesh_list)]\n",
    "\n",
    "    soma_touching_mesh_data[z][\"soma_meshes\"] = seperate_soma_meshes\n",
    "\n",
    "    print(f\"Total time for split= {time.time() - current_time}\")\n",
    "    current_time = time.time()\n",
    "\n",
    "\n",
    "\n",
    "    soma_to_piece_connectivity = dict()\n",
    "    soma_to_piece_touching_vertices = dict()\n",
    "    soma_to_piece_touching_vertices_idx = dict()\n",
    "    limb_root_nodes = dict()\n",
    "    \n",
    "    m_vert_graph = tu.mesh_vertex_graph(current_mesh)\n",
    "    \n",
    "    for i,curr_soma in enumerate(seperate_soma_meshes):\n",
    "        (connected_mesh_pieces,\n",
    "         connected_mesh_pieces_vertices,\n",
    "         connected_mesh_pieces_vertices_idx) = tu.mesh_pieces_connectivity(\n",
    "                        main_mesh=current_mesh,\n",
    "                        central_piece=curr_soma,\n",
    "                        periphery_pieces = sig_non_soma_pieces,\n",
    "                        return_vertices = True,\n",
    "                        return_vertices_idx=True)\n",
    "        #print(f\"soma {i}: connected_mesh_pieces = {connected_mesh_pieces}\")\n",
    "        soma_to_piece_connectivity[i] = connected_mesh_pieces\n",
    "\n",
    "        soma_to_piece_touching_vertices[i] = dict()\n",
    "        for piece_index,piece_idx in enumerate(connected_mesh_pieces):\n",
    "            limb_root_nodes[piece_idx] = connected_mesh_pieces_vertices[piece_index][0]\n",
    "            \n",
    "            \"\"\" Old way of finding vertex connected components on a mesh without trimesh function\n",
    "            #find the number of touching groups and save those \n",
    "            soma_touching_graph = m_vert_graph.subgraph(connected_mesh_pieces_vertices_idx[piece_index])\n",
    "            soma_con_comp = [current_mesh.vertices[np.array(list(k)).astype(\"int\")] for k in list(nx.connected_components(soma_touching_graph))]\n",
    "            soma_to_piece_touching_vertices[i][piece_idx] = soma_con_comp\n",
    "            \"\"\"\n",
    "            \n",
    "            soma_to_piece_touching_vertices[i][piece_idx] = tu.split_vertex_list_into_connected_components(\n",
    "                                                vertex_indices_list=connected_mesh_pieces_vertices_idx[piece_index],\n",
    "                                                mesh=current_mesh, \n",
    "                                                vertex_graph=m_vert_graph, \n",
    "                                                return_coordinates=True\n",
    "                                               )\n",
    "            \n",
    "            \n",
    "            \n",
    "            \n",
    "\n",
    "#         border_debug = False\n",
    "#         if border_debug:\n",
    "#             print(f\"soma_to_piece_connectivity = {soma_to_piece_connectivity}\")\n",
    "#             print(f\"soma_to_piece_touching_vertices = {soma_to_piece_touching_vertices}\")\n",
    "\n",
    "\n",
    "    print(f\"Total time for mesh_pieces_connectivity= {time.time() - current_time}\")\n",
    "\n",
    "    soma_touching_mesh_data[z][\"soma_to_piece_connectivity\"] = soma_to_piece_connectivity\n",
    "\n",
    "print(f\"# of insignificant_limbs = {len(insignificant_limbs)} with trimesh : {insignificant_limbs}\")\n",
    "\n",
    "\n",
    "\n",
    "# Lets have an alert if there was more than one soma disconnected meshes\n",
    "if len(soma_touching_mesh_data.keys()) > 1:\n",
    "    raise Exception(\"More than 1 disconnected meshes that contain somas\")\n",
    "\n",
    "current_mesh_data = soma_touching_mesh_data\n",
    "soma_containing_idx = 0\n",
    "\n",
    "#doing inversion of the connectivity and touching vertices\n",
    "piece_to_soma_touching_vertices = gu.flip_key_orders_for_dict(soma_to_piece_touching_vertices)\n",
    "\n",
    "\n",
    "# ****Soma Touching mesh Data has the branches and the connectivity (So this is where you end up skipping if you don't have somas)***"
   ]
  },
  {
   "cell_type": "markdown",
   "metadata": {},
   "source": [
    "# Process that will start for each limb"
   ]
  },
  {
   "cell_type": "code",
   "execution_count": 11,
   "metadata": {},
   "outputs": [],
   "source": [
    "import preprocessing_vp2 as pre\n",
    "from copy import deepcopy\n"
   ]
  },
  {
   "cell_type": "code",
   "execution_count": null,
   "metadata": {},
   "outputs": [],
   "source": [
    "proper_limb_mesh_correspondence_MAP = dict()\n",
    "proper_limb_mesh_correspondence_MP = dict()\n",
    "limb_to_endpoints_must_keep_list = dict()\n",
    "limb_to_soma_touching_vertices_list = dict()\n",
    "\n",
    "#The containers that will hold the final data for the preprocessed neuron\n",
    "limb_correspondence=dict()\n",
    "limb_concept_networks=dict()\n",
    "limb_labels=dict()"
   ]
  },
  {
   "cell_type": "code",
   "execution_count": 90,
   "metadata": {
    "scrolled": true
   },
   "outputs": [
    {
     "name": "stderr",
     "output_type": "stream",
     "text": [
      "\r",
      "  0%|          | 0/1 [00:00<?, ?it/s]"
     ]
    },
    {
     "name": "stdout",
     "output_type": "stream",
     "text": [
      "\n",
      "\n",
      "----- Working on Proper Limb #11 ---------\n",
      "Time for preparing soma vertices and root: 0.0003113746643066406\n",
      "smooth_neighborhood = 1\n"
     ]
    },
    {
     "data": {
      "application/vnd.jupyter.widget-view+json": {
       "model_id": "5565b8f3dd834ffbbc7ffbcc5747a442",
       "version_major": 2,
       "version_minor": 0
      },
      "text/plain": [
       "HBox(children=(FloatProgress(value=0.0, max=3263.0), HTML(value='')))"
      ]
     },
     "metadata": {},
     "output_type": "display_data"
    },
    {
     "name": "stderr",
     "output_type": "stream",
     "text": [
      "\r",
      "100%|██████████| 1/1 [00:00<00:00, 17.14it/s]"
     ]
    },
    {
     "name": "stdout",
     "output_type": "stream",
     "text": [
      "\n",
      "Time for 1st pass MP skeletonization: 0.1267991065979004\n",
      "branches_touching_root = [0]\n",
      "empty_indices % = 0.0\n",
      " conflict_indices % = 0.0\n"
     ]
    },
    {
     "name": "stderr",
     "output_type": "stream",
     "text": [
      "\n"
     ]
    },
    {
     "data": {
      "application/vnd.jupyter.widget-view+json": {
       "model_id": "48bd898023294030a84e032769857ee3",
       "version_major": 2,
       "version_minor": 0
      },
      "text/plain": [
       "HBox(children=(FloatProgress(value=1.0, bar_style='info', layout=Layout(width='20px'), max=1.0), HTML(value=''…"
      ]
     },
     "metadata": {},
     "output_type": "display_data"
    },
    {
     "name": "stdout",
     "output_type": "stream",
     "text": [
      "\n",
      "AFTER face_lookup_resolved_test\n"
     ]
    },
    {
     "data": {
      "application/vnd.jupyter.widget-view+json": {
       "model_id": "2c638c0e11fd47fe8ca25efb0c6734f4",
       "version_major": 2,
       "version_minor": 0
      },
      "text/plain": [
       "HBox(children=(FloatProgress(value=0.0, max=1.0), HTML(value='')))"
      ]
     },
     "metadata": {},
     "output_type": "display_data"
    },
    {
     "name": "stdout",
     "output_type": "stream",
     "text": [
      "\n",
      "Decomposing first pass: 0.15094542503356934\n",
      "Found len(mesh_large_idx) MAP candidates: [6519]\n",
      "mesh_large_connectivity: 0.00012135505676269531\n",
      "Finding MAP candidates connected components: 8.869171142578125e-05\n",
      "len(filtered_pieces) = 1\n",
      "skeleton_connectivity_MP : 0.004496335983276367\n",
      "Grouping MP Sublimbs by Graph: 5.364418029785156e-05\n",
      "Divinding into MP and MAP pieces: 2.384185791015625e-06\n",
      "--- Working on MAP piece 0---\n",
      "MAP Filtering Soma Pieces: 0.002767324447631836\n",
      "inside skeletonize_connected_branch and use_surface_after_CGAL=False, surface_reconstruction_size=500\n",
      "     Starting Screened Poisson\n",
      "xvfb-run -n 9720 -s \"-screen 0 800x600x24\" meshlabserver $@  -i /notebooks/Platinum_Decomp_Fusion/temp/None.off -o /notebooks/Platinum_Decomp_Fusion/temp/None_poisson.off -s /notebooks/Platinum_Decomp_Fusion/temp/poisson_232214.mls\n",
      "removed temporary input file: /notebooks/Platinum_Decomp_Fusion/temp/None.off\n",
      "removed temporary output file: /notebooks/Platinum_Decomp_Fusion/temp/None_poisson.off\n",
      "Using the close holes feature\n",
      "xvfb-run -n 6800 -s \"-screen 0 800x600x24\" meshlabserver $@  -i /notebooks/Platinum_Decomp_Fusion/temp/neuron_85979.off -o /notebooks/Platinum_Decomp_Fusion/temp/neuron_85979_fill_holes.off -s /notebooks/Platinum_Decomp_Fusion/temp/fill_holes_815984.mls\n",
      "removed temporary input file: /notebooks/Platinum_Decomp_Fusion/temp/neuron_85979.off\n",
      "removed temporary output file: /notebooks/Platinum_Decomp_Fusion/temp/neuron_85979_fill_holes.off\n",
      "-----Time for Screened Poisson= 6.857541084289551\n",
      "     Starting Calcification\n",
      "Before mesh subtraction number of skeleton edges = 89\n",
      "Inside mesh subtraction, len(main_mesh_bbox_restricted.faces) = 6412\n"
     ]
    },
    {
     "data": {
      "application/vnd.jupyter.widget-view+json": {
       "model_id": "2369f830d3fd43fcb43fad46944723b2",
       "version_major": 2,
       "version_minor": 0
      },
      "text/plain": [
       "HBox(children=(FloatProgress(value=1.0, bar_style='info', layout=Layout(width='20px'), max=1.0), HTML(value=''…"
      ]
     },
     "metadata": {},
     "output_type": "display_data"
    },
    {
     "name": "stdout",
     "output_type": "stream",
     "text": [
      "\n",
      "Total Mesh subtraction time = 0.4497\n"
     ]
    },
    {
     "data": {
      "application/vnd.jupyter.widget-view+json": {
       "model_id": "c5939d0bc58e410b8710af626ef914c0",
       "version_major": 2,
       "version_minor": 0
      },
      "text/plain": [
       "HBox(children=(FloatProgress(value=1.0, bar_style='info', layout=Layout(width='20px'), max=1.0), HTML(value=''…"
      ]
     },
     "metadata": {},
     "output_type": "display_data"
    },
    {
     "name": "stdout",
     "output_type": "stream",
     "text": [
      "\n",
      "No skeletons to stack so returning empty list\n",
      "len_subgraphs AT BEGINNING of the loop\n"
     ]
    },
    {
     "data": {
      "application/vnd.jupyter.widget-view+json": {
       "model_id": "87c9e210fc5b4ad5a86f714c22462274",
       "version_major": 2,
       "version_minor": 0
      },
      "text/plain": [
       "HBox(children=(FloatProgress(value=0.0, max=2.0), HTML(value='')))"
      ]
     },
     "metadata": {},
     "output_type": "display_data"
    },
    {
     "name": "stdout",
     "output_type": "stream",
     "text": [
      "all graph is one component!\n",
      "\n",
      "Total time for skeleton stitching = 0.03287482261657715\n",
      "The process was using a temp folder\n",
      "    Total time for skeletonizing branch: 8.056792974472046\n",
      "skipping soma 1 because closest skeleton node was already end node\n",
      "    Total time for Fixing Skeleton Soma Endpoint Extension : 0.2677876949310303\n",
      "filter_end_node_length = 4001\n",
      "Using Distance measure skeletal_distance\n",
      "Going to ignore certain endnodes that are 5000 nm close to soma border vertices\n",
      "Number of end_nodes BEFORE filtering = 4\n",
      "Using an already specified end node: 89 with index 3checking was correct node end_nodes[index] = 89\n",
      "May Eliminate end_node 3: 89 because path_len to soma border was 2046.3209016773098\n",
      "single_node_to_eliminate = 3\n",
      "all_single_nodes_to_eliminate = [3, 3]\n"
     ]
    },
    {
     "data": {
      "application/vnd.jupyter.widget-view+json": {
       "model_id": "8459011dac63456f915baa8a5302d7c8",
       "version_major": 2,
       "version_minor": 0
      },
      "text/plain": [
       "HBox(children=(FloatProgress(value=0.0, max=3.0), HTML(value='')))"
      ]
     },
     "metadata": {},
     "output_type": "display_data"
    },
    {
     "name": "stdout",
     "output_type": "stream",
     "text": [
      "\n",
      "********COMBINING CLOSE SKELETON NODES WITHIN 700 DISTANCE**********\n",
      "Found 0 valid paths to replace\n",
      "valid_paths = []\n",
      "valid_path_lengths = []\n",
      "No valid paths found so just returning the original\n",
      "skeletonize_and_clean_connected_branch_CGAL: 8.45424509048462\n",
      "Working on limb correspondence for #0 MAP piece\n"
     ]
    },
    {
     "data": {
      "application/vnd.jupyter.widget-view+json": {
       "model_id": "bd9f4319b785492d89ec7d4e755ed5e0",
       "version_major": 2,
       "version_minor": 0
      },
      "text/plain": [
       "HBox(children=(FloatProgress(value=1.0, bar_style='info', layout=Layout(width='20px'), max=1.0), HTML(value=''…"
      ]
     },
     "metadata": {},
     "output_type": "display_data"
    },
    {
     "name": "stdout",
     "output_type": "stream",
     "text": [
      "\n",
      "Total time for decomposition = 0.5364835262298584\n",
      "mesh_correspondence_first_pass: 0.5365166664123535\n",
      "Limb decomposed into 1 branches\n",
      "divided_skeleton_graph_recovered = (85, 2, 3) and \n",
      "current_mesh_data[0]['branch_skeletons_cleaned'].shape = (85, 2, 3)\n",
      "\n",
      "Number of connected components in deocmposed recovered graph = 1\n",
      "Number of connected components in cleaned skeleton graph= 1\n",
      "The downsampled branches number of connected components = 1\n",
      "Empty submeshes = []\n",
      "\n",
      "\n",
      "--- Working on 1-to-1 correspondence-----\n",
      "max(original_labels),len(original_labels) = (0, 1)\n",
      "empty_indices % = 0.08114741524773739\n",
      " conflict_indices % = 0.0\n"
     ]
    },
    {
     "data": {
      "application/vnd.jupyter.widget-view+json": {
       "model_id": "036976d745344070af2db868443e3a2d",
       "version_major": 2,
       "version_minor": 0
      },
      "text/plain": [
       "HBox(children=(FloatProgress(value=0.0, max=4.0), HTML(value='')))"
      ]
     },
     "metadata": {},
     "output_type": "display_data"
    },
    {
     "name": "stdout",
     "output_type": "stream",
     "text": [
      "\n",
      "AFTER face_lookup_resolved_test\n",
      "Took 0 iterations to expand the label back\n"
     ]
    },
    {
     "data": {
      "application/vnd.jupyter.widget-view+json": {
       "model_id": "08da678caff74ce4bbbdad33c4f97de3",
       "version_major": 2,
       "version_minor": 0
      },
      "text/plain": [
       "HBox(children=(FloatProgress(value=0.0, max=1.0), HTML(value='')))"
      ]
     },
     "metadata": {},
     "output_type": "display_data"
    },
    {
     "name": "stdout",
     "output_type": "stream",
     "text": [
      "\n",
      "Total time for MAP sublimb #0 mesh processing = 9.173044919967651\n",
      "correspondence_1_to_1: 0.17949533462524414\n",
      "Total time for MAP sublimb processing 9.17315125465393\n",
      "***************Arrived at MESH PIECES FOR MAP AND mp***************\n",
      "There were not both MAP and MP pieces so skipping the stitch resolving phase\n",
      "Time for decomp of Limb 11 = 9.456640005111694\n",
      "Starting_branch = 0\n",
      "Start endpt = [586684. 878212. 832844.]\n",
      "Starting_branch endpoints = [[562014. 875362. 853596.]\n",
      " [586684. 878212. 832844.]]\n",
      "Starting_edge inside branches_to_conept = [[562014. 875362. 853596.]\n",
      " [586684. 878212. 832844.]]\n",
      "Done generating concept network \n",
      "\n",
      "\n",
      "recovered_touching_piece = [0]\n",
      "Total time for all limb decomps = 9.471050262451172\n"
     ]
    }
   ],
   "source": [
    "sk = reload(sk)\n",
    "tu = reload(tu)\n",
    "cu = reload(cu)\n",
    "m_sk = reload(m_sk)\n",
    "\n",
    "\n",
    "#For controlling which pieces are MAP\n",
    "width_threshold = 450\n",
    "size_threshold = 1000\n",
    "\n",
    "verbose = True\n",
    "\n",
    "proper_time = time.time()\n",
    "print_fusion_steps=True\n",
    "\n",
    "#parameter for CGAL skeletonization\n",
    "use_surface_after_CGAL=False\n",
    "surface_reconstruction_size = 500\n",
    "\n",
    "#parameters for the stitching:\n",
    "\n",
    "move_MAP_stitch_to_end_or_branch = True\n",
    "distance_to_move_point_threshold=500\n",
    "\n",
    "run_concept_network_checks = True\n",
    "\n",
    "\n",
    "for curr_limb_idx,limb_mesh_mparty in enumerate(current_mesh_data[0][\"branch_meshes\"]):\n",
    "    \n",
    "#     if curr_limb_idx != 11:\n",
    "#         continue\n",
    "    \n",
    "    curr_limb_time = time.time()\n",
    "    print(f\"\\n\\n----- Working on Proper Limb #{curr_limb_idx} ---------\")\n",
    "    \n",
    "    #will store a list of all the endpoints tha tmust be kept:\n",
    "    limb_to_endpoints_must_keep_list[curr_limb_idx] = []\n",
    "    limb_to_soma_touching_vertices_list[curr_limb_idx] = []\n",
    "    \n",
    "    \n",
    "    \n",
    "    \n",
    "    fusion_time = time.time()\n",
    "    # Doing the first pass of surface skeletonization\n",
    "    total_border_vertices = dict()\n",
    "    for l_idx,s_dict in piece_to_soma_touching_vertices.items():\n",
    "        local_b_verts = []\n",
    "        for sm_idx,sm_bord_verts in s_dict.items():\n",
    "            local_b_verts.append(np.vstack(sm_bord_verts))\n",
    "        total_border_vertices[l_idx] = np.vstack(local_b_verts)\n",
    "\n",
    "    #will eventually get the current root from soma_to_piece_touching_vertices[i]\n",
    "    root_curr = total_border_vertices[curr_limb_idx][0]\n",
    "    if print_fusion_steps:\n",
    "        print(f\"Time for preparing soma vertices and root: {time.time() - fusion_time }\")\n",
    "        fusion_time = time.time()\n",
    "    \n",
    "    sk_meshparty_obj = m_sk.skeletonize_mesh_largest_component(limb_mesh_mparty,\n",
    "                                                            root=root_curr,\n",
    "                                                              filter_mesh=False)\n",
    "\n",
    "    if print_fusion_steps:\n",
    "        print(f\"Time for 1st pass MP skeletonization: {time.time() - fusion_time }\")\n",
    "        fusion_time = time.time()\n",
    "        \n",
    "    (segment_branches, #skeleton branches\n",
    "    divided_submeshes, divided_submeshes_idx, #mesh correspondence (mesh and indices)\n",
    "    segment_widths_median) = m_sk.skeleton_obj_to_branches(sk_meshparty_obj,\n",
    "                                                          mesh = limb_mesh_mparty,\n",
    "                                                          meshparty_segment_size=meshparty_segment_size)\n",
    "    \n",
    "    \n",
    "    if print_fusion_steps:\n",
    "        print(f\"Decomposing first pass: {time.time() - fusion_time }\")\n",
    "        fusion_time = time.time()\n",
    "    \n",
    "    \n",
    "    \n",
    "\n",
    "\n",
    "    #gettin the branches that should be passed through MAP skeletonization\n",
    "    pieces_above_threshold = np.where(segment_widths_median>width_threshold)[0]\n",
    "\n",
    "    #getting the correspondnece info for those MAP qualifying\n",
    "    width_large = segment_widths_median[pieces_above_threshold]\n",
    "    sk_large = [segment_branches[k] for k in pieces_above_threshold]\n",
    "    mesh_large_idx = [divided_submeshes_idx[k] for k in pieces_above_threshold]\n",
    "    \n",
    "    \n",
    "\n",
    "    mesh_pieces_for_MAP = []\n",
    "\n",
    "    if len(mesh_large_idx) > 0: #will only continue processing if found MAP candidates\n",
    "        \n",
    "        print(f\"Found len(mesh_large_idx) MAP candidates: {[len(k) for k in mesh_large_idx]}\")\n",
    "        \n",
    "        #finds the connectivity edges of all the MAP candidates\n",
    "        mesh_large_connectivity = tu.mesh_list_connectivity(meshes = mesh_large_idx,\n",
    "                                main_mesh = limb_mesh_mparty,\n",
    "                                print_flag = False)\n",
    "        if print_fusion_steps:\n",
    "            print(f\"mesh_large_connectivity: {time.time() - fusion_time }\")\n",
    "            fusion_time = time.time()\n",
    "        \"\"\"\n",
    "        --------------- Grouping MAP candidates ----------------\n",
    "        Purpose: Will see what mesh pieces should be grouped together\n",
    "        to pass through CGAL skeletonization\n",
    "\n",
    "\n",
    "        Pseudocode: \n",
    "        1) build a networkx graph with all nodes for mesh_large_idx indexes\n",
    "        2) Add the edges\n",
    "        3) Find the connected components\n",
    "        4) Find sizes of connected components\n",
    "        5) For all those connected components that are of a large enough size, \n",
    "        add the mesh branches and skeletons to the final list\n",
    "\n",
    "\n",
    "        \"\"\"\n",
    "        G = nx.Graph()\n",
    "        G.add_nodes_from(np.arange(len(mesh_large_idx)))\n",
    "        G.add_edges_from(mesh_large_connectivity)\n",
    "        conn_comp = list(nx.connected_components(G))\n",
    "\n",
    "        filtered_pieces = []\n",
    "\n",
    "        sk_large_size_filt = []\n",
    "        mesh_large_idx_size_filt = []\n",
    "        width_large_size_filt = []\n",
    "\n",
    "        for cc in conn_comp:\n",
    "            total_cc_size = np.sum([len(mesh_large_idx[k]) for k in cc])\n",
    "            if total_cc_size>size_threshold:\n",
    "                #print(f\"cc ({cc}) passed the size threshold because size was {total_cc_size}\")\n",
    "                filtered_pieces.append(pieces_above_threshold[list(cc)])\n",
    "                \n",
    "        if print_fusion_steps:\n",
    "            print(f\"Finding MAP candidates connected components: {time.time() - fusion_time }\")\n",
    "            fusion_time = time.time()\n",
    "\n",
    "        #filtered_pieces: will have the indexes of all the branch candidates that should  be \n",
    "        #grouped together and passed through MAP skeletonization\n",
    "\n",
    "        if len(filtered_pieces) > 0:\n",
    "            print(f\"len(filtered_pieces) = {len(filtered_pieces)}\")\n",
    "            #all the pieces that will require MAP mesh correspondence and skeletonization\n",
    "            #(already organized into their components)\n",
    "            mesh_pieces_for_MAP = [limb_mesh_mparty.submesh([np.concatenate(divided_submeshes_idx[k])],append=True,repair=False) for k in filtered_pieces]\n",
    "            mesh_pieces_for_MAP_face_idx = [np.concatenate(divided_submeshes_idx[k]) for k in filtered_pieces]\n",
    "            \n",
    "            pieces_idx_MP = np.setdiff1d(np.arange(len(divided_submeshes_idx)),np.concatenate(filtered_pieces))\n",
    "\n",
    "            \"\"\"\n",
    "            Old Way: Finding connectivity of pieces through\n",
    "            mesh_idx_MP = [divided_submeshes_idx[k] for k in pieces_idx_MP]\n",
    "\n",
    "            mesh_large_connectivity_MP = tu.mesh_list_connectivity(meshes = mesh_idx_MP,\n",
    "                                    main_mesh = limb_mesh_mparty,\n",
    "                                    print_flag = False)\n",
    "\n",
    "            New Way: going to use skeleton connectivity to determine\n",
    "            connectivity of pieces\n",
    "\n",
    "            Pseudocode: \n",
    "            1)\n",
    "\n",
    "            \"\"\"\n",
    "\n",
    "            skeleton_MP = [segment_branches[k] for k in pieces_idx_MP]\n",
    "            skeleton_connectivity_MP = sk.skeleton_list_connectivity(\n",
    "                                            skeletons=skeleton_MP\n",
    "                                            )\n",
    "            if print_fusion_steps:\n",
    "                print(f\"skeleton_connectivity_MP : {time.time() - fusion_time }\")\n",
    "                fusion_time = time.time()\n",
    "\n",
    "            G = nx.Graph()\n",
    "            G.add_nodes_from(np.arange(len(skeleton_MP)))\n",
    "            G.add_edges_from(skeleton_connectivity_MP)\n",
    "            sublimbs_MP = list(nx.connected_components(G))\n",
    "            sublimbs_MP_orig_idx = [pieces_idx_MP[list(k)] for k in sublimbs_MP]\n",
    "\n",
    "\n",
    "            #concatenate into sublimbs the skeletons and meshes\n",
    "            sublimb_mesh_idx_branches_MP = [divided_submeshes_idx[k] for k in sublimbs_MP_orig_idx]\n",
    "            sublimb_mesh_branches_MP = [[limb_mesh_mparty.submesh([ki],append=True,repair=False)\n",
    "                                        for ki in k] for k in sublimb_mesh_idx_branches_MP]\n",
    "            sublimb_meshes_MP = [limb_mesh_mparty.submesh([np.concatenate(k)],append=True,repair=False)\n",
    "                                                         for k in sublimb_mesh_idx_branches_MP]\n",
    "            sublimb_meshes_MP_face_idx = [np.concatenate(k)\n",
    "                                                         for k in sublimb_mesh_idx_branches_MP]\n",
    "            sublimb_skeleton_branches = [segment_branches[k] for k in sublimbs_MP_orig_idx]\n",
    "            widths_MP = [segment_widths_median[k] for k in sublimbs_MP_orig_idx]\n",
    "            \n",
    "            if print_fusion_steps:\n",
    "                print(f\"Grouping MP Sublimbs by Graph: {time.time() - fusion_time }\")\n",
    "                fusion_time = time.time()\n",
    "\n",
    "    # else: #if no pieces were determine to need MAP processing\n",
    "    #     print(\"No MAP processing needed: just returning the Meshparty skeletonization and mesh correspondence\")\n",
    "    #     raise Exception(\"Returning MP correspondence\")\n",
    "\n",
    "\n",
    "    # nviz.plot_objects(main_mesh=tu.combine_meshes([limb_mesh_mparty,current_neuron[\"S0\"].mesh]),\n",
    "    #                   main_mesh_color=\"green\",\n",
    "    #     skeletons=sk_large_size_filt,\n",
    "    #      meshes=[limb_mesh_mparty.submesh([k],append=True) for k in mesh_large_idx_size_filt],\n",
    "    #       meshes_colors=\"red\")\n",
    "    \n",
    "    \n",
    "    \n",
    "    \n",
    "    \n",
    "    \n",
    "    \n",
    "    \n",
    "    \n",
    "    \n",
    "    #if no sublimbs need to be decomposed with MAP then just reassign all of the previous MP processing to the sublimb_MPs\n",
    "    if len(mesh_pieces_for_MAP) == 0:\n",
    "        sublimb_meshes_MP = [limb_mesh_mparty] #trimesh pieces that have already been passed through MP skeletonization (may not need)\n",
    "        # -- the decomposition information ---\n",
    "        sublimb_mesh_branches_MP = [divided_submeshes] #the mesh branches for all the disconnected sublimbs\n",
    "        sublimb_mesh_idx_branches_MP = [divided_submeshes_idx] #The mesh branches idx that have already passed through MP skeletonization\n",
    "        sublimb_skeleton_branches = [segment_branches]#the skeleton bnraches for all the sublimbs\n",
    "        widths_MP = [segment_widths_median] #the mesh branches widths for all the disconnected groups\n",
    "\n",
    "        MAP_flag = False\n",
    "    else:\n",
    "        MAP_flag = True\n",
    "\n",
    "    \n",
    "\n",
    "    mesh_pieces_for_MAP #trimesh pieces that should go through CGAL skeletonization\n",
    "    sublimb_meshes_MP #trimesh pieces that have already been passed through MP skeletonization (may not need)\n",
    "\n",
    "    # -- the decomposition information ---\n",
    "    sublimb_mesh_branches_MP #the mesh branches for all the disconnected sublimbs\n",
    "    sublimb_mesh_idx_branches_MP #The mesh branches idx that have already passed through MP skeletonization\n",
    "    sublimb_skeleton_branches #the skeleton bnraches for all the sublimbs\n",
    "    widths_MP #the mesh branches widths for all the disconnected groups\n",
    "    \n",
    "    if print_fusion_steps:\n",
    "        print(f\"Divinding into MP and MAP pieces: {time.time() - fusion_time }\")\n",
    "        fusion_time = time.time()\n",
    "\n",
    "    \n",
    "    \n",
    "    # ------------------- At this point have the correct division between MAP and MP ------------------------\n",
    "    \n",
    "    # -------------- Doing the MAP decomposition ------------------ #\n",
    "    global_start_time = time.time()\n",
    "    endpoints_must_keep = dict()\n",
    "\n",
    "    perform_cleaning_checks = False\n",
    "\n",
    "    limb_correspondence_MAP = dict()\n",
    "    \n",
    "    for sublimb_idx,(mesh,mesh_idx) in enumerate(zip(mesh_pieces_for_MAP,mesh_pieces_for_MAP_face_idx)):\n",
    "        print(f\"--- Working on MAP piece {sublimb_idx}---\")\n",
    "        mesh_start_time = time.time()\n",
    "        curr_soma_to_piece_touching_vertices = pre.filter_soma_touching_vertices_dict_by_mesh(\n",
    "        mesh = mesh,\n",
    "        curr_piece_to_soma_touching_vertices = piece_to_soma_touching_vertices[curr_limb_idx]\n",
    "        )\n",
    "        \n",
    "        if print_fusion_steps:\n",
    "            print(f\"MAP Filtering Soma Pieces: {time.time() - fusion_time }\")\n",
    "            fusion_time = time.time()\n",
    "\n",
    "        # ---- 0) Generating the Clean skeletons  -------------------------------------------#\n",
    "        if not curr_soma_to_piece_touching_vertices is None:\n",
    "            total_border_vertices = dict([(k,np.vstack(v)) for k,v in curr_soma_to_piece_touching_vertices.items()])\n",
    "\n",
    "        cleaned_branch,curr_limb_endpoints_must_keep = sk.skeletonize_and_clean_connected_branch_CGAL(\n",
    "            mesh=mesh,\n",
    "            curr_soma_to_piece_touching_vertices=curr_soma_to_piece_touching_vertices,\n",
    "            total_border_vertices=total_border_vertices,\n",
    "            filter_end_node_length=filter_end_node_length,\n",
    "            perform_cleaning_checks=perform_cleaning_checks,\n",
    "            combine_close_skeleton_nodes = combine_close_skeleton_nodes,\n",
    "            combine_close_skeleton_nodes_threshold=combine_close_skeleton_nodes_threshold,\n",
    "        use_surface_after_CGAL=use_surface_after_CGAL,\n",
    "        surface_reconstruction_size=surface_reconstruction_size)\n",
    "        \n",
    "        if not curr_limb_endpoints_must_keep is None:\n",
    "            limb_to_endpoints_must_keep_list[curr_limb_idx].append(curr_limb_endpoints_must_keep)\n",
    "            limb_to_soma_touching_vertices_list[curr_limb_idx].append(curr_soma_to_piece_touching_vertices)\n",
    "        else:\n",
    "            print(\"Inside MAP decomposition and curr_limb_endpoints_must_keep was None\")\n",
    "\n",
    "        if len(cleaned_branch) == 0:\n",
    "            raise Exception(f\"Found a zero length skeleton for limb {z} of trmesh {branch}\")\n",
    "            \n",
    "        if print_fusion_steps:\n",
    "            print(f\"skeletonize_and_clean_connected_branch_CGAL: {time.time() - fusion_time }\")\n",
    "            fusion_time = time.time()\n",
    "\n",
    "        # ---- 1) Generating Initial Mesh Correspondence -------------------------------------------#\n",
    "        start_time = time.time()\n",
    "\n",
    "        print(f\"Working on limb correspondence for #{sublimb_idx} MAP piece\")\n",
    "        local_correspondence = pre.mesh_correspondence_first_pass(mesh=mesh,\n",
    "                                                             skeleton=cleaned_branch,\n",
    "                                                             distance_by_mesh_center=distance_by_mesh_center)\n",
    "\n",
    "\n",
    "        print(f\"Total time for decomposition = {time.time() - start_time}\")\n",
    "        if print_fusion_steps:\n",
    "            print(f\"mesh_correspondence_first_pass: {time.time() - fusion_time }\")\n",
    "            fusion_time = time.time()\n",
    "\n",
    "\n",
    "        #------------- 2) Doing Some checks on the initial corespondence -------- #\n",
    "\n",
    "        perform_cleaning_checks = True       \n",
    "        if perform_cleaning_checks:\n",
    "            pre.check_skeletonization_and_decomp(skeleton=cleaned_branch,\n",
    "                                            local_correspondence=local_correspondence)\n",
    "\n",
    "        # -------3) Finishing off the face correspondence so get 1-to-1 correspondence of mesh face to skeletal piece\n",
    "        local_correspondence_revised = pre.correspondence_1_to_1(mesh=mesh,\n",
    "                                        local_correspondence=local_correspondence,\n",
    "                                        curr_limb_endpoints_must_keep=curr_limb_endpoints_must_keep,\n",
    "                                        curr_soma_to_piece_touching_vertices=curr_soma_to_piece_touching_vertices)\n",
    "        \n",
    "        # -------3b) Fixing the mesh indices to correspond to the larger mesh as a whole\n",
    "        for k,v in local_correspondence_revised.items():\n",
    "            local_correspondence_revised[k][\"branch_face_idx\"] = mesh_idx[local_correspondence_revised[k][\"branch_face_idx\"]]\n",
    "        \n",
    "        print(f\"Total time for MAP sublimb #{sublimb_idx} mesh processing = {time.time() - mesh_start_time}\")\n",
    "        \n",
    "        if print_fusion_steps:\n",
    "            print(f\"correspondence_1_to_1: {time.time() - fusion_time }\")\n",
    "            fusion_time = time.time()\n",
    "\n",
    "        limb_correspondence_MAP[sublimb_idx] = local_correspondence_revised\n",
    "\n",
    "    print(f\"Total time for MAP sublimb processing {time.time() - global_start_time}\")\n",
    "\n",
    "    \n",
    "\n",
    "    \n",
    "    \n",
    "    # ----------------- Part B: Doing the MP Decomposition ---------------------- #\n",
    "    \n",
    "    \n",
    "    \n",
    "    \n",
    "    sublimb_meshes_MP #trimesh pieces that have already been passed through MP skeletonization (may not need)\n",
    "    # -- the decomposition information ---\n",
    "    sublimb_mesh_branches_MP #the mesh branches for all the disconnected sublimbs\n",
    "    sublimb_mesh_idx_branches_MP #The mesh branches idx that have already passed through MP skeletonization\n",
    "    sublimb_skeleton_branches #the skeleton bnraches for all the sublimbs\n",
    "    widths_MP #the mesh branches widths for all the disconnected groups\n",
    "\n",
    "    limb_correspondence_MP = dict()\n",
    "\n",
    "    print(\"***************Arrived at MESH PIECES FOR MAP AND mp***************\")\n",
    "    for sublimb_idx,mesh in enumerate(sublimb_meshes_MP):\n",
    "        print(f\"---- Working on MP Decomposition #{sublimb_idx} ----\")\n",
    "        mesh_start_time = time.time()\n",
    "\n",
    "        if len(sublimb_meshes_MP) == 1 and MAP_flag == False:\n",
    "            print(\"Using Quicker soma_to_piece_touching_vertices because no MAP and only one sublimb_mesh piece \")\n",
    "            curr_soma_to_piece_touching_vertices = piece_to_soma_touching_vertices[curr_limb_idx]\n",
    "        else:\n",
    "            curr_soma_to_piece_touching_vertices = pre.filter_soma_touching_vertices_dict_by_mesh(\n",
    "                                                mesh = mesh,\n",
    "                                                curr_piece_to_soma_touching_vertices = piece_to_soma_touching_vertices[curr_limb_idx]\n",
    "                                                )\n",
    "            \n",
    "        if print_fusion_steps:\n",
    "            print(f\"MP filtering soma verts: {time.time() - fusion_time }\")\n",
    "            fusion_time = time.time()\n",
    "\n",
    "        #creating all of the sublimb groups\n",
    "        segment_branches = sublimb_skeleton_branches[sublimb_idx]\n",
    "        whole_sk_MP = sk.stack_skeletons(segment_branches)\n",
    "        branch = mesh\n",
    "        divided_submeshes = sublimb_mesh_branches_MP[sublimb_idx]\n",
    "        divided_submeshes_idx = sublimb_mesh_idx_branches_MP[sublimb_idx]\n",
    "        segment_widths_median = widths_MP[sublimb_idx]\n",
    "\n",
    "        if curr_soma_to_piece_touching_vertices is None:\n",
    "            print(f\"Do Not Need to Fix MP Decomposition {sublimb_idx} so just continuing\")\n",
    "\n",
    "        else:\n",
    "            print(f\"Fixing Possible Soma Extension Branch for Sublimb {sublimb_idx}\")\n",
    "\n",
    "            #If there is some soma touching then need to see if have to fix soma extending pieces\n",
    "            return_info = sk.create_soma_extending_branches(current_skeleton=whole_sk_MP,\n",
    "                                      skeleton_mesh=branch,\n",
    "                                      soma_to_piece_touching_vertices=curr_soma_to_piece_touching_vertices,\n",
    "                                      return_endpoints_must_keep=True,\n",
    "                                         return_created_branch_info=True)\n",
    "            new_sk,endpts,new_branch_info = return_info\n",
    "\n",
    "            if print_fusion_steps:\n",
    "                print(f\"MP (because soma touching verts) create_soma_extending_branches: {time.time() - fusion_time }\")\n",
    "                fusion_time = time.time()\n",
    "\n",
    "            no_soma_extension_add = True\n",
    "            \n",
    "            if not endpts is None:\n",
    "                limb_to_endpoints_must_keep_list[curr_limb_idx].append(endpts)\n",
    "                limb_to_soma_touching_vertices_list[curr_limb_idx].append(curr_soma_to_piece_touching_vertices)\n",
    "            \n",
    "            for sm_idx in new_branch_info.keys():        \n",
    "                for b_vert_idx,br_info in enumerate(new_branch_info[sm_idx]):\n",
    "                    if br_info is None:\n",
    "                        continue\n",
    "                    no_soma_extension_add=False\n",
    "\n",
    "\n",
    "                    #1) Get the newly added branch (and the original vertex which is the first row)\n",
    "                    br_new,sm_bord_verts = br_info[\"new_branch\"],br_info[\"border_verts\"] #this will hold the new branch and the border vertices corresponding to it\n",
    "\n",
    "                    curr_soma_to_piece_touching_vertices_MP = {sm_idx:[sm_bord_verts]}\n",
    "                    endpoints_must_keep_MP = {sm_idx:[br_new[0][1]]}\n",
    "                    \n",
    "\n",
    "                    orig_vertex = br_new[0][0]\n",
    "\n",
    "                    #2) Find the branches that have that coordinate (could be multiple)\n",
    "                    match_sk_branches = sk.find_branch_skeleton_with_specific_coordinate(segment_branches,\n",
    "                        current_coordinate=orig_vertex)\n",
    "\n",
    "                    #2b) If multiple branches: Pick a winning branch that has the most of the\n",
    "                    #    soma touching vertices\n",
    "                    if len(match_sk_branches) > 1:\n",
    "                        bord_verts_tree = KDTree(sm_bord_verts.reshape(-1,3))\n",
    "                        winning_branch = match_sk_branches[0]\n",
    "                        dist,_ = bord_verts_tree.query(divided_submeshes[winning_branch].vertices)\n",
    "                        winning_branch_n_bord_verts = np.sum(dist == 0)\n",
    "\n",
    "                        for i in range(1,len(match_sk_branches)):\n",
    "                            curr_branch = match_sk_branches[i]\n",
    "                            dist,_ = bord_verts_tree.query(divided_submeshes[winning_branch].vertices)\n",
    "                            n_bord_verts = np.sum(dist == 0)\n",
    "                            if n_bord_verts>winning_branch_n_bord_verts:\n",
    "                                winning_branch_n_bord_verts = n_bord_verts\n",
    "                                winning_branch = curr_branch\n",
    "                    elif len(match_sk_branches) == 1:\n",
    "                        winning_branch = match_sk_branches[0]\n",
    "                    else:\n",
    "                        raise Exception(\"No matching branches found for soma extending point\")\n",
    "\n",
    "                    if verbose:\n",
    "                        print(f\"Winning Branch = {winning_branch}\")\n",
    "\n",
    "                    #3) Find the mesh and skeleton of the winning branch\n",
    "                    winning_branch_mesh = divided_submeshes[winning_branch]\n",
    "                    winning_branch_mesh_idx = divided_submeshes_idx[winning_branch]\n",
    "                    winning_branch_sk = segment_branches[winning_branch]\n",
    "\n",
    "                    #4) Add newly created branch to skeleton and divide the skeleton into branches (could make 2 or 3)\n",
    "                    extended_skeleton_to_soma = sk.stack_skeletons([winning_branch_sk,br_new])\n",
    "                    soma_extending_branches = sk.decompose_skeleton_to_branches(extended_skeleton_to_soma)\n",
    "\n",
    "                    #5) Run Adaptive mesh correspondnece using branches and mesh\n",
    "                    local_correspondnece_MP = pre.mesh_correspondence_first_pass(mesh=winning_branch_mesh,\n",
    "                                                  skeleton=extended_skeleton_to_soma)\n",
    "\n",
    "                    local_correspondence_revised = pre.correspondence_1_to_1(mesh=winning_branch_mesh,\n",
    "                                                                local_correspondence=local_correspondnece_MP,\n",
    "                                                                curr_limb_endpoints_must_keep=endpoints_must_keep_MP,\n",
    "                                                                curr_soma_to_piece_touching_vertices=curr_soma_to_piece_touching_vertices_MP)\n",
    "\n",
    "                    # All the things that should be revised:\n",
    "                #     segment_branches, #skeleton branches\n",
    "                #     divided_submeshes, divided_submeshes_idx, #mesh correspondence (mesh and indices)\n",
    "                #     segment_widths_median\n",
    "\n",
    "\n",
    "                    new_submeshes = [k[\"branch_mesh\"] for k in local_correspondence_revised.values()]\n",
    "                    new_submeshes_idx = [winning_branch_mesh_idx[k[\"branch_face_idx\"]] for k in local_correspondence_revised.values()]\n",
    "                    new_skeletal_branches = [k[\"branch_skeleton\"] for k in local_correspondence_revised.values()]\n",
    "\n",
    "                    #calculate the new width\n",
    "                    ray_inter = tu.ray_pyembree.RayMeshIntersector(limb_mesh_mparty)\n",
    "                    new_widths = []\n",
    "                    for new_s_idx in new_submeshes_idx:\n",
    "                        curr_ray_distance = tu.ray_trace_distance(mesh=limb_mesh_mparty, \n",
    "                                            face_inds=new_s_idx,\n",
    "                                           ray_inter=ray_inter)\n",
    "                        new_widths.append(np.median(curr_ray_distance[curr_ray_distance!=0]))\n",
    "\n",
    "\n",
    "                    #6) Remove the original branch and mesh correspondence and replace with the multiples\n",
    "                #     new_segment_branches = deepcopy(segment_branches)\n",
    "                #     new_divided_submeshes = deepcopy(divided_submeshes)\n",
    "                #     new_divided_submeshes_idx = deepcopy(divided_submeshes_idx)\n",
    "                #     new_segment_widths_median = deepcopy(segment_widths_median)\n",
    "\n",
    "                    segment_branches = np.delete(segment_branches,winning_branch)\n",
    "                    segment_branches = np.append(segment_branches,new_skeletal_branches,axis=0)\n",
    "\n",
    "                    divided_submeshes = np.delete(divided_submeshes,winning_branch)\n",
    "                    divided_submeshes = np.append(divided_submeshes,new_submeshes,axis=0)\n",
    "\n",
    "                    divided_submeshes_idx = np.delete(divided_submeshes_idx,winning_branch)\n",
    "                    divided_submeshes_idx = np.append(divided_submeshes_idx,new_submeshes_idx,axis=0)\n",
    "\n",
    "                    segment_widths_median = np.delete(segment_widths_median,winning_branch)\n",
    "                    segment_widths_median = np.append(segment_widths_median,new_widths,axis=0)\n",
    "\n",
    "\n",
    "\n",
    "\n",
    "            if no_soma_extension_add:\n",
    "                print(\"No soma extending branch was added for this sublimb even though it had a soma border (means they already existed)\")\n",
    "\n",
    "            if print_fusion_steps:\n",
    "                print(f\"MP (because soma touching verts) soma extension add: {time.time() - fusion_time }\")\n",
    "                fusion_time = time.time()\n",
    "            \n",
    "        #building the limb correspondence\n",
    "        limb_correspondence_MP[sublimb_idx] = dict()\n",
    "\n",
    "        for zz,b_sk in enumerate(segment_branches):\n",
    "            limb_correspondence_MP[sublimb_idx][zz] = dict(\n",
    "                branch_skeleton = b_sk,\n",
    "                width_from_skeleton = segment_widths_median[zz],\n",
    "                branch_mesh = divided_submeshes[zz],\n",
    "                branch_face_idx = divided_submeshes_idx[zz]\n",
    "                )\n",
    "            \n",
    "            \n",
    "            \n",
    "        \n",
    "        \n",
    "    # ------------------------------------- Part C: Will make sure the correspondences can all be stitched together --------------- #\n",
    "\n",
    "    # Only want to perform this step if both MP and MAP pieces\n",
    "    if len(limb_correspondence_MAP)>0 and len(limb_correspondence_MP)>0:\n",
    "\n",
    "\n",
    "        # ---- Doing the mesh connectivity ---------#\n",
    "        sublimb_meshes_MP = []\n",
    "        sublimb_skeletons_MP = []\n",
    "\n",
    "        for sublimb_key,sublimb_v in limb_correspondence_MP.items():\n",
    "            sublimb_meshes_MP.append(tu.combine_meshes([branch_v[\"branch_mesh\"] for branch_v in sublimb_v.values()]))\n",
    "            sublimb_skeletons_MP.append(sk.stack_skeletons([branch_v[\"branch_skeleton\"] for branch_v in sublimb_v.values()]))\n",
    "\n",
    "        sublimb_meshes_MAP = []\n",
    "        sublimb_skeletons_MAP = []\n",
    "\n",
    "        for sublimb_key,sublimb_v in limb_correspondence_MAP.items():\n",
    "            sublimb_meshes_MAP.append(tu.combine_meshes([branch_v[\"branch_mesh\"] for branch_v in sublimb_v.values()]))\n",
    "            sublimb_skeletons_MAP.append(sk.stack_skeletons([branch_v[\"branch_skeleton\"] for branch_v in sublimb_v.values()]))\n",
    "\n",
    "\n",
    "\n",
    "        mesh_conn,mesh_conn_vertex_groups = tu.mesh_list_connectivity(meshes = sublimb_meshes_MP + sublimb_meshes_MAP,\n",
    "                                            main_mesh = limb_mesh_mparty,\n",
    "                                            min_common_vertices=1,\n",
    "                                            return_vertex_connection_groups=True,\n",
    "                                            return_largest_vertex_connection_group=True,\n",
    "                                            print_flag = False)\n",
    "\n",
    "        #check that every MAP piece mapped to a MP piece\n",
    "        mesh_conn_filt = []\n",
    "        mesh_conn_vertex_groups_filt = []\n",
    "        for j,(m1,m2) in enumerate(mesh_conn):\n",
    "            if m1 < len(sublimb_meshes_MP) and m2 >=len(sublimb_meshes_MP):\n",
    "                mesh_conn_filt.append([m1,m2])\n",
    "                mesh_conn_vertex_groups_filt.append(mesh_conn_vertex_groups[j])\n",
    "        mesh_conn_filt = np.array(mesh_conn_filt)\n",
    "\n",
    "        mesh_conn = mesh_conn_filt\n",
    "        mesh_conn_vertex_groups = mesh_conn_vertex_groups_filt\n",
    "\n",
    "        #check that the mapping should create only one connected component\n",
    "        G = nx.from_edgelist(mesh_conn)\n",
    "\n",
    "        if len(G) != len(sublimb_meshes_MP) + len(sublimb_meshes_MAP):\n",
    "            raise Exception(\"Number of nodes in mesh connectivity graph is not equal to number of  MAP and MP sublimbs\")\n",
    "\n",
    "        connect_comp = list(nx.connected_components(G))\n",
    "        if len(connect_comp)>1:\n",
    "            raise Exception(f\"Mesh connectivity was not one component, instead it was ({len(connect_comp)}): {connect_comp} \")\n",
    "            \n",
    "            \n",
    "            \n",
    "\n",
    "        #adjust the connection indices for MP and MAP indices\n",
    "        mesh_conn_adjusted = np.vstack([mesh_conn[:,0],mesh_conn[:,1]-len(sublimb_meshes_MP)]).T\n",
    "\n",
    "\n",
    "\n",
    "\n",
    "\n",
    "\n",
    "        \"\"\"\n",
    "        Pseudocode:\n",
    "        For each connection edge:\n",
    "            For each vertex connection group:\n",
    "                1) Get the endpoint vertices of the MP skeleton\n",
    "                2) Find the closest endpoint vertex to the vertex connection group (this is MP stitch point)\n",
    "                3) Find the closest skeletal point on MAP pairing (MAP stitch) \n",
    "                4) Find the branches that have that MAP stitch point:\n",
    "                5A) If the number of branches corresponding to stitch point is multipled\n",
    "                    --> then we are stitching at a branching oint\n",
    "                    i) Just add the skeletal segment from MP_stitch to MAP stitch to the MP skeletal segment\n",
    "                    ii) \n",
    "\n",
    "        \"\"\"\n",
    "\n",
    "\n",
    "        for (MP_idx,MAP_idx),v_g in zip(mesh_conn_adjusted,mesh_conn_vertex_groups):\n",
    "            print(f\"\\n---- Working on {(MP_idx,MAP_idx)} connection-----\")\n",
    "\n",
    "            \"\"\"\n",
    "            This old way of getting the endpoints was not good because could possibly just need\n",
    "            a stitching done between original branch junction\n",
    "\n",
    "            skeleton_MP_graph = sk.convert_skeleton_to_graph(curr_skeleton_MP)\n",
    "            endpoint_nodes = xu.get_nodes_of_degree_k(skeleton_MP_graph,1)\n",
    "            endpoint_nodes_coordinates = xu.get_node_attributes(skeleton_MP_graph,node_list=endpoint_nodes)\n",
    "            \"\"\"\n",
    "\n",
    "\n",
    "            #getting the skeletons that should be stitched\n",
    "            curr_skeleton_MP = sk.stack_skeletons([branch_v[\"branch_skeleton\"] for branch_v in limb_correspondence_MP[MP_idx].values()])\n",
    "            curr_skeleton_MAP = sk.stack_skeletons([branch_v[\"branch_skeleton\"] for branch_v in limb_correspondence_MAP[MAP_idx].values()])\n",
    "\n",
    "            #1) Get the endpoint vertices of the MP skeleton (needs to be inside loop because limb correspondence will change)\n",
    "            curr_MP_branch_skeletons = [k[\"branch_skeleton\"] for k in limb_correspondence_MP[MP_idx].values()]\n",
    "            endpoint_nodes_coordinates = np.array([sk.find_branch_endpoints(k) for k in curr_MP_branch_skeletons])\n",
    "            endpoint_nodes_coordinates = np.unique(endpoint_nodes_coordinates.reshape(-1,3),axis=0)\n",
    "\n",
    "            #2) Find the closest endpoint vertex to the vertex connection group (this is MP stitch point)\n",
    "            av_vert = np.mean(v_g,axis=0)\n",
    "            winning_vertex = endpoint_nodes_coordinates[np.argmin(np.linalg.norm(endpoint_nodes_coordinates-av_vert,axis=1))]\n",
    "            print(f\"winning_vertex = {winning_vertex}\")\n",
    "\n",
    "\n",
    "            #2b) Find the branch points where the winning vertex is located\n",
    "            MP_branches_with_stitch_point = sk.find_branch_skeleton_with_specific_coordinate(\n",
    "                divded_skeleton=curr_MP_branch_skeletons,\n",
    "                current_coordinate = winning_vertex\n",
    "            )\n",
    "            print(f\"MP_branches_with_stitch_point = {MP_branches_with_stitch_point}\")\n",
    "\n",
    "\n",
    "            #3) Find the closest skeletal point on MAP pairing (MAP stitch)\n",
    "            MAP_skeleton_coords = np.unique(curr_skeleton_MAP.reshape(-1,3),axis=0)\n",
    "            MAP_stitch_point = MAP_skeleton_coords[np.argmin(np.linalg.norm(MAP_skeleton_coords-winning_vertex,axis=1))]\n",
    "\n",
    "\n",
    "            #3b) Consider if the stitch point is close enough to end or branch node in skeleton:\n",
    "            # and if so then reassign\n",
    "            if move_MAP_stitch_to_end_or_branch:\n",
    "                MAP_stitch_point_new,change_status = sk.move_point_to_nearest_branch_end_point_within_threshold(\n",
    "                                                        graph=curr_skeleton_MAP,\n",
    "                                                        coordinate=MAP_stitch_point,\n",
    "                                                        distance_to_move_point_threshold = distance_to_move_point_threshold,\n",
    "                                                        verbose=True\n",
    "\n",
    "                                                        )\n",
    "                MAP_stitch_point=MAP_stitch_point_new\n",
    "\n",
    "\n",
    "            #4) Find the branches that have that MAP stitch point:\n",
    "            curr_MAP_branch_skeletons = [k[\"branch_skeleton\"] for k in limb_correspondence_MAP[MAP_idx].values()]\n",
    "\n",
    "            MAP_branches_with_stitch_point = sk.find_branch_skeleton_with_specific_coordinate(\n",
    "                divded_skeleton=curr_MAP_branch_skeletons,\n",
    "                current_coordinate = MAP_stitch_point\n",
    "            )\n",
    "\n",
    "\n",
    "            MAP_stitch_point_on_end_or_branch = False\n",
    "            if len(MAP_branches_with_stitch_point)>1:\n",
    "                MAP_stitch_point_on_end_or_branch = True\n",
    "            elif len(MAP_branches_with_stitch_point)==1:\n",
    "                if len(nu.matching_rows(sk.find_branch_endpoints(curr_MAP_branch_skeletons[MAP_branches_with_stitch_point[0]]),\n",
    "                                        MAP_stitch_point))>0:\n",
    "                    MAP_stitch_point_on_end_or_branch=True\n",
    "            else:\n",
    "                raise Exception(\"No matching MAP values\")\n",
    "\n",
    "\n",
    "            print(f\"MAP_branches_with_stitch_point = {MAP_branches_with_stitch_point}\")\n",
    "            print(f\"MAP_stitch_point_on_end_or_branch = {MAP_stitch_point_on_end_or_branch}\")\n",
    "\n",
    "\n",
    "            # ------------------------- This part does the stitching -------------------- #\n",
    "\n",
    "\n",
    "            \"\"\"\n",
    "            Pseudocode:\n",
    "            1) For all MP branches\n",
    "                a) Get neighbor coordinates to MP stitch points\n",
    "                b) Delete the MP Stitch points on each \n",
    "                c) Add skeleton segment from neighbor to MAP stitch point\n",
    "            2) Get skeletons and meshes from MP and MAP pieces\n",
    "            3) Run mesh correspondence to get new meshes and mesh_idx and widths\n",
    "            4a) If MAP_stitch_point_on_end_or_branch is False\n",
    "            - Delete the old MAP branch parts and replace with new MAP ones\n",
    "            4b) Revise the meshes,  mesh_idx, and widths of the MAP pieces\n",
    "            5) Revise the meshes,  mesh_idx, and widths of the MP pieces\n",
    "\n",
    "\n",
    "            \"\"\"\n",
    "\n",
    "            curr_MP_sk = []\n",
    "            for b_idx in MP_branches_with_stitch_point:\n",
    "\n",
    "                #a) Get neighbor coordinates to MP stitch points\n",
    "                MP_stitch_branch_graph = sk.convert_skeleton_to_graph(curr_MP_branch_skeletons[b_idx])\n",
    "                stitch_node = xu.get_nodes_with_attributes_dict(MP_stitch_branch_graph,dict(coordinates=winning_vertex))[0]\n",
    "                stitch_neighbors = xu.get_neighbors(MP_stitch_branch_graph,stitch_node)\n",
    "\n",
    "                if len(stitch_neighbors) != 1:\n",
    "                    raise Exception(\"Not just one neighbor for stitch point of MP branch\")\n",
    "                keep_neighbor = stitch_neighbors[0]  \n",
    "                keep_neighbor_coordinates = xu.get_node_attributes(MP_stitch_branch_graph,node_list=[keep_neighbor])[0]\n",
    "\n",
    "                #b) Delete the MP Stitch points on each \n",
    "                MP_stitch_branch_graph.remove_node(stitch_node)\n",
    "\n",
    "                #c) Add skeleton segment from neighbor to MAP stitch point\n",
    "                new_node_name = np.max(MP_stitch_branch_graph.nodes())+1\n",
    "\n",
    "                MP_stitch_branch_graph.add_nodes_from([(int(new_node_name),{\"coordinates\":MAP_stitch_point})])\n",
    "                MP_stitch_branch_graph.add_weighted_edges_from([(keep_neighbor,new_node_name,np.linalg.norm(MAP_stitch_point - keep_neighbor_coordinates))])\n",
    "\n",
    "                new_MP_skeleton = sk.convert_graph_to_skeleton(MP_stitch_branch_graph)\n",
    "                \n",
    "                #smooth over the new skeleton\n",
    "                new_MP_skeleton_smooth = sk.resize_skeleton_branch(new_MP_skeleton,\n",
    "                                                                  segment_width=meshparty_segment_size)\n",
    "                \n",
    "                curr_MP_sk.append(new_MP_skeleton_smooth)\n",
    "\n",
    "\n",
    "\n",
    "            #2) Get skeletons and meshes from MP and MAP pieces\n",
    "            curr_MAP_sk = [limb_correspondence_MAP[MAP_idx][k][\"branch_skeleton\"] for k in MAP_branches_with_stitch_point]\n",
    "\n",
    "            #2.1) Going to break up the MAP skeleton if need be\n",
    "            \"\"\"\n",
    "            Pseudocode:\n",
    "            a) check to see if it needs to be broken up\n",
    "            If it does:\n",
    "            b) Convert the skeleton into a graph\n",
    "            c) Find the node of the MAP stitch point (where need to do the breaking)\n",
    "            d) Find the degree one nodes\n",
    "            e) For each degree one node:\n",
    "            - Find shortest path from stitch node to end node\n",
    "            - get a subgraph from that path\n",
    "            - convert graph to a skeleton and save as new skeletons\n",
    "\n",
    "            \"\"\"\n",
    "            #a) check to see if it needs to be broken up\n",
    "            if not MAP_stitch_point_on_end_or_branch:\n",
    "                if len(curr_MAP_sk) > 1:\n",
    "                    raise Exception(f\"There was more than one skeleton for MAP skeletons even though MAP_stitch_point_on_end_or_branch = {MAP_stitch_point_on_end_or_branch}\")\n",
    "\n",
    "                curr_MAP_sk_new = []\n",
    "                #b) Convert the skeleton into a graph\n",
    "                curr_MAP_sk_graph = sk.convert_skeleton_to_graph(curr_MAP_sk[0])\n",
    "                #c) Find the node of the MAP stitch point (where need to do the breaking)\n",
    "                MP_stitch_node = xu.get_nodes_with_attributes_dict(curr_MAP_sk_graph,dict(coordinates=MAP_stitch_point))[0]\n",
    "                #d) Find the degree one nodes\n",
    "                curr_end_nodes_for_break = xu.get_nodes_of_degree_k(curr_MAP_sk_graph,1)\n",
    "\n",
    "                #e) For each degree one node:\n",
    "                for e_n in curr_end_nodes_for_break:\n",
    "                    #- Find shortest path from stitch node to end node\n",
    "                    stitch_to_end_path = nx.shortest_path(curr_MAP_sk_graph,MP_stitch_node,e_n)\n",
    "                    #- get a subgraph from that path\n",
    "                    stitch_to_end_path_graph = curr_MAP_sk_graph.subgraph(stitch_to_end_path)\n",
    "                    #- convert graph to a skeleton and save as new skeletons\n",
    "                    new_sk = sk.convert_graph_to_skeleton(stitch_to_end_path_graph)\n",
    "                    curr_MAP_sk_new.append(new_sk)\n",
    "                curr_MAP_sk = curr_MAP_sk_new\n",
    "\n",
    "            curr_MAP_meshes_idx = [limb_correspondence_MAP[MAP_idx][k][\"branch_face_idx\"] for k in MAP_branches_with_stitch_point]\n",
    "\n",
    "            curr_MP_sk\n",
    "            curr_MP_meshes_idx = [limb_correspondence_MP[MP_idx][k][\"branch_face_idx\"] for k in MP_branches_with_stitch_point]\n",
    "\n",
    "            stitching_mesh_idx = np.concatenate(curr_MAP_meshes_idx + curr_MP_meshes_idx)\n",
    "            stitching_mesh = limb_mesh_mparty.submesh([stitching_mesh_idx],append=True,repair=True)\n",
    "            stitching_skeleton_branches = curr_MAP_sk + curr_MP_sk\n",
    "            \"\"\"\n",
    "\n",
    "            ****** NEED TO GET THE RIGHT MESH TO RUN HE IDX ON SO GETS A GOOD MESH (CAN'T BE LIMB_MESH_MPARTY)\n",
    "            BUT MUST BE THE ORIGINAL MAP MESH\n",
    "\n",
    "            mesh_pieces_for_MAP\n",
    "            sublimb_meshes_MP\n",
    "\n",
    "            mesh_pieces_for_MAP_face_idx\n",
    "            sublimb_meshes_MP_face_idx\n",
    "\n",
    "            stitching_mesh = tu.combine_meshes(curr_MAP_meshes + curr_MP_meshes)\n",
    "            stitching_skeleton_branches = curr_MAP_sk + curr_MP_sk\n",
    "\n",
    "            \"\"\"\n",
    "\n",
    "\n",
    "\n",
    "            #3) Run mesh correspondence to get new meshes and mesh_idx and widths\n",
    "            local_correspondnece_stitch = pre.mesh_correspondence_first_pass(mesh=stitching_mesh,\n",
    "                                          skeleton_branches=stitching_skeleton_branches)\n",
    "\n",
    "            local_correspondence_stitch_revised = pre.correspondence_1_to_1(mesh=stitching_mesh,\n",
    "                                                        local_correspondence=local_correspondnece_stitch,\n",
    "                                                        curr_limb_endpoints_must_keep=None,\n",
    "                                                        curr_soma_to_piece_touching_vertices=None)\n",
    "\n",
    "            #Need to readjust the mesh correspondence idx\n",
    "            for k,v in local_correspondence_stitch_revised.items():\n",
    "                local_correspondence_stitch_revised[k][\"branch_face_idx\"] = stitching_mesh_idx[local_correspondence_stitch_revised[k][\"branch_face_idx\"]]\n",
    "\n",
    "            #4a) If MAP_stitch_point_on_end_or_branch is False\n",
    "            #- Delete the old MAP branch parts and replace with new MAP ones\n",
    "            if not MAP_stitch_point_on_end_or_branch:\n",
    "                print(\"Deleting branches from dictionary\")\n",
    "                del limb_correspondence_MAP[MAP_idx][MAP_branches_with_stitch_point[0]]\n",
    "                #adding the two new branches created from the stitching\n",
    "                limb_correspondence_MAP[MAP_idx][MAP_branches_with_stitch_point[0]] = local_correspondence_stitch_revised[0]\n",
    "                limb_correspondence_MAP[MAP_idx][np.max(list(limb_correspondence_MAP[MAP_idx].keys()))+1] = local_correspondence_stitch_revised[1]\n",
    "\n",
    "                #have to reorder the keys\n",
    "                limb_correspondence_MAP[MAP_idx] = dict([(k,limb_correspondence_MAP[MAP_idx][k]) for k in np.sort(list(limb_correspondence_MAP[MAP_idx].keys()))])\n",
    "\n",
    "            else: #4b) Revise the meshes,  mesh_idx, and widths of the MAP pieces if weren't broken up\n",
    "                for j,curr_MAP_idx_fixed in enumerate(MAP_branches_with_stitch_point):\n",
    "                    limb_correspondence_MAP[MAP_idx][curr_MAP_idx_fixed] = local_correspondence_stitch_revised[j]\n",
    "\n",
    "            #5) Revise the meshes,  mesh_idx, and widths of the MP pieces\n",
    "            for j,curr_MP_idx_fixed in enumerate(MP_branches_with_stitch_point):\n",
    "                limb_correspondence_MP[MP_idx][curr_MP_idx_fixed] = local_correspondence_stitch_revised[j+len(curr_MAP_sk)]\n",
    "\n",
    "\n",
    "            print(f\" Finished with {(MP_idx,MAP_idx)} \\n\\n\\n\")\n",
    "\n",
    "\n",
    "    else:\n",
    "        print(\"There were not both MAP and MP pieces so skipping the stitch resolving phase\")\n",
    "    \n",
    "    print(f\"Time for decomp of Limb {curr_limb_idx} = {time.time() - curr_limb_time}\")\n",
    "    # ------------- Saving the MAP and MP Decompositions ---------------- #\n",
    "    proper_limb_mesh_correspondence_MAP[curr_limb_idx] = limb_correspondence_MAP\n",
    "    proper_limb_mesh_correspondence_MP[curr_limb_idx] = limb_correspondence_MP\n",
    "    \n",
    "    \n",
    "    \n",
    "    \n",
    "    \n",
    "    \n",
    "    # ------------------ Part D: Compiling the MP and MAP together ---------------- #\n",
    "    limb_correspondence_individual = dict()\n",
    "    counter = 0\n",
    "\n",
    "    for sublimb_idx,sublimb_branches in limb_correspondence_MAP.items():\n",
    "        for branch_dict in sublimb_branches.values():\n",
    "            limb_correspondence_individual[counter]= branch_dict\n",
    "            counter += 1\n",
    "    for sublimb_idx,sublimb_branches in limb_correspondence_MP.items():\n",
    "        for branch_dict in sublimb_branches.values():\n",
    "            limb_correspondence_individual[counter]= branch_dict\n",
    "            counter += 1\n",
    "\n",
    "    divided_skeletons = np.array([limb_correspondence_individual[k][\"branch_skeleton\"] for k in np.sort(list(limb_correspondence_individual.keys()))])\n",
    "    \n",
    "    # ------------------ Part E: Compiling the MP and MAP together ---------------- #\n",
    "    \n",
    "    \n",
    "    \"\"\"\n",
    "    Concept Network Pseudocode:\n",
    "\n",
    "    Step 0: Compile the Limb correspondence into final form\n",
    "\n",
    "    Make sure these have the same list\n",
    "    limb_to_soma_touching_vertices_list,limb_to_endpoints_must_keep_list\n",
    "\n",
    "    For every dictionary in zip(limb_to_soma_touching_vertices_list[curr_limb_idx],\n",
    "                            limb_to_endpoints_must_keep_list[curr_limb_idx]):\n",
    "\n",
    "        #make sure the dicts have same keys\n",
    "        For every key (represents the soma) in the dictionary:\n",
    "\n",
    "            #make sure the lists have the same sizes\n",
    "            For every item in the list (which would be a list of endpoints or list of groups of vertexes):\n",
    "                #At this point have the soma, the endpoint and the touching vertices\n",
    "\n",
    "                1) find the branch with the endoint that must keep\n",
    "                    --> if multiple endpoints then error\n",
    "                2) Call the branches_to_concept_network with the\n",
    "                   a. divided skeletons\n",
    "                   b. closest endpoint\n",
    "                   c. endpoints of branch (from the branch found)\n",
    "                   d. touching soma vertices\n",
    "\n",
    "                3) Run the checks on the concept network\n",
    "\n",
    "    \"\"\"\n",
    "\n",
    "    curr_touching_verts_list = limb_to_soma_touching_vertices_list[curr_limb_idx]\n",
    "    curr_endpoints_must_keep = limb_to_endpoints_must_keep_list[curr_limb_idx]\n",
    "\n",
    "    limb_to_soma_concept_networks = dict()\n",
    "\n",
    "    if len(curr_touching_verts_list) != len(curr_endpoints_must_keep):\n",
    "        raise Exception(f\"curr_touching_verts_list ({curr_touching_verts_list}) not same size as curr_endpoints_must_keep ({len(curr_endpoints_must_keep)})\")\n",
    "\n",
    "    for touch_vert_dict,endpoints_keep_dict in zip(curr_touching_verts_list,curr_endpoints_must_keep):\n",
    "        if not np.array_equal(list(touch_vert_dict.keys()),list(endpoints_keep_dict.keys())):\n",
    "            raise Exception(f\"touch_vert_dict keys ({touch_vert_dict.keys()}) don't match endpoints_keep_dict keys ({endpoints_keep_dict.keys()})\")\n",
    "        for soma_idx in touch_vert_dict.keys():\n",
    "            soma_t_verts_list = touch_vert_dict[soma_idx]\n",
    "            soma_endpt_list = endpoints_keep_dict[soma_idx]\n",
    "\n",
    "            if soma_idx not in list(limb_to_soma_concept_networks.keys()):\n",
    "                limb_to_soma_concept_networks[soma_idx] = []\n",
    "\n",
    "            if len(soma_t_verts_list) != len(soma_endpt_list):\n",
    "                raise Exception(f\"soma_t_verts_list length ({len(soma_t_verts_list)}) not equal to soma_endpt_list length ({soma_endpt_list})\")\n",
    "            for t_verts,endpt in zip(soma_t_verts_list,soma_endpt_list):\n",
    "\n",
    "\n",
    "\n",
    "                #1) find the branch with the endoint that must keep\n",
    "                start_branch = sk.find_branch_skeleton_with_specific_coordinate(divded_skeleton=divided_skeletons,\n",
    "                                                                current_coordinate=endpt)[0]\n",
    "                print(f\"Starting_branch = {start_branch}\")\n",
    "                print(f\"Start endpt = {endpt}\")\n",
    "                start_branch_endpoints = sk.find_branch_endpoints(divided_skeletons[start_branch])\n",
    "                print(f\"Starting_branch endpoints = {start_branch_endpoints}\")\n",
    "\n",
    "                #2) Call the branches_to_concept_network with the\n",
    "                curr_limb_concept_network = nru.branches_to_concept_network(curr_branch_skeletons=divided_skeletons,\n",
    "                                                                      starting_coordinate=endpt,\n",
    "                                                                      starting_edge=start_branch_endpoints,\n",
    "                                                                      touching_soma_vertices=t_verts)\n",
    "                print(\"Done generating concept network \\n\\n\")\n",
    "\n",
    "\n",
    "                run_checks = True\n",
    "                check_print_flag = True\n",
    "\n",
    "                if run_concept_network_checks:\n",
    "                    #3) Run the checks on the concept network\n",
    "                    #3.1: check to make sure the starting coordinate was recovered\n",
    "\n",
    "                    recovered_touching_piece = xu.get_nodes_with_attributes_dict(curr_limb_concept_network,dict(starting_coordinate=endpt))\n",
    "\n",
    "                    if check_print_flag:\n",
    "                        print(f\"recovered_touching_piece = {recovered_touching_piece}\")\n",
    "                    if recovered_touching_piece[0] != start_branch:\n",
    "                        raise Exception(f\"For limb {curr_limb_idx} and soma {soma_idx} the recovered_touching and original touching do not match\\n\"\n",
    "                                       f\"recovered_touching_piece = {recovered_touching_piece}, original_touching_pieces = {start_branch}\")\n",
    "\n",
    "\n",
    "                    #3.2: Check number of nodes match the number of divided skeletons\n",
    "                    if len(curr_limb_concept_network.nodes()) != len(divided_skeletons):\n",
    "                        raise Exception(\"The number of nodes in the concept graph and number of branches passed to it did not match\\n\"\n",
    "                                      f\"len(curr_limb_concept_network.nodes())={len(curr_limb_concept_network.nodes())}, len(curr_limb_divided_skeletons)= {len(divided_skeletons)}\")\n",
    "\n",
    "                    #3.3: Check that concept network is a connected component\n",
    "                    if nx.number_connected_components(curr_limb_concept_network) > 1:\n",
    "                        raise Exception(\"There was more than 1 connected components in the concept network\")\n",
    "\n",
    "\n",
    "                    #3.4 Make sure the oriiginal divided skeleton endpoints match the concept map endpoints\n",
    "                    for j,un_resized_b in enumerate(divided_skeletons):\n",
    "                        \"\"\"\n",
    "                        Pseudocode: \n",
    "                        1) get the endpoints of the current branch\n",
    "                        2) get the endpoints in the concept map\n",
    "                        3) compare\n",
    "                        - if not equalt then break\n",
    "                        \"\"\"\n",
    "                        #1) get the endpoints of the current branch\n",
    "                        b_endpoints = neuron.Branch(un_resized_b).endpoints\n",
    "                        #2) get the endpoints in the concept map\n",
    "                        graph_endpoints = xu.get_node_attributes(curr_limb_concept_network,attribute_name=\"endpoints\",node_list=[j])[0]\n",
    "                        #print(f\"original_branch_endpoints = {b_endpoints}, concept graph node endpoints = {graph_endpoints}\")\n",
    "                        if not xu.compare_endpoints(b_endpoints,graph_endpoints):\n",
    "                            raise Exception(f\"The node {j} in concept graph endpoints do not match the endpoints of the original branch\\n\"\n",
    "                                           f\"original_branch_endpoints = {b_endpoints}, concept graph node endpoints = {graph_endpoints}\")\n",
    "\n",
    "                limb_to_soma_concept_networks[soma_idx].append(curr_limb_concept_network)\n",
    "    \n",
    "    \n",
    "    #Storing all of the data to be sent to \n",
    "    \n",
    "    limb_correspondence[curr_limb_idx] = limb_correspondence_individual\n",
    "    limb_concept_networks[curr_limb_idx] = limb_to_soma_concept_networks\n",
    "    limb_labels[curr_limb_idx]= \"Unlabeled\"\n",
    "\n",
    "preprocessed_data= dict(\n",
    "    soma_meshes = current_mesh_data[0][\"soma_meshes\"],\n",
    "    soma_to_piece_connectivity = current_mesh_data[0][\"soma_to_piece_connectivity\"],\n",
    "    soma_sdfs = total_soma_list_sdf,\n",
    "    insignificant_limbs=insignificant_limbs,\n",
    "    non_soma_touching_meshes=non_soma_touching_meshes,\n",
    "    inside_pieces=inside_pieces,\n",
    "    limb_correspondence=limb_correspondence,\n",
    "    limb_concept_networks=limb_concept_networks,\n",
    "    limb_labels=limb_labels,\n",
    "    limb_meshes=current_mesh_data[0][\"branch_meshes\"],\n",
    "    )\n",
    "\n",
    "print(f\"Total time for all limb decomps = {time.time() - proper_time}\")"
   ]
  },
  {
   "cell_type": "markdown",
   "metadata": {},
   "source": [
    "# Sending the data to the Neuron Object"
   ]
  },
  {
   "cell_type": "code",
   "execution_count": 97,
   "metadata": {},
   "outputs": [],
   "source": [
    "neuron = reload(neuron)\n",
    "nru = reload(nru)"
   ]
  },
  {
   "cell_type": "code",
   "execution_count": 101,
   "metadata": {},
   "outputs": [
    {
     "name": "stdout",
     "output_type": "stream",
     "text": [
      "Already have preprocessed data\n",
      "--- 1) Finished unpacking preprocessed materials: 0.00011134147644042969\n",
      "total_edges = [['S0', 'L0'], ['S0', 'L2'], ['S0', 'L3'], ['S0', 'L4'], ['S0', 'L7'], ['S0', 'L8'], ['S1', 'L1'], ['S1', 'L2'], ['S1', 'L5'], ['S1', 'L6'], ['S1', 'L9'], ['S1', 'L10'], ['S1', 'L11']]\n",
      "--- 2) Finished creating neuron connectivity graph: 0.0003228187561035156\n",
      "Having to generate soma_meshes_face_idx because none in preprocessed data\n",
      "--- 3a) Finshed generating soma_meshes_face_idx: 0.7750566005706787\n",
      "Using Poisson Surface Reconstruction for watertightness in soma_volume_ratio\n",
      "xvfb-run -n 7257 -s \"-screen 0 800x600x24\" meshlabserver $@  -i /notebooks/Platinum_Decomp_Fusion/Poisson_temp/neuron_201452.off -o /notebooks/Platinum_Decomp_Fusion/Poisson_temp/neuron_201452_poisson.off -s /notebooks/Platinum_Decomp_Fusion/Poisson_temp/poisson_582139.mls\n",
      "removed temporary input file: /notebooks/Platinum_Decomp_Fusion/Poisson_temp/neuron_201452.off\n",
      "removed temporary output file: /notebooks/Platinum_Decomp_Fusion/Poisson_temp/neuron_201452_poisson.off\n",
      "mesh.is_watertight = True\n",
      "/notebooks/Platinum_Decomp_Fusion/Poisson_temp/poisson_582139.mls is being deleted....\n",
      "Using Poisson Surface Reconstruction for watertightness in soma_volume_ratio\n",
      "xvfb-run -n 9863 -s \"-screen 0 800x600x24\" meshlabserver $@  -i /notebooks/Platinum_Decomp_Fusion/Poisson_temp/neuron_867682.off -o /notebooks/Platinum_Decomp_Fusion/Poisson_temp/neuron_867682_poisson.off -s /notebooks/Platinum_Decomp_Fusion/Poisson_temp/poisson_329508.mls\n",
      "removed temporary input file: /notebooks/Platinum_Decomp_Fusion/Poisson_temp/neuron_867682.off\n",
      "removed temporary output file: /notebooks/Platinum_Decomp_Fusion/Poisson_temp/neuron_867682_poisson.off\n",
      "mesh.is_watertight = True\n",
      "/notebooks/Platinum_Decomp_Fusion/Poisson_temp/poisson_329508.mls is being deleted....\n",
      "--- 3) Finshed generating soma objects and adding them to concept graph: 23.835279941558838\n",
      "--- 4a) Finshed generating curr_limb_meshes_face_idx: 5.851817846298218\n",
      "curr_limb_concept_networks= {0: [<networkx_utils.GraphOrderedEdges object at 0x7fe257b61240>]}\n",
      "concept_network_dict = {0: [<networkx_utils.GraphOrderedEdges object at 0x7fe257b61240>]}\n",
      "checking and resolving cycles\n",
      "No cycles to fix\n",
      "curr_limb_concept_networks= {1: [<networkx_utils.GraphOrderedEdges object at 0x7fe259431f98>]}\n",
      "concept_network_dict = {1: [<networkx_utils.GraphOrderedEdges object at 0x7fe259431f98>]}\n",
      "checking and resolving cycles\n",
      "No cycles to fix\n",
      "curr_limb_concept_networks= {0: [<networkx_utils.GraphOrderedEdges object at 0x7fe258eeeef0>], 1: [<networkx_utils.GraphOrderedEdges object at 0x7fe17d4f6a58>]}\n",
      "concept_network_dict = {0: [<networkx_utils.GraphOrderedEdges object at 0x7fe258eeeef0>], 1: [<networkx_utils.GraphOrderedEdges object at 0x7fe17d4f6a58>]}\n",
      "checking and resolving cycles\n",
      "There are loops to resolve and 'no_cycles' parameters set requires us to fix eliminate them\n",
      "Using mesh_widths for resolving loops\n",
      "curr_limb_concept_networks= {0: [<networkx_utils.GraphOrderedEdges object at 0x7fe2578f9048>]}\n",
      "concept_network_dict = {0: [<networkx_utils.GraphOrderedEdges object at 0x7fe2578f9048>]}\n",
      "checking and resolving cycles\n",
      "No cycles to fix\n",
      "curr_limb_concept_networks= {0: [<networkx_utils.GraphOrderedEdges object at 0x7fe177ef74a8>]}\n",
      "concept_network_dict = {0: [<networkx_utils.GraphOrderedEdges object at 0x7fe177ef74a8>]}\n",
      "checking and resolving cycles\n",
      "No cycles to fix\n",
      "curr_limb_concept_networks= {1: [<networkx_utils.GraphOrderedEdges object at 0x7fe1788d7978>]}\n",
      "concept_network_dict = {1: [<networkx_utils.GraphOrderedEdges object at 0x7fe1788d7978>]}\n",
      "checking and resolving cycles\n",
      "No cycles to fix\n",
      "curr_limb_concept_networks= {1: [<networkx_utils.GraphOrderedEdges object at 0x7fe17e5cbda0>]}\n",
      "concept_network_dict = {1: [<networkx_utils.GraphOrderedEdges object at 0x7fe17e5cbda0>]}\n",
      "checking and resolving cycles\n",
      "No cycles to fix\n",
      "curr_limb_concept_networks= {0: [<networkx_utils.GraphOrderedEdges object at 0x7fe17dd5bb38>]}\n",
      "concept_network_dict = {0: [<networkx_utils.GraphOrderedEdges object at 0x7fe17dd5bb38>]}\n",
      "checking and resolving cycles\n",
      "No cycles to fix\n",
      "curr_limb_concept_networks= {0: [<networkx_utils.GraphOrderedEdges object at 0x7fe2587eb940>]}\n",
      "concept_network_dict = {0: [<networkx_utils.GraphOrderedEdges object at 0x7fe2587eb940>]}\n",
      "checking and resolving cycles\n",
      "No cycles to fix\n",
      "curr_limb_concept_networks= {1: [<networkx_utils.GraphOrderedEdges object at 0x7fe258c28710>]}\n",
      "concept_network_dict = {1: [<networkx_utils.GraphOrderedEdges object at 0x7fe258c28710>]}\n",
      "checking and resolving cycles\n",
      "No cycles to fix\n",
      "curr_limb_concept_networks= {1: [<networkx_utils.GraphOrderedEdges object at 0x7fe17cc5ed30>]}\n",
      "concept_network_dict = {1: [<networkx_utils.GraphOrderedEdges object at 0x7fe17cc5ed30>]}\n",
      "checking and resolving cycles\n",
      "No cycles to fix\n",
      "curr_limb_concept_networks= {1: [<networkx_utils.GraphOrderedEdges object at 0x7fe259780ef0>]}\n",
      "concept_network_dict = {1: [<networkx_utils.GraphOrderedEdges object at 0x7fe259780ef0>]}\n",
      "Concept graph size was 1 or less so returning original\n",
      "--- 4) Finshed generating Limb objects and adding them to concept graph: 2.5626280307769775\n",
      "--- 5) SKIPPING Doing the adaptive mesh correspondence on the meshparty preprocessing ---\n",
      "--- 6) SKIPPING Using the computed_attribute_dict to populate neuron attributes ---\n",
      "Total time for neuron instance creation = 33.02569389343262\n"
     ]
    }
   ],
   "source": [
    "neuron_obj = neuron.Neuron(\n",
    "                mesh=curent_neuron,\n",
    "                 segment_id=segment_id,\n",
    "                 description=description,\n",
    "                 preprocessed_data=preprocessed_data,\n",
    "#                  decomposition_type=\"meshafterparty\",\n",
    "#                  mesh_correspondence=\"meshparty\", #meshafterparty_adaptive\n",
    "#                  distance_by_mesh_center=True, #how the distance is calculated for mesh correspondence\n",
    "#                  meshparty_segment_size = 0,\n",
    "#                  meshparty_n_surface_downsampling = 0,\n",
    "#                  meshparty_adaptive_correspondence_after_creation=False,\n",
    "#                 suppress_preprocessing_print=True,\n",
    "#                  computed_attribute_dict=None,\n",
    "#                  somas = None,\n",
    "#                  branch_skeleton_data=None,\n",
    "#                  combine_close_skeleton_nodes = True,\n",
    "#                 combine_close_skeleton_nodes_threshold=700,\n",
    "    \n",
    "    \n",
    "                ignore_warnings=True,\n",
    "                suppress_output=False,\n",
    "                calculate_spines=False,\n",
    "                 widths_to_calculate=[]#[\"no_spine_median_mesh_center\",\n",
    "#                                     \"no_spine_mean_mesh_center\"]\n",
    "                )"
   ]
  },
  {
   "cell_type": "code",
   "execution_count": 102,
   "metadata": {},
   "outputs": [
    {
     "name": "stdout",
     "output_type": "stream",
     "text": [
      "\n",
      " Working on visualization type: mesh\n",
      "\n",
      " Working on visualization type: skeleton\n"
     ]
    },
    {
     "data": {
      "application/vnd.jupyter.widget-view+json": {
       "model_id": "17f9104afc2c4155a374a9a3d55ca1cc",
       "version_major": 2,
       "version_minor": 0
      },
      "text/plain": [
       "VBox(children=(Figure(camera=PerspectiveCamera(fov=46.0, position=(0.0, 0.0, 2.0), quaternion=(0.0, 0.0, 0.0, …"
      ]
     },
     "metadata": {},
     "output_type": "display_data"
    }
   ],
   "source": [
    "nviz.visualize_neuron(neuron_obj,\n",
    "                     visualize_type=[\"mesh\",\"skeleton\"],\n",
    "                     limb_branch_dict=\"all\")"
   ]
  },
  {
   "cell_type": "code",
   "execution_count": 126,
   "metadata": {},
   "outputs": [
    {
     "name": "stdout",
     "output_type": "stream",
     "text": [
      "query = median_mesh_center > 200 and n_faces_branch>100\n",
      "smoothness_threshold = 0.08\n",
      "The median_mesh_center was requested and HAS already been calculated\n"
     ]
    },
    {
     "data": {
      "application/vnd.jupyter.widget-view+json": {
       "model_id": "06826551c0054ac6aeaa9b13d7b40e8d",
       "version_major": 2,
       "version_minor": 0
      },
      "text/plain": [
       "HBox(children=(FloatProgress(value=0.0, max=17.0), HTML(value='')))"
      ]
     },
     "metadata": {},
     "output_type": "display_data"
    },
    {
     "name": "stdout",
     "output_type": "stream",
     "text": [
      "\n"
     ]
    },
    {
     "data": {
      "application/vnd.jupyter.widget-view+json": {
       "model_id": "693a6dceae0e449d87f3a5437bebbe74",
       "version_major": 2,
       "version_minor": 0
      },
      "text/plain": [
       "HBox(children=(FloatProgress(value=0.0, max=37.0), HTML(value='')))"
      ]
     },
     "metadata": {},
     "output_type": "display_data"
    },
    {
     "name": "stdout",
     "output_type": "stream",
     "text": [
      "\n"
     ]
    },
    {
     "data": {
      "application/vnd.jupyter.widget-view+json": {
       "model_id": "0571f00187a94b1798a5051d51054c9f",
       "version_major": 2,
       "version_minor": 0
      },
      "text/plain": [
       "HBox(children=(FloatProgress(value=0.0, max=52.0), HTML(value='')))"
      ]
     },
     "metadata": {},
     "output_type": "display_data"
    },
    {
     "name": "stdout",
     "output_type": "stream",
     "text": [
      "\n"
     ]
    },
    {
     "data": {
      "application/vnd.jupyter.widget-view+json": {
       "model_id": "79808f545fae495297c9f1d06769215f",
       "version_major": 2,
       "version_minor": 0
      },
      "text/plain": [
       "HBox(children=(FloatProgress(value=0.0, max=19.0), HTML(value='')))"
      ]
     },
     "metadata": {},
     "output_type": "display_data"
    },
    {
     "name": "stdout",
     "output_type": "stream",
     "text": [
      "\n"
     ]
    },
    {
     "data": {
      "application/vnd.jupyter.widget-view+json": {
       "model_id": "fb6002e4262e4f6faab14b8cda3728bf",
       "version_major": 2,
       "version_minor": 0
      },
      "text/plain": [
       "HBox(children=(FloatProgress(value=0.0, max=26.0), HTML(value='')))"
      ]
     },
     "metadata": {},
     "output_type": "display_data"
    },
    {
     "name": "stdout",
     "output_type": "stream",
     "text": [
      "\n"
     ]
    },
    {
     "data": {
      "application/vnd.jupyter.widget-view+json": {
       "model_id": "877c01f13300482c84a9e41fa02eebed",
       "version_major": 2,
       "version_minor": 0
      },
      "text/plain": [
       "HBox(children=(FloatProgress(value=0.0, max=8.0), HTML(value='')))"
      ]
     },
     "metadata": {},
     "output_type": "display_data"
    },
    {
     "name": "stdout",
     "output_type": "stream",
     "text": [
      "\n"
     ]
    },
    {
     "data": {
      "application/vnd.jupyter.widget-view+json": {
       "model_id": "935498ce77014f5ab023c83a67351da7",
       "version_major": 2,
       "version_minor": 0
      },
      "text/plain": [
       "HBox(children=(FloatProgress(value=0.0, max=12.0), HTML(value='')))"
      ]
     },
     "metadata": {},
     "output_type": "display_data"
    },
    {
     "name": "stdout",
     "output_type": "stream",
     "text": [
      "\n"
     ]
    },
    {
     "data": {
      "application/vnd.jupyter.widget-view+json": {
       "model_id": "ee030afd83a84628b7e8d2198de80191",
       "version_major": 2,
       "version_minor": 0
      },
      "text/plain": [
       "HBox(children=(FloatProgress(value=0.0, max=32.0), HTML(value='')))"
      ]
     },
     "metadata": {},
     "output_type": "display_data"
    },
    {
     "name": "stdout",
     "output_type": "stream",
     "text": [
      "\n"
     ]
    },
    {
     "data": {
      "application/vnd.jupyter.widget-view+json": {
       "model_id": "195b2a8c02224803ad9421d523643c0f",
       "version_major": 2,
       "version_minor": 0
      },
      "text/plain": [
       "HBox(children=(FloatProgress(value=0.0, max=68.0), HTML(value='')))"
      ]
     },
     "metadata": {},
     "output_type": "display_data"
    },
    {
     "name": "stdout",
     "output_type": "stream",
     "text": [
      "\n"
     ]
    },
    {
     "data": {
      "application/vnd.jupyter.widget-view+json": {
       "model_id": "26525c6aa833491e900708971d4b4d80",
       "version_major": 2,
       "version_minor": 0
      },
      "text/plain": [
       "HBox(children=(FloatProgress(value=0.0, max=36.0), HTML(value='')))"
      ]
     },
     "metadata": {},
     "output_type": "display_data"
    },
    {
     "name": "stdout",
     "output_type": "stream",
     "text": [
      "\n"
     ]
    },
    {
     "data": {
      "application/vnd.jupyter.widget-view+json": {
       "model_id": "794d13ad41cf473aa8b31ae2c92bbb58",
       "version_major": 2,
       "version_minor": 0
      },
      "text/plain": [
       "HBox(children=(FloatProgress(value=0.0, max=47.0), HTML(value='')))"
      ]
     },
     "metadata": {},
     "output_type": "display_data"
    },
    {
     "name": "stdout",
     "output_type": "stream",
     "text": [
      "\n"
     ]
    },
    {
     "data": {
      "application/vnd.jupyter.widget-view+json": {
       "model_id": "a0d797a9462a412f91061f4167d8e714",
       "version_major": 2,
       "version_minor": 0
      },
      "text/plain": [
       "HBox(children=(FloatProgress(value=0.0, max=57.0), HTML(value='')))"
      ]
     },
     "metadata": {},
     "output_type": "display_data"
    },
    {
     "name": "stdout",
     "output_type": "stream",
     "text": [
      "\n"
     ]
    },
    {
     "data": {
      "application/vnd.jupyter.widget-view+json": {
       "model_id": "4a0b6825be624df98a90906887f5178c",
       "version_major": 2,
       "version_minor": 0
      },
      "text/plain": [
       "HBox(children=(FloatProgress(value=0.0, max=119.0), HTML(value='')))"
      ]
     },
     "metadata": {},
     "output_type": "display_data"
    },
    {
     "name": "stdout",
     "output_type": "stream",
     "text": [
      "\n"
     ]
    },
    {
     "data": {
      "application/vnd.jupyter.widget-view+json": {
       "model_id": "5436305dd83344328a492eee5a216d40",
       "version_major": 2,
       "version_minor": 0
      },
      "text/plain": [
       "HBox(children=(FloatProgress(value=0.0, max=3.0), HTML(value='')))"
      ]
     },
     "metadata": {},
     "output_type": "display_data"
    },
    {
     "name": "stdout",
     "output_type": "stream",
     "text": [
      "\n"
     ]
    },
    {
     "data": {
      "application/vnd.jupyter.widget-view+json": {
       "model_id": "34f20c279fe6485b81c86e1615a8801d",
       "version_major": 2,
       "version_minor": 0
      },
      "text/plain": [
       "HBox(children=(FloatProgress(value=0.0, max=2.0), HTML(value='')))"
      ]
     },
     "metadata": {},
     "output_type": "display_data"
    },
    {
     "name": "stdout",
     "output_type": "stream",
     "text": [
      "\n"
     ]
    },
    {
     "data": {
      "application/vnd.jupyter.widget-view+json": {
       "model_id": "320e9d781d254a0caeb16c0a5ca269b0",
       "version_major": 2,
       "version_minor": 0
      },
      "text/plain": [
       "HBox(children=(FloatProgress(value=0.0, max=7.0), HTML(value='')))"
      ]
     },
     "metadata": {},
     "output_type": "display_data"
    },
    {
     "name": "stdout",
     "output_type": "stream",
     "text": [
      "\n"
     ]
    },
    {
     "data": {
      "application/vnd.jupyter.widget-view+json": {
       "model_id": "93be61b3e20f46839c5e67fb1baac866",
       "version_major": 2,
       "version_minor": 0
      },
      "text/plain": [
       "HBox(children=(FloatProgress(value=0.0, max=10.0), HTML(value='')))"
      ]
     },
     "metadata": {},
     "output_type": "display_data"
    },
    {
     "name": "stdout",
     "output_type": "stream",
     "text": [
      "\n"
     ]
    },
    {
     "data": {
      "application/vnd.jupyter.widget-view+json": {
       "model_id": "5ce8c16f80bf4524aa36ba7313b0bef9",
       "version_major": 2,
       "version_minor": 0
      },
      "text/plain": [
       "HBox(children=(FloatProgress(value=0.0, max=58.0), HTML(value='')))"
      ]
     },
     "metadata": {},
     "output_type": "display_data"
    },
    {
     "name": "stdout",
     "output_type": "stream",
     "text": [
      "\n"
     ]
    },
    {
     "data": {
      "application/vnd.jupyter.widget-view+json": {
       "model_id": "2c09d59ac66c4fabbd54176deffd6f2d",
       "version_major": 2,
       "version_minor": 0
      },
      "text/plain": [
       "HBox(children=(FloatProgress(value=0.0, max=41.0), HTML(value='')))"
      ]
     },
     "metadata": {},
     "output_type": "display_data"
    },
    {
     "name": "stdout",
     "output_type": "stream",
     "text": [
      "\n"
     ]
    },
    {
     "data": {
      "application/vnd.jupyter.widget-view+json": {
       "model_id": "e9961198293642499646073b8a3ef034",
       "version_major": 2,
       "version_minor": 0
      },
      "text/plain": [
       "HBox(children=(FloatProgress(value=0.0, max=119.0), HTML(value='')))"
      ]
     },
     "metadata": {},
     "output_type": "display_data"
    },
    {
     "name": "stdout",
     "output_type": "stream",
     "text": [
      "\n"
     ]
    },
    {
     "data": {
      "application/vnd.jupyter.widget-view+json": {
       "model_id": "d29997840c5746acaa50f8e7c6e97857",
       "version_major": 2,
       "version_minor": 0
      },
      "text/plain": [
       "HBox(children=(FloatProgress(value=0.0, max=111.0), HTML(value='')))"
      ]
     },
     "metadata": {},
     "output_type": "display_data"
    },
    {
     "name": "stdout",
     "output_type": "stream",
     "text": [
      "\n"
     ]
    },
    {
     "data": {
      "application/vnd.jupyter.widget-view+json": {
       "model_id": "876c835ea5cc4793a6f9160ff39218e0",
       "version_major": 2,
       "version_minor": 0
      },
      "text/plain": [
       "HBox(children=(FloatProgress(value=0.0, max=43.0), HTML(value='')))"
      ]
     },
     "metadata": {},
     "output_type": "display_data"
    },
    {
     "name": "stdout",
     "output_type": "stream",
     "text": [
      "\n"
     ]
    },
    {
     "data": {
      "application/vnd.jupyter.widget-view+json": {
       "model_id": "6468e664168647b68034194063c0a124",
       "version_major": 2,
       "version_minor": 0
      },
      "text/plain": [
       "HBox(children=(FloatProgress(value=0.0, max=4.0), HTML(value='')))"
      ]
     },
     "metadata": {},
     "output_type": "display_data"
    },
    {
     "name": "stdout",
     "output_type": "stream",
     "text": [
      "\n"
     ]
    },
    {
     "data": {
      "application/vnd.jupyter.widget-view+json": {
       "model_id": "10965023840f46c8bcac26d87b45543b",
       "version_major": 2,
       "version_minor": 0
      },
      "text/plain": [
       "HBox(children=(FloatProgress(value=0.0, max=4.0), HTML(value='')))"
      ]
     },
     "metadata": {},
     "output_type": "display_data"
    },
    {
     "name": "stdout",
     "output_type": "stream",
     "text": [
      "\n"
     ]
    },
    {
     "data": {
      "application/vnd.jupyter.widget-view+json": {
       "model_id": "6480c279167342f5a8f24ad361aa7c57",
       "version_major": 2,
       "version_minor": 0
      },
      "text/plain": [
       "HBox(children=(FloatProgress(value=0.0, max=94.0), HTML(value='')))"
      ]
     },
     "metadata": {},
     "output_type": "display_data"
    },
    {
     "name": "stdout",
     "output_type": "stream",
     "text": [
      "\n"
     ]
    },
    {
     "data": {
      "application/vnd.jupyter.widget-view+json": {
       "model_id": "3d36d67ca71f4ebeb96c3e0331cb72aa",
       "version_major": 2,
       "version_minor": 0
      },
      "text/plain": [
       "HBox(children=(FloatProgress(value=0.0, max=2.0), HTML(value='')))"
      ]
     },
     "metadata": {},
     "output_type": "display_data"
    },
    {
     "name": "stdout",
     "output_type": "stream",
     "text": [
      "\n"
     ]
    },
    {
     "data": {
      "application/vnd.jupyter.widget-view+json": {
       "model_id": "211c298eeef848ddb716ee06c709bc9b",
       "version_major": 2,
       "version_minor": 0
      },
      "text/plain": [
       "HBox(children=(FloatProgress(value=0.0, max=13.0), HTML(value='')))"
      ]
     },
     "metadata": {},
     "output_type": "display_data"
    },
    {
     "name": "stdout",
     "output_type": "stream",
     "text": [
      "\n"
     ]
    },
    {
     "data": {
      "application/vnd.jupyter.widget-view+json": {
       "model_id": "71945593e295436996bf49a9e4f54489",
       "version_major": 2,
       "version_minor": 0
      },
      "text/plain": [
       "HBox(children=(FloatProgress(value=0.0, max=14.0), HTML(value='')))"
      ]
     },
     "metadata": {},
     "output_type": "display_data"
    },
    {
     "name": "stdout",
     "output_type": "stream",
     "text": [
      "\n"
     ]
    },
    {
     "data": {
      "application/vnd.jupyter.widget-view+json": {
       "model_id": "bafb65bcef674b528ea6b0698c8f8044",
       "version_major": 2,
       "version_minor": 0
      },
      "text/plain": [
       "HBox(children=(FloatProgress(value=0.0, max=105.0), HTML(value='')))"
      ]
     },
     "metadata": {},
     "output_type": "display_data"
    },
    {
     "name": "stdout",
     "output_type": "stream",
     "text": [
      "\n"
     ]
    },
    {
     "data": {
      "application/vnd.jupyter.widget-view+json": {
       "model_id": "26534b017df54aee9ee7496b5614aad5",
       "version_major": 2,
       "version_minor": 0
      },
      "text/plain": [
       "HBox(children=(FloatProgress(value=0.0, max=7.0), HTML(value='')))"
      ]
     },
     "metadata": {},
     "output_type": "display_data"
    },
    {
     "name": "stdout",
     "output_type": "stream",
     "text": [
      "\n"
     ]
    },
    {
     "data": {
      "application/vnd.jupyter.widget-view+json": {
       "model_id": "4d1ed95e7265463e97ec1b1ee1d8619b",
       "version_major": 2,
       "version_minor": 0
      },
      "text/plain": [
       "HBox(children=(FloatProgress(value=0.0, max=4.0), HTML(value='')))"
      ]
     },
     "metadata": {},
     "output_type": "display_data"
    },
    {
     "name": "stdout",
     "output_type": "stream",
     "text": [
      "\n"
     ]
    },
    {
     "data": {
      "application/vnd.jupyter.widget-view+json": {
       "model_id": "2bcec96a69b743598c64d1bb64144bd3",
       "version_major": 2,
       "version_minor": 0
      },
      "text/plain": [
       "HBox(children=(FloatProgress(value=0.0, max=11.0), HTML(value='')))"
      ]
     },
     "metadata": {},
     "output_type": "display_data"
    },
    {
     "name": "stdout",
     "output_type": "stream",
     "text": [
      "\n"
     ]
    },
    {
     "data": {
      "application/vnd.jupyter.widget-view+json": {
       "model_id": "99c91db4ec73469fa083fabdb461bf37",
       "version_major": 2,
       "version_minor": 0
      },
      "text/plain": [
       "HBox(children=(FloatProgress(value=0.0, max=9.0), HTML(value='')))"
      ]
     },
     "metadata": {},
     "output_type": "display_data"
    },
    {
     "name": "stdout",
     "output_type": "stream",
     "text": [
      "\n"
     ]
    },
    {
     "data": {
      "application/vnd.jupyter.widget-view+json": {
       "model_id": "60f5950b0e9c431ba231c7221c8505ad",
       "version_major": 2,
       "version_minor": 0
      },
      "text/plain": [
       "HBox(children=(FloatProgress(value=0.0, max=4.0), HTML(value='')))"
      ]
     },
     "metadata": {},
     "output_type": "display_data"
    },
    {
     "name": "stdout",
     "output_type": "stream",
     "text": [
      "\n"
     ]
    },
    {
     "data": {
      "application/vnd.jupyter.widget-view+json": {
       "model_id": "ea14913b92f442ddbfaa635cd813307b",
       "version_major": 2,
       "version_minor": 0
      },
      "text/plain": [
       "HBox(children=(FloatProgress(value=0.0, max=3.0), HTML(value='')))"
      ]
     },
     "metadata": {},
     "output_type": "display_data"
    },
    {
     "name": "stdout",
     "output_type": "stream",
     "text": [
      "\n"
     ]
    },
    {
     "data": {
      "application/vnd.jupyter.widget-view+json": {
       "model_id": "50dabb291edf44dcba95606f7c2223bf",
       "version_major": 2,
       "version_minor": 0
      },
      "text/plain": [
       "HBox(children=(FloatProgress(value=0.0, max=5.0), HTML(value='')))"
      ]
     },
     "metadata": {},
     "output_type": "display_data"
    },
    {
     "name": "stdout",
     "output_type": "stream",
     "text": [
      "\n"
     ]
    },
    {
     "data": {
      "application/vnd.jupyter.widget-view+json": {
       "model_id": "1ff143c4f907420085975315e0f647dd",
       "version_major": 2,
       "version_minor": 0
      },
      "text/plain": [
       "HBox(children=(FloatProgress(value=0.0, max=25.0), HTML(value='')))"
      ]
     },
     "metadata": {},
     "output_type": "display_data"
    },
    {
     "name": "stdout",
     "output_type": "stream",
     "text": [
      "\n"
     ]
    },
    {
     "data": {
      "application/vnd.jupyter.widget-view+json": {
       "model_id": "814ce2324b234496a86e7edf5b48be72",
       "version_major": 2,
       "version_minor": 0
      },
      "text/plain": [
       "HBox(children=(FloatProgress(value=0.0, max=9.0), HTML(value='')))"
      ]
     },
     "metadata": {},
     "output_type": "display_data"
    },
    {
     "name": "stdout",
     "output_type": "stream",
     "text": [
      "\n"
     ]
    },
    {
     "data": {
      "application/vnd.jupyter.widget-view+json": {
       "model_id": "d5def986d1a4409a9b113f41bbdb6de6",
       "version_major": 2,
       "version_minor": 0
      },
      "text/plain": [
       "HBox(children=(FloatProgress(value=0.0, max=21.0), HTML(value='')))"
      ]
     },
     "metadata": {},
     "output_type": "display_data"
    },
    {
     "name": "stdout",
     "output_type": "stream",
     "text": [
      "\n"
     ]
    },
    {
     "data": {
      "application/vnd.jupyter.widget-view+json": {
       "model_id": "dc2c101d8d2342d6ad8bc2739b6026e8",
       "version_major": 2,
       "version_minor": 0
      },
      "text/plain": [
       "HBox(children=(FloatProgress(value=0.0, max=20.0), HTML(value='')))"
      ]
     },
     "metadata": {},
     "output_type": "display_data"
    },
    {
     "name": "stdout",
     "output_type": "stream",
     "text": [
      "\n"
     ]
    },
    {
     "data": {
      "application/vnd.jupyter.widget-view+json": {
       "model_id": "20fb4363d0084e86b8e615484775c54a",
       "version_major": 2,
       "version_minor": 0
      },
      "text/plain": [
       "HBox(children=(FloatProgress(value=0.0, max=32.0), HTML(value='')))"
      ]
     },
     "metadata": {},
     "output_type": "display_data"
    },
    {
     "name": "stdout",
     "output_type": "stream",
     "text": [
      "\n"
     ]
    },
    {
     "data": {
      "application/vnd.jupyter.widget-view+json": {
       "model_id": "90b1f4e4776d40adbb498ca302d9adb9",
       "version_major": 2,
       "version_minor": 0
      },
      "text/plain": [
       "HBox(children=(FloatProgress(value=0.0, max=33.0), HTML(value='')))"
      ]
     },
     "metadata": {},
     "output_type": "display_data"
    },
    {
     "name": "stdout",
     "output_type": "stream",
     "text": [
      "\n"
     ]
    },
    {
     "data": {
      "application/vnd.jupyter.widget-view+json": {
       "model_id": "c435e094a4b64a62a8413312403d2a26",
       "version_major": 2,
       "version_minor": 0
      },
      "text/plain": [
       "HBox(children=(FloatProgress(value=0.0, max=16.0), HTML(value='')))"
      ]
     },
     "metadata": {},
     "output_type": "display_data"
    },
    {
     "name": "stdout",
     "output_type": "stream",
     "text": [
      "\n"
     ]
    },
    {
     "data": {
      "application/vnd.jupyter.widget-view+json": {
       "model_id": "a057b48f5c3848d2a0d0237e12fc953a",
       "version_major": 2,
       "version_minor": 0
      },
      "text/plain": [
       "HBox(children=(FloatProgress(value=0.0, max=23.0), HTML(value='')))"
      ]
     },
     "metadata": {},
     "output_type": "display_data"
    },
    {
     "name": "stdout",
     "output_type": "stream",
     "text": [
      "\n"
     ]
    },
    {
     "data": {
      "application/vnd.jupyter.widget-view+json": {
       "model_id": "20c53a896b0247cdb1c6ab58e944381b",
       "version_major": 2,
       "version_minor": 0
      },
      "text/plain": [
       "HBox(children=(FloatProgress(value=0.0, max=62.0), HTML(value='')))"
      ]
     },
     "metadata": {},
     "output_type": "display_data"
    },
    {
     "name": "stdout",
     "output_type": "stream",
     "text": [
      "\n"
     ]
    },
    {
     "data": {
      "application/vnd.jupyter.widget-view+json": {
       "model_id": "2677ab17571e43988f36006c9ba04168",
       "version_major": 2,
       "version_minor": 0
      },
      "text/plain": [
       "HBox(children=(FloatProgress(value=0.0, max=17.0), HTML(value='')))"
      ]
     },
     "metadata": {},
     "output_type": "display_data"
    },
    {
     "name": "stdout",
     "output_type": "stream",
     "text": [
      "\n"
     ]
    },
    {
     "data": {
      "application/vnd.jupyter.widget-view+json": {
       "model_id": "59cf31187bc146429b7d34c96495cd0c",
       "version_major": 2,
       "version_minor": 0
      },
      "text/plain": [
       "HBox(children=(FloatProgress(value=0.0, max=5.0), HTML(value='')))"
      ]
     },
     "metadata": {},
     "output_type": "display_data"
    },
    {
     "name": "stdout",
     "output_type": "stream",
     "text": [
      "\n"
     ]
    },
    {
     "data": {
      "application/vnd.jupyter.widget-view+json": {
       "model_id": "b0331dba80944ccba6229280df3231ce",
       "version_major": 2,
       "version_minor": 0
      },
      "text/plain": [
       "HBox(children=(FloatProgress(value=0.0, max=15.0), HTML(value='')))"
      ]
     },
     "metadata": {},
     "output_type": "display_data"
    },
    {
     "name": "stdout",
     "output_type": "stream",
     "text": [
      "\n"
     ]
    },
    {
     "data": {
      "application/vnd.jupyter.widget-view+json": {
       "model_id": "54889bd18f6d45988f43da1833482100",
       "version_major": 2,
       "version_minor": 0
      },
      "text/plain": [
       "HBox(children=(FloatProgress(value=0.0, max=22.0), HTML(value='')))"
      ]
     },
     "metadata": {},
     "output_type": "display_data"
    },
    {
     "name": "stdout",
     "output_type": "stream",
     "text": [
      "\n"
     ]
    },
    {
     "data": {
      "application/vnd.jupyter.widget-view+json": {
       "model_id": "641a525b6ec44d4580f5409428dbdc28",
       "version_major": 2,
       "version_minor": 0
      },
      "text/plain": [
       "HBox(children=(FloatProgress(value=0.0, max=252.0), HTML(value='')))"
      ]
     },
     "metadata": {},
     "output_type": "display_data"
    },
    {
     "name": "stdout",
     "output_type": "stream",
     "text": [
      "\n"
     ]
    },
    {
     "data": {
      "application/vnd.jupyter.widget-view+json": {
       "model_id": "8cf69f9be8da46e79a59786391759836",
       "version_major": 2,
       "version_minor": 0
      },
      "text/plain": [
       "HBox(children=(FloatProgress(value=0.0, max=177.0), HTML(value='')))"
      ]
     },
     "metadata": {},
     "output_type": "display_data"
    },
    {
     "name": "stdout",
     "output_type": "stream",
     "text": [
      "\n"
     ]
    },
    {
     "data": {
      "application/vnd.jupyter.widget-view+json": {
       "model_id": "77d35f291648451497433666442ecaad",
       "version_major": 2,
       "version_minor": 0
      },
      "text/plain": [
       "HBox(children=(FloatProgress(value=0.0, max=25.0), HTML(value='')))"
      ]
     },
     "metadata": {},
     "output_type": "display_data"
    },
    {
     "name": "stdout",
     "output_type": "stream",
     "text": [
      "\n"
     ]
    },
    {
     "data": {
      "application/vnd.jupyter.widget-view+json": {
       "model_id": "99dcfdf2cbc34746b4549d7653d6f5db",
       "version_major": 2,
       "version_minor": 0
      },
      "text/plain": [
       "HBox(children=(FloatProgress(value=0.0, max=145.0), HTML(value='')))"
      ]
     },
     "metadata": {},
     "output_type": "display_data"
    },
    {
     "name": "stdout",
     "output_type": "stream",
     "text": [
      "\n"
     ]
    },
    {
     "data": {
      "application/vnd.jupyter.widget-view+json": {
       "model_id": "6636604e22bb4273b29f15ca69b5c9e2",
       "version_major": 2,
       "version_minor": 0
      },
      "text/plain": [
       "HBox(children=(FloatProgress(value=0.0, max=5.0), HTML(value='')))"
      ]
     },
     "metadata": {},
     "output_type": "display_data"
    },
    {
     "name": "stdout",
     "output_type": "stream",
     "text": [
      "\n"
     ]
    },
    {
     "data": {
      "application/vnd.jupyter.widget-view+json": {
       "model_id": "53a68178c47444889194ca4c6e47ad24",
       "version_major": 2,
       "version_minor": 0
      },
      "text/plain": [
       "HBox(children=(FloatProgress(value=0.0, max=42.0), HTML(value='')))"
      ]
     },
     "metadata": {},
     "output_type": "display_data"
    },
    {
     "name": "stdout",
     "output_type": "stream",
     "text": [
      "\n"
     ]
    },
    {
     "data": {
      "application/vnd.jupyter.widget-view+json": {
       "model_id": "e5d5c9d510b04094b0946a2733a23f49",
       "version_major": 2,
       "version_minor": 0
      },
      "text/plain": [
       "HBox(children=(FloatProgress(value=0.0, max=2.0), HTML(value='')))"
      ]
     },
     "metadata": {},
     "output_type": "display_data"
    },
    {
     "name": "stdout",
     "output_type": "stream",
     "text": [
      "\n"
     ]
    },
    {
     "data": {
      "application/vnd.jupyter.widget-view+json": {
       "model_id": "fc6b16797dc64567b5cb86746bf5e397",
       "version_major": 2,
       "version_minor": 0
      },
      "text/plain": [
       "HBox(children=(FloatProgress(value=0.0, max=16.0), HTML(value='')))"
      ]
     },
     "metadata": {},
     "output_type": "display_data"
    },
    {
     "name": "stdout",
     "output_type": "stream",
     "text": [
      "\n"
     ]
    },
    {
     "data": {
      "application/vnd.jupyter.widget-view+json": {
       "model_id": "f8cb4ae36c2d4ac0988c8cffe478a0f7",
       "version_major": 2,
       "version_minor": 0
      },
      "text/plain": [
       "HBox(children=(FloatProgress(value=0.0, max=20.0), HTML(value='')))"
      ]
     },
     "metadata": {},
     "output_type": "display_data"
    },
    {
     "name": "stdout",
     "output_type": "stream",
     "text": [
      "\n"
     ]
    },
    {
     "data": {
      "application/vnd.jupyter.widget-view+json": {
       "model_id": "b682ab750cb54e9ea7b076f568afd32a",
       "version_major": 2,
       "version_minor": 0
      },
      "text/plain": [
       "HBox(children=(FloatProgress(value=0.0, max=4.0), HTML(value='')))"
      ]
     },
     "metadata": {},
     "output_type": "display_data"
    },
    {
     "name": "stdout",
     "output_type": "stream",
     "text": [
      "\n"
     ]
    },
    {
     "data": {
      "application/vnd.jupyter.widget-view+json": {
       "model_id": "59d12c686f9b4d43917b45e8c5170de3",
       "version_major": 2,
       "version_minor": 0
      },
      "text/plain": [
       "HBox(children=(FloatProgress(value=0.0, max=15.0), HTML(value='')))"
      ]
     },
     "metadata": {},
     "output_type": "display_data"
    },
    {
     "name": "stdout",
     "output_type": "stream",
     "text": [
      "\n"
     ]
    },
    {
     "data": {
      "application/vnd.jupyter.widget-view+json": {
       "model_id": "6104e91143984de9a984c2378873df2f",
       "version_major": 2,
       "version_minor": 0
      },
      "text/plain": [
       "HBox(children=(FloatProgress(value=0.0, max=13.0), HTML(value='')))"
      ]
     },
     "metadata": {},
     "output_type": "display_data"
    },
    {
     "name": "stdout",
     "output_type": "stream",
     "text": [
      "\n"
     ]
    },
    {
     "data": {
      "application/vnd.jupyter.widget-view+json": {
       "model_id": "efda3d41269a4819a0f06552612193e4",
       "version_major": 2,
       "version_minor": 0
      },
      "text/plain": [
       "HBox(children=(FloatProgress(value=0.0, max=8.0), HTML(value='')))"
      ]
     },
     "metadata": {},
     "output_type": "display_data"
    },
    {
     "name": "stdout",
     "output_type": "stream",
     "text": [
      "\n"
     ]
    },
    {
     "data": {
      "application/vnd.jupyter.widget-view+json": {
       "model_id": "5e46fef240144aa5a961c47d6bc71409",
       "version_major": 2,
       "version_minor": 0
      },
      "text/plain": [
       "HBox(children=(FloatProgress(value=0.0, max=14.0), HTML(value='')))"
      ]
     },
     "metadata": {},
     "output_type": "display_data"
    },
    {
     "name": "stdout",
     "output_type": "stream",
     "text": [
      "\n"
     ]
    },
    {
     "data": {
      "application/vnd.jupyter.widget-view+json": {
       "model_id": "b302a99912f547ed954292acef13a41b",
       "version_major": 2,
       "version_minor": 0
      },
      "text/plain": [
       "HBox(children=(FloatProgress(value=0.0, max=57.0), HTML(value='')))"
      ]
     },
     "metadata": {},
     "output_type": "display_data"
    },
    {
     "name": "stdout",
     "output_type": "stream",
     "text": [
      "\n"
     ]
    },
    {
     "data": {
      "application/vnd.jupyter.widget-view+json": {
       "model_id": "b25109ad850d4dff957680e3d770f89f",
       "version_major": 2,
       "version_minor": 0
      },
      "text/plain": [
       "HBox(children=(FloatProgress(value=0.0, max=32.0), HTML(value='')))"
      ]
     },
     "metadata": {},
     "output_type": "display_data"
    },
    {
     "name": "stdout",
     "output_type": "stream",
     "text": [
      "\n"
     ]
    },
    {
     "data": {
      "application/vnd.jupyter.widget-view+json": {
       "model_id": "75371fa8d5974ef090dd94e95c50ed40",
       "version_major": 2,
       "version_minor": 0
      },
      "text/plain": [
       "HBox(children=(FloatProgress(value=0.0, max=22.0), HTML(value='')))"
      ]
     },
     "metadata": {},
     "output_type": "display_data"
    },
    {
     "name": "stdout",
     "output_type": "stream",
     "text": [
      "\n"
     ]
    },
    {
     "data": {
      "application/vnd.jupyter.widget-view+json": {
       "model_id": "245e98dcd90f495a9d04a6c9dc81aeda",
       "version_major": 2,
       "version_minor": 0
      },
      "text/plain": [
       "HBox(children=(FloatProgress(value=0.0, max=47.0), HTML(value='')))"
      ]
     },
     "metadata": {},
     "output_type": "display_data"
    },
    {
     "name": "stdout",
     "output_type": "stream",
     "text": [
      "\n"
     ]
    },
    {
     "data": {
      "application/vnd.jupyter.widget-view+json": {
       "model_id": "7573363ea2f04933b1dba68e1f8fea89",
       "version_major": 2,
       "version_minor": 0
      },
      "text/plain": [
       "HBox(children=(FloatProgress(value=0.0, max=24.0), HTML(value='')))"
      ]
     },
     "metadata": {},
     "output_type": "display_data"
    },
    {
     "name": "stdout",
     "output_type": "stream",
     "text": [
      "\n"
     ]
    },
    {
     "data": {
      "application/vnd.jupyter.widget-view+json": {
       "model_id": "78521b4ad9624f8ca43183329bf45d88",
       "version_major": 2,
       "version_minor": 0
      },
      "text/plain": [
       "HBox(children=(FloatProgress(value=0.0, max=57.0), HTML(value='')))"
      ]
     },
     "metadata": {},
     "output_type": "display_data"
    },
    {
     "name": "stdout",
     "output_type": "stream",
     "text": [
      "\n"
     ]
    },
    {
     "data": {
      "application/vnd.jupyter.widget-view+json": {
       "model_id": "07875f55119148219f14079d45873267",
       "version_major": 2,
       "version_minor": 0
      },
      "text/plain": [
       "HBox(children=(FloatProgress(value=0.0, max=6.0), HTML(value='')))"
      ]
     },
     "metadata": {},
     "output_type": "display_data"
    },
    {
     "name": "stdout",
     "output_type": "stream",
     "text": [
      "\n"
     ]
    },
    {
     "data": {
      "application/vnd.jupyter.widget-view+json": {
       "model_id": "2ea8f927c3224a1cbe1a7d08f9c3a1f2",
       "version_major": 2,
       "version_minor": 0
      },
      "text/plain": [
       "HBox(children=(FloatProgress(value=0.0, max=12.0), HTML(value='')))"
      ]
     },
     "metadata": {},
     "output_type": "display_data"
    },
    {
     "name": "stdout",
     "output_type": "stream",
     "text": [
      "\n"
     ]
    },
    {
     "data": {
      "application/vnd.jupyter.widget-view+json": {
       "model_id": "43cdb457b1ab401aaac096138675eeea",
       "version_major": 2,
       "version_minor": 0
      },
      "text/plain": [
       "HBox(children=(FloatProgress(value=0.0, max=254.0), HTML(value='')))"
      ]
     },
     "metadata": {},
     "output_type": "display_data"
    },
    {
     "name": "stdout",
     "output_type": "stream",
     "text": [
      "\n"
     ]
    },
    {
     "data": {
      "application/vnd.jupyter.widget-view+json": {
       "model_id": "f533257f506348f8bdec5698fa9ff69a",
       "version_major": 2,
       "version_minor": 0
      },
      "text/plain": [
       "HBox(children=(FloatProgress(value=0.0, max=6.0), HTML(value='')))"
      ]
     },
     "metadata": {},
     "output_type": "display_data"
    },
    {
     "name": "stdout",
     "output_type": "stream",
     "text": [
      "\n"
     ]
    },
    {
     "data": {
      "application/vnd.jupyter.widget-view+json": {
       "model_id": "7fe279e1378448708d15a9434199c4fe",
       "version_major": 2,
       "version_minor": 0
      },
      "text/plain": [
       "HBox(children=(FloatProgress(value=0.0, max=171.0), HTML(value='')))"
      ]
     },
     "metadata": {},
     "output_type": "display_data"
    },
    {
     "name": "stdout",
     "output_type": "stream",
     "text": [
      "\n"
     ]
    },
    {
     "data": {
      "application/vnd.jupyter.widget-view+json": {
       "model_id": "be7259d3f6564ee98d58aacea40fcfa0",
       "version_major": 2,
       "version_minor": 0
      },
      "text/plain": [
       "HBox(children=(FloatProgress(value=0.0, max=144.0), HTML(value='')))"
      ]
     },
     "metadata": {},
     "output_type": "display_data"
    },
    {
     "name": "stdout",
     "output_type": "stream",
     "text": [
      "\n"
     ]
    },
    {
     "data": {
      "application/vnd.jupyter.widget-view+json": {
       "model_id": "133b214380024ebc8b40daf41113f04f",
       "version_major": 2,
       "version_minor": 0
      },
      "text/plain": [
       "HBox(children=(FloatProgress(value=0.0, max=112.0), HTML(value='')))"
      ]
     },
     "metadata": {},
     "output_type": "display_data"
    },
    {
     "name": "stdout",
     "output_type": "stream",
     "text": [
      "\n"
     ]
    },
    {
     "data": {
      "application/vnd.jupyter.widget-view+json": {
       "model_id": "e33a99fdab044caeb828e1fd6339ef9d",
       "version_major": 2,
       "version_minor": 0
      },
      "text/plain": [
       "HBox(children=(FloatProgress(value=0.0, max=93.0), HTML(value='')))"
      ]
     },
     "metadata": {},
     "output_type": "display_data"
    },
    {
     "name": "stdout",
     "output_type": "stream",
     "text": [
      "\n"
     ]
    },
    {
     "data": {
      "application/vnd.jupyter.widget-view+json": {
       "model_id": "a0080d6d125c434da26634d8138d822d",
       "version_major": 2,
       "version_minor": 0
      },
      "text/plain": [
       "HBox(children=(FloatProgress(value=0.0, max=117.0), HTML(value='')))"
      ]
     },
     "metadata": {},
     "output_type": "display_data"
    },
    {
     "name": "stdout",
     "output_type": "stream",
     "text": [
      "\n"
     ]
    },
    {
     "data": {
      "application/vnd.jupyter.widget-view+json": {
       "model_id": "5c13e2d64476478993bf5cec3112792a",
       "version_major": 2,
       "version_minor": 0
      },
      "text/plain": [
       "HBox(children=(FloatProgress(value=0.0, max=74.0), HTML(value='')))"
      ]
     },
     "metadata": {},
     "output_type": "display_data"
    },
    {
     "name": "stdout",
     "output_type": "stream",
     "text": [
      "\n"
     ]
    },
    {
     "data": {
      "application/vnd.jupyter.widget-view+json": {
       "model_id": "30ce6b24e9564235a224771fe8f67989",
       "version_major": 2,
       "version_minor": 0
      },
      "text/plain": [
       "HBox(children=(FloatProgress(value=0.0, max=8.0), HTML(value='')))"
      ]
     },
     "metadata": {},
     "output_type": "display_data"
    },
    {
     "name": "stdout",
     "output_type": "stream",
     "text": [
      "\n"
     ]
    },
    {
     "data": {
      "application/vnd.jupyter.widget-view+json": {
       "model_id": "f963d656581f4968832fd59c473a055e",
       "version_major": 2,
       "version_minor": 0
      },
      "text/plain": [
       "HBox(children=(FloatProgress(value=0.0, max=10.0), HTML(value='')))"
      ]
     },
     "metadata": {},
     "output_type": "display_data"
    },
    {
     "name": "stdout",
     "output_type": "stream",
     "text": [
      "\n"
     ]
    },
    {
     "data": {
      "application/vnd.jupyter.widget-view+json": {
       "model_id": "18a122900b784c2798681755827abf5b",
       "version_major": 2,
       "version_minor": 0
      },
      "text/plain": [
       "HBox(children=(FloatProgress(value=0.0, max=69.0), HTML(value='')))"
      ]
     },
     "metadata": {},
     "output_type": "display_data"
    },
    {
     "name": "stdout",
     "output_type": "stream",
     "text": [
      "\n"
     ]
    },
    {
     "data": {
      "application/vnd.jupyter.widget-view+json": {
       "model_id": "9512e3775fa248de9b472a4a51da4881",
       "version_major": 2,
       "version_minor": 0
      },
      "text/plain": [
       "HBox(children=(FloatProgress(value=0.0, max=4.0), HTML(value='')))"
      ]
     },
     "metadata": {},
     "output_type": "display_data"
    },
    {
     "name": "stdout",
     "output_type": "stream",
     "text": [
      "\n"
     ]
    },
    {
     "data": {
      "application/vnd.jupyter.widget-view+json": {
       "model_id": "364b604c8b874d7eb99eb0b0853d50f2",
       "version_major": 2,
       "version_minor": 0
      },
      "text/plain": [
       "HBox(children=(FloatProgress(value=0.0, max=8.0), HTML(value='')))"
      ]
     },
     "metadata": {},
     "output_type": "display_data"
    },
    {
     "name": "stdout",
     "output_type": "stream",
     "text": [
      "\n"
     ]
    },
    {
     "data": {
      "application/vnd.jupyter.widget-view+json": {
       "model_id": "96eb1c3299ed491faeb3a83c39a71fe3",
       "version_major": 2,
       "version_minor": 0
      },
      "text/plain": [
       "HBox(children=(FloatProgress(value=0.0, max=65.0), HTML(value='')))"
      ]
     },
     "metadata": {},
     "output_type": "display_data"
    },
    {
     "name": "stdout",
     "output_type": "stream",
     "text": [
      "\n"
     ]
    },
    {
     "data": {
      "application/vnd.jupyter.widget-view+json": {
       "model_id": "eeff9d36278946fc8f049ac61623f826",
       "version_major": 2,
       "version_minor": 0
      },
      "text/plain": [
       "HBox(children=(FloatProgress(value=0.0, max=5.0), HTML(value='')))"
      ]
     },
     "metadata": {},
     "output_type": "display_data"
    },
    {
     "name": "stdout",
     "output_type": "stream",
     "text": [
      "\n"
     ]
    },
    {
     "data": {
      "application/vnd.jupyter.widget-view+json": {
       "model_id": "a7589c125f9247cbb95141ed2715a75b",
       "version_major": 2,
       "version_minor": 0
      },
      "text/plain": [
       "HBox(children=(FloatProgress(value=0.0, max=3.0), HTML(value='')))"
      ]
     },
     "metadata": {},
     "output_type": "display_data"
    },
    {
     "name": "stdout",
     "output_type": "stream",
     "text": [
      "\n"
     ]
    },
    {
     "data": {
      "application/vnd.jupyter.widget-view+json": {
       "model_id": "8a750178af5e472a8c4f0b040d8bac6d",
       "version_major": 2,
       "version_minor": 0
      },
      "text/plain": [
       "HBox(children=(FloatProgress(value=0.0, max=6.0), HTML(value='')))"
      ]
     },
     "metadata": {},
     "output_type": "display_data"
    },
    {
     "name": "stdout",
     "output_type": "stream",
     "text": [
      "\n"
     ]
    },
    {
     "data": {
      "application/vnd.jupyter.widget-view+json": {
       "model_id": "4732827b3c594c399a278e5c0ac95391",
       "version_major": 2,
       "version_minor": 0
      },
      "text/plain": [
       "HBox(children=(FloatProgress(value=0.0, max=26.0), HTML(value='')))"
      ]
     },
     "metadata": {},
     "output_type": "display_data"
    },
    {
     "name": "stdout",
     "output_type": "stream",
     "text": [
      "\n"
     ]
    },
    {
     "data": {
      "application/vnd.jupyter.widget-view+json": {
       "model_id": "7106435b22ad4e0b9479d82f5a8e736e",
       "version_major": 2,
       "version_minor": 0
      },
      "text/plain": [
       "HBox(children=(FloatProgress(value=0.0, max=32.0), HTML(value='')))"
      ]
     },
     "metadata": {},
     "output_type": "display_data"
    },
    {
     "name": "stdout",
     "output_type": "stream",
     "text": [
      "\n"
     ]
    },
    {
     "data": {
      "application/vnd.jupyter.widget-view+json": {
       "model_id": "b6e07b887d77447e8abf9ef2a6dfa0bf",
       "version_major": 2,
       "version_minor": 0
      },
      "text/plain": [
       "HBox(children=(FloatProgress(value=0.0, max=81.0), HTML(value='')))"
      ]
     },
     "metadata": {},
     "output_type": "display_data"
    },
    {
     "name": "stdout",
     "output_type": "stream",
     "text": [
      "\n"
     ]
    },
    {
     "data": {
      "application/vnd.jupyter.widget-view+json": {
       "model_id": "c0ffdc8df6634b8da607f3b5f4f67a68",
       "version_major": 2,
       "version_minor": 0
      },
      "text/plain": [
       "HBox(children=(FloatProgress(value=0.0, max=49.0), HTML(value='')))"
      ]
     },
     "metadata": {},
     "output_type": "display_data"
    },
    {
     "name": "stdout",
     "output_type": "stream",
     "text": [
      "\n"
     ]
    },
    {
     "data": {
      "application/vnd.jupyter.widget-view+json": {
       "model_id": "b13c72ec013a4466bd676ed6983a5da2",
       "version_major": 2,
       "version_minor": 0
      },
      "text/plain": [
       "HBox(children=(FloatProgress(value=0.0, max=9.0), HTML(value='')))"
      ]
     },
     "metadata": {},
     "output_type": "display_data"
    },
    {
     "name": "stdout",
     "output_type": "stream",
     "text": [
      "\n"
     ]
    },
    {
     "data": {
      "application/vnd.jupyter.widget-view+json": {
       "model_id": "fb4f5358da2241a08a38ef87cb8454b6",
       "version_major": 2,
       "version_minor": 0
      },
      "text/plain": [
       "HBox(children=(FloatProgress(value=0.0, max=5.0), HTML(value='')))"
      ]
     },
     "metadata": {},
     "output_type": "display_data"
    },
    {
     "name": "stdout",
     "output_type": "stream",
     "text": [
      "\n"
     ]
    },
    {
     "data": {
      "application/vnd.jupyter.widget-view+json": {
       "model_id": "0244053e1ce8413baf91190aadd74a62",
       "version_major": 2,
       "version_minor": 0
      },
      "text/plain": [
       "HBox(children=(FloatProgress(value=0.0, max=13.0), HTML(value='')))"
      ]
     },
     "metadata": {},
     "output_type": "display_data"
    },
    {
     "name": "stdout",
     "output_type": "stream",
     "text": [
      "\n"
     ]
    },
    {
     "data": {
      "application/vnd.jupyter.widget-view+json": {
       "model_id": "d52e9bdb967645fe95468b2b5017bf53",
       "version_major": 2,
       "version_minor": 0
      },
      "text/plain": [
       "HBox(children=(FloatProgress(value=0.0, max=29.0), HTML(value='')))"
      ]
     },
     "metadata": {},
     "output_type": "display_data"
    },
    {
     "name": "stdout",
     "output_type": "stream",
     "text": [
      "\n"
     ]
    },
    {
     "data": {
      "application/vnd.jupyter.widget-view+json": {
       "model_id": "4e8519daec904591ba7dee317d141f64",
       "version_major": 2,
       "version_minor": 0
      },
      "text/plain": [
       "HBox(children=(FloatProgress(value=0.0, max=36.0), HTML(value='')))"
      ]
     },
     "metadata": {},
     "output_type": "display_data"
    },
    {
     "name": "stdout",
     "output_type": "stream",
     "text": [
      "\n"
     ]
    },
    {
     "data": {
      "application/vnd.jupyter.widget-view+json": {
       "model_id": "1dce4ff3df7e4ada9df497fb394dcea9",
       "version_major": 2,
       "version_minor": 0
      },
      "text/plain": [
       "HBox(children=(FloatProgress(value=0.0, max=28.0), HTML(value='')))"
      ]
     },
     "metadata": {},
     "output_type": "display_data"
    },
    {
     "name": "stdout",
     "output_type": "stream",
     "text": [
      "\n"
     ]
    },
    {
     "data": {
      "application/vnd.jupyter.widget-view+json": {
       "model_id": "88b1d8a9cb194895ac98fbf4364edb57",
       "version_major": 2,
       "version_minor": 0
      },
      "text/plain": [
       "HBox(children=(FloatProgress(value=0.0, max=82.0), HTML(value='')))"
      ]
     },
     "metadata": {},
     "output_type": "display_data"
    },
    {
     "name": "stdout",
     "output_type": "stream",
     "text": [
      "\n"
     ]
    },
    {
     "data": {
      "application/vnd.jupyter.widget-view+json": {
       "model_id": "d58984afddb64134a344d4a1f07a2e06",
       "version_major": 2,
       "version_minor": 0
      },
      "text/plain": [
       "HBox(children=(FloatProgress(value=0.0, max=71.0), HTML(value='')))"
      ]
     },
     "metadata": {},
     "output_type": "display_data"
    },
    {
     "name": "stdout",
     "output_type": "stream",
     "text": [
      "\n"
     ]
    },
    {
     "data": {
      "application/vnd.jupyter.widget-view+json": {
       "model_id": "858240e7a2b64bc0bf1455b275cb7bfa",
       "version_major": 2,
       "version_minor": 0
      },
      "text/plain": [
       "HBox(children=(FloatProgress(value=0.0, max=29.0), HTML(value='')))"
      ]
     },
     "metadata": {},
     "output_type": "display_data"
    },
    {
     "name": "stdout",
     "output_type": "stream",
     "text": [
      "\n"
     ]
    },
    {
     "data": {
      "application/vnd.jupyter.widget-view+json": {
       "model_id": "d4c2a20abdb04f1386f1b4e0d2d360bc",
       "version_major": 2,
       "version_minor": 0
      },
      "text/plain": [
       "HBox(children=(FloatProgress(value=0.0, max=35.0), HTML(value='')))"
      ]
     },
     "metadata": {},
     "output_type": "display_data"
    },
    {
     "name": "stdout",
     "output_type": "stream",
     "text": [
      "\n"
     ]
    },
    {
     "data": {
      "application/vnd.jupyter.widget-view+json": {
       "model_id": "38e950c3ad6341578307d4110add967b",
       "version_major": 2,
       "version_minor": 0
      },
      "text/plain": [
       "HBox(children=(FloatProgress(value=0.0, max=65.0), HTML(value='')))"
      ]
     },
     "metadata": {},
     "output_type": "display_data"
    },
    {
     "name": "stdout",
     "output_type": "stream",
     "text": [
      "\n"
     ]
    },
    {
     "data": {
      "application/vnd.jupyter.widget-view+json": {
       "model_id": "788d6256fec749bb9a9664206e8ce9fb",
       "version_major": 2,
       "version_minor": 0
      },
      "text/plain": [
       "HBox(children=(FloatProgress(value=0.0, max=5.0), HTML(value='')))"
      ]
     },
     "metadata": {},
     "output_type": "display_data"
    },
    {
     "name": "stdout",
     "output_type": "stream",
     "text": [
      "\n"
     ]
    },
    {
     "data": {
      "application/vnd.jupyter.widget-view+json": {
       "model_id": "19d30cdf091f4260a87fbec3aec82e62",
       "version_major": 2,
       "version_minor": 0
      },
      "text/plain": [
       "HBox(children=(FloatProgress(value=0.0, max=2.0), HTML(value='')))"
      ]
     },
     "metadata": {},
     "output_type": "display_data"
    },
    {
     "name": "stdout",
     "output_type": "stream",
     "text": [
      "\n"
     ]
    },
    {
     "data": {
      "application/vnd.jupyter.widget-view+json": {
       "model_id": "f5fe51d5350342a283bde95aa72a7156",
       "version_major": 2,
       "version_minor": 0
      },
      "text/plain": [
       "HBox(children=(FloatProgress(value=0.0, max=2.0), HTML(value='')))"
      ]
     },
     "metadata": {},
     "output_type": "display_data"
    },
    {
     "name": "stdout",
     "output_type": "stream",
     "text": [
      "\n"
     ]
    },
    {
     "data": {
      "application/vnd.jupyter.widget-view+json": {
       "model_id": "435bf023ffa9405182983c77ae980521",
       "version_major": 2,
       "version_minor": 0
      },
      "text/plain": [
       "HBox(children=(FloatProgress(value=0.0, max=18.0), HTML(value='')))"
      ]
     },
     "metadata": {},
     "output_type": "display_data"
    },
    {
     "name": "stdout",
     "output_type": "stream",
     "text": [
      "\n"
     ]
    },
    {
     "data": {
      "application/vnd.jupyter.widget-view+json": {
       "model_id": "c64b918f0b3844d68f22013a6872adad",
       "version_major": 2,
       "version_minor": 0
      },
      "text/plain": [
       "HBox(children=(FloatProgress(value=0.0, max=17.0), HTML(value='')))"
      ]
     },
     "metadata": {},
     "output_type": "display_data"
    },
    {
     "name": "stdout",
     "output_type": "stream",
     "text": [
      "\n"
     ]
    },
    {
     "data": {
      "application/vnd.jupyter.widget-view+json": {
       "model_id": "9e59c44c94904574b65089b5b5a0a983",
       "version_major": 2,
       "version_minor": 0
      },
      "text/plain": [
       "HBox(children=(FloatProgress(value=0.0, max=9.0), HTML(value='')))"
      ]
     },
     "metadata": {},
     "output_type": "display_data"
    },
    {
     "name": "stdout",
     "output_type": "stream",
     "text": [
      "\n"
     ]
    },
    {
     "data": {
      "application/vnd.jupyter.widget-view+json": {
       "model_id": "86e65c406e6546f1938b9c04133e05ca",
       "version_major": 2,
       "version_minor": 0
      },
      "text/plain": [
       "HBox(children=(FloatProgress(value=0.0, max=13.0), HTML(value='')))"
      ]
     },
     "metadata": {},
     "output_type": "display_data"
    },
    {
     "name": "stdout",
     "output_type": "stream",
     "text": [
      "\n"
     ]
    }
   ],
   "source": [
    "import spine_utils as spu\n",
    "tu = reload(tu)\n",
    "spu = reload(spu)\n",
    "neuron_obj.calculate_spines()"
   ]
  },
  {
   "cell_type": "code",
   "execution_count": 127,
   "metadata": {},
   "outputs": [
    {
     "name": "stdout",
     "output_type": "stream",
     "text": [
      "\n",
      " Working on visualization type: mesh\n"
     ]
    },
    {
     "data": {
      "application/vnd.jupyter.widget-view+json": {
       "model_id": "244bde69406141c9a6c7d7e9716d3b27",
       "version_major": 2,
       "version_minor": 0
      },
      "text/plain": [
       "VBox(children=(Figure(camera=PerspectiveCamera(fov=46.0, position=(0.0, 0.0, 2.0), quaternion=(0.0, 0.0, 0.0, …"
      ]
     },
     "metadata": {},
     "output_type": "display_data"
    }
   ],
   "source": [
    "nviz.plot_spines(neuron_obj)"
   ]
  },
  {
   "cell_type": "code",
   "execution_count": 128,
   "metadata": {},
   "outputs": [
    {
     "data": {
      "image/png": "[encoded data removed]",
      "text/plain": [
       "<Figure size 432x288 with 1 Axes>"
      ]
     },
     "metadata": {},
     "output_type": "display_data"
    }
   ],
   "source": [
    "nviz.plot_soma_limb_concept_network(neuron_obj)"
   ]
  },
  {
   "cell_type": "code",
   "execution_count": 130,
   "metadata": {},
   "outputs": [
    {
     "data": {
      "text/plain": [
       "'double_soma_large_axon'"
      ]
     },
     "execution_count": 130,
     "metadata": {},
     "output_type": "execute_result"
    }
   ],
   "source": [
    "description"
   ]
  },
  {
   "cell_type": "code",
   "execution_count": 131,
   "metadata": {},
   "outputs": [
    {
     "name": "stdout",
     "output_type": "stream",
     "text": [
      "Saving Neuorn in suppress_output mode...please wait\n",
      "Saved File at location: /notebooks/test_neurons/Fusion_decomp/864691135382617330_double_soma_large_axon\n"
     ]
    }
   ],
   "source": [
    "neuron_obj.save_compressed_neuron(\"/notebooks/test_neurons/Fusion_decomp/\",\n",
    "                                 export_mesh=True)"
   ]
  },
  {
   "cell_type": "code",
   "execution_count": null,
   "metadata": {},
   "outputs": [],
   "source": []
  }
 ],
 "metadata": {
  "kernelspec": {
   "display_name": "Python 3",
   "language": "python",
   "name": "python3"
  },
  "language_info": {
   "codemirror_mode": {
    "name": "ipython",
    "version": 3
   },
   "file_extension": ".py",
   "mimetype": "text/x-python",
   "name": "python",
   "nbconvert_exporter": "python",
   "pygments_lexer": "ipython3",
   "version": "3.6.9"
  }
 },
 "nbformat": 4,
 "nbformat_minor": 4
}
