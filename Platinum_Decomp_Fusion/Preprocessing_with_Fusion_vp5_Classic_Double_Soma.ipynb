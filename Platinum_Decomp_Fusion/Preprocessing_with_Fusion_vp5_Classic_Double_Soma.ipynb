{
 "cells": [
  {
   "cell_type": "code",
   "execution_count": null,
   "metadata": {},
   "outputs": [],
   "source": [
    "\"\"\"\n",
    "To make sure the fusion decomposition works\n",
    "up to the part where we would stitch the sublimbs together into one limb\n",
    "\n",
    "\n",
    "\"\"\""
   ]
  },
  {
   "cell_type": "code",
   "execution_count": 1,
   "metadata": {},
   "outputs": [],
   "source": [
    "from os import sys\n",
    "sys.path.append(\"/meshAfterParty/\")"
   ]
  },
  {
   "cell_type": "code",
   "execution_count": 2,
   "metadata": {},
   "outputs": [
    {
     "name": "stderr",
     "output_type": "stream",
     "text": [
      "WARNING:root:Need to pip install annotationframeworkclient to repair mesh with pychunkedgraph\n",
      "WARNING:root:Need to pip install annotationframeworkclient to use dataset_name parameters\n"
     ]
    }
   ],
   "source": [
    "import skeleton_utils as sk\n",
    "import soma_extraction_utils as sm\n",
    "import trimesh_utils as tu\n",
    "import trimesh\n",
    "import numpy_utils as nu\n",
    "import numpy as np\n",
    "from importlib import reload\n",
    "import networkx as nx\n",
    "import time\n",
    "import compartment_utils as cu\n",
    "import networkx_utils as xu\n",
    "import matplotlib_utils as mu\n",
    "\n",
    "#importing at the bottom so don't get any conflicts\n",
    "import itertools\n",
    "from tqdm_utils import tqdm\n",
    "\n",
    "#for meshparty preprocessing\n",
    "import meshparty_skeletonize as m_sk\n",
    "import general_utils as gu\n",
    "import compartment_utils as cu\n",
    "from meshparty import trimesh_io\n",
    "from copy import deepcopy\n",
    "\n",
    "\n",
    "from neuron_utils import *\n"
   ]
  },
  {
   "cell_type": "markdown",
   "metadata": {},
   "source": [
    "# Loading the Neuron"
   ]
  },
  {
   "cell_type": "code",
   "execution_count": 3,
   "metadata": {},
   "outputs": [],
   "source": [
    "import trimesh_utils as tu\n",
    "curent_neuron = tu.load_mesh_no_processing(\"/notebooks/test_neurons/multi_soma_example.off\")"
   ]
  },
  {
   "cell_type": "code",
   "execution_count": 4,
   "metadata": {},
   "outputs": [],
   "source": [
    "segment_id = 12345\n",
    "description = \"double_soma\""
   ]
  },
  {
   "cell_type": "code",
   "execution_count": 5,
   "metadata": {},
   "outputs": [],
   "source": [
    "# import neuron_visualizations as nviz\n",
    "# nviz.plot_objects(main_mesh=curent_neuron)"
   ]
  },
  {
   "cell_type": "markdown",
   "metadata": {},
   "source": [
    "# Setting the Arguments that would be present inside a preprocessing function call"
   ]
  },
  {
   "cell_type": "code",
   "execution_count": 6,
   "metadata": {},
   "outputs": [],
   "source": [
    "#predefined arguments for the Neuron constructor\n",
    "\n",
    "decomposition_type=\"meshafterparty\"\n",
    "mesh_correspondence=\"meshparty\" #meshafterparty_adaptive\n",
    "distance_by_mesh_center=True #how the distance is calculated for mesh correspondence\n",
    "meshparty_segment_size = 100\n",
    "meshparty_n_surface_downsampling = 2\n",
    "meshparty_adaptive_correspondence_after_creation=False\n",
    "suppress_preprocessing_print=True\n",
    "computed_attribute_dict=None\n",
    "somas = None\n",
    "branch_skeleton_data=None\n",
    "combine_close_skeleton_nodes = True\n",
    "combine_close_skeleton_nodes_threshold=700\n",
    "ignore_warnings=True\n",
    "suppress_output=False\n",
    "calculate_spines=True\n",
    "widths_to_calculate=[\"no_spine_median_mesh_center\",\n",
    "                \"no_spine_mean_mesh_center\"]\n",
    "fill_hole_size=2000"
   ]
  },
  {
   "cell_type": "code",
   "execution_count": 7,
   "metadata": {},
   "outputs": [],
   "source": [
    "#arguments for the preprocess neuron\n",
    "mesh = curent_neuron\n",
    "segment_id=segment_id\n",
    "description=description\n",
    "\n",
    "sig_th_initial_split=15 #for significant splitting meshes in the intial mesh split\n",
    "limb_threshold = 2000 #the mesh faces threshold for a mesh to be qualified as a limb (otherwise too small)\n",
    "filter_end_node_length=4001 #used in cleaning the skeleton during skeletonizations\n",
    "return_no_somas = False\n",
    "\n",
    "decomposition_type=decomposition_type\n",
    "mesh_correspondence=mesh_correspondence\n",
    "distance_by_mesh_center=distance_by_mesh_center\n",
    "meshparty_segment_size =meshparty_segment_size\n",
    "meshparty_n_surface_downsampling = meshparty_n_surface_downsampling\n",
    "somas=somas\n",
    "branch_skeleton_data=branch_skeleton_data\n",
    "combine_close_skeleton_nodes = combine_close_skeleton_nodes\n",
    "combine_close_skeleton_nodes_threshold=combine_close_skeleton_nodes_threshold"
   ]
  },
  {
   "cell_type": "markdown",
   "metadata": {},
   "source": [
    "# Setting up the metadata"
   ]
  },
  {
   "cell_type": "code",
   "execution_count": 8,
   "metadata": {},
   "outputs": [],
   "source": [
    "whole_processing_tiempo = time.time()\n",
    "\n",
    "\n",
    "\"\"\"\n",
    "Purpose: To process the mesh into a format that can be loaded into the neuron class\n",
    "and used for higher order processing (how to visualize is included)\n",
    "\n",
    "\"\"\"\n",
    "if description is None:\n",
    "    description = \"no_description\"\n",
    "if segment_id is None:\n",
    "    #pick a random segment id\n",
    "    segment_id = np.random.randint(100000000)\n",
    "    print(f\"picking a random 7 digit segment id: {segment_id}\")\n",
    "    description += \"_random_id\"\n",
    "\n",
    "\n",
    "if mesh is None:\n",
    "    if current_mesh_file is None:\n",
    "        raise Exception(\"No mesh or mesh_file file were given\")\n",
    "    else:\n",
    "        current_neuron = trimesh.load_mesh(current_mesh_file)\n",
    "else:\n",
    "    current_neuron = mesh"
   ]
  },
  {
   "cell_type": "markdown",
   "metadata": {},
   "source": [
    "# ************************ Phase A: Soma and Limb Identification ********************************"
   ]
  },
  {
   "cell_type": "code",
   "execution_count": 9,
   "metadata": {},
   "outputs": [
    {
     "name": "stdout",
     "output_type": "stream",
     "text": [
      "Current Arguments Using (adjusted for decimation):\n",
      " large_mesh_threshold= 15000.0 \n",
      "large_mesh_threshold_inner = 10000.0 \n",
      "soma_size_threshold = 937.5 \n",
      "soma_size_threshold_max = 12000.0\n",
      "outer_decimation_ratio = 0.25\n",
      "inner_decimation_ratio = 0.25\n",
      "xvfb-run -n 6547 -s \"-screen 0 800x600x24\" meshlabserver $@  -i /notebooks/Platinum_Decomp_Fusion/12345/neuron_12345.off -o /notebooks/Platinum_Decomp_Fusion/12345/neuron_12345_decimated.off -s /notebooks/Platinum_Decomp_Fusion/12345/decimation_meshlab_25273999.mls\n",
      "Total found significant pieces before Poisson = [<trimesh.Trimesh(vertices.shape=(139795, 3), faces.shape=(284336, 3))>]\n",
      "----- working on large mesh #0: <trimesh.Trimesh(vertices.shape=(139795, 3), faces.shape=(284336, 3))>\n",
      "pre_largest_mesh_path = /notebooks/Platinum_Decomp_Fusion/12345/neuron_12345_decimated_largest_piece.off\n",
      "xvfb-run -n 1068 -s \"-screen 0 800x600x24\" meshlabserver $@  -i /notebooks/Platinum_Decomp_Fusion/12345/neuron_12345_decimated_largest_piece.off -o /notebooks/Platinum_Decomp_Fusion/12345/neuron_12345_decimated_largest_piece_poisson.off -s /notebooks/Platinum_Decomp_Fusion/12345/poisson_224497.mls\n",
      "Total found significant pieces AFTER Poisson = [<trimesh.Trimesh(vertices.shape=(151149, 3), faces.shape=(302306, 3))>, <trimesh.Trimesh(vertices.shape=(42565, 3), faces.shape=(85126, 3))>]\n",
      "----- working on mesh after poisson #0: <trimesh.Trimesh(vertices.shape=(151149, 3), faces.shape=(302306, 3))>\n",
      "xvfb-run -n 9526 -s \"-screen 0 800x600x24\" meshlabserver $@  -i /notebooks/Platinum_Decomp_Fusion/12345/neuron_12345_decimated_largest_piece_poisson_largest_inner.off -o /notebooks/Platinum_Decomp_Fusion/12345/neuron_12345_decimated_largest_piece_poisson_largest_inner_decimated.off -s /notebooks/Platinum_Decomp_Fusion/12345/decimation_meshlab_2553533.mls\n",
      "done exporting decimated mesh: neuron_12345_decimated_largest_piece_poisson_largest_inner.off\n",
      "1) Starting: Mesh importing and Pymesh fix\n",
      "loading mesh from vertices and triangles array\n",
      "1) Finished: Mesh importing and Pymesh fix: 0.00028777122497558594\n",
      "2) Staring: Generating CGAL segmentation for neuron\n",
      "Done writing OFF file\n",
      "\n",
      "Starting CGAL segmentation\n",
      "Right before cgal segmentation, clusters = 3, smoothness = 0.2, path_and_filename = /notebooks/Platinum_Decomp_Fusion/temp/1234500_fixed \n",
      "1\n",
      "Finished CGAL segmentation algorithm: 9.447492122650146\n",
      "2) Finished: Generating CGAL segmentation for neuron: 10.675818681716919\n",
      "3) Staring: Generating Graph Structure and Identifying Soma using soma size threshold  = 3000\n",
      "my_list_keys = [0, 1, 2, 3, 4, 5, 6, 7, 8, 9, 10, 11, 12, 13, 14, 15, 16, 17, 18, 19, 20, 21, 22, 23, 24, 25]\n",
      "changed the median value\n",
      "changed the mean value\n",
      "changed the max value\n",
      "changed the median value\n",
      "changed the mean value\n",
      "changed the max value\n",
      "soma_index = 8\n",
      "3) Finished: Generating Graph Structure and Identifying Soma: 0.02550649642944336\n",
      "Not finding the apical because soma_only option selected\n",
      "6) Staring: Classifying Entire Neuron\n",
      "Total Labels found = {'unsure', 'soma'}\n",
      "6) Finished: Classifying Entire Neuron: 5.626678466796875e-05\n",
      "7) Staring: Transfering Segmentation Labels to Face Labels\n",
      "7) Finished: Transfering Segmentation Labels to Face Labels: 0.06844735145568848\n",
      "8) Staring: Generating final Vertex and Face Labels\n",
      "8) Finished: Generating final Vertex and Face Labels: 0.4717280864715576\n",
      "Returning the soma_sdf value AND the classifier\n",
      "soma_sdf_value = 0.871016\n",
      "segmentation[sorted_medians],median_values[sorted_medians] = (array([ 8,  0, 20, 21,  2, 17,  5, 22, 11, 23,  7, 18,  3, 14, 12, 19,  6,\n",
      "       10, 16, 15,  4,  9,  1, 24, 13, 25]), array([0.871016  , 0.158708  , 0.14149   , 0.119257  , 0.113435  ,\n",
      "       0.09777135, 0.0925525 , 0.0640123 , 0.0579191 , 0.05534665,\n",
      "       0.0503552 , 0.0495514 , 0.0494046 , 0.0470996 , 0.0461567 ,\n",
      "       0.0458783 , 0.0458163 , 0.0451689 , 0.0448272 , 0.0446246 ,\n",
      "       0.043913  , 0.040362  , 0.0402801 , 0.0397722 , 0.03789885,\n",
      "       0.032957  ]))\n",
      "Sizes = [6001, 10757, 139, 735, 2243, 1552, 2469, 261, 423, 3806, 4498, 6100, 3901, 3576, 1733, 6263, 3973, 4035, 3199, 1171, 749, 3345, 2269, 953, 604, 813]\n",
      "valid_soma_segments_width\n",
      "      ------ Found 1 viable somas: [8]\n",
      "Using Poisson Surface Reconstruction for watertightness in soma_volume_ratio\n",
      "xvfb-run -n 5461 -s \"-screen 0 800x600x24\" meshlabserver $@  -i /notebooks/Platinum_Decomp_Fusion/Poisson_temp/neuron_309471.off -o /notebooks/Platinum_Decomp_Fusion/Poisson_temp/neuron_309471_poisson.off -s /notebooks/Platinum_Decomp_Fusion/Poisson_temp/poisson_566022.mls\n",
      "removed temporary input file: /notebooks/Platinum_Decomp_Fusion/Poisson_temp/neuron_309471.off\n",
      "removed temporary output file: /notebooks/Platinum_Decomp_Fusion/Poisson_temp/neuron_309471_poisson.off\n",
      "mesh.is_watertight = True\n",
      "/notebooks/Platinum_Decomp_Fusion/Poisson_temp/poisson_566022.mls is being deleted....\n",
      "Inside sphere validater: ratio_val = 2.7559128743707886\n",
      "----- working on mesh after poisson #1: <trimesh.Trimesh(vertices.shape=(42565, 3), faces.shape=(85126, 3))>\n",
      "xvfb-run -n 4024 -s \"-screen 0 800x600x24\" meshlabserver $@  -i /notebooks/Platinum_Decomp_Fusion/12345/neuron_12345_decimated_largest_piece_poisson_largest_inner.off -o /notebooks/Platinum_Decomp_Fusion/12345/neuron_12345_decimated_largest_piece_poisson_largest_inner_decimated.off -s /notebooks/Platinum_Decomp_Fusion/12345/decimation_meshlab_2553533.mls\n",
      "done exporting decimated mesh: neuron_12345_decimated_largest_piece_poisson_largest_inner.off\n",
      "1) Starting: Mesh importing and Pymesh fix\n",
      "loading mesh from vertices and triangles array\n",
      "1) Finished: Mesh importing and Pymesh fix: 0.0002720355987548828\n",
      "2) Staring: Generating CGAL segmentation for neuron\n",
      "Done writing OFF file\n",
      "\n",
      "Starting CGAL segmentation\n",
      "Right before cgal segmentation, clusters = 3, smoothness = 0.2, path_and_filename = /notebooks/Platinum_Decomp_Fusion/temp/1234501_fixed \n",
      "1\n",
      "Finished CGAL segmentation algorithm: 1.8313782215118408\n",
      "2) Finished: Generating CGAL segmentation for neuron: 2.2671408653259277\n",
      "3) Staring: Generating Graph Structure and Identifying Soma using soma size threshold  = 3000\n",
      "my_list_keys = [0, 1, 2, 3, 4, 5, 6, 7]\n",
      "changed the median value\n",
      "changed the mean value\n",
      "changed the max value\n",
      "changed the median value\n",
      "changed the mean value\n",
      "changed the median value\n",
      "changed the mean value\n",
      "changed the max value\n",
      "soma_index = 3\n",
      "3) Finished: Generating Graph Structure and Identifying Soma: 0.007734537124633789\n",
      "Not finding the apical because soma_only option selected\n",
      "6) Staring: Classifying Entire Neuron\n",
      "Total Labels found = {'unsure', 'soma'}\n",
      "6) Finished: Classifying Entire Neuron: 4.482269287109375e-05\n",
      "7) Staring: Transfering Segmentation Labels to Face Labels\n",
      "7) Finished: Transfering Segmentation Labels to Face Labels: 0.01972174644470215\n",
      "8) Staring: Generating final Vertex and Face Labels\n",
      "8) Finished: Generating final Vertex and Face Labels: 0.10484957695007324\n",
      "Returning the soma_sdf value AND the classifier\n",
      "soma_sdf_value = 0.869216\n",
      "segmentation[sorted_medians],median_values[sorted_medians] = (array([3, 7, 2, 5, 4, 1, 0, 6]), array([0.869216  , 0.366174  , 0.0673568 , 0.0568881 , 0.05548495,\n",
      "       0.0480072 , 0.0446767 , 0.0400421 ]))\n",
      "Sizes = [3899, 417, 3668, 665, 6510, 2209, 3551, 357]\n",
      "valid_soma_segments_width\n",
      "      ------ Found 1 viable somas: [3]\n",
      "Using Poisson Surface Reconstruction for watertightness in soma_volume_ratio\n",
      "xvfb-run -n 9634 -s \"-screen 0 800x600x24\" meshlabserver $@  -i /notebooks/Platinum_Decomp_Fusion/Poisson_temp/neuron_36991.off -o /notebooks/Platinum_Decomp_Fusion/Poisson_temp/neuron_36991_poisson.off -s /notebooks/Platinum_Decomp_Fusion/Poisson_temp/poisson_648463.mls\n",
      "removed temporary input file: /notebooks/Platinum_Decomp_Fusion/Poisson_temp/neuron_36991.off\n",
      "removed temporary output file: /notebooks/Platinum_Decomp_Fusion/Poisson_temp/neuron_36991_poisson.off\n",
      "mesh.is_watertight = True\n",
      "/notebooks/Platinum_Decomp_Fusion/Poisson_temp/poisson_648463.mls is being deleted....\n",
      "Inside sphere validater: ratio_val = 2.8024670385084693\n",
      "\n",
      "\n",
      "\n",
      " Total time for run = 119.22964096069336\n",
      "Before Filtering the number of somas found = 2\n",
      "Performing Soma Mesh Backtracking to original mesh\n",
      "# total split meshes = 27\n",
      "viable_meshes = [0]\n",
      "There were 26 pieces found after size threshold\n"
     ]
    },
    {
     "name": "stdout",
     "output_type": "stream",
     "text": [
      "# of soma containing seperate meshes = 1\n",
      "meshes with somas = {0: [0]}\n",
      "\n",
      "\n",
      "----Working on soma-containing mesh piece 0----\n",
      "current_soma_mesh_list = [<trimesh.Trimesh(vertices.shape=(3065, 3), faces.shape=(6001, 3))>]\n",
      "current_mesh = <trimesh.Trimesh(vertices.shape=(139795, 3), faces.shape=(284334, 3))>\n",
      "\n",
      "inside Soma subtraction\n",
      "mesh pieces in subtact soma BEFORE the filtering inside pieces = [<trimesh.Trimesh(vertices.shape=(57549, 3), faces.shape=(117088, 3))>, <trimesh.Trimesh(vertices.shape=(37282, 3), faces.shape=(75647, 3))>, <trimesh.Trimesh(vertices.shape=(14433, 3), faces.shape=(29649, 3))>, <trimesh.Trimesh(vertices.shape=(13548, 3), faces.shape=(27337, 3))>, <trimesh.Trimesh(vertices.shape=(12269, 3), faces.shape=(24920, 3))>, <trimesh.Trimesh(vertices.shape=(274, 3), faces.shape=(524, 3))>]\n",
      "There were 6 pieces found after size threshold\n",
      "mesh pieces in subtact soma AFTER the filtering inside pieces = [<trimesh.Trimesh(vertices.shape=(57549, 3), faces.shape=(117088, 3))>, <trimesh.Trimesh(vertices.shape=(37282, 3), faces.shape=(75647, 3))>, <trimesh.Trimesh(vertices.shape=(14433, 3), faces.shape=(29649, 3))>, <trimesh.Trimesh(vertices.shape=(13548, 3), faces.shape=(27337, 3))>, <trimesh.Trimesh(vertices.shape=(12269, 3), faces.shape=(24920, 3))>, <trimesh.Trimesh(vertices.shape=(274, 3), faces.shape=(524, 3))>]\n",
      "Total Time for soma mesh cancellation = 0.696\n",
      "mesh_pieces_without_soma = [<trimesh.Trimesh(vertices.shape=(57549, 3), faces.shape=(117088, 3))>, <trimesh.Trimesh(vertices.shape=(37282, 3), faces.shape=(75647, 3))>, <trimesh.Trimesh(vertices.shape=(14433, 3), faces.shape=(29649, 3))>, <trimesh.Trimesh(vertices.shape=(13548, 3), faces.shape=(27337, 3))>, <trimesh.Trimesh(vertices.shape=(12269, 3), faces.shape=(24920, 3))>, <trimesh.Trimesh(vertices.shape=(274, 3), faces.shape=(524, 3))>]\n",
      "Total time for Subtract Soam = 0.6979043483734131\n",
      "mesh_pieces_without_soma_stacked = <trimesh.Trimesh(vertices.shape=(135355, 3), faces.shape=(275165, 3))>\n",
      "Total time for Original_mesh_faces_map for mesh_pieces without soma= 0.18585538864135742\n",
      "soma_faces = [224802 224803 224804 ... 277663 277664 277665]\n",
      "soma_meshes = <trimesh.Trimesh(vertices.shape=(4637, 3), faces.shape=(9169, 3))>\n",
      "poisson_backtrack_distance_threshold = None\n",
      "Using Poisson Surface Reconstruction for watertightness in soma_volume_ratio\n",
      "xvfb-run -n 5438 -s \"-screen 0 800x600x24\" meshlabserver $@  -i /notebooks/Platinum_Decomp_Fusion/Poisson_temp/neuron_765848.off -o /notebooks/Platinum_Decomp_Fusion/Poisson_temp/neuron_765848_poisson.off -s /notebooks/Platinum_Decomp_Fusion/Poisson_temp/poisson_188840.mls\n",
      "removed temporary input file: /notebooks/Platinum_Decomp_Fusion/Poisson_temp/neuron_765848.off\n",
      "removed temporary output file: /notebooks/Platinum_Decomp_Fusion/Poisson_temp/neuron_765848_poisson.off\n",
      "mesh.is_watertight = True\n",
      "/notebooks/Platinum_Decomp_Fusion/Poisson_temp/poisson_188840.mls is being deleted....\n",
      "Inside sphere validater: ratio_val = 2.8335982592151763\n",
      "Performing Soma Mesh Backtracking to original mesh\n",
      "# total split meshes = 27\n",
      "viable_meshes = [0]\n",
      "There were 26 pieces found after size threshold\n",
      "# of soma containing seperate meshes = 1\n",
      "meshes with somas = {0: [0]}\n",
      "\n",
      "\n",
      "----Working on soma-containing mesh piece 0----\n",
      "current_soma_mesh_list = [<trimesh.Trimesh(vertices.shape=(1978, 3), faces.shape=(3899, 3))>]\n",
      "current_mesh = <trimesh.Trimesh(vertices.shape=(139795, 3), faces.shape=(284334, 3))>\n",
      "\n",
      "inside Soma subtraction\n",
      "mesh pieces in subtact soma BEFORE the filtering inside pieces = [<trimesh.Trimesh(vertices.shape=(103802, 3), faces.shape=(211252, 3))>, <trimesh.Trimesh(vertices.shape=(14946, 3), faces.shape=(30198, 3))>, <trimesh.Trimesh(vertices.shape=(7196, 3), faces.shape=(14645, 3))>, <trimesh.Trimesh(vertices.shape=(7143, 3), faces.shape=(14433, 3))>, <trimesh.Trimesh(vertices.shape=(3741, 3), faces.shape=(7637, 3))>]\n",
      "There were 5 pieces found after size threshold\n",
      "mesh pieces in subtact soma AFTER the filtering inside pieces = [<trimesh.Trimesh(vertices.shape=(103802, 3), faces.shape=(211252, 3))>, <trimesh.Trimesh(vertices.shape=(14946, 3), faces.shape=(30198, 3))>, <trimesh.Trimesh(vertices.shape=(7196, 3), faces.shape=(14645, 3))>, <trimesh.Trimesh(vertices.shape=(7143, 3), faces.shape=(14433, 3))>, <trimesh.Trimesh(vertices.shape=(3741, 3), faces.shape=(7637, 3))>]\n",
      "Total Time for soma mesh cancellation = 0.553\n",
      "mesh_pieces_without_soma = [<trimesh.Trimesh(vertices.shape=(103802, 3), faces.shape=(211252, 3))>, <trimesh.Trimesh(vertices.shape=(14946, 3), faces.shape=(30198, 3))>, <trimesh.Trimesh(vertices.shape=(7196, 3), faces.shape=(14645, 3))>, <trimesh.Trimesh(vertices.shape=(7143, 3), faces.shape=(14433, 3))>, <trimesh.Trimesh(vertices.shape=(3741, 3), faces.shape=(7637, 3))>]\n",
      "Total time for Subtract Soam = 0.5540716648101807\n",
      "mesh_pieces_without_soma_stacked = <trimesh.Trimesh(vertices.shape=(136828, 3), faces.shape=(278165, 3))>\n",
      "Total time for Original_mesh_faces_map for mesh_pieces without soma= 0.1787576675415039\n",
      "soma_faces = [107566 107567 107568 ... 138887 138923 138936]\n",
      "soma_meshes = <trimesh.Trimesh(vertices.shape=(3076, 3), faces.shape=(6169, 3))>\n",
      "poisson_backtrack_distance_threshold = None\n",
      "Using Poisson Surface Reconstruction for watertightness in soma_volume_ratio\n",
      "xvfb-run -n 9711 -s \"-screen 0 800x600x24\" meshlabserver $@  -i /notebooks/Platinum_Decomp_Fusion/Poisson_temp/neuron_557641.off -o /notebooks/Platinum_Decomp_Fusion/Poisson_temp/neuron_557641_poisson.off -s /notebooks/Platinum_Decomp_Fusion/Poisson_temp/poisson_422582.mls\n",
      "removed temporary input file: /notebooks/Platinum_Decomp_Fusion/Poisson_temp/neuron_557641.off\n",
      "removed temporary output file: /notebooks/Platinum_Decomp_Fusion/Poisson_temp/neuron_557641_poisson.off\n",
      "mesh.is_watertight = True\n",
      "/notebooks/Platinum_Decomp_Fusion/Poisson_temp/poisson_422582.mls is being deleted....\n",
      "Inside sphere validater: ratio_val = 3.1504390898376835\n",
      "Soma List = [<trimesh.Trimesh(vertices.shape=(4637, 3), faces.shape=(9169, 3))>, <trimesh.Trimesh(vertices.shape=(3076, 3), faces.shape=(6169, 3))>]\n",
      "soma_mesh_list_centers = [array([756917.0453526 , 959064.43346992, 874349.45184386]), array([863785.89151496, 994149.32620286, 859559.60871261])]\n"
     ]
    }
   ],
   "source": [
    "# --- 1) Doing the soma detection\n",
    "if somas is None:\n",
    "    soma_mesh_list,run_time,total_soma_list_sdf = sm.extract_soma_center(segment_id,\n",
    "                                             current_neuron.vertices,\n",
    "                                             current_neuron.faces)\n",
    "else:\n",
    "    soma_mesh_list,run_time,total_soma_list_sdf = somas\n",
    "\n",
    "# geting the soma centers\n",
    "if len(soma_mesh_list) <= 0:\n",
    "    print(f\"**** No Somas Found for Mesh {segment_id} so just one mesh\")\n",
    "    soma_mesh_list_centers = []\n",
    "    if return_no_somas:\n",
    "        return_value= soma_mesh_list_centers\n",
    "    raise Exception(\"Processing of No Somas is not yet implemented yet\")\n",
    "else:\n",
    "    #compute the soma centers\n",
    "    print(f\"Soma List = {soma_mesh_list}\")\n",
    "\n",
    "    soma_mesh_list_centers = sm.find_soma_centroids(soma_mesh_list)\n",
    "    print(f\"soma_mesh_list_centers = {soma_mesh_list_centers}\")"
   ]
  },
  {
   "cell_type": "code",
   "execution_count": 10,
   "metadata": {},
   "outputs": [
    {
     "name": "stdout",
     "output_type": "stream",
     "text": [
      "# total split meshes = 79\n",
      "There were 78 pieces found after size threshold\n",
      "# of soma containing seperate meshes = 1\n",
      "meshes with somas = {0: [0, 1]}\n"
     ]
    }
   ],
   "source": [
    "#--- 2) getting the soma submeshes that are connected to each soma and identifiying those that aren't (and eliminating any mesh pieces inside the soma)\n",
    "\n",
    "main_mesh_total = current_neuron\n",
    "\n",
    "\n",
    "#finding the mesh pieces that contain the soma\n",
    "#splitting the current neuron into distinct pieces\n",
    "split_meshes = tu.split_significant_pieces(\n",
    "                            main_mesh_total,\n",
    "                            significance_threshold=sig_th_initial_split,\n",
    "                            print_flag=False)\n",
    "\n",
    "print(f\"# total split meshes = {len(split_meshes)}\")\n",
    "\n",
    "\n",
    "#returns the index of the split_meshes index that contains each soma    \n",
    "containing_mesh_indices = sm.find_soma_centroid_containing_meshes(soma_mesh_list,\n",
    "                                        split_meshes)\n",
    "\n",
    "# filtering away any of the inside floating pieces: \n",
    "non_soma_touching_meshes = [m for i,m in enumerate(split_meshes)\n",
    "                 if i not in list(containing_mesh_indices.values())]\n",
    "\n",
    "\n",
    "#Adding the step that will filter away any pieces that are inside the soma\n",
    "if len(non_soma_touching_meshes) > 0 and len(soma_mesh_list) > 0:\n",
    "    \"\"\"\n",
    "    *** want to save these pieces that are inside of the soma***\n",
    "    \"\"\"\n",
    "\n",
    "    non_soma_touching_meshes,inside_pieces = sm.filter_away_inside_soma_pieces(soma_mesh_list,non_soma_touching_meshes,\n",
    "                                    significance_threshold=sig_th_initial_split,\n",
    "                                    return_inside_pieces = True)                                                      \n",
    "\n",
    "\n",
    "split_meshes # the meshes of the original mesh\n",
    "containing_mesh_indices #the mapping of each soma centroid to the correct split mesh\n",
    "soma_containing_meshes = sm.grouping_containing_mesh_indices(containing_mesh_indices)\n",
    "\n",
    "soma_touching_meshes = [split_meshes[k] for k in soma_containing_meshes.keys()]\n",
    "\n",
    "\n",
    "#     print(f\"# of non soma touching seperate meshes = {len(non_soma_touching_meshes)}\")\n",
    "#     print(f\"# of inside pieces = {len(inside_pieces)}\")\n",
    "print(f\"# of soma containing seperate meshes = {len(soma_touching_meshes)}\")\n",
    "print(f\"meshes with somas = {soma_containing_meshes}\")\n",
    "\n",
    "\n",
    "\n",
    "\n"
   ]
  },
  {
   "cell_type": "code",
   "execution_count": 11,
   "metadata": {},
   "outputs": [
    {
     "name": "stdout",
     "output_type": "stream",
     "text": [
      "\n",
      "\n",
      "----Working on soma-containing mesh piece 0----\n",
      "\n",
      "inside Soma subtraction\n",
      "mesh pieces in subtact soma BEFORE the filtering inside pieces = [<trimesh.Trimesh(vertices.shape=(153780, 3), faces.shape=(308589, 3))>, <trimesh.Trimesh(vertices.shape=(87518, 3), faces.shape=(175900, 3))>, <trimesh.Trimesh(vertices.shape=(58482, 3), faces.shape=(117235, 3))>, <trimesh.Trimesh(vertices.shape=(56775, 3), faces.shape=(114294, 3))>, <trimesh.Trimesh(vertices.shape=(54856, 3), faces.shape=(109933, 3))>, <trimesh.Trimesh(vertices.shape=(51741, 3), faces.shape=(103848, 3))>, <trimesh.Trimesh(vertices.shape=(29266, 3), faces.shape=(58666, 3))>, <trimesh.Trimesh(vertices.shape=(29129, 3), faces.shape=(58497, 3))>, <trimesh.Trimesh(vertices.shape=(14705, 3), faces.shape=(29558, 3))>, <trimesh.Trimesh(vertices.shape=(1132, 3), faces.shape=(2218, 3))>]\n",
      "There were 10 pieces found after size threshold\n",
      "mesh pieces in subtact soma AFTER the filtering inside pieces = [<trimesh.Trimesh(vertices.shape=(153780, 3), faces.shape=(308589, 3))>, <trimesh.Trimesh(vertices.shape=(87518, 3), faces.shape=(175900, 3))>, <trimesh.Trimesh(vertices.shape=(58482, 3), faces.shape=(117235, 3))>, <trimesh.Trimesh(vertices.shape=(56775, 3), faces.shape=(114294, 3))>, <trimesh.Trimesh(vertices.shape=(54856, 3), faces.shape=(109933, 3))>, <trimesh.Trimesh(vertices.shape=(51741, 3), faces.shape=(103848, 3))>, <trimesh.Trimesh(vertices.shape=(29266, 3), faces.shape=(58666, 3))>, <trimesh.Trimesh(vertices.shape=(29129, 3), faces.shape=(58497, 3))>, <trimesh.Trimesh(vertices.shape=(14705, 3), faces.shape=(29558, 3))>, <trimesh.Trimesh(vertices.shape=(1132, 3), faces.shape=(2218, 3))>]\n",
      "Total Time for soma mesh cancellation = 2.321\n",
      "Total time for Subtract Soam = 2.321575403213501\n",
      "Total time for Original_mesh_faces_map for mesh_pieces without soma= 0.722684383392334\n",
      "Total time for Original_mesh_faces_map for somas= 0.6979269981384277\n",
      "Total time for sig_non_soma_pieces= 1.0713474750518799\n",
      "Total time for split= 0.05499076843261719\n"
     ]
    },
    {
     "name": "stderr",
     "output_type": "stream",
     "text": [
      "/meshAfterParty/trimesh_utils.py:314: VisibleDeprecationWarning: Creating an ndarray from ragged nested sequences (which is a list-or-tuple of lists-or-tuples-or ndarrays with different lengths or shapes) is deprecated. If you meant to do this, you must specify 'dtype=object' when creating the ndarray\n",
      "  ordered_comp_indices = np.array([k.astype(\"int\") for k in ordered_components])\n"
     ]
    },
    {
     "name": "stdout",
     "output_type": "stream",
     "text": [
      "Total time for mesh_pieces_connectivity= 17.8405921459198\n",
      "# of insignificant_limbs = 0 with trimesh : []\n"
     ]
    }
   ],
   "source": [
    "tu = reload(tu)\n",
    "#--- 3)  Soma Extraction was great (but it wasn't the original soma faces), so now need to get the original soma faces and the original non-soma faces of original pieces\n",
    "\n",
    "#     sk.graph_skeleton_and_mesh(other_meshes=[soma_meshes])\n",
    "\n",
    "\"\"\"\n",
    "for each soma touching mesh get the following:\n",
    "1) original soma meshes\n",
    "2) significant mesh pieces touching these somas\n",
    "3) The soma connectivity to each of the significant mesh pieces\n",
    "-- later will just translate the \n",
    "\n",
    "\n",
    "Process: \n",
    "\n",
    "1) Final all soma faces (through soma extraction and then soma original faces function)\n",
    "2) Subtact all soma faces from original mesh\n",
    "3) Find all significant mesh pieces\n",
    "4) Backtrack significant mesh pieces to orignal mesh and find connectivity of each to all\n",
    "   the available somas\n",
    "Conclusion: Will have connectivity map\n",
    "\n",
    "\n",
    "\"\"\"\n",
    "\n",
    "soma_touching_mesh_data = dict()\n",
    "\n",
    "for z,(mesh_idx, soma_idxes) in enumerate(soma_containing_meshes.items()):\n",
    "    soma_touching_mesh_data[z] = dict()\n",
    "    print(f\"\\n\\n----Working on soma-containing mesh piece {z}----\")\n",
    "\n",
    "    #1) Final all soma faces (through soma extraction and then soma original faces function)\n",
    "    current_mesh = split_meshes[mesh_idx]\n",
    "\n",
    "    current_soma_mesh_list = [soma_mesh_list[k] for k in soma_idxes]\n",
    "\n",
    "    current_time = time.time()\n",
    "    mesh_pieces_without_soma = sm.subtract_soma(current_soma_mesh_list,current_mesh,\n",
    "                                                significance_threshold=250)\n",
    "    print(f\"Total time for Subtract Soam = {time.time() - current_time}\")\n",
    "    current_time = time.time()\n",
    "\n",
    "    mesh_pieces_without_soma_stacked = tu.combine_meshes(mesh_pieces_without_soma)\n",
    "\n",
    "    # find the original soma faces of mesh\n",
    "    soma_faces = tu.original_mesh_faces_map(current_mesh,mesh_pieces_without_soma_stacked,matching=False)\n",
    "    print(f\"Total time for Original_mesh_faces_map for mesh_pieces without soma= {time.time() - current_time}\")\n",
    "    current_time = time.time()\n",
    "    soma_meshes = current_mesh.submesh([soma_faces],append=True,repair=False)\n",
    "\n",
    "    # finding the non-soma original faces\n",
    "    non_soma_faces = tu.original_mesh_faces_map(current_mesh,soma_meshes,matching=False)\n",
    "    non_soma_stacked_mesh = current_mesh.submesh([non_soma_faces],append=True,repair=False)\n",
    "\n",
    "    print(f\"Total time for Original_mesh_faces_map for somas= {time.time() - current_time}\")\n",
    "    current_time = time.time()\n",
    "\n",
    "    # 3) Find all significant mesh pieces\n",
    "    sig_non_soma_pieces,insignificant_limbs = tu.split_significant_pieces(non_soma_stacked_mesh,significance_threshold=limb_threshold,\n",
    "                                                     return_insignificant_pieces=True)\n",
    "\n",
    "    print(f\"Total time for sig_non_soma_pieces= {time.time() - current_time}\")\n",
    "    current_time = time.time()\n",
    "\n",
    "    soma_touching_mesh_data[z][\"branch_meshes\"] = sig_non_soma_pieces\n",
    "\n",
    "    #4) Backtrack significant mesh pieces to orignal mesh and find connectivity of each to all the available somas\n",
    "    # get all the seperate mesh faces\n",
    "\n",
    "    #How to seperate the mesh faces\n",
    "    seperate_soma_meshes,soma_face_components = tu.split(soma_meshes,only_watertight=False)\n",
    "    #take the top largest ones depending how many were originally in the soma list\n",
    "    seperate_soma_meshes = seperate_soma_meshes[:len(soma_mesh_list)]\n",
    "    soma_face_components = soma_face_components[:len(soma_mesh_list)]\n",
    "\n",
    "    soma_touching_mesh_data[z][\"soma_meshes\"] = seperate_soma_meshes\n",
    "\n",
    "    print(f\"Total time for split= {time.time() - current_time}\")\n",
    "    current_time = time.time()\n",
    "\n",
    "\n",
    "\n",
    "    soma_to_piece_connectivity = dict()\n",
    "    soma_to_piece_touching_vertices = dict()\n",
    "    soma_to_piece_touching_vertices_idx = dict()\n",
    "    limb_root_nodes = dict()\n",
    "    \n",
    "    m_vert_graph = tu.mesh_vertex_graph(current_mesh)\n",
    "    \n",
    "    for i,curr_soma in enumerate(seperate_soma_meshes):\n",
    "        (connected_mesh_pieces,\n",
    "         connected_mesh_pieces_vertices,\n",
    "         connected_mesh_pieces_vertices_idx) = tu.mesh_pieces_connectivity(\n",
    "                        main_mesh=current_mesh,\n",
    "                        central_piece=curr_soma,\n",
    "                        periphery_pieces = sig_non_soma_pieces,\n",
    "                        return_vertices = True,\n",
    "                        return_vertices_idx=True)\n",
    "        #print(f\"soma {i}: connected_mesh_pieces = {connected_mesh_pieces}\")\n",
    "        soma_to_piece_connectivity[i] = connected_mesh_pieces\n",
    "\n",
    "        soma_to_piece_touching_vertices[i] = dict()\n",
    "        for piece_index,piece_idx in enumerate(connected_mesh_pieces):\n",
    "            limb_root_nodes[piece_idx] = connected_mesh_pieces_vertices[piece_index][0]\n",
    "            \n",
    "            \"\"\" Old way of finding vertex connected components on a mesh without trimesh function\n",
    "            #find the number of touching groups and save those \n",
    "            soma_touching_graph = m_vert_graph.subgraph(connected_mesh_pieces_vertices_idx[piece_index])\n",
    "            soma_con_comp = [current_mesh.vertices[np.array(list(k)).astype(\"int\")] for k in list(nx.connected_components(soma_touching_graph))]\n",
    "            soma_to_piece_touching_vertices[i][piece_idx] = soma_con_comp\n",
    "            \"\"\"\n",
    "            \n",
    "            soma_to_piece_touching_vertices[i][piece_idx] = tu.split_vertex_list_into_connected_components(\n",
    "                                                vertex_indices_list=connected_mesh_pieces_vertices_idx[piece_index],\n",
    "                                                mesh=current_mesh, \n",
    "                                                vertex_graph=m_vert_graph, \n",
    "                                                return_coordinates=True\n",
    "                                               )\n",
    "            \n",
    "            \n",
    "            \n",
    "            \n",
    "\n",
    "#         border_debug = False\n",
    "#         if border_debug:\n",
    "#             print(f\"soma_to_piece_connectivity = {soma_to_piece_connectivity}\")\n",
    "#             print(f\"soma_to_piece_touching_vertices = {soma_to_piece_touching_vertices}\")\n",
    "\n",
    "\n",
    "    print(f\"Total time for mesh_pieces_connectivity= {time.time() - current_time}\")\n",
    "\n",
    "    soma_touching_mesh_data[z][\"soma_to_piece_connectivity\"] = soma_to_piece_connectivity\n",
    "\n",
    "print(f\"# of insignificant_limbs = {len(insignificant_limbs)} with trimesh : {insignificant_limbs}\")\n",
    "\n",
    "\n",
    "\n",
    "# Lets have an alert if there was more than one soma disconnected meshes\n",
    "if len(soma_touching_mesh_data.keys()) > 1:\n",
    "    raise Exception(\"More than 1 disconnected meshes that contain somas\")\n",
    "\n",
    "current_mesh_data = soma_touching_mesh_data\n",
    "soma_containing_idx = 0\n",
    "\n",
    "#doing inversion of the connectivity and touching vertices\n",
    "piece_to_soma_touching_vertices = gu.flip_key_orders_for_dict(soma_to_piece_touching_vertices)\n",
    "\n",
    "\n",
    "# ****Soma Touching mesh Data has the branches and the connectivity (So this is where you end up skipping if you don't have somas)***"
   ]
  },
  {
   "cell_type": "markdown",
   "metadata": {},
   "source": [
    "# Process that will start for each limb"
   ]
  },
  {
   "cell_type": "code",
   "execution_count": 12,
   "metadata": {},
   "outputs": [],
   "source": [
    "import preprocessing_vp2 as pre\n",
    "from copy import deepcopy"
   ]
  },
  {
   "cell_type": "code",
   "execution_count": 17,
   "metadata": {
    "scrolled": true
   },
   "outputs": [
    {
     "name": "stdout",
     "output_type": "stream",
     "text": [
      "\n",
      "\n",
      "----- Working on Proper Limb #0 ---------\n",
      "Time for preparing soma vertices and root: 0.0002875328063964844\n",
      "smooth_neighborhood = 1\n"
     ]
    },
    {
     "name": "stderr",
     "output_type": "stream",
     "text": [
      "\r",
      "  0%|          | 0/1 [00:00<?, ?it/s]"
     ]
    },
    {
     "data": {
      "application/vnd.jupyter.widget-view+json": {
       "model_id": "16d8ba70b5074dc49d32d2976b4ce02a",
       "version_major": 2,
       "version_minor": 0
      },
      "text/plain": [
       "HBox(children=(FloatProgress(value=0.0, max=153779.0), HTML(value='')))"
      ]
     },
     "metadata": {},
     "output_type": "display_data"
    },
    {
     "name": "stderr",
     "output_type": "stream",
     "text": [
      "100%|██████████| 1/1 [00:03<00:00,  3.35s/it]"
     ]
    },
    {
     "name": "stdout",
     "output_type": "stream",
     "text": [
      "\n"
     ]
    },
    {
     "name": "stderr",
     "output_type": "stream",
     "text": [
      "\n"
     ]
    },
    {
     "name": "stdout",
     "output_type": "stream",
     "text": [
      "Time for 1st pass MP skeletonization: 4.732401132583618\n",
      "branches_touching_root = [60]\n",
      "empty_indices % = 0.0\n",
      " conflict_indices % = 0.013095087640842674\n"
     ]
    },
    {
     "data": {
      "application/vnd.jupyter.widget-view+json": {
       "model_id": "119a247b6f8b4f2796794f6b112c77f3",
       "version_major": 2,
       "version_minor": 0
      },
      "text/plain": [
       "HBox(children=(FloatProgress(value=0.0, max=28.0), HTML(value='')))"
      ]
     },
     "metadata": {},
     "output_type": "display_data"
    },
    {
     "name": "stdout",
     "output_type": "stream",
     "text": [
      "\n",
      "AFTER face_lookup_resolved_test\n"
     ]
    },
    {
     "data": {
      "application/vnd.jupyter.widget-view+json": {
       "model_id": "550225d23ed34e5bb2d5ad13269a0e4b",
       "version_major": 2,
       "version_minor": 0
      },
      "text/plain": [
       "HBox(children=(FloatProgress(value=0.0, max=61.0), HTML(value='')))"
      ]
     },
     "metadata": {},
     "output_type": "display_data"
    },
    {
     "name": "stdout",
     "output_type": "stream",
     "text": [
      "\n",
      "Decomposing first pass: 5.947251796722412\n",
      "Found len(mesh_large_idx) MAP candidates: [15753, 1755, 9026, 4398, 5621, 2390, 2952, 1984, 2290, 4959, 11556, 11106, 7853, 15931, 4550, 10084, 15272, 656, 221, 7940, 6159, 1001, 2609, 12831, 885, 8838, 11439, 11080, 4676, 2778, 2610, 9879, 2443, 2257, 7364, 10487, 12961, 15416, 16057, 3963]\n",
      "mesh_large_connectivity: 1.9734208583831787\n",
      "Finding MAP candidates connected components: 0.0004286766052246094\n",
      "len(filtered_pieces) = 2\n",
      "skeleton_connectivity_MP : 0.2326500415802002\n",
      "Grouping MP Sublimbs by Graph: 0.032857418060302734\n",
      "Divinding into MP and MAP pieces: 1.6689300537109375e-06\n",
      "--- Working on MAP piece 0---\n",
      "MAP Filtering Soma Pieces: 0.01730656623840332\n",
      "inside skeletonize_connected_branch and use_surface_after_CGAL=False\n",
      "     Starting Screened Poisson\n",
      "xvfb-run -n 7510 -s \"-screen 0 800x600x24\" meshlabserver $@  -i /notebooks/Platinum_Decomp_Fusion/temp/None.off -o /notebooks/Platinum_Decomp_Fusion/temp/None_poisson.off -s /notebooks/Platinum_Decomp_Fusion/temp/poisson_45095.mls\n",
      "removed temporary input file: /notebooks/Platinum_Decomp_Fusion/temp/None.off\n",
      "removed temporary output file: /notebooks/Platinum_Decomp_Fusion/temp/None_poisson.off\n",
      "Using the close holes feature\n",
      "xvfb-run -n 5168 -s \"-screen 0 800x600x24\" meshlabserver $@  -i /notebooks/Platinum_Decomp_Fusion/temp/neuron_18973.off -o /notebooks/Platinum_Decomp_Fusion/temp/neuron_18973_fill_holes.off -s /notebooks/Platinum_Decomp_Fusion/temp/fill_holes_77823.mls\n",
      "removed temporary input file: /notebooks/Platinum_Decomp_Fusion/temp/neuron_18973.off\n",
      "removed temporary output file: /notebooks/Platinum_Decomp_Fusion/temp/neuron_18973_fill_holes.off\n",
      "-----Time for Screened Poisson= 62.596603870391846\n",
      "     Starting Calcification\n",
      "Before mesh subtraction number of skeleton edges = 3199\n",
      "Inside mesh subtraction, len(main_mesh_bbox_restricted.faces) = 272261\n"
     ]
    },
    {
     "data": {
      "application/vnd.jupyter.widget-view+json": {
       "model_id": "a2507d1f129c46ae843bca66b402f176",
       "version_major": 2,
       "version_minor": 0
      },
      "text/plain": [
       "HBox(children=(FloatProgress(value=1.0, bar_style='info', layout=Layout(width='20px'), max=1.0), HTML(value=''…"
      ]
     },
     "metadata": {},
     "output_type": "display_data"
    },
    {
     "name": "stdout",
     "output_type": "stream",
     "text": [
      "\n",
      "Total Mesh subtraction time = 62.5192\n"
     ]
    },
    {
     "data": {
      "application/vnd.jupyter.widget-view+json": {
       "model_id": "8532c52fbb3541228c09e82c191be01b",
       "version_major": 2,
       "version_minor": 0
      },
      "text/plain": [
       "HBox(children=(FloatProgress(value=1.0, bar_style='info', layout=Layout(width='20px'), max=1.0), HTML(value=''…"
      ]
     },
     "metadata": {},
     "output_type": "display_data"
    },
    {
     "name": "stdout",
     "output_type": "stream",
     "text": [
      "\n",
      "No skeletons to stack so returning empty list\n",
      "len_subgraphs AT BEGINNING of the loop\n"
     ]
    },
    {
     "data": {
      "application/vnd.jupyter.widget-view+json": {
       "model_id": "8d708c7bf2bd4e14aac7f6ca1d66c6d7",
       "version_major": 2,
       "version_minor": 0
      },
      "text/plain": [
       "HBox(children=(FloatProgress(value=0.0, max=354.0), HTML(value='')))"
      ]
     },
     "metadata": {},
     "output_type": "display_data"
    },
    {
     "name": "stdout",
     "output_type": "stream",
     "text": [
      "all graph is one component!\n",
      "\n",
      "Total time for skeleton stitching = 0.5773565769195557\n",
      "The process was using a temp folder\n",
      "    Total time for skeletonizing branch: 151.15247249603271\n",
      "Adding new branch to skeleton\n",
      "    Total time for Fixing Skeleton Soma Endpoint Extension : 12.267009735107422\n",
      "filter_end_node_length = 4001\n",
      "Using Distance measure skeletal_distance\n",
      "Going to ignore certain endnodes that are 5000 nm close to soma border vertices\n",
      "Number of end_nodes BEFORE filtering = 500\n",
      "Using an already specified end node: 1951 with index 301checking was correct node end_nodes[index] = 1951\n",
      "No close endpoints to choose from for elimination\n",
      "all_single_nodes_to_eliminate = [301]\n"
     ]
    },
    {
     "data": {
      "application/vnd.jupyter.widget-view+json": {
       "model_id": "051d8a1a8fa2447eb4871ed1953daf71",
       "version_major": 2,
       "version_minor": 0
      },
      "text/plain": [
       "HBox(children=(FloatProgress(value=0.0, max=495.0), HTML(value='')))"
      ]
     },
     "metadata": {},
     "output_type": "display_data"
    },
    {
     "name": "stdout",
     "output_type": "stream",
     "text": [
      "\n",
      "high-degree endpoints were connected so just using that connection\n",
      "curr_branch = {65}\n",
      "high-degree endpoints were connected so just using that connection\n",
      "curr_branch = {681, 683.0}\n",
      "high-degree endpoints were connected so just using that connection\n",
      "curr_branch = {1387}\n",
      "********COMBINING CLOSE SKELETON NODES WITHIN 700 DISTANCE**********\n",
      "Found 0 valid paths to replace\n",
      "valid_paths = []\n",
      "valid_path_lengths = []\n",
      "No valid paths found so just returning the original\n",
      "skeletonize_and_clean_connected_branch_CGAL: 194.97675561904907\n",
      "Working on limb correspondence for #0 MAP piece\n"
     ]
    },
    {
     "data": {
      "application/vnd.jupyter.widget-view+json": {
       "model_id": "f12b4343232440f995b25184b0c96f06",
       "version_major": 2,
       "version_minor": 0
      },
      "text/plain": [
       "HBox(children=(FloatProgress(value=1.0, bar_style='info', layout=Layout(width='20px'), max=1.0), HTML(value=''…"
      ]
     },
     "metadata": {},
     "output_type": "display_data"
    },
    {
     "name": "stdout",
     "output_type": "stream",
     "text": [
      "\n",
      "Total time for decomposition = 52.22357726097107\n",
      "mesh_correspondence_first_pass: 52.22360920906067\n",
      "Limb decomposed into 34 branches\n",
      "divided_skeleton_graph_recovered = (2273, 2, 3) and \n",
      "current_mesh_data[0]['branch_skeletons_cleaned'].shape = (2273, 2, 3)\n",
      "\n",
      "Number of connected components in deocmposed recovered graph = 1\n",
      "Number of connected components in cleaned skeleton graph= 1\n",
      "**** Warning: There were redundant edges in the skeleton*****\n",
      "The downsampled branches number of connected components = 1\n",
      "Empty submeshes = []\n",
      "\n",
      "\n",
      "--- Working on 1-to-1 correspondence-----\n",
      "max(original_labels),len(original_labels) = (33, 34)\n",
      "empty_indices % = 0.04304325628716563\n",
      " conflict_indices % = 0.041485927106710105\n"
     ]
    },
    {
     "data": {
      "application/vnd.jupyter.widget-view+json": {
       "model_id": "2dc9c9530d7f443f861a0b8d375b3b59",
       "version_major": 2,
       "version_minor": 0
      },
      "text/plain": [
       "HBox(children=(FloatProgress(value=0.0, max=119.0), HTML(value='')))"
      ]
     },
     "metadata": {},
     "output_type": "display_data"
    },
    {
     "name": "stdout",
     "output_type": "stream",
     "text": [
      "\n",
      "AFTER face_lookup_resolved_test\n",
      "Took 0 iterations to expand the label back\n"
     ]
    },
    {
     "data": {
      "application/vnd.jupyter.widget-view+json": {
       "model_id": "0c0de3d701fe4cbcba9b2571f79fba7d",
       "version_major": 2,
       "version_minor": 0
      },
      "text/plain": [
       "HBox(children=(FloatProgress(value=0.0, max=34.0), HTML(value='')))"
      ]
     },
     "metadata": {},
     "output_type": "display_data"
    },
    {
     "name": "stdout",
     "output_type": "stream",
     "text": [
      "\n",
      "Total time for MAP sublimb #0 mesh processing = 256.01605105400085\n",
      "correspondence_1_to_1: 8.798404216766357\n",
      "--- Working on MAP piece 1---\n",
      "MAP Filtering Soma Pieces: 0.0009870529174804688\n",
      "inside skeletonize_connected_branch and use_surface_after_CGAL=False\n",
      "     Starting Screened Poisson\n",
      "xvfb-run -n 9452 -s \"-screen 0 800x600x24\" meshlabserver $@  -i /notebooks/Platinum_Decomp_Fusion/temp/None.off -o /notebooks/Platinum_Decomp_Fusion/temp/None_poisson.off -s /notebooks/Platinum_Decomp_Fusion/temp/poisson_500329.mls\n",
      "removed temporary input file: /notebooks/Platinum_Decomp_Fusion/temp/None.off\n",
      "removed temporary output file: /notebooks/Platinum_Decomp_Fusion/temp/None_poisson.off\n",
      "Using the close holes feature\n",
      "xvfb-run -n 3998 -s \"-screen 0 800x600x24\" meshlabserver $@  -i /notebooks/Platinum_Decomp_Fusion/temp/neuron_21221.off -o /notebooks/Platinum_Decomp_Fusion/temp/neuron_21221_fill_holes.off -s /notebooks/Platinum_Decomp_Fusion/temp/fill_holes_498457.mls\n",
      "removed temporary input file: /notebooks/Platinum_Decomp_Fusion/temp/neuron_21221.off\n",
      "removed temporary output file: /notebooks/Platinum_Decomp_Fusion/temp/neuron_21221_fill_holes.off\n",
      "-----Time for Screened Poisson= 7.821668863296509\n",
      "     Starting Calcification\n",
      "Before mesh subtraction number of skeleton edges = 184\n",
      "Inside mesh subtraction, len(main_mesh_bbox_restricted.faces) = 9755\n"
     ]
    },
    {
     "data": {
      "application/vnd.jupyter.widget-view+json": {
       "model_id": "f299ea34b77441c887b178e351f4b989",
       "version_major": 2,
       "version_minor": 0
      },
      "text/plain": [
       "HBox(children=(FloatProgress(value=1.0, bar_style='info', layout=Layout(width='20px'), max=1.0), HTML(value=''…"
      ]
     },
     "metadata": {},
     "output_type": "display_data"
    },
    {
     "name": "stdout",
     "output_type": "stream",
     "text": [
      "\n",
      "Total Mesh subtraction time = 1.1497\n"
     ]
    },
    {
     "data": {
      "application/vnd.jupyter.widget-view+json": {
       "model_id": "a5990d8105814ada98f1cc1508029289",
       "version_major": 2,
       "version_minor": 0
      },
      "text/plain": [
       "HBox(children=(FloatProgress(value=1.0, bar_style='info', layout=Layout(width='20px'), max=1.0), HTML(value=''…"
      ]
     },
     "metadata": {},
     "output_type": "display_data"
    },
    {
     "name": "stdout",
     "output_type": "stream",
     "text": [
      "\n",
      "No skeletons to stack so returning empty list\n",
      "len_subgraphs AT BEGINNING of the loop\n"
     ]
    },
    {
     "data": {
      "application/vnd.jupyter.widget-view+json": {
       "model_id": "be4cb1e83bde45ea8d1dcbd46f9eafcc",
       "version_major": 2,
       "version_minor": 0
      },
      "text/plain": [
       "HBox(children=(FloatProgress(value=0.0, max=14.0), HTML(value='')))"
      ]
     },
     "metadata": {},
     "output_type": "display_data"
    },
    {
     "name": "stdout",
     "output_type": "stream",
     "text": [
      "all graph is one component!\n",
      "\n",
      "Total time for skeleton stitching = 0.04240822792053223\n",
      "The process was using a temp folder\n",
      "    Total time for skeletonizing branch: 9.818076848983765\n",
      "    Total time for Fixing Skeleton Soma Endpoint Extension : 1.6689300537109375e-06\n",
      "filter_end_node_length = 4001\n",
      "Using Distance measure skeletal_distance\n",
      "Going to ignore certain endnodes that are 5000 nm close to soma border vertices\n",
      "Number of end_nodes BEFORE filtering = 18\n",
      "May Eliminate end_node 16: 192 because path_len to soma border was 2419.038638598813\n",
      "May Eliminate end_node 17: 193 because path_len to soma border was 1683.538658533745\n",
      "single_node_to_eliminate = 17\n",
      "all_single_nodes_to_eliminate = [17]\n"
     ]
    },
    {
     "data": {
      "application/vnd.jupyter.widget-view+json": {
       "model_id": "1d2b33289b3240628d05bd8178d2573c",
       "version_major": 2,
       "version_minor": 0
      },
      "text/plain": [
       "HBox(children=(FloatProgress(value=0.0, max=16.0), HTML(value='')))"
      ]
     },
     "metadata": {},
     "output_type": "display_data"
    },
    {
     "name": "stdout",
     "output_type": "stream",
     "text": [
      "\n",
      "after DISTANCE cleaning limb size of skeleton = (149, 2, 3)\n",
      "********COMBINING CLOSE SKELETON NODES WITHIN 700 DISTANCE**********\n",
      "Found 0 valid paths to replace\n",
      "valid_paths = []\n",
      "valid_path_lengths = []\n",
      "No valid paths found so just returning the original\n",
      "skeletonize_and_clean_connected_branch_CGAL: 10.166370391845703\n",
      "Working on limb correspondence for #1 MAP piece\n"
     ]
    },
    {
     "data": {
      "application/vnd.jupyter.widget-view+json": {
       "model_id": "3a243bfa569e45808ba306b124847d01",
       "version_major": 2,
       "version_minor": 0
      },
      "text/plain": [
       "HBox(children=(FloatProgress(value=1.0, bar_style='info', layout=Layout(width='20px'), max=1.0), HTML(value=''…"
      ]
     },
     "metadata": {},
     "output_type": "display_data"
    },
    {
     "name": "stdout",
     "output_type": "stream",
     "text": [
      "\n",
      "Total time for decomposition = 0.9240257740020752\n",
      "mesh_correspondence_first_pass: 0.9240596294403076\n",
      "Limb decomposed into 1 branches\n",
      "divided_skeleton_graph_recovered = (149, 2, 3) and \n",
      "current_mesh_data[0]['branch_skeletons_cleaned'].shape = (149, 2, 3)\n",
      "\n",
      "Number of connected components in deocmposed recovered graph = 1\n",
      "Number of connected components in cleaned skeleton graph= 1\n",
      "The downsampled branches number of connected components = 1\n",
      "Empty submeshes = []\n",
      "\n",
      "\n",
      "--- Working on 1-to-1 correspondence-----\n",
      "max(original_labels),len(original_labels) = (0, 1)\n",
      "empty_indices % = 0.07390725765175556\n",
      " conflict_indices % = 0.0\n"
     ]
    },
    {
     "data": {
      "application/vnd.jupyter.widget-view+json": {
       "model_id": "540dc45f0c49439f84f37a3897c347bc",
       "version_major": 2,
       "version_minor": 0
      },
      "text/plain": [
       "HBox(children=(FloatProgress(value=0.0, max=7.0), HTML(value='')))"
      ]
     },
     "metadata": {},
     "output_type": "display_data"
    },
    {
     "name": "stdout",
     "output_type": "stream",
     "text": [
      "\n",
      "AFTER face_lookup_resolved_test\n"
     ]
    },
    {
     "data": {
      "application/vnd.jupyter.widget-view+json": {
       "model_id": "7d27a5755df049a7b2ea5dd1ef1159ee",
       "version_major": 2,
       "version_minor": 0
      },
      "text/plain": [
       "HBox(children=(FloatProgress(value=0.0, max=1.0), HTML(value='')))"
      ]
     },
     "metadata": {},
     "output_type": "display_data"
    },
    {
     "name": "stdout",
     "output_type": "stream",
     "text": [
      "\n",
      "Total time for MAP sublimb #1 mesh processing = 11.271954536437988\n",
      "correspondence_1_to_1: 0.1806192398071289\n",
      "Total time for MAP sublimb processing 267.28835892677307\n",
      "***************Arrived at MESH PIECES FOR MAP AND mp***************\n",
      "---- Working on MP Decomposition #0 ----\n",
      "MP filtering soma verts: 0.0019390583038330078\n",
      "Do Not Need to Fix MP Decomposition 0 so just continuing\n",
      "---- Working on MP Decomposition #1 ----\n",
      "MP filtering soma verts: 0.0028412342071533203\n",
      "Do Not Need to Fix MP Decomposition 1 so just continuing\n",
      "---- Working on MP Decomposition #2 ----\n",
      "MP filtering soma verts: 0.0028972625732421875\n",
      "Do Not Need to Fix MP Decomposition 2 so just continuing\n",
      "---- Working on MP Decomposition #3 ----\n",
      "MP filtering soma verts: 0.002872943878173828\n",
      "Do Not Need to Fix MP Decomposition 3 so just continuing\n",
      "---- Working on MP Decomposition #4 ----\n",
      "MP filtering soma verts: 0.002930879592895508\n",
      "Do Not Need to Fix MP Decomposition 4 so just continuing\n",
      "---- Working on MP Decomposition #5 ----\n",
      "MP filtering soma verts: 0.0011594295501708984\n",
      "Do Not Need to Fix MP Decomposition 5 so just continuing\n",
      "---- Working on MP Decomposition #6 ----\n",
      "MP filtering soma verts: 0.00022554397583007812\n",
      "Do Not Need to Fix MP Decomposition 6 so just continuing\n",
      "---- Working on MP Decomposition #7 ----\n",
      "MP filtering soma verts: 0.0002319812774658203\n",
      "Do Not Need to Fix MP Decomposition 7 so just continuing\n",
      "---- Working on MP Decomposition #8 ----\n",
      "MP filtering soma verts: 0.0002956390380859375\n",
      "Do Not Need to Fix MP Decomposition 8 so just continuing\n",
      "---- Working on MP Decomposition #9 ----\n",
      "MP filtering soma verts: 0.0003833770751953125\n",
      "Do Not Need to Fix MP Decomposition 9 so just continuing\n",
      "---- Working on MP Decomposition #10 ----\n",
      "MP filtering soma verts: 0.00021219253540039062\n",
      "Do Not Need to Fix MP Decomposition 10 so just continuing\n",
      "---- Working on MP Decomposition #11 ----\n",
      "MP filtering soma verts: 0.00032210350036621094\n",
      "Do Not Need to Fix MP Decomposition 11 so just continuing\n",
      "---- Working on MP Decomposition #12 ----\n",
      "MP filtering soma verts: 0.00036072731018066406\n",
      "Do Not Need to Fix MP Decomposition 12 so just continuing\n",
      "---- Working on MP Decomposition #13 ----\n",
      "MP filtering soma verts: 0.0047185420989990234\n",
      "Do Not Need to Fix MP Decomposition 13 so just continuing\n",
      "---- Working on MP Decomposition #14 ----\n",
      "MP filtering soma verts: 0.0012464523315429688\n",
      "Do Not Need to Fix MP Decomposition 14 so just continuing\n",
      "\n",
      "---- Working on (0, 0) connection-----\n",
      "winning_vertex = [738672.27000763 911719.49572209 859073.88665578]\n",
      "MP_branches_with_stitch_point = [0]\n",
      "Current stitch point was not a branch or endpoint, shortest_path_length to one = 22456.191765768108\n",
      "MAP_branches_with_stitch_point = [7]\n",
      "MAP_stitch_point_on_end_or_branch = False\n"
     ]
    },
    {
     "data": {
      "application/vnd.jupyter.widget-view+json": {
       "model_id": "77c126c585f7416ebfe5ae8f7fdcbe2e",
       "version_major": 2,
       "version_minor": 0
      },
      "text/plain": [
       "HBox(children=(FloatProgress(value=1.0, bar_style='info', layout=Layout(width='20px'), max=1.0), HTML(value=''…"
      ]
     },
     "metadata": {},
     "output_type": "display_data"
    },
    {
     "name": "stdout",
     "output_type": "stream",
     "text": [
      "\n",
      "\n",
      "\n",
      "--- Working on 1-to-1 correspondence-----\n",
      "max(original_labels),len(original_labels) = (2, 3)\n",
      "empty_indices % = 0.041122840690978886\n",
      " conflict_indices % = 0.0019673704414587333\n"
     ]
    },
    {
     "data": {
      "application/vnd.jupyter.widget-view+json": {
       "model_id": "8d08f31ebe6e4c74a4816b5a78444e1f",
       "version_major": 2,
       "version_minor": 0
      },
      "text/plain": [
       "HBox(children=(FloatProgress(value=0.0, max=12.0), HTML(value='')))"
      ]
     },
     "metadata": {},
     "output_type": "display_data"
    },
    {
     "name": "stdout",
     "output_type": "stream",
     "text": [
      "\n",
      "AFTER face_lookup_resolved_test\n"
     ]
    },
    {
     "data": {
      "application/vnd.jupyter.widget-view+json": {
       "model_id": "a57af0ee9e4b436bbd1d936b1784cb9a",
       "version_major": 2,
       "version_minor": 0
      },
      "text/plain": [
       "HBox(children=(FloatProgress(value=0.0, max=3.0), HTML(value='')))"
      ]
     },
     "metadata": {},
     "output_type": "display_data"
    },
    {
     "name": "stdout",
     "output_type": "stream",
     "text": [
      "\n",
      "Deleting branches from dictionary\n",
      " Finished with (0, 0) \n",
      "\n",
      "\n",
      "\n",
      "\n",
      "---- Working on (1, 0) connection-----\n",
      "winning_vertex = [617390.70637528 991940.3493018  899977.64549628]\n",
      "MP_branches_with_stitch_point = [0]\n",
      "Current stitch point was not a branch or endpoint, shortest_path_length to one = 43911.77985736798\n",
      "MAP_branches_with_stitch_point = [3]\n",
      "MAP_stitch_point_on_end_or_branch = False\n"
     ]
    },
    {
     "data": {
      "application/vnd.jupyter.widget-view+json": {
       "model_id": "b5bee7a11da74ea8816a53b937bce169",
       "version_major": 2,
       "version_minor": 0
      },
      "text/plain": [
       "HBox(children=(FloatProgress(value=1.0, bar_style='info', layout=Layout(width='20px'), max=1.0), HTML(value=''…"
      ]
     },
     "metadata": {},
     "output_type": "display_data"
    },
    {
     "name": "stdout",
     "output_type": "stream",
     "text": [
      "\n",
      "\n",
      "\n",
      "--- Working on 1-to-1 correspondence-----\n",
      "max(original_labels),len(original_labels) = (2, 3)\n",
      "empty_indices % = 0.05433324389589482\n",
      " conflict_indices % = 0.0014309990161881763\n"
     ]
    },
    {
     "data": {
      "application/vnd.jupyter.widget-view+json": {
       "model_id": "865470ab9a294876b8c8e511a984f034",
       "version_major": 2,
       "version_minor": 0
      },
      "text/plain": [
       "HBox(children=(FloatProgress(value=0.0, max=16.0), HTML(value='')))"
      ]
     },
     "metadata": {},
     "output_type": "display_data"
    },
    {
     "name": "stdout",
     "output_type": "stream",
     "text": [
      "\n",
      "AFTER face_lookup_resolved_test\n"
     ]
    },
    {
     "data": {
      "application/vnd.jupyter.widget-view+json": {
       "model_id": "539b2672f20542bbbd0fd4eee90d7d61",
       "version_major": 2,
       "version_minor": 0
      },
      "text/plain": [
       "HBox(children=(FloatProgress(value=0.0, max=3.0), HTML(value='')))"
      ]
     },
     "metadata": {},
     "output_type": "display_data"
    },
    {
     "name": "stdout",
     "output_type": "stream",
     "text": [
      "\n",
      "Deleting branches from dictionary\n",
      " Finished with (1, 0) \n",
      "\n",
      "\n",
      "\n",
      "\n",
      "---- Working on (2, 0) connection-----\n",
      "winning_vertex = [790061.79614569 913366.61359468 806307.92985623]\n",
      "MP_branches_with_stitch_point = [0, 1]\n",
      "Current stitch point was a branch or endpoint\n",
      "MAP_branches_with_stitch_point = [28]\n",
      "MAP_stitch_point_on_end_or_branch = True\n"
     ]
    },
    {
     "data": {
      "application/vnd.jupyter.widget-view+json": {
       "model_id": "8a5d015b48d847c9a1f01ccbb852c748",
       "version_major": 2,
       "version_minor": 0
      },
      "text/plain": [
       "HBox(children=(FloatProgress(value=1.0, bar_style='info', layout=Layout(width='20px'), max=1.0), HTML(value=''…"
      ]
     },
     "metadata": {},
     "output_type": "display_data"
    },
    {
     "name": "stdout",
     "output_type": "stream",
     "text": [
      "\n",
      "\n",
      "\n",
      "--- Working on 1-to-1 correspondence-----\n",
      "max(original_labels),len(original_labels) = (2, 3)\n",
      "empty_indices % = 0.0\n",
      " conflict_indices % = 0.013386482627320324\n"
     ]
    },
    {
     "data": {
      "application/vnd.jupyter.widget-view+json": {
       "model_id": "5f7321b0239c4c51849d5f593eaefe3a",
       "version_major": 2,
       "version_minor": 0
      },
      "text/plain": [
       "HBox(children=(FloatProgress(value=0.0, max=1.0), HTML(value='')))"
      ]
     },
     "metadata": {},
     "output_type": "display_data"
    },
    {
     "name": "stdout",
     "output_type": "stream",
     "text": [
      "\n",
      "AFTER face_lookup_resolved_test\n"
     ]
    },
    {
     "data": {
      "application/vnd.jupyter.widget-view+json": {
       "model_id": "62a7a80890204793b1dbf20822ff16bb",
       "version_major": 2,
       "version_minor": 0
      },
      "text/plain": [
       "HBox(children=(FloatProgress(value=0.0, max=3.0), HTML(value='')))"
      ]
     },
     "metadata": {},
     "output_type": "display_data"
    },
    {
     "name": "stdout",
     "output_type": "stream",
     "text": [
      "\n",
      " Finished with (2, 0) \n",
      "\n",
      "\n",
      "\n",
      "\n",
      "---- Working on (3, 0) connection-----\n",
      "winning_vertex = [747780.11929993 833448.11816831 837854.22361827]\n",
      "MP_branches_with_stitch_point = [1]\n",
      "Current stitch point was not a branch or endpoint, shortest_path_length to one = 5197.908081025676\n",
      "MAP_branches_with_stitch_point = [9]\n",
      "MAP_stitch_point_on_end_or_branch = False\n"
     ]
    },
    {
     "data": {
      "application/vnd.jupyter.widget-view+json": {
       "model_id": "14c0508869c54140b5ad8e78f0059e01",
       "version_major": 2,
       "version_minor": 0
      },
      "text/plain": [
       "HBox(children=(FloatProgress(value=1.0, bar_style='info', layout=Layout(width='20px'), max=1.0), HTML(value=''…"
      ]
     },
     "metadata": {},
     "output_type": "display_data"
    },
    {
     "name": "stdout",
     "output_type": "stream",
     "text": [
      "\n",
      "\n",
      "\n",
      "--- Working on 1-to-1 correspondence-----\n",
      "max(original_labels),len(original_labels) = (2, 3)\n",
      "empty_indices % = 0.08777396904539317\n",
      " conflict_indices % = 0.08673522384958969\n"
     ]
    },
    {
     "data": {
      "application/vnd.jupyter.widget-view+json": {
       "model_id": "1b5ff43e09534644b02695c5a7680155",
       "version_major": 2,
       "version_minor": 0
      },
      "text/plain": [
       "HBox(children=(FloatProgress(value=0.0, max=7.0), HTML(value='')))"
      ]
     },
     "metadata": {},
     "output_type": "display_data"
    },
    {
     "name": "stdout",
     "output_type": "stream",
     "text": [
      "\n",
      "AFTER face_lookup_resolved_test\n"
     ]
    },
    {
     "data": {
      "application/vnd.jupyter.widget-view+json": {
       "model_id": "b1c494ec3b6545388681231662551549",
       "version_major": 2,
       "version_minor": 0
      },
      "text/plain": [
       "HBox(children=(FloatProgress(value=0.0, max=3.0), HTML(value='')))"
      ]
     },
     "metadata": {},
     "output_type": "display_data"
    },
    {
     "name": "stdout",
     "output_type": "stream",
     "text": [
      "\n",
      "Deleting branches from dictionary\n",
      " Finished with (3, 0) \n",
      "\n",
      "\n",
      "\n",
      "\n",
      "---- Working on (4, 0) connection-----\n",
      "winning_vertex = [ 562225.09974601 1021597.93209883  901754.6503269 ]\n",
      "MP_branches_with_stitch_point = [1, 2]\n",
      "Current stitch point was not a branch or endpoint, shortest_path_length to one = 731.5066214285524\n",
      "MAP_branches_with_stitch_point = [0]\n",
      "MAP_stitch_point_on_end_or_branch = False\n"
     ]
    },
    {
     "data": {
      "application/vnd.jupyter.widget-view+json": {
       "model_id": "289ac8bf29af4c14ac1629021f5239e6",
       "version_major": 2,
       "version_minor": 0
      },
      "text/plain": [
       "HBox(children=(FloatProgress(value=1.0, bar_style='info', layout=Layout(width='20px'), max=1.0), HTML(value=''…"
      ]
     },
     "metadata": {},
     "output_type": "display_data"
    },
    {
     "name": "stdout",
     "output_type": "stream",
     "text": [
      "\n",
      "\n",
      "\n",
      "--- Working on 1-to-1 correspondence-----\n",
      "max(original_labels),len(original_labels) = (3, 4)\n",
      "empty_indices % = 0.011526048870447211\n",
      " conflict_indices % = 0.0437989857076994\n"
     ]
    },
    {
     "data": {
      "application/vnd.jupyter.widget-view+json": {
       "model_id": "67cc790957ec46f896d720e40aa544c1",
       "version_major": 2,
       "version_minor": 0
      },
      "text/plain": [
       "HBox(children=(FloatProgress(value=0.0, max=2.0), HTML(value='')))"
      ]
     },
     "metadata": {},
     "output_type": "display_data"
    },
    {
     "name": "stdout",
     "output_type": "stream",
     "text": [
      "\n",
      "AFTER face_lookup_resolved_test\n"
     ]
    },
    {
     "data": {
      "application/vnd.jupyter.widget-view+json": {
       "model_id": "44aab83f6fc64e46b3583b9316e7fa1f",
       "version_major": 2,
       "version_minor": 0
      },
      "text/plain": [
       "HBox(children=(FloatProgress(value=0.0, max=4.0), HTML(value='')))"
      ]
     },
     "metadata": {},
     "output_type": "display_data"
    },
    {
     "name": "stdout",
     "output_type": "stream",
     "text": [
      "\n",
      "Deleting branches from dictionary\n",
      " Finished with (4, 0) \n",
      "\n",
      "\n",
      "\n",
      "\n",
      "---- Working on (5, 0) connection-----\n",
      "winning_vertex = [750225.42003372 832265.31151481 843305.46652016]\n",
      "MP_branches_with_stitch_point = [0, 1]\n",
      "Current stitch point was not a branch or endpoint, shortest_path_length to one = 1683.5950599445182\n",
      "MAP_branches_with_stitch_point = [12]\n",
      "MAP_stitch_point_on_end_or_branch = False\n"
     ]
    },
    {
     "data": {
      "application/vnd.jupyter.widget-view+json": {
       "model_id": "adca0921ecda472dbe5f4ceb4b40ca79",
       "version_major": 2,
       "version_minor": 0
      },
      "text/plain": [
       "HBox(children=(FloatProgress(value=1.0, bar_style='info', layout=Layout(width='20px'), max=1.0), HTML(value=''…"
      ]
     },
     "metadata": {},
     "output_type": "display_data"
    },
    {
     "name": "stdout",
     "output_type": "stream",
     "text": [
      "\n",
      "\n",
      "\n",
      "--- Working on 1-to-1 correspondence-----\n",
      "max(original_labels),len(original_labels) = (3, 4)\n",
      "empty_indices % = 0.17457932692307693\n",
      " conflict_indices % = 0.015725160256410256\n"
     ]
    },
    {
     "data": {
      "application/vnd.jupyter.widget-view+json": {
       "model_id": "2792678ffd93479d84f32bdb35eeeac1",
       "version_major": 2,
       "version_minor": 0
      },
      "text/plain": [
       "HBox(children=(FloatProgress(value=0.0, max=18.0), HTML(value='')))"
      ]
     },
     "metadata": {},
     "output_type": "display_data"
    },
    {
     "name": "stdout",
     "output_type": "stream",
     "text": [
      "\n",
      "AFTER face_lookup_resolved_test\n"
     ]
    },
    {
     "data": {
      "application/vnd.jupyter.widget-view+json": {
       "model_id": "9844cc09022e43508dc8531bf5716ff4",
       "version_major": 2,
       "version_minor": 0
      },
      "text/plain": [
       "HBox(children=(FloatProgress(value=0.0, max=4.0), HTML(value='')))"
      ]
     },
     "metadata": {},
     "output_type": "display_data"
    },
    {
     "name": "stdout",
     "output_type": "stream",
     "text": [
      "\n",
      "Deleting branches from dictionary\n",
      " Finished with (5, 0) \n",
      "\n",
      "\n",
      "\n",
      "\n",
      "---- Working on (7, 0) connection-----\n",
      "winning_vertex = [769842.41477881 965735.55265003 825802.66754091]\n",
      "MP_branches_with_stitch_point = [0]\n",
      "Current stitch point was not a branch or endpoint, shortest_path_length to one = 26117.272972958937\n",
      "MAP_branches_with_stitch_point = [31]\n",
      "MAP_stitch_point_on_end_or_branch = False\n"
     ]
    },
    {
     "data": {
      "application/vnd.jupyter.widget-view+json": {
       "model_id": "51da09cc15f0407dbc5993190f3fbaf7",
       "version_major": 2,
       "version_minor": 0
      },
      "text/plain": [
       "HBox(children=(FloatProgress(value=1.0, bar_style='info', layout=Layout(width='20px'), max=1.0), HTML(value=''…"
      ]
     },
     "metadata": {},
     "output_type": "display_data"
    },
    {
     "name": "stdout",
     "output_type": "stream",
     "text": [
      "\n",
      "\n",
      "\n",
      "--- Working on 1-to-1 correspondence-----\n",
      "max(original_labels),len(original_labels) = (2, 3)\n",
      "empty_indices % = 0.08251244033715853\n",
      " conflict_indices % = 0.004874581090687519\n"
     ]
    },
    {
     "data": {
      "application/vnd.jupyter.widget-view+json": {
       "model_id": "8d410fcea0ea426c80ac5d07bee78bdf",
       "version_major": 2,
       "version_minor": 0
      },
      "text/plain": [
       "HBox(children=(FloatProgress(value=0.0, max=14.0), HTML(value='')))"
      ]
     },
     "metadata": {},
     "output_type": "display_data"
    },
    {
     "name": "stdout",
     "output_type": "stream",
     "text": [
      "\n",
      "AFTER face_lookup_resolved_test\n"
     ]
    },
    {
     "data": {
      "application/vnd.jupyter.widget-view+json": {
       "model_id": "3cd782c3c38a4b589dd04da64fbe1625",
       "version_major": 2,
       "version_minor": 0
      },
      "text/plain": [
       "HBox(children=(FloatProgress(value=0.0, max=3.0), HTML(value='')))"
      ]
     },
     "metadata": {},
     "output_type": "display_data"
    },
    {
     "name": "stdout",
     "output_type": "stream",
     "text": [
      "\n",
      "Deleting branches from dictionary\n",
      " Finished with (7, 0) \n",
      "\n",
      "\n",
      "\n",
      "\n",
      "---- Working on (8, 0) connection-----\n",
      "winning_vertex = [789461.38211197 884911.95391546 822530.9200346 ]\n",
      "MP_branches_with_stitch_point = [0]\n",
      "Current stitch point was not a branch or endpoint, shortest_path_length to one = 10031.543067139195\n",
      "MAP_branches_with_stitch_point = [32]\n",
      "MAP_stitch_point_on_end_or_branch = False\n"
     ]
    },
    {
     "data": {
      "application/vnd.jupyter.widget-view+json": {
       "model_id": "ba0d1715e35f4e95ba90d432dbe5e4dd",
       "version_major": 2,
       "version_minor": 0
      },
      "text/plain": [
       "HBox(children=(FloatProgress(value=1.0, bar_style='info', layout=Layout(width='20px'), max=1.0), HTML(value=''…"
      ]
     },
     "metadata": {},
     "output_type": "display_data"
    },
    {
     "name": "stdout",
     "output_type": "stream",
     "text": [
      "\n",
      "\n",
      "\n",
      "--- Working on 1-to-1 correspondence-----\n",
      "max(original_labels),len(original_labels) = (2, 3)\n",
      "empty_indices % = 0.05458089668615984\n",
      " conflict_indices % = 0.007647323436797121\n"
     ]
    },
    {
     "data": {
      "application/vnd.jupyter.widget-view+json": {
       "model_id": "9fb924654a734fccaef62b98019b1fb3",
       "version_major": 2,
       "version_minor": 0
      },
      "text/plain": [
       "HBox(children=(FloatProgress(value=0.0, max=7.0), HTML(value='')))"
      ]
     },
     "metadata": {},
     "output_type": "display_data"
    },
    {
     "name": "stdout",
     "output_type": "stream",
     "text": [
      "\n",
      "AFTER face_lookup_resolved_test\n"
     ]
    },
    {
     "data": {
      "application/vnd.jupyter.widget-view+json": {
       "model_id": "d2ecefc0238c411bb107b6ca741a44ff",
       "version_major": 2,
       "version_minor": 0
      },
      "text/plain": [
       "HBox(children=(FloatProgress(value=0.0, max=3.0), HTML(value='')))"
      ]
     },
     "metadata": {},
     "output_type": "display_data"
    },
    {
     "name": "stdout",
     "output_type": "stream",
     "text": [
      "\n",
      "Deleting branches from dictionary\n",
      " Finished with (8, 0) \n",
      "\n",
      "\n",
      "\n",
      "\n",
      "---- Working on (9, 0) connection-----\n",
      "winning_vertex = [740556.37017036 948033.81589711 881349.96314501]\n",
      "MP_branches_with_stitch_point = [0]\n",
      "Current stitch point was not a branch or endpoint, shortest_path_length to one = 18060.01793796984\n",
      "MAP_branches_with_stitch_point = [8]\n",
      "MAP_stitch_point_on_end_or_branch = False\n"
     ]
    },
    {
     "data": {
      "application/vnd.jupyter.widget-view+json": {
       "model_id": "478eb25d1f47490ea9847ef4232ed948",
       "version_major": 2,
       "version_minor": 0
      },
      "text/plain": [
       "HBox(children=(FloatProgress(value=1.0, bar_style='info', layout=Layout(width='20px'), max=1.0), HTML(value=''…"
      ]
     },
     "metadata": {},
     "output_type": "display_data"
    },
    {
     "name": "stdout",
     "output_type": "stream",
     "text": [
      "\n",
      "\n",
      "\n",
      "--- Working on 1-to-1 correspondence-----\n",
      "max(original_labels),len(original_labels) = (2, 3)\n",
      "empty_indices % = 0.017507294706127552\n",
      " conflict_indices % = 0.009289584946108497\n"
     ]
    },
    {
     "data": {
      "application/vnd.jupyter.widget-view+json": {
       "model_id": "8f1e8ac400214e8483122a3d298fb137",
       "version_major": 2,
       "version_minor": 0
      },
      "text/plain": [
       "HBox(children=(FloatProgress(value=0.0, max=9.0), HTML(value='')))"
      ]
     },
     "metadata": {},
     "output_type": "display_data"
    },
    {
     "name": "stdout",
     "output_type": "stream",
     "text": [
      "\n",
      "AFTER face_lookup_resolved_test\n"
     ]
    },
    {
     "data": {
      "application/vnd.jupyter.widget-view+json": {
       "model_id": "4e1a5e837cc4458b838381cbb4069ea0",
       "version_major": 2,
       "version_minor": 0
      },
      "text/plain": [
       "HBox(children=(FloatProgress(value=0.0, max=3.0), HTML(value='')))"
      ]
     },
     "metadata": {},
     "output_type": "display_data"
    },
    {
     "name": "stdout",
     "output_type": "stream",
     "text": [
      "\n",
      "Deleting branches from dictionary\n",
      " Finished with (9, 0) \n",
      "\n",
      "\n",
      "\n",
      "\n",
      "---- Working on (11, 0) connection-----\n",
      "winning_vertex = [657474.18915944 977164.3791609  892020.67095013]\n",
      "MP_branches_with_stitch_point = [0]\n",
      "Current stitch point was not a branch or endpoint, shortest_path_length to one = 1950.8015579708463\n",
      "MAP_branches_with_stitch_point = [5]\n",
      "MAP_stitch_point_on_end_or_branch = False\n"
     ]
    },
    {
     "data": {
      "application/vnd.jupyter.widget-view+json": {
       "model_id": "ac2b85abed674d43a41a30a0247e0eee",
       "version_major": 2,
       "version_minor": 0
      },
      "text/plain": [
       "HBox(children=(FloatProgress(value=1.0, bar_style='info', layout=Layout(width='20px'), max=1.0), HTML(value=''…"
      ]
     },
     "metadata": {},
     "output_type": "display_data"
    },
    {
     "name": "stdout",
     "output_type": "stream",
     "text": [
      "\n",
      "\n",
      "\n",
      "--- Working on 1-to-1 correspondence-----\n",
      "max(original_labels),len(original_labels) = (2, 3)\n",
      "empty_indices % = 0.03719422794968748\n",
      " conflict_indices % = 0.007407979010726136\n"
     ]
    },
    {
     "data": {
      "application/vnd.jupyter.widget-view+json": {
       "model_id": "d19f778a25b84bf792ccce48c36fface",
       "version_major": 2,
       "version_minor": 0
      },
      "text/plain": [
       "HBox(children=(FloatProgress(value=0.0, max=5.0), HTML(value='')))"
      ]
     },
     "metadata": {},
     "output_type": "display_data"
    },
    {
     "name": "stdout",
     "output_type": "stream",
     "text": [
      "\n",
      "AFTER face_lookup_resolved_test\n"
     ]
    },
    {
     "data": {
      "application/vnd.jupyter.widget-view+json": {
       "model_id": "28705f59d100407aa8d30b7c2c9f9199",
       "version_major": 2,
       "version_minor": 0
      },
      "text/plain": [
       "HBox(children=(FloatProgress(value=0.0, max=3.0), HTML(value='')))"
      ]
     },
     "metadata": {},
     "output_type": "display_data"
    },
    {
     "name": "stdout",
     "output_type": "stream",
     "text": [
      "\n",
      "Deleting branches from dictionary\n",
      " Finished with (11, 0) \n",
      "\n",
      "\n",
      "\n",
      "\n",
      "---- Working on (12, 0) connection-----\n",
      "winning_vertex = [707076.07728256 963268.4837509  886392.52779786]\n",
      "MP_branches_with_stitch_point = [0]\n",
      "Current stitch point was not a branch or endpoint, shortest_path_length to one = 5735.843767700935\n",
      "MAP_branches_with_stitch_point = [8]\n",
      "MAP_stitch_point_on_end_or_branch = False\n"
     ]
    },
    {
     "data": {
      "application/vnd.jupyter.widget-view+json": {
       "model_id": "30e4caa508904590bf96897ca5ba68c3",
       "version_major": 2,
       "version_minor": 0
      },
      "text/plain": [
       "HBox(children=(FloatProgress(value=1.0, bar_style='info', layout=Layout(width='20px'), max=1.0), HTML(value=''…"
      ]
     },
     "metadata": {},
     "output_type": "display_data"
    },
    {
     "name": "stdout",
     "output_type": "stream",
     "text": [
      "\n",
      "\n",
      "\n",
      "--- Working on 1-to-1 correspondence-----\n",
      "max(original_labels),len(original_labels) = (2, 3)\n",
      "empty_indices % = 0.017136886102403343\n",
      " conflict_indices % = 0.007732497387669801\n"
     ]
    },
    {
     "data": {
      "application/vnd.jupyter.widget-view+json": {
       "model_id": "30d2fd1b1e1e408b9423915a29125547",
       "version_major": 2,
       "version_minor": 0
      },
      "text/plain": [
       "HBox(children=(FloatProgress(value=0.0, max=10.0), HTML(value='')))"
      ]
     },
     "metadata": {},
     "output_type": "display_data"
    },
    {
     "name": "stdout",
     "output_type": "stream",
     "text": [
      "\n",
      "AFTER face_lookup_resolved_test\n"
     ]
    },
    {
     "data": {
      "application/vnd.jupyter.widget-view+json": {
       "model_id": "163e363f1f4f41ad910346c2a66b2dee",
       "version_major": 2,
       "version_minor": 0
      },
      "text/plain": [
       "HBox(children=(FloatProgress(value=0.0, max=3.0), HTML(value='')))"
      ]
     },
     "metadata": {},
     "output_type": "display_data"
    },
    {
     "name": "stdout",
     "output_type": "stream",
     "text": [
      "\n",
      "Deleting branches from dictionary\n",
      " Finished with (12, 0) \n",
      "\n",
      "\n",
      "\n",
      "\n",
      "---- Working on (13, 0) connection-----\n",
      "winning_vertex = [759831.41102267 918528.04973866 862768.90971417]\n",
      "MP_branches_with_stitch_point = [0]\n",
      "Current stitch point was not a branch or endpoint, shortest_path_length to one = 7364.38213586273\n",
      "MAP_branches_with_stitch_point = [24]\n",
      "MAP_stitch_point_on_end_or_branch = False\n"
     ]
    },
    {
     "data": {
      "application/vnd.jupyter.widget-view+json": {
       "model_id": "03b63391399d4ee7ba048c4188b82713",
       "version_major": 2,
       "version_minor": 0
      },
      "text/plain": [
       "HBox(children=(FloatProgress(value=1.0, bar_style='info', layout=Layout(width='20px'), max=1.0), HTML(value=''…"
      ]
     },
     "metadata": {},
     "output_type": "display_data"
    },
    {
     "name": "stdout",
     "output_type": "stream",
     "text": [
      "\n",
      "\n",
      "\n",
      "--- Working on 1-to-1 correspondence-----\n",
      "max(original_labels),len(original_labels) = (2, 3)\n",
      "empty_indices % = 0.015216154721274175\n",
      " conflict_indices % = 0.021899886234357225\n"
     ]
    },
    {
     "data": {
      "application/vnd.jupyter.widget-view+json": {
       "model_id": "1252040b75cd454baf256146878a04ab",
       "version_major": 2,
       "version_minor": 0
      },
      "text/plain": [
       "HBox(children=(FloatProgress(value=0.0, max=16.0), HTML(value='')))"
      ]
     },
     "metadata": {},
     "output_type": "display_data"
    },
    {
     "name": "stdout",
     "output_type": "stream",
     "text": [
      "\n",
      "AFTER face_lookup_resolved_test\n"
     ]
    },
    {
     "data": {
      "application/vnd.jupyter.widget-view+json": {
       "model_id": "8c78d8189f274bf785b529b9198b5f59",
       "version_major": 2,
       "version_minor": 0
      },
      "text/plain": [
       "HBox(children=(FloatProgress(value=0.0, max=3.0), HTML(value='')))"
      ]
     },
     "metadata": {},
     "output_type": "display_data"
    },
    {
     "name": "stdout",
     "output_type": "stream",
     "text": [
      "\n",
      "Deleting branches from dictionary\n",
      " Finished with (13, 0) \n",
      "\n",
      "\n",
      "\n",
      "\n",
      "---- Working on (14, 0) connection-----\n",
      "winning_vertex = [767602.56945079 955227.28259985 825444.88054069]\n",
      "MP_branches_with_stitch_point = [0]\n",
      "Current stitch point was not a branch or endpoint, shortest_path_length to one = 14802.235289602506\n",
      "MAP_branches_with_stitch_point = [31]\n",
      "MAP_stitch_point_on_end_or_branch = False\n"
     ]
    },
    {
     "data": {
      "application/vnd.jupyter.widget-view+json": {
       "model_id": "3f464c352b004ceba8c8a6b4782bb4c1",
       "version_major": 2,
       "version_minor": 0
      },
      "text/plain": [
       "HBox(children=(FloatProgress(value=1.0, bar_style='info', layout=Layout(width='20px'), max=1.0), HTML(value=''…"
      ]
     },
     "metadata": {},
     "output_type": "display_data"
    },
    {
     "name": "stdout",
     "output_type": "stream",
     "text": [
      "\n",
      "\n",
      "\n",
      "--- Working on 1-to-1 correspondence-----\n",
      "max(original_labels),len(original_labels) = (2, 3)\n",
      "empty_indices % = 0.06632241407132483\n",
      " conflict_indices % = 0.010004841052121995\n"
     ]
    },
    {
     "data": {
      "application/vnd.jupyter.widget-view+json": {
       "model_id": "6a009b3682c1410dbbc818176b747123",
       "version_major": 2,
       "version_minor": 0
      },
      "text/plain": [
       "HBox(children=(FloatProgress(value=0.0, max=6.0), HTML(value='')))"
      ]
     },
     "metadata": {},
     "output_type": "display_data"
    },
    {
     "name": "stdout",
     "output_type": "stream",
     "text": [
      "\n",
      "AFTER face_lookup_resolved_test\n"
     ]
    },
    {
     "data": {
      "application/vnd.jupyter.widget-view+json": {
       "model_id": "3b4beb12db5947cfae56db42ea5c348e",
       "version_major": 2,
       "version_minor": 0
      },
      "text/plain": [
       "HBox(children=(FloatProgress(value=0.0, max=3.0), HTML(value='')))"
      ]
     },
     "metadata": {},
     "output_type": "display_data"
    },
    {
     "name": "stdout",
     "output_type": "stream",
     "text": [
      "\n",
      "Deleting branches from dictionary\n",
      " Finished with (14, 0) \n",
      "\n",
      "\n",
      "\n",
      "\n",
      "---- Working on (4, 1) connection-----\n",
      "winning_vertex = [ 559655.79623005 1024226.6265392   901938.49994124]\n",
      "MP_branches_with_stitch_point = [0, 2]\n",
      "Current stitch point was a branch or endpoint\n",
      "MAP_branches_with_stitch_point = [0]\n",
      "MAP_stitch_point_on_end_or_branch = True\n"
     ]
    },
    {
     "data": {
      "application/vnd.jupyter.widget-view+json": {
       "model_id": "059b581eba2a4b78879103c31ac88f59",
       "version_major": 2,
       "version_minor": 0
      },
      "text/plain": [
       "HBox(children=(FloatProgress(value=1.0, bar_style='info', layout=Layout(width='20px'), max=1.0), HTML(value=''…"
      ]
     },
     "metadata": {},
     "output_type": "display_data"
    },
    {
     "name": "stdout",
     "output_type": "stream",
     "text": [
      "\n",
      "\n",
      "\n",
      "--- Working on 1-to-1 correspondence-----\n",
      "max(original_labels),len(original_labels) = (2, 3)\n",
      "empty_indices % = 0.09379858352046985\n",
      " conflict_indices % = 0.0028502332008982553\n"
     ]
    },
    {
     "data": {
      "application/vnd.jupyter.widget-view+json": {
       "model_id": "685befdadce248ea98d58ecf49812028",
       "version_major": 2,
       "version_minor": 0
      },
      "text/plain": [
       "HBox(children=(FloatProgress(value=0.0, max=10.0), HTML(value='')))"
      ]
     },
     "metadata": {},
     "output_type": "display_data"
    },
    {
     "name": "stdout",
     "output_type": "stream",
     "text": [
      "\n",
      "AFTER face_lookup_resolved_test\n"
     ]
    },
    {
     "data": {
      "application/vnd.jupyter.widget-view+json": {
       "model_id": "776ac75a9bcc4aa58873af861ae67af0",
       "version_major": 2,
       "version_minor": 0
      },
      "text/plain": [
       "HBox(children=(FloatProgress(value=0.0, max=3.0), HTML(value='')))"
      ]
     },
     "metadata": {},
     "output_type": "display_data"
    },
    {
     "name": "stdout",
     "output_type": "stream",
     "text": [
      "\n",
      " Finished with (4, 1) \n",
      "\n",
      "\n",
      "\n",
      "\n",
      "---- Working on (6, 1) connection-----\n",
      "winning_vertex = [ 545002.20237731 1035355.15894395  907209.72201172]\n",
      "MP_branches_with_stitch_point = [0]\n",
      "Current stitch point was not a branch or endpoint, shortest_path_length to one = 19255.939280675502\n",
      "MAP_branches_with_stitch_point = [0]\n",
      "MAP_stitch_point_on_end_or_branch = False\n"
     ]
    },
    {
     "data": {
      "application/vnd.jupyter.widget-view+json": {
       "model_id": "7b8849af5b00437b91b0ac6edd5ee0f8",
       "version_major": 2,
       "version_minor": 0
      },
      "text/plain": [
       "HBox(children=(FloatProgress(value=1.0, bar_style='info', layout=Layout(width='20px'), max=1.0), HTML(value=''…"
      ]
     },
     "metadata": {},
     "output_type": "display_data"
    },
    {
     "name": "stdout",
     "output_type": "stream",
     "text": [
      "\n",
      "\n",
      "\n",
      "--- Working on 1-to-1 correspondence-----\n",
      "max(original_labels),len(original_labels) = (2, 3)\n",
      "empty_indices % = 0.08142815448973635\n",
      " conflict_indices % = 0.005156143593734799\n"
     ]
    },
    {
     "data": {
      "application/vnd.jupyter.widget-view+json": {
       "model_id": "4a1c154820524e01b0542ded40682bf0",
       "version_major": 2,
       "version_minor": 0
      },
      "text/plain": [
       "HBox(children=(FloatProgress(value=0.0, max=7.0), HTML(value='')))"
      ]
     },
     "metadata": {},
     "output_type": "display_data"
    },
    {
     "name": "stdout",
     "output_type": "stream",
     "text": [
      "\n",
      "AFTER face_lookup_resolved_test\n"
     ]
    },
    {
     "data": {
      "application/vnd.jupyter.widget-view+json": {
       "model_id": "99517f25a06b40cd87793e3a11011b29",
       "version_major": 2,
       "version_minor": 0
      },
      "text/plain": [
       "HBox(children=(FloatProgress(value=0.0, max=3.0), HTML(value='')))"
      ]
     },
     "metadata": {},
     "output_type": "display_data"
    },
    {
     "name": "stdout",
     "output_type": "stream",
     "text": [
      "\n",
      "Deleting branches from dictionary\n",
      " Finished with (6, 1) \n",
      "\n",
      "\n",
      "\n",
      "\n",
      "---- Working on (10, 1) connection-----\n",
      "winning_vertex = [ 549141.11248633 1032480.03600108  905834.7668478 ]\n",
      "MP_branches_with_stitch_point = [0]\n",
      "Current stitch point was not a branch or endpoint, shortest_path_length to one = 13815.120214909806\n",
      "MAP_branches_with_stitch_point = [1]\n",
      "MAP_stitch_point_on_end_or_branch = False\n"
     ]
    },
    {
     "data": {
      "application/vnd.jupyter.widget-view+json": {
       "model_id": "a5f4a23175e5403d98bf3481eeaa88e0",
       "version_major": 2,
       "version_minor": 0
      },
      "text/plain": [
       "HBox(children=(FloatProgress(value=1.0, bar_style='info', layout=Layout(width='20px'), max=1.0), HTML(value=''…"
      ]
     },
     "metadata": {},
     "output_type": "display_data"
    },
    {
     "name": "stdout",
     "output_type": "stream",
     "text": [
      "\n",
      "\n",
      "\n",
      "--- Working on 1-to-1 correspondence-----\n",
      "max(original_labels),len(original_labels) = (2, 3)\n",
      "empty_indices % = 0.03816218930454431\n",
      " conflict_indices % = 0.009791614361034396\n"
     ]
    },
    {
     "data": {
      "application/vnd.jupyter.widget-view+json": {
       "model_id": "e6a06da305c241a09546b872feb8ea9c",
       "version_major": 2,
       "version_minor": 0
      },
      "text/plain": [
       "HBox(children=(FloatProgress(value=0.0, max=5.0), HTML(value='')))"
      ]
     },
     "metadata": {},
     "output_type": "display_data"
    },
    {
     "name": "stdout",
     "output_type": "stream",
     "text": [
      "\n",
      "AFTER face_lookup_resolved_test\n"
     ]
    },
    {
     "data": {
      "application/vnd.jupyter.widget-view+json": {
       "model_id": "cf8247e391da43b482a1e30977ca87d6",
       "version_major": 2,
       "version_minor": 0
      },
      "text/plain": [
       "HBox(children=(FloatProgress(value=0.0, max=3.0), HTML(value='')))"
      ]
     },
     "metadata": {},
     "output_type": "display_data"
    },
    {
     "name": "stdout",
     "output_type": "stream",
     "text": [
      "\n",
      "Deleting branches from dictionary\n",
      " Finished with (10, 1) \n",
      "\n",
      "\n",
      "\n",
      "Time for decomp of Limb 0 = 314.36283779144287\n",
      "\n",
      "\n",
      "----- Working on Proper Limb #1 ---------\n",
      "Time for preparing soma vertices and root: 0.0002529621124267578\n",
      "smooth_neighborhood = 1\n"
     ]
    },
    {
     "name": "stderr",
     "output_type": "stream",
     "text": [
      "\r",
      "  0%|          | 0/1 [00:00<?, ?it/s]"
     ]
    },
    {
     "data": {
      "application/vnd.jupyter.widget-view+json": {
       "model_id": "63e32c11178d4e2390acdeb192abd694",
       "version_major": 2,
       "version_minor": 0
      },
      "text/plain": [
       "HBox(children=(FloatProgress(value=0.0, max=87517.0), HTML(value='')))"
      ]
     },
     "metadata": {},
     "output_type": "display_data"
    },
    {
     "name": "stderr",
     "output_type": "stream",
     "text": [
      "100%|██████████| 1/1 [00:01<00:00,  1.49s/it]"
     ]
    },
    {
     "name": "stdout",
     "output_type": "stream",
     "text": [
      "\n"
     ]
    },
    {
     "name": "stderr",
     "output_type": "stream",
     "text": [
      "\n"
     ]
    },
    {
     "name": "stdout",
     "output_type": "stream",
     "text": [
      "Time for 1st pass MP skeletonization: 2.3303110599517822\n",
      "branches_touching_root = [44]\n",
      "empty_indices % = 0.0\n",
      " conflict_indices % = 0.01098351335986356\n"
     ]
    },
    {
     "data": {
      "application/vnd.jupyter.widget-view+json": {
       "model_id": "772d19b9c8d046799a959c07eb3ed582",
       "version_major": 2,
       "version_minor": 0
      },
      "text/plain": [
       "HBox(children=(FloatProgress(value=0.0, max=19.0), HTML(value='')))"
      ]
     },
     "metadata": {},
     "output_type": "display_data"
    },
    {
     "name": "stdout",
     "output_type": "stream",
     "text": [
      "\n",
      "AFTER face_lookup_resolved_test\n"
     ]
    },
    {
     "data": {
      "application/vnd.jupyter.widget-view+json": {
       "model_id": "cd5751422c604492b0b63f435da2e87c",
       "version_major": 2,
       "version_minor": 0
      },
      "text/plain": [
       "HBox(children=(FloatProgress(value=0.0, max=45.0), HTML(value='')))"
      ]
     },
     "metadata": {},
     "output_type": "display_data"
    },
    {
     "name": "stdout",
     "output_type": "stream",
     "text": [
      "\n",
      "Decomposing first pass: 3.4745874404907227\n",
      "Found len(mesh_large_idx) MAP candidates: [10787, 5516, 17880, 1997, 5557, 8250, 165, 4247, 1120, 2295, 297, 1760, 11614, 3352, 737, 2750, 4927, 4846, 13, 11, 7294, 8223, 21112, 337, 1653, 13128, 12496, 5485]\n",
      "mesh_large_connectivity: 0.7694516181945801\n",
      "Finding MAP candidates connected components: 0.00031566619873046875\n",
      "len(filtered_pieces) = 1\n",
      "skeleton_connectivity_MP : 0.12844538688659668\n",
      "Grouping MP Sublimbs by Graph: 0.024027585983276367\n",
      "Divinding into MP and MAP pieces: 1.9073486328125e-06\n",
      "--- Working on MAP piece 0---\n",
      "MAP Filtering Soma Pieces: 0.01041865348815918\n",
      "inside skeletonize_connected_branch and use_surface_after_CGAL=False\n",
      "     Starting Screened Poisson\n",
      "xvfb-run -n 1045 -s \"-screen 0 800x600x24\" meshlabserver $@  -i /notebooks/Platinum_Decomp_Fusion/temp/None.off -o /notebooks/Platinum_Decomp_Fusion/temp/None_poisson.off -s /notebooks/Platinum_Decomp_Fusion/temp/poisson_485984.mls\n",
      "removed temporary input file: /notebooks/Platinum_Decomp_Fusion/temp/None.off\n",
      "removed temporary output file: /notebooks/Platinum_Decomp_Fusion/temp/None_poisson.off\n",
      "Using the close holes feature\n",
      "xvfb-run -n 6569 -s \"-screen 0 800x600x24\" meshlabserver $@  -i /notebooks/Platinum_Decomp_Fusion/temp/neuron_4074.off -o /notebooks/Platinum_Decomp_Fusion/temp/neuron_4074_fill_holes.off -s /notebooks/Platinum_Decomp_Fusion/temp/fill_holes_744637.mls\n",
      "removed temporary input file: /notebooks/Platinum_Decomp_Fusion/temp/neuron_4074.off\n",
      "removed temporary output file: /notebooks/Platinum_Decomp_Fusion/temp/neuron_4074_fill_holes.off\n",
      "-----Time for Screened Poisson= 29.919280529022217\n",
      "     Starting Calcification\n",
      "Before mesh subtraction number of skeleton edges = 2434\n",
      "Inside mesh subtraction, len(main_mesh_bbox_restricted.faces) = 157849\n"
     ]
    },
    {
     "data": {
      "application/vnd.jupyter.widget-view+json": {
       "model_id": "fbeffddc1c084184aaa9bda72f61b0d6",
       "version_major": 2,
       "version_minor": 0
      },
      "text/plain": [
       "HBox(children=(FloatProgress(value=1.0, bar_style='info', layout=Layout(width='20px'), max=1.0), HTML(value=''…"
      ]
     },
     "metadata": {},
     "output_type": "display_data"
    },
    {
     "name": "stdout",
     "output_type": "stream",
     "text": [
      "\n",
      "Total Mesh subtraction time = 38.1155\n"
     ]
    },
    {
     "data": {
      "application/vnd.jupyter.widget-view+json": {
       "model_id": "511be425a9ed45348014252ced24e1f0",
       "version_major": 2,
       "version_minor": 0
      },
      "text/plain": [
       "HBox(children=(FloatProgress(value=1.0, bar_style='info', layout=Layout(width='20px'), max=1.0), HTML(value=''…"
      ]
     },
     "metadata": {},
     "output_type": "display_data"
    },
    {
     "name": "stdout",
     "output_type": "stream",
     "text": [
      "\n",
      "No skeletons to stack so returning empty list\n",
      "len_subgraphs AT BEGINNING of the loop\n"
     ]
    },
    {
     "data": {
      "application/vnd.jupyter.widget-view+json": {
       "model_id": "15f02af35a4f48e3891f338b3269d055",
       "version_major": 2,
       "version_minor": 0
      },
      "text/plain": [
       "HBox(children=(FloatProgress(value=0.0, max=233.0), HTML(value='')))"
      ]
     },
     "metadata": {},
     "output_type": "display_data"
    },
    {
     "name": "stdout",
     "output_type": "stream",
     "text": [
      "all graph is one component!\n",
      "\n",
      "Total time for skeleton stitching = 0.339327335357666\n",
      "The process was using a temp folder\n",
      "    Total time for skeletonizing branch: 76.09904360771179\n",
      "skipping soma 0 because closest skeleton node was already end node\n",
      "skipping soma 1 because closest skeleton node was already end node\n",
      "    Total time for Fixing Skeleton Soma Endpoint Extension : 12.793261528015137\n",
      "filter_end_node_length = 4001\n",
      "Using Distance measure skeletal_distance\n",
      "Going to ignore certain endnodes that are 5000 nm close to soma border vertices\n",
      "Number of end_nodes BEFORE filtering = 265\n",
      "Using an already specified end node: 806 with index 65checking was correct node end_nodes[index] = 806\n",
      "May Eliminate end_node 65: 806 because path_len to soma border was 2803.6269945477666\n",
      "single_node_to_eliminate = 65\n",
      "Using an already specified end node: 2518 with index 249checking was correct node end_nodes[index] = 2518\n",
      "May Eliminate end_node 249: 2518 because path_len to soma border was 2763.636468400457\n",
      "single_node_to_eliminate = 249\n",
      "all_single_nodes_to_eliminate = [65, 65, 249, 249]\n"
     ]
    },
    {
     "data": {
      "application/vnd.jupyter.widget-view+json": {
       "model_id": "4fa1f2fea26148fba2f48ccd0e6426fb",
       "version_major": 2,
       "version_minor": 0
      },
      "text/plain": [
       "HBox(children=(FloatProgress(value=0.0, max=259.0), HTML(value='')))"
      ]
     },
     "metadata": {},
     "output_type": "display_data"
    },
    {
     "name": "stdout",
     "output_type": "stream",
     "text": [
      "\n",
      "********COMBINING CLOSE SKELETON NODES WITHIN 700 DISTANCE**********\n",
      "Found 0 valid paths to replace\n",
      "valid_paths = []\n",
      "valid_path_lengths = []\n",
      "No valid paths found so just returning the original\n",
      "skeletonize_and_clean_connected_branch_CGAL: 104.39156603813171\n",
      "Working on limb correspondence for #0 MAP piece\n"
     ]
    },
    {
     "data": {
      "application/vnd.jupyter.widget-view+json": {
       "model_id": "95a9fd9460cf4c4883bd34a59b31f197",
       "version_major": 2,
       "version_minor": 0
      },
      "text/plain": [
       "HBox(children=(FloatProgress(value=1.0, bar_style='info', layout=Layout(width='20px'), max=1.0), HTML(value=''…"
      ]
     },
     "metadata": {},
     "output_type": "display_data"
    },
    {
     "name": "stdout",
     "output_type": "stream",
     "text": [
      "\n",
      "Total time for decomposition = 27.73847198486328\n",
      "mesh_correspondence_first_pass: 27.738502264022827\n",
      "Limb decomposed into 15 branches\n",
      "divided_skeleton_graph_recovered = (1995, 2, 3) and \n",
      "current_mesh_data[0]['branch_skeletons_cleaned'].shape = (1995, 2, 3)\n",
      "\n",
      "Number of connected components in deocmposed recovered graph = 1\n",
      "Number of connected components in cleaned skeleton graph= 1\n",
      "The downsampled branches number of connected components = 1\n",
      "Empty submeshes = []\n",
      "\n",
      "\n",
      "--- Working on 1-to-1 correspondence-----\n",
      "max(original_labels),len(original_labels) = (14, 15)\n",
      "empty_indices % = 0.04167907303815672\n",
      " conflict_indices % = 0.01711762507206254\n"
     ]
    },
    {
     "data": {
      "application/vnd.jupyter.widget-view+json": {
       "model_id": "11296f7958ca462e9379066898151141",
       "version_major": 2,
       "version_minor": 0
      },
      "text/plain": [
       "HBox(children=(FloatProgress(value=0.0, max=62.0), HTML(value='')))"
      ]
     },
     "metadata": {},
     "output_type": "display_data"
    },
    {
     "name": "stdout",
     "output_type": "stream",
     "text": [
      "\n",
      "AFTER face_lookup_resolved_test\n",
      "Took 0 iterations to expand the label back\n",
      "Took 0 iterations to expand the label back\n"
     ]
    },
    {
     "data": {
      "application/vnd.jupyter.widget-view+json": {
       "model_id": "0e5573c2f63649e2bed58691dbaa985f",
       "version_major": 2,
       "version_minor": 0
      },
      "text/plain": [
       "HBox(children=(FloatProgress(value=0.0, max=15.0), HTML(value='')))"
      ]
     },
     "metadata": {},
     "output_type": "display_data"
    },
    {
     "name": "stdout",
     "output_type": "stream",
     "text": [
      "\n",
      "Total time for MAP sublimb #0 mesh processing = 137.98692226409912\n",
      "correspondence_1_to_1: 5.846471071243286\n",
      "Total time for MAP sublimb processing 137.98707699775696\n",
      "***************Arrived at MESH PIECES FOR MAP AND mp***************\n",
      "---- Working on MP Decomposition #0 ----\n",
      "MP filtering soma verts: 0.006095409393310547\n",
      "Do Not Need to Fix MP Decomposition 0 so just continuing\n",
      "---- Working on MP Decomposition #1 ----\n",
      "MP filtering soma verts: 0.000408172607421875\n",
      "Do Not Need to Fix MP Decomposition 1 so just continuing\n",
      "---- Working on MP Decomposition #2 ----\n",
      "MP filtering soma verts: 0.0003867149353027344\n",
      "Do Not Need to Fix MP Decomposition 2 so just continuing\n",
      "---- Working on MP Decomposition #3 ----\n",
      "MP filtering soma verts: 0.00039076805114746094\n",
      "Do Not Need to Fix MP Decomposition 3 so just continuing\n",
      "---- Working on MP Decomposition #4 ----\n",
      "MP filtering soma verts: 0.00030159950256347656\n",
      "Do Not Need to Fix MP Decomposition 4 so just continuing\n",
      "---- Working on MP Decomposition #5 ----\n",
      "MP filtering soma verts: 0.0002942085266113281\n",
      "Do Not Need to Fix MP Decomposition 5 so just continuing\n",
      "---- Working on MP Decomposition #6 ----\n",
      "MP filtering soma verts: 0.0002205371856689453\n",
      "Do Not Need to Fix MP Decomposition 6 so just continuing\n",
      "---- Working on MP Decomposition #7 ----\n",
      "MP filtering soma verts: 0.0006282329559326172\n",
      "Do Not Need to Fix MP Decomposition 7 so just continuing\n",
      "---- Working on MP Decomposition #8 ----\n",
      "MP filtering soma verts: 0.00037860870361328125\n",
      "Do Not Need to Fix MP Decomposition 8 so just continuing\n",
      "---- Working on MP Decomposition #9 ----\n",
      "MP filtering soma verts: 0.00029277801513671875\n",
      "Do Not Need to Fix MP Decomposition 9 so just continuing\n",
      "---- Working on MP Decomposition #10 ----\n",
      "MP filtering soma verts: 0.00025463104248046875\n",
      "Do Not Need to Fix MP Decomposition 10 so just continuing\n",
      "---- Working on MP Decomposition #11 ----\n",
      "MP filtering soma verts: 0.00023102760314941406\n",
      "Do Not Need to Fix MP Decomposition 11 so just continuing\n",
      "---- Working on MP Decomposition #12 ----\n",
      "MP filtering soma verts: 0.0002040863037109375\n",
      "Do Not Need to Fix MP Decomposition 12 so just continuing\n",
      "\n",
      "---- Working on (0, 0) connection-----\n",
      "winning_vertex = [ 810776.71389258 1017836.3378414   850877.39501258]\n",
      "MP_branches_with_stitch_point = [0]\n",
      "Current stitch point was not a branch or endpoint, shortest_path_length to one = 20716.94923609176\n",
      "MAP_branches_with_stitch_point = [0]\n",
      "MAP_stitch_point_on_end_or_branch = False\n"
     ]
    },
    {
     "data": {
      "application/vnd.jupyter.widget-view+json": {
       "model_id": "1a0f06848aa742d5861790492ff447bd",
       "version_major": 2,
       "version_minor": 0
      },
      "text/plain": [
       "HBox(children=(FloatProgress(value=1.0, bar_style='info', layout=Layout(width='20px'), max=1.0), HTML(value=''…"
      ]
     },
     "metadata": {},
     "output_type": "display_data"
    },
    {
     "name": "stdout",
     "output_type": "stream",
     "text": [
      "\n",
      "\n",
      "\n",
      "--- Working on 1-to-1 correspondence-----\n",
      "max(original_labels),len(original_labels) = (2, 3)\n",
      "empty_indices % = 0.03962019386688768\n",
      " conflict_indices % = 0.0016575979243991209\n"
     ]
    },
    {
     "data": {
      "application/vnd.jupyter.widget-view+json": {
       "model_id": "3104c309cb8e403c89acc3a4034eb194",
       "version_major": 2,
       "version_minor": 0
      },
      "text/plain": [
       "HBox(children=(FloatProgress(value=0.0, max=25.0), HTML(value='')))"
      ]
     },
     "metadata": {},
     "output_type": "display_data"
    },
    {
     "name": "stdout",
     "output_type": "stream",
     "text": [
      "\n",
      "AFTER face_lookup_resolved_test\n"
     ]
    },
    {
     "data": {
      "application/vnd.jupyter.widget-view+json": {
       "model_id": "36ee2ae420754e6cad88b657e5a44d21",
       "version_major": 2,
       "version_minor": 0
      },
      "text/plain": [
       "HBox(children=(FloatProgress(value=0.0, max=3.0), HTML(value='')))"
      ]
     },
     "metadata": {},
     "output_type": "display_data"
    },
    {
     "name": "stdout",
     "output_type": "stream",
     "text": [
      "\n",
      "Deleting branches from dictionary\n",
      " Finished with (0, 0) \n",
      "\n",
      "\n",
      "\n",
      "\n",
      "---- Working on (1, 0) connection-----\n",
      "winning_vertex = [ 654119.39052006 1066395.03675066  847426.64592048]\n",
      "MP_branches_with_stitch_point = [0]\n",
      "Current stitch point was not a branch or endpoint, shortest_path_length to one = 122437.03736100522\n",
      "MAP_branches_with_stitch_point = [0]\n",
      "MAP_stitch_point_on_end_or_branch = False\n"
     ]
    },
    {
     "data": {
      "application/vnd.jupyter.widget-view+json": {
       "model_id": "7e0fe29a2a404043b835a2cd454a8ba0",
       "version_major": 2,
       "version_minor": 0
      },
      "text/plain": [
       "HBox(children=(FloatProgress(value=1.0, bar_style='info', layout=Layout(width='20px'), max=1.0), HTML(value=''…"
      ]
     },
     "metadata": {},
     "output_type": "display_data"
    },
    {
     "name": "stdout",
     "output_type": "stream",
     "text": [
      "\n",
      "\n",
      "\n",
      "--- Working on 1-to-1 correspondence-----\n",
      "max(original_labels),len(original_labels) = (2, 3)\n",
      "empty_indices % = 0.03007109833326858\n",
      " conflict_indices % = 0.000990714479972027\n"
     ]
    },
    {
     "data": {
      "application/vnd.jupyter.widget-view+json": {
       "model_id": "14059cd350824c89b9133041ac5c395d",
       "version_major": 2,
       "version_minor": 0
      },
      "text/plain": [
       "HBox(children=(FloatProgress(value=0.0, max=18.0), HTML(value='')))"
      ]
     },
     "metadata": {},
     "output_type": "display_data"
    },
    {
     "name": "stdout",
     "output_type": "stream",
     "text": [
      "\n",
      "AFTER face_lookup_resolved_test\n"
     ]
    },
    {
     "data": {
      "application/vnd.jupyter.widget-view+json": {
       "model_id": "08c97499c1d94456998c272954d91356",
       "version_major": 2,
       "version_minor": 0
      },
      "text/plain": [
       "HBox(children=(FloatProgress(value=0.0, max=3.0), HTML(value='')))"
      ]
     },
     "metadata": {},
     "output_type": "display_data"
    },
    {
     "name": "stdout",
     "output_type": "stream",
     "text": [
      "\n",
      "Deleting branches from dictionary\n",
      " Finished with (1, 0) \n",
      "\n",
      "\n",
      "\n",
      "\n",
      "---- Working on (2, 0) connection-----\n",
      "winning_vertex = [ 740875.60521871 1038687.52217102  839831.25998153]\n",
      "MP_branches_with_stitch_point = [2]\n",
      "Current stitch point was not a branch or endpoint, shortest_path_length to one = 98702.17702662757\n",
      "MAP_branches_with_stitch_point = [16]\n",
      "MAP_stitch_point_on_end_or_branch = False\n"
     ]
    },
    {
     "data": {
      "application/vnd.jupyter.widget-view+json": {
       "model_id": "03323a3fb8944c46b87085fbd8efce0e",
       "version_major": 2,
       "version_minor": 0
      },
      "text/plain": [
       "HBox(children=(FloatProgress(value=1.0, bar_style='info', layout=Layout(width='20px'), max=1.0), HTML(value=''…"
      ]
     },
     "metadata": {},
     "output_type": "display_data"
    },
    {
     "name": "stdout",
     "output_type": "stream",
     "text": [
      "\n",
      "\n",
      "\n",
      "--- Working on 1-to-1 correspondence-----\n",
      "max(original_labels),len(original_labels) = (2, 3)\n",
      "empty_indices % = 0.02320253759398496\n",
      " conflict_indices % = 0.01160126879699248\n"
     ]
    },
    {
     "data": {
      "application/vnd.jupyter.widget-view+json": {
       "model_id": "275275fa4e624e47afd029b2bc26942f",
       "version_major": 2,
       "version_minor": 0
      },
      "text/plain": [
       "HBox(children=(FloatProgress(value=0.0, max=9.0), HTML(value='')))"
      ]
     },
     "metadata": {},
     "output_type": "display_data"
    },
    {
     "name": "stdout",
     "output_type": "stream",
     "text": [
      "\n",
      "AFTER face_lookup_resolved_test\n"
     ]
    },
    {
     "data": {
      "application/vnd.jupyter.widget-view+json": {
       "model_id": "a002b505ab5344b28a3aacea9eb225e9",
       "version_major": 2,
       "version_minor": 0
      },
      "text/plain": [
       "HBox(children=(FloatProgress(value=0.0, max=3.0), HTML(value='')))"
      ]
     },
     "metadata": {},
     "output_type": "display_data"
    },
    {
     "name": "stdout",
     "output_type": "stream",
     "text": [
      "\n",
      "Deleting branches from dictionary\n",
      " Finished with (2, 0) \n",
      "\n",
      "\n",
      "\n",
      "\n",
      "---- Working on (3, 0) connection-----\n",
      "winning_vertex = [ 812753.97249805 1017331.12870068  850399.04331095]\n",
      "MP_branches_with_stitch_point = [0, 1]\n",
      "Current stitch point was not a branch or endpoint, shortest_path_length to one = 18869.24720820329\n",
      "MAP_branches_with_stitch_point = [15]\n",
      "MAP_stitch_point_on_end_or_branch = False\n"
     ]
    },
    {
     "data": {
      "application/vnd.jupyter.widget-view+json": {
       "model_id": "7dd7ac4054334ba98644138ad8c41eb0",
       "version_major": 2,
       "version_minor": 0
      },
      "text/plain": [
       "HBox(children=(FloatProgress(value=1.0, bar_style='info', layout=Layout(width='20px'), max=1.0), HTML(value=''…"
      ]
     },
     "metadata": {},
     "output_type": "display_data"
    },
    {
     "name": "stdout",
     "output_type": "stream",
     "text": [
      "\n",
      "\n",
      "\n",
      "--- Working on 1-to-1 correspondence-----\n",
      "max(original_labels),len(original_labels) = (3, 4)\n",
      "empty_indices % = 0.011505922165820644\n",
      " conflict_indices % = 0.015905245346869712\n"
     ]
    },
    {
     "data": {
      "application/vnd.jupyter.widget-view+json": {
       "model_id": "b67f89b57beb4ad9849f4e836a525784",
       "version_major": 2,
       "version_minor": 0
      },
      "text/plain": [
       "HBox(children=(FloatProgress(value=0.0, max=11.0), HTML(value='')))"
      ]
     },
     "metadata": {},
     "output_type": "display_data"
    },
    {
     "name": "stdout",
     "output_type": "stream",
     "text": [
      "\n",
      "AFTER face_lookup_resolved_test\n"
     ]
    },
    {
     "data": {
      "application/vnd.jupyter.widget-view+json": {
       "model_id": "1299d3b48a504e41ac548e630391057d",
       "version_major": 2,
       "version_minor": 0
      },
      "text/plain": [
       "HBox(children=(FloatProgress(value=0.0, max=4.0), HTML(value='')))"
      ]
     },
     "metadata": {},
     "output_type": "display_data"
    },
    {
     "name": "stdout",
     "output_type": "stream",
     "text": [
      "\n",
      "Deleting branches from dictionary\n",
      " Finished with (3, 0) \n",
      "\n",
      "\n",
      "\n",
      "\n",
      "---- Working on (4, 0) connection-----\n",
      "winning_vertex = [808492.72167126 969524.95129816 863685.18721981]\n",
      "MP_branches_with_stitch_point = [0]\n",
      "Current stitch point was not a branch or endpoint, shortest_path_length to one = 9065.012355937934\n",
      "MAP_branches_with_stitch_point = [4]\n",
      "MAP_stitch_point_on_end_or_branch = False\n"
     ]
    },
    {
     "data": {
      "application/vnd.jupyter.widget-view+json": {
       "model_id": "6c64a7792bc24aa19ebc40dbe036444c",
       "version_major": 2,
       "version_minor": 0
      },
      "text/plain": [
       "HBox(children=(FloatProgress(value=1.0, bar_style='info', layout=Layout(width='20px'), max=1.0), HTML(value=''…"
      ]
     },
     "metadata": {},
     "output_type": "display_data"
    },
    {
     "name": "stdout",
     "output_type": "stream",
     "text": [
      "\n",
      "\n",
      "\n",
      "--- Working on 1-to-1 correspondence-----\n",
      "max(original_labels),len(original_labels) = (2, 3)\n",
      "empty_indices % = 0.05566502463054187\n",
      " conflict_indices % = 0.013497536945812807\n"
     ]
    },
    {
     "data": {
      "application/vnd.jupyter.widget-view+json": {
       "model_id": "f3a2b229af844c4c91a50583e93f5c72",
       "version_major": 2,
       "version_minor": 0
      },
      "text/plain": [
       "HBox(children=(FloatProgress(value=0.0, max=7.0), HTML(value='')))"
      ]
     },
     "metadata": {},
     "output_type": "display_data"
    },
    {
     "name": "stdout",
     "output_type": "stream",
     "text": [
      "\n",
      "AFTER face_lookup_resolved_test\n"
     ]
    },
    {
     "data": {
      "application/vnd.jupyter.widget-view+json": {
       "model_id": "b86569b4deba4651a618885304757d88",
       "version_major": 2,
       "version_minor": 0
      },
      "text/plain": [
       "HBox(children=(FloatProgress(value=0.0, max=3.0), HTML(value='')))"
      ]
     },
     "metadata": {},
     "output_type": "display_data"
    },
    {
     "name": "stdout",
     "output_type": "stream",
     "text": [
      "\n",
      "Deleting branches from dictionary\n",
      " Finished with (4, 0) \n",
      "\n",
      "\n",
      "\n",
      "\n",
      "---- Working on (5, 0) connection-----\n",
      "winning_vertex = [ 866253.9786481  1034426.78992002  829394.33887847]\n",
      "MP_branches_with_stitch_point = [0]\n",
      "Current stitch point was not a branch or endpoint, shortest_path_length to one = 2823.4275877810105\n",
      "MAP_branches_with_stitch_point = [13]\n",
      "MAP_stitch_point_on_end_or_branch = False\n"
     ]
    },
    {
     "data": {
      "application/vnd.jupyter.widget-view+json": {
       "model_id": "e96e598420f944338ab635228b5bc5d7",
       "version_major": 2,
       "version_minor": 0
      },
      "text/plain": [
       "HBox(children=(FloatProgress(value=1.0, bar_style='info', layout=Layout(width='20px'), max=1.0), HTML(value=''…"
      ]
     },
     "metadata": {},
     "output_type": "display_data"
    },
    {
     "name": "stdout",
     "output_type": "stream",
     "text": [
      "\n",
      "\n",
      "\n",
      "--- Working on 1-to-1 correspondence-----\n",
      "max(original_labels),len(original_labels) = (2, 3)\n",
      "empty_indices % = 0.12099837221920781\n",
      " conflict_indices % = 0.0033640803038524143\n"
     ]
    },
    {
     "data": {
      "application/vnd.jupyter.widget-view+json": {
       "model_id": "934549b99c5d4b00b42c9f29572ddf7b",
       "version_major": 2,
       "version_minor": 0
      },
      "text/plain": [
       "HBox(children=(FloatProgress(value=0.0, max=12.0), HTML(value='')))"
      ]
     },
     "metadata": {},
     "output_type": "display_data"
    },
    {
     "name": "stdout",
     "output_type": "stream",
     "text": [
      "\n",
      "AFTER face_lookup_resolved_test\n"
     ]
    },
    {
     "data": {
      "application/vnd.jupyter.widget-view+json": {
       "model_id": "90f0ab8193654bdc8d6b0fc1f961a882",
       "version_major": 2,
       "version_minor": 0
      },
      "text/plain": [
       "HBox(children=(FloatProgress(value=0.0, max=3.0), HTML(value='')))"
      ]
     },
     "metadata": {},
     "output_type": "display_data"
    },
    {
     "name": "stdout",
     "output_type": "stream",
     "text": [
      "\n",
      "Deleting branches from dictionary\n",
      " Finished with (5, 0) \n",
      "\n",
      "\n",
      "\n",
      "\n",
      "---- Working on (6, 0) connection-----\n",
      "winning_vertex = [ 777467.28879304 1027851.604918    844537.04498641]\n",
      "MP_branches_with_stitch_point = [0]\n",
      "Current stitch point was not a branch or endpoint, shortest_path_length to one = 59269.37808066869\n",
      "MAP_branches_with_stitch_point = [17]\n",
      "MAP_stitch_point_on_end_or_branch = False\n"
     ]
    },
    {
     "data": {
      "application/vnd.jupyter.widget-view+json": {
       "model_id": "e2d3a829b0e34b48a0dc83ced5156de1",
       "version_major": 2,
       "version_minor": 0
      },
      "text/plain": [
       "HBox(children=(FloatProgress(value=1.0, bar_style='info', layout=Layout(width='20px'), max=1.0), HTML(value=''…"
      ]
     },
     "metadata": {},
     "output_type": "display_data"
    },
    {
     "name": "stdout",
     "output_type": "stream",
     "text": [
      "\n",
      "\n",
      "\n",
      "--- Working on 1-to-1 correspondence-----\n",
      "max(original_labels),len(original_labels) = (2, 3)\n",
      "empty_indices % = 0.015093642188270084\n",
      " conflict_indices % = 0.005051749630359783\n"
     ]
    },
    {
     "data": {
      "application/vnd.jupyter.widget-view+json": {
       "model_id": "d20c95dd17674e32898f80533a28d8fd",
       "version_major": 2,
       "version_minor": 0
      },
      "text/plain": [
       "HBox(children=(FloatProgress(value=0.0, max=8.0), HTML(value='')))"
      ]
     },
     "metadata": {},
     "output_type": "display_data"
    },
    {
     "name": "stdout",
     "output_type": "stream",
     "text": [
      "\n",
      "AFTER face_lookup_resolved_test\n"
     ]
    },
    {
     "data": {
      "application/vnd.jupyter.widget-view+json": {
       "model_id": "03bbe1a7130345d488f04061ee1fb7b9",
       "version_major": 2,
       "version_minor": 0
      },
      "text/plain": [
       "HBox(children=(FloatProgress(value=0.0, max=3.0), HTML(value='')))"
      ]
     },
     "metadata": {},
     "output_type": "display_data"
    },
    {
     "name": "stdout",
     "output_type": "stream",
     "text": [
      "\n",
      "Deleting branches from dictionary\n",
      " Finished with (6, 0) \n",
      "\n",
      "\n",
      "\n",
      "\n",
      "---- Working on (7, 0) connection-----\n",
      "winning_vertex = [ 865851.95187632 1036972.23213075  830492.90233731]\n",
      "MP_branches_with_stitch_point = [0, 1]\n",
      "Current stitch point was a branch or endpoint\n",
      "MAP_branches_with_stitch_point = [20]\n",
      "MAP_stitch_point_on_end_or_branch = True\n"
     ]
    },
    {
     "data": {
      "application/vnd.jupyter.widget-view+json": {
       "model_id": "ce1f4ee209204c7788b86cb21c5d375f",
       "version_major": 2,
       "version_minor": 0
      },
      "text/plain": [
       "HBox(children=(FloatProgress(value=1.0, bar_style='info', layout=Layout(width='20px'), max=1.0), HTML(value=''…"
      ]
     },
     "metadata": {},
     "output_type": "display_data"
    },
    {
     "name": "stdout",
     "output_type": "stream",
     "text": [
      "\n",
      "\n",
      "\n",
      "--- Working on 1-to-1 correspondence-----\n",
      "max(original_labels),len(original_labels) = (2, 3)\n",
      "empty_indices % = 0.0939115929941618\n",
      " conflict_indices % = 0.006005004170141785\n"
     ]
    },
    {
     "data": {
      "application/vnd.jupyter.widget-view+json": {
       "model_id": "627ec6571d11485b947f1fc628a1310d",
       "version_major": 2,
       "version_minor": 0
      },
      "text/plain": [
       "HBox(children=(FloatProgress(value=0.0, max=5.0), HTML(value='')))"
      ]
     },
     "metadata": {},
     "output_type": "display_data"
    },
    {
     "name": "stdout",
     "output_type": "stream",
     "text": [
      "\n",
      "AFTER face_lookup_resolved_test\n"
     ]
    },
    {
     "data": {
      "application/vnd.jupyter.widget-view+json": {
       "model_id": "4b0c80b2fb1c450e88c82c0030e28698",
       "version_major": 2,
       "version_minor": 0
      },
      "text/plain": [
       "HBox(children=(FloatProgress(value=0.0, max=3.0), HTML(value='')))"
      ]
     },
     "metadata": {},
     "output_type": "display_data"
    },
    {
     "name": "stdout",
     "output_type": "stream",
     "text": [
      "\n",
      " Finished with (7, 0) \n",
      "\n",
      "\n",
      "\n",
      "\n",
      "---- Working on (8, 0) connection-----\n",
      "winning_vertex = [ 795965.90298399 1005413.97155279  865087.47016204]\n",
      "MP_branches_with_stitch_point = [0]\n",
      "Current stitch point was not a branch or endpoint, shortest_path_length to one = 24970.303202067935\n",
      "MAP_branches_with_stitch_point = [3]\n",
      "MAP_stitch_point_on_end_or_branch = False\n"
     ]
    },
    {
     "data": {
      "application/vnd.jupyter.widget-view+json": {
       "model_id": "d687f014df0e42d99e4ca467af0f4282",
       "version_major": 2,
       "version_minor": 0
      },
      "text/plain": [
       "HBox(children=(FloatProgress(value=1.0, bar_style='info', layout=Layout(width='20px'), max=1.0), HTML(value=''…"
      ]
     },
     "metadata": {},
     "output_type": "display_data"
    },
    {
     "name": "stdout",
     "output_type": "stream",
     "text": [
      "\n",
      "\n",
      "\n",
      "--- Working on 1-to-1 correspondence-----\n",
      "max(original_labels),len(original_labels) = (2, 3)\n",
      "empty_indices % = 0.04316119732044433\n",
      " conflict_indices % = 0.014584923259560756\n"
     ]
    },
    {
     "data": {
      "application/vnd.jupyter.widget-view+json": {
       "model_id": "c4ec724a184f465ba2d6345fdfa9a495",
       "version_major": 2,
       "version_minor": 0
      },
      "text/plain": [
       "HBox(children=(FloatProgress(value=0.0, max=5.0), HTML(value='')))"
      ]
     },
     "metadata": {},
     "output_type": "display_data"
    },
    {
     "name": "stdout",
     "output_type": "stream",
     "text": [
      "\n",
      "AFTER face_lookup_resolved_test\n"
     ]
    },
    {
     "data": {
      "application/vnd.jupyter.widget-view+json": {
       "model_id": "133bf50eae3a4be1b0d6693ab5d4a744",
       "version_major": 2,
       "version_minor": 0
      },
      "text/plain": [
       "HBox(children=(FloatProgress(value=0.0, max=3.0), HTML(value='')))"
      ]
     },
     "metadata": {},
     "output_type": "display_data"
    },
    {
     "name": "stdout",
     "output_type": "stream",
     "text": [
      "\n",
      "Deleting branches from dictionary\n",
      " Finished with (8, 0) \n",
      "\n",
      "\n",
      "\n",
      "\n",
      "---- Working on (9, 0) connection-----\n",
      "winning_vertex = [ 815411.99877383 1002555.62215959  865499.10850638]\n",
      "MP_branches_with_stitch_point = [0]\n",
      "Current stitch point was not a branch or endpoint, shortest_path_length to one = 6388.718630234299\n",
      "MAP_branches_with_stitch_point = [5]\n",
      "MAP_stitch_point_on_end_or_branch = False\n"
     ]
    },
    {
     "data": {
      "application/vnd.jupyter.widget-view+json": {
       "model_id": "622d66ba45f24174b1b92949e3e1df79",
       "version_major": 2,
       "version_minor": 0
      },
      "text/plain": [
       "HBox(children=(FloatProgress(value=1.0, bar_style='info', layout=Layout(width='20px'), max=1.0), HTML(value=''…"
      ]
     },
     "metadata": {},
     "output_type": "display_data"
    },
    {
     "name": "stdout",
     "output_type": "stream",
     "text": [
      "\n",
      "\n",
      "\n",
      "--- Working on 1-to-1 correspondence-----\n",
      "max(original_labels),len(original_labels) = (2, 3)\n",
      "empty_indices % = 0.017664376840039256\n",
      " conflict_indices % = 0.00862189821954297\n"
     ]
    },
    {
     "data": {
      "application/vnd.jupyter.widget-view+json": {
       "model_id": "b89036e5d8cf4c718594507c46c9093d",
       "version_major": 2,
       "version_minor": 0
      },
      "text/plain": [
       "HBox(children=(FloatProgress(value=0.0, max=6.0), HTML(value='')))"
      ]
     },
     "metadata": {},
     "output_type": "display_data"
    },
    {
     "name": "stdout",
     "output_type": "stream",
     "text": [
      "\n",
      "AFTER face_lookup_resolved_test\n"
     ]
    },
    {
     "data": {
      "application/vnd.jupyter.widget-view+json": {
       "model_id": "c80827b6b29e4d2d8fb5690166975809",
       "version_major": 2,
       "version_minor": 0
      },
      "text/plain": [
       "HBox(children=(FloatProgress(value=0.0, max=3.0), HTML(value='')))"
      ]
     },
     "metadata": {},
     "output_type": "display_data"
    },
    {
     "name": "stdout",
     "output_type": "stream",
     "text": [
      "\n",
      "Deleting branches from dictionary\n",
      " Finished with (9, 0) \n",
      "\n",
      "\n",
      "\n",
      "\n",
      "---- Working on (10, 0) connection-----\n",
      "winning_vertex = [ 812601.23821703 1017268.38144155  850494.97415094]\n",
      "MP_branches_with_stitch_point = [0]\n",
      "Current stitch point was not a branch or endpoint, shortest_path_length to one = 18869.24720820329\n",
      "MAP_branches_with_stitch_point = [15, 18]\n",
      "MAP_stitch_point_on_end_or_branch = True\n"
     ]
    },
    {
     "data": {
      "application/vnd.jupyter.widget-view+json": {
       "model_id": "815ec5be73494db395cd89043a4f1e42",
       "version_major": 2,
       "version_minor": 0
      },
      "text/plain": [
       "HBox(children=(FloatProgress(value=1.0, bar_style='info', layout=Layout(width='20px'), max=1.0), HTML(value=''…"
      ]
     },
     "metadata": {},
     "output_type": "display_data"
    },
    {
     "name": "stdout",
     "output_type": "stream",
     "text": [
      "\n",
      "\n",
      "\n",
      "--- Working on 1-to-1 correspondence-----\n",
      "max(original_labels),len(original_labels) = (2, 3)\n",
      "empty_indices % = 0.004070796460176991\n",
      " conflict_indices % = 0.012035398230088496\n"
     ]
    },
    {
     "data": {
      "application/vnd.jupyter.widget-view+json": {
       "model_id": "86f75c54c17b4d428adf5fa1cf47b3a7",
       "version_major": 2,
       "version_minor": 0
      },
      "text/plain": [
       "HBox(children=(FloatProgress(value=0.0, max=7.0), HTML(value='')))"
      ]
     },
     "metadata": {},
     "output_type": "display_data"
    },
    {
     "name": "stdout",
     "output_type": "stream",
     "text": [
      "\n",
      "AFTER face_lookup_resolved_test\n"
     ]
    },
    {
     "data": {
      "application/vnd.jupyter.widget-view+json": {
       "model_id": "d4a88d1d4ccf43c2a47045336a172649",
       "version_major": 2,
       "version_minor": 0
      },
      "text/plain": [
       "HBox(children=(FloatProgress(value=0.0, max=3.0), HTML(value='')))"
      ]
     },
     "metadata": {},
     "output_type": "display_data"
    },
    {
     "name": "stdout",
     "output_type": "stream",
     "text": [
      "\n",
      " Finished with (10, 0) \n",
      "\n",
      "\n",
      "\n",
      "\n",
      "---- Working on (11, 0) connection-----\n",
      "winning_vertex = [ 751852.71606945 1034781.42029594  841826.78472209]\n",
      "MP_branches_with_stitch_point = [0]\n",
      "Current stitch point was not a branch or endpoint, shortest_path_length to one = 86592.16516662679\n",
      "MAP_branches_with_stitch_point = [17]\n",
      "MAP_stitch_point_on_end_or_branch = False\n"
     ]
    },
    {
     "data": {
      "application/vnd.jupyter.widget-view+json": {
       "model_id": "7f9b904032df4f26abe1b3b07570b7b5",
       "version_major": 2,
       "version_minor": 0
      },
      "text/plain": [
       "HBox(children=(FloatProgress(value=1.0, bar_style='info', layout=Layout(width='20px'), max=1.0), HTML(value=''…"
      ]
     },
     "metadata": {},
     "output_type": "display_data"
    },
    {
     "name": "stdout",
     "output_type": "stream",
     "text": [
      "\n",
      "\n",
      "\n",
      "--- Working on 1-to-1 correspondence-----\n",
      "max(original_labels),len(original_labels) = (2, 3)\n",
      "empty_indices % = 0.04252417555169849\n",
      " conflict_indices % = 0.005702950657079098\n"
     ]
    },
    {
     "data": {
      "application/vnd.jupyter.widget-view+json": {
       "model_id": "9fcecc5c7dcf48a1959409b314e2be12",
       "version_major": 2,
       "version_minor": 0
      },
      "text/plain": [
       "HBox(children=(FloatProgress(value=0.0, max=4.0), HTML(value='')))"
      ]
     },
     "metadata": {},
     "output_type": "display_data"
    },
    {
     "name": "stdout",
     "output_type": "stream",
     "text": [
      "\n",
      "AFTER face_lookup_resolved_test\n"
     ]
    },
    {
     "data": {
      "application/vnd.jupyter.widget-view+json": {
       "model_id": "83d4722c8421409a95a612465889faac",
       "version_major": 2,
       "version_minor": 0
      },
      "text/plain": [
       "HBox(children=(FloatProgress(value=0.0, max=3.0), HTML(value='')))"
      ]
     },
     "metadata": {},
     "output_type": "display_data"
    },
    {
     "name": "stdout",
     "output_type": "stream",
     "text": [
      "\n",
      "Deleting branches from dictionary\n",
      " Finished with (11, 0) \n",
      "\n",
      "\n",
      "\n",
      "\n",
      "---- Working on (12, 0) connection-----\n",
      "winning_vertex = [ 621433.15682079 1079898.78396661  847175.44682173]\n",
      "MP_branches_with_stitch_point = [0]\n",
      "Current stitch point was not a branch or endpoint, shortest_path_length to one = 84985.06288638845\n",
      "MAP_branches_with_stitch_point = [0]\n",
      "MAP_stitch_point_on_end_or_branch = False\n"
     ]
    },
    {
     "data": {
      "application/vnd.jupyter.widget-view+json": {
       "model_id": "e28516b072844f0381537c4880562d30",
       "version_major": 2,
       "version_minor": 0
      },
      "text/plain": [
       "HBox(children=(FloatProgress(value=1.0, bar_style='info', layout=Layout(width='20px'), max=1.0), HTML(value=''…"
      ]
     },
     "metadata": {},
     "output_type": "display_data"
    },
    {
     "name": "stdout",
     "output_type": "stream",
     "text": [
      "\n",
      "\n",
      "\n",
      "--- Working on 1-to-1 correspondence-----\n",
      "max(original_labels),len(original_labels) = (2, 3)\n",
      "empty_indices % = 0.039028157300700965\n",
      " conflict_indices % = 0.0021979327551384102\n"
     ]
    },
    {
     "data": {
      "application/vnd.jupyter.widget-view+json": {
       "model_id": "a83935419d5140ac97ebb53f85fd0b15",
       "version_major": 2,
       "version_minor": 0
      },
      "text/plain": [
       "HBox(children=(FloatProgress(value=0.0, max=10.0), HTML(value='')))"
      ]
     },
     "metadata": {},
     "output_type": "display_data"
    },
    {
     "name": "stdout",
     "output_type": "stream",
     "text": [
      "\n",
      "AFTER face_lookup_resolved_test\n"
     ]
    },
    {
     "data": {
      "application/vnd.jupyter.widget-view+json": {
       "model_id": "819cc9b44be741e493f0425b43b1737c",
       "version_major": 2,
       "version_minor": 0
      },
      "text/plain": [
       "HBox(children=(FloatProgress(value=0.0, max=3.0), HTML(value='')))"
      ]
     },
     "metadata": {},
     "output_type": "display_data"
    },
    {
     "name": "stderr",
     "output_type": "stream",
     "text": [
      "\r",
      "  0%|          | 0/1 [00:00<?, ?it/s]"
     ]
    },
    {
     "name": "stdout",
     "output_type": "stream",
     "text": [
      "\n",
      "Deleting branches from dictionary\n",
      " Finished with (12, 0) \n",
      "\n",
      "\n",
      "\n",
      "Time for decomp of Limb 1 = 187.52243280410767\n",
      "\n",
      "\n",
      "----- Working on Proper Limb #2 ---------\n",
      "Time for preparing soma vertices and root: 0.00025200843811035156\n",
      "smooth_neighborhood = 1\n"
     ]
    },
    {
     "data": {
      "application/vnd.jupyter.widget-view+json": {
       "model_id": "b80c402779d64eac912b033c388f7dea",
       "version_major": 2,
       "version_minor": 0
      },
      "text/plain": [
       "HBox(children=(FloatProgress(value=0.0, max=58481.0), HTML(value='')))"
      ]
     },
     "metadata": {},
     "output_type": "display_data"
    },
    {
     "name": "stderr",
     "output_type": "stream",
     "text": [
      "100%|██████████| 1/1 [00:00<00:00,  1.02it/s]"
     ]
    },
    {
     "name": "stdout",
     "output_type": "stream",
     "text": [
      "\n"
     ]
    },
    {
     "name": "stderr",
     "output_type": "stream",
     "text": [
      "\n"
     ]
    },
    {
     "name": "stdout",
     "output_type": "stream",
     "text": [
      "Time for 1st pass MP skeletonization: 1.5901780128479004\n",
      "branches_touching_root = [37]\n",
      "empty_indices % = 0.0\n",
      " conflict_indices % = 0.009502281741800657\n"
     ]
    },
    {
     "data": {
      "application/vnd.jupyter.widget-view+json": {
       "model_id": "460edc65a8e748f581221140e88b566a",
       "version_major": 2,
       "version_minor": 0
      },
      "text/plain": [
       "HBox(children=(FloatProgress(value=0.0, max=17.0), HTML(value='')))"
      ]
     },
     "metadata": {},
     "output_type": "display_data"
    },
    {
     "name": "stdout",
     "output_type": "stream",
     "text": [
      "\n",
      "AFTER face_lookup_resolved_test\n"
     ]
    },
    {
     "data": {
      "application/vnd.jupyter.widget-view+json": {
       "model_id": "63d41d20fe714376ad422b9da48294f3",
       "version_major": 2,
       "version_minor": 0
      },
      "text/plain": [
       "HBox(children=(FloatProgress(value=0.0, max=38.0), HTML(value='')))"
      ]
     },
     "metadata": {},
     "output_type": "display_data"
    },
    {
     "name": "stdout",
     "output_type": "stream",
     "text": [
      "\n",
      "Decomposing first pass: 1.9502995014190674\n",
      "Found len(mesh_large_idx) MAP candidates: [963, 14588, 11991, 5398, 368, 482, 535, 3344, 52, 21539, 2897, 135, 9250, 9167]\n",
      "mesh_large_connectivity: 0.1915740966796875\n",
      "Finding MAP candidates connected components: 0.00021505355834960938\n",
      "len(filtered_pieces) = 1\n",
      "skeleton_connectivity_MP : 0.2041010856628418\n",
      "Grouping MP Sublimbs by Graph: 0.0345919132232666\n",
      "Divinding into MP and MAP pieces: 1.9073486328125e-06\n",
      "--- Working on MAP piece 0---\n",
      "MAP Filtering Soma Pieces: 0.005541563034057617\n",
      "inside skeletonize_connected_branch and use_surface_after_CGAL=False\n",
      "     Starting Screened Poisson\n",
      "xvfb-run -n 3578 -s \"-screen 0 800x600x24\" meshlabserver $@  -i /notebooks/Platinum_Decomp_Fusion/temp/None.off -o /notebooks/Platinum_Decomp_Fusion/temp/None_poisson.off -s /notebooks/Platinum_Decomp_Fusion/temp/poisson_587560.mls\n",
      "removed temporary input file: /notebooks/Platinum_Decomp_Fusion/temp/None.off\n",
      "removed temporary output file: /notebooks/Platinum_Decomp_Fusion/temp/None_poisson.off\n",
      "Using the close holes feature\n",
      "xvfb-run -n 697 -s \"-screen 0 800x600x24\" meshlabserver $@  -i /notebooks/Platinum_Decomp_Fusion/temp/neuron_22555.off -o /notebooks/Platinum_Decomp_Fusion/temp/neuron_22555_fill_holes.off -s /notebooks/Platinum_Decomp_Fusion/temp/fill_holes_360182.mls\n",
      "removed temporary input file: /notebooks/Platinum_Decomp_Fusion/temp/neuron_22555.off\n",
      "removed temporary output file: /notebooks/Platinum_Decomp_Fusion/temp/neuron_22555_fill_holes.off\n",
      "-----Time for Screened Poisson= 19.243085622787476\n",
      "     Starting Calcification\n",
      "Before mesh subtraction number of skeleton edges = 1317\n",
      "Inside mesh subtraction, len(main_mesh_bbox_restricted.faces) = 80709\n"
     ]
    },
    {
     "data": {
      "application/vnd.jupyter.widget-view+json": {
       "model_id": "b2d6d63c6a7a45ad8c064ddeeaf2774a",
       "version_major": 2,
       "version_minor": 0
      },
      "text/plain": [
       "HBox(children=(FloatProgress(value=1.0, bar_style='info', layout=Layout(width='20px'), max=1.0), HTML(value=''…"
      ]
     },
     "metadata": {},
     "output_type": "display_data"
    },
    {
     "name": "stdout",
     "output_type": "stream",
     "text": [
      "\n",
      "Total Mesh subtraction time = 17.1841\n"
     ]
    },
    {
     "data": {
      "application/vnd.jupyter.widget-view+json": {
       "model_id": "67b5f158b35c401dbb4a8a8bbf892948",
       "version_major": 2,
       "version_minor": 0
      },
      "text/plain": [
       "HBox(children=(FloatProgress(value=1.0, bar_style='info', layout=Layout(width='20px'), max=1.0), HTML(value=''…"
      ]
     },
     "metadata": {},
     "output_type": "display_data"
    },
    {
     "name": "stdout",
     "output_type": "stream",
     "text": [
      "\n",
      "No skeletons to stack so returning empty list\n",
      "len_subgraphs AT BEGINNING of the loop\n"
     ]
    },
    {
     "data": {
      "application/vnd.jupyter.widget-view+json": {
       "model_id": "24e700ce6a5945b4b04181558f85914b",
       "version_major": 2,
       "version_minor": 0
      },
      "text/plain": [
       "HBox(children=(FloatProgress(value=0.0, max=91.0), HTML(value='')))"
      ]
     },
     "metadata": {},
     "output_type": "display_data"
    },
    {
     "name": "stdout",
     "output_type": "stream",
     "text": [
      "all graph is one component!\n",
      "\n",
      "Total time for skeleton stitching = 0.1271665096282959\n",
      "The process was using a temp folder\n",
      "    Total time for skeletonizing branch: 41.11532711982727\n",
      "Adding new branch to skeleton\n",
      "    Total time for Fixing Skeleton Soma Endpoint Extension : 2.988438606262207\n",
      "filter_end_node_length = 4001\n",
      "Using Distance measure skeletal_distance\n",
      "Going to ignore certain endnodes that are 5000 nm close to soma border vertices\n",
      "Number of end_nodes BEFORE filtering = 111\n",
      "Using an already specified end node: 250 with index 15checking was correct node end_nodes[index] = 250\n",
      "May Eliminate end_node 15: 250 because path_len to soma border was 2514.5483361076454\n",
      "single_node_to_eliminate = 15\n",
      "all_single_nodes_to_eliminate = [15, 15]\n"
     ]
    },
    {
     "data": {
      "application/vnd.jupyter.widget-view+json": {
       "model_id": "cb4f7ece6d48442fa50ce79a3828e413",
       "version_major": 2,
       "version_minor": 0
      },
      "text/plain": [
       "HBox(children=(FloatProgress(value=0.0, max=106.0), HTML(value='')))"
      ]
     },
     "metadata": {},
     "output_type": "display_data"
    },
    {
     "name": "stdout",
     "output_type": "stream",
     "text": [
      "\n",
      "********COMBINING CLOSE SKELETON NODES WITHIN 700 DISTANCE**********\n",
      "Found 0 valid paths to replace\n",
      "valid_paths = []\n",
      "valid_path_lengths = []\n",
      "No valid paths found so just returning the original\n",
      "skeletonize_and_clean_connected_branch_CGAL: 47.67123293876648\n",
      "Working on limb correspondence for #0 MAP piece\n"
     ]
    },
    {
     "data": {
      "application/vnd.jupyter.widget-view+json": {
       "model_id": "d42716fc93ea44c7862a25a6060f2c02",
       "version_major": 2,
       "version_minor": 0
      },
      "text/plain": [
       "HBox(children=(FloatProgress(value=1.0, bar_style='info', layout=Layout(width='20px'), max=1.0), HTML(value=''…"
      ]
     },
     "metadata": {},
     "output_type": "display_data"
    },
    {
     "name": "stdout",
     "output_type": "stream",
     "text": [
      "\n",
      "Total time for decomposition = 12.639200925827026\n",
      "mesh_correspondence_first_pass: 12.639235734939575\n",
      "Limb decomposed into 9 branches\n",
      "divided_skeleton_graph_recovered = (1151, 2, 3) and \n",
      "current_mesh_data[0]['branch_skeletons_cleaned'].shape = (1151, 2, 3)\n",
      "\n",
      "Number of connected components in deocmposed recovered graph = 1\n",
      "Number of connected components in cleaned skeleton graph= 1\n",
      "The downsampled branches number of connected components = 1\n",
      "Empty submeshes = []\n",
      "\n",
      "\n",
      "--- Working on 1-to-1 correspondence-----\n",
      "max(original_labels),len(original_labels) = (8, 9)\n",
      "empty_indices % = 0.03269771648762839\n",
      " conflict_indices % = 0.012043266550198863\n"
     ]
    },
    {
     "data": {
      "application/vnd.jupyter.widget-view+json": {
       "model_id": "5d19177de56f471298c2d528a5036a92",
       "version_major": 2,
       "version_minor": 0
      },
      "text/plain": [
       "HBox(children=(FloatProgress(value=0.0, max=36.0), HTML(value='')))"
      ]
     },
     "metadata": {},
     "output_type": "display_data"
    },
    {
     "name": "stdout",
     "output_type": "stream",
     "text": [
      "\n",
      "AFTER face_lookup_resolved_test\n",
      "Took 0 iterations to expand the label back\n"
     ]
    },
    {
     "data": {
      "application/vnd.jupyter.widget-view+json": {
       "model_id": "c19f0cee6a874bef86a0cba18197bcb3",
       "version_major": 2,
       "version_minor": 0
      },
      "text/plain": [
       "HBox(children=(FloatProgress(value=0.0, max=9.0), HTML(value='')))"
      ]
     },
     "metadata": {},
     "output_type": "display_data"
    },
    {
     "name": "stdout",
     "output_type": "stream",
     "text": [
      "\n",
      "Total time for MAP sublimb #0 mesh processing = 62.835023403167725\n",
      "correspondence_1_to_1: 2.519118309020996\n",
      "Total time for MAP sublimb processing 62.83525776863098\n",
      "***************Arrived at MESH PIECES FOR MAP AND mp***************\n",
      "---- Working on MP Decomposition #0 ----\n",
      "MP filtering soma verts: 0.0020592212677001953\n",
      "Do Not Need to Fix MP Decomposition 0 so just continuing\n",
      "---- Working on MP Decomposition #1 ----\n",
      "MP filtering soma verts: 0.0010461807250976562\n",
      "Do Not Need to Fix MP Decomposition 1 so just continuing\n",
      "---- Working on MP Decomposition #2 ----\n",
      "MP filtering soma verts: 0.0007295608520507812\n",
      "Do Not Need to Fix MP Decomposition 2 so just continuing\n",
      "---- Working on MP Decomposition #3 ----\n",
      "MP filtering soma verts: 0.0007467269897460938\n",
      "Do Not Need to Fix MP Decomposition 3 so just continuing\n",
      "---- Working on MP Decomposition #4 ----\n",
      "MP filtering soma verts: 0.0008046627044677734\n",
      "Do Not Need to Fix MP Decomposition 4 so just continuing\n",
      "---- Working on MP Decomposition #5 ----\n",
      "MP filtering soma verts: 0.00028634071350097656\n",
      "Do Not Need to Fix MP Decomposition 5 so just continuing\n",
      "---- Working on MP Decomposition #6 ----\n",
      "MP filtering soma verts: 0.00031447410583496094\n",
      "Do Not Need to Fix MP Decomposition 6 so just continuing\n",
      "---- Working on MP Decomposition #7 ----\n",
      "MP filtering soma verts: 0.00021600723266601562\n",
      "Do Not Need to Fix MP Decomposition 7 so just continuing\n",
      "---- Working on MP Decomposition #8 ----\n",
      "MP filtering soma verts: 0.00055694580078125\n",
      "Do Not Need to Fix MP Decomposition 8 so just continuing\n",
      "---- Working on MP Decomposition #9 ----\n",
      "MP filtering soma verts: 0.0002484321594238281\n",
      "Do Not Need to Fix MP Decomposition 9 so just continuing\n",
      "\n",
      "---- Working on (0, 0) connection-----\n",
      "winning_vertex = [ 882442.9007457  1101534.14610268 1019647.01039372]\n",
      "MP_branches_with_stitch_point = [1]\n",
      "Current stitch point was not a branch or endpoint, shortest_path_length to one = 21447.96801096776\n",
      "MAP_branches_with_stitch_point = [7]\n",
      "MAP_stitch_point_on_end_or_branch = False\n"
     ]
    },
    {
     "data": {
      "application/vnd.jupyter.widget-view+json": {
       "model_id": "fd696cebefa04de3880c403742c75687",
       "version_major": 2,
       "version_minor": 0
      },
      "text/plain": [
       "HBox(children=(FloatProgress(value=1.0, bar_style='info', layout=Layout(width='20px'), max=1.0), HTML(value=''…"
      ]
     },
     "metadata": {},
     "output_type": "display_data"
    },
    {
     "name": "stdout",
     "output_type": "stream",
     "text": [
      "\n",
      "\n",
      "\n",
      "--- Working on 1-to-1 correspondence-----\n",
      "max(original_labels),len(original_labels) = (2, 3)\n",
      "empty_indices % = 0.014041705962485591\n",
      " conflict_indices % = 0.003615215341087708\n"
     ]
    },
    {
     "data": {
      "application/vnd.jupyter.widget-view+json": {
       "model_id": "34f90838d5504d50a0fd31113b48c2c0",
       "version_major": 2,
       "version_minor": 0
      },
      "text/plain": [
       "HBox(children=(FloatProgress(value=0.0, max=7.0), HTML(value='')))"
      ]
     },
     "metadata": {},
     "output_type": "display_data"
    },
    {
     "name": "stdout",
     "output_type": "stream",
     "text": [
      "\n",
      "AFTER face_lookup_resolved_test\n"
     ]
    },
    {
     "data": {
      "application/vnd.jupyter.widget-view+json": {
       "model_id": "76ccf41e2a864ca2a5132c73f1dd2a71",
       "version_major": 2,
       "version_minor": 0
      },
      "text/plain": [
       "HBox(children=(FloatProgress(value=0.0, max=3.0), HTML(value='')))"
      ]
     },
     "metadata": {},
     "output_type": "display_data"
    },
    {
     "name": "stdout",
     "output_type": "stream",
     "text": [
      "\n",
      "Deleting branches from dictionary\n",
      " Finished with (0, 0) \n",
      "\n",
      "\n",
      "\n",
      "\n",
      "---- Working on (1, 0) connection-----\n",
      "winning_vertex = [ 877926.13802755 1109912.17752451 1037594.09472496]\n",
      "MP_branches_with_stitch_point = [1, 3]\n",
      "Current stitch point was a branch or endpoint\n",
      "MAP_branches_with_stitch_point = [9]\n",
      "MAP_stitch_point_on_end_or_branch = True\n"
     ]
    },
    {
     "data": {
      "application/vnd.jupyter.widget-view+json": {
       "model_id": "0f6c5b966ddb4aefb3cf805fe149cdf4",
       "version_major": 2,
       "version_minor": 0
      },
      "text/plain": [
       "HBox(children=(FloatProgress(value=1.0, bar_style='info', layout=Layout(width='20px'), max=1.0), HTML(value=''…"
      ]
     },
     "metadata": {},
     "output_type": "display_data"
    },
    {
     "name": "stdout",
     "output_type": "stream",
     "text": [
      "\n",
      "\n",
      "\n",
      "--- Working on 1-to-1 correspondence-----\n",
      "max(original_labels),len(original_labels) = (2, 3)\n",
      "empty_indices % = 0.10854503464203233\n",
      " conflict_indices % = 0.016271257610749528\n"
     ]
    },
    {
     "data": {
      "application/vnd.jupyter.widget-view+json": {
       "model_id": "79da612bb63d4e11a6d1b43cd2b47f85",
       "version_major": 2,
       "version_minor": 0
      },
      "text/plain": [
       "HBox(children=(FloatProgress(value=0.0, max=4.0), HTML(value='')))"
      ]
     },
     "metadata": {},
     "output_type": "display_data"
    },
    {
     "name": "stdout",
     "output_type": "stream",
     "text": [
      "\n",
      "AFTER face_lookup_resolved_test\n"
     ]
    },
    {
     "data": {
      "application/vnd.jupyter.widget-view+json": {
       "model_id": "b15e6d68662e48f3a61bf23bea54cd62",
       "version_major": 2,
       "version_minor": 0
      },
      "text/plain": [
       "HBox(children=(FloatProgress(value=0.0, max=3.0), HTML(value='')))"
      ]
     },
     "metadata": {},
     "output_type": "display_data"
    },
    {
     "name": "stdout",
     "output_type": "stream",
     "text": [
      "\n",
      " Finished with (1, 0) \n",
      "\n",
      "\n",
      "\n",
      "\n",
      "---- Working on (2, 0) connection-----\n",
      "winning_vertex = [ 873768.70021299 1032973.86489271  874313.55777329]\n",
      "MP_branches_with_stitch_point = [0, 3]\n",
      "Current stitch point was a branch or endpoint\n",
      "MAP_branches_with_stitch_point = [5]\n",
      "MAP_stitch_point_on_end_or_branch = True\n"
     ]
    },
    {
     "data": {
      "application/vnd.jupyter.widget-view+json": {
       "model_id": "d331dd39e2fc45a583e030aae4f6f97f",
       "version_major": 2,
       "version_minor": 0
      },
      "text/plain": [
       "HBox(children=(FloatProgress(value=1.0, bar_style='info', layout=Layout(width='20px'), max=1.0), HTML(value=''…"
      ]
     },
     "metadata": {},
     "output_type": "display_data"
    },
    {
     "name": "stdout",
     "output_type": "stream",
     "text": [
      "\n",
      "\n",
      "\n",
      "--- Working on 1-to-1 correspondence-----\n",
      "max(original_labels),len(original_labels) = (2, 3)\n",
      "empty_indices % = 0.023909249563699827\n",
      " conflict_indices % = 0.006631762652705061\n"
     ]
    },
    {
     "data": {
      "application/vnd.jupyter.widget-view+json": {
       "model_id": "4eed04b0715e47b69fed3483020831fa",
       "version_major": 2,
       "version_minor": 0
      },
      "text/plain": [
       "HBox(children=(FloatProgress(value=0.0, max=6.0), HTML(value='')))"
      ]
     },
     "metadata": {},
     "output_type": "display_data"
    },
    {
     "name": "stdout",
     "output_type": "stream",
     "text": [
      "\n",
      "AFTER face_lookup_resolved_test\n"
     ]
    },
    {
     "data": {
      "application/vnd.jupyter.widget-view+json": {
       "model_id": "e7ed1066032644e08bd20bdc7ea8d8da",
       "version_major": 2,
       "version_minor": 0
      },
      "text/plain": [
       "HBox(children=(FloatProgress(value=0.0, max=3.0), HTML(value='')))"
      ]
     },
     "metadata": {},
     "output_type": "display_data"
    },
    {
     "name": "stdout",
     "output_type": "stream",
     "text": [
      "\n",
      " Finished with (2, 0) \n",
      "\n",
      "\n",
      "\n",
      "\n",
      "---- Working on (3, 0) connection-----\n",
      "winning_vertex = [ 979632.89585162 1079820.64762171 1030378.00757308]\n",
      "MP_branches_with_stitch_point = [0, 3]\n",
      "Current stitch point was a branch or endpoint\n",
      "MAP_branches_with_stitch_point = [8]\n",
      "MAP_stitch_point_on_end_or_branch = True\n"
     ]
    },
    {
     "data": {
      "application/vnd.jupyter.widget-view+json": {
       "model_id": "37b5250d80e34320ae0ef931d6f771e6",
       "version_major": 2,
       "version_minor": 0
      },
      "text/plain": [
       "HBox(children=(FloatProgress(value=1.0, bar_style='info', layout=Layout(width='20px'), max=1.0), HTML(value=''…"
      ]
     },
     "metadata": {},
     "output_type": "display_data"
    },
    {
     "name": "stdout",
     "output_type": "stream",
     "text": [
      "\n",
      "\n",
      "\n",
      "--- Working on 1-to-1 correspondence-----\n",
      "max(original_labels),len(original_labels) = (2, 3)\n",
      "empty_indices % = 0.052520486714675935\n",
      " conflict_indices % = 0.0017382666997765085\n"
     ]
    },
    {
     "data": {
      "application/vnd.jupyter.widget-view+json": {
       "model_id": "49b6da7ca47c4cc996062a7766f002d6",
       "version_major": 2,
       "version_minor": 0
      },
      "text/plain": [
       "HBox(children=(FloatProgress(value=0.0, max=10.0), HTML(value='')))"
      ]
     },
     "metadata": {},
     "output_type": "display_data"
    },
    {
     "name": "stdout",
     "output_type": "stream",
     "text": [
      "\n",
      "AFTER face_lookup_resolved_test\n"
     ]
    },
    {
     "data": {
      "application/vnd.jupyter.widget-view+json": {
       "model_id": "bea66fc7a57e4d798690956335f98c10",
       "version_major": 2,
       "version_minor": 0
      },
      "text/plain": [
       "HBox(children=(FloatProgress(value=0.0, max=3.0), HTML(value='')))"
      ]
     },
     "metadata": {},
     "output_type": "display_data"
    },
    {
     "name": "stdout",
     "output_type": "stream",
     "text": [
      "\n",
      " Finished with (3, 0) \n",
      "\n",
      "\n",
      "\n",
      "\n",
      "---- Working on (4, 0) connection-----\n",
      "winning_vertex = [ 864370.27568786 1007014.43883189  886238.20496105]\n",
      "MP_branches_with_stitch_point = [0]\n",
      "Current stitch point was not a branch or endpoint, shortest_path_length to one = 2722.285938881595\n",
      "MAP_branches_with_stitch_point = [3]\n",
      "MAP_stitch_point_on_end_or_branch = False\n"
     ]
    },
    {
     "data": {
      "application/vnd.jupyter.widget-view+json": {
       "model_id": "b2095946d5594e51a8395e9a684dd8a9",
       "version_major": 2,
       "version_minor": 0
      },
      "text/plain": [
       "HBox(children=(FloatProgress(value=1.0, bar_style='info', layout=Layout(width='20px'), max=1.0), HTML(value=''…"
      ]
     },
     "metadata": {},
     "output_type": "display_data"
    },
    {
     "name": "stdout",
     "output_type": "stream",
     "text": [
      "\n",
      "\n",
      "\n",
      "--- Working on 1-to-1 correspondence-----\n",
      "max(original_labels),len(original_labels) = (2, 3)\n",
      "empty_indices % = 0.03133837804784835\n",
      " conflict_indices % = 0.007567071772529237\n"
     ]
    },
    {
     "data": {
      "application/vnd.jupyter.widget-view+json": {
       "model_id": "61f8d2ca13234155ac0c5acd93343940",
       "version_major": 2,
       "version_minor": 0
      },
      "text/plain": [
       "HBox(children=(FloatProgress(value=0.0, max=7.0), HTML(value='')))"
      ]
     },
     "metadata": {},
     "output_type": "display_data"
    },
    {
     "name": "stdout",
     "output_type": "stream",
     "text": [
      "\n",
      "AFTER face_lookup_resolved_test\n"
     ]
    },
    {
     "data": {
      "application/vnd.jupyter.widget-view+json": {
       "model_id": "633ffeb4ccce4b30ac995cf9ceac4f11",
       "version_major": 2,
       "version_minor": 0
      },
      "text/plain": [
       "HBox(children=(FloatProgress(value=0.0, max=3.0), HTML(value='')))"
      ]
     },
     "metadata": {},
     "output_type": "display_data"
    },
    {
     "name": "stdout",
     "output_type": "stream",
     "text": [
      "\n",
      "Deleting branches from dictionary\n",
      " Finished with (4, 0) \n",
      "\n",
      "\n",
      "\n",
      "\n",
      "---- Working on (5, 0) connection-----\n",
      "winning_vertex = [ 864037.40157661 1004878.95940113  884953.08144423]\n",
      "MP_branches_with_stitch_point = [0]\n",
      "Current stitch point was not a branch or endpoint, shortest_path_length to one = 488.5570591036425\n",
      "Changing the stitch point becasue the distance to end or branch node was 488.5570591036425\n",
      "New stitch point has degree 3\n",
      "MAP_branches_with_stitch_point = [2, 3, 4]\n",
      "MAP_stitch_point_on_end_or_branch = True\n"
     ]
    },
    {
     "data": {
      "application/vnd.jupyter.widget-view+json": {
       "model_id": "de851d0860d14427ae01eec4570421af",
       "version_major": 2,
       "version_minor": 0
      },
      "text/plain": [
       "HBox(children=(FloatProgress(value=1.0, bar_style='info', layout=Layout(width='20px'), max=1.0), HTML(value=''…"
      ]
     },
     "metadata": {},
     "output_type": "display_data"
    },
    {
     "name": "stdout",
     "output_type": "stream",
     "text": [
      "\n",
      "\n",
      "\n",
      "--- Working on 1-to-1 correspondence-----\n",
      "max(original_labels),len(original_labels) = (3, 4)\n",
      "empty_indices % = 0.037992125984251966\n",
      " conflict_indices % = 0.05177165354330709\n"
     ]
    },
    {
     "data": {
      "application/vnd.jupyter.widget-view+json": {
       "model_id": "4ed34c79160b409d9f7f289b9a9b5c21",
       "version_major": 2,
       "version_minor": 0
      },
      "text/plain": [
       "HBox(children=(FloatProgress(value=0.0, max=5.0), HTML(value='')))"
      ]
     },
     "metadata": {},
     "output_type": "display_data"
    },
    {
     "name": "stdout",
     "output_type": "stream",
     "text": [
      "\n",
      "AFTER face_lookup_resolved_test\n"
     ]
    },
    {
     "data": {
      "application/vnd.jupyter.widget-view+json": {
       "model_id": "399dbc12658c4561a9bce2760c4989fc",
       "version_major": 2,
       "version_minor": 0
      },
      "text/plain": [
       "HBox(children=(FloatProgress(value=0.0, max=4.0), HTML(value='')))"
      ]
     },
     "metadata": {},
     "output_type": "display_data"
    },
    {
     "name": "stdout",
     "output_type": "stream",
     "text": [
      "\n",
      " Finished with (5, 0) \n",
      "\n",
      "\n",
      "\n",
      "\n",
      "---- Working on (6, 0) connection-----\n",
      "winning_vertex = [ 863427.86547278 1003931.23890504  882044.44751182]\n",
      "MP_branches_with_stitch_point = [0]\n",
      "Current stitch point was not a branch or endpoint, shortest_path_length to one = 2502.291563484115\n",
      "MAP_branches_with_stitch_point = [2]\n",
      "MAP_stitch_point_on_end_or_branch = False\n"
     ]
    },
    {
     "data": {
      "application/vnd.jupyter.widget-view+json": {
       "model_id": "023405f0ad1d4a4dbd120aaf1ed99301",
       "version_major": 2,
       "version_minor": 0
      },
      "text/plain": [
       "HBox(children=(FloatProgress(value=1.0, bar_style='info', layout=Layout(width='20px'), max=1.0), HTML(value=''…"
      ]
     },
     "metadata": {},
     "output_type": "display_data"
    },
    {
     "name": "stdout",
     "output_type": "stream",
     "text": [
      "\n",
      "\n",
      "\n",
      "--- Working on 1-to-1 correspondence-----\n",
      "max(original_labels),len(original_labels) = (2, 3)\n",
      "empty_indices % = 0.05259975816203144\n",
      " conflict_indices % = 0.02176541717049577\n"
     ]
    },
    {
     "data": {
      "application/vnd.jupyter.widget-view+json": {
       "model_id": "12f304b79d0342ff889125a25c7abe60",
       "version_major": 2,
       "version_minor": 0
      },
      "text/plain": [
       "HBox(children=(FloatProgress(value=0.0, max=5.0), HTML(value='')))"
      ]
     },
     "metadata": {},
     "output_type": "display_data"
    },
    {
     "name": "stdout",
     "output_type": "stream",
     "text": [
      "\n",
      "AFTER face_lookup_resolved_test\n"
     ]
    },
    {
     "data": {
      "application/vnd.jupyter.widget-view+json": {
       "model_id": "bccf06c7ffed427f84a3bf952e75391f",
       "version_major": 2,
       "version_minor": 0
      },
      "text/plain": [
       "HBox(children=(FloatProgress(value=0.0, max=3.0), HTML(value='')))"
      ]
     },
     "metadata": {},
     "output_type": "display_data"
    },
    {
     "name": "stdout",
     "output_type": "stream",
     "text": [
      "\n",
      "Deleting branches from dictionary\n",
      " Finished with (6, 0) \n",
      "\n",
      "\n",
      "\n",
      "\n",
      "---- Working on (7, 0) connection-----\n",
      "winning_vertex = [ 871086.77537262 1027743.86707096  904737.15211925]\n",
      "MP_branches_with_stitch_point = [0]\n",
      "Current stitch point was not a branch or endpoint, shortest_path_length to one = 32488.348508763527\n",
      "MAP_branches_with_stitch_point = [10]\n",
      "MAP_stitch_point_on_end_or_branch = False\n"
     ]
    },
    {
     "data": {
      "application/vnd.jupyter.widget-view+json": {
       "model_id": "3d0260f9a5f54b6b93c6fdce8c59f6a0",
       "version_major": 2,
       "version_minor": 0
      },
      "text/plain": [
       "HBox(children=(FloatProgress(value=1.0, bar_style='info', layout=Layout(width='20px'), max=1.0), HTML(value=''…"
      ]
     },
     "metadata": {},
     "output_type": "display_data"
    },
    {
     "name": "stdout",
     "output_type": "stream",
     "text": [
      "\n",
      "\n",
      "\n",
      "--- Working on 1-to-1 correspondence-----\n",
      "max(original_labels),len(original_labels) = (2, 3)\n",
      "empty_indices % = 0.02829829992939004\n",
      " conflict_indices % = 0.004942697300526859\n"
     ]
    },
    {
     "data": {
      "application/vnd.jupyter.widget-view+json": {
       "model_id": "d39f496199394668a35c46a8b214b4cc",
       "version_major": 2,
       "version_minor": 0
      },
      "text/plain": [
       "HBox(children=(FloatProgress(value=0.0, max=5.0), HTML(value='')))"
      ]
     },
     "metadata": {},
     "output_type": "display_data"
    },
    {
     "name": "stdout",
     "output_type": "stream",
     "text": [
      "\n",
      "AFTER face_lookup_resolved_test\n"
     ]
    },
    {
     "data": {
      "application/vnd.jupyter.widget-view+json": {
       "model_id": "f49b0a9c05a64d0a8e10a0b7ff71a1e6",
       "version_major": 2,
       "version_minor": 0
      },
      "text/plain": [
       "HBox(children=(FloatProgress(value=0.0, max=3.0), HTML(value='')))"
      ]
     },
     "metadata": {},
     "output_type": "display_data"
    },
    {
     "name": "stdout",
     "output_type": "stream",
     "text": [
      "\n",
      "Deleting branches from dictionary\n",
      " Finished with (7, 0) \n",
      "\n",
      "\n",
      "\n",
      "\n",
      "---- Working on (8, 0) connection-----\n",
      "winning_vertex = [ 979628.95036844 1080245.72441216 1030237.36532538]\n",
      "MP_branches_with_stitch_point = [0]\n",
      "Current stitch point was a branch or endpoint\n",
      "MAP_branches_with_stitch_point = [8]\n",
      "MAP_stitch_point_on_end_or_branch = True\n"
     ]
    },
    {
     "data": {
      "application/vnd.jupyter.widget-view+json": {
       "model_id": "9ceaba4c06584979975efab44635e59a",
       "version_major": 2,
       "version_minor": 0
      },
      "text/plain": [
       "HBox(children=(FloatProgress(value=1.0, bar_style='info', layout=Layout(width='20px'), max=1.0), HTML(value=''…"
      ]
     },
     "metadata": {},
     "output_type": "display_data"
    },
    {
     "name": "stdout",
     "output_type": "stream",
     "text": [
      "\n",
      "\n",
      "\n",
      "--- Working on 1-to-1 correspondence-----\n",
      "max(original_labels),len(original_labels) = (1, 2)\n",
      "empty_indices % = 0.03016391090706933\n",
      " conflict_indices % = 0.00046626735052544745\n"
     ]
    },
    {
     "data": {
      "application/vnd.jupyter.widget-view+json": {
       "model_id": "a0693bd861b14a16b4a294d0f5072be9",
       "version_major": 2,
       "version_minor": 0
      },
      "text/plain": [
       "HBox(children=(FloatProgress(value=0.0, max=12.0), HTML(value='')))"
      ]
     },
     "metadata": {},
     "output_type": "display_data"
    },
    {
     "name": "stdout",
     "output_type": "stream",
     "text": [
      "\n",
      "AFTER face_lookup_resolved_test\n"
     ]
    },
    {
     "data": {
      "application/vnd.jupyter.widget-view+json": {
       "model_id": "c352d718c64f4e5c89f10a08a35c5747",
       "version_major": 2,
       "version_minor": 0
      },
      "text/plain": [
       "HBox(children=(FloatProgress(value=0.0, max=2.0), HTML(value='')))"
      ]
     },
     "metadata": {},
     "output_type": "display_data"
    },
    {
     "name": "stdout",
     "output_type": "stream",
     "text": [
      "\n",
      " Finished with (8, 0) \n",
      "\n",
      "\n",
      "\n",
      "\n",
      "---- Working on (9, 0) connection-----\n",
      "winning_vertex = [ 880016.32496105 1099443.7389572  1014138.10630352]\n",
      "MP_branches_with_stitch_point = [0]\n",
      "Current stitch point was not a branch or endpoint, shortest_path_length to one = 28544.210065779767\n",
      "MAP_branches_with_stitch_point = [7]\n",
      "MAP_stitch_point_on_end_or_branch = False\n"
     ]
    },
    {
     "data": {
      "application/vnd.jupyter.widget-view+json": {
       "model_id": "2b92eb5babc943aa8d853c85e230b308",
       "version_major": 2,
       "version_minor": 0
      },
      "text/plain": [
       "HBox(children=(FloatProgress(value=1.0, bar_style='info', layout=Layout(width='20px'), max=1.0), HTML(value=''…"
      ]
     },
     "metadata": {},
     "output_type": "display_data"
    },
    {
     "name": "stdout",
     "output_type": "stream",
     "text": [
      "\n",
      "\n",
      "\n",
      "--- Working on 1-to-1 correspondence-----\n",
      "max(original_labels),len(original_labels) = (2, 3)\n",
      "empty_indices % = 0.01327088212334114\n",
      " conflict_indices % = 0.009067435296943495\n"
     ]
    },
    {
     "data": {
      "application/vnd.jupyter.widget-view+json": {
       "model_id": "c865b2acd9b34eeb97cab5df5579387f",
       "version_major": 2,
       "version_minor": 0
      },
      "text/plain": [
       "HBox(children=(FloatProgress(value=0.0, max=5.0), HTML(value='')))"
      ]
     },
     "metadata": {},
     "output_type": "display_data"
    },
    {
     "name": "stdout",
     "output_type": "stream",
     "text": [
      "\n",
      "AFTER face_lookup_resolved_test\n"
     ]
    },
    {
     "data": {
      "application/vnd.jupyter.widget-view+json": {
       "model_id": "25d24ad2c3034690ab23b9c2df013cca",
       "version_major": 2,
       "version_minor": 0
      },
      "text/plain": [
       "HBox(children=(FloatProgress(value=0.0, max=3.0), HTML(value='')))"
      ]
     },
     "metadata": {},
     "output_type": "display_data"
    },
    {
     "name": "stderr",
     "output_type": "stream",
     "text": [
      "\r",
      "  0%|          | 0/1 [00:00<?, ?it/s]"
     ]
    },
    {
     "name": "stdout",
     "output_type": "stream",
     "text": [
      "\n",
      "Deleting branches from dictionary\n",
      " Finished with (9, 0) \n",
      "\n",
      "\n",
      "\n",
      "Time for decomp of Limb 2 = 90.95356822013855\n",
      "\n",
      "\n",
      "----- Working on Proper Limb #3 ---------\n",
      "Time for preparing soma vertices and root: 0.0002448558807373047\n",
      "smooth_neighborhood = 1\n"
     ]
    },
    {
     "data": {
      "application/vnd.jupyter.widget-view+json": {
       "model_id": "9bcc2d56652d4dbb9e5363e4c3f80d97",
       "version_major": 2,
       "version_minor": 0
      },
      "text/plain": [
       "HBox(children=(FloatProgress(value=0.0, max=56774.0), HTML(value='')))"
      ]
     },
     "metadata": {},
     "output_type": "display_data"
    },
    {
     "name": "stderr",
     "output_type": "stream",
     "text": [
      "100%|██████████| 1/1 [00:00<00:00,  1.06it/s]"
     ]
    },
    {
     "name": "stdout",
     "output_type": "stream",
     "text": [
      "\n"
     ]
    },
    {
     "name": "stderr",
     "output_type": "stream",
     "text": [
      "\n"
     ]
    },
    {
     "name": "stdout",
     "output_type": "stream",
     "text": [
      "Time for 1st pass MP skeletonization: 1.5171740055084229\n",
      "branches_touching_root = [46]\n",
      "empty_indices % = 0.0\n",
      " conflict_indices % = 0.018434913468773514\n"
     ]
    },
    {
     "data": {
      "application/vnd.jupyter.widget-view+json": {
       "model_id": "2e1b21856cbb4f7a90490c67ed37ddf2",
       "version_major": 2,
       "version_minor": 0
      },
      "text/plain": [
       "HBox(children=(FloatProgress(value=0.0, max=24.0), HTML(value='')))"
      ]
     },
     "metadata": {},
     "output_type": "display_data"
    },
    {
     "name": "stdout",
     "output_type": "stream",
     "text": [
      "\n",
      "AFTER face_lookup_resolved_test\n"
     ]
    },
    {
     "data": {
      "application/vnd.jupyter.widget-view+json": {
       "model_id": "25fd73a005864373a82df87c18111218",
       "version_major": 2,
       "version_minor": 0
      },
      "text/plain": [
       "HBox(children=(FloatProgress(value=0.0, max=47.0), HTML(value='')))"
      ]
     },
     "metadata": {},
     "output_type": "display_data"
    },
    {
     "name": "stdout",
     "output_type": "stream",
     "text": [
      "\n",
      "Decomposing first pass: 2.6435585021972656\n",
      "Found len(mesh_large_idx) MAP candidates: [91, 17923, 3666, 310, 29, 4516, 64, 1128, 407, 4279, 635, 2703, 265, 7223, 13091, 8237, 119, 207, 4781, 9513]\n",
      "mesh_large_connectivity: 0.2748570442199707\n",
      "Finding MAP candidates connected components: 0.0004589557647705078\n",
      "len(filtered_pieces) = 1\n",
      "skeleton_connectivity_MP : 0.1697230339050293\n",
      "Grouping MP Sublimbs by Graph: 0.03560996055603027\n",
      "Divinding into MP and MAP pieces: 2.384185791015625e-06\n",
      "--- Working on MAP piece 0---\n",
      "MAP Filtering Soma Pieces: 0.0049953460693359375\n",
      "inside skeletonize_connected_branch and use_surface_after_CGAL=False\n",
      "     Starting Screened Poisson\n",
      "xvfb-run -n 4256 -s \"-screen 0 800x600x24\" meshlabserver $@  -i /notebooks/Platinum_Decomp_Fusion/temp/None.off -o /notebooks/Platinum_Decomp_Fusion/temp/None_poisson.off -s /notebooks/Platinum_Decomp_Fusion/temp/poisson_890412.mls\n",
      "removed temporary input file: /notebooks/Platinum_Decomp_Fusion/temp/None.off\n",
      "removed temporary output file: /notebooks/Platinum_Decomp_Fusion/temp/None_poisson.off\n",
      "Using the close holes feature\n",
      "xvfb-run -n 2612 -s \"-screen 0 800x600x24\" meshlabserver $@  -i /notebooks/Platinum_Decomp_Fusion/temp/neuron_9582.off -o /notebooks/Platinum_Decomp_Fusion/temp/neuron_9582_fill_holes.off -s /notebooks/Platinum_Decomp_Fusion/temp/fill_holes_172732.mls\n",
      "removed temporary input file: /notebooks/Platinum_Decomp_Fusion/temp/neuron_9582.off\n",
      "removed temporary output file: /notebooks/Platinum_Decomp_Fusion/temp/neuron_9582_fill_holes.off\n",
      "-----Time for Screened Poisson= 19.246871948242188\n",
      "     Starting Calcification\n",
      "Before mesh subtraction number of skeleton edges = 991\n",
      "Inside mesh subtraction, len(main_mesh_bbox_restricted.faces) = 79096\n"
     ]
    },
    {
     "data": {
      "application/vnd.jupyter.widget-view+json": {
       "model_id": "d58fa1b5b1064acdb258704889a70bda",
       "version_major": 2,
       "version_minor": 0
      },
      "text/plain": [
       "HBox(children=(FloatProgress(value=1.0, bar_style='info', layout=Layout(width='20px'), max=1.0), HTML(value=''…"
      ]
     },
     "metadata": {},
     "output_type": "display_data"
    },
    {
     "name": "stdout",
     "output_type": "stream",
     "text": [
      "\n",
      "Total Mesh subtraction time = 14.6761\n"
     ]
    },
    {
     "data": {
      "application/vnd.jupyter.widget-view+json": {
       "model_id": "806ba1d06222490ea93cab4f18ac5bf6",
       "version_major": 2,
       "version_minor": 0
      },
      "text/plain": [
       "HBox(children=(FloatProgress(value=1.0, bar_style='info', layout=Layout(width='20px'), max=1.0), HTML(value=''…"
      ]
     },
     "metadata": {},
     "output_type": "display_data"
    },
    {
     "name": "stdout",
     "output_type": "stream",
     "text": [
      "\n",
      "No skeletons to stack so returning empty list\n",
      "len_subgraphs AT BEGINNING of the loop\n"
     ]
    },
    {
     "data": {
      "application/vnd.jupyter.widget-view+json": {
       "model_id": "10d8f7e5d6014830bc04f863650590e1",
       "version_major": 2,
       "version_minor": 0
      },
      "text/plain": [
       "HBox(children=(FloatProgress(value=0.0, max=122.0), HTML(value='')))"
      ]
     },
     "metadata": {},
     "output_type": "display_data"
    },
    {
     "name": "stdout",
     "output_type": "stream",
     "text": [
      "all graph is one component!\n",
      "\n",
      "Total time for skeleton stitching = 0.12021517753601074\n",
      "The process was using a temp folder\n",
      "    Total time for skeletonizing branch: 38.88980555534363\n",
      "Adding new branch to skeleton\n",
      "    Total time for Fixing Skeleton Soma Endpoint Extension : 3.648385763168335\n",
      "filter_end_node_length = 4001\n",
      "Using Distance measure skeletal_distance\n",
      "Going to ignore certain endnodes that are 5000 nm close to soma border vertices\n",
      "Number of end_nodes BEFORE filtering = 145\n",
      "Using an already specified end node: 0 with index 0checking was correct node end_nodes[index] = 0\n",
      "May Eliminate end_node 0: 0 because path_len to soma border was 4417.249552056977\n",
      "May Eliminate end_node 1: 1 because path_len to soma border was 3986.4632901433943\n",
      "single_node_to_eliminate = 1\n",
      "all_single_nodes_to_eliminate = [0, 1]\n"
     ]
    },
    {
     "data": {
      "application/vnd.jupyter.widget-view+json": {
       "model_id": "6f86d785fa054268bef5afee40db1086",
       "version_major": 2,
       "version_minor": 0
      },
      "text/plain": [
       "HBox(children=(FloatProgress(value=0.0, max=143.0), HTML(value='')))"
      ]
     },
     "metadata": {},
     "output_type": "display_data"
    },
    {
     "name": "stdout",
     "output_type": "stream",
     "text": [
      "\n",
      "high-degree endpoints were connected so just using that connection\n",
      "curr_branch = {609}\n",
      "********COMBINING CLOSE SKELETON NODES WITHIN 700 DISTANCE**********\n",
      "Found 0 valid paths to replace\n",
      "valid_paths = []\n",
      "valid_path_lengths = []\n",
      "No valid paths found so just returning the original\n",
      "skeletonize_and_clean_connected_branch_CGAL: 46.85312366485596\n",
      "Working on limb correspondence for #0 MAP piece\n"
     ]
    },
    {
     "data": {
      "application/vnd.jupyter.widget-view+json": {
       "model_id": "b095e8fd6d134a928aa611dc79a049d6",
       "version_major": 2,
       "version_minor": 0
      },
      "text/plain": [
       "HBox(children=(FloatProgress(value=1.0, bar_style='info', layout=Layout(width='20px'), max=1.0), HTML(value=''…"
      ]
     },
     "metadata": {},
     "output_type": "display_data"
    },
    {
     "name": "stdout",
     "output_type": "stream",
     "text": [
      "\n",
      "Total time for decomposition = 10.704252243041992\n",
      "mesh_correspondence_first_pass: 10.70428204536438\n",
      "Limb decomposed into 11 branches\n",
      "divided_skeleton_graph_recovered = (721, 2, 3) and \n",
      "current_mesh_data[0]['branch_skeletons_cleaned'].shape = (721, 2, 3)\n",
      "\n",
      "Number of connected components in deocmposed recovered graph = 1\n",
      "Number of connected components in cleaned skeleton graph= 1\n",
      "The downsampled branches number of connected components = 1\n",
      "Empty submeshes = []\n",
      "\n",
      "\n",
      "--- Working on 1-to-1 correspondence-----\n",
      "max(original_labels),len(original_labels) = (10, 11)\n",
      "empty_indices % = 0.17808738747850714\n",
      " conflict_indices % = 0.02383179933245676\n"
     ]
    },
    {
     "data": {
      "application/vnd.jupyter.widget-view+json": {
       "model_id": "90f46065bd904029a2cd1375f518c61c",
       "version_major": 2,
       "version_minor": 0
      },
      "text/plain": [
       "HBox(children=(FloatProgress(value=0.0, max=32.0), HTML(value='')))"
      ]
     },
     "metadata": {},
     "output_type": "display_data"
    },
    {
     "name": "stdout",
     "output_type": "stream",
     "text": [
      "\n",
      "AFTER face_lookup_resolved_test\n",
      "Took 0 iterations to expand the label back\n"
     ]
    },
    {
     "data": {
      "application/vnd.jupyter.widget-view+json": {
       "model_id": "bde94677000c4850b19db7eefd625526",
       "version_major": 2,
       "version_minor": 0
      },
      "text/plain": [
       "HBox(children=(FloatProgress(value=0.0, max=11.0), HTML(value='')))"
      ]
     },
     "metadata": {},
     "output_type": "display_data"
    },
    {
     "name": "stdout",
     "output_type": "stream",
     "text": [
      "\n",
      "Total time for MAP sublimb #0 mesh processing = 75.75579023361206\n",
      "correspondence_1_to_1: 18.193397998809814\n",
      "Total time for MAP sublimb processing 75.7559163570404\n",
      "***************Arrived at MESH PIECES FOR MAP AND mp***************\n",
      "---- Working on MP Decomposition #0 ----\n",
      "MP filtering soma verts: 0.004580497741699219\n",
      "Do Not Need to Fix MP Decomposition 0 so just continuing\n",
      "---- Working on MP Decomposition #1 ----\n",
      "MP filtering soma verts: 0.0006127357482910156\n",
      "Do Not Need to Fix MP Decomposition 1 so just continuing\n",
      "---- Working on MP Decomposition #2 ----\n",
      "MP filtering soma verts: 0.00025081634521484375\n",
      "Do Not Need to Fix MP Decomposition 2 so just continuing\n",
      "---- Working on MP Decomposition #3 ----\n",
      "MP filtering soma verts: 0.00046062469482421875\n",
      "Do Not Need to Fix MP Decomposition 3 so just continuing\n",
      "---- Working on MP Decomposition #4 ----\n",
      "MP filtering soma verts: 0.0003075599670410156\n",
      "Do Not Need to Fix MP Decomposition 4 so just continuing\n",
      "---- Working on MP Decomposition #5 ----\n",
      "MP filtering soma verts: 0.00019168853759765625\n",
      "Do Not Need to Fix MP Decomposition 5 so just continuing\n",
      "---- Working on MP Decomposition #6 ----\n",
      "MP filtering soma verts: 0.0001728534698486328\n",
      "Do Not Need to Fix MP Decomposition 6 so just continuing\n",
      "---- Working on MP Decomposition #7 ----\n",
      "MP filtering soma verts: 0.00037097930908203125\n",
      "Do Not Need to Fix MP Decomposition 7 so just continuing\n",
      "---- Working on MP Decomposition #8 ----\n",
      "MP filtering soma verts: 0.0003566741943359375\n",
      "Do Not Need to Fix MP Decomposition 8 so just continuing\n",
      "---- Working on MP Decomposition #9 ----\n",
      "MP filtering soma verts: 0.0002665519714355469\n",
      "Do Not Need to Fix MP Decomposition 9 so just continuing\n",
      "---- Working on MP Decomposition #10 ----\n",
      "MP filtering soma verts: 0.0002384185791015625\n",
      "Do Not Need to Fix MP Decomposition 10 so just continuing\n",
      "---- Working on MP Decomposition #11 ----\n",
      "MP filtering soma verts: 0.00017571449279785156\n",
      "Do Not Need to Fix MP Decomposition 11 so just continuing\n",
      "\n",
      "---- Working on (0, 0) connection-----\n",
      "winning_vertex = [851898.88794346 974607.71945846 789218.23432448]\n",
      "MP_branches_with_stitch_point = [1, 2, 7]\n",
      "Current stitch point was not a branch or endpoint, shortest_path_length to one = 50595.564848298745\n",
      "MAP_branches_with_stitch_point = [5]\n",
      "MAP_stitch_point_on_end_or_branch = False\n"
     ]
    },
    {
     "data": {
      "application/vnd.jupyter.widget-view+json": {
       "model_id": "9faaa0e6653d4f559a982c6a331eb3b9",
       "version_major": 2,
       "version_minor": 0
      },
      "text/plain": [
       "HBox(children=(FloatProgress(value=1.0, bar_style='info', layout=Layout(width='20px'), max=1.0), HTML(value=''…"
      ]
     },
     "metadata": {},
     "output_type": "display_data"
    },
    {
     "name": "stdout",
     "output_type": "stream",
     "text": [
      "\n",
      "\n",
      "\n",
      "--- Working on 1-to-1 correspondence-----\n",
      "max(original_labels),len(original_labels) = (4, 5)\n",
      "empty_indices % = 0.19791513295444507\n",
      " conflict_indices % = 0.01925851762419388\n"
     ]
    },
    {
     "data": {
      "application/vnd.jupyter.widget-view+json": {
       "model_id": "d86dcfc5a6d042628fb06f157a892554",
       "version_major": 2,
       "version_minor": 0
      },
      "text/plain": [
       "HBox(children=(FloatProgress(value=0.0, max=14.0), HTML(value='')))"
      ]
     },
     "metadata": {},
     "output_type": "display_data"
    },
    {
     "name": "stdout",
     "output_type": "stream",
     "text": [
      "\n",
      "AFTER face_lookup_resolved_test\n"
     ]
    },
    {
     "data": {
      "application/vnd.jupyter.widget-view+json": {
       "model_id": "b2001c6fd24e442390c489aea7843a6b",
       "version_major": 2,
       "version_minor": 0
      },
      "text/plain": [
       "HBox(children=(FloatProgress(value=0.0, max=5.0), HTML(value='')))"
      ]
     },
     "metadata": {},
     "output_type": "display_data"
    },
    {
     "name": "stdout",
     "output_type": "stream",
     "text": [
      "\n",
      "Deleting branches from dictionary\n",
      " Finished with (0, 0) \n",
      "\n",
      "\n",
      "\n",
      "\n",
      "---- Working on (1, 0) connection-----\n",
      "winning_vertex = [857384.14793268 977586.09278573 789096.71401835]\n",
      "MP_branches_with_stitch_point = [1]\n",
      "Current stitch point was not a branch or endpoint, shortest_path_length to one = 45224.14389912074\n",
      "MAP_branches_with_stitch_point = [11]\n",
      "MAP_stitch_point_on_end_or_branch = False\n"
     ]
    },
    {
     "data": {
      "application/vnd.jupyter.widget-view+json": {
       "model_id": "3d8b522382134b0aa894c28e2ec4f147",
       "version_major": 2,
       "version_minor": 0
      },
      "text/plain": [
       "HBox(children=(FloatProgress(value=1.0, bar_style='info', layout=Layout(width='20px'), max=1.0), HTML(value=''…"
      ]
     },
     "metadata": {},
     "output_type": "display_data"
    },
    {
     "name": "stdout",
     "output_type": "stream",
     "text": [
      "\n",
      "\n",
      "\n",
      "--- Working on 1-to-1 correspondence-----\n",
      "max(original_labels),len(original_labels) = (2, 3)\n",
      "empty_indices % = 0.043530048727666484\n",
      " conflict_indices % = 0.0773145641580942\n"
     ]
    },
    {
     "data": {
      "application/vnd.jupyter.widget-view+json": {
       "model_id": "d9f59843dcfa49ffadeb4d949f630306",
       "version_major": 2,
       "version_minor": 0
      },
      "text/plain": [
       "HBox(children=(FloatProgress(value=0.0, max=7.0), HTML(value='')))"
      ]
     },
     "metadata": {},
     "output_type": "display_data"
    },
    {
     "name": "stdout",
     "output_type": "stream",
     "text": [
      "\n",
      "AFTER face_lookup_resolved_test\n"
     ]
    },
    {
     "data": {
      "application/vnd.jupyter.widget-view+json": {
       "model_id": "1f9cff2222894dfb8759b4a8aeb81c31",
       "version_major": 2,
       "version_minor": 0
      },
      "text/plain": [
       "HBox(children=(FloatProgress(value=0.0, max=3.0), HTML(value='')))"
      ]
     },
     "metadata": {},
     "output_type": "display_data"
    },
    {
     "name": "stdout",
     "output_type": "stream",
     "text": [
      "\n",
      "Deleting branches from dictionary\n",
      " Finished with (1, 0) \n",
      "\n",
      "\n",
      "\n",
      "\n",
      "---- Working on (2, 0) connection-----\n",
      "winning_vertex = [882513.99604165 981687.18118189 785420.86853104]\n",
      "MP_branches_with_stitch_point = [0]\n",
      "Current stitch point was not a branch or endpoint, shortest_path_length to one = 18083.470420627826\n",
      "MAP_branches_with_stitch_point = [12]\n",
      "MAP_stitch_point_on_end_or_branch = False\n"
     ]
    },
    {
     "data": {
      "application/vnd.jupyter.widget-view+json": {
       "model_id": "33aeb188ea014e098c83de6466211750",
       "version_major": 2,
       "version_minor": 0
      },
      "text/plain": [
       "HBox(children=(FloatProgress(value=1.0, bar_style='info', layout=Layout(width='20px'), max=1.0), HTML(value=''…"
      ]
     },
     "metadata": {},
     "output_type": "display_data"
    },
    {
     "name": "stdout",
     "output_type": "stream",
     "text": [
      "\n",
      "\n",
      "\n",
      "--- Working on 1-to-1 correspondence-----\n",
      "max(original_labels),len(original_labels) = (2, 3)\n",
      "empty_indices % = 0.03727565577542568\n",
      " conflict_indices % = 0.025425678785089736\n"
     ]
    },
    {
     "data": {
      "application/vnd.jupyter.widget-view+json": {
       "model_id": "943d1c26b6e14e9ea6668c5a3e5575c4",
       "version_major": 2,
       "version_minor": 0
      },
      "text/plain": [
       "HBox(children=(FloatProgress(value=0.0, max=9.0), HTML(value='')))"
      ]
     },
     "metadata": {},
     "output_type": "display_data"
    },
    {
     "name": "stdout",
     "output_type": "stream",
     "text": [
      "\n",
      "AFTER face_lookup_resolved_test\n"
     ]
    },
    {
     "data": {
      "application/vnd.jupyter.widget-view+json": {
       "model_id": "e06a86e797d64ac2a88d35aabd2c0156",
       "version_major": 2,
       "version_minor": 0
      },
      "text/plain": [
       "HBox(children=(FloatProgress(value=0.0, max=3.0), HTML(value='')))"
      ]
     },
     "metadata": {},
     "output_type": "display_data"
    },
    {
     "name": "stdout",
     "output_type": "stream",
     "text": [
      "\n",
      "Deleting branches from dictionary\n",
      " Finished with (2, 0) \n",
      "\n",
      "\n",
      "\n",
      "\n",
      "---- Working on (3, 0) connection-----\n",
      "winning_vertex = [858104.77354197 977794.96332261 789312.23070753]\n",
      "MP_branches_with_stitch_point = [0, 1]\n",
      "Current stitch point was not a branch or endpoint, shortest_path_length to one = 44611.45642537552\n",
      "MAP_branches_with_stitch_point = [12]\n",
      "MAP_stitch_point_on_end_or_branch = False\n"
     ]
    },
    {
     "data": {
      "application/vnd.jupyter.widget-view+json": {
       "model_id": "6c73b6dfeac743dabf2c3e7f6aabb791",
       "version_major": 2,
       "version_minor": 0
      },
      "text/plain": [
       "HBox(children=(FloatProgress(value=1.0, bar_style='info', layout=Layout(width='20px'), max=1.0), HTML(value=''…"
      ]
     },
     "metadata": {},
     "output_type": "display_data"
    },
    {
     "name": "stdout",
     "output_type": "stream",
     "text": [
      "\n",
      "\n",
      "\n",
      "--- Working on 1-to-1 correspondence-----\n",
      "max(original_labels),len(original_labels) = (3, 4)\n",
      "empty_indices % = 0.08893473775654251\n",
      " conflict_indices % = 0.1555000542947117\n"
     ]
    },
    {
     "data": {
      "application/vnd.jupyter.widget-view+json": {
       "model_id": "76caa72fcfd348d6bd9e138906e9172d",
       "version_major": 2,
       "version_minor": 0
      },
      "text/plain": [
       "HBox(children=(FloatProgress(value=0.0, max=7.0), HTML(value='')))"
      ]
     },
     "metadata": {},
     "output_type": "display_data"
    },
    {
     "name": "stdout",
     "output_type": "stream",
     "text": [
      "\n",
      "AFTER face_lookup_resolved_test\n"
     ]
    },
    {
     "data": {
      "application/vnd.jupyter.widget-view+json": {
       "model_id": "b9fe554f26c9413b80c74652ed21f1cc",
       "version_major": 2,
       "version_minor": 0
      },
      "text/plain": [
       "HBox(children=(FloatProgress(value=0.0, max=4.0), HTML(value='')))"
      ]
     },
     "metadata": {},
     "output_type": "display_data"
    },
    {
     "name": "stdout",
     "output_type": "stream",
     "text": [
      "\n",
      "Deleting branches from dictionary\n",
      " Finished with (3, 0) \n",
      "\n",
      "\n",
      "\n",
      "\n",
      "---- Working on (4, 0) connection-----\n",
      "winning_vertex = [796241.29182216 967424.101931   841080.03965728]\n",
      "MP_branches_with_stitch_point = [0]\n",
      "Current stitch point was not a branch or endpoint, shortest_path_length to one = 3798.3005142639263\n",
      "MAP_branches_with_stitch_point = [5]\n",
      "MAP_stitch_point_on_end_or_branch = False\n"
     ]
    },
    {
     "data": {
      "application/vnd.jupyter.widget-view+json": {
       "model_id": "526ee448aeb6419a8e45e4fcee2510fd",
       "version_major": 2,
       "version_minor": 0
      },
      "text/plain": [
       "HBox(children=(FloatProgress(value=1.0, bar_style='info', layout=Layout(width='20px'), max=1.0), HTML(value=''…"
      ]
     },
     "metadata": {},
     "output_type": "display_data"
    },
    {
     "name": "stdout",
     "output_type": "stream",
     "text": [
      "empty mesh_correspondence_indices_2 returned so returning original mesh correspondence\n",
      "\n",
      "\n",
      "\n",
      "--- Working on 1-to-1 correspondence-----\n",
      "max(original_labels),len(original_labels) = (2, 3)\n",
      "empty_indices % = 0.031549845503333875\n",
      " conflict_indices % = 0.005475145010028731\n"
     ]
    },
    {
     "data": {
      "application/vnd.jupyter.widget-view+json": {
       "model_id": "1ebf28b881e248289d9fcc67389e9c75",
       "version_major": 2,
       "version_minor": 0
      },
      "text/plain": [
       "HBox(children=(FloatProgress(value=0.0, max=5.0), HTML(value='')))"
      ]
     },
     "metadata": {},
     "output_type": "display_data"
    },
    {
     "name": "stdout",
     "output_type": "stream",
     "text": [
      "\n",
      "AFTER face_lookup_resolved_test\n"
     ]
    },
    {
     "data": {
      "application/vnd.jupyter.widget-view+json": {
       "model_id": "7969c898dff041f8b0eed84855a76470",
       "version_major": 2,
       "version_minor": 0
      },
      "text/plain": [
       "HBox(children=(FloatProgress(value=0.0, max=3.0), HTML(value='')))"
      ]
     },
     "metadata": {},
     "output_type": "display_data"
    },
    {
     "name": "stdout",
     "output_type": "stream",
     "text": [
      "\n",
      "Deleting branches from dictionary\n",
      " Finished with (4, 0) \n",
      "\n",
      "\n",
      "\n",
      "\n",
      "---- Working on (5, 0) connection-----\n",
      "winning_vertex = [ 819283.21637022 1029752.83254346  799741.26018108]\n",
      "MP_branches_with_stitch_point = [0]\n",
      "Current stitch point was not a branch or endpoint, shortest_path_length to one = 3227.9806981568704\n",
      "MAP_branches_with_stitch_point = [10]\n",
      "MAP_stitch_point_on_end_or_branch = False\n"
     ]
    },
    {
     "data": {
      "application/vnd.jupyter.widget-view+json": {
       "model_id": "8bc0e7cf480d4d2eac914d4913fca1ea",
       "version_major": 2,
       "version_minor": 0
      },
      "text/plain": [
       "HBox(children=(FloatProgress(value=1.0, bar_style='info', layout=Layout(width='20px'), max=1.0), HTML(value=''…"
      ]
     },
     "metadata": {},
     "output_type": "display_data"
    },
    {
     "name": "stdout",
     "output_type": "stream",
     "text": [
      "\n",
      "\n",
      "\n",
      "--- Working on 1-to-1 correspondence-----\n",
      "max(original_labels),len(original_labels) = (2, 3)\n",
      "empty_indices % = 0.0\n",
      " conflict_indices % = 0.04022754977651361\n"
     ]
    },
    {
     "data": {
      "application/vnd.jupyter.widget-view+json": {
       "model_id": "778abf5f5b0e41c2ad46a626f98b34e3",
       "version_major": 2,
       "version_minor": 0
      },
      "text/plain": [
       "HBox(children=(FloatProgress(value=0.0, max=1.0), HTML(value='')))"
      ]
     },
     "metadata": {},
     "output_type": "display_data"
    },
    {
     "name": "stdout",
     "output_type": "stream",
     "text": [
      "\n",
      "AFTER face_lookup_resolved_test\n"
     ]
    },
    {
     "data": {
      "application/vnd.jupyter.widget-view+json": {
       "model_id": "44d7f5118b9d4fa889dad70db33b65d0",
       "version_major": 2,
       "version_minor": 0
      },
      "text/plain": [
       "HBox(children=(FloatProgress(value=0.0, max=3.0), HTML(value='')))"
      ]
     },
     "metadata": {},
     "output_type": "display_data"
    },
    {
     "name": "stdout",
     "output_type": "stream",
     "text": [
      "\n",
      "Deleting branches from dictionary\n",
      " Finished with (5, 0) \n",
      "\n",
      "\n",
      "\n",
      "\n",
      "---- Working on (6, 0) connection-----\n",
      "winning_vertex = [853574.47095438 976609.65631865 789638.99176332]\n",
      "MP_branches_with_stitch_point = [0]\n",
      "Current stitch point was not a branch or endpoint, shortest_path_length to one = 49885.08261769758\n",
      "MAP_branches_with_stitch_point = [11]\n",
      "MAP_stitch_point_on_end_or_branch = False\n"
     ]
    },
    {
     "data": {
      "application/vnd.jupyter.widget-view+json": {
       "model_id": "be595dcc8c664978b12e29c83f6bf45f",
       "version_major": 2,
       "version_minor": 0
      },
      "text/plain": [
       "HBox(children=(FloatProgress(value=1.0, bar_style='info', layout=Layout(width='20px'), max=1.0), HTML(value=''…"
      ]
     },
     "metadata": {},
     "output_type": "display_data"
    },
    {
     "name": "stdout",
     "output_type": "stream",
     "text": [
      "\n",
      "\n",
      "\n",
      "--- Working on 1-to-1 correspondence-----\n",
      "max(original_labels),len(original_labels) = (2, 3)\n",
      "empty_indices % = 0.19090365050867744\n",
      " conflict_indices % = 0.01855176540993417\n"
     ]
    },
    {
     "data": {
      "application/vnd.jupyter.widget-view+json": {
       "model_id": "e32677efa91e427eb73aa6a17de2e77a",
       "version_major": 2,
       "version_minor": 0
      },
      "text/plain": [
       "HBox(children=(FloatProgress(value=0.0, max=4.0), HTML(value='')))"
      ]
     },
     "metadata": {},
     "output_type": "display_data"
    },
    {
     "name": "stdout",
     "output_type": "stream",
     "text": [
      "\n",
      "AFTER face_lookup_resolved_test\n"
     ]
    },
    {
     "data": {
      "application/vnd.jupyter.widget-view+json": {
       "model_id": "92e8cf3ae2e740e1aa773a521d0f4840",
       "version_major": 2,
       "version_minor": 0
      },
      "text/plain": [
       "HBox(children=(FloatProgress(value=0.0, max=3.0), HTML(value='')))"
      ]
     },
     "metadata": {},
     "output_type": "display_data"
    },
    {
     "name": "stdout",
     "output_type": "stream",
     "text": [
      "\n",
      "Deleting branches from dictionary\n",
      " Finished with (6, 0) \n",
      "\n",
      "\n",
      "\n",
      "\n",
      "---- Working on (7, 0) connection-----\n",
      "winning_vertex = [ 819119.35153973 1030275.92786366  798690.89392448]\n",
      "MP_branches_with_stitch_point = [0]\n",
      "Current stitch point was not a branch or endpoint, shortest_path_length to one = 1701.5546821371706\n",
      "MAP_branches_with_stitch_point = [10]\n",
      "MAP_stitch_point_on_end_or_branch = False\n"
     ]
    },
    {
     "data": {
      "application/vnd.jupyter.widget-view+json": {
       "model_id": "a2cb04154cf442d6b43b13bfd9dbcaaa",
       "version_major": 2,
       "version_minor": 0
      },
      "text/plain": [
       "HBox(children=(FloatProgress(value=1.0, bar_style='info', layout=Layout(width='20px'), max=1.0), HTML(value=''…"
      ]
     },
     "metadata": {},
     "output_type": "display_data"
    },
    {
     "name": "stdout",
     "output_type": "stream",
     "text": [
      "\n",
      "\n",
      "\n",
      "--- Working on 1-to-1 correspondence-----\n",
      "max(original_labels),len(original_labels) = (2, 3)\n",
      "empty_indices % = 0.7922285714285714\n",
      " conflict_indices % = 0.05737142857142857\n"
     ]
    },
    {
     "data": {
      "application/vnd.jupyter.widget-view+json": {
       "model_id": "17aefa63a9744d8a9be4bdc0c30a99d3",
       "version_major": 2,
       "version_minor": 0
      },
      "text/plain": [
       "HBox(children=(FloatProgress(value=0.0, max=2.0), HTML(value='')))"
      ]
     },
     "metadata": {},
     "output_type": "display_data"
    },
    {
     "name": "stdout",
     "output_type": "stream",
     "text": [
      "\n",
      "AFTER face_lookup_resolved_test\n"
     ]
    },
    {
     "data": {
      "application/vnd.jupyter.widget-view+json": {
       "model_id": "7ba76450de354c82ae7696b9a5d0346d",
       "version_major": 2,
       "version_minor": 0
      },
      "text/plain": [
       "HBox(children=(FloatProgress(value=0.0, max=3.0), HTML(value='')))"
      ]
     },
     "metadata": {},
     "output_type": "display_data"
    },
    {
     "name": "stdout",
     "output_type": "stream",
     "text": [
      "\n",
      "Deleting branches from dictionary\n",
      " Finished with (7, 0) \n",
      "\n",
      "\n",
      "\n",
      "\n",
      "---- Working on (8, 0) connection-----\n",
      "winning_vertex = [794191.51225116 967512.47265651 842362.13737273]\n",
      "MP_branches_with_stitch_point = [0]\n",
      "Current stitch point was not a branch or endpoint, shortest_path_length to one = 1653.7961574005017\n",
      "MAP_branches_with_stitch_point = [5]\n",
      "MAP_stitch_point_on_end_or_branch = False\n"
     ]
    },
    {
     "data": {
      "application/vnd.jupyter.widget-view+json": {
       "model_id": "ba452e481f1c48a1957abd768354cb9f",
       "version_major": 2,
       "version_minor": 0
      },
      "text/plain": [
       "HBox(children=(FloatProgress(value=1.0, bar_style='info', layout=Layout(width='20px'), max=1.0), HTML(value=''…"
      ]
     },
     "metadata": {},
     "output_type": "display_data"
    },
    {
     "name": "stdout",
     "output_type": "stream",
     "text": [
      "\n",
      "\n",
      "\n",
      "--- Working on 1-to-1 correspondence-----\n",
      "max(original_labels),len(original_labels) = (2, 3)\n",
      "empty_indices % = 0.26131850675139\n",
      " conflict_indices % = 0.007942811755361398\n"
     ]
    },
    {
     "data": {
      "application/vnd.jupyter.widget-view+json": {
       "model_id": "10da1ab9a1b14ab593e8a018d34d97f9",
       "version_major": 2,
       "version_minor": 0
      },
      "text/plain": [
       "HBox(children=(FloatProgress(value=0.0, max=4.0), HTML(value='')))"
      ]
     },
     "metadata": {},
     "output_type": "display_data"
    },
    {
     "name": "stdout",
     "output_type": "stream",
     "text": [
      "\n",
      "AFTER face_lookup_resolved_test\n"
     ]
    },
    {
     "data": {
      "application/vnd.jupyter.widget-view+json": {
       "model_id": "d9c8dc136a554f4d90215e9e7fadb109",
       "version_major": 2,
       "version_minor": 0
      },
      "text/plain": [
       "HBox(children=(FloatProgress(value=0.0, max=3.0), HTML(value='')))"
      ]
     },
     "metadata": {},
     "output_type": "display_data"
    },
    {
     "name": "stdout",
     "output_type": "stream",
     "text": [
      "\n",
      "Deleting branches from dictionary\n",
      " Finished with (8, 0) \n",
      "\n",
      "\n",
      "\n",
      "\n",
      "---- Working on (9, 0) connection-----\n",
      "winning_vertex = [ 817861.80572996 1031429.51196166  799061.13306115]\n",
      "MP_branches_with_stitch_point = [0, 1]\n",
      "Current stitch point was not a branch or endpoint, shortest_path_length to one = 96.87620966986684\n",
      "Changing the stitch point becasue the distance to end or branch node was 96.87620966986684\n",
      "New stitch point has degree 1\n",
      "MAP_branches_with_stitch_point = [10]\n",
      "MAP_stitch_point_on_end_or_branch = True\n"
     ]
    },
    {
     "data": {
      "application/vnd.jupyter.widget-view+json": {
       "model_id": "88598c87f2c9472fbdff9a43e8a8f7cd",
       "version_major": 2,
       "version_minor": 0
      },
      "text/plain": [
       "HBox(children=(FloatProgress(value=1.0, bar_style='info', layout=Layout(width='20px'), max=1.0), HTML(value=''…"
      ]
     },
     "metadata": {},
     "output_type": "display_data"
    },
    {
     "name": "stdout",
     "output_type": "stream",
     "text": [
      "\n",
      "\n",
      "\n",
      "--- Working on 1-to-1 correspondence-----\n",
      "max(original_labels),len(original_labels) = (2, 3)\n",
      "empty_indices % = 0.04164820558263181\n",
      " conflict_indices % = 0.03145768719539211\n"
     ]
    },
    {
     "data": {
      "application/vnd.jupyter.widget-view+json": {
       "model_id": "0b90e48f47b74cb18f1cf635c9546fed",
       "version_major": 2,
       "version_minor": 0
      },
      "text/plain": [
       "HBox(children=(FloatProgress(value=0.0, max=2.0), HTML(value='')))"
      ]
     },
     "metadata": {},
     "output_type": "display_data"
    },
    {
     "name": "stdout",
     "output_type": "stream",
     "text": [
      "\n",
      "AFTER face_lookup_resolved_test\n"
     ]
    },
    {
     "data": {
      "application/vnd.jupyter.widget-view+json": {
       "model_id": "c6db58bd92574a169f34eae53fdc4901",
       "version_major": 2,
       "version_minor": 0
      },
      "text/plain": [
       "HBox(children=(FloatProgress(value=0.0, max=3.0), HTML(value='')))"
      ]
     },
     "metadata": {},
     "output_type": "display_data"
    },
    {
     "name": "stdout",
     "output_type": "stream",
     "text": [
      "\n",
      " Finished with (9, 0) \n",
      "\n",
      "\n",
      "\n",
      "\n",
      "---- Working on (10, 0) connection-----\n",
      "winning_vertex = [806701.98061585 969708.7458737  831343.27668318]\n",
      "MP_branches_with_stitch_point = [0]\n",
      "Current stitch point was not a branch or endpoint, shortest_path_length to one = 18786.71626035267\n",
      "MAP_branches_with_stitch_point = [15]\n",
      "MAP_stitch_point_on_end_or_branch = False\n"
     ]
    },
    {
     "data": {
      "application/vnd.jupyter.widget-view+json": {
       "model_id": "d02ab025a8264476a726df79fcd9f102",
       "version_major": 2,
       "version_minor": 0
      },
      "text/plain": [
       "HBox(children=(FloatProgress(value=1.0, bar_style='info', layout=Layout(width='20px'), max=1.0), HTML(value=''…"
      ]
     },
     "metadata": {},
     "output_type": "display_data"
    },
    {
     "name": "stdout",
     "output_type": "stream",
     "text": [
      "\n",
      "\n",
      "\n",
      "--- Working on 1-to-1 correspondence-----\n",
      "max(original_labels),len(original_labels) = (2, 3)\n",
      "empty_indices % = 0.032802783958012435\n",
      " conflict_indices % = 0.0015973529579553882\n"
     ]
    },
    {
     "data": {
      "application/vnd.jupyter.widget-view+json": {
       "model_id": "c6ec4cc1302e4a158d6c2a449f769668",
       "version_major": 2,
       "version_minor": 0
      },
      "text/plain": [
       "HBox(children=(FloatProgress(value=0.0, max=6.0), HTML(value='')))"
      ]
     },
     "metadata": {},
     "output_type": "display_data"
    },
    {
     "name": "stdout",
     "output_type": "stream",
     "text": [
      "\n",
      "AFTER face_lookup_resolved_test\n"
     ]
    },
    {
     "data": {
      "application/vnd.jupyter.widget-view+json": {
       "model_id": "c885c62191684dd1b4f6322e5e6ef475",
       "version_major": 2,
       "version_minor": 0
      },
      "text/plain": [
       "HBox(children=(FloatProgress(value=0.0, max=3.0), HTML(value='')))"
      ]
     },
     "metadata": {},
     "output_type": "display_data"
    },
    {
     "name": "stdout",
     "output_type": "stream",
     "text": [
      "\n",
      "Deleting branches from dictionary\n",
      " Finished with (10, 0) \n",
      "\n",
      "\n",
      "\n",
      "\n",
      "---- Working on (11, 0) connection-----\n",
      "winning_vertex = [860093.10027218 977335.00791125 788196.22636693]\n",
      "MP_branches_with_stitch_point = [0]\n",
      "Current stitch point was not a branch or endpoint, shortest_path_length to one = 42044.62769967613\n",
      "MAP_branches_with_stitch_point = [14]\n",
      "MAP_stitch_point_on_end_or_branch = False\n"
     ]
    },
    {
     "data": {
      "application/vnd.jupyter.widget-view+json": {
       "model_id": "3818ca5e209043838b8976350ba5f3d7",
       "version_major": 2,
       "version_minor": 0
      },
      "text/plain": [
       "HBox(children=(FloatProgress(value=1.0, bar_style='info', layout=Layout(width='20px'), max=1.0), HTML(value=''…"
      ]
     },
     "metadata": {},
     "output_type": "display_data"
    },
    {
     "name": "stdout",
     "output_type": "stream",
     "text": [
      "\n",
      "\n",
      "\n",
      "--- Working on 1-to-1 correspondence-----\n",
      "max(original_labels),len(original_labels) = (2, 3)\n",
      "empty_indices % = 0.04348659003831418\n",
      " conflict_indices % = 0.01743295019157088\n"
     ]
    },
    {
     "data": {
      "application/vnd.jupyter.widget-view+json": {
       "model_id": "767368002ae341969bcd0b1a3b5d363f",
       "version_major": 2,
       "version_minor": 0
      },
      "text/plain": [
       "HBox(children=(FloatProgress(value=0.0, max=4.0), HTML(value='')))"
      ]
     },
     "metadata": {},
     "output_type": "display_data"
    },
    {
     "name": "stdout",
     "output_type": "stream",
     "text": [
      "\n",
      "AFTER face_lookup_resolved_test\n"
     ]
    },
    {
     "data": {
      "application/vnd.jupyter.widget-view+json": {
       "model_id": "d0d7f6f186ef4b4f9fc7f8a36592c450",
       "version_major": 2,
       "version_minor": 0
      },
      "text/plain": [
       "HBox(children=(FloatProgress(value=0.0, max=3.0), HTML(value='')))"
      ]
     },
     "metadata": {},
     "output_type": "display_data"
    },
    {
     "name": "stdout",
     "output_type": "stream",
     "text": [
      "\n",
      "Deleting branches from dictionary\n",
      " Finished with (11, 0) \n",
      "\n",
      "\n",
      "\n",
      "Time for decomp of Limb 3 = 101.73674726486206\n",
      "\n",
      "\n",
      "----- Working on Proper Limb #4 ---------\n",
      "Time for preparing soma vertices and root: 0.00036644935607910156\n",
      "smooth_neighborhood = 1\n"
     ]
    },
    {
     "name": "stderr",
     "output_type": "stream",
     "text": [
      "\r",
      "  0%|          | 0/1 [00:00<?, ?it/s]"
     ]
    },
    {
     "data": {
      "application/vnd.jupyter.widget-view+json": {
       "model_id": "56e35d4cc5ab49b9ac609985b58b0dd5",
       "version_major": 2,
       "version_minor": 0
      },
      "text/plain": [
       "HBox(children=(FloatProgress(value=0.0, max=54855.0), HTML(value='')))"
      ]
     },
     "metadata": {},
     "output_type": "display_data"
    },
    {
     "name": "stderr",
     "output_type": "stream",
     "text": [
      "100%|██████████| 1/1 [00:00<00:00,  1.39it/s]"
     ]
    },
    {
     "name": "stdout",
     "output_type": "stream",
     "text": [
      "\n"
     ]
    },
    {
     "name": "stderr",
     "output_type": "stream",
     "text": [
      "\n"
     ]
    },
    {
     "name": "stdout",
     "output_type": "stream",
     "text": [
      "Time for 1st pass MP skeletonization: 1.2888035774230957\n",
      "branches_touching_root = [32]\n",
      "empty_indices % = 0.0\n",
      " conflict_indices % = 0.010215312963350404\n"
     ]
    },
    {
     "data": {
      "application/vnd.jupyter.widget-view+json": {
       "model_id": "8557b354a5aa485087ed55f7b61c4e35",
       "version_major": 2,
       "version_minor": 0
      },
      "text/plain": [
       "HBox(children=(FloatProgress(value=0.0, max=17.0), HTML(value='')))"
      ]
     },
     "metadata": {},
     "output_type": "display_data"
    },
    {
     "name": "stdout",
     "output_type": "stream",
     "text": [
      "\n",
      "AFTER face_lookup_resolved_test\n"
     ]
    },
    {
     "data": {
      "application/vnd.jupyter.widget-view+json": {
       "model_id": "cf3300f579f54105915cdd2af8809c0d",
       "version_major": 2,
       "version_minor": 0
      },
      "text/plain": [
       "HBox(children=(FloatProgress(value=0.0, max=33.0), HTML(value='')))"
      ]
     },
     "metadata": {},
     "output_type": "display_data"
    },
    {
     "name": "stdout",
     "output_type": "stream",
     "text": [
      "\n",
      "Decomposing first pass: 1.7816596031188965\n",
      "Found len(mesh_large_idx) MAP candidates: [391, 1192, 1569, 7137, 5189, 5025, 4627, 7880, 18481, 10684, 3445, 8310, 15392]\n",
      "mesh_large_connectivity: 0.20354294776916504\n",
      "Finding MAP candidates connected components: 0.00021123886108398438\n",
      "len(filtered_pieces) = 1\n",
      "skeleton_connectivity_MP : 0.13599300384521484\n",
      "Grouping MP Sublimbs by Graph: 0.02260303497314453\n",
      "Divinding into MP and MAP pieces: 1.9073486328125e-06\n",
      "--- Working on MAP piece 0---\n",
      "MAP Filtering Soma Pieces: 0.007441520690917969\n",
      "inside skeletonize_connected_branch and use_surface_after_CGAL=False\n",
      "     Starting Screened Poisson\n",
      "xvfb-run -n 7216 -s \"-screen 0 800x600x24\" meshlabserver $@  -i /notebooks/Platinum_Decomp_Fusion/temp/None.off -o /notebooks/Platinum_Decomp_Fusion/temp/None_poisson.off -s /notebooks/Platinum_Decomp_Fusion/temp/poisson_424836.mls\n",
      "removed temporary input file: /notebooks/Platinum_Decomp_Fusion/temp/None.off\n",
      "removed temporary output file: /notebooks/Platinum_Decomp_Fusion/temp/None_poisson.off\n",
      "Using the close holes feature\n",
      "xvfb-run -n 4837 -s \"-screen 0 800x600x24\" meshlabserver $@  -i /notebooks/Platinum_Decomp_Fusion/temp/neuron_21625.off -o /notebooks/Platinum_Decomp_Fusion/temp/neuron_21625_fill_holes.off -s /notebooks/Platinum_Decomp_Fusion/temp/fill_holes_546424.mls\n",
      "removed temporary input file: /notebooks/Platinum_Decomp_Fusion/temp/neuron_21625.off\n",
      "removed temporary output file: /notebooks/Platinum_Decomp_Fusion/temp/neuron_21625_fill_holes.off\n",
      "-----Time for Screened Poisson= 23.348406076431274\n",
      "     Starting Calcification\n",
      "Before mesh subtraction number of skeleton edges = 1319\n",
      "Inside mesh subtraction, len(main_mesh_bbox_restricted.faces) = 89322\n"
     ]
    },
    {
     "data": {
      "application/vnd.jupyter.widget-view+json": {
       "model_id": "b5090b9dea9443879cea372d485dd1c1",
       "version_major": 2,
       "version_minor": 0
      },
      "text/plain": [
       "HBox(children=(FloatProgress(value=1.0, bar_style='info', layout=Layout(width='20px'), max=1.0), HTML(value=''…"
      ]
     },
     "metadata": {},
     "output_type": "display_data"
    },
    {
     "name": "stdout",
     "output_type": "stream",
     "text": [
      "\n",
      "Total Mesh subtraction time = 19.8669\n"
     ]
    },
    {
     "data": {
      "application/vnd.jupyter.widget-view+json": {
       "model_id": "d82aa7e6b20548838808ba58353c6473",
       "version_major": 2,
       "version_minor": 0
      },
      "text/plain": [
       "HBox(children=(FloatProgress(value=1.0, bar_style='info', layout=Layout(width='20px'), max=1.0), HTML(value=''…"
      ]
     },
     "metadata": {},
     "output_type": "display_data"
    },
    {
     "name": "stdout",
     "output_type": "stream",
     "text": [
      "\n",
      "No skeletons to stack so returning empty list\n",
      "len_subgraphs AT BEGINNING of the loop\n"
     ]
    },
    {
     "data": {
      "application/vnd.jupyter.widget-view+json": {
       "model_id": "678bfe7974e14483bc5e9ffbff99aa11",
       "version_major": 2,
       "version_minor": 0
      },
      "text/plain": [
       "HBox(children=(FloatProgress(value=0.0, max=152.0), HTML(value='')))"
      ]
     },
     "metadata": {},
     "output_type": "display_data"
    },
    {
     "name": "stdout",
     "output_type": "stream",
     "text": [
      "all graph is one component!\n",
      "\n",
      "Total time for skeleton stitching = 0.16668224334716797\n",
      "The process was using a temp folder\n",
      "    Total time for skeletonizing branch: 49.41903066635132\n",
      "    Total time for Fixing Skeleton Soma Endpoint Extension : 4.76837158203125e-07\n",
      "filter_end_node_length = 4001\n",
      "Using Distance measure skeletal_distance\n",
      "Going to ignore certain endnodes that are 5000 nm close to soma border vertices\n",
      "Number of end_nodes BEFORE filtering = 178\n",
      "No close endpoints to choose from for elimination\n",
      "No close endpoints to choose from for elimination\n",
      "No close endpoints to choose from for elimination\n",
      "No close endpoints to choose from for elimination\n",
      "No close endpoints to choose from for elimination\n",
      "No close endpoints to choose from for elimination\n",
      "No close endpoints to choose from for elimination\n",
      "No close endpoints to choose from for elimination\n",
      "No close endpoints to choose from for elimination\n",
      "No close endpoints to choose from for elimination\n",
      "all_single_nodes_to_eliminate = []\n"
     ]
    },
    {
     "data": {
      "application/vnd.jupyter.widget-view+json": {
       "model_id": "7c428fdf221f4571976d0593ec94e885",
       "version_major": 2,
       "version_minor": 0
      },
      "text/plain": [
       "HBox(children=(FloatProgress(value=0.0, max=176.0), HTML(value='')))"
      ]
     },
     "metadata": {},
     "output_type": "display_data"
    },
    {
     "name": "stdout",
     "output_type": "stream",
     "text": [
      "\n",
      "type(branch_subgraph) = <class 'networkx_utils.GraphOrderedEdges'>\n",
      "in remove edge\n",
      "********COMBINING CLOSE SKELETON NODES WITHIN 700 DISTANCE**********\n",
      "Found 1 valid paths to replace\n",
      "valid_paths = [array([359., 367.])]\n",
      "valid_path_lengths = [410.1170564607134]\n",
      "endpoint_neighbors = [353 359 364 367 370 372]\n",
      "Concatenating all paths and deleting: [359. 367.]\n",
      "skeletonize_and_clean_connected_branch_CGAL: 70.55969953536987\n",
      "Working on limb correspondence for #0 MAP piece\n"
     ]
    },
    {
     "data": {
      "application/vnd.jupyter.widget-view+json": {
       "model_id": "79097e21f6b14a5596055343d61b6653",
       "version_major": 2,
       "version_minor": 0
      },
      "text/plain": [
       "HBox(children=(FloatProgress(value=1.0, bar_style='info', layout=Layout(width='20px'), max=1.0), HTML(value=''…"
      ]
     },
     "metadata": {},
     "output_type": "display_data"
    },
    {
     "name": "stdout",
     "output_type": "stream",
     "text": [
      "\n",
      "Total time for decomposition = 12.16060471534729\n",
      "mesh_correspondence_first_pass: 12.160662651062012\n",
      "Limb decomposed into 12 branches\n",
      "divided_skeleton_graph_recovered = (976, 2, 3) and \n",
      "current_mesh_data[0]['branch_skeletons_cleaned'].shape = (976, 2, 3)\n",
      "\n",
      "Number of connected components in deocmposed recovered graph = 1\n",
      "Number of connected components in cleaned skeleton graph= 1\n",
      "The downsampled branches number of connected components = 1\n",
      "Empty submeshes = []\n",
      "\n",
      "\n",
      "--- Working on 1-to-1 correspondence-----\n",
      "max(original_labels),len(original_labels) = (11, 12)\n",
      "empty_indices % = 0.021260159871028413\n",
      " conflict_indices % = 0.01948008329414926\n"
     ]
    },
    {
     "data": {
      "application/vnd.jupyter.widget-view+json": {
       "model_id": "6e74cc0e65854b9ba00ecc8a296ea305",
       "version_major": 2,
       "version_minor": 0
      },
      "text/plain": [
       "HBox(children=(FloatProgress(value=0.0, max=33.0), HTML(value='')))"
      ]
     },
     "metadata": {},
     "output_type": "display_data"
    },
    {
     "name": "stdout",
     "output_type": "stream",
     "text": [
      "\n",
      "AFTER face_lookup_resolved_test\n"
     ]
    },
    {
     "data": {
      "application/vnd.jupyter.widget-view+json": {
       "model_id": "ddb4d138f0914341a6d92f06bfda5883",
       "version_major": 2,
       "version_minor": 0
      },
      "text/plain": [
       "HBox(children=(FloatProgress(value=0.0, max=12.0), HTML(value='')))"
      ]
     },
     "metadata": {},
     "output_type": "display_data"
    },
    {
     "name": "stdout",
     "output_type": "stream",
     "text": [
      "\n",
      "Total time for MAP sublimb #0 mesh processing = 84.77504134178162\n",
      "correspondence_1_to_1: 2.047201633453369\n",
      "Total time for MAP sublimb processing 84.77517700195312\n",
      "***************Arrived at MESH PIECES FOR MAP AND mp***************\n",
      "---- Working on MP Decomposition #0 ----\n",
      "MP filtering soma verts: 0.004622697830200195\n",
      "Do Not Need to Fix MP Decomposition 0 so just continuing\n",
      "---- Working on MP Decomposition #1 ----\n",
      "MP filtering soma verts: 0.0004658699035644531\n",
      "Do Not Need to Fix MP Decomposition 1 so just continuing\n",
      "---- Working on MP Decomposition #2 ----\n",
      "MP filtering soma verts: 0.00020599365234375\n",
      "Do Not Need to Fix MP Decomposition 2 so just continuing\n",
      "---- Working on MP Decomposition #3 ----\n",
      "MP filtering soma verts: 0.00022149085998535156\n",
      "Do Not Need to Fix MP Decomposition 3 so just continuing\n",
      "---- Working on MP Decomposition #4 ----\n",
      "MP filtering soma verts: 0.0007305145263671875\n",
      "Fixing Possible Soma Extension Branch for Sublimb 4\n",
      "Adding new branch to skeleton\n",
      "MP (because soma touching verts) create_soma_extending_branches: 0.39792728424072266\n",
      "Winning Branch = 0\n"
     ]
    },
    {
     "data": {
      "application/vnd.jupyter.widget-view+json": {
       "model_id": "2f099e909ca74ca6837fef9c01fd7d19",
       "version_major": 2,
       "version_minor": 0
      },
      "text/plain": [
       "HBox(children=(FloatProgress(value=1.0, bar_style='info', layout=Layout(width='20px'), max=1.0), HTML(value=''…"
      ]
     },
     "metadata": {},
     "output_type": "display_data"
    },
    {
     "name": "stdout",
     "output_type": "stream",
     "text": [
      "\n",
      "\n",
      "\n",
      "--- Working on 1-to-1 correspondence-----\n",
      "max(original_labels),len(original_labels) = (2, 3)\n",
      "empty_indices % = 0.0674001281777398\n",
      " conflict_indices % = 0.03086947233497116\n"
     ]
    },
    {
     "data": {
      "application/vnd.jupyter.widget-view+json": {
       "model_id": "21b73ca7a19741ad80af62d8aa0acc41",
       "version_major": 2,
       "version_minor": 0
      },
      "text/plain": [
       "HBox(children=(FloatProgress(value=0.0, max=4.0), HTML(value='')))"
      ]
     },
     "metadata": {},
     "output_type": "display_data"
    },
    {
     "name": "stdout",
     "output_type": "stream",
     "text": [
      "\n",
      "AFTER face_lookup_resolved_test\n",
      "Took 0 iterations to expand the label back\n"
     ]
    },
    {
     "data": {
      "application/vnd.jupyter.widget-view+json": {
       "model_id": "3e386cbbf4de407d80b8e1ac06e5329f",
       "version_major": 2,
       "version_minor": 0
      },
      "text/plain": [
       "HBox(children=(FloatProgress(value=0.0, max=3.0), HTML(value='')))"
      ]
     },
     "metadata": {},
     "output_type": "display_data"
    },
    {
     "name": "stdout",
     "output_type": "stream",
     "text": [
      "\n",
      "MP (because soma touching verts) soma extension add: 1.8387658596038818\n",
      "\n",
      "---- Working on (0, 0) connection-----\n",
      "winning_vertex = [749558.63971888 969674.32262203 921255.78181404]\n",
      "MP_branches_with_stitch_point = [4, 10]\n",
      "Current stitch point was not a branch or endpoint, shortest_path_length to one = 8643.784783244131\n",
      "MAP_branches_with_stitch_point = [9]\n",
      "MAP_stitch_point_on_end_or_branch = False\n"
     ]
    },
    {
     "data": {
      "application/vnd.jupyter.widget-view+json": {
       "model_id": "2bdcd690740f4bd69bd3f869a702c99b",
       "version_major": 2,
       "version_minor": 0
      },
      "text/plain": [
       "HBox(children=(FloatProgress(value=1.0, bar_style='info', layout=Layout(width='20px'), max=1.0), HTML(value=''…"
      ]
     },
     "metadata": {},
     "output_type": "display_data"
    },
    {
     "name": "stdout",
     "output_type": "stream",
     "text": [
      "\n",
      "\n",
      "\n",
      "--- Working on 1-to-1 correspondence-----\n",
      "max(original_labels),len(original_labels) = (3, 4)\n",
      "empty_indices % = 0.12064343163538874\n",
      " conflict_indices % = 0.04275433893043601\n"
     ]
    },
    {
     "data": {
      "application/vnd.jupyter.widget-view+json": {
       "model_id": "2ba6185a3c04478799ee4f464db26611",
       "version_major": 2,
       "version_minor": 0
      },
      "text/plain": [
       "HBox(children=(FloatProgress(value=0.0, max=9.0), HTML(value='')))"
      ]
     },
     "metadata": {},
     "output_type": "display_data"
    },
    {
     "name": "stdout",
     "output_type": "stream",
     "text": [
      "\n",
      "AFTER face_lookup_resolved_test\n"
     ]
    },
    {
     "data": {
      "application/vnd.jupyter.widget-view+json": {
       "model_id": "aee3a6c18378418eb0a7500c33ed5506",
       "version_major": 2,
       "version_minor": 0
      },
      "text/plain": [
       "HBox(children=(FloatProgress(value=0.0, max=4.0), HTML(value='')))"
      ]
     },
     "metadata": {},
     "output_type": "display_data"
    },
    {
     "name": "stdout",
     "output_type": "stream",
     "text": [
      "\n",
      "Deleting branches from dictionary\n",
      " Finished with (0, 0) \n",
      "\n",
      "\n",
      "\n",
      "\n",
      "---- Working on (1, 0) connection-----\n",
      "winning_vertex = [760972.07797587 969037.32269709 940394.61202358]\n",
      "MP_branches_with_stitch_point = [0]\n",
      "Current stitch point was not a branch or endpoint, shortest_path_length to one = 3919.7654927882145\n",
      "MAP_branches_with_stitch_point = [10]\n",
      "MAP_stitch_point_on_end_or_branch = False\n"
     ]
    },
    {
     "data": {
      "application/vnd.jupyter.widget-view+json": {
       "model_id": "bec9eeb3ef0b464d8e346b27437493b6",
       "version_major": 2,
       "version_minor": 0
      },
      "text/plain": [
       "HBox(children=(FloatProgress(value=1.0, bar_style='info', layout=Layout(width='20px'), max=1.0), HTML(value=''…"
      ]
     },
     "metadata": {},
     "output_type": "display_data"
    },
    {
     "name": "stdout",
     "output_type": "stream",
     "text": [
      "\n",
      "\n",
      "\n",
      "--- Working on 1-to-1 correspondence-----\n",
      "max(original_labels),len(original_labels) = (2, 3)\n",
      "empty_indices % = 0.037023959646910465\n",
      " conflict_indices % = 0.009583858764186633\n"
     ]
    },
    {
     "data": {
      "application/vnd.jupyter.widget-view+json": {
       "model_id": "cd4d3b9b3205475a83d5f74acf683dc1",
       "version_major": 2,
       "version_minor": 0
      },
      "text/plain": [
       "HBox(children=(FloatProgress(value=0.0, max=9.0), HTML(value='')))"
      ]
     },
     "metadata": {},
     "output_type": "display_data"
    },
    {
     "name": "stdout",
     "output_type": "stream",
     "text": [
      "\n",
      "AFTER face_lookup_resolved_test\n"
     ]
    },
    {
     "data": {
      "application/vnd.jupyter.widget-view+json": {
       "model_id": "4aae7d2610d547dd9eab5379ad1ccb04",
       "version_major": 2,
       "version_minor": 0
      },
      "text/plain": [
       "HBox(children=(FloatProgress(value=0.0, max=3.0), HTML(value='')))"
      ]
     },
     "metadata": {},
     "output_type": "display_data"
    },
    {
     "name": "stdout",
     "output_type": "stream",
     "text": [
      "\n",
      "Deleting branches from dictionary\n",
      " Finished with (1, 0) \n",
      "\n",
      "\n",
      "\n",
      "\n",
      "---- Working on (2, 0) connection-----\n",
      "winning_vertex = [720961.00684912 991978.32523568 900793.06609987]\n",
      "MP_branches_with_stitch_point = [2]\n",
      "Current stitch point was not a branch or endpoint, shortest_path_length to one = 16206.597873268536\n",
      "MAP_branches_with_stitch_point = [2]\n",
      "MAP_stitch_point_on_end_or_branch = False\n"
     ]
    },
    {
     "data": {
      "application/vnd.jupyter.widget-view+json": {
       "model_id": "5d907d73ecb8442e8900d5bc871f6d27",
       "version_major": 2,
       "version_minor": 0
      },
      "text/plain": [
       "HBox(children=(FloatProgress(value=1.0, bar_style='info', layout=Layout(width='20px'), max=1.0), HTML(value=''…"
      ]
     },
     "metadata": {},
     "output_type": "display_data"
    },
    {
     "name": "stdout",
     "output_type": "stream",
     "text": [
      "\n",
      "\n",
      "\n",
      "--- Working on 1-to-1 correspondence-----\n",
      "max(original_labels),len(original_labels) = (2, 3)\n",
      "empty_indices % = 0.0470288428124638\n",
      " conflict_indices % = 0.009730105409475269\n"
     ]
    },
    {
     "data": {
      "application/vnd.jupyter.widget-view+json": {
       "model_id": "b678da79110f48f18abd09b149b27276",
       "version_major": 2,
       "version_minor": 0
      },
      "text/plain": [
       "HBox(children=(FloatProgress(value=0.0, max=7.0), HTML(value='')))"
      ]
     },
     "metadata": {},
     "output_type": "display_data"
    },
    {
     "name": "stdout",
     "output_type": "stream",
     "text": [
      "\n",
      "AFTER face_lookup_resolved_test\n"
     ]
    },
    {
     "data": {
      "application/vnd.jupyter.widget-view+json": {
       "model_id": "cffc7ece52c64dc493d3e4fd67ae5950",
       "version_major": 2,
       "version_minor": 0
      },
      "text/plain": [
       "HBox(children=(FloatProgress(value=0.0, max=3.0), HTML(value='')))"
      ]
     },
     "metadata": {},
     "output_type": "display_data"
    },
    {
     "name": "stdout",
     "output_type": "stream",
     "text": [
      "\n",
      "Deleting branches from dictionary\n",
      " Finished with (2, 0) \n",
      "\n",
      "\n",
      "\n",
      "\n",
      "---- Working on (3, 0) connection-----\n",
      "winning_vertex = [778828.02751892 966172.18966297 965401.08433928]\n",
      "MP_branches_with_stitch_point = [1]\n",
      "Current stitch point was not a branch or endpoint, shortest_path_length to one = 36222.03508132371\n",
      "MAP_branches_with_stitch_point = [13]\n",
      "MAP_stitch_point_on_end_or_branch = False\n"
     ]
    },
    {
     "data": {
      "application/vnd.jupyter.widget-view+json": {
       "model_id": "96eee476e61b43d19510b000bd56303f",
       "version_major": 2,
       "version_minor": 0
      },
      "text/plain": [
       "HBox(children=(FloatProgress(value=1.0, bar_style='info', layout=Layout(width='20px'), max=1.0), HTML(value=''…"
      ]
     },
     "metadata": {},
     "output_type": "display_data"
    },
    {
     "name": "stdout",
     "output_type": "stream",
     "text": [
      "\n",
      "\n",
      "\n",
      "--- Working on 1-to-1 correspondence-----\n",
      "max(original_labels),len(original_labels) = (2, 3)\n",
      "empty_indices % = 0.032756125020104006\n",
      " conflict_indices % = 0.0229989813970943\n"
     ]
    },
    {
     "data": {
      "application/vnd.jupyter.widget-view+json": {
       "model_id": "6fc478e56ba942d7a83acb82f8e3a782",
       "version_major": 2,
       "version_minor": 0
      },
      "text/plain": [
       "HBox(children=(FloatProgress(value=0.0, max=8.0), HTML(value='')))"
      ]
     },
     "metadata": {},
     "output_type": "display_data"
    },
    {
     "name": "stdout",
     "output_type": "stream",
     "text": [
      "\n",
      "AFTER face_lookup_resolved_test\n"
     ]
    },
    {
     "data": {
      "application/vnd.jupyter.widget-view+json": {
       "model_id": "a817b165026c440c8f0484681d02e94a",
       "version_major": 2,
       "version_minor": 0
      },
      "text/plain": [
       "HBox(children=(FloatProgress(value=0.0, max=3.0), HTML(value='')))"
      ]
     },
     "metadata": {},
     "output_type": "display_data"
    },
    {
     "name": "stdout",
     "output_type": "stream",
     "text": [
      "\n",
      "Deleting branches from dictionary\n",
      " Finished with (3, 0) \n",
      "\n",
      "\n",
      "\n",
      "\n",
      "---- Working on (4, 0) connection-----\n",
      "winning_vertex = [746921.13943236 963351.4204698  884152.30584531]\n",
      "MP_branches_with_stitch_point = [1]\n",
      "Current stitch point was not a branch or endpoint, shortest_path_length to one = 23209.209366906038\n",
      "MAP_branches_with_stitch_point = [7]\n",
      "MAP_stitch_point_on_end_or_branch = False\n"
     ]
    },
    {
     "data": {
      "application/vnd.jupyter.widget-view+json": {
       "model_id": "5e2e909e285e4ddd910e91282e2ef713",
       "version_major": 2,
       "version_minor": 0
      },
      "text/plain": [
       "HBox(children=(FloatProgress(value=1.0, bar_style='info', layout=Layout(width='20px'), max=1.0), HTML(value=''…"
      ]
     },
     "metadata": {},
     "output_type": "display_data"
    },
    {
     "name": "stdout",
     "output_type": "stream",
     "text": [
      "\n",
      "\n",
      "\n",
      "--- Working on 1-to-1 correspondence-----\n",
      "max(original_labels),len(original_labels) = (2, 3)\n",
      "empty_indices % = 0.02271514597149173\n",
      " conflict_indices % = 0.039332266178824606\n"
     ]
    },
    {
     "data": {
      "application/vnd.jupyter.widget-view+json": {
       "model_id": "7f70ecbcb21748ba8398d50147a9c6a7",
       "version_major": 2,
       "version_minor": 0
      },
      "text/plain": [
       "HBox(children=(FloatProgress(value=0.0, max=4.0), HTML(value='')))"
      ]
     },
     "metadata": {},
     "output_type": "display_data"
    },
    {
     "name": "stdout",
     "output_type": "stream",
     "text": [
      "\n",
      "AFTER face_lookup_resolved_test\n"
     ]
    },
    {
     "data": {
      "application/vnd.jupyter.widget-view+json": {
       "model_id": "ec844a9889da43bcbb80d54ab4676556",
       "version_major": 2,
       "version_minor": 0
      },
      "text/plain": [
       "HBox(children=(FloatProgress(value=0.0, max=3.0), HTML(value='')))"
      ]
     },
     "metadata": {},
     "output_type": "display_data"
    },
    {
     "name": "stderr",
     "output_type": "stream",
     "text": [
      "\r",
      "  0%|          | 0/1 [00:00<?, ?it/s]"
     ]
    },
    {
     "name": "stdout",
     "output_type": "stream",
     "text": [
      "\n",
      "Deleting branches from dictionary\n",
      " Finished with (4, 0) \n",
      "\n",
      "\n",
      "\n",
      "Time for decomp of Limb 4 = 99.81429696083069\n",
      "\n",
      "\n",
      "----- Working on Proper Limb #5 ---------\n",
      "Time for preparing soma vertices and root: 0.0002503395080566406\n",
      "smooth_neighborhood = 1\n"
     ]
    },
    {
     "data": {
      "application/vnd.jupyter.widget-view+json": {
       "model_id": "690d006109944f8190a05f816fcf00bc",
       "version_major": 2,
       "version_minor": 0
      },
      "text/plain": [
       "HBox(children=(FloatProgress(value=0.0, max=51740.0), HTML(value='')))"
      ]
     },
     "metadata": {},
     "output_type": "display_data"
    },
    {
     "name": "stderr",
     "output_type": "stream",
     "text": [
      "100%|██████████| 1/1 [00:00<00:00,  3.40it/s]"
     ]
    },
    {
     "name": "stdout",
     "output_type": "stream",
     "text": [
      "\n"
     ]
    },
    {
     "name": "stderr",
     "output_type": "stream",
     "text": [
      "\n"
     ]
    },
    {
     "name": "stdout",
     "output_type": "stream",
     "text": [
      "Time for 1st pass MP skeletonization: 0.7801897525787354\n",
      "branches_touching_root = [6]\n",
      "empty_indices % = 0.0\n",
      " conflict_indices % = 0.0036495647484785457\n"
     ]
    },
    {
     "data": {
      "application/vnd.jupyter.widget-view+json": {
       "model_id": "241e1319f05e4a1f96a81e310d8729b2",
       "version_major": 2,
       "version_minor": 0
      },
      "text/plain": [
       "HBox(children=(FloatProgress(value=0.0, max=3.0), HTML(value='')))"
      ]
     },
     "metadata": {},
     "output_type": "display_data"
    },
    {
     "name": "stdout",
     "output_type": "stream",
     "text": [
      "\n",
      "AFTER face_lookup_resolved_test\n"
     ]
    },
    {
     "data": {
      "application/vnd.jupyter.widget-view+json": {
       "model_id": "027597743805427abec3e67e24a54b2c",
       "version_major": 2,
       "version_minor": 0
      },
      "text/plain": [
       "HBox(children=(FloatProgress(value=0.0, max=7.0), HTML(value='')))"
      ]
     },
     "metadata": {},
     "output_type": "display_data"
    },
    {
     "name": "stdout",
     "output_type": "stream",
     "text": [
      "\n",
      "Decomposing first pass: 2.090505599975586\n",
      "Found len(mesh_large_idx) MAP candidates: [38650, 6774, 3163, 4351, 12867, 34201, 3842]\n",
      "mesh_large_connectivity: 0.11705708503723145\n",
      "Finding MAP candidates connected components: 0.0001571178436279297\n",
      "len(filtered_pieces) = 1\n",
      "skeleton_connectivity_MP : 0.023526430130004883\n",
      "Grouping MP Sublimbs by Graph: 9.298324584960938e-05\n",
      "Divinding into MP and MAP pieces: 1.1920928955078125e-06\n",
      "--- Working on MAP piece 0---\n",
      "MAP Filtering Soma Pieces: 0.006616353988647461\n",
      "inside skeletonize_connected_branch and use_surface_after_CGAL=False\n",
      "     Starting Screened Poisson\n",
      "xvfb-run -n 3588 -s \"-screen 0 800x600x24\" meshlabserver $@  -i /notebooks/Platinum_Decomp_Fusion/temp/None.off -o /notebooks/Platinum_Decomp_Fusion/temp/None_poisson.off -s /notebooks/Platinum_Decomp_Fusion/temp/poisson_281273.mls\n",
      "removed temporary input file: /notebooks/Platinum_Decomp_Fusion/temp/None.off\n",
      "removed temporary output file: /notebooks/Platinum_Decomp_Fusion/temp/None_poisson.off\n",
      "Using the close holes feature\n",
      "xvfb-run -n 670 -s \"-screen 0 800x600x24\" meshlabserver $@  -i /notebooks/Platinum_Decomp_Fusion/temp/neuron_38500.off -o /notebooks/Platinum_Decomp_Fusion/temp/neuron_38500_fill_holes.off -s /notebooks/Platinum_Decomp_Fusion/temp/fill_holes_842495.mls\n",
      "removed temporary input file: /notebooks/Platinum_Decomp_Fusion/temp/neuron_38500.off\n",
      "removed temporary output file: /notebooks/Platinum_Decomp_Fusion/temp/neuron_38500_fill_holes.off\n",
      "-----Time for Screened Poisson= 23.571375846862793\n",
      "     Starting Calcification\n",
      "Before mesh subtraction number of skeleton edges = 1310\n",
      "Inside mesh subtraction, len(main_mesh_bbox_restricted.faces) = 103848\n"
     ]
    },
    {
     "data": {
      "application/vnd.jupyter.widget-view+json": {
       "model_id": "b79fb8061e534653bfb363aaed12a661",
       "version_major": 2,
       "version_minor": 0
      },
      "text/plain": [
       "HBox(children=(FloatProgress(value=1.0, bar_style='info', layout=Layout(width='20px'), max=1.0), HTML(value=''…"
      ]
     },
     "metadata": {},
     "output_type": "display_data"
    },
    {
     "name": "stdout",
     "output_type": "stream",
     "text": [
      "\n",
      "Total Mesh subtraction time = 19.3204\n"
     ]
    },
    {
     "data": {
      "application/vnd.jupyter.widget-view+json": {
       "model_id": "a0d46b6df34f4f29bc167cc33738fa3f",
       "version_major": 2,
       "version_minor": 0
      },
      "text/plain": [
       "HBox(children=(FloatProgress(value=1.0, bar_style='info', layout=Layout(width='20px'), max=1.0), HTML(value=''…"
      ]
     },
     "metadata": {},
     "output_type": "display_data"
    },
    {
     "name": "stdout",
     "output_type": "stream",
     "text": [
      "\n",
      "No skeletons to stack so returning empty list\n",
      "len_subgraphs AT BEGINNING of the loop\n"
     ]
    },
    {
     "data": {
      "application/vnd.jupyter.widget-view+json": {
       "model_id": "110815aebfe54cd3bc9988798801bb84",
       "version_major": 2,
       "version_minor": 0
      },
      "text/plain": [
       "HBox(children=(FloatProgress(value=0.0, max=126.0), HTML(value='')))"
      ]
     },
     "metadata": {},
     "output_type": "display_data"
    },
    {
     "name": "stdout",
     "output_type": "stream",
     "text": [
      "all graph is one component!\n",
      "\n",
      "Total time for skeleton stitching = 0.1456756591796875\n",
      "The process was using a temp folder\n",
      "    Total time for skeletonizing branch: 49.720409870147705\n",
      "Adding new branch to skeleton\n",
      "    Total time for Fixing Skeleton Soma Endpoint Extension : 3.732551097869873\n",
      "filter_end_node_length = 4001\n",
      "Using Distance measure skeletal_distance\n",
      "Going to ignore certain endnodes that are 5000 nm close to soma border vertices\n",
      "Number of end_nodes BEFORE filtering = 154\n",
      "Using an already specified end node: 1171 with index 128checking was correct node end_nodes[index] = 1171\n",
      "May Eliminate end_node 126: 1165 because path_len to soma border was 878.740598580896\n",
      "May Eliminate end_node 128: 1171 because path_len to soma border was 3646.5420881810765\n",
      "single_node_to_eliminate = 126\n",
      "all_single_nodes_to_eliminate = [128, 126]\n"
     ]
    },
    {
     "data": {
      "application/vnd.jupyter.widget-view+json": {
       "model_id": "0b7367d1e5124d9db50c198613b393f4",
       "version_major": 2,
       "version_minor": 0
      },
      "text/plain": [
       "HBox(children=(FloatProgress(value=0.0, max=149.0), HTML(value='')))"
      ]
     },
     "metadata": {},
     "output_type": "display_data"
    },
    {
     "name": "stdout",
     "output_type": "stream",
     "text": [
      "\n",
      "********COMBINING CLOSE SKELETON NODES WITHIN 700 DISTANCE**********\n",
      "Found 0 valid paths to replace\n",
      "valid_paths = []\n",
      "valid_path_lengths = []\n",
      "No valid paths found so just returning the original\n",
      "skeletonize_and_clean_connected_branch_CGAL: 58.66915321350098\n",
      "Working on limb correspondence for #0 MAP piece\n"
     ]
    },
    {
     "data": {
      "application/vnd.jupyter.widget-view+json": {
       "model_id": "c349fe5d11744c59bb0af24bff0af71f",
       "version_major": 2,
       "version_minor": 0
      },
      "text/plain": [
       "HBox(children=(FloatProgress(value=1.0, bar_style='info', layout=Layout(width='20px'), max=1.0), HTML(value=''…"
      ]
     },
     "metadata": {},
     "output_type": "display_data"
    },
    {
     "name": "stdout",
     "output_type": "stream",
     "text": [
      "\n",
      "Total time for decomposition = 14.766448497772217\n",
      "mesh_correspondence_first_pass: 14.766478538513184\n",
      "Limb decomposed into 11 branches\n",
      "divided_skeleton_graph_recovered = (1050, 2, 3) and \n",
      "current_mesh_data[0]['branch_skeletons_cleaned'].shape = (1050, 2, 3)\n",
      "\n",
      "Number of connected components in deocmposed recovered graph = 1\n",
      "Number of connected components in cleaned skeleton graph= 1\n",
      "The downsampled branches number of connected components = 1\n",
      "Empty submeshes = []\n",
      "\n",
      "\n",
      "--- Working on 1-to-1 correspondence-----\n",
      "max(original_labels),len(original_labels) = (10, 11)\n",
      "empty_indices % = 0.024940297357676604\n",
      " conflict_indices % = 0.0188641090825052\n"
     ]
    },
    {
     "data": {
      "application/vnd.jupyter.widget-view+json": {
       "model_id": "d395316ed04a45e2a33cbca91bdad6fe",
       "version_major": 2,
       "version_minor": 0
      },
      "text/plain": [
       "HBox(children=(FloatProgress(value=0.0, max=39.0), HTML(value='')))"
      ]
     },
     "metadata": {},
     "output_type": "display_data"
    },
    {
     "name": "stdout",
     "output_type": "stream",
     "text": [
      "\n",
      "AFTER face_lookup_resolved_test\n",
      "Took 0 iterations to expand the label back\n"
     ]
    },
    {
     "data": {
      "application/vnd.jupyter.widget-view+json": {
       "model_id": "82b2527fd723477b9ebb799cd2049eef",
       "version_major": 2,
       "version_minor": 0
      },
      "text/plain": [
       "HBox(children=(FloatProgress(value=0.0, max=11.0), HTML(value='')))"
      ]
     },
     "metadata": {},
     "output_type": "display_data"
    },
    {
     "name": "stderr",
     "output_type": "stream",
     "text": [
      "\r",
      "  0%|          | 0/1 [00:00<?, ?it/s]"
     ]
    },
    {
     "name": "stdout",
     "output_type": "stream",
     "text": [
      "\n",
      "Total time for MAP sublimb #0 mesh processing = 76.3590874671936\n",
      "correspondence_1_to_1: 2.916790008544922\n",
      "Total time for MAP sublimb processing 76.35922026634216\n",
      "***************Arrived at MESH PIECES FOR MAP AND mp***************\n",
      "There were not both MAP and MP pieces so skipping the stitch resolving phase\n",
      "Time for decomp of Limb 5 = 79.37163376808167\n",
      "\n",
      "\n",
      "----- Working on Proper Limb #6 ---------\n",
      "Time for preparing soma vertices and root: 0.00024390220642089844\n",
      "smooth_neighborhood = 1\n"
     ]
    },
    {
     "data": {
      "application/vnd.jupyter.widget-view+json": {
       "model_id": "43d6d6c9da9343469c5f9bbbb4b6755e",
       "version_major": 2,
       "version_minor": 0
      },
      "text/plain": [
       "HBox(children=(FloatProgress(value=0.0, max=29265.0), HTML(value='')))"
      ]
     },
     "metadata": {},
     "output_type": "display_data"
    },
    {
     "name": "stderr",
     "output_type": "stream",
     "text": [
      "100%|██████████| 1/1 [00:00<00:00,  3.31it/s]"
     ]
    },
    {
     "name": "stdout",
     "output_type": "stream",
     "text": [
      "\n"
     ]
    },
    {
     "name": "stderr",
     "output_type": "stream",
     "text": [
      "\n"
     ]
    },
    {
     "name": "stdout",
     "output_type": "stream",
     "text": [
      "Time for 1st pass MP skeletonization: 0.6095020771026611\n",
      "branches_touching_root = [6]\n",
      "empty_indices % = 0.0\n",
      " conflict_indices % = 0.010636484505505745\n"
     ]
    },
    {
     "data": {
      "application/vnd.jupyter.widget-view+json": {
       "model_id": "ba89cf093807419a88a0ff1c95c71c09",
       "version_major": 2,
       "version_minor": 0
      },
      "text/plain": [
       "HBox(children=(FloatProgress(value=0.0, max=8.0), HTML(value='')))"
      ]
     },
     "metadata": {},
     "output_type": "display_data"
    },
    {
     "name": "stdout",
     "output_type": "stream",
     "text": [
      "\n",
      "AFTER face_lookup_resolved_test\n"
     ]
    },
    {
     "data": {
      "application/vnd.jupyter.widget-view+json": {
       "model_id": "462cceec335f418aa3aa82da0c412096",
       "version_major": 2,
       "version_minor": 0
      },
      "text/plain": [
       "HBox(children=(FloatProgress(value=0.0, max=17.0), HTML(value='')))"
      ]
     },
     "metadata": {},
     "output_type": "display_data"
    },
    {
     "name": "stdout",
     "output_type": "stream",
     "text": [
      "\n",
      "Decomposing first pass: 0.9549880027770996\n",
      "Found len(mesh_large_idx) MAP candidates: [6577, 1238, 1102, 478, 1206, 4671, 4165, 15078, 4715]\n",
      "mesh_large_connectivity: 0.05917811393737793\n",
      "Finding MAP candidates connected components: 0.00018334388732910156\n",
      "len(filtered_pieces) = 1\n",
      "skeleton_connectivity_MP : 0.7562506198883057\n",
      "Grouping MP Sublimbs by Graph: 0.013166189193725586\n",
      "Divinding into MP and MAP pieces: 1.6689300537109375e-06\n",
      "--- Working on MAP piece 0---\n",
      "MAP Filtering Soma Pieces: 0.006422996520996094\n",
      "inside skeletonize_connected_branch and use_surface_after_CGAL=False\n",
      "     Starting Screened Poisson\n",
      "xvfb-run -n 4811 -s \"-screen 0 800x600x24\" meshlabserver $@  -i /notebooks/Platinum_Decomp_Fusion/temp/None.off -o /notebooks/Platinum_Decomp_Fusion/temp/None_poisson.off -s /notebooks/Platinum_Decomp_Fusion/temp/poisson_742868.mls\n",
      "removed temporary input file: /notebooks/Platinum_Decomp_Fusion/temp/None.off\n",
      "removed temporary output file: /notebooks/Platinum_Decomp_Fusion/temp/None_poisson.off\n",
      "Using the close holes feature\n",
      "xvfb-run -n 8451 -s \"-screen 0 800x600x24\" meshlabserver $@  -i /notebooks/Platinum_Decomp_Fusion/temp/neuron_60126.off -o /notebooks/Platinum_Decomp_Fusion/temp/neuron_60126_fill_holes.off -s /notebooks/Platinum_Decomp_Fusion/temp/fill_holes_56690.mls\n",
      "removed temporary input file: /notebooks/Platinum_Decomp_Fusion/temp/neuron_60126.off\n",
      "removed temporary output file: /notebooks/Platinum_Decomp_Fusion/temp/neuron_60126_fill_holes.off\n",
      "-----Time for Screened Poisson= 13.189138412475586\n",
      "     Starting Calcification\n",
      "Before mesh subtraction number of skeleton edges = 650\n",
      "Inside mesh subtraction, len(main_mesh_bbox_restricted.faces) = 39230\n"
     ]
    },
    {
     "data": {
      "application/vnd.jupyter.widget-view+json": {
       "model_id": "529269c9f4c44f1faeca8593b8f288a1",
       "version_major": 2,
       "version_minor": 0
      },
      "text/plain": [
       "HBox(children=(FloatProgress(value=1.0, bar_style='info', layout=Layout(width='20px'), max=1.0), HTML(value=''…"
      ]
     },
     "metadata": {},
     "output_type": "display_data"
    },
    {
     "name": "stdout",
     "output_type": "stream",
     "text": [
      "\n",
      "Total Mesh subtraction time = 9.2601\n"
     ]
    },
    {
     "data": {
      "application/vnd.jupyter.widget-view+json": {
       "model_id": "d55009d64a8c4a788d3584c0a9de9455",
       "version_major": 2,
       "version_minor": 0
      },
      "text/plain": [
       "HBox(children=(FloatProgress(value=1.0, bar_style='info', layout=Layout(width='20px'), max=1.0), HTML(value=''…"
      ]
     },
     "metadata": {},
     "output_type": "display_data"
    },
    {
     "name": "stdout",
     "output_type": "stream",
     "text": [
      "\n",
      "No skeletons to stack so returning empty list\n",
      "len_subgraphs AT BEGINNING of the loop\n"
     ]
    },
    {
     "data": {
      "application/vnd.jupyter.widget-view+json": {
       "model_id": "5e68dfdd9d254fd3aecf595a9167f418",
       "version_major": 2,
       "version_minor": 0
      },
      "text/plain": [
       "HBox(children=(FloatProgress(value=0.0, max=76.0), HTML(value='')))"
      ]
     },
     "metadata": {},
     "output_type": "display_data"
    },
    {
     "name": "stdout",
     "output_type": "stream",
     "text": [
      "all graph is one component!\n",
      "\n",
      "Total time for skeleton stitching = 0.08117127418518066\n",
      "The process was using a temp folder\n",
      "    Total time for skeletonizing branch: 25.512207746505737\n",
      "Adding new branch to skeleton\n",
      "    Total time for Fixing Skeleton Soma Endpoint Extension : 2.2311923503875732\n",
      "filter_end_node_length = 4001\n",
      "Using Distance measure skeletal_distance\n",
      "Going to ignore certain endnodes that are 5000 nm close to soma border vertices\n",
      "Number of end_nodes BEFORE filtering = 84\n",
      "Using an already specified end node: 338 with index 41checking was correct node end_nodes[index] = 338\n",
      "May Eliminate end_node 40: 336 because path_len to soma border was 1998.6590502367098\n",
      "May Eliminate end_node 41: 338 because path_len to soma border was 551.377137871282\n",
      "single_node_to_eliminate = 41\n",
      "all_single_nodes_to_eliminate = [41, 41]\n"
     ]
    },
    {
     "data": {
      "application/vnd.jupyter.widget-view+json": {
       "model_id": "546d3127ffd74f3790c77c7c226c1c1a",
       "version_major": 2,
       "version_minor": 0
      },
      "text/plain": [
       "HBox(children=(FloatProgress(value=0.0, max=82.0), HTML(value='')))"
      ]
     },
     "metadata": {},
     "output_type": "display_data"
    },
    {
     "name": "stdout",
     "output_type": "stream",
     "text": [
      "\n",
      "********COMBINING CLOSE SKELETON NODES WITHIN 700 DISTANCE**********\n",
      "Found 0 valid paths to replace\n",
      "valid_paths = []\n",
      "valid_path_lengths = []\n",
      "No valid paths found so just returning the original\n",
      "skeletonize_and_clean_connected_branch_CGAL: 29.554792165756226\n",
      "Working on limb correspondence for #0 MAP piece\n"
     ]
    },
    {
     "data": {
      "application/vnd.jupyter.widget-view+json": {
       "model_id": "f2dfcf3009bf455d9b2f0b91519ea1da",
       "version_major": 2,
       "version_minor": 0
      },
      "text/plain": [
       "HBox(children=(FloatProgress(value=1.0, bar_style='info', layout=Layout(width='20px'), max=1.0), HTML(value=''…"
      ]
     },
     "metadata": {},
     "output_type": "display_data"
    },
    {
     "name": "stdout",
     "output_type": "stream",
     "text": [
      "\n",
      "Total time for decomposition = 5.482178449630737\n",
      "mesh_correspondence_first_pass: 5.482210636138916\n",
      "Limb decomposed into 7 branches\n",
      "divided_skeleton_graph_recovered = (510, 2, 3) and \n",
      "current_mesh_data[0]['branch_skeletons_cleaned'].shape = (510, 2, 3)\n",
      "\n",
      "Number of connected components in deocmposed recovered graph = 1\n",
      "Number of connected components in cleaned skeleton graph= 1\n",
      "The downsampled branches number of connected components = 1\n",
      "Empty submeshes = []\n",
      "\n",
      "\n",
      "--- Working on 1-to-1 correspondence-----\n",
      "max(original_labels),len(original_labels) = (6, 7)\n",
      "empty_indices % = 0.061075707366811116\n",
      " conflict_indices % = 0.01738465460107061\n"
     ]
    },
    {
     "data": {
      "application/vnd.jupyter.widget-view+json": {
       "model_id": "a87dcac7f997491cafe04879f2991649",
       "version_major": 2,
       "version_minor": 0
      },
      "text/plain": [
       "HBox(children=(FloatProgress(value=0.0, max=27.0), HTML(value='')))"
      ]
     },
     "metadata": {},
     "output_type": "display_data"
    },
    {
     "name": "stdout",
     "output_type": "stream",
     "text": [
      "\n",
      "AFTER face_lookup_resolved_test\n",
      "Took 0 iterations to expand the label back\n"
     ]
    },
    {
     "data": {
      "application/vnd.jupyter.widget-view+json": {
       "model_id": "76603224807747f68a34d7941a9df470",
       "version_major": 2,
       "version_minor": 0
      },
      "text/plain": [
       "HBox(children=(FloatProgress(value=0.0, max=7.0), HTML(value='')))"
      ]
     },
     "metadata": {},
     "output_type": "display_data"
    },
    {
     "name": "stdout",
     "output_type": "stream",
     "text": [
      "\n",
      "Total time for MAP sublimb #0 mesh processing = 35.909265995025635\n",
      "correspondence_1_to_1: 0.8657045364379883\n",
      "Total time for MAP sublimb processing 35.909377574920654\n",
      "***************Arrived at MESH PIECES FOR MAP AND mp***************\n",
      "---- Working on MP Decomposition #0 ----\n",
      "MP filtering soma verts: 0.004111289978027344\n",
      "Do Not Need to Fix MP Decomposition 0 so just continuing\n",
      "---- Working on MP Decomposition #1 ----\n",
      "MP filtering soma verts: 0.0030531883239746094\n",
      "Do Not Need to Fix MP Decomposition 1 so just continuing\n",
      "---- Working on MP Decomposition #2 ----\n",
      "MP filtering soma verts: 0.0012843608856201172\n",
      "Do Not Need to Fix MP Decomposition 2 so just continuing\n",
      "\n",
      "---- Working on (0, 0) connection-----\n",
      "winning_vertex = [860766.19553595 942207.60606438 847628.26612071]\n",
      "MP_branches_with_stitch_point = [0]\n",
      "Current stitch point was not a branch or endpoint, shortest_path_length to one = 23447.36898466746\n",
      "MAP_branches_with_stitch_point = [1]\n",
      "MAP_stitch_point_on_end_or_branch = False\n"
     ]
    },
    {
     "data": {
      "application/vnd.jupyter.widget-view+json": {
       "model_id": "900a47687cb8406bb208a9a9f657552c",
       "version_major": 2,
       "version_minor": 0
      },
      "text/plain": [
       "HBox(children=(FloatProgress(value=1.0, bar_style='info', layout=Layout(width='20px'), max=1.0), HTML(value=''…"
      ]
     },
     "metadata": {},
     "output_type": "display_data"
    },
    {
     "name": "stdout",
     "output_type": "stream",
     "text": [
      "\n",
      "\n",
      "\n",
      "--- Working on 1-to-1 correspondence-----\n",
      "max(original_labels),len(original_labels) = (2, 3)\n",
      "empty_indices % = 0.043510928961748636\n",
      " conflict_indices % = 0.012909836065573771\n"
     ]
    },
    {
     "data": {
      "application/vnd.jupyter.widget-view+json": {
       "model_id": "2ada3d1ab1ed40ad884251f1f02eac9e",
       "version_major": 2,
       "version_minor": 0
      },
      "text/plain": [
       "HBox(children=(FloatProgress(value=0.0, max=7.0), HTML(value='')))"
      ]
     },
     "metadata": {},
     "output_type": "display_data"
    },
    {
     "name": "stdout",
     "output_type": "stream",
     "text": [
      "\n",
      "AFTER face_lookup_resolved_test\n"
     ]
    },
    {
     "data": {
      "application/vnd.jupyter.widget-view+json": {
       "model_id": "d3560626fcc848be99df358496121265",
       "version_major": 2,
       "version_minor": 0
      },
      "text/plain": [
       "HBox(children=(FloatProgress(value=0.0, max=3.0), HTML(value='')))"
      ]
     },
     "metadata": {},
     "output_type": "display_data"
    },
    {
     "name": "stdout",
     "output_type": "stream",
     "text": [
      "\n",
      "Deleting branches from dictionary\n",
      " Finished with (0, 0) \n",
      "\n",
      "\n",
      "\n",
      "\n",
      "---- Working on (1, 0) connection-----\n",
      "winning_vertex = [865951.42692904 982604.31816129 862424.97066397]\n",
      "MP_branches_with_stitch_point = [0, 1]\n",
      "Current stitch point was not a branch or endpoint, shortest_path_length to one = 3294.410215860024\n",
      "MAP_branches_with_stitch_point = [4]\n",
      "MAP_stitch_point_on_end_or_branch = False\n"
     ]
    },
    {
     "data": {
      "application/vnd.jupyter.widget-view+json": {
       "model_id": "5d8a3ce694754d30a79b1ce96058f35f",
       "version_major": 2,
       "version_minor": 0
      },
      "text/plain": [
       "HBox(children=(FloatProgress(value=1.0, bar_style='info', layout=Layout(width='20px'), max=1.0), HTML(value=''…"
      ]
     },
     "metadata": {},
     "output_type": "display_data"
    },
    {
     "name": "stdout",
     "output_type": "stream",
     "text": [
      "\n",
      "\n",
      "\n",
      "--- Working on 1-to-1 correspondence-----\n",
      "max(original_labels),len(original_labels) = (3, 4)\n",
      "empty_indices % = 0.0\n",
      " conflict_indices % = 0.23976868327402134\n"
     ]
    },
    {
     "data": {
      "application/vnd.jupyter.widget-view+json": {
       "model_id": "4c2f9d82edd64221a76027abbc8648f5",
       "version_major": 2,
       "version_minor": 0
      },
      "text/plain": [
       "HBox(children=(FloatProgress(value=0.0, max=1.0), HTML(value='')))"
      ]
     },
     "metadata": {},
     "output_type": "display_data"
    },
    {
     "name": "stdout",
     "output_type": "stream",
     "text": [
      "\n",
      "AFTER face_lookup_resolved_test\n"
     ]
    },
    {
     "data": {
      "application/vnd.jupyter.widget-view+json": {
       "model_id": "765c78f0ffd04c039c0320d8769ba47a",
       "version_major": 2,
       "version_minor": 0
      },
      "text/plain": [
       "HBox(children=(FloatProgress(value=0.0, max=4.0), HTML(value='')))"
      ]
     },
     "metadata": {},
     "output_type": "display_data"
    },
    {
     "name": "stdout",
     "output_type": "stream",
     "text": [
      "\n",
      "Deleting branches from dictionary\n",
      " Finished with (1, 0) \n",
      "\n",
      "\n",
      "\n",
      "\n",
      "---- Working on (2, 0) connection-----\n",
      "winning_vertex = [858090.31646612 920161.71004124 845912.25581579]\n",
      "MP_branches_with_stitch_point = [1, 2]\n",
      "Current stitch point was a branch or endpoint\n",
      "MAP_branches_with_stitch_point = [1]\n",
      "MAP_stitch_point_on_end_or_branch = True\n"
     ]
    },
    {
     "data": {
      "application/vnd.jupyter.widget-view+json": {
       "model_id": "43750ecf2c1646a8a55f171a3ed9d061",
       "version_major": 2,
       "version_minor": 0
      },
      "text/plain": [
       "HBox(children=(FloatProgress(value=1.0, bar_style='info', layout=Layout(width='20px'), max=1.0), HTML(value=''…"
      ]
     },
     "metadata": {},
     "output_type": "display_data"
    },
    {
     "name": "stdout",
     "output_type": "stream",
     "text": [
      "\n",
      "\n",
      "\n",
      "--- Working on 1-to-1 correspondence-----\n",
      "max(original_labels),len(original_labels) = (2, 3)\n",
      "empty_indices % = 0.07223930007093876\n",
      " conflict_indices % = 0.0055568692362260586\n"
     ]
    },
    {
     "data": {
      "application/vnd.jupyter.widget-view+json": {
       "model_id": "35436bb1c69b444d9ec1fbb797340fa2",
       "version_major": 2,
       "version_minor": 0
      },
      "text/plain": [
       "HBox(children=(FloatProgress(value=0.0, max=7.0), HTML(value='')))"
      ]
     },
     "metadata": {},
     "output_type": "display_data"
    },
    {
     "name": "stdout",
     "output_type": "stream",
     "text": [
      "\n",
      "AFTER face_lookup_resolved_test\n"
     ]
    },
    {
     "data": {
      "application/vnd.jupyter.widget-view+json": {
       "model_id": "405e115587a04044bd1527c0d338daf7",
       "version_major": 2,
       "version_minor": 0
      },
      "text/plain": [
       "HBox(children=(FloatProgress(value=0.0, max=3.0), HTML(value='')))"
      ]
     },
     "metadata": {},
     "output_type": "display_data"
    },
    {
     "name": "stdout",
     "output_type": "stream",
     "text": [
      "\n",
      " Finished with (2, 0) \n",
      "\n",
      "\n",
      "\n",
      "Time for decomp of Limb 6 = 43.33756899833679\n",
      "\n",
      "\n",
      "----- Working on Proper Limb #7 ---------\n",
      "Time for preparing soma vertices and root: 0.00024628639221191406\n",
      "smooth_neighborhood = 1\n"
     ]
    },
    {
     "name": "stderr",
     "output_type": "stream",
     "text": [
      "\r",
      "  0%|          | 0/1 [00:00<?, ?it/s]"
     ]
    },
    {
     "data": {
      "application/vnd.jupyter.widget-view+json": {
       "model_id": "ac7f42c8ec9540e090dbafe3e176c134",
       "version_major": 2,
       "version_minor": 0
      },
      "text/plain": [
       "HBox(children=(FloatProgress(value=0.0, max=29128.0), HTML(value='')))"
      ]
     },
     "metadata": {},
     "output_type": "display_data"
    },
    {
     "name": "stderr",
     "output_type": "stream",
     "text": [
      "100%|██████████| 1/1 [00:00<00:00,  3.59it/s]"
     ]
    },
    {
     "name": "stdout",
     "output_type": "stream",
     "text": [
      "\n"
     ]
    },
    {
     "name": "stderr",
     "output_type": "stream",
     "text": [
      "\n"
     ]
    },
    {
     "name": "stdout",
     "output_type": "stream",
     "text": [
      "Time for 1st pass MP skeletonization: 0.6012272834777832\n",
      "branches_touching_root = [18]\n",
      "empty_indices % = 0.0\n",
      " conflict_indices % = 0.010769783065798247\n"
     ]
    },
    {
     "data": {
      "application/vnd.jupyter.widget-view+json": {
       "model_id": "4209131992d84894816c354b7ffaa4b1",
       "version_major": 2,
       "version_minor": 0
      },
      "text/plain": [
       "HBox(children=(FloatProgress(value=0.0, max=7.0), HTML(value='')))"
      ]
     },
     "metadata": {},
     "output_type": "display_data"
    },
    {
     "name": "stdout",
     "output_type": "stream",
     "text": [
      "\n",
      "AFTER face_lookup_resolved_test\n"
     ]
    },
    {
     "data": {
      "application/vnd.jupyter.widget-view+json": {
       "model_id": "0f29ced159e341cb899d4066efe0819e",
       "version_major": 2,
       "version_minor": 0
      },
      "text/plain": [
       "HBox(children=(FloatProgress(value=0.0, max=19.0), HTML(value='')))"
      ]
     },
     "metadata": {},
     "output_type": "display_data"
    },
    {
     "name": "stdout",
     "output_type": "stream",
     "text": [
      "\n",
      "Decomposing first pass: 0.9391195774078369\n",
      "Found len(mesh_large_idx) MAP candidates: [1466, 5513, 2362, 90, 10902, 790, 7176, 2268, 4825, 10098, 670, 3193]\n",
      "mesh_large_connectivity: 0.09747767448425293\n",
      "Finding MAP candidates connected components: 0.00020051002502441406\n",
      "len(filtered_pieces) = 1\n",
      "skeleton_connectivity_MP : 0.052245378494262695\n",
      "Grouping MP Sublimbs by Graph: 0.009773731231689453\n",
      "Divinding into MP and MAP pieces: 1.6689300537109375e-06\n",
      "--- Working on MAP piece 0---\n",
      "MAP Filtering Soma Pieces: 0.003062009811401367\n",
      "inside skeletonize_connected_branch and use_surface_after_CGAL=False\n",
      "     Starting Screened Poisson\n",
      "xvfb-run -n 344 -s \"-screen 0 800x600x24\" meshlabserver $@  -i /notebooks/Platinum_Decomp_Fusion/temp/None.off -o /notebooks/Platinum_Decomp_Fusion/temp/None_poisson.off -s /notebooks/Platinum_Decomp_Fusion/temp/poisson_460840.mls\n",
      "removed temporary input file: /notebooks/Platinum_Decomp_Fusion/temp/None.off\n",
      "removed temporary output file: /notebooks/Platinum_Decomp_Fusion/temp/None_poisson.off\n",
      "Using the close holes feature\n",
      "xvfb-run -n 4127 -s \"-screen 0 800x600x24\" meshlabserver $@  -i /notebooks/Platinum_Decomp_Fusion/temp/neuron_68622.off -o /notebooks/Platinum_Decomp_Fusion/temp/neuron_68622_fill_holes.off -s /notebooks/Platinum_Decomp_Fusion/temp/fill_holes_551440.mls\n",
      "removed temporary input file: /notebooks/Platinum_Decomp_Fusion/temp/neuron_68622.off\n",
      "removed temporary output file: /notebooks/Platinum_Decomp_Fusion/temp/neuron_68622_fill_holes.off\n",
      "-----Time for Screened Poisson= 18.039186477661133\n",
      "     Starting Calcification\n",
      "Before mesh subtraction number of skeleton edges = 858\n",
      "Inside mesh subtraction, len(main_mesh_bbox_restricted.faces) = 49353\n"
     ]
    },
    {
     "data": {
      "application/vnd.jupyter.widget-view+json": {
       "model_id": "a14f6704c57c45daba384ff2bcbb9964",
       "version_major": 2,
       "version_minor": 0
      },
      "text/plain": [
       "HBox(children=(FloatProgress(value=1.0, bar_style='info', layout=Layout(width='20px'), max=1.0), HTML(value=''…"
      ]
     },
     "metadata": {},
     "output_type": "display_data"
    },
    {
     "name": "stdout",
     "output_type": "stream",
     "text": [
      "\n",
      "Total Mesh subtraction time = 11.1203\n"
     ]
    },
    {
     "data": {
      "application/vnd.jupyter.widget-view+json": {
       "model_id": "bbe75d9913a548ce93dadc47a0796b6d",
       "version_major": 2,
       "version_minor": 0
      },
      "text/plain": [
       "HBox(children=(FloatProgress(value=1.0, bar_style='info', layout=Layout(width='20px'), max=1.0), HTML(value=''…"
      ]
     },
     "metadata": {},
     "output_type": "display_data"
    },
    {
     "name": "stdout",
     "output_type": "stream",
     "text": [
      "\n",
      "No skeletons to stack so returning empty list\n",
      "len_subgraphs AT BEGINNING of the loop\n"
     ]
    },
    {
     "data": {
      "application/vnd.jupyter.widget-view+json": {
       "model_id": "16290f83bc184f8e8c71103b5665a797",
       "version_major": 2,
       "version_minor": 0
      },
      "text/plain": [
       "HBox(children=(FloatProgress(value=0.0, max=108.0), HTML(value='')))"
      ]
     },
     "metadata": {},
     "output_type": "display_data"
    },
    {
     "name": "stdout",
     "output_type": "stream",
     "text": [
      "all graph is one component!\n",
      "\n",
      "Total time for skeleton stitching = 0.16623640060424805\n",
      "The process was using a temp folder\n",
      "    Total time for skeletonizing branch: 33.51060652732849\n",
      "skipping soma 1 because closest skeleton node was already end node\n",
      "    Total time for Fixing Skeleton Soma Endpoint Extension : 1.8569309711456299\n",
      "filter_end_node_length = 4001\n",
      "Using Distance measure skeletal_distance\n",
      "Going to ignore certain endnodes that are 5000 nm close to soma border vertices\n",
      "Number of end_nodes BEFORE filtering = 113\n",
      "Using an already specified end node: 51 with index 6checking was correct node end_nodes[index] = 51\n",
      "May Eliminate end_node 6: 51 because path_len to soma border was 1990.5240404415981\n",
      "single_node_to_eliminate = 6\n",
      "all_single_nodes_to_eliminate = [6, 6]\n"
     ]
    },
    {
     "data": {
      "application/vnd.jupyter.widget-view+json": {
       "model_id": "0e6ad2afdc134c42b81b5aa3c6c3a524",
       "version_major": 2,
       "version_minor": 0
      },
      "text/plain": [
       "HBox(children=(FloatProgress(value=0.0, max=109.0), HTML(value='')))"
      ]
     },
     "metadata": {},
     "output_type": "display_data"
    },
    {
     "name": "stdout",
     "output_type": "stream",
     "text": [
      "\n",
      "high-degree endpoints were connected so just using that connection\n",
      "curr_branch = {570, 571.0}\n",
      "********COMBINING CLOSE SKELETON NODES WITHIN 700 DISTANCE**********\n",
      "Found 0 valid paths to replace\n",
      "valid_paths = []\n",
      "valid_path_lengths = []\n",
      "No valid paths found so just returning the original\n",
      "skeletonize_and_clean_connected_branch_CGAL: 38.75998783111572\n",
      "Working on limb correspondence for #0 MAP piece\n"
     ]
    },
    {
     "data": {
      "application/vnd.jupyter.widget-view+json": {
       "model_id": "ba8f773d31ab49438d7b2aca2ebfa3a4",
       "version_major": 2,
       "version_minor": 0
      },
      "text/plain": [
       "HBox(children=(FloatProgress(value=1.0, bar_style='info', layout=Layout(width='20px'), max=1.0), HTML(value=''…"
      ]
     },
     "metadata": {},
     "output_type": "display_data"
    },
    {
     "name": "stdout",
     "output_type": "stream",
     "text": [
      "\n",
      "Total time for decomposition = 7.26336145401001\n",
      "mesh_correspondence_first_pass: 7.263392448425293\n",
      "Limb decomposed into 9 branches\n",
      "divided_skeleton_graph_recovered = (661, 2, 3) and \n",
      "current_mesh_data[0]['branch_skeletons_cleaned'].shape = (661, 2, 3)\n",
      "\n",
      "Number of connected components in deocmposed recovered graph = 1\n",
      "Number of connected components in cleaned skeleton graph= 1\n",
      "The downsampled branches number of connected components = 1\n",
      "Empty submeshes = []\n",
      "\n",
      "\n",
      "--- Working on 1-to-1 correspondence-----\n",
      "max(original_labels),len(original_labels) = (8, 9)\n",
      "empty_indices % = 0.04854821388770693\n",
      " conflict_indices % = 0.015257431159200049\n"
     ]
    },
    {
     "data": {
      "application/vnd.jupyter.widget-view+json": {
       "model_id": "b11f76589aef47e5a6d91322e37d254a",
       "version_major": 2,
       "version_minor": 0
      },
      "text/plain": [
       "HBox(children=(FloatProgress(value=0.0, max=23.0), HTML(value='')))"
      ]
     },
     "metadata": {},
     "output_type": "display_data"
    },
    {
     "name": "stdout",
     "output_type": "stream",
     "text": [
      "\n",
      "AFTER face_lookup_resolved_test\n",
      "Took 0 iterations to expand the label back\n"
     ]
    },
    {
     "data": {
      "application/vnd.jupyter.widget-view+json": {
       "model_id": "b2be39f709304ad2a1a1cf32ae35a88f",
       "version_major": 2,
       "version_minor": 0
      },
      "text/plain": [
       "HBox(children=(FloatProgress(value=0.0, max=9.0), HTML(value='')))"
      ]
     },
     "metadata": {},
     "output_type": "display_data"
    },
    {
     "name": "stdout",
     "output_type": "stream",
     "text": [
      "\n",
      "Total time for MAP sublimb #0 mesh processing = 47.08466124534607\n",
      "correspondence_1_to_1: 1.0582077503204346\n",
      "Total time for MAP sublimb processing 47.084765672683716\n",
      "***************Arrived at MESH PIECES FOR MAP AND mp***************\n",
      "---- Working on MP Decomposition #0 ----\n",
      "MP filtering soma verts: 0.004623889923095703\n",
      "Do Not Need to Fix MP Decomposition 0 so just continuing\n",
      "---- Working on MP Decomposition #1 ----\n",
      "MP filtering soma verts: 0.00028252601623535156\n",
      "Do Not Need to Fix MP Decomposition 1 so just continuing\n",
      "---- Working on MP Decomposition #2 ----\n",
      "MP filtering soma verts: 0.0002963542938232422\n",
      "Do Not Need to Fix MP Decomposition 2 so just continuing\n",
      "---- Working on MP Decomposition #3 ----\n",
      "MP filtering soma verts: 0.0005431175231933594\n",
      "Do Not Need to Fix MP Decomposition 3 so just continuing\n",
      "\n",
      "---- Working on (0, 0) connection-----\n",
      "winning_vertex = [ 880716.53287696 1016684.51326564  798912.7152729 ]\n",
      "MP_branches_with_stitch_point = [0]\n",
      "Current stitch point was not a branch or endpoint, shortest_path_length to one = 11839.682303694864\n",
      "MAP_branches_with_stitch_point = [4]\n",
      "MAP_stitch_point_on_end_or_branch = False\n"
     ]
    },
    {
     "data": {
      "application/vnd.jupyter.widget-view+json": {
       "model_id": "01932f9b02d747988438917ff5f3691b",
       "version_major": 2,
       "version_minor": 0
      },
      "text/plain": [
       "HBox(children=(FloatProgress(value=1.0, bar_style='info', layout=Layout(width='20px'), max=1.0), HTML(value=''…"
      ]
     },
     "metadata": {},
     "output_type": "display_data"
    },
    {
     "name": "stdout",
     "output_type": "stream",
     "text": [
      "\n",
      "\n",
      "\n",
      "--- Working on 1-to-1 correspondence-----\n",
      "max(original_labels),len(original_labels) = (2, 3)\n",
      "empty_indices % = 0.09048913043478261\n",
      " conflict_indices % = 0.0028532608695652174\n"
     ]
    },
    {
     "data": {
      "application/vnd.jupyter.widget-view+json": {
       "model_id": "37d28a75f1a84360bf356f10fec5690c",
       "version_major": 2,
       "version_minor": 0
      },
      "text/plain": [
       "HBox(children=(FloatProgress(value=0.0, max=7.0), HTML(value='')))"
      ]
     },
     "metadata": {},
     "output_type": "display_data"
    },
    {
     "name": "stdout",
     "output_type": "stream",
     "text": [
      "\n",
      "AFTER face_lookup_resolved_test\n"
     ]
    },
    {
     "data": {
      "application/vnd.jupyter.widget-view+json": {
       "model_id": "e278dfa94e59483bbc9fc726ec71c5e0",
       "version_major": 2,
       "version_minor": 0
      },
      "text/plain": [
       "HBox(children=(FloatProgress(value=0.0, max=3.0), HTML(value='')))"
      ]
     },
     "metadata": {},
     "output_type": "display_data"
    },
    {
     "name": "stdout",
     "output_type": "stream",
     "text": [
      "\n",
      "Deleting branches from dictionary\n",
      " Finished with (0, 0) \n",
      "\n",
      "\n",
      "\n",
      "\n",
      "---- Working on (1, 0) connection-----\n",
      "winning_vertex = [ 941676.39801295 1004334.40911444  831362.76896767]\n",
      "MP_branches_with_stitch_point = [0]\n",
      "Current stitch point was not a branch or endpoint, shortest_path_length to one = 662.8008750748598\n",
      "MAP_branches_with_stitch_point = [7]\n",
      "MAP_stitch_point_on_end_or_branch = False\n"
     ]
    },
    {
     "data": {
      "application/vnd.jupyter.widget-view+json": {
       "model_id": "699adce836934f8297d40429187ebf43",
       "version_major": 2,
       "version_minor": 0
      },
      "text/plain": [
       "HBox(children=(FloatProgress(value=1.0, bar_style='info', layout=Layout(width='20px'), max=1.0), HTML(value=''…"
      ]
     },
     "metadata": {},
     "output_type": "display_data"
    },
    {
     "name": "stdout",
     "output_type": "stream",
     "text": [
      "\n",
      "\n",
      "\n",
      "--- Working on 1-to-1 correspondence-----\n",
      "max(original_labels),len(original_labels) = (2, 3)\n",
      "empty_indices % = 0.1714704445530044\n",
      " conflict_indices % = 0.039081582804103565\n"
     ]
    },
    {
     "data": {
      "application/vnd.jupyter.widget-view+json": {
       "model_id": "57b42491957a45e69c6b05c71430247f",
       "version_major": 2,
       "version_minor": 0
      },
      "text/plain": [
       "HBox(children=(FloatProgress(value=0.0, max=4.0), HTML(value='')))"
      ]
     },
     "metadata": {},
     "output_type": "display_data"
    },
    {
     "name": "stdout",
     "output_type": "stream",
     "text": [
      "\n",
      "AFTER face_lookup_resolved_test\n"
     ]
    },
    {
     "data": {
      "application/vnd.jupyter.widget-view+json": {
       "model_id": "23bceaf0361544149a8ff37d4acbafde",
       "version_major": 2,
       "version_minor": 0
      },
      "text/plain": [
       "HBox(children=(FloatProgress(value=0.0, max=3.0), HTML(value='')))"
      ]
     },
     "metadata": {},
     "output_type": "display_data"
    },
    {
     "name": "stdout",
     "output_type": "stream",
     "text": [
      "\n",
      "Deleting branches from dictionary\n",
      " Finished with (1, 0) \n",
      "\n",
      "\n",
      "\n",
      "\n",
      "---- Working on (2, 0) connection-----\n",
      "winning_vertex = [ 969834.03007213 1005951.5706878   822583.42780442]\n",
      "MP_branches_with_stitch_point = [0, 2]\n",
      "Current stitch point was not a branch or endpoint, shortest_path_length to one = 15551.241857999028\n",
      "MAP_branches_with_stitch_point = [8]\n",
      "MAP_stitch_point_on_end_or_branch = False\n"
     ]
    },
    {
     "data": {
      "application/vnd.jupyter.widget-view+json": {
       "model_id": "28c5d7a26ff54100803aee8072cac8cf",
       "version_major": 2,
       "version_minor": 0
      },
      "text/plain": [
       "HBox(children=(FloatProgress(value=1.0, bar_style='info', layout=Layout(width='20px'), max=1.0), HTML(value=''…"
      ]
     },
     "metadata": {},
     "output_type": "display_data"
    },
    {
     "name": "stdout",
     "output_type": "stream",
     "text": [
      "\n",
      "\n",
      "\n",
      "--- Working on 1-to-1 correspondence-----\n",
      "max(original_labels),len(original_labels) = (3, 4)\n",
      "empty_indices % = 0.035370167093548\n",
      " conflict_indices % = 0.03549213318697402\n"
     ]
    },
    {
     "data": {
      "application/vnd.jupyter.widget-view+json": {
       "model_id": "795bc25ad822451f8b5b7367ea205ba3",
       "version_major": 2,
       "version_minor": 0
      },
      "text/plain": [
       "HBox(children=(FloatProgress(value=0.0, max=4.0), HTML(value='')))"
      ]
     },
     "metadata": {},
     "output_type": "display_data"
    },
    {
     "name": "stdout",
     "output_type": "stream",
     "text": [
      "\n",
      "AFTER face_lookup_resolved_test\n"
     ]
    },
    {
     "data": {
      "application/vnd.jupyter.widget-view+json": {
       "model_id": "fc1ad5892a1943c8bd3b7a26bb6ac190",
       "version_major": 2,
       "version_minor": 0
      },
      "text/plain": [
       "HBox(children=(FloatProgress(value=0.0, max=4.0), HTML(value='')))"
      ]
     },
     "metadata": {},
     "output_type": "display_data"
    },
    {
     "name": "stdout",
     "output_type": "stream",
     "text": [
      "\n",
      "Deleting branches from dictionary\n",
      " Finished with (2, 0) \n",
      "\n",
      "\n",
      "\n",
      "\n",
      "---- Working on (3, 0) connection-----\n",
      "winning_vertex = [924393.90079153 954315.27724812 836858.36476555]\n",
      "MP_branches_with_stitch_point = [0, 1]\n",
      "Current stitch point was a branch or endpoint\n",
      "MAP_branches_with_stitch_point = [5]\n",
      "MAP_stitch_point_on_end_or_branch = True\n"
     ]
    },
    {
     "data": {
      "application/vnd.jupyter.widget-view+json": {
       "model_id": "cb1288b0fb1b4b5690ca44cc615e5c85",
       "version_major": 2,
       "version_minor": 0
      },
      "text/plain": [
       "HBox(children=(FloatProgress(value=1.0, bar_style='info', layout=Layout(width='20px'), max=1.0), HTML(value=''…"
      ]
     },
     "metadata": {},
     "output_type": "display_data"
    },
    {
     "name": "stdout",
     "output_type": "stream",
     "text": [
      "\n",
      "\n",
      "\n",
      "--- Working on 1-to-1 correspondence-----\n",
      "max(original_labels),len(original_labels) = (2, 3)\n",
      "empty_indices % = 0.0446125248381514\n",
      " conflict_indices % = 0.0043586949554515735\n"
     ]
    },
    {
     "data": {
      "application/vnd.jupyter.widget-view+json": {
       "model_id": "90213b3f58e74b329a9dae11dfa67398",
       "version_major": 2,
       "version_minor": 0
      },
      "text/plain": [
       "HBox(children=(FloatProgress(value=0.0, max=10.0), HTML(value='')))"
      ]
     },
     "metadata": {},
     "output_type": "display_data"
    },
    {
     "name": "stdout",
     "output_type": "stream",
     "text": [
      "\n",
      "AFTER face_lookup_resolved_test\n"
     ]
    },
    {
     "data": {
      "application/vnd.jupyter.widget-view+json": {
       "model_id": "f6915a5de0134a69919e88470fc304a6",
       "version_major": 2,
       "version_minor": 0
      },
      "text/plain": [
       "HBox(children=(FloatProgress(value=0.0, max=3.0), HTML(value='')))"
      ]
     },
     "metadata": {},
     "output_type": "display_data"
    },
    {
     "name": "stderr",
     "output_type": "stream",
     "text": [
      "\r",
      "  0%|          | 0/1 [00:00<?, ?it/s]"
     ]
    },
    {
     "name": "stdout",
     "output_type": "stream",
     "text": [
      "\n",
      " Finished with (3, 0) \n",
      "\n",
      "\n",
      "\n",
      "Time for decomp of Limb 7 = 55.29681992530823\n",
      "\n",
      "\n",
      "----- Working on Proper Limb #8 ---------\n",
      "Time for preparing soma vertices and root: 0.000247955322265625\n",
      "smooth_neighborhood = 1\n"
     ]
    },
    {
     "data": {
      "application/vnd.jupyter.widget-view+json": {
       "model_id": "e1d759d8ae364832a00bb2a29d8de10d",
       "version_major": 2,
       "version_minor": 0
      },
      "text/plain": [
       "HBox(children=(FloatProgress(value=0.0, max=14704.0), HTML(value='')))"
      ]
     },
     "metadata": {},
     "output_type": "display_data"
    },
    {
     "name": "stderr",
     "output_type": "stream",
     "text": [
      "\r",
      "100%|██████████| 1/1 [00:00<00:00,  8.01it/s]"
     ]
    },
    {
     "name": "stdout",
     "output_type": "stream",
     "text": [
      "\n"
     ]
    },
    {
     "name": "stderr",
     "output_type": "stream",
     "text": [
      "100%|██████████| 1/1 [00:00<00:00,  7.95it/s]\n"
     ]
    },
    {
     "name": "stdout",
     "output_type": "stream",
     "text": [
      "Time for 1st pass MP skeletonization: 0.31874561309814453\n",
      "branches_touching_root = [10]\n",
      "empty_indices % = 0.0\n",
      " conflict_indices % = 0.00937140537248799\n"
     ]
    },
    {
     "data": {
      "application/vnd.jupyter.widget-view+json": {
       "model_id": "b920b45a01404d5fa11ced5dbe4f2b71",
       "version_major": 2,
       "version_minor": 0
      },
      "text/plain": [
       "HBox(children=(FloatProgress(value=0.0, max=4.0), HTML(value='')))"
      ]
     },
     "metadata": {},
     "output_type": "display_data"
    },
    {
     "name": "stdout",
     "output_type": "stream",
     "text": [
      "\n",
      "AFTER face_lookup_resolved_test\n"
     ]
    },
    {
     "data": {
      "application/vnd.jupyter.widget-view+json": {
       "model_id": "944b6a158dbe47ecbe3026f93536c0ed",
       "version_major": 2,
       "version_minor": 0
      },
      "text/plain": [
       "HBox(children=(FloatProgress(value=0.0, max=11.0), HTML(value='')))"
      ]
     },
     "metadata": {},
     "output_type": "display_data"
    },
    {
     "name": "stdout",
     "output_type": "stream",
     "text": [
      "\n",
      "Decomposing first pass: 0.5096607208251953\n",
      "Found len(mesh_large_idx) MAP candidates: [11863, 407, 178, 4124]\n",
      "mesh_large_connectivity: 0.009675264358520508\n",
      "Finding MAP candidates connected components: 0.00010514259338378906\n",
      "len(filtered_pieces) = 1\n",
      "skeleton_connectivity_MP : 0.05377483367919922\n",
      "Grouping MP Sublimbs by Graph: 0.010139942169189453\n",
      "Divinding into MP and MAP pieces: 1.6689300537109375e-06\n",
      "--- Working on MAP piece 0---\n",
      "MAP Filtering Soma Pieces: 0.0026085376739501953\n",
      "inside skeletonize_connected_branch and use_surface_after_CGAL=False\n",
      "     Starting Screened Poisson\n",
      "xvfb-run -n 824 -s \"-screen 0 800x600x24\" meshlabserver $@  -i /notebooks/Platinum_Decomp_Fusion/temp/None.off -o /notebooks/Platinum_Decomp_Fusion/temp/None_poisson.off -s /notebooks/Platinum_Decomp_Fusion/temp/poisson_723527.mls\n",
      "removed temporary input file: /notebooks/Platinum_Decomp_Fusion/temp/None.off\n",
      "removed temporary output file: /notebooks/Platinum_Decomp_Fusion/temp/None_poisson.off\n",
      "Using the close holes feature\n",
      "xvfb-run -n 7310 -s \"-screen 0 800x600x24\" meshlabserver $@  -i /notebooks/Platinum_Decomp_Fusion/temp/neuron_12530.off -o /notebooks/Platinum_Decomp_Fusion/temp/neuron_12530_fill_holes.off -s /notebooks/Platinum_Decomp_Fusion/temp/fill_holes_640137.mls\n",
      "removed temporary input file: /notebooks/Platinum_Decomp_Fusion/temp/neuron_12530.off\n",
      "removed temporary output file: /notebooks/Platinum_Decomp_Fusion/temp/neuron_12530_fill_holes.off\n",
      "-----Time for Screened Poisson= 8.602252006530762\n",
      "     Starting Calcification\n",
      "Before mesh subtraction number of skeleton edges = 310\n",
      "Inside mesh subtraction, len(main_mesh_bbox_restricted.faces) = 16572\n"
     ]
    },
    {
     "data": {
      "application/vnd.jupyter.widget-view+json": {
       "model_id": "02c2b8fe16ac499e91032ebd987893e7",
       "version_major": 2,
       "version_minor": 0
      },
      "text/plain": [
       "HBox(children=(FloatProgress(value=1.0, bar_style='info', layout=Layout(width='20px'), max=1.0), HTML(value=''…"
      ]
     },
     "metadata": {},
     "output_type": "display_data"
    },
    {
     "name": "stdout",
     "output_type": "stream",
     "text": [
      "\n",
      "Total Mesh subtraction time = 1.9586\n"
     ]
    },
    {
     "data": {
      "application/vnd.jupyter.widget-view+json": {
       "model_id": "d463fe18d7794db0925ce205a02fb2cb",
       "version_major": 2,
       "version_minor": 0
      },
      "text/plain": [
       "HBox(children=(FloatProgress(value=1.0, bar_style='info', layout=Layout(width='20px'), max=1.0), HTML(value=''…"
      ]
     },
     "metadata": {},
     "output_type": "display_data"
    },
    {
     "name": "stdout",
     "output_type": "stream",
     "text": [
      "\n",
      "No skeletons to stack so returning empty list\n",
      "len_subgraphs AT BEGINNING of the loop\n"
     ]
    },
    {
     "data": {
      "application/vnd.jupyter.widget-view+json": {
       "model_id": "52625219749f4fc6b440e4c2394b9800",
       "version_major": 2,
       "version_minor": 0
      },
      "text/plain": [
       "HBox(children=(FloatProgress(value=0.0, max=22.0), HTML(value='')))"
      ]
     },
     "metadata": {},
     "output_type": "display_data"
    },
    {
     "name": "stdout",
     "output_type": "stream",
     "text": [
      "all graph is one component!\n",
      "\n",
      "Total time for skeleton stitching = 0.052260398864746094\n",
      "The process was using a temp folder\n",
      "    Total time for skeletonizing branch: 11.58544111251831\n",
      "skipping soma 1 because closest skeleton node was already end node\n",
      "    Total time for Fixing Skeleton Soma Endpoint Extension : 0.60308837890625\n",
      "filter_end_node_length = 4001\n",
      "Using Distance measure skeletal_distance\n",
      "Going to ignore certain endnodes that are 5000 nm close to soma border vertices\n",
      "Number of end_nodes BEFORE filtering = 27\n",
      "Using an already specified end node: 328 with index 26checking was correct node end_nodes[index] = 328\n",
      "May Eliminate end_node 26: 328 because path_len to soma border was 1215.3198224336363\n",
      "single_node_to_eliminate = 26\n",
      "all_single_nodes_to_eliminate = [26, 26]\n"
     ]
    },
    {
     "data": {
      "application/vnd.jupyter.widget-view+json": {
       "model_id": "ee0c3bbc2cd6458e9f06fb0955d6a79f",
       "version_major": 2,
       "version_minor": 0
      },
      "text/plain": [
       "HBox(children=(FloatProgress(value=0.0, max=25.0), HTML(value='')))"
      ]
     },
     "metadata": {},
     "output_type": "display_data"
    },
    {
     "name": "stdout",
     "output_type": "stream",
     "text": [
      "\n",
      "********COMBINING CLOSE SKELETON NODES WITHIN 700 DISTANCE**********\n",
      "Found 0 valid paths to replace\n",
      "valid_paths = []\n",
      "valid_path_lengths = []\n",
      "No valid paths found so just returning the original\n",
      "skeletonize_and_clean_connected_branch_CGAL: 12.690651416778564\n",
      "Working on limb correspondence for #0 MAP piece\n"
     ]
    },
    {
     "data": {
      "application/vnd.jupyter.widget-view+json": {
       "model_id": "51a6049c5f474ce0a19a7619a51cb604",
       "version_major": 2,
       "version_minor": 0
      },
      "text/plain": [
       "HBox(children=(FloatProgress(value=1.0, bar_style='info', layout=Layout(width='20px'), max=1.0), HTML(value=''…"
      ]
     },
     "metadata": {},
     "output_type": "display_data"
    },
    {
     "name": "stdout",
     "output_type": "stream",
     "text": [
      "\n",
      "Total time for decomposition = 1.6844534873962402\n",
      "mesh_correspondence_first_pass: 1.684485673904419\n",
      "Limb decomposed into 1 branches\n",
      "divided_skeleton_graph_recovered = (263, 2, 3) and \n",
      "current_mesh_data[0]['branch_skeletons_cleaned'].shape = (263, 2, 3)\n",
      "\n",
      "Number of connected components in deocmposed recovered graph = 1\n",
      "Number of connected components in cleaned skeleton graph= 1\n",
      "The downsampled branches number of connected components = 1\n",
      "Empty submeshes = []\n",
      "\n",
      "\n",
      "--- Working on 1-to-1 correspondence-----\n",
      "max(original_labels),len(original_labels) = (0, 1)\n",
      "empty_indices % = 0.05569635529809317\n",
      " conflict_indices % = 0.0\n"
     ]
    },
    {
     "data": {
      "application/vnd.jupyter.widget-view+json": {
       "model_id": "664055bd07964f21a60d2229c97d269a",
       "version_major": 2,
       "version_minor": 0
      },
      "text/plain": [
       "HBox(children=(FloatProgress(value=0.0, max=9.0), HTML(value='')))"
      ]
     },
     "metadata": {},
     "output_type": "display_data"
    },
    {
     "name": "stdout",
     "output_type": "stream",
     "text": [
      "\n",
      "AFTER face_lookup_resolved_test\n",
      "Took 0 iterations to expand the label back\n"
     ]
    },
    {
     "data": {
      "application/vnd.jupyter.widget-view+json": {
       "model_id": "f577b5d035a042708c174847d245b829",
       "version_major": 2,
       "version_minor": 0
      },
      "text/plain": [
       "HBox(children=(FloatProgress(value=0.0, max=1.0), HTML(value='')))"
      ]
     },
     "metadata": {},
     "output_type": "display_data"
    },
    {
     "name": "stdout",
     "output_type": "stream",
     "text": [
      "\n",
      "Total time for MAP sublimb #0 mesh processing = 14.743927001953125\n",
      "correspondence_1_to_1: 0.36617279052734375\n",
      "Total time for MAP sublimb processing 14.744035005569458\n",
      "***************Arrived at MESH PIECES FOR MAP AND mp***************\n",
      "---- Working on MP Decomposition #0 ----\n",
      "MP filtering soma verts: 0.002227783203125\n",
      "Do Not Need to Fix MP Decomposition 0 so just continuing\n",
      "---- Working on MP Decomposition #1 ----\n",
      "MP filtering soma verts: 0.002878427505493164\n",
      "Do Not Need to Fix MP Decomposition 1 so just continuing\n",
      "---- Working on MP Decomposition #2 ----\n",
      "MP filtering soma verts: 0.002829313278198242\n",
      "Do Not Need to Fix MP Decomposition 2 so just continuing\n",
      "\n",
      "---- Working on (0, 0) connection-----\n",
      "winning_vertex = [ 787248.53618426 1024107.68352099  784257.98101752]\n",
      "MP_branches_with_stitch_point = [0, 2]\n",
      "Current stitch point was a branch or endpoint\n",
      "MAP_branches_with_stitch_point = [0]\n",
      "MAP_stitch_point_on_end_or_branch = True\n"
     ]
    },
    {
     "data": {
      "application/vnd.jupyter.widget-view+json": {
       "model_id": "657cd92adcce44d0a99a963b5bb7a50a",
       "version_major": 2,
       "version_minor": 0
      },
      "text/plain": [
       "HBox(children=(FloatProgress(value=1.0, bar_style='info', layout=Layout(width='20px'), max=1.0), HTML(value=''…"
      ]
     },
     "metadata": {},
     "output_type": "display_data"
    },
    {
     "name": "stdout",
     "output_type": "stream",
     "text": [
      "\n",
      "\n",
      "\n",
      "--- Working on 1-to-1 correspondence-----\n",
      "max(original_labels),len(original_labels) = (2, 3)\n",
      "empty_indices % = 0.04626450874611738\n",
      " conflict_indices % = 0.006266688463843932\n"
     ]
    },
    {
     "data": {
      "application/vnd.jupyter.widget-view+json": {
       "model_id": "34809f68a7184226888fe4493d1b09c8",
       "version_major": 2,
       "version_minor": 0
      },
      "text/plain": [
       "HBox(children=(FloatProgress(value=0.0, max=11.0), HTML(value='')))"
      ]
     },
     "metadata": {},
     "output_type": "display_data"
    },
    {
     "name": "stdout",
     "output_type": "stream",
     "text": [
      "\n",
      "AFTER face_lookup_resolved_test\n"
     ]
    },
    {
     "data": {
      "application/vnd.jupyter.widget-view+json": {
       "model_id": "e88c008bd3e84e97b97b0ad18f041dfb",
       "version_major": 2,
       "version_minor": 0
      },
      "text/plain": [
       "HBox(children=(FloatProgress(value=0.0, max=3.0), HTML(value='')))"
      ]
     },
     "metadata": {},
     "output_type": "display_data"
    },
    {
     "name": "stdout",
     "output_type": "stream",
     "text": [
      "\n",
      " Finished with (0, 0) \n",
      "\n",
      "\n",
      "\n",
      "\n",
      "---- Working on (1, 0) connection-----\n",
      "winning_vertex = [850241.65438488 997733.96318925 835120.92336446]\n",
      "MP_branches_with_stitch_point = [0]\n",
      "Current stitch point was not a branch or endpoint, shortest_path_length to one = 21702.106507354933\n",
      "MAP_branches_with_stitch_point = [0]\n",
      "MAP_stitch_point_on_end_or_branch = False\n"
     ]
    },
    {
     "data": {
      "application/vnd.jupyter.widget-view+json": {
       "model_id": "ad608a68e41f45c5bee8c7f69392027b",
       "version_major": 2,
       "version_minor": 0
      },
      "text/plain": [
       "HBox(children=(FloatProgress(value=1.0, bar_style='info', layout=Layout(width='20px'), max=1.0), HTML(value=''…"
      ]
     },
     "metadata": {},
     "output_type": "display_data"
    },
    {
     "name": "stdout",
     "output_type": "stream",
     "text": [
      "\n",
      "\n",
      "\n",
      "--- Working on 1-to-1 correspondence-----\n",
      "max(original_labels),len(original_labels) = (2, 3)\n",
      "empty_indices % = 0.03207020343039489\n",
      " conflict_indices % = 0.008655763861188671\n"
     ]
    },
    {
     "data": {
      "application/vnd.jupyter.widget-view+json": {
       "model_id": "29d5670898bf4a748df0680dd36aadc5",
       "version_major": 2,
       "version_minor": 0
      },
      "text/plain": [
       "HBox(children=(FloatProgress(value=0.0, max=10.0), HTML(value='')))"
      ]
     },
     "metadata": {},
     "output_type": "display_data"
    },
    {
     "name": "stdout",
     "output_type": "stream",
     "text": [
      "\n",
      "AFTER face_lookup_resolved_test\n"
     ]
    },
    {
     "data": {
      "application/vnd.jupyter.widget-view+json": {
       "model_id": "c12307f3bf074e579df49d9aa20ef4e5",
       "version_major": 2,
       "version_minor": 0
      },
      "text/plain": [
       "HBox(children=(FloatProgress(value=0.0, max=3.0), HTML(value='')))"
      ]
     },
     "metadata": {},
     "output_type": "display_data"
    },
    {
     "name": "stdout",
     "output_type": "stream",
     "text": [
      "\n",
      "Deleting branches from dictionary\n",
      " Finished with (1, 0) \n",
      "\n",
      "\n",
      "\n",
      "\n",
      "---- Working on (2, 0) connection-----\n",
      "winning_vertex = [ 848873.31984186 1000329.7421287   833520.56255381]\n",
      "MP_branches_with_stitch_point = [0, 1]\n",
      "Current stitch point was not a branch or endpoint, shortest_path_length to one = 24893.19460923018\n",
      "MAP_branches_with_stitch_point = [0]\n",
      "MAP_stitch_point_on_end_or_branch = False\n"
     ]
    },
    {
     "data": {
      "application/vnd.jupyter.widget-view+json": {
       "model_id": "93eb103080554c4a90b4245fd1d5acad",
       "version_major": 2,
       "version_minor": 0
      },
      "text/plain": [
       "HBox(children=(FloatProgress(value=1.0, bar_style='info', layout=Layout(width='20px'), max=1.0), HTML(value=''…"
      ]
     },
     "metadata": {},
     "output_type": "display_data"
    },
    {
     "name": "stdout",
     "output_type": "stream",
     "text": [
      "\n",
      "\n",
      "\n",
      "--- Working on 1-to-1 correspondence-----\n",
      "max(original_labels),len(original_labels) = (3, 4)\n",
      "empty_indices % = 0.04558042062719856\n",
      " conflict_indices % = 0.008232916697851957\n"
     ]
    },
    {
     "data": {
      "application/vnd.jupyter.widget-view+json": {
       "model_id": "8a90fec683a04998a1b435099d32c158",
       "version_major": 2,
       "version_minor": 0
      },
      "text/plain": [
       "HBox(children=(FloatProgress(value=0.0, max=8.0), HTML(value='')))"
      ]
     },
     "metadata": {},
     "output_type": "display_data"
    },
    {
     "name": "stdout",
     "output_type": "stream",
     "text": [
      "\n",
      "AFTER face_lookup_resolved_test\n"
     ]
    },
    {
     "data": {
      "application/vnd.jupyter.widget-view+json": {
       "model_id": "99b2c102728241c096897ca7732ee6b6",
       "version_major": 2,
       "version_minor": 0
      },
      "text/plain": [
       "HBox(children=(FloatProgress(value=0.0, max=4.0), HTML(value='')))"
      ]
     },
     "metadata": {},
     "output_type": "display_data"
    },
    {
     "name": "stderr",
     "output_type": "stream",
     "text": [
      "\r",
      "  0%|          | 0/1 [00:00<?, ?it/s]"
     ]
    },
    {
     "name": "stdout",
     "output_type": "stream",
     "text": [
      "\n",
      "Deleting branches from dictionary\n",
      " Finished with (2, 0) \n",
      "\n",
      "\n",
      "\n",
      "Time for decomp of Limb 8 = 24.10991621017456\n",
      "\n",
      "\n",
      "----- Working on Proper Limb #9 ---------\n",
      "Time for preparing soma vertices and root: 0.0002453327178955078\n",
      "smooth_neighborhood = 1\n"
     ]
    },
    {
     "data": {
      "application/vnd.jupyter.widget-view+json": {
       "model_id": "1c9a31d8e3aa4491905ef0c570867f0d",
       "version_major": 2,
       "version_minor": 0
      },
      "text/plain": [
       "HBox(children=(FloatProgress(value=0.0, max=1131.0), HTML(value='')))"
      ]
     },
     "metadata": {},
     "output_type": "display_data"
    },
    {
     "name": "stderr",
     "output_type": "stream",
     "text": [
      "\r",
      "100%|██████████| 1/1 [00:00<00:00, 37.21it/s]"
     ]
    },
    {
     "name": "stdout",
     "output_type": "stream",
     "text": [
      "\n",
      "Time for 1st pass MP skeletonization: 0.052223920822143555\n",
      "branches_touching_root = [0]\n",
      "empty_indices % = 0.0\n",
      " conflict_indices % = 0.0\n"
     ]
    },
    {
     "name": "stderr",
     "output_type": "stream",
     "text": [
      "\n"
     ]
    },
    {
     "data": {
      "application/vnd.jupyter.widget-view+json": {
       "model_id": "3c467eb1688043b6abbf509c267109f3",
       "version_major": 2,
       "version_minor": 0
      },
      "text/plain": [
       "HBox(children=(FloatProgress(value=1.0, bar_style='info', layout=Layout(width='20px'), max=1.0), HTML(value=''…"
      ]
     },
     "metadata": {},
     "output_type": "display_data"
    },
    {
     "name": "stdout",
     "output_type": "stream",
     "text": [
      "\n",
      "AFTER face_lookup_resolved_test\n"
     ]
    },
    {
     "data": {
      "application/vnd.jupyter.widget-view+json": {
       "model_id": "b209dce57d404837b16271ee1775234a",
       "version_major": 2,
       "version_minor": 0
      },
      "text/plain": [
       "HBox(children=(FloatProgress(value=0.0, max=1.0), HTML(value='')))"
      ]
     },
     "metadata": {},
     "output_type": "display_data"
    },
    {
     "name": "stdout",
     "output_type": "stream",
     "text": [
      "\n",
      "Decomposing first pass: 0.07973146438598633\n",
      "Found len(mesh_large_idx) MAP candidates: [2218]\n",
      "mesh_large_connectivity: 0.00011992454528808594\n",
      "Finding MAP candidates connected components: 6.67572021484375e-05\n",
      "len(filtered_pieces) = 1\n",
      "skeleton_connectivity_MP : 0.002105236053466797\n",
      "Grouping MP Sublimbs by Graph: 5.078315734863281e-05\n",
      "Divinding into MP and MAP pieces: 1.6689300537109375e-06\n",
      "--- Working on MAP piece 0---\n",
      "MAP Filtering Soma Pieces: 0.0019011497497558594\n",
      "inside skeletonize_connected_branch and use_surface_after_CGAL=False\n",
      "     Starting Screened Poisson\n",
      "xvfb-run -n 1196 -s \"-screen 0 800x600x24\" meshlabserver $@  -i /notebooks/Platinum_Decomp_Fusion/temp/None.off -o /notebooks/Platinum_Decomp_Fusion/temp/None_poisson.off -s /notebooks/Platinum_Decomp_Fusion/temp/poisson_372639.mls\n",
      "removed temporary input file: /notebooks/Platinum_Decomp_Fusion/temp/None.off\n",
      "removed temporary output file: /notebooks/Platinum_Decomp_Fusion/temp/None_poisson.off\n",
      "Using the close holes feature\n",
      "xvfb-run -n 9541 -s \"-screen 0 800x600x24\" meshlabserver $@  -i /notebooks/Platinum_Decomp_Fusion/temp/neuron_857.off -o /notebooks/Platinum_Decomp_Fusion/temp/neuron_857_fill_holes.off -s /notebooks/Platinum_Decomp_Fusion/temp/fill_holes_982837.mls\n",
      "removed temporary input file: /notebooks/Platinum_Decomp_Fusion/temp/neuron_857.off\n",
      "removed temporary output file: /notebooks/Platinum_Decomp_Fusion/temp/neuron_857_fill_holes.off\n",
      "-----Time for Screened Poisson= 5.751282453536987\n",
      "     Starting Calcification\n",
      "Before mesh subtraction number of skeleton edges = 22\n",
      "Inside mesh subtraction, len(main_mesh_bbox_restricted.faces) = 1770\n"
     ]
    },
    {
     "data": {
      "application/vnd.jupyter.widget-view+json": {
       "model_id": "7e20998485d844c1bff74ec95a506f0e",
       "version_major": 2,
       "version_minor": 0
      },
      "text/plain": [
       "HBox(children=(FloatProgress(value=1.0, bar_style='info', layout=Layout(width='20px'), max=1.0), HTML(value=''…"
      ]
     },
     "metadata": {},
     "output_type": "display_data"
    },
    {
     "name": "stdout",
     "output_type": "stream",
     "text": [
      "\n",
      "Total Mesh subtraction time = 0.1213\n"
     ]
    },
    {
     "data": {
      "application/vnd.jupyter.widget-view+json": {
       "model_id": "2e339745be5b49cea37b9c75a6e18e4b",
       "version_major": 2,
       "version_minor": 0
      },
      "text/plain": [
       "HBox(children=(FloatProgress(value=1.0, bar_style='info', layout=Layout(width='20px'), max=1.0), HTML(value=''…"
      ]
     },
     "metadata": {},
     "output_type": "display_data"
    },
    {
     "name": "stdout",
     "output_type": "stream",
     "text": [
      "\n",
      "No skeletons to stack so returning empty list\n",
      "len_subgraphs AT BEGINNING of the loop\n"
     ]
    },
    {
     "data": {
      "application/vnd.jupyter.widget-view+json": {
       "model_id": "4d0f440e742842cf8d229267064f8021",
       "version_major": 2,
       "version_minor": 0
      },
      "text/plain": [
       "HBox(children=(FloatProgress(value=0.0, max=1.0), HTML(value='')))"
      ]
     },
     "metadata": {},
     "output_type": "display_data"
    },
    {
     "name": "stdout",
     "output_type": "stream",
     "text": [
      "all graph is one component!\n",
      "\n",
      "Total time for skeleton stitching = 0.021381378173828125\n",
      "The process was using a temp folder\n",
      "    Total time for skeletonizing branch: 6.1172027587890625\n",
      "skipping soma 0 because closest skeleton node was already end node\n",
      "    Total time for Fixing Skeleton Soma Endpoint Extension : 0.11979174613952637\n",
      "filter_end_node_length = 4001\n",
      "Using Distance measure skeletal_distance\n",
      "Going to ignore certain endnodes that are 5000 nm close to soma border vertices\n",
      "Number of end_nodes BEFORE filtering = 2\n",
      "Using an already specified end node: 0 with index 0checking was correct node end_nodes[index] = 0\n",
      "May Eliminate end_node 0: 0 because path_len to soma border was 2536.40337961566\n",
      "single_node_to_eliminate = 0\n",
      "all_single_nodes_to_eliminate = [0, 0]\n",
      "no small end nodes to get rid of so returning whole skeleton\n",
      "********COMBINING CLOSE SKELETON NODES WITHIN 700 DISTANCE**********\n",
      "Found 0 valid paths to replace\n",
      "valid_paths = []\n",
      "valid_path_lengths = []\n",
      "No valid paths found so just returning the original\n",
      "skeletonize_and_clean_connected_branch_CGAL: 6.274845361709595\n",
      "Working on limb correspondence for #0 MAP piece\n"
     ]
    },
    {
     "data": {
      "application/vnd.jupyter.widget-view+json": {
       "model_id": "b3ba71408142413e98de747eba07f4d4",
       "version_major": 2,
       "version_minor": 0
      },
      "text/plain": [
       "HBox(children=(FloatProgress(value=1.0, bar_style='info', layout=Layout(width='20px'), max=1.0), HTML(value=''…"
      ]
     },
     "metadata": {},
     "output_type": "display_data"
    },
    {
     "name": "stdout",
     "output_type": "stream",
     "text": [
      "\n",
      "Total time for decomposition = 0.16833043098449707\n",
      "mesh_correspondence_first_pass: 0.16837573051452637\n",
      "Limb decomposed into 1 branches\n",
      "divided_skeleton_graph_recovered = (21, 2, 3) and \n",
      "current_mesh_data[0]['branch_skeletons_cleaned'].shape = (21, 2, 3)\n",
      "\n",
      "Number of connected components in deocmposed recovered graph = 1\n",
      "Number of connected components in cleaned skeleton graph= 1\n",
      "The downsampled branches number of connected components = 1\n",
      "Empty submeshes = []\n",
      "\n",
      "\n",
      "--- Working on 1-to-1 correspondence-----\n",
      "max(original_labels),len(original_labels) = (0, 1)\n",
      "empty_indices % = 0.19792605951307485\n",
      " conflict_indices % = 0.0\n"
     ]
    },
    {
     "data": {
      "application/vnd.jupyter.widget-view+json": {
       "model_id": "3f2cb3aa933c468d90cbdb01e434d8b5",
       "version_major": 2,
       "version_minor": 0
      },
      "text/plain": [
       "HBox(children=(FloatProgress(value=0.0, max=2.0), HTML(value='')))"
      ]
     },
     "metadata": {},
     "output_type": "display_data"
    },
    {
     "name": "stdout",
     "output_type": "stream",
     "text": [
      "\n",
      "AFTER face_lookup_resolved_test\n",
      "Took 0 iterations to expand the label back\n"
     ]
    },
    {
     "data": {
      "application/vnd.jupyter.widget-view+json": {
       "model_id": "453b5b1cc5194ed9993874295b8909c3",
       "version_major": 2,
       "version_minor": 0
      },
      "text/plain": [
       "HBox(children=(FloatProgress(value=0.0, max=1.0), HTML(value='')))"
      ]
     },
     "metadata": {},
     "output_type": "display_data"
    },
    {
     "name": "stdout",
     "output_type": "stream",
     "text": [
      "\n",
      "Total time for MAP sublimb #0 mesh processing = 6.552562713623047\n",
      "correspondence_1_to_1: 0.1075284481048584\n",
      "Total time for MAP sublimb processing 6.552903890609741\n",
      "***************Arrived at MESH PIECES FOR MAP AND mp***************\n",
      "There were not both MAP and MP pieces so skipping the stitch resolving phase\n",
      "Time for decomp of Limb 9 = 6.688058137893677\n",
      "Total time for all limb decomps = 1003.1977350711823\n"
     ]
    }
   ],
   "source": [
    "sk = reload(sk)\n",
    "tu = reload(tu)\n",
    "cu = reload(cu)\n",
    "m_sk = reload(m_sk)\n",
    "\n",
    "proper_limb_mesh_correspondence_MAP = dict()\n",
    "proper_limb_mesh_correspondence_MP = dict()\n",
    "limb_to_endpoints_must_keep_list = dict()\n",
    "\n",
    "#For controlling which pieces are MAP\n",
    "width_threshold = 450\n",
    "size_threshold = 1000\n",
    "\n",
    "verbose = True\n",
    "\n",
    "proper_time = time.time()\n",
    "print_fusion_steps=True\n",
    "\n",
    "#parameter for CGAL skeletonization\n",
    "use_surface_after_CGAL=False\n",
    "\n",
    "#parameters for the stitching:\n",
    "\n",
    "move_MAP_stitch_to_end_or_branch = True\n",
    "distance_to_move_point_threshold=500\n",
    "\n",
    "\n",
    "\n",
    "for curr_limb_idx,limb_mesh_mparty in enumerate(current_mesh_data[0][\"branch_meshes\"]):\n",
    "    \n",
    "#     if curr_limb_idx != 3:\n",
    "#         continue\n",
    "    \n",
    "    curr_limb_time = time.time()\n",
    "    print(f\"\\n\\n----- Working on Proper Limb #{curr_limb_idx} ---------\")\n",
    "    \n",
    "    #will store a list of all the endpoints tha tmust be kept:\n",
    "    limb_to_endpoints_must_keep_list[curr_limb_idx] = []\n",
    "    \n",
    "    \n",
    "    \n",
    "    fusion_time = time.time()\n",
    "    # Doing the first pass of surface skeletonization\n",
    "    total_border_vertices = dict()\n",
    "    for l_idx,s_dict in piece_to_soma_touching_vertices.items():\n",
    "        local_b_verts = []\n",
    "        for sm_idx,sm_bord_verts in s_dict.items():\n",
    "            local_b_verts.append(np.vstack(sm_bord_verts))\n",
    "        total_border_vertices[l_idx] = np.vstack(local_b_verts)\n",
    "\n",
    "    #will eventually get the current root from soma_to_piece_touching_vertices[i]\n",
    "    root_curr = total_border_vertices[curr_limb_idx][0]\n",
    "    if print_fusion_steps:\n",
    "        print(f\"Time for preparing soma vertices and root: {time.time() - fusion_time }\")\n",
    "        fusion_time = time.time()\n",
    "    \n",
    "    sk_meshparty_obj = m_sk.skeletonize_mesh_largest_component(limb_mesh_mparty,\n",
    "                                                            root=root_curr,\n",
    "                                                              filter_mesh=False)\n",
    "\n",
    "    if print_fusion_steps:\n",
    "        print(f\"Time for 1st pass MP skeletonization: {time.time() - fusion_time }\")\n",
    "        fusion_time = time.time()\n",
    "        \n",
    "    (segment_branches, #skeleton branches\n",
    "    divided_submeshes, divided_submeshes_idx, #mesh correspondence (mesh and indices)\n",
    "    segment_widths_median) = m_sk.skeleton_obj_to_branches(sk_meshparty_obj,\n",
    "                                                          mesh = limb_mesh_mparty,\n",
    "                                                          meshparty_segment_size=meshparty_segment_size)\n",
    "    \n",
    "    \n",
    "    if print_fusion_steps:\n",
    "        print(f\"Decomposing first pass: {time.time() - fusion_time }\")\n",
    "        fusion_time = time.time()\n",
    "    \n",
    "    \n",
    "    \n",
    "\n",
    "\n",
    "    #gettin the branches that should be passed through MAP skeletonization\n",
    "    pieces_above_threshold = np.where(segment_widths_median>width_threshold)[0]\n",
    "\n",
    "    #getting the correspondnece info for those MAP qualifying\n",
    "    width_large = segment_widths_median[pieces_above_threshold]\n",
    "    sk_large = [segment_branches[k] for k in pieces_above_threshold]\n",
    "    mesh_large_idx = [divided_submeshes_idx[k] for k in pieces_above_threshold]\n",
    "    \n",
    "    \n",
    "\n",
    "    mesh_pieces_for_MAP = []\n",
    "\n",
    "    if len(mesh_large_idx) > 0: #will only continue processing if found MAP candidates\n",
    "        \n",
    "        print(f\"Found len(mesh_large_idx) MAP candidates: {[len(k) for k in mesh_large_idx]}\")\n",
    "        \n",
    "        #finds the connectivity edges of all the MAP candidates\n",
    "        mesh_large_connectivity = tu.mesh_list_connectivity(meshes = mesh_large_idx,\n",
    "                                main_mesh = limb_mesh_mparty,\n",
    "                                print_flag = False)\n",
    "        if print_fusion_steps:\n",
    "            print(f\"mesh_large_connectivity: {time.time() - fusion_time }\")\n",
    "            fusion_time = time.time()\n",
    "        \"\"\"\n",
    "        --------------- Grouping MAP candidates ----------------\n",
    "        Purpose: Will see what mesh pieces should be grouped together\n",
    "        to pass through CGAL skeletonization\n",
    "\n",
    "\n",
    "        Pseudocode: \n",
    "        1) build a networkx graph with all nodes for mesh_large_idx indexes\n",
    "        2) Add the edges\n",
    "        3) Find the connected components\n",
    "        4) Find sizes of connected components\n",
    "        5) For all those connected components that are of a large enough size, \n",
    "        add the mesh branches and skeletons to the final list\n",
    "\n",
    "\n",
    "        \"\"\"\n",
    "        G = nx.Graph()\n",
    "        G.add_nodes_from(np.arange(len(mesh_large_idx)))\n",
    "        G.add_edges_from(mesh_large_connectivity)\n",
    "        conn_comp = list(nx.connected_components(G))\n",
    "\n",
    "        filtered_pieces = []\n",
    "\n",
    "        sk_large_size_filt = []\n",
    "        mesh_large_idx_size_filt = []\n",
    "        width_large_size_filt = []\n",
    "\n",
    "        for cc in conn_comp:\n",
    "            total_cc_size = np.sum([len(mesh_large_idx[k]) for k in cc])\n",
    "            if total_cc_size>size_threshold:\n",
    "                #print(f\"cc ({cc}) passed the size threshold because size was {total_cc_size}\")\n",
    "                filtered_pieces.append(pieces_above_threshold[list(cc)])\n",
    "                \n",
    "        if print_fusion_steps:\n",
    "            print(f\"Finding MAP candidates connected components: {time.time() - fusion_time }\")\n",
    "            fusion_time = time.time()\n",
    "\n",
    "        #filtered_pieces: will have the indexes of all the branch candidates that should  be \n",
    "        #grouped together and passed through MAP skeletonization\n",
    "\n",
    "        if len(filtered_pieces) > 0:\n",
    "            print(f\"len(filtered_pieces) = {len(filtered_pieces)}\")\n",
    "            #all the pieces that will require MAP mesh correspondence and skeletonization\n",
    "            #(already organized into their components)\n",
    "            mesh_pieces_for_MAP = [limb_mesh_mparty.submesh([np.concatenate(divided_submeshes_idx[k])],append=True,repair=False) for k in filtered_pieces]\n",
    "            mesh_pieces_for_MAP_face_idx = [np.concatenate(divided_submeshes_idx[k]) for k in filtered_pieces]\n",
    "            \n",
    "            pieces_idx_MP = np.setdiff1d(np.arange(len(divided_submeshes_idx)),np.concatenate(filtered_pieces))\n",
    "\n",
    "            \"\"\"\n",
    "            Old Way: Finding connectivity of pieces through\n",
    "            mesh_idx_MP = [divided_submeshes_idx[k] for k in pieces_idx_MP]\n",
    "\n",
    "            mesh_large_connectivity_MP = tu.mesh_list_connectivity(meshes = mesh_idx_MP,\n",
    "                                    main_mesh = limb_mesh_mparty,\n",
    "                                    print_flag = False)\n",
    "\n",
    "            New Way: going to use skeleton connectivity to determine\n",
    "            connectivity of pieces\n",
    "\n",
    "            Pseudocode: \n",
    "            1)\n",
    "\n",
    "            \"\"\"\n",
    "\n",
    "            skeleton_MP = [segment_branches[k] for k in pieces_idx_MP]\n",
    "            skeleton_connectivity_MP = sk.skeleton_list_connectivity(\n",
    "                                            skeletons=skeleton_MP\n",
    "                                            )\n",
    "            if print_fusion_steps:\n",
    "                print(f\"skeleton_connectivity_MP : {time.time() - fusion_time }\")\n",
    "                fusion_time = time.time()\n",
    "\n",
    "            G = nx.Graph()\n",
    "            G.add_nodes_from(np.arange(len(skeleton_MP)))\n",
    "            G.add_edges_from(skeleton_connectivity_MP)\n",
    "            sublimbs_MP = list(nx.connected_components(G))\n",
    "            sublimbs_MP_orig_idx = [pieces_idx_MP[list(k)] for k in sublimbs_MP]\n",
    "\n",
    "\n",
    "            #concatenate into sublimbs the skeletons and meshes\n",
    "            sublimb_mesh_idx_branches_MP = [divided_submeshes_idx[k] for k in sublimbs_MP_orig_idx]\n",
    "            sublimb_mesh_branches_MP = [[limb_mesh_mparty.submesh([ki],append=True,repair=False)\n",
    "                                        for ki in k] for k in sublimb_mesh_idx_branches_MP]\n",
    "            sublimb_meshes_MP = [limb_mesh_mparty.submesh([np.concatenate(k)],append=True,repair=False)\n",
    "                                                         for k in sublimb_mesh_idx_branches_MP]\n",
    "            sublimb_meshes_MP_face_idx = [np.concatenate(k)\n",
    "                                                         for k in sublimb_mesh_idx_branches_MP]\n",
    "            sublimb_skeleton_branches = [segment_branches[k] for k in sublimbs_MP_orig_idx]\n",
    "            widths_MP = [segment_widths_median[k] for k in sublimbs_MP_orig_idx]\n",
    "            \n",
    "            if print_fusion_steps:\n",
    "                print(f\"Grouping MP Sublimbs by Graph: {time.time() - fusion_time }\")\n",
    "                fusion_time = time.time()\n",
    "\n",
    "    # else: #if no pieces were determine to need MAP processing\n",
    "    #     print(\"No MAP processing needed: just returning the Meshparty skeletonization and mesh correspondence\")\n",
    "    #     raise Exception(\"Returning MP correspondence\")\n",
    "\n",
    "\n",
    "    # nviz.plot_objects(main_mesh=tu.combine_meshes([limb_mesh_mparty,current_neuron[\"S0\"].mesh]),\n",
    "    #                   main_mesh_color=\"green\",\n",
    "    #     skeletons=sk_large_size_filt,\n",
    "    #      meshes=[limb_mesh_mparty.submesh([k],append=True) for k in mesh_large_idx_size_filt],\n",
    "    #       meshes_colors=\"red\")\n",
    "    \n",
    "    \n",
    "    \n",
    "    \n",
    "    \n",
    "    \n",
    "    \n",
    "    \n",
    "    \n",
    "    \n",
    "    #if no sublimbs need to be decomposed with MAP then just reassign all of the previous MP processing to the sublimb_MPs\n",
    "    if len(mesh_pieces_for_MAP) == 0:\n",
    "        sublimb_meshes_MP = [limb_mesh_mparty] #trimesh pieces that have already been passed through MP skeletonization (may not need)\n",
    "        # -- the decomposition information ---\n",
    "        sublimb_mesh_branches_MP = [divided_submeshes] #the mesh branches for all the disconnected sublimbs\n",
    "        sublimb_mesh_idx_branches_MP = [divided_submeshes_idx] #The mesh branches idx that have already passed through MP skeletonization\n",
    "        sublimb_skeleton_branches = [segment_branches]#the skeleton bnraches for all the sublimbs\n",
    "        widths_MP = [segment_widths_median] #the mesh branches widths for all the disconnected groups\n",
    "\n",
    "        MAP_flag = False\n",
    "    else:\n",
    "        MAP_flag = True\n",
    "\n",
    "    \n",
    "\n",
    "    mesh_pieces_for_MAP #trimesh pieces that should go through CGAL skeletonization\n",
    "    sublimb_meshes_MP #trimesh pieces that have already been passed through MP skeletonization (may not need)\n",
    "\n",
    "    # -- the decomposition information ---\n",
    "    sublimb_mesh_branches_MP #the mesh branches for all the disconnected sublimbs\n",
    "    sublimb_mesh_idx_branches_MP #The mesh branches idx that have already passed through MP skeletonization\n",
    "    sublimb_skeleton_branches #the skeleton bnraches for all the sublimbs\n",
    "    widths_MP #the mesh branches widths for all the disconnected groups\n",
    "    \n",
    "    if print_fusion_steps:\n",
    "        print(f\"Divinding into MP and MAP pieces: {time.time() - fusion_time }\")\n",
    "        fusion_time = time.time()\n",
    "\n",
    "    \n",
    "    \n",
    "    # ------------------- At this point have the correct division between MAP and MP ------------------------\n",
    "    \n",
    "    # -------------- Doing the MAP decomposition ------------------ #\n",
    "    global_start_time = time.time()\n",
    "    endpoints_must_keep = dict()\n",
    "\n",
    "    perform_cleaning_checks = False\n",
    "\n",
    "    limb_correspondence_MAP = dict()\n",
    "    \n",
    "    for sublimb_idx,(mesh,mesh_idx) in enumerate(zip(mesh_pieces_for_MAP,mesh_pieces_for_MAP_face_idx)):\n",
    "        print(f\"--- Working on MAP piece {sublimb_idx}---\")\n",
    "        mesh_start_time = time.time()\n",
    "        curr_soma_to_piece_touching_vertices = pre.filter_soma_touching_vertices_dict_by_mesh(\n",
    "        mesh = mesh,\n",
    "        curr_piece_to_soma_touching_vertices = piece_to_soma_touching_vertices[curr_limb_idx]\n",
    "        )\n",
    "        \n",
    "        if print_fusion_steps:\n",
    "            print(f\"MAP Filtering Soma Pieces: {time.time() - fusion_time }\")\n",
    "            fusion_time = time.time()\n",
    "\n",
    "        # ---- 0) Generating the Clean skeletons  -------------------------------------------#\n",
    "        if not curr_soma_to_piece_touching_vertices is None:\n",
    "            total_border_vertices = dict([(k,np.vstack(v)) for k,v in curr_soma_to_piece_touching_vertices.items()])\n",
    "\n",
    "        cleaned_branch,curr_limb_endpoints_must_keep = sk.skeletonize_and_clean_connected_branch_CGAL(\n",
    "            mesh=mesh,\n",
    "            curr_soma_to_piece_touching_vertices=curr_soma_to_piece_touching_vertices,\n",
    "            total_border_vertices=total_border_vertices,\n",
    "            filter_end_node_length=filter_end_node_length,\n",
    "            perform_cleaning_checks=perform_cleaning_checks,\n",
    "            combine_close_skeleton_nodes = combine_close_skeleton_nodes,\n",
    "            combine_close_skeleton_nodes_threshold=combine_close_skeleton_nodes_threshold,\n",
    "        use_surface_after_CGAL=use_surface_after_CGAL)\n",
    "        \n",
    "        limb_to_endpoints_must_keep_list[curr_limb_idx].append(curr_limb_endpoints_must_keep)\n",
    "\n",
    "        if len(cleaned_branch) == 0:\n",
    "            raise Exception(f\"Found a zero length skeleton for limb {z} of trmesh {branch}\")\n",
    "            \n",
    "        if print_fusion_steps:\n",
    "            print(f\"skeletonize_and_clean_connected_branch_CGAL: {time.time() - fusion_time }\")\n",
    "            fusion_time = time.time()\n",
    "\n",
    "        # ---- 1) Generating Initial Mesh Correspondence -------------------------------------------#\n",
    "        start_time = time.time()\n",
    "\n",
    "        print(f\"Working on limb correspondence for #{sublimb_idx} MAP piece\")\n",
    "        local_correspondence = pre.mesh_correspondence_first_pass(mesh=mesh,\n",
    "                                                             skeleton=cleaned_branch,\n",
    "                                                             distance_by_mesh_center=distance_by_mesh_center)\n",
    "\n",
    "\n",
    "        print(f\"Total time for decomposition = {time.time() - start_time}\")\n",
    "        if print_fusion_steps:\n",
    "            print(f\"mesh_correspondence_first_pass: {time.time() - fusion_time }\")\n",
    "            fusion_time = time.time()\n",
    "\n",
    "\n",
    "        #------------- 2) Doing Some checks on the initial corespondence -------- #\n",
    "\n",
    "        perform_cleaning_checks = True       \n",
    "        if perform_cleaning_checks:\n",
    "            pre.check_skeletonization_and_decomp(skeleton=cleaned_branch,\n",
    "                                            local_correspondence=local_correspondence)\n",
    "\n",
    "        # -------3) Finishing off the face correspondence so get 1-to-1 correspondence of mesh face to skeletal piece\n",
    "        local_correspondence_revised = pre.correspondence_1_to_1(mesh=mesh,\n",
    "                                        local_correspondence=local_correspondence,\n",
    "                                        curr_limb_endpoints_must_keep=curr_limb_endpoints_must_keep,\n",
    "                                        curr_soma_to_piece_touching_vertices=curr_soma_to_piece_touching_vertices)\n",
    "        \n",
    "        # -------3b) Fixing the mesh indices to correspond to the larger mesh as a whole\n",
    "        for k,v in local_correspondence_revised.items():\n",
    "            local_correspondence_revised[k][\"branch_face_idx\"] = mesh_idx[local_correspondence_revised[k][\"branch_face_idx\"]]\n",
    "        \n",
    "        print(f\"Total time for MAP sublimb #{sublimb_idx} mesh processing = {time.time() - mesh_start_time}\")\n",
    "        \n",
    "        if print_fusion_steps:\n",
    "            print(f\"correspondence_1_to_1: {time.time() - fusion_time }\")\n",
    "            fusion_time = time.time()\n",
    "\n",
    "        limb_correspondence_MAP[sublimb_idx] = local_correspondence_revised\n",
    "\n",
    "    print(f\"Total time for MAP sublimb processing {time.time() - global_start_time}\")\n",
    "\n",
    "    \n",
    "\n",
    "    \n",
    "    \n",
    "    # ----------------- Part B: Doing the MP Decomposition ---------------------- #\n",
    "    \n",
    "    \n",
    "    \n",
    "    \n",
    "    sublimb_meshes_MP #trimesh pieces that have already been passed through MP skeletonization (may not need)\n",
    "    # -- the decomposition information ---\n",
    "    sublimb_mesh_branches_MP #the mesh branches for all the disconnected sublimbs\n",
    "    sublimb_mesh_idx_branches_MP #The mesh branches idx that have already passed through MP skeletonization\n",
    "    sublimb_skeleton_branches #the skeleton bnraches for all the sublimbs\n",
    "    widths_MP #the mesh branches widths for all the disconnected groups\n",
    "\n",
    "    limb_correspondence_MP = dict()\n",
    "\n",
    "    print(\"***************Arrived at MESH PIECES FOR MAP AND mp***************\")\n",
    "    for sublimb_idx,mesh in enumerate(sublimb_meshes_MP):\n",
    "        print(f\"---- Working on MP Decomposition #{sublimb_idx} ----\")\n",
    "        mesh_start_time = time.time()\n",
    "\n",
    "        if len(sublimb_meshes_MP) == 1 and MAP_flag == False:\n",
    "            print(\"Using Quicker soma_to_piece_touching_vertices because no MAP and only one sublimb_mesh piece \")\n",
    "            curr_soma_to_piece_touching_vertices = piece_to_soma_touching_vertices[curr_limb_idx]\n",
    "        else:\n",
    "            curr_soma_to_piece_touching_vertices = pre.filter_soma_touching_vertices_dict_by_mesh(\n",
    "                                                mesh = mesh,\n",
    "                                                curr_piece_to_soma_touching_vertices = piece_to_soma_touching_vertices[curr_limb_idx]\n",
    "                                                )\n",
    "            \n",
    "        if print_fusion_steps:\n",
    "            print(f\"MP filtering soma verts: {time.time() - fusion_time }\")\n",
    "            fusion_time = time.time()\n",
    "\n",
    "        #creating all of the sublimb groups\n",
    "        segment_branches = sublimb_skeleton_branches[sublimb_idx]\n",
    "        whole_sk_MP = sk.stack_skeletons(segment_branches)\n",
    "        branch = mesh\n",
    "        divided_submeshes = sublimb_mesh_branches_MP[sublimb_idx]\n",
    "        divided_submeshes_idx = sublimb_mesh_idx_branches_MP[sublimb_idx]\n",
    "        segment_widths_median = widths_MP[sublimb_idx]\n",
    "\n",
    "        if curr_soma_to_piece_touching_vertices is None:\n",
    "            print(f\"Do Not Need to Fix MP Decomposition {sublimb_idx} so just continuing\")\n",
    "\n",
    "        else:\n",
    "            print(f\"Fixing Possible Soma Extension Branch for Sublimb {sublimb_idx}\")\n",
    "\n",
    "            #If there is some soma touching then need to see if have to fix soma extending pieces\n",
    "            return_info = sk.create_soma_extending_branches(current_skeleton=whole_sk_MP,\n",
    "                                      skeleton_mesh=branch,\n",
    "                                      soma_to_piece_touching_vertices=curr_soma_to_piece_touching_vertices,\n",
    "                                      return_endpoints_must_keep=True,\n",
    "                                         return_created_branch_info=True)\n",
    "            new_sk,endpts,new_branch_info = return_info\n",
    "\n",
    "            if print_fusion_steps:\n",
    "                print(f\"MP (because soma touching verts) create_soma_extending_branches: {time.time() - fusion_time }\")\n",
    "                fusion_time = time.time()\n",
    "\n",
    "            no_soma_extension_add = True\n",
    "            for sm_idx in new_branch_info.keys():\n",
    "                for b_vert_idx,br_info in enumerate(new_branch_info[sm_idx]):\n",
    "                    if br_info is None:\n",
    "                        continue\n",
    "                    no_soma_extension_add=False\n",
    "\n",
    "\n",
    "                    #1) Get the newly added branch (and the original vertex which is the first row)\n",
    "                    br_new,sm_bord_verts = br_info[\"new_branch\"],br_info[\"border_verts\"] #this will hold the new branch and the border vertices corresponding to it\n",
    "\n",
    "                    curr_soma_to_piece_touching_vertices_MP = {sm_idx:[sm_bord_verts]}\n",
    "                    endpoints_must_keep_MP = {sm_idx:[br_new[0][1]]}\n",
    "                    \n",
    "                    \n",
    "                    limb_to_endpoints_must_keep_list[curr_limb_idx].append(endpoints_must_keep_MP)\n",
    "\n",
    "                    orig_vertex = br_new[0][0]\n",
    "\n",
    "                    #2) Find the branches that have that coordinate (could be multiple)\n",
    "                    match_sk_branches = sk.find_branch_skeleton_with_specific_coordinate(segment_branches,\n",
    "                        current_coordinate=orig_vertex)\n",
    "\n",
    "                    #2b) If multiple branches: Pick a winning branch that has the most of the\n",
    "                    #    soma touching vertices\n",
    "                    if len(match_sk_branches) > 1:\n",
    "                        bord_verts_tree = KDTree(sm_bord_verts.reshape(-1,3))\n",
    "                        winning_branch = match_sk_branches[0]\n",
    "                        dist,_ = bord_verts_tree.query(divided_submeshes[winning_branch].vertices)\n",
    "                        winning_branch_n_bord_verts = np.sum(dist == 0)\n",
    "\n",
    "                        for i in range(1,len(match_sk_branches)):\n",
    "                            curr_branch = match_sk_branches[i]\n",
    "                            dist,_ = bord_verts_tree.query(divided_submeshes[winning_branch].vertices)\n",
    "                            n_bord_verts = np.sum(dist == 0)\n",
    "                            if n_bord_verts>winning_branch_n_bord_verts:\n",
    "                                winning_branch_n_bord_verts = n_bord_verts\n",
    "                                winning_branch = curr_branch\n",
    "                    elif len(match_sk_branches) == 1:\n",
    "                        winning_branch = match_sk_branches[0]\n",
    "                    else:\n",
    "                        raise Exception(\"No matching branches found for soma extending point\")\n",
    "\n",
    "                    if verbose:\n",
    "                        print(f\"Winning Branch = {winning_branch}\")\n",
    "\n",
    "                    #3) Find the mesh and skeleton of the winning branch\n",
    "                    winning_branch_mesh = divided_submeshes[winning_branch]\n",
    "                    winning_branch_mesh_idx = divided_submeshes_idx[winning_branch]\n",
    "                    winning_branch_sk = segment_branches[winning_branch]\n",
    "\n",
    "                    #4) Add newly created branch to skeleton and divide the skeleton into branches (could make 2 or 3)\n",
    "                    extended_skeleton_to_soma = sk.stack_skeletons([winning_branch_sk,br_new])\n",
    "                    soma_extending_branches = sk.decompose_skeleton_to_branches(extended_skeleton_to_soma)\n",
    "\n",
    "                    #5) Run Adaptive mesh correspondnece using branches and mesh\n",
    "                    local_correspondnece_MP = pre.mesh_correspondence_first_pass(mesh=winning_branch_mesh,\n",
    "                                                  skeleton=extended_skeleton_to_soma)\n",
    "\n",
    "                    local_correspondence_revised = pre.correspondence_1_to_1(mesh=winning_branch_mesh,\n",
    "                                                                local_correspondence=local_correspondnece_MP,\n",
    "                                                                curr_limb_endpoints_must_keep=endpoints_must_keep_MP,\n",
    "                                                                curr_soma_to_piece_touching_vertices=curr_soma_to_piece_touching_vertices_MP)\n",
    "\n",
    "                    # All the things that should be revised:\n",
    "                #     segment_branches, #skeleton branches\n",
    "                #     divided_submeshes, divided_submeshes_idx, #mesh correspondence (mesh and indices)\n",
    "                #     segment_widths_median\n",
    "\n",
    "\n",
    "                    new_submeshes = [k[\"branch_mesh\"] for k in local_correspondence_revised.values()]\n",
    "                    new_submeshes_idx = [winning_branch_mesh_idx[k[\"branch_face_idx\"]] for k in local_correspondence_revised.values()]\n",
    "                    new_skeletal_branches = [k[\"branch_skeleton\"] for k in local_correspondence_revised.values()]\n",
    "\n",
    "                    #calculate the new width\n",
    "                    ray_inter = tu.ray_pyembree.RayMeshIntersector(limb_mesh_mparty)\n",
    "                    new_widths = []\n",
    "                    for new_s_idx in new_submeshes_idx:\n",
    "                        curr_ray_distance = tu.ray_trace_distance(mesh=limb_mesh_mparty, \n",
    "                                            face_inds=new_s_idx,\n",
    "                                           ray_inter=ray_inter)\n",
    "                        new_widths.append(np.median(curr_ray_distance[curr_ray_distance!=0]))\n",
    "\n",
    "\n",
    "                    #6) Remove the original branch and mesh correspondence and replace with the multiples\n",
    "                #     new_segment_branches = deepcopy(segment_branches)\n",
    "                #     new_divided_submeshes = deepcopy(divided_submeshes)\n",
    "                #     new_divided_submeshes_idx = deepcopy(divided_submeshes_idx)\n",
    "                #     new_segment_widths_median = deepcopy(segment_widths_median)\n",
    "\n",
    "                    segment_branches = np.delete(segment_branches,winning_branch)\n",
    "                    segment_branches = np.append(segment_branches,new_skeletal_branches,axis=0)\n",
    "\n",
    "                    divided_submeshes = np.delete(divided_submeshes,winning_branch)\n",
    "                    divided_submeshes = np.append(divided_submeshes,new_submeshes,axis=0)\n",
    "\n",
    "                    divided_submeshes_idx = np.delete(divided_submeshes_idx,winning_branch)\n",
    "                    divided_submeshes_idx = np.append(divided_submeshes_idx,new_submeshes_idx,axis=0)\n",
    "\n",
    "                    segment_widths_median = np.delete(segment_widths_median,winning_branch)\n",
    "                    segment_widths_median = np.append(segment_widths_median,new_widths,axis=0)\n",
    "\n",
    "\n",
    "\n",
    "\n",
    "            if no_soma_extension_add:\n",
    "                print(\"No soma extending branch was added for this sublimb even though it had a soma border (means they already existed)\")\n",
    "\n",
    "            if print_fusion_steps:\n",
    "                print(f\"MP (because soma touching verts) soma extension add: {time.time() - fusion_time }\")\n",
    "                fusion_time = time.time()\n",
    "            \n",
    "        #building the limb correspondence\n",
    "        limb_correspondence_MP[sublimb_idx] = dict()\n",
    "\n",
    "        for zz,b_sk in enumerate(segment_branches):\n",
    "            limb_correspondence_MP[sublimb_idx][zz] = dict(\n",
    "                branch_skeleton = b_sk,\n",
    "                width_from_skeleton = segment_widths_median[zz],\n",
    "                branch_mesh = divided_submeshes[zz],\n",
    "                branch_face_idx = divided_submeshes_idx[zz]\n",
    "                )\n",
    "            \n",
    "            \n",
    "            \n",
    "        \n",
    "        \n",
    "    # ------------------------------------- Part C: Will make sure the correspondences can all be stitched together --------------- #\n",
    "\n",
    "    # Only want to perform this step if both MP and MAP pieces\n",
    "    if len(limb_correspondence_MAP)>0 and len(limb_correspondence_MP)>0:\n",
    "\n",
    "\n",
    "        # ---- Doing the mesh connectivity ---------#\n",
    "        sublimb_meshes_MP = []\n",
    "        sublimb_skeletons_MP = []\n",
    "\n",
    "        for sublimb_key,sublimb_v in limb_correspondence_MP.items():\n",
    "            sublimb_meshes_MP.append(tu.combine_meshes([branch_v[\"branch_mesh\"] for branch_v in sublimb_v.values()]))\n",
    "            sublimb_skeletons_MP.append(sk.stack_skeletons([branch_v[\"branch_skeleton\"] for branch_v in sublimb_v.values()]))\n",
    "\n",
    "        sublimb_meshes_MAP = []\n",
    "        sublimb_skeletons_MAP = []\n",
    "\n",
    "        for sublimb_key,sublimb_v in limb_correspondence_MAP.items():\n",
    "            sublimb_meshes_MAP.append(tu.combine_meshes([branch_v[\"branch_mesh\"] for branch_v in sublimb_v.values()]))\n",
    "            sublimb_skeletons_MAP.append(sk.stack_skeletons([branch_v[\"branch_skeleton\"] for branch_v in sublimb_v.values()]))\n",
    "\n",
    "\n",
    "\n",
    "        mesh_conn,mesh_conn_vertex_groups = tu.mesh_list_connectivity(meshes = sublimb_meshes_MP + sublimb_meshes_MAP,\n",
    "                                            main_mesh = limb_mesh_mparty,\n",
    "                                            min_common_vertices=1,\n",
    "                                            return_vertex_connection_groups=True,\n",
    "                                            return_largest_vertex_connection_group=True,\n",
    "                                            print_flag = False)\n",
    "\n",
    "        #check that every MAP piece mapped to a MP piece\n",
    "        mesh_conn_filt = []\n",
    "        mesh_conn_vertex_groups_filt = []\n",
    "        for j,(m1,m2) in enumerate(mesh_conn):\n",
    "            if m1 < len(sublimb_meshes_MP) and m2 >=len(sublimb_meshes_MP):\n",
    "                mesh_conn_filt.append([m1,m2])\n",
    "                mesh_conn_vertex_groups_filt.append(mesh_conn_vertex_groups[j])\n",
    "        mesh_conn_filt = np.array(mesh_conn_filt)\n",
    "\n",
    "        mesh_conn = mesh_conn_filt\n",
    "        mesh_conn_vertex_groups = mesh_conn_vertex_groups_filt\n",
    "\n",
    "        #check that the mapping should create only one connected component\n",
    "        G = nx.from_edgelist(mesh_conn)\n",
    "\n",
    "        if len(G) != len(sublimb_meshes_MP) + len(sublimb_meshes_MAP):\n",
    "            raise Exception(\"Number of nodes in mesh connectivity graph is not equal to number of  MAP and MP sublimbs\")\n",
    "\n",
    "        connect_comp = list(nx.connected_components(G))\n",
    "        if len(connect_comp)>1:\n",
    "            raise Exception(f\"Mesh connectivity was not one component, instead it was ({len(connect_comp)}): {connect_comp} \")\n",
    "            \n",
    "            \n",
    "            \n",
    "\n",
    "        #adjust the connection indices for MP and MAP indices\n",
    "        mesh_conn_adjusted = np.vstack([mesh_conn[:,0],mesh_conn[:,1]-len(sublimb_meshes_MP)]).T\n",
    "\n",
    "\n",
    "\n",
    "\n",
    "\n",
    "\n",
    "        \"\"\"\n",
    "        Pseudocode:\n",
    "        For each connection edge:\n",
    "            For each vertex connection group:\n",
    "                1) Get the endpoint vertices of the MP skeleton\n",
    "                2) Find the closest endpoint vertex to the vertex connection group (this is MP stitch point)\n",
    "                3) Find the closest skeletal point on MAP pairing (MAP stitch) \n",
    "                4) Find the branches that have that MAP stitch point:\n",
    "                5A) If the number of branches corresponding to stitch point is multipled\n",
    "                    --> then we are stitching at a branching oint\n",
    "                    i) Just add the skeletal segment from MP_stitch to MAP stitch to the MP skeletal segment\n",
    "                    ii) \n",
    "\n",
    "        \"\"\"\n",
    "\n",
    "\n",
    "        for (MP_idx,MAP_idx),v_g in zip(mesh_conn_adjusted,mesh_conn_vertex_groups):\n",
    "            print(f\"\\n---- Working on {(MP_idx,MAP_idx)} connection-----\")\n",
    "\n",
    "            \"\"\"\n",
    "            This old way of getting the endpoints was not good because could possibly just need\n",
    "            a stitching done between original branch junction\n",
    "\n",
    "            skeleton_MP_graph = sk.convert_skeleton_to_graph(curr_skeleton_MP)\n",
    "            endpoint_nodes = xu.get_nodes_of_degree_k(skeleton_MP_graph,1)\n",
    "            endpoint_nodes_coordinates = xu.get_node_attributes(skeleton_MP_graph,node_list=endpoint_nodes)\n",
    "            \"\"\"\n",
    "\n",
    "\n",
    "            #getting the skeletons that should be stitched\n",
    "            curr_skeleton_MP = sk.stack_skeletons([branch_v[\"branch_skeleton\"] for branch_v in limb_correspondence_MP[MP_idx].values()])\n",
    "            curr_skeleton_MAP = sk.stack_skeletons([branch_v[\"branch_skeleton\"] for branch_v in limb_correspondence_MAP[MAP_idx].values()])\n",
    "\n",
    "            #1) Get the endpoint vertices of the MP skeleton (needs to be inside loop because limb correspondence will change)\n",
    "            curr_MP_branch_skeletons = [k[\"branch_skeleton\"] for k in limb_correspondence_MP[MP_idx].values()]\n",
    "            endpoint_nodes_coordinates = np.array([sk.find_branch_endpoints(k) for k in curr_MP_branch_skeletons])\n",
    "            endpoint_nodes_coordinates = np.unique(endpoint_nodes_coordinates.reshape(-1,3),axis=0)\n",
    "\n",
    "            #2) Find the closest endpoint vertex to the vertex connection group (this is MP stitch point)\n",
    "            av_vert = np.mean(v_g,axis=0)\n",
    "            winning_vertex = endpoint_nodes_coordinates[np.argmin(np.linalg.norm(endpoint_nodes_coordinates-av_vert,axis=1))]\n",
    "            print(f\"winning_vertex = {winning_vertex}\")\n",
    "\n",
    "\n",
    "            #2b) Find the branch points where the winning vertex is located\n",
    "            MP_branches_with_stitch_point = sk.find_branch_skeleton_with_specific_coordinate(\n",
    "                divded_skeleton=curr_MP_branch_skeletons,\n",
    "                current_coordinate = winning_vertex\n",
    "            )\n",
    "            print(f\"MP_branches_with_stitch_point = {MP_branches_with_stitch_point}\")\n",
    "\n",
    "\n",
    "            #3) Find the closest skeletal point on MAP pairing (MAP stitch)\n",
    "            MAP_skeleton_coords = np.unique(curr_skeleton_MAP.reshape(-1,3),axis=0)\n",
    "            MAP_stitch_point = MAP_skeleton_coords[np.argmin(np.linalg.norm(MAP_skeleton_coords-winning_vertex,axis=1))]\n",
    "\n",
    "\n",
    "            #3b) Consider if the stitch point is close enough to end or branch node in skeleton:\n",
    "            # and if so then reassign\n",
    "            if move_MAP_stitch_to_end_or_branch:\n",
    "                MAP_stitch_point_new,change_status = sk.move_point_to_nearest_branch_end_point_within_threshold(\n",
    "                                                        graph=curr_skeleton_MAP,\n",
    "                                                        coordinate=MAP_stitch_point,\n",
    "                                                        distance_to_move_point_threshold = distance_to_move_point_threshold,\n",
    "                                                        verbose=True\n",
    "\n",
    "                                                        )\n",
    "                MAP_stitch_point=MAP_stitch_point_new\n",
    "\n",
    "\n",
    "            #4) Find the branches that have that MAP stitch point:\n",
    "            curr_MAP_branch_skeletons = [k[\"branch_skeleton\"] for k in limb_correspondence_MAP[MAP_idx].values()]\n",
    "\n",
    "            MAP_branches_with_stitch_point = sk.find_branch_skeleton_with_specific_coordinate(\n",
    "                divded_skeleton=curr_MAP_branch_skeletons,\n",
    "                current_coordinate = MAP_stitch_point\n",
    "            )\n",
    "\n",
    "\n",
    "            MAP_stitch_point_on_end_or_branch = False\n",
    "            if len(MAP_branches_with_stitch_point)>1:\n",
    "                MAP_stitch_point_on_end_or_branch = True\n",
    "            elif len(MAP_branches_with_stitch_point)==1:\n",
    "                if len(nu.matching_rows(sk.find_branch_endpoints(curr_MAP_branch_skeletons[MAP_branches_with_stitch_point[0]]),\n",
    "                                        MAP_stitch_point))>0:\n",
    "                    MAP_stitch_point_on_end_or_branch=True\n",
    "            else:\n",
    "                raise Exception(\"No matching MAP values\")\n",
    "\n",
    "\n",
    "            print(f\"MAP_branches_with_stitch_point = {MAP_branches_with_stitch_point}\")\n",
    "            print(f\"MAP_stitch_point_on_end_or_branch = {MAP_stitch_point_on_end_or_branch}\")\n",
    "\n",
    "\n",
    "            # ------------------------- This part does the stitching -------------------- #\n",
    "\n",
    "\n",
    "            \"\"\"\n",
    "            Pseudocode:\n",
    "            1) For all MP branches\n",
    "                a) Get neighbor coordinates to MP stitch points\n",
    "                b) Delete the MP Stitch points on each \n",
    "                c) Add skeleton segment from neighbor to MAP stitch point\n",
    "            2) Get skeletons and meshes from MP and MAP pieces\n",
    "            3) Run mesh correspondence to get new meshes and mesh_idx and widths\n",
    "            4a) If MAP_stitch_point_on_end_or_branch is False\n",
    "            - Delete the old MAP branch parts and replace with new MAP ones\n",
    "            4b) Revise the meshes,  mesh_idx, and widths of the MAP pieces\n",
    "            5) Revise the meshes,  mesh_idx, and widths of the MP pieces\n",
    "\n",
    "\n",
    "            \"\"\"\n",
    "\n",
    "            curr_MP_sk = []\n",
    "            for b_idx in MP_branches_with_stitch_point:\n",
    "\n",
    "                #a) Get neighbor coordinates to MP stitch points\n",
    "                MP_stitch_branch_graph = sk.convert_skeleton_to_graph(curr_MP_branch_skeletons[b_idx])\n",
    "                stitch_node = xu.get_nodes_with_attributes_dict(MP_stitch_branch_graph,dict(coordinates=winning_vertex))[0]\n",
    "                stitch_neighbors = xu.get_neighbors(MP_stitch_branch_graph,stitch_node)\n",
    "\n",
    "                if len(stitch_neighbors) != 1:\n",
    "                    raise Exception(\"Not just one neighbor for stitch point of MP branch\")\n",
    "                keep_neighbor = stitch_neighbors[0]  \n",
    "                keep_neighbor_coordinates = xu.get_node_attributes(MP_stitch_branch_graph,node_list=[keep_neighbor])[0]\n",
    "\n",
    "                #b) Delete the MP Stitch points on each \n",
    "                MP_stitch_branch_graph.remove_node(stitch_node)\n",
    "\n",
    "                #c) Add skeleton segment from neighbor to MAP stitch point\n",
    "                new_node_name = np.max(MP_stitch_branch_graph.nodes())+1\n",
    "\n",
    "                MP_stitch_branch_graph.add_nodes_from([(int(new_node_name),{\"coordinates\":MAP_stitch_point})])\n",
    "                MP_stitch_branch_graph.add_weighted_edges_from([(keep_neighbor,new_node_name,np.linalg.norm(MAP_stitch_point - keep_neighbor_coordinates))])\n",
    "\n",
    "                new_MP_skeleton = sk.convert_graph_to_skeleton(MP_stitch_branch_graph)\n",
    "                \n",
    "                #smooth over the new skeleton\n",
    "                new_MP_skeleton_smooth = sk.resize_skeleton_branch(new_MP_skeleton,\n",
    "                                                                  segment_width=meshparty_segment_size)\n",
    "                \n",
    "                curr_MP_sk.append(new_MP_skeleton_smooth)\n",
    "\n",
    "\n",
    "\n",
    "            #2) Get skeletons and meshes from MP and MAP pieces\n",
    "            curr_MAP_sk = [limb_correspondence_MAP[MAP_idx][k][\"branch_skeleton\"] for k in MAP_branches_with_stitch_point]\n",
    "\n",
    "            #2.1) Going to break up the MAP skeleton if need be\n",
    "            \"\"\"\n",
    "            Pseudocode:\n",
    "            a) check to see if it needs to be broken up\n",
    "            If it does:\n",
    "            b) Convert the skeleton into a graph\n",
    "            c) Find the node of the MAP stitch point (where need to do the breaking)\n",
    "            d) Find the degree one nodes\n",
    "            e) For each degree one node:\n",
    "            - Find shortest path from stitch node to end node\n",
    "            - get a subgraph from that path\n",
    "            - convert graph to a skeleton and save as new skeletons\n",
    "\n",
    "            \"\"\"\n",
    "            #a) check to see if it needs to be broken up\n",
    "            if not MAP_stitch_point_on_end_or_branch:\n",
    "                if len(curr_MAP_sk) > 1:\n",
    "                    raise Exception(f\"There was more than one skeleton for MAP skeletons even though MAP_stitch_point_on_end_or_branch = {MAP_stitch_point_on_end_or_branch}\")\n",
    "\n",
    "                curr_MAP_sk_new = []\n",
    "                #b) Convert the skeleton into a graph\n",
    "                curr_MAP_sk_graph = sk.convert_skeleton_to_graph(curr_MAP_sk[0])\n",
    "                #c) Find the node of the MAP stitch point (where need to do the breaking)\n",
    "                MP_stitch_node = xu.get_nodes_with_attributes_dict(curr_MAP_sk_graph,dict(coordinates=MAP_stitch_point))[0]\n",
    "                #d) Find the degree one nodes\n",
    "                curr_end_nodes_for_break = xu.get_nodes_of_degree_k(curr_MAP_sk_graph,1)\n",
    "\n",
    "                #e) For each degree one node:\n",
    "                for e_n in curr_end_nodes_for_break:\n",
    "                    #- Find shortest path from stitch node to end node\n",
    "                    stitch_to_end_path = nx.shortest_path(curr_MAP_sk_graph,MP_stitch_node,e_n)\n",
    "                    #- get a subgraph from that path\n",
    "                    stitch_to_end_path_graph = curr_MAP_sk_graph.subgraph(stitch_to_end_path)\n",
    "                    #- convert graph to a skeleton and save as new skeletons\n",
    "                    new_sk = sk.convert_graph_to_skeleton(stitch_to_end_path_graph)\n",
    "                    curr_MAP_sk_new.append(new_sk)\n",
    "                curr_MAP_sk = curr_MAP_sk_new\n",
    "\n",
    "            curr_MAP_meshes_idx = [limb_correspondence_MAP[MAP_idx][k][\"branch_face_idx\"] for k in MAP_branches_with_stitch_point]\n",
    "\n",
    "            curr_MP_sk\n",
    "            curr_MP_meshes_idx = [limb_correspondence_MP[MP_idx][k][\"branch_face_idx\"] for k in MP_branches_with_stitch_point]\n",
    "\n",
    "            stitching_mesh_idx = np.concatenate(curr_MAP_meshes_idx + curr_MP_meshes_idx)\n",
    "            stitching_mesh = limb_mesh_mparty.submesh([stitching_mesh_idx],append=True,repair=True)\n",
    "            stitching_skeleton_branches = curr_MAP_sk + curr_MP_sk\n",
    "            \"\"\"\n",
    "\n",
    "            ****** NEED TO GET THE RIGHT MESH TO RUN HE IDX ON SO GETS A GOOD MESH (CAN'T BE LIMB_MESH_MPARTY)\n",
    "            BUT MUST BE THE ORIGINAL MAP MESH\n",
    "\n",
    "            mesh_pieces_for_MAP\n",
    "            sublimb_meshes_MP\n",
    "\n",
    "            mesh_pieces_for_MAP_face_idx\n",
    "            sublimb_meshes_MP_face_idx\n",
    "\n",
    "            stitching_mesh = tu.combine_meshes(curr_MAP_meshes + curr_MP_meshes)\n",
    "            stitching_skeleton_branches = curr_MAP_sk + curr_MP_sk\n",
    "\n",
    "            \"\"\"\n",
    "\n",
    "\n",
    "\n",
    "            #3) Run mesh correspondence to get new meshes and mesh_idx and widths\n",
    "            local_correspondnece_stitch = pre.mesh_correspondence_first_pass(mesh=stitching_mesh,\n",
    "                                          skeleton_branches=stitching_skeleton_branches)\n",
    "\n",
    "            local_correspondence_stitch_revised = pre.correspondence_1_to_1(mesh=stitching_mesh,\n",
    "                                                        local_correspondence=local_correspondnece_stitch,\n",
    "                                                        curr_limb_endpoints_must_keep=None,\n",
    "                                                        curr_soma_to_piece_touching_vertices=None)\n",
    "\n",
    "            #Need to readjust the mesh correspondence idx\n",
    "            for k,v in local_correspondence_stitch_revised.items():\n",
    "                local_correspondence_stitch_revised[k][\"branch_face_idx\"] = stitching_mesh_idx[local_correspondence_stitch_revised[k][\"branch_face_idx\"]]\n",
    "\n",
    "            #4a) If MAP_stitch_point_on_end_or_branch is False\n",
    "            #- Delete the old MAP branch parts and replace with new MAP ones\n",
    "            if not MAP_stitch_point_on_end_or_branch:\n",
    "                print(\"Deleting branches from dictionary\")\n",
    "                del limb_correspondence_MAP[MAP_idx][MAP_branches_with_stitch_point[0]]\n",
    "                #adding the two new branches created from the stitching\n",
    "                limb_correspondence_MAP[MAP_idx][MAP_branches_with_stitch_point[0]] = local_correspondence_stitch_revised[0]\n",
    "                limb_correspondence_MAP[MAP_idx][np.max(list(limb_correspondence_MAP[MAP_idx].keys()))+1] = local_correspondence_stitch_revised[1]\n",
    "\n",
    "                #have to reorder the keys\n",
    "                limb_correspondence_MAP[MAP_idx] = dict([(k,limb_correspondence_MAP[MAP_idx][k]) for k in np.sort(list(limb_correspondence_MAP[MAP_idx].keys()))])\n",
    "\n",
    "            else: #4b) Revise the meshes,  mesh_idx, and widths of the MAP pieces if weren't broken up\n",
    "                for j,curr_MAP_idx_fixed in enumerate(MAP_branches_with_stitch_point):\n",
    "                    limb_correspondence_MAP[MAP_idx][curr_MAP_idx_fixed] = local_correspondence_stitch_revised[j]\n",
    "\n",
    "            #5) Revise the meshes,  mesh_idx, and widths of the MP pieces\n",
    "            for j,curr_MP_idx_fixed in enumerate(MP_branches_with_stitch_point):\n",
    "                limb_correspondence_MP[MP_idx][curr_MP_idx_fixed] = local_correspondence_stitch_revised[j+len(curr_MAP_sk)]\n",
    "\n",
    "\n",
    "            print(f\" Finished with {(MP_idx,MAP_idx)} \\n\\n\\n\")\n",
    "\n",
    "\n",
    "    else:\n",
    "        print(\"There were not both MAP and MP pieces so skipping the stitch resolving phase\")\n",
    "    \n",
    "    print(f\"Time for decomp of Limb {curr_limb_idx} = {time.time() - curr_limb_time}\")\n",
    "    # ------------- Saving the MAP and MP Decompositions ---------------- #\n",
    "    proper_limb_mesh_correspondence_MAP[curr_limb_idx] = limb_correspondence_MAP\n",
    "    proper_limb_mesh_correspondence_MP[curr_limb_idx] = limb_correspondence_MP\n",
    "    \n",
    "\n",
    "print(f\"Total time for all limb decomps = {time.time() - proper_time}\")"
   ]
  },
  {
   "cell_type": "markdown",
   "metadata": {},
   "source": [
    "# Compiling the Endpoints Must Keep"
   ]
  },
  {
   "cell_type": "code",
   "execution_count": 18,
   "metadata": {},
   "outputs": [
    {
     "data": {
      "text/plain": [
       "{0: [{0: array([[756963.73513514, 950678.05765766, 873676.06486486]])}, None],\n",
       " 1: [{0: array([[766380., 962385., 879330.]]),\n",
       "   1: array([[854780., 995901., 860626.]])}],\n",
       " 2: [{1: array([[865214.56116505, 997143.48058252, 865049.78058252]])}],\n",
       " 3: [{0: array([[759527.01829268, 961356.29756098, 866050.25609756]])}],\n",
       " 4: [None, {0: [array([749775.13488372, 960588.05116279, 879524.76046512])]}],\n",
       " 5: [{0: array([[751718.4625    , 963943.00208333, 869072.96458333]])}],\n",
       " 6: [{1: array([[865617.1125    , 987904.80416667, 860510.8375    ]])}],\n",
       " 7: [{1: array([[868507., 993729., 849677.]])}],\n",
       " 8: [{1: array([[862810., 995619., 850522.]])}],\n",
       " 9: [{0: array([[761042., 965361., 878751.]])}]}"
      ]
     },
     "execution_count": 18,
     "metadata": {},
     "output_type": "execute_result"
    }
   ],
   "source": [
    "limb_to_endpoints_must_keep_list"
   ]
  },
  {
   "cell_type": "markdown",
   "metadata": {},
   "source": [
    "# Work with Concept Networks"
   ]
  },
  {
   "cell_type": "code",
   "execution_count": null,
   "metadata": {},
   "outputs": [],
   "source": []
  },
  {
   "cell_type": "code",
   "execution_count": null,
   "metadata": {},
   "outputs": [],
   "source": []
  },
  {
   "cell_type": "code",
   "execution_count": null,
   "metadata": {},
   "outputs": [],
   "source": []
  },
  {
   "cell_type": "markdown",
   "metadata": {},
   "source": [
    "# Visualizing the Results before stitching"
   ]
  },
  {
   "cell_type": "code",
   "execution_count": 15,
   "metadata": {},
   "outputs": [],
   "source": [
    "import neuron_visualizations as nviz"
   ]
  },
  {
   "cell_type": "code",
   "execution_count": 16,
   "metadata": {},
   "outputs": [
    {
     "name": "stderr",
     "output_type": "stream",
     "text": [
      "/usr/local/lib/python3.6/dist-packages/traittypes/traittypes.py:101: UserWarning: Given trait value dtype \"float64\" does not match required type \"float64\". A coerced copy has been created.\n",
      "  np.dtype(self.dtype).name))\n"
     ]
    },
    {
     "data": {
      "application/vnd.jupyter.widget-view+json": {
       "model_id": "64c33812db54408eaf6f5119173cf3e7",
       "version_major": 2,
       "version_minor": 0
      },
      "text/plain": [
       "VBox(children=(Figure(camera=PerspectiveCamera(fov=46.0, position=(0.0, 0.0, 2.0), quaternion=(0.0, 0.0, 0.0, …"
      ]
     },
     "metadata": {},
     "output_type": "display_data"
    }
   ],
   "source": [
    "MAP_skeletons = []\n",
    "MAP_meshes = []\n",
    "\n",
    "for proper_idx,limb_correspondence_MAP in proper_limb_mesh_correspondence_MAP.items():\n",
    "    for MAP_sublimb_idx,v in limb_correspondence_MAP.items():\n",
    "        for MAP_branch_idx,v2 in v.items():\n",
    "            MAP_skeletons.append(v2[\"branch_skeleton\"])\n",
    "            MAP_meshes.append(v2[\"branch_mesh\"])\n",
    "\n",
    "MP_skeletons = []\n",
    "MP_meshes = []\n",
    "\n",
    "for proper_idx,limb_correspondence_MP in proper_limb_mesh_correspondence_MP.items():\n",
    "    for MP_sublimb_idx,v in limb_correspondence_MP.items():\n",
    "        for MP_branch_idx,v2 in v.items():\n",
    "            MP_skeletons.append(v2[\"branch_skeleton\"])\n",
    "            MP_meshes.append(v2[\"branch_mesh\"])\n",
    "\n",
    "nviz.plot_objects(main_mesh=tu.combine_meshes(soma_touching_mesh_data[z][\"soma_meshes\"]),\n",
    "                  main_mesh_color=\"red\",\n",
    "    meshes=MP_meshes + MAP_meshes,\n",
    "                  meshes_colors=\"random\",\n",
    "                 skeletons=MP_skeletons + MAP_skeletons,\n",
    "                 skeletons_colors=\"random\",\n",
    "                html_path=\"cloud_neuron_decomp_test.html\",\n",
    "#show_at_end=False\n",
    "                 )"
   ]
  },
  {
   "cell_type": "markdown",
   "metadata": {},
   "source": [
    "# checking that a branch has all one connected component skeleton"
   ]
  },
  {
   "cell_type": "code",
   "execution_count": null,
   "metadata": {},
   "outputs": [],
   "source": [
    "MAP_skeletons = []\n",
    "MAP_meshes = []\n",
    "\n",
    "check_idx = 0\n",
    "\n",
    "limb_correspondence_MAP = proper_limb_mesh_correspondence_MAP[check_idx]\n",
    "for MAP_sublimb_idx,v in limb_correspondence_MAP.items():\n",
    "    for MAP_branch_idx,v2 in v.items():\n",
    "        MAP_skeletons.append(v2[\"branch_skeleton\"])\n",
    "        MAP_meshes.append(v2[\"branch_mesh\"])\n",
    "\n",
    "MP_skeletons = []\n",
    "MP_meshes = []\n",
    "\n",
    "limb_correspondence_MP = proper_limb_mesh_correspondence_MP[check_idx]\n",
    "for MP_sublimb_idx,v in limb_correspondence_MP.items():\n",
    "    for MP_branch_idx,v2 in v.items():\n",
    "        MP_skeletons.append(v2[\"branch_skeleton\"])\n",
    "        MP_meshes.append(v2[\"branch_mesh\"])\n",
    "        \n"
   ]
  },
  {
   "cell_type": "code",
   "execution_count": null,
   "metadata": {},
   "outputs": [],
   "source": [
    "total_limb_sk = sk.stack_skeletons(MAP_skeletons+MP_skeletons)\n",
    "nx.number_connected_components(sk.convert_skeleton_to_graph(total_limb_sk))"
   ]
  }
 ],
 "metadata": {
  "kernelspec": {
   "display_name": "Python 3",
   "language": "python",
   "name": "python3"
  },
  "language_info": {
   "codemirror_mode": {
    "name": "ipython",
    "version": 3
   },
   "file_extension": ".py",
   "mimetype": "text/x-python",
   "name": "python",
   "nbconvert_exporter": "python",
   "pygments_lexer": "ipython3",
   "version": "3.6.9"
  }
 },
 "nbformat": 4,
 "nbformat_minor": 4
}
