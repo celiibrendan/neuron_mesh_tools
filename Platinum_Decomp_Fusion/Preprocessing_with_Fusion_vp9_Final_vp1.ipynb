{
 "cells": [
  {
   "cell_type": "code",
   "execution_count": null,
   "metadata": {},
   "outputs": [],
   "source": [
    "\"\"\"\n",
    "To make sure the fusion decomposition works\n",
    "up to the part where we would stitch the sublimbs together into one limb\n",
    "\n",
    "\n",
    "\"\"\""
   ]
  },
  {
   "cell_type": "code",
   "execution_count": 1,
   "metadata": {},
   "outputs": [],
   "source": [
    "from os import sys\n",
    "sys.path.append(\"/meshAfterParty/\")"
   ]
  },
  {
   "cell_type": "code",
   "execution_count": 2,
   "metadata": {},
   "outputs": [
    {
     "name": "stderr",
     "output_type": "stream",
     "text": [
      "WARNING:root:Need to pip install annotationframeworkclient to repair mesh with pychunkedgraph\n",
      "WARNING:root:Need to pip install annotationframeworkclient to use dataset_name parameters\n"
     ]
    }
   ],
   "source": [
    "import skeleton_utils as sk\n",
    "import soma_extraction_utils as sm\n",
    "import trimesh_utils as tu\n",
    "import trimesh\n",
    "import numpy_utils as nu\n",
    "import numpy as np\n",
    "from importlib import reload\n",
    "import networkx as nx\n",
    "import time\n",
    "import compartment_utils as cu\n",
    "import networkx_utils as xu\n",
    "import matplotlib_utils as mu\n",
    "import neuron_utils as nru\n",
    "\n",
    "#importing at the bottom so don't get any conflicts\n",
    "import itertools\n",
    "from tqdm_utils import tqdm\n",
    "\n",
    "#for meshparty preprocessing\n",
    "import meshparty_skeletonize as m_sk\n",
    "import general_utils as gu\n",
    "import compartment_utils as cu\n",
    "from meshparty import trimesh_io\n",
    "from copy import deepcopy\n",
    "\n",
    "\n",
    "from neuron_utils import *\n"
   ]
  },
  {
   "cell_type": "markdown",
   "metadata": {},
   "source": [
    "# Loading the Neuron"
   ]
  },
  {
   "cell_type": "code",
   "execution_count": 3,
   "metadata": {},
   "outputs": [],
   "source": [
    "import trimesh_utils as tu\n",
    "curent_neuron = tu.load_mesh_no_processing(\"/notebooks/test_neurons/Segmentation_2/3_soma.off\")\n",
    "segment_id = 1357\n",
    "description = \"triple_soma\""
   ]
  },
  {
   "cell_type": "code",
   "execution_count": 4,
   "metadata": {},
   "outputs": [
    {
     "name": "stderr",
     "output_type": "stream",
     "text": [
      "/usr/local/lib/python3.6/dist-packages/traittypes/traittypes.py:101: UserWarning: Given trait value dtype \"float64\" does not match required type \"float64\". A coerced copy has been created.\n",
      "  np.dtype(self.dtype).name))\n"
     ]
    },
    {
     "data": {
      "application/vnd.jupyter.widget-view+json": {
       "model_id": "f9b43270b37a43b59437c0922d766e7a",
       "version_major": 2,
       "version_minor": 0
      },
      "text/plain": [
       "VBox(children=(Figure(camera=PerspectiveCamera(fov=46.0, position=(0.0, 0.0, 2.0), quaternion=(0.0, 0.0, 0.0, …"
      ]
     },
     "metadata": {},
     "output_type": "display_data"
    }
   ],
   "source": [
    "import neuron_visualizations as nviz\n",
    "nviz.plot_objects(main_mesh=curent_neuron)"
   ]
  },
  {
   "cell_type": "markdown",
   "metadata": {},
   "source": [
    "# Setting the Arguments that would be present inside a preprocessing function call"
   ]
  },
  {
   "cell_type": "code",
   "execution_count": 5,
   "metadata": {},
   "outputs": [],
   "source": [
    "#predefined arguments for the Neuron constructor\n",
    "\n",
    "decomposition_type=\"meshafterparty\"\n",
    "mesh_correspondence=\"meshparty\" #meshafterparty_adaptive\n",
    "distance_by_mesh_center=True #how the distance is calculated for mesh correspondence\n",
    "meshparty_segment_size = 100\n",
    "meshparty_n_surface_downsampling = 2\n",
    "meshparty_adaptive_correspondence_after_creation=False\n",
    "suppress_preprocessing_print=True\n",
    "computed_attribute_dict=None\n",
    "somas = None\n",
    "branch_skeleton_data=None\n",
    "combine_close_skeleton_nodes = True\n",
    "combine_close_skeleton_nodes_threshold=700\n",
    "ignore_warnings=True\n",
    "suppress_output=False\n",
    "calculate_spines=True\n",
    "widths_to_calculate=[\"no_spine_median_mesh_center\",\n",
    "                \"no_spine_mean_mesh_center\"]\n",
    "fill_hole_size=2000"
   ]
  },
  {
   "cell_type": "code",
   "execution_count": 6,
   "metadata": {},
   "outputs": [],
   "source": [
    "#arguments for the preprocess neuron\n",
    "mesh = curent_neuron\n",
    "segment_id=segment_id\n",
    "description=description\n",
    "\n",
    "sig_th_initial_split=15 #for significant splitting meshes in the intial mesh split\n",
    "limb_threshold = 2000 #the mesh faces threshold for a mesh to be qualified as a limb (otherwise too small)\n",
    "filter_end_node_length=4001 #used in cleaning the skeleton during skeletonizations\n",
    "return_no_somas = False\n",
    "\n",
    "decomposition_type=decomposition_type\n",
    "mesh_correspondence=mesh_correspondence\n",
    "distance_by_mesh_center=distance_by_mesh_center\n",
    "meshparty_segment_size =meshparty_segment_size\n",
    "meshparty_n_surface_downsampling = meshparty_n_surface_downsampling\n",
    "somas=somas\n",
    "branch_skeleton_data=branch_skeleton_data\n",
    "combine_close_skeleton_nodes = combine_close_skeleton_nodes\n",
    "combine_close_skeleton_nodes_threshold=combine_close_skeleton_nodes_threshold"
   ]
  },
  {
   "cell_type": "markdown",
   "metadata": {},
   "source": [
    "# Setting up the metadata"
   ]
  },
  {
   "cell_type": "code",
   "execution_count": 7,
   "metadata": {},
   "outputs": [],
   "source": [
    "whole_processing_tiempo = time.time()\n",
    "\n",
    "\n",
    "\"\"\"\n",
    "Purpose: To process the mesh into a format that can be loaded into the neuron class\n",
    "and used for higher order processing (how to visualize is included)\n",
    "\n",
    "\"\"\"\n",
    "if description is None:\n",
    "    description = \"no_description\"\n",
    "if segment_id is None:\n",
    "    #pick a random segment id\n",
    "    segment_id = np.random.randint(100000000)\n",
    "    print(f\"picking a random 7 digit segment id: {segment_id}\")\n",
    "    description += \"_random_id\"\n",
    "\n",
    "\n",
    "if mesh is None:\n",
    "    if current_mesh_file is None:\n",
    "        raise Exception(\"No mesh or mesh_file file were given\")\n",
    "    else:\n",
    "        current_neuron = trimesh.load_mesh(current_mesh_file)\n",
    "else:\n",
    "    current_neuron = mesh"
   ]
  },
  {
   "cell_type": "markdown",
   "metadata": {},
   "source": [
    "# ************************ Phase A: Soma and Limb Identification ********************************"
   ]
  },
  {
   "cell_type": "code",
   "execution_count": 8,
   "metadata": {},
   "outputs": [
    {
     "name": "stdout",
     "output_type": "stream",
     "text": [
      "Current Arguments Using (adjusted for decimation):\n",
      " large_mesh_threshold= 15000.0 \n",
      "large_mesh_threshold_inner = 10000.0 \n",
      "soma_size_threshold = 937.5 \n",
      "soma_size_threshold_max = 12000.0\n",
      "outer_decimation_ratio = 0.25\n",
      "inner_decimation_ratio = 0.25\n",
      "xvfb-run -n 8940 -s \"-screen 0 800x600x24\" meshlabserver $@  -i /notebooks/Platinum_Decomp_Fusion/1357/neuron_1357.off -o /notebooks/Platinum_Decomp_Fusion/1357/neuron_1357_decimated.off -s /notebooks/Platinum_Decomp_Fusion/1357/decimation_meshlab_25934041.mls\n",
      "Total found significant pieces before Poisson = [<trimesh.Trimesh(vertices.shape=(187840, 3), faces.shape=(369666, 3))>]\n",
      "----- working on large mesh #0: <trimesh.Trimesh(vertices.shape=(187840, 3), faces.shape=(369666, 3))>\n",
      "pre_largest_mesh_path = /notebooks/Platinum_Decomp_Fusion/1357/neuron_1357_decimated_largest_piece.off\n",
      "xvfb-run -n 350 -s \"-screen 0 800x600x24\" meshlabserver $@  -i /notebooks/Platinum_Decomp_Fusion/1357/neuron_1357_decimated_largest_piece.off -o /notebooks/Platinum_Decomp_Fusion/1357/neuron_1357_decimated_largest_piece_poisson.off -s /notebooks/Platinum_Decomp_Fusion/1357/poisson_211274.mls\n",
      "Total found significant pieces AFTER Poisson = [<trimesh.Trimesh(vertices.shape=(163373, 3), faces.shape=(326782, 3))>, <trimesh.Trimesh(vertices.shape=(51814, 3), faces.shape=(103628, 3))>]\n",
      "----- working on mesh after poisson #0: <trimesh.Trimesh(vertices.shape=(163373, 3), faces.shape=(326782, 3))>\n",
      "xvfb-run -n 1290 -s \"-screen 0 800x600x24\" meshlabserver $@  -i /notebooks/Platinum_Decomp_Fusion/1357/neuron_1357_decimated_largest_piece_poisson_largest_inner.off -o /notebooks/Platinum_Decomp_Fusion/1357/neuron_1357_decimated_largest_piece_poisson_largest_inner_decimated.off -s /notebooks/Platinum_Decomp_Fusion/1357/decimation_meshlab_25554060.mls\n",
      "done exporting decimated mesh: neuron_1357_decimated_largest_piece_poisson_largest_inner.off\n",
      "1) Starting: Mesh importing and Pymesh fix\n",
      "loading mesh from vertices and triangles array\n",
      "1) Finished: Mesh importing and Pymesh fix: 0.0004680156707763672\n",
      "2) Staring: Generating CGAL segmentation for neuron\n",
      "Done writing OFF file\n",
      "\n",
      "Starting CGAL segmentation\n",
      "Right before cgal segmentation, clusters = 3, smoothness = 0.2, path_and_filename = /notebooks/Platinum_Decomp_Fusion/temp/135700_fixed \n",
      "1\n",
      "Finished CGAL segmentation algorithm: 10.96347188949585\n",
      "2) Finished: Generating CGAL segmentation for neuron: 12.201400518417358\n",
      "3) Staring: Generating Graph Structure and Identifying Soma using soma size threshold  = 3000\n",
      "my_list_keys = [0, 1, 2, 3, 4, 5, 6, 7, 8, 9, 10, 11, 12, 13, 14, 15, 16, 17, 18, 19, 20, 21, 22, 23, 24, 25, 26, 27, 28, 29]\n",
      "changed the median value\n",
      "changed the mean value\n",
      "changed the max value\n",
      "changed the median value\n",
      "changed the mean value\n",
      "changed the max value\n",
      "soma_index = 2\n",
      "3) Finished: Generating Graph Structure and Identifying Soma: 0.027076244354248047\n",
      "Not finding the apical because soma_only option selected\n",
      "6) Staring: Classifying Entire Neuron\n",
      "Total Labels found = {'unsure', 'soma'}\n",
      "6) Finished: Classifying Entire Neuron: 4.887580871582031e-05\n",
      "7) Staring: Transfering Segmentation Labels to Face Labels\n",
      "7) Finished: Transfering Segmentation Labels to Face Labels: 0.07594561576843262\n",
      "8) Staring: Generating final Vertex and Face Labels\n",
      "8) Finished: Generating final Vertex and Face Labels: 0.5002543926239014\n",
      "Returning the soma_sdf value AND the classifier\n",
      "soma_sdf_value = 0.8379095\n",
      "segmentation[sorted_medians],median_values[sorted_medians] = (array([ 2, 16,  9, 28, 13,  3,  8, 11, 10, 17, 18, 22, 27,  4, 29, 15, 21,\n",
      "       25,  1, 19, 20, 26, 24,  0,  5, 12, 23, 14,  6,  7]), array([0.8379095 , 0.724551  , 0.195566  , 0.162923  , 0.141062  ,\n",
      "       0.128587  , 0.104052  , 0.102857  , 0.1000165 , 0.0795936 ,\n",
      "       0.0603545 , 0.05713   , 0.05632805, 0.0563207 , 0.0560575 ,\n",
      "       0.0556474 , 0.0543608 , 0.0535871 , 0.0529915 , 0.0519143 ,\n",
      "       0.0492377 , 0.0492179 , 0.0476657 , 0.047588  , 0.04726385,\n",
      "       0.0464632 , 0.0460649 , 0.0454378 , 0.0434527 , 0.04267655]))\n",
      "Sizes = [4550, 5135, 1381, 156, 7443, 470, 1283, 566, 584, 191, 2243, 1832, 952, 3101, 455, 2882, 701, 3971, 2634, 4145, 1095, 941, 7934, 4519, 6830, 2547, 2385, 593, 4909, 5258]\n",
      "valid_soma_segments_width\n",
      "      ------ Found 2 viable somas: [2, 16]\n",
      "Using Poisson Surface Reconstruction for watertightness in soma_volume_ratio\n",
      "xvfb-run -n 9635 -s \"-screen 0 800x600x24\" meshlabserver $@  -i /notebooks/Platinum_Decomp_Fusion/Poisson_temp/neuron_372960.off -o /notebooks/Platinum_Decomp_Fusion/Poisson_temp/neuron_372960_poisson.off -s /notebooks/Platinum_Decomp_Fusion/Poisson_temp/poisson_200089.mls\n",
      "removed temporary input file: /notebooks/Platinum_Decomp_Fusion/Poisson_temp/neuron_372960.off\n",
      "removed temporary output file: /notebooks/Platinum_Decomp_Fusion/Poisson_temp/neuron_372960_poisson.off\n",
      "mesh.is_watertight = True\n",
      "/notebooks/Platinum_Decomp_Fusion/Poisson_temp/poisson_200089.mls is being deleted....\n",
      "Inside sphere validater: ratio_val = 2.7971059777637026\n",
      "Using Poisson Surface Reconstruction for watertightness in soma_volume_ratio\n",
      "xvfb-run -n 1258 -s \"-screen 0 800x600x24\" meshlabserver $@  -i /notebooks/Platinum_Decomp_Fusion/Poisson_temp/neuron_796254.off -o /notebooks/Platinum_Decomp_Fusion/Poisson_temp/neuron_796254_poisson.off -s /notebooks/Platinum_Decomp_Fusion/Poisson_temp/poisson_301576.mls\n",
      "removed temporary input file: /notebooks/Platinum_Decomp_Fusion/Poisson_temp/neuron_796254.off\n",
      "removed temporary output file: /notebooks/Platinum_Decomp_Fusion/Poisson_temp/neuron_796254_poisson.off\n",
      "mesh.is_watertight = True\n",
      "/notebooks/Platinum_Decomp_Fusion/Poisson_temp/poisson_301576.mls is being deleted....\n",
      "Inside sphere validater: ratio_val = 3.6334716583294844\n",
      "----- working on mesh after poisson #1: <trimesh.Trimesh(vertices.shape=(51814, 3), faces.shape=(103628, 3))>\n",
      "xvfb-run -n 3488 -s \"-screen 0 800x600x24\" meshlabserver $@  -i /notebooks/Platinum_Decomp_Fusion/1357/neuron_1357_decimated_largest_piece_poisson_largest_inner.off -o /notebooks/Platinum_Decomp_Fusion/1357/neuron_1357_decimated_largest_piece_poisson_largest_inner_decimated.off -s /notebooks/Platinum_Decomp_Fusion/1357/decimation_meshlab_25554060.mls\n",
      "done exporting decimated mesh: neuron_1357_decimated_largest_piece_poisson_largest_inner.off\n",
      "1) Starting: Mesh importing and Pymesh fix\n",
      "loading mesh from vertices and triangles array\n",
      "1) Finished: Mesh importing and Pymesh fix: 0.00023412704467773438\n",
      "2) Staring: Generating CGAL segmentation for neuron\n",
      "Done writing OFF file\n",
      "\n",
      "Starting CGAL segmentation\n",
      "Right before cgal segmentation, clusters = 3, smoothness = 0.2, path_and_filename = /notebooks/Platinum_Decomp_Fusion/temp/135701_fixed \n",
      "1\n",
      "Finished CGAL segmentation algorithm: 2.488558292388916\n",
      "2) Finished: Generating CGAL segmentation for neuron: 2.851562023162842\n",
      "3) Staring: Generating Graph Structure and Identifying Soma using soma size threshold  = 3000\n",
      "my_list_keys = [0, 1, 2, 3, 4, 5, 6, 7, 8, 9, 10, 11, 12, 13, 14, 15, 16]\n",
      "changed the median value\n",
      "changed the mean value\n",
      "changed the max value\n",
      "changed the median value\n",
      "changed the mean value\n",
      "changed the max value\n",
      "soma_index = 8\n",
      "3) Finished: Generating Graph Structure and Identifying Soma: 0.008822202682495117\n",
      "Not finding the apical because soma_only option selected\n",
      "6) Staring: Classifying Entire Neuron\n",
      "Total Labels found = {'unsure', 'soma'}\n",
      "6) Finished: Classifying Entire Neuron: 5.412101745605469e-05\n",
      "7) Staring: Transfering Segmentation Labels to Face Labels\n",
      "7) Finished: Transfering Segmentation Labels to Face Labels: 0.02327704429626465\n",
      "8) Staring: Generating final Vertex and Face Labels\n",
      "8) Finished: Generating final Vertex and Face Labels: 0.12196063995361328\n",
      "Returning the soma_sdf value AND the classifier\n",
      "soma_sdf_value = 0.8531135\n",
      "segmentation[sorted_medians],median_values[sorted_medians] = (array([ 8, 13, 15,  9,  6,  7, 11, 14,  3,  4, 10, 16,  5,  0,  2,  1, 12]), array([0.8531135 , 0.1695325 , 0.106937  , 0.09200225, 0.085328  ,\n",
      "       0.0821747 , 0.07633875, 0.0567421 , 0.0509535 , 0.0457217 ,\n",
      "       0.0452732 , 0.0438685 , 0.0404668 , 0.0400501 , 0.03972855,\n",
      "       0.03403085, 0.0270567 ]))\n",
      "Sizes = [5064, 20, 181, 5656, 671, 688, 168, 309, 473, 2209, 759, 500, 4566, 1039, 1972, 1266, 359]\n",
      "valid_soma_segments_width\n",
      "      ------ Found 1 viable somas: [8]\n"
     ]
    },
    {
     "name": "stdout",
     "output_type": "stream",
     "text": [
      "Using Poisson Surface Reconstruction for watertightness in soma_volume_ratio\n",
      "xvfb-run -n 8110 -s \"-screen 0 800x600x24\" meshlabserver $@  -i /notebooks/Platinum_Decomp_Fusion/Poisson_temp/neuron_260462.off -o /notebooks/Platinum_Decomp_Fusion/Poisson_temp/neuron_260462_poisson.off -s /notebooks/Platinum_Decomp_Fusion/Poisson_temp/poisson_530908.mls\n",
      "removed temporary input file: /notebooks/Platinum_Decomp_Fusion/Poisson_temp/neuron_260462.off\n",
      "removed temporary output file: /notebooks/Platinum_Decomp_Fusion/Poisson_temp/neuron_260462_poisson.off\n",
      "mesh.is_watertight = True\n",
      "/notebooks/Platinum_Decomp_Fusion/Poisson_temp/poisson_530908.mls is being deleted....\n",
      "Inside sphere validater: ratio_val = 2.7982959228614614\n",
      "\n",
      "\n",
      "\n",
      " Total time for run = 147.67941761016846\n",
      "Before Filtering the number of somas found = 3\n",
      "Performing Soma Mesh Backtracking to original mesh\n",
      "# total split meshes = 27\n",
      "viable_meshes = [0]\n",
      "There were 26 pieces found after size threshold\n",
      "# of soma containing seperate meshes = 1\n",
      "meshes with somas = {0: [0]}\n",
      "\n",
      "\n",
      "----Working on soma-containing mesh piece 0----\n",
      "current_soma_mesh_list = [<trimesh.Trimesh(vertices.shape=(2374, 3), faces.shape=(4550, 3))>]\n",
      "current_mesh = <trimesh.Trimesh(vertices.shape=(187840, 3), faces.shape=(369170, 3))>\n",
      "\n",
      "inside Soma subtraction\n",
      "mesh pieces in subtact soma BEFORE the filtering inside pieces = [<trimesh.Trimesh(vertices.shape=(158180, 3), faces.shape=(309813, 3))>, <trimesh.Trimesh(vertices.shape=(10154, 3), faces.shape=(20075, 3))>, <trimesh.Trimesh(vertices.shape=(7421, 3), faces.shape=(14773, 3))>, <trimesh.Trimesh(vertices.shape=(6923, 3), faces.shape=(13672, 3))>, <trimesh.Trimesh(vertices.shape=(912, 3), faces.shape=(1881, 3))>]\n",
      "There were 5 pieces found after size threshold\n",
      "mesh pieces in subtact soma AFTER the filtering inside pieces = [<trimesh.Trimesh(vertices.shape=(158180, 3), faces.shape=(309813, 3))>, <trimesh.Trimesh(vertices.shape=(10154, 3), faces.shape=(20075, 3))>, <trimesh.Trimesh(vertices.shape=(7421, 3), faces.shape=(14773, 3))>, <trimesh.Trimesh(vertices.shape=(6923, 3), faces.shape=(13672, 3))>, <trimesh.Trimesh(vertices.shape=(912, 3), faces.shape=(1881, 3))>]\n",
      "Total Time for soma mesh cancellation = 0.74\n",
      "mesh_pieces_without_soma = [<trimesh.Trimesh(vertices.shape=(158180, 3), faces.shape=(309813, 3))>, <trimesh.Trimesh(vertices.shape=(10154, 3), faces.shape=(20075, 3))>, <trimesh.Trimesh(vertices.shape=(7421, 3), faces.shape=(14773, 3))>, <trimesh.Trimesh(vertices.shape=(6923, 3), faces.shape=(13672, 3))>, <trimesh.Trimesh(vertices.shape=(912, 3), faces.shape=(1881, 3))>]\n",
      "Total time for Subtract Soam = 0.7408361434936523\n",
      "mesh_pieces_without_soma_stacked = <trimesh.Trimesh(vertices.shape=(183589, 3), faces.shape=(360214, 3))>\n",
      "Total time for Original_mesh_faces_map for mesh_pieces without soma= 0.2757256031036377\n",
      "soma_faces = [ 27488  27489  27490 ... 161850 161851 161972]\n",
      "soma_meshes = <trimesh.Trimesh(vertices.shape=(4747, 3), faces.shape=(8956, 3))>\n",
      "poisson_backtrack_distance_threshold = None\n",
      "Using Poisson Surface Reconstruction for watertightness in soma_volume_ratio\n"
     ]
    },
    {
     "name": "stderr",
     "output_type": "stream",
     "text": [
      "/meshAfterParty/trimesh_utils.py:318: VisibleDeprecationWarning: Creating an ndarray from ragged nested sequences (which is a list-or-tuple of lists-or-tuples-or ndarrays with different lengths or shapes) is deprecated. If you meant to do this, you must specify 'dtype=object' when creating the ndarray\n",
      "  ordered_comp_indices = np.array([k.astype(\"int\") for k in ordered_components])\n"
     ]
    },
    {
     "name": "stdout",
     "output_type": "stream",
     "text": [
      "xvfb-run -n 3555 -s \"-screen 0 800x600x24\" meshlabserver $@  -i /notebooks/Platinum_Decomp_Fusion/Poisson_temp/neuron_881432.off -o /notebooks/Platinum_Decomp_Fusion/Poisson_temp/neuron_881432_poisson.off -s /notebooks/Platinum_Decomp_Fusion/Poisson_temp/poisson_818992.mls\n",
      "removed temporary input file: /notebooks/Platinum_Decomp_Fusion/Poisson_temp/neuron_881432.off\n",
      "removed temporary output file: /notebooks/Platinum_Decomp_Fusion/Poisson_temp/neuron_881432_poisson.off\n",
      "mesh.is_watertight = True\n",
      "/notebooks/Platinum_Decomp_Fusion/Poisson_temp/poisson_818992.mls is being deleted....\n",
      "Inside sphere validater: ratio_val = 3.1667158748980744\n",
      "Performing Soma Mesh Backtracking to original mesh\n",
      "# total split meshes = 27\n",
      "viable_meshes = [0]\n",
      "There were 26 pieces found after size threshold\n",
      "# of soma containing seperate meshes = 1\n",
      "meshes with somas = {0: [0]}\n",
      "\n",
      "\n",
      "----Working on soma-containing mesh piece 0----\n",
      "current_soma_mesh_list = [<trimesh.Trimesh(vertices.shape=(2594, 3), faces.shape=(5135, 3))>]\n",
      "current_mesh = <trimesh.Trimesh(vertices.shape=(187840, 3), faces.shape=(369170, 3))>\n",
      "\n",
      "inside Soma subtraction\n",
      "mesh pieces in subtact soma BEFORE the filtering inside pieces = [<trimesh.Trimesh(vertices.shape=(107805, 3), faces.shape=(212857, 3))>, <trimesh.Trimesh(vertices.shape=(70089, 3), faces.shape=(136569, 3))>, <trimesh.Trimesh(vertices.shape=(5715, 3), faces.shape=(11202, 3))>, <trimesh.Trimesh(vertices.shape=(252, 3), faces.shape=(542, 3))>]\n",
      "There were 4 pieces found after size threshold\n",
      "mesh pieces in subtact soma AFTER the filtering inside pieces = [<trimesh.Trimesh(vertices.shape=(107805, 3), faces.shape=(212857, 3))>, <trimesh.Trimesh(vertices.shape=(70089, 3), faces.shape=(136569, 3))>, <trimesh.Trimesh(vertices.shape=(5715, 3), faces.shape=(11202, 3))>, <trimesh.Trimesh(vertices.shape=(252, 3), faces.shape=(542, 3))>]\n",
      "Total Time for soma mesh cancellation = 0.655\n",
      "mesh_pieces_without_soma = [<trimesh.Trimesh(vertices.shape=(107805, 3), faces.shape=(212857, 3))>, <trimesh.Trimesh(vertices.shape=(70089, 3), faces.shape=(136569, 3))>, <trimesh.Trimesh(vertices.shape=(5715, 3), faces.shape=(11202, 3))>, <trimesh.Trimesh(vertices.shape=(252, 3), faces.shape=(542, 3))>]\n",
      "Total time for Subtract Soam = 0.6556193828582764\n",
      "mesh_pieces_without_soma_stacked = <trimesh.Trimesh(vertices.shape=(183861, 3), faces.shape=(361170, 3))>\n",
      "Total time for Original_mesh_faces_map for mesh_pieces without soma= 0.2710297107696533\n",
      "soma_faces = [211286 211287 211288 ... 340289 340290 340291]\n",
      "soma_meshes = <trimesh.Trimesh(vertices.shape=(4079, 3), faces.shape=(8000, 3))>\n",
      "poisson_backtrack_distance_threshold = None\n",
      "Using Poisson Surface Reconstruction for watertightness in soma_volume_ratio\n",
      "xvfb-run -n 9135 -s \"-screen 0 800x600x24\" meshlabserver $@  -i /notebooks/Platinum_Decomp_Fusion/Poisson_temp/neuron_741077.off -o /notebooks/Platinum_Decomp_Fusion/Poisson_temp/neuron_741077_poisson.off -s /notebooks/Platinum_Decomp_Fusion/Poisson_temp/poisson_301768.mls\n",
      "removed temporary input file: /notebooks/Platinum_Decomp_Fusion/Poisson_temp/neuron_741077.off\n",
      "removed temporary output file: /notebooks/Platinum_Decomp_Fusion/Poisson_temp/neuron_741077_poisson.off\n",
      "mesh.is_watertight = True\n",
      "/notebooks/Platinum_Decomp_Fusion/Poisson_temp/poisson_301768.mls is being deleted....\n",
      "Inside sphere validater: ratio_val = 4.263689412072818\n",
      "Performing Soma Mesh Backtracking to original mesh\n",
      "# total split meshes = 27\n",
      "viable_meshes = [0]\n",
      "There were 26 pieces found after size threshold\n",
      "# of soma containing seperate meshes = 1\n",
      "meshes with somas = {0: [0]}\n",
      "\n",
      "\n",
      "----Working on soma-containing mesh piece 0----\n",
      "current_soma_mesh_list = [<trimesh.Trimesh(vertices.shape=(2569, 3), faces.shape=(5064, 3))>]\n",
      "current_mesh = <trimesh.Trimesh(vertices.shape=(187840, 3), faces.shape=(369170, 3))>\n",
      "\n",
      "inside Soma subtraction\n",
      "mesh pieces in subtact soma BEFORE the filtering inside pieces = [<trimesh.Trimesh(vertices.shape=(147785, 3), faces.shape=(291936, 3))>, <trimesh.Trimesh(vertices.shape=(23998, 3), faces.shape=(46424, 3))>, <trimesh.Trimesh(vertices.shape=(5653, 3), faces.shape=(11169, 3))>, <trimesh.Trimesh(vertices.shape=(3899, 3), faces.shape=(7659, 3))>, <trimesh.Trimesh(vertices.shape=(1189, 3), faces.shape=(2302, 3))>, <trimesh.Trimesh(vertices.shape=(467, 3), faces.shape=(915, 3))>, <trimesh.Trimesh(vertices.shape=(311, 3), faces.shape=(379, 3))>]\n",
      "There were 7 pieces found after size threshold\n",
      "mesh pieces in subtact soma AFTER the filtering inside pieces = [<trimesh.Trimesh(vertices.shape=(147785, 3), faces.shape=(291936, 3))>, <trimesh.Trimesh(vertices.shape=(23998, 3), faces.shape=(46424, 3))>, <trimesh.Trimesh(vertices.shape=(5653, 3), faces.shape=(11169, 3))>, <trimesh.Trimesh(vertices.shape=(3899, 3), faces.shape=(7659, 3))>, <trimesh.Trimesh(vertices.shape=(1189, 3), faces.shape=(2302, 3))>, <trimesh.Trimesh(vertices.shape=(467, 3), faces.shape=(915, 3))>, <trimesh.Trimesh(vertices.shape=(311, 3), faces.shape=(379, 3))>]\n",
      "Total Time for soma mesh cancellation = 0.716\n",
      "mesh_pieces_without_soma = [<trimesh.Trimesh(vertices.shape=(147785, 3), faces.shape=(291936, 3))>, <trimesh.Trimesh(vertices.shape=(23998, 3), faces.shape=(46424, 3))>, <trimesh.Trimesh(vertices.shape=(5653, 3), faces.shape=(11169, 3))>, <trimesh.Trimesh(vertices.shape=(3899, 3), faces.shape=(7659, 3))>, <trimesh.Trimesh(vertices.shape=(1189, 3), faces.shape=(2302, 3))>, <trimesh.Trimesh(vertices.shape=(467, 3), faces.shape=(915, 3))>, <trimesh.Trimesh(vertices.shape=(311, 3), faces.shape=(379, 3))>]\n",
      "Total time for Subtract Soam = 0.7172420024871826\n",
      "mesh_pieces_without_soma_stacked = <trimesh.Trimesh(vertices.shape=(183302, 3), faces.shape=(360784, 3))>\n",
      "Total time for Original_mesh_faces_map for mesh_pieces without soma= 0.3100121021270752\n",
      "soma_faces = [107788 107790 107791 ... 251884 251885 254424]\n",
      "soma_meshes = <trimesh.Trimesh(vertices.shape=(4641, 3), faces.shape=(8386, 3))>\n",
      "poisson_backtrack_distance_threshold = None\n",
      "Using Poisson Surface Reconstruction for watertightness in soma_volume_ratio\n",
      "xvfb-run -n 6636 -s \"-screen 0 800x600x24\" meshlabserver $@  -i /notebooks/Platinum_Decomp_Fusion/Poisson_temp/neuron_902698.off -o /notebooks/Platinum_Decomp_Fusion/Poisson_temp/neuron_902698_poisson.off -s /notebooks/Platinum_Decomp_Fusion/Poisson_temp/poisson_365137.mls\n",
      "removed temporary input file: /notebooks/Platinum_Decomp_Fusion/Poisson_temp/neuron_902698.off\n",
      "removed temporary output file: /notebooks/Platinum_Decomp_Fusion/Poisson_temp/neuron_902698_poisson.off\n",
      "mesh.is_watertight = True\n",
      "/notebooks/Platinum_Decomp_Fusion/Poisson_temp/poisson_365137.mls is being deleted....\n",
      "Inside sphere validater: ratio_val = 3.266889794224219\n",
      "Soma List = [<trimesh.Trimesh(vertices.shape=(4692, 3), faces.shape=(8886, 3))>, <trimesh.Trimesh(vertices.shape=(4079, 3), faces.shape=(8000, 3))>, <trimesh.Trimesh(vertices.shape=(4641, 3), faces.shape=(8386, 3))>]\n",
      "soma_mesh_list_centers = [array([396367.02730179, 694028.38951407, 658428.21707161]), array([415930.72647708, 669123.12319196, 631046.37729836]), array([343316.41883215, 577982.53497091, 598208.10551605])]\n"
     ]
    }
   ],
   "source": [
    "# --- 1) Doing the soma detection\n",
    "if somas is None:\n",
    "    soma_mesh_list,run_time,total_soma_list_sdf = sm.extract_soma_center(segment_id,\n",
    "                                             current_neuron.vertices,\n",
    "                                             current_neuron.faces)\n",
    "else:\n",
    "    soma_mesh_list,run_time,total_soma_list_sdf = somas\n",
    "\n",
    "# geting the soma centers\n",
    "if len(soma_mesh_list) <= 0:\n",
    "    print(f\"**** No Somas Found for Mesh {segment_id} so just one mesh\")\n",
    "    soma_mesh_list_centers = []\n",
    "    if return_no_somas:\n",
    "        return_value= soma_mesh_list_centers\n",
    "    raise Exception(\"Processing of No Somas is not yet implemented yet\")\n",
    "else:\n",
    "    #compute the soma centers\n",
    "    print(f\"Soma List = {soma_mesh_list}\")\n",
    "\n",
    "    soma_mesh_list_centers = sm.find_soma_centroids(soma_mesh_list)\n",
    "    print(f\"soma_mesh_list_centers = {soma_mesh_list_centers}\")"
   ]
  },
  {
   "cell_type": "code",
   "execution_count": 9,
   "metadata": {},
   "outputs": [
    {
     "name": "stdout",
     "output_type": "stream",
     "text": [
      "# total split meshes = 53\n",
      "There were 52 pieces found after size threshold\n",
      "# of soma containing seperate meshes = 1\n",
      "meshes with somas = {0: [0, 1, 2]}\n"
     ]
    }
   ],
   "source": [
    "#--- 2) getting the soma submeshes that are connected to each soma and identifiying those that aren't (and eliminating any mesh pieces inside the soma)\n",
    "\n",
    "main_mesh_total = current_neuron\n",
    "\n",
    "\n",
    "#finding the mesh pieces that contain the soma\n",
    "#splitting the current neuron into distinct pieces\n",
    "split_meshes = tu.split_significant_pieces(\n",
    "                            main_mesh_total,\n",
    "                            significance_threshold=sig_th_initial_split,\n",
    "                            print_flag=False)\n",
    "\n",
    "print(f\"# total split meshes = {len(split_meshes)}\")\n",
    "\n",
    "\n",
    "#returns the index of the split_meshes index that contains each soma    \n",
    "containing_mesh_indices = sm.find_soma_centroid_containing_meshes(soma_mesh_list,\n",
    "                                        split_meshes)\n",
    "\n",
    "# filtering away any of the inside floating pieces: \n",
    "non_soma_touching_meshes = [m for i,m in enumerate(split_meshes)\n",
    "                 if i not in list(containing_mesh_indices.values())]\n",
    "\n",
    "\n",
    "#Adding the step that will filter away any pieces that are inside the soma\n",
    "if len(non_soma_touching_meshes) > 0 and len(soma_mesh_list) > 0:\n",
    "    \"\"\"\n",
    "    *** want to save these pieces that are inside of the soma***\n",
    "    \"\"\"\n",
    "\n",
    "    non_soma_touching_meshes,inside_pieces = sm.filter_away_inside_soma_pieces(soma_mesh_list,non_soma_touching_meshes,\n",
    "                                    significance_threshold=sig_th_initial_split,\n",
    "                                    return_inside_pieces = True)                                                      \n",
    "\n",
    "\n",
    "split_meshes # the meshes of the original mesh\n",
    "containing_mesh_indices #the mapping of each soma centroid to the correct split mesh\n",
    "soma_containing_meshes = sm.grouping_containing_mesh_indices(containing_mesh_indices)\n",
    "\n",
    "soma_touching_meshes = [split_meshes[k] for k in soma_containing_meshes.keys()]\n",
    "\n",
    "\n",
    "#     print(f\"# of non soma touching seperate meshes = {len(non_soma_touching_meshes)}\")\n",
    "#     print(f\"# of inside pieces = {len(inside_pieces)}\")\n",
    "print(f\"# of soma containing seperate meshes = {len(soma_touching_meshes)}\")\n",
    "print(f\"meshes with somas = {soma_containing_meshes}\")\n",
    "\n",
    "\n",
    "\n",
    "\n"
   ]
  },
  {
   "cell_type": "code",
   "execution_count": 159,
   "metadata": {},
   "outputs": [
    {
     "name": "stdout",
     "output_type": "stream",
     "text": [
      "\n",
      "\n",
      "----Working on soma-containing mesh piece 0----\n",
      "\n",
      "inside Soma subtraction\n",
      "mesh pieces in subtact soma BEFORE the filtering inside pieces = [<trimesh.Trimesh(vertices.shape=(304427, 3), faces.shape=(605893, 3))>, <trimesh.Trimesh(vertices.shape=(122842, 3), faces.shape=(244892, 3))>, <trimesh.Trimesh(vertices.shape=(88656, 3), faces.shape=(175705, 3))>, <trimesh.Trimesh(vertices.shape=(42711, 3), faces.shape=(85169, 3))>, <trimesh.Trimesh(vertices.shape=(31579, 3), faces.shape=(63082, 3))>, <trimesh.Trimesh(vertices.shape=(29654, 3), faces.shape=(59121, 3))>, <trimesh.Trimesh(vertices.shape=(23177, 3), faces.shape=(46111, 3))>, <trimesh.Trimesh(vertices.shape=(22252, 3), faces.shape=(44350, 3))>, <trimesh.Trimesh(vertices.shape=(15114, 3), faces.shape=(30070, 3))>, <trimesh.Trimesh(vertices.shape=(4799, 3), faces.shape=(9508, 3))>, <trimesh.Trimesh(vertices.shape=(3064, 3), faces.shape=(6105, 3))>, <trimesh.Trimesh(vertices.shape=(1866, 3), faces.shape=(3704, 3))>, <trimesh.Trimesh(vertices.shape=(834, 3), faces.shape=(1695, 3))>, <trimesh.Trimesh(vertices.shape=(468, 3), faces.shape=(680, 3))>]\n",
      "There were 14 pieces found after size threshold\n",
      "mesh pieces in subtact soma AFTER the filtering inside pieces = [<trimesh.Trimesh(vertices.shape=(304427, 3), faces.shape=(605893, 3))>, <trimesh.Trimesh(vertices.shape=(122842, 3), faces.shape=(244892, 3))>, <trimesh.Trimesh(vertices.shape=(88656, 3), faces.shape=(175705, 3))>, <trimesh.Trimesh(vertices.shape=(42711, 3), faces.shape=(85169, 3))>, <trimesh.Trimesh(vertices.shape=(31579, 3), faces.shape=(63082, 3))>, <trimesh.Trimesh(vertices.shape=(29654, 3), faces.shape=(59121, 3))>, <trimesh.Trimesh(vertices.shape=(23177, 3), faces.shape=(46111, 3))>, <trimesh.Trimesh(vertices.shape=(22252, 3), faces.shape=(44350, 3))>, <trimesh.Trimesh(vertices.shape=(15114, 3), faces.shape=(30070, 3))>, <trimesh.Trimesh(vertices.shape=(4799, 3), faces.shape=(9508, 3))>, <trimesh.Trimesh(vertices.shape=(3064, 3), faces.shape=(6105, 3))>, <trimesh.Trimesh(vertices.shape=(1866, 3), faces.shape=(3704, 3))>, <trimesh.Trimesh(vertices.shape=(834, 3), faces.shape=(1695, 3))>, <trimesh.Trimesh(vertices.shape=(468, 3), faces.shape=(680, 3))>]\n",
      "Total Time for soma mesh cancellation = 2.762\n",
      "Total time for Subtract Soam = 2.7638299465179443\n",
      "Total time for Original_mesh_faces_map for mesh_pieces without soma= 1.224644660949707\n",
      "Total time for Original_mesh_faces_map for somas= 0.9058096408843994\n",
      "Total time for sig_non_soma_pieces= 1.2885587215423584\n",
      "Total time for split= 0.0829625129699707\n"
     ]
    },
    {
     "name": "stderr",
     "output_type": "stream",
     "text": [
      "/meshAfterParty/trimesh_utils.py:318: VisibleDeprecationWarning: Creating an ndarray from ragged nested sequences (which is a list-or-tuple of lists-or-tuples-or ndarrays with different lengths or shapes) is deprecated. If you meant to do this, you must specify 'dtype=object' when creating the ndarray\n",
      "  ordered_comp_indices = np.array([k.astype(\"int\") for k in ordered_components])\n"
     ]
    },
    {
     "name": "stdout",
     "output_type": "stream",
     "text": [
      "Total time for mesh_pieces_connectivity= 29.758702039718628\n",
      "# of insignificant_limbs = 2 with trimesh : [<trimesh.Trimesh(vertices.shape=(834, 3), faces.shape=(1695, 3))>, <trimesh.Trimesh(vertices.shape=(468, 3), faces.shape=(680, 3))>]\n"
     ]
    }
   ],
   "source": [
    "tu = reload(tu)\n",
    "#--- 3)  Soma Extraction was great (but it wasn't the original soma faces), so now need to get the original soma faces and the original non-soma faces of original pieces\n",
    "\n",
    "#     sk.graph_skeleton_and_mesh(other_meshes=[soma_meshes])\n",
    "\n",
    "\"\"\"\n",
    "for each soma touching mesh get the following:\n",
    "1) original soma meshes\n",
    "2) significant mesh pieces touching these somas\n",
    "3) The soma connectivity to each of the significant mesh pieces\n",
    "-- later will just translate the \n",
    "\n",
    "\n",
    "Process: \n",
    "\n",
    "1) Final all soma faces (through soma extraction and then soma original faces function)\n",
    "2) Subtact all soma faces from original mesh\n",
    "3) Find all significant mesh pieces\n",
    "4) Backtrack significant mesh pieces to orignal mesh and find connectivity of each to all\n",
    "   the available somas\n",
    "Conclusion: Will have connectivity map\n",
    "\n",
    "\n",
    "\"\"\"\n",
    "\n",
    "soma_touching_mesh_data = dict()\n",
    "\n",
    "for z,(mesh_idx, soma_idxes) in enumerate(soma_containing_meshes.items()):\n",
    "    soma_touching_mesh_data[z] = dict()\n",
    "    print(f\"\\n\\n----Working on soma-containing mesh piece {z}----\")\n",
    "\n",
    "    #1) Final all soma faces (through soma extraction and then soma original faces function)\n",
    "    current_mesh = split_meshes[mesh_idx]\n",
    "\n",
    "    current_soma_mesh_list = [soma_mesh_list[k] for k in soma_idxes]\n",
    "\n",
    "    current_time = time.time()\n",
    "    mesh_pieces_without_soma = sm.subtract_soma(current_soma_mesh_list,current_mesh,\n",
    "                                                significance_threshold=250)\n",
    "    print(f\"Total time for Subtract Soam = {time.time() - current_time}\")\n",
    "    current_time = time.time()\n",
    "\n",
    "    mesh_pieces_without_soma_stacked = tu.combine_meshes(mesh_pieces_without_soma)\n",
    "\n",
    "    # find the original soma faces of mesh\n",
    "    soma_faces = tu.original_mesh_faces_map(current_mesh,mesh_pieces_without_soma_stacked,matching=False)\n",
    "    print(f\"Total time for Original_mesh_faces_map for mesh_pieces without soma= {time.time() - current_time}\")\n",
    "    current_time = time.time()\n",
    "    soma_meshes = current_mesh.submesh([soma_faces],append=True,repair=False)\n",
    "\n",
    "    # finding the non-soma original faces\n",
    "    non_soma_faces = tu.original_mesh_faces_map(current_mesh,soma_meshes,matching=False)\n",
    "    non_soma_stacked_mesh = current_mesh.submesh([non_soma_faces],append=True,repair=False)\n",
    "\n",
    "    print(f\"Total time for Original_mesh_faces_map for somas= {time.time() - current_time}\")\n",
    "    current_time = time.time()\n",
    "\n",
    "    # 3) Find all significant mesh pieces\n",
    "    sig_non_soma_pieces,insignificant_limbs = tu.split_significant_pieces(non_soma_stacked_mesh,significance_threshold=limb_threshold,\n",
    "                                                     return_insignificant_pieces=True)\n",
    "\n",
    "    print(f\"Total time for sig_non_soma_pieces= {time.time() - current_time}\")\n",
    "    current_time = time.time()\n",
    "\n",
    "    soma_touching_mesh_data[z][\"branch_meshes\"] = sig_non_soma_pieces\n",
    "\n",
    "    #4) Backtrack significant mesh pieces to orignal mesh and find connectivity of each to all the available somas\n",
    "    # get all the seperate mesh faces\n",
    "\n",
    "    #How to seperate the mesh faces\n",
    "    seperate_soma_meshes,soma_face_components = tu.split(soma_meshes,only_watertight=False)\n",
    "    #take the top largest ones depending how many were originally in the soma list\n",
    "    seperate_soma_meshes = seperate_soma_meshes[:len(soma_mesh_list)]\n",
    "    soma_face_components = soma_face_components[:len(soma_mesh_list)]\n",
    "\n",
    "    soma_touching_mesh_data[z][\"soma_meshes\"] = seperate_soma_meshes\n",
    "\n",
    "    print(f\"Total time for split= {time.time() - current_time}\")\n",
    "    current_time = time.time()\n",
    "\n",
    "\n",
    "\n",
    "    soma_to_piece_connectivity = dict()\n",
    "    soma_to_piece_touching_vertices = dict()\n",
    "    soma_to_piece_touching_vertices_idx = dict()\n",
    "    limb_root_nodes = dict()\n",
    "    \n",
    "    m_vert_graph = tu.mesh_vertex_graph(current_mesh)\n",
    "    \n",
    "    for i,curr_soma in enumerate(seperate_soma_meshes):\n",
    "        (connected_mesh_pieces,\n",
    "         connected_mesh_pieces_vertices,\n",
    "         connected_mesh_pieces_vertices_idx) = tu.mesh_pieces_connectivity(\n",
    "                        main_mesh=current_mesh,\n",
    "                        central_piece=curr_soma,\n",
    "                        periphery_pieces = sig_non_soma_pieces,\n",
    "                        return_vertices = True,\n",
    "                        return_vertices_idx=True)\n",
    "        #print(f\"soma {i}: connected_mesh_pieces = {connected_mesh_pieces}\")\n",
    "        soma_to_piece_connectivity[i] = connected_mesh_pieces\n",
    "\n",
    "        soma_to_piece_touching_vertices[i] = dict()\n",
    "        for piece_index,piece_idx in enumerate(connected_mesh_pieces):\n",
    "            limb_root_nodes[piece_idx] = connected_mesh_pieces_vertices[piece_index][0]\n",
    "            \n",
    "            \"\"\" Old way of finding vertex connected components on a mesh without trimesh function\n",
    "            #find the number of touching groups and save those \n",
    "            soma_touching_graph = m_vert_graph.subgraph(connected_mesh_pieces_vertices_idx[piece_index])\n",
    "            soma_con_comp = [current_mesh.vertices[np.array(list(k)).astype(\"int\")] for k in list(nx.connected_components(soma_touching_graph))]\n",
    "            soma_to_piece_touching_vertices[i][piece_idx] = soma_con_comp\n",
    "            \"\"\"\n",
    "            \n",
    "            soma_to_piece_touching_vertices[i][piece_idx] = tu.split_vertex_list_into_connected_components(\n",
    "                                                vertex_indices_list=connected_mesh_pieces_vertices_idx[piece_index],\n",
    "                                                mesh=current_mesh, \n",
    "                                                vertex_graph=m_vert_graph, \n",
    "                                                return_coordinates=True\n",
    "                                               )\n",
    "            \n",
    "            \n",
    "            \n",
    "            \n",
    "\n",
    "#         border_debug = False\n",
    "#         if border_debug:\n",
    "#             print(f\"soma_to_piece_connectivity = {soma_to_piece_connectivity}\")\n",
    "#             print(f\"soma_to_piece_touching_vertices = {soma_to_piece_touching_vertices}\")\n",
    "\n",
    "\n",
    "    print(f\"Total time for mesh_pieces_connectivity= {time.time() - current_time}\")\n",
    "\n",
    "    soma_touching_mesh_data[z][\"soma_to_piece_connectivity\"] = soma_to_piece_connectivity\n",
    "\n",
    "print(f\"# of insignificant_limbs = {len(insignificant_limbs)} with trimesh : {insignificant_limbs}\")\n",
    "\n",
    "\n",
    "\n",
    "# Lets have an alert if there was more than one soma disconnected meshes\n",
    "if len(soma_touching_mesh_data.keys()) > 1:\n",
    "    raise Exception(\"More than 1 disconnected meshes that contain somas\")\n",
    "\n",
    "current_mesh_data = soma_touching_mesh_data\n",
    "soma_containing_idx = 0\n",
    "\n",
    "#doing inversion of the connectivity and touching vertices\n",
    "piece_to_soma_touching_vertices = gu.flip_key_orders_for_dict(soma_to_piece_touching_vertices)\n",
    "\n",
    "\n",
    "# ****Soma Touching mesh Data has the branches and the connectivity (So this is where you end up skipping if you don't have somas)***"
   ]
  },
  {
   "cell_type": "markdown",
   "metadata": {},
   "source": [
    "# Process that will start for each limb"
   ]
  },
  {
   "cell_type": "code",
   "execution_count": 266,
   "metadata": {
    "scrolled": true
   },
   "outputs": [
    {
     "name": "stdout",
     "output_type": "stream",
     "text": [
      "\n",
      "\n",
      "----- Working on Proper Limb # 0 ---------\n",
      "Time for preparing soma vertices and root: 2.384185791015625e-05\n",
      "cc_vertex_thresh = 10\n"
     ]
    },
    {
     "name": "stderr",
     "output_type": "stream",
     "text": [
      "\r",
      "  0%|          | 0/1 [00:00<?, ?it/s]"
     ]
    },
    {
     "data": {
      "application/vnd.jupyter.widget-view+json": {
       "model_id": "ffd0174079d940ebba7918895d629af7",
       "version_major": 2,
       "version_minor": 0
      },
      "text/plain": [
       "HBox(children=(FloatProgress(value=0.0, max=304426.0), HTML(value='')))"
      ]
     },
     "metadata": {},
     "output_type": "display_data"
    },
    {
     "name": "stderr",
     "output_type": "stream",
     "text": [
      "100%|██████████| 1/1 [00:24<00:00, 24.75s/it]"
     ]
    },
    {
     "name": "stdout",
     "output_type": "stream",
     "text": [
      "\n"
     ]
    },
    {
     "name": "stderr",
     "output_type": "stream",
     "text": [
      "\n"
     ]
    },
    {
     "name": "stdout",
     "output_type": "stream",
     "text": [
      "Time for 1st pass MP skeletonization: 27.39154052734375\n",
      "branches_touching_root = [16]\n",
      "length of Graph = 41389\n",
      "Working on path [1140. 1150. 1160. 1172. 1179.]\n",
      "path_degrees = [3, 2, 2, 2, 3]\n",
      "Working on path [3372. 3375. 3385. 3393. 3402. 3404.]\n",
      "path_degrees = [3, 2, 2, 2, 2, 3]\n",
      "Working on path [4213. 4219. 4224. 4230. 4236. 4239.]\n",
      "path_degrees = [3, 2, 2, 2, 2, 3]\n",
      "Working on path [4622. 4644. 4657.]\n",
      "path_degrees = [3, 2, 3]\n",
      "Working on path [5087. 5088. 5090. 5094. 5097. 5098.]\n",
      "path_degrees = [3, 2, 2, 2, 2, 3]\n",
      "Working on path [5659. 5674. 5683.]\n",
      "path_degrees = [3, 2, 3]\n",
      "Working on path [41394.  5701.  5720.  5739.  5758.  5790.  5795.]\n",
      "path_degrees = [4, 2, 2, 2, 2, 2, 3]\n",
      "Working on path [25272. 25308. 25343. 25369.]\n",
      "path_degrees = [3, 2, 2, 3]\n",
      "Working on path [25635. 25682. 25721. 25727.]\n",
      "path_degrees = [3, 2, 2, 3]\n",
      "Working on path [36463. 36484. 36505. 36524. 36545. 36567. 36570.]\n",
      "path_degrees = [3, 2, 2, 2, 2, 2, 3]\n",
      "max(kept_branches_idx) = 239, len(kept_branches_idx) = 230\n",
      "empty_indices % = 0.0\n",
      " conflict_indices % = 0.012809612409755712\n"
     ]
    },
    {
     "data": {
      "application/vnd.jupyter.widget-view+json": {
       "model_id": "c9c1246190ef47dfaf1874617145a30f",
       "version_major": 2,
       "version_minor": 0
      },
      "text/plain": [
       "HBox(children=(FloatProgress(value=0.0, max=113.0), HTML(value='')))"
      ]
     },
     "metadata": {},
     "output_type": "display_data"
    },
    {
     "name": "stdout",
     "output_type": "stream",
     "text": [
      "\n",
      "AFTER face_lookup_resolved_test\n"
     ]
    },
    {
     "data": {
      "application/vnd.jupyter.widget-view+json": {
       "model_id": "95ee5c1301e241ad88ebf5676f8e6ca7",
       "version_major": 2,
       "version_minor": 0
      },
      "text/plain": [
       "HBox(children=(FloatProgress(value=0.0, max=230.0), HTML(value='')))"
      ]
     },
     "metadata": {},
     "output_type": "display_data"
    },
    {
     "name": "stdout",
     "output_type": "stream",
     "text": [
      "\n",
      "Decomposing first pass: 33.061317920684814\n",
      "Attempting to use MeshAfterParty Skeletonization and Mesh Correspondence\n",
      "Another print\n",
      "Found len(mesh_large_idx) MAP candidates: [3645, 10304, 4463, 3028, 117, 2485, 5503, 2789, 373, 3033, 5019, 6565, 4702, 1345, 1176, 2098, 1741, 4727, 2408, 17391, 3940, 60, 2704, 7202, 2012, 17894, 3029, 1901, 6728, 124, 1390, 3678, 7297, 9835, 6221, 4469, 8524, 6162, 4834, 2683, 4074, 1665, 1696, 6054]\n",
      "mesh_large_connectivity: 1.5199716091156006\n",
      "Finding MAP candidates connected components: 0.0006048679351806641\n",
      "len(filtered_pieces) = 4\n",
      "skeleton_connectivity_MP : 1.3091228008270264\n",
      "Grouping MP Sublimbs by Graph: 0.30649518966674805\n",
      "Divinding into MP and MAP pieces: 1.430511474609375e-06\n",
      "--- Working on MAP piece 0---\n",
      "MAP Filtering Soma Pieces: 0.003587484359741211\n",
      "inside skeletonize_connected_branch and use_surface_after_CGAL=False, surface_reconstruction_size=1000\n",
      "     Starting Screened Poisson\n",
      "xvfb-run -n 4757 -s \"-screen 0 800x600x24\" meshlabserver $@  -i /notebooks/Platinum_Decomp_Fusion/temp/None.off -o /notebooks/Platinum_Decomp_Fusion/temp/None_poisson.off -s /notebooks/Platinum_Decomp_Fusion/temp/poisson_83657.mls\n",
      "removed temporary input file: /notebooks/Platinum_Decomp_Fusion/temp/None.off\n",
      "removed temporary output file: /notebooks/Platinum_Decomp_Fusion/temp/None_poisson.off\n",
      "Using the close holes feature\n",
      "xvfb-run -n 1502 -s \"-screen 0 800x600x24\" meshlabserver $@  -i /notebooks/Platinum_Decomp_Fusion/temp/neuron_17805.off -o /notebooks/Platinum_Decomp_Fusion/temp/neuron_17805_fill_holes.off -s /notebooks/Platinum_Decomp_Fusion/temp/fill_holes_469782.mls\n",
      "removed temporary input file: /notebooks/Platinum_Decomp_Fusion/temp/neuron_17805.off\n",
      "removed temporary output file: /notebooks/Platinum_Decomp_Fusion/temp/neuron_17805_fill_holes.off\n",
      "-----Time for Screened Poisson= 6.350764036178589\n",
      "     Starting Calcification\n"
     ]
    },
    {
     "data": {
      "application/vnd.jupyter.widget-view+json": {
       "model_id": "1a87ba6fbe1745ec98906a8af1523018",
       "version_major": 2,
       "version_minor": 0
      },
      "text/plain": [
       "HBox(children=(FloatProgress(value=1.0, bar_style='info', max=1.0), HTML(value='')))"
      ]
     },
     "metadata": {},
     "output_type": "display_data"
    },
    {
     "name": "stdout",
     "output_type": "stream",
     "text": [
      "\n",
      "No skeletons to stack so returning empty list\n",
      "len_subgraphs AT BEGINNING of the loop\n"
     ]
    },
    {
     "data": {
      "application/vnd.jupyter.widget-view+json": {
       "model_id": "a12efae705274e90b5602adab7cf0ab2",
       "version_major": 2,
       "version_minor": 0
      },
      "text/plain": [
       "HBox(children=(FloatProgress(value=0.0, max=1.0), HTML(value='')))"
      ]
     },
     "metadata": {},
     "output_type": "display_data"
    },
    {
     "name": "stdout",
     "output_type": "stream",
     "text": [
      "all graph is one component!\n",
      "\n",
      "Total time for skeleton stitching = 0.031223058700561523\n",
      "The process was using a temp folder\n",
      "Checking connected components after skeletonize_connected_branch\n",
      "    Total time for skeletonizing branch: 6.885545015335083\n",
      "Checking connected components after removing cycles\n",
      "    Total time for Fixing Skeleton Soma Endpoint Extension : 0.0035622119903564453\n",
      "filter_end_node_length = 4001\n",
      "Using Distance measure skeletal_distance\n"
     ]
    },
    {
     "data": {
      "application/vnd.jupyter.widget-view+json": {
       "model_id": "1baa4bb5a36a445385fe41c36739c66b",
       "version_major": 2,
       "version_minor": 0
      },
      "text/plain": [
       "HBox(children=(FloatProgress(value=0.0, max=2.0), HTML(value='')))"
      ]
     },
     "metadata": {},
     "output_type": "display_data"
    },
    {
     "name": "stdout",
     "output_type": "stream",
     "text": [
      "\n",
      "Checking connected components after clean_skeleton\n",
      "after DISTANCE cleaning limb size of skeleton = (81, 2, 3)\n",
      "********COMBINING CLOSE SKELETON NODES WITHIN 700 DISTANCE**********\n",
      "Found 0 valid paths to replace\n",
      "valid_paths = []\n",
      "valid_path_lengths = []\n",
      "No valid paths found so just returning the original\n",
      "Inside MAP decomposition and curr_limb_endpoints_must_keep was None\n",
      "skeletonize_and_clean_connected_branch_CGAL: 6.960056304931641\n",
      "Working on limb correspondence for #0 MAP piece\n"
     ]
    },
    {
     "data": {
      "application/vnd.jupyter.widget-view+json": {
       "model_id": "2dd2dff3de8249389a56bc378dc19e0b",
       "version_major": 2,
       "version_minor": 0
      },
      "text/plain": [
       "HBox(children=(FloatProgress(value=1.0, bar_style='info', max=1.0), HTML(value='')))"
      ]
     },
     "metadata": {},
     "output_type": "display_data"
    },
    {
     "name": "stdout",
     "output_type": "stream",
     "text": [
      "\n",
      "Total time for decomposition = 0.542353630065918\n",
      "mesh_correspondence_first_pass: 0.5423784255981445\n",
      "Limb decomposed into 1 branches\n",
      "divided_skeleton_graph_recovered = (81, 2, 3) and \n",
      "current_mesh_data[0]['branch_skeletons_cleaned'].shape = (81, 2, 3)\n",
      "\n",
      "Number of connected components in deocmposed recovered graph = 1\n",
      "Number of connected components in cleaned skeleton graph= 1\n",
      "The downsampled branches number of connected components = 1\n",
      "Empty submeshes = []\n",
      "\n",
      "\n",
      "--- Working on 1-to-1 correspondence-----\n",
      "max(original_labels),len(original_labels) = (0, 1)\n",
      "empty_indices % = 0.01701210015574458\n",
      " conflict_indices % = 0.0\n"
     ]
    },
    {
     "data": {
      "application/vnd.jupyter.widget-view+json": {
       "model_id": "f11fc068d8654eb48b714487bb83a29f",
       "version_major": 2,
       "version_minor": 0
      },
      "text/plain": [
       "HBox(children=(FloatProgress(value=0.0, max=2.0), HTML(value='')))"
      ]
     },
     "metadata": {},
     "output_type": "display_data"
    },
    {
     "name": "stdout",
     "output_type": "stream",
     "text": [
      "\n",
      "AFTER face_lookup_resolved_test\n"
     ]
    },
    {
     "data": {
      "application/vnd.jupyter.widget-view+json": {
       "model_id": "c50453f838534b868877d9942f280b98",
       "version_major": 2,
       "version_minor": 0
      },
      "text/plain": [
       "HBox(children=(FloatProgress(value=0.0, max=1.0), HTML(value='')))"
      ]
     },
     "metadata": {},
     "output_type": "display_data"
    },
    {
     "name": "stdout",
     "output_type": "stream",
     "text": [
      "\n",
      "Total time for MAP sublimb #0 mesh processing = 7.65146279335022\n",
      "correspondence_1_to_1: 0.14538097381591797\n",
      "--- Working on MAP piece 1---\n",
      "MAP Filtering Soma Pieces: 0.006201267242431641\n",
      "inside skeletonize_connected_branch and use_surface_after_CGAL=False, surface_reconstruction_size=1000\n",
      "     Starting Screened Poisson\n",
      "xvfb-run -n 2151 -s \"-screen 0 800x600x24\" meshlabserver $@  -i /notebooks/Platinum_Decomp_Fusion/temp/None.off -o /notebooks/Platinum_Decomp_Fusion/temp/None_poisson.off -s /notebooks/Platinum_Decomp_Fusion/temp/poisson_519360.mls\n",
      "removed temporary input file: /notebooks/Platinum_Decomp_Fusion/temp/None.off\n",
      "removed temporary output file: /notebooks/Platinum_Decomp_Fusion/temp/None_poisson.off\n",
      "Using the close holes feature\n",
      "xvfb-run -n 1493 -s \"-screen 0 800x600x24\" meshlabserver $@  -i /notebooks/Platinum_Decomp_Fusion/temp/neuron_38776.off -o /notebooks/Platinum_Decomp_Fusion/temp/neuron_38776_fill_holes.off -s /notebooks/Platinum_Decomp_Fusion/temp/fill_holes_691789.mls\n",
      "removed temporary input file: /notebooks/Platinum_Decomp_Fusion/temp/neuron_38776.off\n",
      "removed temporary output file: /notebooks/Platinum_Decomp_Fusion/temp/neuron_38776_fill_holes.off\n",
      "-----Time for Screened Poisson= 26.395551919937134\n",
      "     Starting Calcification\n",
      "node_degrees = [3 3 2 2]\n"
     ]
    },
    {
     "data": {
      "application/vnd.jupyter.widget-view+json": {
       "model_id": "f15be2fc27c5436cadea36d5a9bc7ed4",
       "version_major": 2,
       "version_minor": 0
      },
      "text/plain": [
       "HBox(children=(FloatProgress(value=1.0, bar_style='info', max=1.0), HTML(value='')))"
      ]
     },
     "metadata": {},
     "output_type": "display_data"
    },
    {
     "name": "stdout",
     "output_type": "stream",
     "text": [
      "\n",
      "No skeletons to stack so returning empty list\n",
      "len_subgraphs AT BEGINNING of the loop\n"
     ]
    },
    {
     "data": {
      "application/vnd.jupyter.widget-view+json": {
       "model_id": "5de093bb240c4604b6514b1e4fd8cf31",
       "version_major": 2,
       "version_minor": 0
      },
      "text/plain": [
       "HBox(children=(FloatProgress(value=0.0, max=1.0), HTML(value='')))"
      ]
     },
     "metadata": {},
     "output_type": "display_data"
    },
    {
     "name": "stdout",
     "output_type": "stream",
     "text": [
      "all graph is one component!\n",
      "\n",
      "Total time for skeleton stitching = 0.04535388946533203\n",
      "The process was using a temp folder\n",
      "Checking connected components after skeletonize_connected_branch\n",
      "    Total time for skeletonizing branch: 35.0422682762146\n",
      "Checking connected components after removing cycles\n",
      "Total time for mesh KDTree = 0.5438969135284424\n",
      "sbv[0].reshape(-1,3) = [[400512. 690375. 655452.]]\n",
      "closest_sk_pt_coord BEFORE = [397579. 689777. 654346.]\n",
      "current_skeleton.shape = (757, 2, 3)\n",
      "Current stitch point was not a branch or endpoint, shortest_path_length to one = 6522.743487730841\n",
      "change_status for create soma extending pieces = False\n",
      "closest_sk_pt_coord AFTER = [397579. 689777. 654346.]\n",
      "Adding new branch to skeleton\n",
      "border_average_coordinate = [396933.58878924 690182.1161435  655029.42376682]\n",
      "sbv[0].reshape(-1,3) = [[416325.  677575.5 635628. ]]\n",
      "closest_sk_pt_coord BEFORE = [416436. 678698. 635928.]\n",
      "current_skeleton.shape = (758, 2, 3)\n",
      "Current stitch point was a branch or endpoint\n",
      "change_status for create soma extending pieces = False\n",
      "closest_sk_pt_coord AFTER = [416436. 678698. 635928.]\n",
      "skipping soma 1 because closest skeleton node was already end node\n",
      "endpoints_must_keep = {0: array([[396933.58878924, 690182.1161435 , 655029.42376682]]), 1: array([[416436., 678698., 635928.]])}\n",
      "    Total time for Fixing Skeleton Soma Endpoint Extension : 0.9782979488372803\n",
      "filter_end_node_length = 4001\n",
      "Using Distance measure skeletal_distance\n",
      "endpoints_must_keep = [[396933.58878924 690182.1161435  655029.42376682]\n",
      " [416436.         678698.         635928.        ]]\n",
      "Number of end_nodes BEFORE filtering = 53\n",
      "all_single_nodes_to_eliminate = [20, 37]\n"
     ]
    },
    {
     "data": {
      "application/vnd.jupyter.widget-view+json": {
       "model_id": "5ad3a5b6278843cd800413ecc7eb8f99",
       "version_major": 2,
       "version_minor": 0
      },
      "text/plain": [
       "HBox(children=(FloatProgress(value=0.0, max=45.0), HTML(value='')))"
      ]
     },
     "metadata": {},
     "output_type": "display_data"
    },
    {
     "name": "stdout",
     "output_type": "stream",
     "text": [
      "\n",
      "Checking connected components after clean_skeleton\n",
      "after DISTANCE cleaning limb size of skeleton = (678, 2, 3)\n",
      "********COMBINING CLOSE SKELETON NODES WITHIN 700 DISTANCE**********\n",
      "Found 0 valid paths to replace\n",
      "valid_paths = []\n",
      "valid_path_lengths = []\n",
      "No valid paths found so just returning the original\n",
      "skeletonize_and_clean_connected_branch_CGAL: 36.83664035797119\n",
      "Working on limb correspondence for #1 MAP piece\n"
     ]
    },
    {
     "data": {
      "application/vnd.jupyter.widget-view+json": {
       "model_id": "78bca14e53884c4cace93b06076077b4",
       "version_major": 2,
       "version_minor": 0
      },
      "text/plain": [
       "HBox(children=(FloatProgress(value=1.0, bar_style='info', max=1.0), HTML(value='')))"
      ]
     },
     "metadata": {},
     "output_type": "display_data"
    },
    {
     "name": "stdout",
     "output_type": "stream",
     "text": [
      "empty mesh_correspondence_indices_2 returned so returning original mesh correspondence\n",
      "empty mesh_correspondence_indices_2 returned so returning original mesh correspondence\n",
      "\n",
      "Total time for decomposition = 10.894791603088379\n",
      "mesh_correspondence_first_pass: 10.8948233127594\n",
      "Limb decomposed into 19 branches\n",
      "divided_skeleton_graph_recovered = (678, 2, 3) and \n",
      "current_mesh_data[0]['branch_skeletons_cleaned'].shape = (678, 2, 3)\n",
      "\n",
      "Number of connected components in deocmposed recovered graph = 1\n",
      "Number of connected components in cleaned skeleton graph= 1\n",
      "The downsampled branches number of connected components = 1\n",
      "Empty submeshes = []\n",
      "\n",
      "\n",
      "--- Working on 1-to-1 correspondence-----\n",
      "max(original_labels),len(original_labels) = (18, 19)\n",
      "empty_indices % = 0.09929543564833049\n",
      " conflict_indices % = 0.03224147739705046\n"
     ]
    },
    {
     "data": {
      "application/vnd.jupyter.widget-view+json": {
       "model_id": "8876a702caae4b3e8c6072ee124aa654",
       "version_major": 2,
       "version_minor": 0
      },
      "text/plain": [
       "HBox(children=(FloatProgress(value=0.0, max=36.0), HTML(value='')))"
      ]
     },
     "metadata": {},
     "output_type": "display_data"
    },
    {
     "name": "stdout",
     "output_type": "stream",
     "text": [
      "\n",
      "AFTER face_lookup_resolved_test\n",
      "Took 0 iterations to expand the label back\n",
      "Took 0 iterations to expand the label back\n"
     ]
    },
    {
     "data": {
      "application/vnd.jupyter.widget-view+json": {
       "model_id": "db80d640ce34447ca2d80fead1a935e9",
       "version_major": 2,
       "version_minor": 0
      },
      "text/plain": [
       "HBox(children=(FloatProgress(value=0.0, max=19.0), HTML(value='')))"
      ]
     },
     "metadata": {},
     "output_type": "display_data"
    },
    {
     "name": "stdout",
     "output_type": "stream",
     "text": [
      "\n",
      "Total time for MAP sublimb #1 mesh processing = 51.20554804801941\n",
      "correspondence_1_to_1: 3.467844247817993\n",
      "--- Working on MAP piece 2---\n",
      "MAP Filtering Soma Pieces: 0.006529808044433594\n",
      "inside skeletonize_connected_branch and use_surface_after_CGAL=False, surface_reconstruction_size=1000\n",
      "     Starting Screened Poisson\n",
      "xvfb-run -n 3397 -s \"-screen 0 800x600x24\" meshlabserver $@  -i /notebooks/Platinum_Decomp_Fusion/temp/None.off -o /notebooks/Platinum_Decomp_Fusion/temp/None_poisson.off -s /notebooks/Platinum_Decomp_Fusion/temp/poisson_852918.mls\n",
      "removed temporary input file: /notebooks/Platinum_Decomp_Fusion/temp/None.off\n",
      "removed temporary output file: /notebooks/Platinum_Decomp_Fusion/temp/None_poisson.off\n",
      "Using the close holes feature\n",
      "xvfb-run -n 9913 -s \"-screen 0 800x600x24\" meshlabserver $@  -i /notebooks/Platinum_Decomp_Fusion/temp/neuron_1953.off -o /notebooks/Platinum_Decomp_Fusion/temp/neuron_1953_fill_holes.off -s /notebooks/Platinum_Decomp_Fusion/temp/fill_holes_847893.mls\n",
      "removed temporary input file: /notebooks/Platinum_Decomp_Fusion/temp/neuron_1953.off\n",
      "removed temporary output file: /notebooks/Platinum_Decomp_Fusion/temp/neuron_1953_fill_holes.off\n",
      "-----Time for Screened Poisson= 21.53214979171753\n",
      "     Starting Calcification\n"
     ]
    },
    {
     "data": {
      "application/vnd.jupyter.widget-view+json": {
       "model_id": "681c7129929e4d988a0c430398ae4a4a",
       "version_major": 2,
       "version_minor": 0
      },
      "text/plain": [
       "HBox(children=(FloatProgress(value=1.0, bar_style='info', max=1.0), HTML(value='')))"
      ]
     },
     "metadata": {},
     "output_type": "display_data"
    },
    {
     "name": "stdout",
     "output_type": "stream",
     "text": [
      "\n",
      "No skeletons to stack so returning empty list\n",
      "len_subgraphs AT BEGINNING of the loop\n"
     ]
    },
    {
     "data": {
      "application/vnd.jupyter.widget-view+json": {
       "model_id": "ec5cca96621a44ff9f7d01ab7ba4ad0f",
       "version_major": 2,
       "version_minor": 0
      },
      "text/plain": [
       "HBox(children=(FloatProgress(value=0.0, max=1.0), HTML(value='')))"
      ]
     },
     "metadata": {},
     "output_type": "display_data"
    },
    {
     "name": "stdout",
     "output_type": "stream",
     "text": [
      "all graph is one component!\n",
      "\n",
      "Total time for skeleton stitching = 0.04680132865905762\n",
      "The process was using a temp folder\n",
      "Checking connected components after skeletonize_connected_branch\n",
      "    Total time for skeletonizing branch: 27.209639072418213\n",
      "Checking connected components after removing cycles\n",
      "Total time for mesh KDTree = 0.5475232601165771\n",
      "sbv[0].reshape(-1,3) = [[395304. 690291. 655536.]]\n",
      "closest_sk_pt_coord BEFORE = [397200. 688007. 656504.]\n",
      "current_skeleton.shape = (906, 2, 3)\n",
      "Current stitch point was not a branch or endpoint, shortest_path_length to one = 2624.3900613225264\n",
      "change_status for create soma extending pieces = False\n",
      "closest_sk_pt_coord AFTER = [397200. 688007. 656504.]\n",
      "Adding new branch to skeleton\n",
      "border_average_coordinate = [397242.25540541 688290.59527027 656020.51689189]\n",
      "endpoints_must_keep = {0: array([[397242.25540541, 688290.59527027, 656020.51689189]])}\n",
      "    Total time for Fixing Skeleton Soma Endpoint Extension : 0.848919153213501\n",
      "filter_end_node_length = 4001\n",
      "Using Distance measure skeletal_distance\n",
      "endpoints_must_keep = [[397242.25540541 688290.59527027 656020.51689189]]\n",
      "Number of end_nodes BEFORE filtering = 53\n",
      "all_single_nodes_to_eliminate = [8]\n"
     ]
    },
    {
     "data": {
      "application/vnd.jupyter.widget-view+json": {
       "model_id": "f9d31a0fdaa845bb864a23262b271777",
       "version_major": 2,
       "version_minor": 0
      },
      "text/plain": [
       "HBox(children=(FloatProgress(value=0.0, max=50.0), HTML(value='')))"
      ]
     },
     "metadata": {},
     "output_type": "display_data"
    },
    {
     "name": "stdout",
     "output_type": "stream",
     "text": [
      "\n",
      "Checking connected components after clean_skeleton\n",
      "after DISTANCE cleaning limb size of skeleton = (822, 2, 3)\n",
      "********COMBINING CLOSE SKELETON NODES WITHIN 700 DISTANCE**********\n",
      "Found 0 valid paths to replace\n",
      "valid_paths = []\n",
      "valid_path_lengths = []\n",
      "No valid paths found so just returning the original\n",
      "skeletonize_and_clean_connected_branch_CGAL: 29.04699683189392\n",
      "Working on limb correspondence for #2 MAP piece\n"
     ]
    },
    {
     "data": {
      "application/vnd.jupyter.widget-view+json": {
       "model_id": "d8bcebc4618f4fde986b147ba880227b",
       "version_major": 2,
       "version_minor": 0
      },
      "text/plain": [
       "HBox(children=(FloatProgress(value=1.0, bar_style='info', max=1.0), HTML(value='')))"
      ]
     },
     "metadata": {},
     "output_type": "display_data"
    },
    {
     "name": "stdout",
     "output_type": "stream",
     "text": [
      "\n",
      "Total time for decomposition = 10.156805992126465\n",
      "mesh_correspondence_first_pass: 10.156837701797485\n",
      "Limb decomposed into 7 branches\n",
      "divided_skeleton_graph_recovered = (822, 2, 3) and \n",
      "current_mesh_data[0]['branch_skeletons_cleaned'].shape = (822, 2, 3)\n",
      "\n",
      "Number of connected components in deocmposed recovered graph = 1\n",
      "Number of connected components in cleaned skeleton graph= 1\n",
      "The downsampled branches number of connected components = 1\n",
      "Empty submeshes = []\n",
      "\n",
      "\n",
      "--- Working on 1-to-1 correspondence-----\n",
      "max(original_labels),len(original_labels) = (6, 7)\n",
      "empty_indices % = 0.01317999741568678\n",
      " conflict_indices % = 0.012243183873885516\n"
     ]
    },
    {
     "data": {
      "application/vnd.jupyter.widget-view+json": {
       "model_id": "27d2034c4578431aa2795463912f3a8a",
       "version_major": 2,
       "version_minor": 0
      },
      "text/plain": [
       "HBox(children=(FloatProgress(value=0.0, max=16.0), HTML(value='')))"
      ]
     },
     "metadata": {},
     "output_type": "display_data"
    },
    {
     "name": "stdout",
     "output_type": "stream",
     "text": [
      "\n",
      "AFTER face_lookup_resolved_test\n",
      "Took 0 iterations to expand the label back\n"
     ]
    },
    {
     "data": {
      "application/vnd.jupyter.widget-view+json": {
       "model_id": "777f170677cd41b5ba6943d0bcc8b8f4",
       "version_major": 2,
       "version_minor": 0
      },
      "text/plain": [
       "HBox(children=(FloatProgress(value=0.0, max=7.0), HTML(value='')))"
      ]
     },
     "metadata": {},
     "output_type": "display_data"
    },
    {
     "name": "stdout",
     "output_type": "stream",
     "text": [
      "\n",
      "Total time for MAP sublimb #2 mesh processing = 42.308871269226074\n",
      "correspondence_1_to_1: 3.0984411239624023\n",
      "--- Working on MAP piece 3---\n",
      "MAP Filtering Soma Pieces: 0.0029439926147460938\n",
      "inside skeletonize_connected_branch and use_surface_after_CGAL=False, surface_reconstruction_size=1000\n",
      "     Starting Screened Poisson\n",
      "xvfb-run -n 2244 -s \"-screen 0 800x600x24\" meshlabserver $@  -i /notebooks/Platinum_Decomp_Fusion/temp/None.off -o /notebooks/Platinum_Decomp_Fusion/temp/None_poisson.off -s /notebooks/Platinum_Decomp_Fusion/temp/poisson_561723.mls\n",
      "removed temporary input file: /notebooks/Platinum_Decomp_Fusion/temp/None.off\n",
      "removed temporary output file: /notebooks/Platinum_Decomp_Fusion/temp/None_poisson.off\n",
      "Using the close holes feature\n",
      "xvfb-run -n 611 -s \"-screen 0 800x600x24\" meshlabserver $@  -i /notebooks/Platinum_Decomp_Fusion/temp/neuron_15424.off -o /notebooks/Platinum_Decomp_Fusion/temp/neuron_15424_fill_holes.off -s /notebooks/Platinum_Decomp_Fusion/temp/fill_holes_515468.mls\n",
      "removed temporary input file: /notebooks/Platinum_Decomp_Fusion/temp/neuron_15424.off\n",
      "removed temporary output file: /notebooks/Platinum_Decomp_Fusion/temp/neuron_15424_fill_holes.off\n",
      "-----Time for Screened Poisson= 6.125054836273193\n",
      "     Starting Calcification\n"
     ]
    },
    {
     "data": {
      "application/vnd.jupyter.widget-view+json": {
       "model_id": "4e6b6fcc60a241028ce409aa0929058f",
       "version_major": 2,
       "version_minor": 0
      },
      "text/plain": [
       "HBox(children=(FloatProgress(value=1.0, bar_style='info', max=1.0), HTML(value='')))"
      ]
     },
     "metadata": {},
     "output_type": "display_data"
    },
    {
     "name": "stdout",
     "output_type": "stream",
     "text": [
      "\n",
      "No skeletons to stack so returning empty list\n",
      "len_subgraphs AT BEGINNING of the loop\n"
     ]
    },
    {
     "data": {
      "application/vnd.jupyter.widget-view+json": {
       "model_id": "2822cb0e7f064bbfbe80993aaf8293c9",
       "version_major": 2,
       "version_minor": 0
      },
      "text/plain": [
       "HBox(children=(FloatProgress(value=0.0, max=1.0), HTML(value='')))"
      ]
     },
     "metadata": {},
     "output_type": "display_data"
    },
    {
     "name": "stdout",
     "output_type": "stream",
     "text": [
      "all graph is one component!\n",
      "\n",
      "Total time for skeleton stitching = 0.021570920944213867\n",
      "The process was using a temp folder\n",
      "Checking connected components after skeletonize_connected_branch\n",
      "    Total time for skeletonizing branch: 6.58115291595459\n",
      "Checking connected components after removing cycles\n",
      "Total time for mesh KDTree = 0.045423030853271484\n",
      "sbv[0].reshape(-1,3) = [[415344.2 669689.8 623249.4]]\n",
      "closest_sk_pt_coord BEFORE = [414991. 670198. 621463.]\n",
      "current_skeleton.shape = (48, 2, 3)\n",
      "Current stitch point was not a branch or endpoint, shortest_path_length to one = 442.1707814860679\n",
      "Changing the stitch point becasue the distance to end or branch node was 442.1707814860679\n",
      "New stitch point has degree 1\n",
      "change_status for create soma extending pieces = True\n",
      "closest_sk_pt_coord AFTER = [414576. 670105. 621584.]\n",
      "skipping soma 1 because closest skeleton node was already end node\n",
      "endpoints_must_keep = {1: array([[414576., 670105., 621584.]])}\n",
      "    Total time for Fixing Skeleton Soma Endpoint Extension : 0.0881047248840332\n",
      "filter_end_node_length = 4001\n",
      "Using Distance measure skeletal_distance\n",
      "endpoints_must_keep = [[414576. 670105. 621584.]]\n",
      "Number of end_nodes BEFORE filtering = 2\n",
      "all_single_nodes_to_eliminate = [1]\n",
      "no small end nodes to get rid of so returning whole skeleton\n",
      "Checking connected components after clean_skeleton\n",
      "after DISTANCE cleaning limb size of skeleton = (48, 2, 3)\n",
      "********COMBINING CLOSE SKELETON NODES WITHIN 700 DISTANCE**********\n",
      "Found 0 valid paths to replace\n",
      "valid_paths = []\n",
      "valid_path_lengths = []\n",
      "No valid paths found so just returning the original\n",
      "skeletonize_and_clean_connected_branch_CGAL: 6.700888156890869\n",
      "Working on limb correspondence for #3 MAP piece\n"
     ]
    },
    {
     "data": {
      "application/vnd.jupyter.widget-view+json": {
       "model_id": "5d7f641b95d44af690957ade5fc7ab7d",
       "version_major": 2,
       "version_minor": 0
      },
      "text/plain": [
       "HBox(children=(FloatProgress(value=1.0, bar_style='info', max=1.0), HTML(value='')))"
      ]
     },
     "metadata": {},
     "output_type": "display_data"
    },
    {
     "name": "stdout",
     "output_type": "stream",
     "text": [
      "\n",
      "Total time for decomposition = 0.31383466720581055\n",
      "mesh_correspondence_first_pass: 0.31386542320251465\n",
      "Limb decomposed into 1 branches\n",
      "divided_skeleton_graph_recovered = (48, 2, 3) and \n",
      "current_mesh_data[0]['branch_skeletons_cleaned'].shape = (48, 2, 3)\n",
      "\n",
      "Number of connected components in deocmposed recovered graph = 1\n",
      "Number of connected components in cleaned skeleton graph= 1\n",
      "The downsampled branches number of connected components = 1\n",
      "Empty submeshes = []\n",
      "\n",
      "\n",
      "--- Working on 1-to-1 correspondence-----\n",
      "max(original_labels),len(original_labels) = (0, 1)\n",
      "empty_indices % = 0.17833967330498993\n",
      " conflict_indices % = 0.0\n"
     ]
    },
    {
     "data": {
      "application/vnd.jupyter.widget-view+json": {
       "model_id": "4a84aaaa77314e318f598b72da86cd99",
       "version_major": 2,
       "version_minor": 0
      },
      "text/plain": [
       "HBox(children=(FloatProgress(value=0.0, max=2.0), HTML(value='')))"
      ]
     },
     "metadata": {},
     "output_type": "display_data"
    },
    {
     "name": "stdout",
     "output_type": "stream",
     "text": [
      "\n",
      "AFTER face_lookup_resolved_test\n",
      "Took 0 iterations to expand the label back\n"
     ]
    },
    {
     "data": {
      "application/vnd.jupyter.widget-view+json": {
       "model_id": "ed42e4876fb94778944fd896b33678f0",
       "version_major": 2,
       "version_minor": 0
      },
      "text/plain": [
       "HBox(children=(FloatProgress(value=0.0, max=1.0), HTML(value='')))"
      ]
     },
     "metadata": {},
     "output_type": "display_data"
    },
    {
     "name": "stdout",
     "output_type": "stream",
     "text": [
      "\n",
      "Total time for MAP sublimb #3 mesh processing = 7.1592466831207275\n",
      "correspondence_1_to_1: 0.1415085792541504\n",
      "Total time for MAP sublimb processing 108.32552456855774\n",
      "---- Working on MP Decomposition #0 ----\n",
      "MP filtering soma verts: 0.017609596252441406\n",
      "Do Not Need to Fix MP Decomposition 0 so just continuing\n",
      "---- Working on MP Decomposition #1 ----\n",
      "MP filtering soma verts: 0.0029833316802978516\n",
      "Do Not Need to Fix MP Decomposition 1 so just continuing\n",
      "---- Working on MP Decomposition #2 ----\n",
      "MP filtering soma verts: 0.003751993179321289\n",
      "Do Not Need to Fix MP Decomposition 2 so just continuing\n",
      "---- Working on MP Decomposition #3 ----\n",
      "MP filtering soma verts: 0.0008435249328613281\n",
      "Do Not Need to Fix MP Decomposition 3 so just continuing\n",
      "---- Working on MP Decomposition #4 ----\n",
      "MP filtering soma verts: 0.0018768310546875\n",
      "Do Not Need to Fix MP Decomposition 4 so just continuing\n",
      "---- Working on MP Decomposition #5 ----\n",
      "MP filtering soma verts: 0.0007991790771484375\n",
      "Do Not Need to Fix MP Decomposition 5 so just continuing\n",
      "---- Working on MP Decomposition #6 ----\n",
      "MP filtering soma verts: 0.00046515464782714844\n",
      "Do Not Need to Fix MP Decomposition 6 so just continuing\n",
      "---- Working on MP Decomposition #7 ----\n",
      "MP filtering soma verts: 0.0009765625\n",
      "Do Not Need to Fix MP Decomposition 7 so just continuing\n",
      "---- Working on MP Decomposition #8 ----\n",
      "MP filtering soma verts: 0.001157522201538086\n",
      "Do Not Need to Fix MP Decomposition 8 so just continuing\n",
      "---- Working on MP Decomposition #9 ----\n",
      "MP filtering soma verts: 0.0008845329284667969\n",
      "Do Not Need to Fix MP Decomposition 9 so just continuing\n",
      "---- Working on MP Decomposition #10 ----\n",
      "MP filtering soma verts: 0.0007784366607666016\n",
      "Do Not Need to Fix MP Decomposition 10 so just continuing\n",
      "---- Working on MP Decomposition #11 ----\n",
      "MP filtering soma verts: 0.0014064311981201172\n",
      "Do Not Need to Fix MP Decomposition 11 so just continuing\n",
      "---- Working on MP Decomposition #12 ----\n",
      "MP filtering soma verts: 0.0016143321990966797\n",
      "Do Not Need to Fix MP Decomposition 12 so just continuing\n",
      "---- Working on MP Decomposition #13 ----\n",
      "MP filtering soma verts: 0.00109100341796875\n",
      "Do Not Need to Fix MP Decomposition 13 so just continuing\n",
      "---- Working on MP Decomposition #14 ----\n",
      "MP filtering soma verts: 0.0008602142333984375\n",
      "Do Not Need to Fix MP Decomposition 14 so just continuing\n",
      "---- Working on MP Decomposition #15 ----\n",
      "MP filtering soma verts: 0.0034856796264648438\n",
      "Do Not Need to Fix MP Decomposition 15 so just continuing\n",
      "---- Working on MP Decomposition #16 ----\n",
      "MP filtering soma verts: 0.0009932518005371094\n",
      "Fixing Possible Soma Extension Branch for Sublimb 16\n",
      "Total time for mesh KDTree = 0.03760194778442383\n",
      "sbv[0].reshape(-1,3) = [[402921.2 695135.1 655591.8]]\n",
      "closest_sk_pt_coord BEFORE = [398442.14165638 695934.49284866 653469.37460028]\n",
      "current_skeleton.shape = (53, 2, 3)\n",
      "Current stitch point was not a branch or endpoint, shortest_path_length to one = 1999.9801459221692\n",
      "change_status for create soma extending pieces = False\n",
      "closest_sk_pt_coord AFTER = [398442.14165638 695934.49284866 653469.37460028]\n",
      "Adding new branch to skeleton\n",
      "border_average_coordinate = [398713.48305085 695803.2559322  654675.06101695]\n",
      "endpoints_must_keep = {0: array([[398713.48305085, 695803.2559322 , 654675.06101695]])}\n",
      "MP (because soma touching verts) create_soma_extending_branches: 0.09105324745178223\n",
      "orig_vertex = [398442.14165638 695934.49284866 653469.37460028]\n",
      "match_sk_branches = [0]\n"
     ]
    },
    {
     "data": {
      "application/vnd.jupyter.widget-view+json": {
       "model_id": "5d7ab1ad2db947338f0305b401eaf52a",
       "version_major": 2,
       "version_minor": 0
      },
      "text/plain": [
       "HBox(children=(FloatProgress(value=1.0, bar_style='info', max=1.0), HTML(value='')))"
      ]
     },
     "metadata": {},
     "output_type": "display_data"
    },
    {
     "name": "stdout",
     "output_type": "stream",
     "text": [
      "\n",
      "\n",
      "\n",
      "--- Working on 1-to-1 correspondence-----\n",
      "max(original_labels),len(original_labels) = (2, 3)\n",
      "empty_indices % = 0.46153846153846156\n",
      " conflict_indices % = 0.0182031708749266\n"
     ]
    },
    {
     "data": {
      "application/vnd.jupyter.widget-view+json": {
       "model_id": "f8d77bda52234c89a85e9e27a70bac34",
       "version_major": 2,
       "version_minor": 0
      },
      "text/plain": [
       "HBox(children=(FloatProgress(value=0.0, max=13.0), HTML(value='')))"
      ]
     },
     "metadata": {},
     "output_type": "display_data"
    },
    {
     "name": "stdout",
     "output_type": "stream",
     "text": [
      "\n",
      "AFTER face_lookup_resolved_test\n",
      "Took 18 iterations to expand the label back\n"
     ]
    },
    {
     "data": {
      "application/vnd.jupyter.widget-view+json": {
       "model_id": "2df0367c4e934fb6b504acd67188e3e1",
       "version_major": 2,
       "version_minor": 0
      },
      "text/plain": [
       "HBox(children=(FloatProgress(value=0.0, max=3.0), HTML(value='')))"
      ]
     },
     "metadata": {},
     "output_type": "display_data"
    },
    {
     "name": "stdout",
     "output_type": "stream",
     "text": [
      "\n",
      "curr_width_median = 5678.339693036596\n",
      "curr_width_median = 7441.219177259434\n",
      "curr_width_median = 22874.271870153552\n",
      "checked segment branches after soma add on\n",
      "MP (because soma touching verts) soma extension add: 1.3867237567901611\n",
      "---- Working on MP Decomposition #17 ----\n",
      "MP filtering soma verts: 0.00164031982421875\n",
      "Do Not Need to Fix MP Decomposition 17 so just continuing\n",
      "---- Working on MP Decomposition #18 ----\n",
      "MP filtering soma verts: 0.0011775493621826172\n",
      "Do Not Need to Fix MP Decomposition 18 so just continuing\n",
      "---- Working on MP Decomposition #19 ----\n",
      "MP filtering soma verts: 0.000978231430053711\n",
      "Do Not Need to Fix MP Decomposition 19 so just continuing\n",
      "---- Working on MP Decomposition #20 ----\n",
      "MP filtering soma verts: 0.0005216598510742188\n",
      "Do Not Need to Fix MP Decomposition 20 so just continuing\n",
      "---- Working on MP Decomposition #21 ----\n",
      "MP filtering soma verts: 0.0009019374847412109\n",
      "Do Not Need to Fix MP Decomposition 21 so just continuing\n",
      "\n",
      "---- Working on (0, 0) connection-----\n",
      "winning_vertex = [379431.56629996 626706.38638839 636664.72816007]\n",
      "MP_branches_with_stitch_point = [9]\n",
      "Current stitch point was not a branch or endpoint, shortest_path_length to one = 18297.338847545914\n",
      "MAP_branches_with_stitch_point = [0]\n",
      "MAP_stitch_point_on_end_or_branch = False\n",
      "Found winning edge: [19, 20.0]\n"
     ]
    },
    {
     "data": {
      "application/vnd.jupyter.widget-view+json": {
       "model_id": "df488b3c20b74aada501ee145b2b0153",
       "version_major": 2,
       "version_minor": 0
      },
      "text/plain": [
       "HBox(children=(FloatProgress(value=1.0, bar_style='info', max=1.0), HTML(value='')))"
      ]
     },
     "metadata": {},
     "output_type": "display_data"
    },
    {
     "name": "stdout",
     "output_type": "stream",
     "text": [
      "\n",
      "\n",
      "\n",
      "--- Working on 1-to-1 correspondence-----\n",
      "max(original_labels),len(original_labels) = (2, 3)\n",
      "empty_indices % = 0.04184782608695652\n",
      " conflict_indices % = 0.004239130434782609\n"
     ]
    },
    {
     "data": {
      "application/vnd.jupyter.widget-view+json": {
       "model_id": "218eec0b7f3b42e3899aeff390d95cb7",
       "version_major": 2,
       "version_minor": 0
      },
      "text/plain": [
       "HBox(children=(FloatProgress(value=0.0, max=7.0), HTML(value='')))"
      ]
     },
     "metadata": {},
     "output_type": "display_data"
    },
    {
     "name": "stdout",
     "output_type": "stream",
     "text": [
      "\n",
      "AFTER face_lookup_resolved_test\n"
     ]
    },
    {
     "data": {
      "application/vnd.jupyter.widget-view+json": {
       "model_id": "205be7b5e09443dd892fd2dc621b580b",
       "version_major": 2,
       "version_minor": 0
      },
      "text/plain": [
       "HBox(children=(FloatProgress(value=0.0, max=3.0), HTML(value='')))"
      ]
     },
     "metadata": {},
     "output_type": "display_data"
    },
    {
     "name": "stdout",
     "output_type": "stream",
     "text": [
      "\n",
      "Deleting branches from dictionary\n",
      " Finished with (0, 0) \n",
      "\n",
      "\n",
      "\n",
      "\n",
      "---- Working on (1, 0) connection-----\n",
      "winning_vertex = [384040.14389181 643823.74167652 640151.3170873 ]\n",
      "MP_branches_with_stitch_point = [3, 5]\n",
      "Current stitch point was a branch or endpoint\n",
      "MAP_branches_with_stitch_point = [1]\n",
      "MAP_stitch_point_on_end_or_branch = True\n",
      "Only 2 skeleton nodes so cannot do smoothing\n",
      "Found winning edge: [9, 11.0]\n"
     ]
    },
    {
     "data": {
      "application/vnd.jupyter.widget-view+json": {
       "model_id": "4f70f1ceb5674786baa803c094184a99",
       "version_major": 2,
       "version_minor": 0
      },
      "text/plain": [
       "HBox(children=(FloatProgress(value=1.0, bar_style='info', max=1.0), HTML(value='')))"
      ]
     },
     "metadata": {},
     "output_type": "display_data"
    },
    {
     "name": "stdout",
     "output_type": "stream",
     "text": [
      "\n",
      "\n",
      "\n",
      "--- Working on 1-to-1 correspondence-----\n",
      "max(original_labels),len(original_labels) = (2, 3)\n",
      "empty_indices % = 0.059020172910662826\n",
      " conflict_indices % = 0.003227665706051873\n"
     ]
    },
    {
     "data": {
      "application/vnd.jupyter.widget-view+json": {
       "model_id": "7fe7f4ca6e614e358d657373f2eef4eb",
       "version_major": 2,
       "version_minor": 0
      },
      "text/plain": [
       "HBox(children=(FloatProgress(value=0.0, max=5.0), HTML(value='')))"
      ]
     },
     "metadata": {},
     "output_type": "display_data"
    },
    {
     "name": "stdout",
     "output_type": "stream",
     "text": [
      "\n",
      "AFTER face_lookup_resolved_test\n"
     ]
    },
    {
     "data": {
      "application/vnd.jupyter.widget-view+json": {
       "model_id": "de60d232df3949029aa181716fc022de",
       "version_major": 2,
       "version_minor": 0
      },
      "text/plain": [
       "HBox(children=(FloatProgress(value=0.0, max=3.0), HTML(value='')))"
      ]
     },
     "metadata": {},
     "output_type": "display_data"
    },
    {
     "name": "stdout",
     "output_type": "stream",
     "text": [
      "\n",
      " Finished with (1, 0) \n",
      "\n",
      "\n",
      "\n",
      "\n",
      "---- Working on (1, 1) connection-----\n",
      "winning_vertex = [384143.67818899 644607.26073902 640551.2440707 ]\n",
      "MP_branches_with_stitch_point = [2, 3]\n",
      "Current stitch point was a branch or endpoint\n",
      "MAP_branches_with_stitch_point = [5]\n",
      "MAP_stitch_point_on_end_or_branch = True\n",
      "Found winning edge: [240, 241.0]\n",
      "Only 2 skeleton nodes so cannot do smoothing\n"
     ]
    },
    {
     "data": {
      "application/vnd.jupyter.widget-view+json": {
       "model_id": "5e6f4343140f4a5e99a4b5289e8f3236",
       "version_major": 2,
       "version_minor": 0
      },
      "text/plain": [
       "HBox(children=(FloatProgress(value=1.0, bar_style='info', max=1.0), HTML(value='')))"
      ]
     },
     "metadata": {},
     "output_type": "display_data"
    },
    {
     "name": "stdout",
     "output_type": "stream",
     "text": [
      "\n",
      "\n",
      "\n",
      "--- Working on 1-to-1 correspondence-----\n",
      "max(original_labels),len(original_labels) = (2, 3)\n",
      "empty_indices % = 0.08196721311475409\n",
      " conflict_indices % = 0.02459016393442623\n"
     ]
    },
    {
     "data": {
      "application/vnd.jupyter.widget-view+json": {
       "model_id": "8466d9e346d7409aaf5d7381455effb3",
       "version_major": 2,
       "version_minor": 0
      },
      "text/plain": [
       "HBox(children=(FloatProgress(value=0.0, max=4.0), HTML(value='')))"
      ]
     },
     "metadata": {},
     "output_type": "display_data"
    },
    {
     "name": "stdout",
     "output_type": "stream",
     "text": [
      "\n",
      "AFTER face_lookup_resolved_test\n"
     ]
    },
    {
     "data": {
      "application/vnd.jupyter.widget-view+json": {
       "model_id": "e3d00ebf156a44fe962a84f950553b60",
       "version_major": 2,
       "version_minor": 0
      },
      "text/plain": [
       "HBox(children=(FloatProgress(value=0.0, max=3.0), HTML(value='')))"
      ]
     },
     "metadata": {},
     "output_type": "display_data"
    },
    {
     "name": "stdout",
     "output_type": "stream",
     "text": [
      "\n",
      " Finished with (1, 1) \n",
      "\n",
      "\n",
      "\n",
      "\n",
      "---- Working on (2, 1) connection-----\n",
      "winning_vertex = [424380.47226704 712030.04280465 644350.44541091]\n",
      "MP_branches_with_stitch_point = [2, 5]\n",
      "Current stitch point was a branch or endpoint\n",
      "MAP_branches_with_stitch_point = [18]\n",
      "MAP_stitch_point_on_end_or_branch = True\n",
      "Found winning edge: [66, 70.0]\n",
      "Found winning edge: [193, 197.0]\n"
     ]
    },
    {
     "data": {
      "application/vnd.jupyter.widget-view+json": {
       "model_id": "8a27b50344fb465aa9e1166541aac5c3",
       "version_major": 2,
       "version_minor": 0
      },
      "text/plain": [
       "HBox(children=(FloatProgress(value=1.0, bar_style='info', max=1.0), HTML(value='')))"
      ]
     },
     "metadata": {},
     "output_type": "display_data"
    },
    {
     "name": "stdout",
     "output_type": "stream",
     "text": [
      "\n",
      "\n",
      "\n",
      "--- Working on 1-to-1 correspondence-----\n",
      "max(original_labels),len(original_labels) = (2, 3)\n",
      "empty_indices % = 0.04121898061407869\n",
      " conflict_indices % = 0.0013765151225480824\n"
     ]
    },
    {
     "data": {
      "application/vnd.jupyter.widget-view+json": {
       "model_id": "fa871865e5cb4fdcb2c5efb59efc659e",
       "version_major": 2,
       "version_minor": 0
      },
      "text/plain": [
       "HBox(children=(FloatProgress(value=0.0, max=7.0), HTML(value='')))"
      ]
     },
     "metadata": {},
     "output_type": "display_data"
    },
    {
     "name": "stdout",
     "output_type": "stream",
     "text": [
      "\n",
      "AFTER face_lookup_resolved_test\n"
     ]
    },
    {
     "data": {
      "application/vnd.jupyter.widget-view+json": {
       "model_id": "9f60d56a3663497f88abdecb0546f5ed",
       "version_major": 2,
       "version_minor": 0
      },
      "text/plain": [
       "HBox(children=(FloatProgress(value=0.0, max=3.0), HTML(value='')))"
      ]
     },
     "metadata": {},
     "output_type": "display_data"
    },
    {
     "name": "stdout",
     "output_type": "stream",
     "text": [
      "\n",
      " Finished with (2, 1) \n",
      "\n",
      "\n",
      "\n",
      "\n",
      "---- Working on (4, 1) connection-----\n",
      "winning_vertex = [402322.03950468 688491.11687285 643545.79341358]\n",
      "MP_branches_with_stitch_point = [0, 2]\n",
      "Current stitch point was a branch or endpoint\n",
      "MAP_branches_with_stitch_point = [9]\n",
      "MAP_stitch_point_on_end_or_branch = True\n",
      "Found winning edge: [123, 124.0]\n",
      "Found winning edge: [546, 547.0]\n"
     ]
    },
    {
     "data": {
      "application/vnd.jupyter.widget-view+json": {
       "model_id": "f200a64b04c44e2ba71c9a5613258d19",
       "version_major": 2,
       "version_minor": 0
      },
      "text/plain": [
       "HBox(children=(FloatProgress(value=1.0, bar_style='info', max=1.0), HTML(value='')))"
      ]
     },
     "metadata": {},
     "output_type": "display_data"
    },
    {
     "name": "stdout",
     "output_type": "stream",
     "text": [
      "\n",
      "\n",
      "\n",
      "--- Working on 1-to-1 correspondence-----\n",
      "max(original_labels),len(original_labels) = (2, 3)\n",
      "empty_indices % = 0.015342182382347871\n",
      " conflict_indices % = 0.02232373728667471\n"
     ]
    },
    {
     "data": {
      "application/vnd.jupyter.widget-view+json": {
       "model_id": "123ab0ebf020408cabd888f9d5f686b5",
       "version_major": 2,
       "version_minor": 0
      },
      "text/plain": [
       "HBox(children=(FloatProgress(value=0.0, max=5.0), HTML(value='')))"
      ]
     },
     "metadata": {},
     "output_type": "display_data"
    },
    {
     "name": "stdout",
     "output_type": "stream",
     "text": [
      "\n",
      "AFTER face_lookup_resolved_test\n"
     ]
    },
    {
     "data": {
      "application/vnd.jupyter.widget-view+json": {
       "model_id": "69b412e6a2014a0a8eb7374b85b2300c",
       "version_major": 2,
       "version_minor": 0
      },
      "text/plain": [
       "HBox(children=(FloatProgress(value=0.0, max=3.0), HTML(value='')))"
      ]
     },
     "metadata": {},
     "output_type": "display_data"
    },
    {
     "name": "stdout",
     "output_type": "stream",
     "text": [
      "\n",
      " Finished with (4, 1) \n",
      "\n",
      "\n",
      "\n",
      "\n",
      "---- Working on (5, 1) connection-----\n",
      "winning_vertex = [408518.96667131 668317.2440741  600670.53386538]\n",
      "MP_branches_with_stitch_point = [0]\n",
      "Current stitch point was a branch or endpoint\n",
      "MAP_branches_with_stitch_point = [12]\n",
      "MAP_stitch_point_on_end_or_branch = True\n",
      "Found winning edge: [110, 111.0]\n"
     ]
    },
    {
     "data": {
      "application/vnd.jupyter.widget-view+json": {
       "model_id": "13cfd0ece6f246648843a294fe2bbcd8",
       "version_major": 2,
       "version_minor": 0
      },
      "text/plain": [
       "HBox(children=(FloatProgress(value=1.0, bar_style='info', max=1.0), HTML(value='')))"
      ]
     },
     "metadata": {},
     "output_type": "display_data"
    },
    {
     "name": "stdout",
     "output_type": "stream",
     "text": [
      "\n",
      "\n",
      "\n",
      "--- Working on 1-to-1 correspondence-----\n",
      "max(original_labels),len(original_labels) = (1, 2)\n",
      "empty_indices % = 0.12023460410557185\n",
      " conflict_indices % = 0.01717637201508169\n"
     ]
    },
    {
     "data": {
      "application/vnd.jupyter.widget-view+json": {
       "model_id": "05215105bce6415b936d4403c0fd801e",
       "version_major": 2,
       "version_minor": 0
      },
      "text/plain": [
       "HBox(children=(FloatProgress(value=0.0, max=3.0), HTML(value='')))"
      ]
     },
     "metadata": {},
     "output_type": "display_data"
    },
    {
     "name": "stdout",
     "output_type": "stream",
     "text": [
      "\n",
      "AFTER face_lookup_resolved_test\n"
     ]
    },
    {
     "data": {
      "application/vnd.jupyter.widget-view+json": {
       "model_id": "7b7baa53541c48dabd261325dd143658",
       "version_major": 2,
       "version_minor": 0
      },
      "text/plain": [
       "HBox(children=(FloatProgress(value=0.0, max=2.0), HTML(value='')))"
      ]
     },
     "metadata": {},
     "output_type": "display_data"
    },
    {
     "name": "stdout",
     "output_type": "stream",
     "text": [
      "\n",
      " Finished with (5, 1) \n",
      "\n",
      "\n",
      "\n",
      "\n",
      "---- Working on (9, 1) connection-----\n",
      "winning_vertex = [424954.62310686 664905.39028937 612546.30553473]\n",
      "MP_branches_with_stitch_point = [0]\n",
      "Current stitch point was not a branch or endpoint, shortest_path_length to one = 23115.46400125973\n",
      "MAP_branches_with_stitch_point = [16]\n",
      "MAP_stitch_point_on_end_or_branch = False\n",
      "Found winning edge: [27, 28.0]\n"
     ]
    },
    {
     "data": {
      "application/vnd.jupyter.widget-view+json": {
       "model_id": "e19c5f4a6c474e899d8604b24dd8d157",
       "version_major": 2,
       "version_minor": 0
      },
      "text/plain": [
       "HBox(children=(FloatProgress(value=1.0, bar_style='info', max=1.0), HTML(value='')))"
      ]
     },
     "metadata": {},
     "output_type": "display_data"
    },
    {
     "name": "stdout",
     "output_type": "stream",
     "text": [
      "\n",
      "\n",
      "\n",
      "--- Working on 1-to-1 correspondence-----\n",
      "max(original_labels),len(original_labels) = (2, 3)\n",
      "empty_indices % = 0.04483514593990457\n",
      " conflict_indices % = 0.014959377552336329\n"
     ]
    },
    {
     "data": {
      "application/vnd.jupyter.widget-view+json": {
       "model_id": "5148e28adc4948a58be5ee6823e75e7d",
       "version_major": 2,
       "version_minor": 0
      },
      "text/plain": [
       "HBox(children=(FloatProgress(value=0.0, max=8.0), HTML(value='')))"
      ]
     },
     "metadata": {},
     "output_type": "display_data"
    },
    {
     "name": "stdout",
     "output_type": "stream",
     "text": [
      "\n",
      "AFTER face_lookup_resolved_test\n"
     ]
    },
    {
     "data": {
      "application/vnd.jupyter.widget-view+json": {
       "model_id": "6ffbbafffda548e6bde74c4f004b43e3",
       "version_major": 2,
       "version_minor": 0
      },
      "text/plain": [
       "HBox(children=(FloatProgress(value=0.0, max=3.0), HTML(value='')))"
      ]
     },
     "metadata": {},
     "output_type": "display_data"
    },
    {
     "name": "stdout",
     "output_type": "stream",
     "text": [
      "\n",
      "Deleting branches from dictionary\n",
      " Finished with (9, 1) \n",
      "\n",
      "\n",
      "\n",
      "\n",
      "---- Working on (10, 1) connection-----\n",
      "winning_vertex = [409162.34484413 667872.69353232 600134.86775756]\n",
      "MP_branches_with_stitch_point = [0, 2]\n",
      "Current stitch point was a branch or endpoint\n",
      "MAP_branches_with_stitch_point = [12]\n",
      "MAP_stitch_point_on_end_or_branch = True\n",
      "Found winning edge: [41, 42.0]\n",
      "Only 2 skeleton nodes so cannot do smoothing\n"
     ]
    },
    {
     "data": {
      "application/vnd.jupyter.widget-view+json": {
       "model_id": "10b2c7aa000b40189335cd41e4bcb2ca",
       "version_major": 2,
       "version_minor": 0
      },
      "text/plain": [
       "HBox(children=(FloatProgress(value=1.0, bar_style='info', max=1.0), HTML(value='')))"
      ]
     },
     "metadata": {},
     "output_type": "display_data"
    },
    {
     "name": "stdout",
     "output_type": "stream",
     "text": [
      "\n",
      "\n",
      "\n",
      "--- Working on 1-to-1 correspondence-----\n",
      "max(original_labels),len(original_labels) = (2, 3)\n",
      "empty_indices % = 0.14462444771723124\n",
      " conflict_indices % = 0.006774668630338734\n"
     ]
    },
    {
     "data": {
      "application/vnd.jupyter.widget-view+json": {
       "model_id": "5af3def1d6b2437e814c348bea87282c",
       "version_major": 2,
       "version_minor": 0
      },
      "text/plain": [
       "HBox(children=(FloatProgress(value=0.0, max=4.0), HTML(value='')))"
      ]
     },
     "metadata": {},
     "output_type": "display_data"
    },
    {
     "name": "stdout",
     "output_type": "stream",
     "text": [
      "\n",
      "AFTER face_lookup_resolved_test\n"
     ]
    },
    {
     "data": {
      "application/vnd.jupyter.widget-view+json": {
       "model_id": "f66930c7545440fd808b4e0f57519aed",
       "version_major": 2,
       "version_minor": 0
      },
      "text/plain": [
       "HBox(children=(FloatProgress(value=0.0, max=3.0), HTML(value='')))"
      ]
     },
     "metadata": {},
     "output_type": "display_data"
    },
    {
     "name": "stdout",
     "output_type": "stream",
     "text": [
      "\n",
      " Finished with (10, 1) \n",
      "\n",
      "\n",
      "\n",
      "\n",
      "---- Working on (12, 1) connection-----\n",
      "winning_vertex = [421326.37654713 701711.08497425 642022.81360845]\n",
      "MP_branches_with_stitch_point = [0]\n",
      "Current stitch point was not a branch or endpoint, shortest_path_length to one = 8943.116304675015\n",
      "MAP_branches_with_stitch_point = [18]\n",
      "MAP_stitch_point_on_end_or_branch = False\n",
      "Found winning edge: [657, 658.0]\n"
     ]
    },
    {
     "data": {
      "application/vnd.jupyter.widget-view+json": {
       "model_id": "4093d47851dd4ee7a1c893a012a824e4",
       "version_major": 2,
       "version_minor": 0
      },
      "text/plain": [
       "HBox(children=(FloatProgress(value=1.0, bar_style='info', max=1.0), HTML(value='')))"
      ]
     },
     "metadata": {},
     "output_type": "display_data"
    },
    {
     "name": "stdout",
     "output_type": "stream",
     "text": [
      "\n",
      "\n",
      "\n",
      "--- Working on 1-to-1 correspondence-----\n",
      "max(original_labels),len(original_labels) = (2, 3)\n",
      "empty_indices % = 0.018233688910940214\n",
      " conflict_indices % = 0.012651947407591168\n"
     ]
    },
    {
     "data": {
      "application/vnd.jupyter.widget-view+json": {
       "model_id": "a0394b5d4e5b4fdd8b5b97189038e7d5",
       "version_major": 2,
       "version_minor": 0
      },
      "text/plain": [
       "HBox(children=(FloatProgress(value=0.0, max=4.0), HTML(value='')))"
      ]
     },
     "metadata": {},
     "output_type": "display_data"
    },
    {
     "name": "stdout",
     "output_type": "stream",
     "text": [
      "\n",
      "AFTER face_lookup_resolved_test\n"
     ]
    },
    {
     "data": {
      "application/vnd.jupyter.widget-view+json": {
       "model_id": "899ab1df58c04df1b228df1a2c7184ca",
       "version_major": 2,
       "version_minor": 0
      },
      "text/plain": [
       "HBox(children=(FloatProgress(value=0.0, max=3.0), HTML(value='')))"
      ]
     },
     "metadata": {},
     "output_type": "display_data"
    },
    {
     "name": "stdout",
     "output_type": "stream",
     "text": [
      "\n",
      "Deleting branches from dictionary\n",
      " Finished with (12, 1) \n",
      "\n",
      "\n",
      "\n",
      "\n",
      "---- Working on (14, 1) connection-----\n",
      "winning_vertex = [410366.613432   686135.6222821  620459.32607453]\n",
      "MP_branches_with_stitch_point = [1]\n",
      "Current stitch point was not a branch or endpoint, shortest_path_length to one = 16739.23067997018\n",
      "MAP_branches_with_stitch_point = [14]\n",
      "MAP_stitch_point_on_end_or_branch = False\n",
      "Found winning edge: [13, 14.0]\n"
     ]
    },
    {
     "data": {
      "application/vnd.jupyter.widget-view+json": {
       "model_id": "401a0eeb83734720a15bbe3ccc10fcb8",
       "version_major": 2,
       "version_minor": 0
      },
      "text/plain": [
       "HBox(children=(FloatProgress(value=1.0, bar_style='info', max=1.0), HTML(value='')))"
      ]
     },
     "metadata": {},
     "output_type": "display_data"
    },
    {
     "name": "stdout",
     "output_type": "stream",
     "text": [
      "\n",
      "\n",
      "\n",
      "--- Working on 1-to-1 correspondence-----\n",
      "max(original_labels),len(original_labels) = (2, 3)\n",
      "empty_indices % = 0.03346824408468244\n",
      " conflict_indices % = 0.022960772104607723\n"
     ]
    },
    {
     "data": {
      "application/vnd.jupyter.widget-view+json": {
       "model_id": "6f3675330bc547309e740fdffcf127c4",
       "version_major": 2,
       "version_minor": 0
      },
      "text/plain": [
       "HBox(children=(FloatProgress(value=0.0, max=7.0), HTML(value='')))"
      ]
     },
     "metadata": {},
     "output_type": "display_data"
    },
    {
     "name": "stdout",
     "output_type": "stream",
     "text": [
      "\n",
      "AFTER face_lookup_resolved_test\n"
     ]
    },
    {
     "data": {
      "application/vnd.jupyter.widget-view+json": {
       "model_id": "c84ba662632645e0aba60a30a7e49e54",
       "version_major": 2,
       "version_minor": 0
      },
      "text/plain": [
       "HBox(children=(FloatProgress(value=0.0, max=3.0), HTML(value='')))"
      ]
     },
     "metadata": {},
     "output_type": "display_data"
    },
    {
     "name": "stdout",
     "output_type": "stream",
     "text": [
      "\n",
      "Deleting branches from dictionary\n",
      " Finished with (14, 1) \n",
      "\n",
      "\n",
      "\n",
      "\n",
      "---- Working on (15, 1) connection-----\n",
      "winning_vertex = [408976.86906038 681371.52414587 613901.656237  ]\n",
      "MP_branches_with_stitch_point = [0]\n",
      "Current stitch point was not a branch or endpoint, shortest_path_length to one = 11939.78627628982\n",
      "MAP_branches_with_stitch_point = [14]\n",
      "MAP_stitch_point_on_end_or_branch = False\n",
      "Found winning edge: [246, 247.0]\n"
     ]
    },
    {
     "data": {
      "application/vnd.jupyter.widget-view+json": {
       "model_id": "9604508c27f54a58b2d46eb63343932a",
       "version_major": 2,
       "version_minor": 0
      },
      "text/plain": [
       "HBox(children=(FloatProgress(value=1.0, bar_style='info', max=1.0), HTML(value='')))"
      ]
     },
     "metadata": {},
     "output_type": "display_data"
    },
    {
     "name": "stdout",
     "output_type": "stream",
     "text": [
      "\n",
      "\n",
      "\n",
      "--- Working on 1-to-1 correspondence-----\n",
      "max(original_labels),len(original_labels) = (2, 3)\n",
      "empty_indices % = 0.050705954573357886\n",
      " conflict_indices % = 0.029097605893186003\n"
     ]
    },
    {
     "data": {
      "application/vnd.jupyter.widget-view+json": {
       "model_id": "36d389ce28d44fa7aabb65acb90d01aa",
       "version_major": 2,
       "version_minor": 0
      },
      "text/plain": [
       "HBox(children=(FloatProgress(value=0.0, max=7.0), HTML(value='')))"
      ]
     },
     "metadata": {},
     "output_type": "display_data"
    },
    {
     "name": "stdout",
     "output_type": "stream",
     "text": [
      "\n",
      "AFTER face_lookup_resolved_test\n"
     ]
    },
    {
     "data": {
      "application/vnd.jupyter.widget-view+json": {
       "model_id": "cfbf12cb078b48458564c5aa2b1dffe2",
       "version_major": 2,
       "version_minor": 0
      },
      "text/plain": [
       "HBox(children=(FloatProgress(value=0.0, max=3.0), HTML(value='')))"
      ]
     },
     "metadata": {},
     "output_type": "display_data"
    },
    {
     "name": "stdout",
     "output_type": "stream",
     "text": [
      "\n",
      "Deleting branches from dictionary\n",
      " Finished with (15, 1) \n",
      "\n",
      "\n",
      "\n",
      "\n",
      "---- Working on (16, 1) connection-----\n",
      "winning_vertex = [398442.14165638 695934.49284866 653469.37460028]\n",
      "MP_branches_with_stitch_point = [0, 1, 2]\n",
      "Current stitch point was not a branch or endpoint, shortest_path_length to one = 2574.3937894860314\n",
      "MAP_branches_with_stitch_point = [8]\n",
      "MAP_stitch_point_on_end_or_branch = False\n",
      "Only 2 skeleton nodes so cannot do smoothing\n",
      "Only 2 skeleton nodes so cannot do smoothing\n",
      "Not even attempting smoothing segment because once keep_neighbor_coordinates\n"
     ]
    },
    {
     "data": {
      "application/vnd.jupyter.widget-view+json": {
       "model_id": "057a1a4d9d2545e99b3781f26142e5e8",
       "version_major": 2,
       "version_minor": 0
      },
      "text/plain": [
       "HBox(children=(FloatProgress(value=1.0, bar_style='info', max=1.0), HTML(value='')))"
      ]
     },
     "metadata": {},
     "output_type": "display_data"
    },
    {
     "name": "stdout",
     "output_type": "stream",
     "text": [
      "empty mesh_correspondence_indices_2 returned so returning original mesh correspondence\n",
      "\n",
      "\n",
      "\n",
      "--- Working on 1-to-1 correspondence-----\n",
      "max(original_labels),len(original_labels) = (4, 5)\n",
      "empty_indices % = 0.40185334407735696\n",
      " conflict_indices % = 0.10652699435938759\n"
     ]
    },
    {
     "data": {
      "application/vnd.jupyter.widget-view+json": {
       "model_id": "974df1769804442799d8420f1dd0bac4",
       "version_major": 2,
       "version_minor": 0
      },
      "text/plain": [
       "HBox(children=(FloatProgress(value=0.0, max=4.0), HTML(value='')))"
      ]
     },
     "metadata": {},
     "output_type": "display_data"
    },
    {
     "name": "stdout",
     "output_type": "stream",
     "text": [
      "\n",
      "AFTER face_lookup_resolved_test\n"
     ]
    },
    {
     "data": {
      "application/vnd.jupyter.widget-view+json": {
       "model_id": "1ad88a53d0094850852d8a013147fc05",
       "version_major": 2,
       "version_minor": 0
      },
      "text/plain": [
       "HBox(children=(FloatProgress(value=0.0, max=5.0), HTML(value='')))"
      ]
     },
     "metadata": {},
     "output_type": "display_data"
    },
    {
     "name": "stdout",
     "output_type": "stream",
     "text": [
      "\n",
      "Deleting branches from dictionary\n",
      " Finished with (16, 1) \n",
      "\n",
      "\n",
      "\n",
      "\n",
      "---- Working on (18, 1) connection-----\n",
      "winning_vertex = [420735.33888154 668351.91359493 619245.45598857]\n",
      "MP_branches_with_stitch_point = [0]\n",
      "Current stitch point was not a branch or endpoint, shortest_path_length to one = 30069.541530320013\n",
      "MAP_branches_with_stitch_point = [16]\n",
      "MAP_stitch_point_on_end_or_branch = False\n",
      "Found winning edge: [164, 166.0]\n"
     ]
    },
    {
     "data": {
      "application/vnd.jupyter.widget-view+json": {
       "model_id": "8c3d5061b46c48eba8e9f5d4f56e9e96",
       "version_major": 2,
       "version_minor": 0
      },
      "text/plain": [
       "HBox(children=(FloatProgress(value=1.0, bar_style='info', max=1.0), HTML(value='')))"
      ]
     },
     "metadata": {},
     "output_type": "display_data"
    },
    {
     "name": "stdout",
     "output_type": "stream",
     "text": [
      "\n",
      "\n",
      "\n",
      "--- Working on 1-to-1 correspondence-----\n",
      "max(original_labels),len(original_labels) = (2, 3)\n",
      "empty_indices % = 0.02255676954836111\n",
      " conflict_indices % = 0.025779165198126983\n"
     ]
    },
    {
     "data": {
      "application/vnd.jupyter.widget-view+json": {
       "model_id": "06242e9fbee9414a84132e84fb9a711f",
       "version_major": 2,
       "version_minor": 0
      },
      "text/plain": [
       "HBox(children=(FloatProgress(value=0.0, max=10.0), HTML(value='')))"
      ]
     },
     "metadata": {},
     "output_type": "display_data"
    },
    {
     "name": "stdout",
     "output_type": "stream",
     "text": [
      "\n",
      "AFTER face_lookup_resolved_test\n"
     ]
    },
    {
     "data": {
      "application/vnd.jupyter.widget-view+json": {
       "model_id": "306975c736b74ecc85d0e217e65a6a12",
       "version_major": 2,
       "version_minor": 0
      },
      "text/plain": [
       "HBox(children=(FloatProgress(value=0.0, max=3.0), HTML(value='')))"
      ]
     },
     "metadata": {},
     "output_type": "display_data"
    },
    {
     "name": "stdout",
     "output_type": "stream",
     "text": [
      "\n",
      "Deleting branches from dictionary\n",
      " Finished with (18, 1) \n",
      "\n",
      "\n",
      "\n",
      "\n",
      "---- Working on (20, 1) connection-----\n",
      "winning_vertex = [375807.4087158  686797.7414665  646066.66234145]\n",
      "MP_branches_with_stitch_point = [0]\n",
      "Current stitch point was not a branch or endpoint, shortest_path_length to one = 7002.829949659374\n",
      "MAP_branches_with_stitch_point = [1]\n",
      "MAP_stitch_point_on_end_or_branch = False\n",
      "Found winning edge: [65, 66.0]\n"
     ]
    },
    {
     "data": {
      "application/vnd.jupyter.widget-view+json": {
       "model_id": "171642bf27ad4bab8ed96ad7da0e5374",
       "version_major": 2,
       "version_minor": 0
      },
      "text/plain": [
       "HBox(children=(FloatProgress(value=1.0, bar_style='info', max=1.0), HTML(value='')))"
      ]
     },
     "metadata": {},
     "output_type": "display_data"
    },
    {
     "name": "stdout",
     "output_type": "stream",
     "text": [
      "\n",
      "\n",
      "\n",
      "--- Working on 1-to-1 correspondence-----\n",
      "max(original_labels),len(original_labels) = (2, 3)\n",
      "empty_indices % = 0.028313824739006642\n",
      " conflict_indices % = 0.021354001898133503\n"
     ]
    },
    {
     "data": {
      "application/vnd.jupyter.widget-view+json": {
       "model_id": "4001bc13f42d4d19ad1283e3128b8006",
       "version_major": 2,
       "version_minor": 0
      },
      "text/plain": [
       "HBox(children=(FloatProgress(value=0.0, max=3.0), HTML(value='')))"
      ]
     },
     "metadata": {},
     "output_type": "display_data"
    },
    {
     "name": "stdout",
     "output_type": "stream",
     "text": [
      "\n",
      "AFTER face_lookup_resolved_test\n"
     ]
    },
    {
     "data": {
      "application/vnd.jupyter.widget-view+json": {
       "model_id": "5623e8d199af40b6b0b12b6c84c52394",
       "version_major": 2,
       "version_minor": 0
      },
      "text/plain": [
       "HBox(children=(FloatProgress(value=0.0, max=3.0), HTML(value='')))"
      ]
     },
     "metadata": {},
     "output_type": "display_data"
    },
    {
     "name": "stdout",
     "output_type": "stream",
     "text": [
      "\n",
      "Deleting branches from dictionary\n",
      " Finished with (20, 1) \n",
      "\n",
      "\n",
      "\n",
      "\n",
      "---- Working on (0, 2) connection-----\n",
      "winning_vertex = [421453.43803022 640430.73523978 652262.39366435]\n",
      "MP_branches_with_stitch_point = [25, 26]\n",
      "Current stitch point was not a branch or endpoint, shortest_path_length to one = 41708.321563516176\n",
      "MAP_branches_with_stitch_point = [3]\n",
      "MAP_stitch_point_on_end_or_branch = False\n",
      "Only 2 skeleton nodes so cannot do smoothing\n",
      "Found winning edge: [287, 288.0]\n"
     ]
    },
    {
     "data": {
      "application/vnd.jupyter.widget-view+json": {
       "model_id": "abf39768e71544c0ae31931e7ea6e6eb",
       "version_major": 2,
       "version_minor": 0
      },
      "text/plain": [
       "HBox(children=(FloatProgress(value=1.0, bar_style='info', max=1.0), HTML(value='')))"
      ]
     },
     "metadata": {},
     "output_type": "display_data"
    },
    {
     "name": "stdout",
     "output_type": "stream",
     "text": [
      "\n",
      "\n",
      "\n",
      "--- Working on 1-to-1 correspondence-----\n",
      "max(original_labels),len(original_labels) = (3, 4)\n",
      "empty_indices % = 0.03208534458280939\n",
      " conflict_indices % = 0.024459497829878718\n"
     ]
    },
    {
     "data": {
      "application/vnd.jupyter.widget-view+json": {
       "model_id": "19f8bc91efce4cab9063638b42b0f280",
       "version_major": 2,
       "version_minor": 0
      },
      "text/plain": [
       "HBox(children=(FloatProgress(value=0.0, max=7.0), HTML(value='')))"
      ]
     },
     "metadata": {},
     "output_type": "display_data"
    },
    {
     "name": "stdout",
     "output_type": "stream",
     "text": [
      "\n",
      "AFTER face_lookup_resolved_test\n"
     ]
    },
    {
     "data": {
      "application/vnd.jupyter.widget-view+json": {
       "model_id": "5407542015ca41af8b5ad8460cea4f2f",
       "version_major": 2,
       "version_minor": 0
      },
      "text/plain": [
       "HBox(children=(FloatProgress(value=0.0, max=4.0), HTML(value='')))"
      ]
     },
     "metadata": {},
     "output_type": "display_data"
    },
    {
     "name": "stdout",
     "output_type": "stream",
     "text": [
      "\n",
      "Deleting branches from dictionary\n",
      " Finished with (0, 2) \n",
      "\n",
      "\n",
      "\n",
      "\n",
      "---- Working on (3, 2) connection-----\n",
      "winning_vertex = [441889.18182201 604260.80063318 649781.99523051]\n",
      "MP_branches_with_stitch_point = [0, 1]\n",
      "Current stitch point was not a branch or endpoint, shortest_path_length to one = 758.4006491073524\n",
      "MAP_branches_with_stitch_point = [7]\n",
      "MAP_stitch_point_on_end_or_branch = False\n",
      "Found winning edge: [68, 69.0]\n",
      "Only 2 skeleton nodes so cannot do smoothing\n"
     ]
    },
    {
     "data": {
      "application/vnd.jupyter.widget-view+json": {
       "model_id": "9c6060adddbd43a58072e4e3c6aa238e",
       "version_major": 2,
       "version_minor": 0
      },
      "text/plain": [
       "HBox(children=(FloatProgress(value=1.0, bar_style='info', max=1.0), HTML(value='')))"
      ]
     },
     "metadata": {},
     "output_type": "display_data"
    },
    {
     "name": "stdout",
     "output_type": "stream",
     "text": [
      "\n",
      "\n",
      "\n",
      "--- Working on 1-to-1 correspondence-----\n",
      "max(original_labels),len(original_labels) = (3, 4)\n",
      "empty_indices % = 0.02261087501362101\n",
      " conflict_indices % = 0.03797537321564781\n"
     ]
    },
    {
     "data": {
      "application/vnd.jupyter.widget-view+json": {
       "model_id": "39375d1ebad94f6ab2fe14065eaec09c",
       "version_major": 2,
       "version_minor": 0
      },
      "text/plain": [
       "HBox(children=(FloatProgress(value=0.0, max=6.0), HTML(value='')))"
      ]
     },
     "metadata": {},
     "output_type": "display_data"
    },
    {
     "name": "stdout",
     "output_type": "stream",
     "text": [
      "\n",
      "AFTER face_lookup_resolved_test\n"
     ]
    },
    {
     "data": {
      "application/vnd.jupyter.widget-view+json": {
       "model_id": "42bbbc9d66fb40e5b94a0408730a31a0",
       "version_major": 2,
       "version_minor": 0
      },
      "text/plain": [
       "HBox(children=(FloatProgress(value=0.0, max=4.0), HTML(value='')))"
      ]
     },
     "metadata": {},
     "output_type": "display_data"
    },
    {
     "name": "stdout",
     "output_type": "stream",
     "text": [
      "\n",
      "Deleting branches from dictionary\n",
      " Finished with (3, 2) \n",
      "\n",
      "\n",
      "\n",
      "\n",
      "---- Working on (6, 2) connection-----\n",
      "winning_vertex = [440952.1196099  588649.80621325 652481.84523786]\n",
      "MP_branches_with_stitch_point = [0]\n",
      "Current stitch point was not a branch or endpoint, shortest_path_length to one = 26182.035403099377\n",
      "MAP_branches_with_stitch_point = [5]\n",
      "MAP_stitch_point_on_end_or_branch = False\n",
      "Found winning edge: [41, 42.0]\n"
     ]
    },
    {
     "data": {
      "application/vnd.jupyter.widget-view+json": {
       "model_id": "399a823ca0d2414d9910f3985ac0ba6c",
       "version_major": 2,
       "version_minor": 0
      },
      "text/plain": [
       "HBox(children=(FloatProgress(value=1.0, bar_style='info', max=1.0), HTML(value='')))"
      ]
     },
     "metadata": {},
     "output_type": "display_data"
    },
    {
     "name": "stdout",
     "output_type": "stream",
     "text": [
      "\n",
      "\n",
      "\n",
      "--- Working on 1-to-1 correspondence-----\n",
      "max(original_labels),len(original_labels) = (2, 3)\n",
      "empty_indices % = 0.010596924394334035\n",
      " conflict_indices % = 0.004388625254219146\n"
     ]
    },
    {
     "data": {
      "application/vnd.jupyter.widget-view+json": {
       "model_id": "065d972a0035451fa7dfcdeb18b66fff",
       "version_major": 2,
       "version_minor": 0
      },
      "text/plain": [
       "HBox(children=(FloatProgress(value=0.0, max=4.0), HTML(value='')))"
      ]
     },
     "metadata": {},
     "output_type": "display_data"
    },
    {
     "name": "stdout",
     "output_type": "stream",
     "text": [
      "\n",
      "AFTER face_lookup_resolved_test\n"
     ]
    },
    {
     "data": {
      "application/vnd.jupyter.widget-view+json": {
       "model_id": "61112fefdf2f4b9da0cf334d78536eeb",
       "version_major": 2,
       "version_minor": 0
      },
      "text/plain": [
       "HBox(children=(FloatProgress(value=0.0, max=3.0), HTML(value='')))"
      ]
     },
     "metadata": {},
     "output_type": "display_data"
    },
    {
     "name": "stdout",
     "output_type": "stream",
     "text": [
      "\n",
      "Deleting branches from dictionary\n",
      " Finished with (6, 2) \n",
      "\n",
      "\n",
      "\n",
      "\n",
      "---- Working on (7, 2) connection-----\n",
      "winning_vertex = [338175.96258707 638945.32633873 673705.74988362]\n",
      "MP_branches_with_stitch_point = [0, 1]\n",
      "Current stitch point was a branch or endpoint\n",
      "MAP_branches_with_stitch_point = [0]\n",
      "MAP_stitch_point_on_end_or_branch = True\n",
      "Found winning edge: [188, 189.0]\n",
      "Found winning edge: [213, 214.0]\n"
     ]
    },
    {
     "data": {
      "application/vnd.jupyter.widget-view+json": {
       "model_id": "25773bf7a7304c98b98723aadb2fd525",
       "version_major": 2,
       "version_minor": 0
      },
      "text/plain": [
       "HBox(children=(FloatProgress(value=1.0, bar_style='info', max=1.0), HTML(value='')))"
      ]
     },
     "metadata": {},
     "output_type": "display_data"
    },
    {
     "name": "stdout",
     "output_type": "stream",
     "text": [
      "\n",
      "\n",
      "\n",
      "--- Working on 1-to-1 correspondence-----\n",
      "max(original_labels),len(original_labels) = (2, 3)\n",
      "empty_indices % = 0.025583741712309024\n",
      " conflict_indices % = 0.020719227443067166\n"
     ]
    },
    {
     "data": {
      "application/vnd.jupyter.widget-view+json": {
       "model_id": "afb5da0b70ee4870a0da89937e2d518d",
       "version_major": 2,
       "version_minor": 0
      },
      "text/plain": [
       "HBox(children=(FloatProgress(value=0.0, max=5.0), HTML(value='')))"
      ]
     },
     "metadata": {},
     "output_type": "display_data"
    },
    {
     "name": "stdout",
     "output_type": "stream",
     "text": [
      "\n",
      "AFTER face_lookup_resolved_test\n"
     ]
    },
    {
     "data": {
      "application/vnd.jupyter.widget-view+json": {
       "model_id": "6c74205056ec4d55b976e81e903f0edd",
       "version_major": 2,
       "version_minor": 0
      },
      "text/plain": [
       "HBox(children=(FloatProgress(value=0.0, max=3.0), HTML(value='')))"
      ]
     },
     "metadata": {},
     "output_type": "display_data"
    },
    {
     "name": "stdout",
     "output_type": "stream",
     "text": [
      "\n",
      " Finished with (7, 2) \n",
      "\n",
      "\n",
      "\n",
      "\n",
      "---- Working on (8, 2) connection-----\n",
      "winning_vertex = [430470.47369924 620821.82491184 648304.0676991 ]\n",
      "MP_branches_with_stitch_point = [1]\n",
      "Current stitch point was not a branch or endpoint, shortest_path_length to one = 21336.26825106217\n",
      "MAP_branches_with_stitch_point = [7]\n",
      "MAP_stitch_point_on_end_or_branch = False\n",
      "Found winning edge: [101, 103.0]\n"
     ]
    },
    {
     "data": {
      "application/vnd.jupyter.widget-view+json": {
       "model_id": "c9be47c99e65419686aa7653681e2f1d",
       "version_major": 2,
       "version_minor": 0
      },
      "text/plain": [
       "HBox(children=(FloatProgress(value=1.0, bar_style='info', max=1.0), HTML(value='')))"
      ]
     },
     "metadata": {},
     "output_type": "display_data"
    },
    {
     "name": "stdout",
     "output_type": "stream",
     "text": [
      "\n",
      "\n",
      "\n",
      "--- Working on 1-to-1 correspondence-----\n",
      "max(original_labels),len(original_labels) = (2, 3)\n",
      "empty_indices % = 0.015717697819554666\n",
      " conflict_indices % = 0.03351567917405039\n"
     ]
    },
    {
     "data": {
      "application/vnd.jupyter.widget-view+json": {
       "model_id": "fa901e5f21864c4199508e3b3933b288",
       "version_major": 2,
       "version_minor": 0
      },
      "text/plain": [
       "HBox(children=(FloatProgress(value=0.0, max=2.0), HTML(value='')))"
      ]
     },
     "metadata": {},
     "output_type": "display_data"
    },
    {
     "name": "stdout",
     "output_type": "stream",
     "text": [
      "\n",
      "AFTER face_lookup_resolved_test\n"
     ]
    },
    {
     "data": {
      "application/vnd.jupyter.widget-view+json": {
       "model_id": "cd676d7ff6724b40bbdf789db335e0ca",
       "version_major": 2,
       "version_minor": 0
      },
      "text/plain": [
       "HBox(children=(FloatProgress(value=0.0, max=3.0), HTML(value='')))"
      ]
     },
     "metadata": {},
     "output_type": "display_data"
    },
    {
     "name": "stdout",
     "output_type": "stream",
     "text": [
      "\n",
      "Deleting branches from dictionary\n",
      " Finished with (8, 2) \n",
      "\n",
      "\n",
      "\n",
      "\n",
      "---- Working on (11, 2) connection-----\n",
      "winning_vertex = [444129.83132566 629542.4621205  699622.61996675]\n",
      "MP_branches_with_stitch_point = [0, 1]\n",
      "Current stitch point was a branch or endpoint\n",
      "MAP_branches_with_stitch_point = [6]\n",
      "MAP_stitch_point_on_end_or_branch = True\n",
      "Found winning edge: [17, 18.0]\n",
      "Found winning edge: [20, 21.0]\n"
     ]
    },
    {
     "data": {
      "application/vnd.jupyter.widget-view+json": {
       "model_id": "4c85001f7efa457db325e4aa776ddd52",
       "version_major": 2,
       "version_minor": 0
      },
      "text/plain": [
       "HBox(children=(FloatProgress(value=1.0, bar_style='info', max=1.0), HTML(value='')))"
      ]
     },
     "metadata": {},
     "output_type": "display_data"
    },
    {
     "name": "stdout",
     "output_type": "stream",
     "text": [
      "\n",
      "\n",
      "\n",
      "--- Working on 1-to-1 correspondence-----\n",
      "max(original_labels),len(original_labels) = (2, 3)\n",
      "empty_indices % = 0.000479877151449229\n",
      " conflict_indices % = 0.006942222790965513\n"
     ]
    },
    {
     "data": {
      "application/vnd.jupyter.widget-view+json": {
       "model_id": "78a29619ec78492f8557058c9338b98d",
       "version_major": 2,
       "version_minor": 0
      },
      "text/plain": [
       "HBox(children=(FloatProgress(value=0.0, max=2.0), HTML(value='')))"
      ]
     },
     "metadata": {},
     "output_type": "display_data"
    },
    {
     "name": "stdout",
     "output_type": "stream",
     "text": [
      "\n",
      "AFTER face_lookup_resolved_test\n"
     ]
    },
    {
     "data": {
      "application/vnd.jupyter.widget-view+json": {
       "model_id": "6866ebdbd7cb4a74a3f902412ddfb14d",
       "version_major": 2,
       "version_minor": 0
      },
      "text/plain": [
       "HBox(children=(FloatProgress(value=0.0, max=3.0), HTML(value='')))"
      ]
     },
     "metadata": {},
     "output_type": "display_data"
    },
    {
     "name": "stdout",
     "output_type": "stream",
     "text": [
      "\n",
      " Finished with (11, 2) \n",
      "\n",
      "\n",
      "\n",
      "\n",
      "---- Working on (13, 2) connection-----\n",
      "winning_vertex = [417492.53685645 647646.95659075 651317.1523396 ]\n",
      "MP_branches_with_stitch_point = [0]\n",
      "Current stitch point was not a branch or endpoint, shortest_path_length to one = 33209.89925611241\n",
      "MAP_branches_with_stitch_point = [3]\n",
      "MAP_stitch_point_on_end_or_branch = False\n",
      "Found winning edge: [441, 442.0]\n"
     ]
    },
    {
     "data": {
      "application/vnd.jupyter.widget-view+json": {
       "model_id": "283b5c01503342a7bdb5ea31bcdb1bab",
       "version_major": 2,
       "version_minor": 0
      },
      "text/plain": [
       "HBox(children=(FloatProgress(value=1.0, bar_style='info', max=1.0), HTML(value='')))"
      ]
     },
     "metadata": {},
     "output_type": "display_data"
    },
    {
     "name": "stdout",
     "output_type": "stream",
     "text": [
      "\n",
      "\n",
      "\n",
      "--- Working on 1-to-1 correspondence-----\n",
      "max(original_labels),len(original_labels) = (2, 3)\n",
      "empty_indices % = 0.02909939222788385\n",
      " conflict_indices % = 0.020136288292712873\n"
     ]
    },
    {
     "data": {
      "application/vnd.jupyter.widget-view+json": {
       "model_id": "2b69bd3e38514c57a272360479ded44d",
       "version_major": 2,
       "version_minor": 0
      },
      "text/plain": [
       "HBox(children=(FloatProgress(value=0.0, max=3.0), HTML(value='')))"
      ]
     },
     "metadata": {},
     "output_type": "display_data"
    },
    {
     "name": "stdout",
     "output_type": "stream",
     "text": [
      "\n",
      "AFTER face_lookup_resolved_test\n"
     ]
    },
    {
     "data": {
      "application/vnd.jupyter.widget-view+json": {
       "model_id": "3ccd6c2131cb4d8b82d9fd898399ad0f",
       "version_major": 2,
       "version_minor": 0
      },
      "text/plain": [
       "HBox(children=(FloatProgress(value=0.0, max=3.0), HTML(value='')))"
      ]
     },
     "metadata": {},
     "output_type": "display_data"
    },
    {
     "name": "stdout",
     "output_type": "stream",
     "text": [
      "\n",
      "Deleting branches from dictionary\n",
      " Finished with (13, 2) \n",
      "\n",
      "\n",
      "\n",
      "\n",
      "---- Working on (17, 2) connection-----\n",
      "winning_vertex = [414850.17648302 655314.55103809 664182.95212243]\n",
      "MP_branches_with_stitch_point = [0]\n",
      "Current stitch point was not a branch or endpoint, shortest_path_length to one = 17125.507035326234\n",
      "MAP_branches_with_stitch_point = [5]\n",
      "MAP_stitch_point_on_end_or_branch = False\n",
      "Found winning edge: [10, 11.0]\n"
     ]
    },
    {
     "data": {
      "application/vnd.jupyter.widget-view+json": {
       "model_id": "9b5e6db543e9405791f25928634b9606",
       "version_major": 2,
       "version_minor": 0
      },
      "text/plain": [
       "HBox(children=(FloatProgress(value=1.0, bar_style='info', max=1.0), HTML(value='')))"
      ]
     },
     "metadata": {},
     "output_type": "display_data"
    },
    {
     "name": "stdout",
     "output_type": "stream",
     "text": [
      "\n",
      "\n",
      "\n",
      "--- Working on 1-to-1 correspondence-----\n",
      "max(original_labels),len(original_labels) = (2, 3)\n",
      "empty_indices % = 0.025328653038750086\n",
      " conflict_indices % = 0.009314703925482368\n"
     ]
    },
    {
     "data": {
      "application/vnd.jupyter.widget-view+json": {
       "model_id": "e53cb61573864d44ae9f7c2a47c3bed7",
       "version_major": 2,
       "version_minor": 0
      },
      "text/plain": [
       "HBox(children=(FloatProgress(value=0.0, max=10.0), HTML(value='')))"
      ]
     },
     "metadata": {},
     "output_type": "display_data"
    },
    {
     "name": "stdout",
     "output_type": "stream",
     "text": [
      "\n",
      "AFTER face_lookup_resolved_test\n"
     ]
    },
    {
     "data": {
      "application/vnd.jupyter.widget-view+json": {
       "model_id": "8f3a5b857059425499c9361aaf0a28f2",
       "version_major": 2,
       "version_minor": 0
      },
      "text/plain": [
       "HBox(children=(FloatProgress(value=0.0, max=3.0), HTML(value='')))"
      ]
     },
     "metadata": {},
     "output_type": "display_data"
    },
    {
     "name": "stdout",
     "output_type": "stream",
     "text": [
      "\n",
      "Deleting branches from dictionary\n",
      " Finished with (17, 2) \n",
      "\n",
      "\n",
      "\n",
      "\n",
      "---- Working on (19, 2) connection-----\n",
      "winning_vertex = [431161.5113846  661036.96482123 684988.98049383]\n",
      "MP_branches_with_stitch_point = [0]\n",
      "Current stitch point was not a branch or endpoint, shortest_path_length to one = 34058.00113253474\n",
      "MAP_branches_with_stitch_point = [6]\n",
      "MAP_stitch_point_on_end_or_branch = False\n",
      "Found winning edge: [13, 14.0]\n"
     ]
    },
    {
     "data": {
      "application/vnd.jupyter.widget-view+json": {
       "model_id": "d3e3d957953d4113b2ef024f3369d323",
       "version_major": 2,
       "version_minor": 0
      },
      "text/plain": [
       "HBox(children=(FloatProgress(value=1.0, bar_style='info', max=1.0), HTML(value='')))"
      ]
     },
     "metadata": {},
     "output_type": "display_data"
    },
    {
     "name": "stdout",
     "output_type": "stream",
     "text": [
      "\n",
      "\n",
      "\n",
      "--- Working on 1-to-1 correspondence-----\n",
      "max(original_labels),len(original_labels) = (2, 3)\n",
      "empty_indices % = 0.006368885869565217\n",
      " conflict_indices % = 0.016728940217391304\n"
     ]
    },
    {
     "data": {
      "application/vnd.jupyter.widget-view+json": {
       "model_id": "05481e83f85648c08cca0954bc4d68af",
       "version_major": 2,
       "version_minor": 0
      },
      "text/plain": [
       "HBox(children=(FloatProgress(value=0.0, max=3.0), HTML(value='')))"
      ]
     },
     "metadata": {},
     "output_type": "display_data"
    },
    {
     "name": "stdout",
     "output_type": "stream",
     "text": [
      "\n",
      "AFTER face_lookup_resolved_test\n"
     ]
    },
    {
     "data": {
      "application/vnd.jupyter.widget-view+json": {
       "model_id": "f731cd5a589847efb753de3a2bda85c9",
       "version_major": 2,
       "version_minor": 0
      },
      "text/plain": [
       "HBox(children=(FloatProgress(value=0.0, max=3.0), HTML(value='')))"
      ]
     },
     "metadata": {},
     "output_type": "display_data"
    },
    {
     "name": "stdout",
     "output_type": "stream",
     "text": [
      "\n",
      "Deleting branches from dictionary\n",
      " Finished with (19, 2) \n",
      "\n",
      "\n",
      "\n",
      "\n",
      "---- Working on (21, 2) connection-----\n",
      "winning_vertex = [406185.484181   669231.3487998  665140.15351679]\n",
      "MP_branches_with_stitch_point = [0]\n",
      "Current stitch point was not a branch or endpoint, shortest_path_length to one = 901.2902676941808\n",
      "MAP_branches_with_stitch_point = [4]\n",
      "MAP_stitch_point_on_end_or_branch = False\n",
      "Found winning edge: [7, 9.0]\n"
     ]
    },
    {
     "data": {
      "application/vnd.jupyter.widget-view+json": {
       "model_id": "f307800d854048ac96e4e85bd31ef08c",
       "version_major": 2,
       "version_minor": 0
      },
      "text/plain": [
       "HBox(children=(FloatProgress(value=1.0, bar_style='info', max=1.0), HTML(value='')))"
      ]
     },
     "metadata": {},
     "output_type": "display_data"
    },
    {
     "name": "stdout",
     "output_type": "stream",
     "text": [
      "\n",
      "\n",
      "\n",
      "--- Working on 1-to-1 correspondence-----\n",
      "max(original_labels),len(original_labels) = (2, 3)\n",
      "empty_indices % = 0.017558150058828853\n",
      " conflict_indices % = 0.038646031315051135\n"
     ]
    },
    {
     "data": {
      "application/vnd.jupyter.widget-view+json": {
       "model_id": "660de7ec37c4454c87c5982ee099ab84",
       "version_major": 2,
       "version_minor": 0
      },
      "text/plain": [
       "HBox(children=(FloatProgress(value=0.0, max=7.0), HTML(value='')))"
      ]
     },
     "metadata": {},
     "output_type": "display_data"
    },
    {
     "name": "stdout",
     "output_type": "stream",
     "text": [
      "\n",
      "AFTER face_lookup_resolved_test\n"
     ]
    },
    {
     "data": {
      "application/vnd.jupyter.widget-view+json": {
       "model_id": "a06460402e15425caf8489f67c4a2992",
       "version_major": 2,
       "version_minor": 0
      },
      "text/plain": [
       "HBox(children=(FloatProgress(value=0.0, max=3.0), HTML(value='')))"
      ]
     },
     "metadata": {},
     "output_type": "display_data"
    },
    {
     "name": "stdout",
     "output_type": "stream",
     "text": [
      "\n",
      "Deleting branches from dictionary\n",
      " Finished with (21, 2) \n",
      "\n",
      "\n",
      "\n",
      "\n",
      "---- Working on (10, 3) connection-----\n",
      "winning_vertex = [413214.80667713 667295.26448535 600925.10352104]\n",
      "MP_branches_with_stitch_point = [1, 2]\n",
      "Current stitch point was a branch or endpoint\n",
      "MAP_branches_with_stitch_point = [0]\n",
      "MAP_stitch_point_on_end_or_branch = True\n",
      "Found winning edge: [68, 69.0]\n",
      "Only 2 skeleton nodes so cannot do smoothing\n"
     ]
    },
    {
     "data": {
      "application/vnd.jupyter.widget-view+json": {
       "model_id": "ea28bfeaaba74f169748e091a6162ae0",
       "version_major": 2,
       "version_minor": 0
      },
      "text/plain": [
       "HBox(children=(FloatProgress(value=1.0, bar_style='info', max=1.0), HTML(value='')))"
      ]
     },
     "metadata": {},
     "output_type": "display_data"
    },
    {
     "name": "stdout",
     "output_type": "stream",
     "text": [
      "\n",
      "\n",
      "\n",
      "--- Working on 1-to-1 correspondence-----\n",
      "max(original_labels),len(original_labels) = (2, 3)\n",
      "empty_indices % = 0.16669251046673902\n",
      " conflict_indices % = 0.004806946813459451\n"
     ]
    },
    {
     "data": {
      "application/vnd.jupyter.widget-view+json": {
       "model_id": "39478f0bc4c9479cba66c4d49fb40a46",
       "version_major": 2,
       "version_minor": 0
      },
      "text/plain": [
       "HBox(children=(FloatProgress(value=0.0, max=9.0), HTML(value='')))"
      ]
     },
     "metadata": {},
     "output_type": "display_data"
    },
    {
     "name": "stdout",
     "output_type": "stream",
     "text": [
      "\n",
      "AFTER face_lookup_resolved_test\n"
     ]
    },
    {
     "data": {
      "application/vnd.jupyter.widget-view+json": {
       "model_id": "5c93640901aa4fd881024e512e6eec28",
       "version_major": 2,
       "version_minor": 0
      },
      "text/plain": [
       "HBox(children=(FloatProgress(value=0.0, max=3.0), HTML(value='')))"
      ]
     },
     "metadata": {},
     "output_type": "display_data"
    },
    {
     "name": "stdout",
     "output_type": "stream",
     "text": [
      "\n",
      " Finished with (10, 3) \n",
      "\n",
      "\n",
      "\n",
      "Time for decomp of Limb = 242.47305130958557\n",
      "\n",
      "\n",
      "----- Working on Proper Limb # 1 ---------\n",
      "Time for preparing soma vertices and root: 6.198883056640625e-06\n",
      "cc_vertex_thresh = 10\n"
     ]
    },
    {
     "name": "stderr",
     "output_type": "stream",
     "text": [
      "\r",
      "  0%|          | 0/1 [00:00<?, ?it/s]"
     ]
    },
    {
     "data": {
      "application/vnd.jupyter.widget-view+json": {
       "model_id": "69a11430279649fb87174df946f80649",
       "version_major": 2,
       "version_minor": 0
      },
      "text/plain": [
       "HBox(children=(FloatProgress(value=0.0, max=122841.0), HTML(value='')))"
      ]
     },
     "metadata": {},
     "output_type": "display_data"
    },
    {
     "name": "stderr",
     "output_type": "stream",
     "text": [
      "100%|██████████| 1/1 [00:02<00:00,  2.53s/it]"
     ]
    },
    {
     "name": "stdout",
     "output_type": "stream",
     "text": [
      "\n"
     ]
    },
    {
     "name": "stderr",
     "output_type": "stream",
     "text": [
      "\n"
     ]
    },
    {
     "name": "stdout",
     "output_type": "stream",
     "text": [
      "Time for 1st pass MP skeletonization: 3.5949676036834717\n",
      "branches_touching_root = [54]\n",
      "length of Graph = 12657\n",
      "max(kept_branches_idx) = 54, len(kept_branches_idx) = 55\n",
      "empty_indices % = 0.0\n",
      " conflict_indices % = 0.01131927543570227\n"
     ]
    },
    {
     "data": {
      "application/vnd.jupyter.widget-view+json": {
       "model_id": "68f0b6706d874708ac2c2e67d8a97d19",
       "version_major": 2,
       "version_minor": 0
      },
      "text/plain": [
       "HBox(children=(FloatProgress(value=0.0, max=28.0), HTML(value='')))"
      ]
     },
     "metadata": {},
     "output_type": "display_data"
    },
    {
     "name": "stdout",
     "output_type": "stream",
     "text": [
      "\n",
      "AFTER face_lookup_resolved_test\n"
     ]
    },
    {
     "data": {
      "application/vnd.jupyter.widget-view+json": {
       "model_id": "96460b9a03fd4d7886e41723e27a9081",
       "version_major": 2,
       "version_minor": 0
      },
      "text/plain": [
       "HBox(children=(FloatProgress(value=0.0, max=55.0), HTML(value='')))"
      ]
     },
     "metadata": {},
     "output_type": "display_data"
    },
    {
     "name": "stdout",
     "output_type": "stream",
     "text": [
      "\n",
      "Decomposing first pass: 7.558769464492798\n",
      "Attempting to use MeshAfterParty Skeletonization and Mesh Correspondence\n",
      "Another print\n",
      "Found len(mesh_large_idx) MAP candidates: [2287, 2728, 1250, 8414, 8880, 2153, 1509, 1525, 6211, 1263, 3020, 812, 4829, 4058, 3394, 9250]\n",
      "mesh_large_connectivity: 0.1668398380279541\n",
      "Finding MAP candidates connected components: 0.00022864341735839844\n",
      "len(filtered_pieces) = 2\n",
      "skeleton_connectivity_MP : 0.4239921569824219\n",
      "Grouping MP Sublimbs by Graph: 0.10056614875793457\n",
      "Divinding into MP and MAP pieces: 1.1920928955078125e-06\n",
      "--- Working on MAP piece 0---\n",
      "MAP Filtering Soma Pieces: 0.003444194793701172\n",
      "inside skeletonize_connected_branch and use_surface_after_CGAL=False, surface_reconstruction_size=1000\n",
      "     Starting Screened Poisson\n",
      "xvfb-run -n 9245 -s \"-screen 0 800x600x24\" meshlabserver $@  -i /notebooks/Platinum_Decomp_Fusion/temp/None.off -o /notebooks/Platinum_Decomp_Fusion/temp/None_poisson.off -s /notebooks/Platinum_Decomp_Fusion/temp/poisson_382864.mls\n",
      "removed temporary input file: /notebooks/Platinum_Decomp_Fusion/temp/None.off\n",
      "removed temporary output file: /notebooks/Platinum_Decomp_Fusion/temp/None_poisson.off\n",
      "Using the close holes feature\n",
      "xvfb-run -n 4563 -s \"-screen 0 800x600x24\" meshlabserver $@  -i /notebooks/Platinum_Decomp_Fusion/temp/neuron_92912.off -o /notebooks/Platinum_Decomp_Fusion/temp/neuron_92912_fill_holes.off -s /notebooks/Platinum_Decomp_Fusion/temp/fill_holes_368180.mls\n",
      "removed temporary input file: /notebooks/Platinum_Decomp_Fusion/temp/neuron_92912.off\n",
      "removed temporary output file: /notebooks/Platinum_Decomp_Fusion/temp/neuron_92912_fill_holes.off\n",
      "-----Time for Screened Poisson= 17.2601215839386\n",
      "     Starting Calcification\n"
     ]
    },
    {
     "data": {
      "application/vnd.jupyter.widget-view+json": {
       "model_id": "6325b3a5cf2544a69b6a9cb076edfd09",
       "version_major": 2,
       "version_minor": 0
      },
      "text/plain": [
       "HBox(children=(FloatProgress(value=1.0, bar_style='info', max=1.0), HTML(value='')))"
      ]
     },
     "metadata": {},
     "output_type": "display_data"
    },
    {
     "name": "stdout",
     "output_type": "stream",
     "text": [
      "\n",
      "No skeletons to stack so returning empty list\n",
      "len_subgraphs AT BEGINNING of the loop\n"
     ]
    },
    {
     "data": {
      "application/vnd.jupyter.widget-view+json": {
       "model_id": "20ef997caca14f5fac1ba55852f2421b",
       "version_major": 2,
       "version_minor": 0
      },
      "text/plain": [
       "HBox(children=(FloatProgress(value=0.0, max=2.0), HTML(value='')))"
      ]
     },
     "metadata": {},
     "output_type": "display_data"
    },
    {
     "name": "stdout",
     "output_type": "stream",
     "text": [
      "all graph is one component!\n",
      "\n",
      "Total time for skeleton stitching = 0.04358959197998047\n",
      "The process was using a temp folder\n",
      "Checking connected components after skeletonize_connected_branch\n",
      "    Total time for skeletonizing branch: 22.466962575912476\n",
      "Checking connected components after removing cycles\n",
      "Total time for mesh KDTree = 0.31297826766967773\n",
      "sbv[0].reshape(-1,3) = [[413099.8 660745.8 628486.2]]\n",
      "closest_sk_pt_coord BEFORE = [410869. 660275. 628931.]\n",
      "current_skeleton.shape = (512, 2, 3)\n",
      "Current stitch point was not a branch or endpoint, shortest_path_length to one = 10236.606220499885\n",
      "change_status for create soma extending pieces = False\n",
      "closest_sk_pt_coord AFTER = [410869. 660275. 628931.]\n",
      "Adding new branch to skeleton\n",
      "border_average_coordinate = [411725.67634409 661475.70860215 628486.8516129 ]\n",
      "endpoints_must_keep = {1: array([[411725.67634409, 661475.70860215, 628486.8516129 ]])}\n",
      "    Total time for Fixing Skeleton Soma Endpoint Extension : 0.5076513290405273\n",
      "filter_end_node_length = 4001\n",
      "Using Distance measure skeletal_distance\n",
      "endpoints_must_keep = [[411725.67634409 661475.70860215 628486.8516129 ]]\n",
      "Number of end_nodes BEFORE filtering = 26\n",
      "all_single_nodes_to_eliminate = [11]\n"
     ]
    },
    {
     "data": {
      "application/vnd.jupyter.widget-view+json": {
       "model_id": "2952be2ce77540e2860a7373325de28e",
       "version_major": 2,
       "version_minor": 0
      },
      "text/plain": [
       "HBox(children=(FloatProgress(value=0.0, max=20.0), HTML(value='')))"
      ]
     },
     "metadata": {},
     "output_type": "display_data"
    },
    {
     "name": "stdout",
     "output_type": "stream",
     "text": [
      "\n",
      "Checking connected components after clean_skeleton\n",
      "after DISTANCE cleaning limb size of skeleton = (479, 2, 3)\n",
      "********COMBINING CLOSE SKELETON NODES WITHIN 700 DISTANCE**********\n",
      "Found 0 valid paths to replace\n",
      "valid_paths = []\n",
      "valid_path_lengths = []\n",
      "No valid paths found so just returning the original\n",
      "skeletonize_and_clean_connected_branch_CGAL: 23.386006355285645\n",
      "Working on limb correspondence for #0 MAP piece\n"
     ]
    },
    {
     "data": {
      "application/vnd.jupyter.widget-view+json": {
       "model_id": "838dec1176bb4695ad3bff88301537c8",
       "version_major": 2,
       "version_minor": 0
      },
      "text/plain": [
       "HBox(children=(FloatProgress(value=1.0, bar_style='info', max=1.0), HTML(value='')))"
      ]
     },
     "metadata": {},
     "output_type": "display_data"
    },
    {
     "name": "stdout",
     "output_type": "stream",
     "text": [
      "\n",
      "Total time for decomposition = 5.878522872924805\n",
      "mesh_correspondence_first_pass: 5.8785505294799805\n",
      "Limb decomposed into 11 branches\n",
      "divided_skeleton_graph_recovered = (479, 2, 3) and \n",
      "current_mesh_data[0]['branch_skeletons_cleaned'].shape = (479, 2, 3)\n",
      "\n",
      "Number of connected components in deocmposed recovered graph = 1\n",
      "Number of connected components in cleaned skeleton graph= 1\n",
      "The downsampled branches number of connected components = 1\n",
      "Empty submeshes = []\n",
      "\n",
      "\n",
      "--- Working on 1-to-1 correspondence-----\n",
      "max(original_labels),len(original_labels) = (10, 11)\n",
      "empty_indices % = 0.038224246316731866\n",
      " conflict_indices % = 0.04472470368424126\n"
     ]
    },
    {
     "data": {
      "application/vnd.jupyter.widget-view+json": {
       "model_id": "883daec239b4482498a7fe947c1085a1",
       "version_major": 2,
       "version_minor": 0
      },
      "text/plain": [
       "HBox(children=(FloatProgress(value=0.0, max=29.0), HTML(value='')))"
      ]
     },
     "metadata": {},
     "output_type": "display_data"
    },
    {
     "name": "stdout",
     "output_type": "stream",
     "text": [
      "\n",
      "AFTER face_lookup_resolved_test\n",
      "Took 0 iterations to expand the label back\n"
     ]
    },
    {
     "data": {
      "application/vnd.jupyter.widget-view+json": {
       "model_id": "0742268703874407b703ab328e61a808",
       "version_major": 2,
       "version_minor": 0
      },
      "text/plain": [
       "HBox(children=(FloatProgress(value=0.0, max=11.0), HTML(value='')))"
      ]
     },
     "metadata": {},
     "output_type": "display_data"
    },
    {
     "name": "stdout",
     "output_type": "stream",
     "text": [
      "\n",
      "Total time for MAP sublimb #0 mesh processing = 30.4378502368927\n",
      "correspondence_1_to_1: 1.170114278793335\n",
      "--- Working on MAP piece 1---\n",
      "MAP Filtering Soma Pieces: 0.0010175704956054688\n",
      "inside skeletonize_connected_branch and use_surface_after_CGAL=False, surface_reconstruction_size=1000\n",
      "     Starting Screened Poisson\n",
      "xvfb-run -n 9149 -s \"-screen 0 800x600x24\" meshlabserver $@  -i /notebooks/Platinum_Decomp_Fusion/temp/None.off -o /notebooks/Platinum_Decomp_Fusion/temp/None_poisson.off -s /notebooks/Platinum_Decomp_Fusion/temp/poisson_70916.mls\n",
      "removed temporary input file: /notebooks/Platinum_Decomp_Fusion/temp/None.off\n",
      "removed temporary output file: /notebooks/Platinum_Decomp_Fusion/temp/None_poisson.off\n",
      "Using the close holes feature\n",
      "xvfb-run -n 8471 -s \"-screen 0 800x600x24\" meshlabserver $@  -i /notebooks/Platinum_Decomp_Fusion/temp/neuron_84739.off -o /notebooks/Platinum_Decomp_Fusion/temp/neuron_84739_fill_holes.off -s /notebooks/Platinum_Decomp_Fusion/temp/fill_holes_326310.mls\n",
      "removed temporary input file: /notebooks/Platinum_Decomp_Fusion/temp/neuron_84739.off\n",
      "removed temporary output file: /notebooks/Platinum_Decomp_Fusion/temp/neuron_84739_fill_holes.off\n",
      "-----Time for Screened Poisson= 8.032389640808105\n",
      "     Starting Calcification\n"
     ]
    },
    {
     "data": {
      "application/vnd.jupyter.widget-view+json": {
       "model_id": "72f8588490054f1da6112fde9abfc23d",
       "version_major": 2,
       "version_minor": 0
      },
      "text/plain": [
       "HBox(children=(FloatProgress(value=1.0, bar_style='info', max=1.0), HTML(value='')))"
      ]
     },
     "metadata": {},
     "output_type": "display_data"
    },
    {
     "name": "stdout",
     "output_type": "stream",
     "text": [
      "\n",
      "No skeletons to stack so returning empty list\n",
      "len_subgraphs AT BEGINNING of the loop\n"
     ]
    },
    {
     "data": {
      "application/vnd.jupyter.widget-view+json": {
       "model_id": "76936928852146a5afda71385db4002b",
       "version_major": 2,
       "version_minor": 0
      },
      "text/plain": [
       "HBox(children=(FloatProgress(value=0.0, max=1.0), HTML(value='')))"
      ]
     },
     "metadata": {},
     "output_type": "display_data"
    },
    {
     "name": "stdout",
     "output_type": "stream",
     "text": [
      "all graph is one component!\n",
      "\n",
      "Total time for skeleton stitching = 0.022995471954345703\n",
      "The process was using a temp folder\n",
      "Checking connected components after skeletonize_connected_branch\n",
      "    Total time for skeletonizing branch: 8.62452220916748\n",
      "Checking connected components after removing cycles\n",
      "    Total time for Fixing Skeleton Soma Endpoint Extension : 0.004208087921142578\n",
      "filter_end_node_length = 4001\n",
      "Using Distance measure skeletal_distance\n"
     ]
    },
    {
     "data": {
      "application/vnd.jupyter.widget-view+json": {
       "model_id": "5b0cfae7812d41ef87402afb9fbcaed8",
       "version_major": 2,
       "version_minor": 0
      },
      "text/plain": [
       "HBox(children=(FloatProgress(value=0.0, max=3.0), HTML(value='')))"
      ]
     },
     "metadata": {},
     "output_type": "display_data"
    },
    {
     "name": "stdout",
     "output_type": "stream",
     "text": [
      "\n",
      "Checking connected components after clean_skeleton\n",
      "after DISTANCE cleaning limb size of skeleton = (68, 2, 3)\n",
      "********COMBINING CLOSE SKELETON NODES WITHIN 700 DISTANCE**********\n",
      "Found 0 valid paths to replace\n",
      "valid_paths = []\n",
      "valid_path_lengths = []\n",
      "No valid paths found so just returning the original\n",
      "Inside MAP decomposition and curr_limb_endpoints_must_keep was None\n",
      "skeletonize_and_clean_connected_branch_CGAL: 8.698763608932495\n",
      "Working on limb correspondence for #1 MAP piece\n"
     ]
    },
    {
     "data": {
      "application/vnd.jupyter.widget-view+json": {
       "model_id": "46009c7b53b048c2973b41c014c11907",
       "version_major": 2,
       "version_minor": 0
      },
      "text/plain": [
       "HBox(children=(FloatProgress(value=1.0, bar_style='info', max=1.0), HTML(value='')))"
      ]
     },
     "metadata": {},
     "output_type": "display_data"
    },
    {
     "name": "stdout",
     "output_type": "stream",
     "text": [
      "\n",
      "Total time for decomposition = 0.507127046585083\n",
      "mesh_correspondence_first_pass: 0.5071585178375244\n",
      "Limb decomposed into 1 branches\n",
      "divided_skeleton_graph_recovered = (68, 2, 3) and \n",
      "current_mesh_data[0]['branch_skeletons_cleaned'].shape = (68, 2, 3)\n",
      "\n",
      "Number of connected components in deocmposed recovered graph = 1\n",
      "Number of connected components in cleaned skeleton graph= 1\n",
      "The downsampled branches number of connected components = 1\n",
      "Empty submeshes = []\n",
      "\n",
      "\n",
      "--- Working on 1-to-1 correspondence-----\n",
      "max(original_labels),len(original_labels) = (0, 1)\n",
      "empty_indices % = 0.09587202147891263\n",
      " conflict_indices % = 0.0\n"
     ]
    },
    {
     "data": {
      "application/vnd.jupyter.widget-view+json": {
       "model_id": "3b3f958bb58d46e586a2e36f65bcd536",
       "version_major": 2,
       "version_minor": 0
      },
      "text/plain": [
       "HBox(children=(FloatProgress(value=0.0, max=4.0), HTML(value='')))"
      ]
     },
     "metadata": {},
     "output_type": "display_data"
    },
    {
     "name": "stdout",
     "output_type": "stream",
     "text": [
      "\n",
      "AFTER face_lookup_resolved_test\n"
     ]
    },
    {
     "data": {
      "application/vnd.jupyter.widget-view+json": {
       "model_id": "bf0062833c9b4cef957f5706da24d49b",
       "version_major": 2,
       "version_minor": 0
      },
      "text/plain": [
       "HBox(children=(FloatProgress(value=0.0, max=1.0), HTML(value='')))"
      ]
     },
     "metadata": {},
     "output_type": "display_data"
    },
    {
     "name": "stdout",
     "output_type": "stream",
     "text": [
      "\n",
      "Total time for MAP sublimb #1 mesh processing = 9.367741346359253\n",
      "correspondence_1_to_1: 0.16065096855163574\n",
      "Total time for MAP sublimb processing 39.80608582496643\n",
      "---- Working on MP Decomposition #0 ----\n",
      "MP filtering soma verts: 0.006629228591918945\n",
      "Do Not Need to Fix MP Decomposition 0 so just continuing\n",
      "---- Working on MP Decomposition #1 ----\n",
      "MP filtering soma verts: 0.005591630935668945\n",
      "Fixing Possible Soma Extension Branch for Sublimb 1\n",
      "Total time for mesh KDTree = 0.05859255790710449\n",
      "sbv[0].reshape(-1,3) = [[346783.8 572173.2 600805.4]]\n",
      "closest_sk_pt_coord BEFORE = [347423.45204149 572354.78458314 600688.70490168]\n",
      "current_skeleton.shape = (315, 2, 3)\n",
      "Current stitch point was a branch or endpoint\n",
      "change_status for create soma extending pieces = False\n",
      "closest_sk_pt_coord AFTER = [347423.45204149 572354.78458314 600688.70490168]\n",
      "skipping soma 2 because closest skeleton node was already end node\n",
      "endpoints_must_keep = {2: array([[347423.45204149, 572354.78458314, 600688.70490168]])}\n",
      "MP (because soma touching verts) create_soma_extending_branches: 0.14400362968444824\n",
      "No soma extending branch was added for this sublimb even though it had a soma border (means they already existed)\n",
      "MP (because soma touching verts) soma extension add: 2.4080276489257812e-05\n",
      "---- Working on MP Decomposition #2 ----\n",
      "MP filtering soma verts: 0.003973960876464844\n",
      "Do Not Need to Fix MP Decomposition 2 so just continuing\n",
      "---- Working on MP Decomposition #3 ----\n",
      "MP filtering soma verts: 0.0027816295623779297\n",
      "Do Not Need to Fix MP Decomposition 3 so just continuing\n",
      "---- Working on MP Decomposition #4 ----\n",
      "MP filtering soma verts: 0.00040411949157714844\n",
      "Do Not Need to Fix MP Decomposition 4 so just continuing\n",
      "---- Working on MP Decomposition #5 ----\n",
      "MP filtering soma verts: 0.0023467540740966797\n",
      "Do Not Need to Fix MP Decomposition 5 so just continuing\n",
      "---- Working on MP Decomposition #6 ----\n",
      "MP filtering soma verts: 0.0004863739013671875\n",
      "Do Not Need to Fix MP Decomposition 6 so just continuing\n",
      "---- Working on MP Decomposition #7 ----\n",
      "MP filtering soma verts: 0.0002601146697998047\n",
      "Do Not Need to Fix MP Decomposition 7 so just continuing\n",
      "---- Working on MP Decomposition #8 ----\n",
      "MP filtering soma verts: 0.0027794837951660156\n",
      "Do Not Need to Fix MP Decomposition 8 so just continuing\n",
      "---- Working on MP Decomposition #9 ----\n",
      "MP filtering soma verts: 0.0006239414215087891\n",
      "Do Not Need to Fix MP Decomposition 9 so just continuing\n",
      "\n",
      "---- Working on (0, 0) connection-----\n",
      "winning_vertex = [396077.70916458 651755.9152607  622453.4842363 ]\n",
      "MP_branches_with_stitch_point = [1, 6]\n",
      "Current stitch point was a branch or endpoint\n",
      "MAP_branches_with_stitch_point = [2]\n",
      "MAP_stitch_point_on_end_or_branch = True\n",
      "Found winning edge: [729, 730.0]\n",
      "Found winning edge: [180, 181.0]\n"
     ]
    },
    {
     "data": {
      "application/vnd.jupyter.widget-view+json": {
       "model_id": "30b6e09b2ae14964ac598db94753492e",
       "version_major": 2,
       "version_minor": 0
      },
      "text/plain": [
       "HBox(children=(FloatProgress(value=1.0, bar_style='info', max=1.0), HTML(value='')))"
      ]
     },
     "metadata": {},
     "output_type": "display_data"
    },
    {
     "name": "stdout",
     "output_type": "stream",
     "text": [
      "\n",
      "\n",
      "\n",
      "--- Working on 1-to-1 correspondence-----\n",
      "max(original_labels),len(original_labels) = (2, 3)\n",
      "empty_indices % = 0.016074409730503218\n",
      " conflict_indices % = 0.011161459575482948\n"
     ]
    },
    {
     "data": {
      "application/vnd.jupyter.widget-view+json": {
       "model_id": "7ec3350b73f44cd19ed82075ad7930a0",
       "version_major": 2,
       "version_minor": 0
      },
      "text/plain": [
       "HBox(children=(FloatProgress(value=0.0, max=6.0), HTML(value='')))"
      ]
     },
     "metadata": {},
     "output_type": "display_data"
    },
    {
     "name": "stdout",
     "output_type": "stream",
     "text": [
      "\n",
      "AFTER face_lookup_resolved_test\n"
     ]
    },
    {
     "data": {
      "application/vnd.jupyter.widget-view+json": {
       "model_id": "d87de22fa4a64af19ebb32edaed0cc2f",
       "version_major": 2,
       "version_minor": 0
      },
      "text/plain": [
       "HBox(children=(FloatProgress(value=0.0, max=3.0), HTML(value='')))"
      ]
     },
     "metadata": {},
     "output_type": "display_data"
    },
    {
     "name": "stdout",
     "output_type": "stream",
     "text": [
      "\n",
      " Finished with (0, 0) \n",
      "\n",
      "\n",
      "\n",
      "\n",
      "---- Working on (2, 0) connection-----\n",
      "winning_vertex = [420634.79365162 571723.31683853 649103.13488631]\n",
      "MP_branches_with_stitch_point = [2, 3]\n",
      "Current stitch point was not a branch or endpoint, shortest_path_length to one = 647.1560862728558\n",
      "MAP_branches_with_stitch_point = [5]\n",
      "MAP_stitch_point_on_end_or_branch = False\n",
      "Found winning edge: [54, 55.0]\n",
      "Found winning edge: [14, 18.0]\n"
     ]
    },
    {
     "data": {
      "application/vnd.jupyter.widget-view+json": {
       "model_id": "0f5e699cedcd4a16bd871304d6720377",
       "version_major": 2,
       "version_minor": 0
      },
      "text/plain": [
       "HBox(children=(FloatProgress(value=1.0, bar_style='info', max=1.0), HTML(value='')))"
      ]
     },
     "metadata": {},
     "output_type": "display_data"
    },
    {
     "name": "stdout",
     "output_type": "stream",
     "text": [
      "\n",
      "\n",
      "\n",
      "--- Working on 1-to-1 correspondence-----\n",
      "max(original_labels),len(original_labels) = (3, 4)\n",
      "empty_indices % = 0.03000244170430961\n",
      " conflict_indices % = 0.02017458185813698\n"
     ]
    },
    {
     "data": {
      "application/vnd.jupyter.widget-view+json": {
       "model_id": "3e1c1a6c9ce74dda872a75b967a67460",
       "version_major": 2,
       "version_minor": 0
      },
      "text/plain": [
       "HBox(children=(FloatProgress(value=0.0, max=15.0), HTML(value='')))"
      ]
     },
     "metadata": {},
     "output_type": "display_data"
    },
    {
     "name": "stdout",
     "output_type": "stream",
     "text": [
      "\n",
      "AFTER face_lookup_resolved_test\n"
     ]
    },
    {
     "data": {
      "application/vnd.jupyter.widget-view+json": {
       "model_id": "a54f22c24b434977853996d1b3eb94ef",
       "version_major": 2,
       "version_minor": 0
      },
      "text/plain": [
       "HBox(children=(FloatProgress(value=0.0, max=4.0), HTML(value='')))"
      ]
     },
     "metadata": {},
     "output_type": "display_data"
    },
    {
     "name": "stdout",
     "output_type": "stream",
     "text": [
      "\n",
      "Deleting branches from dictionary\n",
      " Finished with (2, 0) \n",
      "\n",
      "\n",
      "\n",
      "\n",
      "---- Working on (4, 0) connection-----\n",
      "winning_vertex = [412055.05923265 607214.33291043 637584.15610978]\n",
      "MP_branches_with_stitch_point = [0]\n",
      "Current stitch point was not a branch or endpoint, shortest_path_length to one = 41850.82618264043\n",
      "MAP_branches_with_stitch_point = [5]\n",
      "MAP_stitch_point_on_end_or_branch = False\n",
      "Found winning edge: [104, 105.0]\n"
     ]
    },
    {
     "data": {
      "application/vnd.jupyter.widget-view+json": {
       "model_id": "fbbf065a00754407aed24d28e9f3a122",
       "version_major": 2,
       "version_minor": 0
      },
      "text/plain": [
       "HBox(children=(FloatProgress(value=1.0, bar_style='info', max=1.0), HTML(value='')))"
      ]
     },
     "metadata": {},
     "output_type": "display_data"
    },
    {
     "name": "stdout",
     "output_type": "stream",
     "text": [
      "\n",
      "\n",
      "\n",
      "--- Working on 1-to-1 correspondence-----\n",
      "max(original_labels),len(original_labels) = (2, 3)\n",
      "empty_indices % = 0.043025570356760065\n",
      " conflict_indices % = 0.0036747818098300414\n"
     ]
    },
    {
     "data": {
      "application/vnd.jupyter.widget-view+json": {
       "model_id": "67c429bbd8a2434bba49424e8b9f94e8",
       "version_major": 2,
       "version_minor": 0
      },
      "text/plain": [
       "HBox(children=(FloatProgress(value=0.0, max=6.0), HTML(value='')))"
      ]
     },
     "metadata": {},
     "output_type": "display_data"
    },
    {
     "name": "stdout",
     "output_type": "stream",
     "text": [
      "\n",
      "AFTER face_lookup_resolved_test\n"
     ]
    },
    {
     "data": {
      "application/vnd.jupyter.widget-view+json": {
       "model_id": "2c96f5b4cbf04964be457efb02f93788",
       "version_major": 2,
       "version_minor": 0
      },
      "text/plain": [
       "HBox(children=(FloatProgress(value=0.0, max=3.0), HTML(value='')))"
      ]
     },
     "metadata": {},
     "output_type": "display_data"
    },
    {
     "name": "stdout",
     "output_type": "stream",
     "text": [
      "\n",
      "Deleting branches from dictionary\n",
      " Finished with (4, 0) \n",
      "\n",
      "\n",
      "\n",
      "\n",
      "---- Working on (5, 0) connection-----\n",
      "winning_vertex = [394859.99278133 630451.27611969 623683.22464522]\n",
      "MP_branches_with_stitch_point = [2, 3]\n",
      "Current stitch point was a branch or endpoint\n",
      "MAP_branches_with_stitch_point = [1]\n",
      "MAP_stitch_point_on_end_or_branch = True\n",
      "Found winning edge: [133, 134.0]\n",
      "Found winning edge: [976, 977.0]\n"
     ]
    },
    {
     "data": {
      "application/vnd.jupyter.widget-view+json": {
       "model_id": "c2b3afc02fcb4e4aa3a8d27571252aaf",
       "version_major": 2,
       "version_minor": 0
      },
      "text/plain": [
       "HBox(children=(FloatProgress(value=1.0, bar_style='info', max=1.0), HTML(value='')))"
      ]
     },
     "metadata": {},
     "output_type": "display_data"
    },
    {
     "name": "stdout",
     "output_type": "stream",
     "text": [
      "\n",
      "\n",
      "\n",
      "--- Working on 1-to-1 correspondence-----\n",
      "max(original_labels),len(original_labels) = (2, 3)\n",
      "empty_indices % = 0.026890532937580296\n",
      " conflict_indices % = 0.010809374030921897\n"
     ]
    },
    {
     "data": {
      "application/vnd.jupyter.widget-view+json": {
       "model_id": "dd972070723c4780b098be69a77b3470",
       "version_major": 2,
       "version_minor": 0
      },
      "text/plain": [
       "HBox(children=(FloatProgress(value=0.0, max=4.0), HTML(value='')))"
      ]
     },
     "metadata": {},
     "output_type": "display_data"
    },
    {
     "name": "stdout",
     "output_type": "stream",
     "text": [
      "\n",
      "AFTER face_lookup_resolved_test\n"
     ]
    },
    {
     "data": {
      "application/vnd.jupyter.widget-view+json": {
       "model_id": "19d3f3d7a7964a13b242b80666d8ceb3",
       "version_major": 2,
       "version_minor": 0
      },
      "text/plain": [
       "HBox(children=(FloatProgress(value=0.0, max=3.0), HTML(value='')))"
      ]
     },
     "metadata": {},
     "output_type": "display_data"
    },
    {
     "name": "stdout",
     "output_type": "stream",
     "text": [
      "\n",
      " Finished with (5, 0) \n",
      "\n",
      "\n",
      "\n",
      "\n",
      "---- Working on (6, 0) connection-----\n",
      "winning_vertex = [407963.91786099 646304.56437094 620053.264342  ]\n",
      "MP_branches_with_stitch_point = [0]\n",
      "Current stitch point was not a branch or endpoint, shortest_path_length to one = 4107.352838345381\n",
      "MAP_branches_with_stitch_point = [6]\n",
      "MAP_stitch_point_on_end_or_branch = False\n",
      "Found winning edge: [128, 129.0]\n"
     ]
    },
    {
     "data": {
      "application/vnd.jupyter.widget-view+json": {
       "model_id": "31909335b48e482288a042b7503fa4ba",
       "version_major": 2,
       "version_minor": 0
      },
      "text/plain": [
       "HBox(children=(FloatProgress(value=1.0, bar_style='info', max=1.0), HTML(value='')))"
      ]
     },
     "metadata": {},
     "output_type": "display_data"
    },
    {
     "name": "stdout",
     "output_type": "stream",
     "text": [
      "\n",
      "\n",
      "\n",
      "--- Working on 1-to-1 correspondence-----\n",
      "max(original_labels),len(original_labels) = (2, 3)\n",
      "empty_indices % = 0.06483486735246345\n",
      " conflict_indices % = 0.020844612885760692\n"
     ]
    },
    {
     "data": {
      "application/vnd.jupyter.widget-view+json": {
       "model_id": "3b80f3a1cd5f4730a08f50ee83c5cfd2",
       "version_major": 2,
       "version_minor": 0
      },
      "text/plain": [
       "HBox(children=(FloatProgress(value=0.0, max=4.0), HTML(value='')))"
      ]
     },
     "metadata": {},
     "output_type": "display_data"
    },
    {
     "name": "stdout",
     "output_type": "stream",
     "text": [
      "\n",
      "AFTER face_lookup_resolved_test\n"
     ]
    },
    {
     "data": {
      "application/vnd.jupyter.widget-view+json": {
       "model_id": "64d031783aae44cd8dc795375523ba03",
       "version_major": 2,
       "version_minor": 0
      },
      "text/plain": [
       "HBox(children=(FloatProgress(value=0.0, max=3.0), HTML(value='')))"
      ]
     },
     "metadata": {},
     "output_type": "display_data"
    },
    {
     "name": "stdout",
     "output_type": "stream",
     "text": [
      "\n",
      "Deleting branches from dictionary\n",
      " Finished with (6, 0) \n",
      "\n",
      "\n",
      "\n",
      "\n",
      "---- Working on (7, 0) connection-----\n",
      "winning_vertex = [419958.10076697 574593.70267629 646290.71739182]\n",
      "MP_branches_with_stitch_point = [0]\n",
      "Current stitch point was not a branch or endpoint, shortest_path_length to one = 4652.524454089257\n",
      "MAP_branches_with_stitch_point = [12]\n",
      "MAP_stitch_point_on_end_or_branch = False\n",
      "Found winning edge: [1, 3.0]\n"
     ]
    },
    {
     "data": {
      "application/vnd.jupyter.widget-view+json": {
       "model_id": "e8ac41cc942b4c2d8c930d66e58cb636",
       "version_major": 2,
       "version_minor": 0
      },
      "text/plain": [
       "HBox(children=(FloatProgress(value=1.0, bar_style='info', max=1.0), HTML(value='')))"
      ]
     },
     "metadata": {},
     "output_type": "display_data"
    },
    {
     "name": "stdout",
     "output_type": "stream",
     "text": [
      "\n",
      "\n",
      "\n",
      "--- Working on 1-to-1 correspondence-----\n",
      "max(original_labels),len(original_labels) = (2, 3)\n",
      "empty_indices % = 0.06891785150078988\n",
      " conflict_indices % = 0.007701421800947867\n"
     ]
    },
    {
     "data": {
      "application/vnd.jupyter.widget-view+json": {
       "model_id": "d31e6126238d44e689a3ffa492669ff6",
       "version_major": 2,
       "version_minor": 0
      },
      "text/plain": [
       "HBox(children=(FloatProgress(value=0.0, max=6.0), HTML(value='')))"
      ]
     },
     "metadata": {},
     "output_type": "display_data"
    },
    {
     "name": "stdout",
     "output_type": "stream",
     "text": [
      "\n",
      "AFTER face_lookup_resolved_test\n"
     ]
    },
    {
     "data": {
      "application/vnd.jupyter.widget-view+json": {
       "model_id": "f47373819d6a4d1eb24a5f1ac765a148",
       "version_major": 2,
       "version_minor": 0
      },
      "text/plain": [
       "HBox(children=(FloatProgress(value=0.0, max=3.0), HTML(value='')))"
      ]
     },
     "metadata": {},
     "output_type": "display_data"
    },
    {
     "name": "stdout",
     "output_type": "stream",
     "text": [
      "\n",
      "Deleting branches from dictionary\n",
      " Finished with (7, 0) \n",
      "\n",
      "\n",
      "\n",
      "\n",
      "---- Working on (8, 0) connection-----\n",
      "winning_vertex = [419035.34495312 625433.63403026 615931.00967216]\n",
      "MP_branches_with_stitch_point = [0, 1]\n",
      "Current stitch point was a branch or endpoint\n",
      "MAP_branches_with_stitch_point = [13]\n",
      "MAP_stitch_point_on_end_or_branch = True\n",
      "Found winning edge: [40, 41.0]\n",
      "Found winning edge: [44, 45.0]\n"
     ]
    },
    {
     "data": {
      "application/vnd.jupyter.widget-view+json": {
       "model_id": "d5df3dc07edf41f483be327f52d8ec2d",
       "version_major": 2,
       "version_minor": 0
      },
      "text/plain": [
       "HBox(children=(FloatProgress(value=1.0, bar_style='info', max=1.0), HTML(value='')))"
      ]
     },
     "metadata": {},
     "output_type": "display_data"
    },
    {
     "name": "stdout",
     "output_type": "stream",
     "text": [
      "\n",
      "\n",
      "\n",
      "--- Working on 1-to-1 correspondence-----\n",
      "max(original_labels),len(original_labels) = (2, 3)\n",
      "empty_indices % = 0.0005879662899327105\n",
      " conflict_indices % = 0.013163911935715686\n"
     ]
    },
    {
     "data": {
      "application/vnd.jupyter.widget-view+json": {
       "model_id": "7d8c922c6e9644e6be0a5f4e17b99913",
       "version_major": 2,
       "version_minor": 0
      },
      "text/plain": [
       "HBox(children=(FloatProgress(value=0.0, max=2.0), HTML(value='')))"
      ]
     },
     "metadata": {},
     "output_type": "display_data"
    },
    {
     "name": "stdout",
     "output_type": "stream",
     "text": [
      "\n",
      "AFTER face_lookup_resolved_test\n"
     ]
    },
    {
     "data": {
      "application/vnd.jupyter.widget-view+json": {
       "model_id": "e8f51acab4d34a41b920dae2efc4785a",
       "version_major": 2,
       "version_minor": 0
      },
      "text/plain": [
       "HBox(children=(FloatProgress(value=0.0, max=3.0), HTML(value='')))"
      ]
     },
     "metadata": {},
     "output_type": "display_data"
    },
    {
     "name": "stdout",
     "output_type": "stream",
     "text": [
      "\n",
      " Finished with (8, 0) \n",
      "\n",
      "\n",
      "\n",
      "\n",
      "---- Working on (9, 0) connection-----\n",
      "winning_vertex = [407970.76204489 649143.87468155 612587.17082914]\n",
      "MP_branches_with_stitch_point = [0]\n",
      "Current stitch point was not a branch or endpoint, shortest_path_length to one = 13257.719226957606\n",
      "MAP_branches_with_stitch_point = [3]\n",
      "MAP_stitch_point_on_end_or_branch = False\n",
      "Found winning edge: [36, 37.0]\n"
     ]
    },
    {
     "data": {
      "application/vnd.jupyter.widget-view+json": {
       "model_id": "146a6dd203024fa4b96ee443c4df7b27",
       "version_major": 2,
       "version_minor": 0
      },
      "text/plain": [
       "HBox(children=(FloatProgress(value=1.0, bar_style='info', max=1.0), HTML(value='')))"
      ]
     },
     "metadata": {},
     "output_type": "display_data"
    },
    {
     "name": "stdout",
     "output_type": "stream",
     "text": [
      "\n",
      "\n",
      "\n",
      "--- Working on 1-to-1 correspondence-----\n",
      "max(original_labels),len(original_labels) = (2, 3)\n",
      "empty_indices % = 0.02134851449919943\n",
      " conflict_indices % = 0.026774595267745952\n"
     ]
    },
    {
     "data": {
      "application/vnd.jupyter.widget-view+json": {
       "model_id": "15945840294541f19dc24b2e43e46117",
       "version_major": 2,
       "version_minor": 0
      },
      "text/plain": [
       "HBox(children=(FloatProgress(value=0.0, max=3.0), HTML(value='')))"
      ]
     },
     "metadata": {},
     "output_type": "display_data"
    },
    {
     "name": "stdout",
     "output_type": "stream",
     "text": [
      "\n",
      "AFTER face_lookup_resolved_test\n"
     ]
    },
    {
     "data": {
      "application/vnd.jupyter.widget-view+json": {
       "model_id": "d610b57a5bad4cac96f576bf760b1547",
       "version_major": 2,
       "version_minor": 0
      },
      "text/plain": [
       "HBox(children=(FloatProgress(value=0.0, max=3.0), HTML(value='')))"
      ]
     },
     "metadata": {},
     "output_type": "display_data"
    },
    {
     "name": "stdout",
     "output_type": "stream",
     "text": [
      "\n",
      "Deleting branches from dictionary\n",
      " Finished with (9, 0) \n",
      "\n",
      "\n",
      "\n",
      "\n",
      "---- Working on (1, 1) connection-----\n",
      "winning_vertex = [361644.33362188 564401.93217827 604975.96982288]\n",
      "MP_branches_with_stitch_point = [0, 3]\n",
      "Current stitch point was a branch or endpoint\n",
      "MAP_branches_with_stitch_point = [0]\n",
      "MAP_stitch_point_on_end_or_branch = True\n",
      "Found winning edge: [69, 70.0]\n",
      "Found winning edge: [49, 50.0]\n"
     ]
    },
    {
     "data": {
      "application/vnd.jupyter.widget-view+json": {
       "model_id": "1df4dc41c4ee47b989cfeb27016f540a",
       "version_major": 2,
       "version_minor": 0
      },
      "text/plain": [
       "HBox(children=(FloatProgress(value=1.0, bar_style='info', max=1.0), HTML(value='')))"
      ]
     },
     "metadata": {},
     "output_type": "display_data"
    },
    {
     "name": "stdout",
     "output_type": "stream",
     "text": [
      "\n",
      "\n",
      "\n",
      "--- Working on 1-to-1 correspondence-----\n",
      "max(original_labels),len(original_labels) = (2, 3)\n",
      "empty_indices % = 0.1280176142171896\n",
      " conflict_indices % = 0.0036172053157191163\n"
     ]
    },
    {
     "data": {
      "application/vnd.jupyter.widget-view+json": {
       "model_id": "1e47df0f7b794a1c9ca56c73a4cf3aad",
       "version_major": 2,
       "version_minor": 0
      },
      "text/plain": [
       "HBox(children=(FloatProgress(value=0.0, max=7.0), HTML(value='')))"
      ]
     },
     "metadata": {},
     "output_type": "display_data"
    },
    {
     "name": "stdout",
     "output_type": "stream",
     "text": [
      "\n",
      "AFTER face_lookup_resolved_test\n"
     ]
    },
    {
     "data": {
      "application/vnd.jupyter.widget-view+json": {
       "model_id": "f321f2c25ee24bf1b9590d1962dde897",
       "version_major": 2,
       "version_minor": 0
      },
      "text/plain": [
       "HBox(children=(FloatProgress(value=0.0, max=3.0), HTML(value='')))"
      ]
     },
     "metadata": {},
     "output_type": "display_data"
    },
    {
     "name": "stdout",
     "output_type": "stream",
     "text": [
      "\n",
      " Finished with (1, 1) \n",
      "\n",
      "\n",
      "\n",
      "\n",
      "---- Working on (2, 1) connection-----\n",
      "winning_vertex = [371449.37562115 562815.6508127  607056.57322755]\n",
      "MP_branches_with_stitch_point = [0]\n",
      "Current stitch point was not a branch or endpoint, shortest_path_length to one = 8587.428406709349\n",
      "MAP_branches_with_stitch_point = [0]\n",
      "MAP_stitch_point_on_end_or_branch = False\n",
      "Found winning edge: [20, 21.0]\n"
     ]
    },
    {
     "data": {
      "application/vnd.jupyter.widget-view+json": {
       "model_id": "d88741c7313b44ceb01fc59a056ff4db",
       "version_major": 2,
       "version_minor": 0
      },
      "text/plain": [
       "HBox(children=(FloatProgress(value=1.0, bar_style='info', max=1.0), HTML(value='')))"
      ]
     },
     "metadata": {},
     "output_type": "display_data"
    },
    {
     "name": "stdout",
     "output_type": "stream",
     "text": [
      "\n",
      "\n",
      "\n",
      "--- Working on 1-to-1 correspondence-----\n",
      "max(original_labels),len(original_labels) = (2, 3)\n",
      "empty_indices % = 0.0916481627390588\n",
      " conflict_indices % = 0.015220972709691282\n"
     ]
    },
    {
     "data": {
      "application/vnd.jupyter.widget-view+json": {
       "model_id": "e94b5c121d9546e88a98121469899bbe",
       "version_major": 2,
       "version_minor": 0
      },
      "text/plain": [
       "HBox(children=(FloatProgress(value=0.0, max=18.0), HTML(value='')))"
      ]
     },
     "metadata": {},
     "output_type": "display_data"
    },
    {
     "name": "stdout",
     "output_type": "stream",
     "text": [
      "\n",
      "AFTER face_lookup_resolved_test\n"
     ]
    },
    {
     "data": {
      "application/vnd.jupyter.widget-view+json": {
       "model_id": "02dea328ea3946d1bb83b6b627057695",
       "version_major": 2,
       "version_minor": 0
      },
      "text/plain": [
       "HBox(children=(FloatProgress(value=0.0, max=3.0), HTML(value='')))"
      ]
     },
     "metadata": {},
     "output_type": "display_data"
    },
    {
     "name": "stdout",
     "output_type": "stream",
     "text": [
      "\n",
      "Deleting branches from dictionary\n",
      " Finished with (2, 1) \n",
      "\n",
      "\n",
      "\n",
      "\n",
      "---- Working on (3, 1) connection-----\n",
      "winning_vertex = [390221.19476391 555751.10132236 609111.14528286]\n",
      "MP_branches_with_stitch_point = [4, 6]\n",
      "Current stitch point was a branch or endpoint\n",
      "MAP_branches_with_stitch_point = [1]\n",
      "MAP_stitch_point_on_end_or_branch = True\n",
      "Found winning edge: [38, 39.0]\n",
      "Found winning edge: [35, 36.0]\n"
     ]
    },
    {
     "data": {
      "application/vnd.jupyter.widget-view+json": {
       "model_id": "cdf7883844df4da68121375320428b66",
       "version_major": 2,
       "version_minor": 0
      },
      "text/plain": [
       "HBox(children=(FloatProgress(value=1.0, bar_style='info', max=1.0), HTML(value='')))"
      ]
     },
     "metadata": {},
     "output_type": "display_data"
    },
    {
     "name": "stdout",
     "output_type": "stream",
     "text": [
      "\n",
      "\n",
      "\n",
      "--- Working on 1-to-1 correspondence-----\n",
      "max(original_labels),len(original_labels) = (2, 3)\n",
      "empty_indices % = 0.08831851253031528\n",
      " conflict_indices % = 0.06635677714901644\n"
     ]
    },
    {
     "data": {
      "application/vnd.jupyter.widget-view+json": {
       "model_id": "3f97cfd0cfd142188ad2e0c67bfaf2d2",
       "version_major": 2,
       "version_minor": 0
      },
      "text/plain": [
       "HBox(children=(FloatProgress(value=0.0, max=8.0), HTML(value='')))"
      ]
     },
     "metadata": {},
     "output_type": "display_data"
    },
    {
     "name": "stdout",
     "output_type": "stream",
     "text": [
      "\n",
      "AFTER face_lookup_resolved_test\n"
     ]
    },
    {
     "data": {
      "application/vnd.jupyter.widget-view+json": {
       "model_id": "c802bbd7d45741e9af82197b8709a087",
       "version_major": 2,
       "version_minor": 0
      },
      "text/plain": [
       "HBox(children=(FloatProgress(value=0.0, max=3.0), HTML(value='')))"
      ]
     },
     "metadata": {},
     "output_type": "display_data"
    },
    {
     "name": "stderr",
     "output_type": "stream",
     "text": [
      "\r",
      "  0%|          | 0/1 [00:00<?, ?it/s]"
     ]
    },
    {
     "name": "stdout",
     "output_type": "stream",
     "text": [
      "\n",
      " Finished with (3, 1) \n",
      "\n",
      "\n",
      "\n",
      "Time for decomp of Limb = 83.74065089225769\n",
      "\n",
      "\n",
      "----- Working on Proper Limb # 2 ---------\n",
      "Time for preparing soma vertices and root: 8.58306884765625e-06\n",
      "cc_vertex_thresh = 10\n"
     ]
    },
    {
     "data": {
      "application/vnd.jupyter.widget-view+json": {
       "model_id": "26987a3856e14212b4231540f1ceffce",
       "version_major": 2,
       "version_minor": 0
      },
      "text/plain": [
       "HBox(children=(FloatProgress(value=0.0, max=88655.0), HTML(value='')))"
      ]
     },
     "metadata": {},
     "output_type": "display_data"
    },
    {
     "name": "stderr",
     "output_type": "stream",
     "text": [
      "100%|██████████| 1/1 [00:01<00:00,  1.13s/it]"
     ]
    },
    {
     "name": "stdout",
     "output_type": "stream",
     "text": [
      "\n"
     ]
    },
    {
     "name": "stderr",
     "output_type": "stream",
     "text": [
      "\n"
     ]
    },
    {
     "name": "stdout",
     "output_type": "stream",
     "text": [
      "Time for 1st pass MP skeletonization: 1.9162030220031738\n",
      "branches_touching_root = [34]\n",
      "length of Graph = 7020\n",
      "max(kept_branches_idx) = 34, len(kept_branches_idx) = 35\n",
      "empty_indices % = 0.0\n",
      " conflict_indices % = 0.010483480834353034\n"
     ]
    },
    {
     "data": {
      "application/vnd.jupyter.widget-view+json": {
       "model_id": "4a2947c0bce5492397806e7e4f514f32",
       "version_major": 2,
       "version_minor": 0
      },
      "text/plain": [
       "HBox(children=(FloatProgress(value=0.0, max=16.0), HTML(value='')))"
      ]
     },
     "metadata": {},
     "output_type": "display_data"
    },
    {
     "name": "stdout",
     "output_type": "stream",
     "text": [
      "\n",
      "AFTER face_lookup_resolved_test\n"
     ]
    },
    {
     "data": {
      "application/vnd.jupyter.widget-view+json": {
       "model_id": "f7902d2307424baf99faf9b2a45e31b4",
       "version_major": 2,
       "version_minor": 0
      },
      "text/plain": [
       "HBox(children=(FloatProgress(value=0.0, max=35.0), HTML(value='')))"
      ]
     },
     "metadata": {},
     "output_type": "display_data"
    },
    {
     "name": "stdout",
     "output_type": "stream",
     "text": [
      "\n",
      "Decomposing first pass: 5.870950222015381\n",
      "Attempting to use MeshAfterParty Skeletonization and Mesh Correspondence\n",
      "Another print\n",
      "Found len(mesh_large_idx) MAP candidates: [4212, 3139, 2276, 2787, 18106, 8284, 8120, 2892, 11718, 2594, 6652, 134, 8733, 4870]\n",
      "mesh_large_connectivity: 0.19874000549316406\n",
      "Finding MAP candidates connected components: 0.00018358230590820312\n",
      "len(filtered_pieces) = 1\n",
      "skeleton_connectivity_MP : 0.19052863121032715\n",
      "Grouping MP Sublimbs by Graph: 0.05129718780517578\n",
      "Divinding into MP and MAP pieces: 1.1920928955078125e-06\n",
      "--- Working on MAP piece 0---\n",
      "MAP Filtering Soma Pieces: 0.005266427993774414\n",
      "inside skeletonize_connected_branch and use_surface_after_CGAL=False, surface_reconstruction_size=1000\n",
      "     Starting Screened Poisson\n",
      "xvfb-run -n 1323 -s \"-screen 0 800x600x24\" meshlabserver $@  -i /notebooks/Platinum_Decomp_Fusion/temp/None.off -o /notebooks/Platinum_Decomp_Fusion/temp/None_poisson.off -s /notebooks/Platinum_Decomp_Fusion/temp/poisson_982315.mls\n",
      "removed temporary input file: /notebooks/Platinum_Decomp_Fusion/temp/None.off\n",
      "removed temporary output file: /notebooks/Platinum_Decomp_Fusion/temp/None_poisson.off\n",
      "Using the close holes feature\n",
      "xvfb-run -n 518 -s \"-screen 0 800x600x24\" meshlabserver $@  -i /notebooks/Platinum_Decomp_Fusion/temp/neuron_57197.off -o /notebooks/Platinum_Decomp_Fusion/temp/neuron_57197_fill_holes.off -s /notebooks/Platinum_Decomp_Fusion/temp/fill_holes_217046.mls\n",
      "removed temporary input file: /notebooks/Platinum_Decomp_Fusion/temp/neuron_57197.off\n",
      "removed temporary output file: /notebooks/Platinum_Decomp_Fusion/temp/neuron_57197_fill_holes.off\n",
      "-----Time for Screened Poisson= 20.4024395942688\n",
      "     Starting Calcification\n"
     ]
    },
    {
     "data": {
      "application/vnd.jupyter.widget-view+json": {
       "model_id": "10fea72c438340729be54855aa15a9d3",
       "version_major": 2,
       "version_minor": 0
      },
      "text/plain": [
       "HBox(children=(FloatProgress(value=1.0, bar_style='info', max=1.0), HTML(value='')))"
      ]
     },
     "metadata": {},
     "output_type": "display_data"
    },
    {
     "name": "stdout",
     "output_type": "stream",
     "text": [
      "\n",
      "No skeletons to stack so returning empty list\n",
      "len_subgraphs AT BEGINNING of the loop\n"
     ]
    },
    {
     "data": {
      "application/vnd.jupyter.widget-view+json": {
       "model_id": "c9cde6d836334c438f2d59aea441fb70",
       "version_major": 2,
       "version_minor": 0
      },
      "text/plain": [
       "HBox(children=(FloatProgress(value=0.0, max=5.0), HTML(value='')))"
      ]
     },
     "metadata": {},
     "output_type": "display_data"
    },
    {
     "name": "stdout",
     "output_type": "stream",
     "text": [
      "all graph is one component!\n",
      "\n",
      "Total time for skeleton stitching = 0.05339336395263672\n",
      "The process was using a temp folder\n",
      "Checking connected components after skeletonize_connected_branch\n",
      "    Total time for skeletonizing branch: 26.026843309402466\n",
      "Checking connected components after removing cycles\n",
      "Total time for mesh KDTree = 0.5046377182006836\n",
      "sbv[0].reshape(-1,3) = [[344726.8 570883.1 597836.2]]\n",
      "closest_sk_pt_coord BEFORE = [343764. 569907. 597807.]\n",
      "current_skeleton.shape = (620, 2, 3)\n",
      "Current stitch point was a branch or endpoint\n",
      "change_status for create soma extending pieces = False\n",
      "closest_sk_pt_coord AFTER = [343764. 569907. 597807.]\n",
      "skipping soma 2 because closest skeleton node was already end node\n",
      "endpoints_must_keep = {2: array([[343764., 569907., 597807.]])}\n",
      "    Total time for Fixing Skeleton Soma Endpoint Extension : 0.758206844329834\n",
      "filter_end_node_length = 4001\n",
      "Using Distance measure skeletal_distance\n",
      "endpoints_must_keep = [[343764. 569907. 597807.]]\n",
      "Number of end_nodes BEFORE filtering = 20\n",
      "all_single_nodes_to_eliminate = [4]\n"
     ]
    },
    {
     "data": {
      "application/vnd.jupyter.widget-view+json": {
       "model_id": "f6c868524aac4728b9a2cd2819f02f24",
       "version_major": 2,
       "version_minor": 0
      },
      "text/plain": [
       "HBox(children=(FloatProgress(value=0.0, max=15.0), HTML(value='')))"
      ]
     },
     "metadata": {},
     "output_type": "display_data"
    },
    {
     "name": "stdout",
     "output_type": "stream",
     "text": [
      "\n",
      "Checking connected components after clean_skeleton\n",
      "after DISTANCE cleaning limb size of skeleton = (589, 2, 3)\n",
      "********COMBINING CLOSE SKELETON NODES WITHIN 700 DISTANCE**********\n",
      "Found 0 valid paths to replace\n",
      "valid_paths = []\n",
      "valid_path_lengths = []\n",
      "No valid paths found so just returning the original\n",
      "skeletonize_and_clean_connected_branch_CGAL: 27.242850303649902\n",
      "Working on limb correspondence for #0 MAP piece\n"
     ]
    },
    {
     "data": {
      "application/vnd.jupyter.widget-view+json": {
       "model_id": "2fcd3fefc411420fa561101344c4c508",
       "version_major": 2,
       "version_minor": 0
      },
      "text/plain": [
       "HBox(children=(FloatProgress(value=1.0, bar_style='info', max=1.0), HTML(value='')))"
      ]
     },
     "metadata": {},
     "output_type": "display_data"
    },
    {
     "name": "stdout",
     "output_type": "stream",
     "text": [
      "\n",
      "Total time for decomposition = 9.160213708877563\n",
      "mesh_correspondence_first_pass: 9.160241842269897\n",
      "Limb decomposed into 7 branches\n",
      "divided_skeleton_graph_recovered = (589, 2, 3) and \n",
      "current_mesh_data[0]['branch_skeletons_cleaned'].shape = (589, 2, 3)\n",
      "\n",
      "Number of connected components in deocmposed recovered graph = 1\n",
      "Number of connected components in cleaned skeleton graph= 1\n",
      "The downsampled branches number of connected components = 1\n",
      "Empty submeshes = []\n",
      "\n",
      "\n",
      "--- Working on 1-to-1 correspondence-----\n",
      "max(original_labels),len(original_labels) = (6, 7)\n",
      "empty_indices % = 0.0970928925541607\n",
      " conflict_indices % = 0.019250564975093767\n"
     ]
    },
    {
     "data": {
      "application/vnd.jupyter.widget-view+json": {
       "model_id": "a93ea9320e3e42998be80bf4cecb2c7a",
       "version_major": 2,
       "version_minor": 0
      },
      "text/plain": [
       "HBox(children=(FloatProgress(value=0.0, max=71.0), HTML(value='')))"
      ]
     },
     "metadata": {},
     "output_type": "display_data"
    },
    {
     "name": "stdout",
     "output_type": "stream",
     "text": [
      "\n",
      "AFTER face_lookup_resolved_test\n",
      "Took 0 iterations to expand the label back\n"
     ]
    },
    {
     "data": {
      "application/vnd.jupyter.widget-view+json": {
       "model_id": "6e9fdd83e5b74d7bab5d7a08d61dc860",
       "version_major": 2,
       "version_minor": 0
      },
      "text/plain": [
       "HBox(children=(FloatProgress(value=0.0, max=7.0), HTML(value='')))"
      ]
     },
     "metadata": {},
     "output_type": "display_data"
    },
    {
     "name": "stdout",
     "output_type": "stream",
     "text": [
      "\n",
      "Total time for MAP sublimb #0 mesh processing = 38.22550058364868\n",
      "correspondence_1_to_1: 1.8171286582946777\n",
      "Total time for MAP sublimb processing 38.22563576698303\n",
      "---- Working on MP Decomposition #0 ----\n",
      "MP filtering soma verts: 0.0015697479248046875\n",
      "Do Not Need to Fix MP Decomposition 0 so just continuing\n",
      "---- Working on MP Decomposition #1 ----\n",
      "MP filtering soma verts: 0.0004432201385498047\n",
      "Do Not Need to Fix MP Decomposition 1 so just continuing\n",
      "---- Working on MP Decomposition #2 ----\n",
      "MP filtering soma verts: 0.0002346038818359375\n",
      "Do Not Need to Fix MP Decomposition 2 so just continuing\n",
      "---- Working on MP Decomposition #3 ----\n",
      "MP filtering soma verts: 0.0025396347045898438\n",
      "Do Not Need to Fix MP Decomposition 3 so just continuing\n",
      "---- Working on MP Decomposition #4 ----\n",
      "MP filtering soma verts: 0.0005319118499755859\n",
      "Do Not Need to Fix MP Decomposition 4 so just continuing\n",
      "---- Working on MP Decomposition #5 ----\n",
      "MP filtering soma verts: 0.001238107681274414\n",
      "Do Not Need to Fix MP Decomposition 5 so just continuing\n",
      "---- Working on MP Decomposition #6 ----\n",
      "MP filtering soma verts: 0.0011510848999023438\n",
      "Do Not Need to Fix MP Decomposition 6 so just continuing\n",
      "---- Working on MP Decomposition #7 ----\n",
      "MP filtering soma verts: 0.0003750324249267578\n",
      "Do Not Need to Fix MP Decomposition 7 so just continuing\n",
      "\n",
      "---- Working on (0, 0) connection-----\n",
      "winning_vertex = [345598.76670593 520571.38375544 595289.43368096]\n",
      "MP_branches_with_stitch_point = [0]\n",
      "Current stitch point was not a branch or endpoint, shortest_path_length to one = 31511.8479997173\n",
      "MAP_branches_with_stitch_point = [2]\n",
      "MAP_stitch_point_on_end_or_branch = False\n",
      "Found winning edge: [8, 9.0]\n"
     ]
    },
    {
     "data": {
      "application/vnd.jupyter.widget-view+json": {
       "model_id": "61a372caf960430da27f267b9bcb7270",
       "version_major": 2,
       "version_minor": 0
      },
      "text/plain": [
       "HBox(children=(FloatProgress(value=1.0, bar_style='info', max=1.0), HTML(value='')))"
      ]
     },
     "metadata": {},
     "output_type": "display_data"
    },
    {
     "name": "stdout",
     "output_type": "stream",
     "text": [
      "\n",
      "\n",
      "\n",
      "--- Working on 1-to-1 correspondence-----\n",
      "max(original_labels),len(original_labels) = (2, 3)\n",
      "empty_indices % = 0.257635009310987\n",
      " conflict_indices % = 0.019013035381750466\n"
     ]
    },
    {
     "data": {
      "application/vnd.jupyter.widget-view+json": {
       "model_id": "baf97bad8628465882fde5fcca43195b",
       "version_major": 2,
       "version_minor": 0
      },
      "text/plain": [
       "HBox(children=(FloatProgress(value=0.0, max=26.0), HTML(value='')))"
      ]
     },
     "metadata": {},
     "output_type": "display_data"
    },
    {
     "name": "stdout",
     "output_type": "stream",
     "text": [
      "\n",
      "AFTER face_lookup_resolved_test\n"
     ]
    },
    {
     "data": {
      "application/vnd.jupyter.widget-view+json": {
       "model_id": "72a5e2b42a1f4688a763aba20e1dcc0d",
       "version_major": 2,
       "version_minor": 0
      },
      "text/plain": [
       "HBox(children=(FloatProgress(value=0.0, max=3.0), HTML(value='')))"
      ]
     },
     "metadata": {},
     "output_type": "display_data"
    },
    {
     "name": "stdout",
     "output_type": "stream",
     "text": [
      "\n",
      "Deleting branches from dictionary\n",
      " Finished with (0, 0) \n",
      "\n",
      "\n",
      "\n",
      "\n",
      "---- Working on (1, 0) connection-----\n",
      "winning_vertex = [410187.85537351 405922.34120454 628485.19889081]\n",
      "MP_branches_with_stitch_point = [0, 1]\n",
      "Current stitch point was a branch or endpoint\n",
      "MAP_branches_with_stitch_point = [6]\n",
      "MAP_stitch_point_on_end_or_branch = True\n",
      "Found winning edge: [26, 27.0]\n",
      "Found winning edge: [23, 24.0]\n"
     ]
    },
    {
     "data": {
      "application/vnd.jupyter.widget-view+json": {
       "model_id": "3db7ecc5f08d4837af327aa8f06b3fd6",
       "version_major": 2,
       "version_minor": 0
      },
      "text/plain": [
       "HBox(children=(FloatProgress(value=1.0, bar_style='info', max=1.0), HTML(value='')))"
      ]
     },
     "metadata": {},
     "output_type": "display_data"
    },
    {
     "name": "stdout",
     "output_type": "stream",
     "text": [
      "\n",
      "\n",
      "\n",
      "--- Working on 1-to-1 correspondence-----\n",
      "max(original_labels),len(original_labels) = (2, 3)\n",
      "empty_indices % = 0.10691886510701842\n",
      " conflict_indices % = 0.010801393728222997\n"
     ]
    },
    {
     "data": {
      "application/vnd.jupyter.widget-view+json": {
       "model_id": "3e944ad20861438b8b6d000bb927f227",
       "version_major": 2,
       "version_minor": 0
      },
      "text/plain": [
       "HBox(children=(FloatProgress(value=0.0, max=15.0), HTML(value='')))"
      ]
     },
     "metadata": {},
     "output_type": "display_data"
    },
    {
     "name": "stdout",
     "output_type": "stream",
     "text": [
      "\n",
      "AFTER face_lookup_resolved_test\n"
     ]
    },
    {
     "data": {
      "application/vnd.jupyter.widget-view+json": {
       "model_id": "9aa77c510cc74413b3e4764d97384192",
       "version_major": 2,
       "version_minor": 0
      },
      "text/plain": [
       "HBox(children=(FloatProgress(value=0.0, max=3.0), HTML(value='')))"
      ]
     },
     "metadata": {},
     "output_type": "display_data"
    },
    {
     "name": "stdout",
     "output_type": "stream",
     "text": [
      "\n",
      " Finished with (1, 0) \n",
      "\n",
      "\n",
      "\n",
      "\n",
      "---- Working on (2, 0) connection-----\n",
      "winning_vertex = [344934.35391705 482903.46257758 600186.40442065]\n",
      "MP_branches_with_stitch_point = [0]\n",
      "Current stitch point was not a branch or endpoint, shortest_path_length to one = 9471.893725623406\n",
      "MAP_branches_with_stitch_point = [1]\n",
      "MAP_stitch_point_on_end_or_branch = False\n",
      "Found winning edge: [13, 14.0]\n"
     ]
    },
    {
     "data": {
      "application/vnd.jupyter.widget-view+json": {
       "model_id": "3f7be0cd9cca4927bff80e886d7bd75d",
       "version_major": 2,
       "version_minor": 0
      },
      "text/plain": [
       "HBox(children=(FloatProgress(value=1.0, bar_style='info', max=1.0), HTML(value='')))"
      ]
     },
     "metadata": {},
     "output_type": "display_data"
    },
    {
     "name": "stdout",
     "output_type": "stream",
     "text": [
      "\n",
      "\n",
      "\n",
      "--- Working on 1-to-1 correspondence-----\n",
      "max(original_labels),len(original_labels) = (2, 3)\n",
      "empty_indices % = 0.1162036266844119\n",
      " conflict_indices % = 0.010231242721676926\n"
     ]
    },
    {
     "data": {
      "application/vnd.jupyter.widget-view+json": {
       "model_id": "fea5ecd49c034d5b90beb578792d9f98",
       "version_major": 2,
       "version_minor": 0
      },
      "text/plain": [
       "HBox(children=(FloatProgress(value=0.0, max=14.0), HTML(value='')))"
      ]
     },
     "metadata": {},
     "output_type": "display_data"
    },
    {
     "name": "stdout",
     "output_type": "stream",
     "text": [
      "\n",
      "AFTER face_lookup_resolved_test\n"
     ]
    },
    {
     "data": {
      "application/vnd.jupyter.widget-view+json": {
       "model_id": "ca40155b6ef04e9d85dd8cda3b52f8fc",
       "version_major": 2,
       "version_minor": 0
      },
      "text/plain": [
       "HBox(children=(FloatProgress(value=0.0, max=3.0), HTML(value='')))"
      ]
     },
     "metadata": {},
     "output_type": "display_data"
    },
    {
     "name": "stdout",
     "output_type": "stream",
     "text": [
      "\n",
      "Deleting branches from dictionary\n",
      " Finished with (2, 0) \n",
      "\n",
      "\n",
      "\n",
      "\n",
      "---- Working on (3, 0) connection-----\n",
      "winning_vertex = [346417.35554429 552642.22987265 596360.63141148]\n",
      "MP_branches_with_stitch_point = [1]\n",
      "Current stitch point was not a branch or endpoint, shortest_path_length to one = 18018.40457746117\n",
      "MAP_branches_with_stitch_point = [7]\n",
      "MAP_stitch_point_on_end_or_branch = False\n",
      "Found winning edge: [37, 38.0]\n"
     ]
    },
    {
     "data": {
      "application/vnd.jupyter.widget-view+json": {
       "model_id": "83933fc42a184a10a4838ecc5965b5f9",
       "version_major": 2,
       "version_minor": 0
      },
      "text/plain": [
       "HBox(children=(FloatProgress(value=1.0, bar_style='info', max=1.0), HTML(value='')))"
      ]
     },
     "metadata": {},
     "output_type": "display_data"
    },
    {
     "name": "stdout",
     "output_type": "stream",
     "text": [
      "\n",
      "\n",
      "\n",
      "--- Working on 1-to-1 correspondence-----\n",
      "max(original_labels),len(original_labels) = (2, 3)\n",
      "empty_indices % = 0.07007862655990767\n",
      " conflict_indices % = 0.02593233787780423\n"
     ]
    },
    {
     "data": {
      "application/vnd.jupyter.widget-view+json": {
       "model_id": "511aa0bfd25c48668e8ec4109e64da23",
       "version_major": 2,
       "version_minor": 0
      },
      "text/plain": [
       "HBox(children=(FloatProgress(value=0.0, max=13.0), HTML(value='')))"
      ]
     },
     "metadata": {},
     "output_type": "display_data"
    },
    {
     "name": "stdout",
     "output_type": "stream",
     "text": [
      "\n",
      "AFTER face_lookup_resolved_test\n"
     ]
    },
    {
     "data": {
      "application/vnd.jupyter.widget-view+json": {
       "model_id": "2e967af14e074392846bf9b224e02334",
       "version_major": 2,
       "version_minor": 0
      },
      "text/plain": [
       "HBox(children=(FloatProgress(value=0.0, max=3.0), HTML(value='')))"
      ]
     },
     "metadata": {},
     "output_type": "display_data"
    },
    {
     "name": "stdout",
     "output_type": "stream",
     "text": [
      "\n",
      "Deleting branches from dictionary\n",
      " Finished with (3, 0) \n",
      "\n",
      "\n",
      "\n",
      "\n",
      "---- Working on (4, 0) connection-----\n",
      "winning_vertex = [345989.1817899  544424.87253867 596982.59973045]\n",
      "MP_branches_with_stitch_point = [1]\n",
      "Current stitch point was not a branch or endpoint, shortest_path_length to one = 26283.04537181441\n",
      "MAP_branches_with_stitch_point = [9]\n",
      "MAP_stitch_point_on_end_or_branch = False\n",
      "Found winning edge: [5, 6.0]\n"
     ]
    },
    {
     "data": {
      "application/vnd.jupyter.widget-view+json": {
       "model_id": "4a6f1a9283364b51849ed69fb7843a02",
       "version_major": 2,
       "version_minor": 0
      },
      "text/plain": [
       "HBox(children=(FloatProgress(value=1.0, bar_style='info', max=1.0), HTML(value='')))"
      ]
     },
     "metadata": {},
     "output_type": "display_data"
    },
    {
     "name": "stdout",
     "output_type": "stream",
     "text": [
      "\n",
      "\n",
      "\n",
      "--- Working on 1-to-1 correspondence-----\n",
      "max(original_labels),len(original_labels) = (2, 3)\n",
      "empty_indices % = 0.006178586542530682\n",
      " conflict_indices % = 0.0053322048243757934\n"
     ]
    },
    {
     "data": {
      "application/vnd.jupyter.widget-view+json": {
       "model_id": "40f88ba09a7b4b76895e39a3eee21302",
       "version_major": 2,
       "version_minor": 0
      },
      "text/plain": [
       "HBox(children=(FloatProgress(value=0.0, max=3.0), HTML(value='')))"
      ]
     },
     "metadata": {},
     "output_type": "display_data"
    },
    {
     "name": "stdout",
     "output_type": "stream",
     "text": [
      "\n",
      "AFTER face_lookup_resolved_test\n"
     ]
    },
    {
     "data": {
      "application/vnd.jupyter.widget-view+json": {
       "model_id": "9e325c109ceb4122b9531f4f5fa3168e",
       "version_major": 2,
       "version_minor": 0
      },
      "text/plain": [
       "HBox(children=(FloatProgress(value=0.0, max=3.0), HTML(value='')))"
      ]
     },
     "metadata": {},
     "output_type": "display_data"
    },
    {
     "name": "stdout",
     "output_type": "stream",
     "text": [
      "\n",
      "Deleting branches from dictionary\n",
      " Finished with (4, 0) \n",
      "\n",
      "\n",
      "\n",
      "\n",
      "---- Working on (5, 0) connection-----\n",
      "winning_vertex = [342724.42989423 560708.94884393 596504.27046335]\n",
      "MP_branches_with_stitch_point = [2]\n",
      "Current stitch point was not a branch or endpoint, shortest_path_length to one = 9605.621804529235\n",
      "MAP_branches_with_stitch_point = [7]\n",
      "MAP_stitch_point_on_end_or_branch = False\n",
      "Found winning edge: [83, 84.0]\n"
     ]
    },
    {
     "data": {
      "application/vnd.jupyter.widget-view+json": {
       "model_id": "f2131022a9024bf0b855b2e03e91df27",
       "version_major": 2,
       "version_minor": 0
      },
      "text/plain": [
       "HBox(children=(FloatProgress(value=1.0, bar_style='info', max=1.0), HTML(value='')))"
      ]
     },
     "metadata": {},
     "output_type": "display_data"
    },
    {
     "name": "stdout",
     "output_type": "stream",
     "text": [
      "\n",
      "\n",
      "\n",
      "--- Working on 1-to-1 correspondence-----\n",
      "max(original_labels),len(original_labels) = (2, 3)\n",
      "empty_indices % = 0.10149021135677413\n",
      " conflict_indices % = 0.027661439563650532\n"
     ]
    },
    {
     "data": {
      "application/vnd.jupyter.widget-view+json": {
       "model_id": "32e694953a4744d2bf06a9b2ac37a441",
       "version_major": 2,
       "version_minor": 0
      },
      "text/plain": [
       "HBox(children=(FloatProgress(value=0.0, max=9.0), HTML(value='')))"
      ]
     },
     "metadata": {},
     "output_type": "display_data"
    },
    {
     "name": "stdout",
     "output_type": "stream",
     "text": [
      "\n",
      "AFTER face_lookup_resolved_test\n"
     ]
    },
    {
     "data": {
      "application/vnd.jupyter.widget-view+json": {
       "model_id": "6d4b296aff6c47fd86177b67307f3f48",
       "version_major": 2,
       "version_minor": 0
      },
      "text/plain": [
       "HBox(children=(FloatProgress(value=0.0, max=3.0), HTML(value='')))"
      ]
     },
     "metadata": {},
     "output_type": "display_data"
    },
    {
     "name": "stdout",
     "output_type": "stream",
     "text": [
      "\n",
      "Deleting branches from dictionary\n",
      " Finished with (5, 0) \n",
      "\n",
      "\n",
      "\n",
      "\n",
      "---- Working on (6, 0) connection-----\n",
      "winning_vertex = [342236.99674194 453638.53911963 617763.32982194]\n",
      "MP_branches_with_stitch_point = [0, 1]\n",
      "Current stitch point was a branch or endpoint\n",
      "MAP_branches_with_stitch_point = [3]\n",
      "MAP_stitch_point_on_end_or_branch = True\n",
      "Found winning edge: [173, 174.0]\n",
      "Found winning edge: [435, 440.0]\n"
     ]
    },
    {
     "data": {
      "application/vnd.jupyter.widget-view+json": {
       "model_id": "eeb5186114454e0b8deea5f5baf2025b",
       "version_major": 2,
       "version_minor": 0
      },
      "text/plain": [
       "HBox(children=(FloatProgress(value=1.0, bar_style='info', max=1.0), HTML(value='')))"
      ]
     },
     "metadata": {},
     "output_type": "display_data"
    },
    {
     "name": "stdout",
     "output_type": "stream",
     "text": [
      "\n",
      "\n",
      "\n",
      "--- Working on 1-to-1 correspondence-----\n",
      "max(original_labels),len(original_labels) = (2, 3)\n",
      "empty_indices % = 0.12610575977983093\n",
      " conflict_indices % = 0.018331039905641833\n"
     ]
    },
    {
     "data": {
      "application/vnd.jupyter.widget-view+json": {
       "model_id": "6ec99057d27f462ca84ce05a14b9621e",
       "version_major": 2,
       "version_minor": 0
      },
      "text/plain": [
       "HBox(children=(FloatProgress(value=0.0, max=17.0), HTML(value='')))"
      ]
     },
     "metadata": {},
     "output_type": "display_data"
    },
    {
     "name": "stdout",
     "output_type": "stream",
     "text": [
      "\n",
      "AFTER face_lookup_resolved_test\n"
     ]
    },
    {
     "data": {
      "application/vnd.jupyter.widget-view+json": {
       "model_id": "b03e04af8bf14a469a32b275439dad10",
       "version_major": 2,
       "version_minor": 0
      },
      "text/plain": [
       "HBox(children=(FloatProgress(value=0.0, max=3.0), HTML(value='')))"
      ]
     },
     "metadata": {},
     "output_type": "display_data"
    },
    {
     "name": "stdout",
     "output_type": "stream",
     "text": [
      "\n",
      " Finished with (6, 0) \n",
      "\n",
      "\n",
      "\n",
      "\n",
      "---- Working on (7, 0) connection-----\n",
      "winning_vertex = [346925.62775683 534095.6847633  596444.79899399]\n",
      "MP_branches_with_stitch_point = [0, 1]\n",
      "Current stitch point was not a branch or endpoint, shortest_path_length to one = 37101.14504564056\n",
      "MAP_branches_with_stitch_point = [10]\n",
      "MAP_stitch_point_on_end_or_branch = False\n",
      "Found winning edge: [33, 34.0]\n",
      "Found winning edge: [46, 47.0]\n"
     ]
    },
    {
     "data": {
      "application/vnd.jupyter.widget-view+json": {
       "model_id": "ba5836a284774675b75bdeeb9d5e5725",
       "version_major": 2,
       "version_minor": 0
      },
      "text/plain": [
       "HBox(children=(FloatProgress(value=1.0, bar_style='info', max=1.0), HTML(value='')))"
      ]
     },
     "metadata": {},
     "output_type": "display_data"
    },
    {
     "name": "stdout",
     "output_type": "stream",
     "text": [
      "\n",
      "\n",
      "\n",
      "--- Working on 1-to-1 correspondence-----\n",
      "max(original_labels),len(original_labels) = (3, 4)\n",
      "empty_indices % = 0.008823227659792756\n",
      " conflict_indices % = 0.01662049861495845\n"
     ]
    },
    {
     "data": {
      "application/vnd.jupyter.widget-view+json": {
       "model_id": "b8554eab79fe4a5b82e014ac02aa4854",
       "version_major": 2,
       "version_minor": 0
      },
      "text/plain": [
       "HBox(children=(FloatProgress(value=0.0, max=3.0), HTML(value='')))"
      ]
     },
     "metadata": {},
     "output_type": "display_data"
    },
    {
     "name": "stdout",
     "output_type": "stream",
     "text": [
      "\n",
      "AFTER face_lookup_resolved_test\n"
     ]
    },
    {
     "data": {
      "application/vnd.jupyter.widget-view+json": {
       "model_id": "c8b17d8ec559488d9c629f9cd4289d36",
       "version_major": 2,
       "version_minor": 0
      },
      "text/plain": [
       "HBox(children=(FloatProgress(value=0.0, max=4.0), HTML(value='')))"
      ]
     },
     "metadata": {},
     "output_type": "display_data"
    },
    {
     "name": "stdout",
     "output_type": "stream",
     "text": [
      "\n",
      "Deleting branches from dictionary\n",
      " Finished with (7, 0) \n",
      "\n",
      "\n",
      "\n",
      "Time for decomp of Limb = 67.6463692188263\n",
      "\n",
      "\n",
      "----- Working on Proper Limb # 3 ---------\n",
      "Time for preparing soma vertices and root: 7.867813110351562e-06\n",
      "cc_vertex_thresh = 10\n"
     ]
    },
    {
     "name": "stderr",
     "output_type": "stream",
     "text": [
      "\r",
      "  0%|          | 0/1 [00:00<?, ?it/s]"
     ]
    },
    {
     "data": {
      "application/vnd.jupyter.widget-view+json": {
       "model_id": "d8eca243333948c6bb2411ac6e392238",
       "version_major": 2,
       "version_minor": 0
      },
      "text/plain": [
       "HBox(children=(FloatProgress(value=0.0, max=42710.0), HTML(value='')))"
      ]
     },
     "metadata": {},
     "output_type": "display_data"
    },
    {
     "name": "stderr",
     "output_type": "stream",
     "text": [
      "100%|██████████| 1/1 [00:00<00:00,  3.32it/s]"
     ]
    },
    {
     "name": "stdout",
     "output_type": "stream",
     "text": [
      "\n"
     ]
    },
    {
     "name": "stderr",
     "output_type": "stream",
     "text": [
      "\n"
     ]
    },
    {
     "name": "stdout",
     "output_type": "stream",
     "text": [
      "Time for 1st pass MP skeletonization: 0.717292070388794\n",
      "branches_touching_root = [12]\n",
      "length of Graph = 3753\n",
      "max(kept_branches_idx) = 12, len(kept_branches_idx) = 13\n",
      "empty_indices % = 0.0\n",
      " conflict_indices % = 0.004485200014089634\n"
     ]
    },
    {
     "data": {
      "application/vnd.jupyter.widget-view+json": {
       "model_id": "a096db5457144b04ac7263552675fd57",
       "version_major": 2,
       "version_minor": 0
      },
      "text/plain": [
       "HBox(children=(FloatProgress(value=0.0, max=7.0), HTML(value='')))"
      ]
     },
     "metadata": {},
     "output_type": "display_data"
    },
    {
     "name": "stdout",
     "output_type": "stream",
     "text": [
      "\n",
      "AFTER face_lookup_resolved_test\n"
     ]
    },
    {
     "data": {
      "application/vnd.jupyter.widget-view+json": {
       "model_id": "2a1fa2d76f054719861441112e89da38",
       "version_major": 2,
       "version_minor": 0
      },
      "text/plain": [
       "HBox(children=(FloatProgress(value=0.0, max=13.0), HTML(value='')))"
      ]
     },
     "metadata": {},
     "output_type": "display_data"
    },
    {
     "name": "stdout",
     "output_type": "stream",
     "text": [
      "\n",
      "Decomposing first pass: 2.065505266189575\n",
      "Attempting to use MeshAfterParty Skeletonization and Mesh Correspondence\n",
      "Another print\n",
      "Found len(mesh_large_idx) MAP candidates: [1637, 9628, 14756, 12100]\n",
      "mesh_large_connectivity: 0.021302461624145508\n",
      "Finding MAP candidates connected components: 0.00011014938354492188\n",
      "len(filtered_pieces) = 1\n",
      "skeleton_connectivity_MP : 0.0979311466217041\n",
      "Grouping MP Sublimbs by Graph: 0.024678468704223633\n",
      "Divinding into MP and MAP pieces: 1.1920928955078125e-06\n",
      "--- Working on MAP piece 0---\n",
      "MAP Filtering Soma Pieces: 0.002235889434814453\n",
      "inside skeletonize_connected_branch and use_surface_after_CGAL=False, surface_reconstruction_size=1000\n",
      "     Starting Screened Poisson\n",
      "xvfb-run -n 4780 -s \"-screen 0 800x600x24\" meshlabserver $@  -i /notebooks/Platinum_Decomp_Fusion/temp/None.off -o /notebooks/Platinum_Decomp_Fusion/temp/None_poisson.off -s /notebooks/Platinum_Decomp_Fusion/temp/poisson_784977.mls\n",
      "removed temporary input file: /notebooks/Platinum_Decomp_Fusion/temp/None.off\n",
      "removed temporary output file: /notebooks/Platinum_Decomp_Fusion/temp/None_poisson.off\n",
      "Using the close holes feature\n",
      "xvfb-run -n 2946 -s \"-screen 0 800x600x24\" meshlabserver $@  -i /notebooks/Platinum_Decomp_Fusion/temp/neuron_52201.off -o /notebooks/Platinum_Decomp_Fusion/temp/neuron_52201_fill_holes.off -s /notebooks/Platinum_Decomp_Fusion/temp/fill_holes_394277.mls\n",
      "removed temporary input file: /notebooks/Platinum_Decomp_Fusion/temp/neuron_52201.off\n",
      "removed temporary output file: /notebooks/Platinum_Decomp_Fusion/temp/neuron_52201_fill_holes.off\n",
      "-----Time for Screened Poisson= 12.73536491394043\n",
      "     Starting Calcification\n"
     ]
    },
    {
     "data": {
      "application/vnd.jupyter.widget-view+json": {
       "model_id": "859a5e0a2d104c0bba3db1da2656b0d2",
       "version_major": 2,
       "version_minor": 0
      },
      "text/plain": [
       "HBox(children=(FloatProgress(value=1.0, bar_style='info', max=1.0), HTML(value='')))"
      ]
     },
     "metadata": {},
     "output_type": "display_data"
    },
    {
     "name": "stdout",
     "output_type": "stream",
     "text": [
      "\n",
      "No skeletons to stack so returning empty list\n",
      "len_subgraphs AT BEGINNING of the loop\n"
     ]
    },
    {
     "data": {
      "application/vnd.jupyter.widget-view+json": {
       "model_id": "34792f263fb248d48d8f4ac803fbf888",
       "version_major": 2,
       "version_minor": 0
      },
      "text/plain": [
       "HBox(children=(FloatProgress(value=0.0, max=1.0), HTML(value='')))"
      ]
     },
     "metadata": {},
     "output_type": "display_data"
    },
    {
     "name": "stdout",
     "output_type": "stream",
     "text": [
      "all graph is one component!\n",
      "\n",
      "Total time for skeleton stitching = 0.030330181121826172\n",
      "The process was using a temp folder\n",
      "Checking connected components after skeletonize_connected_branch\n",
      "    Total time for skeletonizing branch: 15.003856420516968\n",
      "Checking connected components after removing cycles\n",
      "Total time for mesh KDTree = 0.23918795585632324\n",
      "sbv[0].reshape(-1,3) = [[398454. 690606. 663957.]]\n",
      "closest_sk_pt_coord BEFORE = [399337. 691063. 665072.]\n",
      "current_skeleton.shape = (329, 2, 3)\n",
      "Current stitch point was a branch or endpoint\n",
      "change_status for create soma extending pieces = False\n",
      "closest_sk_pt_coord AFTER = [399337. 691063. 665072.]\n",
      "skipping soma 0 because closest skeleton node was already end node\n",
      "endpoints_must_keep = {0: array([[399337., 691063., 665072.]])}\n",
      "    Total time for Fixing Skeleton Soma Endpoint Extension : 0.35945630073547363\n",
      "filter_end_node_length = 4001\n",
      "Using Distance measure skeletal_distance\n",
      "endpoints_must_keep = [[399337. 691063. 665072.]]\n",
      "Number of end_nodes BEFORE filtering = 17\n",
      "all_single_nodes_to_eliminate = [1]\n"
     ]
    },
    {
     "data": {
      "application/vnd.jupyter.widget-view+json": {
       "model_id": "2c1aa86294794c5d84315a9eaebb98f1",
       "version_major": 2,
       "version_minor": 0
      },
      "text/plain": [
       "HBox(children=(FloatProgress(value=0.0, max=16.0), HTML(value='')))"
      ]
     },
     "metadata": {},
     "output_type": "display_data"
    },
    {
     "name": "stdout",
     "output_type": "stream",
     "text": [
      "\n",
      "Checking connected components after clean_skeleton\n",
      "after DISTANCE cleaning limb size of skeleton = (309, 2, 3)\n",
      "********COMBINING CLOSE SKELETON NODES WITHIN 700 DISTANCE**********\n",
      "Found 0 valid paths to replace\n",
      "valid_paths = []\n",
      "valid_path_lengths = []\n",
      "No valid paths found so just returning the original\n",
      "skeletonize_and_clean_connected_branch_CGAL: 15.609054803848267\n",
      "Working on limb correspondence for #0 MAP piece\n"
     ]
    },
    {
     "data": {
      "application/vnd.jupyter.widget-view+json": {
       "model_id": "8adf7fd98f4b4507aea1e08e9cc90969",
       "version_major": 2,
       "version_minor": 0
      },
      "text/plain": [
       "HBox(children=(FloatProgress(value=1.0, bar_style='info', max=1.0), HTML(value='')))"
      ]
     },
     "metadata": {},
     "output_type": "display_data"
    },
    {
     "name": "stdout",
     "output_type": "stream",
     "text": [
      "\n",
      "Total time for decomposition = 3.2176594734191895\n",
      "mesh_correspondence_first_pass: 3.2176873683929443\n",
      "Limb decomposed into 3 branches\n",
      "divided_skeleton_graph_recovered = (309, 2, 3) and \n",
      "current_mesh_data[0]['branch_skeletons_cleaned'].shape = (309, 2, 3)\n",
      "\n",
      "Number of connected components in deocmposed recovered graph = 1\n",
      "Number of connected components in cleaned skeleton graph= 1\n",
      "The downsampled branches number of connected components = 1\n",
      "Empty submeshes = []\n",
      "\n",
      "\n",
      "--- Working on 1-to-1 correspondence-----\n",
      "max(original_labels),len(original_labels) = (2, 3)\n",
      "empty_indices % = 0.03292148684452139\n",
      " conflict_indices % = 0.01091262034049474\n"
     ]
    },
    {
     "data": {
      "application/vnd.jupyter.widget-view+json": {
       "model_id": "5365e80485554bd48812e2a7aba840f3",
       "version_major": 2,
       "version_minor": 0
      },
      "text/plain": [
       "HBox(children=(FloatProgress(value=0.0, max=11.0), HTML(value='')))"
      ]
     },
     "metadata": {},
     "output_type": "display_data"
    },
    {
     "name": "stdout",
     "output_type": "stream",
     "text": [
      "\n",
      "AFTER face_lookup_resolved_test\n",
      "Took 0 iterations to expand the label back\n"
     ]
    },
    {
     "data": {
      "application/vnd.jupyter.widget-view+json": {
       "model_id": "63900f5c947447b58c77c3bf13b72a4e",
       "version_major": 2,
       "version_minor": 0
      },
      "text/plain": [
       "HBox(children=(FloatProgress(value=0.0, max=3.0), HTML(value='')))"
      ]
     },
     "metadata": {},
     "output_type": "display_data"
    },
    {
     "name": "stdout",
     "output_type": "stream",
     "text": [
      "\n",
      "Total time for MAP sublimb #0 mesh processing = 19.593251705169678\n",
      "correspondence_1_to_1: 0.7642402648925781\n",
      "Total time for MAP sublimb processing 19.59334921836853\n",
      "---- Working on MP Decomposition #0 ----\n",
      "MP filtering soma verts: 0.007353067398071289\n",
      "Do Not Need to Fix MP Decomposition 0 so just continuing\n",
      "---- Working on MP Decomposition #1 ----\n",
      "MP filtering soma verts: 0.0006220340728759766\n",
      "Do Not Need to Fix MP Decomposition 1 so just continuing\n",
      "---- Working on MP Decomposition #2 ----\n",
      "MP filtering soma verts: 0.00022864341735839844\n",
      "Do Not Need to Fix MP Decomposition 2 so just continuing\n",
      "\n",
      "---- Working on (0, 0) connection-----\n",
      "winning_vertex = [459705.85903009 659665.17434192 686346.98631569]\n",
      "MP_branches_with_stitch_point = [1, 2]\n",
      "Current stitch point was a branch or endpoint\n",
      "MAP_branches_with_stitch_point = [2]\n",
      "MAP_stitch_point_on_end_or_branch = True\n",
      "Found winning edge: [72, 73.0]\n",
      "Found winning edge: [69, 70.0]\n"
     ]
    },
    {
     "data": {
      "application/vnd.jupyter.widget-view+json": {
       "model_id": "d89669f72f1943e58250254e645aa270",
       "version_major": 2,
       "version_minor": 0
      },
      "text/plain": [
       "HBox(children=(FloatProgress(value=1.0, bar_style='info', max=1.0), HTML(value='')))"
      ]
     },
     "metadata": {},
     "output_type": "display_data"
    },
    {
     "name": "stdout",
     "output_type": "stream",
     "text": [
      "\n",
      "\n",
      "\n",
      "--- Working on 1-to-1 correspondence-----\n",
      "max(original_labels),len(original_labels) = (2, 3)\n",
      "empty_indices % = 0.08083450508485661\n",
      " conflict_indices % = 0.0029430038259049738\n"
     ]
    },
    {
     "data": {
      "application/vnd.jupyter.widget-view+json": {
       "model_id": "81429596d4144c94b284021369000caa",
       "version_major": 2,
       "version_minor": 0
      },
      "text/plain": [
       "HBox(children=(FloatProgress(value=0.0, max=12.0), HTML(value='')))"
      ]
     },
     "metadata": {},
     "output_type": "display_data"
    },
    {
     "name": "stdout",
     "output_type": "stream",
     "text": [
      "\n",
      "AFTER face_lookup_resolved_test\n"
     ]
    },
    {
     "data": {
      "application/vnd.jupyter.widget-view+json": {
       "model_id": "f22971637ee445e9bd80cf68f980b462",
       "version_major": 2,
       "version_minor": 0
      },
      "text/plain": [
       "HBox(children=(FloatProgress(value=0.0, max=3.0), HTML(value='')))"
      ]
     },
     "metadata": {},
     "output_type": "display_data"
    },
    {
     "name": "stdout",
     "output_type": "stream",
     "text": [
      "\n",
      " Finished with (0, 0) \n",
      "\n",
      "\n",
      "\n",
      "\n",
      "---- Working on (1, 0) connection-----\n",
      "winning_vertex = [417696.28189228 614258.68190544 712131.48700197]\n",
      "MP_branches_with_stitch_point = [0, 1]\n",
      "Current stitch point was a branch or endpoint\n",
      "MAP_branches_with_stitch_point = [1]\n",
      "MAP_stitch_point_on_end_or_branch = True\n",
      "Found winning edge: [12, 13.0]\n",
      "Found winning edge: [55, 59.0]\n"
     ]
    },
    {
     "data": {
      "application/vnd.jupyter.widget-view+json": {
       "model_id": "6082734392d847e8b4e78fa703d5627a",
       "version_major": 2,
       "version_minor": 0
      },
      "text/plain": [
       "HBox(children=(FloatProgress(value=1.0, bar_style='info', max=1.0), HTML(value='')))"
      ]
     },
     "metadata": {},
     "output_type": "display_data"
    },
    {
     "name": "stdout",
     "output_type": "stream",
     "text": [
      "\n",
      "\n",
      "\n",
      "--- Working on 1-to-1 correspondence-----\n",
      "max(original_labels),len(original_labels) = (2, 3)\n",
      "empty_indices % = 0.007516820857863751\n",
      " conflict_indices % = 0.011511774600504626\n"
     ]
    },
    {
     "data": {
      "application/vnd.jupyter.widget-view+json": {
       "model_id": "956a51f0879e4fb7929a6f1eee54595c",
       "version_major": 2,
       "version_minor": 0
      },
      "text/plain": [
       "HBox(children=(FloatProgress(value=0.0, max=3.0), HTML(value='')))"
      ]
     },
     "metadata": {},
     "output_type": "display_data"
    },
    {
     "name": "stdout",
     "output_type": "stream",
     "text": [
      "\n",
      "AFTER face_lookup_resolved_test\n"
     ]
    },
    {
     "data": {
      "application/vnd.jupyter.widget-view+json": {
       "model_id": "4021a5c1682e4c0fa008c79187a92361",
       "version_major": 2,
       "version_minor": 0
      },
      "text/plain": [
       "HBox(children=(FloatProgress(value=0.0, max=3.0), HTML(value='')))"
      ]
     },
     "metadata": {},
     "output_type": "display_data"
    },
    {
     "name": "stdout",
     "output_type": "stream",
     "text": [
      "\n",
      " Finished with (1, 0) \n",
      "\n",
      "\n",
      "\n",
      "\n",
      "---- Working on (2, 0) connection-----\n",
      "winning_vertex = [453271.8511738  660821.41654908 687196.34732928]\n",
      "MP_branches_with_stitch_point = [2]\n",
      "Current stitch point was not a branch or endpoint, shortest_path_length to one = 4469.5845318507145\n",
      "MAP_branches_with_stitch_point = [2]\n",
      "MAP_stitch_point_on_end_or_branch = False\n",
      "Only 2 skeleton nodes so cannot do smoothing\n"
     ]
    },
    {
     "data": {
      "application/vnd.jupyter.widget-view+json": {
       "model_id": "93122e85b89d412c9799777051444a6b",
       "version_major": 2,
       "version_minor": 0
      },
      "text/plain": [
       "HBox(children=(FloatProgress(value=1.0, bar_style='info', max=1.0), HTML(value='')))"
      ]
     },
     "metadata": {},
     "output_type": "display_data"
    },
    {
     "name": "stdout",
     "output_type": "stream",
     "text": [
      "\n",
      "\n",
      "\n",
      "--- Working on 1-to-1 correspondence-----\n",
      "max(original_labels),len(original_labels) = (2, 3)\n",
      "empty_indices % = 0.022725206799381874\n",
      " conflict_indices % = 0.027906553949640943\n"
     ]
    },
    {
     "data": {
      "application/vnd.jupyter.widget-view+json": {
       "model_id": "366c0007fd7f49f39f09aa0aebaf1fa4",
       "version_major": 2,
       "version_minor": 0
      },
      "text/plain": [
       "HBox(children=(FloatProgress(value=0.0, max=4.0), HTML(value='')))"
      ]
     },
     "metadata": {},
     "output_type": "display_data"
    },
    {
     "name": "stdout",
     "output_type": "stream",
     "text": [
      "\n",
      "AFTER face_lookup_resolved_test\n"
     ]
    },
    {
     "data": {
      "application/vnd.jupyter.widget-view+json": {
       "model_id": "33c9e3c8c7544c92974370d74074ddfe",
       "version_major": 2,
       "version_minor": 0
      },
      "text/plain": [
       "HBox(children=(FloatProgress(value=0.0, max=3.0), HTML(value='')))"
      ]
     },
     "metadata": {},
     "output_type": "display_data"
    },
    {
     "name": "stdout",
     "output_type": "stream",
     "text": [
      "\n",
      "Deleting branches from dictionary\n",
      " Finished with (2, 0) \n",
      "\n",
      "\n",
      "\n",
      "Time for decomp of Limb = 30.349132537841797\n",
      "\n",
      "\n",
      "----- Working on Proper Limb # 4 ---------\n",
      "Time for preparing soma vertices and root: 5.4836273193359375e-06\n",
      "cc_vertex_thresh = 10\n"
     ]
    },
    {
     "name": "stderr",
     "output_type": "stream",
     "text": [
      "\r",
      "  0%|          | 0/1 [00:00<?, ?it/s]"
     ]
    },
    {
     "data": {
      "application/vnd.jupyter.widget-view+json": {
       "model_id": "acdce3937d6440b1b97a064ad32957c5",
       "version_major": 2,
       "version_minor": 0
      },
      "text/plain": [
       "HBox(children=(FloatProgress(value=0.0, max=31578.0), HTML(value='')))"
      ]
     },
     "metadata": {},
     "output_type": "display_data"
    },
    {
     "name": "stderr",
     "output_type": "stream",
     "text": [
      "100%|██████████| 1/1 [00:00<00:00,  4.77it/s]"
     ]
    },
    {
     "name": "stdout",
     "output_type": "stream",
     "text": [
      "\n"
     ]
    },
    {
     "name": "stderr",
     "output_type": "stream",
     "text": [
      "\n"
     ]
    },
    {
     "name": "stdout",
     "output_type": "stream",
     "text": [
      "Time for 1st pass MP skeletonization: 0.5447864532470703\n",
      "branches_touching_root = [6]\n",
      "length of Graph = 3266\n",
      "max(kept_branches_idx) = 6, len(kept_branches_idx) = 7\n",
      "empty_indices % = 0.0\n",
      " conflict_indices % = 0.0037728670619194063\n"
     ]
    },
    {
     "data": {
      "application/vnd.jupyter.widget-view+json": {
       "model_id": "46c46db2a3904799986df613955f1b3c",
       "version_major": 2,
       "version_minor": 0
      },
      "text/plain": [
       "HBox(children=(FloatProgress(value=0.0, max=3.0), HTML(value='')))"
      ]
     },
     "metadata": {},
     "output_type": "display_data"
    },
    {
     "name": "stdout",
     "output_type": "stream",
     "text": [
      "\n",
      "AFTER face_lookup_resolved_test\n"
     ]
    },
    {
     "data": {
      "application/vnd.jupyter.widget-view+json": {
       "model_id": "7a0ee34a4ffc44d58eb7bae2d27d9a65",
       "version_major": 2,
       "version_minor": 0
      },
      "text/plain": [
       "HBox(children=(FloatProgress(value=0.0, max=7.0), HTML(value='')))"
      ]
     },
     "metadata": {},
     "output_type": "display_data"
    },
    {
     "name": "stdout",
     "output_type": "stream",
     "text": [
      "\n",
      "Decomposing first pass: 1.6399867534637451\n",
      "Attempting to use MeshAfterParty Skeletonization and Mesh Correspondence\n",
      "Another print\n",
      "Found len(mesh_large_idx) MAP candidates: [4016, 17069, 6389]\n",
      "mesh_large_connectivity: 0.011167526245117188\n",
      "Finding MAP candidates connected components: 0.00010228157043457031\n",
      "len(filtered_pieces) = 1\n",
      "skeleton_connectivity_MP : 0.08939266204833984\n",
      "Grouping MP Sublimbs by Graph: 0.016184329986572266\n",
      "Divinding into MP and MAP pieces: 1.1920928955078125e-06\n",
      "--- Working on MAP piece 0---\n",
      "MAP Filtering Soma Pieces: 0.0026900768280029297\n",
      "inside skeletonize_connected_branch and use_surface_after_CGAL=False, surface_reconstruction_size=1000\n",
      "     Starting Screened Poisson\n",
      "xvfb-run -n 515 -s \"-screen 0 800x600x24\" meshlabserver $@  -i /notebooks/Platinum_Decomp_Fusion/temp/None.off -o /notebooks/Platinum_Decomp_Fusion/temp/None_poisson.off -s /notebooks/Platinum_Decomp_Fusion/temp/poisson_58412.mls\n",
      "removed temporary input file: /notebooks/Platinum_Decomp_Fusion/temp/None.off\n",
      "removed temporary output file: /notebooks/Platinum_Decomp_Fusion/temp/None_poisson.off\n",
      "Using the close holes feature\n",
      "xvfb-run -n 9389 -s \"-screen 0 800x600x24\" meshlabserver $@  -i /notebooks/Platinum_Decomp_Fusion/temp/neuron_52486.off -o /notebooks/Platinum_Decomp_Fusion/temp/neuron_52486_fill_holes.off -s /notebooks/Platinum_Decomp_Fusion/temp/fill_holes_485919.mls\n",
      "removed temporary input file: /notebooks/Platinum_Decomp_Fusion/temp/neuron_52486.off\n",
      "removed temporary output file: /notebooks/Platinum_Decomp_Fusion/temp/neuron_52486_fill_holes.off\n",
      "-----Time for Screened Poisson= 13.137923955917358\n",
      "     Starting Calcification\n"
     ]
    },
    {
     "data": {
      "application/vnd.jupyter.widget-view+json": {
       "model_id": "8e3a82ad567f44e69fef2a63c30824cf",
       "version_major": 2,
       "version_minor": 0
      },
      "text/plain": [
       "HBox(children=(FloatProgress(value=1.0, bar_style='info', max=1.0), HTML(value='')))"
      ]
     },
     "metadata": {},
     "output_type": "display_data"
    },
    {
     "name": "stdout",
     "output_type": "stream",
     "text": [
      "\n",
      "No skeletons to stack so returning empty list\n",
      "len_subgraphs AT BEGINNING of the loop\n"
     ]
    },
    {
     "data": {
      "application/vnd.jupyter.widget-view+json": {
       "model_id": "700f0e278ee34f339efdc5f7509389cb",
       "version_major": 2,
       "version_minor": 0
      },
      "text/plain": [
       "HBox(children=(FloatProgress(value=0.0, max=1.0), HTML(value='')))"
      ]
     },
     "metadata": {},
     "output_type": "display_data"
    },
    {
     "name": "stdout",
     "output_type": "stream",
     "text": [
      "all graph is one component!\n",
      "\n",
      "Total time for skeleton stitching = 0.029500246047973633\n",
      "The process was using a temp folder\n",
      "Checking connected components after skeletonize_connected_branch\n",
      "    Total time for skeletonizing branch: 15.759284734725952\n",
      "Checking connected components after removing cycles\n",
      "Total time for mesh KDTree = 0.1828291416168213\n",
      "sbv[0].reshape(-1,3) = [[397820.9 701161.3 661974.6]]\n",
      "closest_sk_pt_coord BEFORE = [398229. 702873. 663368.]\n",
      "current_skeleton.shape = (292, 2, 3)\n",
      "Current stitch point was a branch or endpoint\n",
      "change_status for create soma extending pieces = False\n",
      "closest_sk_pt_coord AFTER = [398229. 702873. 663368.]\n",
      "skipping soma 0 because closest skeleton node was already end node\n",
      "endpoints_must_keep = {0: array([[398229., 702873., 663368.]])}\n",
      "    Total time for Fixing Skeleton Soma Endpoint Extension : 0.28446102142333984\n",
      "filter_end_node_length = 4001\n",
      "Using Distance measure skeletal_distance\n",
      "endpoints_must_keep = [[398229. 702873. 663368.]]\n",
      "Number of end_nodes BEFORE filtering = 13\n",
      "all_single_nodes_to_eliminate = [5]\n"
     ]
    },
    {
     "data": {
      "application/vnd.jupyter.widget-view+json": {
       "model_id": "788600543348421db2e6e299919cc8b3",
       "version_major": 2,
       "version_minor": 0
      },
      "text/plain": [
       "HBox(children=(FloatProgress(value=0.0, max=11.0), HTML(value='')))"
      ]
     },
     "metadata": {},
     "output_type": "display_data"
    },
    {
     "name": "stdout",
     "output_type": "stream",
     "text": [
      "\n",
      "Checking connected components after clean_skeleton\n",
      "after DISTANCE cleaning limb size of skeleton = (271, 2, 3)\n",
      "********COMBINING CLOSE SKELETON NODES WITHIN 700 DISTANCE**********\n",
      "Found 0 valid paths to replace\n",
      "valid_paths = []\n",
      "valid_path_lengths = []\n",
      "No valid paths found so just returning the original\n",
      "skeletonize_and_clean_connected_branch_CGAL: 16.248746871948242\n",
      "Working on limb correspondence for #0 MAP piece\n"
     ]
    },
    {
     "data": {
      "application/vnd.jupyter.widget-view+json": {
       "model_id": "2a9860584c204d7083bf02a36d664a12",
       "version_major": 2,
       "version_minor": 0
      },
      "text/plain": [
       "HBox(children=(FloatProgress(value=1.0, bar_style='info', max=1.0), HTML(value='')))"
      ]
     },
     "metadata": {},
     "output_type": "display_data"
    },
    {
     "name": "stdout",
     "output_type": "stream",
     "text": [
      "\n",
      "Total time for decomposition = 2.0344576835632324\n",
      "mesh_correspondence_first_pass: 2.034489631652832\n",
      "Limb decomposed into 3 branches\n",
      "divided_skeleton_graph_recovered = (271, 2, 3) and \n",
      "current_mesh_data[0]['branch_skeletons_cleaned'].shape = (271, 2, 3)\n",
      "\n",
      "Number of connected components in deocmposed recovered graph = 1\n",
      "Number of connected components in cleaned skeleton graph= 1\n",
      "The downsampled branches number of connected components = 1\n",
      "Empty submeshes = []\n",
      "\n",
      "\n",
      "--- Working on 1-to-1 correspondence-----\n",
      "max(original_labels),len(original_labels) = (2, 3)\n",
      "empty_indices % = 0.05980199461308874\n",
      " conflict_indices % = 0.01310329766324525\n"
     ]
    },
    {
     "data": {
      "application/vnd.jupyter.widget-view+json": {
       "model_id": "df733140edf24f38962ac4d0a5d6001e",
       "version_major": 2,
       "version_minor": 0
      },
      "text/plain": [
       "HBox(children=(FloatProgress(value=0.0, max=7.0), HTML(value='')))"
      ]
     },
     "metadata": {},
     "output_type": "display_data"
    },
    {
     "name": "stdout",
     "output_type": "stream",
     "text": [
      "\n",
      "AFTER face_lookup_resolved_test\n",
      "Took 0 iterations to expand the label back\n"
     ]
    },
    {
     "data": {
      "application/vnd.jupyter.widget-view+json": {
       "model_id": "8f5953da6426408a8a37b4a2df71b97f",
       "version_major": 2,
       "version_minor": 0
      },
      "text/plain": [
       "HBox(children=(FloatProgress(value=0.0, max=3.0), HTML(value='')))"
      ]
     },
     "metadata": {},
     "output_type": "display_data"
    },
    {
     "name": "stdout",
     "output_type": "stream",
     "text": [
      "\n",
      "Total time for MAP sublimb #0 mesh processing = 18.863499879837036\n",
      "correspondence_1_to_1: 0.5776033401489258\n",
      "Total time for MAP sublimb processing 18.863665103912354\n",
      "---- Working on MP Decomposition #0 ----\n",
      "MP filtering soma verts: 0.0037446022033691406\n",
      "Do Not Need to Fix MP Decomposition 0 so just continuing\n",
      "\n",
      "---- Working on (0, 0) connection-----\n",
      "winning_vertex = [421127.0474743  711234.94560873 691714.04149352]\n",
      "MP_branches_with_stitch_point = [1, 2]\n",
      "Current stitch point was a branch or endpoint\n",
      "MAP_branches_with_stitch_point = [2]\n",
      "MAP_stitch_point_on_end_or_branch = True\n",
      "Found winning edge: [87, 88.0]\n",
      "Found winning edge: [87, 88.0]\n"
     ]
    },
    {
     "data": {
      "application/vnd.jupyter.widget-view+json": {
       "model_id": "ec225e2b51194419a2dc022f135e28bd",
       "version_major": 2,
       "version_minor": 0
      },
      "text/plain": [
       "HBox(children=(FloatProgress(value=1.0, bar_style='info', max=1.0), HTML(value='')))"
      ]
     },
     "metadata": {},
     "output_type": "display_data"
    },
    {
     "name": "stdout",
     "output_type": "stream",
     "text": [
      "\n",
      "\n",
      "\n",
      "--- Working on 1-to-1 correspondence-----\n",
      "max(original_labels),len(original_labels) = (2, 3)\n",
      "empty_indices % = 0.08326136327287849\n",
      " conflict_indices % = 0.0032626427406199023\n"
     ]
    },
    {
     "data": {
      "application/vnd.jupyter.widget-view+json": {
       "model_id": "48da29077f654c2e968dc74fde22cbb7",
       "version_major": 2,
       "version_minor": 0
      },
      "text/plain": [
       "HBox(children=(FloatProgress(value=0.0, max=6.0), HTML(value='')))"
      ]
     },
     "metadata": {},
     "output_type": "display_data"
    },
    {
     "name": "stdout",
     "output_type": "stream",
     "text": [
      "\n",
      "AFTER face_lookup_resolved_test\n"
     ]
    },
    {
     "data": {
      "application/vnd.jupyter.widget-view+json": {
       "model_id": "daeb15dc9d1d4cef9a2fe03140b8e383",
       "version_major": 2,
       "version_minor": 0
      },
      "text/plain": [
       "HBox(children=(FloatProgress(value=0.0, max=3.0), HTML(value='')))"
      ]
     },
     "metadata": {},
     "output_type": "display_data"
    },
    {
     "name": "stderr",
     "output_type": "stream",
     "text": [
      "\r",
      "  0%|          | 0/1 [00:00<?, ?it/s]"
     ]
    },
    {
     "name": "stdout",
     "output_type": "stream",
     "text": [
      "\n",
      " Finished with (0, 0) \n",
      "\n",
      "\n",
      "\n",
      "Time for decomp of Limb = 27.293450593948364\n",
      "\n",
      "\n",
      "----- Working on Proper Limb # 5 ---------\n",
      "Time for preparing soma vertices and root: 7.62939453125e-06\n",
      "cc_vertex_thresh = 10\n"
     ]
    },
    {
     "data": {
      "application/vnd.jupyter.widget-view+json": {
       "model_id": "4ebe86fdf9564cdb96a2d41711555cc8",
       "version_major": 2,
       "version_minor": 0
      },
      "text/plain": [
       "HBox(children=(FloatProgress(value=0.0, max=29653.0), HTML(value='')))"
      ]
     },
     "metadata": {},
     "output_type": "display_data"
    },
    {
     "name": "stderr",
     "output_type": "stream",
     "text": [
      "100%|██████████| 1/1 [00:00<00:00,  5.56it/s]\n"
     ]
    },
    {
     "name": "stdout",
     "output_type": "stream",
     "text": [
      "\n",
      "Time for 1st pass MP skeletonization: 0.4960935115814209\n",
      "branches_touching_root = [2]\n",
      "length of Graph = 2921\n",
      "max(kept_branches_idx) = 4, len(kept_branches_idx) = 5\n",
      "empty_indices % = 0.0\n",
      " conflict_indices % = 0.0024695116794370866\n"
     ]
    },
    {
     "data": {
      "application/vnd.jupyter.widget-view+json": {
       "model_id": "07f6a16d143f42b1a68551d773caaacf",
       "version_major": 2,
       "version_minor": 0
      },
      "text/plain": [
       "HBox(children=(FloatProgress(value=0.0, max=2.0), HTML(value='')))"
      ]
     },
     "metadata": {},
     "output_type": "display_data"
    },
    {
     "name": "stdout",
     "output_type": "stream",
     "text": [
      "\n",
      "AFTER face_lookup_resolved_test\n"
     ]
    },
    {
     "data": {
      "application/vnd.jupyter.widget-view+json": {
       "model_id": "79c9f8b938e54b14a63bd3900a483b9f",
       "version_major": 2,
       "version_minor": 0
      },
      "text/plain": [
       "HBox(children=(FloatProgress(value=0.0, max=5.0), HTML(value='')))"
      ]
     },
     "metadata": {},
     "output_type": "display_data"
    },
    {
     "name": "stdout",
     "output_type": "stream",
     "text": [
      "\n",
      "Decomposing first pass: 1.5812792778015137\n",
      "Attempting to use MeshAfterParty Skeletonization and Mesh Correspondence\n",
      "Another print\n",
      "Found len(mesh_large_idx) MAP candidates: [13172, 9349]\n",
      "mesh_large_connectivity: 0.0050432682037353516\n",
      "Finding MAP candidates connected components: 8.392333984375e-05\n",
      "len(filtered_pieces) = 1\n",
      "skeleton_connectivity_MP : 0.08710932731628418\n",
      "Grouping MP Sublimbs by Graph: 0.016251802444458008\n",
      "Divinding into MP and MAP pieces: 9.5367431640625e-07\n",
      "--- Working on MAP piece 0---\n",
      "MAP Filtering Soma Pieces: 0.0039103031158447266\n",
      "inside skeletonize_connected_branch and use_surface_after_CGAL=False, surface_reconstruction_size=1000\n",
      "     Starting Screened Poisson\n",
      "xvfb-run -n 5971 -s \"-screen 0 800x600x24\" meshlabserver $@  -i /notebooks/Platinum_Decomp_Fusion/temp/None.off -o /notebooks/Platinum_Decomp_Fusion/temp/None_poisson.off -s /notebooks/Platinum_Decomp_Fusion/temp/poisson_292772.mls\n",
      "removed temporary input file: /notebooks/Platinum_Decomp_Fusion/temp/None.off\n",
      "removed temporary output file: /notebooks/Platinum_Decomp_Fusion/temp/None_poisson.off\n",
      "Using the close holes feature\n",
      "xvfb-run -n 3371 -s \"-screen 0 800x600x24\" meshlabserver $@  -i /notebooks/Platinum_Decomp_Fusion/temp/neuron_2731.off -o /notebooks/Platinum_Decomp_Fusion/temp/neuron_2731_fill_holes.off -s /notebooks/Platinum_Decomp_Fusion/temp/fill_holes_208439.mls\n",
      "removed temporary input file: /notebooks/Platinum_Decomp_Fusion/temp/neuron_2731.off\n",
      "removed temporary output file: /notebooks/Platinum_Decomp_Fusion/temp/neuron_2731_fill_holes.off\n",
      "-----Time for Screened Poisson= 9.972227573394775\n",
      "     Starting Calcification\n"
     ]
    },
    {
     "data": {
      "application/vnd.jupyter.widget-view+json": {
       "model_id": "c5d9a7e608af4a01aa3e67ed5919e8b3",
       "version_major": 2,
       "version_minor": 0
      },
      "text/plain": [
       "HBox(children=(FloatProgress(value=1.0, bar_style='info', max=1.0), HTML(value='')))"
      ]
     },
     "metadata": {},
     "output_type": "display_data"
    },
    {
     "name": "stdout",
     "output_type": "stream",
     "text": [
      "\n",
      "No skeletons to stack so returning empty list\n",
      "len_subgraphs AT BEGINNING of the loop\n"
     ]
    },
    {
     "data": {
      "application/vnd.jupyter.widget-view+json": {
       "model_id": "9a622d7c70e2498799a44bc6242667f9",
       "version_major": 2,
       "version_minor": 0
      },
      "text/plain": [
       "HBox(children=(FloatProgress(value=0.0, max=1.0), HTML(value='')))"
      ]
     },
     "metadata": {},
     "output_type": "display_data"
    },
    {
     "name": "stdout",
     "output_type": "stream",
     "text": [
      "all graph is one component!\n",
      "\n",
      "Total time for skeleton stitching = 0.031824588775634766\n",
      "The process was using a temp folder\n",
      "Checking connected components after skeletonize_connected_branch\n",
      "    Total time for skeletonizing branch: 11.667269468307495\n",
      "Checking connected components after removing cycles\n",
      "Total time for mesh KDTree = 0.1575024127960205\n",
      "sbv[0].reshape(-1,3) = [[396062.7 693739.6 665444.9]]\n",
      "closest_sk_pt_coord BEFORE = [395862. 694409. 667017.]\n",
      "current_skeleton.shape = (212, 2, 3)\n",
      "Current stitch point was a branch or endpoint\n",
      "change_status for create soma extending pieces = False\n",
      "closest_sk_pt_coord AFTER = [395862. 694409. 667017.]\n",
      "skipping soma 0 because closest skeleton node was already end node\n",
      "endpoints_must_keep = {0: array([[395862., 694409., 667017.]])}\n",
      "    Total time for Fixing Skeleton Soma Endpoint Extension : 0.2370154857635498\n",
      "filter_end_node_length = 4001\n",
      "Using Distance measure skeletal_distance\n",
      "endpoints_must_keep = [[395862. 694409. 667017.]]\n",
      "Number of end_nodes BEFORE filtering = 6\n",
      "all_single_nodes_to_eliminate = [0]\n"
     ]
    },
    {
     "data": {
      "application/vnd.jupyter.widget-view+json": {
       "model_id": "d2c54747d05245ca9230a2bbc41ccceb",
       "version_major": 2,
       "version_minor": 0
      },
      "text/plain": [
       "HBox(children=(FloatProgress(value=0.0, max=4.0), HTML(value='')))"
      ]
     },
     "metadata": {},
     "output_type": "display_data"
    },
    {
     "name": "stdout",
     "output_type": "stream",
     "text": [
      "\n",
      "Checking connected components after clean_skeleton\n",
      "after DISTANCE cleaning limb size of skeleton = (207, 2, 3)\n",
      "********COMBINING CLOSE SKELETON NODES WITHIN 700 DISTANCE**********\n",
      "Found 0 valid paths to replace\n",
      "valid_paths = []\n",
      "valid_path_lengths = []\n",
      "No valid paths found so just returning the original\n",
      "skeletonize_and_clean_connected_branch_CGAL: 12.050518989562988\n",
      "Working on limb correspondence for #0 MAP piece\n"
     ]
    },
    {
     "data": {
      "application/vnd.jupyter.widget-view+json": {
       "model_id": "b110d763873d47d6b1ca682ff590130b",
       "version_major": 2,
       "version_minor": 0
      },
      "text/plain": [
       "HBox(children=(FloatProgress(value=1.0, bar_style='info', max=1.0), HTML(value='')))"
      ]
     },
     "metadata": {},
     "output_type": "display_data"
    },
    {
     "name": "stdout",
     "output_type": "stream",
     "text": [
      "\n",
      "Total time for decomposition = 1.461599588394165\n",
      "mesh_correspondence_first_pass: 1.4616327285766602\n",
      "Limb decomposed into 1 branches\n",
      "divided_skeleton_graph_recovered = (207, 2, 3) and \n",
      "current_mesh_data[0]['branch_skeletons_cleaned'].shape = (207, 2, 3)\n",
      "\n",
      "Number of connected components in deocmposed recovered graph = 1\n",
      "Number of connected components in cleaned skeleton graph= 1\n",
      "The downsampled branches number of connected components = 1\n",
      "Empty submeshes = []\n",
      "\n",
      "\n",
      "--- Working on 1-to-1 correspondence-----\n",
      "max(original_labels),len(original_labels) = (0, 1)\n",
      "empty_indices % = 0.021402246791883132\n",
      " conflict_indices % = 0.0\n"
     ]
    },
    {
     "data": {
      "application/vnd.jupyter.widget-view+json": {
       "model_id": "6101c7d0637746f98868fb7587efbcfd",
       "version_major": 2,
       "version_minor": 0
      },
      "text/plain": [
       "HBox(children=(FloatProgress(value=0.0, max=3.0), HTML(value='')))"
      ]
     },
     "metadata": {},
     "output_type": "display_data"
    },
    {
     "name": "stdout",
     "output_type": "stream",
     "text": [
      "\n",
      "AFTER face_lookup_resolved_test\n",
      "Took 0 iterations to expand the label back\n"
     ]
    },
    {
     "data": {
      "application/vnd.jupyter.widget-view+json": {
       "model_id": "6daf9aeb28d0486b81ceb2980c918ba5",
       "version_major": 2,
       "version_minor": 0
      },
      "text/plain": [
       "HBox(children=(FloatProgress(value=0.0, max=1.0), HTML(value='')))"
      ]
     },
     "metadata": {},
     "output_type": "display_data"
    },
    {
     "name": "stdout",
     "output_type": "stream",
     "text": [
      "\n",
      "Total time for MAP sublimb #0 mesh processing = 13.97587251663208\n",
      "correspondence_1_to_1: 0.4597620964050293\n",
      "Total time for MAP sublimb processing 13.975971221923828\n",
      "---- Working on MP Decomposition #0 ----\n",
      "MP filtering soma verts: 0.004273176193237305\n",
      "Do Not Need to Fix MP Decomposition 0 so just continuing\n",
      "---- Working on MP Decomposition #1 ----\n",
      "MP filtering soma verts: 0.002997159957885742\n",
      "Do Not Need to Fix MP Decomposition 1 so just continuing\n",
      "\n",
      "---- Working on (0, 0) connection-----\n",
      "winning_vertex = [407928.61523984 713201.41806321 749317.1692686 ]\n",
      "MP_branches_with_stitch_point = [0, 1]\n",
      "Current stitch point was not a branch or endpoint, shortest_path_length to one = 35.679125549822544\n",
      "Changing the stitch point becasue the distance to end or branch node was 35.679125549822544\n",
      "New stitch point has degree 1\n",
      "MAP_branches_with_stitch_point = [0]\n",
      "MAP_stitch_point_on_end_or_branch = True\n",
      "Found winning edge: [26, 27.0]\n",
      "Found winning edge: [419, 420.0]\n"
     ]
    },
    {
     "data": {
      "application/vnd.jupyter.widget-view+json": {
       "model_id": "1ee015e32bcd4f60b9c021453d84ba42",
       "version_major": 2,
       "version_minor": 0
      },
      "text/plain": [
       "HBox(children=(FloatProgress(value=1.0, bar_style='info', max=1.0), HTML(value='')))"
      ]
     },
     "metadata": {},
     "output_type": "display_data"
    },
    {
     "name": "stdout",
     "output_type": "stream",
     "text": [
      "\n",
      "\n",
      "\n",
      "--- Working on 1-to-1 correspondence-----\n",
      "max(original_labels),len(original_labels) = (2, 3)\n",
      "empty_indices % = 0.015090673575129533\n",
      " conflict_indices % = 0.008139032815198618\n"
     ]
    },
    {
     "data": {
      "application/vnd.jupyter.widget-view+json": {
       "model_id": "c1d878365d30421282236eebc1ae9188",
       "version_major": 2,
       "version_minor": 0
      },
      "text/plain": [
       "HBox(children=(FloatProgress(value=0.0, max=7.0), HTML(value='')))"
      ]
     },
     "metadata": {},
     "output_type": "display_data"
    },
    {
     "name": "stdout",
     "output_type": "stream",
     "text": [
      "\n",
      "AFTER face_lookup_resolved_test\n"
     ]
    },
    {
     "data": {
      "application/vnd.jupyter.widget-view+json": {
       "model_id": "adea6ec6d6194bfa9c97e29226cb2db4",
       "version_major": 2,
       "version_minor": 0
      },
      "text/plain": [
       "HBox(children=(FloatProgress(value=0.0, max=3.0), HTML(value='')))"
      ]
     },
     "metadata": {},
     "output_type": "display_data"
    },
    {
     "name": "stdout",
     "output_type": "stream",
     "text": [
      "\n",
      " Finished with (0, 0) \n",
      "\n",
      "\n",
      "\n",
      "\n",
      "---- Working on (1, 0) connection-----\n",
      "winning_vertex = [398154.36977654 699061.49242731 699672.46144048]\n",
      "MP_branches_with_stitch_point = [0]\n",
      "Current stitch point was not a branch or endpoint, shortest_path_length to one = 35127.40414881022\n",
      "MAP_branches_with_stitch_point = [0]\n",
      "MAP_stitch_point_on_end_or_branch = False\n",
      "Found winning edge: [17, 18.0]\n"
     ]
    },
    {
     "data": {
      "application/vnd.jupyter.widget-view+json": {
       "model_id": "93ba00f7651c4b08a7c10b80172ee40f",
       "version_major": 2,
       "version_minor": 0
      },
      "text/plain": [
       "HBox(children=(FloatProgress(value=1.0, bar_style='info', max=1.0), HTML(value='')))"
      ]
     },
     "metadata": {},
     "output_type": "display_data"
    },
    {
     "name": "stdout",
     "output_type": "stream",
     "text": [
      "\n",
      "\n",
      "\n",
      "--- Working on 1-to-1 correspondence-----\n",
      "max(original_labels),len(original_labels) = (2, 3)\n",
      "empty_indices % = 0.017269201370212043\n",
      " conflict_indices % = 0.010616312317753306\n"
     ]
    },
    {
     "data": {
      "application/vnd.jupyter.widget-view+json": {
       "model_id": "f4a48dbeeb29466ebd0c3b579e5d2f9f",
       "version_major": 2,
       "version_minor": 0
      },
      "text/plain": [
       "HBox(children=(FloatProgress(value=0.0, max=6.0), HTML(value='')))"
      ]
     },
     "metadata": {},
     "output_type": "display_data"
    },
    {
     "name": "stdout",
     "output_type": "stream",
     "text": [
      "\n",
      "AFTER face_lookup_resolved_test\n"
     ]
    },
    {
     "data": {
      "application/vnd.jupyter.widget-view+json": {
       "model_id": "2b506ecb15ca42659fd99615e621b815",
       "version_major": 2,
       "version_minor": 0
      },
      "text/plain": [
       "HBox(children=(FloatProgress(value=0.0, max=3.0), HTML(value='')))"
      ]
     },
     "metadata": {},
     "output_type": "display_data"
    },
    {
     "name": "stderr",
     "output_type": "stream",
     "text": [
      "\r",
      "  0%|          | 0/1 [00:00<?, ?it/s]"
     ]
    },
    {
     "name": "stdout",
     "output_type": "stream",
     "text": [
      "\n",
      "Deleting branches from dictionary\n",
      " Finished with (1, 0) \n",
      "\n",
      "\n",
      "\n",
      "Time for decomp of Limb = 28.525749444961548\n",
      "\n",
      "\n",
      "----- Working on Proper Limb # 6 ---------\n",
      "Time for preparing soma vertices and root: 9.298324584960938e-06\n",
      "cc_vertex_thresh = 10\n"
     ]
    },
    {
     "data": {
      "application/vnd.jupyter.widget-view+json": {
       "model_id": "4e6c03273944479e9fe5d050d9809719",
       "version_major": 2,
       "version_minor": 0
      },
      "text/plain": [
       "HBox(children=(FloatProgress(value=0.0, max=23176.0), HTML(value='')))"
      ]
     },
     "metadata": {},
     "output_type": "display_data"
    },
    {
     "name": "stderr",
     "output_type": "stream",
     "text": [
      "100%|██████████| 1/1 [00:00<00:00,  4.63it/s]"
     ]
    },
    {
     "name": "stdout",
     "output_type": "stream",
     "text": [
      "\n"
     ]
    },
    {
     "name": "stderr",
     "output_type": "stream",
     "text": [
      "\n"
     ]
    },
    {
     "name": "stdout",
     "output_type": "stream",
     "text": [
      "Time for 1st pass MP skeletonization: 0.47306108474731445\n",
      "branches_touching_root = [3]\n",
      "length of Graph = 3440\n",
      "max(kept_branches_idx) = 12, len(kept_branches_idx) = 13\n",
      "empty_indices % = 0.0\n",
      " conflict_indices % = 0.010626531630196698\n"
     ]
    },
    {
     "data": {
      "application/vnd.jupyter.widget-view+json": {
       "model_id": "e69c4ef7b809479283ad46a677710ec6",
       "version_major": 2,
       "version_minor": 0
      },
      "text/plain": [
       "HBox(children=(FloatProgress(value=0.0, max=6.0), HTML(value='')))"
      ]
     },
     "metadata": {},
     "output_type": "display_data"
    },
    {
     "name": "stdout",
     "output_type": "stream",
     "text": [
      "\n",
      "AFTER face_lookup_resolved_test\n"
     ]
    },
    {
     "data": {
      "application/vnd.jupyter.widget-view+json": {
       "model_id": "a64497e0744b4ac0bb4fdf9a7a2354d5",
       "version_major": 2,
       "version_minor": 0
      },
      "text/plain": [
       "HBox(children=(FloatProgress(value=0.0, max=13.0), HTML(value='')))"
      ]
     },
     "metadata": {},
     "output_type": "display_data"
    },
    {
     "name": "stdout",
     "output_type": "stream",
     "text": [
      "\n",
      "Decomposing first pass: 1.581810712814331\n",
      "Attempting to use MeshAfterParty Skeletonization and Mesh Correspondence\n",
      "Another print\n",
      "Found len(mesh_large_idx) MAP candidates: [3125, 3321, 3981]\n",
      "mesh_large_connectivity: 0.0047833919525146484\n",
      "Finding MAP candidates connected components: 9.465217590332031e-05\n",
      "len(filtered_pieces) = 1\n",
      "skeleton_connectivity_MP : 0.1205134391784668\n",
      "Grouping MP Sublimbs by Graph: 0.02018594741821289\n",
      "Divinding into MP and MAP pieces: 9.5367431640625e-07\n",
      "--- Working on MAP piece 0---\n",
      "MAP Filtering Soma Pieces: 0.00360107421875\n",
      "inside skeletonize_connected_branch and use_surface_after_CGAL=False, surface_reconstruction_size=1000\n",
      "     Starting Screened Poisson\n",
      "xvfb-run -n 8899 -s \"-screen 0 800x600x24\" meshlabserver $@  -i /notebooks/Platinum_Decomp_Fusion/temp/None.off -o /notebooks/Platinum_Decomp_Fusion/temp/None_poisson.off -s /notebooks/Platinum_Decomp_Fusion/temp/poisson_564608.mls\n",
      "removed temporary input file: /notebooks/Platinum_Decomp_Fusion/temp/None.off\n",
      "removed temporary output file: /notebooks/Platinum_Decomp_Fusion/temp/None_poisson.off\n",
      "Using the close holes feature\n",
      "xvfb-run -n 9556 -s \"-screen 0 800x600x24\" meshlabserver $@  -i /notebooks/Platinum_Decomp_Fusion/temp/neuron_494.off -o /notebooks/Platinum_Decomp_Fusion/temp/neuron_494_fill_holes.off -s /notebooks/Platinum_Decomp_Fusion/temp/fill_holes_803606.mls\n",
      "removed temporary input file: /notebooks/Platinum_Decomp_Fusion/temp/neuron_494.off\n",
      "removed temporary output file: /notebooks/Platinum_Decomp_Fusion/temp/neuron_494_fill_holes.off\n",
      "-----Time for Screened Poisson= 6.8975441455841064\n",
      "     Starting Calcification\n"
     ]
    },
    {
     "data": {
      "application/vnd.jupyter.widget-view+json": {
       "model_id": "669247a9d50e4a2e9eb30baac9c9b560",
       "version_major": 2,
       "version_minor": 0
      },
      "text/plain": [
       "HBox(children=(FloatProgress(value=1.0, bar_style='info', max=1.0), HTML(value='')))"
      ]
     },
     "metadata": {},
     "output_type": "display_data"
    },
    {
     "name": "stdout",
     "output_type": "stream",
     "text": [
      "\n",
      "No skeletons to stack so returning empty list\n",
      "len_subgraphs AT BEGINNING of the loop\n"
     ]
    },
    {
     "data": {
      "application/vnd.jupyter.widget-view+json": {
       "model_id": "b219acbff2774c5e894fd41c223ba119",
       "version_major": 2,
       "version_minor": 0
      },
      "text/plain": [
       "HBox(children=(FloatProgress(value=0.0, max=1.0), HTML(value='')))"
      ]
     },
     "metadata": {},
     "output_type": "display_data"
    },
    {
     "name": "stdout",
     "output_type": "stream",
     "text": [
      "all graph is one component!\n",
      "\n",
      "Total time for skeleton stitching = 0.025397777557373047\n",
      "The process was using a temp folder\n",
      "Checking connected components after skeletonize_connected_branch\n",
      "    Total time for skeletonizing branch: 7.611083507537842\n",
      "Checking connected components after removing cycles\n",
      "Total time for mesh KDTree = 0.0919797420501709\n",
      "sbv[0].reshape(-1,3) = [[422761.5 674131.5 630724.5]]\n",
      "closest_sk_pt_coord BEFORE = [423566. 673679. 630414.]\n",
      "current_skeleton.shape = (117, 2, 3)\n",
      "Current stitch point was a branch or endpoint\n",
      "change_status for create soma extending pieces = False\n",
      "closest_sk_pt_coord AFTER = [423566. 673679. 630414.]\n",
      "skipping soma 1 because closest skeleton node was already end node\n",
      "endpoints_must_keep = {1: array([[423566., 673679., 630414.]])}\n",
      "    Total time for Fixing Skeleton Soma Endpoint Extension : 0.14037251472473145\n",
      "filter_end_node_length = 4001\n",
      "Using Distance measure skeletal_distance\n",
      "endpoints_must_keep = [[423566. 673679. 630414.]]\n",
      "Number of end_nodes BEFORE filtering = 6\n",
      "all_single_nodes_to_eliminate = [0]\n"
     ]
    },
    {
     "data": {
      "application/vnd.jupyter.widget-view+json": {
       "model_id": "e65b09fcf66744c080e643810f82354c",
       "version_major": 2,
       "version_minor": 0
      },
      "text/plain": [
       "HBox(children=(FloatProgress(value=0.0, max=4.0), HTML(value='')))"
      ]
     },
     "metadata": {},
     "output_type": "display_data"
    },
    {
     "name": "stdout",
     "output_type": "stream",
     "text": [
      "\n",
      "Checking connected components after clean_skeleton\n",
      "after DISTANCE cleaning limb size of skeleton = (114, 2, 3)\n",
      "********COMBINING CLOSE SKELETON NODES WITHIN 700 DISTANCE**********\n",
      "Found 0 valid paths to replace\n",
      "valid_paths = []\n",
      "valid_path_lengths = []\n",
      "No valid paths found so just returning the original\n",
      "skeletonize_and_clean_connected_branch_CGAL: 7.851875066757202\n",
      "Working on limb correspondence for #0 MAP piece\n"
     ]
    },
    {
     "data": {
      "application/vnd.jupyter.widget-view+json": {
       "model_id": "e5263b871a76423b83069ce71dffe47f",
       "version_major": 2,
       "version_minor": 0
      },
      "text/plain": [
       "HBox(children=(FloatProgress(value=1.0, bar_style='info', max=1.0), HTML(value='')))"
      ]
     },
     "metadata": {},
     "output_type": "display_data"
    },
    {
     "name": "stdout",
     "output_type": "stream",
     "text": [
      "\n",
      "Total time for decomposition = 0.8585000038146973\n",
      "mesh_correspondence_first_pass: 0.8585295677185059\n",
      "Limb decomposed into 3 branches\n",
      "divided_skeleton_graph_recovered = (114, 2, 3) and \n",
      "current_mesh_data[0]['branch_skeletons_cleaned'].shape = (114, 2, 3)\n",
      "\n",
      "Number of connected components in deocmposed recovered graph = 1\n",
      "Number of connected components in cleaned skeleton graph= 1\n",
      "The downsampled branches number of connected components = 1\n",
      "Empty submeshes = []\n",
      "\n",
      "\n",
      "--- Working on 1-to-1 correspondence-----\n",
      "max(original_labels),len(original_labels) = (2, 3)\n",
      "empty_indices % = 0.07710750935072408\n",
      " conflict_indices % = 0.016399731466385344\n"
     ]
    },
    {
     "data": {
      "application/vnd.jupyter.widget-view+json": {
       "model_id": "3190cacbd41c43ee9d2f8f2ec9d2ba4a",
       "version_major": 2,
       "version_minor": 0
      },
      "text/plain": [
       "HBox(children=(FloatProgress(value=0.0, max=5.0), HTML(value='')))"
      ]
     },
     "metadata": {},
     "output_type": "display_data"
    },
    {
     "name": "stdout",
     "output_type": "stream",
     "text": [
      "\n",
      "AFTER face_lookup_resolved_test\n",
      "Took 0 iterations to expand the label back\n"
     ]
    },
    {
     "data": {
      "application/vnd.jupyter.widget-view+json": {
       "model_id": "b17d075f223146d193733cfaaabbaa80",
       "version_major": 2,
       "version_minor": 0
      },
      "text/plain": [
       "HBox(children=(FloatProgress(value=0.0, max=3.0), HTML(value='')))"
      ]
     },
     "metadata": {},
     "output_type": "display_data"
    },
    {
     "name": "stdout",
     "output_type": "stream",
     "text": [
      "\n",
      "Total time for MAP sublimb #0 mesh processing = 8.978229999542236\n",
      "correspondence_1_to_1: 0.2641775608062744\n",
      "Total time for MAP sublimb processing 8.978319883346558\n",
      "---- Working on MP Decomposition #0 ----\n",
      "MP filtering soma verts: 0.002591371536254883\n",
      "Do Not Need to Fix MP Decomposition 0 so just continuing\n",
      "---- Working on MP Decomposition #1 ----\n",
      "MP filtering soma verts: 0.0015897750854492188\n",
      "Do Not Need to Fix MP Decomposition 1 so just continuing\n",
      "\n",
      "---- Working on (0, 0) connection-----\n",
      "winning_vertex = [443557.11563327 692032.07936587 639147.08172291]\n",
      "MP_branches_with_stitch_point = [1, 2]\n",
      "Current stitch point was a branch or endpoint\n",
      "MAP_branches_with_stitch_point = [1]\n",
      "MAP_stitch_point_on_end_or_branch = True\n",
      "Found winning edge: [29, 30.0]\n",
      "Found winning edge: [25, 26.0]\n"
     ]
    },
    {
     "data": {
      "application/vnd.jupyter.widget-view+json": {
       "model_id": "1f895063c35c4491b3086d3c62d5cb8c",
       "version_major": 2,
       "version_minor": 0
      },
      "text/plain": [
       "HBox(children=(FloatProgress(value=1.0, bar_style='info', max=1.0), HTML(value='')))"
      ]
     },
     "metadata": {},
     "output_type": "display_data"
    },
    {
     "name": "stdout",
     "output_type": "stream",
     "text": [
      "\n",
      "\n",
      "\n",
      "--- Working on 1-to-1 correspondence-----\n",
      "max(original_labels),len(original_labels) = (2, 3)\n",
      "empty_indices % = 0.01410829607550919\n",
      " conflict_indices % = 0.008147044212617983\n"
     ]
    },
    {
     "data": {
      "application/vnd.jupyter.widget-view+json": {
       "model_id": "3a65e599951a44319843b5a8711572cb",
       "version_major": 2,
       "version_minor": 0
      },
      "text/plain": [
       "HBox(children=(FloatProgress(value=0.0, max=2.0), HTML(value='')))"
      ]
     },
     "metadata": {},
     "output_type": "display_data"
    },
    {
     "name": "stdout",
     "output_type": "stream",
     "text": [
      "\n",
      "AFTER face_lookup_resolved_test\n"
     ]
    },
    {
     "data": {
      "application/vnd.jupyter.widget-view+json": {
       "model_id": "1eb25842aa4347579433b5cb889cf737",
       "version_major": 2,
       "version_minor": 0
      },
      "text/plain": [
       "HBox(children=(FloatProgress(value=0.0, max=3.0), HTML(value='')))"
      ]
     },
     "metadata": {},
     "output_type": "display_data"
    },
    {
     "name": "stdout",
     "output_type": "stream",
     "text": [
      "\n",
      " Finished with (0, 0) \n",
      "\n",
      "\n",
      "\n",
      "\n",
      "---- Working on (1, 0) connection-----\n",
      "winning_vertex = [453579.64369207 679917.0430206  619156.28524879]\n",
      "MP_branches_with_stitch_point = [0, 3]\n",
      "Current stitch point was a branch or endpoint\n",
      "MAP_branches_with_stitch_point = [2]\n",
      "MAP_stitch_point_on_end_or_branch = True\n",
      "Found winning edge: [55, 56.0]\n",
      "Found winning edge: [58, 59.0]\n"
     ]
    },
    {
     "data": {
      "application/vnd.jupyter.widget-view+json": {
       "model_id": "d1d153e810f64232b6179583aa37cbee",
       "version_major": 2,
       "version_minor": 0
      },
      "text/plain": [
       "HBox(children=(FloatProgress(value=1.0, bar_style='info', max=1.0), HTML(value='')))"
      ]
     },
     "metadata": {},
     "output_type": "display_data"
    },
    {
     "name": "stdout",
     "output_type": "stream",
     "text": [
      "\n",
      "\n",
      "\n",
      "--- Working on 1-to-1 correspondence-----\n",
      "max(original_labels),len(original_labels) = (2, 3)\n",
      "empty_indices % = 0.047489606651742886\n",
      " conflict_indices % = 0.010313399424368404\n"
     ]
    },
    {
     "data": {
      "application/vnd.jupyter.widget-view+json": {
       "model_id": "13c8d7ab902f4205a108c48d5238a193",
       "version_major": 2,
       "version_minor": 0
      },
      "text/plain": [
       "HBox(children=(FloatProgress(value=0.0, max=5.0), HTML(value='')))"
      ]
     },
     "metadata": {},
     "output_type": "display_data"
    },
    {
     "name": "stdout",
     "output_type": "stream",
     "text": [
      "\n",
      "AFTER face_lookup_resolved_test\n"
     ]
    },
    {
     "data": {
      "application/vnd.jupyter.widget-view+json": {
       "model_id": "e219de95a0cc4f8c8ebc4e5dcbda5091",
       "version_major": 2,
       "version_minor": 0
      },
      "text/plain": [
       "HBox(children=(FloatProgress(value=0.0, max=3.0), HTML(value='')))"
      ]
     },
     "metadata": {},
     "output_type": "display_data"
    },
    {
     "name": "stdout",
     "output_type": "stream",
     "text": [
      "\n",
      " Finished with (1, 0) \n",
      "\n",
      "\n",
      "\n",
      "Time for decomp of Limb = 16.24357008934021\n",
      "\n",
      "\n",
      "----- Working on Proper Limb # 7 ---------\n",
      "Time for preparing soma vertices and root: 8.821487426757812e-06\n",
      "cc_vertex_thresh = 10\n"
     ]
    },
    {
     "name": "stderr",
     "output_type": "stream",
     "text": [
      "\r",
      "  0%|          | 0/1 [00:00<?, ?it/s]"
     ]
    },
    {
     "data": {
      "application/vnd.jupyter.widget-view+json": {
       "model_id": "ac3a61fe7bc941e4ba97c341b9023431",
       "version_major": 2,
       "version_minor": 0
      },
      "text/plain": [
       "HBox(children=(FloatProgress(value=0.0, max=22251.0), HTML(value='')))"
      ]
     },
     "metadata": {},
     "output_type": "display_data"
    },
    {
     "name": "stdout",
     "output_type": "stream",
     "text": [
      "\n"
     ]
    },
    {
     "name": "stderr",
     "output_type": "stream",
     "text": [
      "100%|██████████| 1/1 [00:00<00:00,  6.58it/s]\n"
     ]
    },
    {
     "name": "stdout",
     "output_type": "stream",
     "text": [
      "Time for 1st pass MP skeletonization: 0.40863466262817383\n",
      "branches_touching_root = [8]\n",
      "length of Graph = 1904\n",
      "max(kept_branches_idx) = 8, len(kept_branches_idx) = 9\n",
      "empty_indices % = 0.0\n",
      " conflict_indices % = 0.007373167981961668\n"
     ]
    },
    {
     "data": {
      "application/vnd.jupyter.widget-view+json": {
       "model_id": "a86e39b2b562458bb17c66b6df86ee11",
       "version_major": 2,
       "version_minor": 0
      },
      "text/plain": [
       "HBox(children=(FloatProgress(value=0.0, max=4.0), HTML(value='')))"
      ]
     },
     "metadata": {},
     "output_type": "display_data"
    },
    {
     "name": "stdout",
     "output_type": "stream",
     "text": [
      "\n",
      "AFTER face_lookup_resolved_test\n"
     ]
    },
    {
     "data": {
      "application/vnd.jupyter.widget-view+json": {
       "model_id": "afaee1ddcb3649eba57c2ee6192b7916",
       "version_major": 2,
       "version_minor": 0
      },
      "text/plain": [
       "HBox(children=(FloatProgress(value=0.0, max=9.0), HTML(value='')))"
      ]
     },
     "metadata": {},
     "output_type": "display_data"
    },
    {
     "name": "stdout",
     "output_type": "stream",
     "text": [
      "\n",
      "Decomposing first pass: 1.054760217666626\n",
      "Attempting to use MeshAfterParty Skeletonization and Mesh Correspondence\n",
      "Another print\n",
      "Found len(mesh_large_idx) MAP candidates: [5610, 2721]\n",
      "mesh_large_connectivity: 0.0021429061889648438\n",
      "Finding MAP candidates connected components: 7.891654968261719e-05\n",
      "len(filtered_pieces) = 1\n",
      "skeleton_connectivity_MP : 0.06350898742675781\n",
      "Grouping MP Sublimbs by Graph: 0.01816534996032715\n",
      "Divinding into MP and MAP pieces: 1.1920928955078125e-06\n",
      "--- Working on MAP piece 0---\n",
      "MAP Filtering Soma Pieces: 0.0021963119506835938\n",
      "inside skeletonize_connected_branch and use_surface_after_CGAL=False, surface_reconstruction_size=1000\n",
      "     Starting Screened Poisson\n",
      "xvfb-run -n 2212 -s \"-screen 0 800x600x24\" meshlabserver $@  -i /notebooks/Platinum_Decomp_Fusion/temp/None.off -o /notebooks/Platinum_Decomp_Fusion/temp/None_poisson.off -s /notebooks/Platinum_Decomp_Fusion/temp/poisson_371967.mls\n",
      "removed temporary input file: /notebooks/Platinum_Decomp_Fusion/temp/None.off\n",
      "removed temporary output file: /notebooks/Platinum_Decomp_Fusion/temp/None_poisson.off\n",
      "Using the close holes feature\n",
      "xvfb-run -n 7298 -s \"-screen 0 800x600x24\" meshlabserver $@  -i /notebooks/Platinum_Decomp_Fusion/temp/neuron_93002.off -o /notebooks/Platinum_Decomp_Fusion/temp/neuron_93002_fill_holes.off -s /notebooks/Platinum_Decomp_Fusion/temp/fill_holes_238819.mls\n",
      "removed temporary input file: /notebooks/Platinum_Decomp_Fusion/temp/neuron_93002.off\n",
      "removed temporary output file: /notebooks/Platinum_Decomp_Fusion/temp/neuron_93002_fill_holes.off\n",
      "-----Time for Screened Poisson= 6.90498685836792\n",
      "     Starting Calcification\n"
     ]
    },
    {
     "data": {
      "application/vnd.jupyter.widget-view+json": {
       "model_id": "d769bc634dcd4503950a0ed3d3c223da",
       "version_major": 2,
       "version_minor": 0
      },
      "text/plain": [
       "HBox(children=(FloatProgress(value=1.0, bar_style='info', max=1.0), HTML(value='')))"
      ]
     },
     "metadata": {},
     "output_type": "display_data"
    },
    {
     "name": "stdout",
     "output_type": "stream",
     "text": [
      "\n",
      "No skeletons to stack so returning empty list\n",
      "len_subgraphs AT BEGINNING of the loop\n"
     ]
    },
    {
     "data": {
      "application/vnd.jupyter.widget-view+json": {
       "model_id": "9e98b29fed1747258dbd12aca38fe552",
       "version_major": 2,
       "version_minor": 0
      },
      "text/plain": [
       "HBox(children=(FloatProgress(value=0.0, max=2.0), HTML(value='')))"
      ]
     },
     "metadata": {},
     "output_type": "display_data"
    },
    {
     "name": "stdout",
     "output_type": "stream",
     "text": [
      "all graph is one component!\n",
      "\n",
      "Total time for skeleton stitching = 0.02963995933532715\n",
      "The process was using a temp folder\n",
      "Checking connected components after skeletonize_connected_branch\n",
      "    Total time for skeletonizing branch: 7.612401485443115\n",
      "Checking connected components after removing cycles\n",
      "Total time for mesh KDTree = 0.08149170875549316\n",
      "sbv[0].reshape(-1,3) = [[347306.1 583720.9 602505.9]]\n",
      "closest_sk_pt_coord BEFORE = [347454. 586090. 603288.]\n",
      "current_skeleton.shape = (81, 2, 3)\n",
      "Current stitch point was a branch or endpoint\n",
      "change_status for create soma extending pieces = False\n",
      "closest_sk_pt_coord AFTER = [347454. 586090. 603288.]\n",
      "skipping soma 2 because closest skeleton node was already end node\n",
      "endpoints_must_keep = {2: array([[347454., 586090., 603288.]])}\n",
      "    Total time for Fixing Skeleton Soma Endpoint Extension : 0.11904072761535645\n",
      "filter_end_node_length = 4001\n",
      "Using Distance measure skeletal_distance\n",
      "endpoints_must_keep = [[347454. 586090. 603288.]]\n",
      "Number of end_nodes BEFORE filtering = 6\n",
      "all_single_nodes_to_eliminate = [0]\n"
     ]
    },
    {
     "data": {
      "application/vnd.jupyter.widget-view+json": {
       "model_id": "7a398e850c9b4c7eacf18548c14eb67e",
       "version_major": 2,
       "version_minor": 0
      },
      "text/plain": [
       "HBox(children=(FloatProgress(value=0.0, max=5.0), HTML(value='')))"
      ]
     },
     "metadata": {},
     "output_type": "display_data"
    },
    {
     "name": "stdout",
     "output_type": "stream",
     "text": [
      "\n",
      "Checking connected components after clean_skeleton\n",
      "after DISTANCE cleaning limb size of skeleton = (72, 2, 3)\n",
      "********COMBINING CLOSE SKELETON NODES WITHIN 700 DISTANCE**********\n",
      "Found 0 valid paths to replace\n",
      "valid_paths = []\n",
      "valid_path_lengths = []\n",
      "No valid paths found so just returning the original\n",
      "skeletonize_and_clean_connected_branch_CGAL: 7.807564735412598\n",
      "Working on limb correspondence for #0 MAP piece\n"
     ]
    },
    {
     "data": {
      "application/vnd.jupyter.widget-view+json": {
       "model_id": "0bb0c6ac031d4c72b074e5663187dc1a",
       "version_major": 2,
       "version_minor": 0
      },
      "text/plain": [
       "HBox(children=(FloatProgress(value=1.0, bar_style='info', max=1.0), HTML(value='')))"
      ]
     },
     "metadata": {},
     "output_type": "display_data"
    },
    {
     "name": "stdout",
     "output_type": "stream",
     "text": [
      "\n",
      "Total time for decomposition = 0.5469012260437012\n",
      "mesh_correspondence_first_pass: 0.546929121017456\n",
      "Limb decomposed into 1 branches\n",
      "divided_skeleton_graph_recovered = (72, 2, 3) and \n",
      "current_mesh_data[0]['branch_skeletons_cleaned'].shape = (72, 2, 3)\n",
      "\n",
      "Number of connected components in deocmposed recovered graph = 1\n",
      "Number of connected components in cleaned skeleton graph= 1\n",
      "The downsampled branches number of connected components = 1\n",
      "Empty submeshes = []\n",
      "\n",
      "\n",
      "--- Working on 1-to-1 correspondence-----\n",
      "max(original_labels),len(original_labels) = (0, 1)\n",
      "empty_indices % = 0.15568359140559357\n",
      " conflict_indices % = 0.0\n"
     ]
    },
    {
     "data": {
      "application/vnd.jupyter.widget-view+json": {
       "model_id": "caa90bc1a7e946c883be8aecd9baca8a",
       "version_major": 2,
       "version_minor": 0
      },
      "text/plain": [
       "HBox(children=(FloatProgress(value=0.0, max=6.0), HTML(value='')))"
      ]
     },
     "metadata": {},
     "output_type": "display_data"
    },
    {
     "name": "stdout",
     "output_type": "stream",
     "text": [
      "\n",
      "AFTER face_lookup_resolved_test\n",
      "Took 0 iterations to expand the label back\n"
     ]
    },
    {
     "data": {
      "application/vnd.jupyter.widget-view+json": {
       "model_id": "07ee1cfd3fd5476ab456e92e31376247",
       "version_major": 2,
       "version_minor": 0
      },
      "text/plain": [
       "HBox(children=(FloatProgress(value=0.0, max=1.0), HTML(value='')))"
      ]
     },
     "metadata": {},
     "output_type": "display_data"
    },
    {
     "name": "stdout",
     "output_type": "stream",
     "text": [
      "\n",
      "Total time for MAP sublimb #0 mesh processing = 8.568892240524292\n",
      "correspondence_1_to_1: 0.21216249465942383\n",
      "Total time for MAP sublimb processing 8.568974256515503\n",
      "---- Working on MP Decomposition #0 ----\n",
      "MP filtering soma verts: 0.0026161670684814453\n",
      "Do Not Need to Fix MP Decomposition 0 so just continuing\n",
      "---- Working on MP Decomposition #1 ----\n",
      "MP filtering soma verts: 0.0033376216888427734\n",
      "Do Not Need to Fix MP Decomposition 1 so just continuing\n",
      "\n",
      "---- Working on (0, 0) connection-----\n",
      "winning_vertex = [350598.97427842 594280.39392327 607811.04084944]\n",
      "MP_branches_with_stitch_point = [1]\n",
      "Current stitch point was not a branch or endpoint, shortest_path_length to one = 9980.323552550148\n",
      "MAP_branches_with_stitch_point = [0]\n",
      "MAP_stitch_point_on_end_or_branch = False\n",
      "Found winning edge: [199, 200.0]\n"
     ]
    },
    {
     "data": {
      "application/vnd.jupyter.widget-view+json": {
       "model_id": "8e732fe18f80490787bc910c1b12b375",
       "version_major": 2,
       "version_minor": 0
      },
      "text/plain": [
       "HBox(children=(FloatProgress(value=1.0, bar_style='info', max=1.0), HTML(value='')))"
      ]
     },
     "metadata": {},
     "output_type": "display_data"
    },
    {
     "name": "stdout",
     "output_type": "stream",
     "text": [
      "\n",
      "\n",
      "\n",
      "--- Working on 1-to-1 correspondence-----\n",
      "max(original_labels),len(original_labels) = (2, 3)\n",
      "empty_indices % = 0.1607973937325473\n",
      " conflict_indices % = 0.016366739062984796\n"
     ]
    },
    {
     "data": {
      "application/vnd.jupyter.widget-view+json": {
       "model_id": "e3667a9e95d6479590d49e607b75e448",
       "version_major": 2,
       "version_minor": 0
      },
      "text/plain": [
       "HBox(children=(FloatProgress(value=0.0, max=12.0), HTML(value='')))"
      ]
     },
     "metadata": {},
     "output_type": "display_data"
    },
    {
     "name": "stdout",
     "output_type": "stream",
     "text": [
      "\n",
      "AFTER face_lookup_resolved_test\n"
     ]
    },
    {
     "data": {
      "application/vnd.jupyter.widget-view+json": {
       "model_id": "46a4fbaeb6d14d01b4b96ae8bd5d2c45",
       "version_major": 2,
       "version_minor": 0
      },
      "text/plain": [
       "HBox(children=(FloatProgress(value=0.0, max=3.0), HTML(value='')))"
      ]
     },
     "metadata": {},
     "output_type": "display_data"
    },
    {
     "name": "stdout",
     "output_type": "stream",
     "text": [
      "\n",
      "Deleting branches from dictionary\n",
      " Finished with (0, 0) \n",
      "\n",
      "\n",
      "\n",
      "\n",
      "---- Working on (1, 0) connection-----\n",
      "winning_vertex = [371158.95569524 606851.87548753 608169.25497264]\n",
      "MP_branches_with_stitch_point = [0, 2]\n",
      "Current stitch point was a branch or endpoint\n",
      "MAP_branches_with_stitch_point = [1]\n",
      "MAP_stitch_point_on_end_or_branch = True\n",
      "Found winning edge: [30, 31.0]\n",
      "Found winning edge: [31, 32.0]\n"
     ]
    },
    {
     "data": {
      "application/vnd.jupyter.widget-view+json": {
       "model_id": "932e0edf829944e88efff69866e4598c",
       "version_major": 2,
       "version_minor": 0
      },
      "text/plain": [
       "HBox(children=(FloatProgress(value=1.0, bar_style='info', max=1.0), HTML(value='')))"
      ]
     },
     "metadata": {},
     "output_type": "display_data"
    },
    {
     "name": "stdout",
     "output_type": "stream",
     "text": [
      "\n",
      "\n",
      "\n",
      "--- Working on 1-to-1 correspondence-----\n",
      "max(original_labels),len(original_labels) = (2, 3)\n",
      "empty_indices % = 0.12559025764228315\n",
      " conflict_indices % = 0.002071079446607572\n"
     ]
    },
    {
     "data": {
      "application/vnd.jupyter.widget-view+json": {
       "model_id": "bedbe0ec342a47249ce66785f4fe1902",
       "version_major": 2,
       "version_minor": 0
      },
      "text/plain": [
       "HBox(children=(FloatProgress(value=0.0, max=11.0), HTML(value='')))"
      ]
     },
     "metadata": {},
     "output_type": "display_data"
    },
    {
     "name": "stdout",
     "output_type": "stream",
     "text": [
      "\n",
      "AFTER face_lookup_resolved_test\n"
     ]
    },
    {
     "data": {
      "application/vnd.jupyter.widget-view+json": {
       "model_id": "06d8952d4e744e02a1e228d2d802af34",
       "version_major": 2,
       "version_minor": 0
      },
      "text/plain": [
       "HBox(children=(FloatProgress(value=0.0, max=3.0), HTML(value='')))"
      ]
     },
     "metadata": {},
     "output_type": "display_data"
    },
    {
     "name": "stderr",
     "output_type": "stream",
     "text": [
      "\r",
      "  0%|          | 0/1 [00:00<?, ?it/s]"
     ]
    },
    {
     "name": "stdout",
     "output_type": "stream",
     "text": [
      "\n",
      " Finished with (1, 0) \n",
      "\n",
      "\n",
      "\n",
      "Time for decomp of Limb = 13.262529611587524\n",
      "\n",
      "\n",
      "----- Working on Proper Limb # 8 ---------\n",
      "Time for preparing soma vertices and root: 5.9604644775390625e-06\n",
      "cc_vertex_thresh = 10\n"
     ]
    },
    {
     "data": {
      "application/vnd.jupyter.widget-view+json": {
       "model_id": "ade25ed285704c2fa72152313d04affd",
       "version_major": 2,
       "version_minor": 0
      },
      "text/plain": [
       "HBox(children=(FloatProgress(value=0.0, max=15113.0), HTML(value='')))"
      ]
     },
     "metadata": {},
     "output_type": "display_data"
    },
    {
     "name": "stderr",
     "output_type": "stream",
     "text": [
      "100%|██████████| 1/1 [00:00<00:00,  8.67it/s]"
     ]
    },
    {
     "name": "stdout",
     "output_type": "stream",
     "text": [
      "\n"
     ]
    },
    {
     "name": "stderr",
     "output_type": "stream",
     "text": [
      "\n"
     ]
    },
    {
     "name": "stdout",
     "output_type": "stream",
     "text": [
      "Time for 1st pass MP skeletonization: 0.295360803604126\n",
      "branches_touching_root = [2]\n",
      "length of Graph = 1327\n",
      "Working on path [1069. 1074. 1078. 1081. 1085. 1088. 1091. 1092.]\n",
      "path_degrees = [3, 2, 2, 2, 2, 2, 2, 3]\n",
      "max(kept_branches_idx) = 8, len(kept_branches_idx) = 8\n",
      "empty_indices % = 0.0\n",
      " conflict_indices % = 0.012319371379103683\n"
     ]
    },
    {
     "data": {
      "application/vnd.jupyter.widget-view+json": {
       "model_id": "5b15ebd8817e4966a16b4c06ebf70a71",
       "version_major": 2,
       "version_minor": 0
      },
      "text/plain": [
       "HBox(children=(FloatProgress(value=0.0, max=4.0), HTML(value='')))"
      ]
     },
     "metadata": {},
     "output_type": "display_data"
    },
    {
     "name": "stdout",
     "output_type": "stream",
     "text": [
      "\n",
      "AFTER face_lookup_resolved_test\n"
     ]
    },
    {
     "data": {
      "application/vnd.jupyter.widget-view+json": {
       "model_id": "64841f33285f4120bac0c45ebb57826b",
       "version_major": 2,
       "version_minor": 0
      },
      "text/plain": [
       "HBox(children=(FloatProgress(value=0.0, max=8.0), HTML(value='')))"
      ]
     },
     "metadata": {},
     "output_type": "display_data"
    },
    {
     "name": "stdout",
     "output_type": "stream",
     "text": [
      "\n",
      "Decomposing first pass: 0.7801086902618408\n",
      "Attempting to use MeshAfterParty Skeletonization and Mesh Correspondence\n",
      "Another print\n",
      "Found len(mesh_large_idx) MAP candidates: [1530, 11652, 1657, 5876, 4529]\n",
      "mesh_large_connectivity: 0.01874852180480957\n",
      "Finding MAP candidates connected components: 0.00011897087097167969\n",
      "len(filtered_pieces) = 2\n",
      "skeleton_connectivity_MP : 0.022467613220214844\n",
      "Grouping MP Sublimbs by Graph: 0.003922939300537109\n",
      "Divinding into MP and MAP pieces: 9.5367431640625e-07\n",
      "--- Working on MAP piece 0---\n",
      "MAP Filtering Soma Pieces: 0.0011527538299560547\n",
      "inside skeletonize_connected_branch and use_surface_after_CGAL=False, surface_reconstruction_size=1000\n",
      "     Starting Screened Poisson\n",
      "xvfb-run -n 9284 -s \"-screen 0 800x600x24\" meshlabserver $@  -i /notebooks/Platinum_Decomp_Fusion/temp/None.off -o /notebooks/Platinum_Decomp_Fusion/temp/None_poisson.off -s /notebooks/Platinum_Decomp_Fusion/temp/poisson_418688.mls\n",
      "removed temporary input file: /notebooks/Platinum_Decomp_Fusion/temp/None.off\n",
      "removed temporary output file: /notebooks/Platinum_Decomp_Fusion/temp/None_poisson.off\n",
      "Using the close holes feature\n",
      "xvfb-run -n 5551 -s \"-screen 0 800x600x24\" meshlabserver $@  -i /notebooks/Platinum_Decomp_Fusion/temp/neuron_21096.off -o /notebooks/Platinum_Decomp_Fusion/temp/neuron_21096_fill_holes.off -s /notebooks/Platinum_Decomp_Fusion/temp/fill_holes_692243.mls\n",
      "removed temporary input file: /notebooks/Platinum_Decomp_Fusion/temp/neuron_21096.off\n",
      "removed temporary output file: /notebooks/Platinum_Decomp_Fusion/temp/neuron_21096_fill_holes.off\n",
      "-----Time for Screened Poisson= 9.485253095626831\n",
      "     Starting Calcification\n"
     ]
    },
    {
     "data": {
      "application/vnd.jupyter.widget-view+json": {
       "model_id": "5458c6d2edf14104b642c0ab1b961e7a",
       "version_major": 2,
       "version_minor": 0
      },
      "text/plain": [
       "HBox(children=(FloatProgress(value=1.0, bar_style='info', max=1.0), HTML(value='')))"
      ]
     },
     "metadata": {},
     "output_type": "display_data"
    },
    {
     "name": "stdout",
     "output_type": "stream",
     "text": [
      "\n",
      "No skeletons to stack so returning empty list\n",
      "len_subgraphs AT BEGINNING of the loop\n"
     ]
    },
    {
     "data": {
      "application/vnd.jupyter.widget-view+json": {
       "model_id": "345b98f4b747429b9318c7a3d2553902",
       "version_major": 2,
       "version_minor": 0
      },
      "text/plain": [
       "HBox(children=(FloatProgress(value=0.0, max=1.0), HTML(value='')))"
      ]
     },
     "metadata": {},
     "output_type": "display_data"
    },
    {
     "name": "stdout",
     "output_type": "stream",
     "text": [
      "all graph is one component!\n",
      "\n",
      "Total time for skeleton stitching = 0.026234865188598633\n",
      "The process was using a temp folder\n",
      "Checking connected components after skeletonize_connected_branch\n",
      "    Total time for skeletonizing branch: 10.564638137817383\n",
      "Checking connected components after removing cycles\n",
      "Total time for mesh KDTree = 0.13924050331115723\n",
      "sbv[0].reshape(-1,3) = [[346420.6 581970.  604793.2]]\n",
      "closest_sk_pt_coord BEFORE = [348000. 582771. 605997.]\n",
      "current_skeleton.shape = (178, 2, 3)\n",
      "Current stitch point was a branch or endpoint\n",
      "change_status for create soma extending pieces = False\n",
      "closest_sk_pt_coord AFTER = [348000. 582771. 605997.]\n",
      "skipping soma 2 because closest skeleton node was already end node\n",
      "endpoints_must_keep = {2: array([[348000., 582771., 605997.]])}\n",
      "    Total time for Fixing Skeleton Soma Endpoint Extension : 0.20724964141845703\n",
      "filter_end_node_length = 4001\n",
      "Using Distance measure skeletal_distance\n",
      "endpoints_must_keep = [[348000. 582771. 605997.]]\n",
      "Number of end_nodes BEFORE filtering = 7\n",
      "all_single_nodes_to_eliminate = [6]\n"
     ]
    },
    {
     "data": {
      "application/vnd.jupyter.widget-view+json": {
       "model_id": "e2c644f15bbc40b3940374faadcebc66",
       "version_major": 2,
       "version_minor": 0
      },
      "text/plain": [
       "HBox(children=(FloatProgress(value=0.0, max=5.0), HTML(value='')))"
      ]
     },
     "metadata": {},
     "output_type": "display_data"
    },
    {
     "name": "stdout",
     "output_type": "stream",
     "text": [
      "\n",
      "Checking connected components after clean_skeleton\n",
      "after DISTANCE cleaning limb size of skeleton = (174, 2, 3)\n",
      "********COMBINING CLOSE SKELETON NODES WITHIN 700 DISTANCE**********\n",
      "Found 0 valid paths to replace\n",
      "valid_paths = []\n",
      "valid_path_lengths = []\n",
      "No valid paths found so just returning the original\n",
      "skeletonize_and_clean_connected_branch_CGAL: 10.898964166641235\n",
      "Working on limb correspondence for #0 MAP piece\n"
     ]
    },
    {
     "data": {
      "application/vnd.jupyter.widget-view+json": {
       "model_id": "61bee7ecf5d143889382fafc484b3932",
       "version_major": 2,
       "version_minor": 0
      },
      "text/plain": [
       "HBox(children=(FloatProgress(value=1.0, bar_style='info', max=1.0), HTML(value='')))"
      ]
     },
     "metadata": {},
     "output_type": "display_data"
    },
    {
     "name": "stdout",
     "output_type": "stream",
     "text": [
      "\n",
      "Total time for decomposition = 1.3270971775054932\n",
      "mesh_correspondence_first_pass: 1.3271310329437256\n",
      "Limb decomposed into 3 branches\n",
      "divided_skeleton_graph_recovered = (174, 2, 3) and \n",
      "current_mesh_data[0]['branch_skeletons_cleaned'].shape = (174, 2, 3)\n",
      "\n",
      "Number of connected components in deocmposed recovered graph = 1\n",
      "Number of connected components in cleaned skeleton graph= 1\n",
      "The downsampled branches number of connected components = 1\n",
      "Empty submeshes = []\n",
      "\n",
      "\n",
      "--- Working on 1-to-1 correspondence-----\n",
      "max(original_labels),len(original_labels) = (2, 3)\n",
      "empty_indices % = 0.10832300702189178\n",
      " conflict_indices % = 0.01399215200330442\n"
     ]
    },
    {
     "data": {
      "application/vnd.jupyter.widget-view+json": {
       "model_id": "cfe5d62bff0b4a4684d095bb5fb11dfa",
       "version_major": 2,
       "version_minor": 0
      },
      "text/plain": [
       "HBox(children=(FloatProgress(value=0.0, max=19.0), HTML(value='')))"
      ]
     },
     "metadata": {},
     "output_type": "display_data"
    },
    {
     "name": "stdout",
     "output_type": "stream",
     "text": [
      "\n",
      "AFTER face_lookup_resolved_test\n",
      "Took 0 iterations to expand the label back\n"
     ]
    },
    {
     "data": {
      "application/vnd.jupyter.widget-view+json": {
       "model_id": "234b02c6909946a191139f60a17d1264",
       "version_major": 2,
       "version_minor": 0
      },
      "text/plain": [
       "HBox(children=(FloatProgress(value=0.0, max=3.0), HTML(value='')))"
      ]
     },
     "metadata": {},
     "output_type": "display_data"
    },
    {
     "name": "stdout",
     "output_type": "stream",
     "text": [
      "\n",
      "Total time for MAP sublimb #0 mesh processing = 12.66473650932312\n",
      "correspondence_1_to_1: 0.43744659423828125\n",
      "--- Working on MAP piece 1---\n",
      "MAP Filtering Soma Pieces: 0.0005676746368408203\n",
      "inside skeletonize_connected_branch and use_surface_after_CGAL=False, surface_reconstruction_size=1000\n",
      "     Starting Screened Poisson\n",
      "xvfb-run -n 7012 -s \"-screen 0 800x600x24\" meshlabserver $@  -i /notebooks/Platinum_Decomp_Fusion/temp/None.off -o /notebooks/Platinum_Decomp_Fusion/temp/None_poisson.off -s /notebooks/Platinum_Decomp_Fusion/temp/poisson_405324.mls\n",
      "removed temporary input file: /notebooks/Platinum_Decomp_Fusion/temp/None.off\n",
      "removed temporary output file: /notebooks/Platinum_Decomp_Fusion/temp/None_poisson.off\n",
      "Using the close holes feature\n",
      "xvfb-run -n 5854 -s \"-screen 0 800x600x24\" meshlabserver $@  -i /notebooks/Platinum_Decomp_Fusion/temp/neuron_10288.off -o /notebooks/Platinum_Decomp_Fusion/temp/neuron_10288_fill_holes.off -s /notebooks/Platinum_Decomp_Fusion/temp/fill_holes_418724.mls\n",
      "removed temporary input file: /notebooks/Platinum_Decomp_Fusion/temp/neuron_10288.off\n",
      "removed temporary output file: /notebooks/Platinum_Decomp_Fusion/temp/neuron_10288_fill_holes.off\n",
      "-----Time for Screened Poisson= 6.072651147842407\n",
      "     Starting Calcification\n"
     ]
    },
    {
     "data": {
      "application/vnd.jupyter.widget-view+json": {
       "model_id": "0708889cd1124cfe97a824d69838df05",
       "version_major": 2,
       "version_minor": 0
      },
      "text/plain": [
       "HBox(children=(FloatProgress(value=1.0, bar_style='info', max=1.0), HTML(value='')))"
      ]
     },
     "metadata": {},
     "output_type": "display_data"
    },
    {
     "name": "stdout",
     "output_type": "stream",
     "text": [
      "\n",
      "No skeletons to stack so returning empty list\n",
      "len_subgraphs AT BEGINNING of the loop\n"
     ]
    },
    {
     "data": {
      "application/vnd.jupyter.widget-view+json": {
       "model_id": "1742870ff3134464be238b4d5be06591",
       "version_major": 2,
       "version_minor": 0
      },
      "text/plain": [
       "HBox(children=(FloatProgress(value=0.0, max=1.0), HTML(value='')))"
      ]
     },
     "metadata": {},
     "output_type": "display_data"
    },
    {
     "name": "stdout",
     "output_type": "stream",
     "text": [
      "all graph is one component!\n",
      "\n",
      "Total time for skeleton stitching = 0.022389650344848633\n",
      "The process was using a temp folder\n",
      "Checking connected components after skeletonize_connected_branch\n",
      "    Total time for skeletonizing branch: 6.384038686752319\n",
      "Checking connected components after removing cycles\n",
      "    Total time for Fixing Skeleton Soma Endpoint Extension : 0.002890348434448242\n",
      "filter_end_node_length = 4001\n",
      "Using Distance measure skeletal_distance\n",
      "no small end nodes to get rid of so returning whole skeleton\n",
      "Checking connected components after clean_skeleton\n",
      "after DISTANCE cleaning limb size of skeleton = (53, 2, 3)\n",
      "********COMBINING CLOSE SKELETON NODES WITHIN 700 DISTANCE**********\n",
      "Found 0 valid paths to replace\n",
      "valid_paths = []\n",
      "valid_path_lengths = []\n",
      "No valid paths found so just returning the original\n",
      "Inside MAP decomposition and curr_limb_endpoints_must_keep was None\n",
      "skeletonize_and_clean_connected_branch_CGAL: 6.422024488449097\n",
      "Working on limb correspondence for #1 MAP piece\n"
     ]
    },
    {
     "data": {
      "application/vnd.jupyter.widget-view+json": {
       "model_id": "dc79703fc99945c88edad5338293e731",
       "version_major": 2,
       "version_minor": 0
      },
      "text/plain": [
       "HBox(children=(FloatProgress(value=1.0, bar_style='info', max=1.0), HTML(value='')))"
      ]
     },
     "metadata": {},
     "output_type": "display_data"
    },
    {
     "name": "stdout",
     "output_type": "stream",
     "text": [
      "\n",
      "Total time for decomposition = 0.39742350578308105\n",
      "mesh_correspondence_first_pass: 0.39745402336120605\n",
      "Limb decomposed into 1 branches\n",
      "divided_skeleton_graph_recovered = (53, 2, 3) and \n",
      "current_mesh_data[0]['branch_skeletons_cleaned'].shape = (53, 2, 3)\n",
      "\n",
      "Number of connected components in deocmposed recovered graph = 1\n",
      "Number of connected components in cleaned skeleton graph= 1\n",
      "The downsampled branches number of connected components = 1\n",
      "Empty submeshes = []\n",
      "\n",
      "\n",
      "--- Working on 1-to-1 correspondence-----\n",
      "max(original_labels),len(original_labels) = (0, 1)\n",
      "empty_indices % = 0.20064669843430905\n",
      " conflict_indices % = 0.0\n"
     ]
    },
    {
     "data": {
      "application/vnd.jupyter.widget-view+json": {
       "model_id": "262fb7ae857b4e20ab1aef24b97946f1",
       "version_major": 2,
       "version_minor": 0
      },
      "text/plain": [
       "HBox(children=(FloatProgress(value=0.0, max=9.0), HTML(value='')))"
      ]
     },
     "metadata": {},
     "output_type": "display_data"
    },
    {
     "name": "stdout",
     "output_type": "stream",
     "text": [
      "\n",
      "AFTER face_lookup_resolved_test\n"
     ]
    },
    {
     "data": {
      "application/vnd.jupyter.widget-view+json": {
       "model_id": "a8d500b11c574150a6d5e7bbb7dcf268",
       "version_major": 2,
       "version_minor": 0
      },
      "text/plain": [
       "HBox(children=(FloatProgress(value=0.0, max=1.0), HTML(value='')))"
      ]
     },
     "metadata": {},
     "output_type": "display_data"
    },
    {
     "name": "stdout",
     "output_type": "stream",
     "text": [
      "\n",
      "Total time for MAP sublimb #1 mesh processing = 6.9656665325164795\n",
      "correspondence_1_to_1: 0.14560365676879883\n",
      "Total time for MAP sublimb processing 19.630592584609985\n",
      "---- Working on MP Decomposition #0 ----\n",
      "MP filtering soma verts: 0.002655029296875\n",
      "Do Not Need to Fix MP Decomposition 0 so just continuing\n",
      "\n",
      "---- Working on (0, 0) connection-----\n",
      "winning_vertex = [349003.99279559 585327.61283421 609224.69218826]\n",
      "MP_branches_with_stitch_point = [1]\n",
      "Current stitch point was not a branch or endpoint, shortest_path_length to one = 4116.496474409804\n",
      "MAP_branches_with_stitch_point = [2]\n",
      "MAP_stitch_point_on_end_or_branch = False\n",
      "Found winning edge: [21, 22.0]\n"
     ]
    },
    {
     "data": {
      "application/vnd.jupyter.widget-view+json": {
       "model_id": "2fd9829bf38847908abad43341670fd7",
       "version_major": 2,
       "version_minor": 0
      },
      "text/plain": [
       "HBox(children=(FloatProgress(value=1.0, bar_style='info', max=1.0), HTML(value='')))"
      ]
     },
     "metadata": {},
     "output_type": "display_data"
    },
    {
     "name": "stdout",
     "output_type": "stream",
     "text": [
      "\n",
      "\n",
      "\n",
      "--- Working on 1-to-1 correspondence-----\n",
      "max(original_labels),len(original_labels) = (2, 3)\n",
      "empty_indices % = 0.1184787219001838\n",
      " conflict_indices % = 0.031811112682030254\n"
     ]
    },
    {
     "data": {
      "application/vnd.jupyter.widget-view+json": {
       "model_id": "4b0f1c60bb444d3fb0f24c7dbc70bf5f",
       "version_major": 2,
       "version_minor": 0
      },
      "text/plain": [
       "HBox(children=(FloatProgress(value=0.0, max=4.0), HTML(value='')))"
      ]
     },
     "metadata": {},
     "output_type": "display_data"
    },
    {
     "name": "stdout",
     "output_type": "stream",
     "text": [
      "\n",
      "AFTER face_lookup_resolved_test\n"
     ]
    },
    {
     "data": {
      "application/vnd.jupyter.widget-view+json": {
       "model_id": "a22d09097cd44bcd91215f0fa49cb358",
       "version_major": 2,
       "version_minor": 0
      },
      "text/plain": [
       "HBox(children=(FloatProgress(value=0.0, max=3.0), HTML(value='')))"
      ]
     },
     "metadata": {},
     "output_type": "display_data"
    },
    {
     "name": "stdout",
     "output_type": "stream",
     "text": [
      "\n",
      "Deleting branches from dictionary\n",
      " Finished with (0, 0) \n",
      "\n",
      "\n",
      "\n",
      "\n",
      "---- Working on (0, 1) connection-----\n",
      "winning_vertex = [353853.911342   603857.31419501 621269.58825153]\n",
      "MP_branches_with_stitch_point = [0, 1, 2]\n",
      "Current stitch point was a branch or endpoint\n",
      "MAP_branches_with_stitch_point = [0]\n",
      "MAP_stitch_point_on_end_or_branch = True\n",
      "Found winning edge: [22, 23.0]\n",
      "Found winning edge: [199, 200.0]\n",
      "Found winning edge: [27, 29.0]\n"
     ]
    },
    {
     "data": {
      "application/vnd.jupyter.widget-view+json": {
       "model_id": "927aa8e286234aa48250f1ef3a2b8708",
       "version_major": 2,
       "version_minor": 0
      },
      "text/plain": [
       "HBox(children=(FloatProgress(value=1.0, bar_style='info', max=1.0), HTML(value='')))"
      ]
     },
     "metadata": {},
     "output_type": "display_data"
    },
    {
     "name": "stdout",
     "output_type": "stream",
     "text": [
      "\n",
      "\n",
      "\n",
      "--- Working on 1-to-1 correspondence-----\n",
      "max(original_labels),len(original_labels) = (3, 4)\n",
      "empty_indices % = 0.18403171007927518\n",
      " conflict_indices % = 0.003114382785956965\n"
     ]
    },
    {
     "data": {
      "application/vnd.jupyter.widget-view+json": {
       "model_id": "ee451499a5eb4493b9258101b49cd9d2",
       "version_major": 2,
       "version_minor": 0
      },
      "text/plain": [
       "HBox(children=(FloatProgress(value=0.0, max=12.0), HTML(value='')))"
      ]
     },
     "metadata": {},
     "output_type": "display_data"
    },
    {
     "name": "stdout",
     "output_type": "stream",
     "text": [
      "\n",
      "AFTER face_lookup_resolved_test\n"
     ]
    },
    {
     "data": {
      "application/vnd.jupyter.widget-view+json": {
       "model_id": "97699e303ea04ac095127c4284c5dcfd",
       "version_major": 2,
       "version_minor": 0
      },
      "text/plain": [
       "HBox(children=(FloatProgress(value=0.0, max=4.0), HTML(value='')))"
      ]
     },
     "metadata": {},
     "output_type": "display_data"
    },
    {
     "name": "stderr",
     "output_type": "stream",
     "text": [
      "\r",
      "  0%|          | 0/1 [00:00<?, ?it/s]"
     ]
    },
    {
     "name": "stdout",
     "output_type": "stream",
     "text": [
      "\n",
      " Finished with (0, 1) \n",
      "\n",
      "\n",
      "\n",
      "Time for decomp of Limb = 23.455565214157104\n",
      "\n",
      "\n",
      "----- Working on Proper Limb # 9 ---------\n",
      "Time for preparing soma vertices and root: 6.4373016357421875e-06\n",
      "cc_vertex_thresh = 10\n"
     ]
    },
    {
     "data": {
      "application/vnd.jupyter.widget-view+json": {
       "model_id": "0c367215cb654e58b9edbee4bf5a2a84",
       "version_major": 2,
       "version_minor": 0
      },
      "text/plain": [
       "HBox(children=(FloatProgress(value=0.0, max=4798.0), HTML(value='')))"
      ]
     },
     "metadata": {},
     "output_type": "display_data"
    },
    {
     "name": "stderr",
     "output_type": "stream",
     "text": [
      "\r",
      "100%|██████████| 1/1 [00:00<00:00, 16.00it/s]"
     ]
    },
    {
     "name": "stdout",
     "output_type": "stream",
     "text": [
      "\n",
      "Time for 1st pass MP skeletonization: 0.1450960636138916\n",
      "branches_touching_root = [1]\n"
     ]
    },
    {
     "name": "stderr",
     "output_type": "stream",
     "text": [
      "\n"
     ]
    },
    {
     "name": "stdout",
     "output_type": "stream",
     "text": [
      "length of Graph = 388\n",
      "max(kept_branches_idx) = 2, len(kept_branches_idx) = 3\n",
      "empty_indices % = 0.0\n",
      " conflict_indices % = 0.01125368111064367\n"
     ]
    },
    {
     "data": {
      "application/vnd.jupyter.widget-view+json": {
       "model_id": "2a893a439cee443c9a48c710aa641234",
       "version_major": 2,
       "version_minor": 0
      },
      "text/plain": [
       "HBox(children=(FloatProgress(value=0.0, max=1.0), HTML(value='')))"
      ]
     },
     "metadata": {},
     "output_type": "display_data"
    },
    {
     "name": "stdout",
     "output_type": "stream",
     "text": [
      "\n",
      "AFTER face_lookup_resolved_test\n"
     ]
    },
    {
     "data": {
      "application/vnd.jupyter.widget-view+json": {
       "model_id": "2e7752be0f824c209a0d2920ec5c8024",
       "version_major": 2,
       "version_minor": 0
      },
      "text/plain": [
       "HBox(children=(FloatProgress(value=0.0, max=3.0), HTML(value='')))"
      ]
     },
     "metadata": {},
     "output_type": "display_data"
    },
    {
     "name": "stdout",
     "output_type": "stream",
     "text": [
      "\n",
      "Decomposing first pass: 1.5604448318481445\n",
      "Attempting to use MeshAfterParty Skeletonization and Mesh Correspondence\n",
      "Another print\n",
      "Found len(mesh_large_idx) MAP candidates: [3703, 2759]\n",
      "mesh_large_connectivity: 0.0025942325592041016\n",
      "Finding MAP candidates connected components: 8.96453857421875e-05\n",
      "len(filtered_pieces) = 1\n",
      "skeleton_connectivity_MP : 0.009977340698242188\n",
      "Grouping MP Sublimbs by Graph: 0.0023298263549804688\n",
      "Divinding into MP and MAP pieces: 9.5367431640625e-07\n",
      "--- Working on MAP piece 0---\n",
      "MAP Filtering Soma Pieces: 0.0034880638122558594\n",
      "inside skeletonize_connected_branch and use_surface_after_CGAL=False, surface_reconstruction_size=1000\n",
      "     Starting Screened Poisson\n",
      "xvfb-run -n 1925 -s \"-screen 0 800x600x24\" meshlabserver $@  -i /notebooks/Platinum_Decomp_Fusion/temp/None.off -o /notebooks/Platinum_Decomp_Fusion/temp/None_poisson.off -s /notebooks/Platinum_Decomp_Fusion/temp/poisson_831393.mls\n",
      "removed temporary input file: /notebooks/Platinum_Decomp_Fusion/temp/None.off\n",
      "removed temporary output file: /notebooks/Platinum_Decomp_Fusion/temp/None_poisson.off\n",
      "Using the close holes feature\n",
      "xvfb-run -n 8263 -s \"-screen 0 800x600x24\" meshlabserver $@  -i /notebooks/Platinum_Decomp_Fusion/temp/neuron_85348.off -o /notebooks/Platinum_Decomp_Fusion/temp/neuron_85348_fill_holes.off -s /notebooks/Platinum_Decomp_Fusion/temp/fill_holes_612129.mls\n",
      "removed temporary input file: /notebooks/Platinum_Decomp_Fusion/temp/neuron_85348.off\n",
      "removed temporary output file: /notebooks/Platinum_Decomp_Fusion/temp/neuron_85348_fill_holes.off\n",
      "-----Time for Screened Poisson= 6.257181644439697\n",
      "     Starting Calcification\n"
     ]
    },
    {
     "data": {
      "application/vnd.jupyter.widget-view+json": {
       "model_id": "d564679a38ef4652aaf760997bbf429e",
       "version_major": 2,
       "version_minor": 0
      },
      "text/plain": [
       "HBox(children=(FloatProgress(value=1.0, bar_style='info', max=1.0), HTML(value='')))"
      ]
     },
     "metadata": {},
     "output_type": "display_data"
    },
    {
     "name": "stdout",
     "output_type": "stream",
     "text": [
      "\n",
      "No skeletons to stack so returning empty list\n",
      "len_subgraphs AT BEGINNING of the loop\n"
     ]
    },
    {
     "data": {
      "application/vnd.jupyter.widget-view+json": {
       "model_id": "435e86f69b974547b7b1dc5083d343dc",
       "version_major": 2,
       "version_minor": 0
      },
      "text/plain": [
       "HBox(children=(FloatProgress(value=0.0, max=1.0), HTML(value='')))"
      ]
     },
     "metadata": {},
     "output_type": "display_data"
    },
    {
     "name": "stdout",
     "output_type": "stream",
     "text": [
      "all graph is one component!\n",
      "\n",
      "Total time for skeleton stitching = 0.022144079208374023\n",
      "The process was using a temp folder\n",
      "Checking connected components after skeletonize_connected_branch\n",
      "    Total time for skeletonizing branch: 6.74784255027771\n",
      "Checking connected components after removing cycles\n",
      "Total time for mesh KDTree = 0.06609702110290527\n",
      "sbv[0].reshape(-1,3) = [[337720.1 576288.8 601098.4]]\n",
      "closest_sk_pt_coord BEFORE = [336257. 575919. 602135.]\n",
      "current_skeleton.shape = (46, 2, 3)\n",
      "Current stitch point was a branch or endpoint\n",
      "change_status for create soma extending pieces = False\n",
      "closest_sk_pt_coord AFTER = [336257. 575919. 602135.]\n",
      "skipping soma 2 because closest skeleton node was already end node\n",
      "endpoints_must_keep = {2: array([[336257., 575919., 602135.]])}\n",
      "    Total time for Fixing Skeleton Soma Endpoint Extension : 0.11387777328491211\n",
      "filter_end_node_length = 4001\n",
      "Using Distance measure skeletal_distance\n",
      "endpoints_must_keep = [[336257. 575919. 602135.]]\n",
      "Number of end_nodes BEFORE filtering = 2\n",
      "all_single_nodes_to_eliminate = [1]\n",
      "no small end nodes to get rid of so returning whole skeleton\n",
      "Checking connected components after clean_skeleton\n",
      "after DISTANCE cleaning limb size of skeleton = (46, 2, 3)\n",
      "********COMBINING CLOSE SKELETON NODES WITHIN 700 DISTANCE**********\n",
      "Found 0 valid paths to replace\n",
      "valid_paths = []\n",
      "valid_path_lengths = []\n",
      "No valid paths found so just returning the original\n",
      "skeletonize_and_clean_connected_branch_CGAL: 6.893006086349487\n",
      "Working on limb correspondence for #0 MAP piece\n"
     ]
    },
    {
     "data": {
      "application/vnd.jupyter.widget-view+json": {
       "model_id": "07be1b8fa972439fb5104f7287237f35",
       "version_major": 2,
       "version_minor": 0
      },
      "text/plain": [
       "HBox(children=(FloatProgress(value=1.0, bar_style='info', max=1.0), HTML(value='')))"
      ]
     },
     "metadata": {},
     "output_type": "display_data"
    },
    {
     "name": "stdout",
     "output_type": "stream",
     "text": [
      "\n",
      "Total time for decomposition = 0.32608675956726074\n",
      "mesh_correspondence_first_pass: 0.3261537551879883\n",
      "Limb decomposed into 1 branches\n",
      "divided_skeleton_graph_recovered = (46, 2, 3) and \n",
      "current_mesh_data[0]['branch_skeletons_cleaned'].shape = (46, 2, 3)\n",
      "\n",
      "Number of connected components in deocmposed recovered graph = 1\n",
      "Number of connected components in cleaned skeleton graph= 1\n",
      "The downsampled branches number of connected components = 1\n",
      "Empty submeshes = []\n",
      "\n",
      "\n",
      "--- Working on 1-to-1 correspondence-----\n",
      "max(original_labels),len(original_labels) = (0, 1)\n",
      "empty_indices % = 0.20133085731971526\n",
      " conflict_indices % = 0.0\n"
     ]
    },
    {
     "data": {
      "application/vnd.jupyter.widget-view+json": {
       "model_id": "b9c4472aa0624d87b0ac0b048d31ba3c",
       "version_major": 2,
       "version_minor": 0
      },
      "text/plain": [
       "HBox(children=(FloatProgress(value=0.0, max=6.0), HTML(value='')))"
      ]
     },
     "metadata": {},
     "output_type": "display_data"
    },
    {
     "name": "stdout",
     "output_type": "stream",
     "text": [
      "\n",
      "AFTER face_lookup_resolved_test\n",
      "Took 0 iterations to expand the label back\n"
     ]
    },
    {
     "data": {
      "application/vnd.jupyter.widget-view+json": {
       "model_id": "980fe6c34be4423fb58fec1f59b2f498",
       "version_major": 2,
       "version_minor": 0
      },
      "text/plain": [
       "HBox(children=(FloatProgress(value=0.0, max=1.0), HTML(value='')))"
      ]
     },
     "metadata": {},
     "output_type": "display_data"
    },
    {
     "name": "stdout",
     "output_type": "stream",
     "text": [
      "\n",
      "Total time for MAP sublimb #0 mesh processing = 7.403786897659302\n",
      "correspondence_1_to_1: 0.18109965324401855\n",
      "Total time for MAP sublimb processing 7.40386438369751\n",
      "---- Working on MP Decomposition #0 ----\n",
      "MP filtering soma verts: 0.0018520355224609375\n",
      "Do Not Need to Fix MP Decomposition 0 so just continuing\n",
      "\n",
      "---- Working on (0, 0) connection-----\n",
      "winning_vertex = [333860.00727413 576351.9201724  606553.40651284]\n",
      "MP_branches_with_stitch_point = [0]\n",
      "Current stitch point was not a branch or endpoint, shortest_path_length to one = 4994.001939933741\n",
      "MAP_branches_with_stitch_point = [0]\n",
      "MAP_stitch_point_on_end_or_branch = False\n",
      "Found winning edge: [156, 157.0]\n"
     ]
    },
    {
     "data": {
      "application/vnd.jupyter.widget-view+json": {
       "model_id": "78d75e61060e45c4914e550344ae8f84",
       "version_major": 2,
       "version_minor": 0
      },
      "text/plain": [
       "HBox(children=(FloatProgress(value=1.0, bar_style='info', max=1.0), HTML(value='')))"
      ]
     },
     "metadata": {},
     "output_type": "display_data"
    },
    {
     "name": "stdout",
     "output_type": "stream",
     "text": [
      "\n",
      "\n",
      "\n",
      "--- Working on 1-to-1 correspondence-----\n",
      "max(original_labels),len(original_labels) = (2, 3)\n",
      "empty_indices % = 0.16607067732435843\n",
      " conflict_indices % = 0.026503996634413125\n"
     ]
    },
    {
     "data": {
      "application/vnd.jupyter.widget-view+json": {
       "model_id": "22d812ffa4b44818b9b41cf394b7b64a",
       "version_major": 2,
       "version_minor": 0
      },
      "text/plain": [
       "HBox(children=(FloatProgress(value=0.0, max=8.0), HTML(value='')))"
      ]
     },
     "metadata": {},
     "output_type": "display_data"
    },
    {
     "name": "stdout",
     "output_type": "stream",
     "text": [
      "\n",
      "AFTER face_lookup_resolved_test\n"
     ]
    },
    {
     "data": {
      "application/vnd.jupyter.widget-view+json": {
       "model_id": "0a8d490c85b24846affc7f98509647e8",
       "version_major": 2,
       "version_minor": 0
      },
      "text/plain": [
       "HBox(children=(FloatProgress(value=0.0, max=3.0), HTML(value='')))"
      ]
     },
     "metadata": {},
     "output_type": "display_data"
    },
    {
     "name": "stderr",
     "output_type": "stream",
     "text": [
      "\r",
      "  0%|          | 0/1 [00:00<?, ?it/s]"
     ]
    },
    {
     "name": "stdout",
     "output_type": "stream",
     "text": [
      "\n",
      "Deleting branches from dictionary\n",
      " Finished with (0, 0) \n",
      "\n",
      "\n",
      "\n",
      "Time for decomp of Limb = 10.14542031288147\n",
      "\n",
      "\n",
      "----- Working on Proper Limb # 10 ---------\n",
      "Time for preparing soma vertices and root: 1.049041748046875e-05\n",
      "cc_vertex_thresh = 10\n"
     ]
    },
    {
     "data": {
      "application/vnd.jupyter.widget-view+json": {
       "model_id": "f479864c81b344f0b04b54b635a05e72",
       "version_major": 2,
       "version_minor": 0
      },
      "text/plain": [
       "HBox(children=(FloatProgress(value=0.0, max=3063.0), HTML(value='')))"
      ]
     },
     "metadata": {},
     "output_type": "display_data"
    },
    {
     "name": "stderr",
     "output_type": "stream",
     "text": [
      "\r",
      "100%|██████████| 1/1 [00:00<00:00, 19.31it/s]"
     ]
    },
    {
     "name": "stdout",
     "output_type": "stream",
     "text": [
      "\n",
      "Time for 1st pass MP skeletonization: 0.11912941932678223\n",
      "branches_touching_root = [0]\n",
      "length of Graph = 91\n",
      "max(kept_branches_idx) = 0, len(kept_branches_idx) = 1\n",
      "empty_indices % = 0.0\n",
      " conflict_indices % = 0.0\n"
     ]
    },
    {
     "name": "stderr",
     "output_type": "stream",
     "text": [
      "\n"
     ]
    },
    {
     "data": {
      "application/vnd.jupyter.widget-view+json": {
       "model_id": "f23935ea270f44e299ae94922fe0b0ac",
       "version_major": 2,
       "version_minor": 0
      },
      "text/plain": [
       "HBox(children=(FloatProgress(value=1.0, bar_style='info', max=1.0), HTML(value='')))"
      ]
     },
     "metadata": {},
     "output_type": "display_data"
    },
    {
     "name": "stdout",
     "output_type": "stream",
     "text": [
      "\n",
      "AFTER face_lookup_resolved_test\n"
     ]
    },
    {
     "data": {
      "application/vnd.jupyter.widget-view+json": {
       "model_id": "0213934a1b19430ab59d34ba5a8e4cbb",
       "version_major": 2,
       "version_minor": 0
      },
      "text/plain": [
       "HBox(children=(FloatProgress(value=0.0, max=1.0), HTML(value='')))"
      ]
     },
     "metadata": {},
     "output_type": "display_data"
    },
    {
     "name": "stdout",
     "output_type": "stream",
     "text": [
      "\n",
      "Decomposing first pass: 0.1683666706085205\n",
      "Attempting to use MeshAfterParty Skeletonization and Mesh Correspondence\n",
      "Another print\n",
      "Divinding into MP and MAP pieces: 6.866455078125e-05\n",
      "Total time for MAP sublimb processing 2.86102294921875e-06\n",
      "---- Working on MP Decomposition #0 ----\n",
      "Using Quicker soma_to_piece_touching_vertices because no MAP and only one sublimb_mesh piece \n",
      "MP filtering soma verts: 5.984306335449219e-05\n",
      "Fixing Possible Soma Extension Branch for Sublimb 0\n",
      "Total time for mesh KDTree = 0.03439807891845703\n",
      "sbv[0].reshape(-1,3) = [[400510.8 692276.6 654658.6]]\n",
      "closest_sk_pt_coord BEFORE = [399402.92317352 691578.28956197 654323.96564105]\n",
      "current_skeleton.shape = (90, 2, 3)\n",
      "Current stitch point was not a branch or endpoint, shortest_path_length to one = 1999.4697543080454\n",
      "change_status for create soma extending pieces = False\n",
      "closest_sk_pt_coord AFTER = [399402.92317352 691578.28956197 654323.96564105]\n",
      "Adding new branch to skeleton\n",
      "border_average_coordinate = [398414.29333333 693696.66888889 654573.39166667]\n",
      "endpoints_must_keep = {0: array([[398414.29333333, 693696.66888889, 654573.39166667]])}\n",
      "MP (because soma touching verts) create_soma_extending_branches: 0.11617803573608398\n",
      "orig_vertex = [399402.92317352 691578.28956197 654323.96564105]\n",
      "match_sk_branches = [0]\n"
     ]
    },
    {
     "data": {
      "application/vnd.jupyter.widget-view+json": {
       "model_id": "cbb699fef72b4d6ba488546a7722fb88",
       "version_major": 2,
       "version_minor": 0
      },
      "text/plain": [
       "HBox(children=(FloatProgress(value=1.0, bar_style='info', max=1.0), HTML(value='')))"
      ]
     },
     "metadata": {},
     "output_type": "display_data"
    },
    {
     "name": "stdout",
     "output_type": "stream",
     "text": [
      "\n",
      "\n",
      "\n",
      "--- Working on 1-to-1 correspondence-----\n",
      "max(original_labels),len(original_labels) = (2, 3)\n",
      "empty_indices % = 0.5888615888615889\n",
      " conflict_indices % = 0.030303030303030304\n"
     ]
    },
    {
     "data": {
      "application/vnd.jupyter.widget-view+json": {
       "model_id": "e21c5ea98b7c403db079744f3aa98a08",
       "version_major": 2,
       "version_minor": 0
      },
      "text/plain": [
       "HBox(children=(FloatProgress(value=0.0, max=3.0), HTML(value='')))"
      ]
     },
     "metadata": {},
     "output_type": "display_data"
    },
    {
     "name": "stdout",
     "output_type": "stream",
     "text": [
      "\n",
      "AFTER face_lookup_resolved_test\n",
      "Took 0 iterations to expand the label back\n"
     ]
    },
    {
     "data": {
      "application/vnd.jupyter.widget-view+json": {
       "model_id": "aab0511087c549368438bdac67de4347",
       "version_major": 2,
       "version_minor": 0
      },
      "text/plain": [
       "HBox(children=(FloatProgress(value=0.0, max=3.0), HTML(value='')))"
      ]
     },
     "metadata": {},
     "output_type": "display_data"
    },
    {
     "name": "stderr",
     "output_type": "stream",
     "text": [
      "\r",
      "  0%|          | 0/1 [00:00<?, ?it/s]"
     ]
    },
    {
     "name": "stdout",
     "output_type": "stream",
     "text": [
      "\n",
      "curr_width_median = 197.25528374583936\n",
      "curr_width_median = 10.334985489618361\n",
      "curr_width_median = nan\n",
      "USING A DEFAULT WIDTH BECAUSE THE NEWLY COMPUTED ONE WAS nan: 0.0\n",
      "checked segment branches after soma add on\n",
      "MP (because soma touching verts) soma extension add: 1.1971354484558105\n",
      "There were not both MAP and MP pieces so skipping the stitch resolving phase\n",
      "Time for decomp of Limb = 1.6013908386230469\n",
      "\n",
      "\n",
      "----- Working on Proper Limb # 11 ---------\n",
      "Time for preparing soma vertices and root: 2.4080276489257812e-05\n",
      "cc_vertex_thresh = 10\n"
     ]
    },
    {
     "data": {
      "application/vnd.jupyter.widget-view+json": {
       "model_id": "a92898cc68974c2b83da27d34e2c471c",
       "version_major": 2,
       "version_minor": 0
      },
      "text/plain": [
       "HBox(children=(FloatProgress(value=0.0, max=1865.0), HTML(value='')))"
      ]
     },
     "metadata": {},
     "output_type": "display_data"
    },
    {
     "name": "stderr",
     "output_type": "stream",
     "text": [
      "\r",
      "100%|██████████| 1/1 [00:00<00:00, 24.15it/s]"
     ]
    },
    {
     "name": "stdout",
     "output_type": "stream",
     "text": [
      "\n",
      "Time for 1st pass MP skeletonization: 0.08535361289978027\n",
      "branches_touching_root = [0]\n"
     ]
    },
    {
     "name": "stderr",
     "output_type": "stream",
     "text": [
      "\n"
     ]
    },
    {
     "name": "stdout",
     "output_type": "stream",
     "text": [
      "length of Graph = 235\n",
      "max(kept_branches_idx) = 0, len(kept_branches_idx) = 1\n",
      "empty_indices % = 0.0\n",
      " conflict_indices % = 0.0\n"
     ]
    },
    {
     "data": {
      "application/vnd.jupyter.widget-view+json": {
       "model_id": "89bcbff3bc744d148b30d7dd8402c054",
       "version_major": 2,
       "version_minor": 0
      },
      "text/plain": [
       "HBox(children=(FloatProgress(value=1.0, bar_style='info', max=1.0), HTML(value='')))"
      ]
     },
     "metadata": {},
     "output_type": "display_data"
    },
    {
     "name": "stdout",
     "output_type": "stream",
     "text": [
      "\n",
      "AFTER face_lookup_resolved_test\n"
     ]
    },
    {
     "data": {
      "application/vnd.jupyter.widget-view+json": {
       "model_id": "7315fe328fb54d789cee6ab4ab5d66b0",
       "version_major": 2,
       "version_minor": 0
      },
      "text/plain": [
       "HBox(children=(FloatProgress(value=0.0, max=1.0), HTML(value='')))"
      ]
     },
     "metadata": {},
     "output_type": "display_data"
    },
    {
     "name": "stdout",
     "output_type": "stream",
     "text": [
      "\n",
      "Decomposing first pass: 0.1763768196105957\n",
      "Attempting to use MeshAfterParty Skeletonization and Mesh Correspondence\n",
      "Another print\n",
      "Divinding into MP and MAP pieces: 7.891654968261719e-05\n",
      "Total time for MAP sublimb processing 2.6226043701171875e-06\n",
      "---- Working on MP Decomposition #0 ----\n",
      "Using Quicker soma_to_piece_touching_vertices because no MAP and only one sublimb_mesh piece \n",
      "MP filtering soma verts: 5.7697296142578125e-05\n",
      "Fixing Possible Soma Extension Branch for Sublimb 0\n",
      "Total time for mesh KDTree = 0.02022862434387207\n",
      "sbv[0].reshape(-1,3) = [[343796.5 584799.2 598740.1]]\n",
      "closest_sk_pt_coord BEFORE = [343490.91178656 585075.49066769 598406.70645219]\n",
      "current_skeleton.shape = (234, 2, 3)\n",
      "Current stitch point was a branch or endpoint\n",
      "change_status for create soma extending pieces = False\n",
      "closest_sk_pt_coord AFTER = [343490.91178656 585075.49066769 598406.70645219]\n",
      "skipping soma 2 because closest skeleton node was already end node\n",
      "endpoints_must_keep = {2: array([[343490.91178656, 585075.49066769, 598406.70645219]])}\n",
      "MP (because soma touching verts) create_soma_extending_branches: 0.08646774291992188\n",
      "No soma extending branch was added for this sublimb even though it had a soma border (means they already existed)\n",
      "MP (because soma touching verts) soma extension add: 2.0503997802734375e-05\n",
      "There were not both MAP and MP pieces so skipping the stitch resolving phase\n",
      "Time for decomp of Limb = 0.34891176223754883\n",
      "Total time for Skeletonization and Mesh Correspondence = 545.0936193466187\n",
      "Status of Main limb stitch point moved = True\n",
      "Total time for stitching floating pieces = 0.49305129051208496\n",
      "Starting_edge inside branches_to_conept = [[396933.58878924 690182.1161435  655029.42376682]\n",
      " [397579.         689777.         654346.        ]]\n",
      "At the start, starting_node (in terms of the skeleton, that shouldn't match the starting edge) = [111]\n",
      "printing out current edge:\n",
      "[[396933.58878924 690182.1161435  655029.42376682]\n",
      " [397579.         689777.         654346.        ]]\n",
      "edge_endpoints_to_process was empty so exiting loop after 232 iterations\n",
      "starting_node in concept map (that should match the starting edge) = 8\n",
      "Total time for branches to concept conversion = 2.8533027172088623\n",
      "\n",
      "Done generating concept network \n",
      "\n",
      "\n",
      "recovered_touching_piece = [8]\n",
      "Starting_edge inside branches_to_conept = [[416126. 681585. 637345.]\n",
      " [416436. 678698. 635928.]]\n",
      "At the start, starting_node (in terms of the skeleton, that shouldn't match the starting edge) = [155]\n",
      "printing out current edge:\n",
      "[[416436. 678698. 635928.]\n",
      " [416126. 681585. 637345.]]\n",
      "edge_endpoints_to_process was empty so exiting loop after 232 iterations\n",
      "starting_node in concept map (that should match the starting edge) = 19\n",
      "Total time for branches to concept conversion = 2.84332275390625\n",
      "\n",
      "Done generating concept network \n",
      "\n",
      "\n",
      "recovered_touching_piece = [19]\n",
      "Starting_edge inside branches_to_conept = [[397029.         678970.         657791.        ]\n",
      " [397242.25540541 688290.59527027 656020.51689189]]\n",
      "At the start, starting_node (in terms of the skeleton, that shouldn't match the starting edge) = [114]\n",
      "printing out current edge:\n",
      "[[397242.25540541 688290.59527027 656020.51689189]\n",
      " [397029.         678970.         657791.        ]]\n",
      "edge_endpoints_to_process was empty so exiting loop after 232 iterations\n",
      "starting_node in concept map (that should match the starting edge) = 29\n",
      "Total time for branches to concept conversion = 2.8577771186828613\n",
      "\n",
      "Done generating concept network \n",
      "\n",
      "\n",
      "recovered_touching_piece = [29]\n",
      "Starting_edge inside branches_to_conept = [[414395. 666541. 602724.]\n",
      " [414576. 670105. 621584.]]\n",
      "At the start, starting_node (in terms of the skeleton, that shouldn't match the starting edge) = [150]\n",
      "printing out current edge:\n",
      "[[414576. 670105. 621584.]\n",
      " [414395. 666541. 602724.]]\n",
      "edge_endpoints_to_process was empty so exiting loop after 232 iterations\n",
      "starting_node in concept map (that should match the starting edge) = 43\n",
      "Total time for branches to concept conversion = 2.846278429031372\n",
      "\n",
      "Done generating concept network \n",
      "\n",
      "\n",
      "recovered_touching_piece = [43]\n",
      "Starting_edge inside branches_to_conept = [[398713.48305085 695803.2559322  654675.06101695]\n",
      " [399743.         692342.         653428.        ]]\n",
      "At the start, starting_node (in terms of the skeleton, that shouldn't match the starting edge) = [122]\n",
      "printing out current edge:\n",
      "[[398713.48305085 695803.2559322  654675.06101695]\n",
      " [399743.         692342.         653428.        ]]\n",
      "edge_endpoints_to_process was empty so exiting loop after 232 iterations\n",
      "starting_node in concept map (that should match the starting edge) = 226\n",
      "Total time for branches to concept conversion = 2.8428683280944824\n",
      "\n",
      "Done generating concept network \n",
      "\n",
      "\n",
      "recovered_touching_piece = [226]\n",
      "Starting_edge inside branches_to_conept = [[410869.         660275.         628931.        ]\n",
      " [411725.67634409 661475.70860215 628486.8516129 ]]\n",
      "At the start, starting_node (in terms of the skeleton, that shouldn't match the starting edge) = [38]\n",
      "printing out current edge:\n",
      "[[411725.67634409 661475.70860215 628486.8516129 ]\n",
      " [410869.         660275.         628931.        ]]\n",
      "edge_endpoints_to_process was empty so exiting loop after 58 iterations\n",
      "starting_node in concept map (that should match the starting edge) = 10\n",
      "Total time for branches to concept conversion = 0.8581666946411133\n",
      "\n",
      "Done generating concept network \n",
      "\n",
      "\n",
      "recovered_touching_piece = [10]\n",
      "Starting_edge inside branches_to_conept = [[347423.45204149 572354.78458314 600688.70490168]\n",
      " [351136.08148101 569585.15211924 602735.14825741]]\n",
      "At the start, starting_node (in terms of the skeleton, that shouldn't match the starting edge) = [4]\n",
      "printing out current edge:\n",
      "[[347423.45204149 572354.78458314 600688.70490168]\n",
      " [351136.08148101 569585.15211924 602735.14825741]]\n",
      "edge_endpoints_to_process was empty so exiting loop after 58 iterations\n",
      "starting_node in concept map (that should match the starting edge) = 30\n",
      "Total time for branches to concept conversion = 0.8609545230865479\n",
      "\n",
      "Done generating concept network \n",
      "\n",
      "\n",
      "recovered_touching_piece = [30]\n",
      "Starting_edge inside branches_to_conept = [[343764. 569907. 597807.]\n",
      " [343878. 560736. 595967.]]\n",
      "At the start, starting_node (in terms of the skeleton, that shouldn't match the starting edge) = [13]\n",
      "printing out current edge:\n",
      "[[343764. 569907. 597807.]\n",
      " [343878. 560736. 595967.]]\n",
      "edge_endpoints_to_process was empty so exiting loop after 34 iterations\n",
      "starting_node in concept map (that should match the starting edge) = 7\n",
      "Total time for branches to concept conversion = 0.38937854766845703\n",
      "\n",
      "Done generating concept network \n",
      "\n",
      "\n",
      "recovered_touching_piece = [7]\n",
      "Starting_edge inside branches_to_conept = [[399337. 691063. 665072.]\n",
      " [417087. 666094. 682705.]]\n",
      "At the start, starting_node (in terms of the skeleton, that shouldn't match the starting edge) = [0]\n",
      "printing out current edge:\n",
      "[[399337. 691063. 665072.]\n",
      " [417087. 666094. 682705.]]\n",
      "edge_endpoints_to_process was empty so exiting loop after 14 iterations\n",
      "starting_node in concept map (that should match the starting edge) = 0\n",
      "Total time for branches to concept conversion = 0.21442604064941406\n",
      "\n",
      "Done generating concept network \n",
      "\n",
      "\n",
      "recovered_touching_piece = [0]\n",
      "Starting_edge inside branches_to_conept = [[398229. 702873. 663368.]\n",
      " [408126. 708844. 679891.]]\n",
      "At the start, starting_node (in terms of the skeleton, that shouldn't match the starting edge) = [1]\n",
      "printing out current edge:\n",
      "[[398229. 702873. 663368.]\n",
      " [408126. 708844. 679891.]]\n",
      "edge_endpoints_to_process was empty so exiting loop after 7 iterations\n",
      "starting_node in concept map (that should match the starting edge) = 1\n",
      "Total time for branches to concept conversion = 0.17993593215942383\n",
      "\n",
      "Done generating concept network \n",
      "\n",
      "\n",
      "recovered_touching_piece = [1]\n",
      "Starting_edge inside branches_to_conept = [[395862. 694409. 667017.]\n",
      " [397863. 698801. 700050.]]\n",
      "At the start, starting_node (in terms of the skeleton, that shouldn't match the starting edge) = [0]\n",
      "printing out current edge:\n",
      "[[395862. 694409. 667017.]\n",
      " [397863. 698801. 700050.]]\n",
      "edge_endpoints_to_process was empty so exiting loop after 5 iterations\n",
      "starting_node in concept map (that should match the starting edge) = 0\n",
      "Total time for branches to concept conversion = 0.17687487602233887\n",
      "\n",
      "Done generating concept network \n",
      "\n",
      "\n",
      "recovered_touching_piece = [0]\n",
      "Starting_edge inside branches_to_conept = [[423566. 673679. 630414.]\n",
      " [434481. 679112. 632175.]]\n"
     ]
    },
    {
     "name": "stdout",
     "output_type": "stream",
     "text": [
      "At the start, starting_node (in terms of the skeleton, that shouldn't match the starting edge) = [0]\n",
      "printing out current edge:\n",
      "[[423566. 673679. 630414.]\n",
      " [434481. 679112. 632175.]]\n",
      "edge_endpoints_to_process was empty so exiting loop after 13 iterations\n",
      "starting_node in concept map (that should match the starting edge) = 0\n",
      "Total time for branches to concept conversion = 0.22926068305969238\n",
      "\n",
      "Done generating concept network \n",
      "\n",
      "\n",
      "recovered_touching_piece = [0]\n",
      "Starting_edge inside branches_to_conept = [[347454. 586090. 603288.]\n",
      " [350588. 594356. 607601.]]\n",
      "At the start, starting_node (in terms of the skeleton, that shouldn't match the starting edge) = [3]\n",
      "printing out current edge:\n",
      "[[347454. 586090. 603288.]\n",
      " [350588. 594356. 607601.]]\n",
      "edge_endpoints_to_process was empty so exiting loop after 9 iterations\n",
      "starting_node in concept map (that should match the starting edge) = 0\n",
      "Total time for branches to concept conversion = 0.1260209083557129\n",
      "\n",
      "Done generating concept network \n",
      "\n",
      "\n",
      "recovered_touching_piece = [0]\n",
      "Starting_edge inside branches_to_conept = [[348000. 582771. 605997.]\n",
      " [348586. 584906. 609435.]]\n",
      "At the start, starting_node (in terms of the skeleton, that shouldn't match the starting edge) = [3]\n",
      "printing out current edge:\n",
      "[[348000. 582771. 605997.]\n",
      " [348586. 584906. 609435.]]\n",
      "edge_endpoints_to_process was empty so exiting loop after 8 iterations\n",
      "starting_node in concept map (that should match the starting edge) = 3\n",
      "Total time for branches to concept conversion = 0.0509493350982666\n",
      "\n",
      "Done generating concept network \n",
      "\n",
      "\n",
      "recovered_touching_piece = [3]\n",
      "Starting_edge inside branches_to_conept = [[333428. 575997. 606200.]\n",
      " [336257. 575919. 602135.]]\n",
      "At the start, starting_node (in terms of the skeleton, that shouldn't match the starting edge) = [3]\n",
      "printing out current edge:\n",
      "[[336257. 575919. 602135.]\n",
      " [333428. 575997. 606200.]]\n",
      "edge_endpoints_to_process was empty so exiting loop after 3 iterations\n",
      "starting_node in concept map (that should match the starting edge) = 1\n",
      "Total time for branches to concept conversion = 0.01996445655822754\n",
      "\n",
      "Done generating concept network \n",
      "\n",
      "\n",
      "recovered_touching_piece = [1]\n",
      "Starting_edge inside branches_to_conept = [[398414.29333333 693696.66888889 654573.39166667]\n",
      " [399402.92317352 691578.28956197 654323.96564105]]\n",
      "At the start, starting_node (in terms of the skeleton, that shouldn't match the starting edge) = [0]\n",
      "printing out current edge:\n",
      "[[398414.29333333 693696.66888889 654573.39166667]\n",
      " [399402.92317352 691578.28956197 654323.96564105]]\n",
      "edge_endpoints_to_process was empty so exiting loop after 3 iterations\n",
      "starting_node in concept map (that should match the starting edge) = 2\n",
      "Total time for branches to concept conversion = 0.010977506637573242\n",
      "\n",
      "Done generating concept network \n",
      "\n",
      "\n",
      "recovered_touching_piece = [2]\n",
      "Starting_edge inside branches_to_conept = [[343490.91178656 585075.49066769 598406.70645219]\n",
      " [346195.61260436 607429.63824539 599482.92571786]]\n",
      "Done generating concept network \n",
      "\n",
      "\n",
      "recovered_touching_piece = [0]\n",
      "Total time for Concept Networks = 26.017220735549927\n",
      "Total time for all limb decomps = 571.6087055206299\n",
      "Already have preprocessed data\n",
      "--- 1) Finished unpacking preprocessed materials: 2.6226043701171875e-05\n",
      "total_edges = [['S0', 'L0'], ['S0', 'L3'], ['S0', 'L4'], ['S0', 'L5'], ['S0', 'L10'], ['S1', 'L0'], ['S1', 'L1'], ['S1', 'L6'], ['S2', 'L1'], ['S2', 'L2'], ['S2', 'L7'], ['S2', 'L8'], ['S2', 'L9'], ['S2', 'L11']]\n",
      "--- 2) Finished creating neuron connectivity graph: 0.00012969970703125\n",
      "Having to generate soma_meshes_face_idx because none in preprocessed data\n",
      "--- 3a) Finshed generating soma_meshes_face_idx: 1.3036630153656006\n",
      "Using Poisson Surface Reconstruction for watertightness in soma_volume_ratio\n",
      "xvfb-run -n 2090 -s \"-screen 0 800x600x24\" meshlabserver $@  -i /notebooks/Platinum_Decomp_Fusion/Poisson_temp/neuron_430598.off -o /notebooks/Platinum_Decomp_Fusion/Poisson_temp/neuron_430598_poisson.off -s /notebooks/Platinum_Decomp_Fusion/Poisson_temp/poisson_9578.mls\n",
      "removed temporary input file: /notebooks/Platinum_Decomp_Fusion/Poisson_temp/neuron_430598.off\n",
      "removed temporary output file: /notebooks/Platinum_Decomp_Fusion/Poisson_temp/neuron_430598_poisson.off\n",
      "mesh.is_watertight = True\n",
      "/notebooks/Platinum_Decomp_Fusion/Poisson_temp/poisson_9578.mls is being deleted....\n",
      "Using Poisson Surface Reconstruction for watertightness in soma_volume_ratio\n",
      "xvfb-run -n 9305 -s \"-screen 0 800x600x24\" meshlabserver $@  -i /notebooks/Platinum_Decomp_Fusion/Poisson_temp/neuron_621761.off -o /notebooks/Platinum_Decomp_Fusion/Poisson_temp/neuron_621761_poisson.off -s /notebooks/Platinum_Decomp_Fusion/Poisson_temp/poisson_787173.mls\n",
      "removed temporary input file: /notebooks/Platinum_Decomp_Fusion/Poisson_temp/neuron_621761.off\n",
      "removed temporary output file: /notebooks/Platinum_Decomp_Fusion/Poisson_temp/neuron_621761_poisson.off\n",
      "mesh.is_watertight = True\n",
      "/notebooks/Platinum_Decomp_Fusion/Poisson_temp/poisson_787173.mls is being deleted....\n",
      "Using Poisson Surface Reconstruction for watertightness in soma_volume_ratio\n",
      "xvfb-run -n 2864 -s \"-screen 0 800x600x24\" meshlabserver $@  -i /notebooks/Platinum_Decomp_Fusion/Poisson_temp/neuron_49729.off -o /notebooks/Platinum_Decomp_Fusion/Poisson_temp/neuron_49729_poisson.off -s /notebooks/Platinum_Decomp_Fusion/Poisson_temp/poisson_496981.mls\n",
      "removed temporary input file: /notebooks/Platinum_Decomp_Fusion/Poisson_temp/neuron_49729.off\n",
      "removed temporary output file: /notebooks/Platinum_Decomp_Fusion/Poisson_temp/neuron_49729_poisson.off\n",
      "mesh.is_watertight = True\n",
      "/notebooks/Platinum_Decomp_Fusion/Poisson_temp/poisson_496981.mls is being deleted....\n",
      "--- 3) Finshed generating soma objects and adding them to concept graph: 31.39810061454773\n",
      "--- 4a) Finshed generating curr_limb_meshes_face_idx: 4.9829792976379395\n",
      "curr_limb_concept_networks= {0: [<networkx_utils.GraphOrderedEdges object at 0x7f01fe0fda58>, <networkx_utils.GraphOrderedEdges object at 0x7f01fe9f0898>, <networkx_utils.GraphOrderedEdges object at 0x7f01fe9f0cc0>], 1: [<networkx_utils.GraphOrderedEdges object at 0x7f01fe9f0518>, <networkx_utils.GraphOrderedEdges object at 0x7f01fe9f03c8>]}\n",
      "concept_network_dict = {0: [<networkx_utils.GraphOrderedEdges object at 0x7f01fe0fda58>, <networkx_utils.GraphOrderedEdges object at 0x7f01fe9f0898>, <networkx_utils.GraphOrderedEdges object at 0x7f01fe9f0cc0>], 1: [<networkx_utils.GraphOrderedEdges object at 0x7f01fe9f0518>, <networkx_utils.GraphOrderedEdges object at 0x7f01fe9f03c8>]}\n",
      "checking and resolving cycles\n",
      "No cycles to fix\n",
      "curr_limb_concept_networks= {1: [<networkx_utils.GraphOrderedEdges object at 0x7f01fe9f06a0>], 2: [<networkx_utils.GraphOrderedEdges object at 0x7f01fe9f0240>]}\n",
      "concept_network_dict = {1: [<networkx_utils.GraphOrderedEdges object at 0x7f01fe9f06a0>], 2: [<networkx_utils.GraphOrderedEdges object at 0x7f01fe9f0240>]}\n",
      "checking and resolving cycles\n",
      "No cycles to fix\n",
      "curr_limb_concept_networks= {2: [<networkx_utils.GraphOrderedEdges object at 0x7f01fe9f04a8>]}\n",
      "concept_network_dict = {2: [<networkx_utils.GraphOrderedEdges object at 0x7f01fe9f04a8>]}\n",
      "checking and resolving cycles\n",
      "No cycles to fix\n",
      "curr_limb_concept_networks= {0: [<networkx_utils.GraphOrderedEdges object at 0x7f01fe9d2048>]}\n",
      "concept_network_dict = {0: [<networkx_utils.GraphOrderedEdges object at 0x7f01fe9d2048>]}\n",
      "checking and resolving cycles\n",
      "No cycles to fix\n",
      "curr_limb_concept_networks= {0: [<networkx_utils.GraphOrderedEdges object at 0x7f01fe9d2128>]}\n",
      "concept_network_dict = {0: [<networkx_utils.GraphOrderedEdges object at 0x7f01fe9d2128>]}\n",
      "checking and resolving cycles\n",
      "No cycles to fix\n",
      "curr_limb_concept_networks= {0: [<networkx_utils.GraphOrderedEdges object at 0x7f01fe9d2278>]}\n",
      "concept_network_dict = {0: [<networkx_utils.GraphOrderedEdges object at 0x7f01fe9d2278>]}\n",
      "checking and resolving cycles\n",
      "No cycles to fix\n",
      "curr_limb_concept_networks= {1: [<networkx_utils.GraphOrderedEdges object at 0x7f01fe9d23c8>]}\n",
      "concept_network_dict = {1: [<networkx_utils.GraphOrderedEdges object at 0x7f01fe9d23c8>]}\n",
      "checking and resolving cycles\n",
      "No cycles to fix\n",
      "curr_limb_concept_networks= {2: [<networkx_utils.GraphOrderedEdges object at 0x7f01fe9d2c88>]}\n",
      "concept_network_dict = {2: [<networkx_utils.GraphOrderedEdges object at 0x7f01fe9d2c88>]}\n",
      "checking and resolving cycles\n",
      "No cycles to fix\n",
      "curr_limb_concept_networks= {2: [<networkx_utils.GraphOrderedEdges object at 0x7f01fe9d2630>]}\n",
      "concept_network_dict = {2: [<networkx_utils.GraphOrderedEdges object at 0x7f01fe9d2630>]}\n",
      "checking and resolving cycles\n",
      "No cycles to fix\n",
      "curr_limb_concept_networks= {2: [<networkx_utils.GraphOrderedEdges object at 0x7f01fe9d28d0>]}\n",
      "concept_network_dict = {2: [<networkx_utils.GraphOrderedEdges object at 0x7f01fe9d28d0>]}\n",
      "checking and resolving cycles\n",
      "No cycles to fix\n",
      "curr_limb_concept_networks= {0: [<networkx_utils.GraphOrderedEdges object at 0x7f01fe9d2b00>]}\n",
      "concept_network_dict = {0: [<networkx_utils.GraphOrderedEdges object at 0x7f01fe9d2b00>]}\n",
      "checking and resolving cycles\n",
      "No cycles to fix\n",
      "curr_limb_concept_networks= {2: [<networkx_utils.GraphOrderedEdges object at 0x7f020a9979b0>]}\n",
      "concept_network_dict = {2: [<networkx_utils.GraphOrderedEdges object at 0x7f020a9979b0>]}\n",
      "Concept graph size was 1 or less so returning original\n",
      "--- 4) Finshed generating Limb objects and adding them to concept graph: 2.578368663787842\n",
      "--- 5) SKIPPING Doing the adaptive mesh correspondence on the meshparty preprocessing ---\n",
      "--- 6) SKIPPING Using the computed_attribute_dict to populate neuron attributes ---\n",
      "7) Calculating the spines for the neuorn if do not already exist\n",
      "7a) calculating spines because didn't exist\n",
      "query = median_mesh_center > 200 and n_faces_branch>100\n",
      "smoothness_threshold = 0.08\n",
      "The median_mesh_center was requested but has not already been calculated so calculating now.... \n",
      "Working on limb L0 branch 8\n",
      "Working on limb L0 branch 7\n"
     ]
    },
    {
     "name": "stdout",
     "output_type": "stream",
     "text": [
      "Working on limb L0 branch 9\n",
      "Working on limb L0 branch 188\n",
      "Working on limb L0 branch 189\n",
      "Working on limb L0 branch 6\n",
      "Working on limb L0 branch 10\n",
      "Assigning the old width calculation because no valid new widths\n",
      "Working on limb L0 branch 187\n",
      "Working on limb L0 branch 190\n",
      "Working on limb L0 branch 1\n",
      "Working on limb L0 branch 191\n",
      "Working on limb L0 branch 5\n",
      "Working on limb L0 branch 27\n",
      "Working on limb L0 branch 25\n",
      "Working on limb L0 branch 224\n",
      "Working on limb L0 branch 225\n",
      "Working on limb L0 branch 226\n",
      "Working on limb L0 branch 186\n",
      "Working on limb L0 branch 192\n",
      "Working on limb L0 branch 0\n",
      "Working on limb L0 branch 53\n",
      "Working on limb L0 branch 2\n",
      "Working on limb L0 branch 4\n",
      "Working on limb L0 branch 3\n",
      "Working on limb L0 branch 230\n",
      "Working on limb L0 branch 12\n",
      "Working on limb L0 branch 13\n",
      "Working on limb L0 branch 52\n",
      "Working on limb L0 branch 72\n",
      "Working on limb L0 branch 18\n",
      "Working on limb L0 branch 23\n",
      "Working on limb L0 branch 11\n",
      "Working on limb L0 branch 17\n",
      "Working on limb L0 branch 51\n",
      "Working on limb L0 branch 129\n",
      "Working on limb L0 branch 71\n",
      "Working on limb L0 branch 81\n",
      "Working on limb L0 branch 26\n",
      "Working on limb L0 branch 228\n",
      "Working on limb L0 branch 24\n",
      "Working on limb L0 branch 221\n",
      "Working on limb L0 branch 201\n",
      "Working on limb L0 branch 203\n",
      "Working on limb L0 branch 19\n",
      "Working on limb L0 branch 20\n",
      "Working on limb L0 branch 50\n",
      "Working on limb L0 branch 97\n",
      "Working on limb L0 branch 70\n",
      "Working on limb L0 branch 91\n",
      "Working on limb L0 branch 80\n",
      "Working on limb L0 branch 114\n",
      "Working on limb L0 branch 21\n",
      "Working on limb L0 branch 212\n",
      "Working on limb L0 branch 16\n",
      "Working on limb L0 branch 223\n",
      "Working on limb L0 branch 220\n",
      "Working on limb L0 branch 222\n",
      "Working on limb L0 branch 202\n",
      "Working on limb L0 branch 204\n",
      "Working on limb L0 branch 22\n",
      "Working on limb L0 branch 218\n",
      "Working on limb L0 branch 49\n",
      "Working on limb L0 branch 62\n",
      "Working on limb L0 branch 96\n",
      "Working on limb L0 branch 146\n",
      "Working on limb L0 branch 35\n",
      "Working on limb L0 branch 39\n",
      "Working on limb L0 branch 69\n",
      "Working on limb L0 branch 90\n",
      "Working on limb L0 branch 177\n",
      "Working on limb L0 branch 79\n",
      "Working on limb L0 branch 109\n",
      "Working on limb L0 branch 113\n",
      "Working on limb L0 branch 132\n",
      "Working on limb L0 branch 14\n",
      "Working on limb L0 branch 15\n",
      "Working on limb L0 branch 195\n",
      "Working on limb L0 branch 198\n",
      "Working on limb L0 branch 48\n",
      "Working on limb L0 branch 120\n",
      "Working on limb L0 branch 61\n",
      "Working on limb L0 branch 106\n",
      "Working on limb L0 branch 95\n",
      "Working on limb L0 branch 100\n",
      "Working on limb L0 branch 145\n",
      "Working on limb L0 branch 180\n",
      "Working on limb L0 branch 38\n",
      "Working on limb L0 branch 210\n",
      "Working on limb L0 branch 31\n",
      "Working on limb L0 branch 219\n",
      "Working on limb L0 branch 68\n",
      "Working on limb L0 branch 74\n",
      "Working on limb L0 branch 78\n",
      "Working on limb L0 branch 133\n",
      "Working on limb L0 branch 108\n",
      "Working on limb L0 branch 156\n",
      "Working on limb L0 branch 112\n",
      "Working on limb L0 branch 144\n",
      "Working on limb L0 branch 160\n",
      "Working on limb L0 branch 205\n",
      "Working on limb L0 branch 213\n",
      "Working on limb L0 branch 215\n",
      "Working on limb L0 branch 194\n",
      "Working on limb L0 branch 197\n",
      "Working on limb L0 branch 47\n",
      "Working on limb L0 branch 161\n",
      "Working on limb L0 branch 60\n",
      "Working on limb L0 branch 157\n",
      "Working on limb L0 branch 105\n",
      "Working on limb L0 branch 179\n",
      "Working on limb L0 branch 94\n",
      "Working on limb L0 branch 102\n",
      "Working on limb L0 branch 99\n",
      "Working on limb L0 branch 139\n",
      "Working on limb L0 branch 36\n",
      "Working on limb L0 branch 199\n",
      "Working on limb L0 branch 200\n",
      "Assigning the old width calculation because no valid new widths\n",
      "Working on limb L0 branch 209\n",
      "Working on limb L0 branch 211\n",
      "Working on limb L0 branch 30\n",
      "Working on limb L0 branch 32\n",
      "Working on limb L0 branch 67\n",
      "Working on limb L0 branch 182\n",
      "Working on limb L0 branch 73\n",
      "Working on limb L0 branch 88\n",
      "Working on limb L0 branch 77\n",
      "Working on limb L0 branch 143\n",
      "Working on limb L0 branch 43\n",
      "Working on limb L0 branch 214\n",
      "Working on limb L0 branch 193\n",
      "Working on limb L0 branch 196\n",
      "Working on limb L0 branch 46\n",
      "Working on limb L0 branch 76\n",
      "Working on limb L0 branch 131\n",
      "Working on limb L0 branch 59\n",
      "Working on limb L0 branch 128\n",
      "Working on limb L0 branch 104\n",
      "Working on limb L0 branch 170\n",
      "Working on limb L0 branch 93\n",
      "Working on limb L0 branch 107\n",
      "Working on limb L0 branch 101\n",
      "Working on limb L0 branch 137\n",
      "Working on limb L0 branch 138\n",
      "Working on limb L0 branch 148\n",
      "Working on limb L0 branch 28\n",
      "Working on limb L0 branch 29\n",
      "Working on limb L0 branch 42\n",
      "Working on limb L0 branch 231\n",
      "Working on limb L0 branch 66\n",
      "Working on limb L0 branch 84\n",
      "Working on limb L0 branch 87\n",
      "Working on limb L0 branch 175\n",
      "Working on limb L0 branch 142\n",
      "Working on limb L0 branch 163\n",
      "Working on limb L0 branch 45\n",
      "Working on limb L0 branch 123\n",
      "Working on limb L0 branch 159\n",
      "Working on limb L0 branch 75\n",
      "Working on limb L0 branch 98\n",
      "Working on limb L0 branch 58\n",
      "Working on limb L0 branch 169\n",
      "Working on limb L0 branch 127\n",
      "Working on limb L0 branch 181\n",
      "Working on limb L0 branch 92\n",
      "Working on limb L0 branch 111\n",
      "Working on limb L0 branch 147\n",
      "Working on limb L0 branch 166\n",
      "Working on limb L0 branch 136\n",
      "Working on limb L0 branch 155\n",
      "Working on limb L0 branch 167\n",
      "Working on limb L0 branch 207\n",
      "Working on limb L0 branch 208\n",
      "Working on limb L0 branch 33\n",
      "Working on limb L0 branch 34\n",
      "Working on limb L0 branch 65\n",
      "Working on limb L0 branch 122\n",
      "Working on limb L0 branch 83\n",
      "Working on limb L0 branch 172\n",
      "Working on limb L0 branch 86\n",
      "Working on limb L0 branch 162\n",
      "Working on limb L0 branch 141\n",
      "Working on limb L0 branch 171\n",
      "Working on limb L0 branch 44\n",
      "Working on limb L0 branch 184\n",
      "Working on limb L0 branch 57\n",
      "Working on limb L0 branch 103\n",
      "Working on limb L0 branch 176\n",
      "Working on limb L0 branch 126\n",
      "Working on limb L0 branch 153\n",
      "Working on limb L0 branch 110\n",
      "Working on limb L0 branch 173\n",
      "Working on limb L0 branch 174\n",
      "Working on limb L0 branch 40\n",
      "Working on limb L0 branch 227\n",
      "Working on limb L0 branch 41\n",
      "Working on limb L0 branch 229\n",
      "Working on limb L0 branch 64\n",
      "Working on limb L0 branch 130\n",
      "Working on limb L0 branch 121\n",
      "Working on limb L0 branch 125\n",
      "Working on limb L0 branch 82\n",
      "Working on limb L0 branch 119\n",
      "Working on limb L0 branch 85\n",
      "Working on limb L0 branch 89\n",
      "Working on limb L0 branch 116\n",
      "Working on limb L0 branch 140\n",
      "Working on limb L0 branch 158\n",
      "Working on limb L0 branch 56\n",
      "Working on limb L0 branch 151\n",
      "Working on limb L0 branch 37\n",
      "Working on limb L0 branch 206\n",
      "Working on limb L0 branch 216\n",
      "Working on limb L0 branch 217\n",
      "Working on limb L0 branch 63\n",
      "Working on limb L0 branch 183\n",
      "Working on limb L0 branch 124\n",
      "Working on limb L0 branch 154\n",
      "Working on limb L0 branch 118\n",
      "Working on limb L0 branch 165\n",
      "Working on limb L0 branch 115\n",
      "Working on limb L0 branch 164\n",
      "Working on limb L0 branch 55\n",
      "Working on limb L0 branch 168\n",
      "Working on limb L0 branch 117\n",
      "Working on limb L0 branch 150\n",
      "Working on limb L0 branch 54\n",
      "Working on limb L0 branch 135\n",
      "Working on limb L0 branch 149\n",
      "Working on limb L0 branch 185\n",
      "Working on limb L0 branch 134\n",
      "Working on limb L0 branch 152\n",
      "Working on limb L0 branch 178\n",
      "Working on limb L3 branch 0\n",
      "Working on limb L3 branch 1\n",
      "Working on limb L3 branch 2\n",
      "Working on limb L3 branch 8\n",
      "Working on limb L3 branch 9\n",
      "Working on limb L3 branch 3\n",
      "Working on limb L3 branch 12\n",
      "Working on limb L3 branch 5\n",
      "Working on limb L3 branch 6\n",
      "Working on limb L3 branch 10\n",
      "Working on limb L3 branch 11\n",
      "Working on limb L3 branch 4\n",
      "Working on limb L3 branch 7\n",
      "Working on limb L3 branch 13\n",
      "Working on limb L4 branch 1\n",
      "Working on limb L4 branch 0\n",
      "Working on limb L4 branch 2\n",
      "Working on limb L4 branch 4\n",
      "Working on limb L4 branch 5\n",
      "Working on limb L4 branch 3\n",
      "Working on limb L4 branch 6\n",
      "Working on limb L5 branch 0\n",
      "Working on limb L5 branch 1\n",
      "Working on limb L5 branch 4\n",
      "Working on limb L5 branch 2\n",
      "Working on limb L5 branch 3\n",
      "Working on limb L10 branch 2\n",
      "Assigning the old width calculation because no valid new widths\n",
      "Working on limb L10 branch 0\n",
      "Working on limb L10 branch 1\n",
      "Assigning the old width calculation because no valid new widths\n",
      "Working on limb L1 branch 10\n",
      "Working on limb L1 branch 0\n",
      "Working on limb L1 branch 9\n",
      "Working on limb L1 branch 2\n",
      "Working on limb L1 branch 8\n",
      "Working on limb L1 branch 19\n",
      "Working on limb L1 branch 24\n",
      "Working on limb L1 branch 7\n",
      "Working on limb L1 branch 15\n",
      "Working on limb L1 branch 18\n",
      "Working on limb L1 branch 27\n",
      "Working on limb L1 branch 20\n",
      "Working on limb L1 branch 23\n"
     ]
    },
    {
     "name": "stdout",
     "output_type": "stream",
     "text": [
      "Working on limb L1 branch 4\n",
      "Working on limb L1 branch 6\n",
      "Working on limb L1 branch 3\n",
      "Working on limb L1 branch 57\n",
      "Working on limb L1 branch 22\n",
      "Working on limb L1 branch 26\n",
      "Working on limb L1 branch 1\n",
      "Working on limb L1 branch 5\n",
      "Working on limb L1 branch 13\n",
      "Working on limb L1 branch 51\n",
      "Working on limb L1 branch 21\n",
      "Working on limb L1 branch 25\n",
      "Working on limb L1 branch 49\n",
      "Working on limb L1 branch 50\n",
      "Working on limb L1 branch 12\n",
      "Working on limb L1 branch 46\n",
      "Working on limb L1 branch 53\n",
      "Working on limb L1 branch 54\n",
      "Working on limb L1 branch 47\n",
      "Working on limb L1 branch 48\n",
      "Working on limb L1 branch 14\n",
      "Working on limb L1 branch 52\n",
      "Working on limb L1 branch 55\n",
      "Working on limb L1 branch 56\n",
      "Working on limb L1 branch 11\n",
      "Working on limb L1 branch 34\n",
      "Working on limb L1 branch 35\n",
      "Working on limb L1 branch 33\n",
      "Working on limb L1 branch 36\n",
      "Working on limb L1 branch 32\n",
      "Working on limb L1 branch 37\n",
      "Working on limb L1 branch 16\n",
      "Working on limb L1 branch 17\n",
      "Working on limb L1 branch 28\n",
      "Working on limb L1 branch 31\n",
      "Working on limb L1 branch 42\n",
      "Working on limb L1 branch 44\n",
      "Working on limb L1 branch 29\n",
      "Working on limb L1 branch 30\n",
      "Working on limb L1 branch 39\n",
      "Working on limb L1 branch 41\n",
      "Working on limb L1 branch 43\n",
      "Working on limb L1 branch 45\n",
      "Working on limb L1 branch 38\n",
      "Working on limb L1 branch 40\n",
      "Working on limb L6 branch 0\n",
      "Working on limb L6 branch 1\n",
      "Working on limb L6 branch 2\n",
      "Working on limb L6 branch 4\n",
      "Working on limb L6 branch 5\n",
      "Working on limb L6 branch 9\n",
      "Working on limb L6 branch 12\n",
      "Working on limb L6 branch 3\n",
      "Working on limb L6 branch 7\n",
      "Working on limb L6 branch 10\n",
      "Working on limb L6 branch 11\n",
      "Working on limb L6 branch 6\n",
      "Working on limb L6 branch 8\n",
      "Working on limb L2 branch 7\n",
      "Working on limb L2 branch 11\n",
      "Working on limb L2 branch 25\n",
      "Working on limb L2 branch 9\n",
      "Working on limb L2 branch 18\n",
      "Working on limb L2 branch 24\n",
      "Working on limb L2 branch 26\n",
      "Working on limb L2 branch 12\n",
      "Working on limb L2 branch 21\n",
      "Working on limb L2 branch 17\n",
      "Working on limb L2 branch 19\n",
      "Working on limb L2 branch 23\n",
      "Working on limb L2 branch 28\n",
      "Working on limb L2 branch 10\n",
      "Working on limb L2 branch 32\n",
      "Working on limb L2 branch 33\n",
      "Working on limb L2 branch 20\n",
      "Working on limb L2 branch 22\n",
      "Working on limb L2 branch 27\n",
      "Working on limb L2 branch 29\n",
      "Working on limb L2 branch 2\n",
      "Working on limb L2 branch 13\n",
      "Working on limb L2 branch 0\n",
      "Working on limb L2 branch 1\n",
      "Working on limb L2 branch 8\n",
      "Working on limb L2 branch 16\n",
      "Working on limb L2 branch 3\n",
      "Working on limb L2 branch 4\n",
      "Working on limb L2 branch 30\n",
      "Working on limb L2 branch 31\n",
      "Working on limb L2 branch 5\n",
      "Working on limb L2 branch 6\n",
      "Working on limb L2 branch 14\n",
      "Working on limb L2 branch 15\n",
      "Working on limb L7 branch 0\n",
      "Working on limb L7 branch 1\n",
      "Working on limb L7 branch 3\n",
      "Working on limb L7 branch 5\n",
      "Working on limb L7 branch 7\n",
      "Working on limb L7 branch 2\n",
      "Working on limb L7 branch 4\n",
      "Working on limb L7 branch 6\n",
      "Working on limb L7 branch 8\n",
      "Working on limb L8 branch 3\n",
      "Working on limb L8 branch 2\n",
      "Working on limb L8 branch 6\n",
      "Working on limb L8 branch 0\n",
      "Working on limb L8 branch 1\n",
      "Working on limb L8 branch 4\n",
      "Working on limb L8 branch 5\n",
      "Working on limb L8 branch 7\n",
      "Working on limb L9 branch 1\n",
      "Working on limb L9 branch 0\n",
      "Working on limb L9 branch 2\n",
      "Working on limb L11 branch 0\n",
      "functions_list = [<function median_mesh_center at 0x7f0291536950>, <function n_faces_branch at 0x7f0291f30158>]\n"
     ]
    },
    {
     "data": {
      "application/vnd.jupyter.widget-view+json": {
       "model_id": "1ff7cc46fb664cf282ac6c7b33acc60d",
       "version_major": 2,
       "version_minor": 0
      },
      "text/plain": [
       "HBox(children=(FloatProgress(value=0.0, max=10.0), HTML(value='')))"
      ]
     },
     "metadata": {},
     "output_type": "display_data"
    },
    {
     "name": "stdout",
     "output_type": "stream",
     "text": [
      "\n"
     ]
    },
    {
     "data": {
      "application/vnd.jupyter.widget-view+json": {
       "model_id": "eac9e19ccbf248a497edd095ddeeec7b",
       "version_major": 2,
       "version_minor": 0
      },
      "text/plain": [
       "HBox(children=(FloatProgress(value=0.0, max=5.0), HTML(value='')))"
      ]
     },
     "metadata": {},
     "output_type": "display_data"
    },
    {
     "name": "stdout",
     "output_type": "stream",
     "text": [
      "\n"
     ]
    },
    {
     "data": {
      "application/vnd.jupyter.widget-view+json": {
       "model_id": "9f7c56316397491397c4e01e03dc2243",
       "version_major": 2,
       "version_minor": 0
      },
      "text/plain": [
       "HBox(children=(FloatProgress(value=0.0, max=20.0), HTML(value='')))"
      ]
     },
     "metadata": {},
     "output_type": "display_data"
    },
    {
     "name": "stdout",
     "output_type": "stream",
     "text": [
      "\n"
     ]
    },
    {
     "data": {
      "application/vnd.jupyter.widget-view+json": {
       "model_id": "ad865f4e0abf482899ecaa7b481389d8",
       "version_major": 2,
       "version_minor": 0
      },
      "text/plain": [
       "HBox(children=(FloatProgress(value=0.0, max=15.0), HTML(value='')))"
      ]
     },
     "metadata": {},
     "output_type": "display_data"
    },
    {
     "name": "stdout",
     "output_type": "stream",
     "text": [
      "\n"
     ]
    },
    {
     "data": {
      "application/vnd.jupyter.widget-view+json": {
       "model_id": "7f1e0a2f6ab8451681e874f7b936c2c4",
       "version_major": 2,
       "version_minor": 0
      },
      "text/plain": [
       "HBox(children=(FloatProgress(value=0.0, max=5.0), HTML(value='')))"
      ]
     },
     "metadata": {},
     "output_type": "display_data"
    },
    {
     "name": "stdout",
     "output_type": "stream",
     "text": [
      "\n"
     ]
    },
    {
     "data": {
      "application/vnd.jupyter.widget-view+json": {
       "model_id": "5c890a481aa1408984cfe2e016af5bfa",
       "version_major": 2,
       "version_minor": 0
      },
      "text/plain": [
       "HBox(children=(FloatProgress(value=0.0, max=4.0), HTML(value='')))"
      ]
     },
     "metadata": {},
     "output_type": "display_data"
    },
    {
     "name": "stdout",
     "output_type": "stream",
     "text": [
      "\n"
     ]
    },
    {
     "data": {
      "application/vnd.jupyter.widget-view+json": {
       "model_id": "a9a6cbaa712a40f6b6bed936b40c77bb",
       "version_major": 2,
       "version_minor": 0
      },
      "text/plain": [
       "HBox(children=(FloatProgress(value=0.0, max=2.0), HTML(value='')))"
      ]
     },
     "metadata": {},
     "output_type": "display_data"
    },
    {
     "name": "stdout",
     "output_type": "stream",
     "text": [
      "\n"
     ]
    },
    {
     "data": {
      "application/vnd.jupyter.widget-view+json": {
       "model_id": "ad54f42ebb874f97a8236c10ba5f67cb",
       "version_major": 2,
       "version_minor": 0
      },
      "text/plain": [
       "HBox(children=(FloatProgress(value=0.0, max=2.0), HTML(value='')))"
      ]
     },
     "metadata": {},
     "output_type": "display_data"
    },
    {
     "name": "stdout",
     "output_type": "stream",
     "text": [
      "\n"
     ]
    },
    {
     "data": {
      "application/vnd.jupyter.widget-view+json": {
       "model_id": "55298c88c00e4ba1a265e55a40a84caf",
       "version_major": 2,
       "version_minor": 0
      },
      "text/plain": [
       "HBox(children=(FloatProgress(value=0.0, max=2.0), HTML(value='')))"
      ]
     },
     "metadata": {},
     "output_type": "display_data"
    },
    {
     "name": "stdout",
     "output_type": "stream",
     "text": [
      "\n"
     ]
    },
    {
     "data": {
      "application/vnd.jupyter.widget-view+json": {
       "model_id": "6a664de1ded3457b94e8a183ce86ea67",
       "version_major": 2,
       "version_minor": 0
      },
      "text/plain": [
       "HBox(children=(FloatProgress(value=0.0, max=2.0), HTML(value='')))"
      ]
     },
     "metadata": {},
     "output_type": "display_data"
    },
    {
     "name": "stdout",
     "output_type": "stream",
     "text": [
      "\n"
     ]
    },
    {
     "data": {
      "application/vnd.jupyter.widget-view+json": {
       "model_id": "e482d894663b4341808e3412eebd9120",
       "version_major": 2,
       "version_minor": 0
      },
      "text/plain": [
       "HBox(children=(FloatProgress(value=0.0, max=2.0), HTML(value='')))"
      ]
     },
     "metadata": {},
     "output_type": "display_data"
    },
    {
     "name": "stdout",
     "output_type": "stream",
     "text": [
      "\n"
     ]
    },
    {
     "data": {
      "application/vnd.jupyter.widget-view+json": {
       "model_id": "d6e12890f21e49858707a4bd645b9efa",
       "version_major": 2,
       "version_minor": 0
      },
      "text/plain": [
       "HBox(children=(FloatProgress(value=0.0, max=2.0), HTML(value='')))"
      ]
     },
     "metadata": {},
     "output_type": "display_data"
    },
    {
     "name": "stdout",
     "output_type": "stream",
     "text": [
      "\n"
     ]
    },
    {
     "data": {
      "application/vnd.jupyter.widget-view+json": {
       "model_id": "bb09456bcec84a779311afb8c24bfd98",
       "version_major": 2,
       "version_minor": 0
      },
      "text/plain": [
       "HBox(children=(FloatProgress(value=0.0, max=11.0), HTML(value='')))"
      ]
     },
     "metadata": {},
     "output_type": "display_data"
    },
    {
     "name": "stdout",
     "output_type": "stream",
     "text": [
      "\n"
     ]
    },
    {
     "data": {
      "application/vnd.jupyter.widget-view+json": {
       "model_id": "685b3fa99d2e4af186df78b8ed279671",
       "version_major": 2,
       "version_minor": 0
      },
      "text/plain": [
       "HBox(children=(FloatProgress(value=0.0, max=5.0), HTML(value='')))"
      ]
     },
     "metadata": {},
     "output_type": "display_data"
    },
    {
     "name": "stdout",
     "output_type": "stream",
     "text": [
      "\n"
     ]
    },
    {
     "data": {
      "application/vnd.jupyter.widget-view+json": {
       "model_id": "bde2db45c9bd4db4ad190b920717a4f9",
       "version_major": 2,
       "version_minor": 0
      },
      "text/plain": [
       "HBox(children=(FloatProgress(value=0.0, max=8.0), HTML(value='')))"
      ]
     },
     "metadata": {},
     "output_type": "display_data"
    },
    {
     "name": "stdout",
     "output_type": "stream",
     "text": [
      "\n"
     ]
    },
    {
     "data": {
      "application/vnd.jupyter.widget-view+json": {
       "model_id": "7b9490597ce643da9f68d2c01ed96d8a",
       "version_major": 2,
       "version_minor": 0
      },
      "text/plain": [
       "HBox(children=(FloatProgress(value=0.0, max=13.0), HTML(value='')))"
      ]
     },
     "metadata": {},
     "output_type": "display_data"
    },
    {
     "name": "stdout",
     "output_type": "stream",
     "text": [
      "\n"
     ]
    },
    {
     "data": {
      "application/vnd.jupyter.widget-view+json": {
       "model_id": "7738d5c60c43470091a06ee219553b67",
       "version_major": 2,
       "version_minor": 0
      },
      "text/plain": [
       "HBox(children=(FloatProgress(value=0.0, max=5.0), HTML(value='')))"
      ]
     },
     "metadata": {},
     "output_type": "display_data"
    },
    {
     "name": "stdout",
     "output_type": "stream",
     "text": [
      "\n"
     ]
    },
    {
     "data": {
      "application/vnd.jupyter.widget-view+json": {
       "model_id": "9a28f775156c4579a46da90c1f9abdff",
       "version_major": 2,
       "version_minor": 0
      },
      "text/plain": [
       "HBox(children=(FloatProgress(value=0.0, max=14.0), HTML(value='')))"
      ]
     },
     "metadata": {},
     "output_type": "display_data"
    },
    {
     "name": "stdout",
     "output_type": "stream",
     "text": [
      "\n"
     ]
    },
    {
     "data": {
      "application/vnd.jupyter.widget-view+json": {
       "model_id": "e371a4f26fde42549eb4cbeb94b4dc08",
       "version_major": 2,
       "version_minor": 0
      },
      "text/plain": [
       "HBox(children=(FloatProgress(value=0.0, max=29.0), HTML(value='')))"
      ]
     },
     "metadata": {},
     "output_type": "display_data"
    },
    {
     "name": "stdout",
     "output_type": "stream",
     "text": [
      "\n"
     ]
    },
    {
     "data": {
      "application/vnd.jupyter.widget-view+json": {
       "model_id": "b95db90aec864ac9ad55b52c1400caee",
       "version_major": 2,
       "version_minor": 0
      },
      "text/plain": [
       "HBox(children=(FloatProgress(value=0.0, max=10.0), HTML(value='')))"
      ]
     },
     "metadata": {},
     "output_type": "display_data"
    },
    {
     "name": "stdout",
     "output_type": "stream",
     "text": [
      "\n"
     ]
    },
    {
     "data": {
      "application/vnd.jupyter.widget-view+json": {
       "model_id": "599d652e3e144e95943dc11ad25761fe",
       "version_major": 2,
       "version_minor": 0
      },
      "text/plain": [
       "HBox(children=(FloatProgress(value=0.0, max=13.0), HTML(value='')))"
      ]
     },
     "metadata": {},
     "output_type": "display_data"
    },
    {
     "name": "stdout",
     "output_type": "stream",
     "text": [
      "\n"
     ]
    },
    {
     "data": {
      "application/vnd.jupyter.widget-view+json": {
       "model_id": "7f967517d84d48db881cd7e241a52a7b",
       "version_major": 2,
       "version_minor": 0
      },
      "text/plain": [
       "HBox(children=(FloatProgress(value=0.0, max=3.0), HTML(value='')))"
      ]
     },
     "metadata": {},
     "output_type": "display_data"
    },
    {
     "name": "stdout",
     "output_type": "stream",
     "text": [
      "\n"
     ]
    },
    {
     "data": {
      "application/vnd.jupyter.widget-view+json": {
       "model_id": "4ad12a17fa7e4047804bf938d41dbce4",
       "version_major": 2,
       "version_minor": 0
      },
      "text/plain": [
       "HBox(children=(FloatProgress(value=0.0, max=4.0), HTML(value='')))"
      ]
     },
     "metadata": {},
     "output_type": "display_data"
    },
    {
     "name": "stdout",
     "output_type": "stream",
     "text": [
      "\n"
     ]
    },
    {
     "data": {
      "application/vnd.jupyter.widget-view+json": {
       "model_id": "3bc8a98fdcf8482db5f8a02165870cd6",
       "version_major": 2,
       "version_minor": 0
      },
      "text/plain": [
       "HBox(children=(FloatProgress(value=0.0, max=7.0), HTML(value='')))"
      ]
     },
     "metadata": {},
     "output_type": "display_data"
    },
    {
     "name": "stdout",
     "output_type": "stream",
     "text": [
      "\n"
     ]
    },
    {
     "data": {
      "application/vnd.jupyter.widget-view+json": {
       "model_id": "59206e477593483d8bdc6997fa456a29",
       "version_major": 2,
       "version_minor": 0
      },
      "text/plain": [
       "HBox(children=(FloatProgress(value=0.0, max=3.0), HTML(value='')))"
      ]
     },
     "metadata": {},
     "output_type": "display_data"
    },
    {
     "name": "stdout",
     "output_type": "stream",
     "text": [
      "\n"
     ]
    },
    {
     "data": {
      "application/vnd.jupyter.widget-view+json": {
       "model_id": "9ff73b8819d24f428ec08823857c0aab",
       "version_major": 2,
       "version_minor": 0
      },
      "text/plain": [
       "HBox(children=(FloatProgress(value=0.0, max=52.0), HTML(value='')))"
      ]
     },
     "metadata": {},
     "output_type": "display_data"
    },
    {
     "name": "stdout",
     "output_type": "stream",
     "text": [
      "\n"
     ]
    },
    {
     "data": {
      "application/vnd.jupyter.widget-view+json": {
       "model_id": "0b5db6b0e4d348df8f4f8476dcd4df8e",
       "version_major": 2,
       "version_minor": 0
      },
      "text/plain": [
       "HBox(children=(FloatProgress(value=0.0, max=10.0), HTML(value='')))"
      ]
     },
     "metadata": {},
     "output_type": "display_data"
    },
    {
     "name": "stdout",
     "output_type": "stream",
     "text": [
      "\n"
     ]
    },
    {
     "data": {
      "application/vnd.jupyter.widget-view+json": {
       "model_id": "c05c56cfc86b4045830bbce8e1eab9ac",
       "version_major": 2,
       "version_minor": 0
      },
      "text/plain": [
       "HBox(children=(FloatProgress(value=0.0, max=6.0), HTML(value='')))"
      ]
     },
     "metadata": {},
     "output_type": "display_data"
    },
    {
     "name": "stdout",
     "output_type": "stream",
     "text": [
      "\n"
     ]
    },
    {
     "data": {
      "application/vnd.jupyter.widget-view+json": {
       "model_id": "f658fffc5e254c388c853cd5ef2c43b6",
       "version_major": 2,
       "version_minor": 0
      },
      "text/plain": [
       "HBox(children=(FloatProgress(value=0.0, max=20.0), HTML(value='')))"
      ]
     },
     "metadata": {},
     "output_type": "display_data"
    },
    {
     "name": "stdout",
     "output_type": "stream",
     "text": [
      "\n"
     ]
    },
    {
     "data": {
      "application/vnd.jupyter.widget-view+json": {
       "model_id": "49d2c0e60d0a40049946d307b7718dd0",
       "version_major": 2,
       "version_minor": 0
      },
      "text/plain": [
       "HBox(children=(FloatProgress(value=0.0, max=7.0), HTML(value='')))"
      ]
     },
     "metadata": {},
     "output_type": "display_data"
    },
    {
     "name": "stdout",
     "output_type": "stream",
     "text": [
      "\n"
     ]
    },
    {
     "data": {
      "application/vnd.jupyter.widget-view+json": {
       "model_id": "c9f263f219ae4d64831c681076e1b2af",
       "version_major": 2,
       "version_minor": 0
      },
      "text/plain": [
       "HBox(children=(FloatProgress(value=0.0, max=12.0), HTML(value='')))"
      ]
     },
     "metadata": {},
     "output_type": "display_data"
    },
    {
     "name": "stdout",
     "output_type": "stream",
     "text": [
      "\n"
     ]
    },
    {
     "data": {
      "application/vnd.jupyter.widget-view+json": {
       "model_id": "5e7bbee9aa724ae18be7b482d084812f",
       "version_major": 2,
       "version_minor": 0
      },
      "text/plain": [
       "HBox(children=(FloatProgress(value=0.0, max=24.0), HTML(value='')))"
      ]
     },
     "metadata": {},
     "output_type": "display_data"
    },
    {
     "name": "stdout",
     "output_type": "stream",
     "text": [
      "\n"
     ]
    },
    {
     "data": {
      "application/vnd.jupyter.widget-view+json": {
       "model_id": "fad819e477cf4a55be83e3497cbd1c14",
       "version_major": 2,
       "version_minor": 0
      },
      "text/plain": [
       "HBox(children=(FloatProgress(value=0.0, max=37.0), HTML(value='')))"
      ]
     },
     "metadata": {},
     "output_type": "display_data"
    },
    {
     "name": "stdout",
     "output_type": "stream",
     "text": [
      "\n"
     ]
    },
    {
     "data": {
      "application/vnd.jupyter.widget-view+json": {
       "model_id": "e19d57b6d19444f78102cf6551f0effc",
       "version_major": 2,
       "version_minor": 0
      },
      "text/plain": [
       "HBox(children=(FloatProgress(value=0.0, max=4.0), HTML(value='')))"
      ]
     },
     "metadata": {},
     "output_type": "display_data"
    },
    {
     "name": "stdout",
     "output_type": "stream",
     "text": [
      "\n"
     ]
    },
    {
     "data": {
      "application/vnd.jupyter.widget-view+json": {
       "model_id": "06314f553aea458aa40d9f07310dedca",
       "version_major": 2,
       "version_minor": 0
      },
      "text/plain": [
       "HBox(children=(FloatProgress(value=0.0, max=26.0), HTML(value='')))"
      ]
     },
     "metadata": {},
     "output_type": "display_data"
    },
    {
     "name": "stdout",
     "output_type": "stream",
     "text": [
      "\n"
     ]
    },
    {
     "data": {
      "application/vnd.jupyter.widget-view+json": {
       "model_id": "bc9a5cc35ede4e8292e795e52811675d",
       "version_major": 2,
       "version_minor": 0
      },
      "text/plain": [
       "HBox(children=(FloatProgress(value=0.0, max=21.0), HTML(value='')))"
      ]
     },
     "metadata": {},
     "output_type": "display_data"
    },
    {
     "name": "stdout",
     "output_type": "stream",
     "text": [
      "\n"
     ]
    },
    {
     "data": {
      "application/vnd.jupyter.widget-view+json": {
       "model_id": "e4ed7b1e740149639ea43e3f2bde4aef",
       "version_major": 2,
       "version_minor": 0
      },
      "text/plain": [
       "HBox(children=(FloatProgress(value=0.0, max=9.0), HTML(value='')))"
      ]
     },
     "metadata": {},
     "output_type": "display_data"
    },
    {
     "name": "stdout",
     "output_type": "stream",
     "text": [
      "\n"
     ]
    },
    {
     "data": {
      "application/vnd.jupyter.widget-view+json": {
       "model_id": "970b93780ece4aa49771aa42b82ccc0a",
       "version_major": 2,
       "version_minor": 0
      },
      "text/plain": [
       "HBox(children=(FloatProgress(value=0.0, max=73.0), HTML(value='')))"
      ]
     },
     "metadata": {},
     "output_type": "display_data"
    },
    {
     "name": "stdout",
     "output_type": "stream",
     "text": [
      "\n"
     ]
    },
    {
     "data": {
      "application/vnd.jupyter.widget-view+json": {
       "model_id": "514b6e40a6884a778f18d0f8d4942780",
       "version_major": 2,
       "version_minor": 0
      },
      "text/plain": [
       "HBox(children=(FloatProgress(value=0.0, max=45.0), HTML(value='')))"
      ]
     },
     "metadata": {},
     "output_type": "display_data"
    },
    {
     "name": "stdout",
     "output_type": "stream",
     "text": [
      "\n"
     ]
    },
    {
     "data": {
      "application/vnd.jupyter.widget-view+json": {
       "model_id": "fc08d99b5a224e34935319ba8a8045ca",
       "version_major": 2,
       "version_minor": 0
      },
      "text/plain": [
       "HBox(children=(FloatProgress(value=0.0, max=3.0), HTML(value='')))"
      ]
     },
     "metadata": {},
     "output_type": "display_data"
    },
    {
     "name": "stdout",
     "output_type": "stream",
     "text": [
      "\n"
     ]
    },
    {
     "data": {
      "application/vnd.jupyter.widget-view+json": {
       "model_id": "316555577f8048a182f9c74bee39c311",
       "version_major": 2,
       "version_minor": 0
      },
      "text/plain": [
       "HBox(children=(FloatProgress(value=0.0, max=5.0), HTML(value='')))"
      ]
     },
     "metadata": {},
     "output_type": "display_data"
    },
    {
     "name": "stdout",
     "output_type": "stream",
     "text": [
      "\n"
     ]
    },
    {
     "data": {
      "application/vnd.jupyter.widget-view+json": {
       "model_id": "6b11680bf7d3451880ddedff143b0da7",
       "version_major": 2,
       "version_minor": 0
      },
      "text/plain": [
       "HBox(children=(FloatProgress(value=0.0, max=1.0), HTML(value='')))"
      ]
     },
     "metadata": {},
     "output_type": "display_data"
    },
    {
     "name": "stdout",
     "output_type": "stream",
     "text": [
      "\n",
      "There was only one mesh found from the spine process and mesh split, returning empty array\n"
     ]
    },
    {
     "data": {
      "application/vnd.jupyter.widget-view+json": {
       "model_id": "a42e1f42973c467ea98ee0e092a5fd16",
       "version_major": 2,
       "version_minor": 0
      },
      "text/plain": [
       "HBox(children=(FloatProgress(value=0.0, max=3.0), HTML(value='')))"
      ]
     },
     "metadata": {},
     "output_type": "display_data"
    },
    {
     "name": "stdout",
     "output_type": "stream",
     "text": [
      "\n"
     ]
    },
    {
     "data": {
      "application/vnd.jupyter.widget-view+json": {
       "model_id": "d02ff1c866af41db8e5feda952e09e56",
       "version_major": 2,
       "version_minor": 0
      },
      "text/plain": [
       "HBox(children=(FloatProgress(value=0.0, max=8.0), HTML(value='')))"
      ]
     },
     "metadata": {},
     "output_type": "display_data"
    },
    {
     "name": "stdout",
     "output_type": "stream",
     "text": [
      "\n"
     ]
    },
    {
     "data": {
      "application/vnd.jupyter.widget-view+json": {
       "model_id": "87d5127250c342ad8fbb3845ec577df2",
       "version_major": 2,
       "version_minor": 0
      },
      "text/plain": [
       "HBox(children=(FloatProgress(value=0.0, max=3.0), HTML(value='')))"
      ]
     },
     "metadata": {},
     "output_type": "display_data"
    },
    {
     "name": "stdout",
     "output_type": "stream",
     "text": [
      "\n"
     ]
    },
    {
     "data": {
      "application/vnd.jupyter.widget-view+json": {
       "model_id": "2b02fb7962b94814a6223fca20b2bfb7",
       "version_major": 2,
       "version_minor": 0
      },
      "text/plain": [
       "HBox(children=(FloatProgress(value=0.0, max=3.0), HTML(value='')))"
      ]
     },
     "metadata": {},
     "output_type": "display_data"
    },
    {
     "name": "stdout",
     "output_type": "stream",
     "text": [
      "\n"
     ]
    },
    {
     "data": {
      "application/vnd.jupyter.widget-view+json": {
       "model_id": "b7fbd8728f754a17898408537437552d",
       "version_major": 2,
       "version_minor": 0
      },
      "text/plain": [
       "HBox(children=(FloatProgress(value=0.0, max=6.0), HTML(value='')))"
      ]
     },
     "metadata": {},
     "output_type": "display_data"
    },
    {
     "name": "stdout",
     "output_type": "stream",
     "text": [
      "\n"
     ]
    },
    {
     "data": {
      "application/vnd.jupyter.widget-view+json": {
       "model_id": "debc4cf0ee64419fb4814d33edff4c15",
       "version_major": 2,
       "version_minor": 0
      },
      "text/plain": [
       "HBox(children=(FloatProgress(value=0.0, max=19.0), HTML(value='')))"
      ]
     },
     "metadata": {},
     "output_type": "display_data"
    },
    {
     "name": "stdout",
     "output_type": "stream",
     "text": [
      "\n"
     ]
    },
    {
     "data": {
      "application/vnd.jupyter.widget-view+json": {
       "model_id": "a7f788654dc44970917e721170ad2f86",
       "version_major": 2,
       "version_minor": 0
      },
      "text/plain": [
       "HBox(children=(FloatProgress(value=0.0, max=81.0), HTML(value='')))"
      ]
     },
     "metadata": {},
     "output_type": "display_data"
    },
    {
     "name": "stdout",
     "output_type": "stream",
     "text": [
      "\n"
     ]
    },
    {
     "data": {
      "application/vnd.jupyter.widget-view+json": {
       "model_id": "bd97ba9aa57c45f79884c7fb86638a5c",
       "version_major": 2,
       "version_minor": 0
      },
      "text/plain": [
       "HBox(children=(FloatProgress(value=0.0, max=48.0), HTML(value='')))"
      ]
     },
     "metadata": {},
     "output_type": "display_data"
    },
    {
     "name": "stdout",
     "output_type": "stream",
     "text": [
      "\n"
     ]
    },
    {
     "data": {
      "application/vnd.jupyter.widget-view+json": {
       "model_id": "d347c9b4630c4551b61b2e1327acd6da",
       "version_major": 2,
       "version_minor": 0
      },
      "text/plain": [
       "HBox(children=(FloatProgress(value=0.0, max=25.0), HTML(value='')))"
      ]
     },
     "metadata": {},
     "output_type": "display_data"
    },
    {
     "name": "stdout",
     "output_type": "stream",
     "text": [
      "\n"
     ]
    },
    {
     "data": {
      "application/vnd.jupyter.widget-view+json": {
       "model_id": "e60b863a927c414f869018ce6672a977",
       "version_major": 2,
       "version_minor": 0
      },
      "text/plain": [
       "HBox(children=(FloatProgress(value=0.0, max=1.0), HTML(value='')))"
      ]
     },
     "metadata": {},
     "output_type": "display_data"
    },
    {
     "name": "stdout",
     "output_type": "stream",
     "text": [
      "\n",
      "There was only one mesh found from the spine process and mesh split, returning empty array\n"
     ]
    },
    {
     "data": {
      "application/vnd.jupyter.widget-view+json": {
       "model_id": "379fa9f13fb444ada50bc57f05ede2fd",
       "version_major": 2,
       "version_minor": 0
      },
      "text/plain": [
       "HBox(children=(FloatProgress(value=0.0, max=4.0), HTML(value='')))"
      ]
     },
     "metadata": {},
     "output_type": "display_data"
    },
    {
     "name": "stdout",
     "output_type": "stream",
     "text": [
      "\n"
     ]
    },
    {
     "data": {
      "application/vnd.jupyter.widget-view+json": {
       "model_id": "cead154b4f5f43e7b2c62584e4ba2cd3",
       "version_major": 2,
       "version_minor": 0
      },
      "text/plain": [
       "HBox(children=(FloatProgress(value=0.0, max=20.0), HTML(value='')))"
      ]
     },
     "metadata": {},
     "output_type": "display_data"
    },
    {
     "name": "stdout",
     "output_type": "stream",
     "text": [
      "\n"
     ]
    },
    {
     "data": {
      "application/vnd.jupyter.widget-view+json": {
       "model_id": "c26f0c5eb1b0487fb1324b09c6275665",
       "version_major": 2,
       "version_minor": 0
      },
      "text/plain": [
       "HBox(children=(FloatProgress(value=0.0, max=20.0), HTML(value='')))"
      ]
     },
     "metadata": {},
     "output_type": "display_data"
    },
    {
     "name": "stdout",
     "output_type": "stream",
     "text": [
      "\n"
     ]
    },
    {
     "data": {
      "application/vnd.jupyter.widget-view+json": {
       "model_id": "d34a5e5f7e1c43b9b3916f83d8e3ef22",
       "version_major": 2,
       "version_minor": 0
      },
      "text/plain": [
       "HBox(children=(FloatProgress(value=0.0, max=17.0), HTML(value='')))"
      ]
     },
     "metadata": {},
     "output_type": "display_data"
    },
    {
     "name": "stdout",
     "output_type": "stream",
     "text": [
      "\n"
     ]
    },
    {
     "data": {
      "application/vnd.jupyter.widget-view+json": {
       "model_id": "969592490dfb453093d0cd24e20760e5",
       "version_major": 2,
       "version_minor": 0
      },
      "text/plain": [
       "HBox(children=(FloatProgress(value=0.0, max=44.0), HTML(value='')))"
      ]
     },
     "metadata": {},
     "output_type": "display_data"
    },
    {
     "name": "stdout",
     "output_type": "stream",
     "text": [
      "\n"
     ]
    },
    {
     "data": {
      "application/vnd.jupyter.widget-view+json": {
       "model_id": "631fe8e8f7224190941cb2b08960131a",
       "version_major": 2,
       "version_minor": 0
      },
      "text/plain": [
       "HBox(children=(FloatProgress(value=0.0, max=6.0), HTML(value='')))"
      ]
     },
     "metadata": {},
     "output_type": "display_data"
    },
    {
     "name": "stdout",
     "output_type": "stream",
     "text": [
      "\n"
     ]
    },
    {
     "data": {
      "application/vnd.jupyter.widget-view+json": {
       "model_id": "97fc954cc6594fc29ee33aafb0f4d23a",
       "version_major": 2,
       "version_minor": 0
      },
      "text/plain": [
       "HBox(children=(FloatProgress(value=0.0, max=30.0), HTML(value='')))"
      ]
     },
     "metadata": {},
     "output_type": "display_data"
    },
    {
     "name": "stdout",
     "output_type": "stream",
     "text": [
      "\n"
     ]
    },
    {
     "data": {
      "application/vnd.jupyter.widget-view+json": {
       "model_id": "66d4ad1362b54812be4e8db88f706d86",
       "version_major": 2,
       "version_minor": 0
      },
      "text/plain": [
       "HBox(children=(FloatProgress(value=0.0, max=12.0), HTML(value='')))"
      ]
     },
     "metadata": {},
     "output_type": "display_data"
    },
    {
     "name": "stdout",
     "output_type": "stream",
     "text": [
      "\n"
     ]
    },
    {
     "data": {
      "application/vnd.jupyter.widget-view+json": {
       "model_id": "59c0851cc5f84fa89ad85461db22431b",
       "version_major": 2,
       "version_minor": 0
      },
      "text/plain": [
       "HBox(children=(FloatProgress(value=0.0, max=7.0), HTML(value='')))"
      ]
     },
     "metadata": {},
     "output_type": "display_data"
    },
    {
     "name": "stdout",
     "output_type": "stream",
     "text": [
      "\n"
     ]
    },
    {
     "data": {
      "application/vnd.jupyter.widget-view+json": {
       "model_id": "4e7c3bc9fc3249359a5b63a039419755",
       "version_major": 2,
       "version_minor": 0
      },
      "text/plain": [
       "HBox(children=(FloatProgress(value=0.0, max=23.0), HTML(value='')))"
      ]
     },
     "metadata": {},
     "output_type": "display_data"
    },
    {
     "name": "stdout",
     "output_type": "stream",
     "text": [
      "\n"
     ]
    },
    {
     "data": {
      "application/vnd.jupyter.widget-view+json": {
       "model_id": "bdc7c8d027664a9a9ab1a3e051414858",
       "version_major": 2,
       "version_minor": 0
      },
      "text/plain": [
       "HBox(children=(FloatProgress(value=0.0, max=32.0), HTML(value='')))"
      ]
     },
     "metadata": {},
     "output_type": "display_data"
    },
    {
     "name": "stdout",
     "output_type": "stream",
     "text": [
      "\n"
     ]
    },
    {
     "data": {
      "application/vnd.jupyter.widget-view+json": {
       "model_id": "2057c1aadd924938bd7be77b4947a282",
       "version_major": 2,
       "version_minor": 0
      },
      "text/plain": [
       "HBox(children=(FloatProgress(value=0.0, max=21.0), HTML(value='')))"
      ]
     },
     "metadata": {},
     "output_type": "display_data"
    },
    {
     "name": "stdout",
     "output_type": "stream",
     "text": [
      "\n"
     ]
    },
    {
     "data": {
      "application/vnd.jupyter.widget-view+json": {
       "model_id": "91a33b53513a4472bfa26cbf88d94b18",
       "version_major": 2,
       "version_minor": 0
      },
      "text/plain": [
       "HBox(children=(FloatProgress(value=0.0, max=31.0), HTML(value='')))"
      ]
     },
     "metadata": {},
     "output_type": "display_data"
    },
    {
     "name": "stdout",
     "output_type": "stream",
     "text": [
      "\n"
     ]
    },
    {
     "data": {
      "application/vnd.jupyter.widget-view+json": {
       "model_id": "ee945e56039347d29a5def6d5425550e",
       "version_major": 2,
       "version_minor": 0
      },
      "text/plain": [
       "HBox(children=(FloatProgress(value=0.0, max=11.0), HTML(value='')))"
      ]
     },
     "metadata": {},
     "output_type": "display_data"
    },
    {
     "name": "stdout",
     "output_type": "stream",
     "text": [
      "\n"
     ]
    },
    {
     "data": {
      "application/vnd.jupyter.widget-view+json": {
       "model_id": "588cbefb32324a8889129ae1a10f51cc",
       "version_major": 2,
       "version_minor": 0
      },
      "text/plain": [
       "HBox(children=(FloatProgress(value=0.0, max=16.0), HTML(value='')))"
      ]
     },
     "metadata": {},
     "output_type": "display_data"
    },
    {
     "name": "stdout",
     "output_type": "stream",
     "text": [
      "\n"
     ]
    },
    {
     "data": {
      "application/vnd.jupyter.widget-view+json": {
       "model_id": "abd823426ffb406b9e396900bf395f81",
       "version_major": 2,
       "version_minor": 0
      },
      "text/plain": [
       "HBox(children=(FloatProgress(value=0.0, max=5.0), HTML(value='')))"
      ]
     },
     "metadata": {},
     "output_type": "display_data"
    },
    {
     "name": "stdout",
     "output_type": "stream",
     "text": [
      "\n"
     ]
    },
    {
     "data": {
      "application/vnd.jupyter.widget-view+json": {
       "model_id": "d37d156fe4974967bcef4a57fb7f84a7",
       "version_major": 2,
       "version_minor": 0
      },
      "text/plain": [
       "HBox(children=(FloatProgress(value=0.0, max=6.0), HTML(value='')))"
      ]
     },
     "metadata": {},
     "output_type": "display_data"
    },
    {
     "name": "stdout",
     "output_type": "stream",
     "text": [
      "\n"
     ]
    },
    {
     "data": {
      "application/vnd.jupyter.widget-view+json": {
       "model_id": "2aca082140344f619c0bbb1d465dba44",
       "version_major": 2,
       "version_minor": 0
      },
      "text/plain": [
       "HBox(children=(FloatProgress(value=0.0, max=2.0), HTML(value='')))"
      ]
     },
     "metadata": {},
     "output_type": "display_data"
    },
    {
     "name": "stdout",
     "output_type": "stream",
     "text": [
      "\n"
     ]
    },
    {
     "data": {
      "application/vnd.jupyter.widget-view+json": {
       "model_id": "f950e95bd9db4ce9ae2e22840c177bc0",
       "version_major": 2,
       "version_minor": 0
      },
      "text/plain": [
       "HBox(children=(FloatProgress(value=0.0, max=82.0), HTML(value='')))"
      ]
     },
     "metadata": {},
     "output_type": "display_data"
    },
    {
     "name": "stdout",
     "output_type": "stream",
     "text": [
      "\n"
     ]
    },
    {
     "data": {
      "application/vnd.jupyter.widget-view+json": {
       "model_id": "aab98b40f69e4578a67db273e3af2682",
       "version_major": 2,
       "version_minor": 0
      },
      "text/plain": [
       "HBox(children=(FloatProgress(value=0.0, max=36.0), HTML(value='')))"
      ]
     },
     "metadata": {},
     "output_type": "display_data"
    },
    {
     "name": "stdout",
     "output_type": "stream",
     "text": [
      "\n"
     ]
    },
    {
     "data": {
      "application/vnd.jupyter.widget-view+json": {
       "model_id": "db22d9a28bcd4412ab859b14fb558a07",
       "version_major": 2,
       "version_minor": 0
      },
      "text/plain": [
       "HBox(children=(FloatProgress(value=0.0, max=27.0), HTML(value='')))"
      ]
     },
     "metadata": {},
     "output_type": "display_data"
    },
    {
     "name": "stdout",
     "output_type": "stream",
     "text": [
      "\n"
     ]
    },
    {
     "data": {
      "application/vnd.jupyter.widget-view+json": {
       "model_id": "015b95bbb1f64f2cb13aec6cc110dfd8",
       "version_major": 2,
       "version_minor": 0
      },
      "text/plain": [
       "HBox(children=(FloatProgress(value=0.0, max=26.0), HTML(value='')))"
      ]
     },
     "metadata": {},
     "output_type": "display_data"
    },
    {
     "name": "stdout",
     "output_type": "stream",
     "text": [
      "\n"
     ]
    },
    {
     "data": {
      "application/vnd.jupyter.widget-view+json": {
       "model_id": "2da5af25d0e943a494470d65a0bcf21e",
       "version_major": 2,
       "version_minor": 0
      },
      "text/plain": [
       "HBox(children=(FloatProgress(value=0.0, max=12.0), HTML(value='')))"
      ]
     },
     "metadata": {},
     "output_type": "display_data"
    },
    {
     "name": "stdout",
     "output_type": "stream",
     "text": [
      "\n"
     ]
    },
    {
     "data": {
      "application/vnd.jupyter.widget-view+json": {
       "model_id": "0c94d21b5161436a9e89bd24853ab7e6",
       "version_major": 2,
       "version_minor": 0
      },
      "text/plain": [
       "HBox(children=(FloatProgress(value=0.0, max=5.0), HTML(value='')))"
      ]
     },
     "metadata": {},
     "output_type": "display_data"
    },
    {
     "name": "stdout",
     "output_type": "stream",
     "text": [
      "\n"
     ]
    },
    {
     "data": {
      "application/vnd.jupyter.widget-view+json": {
       "model_id": "9ef3da604820420185c18d4761916b7f",
       "version_major": 2,
       "version_minor": 0
      },
      "text/plain": [
       "HBox(children=(FloatProgress(value=0.0, max=4.0), HTML(value='')))"
      ]
     },
     "metadata": {},
     "output_type": "display_data"
    },
    {
     "name": "stdout",
     "output_type": "stream",
     "text": [
      "\n"
     ]
    },
    {
     "data": {
      "application/vnd.jupyter.widget-view+json": {
       "model_id": "3702ed3adc814151b1cad6ed6bb15e5d",
       "version_major": 2,
       "version_minor": 0
      },
      "text/plain": [
       "HBox(children=(FloatProgress(value=0.0, max=14.0), HTML(value='')))"
      ]
     },
     "metadata": {},
     "output_type": "display_data"
    },
    {
     "name": "stdout",
     "output_type": "stream",
     "text": [
      "\n"
     ]
    },
    {
     "data": {
      "application/vnd.jupyter.widget-view+json": {
       "model_id": "bb45226c89ff40158b2c2094d9d71fd5",
       "version_major": 2,
       "version_minor": 0
      },
      "text/plain": [
       "HBox(children=(FloatProgress(value=0.0, max=4.0), HTML(value='')))"
      ]
     },
     "metadata": {},
     "output_type": "display_data"
    },
    {
     "name": "stdout",
     "output_type": "stream",
     "text": [
      "\n"
     ]
    },
    {
     "data": {
      "application/vnd.jupyter.widget-view+json": {
       "model_id": "7f1e782b8d7c44ed838ee5572fedbcda",
       "version_major": 2,
       "version_minor": 0
      },
      "text/plain": [
       "HBox(children=(FloatProgress(value=0.0, max=27.0), HTML(value='')))"
      ]
     },
     "metadata": {},
     "output_type": "display_data"
    },
    {
     "name": "stdout",
     "output_type": "stream",
     "text": [
      "\n"
     ]
    },
    {
     "data": {
      "application/vnd.jupyter.widget-view+json": {
       "model_id": "950b1684cb6149bcb2e7e51d76034a2d",
       "version_major": 2,
       "version_minor": 0
      },
      "text/plain": [
       "HBox(children=(FloatProgress(value=0.0, max=2.0), HTML(value='')))"
      ]
     },
     "metadata": {},
     "output_type": "display_data"
    },
    {
     "name": "stdout",
     "output_type": "stream",
     "text": [
      "\n"
     ]
    },
    {
     "data": {
      "application/vnd.jupyter.widget-view+json": {
       "model_id": "c62ca2ce76fc456c89411309e794cfb9",
       "version_major": 2,
       "version_minor": 0
      },
      "text/plain": [
       "HBox(children=(FloatProgress(value=0.0, max=5.0), HTML(value='')))"
      ]
     },
     "metadata": {},
     "output_type": "display_data"
    },
    {
     "name": "stdout",
     "output_type": "stream",
     "text": [
      "\n"
     ]
    },
    {
     "data": {
      "application/vnd.jupyter.widget-view+json": {
       "model_id": "7825569dd31947ab9f8c271c9f8d130b",
       "version_major": 2,
       "version_minor": 0
      },
      "text/plain": [
       "HBox(children=(FloatProgress(value=0.0, max=5.0), HTML(value='')))"
      ]
     },
     "metadata": {},
     "output_type": "display_data"
    },
    {
     "name": "stdout",
     "output_type": "stream",
     "text": [
      "\n"
     ]
    },
    {
     "data": {
      "application/vnd.jupyter.widget-view+json": {
       "model_id": "9733928628d64645a713d635f0ad48df",
       "version_major": 2,
       "version_minor": 0
      },
      "text/plain": [
       "HBox(children=(FloatProgress(value=0.0, max=6.0), HTML(value='')))"
      ]
     },
     "metadata": {},
     "output_type": "display_data"
    },
    {
     "name": "stdout",
     "output_type": "stream",
     "text": [
      "\n"
     ]
    },
    {
     "data": {
      "application/vnd.jupyter.widget-view+json": {
       "model_id": "233b3e9dce4548278efee50bb9aec5b8",
       "version_major": 2,
       "version_minor": 0
      },
      "text/plain": [
       "HBox(children=(FloatProgress(value=0.0, max=4.0), HTML(value='')))"
      ]
     },
     "metadata": {},
     "output_type": "display_data"
    },
    {
     "name": "stdout",
     "output_type": "stream",
     "text": [
      "\n"
     ]
    },
    {
     "data": {
      "application/vnd.jupyter.widget-view+json": {
       "model_id": "845f3f019c094301947fbbcf4224af3c",
       "version_major": 2,
       "version_minor": 0
      },
      "text/plain": [
       "HBox(children=(FloatProgress(value=0.0, max=3.0), HTML(value='')))"
      ]
     },
     "metadata": {},
     "output_type": "display_data"
    },
    {
     "name": "stdout",
     "output_type": "stream",
     "text": [
      "\n"
     ]
    },
    {
     "data": {
      "application/vnd.jupyter.widget-view+json": {
       "model_id": "b9188979d6d64ad6952ce30cc5915ea8",
       "version_major": 2,
       "version_minor": 0
      },
      "text/plain": [
       "HBox(children=(FloatProgress(value=0.0, max=38.0), HTML(value='')))"
      ]
     },
     "metadata": {},
     "output_type": "display_data"
    },
    {
     "name": "stdout",
     "output_type": "stream",
     "text": [
      "\n"
     ]
    },
    {
     "data": {
      "application/vnd.jupyter.widget-view+json": {
       "model_id": "f0b2ebbeaad847d08ce07676709f3daa",
       "version_major": 2,
       "version_minor": 0
      },
      "text/plain": [
       "HBox(children=(FloatProgress(value=0.0, max=9.0), HTML(value='')))"
      ]
     },
     "metadata": {},
     "output_type": "display_data"
    },
    {
     "name": "stdout",
     "output_type": "stream",
     "text": [
      "\n"
     ]
    },
    {
     "data": {
      "application/vnd.jupyter.widget-view+json": {
       "model_id": "3d5f106d684d4a60865a0625d015980c",
       "version_major": 2,
       "version_minor": 0
      },
      "text/plain": [
       "HBox(children=(FloatProgress(value=0.0, max=10.0), HTML(value='')))"
      ]
     },
     "metadata": {},
     "output_type": "display_data"
    },
    {
     "name": "stdout",
     "output_type": "stream",
     "text": [
      "\n"
     ]
    },
    {
     "data": {
      "application/vnd.jupyter.widget-view+json": {
       "model_id": "9f4cac56946140f6a6478509bc194fd7",
       "version_major": 2,
       "version_minor": 0
      },
      "text/plain": [
       "HBox(children=(FloatProgress(value=0.0, max=6.0), HTML(value='')))"
      ]
     },
     "metadata": {},
     "output_type": "display_data"
    },
    {
     "name": "stdout",
     "output_type": "stream",
     "text": [
      "\n"
     ]
    },
    {
     "data": {
      "application/vnd.jupyter.widget-view+json": {
       "model_id": "6fc4c5753c3248f49c205edbb3da7cbd",
       "version_major": 2,
       "version_minor": 0
      },
      "text/plain": [
       "HBox(children=(FloatProgress(value=0.0, max=5.0), HTML(value='')))"
      ]
     },
     "metadata": {},
     "output_type": "display_data"
    },
    {
     "name": "stdout",
     "output_type": "stream",
     "text": [
      "\n"
     ]
    },
    {
     "data": {
      "application/vnd.jupyter.widget-view+json": {
       "model_id": "97708655132543cab18cd97e0428b0c7",
       "version_major": 2,
       "version_minor": 0
      },
      "text/plain": [
       "HBox(children=(FloatProgress(value=0.0, max=22.0), HTML(value='')))"
      ]
     },
     "metadata": {},
     "output_type": "display_data"
    },
    {
     "name": "stdout",
     "output_type": "stream",
     "text": [
      "\n"
     ]
    },
    {
     "data": {
      "application/vnd.jupyter.widget-view+json": {
       "model_id": "3d0db5fbb0004d678ded7a959c676329",
       "version_major": 2,
       "version_minor": 0
      },
      "text/plain": [
       "HBox(children=(FloatProgress(value=0.0, max=34.0), HTML(value='')))"
      ]
     },
     "metadata": {},
     "output_type": "display_data"
    },
    {
     "name": "stdout",
     "output_type": "stream",
     "text": [
      "\n"
     ]
    },
    {
     "data": {
      "application/vnd.jupyter.widget-view+json": {
       "model_id": "e7ba68f9345e425cab9fa982c6d4d8a8",
       "version_major": 2,
       "version_minor": 0
      },
      "text/plain": [
       "HBox(children=(FloatProgress(value=0.0, max=3.0), HTML(value='')))"
      ]
     },
     "metadata": {},
     "output_type": "display_data"
    },
    {
     "name": "stdout",
     "output_type": "stream",
     "text": [
      "\n"
     ]
    },
    {
     "data": {
      "application/vnd.jupyter.widget-view+json": {
       "model_id": "ac395f7fe45341449ba9c0fc7f32c8d5",
       "version_major": 2,
       "version_minor": 0
      },
      "text/plain": [
       "HBox(children=(FloatProgress(value=0.0, max=18.0), HTML(value='')))"
      ]
     },
     "metadata": {},
     "output_type": "display_data"
    },
    {
     "name": "stdout",
     "output_type": "stream",
     "text": [
      "\n"
     ]
    },
    {
     "data": {
      "application/vnd.jupyter.widget-view+json": {
       "model_id": "a3209a9621bf4a728399d7323a6fa40a",
       "version_major": 2,
       "version_minor": 0
      },
      "text/plain": [
       "HBox(children=(FloatProgress(value=0.0, max=9.0), HTML(value='')))"
      ]
     },
     "metadata": {},
     "output_type": "display_data"
    },
    {
     "name": "stdout",
     "output_type": "stream",
     "text": [
      "\n"
     ]
    },
    {
     "data": {
      "application/vnd.jupyter.widget-view+json": {
       "model_id": "22962911ce554daa9debb559791bc158",
       "version_major": 2,
       "version_minor": 0
      },
      "text/plain": [
       "HBox(children=(FloatProgress(value=0.0, max=5.0), HTML(value='')))"
      ]
     },
     "metadata": {},
     "output_type": "display_data"
    },
    {
     "name": "stdout",
     "output_type": "stream",
     "text": [
      "\n"
     ]
    },
    {
     "data": {
      "application/vnd.jupyter.widget-view+json": {
       "model_id": "bda7e19bf8f44aaba7db54a3b458b092",
       "version_major": 2,
       "version_minor": 0
      },
      "text/plain": [
       "HBox(children=(FloatProgress(value=0.0, max=5.0), HTML(value='')))"
      ]
     },
     "metadata": {},
     "output_type": "display_data"
    },
    {
     "name": "stdout",
     "output_type": "stream",
     "text": [
      "\n"
     ]
    },
    {
     "data": {
      "application/vnd.jupyter.widget-view+json": {
       "model_id": "9630379e3f0044e98a2d4c3f8295c55f",
       "version_major": 2,
       "version_minor": 0
      },
      "text/plain": [
       "HBox(children=(FloatProgress(value=0.0, max=3.0), HTML(value='')))"
      ]
     },
     "metadata": {},
     "output_type": "display_data"
    },
    {
     "name": "stdout",
     "output_type": "stream",
     "text": [
      "\n"
     ]
    },
    {
     "data": {
      "application/vnd.jupyter.widget-view+json": {
       "model_id": "b5a945e0f171415b95787a0e201376a6",
       "version_major": 2,
       "version_minor": 0
      },
      "text/plain": [
       "HBox(children=(FloatProgress(value=0.0, max=76.0), HTML(value='')))"
      ]
     },
     "metadata": {},
     "output_type": "display_data"
    },
    {
     "name": "stdout",
     "output_type": "stream",
     "text": [
      "\n"
     ]
    },
    {
     "data": {
      "application/vnd.jupyter.widget-view+json": {
       "model_id": "62fac618512e4fa680901e8e70d4189e",
       "version_major": 2,
       "version_minor": 0
      },
      "text/plain": [
       "HBox(children=(FloatProgress(value=0.0, max=3.0), HTML(value='')))"
      ]
     },
     "metadata": {},
     "output_type": "display_data"
    },
    {
     "name": "stdout",
     "output_type": "stream",
     "text": [
      "\n"
     ]
    },
    {
     "data": {
      "application/vnd.jupyter.widget-view+json": {
       "model_id": "0d64dd1162fa445d8476969e1d712618",
       "version_major": 2,
       "version_minor": 0
      },
      "text/plain": [
       "HBox(children=(FloatProgress(value=0.0, max=53.0), HTML(value='')))"
      ]
     },
     "metadata": {},
     "output_type": "display_data"
    },
    {
     "name": "stdout",
     "output_type": "stream",
     "text": [
      "\n"
     ]
    },
    {
     "data": {
      "application/vnd.jupyter.widget-view+json": {
       "model_id": "b3bf8df5b841424a81cd19b6cb105845",
       "version_major": 2,
       "version_minor": 0
      },
      "text/plain": [
       "HBox(children=(FloatProgress(value=0.0, max=31.0), HTML(value='')))"
      ]
     },
     "metadata": {},
     "output_type": "display_data"
    },
    {
     "name": "stdout",
     "output_type": "stream",
     "text": [
      "\n"
     ]
    },
    {
     "data": {
      "application/vnd.jupyter.widget-view+json": {
       "model_id": "97c7744a4f5a4c8d9d70f317ddcf8264",
       "version_major": 2,
       "version_minor": 0
      },
      "text/plain": [
       "HBox(children=(FloatProgress(value=0.0, max=24.0), HTML(value='')))"
      ]
     },
     "metadata": {},
     "output_type": "display_data"
    },
    {
     "name": "stdout",
     "output_type": "stream",
     "text": [
      "\n"
     ]
    },
    {
     "data": {
      "application/vnd.jupyter.widget-view+json": {
       "model_id": "94a2e9c098bb4111a15521fad93655cd",
       "version_major": 2,
       "version_minor": 0
      },
      "text/plain": [
       "HBox(children=(FloatProgress(value=0.0, max=26.0), HTML(value='')))"
      ]
     },
     "metadata": {},
     "output_type": "display_data"
    },
    {
     "name": "stdout",
     "output_type": "stream",
     "text": [
      "\n"
     ]
    },
    {
     "data": {
      "application/vnd.jupyter.widget-view+json": {
       "model_id": "94e26daecefd4fdd838a58d4a357bdaa",
       "version_major": 2,
       "version_minor": 0
      },
      "text/plain": [
       "HBox(children=(FloatProgress(value=0.0, max=68.0), HTML(value='')))"
      ]
     },
     "metadata": {},
     "output_type": "display_data"
    },
    {
     "name": "stdout",
     "output_type": "stream",
     "text": [
      "\n"
     ]
    },
    {
     "data": {
      "application/vnd.jupyter.widget-view+json": {
       "model_id": "97817b0b491e4f1f8ec8b1a2a221fd28",
       "version_major": 2,
       "version_minor": 0
      },
      "text/plain": [
       "HBox(children=(FloatProgress(value=0.0, max=16.0), HTML(value='')))"
      ]
     },
     "metadata": {},
     "output_type": "display_data"
    },
    {
     "name": "stdout",
     "output_type": "stream",
     "text": [
      "\n"
     ]
    },
    {
     "data": {
      "application/vnd.jupyter.widget-view+json": {
       "model_id": "eab899db1af44ae89812a1c645050180",
       "version_major": 2,
       "version_minor": 0
      },
      "text/plain": [
       "HBox(children=(FloatProgress(value=0.0, max=5.0), HTML(value='')))"
      ]
     },
     "metadata": {},
     "output_type": "display_data"
    },
    {
     "name": "stdout",
     "output_type": "stream",
     "text": [
      "\n"
     ]
    },
    {
     "data": {
      "application/vnd.jupyter.widget-view+json": {
       "model_id": "9afe7f8114224a4384f2ee8ebf012efb",
       "version_major": 2,
       "version_minor": 0
      },
      "text/plain": [
       "HBox(children=(FloatProgress(value=0.0, max=65.0), HTML(value='')))"
      ]
     },
     "metadata": {},
     "output_type": "display_data"
    },
    {
     "name": "stdout",
     "output_type": "stream",
     "text": [
      "\n"
     ]
    },
    {
     "data": {
      "application/vnd.jupyter.widget-view+json": {
       "model_id": "85cbd2f5ddcb454b8c450b9eb08501eb",
       "version_major": 2,
       "version_minor": 0
      },
      "text/plain": [
       "HBox(children=(FloatProgress(value=0.0, max=3.0), HTML(value='')))"
      ]
     },
     "metadata": {},
     "output_type": "display_data"
    },
    {
     "name": "stdout",
     "output_type": "stream",
     "text": [
      "\n"
     ]
    },
    {
     "data": {
      "application/vnd.jupyter.widget-view+json": {
       "model_id": "1c35f1ed302e49b4b4c26b99d27e875e",
       "version_major": 2,
       "version_minor": 0
      },
      "text/plain": [
       "HBox(children=(FloatProgress(value=0.0, max=3.0), HTML(value='')))"
      ]
     },
     "metadata": {},
     "output_type": "display_data"
    },
    {
     "name": "stdout",
     "output_type": "stream",
     "text": [
      "\n"
     ]
    },
    {
     "data": {
      "application/vnd.jupyter.widget-view+json": {
       "model_id": "2b431c812d1b4286bcb35c8fbb6c732f",
       "version_major": 2,
       "version_minor": 0
      },
      "text/plain": [
       "HBox(children=(FloatProgress(value=0.0, max=64.0), HTML(value='')))"
      ]
     },
     "metadata": {},
     "output_type": "display_data"
    },
    {
     "name": "stdout",
     "output_type": "stream",
     "text": [
      "\n"
     ]
    },
    {
     "data": {
      "application/vnd.jupyter.widget-view+json": {
       "model_id": "c3c40a6cb9344e068f55e516cdd8ff8d",
       "version_major": 2,
       "version_minor": 0
      },
      "text/plain": [
       "HBox(children=(FloatProgress(value=0.0, max=8.0), HTML(value='')))"
      ]
     },
     "metadata": {},
     "output_type": "display_data"
    },
    {
     "name": "stdout",
     "output_type": "stream",
     "text": [
      "\n"
     ]
    },
    {
     "data": {
      "application/vnd.jupyter.widget-view+json": {
       "model_id": "517512dc6a854012b9c030fe44cc548e",
       "version_major": 2,
       "version_minor": 0
      },
      "text/plain": [
       "HBox(children=(FloatProgress(value=0.0, max=14.0), HTML(value='')))"
      ]
     },
     "metadata": {},
     "output_type": "display_data"
    },
    {
     "name": "stdout",
     "output_type": "stream",
     "text": [
      "\n"
     ]
    },
    {
     "data": {
      "application/vnd.jupyter.widget-view+json": {
       "model_id": "96c0efae2bae4f26aa8ad4ad75bb139c",
       "version_major": 2,
       "version_minor": 0
      },
      "text/plain": [
       "HBox(children=(FloatProgress(value=0.0, max=14.0), HTML(value='')))"
      ]
     },
     "metadata": {},
     "output_type": "display_data"
    },
    {
     "name": "stdout",
     "output_type": "stream",
     "text": [
      "\n"
     ]
    },
    {
     "data": {
      "application/vnd.jupyter.widget-view+json": {
       "model_id": "f2d5e5327a624ca5934275b98e54134c",
       "version_major": 2,
       "version_minor": 0
      },
      "text/plain": [
       "HBox(children=(FloatProgress(value=0.0, max=46.0), HTML(value='')))"
      ]
     },
     "metadata": {},
     "output_type": "display_data"
    },
    {
     "name": "stdout",
     "output_type": "stream",
     "text": [
      "\n"
     ]
    },
    {
     "data": {
      "application/vnd.jupyter.widget-view+json": {
       "model_id": "118f4895b1c7411fa18a25a6d88852f5",
       "version_major": 2,
       "version_minor": 0
      },
      "text/plain": [
       "HBox(children=(FloatProgress(value=0.0, max=31.0), HTML(value='')))"
      ]
     },
     "metadata": {},
     "output_type": "display_data"
    },
    {
     "name": "stdout",
     "output_type": "stream",
     "text": [
      "\n"
     ]
    },
    {
     "data": {
      "application/vnd.jupyter.widget-view+json": {
       "model_id": "e87cec7d7a4c4520bd5da38c449234bf",
       "version_major": 2,
       "version_minor": 0
      },
      "text/plain": [
       "HBox(children=(FloatProgress(value=0.0, max=39.0), HTML(value='')))"
      ]
     },
     "metadata": {},
     "output_type": "display_data"
    },
    {
     "name": "stdout",
     "output_type": "stream",
     "text": [
      "\n"
     ]
    },
    {
     "data": {
      "application/vnd.jupyter.widget-view+json": {
       "model_id": "7f2f81a1e0314994b298db8c99ff2920",
       "version_major": 2,
       "version_minor": 0
      },
      "text/plain": [
       "HBox(children=(FloatProgress(value=0.0, max=42.0), HTML(value='')))"
      ]
     },
     "metadata": {},
     "output_type": "display_data"
    },
    {
     "name": "stdout",
     "output_type": "stream",
     "text": [
      "\n"
     ]
    },
    {
     "data": {
      "application/vnd.jupyter.widget-view+json": {
       "model_id": "8f5abe6c5f3a4febbb3a070681c08ef5",
       "version_major": 2,
       "version_minor": 0
      },
      "text/plain": [
       "HBox(children=(FloatProgress(value=0.0, max=85.0), HTML(value='')))"
      ]
     },
     "metadata": {},
     "output_type": "display_data"
    },
    {
     "name": "stdout",
     "output_type": "stream",
     "text": [
      "\n"
     ]
    },
    {
     "data": {
      "application/vnd.jupyter.widget-view+json": {
       "model_id": "92ae7a1b59b549fbb334c742515340df",
       "version_major": 2,
       "version_minor": 0
      },
      "text/plain": [
       "HBox(children=(FloatProgress(value=0.0, max=6.0), HTML(value='')))"
      ]
     },
     "metadata": {},
     "output_type": "display_data"
    },
    {
     "name": "stdout",
     "output_type": "stream",
     "text": [
      "\n"
     ]
    },
    {
     "data": {
      "application/vnd.jupyter.widget-view+json": {
       "model_id": "694609b780dd486c9b45a50a9e64c293",
       "version_major": 2,
       "version_minor": 0
      },
      "text/plain": [
       "HBox(children=(FloatProgress(value=0.0, max=33.0), HTML(value='')))"
      ]
     },
     "metadata": {},
     "output_type": "display_data"
    },
    {
     "name": "stdout",
     "output_type": "stream",
     "text": [
      "\n"
     ]
    },
    {
     "data": {
      "application/vnd.jupyter.widget-view+json": {
       "model_id": "4785315db03349a0877bec821535ab20",
       "version_major": 2,
       "version_minor": 0
      },
      "text/plain": [
       "HBox(children=(FloatProgress(value=0.0, max=5.0), HTML(value='')))"
      ]
     },
     "metadata": {},
     "output_type": "display_data"
    },
    {
     "name": "stdout",
     "output_type": "stream",
     "text": [
      "\n"
     ]
    },
    {
     "data": {
      "application/vnd.jupyter.widget-view+json": {
       "model_id": "2bf2b07909114141bb19a8d97d1a6f5e",
       "version_major": 2,
       "version_minor": 0
      },
      "text/plain": [
       "HBox(children=(FloatProgress(value=0.0, max=11.0), HTML(value='')))"
      ]
     },
     "metadata": {},
     "output_type": "display_data"
    },
    {
     "name": "stdout",
     "output_type": "stream",
     "text": [
      "\n"
     ]
    },
    {
     "data": {
      "application/vnd.jupyter.widget-view+json": {
       "model_id": "99281d6517f3425580077d15a13dceab",
       "version_major": 2,
       "version_minor": 0
      },
      "text/plain": [
       "HBox(children=(FloatProgress(value=0.0, max=2.0), HTML(value='')))"
      ]
     },
     "metadata": {},
     "output_type": "display_data"
    },
    {
     "name": "stdout",
     "output_type": "stream",
     "text": [
      "\n"
     ]
    },
    {
     "data": {
      "application/vnd.jupyter.widget-view+json": {
       "model_id": "33430f394ff24c2e867ca24b717efd2a",
       "version_major": 2,
       "version_minor": 0
      },
      "text/plain": [
       "HBox(children=(FloatProgress(value=0.0, max=9.0), HTML(value='')))"
      ]
     },
     "metadata": {},
     "output_type": "display_data"
    },
    {
     "name": "stdout",
     "output_type": "stream",
     "text": [
      "\n"
     ]
    },
    {
     "data": {
      "application/vnd.jupyter.widget-view+json": {
       "model_id": "e249d412f5f94f8289a272530f31e9b4",
       "version_major": 2,
       "version_minor": 0
      },
      "text/plain": [
       "HBox(children=(FloatProgress(value=0.0, max=114.0), HTML(value='')))"
      ]
     },
     "metadata": {},
     "output_type": "display_data"
    },
    {
     "name": "stdout",
     "output_type": "stream",
     "text": [
      "\n"
     ]
    },
    {
     "data": {
      "application/vnd.jupyter.widget-view+json": {
       "model_id": "7330556e0ecb433eaccb8716e0b57433",
       "version_major": 2,
       "version_minor": 0
      },
      "text/plain": [
       "HBox(children=(FloatProgress(value=0.0, max=7.0), HTML(value='')))"
      ]
     },
     "metadata": {},
     "output_type": "display_data"
    },
    {
     "name": "stdout",
     "output_type": "stream",
     "text": [
      "\n"
     ]
    },
    {
     "data": {
      "application/vnd.jupyter.widget-view+json": {
       "model_id": "3766890feffd437da67cc7378fd85138",
       "version_major": 2,
       "version_minor": 0
      },
      "text/plain": [
       "HBox(children=(FloatProgress(value=0.0, max=44.0), HTML(value='')))"
      ]
     },
     "metadata": {},
     "output_type": "display_data"
    },
    {
     "name": "stdout",
     "output_type": "stream",
     "text": [
      "\n"
     ]
    },
    {
     "data": {
      "application/vnd.jupyter.widget-view+json": {
       "model_id": "cc38ccff6be5419e89f3477c5af21c93",
       "version_major": 2,
       "version_minor": 0
      },
      "text/plain": [
       "HBox(children=(FloatProgress(value=0.0, max=82.0), HTML(value='')))"
      ]
     },
     "metadata": {},
     "output_type": "display_data"
    },
    {
     "name": "stdout",
     "output_type": "stream",
     "text": [
      "\n"
     ]
    },
    {
     "data": {
      "application/vnd.jupyter.widget-view+json": {
       "model_id": "fa9dac78c59649a0a08617366ae2fb64",
       "version_major": 2,
       "version_minor": 0
      },
      "text/plain": [
       "HBox(children=(FloatProgress(value=0.0, max=30.0), HTML(value='')))"
      ]
     },
     "metadata": {},
     "output_type": "display_data"
    },
    {
     "name": "stdout",
     "output_type": "stream",
     "text": [
      "\n"
     ]
    },
    {
     "data": {
      "application/vnd.jupyter.widget-view+json": {
       "model_id": "f28271470e1845acb1ebcc0e554c6e60",
       "version_major": 2,
       "version_minor": 0
      },
      "text/plain": [
       "HBox(children=(FloatProgress(value=0.0, max=8.0), HTML(value='')))"
      ]
     },
     "metadata": {},
     "output_type": "display_data"
    },
    {
     "name": "stdout",
     "output_type": "stream",
     "text": [
      "\n"
     ]
    },
    {
     "data": {
      "application/vnd.jupyter.widget-view+json": {
       "model_id": "31910f4173e142bf9d3fde4794a86a04",
       "version_major": 2,
       "version_minor": 0
      },
      "text/plain": [
       "HBox(children=(FloatProgress(value=0.0, max=9.0), HTML(value='')))"
      ]
     },
     "metadata": {},
     "output_type": "display_data"
    },
    {
     "name": "stdout",
     "output_type": "stream",
     "text": [
      "\n"
     ]
    },
    {
     "data": {
      "application/vnd.jupyter.widget-view+json": {
       "model_id": "1cc6730ded814bd88f78198114ac978e",
       "version_major": 2,
       "version_minor": 0
      },
      "text/plain": [
       "HBox(children=(FloatProgress(value=0.0, max=31.0), HTML(value='')))"
      ]
     },
     "metadata": {},
     "output_type": "display_data"
    },
    {
     "name": "stdout",
     "output_type": "stream",
     "text": [
      "\n"
     ]
    },
    {
     "data": {
      "application/vnd.jupyter.widget-view+json": {
       "model_id": "a7d0ebc7b593406ab26d3d0f1b95da3d",
       "version_major": 2,
       "version_minor": 0
      },
      "text/plain": [
       "HBox(children=(FloatProgress(value=0.0, max=23.0), HTML(value='')))"
      ]
     },
     "metadata": {},
     "output_type": "display_data"
    },
    {
     "name": "stdout",
     "output_type": "stream",
     "text": [
      "\n"
     ]
    },
    {
     "data": {
      "application/vnd.jupyter.widget-view+json": {
       "model_id": "cddf4ff42d374a16aca7548b7dc8f1c6",
       "version_major": 2,
       "version_minor": 0
      },
      "text/plain": [
       "HBox(children=(FloatProgress(value=0.0, max=35.0), HTML(value='')))"
      ]
     },
     "metadata": {},
     "output_type": "display_data"
    },
    {
     "name": "stdout",
     "output_type": "stream",
     "text": [
      "\n"
     ]
    },
    {
     "data": {
      "application/vnd.jupyter.widget-view+json": {
       "model_id": "66e3cd2032f94a0d95921bcb36e55d66",
       "version_major": 2,
       "version_minor": 0
      },
      "text/plain": [
       "HBox(children=(FloatProgress(value=0.0, max=20.0), HTML(value='')))"
      ]
     },
     "metadata": {},
     "output_type": "display_data"
    },
    {
     "name": "stdout",
     "output_type": "stream",
     "text": [
      "\n"
     ]
    },
    {
     "data": {
      "application/vnd.jupyter.widget-view+json": {
       "model_id": "84e4be6ddd1443dd976ecafe38fa99b2",
       "version_major": 2,
       "version_minor": 0
      },
      "text/plain": [
       "HBox(children=(FloatProgress(value=0.0, max=64.0), HTML(value='')))"
      ]
     },
     "metadata": {},
     "output_type": "display_data"
    },
    {
     "name": "stdout",
     "output_type": "stream",
     "text": [
      "\n"
     ]
    },
    {
     "data": {
      "application/vnd.jupyter.widget-view+json": {
       "model_id": "fb12f4d2bc2c4e96a2ed6e4cfd82bdff",
       "version_major": 2,
       "version_minor": 0
      },
      "text/plain": [
       "HBox(children=(FloatProgress(value=0.0, max=29.0), HTML(value='')))"
      ]
     },
     "metadata": {},
     "output_type": "display_data"
    },
    {
     "name": "stdout",
     "output_type": "stream",
     "text": [
      "\n"
     ]
    },
    {
     "data": {
      "application/vnd.jupyter.widget-view+json": {
       "model_id": "ae6c28a91de14ec9be97a9a00df333dd",
       "version_major": 2,
       "version_minor": 0
      },
      "text/plain": [
       "HBox(children=(FloatProgress(value=0.0, max=8.0), HTML(value='')))"
      ]
     },
     "metadata": {},
     "output_type": "display_data"
    },
    {
     "name": "stdout",
     "output_type": "stream",
     "text": [
      "\n"
     ]
    },
    {
     "data": {
      "application/vnd.jupyter.widget-view+json": {
       "model_id": "a9c2329a639e4c94bd09c78c996aa15f",
       "version_major": 2,
       "version_minor": 0
      },
      "text/plain": [
       "HBox(children=(FloatProgress(value=0.0, max=60.0), HTML(value='')))"
      ]
     },
     "metadata": {},
     "output_type": "display_data"
    },
    {
     "name": "stdout",
     "output_type": "stream",
     "text": [
      "\n"
     ]
    },
    {
     "data": {
      "application/vnd.jupyter.widget-view+json": {
       "model_id": "044bc00e03954caf8c493b111d4ff023",
       "version_major": 2,
       "version_minor": 0
      },
      "text/plain": [
       "HBox(children=(FloatProgress(value=0.0, max=50.0), HTML(value='')))"
      ]
     },
     "metadata": {},
     "output_type": "display_data"
    },
    {
     "name": "stdout",
     "output_type": "stream",
     "text": [
      "\n"
     ]
    },
    {
     "data": {
      "application/vnd.jupyter.widget-view+json": {
       "model_id": "0e908349f1cf402f813b676bf5939342",
       "version_major": 2,
       "version_minor": 0
      },
      "text/plain": [
       "HBox(children=(FloatProgress(value=0.0, max=32.0), HTML(value='')))"
      ]
     },
     "metadata": {},
     "output_type": "display_data"
    },
    {
     "name": "stdout",
     "output_type": "stream",
     "text": [
      "\n"
     ]
    },
    {
     "data": {
      "application/vnd.jupyter.widget-view+json": {
       "model_id": "a389a7a3c65440698b365a9b18bea2c1",
       "version_major": 2,
       "version_minor": 0
      },
      "text/plain": [
       "HBox(children=(FloatProgress(value=0.0, max=10.0), HTML(value='')))"
      ]
     },
     "metadata": {},
     "output_type": "display_data"
    },
    {
     "name": "stdout",
     "output_type": "stream",
     "text": [
      "\n"
     ]
    },
    {
     "data": {
      "application/vnd.jupyter.widget-view+json": {
       "model_id": "618fe3a9042d426191ce07baab02f6d4",
       "version_major": 2,
       "version_minor": 0
      },
      "text/plain": [
       "HBox(children=(FloatProgress(value=0.0, max=7.0), HTML(value='')))"
      ]
     },
     "metadata": {},
     "output_type": "display_data"
    },
    {
     "name": "stdout",
     "output_type": "stream",
     "text": [
      "\n"
     ]
    },
    {
     "data": {
      "application/vnd.jupyter.widget-view+json": {
       "model_id": "082f32638a2d4c40a2e78c641c6b8921",
       "version_major": 2,
       "version_minor": 0
      },
      "text/plain": [
       "HBox(children=(FloatProgress(value=0.0, max=54.0), HTML(value='')))"
      ]
     },
     "metadata": {},
     "output_type": "display_data"
    },
    {
     "name": "stdout",
     "output_type": "stream",
     "text": [
      "\n"
     ]
    },
    {
     "data": {
      "application/vnd.jupyter.widget-view+json": {
       "model_id": "4039e9a6f2674733a20e44971e11e829",
       "version_major": 2,
       "version_minor": 0
      },
      "text/plain": [
       "HBox(children=(FloatProgress(value=0.0, max=14.0), HTML(value='')))"
      ]
     },
     "metadata": {},
     "output_type": "display_data"
    },
    {
     "name": "stdout",
     "output_type": "stream",
     "text": [
      "\n"
     ]
    },
    {
     "data": {
      "application/vnd.jupyter.widget-view+json": {
       "model_id": "715418dc9d3849ada3167ced02bacaf2",
       "version_major": 2,
       "version_minor": 0
      },
      "text/plain": [
       "HBox(children=(FloatProgress(value=0.0, max=11.0), HTML(value='')))"
      ]
     },
     "metadata": {},
     "output_type": "display_data"
    },
    {
     "name": "stdout",
     "output_type": "stream",
     "text": [
      "\n"
     ]
    },
    {
     "data": {
      "application/vnd.jupyter.widget-view+json": {
       "model_id": "bd5482c759984cdb9cde1f15de0fa3dc",
       "version_major": 2,
       "version_minor": 0
      },
      "text/plain": [
       "HBox(children=(FloatProgress(value=0.0, max=48.0), HTML(value='')))"
      ]
     },
     "metadata": {},
     "output_type": "display_data"
    },
    {
     "name": "stdout",
     "output_type": "stream",
     "text": [
      "\n"
     ]
    },
    {
     "data": {
      "application/vnd.jupyter.widget-view+json": {
       "model_id": "1cb52137b524445b86c32d67a08bbd76",
       "version_major": 2,
       "version_minor": 0
      },
      "text/plain": [
       "HBox(children=(FloatProgress(value=0.0, max=52.0), HTML(value='')))"
      ]
     },
     "metadata": {},
     "output_type": "display_data"
    },
    {
     "name": "stdout",
     "output_type": "stream",
     "text": [
      "\n"
     ]
    },
    {
     "data": {
      "application/vnd.jupyter.widget-view+json": {
       "model_id": "0d25e3c749af4124ab9c4fd1179d181f",
       "version_major": 2,
       "version_minor": 0
      },
      "text/plain": [
       "HBox(children=(FloatProgress(value=0.0, max=22.0), HTML(value='')))"
      ]
     },
     "metadata": {},
     "output_type": "display_data"
    },
    {
     "name": "stdout",
     "output_type": "stream",
     "text": [
      "\n"
     ]
    },
    {
     "data": {
      "application/vnd.jupyter.widget-view+json": {
       "model_id": "bbd8a6b1d148405e94877740f85e7dea",
       "version_major": 2,
       "version_minor": 0
      },
      "text/plain": [
       "HBox(children=(FloatProgress(value=0.0, max=50.0), HTML(value='')))"
      ]
     },
     "metadata": {},
     "output_type": "display_data"
    },
    {
     "name": "stdout",
     "output_type": "stream",
     "text": [
      "\n"
     ]
    },
    {
     "data": {
      "application/vnd.jupyter.widget-view+json": {
       "model_id": "4013ea4fbe644c0383061d6fca9b9234",
       "version_major": 2,
       "version_minor": 0
      },
      "text/plain": [
       "HBox(children=(FloatProgress(value=0.0, max=54.0), HTML(value='')))"
      ]
     },
     "metadata": {},
     "output_type": "display_data"
    },
    {
     "name": "stdout",
     "output_type": "stream",
     "text": [
      "\n"
     ]
    },
    {
     "data": {
      "application/vnd.jupyter.widget-view+json": {
       "model_id": "9b31f8dc9f3c470da347bbbbb49df4b7",
       "version_major": 2,
       "version_minor": 0
      },
      "text/plain": [
       "HBox(children=(FloatProgress(value=0.0, max=33.0), HTML(value='')))"
      ]
     },
     "metadata": {},
     "output_type": "display_data"
    },
    {
     "name": "stdout",
     "output_type": "stream",
     "text": [
      "\n"
     ]
    },
    {
     "data": {
      "application/vnd.jupyter.widget-view+json": {
       "model_id": "ca4dd5c896104c94b25fbdb0399fc17b",
       "version_major": 2,
       "version_minor": 0
      },
      "text/plain": [
       "HBox(children=(FloatProgress(value=0.0, max=44.0), HTML(value='')))"
      ]
     },
     "metadata": {},
     "output_type": "display_data"
    },
    {
     "name": "stdout",
     "output_type": "stream",
     "text": [
      "\n"
     ]
    },
    {
     "data": {
      "application/vnd.jupyter.widget-view+json": {
       "model_id": "e323f44460824106b4c02d102e85515b",
       "version_major": 2,
       "version_minor": 0
      },
      "text/plain": [
       "HBox(children=(FloatProgress(value=0.0, max=6.0), HTML(value='')))"
      ]
     },
     "metadata": {},
     "output_type": "display_data"
    },
    {
     "name": "stdout",
     "output_type": "stream",
     "text": [
      "\n"
     ]
    },
    {
     "data": {
      "application/vnd.jupyter.widget-view+json": {
       "model_id": "bc9759ffdb7348b5890ede5165a440f6",
       "version_major": 2,
       "version_minor": 0
      },
      "text/plain": [
       "HBox(children=(FloatProgress(value=0.0, max=6.0), HTML(value='')))"
      ]
     },
     "metadata": {},
     "output_type": "display_data"
    },
    {
     "name": "stdout",
     "output_type": "stream",
     "text": [
      "\n"
     ]
    },
    {
     "data": {
      "application/vnd.jupyter.widget-view+json": {
       "model_id": "7d1023d1d9a740e3a773a85c1fa1f1ad",
       "version_major": 2,
       "version_minor": 0
      },
      "text/plain": [
       "HBox(children=(FloatProgress(value=0.0, max=10.0), HTML(value='')))"
      ]
     },
     "metadata": {},
     "output_type": "display_data"
    },
    {
     "name": "stdout",
     "output_type": "stream",
     "text": [
      "\n"
     ]
    },
    {
     "data": {
      "application/vnd.jupyter.widget-view+json": {
       "model_id": "9e80967b94964c2fabd6913ac3ed2062",
       "version_major": 2,
       "version_minor": 0
      },
      "text/plain": [
       "HBox(children=(FloatProgress(value=0.0, max=14.0), HTML(value='')))"
      ]
     },
     "metadata": {},
     "output_type": "display_data"
    },
    {
     "name": "stdout",
     "output_type": "stream",
     "text": [
      "\n"
     ]
    },
    {
     "data": {
      "application/vnd.jupyter.widget-view+json": {
       "model_id": "9796712114f24219a2b322f396682794",
       "version_major": 2,
       "version_minor": 0
      },
      "text/plain": [
       "HBox(children=(FloatProgress(value=0.0, max=26.0), HTML(value='')))"
      ]
     },
     "metadata": {},
     "output_type": "display_data"
    },
    {
     "name": "stdout",
     "output_type": "stream",
     "text": [
      "\n"
     ]
    },
    {
     "data": {
      "application/vnd.jupyter.widget-view+json": {
       "model_id": "1cb6da5687534d768cc5b4f875e723c4",
       "version_major": 2,
       "version_minor": 0
      },
      "text/plain": [
       "HBox(children=(FloatProgress(value=0.0, max=11.0), HTML(value='')))"
      ]
     },
     "metadata": {},
     "output_type": "display_data"
    },
    {
     "name": "stdout",
     "output_type": "stream",
     "text": [
      "\n"
     ]
    },
    {
     "data": {
      "application/vnd.jupyter.widget-view+json": {
       "model_id": "915b49d8094544f08dc35f1ad20340db",
       "version_major": 2,
       "version_minor": 0
      },
      "text/plain": [
       "HBox(children=(FloatProgress(value=0.0, max=6.0), HTML(value='')))"
      ]
     },
     "metadata": {},
     "output_type": "display_data"
    },
    {
     "name": "stdout",
     "output_type": "stream",
     "text": [
      "\n"
     ]
    },
    {
     "data": {
      "application/vnd.jupyter.widget-view+json": {
       "model_id": "684094575266418fbc9101fef7a978f2",
       "version_major": 2,
       "version_minor": 0
      },
      "text/plain": [
       "HBox(children=(FloatProgress(value=0.0, max=14.0), HTML(value='')))"
      ]
     },
     "metadata": {},
     "output_type": "display_data"
    },
    {
     "name": "stdout",
     "output_type": "stream",
     "text": [
      "\n"
     ]
    },
    {
     "data": {
      "application/vnd.jupyter.widget-view+json": {
       "model_id": "6b4de19176a640ffbdb178d70c84c31f",
       "version_major": 2,
       "version_minor": 0
      },
      "text/plain": [
       "HBox(children=(FloatProgress(value=0.0, max=12.0), HTML(value='')))"
      ]
     },
     "metadata": {},
     "output_type": "display_data"
    },
    {
     "name": "stdout",
     "output_type": "stream",
     "text": [
      "\n"
     ]
    },
    {
     "data": {
      "application/vnd.jupyter.widget-view+json": {
       "model_id": "928a4e56ac504984b81e1de56a9ac194",
       "version_major": 2,
       "version_minor": 0
      },
      "text/plain": [
       "HBox(children=(FloatProgress(value=0.0, max=13.0), HTML(value='')))"
      ]
     },
     "metadata": {},
     "output_type": "display_data"
    },
    {
     "name": "stdout",
     "output_type": "stream",
     "text": [
      "\n"
     ]
    },
    {
     "data": {
      "application/vnd.jupyter.widget-view+json": {
       "model_id": "56b1ed2f5c5b40b58268ad52455971fe",
       "version_major": 2,
       "version_minor": 0
      },
      "text/plain": [
       "HBox(children=(FloatProgress(value=0.0, max=22.0), HTML(value='')))"
      ]
     },
     "metadata": {},
     "output_type": "display_data"
    },
    {
     "name": "stdout",
     "output_type": "stream",
     "text": [
      "\n"
     ]
    },
    {
     "data": {
      "application/vnd.jupyter.widget-view+json": {
       "model_id": "cd58a38f450541569038f303ba97bc23",
       "version_major": 2,
       "version_minor": 0
      },
      "text/plain": [
       "HBox(children=(FloatProgress(value=0.0, max=80.0), HTML(value='')))"
      ]
     },
     "metadata": {},
     "output_type": "display_data"
    },
    {
     "name": "stdout",
     "output_type": "stream",
     "text": [
      "\n"
     ]
    },
    {
     "data": {
      "application/vnd.jupyter.widget-view+json": {
       "model_id": "c55a520401074b1abb036e77c8dbb89e",
       "version_major": 2,
       "version_minor": 0
      },
      "text/plain": [
       "HBox(children=(FloatProgress(value=0.0, max=9.0), HTML(value='')))"
      ]
     },
     "metadata": {},
     "output_type": "display_data"
    },
    {
     "name": "stdout",
     "output_type": "stream",
     "text": [
      "\n"
     ]
    },
    {
     "data": {
      "application/vnd.jupyter.widget-view+json": {
       "model_id": "11b9211b718243e0b5f0a61c0987852e",
       "version_major": 2,
       "version_minor": 0
      },
      "text/plain": [
       "HBox(children=(FloatProgress(value=0.0, max=53.0), HTML(value='')))"
      ]
     },
     "metadata": {},
     "output_type": "display_data"
    },
    {
     "name": "stdout",
     "output_type": "stream",
     "text": [
      "\n"
     ]
    },
    {
     "data": {
      "application/vnd.jupyter.widget-view+json": {
       "model_id": "9db8316abc3940fc8006cefc3fc7e120",
       "version_major": 2,
       "version_minor": 0
      },
      "text/plain": [
       "HBox(children=(FloatProgress(value=0.0, max=3.0), HTML(value='')))"
      ]
     },
     "metadata": {},
     "output_type": "display_data"
    },
    {
     "name": "stdout",
     "output_type": "stream",
     "text": [
      "\n"
     ]
    },
    {
     "data": {
      "application/vnd.jupyter.widget-view+json": {
       "model_id": "3cebf4967aad4d45804d71693e901fc5",
       "version_major": 2,
       "version_minor": 0
      },
      "text/plain": [
       "HBox(children=(FloatProgress(value=0.0, max=2.0), HTML(value='')))"
      ]
     },
     "metadata": {},
     "output_type": "display_data"
    },
    {
     "name": "stdout",
     "output_type": "stream",
     "text": [
      "\n"
     ]
    },
    {
     "data": {
      "application/vnd.jupyter.widget-view+json": {
       "model_id": "eb485fc1b75943a780b08d0f965bc623",
       "version_major": 2,
       "version_minor": 0
      },
      "text/plain": [
       "HBox(children=(FloatProgress(value=0.0, max=22.0), HTML(value='')))"
      ]
     },
     "metadata": {},
     "output_type": "display_data"
    },
    {
     "name": "stdout",
     "output_type": "stream",
     "text": [
      "\n"
     ]
    },
    {
     "data": {
      "application/vnd.jupyter.widget-view+json": {
       "model_id": "bcc57af05e8040368dae69f9dd7dcb2d",
       "version_major": 2,
       "version_minor": 0
      },
      "text/plain": [
       "HBox(children=(FloatProgress(value=0.0, max=12.0), HTML(value='')))"
      ]
     },
     "metadata": {},
     "output_type": "display_data"
    },
    {
     "name": "stdout",
     "output_type": "stream",
     "text": [
      "\n"
     ]
    },
    {
     "data": {
      "application/vnd.jupyter.widget-view+json": {
       "model_id": "3dfa7e63762a46f0b6de611267b58d4d",
       "version_major": 2,
       "version_minor": 0
      },
      "text/plain": [
       "HBox(children=(FloatProgress(value=0.0, max=10.0), HTML(value='')))"
      ]
     },
     "metadata": {},
     "output_type": "display_data"
    },
    {
     "name": "stdout",
     "output_type": "stream",
     "text": [
      "\n"
     ]
    },
    {
     "data": {
      "application/vnd.jupyter.widget-view+json": {
       "model_id": "b56739876d094134bddaee8775cc5597",
       "version_major": 2,
       "version_minor": 0
      },
      "text/plain": [
       "HBox(children=(FloatProgress(value=0.0, max=15.0), HTML(value='')))"
      ]
     },
     "metadata": {},
     "output_type": "display_data"
    },
    {
     "name": "stdout",
     "output_type": "stream",
     "text": [
      "\n"
     ]
    },
    {
     "data": {
      "application/vnd.jupyter.widget-view+json": {
       "model_id": "53282106404f488a834e72c4ad92f418",
       "version_major": 2,
       "version_minor": 0
      },
      "text/plain": [
       "HBox(children=(FloatProgress(value=0.0, max=5.0), HTML(value='')))"
      ]
     },
     "metadata": {},
     "output_type": "display_data"
    },
    {
     "name": "stdout",
     "output_type": "stream",
     "text": [
      "\n"
     ]
    },
    {
     "data": {
      "application/vnd.jupyter.widget-view+json": {
       "model_id": "57b1b34eed064296b60c46e8dd170161",
       "version_major": 2,
       "version_minor": 0
      },
      "text/plain": [
       "HBox(children=(FloatProgress(value=0.0, max=3.0), HTML(value='')))"
      ]
     },
     "metadata": {},
     "output_type": "display_data"
    },
    {
     "name": "stdout",
     "output_type": "stream",
     "text": [
      "\n",
      "Working on limb L0 branch 8\n",
      "No spines and using precomputed width\n",
      "Working on limb L0 branch 7\n",
      "No spines and using precomputed width\n",
      "Working on limb L0 branch 9\n",
      "No spines and using precomputed width\n",
      "Working on limb L0 branch 188\n",
      "Working on limb L0 branch 189\n",
      "Working on limb L0 branch 6\n",
      "No spines and using precomputed width\n",
      "Working on limb L0 branch 10\n",
      "No spines and using precomputed width\n",
      "Working on limb L0 branch 187\n",
      "No spines and using precomputed width\n",
      "Working on limb L0 branch 190\n",
      "No spines and using precomputed width\n",
      "Working on limb L0 branch 1\n",
      "Working on limb L0 branch 191\n",
      "Working on limb L0 branch 5\n",
      "Working on limb L0 branch 27\n",
      "Working on limb L0 branch 25\n",
      "Working on limb L0 branch 224\n",
      "Working on limb L0 branch 225\n",
      "Working on limb L0 branch 226\n",
      "No spines and using precomputed width\n",
      "Working on limb L0 branch 186\n",
      "No spines and using precomputed width\n",
      "Working on limb L0 branch 192\n",
      "No spines and using precomputed width\n",
      "Working on limb L0 branch 0\n",
      "Working on limb L0 branch 53\n",
      "No spines and using precomputed width\n",
      "Working on limb L0 branch 2\n",
      "Working on limb L0 branch 4\n",
      "Working on limb L0 branch 3\n",
      "Working on limb L0 branch 230\n",
      "No spines and using precomputed width\n",
      "Working on limb L0 branch 12\n",
      "Working on limb L0 branch 13\n",
      "No spines and using precomputed width\n",
      "Working on limb L0 branch 52\n",
      "No spines and using precomputed width\n",
      "Working on limb L0 branch 72\n",
      "No spines and using precomputed width\n",
      "Working on limb L0 branch 18\n",
      "Working on limb L0 branch 23\n",
      "Working on limb L0 branch 11\n",
      "No spines and using precomputed width\n",
      "Working on limb L0 branch 17\n",
      "Working on limb L0 branch 51\n",
      "No spines and using precomputed width\n",
      "Working on limb L0 branch 129\n",
      "No spines and using precomputed width\n",
      "Working on limb L0 branch 71\n",
      "No spines and using precomputed width\n",
      "Working on limb L0 branch 81\n",
      "No spines and using precomputed width\n",
      "Working on limb L0 branch 26\n",
      "Working on limb L0 branch 228\n",
      "Working on limb L0 branch 24\n",
      "Working on limb L0 branch 221\n",
      "Working on limb L0 branch 201\n",
      "Working on limb L0 branch 203\n",
      "Working on limb L0 branch 19\n",
      "Working on limb L0 branch 20\n",
      "Working on limb L0 branch 50\n",
      "No spines and using precomputed width\n",
      "Working on limb L0 branch 97\n",
      "No spines and using precomputed width\n",
      "Working on limb L0 branch 70\n",
      "No spines and using precomputed width\n",
      "Working on limb L0 branch 91\n",
      "No spines and using precomputed width\n",
      "Working on limb L0 branch 80\n",
      "No spines and using precomputed width\n",
      "Working on limb L0 branch 114\n",
      "No spines and using precomputed width\n",
      "Working on limb L0 branch 21\n",
      "Working on limb L0 branch 212\n",
      "Working on limb L0 branch 16\n",
      "Working on limb L0 branch 223\n",
      "Working on limb L0 branch 220\n",
      "No spines and using precomputed width\n",
      "Working on limb L0 branch 222\n",
      "No spines and using precomputed width\n",
      "Working on limb L0 branch 202\n",
      "No spines and using precomputed width\n",
      "Working on limb L0 branch 204\n",
      "No spines and using precomputed width\n",
      "Working on limb L0 branch 22\n",
      "Working on limb L0 branch 218\n",
      "Working on limb L0 branch 49\n",
      "No spines and using precomputed width\n",
      "Working on limb L0 branch 62\n",
      "No spines and using precomputed width\n",
      "Working on limb L0 branch 96\n",
      "No spines and using precomputed width\n",
      "Working on limb L0 branch 146\n",
      "No spines and using precomputed width\n",
      "Working on limb L0 branch 35\n",
      "Working on limb L0 branch 39\n",
      "Working on limb L0 branch 69\n",
      "No spines and using precomputed width\n",
      "Working on limb L0 branch 90\n",
      "No spines and using precomputed width\n",
      "Working on limb L0 branch 177\n",
      "No spines and using precomputed width\n",
      "Working on limb L0 branch 79\n",
      "No spines and using precomputed width\n",
      "Working on limb L0 branch 109\n",
      "No spines and using precomputed width\n",
      "Working on limb L0 branch 113\n",
      "No spines and using precomputed width\n",
      "Working on limb L0 branch 132\n",
      "No spines and using precomputed width\n",
      "Working on limb L0 branch 14\n",
      "Working on limb L0 branch 15\n",
      "Working on limb L0 branch 195\n",
      "Working on limb L0 branch 198\n",
      "Working on limb L0 branch 48\n",
      "No spines and using precomputed width\n",
      "Working on limb L0 branch 120\n",
      "No spines and using precomputed width\n",
      "Working on limb L0 branch 61\n",
      "No spines and using precomputed width\n",
      "Working on limb L0 branch 106\n",
      "No spines and using precomputed width\n",
      "Working on limb L0 branch 95\n",
      "No spines and using precomputed width\n",
      "Working on limb L0 branch 100\n",
      "No spines and using precomputed width\n",
      "Working on limb L0 branch 145\n",
      "No spines and using precomputed width\n",
      "Working on limb L0 branch 180\n",
      "No spines and using precomputed width\n",
      "Working on limb L0 branch 38\n",
      "Working on limb L0 branch 210\n",
      "Working on limb L0 branch 31\n",
      "Working on limb L0 branch 219\n",
      "Working on limb L0 branch 68\n",
      "No spines and using precomputed width\n",
      "Working on limb L0 branch 74\n",
      "No spines and using precomputed width\n",
      "Working on limb L0 branch 78\n",
      "No spines and using precomputed width\n",
      "Working on limb L0 branch 133\n",
      "No spines and using precomputed width\n",
      "Working on limb L0 branch 108\n",
      "No spines and using precomputed width\n",
      "Working on limb L0 branch 156\n",
      "No spines and using precomputed width\n",
      "Working on limb L0 branch 112\n",
      "No spines and using precomputed width\n",
      "Working on limb L0 branch 144\n",
      "No spines and using precomputed width\n",
      "Working on limb L0 branch 160\n",
      "No spines and using precomputed width\n",
      "Working on limb L0 branch 205\n",
      "No spines and using precomputed width\n",
      "Working on limb L0 branch 213\n",
      "Working on limb L0 branch 215\n",
      "No spines and using precomputed width\n",
      "Working on limb L0 branch 194\n",
      "No spines and using precomputed width\n",
      "Working on limb L0 branch 197\n",
      "Working on limb L0 branch 47\n",
      "No spines and using precomputed width\n",
      "Working on limb L0 branch 161\n",
      "No spines and using precomputed width\n",
      "Working on limb L0 branch 60\n",
      "No spines and using precomputed width\n",
      "Working on limb L0 branch 157\n",
      "No spines and using precomputed width\n",
      "Working on limb L0 branch 105\n",
      "No spines and using precomputed width\n",
      "Working on limb L0 branch 179\n",
      "No spines and using precomputed width\n",
      "Working on limb L0 branch 94\n",
      "No spines and using precomputed width\n",
      "Working on limb L0 branch 102\n",
      "No spines and using precomputed width\n",
      "Working on limb L0 branch 99\n",
      "No spines and using precomputed width\n",
      "Working on limb L0 branch 139\n",
      "No spines and using precomputed width\n",
      "Working on limb L0 branch 36\n",
      "No spines and using precomputed width\n",
      "Working on limb L0 branch 199\n",
      "Working on limb L0 branch 200\n",
      "No spines and using precomputed width\n",
      "Working on limb L0 branch 209\n",
      "Working on limb L0 branch 211\n",
      "No spines and using precomputed width\n",
      "Working on limb L0 branch 30\n",
      "No spines and using precomputed width\n",
      "Working on limb L0 branch 32\n",
      "Working on limb L0 branch 67\n",
      "No spines and using precomputed width\n",
      "Working on limb L0 branch 182\n",
      "No spines and using precomputed width\n",
      "Working on limb L0 branch 73\n",
      "No spines and using precomputed width\n",
      "Working on limb L0 branch 88\n",
      "No spines and using precomputed width\n",
      "Working on limb L0 branch 77\n",
      "No spines and using precomputed width\n",
      "Working on limb L0 branch 143\n",
      "No spines and using precomputed width\n",
      "Working on limb L0 branch 43\n",
      "Working on limb L0 branch 214\n",
      "Working on limb L0 branch 193\n",
      "No spines and using precomputed width\n",
      "Working on limb L0 branch 196\n",
      "No spines and using precomputed width\n",
      "Working on limb L0 branch 46\n",
      "No spines and using precomputed width\n",
      "Working on limb L0 branch 76\n",
      "No spines and using precomputed width\n",
      "Working on limb L0 branch 131\n",
      "No spines and using precomputed width\n",
      "Working on limb L0 branch 59\n",
      "No spines and using precomputed width\n",
      "Working on limb L0 branch 128\n",
      "No spines and using precomputed width\n",
      "Working on limb L0 branch 104\n",
      "No spines and using precomputed width\n",
      "Working on limb L0 branch 170\n",
      "No spines and using precomputed width\n",
      "Working on limb L0 branch 93\n",
      "No spines and using precomputed width\n",
      "Working on limb L0 branch 107\n",
      "No spines and using precomputed width\n",
      "Working on limb L0 branch 101\n",
      "No spines and using precomputed width\n",
      "Working on limb L0 branch 137\n",
      "No spines and using precomputed width\n",
      "Working on limb L0 branch 138\n",
      "No spines and using precomputed width\n",
      "Working on limb L0 branch 148\n",
      "No spines and using precomputed width\n",
      "Working on limb L0 branch 28\n",
      "Working on limb L0 branch 29\n",
      "Working on limb L0 branch 42\n",
      "No spines and using precomputed width\n",
      "Working on limb L0 branch 231\n",
      "Working on limb L0 branch 66\n",
      "No spines and using precomputed width\n",
      "Working on limb L0 branch 84\n",
      "No spines and using precomputed width\n",
      "Working on limb L0 branch 87\n",
      "No spines and using precomputed width\n",
      "Working on limb L0 branch 175\n",
      "No spines and using precomputed width\n",
      "Working on limb L0 branch 142\n",
      "No spines and using precomputed width\n",
      "Working on limb L0 branch 163\n",
      "No spines and using precomputed width\n",
      "Working on limb L0 branch 45\n",
      "No spines and using precomputed width\n",
      "Working on limb L0 branch 123\n",
      "No spines and using precomputed width\n",
      "Working on limb L0 branch 159\n",
      "No spines and using precomputed width\n",
      "Working on limb L0 branch 75\n",
      "No spines and using precomputed width\n",
      "Working on limb L0 branch 98\n",
      "No spines and using precomputed width\n",
      "Working on limb L0 branch 58\n",
      "No spines and using precomputed width\n",
      "Working on limb L0 branch 169\n",
      "No spines and using precomputed width\n",
      "Working on limb L0 branch 127\n",
      "No spines and using precomputed width\n",
      "Working on limb L0 branch 181\n",
      "No spines and using precomputed width\n",
      "Working on limb L0 branch 92\n",
      "No spines and using precomputed width\n",
      "Working on limb L0 branch 111\n",
      "No spines and using precomputed width\n",
      "Working on limb L0 branch 147\n",
      "No spines and using precomputed width\n",
      "Working on limb L0 branch 166\n",
      "No spines and using precomputed width\n",
      "Working on limb L0 branch 136\n",
      "No spines and using precomputed width\n",
      "Working on limb L0 branch 155\n",
      "No spines and using precomputed width\n",
      "Working on limb L0 branch 167\n",
      "No spines and using precomputed width\n",
      "Working on limb L0 branch 207\n"
     ]
    },
    {
     "name": "stdout",
     "output_type": "stream",
     "text": [
      "Working on limb L0 branch 208\n",
      "Working on limb L0 branch 33\n",
      "Working on limb L0 branch 34\n",
      "Working on limb L0 branch 65\n",
      "No spines and using precomputed width\n",
      "Working on limb L0 branch 122\n",
      "No spines and using precomputed width\n",
      "Working on limb L0 branch 83\n",
      "No spines and using precomputed width\n",
      "Working on limb L0 branch 172\n",
      "No spines and using precomputed width\n",
      "Working on limb L0 branch 86\n",
      "No spines and using precomputed width\n",
      "Working on limb L0 branch 162\n",
      "No spines and using precomputed width\n",
      "Working on limb L0 branch 141\n",
      "No spines and using precomputed width\n",
      "Working on limb L0 branch 171\n",
      "No spines and using precomputed width\n",
      "Working on limb L0 branch 44\n",
      "No spines and using precomputed width\n",
      "Working on limb L0 branch 184\n",
      "No spines and using precomputed width\n",
      "Working on limb L0 branch 57\n",
      "No spines and using precomputed width\n",
      "Working on limb L0 branch 103\n",
      "No spines and using precomputed width\n",
      "Working on limb L0 branch 176\n",
      "No spines and using precomputed width\n",
      "Working on limb L0 branch 126\n",
      "No spines and using precomputed width\n",
      "Working on limb L0 branch 153\n",
      "No spines and using precomputed width\n",
      "Working on limb L0 branch 110\n",
      "No spines and using precomputed width\n",
      "Working on limb L0 branch 173\n",
      "No spines and using precomputed width\n",
      "Working on limb L0 branch 174\n",
      "No spines and using precomputed width\n",
      "Working on limb L0 branch 40\n",
      "Working on limb L0 branch 227\n",
      "Working on limb L0 branch 41\n",
      "Working on limb L0 branch 229\n",
      "Working on limb L0 branch 64\n",
      "No spines and using precomputed width\n",
      "Working on limb L0 branch 130\n",
      "No spines and using precomputed width\n",
      "Working on limb L0 branch 121\n",
      "No spines and using precomputed width\n",
      "Working on limb L0 branch 125\n",
      "No spines and using precomputed width\n",
      "Working on limb L0 branch 82\n",
      "No spines and using precomputed width\n",
      "Working on limb L0 branch 119\n",
      "No spines and using precomputed width\n",
      "Working on limb L0 branch 85\n",
      "No spines and using precomputed width\n",
      "Working on limb L0 branch 89\n",
      "No spines and using precomputed width\n",
      "Working on limb L0 branch 116\n",
      "No spines and using precomputed width\n",
      "Working on limb L0 branch 140\n",
      "No spines and using precomputed width\n",
      "Working on limb L0 branch 158\n",
      "No spines and using precomputed width\n",
      "Working on limb L0 branch 56\n",
      "No spines and using precomputed width\n",
      "Working on limb L0 branch 151\n",
      "No spines and using precomputed width\n",
      "Working on limb L0 branch 37\n",
      "Working on limb L0 branch 206\n",
      "No spines and using precomputed width\n",
      "Working on limb L0 branch 216\n",
      "Working on limb L0 branch 217\n",
      "Working on limb L0 branch 63\n",
      "No spines and using precomputed width\n",
      "Working on limb L0 branch 183\n",
      "No spines and using precomputed width\n",
      "Working on limb L0 branch 124\n",
      "No spines and using precomputed width\n",
      "Working on limb L0 branch 154\n",
      "No spines and using precomputed width\n",
      "Working on limb L0 branch 118\n",
      "No spines and using precomputed width\n",
      "Working on limb L0 branch 165\n",
      "No spines and using precomputed width\n",
      "Working on limb L0 branch 115\n",
      "No spines and using precomputed width\n",
      "Working on limb L0 branch 164\n",
      "No spines and using precomputed width\n",
      "Working on limb L0 branch 55\n",
      "No spines and using precomputed width\n",
      "Working on limb L0 branch 168\n",
      "No spines and using precomputed width\n",
      "Working on limb L0 branch 117\n",
      "No spines and using precomputed width\n",
      "Working on limb L0 branch 150\n",
      "No spines and using precomputed width\n",
      "Working on limb L0 branch 54\n",
      "No spines and using precomputed width\n",
      "Working on limb L0 branch 135\n",
      "No spines and using precomputed width\n",
      "Working on limb L0 branch 149\n",
      "No spines and using precomputed width\n",
      "Working on limb L0 branch 185\n",
      "No spines and using precomputed width\n",
      "Working on limb L0 branch 134\n",
      "No spines and using precomputed width\n",
      "Working on limb L0 branch 152\n",
      "No spines and using precomputed width\n",
      "Working on limb L0 branch 178\n",
      "No spines and using precomputed width\n",
      "Working on limb L3 branch 0\n",
      "Working on limb L3 branch 1\n",
      "Working on limb L3 branch 2\n",
      "Working on limb L3 branch 8\n",
      "Working on limb L3 branch 9\n",
      "Working on limb L3 branch 3\n",
      "Working on limb L3 branch 12\n",
      "No spines and using precomputed width\n",
      "Working on limb L3 branch 5\n",
      "Working on limb L3 branch 6\n",
      "Working on limb L3 branch 10\n",
      "No spines and using precomputed width\n",
      "Working on limb L3 branch 11\n",
      "No spines and using precomputed width\n",
      "Working on limb L3 branch 4\n",
      "Working on limb L3 branch 7\n",
      "No spines and using precomputed width\n",
      "Working on limb L3 branch 13\n",
      "No spines and using precomputed width\n",
      "Working on limb L4 branch 1\n",
      "Working on limb L4 branch 0\n",
      "Working on limb L4 branch 2\n",
      "Working on limb L4 branch 4\n",
      "Working on limb L4 branch 5\n",
      "Working on limb L4 branch 3\n",
      "No spines and using precomputed width\n",
      "Working on limb L4 branch 6\n",
      "No spines and using precomputed width\n",
      "Working on limb L5 branch 0\n",
      "Working on limb L5 branch 1\n",
      "Working on limb L5 branch 4\n",
      "Working on limb L5 branch 2\n",
      "Working on limb L5 branch 3\n",
      "Working on limb L10 branch 2\n",
      "No spines and using precomputed width\n",
      "Working on limb L10 branch 0\n",
      "No spines and using precomputed width\n",
      "Working on limb L10 branch 1\n",
      "No spines and using precomputed width\n",
      "Working on limb L1 branch 10\n",
      "Working on limb L1 branch 0\n",
      "Working on limb L1 branch 9\n",
      "Working on limb L1 branch 2\n",
      "Working on limb L1 branch 8\n",
      "No spines and using precomputed width\n",
      "Working on limb L1 branch 19\n",
      "Working on limb L1 branch 24\n",
      "Working on limb L1 branch 7\n",
      "Working on limb L1 branch 15\n",
      "Working on limb L1 branch 18\n",
      "No spines and using precomputed width\n",
      "Working on limb L1 branch 27\n",
      "No spines and using precomputed width\n",
      "Working on limb L1 branch 20\n",
      "No spines and using precomputed width\n",
      "Working on limb L1 branch 23\n",
      "Working on limb L1 branch 4\n",
      "Working on limb L1 branch 6\n",
      "Working on limb L1 branch 3\n",
      "Working on limb L1 branch 57\n",
      "Working on limb L1 branch 22\n",
      "No spines and using precomputed width\n",
      "Working on limb L1 branch 26\n",
      "Working on limb L1 branch 1\n",
      "Working on limb L1 branch 5\n",
      "Working on limb L1 branch 13\n",
      "Working on limb L1 branch 51\n",
      "No spines and using precomputed width\n",
      "Working on limb L1 branch 21\n",
      "Working on limb L1 branch 25\n",
      "No spines and using precomputed width\n",
      "Working on limb L1 branch 49\n",
      "No spines and using precomputed width\n",
      "Working on limb L1 branch 50\n",
      "Working on limb L1 branch 12\n",
      "Working on limb L1 branch 46\n",
      "No spines and using precomputed width\n",
      "Working on limb L1 branch 53\n",
      "Working on limb L1 branch 54\n",
      "Working on limb L1 branch 47\n",
      "No spines and using precomputed width\n",
      "Working on limb L1 branch 48\n",
      "No spines and using precomputed width\n",
      "Working on limb L1 branch 14\n",
      "Working on limb L1 branch 52\n",
      "No spines and using precomputed width\n",
      "Working on limb L1 branch 55\n",
      "No spines and using precomputed width\n",
      "Working on limb L1 branch 56\n",
      "No spines and using precomputed width\n",
      "Working on limb L1 branch 11\n",
      "No spines and using precomputed width\n",
      "Working on limb L1 branch 34\n",
      "Working on limb L1 branch 35\n",
      "Working on limb L1 branch 33\n",
      "No spines and using precomputed width\n",
      "Working on limb L1 branch 36\n",
      "Working on limb L1 branch 32\n",
      "Working on limb L1 branch 37\n",
      "No spines and using precomputed width\n",
      "Working on limb L1 branch 16\n",
      "Working on limb L1 branch 17\n",
      "Working on limb L1 branch 28\n",
      "Working on limb L1 branch 31\n",
      "No spines and using precomputed width\n",
      "Working on limb L1 branch 42\n",
      "Working on limb L1 branch 44\n",
      "Working on limb L1 branch 29\n",
      "No spines and using precomputed width\n",
      "Working on limb L1 branch 30\n",
      "No spines and using precomputed width\n",
      "Working on limb L1 branch 39\n",
      "No spines and using precomputed width\n",
      "Working on limb L1 branch 41\n",
      "Working on limb L1 branch 43\n",
      "Working on limb L1 branch 45\n",
      "No spines and using precomputed width\n",
      "Working on limb L1 branch 38\n",
      "No spines and using precomputed width\n",
      "Working on limb L1 branch 40\n",
      "No spines and using precomputed width\n",
      "Working on limb L6 branch 0\n",
      "Working on limb L6 branch 1\n",
      "Working on limb L6 branch 2\n",
      "Working on limb L6 branch 4\n",
      "Working on limb L6 branch 5\n",
      "No spines and using precomputed width\n",
      "Working on limb L6 branch 9\n",
      "No spines and using precomputed width\n",
      "Working on limb L6 branch 12\n",
      "Working on limb L6 branch 3\n",
      "No spines and using precomputed width\n",
      "Working on limb L6 branch 7\n",
      "No spines and using precomputed width\n",
      "Working on limb L6 branch 10\n",
      "No spines and using precomputed width\n",
      "Working on limb L6 branch 11\n",
      "No spines and using precomputed width\n",
      "Working on limb L6 branch 6\n",
      "Working on limb L6 branch 8\n",
      "No spines and using precomputed width\n",
      "Working on limb L2 branch 7\n",
      "Working on limb L2 branch 11\n",
      "No spines and using precomputed width\n",
      "Working on limb L2 branch 25\n"
     ]
    },
    {
     "name": "stdout",
     "output_type": "stream",
     "text": [
      "Working on limb L2 branch 9\n",
      "Working on limb L2 branch 18\n",
      "Working on limb L2 branch 24\n",
      "Working on limb L2 branch 26\n",
      "No spines and using precomputed width\n",
      "Working on limb L2 branch 12\n",
      "Working on limb L2 branch 21\n",
      "No spines and using precomputed width\n",
      "Working on limb L2 branch 17\n",
      "No spines and using precomputed width\n",
      "Working on limb L2 branch 19\n",
      "Working on limb L2 branch 23\n",
      "No spines and using precomputed width\n",
      "Working on limb L2 branch 28\n",
      "Working on limb L2 branch 10\n",
      "Working on limb L2 branch 32\n",
      "No spines and using precomputed width\n",
      "Working on limb L2 branch 33\n",
      "No spines and using precomputed width\n",
      "Working on limb L2 branch 20\n",
      "No spines and using precomputed width\n",
      "Working on limb L2 branch 22\n",
      "No spines and using precomputed width\n",
      "Working on limb L2 branch 27\n",
      "No spines and using precomputed width\n",
      "Working on limb L2 branch 29\n",
      "Working on limb L2 branch 2\n",
      "Working on limb L2 branch 13\n",
      "Working on limb L2 branch 0\n",
      "Working on limb L2 branch 1\n",
      "Working on limb L2 branch 8\n",
      "Working on limb L2 branch 16\n",
      "No spines and using precomputed width\n",
      "Working on limb L2 branch 3\n",
      "Working on limb L2 branch 4\n",
      "Working on limb L2 branch 30\n",
      "Working on limb L2 branch 31\n",
      "Working on limb L2 branch 5\n",
      "Working on limb L2 branch 6\n",
      "Working on limb L2 branch 14\n",
      "Working on limb L2 branch 15\n",
      "No spines and using precomputed width\n",
      "Working on limb L7 branch 0\n",
      "Working on limb L7 branch 1\n",
      "Working on limb L7 branch 3\n",
      "Working on limb L7 branch 5\n",
      "No spines and using precomputed width\n",
      "Working on limb L7 branch 7\n",
      "Working on limb L7 branch 2\n",
      "Working on limb L7 branch 4\n",
      "No spines and using precomputed width\n",
      "Working on limb L7 branch 6\n",
      "No spines and using precomputed width\n",
      "Working on limb L7 branch 8\n",
      "Working on limb L8 branch 3\n",
      "No spines and using precomputed width\n",
      "Working on limb L8 branch 2\n",
      "No spines and using precomputed width\n",
      "Working on limb L8 branch 6\n",
      "Working on limb L8 branch 0\n",
      "Working on limb L8 branch 1\n",
      "Working on limb L8 branch 4\n",
      "Working on limb L8 branch 5\n",
      "No spines and using precomputed width\n",
      "Working on limb L8 branch 7\n",
      "No spines and using precomputed width\n",
      "Working on limb L9 branch 1\n",
      "Working on limb L9 branch 0\n",
      "Working on limb L9 branch 2\n",
      "Working on limb L11 branch 0\n",
      "No spines and using precomputed width\n",
      "Total time for neuron instance creation = 318.5138223171234\n"
     ]
    }
   ],
   "source": [
    "sk = reload(sk)\n",
    "tu = reload(tu)\n",
    "cu = reload(cu)\n",
    "m_sk = reload(m_sk)\n",
    "pre = reload(pre)\n",
    "xu = reload(xu)\n",
    "nu = reload(nu)\n",
    "gu = reload(gu)\n",
    "\n",
    "\n",
    "proper_time = time.time()\n",
    "\n",
    "#The containers that will hold the final data for the preprocessed neuron\n",
    "limb_correspondence=dict()\n",
    "limb_network_stating_info = dict()\n",
    "\n",
    "# ---------- Part A: skeletonization and mesh decomposition --------- #\n",
    "skeleton_time = time.time()\n",
    "\n",
    "for curr_limb_idx,limb_mesh_mparty in enumerate(current_mesh_data[0][\"branch_meshes\"]):\n",
    "    \n",
    "    #Arguments to pass to the specific function (when working with a limb)\n",
    "    soma_touching_vertices_dict = piece_to_soma_touching_vertices[curr_limb_idx]\n",
    "    \n",
    "#     if curr_limb_idx != 10:\n",
    "#         continue\n",
    "    \n",
    "    curr_limb_time = time.time()\n",
    "    print(f\"\\n\\n----- Working on Proper Limb # {curr_limb_idx} ---------\")\n",
    "    \n",
    "\n",
    "    limb_correspondence_individual,network_starting_info = pre.preprocess_limb(mesh=limb_mesh_mparty,\n",
    "                   soma_touching_vertices_dict = soma_touching_vertices_dict,\n",
    "                   return_concept_network = False, \n",
    "                   return_concept_network_starting_info=True,\n",
    "                   width_threshold_MAP=500,\n",
    "                   size_threshold_MAP=2000,\n",
    "                   surface_reconstruction_size=1000,                                                            \n",
    "                   )\n",
    "    #Storing all of the data to be sent to \n",
    "    \n",
    "    limb_correspondence[curr_limb_idx] = limb_correspondence_individual\n",
    "    limb_network_stating_info[curr_limb_idx] = network_starting_info\n",
    "    \n",
    "#     raise Exception(\"Done with #10\")\n",
    "    \n",
    "    \n",
    "print(f\"Total time for Skeletonization and Mesh Correspondence = {time.time() - skeleton_time}\")\n",
    "\n",
    "pre=reload(pre)\n",
    "neuron=reload(neuron)\n",
    "nru = reload(nru)\n",
    "# ---------- Part B: Stitching on floating pieces --------- #\n",
    "floating_stitching_time = time.time()\n",
    "\n",
    "limb_correspondence_with_floating_pieces = pre.attach_floating_pieces_to_limb_correspondence(\n",
    "        limb_correspondence,\n",
    "        floating_meshes=non_soma_touching_meshes,\n",
    "        floating_piece_face_threshold = 600,\n",
    "        max_stitch_distance=8000,\n",
    "        distance_to_move_point_threshold = 4000,\n",
    "        verbose = False)\n",
    "\n",
    "\n",
    "\n",
    "print(f\"Total time for stitching floating pieces = {time.time() - floating_stitching_time}\")\n",
    "\n",
    "\n",
    "\n",
    "\n",
    "\n",
    "# ---------- Part C: Computing Concept Networks --------- #\n",
    "concept_network_time = time.time()\n",
    "\n",
    "limb_concept_networks=dict()\n",
    "limb_labels=dict()\n",
    "\n",
    "for curr_limb_idx,limb_mesh_mparty in enumerate(current_mesh_data[0][\"branch_meshes\"]):\n",
    "    limb_to_soma_concept_networks = pre.calculate_limb_concept_networks(limb_correspondence_with_floating_pieces[curr_limb_idx],\n",
    "                                                                        run_concept_network_checks=True,\n",
    "                                                                       **limb_network_stating_info[curr_limb_idx])   \n",
    "\n",
    "\n",
    "\n",
    "    limb_concept_networks[curr_limb_idx] = limb_to_soma_concept_networks\n",
    "    limb_labels[curr_limb_idx]= \"Unlabeled\"\n",
    "    \n",
    "print(f\"Total time for Concept Networks = {time.time() - concept_network_time}\")\n",
    "\n",
    "\n",
    "\n",
    "\n",
    "\n",
    "preprocessed_data= dict(\n",
    "    soma_meshes = current_mesh_data[0][\"soma_meshes\"],\n",
    "    soma_to_piece_connectivity = current_mesh_data[0][\"soma_to_piece_connectivity\"],\n",
    "    soma_sdfs = total_soma_list_sdf,\n",
    "    insignificant_limbs=insignificant_limbs,\n",
    "    non_soma_touching_meshes=non_soma_touching_meshes,\n",
    "    inside_pieces=inside_pieces,\n",
    "    limb_correspondence=limb_correspondence_with_floating_pieces,\n",
    "    limb_concept_networks=limb_concept_networks,\n",
    "    limb_network_stating_info=limb_network_stating_info,\n",
    "    limb_labels=limb_labels,\n",
    "    limb_meshes=current_mesh_data[0][\"branch_meshes\"],\n",
    "    )\n",
    "\n",
    "    \n",
    "\n",
    "print(f\"Total time for all limb decomps = {time.time() - proper_time}\")\n",
    "\n",
    "#864049.29563888 1004924.982468    884750.28428994\n",
    "\n",
    "neuron_obj = neuron.Neuron(\n",
    "                mesh=curent_neuron,\n",
    "                 segment_id=segment_id,\n",
    "                 description=description,\n",
    "                 preprocessed_data=preprocessed_data,\n",
    "#                  decomposition_type=\"meshafterparty\",\n",
    "#                  mesh_correspondence=\"meshparty\", #meshafterparty_adaptive\n",
    "#                  distance_by_mesh_center=True, #how the distance is calculated for mesh correspondence\n",
    "#                  meshparty_segment_size = 0,\n",
    "#                  meshparty_n_surface_downsampling = 0,\n",
    "#                  meshparty_adaptive_correspondence_after_creation=False,\n",
    "#                 suppress_preprocessing_print=True,\n",
    "#                  computed_attribute_dict=None,\n",
    "#                  somas = None,\n",
    "#                  branch_skeleton_data=None,\n",
    "#                  combine_close_skeleton_nodes = True,\n",
    "#                 combine_close_skeleton_nodes_threshold=700,\n",
    "    \n",
    "    \n",
    "                ignore_warnings=True,\n",
    "                suppress_output=False,\n",
    "                calculate_spines=True,\n",
    "                widths_to_calculate=[\"no_spine_median_mesh_center\"]\n",
    "                )"
   ]
  },
  {
   "cell_type": "code",
   "execution_count": 267,
   "metadata": {},
   "outputs": [
    {
     "name": "stdout",
     "output_type": "stream",
     "text": [
      "\n",
      " Working on visualization type: mesh\n"
     ]
    },
    {
     "data": {
      "application/vnd.jupyter.widget-view+json": {
       "model_id": "157c578158d243d2ad22365f6702b6a3",
       "version_major": 2,
       "version_minor": 0
      },
      "text/plain": [
       "VBox(children=(Figure(camera=PerspectiveCamera(fov=46.0, position=(0.0, 0.0, 2.0), quaternion=(0.0, 0.0, 0.0, …"
      ]
     },
     "metadata": {},
     "output_type": "display_data"
    }
   ],
   "source": [
    "nviz.plot_spines(neuron_obj)"
   ]
  },
  {
   "cell_type": "code",
   "execution_count": 256,
   "metadata": {},
   "outputs": [
    {
     "data": {
      "text/plain": [
       "dict_keys(['branch_skeleton', 'width_from_skeleton', 'branch_mesh', 'branch_face_idx'])"
      ]
     },
     "execution_count": 256,
     "metadata": {},
     "output_type": "execute_result"
    }
   ],
   "source": [
    "limb_correspondence_individual[k].keys()"
   ]
  },
  {
   "cell_type": "code",
   "execution_count": 257,
   "metadata": {},
   "outputs": [
    {
     "name": "stdout",
     "output_type": "stream",
     "text": [
      "197.41953753393395\n",
      "10.321180423841339\n",
      "0.0\n"
     ]
    }
   ],
   "source": [
    "for k in limb_correspondence_individual.keys():\n",
    "    print(limb_correspondence_individual[k][\"width_from_skeleton\"])"
   ]
  },
  {
   "cell_type": "code",
   "execution_count": 213,
   "metadata": {},
   "outputs": [
    {
     "name": "stdout",
     "output_type": "stream",
     "text": [
      "Already have preprocessed data\n",
      "--- 1) Finished unpacking preprocessed materials: 0.00020575523376464844\n",
      "total_edges = [['S0', 'L0'], ['S0', 'L3'], ['S0', 'L4'], ['S0', 'L5'], ['S0', 'L10'], ['S1', 'L0'], ['S1', 'L1'], ['S1', 'L6'], ['S2', 'L1'], ['S2', 'L2'], ['S2', 'L7'], ['S2', 'L8'], ['S2', 'L9'], ['S2', 'L11']]\n",
      "--- 2) Finished creating neuron connectivity graph: 0.0004401206970214844\n",
      "Having to generate soma_meshes_face_idx because none in preprocessed data\n",
      "--- 3a) Finshed generating soma_meshes_face_idx: 1.269465446472168\n",
      "Using Poisson Surface Reconstruction for watertightness in soma_volume_ratio\n",
      "xvfb-run -n 9667 -s \"-screen 0 800x600x24\" meshlabserver $@  -i /notebooks/Platinum_Decomp_Fusion/Poisson_temp/neuron_413232.off -o /notebooks/Platinum_Decomp_Fusion/Poisson_temp/neuron_413232_poisson.off -s /notebooks/Platinum_Decomp_Fusion/Poisson_temp/poisson_664171.mls\n",
      "removed temporary input file: /notebooks/Platinum_Decomp_Fusion/Poisson_temp/neuron_413232.off\n",
      "removed temporary output file: /notebooks/Platinum_Decomp_Fusion/Poisson_temp/neuron_413232_poisson.off\n",
      "mesh.is_watertight = True\n",
      "/notebooks/Platinum_Decomp_Fusion/Poisson_temp/poisson_664171.mls is being deleted....\n",
      "Using Poisson Surface Reconstruction for watertightness in soma_volume_ratio\n",
      "xvfb-run -n 547 -s \"-screen 0 800x600x24\" meshlabserver $@  -i /notebooks/Platinum_Decomp_Fusion/Poisson_temp/neuron_42055.off -o /notebooks/Platinum_Decomp_Fusion/Poisson_temp/neuron_42055_poisson.off -s /notebooks/Platinum_Decomp_Fusion/Poisson_temp/poisson_598587.mls\n",
      "removed temporary input file: /notebooks/Platinum_Decomp_Fusion/Poisson_temp/neuron_42055.off\n",
      "removed temporary output file: /notebooks/Platinum_Decomp_Fusion/Poisson_temp/neuron_42055_poisson.off\n",
      "mesh.is_watertight = True\n",
      "/notebooks/Platinum_Decomp_Fusion/Poisson_temp/poisson_598587.mls is being deleted....\n",
      "Using Poisson Surface Reconstruction for watertightness in soma_volume_ratio\n",
      "xvfb-run -n 1851 -s \"-screen 0 800x600x24\" meshlabserver $@  -i /notebooks/Platinum_Decomp_Fusion/Poisson_temp/neuron_876500.off -o /notebooks/Platinum_Decomp_Fusion/Poisson_temp/neuron_876500_poisson.off -s /notebooks/Platinum_Decomp_Fusion/Poisson_temp/poisson_886748.mls\n",
      "removed temporary input file: /notebooks/Platinum_Decomp_Fusion/Poisson_temp/neuron_876500.off\n",
      "removed temporary output file: /notebooks/Platinum_Decomp_Fusion/Poisson_temp/neuron_876500_poisson.off\n",
      "mesh.is_watertight = True\n",
      "/notebooks/Platinum_Decomp_Fusion/Poisson_temp/poisson_886748.mls is being deleted....\n",
      "--- 3) Finshed generating soma objects and adding them to concept graph: 31.86792230606079\n",
      "--- 4a) Finshed generating curr_limb_meshes_face_idx: 5.1644065380096436\n",
      "curr_limb_concept_networks= {0: [<networkx_utils.GraphOrderedEdges object at 0x7f01c7a2f908>, <networkx_utils.GraphOrderedEdges object at 0x7f01c7a2fb70>, <networkx_utils.GraphOrderedEdges object at 0x7f01c7a2f9b0>], 1: [<networkx_utils.GraphOrderedEdges object at 0x7f01c7a2f4e0>, <networkx_utils.GraphOrderedEdges object at 0x7f01c7a2fd68>]}\n",
      "concept_network_dict = {0: [<networkx_utils.GraphOrderedEdges object at 0x7f01c7a2f908>, <networkx_utils.GraphOrderedEdges object at 0x7f01c7a2fb70>, <networkx_utils.GraphOrderedEdges object at 0x7f01c7a2f9b0>], 1: [<networkx_utils.GraphOrderedEdges object at 0x7f01c7a2f4e0>, <networkx_utils.GraphOrderedEdges object at 0x7f01c7a2fd68>]}\n",
      "checking and resolving cycles\n",
      "No cycles to fix\n",
      "curr_limb_concept_networks= {1: [<networkx_utils.GraphOrderedEdges object at 0x7f01c6a94a90>], 2: [<networkx_utils.GraphOrderedEdges object at 0x7f01c6a94cf8>]}\n",
      "concept_network_dict = {1: [<networkx_utils.GraphOrderedEdges object at 0x7f01c6a94a90>], 2: [<networkx_utils.GraphOrderedEdges object at 0x7f01c6a94cf8>]}\n",
      "checking and resolving cycles\n",
      "No cycles to fix\n",
      "curr_limb_concept_networks= {2: [<networkx_utils.GraphOrderedEdges object at 0x7f01c6a94d30>]}\n",
      "concept_network_dict = {2: [<networkx_utils.GraphOrderedEdges object at 0x7f01c6a94d30>]}\n",
      "checking and resolving cycles\n",
      "No cycles to fix\n",
      "curr_limb_concept_networks= {0: [<networkx_utils.GraphOrderedEdges object at 0x7f01c6a94b00>]}\n",
      "concept_network_dict = {0: [<networkx_utils.GraphOrderedEdges object at 0x7f01c6a94b00>]}\n",
      "checking and resolving cycles\n",
      "No cycles to fix\n",
      "curr_limb_concept_networks= {0: [<networkx_utils.GraphOrderedEdges object at 0x7f01c6a949e8>]}\n",
      "concept_network_dict = {0: [<networkx_utils.GraphOrderedEdges object at 0x7f01c6a949e8>]}\n",
      "checking and resolving cycles\n",
      "No cycles to fix\n",
      "curr_limb_concept_networks= {0: [<networkx_utils.GraphOrderedEdges object at 0x7f01c6a94a58>]}\n",
      "concept_network_dict = {0: [<networkx_utils.GraphOrderedEdges object at 0x7f01c6a94a58>]}\n",
      "checking and resolving cycles\n",
      "No cycles to fix\n",
      "curr_limb_concept_networks= {1: [<networkx_utils.GraphOrderedEdges object at 0x7f01c6a94940>]}\n",
      "concept_network_dict = {1: [<networkx_utils.GraphOrderedEdges object at 0x7f01c6a94940>]}\n",
      "checking and resolving cycles\n",
      "No cycles to fix\n",
      "curr_limb_concept_networks= {2: [<networkx_utils.GraphOrderedEdges object at 0x7f01c6a94b70>]}\n",
      "concept_network_dict = {2: [<networkx_utils.GraphOrderedEdges object at 0x7f01c6a94b70>]}\n",
      "checking and resolving cycles\n",
      "No cycles to fix\n",
      "curr_limb_concept_networks= {2: [<networkx_utils.GraphOrderedEdges object at 0x7f01c7a3a390>]}\n",
      "concept_network_dict = {2: [<networkx_utils.GraphOrderedEdges object at 0x7f01c7a3a390>]}\n",
      "checking and resolving cycles\n",
      "No cycles to fix\n",
      "curr_limb_concept_networks= {2: [<networkx_utils.GraphOrderedEdges object at 0x7f01c6a94ba8>]}\n",
      "concept_network_dict = {2: [<networkx_utils.GraphOrderedEdges object at 0x7f01c6a94ba8>]}\n",
      "checking and resolving cycles\n",
      "No cycles to fix\n",
      "curr_limb_concept_networks= {0: [<networkx_utils.GraphOrderedEdges object at 0x7f01c7a3ae48>]}\n",
      "concept_network_dict = {0: [<networkx_utils.GraphOrderedEdges object at 0x7f01c7a3ae48>]}\n",
      "checking and resolving cycles\n",
      "No cycles to fix\n",
      "curr_limb_concept_networks= {2: [<networkx_utils.GraphOrderedEdges object at 0x7f01c6a94470>]}\n",
      "concept_network_dict = {2: [<networkx_utils.GraphOrderedEdges object at 0x7f01c6a94470>]}\n",
      "Concept graph size was 1 or less so returning original\n",
      "--- 4) Finshed generating Limb objects and adding them to concept graph: 2.5676681995391846\n",
      "--- 5) SKIPPING Doing the adaptive mesh correspondence on the meshparty preprocessing ---\n",
      "--- 6) SKIPPING Using the computed_attribute_dict to populate neuron attributes ---\n",
      "Total time for neuron instance creation = 40.87105178833008\n"
     ]
    }
   ],
   "source": []
  },
  {
   "cell_type": "code",
   "execution_count": 215,
   "metadata": {},
   "outputs": [
    {
     "data": {
      "image/png": "[encoded data removed]",
      "text/plain": [
       "<Figure size 432x288 with 1 Axes>"
      ]
     },
     "metadata": {},
     "output_type": "display_data"
    }
   ],
   "source": [
    "nviz.plot_soma_limb_concept_network(neuron_obj)"
   ]
  },
  {
   "cell_type": "code",
   "execution_count": 216,
   "metadata": {},
   "outputs": [
    {
     "name": "stdout",
     "output_type": "stream",
     "text": [
      "Working on limb L0 branch 6\n",
      "Working on limb L0 branch 5\n",
      "Working on limb L0 branch 7\n",
      "Assigning the old width calculation because no valid new widths\n",
      "Working on limb L0 branch 184\n",
      "Working on limb L0 branch 185\n",
      "Working on limb L0 branch 4\n",
      "Working on limb L0 branch 8\n",
      "Assigning the old width calculation because no valid new widths\n",
      "Working on limb L0 branch 183\n",
      "Working on limb L0 branch 186\n",
      "Working on limb L0 branch 1\n",
      "Working on limb L0 branch 187\n",
      "Working on limb L0 branch 2\n",
      "Working on limb L0 branch 25\n",
      "Working on limb L0 branch 23\n",
      "Working on limb L0 branch 220\n",
      "Working on limb L0 branch 221\n",
      "Working on limb L0 branch 222\n",
      "Working on limb L0 branch 182\n",
      "Working on limb L0 branch 188\n",
      "Working on limb L0 branch 0\n",
      "Working on limb L0 branch 49\n",
      "Working on limb L0 branch 3\n",
      "Working on limb L0 branch 226\n",
      "Working on limb L0 branch 10\n",
      "Working on limb L0 branch 11\n",
      "Working on limb L0 branch 48\n",
      "Working on limb L0 branch 68\n",
      "Working on limb L0 branch 9\n",
      "Working on limb L0 branch 15\n",
      "Working on limb L0 branch 16\n",
      "Working on limb L0 branch 21\n",
      "Working on limb L0 branch 47\n",
      "Working on limb L0 branch 125\n",
      "Working on limb L0 branch 67\n",
      "Working on limb L0 branch 77\n",
      "Working on limb L0 branch 197\n",
      "Working on limb L0 branch 199\n",
      "Working on limb L0 branch 17\n",
      "Working on limb L0 branch 18\n",
      "Working on limb L0 branch 24\n",
      "Working on limb L0 branch 224\n",
      "Working on limb L0 branch 22\n",
      "Working on limb L0 branch 217\n",
      "Working on limb L0 branch 46\n",
      "Working on limb L0 branch 93\n",
      "Working on limb L0 branch 66\n",
      "Working on limb L0 branch 87\n",
      "Working on limb L0 branch 76\n",
      "Working on limb L0 branch 110\n",
      "Working on limb L0 branch 198\n",
      "Working on limb L0 branch 200\n",
      "Working on limb L0 branch 20\n",
      "Working on limb L0 branch 214\n",
      "Working on limb L0 branch 19\n",
      "Working on limb L0 branch 208\n",
      "Working on limb L0 branch 13\n",
      "Working on limb L0 branch 219\n",
      "Working on limb L0 branch 216\n",
      "Working on limb L0 branch 218\n",
      "Working on limb L0 branch 45\n",
      "Working on limb L0 branch 58\n",
      "Working on limb L0 branch 92\n",
      "Working on limb L0 branch 142\n",
      "Working on limb L0 branch 33\n",
      "Working on limb L0 branch 36\n",
      "Working on limb L0 branch 65\n",
      "Working on limb L0 branch 86\n",
      "Working on limb L0 branch 173\n",
      "Working on limb L0 branch 75\n",
      "Working on limb L0 branch 105\n",
      "Working on limb L0 branch 109\n",
      "Working on limb L0 branch 128\n",
      "Working on limb L0 branch 191\n",
      "Working on limb L0 branch 194\n",
      "Working on limb L0 branch 12\n",
      "Working on limb L0 branch 14\n",
      "Working on limb L0 branch 44\n",
      "Working on limb L0 branch 116\n",
      "Working on limb L0 branch 57\n",
      "Working on limb L0 branch 102\n",
      "Working on limb L0 branch 91\n",
      "Working on limb L0 branch 96\n",
      "Working on limb L0 branch 141\n",
      "Working on limb L0 branch 176\n",
      "Working on limb L0 branch 35\n",
      "Working on limb L0 branch 206\n",
      "Working on limb L0 branch 29\n",
      "Working on limb L0 branch 215\n",
      "Working on limb L0 branch 64\n",
      "Working on limb L0 branch 70\n",
      "Working on limb L0 branch 74\n",
      "Working on limb L0 branch 129\n",
      "Working on limb L0 branch 104\n",
      "Working on limb L0 branch 152\n",
      "Working on limb L0 branch 108\n",
      "Working on limb L0 branch 140\n",
      "Working on limb L0 branch 156\n",
      "Working on limb L0 branch 190\n",
      "Working on limb L0 branch 193\n",
      "Working on limb L0 branch 201\n",
      "Working on limb L0 branch 209\n",
      "Working on limb L0 branch 211\n",
      "Assigning the old width calculation because no valid new widths\n",
      "Working on limb L0 branch 43\n",
      "Working on limb L0 branch 157\n",
      "Working on limb L0 branch 56\n",
      "Working on limb L0 branch 153\n",
      "Working on limb L0 branch 101\n",
      "Working on limb L0 branch 175\n",
      "Working on limb L0 branch 90\n",
      "Working on limb L0 branch 98\n",
      "Working on limb L0 branch 95\n",
      "Working on limb L0 branch 135\n",
      "Working on limb L0 branch 195\n",
      "Working on limb L0 branch 196\n",
      "Working on limb L0 branch 205\n",
      "Working on limb L0 branch 207\n",
      "Working on limb L0 branch 28\n",
      "Working on limb L0 branch 30\n",
      "Working on limb L0 branch 63\n",
      "Working on limb L0 branch 178\n",
      "Working on limb L0 branch 69\n",
      "Working on limb L0 branch 84\n",
      "Working on limb L0 branch 73\n",
      "Working on limb L0 branch 139\n",
      "Working on limb L0 branch 189\n",
      "Working on limb L0 branch 192\n",
      "Working on limb L0 branch 39\n",
      "Working on limb L0 branch 210\n",
      "Working on limb L0 branch 42\n",
      "Working on limb L0 branch 72\n",
      "Working on limb L0 branch 127\n",
      "Working on limb L0 branch 55\n",
      "Working on limb L0 branch 124\n",
      "Working on limb L0 branch 100\n",
      "Working on limb L0 branch 166\n",
      "Working on limb L0 branch 89\n",
      "Working on limb L0 branch 103\n",
      "Working on limb L0 branch 97\n",
      "Working on limb L0 branch 133\n",
      "Working on limb L0 branch 134\n",
      "Working on limb L0 branch 144\n",
      "Working on limb L0 branch 26\n",
      "Working on limb L0 branch 27\n",
      "Working on limb L0 branch 31\n",
      "Working on limb L0 branch 32\n",
      "Working on limb L0 branch 227\n",
      "Working on limb L0 branch 62\n",
      "Working on limb L0 branch 80\n",
      "Working on limb L0 branch 83\n",
      "Working on limb L0 branch 171\n",
      "Working on limb L0 branch 138\n",
      "Working on limb L0 branch 159\n",
      "Working on limb L0 branch 41\n",
      "Working on limb L0 branch 119\n",
      "Working on limb L0 branch 155\n",
      "Working on limb L0 branch 71\n",
      "Working on limb L0 branch 94\n",
      "Working on limb L0 branch 54\n",
      "Working on limb L0 branch 165\n",
      "Working on limb L0 branch 123\n",
      "Working on limb L0 branch 177\n",
      "Working on limb L0 branch 88\n",
      "Working on limb L0 branch 107\n",
      "Working on limb L0 branch 143\n",
      "Working on limb L0 branch 162\n",
      "Working on limb L0 branch 132\n",
      "Working on limb L0 branch 151\n",
      "Working on limb L0 branch 163\n",
      "Working on limb L0 branch 203\n",
      "Working on limb L0 branch 204\n",
      "Working on limb L0 branch 37\n",
      "Working on limb L0 branch 223\n",
      "Working on limb L0 branch 38\n",
      "Working on limb L0 branch 225\n",
      "Working on limb L0 branch 61\n",
      "Working on limb L0 branch 118\n",
      "Working on limb L0 branch 79\n",
      "Working on limb L0 branch 168\n",
      "Working on limb L0 branch 82\n",
      "Working on limb L0 branch 158\n",
      "Working on limb L0 branch 137\n",
      "Working on limb L0 branch 167\n",
      "Working on limb L0 branch 40\n",
      "Working on limb L0 branch 180\n",
      "Working on limb L0 branch 53\n",
      "Working on limb L0 branch 99\n",
      "Working on limb L0 branch 172\n",
      "Working on limb L0 branch 122\n",
      "Working on limb L0 branch 149\n",
      "Working on limb L0 branch 106\n",
      "Working on limb L0 branch 169\n",
      "Working on limb L0 branch 170\n",
      "Working on limb L0 branch 34\n",
      "Working on limb L0 branch 202\n",
      "Working on limb L0 branch 212\n",
      "Working on limb L0 branch 213\n",
      "Working on limb L0 branch 60\n",
      "Working on limb L0 branch 126\n",
      "Working on limb L0 branch 117\n",
      "Working on limb L0 branch 121\n",
      "Working on limb L0 branch 78\n",
      "Working on limb L0 branch 115\n",
      "Working on limb L0 branch 81\n",
      "Working on limb L0 branch 85\n",
      "Working on limb L0 branch 112\n",
      "Working on limb L0 branch 136\n",
      "Working on limb L0 branch 154\n",
      "Working on limb L0 branch 52\n",
      "Working on limb L0 branch 147\n",
      "Working on limb L0 branch 59\n",
      "Working on limb L0 branch 179\n",
      "Working on limb L0 branch 120\n",
      "Working on limb L0 branch 150\n",
      "Working on limb L0 branch 114\n",
      "Working on limb L0 branch 161\n",
      "Working on limb L0 branch 111\n",
      "Working on limb L0 branch 160\n",
      "Working on limb L0 branch 51\n",
      "Working on limb L0 branch 164\n",
      "Working on limb L0 branch 113\n",
      "Working on limb L0 branch 146\n",
      "Working on limb L0 branch 50\n",
      "Working on limb L0 branch 131\n",
      "Working on limb L0 branch 145\n",
      "Working on limb L0 branch 181\n",
      "Working on limb L0 branch 130\n",
      "Working on limb L0 branch 148\n",
      "Working on limb L0 branch 174\n",
      "Working on limb L3 branch 0\n",
      "Working on limb L3 branch 1\n",
      "Working on limb L3 branch 2\n",
      "Working on limb L3 branch 8\n",
      "Working on limb L3 branch 9\n",
      "Working on limb L3 branch 3\n",
      "Working on limb L3 branch 12\n",
      "Working on limb L3 branch 5\n",
      "Working on limb L3 branch 6\n",
      "Working on limb L3 branch 10\n",
      "Working on limb L3 branch 11\n",
      "Working on limb L3 branch 4\n",
      "Working on limb L3 branch 7\n",
      "Working on limb L3 branch 13\n",
      "Working on limb L4 branch 1\n",
      "Working on limb L4 branch 0\n",
      "Working on limb L4 branch 2\n",
      "Working on limb L4 branch 4\n",
      "Working on limb L4 branch 5\n",
      "Working on limb L4 branch 3\n",
      "Working on limb L4 branch 6\n",
      "Working on limb L5 branch 0\n",
      "Working on limb L5 branch 1\n",
      "Working on limb L5 branch 4\n",
      "Working on limb L5 branch 2\n",
      "Working on limb L5 branch 3\n",
      "Working on limb L10 branch 2\n",
      "Assigning the old width calculation because no valid new widths\n",
      "Working on limb L10 branch 0\n",
      "Working on limb L10 branch 1\n",
      "Assigning the old width calculation because no valid new widths\n",
      "Working on limb L1 branch 10\n",
      "Working on limb L1 branch 0\n",
      "Working on limb L1 branch 9\n",
      "Working on limb L1 branch 2\n",
      "Working on limb L1 branch 8\n",
      "Working on limb L1 branch 18\n",
      "Working on limb L1 branch 23\n",
      "Working on limb L1 branch 7\n",
      "Working on limb L1 branch 14\n",
      "Working on limb L1 branch 17\n",
      "Working on limb L1 branch 26\n",
      "Working on limb L1 branch 19\n",
      "Working on limb L1 branch 22\n"
     ]
    },
    {
     "name": "stdout",
     "output_type": "stream",
     "text": [
      "Working on limb L1 branch 4\n",
      "Working on limb L1 branch 6\n",
      "Working on limb L1 branch 3\n",
      "Working on limb L1 branch 56\n",
      "Working on limb L1 branch 21\n",
      "Working on limb L1 branch 25\n",
      "Working on limb L1 branch 1\n",
      "Working on limb L1 branch 5\n",
      "Working on limb L1 branch 12\n",
      "Working on limb L1 branch 50\n",
      "Working on limb L1 branch 20\n",
      "Working on limb L1 branch 24\n",
      "Working on limb L1 branch 48\n",
      "Working on limb L1 branch 49\n",
      "Working on limb L1 branch 11\n",
      "Working on limb L1 branch 45\n",
      "Working on limb L1 branch 52\n",
      "Working on limb L1 branch 53\n",
      "Working on limb L1 branch 46\n",
      "Working on limb L1 branch 47\n",
      "Working on limb L1 branch 13\n",
      "Working on limb L1 branch 51\n",
      "Working on limb L1 branch 54\n",
      "Working on limb L1 branch 55\n",
      "Working on limb L1 branch 33\n",
      "Working on limb L1 branch 34\n",
      "Working on limb L1 branch 32\n",
      "Working on limb L1 branch 35\n",
      "Working on limb L1 branch 31\n",
      "Working on limb L1 branch 36\n",
      "Working on limb L1 branch 15\n",
      "Working on limb L1 branch 16\n",
      "Working on limb L1 branch 27\n",
      "Working on limb L1 branch 30\n",
      "Working on limb L1 branch 41\n",
      "Working on limb L1 branch 43\n",
      "Working on limb L1 branch 28\n",
      "Working on limb L1 branch 29\n",
      "Working on limb L1 branch 38\n",
      "Working on limb L1 branch 40\n",
      "Working on limb L1 branch 42\n",
      "Working on limb L1 branch 44\n",
      "Working on limb L1 branch 37\n",
      "Working on limb L1 branch 39\n",
      "Working on limb L6 branch 0\n",
      "Working on limb L6 branch 1\n",
      "Working on limb L6 branch 2\n",
      "Working on limb L6 branch 4\n",
      "Working on limb L6 branch 5\n",
      "Working on limb L6 branch 9\n",
      "Working on limb L6 branch 12\n",
      "Working on limb L6 branch 3\n",
      "Working on limb L6 branch 7\n",
      "Working on limb L6 branch 10\n",
      "Working on limb L6 branch 11\n",
      "Working on limb L6 branch 6\n",
      "Working on limb L6 branch 8\n",
      "Working on limb L2 branch 0\n",
      "Working on limb L2 branch 9\n",
      "Working on limb L2 branch 23\n",
      "Working on limb L2 branch 7\n",
      "Working on limb L2 branch 16\n",
      "Working on limb L2 branch 22\n",
      "Working on limb L2 branch 24\n",
      "Working on limb L2 branch 10\n",
      "Working on limb L2 branch 19\n",
      "Working on limb L2 branch 15\n",
      "Working on limb L2 branch 17\n",
      "Working on limb L2 branch 21\n",
      "Working on limb L2 branch 26\n",
      "Working on limb L2 branch 8\n",
      "Working on limb L2 branch 30\n",
      "Working on limb L2 branch 31\n",
      "Working on limb L2 branch 18\n",
      "Working on limb L2 branch 20\n",
      "Working on limb L2 branch 25\n",
      "Working on limb L2 branch 27\n",
      "Working on limb L2 branch 5\n",
      "Working on limb L2 branch 11\n",
      "Working on limb L2 branch 6\n",
      "Working on limb L2 branch 14\n",
      "Working on limb L2 branch 1\n",
      "Working on limb L2 branch 2\n",
      "Working on limb L2 branch 28\n",
      "Working on limb L2 branch 29\n",
      "Working on limb L2 branch 3\n",
      "Working on limb L2 branch 4\n",
      "Working on limb L2 branch 12\n",
      "Working on limb L2 branch 13\n",
      "Working on limb L7 branch 0\n",
      "Working on limb L7 branch 1\n",
      "Working on limb L7 branch 3\n",
      "Working on limb L7 branch 5\n",
      "Working on limb L7 branch 7\n",
      "Working on limb L7 branch 2\n",
      "Working on limb L7 branch 4\n",
      "Working on limb L7 branch 6\n",
      "Working on limb L7 branch 8\n",
      "Working on limb L8 branch 3\n",
      "Working on limb L8 branch 2\n",
      "Working on limb L8 branch 6\n",
      "Working on limb L8 branch 0\n",
      "Working on limb L8 branch 1\n",
      "Working on limb L8 branch 4\n",
      "Working on limb L8 branch 5\n",
      "Working on limb L8 branch 7\n",
      "Working on limb L9 branch 1\n",
      "Working on limb L9 branch 0\n",
      "Working on limb L9 branch 2\n",
      "Working on limb L11 branch 0\n"
     ]
    }
   ],
   "source": [
    "neuron_obj.calculate_new_width(no_spines=False,\n",
    "                                       distance_by_mesh_center=True,\n",
    "                                       summary_measure=\"median\")"
   ]
  },
  {
   "cell_type": "code",
   "execution_count": 223,
   "metadata": {},
   "outputs": [],
   "source": [
    "curr_df = su.decompress_pickle(\"curr_df\")"
   ]
  },
  {
   "cell_type": "code",
   "execution_count": 227,
   "metadata": {},
   "outputs": [
    {
     "data": {
      "text/html": [
       "<div>\n",
       "<style scoped>\n",
       "    .dataframe tbody tr th:only-of-type {\n",
       "        vertical-align: middle;\n",
       "    }\n",
       "\n",
       "    .dataframe tbody tr th {\n",
       "        vertical-align: top;\n",
       "    }\n",
       "\n",
       "    .dataframe thead th {\n",
       "        text-align: right;\n",
       "    }\n",
       "</style>\n",
       "<table border=\"1\" class=\"dataframe\">\n",
       "  <thead>\n",
       "    <tr style=\"text-align: right;\">\n",
       "      <th></th>\n",
       "      <th>limb</th>\n",
       "      <th>node</th>\n",
       "      <th>median_mesh_center</th>\n",
       "      <th>n_faces_branch</th>\n",
       "    </tr>\n",
       "  </thead>\n",
       "  <tbody>\n",
       "    <tr>\n",
       "      <th>0</th>\n",
       "      <td>L0</td>\n",
       "      <td>6</td>\n",
       "      <td>908.178860</td>\n",
       "      <td>404</td>\n",
       "    </tr>\n",
       "    <tr>\n",
       "      <th>1</th>\n",
       "      <td>L0</td>\n",
       "      <td>5</td>\n",
       "      <td>349.165419</td>\n",
       "      <td>11434</td>\n",
       "    </tr>\n",
       "    <tr>\n",
       "      <th>2</th>\n",
       "      <td>L0</td>\n",
       "      <td>7</td>\n",
       "      <td>460.052741</td>\n",
       "      <td>6</td>\n",
       "    </tr>\n",
       "    <tr>\n",
       "      <th>3</th>\n",
       "      <td>L0</td>\n",
       "      <td>184</td>\n",
       "      <td>270.094784</td>\n",
       "      <td>4226</td>\n",
       "    </tr>\n",
       "    <tr>\n",
       "      <th>4</th>\n",
       "      <td>L0</td>\n",
       "      <td>185</td>\n",
       "      <td>254.371528</td>\n",
       "      <td>629</td>\n",
       "    </tr>\n",
       "    <tr>\n",
       "      <th>...</th>\n",
       "      <td>...</td>\n",
       "      <td>...</td>\n",
       "      <td>...</td>\n",
       "      <td>...</td>\n",
       "    </tr>\n",
       "    <tr>\n",
       "      <th>375</th>\n",
       "      <td>L8</td>\n",
       "      <td>7</td>\n",
       "      <td>66.748064</td>\n",
       "      <td>205</td>\n",
       "    </tr>\n",
       "    <tr>\n",
       "      <th>376</th>\n",
       "      <td>L9</td>\n",
       "      <td>1</td>\n",
       "      <td>646.822564</td>\n",
       "      <td>3010</td>\n",
       "    </tr>\n",
       "    <tr>\n",
       "      <th>377</th>\n",
       "      <td>L9</td>\n",
       "      <td>0</td>\n",
       "      <td>429.335329</td>\n",
       "      <td>3670</td>\n",
       "    </tr>\n",
       "    <tr>\n",
       "      <th>378</th>\n",
       "      <td>L9</td>\n",
       "      <td>2</td>\n",
       "      <td>273.133383</td>\n",
       "      <td>2828</td>\n",
       "    </tr>\n",
       "    <tr>\n",
       "      <th>379</th>\n",
       "      <td>L11</td>\n",
       "      <td>0</td>\n",
       "      <td>224.550649</td>\n",
       "      <td>3704</td>\n",
       "    </tr>\n",
       "  </tbody>\n",
       "</table>\n",
       "<p>380 rows × 4 columns</p>\n",
       "</div>"
      ],
      "text/plain": [
       "    limb  node  median_mesh_center  n_faces_branch\n",
       "0     L0     6          908.178860             404\n",
       "1     L0     5          349.165419           11434\n",
       "2     L0     7          460.052741               6\n",
       "3     L0   184          270.094784            4226\n",
       "4     L0   185          254.371528             629\n",
       "..   ...   ...                 ...             ...\n",
       "375   L8     7           66.748064             205\n",
       "376   L9     1          646.822564            3010\n",
       "377   L9     0          429.335329            3670\n",
       "378   L9     2          273.133383            2828\n",
       "379  L11     0          224.550649            3704\n",
       "\n",
       "[380 rows x 4 columns]"
      ]
     },
     "execution_count": 227,
     "metadata": {},
     "output_type": "execute_result"
    }
   ],
   "source": [
    "curr_df"
   ]
  },
  {
   "cell_type": "code",
   "execution_count": null,
   "metadata": {},
   "outputs": [],
   "source": [
    "calculate_new_width(no_spines=False,\n",
    "                   distance_by_mesh_center=True,\n",
    "                   summary_measure=\"median\")"
   ]
  },
  {
   "cell_type": "code",
   "execution_count": 230,
   "metadata": {},
   "outputs": [
    {
     "data": {
      "text/html": [
       "<div>\n",
       "<style scoped>\n",
       "    .dataframe tbody tr th:only-of-type {\n",
       "        vertical-align: middle;\n",
       "    }\n",
       "\n",
       "    .dataframe tbody tr th {\n",
       "        vertical-align: top;\n",
       "    }\n",
       "\n",
       "    .dataframe thead th {\n",
       "        text-align: right;\n",
       "    }\n",
       "</style>\n",
       "<table border=\"1\" class=\"dataframe\">\n",
       "  <thead>\n",
       "    <tr style=\"text-align: right;\">\n",
       "      <th></th>\n",
       "      <th>limb</th>\n",
       "      <th>node</th>\n",
       "      <th>median_mesh_center</th>\n",
       "      <th>n_faces_branch</th>\n",
       "    </tr>\n",
       "  </thead>\n",
       "  <tbody>\n",
       "    <tr>\n",
       "      <th>254</th>\n",
       "      <td>L10</td>\n",
       "      <td>2</td>\n",
       "      <td>NaN</td>\n",
       "      <td>29</td>\n",
       "    </tr>\n",
       "  </tbody>\n",
       "</table>\n",
       "</div>"
      ],
      "text/plain": [
       "    limb  node  median_mesh_center  n_faces_branch\n",
       "254  L10     2                 NaN              29"
      ]
     },
     "execution_count": 230,
     "metadata": {},
     "output_type": "execute_result"
    }
   ],
   "source": [
    "curr_df[curr_df[\"median_mesh_center\"].isnull()]"
   ]
  },
  {
   "cell_type": "code",
   "execution_count": 239,
   "metadata": {},
   "outputs": [],
   "source": [
    "x = np.array([5,6,np.nan,7])"
   ]
  },
  {
   "cell_type": "code",
   "execution_count": 242,
   "metadata": {},
   "outputs": [
    {
     "data": {
      "text/plain": [
       "array([False, False,  True, False])"
      ]
     },
     "execution_count": 242,
     "metadata": {},
     "output_type": "execute_result"
    }
   ],
   "source": [
    "np.isnan(x)"
   ]
  },
  {
   "cell_type": "code",
   "execution_count": 245,
   "metadata": {},
   "outputs": [
    {
     "data": {
      "text/plain": [
       "True"
      ]
     },
     "execution_count": 245,
     "metadata": {},
     "output_type": "execute_result"
    }
   ],
   "source": [
    "np.isnan(np.nan)"
   ]
  },
  {
   "cell_type": "code",
   "execution_count": 241,
   "metadata": {},
   "outputs": [
    {
     "data": {
      "text/plain": [
       "array([nan])"
      ]
     },
     "execution_count": 241,
     "metadata": {},
     "output_type": "execute_result"
    }
   ],
   "source": [
    "x[np.isnan(x)]"
   ]
  },
  {
   "cell_type": "code",
   "execution_count": 238,
   "metadata": {},
   "outputs": [
    {
     "data": {
      "text/plain": [
       "nan"
      ]
     },
     "execution_count": 238,
     "metadata": {},
     "output_type": "execute_result"
    }
   ],
   "source": [
    "neuron_obj[10][2].width"
   ]
  },
  {
   "cell_type": "code",
   "execution_count": 237,
   "metadata": {},
   "outputs": [
    {
     "name": "stdout",
     "output_type": "stream",
     "text": [
      "Assigning the old width calculation because no valid new widths\n"
     ]
    },
    {
     "data": {
      "text/plain": [
       "(array([nan, nan, nan]), nan)"
      ]
     },
     "execution_count": 237,
     "metadata": {},
     "output_type": "execute_result"
    }
   ],
   "source": [
    "import width_utils as wu\n",
    "wu.calculate_new_width(neuron_obj[10][2], \n",
    "                                          skeleton_segment_size = 1000,\n",
    "                                           width_segment_size=None,\n",
    "                                          distance_by_mesh_center=True,\n",
    "                                          no_spines=False,\n",
    "                                          summary_measure=\"median\",\n",
    "                                          return_average=True,\n",
    "                                          print_flag=False)"
   ]
  },
  {
   "cell_type": "code",
   "execution_count": 236,
   "metadata": {},
   "outputs": [
    {
     "data": {
      "text/plain": [
       "nan"
      ]
     },
     "execution_count": 236,
     "metadata": {},
     "output_type": "execute_result"
    }
   ],
   "source": [
    "neuron_obj[10][2].width_new[\"median_mesh_center\"]"
   ]
  },
  {
   "cell_type": "code",
   "execution_count": 232,
   "metadata": {},
   "outputs": [
    {
     "name": "stdout",
     "output_type": "stream",
     "text": [
      "\n",
      " Working on visualization type: mesh\n",
      "\n",
      " Working on visualization type: skeleton\n"
     ]
    },
    {
     "data": {
      "application/vnd.jupyter.widget-view+json": {
       "model_id": "ea63c1b8e81f414ba6f3d6c3f474bd65",
       "version_major": 2,
       "version_minor": 0
      },
      "text/plain": [
       "VBox(children=(Figure(camera=PerspectiveCamera(fov=46.0, position=(0.0, 0.0, 2.0), quaternion=(0.0, 0.0, 0.0, …"
      ]
     },
     "metadata": {},
     "output_type": "display_data"
    }
   ],
   "source": [
    "nviz.visualize_neuron(neuron_obj,\n",
    "                      visualize_type=[\"mesh\",\"skeleton\"],\n",
    "                     limb_branch_dict=dict(L10=[2]))"
   ]
  },
  {
   "cell_type": "code",
   "execution_count": 222,
   "metadata": {},
   "outputs": [
    {
     "name": "stdout",
     "output_type": "stream",
     "text": [
      "query = median_mesh_center > 200 and n_faces_branch>100\n",
      "smoothness_threshold = 0.08\n",
      "The median_mesh_center was requested and HAS already been calculated\n",
      "functions_list = [<function median_mesh_center at 0x7f0291536950>, <function n_faces_branch at 0x7f0291f30158>]\n",
      "Number of nans = limb                  0\n",
      "node                  0\n",
      "median_mesh_center    1\n",
      "n_faces_branch        0\n",
      "dtype: int64\n",
      "Saved object at /notebooks/Platinum_Decomp_Fusion/curr_df.pbz2\n",
      "File size is 0.005979 MB\n"
     ]
    },
    {
     "ename": "Exception",
     "evalue": "Some fo the data in the dataframe were incomplete",
     "output_type": "error",
     "traceback": [
      "\u001b[0;31m---------------------------------------------------------------------------\u001b[0m",
      "\u001b[0;31mException\u001b[0m                                 Traceback (most recent call last)",
      "\u001b[0;32m<ipython-input-222-1ed4e0289ae5>\u001b[0m in \u001b[0;36m<module>\u001b[0;34m\u001b[0m\n\u001b[1;32m      1\u001b[0m \u001b[0;32mimport\u001b[0m \u001b[0mneuron_searching\u001b[0m \u001b[0;32mas\u001b[0m \u001b[0mns\u001b[0m\u001b[0;34m\u001b[0m\u001b[0;34m\u001b[0m\u001b[0m\n\u001b[1;32m      2\u001b[0m \u001b[0mns\u001b[0m \u001b[0;34m=\u001b[0m \u001b[0mreload\u001b[0m\u001b[0;34m(\u001b[0m\u001b[0mns\u001b[0m\u001b[0;34m)\u001b[0m\u001b[0;34m\u001b[0m\u001b[0;34m\u001b[0m\u001b[0m\n\u001b[0;32m----> 3\u001b[0;31m \u001b[0mneuron_obj\u001b[0m\u001b[0;34m.\u001b[0m\u001b[0mcalculate_spines\u001b[0m\u001b[0;34m(\u001b[0m\u001b[0;34m)\u001b[0m\u001b[0;34m\u001b[0m\u001b[0;34m\u001b[0m\u001b[0m\n\u001b[0m",
      "\u001b[0;32m/meshAfterParty/neuron.py\u001b[0m in \u001b[0;36mcalculate_spines\u001b[0;34m(self, query, clusters_threshold, smoothness_threshold, shaft_threshold, cgal_path, print_flag, filter_out_border_spines, skeleton_endpoint_nullification, soma_vertex_nullification, border_percentage_threshold, check_spine_border_perc)\u001b[0m\n\u001b[1;32m   2203\u001b[0m         new_branch_dict = ns.query_neuron(self,\n\u001b[1;32m   2204\u001b[0m                        \u001b[0mfunctions_list\u001b[0m\u001b[0;34m=\u001b[0m\u001b[0mfunctions_list\u001b[0m\u001b[0;34m,\u001b[0m\u001b[0;34m\u001b[0m\u001b[0;34m\u001b[0m\u001b[0m\n\u001b[0;32m-> 2205\u001b[0;31m                        query=current_query)\n\u001b[0m\u001b[1;32m   2206\u001b[0m         \u001b[0;32mif\u001b[0m \u001b[0mprint_flag\u001b[0m\u001b[0;34m:\u001b[0m\u001b[0;34m\u001b[0m\u001b[0;34m\u001b[0m\u001b[0m\n\u001b[1;32m   2207\u001b[0m             \u001b[0mprint\u001b[0m\u001b[0;34m(\u001b[0m\u001b[0;34mf\"new_branch_dict = {new_branch_dict}\"\u001b[0m\u001b[0;34m)\u001b[0m\u001b[0;34m\u001b[0m\u001b[0;34m\u001b[0m\u001b[0m\n",
      "\u001b[0;32m/meshAfterParty/neuron_searching.py\u001b[0m in \u001b[0;36mquery_neuron\u001b[0;34m(concept_network, functions_list, query, function_kwargs, query_variables_dict, return_dataframe, return_limbs, return_limb_grouped_branches, print_flag)\u001b[0m\n\u001b[1;32m    940\u001b[0m     \u001b[0;31m#0) Generate a pandas table that originally has the limb index and node index\u001b[0m\u001b[0;34m\u001b[0m\u001b[0;34m\u001b[0m\u001b[0;34m\u001b[0m\u001b[0m\n\u001b[1;32m    941\u001b[0m     returned_df = generate_neuron_dataframe(concept_network,functions_list=final_feature_functions,\n\u001b[0;32m--> 942\u001b[0;31m                                            function_kwargs=function_kwargs)\n\u001b[0m\u001b[1;32m    943\u001b[0m \u001b[0;34m\u001b[0m\u001b[0m\n\u001b[1;32m    944\u001b[0m     filtered_returned_df = returned_df.query(query,\n",
      "\u001b[0;32m/meshAfterParty/neuron_searching.py\u001b[0m in \u001b[0;36mgenerate_neuron_dataframe\u001b[0;34m(current_neuron, functions_list, check_nans, function_kwargs)\u001b[0m\n\u001b[1;32m    775\u001b[0m             \u001b[0mprint\u001b[0m\u001b[0;34m(\u001b[0m\u001b[0;34mf\"Number of nans = {pu.n_nans_per_column(curr_df)}\"\u001b[0m\u001b[0;34m)\u001b[0m\u001b[0;34m\u001b[0m\u001b[0;34m\u001b[0m\u001b[0m\n\u001b[1;32m    776\u001b[0m             \u001b[0msu\u001b[0m\u001b[0;34m.\u001b[0m\u001b[0mcompressed_pickle\u001b[0m\u001b[0;34m(\u001b[0m\u001b[0mcurr_df\u001b[0m\u001b[0;34m,\u001b[0m\u001b[0;34m\"curr_df\"\u001b[0m\u001b[0;34m)\u001b[0m\u001b[0;34m\u001b[0m\u001b[0;34m\u001b[0m\u001b[0m\n\u001b[0;32m--> 777\u001b[0;31m             \u001b[0;32mraise\u001b[0m \u001b[0mException\u001b[0m\u001b[0;34m(\u001b[0m\u001b[0;34m\"Some fo the data in the dataframe were incomplete\"\u001b[0m\u001b[0;34m)\u001b[0m\u001b[0;34m\u001b[0m\u001b[0;34m\u001b[0m\u001b[0m\n\u001b[0m\u001b[1;32m    778\u001b[0m \u001b[0;34m\u001b[0m\u001b[0m\n\u001b[1;32m    779\u001b[0m \u001b[0;34m\u001b[0m\u001b[0m\n",
      "\u001b[0;31mException\u001b[0m: Some fo the data in the dataframe were incomplete"
     ]
    }
   ],
   "source": [
    "import neuron_searching as ns\n",
    "ns = reload(ns)\n",
    "neuron_obj.calculate_spines()"
   ]
  },
  {
   "cell_type": "code",
   "execution_count": 214,
   "metadata": {},
   "outputs": [
    {
     "name": "stdout",
     "output_type": "stream",
     "text": [
      "\n",
      " Working on visualization type: mesh\n",
      "\n",
      " Working on visualization type: skeleton\n"
     ]
    },
    {
     "data": {
      "application/vnd.jupyter.widget-view+json": {
       "model_id": "dab1b1bb203d4756804ca8365093c85f",
       "version_major": 2,
       "version_minor": 0
      },
      "text/plain": [
       "VBox(children=(Figure(camera=PerspectiveCamera(fov=46.0, position=(0.0, 0.0, 2.0), quaternion=(0.0, 0.0, 0.0, …"
      ]
     },
     "metadata": {},
     "output_type": "display_data"
    }
   ],
   "source": [
    "nviz.visualize_neuron(neuron_obj,\n",
    "                      visualize_type=[\"mesh\",\"skeleton\"],\n",
    "                     limb_branch_dict=\"all\")"
   ]
  },
  {
   "cell_type": "markdown",
   "metadata": {},
   "source": [
    "# Debugging the Limb error"
   ]
  },
  {
   "cell_type": "code",
   "execution_count": 184,
   "metadata": {},
   "outputs": [],
   "source": [
    "\n",
    "\n",
    "soma_touching_vertices_dict = None\n",
    "distance_by_mesh_center=True #how the distance is calculated for mesh correspondence\n",
    "meshparty_segment_size = 100\n",
    "meshparty_n_surface_downsampling = 2\n",
    "combine_close_skeleton_nodes=True\n",
    "combine_close_skeleton_nodes_threshold=700\n",
    "filter_end_node_length=4001\n",
    "use_meshafterparty=True\n",
    "perform_cleaning_checks = True\n",
    "\n",
    "#for controlling the pieces processed by MAP\n",
    "width_threshold_MAP = 450\n",
    "size_threshold_MAP = 1000\n",
    "\n",
    "#parameters for MP skeletonization,\n",
    "\n",
    "#Parameters for setting how the MAP skeletonization takes place\n",
    "use_surface_after_CGAL=False\n",
    "surface_reconstruction_size = 500\n",
    "\n",
    "#parametrers for stitching the MAP and MP pieces together\n",
    "move_MAP_stitch_to_end_or_branch = True\n",
    "distance_to_move_point_threshold=500\n",
    "\n",
    "#concept_network parameters\n",
    "run_concept_network_checks = True\n",
    "return_concept_network = True\n",
    "return_concept_network_starting_info=False\n",
    "\n",
    "#printing controls\n",
    "verbose = True\n",
    "print_fusion_steps=True\n",
    "\n",
    "\n",
    "mesh=limb_mesh_mparty\n",
    "soma_touching_vertices_dict =  piece_to_soma_touching_vertices[curr_limb_idx]\n",
    "return_concept_network = False\n",
    "return_concept_network_starting_info=True\n",
    "width_threshold_MAP=500\n",
    "size_threshold_MAP=2000\n",
    "surface_reconstruction_size=1000"
   ]
  },
  {
   "cell_type": "code",
   "execution_count": 203,
   "metadata": {},
   "outputs": [
    {
     "name": "stderr",
     "output_type": "stream",
     "text": [
      "\r",
      "  0%|          | 0/1 [00:00<?, ?it/s]"
     ]
    },
    {
     "name": "stdout",
     "output_type": "stream",
     "text": [
      "Time for preparing soma vertices and root: 0.00010752677917480469\n",
      "cc_vertex_thresh = 10\n"
     ]
    },
    {
     "data": {
      "application/vnd.jupyter.widget-view+json": {
       "model_id": "f1cf403339c247aab226ae5c329edb97",
       "version_major": 2,
       "version_minor": 0
      },
      "text/plain": [
       "HBox(children=(FloatProgress(value=0.0, max=3063.0), HTML(value='')))"
      ]
     },
     "metadata": {},
     "output_type": "display_data"
    },
    {
     "name": "stderr",
     "output_type": "stream",
     "text": [
      "\r",
      "100%|██████████| 1/1 [00:00<00:00, 14.07it/s]"
     ]
    },
    {
     "name": "stdout",
     "output_type": "stream",
     "text": [
      "\n",
      "Time for 1st pass MP skeletonization: 0.12961506843566895\n",
      "branches_touching_root = [0]\n",
      "length of Graph = 91\n",
      "max(kept_branches_idx) = 0, len(kept_branches_idx) = 1\n",
      "empty_indices % = 0.0\n",
      " conflict_indices % = 0.0\n"
     ]
    },
    {
     "name": "stderr",
     "output_type": "stream",
     "text": [
      "\n",
      "/meshAfterParty/meshparty_skeletonize.py:888: VisibleDeprecationWarning: Creating an ndarray from ragged nested sequences (which is a list-or-tuple of lists-or-tuples-or ndarrays with different lengths or shapes) is deprecated. If you meant to do this, you must specify 'dtype=object' when creating the ndarray\n",
      "  segment_branches = np.array([sk_meshparty_obj.vertices[np.vstack([k[:-1],k[1:]]).T] for k in segments])\n"
     ]
    },
    {
     "data": {
      "application/vnd.jupyter.widget-view+json": {
       "model_id": "8948533ba11d4acf996742324686ec72",
       "version_major": 2,
       "version_minor": 0
      },
      "text/plain": [
       "HBox(children=(FloatProgress(value=1.0, bar_style='info', max=1.0), HTML(value='')))"
      ]
     },
     "metadata": {},
     "output_type": "display_data"
    },
    {
     "name": "stdout",
     "output_type": "stream",
     "text": [
      "\n",
      "AFTER face_lookup_resolved_test\n"
     ]
    },
    {
     "data": {
      "application/vnd.jupyter.widget-view+json": {
       "model_id": "5cd812a3404a44dc895a08f99d1dc940",
       "version_major": 2,
       "version_minor": 0
      },
      "text/plain": [
       "HBox(children=(FloatProgress(value=0.0, max=1.0), HTML(value='')))"
      ]
     },
     "metadata": {},
     "output_type": "display_data"
    },
    {
     "name": "stdout",
     "output_type": "stream",
     "text": [
      "\n",
      "Decomposing first pass: 0.1578049659729004\n",
      "Attempting to use MeshAfterParty Skeletonization and Mesh Correspondence\n",
      "Divinding into MP and MAP pieces: 0.0009496212005615234\n",
      "Total time for MAP sublimb processing 0.0004322528839111328\n",
      "---- Working on MP Decomposition #0 ----\n",
      "Using Quicker soma_to_piece_touching_vertices because no MAP and only one sublimb_mesh piece \n",
      "MP filtering soma verts: 0.0013401508331298828\n",
      "Fixing Possible Soma Extension Branch for Sublimb 0\n",
      "Total time for mesh KDTree = 0.0320127010345459\n",
      "sbv[0].reshape(-1,3) = [[400510.8 692276.6 654658.6]]\n",
      "closest_sk_pt_coord BEFORE = [399402.92317352 691578.28956197 654323.96564105]\n",
      "current_skeleton.shape = (90, 2, 3)\n",
      "Current stitch point was not a branch or endpoint, shortest_path_length to one = 1999.4697543080454\n",
      "change_status for create soma extending pieces = False\n",
      "closest_sk_pt_coord AFTER = [399402.92317352 691578.28956197 654323.96564105]\n",
      "Adding new branch to skeleton\n",
      "border_average_coordinate = [398414.29333333 693696.66888889 654573.39166667]\n",
      "endpoints_must_keep = {0: array([[398414.29333333, 693696.66888889, 654573.39166667]])}\n",
      "MP (because soma touching verts) create_soma_extending_branches: 0.09382486343383789\n",
      "orig_vertex = [399402.92317352 691578.28956197 654323.96564105]\n",
      "match_sk_branches = [0]\n"
     ]
    },
    {
     "data": {
      "application/vnd.jupyter.widget-view+json": {
       "model_id": "6d979b801e4a47019358b975777d49f9",
       "version_major": 2,
       "version_minor": 0
      },
      "text/plain": [
       "HBox(children=(FloatProgress(value=1.0, bar_style='info', max=1.0), HTML(value='')))"
      ]
     },
     "metadata": {},
     "output_type": "display_data"
    },
    {
     "name": "stderr",
     "output_type": "stream",
     "text": [
      "/meshAfterParty/trimesh_utils.py:318: VisibleDeprecationWarning: Creating an ndarray from ragged nested sequences (which is a list-or-tuple of lists-or-tuples-or ndarrays with different lengths or shapes) is deprecated. If you meant to do this, you must specify 'dtype=object' when creating the ndarray\n",
      "  ordered_comp_indices = np.array([k.astype(\"int\") for k in ordered_components])\n"
     ]
    },
    {
     "name": "stdout",
     "output_type": "stream",
     "text": [
      "\n",
      "\n",
      "\n",
      "--- Working on 1-to-1 correspondence-----\n",
      "max(original_labels),len(original_labels) = (2, 3)\n",
      "empty_indices % = 0.5888615888615889\n",
      " conflict_indices % = 0.030303030303030304\n"
     ]
    },
    {
     "data": {
      "application/vnd.jupyter.widget-view+json": {
       "model_id": "b387618275384ec59f9f8aa02997df9f",
       "version_major": 2,
       "version_minor": 0
      },
      "text/plain": [
       "HBox(children=(FloatProgress(value=0.0, max=3.0), HTML(value='')))"
      ]
     },
     "metadata": {},
     "output_type": "display_data"
    },
    {
     "name": "stdout",
     "output_type": "stream",
     "text": [
      "\n",
      "AFTER face_lookup_resolved_test\n",
      "Took 0 iterations to expand the label back\n"
     ]
    },
    {
     "data": {
      "application/vnd.jupyter.widget-view+json": {
       "model_id": "aaa0c97764bd4e3fb729d00871d54df0",
       "version_major": 2,
       "version_minor": 0
      },
      "text/plain": [
       "HBox(children=(FloatProgress(value=0.0, max=3.0), HTML(value='')))"
      ]
     },
     "metadata": {},
     "output_type": "display_data"
    },
    {
     "name": "stdout",
     "output_type": "stream",
     "text": [
      "\n"
     ]
    },
    {
     "name": "stderr",
     "output_type": "stream",
     "text": [
      "/usr/local/lib/python3.6/dist-packages/numpy/core/fromnumeric.py:3373: RuntimeWarning: Mean of empty slice.\n",
      "  out=out, **kwargs)\n",
      "/usr/local/lib/python3.6/dist-packages/numpy/core/_methods.py:170: RuntimeWarning: invalid value encountered in double_scalars\n",
      "  ret = ret.dtype.type(ret / rcount)\n",
      "<string>:6: VisibleDeprecationWarning: Creating an ndarray from ragged nested sequences (which is a list-or-tuple of lists-or-tuples-or ndarrays with different lengths or shapes) is deprecated. If you meant to do this, you must specify 'dtype=object' when creating the ndarray\n"
     ]
    },
    {
     "ename": "ValueError",
     "evalue": "all the input arrays must have same number of dimensions, but the array at index 0 has 4 dimension(s) and the array at index 1 has 1 dimension(s)",
     "output_type": "error",
     "traceback": [
      "\u001b[0;31m---------------------------------------------------------------------------\u001b[0m",
      "\u001b[0;31mValueError\u001b[0m                                Traceback (most recent call last)",
      "\u001b[0;32m<ipython-input-203-7e83cdb509dd>\u001b[0m in \u001b[0;36m<module>\u001b[0;34m\u001b[0m\n\u001b[1;32m    488\u001b[0m                 \u001b[0msegment_branches_old\u001b[0m \u001b[0;34m=\u001b[0m \u001b[0mcopy\u001b[0m\u001b[0;34m.\u001b[0m\u001b[0mdeepcopy\u001b[0m\u001b[0;34m(\u001b[0m\u001b[0msegment_branches\u001b[0m\u001b[0;34m)\u001b[0m\u001b[0;34m\u001b[0m\u001b[0;34m\u001b[0m\u001b[0m\n\u001b[1;32m    489\u001b[0m                 \u001b[0msegment_branches\u001b[0m \u001b[0;34m=\u001b[0m \u001b[0mnp\u001b[0m\u001b[0;34m.\u001b[0m\u001b[0mdelete\u001b[0m\u001b[0;34m(\u001b[0m\u001b[0msegment_branches\u001b[0m\u001b[0;34m,\u001b[0m\u001b[0mmatch_sk_branches\u001b[0m\u001b[0;34m,\u001b[0m\u001b[0maxis\u001b[0m\u001b[0;34m=\u001b[0m\u001b[0;36m0\u001b[0m\u001b[0;34m)\u001b[0m\u001b[0;34m\u001b[0m\u001b[0;34m\u001b[0m\u001b[0m\n\u001b[0;32m--> 490\u001b[0;31m                 \u001b[0msegment_branches\u001b[0m \u001b[0;34m=\u001b[0m \u001b[0mnp\u001b[0m\u001b[0;34m.\u001b[0m\u001b[0mappend\u001b[0m\u001b[0;34m(\u001b[0m\u001b[0msegment_branches\u001b[0m\u001b[0;34m,\u001b[0m\u001b[0mnew_skeletal_branches\u001b[0m\u001b[0;34m,\u001b[0m\u001b[0maxis\u001b[0m\u001b[0;34m=\u001b[0m\u001b[0;36m0\u001b[0m\u001b[0;34m)\u001b[0m\u001b[0;34m\u001b[0m\u001b[0;34m\u001b[0m\u001b[0m\n\u001b[0m\u001b[1;32m    491\u001b[0m \u001b[0;34m\u001b[0m\u001b[0m\n\u001b[1;32m    492\u001b[0m                 \u001b[0mdivided_submeshes\u001b[0m \u001b[0;34m=\u001b[0m \u001b[0mnp\u001b[0m\u001b[0;34m.\u001b[0m\u001b[0mdelete\u001b[0m\u001b[0;34m(\u001b[0m\u001b[0mdivided_submeshes\u001b[0m\u001b[0;34m,\u001b[0m\u001b[0mmatch_sk_branches\u001b[0m\u001b[0;34m,\u001b[0m\u001b[0maxis\u001b[0m\u001b[0;34m=\u001b[0m\u001b[0;36m0\u001b[0m\u001b[0;34m)\u001b[0m\u001b[0;34m\u001b[0m\u001b[0;34m\u001b[0m\u001b[0m\n",
      "\u001b[0;32m<__array_function__ internals>\u001b[0m in \u001b[0;36mappend\u001b[0;34m(*args, **kwargs)\u001b[0m\n",
      "\u001b[0;32m/usr/local/lib/python3.6/dist-packages/numpy/lib/function_base.py\u001b[0m in \u001b[0;36mappend\u001b[0;34m(arr, values, axis)\u001b[0m\n\u001b[1;32m   4669\u001b[0m         \u001b[0mvalues\u001b[0m \u001b[0;34m=\u001b[0m \u001b[0mravel\u001b[0m\u001b[0;34m(\u001b[0m\u001b[0mvalues\u001b[0m\u001b[0;34m)\u001b[0m\u001b[0;34m\u001b[0m\u001b[0;34m\u001b[0m\u001b[0m\n\u001b[1;32m   4670\u001b[0m         \u001b[0maxis\u001b[0m \u001b[0;34m=\u001b[0m \u001b[0marr\u001b[0m\u001b[0;34m.\u001b[0m\u001b[0mndim\u001b[0m\u001b[0;34m-\u001b[0m\u001b[0;36m1\u001b[0m\u001b[0;34m\u001b[0m\u001b[0;34m\u001b[0m\u001b[0m\n\u001b[0;32m-> 4671\u001b[0;31m     \u001b[0;32mreturn\u001b[0m \u001b[0mconcatenate\u001b[0m\u001b[0;34m(\u001b[0m\u001b[0;34m(\u001b[0m\u001b[0marr\u001b[0m\u001b[0;34m,\u001b[0m \u001b[0mvalues\u001b[0m\u001b[0;34m)\u001b[0m\u001b[0;34m,\u001b[0m \u001b[0maxis\u001b[0m\u001b[0;34m=\u001b[0m\u001b[0maxis\u001b[0m\u001b[0;34m)\u001b[0m\u001b[0;34m\u001b[0m\u001b[0;34m\u001b[0m\u001b[0m\n\u001b[0m\u001b[1;32m   4672\u001b[0m \u001b[0;34m\u001b[0m\u001b[0m\n\u001b[1;32m   4673\u001b[0m \u001b[0;34m\u001b[0m\u001b[0m\n",
      "\u001b[0;32m<__array_function__ internals>\u001b[0m in \u001b[0;36mconcatenate\u001b[0;34m(*args, **kwargs)\u001b[0m\n",
      "\u001b[0;31mValueError\u001b[0m: all the input arrays must have same number of dimensions, but the array at index 0 has 4 dimension(s) and the array at index 1 has 1 dimension(s)"
     ]
    }
   ],
   "source": [
    "from preprocessing_vp2 import *\n",
    "\n",
    "curr_limb_time = time.time()\n",
    "    \n",
    "limb_mesh_mparty = mesh\n",
    "\n",
    "\n",
    "#will store a list of all the endpoints tha tmust be kept:\n",
    "limb_to_endpoints_must_keep_list = []\n",
    "limb_to_soma_touching_vertices_list = []\n",
    "\n",
    "# --------------- Part 1 and 2: Getting Border Vertices and Setting the Root------------- #\n",
    "fusion_time = time.time()\n",
    "#will eventually get the current root from soma_to_piece_touching_vertices[i]\n",
    "if not soma_touching_vertices_dict is None:\n",
    "    root_curr = soma_touching_vertices_dict[list(soma_touching_vertices_dict.keys())[0]][0][0]\n",
    "else:\n",
    "    root_curr = None\n",
    "\n",
    "if print_fusion_steps:\n",
    "    print(f\"Time for preparing soma vertices and root: {time.time() - fusion_time }\")\n",
    "    fusion_time = time.time()\n",
    "\n",
    "# --------------- Part 3: Meshparty skeletonization and Decomposition ------------- #\n",
    "sk_meshparty_obj = m_sk.skeletonize_mesh_largest_component(limb_mesh_mparty,\n",
    "                                                        root=root_curr,\n",
    "                                                          filter_mesh=False)\n",
    "\n",
    "if print_fusion_steps:\n",
    "    print(f\"Time for 1st pass MP skeletonization: {time.time() - fusion_time }\")\n",
    "    fusion_time = time.time()\n",
    "\n",
    "(segment_branches, #skeleton branches\n",
    "divided_submeshes, divided_submeshes_idx, #mesh correspondence (mesh and indices)\n",
    "segment_widths_median) = m_sk.skeleton_obj_to_branches(sk_meshparty_obj,\n",
    "                                                      mesh = limb_mesh_mparty,\n",
    "                                                      meshparty_segment_size=meshparty_segment_size)\n",
    "\n",
    "\n",
    "if print_fusion_steps:\n",
    "    print(f\"Decomposing first pass: {time.time() - fusion_time }\")\n",
    "    fusion_time = time.time()\n",
    "\n",
    "\n",
    "if use_meshafterparty:\n",
    "    print(\"Attempting to use MeshAfterParty Skeletonization and Mesh Correspondence\")\n",
    "    # --------------- Part 4: Find Individual Branches that could be MAP processed because of width ------------- #\n",
    "    #gettin the branches that should be passed through MAP skeletonization\n",
    "    pieces_above_threshold = np.where(segment_widths_median>width_threshold_MAP)[0]\n",
    "\n",
    "    #getting the correspondnece info for those MAP qualifying\n",
    "    width_large = segment_widths_median[pieces_above_threshold]\n",
    "    sk_large = [segment_branches[k] for k in pieces_above_threshold]\n",
    "    mesh_large_idx = [divided_submeshes_idx[k] for k in pieces_above_threshold]\n",
    "else:\n",
    "    print(\"Only Using MeshParty Skeletonization and Mesh Correspondence\")\n",
    "    mesh_large_idx = []\n",
    "    width_large = []\n",
    "    sk_large = []\n",
    "\n",
    "\n",
    "\n",
    "mesh_pieces_for_MAP = []\n",
    "mesh_pieces_for_MAP_face_idx = []\n",
    "\n",
    "\n",
    "if len(mesh_large_idx) > 0: #will only continue processing if found MAP candidates\n",
    "\n",
    "    # --------------- Part 5: Find mesh connectivity and group MAP branch candidates into MAP sublimbs ------------- #\n",
    "    print(f\"Found len(mesh_large_idx) MAP candidates: {[len(k) for k in mesh_large_idx]}\")\n",
    "\n",
    "    #finds the connectivity edges of all the MAP candidates\n",
    "    mesh_large_connectivity = tu.mesh_list_connectivity(meshes = mesh_large_idx,\n",
    "                            main_mesh = limb_mesh_mparty,\n",
    "                            print_flag = False)\n",
    "    if print_fusion_steps:\n",
    "        print(f\"mesh_large_connectivity: {time.time() - fusion_time }\")\n",
    "        fusion_time = time.time()\n",
    "    \"\"\"\n",
    "    --------------- Grouping MAP candidates ----------------\n",
    "    Purpose: Will see what mesh pieces should be grouped together\n",
    "    to pass through CGAL skeletonization\n",
    "\n",
    "\n",
    "    Pseudocode: \n",
    "    1) build a networkx graph with all nodes for mesh_large_idx indexes\n",
    "    2) Add the edges\n",
    "    3) Find the connected components\n",
    "    4) Find sizes of connected components\n",
    "    5) For all those connected components that are of a large enough size, \n",
    "    add the mesh branches and skeletons to the final list\n",
    "\n",
    "\n",
    "    \"\"\"\n",
    "    G = nx.Graph()\n",
    "    G.add_nodes_from(np.arange(len(mesh_large_idx)))\n",
    "    G.add_edges_from(mesh_large_connectivity)\n",
    "    conn_comp = list(nx.connected_components(G))\n",
    "\n",
    "    filtered_pieces = []\n",
    "\n",
    "    sk_large_size_filt = []\n",
    "    mesh_large_idx_size_filt = []\n",
    "    width_large_size_filt = []\n",
    "\n",
    "    for cc in conn_comp:\n",
    "        total_cc_size = np.sum([len(mesh_large_idx[k]) for k in cc])\n",
    "        if total_cc_size>size_threshold_MAP:\n",
    "            #print(f\"cc ({cc}) passed the size threshold because size was {total_cc_size}\")\n",
    "            filtered_pieces.append(pieces_above_threshold[list(cc)])\n",
    "\n",
    "    if print_fusion_steps:\n",
    "        print(f\"Finding MAP candidates connected components: {time.time() - fusion_time }\")\n",
    "        fusion_time = time.time()\n",
    "\n",
    "    #filtered_pieces: will have the indexes of all the branch candidates that should  be \n",
    "    #grouped together and passed through MAP skeletonization\n",
    "\n",
    "    if len(filtered_pieces) > 0:\n",
    "        # --------------- Part 6: If Found MAP sublimbs, Get the meshes and mesh_idxs of the sublimbs ------------- #\n",
    "        print(f\"len(filtered_pieces) = {len(filtered_pieces)}\")\n",
    "        #all the pieces that will require MAP mesh correspondence and skeletonization\n",
    "        #(already organized into their components)\n",
    "        mesh_pieces_for_MAP = [limb_mesh_mparty.submesh([np.concatenate(divided_submeshes_idx[k])],append=True,repair=False) for k in filtered_pieces]\n",
    "        mesh_pieces_for_MAP_face_idx = [np.concatenate(divided_submeshes_idx[k]) for k in filtered_pieces]\n",
    "\n",
    "\n",
    "\n",
    "        \"\"\"\n",
    "        Old Way: Finding connectivity of pieces through\n",
    "        mesh_idx_MP = [divided_submeshes_idx[k] for k in pieces_idx_MP]\n",
    "\n",
    "        mesh_large_connectivity_MP = tu.mesh_list_connectivity(meshes = mesh_idx_MP,\n",
    "                                main_mesh = limb_mesh_mparty,\n",
    "                                print_flag = False)\n",
    "\n",
    "        New Way: going to use skeleton connectivity to determine\n",
    "        connectivity of pieces\n",
    "\n",
    "        Pseudocode: \n",
    "        1)\n",
    "\n",
    "        \"\"\"\n",
    "        # --------------- Part 7: If Found MAP sublimbs, Get the meshes and mesh_idxs of the sublimbs ------------- #\n",
    "        # ********* if there are no pieces leftover then will automatically make all the lists below just empty (don't need to if.. else.. the case)****\n",
    "        pieces_idx_MP = np.setdiff1d(np.arange(len(divided_submeshes_idx)),np.concatenate(filtered_pieces))\n",
    "\n",
    "        skeleton_MP = [segment_branches[k] for k in pieces_idx_MP]\n",
    "        skeleton_connectivity_MP = sk.skeleton_list_connectivity(\n",
    "                                        skeletons=skeleton_MP\n",
    "                                        )\n",
    "        if print_fusion_steps:\n",
    "            print(f\"skeleton_connectivity_MP : {time.time() - fusion_time }\")\n",
    "            fusion_time = time.time()\n",
    "\n",
    "        G = nx.Graph()\n",
    "        G.add_nodes_from(np.arange(len(skeleton_MP)))\n",
    "        G.add_edges_from(skeleton_connectivity_MP)\n",
    "        sublimbs_MP = list(nx.connected_components(G))\n",
    "        sublimbs_MP_orig_idx = [pieces_idx_MP[list(k)] for k in sublimbs_MP]\n",
    "\n",
    "\n",
    "        #concatenate into sublimbs the skeletons and meshes\n",
    "        sublimb_mesh_idx_branches_MP = [divided_submeshes_idx[k] for k in sublimbs_MP_orig_idx]\n",
    "        sublimb_mesh_branches_MP = [[limb_mesh_mparty.submesh([ki],append=True,repair=False)\n",
    "                                    for ki in k] for k in sublimb_mesh_idx_branches_MP]\n",
    "        sublimb_meshes_MP = [limb_mesh_mparty.submesh([np.concatenate(k)],append=True,repair=False)\n",
    "                                                     for k in sublimb_mesh_idx_branches_MP]\n",
    "        sublimb_meshes_MP_face_idx = [np.concatenate(k)\n",
    "                                                     for k in sublimb_mesh_idx_branches_MP]\n",
    "        sublimb_skeleton_branches = [segment_branches[k] for k in sublimbs_MP_orig_idx]\n",
    "        widths_MP = [segment_widths_median[k] for k in sublimbs_MP_orig_idx]\n",
    "\n",
    "        if print_fusion_steps:\n",
    "            print(f\"Grouping MP Sublimbs by Graph: {time.time() - fusion_time }\")\n",
    "            fusion_time = time.time()\n",
    "\n",
    "\n",
    "# else: #if no pieces were determine to need MAP processing\n",
    "#     print(\"No MAP processing needed: just returning the Meshparty skeletonization and mesh correspondence\")\n",
    "#     raise Exception(\"Returning MP correspondence\")\n",
    "\n",
    "\n",
    "# nviz.plot_objects(main_mesh=tu.combine_meshes([limb_mesh_mparty,current_neuron[\"S0\"].mesh]),\n",
    "#                   main_mesh_color=\"green\",\n",
    "#     skeletons=sk_large_size_filt,\n",
    "#      meshes=[limb_mesh_mparty.submesh([k],append=True) for k in mesh_large_idx_size_filt],\n",
    "#       meshes_colors=\"red\")\n",
    "\n",
    "\n",
    "\n",
    "\n",
    "\n",
    "\n",
    "\n",
    "\n",
    "# --------------- Part 8: If No MAP sublimbs found, set the MP sublimb lists to just the whole MP branch decomposition ------------- #\n",
    "\n",
    "#if no sublimbs need to be decomposed with MAP then just reassign all of the previous MP processing to the sublimb_MPs\n",
    "if len(mesh_pieces_for_MAP) == 0:\n",
    "    sublimb_meshes_MP = [limb_mesh_mparty] #trimesh pieces that have already been passed through MP skeletonization (may not need)\n",
    "    # -- the decomposition information ---\n",
    "    sublimb_mesh_branches_MP = [divided_submeshes] #the mesh branches for all the disconnected sublimbs\n",
    "    sublimb_mesh_idx_branches_MP = [divided_submeshes_idx] #The mesh branches idx that have already passed through MP skeletonization\n",
    "    sublimb_skeleton_branches = [segment_branches]#the skeleton bnraches for all the sublimbs\n",
    "    widths_MP = [segment_widths_median] #the mesh branches widths for all the disconnected groups\n",
    "\n",
    "    MAP_flag = False\n",
    "else:\n",
    "    MAP_flag = True\n",
    "\n",
    "\n",
    "\n",
    "mesh_pieces_for_MAP #trimesh pieces that should go through CGAL skeletonization\n",
    "sublimb_meshes_MP #trimesh pieces that have already been passed through MP skeletonization (may not need)\n",
    "\n",
    "# -- the decomposition information ---\n",
    "sublimb_mesh_branches_MP #the mesh branches for all the disconnected sublimbs\n",
    "sublimb_mesh_idx_branches_MP #The mesh branches idx that have already passed through MP skeletonization\n",
    "sublimb_skeleton_branches #the skeleton bnraches for all the sublimbs\n",
    "widths_MP #the mesh branches widths for all the disconnected groups\n",
    "\n",
    "if print_fusion_steps:\n",
    "    print(f\"Divinding into MP and MAP pieces: {time.time() - fusion_time }\")\n",
    "    fusion_time = time.time()\n",
    "\n",
    "\n",
    "\n",
    "# ------------------- At this point have the correct division between MAP and MP ------------------------\n",
    "\n",
    "# -------------- Part 9: Doing the MAP decomposition ------------------ #\n",
    "global_start_time = time.time()\n",
    "endpoints_must_keep = dict()\n",
    "\n",
    "\n",
    "\n",
    "limb_correspondence_MAP = dict()\n",
    "\n",
    "for sublimb_idx,(mesh,mesh_idx) in enumerate(zip(mesh_pieces_for_MAP,mesh_pieces_for_MAP_face_idx)):\n",
    "    print(f\"--- Working on MAP piece {sublimb_idx}---\")\n",
    "    mesh_start_time = time.time()\n",
    "    curr_soma_to_piece_touching_vertices = filter_soma_touching_vertices_dict_by_mesh(\n",
    "    mesh = mesh,\n",
    "    curr_piece_to_soma_touching_vertices = soma_touching_vertices_dict\n",
    "    )\n",
    "\n",
    "    if print_fusion_steps:\n",
    "        print(f\"MAP Filtering Soma Pieces: {time.time() - fusion_time }\")\n",
    "        fusion_time = time.time()\n",
    "\n",
    "    # ---- 0) Generating the Clean skeletons  -------------------------------------------#\n",
    "    if not curr_soma_to_piece_touching_vertices is None:\n",
    "        curr_total_border_vertices = dict([(k,np.vstack(v)) for k,v in curr_soma_to_piece_touching_vertices.items()])\n",
    "    else:\n",
    "        curr_total_border_vertices = None\n",
    "\n",
    "    cleaned_branch,curr_limb_endpoints_must_keep = sk.skeletonize_and_clean_connected_branch_CGAL(\n",
    "        mesh=mesh,\n",
    "        curr_soma_to_piece_touching_vertices=curr_soma_to_piece_touching_vertices,\n",
    "        total_border_vertices=curr_total_border_vertices,\n",
    "        filter_end_node_length=filter_end_node_length,\n",
    "        perform_cleaning_checks=perform_cleaning_checks,\n",
    "        combine_close_skeleton_nodes = combine_close_skeleton_nodes,\n",
    "        combine_close_skeleton_nodes_threshold=combine_close_skeleton_nodes_threshold,\n",
    "    use_surface_after_CGAL=use_surface_after_CGAL,\n",
    "    surface_reconstruction_size=surface_reconstruction_size)\n",
    "\n",
    "    if not curr_limb_endpoints_must_keep is None:\n",
    "        limb_to_endpoints_must_keep_list.append(curr_limb_endpoints_must_keep)\n",
    "        limb_to_soma_touching_vertices_list.append(curr_soma_to_piece_touching_vertices)\n",
    "    else:\n",
    "        print(\"Inside MAP decomposition and curr_limb_endpoints_must_keep was None\")\n",
    "\n",
    "    if len(cleaned_branch) == 0:\n",
    "        raise Exception(f\"Found a zero length skeleton for limb {z} of trmesh {branch}\")\n",
    "\n",
    "    if print_fusion_steps:\n",
    "        print(f\"skeletonize_and_clean_connected_branch_CGAL: {time.time() - fusion_time }\")\n",
    "        fusion_time = time.time()\n",
    "\n",
    "    # ---- 1) Generating Initial Mesh Correspondence -------------------------------------------#\n",
    "    start_time = time.time()\n",
    "\n",
    "    print(f\"Working on limb correspondence for #{sublimb_idx} MAP piece\")\n",
    "    local_correspondence = mesh_correspondence_first_pass(mesh=mesh,\n",
    "                                                         skeleton=cleaned_branch,\n",
    "                                                         distance_by_mesh_center=distance_by_mesh_center)\n",
    "\n",
    "\n",
    "    print(f\"Total time for decomposition = {time.time() - start_time}\")\n",
    "    if print_fusion_steps:\n",
    "        print(f\"mesh_correspondence_first_pass: {time.time() - fusion_time }\")\n",
    "        fusion_time = time.time()\n",
    "\n",
    "\n",
    "    #------------- 2) Doing Some checks on the initial corespondence -------- #\n",
    "\n",
    "\n",
    "    if perform_cleaning_checks:\n",
    "        check_skeletonization_and_decomp(skeleton=cleaned_branch,\n",
    "                                        local_correspondence=local_correspondence)\n",
    "\n",
    "    # -------3) Finishing off the face correspondence so get 1-to-1 correspondence of mesh face to skeletal piece\n",
    "    local_correspondence_revised = correspondence_1_to_1(mesh=mesh,\n",
    "                                    local_correspondence=local_correspondence,\n",
    "                                    curr_limb_endpoints_must_keep=curr_limb_endpoints_must_keep,\n",
    "                                    curr_soma_to_piece_touching_vertices=curr_soma_to_piece_touching_vertices)\n",
    "\n",
    "    # -------3b) Fixing the mesh indices to correspond to the larger mesh as a whole\n",
    "    for k,v in local_correspondence_revised.items():\n",
    "        local_correspondence_revised[k][\"branch_face_idx\"] = mesh_idx[local_correspondence_revised[k][\"branch_face_idx\"]]\n",
    "\n",
    "    print(f\"Total time for MAP sublimb #{sublimb_idx} mesh processing = {time.time() - mesh_start_time}\")\n",
    "\n",
    "    if print_fusion_steps:\n",
    "        print(f\"correspondence_1_to_1: {time.time() - fusion_time }\")\n",
    "        fusion_time = time.time()\n",
    "\n",
    "    limb_correspondence_MAP[sublimb_idx] = local_correspondence_revised\n",
    "\n",
    "print(f\"Total time for MAP sublimb processing {time.time() - global_start_time}\")\n",
    "\n",
    "\n",
    "\n",
    "\n",
    "\n",
    "# ----------------- Part 10: Doing the MP Decomposition ---------------------- #\n",
    "\n",
    "\n",
    "\n",
    "\n",
    "sublimb_meshes_MP #trimesh pieces that have already been passed through MP skeletonization (may not need)\n",
    "# -- the decomposition information ---\n",
    "sublimb_mesh_branches_MP #the mesh branches for all the disconnected sublimbs\n",
    "sublimb_mesh_idx_branches_MP #The mesh branches idx that have already passed through MP skeletonization\n",
    "sublimb_skeleton_branches #the skeleton bnraches for all the sublimbs\n",
    "widths_MP #the mesh branches widths for all the disconnected groups\n",
    "\n",
    "limb_correspondence_MP = dict()\n",
    "\n",
    "for sublimb_idx,mesh in enumerate(sublimb_meshes_MP):\n",
    "    print(f\"---- Working on MP Decomposition #{sublimb_idx} ----\")\n",
    "    mesh_start_time = time.time()\n",
    "\n",
    "    if len(sublimb_meshes_MP) == 1 and MAP_flag == False:\n",
    "        print(\"Using Quicker soma_to_piece_touching_vertices because no MAP and only one sublimb_mesh piece \")\n",
    "        curr_soma_to_piece_touching_vertices = soma_touching_vertices_dict\n",
    "    else:\n",
    "        if not soma_touching_vertices_dict is None:\n",
    "            curr_soma_to_piece_touching_vertices = filter_soma_touching_vertices_dict_by_mesh(\n",
    "                                                mesh = mesh,\n",
    "                                                curr_piece_to_soma_touching_vertices = soma_touching_vertices_dict\n",
    "                                                )\n",
    "        else:\n",
    "            curr_soma_to_piece_touching_vertices = None\n",
    "\n",
    "    if print_fusion_steps:\n",
    "        print(f\"MP filtering soma verts: {time.time() - fusion_time }\")\n",
    "        fusion_time = time.time()\n",
    "\n",
    "    #creating all of the sublimb groups\n",
    "    segment_branches = sublimb_skeleton_branches[sublimb_idx]\n",
    "    whole_sk_MP = sk.stack_skeletons(segment_branches)\n",
    "    branch = mesh\n",
    "    divided_submeshes = sublimb_mesh_branches_MP[sublimb_idx]\n",
    "    divided_submeshes_idx = sublimb_mesh_idx_branches_MP[sublimb_idx]\n",
    "    segment_widths_median = widths_MP[sublimb_idx]\n",
    "\n",
    "    if curr_soma_to_piece_touching_vertices is None:\n",
    "        print(f\"Do Not Need to Fix MP Decomposition {sublimb_idx} so just continuing\")\n",
    "\n",
    "    else:\n",
    "        print(f\"Fixing Possible Soma Extension Branch for Sublimb {sublimb_idx}\")\n",
    "\n",
    "        #If there is some soma touching then need to see if have to fix soma extending pieces\n",
    "        return_info = sk.create_soma_extending_branches(current_skeleton=whole_sk_MP,\n",
    "                                  skeleton_mesh=branch,\n",
    "                                  soma_to_piece_touching_vertices=curr_soma_to_piece_touching_vertices,\n",
    "                                  return_endpoints_must_keep=True,\n",
    "                                     return_created_branch_info=True)\n",
    "        new_sk,endpts,new_branch_info = return_info\n",
    "\n",
    "        if print_fusion_steps:\n",
    "            print(f\"MP (because soma touching verts) create_soma_extending_branches: {time.time() - fusion_time }\")\n",
    "            fusion_time = time.time()\n",
    "\n",
    "        no_soma_extension_add = True\n",
    "\n",
    "        if not endpts is None:\n",
    "            limb_to_endpoints_must_keep_list.append(endpts)\n",
    "            limb_to_soma_touching_vertices_list.append(curr_soma_to_piece_touching_vertices)\n",
    "\n",
    "        for sm_idx in new_branch_info.keys():        \n",
    "            for b_vert_idx,br_info in enumerate(new_branch_info[sm_idx]):\n",
    "                if br_info is None:\n",
    "                    continue\n",
    "                no_soma_extension_add=False\n",
    "\n",
    "\n",
    "                #1) Get the newly added branch (and the original vertex which is the first row)\n",
    "                br_new,sm_bord_verts = br_info[\"new_branch\"],br_info[\"border_verts\"] #this will hold the new branch and the border vertices corresponding to it\n",
    "\n",
    "                curr_soma_to_piece_touching_vertices_MP = {sm_idx:[sm_bord_verts]}\n",
    "                endpoints_must_keep_MP = {sm_idx:[br_new[0][1]]}\n",
    "\n",
    "\n",
    "                orig_vertex = br_new[0][0]\n",
    "                print(f\"orig_vertex = {orig_vertex}\")\n",
    "\n",
    "                #2) Find the branches that have that coordinate (could be multiple)\n",
    "                match_sk_branches = sk.find_branch_skeleton_with_specific_coordinate(segment_branches,\n",
    "                    current_coordinate=orig_vertex)\n",
    "\n",
    "                print(f\"match_sk_branches = {match_sk_branches}\")\n",
    "\n",
    "\n",
    "\n",
    "                \"\"\" ******************* THIS NEEDS TO BE FIXED WITH THE SAME METHOD OF STITCHING ********************  \"\"\"\n",
    "                \"\"\"\n",
    "                Pseudocode:\n",
    "                1) Find if branch point will require split or not\n",
    "                2) If does require split then split the skeleton\n",
    "                3) Gather mesh pieces for correspondence and the skeletons\n",
    "                4) Run the mesh correspondence\n",
    "                - this case calculate the new widths after run \n",
    "                5) Replace the old branch parts with the new ones\n",
    "\n",
    "\n",
    "\n",
    "                \"\"\"\n",
    "\n",
    "                stitch_point_on_end_or_branch = find_if_stitch_point_on_end_or_branch(\n",
    "                                                        matched_branches_skeletons= segment_branches[match_sk_branches],\n",
    "                                                         stitch_coordinate=orig_vertex,\n",
    "                                                          verbose=False)\n",
    "\n",
    "\n",
    "                if not stitch_point_on_end_or_branch:\n",
    "                    matching_branch_sk = sk.cut_skeleton_at_coordinate(skeleton=segment_branches[match_sk_branches][0],\n",
    "                                                                      cut_coordinate = orig_vertex)\n",
    "                else:\n",
    "                    matching_branch_sk = segment_branches[match_sk_branches]\n",
    "\n",
    "\n",
    "                #3) Find the mesh and skeleton of the winning branch\n",
    "                matching_branch_meshes = np.array(divided_submeshes)[match_sk_branches]\n",
    "                matching_branch_mesh_idx = np.array(divided_submeshes_idx)[match_sk_branches]\n",
    "                extend_soma_mesh_idx = np.concatenate(matching_branch_mesh_idx)\n",
    "                extend_soma_mesh = limb_mesh_mparty.submesh([extend_soma_mesh_idx ],append=True,repair=False)\n",
    "\n",
    "                #4) Add newly created branch to skeleton and divide the skeleton into branches (could make 2 or 3)\n",
    "                #extended_skeleton_to_soma = sk.stack_skeletons([list(matching_branch_sk),br_new])\n",
    "\n",
    "                sk.check_skeleton_connected_component(sk.stack_skeletons(list(matching_branch_sk) + [br_new]))\n",
    "\n",
    "                #5) Run Adaptive mesh correspondnece using branches and mesh\n",
    "                local_correspondnece_MP = mesh_correspondence_first_pass(mesh=extend_soma_mesh,\n",
    "                                                                         skeleton_branches = list(matching_branch_sk) + [br_new]\n",
    "                                              #skeleton=extended_skeleton_to_soma\n",
    "                                                                        )\n",
    "\n",
    "                local_correspondence_revised = correspondence_1_to_1(mesh=extend_soma_mesh,\n",
    "                                                            local_correspondence=local_correspondnece_MP,\n",
    "                                                            curr_limb_endpoints_must_keep=endpoints_must_keep_MP,\n",
    "                                                            curr_soma_to_piece_touching_vertices=curr_soma_to_piece_touching_vertices_MP)\n",
    "\n",
    "                # All the things that should be revised:\n",
    "            #     segment_branches, #skeleton branches\n",
    "            #     divided_submeshes, divided_submeshes_idx, #mesh correspondence (mesh and indices)\n",
    "            #     segment_widths_median\n",
    "\n",
    "\n",
    "                new_submeshes = [k[\"branch_mesh\"] for k in local_correspondence_revised.values()]\n",
    "                new_submeshes_idx = [extend_soma_mesh_idx[k[\"branch_face_idx\"]] for k in local_correspondence_revised.values()]\n",
    "                new_skeletal_branches = [k[\"branch_skeleton\"] for k in local_correspondence_revised.values()]\n",
    "\n",
    "                #calculate the new width\n",
    "                ray_inter = tu.ray_pyembree.RayMeshIntersector(limb_mesh_mparty)\n",
    "                new_widths = []\n",
    "                for new_s_idx in new_submeshes_idx:\n",
    "                    curr_ray_distance = tu.ray_trace_distance(mesh=limb_mesh_mparty, \n",
    "                                        face_inds=new_s_idx,\n",
    "                                       ray_inter=ray_inter)\n",
    "                    new_widths.append(np.median(curr_ray_distance[curr_ray_distance!=0]))\n",
    "\n",
    "\n",
    "                #6) Remove the original branch and mesh correspondence and replace with the multiples\n",
    "                segment_branches_old = copy.deepcopy(segment_branches)\n",
    "                segment_branches = np.delete(segment_branches,match_sk_branches,axis=0)\n",
    "                segment_branches = np.append(segment_branches,new_skeletal_branches,axis=0)\n",
    "\n",
    "                divided_submeshes = np.delete(divided_submeshes,match_sk_branches,axis=0)\n",
    "                divided_submeshes = np.append(divided_submeshes,new_submeshes,axis=0)\n",
    "\n",
    "                divided_submeshes_idx = np.delete(divided_submeshes_idx,match_sk_branches,axis=0)\n",
    "                divided_submeshes_idx = np.append(divided_submeshes_idx,new_submeshes_idx,axis=0)\n",
    "\n",
    "                segment_widths_median = np.delete(segment_widths_median,match_sk_branches)\n",
    "                segment_widths_median = np.append(segment_widths_median,new_widths,axis=0)\n",
    "\n",
    "                sk.check_skeleton_connected_component(sk.stack_skeletons(segment_branches))\n",
    "                print(\"checked segment branches after soma add on\")\n",
    "                return_find = sk.find_branch_skeleton_with_specific_coordinate(segment_branches,\n",
    "                                             orig_vertex)\n",
    "\n",
    "\n",
    "\n",
    "                \"\"\" ******************* END OF HOW CAN DO STITCHING ********************  \"\"\"\n",
    "\n",
    "\n",
    "\n",
    "\n",
    "        if no_soma_extension_add:\n",
    "            print(\"No soma extending branch was added for this sublimb even though it had a soma border (means they already existed)\")\n",
    "\n",
    "        if print_fusion_steps:\n",
    "            print(f\"MP (because soma touching verts) soma extension add: {time.time() - fusion_time }\")\n",
    "            fusion_time = time.time()\n",
    "\n",
    "    #building the limb correspondence\n",
    "    limb_correspondence_MP[sublimb_idx] = dict()\n",
    "\n",
    "    for zz,b_sk in enumerate(segment_branches):\n",
    "        limb_correspondence_MP[sublimb_idx][zz] = dict(\n",
    "            branch_skeleton = b_sk,\n",
    "            width_from_skeleton = segment_widths_median[zz],\n",
    "            branch_mesh = divided_submeshes[zz],\n",
    "            branch_face_idx = divided_submeshes_idx[zz]\n",
    "            )\n",
    "\n",
    "\n",
    "\n",
    "\n",
    "\n",
    "# ------------------------------------- Part C: Will make sure the correspondences can all be stitched together --------------- #\n",
    "\n",
    "# Only want to perform this step if both MP and MAP pieces\n",
    "if len(limb_correspondence_MAP)>0 and len(limb_correspondence_MP)>0:\n",
    "\n",
    "    # -------------- Part 11: Getting Sublimb Mesh and Skeletons and Gets connectivitiy by Mesh -------#\n",
    "    # -------------(filtering connections to only MP to MAP edges)--------------- #\n",
    "\n",
    "    # ---- Doing the mesh connectivity ---------#\n",
    "    sublimb_meshes_MP = []\n",
    "    sublimb_skeletons_MP = []\n",
    "\n",
    "    for sublimb_key,sublimb_v in limb_correspondence_MP.items():\n",
    "        sublimb_meshes_MP.append(tu.combine_meshes([branch_v[\"branch_mesh\"] for branch_v in sublimb_v.values()]))\n",
    "        sublimb_skeletons_MP.append(sk.stack_skeletons([branch_v[\"branch_skeleton\"] for branch_v in sublimb_v.values()]))\n",
    "\n",
    "    sublimb_meshes_MAP = []\n",
    "    sublimb_skeletons_MAP = []\n",
    "\n",
    "    for sublimb_key,sublimb_v in limb_correspondence_MAP.items():\n",
    "        sublimb_meshes_MAP.append(tu.combine_meshes([branch_v[\"branch_mesh\"] for branch_v in sublimb_v.values()]))\n",
    "        sublimb_skeletons_MAP.append(sk.stack_skeletons([branch_v[\"branch_skeleton\"] for branch_v in sublimb_v.values()]))\n",
    "\n",
    "\n",
    "\n",
    "    mesh_conn,mesh_conn_vertex_groups = tu.mesh_list_connectivity(meshes = sublimb_meshes_MP + sublimb_meshes_MAP,\n",
    "                                        main_mesh = limb_mesh_mparty,\n",
    "                                        min_common_vertices=1,\n",
    "                                        return_vertex_connection_groups=True,\n",
    "                                        return_largest_vertex_connection_group=True,\n",
    "                                        print_flag = False)\n",
    "    mesh_conn_old = copy.deepcopy(mesh_conn)\n",
    "\n",
    "\n",
    "\n",
    "    #check that every MAP piece mapped to a MP piece\n",
    "    mesh_conn_filt = []\n",
    "    mesh_conn_vertex_groups_filt = []\n",
    "    for j,(m1,m2) in enumerate(mesh_conn):\n",
    "        if m1 < len(sublimb_meshes_MP) and m2 >=len(sublimb_meshes_MP):\n",
    "            mesh_conn_filt.append([m1,m2])\n",
    "            mesh_conn_vertex_groups_filt.append(mesh_conn_vertex_groups[j])\n",
    "    mesh_conn_filt = np.array(mesh_conn_filt)\n",
    "\n",
    "    mesh_conn = mesh_conn_filt\n",
    "    mesh_conn_vertex_groups = mesh_conn_vertex_groups_filt\n",
    "\n",
    "    #check that the mapping should create only one connected component\n",
    "    G = nx.from_edgelist(mesh_conn)\n",
    "\n",
    "\n",
    "\n",
    "    try:\n",
    "        if len(G) != len(sublimb_meshes_MP) + len(sublimb_meshes_MAP):\n",
    "            raise Exception(\"Number of nodes in mesh connectivity graph is not equal to number of  MAP and MP sublimbs\")\n",
    "\n",
    "        connect_comp = list(nx.connected_components(G))\n",
    "        if len(connect_comp)>1:\n",
    "            raise Exception(f\"Mesh connectivity was not one component, instead it was ({len(connect_comp)}): {connect_comp} \")\n",
    "    except:\n",
    "        print(f\"mesh_conn_filt = {mesh_conn_filt}\")\n",
    "        print(f\"mesh_conn_old = {mesh_conn_old}\")\n",
    "        mesh_conn_adjusted = np.vstack([mesh_conn[:,0],mesh_conn[:,1]-len(sublimb_meshes_MP)]).T\n",
    "        print(f\"mesh_conn_adjusted = {mesh_conn_adjusted}\")\n",
    "        print(f\"len(sublimb_meshes_MP) = {len(sublimb_meshes_MP)}\")\n",
    "        print(f\"len(sublimb_meshes_MAP) = {len(sublimb_meshes_MAP)}\")\n",
    "        meshes = sublimb_meshes_MP + sublimb_meshes_MAP\n",
    "        #su.compressed_pickle(meshes,\"meshes\")\n",
    "        su.compressed_pickle(sublimb_meshes_MP,\"sublimb_meshes_MP\")\n",
    "        su.compressed_pickle(sublimb_meshes_MAP,\"sublimb_meshes_MAP\")\n",
    "        su.compressed_pickle(limb_mesh_mparty,\"limb_mesh_mparty\")\n",
    "        su.compressed_pickle(sublimb_skeletons_MP,\"sublimb_skeletons_MP\")\n",
    "        su.compressed_pickle(sublimb_skeletons_MAP,\"sublimb_skeletons_MAP\")\n",
    "\n",
    "\n",
    "        raise Exception(\"Something went wrong in the connectivity\")\n",
    "\n",
    "\n",
    "    #adjust the connection indices for MP and MAP indices\n",
    "    mesh_conn_adjusted = np.vstack([mesh_conn[:,0],mesh_conn[:,1]-len(sublimb_meshes_MP)]).T\n",
    "\n",
    "\n",
    "\n",
    "\n",
    "\n",
    "\n",
    "    \"\"\"\n",
    "    Pseudocode:\n",
    "    For each connection edge:\n",
    "        For each vertex connection group:\n",
    "            1) Get the endpoint vertices of the MP skeleton\n",
    "            2) Find the closest endpoint vertex to the vertex connection group (this is MP stitch point)\n",
    "            3) Find the closest skeletal point on MAP pairing (MAP stitch) \n",
    "            4) Find the branches that have that MAP stitch point:\n",
    "            5A) If the number of branches corresponding to stitch point is multipled\n",
    "                --> then we are stitching at a branching oint\n",
    "                i) Just add the skeletal segment from MP_stitch to MAP stitch to the MP skeletal segment\n",
    "                ii) \n",
    "\n",
    "    \"\"\"\n",
    "\n",
    "    # -------------- STITCHING PHASE -------#\n",
    "    for (MP_idx,MAP_idx),v_g in zip(mesh_conn_adjusted,mesh_conn_vertex_groups):\n",
    "        print(f\"\\n---- Working on {(MP_idx,MAP_idx)} connection-----\")\n",
    "\n",
    "        \"\"\"\n",
    "        This old way of getting the endpoints was not good because could possibly just need\n",
    "        a stitching done between original branch junction\n",
    "\n",
    "        skeleton_MP_graph = sk.convert_skeleton_to_graph(curr_skeleton_MP)\n",
    "        endpoint_nodes = xu.get_nodes_of_degree_k(skeleton_MP_graph,1)\n",
    "        endpoint_nodes_coordinates = xu.get_node_attributes(skeleton_MP_graph,node_list=endpoint_nodes)\n",
    "        \"\"\"\n",
    "\n",
    "\n",
    "        # -------------- Part 12: Find the MP and MAP stitching point and branches that contain the stitching point-------#\n",
    "\n",
    "\n",
    "        #getting the skeletons that should be stitched\n",
    "        curr_skeleton_MP = sk.stack_skeletons([branch_v[\"branch_skeleton\"] for branch_v in limb_correspondence_MP[MP_idx].values()])\n",
    "        curr_skeleton_MAP = sk.stack_skeletons([branch_v[\"branch_skeleton\"] for branch_v in limb_correspondence_MAP[MAP_idx].values()])\n",
    "\n",
    "        #1) Get the endpoint vertices of the MP skeleton branches (so every endpoint or high degree node)\n",
    "        #(needs to be inside loop because limb correspondence will change)\n",
    "        curr_MP_branch_skeletons = [limb_correspondence_MP[MP_idx][k][\"branch_skeleton\"] for k in np.sort(list(limb_correspondence_MP[MP_idx].keys()))]\n",
    "        endpoint_nodes_coordinates = np.array([sk.find_branch_endpoints(k) for k in curr_MP_branch_skeletons])\n",
    "        endpoint_nodes_coordinates = np.unique(endpoint_nodes_coordinates.reshape(-1,3),axis=0)\n",
    "\n",
    "        #2) Find the closest endpoint vertex to the vertex connection group (this is MP stitch point)\n",
    "        av_vert = np.mean(v_g,axis=0)\n",
    "        winning_vertex = endpoint_nodes_coordinates[np.argmin(np.linalg.norm(endpoint_nodes_coordinates-av_vert,axis=1))]\n",
    "        print(f\"winning_vertex = {winning_vertex}\")\n",
    "\n",
    "\n",
    "        #2b) Find the branch points where the winning vertex is located\n",
    "        MP_branches_with_stitch_point = sk.find_branch_skeleton_with_specific_coordinate(\n",
    "            divded_skeleton=curr_MP_branch_skeletons,\n",
    "            current_coordinate = winning_vertex\n",
    "        )\n",
    "        print(f\"MP_branches_with_stitch_point = {MP_branches_with_stitch_point}\")\n",
    "\n",
    "\n",
    "        #3) Find the closest skeletal point on MAP pairing (MAP stitch)\n",
    "        MAP_skeleton_coords = np.unique(curr_skeleton_MAP.reshape(-1,3),axis=0)\n",
    "        MAP_stitch_point = MAP_skeleton_coords[np.argmin(np.linalg.norm(MAP_skeleton_coords-winning_vertex,axis=1))]\n",
    "\n",
    "\n",
    "        #3b) Consider if the stitch point is close enough to end or branch node in skeleton:\n",
    "        # and if so then reassign\n",
    "        if move_MAP_stitch_to_end_or_branch:\n",
    "            MAP_stitch_point_new,change_status = sk.move_point_to_nearest_branch_end_point_within_threshold(\n",
    "                                                    skeleton=curr_skeleton_MAP,\n",
    "                                                    coordinate=MAP_stitch_point,\n",
    "                                                    distance_to_move_point_threshold = distance_to_move_point_threshold,\n",
    "                                                    verbose=True\n",
    "\n",
    "                                                    )\n",
    "            MAP_stitch_point=MAP_stitch_point_new\n",
    "\n",
    "\n",
    "        #4) Find the branches that have that MAP stitch point:\n",
    "        curr_MAP_branch_skeletons = [limb_correspondence_MAP[MAP_idx][k][\"branch_skeleton\"]\n",
    "                                             for k in np.sort(list(limb_correspondence_MAP[MAP_idx].keys()))]\n",
    "\n",
    "        MAP_branches_with_stitch_point = sk.find_branch_skeleton_with_specific_coordinate(\n",
    "            divded_skeleton=curr_MAP_branch_skeletons,\n",
    "            current_coordinate = MAP_stitch_point\n",
    "        )\n",
    "\n",
    "\n",
    "\n",
    "        MAP_stitch_point_on_end_or_branch = False\n",
    "        if len(MAP_branches_with_stitch_point)>1:\n",
    "            MAP_stitch_point_on_end_or_branch = True\n",
    "        elif len(MAP_branches_with_stitch_point)==1:\n",
    "            if len(nu.matching_rows(sk.find_branch_endpoints(curr_MAP_branch_skeletons[MAP_branches_with_stitch_point[0]]),\n",
    "                                    MAP_stitch_point))>0:\n",
    "                MAP_stitch_point_on_end_or_branch=True\n",
    "        else:\n",
    "            raise Exception(\"No matching MAP values\")\n",
    "\n",
    "\n",
    "        print(f\"MAP_branches_with_stitch_point = {MAP_branches_with_stitch_point}\")\n",
    "        print(f\"MAP_stitch_point_on_end_or_branch = {MAP_stitch_point_on_end_or_branch}\")\n",
    "\n",
    "\n",
    "\n",
    "\n",
    "\n",
    "\n",
    "\n",
    "\n",
    "        # ------------------------- This part does the stitching -------------------- #\n",
    "\n",
    "\n",
    "        \"\"\"\n",
    "        Pseudocode:\n",
    "        1) For all MP branches\n",
    "            a) Get neighbor coordinates to MP stitch points\n",
    "            b) Delete the MP Stitch points on each \n",
    "            c) Add skeleton segment from neighbor to MAP stitch point\n",
    "        2) Get skeletons and meshes from MP and MAP pieces\n",
    "        3) Run mesh correspondence to get new meshes and mesh_idx and widths\n",
    "        4a) If MAP_stitch_point_on_end_or_branch is False\n",
    "        - Delete the old MAP branch parts and replace with new MAP ones\n",
    "        4b) Revise the meshes,  mesh_idx, and widths of the MAP pieces\n",
    "        5) Revise the meshes,  mesh_idx, and widths of the MP pieces\n",
    "\n",
    "\n",
    "        \"\"\"\n",
    "\n",
    "        # -------------- Part 13: Will Adjust the MP branches that have the stitch point so extends to the MAP stitch point -------#\n",
    "        curr_MP_sk = []\n",
    "        for b_idx in MP_branches_with_stitch_point:\n",
    "            c_sk = curr_MP_branch_skeletons[b_idx]\n",
    "            print(f\"\\n\\nWorking on branch {b_idx} with shape {c_sk.shape}\")\n",
    "            #a) Get neighbor coordinates to MP stitch points\n",
    "            MP_stitch_branch_graph = sk.convert_skeleton_to_graph(curr_MP_branch_skeletons[c_sk])\n",
    "            stitch_node = xu.get_nodes_with_attributes_dict(MP_stitch_branch_graph,dict(coordinates=winning_vertex))[0]\n",
    "            stitch_neighbors = xu.get_neighbors(MP_stitch_branch_graph,stitch_node)\n",
    "\n",
    "            print(f\"stitch_node = {stitch_node}\")\n",
    "            print(f\"stitch_neighbors = {stitch_neighbors}\")\n",
    "            \n",
    "            if len(stitch_neighbors) != 1:\n",
    "                raise Exception(\"Not just one neighbor for stitch point of MP branch\")\n",
    "            keep_neighbor = stitch_neighbors[0]  \n",
    "            keep_neighbor_coordinates = xu.get_node_attributes(MP_stitch_branch_graph,node_list=[keep_neighbor])[0]\n",
    "            print(f\"keep_neighbor = {keep_neighbor}, with coordinate = {keep_neighbor_coordinates}\")\n",
    "            \n",
    "            #b) Delete the MP Stitch points on each \n",
    "            MP_stitch_branch_graph.remove_node(stitch_node)\n",
    "\n",
    "            \"\"\" Old way that does not do smoothing\n",
    "\n",
    "            #c) Add skeleton segment from neighbor to MAP stitch point\n",
    "            new_node_name = np.max(MP_stitch_branch_graph.nodes())+1\n",
    "\n",
    "            MP_stitch_branch_graph.add_nodes_from([(int(new_node_name),{\"coordinates\":MAP_stitch_point})])\n",
    "            MP_stitch_branch_graph.add_weighted_edges_from([(keep_neighbor,new_node_name,np.linalg.norm(MAP_stitch_point - keep_neighbor_coordinates))])\n",
    "\n",
    "            new_MP_skeleton = sk.convert_graph_to_skeleton(MP_stitch_branch_graph)\n",
    "\n",
    "            \"\"\"\n",
    "            try:\n",
    "                if len(MP_stitch_branch_graph)>1:\n",
    "                    new_MP_skeleton = sk.add_and_smooth_segment_to_branch(skeleton=sk.convert_graph_to_skeleton(MP_stitch_branch_graph),\n",
    "                                                    skeleton_stitch_point=keep_neighbor_coordinates,\n",
    "                                                     new_stitch_point=MAP_stitch_point)\n",
    "                else:\n",
    "                    print(\"Not even attempting smoothing segment because once keep_neighbor_coordinates\")\n",
    "                    new_MP_skeleton = np.vstack([keep_neighbor_coordinates,MAP_stitch_point]).reshape(-1,2,3)\n",
    "            except:\n",
    "                su.compressed_pickle(MP_stitch_branch_graph,\"MP_stitch_branch_graph\")\n",
    "                su.compressed_pickle(keep_neighbor_coordinates,\"keep_neighbor_coordinates\")\n",
    "                su.compressed_pickle(MAP_stitch_point,\"MAP_stitch_point\")\n",
    "\n",
    "\n",
    "                Exception(\"Something went wrong with add_and_smooth_segment_to_branch\")\n",
    "\n",
    "\n",
    "\n",
    "\n",
    "\n",
    "            #smooth over the new skeleton\n",
    "            new_MP_skeleton_smooth = sk.resize_skeleton_branch(new_MP_skeleton,\n",
    "                                                              segment_width=meshparty_segment_size)\n",
    "\n",
    "            curr_MP_sk.append(new_MP_skeleton_smooth)\n",
    "\n",
    "\n",
    "\n",
    "        #2) Get skeletons and meshes from MP and MAP pieces\n",
    "        curr_MAP_sk = [limb_correspondence_MAP[MAP_idx][k][\"branch_skeleton\"] for k in MAP_branches_with_stitch_point]\n",
    "\n",
    "        #2.1) Going to break up the MAP skeleton if need be\n",
    "        \"\"\"\n",
    "        Pseudocode:\n",
    "        a) check to see if it needs to be broken up\n",
    "        If it does:\n",
    "        b) Convert the skeleton into a graph\n",
    "        c) Find the node of the MAP stitch point (where need to do the breaking)\n",
    "        d) Find the degree one nodes\n",
    "        e) For each degree one node:\n",
    "        - Find shortest path from stitch node to end node\n",
    "        - get a subgraph from that path\n",
    "        - convert graph to a skeleton and save as new skeletons\n",
    "\n",
    "        \"\"\"\n",
    "        # -------------- Part 14: Breaks Up MAP skeleton into 2 pieces if Needs (because MAP stitch point not on endpoint or branch point)  -------#\n",
    "\n",
    "        #a) check to see if it needs to be broken up\n",
    "        if not MAP_stitch_point_on_end_or_branch:\n",
    "            if len(curr_MAP_sk) > 1:\n",
    "                raise Exception(f\"There was more than one skeleton for MAP skeletons even though MAP_stitch_point_on_end_or_branch = {MAP_stitch_point_on_end_or_branch}\")\n",
    "\n",
    "\n",
    "            skeleton_to_cut = curr_MAP_sk[0]\n",
    "            curr_MAP_sk = sk.cut_skeleton_at_coordinate(skeleton=skeleton_to_cut,\n",
    "                                                        cut_coordinate=MAP_stitch_point)\n",
    "\n",
    "\n",
    "        # -------------- Part 15: Gets all of the skeletons and Mesh to divide u and does mesh correspondence -------#\n",
    "        # ------------- revise IDX so still references the whole limb mesh -----------#\n",
    "        curr_MAP_meshes_idx = [limb_correspondence_MAP[MAP_idx][k][\"branch_face_idx\"] for k in MAP_branches_with_stitch_point]\n",
    "\n",
    "        curr_MP_sk\n",
    "        curr_MP_meshes_idx = [limb_correspondence_MP[MP_idx][k][\"branch_face_idx\"] for k in MP_branches_with_stitch_point]\n",
    "\n",
    "        stitching_mesh_idx = np.concatenate(curr_MAP_meshes_idx + curr_MP_meshes_idx)\n",
    "        stitching_mesh = limb_mesh_mparty.submesh([stitching_mesh_idx],append=True,repair=False)\n",
    "        stitching_skeleton_branches = curr_MAP_sk + curr_MP_sk\n",
    "        \"\"\"\n",
    "\n",
    "        ****** NEED TO GET THE RIGHT MESH TO RUN HE IDX ON SO GETS A GOOD MESH (CAN'T BE LIMB_MESH_MPARTY)\n",
    "        BUT MUST BE THE ORIGINAL MAP MESH\n",
    "\n",
    "        mesh_pieces_for_MAP\n",
    "        sublimb_meshes_MP\n",
    "\n",
    "        mesh_pieces_for_MAP_face_idx\n",
    "        sublimb_meshes_MP_face_idx\n",
    "\n",
    "        stitching_mesh = tu.combine_meshes(curr_MAP_meshes + curr_MP_meshes)\n",
    "        stitching_skeleton_branches = curr_MAP_sk + curr_MP_sk\n",
    "\n",
    "        \"\"\"\n",
    "\n",
    "        #3) Run mesh correspondence to get new meshes and mesh_idx and widths\n",
    "        local_correspondnece_stitch = mesh_correspondence_first_pass(mesh=stitching_mesh,\n",
    "                                      skeleton_branches=stitching_skeleton_branches)\n",
    "\n",
    "        try:\n",
    "\n",
    "            local_correspondence_stitch_revised = correspondence_1_to_1(mesh=stitching_mesh,\n",
    "                                                        local_correspondence=local_correspondnece_stitch,\n",
    "                                                        curr_limb_endpoints_must_keep=None,\n",
    "                                                        curr_soma_to_piece_touching_vertices=None)\n",
    "        except:\n",
    "            su.compressed_pickle(stitching_skeleton_branches,\"stitching_skeleton_branches\")\n",
    "            su.compressed_pickle(stitching_mesh,\"stitching_mesh\")\n",
    "            su.compressed_pickle(local_correspondnece_stitch,\"local_correspondnece_stitch\")\n",
    "            raise Exception(\"Something went wrong with 1 to 1 correspondence\")\n",
    "\n",
    "\n",
    "        #Need to readjust the mesh correspondence idx\n",
    "        for k,v in local_correspondence_stitch_revised.items():\n",
    "            local_correspondence_stitch_revised[k][\"branch_face_idx\"] = stitching_mesh_idx[local_correspondence_stitch_revised[k][\"branch_face_idx\"]]\n",
    "\n",
    "\n",
    "\n",
    "\n",
    "        # -------------- Part 16: Overwrite old branch entries (and add on one new to MAP if required a split) -------#\n",
    "\n",
    "\n",
    "        #4a) If MAP_stitch_point_on_end_or_branch is False\n",
    "        #- Delete the old MAP branch parts and replace with new MAP ones\n",
    "        if not MAP_stitch_point_on_end_or_branch:\n",
    "            print(\"Deleting branches from dictionary\")\n",
    "            del limb_correspondence_MAP[MAP_idx][MAP_branches_with_stitch_point[0]]\n",
    "            #adding the two new branches created from the stitching\n",
    "            limb_correspondence_MAP[MAP_idx][MAP_branches_with_stitch_point[0]] = local_correspondence_stitch_revised[0]\n",
    "            limb_correspondence_MAP[MAP_idx][np.max(list(limb_correspondence_MAP[MAP_idx].keys()))+1] = local_correspondence_stitch_revised[1]\n",
    "\n",
    "            #have to reorder the keys\n",
    "            #limb_correspondence_MAP[MAP_idx] = dict([(k,limb_correspondence_MAP[MAP_idx][k]) for k in np.sort(list(limb_correspondence_MAP[MAP_idx].keys()))])\n",
    "            limb_correspondence_MAP[MAP_idx] = gu.order_dict_by_keys(limb_correspondence_MAP[MAP_idx])\n",
    "\n",
    "        else: #4b) Revise the meshes,  mesh_idx, and widths of the MAP pieces if weren't broken up\n",
    "            for j,curr_MAP_idx_fixed in enumerate(MAP_branches_with_stitch_point):\n",
    "                limb_correspondence_MAP[MAP_idx][curr_MAP_idx_fixed] = local_correspondence_stitch_revised[j]\n",
    "\n",
    "        #5) Revise the meshes,  mesh_idx, and widths of the MP pieces\n",
    "        for j,curr_MP_idx_fixed in enumerate(MP_branches_with_stitch_point):\n",
    "            limb_correspondence_MP[MP_idx][curr_MP_idx_fixed] = local_correspondence_stitch_revised[j+len(curr_MAP_sk)]\n",
    "\n",
    "\n",
    "        print(f\" Finished with {(MP_idx,MAP_idx)} \\n\\n\\n\")\n",
    "\n",
    "\n",
    "else:\n",
    "    print(\"There were not both MAP and MP pieces so skipping the stitch resolving phase\")\n",
    "\n",
    "print(f\"Time for decomp of Limb = {time.time() - curr_limb_time}\")\n",
    "#     # ------------- Saving the MAP and MP Decompositions ---------------- #\n",
    "#     proper_limb_mesh_correspondence_MAP[curr_limb_idx] = limb_correspondence_MAP\n",
    "#     proper_limb_mesh_correspondence_MP[curr_limb_idx] = limb_correspondence_MP\n",
    "\n",
    "\n",
    "\n",
    "\n",
    "\n",
    "\n",
    "# -------------- Part 17: Grouping the MP and MAP Correspondence into one correspondence dictionary -------#\n",
    "limb_correspondence_individual = dict()\n",
    "counter = 0\n",
    "\n",
    "for sublimb_idx,sublimb_branches in limb_correspondence_MAP.items():\n",
    "    for branch_dict in sublimb_branches.values():\n",
    "        limb_correspondence_individual[counter]= branch_dict\n",
    "        counter += 1\n",
    "for sublimb_idx,sublimb_branches in limb_correspondence_MP.items():\n",
    "    for branch_dict in sublimb_branches.values():\n",
    "        limb_correspondence_individual[counter]= branch_dict\n",
    "        counter += 1\n",
    "\n",
    "\n",
    "#info that may be used for concept networks\n",
    "network_starting_info = dict(\n",
    "            touching_verts_list = limb_to_soma_touching_vertices_list,\n",
    "            endpoints_must_keep = limb_to_endpoints_must_keep_list\n",
    ")\n",
    "\n",
    "if not return_concept_network:\n",
    "    if return_concept_network_starting_info: #because may want to calculate the concept networks later\n",
    "        return_value = limb_correspondence_individual,network_starting_info\n",
    "    else:\n",
    "        return_value =limb_correspondence_individual\n",
    "else:\n",
    "        limb_to_soma_concept_networks = calculate_limb_concept_networks(limb_correspondence_individual,\n",
    "                                                                        run_concept_network_checks=run_concept_network_checks,\n",
    "                                                                       **network_starting_info)\n",
    "        \n",
    "                    \n",
    "return_value= limb_correspondence_individual,limb_to_soma_concept_networks\n",
    "\n"
   ]
  },
  {
   "cell_type": "code",
   "execution_count": 210,
   "metadata": {},
   "outputs": [
    {
     "data": {
      "text/plain": [
       "[]"
      ]
     },
     "execution_count": 210,
     "metadata": {},
     "output_type": "execute_result"
    }
   ],
   "source": [
    "[k for i,k in enumerate(segment_branches_old) if i not in match_sk_branches]"
   ]
  },
  {
   "cell_type": "code",
   "execution_count": 207,
   "metadata": {},
   "outputs": [
    {
     "data": {
      "text/plain": [
       "(70, 2, 3)"
      ]
     },
     "execution_count": 207,
     "metadata": {},
     "output_type": "execute_result"
    }
   ],
   "source": [
    "new_skeletal_branches[1].shape"
   ]
  },
  {
   "cell_type": "code",
   "execution_count": 191,
   "metadata": {},
   "outputs": [
    {
     "data": {
      "text/plain": [
       "array([[[[398532.32385261, 691761.46287233, 652707.8121781 ],\n",
       "         [398557.20347299, 691718.29131789, 652794.50592833]],\n",
       "\n",
       "        [[398532.32385261, 691761.46287233, 652707.8121781 ],\n",
       "         [398509.60636809, 691804.59972953, 652620.50556229]],\n",
       "\n",
       "        [[398557.20347299, 691718.29131789, 652794.50592833],\n",
       "         [398584.70465126, 691676.33287551, 652880.98805541]],\n",
       "\n",
       "        [[398584.70465126, 691676.33287551, 652880.98805541],\n",
       "         [398614.93896185, 691636.39898148, 652967.50636371]],\n",
       "\n",
       "        [[398614.93896185, 691636.39898148, 652967.50636371],\n",
       "         [398648.83376501, 691600.03934332, 653054.27686003]],\n",
       "\n",
       "        [[398648.83376501, 691600.03934332, 653054.27686003],\n",
       "         [398686.79002569, 691568.8779333 , 653141.32449219]],\n",
       "\n",
       "        [[398686.79002569, 691568.8779333 , 653141.32449219],\n",
       "         [398727.4359853 , 691541.72953423, 653228.45179813]],\n",
       "\n",
       "        [[398727.4359853 , 691541.72953423, 653228.45179813],\n",
       "         [398771.33952045, 691519.86663102, 653315.59818683]],\n",
       "\n",
       "        [[398771.33952045, 691519.86663102, 653315.59818683],\n",
       "         [398818.5231818 , 691504.96367244, 653402.43053655]],\n",
       "\n",
       "        [[398818.5231818 , 691504.96367244, 653402.43053655],\n",
       "         [398867.12328989, 691493.82188549, 653489.03338963]],\n",
       "\n",
       "        [[398867.12328989, 691493.82188549, 653489.03338963],\n",
       "         [398917.40934733, 691487.91924049, 653575.26836634]],\n",
       "\n",
       "        [[398917.40934733, 691487.91924049, 653575.26836634],\n",
       "         [398968.50656663, 691487.00966782, 653661.18365291]],\n",
       "\n",
       "        [[398968.50656663, 691487.00966782, 653661.18365291],\n",
       "         [399019.86467315, 691488.82239208, 653746.93938202]],\n",
       "\n",
       "        [[399019.86467315, 691488.82239208, 653746.93938202],\n",
       "         [399071.33984552, 691494.20574377, 653832.50413034]],\n",
       "\n",
       "        [[399071.33984552, 691494.20574377, 653832.50413034],\n",
       "         [399122.99491878, 691502.71036742, 653917.6911308 ]],\n",
       "\n",
       "        [[399122.99491878, 691502.71036742, 653917.6911308 ],\n",
       "         [399175.11374938, 691513.12273915, 654002.37900144]],\n",
       "\n",
       "        [[399175.11374938, 691513.12273915, 654002.37900144],\n",
       "         [399228.10223768, 691525.8095515 , 654086.23163945]],\n",
       "\n",
       "        [[399228.10223768, 691525.8095515 , 654086.23163945],\n",
       "         [399283.72190508, 691541.31618042, 654167.85994273]],\n",
       "\n",
       "        [[399283.72190508, 691541.31618042, 654167.85994273],\n",
       "         [399341.85589263, 691558.7601155 , 654247.25230968]],\n",
       "\n",
       "        [[399341.85589263, 691558.7601155 , 654247.25230968],\n",
       "         [399402.92317352, 691578.28956197, 654323.96564105]],\n",
       "\n",
       "        [[399402.92317352, 691578.28956197, 654323.96564105],\n",
       "         [399469.58061379, 691601.47251928, 654394.81291444]],\n",
       "\n",
       "        [[399469.58061379, 691601.47251928, 654394.81291444],\n",
       "         [399540.4285329 , 691627.77364262, 654460.10685874]],\n",
       "\n",
       "        [[399540.4285329 , 691627.77364262, 654460.10685874],\n",
       "         [399615.04951748, 691657.43972453, 654519.42586152]],\n",
       "\n",
       "        [[399615.04951748, 691657.43972453, 654519.42586152],\n",
       "         [399693.18664059, 691691.02531967, 654571.88747502]],\n",
       "\n",
       "        [[399693.18664059, 691691.02531967, 654571.88747502],\n",
       "         [399774.27228816, 691729.94172126, 654615.59824538]],\n",
       "\n",
       "        [[399774.27228816, 691729.94172126, 654615.59824538],\n",
       "         [399856.45585699, 691774.65407956, 654650.70250779]],\n",
       "\n",
       "        [[399856.45585699, 691774.65407956, 654650.70250779],\n",
       "         [399938.33829433, 691824.64347707, 654678.42281915]],\n",
       "\n",
       "        [[399938.33829433, 691824.64347707, 654678.42281915],\n",
       "         [400019.05754838, 691879.66600989, 654699.14130913]],\n",
       "\n",
       "        [[400019.05754838, 691879.66600989, 654699.14130913],\n",
       "         [400098.08117522, 691939.09882134, 654713.49103055]],\n",
       "\n",
       "        [[400098.08117522, 691939.09882134, 654713.49103055],\n",
       "         [400175.23477506, 692002.10446451, 654722.25680048]],\n",
       "\n",
       "        [[400175.23477506, 692002.10446451, 654722.25680048],\n",
       "         [400249.98867927, 692068.48607054, 654724.56681925]],\n",
       "\n",
       "        [[400249.98867927, 692068.48607054, 654724.56681925],\n",
       "         [400323.34330394, 692136.37720834, 654723.18529164]],\n",
       "\n",
       "        [[400323.34330394, 692136.37720834, 654723.18529164],\n",
       "         [400395.59108485, 692205.35851118, 654718.99029014]],\n",
       "\n",
       "        [[400395.59108485, 692205.35851118, 654718.99029014],\n",
       "         [400466.67800559, 692275.3416613 , 654711.98969016]],\n",
       "\n",
       "        [[400466.67800559, 692275.3416613 , 654711.98969016],\n",
       "         [400536.53063686, 692346.30968203, 654702.89896285]],\n",
       "\n",
       "        [[400536.53063686, 692346.30968203, 654702.89896285],\n",
       "         [400605.63197699, 692417.90354125, 654692.99872416]],\n",
       "\n",
       "        [[400605.63197699, 692417.90354125, 654692.99872416],\n",
       "         [400673.52569155, 692490.52733404, 654682.21780381]],\n",
       "\n",
       "        [[400673.52569155, 692490.52733404, 654682.21780381],\n",
       "         [400739.91073462, 692564.50600044, 654671.33276434]],\n",
       "\n",
       "        [[400739.91073462, 692564.50600044, 654671.33276434],\n",
       "         [400805.37821881, 692639.30354608, 654660.46693598]],\n",
       "\n",
       "        [[400801.05248633, 696642.43338117, 654542.93606905],\n",
       "         [400897.44029066, 696616.30235437, 654547.92178715]],\n",
       "\n",
       "        [[400801.05248633, 696642.43338117, 654542.93606905],\n",
       "         [400782.1497485 , 696647.06329772, 654542.10236883]],\n",
       "\n",
       "        [[400805.37821881, 692639.30354608, 654660.46693598],\n",
       "         [400868.48766727, 692716.1777649 , 654650.09620809]],\n",
       "\n",
       "        [[400868.48766727, 692716.1777649 , 654650.09620809],\n",
       "         [400930.08119035, 692794.29659537, 654640.10562043]],\n",
       "\n",
       "        [[400897.44029066, 696616.30235437, 654547.92178715],\n",
       "         [400992.0786593 , 696584.61628836, 654553.75896595]],\n",
       "\n",
       "        [[400930.08119035, 692794.29659537, 654640.10562043],\n",
       "         [400990.20329687, 692873.62349468, 654630.48401176]]],\n",
       "\n",
       "\n",
       "       [[[400990.20329687, 692873.62349468, 654630.48401176],\n",
       "         [401047.71762748, 692954.89902724, 654621.252293  ]],\n",
       "\n",
       "        [[400992.0786593 , 696584.61628836, 654553.75896595],\n",
       "         [401083.85870959, 696545.52154347, 654559.92110535]],\n",
       "\n",
       "        [[401047.71762748, 692954.89902724, 654621.252293  ],\n",
       "         [401104.25782618, 693036.85222893, 654612.01855602]],\n",
       "\n",
       "        [[401083.85870959, 696545.52154347, 654559.92110535],\n",
       "         [401171.54701233, 696497.9672311 , 654565.95861219]],\n",
       "\n",
       "        [[401104.25782618, 693036.85222893, 654612.01855602],\n",
       "         [401159.19576272, 693119.88629664, 654602.68224362]],\n",
       "\n",
       "        [[401159.19576272, 693119.88629664, 654602.68224362],\n",
       "         [401213.20244327, 693203.48019056, 654592.94518168]],\n",
       "\n",
       "        [[401171.54701233, 696497.9672311 , 654565.95861219],\n",
       "         [401253.89212791, 696441.59396574, 654571.63860648]],\n",
       "\n",
       "        [[401213.20244327, 693203.48019056, 654592.94518168],\n",
       "         [401266.83199902, 693287.29359122, 654582.98704258]],\n",
       "\n",
       "        [[401253.89212791, 696441.59396574, 654571.63860648],\n",
       "         [401330.2118614 , 696377.21039785, 654576.97683014]],\n",
       "\n",
       "        [[401266.83199902, 693287.29359122, 654582.98704258],\n",
       "         [401320.41298858, 693371.10064698, 654572.71791589]],\n",
       "\n",
       "        [[401320.41298858, 693371.10064698, 654572.71791589],\n",
       "         [401374.85703768, 693454.39947739, 654562.8905003 ]],\n",
       "\n",
       "        [[401330.2118614 , 696377.21039785, 654576.97683014],\n",
       "         [401400.28823728, 696306.06111302, 654582.18075269]],\n",
       "\n",
       "        [[401374.85703768, 693454.39947739, 654562.8905003 ],\n",
       "         [401430.35503552, 693537.08193735, 654553.89745748]],\n",
       "\n",
       "        [[401400.28823728, 696306.06111302, 654582.18075269],\n",
       "         [401465.42920039, 696230.39793057, 654587.50357167]],\n",
       "\n",
       "        [[401430.35503552, 693537.08193735, 654553.89745748],\n",
       "         [401487.70176528, 693618.68802412, 654546.70029207]],\n",
       "\n",
       "        [[401465.42920039, 696230.39793057, 654587.50357167],\n",
       "         [401527.04798961, 696151.8571656 , 654593.0660468 ]],\n",
       "\n",
       "        [[401487.70176528, 693618.68802412, 654546.70029207],\n",
       "         [401548.03128439, 693698.35964209, 654543.51559716]],\n",
       "\n",
       "        [[401527.04798961, 696151.8571656 , 654593.0660468 ],\n",
       "         [401586.30233375, 696071.52827242, 654598.92147841]],\n",
       "\n",
       "        [[401548.03128439, 693698.35964209, 654543.51559716],\n",
       "         [401610.72056737, 693776.19235704, 654544.37119815]],\n",
       "\n",
       "        [[401586.30233375, 696071.52827242, 654598.92147841],\n",
       "         [401644.01957905, 695990.10893111, 654605.14917263]],\n",
       "\n",
       "        [[401610.72056737, 693776.19235704, 654544.37119815],\n",
       "         [401675.55946582, 693852.06233134, 654549.72548732]],\n",
       "\n",
       "        [[401644.01957905, 695990.10893111, 654605.14917263],\n",
       "         [401700.6148421 , 695907.94616554, 654611.90252448]],\n",
       "\n",
       "        [[401675.55946582, 693852.06233134, 654549.72548732],\n",
       "         [401741.90764116, 693926.19752297, 654559.58536537]],\n",
       "\n",
       "        [[401700.6148421 , 695907.94616554, 654611.90252448],\n",
       "         [401756.12756486, 695825.11268145, 654619.38935849]],\n",
       "\n",
       "        [[401741.90764116, 693926.19752297, 654559.58536537],\n",
       "         [401808.60645191, 693999.40790321, 654573.37651371]],\n",
       "\n",
       "        [[401756.12756486, 695825.11268145, 654619.38935849],\n",
       "         [401810.24067585, 695741.44966397, 654627.8905775 ]],\n",
       "\n",
       "        [[401808.60645191, 693999.40790321, 654573.37651371],\n",
       "         [401873.84003403, 694073.30911106, 654590.20480061]],\n",
       "\n",
       "        [[401810.24067585, 695741.44966397, 654627.8905775 ],\n",
       "         [401861.557346  , 695656.21931961, 654637.98944925]],\n",
       "\n",
       "        [[401861.557346  , 695656.21931961, 654637.98944925],\n",
       "         [401909.62581029, 695569.299395  , 654649.34079156]],\n",
       "\n",
       "        [[401873.84003403, 694073.30911106, 654590.20480061],\n",
       "         [401934.54054568, 694150.481152  , 654609.15716768]],\n",
       "\n",
       "        [[401909.62581029, 695569.299395  , 654649.34079156],\n",
       "         [401953.73432642, 695480.46660118, 654661.67672489]],\n",
       "\n",
       "        [[401934.54054568, 694150.481152  , 654609.15716768],\n",
       "         [401987.95605787, 694232.54282221, 654629.23092317]],\n",
       "\n",
       "        [[401953.73432642, 695480.46660118, 654661.67672489],\n",
       "         [401993.19914584, 695389.55207092, 654674.6188823 ]],\n",
       "\n",
       "        [[401987.95605787, 694232.54282221, 654629.23092317],\n",
       "         [402031.40546893, 694320.14696341, 654649.55328002]],\n",
       "\n",
       "        [[401993.19914584, 695389.55207092, 654674.6188823 ],\n",
       "         [402026.92039329, 695296.3020131 , 654687.55349431]],\n",
       "\n",
       "        [[402026.92039329, 695296.3020131 , 654687.55349431],\n",
       "         [402053.31742165, 695200.55455022, 654699.04432286]],\n",
       "\n",
       "        [[402031.40546893, 694320.14696341, 654649.55328002],\n",
       "         [402063.65736658, 694412.60865178, 654668.92469414]],\n",
       "\n",
       "        [[402053.31742165, 695200.55455022, 654699.04432286],\n",
       "         [402074.0409747 , 695103.24218539, 654708.3120033 ]],\n",
       "\n",
       "        [[402063.65736658, 694412.60865178, 654668.92469414],\n",
       "         [402085.41691261, 694508.51010268, 654686.07846864]],\n",
       "\n",
       "        [[402074.0409747 , 695103.24218539, 654708.3120033 ],\n",
       "         [402089.41772626, 695004.72341588, 654714.71251662]],\n",
       "\n",
       "        [[402085.41691261, 694508.51010268, 654686.07846864],\n",
       "         [402098.47141157, 694606.52596393, 654700.05678786]],\n",
       "\n",
       "        [[402089.41772626, 695004.72341588, 654714.71251662],\n",
       "         [402099.7962825 , 694905.36013286, 654717.71651491]],\n",
       "\n",
       "        [[402098.47141157, 694606.52596393, 654700.05678786],\n",
       "         [402104.60565674, 694705.72627056, 654710.31397816]],\n",
       "\n",
       "        [[402099.7962825 , 694905.36013286, 654717.71651491],\n",
       "         [402105.16031804, 694805.510578  , 654716.57918586]],\n",
       "\n",
       "        [[402104.60565674, 694705.72627056, 654710.31397816],\n",
       "         [402105.16031804, 694805.510578  , 654716.57918586]]]])"
      ]
     },
     "execution_count": 191,
     "metadata": {},
     "output_type": "execute_result"
    }
   ],
   "source": []
  },
  {
   "cell_type": "code",
   "execution_count": 193,
   "metadata": {},
   "outputs": [
    {
     "data": {
      "text/plain": [
       "[0]"
      ]
     },
     "execution_count": 193,
     "metadata": {},
     "output_type": "execute_result"
    }
   ],
   "source": [
    "match_sk_branches"
   ]
  },
  {
   "cell_type": "code",
   "execution_count": 201,
   "metadata": {},
   "outputs": [
    {
     "data": {
      "text/plain": [
       "0"
      ]
     },
     "execution_count": 201,
     "metadata": {},
     "output_type": "execute_result"
    }
   ],
   "source": [
    "segment_branches_old.shape\n",
    "result = np.delete(segment_branches_old,0,axis=0)\n",
    "len(result)"
   ]
  },
  {
   "cell_type": "code",
   "execution_count": 177,
   "metadata": {},
   "outputs": [
    {
     "data": {
      "text/plain": [
       "False"
      ]
     },
     "execution_count": 177,
     "metadata": {},
     "output_type": "execute_result"
    }
   ],
   "source": [
    "stitch_point_on_end_or_branch"
   ]
  },
  {
   "cell_type": "code",
   "execution_count": null,
   "metadata": {},
   "outputs": [],
   "source": []
  },
  {
   "cell_type": "code",
   "execution_count": null,
   "metadata": {},
   "outputs": [],
   "source": []
  },
  {
   "cell_type": "code",
   "execution_count": null,
   "metadata": {},
   "outputs": [],
   "source": []
  },
  {
   "cell_type": "code",
   "execution_count": 154,
   "metadata": {},
   "outputs": [
    {
     "name": "stdout",
     "output_type": "stream",
     "text": [
      "\n",
      "\n",
      "Working on branch 0 with shape (20, 2, 3)\n",
      "stitch_node = 20\n",
      "stitch_neighbors = [19]\n",
      "keep_neighbor = 19, with coordinate = [398344.89985926 695922.85005431 653489.58544469]\n",
      "Only 2 skeleton nodes so cannot do smoothing\n",
      "\n",
      "\n",
      "Working on branch 1 with shape (33, 2, 3)\n",
      "stitch_node = 0\n",
      "stitch_neighbors = [1]\n",
      "keep_neighbor = 1, with coordinate = [398539.48096876 695945.47197422 653449.27157824]\n",
      "Only 2 skeleton nodes so cannot do smoothing\n",
      "\n",
      "\n",
      "Working on branch 2 with shape (1, 2, 3)\n",
      "stitch_node = 0\n",
      "stitch_neighbors = [1]\n",
      "keep_neighbor = 1, with coordinate = [398713.48305085 695803.2559322  654675.06101695]\n",
      "Not even attempting smoothing segment because once keep_neighbor_coordinates\n"
     ]
    }
   ],
   "source": [
    "curr_MP_sk_revised = []\n",
    "for b_idx in MP_branches_with_stitch_point:\n",
    "    c_sk = curr_MP_branch_skeletons[b_idx]\n",
    "    print(f\"\\n\\nWorking on branch {b_idx} with shape {c_sk.shape}\")\n",
    "    #a) Get neighbor coordinates to MP stitch points\n",
    "    MP_stitch_branch_graph = sk.convert_skeleton_to_graph(c_sk)\n",
    "    stitch_node = xu.get_nodes_with_attributes_dict(MP_stitch_branch_graph,dict(coordinates=winning_vertex))[0]\n",
    "    stitch_neighbors = xu.get_neighbors(MP_stitch_branch_graph,stitch_node)\n",
    "\n",
    "    print(f\"stitch_node = {stitch_node}\")\n",
    "    print(f\"stitch_neighbors = {stitch_neighbors}\")\n",
    "\n",
    "    if len(stitch_neighbors) != 1:\n",
    "        raise Exception(\"Not just one neighbor for stitch point of MP branch\")\n",
    "    keep_neighbor = stitch_neighbors[0]  \n",
    "    keep_neighbor_coordinates = xu.get_node_attributes(MP_stitch_branch_graph,node_list=[keep_neighbor])[0]\n",
    "    print(f\"keep_neighbor = {keep_neighbor}, with coordinate = {keep_neighbor_coordinates}\")\n",
    "\n",
    "    #b) Delete the MP Stitch points on each \n",
    "    MP_stitch_branch_graph.remove_node(stitch_node)\n",
    "\n",
    "    \"\"\" Old way that does not do smoothing\n",
    "\n",
    "    #c) Add skeleton segment from neighbor to MAP stitch point\n",
    "    new_node_name = np.max(MP_stitch_branch_graph.nodes())+1\n",
    "\n",
    "    MP_stitch_branch_graph.add_nodes_from([(int(new_node_name),{\"coordinates\":MAP_stitch_point})])\n",
    "    MP_stitch_branch_graph.add_weighted_edges_from([(keep_neighbor,new_node_name,np.linalg.norm(MAP_stitch_point - keep_neighbor_coordinates))])\n",
    "\n",
    "    new_MP_skeleton = sk.convert_graph_to_skeleton(MP_stitch_branch_graph)\n",
    "\n",
    "    \"\"\"\n",
    "    try:\n",
    "        if len(MP_stitch_branch_graph)>1:\n",
    "            new_MP_skeleton = sk.add_and_smooth_segment_to_branch(skeleton=sk.convert_graph_to_skeleton(MP_stitch_branch_graph),\n",
    "                                            skeleton_stitch_point=keep_neighbor_coordinates,\n",
    "                                             new_stitch_point=MAP_stitch_point)\n",
    "        else:\n",
    "            print(\"Not even attempting smoothing segment because once keep_neighbor_coordinates\")\n",
    "            new_MP_skeleton = np.vstack([keep_neighbor_coordinates,MAP_stitch_point]).reshape(-1,2,3)\n",
    "    except:\n",
    "        su.compressed_pickle(MP_stitch_branch_graph,\"MP_stitch_branch_graph\")\n",
    "        su.compressed_pickle(keep_neighbor_coordinates,\"keep_neighbor_coordinates\")\n",
    "        su.compressed_pickle(MAP_stitch_point,\"MAP_stitch_point\")\n",
    "\n",
    "\n",
    "        raise Exception(\"Something went wrong with add_and_smooth_segment_to_branch\")\n",
    "\n",
    "\n",
    "\n",
    "\n",
    "\n",
    "    #smooth over the new skeleton\n",
    "    new_MP_skeleton_smooth = sk.resize_skeleton_branch(new_MP_skeleton,\n",
    "                                                      segment_width=meshparty_segment_size)\n",
    "\n",
    "    curr_MP_sk_revised.append(new_MP_skeleton_smooth)\n"
   ]
  },
  {
   "cell_type": "code",
   "execution_count": 150,
   "metadata": {},
   "outputs": [
    {
     "data": {
      "text/plain": [
       "array([398713.48305085, 695803.2559322 , 654675.06101695])"
      ]
     },
     "execution_count": 150,
     "metadata": {},
     "output_type": "execute_result"
    }
   ],
   "source": [
    "keep_neighbor_coordinates"
   ]
  },
  {
   "cell_type": "code",
   "execution_count": 152,
   "metadata": {},
   "outputs": [
    {
     "data": {
      "text/plain": [
       "1"
      ]
     },
     "execution_count": 152,
     "metadata": {},
     "output_type": "execute_result"
    }
   ],
   "source": [
    "len(MP_stitch_branch_graph)"
   ]
  },
  {
   "cell_type": "code",
   "execution_count": 140,
   "metadata": {},
   "outputs": [
    {
     "data": {
      "text/plain": [
       "dict_keys([0, 1, 2, 3, 4, 5, 6, 7, 8, 9, 10, 11, 12, 13, 14, 15, 16, 17, 18, 19, 20, 21, 22, 23, 24, 25, 26, 27, 28, 29, 30, 31, 32, 33, 34, 35, 36, 37, 38, 39, 40, 41, 42, 43, 44, 45, 46, 47, 48, 49, 50, 51, 52, 53, 54, 55, 56, 57, 58, 59, 60, 61, 62, 63, 64, 65, 66, 67, 68, 69, 70, 71, 72, 73, 74, 75, 76, 77, 78, 79, 80, 81, 82, 83, 84, 85, 86, 87, 88, 89, 90, 91, 92, 93, 94, 95, 96, 97, 98, 99, 100, 101, 102, 103, 104, 105, 106, 107, 108, 109, 110, 111, 112, 113, 114, 115, 116, 117, 118, 119, 120, 121, 122, 123, 124, 125, 126, 127, 128, 129, 130, 131, 132, 133, 134, 135, 136, 137, 138, 139, 140, 141])"
      ]
     },
     "execution_count": 140,
     "metadata": {},
     "output_type": "execute_result"
    }
   ],
   "source": [
    "limb_correspondence_MP[0].keys()"
   ]
  },
  {
   "cell_type": "code",
   "execution_count": 135,
   "metadata": {},
   "outputs": [
    {
     "data": {
      "text/plain": [
       "3"
      ]
     },
     "execution_count": 135,
     "metadata": {},
     "output_type": "execute_result"
    }
   ],
   "source": [
    "len(curr_MP_branch_skeletons)"
   ]
  },
  {
   "cell_type": "code",
   "execution_count": 117,
   "metadata": {},
   "outputs": [
    {
     "name": "stderr",
     "output_type": "stream",
     "text": [
      "/usr/local/lib/python3.6/dist-packages/ipykernel_launcher.py:1: VisibleDeprecationWarning: Creating an ndarray from ragged nested sequences (which is a list-or-tuple of lists-or-tuples-or ndarrays with different lengths or shapes) is deprecated. If you meant to do this, you must specify 'dtype=object' when creating the ndarray\n",
      "  \"\"\"Entry point for launching an IPython kernel.\n"
     ]
    },
    {
     "data": {
      "text/plain": [
       "array([array([[[396519.05188109, 695707.96994235, 653962.01770004],\n",
       "        [396612.55109607, 695717.60281135, 653927.8893956 ]],\n",
       "\n",
       "       [[396612.55109607, 695717.60281135, 653927.8893956 ],\n",
       "        [396706.51194747, 695727.81889063, 653895.22735895]],\n",
       "\n",
       "       [[396706.51194747, 695727.81889063, 653895.22735895],\n",
       "        [396801.01032369, 695738.57358539, 653864.33410026]],\n",
       "\n",
       "       [[396801.01032369, 695738.57358539, 653864.33410026],\n",
       "        [396895.95537377, 695749.62466192, 653834.97013104]],\n",
       "\n",
       "       [[396895.95537377, 695749.62466192, 653834.97013104],\n",
       "        [396991.18955403, 695760.82662634, 653806.61124034]],\n",
       "\n",
       "       [[396991.18955403, 695760.82662634, 653806.61124034],\n",
       "        [397086.92360657, 695772.16962007, 653780.0344144 ]],\n",
       "\n",
       "       [[397086.92360657, 695772.16962007, 653780.0344144 ],\n",
       "        [397182.9226357 , 695783.49245995, 653754.44094627]],\n",
       "\n",
       "       [[397182.9226357 , 695783.49245995, 653754.44094627],\n",
       "        [397279.1653129 , 695794.79676821, 653729.75168339]],\n",
       "\n",
       "       [[397279.1653129 , 695794.79676821, 653729.75168339],\n",
       "        [397375.6967869 , 695806.02046537, 653706.1855262 ]],\n",
       "\n",
       "       [[397375.6967869 , 695806.02046537, 653706.1855262 ],\n",
       "        [397472.31086182, 695817.22432264, 653682.94426839]],\n",
       "\n",
       "       [[397472.31086182, 695817.22432264, 653682.94426839],\n",
       "        [397569.1228582 , 695828.43616914, 653660.54489664]],\n",
       "\n",
       "       [[397569.1228582 , 695828.43616914, 653660.54489664],\n",
       "        [397665.96108086, 695839.70880285, 653638.29127668]],\n",
       "\n",
       "       [[397665.96108086, 695839.70880285, 653638.29127668],\n",
       "        [397762.86353226, 695851.13030581, 653616.3946061 ]],\n",
       "\n",
       "       [[397762.86353226, 695851.13030581, 653616.3946061 ],\n",
       "        [397859.78499011, 695862.74600745, 653594.68648663]],\n",
       "\n",
       "       [[397859.78499011, 695862.74600745, 653594.68648663],\n",
       "        [397956.72297802, 695874.53060535, 653573.14235167]],\n",
       "\n",
       "       [[397956.72297802, 695874.53060535, 653573.14235167],\n",
       "        [398053.69709679, 695886.5765217 , 653551.9086235 ]],\n",
       "\n",
       "       [[398053.69709679, 695886.5765217 , 653551.9086235 ],\n",
       "        [398150.68537058, 695898.69490383, 653530.78022376]],\n",
       "\n",
       "       [[398150.68537058, 695898.69490383, 653530.78022376],\n",
       "        [398247.76890974, 695910.8490777 , 653510.11473365]],\n",
       "\n",
       "       [[398247.76890974, 695910.8490777 , 653510.11473365],\n",
       "        [398344.89985926, 695922.85005431, 653489.58544469]],\n",
       "\n",
       "       [[398344.89985926, 695922.85005431, 653489.58544469],\n",
       "        [398442.14165638, 695934.49284866, 653469.37460028]]]),\n",
       "       array([[[398442.14165638, 695934.49284866, 653469.37460028],\n",
       "        [398539.48096876, 695945.47197422, 653449.27157824]],\n",
       "\n",
       "       [[398539.48096876, 695945.47197422, 653449.27157824],\n",
       "        [398636.90173678, 695955.89672944, 653429.25862151]],\n",
       "\n",
       "       [[398636.90173678, 695955.89672944, 653429.25862151],\n",
       "        [398734.41956147, 695964.82348476, 653409.01266775]],\n",
       "\n",
       "       [[398734.41956147, 695964.82348476, 653409.01266775],\n",
       "        [398831.96633287, 695973.3034682 , 653388.69722365]],\n",
       "\n",
       "       [[398831.96633287, 695973.3034682 , 653388.69722365],\n",
       "        [398929.49334119, 695979.28660452, 653367.42600197]],\n",
       "\n",
       "       [[398929.49334119, 695979.28660452, 653367.42600197],\n",
       "        [399026.9817554 , 695984.74999927, 653345.87082577]],\n",
       "\n",
       "       [[399026.9817554 , 695984.74999927, 653345.87082577],\n",
       "        [399124.24802277, 695987.62300893, 653322.82697523]],\n",
       "\n",
       "       [[399124.24802277, 695987.62300893, 653322.82697523],\n",
       "        [399221.33873819, 695989.48927204, 653299.03041601]],\n",
       "\n",
       "       [[399221.33873819, 695989.48927204, 653299.03041601],\n",
       "        [399318.03345669, 695989.08459165, 653273.53595293]],\n",
       "\n",
       "       [[399318.03345669, 695989.08459165, 653273.53595293],\n",
       "        [399414.30418519, 695987.15481562, 653246.64455471]],\n",
       "\n",
       "       [[399414.30418519, 695987.15481562, 653246.64455471],\n",
       "        [399510.09209839, 695983.48834888, 653218.16240756]],\n",
       "\n",
       "       [[399510.09209839, 695983.48834888, 653218.16240756],\n",
       "        [399605.1132533 , 695977.92196158, 653187.58193797]],\n",
       "\n",
       "       [[399605.1132533 , 695977.92196158, 653187.58193797],\n",
       "        [399699.70377454, 695971.28852381, 653155.82298969]],\n",
       "\n",
       "       [[399699.70377454, 695971.28852381, 653155.82298969],\n",
       "        [399793.14030039, 695962.59783071, 653121.30589367]],\n",
       "\n",
       "       [[399793.14030039, 695962.59783071, 653121.30589367],\n",
       "        [399886.28466859, 695953.4115477 , 653086.10485876]],\n",
       "\n",
       "       [[399886.28466859, 695953.4115477 , 653086.10485876],\n",
       "        [399978.01374176, 695942.30455784, 653047.86336414]],\n",
       "\n",
       "       [[399978.01374176, 695942.30455784, 653047.86336414],\n",
       "        [400069.35533863, 695930.72451297, 653008.87745728]],\n",
       "\n",
       "       [[400069.35533863, 695930.72451297, 653008.87745728],\n",
       "        [400159.56368909, 695917.76093088, 652967.7143786 ]],\n",
       "\n",
       "       [[400159.56368909, 695917.76093088, 652967.7143786 ],\n",
       "        [400249.02883734, 695903.74740694, 652925.33517093]],\n",
       "\n",
       "       [[400249.02883734, 695903.74740694, 652925.33517093],\n",
       "        [400337.63754771, 695888.52397007, 652881.5545426 ]],\n",
       "\n",
       "       [[400337.63754771, 695888.52397007, 652881.5545426 ],\n",
       "        [400425.07545867, 695871.14966412, 652836.29290409]],\n",
       "\n",
       "       [[400425.07545867, 695871.14966412, 652836.29290409],\n",
       "        [400511.92309559, 695852.69096901, 652790.28459467]],\n",
       "\n",
       "       [[400511.92309559, 695852.69096901, 652790.28459467],\n",
       "        [400597.01733549, 695830.23514549, 652742.83644232]],\n",
       "\n",
       "       [[400597.01733549, 695830.23514549, 652742.83644232],\n",
       "        [400681.6514484 , 695806.68203841, 652695.09528289]],\n",
       "\n",
       "       [[400681.6514484 , 695806.68203841, 652695.09528289],\n",
       "        [400764.02062875, 695777.35602632, 652646.56381739]],\n",
       "\n",
       "       [[400764.02062875, 695777.35602632, 652646.56381739],\n",
       "        [400845.42752321, 695745.56722561, 652598.11319474]],\n",
       "\n",
       "       [[400845.42752321, 695745.56722561, 652598.11319474],\n",
       "        [400924.7818042 , 695708.52514923, 652549.83501473]],\n",
       "\n",
       "       [[400924.7818042 , 695708.52514923, 652549.83501473],\n",
       "        [401001.8571855 , 695666.15919723, 652502.47683445]],\n",
       "\n",
       "       [[401001.8571855 , 695666.15919723, 652502.47683445],\n",
       "        [401077.49335343, 695620.4310117 , 652455.69966963]],\n",
       "\n",
       "       [[401077.49335343, 695620.4310117 , 652455.69966963],\n",
       "        [401148.9289158 , 695566.39891459, 652411.27871707]],\n",
       "\n",
       "       [[401148.9289158 , 695566.39891459, 652411.27871707],\n",
       "        [401218.58187091, 695509.47092386, 652367.81813783]],\n",
       "\n",
       "       [[401218.58187091, 695509.47092386, 652367.81813783],\n",
       "        [401285.10122697, 695447.58770431, 652326.03725217]],\n",
       "\n",
       "       [[401285.10122697, 695447.58770431, 652326.03725217],\n",
       "        [401302.4737966 , 695431.4259342 , 652315.12552078]]]),\n",
       "       array([[[398442.14165638, 695934.49284866, 653469.37460028],\n",
       "        [398713.48305085, 695803.2559322 , 654675.06101695]]])],\n",
       "      dtype=object)"
      ]
     },
     "execution_count": 117,
     "metadata": {},
     "output_type": "execute_result"
    }
   ],
   "source": [
    "MP_sk_to_stitch = np.array(curr_MP_branch_skeletons)[MP_branches_with_stitch_point]\n",
    "MP_sk_to_stitch"
   ]
  },
  {
   "cell_type": "code",
   "execution_count": 120,
   "metadata": {},
   "outputs": [
    {
     "data": {
      "text/plain": [
       "((20, 2, 3), (33, 2, 3), (1, 2, 3))"
      ]
     },
     "execution_count": 120,
     "metadata": {},
     "output_type": "execute_result"
    }
   ],
   "source": [
    "MP_sk_to_stitch[0].shape,MP_sk_to_stitch[1].shape,MP_sk_to_stitch[2].shape"
   ]
  },
  {
   "cell_type": "code",
   "execution_count": 123,
   "metadata": {},
   "outputs": [
    {
     "data": {
      "text/plain": [
       "array([400197., 692457., 653242.])"
      ]
     },
     "execution_count": 123,
     "metadata": {},
     "output_type": "execute_result"
    }
   ],
   "source": [
    "MAP_stitch_point"
   ]
  },
  {
   "cell_type": "code",
   "execution_count": 155,
   "metadata": {},
   "outputs": [
    {
     "name": "stderr",
     "output_type": "stream",
     "text": [
      "/usr/local/lib/python3.6/dist-packages/traittypes/traittypes.py:101: UserWarning: Given trait value dtype \"float64\" does not match required type \"float64\". A coerced copy has been created.\n",
      "  np.dtype(self.dtype).name))\n"
     ]
    },
    {
     "data": {
      "application/vnd.jupyter.widget-view+json": {
       "model_id": "26f1f0621422496d86e682d9853eb63b",
       "version_major": 2,
       "version_minor": 0
      },
      "text/plain": [
       "VBox(children=(Figure(camera=PerspectiveCamera(fov=46.0, position=(0.0, 0.0, 2.0), quaternion=(0.0, 0.0, 0.0, …"
      ]
     },
     "metadata": {},
     "output_type": "display_data"
    }
   ],
   "source": [
    "nviz.plot_objects(meshes=all_correspondence_mesh,\n",
    "                 meshes_colors=\"random\",\n",
    "                 #skeletons=list(MP_sk_to_stitch) + [curr_MAP_branch_skeletons[MAP_branches_with_stitch_point[0]]],\n",
    "                  #skeletons=np.array(curr_MP_branch_skeletons)[MP_branches_with_stitch_point],\n",
    "                  skeletons=curr_MP_sk_revised,\n",
    "                 skeletons_colors=\"random\",\n",
    "                 scatters=[np.array([MAP_stitch_point,winning_vertex])],\n",
    "                 scatter_size=1)"
   ]
  },
  {
   "cell_type": "code",
   "execution_count": 132,
   "metadata": {},
   "outputs": [
    {
     "data": {
      "application/vnd.jupyter.widget-view+json": {
       "model_id": "a4410ba81f4b4307b25be7ee300b0170",
       "version_major": 2,
       "version_minor": 0
      },
      "text/plain": [
       "VBox(children=(Figure(camera=PerspectiveCamera(fov=46.0, position=(0.0, 0.0, 2.0), quaternion=(0.0, 0.0, 0.0, …"
      ]
     },
     "metadata": {},
     "output_type": "display_data"
    }
   ],
   "source": [
    "nviz.plot_objects(meshes=all_correspondence_mesh,\n",
    "                 meshes_colors=\"random\",\n",
    "                 skeletons=[curr_MP_sk[2]],\n",
    "                 skeletons_colors=\"random\",\n",
    "                 scatters=[np.array([MAP_stitch_point,winning_vertex])],\n",
    "                 scatter_size=1)"
   ]
  },
  {
   "cell_type": "code",
   "execution_count": 113,
   "metadata": {},
   "outputs": [
    {
     "data": {
      "text/plain": [
       "5"
      ]
     },
     "execution_count": 113,
     "metadata": {},
     "output_type": "execute_result"
    }
   ],
   "source": [
    "len(stitching_skeleton_branches)"
   ]
  },
  {
   "cell_type": "code",
   "execution_count": 111,
   "metadata": {},
   "outputs": [
    {
     "data": {
      "application/vnd.jupyter.widget-view+json": {
       "model_id": "19af80e1fdd044d095b1bbc917882b3b",
       "version_major": 2,
       "version_minor": 0
      },
      "text/plain": [
       "VBox(children=(Figure(camera=PerspectiveCamera(fov=46.0, position=(0.0, 0.0, 2.0), quaternion=(0.0, 0.0, 0.0, …"
      ]
     },
     "metadata": {},
     "output_type": "display_data"
    }
   ],
   "source": [
    "all_correspondence_mesh = [k[\"correspondence_mesh\"] for k in local_correspondnece_stitch.values()]\n",
    "all_branch_skeleton = [k[\"branch_skeleton\"] for k in local_correspondnece_stitch.values()]\n",
    "\n",
    "nviz.plot_objects(meshes=all_correspondence_mesh,\n",
    "                 meshes_colors=\"random\",\n",
    "                 skeletons=[all_branch_skeleton[3]],\n",
    "                 skeletons_colors=\"random\")"
   ]
  },
  {
   "cell_type": "markdown",
   "metadata": {},
   "source": [
    "# Debugging the compartment labeling"
   ]
  },
  {
   "cell_type": "code",
   "execution_count": 89,
   "metadata": {},
   "outputs": [],
   "source": [
    "curr_limb_mesh = su.decompress_pickle(\"curr_limb_mesh\")\n",
    "face_lookup = su.decompress_pickle(\"face_lookup\")\n",
    "no_missing_labels = su.decompress_pickle(\"no_missing_labels\")\n",
    "max_submesh_threshold = su.decompress_pickle(\"max_submesh_threshold\")"
   ]
  },
  {
   "cell_type": "code",
   "execution_count": 82,
   "metadata": {},
   "outputs": [],
   "source": [
    "stitching_mesh = su.decompress_pickle(\"stitching_mesh\")\n",
    "local_correspondnece_stitch = su.decompress_pickle(\"local_correspondnece_stitch\")"
   ]
  },
  {
   "cell_type": "code",
   "execution_count": 93,
   "metadata": {},
   "outputs": [
    {
     "data": {
      "text/plain": [
       "dict_keys([0, 1, 2, 3, 4])"
      ]
     },
     "execution_count": 93,
     "metadata": {},
     "output_type": "execute_result"
    }
   ],
   "source": [
    "local_correspondnece_stitch.keys()"
   ]
  },
  {
   "cell_type": "code",
   "execution_count": 87,
   "metadata": {},
   "outputs": [],
   "source": [
    "\n",
    "all_correspondence_mesh = [k[\"correspondence_mesh\"] for k in local_correspondnece_stitch.values()]\n",
    "all_branch_skeleton = [k[\"branch_skeleton\"] for k in local_correspondnece_stitch.values()]"
   ]
  },
  {
   "cell_type": "code",
   "execution_count": 98,
   "metadata": {},
   "outputs": [
    {
     "data": {
      "application/vnd.jupyter.widget-view+json": {
       "model_id": "93ffad3b696040628928d35abf00ddc6",
       "version_major": 2,
       "version_minor": 0
      },
      "text/plain": [
       "VBox(children=(Figure(camera=PerspectiveCamera(fov=46.0, position=(0.0, 0.0, 2.0), quaternion=(0.0, 0.0, 0.0, …"
      ]
     },
     "metadata": {},
     "output_type": "display_data"
    }
   ],
   "source": [
    "nviz.plot_objects(meshes=all_correspondence_mesh,\n",
    "                 meshes_colors=\"random\",\n",
    "                 skeletons=[all_branch_skeleton[4]],\n",
    "                 skeletons_colors=\"random\")"
   ]
  },
  {
   "cell_type": "code",
   "execution_count": 90,
   "metadata": {},
   "outputs": [
    {
     "name": "stdout",
     "output_type": "stream",
     "text": [
      "empty_indices % = 0.3717535086304243\n",
      " conflict_indices % = 0.11566381674463623\n"
     ]
    }
   ],
   "source": [
    "if len(no_missing_labels) == 0:\n",
    "    no_missing_labels = list(set(list(itertools.chain.from_iterable(list(face_lookup.values())))))\n",
    "\n",
    "#get all of the faces that don't have any faces corresponding\n",
    "empty_indices = np.array([k for k,v in face_lookup.items() if len(v) == 0])\n",
    "\n",
    "#get all of the faces that don't have any faces corresponding\n",
    "conflict_indices = np.array([k for k,v in face_lookup.items() if len(v) >= 2])\n",
    "\n",
    "print(f\"empty_indices % = {len(empty_indices)/len(face_lookup.keys())}\\n conflict_indices % = {len(conflict_indices)/len(face_lookup.keys())}\")\n",
    "\n",
    "\n",
    "\n",
    "#doing the face coloring (OLD WAY)\n",
    "##face_coloring = np.array([-1 if len(v) != 1 else v[0] for v in face_lookup.values()])\n",
    "\n",
    "#doing the face coloring (new way if the keys are unordered)\n",
    "face_coloring = np.full(len(curr_limb_mesh.faces),-1)\n",
    "for k,v in face_lookup.items():\n",
    "    if len(v) == 1:\n",
    "        face_coloring[k] = v[0]"
   ]
  },
  {
   "cell_type": "code",
   "execution_count": 92,
   "metadata": {},
   "outputs": [
    {
     "data": {
      "text/plain": [
       "[0, 1, 2, 3, 4]"
      ]
     },
     "execution_count": 92,
     "metadata": {},
     "output_type": "execute_result"
    }
   ],
   "source": [
    "no_missing_labels"
   ]
  },
  {
   "cell_type": "code",
   "execution_count": 91,
   "metadata": {},
   "outputs": [
    {
     "data": {
      "text/plain": [
       "array([-1,  0,  1,  2])"
      ]
     },
     "execution_count": 91,
     "metadata": {},
     "output_type": "execute_result"
    }
   ],
   "source": [
    "np.unique(face_coloring)"
   ]
  },
  {
   "cell_type": "code",
   "execution_count": 79,
   "metadata": {},
   "outputs": [],
   "source": [
    "for v in face_lookup.values():\n",
    "    if 2 in v and 1 not in v:\n",
    "        print(v)"
   ]
  },
  {
   "cell_type": "code",
   "execution_count": 70,
   "metadata": {},
   "outputs": [
    {
     "name": "stderr",
     "output_type": "stream",
     "text": [
      "/usr/local/lib/python3.6/dist-packages/traittypes/traittypes.py:101: UserWarning: Given trait value dtype \"float64\" does not match required type \"float64\". A coerced copy has been created.\n",
      "  np.dtype(self.dtype).name))\n"
     ]
    },
    {
     "data": {
      "application/vnd.jupyter.widget-view+json": {
       "model_id": "099e0709c9734544a6d91739a061b6bc",
       "version_major": 2,
       "version_minor": 0
      },
      "text/plain": [
       "VBox(children=(Figure(camera=PerspectiveCamera(fov=46.0, position=(0.0, 0.0, 2.0), quaternion=(0.0, 0.0, 0.0, …"
      ]
     },
     "metadata": {},
     "output_type": "display_data"
    }
   ],
   "source": [
    "nviz.plot_objects(curr_limb_mesh)"
   ]
  },
  {
   "cell_type": "code",
   "execution_count": null,
   "metadata": {},
   "outputs": [],
   "source": [
    "# Looking at the decomposition from MP"
   ]
  },
  {
   "cell_type": "code",
   "execution_count": 65,
   "metadata": {},
   "outputs": [
    {
     "name": "stdout",
     "output_type": "stream",
     "text": [
      "Time for preparing soma vertices and root: 0.00013756752014160156\n",
      "cc_vertex_thresh = 10\n"
     ]
    },
    {
     "name": "stderr",
     "output_type": "stream",
     "text": [
      "\r",
      "  0%|          | 0/1 [00:00<?, ?it/s]"
     ]
    },
    {
     "data": {
      "application/vnd.jupyter.widget-view+json": {
       "model_id": "98e14e51352442b691bdacf2df867564",
       "version_major": 2,
       "version_minor": 0
      },
      "text/plain": [
       "HBox(children=(FloatProgress(value=0.0, max=304426.0), HTML(value='')))"
      ]
     },
     "metadata": {},
     "output_type": "display_data"
    },
    {
     "name": "stderr",
     "output_type": "stream",
     "text": [
      "100%|██████████| 1/1 [00:25<00:00, 25.12s/it]"
     ]
    },
    {
     "name": "stdout",
     "output_type": "stream",
     "text": [
      "\n"
     ]
    },
    {
     "name": "stderr",
     "output_type": "stream",
     "text": [
      "\n"
     ]
    },
    {
     "name": "stdout",
     "output_type": "stream",
     "text": [
      "Time for 1st pass MP skeletonization: 27.861298322677612\n"
     ]
    },
    {
     "name": "stderr",
     "output_type": "stream",
     "text": [
      "/meshAfterParty/meshparty_skeletonize.py:888: VisibleDeprecationWarning: Creating an ndarray from ragged nested sequences (which is a list-or-tuple of lists-or-tuples-or ndarrays with different lengths or shapes) is deprecated. If you meant to do this, you must specify 'dtype=object' when creating the ndarray\n",
      "  segment_branches = np.array([sk_meshparty_obj.vertices[np.vstack([k[:-1],k[1:]]).T] for k in segments])\n"
     ]
    },
    {
     "name": "stdout",
     "output_type": "stream",
     "text": [
      "branches_touching_root = [16]\n"
     ]
    },
    {
     "name": "stderr",
     "output_type": "stream",
     "text": [
      "/meshAfterParty/meshparty_skeletonize.py:949: VisibleDeprecationWarning: Creating an ndarray from ragged nested sequences (which is a list-or-tuple of lists-or-tuples-or ndarrays with different lengths or shapes) is deprecated. If you meant to do this, you must specify 'dtype=object' when creating the ndarray\n",
      "  segment_branches = np.array(new_segment_branches)\n"
     ]
    },
    {
     "name": "stdout",
     "output_type": "stream",
     "text": [
      "length of Graph = 41389\n",
      "Working on path [1140. 1150. 1160. 1172. 1179.]\n",
      "path_degrees = [3, 2, 2, 2, 3]\n",
      "Working on path [3372. 3375. 3385. 3393. 3402. 3404.]\n",
      "path_degrees = [3, 2, 2, 2, 2, 3]\n",
      "Working on path [4213. 4219. 4224. 4230. 4236. 4239.]\n",
      "path_degrees = [3, 2, 2, 2, 2, 3]\n",
      "Working on path [4622. 4644. 4657.]\n",
      "path_degrees = [3, 2, 3]\n",
      "Working on path [5087. 5088. 5090. 5094. 5097. 5098.]\n",
      "path_degrees = [3, 2, 2, 2, 2, 3]\n",
      "Working on path [5659. 5674. 5683.]\n",
      "path_degrees = [3, 2, 3]\n",
      "Working on path [41394.  5701.  5720.  5739.  5758.  5790.  5795.]\n",
      "path_degrees = [4, 2, 2, 2, 2, 2, 3]\n",
      "Working on path [25272. 25308. 25343. 25369.]\n",
      "path_degrees = [3, 2, 2, 3]\n",
      "Working on path [25635. 25682. 25721. 25727.]\n",
      "path_degrees = [3, 2, 2, 3]\n",
      "Working on path [36463. 36484. 36505. 36524. 36545. 36567. 36570.]\n",
      "path_degrees = [3, 2, 2, 2, 2, 2, 3]\n"
     ]
    },
    {
     "name": "stderr",
     "output_type": "stream",
     "text": [
      "/meshAfterParty/meshparty_skeletonize.py:974: VisibleDeprecationWarning: Creating an ndarray from ragged nested sequences (which is a list-or-tuple of lists-or-tuples-or ndarrays with different lengths or shapes) is deprecated. If you meant to do this, you must specify 'dtype=object' when creating the ndarray\n",
      "  segment_branches_filtered = np.array(segment_branches_filtered)\n"
     ]
    },
    {
     "name": "stdout",
     "output_type": "stream",
     "text": [
      "max(kept_branches_idx) = 239, len(kept_branches_idx) = 230\n",
      "empty_indices % = 0.0\n",
      " conflict_indices % = 0.012809612409755712\n"
     ]
    },
    {
     "name": "stderr",
     "output_type": "stream",
     "text": [
      "/meshAfterParty/trimesh_utils.py:318: VisibleDeprecationWarning: Creating an ndarray from ragged nested sequences (which is a list-or-tuple of lists-or-tuples-or ndarrays with different lengths or shapes) is deprecated. If you meant to do this, you must specify 'dtype=object' when creating the ndarray\n",
      "  ordered_comp_indices = np.array([k.astype(\"int\") for k in ordered_components])\n"
     ]
    },
    {
     "data": {
      "application/vnd.jupyter.widget-view+json": {
       "model_id": "7479cc49bfff40248721dfb589f1e190",
       "version_major": 2,
       "version_minor": 0
      },
      "text/plain": [
       "HBox(children=(FloatProgress(value=0.0, max=113.0), HTML(value='')))"
      ]
     },
     "metadata": {},
     "output_type": "display_data"
    },
    {
     "name": "stdout",
     "output_type": "stream",
     "text": [
      "\n",
      "AFTER face_lookup_resolved_test\n"
     ]
    },
    {
     "data": {
      "application/vnd.jupyter.widget-view+json": {
       "model_id": "7151da5d6bf943689d05f6d639b555b3",
       "version_major": 2,
       "version_minor": 0
      },
      "text/plain": [
       "HBox(children=(FloatProgress(value=0.0, max=230.0), HTML(value='')))"
      ]
     },
     "metadata": {},
     "output_type": "display_data"
    },
    {
     "name": "stdout",
     "output_type": "stream",
     "text": [
      "\n"
     ]
    },
    {
     "name": "stderr",
     "output_type": "stream",
     "text": [
      "/meshAfterParty/trimesh_utils.py:972: VisibleDeprecationWarning: Creating an ndarray from ragged nested sequences (which is a list-or-tuple of lists-or-tuples-or ndarrays with different lengths or shapes) is deprecated. If you meant to do this, you must specify 'dtype=object' when creating the ndarray\n",
      "  total_submeshes_idx =np.array(list(total_submeshes_idx.values()))\n"
     ]
    }
   ],
   "source": [
    "sk = reload(sk)\n",
    "m_sk = reload(m_sk)\n",
    "\n",
    "print_fusion_steps=True\n",
    "\n",
    "# --------------- Part 3: Meshparty skeletonization and Decomposition ------------- #\n",
    "limb_to_endpoints_must_keep_list = []\n",
    "limb_to_soma_touching_vertices_list = []\n",
    "\n",
    "# --------------- Part 1 and 2: Getting Border Vertices and Setting the Root------------- #\n",
    "fusion_time = time.time()\n",
    "#will eventually get the current root from soma_to_piece_touching_vertices[i]\n",
    "if not soma_touching_vertices_dict is None:\n",
    "    root_curr = soma_touching_vertices_dict[list(soma_touching_vertices_dict.keys())[0]][0][0]\n",
    "else:\n",
    "    root_curr = None\n",
    "\n",
    "if print_fusion_steps:\n",
    "    print(f\"Time for preparing soma vertices and root: {time.time() - fusion_time }\")\n",
    "    fusion_time = time.time()\n",
    "\n",
    "# --------------- Part 3: Meshparty skeletonization and Decomposition ------------- #\n",
    "sk_meshparty_obj = m_sk.skeletonize_mesh_largest_component(limb_mesh_mparty,\n",
    "                                                        root=root_curr,\n",
    "                                                          filter_mesh=False)\n",
    "\n",
    "if print_fusion_steps:\n",
    "    print(f\"Time for 1st pass MP skeletonization: {time.time() - fusion_time }\")\n",
    "    fusion_time = time.time()\n",
    "\n",
    "(segment_branches, #skeleton branches\n",
    "divided_submeshes, divided_submeshes_idx, #mesh correspondence (mesh and indices)\n",
    "segment_widths_median) = m_sk.skeleton_obj_to_branches(sk_meshparty_obj,\n",
    "                                                      mesh = limb_mesh_mparty,\n",
    "                                                      meshparty_segment_size=meshparty_segment_size)\n",
    "\n"
   ]
  },
  {
   "cell_type": "code",
   "execution_count": 60,
   "metadata": {},
   "outputs": [
    {
     "data": {
      "application/vnd.jupyter.widget-view+json": {
       "model_id": "7eabe17533af4276982024a4eab8d292",
       "version_major": 2,
       "version_minor": 0
      },
      "text/plain": [
       "VBox(children=(Figure(camera=PerspectiveCamera(fov=46.0, position=(0.0, 0.0, 2.0), quaternion=(0.0, 0.0, 0.0, …"
      ]
     },
     "metadata": {},
     "output_type": "display_data"
    }
   ],
   "source": [
    "nviz.plot_objects(skeletons=segment_branches,\n",
    "                 skeletons_colors=\"random\",\n",
    "                 scatters=[np.array([sk_1_closest_node,sk_2_closest_node])],\n",
    "                  scatter_size=0.15)"
   ]
  },
  {
   "cell_type": "code",
   "execution_count": null,
   "metadata": {},
   "outputs": [],
   "source": []
  },
  {
   "cell_type": "code",
   "execution_count": 12,
   "metadata": {},
   "outputs": [],
   "source": [
    "sublimb_meshes_MP = su.decompress_pickle(\"sublimb_meshes_MP\")\n",
    "sublimb_meshes_MAP = su.decompress_pickle(\"sublimb_meshes_MAP\")\n",
    "limb_mesh_mparty = su.decompress_pickle(\"limb_mesh_mparty\")\n",
    "sublimb_skeletons_MP = su.decompress_pickle(\"sublimb_skeletons_MP\")\n",
    "sublimb_skeletons_MAP = su.decompress_pickle(\"sublimb_skeletons_MAP\")"
   ]
  },
  {
   "cell_type": "code",
   "execution_count": 13,
   "metadata": {},
   "outputs": [
    {
     "name": "stderr",
     "output_type": "stream",
     "text": [
      "/usr/local/lib/python3.6/dist-packages/ipykernel_launcher.py:2: VisibleDeprecationWarning: Creating an ndarray from ragged nested sequences (which is a list-or-tuple of lists-or-tuples-or ndarrays with different lengths or shapes) is deprecated. If you meant to do this, you must specify 'dtype=object' when creating the ndarray\n",
      "  \n"
     ]
    }
   ],
   "source": [
    "sublimb_meshes_MP = np.array(sublimb_meshes_MP)\n",
    "sublimb_skeletons_MP = np.array(sublimb_skeletons_MP)"
   ]
  },
  {
   "cell_type": "code",
   "execution_count": 39,
   "metadata": {},
   "outputs": [
    {
     "data": {
      "application/vnd.jupyter.widget-view+json": {
       "model_id": "06bf2759ac044090923aa7fe150da4c9",
       "version_major": 2,
       "version_minor": 0
      },
      "text/plain": [
       "VBox(children=(Figure(camera=PerspectiveCamera(fov=46.0, position=(0.0, 0.0, 2.0), quaternion=(0.0, 0.0, 0.0, …"
      ]
     },
     "metadata": {},
     "output_type": "display_data"
    }
   ],
   "source": [
    "col = [\"red\",\"black\"]\n",
    "nviz.plot_objects(meshes=sublimb_meshes_MP[[0,3]],\n",
    "                 meshes_colors=col,\n",
    "                 skeletons=sublimb_skeletons_MP[[0,3]],\n",
    "                 skeletons_colors=col,\n",
    "                  scatters=[np.array([sk_1_closest_node,sk_2_closest_node])],\n",
    "                  scatter_size=0.5\n",
    "                 )"
   ]
  },
  {
   "cell_type": "code",
   "execution_count": null,
   "metadata": {},
   "outputs": [],
   "source": [
    "from pykdtree.kdtree import KDTree"
   ]
  },
  {
   "cell_type": "code",
   "execution_count": 23,
   "metadata": {},
   "outputs": [],
   "source": [
    "sk_1,sk_2 = sublimb_skeletons_MP[[0,3]]"
   ]
  },
  {
   "cell_type": "code",
   "execution_count": 25,
   "metadata": {},
   "outputs": [],
   "source": [
    "sk_1_nodes,_ = sk.convert_skeleton_to_nodes_edges(sk_1)\n",
    "sk_2_nodes,_ = sk.convert_skeleton_to_nodes_edges(sk_2)"
   ]
  },
  {
   "cell_type": "code",
   "execution_count": 28,
   "metadata": {},
   "outputs": [],
   "source": [
    "sk_1_kdtree = KDTree(sk_1_nodes)\n",
    "sk_dist,sk_closest_nodes = sk_1_kdtree.query(sk_2_nodes)"
   ]
  },
  {
   "cell_type": "code",
   "execution_count": 36,
   "metadata": {},
   "outputs": [],
   "source": [
    "min_index = np.argmin(sk_dist)\n",
    "sk_1_closest_node = sk_1_nodes[sk_closest_nodes[min_index]]\n",
    "sk_2_closest_node = sk_2_nodes[min_index]"
   ]
  },
  {
   "cell_type": "code",
   "execution_count": 37,
   "metadata": {},
   "outputs": [
    {
     "data": {
      "text/plain": [
       "array([421577.49895621, 641047.79203307, 652977.18304824])"
      ]
     },
     "execution_count": 37,
     "metadata": {},
     "output_type": "execute_result"
    }
   ],
   "source": [
    "sk_2_closest_node"
   ]
  },
  {
   "cell_type": "code",
   "execution_count": 18,
   "metadata": {},
   "outputs": [],
   "source": [
    "tot_sk = sk.stack_skeletons(sublimb_skeletons_MP[[0,3]])"
   ]
  },
  {
   "cell_type": "code",
   "execution_count": 19,
   "metadata": {},
   "outputs": [
    {
     "data": {
      "text/plain": [
       "2"
      ]
     },
     "execution_count": 19,
     "metadata": {},
     "output_type": "execute_result"
    }
   ],
   "source": [
    "nx.number_connected_components(sk.convert_skeleton_to_graph(tot_sk))"
   ]
  },
  {
   "cell_type": "code",
   "execution_count": null,
   "metadata": {},
   "outputs": [],
   "source": [
    "import system_utils as su\n",
    "meshes = su.decompress_pickle(\"meshes\")\n",
    "\n",
    "sublimb_meshes_MP = meshes[:23]\n",
    "sublimb_meshes_MAP = meshes[23:]\n",
    "\n",
    "MP_meshes_total = tu.combine_meshes(MP_meshes)\n",
    "MP_meshes_total"
   ]
  },
  {
   "cell_type": "code",
   "execution_count": null,
   "metadata": {},
   "outputs": [],
   "source": [
    "limb_mesh_mparty = su.decompress_pickle(\"limb_mesh_mparty\")"
   ]
  },
  {
   "cell_type": "code",
   "execution_count": 42,
   "metadata": {},
   "outputs": [
    {
     "data": {
      "text/plain": [
       "array([[0, 1],\n",
       "       [0, 2],\n",
       "       [1, 2],\n",
       "       [0, 3],\n",
       "       [1, 3],\n",
       "       [2, 3]])"
      ]
     },
     "execution_count": 42,
     "metadata": {},
     "output_type": "execute_result"
    }
   ],
   "source": [
    "mesh_conn"
   ]
  },
  {
   "cell_type": "code",
   "execution_count": 43,
   "metadata": {},
   "outputs": [
    {
     "data": {
      "text/plain": [
       "array([<trimesh.Trimesh(vertices.shape=(22739, 3), faces.shape=(45469, 3))>],\n",
       "      dtype=object)"
      ]
     },
     "execution_count": 43,
     "metadata": {},
     "output_type": "execute_result"
    }
   ],
   "source": [
    "sublimb_meshes_MP[[3]]"
   ]
  },
  {
   "cell_type": "code",
   "execution_count": 48,
   "metadata": {},
   "outputs": [
    {
     "data": {
      "text/plain": [
       "array([[0, 1]])"
      ]
     },
     "execution_count": 48,
     "metadata": {},
     "output_type": "execute_result"
    }
   ],
   "source": [
    "mesh_conn"
   ]
  },
  {
   "cell_type": "code",
   "execution_count": 50,
   "metadata": {},
   "outputs": [
    {
     "data": {
      "text/plain": [
       "array([<trimesh.Trimesh(vertices.shape=(22739, 3), faces.shape=(45469, 3))>],\n",
       "      dtype=object)"
      ]
     },
     "execution_count": 50,
     "metadata": {},
     "output_type": "execute_result"
    }
   ],
   "source": [
    "sublimb_meshes_MP[[3]]"
   ]
  },
  {
   "cell_type": "code",
   "execution_count": 49,
   "metadata": {},
   "outputs": [
    {
     "data": {
      "text/plain": [
       "array([<trimesh.Trimesh(vertices.shape=(26936, 3), faces.shape=(53817, 3))>,\n",
       "       <trimesh.Trimesh(vertices.shape=(69009, 3), faces.shape=(136868, 3))>],\n",
       "      dtype=object)"
      ]
     },
     "execution_count": 49,
     "metadata": {},
     "output_type": "execute_result"
    }
   ],
   "source": [
    "sublimb_meshes_MP[[3]] + sublimb_meshes_MAP[0:2]"
   ]
  },
  {
   "cell_type": "code",
   "execution_count": 55,
   "metadata": {},
   "outputs": [],
   "source": [
    "mesh_conn,mesh_conn_vertex_groups = tu.mesh_list_connectivity(meshes = list(sublimb_meshes_MP[[3]]) + sublimb_meshes_MAP,\n",
    "                                            main_mesh = limb_mesh_mparty,\n",
    "                                            min_common_vertices=1,\n",
    "                                            return_vertex_connection_groups=True,\n",
    "                                            return_largest_vertex_connection_group=True,\n",
    "                                            print_flag = False)"
   ]
  },
  {
   "cell_type": "code",
   "execution_count": 54,
   "metadata": {},
   "outputs": [
    {
     "data": {
      "application/vnd.jupyter.widget-view+json": {
       "model_id": "a8144e69825c4a478f2487b6ffec512a",
       "version_major": 2,
       "version_minor": 0
      },
      "text/plain": [
       "VBox(children=(Figure(camera=PerspectiveCamera(fov=46.0, position=(0.0, 0.0, 2.0), quaternion=(0.0, 0.0, 0.0, …"
      ]
     },
     "metadata": {},
     "output_type": "display_data"
    }
   ],
   "source": [
    "col = [\"red\",\"black\"]\n",
    "nviz.plot_objects(meshes=list(sublimb_meshes_MP[[3]]) + sublimb_meshes_MAP[0:2],\n",
    "                 meshes_colors=\"random\",\n",
    "                 #skeletons=[sublimb_skeletons_MP[3],sk.stack_skeletons(sublimb_skeletons_MAP)],\n",
    "                 #skeletons_colors=col,\n",
    "                  scatters=[np.array([sk_1_closest_node,sk_2_closest_node])],\n",
    "                  scatter_size=0.5\n",
    "                 )"
   ]
  },
  {
   "cell_type": "code",
   "execution_count": null,
   "metadata": {},
   "outputs": [],
   "source": [
    "combined_m = tu.combine_meshes(np.array(sublimb_meshes_MP)[[3,0]])\n",
    "combined_m"
   ]
  },
  {
   "cell_type": "code",
   "execution_count": null,
   "metadata": {},
   "outputs": [],
   "source": [
    "combined_m.merge_vertices()\n",
    "new_mesh"
   ]
  },
  {
   "cell_type": "code",
   "execution_count": null,
   "metadata": {},
   "outputs": [],
   "source": [
    "nviz.plot_objects(meshes=tu.split(combined_m)[0],\n",
    "                 meshes_colors=\"random\")"
   ]
  },
  {
   "cell_type": "code",
   "execution_count": null,
   "metadata": {},
   "outputs": [],
   "source": [
    "nviz.plot_objects(#main_mesh=limb_mesh_mparty,\n",
    "                 meshes=np.array(sublimb_meshes_MP)[[3,0]],\n",
    "                 meshes_colors=[\"black\",\"orange\"],\n",
    ")"
   ]
  },
  {
   "cell_type": "code",
   "execution_count": null,
   "metadata": {},
   "outputs": [],
   "source": [
    "soma_mesh_list"
   ]
  },
  {
   "cell_type": "code",
   "execution_count": null,
   "metadata": {},
   "outputs": [],
   "source": [
    "nviz.plot_objects(meshes=soma_mesh_list)"
   ]
  },
  {
   "cell_type": "code",
   "execution_count": null,
   "metadata": {},
   "outputs": [],
   "source": [
    "nviz.plot_objects(meshes=[tu.combine_meshes(k) for k in [MAP_meshes,MP_meshes,soma_mesh_list]],\n",
    "                 meshes_colors=[\"black\",\"red\",\"orange\"])"
   ]
  },
  {
   "cell_type": "markdown",
   "metadata": {},
   "source": [
    "# Sending the data to the Neuron Object"
   ]
  },
  {
   "cell_type": "code",
   "execution_count": null,
   "metadata": {},
   "outputs": [],
   "source": [
    "nru = reload(nru)\n",
    "save_time = time.time()\n",
    "neuron_obj.save_compressed_neuron(output_folder=\"/notebooks/test_neurons/Fusion_decomp/\",\n",
    "                                 export_mesh=True,\n",
    "                                 suppress_output=True)\n",
    "print(f\"Save time = {time.time() - save_time}\")"
   ]
  },
  {
   "cell_type": "code",
   "execution_count": null,
   "metadata": {},
   "outputs": [],
   "source": [
    "nru = reload(nru)\n",
    "reload_time = time.time()\n",
    "recovered_neuron = nru.decompress_neuron(filepath=\"./12345_double_soma\",\n",
    "                     original_mesh=\"./12345_double_soma\")\n",
    "print(f\"Save time = {time.time() - reload_time}\")"
   ]
  },
  {
   "cell_type": "code",
   "execution_count": null,
   "metadata": {},
   "outputs": [],
   "source": [
    "import neuron_visualizations as nviz\n",
    "returned_colors = nviz.visualize_neuron(neuron_obj,\n",
    "                     visualize_type=[\"mesh\",\"skeleton\"],\n",
    "                     limb_branch_dict=dict(L6=\"all\"),\n",
    "                                       return_color_dict=True)"
   ]
  },
  {
   "cell_type": "code",
   "execution_count": null,
   "metadata": {},
   "outputs": [],
   "source": []
  }
 ],
 "metadata": {
  "kernelspec": {
   "display_name": "Python 3",
   "language": "python",
   "name": "python3"
  },
  "language_info": {
   "codemirror_mode": {
    "name": "ipython",
    "version": 3
   },
   "file_extension": ".py",
   "mimetype": "text/x-python",
   "name": "python",
   "nbconvert_exporter": "python",
   "pygments_lexer": "ipython3",
   "version": "3.6.9"
  }
 },
 "nbformat": 4,
 "nbformat_minor": 4
}
