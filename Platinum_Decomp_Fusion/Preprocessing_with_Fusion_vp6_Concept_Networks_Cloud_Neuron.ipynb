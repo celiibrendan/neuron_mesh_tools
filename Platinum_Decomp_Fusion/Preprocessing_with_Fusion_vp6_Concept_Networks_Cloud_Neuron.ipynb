{
 "cells": [
  {
   "cell_type": "code",
   "execution_count": null,
   "metadata": {},
   "outputs": [],
   "source": [
    "\"\"\"\n",
    "To make sure the fusion decomposition works\n",
    "up to the part where we would stitch the sublimbs together into one limb\n",
    "\n",
    "\n",
    "\"\"\""
   ]
  },
  {
   "cell_type": "code",
   "execution_count": 1,
   "metadata": {},
   "outputs": [],
   "source": [
    "from os import sys\n",
    "sys.path.append(\"/meshAfterParty/\")"
   ]
  },
  {
   "cell_type": "code",
   "execution_count": 2,
   "metadata": {},
   "outputs": [
    {
     "name": "stderr",
     "output_type": "stream",
     "text": [
      "WARNING:root:Need to pip install annotationframeworkclient to repair mesh with pychunkedgraph\n",
      "WARNING:root:Need to pip install annotationframeworkclient to use dataset_name parameters\n"
     ]
    }
   ],
   "source": [
    "import skeleton_utils as sk\n",
    "import soma_extraction_utils as sm\n",
    "import trimesh_utils as tu\n",
    "import trimesh\n",
    "import numpy_utils as nu\n",
    "import numpy as np\n",
    "from importlib import reload\n",
    "import networkx as nx\n",
    "import time\n",
    "import compartment_utils as cu\n",
    "import networkx_utils as xu\n",
    "import matplotlib_utils as mu\n",
    "\n",
    "#importing at the bottom so don't get any conflicts\n",
    "import itertools\n",
    "from tqdm_utils import tqdm\n",
    "\n",
    "#for meshparty preprocessing\n",
    "import meshparty_skeletonize as m_sk\n",
    "import general_utils as gu\n",
    "import compartment_utils as cu\n",
    "from meshparty import trimesh_io\n",
    "from copy import deepcopy\n",
    "\n",
    "\n",
    "from neuron_utils import *\n"
   ]
  },
  {
   "cell_type": "markdown",
   "metadata": {},
   "source": [
    "# Loading the Neuron"
   ]
  },
  {
   "cell_type": "code",
   "execution_count": 3,
   "metadata": {},
   "outputs": [],
   "source": [
    "import trimesh_utils as tu\n",
    "curent_neuron = tu.load_mesh_no_processing(\"/notebooks/test_neurons/Segmentation_2/meshparty/864691135548568516_single_soma_inhib_axon_cloud.off\")"
   ]
  },
  {
   "cell_type": "code",
   "execution_count": 4,
   "metadata": {},
   "outputs": [],
   "source": [
    "segment_id = 864691135548568516\n",
    "description = \"single_soma_inhib_axon_cloud\""
   ]
  },
  {
   "cell_type": "code",
   "execution_count": 5,
   "metadata": {},
   "outputs": [],
   "source": [
    "# import neuron_visualizations as nviz\n",
    "# nviz.plot_objects(main_mesh=curent_neuron)"
   ]
  },
  {
   "cell_type": "markdown",
   "metadata": {},
   "source": [
    "# Setting the Arguments that would be present inside a preprocessing function call"
   ]
  },
  {
   "cell_type": "code",
   "execution_count": 6,
   "metadata": {},
   "outputs": [],
   "source": [
    "#predefined arguments for the Neuron constructor\n",
    "\n",
    "decomposition_type=\"meshafterparty\"\n",
    "mesh_correspondence=\"meshparty\" #meshafterparty_adaptive\n",
    "distance_by_mesh_center=True #how the distance is calculated for mesh correspondence\n",
    "meshparty_segment_size = 100\n",
    "meshparty_n_surface_downsampling = 2\n",
    "meshparty_adaptive_correspondence_after_creation=False\n",
    "suppress_preprocessing_print=True\n",
    "computed_attribute_dict=None\n",
    "somas = None\n",
    "branch_skeleton_data=None\n",
    "combine_close_skeleton_nodes = True\n",
    "combine_close_skeleton_nodes_threshold=700\n",
    "ignore_warnings=True\n",
    "suppress_output=False\n",
    "calculate_spines=True\n",
    "widths_to_calculate=[\"no_spine_median_mesh_center\",\n",
    "                \"no_spine_mean_mesh_center\"]\n",
    "fill_hole_size=2000"
   ]
  },
  {
   "cell_type": "code",
   "execution_count": 7,
   "metadata": {},
   "outputs": [],
   "source": [
    "#arguments for the preprocess neuron\n",
    "mesh = curent_neuron\n",
    "segment_id=segment_id\n",
    "description=description\n",
    "\n",
    "sig_th_initial_split=15 #for significant splitting meshes in the intial mesh split\n",
    "limb_threshold = 2000 #the mesh faces threshold for a mesh to be qualified as a limb (otherwise too small)\n",
    "filter_end_node_length=4001 #used in cleaning the skeleton during skeletonizations\n",
    "return_no_somas = False\n",
    "\n",
    "decomposition_type=decomposition_type\n",
    "mesh_correspondence=mesh_correspondence\n",
    "distance_by_mesh_center=distance_by_mesh_center\n",
    "meshparty_segment_size =meshparty_segment_size\n",
    "meshparty_n_surface_downsampling = meshparty_n_surface_downsampling\n",
    "somas=somas\n",
    "branch_skeleton_data=branch_skeleton_data\n",
    "combine_close_skeleton_nodes = combine_close_skeleton_nodes\n",
    "combine_close_skeleton_nodes_threshold=combine_close_skeleton_nodes_threshold"
   ]
  },
  {
   "cell_type": "markdown",
   "metadata": {},
   "source": [
    "# Setting up the metadata"
   ]
  },
  {
   "cell_type": "code",
   "execution_count": 8,
   "metadata": {},
   "outputs": [],
   "source": [
    "whole_processing_tiempo = time.time()\n",
    "\n",
    "\n",
    "\"\"\"\n",
    "Purpose: To process the mesh into a format that can be loaded into the neuron class\n",
    "and used for higher order processing (how to visualize is included)\n",
    "\n",
    "\"\"\"\n",
    "if description is None:\n",
    "    description = \"no_description\"\n",
    "if segment_id is None:\n",
    "    #pick a random segment id\n",
    "    segment_id = np.random.randint(100000000)\n",
    "    print(f\"picking a random 7 digit segment id: {segment_id}\")\n",
    "    description += \"_random_id\"\n",
    "\n",
    "\n",
    "if mesh is None:\n",
    "    if current_mesh_file is None:\n",
    "        raise Exception(\"No mesh or mesh_file file were given\")\n",
    "    else:\n",
    "        current_neuron = trimesh.load_mesh(current_mesh_file)\n",
    "else:\n",
    "    current_neuron = mesh"
   ]
  },
  {
   "cell_type": "markdown",
   "metadata": {},
   "source": [
    "# ************************ Phase A: Soma and Limb Identification ********************************"
   ]
  },
  {
   "cell_type": "code",
   "execution_count": 9,
   "metadata": {},
   "outputs": [
    {
     "name": "stdout",
     "output_type": "stream",
     "text": [
      "Current Arguments Using (adjusted for decimation):\n",
      " large_mesh_threshold= 15000.0 \n",
      "large_mesh_threshold_inner = 10000.0 \n",
      "soma_size_threshold = 937.5 \n",
      "soma_size_threshold_max = 12000.0\n",
      "outer_decimation_ratio = 0.25\n",
      "inner_decimation_ratio = 0.25\n",
      "xvfb-run -n 6547 -s \"-screen 0 800x600x24\" meshlabserver $@  -i /notebooks/Platinum_Decomp_Fusion/864691135548568516/neuron_864691135548568516.off -o /notebooks/Platinum_Decomp_Fusion/864691135548568516/neuron_864691135548568516_decimated.off -s /notebooks/Platinum_Decomp_Fusion/864691135548568516/decimation_meshlab_25122470.mls\n",
      "Total found significant pieces before Poisson = [<trimesh.Trimesh(vertices.shape=(191269, 3), faces.shape=(379018, 3))>]\n",
      "----- working on large mesh #0: <trimesh.Trimesh(vertices.shape=(191269, 3), faces.shape=(379018, 3))>\n",
      "pre_largest_mesh_path = /notebooks/Platinum_Decomp_Fusion/864691135548568516/neuron_864691135548568516_decimated_largest_piece.off\n",
      "xvfb-run -n 5881 -s \"-screen 0 800x600x24\" meshlabserver $@  -i /notebooks/Platinum_Decomp_Fusion/864691135548568516/neuron_864691135548568516_decimated_largest_piece.off -o /notebooks/Platinum_Decomp_Fusion/864691135548568516/neuron_864691135548568516_decimated_largest_piece_poisson.off -s /notebooks/Platinum_Decomp_Fusion/864691135548568516/poisson_746169.mls\n",
      "Total found significant pieces AFTER Poisson = [<trimesh.Trimesh(vertices.shape=(48099, 3), faces.shape=(96194, 3))>]\n",
      "----- working on mesh after poisson #0: <trimesh.Trimesh(vertices.shape=(48099, 3), faces.shape=(96194, 3))>\n",
      "xvfb-run -n 1529 -s \"-screen 0 800x600x24\" meshlabserver $@  -i /notebooks/Platinum_Decomp_Fusion/864691135548568516/neuron_864691135548568516_decimated_largest_piece_poisson_largest_inner.off -o /notebooks/Platinum_Decomp_Fusion/864691135548568516/neuron_864691135548568516_decimated_largest_piece_poisson_largest_inner_decimated.off -s /notebooks/Platinum_Decomp_Fusion/864691135548568516/decimation_meshlab_2558628.mls\n",
      "done exporting decimated mesh: neuron_864691135548568516_decimated_largest_piece_poisson_largest_inner.off\n",
      "1) Starting: Mesh importing and Pymesh fix\n",
      "loading mesh from vertices and triangles array\n",
      "1) Finished: Mesh importing and Pymesh fix: 0.00028705596923828125\n",
      "2) Staring: Generating CGAL segmentation for neuron\n",
      "Done writing OFF file\n",
      "\n",
      "Starting CGAL segmentation\n",
      "Right before cgal segmentation, clusters = 3, smoothness = 0.2, path_and_filename = /notebooks/Platinum_Decomp_Fusion/temp/86469113554856851600_fixed \n",
      "1\n",
      "Finished CGAL segmentation algorithm: 2.262708902359009\n",
      "2) Finished: Generating CGAL segmentation for neuron: 2.60469651222229\n",
      "3) Staring: Generating Graph Structure and Identifying Soma using soma size threshold  = 3000\n",
      "my_list_keys = [0, 1, 2, 3, 4, 5, 6, 7, 8, 9, 10]\n",
      "changed the median value\n",
      "changed the mean value\n",
      "changed the max value\n",
      "soma_index = 1\n",
      "3) Finished: Generating Graph Structure and Identifying Soma: 0.008025169372558594\n",
      "Not finding the apical because soma_only option selected\n",
      "6) Staring: Classifying Entire Neuron\n",
      "Total Labels found = {'soma', 'unsure'}\n",
      "6) Finished: Classifying Entire Neuron: 4.482269287109375e-05\n",
      "7) Staring: Transfering Segmentation Labels to Face Labels\n",
      "7) Finished: Transfering Segmentation Labels to Face Labels: 0.021224021911621094\n",
      "8) Staring: Generating final Vertex and Face Labels\n",
      "8) Finished: Generating final Vertex and Face Labels: 0.2278735637664795\n",
      "Returning the soma_sdf value AND the classifier\n",
      "soma_sdf_value = 0.848731\n",
      "segmentation[sorted_medians],median_values[sorted_medians] = (array([ 1,  5,  8,  3,  2,  9,  7,  6,  0, 10,  4]), array([0.848731  , 0.299497  , 0.178388  , 0.06392905, 0.05540815,\n",
      "       0.0527049 , 0.0524823 , 0.0519053 , 0.05173975, 0.049012  ,\n",
      "       0.0467932 ]))\n",
      "Sizes = [4344, 331, 132, 3990, 3288, 2013, 1240, 3793, 2528, 1456, 929]\n",
      "valid_soma_segments_width\n",
      "      ------ Found 1 viable somas: [1]\n",
      "Using Poisson Surface Reconstruction for watertightness in soma_volume_ratio\n",
      "xvfb-run -n 8646 -s \"-screen 0 800x600x24\" meshlabserver $@  -i /notebooks/Platinum_Decomp_Fusion/Poisson_temp/neuron_283512.off -o /notebooks/Platinum_Decomp_Fusion/Poisson_temp/neuron_283512_poisson.off -s /notebooks/Platinum_Decomp_Fusion/Poisson_temp/poisson_791056.mls\n",
      "removed temporary input file: /notebooks/Platinum_Decomp_Fusion/Poisson_temp/neuron_283512.off\n",
      "removed temporary output file: /notebooks/Platinum_Decomp_Fusion/Poisson_temp/neuron_283512_poisson.off\n",
      "mesh.is_watertight = True\n",
      "/notebooks/Platinum_Decomp_Fusion/Poisson_temp/poisson_791056.mls is being deleted....\n",
      "Inside sphere validater: ratio_val = 2.6141178927767426\n",
      "\n",
      "\n",
      "\n",
      " Total time for run = 118.60062456130981\n",
      "Before Filtering the number of somas found = 1\n",
      "Performing Soma Mesh Backtracking to original mesh\n",
      "# total split meshes = 12\n",
      "viable_meshes = [0]\n",
      "There were 11 pieces found after size threshold\n",
      "# of soma containing seperate meshes = 1\n",
      "meshes with somas = {0: [0]}\n",
      "\n",
      "\n",
      "----Working on soma-containing mesh piece 0----\n",
      "current_soma_mesh_list = [<trimesh.Trimesh(vertices.shape=(2209, 3), faces.shape=(4344, 3))>]\n",
      "current_mesh = <trimesh.Trimesh(vertices.shape=(191269, 3), faces.shape=(378525, 3))>\n",
      "\n",
      "inside Soma subtraction\n",
      "mesh pieces in subtact soma BEFORE the filtering inside pieces = [<trimesh.Trimesh(vertices.shape=(122248, 3), faces.shape=(241890, 3))>, <trimesh.Trimesh(vertices.shape=(23355, 3), faces.shape=(46192, 3))>, <trimesh.Trimesh(vertices.shape=(16468, 3), faces.shape=(32480, 3))>, <trimesh.Trimesh(vertices.shape=(12096, 3), faces.shape=(23917, 3))>, <trimesh.Trimesh(vertices.shape=(9190, 3), faces.shape=(18171, 3))>, <trimesh.Trimesh(vertices.shape=(3788, 3), faces.shape=(7526, 3))>]\n",
      "There were 6 pieces found after size threshold\n",
      "mesh pieces in subtact soma AFTER the filtering inside pieces = [<trimesh.Trimesh(vertices.shape=(122248, 3), faces.shape=(241890, 3))>, <trimesh.Trimesh(vertices.shape=(23355, 3), faces.shape=(46192, 3))>, <trimesh.Trimesh(vertices.shape=(16468, 3), faces.shape=(32480, 3))>, <trimesh.Trimesh(vertices.shape=(12096, 3), faces.shape=(23917, 3))>, <trimesh.Trimesh(vertices.shape=(9190, 3), faces.shape=(18171, 3))>, <trimesh.Trimesh(vertices.shape=(3788, 3), faces.shape=(7526, 3))>]\n",
      "Total Time for soma mesh cancellation = 0.727\n",
      "mesh_pieces_without_soma = [<trimesh.Trimesh(vertices.shape=(122248, 3), faces.shape=(241890, 3))>, <trimesh.Trimesh(vertices.shape=(23355, 3), faces.shape=(46192, 3))>, <trimesh.Trimesh(vertices.shape=(16468, 3), faces.shape=(32480, 3))>, <trimesh.Trimesh(vertices.shape=(12096, 3), faces.shape=(23917, 3))>, <trimesh.Trimesh(vertices.shape=(9190, 3), faces.shape=(18171, 3))>, <trimesh.Trimesh(vertices.shape=(3788, 3), faces.shape=(7526, 3))>]\n",
      "Total time for Subtract Soam = 0.7279155254364014\n",
      "mesh_pieces_without_soma_stacked = <trimesh.Trimesh(vertices.shape=(187145, 3), faces.shape=(370176, 3))>\n",
      "Total time for Original_mesh_faces_map for mesh_pieces without soma= 0.23024988174438477\n",
      "soma_faces = [109701 109702 109703 ... 183817 183818 183819]\n",
      "soma_meshes = <trimesh.Trimesh(vertices.shape=(4251, 3), faces.shape=(8349, 3))>\n",
      "poisson_backtrack_distance_threshold = None\n",
      "Using Poisson Surface Reconstruction for watertightness in soma_volume_ratio\n",
      "xvfb-run -n 1395 -s \"-screen 0 800x600x24\" meshlabserver $@  -i /notebooks/Platinum_Decomp_Fusion/Poisson_temp/neuron_889319.off -o /notebooks/Platinum_Decomp_Fusion/Poisson_temp/neuron_889319_poisson.off -s /notebooks/Platinum_Decomp_Fusion/Poisson_temp/poisson_53234.mls\n",
      "removed temporary input file: /notebooks/Platinum_Decomp_Fusion/Poisson_temp/neuron_889319.off\n",
      "removed temporary output file: /notebooks/Platinum_Decomp_Fusion/Poisson_temp/neuron_889319_poisson.off\n",
      "mesh.is_watertight = True\n",
      "/notebooks/Platinum_Decomp_Fusion/Poisson_temp/poisson_53234.mls is being deleted....\n",
      "Inside sphere validater: ratio_val = 2.898320107139027\n",
      "Soma List = [<trimesh.Trimesh(vertices.shape=(4251, 3), faces.shape=(8349, 3))>]\n",
      "soma_mesh_list_centers = [array([577248.53133381, 778008.04476594, 890132.63702658])]\n"
     ]
    }
   ],
   "source": [
    "# --- 1) Doing the soma detection\n",
    "if somas is None:\n",
    "    soma_mesh_list,run_time,total_soma_list_sdf = sm.extract_soma_center(segment_id,\n",
    "                                             current_neuron.vertices,\n",
    "                                             current_neuron.faces)\n",
    "else:\n",
    "    soma_mesh_list,run_time,total_soma_list_sdf = somas\n",
    "\n",
    "# geting the soma centers\n",
    "if len(soma_mesh_list) <= 0:\n",
    "    print(f\"**** No Somas Found for Mesh {segment_id} so just one mesh\")\n",
    "    soma_mesh_list_centers = []\n",
    "    if return_no_somas:\n",
    "        return_value= soma_mesh_list_centers\n",
    "    raise Exception(\"Processing of No Somas is not yet implemented yet\")\n",
    "else:\n",
    "    #compute the soma centers\n",
    "    print(f\"Soma List = {soma_mesh_list}\")\n",
    "\n",
    "    soma_mesh_list_centers = sm.find_soma_centroids(soma_mesh_list)\n",
    "    print(f\"soma_mesh_list_centers = {soma_mesh_list_centers}\")"
   ]
  },
  {
   "cell_type": "code",
   "execution_count": 10,
   "metadata": {},
   "outputs": [
    {
     "name": "stdout",
     "output_type": "stream",
     "text": [
      "# total split meshes = 35\n",
      "There were 34 pieces found after size threshold\n",
      "# of soma containing seperate meshes = 1\n",
      "meshes with somas = {0: [0]}\n"
     ]
    }
   ],
   "source": [
    "#--- 2) getting the soma submeshes that are connected to each soma and identifiying those that aren't (and eliminating any mesh pieces inside the soma)\n",
    "\n",
    "main_mesh_total = current_neuron\n",
    "\n",
    "\n",
    "#finding the mesh pieces that contain the soma\n",
    "#splitting the current neuron into distinct pieces\n",
    "split_meshes = tu.split_significant_pieces(\n",
    "                            main_mesh_total,\n",
    "                            significance_threshold=sig_th_initial_split,\n",
    "                            print_flag=False)\n",
    "\n",
    "print(f\"# total split meshes = {len(split_meshes)}\")\n",
    "\n",
    "\n",
    "#returns the index of the split_meshes index that contains each soma    \n",
    "containing_mesh_indices = sm.find_soma_centroid_containing_meshes(soma_mesh_list,\n",
    "                                        split_meshes)\n",
    "\n",
    "# filtering away any of the inside floating pieces: \n",
    "non_soma_touching_meshes = [m for i,m in enumerate(split_meshes)\n",
    "                 if i not in list(containing_mesh_indices.values())]\n",
    "\n",
    "\n",
    "#Adding the step that will filter away any pieces that are inside the soma\n",
    "if len(non_soma_touching_meshes) > 0 and len(soma_mesh_list) > 0:\n",
    "    \"\"\"\n",
    "    *** want to save these pieces that are inside of the soma***\n",
    "    \"\"\"\n",
    "\n",
    "    non_soma_touching_meshes,inside_pieces = sm.filter_away_inside_soma_pieces(soma_mesh_list,non_soma_touching_meshes,\n",
    "                                    significance_threshold=sig_th_initial_split,\n",
    "                                    return_inside_pieces = True)                                                      \n",
    "\n",
    "\n",
    "split_meshes # the meshes of the original mesh\n",
    "containing_mesh_indices #the mapping of each soma centroid to the correct split mesh\n",
    "soma_containing_meshes = sm.grouping_containing_mesh_indices(containing_mesh_indices)\n",
    "\n",
    "soma_touching_meshes = [split_meshes[k] for k in soma_containing_meshes.keys()]\n",
    "\n",
    "\n",
    "#     print(f\"# of non soma touching seperate meshes = {len(non_soma_touching_meshes)}\")\n",
    "#     print(f\"# of inside pieces = {len(inside_pieces)}\")\n",
    "print(f\"# of soma containing seperate meshes = {len(soma_touching_meshes)}\")\n",
    "print(f\"meshes with somas = {soma_containing_meshes}\")\n",
    "\n",
    "\n",
    "\n",
    "\n"
   ]
  },
  {
   "cell_type": "code",
   "execution_count": 11,
   "metadata": {},
   "outputs": [
    {
     "name": "stdout",
     "output_type": "stream",
     "text": [
      "\n",
      "\n",
      "----Working on soma-containing mesh piece 0----\n",
      "\n",
      "inside Soma subtraction\n",
      "mesh pieces in subtact soma BEFORE the filtering inside pieces = [<trimesh.Trimesh(vertices.shape=(442924, 3), faces.shape=(883241, 3))>, <trimesh.Trimesh(vertices.shape=(108008, 3), faces.shape=(215445, 3))>, <trimesh.Trimesh(vertices.shape=(75957, 3), faces.shape=(151431, 3))>, <trimesh.Trimesh(vertices.shape=(54061, 3), faces.shape=(107833, 3))>, <trimesh.Trimesh(vertices.shape=(42023, 3), faces.shape=(83820, 3))>, <trimesh.Trimesh(vertices.shape=(17933, 3), faces.shape=(35808, 3))>]\n",
      "There were 6 pieces found after size threshold\n",
      "mesh pieces in subtact soma AFTER the filtering inside pieces = [<trimesh.Trimesh(vertices.shape=(442924, 3), faces.shape=(883241, 3))>, <trimesh.Trimesh(vertices.shape=(108008, 3), faces.shape=(215445, 3))>, <trimesh.Trimesh(vertices.shape=(75957, 3), faces.shape=(151431, 3))>, <trimesh.Trimesh(vertices.shape=(54061, 3), faces.shape=(107833, 3))>, <trimesh.Trimesh(vertices.shape=(42023, 3), faces.shape=(83820, 3))>, <trimesh.Trimesh(vertices.shape=(17933, 3), faces.shape=(35808, 3))>]\n",
      "Total Time for soma mesh cancellation = 2.712\n",
      "Total time for Subtract Soam = 2.7123730182647705\n",
      "Total time for Original_mesh_faces_map for mesh_pieces without soma= 0.8494212627410889\n",
      "Total time for Original_mesh_faces_map for somas= 1.5306453704833984\n",
      "Total time for sig_non_soma_pieces= 1.5201876163482666\n",
      "Total time for split= 0.031095266342163086\n",
      "Total time for mesh_pieces_connectivity= 16.92821431159973\n",
      "# of insignificant_limbs = 0 with trimesh : []\n"
     ]
    }
   ],
   "source": [
    "tu = reload(tu)\n",
    "#--- 3)  Soma Extraction was great (but it wasn't the original soma faces), so now need to get the original soma faces and the original non-soma faces of original pieces\n",
    "\n",
    "#     sk.graph_skeleton_and_mesh(other_meshes=[soma_meshes])\n",
    "\n",
    "\"\"\"\n",
    "for each soma touching mesh get the following:\n",
    "1) original soma meshes\n",
    "2) significant mesh pieces touching these somas\n",
    "3) The soma connectivity to each of the significant mesh pieces\n",
    "-- later will just translate the \n",
    "\n",
    "\n",
    "Process: \n",
    "\n",
    "1) Final all soma faces (through soma extraction and then soma original faces function)\n",
    "2) Subtact all soma faces from original mesh\n",
    "3) Find all significant mesh pieces\n",
    "4) Backtrack significant mesh pieces to orignal mesh and find connectivity of each to all\n",
    "   the available somas\n",
    "Conclusion: Will have connectivity map\n",
    "\n",
    "\n",
    "\"\"\"\n",
    "\n",
    "soma_touching_mesh_data = dict()\n",
    "\n",
    "for z,(mesh_idx, soma_idxes) in enumerate(soma_containing_meshes.items()):\n",
    "    soma_touching_mesh_data[z] = dict()\n",
    "    print(f\"\\n\\n----Working on soma-containing mesh piece {z}----\")\n",
    "\n",
    "    #1) Final all soma faces (through soma extraction and then soma original faces function)\n",
    "    current_mesh = split_meshes[mesh_idx]\n",
    "\n",
    "    current_soma_mesh_list = [soma_mesh_list[k] for k in soma_idxes]\n",
    "\n",
    "    current_time = time.time()\n",
    "    mesh_pieces_without_soma = sm.subtract_soma(current_soma_mesh_list,current_mesh,\n",
    "                                                significance_threshold=250)\n",
    "    print(f\"Total time for Subtract Soam = {time.time() - current_time}\")\n",
    "    current_time = time.time()\n",
    "\n",
    "    mesh_pieces_without_soma_stacked = tu.combine_meshes(mesh_pieces_without_soma)\n",
    "\n",
    "    # find the original soma faces of mesh\n",
    "    soma_faces = tu.original_mesh_faces_map(current_mesh,mesh_pieces_without_soma_stacked,matching=False)\n",
    "    print(f\"Total time for Original_mesh_faces_map for mesh_pieces without soma= {time.time() - current_time}\")\n",
    "    current_time = time.time()\n",
    "    soma_meshes = current_mesh.submesh([soma_faces],append=True,repair=False)\n",
    "\n",
    "    # finding the non-soma original faces\n",
    "    non_soma_faces = tu.original_mesh_faces_map(current_mesh,soma_meshes,matching=False)\n",
    "    non_soma_stacked_mesh = current_mesh.submesh([non_soma_faces],append=True,repair=False)\n",
    "\n",
    "    print(f\"Total time for Original_mesh_faces_map for somas= {time.time() - current_time}\")\n",
    "    current_time = time.time()\n",
    "\n",
    "    # 3) Find all significant mesh pieces\n",
    "    sig_non_soma_pieces,insignificant_limbs = tu.split_significant_pieces(non_soma_stacked_mesh,significance_threshold=limb_threshold,\n",
    "                                                     return_insignificant_pieces=True)\n",
    "\n",
    "    print(f\"Total time for sig_non_soma_pieces= {time.time() - current_time}\")\n",
    "    current_time = time.time()\n",
    "\n",
    "    soma_touching_mesh_data[z][\"branch_meshes\"] = sig_non_soma_pieces\n",
    "\n",
    "    #4) Backtrack significant mesh pieces to orignal mesh and find connectivity of each to all the available somas\n",
    "    # get all the seperate mesh faces\n",
    "\n",
    "    #How to seperate the mesh faces\n",
    "    seperate_soma_meshes,soma_face_components = tu.split(soma_meshes,only_watertight=False)\n",
    "    #take the top largest ones depending how many were originally in the soma list\n",
    "    seperate_soma_meshes = seperate_soma_meshes[:len(soma_mesh_list)]\n",
    "    soma_face_components = soma_face_components[:len(soma_mesh_list)]\n",
    "\n",
    "    soma_touching_mesh_data[z][\"soma_meshes\"] = seperate_soma_meshes\n",
    "\n",
    "    print(f\"Total time for split= {time.time() - current_time}\")\n",
    "    current_time = time.time()\n",
    "\n",
    "\n",
    "\n",
    "    soma_to_piece_connectivity = dict()\n",
    "    soma_to_piece_touching_vertices = dict()\n",
    "    soma_to_piece_touching_vertices_idx = dict()\n",
    "    limb_root_nodes = dict()\n",
    "    \n",
    "    m_vert_graph = tu.mesh_vertex_graph(current_mesh)\n",
    "    \n",
    "    for i,curr_soma in enumerate(seperate_soma_meshes):\n",
    "        (connected_mesh_pieces,\n",
    "         connected_mesh_pieces_vertices,\n",
    "         connected_mesh_pieces_vertices_idx) = tu.mesh_pieces_connectivity(\n",
    "                        main_mesh=current_mesh,\n",
    "                        central_piece=curr_soma,\n",
    "                        periphery_pieces = sig_non_soma_pieces,\n",
    "                        return_vertices = True,\n",
    "                        return_vertices_idx=True)\n",
    "        #print(f\"soma {i}: connected_mesh_pieces = {connected_mesh_pieces}\")\n",
    "        soma_to_piece_connectivity[i] = connected_mesh_pieces\n",
    "\n",
    "        soma_to_piece_touching_vertices[i] = dict()\n",
    "        for piece_index,piece_idx in enumerate(connected_mesh_pieces):\n",
    "            limb_root_nodes[piece_idx] = connected_mesh_pieces_vertices[piece_index][0]\n",
    "            \n",
    "            \"\"\" Old way of finding vertex connected components on a mesh without trimesh function\n",
    "            #find the number of touching groups and save those \n",
    "            soma_touching_graph = m_vert_graph.subgraph(connected_mesh_pieces_vertices_idx[piece_index])\n",
    "            soma_con_comp = [current_mesh.vertices[np.array(list(k)).astype(\"int\")] for k in list(nx.connected_components(soma_touching_graph))]\n",
    "            soma_to_piece_touching_vertices[i][piece_idx] = soma_con_comp\n",
    "            \"\"\"\n",
    "            \n",
    "            soma_to_piece_touching_vertices[i][piece_idx] = tu.split_vertex_list_into_connected_components(\n",
    "                                                vertex_indices_list=connected_mesh_pieces_vertices_idx[piece_index],\n",
    "                                                mesh=current_mesh, \n",
    "                                                vertex_graph=m_vert_graph, \n",
    "                                                return_coordinates=True\n",
    "                                               )\n",
    "            \n",
    "            \n",
    "            \n",
    "            \n",
    "\n",
    "#         border_debug = False\n",
    "#         if border_debug:\n",
    "#             print(f\"soma_to_piece_connectivity = {soma_to_piece_connectivity}\")\n",
    "#             print(f\"soma_to_piece_touching_vertices = {soma_to_piece_touching_vertices}\")\n",
    "\n",
    "\n",
    "    print(f\"Total time for mesh_pieces_connectivity= {time.time() - current_time}\")\n",
    "\n",
    "    soma_touching_mesh_data[z][\"soma_to_piece_connectivity\"] = soma_to_piece_connectivity\n",
    "\n",
    "print(f\"# of insignificant_limbs = {len(insignificant_limbs)} with trimesh : {insignificant_limbs}\")\n",
    "\n",
    "\n",
    "\n",
    "# Lets have an alert if there was more than one soma disconnected meshes\n",
    "if len(soma_touching_mesh_data.keys()) > 1:\n",
    "    raise Exception(\"More than 1 disconnected meshes that contain somas\")\n",
    "\n",
    "current_mesh_data = soma_touching_mesh_data\n",
    "soma_containing_idx = 0\n",
    "\n",
    "#doing inversion of the connectivity and touching vertices\n",
    "piece_to_soma_touching_vertices = gu.flip_key_orders_for_dict(soma_to_piece_touching_vertices)\n",
    "\n",
    "\n",
    "# ****Soma Touching mesh Data has the branches and the connectivity (So this is where you end up skipping if you don't have somas)***"
   ]
  },
  {
   "cell_type": "markdown",
   "metadata": {},
   "source": [
    "# Process that will start for each limb"
   ]
  },
  {
   "cell_type": "code",
   "execution_count": 12,
   "metadata": {},
   "outputs": [],
   "source": [
    "import preprocessing_vp2 as pre\n",
    "from copy import deepcopy"
   ]
  },
  {
   "cell_type": "code",
   "execution_count": 13,
   "metadata": {
    "scrolled": true
   },
   "outputs": [
    {
     "name": "stdout",
     "output_type": "stream",
     "text": [
      "\n",
      "\n",
      "----- Working on Proper Limb #0 ---------\n",
      "Time for preparing soma vertices and root: 0.00015306472778320312\n",
      "smooth_neighborhood = 1\n"
     ]
    },
    {
     "name": "stderr",
     "output_type": "stream",
     "text": [
      "\r",
      "  0%|          | 0/1 [00:00<?, ?it/s]"
     ]
    },
    {
     "data": {
      "application/vnd.jupyter.widget-view+json": {
       "model_id": "8accee9726ca46df8768da37e2ce3567",
       "version_major": 2,
       "version_minor": 0
      },
      "text/plain": [
       "HBox(children=(FloatProgress(value=0.0, max=442923.0), HTML(value='')))"
      ]
     },
     "metadata": {},
     "output_type": "display_data"
    },
    {
     "name": "stderr",
     "output_type": "stream",
     "text": [
      "100%|██████████| 1/1 [01:38<00:00, 98.12s/it]"
     ]
    },
    {
     "name": "stdout",
     "output_type": "stream",
     "text": [
      "\n"
     ]
    },
    {
     "name": "stderr",
     "output_type": "stream",
     "text": [
      "\n"
     ]
    },
    {
     "name": "stdout",
     "output_type": "stream",
     "text": [
      "Time for 1st pass MP skeletonization: 102.29616260528564\n"
     ]
    },
    {
     "name": "stderr",
     "output_type": "stream",
     "text": [
      "/meshAfterParty/meshparty_skeletonize.py:867: VisibleDeprecationWarning: Creating an ndarray from ragged nested sequences (which is a list-or-tuple of lists-or-tuples-or ndarrays with different lengths or shapes) is deprecated. If you meant to do this, you must specify 'dtype=object' when creating the ndarray\n",
      "  segment_branches = np.array([sk_meshparty_obj.vertices[np.vstack([k[:-1],k[1:]]).T] for k in segments])\n"
     ]
    },
    {
     "name": "stdout",
     "output_type": "stream",
     "text": [
      "branches_touching_root = [12]\n"
     ]
    },
    {
     "name": "stderr",
     "output_type": "stream",
     "text": [
      "/meshAfterParty/meshparty_skeletonize.py:928: VisibleDeprecationWarning: Creating an ndarray from ragged nested sequences (which is a list-or-tuple of lists-or-tuples-or ndarrays with different lengths or shapes) is deprecated. If you meant to do this, you must specify 'dtype=object' when creating the ndarray\n",
      "  segment_branches = np.array(new_segment_branches)\n"
     ]
    },
    {
     "name": "stdout",
     "output_type": "stream",
     "text": [
      "empty_indices % = 0.0\n",
      " conflict_indices % = 0.011054740438906255\n"
     ]
    },
    {
     "name": "stderr",
     "output_type": "stream",
     "text": [
      "/meshAfterParty/trimesh_utils.py:314: VisibleDeprecationWarning: Creating an ndarray from ragged nested sequences (which is a list-or-tuple of lists-or-tuples-or ndarrays with different lengths or shapes) is deprecated. If you meant to do this, you must specify 'dtype=object' when creating the ndarray\n",
      "  ordered_comp_indices = np.array([k.astype(\"int\") for k in ordered_components])\n"
     ]
    },
    {
     "data": {
      "application/vnd.jupyter.widget-view+json": {
       "model_id": "1d37335edeed49f184aef561ac634017",
       "version_major": 2,
       "version_minor": 0
      },
      "text/plain": [
       "HBox(children=(FloatProgress(value=0.0, max=212.0), HTML(value='')))"
      ]
     },
     "metadata": {},
     "output_type": "display_data"
    },
    {
     "name": "stdout",
     "output_type": "stream",
     "text": [
      "\n",
      "AFTER face_lookup_resolved_test\n"
     ]
    },
    {
     "data": {
      "application/vnd.jupyter.widget-view+json": {
       "model_id": "dd3e9679eee149d094d3b81dd9260292",
       "version_major": 2,
       "version_minor": 0
      },
      "text/plain": [
       "HBox(children=(FloatProgress(value=0.0, max=451.0), HTML(value='')))"
      ]
     },
     "metadata": {},
     "output_type": "display_data"
    },
    {
     "name": "stdout",
     "output_type": "stream",
     "text": [
      "\n",
      "Decomposing first pass: 25.593816995620728\n",
      "Found len(mesh_large_idx) MAP candidates: [462, 7012, 975, 4301, 4256, 356, 2926, 665, 41, 4425, 773, 27, 100, 26, 150, 3581, 1129, 21]\n"
     ]
    },
    {
     "name": "stderr",
     "output_type": "stream",
     "text": [
      "/meshAfterParty/trimesh_utils.py:965: VisibleDeprecationWarning: Creating an ndarray from ragged nested sequences (which is a list-or-tuple of lists-or-tuples-or ndarrays with different lengths or shapes) is deprecated. If you meant to do this, you must specify 'dtype=object' when creating the ndarray\n",
      "  total_submeshes_idx =np.array(list(total_submeshes_idx.values()))\n"
     ]
    },
    {
     "name": "stdout",
     "output_type": "stream",
     "text": [
      "mesh_large_connectivity: 0.6445603370666504\n",
      "Finding MAP candidates connected components: 0.0003228187561035156\n",
      "len(filtered_pieces) = 5\n",
      "skeleton_connectivity_MP : 3.9799554347991943\n",
      "Grouping MP Sublimbs by Graph: 0.7061593532562256\n",
      "Divinding into MP and MAP pieces: 2.1457672119140625e-06\n",
      "--- Working on MAP piece 0---\n",
      "MAP Filtering Soma Pieces: 0.004484415054321289\n",
      "inside skeletonize_connected_branch and use_surface_after_CGAL=False\n",
      "     Starting Screened Poisson\n",
      "xvfb-run -n 1567 -s \"-screen 0 800x600x24\" meshlabserver $@  -i /notebooks/Platinum_Decomp_Fusion/temp/None.off -o /notebooks/Platinum_Decomp_Fusion/temp/None_poisson.off -s /notebooks/Platinum_Decomp_Fusion/temp/poisson_916631.mls\n",
      "removed temporary input file: /notebooks/Platinum_Decomp_Fusion/temp/None.off\n",
      "removed temporary output file: /notebooks/Platinum_Decomp_Fusion/temp/None_poisson.off\n",
      "Using the close holes feature\n",
      "xvfb-run -n 5387 -s \"-screen 0 800x600x24\" meshlabserver $@  -i /notebooks/Platinum_Decomp_Fusion/temp/neuron_79893.off -o /notebooks/Platinum_Decomp_Fusion/temp/neuron_79893_fill_holes.off -s /notebooks/Platinum_Decomp_Fusion/temp/fill_holes_984671.mls\n",
      "removed temporary input file: /notebooks/Platinum_Decomp_Fusion/temp/neuron_79893.off\n",
      "removed temporary output file: /notebooks/Platinum_Decomp_Fusion/temp/neuron_79893_fill_holes.off\n",
      "-----Time for Screened Poisson= 7.6717445850372314\n",
      "     Starting Calcification\n",
      "Before mesh subtraction number of skeleton edges = 103\n",
      "Inside mesh subtraction, len(main_mesh_bbox_restricted.faces) = 8400\n"
     ]
    },
    {
     "data": {
      "application/vnd.jupyter.widget-view+json": {
       "model_id": "9e08c78cda5e496d9d119210c2bc4108",
       "version_major": 2,
       "version_minor": 0
      },
      "text/plain": [
       "HBox(children=(FloatProgress(value=1.0, bar_style='info', layout=Layout(width='20px'), max=1.0), HTML(value=''…"
      ]
     },
     "metadata": {},
     "output_type": "display_data"
    },
    {
     "name": "stdout",
     "output_type": "stream",
     "text": [
      "\n",
      "Total Mesh subtraction time = 0.4959\n"
     ]
    },
    {
     "data": {
      "application/vnd.jupyter.widget-view+json": {
       "model_id": "81368c015ec0484192ff25747c85cb21",
       "version_major": 2,
       "version_minor": 0
      },
      "text/plain": [
       "HBox(children=(FloatProgress(value=1.0, bar_style='info', layout=Layout(width='20px'), max=1.0), HTML(value=''…"
      ]
     },
     "metadata": {},
     "output_type": "display_data"
    },
    {
     "name": "stdout",
     "output_type": "stream",
     "text": [
      "\n",
      "No skeletons to stack so returning empty list\n",
      "len_subgraphs AT BEGINNING of the loop\n"
     ]
    },
    {
     "data": {
      "application/vnd.jupyter.widget-view+json": {
       "model_id": "ca1fc1a7fb6540a7b508808bf99a5d6d",
       "version_major": 2,
       "version_minor": 0
      },
      "text/plain": [
       "HBox(children=(FloatProgress(value=0.0, max=1.0), HTML(value='')))"
      ]
     },
     "metadata": {},
     "output_type": "display_data"
    },
    {
     "name": "stdout",
     "output_type": "stream",
     "text": [
      "all graph is one component!\n",
      "\n",
      "Total time for skeleton stitching = 0.023975133895874023\n",
      "The process was using a temp folder\n",
      "    Total time for skeletonizing branch: 8.91039490699768\n",
      "Adding new branch to skeleton\n",
      "    Total time for Fixing Skeleton Soma Endpoint Extension : 0.3203606605529785\n",
      "filter_end_node_length = 4001\n",
      "Using Distance measure skeletal_distance\n",
      "Going to ignore certain endnodes that are 5000 nm close to soma border vertices\n",
      "Number of end_nodes BEFORE filtering = 4\n",
      "Using an already specified end node: 45 with index 2checking was correct node end_nodes[index] = 45\n",
      "May Eliminate end_node 1: 43 because path_len to soma border was 1687.7328569551169\n",
      "May Eliminate end_node 2: 45 because path_len to soma border was 893.3961492693685\n",
      "single_node_to_eliminate = 2\n",
      "all_single_nodes_to_eliminate = [2, 2]\n"
     ]
    },
    {
     "data": {
      "application/vnd.jupyter.widget-view+json": {
       "model_id": "ae259e69e106402f9bde4f61b1d02729",
       "version_major": 2,
       "version_minor": 0
      },
      "text/plain": [
       "HBox(children=(FloatProgress(value=0.0, max=2.0), HTML(value='')))"
      ]
     },
     "metadata": {},
     "output_type": "display_data"
    },
    {
     "name": "stdout",
     "output_type": "stream",
     "text": [
      "\n",
      "********COMBINING CLOSE SKELETON NODES WITHIN 700 DISTANCE**********\n",
      "Found 0 valid paths to replace\n",
      "valid_paths = []\n",
      "valid_path_lengths = []\n",
      "No valid paths found so just returning the original\n",
      "skeletonize_and_clean_connected_branch_CGAL: 9.361353158950806\n",
      "Working on limb correspondence for #0 MAP piece\n"
     ]
    },
    {
     "data": {
      "application/vnd.jupyter.widget-view+json": {
       "model_id": "6dbca03407424471b7c2fe9c8da9c66a",
       "version_major": 2,
       "version_minor": 0
      },
      "text/plain": [
       "HBox(children=(FloatProgress(value=1.0, bar_style='info', layout=Layout(width='20px'), max=1.0), HTML(value=''…"
      ]
     },
     "metadata": {},
     "output_type": "display_data"
    },
    {
     "name": "stdout",
     "output_type": "stream",
     "text": [
      "\n",
      "Total time for decomposition = 0.7037904262542725\n",
      "mesh_correspondence_first_pass: 0.7038216590881348\n",
      "Limb decomposed into 1 branches\n",
      "divided_skeleton_graph_recovered = (101, 2, 3) and \n",
      "current_mesh_data[0]['branch_skeletons_cleaned'].shape = (101, 2, 3)\n",
      "\n",
      "Number of connected components in deocmposed recovered graph = 1\n",
      "Number of connected components in cleaned skeleton graph= 1\n",
      "The downsampled branches number of connected components = 1\n",
      "Empty submeshes = []\n",
      "\n",
      "\n",
      "--- Working on 1-to-1 correspondence-----\n",
      "max(original_labels),len(original_labels) = (0, 1)\n",
      "empty_indices % = 0.024026512013256007\n",
      " conflict_indices % = 0.0\n"
     ]
    },
    {
     "data": {
      "application/vnd.jupyter.widget-view+json": {
       "model_id": "94138f2b2a1f4ddf967c6f7986f837b5",
       "version_major": 2,
       "version_minor": 0
      },
      "text/plain": [
       "HBox(children=(FloatProgress(value=0.0, max=2.0), HTML(value='')))"
      ]
     },
     "metadata": {},
     "output_type": "display_data"
    },
    {
     "name": "stdout",
     "output_type": "stream",
     "text": [
      "\n",
      "AFTER face_lookup_resolved_test\n",
      "Took 0 iterations to expand the label back\n"
     ]
    },
    {
     "data": {
      "application/vnd.jupyter.widget-view+json": {
       "model_id": "17a2980034794307961657bdca702363",
       "version_major": 2,
       "version_minor": 0
      },
      "text/plain": [
       "HBox(children=(FloatProgress(value=0.0, max=1.0), HTML(value='')))"
      ]
     },
     "metadata": {},
     "output_type": "display_data"
    },
    {
     "name": "stdout",
     "output_type": "stream",
     "text": [
      "\n",
      "Total time for MAP sublimb #0 mesh processing = 10.292115926742554\n",
      "correspondence_1_to_1: 0.2224266529083252\n",
      "--- Working on MAP piece 1---\n",
      "MAP Filtering Soma Pieces: 0.0044252872467041016\n",
      "inside skeletonize_connected_branch and use_surface_after_CGAL=False\n",
      "     Starting Screened Poisson\n",
      "xvfb-run -n 7593 -s \"-screen 0 800x600x24\" meshlabserver $@  -i /notebooks/Platinum_Decomp_Fusion/temp/None.off -o /notebooks/Platinum_Decomp_Fusion/temp/None_poisson.off -s /notebooks/Platinum_Decomp_Fusion/temp/poisson_938686.mls\n",
      "removed temporary input file: /notebooks/Platinum_Decomp_Fusion/temp/None.off\n",
      "removed temporary output file: /notebooks/Platinum_Decomp_Fusion/temp/None_poisson.off\n",
      "Using the close holes feature\n",
      "xvfb-run -n 959 -s \"-screen 0 800x600x24\" meshlabserver $@  -i /notebooks/Platinum_Decomp_Fusion/temp/neuron_93740.off -o /notebooks/Platinum_Decomp_Fusion/temp/neuron_93740_fill_holes.off -s /notebooks/Platinum_Decomp_Fusion/temp/fill_holes_700725.mls\n",
      "removed temporary input file: /notebooks/Platinum_Decomp_Fusion/temp/neuron_93740.off\n",
      "removed temporary output file: /notebooks/Platinum_Decomp_Fusion/temp/neuron_93740_fill_holes.off\n",
      "-----Time for Screened Poisson= 7.892151832580566\n",
      "     Starting Calcification\n",
      "Before mesh subtraction number of skeleton edges = 124\n",
      "Inside mesh subtraction, len(main_mesh_bbox_restricted.faces) = 8557\n"
     ]
    },
    {
     "data": {
      "application/vnd.jupyter.widget-view+json": {
       "model_id": "485b198785d048c0abd29174fb531996",
       "version_major": 2,
       "version_minor": 0
      },
      "text/plain": [
       "HBox(children=(FloatProgress(value=1.0, bar_style='info', layout=Layout(width='20px'), max=1.0), HTML(value=''…"
      ]
     },
     "metadata": {},
     "output_type": "display_data"
    },
    {
     "name": "stdout",
     "output_type": "stream",
     "text": [
      "\n",
      "Total Mesh subtraction time = 0.5732\n"
     ]
    },
    {
     "data": {
      "application/vnd.jupyter.widget-view+json": {
       "model_id": "fd490efd98a940c4b986af272a3806f4",
       "version_major": 2,
       "version_minor": 0
      },
      "text/plain": [
       "HBox(children=(FloatProgress(value=1.0, bar_style='info', layout=Layout(width='20px'), max=1.0), HTML(value=''…"
      ]
     },
     "metadata": {},
     "output_type": "display_data"
    },
    {
     "name": "stdout",
     "output_type": "stream",
     "text": [
      "\n",
      "No skeletons to stack so returning empty list\n",
      "len_subgraphs AT BEGINNING of the loop\n"
     ]
    },
    {
     "data": {
      "application/vnd.jupyter.widget-view+json": {
       "model_id": "7d7ee1e8c28e49cc8940fc86707142ec",
       "version_major": 2,
       "version_minor": 0
      },
      "text/plain": [
       "HBox(children=(FloatProgress(value=0.0, max=1.0), HTML(value='')))"
      ]
     },
     "metadata": {},
     "output_type": "display_data"
    },
    {
     "name": "stdout",
     "output_type": "stream",
     "text": [
      "all graph is one component!\n",
      "\n",
      "Total time for skeleton stitching = 0.02447986602783203\n",
      "The process was using a temp folder\n",
      "    Total time for skeletonizing branch: 9.331249237060547\n",
      "    Total time for Fixing Skeleton Soma Endpoint Extension : 1.9073486328125e-06\n",
      "filter_end_node_length = 4001\n",
      "Using Distance measure skeletal_distance\n",
      "Going to ignore certain endnodes that are 5000 nm close to soma border vertices\n",
      "Number of end_nodes BEFORE filtering = 4\n",
      "May Eliminate end_node 1: 36 because path_len to soma border was 977.1442169725992\n",
      "single_node_to_eliminate = 1\n",
      "all_single_nodes_to_eliminate = [1]\n"
     ]
    },
    {
     "data": {
      "application/vnd.jupyter.widget-view+json": {
       "model_id": "36d702aa46174a0786941ce3a54d6e3d",
       "version_major": 2,
       "version_minor": 0
      },
      "text/plain": [
       "HBox(children=(FloatProgress(value=0.0, max=2.0), HTML(value='')))"
      ]
     },
     "metadata": {},
     "output_type": "display_data"
    },
    {
     "name": "stdout",
     "output_type": "stream",
     "text": [
      "\n",
      "after DISTANCE cleaning limb size of skeleton = (121, 2, 3)\n",
      "********COMBINING CLOSE SKELETON NODES WITHIN 700 DISTANCE**********\n",
      "Found 0 valid paths to replace\n",
      "valid_paths = []\n",
      "valid_path_lengths = []\n",
      "No valid paths found so just returning the original\n",
      "skeletonize_and_clean_connected_branch_CGAL: 9.533252239227295\n",
      "Working on limb correspondence for #1 MAP piece\n"
     ]
    },
    {
     "data": {
      "application/vnd.jupyter.widget-view+json": {
       "model_id": "c95f5b28deac4dd98a7f39e60ab06353",
       "version_major": 2,
       "version_minor": 0
      },
      "text/plain": [
       "HBox(children=(FloatProgress(value=1.0, bar_style='info', layout=Layout(width='20px'), max=1.0), HTML(value=''…"
      ]
     },
     "metadata": {},
     "output_type": "display_data"
    },
    {
     "name": "stdout",
     "output_type": "stream",
     "text": [
      "\n",
      "Total time for decomposition = 0.7848236560821533\n",
      "mesh_correspondence_first_pass: 0.7848706245422363\n",
      "Limb decomposed into 1 branches\n",
      "divided_skeleton_graph_recovered = (121, 2, 3) and \n",
      "current_mesh_data[0]['branch_skeletons_cleaned'].shape = (121, 2, 3)\n",
      "\n",
      "Number of connected components in deocmposed recovered graph = 1\n",
      "Number of connected components in cleaned skeleton graph= 1\n",
      "The downsampled branches number of connected components = 1\n",
      "Empty submeshes = []\n",
      "\n",
      "\n",
      "--- Working on 1-to-1 correspondence-----\n",
      "max(original_labels),len(original_labels) = (0, 1)\n",
      "empty_indices % = 0.0026878578941217715\n",
      " conflict_indices % = 0.0\n"
     ]
    },
    {
     "data": {
      "application/vnd.jupyter.widget-view+json": {
       "model_id": "7cfaefae63a74cb29fc0f9a44dc7e3ce",
       "version_major": 2,
       "version_minor": 0
      },
      "text/plain": [
       "HBox(children=(FloatProgress(value=0.0, max=2.0), HTML(value='')))"
      ]
     },
     "metadata": {},
     "output_type": "display_data"
    },
    {
     "name": "stdout",
     "output_type": "stream",
     "text": [
      "\n",
      "AFTER face_lookup_resolved_test\n"
     ]
    },
    {
     "data": {
      "application/vnd.jupyter.widget-view+json": {
       "model_id": "fdef6aeb9666457ab8e2d53cc8aabb43",
       "version_major": 2,
       "version_minor": 0
      },
      "text/plain": [
       "HBox(children=(FloatProgress(value=0.0, max=1.0), HTML(value='')))"
      ]
     },
     "metadata": {},
     "output_type": "display_data"
    },
    {
     "name": "stdout",
     "output_type": "stream",
     "text": [
      "\n",
      "Total time for MAP sublimb #1 mesh processing = 10.47190260887146\n",
      "correspondence_1_to_1: 0.14931011199951172\n",
      "--- Working on MAP piece 2---\n",
      "MAP Filtering Soma Pieces: 0.0033974647521972656\n",
      "inside skeletonize_connected_branch and use_surface_after_CGAL=False\n",
      "     Starting Screened Poisson\n",
      "xvfb-run -n 6494 -s \"-screen 0 800x600x24\" meshlabserver $@  -i /notebooks/Platinum_Decomp_Fusion/temp/None.off -o /notebooks/Platinum_Decomp_Fusion/temp/None_poisson.off -s /notebooks/Platinum_Decomp_Fusion/temp/poisson_607467.mls\n",
      "removed temporary input file: /notebooks/Platinum_Decomp_Fusion/temp/None.off\n",
      "removed temporary output file: /notebooks/Platinum_Decomp_Fusion/temp/None_poisson.off\n",
      "Using the close holes feature\n",
      "xvfb-run -n 4197 -s \"-screen 0 800x600x24\" meshlabserver $@  -i /notebooks/Platinum_Decomp_Fusion/temp/neuron_4459.off -o /notebooks/Platinum_Decomp_Fusion/temp/neuron_4459_fill_holes.off -s /notebooks/Platinum_Decomp_Fusion/temp/fill_holes_119875.mls\n",
      "removed temporary input file: /notebooks/Platinum_Decomp_Fusion/temp/neuron_4459.off\n",
      "removed temporary output file: /notebooks/Platinum_Decomp_Fusion/temp/neuron_4459_fill_holes.off\n",
      "-----Time for Screened Poisson= 6.053247690200806\n",
      "     Starting Calcification\n",
      "Before mesh subtraction number of skeleton edges = 21\n",
      "Inside mesh subtraction, len(main_mesh_bbox_restricted.faces) = 666\n"
     ]
    },
    {
     "data": {
      "application/vnd.jupyter.widget-view+json": {
       "model_id": "95589d8dcf1d4c289d7dfdef6ca73964",
       "version_major": 2,
       "version_minor": 0
      },
      "text/plain": [
       "HBox(children=(FloatProgress(value=1.0, bar_style='info', layout=Layout(width='20px'), max=1.0), HTML(value=''…"
      ]
     },
     "metadata": {},
     "output_type": "display_data"
    },
    {
     "name": "stdout",
     "output_type": "stream",
     "text": [
      "\n",
      "Total Mesh subtraction time = 0.132\n"
     ]
    },
    {
     "data": {
      "application/vnd.jupyter.widget-view+json": {
       "model_id": "b3a51996960646208802b81e59a322d5",
       "version_major": 2,
       "version_minor": 0
      },
      "text/plain": [
       "HBox(children=(FloatProgress(value=1.0, bar_style='info', layout=Layout(width='20px'), max=1.0), HTML(value=''…"
      ]
     },
     "metadata": {},
     "output_type": "display_data"
    },
    {
     "name": "stdout",
     "output_type": "stream",
     "text": [
      "\n",
      "No skeletons to stack so returning empty list\n",
      "len_subgraphs AT BEGINNING of the loop\n"
     ]
    },
    {
     "data": {
      "application/vnd.jupyter.widget-view+json": {
       "model_id": "784b7a1b942c4dcd948dab1d5a80ca3d",
       "version_major": 2,
       "version_minor": 0
      },
      "text/plain": [
       "HBox(children=(FloatProgress(value=0.0, max=1.0), HTML(value='')))"
      ]
     },
     "metadata": {},
     "output_type": "display_data"
    },
    {
     "name": "stdout",
     "output_type": "stream",
     "text": [
      "all graph is one component!\n",
      "\n",
      "Total time for skeleton stitching = 0.021149873733520508\n",
      "The process was using a temp folder\n",
      "    Total time for skeletonizing branch: 6.594582557678223\n",
      "    Total time for Fixing Skeleton Soma Endpoint Extension : 1.6689300537109375e-06\n",
      "filter_end_node_length = 4001\n",
      "Using Distance measure skeletal_distance\n",
      "Going to ignore certain endnodes that are 5000 nm close to soma border vertices\n",
      "Number of end_nodes BEFORE filtering = 2\n",
      "May Eliminate end_node 0: 0 because path_len to soma border was 1655.8772257137316\n",
      "single_node_to_eliminate = 0\n",
      "all_single_nodes_to_eliminate = [0]\n",
      "no small end nodes to get rid of so returning whole skeleton\n",
      "after DISTANCE cleaning limb size of skeleton = (20, 2, 3)\n",
      "********COMBINING CLOSE SKELETON NODES WITHIN 700 DISTANCE**********\n",
      "Found 0 valid paths to replace\n",
      "valid_paths = []\n",
      "valid_path_lengths = []\n",
      "No valid paths found so just returning the original\n",
      "skeletonize_and_clean_connected_branch_CGAL: 6.682904005050659\n",
      "Working on limb correspondence for #2 MAP piece\n"
     ]
    },
    {
     "data": {
      "application/vnd.jupyter.widget-view+json": {
       "model_id": "57de8791ab81445087dff0cf859443ba",
       "version_major": 2,
       "version_minor": 0
      },
      "text/plain": [
       "HBox(children=(FloatProgress(value=1.0, bar_style='info', layout=Layout(width='20px'), max=1.0), HTML(value=''…"
      ]
     },
     "metadata": {},
     "output_type": "display_data"
    },
    {
     "name": "stdout",
     "output_type": "stream",
     "text": [
      "\n",
      "Total time for decomposition = 0.17285490036010742\n",
      "mesh_correspondence_first_pass: 0.17290449142456055\n",
      "Limb decomposed into 1 branches\n",
      "divided_skeleton_graph_recovered = (20, 2, 3) and \n",
      "current_mesh_data[0]['branch_skeletons_cleaned'].shape = (20, 2, 3)\n",
      "\n",
      "Number of connected components in deocmposed recovered graph = 1\n",
      "Number of connected components in cleaned skeleton graph= 1\n",
      "The downsampled branches number of connected components = 1\n",
      "Empty submeshes = []\n",
      "\n",
      "\n",
      "--- Working on 1-to-1 correspondence-----\n",
      "max(original_labels),len(original_labels) = (0, 1)\n",
      "empty_indices % = 0.41968557758031444\n",
      " conflict_indices % = 0.0\n"
     ]
    },
    {
     "data": {
      "application/vnd.jupyter.widget-view+json": {
       "model_id": "a1d9fd26fea8408584f089ab16459bb4",
       "version_major": 2,
       "version_minor": 0
      },
      "text/plain": [
       "HBox(children=(FloatProgress(value=0.0, max=2.0), HTML(value='')))"
      ]
     },
     "metadata": {},
     "output_type": "display_data"
    },
    {
     "name": "stdout",
     "output_type": "stream",
     "text": [
      "\n",
      "AFTER face_lookup_resolved_test\n"
     ]
    },
    {
     "data": {
      "application/vnd.jupyter.widget-view+json": {
       "model_id": "0dd497a8b7a6414f8d8cb4e156fe7b28",
       "version_major": 2,
       "version_minor": 0
      },
      "text/plain": [
       "HBox(children=(FloatProgress(value=0.0, max=1.0), HTML(value='')))"
      ]
     },
     "metadata": {},
     "output_type": "display_data"
    },
    {
     "name": "stdout",
     "output_type": "stream",
     "text": [
      "\n",
      "Total time for MAP sublimb #2 mesh processing = 6.956022024154663\n",
      "correspondence_1_to_1: 0.09679126739501953\n",
      "--- Working on MAP piece 3---\n",
      "MAP Filtering Soma Pieces: 0.002672910690307617\n",
      "inside skeletonize_connected_branch and use_surface_after_CGAL=False\n",
      "     Starting Screened Poisson\n",
      "xvfb-run -n 2263 -s \"-screen 0 800x600x24\" meshlabserver $@  -i /notebooks/Platinum_Decomp_Fusion/temp/None.off -o /notebooks/Platinum_Decomp_Fusion/temp/None_poisson.off -s /notebooks/Platinum_Decomp_Fusion/temp/poisson_431631.mls\n",
      "removed temporary input file: /notebooks/Platinum_Decomp_Fusion/temp/None.off\n",
      "removed temporary output file: /notebooks/Platinum_Decomp_Fusion/temp/None_poisson.off\n",
      "Using the close holes feature\n",
      "xvfb-run -n 1751 -s \"-screen 0 800x600x24\" meshlabserver $@  -i /notebooks/Platinum_Decomp_Fusion/temp/neuron_47436.off -o /notebooks/Platinum_Decomp_Fusion/temp/neuron_47436_fill_holes.off -s /notebooks/Platinum_Decomp_Fusion/temp/fill_holes_749406.mls\n",
      "removed temporary input file: /notebooks/Platinum_Decomp_Fusion/temp/neuron_47436.off\n",
      "removed temporary output file: /notebooks/Platinum_Decomp_Fusion/temp/neuron_47436_fill_holes.off\n",
      "-----Time for Screened Poisson= 6.965655088424683\n",
      "     Starting Calcification\n",
      "Before mesh subtraction number of skeleton edges = 56\n",
      "Inside mesh subtraction, len(main_mesh_bbox_restricted.faces) = 4425\n"
     ]
    },
    {
     "data": {
      "application/vnd.jupyter.widget-view+json": {
       "model_id": "aaf2ccbd5ac84c6c80cad5bc9e799c1c",
       "version_major": 2,
       "version_minor": 0
      },
      "text/plain": [
       "HBox(children=(FloatProgress(value=1.0, bar_style='info', layout=Layout(width='20px'), max=1.0), HTML(value=''…"
      ]
     },
     "metadata": {},
     "output_type": "display_data"
    },
    {
     "name": "stdout",
     "output_type": "stream",
     "text": [
      "\n",
      "Total Mesh subtraction time = 0.2778\n"
     ]
    },
    {
     "data": {
      "application/vnd.jupyter.widget-view+json": {
       "model_id": "1d609a4978c44954b289223a4c3ab846",
       "version_major": 2,
       "version_minor": 0
      },
      "text/plain": [
       "HBox(children=(FloatProgress(value=1.0, bar_style='info', layout=Layout(width='20px'), max=1.0), HTML(value=''…"
      ]
     },
     "metadata": {},
     "output_type": "display_data"
    },
    {
     "name": "stdout",
     "output_type": "stream",
     "text": [
      "\n",
      "No skeletons to stack so returning empty list\n",
      "len_subgraphs AT BEGINNING of the loop\n"
     ]
    },
    {
     "data": {
      "application/vnd.jupyter.widget-view+json": {
       "model_id": "f42e2d94abf3451a985d669eb5962241",
       "version_major": 2,
       "version_minor": 0
      },
      "text/plain": [
       "HBox(children=(FloatProgress(value=0.0, max=1.0), HTML(value='')))"
      ]
     },
     "metadata": {},
     "output_type": "display_data"
    },
    {
     "name": "stdout",
     "output_type": "stream",
     "text": [
      "all graph is one component!\n",
      "\n",
      "Total time for skeleton stitching = 0.022345542907714844\n",
      "The process was using a temp folder\n",
      "    Total time for skeletonizing branch: 7.706263542175293\n",
      "    Total time for Fixing Skeleton Soma Endpoint Extension : 1.9073486328125e-06\n",
      "filter_end_node_length = 4001\n",
      "Using Distance measure skeletal_distance\n",
      "Going to ignore certain endnodes that are 5000 nm close to soma border vertices\n",
      "Number of end_nodes BEFORE filtering = 3\n",
      "May Eliminate end_node 2: 55 because path_len to soma border was 813.4446485919609\n",
      "single_node_to_eliminate = 2\n",
      "all_single_nodes_to_eliminate = [2]\n"
     ]
    },
    {
     "data": {
      "application/vnd.jupyter.widget-view+json": {
       "model_id": "2323b9fc220f4103a34b9faf0bdc8019",
       "version_major": 2,
       "version_minor": 0
      },
      "text/plain": [
       "HBox(children=(FloatProgress(value=0.0, max=1.0), HTML(value='')))"
      ]
     },
     "metadata": {},
     "output_type": "display_data"
    },
    {
     "name": "stdout",
     "output_type": "stream",
     "text": [
      "\n",
      "after DISTANCE cleaning limb size of skeleton = (53, 2, 3)\n",
      "********COMBINING CLOSE SKELETON NODES WITHIN 700 DISTANCE**********\n",
      "Found 0 valid paths to replace\n",
      "valid_paths = []\n",
      "valid_path_lengths = []\n",
      "No valid paths found so just returning the original\n",
      "skeletonize_and_clean_connected_branch_CGAL: 7.8393213748931885\n",
      "Working on limb correspondence for #3 MAP piece\n"
     ]
    },
    {
     "data": {
      "application/vnd.jupyter.widget-view+json": {
       "model_id": "3661887badc349ed876fdfa85faa3a9a",
       "version_major": 2,
       "version_minor": 0
      },
      "text/plain": [
       "HBox(children=(FloatProgress(value=1.0, bar_style='info', layout=Layout(width='20px'), max=1.0), HTML(value=''…"
      ]
     },
     "metadata": {},
     "output_type": "display_data"
    },
    {
     "name": "stdout",
     "output_type": "stream",
     "text": [
      "\n",
      "Total time for decomposition = 0.40561985969543457\n",
      "mesh_correspondence_first_pass: 0.4056551456451416\n",
      "Limb decomposed into 1 branches\n",
      "divided_skeleton_graph_recovered = (53, 2, 3) and \n",
      "current_mesh_data[0]['branch_skeletons_cleaned'].shape = (53, 2, 3)\n",
      "\n",
      "Number of connected components in deocmposed recovered graph = 1\n",
      "Number of connected components in cleaned skeleton graph= 1\n",
      "The downsampled branches number of connected components = 1\n",
      "Empty submeshes = []\n",
      "\n",
      "\n",
      "--- Working on 1-to-1 correspondence-----\n",
      "max(original_labels),len(original_labels) = (0, 1)\n",
      "empty_indices % = 0.04677966101694915\n",
      " conflict_indices % = 0.0\n"
     ]
    },
    {
     "data": {
      "application/vnd.jupyter.widget-view+json": {
       "model_id": "01c6c756d6ea471f9b0115f035c18976",
       "version_major": 2,
       "version_minor": 0
      },
      "text/plain": [
       "HBox(children=(FloatProgress(value=0.0, max=2.0), HTML(value='')))"
      ]
     },
     "metadata": {},
     "output_type": "display_data"
    },
    {
     "name": "stdout",
     "output_type": "stream",
     "text": [
      "\n",
      "AFTER face_lookup_resolved_test\n"
     ]
    },
    {
     "data": {
      "application/vnd.jupyter.widget-view+json": {
       "model_id": "602f8185f2f448b9acdc1729a2812e78",
       "version_major": 2,
       "version_minor": 0
      },
      "text/plain": [
       "HBox(children=(FloatProgress(value=0.0, max=1.0), HTML(value='')))"
      ]
     },
     "metadata": {},
     "output_type": "display_data"
    },
    {
     "name": "stdout",
     "output_type": "stream",
     "text": [
      "\n",
      "Total time for MAP sublimb #3 mesh processing = 8.362169027328491\n",
      "correspondence_1_to_1: 0.11509060859680176\n",
      "--- Working on MAP piece 4---\n",
      "MAP Filtering Soma Pieces: 0.003841400146484375\n",
      "inside skeletonize_connected_branch and use_surface_after_CGAL=False\n",
      "     Starting Screened Poisson\n",
      "xvfb-run -n 9767 -s \"-screen 0 800x600x24\" meshlabserver $@  -i /notebooks/Platinum_Decomp_Fusion/temp/None.off -o /notebooks/Platinum_Decomp_Fusion/temp/None_poisson.off -s /notebooks/Platinum_Decomp_Fusion/temp/poisson_473771.mls\n",
      "removed temporary input file: /notebooks/Platinum_Decomp_Fusion/temp/None.off\n",
      "removed temporary output file: /notebooks/Platinum_Decomp_Fusion/temp/None_poisson.off\n",
      "Using the close holes feature\n",
      "xvfb-run -n 6127 -s \"-screen 0 800x600x24\" meshlabserver $@  -i /notebooks/Platinum_Decomp_Fusion/temp/neuron_29638.off -o /notebooks/Platinum_Decomp_Fusion/temp/neuron_29638_fill_holes.off -s /notebooks/Platinum_Decomp_Fusion/temp/fill_holes_924832.mls\n",
      "removed temporary input file: /notebooks/Platinum_Decomp_Fusion/temp/neuron_29638.off\n",
      "removed temporary output file: /notebooks/Platinum_Decomp_Fusion/temp/neuron_29638_fill_holes.off\n",
      "-----Time for Screened Poisson= 6.393032550811768\n",
      "     Starting Calcification\n",
      "Before mesh subtraction number of skeleton edges = 61\n",
      "Inside mesh subtraction, len(main_mesh_bbox_restricted.faces) = 4555\n"
     ]
    },
    {
     "data": {
      "application/vnd.jupyter.widget-view+json": {
       "model_id": "ab36bb9d50b44286958b19dfb8dd750b",
       "version_major": 2,
       "version_minor": 0
      },
      "text/plain": [
       "HBox(children=(FloatProgress(value=1.0, bar_style='info', layout=Layout(width='20px'), max=1.0), HTML(value=''…"
      ]
     },
     "metadata": {},
     "output_type": "display_data"
    },
    {
     "name": "stdout",
     "output_type": "stream",
     "text": [
      "\n",
      "Total Mesh subtraction time = 0.2867\n"
     ]
    },
    {
     "data": {
      "application/vnd.jupyter.widget-view+json": {
       "model_id": "839744339c5141de8bb3db55245d38e7",
       "version_major": 2,
       "version_minor": 0
      },
      "text/plain": [
       "HBox(children=(FloatProgress(value=1.0, bar_style='info', layout=Layout(width='20px'), max=1.0), HTML(value=''…"
      ]
     },
     "metadata": {},
     "output_type": "display_data"
    },
    {
     "name": "stdout",
     "output_type": "stream",
     "text": [
      "\n",
      "No skeletons to stack so returning empty list\n",
      "len_subgraphs AT BEGINNING of the loop\n"
     ]
    },
    {
     "data": {
      "application/vnd.jupyter.widget-view+json": {
       "model_id": "8e52e80ba4594040ae7ebdbc7d2ed8f0",
       "version_major": 2,
       "version_minor": 0
      },
      "text/plain": [
       "HBox(children=(FloatProgress(value=0.0, max=1.0), HTML(value='')))"
      ]
     },
     "metadata": {},
     "output_type": "display_data"
    },
    {
     "name": "stdout",
     "output_type": "stream",
     "text": [
      "all graph is one component!\n",
      "\n",
      "Total time for skeleton stitching = 0.022617101669311523\n",
      "The process was using a temp folder\n",
      "    Total time for skeletonizing branch: 7.210891485214233\n",
      "    Total time for Fixing Skeleton Soma Endpoint Extension : 2.384185791015625e-06\n",
      "filter_end_node_length = 4001\n",
      "Using Distance measure skeletal_distance\n",
      "Going to ignore certain endnodes that are 5000 nm close to soma border vertices\n",
      "Number of end_nodes BEFORE filtering = 3\n",
      "No close endpoints to choose from for elimination\n",
      "all_single_nodes_to_eliminate = []\n"
     ]
    },
    {
     "data": {
      "application/vnd.jupyter.widget-view+json": {
       "model_id": "ddd900e097684dd1a75ea9ad69e49be0",
       "version_major": 2,
       "version_minor": 0
      },
      "text/plain": [
       "HBox(children=(FloatProgress(value=0.0, max=2.0), HTML(value='')))"
      ]
     },
     "metadata": {},
     "output_type": "display_data"
    },
    {
     "name": "stdout",
     "output_type": "stream",
     "text": [
      "\n",
      "after DISTANCE cleaning limb size of skeleton = (59, 2, 3)\n",
      "********COMBINING CLOSE SKELETON NODES WITHIN 700 DISTANCE**********\n",
      "Found 0 valid paths to replace\n",
      "valid_paths = []\n",
      "valid_path_lengths = []\n",
      "No valid paths found so just returning the original\n",
      "skeletonize_and_clean_connected_branch_CGAL: 7.351151943206787\n",
      "Working on limb correspondence for #4 MAP piece\n"
     ]
    },
    {
     "data": {
      "application/vnd.jupyter.widget-view+json": {
       "model_id": "f78df540ea114c70a913ff9977ef7845",
       "version_major": 2,
       "version_minor": 0
      },
      "text/plain": [
       "HBox(children=(FloatProgress(value=1.0, bar_style='info', layout=Layout(width='20px'), max=1.0), HTML(value=''…"
      ]
     },
     "metadata": {},
     "output_type": "display_data"
    },
    {
     "name": "stdout",
     "output_type": "stream",
     "text": [
      "\n",
      "Total time for decomposition = 0.4078502655029297\n",
      "mesh_correspondence_first_pass: 0.4078850746154785\n",
      "Limb decomposed into 1 branches\n",
      "divided_skeleton_graph_recovered = (59, 2, 3) and \n",
      "current_mesh_data[0]['branch_skeletons_cleaned'].shape = (59, 2, 3)\n",
      "\n",
      "Number of connected components in deocmposed recovered graph = 1\n",
      "Number of connected components in cleaned skeleton graph= 1\n",
      "The downsampled branches number of connected components = 1\n",
      "Empty submeshes = []\n",
      "\n",
      "\n",
      "--- Working on 1-to-1 correspondence-----\n",
      "max(original_labels),len(original_labels) = (0, 1)\n",
      "empty_indices % = 0.05562632696390658\n",
      " conflict_indices % = 0.0\n"
     ]
    },
    {
     "data": {
      "application/vnd.jupyter.widget-view+json": {
       "model_id": "1b6bc5e4ef7346e198a809e5b6aa059a",
       "version_major": 2,
       "version_minor": 0
      },
      "text/plain": [
       "HBox(children=(FloatProgress(value=0.0, max=2.0), HTML(value='')))"
      ]
     },
     "metadata": {},
     "output_type": "display_data"
    },
    {
     "name": "stdout",
     "output_type": "stream",
     "text": [
      "\n",
      "AFTER face_lookup_resolved_test\n"
     ]
    },
    {
     "data": {
      "application/vnd.jupyter.widget-view+json": {
       "model_id": "a2db74e45f2d4e6cae1b7ebb27e936ff",
       "version_major": 2,
       "version_minor": 0
      },
      "text/plain": [
       "HBox(children=(FloatProgress(value=0.0, max=1.0), HTML(value='')))"
      ]
     },
     "metadata": {},
     "output_type": "display_data"
    },
    {
     "name": "stdout",
     "output_type": "stream",
     "text": [
      "\n",
      "Total time for MAP sublimb #4 mesh processing = 7.872123956680298\n",
      "correspondence_1_to_1: 0.10923647880554199\n",
      "Total time for MAP sublimb processing 43.95544171333313\n",
      "***************Arrived at MESH PIECES FOR MAP AND mp***************\n",
      "---- Working on MP Decomposition #0 ----\n",
      "MP filtering soma verts: 0.023187637329101562\n",
      "Do Not Need to Fix MP Decomposition 0 so just continuing\n",
      "---- Working on MP Decomposition #1 ----\n",
      "MP filtering soma verts: 0.015647411346435547\n",
      "Do Not Need to Fix MP Decomposition 1 so just continuing\n",
      "---- Working on MP Decomposition #2 ----\n",
      "MP filtering soma verts: 0.009552955627441406\n",
      "Do Not Need to Fix MP Decomposition 2 so just continuing\n",
      "---- Working on MP Decomposition #3 ----\n",
      "MP filtering soma verts: 0.005433797836303711\n",
      "Do Not Need to Fix MP Decomposition 3 so just continuing\n",
      "---- Working on MP Decomposition #4 ----\n",
      "MP filtering soma verts: 0.0014238357543945312\n",
      "Do Not Need to Fix MP Decomposition 4 so just continuing\n",
      "---- Working on MP Decomposition #5 ----\n",
      "MP filtering soma verts: 0.0003662109375\n",
      "Do Not Need to Fix MP Decomposition 5 so just continuing\n",
      "---- Working on MP Decomposition #6 ----\n",
      "MP filtering soma verts: 0.0006663799285888672\n",
      "Do Not Need to Fix MP Decomposition 6 so just continuing\n",
      "---- Working on MP Decomposition #7 ----\n",
      "MP filtering soma verts: 0.00023889541625976562\n",
      "Do Not Need to Fix MP Decomposition 7 so just continuing\n",
      "\n",
      "---- Working on (0, 0) connection-----\n",
      "winning_vertex = [577077.65814314 804143.75072217 852154.48854756]\n",
      "MP_branches_with_stitch_point = [9, 77]\n",
      "Current stitch point was a branch or endpoint\n",
      "MAP_branches_with_stitch_point = [0]\n",
      "MAP_stitch_point_on_end_or_branch = True\n"
     ]
    },
    {
     "data": {
      "application/vnd.jupyter.widget-view+json": {
       "model_id": "31b264174e974398a874f1c29ae02e3a",
       "version_major": 2,
       "version_minor": 0
      },
      "text/plain": [
       "HBox(children=(FloatProgress(value=1.0, bar_style='info', layout=Layout(width='20px'), max=1.0), HTML(value=''…"
      ]
     },
     "metadata": {},
     "output_type": "display_data"
    },
    {
     "name": "stdout",
     "output_type": "stream",
     "text": [
      "\n",
      "\n",
      "\n",
      "--- Working on 1-to-1 correspondence-----\n",
      "max(original_labels),len(original_labels) = (2, 3)\n",
      "empty_indices % = 0.035338193600648035\n",
      " conflict_indices % = 0.015593357634669907\n"
     ]
    },
    {
     "data": {
      "application/vnd.jupyter.widget-view+json": {
       "model_id": "e4c981ff297543538c785239a275ca05",
       "version_major": 2,
       "version_minor": 0
      },
      "text/plain": [
       "HBox(children=(FloatProgress(value=0.0, max=7.0), HTML(value='')))"
      ]
     },
     "metadata": {},
     "output_type": "display_data"
    },
    {
     "name": "stdout",
     "output_type": "stream",
     "text": [
      "\n",
      "AFTER face_lookup_resolved_test\n"
     ]
    },
    {
     "data": {
      "application/vnd.jupyter.widget-view+json": {
       "model_id": "15abb4033fa94e05b2ed787c4e73875c",
       "version_major": 2,
       "version_minor": 0
      },
      "text/plain": [
       "HBox(children=(FloatProgress(value=0.0, max=3.0), HTML(value='')))"
      ]
     },
     "metadata": {},
     "output_type": "display_data"
    },
    {
     "name": "stdout",
     "output_type": "stream",
     "text": [
      "\n",
      " Finished with (0, 0) \n",
      "\n",
      "\n",
      "\n",
      "\n",
      "---- Working on (2, 0) connection-----\n",
      "winning_vertex = [575506.36977751 801186.21111388 852256.28674014]\n",
      "MP_branches_with_stitch_point = [57]\n",
      "Current stitch point was not a branch or endpoint, shortest_path_length to one = 1363.3484767027646\n",
      "MAP_branches_with_stitch_point = [0]\n",
      "MAP_stitch_point_on_end_or_branch = False\n"
     ]
    },
    {
     "data": {
      "application/vnd.jupyter.widget-view+json": {
       "model_id": "66d5cc71e3cc4908a555dc201fa02732",
       "version_major": 2,
       "version_minor": 0
      },
      "text/plain": [
       "HBox(children=(FloatProgress(value=1.0, bar_style='info', layout=Layout(width='20px'), max=1.0), HTML(value=''…"
      ]
     },
     "metadata": {},
     "output_type": "display_data"
    },
    {
     "name": "stdout",
     "output_type": "stream",
     "text": [
      "\n",
      "\n",
      "\n",
      "--- Working on 1-to-1 correspondence-----\n",
      "max(original_labels),len(original_labels) = (2, 3)\n",
      "empty_indices % = 0.007683151174115356\n",
      " conflict_indices % = 0.014392381776863975\n"
     ]
    },
    {
     "data": {
      "application/vnd.jupyter.widget-view+json": {
       "model_id": "5771a9aebb044caf96054be88c2fb1d1",
       "version_major": 2,
       "version_minor": 0
      },
      "text/plain": [
       "HBox(children=(FloatProgress(value=0.0, max=3.0), HTML(value='')))"
      ]
     },
     "metadata": {},
     "output_type": "display_data"
    },
    {
     "name": "stdout",
     "output_type": "stream",
     "text": [
      "\n",
      "AFTER face_lookup_resolved_test\n"
     ]
    },
    {
     "data": {
      "application/vnd.jupyter.widget-view+json": {
       "model_id": "10ef4cf1b6004e1e87546aa75027ab87",
       "version_major": 2,
       "version_minor": 0
      },
      "text/plain": [
       "HBox(children=(FloatProgress(value=0.0, max=3.0), HTML(value='')))"
      ]
     },
     "metadata": {},
     "output_type": "display_data"
    },
    {
     "name": "stdout",
     "output_type": "stream",
     "text": [
      "\n",
      "Deleting branches from dictionary\n",
      " Finished with (2, 0) \n",
      "\n",
      "\n",
      "\n",
      "\n",
      "---- Working on (7, 0) connection-----\n",
      "winning_vertex = [577361.28231041 779732.91142829 876898.36228111]\n",
      "MP_branches_with_stitch_point = [0]\n",
      "Current stitch point was not a branch or endpoint, shortest_path_length to one = 5933.765305888943\n",
      "MAP_branches_with_stitch_point = [1]\n",
      "MAP_stitch_point_on_end_or_branch = False\n"
     ]
    },
    {
     "data": {
      "application/vnd.jupyter.widget-view+json": {
       "model_id": "00fd2430bab34a958a92ec4fb5dbba15",
       "version_major": 2,
       "version_minor": 0
      },
      "text/plain": [
       "HBox(children=(FloatProgress(value=1.0, bar_style='info', layout=Layout(width='20px'), max=1.0), HTML(value=''…"
      ]
     },
     "metadata": {},
     "output_type": "display_data"
    },
    {
     "name": "stdout",
     "output_type": "stream",
     "text": [
      "\n",
      "\n",
      "\n",
      "--- Working on 1-to-1 correspondence-----\n",
      "max(original_labels),len(original_labels) = (2, 3)\n",
      "empty_indices % = 0.011116423619411906\n",
      " conflict_indices % = 0.004900788907482668\n"
     ]
    },
    {
     "data": {
      "application/vnd.jupyter.widget-view+json": {
       "model_id": "8044551c75f54009a4b40a1ccccd45b7",
       "version_major": 2,
       "version_minor": 0
      },
      "text/plain": [
       "HBox(children=(FloatProgress(value=0.0, max=3.0), HTML(value='')))"
      ]
     },
     "metadata": {},
     "output_type": "display_data"
    },
    {
     "name": "stdout",
     "output_type": "stream",
     "text": [
      "\n",
      "AFTER face_lookup_resolved_test\n"
     ]
    },
    {
     "data": {
      "application/vnd.jupyter.widget-view+json": {
       "model_id": "db5af871a0394109ad3b98a8f678bde6",
       "version_major": 2,
       "version_minor": 0
      },
      "text/plain": [
       "HBox(children=(FloatProgress(value=0.0, max=3.0), HTML(value='')))"
      ]
     },
     "metadata": {},
     "output_type": "display_data"
    },
    {
     "name": "stdout",
     "output_type": "stream",
     "text": [
      "\n",
      "Deleting branches from dictionary\n",
      " Finished with (7, 0) \n",
      "\n",
      "\n",
      "\n",
      "\n",
      "---- Working on (0, 1) connection-----\n",
      "winning_vertex = [580084.13138504 809371.50435209 854460.13212649]\n",
      "MP_branches_with_stitch_point = [7, 8]\n",
      "Current stitch point was a branch or endpoint\n",
      "MAP_branches_with_stitch_point = [0]\n",
      "MAP_stitch_point_on_end_or_branch = True\n"
     ]
    },
    {
     "data": {
      "application/vnd.jupyter.widget-view+json": {
       "model_id": "dc2b828c102848eca64960e877860ade",
       "version_major": 2,
       "version_minor": 0
      },
      "text/plain": [
       "HBox(children=(FloatProgress(value=1.0, bar_style='info', layout=Layout(width='20px'), max=1.0), HTML(value=''…"
      ]
     },
     "metadata": {},
     "output_type": "display_data"
    },
    {
     "name": "stdout",
     "output_type": "stream",
     "text": [
      "\n",
      "\n",
      "\n",
      "--- Working on 1-to-1 correspondence-----\n",
      "max(original_labels),len(original_labels) = (2, 3)\n",
      "empty_indices % = 0.008460787504067686\n",
      " conflict_indices % = 0.003471092309361102\n"
     ]
    },
    {
     "data": {
      "application/vnd.jupyter.widget-view+json": {
       "model_id": "81bde1dfae68437a800dfef572048953",
       "version_major": 2,
       "version_minor": 0
      },
      "text/plain": [
       "HBox(children=(FloatProgress(value=0.0, max=5.0), HTML(value='')))"
      ]
     },
     "metadata": {},
     "output_type": "display_data"
    },
    {
     "name": "stdout",
     "output_type": "stream",
     "text": [
      "\n",
      "AFTER face_lookup_resolved_test\n"
     ]
    },
    {
     "data": {
      "application/vnd.jupyter.widget-view+json": {
       "model_id": "4de080264a8b4287a2e681c707c4b787",
       "version_major": 2,
       "version_minor": 0
      },
      "text/plain": [
       "HBox(children=(FloatProgress(value=0.0, max=3.0), HTML(value='')))"
      ]
     },
     "metadata": {},
     "output_type": "display_data"
    },
    {
     "name": "stdout",
     "output_type": "stream",
     "text": [
      "\n",
      " Finished with (0, 1) \n",
      "\n",
      "\n",
      "\n",
      "\n",
      "---- Working on (1, 1) connection-----\n",
      "winning_vertex = [597487.15517674 793327.38152401 877224.26802702]\n",
      "MP_branches_with_stitch_point = [11, 29]\n",
      "Current stitch point was a branch or endpoint\n",
      "MAP_branches_with_stitch_point = [0]\n",
      "MAP_stitch_point_on_end_or_branch = True\n"
     ]
    },
    {
     "data": {
      "application/vnd.jupyter.widget-view+json": {
       "model_id": "4d099073d88c422da70ff7272ac42cc0",
       "version_major": 2,
       "version_minor": 0
      },
      "text/plain": [
       "HBox(children=(FloatProgress(value=1.0, bar_style='info', layout=Layout(width='20px'), max=1.0), HTML(value=''…"
      ]
     },
     "metadata": {},
     "output_type": "display_data"
    },
    {
     "name": "stdout",
     "output_type": "stream",
     "text": [
      "\n",
      "\n",
      "\n",
      "--- Working on 1-to-1 correspondence-----\n",
      "max(original_labels),len(original_labels) = (2, 3)\n",
      "empty_indices % = 0.009263706855143073\n",
      " conflict_indices % = 0.005969944417758869\n"
     ]
    },
    {
     "data": {
      "application/vnd.jupyter.widget-view+json": {
       "model_id": "b24bd99eada248efab9b39419fbb8956",
       "version_major": 2,
       "version_minor": 0
      },
      "text/plain": [
       "HBox(children=(FloatProgress(value=0.0, max=5.0), HTML(value='')))"
      ]
     },
     "metadata": {},
     "output_type": "display_data"
    },
    {
     "name": "stdout",
     "output_type": "stream",
     "text": [
      "\n",
      "AFTER face_lookup_resolved_test\n"
     ]
    },
    {
     "data": {
      "application/vnd.jupyter.widget-view+json": {
       "model_id": "f82d8b5a1fd5401198982921a092079f",
       "version_major": 2,
       "version_minor": 0
      },
      "text/plain": [
       "HBox(children=(FloatProgress(value=0.0, max=3.0), HTML(value='')))"
      ]
     },
     "metadata": {},
     "output_type": "display_data"
    },
    {
     "name": "stdout",
     "output_type": "stream",
     "text": [
      "\n",
      " Finished with (1, 1) \n",
      "\n",
      "\n",
      "\n",
      "\n",
      "---- Working on (4, 1) connection-----\n",
      "winning_vertex = [604585.37712658 806083.59682735 851113.40794192]\n",
      "MP_branches_with_stitch_point = [7]\n",
      "Current stitch point was not a branch or endpoint, shortest_path_length to one = 25378.62537008845\n",
      "MAP_branches_with_stitch_point = [0]\n",
      "MAP_stitch_point_on_end_or_branch = False\n"
     ]
    },
    {
     "data": {
      "application/vnd.jupyter.widget-view+json": {
       "model_id": "98c090a90dcc4e2ba4e952cdca1cab2e",
       "version_major": 2,
       "version_minor": 0
      },
      "text/plain": [
       "HBox(children=(FloatProgress(value=1.0, bar_style='info', layout=Layout(width='20px'), max=1.0), HTML(value=''…"
      ]
     },
     "metadata": {},
     "output_type": "display_data"
    },
    {
     "name": "stdout",
     "output_type": "stream",
     "text": [
      "\n",
      "\n",
      "\n",
      "--- Working on 1-to-1 correspondence-----\n",
      "max(original_labels),len(original_labels) = (2, 3)\n",
      "empty_indices % = 0.03794298921417565\n",
      " conflict_indices % = 0.004911402157164869\n"
     ]
    },
    {
     "data": {
      "application/vnd.jupyter.widget-view+json": {
       "model_id": "a42be514e4bd43d3b744aab1897c9f2d",
       "version_major": 2,
       "version_minor": 0
      },
      "text/plain": [
       "HBox(children=(FloatProgress(value=0.0, max=6.0), HTML(value='')))"
      ]
     },
     "metadata": {},
     "output_type": "display_data"
    },
    {
     "name": "stdout",
     "output_type": "stream",
     "text": [
      "\n",
      "AFTER face_lookup_resolved_test\n"
     ]
    },
    {
     "data": {
      "application/vnd.jupyter.widget-view+json": {
       "model_id": "017e5732df014c49a7c2c12480850413",
       "version_major": 2,
       "version_minor": 0
      },
      "text/plain": [
       "HBox(children=(FloatProgress(value=0.0, max=3.0), HTML(value='')))"
      ]
     },
     "metadata": {},
     "output_type": "display_data"
    },
    {
     "name": "stdout",
     "output_type": "stream",
     "text": [
      "\n",
      "Deleting branches from dictionary\n",
      " Finished with (4, 1) \n",
      "\n",
      "\n",
      "\n",
      "\n",
      "---- Working on (0, 2) connection-----\n",
      "winning_vertex = [579899.23505552 800918.83667692 845665.9879333 ]\n",
      "MP_branches_with_stitch_point = [77, 138]\n",
      "Current stitch point was a branch or endpoint\n",
      "MAP_branches_with_stitch_point = [0]\n",
      "MAP_stitch_point_on_end_or_branch = True\n"
     ]
    },
    {
     "data": {
      "application/vnd.jupyter.widget-view+json": {
       "model_id": "66b9cb08f50642e29222f8fffe547487",
       "version_major": 2,
       "version_minor": 0
      },
      "text/plain": [
       "HBox(children=(FloatProgress(value=1.0, bar_style='info', layout=Layout(width='20px'), max=1.0), HTML(value=''…"
      ]
     },
     "metadata": {},
     "output_type": "display_data"
    },
    {
     "name": "stdout",
     "output_type": "stream",
     "text": [
      "\n",
      "\n",
      "\n",
      "--- Working on 1-to-1 correspondence-----\n",
      "max(original_labels),len(original_labels) = (2, 3)\n",
      "empty_indices % = 0.18877551020408162\n",
      " conflict_indices % = 0.07266009852216748\n"
     ]
    },
    {
     "data": {
      "application/vnd.jupyter.widget-view+json": {
       "model_id": "50b7747fbb854365813ea175516d47ad",
       "version_major": 2,
       "version_minor": 0
      },
      "text/plain": [
       "HBox(children=(FloatProgress(value=0.0, max=4.0), HTML(value='')))"
      ]
     },
     "metadata": {},
     "output_type": "display_data"
    },
    {
     "name": "stdout",
     "output_type": "stream",
     "text": [
      "\n",
      "AFTER face_lookup_resolved_test\n"
     ]
    },
    {
     "data": {
      "application/vnd.jupyter.widget-view+json": {
       "model_id": "7c4a900f02264d5aaf6f110a9228a4b6",
       "version_major": 2,
       "version_minor": 0
      },
      "text/plain": [
       "HBox(children=(FloatProgress(value=0.0, max=3.0), HTML(value='')))"
      ]
     },
     "metadata": {},
     "output_type": "display_data"
    },
    {
     "name": "stdout",
     "output_type": "stream",
     "text": [
      "\n",
      " Finished with (0, 2) \n",
      "\n",
      "\n",
      "\n",
      "\n",
      "---- Working on (3, 2) connection-----\n",
      "winning_vertex = [580110.57979085 787260.75501824 844365.47036714]\n",
      "MP_branches_with_stitch_point = [28, 32]\n",
      "Current stitch point was a branch or endpoint\n",
      "MAP_branches_with_stitch_point = [0]\n",
      "MAP_stitch_point_on_end_or_branch = True\n"
     ]
    },
    {
     "data": {
      "application/vnd.jupyter.widget-view+json": {
       "model_id": "6e7769c2711d4745855715628dc822f3",
       "version_major": 2,
       "version_minor": 0
      },
      "text/plain": [
       "HBox(children=(FloatProgress(value=1.0, bar_style='info', layout=Layout(width='20px'), max=1.0), HTML(value=''…"
      ]
     },
     "metadata": {},
     "output_type": "display_data"
    },
    {
     "name": "stdout",
     "output_type": "stream",
     "text": [
      "\n",
      "\n",
      "\n",
      "--- Working on 1-to-1 correspondence-----\n",
      "max(original_labels),len(original_labels) = (2, 3)\n",
      "empty_indices % = 0.1222757513191099\n",
      " conflict_indices % = 0.07891718284010094\n"
     ]
    },
    {
     "data": {
      "application/vnd.jupyter.widget-view+json": {
       "model_id": "42161b428269456da86e725708ac7f2b",
       "version_major": 2,
       "version_minor": 0
      },
      "text/plain": [
       "HBox(children=(FloatProgress(value=0.0, max=4.0), HTML(value='')))"
      ]
     },
     "metadata": {},
     "output_type": "display_data"
    },
    {
     "name": "stdout",
     "output_type": "stream",
     "text": [
      "\n",
      "AFTER face_lookup_resolved_test\n"
     ]
    },
    {
     "data": {
      "application/vnd.jupyter.widget-view+json": {
       "model_id": "1cd24a7acb3747e09a04612c7d81df9c",
       "version_major": 2,
       "version_minor": 0
      },
      "text/plain": [
       "HBox(children=(FloatProgress(value=0.0, max=3.0), HTML(value='')))"
      ]
     },
     "metadata": {},
     "output_type": "display_data"
    },
    {
     "name": "stdout",
     "output_type": "stream",
     "text": [
      "\n",
      " Finished with (3, 2) \n",
      "\n",
      "\n",
      "\n",
      "\n",
      "---- Working on (0, 3) connection-----\n",
      "winning_vertex = [567308.2096599  819446.18111031 853900.51602715]\n",
      "MP_branches_with_stitch_point = [38, 39]\n",
      "Current stitch point was a branch or endpoint\n",
      "MAP_branches_with_stitch_point = [0]\n",
      "MAP_stitch_point_on_end_or_branch = True\n"
     ]
    },
    {
     "data": {
      "application/vnd.jupyter.widget-view+json": {
       "model_id": "b8de8c045b5a431b9c4498b8dbd57daa",
       "version_major": 2,
       "version_minor": 0
      },
      "text/plain": [
       "HBox(children=(FloatProgress(value=1.0, bar_style='info', layout=Layout(width='20px'), max=1.0), HTML(value=''…"
      ]
     },
     "metadata": {},
     "output_type": "display_data"
    },
    {
     "name": "stdout",
     "output_type": "stream",
     "text": [
      "\n",
      "\n",
      "\n",
      "--- Working on 1-to-1 correspondence-----\n",
      "max(original_labels),len(original_labels) = (2, 3)\n",
      "empty_indices % = 0.033220271348762966\n",
      " conflict_indices % = 0.012869114126097366\n"
     ]
    },
    {
     "data": {
      "application/vnd.jupyter.widget-view+json": {
       "model_id": "5a15f7ff7a4842a5abc2894ffba829d0",
       "version_major": 2,
       "version_minor": 0
      },
      "text/plain": [
       "HBox(children=(FloatProgress(value=0.0, max=4.0), HTML(value='')))"
      ]
     },
     "metadata": {},
     "output_type": "display_data"
    },
    {
     "name": "stdout",
     "output_type": "stream",
     "text": [
      "\n",
      "AFTER face_lookup_resolved_test\n"
     ]
    },
    {
     "data": {
      "application/vnd.jupyter.widget-view+json": {
       "model_id": "19d4e66087be40dc8475eacce9c8b6a1",
       "version_major": 2,
       "version_minor": 0
      },
      "text/plain": [
       "HBox(children=(FloatProgress(value=0.0, max=3.0), HTML(value='')))"
      ]
     },
     "metadata": {},
     "output_type": "display_data"
    },
    {
     "name": "stdout",
     "output_type": "stream",
     "text": [
      "\n",
      " Finished with (0, 3) \n",
      "\n",
      "\n",
      "\n",
      "\n",
      "---- Working on (2, 4) connection-----\n",
      "winning_vertex = [575177.48934665 797145.29945836 848222.75160166]\n",
      "MP_branches_with_stitch_point = [55, 57]\n",
      "Current stitch point was a branch or endpoint\n",
      "MAP_branches_with_stitch_point = [0]\n",
      "MAP_stitch_point_on_end_or_branch = True\n"
     ]
    },
    {
     "data": {
      "application/vnd.jupyter.widget-view+json": {
       "model_id": "6361d2a3ac8f42e7a80fdc63bb208046",
       "version_major": 2,
       "version_minor": 0
      },
      "text/plain": [
       "HBox(children=(FloatProgress(value=1.0, bar_style='info', layout=Layout(width='20px'), max=1.0), HTML(value=''…"
      ]
     },
     "metadata": {},
     "output_type": "display_data"
    },
    {
     "name": "stdout",
     "output_type": "stream",
     "text": [
      "\n",
      "\n",
      "\n",
      "--- Working on 1-to-1 correspondence-----\n",
      "max(original_labels),len(original_labels) = (2, 3)\n",
      "empty_indices % = 0.059816453621763355\n",
      " conflict_indices % = 0.0037692559816453622\n"
     ]
    },
    {
     "data": {
      "application/vnd.jupyter.widget-view+json": {
       "model_id": "7cf02916739448ec925cc7f4f2888421",
       "version_major": 2,
       "version_minor": 0
      },
      "text/plain": [
       "HBox(children=(FloatProgress(value=0.0, max=7.0), HTML(value='')))"
      ]
     },
     "metadata": {},
     "output_type": "display_data"
    },
    {
     "name": "stdout",
     "output_type": "stream",
     "text": [
      "\n",
      "AFTER face_lookup_resolved_test\n"
     ]
    },
    {
     "data": {
      "application/vnd.jupyter.widget-view+json": {
       "model_id": "cc77bc22069f4cc2a0ab3ee6f09fa50e",
       "version_major": 2,
       "version_minor": 0
      },
      "text/plain": [
       "HBox(children=(FloatProgress(value=0.0, max=3.0), HTML(value='')))"
      ]
     },
     "metadata": {},
     "output_type": "display_data"
    },
    {
     "name": "stdout",
     "output_type": "stream",
     "text": [
      "\n",
      " Finished with (2, 4) \n",
      "\n",
      "\n",
      "\n",
      "\n",
      "---- Working on (5, 4) connection-----\n",
      "winning_vertex = [576083.12497509 777699.99769326 846084.87959885]\n",
      "MP_branches_with_stitch_point = [0]\n",
      "Current stitch point was not a branch or endpoint, shortest_path_length to one = 7743.233338173626\n",
      "MAP_branches_with_stitch_point = [0]\n",
      "MAP_stitch_point_on_end_or_branch = False\n"
     ]
    },
    {
     "data": {
      "application/vnd.jupyter.widget-view+json": {
       "model_id": "be5209750ad44edfaf251212be56d2ee",
       "version_major": 2,
       "version_minor": 0
      },
      "text/plain": [
       "HBox(children=(FloatProgress(value=1.0, bar_style='info', layout=Layout(width='20px'), max=1.0), HTML(value=''…"
      ]
     },
     "metadata": {},
     "output_type": "display_data"
    },
    {
     "name": "stdout",
     "output_type": "stream",
     "text": [
      "\n",
      "\n",
      "\n",
      "--- Working on 1-to-1 correspondence-----\n",
      "max(original_labels),len(original_labels) = (2, 3)\n",
      "empty_indices % = 0.08819735569171235\n",
      " conflict_indices % = 0.014350209609803289\n"
     ]
    },
    {
     "data": {
      "application/vnd.jupyter.widget-view+json": {
       "model_id": "37a5957984a3487e821cc83f1ecc6482",
       "version_major": 2,
       "version_minor": 0
      },
      "text/plain": [
       "HBox(children=(FloatProgress(value=0.0, max=4.0), HTML(value='')))"
      ]
     },
     "metadata": {},
     "output_type": "display_data"
    },
    {
     "name": "stdout",
     "output_type": "stream",
     "text": [
      "\n",
      "AFTER face_lookup_resolved_test\n"
     ]
    },
    {
     "data": {
      "application/vnd.jupyter.widget-view+json": {
       "model_id": "1d082f3cd00b44a892faaf96bbc87392",
       "version_major": 2,
       "version_minor": 0
      },
      "text/plain": [
       "HBox(children=(FloatProgress(value=0.0, max=3.0), HTML(value='')))"
      ]
     },
     "metadata": {},
     "output_type": "display_data"
    },
    {
     "name": "stdout",
     "output_type": "stream",
     "text": [
      "\n",
      "Deleting branches from dictionary\n",
      " Finished with (5, 4) \n",
      "\n",
      "\n",
      "\n",
      "\n",
      "---- Working on (6, 4) connection-----\n",
      "winning_vertex = [571228.9570534  770574.81191415 841876.24523264]\n",
      "MP_branches_with_stitch_point = [2, 5]\n",
      "Current stitch point was a branch or endpoint\n",
      "MAP_branches_with_stitch_point = [0]\n",
      "MAP_stitch_point_on_end_or_branch = True\n"
     ]
    },
    {
     "data": {
      "application/vnd.jupyter.widget-view+json": {
       "model_id": "e1d8f8d28cfb4b108a0f9a96f30984d1",
       "version_major": 2,
       "version_minor": 0
      },
      "text/plain": [
       "HBox(children=(FloatProgress(value=1.0, bar_style='info', layout=Layout(width='20px'), max=1.0), HTML(value=''…"
      ]
     },
     "metadata": {},
     "output_type": "display_data"
    },
    {
     "name": "stdout",
     "output_type": "stream",
     "text": [
      "\n",
      "\n",
      "\n",
      "--- Working on 1-to-1 correspondence-----\n",
      "max(original_labels),len(original_labels) = (2, 3)\n",
      "empty_indices % = 0.129\n",
      " conflict_indices % = 0.0095\n"
     ]
    },
    {
     "data": {
      "application/vnd.jupyter.widget-view+json": {
       "model_id": "6af6abe157be4865a6b1e2af4fc6dfb7",
       "version_major": 2,
       "version_minor": 0
      },
      "text/plain": [
       "HBox(children=(FloatProgress(value=0.0, max=7.0), HTML(value='')))"
      ]
     },
     "metadata": {},
     "output_type": "display_data"
    },
    {
     "name": "stdout",
     "output_type": "stream",
     "text": [
      "\n",
      "AFTER face_lookup_resolved_test\n"
     ]
    },
    {
     "data": {
      "application/vnd.jupyter.widget-view+json": {
       "model_id": "f56f4c54a56e4f2596a64428d423852e",
       "version_major": 2,
       "version_minor": 0
      },
      "text/plain": [
       "HBox(children=(FloatProgress(value=0.0, max=3.0), HTML(value='')))"
      ]
     },
     "metadata": {},
     "output_type": "display_data"
    },
    {
     "name": "stdout",
     "output_type": "stream",
     "text": [
      "\n",
      " Finished with (6, 4) \n",
      "\n",
      "\n",
      "\n",
      "Time for decomp of Limb 0 = 215.21112966537476\n",
      "\n",
      "\n",
      "----- Working on Proper Limb #1 ---------\n",
      "Time for preparing soma vertices and root: 0.0001804828643798828\n",
      "smooth_neighborhood = 1\n"
     ]
    },
    {
     "name": "stderr",
     "output_type": "stream",
     "text": [
      "\r",
      "  0%|          | 0/1 [00:00<?, ?it/s]"
     ]
    },
    {
     "data": {
      "application/vnd.jupyter.widget-view+json": {
       "model_id": "d2e64e738fb04619a7e53ae9f66a2eeb",
       "version_major": 2,
       "version_minor": 0
      },
      "text/plain": [
       "HBox(children=(FloatProgress(value=0.0, max=108007.0), HTML(value='')))"
      ]
     },
     "metadata": {},
     "output_type": "display_data"
    },
    {
     "name": "stderr",
     "output_type": "stream",
     "text": [
      "100%|██████████| 1/1 [00:01<00:00,  1.67s/it]"
     ]
    },
    {
     "name": "stdout",
     "output_type": "stream",
     "text": [
      "\n"
     ]
    },
    {
     "name": "stderr",
     "output_type": "stream",
     "text": [
      "\n"
     ]
    },
    {
     "name": "stdout",
     "output_type": "stream",
     "text": [
      "Time for 1st pass MP skeletonization: 2.6291468143463135\n",
      "branches_touching_root = [27]\n"
     ]
    },
    {
     "name": "stderr",
     "output_type": "stream",
     "text": [
      "/meshAfterParty/meshparty_skeletonize.py:900: VisibleDeprecationWarning: Creating an ndarray from ragged nested sequences (which is a list-or-tuple of lists-or-tuples-or ndarrays with different lengths or shapes) is deprecated. If you meant to do this, you must specify 'dtype=object' when creating the ndarray\n",
      "  new_segment_branches = np.array([sk_meshparty_obj.vertices[np.vstack([k[:-1],k[1:]]).T] for k in new_segments])\n"
     ]
    },
    {
     "name": "stdout",
     "output_type": "stream",
     "text": [
      "empty_indices % = 0.0\n",
      " conflict_indices % = 0.004901482977093922\n"
     ]
    },
    {
     "data": {
      "application/vnd.jupyter.widget-view+json": {
       "model_id": "94c130c5623e4ecf97b400e4b8faa4c8",
       "version_major": 2,
       "version_minor": 0
      },
      "text/plain": [
       "HBox(children=(FloatProgress(value=0.0, max=14.0), HTML(value='')))"
      ]
     },
     "metadata": {},
     "output_type": "display_data"
    },
    {
     "name": "stdout",
     "output_type": "stream",
     "text": [
      "\n",
      "AFTER face_lookup_resolved_test\n"
     ]
    },
    {
     "data": {
      "application/vnd.jupyter.widget-view+json": {
       "model_id": "d0c50bf3826945818862afced9a75b29",
       "version_major": 2,
       "version_minor": 0
      },
      "text/plain": [
       "HBox(children=(FloatProgress(value=0.0, max=28.0), HTML(value='')))"
      ]
     },
     "metadata": {},
     "output_type": "display_data"
    },
    {
     "name": "stdout",
     "output_type": "stream",
     "text": [
      "\n",
      "Decomposing first pass: 3.999052047729492\n",
      "Found len(mesh_large_idx) MAP candidates: [4870, 886, 4841, 23080, 5704, 17920, 16216, 6471, 7613, 3708, 2513, 4906, 13732, 8322, 13325, 6191, 7786]\n",
      "mesh_large_connectivity: 0.5231668949127197\n",
      "Finding MAP candidates connected components: 0.0002422332763671875\n",
      "len(filtered_pieces) = 1\n",
      "skeleton_connectivity_MP : 0.23547840118408203\n",
      "Grouping MP Sublimbs by Graph: 0.03562569618225098\n",
      "Divinding into MP and MAP pieces: 2.6226043701171875e-06\n",
      "--- Working on MAP piece 0---\n",
      "MAP Filtering Soma Pieces: 0.00909733772277832\n",
      "inside skeletonize_connected_branch and use_surface_after_CGAL=False\n",
      "     Starting Screened Poisson\n",
      "xvfb-run -n 6434 -s \"-screen 0 800x600x24\" meshlabserver $@  -i /notebooks/Platinum_Decomp_Fusion/temp/None.off -o /notebooks/Platinum_Decomp_Fusion/temp/None_poisson.off -s /notebooks/Platinum_Decomp_Fusion/temp/poisson_97848.mls\n",
      "removed temporary input file: /notebooks/Platinum_Decomp_Fusion/temp/None.off\n",
      "removed temporary output file: /notebooks/Platinum_Decomp_Fusion/temp/None_poisson.off\n",
      "Using the close holes feature\n",
      "xvfb-run -n 3757 -s \"-screen 0 800x600x24\" meshlabserver $@  -i /notebooks/Platinum_Decomp_Fusion/temp/neuron_83729.off -o /notebooks/Platinum_Decomp_Fusion/temp/neuron_83729_fill_holes.off -s /notebooks/Platinum_Decomp_Fusion/temp/fill_holes_584944.mls\n",
      "removed temporary input file: /notebooks/Platinum_Decomp_Fusion/temp/neuron_83729.off\n",
      "removed temporary output file: /notebooks/Platinum_Decomp_Fusion/temp/neuron_83729_fill_holes.off\n",
      "-----Time for Screened Poisson= 32.33916640281677\n",
      "     Starting Calcification\n",
      "Before mesh subtraction number of skeleton edges = 1799\n",
      "Inside mesh subtraction, len(main_mesh_bbox_restricted.faces) = 148084\n"
     ]
    },
    {
     "data": {
      "application/vnd.jupyter.widget-view+json": {
       "model_id": "08afedc8c2634a8fb1fd1f3be18cfea7",
       "version_major": 2,
       "version_minor": 0
      },
      "text/plain": [
       "HBox(children=(FloatProgress(value=1.0, bar_style='info', layout=Layout(width='20px'), max=1.0), HTML(value=''…"
      ]
     },
     "metadata": {},
     "output_type": "display_data"
    },
    {
     "name": "stderr",
     "output_type": "stream",
     "text": [
      "WARNING:trimesh:face_normals all zero, ignoring!\n",
      "WARNING:trimesh:face_normals all zero, ignoring!\n"
     ]
    },
    {
     "name": "stdout",
     "output_type": "stream",
     "text": [
      "\n",
      "Total Mesh subtraction time = 21.9579\n"
     ]
    },
    {
     "data": {
      "application/vnd.jupyter.widget-view+json": {
       "model_id": "d4ca1905f5864eb49d74a91571a24a8a",
       "version_major": 2,
       "version_minor": 0
      },
      "text/plain": [
       "HBox(children=(FloatProgress(value=1.0, bar_style='info', layout=Layout(width='20px'), max=1.0), HTML(value=''…"
      ]
     },
     "metadata": {},
     "output_type": "display_data"
    },
    {
     "name": "stdout",
     "output_type": "stream",
     "text": [
      "\n",
      "No skeletons to stack so returning empty list\n",
      "len_subgraphs AT BEGINNING of the loop\n"
     ]
    },
    {
     "data": {
      "application/vnd.jupyter.widget-view+json": {
       "model_id": "71ad5491faa94a2aaf5e9b4df3e10587",
       "version_major": 2,
       "version_minor": 0
      },
      "text/plain": [
       "HBox(children=(FloatProgress(value=0.0, max=35.0), HTML(value='')))"
      ]
     },
     "metadata": {},
     "output_type": "display_data"
    },
    {
     "name": "stdout",
     "output_type": "stream",
     "text": [
      "all graph is one component!\n",
      "\n",
      "Total time for skeleton stitching = 0.11095356941223145\n",
      "The process was using a temp folder\n",
      "    Total time for skeletonizing branch: 63.378551721572876\n",
      "skipping soma 0 because closest skeleton node was already end node\n",
      "Adding new branch to skeleton\n",
      "    Total time for Fixing Skeleton Soma Endpoint Extension : 11.771875619888306\n",
      "filter_end_node_length = 4001\n",
      "Using Distance measure skeletal_distance\n",
      "Going to ignore certain endnodes that are 5000 nm close to soma border vertices\n",
      "Number of end_nodes BEFORE filtering = 50\n",
      "Using an already specified end node: 920 with index 23checking was correct node end_nodes[index] = 920\n",
      "Using an already specified end node: 861 with index 22checking was correct node end_nodes[index] = 861\n",
      "May Eliminate end_node 23: 920 because path_len to soma border was 2013.0314484589744\n",
      "single_node_to_eliminate = 23\n",
      "all_single_nodes_to_eliminate = [23, 22, 23]\n"
     ]
    },
    {
     "data": {
      "application/vnd.jupyter.widget-view+json": {
       "model_id": "9766486cf37c49e8981b0f3a6dd22ea3",
       "version_major": 2,
       "version_minor": 0
      },
      "text/plain": [
       "HBox(children=(FloatProgress(value=0.0, max=38.0), HTML(value='')))"
      ]
     },
     "metadata": {},
     "output_type": "display_data"
    },
    {
     "name": "stdout",
     "output_type": "stream",
     "text": [
      "\n",
      "********COMBINING CLOSE SKELETON NODES WITHIN 700 DISTANCE**********\n",
      "Found 0 valid paths to replace\n",
      "valid_paths = []\n",
      "valid_path_lengths = []\n",
      "No valid paths found so just returning the original\n",
      "skeletonize_and_clean_connected_branch_CGAL: 78.77621269226074\n",
      "Working on limb correspondence for #0 MAP piece\n"
     ]
    },
    {
     "data": {
      "application/vnd.jupyter.widget-view+json": {
       "model_id": "411fe88a66d24a9989680a8d637a9a3e",
       "version_major": 2,
       "version_minor": 0
      },
      "text/plain": [
       "HBox(children=(FloatProgress(value=1.0, bar_style='info', layout=Layout(width='20px'), max=1.0), HTML(value=''…"
      ]
     },
     "metadata": {},
     "output_type": "display_data"
    },
    {
     "name": "stdout",
     "output_type": "stream",
     "text": [
      "\n",
      "Total time for decomposition = 21.96162509918213\n",
      "mesh_correspondence_first_pass: 21.961654901504517\n",
      "Limb decomposed into 21 branches\n",
      "divided_skeleton_graph_recovered = (1735, 2, 3) and \n",
      "current_mesh_data[0]['branch_skeletons_cleaned'].shape = (1735, 2, 3)\n",
      "\n",
      "Number of connected components in deocmposed recovered graph = 1\n",
      "Number of connected components in cleaned skeleton graph= 1\n",
      "The downsampled branches number of connected components = 1\n",
      "Empty submeshes = []\n",
      "\n",
      "\n",
      "--- Working on 1-to-1 correspondence-----\n",
      "max(original_labels),len(original_labels) = (20, 21)\n",
      "empty_indices % = 0.02316252937521947\n",
      " conflict_indices % = 0.027268307177007643\n"
     ]
    },
    {
     "data": {
      "application/vnd.jupyter.widget-view+json": {
       "model_id": "e85b50b9d4e046f48ed3d61a0edb1a45",
       "version_major": 2,
       "version_minor": 0
      },
      "text/plain": [
       "HBox(children=(FloatProgress(value=0.0, max=32.0), HTML(value='')))"
      ]
     },
     "metadata": {},
     "output_type": "display_data"
    },
    {
     "name": "stdout",
     "output_type": "stream",
     "text": [
      "\n",
      "AFTER face_lookup_resolved_test\n",
      "Took 0 iterations to expand the label back\n",
      "Took 0 iterations to expand the label back\n"
     ]
    },
    {
     "data": {
      "application/vnd.jupyter.widget-view+json": {
       "model_id": "ae8b617d7db94deda34c454c53abc135",
       "version_major": 2,
       "version_minor": 0
      },
      "text/plain": [
       "HBox(children=(FloatProgress(value=0.0, max=21.0), HTML(value='')))"
      ]
     },
     "metadata": {},
     "output_type": "display_data"
    },
    {
     "name": "stdout",
     "output_type": "stream",
     "text": [
      "\n",
      "Total time for MAP sublimb #0 mesh processing = 106.62598514556885\n",
      "correspondence_1_to_1: 5.879037380218506\n",
      "Total time for MAP sublimb processing 106.62612724304199\n",
      "***************Arrived at MESH PIECES FOR MAP AND mp***************\n",
      "---- Working on MP Decomposition #0 ----\n",
      "MP filtering soma verts: 0.0047795772552490234\n",
      "Do Not Need to Fix MP Decomposition 0 so just continuing\n",
      "---- Working on MP Decomposition #1 ----\n",
      "MP filtering soma verts: 0.0005035400390625\n",
      "Do Not Need to Fix MP Decomposition 1 so just continuing\n",
      "---- Working on MP Decomposition #2 ----\n",
      "MP filtering soma verts: 0.0005817413330078125\n",
      "Do Not Need to Fix MP Decomposition 2 so just continuing\n",
      "---- Working on MP Decomposition #3 ----\n",
      "MP filtering soma verts: 0.0009503364562988281\n",
      "Do Not Need to Fix MP Decomposition 3 so just continuing\n",
      "---- Working on MP Decomposition #4 ----\n",
      "MP filtering soma verts: 0.0007543563842773438\n",
      "Do Not Need to Fix MP Decomposition 4 so just continuing\n",
      "---- Working on MP Decomposition #5 ----\n",
      "MP filtering soma verts: 0.0028374195098876953\n",
      "Do Not Need to Fix MP Decomposition 5 so just continuing\n",
      "\n",
      "---- Working on (0, 0) connection-----\n",
      "winning_vertex = [505650.10601563 746001.25483436 923569.77901208]\n",
      "MP_branches_with_stitch_point = [1]\n",
      "Current stitch point was not a branch or endpoint, shortest_path_length to one = 34086.85856420912\n",
      "MAP_branches_with_stitch_point = [0]\n",
      "MAP_stitch_point_on_end_or_branch = False\n"
     ]
    },
    {
     "data": {
      "application/vnd.jupyter.widget-view+json": {
       "model_id": "e7c9c2db22814584a528c7c030d64351",
       "version_major": 2,
       "version_minor": 0
      },
      "text/plain": [
       "HBox(children=(FloatProgress(value=1.0, bar_style='info', layout=Layout(width='20px'), max=1.0), HTML(value=''…"
      ]
     },
     "metadata": {},
     "output_type": "display_data"
    },
    {
     "name": "stdout",
     "output_type": "stream",
     "text": [
      "\n",
      "\n",
      "\n",
      "--- Working on 1-to-1 correspondence-----\n",
      "max(original_labels),len(original_labels) = (2, 3)\n",
      "empty_indices % = 0.010298761233908186\n",
      " conflict_indices % = 0.005295117804226378\n"
     ]
    },
    {
     "data": {
      "application/vnd.jupyter.widget-view+json": {
       "model_id": "c580e2e1e77844fc92f2a0d5c4ed547c",
       "version_major": 2,
       "version_minor": 0
      },
      "text/plain": [
       "HBox(children=(FloatProgress(value=0.0, max=5.0), HTML(value='')))"
      ]
     },
     "metadata": {},
     "output_type": "display_data"
    },
    {
     "name": "stdout",
     "output_type": "stream",
     "text": [
      "\n",
      "AFTER face_lookup_resolved_test\n"
     ]
    },
    {
     "data": {
      "application/vnd.jupyter.widget-view+json": {
       "model_id": "d57519b41390416f8f751a6f9ed4a153",
       "version_major": 2,
       "version_minor": 0
      },
      "text/plain": [
       "HBox(children=(FloatProgress(value=0.0, max=3.0), HTML(value='')))"
      ]
     },
     "metadata": {},
     "output_type": "display_data"
    },
    {
     "name": "stdout",
     "output_type": "stream",
     "text": [
      "\n",
      "Deleting branches from dictionary\n",
      " Finished with (0, 0) \n",
      "\n",
      "\n",
      "\n",
      "\n",
      "---- Working on (1, 0) connection-----\n",
      "winning_vertex = [591315.62600457 755607.78127527 885966.08547152]\n",
      "MP_branches_with_stitch_point = [0]\n",
      "Current stitch point was not a branch or endpoint, shortest_path_length to one = 17449.617380330263\n",
      "MAP_branches_with_stitch_point = [13]\n",
      "MAP_stitch_point_on_end_or_branch = False\n"
     ]
    },
    {
     "data": {
      "application/vnd.jupyter.widget-view+json": {
       "model_id": "4d47f940b77c42fa83348c9a04ffa1c7",
       "version_major": 2,
       "version_minor": 0
      },
      "text/plain": [
       "HBox(children=(FloatProgress(value=1.0, bar_style='info', layout=Layout(width='20px'), max=1.0), HTML(value=''…"
      ]
     },
     "metadata": {},
     "output_type": "display_data"
    },
    {
     "name": "stdout",
     "output_type": "stream",
     "text": [
      "\n",
      "\n",
      "\n",
      "--- Working on 1-to-1 correspondence-----\n",
      "max(original_labels),len(original_labels) = (2, 3)\n",
      "empty_indices % = 0.02266376901583359\n",
      " conflict_indices % = 0.007101831729276622\n"
     ]
    },
    {
     "data": {
      "application/vnd.jupyter.widget-view+json": {
       "model_id": "0ca7b35079084cfb852fc0e174d53ba5",
       "version_major": 2,
       "version_minor": 0
      },
      "text/plain": [
       "HBox(children=(FloatProgress(value=0.0, max=5.0), HTML(value='')))"
      ]
     },
     "metadata": {},
     "output_type": "display_data"
    },
    {
     "name": "stdout",
     "output_type": "stream",
     "text": [
      "\n",
      "AFTER face_lookup_resolved_test\n"
     ]
    },
    {
     "data": {
      "application/vnd.jupyter.widget-view+json": {
       "model_id": "c446f01011d147ed864846834a3b4d4c",
       "version_major": 2,
       "version_minor": 0
      },
      "text/plain": [
       "HBox(children=(FloatProgress(value=0.0, max=3.0), HTML(value='')))"
      ]
     },
     "metadata": {},
     "output_type": "display_data"
    },
    {
     "name": "stdout",
     "output_type": "stream",
     "text": [
      "\n",
      "Deleting branches from dictionary\n",
      " Finished with (1, 0) \n",
      "\n",
      "\n",
      "\n",
      "\n",
      "---- Working on (2, 0) connection-----\n",
      "winning_vertex = [589993.58813283 848905.60513635 860067.00912503]\n",
      "MP_branches_with_stitch_point = [0]\n",
      "Current stitch point was not a branch or endpoint, shortest_path_length to one = 32219.25673493073\n",
      "MAP_branches_with_stitch_point = [8]\n",
      "MAP_stitch_point_on_end_or_branch = False\n"
     ]
    },
    {
     "data": {
      "application/vnd.jupyter.widget-view+json": {
       "model_id": "1582a53ce6a1497ab4ba4c94fcbf108d",
       "version_major": 2,
       "version_minor": 0
      },
      "text/plain": [
       "HBox(children=(FloatProgress(value=1.0, bar_style='info', layout=Layout(width='20px'), max=1.0), HTML(value=''…"
      ]
     },
     "metadata": {},
     "output_type": "display_data"
    },
    {
     "name": "stdout",
     "output_type": "stream",
     "text": [
      "\n",
      "\n",
      "\n",
      "--- Working on 1-to-1 correspondence-----\n",
      "max(original_labels),len(original_labels) = (2, 3)\n",
      "empty_indices % = 0.020377555345440317\n",
      " conflict_indices % = 0.00730331583580581\n"
     ]
    },
    {
     "data": {
      "application/vnd.jupyter.widget-view+json": {
       "model_id": "5064b0175d804451b29deb1156ad9785",
       "version_major": 2,
       "version_minor": 0
      },
      "text/plain": [
       "HBox(children=(FloatProgress(value=0.0, max=7.0), HTML(value='')))"
      ]
     },
     "metadata": {},
     "output_type": "display_data"
    },
    {
     "name": "stdout",
     "output_type": "stream",
     "text": [
      "\n",
      "AFTER face_lookup_resolved_test\n"
     ]
    },
    {
     "data": {
      "application/vnd.jupyter.widget-view+json": {
       "model_id": "fd7ae8b12b02449689f8e67a1ca80950",
       "version_major": 2,
       "version_minor": 0
      },
      "text/plain": [
       "HBox(children=(FloatProgress(value=0.0, max=3.0), HTML(value='')))"
      ]
     },
     "metadata": {},
     "output_type": "display_data"
    },
    {
     "name": "stdout",
     "output_type": "stream",
     "text": [
      "\n",
      "Deleting branches from dictionary\n",
      " Finished with (2, 0) \n",
      "\n",
      "\n",
      "\n",
      "\n",
      "---- Working on (3, 0) connection-----\n",
      "winning_vertex = [607264.25124866 731077.89478847 879920.32434012]\n",
      "MP_branches_with_stitch_point = [0]\n",
      "Current stitch point was not a branch or endpoint, shortest_path_length to one = 49849.07350985962\n",
      "MAP_branches_with_stitch_point = [22]\n",
      "MAP_stitch_point_on_end_or_branch = False\n"
     ]
    },
    {
     "data": {
      "application/vnd.jupyter.widget-view+json": {
       "model_id": "8eee53fd46cb461b92acb6d705a7b117",
       "version_major": 2,
       "version_minor": 0
      },
      "text/plain": [
       "HBox(children=(FloatProgress(value=1.0, bar_style='info', layout=Layout(width='20px'), max=1.0), HTML(value=''…"
      ]
     },
     "metadata": {},
     "output_type": "display_data"
    },
    {
     "name": "stdout",
     "output_type": "stream",
     "text": [
      "\n",
      "\n",
      "\n",
      "--- Working on 1-to-1 correspondence-----\n",
      "max(original_labels),len(original_labels) = (2, 3)\n",
      "empty_indices % = 0.023882699449353312\n",
      " conflict_indices % = 0.006851069279037008\n"
     ]
    },
    {
     "data": {
      "application/vnd.jupyter.widget-view+json": {
       "model_id": "fa2823d8243b40b59d49c7fda812a97b",
       "version_major": 2,
       "version_minor": 0
      },
      "text/plain": [
       "HBox(children=(FloatProgress(value=0.0, max=9.0), HTML(value='')))"
      ]
     },
     "metadata": {},
     "output_type": "display_data"
    },
    {
     "name": "stdout",
     "output_type": "stream",
     "text": [
      "\n",
      "AFTER face_lookup_resolved_test\n"
     ]
    },
    {
     "data": {
      "application/vnd.jupyter.widget-view+json": {
       "model_id": "02c0ed9aa4d14430947d50b1f6d8cd87",
       "version_major": 2,
       "version_minor": 0
      },
      "text/plain": [
       "HBox(children=(FloatProgress(value=0.0, max=3.0), HTML(value='')))"
      ]
     },
     "metadata": {},
     "output_type": "display_data"
    },
    {
     "name": "stdout",
     "output_type": "stream",
     "text": [
      "\n",
      "Deleting branches from dictionary\n",
      " Finished with (3, 0) \n",
      "\n",
      "\n",
      "\n",
      "\n",
      "---- Working on (4, 0) connection-----\n",
      "winning_vertex = [477594.5557203  748794.27625902 935731.93490347]\n",
      "MP_branches_with_stitch_point = [0, 1]\n",
      "Current stitch point was a branch or endpoint\n",
      "MAP_branches_with_stitch_point = [0]\n",
      "MAP_stitch_point_on_end_or_branch = True\n"
     ]
    },
    {
     "data": {
      "application/vnd.jupyter.widget-view+json": {
       "model_id": "746461953b9b431a9bfd48cdab819def",
       "version_major": 2,
       "version_minor": 0
      },
      "text/plain": [
       "HBox(children=(FloatProgress(value=1.0, bar_style='info', layout=Layout(width='20px'), max=1.0), HTML(value=''…"
      ]
     },
     "metadata": {},
     "output_type": "display_data"
    },
    {
     "name": "stdout",
     "output_type": "stream",
     "text": [
      "\n",
      "\n",
      "\n",
      "--- Working on 1-to-1 correspondence-----\n",
      "max(original_labels),len(original_labels) = (2, 3)\n",
      "empty_indices % = 0.03236889692585895\n",
      " conflict_indices % = 0.025135623869801085\n"
     ]
    },
    {
     "data": {
      "application/vnd.jupyter.widget-view+json": {
       "model_id": "5bcab69855c84db690d1f101456b1719",
       "version_major": 2,
       "version_minor": 0
      },
      "text/plain": [
       "HBox(children=(FloatProgress(value=0.0, max=4.0), HTML(value='')))"
      ]
     },
     "metadata": {},
     "output_type": "display_data"
    },
    {
     "name": "stdout",
     "output_type": "stream",
     "text": [
      "\n",
      "AFTER face_lookup_resolved_test\n"
     ]
    },
    {
     "data": {
      "application/vnd.jupyter.widget-view+json": {
       "model_id": "98fcc6df3ea744c3b4d8f90abb143983",
       "version_major": 2,
       "version_minor": 0
      },
      "text/plain": [
       "HBox(children=(FloatProgress(value=0.0, max=3.0), HTML(value='')))"
      ]
     },
     "metadata": {},
     "output_type": "display_data"
    },
    {
     "name": "stdout",
     "output_type": "stream",
     "text": [
      "\n",
      " Finished with (4, 0) \n",
      "\n",
      "\n",
      "\n",
      "\n",
      "---- Working on (5, 0) connection-----\n",
      "winning_vertex = [597327.89804131 746508.67764411 884683.08259358]\n",
      "MP_branches_with_stitch_point = [0]\n",
      "Current stitch point was not a branch or endpoint, shortest_path_length to one = 29322.62756878811\n",
      "MAP_branches_with_stitch_point = [22]\n",
      "MAP_stitch_point_on_end_or_branch = False\n"
     ]
    },
    {
     "data": {
      "application/vnd.jupyter.widget-view+json": {
       "model_id": "3ad615230477449c82af2d847ca1ff17",
       "version_major": 2,
       "version_minor": 0
      },
      "text/plain": [
       "HBox(children=(FloatProgress(value=1.0, bar_style='info', layout=Layout(width='20px'), max=1.0), HTML(value=''…"
      ]
     },
     "metadata": {},
     "output_type": "display_data"
    },
    {
     "name": "stdout",
     "output_type": "stream",
     "text": [
      "\n",
      "\n",
      "\n",
      "--- Working on 1-to-1 correspondence-----\n",
      "max(original_labels),len(original_labels) = (2, 3)\n",
      "empty_indices % = 0.012968922618761708\n",
      " conflict_indices % = 0.00922234497334166\n"
     ]
    },
    {
     "data": {
      "application/vnd.jupyter.widget-view+json": {
       "model_id": "21ff4109f68d4fd58eeab121e2dbd6c7",
       "version_major": 2,
       "version_minor": 0
      },
      "text/plain": [
       "HBox(children=(FloatProgress(value=0.0, max=6.0), HTML(value='')))"
      ]
     },
     "metadata": {},
     "output_type": "display_data"
    },
    {
     "name": "stdout",
     "output_type": "stream",
     "text": [
      "\n",
      "AFTER face_lookup_resolved_test\n"
     ]
    },
    {
     "data": {
      "application/vnd.jupyter.widget-view+json": {
       "model_id": "ae251459ae4449e7ab1ad5561dc41973",
       "version_major": 2,
       "version_minor": 0
      },
      "text/plain": [
       "HBox(children=(FloatProgress(value=0.0, max=3.0), HTML(value='')))"
      ]
     },
     "metadata": {},
     "output_type": "display_data"
    },
    {
     "name": "stderr",
     "output_type": "stream",
     "text": [
      "\r",
      "  0%|          | 0/1 [00:00<?, ?it/s]"
     ]
    },
    {
     "name": "stdout",
     "output_type": "stream",
     "text": [
      "\n",
      "Deleting branches from dictionary\n",
      " Finished with (5, 0) \n",
      "\n",
      "\n",
      "\n",
      "Time for decomp of Limb 1 = 138.61580204963684\n",
      "\n",
      "\n",
      "----- Working on Proper Limb #2 ---------\n",
      "Time for preparing soma vertices and root: 0.0001614093780517578\n",
      "smooth_neighborhood = 1\n"
     ]
    },
    {
     "data": {
      "application/vnd.jupyter.widget-view+json": {
       "model_id": "9b9771128dd5437aad890f4a3bddcd49",
       "version_major": 2,
       "version_minor": 0
      },
      "text/plain": [
       "HBox(children=(FloatProgress(value=0.0, max=75956.0), HTML(value='')))"
      ]
     },
     "metadata": {},
     "output_type": "display_data"
    },
    {
     "name": "stderr",
     "output_type": "stream",
     "text": [
      "100%|██████████| 1/1 [00:00<00:00,  1.22it/s]"
     ]
    },
    {
     "name": "stdout",
     "output_type": "stream",
     "text": [
      "\n"
     ]
    },
    {
     "name": "stderr",
     "output_type": "stream",
     "text": [
      "\n"
     ]
    },
    {
     "name": "stdout",
     "output_type": "stream",
     "text": [
      "Time for 1st pass MP skeletonization: 1.5369820594787598\n",
      "branches_touching_root = [16]\n",
      "empty_indices % = 0.0\n",
      " conflict_indices % = 0.004497097688055947\n"
     ]
    },
    {
     "data": {
      "application/vnd.jupyter.widget-view+json": {
       "model_id": "b0d3152ec8a442cb952772606083c1f5",
       "version_major": 2,
       "version_minor": 0
      },
      "text/plain": [
       "HBox(children=(FloatProgress(value=0.0, max=8.0), HTML(value='')))"
      ]
     },
     "metadata": {},
     "output_type": "display_data"
    },
    {
     "name": "stdout",
     "output_type": "stream",
     "text": [
      "\n",
      "AFTER face_lookup_resolved_test\n"
     ]
    },
    {
     "data": {
      "application/vnd.jupyter.widget-view+json": {
       "model_id": "b0a3889d1272420688e1f758b9e11ef9",
       "version_major": 2,
       "version_minor": 0
      },
      "text/plain": [
       "HBox(children=(FloatProgress(value=0.0, max=17.0), HTML(value='')))"
      ]
     },
     "metadata": {},
     "output_type": "display_data"
    },
    {
     "name": "stdout",
     "output_type": "stream",
     "text": [
      "\n",
      "Decomposing first pass: 3.0672736167907715\n",
      "Found len(mesh_large_idx) MAP candidates: [837, 26606, 2227, 1641, 17028, 4103, 27170, 20154]\n",
      "mesh_large_connectivity: 0.1882321834564209\n",
      "Finding MAP candidates connected components: 0.00016689300537109375\n",
      "len(filtered_pieces) = 1\n",
      "Gettng rid of 1 nodes\n",
      "skeleton_connectivity_MP : 0.1795182228088379\n",
      "Grouping MP Sublimbs by Graph: 0.027534008026123047\n",
      "Divinding into MP and MAP pieces: 2.1457672119140625e-06\n",
      "--- Working on MAP piece 0---\n",
      "MAP Filtering Soma Pieces: 0.006338596343994141\n",
      "inside skeletonize_connected_branch and use_surface_after_CGAL=False\n",
      "     Starting Screened Poisson\n",
      "xvfb-run -n 8487 -s \"-screen 0 800x600x24\" meshlabserver $@  -i /notebooks/Platinum_Decomp_Fusion/temp/None.off -o /notebooks/Platinum_Decomp_Fusion/temp/None_poisson.off -s /notebooks/Platinum_Decomp_Fusion/temp/poisson_623918.mls\n",
      "removed temporary input file: /notebooks/Platinum_Decomp_Fusion/temp/None.off\n",
      "removed temporary output file: /notebooks/Platinum_Decomp_Fusion/temp/None_poisson.off\n",
      "Using the close holes feature\n",
      "xvfb-run -n 7156 -s \"-screen 0 800x600x24\" meshlabserver $@  -i /notebooks/Platinum_Decomp_Fusion/temp/neuron_96207.off -o /notebooks/Platinum_Decomp_Fusion/temp/neuron_96207_fill_holes.off -s /notebooks/Platinum_Decomp_Fusion/temp/fill_holes_78376.mls\n",
      "removed temporary input file: /notebooks/Platinum_Decomp_Fusion/temp/neuron_96207.off\n",
      "removed temporary output file: /notebooks/Platinum_Decomp_Fusion/temp/neuron_96207_fill_holes.off\n",
      "-----Time for Screened Poisson= 29.2876238822937\n",
      "     Starting Calcification\n",
      "Before mesh subtraction number of skeleton edges = 1171\n",
      "Inside mesh subtraction, len(main_mesh_bbox_restricted.faces) = 99766\n"
     ]
    },
    {
     "data": {
      "application/vnd.jupyter.widget-view+json": {
       "model_id": "adf4039dc7a0426f9b25e219d46f6d65",
       "version_major": 2,
       "version_minor": 0
      },
      "text/plain": [
       "HBox(children=(FloatProgress(value=1.0, bar_style='info', layout=Layout(width='20px'), max=1.0), HTML(value=''…"
      ]
     },
     "metadata": {},
     "output_type": "display_data"
    },
    {
     "name": "stdout",
     "output_type": "stream",
     "text": [
      "\n",
      "Total Mesh subtraction time = 12.9261\n"
     ]
    },
    {
     "data": {
      "application/vnd.jupyter.widget-view+json": {
       "model_id": "399a14fa32b8499d9bda046d858b1d6d",
       "version_major": 2,
       "version_minor": 0
      },
      "text/plain": [
       "HBox(children=(FloatProgress(value=1.0, bar_style='info', layout=Layout(width='20px'), max=1.0), HTML(value=''…"
      ]
     },
     "metadata": {},
     "output_type": "display_data"
    },
    {
     "name": "stdout",
     "output_type": "stream",
     "text": [
      "\n",
      "No skeletons to stack so returning empty list\n",
      "len_subgraphs AT BEGINNING of the loop\n"
     ]
    },
    {
     "data": {
      "application/vnd.jupyter.widget-view+json": {
       "model_id": "f471d637530c4821aad047c381f28b9a",
       "version_major": 2,
       "version_minor": 0
      },
      "text/plain": [
       "HBox(children=(FloatProgress(value=0.0, max=30.0), HTML(value='')))"
      ]
     },
     "metadata": {},
     "output_type": "display_data"
    },
    {
     "name": "stdout",
     "output_type": "stream",
     "text": [
      "all graph is one component!\n",
      "\n",
      "Total time for skeleton stitching = 0.08115267753601074\n",
      "The process was using a temp folder\n",
      "    Total time for skeletonizing branch: 50.990334272384644\n",
      "skipping soma 0 because closest skeleton node was already end node\n",
      "    Total time for Fixing Skeleton Soma Endpoint Extension : 3.662947177886963\n",
      "filter_end_node_length = 4001\n",
      "Using Distance measure skeletal_distance\n",
      "Going to ignore certain endnodes that are 5000 nm close to soma border vertices\n",
      "Number of end_nodes BEFORE filtering = 55\n",
      "Using an already specified end node: 0 with index 0checking was correct node end_nodes[index] = 0\n",
      "May Eliminate end_node 0: 0 because path_len to soma border was 2259.8081093381766\n",
      "single_node_to_eliminate = 0\n",
      "all_single_nodes_to_eliminate = [0, 0]\n"
     ]
    },
    {
     "data": {
      "application/vnd.jupyter.widget-view+json": {
       "model_id": "91bc5ec605b8469897ad3b8ee4447c5b",
       "version_major": 2,
       "version_minor": 0
      },
      "text/plain": [
       "HBox(children=(FloatProgress(value=0.0, max=50.0), HTML(value='')))"
      ]
     },
     "metadata": {},
     "output_type": "display_data"
    },
    {
     "name": "stdout",
     "output_type": "stream",
     "text": [
      "\n",
      "********COMBINING CLOSE SKELETON NODES WITHIN 700 DISTANCE**********\n",
      "Found 0 valid paths to replace\n",
      "valid_paths = []\n",
      "valid_path_lengths = []\n",
      "No valid paths found so just returning the original\n",
      "skeletonize_and_clean_connected_branch_CGAL: 56.91725492477417\n",
      "Working on limb correspondence for #0 MAP piece\n"
     ]
    },
    {
     "data": {
      "application/vnd.jupyter.widget-view+json": {
       "model_id": "36a1f783160d4cc7a184a90bb561b8a6",
       "version_major": 2,
       "version_minor": 0
      },
      "text/plain": [
       "HBox(children=(FloatProgress(value=1.0, bar_style='info', layout=Layout(width='20px'), max=1.0), HTML(value=''…"
      ]
     },
     "metadata": {},
     "output_type": "display_data"
    },
    {
     "name": "stderr",
     "output_type": "stream",
     "text": [
      "WARNING:trimesh:face_normals all zero, ignoring!\n"
     ]
    },
    {
     "name": "stdout",
     "output_type": "stream",
     "text": [
      "\n",
      "Total time for decomposition = 11.968161344528198\n",
      "mesh_correspondence_first_pass: 11.96819257736206\n",
      "Limb decomposed into 7 branches\n",
      "divided_skeleton_graph_recovered = (1089, 2, 3) and \n",
      "current_mesh_data[0]['branch_skeletons_cleaned'].shape = (1089, 2, 3)\n",
      "\n",
      "Number of connected components in deocmposed recovered graph = 1\n",
      "Number of connected components in cleaned skeleton graph= 1\n",
      "The downsampled branches number of connected components = 1\n",
      "Empty submeshes = []\n",
      "\n",
      "\n",
      "--- Working on 1-to-1 correspondence-----\n",
      "max(original_labels),len(original_labels) = (6, 7)\n",
      "empty_indices % = 0.03289697893069783\n",
      " conflict_indices % = 0.008950945211795602\n"
     ]
    },
    {
     "data": {
      "application/vnd.jupyter.widget-view+json": {
       "model_id": "8c30b66e94bd4c72af39569675f8868a",
       "version_major": 2,
       "version_minor": 0
      },
      "text/plain": [
       "HBox(children=(FloatProgress(value=0.0, max=25.0), HTML(value='')))"
      ]
     },
     "metadata": {},
     "output_type": "display_data"
    },
    {
     "name": "stdout",
     "output_type": "stream",
     "text": [
      "\n",
      "AFTER face_lookup_resolved_test\n",
      "Took 0 iterations to expand the label back\n"
     ]
    },
    {
     "data": {
      "application/vnd.jupyter.widget-view+json": {
       "model_id": "ff00cc9f314845efb666bd6275d2aea8",
       "version_major": 2,
       "version_minor": 0
      },
      "text/plain": [
       "HBox(children=(FloatProgress(value=0.0, max=7.0), HTML(value='')))"
      ]
     },
     "metadata": {},
     "output_type": "display_data"
    },
    {
     "name": "stdout",
     "output_type": "stream",
     "text": [
      "\n",
      "Total time for MAP sublimb #0 mesh processing = 72.51001048088074\n",
      "correspondence_1_to_1: 3.618206024169922\n",
      "Total time for MAP sublimb processing 72.51036334037781\n",
      "***************Arrived at MESH PIECES FOR MAP AND mp***************\n",
      "---- Working on MP Decomposition #0 ----\n",
      "MP filtering soma verts: 0.0022630691528320312\n",
      "Do Not Need to Fix MP Decomposition 0 so just continuing\n",
      "---- Working on MP Decomposition #1 ----\n",
      "MP filtering soma verts: 0.0012509822845458984\n",
      "Do Not Need to Fix MP Decomposition 1 so just continuing\n",
      "---- Working on MP Decomposition #2 ----\n",
      "MP filtering soma verts: 0.001346588134765625\n",
      "Do Not Need to Fix MP Decomposition 2 so just continuing\n",
      "---- Working on MP Decomposition #3 ----\n",
      "MP filtering soma verts: 0.0007002353668212891\n",
      "Do Not Need to Fix MP Decomposition 3 so just continuing\n",
      "---- Working on MP Decomposition #4 ----\n",
      "MP filtering soma verts: 0.0013322830200195312\n",
      "Do Not Need to Fix MP Decomposition 4 so just continuing\n",
      "\n",
      "---- Working on (0, 0) connection-----\n",
      "winning_vertex = [663874.07691202 910533.71524588 907397.77593947]\n",
      "MP_branches_with_stitch_point = [0, 1]\n",
      "Current stitch point was a branch or endpoint\n",
      "MAP_branches_with_stitch_point = [5]\n",
      "MAP_stitch_point_on_end_or_branch = True\n"
     ]
    },
    {
     "data": {
      "application/vnd.jupyter.widget-view+json": {
       "model_id": "6527272a56164e43b8b016282653321d",
       "version_major": 2,
       "version_minor": 0
      },
      "text/plain": [
       "HBox(children=(FloatProgress(value=1.0, bar_style='info', layout=Layout(width='20px'), max=1.0), HTML(value=''…"
      ]
     },
     "metadata": {},
     "output_type": "display_data"
    },
    {
     "name": "stdout",
     "output_type": "stream",
     "text": [
      "\n",
      "\n",
      "\n",
      "--- Working on 1-to-1 correspondence-----\n",
      "max(original_labels),len(original_labels) = (2, 3)\n",
      "empty_indices % = 0.024513608263976236\n",
      " conflict_indices % = 0.006958011079294565\n"
     ]
    },
    {
     "data": {
      "application/vnd.jupyter.widget-view+json": {
       "model_id": "c5efc9af0658429baa8ba3cdcddf895e",
       "version_major": 2,
       "version_minor": 0
      },
      "text/plain": [
       "HBox(children=(FloatProgress(value=0.0, max=7.0), HTML(value='')))"
      ]
     },
     "metadata": {},
     "output_type": "display_data"
    },
    {
     "name": "stdout",
     "output_type": "stream",
     "text": [
      "\n",
      "AFTER face_lookup_resolved_test\n"
     ]
    },
    {
     "data": {
      "application/vnd.jupyter.widget-view+json": {
       "model_id": "d8d4c5993af44f0a9b0bb83a6d63a0fc",
       "version_major": 2,
       "version_minor": 0
      },
      "text/plain": [
       "HBox(children=(FloatProgress(value=0.0, max=3.0), HTML(value='')))"
      ]
     },
     "metadata": {},
     "output_type": "display_data"
    },
    {
     "name": "stdout",
     "output_type": "stream",
     "text": [
      "\n",
      " Finished with (0, 0) \n",
      "\n",
      "\n",
      "\n",
      "\n",
      "---- Working on (1, 0) connection-----\n",
      "winning_vertex = [662955.77795536 905826.64719248 907850.51395737]\n",
      "MP_branches_with_stitch_point = [0]\n",
      "Current stitch point was not a branch or endpoint, shortest_path_length to one = 2860.641893568647\n",
      "MAP_branches_with_stitch_point = [5]\n",
      "MAP_stitch_point_on_end_or_branch = False\n"
     ]
    },
    {
     "data": {
      "application/vnd.jupyter.widget-view+json": {
       "model_id": "300658657123443b8093273e4821f157",
       "version_major": 2,
       "version_minor": 0
      },
      "text/plain": [
       "HBox(children=(FloatProgress(value=1.0, bar_style='info', layout=Layout(width='20px'), max=1.0), HTML(value=''…"
      ]
     },
     "metadata": {},
     "output_type": "display_data"
    },
    {
     "name": "stdout",
     "output_type": "stream",
     "text": [
      "\n",
      "\n",
      "\n",
      "--- Working on 1-to-1 correspondence-----\n",
      "max(original_labels),len(original_labels) = (2, 3)\n",
      "empty_indices % = 0.02307824002739257\n",
      " conflict_indices % = 0.0030131826741996233\n"
     ]
    },
    {
     "data": {
      "application/vnd.jupyter.widget-view+json": {
       "model_id": "a7aa772918374c6e98ea3cd9578a18f1",
       "version_major": 2,
       "version_minor": 0
      },
      "text/plain": [
       "HBox(children=(FloatProgress(value=0.0, max=8.0), HTML(value='')))"
      ]
     },
     "metadata": {},
     "output_type": "display_data"
    },
    {
     "name": "stdout",
     "output_type": "stream",
     "text": [
      "\n",
      "AFTER face_lookup_resolved_test\n"
     ]
    },
    {
     "data": {
      "application/vnd.jupyter.widget-view+json": {
       "model_id": "1d5ee438397148679bc3cc157437b9d0",
       "version_major": 2,
       "version_minor": 0
      },
      "text/plain": [
       "HBox(children=(FloatProgress(value=0.0, max=3.0), HTML(value='')))"
      ]
     },
     "metadata": {},
     "output_type": "display_data"
    },
    {
     "name": "stdout",
     "output_type": "stream",
     "text": [
      "\n",
      "Deleting branches from dictionary\n",
      " Finished with (1, 0) \n",
      "\n",
      "\n",
      "\n",
      "\n",
      "---- Working on (2, 0) connection-----\n",
      "Gettng rid of 1 nodes\n",
      "winning_vertex = [592481.98044849 775891.86305588 963189.98436009]\n",
      "MP_branches_with_stitch_point = [1]\n",
      "Current stitch point was not a branch or endpoint, shortest_path_length to one = 28047.712736971385\n",
      "MAP_branches_with_stitch_point = [1]\n",
      "MAP_stitch_point_on_end_or_branch = False\n"
     ]
    },
    {
     "data": {
      "application/vnd.jupyter.widget-view+json": {
       "model_id": "888f20726a604a4c8f827f5f5ff00f12",
       "version_major": 2,
       "version_minor": 0
      },
      "text/plain": [
       "HBox(children=(FloatProgress(value=1.0, bar_style='info', layout=Layout(width='20px'), max=1.0), HTML(value=''…"
      ]
     },
     "metadata": {},
     "output_type": "display_data"
    },
    {
     "name": "stdout",
     "output_type": "stream",
     "text": [
      "\n",
      "\n",
      "\n",
      "--- Working on 1-to-1 correspondence-----\n",
      "max(original_labels),len(original_labels) = (2, 3)\n",
      "empty_indices % = 0.012411560139105408\n",
      " conflict_indices % = 0.0082443938122077\n"
     ]
    },
    {
     "data": {
      "application/vnd.jupyter.widget-view+json": {
       "model_id": "73ad39f976e0499a8207d2aa1babd2ec",
       "version_major": 2,
       "version_minor": 0
      },
      "text/plain": [
       "HBox(children=(FloatProgress(value=0.0, max=9.0), HTML(value='')))"
      ]
     },
     "metadata": {},
     "output_type": "display_data"
    },
    {
     "name": "stdout",
     "output_type": "stream",
     "text": [
      "\n",
      "AFTER face_lookup_resolved_test\n"
     ]
    },
    {
     "data": {
      "application/vnd.jupyter.widget-view+json": {
       "model_id": "d50a9a9500054d3daafb5b93857bdb7f",
       "version_major": 2,
       "version_minor": 0
      },
      "text/plain": [
       "HBox(children=(FloatProgress(value=0.0, max=3.0), HTML(value='')))"
      ]
     },
     "metadata": {},
     "output_type": "display_data"
    },
    {
     "name": "stdout",
     "output_type": "stream",
     "text": [
      "\n",
      "Deleting branches from dictionary\n",
      " Finished with (2, 0) \n",
      "\n",
      "\n",
      "\n",
      "\n",
      "---- Working on (3, 0) connection-----\n",
      "winning_vertex = [597639.10168588 778777.29258182 895857.12781047]\n",
      "MP_branches_with_stitch_point = [0]\n",
      "Current stitch point was not a branch or endpoint, shortest_path_length to one = 5931.662119575201\n",
      "MAP_branches_with_stitch_point = [4]\n",
      "MAP_stitch_point_on_end_or_branch = False\n"
     ]
    },
    {
     "data": {
      "application/vnd.jupyter.widget-view+json": {
       "model_id": "bf104de44ea94d10bed168a2fcfa6af2",
       "version_major": 2,
       "version_minor": 0
      },
      "text/plain": [
       "HBox(children=(FloatProgress(value=1.0, bar_style='info', layout=Layout(width='20px'), max=1.0), HTML(value=''…"
      ]
     },
     "metadata": {},
     "output_type": "display_data"
    },
    {
     "name": "stdout",
     "output_type": "stream",
     "text": [
      "\n",
      "\n",
      "\n",
      "--- Working on 1-to-1 correspondence-----\n",
      "max(original_labels),len(original_labels) = (2, 3)\n",
      "empty_indices % = 0.035458452722063036\n",
      " conflict_indices % = 0.02184813753581662\n"
     ]
    },
    {
     "data": {
      "application/vnd.jupyter.widget-view+json": {
       "model_id": "9be3dfd7b8b644c98e20637207f3b61e",
       "version_major": 2,
       "version_minor": 0
      },
      "text/plain": [
       "HBox(children=(FloatProgress(value=0.0, max=2.0), HTML(value='')))"
      ]
     },
     "metadata": {},
     "output_type": "display_data"
    },
    {
     "name": "stdout",
     "output_type": "stream",
     "text": [
      "\n",
      "AFTER face_lookup_resolved_test\n"
     ]
    },
    {
     "data": {
      "application/vnd.jupyter.widget-view+json": {
       "model_id": "c9920fa9ab464180a953be2503fcb1e2",
       "version_major": 2,
       "version_minor": 0
      },
      "text/plain": [
       "HBox(children=(FloatProgress(value=0.0, max=3.0), HTML(value='')))"
      ]
     },
     "metadata": {},
     "output_type": "display_data"
    },
    {
     "name": "stdout",
     "output_type": "stream",
     "text": [
      "\n",
      "Deleting branches from dictionary\n",
      " Finished with (3, 0) \n",
      "\n",
      "\n",
      "\n",
      "\n",
      "---- Working on (4, 0) connection-----\n",
      "winning_vertex = [648531.23433295 699616.10245187 872905.97328518]\n",
      "MP_branches_with_stitch_point = [0, 1]\n",
      "Current stitch point was a branch or endpoint\n",
      "MAP_branches_with_stitch_point = [3]\n",
      "MAP_stitch_point_on_end_or_branch = True\n"
     ]
    },
    {
     "data": {
      "application/vnd.jupyter.widget-view+json": {
       "model_id": "c6bc88c2c77247328109b50f39299556",
       "version_major": 2,
       "version_minor": 0
      },
      "text/plain": [
       "HBox(children=(FloatProgress(value=1.0, bar_style='info', layout=Layout(width='20px'), max=1.0), HTML(value=''…"
      ]
     },
     "metadata": {},
     "output_type": "display_data"
    },
    {
     "name": "stdout",
     "output_type": "stream",
     "text": [
      "\n",
      "\n",
      "\n",
      "--- Working on 1-to-1 correspondence-----\n",
      "max(original_labels),len(original_labels) = (2, 3)\n",
      "empty_indices % = 0.005778433201914106\n",
      " conflict_indices % = 0.005898817226953983\n"
     ]
    },
    {
     "data": {
      "application/vnd.jupyter.widget-view+json": {
       "model_id": "3a7c8ed96ce54796ad1b103ac2392a3f",
       "version_major": 2,
       "version_minor": 0
      },
      "text/plain": [
       "HBox(children=(FloatProgress(value=0.0, max=4.0), HTML(value='')))"
      ]
     },
     "metadata": {},
     "output_type": "display_data"
    },
    {
     "name": "stdout",
     "output_type": "stream",
     "text": [
      "\n",
      "AFTER face_lookup_resolved_test\n"
     ]
    },
    {
     "data": {
      "application/vnd.jupyter.widget-view+json": {
       "model_id": "87c1750a3bae45a5807324b479d83542",
       "version_major": 2,
       "version_minor": 0
      },
      "text/plain": [
       "HBox(children=(FloatProgress(value=0.0, max=3.0), HTML(value='')))"
      ]
     },
     "metadata": {},
     "output_type": "display_data"
    },
    {
     "name": "stderr",
     "output_type": "stream",
     "text": [
      "\r",
      "  0%|          | 0/1 [00:00<?, ?it/s]"
     ]
    },
    {
     "name": "stdout",
     "output_type": "stream",
     "text": [
      "\n",
      " Finished with (4, 0) \n",
      "\n",
      "\n",
      "\n",
      "Time for decomp of Limb 2 = 99.89437913894653\n",
      "\n",
      "\n",
      "----- Working on Proper Limb #3 ---------\n",
      "Time for preparing soma vertices and root: 0.0001723766326904297\n",
      "smooth_neighborhood = 1\n"
     ]
    },
    {
     "data": {
      "application/vnd.jupyter.widget-view+json": {
       "model_id": "21f598b3e4064b658235560fc9890e88",
       "version_major": 2,
       "version_minor": 0
      },
      "text/plain": [
       "HBox(children=(FloatProgress(value=0.0, max=54060.0), HTML(value='')))"
      ]
     },
     "metadata": {},
     "output_type": "display_data"
    },
    {
     "name": "stderr",
     "output_type": "stream",
     "text": [
      "100%|██████████| 1/1 [00:00<00:00,  2.30it/s]"
     ]
    },
    {
     "name": "stdout",
     "output_type": "stream",
     "text": [
      "\n"
     ]
    },
    {
     "name": "stderr",
     "output_type": "stream",
     "text": [
      "\n"
     ]
    },
    {
     "name": "stdout",
     "output_type": "stream",
     "text": [
      "Time for 1st pass MP skeletonization: 0.9817872047424316\n",
      "branches_touching_root = [10]\n",
      "empty_indices % = 0.0\n",
      " conflict_indices % = 0.004553337104596923\n"
     ]
    },
    {
     "data": {
      "application/vnd.jupyter.widget-view+json": {
       "model_id": "3d3a4caceffe40c1a565947b2d7c85e7",
       "version_major": 2,
       "version_minor": 0
      },
      "text/plain": [
       "HBox(children=(FloatProgress(value=0.0, max=4.0), HTML(value='')))"
      ]
     },
     "metadata": {},
     "output_type": "display_data"
    },
    {
     "name": "stdout",
     "output_type": "stream",
     "text": [
      "\n",
      "AFTER face_lookup_resolved_test\n"
     ]
    },
    {
     "data": {
      "application/vnd.jupyter.widget-view+json": {
       "model_id": "736440ff3e2e4a6fa60befbf72c37ad6",
       "version_major": 2,
       "version_minor": 0
      },
      "text/plain": [
       "HBox(children=(FloatProgress(value=0.0, max=11.0), HTML(value='')))"
      ]
     },
     "metadata": {},
     "output_type": "display_data"
    },
    {
     "name": "stdout",
     "output_type": "stream",
     "text": [
      "\n",
      "Decomposing first pass: 2.362661838531494\n",
      "Found len(mesh_large_idx) MAP candidates: [14386, 230, 19430, 12634, 6421, 12461, 13972, 13690]\n",
      "mesh_large_connectivity: 0.15798449516296387\n",
      "Finding MAP candidates connected components: 0.000156402587890625\n",
      "len(filtered_pieces) = 1\n",
      "skeleton_connectivity_MP : 0.06752967834472656\n",
      "Grouping MP Sublimbs by Graph: 0.008401632308959961\n",
      "Divinding into MP and MAP pieces: 1.9073486328125e-06\n",
      "--- Working on MAP piece 0---\n",
      "MAP Filtering Soma Pieces: 0.005808591842651367\n",
      "inside skeletonize_connected_branch and use_surface_after_CGAL=False\n",
      "     Starting Screened Poisson\n",
      "xvfb-run -n 6796 -s \"-screen 0 800x600x24\" meshlabserver $@  -i /notebooks/Platinum_Decomp_Fusion/temp/None.off -o /notebooks/Platinum_Decomp_Fusion/temp/None_poisson.off -s /notebooks/Platinum_Decomp_Fusion/temp/poisson_788544.mls\n",
      "removed temporary input file: /notebooks/Platinum_Decomp_Fusion/temp/None.off\n",
      "removed temporary output file: /notebooks/Platinum_Decomp_Fusion/temp/None_poisson.off\n",
      "Using the close holes feature\n",
      "xvfb-run -n 5692 -s \"-screen 0 800x600x24\" meshlabserver $@  -i /notebooks/Platinum_Decomp_Fusion/temp/neuron_17035.off -o /notebooks/Platinum_Decomp_Fusion/temp/neuron_17035_fill_holes.off -s /notebooks/Platinum_Decomp_Fusion/temp/fill_holes_470857.mls\n",
      "removed temporary input file: /notebooks/Platinum_Decomp_Fusion/temp/neuron_17035.off\n",
      "removed temporary output file: /notebooks/Platinum_Decomp_Fusion/temp/neuron_17035_fill_holes.off\n",
      "-----Time for Screened Poisson= 26.770935535430908\n",
      "     Starting Calcification\n",
      "Before mesh subtraction number of skeleton edges = 1163\n",
      "Inside mesh subtraction, len(main_mesh_bbox_restricted.faces) = 93224\n"
     ]
    },
    {
     "data": {
      "application/vnd.jupyter.widget-view+json": {
       "model_id": "306075b1c8b14e068c76d02844777294",
       "version_major": 2,
       "version_minor": 0
      },
      "text/plain": [
       "HBox(children=(FloatProgress(value=1.0, bar_style='info', layout=Layout(width='20px'), max=1.0), HTML(value=''…"
      ]
     },
     "metadata": {},
     "output_type": "display_data"
    },
    {
     "name": "stderr",
     "output_type": "stream",
     "text": [
      "WARNING:trimesh:face_normals all zero, ignoring!\n"
     ]
    },
    {
     "name": "stdout",
     "output_type": "stream",
     "text": [
      "\n",
      "Total Mesh subtraction time = 12.6186\n"
     ]
    },
    {
     "data": {
      "application/vnd.jupyter.widget-view+json": {
       "model_id": "be8f36bc2c9444208ea01059da3389bc",
       "version_major": 2,
       "version_minor": 0
      },
      "text/plain": [
       "HBox(children=(FloatProgress(value=1.0, bar_style='info', layout=Layout(width='20px'), max=1.0), HTML(value=''…"
      ]
     },
     "metadata": {},
     "output_type": "display_data"
    },
    {
     "name": "stdout",
     "output_type": "stream",
     "text": [
      "\n",
      "No skeletons to stack so returning empty list\n",
      "len_subgraphs AT BEGINNING of the loop\n"
     ]
    },
    {
     "data": {
      "application/vnd.jupyter.widget-view+json": {
       "model_id": "6529c61466a643b08748b0cf0507e5af",
       "version_major": 2,
       "version_minor": 0
      },
      "text/plain": [
       "HBox(children=(FloatProgress(value=0.0, max=31.0), HTML(value='')))"
      ]
     },
     "metadata": {},
     "output_type": "display_data"
    },
    {
     "name": "stdout",
     "output_type": "stream",
     "text": [
      "all graph is one component!\n",
      "\n",
      "Total time for skeleton stitching = 0.09143996238708496\n",
      "The process was using a temp folder\n",
      "    Total time for skeletonizing branch: 47.185532569885254\n",
      "skipping soma 0 because closest skeleton node was already end node\n",
      "    Total time for Fixing Skeleton Soma Endpoint Extension : 3.4426608085632324\n",
      "filter_end_node_length = 4001\n",
      "Using Distance measure skeletal_distance\n",
      "Going to ignore certain endnodes that are 5000 nm close to soma border vertices\n",
      "Number of end_nodes BEFORE filtering = 32\n",
      "Using an already specified end node: 0 with index 0checking was correct node end_nodes[index] = 0\n",
      "May Eliminate end_node 0: 0 because path_len to soma border was 1884.0005426432606\n",
      "single_node_to_eliminate = 0\n",
      "all_single_nodes_to_eliminate = [0, 0]\n"
     ]
    },
    {
     "data": {
      "application/vnd.jupyter.widget-view+json": {
       "model_id": "46ab7920785f48d8977072d2d8ee2dd0",
       "version_major": 2,
       "version_minor": 0
      },
      "text/plain": [
       "HBox(children=(FloatProgress(value=0.0, max=28.0), HTML(value='')))"
      ]
     },
     "metadata": {},
     "output_type": "display_data"
    },
    {
     "name": "stdout",
     "output_type": "stream",
     "text": [
      "\n",
      "********COMBINING CLOSE SKELETON NODES WITHIN 700 DISTANCE**********\n",
      "Found 0 valid paths to replace\n",
      "valid_paths = []\n",
      "valid_path_lengths = []\n",
      "No valid paths found so just returning the original\n",
      "skeletonize_and_clean_connected_branch_CGAL: 52.3128342628479\n",
      "Working on limb correspondence for #0 MAP piece\n"
     ]
    },
    {
     "data": {
      "application/vnd.jupyter.widget-view+json": {
       "model_id": "4f469fe75ef44d53ba77a7abb81cd805",
       "version_major": 2,
       "version_minor": 0
      },
      "text/plain": [
       "HBox(children=(FloatProgress(value=1.0, bar_style='info', layout=Layout(width='20px'), max=1.0), HTML(value=''…"
      ]
     },
     "metadata": {},
     "output_type": "display_data"
    },
    {
     "name": "stdout",
     "output_type": "stream",
     "text": [
      "\n",
      "Total time for decomposition = 11.935420751571655\n",
      "mesh_correspondence_first_pass: 11.935452699661255\n",
      "Limb decomposed into 7 branches\n",
      "divided_skeleton_graph_recovered = (1114, 2, 3) and \n",
      "current_mesh_data[0]['branch_skeletons_cleaned'].shape = (1114, 2, 3)\n",
      "\n",
      "Number of connected components in deocmposed recovered graph = 1\n",
      "Number of connected components in cleaned skeleton graph= 1\n",
      "The downsampled branches number of connected components = 1\n",
      "Empty submeshes = []\n",
      "\n",
      "\n",
      "--- Working on 1-to-1 correspondence-----\n",
      "max(original_labels),len(original_labels) = (6, 7)\n",
      "empty_indices % = 0.024231957435853428\n",
      " conflict_indices % = 0.012947309705655196\n"
     ]
    },
    {
     "data": {
      "application/vnd.jupyter.widget-view+json": {
       "model_id": "bf92529ed3cd4c68a65e5014896ad450",
       "version_major": 2,
       "version_minor": 0
      },
      "text/plain": [
       "HBox(children=(FloatProgress(value=0.0, max=17.0), HTML(value='')))"
      ]
     },
     "metadata": {},
     "output_type": "display_data"
    },
    {
     "name": "stdout",
     "output_type": "stream",
     "text": [
      "\n",
      "AFTER face_lookup_resolved_test\n",
      "Took 0 iterations to expand the label back\n"
     ]
    },
    {
     "data": {
      "application/vnd.jupyter.widget-view+json": {
       "model_id": "6d4fe88a32764138bf90b748e94414ac",
       "version_major": 2,
       "version_minor": 0
      },
      "text/plain": [
       "HBox(children=(FloatProgress(value=0.0, max=7.0), HTML(value='')))"
      ]
     },
     "metadata": {},
     "output_type": "display_data"
    },
    {
     "name": "stdout",
     "output_type": "stream",
     "text": [
      "\n",
      "Total time for MAP sublimb #0 mesh processing = 66.96809434890747\n",
      "correspondence_1_to_1: 2.713998794555664\n",
      "Total time for MAP sublimb processing 66.96822381019592\n",
      "***************Arrived at MESH PIECES FOR MAP AND mp***************\n",
      "---- Working on MP Decomposition #0 ----\n",
      "MP filtering soma verts: 0.0023217201232910156\n",
      "Do Not Need to Fix MP Decomposition 0 so just continuing\n",
      "---- Working on MP Decomposition #1 ----\n",
      "MP filtering soma verts: 0.0013692378997802734\n",
      "Do Not Need to Fix MP Decomposition 1 so just continuing\n",
      "\n",
      "---- Working on (0, 0) connection-----\n",
      "winning_vertex = [660613.56797262 818034.40926154 804275.23548302]\n",
      "MP_branches_with_stitch_point = [0]\n",
      "Current stitch point was not a branch or endpoint, shortest_path_length to one = 81346.25698326195\n",
      "MAP_branches_with_stitch_point = [4]\n",
      "MAP_stitch_point_on_end_or_branch = False\n"
     ]
    },
    {
     "data": {
      "application/vnd.jupyter.widget-view+json": {
       "model_id": "a8298ebfe84346aaab60c1f5ab93bef7",
       "version_major": 2,
       "version_minor": 0
      },
      "text/plain": [
       "HBox(children=(FloatProgress(value=1.0, bar_style='info', layout=Layout(width='20px'), max=1.0), HTML(value=''…"
      ]
     },
     "metadata": {},
     "output_type": "display_data"
    },
    {
     "name": "stdout",
     "output_type": "stream",
     "text": [
      "\n",
      "\n",
      "\n",
      "--- Working on 1-to-1 correspondence-----\n",
      "max(original_labels),len(original_labels) = (2, 3)\n",
      "empty_indices % = 0.03273387558142427\n",
      " conflict_indices % = 0.0054473546750242515\n"
     ]
    },
    {
     "data": {
      "application/vnd.jupyter.widget-view+json": {
       "model_id": "d1d8707d96e346dca7f4f16070b34435",
       "version_major": 2,
       "version_minor": 0
      },
      "text/plain": [
       "HBox(children=(FloatProgress(value=0.0, max=13.0), HTML(value='')))"
      ]
     },
     "metadata": {},
     "output_type": "display_data"
    },
    {
     "name": "stdout",
     "output_type": "stream",
     "text": [
      "\n",
      "AFTER face_lookup_resolved_test\n"
     ]
    },
    {
     "data": {
      "application/vnd.jupyter.widget-view+json": {
       "model_id": "1f5ce6be343e43f18a161d146446588f",
       "version_major": 2,
       "version_minor": 0
      },
      "text/plain": [
       "HBox(children=(FloatProgress(value=0.0, max=3.0), HTML(value='')))"
      ]
     },
     "metadata": {},
     "output_type": "display_data"
    },
    {
     "name": "stdout",
     "output_type": "stream",
     "text": [
      "\n",
      "Deleting branches from dictionary\n",
      " Finished with (0, 0) \n",
      "\n",
      "\n",
      "\n",
      "\n",
      "---- Working on (1, 0) connection-----\n",
      "winning_vertex = [636307.69562109 813178.0040385  797703.68094455]\n",
      "MP_branches_with_stitch_point = [0, 1]\n",
      "Current stitch point was a branch or endpoint\n",
      "MAP_branches_with_stitch_point = [1]\n",
      "MAP_stitch_point_on_end_or_branch = True\n"
     ]
    },
    {
     "data": {
      "application/vnd.jupyter.widget-view+json": {
       "model_id": "596f74bb2935475193dc27d31ada5e54",
       "version_major": 2,
       "version_minor": 0
      },
      "text/plain": [
       "HBox(children=(FloatProgress(value=1.0, bar_style='info', layout=Layout(width='20px'), max=1.0), HTML(value=''…"
      ]
     },
     "metadata": {},
     "output_type": "display_data"
    },
    {
     "name": "stdout",
     "output_type": "stream",
     "text": [
      "\n",
      "\n",
      "\n",
      "--- Working on 1-to-1 correspondence-----\n",
      "max(original_labels),len(original_labels) = (2, 3)\n",
      "empty_indices % = 0.03594415737467138\n",
      " conflict_indices % = 0.0066177137158915786\n"
     ]
    },
    {
     "data": {
      "application/vnd.jupyter.widget-view+json": {
       "model_id": "f6e491eedece4d8fa3384f3bf5e09881",
       "version_major": 2,
       "version_minor": 0
      },
      "text/plain": [
       "HBox(children=(FloatProgress(value=0.0, max=6.0), HTML(value='')))"
      ]
     },
     "metadata": {},
     "output_type": "display_data"
    },
    {
     "name": "stdout",
     "output_type": "stream",
     "text": [
      "\n",
      "AFTER face_lookup_resolved_test\n"
     ]
    },
    {
     "data": {
      "application/vnd.jupyter.widget-view+json": {
       "model_id": "7201d61bb7f546869719626e19654ba1",
       "version_major": 2,
       "version_minor": 0
      },
      "text/plain": [
       "HBox(children=(FloatProgress(value=0.0, max=3.0), HTML(value='')))"
      ]
     },
     "metadata": {},
     "output_type": "display_data"
    },
    {
     "name": "stderr",
     "output_type": "stream",
     "text": [
      "\r",
      "  0%|          | 0/1 [00:00<?, ?it/s]"
     ]
    },
    {
     "name": "stdout",
     "output_type": "stream",
     "text": [
      "\n",
      " Finished with (1, 0) \n",
      "\n",
      "\n",
      "\n",
      "Time for decomp of Limb 3 = 80.5369622707367\n",
      "\n",
      "\n",
      "----- Working on Proper Limb #4 ---------\n",
      "Time for preparing soma vertices and root: 0.000164031982421875\n",
      "smooth_neighborhood = 1\n"
     ]
    },
    {
     "data": {
      "application/vnd.jupyter.widget-view+json": {
       "model_id": "432785a5de9f48e1a73fc8bc66b3d18b",
       "version_major": 2,
       "version_minor": 0
      },
      "text/plain": [
       "HBox(children=(FloatProgress(value=0.0, max=42022.0), HTML(value='')))"
      ]
     },
     "metadata": {},
     "output_type": "display_data"
    },
    {
     "name": "stderr",
     "output_type": "stream",
     "text": [
      "100%|██████████| 1/1 [00:00<00:00,  2.54it/s]"
     ]
    },
    {
     "name": "stdout",
     "output_type": "stream",
     "text": [
      "\n"
     ]
    },
    {
     "name": "stderr",
     "output_type": "stream",
     "text": [
      "\n"
     ]
    },
    {
     "name": "stdout",
     "output_type": "stream",
     "text": [
      "Time for 1st pass MP skeletonization: 0.8355059623718262\n",
      "branches_touching_root = [18]\n",
      "empty_indices % = 0.0\n",
      " conflict_indices % = 0.007909806728704366\n"
     ]
    },
    {
     "data": {
      "application/vnd.jupyter.widget-view+json": {
       "model_id": "f0704859136a40cbbb9df8991bd966dc",
       "version_major": 2,
       "version_minor": 0
      },
      "text/plain": [
       "HBox(children=(FloatProgress(value=0.0, max=9.0), HTML(value='')))"
      ]
     },
     "metadata": {},
     "output_type": "display_data"
    },
    {
     "name": "stdout",
     "output_type": "stream",
     "text": [
      "\n",
      "AFTER face_lookup_resolved_test\n"
     ]
    },
    {
     "data": {
      "application/vnd.jupyter.widget-view+json": {
       "model_id": "60916ab09a8d44e1b2bee944fb4e7afe",
       "version_major": 2,
       "version_minor": 0
      },
      "text/plain": [
       "HBox(children=(FloatProgress(value=0.0, max=19.0), HTML(value='')))"
      ]
     },
     "metadata": {},
     "output_type": "display_data"
    },
    {
     "name": "stdout",
     "output_type": "stream",
     "text": [
      "\n",
      "Decomposing first pass: 2.1162049770355225\n",
      "Found len(mesh_large_idx) MAP candidates: [10919, 14979, 2244, 2946, 4482, 10464, 2878]\n",
      "mesh_large_connectivity: 0.08383369445800781\n",
      "Finding MAP candidates connected components: 0.00014925003051757812\n",
      "len(filtered_pieces) = 1\n",
      "skeleton_connectivity_MP : 0.12042379379272461\n",
      "Grouping MP Sublimbs by Graph: 0.022118568420410156\n",
      "Divinding into MP and MAP pieces: 2.1457672119140625e-06\n",
      "--- Working on MAP piece 0---\n",
      "MAP Filtering Soma Pieces: 0.002946615219116211\n",
      "inside skeletonize_connected_branch and use_surface_after_CGAL=False\n",
      "     Starting Screened Poisson\n",
      "xvfb-run -n 1338 -s \"-screen 0 800x600x24\" meshlabserver $@  -i /notebooks/Platinum_Decomp_Fusion/temp/None.off -o /notebooks/Platinum_Decomp_Fusion/temp/None_poisson.off -s /notebooks/Platinum_Decomp_Fusion/temp/poisson_664318.mls\n",
      "removed temporary input file: /notebooks/Platinum_Decomp_Fusion/temp/None.off\n",
      "removed temporary output file: /notebooks/Platinum_Decomp_Fusion/temp/None_poisson.off\n",
      "Using the close holes feature\n",
      "xvfb-run -n 1241 -s \"-screen 0 800x600x24\" meshlabserver $@  -i /notebooks/Platinum_Decomp_Fusion/temp/neuron_99835.off -o /notebooks/Platinum_Decomp_Fusion/temp/neuron_99835_fill_holes.off -s /notebooks/Platinum_Decomp_Fusion/temp/fill_holes_730623.mls\n",
      "removed temporary input file: /notebooks/Platinum_Decomp_Fusion/temp/neuron_99835.off\n",
      "removed temporary output file: /notebooks/Platinum_Decomp_Fusion/temp/neuron_99835_fill_holes.off\n",
      "-----Time for Screened Poisson= 15.751847743988037\n",
      "     Starting Calcification\n",
      "Before mesh subtraction number of skeleton edges = 586\n",
      "Inside mesh subtraction, len(main_mesh_bbox_restricted.faces) = 48912\n"
     ]
    },
    {
     "data": {
      "application/vnd.jupyter.widget-view+json": {
       "model_id": "f2a49d29f84d430c96927cb97ee404f3",
       "version_major": 2,
       "version_minor": 0
      },
      "text/plain": [
       "HBox(children=(FloatProgress(value=1.0, bar_style='info', layout=Layout(width='20px'), max=1.0), HTML(value=''…"
      ]
     },
     "metadata": {},
     "output_type": "display_data"
    },
    {
     "name": "stderr",
     "output_type": "stream",
     "text": [
      "WARNING:trimesh:face_normals all zero, ignoring!\n"
     ]
    },
    {
     "name": "stdout",
     "output_type": "stream",
     "text": [
      "\n",
      "Total Mesh subtraction time = 6.5057\n"
     ]
    },
    {
     "data": {
      "application/vnd.jupyter.widget-view+json": {
       "model_id": "4041d22722de42ee85d2adf22465998c",
       "version_major": 2,
       "version_minor": 0
      },
      "text/plain": [
       "HBox(children=(FloatProgress(value=1.0, bar_style='info', layout=Layout(width='20px'), max=1.0), HTML(value=''…"
      ]
     },
     "metadata": {},
     "output_type": "display_data"
    },
    {
     "name": "stdout",
     "output_type": "stream",
     "text": [
      "\n",
      "No skeletons to stack so returning empty list\n",
      "len_subgraphs AT BEGINNING of the loop\n"
     ]
    },
    {
     "data": {
      "application/vnd.jupyter.widget-view+json": {
       "model_id": "9f865c5713014f81b8b5efed5a264911",
       "version_major": 2,
       "version_minor": 0
      },
      "text/plain": [
       "HBox(children=(FloatProgress(value=0.0, max=9.0), HTML(value='')))"
      ]
     },
     "metadata": {},
     "output_type": "display_data"
    },
    {
     "name": "stdout",
     "output_type": "stream",
     "text": [
      "all graph is one component!\n",
      "\n",
      "Total time for skeleton stitching = 0.05942416191101074\n",
      "The process was using a temp folder\n",
      "    Total time for skeletonizing branch: 26.001980304718018\n",
      "skipping soma 0 because closest skeleton node was already end node\n",
      "    Total time for Fixing Skeleton Soma Endpoint Extension : 1.7996628284454346\n",
      "filter_end_node_length = 4001\n",
      "Using Distance measure skeletal_distance\n",
      "Going to ignore certain endnodes that are 5000 nm close to soma border vertices\n",
      "Number of end_nodes BEFORE filtering = 16\n",
      "Using an already specified end node: 593 with index 15checking was correct node end_nodes[index] = 593\n",
      "May Eliminate end_node 15: 593 because path_len to soma border was 2895.5996593416985\n",
      "single_node_to_eliminate = 15\n",
      "all_single_nodes_to_eliminate = [15, 15]\n"
     ]
    },
    {
     "data": {
      "application/vnd.jupyter.widget-view+json": {
       "model_id": "36fcb7687b054609acf5e634c007570c",
       "version_major": 2,
       "version_minor": 0
      },
      "text/plain": [
       "HBox(children=(FloatProgress(value=0.0, max=13.0), HTML(value='')))"
      ]
     },
     "metadata": {},
     "output_type": "display_data"
    },
    {
     "name": "stdout",
     "output_type": "stream",
     "text": [
      "\n",
      "********COMBINING CLOSE SKELETON NODES WITHIN 700 DISTANCE**********\n",
      "Found 0 valid paths to replace\n",
      "valid_paths = []\n",
      "valid_path_lengths = []\n",
      "No valid paths found so just returning the original\n",
      "skeletonize_and_clean_connected_branch_CGAL: 28.5394070148468\n",
      "Working on limb correspondence for #0 MAP piece\n"
     ]
    },
    {
     "data": {
      "application/vnd.jupyter.widget-view+json": {
       "model_id": "3fa85a2ef011456bb7baaa394334b585",
       "version_major": 2,
       "version_minor": 0
      },
      "text/plain": [
       "HBox(children=(FloatProgress(value=1.0, bar_style='info', layout=Layout(width='20px'), max=1.0), HTML(value=''…"
      ]
     },
     "metadata": {},
     "output_type": "display_data"
    },
    {
     "name": "stderr",
     "output_type": "stream",
     "text": [
      "WARNING:trimesh:face_normals all zero, ignoring!\n"
     ]
    },
    {
     "name": "stdout",
     "output_type": "stream",
     "text": [
      "\n",
      "Total time for decomposition = 5.564035415649414\n",
      "mesh_correspondence_first_pass: 5.564067125320435\n",
      "Limb decomposed into 3 branches\n",
      "divided_skeleton_graph_recovered = (563, 2, 3) and \n",
      "current_mesh_data[0]['branch_skeletons_cleaned'].shape = (563, 2, 3)\n",
      "\n",
      "Number of connected components in deocmposed recovered graph = 1\n",
      "Number of connected components in cleaned skeleton graph= 1\n",
      "The downsampled branches number of connected components = 1\n",
      "Empty submeshes = []\n",
      "\n",
      "\n",
      "--- Working on 1-to-1 correspondence-----\n",
      "max(original_labels),len(original_labels) = (2, 3)\n",
      "empty_indices % = 0.03487896630683677\n",
      " conflict_indices % = 0.003577854105332025\n"
     ]
    },
    {
     "data": {
      "application/vnd.jupyter.widget-view+json": {
       "model_id": "d2244ed4a5724d7ca347628bd886194d",
       "version_major": 2,
       "version_minor": 0
      },
      "text/plain": [
       "HBox(children=(FloatProgress(value=0.0, max=9.0), HTML(value='')))"
      ]
     },
     "metadata": {},
     "output_type": "display_data"
    },
    {
     "name": "stdout",
     "output_type": "stream",
     "text": [
      "\n",
      "AFTER face_lookup_resolved_test\n",
      "Took 0 iterations to expand the label back\n"
     ]
    },
    {
     "data": {
      "application/vnd.jupyter.widget-view+json": {
       "model_id": "a291903551d54537b3e50113980c1243",
       "version_major": 2,
       "version_minor": 0
      },
      "text/plain": [
       "HBox(children=(FloatProgress(value=0.0, max=3.0), HTML(value='')))"
      ]
     },
     "metadata": {},
     "output_type": "display_data"
    },
    {
     "name": "stdout",
     "output_type": "stream",
     "text": [
      "\n",
      "Total time for MAP sublimb #0 mesh processing = 35.853172063827515\n",
      "correspondence_1_to_1: 1.746734380722046\n",
      "Total time for MAP sublimb processing 35.85327458381653\n",
      "***************Arrived at MESH PIECES FOR MAP AND mp***************\n",
      "---- Working on MP Decomposition #0 ----\n",
      "MP filtering soma verts: 0.0012221336364746094\n",
      "Do Not Need to Fix MP Decomposition 0 so just continuing\n",
      "---- Working on MP Decomposition #1 ----\n",
      "MP filtering soma verts: 0.0006887912750244141\n",
      "Do Not Need to Fix MP Decomposition 1 so just continuing\n",
      "---- Working on MP Decomposition #2 ----\n",
      "MP filtering soma verts: 0.0003726482391357422\n",
      "Do Not Need to Fix MP Decomposition 2 so just continuing\n",
      "---- Working on MP Decomposition #3 ----\n",
      "MP filtering soma verts: 0.0004038810729980469\n",
      "Do Not Need to Fix MP Decomposition 3 so just continuing\n",
      "---- Working on MP Decomposition #4 ----\n",
      "MP filtering soma verts: 0.00032830238342285156\n",
      "Do Not Need to Fix MP Decomposition 4 so just continuing\n",
      "---- Working on MP Decomposition #5 ----\n",
      "MP filtering soma verts: 0.0001800060272216797\n",
      "Do Not Need to Fix MP Decomposition 5 so just continuing\n",
      "\n",
      "---- Working on (0, 0) connection-----\n",
      "winning_vertex = [506008.84527864 780780.7233273  893476.50107485]\n",
      "MP_branches_with_stitch_point = [1]\n",
      "Current stitch point was not a branch or endpoint, shortest_path_length to one = 57972.145261434795\n",
      "MAP_branches_with_stitch_point = [0]\n",
      "MAP_stitch_point_on_end_or_branch = False\n"
     ]
    },
    {
     "data": {
      "application/vnd.jupyter.widget-view+json": {
       "model_id": "5b7404f97226482abff9c08e18602c08",
       "version_major": 2,
       "version_minor": 0
      },
      "text/plain": [
       "HBox(children=(FloatProgress(value=1.0, bar_style='info', layout=Layout(width='20px'), max=1.0), HTML(value=''…"
      ]
     },
     "metadata": {},
     "output_type": "display_data"
    },
    {
     "name": "stdout",
     "output_type": "stream",
     "text": [
      "\n",
      "\n",
      "\n",
      "--- Working on 1-to-1 correspondence-----\n",
      "max(original_labels),len(original_labels) = (2, 3)\n",
      "empty_indices % = 0.014399175457742209\n",
      " conflict_indices % = 0.01045834849036013\n"
     ]
    },
    {
     "data": {
      "application/vnd.jupyter.widget-view+json": {
       "model_id": "efa73d2d84e44036b505fd67effe7d95",
       "version_major": 2,
       "version_minor": 0
      },
      "text/plain": [
       "HBox(children=(FloatProgress(value=0.0, max=8.0), HTML(value='')))"
      ]
     },
     "metadata": {},
     "output_type": "display_data"
    },
    {
     "name": "stdout",
     "output_type": "stream",
     "text": [
      "\n",
      "AFTER face_lookup_resolved_test\n"
     ]
    },
    {
     "data": {
      "application/vnd.jupyter.widget-view+json": {
       "model_id": "38ee148afe9c4d2a81d8786d6a173215",
       "version_major": 2,
       "version_minor": 0
      },
      "text/plain": [
       "HBox(children=(FloatProgress(value=0.0, max=3.0), HTML(value='')))"
      ]
     },
     "metadata": {},
     "output_type": "display_data"
    },
    {
     "name": "stdout",
     "output_type": "stream",
     "text": [
      "\n",
      "Deleting branches from dictionary\n",
      " Finished with (0, 0) \n",
      "\n",
      "\n",
      "\n",
      "\n",
      "---- Working on (1, 0) connection-----\n",
      "winning_vertex = [455888.63868655 724876.30809508 920194.36596337]\n",
      "MP_branches_with_stitch_point = [1, 2]\n",
      "Current stitch point was a branch or endpoint\n",
      "MAP_branches_with_stitch_point = [1]\n",
      "MAP_stitch_point_on_end_or_branch = True\n"
     ]
    },
    {
     "data": {
      "application/vnd.jupyter.widget-view+json": {
       "model_id": "a496db9109974d659ddda2067025de37",
       "version_major": 2,
       "version_minor": 0
      },
      "text/plain": [
       "HBox(children=(FloatProgress(value=1.0, bar_style='info', layout=Layout(width='20px'), max=1.0), HTML(value=''…"
      ]
     },
     "metadata": {},
     "output_type": "display_data"
    },
    {
     "name": "stderr",
     "output_type": "stream",
     "text": [
      "WARNING:trimesh:face_normals all zero, ignoring!\n"
     ]
    },
    {
     "name": "stdout",
     "output_type": "stream",
     "text": [
      "\n",
      "\n",
      "\n",
      "--- Working on 1-to-1 correspondence-----\n",
      "max(original_labels),len(original_labels) = (2, 3)\n",
      "empty_indices % = 0.025191905094207954\n",
      " conflict_indices % = 0.0013956734124214933\n"
     ]
    },
    {
     "data": {
      "application/vnd.jupyter.widget-view+json": {
       "model_id": "707b8ebe24ae42aabe762b36c6e9d925",
       "version_major": 2,
       "version_minor": 0
      },
      "text/plain": [
       "HBox(children=(FloatProgress(value=0.0, max=10.0), HTML(value='')))"
      ]
     },
     "metadata": {},
     "output_type": "display_data"
    },
    {
     "name": "stdout",
     "output_type": "stream",
     "text": [
      "\n",
      "AFTER face_lookup_resolved_test\n"
     ]
    },
    {
     "data": {
      "application/vnd.jupyter.widget-view+json": {
       "model_id": "9af889f476174fe68223de612adae767",
       "version_major": 2,
       "version_minor": 0
      },
      "text/plain": [
       "HBox(children=(FloatProgress(value=0.0, max=3.0), HTML(value='')))"
      ]
     },
     "metadata": {},
     "output_type": "display_data"
    },
    {
     "name": "stdout",
     "output_type": "stream",
     "text": [
      "\n",
      " Finished with (1, 0) \n",
      "\n",
      "\n",
      "\n",
      "\n",
      "---- Working on (2, 0) connection-----\n",
      "winning_vertex = [546740.30685956 763562.98258692 908729.61548156]\n",
      "MP_branches_with_stitch_point = [0]\n",
      "Current stitch point was not a branch or endpoint, shortest_path_length to one = 24155.870202490638\n",
      "MAP_branches_with_stitch_point = [1]\n",
      "MAP_stitch_point_on_end_or_branch = False\n"
     ]
    },
    {
     "data": {
      "application/vnd.jupyter.widget-view+json": {
       "model_id": "7a3f1400421d424f8671f91236c4b86c",
       "version_major": 2,
       "version_minor": 0
      },
      "text/plain": [
       "HBox(children=(FloatProgress(value=1.0, bar_style='info', layout=Layout(width='20px'), max=1.0), HTML(value=''…"
      ]
     },
     "metadata": {},
     "output_type": "display_data"
    },
    {
     "name": "stdout",
     "output_type": "stream",
     "text": [
      "\n",
      "\n",
      "\n",
      "--- Working on 1-to-1 correspondence-----\n",
      "max(original_labels),len(original_labels) = (2, 3)\n",
      "empty_indices % = 0.027182925949960343\n",
      " conflict_indices % = 0.0041459369817578775\n"
     ]
    },
    {
     "data": {
      "application/vnd.jupyter.widget-view+json": {
       "model_id": "46b497cc8f5d481e8067c0747b5dfd62",
       "version_major": 2,
       "version_minor": 0
      },
      "text/plain": [
       "HBox(children=(FloatProgress(value=0.0, max=6.0), HTML(value='')))"
      ]
     },
     "metadata": {},
     "output_type": "display_data"
    },
    {
     "name": "stdout",
     "output_type": "stream",
     "text": [
      "\n",
      "AFTER face_lookup_resolved_test\n"
     ]
    },
    {
     "data": {
      "application/vnd.jupyter.widget-view+json": {
       "model_id": "48ab2f29b6114510bec8864f61bbfd81",
       "version_major": 2,
       "version_minor": 0
      },
      "text/plain": [
       "HBox(children=(FloatProgress(value=0.0, max=3.0), HTML(value='')))"
      ]
     },
     "metadata": {},
     "output_type": "display_data"
    },
    {
     "name": "stdout",
     "output_type": "stream",
     "text": [
      "\n",
      "Deleting branches from dictionary\n",
      " Finished with (2, 0) \n",
      "\n",
      "\n",
      "\n",
      "\n",
      "---- Working on (3, 0) connection-----\n",
      "winning_vertex = [454563.33552475 782530.1310164  920030.16609552]\n",
      "MP_branches_with_stitch_point = [0, 1]\n",
      "Current stitch point was a branch or endpoint\n",
      "MAP_branches_with_stitch_point = [0]\n",
      "MAP_stitch_point_on_end_or_branch = True\n"
     ]
    },
    {
     "data": {
      "application/vnd.jupyter.widget-view+json": {
       "model_id": "e0a47a873f3947e4873e178f974ff816",
       "version_major": 2,
       "version_minor": 0
      },
      "text/plain": [
       "HBox(children=(FloatProgress(value=1.0, bar_style='info', layout=Layout(width='20px'), max=1.0), HTML(value=''…"
      ]
     },
     "metadata": {},
     "output_type": "display_data"
    },
    {
     "name": "stdout",
     "output_type": "stream",
     "text": [
      "\n",
      "\n",
      "\n",
      "--- Working on 1-to-1 correspondence-----\n",
      "max(original_labels),len(original_labels) = (2, 3)\n",
      "empty_indices % = 0.021513506082892295\n",
      " conflict_indices % = 0.004605127500171833\n"
     ]
    },
    {
     "data": {
      "application/vnd.jupyter.widget-view+json": {
       "model_id": "92d15c2006d14367823f8a767a010751",
       "version_major": 2,
       "version_minor": 0
      },
      "text/plain": [
       "HBox(children=(FloatProgress(value=0.0, max=3.0), HTML(value='')))"
      ]
     },
     "metadata": {},
     "output_type": "display_data"
    },
    {
     "name": "stdout",
     "output_type": "stream",
     "text": [
      "\n",
      "AFTER face_lookup_resolved_test\n"
     ]
    },
    {
     "data": {
      "application/vnd.jupyter.widget-view+json": {
       "model_id": "99712fe2081d42b5ab255bf6ea6dbf10",
       "version_major": 2,
       "version_minor": 0
      },
      "text/plain": [
       "HBox(children=(FloatProgress(value=0.0, max=3.0), HTML(value='')))"
      ]
     },
     "metadata": {},
     "output_type": "display_data"
    },
    {
     "name": "stdout",
     "output_type": "stream",
     "text": [
      "\n",
      " Finished with (3, 0) \n",
      "\n",
      "\n",
      "\n",
      "\n",
      "---- Working on (4, 0) connection-----\n",
      "winning_vertex = [534308.03377781 760494.84549006 917102.94775202]\n",
      "MP_branches_with_stitch_point = [0]\n",
      "Current stitch point was not a branch or endpoint, shortest_path_length to one = 39476.09192103874\n",
      "MAP_branches_with_stitch_point = [1]\n",
      "MAP_stitch_point_on_end_or_branch = False\n"
     ]
    },
    {
     "data": {
      "application/vnd.jupyter.widget-view+json": {
       "model_id": "fcd8436fff1c4fb9a84cf76ddad67611",
       "version_major": 2,
       "version_minor": 0
      },
      "text/plain": [
       "HBox(children=(FloatProgress(value=1.0, bar_style='info', layout=Layout(width='20px'), max=1.0), HTML(value=''…"
      ]
     },
     "metadata": {},
     "output_type": "display_data"
    },
    {
     "name": "stdout",
     "output_type": "stream",
     "text": [
      "\n",
      "\n",
      "\n",
      "--- Working on 1-to-1 correspondence-----\n",
      "max(original_labels),len(original_labels) = (2, 3)\n",
      "empty_indices % = 0.032675735969555135\n",
      " conflict_indices % = 0.007567472988933117\n"
     ]
    },
    {
     "data": {
      "application/vnd.jupyter.widget-view+json": {
       "model_id": "a202d048b822483991af1cbc9ab6b6b5",
       "version_major": 2,
       "version_minor": 0
      },
      "text/plain": [
       "HBox(children=(FloatProgress(value=0.0, max=6.0), HTML(value='')))"
      ]
     },
     "metadata": {},
     "output_type": "display_data"
    },
    {
     "name": "stdout",
     "output_type": "stream",
     "text": [
      "\n",
      "AFTER face_lookup_resolved_test\n"
     ]
    },
    {
     "data": {
      "application/vnd.jupyter.widget-view+json": {
       "model_id": "87fba30fd65240d898665dd2e0f4b03f",
       "version_major": 2,
       "version_minor": 0
      },
      "text/plain": [
       "HBox(children=(FloatProgress(value=0.0, max=3.0), HTML(value='')))"
      ]
     },
     "metadata": {},
     "output_type": "display_data"
    },
    {
     "name": "stdout",
     "output_type": "stream",
     "text": [
      "\n",
      "Deleting branches from dictionary\n",
      " Finished with (4, 0) \n",
      "\n",
      "\n",
      "\n",
      "\n",
      "---- Working on (5, 0) connection-----\n",
      "winning_vertex = [526542.9939797  753792.52896142 923863.40758492]\n",
      "MP_branches_with_stitch_point = [0]\n",
      "Current stitch point was not a branch or endpoint, shortest_path_length to one = 52776.85648814574\n",
      "MAP_branches_with_stitch_point = [1]\n",
      "MAP_stitch_point_on_end_or_branch = False\n"
     ]
    },
    {
     "data": {
      "application/vnd.jupyter.widget-view+json": {
       "model_id": "d093c68899bc4d1496783bdc09d16df2",
       "version_major": 2,
       "version_minor": 0
      },
      "text/plain": [
       "HBox(children=(FloatProgress(value=1.0, bar_style='info', layout=Layout(width='20px'), max=1.0), HTML(value=''…"
      ]
     },
     "metadata": {},
     "output_type": "display_data"
    },
    {
     "name": "stdout",
     "output_type": "stream",
     "text": [
      "\n",
      "\n",
      "\n",
      "--- Working on 1-to-1 correspondence-----\n",
      "max(original_labels),len(original_labels) = (2, 3)\n",
      "empty_indices % = 0.032439037938121425\n",
      " conflict_indices % = 0.003221685274676443\n"
     ]
    },
    {
     "data": {
      "application/vnd.jupyter.widget-view+json": {
       "model_id": "7483b6974cc0448589f29a228a076bf6",
       "version_major": 2,
       "version_minor": 0
      },
      "text/plain": [
       "HBox(children=(FloatProgress(value=0.0, max=7.0), HTML(value='')))"
      ]
     },
     "metadata": {},
     "output_type": "display_data"
    },
    {
     "name": "stdout",
     "output_type": "stream",
     "text": [
      "\n",
      "AFTER face_lookup_resolved_test\n"
     ]
    },
    {
     "data": {
      "application/vnd.jupyter.widget-view+json": {
       "model_id": "4a378a2d164945c2a3ebf0c2a3520c48",
       "version_major": 2,
       "version_minor": 0
      },
      "text/plain": [
       "HBox(children=(FloatProgress(value=0.0, max=3.0), HTML(value='')))"
      ]
     },
     "metadata": {},
     "output_type": "display_data"
    },
    {
     "name": "stderr",
     "output_type": "stream",
     "text": [
      "\r",
      "  0%|          | 0/1 [00:00<?, ?it/s]"
     ]
    },
    {
     "name": "stdout",
     "output_type": "stream",
     "text": [
      "\n",
      "Deleting branches from dictionary\n",
      " Finished with (5, 0) \n",
      "\n",
      "\n",
      "\n",
      "Time for decomp of Limb 4 = 57.48511552810669\n",
      "\n",
      "\n",
      "----- Working on Proper Limb #5 ---------\n",
      "Time for preparing soma vertices and root: 0.00016021728515625\n",
      "smooth_neighborhood = 1\n"
     ]
    },
    {
     "data": {
      "application/vnd.jupyter.widget-view+json": {
       "model_id": "c2d4417d846b4203ab2fba8ff2893210",
       "version_major": 2,
       "version_minor": 0
      },
      "text/plain": [
       "HBox(children=(FloatProgress(value=0.0, max=17932.0), HTML(value='')))"
      ]
     },
     "metadata": {},
     "output_type": "display_data"
    },
    {
     "name": "stderr",
     "output_type": "stream",
     "text": [
      "\r",
      "100%|██████████| 1/1 [00:00<00:00, 11.33it/s]"
     ]
    },
    {
     "name": "stdout",
     "output_type": "stream",
     "text": [
      "\n"
     ]
    },
    {
     "name": "stderr",
     "output_type": "stream",
     "text": [
      "\n"
     ]
    },
    {
     "name": "stdout",
     "output_type": "stream",
     "text": [
      "Time for 1st pass MP skeletonization: 0.29929542541503906\n",
      "branches_touching_root = [0]\n",
      "empty_indices % = 0.0\n",
      " conflict_indices % = 0.0\n"
     ]
    },
    {
     "data": {
      "application/vnd.jupyter.widget-view+json": {
       "model_id": "cdf13ca2188b472ea5b2a74d9bc63ac1",
       "version_major": 2,
       "version_minor": 0
      },
      "text/plain": [
       "HBox(children=(FloatProgress(value=1.0, bar_style='info', layout=Layout(width='20px'), max=1.0), HTML(value=''…"
      ]
     },
     "metadata": {},
     "output_type": "display_data"
    },
    {
     "name": "stdout",
     "output_type": "stream",
     "text": [
      "\n",
      "AFTER face_lookup_resolved_test\n"
     ]
    },
    {
     "data": {
      "application/vnd.jupyter.widget-view+json": {
       "model_id": "c4c596f8cfdf44958bd7f261220e6122",
       "version_major": 2,
       "version_minor": 0
      },
      "text/plain": [
       "HBox(children=(FloatProgress(value=0.0, max=1.0), HTML(value='')))"
      ]
     },
     "metadata": {},
     "output_type": "display_data"
    },
    {
     "name": "stdout",
     "output_type": "stream",
     "text": [
      "\n",
      "Decomposing first pass: 1.300093412399292\n",
      "Found len(mesh_large_idx) MAP candidates: [35808]\n",
      "mesh_large_connectivity: 0.00013899803161621094\n",
      "Finding MAP candidates connected components: 8.7738037109375e-05\n",
      "len(filtered_pieces) = 1\n",
      "skeleton_connectivity_MP : 0.008570432662963867\n",
      "Grouping MP Sublimbs by Graph: 6.842613220214844e-05\n",
      "Divinding into MP and MAP pieces: 1.9073486328125e-06\n",
      "--- Working on MAP piece 0---\n",
      "MAP Filtering Soma Pieces: 0.0024077892303466797\n",
      "inside skeletonize_connected_branch and use_surface_after_CGAL=False\n",
      "     Starting Screened Poisson\n",
      "xvfb-run -n 399 -s \"-screen 0 800x600x24\" meshlabserver $@  -i /notebooks/Platinum_Decomp_Fusion/temp/None.off -o /notebooks/Platinum_Decomp_Fusion/temp/None_poisson.off -s /notebooks/Platinum_Decomp_Fusion/temp/poisson_193826.mls\n",
      "removed temporary input file: /notebooks/Platinum_Decomp_Fusion/temp/None.off\n",
      "removed temporary output file: /notebooks/Platinum_Decomp_Fusion/temp/None_poisson.off\n",
      "Using the close holes feature\n",
      "xvfb-run -n 2061 -s \"-screen 0 800x600x24\" meshlabserver $@  -i /notebooks/Platinum_Decomp_Fusion/temp/neuron_34514.off -o /notebooks/Platinum_Decomp_Fusion/temp/neuron_34514_fill_holes.off -s /notebooks/Platinum_Decomp_Fusion/temp/fill_holes_664760.mls\n",
      "removed temporary input file: /notebooks/Platinum_Decomp_Fusion/temp/neuron_34514.off\n",
      "removed temporary output file: /notebooks/Platinum_Decomp_Fusion/temp/neuron_34514_fill_holes.off\n",
      "-----Time for Screened Poisson= 12.435363054275513\n",
      "     Starting Calcification\n",
      "Before mesh subtraction number of skeleton edges = 501\n",
      "Inside mesh subtraction, len(main_mesh_bbox_restricted.faces) = 35808\n"
     ]
    },
    {
     "data": {
      "application/vnd.jupyter.widget-view+json": {
       "model_id": "85821dd7068b43c4ab4d341c290fa5fa",
       "version_major": 2,
       "version_minor": 0
      },
      "text/plain": [
       "HBox(children=(FloatProgress(value=1.0, bar_style='info', layout=Layout(width='20px'), max=1.0), HTML(value=''…"
      ]
     },
     "metadata": {},
     "output_type": "display_data"
    },
    {
     "name": "stdout",
     "output_type": "stream",
     "text": [
      "\n",
      "Total Mesh subtraction time = 4.9913\n"
     ]
    },
    {
     "data": {
      "application/vnd.jupyter.widget-view+json": {
       "model_id": "e747be143ea84a2cbfa21766f83dd9f4",
       "version_major": 2,
       "version_minor": 0
      },
      "text/plain": [
       "HBox(children=(FloatProgress(value=1.0, bar_style='info', layout=Layout(width='20px'), max=1.0), HTML(value=''…"
      ]
     },
     "metadata": {},
     "output_type": "display_data"
    },
    {
     "name": "stdout",
     "output_type": "stream",
     "text": [
      "\n",
      "No skeletons to stack so returning empty list\n",
      "len_subgraphs AT BEGINNING of the loop\n"
     ]
    },
    {
     "data": {
      "application/vnd.jupyter.widget-view+json": {
       "model_id": "8075f79b1c8e494983726e5d9778fb8f",
       "version_major": 2,
       "version_minor": 0
      },
      "text/plain": [
       "HBox(children=(FloatProgress(value=0.0, max=15.0), HTML(value='')))"
      ]
     },
     "metadata": {},
     "output_type": "display_data"
    },
    {
     "name": "stdout",
     "output_type": "stream",
     "text": [
      "all graph is one component!\n",
      "\n",
      "Total time for skeleton stitching = 0.05681777000427246\n",
      "The process was using a temp folder\n",
      "    Total time for skeletonizing branch: 19.964997053146362\n",
      "skipping soma 0 because closest skeleton node was already end node\n",
      "    Total time for Fixing Skeleton Soma Endpoint Extension : 1.2720913887023926\n",
      "filter_end_node_length = 4001\n",
      "Using Distance measure skeletal_distance\n",
      "Going to ignore certain endnodes that are 5000 nm close to soma border vertices\n",
      "Number of end_nodes BEFORE filtering = 17\n",
      "Using an already specified end node: 90 with index 1checking was correct node end_nodes[index] = 90\n",
      "May Eliminate end_node 1: 90 because path_len to soma border was 2197.098393428071\n",
      "single_node_to_eliminate = 1\n",
      "all_single_nodes_to_eliminate = [1, 1]\n"
     ]
    },
    {
     "data": {
      "application/vnd.jupyter.widget-view+json": {
       "model_id": "c4f1414e251447e8aefd192566a8cc0b",
       "version_major": 2,
       "version_minor": 0
      },
      "text/plain": [
       "HBox(children=(FloatProgress(value=0.0, max=15.0), HTML(value='')))"
      ]
     },
     "metadata": {},
     "output_type": "display_data"
    },
    {
     "name": "stdout",
     "output_type": "stream",
     "text": [
      "\n",
      "********COMBINING CLOSE SKELETON NODES WITHIN 700 DISTANCE**********\n",
      "Found 0 valid paths to replace\n",
      "valid_paths = []\n",
      "valid_path_lengths = []\n",
      "No valid paths found so just returning the original\n",
      "skeletonize_and_clean_connected_branch_CGAL: 21.87516689300537\n",
      "Working on limb correspondence for #0 MAP piece\n"
     ]
    },
    {
     "data": {
      "application/vnd.jupyter.widget-view+json": {
       "model_id": "a8609d08ec9a4d568084d0e4cadbaab5",
       "version_major": 2,
       "version_minor": 0
      },
      "text/plain": [
       "HBox(children=(FloatProgress(value=1.0, bar_style='info', layout=Layout(width='20px'), max=1.0), HTML(value=''…"
      ]
     },
     "metadata": {},
     "output_type": "display_data"
    },
    {
     "name": "stdout",
     "output_type": "stream",
     "text": [
      "\n",
      "Total time for decomposition = 5.215667009353638\n",
      "mesh_correspondence_first_pass: 5.215699672698975\n",
      "Limb decomposed into 1 branches\n",
      "divided_skeleton_graph_recovered = (475, 2, 3) and \n",
      "current_mesh_data[0]['branch_skeletons_cleaned'].shape = (475, 2, 3)\n",
      "\n",
      "Number of connected components in deocmposed recovered graph = 1\n",
      "Number of connected components in cleaned skeleton graph= 1\n",
      "The downsampled branches number of connected components = 1\n",
      "Empty submeshes = []\n",
      "\n",
      "\n",
      "--- Working on 1-to-1 correspondence-----\n",
      "max(original_labels),len(original_labels) = (0, 1)\n",
      "empty_indices % = 0.026390750670241287\n",
      " conflict_indices % = 0.0\n"
     ]
    },
    {
     "data": {
      "application/vnd.jupyter.widget-view+json": {
       "model_id": "dd4b8cec6d6d4a018f85af7eb77e250f",
       "version_major": 2,
       "version_minor": 0
      },
      "text/plain": [
       "HBox(children=(FloatProgress(value=0.0, max=6.0), HTML(value='')))"
      ]
     },
     "metadata": {},
     "output_type": "display_data"
    },
    {
     "name": "stdout",
     "output_type": "stream",
     "text": [
      "\n",
      "AFTER face_lookup_resolved_test\n",
      "Took 0 iterations to expand the label back\n"
     ]
    },
    {
     "data": {
      "application/vnd.jupyter.widget-view+json": {
       "model_id": "c79cfd761a7a4a70abe3d714b7cb8f8d",
       "version_major": 2,
       "version_minor": 0
      },
      "text/plain": [
       "HBox(children=(FloatProgress(value=0.0, max=1.0), HTML(value='')))"
      ]
     },
     "metadata": {},
     "output_type": "display_data"
    },
    {
     "name": "stdout",
     "output_type": "stream",
     "text": [
      "\n",
      "Total time for MAP sublimb #0 mesh processing = 28.58441925048828\n",
      "correspondence_1_to_1: 1.4915735721588135\n",
      "Total time for MAP sublimb processing 28.58497428894043\n",
      "***************Arrived at MESH PIECES FOR MAP AND mp***************\n",
      "There were not both MAP and MP pieces so skipping the stitch resolving phase\n",
      "Time for decomp of Limb 5 = 30.19391393661499\n",
      "Total time for all limb decomps = 621.9398584365845\n"
     ]
    }
   ],
   "source": [
    "sk = reload(sk)\n",
    "tu = reload(tu)\n",
    "cu = reload(cu)\n",
    "m_sk = reload(m_sk)\n",
    "\n",
    "proper_limb_mesh_correspondence_MAP = dict()\n",
    "proper_limb_mesh_correspondence_MP = dict()\n",
    "limb_to_endpoints_must_keep_list = dict()\n",
    "\n",
    "#For controlling which pieces are MAP\n",
    "width_threshold = 450\n",
    "size_threshold = 1000\n",
    "\n",
    "verbose = True\n",
    "\n",
    "proper_time = time.time()\n",
    "print_fusion_steps=True\n",
    "\n",
    "#parameter for CGAL skeletonization\n",
    "use_surface_after_CGAL=False\n",
    "\n",
    "#parameters for the stitching:\n",
    "\n",
    "move_MAP_stitch_to_end_or_branch = True\n",
    "distance_to_move_point_threshold=500\n",
    "\n",
    "\n",
    "\n",
    "for curr_limb_idx,limb_mesh_mparty in enumerate(current_mesh_data[0][\"branch_meshes\"]):\n",
    "    \n",
    "#     if curr_limb_idx != 3:\n",
    "#         continue\n",
    "    \n",
    "    curr_limb_time = time.time()\n",
    "    print(f\"\\n\\n----- Working on Proper Limb #{curr_limb_idx} ---------\")\n",
    "    \n",
    "    #will store a list of all the endpoints tha tmust be kept:\n",
    "    limb_to_endpoints_must_keep_list[curr_limb_idx] = []\n",
    "    \n",
    "    \n",
    "    \n",
    "    fusion_time = time.time()\n",
    "    # Doing the first pass of surface skeletonization\n",
    "    total_border_vertices = dict()\n",
    "    for l_idx,s_dict in piece_to_soma_touching_vertices.items():\n",
    "        local_b_verts = []\n",
    "        for sm_idx,sm_bord_verts in s_dict.items():\n",
    "            local_b_verts.append(np.vstack(sm_bord_verts))\n",
    "        total_border_vertices[l_idx] = np.vstack(local_b_verts)\n",
    "\n",
    "    #will eventually get the current root from soma_to_piece_touching_vertices[i]\n",
    "    root_curr = total_border_vertices[curr_limb_idx][0]\n",
    "    if print_fusion_steps:\n",
    "        print(f\"Time for preparing soma vertices and root: {time.time() - fusion_time }\")\n",
    "        fusion_time = time.time()\n",
    "    \n",
    "    sk_meshparty_obj = m_sk.skeletonize_mesh_largest_component(limb_mesh_mparty,\n",
    "                                                            root=root_curr,\n",
    "                                                              filter_mesh=False)\n",
    "\n",
    "    if print_fusion_steps:\n",
    "        print(f\"Time for 1st pass MP skeletonization: {time.time() - fusion_time }\")\n",
    "        fusion_time = time.time()\n",
    "        \n",
    "    (segment_branches, #skeleton branches\n",
    "    divided_submeshes, divided_submeshes_idx, #mesh correspondence (mesh and indices)\n",
    "    segment_widths_median) = m_sk.skeleton_obj_to_branches(sk_meshparty_obj,\n",
    "                                                          mesh = limb_mesh_mparty,\n",
    "                                                          meshparty_segment_size=meshparty_segment_size)\n",
    "    \n",
    "    \n",
    "    if print_fusion_steps:\n",
    "        print(f\"Decomposing first pass: {time.time() - fusion_time }\")\n",
    "        fusion_time = time.time()\n",
    "    \n",
    "    \n",
    "    \n",
    "\n",
    "\n",
    "    #gettin the branches that should be passed through MAP skeletonization\n",
    "    pieces_above_threshold = np.where(segment_widths_median>width_threshold)[0]\n",
    "\n",
    "    #getting the correspondnece info for those MAP qualifying\n",
    "    width_large = segment_widths_median[pieces_above_threshold]\n",
    "    sk_large = [segment_branches[k] for k in pieces_above_threshold]\n",
    "    mesh_large_idx = [divided_submeshes_idx[k] for k in pieces_above_threshold]\n",
    "    \n",
    "    \n",
    "\n",
    "    mesh_pieces_for_MAP = []\n",
    "\n",
    "    if len(mesh_large_idx) > 0: #will only continue processing if found MAP candidates\n",
    "        \n",
    "        print(f\"Found len(mesh_large_idx) MAP candidates: {[len(k) for k in mesh_large_idx]}\")\n",
    "        \n",
    "        #finds the connectivity edges of all the MAP candidates\n",
    "        mesh_large_connectivity = tu.mesh_list_connectivity(meshes = mesh_large_idx,\n",
    "                                main_mesh = limb_mesh_mparty,\n",
    "                                print_flag = False)\n",
    "        if print_fusion_steps:\n",
    "            print(f\"mesh_large_connectivity: {time.time() - fusion_time }\")\n",
    "            fusion_time = time.time()\n",
    "        \"\"\"\n",
    "        --------------- Grouping MAP candidates ----------------\n",
    "        Purpose: Will see what mesh pieces should be grouped together\n",
    "        to pass through CGAL skeletonization\n",
    "\n",
    "\n",
    "        Pseudocode: \n",
    "        1) build a networkx graph with all nodes for mesh_large_idx indexes\n",
    "        2) Add the edges\n",
    "        3) Find the connected components\n",
    "        4) Find sizes of connected components\n",
    "        5) For all those connected components that are of a large enough size, \n",
    "        add the mesh branches and skeletons to the final list\n",
    "\n",
    "\n",
    "        \"\"\"\n",
    "        G = nx.Graph()\n",
    "        G.add_nodes_from(np.arange(len(mesh_large_idx)))\n",
    "        G.add_edges_from(mesh_large_connectivity)\n",
    "        conn_comp = list(nx.connected_components(G))\n",
    "\n",
    "        filtered_pieces = []\n",
    "\n",
    "        sk_large_size_filt = []\n",
    "        mesh_large_idx_size_filt = []\n",
    "        width_large_size_filt = []\n",
    "\n",
    "        for cc in conn_comp:\n",
    "            total_cc_size = np.sum([len(mesh_large_idx[k]) for k in cc])\n",
    "            if total_cc_size>size_threshold:\n",
    "                #print(f\"cc ({cc}) passed the size threshold because size was {total_cc_size}\")\n",
    "                filtered_pieces.append(pieces_above_threshold[list(cc)])\n",
    "                \n",
    "        if print_fusion_steps:\n",
    "            print(f\"Finding MAP candidates connected components: {time.time() - fusion_time }\")\n",
    "            fusion_time = time.time()\n",
    "\n",
    "        #filtered_pieces: will have the indexes of all the branch candidates that should  be \n",
    "        #grouped together and passed through MAP skeletonization\n",
    "\n",
    "        if len(filtered_pieces) > 0:\n",
    "            print(f\"len(filtered_pieces) = {len(filtered_pieces)}\")\n",
    "            #all the pieces that will require MAP mesh correspondence and skeletonization\n",
    "            #(already organized into their components)\n",
    "            mesh_pieces_for_MAP = [limb_mesh_mparty.submesh([np.concatenate(divided_submeshes_idx[k])],append=True,repair=False) for k in filtered_pieces]\n",
    "            mesh_pieces_for_MAP_face_idx = [np.concatenate(divided_submeshes_idx[k]) for k in filtered_pieces]\n",
    "            \n",
    "            pieces_idx_MP = np.setdiff1d(np.arange(len(divided_submeshes_idx)),np.concatenate(filtered_pieces))\n",
    "\n",
    "            \"\"\"\n",
    "            Old Way: Finding connectivity of pieces through\n",
    "            mesh_idx_MP = [divided_submeshes_idx[k] for k in pieces_idx_MP]\n",
    "\n",
    "            mesh_large_connectivity_MP = tu.mesh_list_connectivity(meshes = mesh_idx_MP,\n",
    "                                    main_mesh = limb_mesh_mparty,\n",
    "                                    print_flag = False)\n",
    "\n",
    "            New Way: going to use skeleton connectivity to determine\n",
    "            connectivity of pieces\n",
    "\n",
    "            Pseudocode: \n",
    "            1)\n",
    "\n",
    "            \"\"\"\n",
    "\n",
    "            skeleton_MP = [segment_branches[k] for k in pieces_idx_MP]\n",
    "            skeleton_connectivity_MP = sk.skeleton_list_connectivity(\n",
    "                                            skeletons=skeleton_MP\n",
    "                                            )\n",
    "            if print_fusion_steps:\n",
    "                print(f\"skeleton_connectivity_MP : {time.time() - fusion_time }\")\n",
    "                fusion_time = time.time()\n",
    "\n",
    "            G = nx.Graph()\n",
    "            G.add_nodes_from(np.arange(len(skeleton_MP)))\n",
    "            G.add_edges_from(skeleton_connectivity_MP)\n",
    "            sublimbs_MP = list(nx.connected_components(G))\n",
    "            sublimbs_MP_orig_idx = [pieces_idx_MP[list(k)] for k in sublimbs_MP]\n",
    "\n",
    "\n",
    "            #concatenate into sublimbs the skeletons and meshes\n",
    "            sublimb_mesh_idx_branches_MP = [divided_submeshes_idx[k] for k in sublimbs_MP_orig_idx]\n",
    "            sublimb_mesh_branches_MP = [[limb_mesh_mparty.submesh([ki],append=True,repair=False)\n",
    "                                        for ki in k] for k in sublimb_mesh_idx_branches_MP]\n",
    "            sublimb_meshes_MP = [limb_mesh_mparty.submesh([np.concatenate(k)],append=True,repair=False)\n",
    "                                                         for k in sublimb_mesh_idx_branches_MP]\n",
    "            sublimb_meshes_MP_face_idx = [np.concatenate(k)\n",
    "                                                         for k in sublimb_mesh_idx_branches_MP]\n",
    "            sublimb_skeleton_branches = [segment_branches[k] for k in sublimbs_MP_orig_idx]\n",
    "            widths_MP = [segment_widths_median[k] for k in sublimbs_MP_orig_idx]\n",
    "            \n",
    "            if print_fusion_steps:\n",
    "                print(f\"Grouping MP Sublimbs by Graph: {time.time() - fusion_time }\")\n",
    "                fusion_time = time.time()\n",
    "\n",
    "    # else: #if no pieces were determine to need MAP processing\n",
    "    #     print(\"No MAP processing needed: just returning the Meshparty skeletonization and mesh correspondence\")\n",
    "    #     raise Exception(\"Returning MP correspondence\")\n",
    "\n",
    "\n",
    "    # nviz.plot_objects(main_mesh=tu.combine_meshes([limb_mesh_mparty,current_neuron[\"S0\"].mesh]),\n",
    "    #                   main_mesh_color=\"green\",\n",
    "    #     skeletons=sk_large_size_filt,\n",
    "    #      meshes=[limb_mesh_mparty.submesh([k],append=True) for k in mesh_large_idx_size_filt],\n",
    "    #       meshes_colors=\"red\")\n",
    "    \n",
    "    \n",
    "    \n",
    "    \n",
    "    \n",
    "    \n",
    "    \n",
    "    \n",
    "    \n",
    "    \n",
    "    #if no sublimbs need to be decomposed with MAP then just reassign all of the previous MP processing to the sublimb_MPs\n",
    "    if len(mesh_pieces_for_MAP) == 0:\n",
    "        sublimb_meshes_MP = [limb_mesh_mparty] #trimesh pieces that have already been passed through MP skeletonization (may not need)\n",
    "        # -- the decomposition information ---\n",
    "        sublimb_mesh_branches_MP = [divided_submeshes] #the mesh branches for all the disconnected sublimbs\n",
    "        sublimb_mesh_idx_branches_MP = [divided_submeshes_idx] #The mesh branches idx that have already passed through MP skeletonization\n",
    "        sublimb_skeleton_branches = [segment_branches]#the skeleton bnraches for all the sublimbs\n",
    "        widths_MP = [segment_widths_median] #the mesh branches widths for all the disconnected groups\n",
    "\n",
    "        MAP_flag = False\n",
    "    else:\n",
    "        MAP_flag = True\n",
    "\n",
    "    \n",
    "\n",
    "    mesh_pieces_for_MAP #trimesh pieces that should go through CGAL skeletonization\n",
    "    sublimb_meshes_MP #trimesh pieces that have already been passed through MP skeletonization (may not need)\n",
    "\n",
    "    # -- the decomposition information ---\n",
    "    sublimb_mesh_branches_MP #the mesh branches for all the disconnected sublimbs\n",
    "    sublimb_mesh_idx_branches_MP #The mesh branches idx that have already passed through MP skeletonization\n",
    "    sublimb_skeleton_branches #the skeleton bnraches for all the sublimbs\n",
    "    widths_MP #the mesh branches widths for all the disconnected groups\n",
    "    \n",
    "    if print_fusion_steps:\n",
    "        print(f\"Divinding into MP and MAP pieces: {time.time() - fusion_time }\")\n",
    "        fusion_time = time.time()\n",
    "\n",
    "    \n",
    "    \n",
    "    # ------------------- At this point have the correct division between MAP and MP ------------------------\n",
    "    \n",
    "    # -------------- Doing the MAP decomposition ------------------ #\n",
    "    global_start_time = time.time()\n",
    "    endpoints_must_keep = dict()\n",
    "\n",
    "    perform_cleaning_checks = False\n",
    "\n",
    "    limb_correspondence_MAP = dict()\n",
    "    \n",
    "    for sublimb_idx,(mesh,mesh_idx) in enumerate(zip(mesh_pieces_for_MAP,mesh_pieces_for_MAP_face_idx)):\n",
    "        print(f\"--- Working on MAP piece {sublimb_idx}---\")\n",
    "        mesh_start_time = time.time()\n",
    "        curr_soma_to_piece_touching_vertices = pre.filter_soma_touching_vertices_dict_by_mesh(\n",
    "        mesh = mesh,\n",
    "        curr_piece_to_soma_touching_vertices = piece_to_soma_touching_vertices[curr_limb_idx]\n",
    "        )\n",
    "        \n",
    "        if print_fusion_steps:\n",
    "            print(f\"MAP Filtering Soma Pieces: {time.time() - fusion_time }\")\n",
    "            fusion_time = time.time()\n",
    "\n",
    "        # ---- 0) Generating the Clean skeletons  -------------------------------------------#\n",
    "        if not curr_soma_to_piece_touching_vertices is None:\n",
    "            total_border_vertices = dict([(k,np.vstack(v)) for k,v in curr_soma_to_piece_touching_vertices.items()])\n",
    "\n",
    "        cleaned_branch,curr_limb_endpoints_must_keep = sk.skeletonize_and_clean_connected_branch_CGAL(\n",
    "            mesh=mesh,\n",
    "            curr_soma_to_piece_touching_vertices=curr_soma_to_piece_touching_vertices,\n",
    "            total_border_vertices=total_border_vertices,\n",
    "            filter_end_node_length=filter_end_node_length,\n",
    "            perform_cleaning_checks=perform_cleaning_checks,\n",
    "            combine_close_skeleton_nodes = combine_close_skeleton_nodes,\n",
    "            combine_close_skeleton_nodes_threshold=combine_close_skeleton_nodes_threshold,\n",
    "        use_surface_after_CGAL=use_surface_after_CGAL)\n",
    "        \n",
    "        limb_to_endpoints_must_keep_list[curr_limb_idx].append(curr_limb_endpoints_must_keep)\n",
    "\n",
    "        if len(cleaned_branch) == 0:\n",
    "            raise Exception(f\"Found a zero length skeleton for limb {z} of trmesh {branch}\")\n",
    "            \n",
    "        if print_fusion_steps:\n",
    "            print(f\"skeletonize_and_clean_connected_branch_CGAL: {time.time() - fusion_time }\")\n",
    "            fusion_time = time.time()\n",
    "\n",
    "        # ---- 1) Generating Initial Mesh Correspondence -------------------------------------------#\n",
    "        start_time = time.time()\n",
    "\n",
    "        print(f\"Working on limb correspondence for #{sublimb_idx} MAP piece\")\n",
    "        local_correspondence = pre.mesh_correspondence_first_pass(mesh=mesh,\n",
    "                                                             skeleton=cleaned_branch,\n",
    "                                                             distance_by_mesh_center=distance_by_mesh_center)\n",
    "\n",
    "\n",
    "        print(f\"Total time for decomposition = {time.time() - start_time}\")\n",
    "        if print_fusion_steps:\n",
    "            print(f\"mesh_correspondence_first_pass: {time.time() - fusion_time }\")\n",
    "            fusion_time = time.time()\n",
    "\n",
    "\n",
    "        #------------- 2) Doing Some checks on the initial corespondence -------- #\n",
    "\n",
    "        perform_cleaning_checks = True       \n",
    "        if perform_cleaning_checks:\n",
    "            pre.check_skeletonization_and_decomp(skeleton=cleaned_branch,\n",
    "                                            local_correspondence=local_correspondence)\n",
    "\n",
    "        # -------3) Finishing off the face correspondence so get 1-to-1 correspondence of mesh face to skeletal piece\n",
    "        local_correspondence_revised = pre.correspondence_1_to_1(mesh=mesh,\n",
    "                                        local_correspondence=local_correspondence,\n",
    "                                        curr_limb_endpoints_must_keep=curr_limb_endpoints_must_keep,\n",
    "                                        curr_soma_to_piece_touching_vertices=curr_soma_to_piece_touching_vertices)\n",
    "        \n",
    "        # -------3b) Fixing the mesh indices to correspond to the larger mesh as a whole\n",
    "        for k,v in local_correspondence_revised.items():\n",
    "            local_correspondence_revised[k][\"branch_face_idx\"] = mesh_idx[local_correspondence_revised[k][\"branch_face_idx\"]]\n",
    "        \n",
    "        print(f\"Total time for MAP sublimb #{sublimb_idx} mesh processing = {time.time() - mesh_start_time}\")\n",
    "        \n",
    "        if print_fusion_steps:\n",
    "            print(f\"correspondence_1_to_1: {time.time() - fusion_time }\")\n",
    "            fusion_time = time.time()\n",
    "\n",
    "        limb_correspondence_MAP[sublimb_idx] = local_correspondence_revised\n",
    "\n",
    "    print(f\"Total time for MAP sublimb processing {time.time() - global_start_time}\")\n",
    "\n",
    "    \n",
    "\n",
    "    \n",
    "    \n",
    "    # ----------------- Part B: Doing the MP Decomposition ---------------------- #\n",
    "    \n",
    "    \n",
    "    \n",
    "    \n",
    "    sublimb_meshes_MP #trimesh pieces that have already been passed through MP skeletonization (may not need)\n",
    "    # -- the decomposition information ---\n",
    "    sublimb_mesh_branches_MP #the mesh branches for all the disconnected sublimbs\n",
    "    sublimb_mesh_idx_branches_MP #The mesh branches idx that have already passed through MP skeletonization\n",
    "    sublimb_skeleton_branches #the skeleton bnraches for all the sublimbs\n",
    "    widths_MP #the mesh branches widths for all the disconnected groups\n",
    "\n",
    "    limb_correspondence_MP = dict()\n",
    "\n",
    "    print(\"***************Arrived at MESH PIECES FOR MAP AND mp***************\")\n",
    "    for sublimb_idx,mesh in enumerate(sublimb_meshes_MP):\n",
    "        print(f\"---- Working on MP Decomposition #{sublimb_idx} ----\")\n",
    "        mesh_start_time = time.time()\n",
    "\n",
    "        if len(sublimb_meshes_MP) == 1 and MAP_flag == False:\n",
    "            print(\"Using Quicker soma_to_piece_touching_vertices because no MAP and only one sublimb_mesh piece \")\n",
    "            curr_soma_to_piece_touching_vertices = piece_to_soma_touching_vertices[curr_limb_idx]\n",
    "        else:\n",
    "            curr_soma_to_piece_touching_vertices = pre.filter_soma_touching_vertices_dict_by_mesh(\n",
    "                                                mesh = mesh,\n",
    "                                                curr_piece_to_soma_touching_vertices = piece_to_soma_touching_vertices[curr_limb_idx]\n",
    "                                                )\n",
    "            \n",
    "        if print_fusion_steps:\n",
    "            print(f\"MP filtering soma verts: {time.time() - fusion_time }\")\n",
    "            fusion_time = time.time()\n",
    "\n",
    "        #creating all of the sublimb groups\n",
    "        segment_branches = sublimb_skeleton_branches[sublimb_idx]\n",
    "        whole_sk_MP = sk.stack_skeletons(segment_branches)\n",
    "        branch = mesh\n",
    "        divided_submeshes = sublimb_mesh_branches_MP[sublimb_idx]\n",
    "        divided_submeshes_idx = sublimb_mesh_idx_branches_MP[sublimb_idx]\n",
    "        segment_widths_median = widths_MP[sublimb_idx]\n",
    "\n",
    "        if curr_soma_to_piece_touching_vertices is None:\n",
    "            print(f\"Do Not Need to Fix MP Decomposition {sublimb_idx} so just continuing\")\n",
    "\n",
    "        else:\n",
    "            print(f\"Fixing Possible Soma Extension Branch for Sublimb {sublimb_idx}\")\n",
    "\n",
    "            #If there is some soma touching then need to see if have to fix soma extending pieces\n",
    "            return_info = sk.create_soma_extending_branches(current_skeleton=whole_sk_MP,\n",
    "                                      skeleton_mesh=branch,\n",
    "                                      soma_to_piece_touching_vertices=curr_soma_to_piece_touching_vertices,\n",
    "                                      return_endpoints_must_keep=True,\n",
    "                                         return_created_branch_info=True)\n",
    "            new_sk,endpts,new_branch_info = return_info\n",
    "\n",
    "            if print_fusion_steps:\n",
    "                print(f\"MP (because soma touching verts) create_soma_extending_branches: {time.time() - fusion_time }\")\n",
    "                fusion_time = time.time()\n",
    "\n",
    "            no_soma_extension_add = True\n",
    "            for sm_idx in new_branch_info.keys():\n",
    "                for b_vert_idx,br_info in enumerate(new_branch_info[sm_idx]):\n",
    "                    if br_info is None:\n",
    "                        continue\n",
    "                    no_soma_extension_add=False\n",
    "\n",
    "\n",
    "                    #1) Get the newly added branch (and the original vertex which is the first row)\n",
    "                    br_new,sm_bord_verts = br_info[\"new_branch\"],br_info[\"border_verts\"] #this will hold the new branch and the border vertices corresponding to it\n",
    "\n",
    "                    curr_soma_to_piece_touching_vertices_MP = {sm_idx:[sm_bord_verts]}\n",
    "                    endpoints_must_keep_MP = {sm_idx:[br_new[0][1]]}\n",
    "                    \n",
    "                    \n",
    "                    limb_to_endpoints_must_keep_list[curr_limb_idx].append(endpoints_must_keep_MP)\n",
    "\n",
    "                    orig_vertex = br_new[0][0]\n",
    "\n",
    "                    #2) Find the branches that have that coordinate (could be multiple)\n",
    "                    match_sk_branches = sk.find_branch_skeleton_with_specific_coordinate(segment_branches,\n",
    "                        current_coordinate=orig_vertex)\n",
    "\n",
    "                    #2b) If multiple branches: Pick a winning branch that has the most of the\n",
    "                    #    soma touching vertices\n",
    "                    if len(match_sk_branches) > 1:\n",
    "                        bord_verts_tree = KDTree(sm_bord_verts.reshape(-1,3))\n",
    "                        winning_branch = match_sk_branches[0]\n",
    "                        dist,_ = bord_verts_tree.query(divided_submeshes[winning_branch].vertices)\n",
    "                        winning_branch_n_bord_verts = np.sum(dist == 0)\n",
    "\n",
    "                        for i in range(1,len(match_sk_branches)):\n",
    "                            curr_branch = match_sk_branches[i]\n",
    "                            dist,_ = bord_verts_tree.query(divided_submeshes[winning_branch].vertices)\n",
    "                            n_bord_verts = np.sum(dist == 0)\n",
    "                            if n_bord_verts>winning_branch_n_bord_verts:\n",
    "                                winning_branch_n_bord_verts = n_bord_verts\n",
    "                                winning_branch = curr_branch\n",
    "                    elif len(match_sk_branches) == 1:\n",
    "                        winning_branch = match_sk_branches[0]\n",
    "                    else:\n",
    "                        raise Exception(\"No matching branches found for soma extending point\")\n",
    "\n",
    "                    if verbose:\n",
    "                        print(f\"Winning Branch = {winning_branch}\")\n",
    "\n",
    "                    #3) Find the mesh and skeleton of the winning branch\n",
    "                    winning_branch_mesh = divided_submeshes[winning_branch]\n",
    "                    winning_branch_mesh_idx = divided_submeshes_idx[winning_branch]\n",
    "                    winning_branch_sk = segment_branches[winning_branch]\n",
    "\n",
    "                    #4) Add newly created branch to skeleton and divide the skeleton into branches (could make 2 or 3)\n",
    "                    extended_skeleton_to_soma = sk.stack_skeletons([winning_branch_sk,br_new])\n",
    "                    soma_extending_branches = sk.decompose_skeleton_to_branches(extended_skeleton_to_soma)\n",
    "\n",
    "                    #5) Run Adaptive mesh correspondnece using branches and mesh\n",
    "                    local_correspondnece_MP = pre.mesh_correspondence_first_pass(mesh=winning_branch_mesh,\n",
    "                                                  skeleton=extended_skeleton_to_soma)\n",
    "\n",
    "                    local_correspondence_revised = pre.correspondence_1_to_1(mesh=winning_branch_mesh,\n",
    "                                                                local_correspondence=local_correspondnece_MP,\n",
    "                                                                curr_limb_endpoints_must_keep=endpoints_must_keep_MP,\n",
    "                                                                curr_soma_to_piece_touching_vertices=curr_soma_to_piece_touching_vertices_MP)\n",
    "\n",
    "                    # All the things that should be revised:\n",
    "                #     segment_branches, #skeleton branches\n",
    "                #     divided_submeshes, divided_submeshes_idx, #mesh correspondence (mesh and indices)\n",
    "                #     segment_widths_median\n",
    "\n",
    "\n",
    "                    new_submeshes = [k[\"branch_mesh\"] for k in local_correspondence_revised.values()]\n",
    "                    new_submeshes_idx = [winning_branch_mesh_idx[k[\"branch_face_idx\"]] for k in local_correspondence_revised.values()]\n",
    "                    new_skeletal_branches = [k[\"branch_skeleton\"] for k in local_correspondence_revised.values()]\n",
    "\n",
    "                    #calculate the new width\n",
    "                    ray_inter = tu.ray_pyembree.RayMeshIntersector(limb_mesh_mparty)\n",
    "                    new_widths = []\n",
    "                    for new_s_idx in new_submeshes_idx:\n",
    "                        curr_ray_distance = tu.ray_trace_distance(mesh=limb_mesh_mparty, \n",
    "                                            face_inds=new_s_idx,\n",
    "                                           ray_inter=ray_inter)\n",
    "                        new_widths.append(np.median(curr_ray_distance[curr_ray_distance!=0]))\n",
    "\n",
    "\n",
    "                    #6) Remove the original branch and mesh correspondence and replace with the multiples\n",
    "                #     new_segment_branches = deepcopy(segment_branches)\n",
    "                #     new_divided_submeshes = deepcopy(divided_submeshes)\n",
    "                #     new_divided_submeshes_idx = deepcopy(divided_submeshes_idx)\n",
    "                #     new_segment_widths_median = deepcopy(segment_widths_median)\n",
    "\n",
    "                    segment_branches = np.delete(segment_branches,winning_branch)\n",
    "                    segment_branches = np.append(segment_branches,new_skeletal_branches,axis=0)\n",
    "\n",
    "                    divided_submeshes = np.delete(divided_submeshes,winning_branch)\n",
    "                    divided_submeshes = np.append(divided_submeshes,new_submeshes,axis=0)\n",
    "\n",
    "                    divided_submeshes_idx = np.delete(divided_submeshes_idx,winning_branch)\n",
    "                    divided_submeshes_idx = np.append(divided_submeshes_idx,new_submeshes_idx,axis=0)\n",
    "\n",
    "                    segment_widths_median = np.delete(segment_widths_median,winning_branch)\n",
    "                    segment_widths_median = np.append(segment_widths_median,new_widths,axis=0)\n",
    "\n",
    "\n",
    "\n",
    "\n",
    "            if no_soma_extension_add:\n",
    "                print(\"No soma extending branch was added for this sublimb even though it had a soma border (means they already existed)\")\n",
    "\n",
    "            if print_fusion_steps:\n",
    "                print(f\"MP (because soma touching verts) soma extension add: {time.time() - fusion_time }\")\n",
    "                fusion_time = time.time()\n",
    "            \n",
    "        #building the limb correspondence\n",
    "        limb_correspondence_MP[sublimb_idx] = dict()\n",
    "\n",
    "        for zz,b_sk in enumerate(segment_branches):\n",
    "            limb_correspondence_MP[sublimb_idx][zz] = dict(\n",
    "                branch_skeleton = b_sk,\n",
    "                width_from_skeleton = segment_widths_median[zz],\n",
    "                branch_mesh = divided_submeshes[zz],\n",
    "                branch_face_idx = divided_submeshes_idx[zz]\n",
    "                )\n",
    "            \n",
    "            \n",
    "            \n",
    "        \n",
    "        \n",
    "    # ------------------------------------- Part C: Will make sure the correspondences can all be stitched together --------------- #\n",
    "\n",
    "    # Only want to perform this step if both MP and MAP pieces\n",
    "    if len(limb_correspondence_MAP)>0 and len(limb_correspondence_MP)>0:\n",
    "\n",
    "\n",
    "        # ---- Doing the mesh connectivity ---------#\n",
    "        sublimb_meshes_MP = []\n",
    "        sublimb_skeletons_MP = []\n",
    "\n",
    "        for sublimb_key,sublimb_v in limb_correspondence_MP.items():\n",
    "            sublimb_meshes_MP.append(tu.combine_meshes([branch_v[\"branch_mesh\"] for branch_v in sublimb_v.values()]))\n",
    "            sublimb_skeletons_MP.append(sk.stack_skeletons([branch_v[\"branch_skeleton\"] for branch_v in sublimb_v.values()]))\n",
    "\n",
    "        sublimb_meshes_MAP = []\n",
    "        sublimb_skeletons_MAP = []\n",
    "\n",
    "        for sublimb_key,sublimb_v in limb_correspondence_MAP.items():\n",
    "            sublimb_meshes_MAP.append(tu.combine_meshes([branch_v[\"branch_mesh\"] for branch_v in sublimb_v.values()]))\n",
    "            sublimb_skeletons_MAP.append(sk.stack_skeletons([branch_v[\"branch_skeleton\"] for branch_v in sublimb_v.values()]))\n",
    "\n",
    "\n",
    "\n",
    "        mesh_conn,mesh_conn_vertex_groups = tu.mesh_list_connectivity(meshes = sublimb_meshes_MP + sublimb_meshes_MAP,\n",
    "                                            main_mesh = limb_mesh_mparty,\n",
    "                                            min_common_vertices=1,\n",
    "                                            return_vertex_connection_groups=True,\n",
    "                                            return_largest_vertex_connection_group=True,\n",
    "                                            print_flag = False)\n",
    "\n",
    "        #check that every MAP piece mapped to a MP piece\n",
    "        mesh_conn_filt = []\n",
    "        mesh_conn_vertex_groups_filt = []\n",
    "        for j,(m1,m2) in enumerate(mesh_conn):\n",
    "            if m1 < len(sublimb_meshes_MP) and m2 >=len(sublimb_meshes_MP):\n",
    "                mesh_conn_filt.append([m1,m2])\n",
    "                mesh_conn_vertex_groups_filt.append(mesh_conn_vertex_groups[j])\n",
    "        mesh_conn_filt = np.array(mesh_conn_filt)\n",
    "\n",
    "        mesh_conn = mesh_conn_filt\n",
    "        mesh_conn_vertex_groups = mesh_conn_vertex_groups_filt\n",
    "\n",
    "        #check that the mapping should create only one connected component\n",
    "        G = nx.from_edgelist(mesh_conn)\n",
    "\n",
    "        if len(G) != len(sublimb_meshes_MP) + len(sublimb_meshes_MAP):\n",
    "            raise Exception(\"Number of nodes in mesh connectivity graph is not equal to number of  MAP and MP sublimbs\")\n",
    "\n",
    "        connect_comp = list(nx.connected_components(G))\n",
    "        if len(connect_comp)>1:\n",
    "            raise Exception(f\"Mesh connectivity was not one component, instead it was ({len(connect_comp)}): {connect_comp} \")\n",
    "            \n",
    "            \n",
    "            \n",
    "\n",
    "        #adjust the connection indices for MP and MAP indices\n",
    "        mesh_conn_adjusted = np.vstack([mesh_conn[:,0],mesh_conn[:,1]-len(sublimb_meshes_MP)]).T\n",
    "\n",
    "\n",
    "\n",
    "\n",
    "\n",
    "\n",
    "        \"\"\"\n",
    "        Pseudocode:\n",
    "        For each connection edge:\n",
    "            For each vertex connection group:\n",
    "                1) Get the endpoint vertices of the MP skeleton\n",
    "                2) Find the closest endpoint vertex to the vertex connection group (this is MP stitch point)\n",
    "                3) Find the closest skeletal point on MAP pairing (MAP stitch) \n",
    "                4) Find the branches that have that MAP stitch point:\n",
    "                5A) If the number of branches corresponding to stitch point is multipled\n",
    "                    --> then we are stitching at a branching oint\n",
    "                    i) Just add the skeletal segment from MP_stitch to MAP stitch to the MP skeletal segment\n",
    "                    ii) \n",
    "\n",
    "        \"\"\"\n",
    "\n",
    "\n",
    "        for (MP_idx,MAP_idx),v_g in zip(mesh_conn_adjusted,mesh_conn_vertex_groups):\n",
    "            print(f\"\\n---- Working on {(MP_idx,MAP_idx)} connection-----\")\n",
    "\n",
    "            \"\"\"\n",
    "            This old way of getting the endpoints was not good because could possibly just need\n",
    "            a stitching done between original branch junction\n",
    "\n",
    "            skeleton_MP_graph = sk.convert_skeleton_to_graph(curr_skeleton_MP)\n",
    "            endpoint_nodes = xu.get_nodes_of_degree_k(skeleton_MP_graph,1)\n",
    "            endpoint_nodes_coordinates = xu.get_node_attributes(skeleton_MP_graph,node_list=endpoint_nodes)\n",
    "            \"\"\"\n",
    "\n",
    "\n",
    "            #getting the skeletons that should be stitched\n",
    "            curr_skeleton_MP = sk.stack_skeletons([branch_v[\"branch_skeleton\"] for branch_v in limb_correspondence_MP[MP_idx].values()])\n",
    "            curr_skeleton_MAP = sk.stack_skeletons([branch_v[\"branch_skeleton\"] for branch_v in limb_correspondence_MAP[MAP_idx].values()])\n",
    "\n",
    "            #1) Get the endpoint vertices of the MP skeleton (needs to be inside loop because limb correspondence will change)\n",
    "            curr_MP_branch_skeletons = [k[\"branch_skeleton\"] for k in limb_correspondence_MP[MP_idx].values()]\n",
    "            endpoint_nodes_coordinates = np.array([sk.find_branch_endpoints(k) for k in curr_MP_branch_skeletons])\n",
    "            endpoint_nodes_coordinates = np.unique(endpoint_nodes_coordinates.reshape(-1,3),axis=0)\n",
    "\n",
    "            #2) Find the closest endpoint vertex to the vertex connection group (this is MP stitch point)\n",
    "            av_vert = np.mean(v_g,axis=0)\n",
    "            winning_vertex = endpoint_nodes_coordinates[np.argmin(np.linalg.norm(endpoint_nodes_coordinates-av_vert,axis=1))]\n",
    "            print(f\"winning_vertex = {winning_vertex}\")\n",
    "\n",
    "\n",
    "            #2b) Find the branch points where the winning vertex is located\n",
    "            MP_branches_with_stitch_point = sk.find_branch_skeleton_with_specific_coordinate(\n",
    "                divded_skeleton=curr_MP_branch_skeletons,\n",
    "                current_coordinate = winning_vertex\n",
    "            )\n",
    "            print(f\"MP_branches_with_stitch_point = {MP_branches_with_stitch_point}\")\n",
    "\n",
    "\n",
    "            #3) Find the closest skeletal point on MAP pairing (MAP stitch)\n",
    "            MAP_skeleton_coords = np.unique(curr_skeleton_MAP.reshape(-1,3),axis=0)\n",
    "            MAP_stitch_point = MAP_skeleton_coords[np.argmin(np.linalg.norm(MAP_skeleton_coords-winning_vertex,axis=1))]\n",
    "\n",
    "\n",
    "            #3b) Consider if the stitch point is close enough to end or branch node in skeleton:\n",
    "            # and if so then reassign\n",
    "            if move_MAP_stitch_to_end_or_branch:\n",
    "                MAP_stitch_point_new,change_status = sk.move_point_to_nearest_branch_end_point_within_threshold(\n",
    "                                                        graph=curr_skeleton_MAP,\n",
    "                                                        coordinate=MAP_stitch_point,\n",
    "                                                        distance_to_move_point_threshold = distance_to_move_point_threshold,\n",
    "                                                        verbose=True\n",
    "\n",
    "                                                        )\n",
    "                MAP_stitch_point=MAP_stitch_point_new\n",
    "\n",
    "\n",
    "            #4) Find the branches that have that MAP stitch point:\n",
    "            curr_MAP_branch_skeletons = [k[\"branch_skeleton\"] for k in limb_correspondence_MAP[MAP_idx].values()]\n",
    "\n",
    "            MAP_branches_with_stitch_point = sk.find_branch_skeleton_with_specific_coordinate(\n",
    "                divded_skeleton=curr_MAP_branch_skeletons,\n",
    "                current_coordinate = MAP_stitch_point\n",
    "            )\n",
    "\n",
    "\n",
    "            MAP_stitch_point_on_end_or_branch = False\n",
    "            if len(MAP_branches_with_stitch_point)>1:\n",
    "                MAP_stitch_point_on_end_or_branch = True\n",
    "            elif len(MAP_branches_with_stitch_point)==1:\n",
    "                if len(nu.matching_rows(sk.find_branch_endpoints(curr_MAP_branch_skeletons[MAP_branches_with_stitch_point[0]]),\n",
    "                                        MAP_stitch_point))>0:\n",
    "                    MAP_stitch_point_on_end_or_branch=True\n",
    "            else:\n",
    "                raise Exception(\"No matching MAP values\")\n",
    "\n",
    "\n",
    "            print(f\"MAP_branches_with_stitch_point = {MAP_branches_with_stitch_point}\")\n",
    "            print(f\"MAP_stitch_point_on_end_or_branch = {MAP_stitch_point_on_end_or_branch}\")\n",
    "\n",
    "\n",
    "            # ------------------------- This part does the stitching -------------------- #\n",
    "\n",
    "\n",
    "            \"\"\"\n",
    "            Pseudocode:\n",
    "            1) For all MP branches\n",
    "                a) Get neighbor coordinates to MP stitch points\n",
    "                b) Delete the MP Stitch points on each \n",
    "                c) Add skeleton segment from neighbor to MAP stitch point\n",
    "            2) Get skeletons and meshes from MP and MAP pieces\n",
    "            3) Run mesh correspondence to get new meshes and mesh_idx and widths\n",
    "            4a) If MAP_stitch_point_on_end_or_branch is False\n",
    "            - Delete the old MAP branch parts and replace with new MAP ones\n",
    "            4b) Revise the meshes,  mesh_idx, and widths of the MAP pieces\n",
    "            5) Revise the meshes,  mesh_idx, and widths of the MP pieces\n",
    "\n",
    "\n",
    "            \"\"\"\n",
    "\n",
    "            curr_MP_sk = []\n",
    "            for b_idx in MP_branches_with_stitch_point:\n",
    "\n",
    "                #a) Get neighbor coordinates to MP stitch points\n",
    "                MP_stitch_branch_graph = sk.convert_skeleton_to_graph(curr_MP_branch_skeletons[b_idx])\n",
    "                stitch_node = xu.get_nodes_with_attributes_dict(MP_stitch_branch_graph,dict(coordinates=winning_vertex))[0]\n",
    "                stitch_neighbors = xu.get_neighbors(MP_stitch_branch_graph,stitch_node)\n",
    "\n",
    "                if len(stitch_neighbors) != 1:\n",
    "                    raise Exception(\"Not just one neighbor for stitch point of MP branch\")\n",
    "                keep_neighbor = stitch_neighbors[0]  \n",
    "                keep_neighbor_coordinates = xu.get_node_attributes(MP_stitch_branch_graph,node_list=[keep_neighbor])[0]\n",
    "\n",
    "                #b) Delete the MP Stitch points on each \n",
    "                MP_stitch_branch_graph.remove_node(stitch_node)\n",
    "\n",
    "                #c) Add skeleton segment from neighbor to MAP stitch point\n",
    "                new_node_name = np.max(MP_stitch_branch_graph.nodes())+1\n",
    "\n",
    "                MP_stitch_branch_graph.add_nodes_from([(int(new_node_name),{\"coordinates\":MAP_stitch_point})])\n",
    "                MP_stitch_branch_graph.add_weighted_edges_from([(keep_neighbor,new_node_name,np.linalg.norm(MAP_stitch_point - keep_neighbor_coordinates))])\n",
    "\n",
    "                new_MP_skeleton = sk.convert_graph_to_skeleton(MP_stitch_branch_graph)\n",
    "                \n",
    "                #smooth over the new skeleton\n",
    "                new_MP_skeleton_smooth = sk.resize_skeleton_branch(new_MP_skeleton,\n",
    "                                                                  segment_width=meshparty_segment_size)\n",
    "                \n",
    "                curr_MP_sk.append(new_MP_skeleton_smooth)\n",
    "\n",
    "\n",
    "\n",
    "            #2) Get skeletons and meshes from MP and MAP pieces\n",
    "            curr_MAP_sk = [limb_correspondence_MAP[MAP_idx][k][\"branch_skeleton\"] for k in MAP_branches_with_stitch_point]\n",
    "\n",
    "            #2.1) Going to break up the MAP skeleton if need be\n",
    "            \"\"\"\n",
    "            Pseudocode:\n",
    "            a) check to see if it needs to be broken up\n",
    "            If it does:\n",
    "            b) Convert the skeleton into a graph\n",
    "            c) Find the node of the MAP stitch point (where need to do the breaking)\n",
    "            d) Find the degree one nodes\n",
    "            e) For each degree one node:\n",
    "            - Find shortest path from stitch node to end node\n",
    "            - get a subgraph from that path\n",
    "            - convert graph to a skeleton and save as new skeletons\n",
    "\n",
    "            \"\"\"\n",
    "            #a) check to see if it needs to be broken up\n",
    "            if not MAP_stitch_point_on_end_or_branch:\n",
    "                if len(curr_MAP_sk) > 1:\n",
    "                    raise Exception(f\"There was more than one skeleton for MAP skeletons even though MAP_stitch_point_on_end_or_branch = {MAP_stitch_point_on_end_or_branch}\")\n",
    "\n",
    "                curr_MAP_sk_new = []\n",
    "                #b) Convert the skeleton into a graph\n",
    "                curr_MAP_sk_graph = sk.convert_skeleton_to_graph(curr_MAP_sk[0])\n",
    "                #c) Find the node of the MAP stitch point (where need to do the breaking)\n",
    "                MP_stitch_node = xu.get_nodes_with_attributes_dict(curr_MAP_sk_graph,dict(coordinates=MAP_stitch_point))[0]\n",
    "                #d) Find the degree one nodes\n",
    "                curr_end_nodes_for_break = xu.get_nodes_of_degree_k(curr_MAP_sk_graph,1)\n",
    "\n",
    "                #e) For each degree one node:\n",
    "                for e_n in curr_end_nodes_for_break:\n",
    "                    #- Find shortest path from stitch node to end node\n",
    "                    stitch_to_end_path = nx.shortest_path(curr_MAP_sk_graph,MP_stitch_node,e_n)\n",
    "                    #- get a subgraph from that path\n",
    "                    stitch_to_end_path_graph = curr_MAP_sk_graph.subgraph(stitch_to_end_path)\n",
    "                    #- convert graph to a skeleton and save as new skeletons\n",
    "                    new_sk = sk.convert_graph_to_skeleton(stitch_to_end_path_graph)\n",
    "                    curr_MAP_sk_new.append(new_sk)\n",
    "                curr_MAP_sk = curr_MAP_sk_new\n",
    "\n",
    "            curr_MAP_meshes_idx = [limb_correspondence_MAP[MAP_idx][k][\"branch_face_idx\"] for k in MAP_branches_with_stitch_point]\n",
    "\n",
    "            curr_MP_sk\n",
    "            curr_MP_meshes_idx = [limb_correspondence_MP[MP_idx][k][\"branch_face_idx\"] for k in MP_branches_with_stitch_point]\n",
    "\n",
    "            stitching_mesh_idx = np.concatenate(curr_MAP_meshes_idx + curr_MP_meshes_idx)\n",
    "            stitching_mesh = limb_mesh_mparty.submesh([stitching_mesh_idx],append=True,repair=True)\n",
    "            stitching_skeleton_branches = curr_MAP_sk + curr_MP_sk\n",
    "            \"\"\"\n",
    "\n",
    "            ****** NEED TO GET THE RIGHT MESH TO RUN HE IDX ON SO GETS A GOOD MESH (CAN'T BE LIMB_MESH_MPARTY)\n",
    "            BUT MUST BE THE ORIGINAL MAP MESH\n",
    "\n",
    "            mesh_pieces_for_MAP\n",
    "            sublimb_meshes_MP\n",
    "\n",
    "            mesh_pieces_for_MAP_face_idx\n",
    "            sublimb_meshes_MP_face_idx\n",
    "\n",
    "            stitching_mesh = tu.combine_meshes(curr_MAP_meshes + curr_MP_meshes)\n",
    "            stitching_skeleton_branches = curr_MAP_sk + curr_MP_sk\n",
    "\n",
    "            \"\"\"\n",
    "\n",
    "\n",
    "\n",
    "            #3) Run mesh correspondence to get new meshes and mesh_idx and widths\n",
    "            local_correspondnece_stitch = pre.mesh_correspondence_first_pass(mesh=stitching_mesh,\n",
    "                                          skeleton_branches=stitching_skeleton_branches)\n",
    "\n",
    "            local_correspondence_stitch_revised = pre.correspondence_1_to_1(mesh=stitching_mesh,\n",
    "                                                        local_correspondence=local_correspondnece_stitch,\n",
    "                                                        curr_limb_endpoints_must_keep=None,\n",
    "                                                        curr_soma_to_piece_touching_vertices=None)\n",
    "\n",
    "            #Need to readjust the mesh correspondence idx\n",
    "            for k,v in local_correspondence_stitch_revised.items():\n",
    "                local_correspondence_stitch_revised[k][\"branch_face_idx\"] = stitching_mesh_idx[local_correspondence_stitch_revised[k][\"branch_face_idx\"]]\n",
    "\n",
    "            #4a) If MAP_stitch_point_on_end_or_branch is False\n",
    "            #- Delete the old MAP branch parts and replace with new MAP ones\n",
    "            if not MAP_stitch_point_on_end_or_branch:\n",
    "                print(\"Deleting branches from dictionary\")\n",
    "                del limb_correspondence_MAP[MAP_idx][MAP_branches_with_stitch_point[0]]\n",
    "                #adding the two new branches created from the stitching\n",
    "                limb_correspondence_MAP[MAP_idx][MAP_branches_with_stitch_point[0]] = local_correspondence_stitch_revised[0]\n",
    "                limb_correspondence_MAP[MAP_idx][np.max(list(limb_correspondence_MAP[MAP_idx].keys()))+1] = local_correspondence_stitch_revised[1]\n",
    "\n",
    "                #have to reorder the keys\n",
    "                limb_correspondence_MAP[MAP_idx] = dict([(k,limb_correspondence_MAP[MAP_idx][k]) for k in np.sort(list(limb_correspondence_MAP[MAP_idx].keys()))])\n",
    "\n",
    "            else: #4b) Revise the meshes,  mesh_idx, and widths of the MAP pieces if weren't broken up\n",
    "                for j,curr_MAP_idx_fixed in enumerate(MAP_branches_with_stitch_point):\n",
    "                    limb_correspondence_MAP[MAP_idx][curr_MAP_idx_fixed] = local_correspondence_stitch_revised[j]\n",
    "\n",
    "            #5) Revise the meshes,  mesh_idx, and widths of the MP pieces\n",
    "            for j,curr_MP_idx_fixed in enumerate(MP_branches_with_stitch_point):\n",
    "                limb_correspondence_MP[MP_idx][curr_MP_idx_fixed] = local_correspondence_stitch_revised[j+len(curr_MAP_sk)]\n",
    "\n",
    "\n",
    "            print(f\" Finished with {(MP_idx,MAP_idx)} \\n\\n\\n\")\n",
    "\n",
    "\n",
    "    else:\n",
    "        print(\"There were not both MAP and MP pieces so skipping the stitch resolving phase\")\n",
    "    \n",
    "    print(f\"Time for decomp of Limb {curr_limb_idx} = {time.time() - curr_limb_time}\")\n",
    "    # ------------- Saving the MAP and MP Decompositions ---------------- #\n",
    "    proper_limb_mesh_correspondence_MAP[curr_limb_idx] = limb_correspondence_MAP\n",
    "    proper_limb_mesh_correspondence_MP[curr_limb_idx] = limb_correspondence_MP\n",
    "    \n",
    "\n",
    "print(f\"Total time for all limb decomps = {time.time() - proper_time}\")"
   ]
  },
  {
   "cell_type": "markdown",
   "metadata": {},
   "source": [
    "# Compiling the Endpoints Must Keep"
   ]
  },
  {
   "cell_type": "code",
   "execution_count": 15,
   "metadata": {},
   "outputs": [
    {
     "data": {
      "text/plain": [
       "{0: {0: [TrackedArray([[577452.9, 779751.8, 882693.4],\n",
       "                 [577763.8, 779028.2, 882488.5],\n",
       "                 [578108.4, 779692.9, 882472.8],\n",
       "                 [577752. , 779037. , 882378. ],\n",
       "                 [577977.4, 779869. , 882501.4],\n",
       "                 [577332.3, 779511.6, 882645.7],\n",
       "                 [578050.2, 779593.6, 882369.1],\n",
       "                 [577405.5, 779232.6, 882468.6],\n",
       "                 [577537.9, 779122.9, 882478.8],\n",
       "                 [577855. , 779957.2, 882631.9],\n",
       "                 [577637.8, 779080.4, 882461.2],\n",
       "                 [577731. , 780003. , 882609. ],\n",
       "                 [577930.5, 779278.5, 882241.5],\n",
       "                 [577689. , 779058. , 882315. ],\n",
       "                 [577841.2, 779094.8, 882367.5],\n",
       "                 [577446.4, 779622.8, 882747.2],\n",
       "                 [577773. , 779037. , 882357. ],\n",
       "                 [577583.1, 779867.2, 882698. ],\n",
       "                 [578027.6, 779356.1, 882321.9],\n",
       "                 [577405.2, 779330.9, 882666.8]])],\n",
       "  1: [TrackedArray([[580478.6, 771669. , 885399.6],\n",
       "                 [579293.8, 772063.6, 885518. ],\n",
       "                 [580218.1, 771431.4, 885658.1],\n",
       "                 [579967.5, 772038.8, 885108. ],\n",
       "                 [579810. , 771918. , 885108. ],\n",
       "                 [579749.8, 771992.9, 885150.2],\n",
       "                 [580156.6, 771634.1, 885833.4],\n",
       "                 [579800.9, 771569.4, 885956.9],\n",
       "                 [579190.2, 771672.2, 885807.2],\n",
       "                 [580298.4, 771508.4, 885558.6],\n",
       "                 [579088.1, 771776.2, 885706. ],\n",
       "                 [580237.9, 771731.7, 885095.4],\n",
       "                 [580083. , 771839.2, 885097.5],\n",
       "                 [579342.4, 771610.4, 885914.6],\n",
       "                 [580324.5, 771687. , 885606.8],\n",
       "                 [579682.6, 772060.9, 885191. ],\n",
       "                 [579552.9, 771584.2, 885938.3],\n",
       "                 [579148.5, 771750. , 885801. ],\n",
       "                 [580399.5, 771822.4, 885275.6],\n",
       "                 [580209.7, 771929.2, 885127.6],\n",
       "                 [579396.1, 771929. , 885393.1],\n",
       "                 [579529.8, 771752.9, 886008.8],\n",
       "                 [579686.8, 771633.1, 885954.6],\n",
       "                 [579159.5, 771898.9, 885562.4],\n",
       "                 [579519.4, 772073. , 885284.4],\n",
       "                 [580234.8, 771703.7, 885771.6],\n",
       "                 [579957. , 771553.1, 885885. ]]),\n",
       "   TrackedArray([[572892.4, 784112.7, 890130.9],\n",
       "                 [574874.6, 784909.7, 892020. ],\n",
       "                 [573535. , 784217.2, 889387.8],\n",
       "                 [573227.4, 784303.4, 889605. ],\n",
       "                 [573390.1, 784125.6, 889503.9],\n",
       "                 [572945. , 783962.2, 890017.7],\n",
       "                 [575680.2, 785088.4, 890166.6],\n",
       "                 [575244.9, 785021.9, 891612.5],\n",
       "                 [574781.2, 785014.6, 888710.4],\n",
       "                 [574374.5, 784522.3, 888754.2],\n",
       "                 [572451.5, 784365.9, 891610.9],\n",
       "                 [575645.8, 785055.8, 891261.9],\n",
       "                 [573284.6, 784642.2, 892474.9],\n",
       "                 [573875.2, 784410.9, 889063.9],\n",
       "                 [575397.4, 784923.8, 891602.9],\n",
       "                 [572451.1, 784301.3, 891217.1],\n",
       "                 [575660.2, 785045. , 890456.9],\n",
       "                 [575716.5, 785054.4, 889921.1],\n",
       "                 [574571.1, 784848.5, 888726.6],\n",
       "                 [575550.1, 785012.2, 891440.2],\n",
       "                 [575446.9, 785097.5, 889604. ],\n",
       "                 [575163.9, 784979.5, 891740.9],\n",
       "                 [575772.1, 784957.9, 891203.4],\n",
       "                 [574481.1, 784669.9, 888718.7],\n",
       "                 [575778.2, 785050.3, 891067.9],\n",
       "                 [573451.5, 784447.1, 892683.8],\n",
       "                 [572657.1, 784240.8, 890560. ],\n",
       "                 [572449.5, 784581. , 891891. ],\n",
       "                 [575044.8, 785239.4, 888962.1],\n",
       "                 [574150.2, 784656.4, 892523.2],\n",
       "                 [574904.2, 784986.1, 888674.7],\n",
       "                 [575730.8, 785021.4, 890313.5],\n",
       "                 [572439. , 784528.5, 891796.5],\n",
       "                 [574120.2, 784193.4, 888891.3],\n",
       "                 [575780.2, 784941.8, 890518.7],\n",
       "                 [575906.8, 784910. , 891063.8],\n",
       "                 [572661. , 784409.8, 892315.4],\n",
       "                 [573733.2, 784357.2, 889177.4],\n",
       "                 [573951. , 784434. , 892741.5],\n",
       "                 [574750.6, 784969.8, 891984.8],\n",
       "                 [574051.3, 784446.8, 888936.8],\n",
       "                 [573149.2, 784620.4, 892462.5],\n",
       "                 [574959.9, 785028.8, 891839.9],\n",
       "                 [573804. , 784329. , 892815. ],\n",
       "                 [573987.8, 784218.8, 889003.5],\n",
       "                 [573448.1, 784625.4, 892537.3],\n",
       "                 [572449.8, 784457.8, 892073. ],\n",
       "                 [572585.6, 784314.4, 890769.6],\n",
       "                 [575158.9, 785280.8, 889281.2],\n",
       "                 [575050.1, 785019.4, 888739.9],\n",
       "                 [573330.7, 784528.3, 892585.9],\n",
       "                 [573174. , 784213.5, 889717.5],\n",
       "                 [573792.8, 784462.2, 892665.2],\n",
       "                 [573026.2, 784141.7, 889863.1],\n",
       "                 [574038.9, 784593.9, 892594.9],\n",
       "                 [575259.2, 784887. , 891783.5],\n",
       "                 [572946.3, 784218.8, 889985.4],\n",
       "                 [572964. , 784518. , 892374. ],\n",
       "                 [573616.5, 784216.3, 889309.5],\n",
       "                 [575695. , 785054.2, 890671.8],\n",
       "                 [574413.7, 784957. , 892146.2],\n",
       "                 [575514.8, 785160.8, 889848.7],\n",
       "                 [572829.1, 784141.8, 890264.2],\n",
       "                 [574624.5, 784963.7, 888719.5],\n",
       "                 [572730.3, 784174.5, 890428.4],\n",
       "                 [575134.6, 785363.2, 889413.2],\n",
       "                 [574170. , 784769.2, 892323.5],\n",
       "                 [574324.9, 784765. , 892278.7],\n",
       "                 [572870.8, 784425.9, 892437.6],\n",
       "                 [575492.6, 784941.5, 891520.2],\n",
       "                 [572565. , 784486.5, 892227. ],\n",
       "                 [575305.5, 785232. , 889570.5],\n",
       "                 [574955.1, 785224. , 888785.3],\n",
       "                 [572544. , 784476. , 890909.2],\n",
       "                 [573923.4, 784527.9, 892629. ],\n",
       "                 [573150.6, 784446.4, 892538.2],\n",
       "                 [573971.2, 784563.4, 889003.8],\n",
       "                 [575842.1, 785020.5, 890883.1],\n",
       "                 [572417.9, 784473.3, 891669.2],\n",
       "                 [573972.2, 784679.5, 892465.9],\n",
       "                 [572484.6, 784428.8, 891115.8],\n",
       "                 [575047.4, 784896.4, 891946.6],\n",
       "                 [572442.6, 784464.8, 891332.6],\n",
       "                 [574286.4, 784457.6, 888801.9],\n",
       "                 [574531.7, 784940.7, 892098.4],\n",
       "                 [573689.1, 784479.2, 892636.6]])],\n",
       "  2: [TrackedArray([[581868.6, 776243.2, 894234.2],\n",
       "                 [582834. , 776842.5, 894306. ],\n",
       "                 [583608.8, 776684.4, 892884.9],\n",
       "                 [583738.8, 777041.2, 893259.6],\n",
       "                 [582347.7, 776811.5, 894314.8],\n",
       "                 [583700.8, 777081.4, 893354.8],\n",
       "                 [582036. , 775887. , 893466. ],\n",
       "                 [581899.5, 776517. , 894222. ],\n",
       "                 [582694.8, 776226.2, 892640.4],\n",
       "                 [583490.2, 777094.5, 893812.5],\n",
       "                 [583875.2, 776941.1, 893193.2],\n",
       "                 [581945.8, 775875.9, 893906.2],\n",
       "                 [583759.6, 776902.6, 893075.1],\n",
       "                 [583722.1, 776743. , 893011.6],\n",
       "                 [582880.2, 776260.4, 892657.3],\n",
       "                 [582282.8, 775913.2, 893319. ],\n",
       "                 [582099. , 775866. , 893466. ],\n",
       "                 [581868. , 776034. , 894222. ],\n",
       "                 [583750.4, 776986.8, 893187. ],\n",
       "                 [582357.2, 775938.8, 893165.6],\n",
       "                 [583500.8, 776690.2, 892830.8],\n",
       "                 [581826. , 776538. , 894180. ],\n",
       "                 [583417.6, 777086.9, 893949.5],\n",
       "                 [582099. , 775887. , 893319. ],\n",
       "                 [583642.5, 777147. , 893649.8],\n",
       "                 [581763. , 776475. , 894222. ],\n",
       "                 [581958.2, 776731.7, 894235.1],\n",
       "                 [583338.8, 777022.8, 894039.7],\n",
       "                 [583642.8, 776921.2, 892986.1],\n",
       "                 [581826. , 776328. , 894222. ],\n",
       "                 [582540.9, 776049.9, 892772.7],\n",
       "                 [583724.1, 777022.2, 893704. ],\n",
       "                 [583128. , 776443.5, 892752. ],\n",
       "                 [582109.5, 776706. , 894285. ],\n",
       "                 [583443. , 776601. , 892773. ],\n",
       "                 [583553.9, 777051.1, 894013.4],\n",
       "                 [583064.8, 777004. , 894072.6],\n",
       "                 [582582. , 776821.5, 894316.5],\n",
       "                 [582204.9, 775918.2, 893218.6],\n",
       "                 [583464. , 776580. , 892815. ],\n",
       "                 [583800. , 777042. , 893466. ],\n",
       "                 [582061.6, 775804.2, 893735.4],\n",
       "                 [582365.4, 775991.8, 892947.3],\n",
       "                 [583884. , 777000. , 893340. ],\n",
       "                 [583007.2, 776407.1, 892641.1],\n",
       "                 [583107. , 776349. , 892773. ],\n",
       "                 [582176.5, 776806.4, 894305. ],\n",
       "                 [581944. , 775959.7, 894125.8],\n",
       "                 [582030.9, 775859.1, 893558.4],\n",
       "                 [583633.9, 777110.7, 893515.3],\n",
       "                 [583011.4, 776922.5, 894190.4],\n",
       "                 [582750.6, 776767.8, 894336.8]])],\n",
       "  3: [TrackedArray([[584619. , 779100. , 883365. ],\n",
       "                 [583758. , 778869. , 883008. ],\n",
       "                 [583646.8, 778730.1, 883045.6],\n",
       "                 [583823.4, 778512.7, 882988.3],\n",
       "                 [584481.1, 778139.6, 883000.4],\n",
       "                 [584661. , 778890. , 883470. ],\n",
       "                 [583919.4, 778369.1, 883043.4],\n",
       "                 [584677.6, 778462.4, 883493. ],\n",
       "                 [584661. , 779037. , 883407. ],\n",
       "                 [584562.1, 778701.1, 883586.4],\n",
       "                 [584778.4, 778753.1, 883463.5],\n",
       "                 [584298.8, 778202.2, 882971.2],\n",
       "                 [584135.1, 779290.3, 882957.8],\n",
       "                 [584073. , 779205. , 882905.4],\n",
       "                 [584240.3, 779405. , 883035.6],\n",
       "                 [584451. , 779299.5, 883228.5],\n",
       "                 [583863. , 778974. , 883029. ],\n",
       "                 [583705.4, 778573.6, 883072.5],\n",
       "                 [584820.2, 778280.3, 883350.1],\n",
       "                 [584682. , 779037. , 883386. ],\n",
       "                 [584299.9, 779415.2, 883176.6],\n",
       "                 [584116.5, 778309.4, 882950.8],\n",
       "                 [583800. , 778953. , 883050. ],\n",
       "                 [584557.5, 778041.8, 883217.4],\n",
       "                 [583947. , 778995. , 882966. ],\n",
       "                 [584713.5, 778092. , 883123.5],\n",
       "                 [584713.5, 778963.5, 883417.5],\n",
       "                 [584624.2, 779205. , 883291.5],\n",
       "                 [584668.2, 778137.1, 883385.4],\n",
       "                 [583800. , 778932. , 883050. ],\n",
       "                 [584568.8, 779387.1, 883199.1],\n",
       "                 [584602.4, 778286.6, 883518.9]])],\n",
       "  4: [TrackedArray([[571042.5, 773346. , 891460.5],\n",
       "                 [571263. , 773178. , 891408. ],\n",
       "                 [571376.2, 773049.2, 891260.2],\n",
       "                 [571515. , 772926. , 890904. ],\n",
       "                 [571374.4, 773157.6, 890605.2],\n",
       "                 [570717. , 773556. , 891345. ],\n",
       "                 [571515.5, 773068.8, 891099.1],\n",
       "                 [571189.5, 773209.5, 891460.5],\n",
       "                 [571126.5, 773388. , 890568. ],\n",
       "                 [571515. , 772947. , 890925. ],\n",
       "                 [571515. , 772947. , 890883. ],\n",
       "                 [570864. , 773472. , 891408. ],\n",
       "                 [571515. , 772947. , 890841. ],\n",
       "                 [570604.8, 773645.1, 891065.7],\n",
       "                 [571116. , 773283. , 890589. ],\n",
       "                 [570881.8, 773505.9, 890607.9],\n",
       "                 [571284. , 773115. , 891366. ],\n",
       "                 [571452.7, 773046.2, 890728.1],\n",
       "                 [570949.4, 773578.2, 890519.2],\n",
       "                 [570683.4, 773479.3, 891413.7],\n",
       "                 [571515. , 772968. , 890820. ],\n",
       "                 [571084.5, 773524.5, 890515.5],\n",
       "                 [570969. , 773388. , 890568. ],\n",
       "                 [570570. , 773577. , 891135. ],\n",
       "                 [571595.1, 773040.1, 890965.7],\n",
       "                 [571494. , 772947. , 890841. ],\n",
       "                 [571520.2, 772978.5, 890793.8],\n",
       "                 [570675. , 773577. , 891303. ],\n",
       "                 [570875.4, 773710.6, 890774.1],\n",
       "                 [570723.6, 773649.5, 890883.1],\n",
       "                 [570787.6, 773513.2, 890734.8]])],\n",
       "  5: [TrackedArray([[574374.4, 771592. , 890989.1],\n",
       "                 [574818.8, 771453.4, 891095.8],\n",
       "                 [574724.3, 771580.4, 891150.5],\n",
       "                 [574433.6, 771442. , 890858.6],\n",
       "                 [574555.5, 771579.2, 890720.8],\n",
       "                 [574411.9, 771518. , 891161.5],\n",
       "                 [574995.8, 771340.5, 890636.2],\n",
       "                 [575100.5, 771413.3, 890818.9],\n",
       "                 [574644. , 771666. , 890652. ],\n",
       "                 [575058.8, 771293.2, 890851.5],\n",
       "                 [575001. , 771498. , 890904. ],\n",
       "                 [575110.1, 771252.1, 890732.2],\n",
       "                 [574930.6, 771483.1, 891004.9],\n",
       "                 [574801.5, 771550.5, 890631. ]])]}}"
      ]
     },
     "execution_count": 15,
     "metadata": {},
     "output_type": "execute_result"
    }
   ],
   "source": [
    "soma_to_piece_touching_vertices"
   ]
  },
  {
   "cell_type": "code",
   "execution_count": 14,
   "metadata": {
    "scrolled": true
   },
   "outputs": [
    {
     "data": {
      "text/plain": [
       "{0: [{0: array([[577715.01 , 779426.275, 882495.665]])},\n",
       "  None,\n",
       "  None,\n",
       "  None,\n",
       "  None],\n",
       " 1: [{0: array([[579627.        , 770003.        , 884926.        ],\n",
       "          [574112.13372093, 784665.63837209, 890838.61395349]])}],\n",
       " 2: [{0: array([[583928., 776188., 894165.]])}],\n",
       " 3: [{0: array([[585288., 778963., 882407.]])}],\n",
       " 4: [{0: array([[568804., 772268., 891883.]])}],\n",
       " 5: [{0: array([[574036., 769615., 891608.]])}]}"
      ]
     },
     "execution_count": 14,
     "metadata": {},
     "output_type": "execute_result"
    }
   ],
   "source": [
    "limb_to_endpoints_must_keep_list"
   ]
  },
  {
   "cell_type": "markdown",
   "metadata": {},
   "source": [
    "# Work with Concept Networks"
   ]
  },
  {
   "cell_type": "code",
   "execution_count": null,
   "metadata": {},
   "outputs": [],
   "source": []
  },
  {
   "cell_type": "code",
   "execution_count": null,
   "metadata": {},
   "outputs": [],
   "source": []
  },
  {
   "cell_type": "code",
   "execution_count": null,
   "metadata": {},
   "outputs": [],
   "source": []
  },
  {
   "cell_type": "markdown",
   "metadata": {},
   "source": [
    "# Visualizing the Results before stitching"
   ]
  },
  {
   "cell_type": "code",
   "execution_count": null,
   "metadata": {},
   "outputs": [],
   "source": [
    "import neuron_visualizations as nviz"
   ]
  },
  {
   "cell_type": "code",
   "execution_count": null,
   "metadata": {},
   "outputs": [],
   "source": [
    "MAP_skeletons = []\n",
    "MAP_meshes = []\n",
    "\n",
    "for proper_idx,limb_correspondence_MAP in proper_limb_mesh_correspondence_MAP.items():\n",
    "    for MAP_sublimb_idx,v in limb_correspondence_MAP.items():\n",
    "        for MAP_branch_idx,v2 in v.items():\n",
    "            MAP_skeletons.append(v2[\"branch_skeleton\"])\n",
    "            MAP_meshes.append(v2[\"branch_mesh\"])\n",
    "\n",
    "MP_skeletons = []\n",
    "MP_meshes = []\n",
    "\n",
    "for proper_idx,limb_correspondence_MP in proper_limb_mesh_correspondence_MP.items():\n",
    "    for MP_sublimb_idx,v in limb_correspondence_MP.items():\n",
    "        for MP_branch_idx,v2 in v.items():\n",
    "            MP_skeletons.append(v2[\"branch_skeleton\"])\n",
    "            MP_meshes.append(v2[\"branch_mesh\"])\n",
    "\n",
    "nviz.plot_objects(main_mesh=tu.combine_meshes(soma_touching_mesh_data[z][\"soma_meshes\"]),\n",
    "                  main_mesh_color=\"red\",\n",
    "    meshes=MP_meshes + MAP_meshes,\n",
    "                  meshes_colors=\"random\",\n",
    "                 skeletons=MP_skeletons + MAP_skeletons,\n",
    "                 skeletons_colors=\"random\",\n",
    "                html_path=\"cloud_neuron_decomp_test.html\",\n",
    "#show_at_end=False\n",
    "                 )"
   ]
  },
  {
   "cell_type": "markdown",
   "metadata": {},
   "source": [
    "# checking that a branch has all one connected component skeleton"
   ]
  },
  {
   "cell_type": "code",
   "execution_count": null,
   "metadata": {},
   "outputs": [],
   "source": [
    "MAP_skeletons = []\n",
    "MAP_meshes = []\n",
    "\n",
    "check_idx = 0\n",
    "\n",
    "limb_correspondence_MAP = proper_limb_mesh_correspondence_MAP[check_idx]\n",
    "for MAP_sublimb_idx,v in limb_correspondence_MAP.items():\n",
    "    for MAP_branch_idx,v2 in v.items():\n",
    "        MAP_skeletons.append(v2[\"branch_skeleton\"])\n",
    "        MAP_meshes.append(v2[\"branch_mesh\"])\n",
    "\n",
    "MP_skeletons = []\n",
    "MP_meshes = []\n",
    "\n",
    "limb_correspondence_MP = proper_limb_mesh_correspondence_MP[check_idx]\n",
    "for MP_sublimb_idx,v in limb_correspondence_MP.items():\n",
    "    for MP_branch_idx,v2 in v.items():\n",
    "        MP_skeletons.append(v2[\"branch_skeleton\"])\n",
    "        MP_meshes.append(v2[\"branch_mesh\"])\n",
    "        \n"
   ]
  },
  {
   "cell_type": "code",
   "execution_count": null,
   "metadata": {},
   "outputs": [],
   "source": [
    "total_limb_sk = sk.stack_skeletons(MAP_skeletons+MP_skeletons)\n",
    "nx.number_connected_components(sk.convert_skeleton_to_graph(total_limb_sk))"
   ]
  }
 ],
 "metadata": {
  "kernelspec": {
   "display_name": "Python 3",
   "language": "python",
   "name": "python3"
  },
  "language_info": {
   "codemirror_mode": {
    "name": "ipython",
    "version": 3
   },
   "file_extension": ".py",
   "mimetype": "text/x-python",
   "name": "python",
   "nbconvert_exporter": "python",
   "pygments_lexer": "ipython3",
   "version": "3.6.9"
  }
 },
 "nbformat": 4,
 "nbformat_minor": 4
}
