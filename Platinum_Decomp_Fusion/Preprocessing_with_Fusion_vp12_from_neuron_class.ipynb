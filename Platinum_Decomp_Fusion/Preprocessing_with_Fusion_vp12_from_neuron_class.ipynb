{
 "cells": [
  {
   "cell_type": "code",
   "execution_count": 1,
   "metadata": {},
   "outputs": [],
   "source": [
    "from os import sys\n",
    "sys.path.append(\"/meshAfterParty/\")"
   ]
  },
  {
   "cell_type": "code",
   "execution_count": 2,
   "metadata": {},
   "outputs": [
    {
     "name": "stderr",
     "output_type": "stream",
     "text": [
      "WARNING:root:Need to pip install annotationframeworkclient to repair mesh with pychunkedgraph\n",
      "WARNING:root:Need to pip install annotationframeworkclient to use dataset_name parameters\n"
     ]
    }
   ],
   "source": [
    "import neuron\n",
    "import neuron_visualizations as nviz\n",
    "import neuron_utils as nru\n",
    "from importlib import reload\n",
    "import preprocessing_vp2 as pre\n",
    "pre = reload(pre)"
   ]
  },
  {
   "cell_type": "markdown",
   "metadata": {},
   "source": [
    "# Loading the Neuron"
   ]
  },
  {
   "cell_type": "code",
   "execution_count": 3,
   "metadata": {},
   "outputs": [],
   "source": [
    "import trimesh_utils as tu\n",
    "neuron_mesh_file = \"/notebooks/test_neurons/Segmentation_2/864691135548210884_error_prone_axon_cloud.off\"\n",
    "\n",
    "segment_id = 864691135548210884\n",
    "description = \"error_prone_axon_cloud.off\"\n",
    "\n",
    "current_neuron_mesh = tu.load_mesh_no_processing(neuron_mesh_file)"
   ]
  },
  {
   "cell_type": "code",
   "execution_count": 4,
   "metadata": {},
   "outputs": [
    {
     "name": "stderr",
     "output_type": "stream",
     "text": [
      "/usr/local/lib/python3.6/dist-packages/traittypes/traittypes.py:101: UserWarning: Given trait value dtype \"float64\" does not match required type \"float64\". A coerced copy has been created.\n",
      "  np.dtype(self.dtype).name))\n"
     ]
    },
    {
     "data": {
      "application/vnd.jupyter.widget-view+json": {
       "model_id": "471dba11434044eebc735d4373c2c67f",
       "version_major": 2,
       "version_minor": 0
      },
      "text/plain": [
       "VBox(children=(Figure(camera=PerspectiveCamera(fov=46.0, position=(0.0, 0.0, 2.0), quaternion=(0.0, 0.0, 0.0, …"
      ]
     },
     "metadata": {},
     "output_type": "display_data"
    }
   ],
   "source": [
    "nviz.plot_objects(current_neuron_mesh)"
   ]
  },
  {
   "cell_type": "markdown",
   "metadata": {},
   "source": [
    "# Doing mesh decomposition"
   ]
  },
  {
   "cell_type": "code",
   "execution_count": 5,
   "metadata": {},
   "outputs": [
    {
     "name": "stdout",
     "output_type": "stream",
     "text": [
      "--- 0) Having to preprocess the Neuron becuase no preprocessed data\n",
      "Please wait this could take a while.....\n",
      "Skipping the hole filling\n",
      "use_meshafterparty = True\n",
      "Current Arguments Using (adjusted for decimation):\n",
      " large_mesh_threshold= 15000.0 \n",
      "large_mesh_threshold_inner = 10000.0 \n",
      "soma_size_threshold = 937.5 \n",
      "soma_size_threshold_max = 12000.0\n",
      "outer_decimation_ratio = 0.25\n",
      "inner_decimation_ratio = 0.25\n",
      "xvfb-run -n 3130 -s \"-screen 0 800x600x24\" meshlabserver $@  -i /notebooks/Platinum_Decomp_Fusion/864691135548210884/neuron_864691135548210884.off -o /notebooks/Platinum_Decomp_Fusion/864691135548210884/neuron_864691135548210884_decimated.off -s /notebooks/Platinum_Decomp_Fusion/864691135548210884/decimation_meshlab_25503174.mls\n",
      "Total found significant pieces before Poisson = [<trimesh.Trimesh(vertices.shape=(202504, 3), faces.shape=(401085, 3))>]\n",
      "----- working on large mesh #0: <trimesh.Trimesh(vertices.shape=(202504, 3), faces.shape=(401085, 3))>\n",
      "pre_largest_mesh_path = /notebooks/Platinum_Decomp_Fusion/864691135548210884/neuron_864691135548210884_decimated_largest_piece.off\n",
      "xvfb-run -n 3084 -s \"-screen 0 800x600x24\" meshlabserver $@  -i /notebooks/Platinum_Decomp_Fusion/864691135548210884/neuron_864691135548210884_decimated_largest_piece.off -o /notebooks/Platinum_Decomp_Fusion/864691135548210884/neuron_864691135548210884_decimated_largest_piece_poisson.off -s /notebooks/Platinum_Decomp_Fusion/864691135548210884/poisson_240337.mls\n",
      "Total found significant pieces AFTER Poisson = [<trimesh.Trimesh(vertices.shape=(13828, 3), faces.shape=(27652, 3))>]\n",
      "----- working on mesh after poisson #0: <trimesh.Trimesh(vertices.shape=(13828, 3), faces.shape=(27652, 3))>\n",
      "xvfb-run -n 2296 -s \"-screen 0 800x600x24\" meshlabserver $@  -i /notebooks/Platinum_Decomp_Fusion/864691135548210884/neuron_864691135548210884_decimated_largest_piece_poisson_largest_inner.off -o /notebooks/Platinum_Decomp_Fusion/864691135548210884/neuron_864691135548210884_decimated_largest_piece_poisson_largest_inner_decimated.off -s /notebooks/Platinum_Decomp_Fusion/864691135548210884/decimation_meshlab_25389845.mls\n",
      "done exporting decimated mesh: neuron_864691135548210884_decimated_largest_piece_poisson_largest_inner.off\n",
      "1) Starting: Mesh importing and Pymesh fix\n",
      "loading mesh from vertices and triangles array\n",
      "1) Finished: Mesh importing and Pymesh fix: 0.0002872943878173828\n",
      "2) Staring: Generating CGAL segmentation for neuron\n",
      "Done writing OFF file\n",
      "\n",
      "Starting CGAL segmentation\n",
      "Right before cgal segmentation, clusters = 3, smoothness = 0.2, path_and_filename = /notebooks/Platinum_Decomp_Fusion/temp/86469113554821088400_fixed \n",
      "1\n",
      "Finished CGAL segmentation algorithm: 0.6978731155395508\n",
      "2) Finished: Generating CGAL segmentation for neuron: 0.8101251125335693\n",
      "3) Staring: Generating Graph Structure and Identifying Soma using soma size threshold  = 3000\n",
      "my_list_keys = [0, 1, 2, 3, 4, 5, 6, 7, 8, 9, 10]\n",
      "changed the median value\n",
      "changed the mean value\n",
      "changed the max value\n",
      "soma_index = 0\n",
      "3) Finished: Generating Graph Structure and Identifying Soma: 0.0028154850006103516\n",
      "Not finding the apical because soma_only option selected\n",
      "6) Staring: Classifying Entire Neuron\n",
      "Total Labels found = {'unsure', 'soma'}\n",
      "6) Finished: Classifying Entire Neuron: 0.00021719932556152344\n",
      "7) Staring: Transfering Segmentation Labels to Face Labels\n",
      "7) Finished: Transfering Segmentation Labels to Face Labels: 0.005809783935546875\n",
      "8) Staring: Generating final Vertex and Face Labels\n",
      "8) Finished: Generating final Vertex and Face Labels: 0.036812543869018555\n",
      "Returning the soma_sdf value AND the classifier\n",
      "soma_sdf_value = 0.805387\n",
      "segmentation[sorted_medians],median_values[sorted_medians] = (array([ 0,  8,  9,  4,  3,  1,  2,  6, 10,  5,  7]), array([0.805387  , 0.0890312 , 0.0829859 , 0.0692799 , 0.05971845,\n",
      "       0.0578798 , 0.0519277 , 0.0473582 , 0.03624585, 0.0192672 ,\n",
      "       0.0184538 ]))\n",
      "Sizes = [3199, 333, 585, 599, 360, 829, 493, 28, 304, 163, 17]\n",
      "valid_soma_segments_width\n",
      "      ------ Found 1 viable somas: [0]\n",
      "Using Poisson Surface Reconstruction for watertightness in soma_volume_ratio\n",
      "xvfb-run -n 2756 -s \"-screen 0 800x600x24\" meshlabserver $@  -i /notebooks/Platinum_Decomp_Fusion/Poisson_temp/neuron_559015.off -o /notebooks/Platinum_Decomp_Fusion/Poisson_temp/neuron_559015_poisson.off -s /notebooks/Platinum_Decomp_Fusion/Poisson_temp/poisson_130915.mls\n",
      "removed temporary input file: /notebooks/Platinum_Decomp_Fusion/Poisson_temp/neuron_559015.off\n",
      "removed temporary output file: /notebooks/Platinum_Decomp_Fusion/Poisson_temp/neuron_559015_poisson.off\n",
      "mesh.is_watertight = True\n",
      "/notebooks/Platinum_Decomp_Fusion/Poisson_temp/poisson_130915.mls is being deleted....\n",
      "Inside sphere validater: ratio_val = 2.7500049041574814\n",
      "\n",
      "\n",
      "\n",
      " Total time for run = 131.3547785282135\n",
      "Before Filtering the number of somas found = 1\n",
      "Performing Soma Mesh Backtracking to original mesh\n",
      "# total split meshes = 6\n",
      "viable_meshes = [0]\n",
      "There were 5 pieces found after size threshold\n",
      "# of soma containing seperate meshes = 1\n",
      "meshes with somas = {0: [0]}\n",
      "\n",
      "\n",
      "----Working on soma-containing mesh piece 0----\n",
      "current_soma_mesh_list = [<trimesh.Trimesh(vertices.shape=(1617, 3), faces.shape=(3199, 3))>]\n",
      "current_mesh = <trimesh.Trimesh(vertices.shape=(202504, 3), faces.shape=(400501, 3))>\n",
      "\n",
      "inside Soma subtraction\n",
      "mesh pieces in subtact soma BEFORE the filtering inside pieces = [<trimesh.Trimesh(vertices.shape=(142029, 3), faces.shape=(280889, 3))>, <trimesh.Trimesh(vertices.shape=(15547, 3), faces.shape=(30701, 3))>, <trimesh.Trimesh(vertices.shape=(9985, 3), faces.shape=(19714, 3))>, <trimesh.Trimesh(vertices.shape=(8853, 3), faces.shape=(17517, 3))>, <trimesh.Trimesh(vertices.shape=(8115, 3), faces.shape=(15961, 3))>, <trimesh.Trimesh(vertices.shape=(7448, 3), faces.shape=(14724, 3))>, <trimesh.Trimesh(vertices.shape=(5916, 3), faces.shape=(11719, 3))>]\n",
      "There were 7 pieces found after size threshold\n",
      "mesh pieces in subtact soma AFTER the filtering inside pieces = [<trimesh.Trimesh(vertices.shape=(142029, 3), faces.shape=(280889, 3))>, <trimesh.Trimesh(vertices.shape=(15547, 3), faces.shape=(30701, 3))>, <trimesh.Trimesh(vertices.shape=(9985, 3), faces.shape=(19714, 3))>, <trimesh.Trimesh(vertices.shape=(8853, 3), faces.shape=(17517, 3))>, <trimesh.Trimesh(vertices.shape=(8115, 3), faces.shape=(15961, 3))>, <trimesh.Trimesh(vertices.shape=(7448, 3), faces.shape=(14724, 3))>, <trimesh.Trimesh(vertices.shape=(5916, 3), faces.shape=(11719, 3))>]\n",
      "Total Time for soma mesh cancellation = 0.744\n",
      "mesh_pieces_without_soma = [<trimesh.Trimesh(vertices.shape=(142029, 3), faces.shape=(280889, 3))>, <trimesh.Trimesh(vertices.shape=(15547, 3), faces.shape=(30701, 3))>, <trimesh.Trimesh(vertices.shape=(9985, 3), faces.shape=(19714, 3))>, <trimesh.Trimesh(vertices.shape=(8853, 3), faces.shape=(17517, 3))>, <trimesh.Trimesh(vertices.shape=(8115, 3), faces.shape=(15961, 3))>, <trimesh.Trimesh(vertices.shape=(7448, 3), faces.shape=(14724, 3))>, <trimesh.Trimesh(vertices.shape=(5916, 3), faces.shape=(11719, 3))>]\n",
      "Total time for Subtract Soam = 0.7451860904693604\n",
      "Total time for Original_mesh_faces_map for mesh_pieces without soma= 0.36554861068725586\n",
      "poisson_backtrack_distance_threshold = None\n",
      "Using Poisson Surface Reconstruction for watertightness in soma_volume_ratio\n",
      "xvfb-run -n 2447 -s \"-screen 0 800x600x24\" meshlabserver $@  -i /notebooks/Platinum_Decomp_Fusion/Poisson_temp/neuron_223607.off -o /notebooks/Platinum_Decomp_Fusion/Poisson_temp/neuron_223607_poisson.off -s /notebooks/Platinum_Decomp_Fusion/Poisson_temp/poisson_551720.mls\n",
      "removed temporary input file: /notebooks/Platinum_Decomp_Fusion/Poisson_temp/neuron_223607.off\n",
      "removed temporary output file: /notebooks/Platinum_Decomp_Fusion/Poisson_temp/neuron_223607_poisson.off\n",
      "mesh.is_watertight = True\n",
      "/notebooks/Platinum_Decomp_Fusion/Poisson_temp/poisson_551720.mls is being deleted....\n",
      "Inside sphere validater: ratio_val = 3.2495058708497204\n",
      "Soma List = [<trimesh.Trimesh(vertices.shape=(4702, 3), faces.shape=(9276, 3))>]\n",
      "soma_mesh_list_centers = [array([ 737271.13428328,  521581.22203318, 1050670.87622288])]\n",
      "# total split meshes = 64\n",
      "There were 63 pieces found after size threshold\n",
      "# of soma containing seperate meshes = 1\n",
      "meshes with somas = {0: [0]}\n",
      "\n",
      "\n",
      "----Working on soma-containing mesh piece 0----\n",
      "\n",
      "inside Soma subtraction\n"
     ]
    },
    {
     "name": "stdout",
     "output_type": "stream",
     "text": [
      "mesh pieces in subtact soma BEFORE the filtering inside pieces = [<trimesh.Trimesh(vertices.shape=(537999, 3), faces.shape=(1072839, 3))>, <trimesh.Trimesh(vertices.shape=(68779, 3), faces.shape=(137147, 3))>, <trimesh.Trimesh(vertices.shape=(42749, 3), faces.shape=(85235, 3))>, <trimesh.Trimesh(vertices.shape=(38657, 3), faces.shape=(77110, 3))>, <trimesh.Trimesh(vertices.shape=(35782, 3), faces.shape=(71291, 3))>, <trimesh.Trimesh(vertices.shape=(32548, 3), faces.shape=(64915, 3))>, <trimesh.Trimesh(vertices.shape=(26230, 3), faces.shape=(52342, 3))>]\n",
      "There were 7 pieces found after size threshold\n",
      "mesh pieces in subtact soma AFTER the filtering inside pieces = [<trimesh.Trimesh(vertices.shape=(537999, 3), faces.shape=(1072839, 3))>, <trimesh.Trimesh(vertices.shape=(68779, 3), faces.shape=(137147, 3))>, <trimesh.Trimesh(vertices.shape=(42749, 3), faces.shape=(85235, 3))>, <trimesh.Trimesh(vertices.shape=(38657, 3), faces.shape=(77110, 3))>, <trimesh.Trimesh(vertices.shape=(35782, 3), faces.shape=(71291, 3))>, <trimesh.Trimesh(vertices.shape=(32548, 3), faces.shape=(64915, 3))>, <trimesh.Trimesh(vertices.shape=(26230, 3), faces.shape=(52342, 3))>]\n",
      "Total Time for soma mesh cancellation = 3.079\n",
      "Total time for Subtract Soam = 3.0797061920166016\n",
      "Total time for Original_mesh_faces_map for mesh_pieces without soma= 1.245790958404541\n",
      "Total time for Original_mesh_faces_map for somas= 1.1191513538360596\n",
      "Total time for sig_non_soma_pieces= 1.7060270309448242\n",
      "Total time for split= 0.03819012641906738\n",
      "Total time for mesh_pieces_connectivity= 20.169166088104248\n",
      "# of insignificant_limbs = 0 with trimesh : []\n",
      "\n",
      "\n",
      "----- Working on Proper Limb # 0 ---------\n",
      "meshparty_segment_size = 100\n",
      "Time for preparing soma vertices and root: 5.245208740234375e-06\n",
      "cc_vertex_thresh = 10\n"
     ]
    },
    {
     "name": "stderr",
     "output_type": "stream",
     "text": [
      "\r",
      "  0%|          | 0/1 [00:00<?, ?it/s]"
     ]
    },
    {
     "data": {
      "application/vnd.jupyter.widget-view+json": {
       "model_id": "c37f5d121ff743b6a0358ab0b2ff515e",
       "version_major": 2,
       "version_minor": 0
      },
      "text/plain": [
       "HBox(children=(FloatProgress(value=0.0, max=537998.0), HTML(value='')))"
      ]
     },
     "metadata": {},
     "output_type": "display_data"
    },
    {
     "name": "stderr",
     "output_type": "stream",
     "text": [
      "100%|██████████| 1/1 [02:48<00:00, 168.60s/it]"
     ]
    },
    {
     "name": "stdout",
     "output_type": "stream",
     "text": [
      "\n"
     ]
    },
    {
     "name": "stderr",
     "output_type": "stream",
     "text": [
      "\n"
     ]
    },
    {
     "name": "stdout",
     "output_type": "stream",
     "text": [
      "Time for 1st pass MP skeletonization: 175.9673717021942\n",
      "connecting at the root\n",
      "branches_touching_root = [631]\n",
      "length of Graph = 130619\n",
      "Working on path [2009. 2037. 2054. 2062.]\n",
      "path_degrees = [3, 2, 2, 3]\n",
      "Working on path [130619.   2082.   2103.   2122.   2140.   2146.]\n",
      "path_degrees = [4, 2, 2, 2, 2, 3]\n",
      "Working on path [3792. 3834. 3854. 3873. 3891. 3895.]\n",
      "path_degrees = [3, 2, 2, 2, 2, 3]\n",
      "Working on path [7595. 7607. 7622. 7639. 7656. 7671.]\n",
      "path_degrees = [3, 2, 2, 2, 2, 3]\n",
      "Working on path [12120. 12159. 12190. 12232. 12275. 12307.]\n",
      "path_degrees = [3, 2, 2, 2, 2, 3]\n",
      "Working on path [13867. 13938. 14030. 14103. 14172. 14240. 14313. 14316.]\n",
      "path_degrees = [3, 2, 2, 2, 2, 2, 2, 3]\n",
      "Working on path [14061. 14068. 14072.]\n",
      "path_degrees = [3, 2, 3]\n",
      "Working on path [130625.  14084.  14102.  14121.  14132.]\n",
      "path_degrees = [4, 2, 2, 2, 3]\n",
      "Working on path [ 14108.  14124.  14130. 130626.]\n",
      "path_degrees = [3, 2, 2, 5]\n",
      "Working on path [14409. 14431. 14450. 14470. 14488. 14490.]\n",
      "path_degrees = [3, 2, 2, 2, 2, 3]\n",
      "Working on path [130628.  14536.  14586.  14629.  14676.  14695.]\n",
      "path_degrees = [4, 2, 2, 2, 2, 3]\n",
      "Working on path [17283. 17338. 17390. 17468. 17529. 17542.]\n",
      "path_degrees = [3, 2, 2, 2, 2, 3]\n",
      "Working on path [17574. 17597. 17606.]\n",
      "path_degrees = [3, 2, 3]\n",
      "Working on path [17698. 17739. 17781. 17826. 17865. 17903. 17923.]\n",
      "path_degrees = [3, 2, 2, 2, 2, 2, 3]\n",
      "Working on path [18798. 18846. 18899. 18955. 19003. 19043. 19077. 19087.]\n",
      "path_degrees = [3, 2, 2, 2, 2, 2, 2, 3]\n",
      "Working on path [19358. 19372. 19390. 19393.]\n",
      "path_degrees = [3, 2, 2, 3]\n",
      "Working on path [26771. 26783. 26802. 26822. 26844. 26854.]\n",
      "path_degrees = [3, 2, 2, 2, 2, 3]\n",
      "Working on path [32484. 32516.]\n",
      "path_degrees = [3, 3]\n",
      "Working on path [37646. 37739. 37825. 37914. 38003. 38063.]\n",
      "path_degrees = [3, 2, 2, 2, 2, 3]\n",
      "Working on path [39171. 39196. 39217. 39236. 39239.]\n",
      "path_degrees = [3, 2, 2, 2, 3]\n",
      "Working on path [40113. 40155. 40185. 40189.]\n",
      "path_degrees = [3, 2, 2, 3]\n",
      "Working on path [130639.  40244.  40288.  40328.  40372.  40411.  40451.]\n",
      "path_degrees = [4, 2, 2, 2, 2, 2, 3]\n",
      "Working on path [48063. 48121. 48191. 48254. 48337. 48398. 48447.]\n",
      "path_degrees = [3, 2, 2, 2, 2, 2, 3]\n",
      "Working on path [58036. 58066. 58098. 58122. 58167. 58191. 58219. 58225.]\n",
      "path_degrees = [3, 2, 2, 2, 2, 2, 2, 3]\n",
      "Working on path [61470. 61545. 61622. 61724. 61800. 61870. 61873.]\n",
      "path_degrees = [3, 2, 2, 2, 2, 2, 3]\n",
      "Working on path [62787. 62861. 62924. 62999.]\n",
      "path_degrees = [3, 2, 2, 3]\n",
      "Working on path [83844. 83879. 83910. 83934. 83960. 83975.]\n",
      "path_degrees = [3, 2, 2, 2, 2, 4]\n",
      "Working on path [89498. 89518. 89542. 89570. 89600.]\n",
      "path_degrees = [3, 2, 2, 2, 4]\n",
      "Working on path [105624. 105628. 105631.]\n",
      "path_degrees = [3, 2, 3]\n",
      "Working on path [130647. 105644. 105651. 105663. 105675. 105686. 105697.]\n",
      "path_degrees = [4, 2, 2, 2, 2, 2, 3]\n",
      "Working on path [107955. 107984. 108011. 108039. 108068. 108095.]\n",
      "path_degrees = [3, 2, 2, 2, 2, 3]\n",
      "Working on path [108256. 108277. 108284.]\n",
      "path_degrees = [3, 2, 3]\n",
      "Working on path [109452. 109489. 109509.]\n",
      "path_degrees = [3, 2, 3]\n",
      "Working on path [111433. 111447. 111464. 111476. 111490. 111501. 111505.]\n",
      "path_degrees = [3, 2, 2, 2, 2, 2, 3]\n",
      "Working on path [130652. 111518. 111528.]\n",
      "path_degrees = [4, 2, 3]\n",
      "Working on path [130653. 111588. 111637. 111685. 111720.]\n",
      "path_degrees = [5, 2, 2, 2, 3]\n",
      "Working on path [130654. 111760. 111790. 111808.]\n",
      "path_degrees = [6, 2, 2, 3]\n",
      "Working on path [130655. 111834. 111855.]\n",
      "path_degrees = [7, 2, 3]\n",
      "Working on path [125395. 125396. 125397. 125398. 125399.]\n",
      "path_degrees = [3, 2, 2, 2, 3]\n",
      "Working on path [127301. 127307. 127313. 127318. 127325. 127333. 127342. 127350.]\n",
      "path_degrees = [3, 2, 2, 2, 2, 2, 2, 3]\n",
      "Working on path [128140. 128141.]\n",
      "path_degrees = [3, 3]\n",
      "max(kept_branches_idx) = 631, len(kept_branches_idx) = 591\n",
      "empty_indices % = 0.0\n",
      " conflict_indices % = 0.01236520730235534\n"
     ]
    },
    {
     "data": {
      "application/vnd.jupyter.widget-view+json": {
       "model_id": "3a16e6ff86b24630b13b0f9100d2a5f3",
       "version_major": 2,
       "version_minor": 0
      },
      "text/plain": [
       "HBox(children=(FloatProgress(value=0.0, max=283.0), HTML(value='')))"
      ]
     },
     "metadata": {},
     "output_type": "display_data"
    },
    {
     "name": "stdout",
     "output_type": "stream",
     "text": [
      "\n",
      "AFTER face_lookup_resolved_test\n"
     ]
    },
    {
     "data": {
      "application/vnd.jupyter.widget-view+json": {
       "model_id": "edcac6795edf442d8ed05593544afbd2",
       "version_major": 2,
       "version_minor": 0
      },
      "text/plain": [
       "HBox(children=(FloatProgress(value=0.0, max=591.0), HTML(value='')))"
      ]
     },
     "metadata": {},
     "output_type": "display_data"
    },
    {
     "name": "stdout",
     "output_type": "stream",
     "text": [
      "\n",
      "Decomposing first pass: 255.6027810573578\n",
      "Attempting to use MeshAfterParty Skeletonization and Mesh Correspondence\n",
      "Another print\n",
      "Found len(mesh_large_idx) MAP candidates: [254, 226, 44]\n",
      "mesh_large_connectivity: 0.9252686500549316\n",
      "Finding MAP candidates connected components: 0.00012612342834472656\n",
      "Divinding into MP and MAP pieces: 2.1457672119140625e-06\n",
      "Total time for MAP sublimb processing 2.86102294921875e-06\n",
      "---- Working on MP Decomposition #0 ----\n",
      "Using Quicker soma_to_piece_touching_vertices because no MAP and only one sublimb_mesh piece \n",
      "MP filtering soma verts: 6.866455078125e-05\n",
      "Fixing Possible Soma Extension Branch for Sublimb 0\n"
     ]
    },
    {
     "name": "stderr",
     "output_type": "stream",
     "text": [
      "\r",
      "  0%|          | 0/1 [00:00<?, ?it/s]"
     ]
    },
    {
     "name": "stdout",
     "output_type": "stream",
     "text": [
      "Total time for mesh KDTree = 0.05114889144897461\n",
      "sbv[0].reshape(-1,3) = [[ 733441.4  529298.9 1046949. ]]\n",
      "closest_sk_pt_coord BEFORE = [ 733647.87075699  529342.73033283 1046151.80285342]\n",
      "current_skeleton.shape = (385, 2, 3)\n",
      "Current stitch point was a branch or endpoint\n",
      "change_status for create soma extending pieces = False\n",
      "closest_sk_pt_coord AFTER = [ 733647.87075699  529342.73033283 1046151.80285342]\n",
      "skipping soma 0 because closest skeleton node was already end node\n",
      "endpoints_must_keep = {0: array([[ 733647.87075699,  529342.73033283, 1046151.80285342]])}\n",
      "The new branch info was none so skipping \n",
      "\n",
      "No soma extending branch was added for this sublimb even though it had a soma border (means they already existed)\n",
      "MP (because soma touching verts) soma extension add: 1.757516860961914\n",
      "There were not both MAP and MP pieces so skipping the stitch resolving phase\n",
      "Time for decomp of Limb = 434.25420928001404\n",
      "\n",
      "\n",
      "----- Working on Proper Limb # 1 ---------\n",
      "meshparty_segment_size = 100\n",
      "Time for preparing soma vertices and root: 7.867813110351562e-06\n",
      "cc_vertex_thresh = 10\n"
     ]
    },
    {
     "data": {
      "application/vnd.jupyter.widget-view+json": {
       "model_id": "7d15373c98204d0eb04994d50808a711",
       "version_major": 2,
       "version_minor": 0
      },
      "text/plain": [
       "HBox(children=(FloatProgress(value=0.0, max=68778.0), HTML(value='')))"
      ]
     },
     "metadata": {},
     "output_type": "display_data"
    },
    {
     "name": "stderr",
     "output_type": "stream",
     "text": [
      "100%|██████████| 1/1 [00:01<00:00,  1.50s/it]"
     ]
    },
    {
     "name": "stdout",
     "output_type": "stream",
     "text": [
      "\n"
     ]
    },
    {
     "name": "stderr",
     "output_type": "stream",
     "text": [
      "\n"
     ]
    },
    {
     "name": "stdout",
     "output_type": "stream",
     "text": [
      "Time for 1st pass MP skeletonization: 2.611361503601074\n",
      "connecting at the root\n",
      "branches_touching_root = [50]\n",
      "length of Graph = 9380\n",
      "Working on path [5195. 5214. 5231. 5239.]\n",
      "path_degrees = [3, 2, 2, 3]\n",
      "max(kept_branches_idx) = 50, len(kept_branches_idx) = 50\n",
      "empty_indices % = 0.0\n",
      " conflict_indices % = 0.01375895936476919\n"
     ]
    },
    {
     "data": {
      "application/vnd.jupyter.widget-view+json": {
       "model_id": "c8f763d2357842269845acb0fb1ee8c1",
       "version_major": 2,
       "version_minor": 0
      },
      "text/plain": [
       "HBox(children=(FloatProgress(value=0.0, max=24.0), HTML(value='')))"
      ]
     },
     "metadata": {},
     "output_type": "display_data"
    },
    {
     "name": "stdout",
     "output_type": "stream",
     "text": [
      "\n",
      "AFTER face_lookup_resolved_test\n"
     ]
    },
    {
     "data": {
      "application/vnd.jupyter.widget-view+json": {
       "model_id": "e79c282ba9b94887b9de9299a83f13a2",
       "version_major": 2,
       "version_minor": 0
      },
      "text/plain": [
       "HBox(children=(FloatProgress(value=0.0, max=50.0), HTML(value='')))"
      ]
     },
     "metadata": {},
     "output_type": "display_data"
    },
    {
     "name": "stdout",
     "output_type": "stream",
     "text": [
      "\n",
      "Decomposing first pass: 10.860540390014648\n",
      "Attempting to use MeshAfterParty Skeletonization and Mesh Correspondence\n",
      "Another print\n",
      "Found len(mesh_large_idx) MAP candidates: [3986, 597, 112, 2819, 3184, 660, 1859, 395, 2326, 935, 4200, 1542, 2124, 5715]\n",
      "mesh_large_connectivity: 0.2347416877746582\n",
      "Finding MAP candidates connected components: 0.0003333091735839844\n",
      "len(filtered_pieces) = 1\n",
      "skeleton_connectivity_MP : 0.6920011043548584\n",
      "Grouping MP Sublimbs by Graph: 0.11938738822937012\n",
      "Divinding into MP and MAP pieces: 1.1920928955078125e-06\n",
      "--- Working on MAP piece 0---\n",
      "MAP Filtering Soma Pieces: 0.010507583618164062\n",
      "inside skeletonize_connected_branch and use_surface_after_CGAL=False, surface_reconstruction_size=1000\n",
      "     Starting Screened Poisson\n",
      "xvfb-run -n 6156 -s \"-screen 0 800x600x24\" meshlabserver $@  -i /notebooks/Platinum_Decomp_Fusion/temp/None.off -o /notebooks/Platinum_Decomp_Fusion/temp/None_poisson.off -s /notebooks/Platinum_Decomp_Fusion/temp/poisson_833196.mls\n",
      "removed temporary input file: /notebooks/Platinum_Decomp_Fusion/temp/None.off\n",
      "removed temporary output file: /notebooks/Platinum_Decomp_Fusion/temp/None_poisson.off\n",
      "Using the close holes feature\n",
      "xvfb-run -n 6024 -s \"-screen 0 800x600x24\" meshlabserver $@  -i /notebooks/Platinum_Decomp_Fusion/temp/neuron_65565.off -o /notebooks/Platinum_Decomp_Fusion/temp/neuron_65565_fill_holes.off -s /notebooks/Platinum_Decomp_Fusion/temp/fill_holes_379339.mls\n",
      "removed temporary input file: /notebooks/Platinum_Decomp_Fusion/temp/neuron_65565.off\n",
      "removed temporary output file: /notebooks/Platinum_Decomp_Fusion/temp/neuron_65565_fill_holes.off\n",
      "-----Time for Screened Poisson= 24.464266061782837\n",
      "     Starting Calcification\n"
     ]
    },
    {
     "data": {
      "application/vnd.jupyter.widget-view+json": {
       "model_id": "d26b5888b8de41f8bad79cc486a69155",
       "version_major": 2,
       "version_minor": 0
      },
      "text/plain": [
       "HBox(children=(FloatProgress(value=1.0, bar_style='info', max=1.0), HTML(value='')))"
      ]
     },
     "metadata": {},
     "output_type": "display_data"
    },
    {
     "name": "stdout",
     "output_type": "stream",
     "text": [
      "\n",
      "No skeletons to stack so returning empty list\n",
      "len_subgraphs AT BEGINNING of the loop\n"
     ]
    },
    {
     "data": {
      "application/vnd.jupyter.widget-view+json": {
       "model_id": "f325053e13ba4121b08a8b86555da168",
       "version_major": 2,
       "version_minor": 0
      },
      "text/plain": [
       "HBox(children=(FloatProgress(value=0.0, max=3.0), HTML(value='')))"
      ]
     },
     "metadata": {},
     "output_type": "display_data"
    },
    {
     "name": "stdout",
     "output_type": "stream",
     "text": [
      "all graph is one component!\n",
      "\n",
      "Total time for skeleton stitching = 0.04230666160583496\n",
      "The process was using a temp folder\n",
      "Checking connected components after skeletonize_connected_branch\n",
      "    Total time for skeletonizing branch: 29.513616800308228\n",
      "Checking connected components after removing cycles\n",
      "Total time for mesh KDTree = 0.22571873664855957\n",
      "sbv[0].reshape(-1,3) = [[ 744021.6  518685.7 1055378. ]]\n",
      "closest_sk_pt_coord BEFORE = [ 745731.  518915. 1055180.]\n",
      "current_skeleton.shape = (306, 2, 3)\n",
      "Current stitch point was not a branch or endpoint, shortest_path_length to one = 6768.679383636476\n",
      "change_status for create soma extending pieces = False\n",
      "closest_sk_pt_coord AFTER = [ 745731.  518915. 1055180.]\n",
      "Adding new branch to skeleton\n",
      "border_average_coordinate = [ 744591.08717949  519141.76410256 1054715.33333333]\n",
      "endpoints_must_keep = {0: array([[ 744591.08717949,  519141.76410256, 1054715.33333333]])}\n",
      "    Total time for Fixing Skeleton Soma Endpoint Extension : 0.3611423969268799\n",
      "filter_end_node_length = 4001\n",
      "Using Distance measure skeletal_distance\n",
      "endpoints_must_keep = [[ 744591.08717949  519141.76410256 1054715.33333333]]\n",
      "Number of end_nodes BEFORE filtering = 18\n",
      "all_single_nodes_to_eliminate = [2]\n"
     ]
    },
    {
     "data": {
      "application/vnd.jupyter.widget-view+json": {
       "model_id": "284a786764364707b2bdb88b91517a8b",
       "version_major": 2,
       "version_minor": 0
      },
      "text/plain": [
       "HBox(children=(FloatProgress(value=0.0, max=12.0), HTML(value='')))"
      ]
     },
     "metadata": {},
     "output_type": "display_data"
    },
    {
     "name": "stdout",
     "output_type": "stream",
     "text": [
      "\n",
      "Checking connected components after clean_skeleton\n",
      "after DISTANCE cleaning limb size of skeleton = (290, 2, 3)\n",
      "********COMBINING CLOSE SKELETON NODES WITHIN 700 DISTANCE**********\n",
      "Found 0 valid paths to replace\n",
      "valid_paths = []\n",
      "valid_path_lengths = []\n",
      "No valid paths found so just returning the original\n",
      "skeletonize_and_clean_connected_branch_CGAL: 30.14839267730713\n",
      "Working on limb correspondence for #0 MAP piece\n"
     ]
    },
    {
     "data": {
      "application/vnd.jupyter.widget-view+json": {
       "model_id": "8f1aac224ffd4c329b11e55ba7dd498d",
       "version_major": 2,
       "version_minor": 0
      },
      "text/plain": [
       "HBox(children=(FloatProgress(value=1.0, bar_style='info', max=1.0), HTML(value='')))"
      ]
     },
     "metadata": {},
     "output_type": "display_data"
    },
    {
     "name": "stdout",
     "output_type": "stream",
     "text": [
      "\n",
      "Total time for decomposition = 4.224215030670166\n",
      "mesh_correspondence_first_pass: 4.22424578666687\n",
      "Limb decomposed into 12 branches\n",
      "divided_skeleton_graph_recovered = (290, 2, 3) and \n",
      "current_mesh_data[0]['branch_skeletons_cleaned'].shape = (290, 2, 3)\n",
      "\n",
      "Number of connected components in deocmposed recovered graph = 1\n",
      "Number of connected components in cleaned skeleton graph= 1\n",
      "The downsampled branches number of connected components = 1\n",
      "Empty submeshes = []\n",
      "\n",
      "\n",
      "--- Working on 1-to-1 correspondence-----\n",
      "max(original_labels),len(original_labels) = (11, 12)\n",
      "empty_indices % = 0.092750923184404\n",
      " conflict_indices % = 0.057786353504773944\n"
     ]
    },
    {
     "data": {
      "application/vnd.jupyter.widget-view+json": {
       "model_id": "9ff5a433dd824048a4acabbd654b85ba",
       "version_major": 2,
       "version_minor": 0
      },
      "text/plain": [
       "HBox(children=(FloatProgress(value=0.0, max=32.0), HTML(value='')))"
      ]
     },
     "metadata": {},
     "output_type": "display_data"
    },
    {
     "name": "stdout",
     "output_type": "stream",
     "text": [
      "\n",
      "AFTER face_lookup_resolved_test\n",
      "Took 0 iterations to expand the label back\n",
      "empty_indices % = 0.0\n",
      " conflict_indices % = 0.0\n"
     ]
    },
    {
     "data": {
      "application/vnd.jupyter.widget-view+json": {
       "model_id": "49f37863e1e449039c9fa0300a3100e7",
       "version_major": 2,
       "version_minor": 0
      },
      "text/plain": [
       "HBox(children=(FloatProgress(value=1.0, bar_style='info', max=1.0), HTML(value='')))"
      ]
     },
     "metadata": {},
     "output_type": "display_data"
    },
    {
     "name": "stdout",
     "output_type": "stream",
     "text": [
      "\n",
      "AFTER face_lookup_resolved_test\n"
     ]
    },
    {
     "data": {
      "application/vnd.jupyter.widget-view+json": {
       "model_id": "429af9370d6e4ad6b0185713bd675b4d",
       "version_major": 2,
       "version_minor": 0
      },
      "text/plain": [
       "HBox(children=(FloatProgress(value=0.0, max=12.0), HTML(value='')))"
      ]
     },
     "metadata": {},
     "output_type": "display_data"
    },
    {
     "name": "stdout",
     "output_type": "stream",
     "text": [
      "\n",
      "Total time for MAP sublimb #0 mesh processing = 36.603217124938965\n",
      "correspondence_1_to_1: 2.220001220703125\n",
      "Total time for MAP sublimb processing 36.60348987579346\n",
      "---- Working on MP Decomposition #0 ----\n",
      "Computing the current soma touching verts dict manually\n",
      "MP filtering soma verts: 0.003020048141479492\n",
      "Do Not Need to Fix MP Decomposition 0 so just continuing\n",
      "---- Working on MP Decomposition #1 ----\n",
      "Computing the current soma touching verts dict manually\n",
      "MP filtering soma verts: 0.0036783218383789062\n",
      "Do Not Need to Fix MP Decomposition 1 so just continuing\n",
      "---- Working on MP Decomposition #2 ----\n",
      "Computing the current soma touching verts dict manually\n",
      "MP filtering soma verts: 0.002947092056274414\n",
      "Do Not Need to Fix MP Decomposition 2 so just continuing\n",
      "---- Working on MP Decomposition #3 ----\n",
      "Computing the current soma touching verts dict manually\n",
      "MP filtering soma verts: 0.0030295848846435547\n",
      "Do Not Need to Fix MP Decomposition 3 so just continuing\n",
      "---- Working on MP Decomposition #4 ----\n",
      "Computing the current soma touching verts dict manually\n",
      "MP filtering soma verts: 0.002821207046508789\n",
      "Do Not Need to Fix MP Decomposition 4 so just continuing\n",
      "---- Working on MP Decomposition #5 ----\n",
      "Computing the current soma touching verts dict manually\n",
      "MP filtering soma verts: 0.002784252166748047\n",
      "Do Not Need to Fix MP Decomposition 5 so just continuing\n",
      "---- Working on MP Decomposition #6 ----\n",
      "Computing the current soma touching verts dict manually\n",
      "MP filtering soma verts: 0.002791166305541992\n",
      "Do Not Need to Fix MP Decomposition 6 so just continuing\n",
      "---- Working on MP Decomposition #7 ----\n",
      "Computing the current soma touching verts dict manually\n",
      "MP filtering soma verts: 0.0028412342071533203\n",
      "Do Not Need to Fix MP Decomposition 7 so just continuing\n",
      "---- Working on MP Decomposition #8 ----\n",
      "Computing the current soma touching verts dict manually\n",
      "MP filtering soma verts: 0.002562999725341797\n",
      "Do Not Need to Fix MP Decomposition 8 so just continuing\n",
      "\n",
      "---- Working on (0, 0) connection-----\n",
      "Current stitch point was a branch or endpoint\n",
      "conn = [0, 2]\n",
      "winning_vertex = [ 761393.50383704  539176.53885626 1048106.4408942 ]\n",
      "MP_branches_with_stitch_point = [0, 2]\n",
      "MAP_branches_with_stitch_point = [8]\n",
      "MAP_stitch_point_on_end_or_branch = True\n",
      "Using max stitch distance (300) for smoothing because stitch_distance greater (647.0241259919777) \n",
      "Found winning edge: [9, 10.0]\n",
      "in remove edge\n",
      "Using max stitch distance (300) for smoothing because stitch_distance greater (819.2141871976188) \n",
      "Found winning edge: [9, 10.0]\n",
      "in remove edge\n"
     ]
    },
    {
     "data": {
      "application/vnd.jupyter.widget-view+json": {
       "model_id": "c923880dafaf4be5b34a6bface05c7ed",
       "version_major": 2,
       "version_minor": 0
      },
      "text/plain": [
       "HBox(children=(FloatProgress(value=1.0, bar_style='info', max=1.0), HTML(value='')))"
      ]
     },
     "metadata": {},
     "output_type": "display_data"
    },
    {
     "name": "stdout",
     "output_type": "stream",
     "text": [
      "\n",
      "\n",
      "\n",
      "--- Working on 1-to-1 correspondence-----\n",
      "max(original_labels),len(original_labels) = (2, 3)\n",
      "empty_indices % = 0.02936582318025617\n",
      " conflict_indices % = 0.016557325835676352\n"
     ]
    },
    {
     "data": {
      "application/vnd.jupyter.widget-view+json": {
       "model_id": "5cd8f92a51fb422a9a5015084fd364af",
       "version_major": 2,
       "version_minor": 0
      },
      "text/plain": [
       "HBox(children=(FloatProgress(value=0.0, max=3.0), HTML(value='')))"
      ]
     },
     "metadata": {},
     "output_type": "display_data"
    },
    {
     "name": "stdout",
     "output_type": "stream",
     "text": [
      "\n",
      "AFTER face_lookup_resolved_test\n"
     ]
    },
    {
     "data": {
      "application/vnd.jupyter.widget-view+json": {
       "model_id": "88f0fa2541c54a4a990236a09e43fd57",
       "version_major": 2,
       "version_minor": 0
      },
      "text/plain": [
       "HBox(children=(FloatProgress(value=0.0, max=3.0), HTML(value='')))"
      ]
     },
     "metadata": {},
     "output_type": "display_data"
    },
    {
     "name": "stdout",
     "output_type": "stream",
     "text": [
      "\n",
      "MP_branches_with_stitch_point= [0, 2]\n",
      "MP_branches_for_correspondence = [0 2]\n",
      "MP_leftover = [], MP_leftover_idx = []\n",
      " Finished with (0, 0) \n",
      "\n",
      "\n",
      "\n",
      "\n",
      "---- Working on (1, 0) connection-----\n",
      "Current stitch point was a branch or endpoint\n",
      "conn = [2, 11]\n",
      "winning_vertex = [ 756335.18119813  501174.55049469 1067022.06537605]\n",
      "MP_branches_with_stitch_point = [2, 11]\n",
      "MAP_branches_with_stitch_point = [4]\n",
      "MAP_stitch_point_on_end_or_branch = True\n",
      "Using max stitch distance (300) for smoothing because stitch_distance greater (1200.039609082384) \n",
      "Found winning edge: [9, 10.0]\n",
      "in remove edge\n",
      "Using max stitch distance (300) for smoothing because stitch_distance greater (1124.4091877665146) \n",
      "Found winning edge: [9, 10.0]\n",
      "in remove edge\n"
     ]
    },
    {
     "data": {
      "application/vnd.jupyter.widget-view+json": {
       "model_id": "9dd87463e5724992af5a63f3ef4a9123",
       "version_major": 2,
       "version_minor": 0
      },
      "text/plain": [
       "HBox(children=(FloatProgress(value=1.0, bar_style='info', max=1.0), HTML(value='')))"
      ]
     },
     "metadata": {},
     "output_type": "display_data"
    },
    {
     "name": "stdout",
     "output_type": "stream",
     "text": [
      "\n",
      "\n",
      "\n",
      "--- Working on 1-to-1 correspondence-----\n",
      "max(original_labels),len(original_labels) = (2, 3)\n",
      "empty_indices % = 0.09648910411622276\n",
      " conflict_indices % = 0.03256658595641646\n"
     ]
    },
    {
     "data": {
      "application/vnd.jupyter.widget-view+json": {
       "model_id": "92a8ad8e32164869845f3ed4edb46659",
       "version_major": 2,
       "version_minor": 0
      },
      "text/plain": [
       "HBox(children=(FloatProgress(value=0.0, max=5.0), HTML(value='')))"
      ]
     },
     "metadata": {},
     "output_type": "display_data"
    },
    {
     "name": "stdout",
     "output_type": "stream",
     "text": [
      "\n",
      "AFTER face_lookup_resolved_test\n"
     ]
    },
    {
     "data": {
      "application/vnd.jupyter.widget-view+json": {
       "model_id": "961714916aab45b3964b4e693fcce331",
       "version_major": 2,
       "version_minor": 0
      },
      "text/plain": [
       "HBox(children=(FloatProgress(value=0.0, max=3.0), HTML(value='')))"
      ]
     },
     "metadata": {},
     "output_type": "display_data"
    },
    {
     "name": "stdout",
     "output_type": "stream",
     "text": [
      "\n",
      "MP_branches_with_stitch_point= [2, 11]\n",
      "MP_branches_for_correspondence = [ 2 11]\n",
      "MP_leftover = [], MP_leftover_idx = []\n",
      " Finished with (1, 0) \n",
      "\n",
      "\n",
      "\n",
      "\n",
      "---- Working on (2, 0) connection-----\n",
      "Current stitch point was not a branch or endpoint, shortest_path_length to one = 592.8110997611296\n",
      "conn = [0, 1]\n",
      "winning_vertex = [ 740383.43828576  501390.1264131  1084307.05726867]\n",
      "MP_branches_with_stitch_point = [0, 1]\n",
      "MAP_branches_with_stitch_point = [0]\n",
      "MAP_stitch_point_on_end_or_branch = False\n",
      "Using max stitch distance (300) for smoothing because stitch_distance greater (1721.0473581081853) \n",
      "Found winning edge: [123, 124.0]\n",
      "in remove edge\n",
      "Using max stitch distance (300) for smoothing because stitch_distance greater (1746.6751141269285) \n",
      "Found winning edge: [357, 359.0]\n",
      "in remove edge\n"
     ]
    },
    {
     "data": {
      "application/vnd.jupyter.widget-view+json": {
       "model_id": "cd6c8feef6aa4ce280ba9bc7bc0df325",
       "version_major": 2,
       "version_minor": 0
      },
      "text/plain": [
       "HBox(children=(FloatProgress(value=1.0, bar_style='info', max=1.0), HTML(value='')))"
      ]
     },
     "metadata": {},
     "output_type": "display_data"
    },
    {
     "name": "stdout",
     "output_type": "stream",
     "text": [
      "\n",
      "\n",
      "\n",
      "--- Working on 1-to-1 correspondence-----\n",
      "max(original_labels),len(original_labels) = (1, 2)\n",
      "empty_indices % = 0.11933349669198726\n",
      " conflict_indices % = 0.028424405782896348\n"
     ]
    },
    {
     "data": {
      "application/vnd.jupyter.widget-view+json": {
       "model_id": "d91b4e68d5c6438e89da23b3647dc89d",
       "version_major": 2,
       "version_minor": 0
      },
      "text/plain": [
       "HBox(children=(FloatProgress(value=0.0, max=4.0), HTML(value='')))"
      ]
     },
     "metadata": {},
     "output_type": "display_data"
    },
    {
     "name": "stdout",
     "output_type": "stream",
     "text": [
      "\n",
      "AFTER face_lookup_resolved_test\n"
     ]
    },
    {
     "data": {
      "application/vnd.jupyter.widget-view+json": {
       "model_id": "fa72d554a4b548b88f48ff8f3ac7c1f0",
       "version_major": 2,
       "version_minor": 0
      },
      "text/plain": [
       "HBox(children=(FloatProgress(value=0.0, max=2.0), HTML(value='')))"
      ]
     },
     "metadata": {},
     "output_type": "display_data"
    },
    {
     "name": "stdout",
     "output_type": "stream",
     "text": [
      "\n"
     ]
    },
    {
     "data": {
      "application/vnd.jupyter.widget-view+json": {
       "model_id": "0842e19b7c4347b7a24849906e23f4fa",
       "version_major": 2,
       "version_minor": 0
      },
      "text/plain": [
       "HBox(children=(FloatProgress(value=1.0, bar_style='info', max=1.0), HTML(value='')))"
      ]
     },
     "metadata": {},
     "output_type": "display_data"
    },
    {
     "name": "stdout",
     "output_type": "stream",
     "text": [
      "\n",
      "\n",
      "\n",
      "--- Working on 1-to-1 correspondence-----\n",
      "max(original_labels),len(original_labels) = (3, 4)\n",
      "empty_indices % = 0.05475310715485388\n",
      " conflict_indices % = 0.02628485052065838\n"
     ]
    },
    {
     "data": {
      "application/vnd.jupyter.widget-view+json": {
       "model_id": "24b9244cd4b641e5b77616b408f9096b",
       "version_major": 2,
       "version_minor": 0
      },
      "text/plain": [
       "HBox(children=(FloatProgress(value=0.0, max=8.0), HTML(value='')))"
      ]
     },
     "metadata": {},
     "output_type": "display_data"
    },
    {
     "name": "stdout",
     "output_type": "stream",
     "text": [
      "\n",
      "AFTER face_lookup_resolved_test\n"
     ]
    },
    {
     "data": {
      "application/vnd.jupyter.widget-view+json": {
       "model_id": "a1cde2f934c34d1a98b860fcf88a503e",
       "version_major": 2,
       "version_minor": 0
      },
      "text/plain": [
       "HBox(children=(FloatProgress(value=0.0, max=4.0), HTML(value='')))"
      ]
     },
     "metadata": {},
     "output_type": "display_data"
    },
    {
     "name": "stdout",
     "output_type": "stream",
     "text": [
      "\n",
      "Deleting branches from dictionary\n",
      "MP_branches_with_stitch_point= [0, 1]\n",
      "MP_branches_for_correspondence = [0 1]\n",
      "MP_leftover = [], MP_leftover_idx = []\n",
      " Finished with (2, 0) \n",
      "\n",
      "\n",
      "\n",
      "\n",
      "---- Working on (3, 0) connection-----\n",
      "Current stitch point was a branch or endpoint\n",
      "conn = [4, 8]\n",
      "winning_vertex = [ 752482.24923074  525027.57438151 1060644.96977073]\n",
      "MP_branches_with_stitch_point = [4, 8]\n",
      "MAP_branches_with_stitch_point = [6]\n",
      "MAP_stitch_point_on_end_or_branch = True\n",
      "Using max stitch distance (300) for smoothing because stitch_distance greater (657.6373830861112) \n",
      "Found winning edge: [141, 142.0]\n",
      "in remove edge\n",
      "Using max stitch distance (300) for smoothing because stitch_distance greater (702.6098954071176) \n",
      "Found winning edge: [9, 10.0]\n",
      "in remove edge\n"
     ]
    },
    {
     "data": {
      "application/vnd.jupyter.widget-view+json": {
       "model_id": "02a4d77a79cd48c8bc2869e6d52d3991",
       "version_major": 2,
       "version_minor": 0
      },
      "text/plain": [
       "HBox(children=(FloatProgress(value=1.0, bar_style='info', max=1.0), HTML(value='')))"
      ]
     },
     "metadata": {},
     "output_type": "display_data"
    },
    {
     "name": "stdout",
     "output_type": "stream",
     "text": [
      "\n",
      "\n",
      "\n",
      "--- Working on 1-to-1 correspondence-----\n",
      "max(original_labels),len(original_labels) = (2, 3)\n",
      "empty_indices % = 0.034471675371635195\n",
      " conflict_indices % = 0.013258336681398152\n"
     ]
    },
    {
     "data": {
      "application/vnd.jupyter.widget-view+json": {
       "model_id": "720a29d4a2b94fd9b5c4d1c819a98161",
       "version_major": 2,
       "version_minor": 0
      },
      "text/plain": [
       "HBox(children=(FloatProgress(value=0.0, max=6.0), HTML(value='')))"
      ]
     },
     "metadata": {},
     "output_type": "display_data"
    },
    {
     "name": "stdout",
     "output_type": "stream",
     "text": [
      "\n",
      "AFTER face_lookup_resolved_test\n"
     ]
    },
    {
     "data": {
      "application/vnd.jupyter.widget-view+json": {
       "model_id": "2ee6986c09b84d529bf69f7da5819d87",
       "version_major": 2,
       "version_minor": 0
      },
      "text/plain": [
       "HBox(children=(FloatProgress(value=0.0, max=3.0), HTML(value='')))"
      ]
     },
     "metadata": {},
     "output_type": "display_data"
    },
    {
     "name": "stdout",
     "output_type": "stream",
     "text": [
      "\n",
      "MP_branches_with_stitch_point= [4, 8]\n",
      "MP_branches_for_correspondence = [4 8]\n",
      "MP_leftover = [], MP_leftover_idx = []\n",
      " Finished with (3, 0) \n",
      "\n",
      "\n",
      "\n",
      "\n",
      "---- Working on (4, 0) connection-----\n",
      "Current stitch point was a branch or endpoint\n",
      "conn = [0, 1]\n",
      "winning_vertex = [ 762681.39930327  512078.19341187 1061103.71600722]\n",
      "MP_branches_with_stitch_point = [0, 1]\n",
      "MAP_branches_with_stitch_point = [10]\n",
      "MAP_stitch_point_on_end_or_branch = True\n",
      "Using max stitch distance (300) for smoothing because stitch_distance greater (1544.8843252627626) \n",
      "Found winning edge: [9, 10.0]\n",
      "in remove edge\n",
      "Using max stitch distance (300) for smoothing because stitch_distance greater (1490.6440136452177) \n",
      "Found winning edge: [9, 10.0]\n",
      "in remove edge\n"
     ]
    },
    {
     "data": {
      "application/vnd.jupyter.widget-view+json": {
       "model_id": "fa8ffb185c284f53916de823984b24fa",
       "version_major": 2,
       "version_minor": 0
      },
      "text/plain": [
       "HBox(children=(FloatProgress(value=1.0, bar_style='info', max=1.0), HTML(value='')))"
      ]
     },
     "metadata": {},
     "output_type": "display_data"
    },
    {
     "name": "stdout",
     "output_type": "stream",
     "text": [
      "\n",
      "\n",
      "\n",
      "--- Working on 1-to-1 correspondence-----\n",
      "max(original_labels),len(original_labels) = (2, 3)\n",
      "empty_indices % = 0.05613556055252168\n",
      " conflict_indices % = 0.015178284612913588\n"
     ]
    },
    {
     "data": {
      "application/vnd.jupyter.widget-view+json": {
       "model_id": "8b7591d78cab45c0a3fb8ab4b11e1133",
       "version_major": 2,
       "version_minor": 0
      },
      "text/plain": [
       "HBox(children=(FloatProgress(value=0.0, max=7.0), HTML(value='')))"
      ]
     },
     "metadata": {},
     "output_type": "display_data"
    },
    {
     "name": "stdout",
     "output_type": "stream",
     "text": [
      "\n",
      "AFTER face_lookup_resolved_test\n"
     ]
    },
    {
     "data": {
      "application/vnd.jupyter.widget-view+json": {
       "model_id": "15e73b6c8a9a415b8284bff60fefe1e9",
       "version_major": 2,
       "version_minor": 0
      },
      "text/plain": [
       "HBox(children=(FloatProgress(value=0.0, max=3.0), HTML(value='')))"
      ]
     },
     "metadata": {},
     "output_type": "display_data"
    },
    {
     "name": "stdout",
     "output_type": "stream",
     "text": [
      "\n",
      "MP_branches_with_stitch_point= [0, 1]\n",
      "MP_branches_for_correspondence = [0 1]\n",
      "MP_leftover = [], MP_leftover_idx = []\n",
      " Finished with (4, 0) \n",
      "\n",
      "\n",
      "\n",
      "\n",
      "---- Working on (5, 0) connection-----\n",
      "Current stitch point was a branch or endpoint\n",
      "conn = [0, 1]\n",
      "winning_vertex = [ 782706.65543771  535592.66415742 1054566.58634444]\n",
      "MP_branches_with_stitch_point = [0, 1]\n",
      "MAP_branches_with_stitch_point = [11]\n",
      "MAP_stitch_point_on_end_or_branch = True\n",
      "Using max stitch distance (300) for smoothing because stitch_distance greater (606.2509261068241) \n",
      "Found winning edge: [9, 10.0]\n",
      "in remove edge\n",
      "Using max stitch distance (300) for smoothing because stitch_distance greater (593.905775570998) \n",
      "Found winning edge: [35, 37.0]\n",
      "in remove edge\n"
     ]
    },
    {
     "data": {
      "application/vnd.jupyter.widget-view+json": {
       "model_id": "e19440a1054a4fef843441a7e694d91c",
       "version_major": 2,
       "version_minor": 0
      },
      "text/plain": [
       "HBox(children=(FloatProgress(value=1.0, bar_style='info', max=1.0), HTML(value='')))"
      ]
     },
     "metadata": {},
     "output_type": "display_data"
    },
    {
     "name": "stdout",
     "output_type": "stream",
     "text": [
      "\n",
      "\n",
      "\n",
      "--- Working on 1-to-1 correspondence-----\n",
      "max(original_labels),len(original_labels) = (2, 3)\n",
      "empty_indices % = 0.09242963240342009\n",
      " conflict_indices % = 0.017350059289770955\n"
     ]
    },
    {
     "data": {
      "application/vnd.jupyter.widget-view+json": {
       "model_id": "0b58ee2c5ac24ac0b0a49eef38ad4a59",
       "version_major": 2,
       "version_minor": 0
      },
      "text/plain": [
       "HBox(children=(FloatProgress(value=0.0, max=6.0), HTML(value='')))"
      ]
     },
     "metadata": {},
     "output_type": "display_data"
    },
    {
     "name": "stdout",
     "output_type": "stream",
     "text": [
      "\n",
      "AFTER face_lookup_resolved_test\n"
     ]
    },
    {
     "data": {
      "application/vnd.jupyter.widget-view+json": {
       "model_id": "31bcd3861d0d4969add932f14fd160a6",
       "version_major": 2,
       "version_minor": 0
      },
      "text/plain": [
       "HBox(children=(FloatProgress(value=0.0, max=3.0), HTML(value='')))"
      ]
     },
     "metadata": {},
     "output_type": "display_data"
    },
    {
     "name": "stdout",
     "output_type": "stream",
     "text": [
      "\n",
      "MP_branches_with_stitch_point= [0, 1]\n",
      "MP_branches_for_correspondence = [0 1]\n",
      "MP_leftover = [], MP_leftover_idx = []\n",
      " Finished with (5, 0) \n",
      "\n",
      "\n",
      "\n",
      "\n",
      "---- Working on (6, 0) connection-----\n",
      "Current stitch point was not a branch or endpoint, shortest_path_length to one = 5913.460816741799\n",
      "conn = [0]\n",
      "winning_vertex = [ 745681.86890965  507718.27720326 1072204.64108182]\n",
      "MP_branches_with_stitch_point = [0]\n",
      "MAP_branches_with_stitch_point = [12]\n",
      "MAP_stitch_point_on_end_or_branch = False\n",
      "Using max stitch distance (300) for smoothing because stitch_distance greater (347.06833401156786) \n",
      "Found winning edge: [397, 403.0]\n",
      "in remove edge\n"
     ]
    },
    {
     "data": {
      "application/vnd.jupyter.widget-view+json": {
       "model_id": "714e7dca4d2f4e6fb2a49c041d3cb0cb",
       "version_major": 2,
       "version_minor": 0
      },
      "text/plain": [
       "HBox(children=(FloatProgress(value=1.0, bar_style='info', max=1.0), HTML(value='')))"
      ]
     },
     "metadata": {},
     "output_type": "display_data"
    },
    {
     "name": "stdout",
     "output_type": "stream",
     "text": [
      "\n",
      "\n",
      "\n",
      "--- Working on 1-to-1 correspondence-----\n",
      "max(original_labels),len(original_labels) = (1, 2)\n",
      "empty_indices % = 0.08151735270379339\n",
      " conflict_indices % = 0.012644605864944848\n"
     ]
    },
    {
     "data": {
      "application/vnd.jupyter.widget-view+json": {
       "model_id": "22445b65937e47898955938cfb633b67",
       "version_major": 2,
       "version_minor": 0
      },
      "text/plain": [
       "HBox(children=(FloatProgress(value=0.0, max=6.0), HTML(value='')))"
      ]
     },
     "metadata": {},
     "output_type": "display_data"
    },
    {
     "name": "stdout",
     "output_type": "stream",
     "text": [
      "\n",
      "AFTER face_lookup_resolved_test\n"
     ]
    },
    {
     "data": {
      "application/vnd.jupyter.widget-view+json": {
       "model_id": "985c25a52a1c4953a09f31f63210317e",
       "version_major": 2,
       "version_minor": 0
      },
      "text/plain": [
       "HBox(children=(FloatProgress(value=0.0, max=2.0), HTML(value='')))"
      ]
     },
     "metadata": {},
     "output_type": "display_data"
    },
    {
     "name": "stdout",
     "output_type": "stream",
     "text": [
      "\n"
     ]
    },
    {
     "data": {
      "application/vnd.jupyter.widget-view+json": {
       "model_id": "775e7fddf37647e18b0f1a00bf153094",
       "version_major": 2,
       "version_minor": 0
      },
      "text/plain": [
       "HBox(children=(FloatProgress(value=1.0, bar_style='info', max=1.0), HTML(value='')))"
      ]
     },
     "metadata": {},
     "output_type": "display_data"
    },
    {
     "name": "stdout",
     "output_type": "stream",
     "text": [
      "\n",
      "\n",
      "\n",
      "--- Working on 1-to-1 correspondence-----\n",
      "max(original_labels),len(original_labels) = (2, 3)\n",
      "empty_indices % = 0.1511030021562448\n",
      " conflict_indices % = 0.01998673080112788\n"
     ]
    },
    {
     "data": {
      "application/vnd.jupyter.widget-view+json": {
       "model_id": "6c694fbe1e974c37b404c228787449fe",
       "version_major": 2,
       "version_minor": 0
      },
      "text/plain": [
       "HBox(children=(FloatProgress(value=0.0, max=5.0), HTML(value='')))"
      ]
     },
     "metadata": {},
     "output_type": "display_data"
    },
    {
     "name": "stdout",
     "output_type": "stream",
     "text": [
      "\n",
      "AFTER face_lookup_resolved_test\n"
     ]
    },
    {
     "data": {
      "application/vnd.jupyter.widget-view+json": {
       "model_id": "3a68cf4716574e529c187eb6722a1200",
       "version_major": 2,
       "version_minor": 0
      },
      "text/plain": [
       "HBox(children=(FloatProgress(value=0.0, max=3.0), HTML(value='')))"
      ]
     },
     "metadata": {},
     "output_type": "display_data"
    },
    {
     "name": "stdout",
     "output_type": "stream",
     "text": [
      "\n",
      "Deleting branches from dictionary\n",
      "MP_branches_with_stitch_point= [0]\n",
      "MP_branches_for_correspondence = [0]\n",
      "MP_leftover = [], MP_leftover_idx = []\n",
      " Finished with (6, 0) \n",
      "\n",
      "\n",
      "\n",
      "\n",
      "---- Working on (7, 0) connection-----\n",
      "Current stitch point was not a branch or endpoint, shortest_path_length to one = 10075.549390370248\n",
      "conn = [0]\n",
      "winning_vertex = [ 765906.11180987  524558.69387186 1058632.96056108]\n",
      "MP_branches_with_stitch_point = [0]\n",
      "MAP_branches_with_stitch_point = [11]\n",
      "MAP_stitch_point_on_end_or_branch = False\n",
      "Using max stitch distance (300) for smoothing because stitch_distance greater (380.76442721760435) \n",
      "Found winning edge: [9, 10.0]\n",
      "in remove edge\n"
     ]
    },
    {
     "data": {
      "application/vnd.jupyter.widget-view+json": {
       "model_id": "adc8fb6ea6af46ecb87b97c1f70f80ac",
       "version_major": 2,
       "version_minor": 0
      },
      "text/plain": [
       "HBox(children=(FloatProgress(value=1.0, bar_style='info', max=1.0), HTML(value='')))"
      ]
     },
     "metadata": {},
     "output_type": "display_data"
    },
    {
     "name": "stdout",
     "output_type": "stream",
     "text": [
      "\n",
      "\n",
      "\n",
      "--- Working on 1-to-1 correspondence-----\n",
      "max(original_labels),len(original_labels) = (1, 2)\n",
      "empty_indices % = 0.08838299296953465\n",
      " conflict_indices % = 0.001171744224974891\n"
     ]
    },
    {
     "data": {
      "application/vnd.jupyter.widget-view+json": {
       "model_id": "de74e284b04d4c8491ded48322c29fd5",
       "version_major": 2,
       "version_minor": 0
      },
      "text/plain": [
       "HBox(children=(FloatProgress(value=0.0, max=6.0), HTML(value='')))"
      ]
     },
     "metadata": {},
     "output_type": "display_data"
    },
    {
     "name": "stdout",
     "output_type": "stream",
     "text": [
      "\n",
      "AFTER face_lookup_resolved_test\n"
     ]
    },
    {
     "data": {
      "application/vnd.jupyter.widget-view+json": {
       "model_id": "027626f3af734248b19bdaf46fc89417",
       "version_major": 2,
       "version_minor": 0
      },
      "text/plain": [
       "HBox(children=(FloatProgress(value=0.0, max=2.0), HTML(value='')))"
      ]
     },
     "metadata": {},
     "output_type": "display_data"
    },
    {
     "name": "stdout",
     "output_type": "stream",
     "text": [
      "\n"
     ]
    },
    {
     "data": {
      "application/vnd.jupyter.widget-view+json": {
       "model_id": "d7b0c43a706f4a27a66d688ec060f93a",
       "version_major": 2,
       "version_minor": 0
      },
      "text/plain": [
       "HBox(children=(FloatProgress(value=1.0, bar_style='info', max=1.0), HTML(value='')))"
      ]
     },
     "metadata": {},
     "output_type": "display_data"
    },
    {
     "name": "stdout",
     "output_type": "stream",
     "text": [
      "\n",
      "\n",
      "\n",
      "--- Working on 1-to-1 correspondence-----\n",
      "max(original_labels),len(original_labels) = (2, 3)\n",
      "empty_indices % = 0.06803247004252029\n",
      " conflict_indices % = 0.028991109393119444\n"
     ]
    },
    {
     "data": {
      "application/vnd.jupyter.widget-view+json": {
       "model_id": "069c6dcef7384160a4a44f570c569fd3",
       "version_major": 2,
       "version_minor": 0
      },
      "text/plain": [
       "HBox(children=(FloatProgress(value=0.0, max=1.0), HTML(value='')))"
      ]
     },
     "metadata": {},
     "output_type": "display_data"
    },
    {
     "name": "stdout",
     "output_type": "stream",
     "text": [
      "\n",
      "AFTER face_lookup_resolved_test\n"
     ]
    },
    {
     "data": {
      "application/vnd.jupyter.widget-view+json": {
       "model_id": "c5ffd35641bf4b2d9da2a7744f0d6936",
       "version_major": 2,
       "version_minor": 0
      },
      "text/plain": [
       "HBox(children=(FloatProgress(value=0.0, max=3.0), HTML(value='')))"
      ]
     },
     "metadata": {},
     "output_type": "display_data"
    },
    {
     "name": "stdout",
     "output_type": "stream",
     "text": [
      "\n",
      "Deleting branches from dictionary\n",
      "MP_branches_with_stitch_point= [0]\n",
      "MP_branches_for_correspondence = [0]\n",
      "MP_leftover = [], MP_leftover_idx = []\n",
      " Finished with (7, 0) \n",
      "\n",
      "\n",
      "\n",
      "\n",
      "---- Working on (8, 0) connection-----\n",
      "Current stitch point was a branch or endpoint\n",
      "conn = [0, 1]\n",
      "winning_vertex = [ 751337.43238989  515525.70018091 1069024.63954089]\n",
      "MP_branches_with_stitch_point = [0, 1]\n",
      "MAP_branches_with_stitch_point = [5]\n",
      "MAP_stitch_point_on_end_or_branch = True\n",
      "Using max stitch distance (300) for smoothing because stitch_distance greater (803.5718241667269) \n",
      "Found winning edge: [532, 533.0]\n",
      "in remove edge\n",
      "Using max stitch distance (300) for smoothing because stitch_distance greater (770.0189973445415) \n",
      "Found winning edge: [9, 10.0]\n",
      "in remove edge\n"
     ]
    },
    {
     "data": {
      "application/vnd.jupyter.widget-view+json": {
       "model_id": "893bedf190174aa6bc74cb991b8e9628",
       "version_major": 2,
       "version_minor": 0
      },
      "text/plain": [
       "HBox(children=(FloatProgress(value=1.0, bar_style='info', max=1.0), HTML(value='')))"
      ]
     },
     "metadata": {},
     "output_type": "display_data"
    },
    {
     "name": "stdout",
     "output_type": "stream",
     "text": [
      "\n",
      "\n",
      "\n",
      "--- Working on 1-to-1 correspondence-----\n",
      "max(original_labels),len(original_labels) = (2, 3)\n",
      "empty_indices % = 0.0351783927975992\n",
      " conflict_indices % = 0.01717239079693231\n"
     ]
    },
    {
     "data": {
      "application/vnd.jupyter.widget-view+json": {
       "model_id": "d9f52a515c464df280d2e1900f7e4a98",
       "version_major": 2,
       "version_minor": 0
      },
      "text/plain": [
       "HBox(children=(FloatProgress(value=0.0, max=2.0), HTML(value='')))"
      ]
     },
     "metadata": {},
     "output_type": "display_data"
    },
    {
     "name": "stdout",
     "output_type": "stream",
     "text": [
      "\n",
      "AFTER face_lookup_resolved_test\n"
     ]
    },
    {
     "data": {
      "application/vnd.jupyter.widget-view+json": {
       "model_id": "649051d9c1eb4bf997ea668783c0b347",
       "version_major": 2,
       "version_minor": 0
      },
      "text/plain": [
       "HBox(children=(FloatProgress(value=0.0, max=3.0), HTML(value='')))"
      ]
     },
     "metadata": {},
     "output_type": "display_data"
    },
    {
     "name": "stderr",
     "output_type": "stream",
     "text": [
      "\r",
      "  0%|          | 0/1 [00:00<?, ?it/s]"
     ]
    },
    {
     "name": "stdout",
     "output_type": "stream",
     "text": [
      "\n",
      "MP_branches_with_stitch_point= [0, 1]\n",
      "MP_branches_for_correspondence = [0 1]\n",
      "MP_leftover = [], MP_leftover_idx = []\n",
      " Finished with (8, 0) \n",
      "\n",
      "\n",
      "\n",
      "Time for decomp of Limb = 74.03524661064148\n",
      "\n",
      "\n",
      "----- Working on Proper Limb # 2 ---------\n",
      "meshparty_segment_size = 100\n",
      "Time for preparing soma vertices and root: 8.821487426757812e-06\n",
      "cc_vertex_thresh = 10\n"
     ]
    },
    {
     "data": {
      "application/vnd.jupyter.widget-view+json": {
       "model_id": "2bc7f339f85542d1a3278c80f892b029",
       "version_major": 2,
       "version_minor": 0
      },
      "text/plain": [
       "HBox(children=(FloatProgress(value=0.0, max=42748.0), HTML(value='')))"
      ]
     },
     "metadata": {},
     "output_type": "display_data"
    },
    {
     "name": "stderr",
     "output_type": "stream",
     "text": [
      "100%|██████████| 1/1 [00:00<00:00,  1.56it/s]"
     ]
    },
    {
     "name": "stdout",
     "output_type": "stream",
     "text": [
      "\n"
     ]
    },
    {
     "name": "stderr",
     "output_type": "stream",
     "text": [
      "\n"
     ]
    },
    {
     "name": "stdout",
     "output_type": "stream",
     "text": [
      "Time for 1st pass MP skeletonization: 1.141388177871704\n",
      "branches_touching_root = [4]\n",
      "length of Graph = 6486\n",
      "Working on path [4805. 4810. 4825. 4836. 4843. 4848. 4852. 4854.]\n",
      "path_degrees = [4, 2, 2, 2, 2, 2, 2, 3]\n",
      "Working on path [4939. 4954. 4967. 4996. 5009. 5010.]\n",
      "path_degrees = [3, 2, 2, 2, 2, 3]\n",
      "Working on path [5890. 5897. 5904. 5908.]\n",
      "path_degrees = [3, 2, 2, 3]\n",
      "max(kept_branches_idx) = 29, len(kept_branches_idx) = 27\n",
      "empty_indices % = 0.0\n",
      " conflict_indices % = 0.010784359744648891\n"
     ]
    },
    {
     "data": {
      "application/vnd.jupyter.widget-view+json": {
       "model_id": "ad7b6d4b378244aea7606ec9431a7d1c",
       "version_major": 2,
       "version_minor": 0
      },
      "text/plain": [
       "HBox(children=(FloatProgress(value=0.0, max=11.0), HTML(value='')))"
      ]
     },
     "metadata": {},
     "output_type": "display_data"
    },
    {
     "name": "stdout",
     "output_type": "stream",
     "text": [
      "\n",
      "AFTER face_lookup_resolved_test\n"
     ]
    },
    {
     "data": {
      "application/vnd.jupyter.widget-view+json": {
       "model_id": "e9cd5d4d818e4c0caff11f5e0f62573f",
       "version_major": 2,
       "version_minor": 0
      },
      "text/plain": [
       "HBox(children=(FloatProgress(value=0.0, max=27.0), HTML(value='')))"
      ]
     },
     "metadata": {},
     "output_type": "display_data"
    },
    {
     "name": "stdout",
     "output_type": "stream",
     "text": [
      "\n",
      "Decomposing first pass: 4.973851203918457\n",
      "Attempting to use MeshAfterParty Skeletonization and Mesh Correspondence\n",
      "Another print\n",
      "Found len(mesh_large_idx) MAP candidates: [877, 2547, 3048, 328, 1393, 3678]\n",
      "mesh_large_connectivity: 0.04562783241271973\n",
      "Finding MAP candidates connected components: 0.00014257431030273438\n",
      "len(filtered_pieces) = 1\n",
      "skeleton_connectivity_MP : 0.2665224075317383\n",
      "Grouping MP Sublimbs by Graph: 0.04683423042297363\n",
      "Divinding into MP and MAP pieces: 9.5367431640625e-07\n",
      "--- Working on MAP piece 0---\n",
      "MAP Filtering Soma Pieces: 0.002902984619140625\n",
      "inside skeletonize_connected_branch and use_surface_after_CGAL=False, surface_reconstruction_size=1000\n",
      "     Starting Screened Poisson\n",
      "xvfb-run -n 2853 -s \"-screen 0 800x600x24\" meshlabserver $@  -i /notebooks/Platinum_Decomp_Fusion/temp/None.off -o /notebooks/Platinum_Decomp_Fusion/temp/None_poisson.off -s /notebooks/Platinum_Decomp_Fusion/temp/poisson_189911.mls\n",
      "Using the close holes feature\n",
      "xvfb-run -n 5241 -s \"-screen 0 800x600x24\" meshlabserver $@  -i /notebooks/Platinum_Decomp_Fusion/temp/neuron_13505.off -o /notebooks/Platinum_Decomp_Fusion/temp/neuron_13505_fill_holes.off -s /notebooks/Platinum_Decomp_Fusion/temp/fill_holes_138370.mls\n",
      "removed temporary input file: /notebooks/Platinum_Decomp_Fusion/temp/neuron_13505.off\n",
      "removed temporary output file: /notebooks/Platinum_Decomp_Fusion/temp/neuron_13505_fill_holes.off\n",
      "-----Time for Screened Poisson= 10.96131706237793\n",
      "     Starting Calcification\n"
     ]
    },
    {
     "data": {
      "application/vnd.jupyter.widget-view+json": {
       "model_id": "24751cc1ef964d4f82e2283861599be7",
       "version_major": 2,
       "version_minor": 0
      },
      "text/plain": [
       "HBox(children=(FloatProgress(value=1.0, bar_style='info', max=1.0), HTML(value='')))"
      ]
     },
     "metadata": {},
     "output_type": "display_data"
    },
    {
     "name": "stdout",
     "output_type": "stream",
     "text": [
      "\n",
      "No skeletons to stack so returning empty list\n",
      "len_subgraphs AT BEGINNING of the loop\n"
     ]
    },
    {
     "data": {
      "application/vnd.jupyter.widget-view+json": {
       "model_id": "7162f372b9bf4bb49b098688ba9a4b5f",
       "version_major": 2,
       "version_minor": 0
      },
      "text/plain": [
       "HBox(children=(FloatProgress(value=0.0, max=1.0), HTML(value='')))"
      ]
     },
     "metadata": {},
     "output_type": "display_data"
    },
    {
     "name": "stdout",
     "output_type": "stream",
     "text": [
      "all graph is one component!\n",
      "\n",
      "Total time for skeleton stitching = 0.033779144287109375\n",
      "The process was using a temp folder\n",
      "Checking connected components after skeletonize_connected_branch\n",
      "    Total time for skeletonizing branch: 12.758018732070923\n",
      "Checking connected components after removing cycles\n",
      "Total time for mesh KDTree = 0.1063375473022461\n",
      "sbv[0].reshape(-1,3) = [[ 741070.7  528659.6 1046309. ]]\n",
      "closest_sk_pt_coord BEFORE = [ 741293.  529417. 1045560.]\n",
      "current_skeleton.shape = (123, 2, 3)\n",
      "Current stitch point was a branch or endpoint\n",
      "change_status for create soma extending pieces = False\n",
      "closest_sk_pt_coord AFTER = [ 741293.  529417. 1045560.]\n",
      "skipping soma 0 because closest skeleton node was already end node\n",
      "endpoints_must_keep = {0: array([[ 741293.,  529417., 1045560.]])}\n",
      "    Total time for Fixing Skeleton Soma Endpoint Extension : 0.16841745376586914\n",
      "filter_end_node_length = 4001\n",
      "Using Distance measure skeletal_distance\n",
      "endpoints_must_keep = [[ 741293.  529417. 1045560.]]\n",
      "Number of end_nodes BEFORE filtering = 4\n",
      "all_single_nodes_to_eliminate = [1]\n"
     ]
    },
    {
     "data": {
      "application/vnd.jupyter.widget-view+json": {
       "model_id": "27257d0eb4e04aabb7f7325e7be9362f",
       "version_major": 2,
       "version_minor": 0
      },
      "text/plain": [
       "HBox(children=(FloatProgress(value=0.0, max=1.0), HTML(value='')))"
      ]
     },
     "metadata": {},
     "output_type": "display_data"
    },
    {
     "name": "stdout",
     "output_type": "stream",
     "text": [
      "\n",
      "Checking connected components after clean_skeleton\n",
      "after DISTANCE cleaning limb size of skeleton = (122, 2, 3)\n",
      "********COMBINING CLOSE SKELETON NODES WITHIN 700 DISTANCE**********\n",
      "Found 0 valid paths to replace\n",
      "valid_paths = []\n",
      "valid_path_lengths = []\n",
      "No valid paths found so just returning the original\n",
      "skeletonize_and_clean_connected_branch_CGAL: 13.062304496765137\n",
      "Working on limb correspondence for #0 MAP piece\n"
     ]
    },
    {
     "data": {
      "application/vnd.jupyter.widget-view+json": {
       "model_id": "16394750e51647daae9f66a0c922bd0c",
       "version_major": 2,
       "version_minor": 0
      },
      "text/plain": [
       "HBox(children=(FloatProgress(value=1.0, bar_style='info', max=1.0), HTML(value='')))"
      ]
     },
     "metadata": {},
     "output_type": "display_data"
    },
    {
     "name": "stdout",
     "output_type": "stream",
     "text": [
      "\n",
      "Total time for decomposition = 0.9270241260528564\n",
      "mesh_correspondence_first_pass: 0.9270546436309814\n",
      "Limb decomposed into 3 branches\n",
      "divided_skeleton_graph_recovered = (122, 2, 3) and \n",
      "current_mesh_data[0]['branch_skeletons_cleaned'].shape = (122, 2, 3)\n",
      "\n",
      "Number of connected components in deocmposed recovered graph = 1\n",
      "Number of connected components in cleaned skeleton graph= 1\n",
      "The downsampled branches number of connected components = 1\n",
      "Empty submeshes = []\n",
      "\n",
      "\n",
      "--- Working on 1-to-1 correspondence-----\n",
      "max(original_labels),len(original_labels) = (2, 3)\n",
      "empty_indices % = 0.08735574088113891\n",
      " conflict_indices % = 0.027714598601634235\n"
     ]
    },
    {
     "data": {
      "application/vnd.jupyter.widget-view+json": {
       "model_id": "dbfc37056f614866bfd85f816a0dc79c",
       "version_major": 2,
       "version_minor": 0
      },
      "text/plain": [
       "HBox(children=(FloatProgress(value=0.0, max=7.0), HTML(value='')))"
      ]
     },
     "metadata": {},
     "output_type": "display_data"
    },
    {
     "name": "stdout",
     "output_type": "stream",
     "text": [
      "\n",
      "AFTER face_lookup_resolved_test\n",
      "Took 0 iterations to expand the label back\n",
      "empty_indices % = 0.0\n",
      " conflict_indices % = 0.0\n"
     ]
    },
    {
     "data": {
      "application/vnd.jupyter.widget-view+json": {
       "model_id": "9983fe5908aa4540915cf300ceb6a4d2",
       "version_major": 2,
       "version_minor": 0
      },
      "text/plain": [
       "HBox(children=(FloatProgress(value=1.0, bar_style='info', max=1.0), HTML(value='')))"
      ]
     },
     "metadata": {},
     "output_type": "display_data"
    },
    {
     "name": "stdout",
     "output_type": "stream",
     "text": [
      "\n",
      "AFTER face_lookup_resolved_test\n"
     ]
    },
    {
     "data": {
      "application/vnd.jupyter.widget-view+json": {
       "model_id": "ec9123c63ef844abaf71d64bec2f3f5d",
       "version_major": 2,
       "version_minor": 0
      },
      "text/plain": [
       "HBox(children=(FloatProgress(value=0.0, max=3.0), HTML(value='')))"
      ]
     },
     "metadata": {},
     "output_type": "display_data"
    },
    {
     "name": "stdout",
     "output_type": "stream",
     "text": [
      "\n",
      "Total time for MAP sublimb #0 mesh processing = 14.516347169876099\n",
      "correspondence_1_to_1: 0.5240390300750732\n",
      "Total time for MAP sublimb processing 14.51643681526184\n",
      "---- Working on MP Decomposition #0 ----\n",
      "Computing the current soma touching verts dict manually\n",
      "MP filtering soma verts: 0.00428462028503418\n",
      "Do Not Need to Fix MP Decomposition 0 so just continuing\n",
      "---- Working on MP Decomposition #1 ----\n",
      "Computing the current soma touching verts dict manually\n",
      "MP filtering soma verts: 0.002155303955078125\n",
      "Do Not Need to Fix MP Decomposition 1 so just continuing\n",
      "---- Working on MP Decomposition #2 ----\n",
      "Computing the current soma touching verts dict manually\n",
      "MP filtering soma verts: 0.0019087791442871094\n",
      "Do Not Need to Fix MP Decomposition 2 so just continuing\n",
      "---- Working on MP Decomposition #3 ----\n",
      "Computing the current soma touching verts dict manually\n",
      "MP filtering soma verts: 0.0012896060943603516\n",
      "Do Not Need to Fix MP Decomposition 3 so just continuing\n",
      "---- Working on MP Decomposition #4 ----\n",
      "Computing the current soma touching verts dict manually\n",
      "MP filtering soma verts: 0.0008282661437988281\n",
      "Do Not Need to Fix MP Decomposition 4 so just continuing\n",
      "\n",
      "---- Working on (0, 0) connection-----\n",
      "Current stitch point was not a branch or endpoint, shortest_path_length to one = 11924.26854035271\n",
      "conn = [1]\n",
      "winning_vertex = [ 747584.26745144  541365.22268247 1030405.76193301]\n",
      "MP_branches_with_stitch_point = [1]\n",
      "MAP_branches_with_stitch_point = [2]\n",
      "MAP_stitch_point_on_end_or_branch = False\n",
      "Using max stitch distance (300) for smoothing because stitch_distance greater (1060.9084327931323) \n",
      "Found winning edge: [9, 10.0]\n",
      "in remove edge\n"
     ]
    },
    {
     "data": {
      "application/vnd.jupyter.widget-view+json": {
       "model_id": "fda940b4f31744ac9bae0d64a97f9f57",
       "version_major": 2,
       "version_minor": 0
      },
      "text/plain": [
       "HBox(children=(FloatProgress(value=1.0, bar_style='info', max=1.0), HTML(value='')))"
      ]
     },
     "metadata": {},
     "output_type": "display_data"
    },
    {
     "name": "stdout",
     "output_type": "stream",
     "text": [
      "\n",
      "\n",
      "\n",
      "--- Working on 1-to-1 correspondence-----\n",
      "max(original_labels),len(original_labels) = (1, 2)\n",
      "empty_indices % = 0.1399785061794734\n",
      " conflict_indices % = 0.004030091348737238\n"
     ]
    },
    {
     "data": {
      "application/vnd.jupyter.widget-view+json": {
       "model_id": "b45acc6a5cc14b16ae3baf9b65c442fe",
       "version_major": 2,
       "version_minor": 0
      },
      "text/plain": [
       "HBox(children=(FloatProgress(value=0.0, max=6.0), HTML(value='')))"
      ]
     },
     "metadata": {},
     "output_type": "display_data"
    },
    {
     "name": "stdout",
     "output_type": "stream",
     "text": [
      "\n",
      "AFTER face_lookup_resolved_test\n"
     ]
    },
    {
     "data": {
      "application/vnd.jupyter.widget-view+json": {
       "model_id": "a70f4d6635f84241904fa7917c9fef26",
       "version_major": 2,
       "version_minor": 0
      },
      "text/plain": [
       "HBox(children=(FloatProgress(value=0.0, max=2.0), HTML(value='')))"
      ]
     },
     "metadata": {},
     "output_type": "display_data"
    },
    {
     "name": "stdout",
     "output_type": "stream",
     "text": [
      "\n"
     ]
    },
    {
     "data": {
      "application/vnd.jupyter.widget-view+json": {
       "model_id": "e26c251d23b34241809aa2a610c5599c",
       "version_major": 2,
       "version_minor": 0
      },
      "text/plain": [
       "HBox(children=(FloatProgress(value=1.0, bar_style='info', max=1.0), HTML(value='')))"
      ]
     },
     "metadata": {},
     "output_type": "display_data"
    },
    {
     "name": "stdout",
     "output_type": "stream",
     "text": [
      "\n",
      "\n",
      "\n",
      "--- Working on 1-to-1 correspondence-----\n",
      "max(original_labels),len(original_labels) = (2, 3)\n",
      "empty_indices % = 0.14330938755631317\n",
      " conflict_indices % = 0.02240350663582126\n"
     ]
    },
    {
     "data": {
      "application/vnd.jupyter.widget-view+json": {
       "model_id": "9e51fa183e334bbb895d19d57fb75f36",
       "version_major": 2,
       "version_minor": 0
      },
      "text/plain": [
       "HBox(children=(FloatProgress(value=0.0, max=4.0), HTML(value='')))"
      ]
     },
     "metadata": {},
     "output_type": "display_data"
    },
    {
     "name": "stdout",
     "output_type": "stream",
     "text": [
      "\n",
      "AFTER face_lookup_resolved_test\n"
     ]
    },
    {
     "data": {
      "application/vnd.jupyter.widget-view+json": {
       "model_id": "140f5f849a1a4639b02e4306e7336842",
       "version_major": 2,
       "version_minor": 0
      },
      "text/plain": [
       "HBox(children=(FloatProgress(value=0.0, max=3.0), HTML(value='')))"
      ]
     },
     "metadata": {},
     "output_type": "display_data"
    },
    {
     "name": "stdout",
     "output_type": "stream",
     "text": [
      "\n",
      "Deleting branches from dictionary\n",
      "MP_branches_with_stitch_point= [1]\n",
      "MP_branches_for_correspondence = [1]\n",
      "MP_leftover = [], MP_leftover_idx = []\n",
      " Finished with (0, 0) \n",
      "\n",
      "\n",
      "\n",
      "\n",
      "---- Working on (1, 0) connection-----\n",
      "Current stitch point was not a branch or endpoint, shortest_path_length to one = 12376.932875152794\n",
      "conn = [0]\n",
      "winning_vertex = [ 747917.42961629  541809.94241206 1029268.93344921]\n",
      "MP_branches_with_stitch_point = [0]\n",
      "MAP_branches_with_stitch_point = [3]\n",
      "MAP_stitch_point_on_end_or_branch = False\n",
      "Using max stitch distance (300) for smoothing because stitch_distance greater (445.78272049530165) \n",
      "Found winning edge: [291, 292.0]\n",
      "in remove edge\n"
     ]
    },
    {
     "data": {
      "application/vnd.jupyter.widget-view+json": {
       "model_id": "156ec5523403402a8899e52b21595252",
       "version_major": 2,
       "version_minor": 0
      },
      "text/plain": [
       "HBox(children=(FloatProgress(value=1.0, bar_style='info', max=1.0), HTML(value='')))"
      ]
     },
     "metadata": {},
     "output_type": "display_data"
    },
    {
     "name": "stdout",
     "output_type": "stream",
     "text": [
      "\n",
      "\n",
      "\n",
      "--- Working on 1-to-1 correspondence-----\n",
      "max(original_labels),len(original_labels) = (1, 2)\n",
      "empty_indices % = 0.19979215380618343\n",
      " conflict_indices % = 0.018446349701221096\n"
     ]
    },
    {
     "data": {
      "application/vnd.jupyter.widget-view+json": {
       "model_id": "c1232ad451934da2b6fac2d04dded337",
       "version_major": 2,
       "version_minor": 0
      },
      "text/plain": [
       "HBox(children=(FloatProgress(value=0.0, max=5.0), HTML(value='')))"
      ]
     },
     "metadata": {},
     "output_type": "display_data"
    },
    {
     "name": "stdout",
     "output_type": "stream",
     "text": [
      "\n",
      "AFTER face_lookup_resolved_test\n"
     ]
    },
    {
     "data": {
      "application/vnd.jupyter.widget-view+json": {
       "model_id": "3e59d51570a048a881b7d370a7221b07",
       "version_major": 2,
       "version_minor": 0
      },
      "text/plain": [
       "HBox(children=(FloatProgress(value=0.0, max=2.0), HTML(value='')))"
      ]
     },
     "metadata": {},
     "output_type": "display_data"
    },
    {
     "name": "stdout",
     "output_type": "stream",
     "text": [
      "\n"
     ]
    },
    {
     "data": {
      "application/vnd.jupyter.widget-view+json": {
       "model_id": "98817bc88fa840ceabf219afd3eca718",
       "version_major": 2,
       "version_minor": 0
      },
      "text/plain": [
       "HBox(children=(FloatProgress(value=1.0, bar_style='info', max=1.0), HTML(value='')))"
      ]
     },
     "metadata": {},
     "output_type": "display_data"
    },
    {
     "name": "stdout",
     "output_type": "stream",
     "text": [
      "\n",
      "\n",
      "\n",
      "--- Working on 1-to-1 correspondence-----\n",
      "max(original_labels),len(original_labels) = (2, 3)\n",
      "empty_indices % = 0.15974585886090312\n",
      " conflict_indices % = 0.03210800998411618\n"
     ]
    },
    {
     "data": {
      "application/vnd.jupyter.widget-view+json": {
       "model_id": "ed97e6703c614fa1b3dee51d9b76fe3b",
       "version_major": 2,
       "version_minor": 0
      },
      "text/plain": [
       "HBox(children=(FloatProgress(value=0.0, max=3.0), HTML(value='')))"
      ]
     },
     "metadata": {},
     "output_type": "display_data"
    },
    {
     "name": "stdout",
     "output_type": "stream",
     "text": [
      "\n",
      "AFTER face_lookup_resolved_test\n"
     ]
    },
    {
     "data": {
      "application/vnd.jupyter.widget-view+json": {
       "model_id": "581d4a96922c4b1094f2c9d32c4c0eac",
       "version_major": 2,
       "version_minor": 0
      },
      "text/plain": [
       "HBox(children=(FloatProgress(value=0.0, max=3.0), HTML(value='')))"
      ]
     },
     "metadata": {},
     "output_type": "display_data"
    },
    {
     "name": "stdout",
     "output_type": "stream",
     "text": [
      "\n",
      "Deleting branches from dictionary\n",
      "MP_branches_with_stitch_point= [0]\n",
      "MP_branches_for_correspondence = [0]\n",
      "MP_leftover = [], MP_leftover_idx = []\n",
      " Finished with (1, 0) \n",
      "\n",
      "\n",
      "\n",
      "\n",
      "---- Working on (2, 0) connection-----\n",
      "Current stitch point was a branch or endpoint\n",
      "conn = [1, 3]\n",
      "winning_vertex = [ 738845.47250425  547512.98848476 1039391.68288792]\n",
      "MP_branches_with_stitch_point = [1, 3]\n",
      "MAP_branches_with_stitch_point = [0]\n",
      "MAP_stitch_point_on_end_or_branch = True\n",
      "Using max stitch distance (300) for smoothing because stitch_distance greater (1093.0114398969959) \n",
      "Found winning edge: [712, 713.0]\n",
      "in remove edge\n",
      "Using max stitch distance (300) for smoothing because stitch_distance greater (1144.141064051761) \n",
      "Found winning edge: [366, 368.0]\n",
      "in remove edge\n"
     ]
    },
    {
     "data": {
      "application/vnd.jupyter.widget-view+json": {
       "model_id": "3433fea3507c4b9cb3bece892cdd878f",
       "version_major": 2,
       "version_minor": 0
      },
      "text/plain": [
       "HBox(children=(FloatProgress(value=1.0, bar_style='info', max=1.0), HTML(value='')))"
      ]
     },
     "metadata": {},
     "output_type": "display_data"
    },
    {
     "name": "stdout",
     "output_type": "stream",
     "text": [
      "\n",
      "\n",
      "\n",
      "--- Working on 1-to-1 correspondence-----\n",
      "max(original_labels),len(original_labels) = (2, 3)\n",
      "empty_indices % = 0.05123329636085142\n",
      " conflict_indices % = 0.00966566312787197\n"
     ]
    },
    {
     "data": {
      "application/vnd.jupyter.widget-view+json": {
       "model_id": "d9108d4d1f4f429dbc59bcd9afd78268",
       "version_major": 2,
       "version_minor": 0
      },
      "text/plain": [
       "HBox(children=(FloatProgress(value=0.0, max=9.0), HTML(value='')))"
      ]
     },
     "metadata": {},
     "output_type": "display_data"
    },
    {
     "name": "stdout",
     "output_type": "stream",
     "text": [
      "\n",
      "AFTER face_lookup_resolved_test\n"
     ]
    },
    {
     "data": {
      "application/vnd.jupyter.widget-view+json": {
       "model_id": "c02ebac234964dd3a811fbfaef719eed",
       "version_major": 2,
       "version_minor": 0
      },
      "text/plain": [
       "HBox(children=(FloatProgress(value=0.0, max=3.0), HTML(value='')))"
      ]
     },
     "metadata": {},
     "output_type": "display_data"
    },
    {
     "name": "stdout",
     "output_type": "stream",
     "text": [
      "\n",
      "MP_branches_with_stitch_point= [1, 3]\n",
      "MP_branches_for_correspondence = [1 3]\n",
      "MP_leftover = [], MP_leftover_idx = []\n",
      " Finished with (2, 0) \n",
      "\n",
      "\n",
      "\n",
      "\n",
      "---- Working on (3, 0) connection-----\n",
      "Current stitch point was a branch or endpoint\n",
      "conn = [0, 1]\n",
      "winning_vertex = [ 751023.23256324  537511.21041325 1015312.42805942]\n",
      "MP_branches_with_stitch_point = [0, 1]\n",
      "MAP_branches_with_stitch_point = [4]\n",
      "MAP_stitch_point_on_end_or_branch = True\n",
      "Using max stitch distance (300) for smoothing because stitch_distance greater (2064.8394847584113) \n",
      "Found winning edge: [515, 516.0]\n",
      "in remove edge\n",
      "Using max stitch distance (300) for smoothing because stitch_distance greater (1996.4776660274254) \n",
      "Found winning edge: [9, 10.0]\n",
      "in remove edge\n"
     ]
    },
    {
     "data": {
      "application/vnd.jupyter.widget-view+json": {
       "model_id": "357199a5bedb40138b56f99f1c2e93df",
       "version_major": 2,
       "version_minor": 0
      },
      "text/plain": [
       "HBox(children=(FloatProgress(value=1.0, bar_style='info', max=1.0), HTML(value='')))"
      ]
     },
     "metadata": {},
     "output_type": "display_data"
    },
    {
     "name": "stdout",
     "output_type": "stream",
     "text": [
      "\n",
      "\n",
      "\n",
      "--- Working on 1-to-1 correspondence-----\n",
      "max(original_labels),len(original_labels) = (2, 3)\n",
      "empty_indices % = 0.10250829751346646\n",
      " conflict_indices % = 0.011970183361445128\n"
     ]
    },
    {
     "data": {
      "application/vnd.jupyter.widget-view+json": {
       "model_id": "37ca83ed0e1b488595cb26b31267061c",
       "version_major": 2,
       "version_minor": 0
      },
      "text/plain": [
       "HBox(children=(FloatProgress(value=0.0, max=10.0), HTML(value='')))"
      ]
     },
     "metadata": {},
     "output_type": "display_data"
    },
    {
     "name": "stdout",
     "output_type": "stream",
     "text": [
      "\n",
      "AFTER face_lookup_resolved_test\n"
     ]
    },
    {
     "data": {
      "application/vnd.jupyter.widget-view+json": {
       "model_id": "a433a4547e194469966d7d4cb8070f20",
       "version_major": 2,
       "version_minor": 0
      },
      "text/plain": [
       "HBox(children=(FloatProgress(value=0.0, max=3.0), HTML(value='')))"
      ]
     },
     "metadata": {},
     "output_type": "display_data"
    },
    {
     "name": "stdout",
     "output_type": "stream",
     "text": [
      "\n",
      "MP_branches_with_stitch_point= [0, 1]\n",
      "MP_branches_for_correspondence = [0 1]\n",
      "MP_leftover = [], MP_leftover_idx = []\n",
      " Finished with (3, 0) \n",
      "\n",
      "\n",
      "\n",
      "\n",
      "---- Working on (4, 0) connection-----\n",
      "Current stitch point was not a branch or endpoint, shortest_path_length to one = 9720.17079804419\n",
      "conn = [0]\n",
      "winning_vertex = [ 745536.0919947   540417.35511622 1031558.70454546]\n",
      "MP_branches_with_stitch_point = [0]\n",
      "MAP_branches_with_stitch_point = [2]\n",
      "MAP_stitch_point_on_end_or_branch = False\n",
      "Using max stitch distance (300) for smoothing because stitch_distance greater (780.582199148376) \n",
      "Found winning edge: [750, 751.0]\n",
      "in remove edge\n"
     ]
    },
    {
     "data": {
      "application/vnd.jupyter.widget-view+json": {
       "model_id": "37f23ae088294219ad6da8bef812f102",
       "version_major": 2,
       "version_minor": 0
      },
      "text/plain": [
       "HBox(children=(FloatProgress(value=1.0, bar_style='info', max=1.0), HTML(value='')))"
      ]
     },
     "metadata": {},
     "output_type": "display_data"
    },
    {
     "name": "stdout",
     "output_type": "stream",
     "text": [
      "\n",
      "\n",
      "\n",
      "--- Working on 1-to-1 correspondence-----\n",
      "max(original_labels),len(original_labels) = (1, 2)\n",
      "empty_indices % = 0.05355671518813513\n",
      " conflict_indices % = 0.007964844822850866\n"
     ]
    },
    {
     "data": {
      "application/vnd.jupyter.widget-view+json": {
       "model_id": "fd2c542c4fe846d284e7cb57e7846953",
       "version_major": 2,
       "version_minor": 0
      },
      "text/plain": [
       "HBox(children=(FloatProgress(value=0.0, max=6.0), HTML(value='')))"
      ]
     },
     "metadata": {},
     "output_type": "display_data"
    },
    {
     "name": "stdout",
     "output_type": "stream",
     "text": [
      "\n",
      "AFTER face_lookup_resolved_test\n"
     ]
    },
    {
     "data": {
      "application/vnd.jupyter.widget-view+json": {
       "model_id": "6e1a593de2a7499483e867996934260f",
       "version_major": 2,
       "version_minor": 0
      },
      "text/plain": [
       "HBox(children=(FloatProgress(value=0.0, max=2.0), HTML(value='')))"
      ]
     },
     "metadata": {},
     "output_type": "display_data"
    },
    {
     "name": "stdout",
     "output_type": "stream",
     "text": [
      "\n"
     ]
    },
    {
     "data": {
      "application/vnd.jupyter.widget-view+json": {
       "model_id": "a98c4c0c91324b05b61d0ed9989e020c",
       "version_major": 2,
       "version_minor": 0
      },
      "text/plain": [
       "HBox(children=(FloatProgress(value=1.0, bar_style='info', max=1.0), HTML(value='')))"
      ]
     },
     "metadata": {},
     "output_type": "display_data"
    },
    {
     "name": "stdout",
     "output_type": "stream",
     "text": [
      "\n",
      "\n",
      "\n",
      "--- Working on 1-to-1 correspondence-----\n",
      "max(original_labels),len(original_labels) = (2, 3)\n",
      "empty_indices % = 0.03978108152262702\n",
      " conflict_indices % = 0.009557261885312857\n"
     ]
    },
    {
     "data": {
      "application/vnd.jupyter.widget-view+json": {
       "model_id": "21c98e76ec8741819e5101af94f9539d",
       "version_major": 2,
       "version_minor": 0
      },
      "text/plain": [
       "HBox(children=(FloatProgress(value=0.0, max=4.0), HTML(value='')))"
      ]
     },
     "metadata": {},
     "output_type": "display_data"
    },
    {
     "name": "stdout",
     "output_type": "stream",
     "text": [
      "\n",
      "AFTER face_lookup_resolved_test\n"
     ]
    },
    {
     "data": {
      "application/vnd.jupyter.widget-view+json": {
       "model_id": "31e486eda1354a90b49049facb59da65",
       "version_major": 2,
       "version_minor": 0
      },
      "text/plain": [
       "HBox(children=(FloatProgress(value=0.0, max=3.0), HTML(value='')))"
      ]
     },
     "metadata": {},
     "output_type": "display_data"
    },
    {
     "name": "stderr",
     "output_type": "stream",
     "text": [
      "\r",
      "  0%|          | 0/1 [00:00<?, ?it/s]"
     ]
    },
    {
     "name": "stdout",
     "output_type": "stream",
     "text": [
      "\n",
      "Deleting branches from dictionary\n",
      "MP_branches_with_stitch_point= [0]\n",
      "MP_branches_for_correspondence = [0]\n",
      "MP_leftover = [], MP_leftover_idx = []\n",
      " Finished with (4, 0) \n",
      "\n",
      "\n",
      "\n",
      "Time for decomp of Limb = 36.200883865356445\n",
      "\n",
      "\n",
      "----- Working on Proper Limb # 3 ---------\n",
      "meshparty_segment_size = 100\n",
      "Time for preparing soma vertices and root: 5.9604644775390625e-06\n",
      "cc_vertex_thresh = 10\n"
     ]
    },
    {
     "data": {
      "application/vnd.jupyter.widget-view+json": {
       "model_id": "e567f778d13f470d9ddab0705786319c",
       "version_major": 2,
       "version_minor": 0
      },
      "text/plain": [
       "HBox(children=(FloatProgress(value=0.0, max=38656.0), HTML(value='')))"
      ]
     },
     "metadata": {},
     "output_type": "display_data"
    },
    {
     "name": "stderr",
     "output_type": "stream",
     "text": [
      "100%|██████████| 1/1 [00:00<00:00,  2.20it/s]"
     ]
    },
    {
     "name": "stdout",
     "output_type": "stream",
     "text": [
      "\n"
     ]
    },
    {
     "name": "stderr",
     "output_type": "stream",
     "text": [
      "\n"
     ]
    },
    {
     "name": "stdout",
     "output_type": "stream",
     "text": [
      "Time for 1st pass MP skeletonization: 0.8530368804931641\n",
      "branches_touching_root = [4]\n",
      "length of Graph = 5127\n",
      "max(kept_branches_idx) = 26, len(kept_branches_idx) = 27\n",
      "empty_indices % = 0.0\n",
      " conflict_indices % = 0.013357541174944884\n"
     ]
    },
    {
     "data": {
      "application/vnd.jupyter.widget-view+json": {
       "model_id": "57b1096a3a6248bfbace504f99705767",
       "version_major": 2,
       "version_minor": 0
      },
      "text/plain": [
       "HBox(children=(FloatProgress(value=0.0, max=13.0), HTML(value='')))"
      ]
     },
     "metadata": {},
     "output_type": "display_data"
    },
    {
     "name": "stdout",
     "output_type": "stream",
     "text": [
      "\n",
      "AFTER face_lookup_resolved_test\n"
     ]
    },
    {
     "data": {
      "application/vnd.jupyter.widget-view+json": {
       "model_id": "db8f259b78a841cb84266c1d864f7e9a",
       "version_major": 2,
       "version_minor": 0
      },
      "text/plain": [
       "HBox(children=(FloatProgress(value=0.0, max=27.0), HTML(value='')))"
      ]
     },
     "metadata": {},
     "output_type": "display_data"
    },
    {
     "name": "stdout",
     "output_type": "stream",
     "text": [
      "\n",
      "Decomposing first pass: 3.8046624660491943\n",
      "Attempting to use MeshAfterParty Skeletonization and Mesh Correspondence\n",
      "Another print\n",
      "Found len(mesh_large_idx) MAP candidates: [1423, 130, 1489, 2005, 1439, 732, 1378, 505, 3175, 4574]\n",
      "mesh_large_connectivity: 0.062103986740112305\n",
      "Finding MAP candidates connected components: 0.0001850128173828125\n",
      "len(filtered_pieces) = 1\n",
      "skeleton_connectivity_MP : 0.1951308250427246\n",
      "Grouping MP Sublimbs by Graph: 0.03772258758544922\n",
      "Divinding into MP and MAP pieces: 9.5367431640625e-07\n",
      "--- Working on MAP piece 0---\n",
      "MAP Filtering Soma Pieces: 0.0023641586303710938\n",
      "inside skeletonize_connected_branch and use_surface_after_CGAL=False, surface_reconstruction_size=1000\n",
      "     Starting Screened Poisson\n",
      "xvfb-run -n 5257 -s \"-screen 0 800x600x24\" meshlabserver $@  -i /notebooks/Platinum_Decomp_Fusion/temp/None.off -o /notebooks/Platinum_Decomp_Fusion/temp/None_poisson.off -s /notebooks/Platinum_Decomp_Fusion/temp/poisson_241601.mls\n",
      "removed temporary input file: /notebooks/Platinum_Decomp_Fusion/temp/None.off\n",
      "removed temporary output file: /notebooks/Platinum_Decomp_Fusion/temp/None_poisson.off\n",
      "Using the close holes feature\n",
      "xvfb-run -n 1850 -s \"-screen 0 800x600x24\" meshlabserver $@  -i /notebooks/Platinum_Decomp_Fusion/temp/neuron_60889.off -o /notebooks/Platinum_Decomp_Fusion/temp/neuron_60889_fill_holes.off -s /notebooks/Platinum_Decomp_Fusion/temp/fill_holes_698828.mls\n",
      "removed temporary input file: /notebooks/Platinum_Decomp_Fusion/temp/neuron_60889.off\n",
      "removed temporary output file: /notebooks/Platinum_Decomp_Fusion/temp/neuron_60889_fill_holes.off\n",
      "-----Time for Screened Poisson= 11.933667182922363\n",
      "     Starting Calcification\n"
     ]
    },
    {
     "data": {
      "application/vnd.jupyter.widget-view+json": {
       "model_id": "a14f1da57ba4491fb24df838cc06ee8a",
       "version_major": 2,
       "version_minor": 0
      },
      "text/plain": [
       "HBox(children=(FloatProgress(value=1.0, bar_style='info', max=1.0), HTML(value='')))"
      ]
     },
     "metadata": {},
     "output_type": "display_data"
    },
    {
     "name": "stdout",
     "output_type": "stream",
     "text": [
      "\n",
      "No skeletons to stack so returning empty list\n",
      "len_subgraphs AT BEGINNING of the loop\n"
     ]
    },
    {
     "data": {
      "application/vnd.jupyter.widget-view+json": {
       "model_id": "6b0111aa4a80408d8eac4e01e1e4c35f",
       "version_major": 2,
       "version_minor": 0
      },
      "text/plain": [
       "HBox(children=(FloatProgress(value=0.0, max=1.0), HTML(value='')))"
      ]
     },
     "metadata": {},
     "output_type": "display_data"
    },
    {
     "name": "stdout",
     "output_type": "stream",
     "text": [
      "all graph is one component!\n",
      "\n",
      "Total time for skeleton stitching = 0.0269010066986084\n",
      "The process was using a temp folder\n",
      "Checking connected components after skeletonize_connected_branch\n",
      "    Total time for skeletonizing branch: 14.205688953399658\n",
      "Checking connected components after removing cycles\n",
      "Total time for mesh KDTree = 0.1327211856842041\n",
      "sbv[0].reshape(-1,3) = [[ 731714.5  523050.9 1054093. ]]\n",
      "closest_sk_pt_coord BEFORE = [ 730307.  524030. 1054540.]\n",
      "current_skeleton.shape = (167, 2, 3)\n",
      "Current stitch point was a branch or endpoint\n",
      "change_status for create soma extending pieces = False\n",
      "closest_sk_pt_coord AFTER = [ 730307.  524030. 1054540.]\n",
      "skipping soma 0 because closest skeleton node was already end node\n",
      "endpoints_must_keep = {0: array([[ 730307.,  524030., 1054540.]])}\n",
      "    Total time for Fixing Skeleton Soma Endpoint Extension : 0.20626401901245117\n",
      "filter_end_node_length = 4001\n",
      "Using Distance measure skeletal_distance\n",
      "endpoints_must_keep = [[ 730307.  524030. 1054540.]]\n",
      "Number of end_nodes BEFORE filtering = 7\n",
      "all_single_nodes_to_eliminate = [6]\n"
     ]
    },
    {
     "data": {
      "application/vnd.jupyter.widget-view+json": {
       "model_id": "91e5a63405914c218bc857422b0e9b55",
       "version_major": 2,
       "version_minor": 0
      },
      "text/plain": [
       "HBox(children=(FloatProgress(value=0.0, max=2.0), HTML(value='')))"
      ]
     },
     "metadata": {},
     "output_type": "display_data"
    },
    {
     "name": "stdout",
     "output_type": "stream",
     "text": [
      "\n",
      "Checking connected components after clean_skeleton\n",
      "after DISTANCE cleaning limb size of skeleton = (162, 2, 3)\n",
      "********COMBINING CLOSE SKELETON NODES WITHIN 700 DISTANCE**********\n",
      "Found 0 valid paths to replace\n",
      "valid_paths = []\n",
      "valid_path_lengths = []\n",
      "No valid paths found so just returning the original\n",
      "skeletonize_and_clean_connected_branch_CGAL: 14.557525634765625\n",
      "Working on limb correspondence for #0 MAP piece\n"
     ]
    },
    {
     "data": {
      "application/vnd.jupyter.widget-view+json": {
       "model_id": "4d3d3dff523443e984736d2f1d04918e",
       "version_major": 2,
       "version_minor": 0
      },
      "text/plain": [
       "HBox(children=(FloatProgress(value=1.0, bar_style='info', max=1.0), HTML(value='')))"
      ]
     },
     "metadata": {},
     "output_type": "display_data"
    },
    {
     "name": "stdout",
     "output_type": "stream",
     "text": [
      "\n",
      "Total time for decomposition = 1.5015895366668701\n",
      "mesh_correspondence_first_pass: 1.5016396045684814\n",
      "Limb decomposed into 7 branches\n",
      "divided_skeleton_graph_recovered = (162, 2, 3) and \n",
      "current_mesh_data[0]['branch_skeletons_cleaned'].shape = (162, 2, 3)\n",
      "\n",
      "Number of connected components in deocmposed recovered graph = 1\n",
      "Number of connected components in cleaned skeleton graph= 1\n",
      "The downsampled branches number of connected components = 1\n",
      "Empty submeshes = []\n",
      "\n",
      "\n",
      "--- Working on 1-to-1 correspondence-----\n",
      "max(original_labels),len(original_labels) = (6, 7)\n",
      "empty_indices % = 0.09062314540059348\n",
      " conflict_indices % = 0.05697329376854599\n"
     ]
    },
    {
     "data": {
      "application/vnd.jupyter.widget-view+json": {
       "model_id": "77dbb12ad42a4c3ba2cfcfc36cc5c65e",
       "version_major": 2,
       "version_minor": 0
      },
      "text/plain": [
       "HBox(children=(FloatProgress(value=0.0, max=12.0), HTML(value='')))"
      ]
     },
     "metadata": {},
     "output_type": "display_data"
    },
    {
     "name": "stdout",
     "output_type": "stream",
     "text": [
      "\n",
      "AFTER face_lookup_resolved_test\n",
      "Took 0 iterations to expand the label back\n",
      "empty_indices % = 0.0\n",
      " conflict_indices % = 0.0\n"
     ]
    },
    {
     "data": {
      "application/vnd.jupyter.widget-view+json": {
       "model_id": "464928d2db4a4f4e9333b4e8b6826bff",
       "version_major": 2,
       "version_minor": 0
      },
      "text/plain": [
       "HBox(children=(FloatProgress(value=1.0, bar_style='info', max=1.0), HTML(value='')))"
      ]
     },
     "metadata": {},
     "output_type": "display_data"
    },
    {
     "name": "stdout",
     "output_type": "stream",
     "text": [
      "\n",
      "AFTER face_lookup_resolved_test\n"
     ]
    },
    {
     "data": {
      "application/vnd.jupyter.widget-view+json": {
       "model_id": "705648fd845d4bd7bb5608a7a14110e8",
       "version_major": 2,
       "version_minor": 0
      },
      "text/plain": [
       "HBox(children=(FloatProgress(value=0.0, max=7.0), HTML(value='')))"
      ]
     },
     "metadata": {},
     "output_type": "display_data"
    },
    {
     "name": "stdout",
     "output_type": "stream",
     "text": [
      "\n",
      "Total time for MAP sublimb #0 mesh processing = 16.834892988204956\n",
      "correspondence_1_to_1: 0.7733190059661865\n",
      "Total time for MAP sublimb processing 16.83498239517212\n",
      "---- Working on MP Decomposition #0 ----\n",
      "Computing the current soma touching verts dict manually\n",
      "MP filtering soma verts: 0.0037343502044677734\n",
      "Do Not Need to Fix MP Decomposition 0 so just continuing\n",
      "---- Working on MP Decomposition #1 ----\n",
      "Computing the current soma touching verts dict manually\n",
      "MP filtering soma verts: 0.0026903152465820312\n",
      "Do Not Need to Fix MP Decomposition 1 so just continuing\n",
      "---- Working on MP Decomposition #2 ----\n",
      "Computing the current soma touching verts dict manually\n",
      "MP filtering soma verts: 0.0015664100646972656\n",
      "Do Not Need to Fix MP Decomposition 2 so just continuing\n",
      "---- Working on MP Decomposition #3 ----\n",
      "Computing the current soma touching verts dict manually\n",
      "MP filtering soma verts: 0.0005638599395751953\n",
      "Do Not Need to Fix MP Decomposition 3 so just continuing\n",
      "---- Working on MP Decomposition #4 ----\n",
      "Computing the current soma touching verts dict manually\n",
      "MP filtering soma verts: 0.0007350444793701172\n",
      "Do Not Need to Fix MP Decomposition 4 so just continuing\n",
      "---- Working on MP Decomposition #5 ----\n",
      "Computing the current soma touching verts dict manually\n",
      "MP filtering soma verts: 0.00044226646423339844\n",
      "Do Not Need to Fix MP Decomposition 5 so just continuing\n",
      "---- Working on MP Decomposition #6 ----\n",
      "Computing the current soma touching verts dict manually\n",
      "MP filtering soma verts: 0.0009014606475830078\n",
      "Do Not Need to Fix MP Decomposition 6 so just continuing\n",
      "\n",
      "---- Working on (0, 0) connection-----\n",
      "Current stitch point was a branch or endpoint\n",
      "conn = [0, 3]\n",
      "winning_vertex = [ 721099.46393698  515983.5080782  1049704.51710173]\n",
      "MP_branches_with_stitch_point = [0, 3]\n",
      "MAP_branches_with_stitch_point = [3]\n",
      "MAP_stitch_point_on_end_or_branch = True\n",
      "Using max stitch distance (300) for smoothing because stitch_distance greater (510.4509594666068) \n",
      "Found winning edge: [159, 160.0]\n",
      "in remove edge\n",
      "Using max stitch distance (300) for smoothing because stitch_distance greater (524.5585638003898) \n",
      "Found winning edge: [70, 71.0]\n",
      "in remove edge\n"
     ]
    },
    {
     "data": {
      "application/vnd.jupyter.widget-view+json": {
       "model_id": "58b0e11c41f44b6d83f109b81bc24162",
       "version_major": 2,
       "version_minor": 0
      },
      "text/plain": [
       "HBox(children=(FloatProgress(value=1.0, bar_style='info', max=1.0), HTML(value='')))"
      ]
     },
     "metadata": {},
     "output_type": "display_data"
    },
    {
     "name": "stdout",
     "output_type": "stream",
     "text": [
      "\n",
      "\n",
      "\n",
      "--- Working on 1-to-1 correspondence-----\n",
      "max(original_labels),len(original_labels) = (2, 3)\n",
      "empty_indices % = 0.007508663842895649\n",
      " conflict_indices % = 0.018482864844050827\n"
     ]
    },
    {
     "data": {
      "application/vnd.jupyter.widget-view+json": {
       "model_id": "1742be16efe24d0c8a0a14bf6db72118",
       "version_major": 2,
       "version_minor": 0
      },
      "text/plain": [
       "HBox(children=(FloatProgress(value=0.0, max=7.0), HTML(value='')))"
      ]
     },
     "metadata": {},
     "output_type": "display_data"
    },
    {
     "name": "stdout",
     "output_type": "stream",
     "text": [
      "\n",
      "AFTER face_lookup_resolved_test\n"
     ]
    },
    {
     "data": {
      "application/vnd.jupyter.widget-view+json": {
       "model_id": "e2470a0714b94663a3209416876c2d6f",
       "version_major": 2,
       "version_minor": 0
      },
      "text/plain": [
       "HBox(children=(FloatProgress(value=0.0, max=3.0), HTML(value='')))"
      ]
     },
     "metadata": {},
     "output_type": "display_data"
    },
    {
     "name": "stdout",
     "output_type": "stream",
     "text": [
      "\n",
      "MP_branches_with_stitch_point= [0, 3]\n",
      "MP_branches_for_correspondence = [0 3]\n",
      "MP_leftover = [], MP_leftover_idx = []\n",
      " Finished with (0, 0) \n",
      "\n",
      "\n",
      "\n",
      "\n",
      "---- Working on (1, 0) connection-----\n",
      "Current stitch point was not a branch or endpoint, shortest_path_length to one = 348.21401465190917\n",
      "Changing the stitch point becasue the distance to end or branch node was 348.21401465190917\n",
      "New stitch point has degree 1\n",
      "conn = [0, 1]\n",
      "winning_vertex = [ 716283.44967748  523902.97259434 1057565.00151345]\n",
      "MP_branches_with_stitch_point = [0, 1]\n",
      "MAP_branches_with_stitch_point = [1]\n",
      "MAP_stitch_point_on_end_or_branch = True\n",
      "Using max stitch distance (300) for smoothing because stitch_distance greater (1415.1752191179044) \n",
      "Found winning edge: [146, 147.0]\n",
      "in remove edge\n",
      "Using max stitch distance (300) for smoothing because stitch_distance greater (1319.338883547819) \n",
      "Found winning edge: [108, 109.0]\n",
      "in remove edge\n"
     ]
    },
    {
     "data": {
      "application/vnd.jupyter.widget-view+json": {
       "model_id": "a09ac89ae80745f7b18b9dbca45c0ebe",
       "version_major": 2,
       "version_minor": 0
      },
      "text/plain": [
       "HBox(children=(FloatProgress(value=1.0, bar_style='info', max=1.0), HTML(value='')))"
      ]
     },
     "metadata": {},
     "output_type": "display_data"
    },
    {
     "name": "stdout",
     "output_type": "stream",
     "text": [
      "\n",
      "\n",
      "\n",
      "--- Working on 1-to-1 correspondence-----\n",
      "max(original_labels),len(original_labels) = (2, 3)\n",
      "empty_indices % = 0.010855075223766901\n",
      " conflict_indices % = 0.07446200723671681\n"
     ]
    },
    {
     "data": {
      "application/vnd.jupyter.widget-view+json": {
       "model_id": "cc801d53ce8a47f1935bd2ac8e6f76e7",
       "version_major": 2,
       "version_minor": 0
      },
      "text/plain": [
       "HBox(children=(FloatProgress(value=0.0, max=6.0), HTML(value='')))"
      ]
     },
     "metadata": {},
     "output_type": "display_data"
    },
    {
     "name": "stdout",
     "output_type": "stream",
     "text": [
      "\n",
      "AFTER face_lookup_resolved_test\n"
     ]
    },
    {
     "data": {
      "application/vnd.jupyter.widget-view+json": {
       "model_id": "0d3ac2bf89c7446a94a3567cd487909a",
       "version_major": 2,
       "version_minor": 0
      },
      "text/plain": [
       "HBox(children=(FloatProgress(value=0.0, max=3.0), HTML(value='')))"
      ]
     },
     "metadata": {},
     "output_type": "display_data"
    },
    {
     "name": "stdout",
     "output_type": "stream",
     "text": [
      "\n",
      "MP_branches_with_stitch_point= [0, 1]\n",
      "MP_branches_for_correspondence = [0 1]\n",
      "MP_leftover = [], MP_leftover_idx = []\n",
      " Finished with (1, 0) \n",
      "\n",
      "\n",
      "\n",
      "\n",
      "---- Working on (2, 0) connection-----\n",
      "Current stitch point was a branch or endpoint\n",
      "conn = [1, 2]\n",
      "winning_vertex = [ 716912.08791116  548841.42533557 1058241.81317785]\n",
      "MP_branches_with_stitch_point = [1, 2]\n",
      "MAP_branches_with_stitch_point = [0]\n",
      "MAP_stitch_point_on_end_or_branch = True\n",
      "Using max stitch distance (300) for smoothing because stitch_distance greater (534.9728441238946) \n",
      "Found winning edge: [637, 638.0]\n",
      "in remove edge\n",
      "Using max stitch distance (300) for smoothing because stitch_distance greater (513.759062400938) \n",
      "Found winning edge: [310, 311.0]\n",
      "in remove edge\n"
     ]
    },
    {
     "data": {
      "application/vnd.jupyter.widget-view+json": {
       "model_id": "77efdefa9bb945a1a83f40c47b9ffe02",
       "version_major": 2,
       "version_minor": 0
      },
      "text/plain": [
       "HBox(children=(FloatProgress(value=1.0, bar_style='info', max=1.0), HTML(value='')))"
      ]
     },
     "metadata": {},
     "output_type": "display_data"
    },
    {
     "name": "stdout",
     "output_type": "stream",
     "text": [
      "\n",
      "\n",
      "\n",
      "--- Working on 1-to-1 correspondence-----\n",
      "max(original_labels),len(original_labels) = (2, 3)\n",
      "empty_indices % = 0.037444343114639775\n",
      " conflict_indices % = 0.007671262271337374\n"
     ]
    },
    {
     "data": {
      "application/vnd.jupyter.widget-view+json": {
       "model_id": "faa1013391484603badd3e8c230d54ae",
       "version_major": 2,
       "version_minor": 0
      },
      "text/plain": [
       "HBox(children=(FloatProgress(value=0.0, max=4.0), HTML(value='')))"
      ]
     },
     "metadata": {},
     "output_type": "display_data"
    },
    {
     "name": "stdout",
     "output_type": "stream",
     "text": [
      "\n",
      "AFTER face_lookup_resolved_test\n"
     ]
    },
    {
     "data": {
      "application/vnd.jupyter.widget-view+json": {
       "model_id": "cacc759bdc1d413ea6303cc9919c6fbe",
       "version_major": 2,
       "version_minor": 0
      },
      "text/plain": [
       "HBox(children=(FloatProgress(value=0.0, max=3.0), HTML(value='')))"
      ]
     },
     "metadata": {},
     "output_type": "display_data"
    },
    {
     "name": "stdout",
     "output_type": "stream",
     "text": [
      "\n",
      "MP_branches_with_stitch_point= [1, 2]\n",
      "MP_branches_for_correspondence = [1 2]\n",
      "MP_leftover = [], MP_leftover_idx = []\n",
      " Finished with (2, 0) \n",
      "\n",
      "\n",
      "\n",
      "\n",
      "---- Working on (3, 0) connection-----\n",
      "Current stitch point was not a branch or endpoint, shortest_path_length to one = 10178.04180321801\n",
      "conn = [0]\n",
      "winning_vertex = [ 719949.78013788  539308.69935604 1057710.08626667]\n",
      "MP_branches_with_stitch_point = [0]\n",
      "MAP_branches_with_stitch_point = [0]\n",
      "MAP_stitch_point_on_end_or_branch = False\n",
      "Using max stitch distance (300) for smoothing because stitch_distance greater (330.7655710274389) \n",
      "Found winning edge: [360, 361.0]\n",
      "in remove edge\n"
     ]
    },
    {
     "data": {
      "application/vnd.jupyter.widget-view+json": {
       "model_id": "a0c533df1394431c920d0fd8bba5c99f",
       "version_major": 2,
       "version_minor": 0
      },
      "text/plain": [
       "HBox(children=(FloatProgress(value=1.0, bar_style='info', max=1.0), HTML(value='')))"
      ]
     },
     "metadata": {},
     "output_type": "display_data"
    },
    {
     "name": "stdout",
     "output_type": "stream",
     "text": [
      "\n",
      "\n",
      "\n",
      "--- Working on 1-to-1 correspondence-----\n",
      "max(original_labels),len(original_labels) = (1, 2)\n",
      "empty_indices % = 0.04866679097520045\n",
      " conflict_indices % = 0.008390826030206973\n"
     ]
    },
    {
     "data": {
      "application/vnd.jupyter.widget-view+json": {
       "model_id": "85ecd0674b084f30875592ac0072ba7d",
       "version_major": 2,
       "version_minor": 0
      },
      "text/plain": [
       "HBox(children=(FloatProgress(value=0.0, max=6.0), HTML(value='')))"
      ]
     },
     "metadata": {},
     "output_type": "display_data"
    },
    {
     "name": "stdout",
     "output_type": "stream",
     "text": [
      "\n",
      "AFTER face_lookup_resolved_test\n"
     ]
    },
    {
     "data": {
      "application/vnd.jupyter.widget-view+json": {
       "model_id": "94c05e4ea1d44c6f9f6f19859e63a8e0",
       "version_major": 2,
       "version_minor": 0
      },
      "text/plain": [
       "HBox(children=(FloatProgress(value=0.0, max=2.0), HTML(value='')))"
      ]
     },
     "metadata": {},
     "output_type": "display_data"
    },
    {
     "name": "stdout",
     "output_type": "stream",
     "text": [
      "\n"
     ]
    },
    {
     "data": {
      "application/vnd.jupyter.widget-view+json": {
       "model_id": "bfb246fc408e4ba29eaefdb18adb2441",
       "version_major": 2,
       "version_minor": 0
      },
      "text/plain": [
       "HBox(children=(FloatProgress(value=1.0, bar_style='info', max=1.0), HTML(value='')))"
      ]
     },
     "metadata": {},
     "output_type": "display_data"
    },
    {
     "name": "stdout",
     "output_type": "stream",
     "text": [
      "\n",
      "\n",
      "\n",
      "--- Working on 1-to-1 correspondence-----\n",
      "max(original_labels),len(original_labels) = (2, 3)\n",
      "empty_indices % = 0.02662993572084481\n",
      " conflict_indices % = 0.03162942556881951\n"
     ]
    },
    {
     "data": {
      "application/vnd.jupyter.widget-view+json": {
       "model_id": "5597d5d8e4a2421b8eb5b4fd5489c309",
       "version_major": 2,
       "version_minor": 0
      },
      "text/plain": [
       "HBox(children=(FloatProgress(value=0.0, max=1.0), HTML(value='')))"
      ]
     },
     "metadata": {},
     "output_type": "display_data"
    },
    {
     "name": "stdout",
     "output_type": "stream",
     "text": [
      "\n",
      "AFTER face_lookup_resolved_test\n"
     ]
    },
    {
     "data": {
      "application/vnd.jupyter.widget-view+json": {
       "model_id": "4566fa27795543f7a612434348da2842",
       "version_major": 2,
       "version_minor": 0
      },
      "text/plain": [
       "HBox(children=(FloatProgress(value=0.0, max=3.0), HTML(value='')))"
      ]
     },
     "metadata": {},
     "output_type": "display_data"
    },
    {
     "name": "stdout",
     "output_type": "stream",
     "text": [
      "\n",
      "Deleting branches from dictionary\n",
      "MP_branches_with_stitch_point= [0]\n",
      "MP_branches_for_correspondence = [0]\n",
      "MP_leftover = [], MP_leftover_idx = []\n",
      " Finished with (3, 0) \n",
      "\n",
      "\n",
      "\n",
      "\n",
      "---- Working on (4, 0) connection-----\n",
      "Current stitch point was not a branch or endpoint, shortest_path_length to one = 1071.8541304456285\n",
      "conn = [0, 1]\n",
      "winning_vertex = [ 724306.51227644  519686.95628732 1077757.69215109]\n",
      "MP_branches_with_stitch_point = [0, 1]\n",
      "MAP_branches_with_stitch_point = [2]\n",
      "MAP_stitch_point_on_end_or_branch = False\n",
      "Using max stitch distance (300) for smoothing because stitch_distance greater (575.0815437784543) \n",
      "Found winning edge: [9, 10.0]\n",
      "in remove edge\n",
      "Using max stitch distance (300) for smoothing because stitch_distance greater (539.9614250436948) \n",
      "Found winning edge: [171, 173.0]\n",
      "in remove edge\n"
     ]
    },
    {
     "data": {
      "application/vnd.jupyter.widget-view+json": {
       "model_id": "53acc99541694442b4ebdfd1682f48a6",
       "version_major": 2,
       "version_minor": 0
      },
      "text/plain": [
       "HBox(children=(FloatProgress(value=1.0, bar_style='info', max=1.0), HTML(value='')))"
      ]
     },
     "metadata": {},
     "output_type": "display_data"
    },
    {
     "name": "stdout",
     "output_type": "stream",
     "text": [
      "\n",
      "\n",
      "\n",
      "--- Working on 1-to-1 correspondence-----\n",
      "max(original_labels),len(original_labels) = (1, 2)\n",
      "empty_indices % = 0.08271474019088017\n",
      " conflict_indices % = 0.002757158006362672\n"
     ]
    },
    {
     "data": {
      "application/vnd.jupyter.widget-view+json": {
       "model_id": "6e620bb7783b4d899015c2114fb7995d",
       "version_major": 2,
       "version_minor": 0
      },
      "text/plain": [
       "HBox(children=(FloatProgress(value=0.0, max=4.0), HTML(value='')))"
      ]
     },
     "metadata": {},
     "output_type": "display_data"
    },
    {
     "name": "stdout",
     "output_type": "stream",
     "text": [
      "\n",
      "AFTER face_lookup_resolved_test\n"
     ]
    },
    {
     "data": {
      "application/vnd.jupyter.widget-view+json": {
       "model_id": "71b5b62f5e9a4732af933d6c781087ce",
       "version_major": 2,
       "version_minor": 0
      },
      "text/plain": [
       "HBox(children=(FloatProgress(value=0.0, max=2.0), HTML(value='')))"
      ]
     },
     "metadata": {},
     "output_type": "display_data"
    },
    {
     "name": "stdout",
     "output_type": "stream",
     "text": [
      "\n"
     ]
    },
    {
     "data": {
      "application/vnd.jupyter.widget-view+json": {
       "model_id": "bbfd0f8d558e48b4a62355414629bd92",
       "version_major": 2,
       "version_minor": 0
      },
      "text/plain": [
       "HBox(children=(FloatProgress(value=1.0, bar_style='info', max=1.0), HTML(value='')))"
      ]
     },
     "metadata": {},
     "output_type": "display_data"
    },
    {
     "name": "stdout",
     "output_type": "stream",
     "text": [
      "\n",
      "\n",
      "\n",
      "--- Working on 1-to-1 correspondence-----\n",
      "max(original_labels),len(original_labels) = (3, 4)\n",
      "empty_indices % = 0.0621414913957935\n",
      " conflict_indices % = 0.01858933503292968\n"
     ]
    },
    {
     "data": {
      "application/vnd.jupyter.widget-view+json": {
       "model_id": "5eab94aa0fd641a8a2b41b3b2d33c8e2",
       "version_major": 2,
       "version_minor": 0
      },
      "text/plain": [
       "HBox(children=(FloatProgress(value=0.0, max=2.0), HTML(value='')))"
      ]
     },
     "metadata": {},
     "output_type": "display_data"
    },
    {
     "name": "stdout",
     "output_type": "stream",
     "text": [
      "\n",
      "AFTER face_lookup_resolved_test\n"
     ]
    },
    {
     "data": {
      "application/vnd.jupyter.widget-view+json": {
       "model_id": "406d7b34b26645e69ecf3ea5ae85ddd3",
       "version_major": 2,
       "version_minor": 0
      },
      "text/plain": [
       "HBox(children=(FloatProgress(value=0.0, max=4.0), HTML(value='')))"
      ]
     },
     "metadata": {},
     "output_type": "display_data"
    },
    {
     "name": "stdout",
     "output_type": "stream",
     "text": [
      "\n",
      "Deleting branches from dictionary\n",
      "MP_branches_with_stitch_point= [0, 1]\n",
      "MP_branches_for_correspondence = [0 1]\n",
      "MP_leftover = [], MP_leftover_idx = []\n",
      " Finished with (4, 0) \n",
      "\n",
      "\n",
      "\n",
      "\n",
      "---- Working on (5, 0) connection-----\n",
      "Current stitch point was not a branch or endpoint, shortest_path_length to one = 6928.871061158863\n",
      "conn = [0]\n",
      "winning_vertex = [ 719523.72715705  542847.17500477 1057681.95965717]\n",
      "MP_branches_with_stitch_point = [0]\n",
      "MAP_branches_with_stitch_point = [0]\n",
      "MAP_stitch_point_on_end_or_branch = False\n",
      "Using max stitch distance (300) for smoothing because stitch_distance greater (328.4044404109848) \n",
      "Found winning edge: [9, 10.0]\n",
      "in remove edge\n"
     ]
    },
    {
     "data": {
      "application/vnd.jupyter.widget-view+json": {
       "model_id": "f88a4147183648c7ace851064baeaa81",
       "version_major": 2,
       "version_minor": 0
      },
      "text/plain": [
       "HBox(children=(FloatProgress(value=1.0, bar_style='info', max=1.0), HTML(value='')))"
      ]
     },
     "metadata": {},
     "output_type": "display_data"
    },
    {
     "name": "stdout",
     "output_type": "stream",
     "text": [
      "\n",
      "\n",
      "\n",
      "--- Working on 1-to-1 correspondence-----\n",
      "max(original_labels),len(original_labels) = (1, 2)\n",
      "empty_indices % = 0.06095717884130982\n",
      " conflict_indices % = 0.004030226700251889\n"
     ]
    },
    {
     "data": {
      "application/vnd.jupyter.widget-view+json": {
       "model_id": "da48558ad90949c9ad9daf2b35cb6142",
       "version_major": 2,
       "version_minor": 0
      },
      "text/plain": [
       "HBox(children=(FloatProgress(value=0.0, max=7.0), HTML(value='')))"
      ]
     },
     "metadata": {},
     "output_type": "display_data"
    },
    {
     "name": "stdout",
     "output_type": "stream",
     "text": [
      "\n",
      "AFTER face_lookup_resolved_test\n"
     ]
    },
    {
     "data": {
      "application/vnd.jupyter.widget-view+json": {
       "model_id": "3405d093a99d44808feae617d8910942",
       "version_major": 2,
       "version_minor": 0
      },
      "text/plain": [
       "HBox(children=(FloatProgress(value=0.0, max=2.0), HTML(value='')))"
      ]
     },
     "metadata": {},
     "output_type": "display_data"
    },
    {
     "name": "stdout",
     "output_type": "stream",
     "text": [
      "\n"
     ]
    },
    {
     "data": {
      "application/vnd.jupyter.widget-view+json": {
       "model_id": "b3e79fc3cdfb4f5eb99f37834657ca94",
       "version_major": 2,
       "version_minor": 0
      },
      "text/plain": [
       "HBox(children=(FloatProgress(value=1.0, bar_style='info', max=1.0), HTML(value='')))"
      ]
     },
     "metadata": {},
     "output_type": "display_data"
    },
    {
     "name": "stdout",
     "output_type": "stream",
     "text": [
      "\n",
      "\n",
      "\n",
      "--- Working on 1-to-1 correspondence-----\n",
      "max(original_labels),len(original_labels) = (2, 3)\n",
      "empty_indices % = 0.024434571890145397\n",
      " conflict_indices % = 0.029281098546042002\n"
     ]
    },
    {
     "data": {
      "application/vnd.jupyter.widget-view+json": {
       "model_id": "60cf4f48b5584213ae3fa241535eb5c3",
       "version_major": 2,
       "version_minor": 0
      },
      "text/plain": [
       "HBox(children=(FloatProgress(value=0.0, max=3.0), HTML(value='')))"
      ]
     },
     "metadata": {},
     "output_type": "display_data"
    },
    {
     "name": "stdout",
     "output_type": "stream",
     "text": [
      "\n",
      "AFTER face_lookup_resolved_test\n"
     ]
    },
    {
     "data": {
      "application/vnd.jupyter.widget-view+json": {
       "model_id": "257e2ddc322a4d46ac037481c14ecff7",
       "version_major": 2,
       "version_minor": 0
      },
      "text/plain": [
       "HBox(children=(FloatProgress(value=0.0, max=3.0), HTML(value='')))"
      ]
     },
     "metadata": {},
     "output_type": "display_data"
    },
    {
     "name": "stdout",
     "output_type": "stream",
     "text": [
      "\n",
      "Deleting branches from dictionary\n",
      "MP_branches_with_stitch_point= [0]\n",
      "MP_branches_for_correspondence = [0]\n",
      "MP_leftover = [], MP_leftover_idx = []\n",
      " Finished with (5, 0) \n",
      "\n",
      "\n",
      "\n",
      "\n",
      "---- Working on (6, 0) connection-----\n",
      "Current stitch point was not a branch or endpoint, shortest_path_length to one = 2214.9057148680213\n",
      "conn = [0]\n",
      "winning_vertex = [ 721698.29084193  522456.00089003 1057067.56070762]\n",
      "MP_branches_with_stitch_point = [0]\n",
      "MAP_branches_with_stitch_point = [3]\n",
      "MAP_stitch_point_on_end_or_branch = False\n",
      "Using max stitch distance (300) for smoothing because stitch_distance greater (914.1564185197227) \n",
      "Found winning edge: [703, 704.0]\n",
      "in remove edge\n"
     ]
    },
    {
     "data": {
      "application/vnd.jupyter.widget-view+json": {
       "model_id": "0ff305afb74d4c3da93d9a853af11530",
       "version_major": 2,
       "version_minor": 0
      },
      "text/plain": [
       "HBox(children=(FloatProgress(value=1.0, bar_style='info', max=1.0), HTML(value='')))"
      ]
     },
     "metadata": {},
     "output_type": "display_data"
    },
    {
     "name": "stdout",
     "output_type": "stream",
     "text": [
      "\n",
      "\n",
      "\n",
      "--- Working on 1-to-1 correspondence-----\n",
      "max(original_labels),len(original_labels) = (1, 2)\n",
      "empty_indices % = 0.02905027932960894\n",
      " conflict_indices % = 0.010614525139664804\n"
     ]
    },
    {
     "data": {
      "application/vnd.jupyter.widget-view+json": {
       "model_id": "bd5a6dbcb7d5458eaf7926a714b37306",
       "version_major": 2,
       "version_minor": 0
      },
      "text/plain": [
       "HBox(children=(FloatProgress(value=0.0, max=6.0), HTML(value='')))"
      ]
     },
     "metadata": {},
     "output_type": "display_data"
    },
    {
     "name": "stdout",
     "output_type": "stream",
     "text": [
      "\n",
      "AFTER face_lookup_resolved_test\n"
     ]
    },
    {
     "data": {
      "application/vnd.jupyter.widget-view+json": {
       "model_id": "8042d98f2c2347c897763d8e60c80632",
       "version_major": 2,
       "version_minor": 0
      },
      "text/plain": [
       "HBox(children=(FloatProgress(value=0.0, max=2.0), HTML(value='')))"
      ]
     },
     "metadata": {},
     "output_type": "display_data"
    },
    {
     "name": "stdout",
     "output_type": "stream",
     "text": [
      "\n"
     ]
    },
    {
     "data": {
      "application/vnd.jupyter.widget-view+json": {
       "model_id": "d7c86eeb786e4db1b63505d0882cf29a",
       "version_major": 2,
       "version_minor": 0
      },
      "text/plain": [
       "HBox(children=(FloatProgress(value=1.0, bar_style='info', max=1.0), HTML(value='')))"
      ]
     },
     "metadata": {},
     "output_type": "display_data"
    },
    {
     "name": "stdout",
     "output_type": "stream",
     "text": [
      "\n",
      "\n",
      "\n",
      "--- Working on 1-to-1 correspondence-----\n",
      "max(original_labels),len(original_labels) = (2, 3)\n",
      "empty_indices % = 0.06413463725267228\n",
      " conflict_indices % = 0.012508528542187855\n"
     ]
    },
    {
     "data": {
      "application/vnd.jupyter.widget-view+json": {
       "model_id": "103cfe44901d453f827a0a20d0e6da09",
       "version_major": 2,
       "version_minor": 0
      },
      "text/plain": [
       "HBox(children=(FloatProgress(value=0.0, max=4.0), HTML(value='')))"
      ]
     },
     "metadata": {},
     "output_type": "display_data"
    },
    {
     "name": "stdout",
     "output_type": "stream",
     "text": [
      "\n",
      "AFTER face_lookup_resolved_test\n"
     ]
    },
    {
     "data": {
      "application/vnd.jupyter.widget-view+json": {
       "model_id": "a37cd560fd18413cb79d8af377b28c45",
       "version_major": 2,
       "version_minor": 0
      },
      "text/plain": [
       "HBox(children=(FloatProgress(value=0.0, max=3.0), HTML(value='')))"
      ]
     },
     "metadata": {},
     "output_type": "display_data"
    },
    {
     "name": "stderr",
     "output_type": "stream",
     "text": [
      "\r",
      "  0%|          | 0/1 [00:00<?, ?it/s]"
     ]
    },
    {
     "name": "stdout",
     "output_type": "stream",
     "text": [
      "\n",
      "Deleting branches from dictionary\n",
      "MP_branches_with_stitch_point= [0]\n",
      "MP_branches_for_correspondence = [0]\n",
      "MP_leftover = [], MP_leftover_idx = []\n",
      " Finished with (6, 0) \n",
      "\n",
      "\n",
      "\n",
      "Time for decomp of Limb = 37.27278733253479\n",
      "\n",
      "\n",
      "----- Working on Proper Limb # 4 ---------\n",
      "meshparty_segment_size = 100\n",
      "Time for preparing soma vertices and root: 6.198883056640625e-06\n",
      "cc_vertex_thresh = 10\n"
     ]
    },
    {
     "data": {
      "application/vnd.jupyter.widget-view+json": {
       "model_id": "468da81b653b4cd3874a3c9dcb1850ff",
       "version_major": 2,
       "version_minor": 0
      },
      "text/plain": [
       "HBox(children=(FloatProgress(value=0.0, max=35781.0), HTML(value='')))"
      ]
     },
     "metadata": {},
     "output_type": "display_data"
    },
    {
     "name": "stderr",
     "output_type": "stream",
     "text": [
      "100%|██████████| 1/1 [00:00<00:00,  2.62it/s]"
     ]
    },
    {
     "name": "stdout",
     "output_type": "stream",
     "text": [
      "\n"
     ]
    },
    {
     "name": "stderr",
     "output_type": "stream",
     "text": [
      "\n"
     ]
    },
    {
     "name": "stdout",
     "output_type": "stream",
     "text": [
      "Time for 1st pass MP skeletonization: 0.7510175704956055\n",
      "connecting at the root\n",
      "branches_touching_root = [20]\n",
      "length of Graph = 4922\n",
      "max(kept_branches_idx) = 20, len(kept_branches_idx) = 21\n",
      "empty_indices % = 0.0\n",
      " conflict_indices % = 0.010674559201021167\n"
     ]
    },
    {
     "data": {
      "application/vnd.jupyter.widget-view+json": {
       "model_id": "f14f4fece8fd4e29bbf5fbce497e2054",
       "version_major": 2,
       "version_minor": 0
      },
      "text/plain": [
       "HBox(children=(FloatProgress(value=0.0, max=10.0), HTML(value='')))"
      ]
     },
     "metadata": {},
     "output_type": "display_data"
    },
    {
     "name": "stdout",
     "output_type": "stream",
     "text": [
      "\n",
      "AFTER face_lookup_resolved_test\n"
     ]
    },
    {
     "data": {
      "application/vnd.jupyter.widget-view+json": {
       "model_id": "6c8c4412fb8e49959f5fef3b760fb3e8",
       "version_major": 2,
       "version_minor": 0
      },
      "text/plain": [
       "HBox(children=(FloatProgress(value=0.0, max=21.0), HTML(value='')))"
      ]
     },
     "metadata": {},
     "output_type": "display_data"
    },
    {
     "name": "stdout",
     "output_type": "stream",
     "text": [
      "\n",
      "Decomposing first pass: 3.541769027709961\n",
      "Attempting to use MeshAfterParty Skeletonization and Mesh Correspondence\n",
      "Another print\n",
      "Found len(mesh_large_idx) MAP candidates: [2392, 2919, 1883, 1793, 396, 2484, 908, 1788]\n",
      "mesh_large_connectivity: 0.04915142059326172\n",
      "Finding MAP candidates connected components: 0.0001690387725830078\n",
      "len(filtered_pieces) = 1\n",
      "skeleton_connectivity_MP : 0.18165349960327148\n",
      "Grouping MP Sublimbs by Graph: 0.033272743225097656\n",
      "Divinding into MP and MAP pieces: 7.152557373046875e-07\n",
      "--- Working on MAP piece 0---\n",
      "MAP Filtering Soma Pieces: 0.0010170936584472656\n",
      "inside skeletonize_connected_branch and use_surface_after_CGAL=False, surface_reconstruction_size=1000\n",
      "     Starting Screened Poisson\n",
      "xvfb-run -n 6327 -s \"-screen 0 800x600x24\" meshlabserver $@  -i /notebooks/Platinum_Decomp_Fusion/temp/None.off -o /notebooks/Platinum_Decomp_Fusion/temp/None_poisson.off -s /notebooks/Platinum_Decomp_Fusion/temp/poisson_182486.mls\n",
      "removed temporary input file: /notebooks/Platinum_Decomp_Fusion/temp/None.off\n",
      "removed temporary output file: /notebooks/Platinum_Decomp_Fusion/temp/None_poisson.off\n",
      "Using the close holes feature\n",
      "xvfb-run -n 5530 -s \"-screen 0 800x600x24\" meshlabserver $@  -i /notebooks/Platinum_Decomp_Fusion/temp/neuron_16904.off -o /notebooks/Platinum_Decomp_Fusion/temp/neuron_16904_fill_holes.off -s /notebooks/Platinum_Decomp_Fusion/temp/fill_holes_717008.mls\n",
      "removed temporary input file: /notebooks/Platinum_Decomp_Fusion/temp/neuron_16904.off\n",
      "removed temporary output file: /notebooks/Platinum_Decomp_Fusion/temp/neuron_16904_fill_holes.off\n",
      "-----Time for Screened Poisson= 10.105236530303955\n",
      "     Starting Calcification\n"
     ]
    },
    {
     "data": {
      "application/vnd.jupyter.widget-view+json": {
       "model_id": "240b0dc4ced2474baf05a1c76f474bee",
       "version_major": 2,
       "version_minor": 0
      },
      "text/plain": [
       "HBox(children=(FloatProgress(value=1.0, bar_style='info', max=1.0), HTML(value='')))"
      ]
     },
     "metadata": {},
     "output_type": "display_data"
    },
    {
     "name": "stdout",
     "output_type": "stream",
     "text": [
      "\n",
      "No skeletons to stack so returning empty list\n",
      "len_subgraphs AT BEGINNING of the loop\n"
     ]
    },
    {
     "data": {
      "application/vnd.jupyter.widget-view+json": {
       "model_id": "f1c2109b96a64c74b67114f5318fb0d7",
       "version_major": 2,
       "version_minor": 0
      },
      "text/plain": [
       "HBox(children=(FloatProgress(value=0.0, max=1.0), HTML(value='')))"
      ]
     },
     "metadata": {},
     "output_type": "display_data"
    },
    {
     "name": "stdout",
     "output_type": "stream",
     "text": [
      "all graph is one component!\n",
      "\n",
      "Total time for skeleton stitching = 0.03453564643859863\n",
      "The process was using a temp folder\n",
      "Checking connected components after skeletonize_connected_branch\n",
      "    Total time for skeletonizing branch: 11.930899858474731\n",
      "Checking connected components after removing cycles\n",
      "Total time for mesh KDTree = 0.12213754653930664\n",
      "sbv[0].reshape(-1,3) = [[ 737203.8  512963.  1054878. ]]\n",
      "closest_sk_pt_coord BEFORE = [ 736801.  511765. 1055270.]\n",
      "current_skeleton.shape = (175, 2, 3)\n",
      "Current stitch point was a branch or endpoint\n",
      "change_status for create soma extending pieces = False\n",
      "closest_sk_pt_coord AFTER = [ 736801.  511765. 1055270.]\n",
      "skipping soma 0 because closest skeleton node was already end node\n",
      "endpoints_must_keep = {0: array([[ 736801.,  511765., 1055270.]])}\n",
      "    Total time for Fixing Skeleton Soma Endpoint Extension : 0.1933586597442627\n",
      "filter_end_node_length = 4001\n",
      "Using Distance measure skeletal_distance\n",
      "endpoints_must_keep = [[ 736801.  511765. 1055270.]]\n",
      "Number of end_nodes BEFORE filtering = 8\n",
      "all_single_nodes_to_eliminate = [6]\n"
     ]
    },
    {
     "data": {
      "application/vnd.jupyter.widget-view+json": {
       "model_id": "fd1bda0c31ef4dcebe2b9b4283a9f702",
       "version_major": 2,
       "version_minor": 0
      },
      "text/plain": [
       "HBox(children=(FloatProgress(value=0.0, max=3.0), HTML(value='')))"
      ]
     },
     "metadata": {},
     "output_type": "display_data"
    },
    {
     "name": "stdout",
     "output_type": "stream",
     "text": [
      "\n",
      "Checking connected components after clean_skeleton\n",
      "after DISTANCE cleaning limb size of skeleton = (169, 2, 3)\n",
      "********COMBINING CLOSE SKELETON NODES WITHIN 700 DISTANCE**********\n",
      "Found 0 valid paths to replace\n",
      "valid_paths = []\n",
      "valid_path_lengths = []\n",
      "No valid paths found so just returning the original\n",
      "skeletonize_and_clean_connected_branch_CGAL: 12.272926807403564\n",
      "Working on limb correspondence for #0 MAP piece\n"
     ]
    },
    {
     "data": {
      "application/vnd.jupyter.widget-view+json": {
       "model_id": "0e5c4d714d084abdb15043d931366ab0",
       "version_major": 2,
       "version_minor": 0
      },
      "text/plain": [
       "HBox(children=(FloatProgress(value=1.0, bar_style='info', max=1.0), HTML(value='')))"
      ]
     },
     "metadata": {},
     "output_type": "display_data"
    },
    {
     "name": "stdout",
     "output_type": "stream",
     "text": [
      "\n",
      "Total time for decomposition = 1.4913668632507324\n",
      "mesh_correspondence_first_pass: 1.4913973808288574\n",
      "Limb decomposed into 7 branches\n",
      "divided_skeleton_graph_recovered = (169, 2, 3) and \n",
      "current_mesh_data[0]['branch_skeletons_cleaned'].shape = (169, 2, 3)\n",
      "\n",
      "Number of connected components in deocmposed recovered graph = 1\n",
      "Number of connected components in cleaned skeleton graph= 1\n",
      "The downsampled branches number of connected components = 1\n",
      "Empty submeshes = []\n",
      "\n",
      "\n",
      "--- Working on 1-to-1 correspondence-----\n",
      "max(original_labels),len(original_labels) = (6, 7)\n",
      "empty_indices % = 0.08329327748403488\n",
      " conflict_indices % = 0.05287372107395454\n"
     ]
    },
    {
     "data": {
      "application/vnd.jupyter.widget-view+json": {
       "model_id": "5df0976b908c4aa9a0d4757932502e71",
       "version_major": 2,
       "version_minor": 0
      },
      "text/plain": [
       "HBox(children=(FloatProgress(value=0.0, max=15.0), HTML(value='')))"
      ]
     },
     "metadata": {},
     "output_type": "display_data"
    },
    {
     "name": "stdout",
     "output_type": "stream",
     "text": [
      "\n",
      "AFTER face_lookup_resolved_test\n",
      "Took 0 iterations to expand the label back\n",
      "empty_indices % = 0.0\n",
      " conflict_indices % = 0.0\n"
     ]
    },
    {
     "data": {
      "application/vnd.jupyter.widget-view+json": {
       "model_id": "09b821377f714a10ac2be3aa0650a7da",
       "version_major": 2,
       "version_minor": 0
      },
      "text/plain": [
       "HBox(children=(FloatProgress(value=1.0, bar_style='info', max=1.0), HTML(value='')))"
      ]
     },
     "metadata": {},
     "output_type": "display_data"
    },
    {
     "name": "stdout",
     "output_type": "stream",
     "text": [
      "\n",
      "AFTER face_lookup_resolved_test\n"
     ]
    },
    {
     "data": {
      "application/vnd.jupyter.widget-view+json": {
       "model_id": "f7d57c2e38cc45f9b9ccb626ee9d8d3f",
       "version_major": 2,
       "version_minor": 0
      },
      "text/plain": [
       "HBox(children=(FloatProgress(value=0.0, max=7.0), HTML(value='')))"
      ]
     },
     "metadata": {},
     "output_type": "display_data"
    },
    {
     "name": "stdout",
     "output_type": "stream",
     "text": [
      "\n",
      "Total time for MAP sublimb #0 mesh processing = 14.467270851135254\n",
      "correspondence_1_to_1: 0.7018725872039795\n",
      "Total time for MAP sublimb processing 14.467360258102417\n",
      "---- Working on MP Decomposition #0 ----\n",
      "Computing the current soma touching verts dict manually\n",
      "MP filtering soma verts: 0.003411531448364258\n",
      "Do Not Need to Fix MP Decomposition 0 so just continuing\n",
      "---- Working on MP Decomposition #1 ----\n",
      "Computing the current soma touching verts dict manually\n",
      "MP filtering soma verts: 0.004654884338378906\n",
      "Do Not Need to Fix MP Decomposition 1 so just continuing\n",
      "---- Working on MP Decomposition #2 ----\n",
      "Computing the current soma touching verts dict manually\n",
      "MP filtering soma verts: 0.004105806350708008\n",
      "Do Not Need to Fix MP Decomposition 2 so just continuing\n",
      "---- Working on MP Decomposition #3 ----\n",
      "Computing the current soma touching verts dict manually\n",
      "MP filtering soma verts: 0.0011835098266601562\n",
      "Do Not Need to Fix MP Decomposition 3 so just continuing\n",
      "---- Working on MP Decomposition #4 ----\n",
      "Computing the current soma touching verts dict manually\n",
      "MP filtering soma verts: 0.0007660388946533203\n",
      "Do Not Need to Fix MP Decomposition 4 so just continuing\n",
      "\n",
      "---- Working on (0, 0) connection-----\n",
      "Current stitch point was a branch or endpoint\n",
      "conn = [0, 1]\n",
      "winning_vertex = [ 727368.65853743  467876.52483213 1065356.59955059]\n",
      "MP_branches_with_stitch_point = [0, 1]\n",
      "MAP_branches_with_stitch_point = [1]\n",
      "MAP_stitch_point_on_end_or_branch = True\n",
      "Found winning edge: [199, 200.0]\n",
      "in remove edge\n",
      "Found winning edge: [271, 272.0]\n",
      "in remove edge\n"
     ]
    },
    {
     "data": {
      "application/vnd.jupyter.widget-view+json": {
       "model_id": "57bcb85bd92549fa82673baa2b068a25",
       "version_major": 2,
       "version_minor": 0
      },
      "text/plain": [
       "HBox(children=(FloatProgress(value=1.0, bar_style='info', max=1.0), HTML(value='')))"
      ]
     },
     "metadata": {},
     "output_type": "display_data"
    },
    {
     "name": "stdout",
     "output_type": "stream",
     "text": [
      "\n",
      "\n",
      "\n",
      "--- Working on 1-to-1 correspondence-----\n",
      "max(original_labels),len(original_labels) = (2, 3)\n",
      "empty_indices % = 0.04801059159640443\n",
      " conflict_indices % = 0.014842171277262908\n"
     ]
    },
    {
     "data": {
      "application/vnd.jupyter.widget-view+json": {
       "model_id": "0261c823e4c740cc8d0ef1d7f5589f5e",
       "version_major": 2,
       "version_minor": 0
      },
      "text/plain": [
       "HBox(children=(FloatProgress(value=0.0, max=5.0), HTML(value='')))"
      ]
     },
     "metadata": {},
     "output_type": "display_data"
    },
    {
     "name": "stdout",
     "output_type": "stream",
     "text": [
      "\n",
      "AFTER face_lookup_resolved_test\n"
     ]
    },
    {
     "data": {
      "application/vnd.jupyter.widget-view+json": {
       "model_id": "46f29b480df5463688e99d23c361f760",
       "version_major": 2,
       "version_minor": 0
      },
      "text/plain": [
       "HBox(children=(FloatProgress(value=0.0, max=3.0), HTML(value='')))"
      ]
     },
     "metadata": {},
     "output_type": "display_data"
    },
    {
     "name": "stdout",
     "output_type": "stream",
     "text": [
      "\n",
      "MP_branches_with_stitch_point= [0, 1]\n",
      "MP_branches_for_correspondence = [0 1]\n",
      "MP_leftover = [], MP_leftover_idx = []\n",
      " Finished with (0, 0) \n",
      "\n",
      "\n",
      "\n",
      "\n",
      "---- Working on (1, 0) connection-----\n",
      "Current stitch point was a branch or endpoint\n",
      "conn = [0, 2]\n",
      "winning_vertex = [ 743316.26286986  496733.83323153 1049879.86467795]\n",
      "MP_branches_with_stitch_point = [0, 2]\n",
      "MAP_branches_with_stitch_point = [6]\n",
      "MAP_stitch_point_on_end_or_branch = True\n",
      "Using max stitch distance (300) for smoothing because stitch_distance greater (1440.1305976122865) \n",
      "Found winning edge: [9, 10.0]\n",
      "in remove edge\n",
      "Using max stitch distance (300) for smoothing because stitch_distance greater (1279.8714207781175) \n",
      "Found winning edge: [9, 10.0]\n",
      "in remove edge\n"
     ]
    },
    {
     "data": {
      "application/vnd.jupyter.widget-view+json": {
       "model_id": "c4bf9a99822d4148b6b2b4d14938d14b",
       "version_major": 2,
       "version_minor": 0
      },
      "text/plain": [
       "HBox(children=(FloatProgress(value=1.0, bar_style='info', max=1.0), HTML(value='')))"
      ]
     },
     "metadata": {},
     "output_type": "display_data"
    },
    {
     "name": "stdout",
     "output_type": "stream",
     "text": [
      "\n",
      "\n",
      "\n",
      "--- Working on 1-to-1 correspondence-----\n",
      "max(original_labels),len(original_labels) = (2, 3)\n",
      "empty_indices % = 0.06783493499152063\n",
      " conflict_indices % = 0.022988505747126436\n"
     ]
    },
    {
     "data": {
      "application/vnd.jupyter.widget-view+json": {
       "model_id": "b3196a5fcecd47f18b2eeb4db687c806",
       "version_major": 2,
       "version_minor": 0
      },
      "text/plain": [
       "HBox(children=(FloatProgress(value=0.0, max=6.0), HTML(value='')))"
      ]
     },
     "metadata": {},
     "output_type": "display_data"
    },
    {
     "name": "stdout",
     "output_type": "stream",
     "text": [
      "\n",
      "AFTER face_lookup_resolved_test\n"
     ]
    },
    {
     "data": {
      "application/vnd.jupyter.widget-view+json": {
       "model_id": "99eeb5e4b82a41dc85c2f1767380f3a1",
       "version_major": 2,
       "version_minor": 0
      },
      "text/plain": [
       "HBox(children=(FloatProgress(value=0.0, max=3.0), HTML(value='')))"
      ]
     },
     "metadata": {},
     "output_type": "display_data"
    },
    {
     "name": "stdout",
     "output_type": "stream",
     "text": [
      "\n",
      "MP_branches_with_stitch_point= [0, 2]\n",
      "MP_branches_for_correspondence = [0 2]\n",
      "MP_leftover = [], MP_leftover_idx = []\n",
      " Finished with (1, 0) \n",
      "\n",
      "\n",
      "\n",
      "\n",
      "---- Working on (2, 0) connection-----\n",
      "Current stitch point was a branch or endpoint\n",
      "conn = [0, 1]\n",
      "winning_vertex = [ 723563.8391662   504703.41077097 1063987.87336666]\n",
      "MP_branches_with_stitch_point = [0, 1]\n",
      "MAP_branches_with_stitch_point = [0]\n",
      "MAP_stitch_point_on_end_or_branch = True\n",
      "Using max stitch distance (300) for smoothing because stitch_distance greater (554.4218398799891) \n",
      "Found winning edge: [350, 351.0]\n",
      "in remove edge\n",
      "Using max stitch distance (300) for smoothing because stitch_distance greater (594.6798179833733) \n",
      "Found winning edge: [593, 594.0]\n",
      "in remove edge\n"
     ]
    },
    {
     "data": {
      "application/vnd.jupyter.widget-view+json": {
       "model_id": "35fc76a4cb884bb1bddf2fd26710a288",
       "version_major": 2,
       "version_minor": 0
      },
      "text/plain": [
       "HBox(children=(FloatProgress(value=1.0, bar_style='info', max=1.0), HTML(value='')))"
      ]
     },
     "metadata": {},
     "output_type": "display_data"
    },
    {
     "name": "stdout",
     "output_type": "stream",
     "text": [
      "\n",
      "\n",
      "\n",
      "--- Working on 1-to-1 correspondence-----\n",
      "max(original_labels),len(original_labels) = (2, 3)\n",
      "empty_indices % = 0.05377049180327869\n",
      " conflict_indices % = 0.005639344262295082\n"
     ]
    },
    {
     "data": {
      "application/vnd.jupyter.widget-view+json": {
       "model_id": "ae9aeeb08c014221b3d397e902aced28",
       "version_major": 2,
       "version_minor": 0
      },
      "text/plain": [
       "HBox(children=(FloatProgress(value=0.0, max=5.0), HTML(value='')))"
      ]
     },
     "metadata": {},
     "output_type": "display_data"
    },
    {
     "name": "stdout",
     "output_type": "stream",
     "text": [
      "\n",
      "AFTER face_lookup_resolved_test\n"
     ]
    },
    {
     "data": {
      "application/vnd.jupyter.widget-view+json": {
       "model_id": "cd65829640194e20ae7b80fd5fe2505d",
       "version_major": 2,
       "version_minor": 0
      },
      "text/plain": [
       "HBox(children=(FloatProgress(value=0.0, max=3.0), HTML(value='')))"
      ]
     },
     "metadata": {},
     "output_type": "display_data"
    },
    {
     "name": "stdout",
     "output_type": "stream",
     "text": [
      "\n",
      "MP_branches_with_stitch_point= [0, 1]\n",
      "MP_branches_for_correspondence = [0 1]\n",
      "MP_leftover = [], MP_leftover_idx = []\n",
      " Finished with (2, 0) \n",
      "\n",
      "\n",
      "\n",
      "\n",
      "---- Working on (3, 0) connection-----\n",
      "Current stitch point was a branch or endpoint\n",
      "conn = [0, 3]\n",
      "winning_vertex = [ 736366.92196199  492542.0526577  1050403.91772402]\n",
      "MP_branches_with_stitch_point = [0, 3]\n",
      "MAP_branches_with_stitch_point = [4]\n",
      "MAP_stitch_point_on_end_or_branch = True\n",
      "Using max stitch distance (300) for smoothing because stitch_distance greater (542.5400611154024) \n",
      "Found winning edge: [9, 10.0]\n",
      "in remove edge\n",
      "Using max stitch distance (300) for smoothing because stitch_distance greater (659.7058066363943) \n",
      "Found winning edge: [557, 558.0]\n",
      "in remove edge\n"
     ]
    },
    {
     "data": {
      "application/vnd.jupyter.widget-view+json": {
       "model_id": "5d75d0732e4a48209624cbd12739a728",
       "version_major": 2,
       "version_minor": 0
      },
      "text/plain": [
       "HBox(children=(FloatProgress(value=1.0, bar_style='info', max=1.0), HTML(value='')))"
      ]
     },
     "metadata": {},
     "output_type": "display_data"
    },
    {
     "name": "stdout",
     "output_type": "stream",
     "text": [
      "\n",
      "\n",
      "\n",
      "--- Working on 1-to-1 correspondence-----\n",
      "max(original_labels),len(original_labels) = (2, 3)\n",
      "empty_indices % = 0.010478004849324558\n",
      " conflict_indices % = 0.017405611361274678\n"
     ]
    },
    {
     "data": {
      "application/vnd.jupyter.widget-view+json": {
       "model_id": "72bc67f412b147f3af90a7e1dd282ea9",
       "version_major": 2,
       "version_minor": 0
      },
      "text/plain": [
       "HBox(children=(FloatProgress(value=0.0, max=2.0), HTML(value='')))"
      ]
     },
     "metadata": {},
     "output_type": "display_data"
    },
    {
     "name": "stdout",
     "output_type": "stream",
     "text": [
      "\n",
      "AFTER face_lookup_resolved_test\n"
     ]
    },
    {
     "data": {
      "application/vnd.jupyter.widget-view+json": {
       "model_id": "a91fea924e1f4bc9aeb5c58c7e7ec6b8",
       "version_major": 2,
       "version_minor": 0
      },
      "text/plain": [
       "HBox(children=(FloatProgress(value=0.0, max=3.0), HTML(value='')))"
      ]
     },
     "metadata": {},
     "output_type": "display_data"
    },
    {
     "name": "stdout",
     "output_type": "stream",
     "text": [
      "\n",
      "MP_branches_with_stitch_point= [0, 3]\n",
      "MP_branches_for_correspondence = [0 3]\n",
      "MP_leftover = [], MP_leftover_idx = []\n",
      " Finished with (3, 0) \n",
      "\n",
      "\n",
      "\n",
      "\n",
      "---- Working on (4, 0) connection-----\n",
      "Current stitch point was not a branch or endpoint, shortest_path_length to one = 11960.331747855245\n",
      "conn = [0]\n",
      "winning_vertex = [ 734287.53037833  476896.77996404 1064793.88014785]\n",
      "MP_branches_with_stitch_point = [0]\n",
      "MAP_branches_with_stitch_point = [1]\n",
      "MAP_stitch_point_on_end_or_branch = False\n",
      "Using max stitch distance (300) for smoothing because stitch_distance greater (852.6091233734825) \n",
      "Found winning edge: [101, 104.0]\n",
      "in remove edge\n"
     ]
    },
    {
     "data": {
      "application/vnd.jupyter.widget-view+json": {
       "model_id": "feb93ba792bd4d9b8b46295664bceff8",
       "version_major": 2,
       "version_minor": 0
      },
      "text/plain": [
       "HBox(children=(FloatProgress(value=1.0, bar_style='info', max=1.0), HTML(value='')))"
      ]
     },
     "metadata": {},
     "output_type": "display_data"
    },
    {
     "name": "stdout",
     "output_type": "stream",
     "text": [
      "\n",
      "\n",
      "\n",
      "--- Working on 1-to-1 correspondence-----\n",
      "max(original_labels),len(original_labels) = (1, 2)\n",
      "empty_indices % = 0.08064516129032258\n",
      " conflict_indices % = 0.0021994134897360706\n"
     ]
    },
    {
     "data": {
      "application/vnd.jupyter.widget-view+json": {
       "model_id": "7de0eaecfe194ddea4bd7813f1b29682",
       "version_major": 2,
       "version_minor": 0
      },
      "text/plain": [
       "HBox(children=(FloatProgress(value=0.0, max=6.0), HTML(value='')))"
      ]
     },
     "metadata": {},
     "output_type": "display_data"
    },
    {
     "name": "stdout",
     "output_type": "stream",
     "text": [
      "\n",
      "AFTER face_lookup_resolved_test\n"
     ]
    },
    {
     "data": {
      "application/vnd.jupyter.widget-view+json": {
       "model_id": "61f1065a3dac489080e1112731599957",
       "version_major": 2,
       "version_minor": 0
      },
      "text/plain": [
       "HBox(children=(FloatProgress(value=0.0, max=2.0), HTML(value='')))"
      ]
     },
     "metadata": {},
     "output_type": "display_data"
    },
    {
     "name": "stdout",
     "output_type": "stream",
     "text": [
      "\n"
     ]
    },
    {
     "data": {
      "application/vnd.jupyter.widget-view+json": {
       "model_id": "0981a48c77534941be2f3491649a18f3",
       "version_major": 2,
       "version_minor": 0
      },
      "text/plain": [
       "HBox(children=(FloatProgress(value=1.0, bar_style='info', max=1.0), HTML(value='')))"
      ]
     },
     "metadata": {},
     "output_type": "display_data"
    },
    {
     "name": "stdout",
     "output_type": "stream",
     "text": [
      "\n",
      "\n",
      "\n",
      "--- Working on 1-to-1 correspondence-----\n",
      "max(original_labels),len(original_labels) = (2, 3)\n",
      "empty_indices % = 0.03907059345863549\n",
      " conflict_indices % = 0.006585762912535148\n"
     ]
    },
    {
     "data": {
      "application/vnd.jupyter.widget-view+json": {
       "model_id": "5e45083d72c2409e87ff41733f9aa6cc",
       "version_major": 2,
       "version_minor": 0
      },
      "text/plain": [
       "HBox(children=(FloatProgress(value=0.0, max=2.0), HTML(value='')))"
      ]
     },
     "metadata": {},
     "output_type": "display_data"
    },
    {
     "name": "stdout",
     "output_type": "stream",
     "text": [
      "\n",
      "AFTER face_lookup_resolved_test\n"
     ]
    },
    {
     "data": {
      "application/vnd.jupyter.widget-view+json": {
       "model_id": "32983109124c4d628efbd08bc3d521c8",
       "version_major": 2,
       "version_minor": 0
      },
      "text/plain": [
       "HBox(children=(FloatProgress(value=0.0, max=3.0), HTML(value='')))"
      ]
     },
     "metadata": {},
     "output_type": "display_data"
    },
    {
     "name": "stderr",
     "output_type": "stream",
     "text": [
      "\r",
      "  0%|          | 0/1 [00:00<?, ?it/s]"
     ]
    },
    {
     "name": "stdout",
     "output_type": "stream",
     "text": [
      "\n",
      "Deleting branches from dictionary\n",
      "MP_branches_with_stitch_point= [0]\n",
      "MP_branches_for_correspondence = [0]\n",
      "MP_leftover = [], MP_leftover_idx = []\n",
      " Finished with (4, 0) \n",
      "\n",
      "\n",
      "\n",
      "Time for decomp of Limb = 33.035340309143066\n",
      "\n",
      "\n",
      "----- Working on Proper Limb # 5 ---------\n",
      "meshparty_segment_size = 100\n",
      "Time for preparing soma vertices and root: 5.9604644775390625e-06\n",
      "cc_vertex_thresh = 10\n"
     ]
    },
    {
     "data": {
      "application/vnd.jupyter.widget-view+json": {
       "model_id": "8c463a09eed7467eaf6c0cb42c4334f4",
       "version_major": 2,
       "version_minor": 0
      },
      "text/plain": [
       "HBox(children=(FloatProgress(value=0.0, max=32547.0), HTML(value='')))"
      ]
     },
     "metadata": {},
     "output_type": "display_data"
    },
    {
     "name": "stderr",
     "output_type": "stream",
     "text": [
      "100%|██████████| 1/1 [00:00<00:00,  3.25it/s]"
     ]
    },
    {
     "name": "stdout",
     "output_type": "stream",
     "text": [
      "\n"
     ]
    },
    {
     "name": "stderr",
     "output_type": "stream",
     "text": [
      "\n"
     ]
    },
    {
     "name": "stdout",
     "output_type": "stream",
     "text": [
      "Time for 1st pass MP skeletonization: 0.6570823192596436\n",
      "branches_touching_root = [4]\n",
      "length of Graph = 4574\n",
      "max(kept_branches_idx) = 14, len(kept_branches_idx) = 15\n",
      "empty_indices % = 0.0\n",
      " conflict_indices % = 0.010136332126627129\n"
     ]
    },
    {
     "data": {
      "application/vnd.jupyter.widget-view+json": {
       "model_id": "e92a4ce855dd4f24bade0fe86696080d",
       "version_major": 2,
       "version_minor": 0
      },
      "text/plain": [
       "HBox(children=(FloatProgress(value=0.0, max=7.0), HTML(value='')))"
      ]
     },
     "metadata": {},
     "output_type": "display_data"
    },
    {
     "name": "stdout",
     "output_type": "stream",
     "text": [
      "\n",
      "AFTER face_lookup_resolved_test\n"
     ]
    },
    {
     "data": {
      "application/vnd.jupyter.widget-view+json": {
       "model_id": "f8d6df2a76e04f059fe9d812d8d2d4da",
       "version_major": 2,
       "version_minor": 0
      },
      "text/plain": [
       "HBox(children=(FloatProgress(value=0.0, max=15.0), HTML(value='')))"
      ]
     },
     "metadata": {},
     "output_type": "display_data"
    },
    {
     "name": "stdout",
     "output_type": "stream",
     "text": [
      "\n",
      "Decomposing first pass: 3.2212893962860107\n",
      "Attempting to use MeshAfterParty Skeletonization and Mesh Correspondence\n",
      "Another print\n",
      "Found len(mesh_large_idx) MAP candidates: [1322, 1665, 3905, 2451, 1365]\n",
      "mesh_large_connectivity: 0.034759521484375\n",
      "Finding MAP candidates connected components: 0.000133514404296875\n",
      "len(filtered_pieces) = 1\n",
      "skeleton_connectivity_MP : 0.18399691581726074\n",
      "Grouping MP Sublimbs by Graph: 0.028479814529418945\n",
      "Divinding into MP and MAP pieces: 7.152557373046875e-07\n",
      "--- Working on MAP piece 0---\n",
      "MAP Filtering Soma Pieces: 0.0021533966064453125\n",
      "inside skeletonize_connected_branch and use_surface_after_CGAL=False, surface_reconstruction_size=1000\n",
      "     Starting Screened Poisson\n",
      "xvfb-run -n 2184 -s \"-screen 0 800x600x24\" meshlabserver $@  -i /notebooks/Platinum_Decomp_Fusion/temp/None.off -o /notebooks/Platinum_Decomp_Fusion/temp/None_poisson.off -s /notebooks/Platinum_Decomp_Fusion/temp/poisson_386657.mls\n",
      "removed temporary input file: /notebooks/Platinum_Decomp_Fusion/temp/None.off\n",
      "removed temporary output file: /notebooks/Platinum_Decomp_Fusion/temp/None_poisson.off\n",
      "Using the close holes feature\n",
      "xvfb-run -n 3194 -s \"-screen 0 800x600x24\" meshlabserver $@  -i /notebooks/Platinum_Decomp_Fusion/temp/neuron_13569.off -o /notebooks/Platinum_Decomp_Fusion/temp/neuron_13569_fill_holes.off -s /notebooks/Platinum_Decomp_Fusion/temp/fill_holes_378313.mls\n",
      "removed temporary input file: /notebooks/Platinum_Decomp_Fusion/temp/neuron_13569.off\n",
      "removed temporary output file: /notebooks/Platinum_Decomp_Fusion/temp/neuron_13569_fill_holes.off\n",
      "-----Time for Screened Poisson= 9.203863620758057\n",
      "     Starting Calcification\n"
     ]
    },
    {
     "data": {
      "application/vnd.jupyter.widget-view+json": {
       "model_id": "6afa1f11539047299645c68ead8b9a2f",
       "version_major": 2,
       "version_minor": 0
      },
      "text/plain": [
       "HBox(children=(FloatProgress(value=1.0, bar_style='info', max=1.0), HTML(value='')))"
      ]
     },
     "metadata": {},
     "output_type": "display_data"
    },
    {
     "name": "stdout",
     "output_type": "stream",
     "text": [
      "\n",
      "No skeletons to stack so returning empty list\n",
      "len_subgraphs AT BEGINNING of the loop\n"
     ]
    },
    {
     "data": {
      "application/vnd.jupyter.widget-view+json": {
       "model_id": "f291c133e0d54f0cb398bd0c536e63dc",
       "version_major": 2,
       "version_minor": 0
      },
      "text/plain": [
       "HBox(children=(FloatProgress(value=0.0, max=2.0), HTML(value='')))"
      ]
     },
     "metadata": {},
     "output_type": "display_data"
    },
    {
     "name": "stdout",
     "output_type": "stream",
     "text": [
      "all graph is one component!\n",
      "\n",
      "Total time for skeleton stitching = 0.03323984146118164\n",
      "The process was using a temp folder\n",
      "Checking connected components after skeletonize_connected_branch\n",
      "    Total time for skeletonizing branch: 10.667157411575317\n",
      "Checking connected components after removing cycles\n",
      "Total time for mesh KDTree = 0.09708666801452637\n",
      "sbv[0].reshape(-1,3) = [[ 739000.4  530102.4 1048182. ]]\n",
      "closest_sk_pt_coord BEFORE = [ 739717.  531860. 1048570.]\n",
      "current_skeleton.shape = (103, 2, 3)\n",
      "Current stitch point was a branch or endpoint\n",
      "change_status for create soma extending pieces = False\n",
      "closest_sk_pt_coord AFTER = [ 739717.  531860. 1048570.]\n",
      "skipping soma 0 because closest skeleton node was already end node\n",
      "endpoints_must_keep = {0: array([[ 739717.,  531860., 1048570.]])}\n",
      "    Total time for Fixing Skeleton Soma Endpoint Extension : 0.14559531211853027\n",
      "filter_end_node_length = 4001\n",
      "Using Distance measure skeletal_distance\n",
      "endpoints_must_keep = [[ 739717.  531860. 1048570.]]\n",
      "Number of end_nodes BEFORE filtering = 3\n",
      "all_single_nodes_to_eliminate = [1]\n",
      "no small end nodes to get rid of so returning whole skeleton\n",
      "Checking connected components after clean_skeleton\n",
      "after DISTANCE cleaning limb size of skeleton = (103, 2, 3)\n",
      "********COMBINING CLOSE SKELETON NODES WITHIN 700 DISTANCE**********\n",
      "Found 0 valid paths to replace\n",
      "valid_paths = []\n",
      "valid_path_lengths = []\n",
      "No valid paths found so just returning the original\n",
      "skeletonize_and_clean_connected_branch_CGAL: 10.888760805130005\n",
      "Working on limb correspondence for #0 MAP piece\n"
     ]
    },
    {
     "data": {
      "application/vnd.jupyter.widget-view+json": {
       "model_id": "c79a52a07c7d48d986f176d8b4120f6a",
       "version_major": 2,
       "version_minor": 0
      },
      "text/plain": [
       "HBox(children=(FloatProgress(value=1.0, bar_style='info', max=1.0), HTML(value='')))"
      ]
     },
     "metadata": {},
     "output_type": "display_data"
    },
    {
     "name": "stdout",
     "output_type": "stream",
     "text": [
      "\n",
      "Total time for decomposition = 0.8839478492736816\n",
      "mesh_correspondence_first_pass: 0.8839797973632812\n",
      "Limb decomposed into 3 branches\n",
      "divided_skeleton_graph_recovered = (103, 2, 3) and \n",
      "current_mesh_data[0]['branch_skeletons_cleaned'].shape = (103, 2, 3)\n",
      "\n",
      "Number of connected components in deocmposed recovered graph = 1\n",
      "Number of connected components in cleaned skeleton graph= 1\n",
      "The downsampled branches number of connected components = 1\n",
      "Empty submeshes = []\n",
      "\n",
      "\n",
      "--- Working on 1-to-1 correspondence-----\n",
      "max(original_labels),len(original_labels) = (2, 3)\n",
      "empty_indices % = 0.06751961150541651\n",
      " conflict_indices % = 0.019144564811355996\n"
     ]
    },
    {
     "data": {
      "application/vnd.jupyter.widget-view+json": {
       "model_id": "93fd716dbb7147958d5e73bc746bc8e6",
       "version_major": 2,
       "version_minor": 0
      },
      "text/plain": [
       "HBox(children=(FloatProgress(value=0.0, max=7.0), HTML(value='')))"
      ]
     },
     "metadata": {},
     "output_type": "display_data"
    },
    {
     "name": "stdout",
     "output_type": "stream",
     "text": [
      "\n",
      "AFTER face_lookup_resolved_test\n",
      "Took 0 iterations to expand the label back\n",
      "empty_indices % = 0.0\n",
      " conflict_indices % = 0.0\n"
     ]
    },
    {
     "data": {
      "application/vnd.jupyter.widget-view+json": {
       "model_id": "c468299a45154de3ab3b490b61532c40",
       "version_major": 2,
       "version_minor": 0
      },
      "text/plain": [
       "HBox(children=(FloatProgress(value=1.0, bar_style='info', max=1.0), HTML(value='')))"
      ]
     },
     "metadata": {},
     "output_type": "display_data"
    },
    {
     "name": "stdout",
     "output_type": "stream",
     "text": [
      "\n",
      "AFTER face_lookup_resolved_test\n"
     ]
    },
    {
     "data": {
      "application/vnd.jupyter.widget-view+json": {
       "model_id": "ca37a2e64e264996aeac23fae6c7ce7a",
       "version_major": 2,
       "version_minor": 0
      },
      "text/plain": [
       "HBox(children=(FloatProgress(value=0.0, max=3.0), HTML(value='')))"
      ]
     },
     "metadata": {},
     "output_type": "display_data"
    },
    {
     "name": "stdout",
     "output_type": "stream",
     "text": [
      "\n",
      "Total time for MAP sublimb #0 mesh processing = 12.248282670974731\n",
      "correspondence_1_to_1: 0.47322845458984375\n",
      "Total time for MAP sublimb processing 12.248384475708008\n",
      "---- Working on MP Decomposition #0 ----\n",
      "Computing the current soma touching verts dict manually\n",
      "MP filtering soma verts: 0.0034215450286865234\n",
      "Do Not Need to Fix MP Decomposition 0 so just continuing\n",
      "---- Working on MP Decomposition #1 ----\n",
      "Computing the current soma touching verts dict manually\n",
      "MP filtering soma verts: 0.002994537353515625\n",
      "Do Not Need to Fix MP Decomposition 1 so just continuing\n",
      "---- Working on MP Decomposition #2 ----\n",
      "Computing the current soma touching verts dict manually\n",
      "MP filtering soma verts: 0.0030410289764404297\n",
      "Do Not Need to Fix MP Decomposition 2 so just continuing\n",
      "---- Working on MP Decomposition #3 ----\n",
      "Computing the current soma touching verts dict manually\n",
      "MP filtering soma verts: 0.0006113052368164062\n",
      "Do Not Need to Fix MP Decomposition 3 so just continuing\n",
      "\n",
      "---- Working on (0, 0) connection-----\n",
      "Current stitch point was a branch or endpoint\n",
      "conn = [1, 4]\n",
      "winning_vertex = [ 738913.9926195   553781.08188185 1046881.61743166]\n",
      "MP_branches_with_stitch_point = [1, 4]\n",
      "MAP_branches_with_stitch_point = [0]\n",
      "MAP_stitch_point_on_end_or_branch = True\n",
      "Using max stitch distance (300) for smoothing because stitch_distance greater (668.8238847542772) \n",
      "Found winning edge: [30, 31.0]\n",
      "in remove edge\n",
      "Using max stitch distance (300) for smoothing because stitch_distance greater (671.9075983661671) \n",
      "Found winning edge: [737, 738.0]\n",
      "in remove edge\n"
     ]
    },
    {
     "data": {
      "application/vnd.jupyter.widget-view+json": {
       "model_id": "28a128923c324e19a92b5a73ea1184b4",
       "version_major": 2,
       "version_minor": 0
      },
      "text/plain": [
       "HBox(children=(FloatProgress(value=1.0, bar_style='info', max=1.0), HTML(value='')))"
      ]
     },
     "metadata": {},
     "output_type": "display_data"
    },
    {
     "name": "stdout",
     "output_type": "stream",
     "text": [
      "\n",
      "\n",
      "\n",
      "--- Working on 1-to-1 correspondence-----\n",
      "max(original_labels),len(original_labels) = (2, 3)\n",
      "empty_indices % = 0.0359581881533101\n",
      " conflict_indices % = 0.025505226480836238\n"
     ]
    },
    {
     "data": {
      "application/vnd.jupyter.widget-view+json": {
       "model_id": "9b5d274876744047bf4a4a7fed43fc6a",
       "version_major": 2,
       "version_minor": 0
      },
      "text/plain": [
       "HBox(children=(FloatProgress(value=0.0, max=3.0), HTML(value='')))"
      ]
     },
     "metadata": {},
     "output_type": "display_data"
    },
    {
     "name": "stdout",
     "output_type": "stream",
     "text": [
      "\n",
      "AFTER face_lookup_resolved_test\n"
     ]
    },
    {
     "data": {
      "application/vnd.jupyter.widget-view+json": {
       "model_id": "0820fcdfef5444c3b8cd412676de9a28",
       "version_major": 2,
       "version_minor": 0
      },
      "text/plain": [
       "HBox(children=(FloatProgress(value=0.0, max=3.0), HTML(value='')))"
      ]
     },
     "metadata": {},
     "output_type": "display_data"
    },
    {
     "name": "stdout",
     "output_type": "stream",
     "text": [
      "\n",
      "MP_branches_with_stitch_point= [1, 4]\n",
      "MP_branches_for_correspondence = [1 4]\n",
      "MP_leftover = [], MP_leftover_idx = []\n",
      " Finished with (0, 0) \n",
      "\n",
      "\n",
      "\n",
      "\n",
      "---- Working on (1, 0) connection-----\n",
      "Current stitch point was a branch or endpoint\n",
      "conn = [0, 1]\n",
      "winning_vertex = [ 760060.93920922  535295.33651426 1058524.04372762]\n",
      "MP_branches_with_stitch_point = [0, 1]\n",
      "MAP_branches_with_stitch_point = [2]\n",
      "MAP_stitch_point_on_end_or_branch = True\n",
      "Using max stitch distance (300) for smoothing because stitch_distance greater (1144.8778702747613) \n",
      "Found winning edge: [9, 10.0]\n",
      "in remove edge\n",
      "Using max stitch distance (300) for smoothing because stitch_distance greater (1056.56571089549) \n",
      "Found winning edge: [343, 344.0]\n",
      "in remove edge\n"
     ]
    },
    {
     "data": {
      "application/vnd.jupyter.widget-view+json": {
       "model_id": "89fa459b74f14e0cb152508cff5d22db",
       "version_major": 2,
       "version_minor": 0
      },
      "text/plain": [
       "HBox(children=(FloatProgress(value=1.0, bar_style='info', max=1.0), HTML(value='')))"
      ]
     },
     "metadata": {},
     "output_type": "display_data"
    },
    {
     "name": "stdout",
     "output_type": "stream",
     "text": [
      "\n",
      "\n",
      "\n",
      "--- Working on 1-to-1 correspondence-----\n",
      "max(original_labels),len(original_labels) = (2, 3)\n",
      "empty_indices % = 0.07825682201664048\n",
      " conflict_indices % = 0.011985803223366499\n"
     ]
    },
    {
     "data": {
      "application/vnd.jupyter.widget-view+json": {
       "model_id": "7cd3990b04834d0fb31ca6c3e6fd02e7",
       "version_major": 2,
       "version_minor": 0
      },
      "text/plain": [
       "HBox(children=(FloatProgress(value=0.0, max=12.0), HTML(value='')))"
      ]
     },
     "metadata": {},
     "output_type": "display_data"
    },
    {
     "name": "stdout",
     "output_type": "stream",
     "text": [
      "\n",
      "AFTER face_lookup_resolved_test\n"
     ]
    },
    {
     "data": {
      "application/vnd.jupyter.widget-view+json": {
       "model_id": "eee8e4225bbe4dbb9fc61e39db0f8793",
       "version_major": 2,
       "version_minor": 0
      },
      "text/plain": [
       "HBox(children=(FloatProgress(value=0.0, max=3.0), HTML(value='')))"
      ]
     },
     "metadata": {},
     "output_type": "display_data"
    },
    {
     "name": "stdout",
     "output_type": "stream",
     "text": [
      "\n",
      "MP_branches_with_stitch_point= [0, 1]\n",
      "MP_branches_for_correspondence = [0 1]\n",
      "MP_leftover = [], MP_leftover_idx = []\n",
      " Finished with (1, 0) \n",
      "\n",
      "\n",
      "\n",
      "\n",
      "---- Working on (2, 0) connection-----\n",
      "Current stitch point was not a branch or endpoint, shortest_path_length to one = 7315.513064635675\n",
      "conn = [0]\n",
      "winning_vertex = [ 741943.41873088  550117.86516192 1051305.88169787]\n",
      "MP_branches_with_stitch_point = [0]\n",
      "MAP_branches_with_stitch_point = [0]\n",
      "MAP_stitch_point_on_end_or_branch = False\n",
      "Using max stitch distance (300) for smoothing because stitch_distance greater (557.7747904981131) \n",
      "Found winning edge: [9, 10.0]\n",
      "in remove edge\n"
     ]
    },
    {
     "data": {
      "application/vnd.jupyter.widget-view+json": {
       "model_id": "0183e6477b2c4142a6db03d49c27325a",
       "version_major": 2,
       "version_minor": 0
      },
      "text/plain": [
       "HBox(children=(FloatProgress(value=1.0, bar_style='info', max=1.0), HTML(value='')))"
      ]
     },
     "metadata": {},
     "output_type": "display_data"
    },
    {
     "name": "stdout",
     "output_type": "stream",
     "text": [
      "\n",
      "\n",
      "\n",
      "--- Working on 1-to-1 correspondence-----\n",
      "max(original_labels),len(original_labels) = (1, 2)\n",
      "empty_indices % = 0.06387808041504539\n",
      " conflict_indices % = 0.009079118028534372\n"
     ]
    },
    {
     "data": {
      "application/vnd.jupyter.widget-view+json": {
       "model_id": "5353e299aa21465dae8242f961eafde6",
       "version_major": 2,
       "version_minor": 0
      },
      "text/plain": [
       "HBox(children=(FloatProgress(value=0.0, max=6.0), HTML(value='')))"
      ]
     },
     "metadata": {},
     "output_type": "display_data"
    },
    {
     "name": "stdout",
     "output_type": "stream",
     "text": [
      "\n",
      "AFTER face_lookup_resolved_test\n"
     ]
    },
    {
     "data": {
      "application/vnd.jupyter.widget-view+json": {
       "model_id": "fadb94c88be4480f80b6261ea960feb9",
       "version_major": 2,
       "version_minor": 0
      },
      "text/plain": [
       "HBox(children=(FloatProgress(value=0.0, max=2.0), HTML(value='')))"
      ]
     },
     "metadata": {},
     "output_type": "display_data"
    },
    {
     "name": "stdout",
     "output_type": "stream",
     "text": [
      "\n"
     ]
    },
    {
     "data": {
      "application/vnd.jupyter.widget-view+json": {
       "model_id": "a8a0210a74824d699f540cf4cf41e85e",
       "version_major": 2,
       "version_minor": 0
      },
      "text/plain": [
       "HBox(children=(FloatProgress(value=1.0, bar_style='info', max=1.0), HTML(value='')))"
      ]
     },
     "metadata": {},
     "output_type": "display_data"
    },
    {
     "name": "stdout",
     "output_type": "stream",
     "text": [
      "\n",
      "\n",
      "\n",
      "--- Working on 1-to-1 correspondence-----\n",
      "max(original_labels),len(original_labels) = (2, 3)\n",
      "empty_indices % = 0.06200317965023847\n",
      " conflict_indices % = 0.02215818759936407\n"
     ]
    },
    {
     "data": {
      "application/vnd.jupyter.widget-view+json": {
       "model_id": "495a98308219406dbf8f02615b1f5bd4",
       "version_major": 2,
       "version_minor": 0
      },
      "text/plain": [
       "HBox(children=(FloatProgress(value=0.0, max=8.0), HTML(value='')))"
      ]
     },
     "metadata": {},
     "output_type": "display_data"
    },
    {
     "name": "stdout",
     "output_type": "stream",
     "text": [
      "\n",
      "AFTER face_lookup_resolved_test\n"
     ]
    },
    {
     "data": {
      "application/vnd.jupyter.widget-view+json": {
       "model_id": "2df6912394894184ad569145ea6e9881",
       "version_major": 2,
       "version_minor": 0
      },
      "text/plain": [
       "HBox(children=(FloatProgress(value=0.0, max=3.0), HTML(value='')))"
      ]
     },
     "metadata": {},
     "output_type": "display_data"
    },
    {
     "name": "stdout",
     "output_type": "stream",
     "text": [
      "\n",
      "Deleting branches from dictionary\n",
      "MP_branches_with_stitch_point= [0]\n",
      "MP_branches_for_correspondence = [0]\n",
      "MP_leftover = [], MP_leftover_idx = []\n",
      " Finished with (2, 0) \n",
      "\n",
      "\n",
      "\n",
      "\n",
      "---- Working on (3, 0) connection-----\n",
      "Current stitch point was not a branch or endpoint, shortest_path_length to one = 7349.265124942369\n",
      "conn = [0]\n",
      "winning_vertex = [ 750147.38580931  543418.4683605  1049675.4152032 ]\n",
      "MP_branches_with_stitch_point = [0]\n",
      "MAP_branches_with_stitch_point = [2]\n",
      "MAP_stitch_point_on_end_or_branch = False\n",
      "Found winning edge: [543, 546.0]\n",
      "in remove edge\n"
     ]
    },
    {
     "data": {
      "application/vnd.jupyter.widget-view+json": {
       "model_id": "3c90b21b88b546d39231c64c1db43df9",
       "version_major": 2,
       "version_minor": 0
      },
      "text/plain": [
       "HBox(children=(FloatProgress(value=1.0, bar_style='info', max=1.0), HTML(value='')))"
      ]
     },
     "metadata": {},
     "output_type": "display_data"
    },
    {
     "name": "stdout",
     "output_type": "stream",
     "text": [
      "\n",
      "\n",
      "\n",
      "--- Working on 1-to-1 correspondence-----\n",
      "max(original_labels),len(original_labels) = (1, 2)\n",
      "empty_indices % = 0.05331939362258233\n",
      " conflict_indices % = 0.0023523261892315736\n"
     ]
    },
    {
     "data": {
      "application/vnd.jupyter.widget-view+json": {
       "model_id": "2dc77dd208d941669cbf7dc8f9f978a1",
       "version_major": 2,
       "version_minor": 0
      },
      "text/plain": [
       "HBox(children=(FloatProgress(value=0.0, max=5.0), HTML(value='')))"
      ]
     },
     "metadata": {},
     "output_type": "display_data"
    },
    {
     "name": "stdout",
     "output_type": "stream",
     "text": [
      "\n",
      "AFTER face_lookup_resolved_test\n"
     ]
    },
    {
     "data": {
      "application/vnd.jupyter.widget-view+json": {
       "model_id": "703a8ce14fa946da899eb7555d7a391e",
       "version_major": 2,
       "version_minor": 0
      },
      "text/plain": [
       "HBox(children=(FloatProgress(value=0.0, max=2.0), HTML(value='')))"
      ]
     },
     "metadata": {},
     "output_type": "display_data"
    },
    {
     "name": "stdout",
     "output_type": "stream",
     "text": [
      "\n"
     ]
    },
    {
     "data": {
      "application/vnd.jupyter.widget-view+json": {
       "model_id": "7aba0db1cb1443ec97327b5a4cf3a245",
       "version_major": 2,
       "version_minor": 0
      },
      "text/plain": [
       "HBox(children=(FloatProgress(value=1.0, bar_style='info', max=1.0), HTML(value='')))"
      ]
     },
     "metadata": {},
     "output_type": "display_data"
    },
    {
     "name": "stdout",
     "output_type": "stream",
     "text": [
      "\n",
      "\n",
      "\n",
      "--- Working on 1-to-1 correspondence-----\n",
      "max(original_labels),len(original_labels) = (2, 3)\n",
      "empty_indices % = 0.06347617140568683\n",
      " conflict_indices % = 0.01802162595114137\n"
     ]
    },
    {
     "data": {
      "application/vnd.jupyter.widget-view+json": {
       "model_id": "d991055ef3ef4e4ba972aed3286aa26f",
       "version_major": 2,
       "version_minor": 0
      },
      "text/plain": [
       "HBox(children=(FloatProgress(value=0.0, max=5.0), HTML(value='')))"
      ]
     },
     "metadata": {},
     "output_type": "display_data"
    },
    {
     "name": "stdout",
     "output_type": "stream",
     "text": [
      "\n",
      "AFTER face_lookup_resolved_test\n"
     ]
    },
    {
     "data": {
      "application/vnd.jupyter.widget-view+json": {
       "model_id": "f9b283bcd3ff49bca9dc32476a33e359",
       "version_major": 2,
       "version_minor": 0
      },
      "text/plain": [
       "HBox(children=(FloatProgress(value=0.0, max=3.0), HTML(value='')))"
      ]
     },
     "metadata": {},
     "output_type": "display_data"
    },
    {
     "name": "stdout",
     "output_type": "stream",
     "text": [
      "\n"
     ]
    },
    {
     "name": "stderr",
     "output_type": "stream",
     "text": [
      "\r",
      "  0%|          | 0/1 [00:00<?, ?it/s]"
     ]
    },
    {
     "name": "stdout",
     "output_type": "stream",
     "text": [
      "Deleting branches from dictionary\n",
      "MP_branches_with_stitch_point= [0]\n",
      "MP_branches_for_correspondence = [0]\n",
      "MP_leftover = [], MP_leftover_idx = []\n",
      " Finished with (3, 0) \n",
      "\n",
      "\n",
      "\n",
      "Time for decomp of Limb = 28.751365900039673\n",
      "\n",
      "\n",
      "----- Working on Proper Limb # 6 ---------\n",
      "meshparty_segment_size = 100\n",
      "Time for preparing soma vertices and root: 6.198883056640625e-06\n",
      "cc_vertex_thresh = 10\n"
     ]
    },
    {
     "data": {
      "application/vnd.jupyter.widget-view+json": {
       "model_id": "02f5d2e51e724b15a8aa89863c2ca7a1",
       "version_major": 2,
       "version_minor": 0
      },
      "text/plain": [
       "HBox(children=(FloatProgress(value=0.0, max=26229.0), HTML(value='')))"
      ]
     },
     "metadata": {},
     "output_type": "display_data"
    },
    {
     "name": "stderr",
     "output_type": "stream",
     "text": [
      "100%|██████████| 1/1 [00:00<00:00,  3.77it/s]"
     ]
    },
    {
     "name": "stdout",
     "output_type": "stream",
     "text": [
      "\n"
     ]
    },
    {
     "name": "stderr",
     "output_type": "stream",
     "text": [
      "\n"
     ]
    },
    {
     "name": "stdout",
     "output_type": "stream",
     "text": [
      "Time for 1st pass MP skeletonization: 0.5686085224151611\n",
      "connecting at the root\n",
      "branches_touching_root = [18]\n",
      "length of Graph = 3680\n",
      "max(kept_branches_idx) = 18, len(kept_branches_idx) = 19\n",
      "empty_indices % = 0.0\n",
      " conflict_indices % = 0.013698368423063696\n"
     ]
    },
    {
     "data": {
      "application/vnd.jupyter.widget-view+json": {
       "model_id": "54e8834e6f784445a3fcd7de52609209",
       "version_major": 2,
       "version_minor": 0
      },
      "text/plain": [
       "HBox(children=(FloatProgress(value=0.0, max=9.0), HTML(value='')))"
      ]
     },
     "metadata": {},
     "output_type": "display_data"
    },
    {
     "name": "stdout",
     "output_type": "stream",
     "text": [
      "\n",
      "AFTER face_lookup_resolved_test\n"
     ]
    },
    {
     "data": {
      "application/vnd.jupyter.widget-view+json": {
       "model_id": "c731f7d1ae29477c8eae4fc066862ad7",
       "version_major": 2,
       "version_minor": 0
      },
      "text/plain": [
       "HBox(children=(FloatProgress(value=0.0, max=19.0), HTML(value='')))"
      ]
     },
     "metadata": {},
     "output_type": "display_data"
    },
    {
     "name": "stdout",
     "output_type": "stream",
     "text": [
      "\n",
      "Decomposing first pass: 1.9848620891571045\n",
      "Attempting to use MeshAfterParty Skeletonization and Mesh Correspondence\n",
      "Another print\n",
      "Found len(mesh_large_idx) MAP candidates: [823, 1420, 3002, 232, 1464]\n",
      "mesh_large_connectivity: 0.025910377502441406\n",
      "Finding MAP candidates connected components: 0.000125885009765625\n",
      "len(filtered_pieces) = 1\n",
      "skeleton_connectivity_MP : 0.14388036727905273\n",
      "Grouping MP Sublimbs by Graph: 0.028549909591674805\n",
      "Divinding into MP and MAP pieces: 1.1920928955078125e-06\n",
      "--- Working on MAP piece 0---\n",
      "MAP Filtering Soma Pieces: 0.003599882125854492\n",
      "inside skeletonize_connected_branch and use_surface_after_CGAL=False, surface_reconstruction_size=1000\n",
      "     Starting Screened Poisson\n",
      "xvfb-run -n 3779 -s \"-screen 0 800x600x24\" meshlabserver $@  -i /notebooks/Platinum_Decomp_Fusion/temp/None.off -o /notebooks/Platinum_Decomp_Fusion/temp/None_poisson.off -s /notebooks/Platinum_Decomp_Fusion/temp/poisson_529143.mls\n",
      "removed temporary input file: /notebooks/Platinum_Decomp_Fusion/temp/None.off\n",
      "removed temporary output file: /notebooks/Platinum_Decomp_Fusion/temp/None_poisson.off\n",
      "Using the close holes feature\n",
      "xvfb-run -n 6701 -s \"-screen 0 800x600x24\" meshlabserver $@  -i /notebooks/Platinum_Decomp_Fusion/temp/neuron_72882.off -o /notebooks/Platinum_Decomp_Fusion/temp/neuron_72882_fill_holes.off -s /notebooks/Platinum_Decomp_Fusion/temp/fill_holes_736171.mls\n",
      "removed temporary input file: /notebooks/Platinum_Decomp_Fusion/temp/neuron_72882.off\n",
      "removed temporary output file: /notebooks/Platinum_Decomp_Fusion/temp/neuron_72882_fill_holes.off\n",
      "-----Time for Screened Poisson= 8.347496271133423\n",
      "     Starting Calcification\n"
     ]
    },
    {
     "data": {
      "application/vnd.jupyter.widget-view+json": {
       "model_id": "6e839abde3db4038ba2f30f2feb12c07",
       "version_major": 2,
       "version_minor": 0
      },
      "text/plain": [
       "HBox(children=(FloatProgress(value=1.0, bar_style='info', max=1.0), HTML(value='')))"
      ]
     },
     "metadata": {},
     "output_type": "display_data"
    },
    {
     "name": "stdout",
     "output_type": "stream",
     "text": [
      "\n",
      "No skeletons to stack so returning empty list\n",
      "len_subgraphs AT BEGINNING of the loop\n"
     ]
    },
    {
     "data": {
      "application/vnd.jupyter.widget-view+json": {
       "model_id": "ef2a305d3ee84f87af6942188c1cd7ad",
       "version_major": 2,
       "version_minor": 0
      },
      "text/plain": [
       "HBox(children=(FloatProgress(value=0.0, max=1.0), HTML(value='')))"
      ]
     },
     "metadata": {},
     "output_type": "display_data"
    },
    {
     "name": "stdout",
     "output_type": "stream",
     "text": [
      "all graph is one component!\n",
      "\n",
      "Total time for skeleton stitching = 0.024588823318481445\n",
      "The process was using a temp folder\n",
      "Checking connected components after skeletonize_connected_branch\n",
      "    Total time for skeletonizing branch: 9.294341325759888\n",
      "Checking connected components after removing cycles\n",
      "Total time for mesh KDTree = 0.042160749435424805\n",
      "sbv[0].reshape(-1,3) = [[ 735089.2  522215.6 1042922. ]]\n",
      "closest_sk_pt_coord BEFORE = [ 735457.  522766. 1040590.]\n",
      "current_skeleton.shape = (80, 2, 3)\n",
      "Current stitch point was a branch or endpoint\n",
      "change_status for create soma extending pieces = False\n",
      "closest_sk_pt_coord AFTER = [ 735457.  522766. 1040590.]\n",
      "skipping soma 0 because closest skeleton node was already end node\n",
      "endpoints_must_keep = {0: array([[ 735457.,  522766., 1040590.]])}\n",
      "    Total time for Fixing Skeleton Soma Endpoint Extension : 0.09177613258361816\n",
      "filter_end_node_length = 4001\n",
      "Using Distance measure skeletal_distance\n",
      "endpoints_must_keep = [[ 735457.  522766. 1040590.]]\n",
      "Number of end_nodes BEFORE filtering = 4\n",
      "all_single_nodes_to_eliminate = [2]\n"
     ]
    },
    {
     "data": {
      "application/vnd.jupyter.widget-view+json": {
       "model_id": "4e969b3295e74dd1bbb47b259234cab7",
       "version_major": 2,
       "version_minor": 0
      },
      "text/plain": [
       "HBox(children=(FloatProgress(value=0.0, max=2.0), HTML(value='')))"
      ]
     },
     "metadata": {},
     "output_type": "display_data"
    },
    {
     "name": "stdout",
     "output_type": "stream",
     "text": [
      "\n",
      "Checking connected components after clean_skeleton\n",
      "after DISTANCE cleaning limb size of skeleton = (71, 2, 3)\n",
      "********COMBINING CLOSE SKELETON NODES WITHIN 700 DISTANCE**********\n",
      "Found 0 valid paths to replace\n",
      "valid_paths = []\n",
      "valid_path_lengths = []\n",
      "No valid paths found so just returning the original\n",
      "skeletonize_and_clean_connected_branch_CGAL: 9.46490478515625\n",
      "Working on limb correspondence for #0 MAP piece\n"
     ]
    },
    {
     "data": {
      "application/vnd.jupyter.widget-view+json": {
       "model_id": "9b922123ce7a44f9ad6e53c2893667e7",
       "version_major": 2,
       "version_minor": 0
      },
      "text/plain": [
       "HBox(children=(FloatProgress(value=1.0, bar_style='info', max=1.0), HTML(value='')))"
      ]
     },
     "metadata": {},
     "output_type": "display_data"
    },
    {
     "name": "stdout",
     "output_type": "stream",
     "text": [
      "\n",
      "Total time for decomposition = 0.5195918083190918\n",
      "mesh_correspondence_first_pass: 0.5196256637573242\n",
      "Limb decomposed into 1 branches\n",
      "divided_skeleton_graph_recovered = (71, 2, 3) and \n",
      "current_mesh_data[0]['branch_skeletons_cleaned'].shape = (71, 2, 3)\n",
      "\n",
      "Number of connected components in deocmposed recovered graph = 1\n",
      "Number of connected components in cleaned skeleton graph= 1\n",
      "The downsampled branches number of connected components = 1\n",
      "Empty submeshes = []\n",
      "\n",
      "\n",
      "--- Working on 1-to-1 correspondence-----\n",
      "max(original_labels),len(original_labels) = (0, 1)\n",
      "empty_indices % = 0.17634346635931422\n",
      " conflict_indices % = 0.0\n"
     ]
    },
    {
     "data": {
      "application/vnd.jupyter.widget-view+json": {
       "model_id": "97b792b7202b46f0a0f5422ff8728c42",
       "version_major": 2,
       "version_minor": 0
      },
      "text/plain": [
       "HBox(children=(FloatProgress(value=0.0, max=6.0), HTML(value='')))"
      ]
     },
     "metadata": {},
     "output_type": "display_data"
    },
    {
     "name": "stdout",
     "output_type": "stream",
     "text": [
      "\n",
      "AFTER face_lookup_resolved_test\n",
      "Took 0 iterations to expand the label back\n",
      "empty_indices % = 0.0\n",
      " conflict_indices % = 0.0\n"
     ]
    },
    {
     "data": {
      "application/vnd.jupyter.widget-view+json": {
       "model_id": "6e669ab6df06456c891ad8d6107b7a15",
       "version_major": 2,
       "version_minor": 0
      },
      "text/plain": [
       "HBox(children=(FloatProgress(value=1.0, bar_style='info', max=1.0), HTML(value='')))"
      ]
     },
     "metadata": {},
     "output_type": "display_data"
    },
    {
     "name": "stdout",
     "output_type": "stream",
     "text": [
      "\n",
      "AFTER face_lookup_resolved_test\n"
     ]
    },
    {
     "data": {
      "application/vnd.jupyter.widget-view+json": {
       "model_id": "bf09ab5992634b5488b1f4b075116e37",
       "version_major": 2,
       "version_minor": 0
      },
      "text/plain": [
       "HBox(children=(FloatProgress(value=0.0, max=1.0), HTML(value='')))"
      ]
     },
     "metadata": {},
     "output_type": "display_data"
    },
    {
     "name": "stdout",
     "output_type": "stream",
     "text": [
      "\n",
      "Total time for MAP sublimb #0 mesh processing = 10.32048749923706\n",
      "correspondence_1_to_1: 0.33231282234191895\n",
      "Total time for MAP sublimb processing 10.320582151412964\n",
      "---- Working on MP Decomposition #0 ----\n",
      "Computing the current soma touching verts dict manually\n",
      "MP filtering soma verts: 0.0029387474060058594\n",
      "Do Not Need to Fix MP Decomposition 0 so just continuing\n",
      "---- Working on MP Decomposition #1 ----\n",
      "Computing the current soma touching verts dict manually\n",
      "MP filtering soma verts: 0.0035657882690429688\n",
      "Do Not Need to Fix MP Decomposition 1 so just continuing\n",
      "---- Working on MP Decomposition #2 ----\n",
      "Computing the current soma touching verts dict manually\n",
      "MP filtering soma verts: 0.002963542938232422\n",
      "Do Not Need to Fix MP Decomposition 2 so just continuing\n",
      "---- Working on MP Decomposition #3 ----\n",
      "Computing the current soma touching verts dict manually\n",
      "MP filtering soma verts: 0.0053806304931640625\n",
      "Do Not Need to Fix MP Decomposition 3 so just continuing\n",
      "\n",
      "---- Working on (0, 0) connection-----\n",
      "Current stitch point was not a branch or endpoint, shortest_path_length to one = 15535.185947651617\n",
      "conn = [0, 3]\n",
      "winning_vertex = [ 729264.09679218  529148.11414168 1026826.43004653]\n",
      "MP_branches_with_stitch_point = [0, 3]\n",
      "MAP_branches_with_stitch_point = [0]\n",
      "MAP_stitch_point_on_end_or_branch = False\n",
      "Using max stitch distance (300) for smoothing because stitch_distance greater (4004.648322124566) \n",
      "Found winning edge: [0, 3.0]\n",
      "in remove edge\n",
      "Using max stitch distance (300) for smoothing because stitch_distance greater (4029.7717401160708) \n",
      "Found winning edge: [11, 12.0]\n",
      "in remove edge\n"
     ]
    },
    {
     "data": {
      "application/vnd.jupyter.widget-view+json": {
       "model_id": "103dc96d2b85408787cc44ffd01f3523",
       "version_major": 2,
       "version_minor": 0
      },
      "text/plain": [
       "HBox(children=(FloatProgress(value=1.0, bar_style='info', max=1.0), HTML(value='')))"
      ]
     },
     "metadata": {},
     "output_type": "display_data"
    },
    {
     "name": "stdout",
     "output_type": "stream",
     "text": [
      "\n",
      "\n",
      "\n",
      "--- Working on 1-to-1 correspondence-----\n",
      "max(original_labels),len(original_labels) = (1, 2)\n",
      "empty_indices % = 0.1930557556548048\n",
      " conflict_indices % = 0.006771358593862556\n"
     ]
    },
    {
     "data": {
      "application/vnd.jupyter.widget-view+json": {
       "model_id": "d1801a2f769b4972b832546bff13f978",
       "version_major": 2,
       "version_minor": 0
      },
      "text/plain": [
       "HBox(children=(FloatProgress(value=0.0, max=9.0), HTML(value='')))"
      ]
     },
     "metadata": {},
     "output_type": "display_data"
    },
    {
     "name": "stdout",
     "output_type": "stream",
     "text": [
      "\n",
      "AFTER face_lookup_resolved_test\n"
     ]
    },
    {
     "data": {
      "application/vnd.jupyter.widget-view+json": {
       "model_id": "f72e34521c2d46d39f7a118648588a42",
       "version_major": 2,
       "version_minor": 0
      },
      "text/plain": [
       "HBox(children=(FloatProgress(value=0.0, max=2.0), HTML(value='')))"
      ]
     },
     "metadata": {},
     "output_type": "display_data"
    },
    {
     "name": "stdout",
     "output_type": "stream",
     "text": [
      "\n"
     ]
    },
    {
     "data": {
      "application/vnd.jupyter.widget-view+json": {
       "model_id": "2f67394bb11f4be1a038d87df2840106",
       "version_major": 2,
       "version_minor": 0
      },
      "text/plain": [
       "HBox(children=(FloatProgress(value=1.0, bar_style='info', max=1.0), HTML(value='')))"
      ]
     },
     "metadata": {},
     "output_type": "display_data"
    },
    {
     "name": "stdout",
     "output_type": "stream",
     "text": [
      "\n",
      "\n",
      "\n",
      "--- Working on 1-to-1 correspondence-----\n",
      "max(original_labels),len(original_labels) = (3, 4)\n",
      "empty_indices % = 0.10579393627954779\n",
      " conflict_indices % = 0.0030190133607399796\n"
     ]
    },
    {
     "data": {
      "application/vnd.jupyter.widget-view+json": {
       "model_id": "94a47cd2e8de4c62be78de5f6d1b887d",
       "version_major": 2,
       "version_minor": 0
      },
      "text/plain": [
       "HBox(children=(FloatProgress(value=0.0, max=6.0), HTML(value='')))"
      ]
     },
     "metadata": {},
     "output_type": "display_data"
    },
    {
     "name": "stdout",
     "output_type": "stream",
     "text": [
      "\n",
      "AFTER face_lookup_resolved_test\n"
     ]
    },
    {
     "data": {
      "application/vnd.jupyter.widget-view+json": {
       "model_id": "ca2cb934b3be410f87a212bd4d549f79",
       "version_major": 2,
       "version_minor": 0
      },
      "text/plain": [
       "HBox(children=(FloatProgress(value=0.0, max=4.0), HTML(value='')))"
      ]
     },
     "metadata": {},
     "output_type": "display_data"
    },
    {
     "name": "stdout",
     "output_type": "stream",
     "text": [
      "\n",
      "Deleting branches from dictionary\n",
      "MP_branches_with_stitch_point= [0, 3]\n",
      "MP_branches_for_correspondence = [0 3]\n",
      "MP_leftover = [], MP_leftover_idx = []\n",
      " Finished with (0, 0) \n",
      "\n",
      "\n",
      "\n",
      "\n",
      "---- Working on (1, 0) connection-----\n",
      "Current stitch point was not a branch or endpoint, shortest_path_length to one = 3709.134520659061\n",
      "conn = [2]\n",
      "winning_vertex = [ 734902.07756359  522444.01779369 1036139.61909309]\n",
      "MP_branches_with_stitch_point = [2]\n",
      "MAP_branches_with_stitch_point = [0]\n",
      "MAP_stitch_point_on_end_or_branch = False\n",
      "Using max stitch distance (300) for smoothing because stitch_distance greater (937.3541981291838) \n",
      "Found winning edge: [175, 178.0]\n",
      "in remove edge\n"
     ]
    },
    {
     "data": {
      "application/vnd.jupyter.widget-view+json": {
       "model_id": "939bf72dc16f4fe987abf95175d1d607",
       "version_major": 2,
       "version_minor": 0
      },
      "text/plain": [
       "HBox(children=(FloatProgress(value=1.0, bar_style='info', max=1.0), HTML(value='')))"
      ]
     },
     "metadata": {},
     "output_type": "display_data"
    },
    {
     "name": "stdout",
     "output_type": "stream",
     "text": [
      "\n",
      "\n",
      "\n",
      "--- Working on 1-to-1 correspondence-----\n",
      "max(original_labels),len(original_labels) = (1, 2)\n",
      "empty_indices % = 0.3255603350690514\n",
      " conflict_indices % = 0.002716776092370387\n"
     ]
    },
    {
     "data": {
      "application/vnd.jupyter.widget-view+json": {
       "model_id": "b9720a680c114b488d98f9b08c9cf949",
       "version_major": 2,
       "version_minor": 0
      },
      "text/plain": [
       "HBox(children=(FloatProgress(value=0.0, max=4.0), HTML(value='')))"
      ]
     },
     "metadata": {},
     "output_type": "display_data"
    },
    {
     "name": "stdout",
     "output_type": "stream",
     "text": [
      "\n",
      "AFTER face_lookup_resolved_test\n"
     ]
    },
    {
     "data": {
      "application/vnd.jupyter.widget-view+json": {
       "model_id": "dcfc965869e148d6bdf3e00aaa5b4b22",
       "version_major": 2,
       "version_minor": 0
      },
      "text/plain": [
       "HBox(children=(FloatProgress(value=0.0, max=2.0), HTML(value='')))"
      ]
     },
     "metadata": {},
     "output_type": "display_data"
    },
    {
     "name": "stdout",
     "output_type": "stream",
     "text": [
      "\n"
     ]
    },
    {
     "data": {
      "application/vnd.jupyter.widget-view+json": {
       "model_id": "e512b44bdda6405c8815b776ee2a11bb",
       "version_major": 2,
       "version_minor": 0
      },
      "text/plain": [
       "HBox(children=(FloatProgress(value=1.0, bar_style='info', max=1.0), HTML(value='')))"
      ]
     },
     "metadata": {},
     "output_type": "display_data"
    },
    {
     "name": "stdout",
     "output_type": "stream",
     "text": [
      "\n",
      "\n",
      "\n",
      "--- Working on 1-to-1 correspondence-----\n",
      "max(original_labels),len(original_labels) = (2, 3)\n",
      "empty_indices % = 0.20986301369863014\n",
      " conflict_indices % = 0.019726027397260273\n"
     ]
    },
    {
     "data": {
      "application/vnd.jupyter.widget-view+json": {
       "model_id": "6b26a549da524fe1a4bcd42c96c9343c",
       "version_major": 2,
       "version_minor": 0
      },
      "text/plain": [
       "HBox(children=(FloatProgress(value=0.0, max=4.0), HTML(value='')))"
      ]
     },
     "metadata": {},
     "output_type": "display_data"
    },
    {
     "name": "stdout",
     "output_type": "stream",
     "text": [
      "\n",
      "AFTER face_lookup_resolved_test\n"
     ]
    },
    {
     "data": {
      "application/vnd.jupyter.widget-view+json": {
       "model_id": "f1ecfe48a45e4df0a89512b33c0e153f",
       "version_major": 2,
       "version_minor": 0
      },
      "text/plain": [
       "HBox(children=(FloatProgress(value=0.0, max=3.0), HTML(value='')))"
      ]
     },
     "metadata": {},
     "output_type": "display_data"
    },
    {
     "name": "stdout",
     "output_type": "stream",
     "text": [
      "\n",
      "Deleting branches from dictionary\n",
      "MP_branches_with_stitch_point= [2]\n",
      "MP_branches_for_correspondence = [2]\n",
      "MP_leftover = [], MP_leftover_idx = []\n",
      " Finished with (1, 0) \n",
      "\n",
      "\n",
      "\n",
      "\n",
      "---- Working on (2, 0) connection-----\n",
      "Current stitch point was a branch or endpoint\n",
      "conn = [0, 1]\n",
      "winning_vertex = [ 741064.31864598  530171.45750314 1015579.21819019]\n",
      "MP_branches_with_stitch_point = [0, 1]\n",
      "MAP_branches_with_stitch_point = [1]\n",
      "MAP_stitch_point_on_end_or_branch = True\n",
      "Using max stitch distance (300) for smoothing because stitch_distance greater (665.5383988964076) \n",
      "Found winning edge: [0, 2.0]\n",
      "in remove edge\n",
      "Using max stitch distance (300) for smoothing because stitch_distance greater (819.064581110991) \n",
      "Found winning edge: [9, 10.0]\n",
      "in remove edge\n"
     ]
    },
    {
     "data": {
      "application/vnd.jupyter.widget-view+json": {
       "model_id": "97cf4624502d41f9a5564a274e2e3864",
       "version_major": 2,
       "version_minor": 0
      },
      "text/plain": [
       "HBox(children=(FloatProgress(value=1.0, bar_style='info', max=1.0), HTML(value='')))"
      ]
     },
     "metadata": {},
     "output_type": "display_data"
    },
    {
     "name": "stdout",
     "output_type": "stream",
     "text": [
      "\n",
      "\n",
      "\n",
      "--- Working on 1-to-1 correspondence-----\n",
      "max(original_labels),len(original_labels) = (2, 3)\n",
      "empty_indices % = 0.0847520355292376\n",
      " conflict_indices % = 0.006291635825314582\n"
     ]
    },
    {
     "data": {
      "application/vnd.jupyter.widget-view+json": {
       "model_id": "5bc0aa8c3b21434bab7cfb281eae4361",
       "version_major": 2,
       "version_minor": 0
      },
      "text/plain": [
       "HBox(children=(FloatProgress(value=0.0, max=3.0), HTML(value='')))"
      ]
     },
     "metadata": {},
     "output_type": "display_data"
    },
    {
     "name": "stdout",
     "output_type": "stream",
     "text": [
      "\n",
      "AFTER face_lookup_resolved_test\n"
     ]
    },
    {
     "data": {
      "application/vnd.jupyter.widget-view+json": {
       "model_id": "820dde26090c4ca080af5feadb7fbe09",
       "version_major": 2,
       "version_minor": 0
      },
      "text/plain": [
       "HBox(children=(FloatProgress(value=0.0, max=3.0), HTML(value='')))"
      ]
     },
     "metadata": {},
     "output_type": "display_data"
    },
    {
     "name": "stdout",
     "output_type": "stream",
     "text": [
      "\n",
      "MP_branches_with_stitch_point= [0, 1]\n",
      "MP_branches_for_correspondence = [0 1]\n",
      "MP_leftover = [], MP_leftover_idx = []\n",
      " Finished with (2, 0) \n",
      "\n",
      "\n",
      "\n",
      "\n",
      "---- Working on (3, 0) connection-----\n",
      "Current stitch point was not a branch or endpoint, shortest_path_length to one = 12544.423965039443\n",
      "conn = [0]\n",
      "winning_vertex = [ 733618.88211595  526104.56046803 1029204.96511349]\n",
      "MP_branches_with_stitch_point = [0]\n",
      "MAP_branches_with_stitch_point = [0]\n",
      "MAP_stitch_point_on_end_or_branch = False\n",
      "Using max stitch distance (300) for smoothing because stitch_distance greater (842.5957111080822) \n",
      "Found winning edge: [9, 10.0]\n",
      "in remove edge\n"
     ]
    },
    {
     "data": {
      "application/vnd.jupyter.widget-view+json": {
       "model_id": "3122bdff61834d6387b721f713049734",
       "version_major": 2,
       "version_minor": 0
      },
      "text/plain": [
       "HBox(children=(FloatProgress(value=1.0, bar_style='info', max=1.0), HTML(value='')))"
      ]
     },
     "metadata": {},
     "output_type": "display_data"
    },
    {
     "name": "stdout",
     "output_type": "stream",
     "text": [
      "\n",
      "\n",
      "\n",
      "--- Working on 1-to-1 correspondence-----\n",
      "max(original_labels),len(original_labels) = (1, 2)\n",
      "empty_indices % = 0.3755431409062694\n",
      " conflict_indices % = 0.0\n"
     ]
    },
    {
     "data": {
      "application/vnd.jupyter.widget-view+json": {
       "model_id": "520283bd32a446e5904f31747e5e6c40",
       "version_major": 2,
       "version_minor": 0
      },
      "text/plain": [
       "HBox(children=(FloatProgress(value=0.0, max=3.0), HTML(value='')))"
      ]
     },
     "metadata": {},
     "output_type": "display_data"
    },
    {
     "name": "stdout",
     "output_type": "stream",
     "text": [
      "\n",
      "AFTER face_lookup_resolved_test\n"
     ]
    },
    {
     "data": {
      "application/vnd.jupyter.widget-view+json": {
       "model_id": "7749f07c6fa34b58ae60b1a032d670f4",
       "version_major": 2,
       "version_minor": 0
      },
      "text/plain": [
       "HBox(children=(FloatProgress(value=0.0, max=2.0), HTML(value='')))"
      ]
     },
     "metadata": {},
     "output_type": "display_data"
    },
    {
     "name": "stdout",
     "output_type": "stream",
     "text": [
      "\n"
     ]
    },
    {
     "data": {
      "application/vnd.jupyter.widget-view+json": {
       "model_id": "f6fc351e461045d1bfe2e82f5342a56b",
       "version_major": 2,
       "version_minor": 0
      },
      "text/plain": [
       "HBox(children=(FloatProgress(value=1.0, bar_style='info', max=1.0), HTML(value='')))"
      ]
     },
     "metadata": {},
     "output_type": "display_data"
    },
    {
     "name": "stdout",
     "output_type": "stream",
     "text": [
      "\n",
      "\n",
      "\n",
      "--- Working on 1-to-1 correspondence-----\n",
      "max(original_labels),len(original_labels) = (2, 3)\n",
      "empty_indices % = 0.17453310696095076\n",
      " conflict_indices % = 0.013695529145444255\n"
     ]
    },
    {
     "data": {
      "application/vnd.jupyter.widget-view+json": {
       "model_id": "36dcf7d165cb4e9a8f6dec48154d02a2",
       "version_major": 2,
       "version_minor": 0
      },
      "text/plain": [
       "HBox(children=(FloatProgress(value=0.0, max=4.0), HTML(value='')))"
      ]
     },
     "metadata": {},
     "output_type": "display_data"
    },
    {
     "name": "stdout",
     "output_type": "stream",
     "text": [
      "\n",
      "AFTER face_lookup_resolved_test\n"
     ]
    },
    {
     "data": {
      "application/vnd.jupyter.widget-view+json": {
       "model_id": "d73a286512ed4899809e5404b9775b16",
       "version_major": 2,
       "version_minor": 0
      },
      "text/plain": [
       "HBox(children=(FloatProgress(value=0.0, max=3.0), HTML(value='')))"
      ]
     },
     "metadata": {},
     "output_type": "display_data"
    },
    {
     "name": "stdout",
     "output_type": "stream",
     "text": [
      "\n",
      "Deleting branches from dictionary\n",
      "MP_branches_with_stitch_point= [0]\n",
      "MP_branches_for_correspondence = [0]\n",
      "MP_leftover = [], MP_leftover_idx = []\n",
      " Finished with (3, 0) \n",
      "\n",
      "\n",
      "\n",
      "Time for decomp of Limb = 22.181946992874146\n",
      "Total time for Skeletonization and Mesh Correspondence = 665.7414033412933\n",
      "\n",
      "\n",
      " ----- Working on Stitching ----------\n",
      "Total time for stitching floating pieces = 0.0009055137634277344\n",
      "Starting_edge inside branches_to_conept = [[ 711161.59748815  557401.58604565 1035019.31028436]\n",
      " [ 733647.87075699  529342.73033283 1046151.80285342]]\n",
      "At the start, starting_node (in terms of the skeleton, that shouldn't match the starting edge) = [436]\n",
      "printing out current edge:\n",
      "[[ 733647.87075699  529342.73033283 1046151.80285342]\n",
      " [ 711161.59748815  557401.58604565 1035019.31028436]]\n",
      "edge_endpoints_to_process was empty so exiting loop after 591 iterations\n",
      "starting_node in concept map (that should match the starting edge) = 590\n",
      "Total time for branches to concept conversion = 12.485137939453125\n",
      "\n",
      "Done generating concept network \n",
      "\n",
      "\n",
      "recovered_touching_piece = [590]\n",
      "Starting_edge inside branches_to_conept = [[ 744591.08717949  519141.76410256 1054715.33333333]\n",
      " [ 745731.          518915.         1055180.        ]]\n",
      "At the start, starting_node (in terms of the skeleton, that shouldn't match the starting edge) = [7]\n",
      "printing out current edge:\n",
      "[[ 744591.08717949  519141.76410256 1054715.33333333]\n",
      " [ 745731.          518915.         1055180.        ]]\n",
      "edge_endpoints_to_process was empty so exiting loop after 52 iterations\n",
      "starting_node in concept map (that should match the starting edge) = 1\n",
      "Total time for branches to concept conversion = 0.7526347637176514\n",
      "\n",
      "Done generating concept network \n",
      "\n",
      "\n",
      "recovered_touching_piece = [1]\n",
      "Starting_edge inside branches_to_conept = [[ 741293.  529417. 1045560.]\n",
      " [ 742909.  537018. 1039410.]]\n",
      "At the start, starting_node (in terms of the skeleton, that shouldn't match the starting edge) = [7]\n",
      "printing out current edge:\n",
      "[[ 741293.  529417. 1045560.]\n",
      " [ 742909.  537018. 1039410.]]\n",
      "edge_endpoints_to_process was empty so exiting loop after 27 iterations\n",
      "starting_node in concept map (that should match the starting edge) = 1\n",
      "Total time for branches to concept conversion = 0.5417137145996094\n",
      "\n",
      "Done generating concept network \n",
      "\n",
      "\n",
      "recovered_touching_piece = [1]\n",
      "Starting_edge inside branches_to_conept = [[ 726565.  526102. 1055640.]\n",
      " [ 730307.  524030. 1054540.]]\n",
      "At the start, starting_node (in terms of the skeleton, that shouldn't match the starting edge) = [26]\n",
      "printing out current edge:\n",
      "[[ 730307.  524030. 1054540.]\n",
      " [ 726565.  526102. 1055640.]]\n",
      "edge_endpoints_to_process was empty so exiting loop after 28 iterations\n",
      "starting_node in concept map (that should match the starting edge) = 6\n",
      "Total time for branches to concept conversion = 0.41503190994262695\n",
      "\n",
      "Done generating concept network \n",
      "\n",
      "\n",
      "recovered_touching_piece = [6]\n",
      "Starting_edge inside branches_to_conept = [[ 735343.  505333. 1057400.]\n",
      " [ 736801.  511765. 1055270.]]\n",
      "At the start, starting_node (in terms of the skeleton, that shouldn't match the starting edge) = [13]\n",
      "printing out current edge:\n",
      "[[ 736801.  511765. 1055270.]\n",
      " [ 735343.  505333. 1057400.]]\n",
      "edge_endpoints_to_process was empty so exiting loop after 21 iterations\n",
      "starting_node in concept map (that should match the starting edge) = 2\n",
      "Total time for branches to concept conversion = 0.36226558685302734\n",
      "\n",
      "Done generating concept network \n",
      "\n",
      "\n",
      "recovered_touching_piece = [2]\n",
      "Starting_edge inside branches_to_conept = [[ 739717.  531860. 1048570.]\n",
      " [ 743100.  542062. 1049180.]]\n",
      "At the start, starting_node (in terms of the skeleton, that shouldn't match the starting edge) = [8]\n",
      "printing out current edge:\n",
      "[[ 739717.  531860. 1048570.]\n",
      " [ 743100.  542062. 1049180.]]\n",
      "edge_endpoints_to_process was empty so exiting loop after 15 iterations\n",
      "starting_node in concept map (that should match the starting edge) = 1\n",
      "Total time for branches to concept conversion = 0.3706364631652832\n",
      "\n",
      "Done generating concept network \n",
      "\n",
      "\n",
      "recovered_touching_piece = [1]\n",
      "Starting_edge inside branches_to_conept = [[ 735294.  522798. 1036910.]\n",
      " [ 735457.  522766. 1040590.]]\n",
      "At the start, starting_node (in terms of the skeleton, that shouldn't match the starting edge) = [13]\n",
      "printing out current edge:\n",
      "[[ 735457.  522766. 1040590.]\n",
      " [ 735294.  522798. 1036910.]]\n",
      "edge_endpoints_to_process was empty so exiting loop after 18 iterations\n",
      "starting_node in concept map (that should match the starting edge) = 2\n",
      "Total time for branches to concept conversion = 0.304124116897583\n",
      "\n",
      "Done generating concept network \n",
      "\n",
      "\n",
      "recovered_touching_piece = [2]\n",
      "Total time for Concept Networks = 22.950165033340454\n",
      "Total time for all mesh and skeletonization decomp = 688.6933176517487\n",
      "--- 1) Finished unpacking preprocessed materials: 861.4260454177856\n",
      "total_edges = [['S0', 'L0'], ['S0', 'L1'], ['S0', 'L2'], ['S0', 'L3'], ['S0', 'L4'], ['S0', 'L5'], ['S0', 'L6']]\n",
      "--- 2) Finished creating neuron connectivity graph: 0.00013566017150878906\n",
      "Having to generate soma_meshes_face_idx because none in preprocessed data\n",
      "--- 3a) Finshed generating soma_meshes_face_idx: 0.8061184883117676\n",
      "Using Poisson Surface Reconstruction for watertightness in soma_volume_ratio\n",
      "xvfb-run -n 4515 -s \"-screen 0 800x600x24\" meshlabserver $@  -i /notebooks/Platinum_Decomp_Fusion/Poisson_temp/neuron_772112.off -o /notebooks/Platinum_Decomp_Fusion/Poisson_temp/neuron_772112_poisson.off -s /notebooks/Platinum_Decomp_Fusion/Poisson_temp/poisson_334240.mls\n",
      "removed temporary input file: /notebooks/Platinum_Decomp_Fusion/Poisson_temp/neuron_772112.off\n",
      "removed temporary output file: /notebooks/Platinum_Decomp_Fusion/Poisson_temp/neuron_772112_poisson.off\n",
      "mesh.is_watertight = True\n",
      "/notebooks/Platinum_Decomp_Fusion/Poisson_temp/poisson_334240.mls is being deleted....\n",
      "--- 3) Finshed generating soma objects and adding them to concept graph: 14.554070949554443\n",
      "--- 4a) Finshed generating curr_limb_meshes_face_idx: 3.5523922443389893\n",
      "curr_limb_concept_networks= {0: [<networkx_utils.GraphOrderedEdges object at 0x7fa23dee3f28>]}\n",
      "concept_network_dict = {0: [<networkx_utils.GraphOrderedEdges object at 0x7fa23dee3f28>]}\n",
      "checking and resolving cycles\n",
      "No cycles to fix\n",
      "curr_limb_concept_networks= {0: [<networkx_utils.GraphOrderedEdges object at 0x7fa20c4f6400>]}\n",
      "concept_network_dict = {0: [<networkx_utils.GraphOrderedEdges object at 0x7fa20c4f6400>]}\n",
      "checking and resolving cycles\n",
      "No cycles to fix\n",
      "curr_limb_concept_networks= {0: [<networkx_utils.GraphOrderedEdges object at 0x7fa23dee3b38>]}\n",
      "concept_network_dict = {0: [<networkx_utils.GraphOrderedEdges object at 0x7fa23dee3b38>]}\n",
      "checking and resolving cycles\n",
      "No cycles to fix\n",
      "curr_limb_concept_networks= {0: [<networkx_utils.GraphOrderedEdges object at 0x7fa20c4f6550>]}\n",
      "concept_network_dict = {0: [<networkx_utils.GraphOrderedEdges object at 0x7fa20c4f6550>]}\n",
      "checking and resolving cycles\n",
      "No cycles to fix\n",
      "curr_limb_concept_networks= {0: [<networkx_utils.GraphOrderedEdges object at 0x7fa23dee3b70>]}\n",
      "concept_network_dict = {0: [<networkx_utils.GraphOrderedEdges object at 0x7fa23dee3b70>]}\n",
      "checking and resolving cycles\n",
      "No cycles to fix\n",
      "curr_limb_concept_networks= {0: [<networkx_utils.GraphOrderedEdges object at 0x7fa23dee3358>]}\n",
      "concept_network_dict = {0: [<networkx_utils.GraphOrderedEdges object at 0x7fa23dee3358>]}\n",
      "checking and resolving cycles\n",
      "No cycles to fix\n",
      "curr_limb_concept_networks= {0: [<networkx_utils.GraphOrderedEdges object at 0x7fa23dee3dd8>]}\n",
      "concept_network_dict = {0: [<networkx_utils.GraphOrderedEdges object at 0x7fa23dee3dd8>]}\n",
      "checking and resolving cycles\n",
      "No cycles to fix\n",
      "--- 4) Finshed generating Limb objects and adding them to concept graph: 7.306598901748657\n",
      "--- 5) SKIPPING Doing the adaptive mesh correspondence on the meshparty preprocessing ---\n",
      "--- 6) SKIPPING Using the computed_attribute_dict to populate neuron attributes ---\n",
      "7) Calculating the spines for the neuorn if do not already exist\n",
      "7a) calculating spines because didn't exist\n",
      "query = median_mesh_center > 200 and n_faces_branch>100\n",
      "smoothness_threshold = 0.08\n",
      "The median_mesh_center was requested but has not already been calculated so calculating now.... \n",
      "Working on limb L0 branch 590\n",
      "Working on limb L0 branch 21\n",
      "Working on limb L0 branch 415\n",
      "Working on limb L0 branch 20\n",
      "Working on limb L0 branch 196\n"
     ]
    },
    {
     "name": "stdout",
     "output_type": "stream",
     "text": [
      "Working on limb L0 branch 19\n",
      "Working on limb L0 branch 50\n",
      "Working on limb L0 branch 195\n",
      "Working on limb L0 branch 210\n",
      "Working on limb L0 branch 18\n",
      "Working on limb L0 branch 259\n",
      "Working on limb L0 branch 49\n",
      "Working on limb L0 branch 576\n",
      "Working on limb L0 branch 194\n",
      "Working on limb L0 branch 295\n",
      "Working on limb L0 branch 209\n",
      "Working on limb L0 branch 254\n",
      "Working on limb L0 branch 17\n",
      "Working on limb L0 branch 34\n",
      "Working on limb L0 branch 48\n",
      "Working on limb L0 branch 123\n",
      "Working on limb L0 branch 193\n",
      "Working on limb L0 branch 474\n",
      "Working on limb L0 branch 253\n",
      "Working on limb L0 branch 548\n",
      "Working on limb L0 branch 16\n",
      "Working on limb L0 branch 518\n",
      "Working on limb L0 branch 33\n",
      "Working on limb L0 branch 126\n",
      "Working on limb L0 branch 47\n",
      "Working on limb L0 branch 314\n",
      "Working on limb L0 branch 122\n",
      "Working on limb L0 branch 183\n",
      "Working on limb L0 branch 15\n",
      "Working on limb L0 branch 219\n",
      "Working on limb L0 branch 32\n",
      "Working on limb L0 branch 511\n",
      "Working on limb L0 branch 125\n",
      "Working on limb L0 branch 189\n",
      "Working on limb L0 branch 46\n",
      "Working on limb L0 branch 470\n",
      "Working on limb L0 branch 313\n",
      "Working on limb L0 branch 419\n",
      "Working on limb L0 branch 121\n",
      "Working on limb L0 branch 236\n",
      "Working on limb L0 branch 182\n",
      "Working on limb L0 branch 252\n",
      "Working on limb L0 branch 14\n",
      "Working on limb L0 branch 62\n",
      "Working on limb L0 branch 31\n",
      "Working on limb L0 branch 99\n",
      "Working on limb L0 branch 124\n",
      "Working on limb L0 branch 552\n",
      "Working on limb L0 branch 188\n",
      "Working on limb L0 branch 397\n",
      "Working on limb L0 branch 45\n",
      "Working on limb L0 branch 245\n",
      "Working on limb L0 branch 418\n",
      "Working on limb L0 branch 492\n",
      "Working on limb L0 branch 120\n",
      "Working on limb L0 branch 266\n",
      "Working on limb L0 branch 235\n",
      "Working on limb L0 branch 296\n",
      "Working on limb L0 branch 13\n",
      "Working on limb L0 branch 360\n",
      "Working on limb L0 branch 61\n",
      "Working on limb L0 branch 550\n",
      "Working on limb L0 branch 30\n",
      "Working on limb L0 branch 477\n",
      "Working on limb L0 branch 98\n",
      "Working on limb L0 branch 238\n",
      "Working on limb L0 branch 187\n",
      "Working on limb L0 branch 490\n",
      "Working on limb L0 branch 396\n",
      "Working on limb L0 branch 585\n",
      "Working on limb L0 branch 44\n",
      "Working on limb L0 branch 138\n",
      "Working on limb L0 branch 244\n",
      "Working on limb L0 branch 289\n",
      "Working on limb L0 branch 417\n",
      "Working on limb L0 branch 491\n",
      "Working on limb L0 branch 265\n",
      "Working on limb L0 branch 321\n",
      "Working on limb L0 branch 12\n",
      "Working on limb L0 branch 80\n",
      "Working on limb L0 branch 359\n",
      "Working on limb L0 branch 529\n",
      "Working on limb L0 branch 60\n",
      "Working on limb L0 branch 174\n",
      "Working on limb L0 branch 29\n",
      "Working on limb L0 branch 493\n",
      "Working on limb L0 branch 476\n",
      "Working on limb L0 branch 584\n",
      "Working on limb L0 branch 97\n",
      "Working on limb L0 branch 165\n",
      "Working on limb L0 branch 237\n",
      "Working on limb L0 branch 345\n",
      "Working on limb L0 branch 186\n",
      "Working on limb L0 branch 191\n",
      "Working on limb L0 branch 43\n",
      "Working on limb L0 branch 204\n",
      "Working on limb L0 branch 137\n",
      "Working on limb L0 branch 190\n",
      "Working on limb L0 branch 243\n",
      "Working on limb L0 branch 457\n",
      "Working on limb L0 branch 288\n",
      "Working on limb L0 branch 327\n",
      "Working on limb L0 branch 264\n",
      "Working on limb L0 branch 371\n",
      "Working on limb L0 branch 320\n",
      "Working on limb L0 branch 324\n",
      "Working on limb L0 branch 482\n",
      "Working on limb L0 branch 11\n",
      "Working on limb L0 branch 246\n",
      "Working on limb L0 branch 79\n",
      "Working on limb L0 branch 88\n",
      "Working on limb L0 branch 59\n",
      "Working on limb L0 branch 414\n",
      "Working on limb L0 branch 96\n",
      "Working on limb L0 branch 273\n",
      "Working on limb L0 branch 323\n",
      "Working on limb L0 branch 425\n",
      "Working on limb L0 branch 437\n",
      "Working on limb L0 branch 504\n",
      "Working on limb L0 branch 536\n",
      "Working on limb L0 branch 344\n",
      "Working on limb L0 branch 528\n",
      "Working on limb L0 branch 185\n",
      "Working on limb L0 branch 501\n",
      "Working on limb L0 branch 42\n",
      "Working on limb L0 branch 164\n",
      "Working on limb L0 branch 581\n",
      "Working on limb L0 branch 136\n",
      "Working on limb L0 branch 562\n",
      "Working on limb L0 branch 242\n",
      "Working on limb L0 branch 307\n",
      "Working on limb L0 branch 287\n",
      "Working on limb L0 branch 451\n",
      "Working on limb L0 branch 263\n",
      "Working on limb L0 branch 570\n",
      "Working on limb L0 branch 370\n",
      "Working on limb L0 branch 586\n",
      "Working on limb L0 branch 319\n",
      "Working on limb L0 branch 503\n",
      "Working on limb L0 branch 10\n",
      "Working on limb L0 branch 338\n",
      "Working on limb L0 branch 78\n",
      "Working on limb L0 branch 382\n",
      "Working on limb L0 branch 87\n",
      "Working on limb L0 branch 430\n",
      "Working on limb L0 branch 58\n",
      "Working on limb L0 branch 176\n",
      "Working on limb L0 branch 413\n",
      "Working on limb L0 branch 526\n",
      "Working on limb L0 branch 95\n",
      "Working on limb L0 branch 119\n",
      "Working on limb L0 branch 322\n",
      "Working on limb L0 branch 544\n",
      "Working on limb L0 branch 527\n",
      "Working on limb L0 branch 539\n",
      "Working on limb L0 branch 184\n",
      "Working on limb L0 branch 346\n",
      "Working on limb L0 branch 41\n",
      "Working on limb L0 branch 229\n",
      "Working on limb L0 branch 294\n",
      "Working on limb L0 branch 163\n",
      "Working on limb L0 branch 208\n",
      "Working on limb L0 branch 135\n",
      "Working on limb L0 branch 369\n",
      "Working on limb L0 branch 306\n",
      "Working on limb L0 branch 520\n",
      "Working on limb L0 branch 286\n",
      "Working on limb L0 branch 342\n",
      "Working on limb L0 branch 450\n",
      "Working on limb L0 branch 461\n",
      "Working on limb L0 branch 318\n",
      "Working on limb L0 branch 543\n",
      "Working on limb L0 branch 9\n",
      "Working on limb L0 branch 361\n",
      "Working on limb L0 branch 433\n",
      "Working on limb L0 branch 557\n",
      "Working on limb L0 branch 337\n",
      "Working on limb L0 branch 525\n",
      "Working on limb L0 branch 77\n",
      "Working on limb L0 branch 316\n",
      "Working on limb L0 branch 381\n",
      "Working on limb L0 branch 460\n",
      "Working on limb L0 branch 86\n",
      "Working on limb L0 branch 484\n",
      "Working on limb L0 branch 57\n",
      "Working on limb L0 branch 227\n",
      "Working on limb L0 branch 412\n",
      "Working on limb L0 branch 485\n",
      "Working on limb L0 branch 94\n",
      "Working on limb L0 branch 386\n",
      "Working on limb L0 branch 118\n",
      "Working on limb L0 branch 203\n",
      "Working on limb L0 branch 453\n",
      "Working on limb L0 branch 293\n",
      "Working on limb L0 branch 496\n",
      "Working on limb L0 branch 207\n",
      "Working on limb L0 branch 343\n",
      "Working on limb L0 branch 134\n",
      "Working on limb L0 branch 388\n",
      "Working on limb L0 branch 368\n",
      "Working on limb L0 branch 394\n",
      "Working on limb L0 branch 285\n",
      "Working on limb L0 branch 519\n",
      "Working on limb L0 branch 341\n",
      "Working on limb L0 branch 403\n",
      "Working on limb L0 branch 8\n",
      "Working on limb L0 branch 53\n",
      "Working on limb L0 branch 432\n",
      "Working on limb L0 branch 464\n",
      "Working on limb L0 branch 336\n",
      "Working on limb L0 branch 452\n",
      "Working on limb L0 branch 555\n",
      "Working on limb L0 branch 588\n",
      "Working on limb L0 branch 76\n",
      "Working on limb L0 branch 172\n",
      "Working on limb L0 branch 333\n",
      "Working on limb L0 branch 315\n",
      "Working on limb L0 branch 407\n",
      "Working on limb L0 branch 380\n",
      "Working on limb L0 branch 456\n",
      "Working on limb L0 branch 459\n",
      "Working on limb L0 branch 580\n",
      "Working on limb L0 branch 85\n",
      "Working on limb L0 branch 206\n",
      "Working on limb L0 branch 325\n",
      "Working on limb L0 branch 56\n",
      "Working on limb L0 branch 251\n",
      "Working on limb L0 branch 312\n",
      "Working on limb L0 branch 428\n",
      "Working on limb L0 branch 226\n",
      "Working on limb L0 branch 366\n",
      "Working on limb L0 branch 411\n",
      "Working on limb L0 branch 440\n",
      "Working on limb L0 branch 385\n",
      "Working on limb L0 branch 514\n",
      "Working on limb L0 branch 117\n",
      "Working on limb L0 branch 129\n",
      "Working on limb L0 branch 202\n",
      "Working on limb L0 branch 274\n",
      "Working on limb L0 branch 390\n",
      "Working on limb L0 branch 133\n",
      "Working on limb L0 branch 162\n",
      "Working on limb L0 branch 393\n",
      "Working on limb L0 branch 524\n",
      "Working on limb L0 branch 284\n",
      "Working on limb L0 branch 540\n",
      "Working on limb L0 branch 402\n",
      "Working on limb L0 branch 506\n",
      "Working on limb L0 branch 7\n",
      "Working on limb L0 branch 489\n",
      "Working on limb L0 branch 52\n",
      "Working on limb L0 branch 213\n",
      "Working on limb L0 branch 463\n",
      "Working on limb L0 branch 510\n",
      "Working on limb L0 branch 75\n",
      "Working on limb L0 branch 330\n",
      "Working on limb L0 branch 171\n",
      "Working on limb L0 branch 421\n",
      "Working on limb L0 branch 332\n",
      "Working on limb L0 branch 436\n",
      "Working on limb L0 branch 84\n",
      "Working on limb L0 branch 278\n",
      "Working on limb L0 branch 55\n",
      "Working on limb L0 branch 547\n",
      "Working on limb L0 branch 250\n",
      "Working on limb L0 branch 326\n",
      "Working on limb L0 branch 383\n",
      "Working on limb L0 branch 311\n",
      "Working on limb L0 branch 434\n",
      "Working on limb L0 branch 225\n",
      "Working on limb L0 branch 262\n",
      "Working on limb L0 branch 384\n",
      "Working on limb L0 branch 579\n",
      "Working on limb L0 branch 116\n",
      "Working on limb L0 branch 154\n",
      "Working on limb L0 branch 128\n",
      "Working on limb L0 branch 155\n"
     ]
    },
    {
     "name": "stdout",
     "output_type": "stream",
     "text": [
      "Working on limb L0 branch 255\n",
      "Working on limb L0 branch 389\n",
      "Working on limb L0 branch 559\n",
      "Working on limb L0 branch 132\n",
      "Working on limb L0 branch 538\n",
      "Working on limb L0 branch 161\n",
      "Working on limb L0 branch 269\n",
      "Working on limb L0 branch 392\n",
      "Working on limb L0 branch 561\n",
      "Working on limb L0 branch 401\n",
      "Working on limb L0 branch 521\n",
      "Working on limb L0 branch 6\n",
      "Working on limb L0 branch 106\n",
      "Working on limb L0 branch 488\n",
      "Working on limb L0 branch 573\n",
      "Working on limb L0 branch 51\n",
      "Working on limb L0 branch 83\n",
      "Working on limb L0 branch 223\n",
      "Working on limb L0 branch 212\n",
      "Working on limb L0 branch 429\n",
      "Working on limb L0 branch 462\n",
      "Working on limb L0 branch 575\n",
      "Working on limb L0 branch 74\n",
      "Working on limb L0 branch 569\n",
      "Working on limb L0 branch 329\n",
      "Working on limb L0 branch 498\n",
      "Working on limb L0 branch 170\n",
      "Working on limb L0 branch 228\n",
      "Working on limb L0 branch 331\n",
      "Working on limb L0 branch 522\n",
      "Working on limb L0 branch 435\n",
      "Working on limb L0 branch 515\n",
      "Working on limb L0 branch 54\n",
      "Working on limb L0 branch 169\n",
      "Working on limb L0 branch 546\n",
      "Working on limb L0 branch 563\n",
      "Working on limb L0 branch 249\n",
      "Working on limb L0 branch 446\n",
      "Working on limb L0 branch 310\n",
      "Working on limb L0 branch 410\n",
      "Working on limb L0 branch 224\n",
      "Working on limb L0 branch 497\n",
      "Working on limb L0 branch 153\n",
      "Working on limb L0 branch 192\n",
      "Working on limb L0 branch 241\n",
      "Working on limb L0 branch 127\n",
      "Working on limb L0 branch 152\n",
      "Working on limb L0 branch 180\n",
      "Working on limb L0 branch 468\n",
      "Working on limb L0 branch 131\n",
      "Working on limb L0 branch 248\n",
      "Working on limb L0 branch 160\n",
      "Working on limb L0 branch 317\n",
      "Working on limb L0 branch 400\n",
      "Working on limb L0 branch 471\n",
      "Working on limb L0 branch 5\n",
      "Working on limb L0 branch 300\n",
      "Working on limb L0 branch 439\n",
      "Working on limb L0 branch 500\n",
      "Working on limb L0 branch 105\n",
      "Working on limb L0 branch 268\n",
      "Working on limb L0 branch 82\n",
      "Working on limb L0 branch 475\n",
      "Working on limb L0 branch 537\n",
      "Working on limb L0 branch 211\n",
      "Working on limb L0 branch 534\n",
      "Working on limb L0 branch 73\n",
      "Working on limb L0 branch 156\n",
      "Working on limb L0 branch 168\n",
      "Working on limb L0 branch 556\n",
      "Working on limb L0 branch 445\n",
      "Working on limb L0 branch 495\n",
      "Working on limb L0 branch 589\n",
      "Working on limb L0 branch 309\n",
      "Working on limb L0 branch 365\n",
      "Working on limb L0 branch 151\n",
      "Working on limb L0 branch 423\n",
      "Working on limb L0 branch 467\n",
      "Working on limb L0 branch 481\n",
      "Working on limb L0 branch 130\n",
      "Working on limb L0 branch 216\n",
      "Working on limb L0 branch 247\n",
      "Working on limb L0 branch 374\n",
      "Working on limb L0 branch 159\n",
      "Working on limb L0 branch 283\n",
      "Working on limb L0 branch 399\n",
      "Working on limb L0 branch 469\n",
      "Working on limb L0 branch 4\n",
      "Working on limb L0 branch 93\n",
      "Working on limb L0 branch 146\n",
      "Working on limb L0 branch 261\n",
      "Working on limb L0 branch 272\n",
      "Working on limb L0 branch 299\n",
      "Working on limb L0 branch 441\n",
      "Working on limb L0 branch 104\n",
      "Working on limb L0 branch 494\n",
      "Working on limb L0 branch 267\n",
      "Working on limb L0 branch 420\n",
      "Working on limb L0 branch 81\n",
      "Working on limb L0 branch 215\n",
      "Working on limb L0 branch 72\n",
      "Working on limb L0 branch 340\n",
      "Working on limb L0 branch 308\n",
      "Working on limb L0 branch 508\n",
      "Working on limb L0 branch 150\n",
      "Working on limb L0 branch 220\n",
      "Working on limb L0 branch 422\n",
      "Working on limb L0 branch 545\n",
      "Working on limb L0 branch 480\n",
      "Working on limb L0 branch 568\n",
      "Working on limb L0 branch 158\n",
      "Working on limb L0 branch 277\n",
      "Working on limb L0 branch 398\n",
      "Working on limb L0 branch 542\n",
      "Working on limb L0 branch 3\n",
      "Working on limb L0 branch 40\n",
      "Working on limb L0 branch 535\n",
      "Working on limb L0 branch 92\n",
      "Working on limb L0 branch 405\n",
      "Working on limb L0 branch 145\n",
      "Working on limb L0 branch 298\n",
      "Working on limb L0 branch 424\n",
      "Working on limb L0 branch 260\n",
      "Working on limb L0 branch 409\n",
      "Working on limb L0 branch 271\n",
      "Working on limb L0 branch 541\n",
      "Working on limb L0 branch 103\n",
      "Working on limb L0 branch 364\n",
      "Working on limb L0 branch 214\n",
      "Working on limb L0 branch 350\n",
      "Working on limb L0 branch 71\n",
      "Working on limb L0 branch 258\n",
      "Working on limb L0 branch 339\n",
      "Working on limb L0 branch 387\n",
      "Working on limb L0 branch 448\n",
      "Working on limb L0 branch 507\n",
      "Working on limb L0 branch 549\n",
      "Working on limb L0 branch 149\n",
      "Working on limb L0 branch 478\n",
      "Working on limb L0 branch 157\n",
      "Working on limb L0 branch 416\n",
      "Working on limb L0 branch 2\n",
      "Working on limb L0 branch 201\n",
      "Working on limb L0 branch 39\n",
      "Working on limb L0 branch 348\n",
      "Working on limb L0 branch 91\n",
      "Working on limb L0 branch 115\n",
      "Working on limb L0 branch 404\n",
      "Working on limb L0 branch 449\n",
      "Working on limb L0 branch 144\n",
      "Working on limb L0 branch 512\n",
      "Working on limb L0 branch 270\n",
      "Working on limb L0 branch 292\n",
      "Working on limb L0 branch 102\n",
      "Working on limb L0 branch 357\n",
      "Working on limb L0 branch 70\n",
      "Working on limb L0 branch 373\n",
      "Working on limb L0 branch 257\n",
      "Working on limb L0 branch 351\n",
      "Working on limb L0 branch 148\n",
      "Working on limb L0 branch 431\n",
      "Working on limb L0 branch 1\n",
      "Working on limb L0 branch 28\n",
      "Working on limb L0 branch 200\n",
      "Working on limb L0 branch 377\n",
      "Working on limb L0 branch 379\n",
      "Working on limb L0 branch 38\n",
      "Working on limb L0 branch 69\n",
      "Working on limb L0 branch 455\n",
      "Working on limb L0 branch 347\n",
      "Working on limb L0 branch 473\n",
      "Working on limb L0 branch 90\n",
      "Working on limb L0 branch 367\n",
      "Working on limb L0 branch 114\n",
      "Working on limb L0 branch 173\n",
      "Working on limb L0 branch 143\n",
      "Working on limb L0 branch 217\n",
      "Working on limb L0 branch 291\n",
      "Working on limb L0 branch 335\n",
      "Working on limb L0 branch 395\n",
      "Working on limb L0 branch 101\n",
      "Working on limb L0 branch 355\n",
      "Working on limb L0 branch 372\n",
      "Working on limb L0 branch 516\n",
      "Working on limb L0 branch 147\n",
      "Working on limb L0 branch 218\n",
      "Working on limb L0 branch 0\n",
      "Working on limb L0 branch 502\n",
      "Working on limb L0 branch 27\n",
      "Working on limb L0 branch 178\n",
      "Working on limb L0 branch 179\n",
      "Working on limb L0 branch 199\n",
      "Working on limb L0 branch 376\n",
      "Working on limb L0 branch 37\n",
      "Working on limb L0 branch 523\n",
      "Working on limb L0 branch 564\n",
      "Working on limb L0 branch 68\n",
      "Working on limb L0 branch 551\n",
      "Working on limb L0 branch 472\n",
      "Working on limb L0 branch 566\n",
      "Working on limb L0 branch 89\n",
      "Working on limb L0 branch 221\n",
      "Working on limb L0 branch 113\n",
      "Working on limb L0 branch 513\n",
      "Working on limb L0 branch 142\n",
      "Working on limb L0 branch 282\n",
      "Working on limb L0 branch 290\n",
      "Working on limb L0 branch 302\n",
      "Working on limb L0 branch 486\n",
      "Working on limb L0 branch 334\n",
      "Working on limb L0 branch 483\n",
      "Working on limb L0 branch 100\n",
      "Working on limb L0 branch 408\n",
      "Working on limb L0 branch 354\n",
      "Working on limb L0 branch 479\n",
      "Working on limb L0 branch 531\n",
      "Working on limb L0 branch 26\n",
      "Working on limb L0 branch 175\n",
      "Working on limb L0 branch 198\n",
      "Working on limb L0 branch 349\n",
      "Working on limb L0 branch 375\n",
      "Working on limb L0 branch 458\n",
      "Working on limb L0 branch 36\n",
      "Working on limb L0 branch 234\n",
      "Working on limb L0 branch 301\n",
      "Working on limb L0 branch 67\n",
      "Working on limb L0 branch 141\n",
      "Working on limb L0 branch 426\n",
      "Working on limb L0 branch 112\n",
      "Working on limb L0 branch 256\n",
      "Working on limb L0 branch 281\n",
      "Working on limb L0 branch 305\n",
      "Working on limb L0 branch 353\n",
      "Working on limb L0 branch 487\n",
      "Working on limb L0 branch 571\n",
      "Working on limb L0 branch 530\n",
      "Working on limb L0 branch 574\n",
      "Working on limb L0 branch 25\n",
      "Working on limb L0 branch 532\n",
      "Working on limb L0 branch 197\n",
      "Working on limb L0 branch 276\n",
      "Working on limb L0 branch 35\n",
      "Working on limb L0 branch 363\n",
      "Working on limb L0 branch 233\n",
      "Working on limb L0 branch 427\n",
      "Working on limb L0 branch 66\n",
      "Working on limb L0 branch 391\n",
      "Working on limb L0 branch 140\n",
      "Working on limb L0 branch 567\n",
      "Working on limb L0 branch 111\n",
      "Working on limb L0 branch 181\n",
      "Working on limb L0 branch 280\n",
      "Working on limb L0 branch 444\n",
      "Working on limb L0 branch 304\n",
      "Working on limb L0 branch 554\n",
      "Working on limb L0 branch 352\n",
      "Working on limb L0 branch 517\n",
      "Working on limb L0 branch 572\n",
      "Working on limb L0 branch 24\n",
      "Working on limb L0 branch 406\n",
      "Working on limb L0 branch 275\n",
      "Working on limb L0 branch 505\n",
      "Working on limb L0 branch 362\n",
      "Working on limb L0 branch 587\n",
      "Working on limb L0 branch 232\n",
      "Working on limb L0 branch 499\n",
      "Working on limb L0 branch 65\n",
      "Working on limb L0 branch 205\n",
      "Working on limb L0 branch 139\n",
      "Working on limb L0 branch 447\n",
      "Working on limb L0 branch 110\n",
      "Working on limb L0 branch 560\n",
      "Working on limb L0 branch 279\n",
      "Working on limb L0 branch 443\n",
      "Working on limb L0 branch 303\n",
      "Working on limb L0 branch 356\n",
      "Working on limb L0 branch 553\n"
     ]
    },
    {
     "name": "stdout",
     "output_type": "stream",
     "text": [
      "Working on limb L0 branch 558\n",
      "Working on limb L0 branch 23\n",
      "Working on limb L0 branch 222\n",
      "Working on limb L0 branch 328\n",
      "Working on limb L0 branch 231\n",
      "Assigning the old width calculation because no valid new widths\n",
      "Working on limb L0 branch 240\n",
      "Working on limb L0 branch 64\n",
      "Working on limb L0 branch 466\n",
      "Working on limb L0 branch 109\n",
      "Working on limb L0 branch 297\n",
      "Working on limb L0 branch 438\n",
      "Working on limb L0 branch 578\n",
      "Working on limb L0 branch 442\n",
      "Working on limb L0 branch 533\n",
      "Working on limb L0 branch 22\n",
      "Working on limb L0 branch 358\n",
      "Working on limb L0 branch 230\n",
      "Working on limb L0 branch 378\n",
      "Working on limb L0 branch 509\n",
      "Working on limb L0 branch 63\n",
      "Working on limb L0 branch 239\n",
      "Working on limb L0 branch 465\n",
      "Working on limb L0 branch 583\n",
      "Working on limb L0 branch 108\n",
      "Working on limb L0 branch 454\n",
      "Working on limb L0 branch 577\n",
      "Working on limb L0 branch 582\n",
      "Working on limb L0 branch 107\n",
      "Working on limb L0 branch 167\n",
      "Working on limb L0 branch 177\n",
      "Working on limb L0 branch 166\n",
      "Working on limb L0 branch 565\n",
      "Working on limb L1 branch 1\n",
      "Working on limb L1 branch 2\n",
      "Working on limb L1 branch 3\n",
      "Working on limb L1 branch 4\n",
      "Working on limb L1 branch 13\n",
      "Working on limb L1 branch 5\n",
      "Working on limb L1 branch 6\n",
      "Working on limb L1 branch 7\n",
      "Working on limb L1 branch 21\n",
      "Working on limb L1 branch 30\n",
      "Working on limb L1 branch 12\n",
      "Working on limb L1 branch 48\n",
      "Working on limb L1 branch 50\n",
      "Working on limb L1 branch 51\n",
      "Working on limb L1 branch 38\n",
      "Working on limb L1 branch 42\n",
      "Working on limb L1 branch 8\n",
      "Working on limb L1 branch 9\n",
      "Working on limb L1 branch 20\n",
      "Working on limb L1 branch 24\n",
      "Working on limb L1 branch 29\n",
      "Working on limb L1 branch 0\n",
      "Working on limb L1 branch 32\n",
      "Working on limb L1 branch 33\n",
      "Working on limb L1 branch 34\n",
      "Working on limb L1 branch 37\n",
      "Working on limb L1 branch 15\n",
      "Working on limb L1 branch 17\n",
      "Working on limb L1 branch 10\n",
      "Working on limb L1 branch 11\n",
      "Working on limb L1 branch 19\n",
      "Working on limb L1 branch 27\n",
      "Working on limb L1 branch 23\n",
      "Working on limb L1 branch 25\n",
      "Working on limb L1 branch 22\n",
      "Assigning the old width calculation because no valid new widths\n",
      "Working on limb L1 branch 28\n",
      "Working on limb L1 branch 36\n",
      "Working on limb L1 branch 43\n",
      "Working on limb L1 branch 16\n",
      "Working on limb L1 branch 18\n",
      "Working on limb L1 branch 44\n",
      "Working on limb L1 branch 45\n",
      "Working on limb L1 branch 14\n",
      "Working on limb L1 branch 49\n",
      "Working on limb L1 branch 26\n",
      "Working on limb L1 branch 31\n",
      "Working on limb L1 branch 35\n",
      "Working on limb L1 branch 40\n",
      "Working on limb L1 branch 46\n",
      "Working on limb L1 branch 47\n",
      "Working on limb L1 branch 39\n",
      "Working on limb L1 branch 41\n",
      "Working on limb L2 branch 1\n",
      "Working on limb L2 branch 0\n",
      "Working on limb L2 branch 2\n",
      "Working on limb L2 branch 21\n",
      "Working on limb L2 branch 23\n",
      "Working on limb L2 branch 5\n",
      "Working on limb L2 branch 26\n",
      "Working on limb L2 branch 20\n",
      "Working on limb L2 branch 22\n",
      "Working on limb L2 branch 3\n",
      "Working on limb L2 branch 7\n",
      "Working on limb L2 branch 4\n",
      "Working on limb L2 branch 19\n",
      "Working on limb L2 branch 6\n",
      "Working on limb L2 branch 10\n",
      "Working on limb L2 branch 24\n",
      "Working on limb L2 branch 25\n",
      "Working on limb L2 branch 9\n",
      "Working on limb L2 branch 12\n",
      "Working on limb L2 branch 13\n",
      "Working on limb L2 branch 15\n",
      "Working on limb L2 branch 8\n",
      "Working on limb L2 branch 11\n",
      "Working on limb L2 branch 17\n",
      "Working on limb L2 branch 14\n",
      "Working on limb L2 branch 16\n",
      "Working on limb L2 branch 18\n",
      "Working on limb L3 branch 6\n",
      "Working on limb L3 branch 5\n",
      "Working on limb L3 branch 7\n",
      "Working on limb L3 branch 4\n",
      "Working on limb L3 branch 10\n",
      "Working on limb L3 branch 9\n",
      "Working on limb L3 branch 21\n",
      "Working on limb L3 branch 1\n",
      "Working on limb L3 branch 2\n",
      "Working on limb L3 branch 3\n",
      "Working on limb L3 branch 27\n",
      "Working on limb L3 branch 0\n",
      "Working on limb L3 branch 26\n",
      "Working on limb L3 branch 15\n",
      "Working on limb L3 branch 16\n",
      "Working on limb L3 branch 8\n",
      "Working on limb L3 branch 22\n",
      "Working on limb L3 branch 23\n",
      "Working on limb L3 branch 11\n",
      "Working on limb L3 branch 14\n",
      "Working on limb L3 branch 18\n",
      "Working on limb L3 branch 19\n",
      "Working on limb L3 branch 24\n",
      "Working on limb L3 branch 25\n",
      "Working on limb L3 branch 12\n",
      "Working on limb L3 branch 13\n",
      "Working on limb L3 branch 17\n",
      "Working on limb L3 branch 20\n",
      "Working on limb L4 branch 2\n",
      "Working on limb L4 branch 0\n",
      "Working on limb L4 branch 3\n",
      "Working on limb L4 branch 14\n",
      "Working on limb L4 branch 15\n",
      "Working on limb L4 branch 5\n",
      "Working on limb L4 branch 7\n",
      "Working on limb L4 branch 4\n",
      "Working on limb L4 branch 6\n",
      "Working on limb L4 branch 1\n",
      "Working on limb L4 branch 20\n",
      "Working on limb L4 branch 16\n",
      "Working on limb L4 branch 19\n",
      "Working on limb L4 branch 10\n",
      "Working on limb L4 branch 12\n",
      "Working on limb L4 branch 8\n",
      "Working on limb L4 branch 9\n",
      "Working on limb L4 branch 17\n",
      "Working on limb L4 branch 18\n",
      "Working on limb L4 branch 11\n",
      "Working on limb L4 branch 13\n",
      "Working on limb L5 branch 1\n",
      "Working on limb L5 branch 2\n",
      "Working on limb L5 branch 3\n",
      "Working on limb L5 branch 4\n",
      "Working on limb L5 branch 14\n",
      "Working on limb L5 branch 0\n",
      "Working on limb L5 branch 13\n",
      "Working on limb L5 branch 11\n",
      "Working on limb L5 branch 12\n",
      "Working on limb L5 branch 6\n",
      "Working on limb L5 branch 9\n",
      "Working on limb L5 branch 5\n",
      "Working on limb L5 branch 8\n",
      "Working on limb L5 branch 7\n",
      "Working on limb L5 branch 10\n",
      "Working on limb L6 branch 2\n",
      "Working on limb L6 branch 3\n",
      "Working on limb L6 branch 12\n",
      "Working on limb L6 branch 0\n",
      "Working on limb L6 branch 17\n",
      "Working on limb L6 branch 11\n",
      "Working on limb L6 branch 13\n",
      "Working on limb L6 branch 1\n",
      "Working on limb L6 branch 4\n",
      "Working on limb L6 branch 7\n",
      "Working on limb L6 branch 10\n",
      "Working on limb L6 branch 14\n",
      "Working on limb L6 branch 15\n",
      "Working on limb L6 branch 16\n",
      "Working on limb L6 branch 6\n",
      "Working on limb L6 branch 8\n",
      "Working on limb L6 branch 5\n",
      "Working on limb L6 branch 9\n",
      "functions_list = [<function median_mesh_center at 0x7fa3021cd1e0>, <function n_faces_branch at 0x7fa3021ccd08>]\n"
     ]
    },
    {
     "data": {
      "application/vnd.jupyter.widget-view+json": {
       "model_id": "f3094742bbc14a1caf3bd727f1822236",
       "version_major": 2,
       "version_minor": 0
      },
      "text/plain": [
       "HBox(children=(FloatProgress(value=0.0, max=3.0), HTML(value='')))"
      ]
     },
     "metadata": {},
     "output_type": "display_data"
    },
    {
     "name": "stdout",
     "output_type": "stream",
     "text": [
      "\n"
     ]
    },
    {
     "data": {
      "application/vnd.jupyter.widget-view+json": {
       "model_id": "6c84861d03ac466f9342cb7ef0b8ff8b",
       "version_major": 2,
       "version_minor": 0
      },
      "text/plain": [
       "HBox(children=(FloatProgress(value=0.0, max=2.0), HTML(value='')))"
      ]
     },
     "metadata": {},
     "output_type": "display_data"
    },
    {
     "name": "stdout",
     "output_type": "stream",
     "text": [
      "\n"
     ]
    },
    {
     "data": {
      "application/vnd.jupyter.widget-view+json": {
       "model_id": "5ae41b7c227546c380e5e7e8eb81c8cb",
       "version_major": 2,
       "version_minor": 0
      },
      "text/plain": [
       "HBox(children=(FloatProgress(value=0.0, max=2.0), HTML(value='')))"
      ]
     },
     "metadata": {},
     "output_type": "display_data"
    },
    {
     "name": "stdout",
     "output_type": "stream",
     "text": [
      "\n"
     ]
    },
    {
     "data": {
      "application/vnd.jupyter.widget-view+json": {
       "model_id": "6227e92ac51c4a70a98adc3fb86ececf",
       "version_major": 2,
       "version_minor": 0
      },
      "text/plain": [
       "HBox(children=(FloatProgress(value=0.0, max=3.0), HTML(value='')))"
      ]
     },
     "metadata": {},
     "output_type": "display_data"
    },
    {
     "name": "stdout",
     "output_type": "stream",
     "text": [
      "\n"
     ]
    },
    {
     "data": {
      "application/vnd.jupyter.widget-view+json": {
       "model_id": "3056ff36b15743b3b433ac6a7943f106",
       "version_major": 2,
       "version_minor": 0
      },
      "text/plain": [
       "HBox(children=(FloatProgress(value=0.0, max=14.0), HTML(value='')))"
      ]
     },
     "metadata": {},
     "output_type": "display_data"
    },
    {
     "name": "stdout",
     "output_type": "stream",
     "text": [
      "\n"
     ]
    },
    {
     "data": {
      "application/vnd.jupyter.widget-view+json": {
       "model_id": "cdec76d1fba44ccd83aa2a7c4e827381",
       "version_major": 2,
       "version_minor": 0
      },
      "text/plain": [
       "HBox(children=(FloatProgress(value=0.0, max=4.0), HTML(value='')))"
      ]
     },
     "metadata": {},
     "output_type": "display_data"
    },
    {
     "name": "stdout",
     "output_type": "stream",
     "text": [
      "\n"
     ]
    },
    {
     "data": {
      "application/vnd.jupyter.widget-view+json": {
       "model_id": "6096795b9d394f3f8d1c8e398d3f5c7a",
       "version_major": 2,
       "version_minor": 0
      },
      "text/plain": [
       "HBox(children=(FloatProgress(value=0.0, max=9.0), HTML(value='')))"
      ]
     },
     "metadata": {},
     "output_type": "display_data"
    },
    {
     "name": "stdout",
     "output_type": "stream",
     "text": [
      "\n"
     ]
    },
    {
     "data": {
      "application/vnd.jupyter.widget-view+json": {
       "model_id": "4f08e71944584e18a7b706050ba4ad1c",
       "version_major": 2,
       "version_minor": 0
      },
      "text/plain": [
       "HBox(children=(FloatProgress(value=0.0, max=8.0), HTML(value='')))"
      ]
     },
     "metadata": {},
     "output_type": "display_data"
    },
    {
     "name": "stdout",
     "output_type": "stream",
     "text": [
      "\n"
     ]
    },
    {
     "data": {
      "application/vnd.jupyter.widget-view+json": {
       "model_id": "11cfbf9b8469437e84693a4d08bba19e",
       "version_major": 2,
       "version_minor": 0
      },
      "text/plain": [
       "HBox(children=(FloatProgress(value=0.0, max=12.0), HTML(value='')))"
      ]
     },
     "metadata": {},
     "output_type": "display_data"
    },
    {
     "name": "stdout",
     "output_type": "stream",
     "text": [
      "\n"
     ]
    },
    {
     "data": {
      "application/vnd.jupyter.widget-view+json": {
       "model_id": "f088674c348d49aeb7280b03b850b662",
       "version_major": 2,
       "version_minor": 0
      },
      "text/plain": [
       "HBox(children=(FloatProgress(value=0.0, max=3.0), HTML(value='')))"
      ]
     },
     "metadata": {},
     "output_type": "display_data"
    },
    {
     "name": "stdout",
     "output_type": "stream",
     "text": [
      "\n"
     ]
    },
    {
     "data": {
      "application/vnd.jupyter.widget-view+json": {
       "model_id": "0a287a4d0fa94b89b9ad9d0b3b72e800",
       "version_major": 2,
       "version_minor": 0
      },
      "text/plain": [
       "HBox(children=(FloatProgress(value=0.0, max=16.0), HTML(value='')))"
      ]
     },
     "metadata": {},
     "output_type": "display_data"
    },
    {
     "name": "stdout",
     "output_type": "stream",
     "text": [
      "\n"
     ]
    },
    {
     "data": {
      "application/vnd.jupyter.widget-view+json": {
       "model_id": "18696a4c48db4c9abe30be4a4871be8b",
       "version_major": 2,
       "version_minor": 0
      },
      "text/plain": [
       "HBox(children=(FloatProgress(value=0.0, max=4.0), HTML(value='')))"
      ]
     },
     "metadata": {},
     "output_type": "display_data"
    },
    {
     "name": "stdout",
     "output_type": "stream",
     "text": [
      "\n"
     ]
    },
    {
     "data": {
      "application/vnd.jupyter.widget-view+json": {
       "model_id": "9d3d75b581694a33be47dfb3b8d24ed2",
       "version_major": 2,
       "version_minor": 0
      },
      "text/plain": [
       "HBox(children=(FloatProgress(value=0.0, max=6.0), HTML(value='')))"
      ]
     },
     "metadata": {},
     "output_type": "display_data"
    },
    {
     "name": "stdout",
     "output_type": "stream",
     "text": [
      "\n"
     ]
    },
    {
     "data": {
      "application/vnd.jupyter.widget-view+json": {
       "model_id": "40d53455a157423a8dfd04e7b38c93bf",
       "version_major": 2,
       "version_minor": 0
      },
      "text/plain": [
       "HBox(children=(FloatProgress(value=0.0, max=8.0), HTML(value='')))"
      ]
     },
     "metadata": {},
     "output_type": "display_data"
    },
    {
     "name": "stdout",
     "output_type": "stream",
     "text": [
      "\n"
     ]
    },
    {
     "data": {
      "application/vnd.jupyter.widget-view+json": {
       "model_id": "0bdebade763447169802ad553ec3f516",
       "version_major": 2,
       "version_minor": 0
      },
      "text/plain": [
       "HBox(children=(FloatProgress(value=0.0, max=15.0), HTML(value='')))"
      ]
     },
     "metadata": {},
     "output_type": "display_data"
    },
    {
     "name": "stdout",
     "output_type": "stream",
     "text": [
      "\n"
     ]
    },
    {
     "data": {
      "application/vnd.jupyter.widget-view+json": {
       "model_id": "114771f666124555836fcacc63fba6c3",
       "version_major": 2,
       "version_minor": 0
      },
      "text/plain": [
       "HBox(children=(FloatProgress(value=0.0, max=3.0), HTML(value='')))"
      ]
     },
     "metadata": {},
     "output_type": "display_data"
    },
    {
     "name": "stdout",
     "output_type": "stream",
     "text": [
      "\n"
     ]
    },
    {
     "data": {
      "application/vnd.jupyter.widget-view+json": {
       "model_id": "9902c58f06de4823a71bf6f1d2b3a932",
       "version_major": 2,
       "version_minor": 0
      },
      "text/plain": [
       "HBox(children=(FloatProgress(value=0.0, max=19.0), HTML(value='')))"
      ]
     },
     "metadata": {},
     "output_type": "display_data"
    },
    {
     "name": "stdout",
     "output_type": "stream",
     "text": [
      "\n"
     ]
    },
    {
     "data": {
      "application/vnd.jupyter.widget-view+json": {
       "model_id": "4b29698fd840492581172d8784d22124",
       "version_major": 2,
       "version_minor": 0
      },
      "text/plain": [
       "HBox(children=(FloatProgress(value=0.0, max=6.0), HTML(value='')))"
      ]
     },
     "metadata": {},
     "output_type": "display_data"
    },
    {
     "name": "stdout",
     "output_type": "stream",
     "text": [
      "\n"
     ]
    },
    {
     "data": {
      "application/vnd.jupyter.widget-view+json": {
       "model_id": "69ae35e62ad543c0b52fc2c071822eca",
       "version_major": 2,
       "version_minor": 0
      },
      "text/plain": [
       "HBox(children=(FloatProgress(value=0.0, max=4.0), HTML(value='')))"
      ]
     },
     "metadata": {},
     "output_type": "display_data"
    },
    {
     "name": "stdout",
     "output_type": "stream",
     "text": [
      "\n"
     ]
    },
    {
     "data": {
      "application/vnd.jupyter.widget-view+json": {
       "model_id": "52a9be929f2c48cb8ac6633353fcc9be",
       "version_major": 2,
       "version_minor": 0
      },
      "text/plain": [
       "HBox(children=(FloatProgress(value=0.0, max=15.0), HTML(value='')))"
      ]
     },
     "metadata": {},
     "output_type": "display_data"
    },
    {
     "name": "stdout",
     "output_type": "stream",
     "text": [
      "\n"
     ]
    },
    {
     "data": {
      "application/vnd.jupyter.widget-view+json": {
       "model_id": "a4e03acd763f4522bdf3e6cc42657247",
       "version_major": 2,
       "version_minor": 0
      },
      "text/plain": [
       "HBox(children=(FloatProgress(value=0.0, max=12.0), HTML(value='')))"
      ]
     },
     "metadata": {},
     "output_type": "display_data"
    },
    {
     "name": "stdout",
     "output_type": "stream",
     "text": [
      "\n"
     ]
    },
    {
     "data": {
      "application/vnd.jupyter.widget-view+json": {
       "model_id": "d310db19e9b84dbe8e13b499e181f71b",
       "version_major": 2,
       "version_minor": 0
      },
      "text/plain": [
       "HBox(children=(FloatProgress(value=0.0, max=24.0), HTML(value='')))"
      ]
     },
     "metadata": {},
     "output_type": "display_data"
    },
    {
     "name": "stdout",
     "output_type": "stream",
     "text": [
      "\n"
     ]
    },
    {
     "data": {
      "application/vnd.jupyter.widget-view+json": {
       "model_id": "7c736df4653c4e848c284f6394b2a1c1",
       "version_major": 2,
       "version_minor": 0
      },
      "text/plain": [
       "HBox(children=(FloatProgress(value=0.0, max=11.0), HTML(value='')))"
      ]
     },
     "metadata": {},
     "output_type": "display_data"
    },
    {
     "name": "stdout",
     "output_type": "stream",
     "text": [
      "\n"
     ]
    },
    {
     "data": {
      "application/vnd.jupyter.widget-view+json": {
       "model_id": "69d0d95ad87a45888c251c13d2c109d4",
       "version_major": 2,
       "version_minor": 0
      },
      "text/plain": [
       "HBox(children=(FloatProgress(value=0.0, max=42.0), HTML(value='')))"
      ]
     },
     "metadata": {},
     "output_type": "display_data"
    },
    {
     "name": "stdout",
     "output_type": "stream",
     "text": [
      "\n"
     ]
    },
    {
     "data": {
      "application/vnd.jupyter.widget-view+json": {
       "model_id": "808934023c664e07a68510840f191459",
       "version_major": 2,
       "version_minor": 0
      },
      "text/plain": [
       "HBox(children=(FloatProgress(value=0.0, max=31.0), HTML(value='')))"
      ]
     },
     "metadata": {},
     "output_type": "display_data"
    },
    {
     "name": "stdout",
     "output_type": "stream",
     "text": [
      "\n"
     ]
    },
    {
     "data": {
      "application/vnd.jupyter.widget-view+json": {
       "model_id": "5bf99ab681224e669b25a99f609a3269",
       "version_major": 2,
       "version_minor": 0
      },
      "text/plain": [
       "HBox(children=(FloatProgress(value=0.0, max=40.0), HTML(value='')))"
      ]
     },
     "metadata": {},
     "output_type": "display_data"
    },
    {
     "name": "stdout",
     "output_type": "stream",
     "text": [
      "\n"
     ]
    },
    {
     "data": {
      "application/vnd.jupyter.widget-view+json": {
       "model_id": "19490b9ad1df46119ea4cd15ff9da337",
       "version_major": 2,
       "version_minor": 0
      },
      "text/plain": [
       "HBox(children=(FloatProgress(value=0.0, max=30.0), HTML(value='')))"
      ]
     },
     "metadata": {},
     "output_type": "display_data"
    },
    {
     "name": "stdout",
     "output_type": "stream",
     "text": [
      "\n"
     ]
    },
    {
     "data": {
      "application/vnd.jupyter.widget-view+json": {
       "model_id": "60969b7e523140f182cdc5cd926d96f5",
       "version_major": 2,
       "version_minor": 0
      },
      "text/plain": [
       "HBox(children=(FloatProgress(value=0.0, max=10.0), HTML(value='')))"
      ]
     },
     "metadata": {},
     "output_type": "display_data"
    },
    {
     "name": "stdout",
     "output_type": "stream",
     "text": [
      "\n"
     ]
    },
    {
     "data": {
      "application/vnd.jupyter.widget-view+json": {
       "model_id": "84d578c1f11f4316af6327d0b625d4c3",
       "version_major": 2,
       "version_minor": 0
      },
      "text/plain": [
       "HBox(children=(FloatProgress(value=0.0, max=19.0), HTML(value='')))"
      ]
     },
     "metadata": {},
     "output_type": "display_data"
    },
    {
     "name": "stdout",
     "output_type": "stream",
     "text": [
      "\n"
     ]
    },
    {
     "data": {
      "application/vnd.jupyter.widget-view+json": {
       "model_id": "a8f80d7376e046048a29420a34000110",
       "version_major": 2,
       "version_minor": 0
      },
      "text/plain": [
       "HBox(children=(FloatProgress(value=0.0, max=9.0), HTML(value='')))"
      ]
     },
     "metadata": {},
     "output_type": "display_data"
    },
    {
     "name": "stdout",
     "output_type": "stream",
     "text": [
      "\n"
     ]
    },
    {
     "data": {
      "application/vnd.jupyter.widget-view+json": {
       "model_id": "db561d55b9c243d8b4c21f81ae781c16",
       "version_major": 2,
       "version_minor": 0
      },
      "text/plain": [
       "HBox(children=(FloatProgress(value=0.0, max=9.0), HTML(value='')))"
      ]
     },
     "metadata": {},
     "output_type": "display_data"
    },
    {
     "name": "stdout",
     "output_type": "stream",
     "text": [
      "\n"
     ]
    },
    {
     "data": {
      "application/vnd.jupyter.widget-view+json": {
       "model_id": "1f3e6051535244ac8d81609a935b9322",
       "version_major": 2,
       "version_minor": 0
      },
      "text/plain": [
       "HBox(children=(FloatProgress(value=0.0, max=16.0), HTML(value='')))"
      ]
     },
     "metadata": {},
     "output_type": "display_data"
    },
    {
     "name": "stdout",
     "output_type": "stream",
     "text": [
      "\n"
     ]
    },
    {
     "data": {
      "application/vnd.jupyter.widget-view+json": {
       "model_id": "18f57918be0045cd9d0e528f5ad86e0e",
       "version_major": 2,
       "version_minor": 0
      },
      "text/plain": [
       "HBox(children=(FloatProgress(value=0.0, max=4.0), HTML(value='')))"
      ]
     },
     "metadata": {},
     "output_type": "display_data"
    },
    {
     "name": "stdout",
     "output_type": "stream",
     "text": [
      "\n"
     ]
    },
    {
     "data": {
      "application/vnd.jupyter.widget-view+json": {
       "model_id": "e4f82c04e61f4e90bae864b62dc6484d",
       "version_major": 2,
       "version_minor": 0
      },
      "text/plain": [
       "HBox(children=(FloatProgress(value=0.0, max=13.0), HTML(value='')))"
      ]
     },
     "metadata": {},
     "output_type": "display_data"
    },
    {
     "name": "stdout",
     "output_type": "stream",
     "text": [
      "\n"
     ]
    },
    {
     "data": {
      "application/vnd.jupyter.widget-view+json": {
       "model_id": "9c69c84a864e4ecf9e0c49e3583b0d13",
       "version_major": 2,
       "version_minor": 0
      },
      "text/plain": [
       "HBox(children=(FloatProgress(value=0.0, max=5.0), HTML(value='')))"
      ]
     },
     "metadata": {},
     "output_type": "display_data"
    },
    {
     "name": "stdout",
     "output_type": "stream",
     "text": [
      "\n"
     ]
    },
    {
     "data": {
      "application/vnd.jupyter.widget-view+json": {
       "model_id": "49555b62174b4e9288c194d94ca6ca05",
       "version_major": 2,
       "version_minor": 0
      },
      "text/plain": [
       "HBox(children=(FloatProgress(value=0.0, max=40.0), HTML(value='')))"
      ]
     },
     "metadata": {},
     "output_type": "display_data"
    },
    {
     "name": "stdout",
     "output_type": "stream",
     "text": [
      "\n"
     ]
    },
    {
     "data": {
      "application/vnd.jupyter.widget-view+json": {
       "model_id": "59d633c25ad5412c938bcd0b74454ffa",
       "version_major": 2,
       "version_minor": 0
      },
      "text/plain": [
       "HBox(children=(FloatProgress(value=0.0, max=23.0), HTML(value='')))"
      ]
     },
     "metadata": {},
     "output_type": "display_data"
    },
    {
     "name": "stdout",
     "output_type": "stream",
     "text": [
      "\n"
     ]
    },
    {
     "data": {
      "application/vnd.jupyter.widget-view+json": {
       "model_id": "2257843d7ed24c50b0671ad5448fe218",
       "version_major": 2,
       "version_minor": 0
      },
      "text/plain": [
       "HBox(children=(FloatProgress(value=0.0, max=37.0), HTML(value='')))"
      ]
     },
     "metadata": {},
     "output_type": "display_data"
    },
    {
     "name": "stdout",
     "output_type": "stream",
     "text": [
      "\n"
     ]
    },
    {
     "data": {
      "application/vnd.jupyter.widget-view+json": {
       "model_id": "04b44887ad76492aadeb2550263feeab",
       "version_major": 2,
       "version_minor": 0
      },
      "text/plain": [
       "HBox(children=(FloatProgress(value=0.0, max=41.0), HTML(value='')))"
      ]
     },
     "metadata": {},
     "output_type": "display_data"
    },
    {
     "name": "stdout",
     "output_type": "stream",
     "text": [
      "\n"
     ]
    },
    {
     "data": {
      "application/vnd.jupyter.widget-view+json": {
       "model_id": "b8e387c50544497ca22afca082fd6e34",
       "version_major": 2,
       "version_minor": 0
      },
      "text/plain": [
       "HBox(children=(FloatProgress(value=0.0, max=11.0), HTML(value='')))"
      ]
     },
     "metadata": {},
     "output_type": "display_data"
    },
    {
     "name": "stdout",
     "output_type": "stream",
     "text": [
      "\n"
     ]
    },
    {
     "data": {
      "application/vnd.jupyter.widget-view+json": {
       "model_id": "0864e9b3844149f5b1eb4039bd90957f",
       "version_major": 2,
       "version_minor": 0
      },
      "text/plain": [
       "HBox(children=(FloatProgress(value=0.0, max=8.0), HTML(value='')))"
      ]
     },
     "metadata": {},
     "output_type": "display_data"
    },
    {
     "name": "stdout",
     "output_type": "stream",
     "text": [
      "\n"
     ]
    },
    {
     "data": {
      "application/vnd.jupyter.widget-view+json": {
       "model_id": "9b6411e346f04059b6f5fd44185773fd",
       "version_major": 2,
       "version_minor": 0
      },
      "text/plain": [
       "HBox(children=(FloatProgress(value=0.0, max=16.0), HTML(value='')))"
      ]
     },
     "metadata": {},
     "output_type": "display_data"
    },
    {
     "name": "stdout",
     "output_type": "stream",
     "text": [
      "\n"
     ]
    },
    {
     "data": {
      "application/vnd.jupyter.widget-view+json": {
       "model_id": "2186ffdbf54c48b6bdc88f258873368e",
       "version_major": 2,
       "version_minor": 0
      },
      "text/plain": [
       "HBox(children=(FloatProgress(value=0.0, max=5.0), HTML(value='')))"
      ]
     },
     "metadata": {},
     "output_type": "display_data"
    },
    {
     "name": "stdout",
     "output_type": "stream",
     "text": [
      "\n"
     ]
    },
    {
     "data": {
      "application/vnd.jupyter.widget-view+json": {
       "model_id": "c57d0eef203a409a9ef34b81520332c4",
       "version_major": 2,
       "version_minor": 0
      },
      "text/plain": [
       "HBox(children=(FloatProgress(value=0.0, max=4.0), HTML(value='')))"
      ]
     },
     "metadata": {},
     "output_type": "display_data"
    },
    {
     "name": "stdout",
     "output_type": "stream",
     "text": [
      "\n"
     ]
    },
    {
     "data": {
      "application/vnd.jupyter.widget-view+json": {
       "model_id": "70a42318767749a789b1efa244dba712",
       "version_major": 2,
       "version_minor": 0
      },
      "text/plain": [
       "HBox(children=(FloatProgress(value=0.0, max=3.0), HTML(value='')))"
      ]
     },
     "metadata": {},
     "output_type": "display_data"
    },
    {
     "name": "stdout",
     "output_type": "stream",
     "text": [
      "\n"
     ]
    },
    {
     "data": {
      "application/vnd.jupyter.widget-view+json": {
       "model_id": "3fcbf79ef2b14ab08d8d92c35fb24fc6",
       "version_major": 2,
       "version_minor": 0
      },
      "text/plain": [
       "HBox(children=(FloatProgress(value=0.0, max=7.0), HTML(value='')))"
      ]
     },
     "metadata": {},
     "output_type": "display_data"
    },
    {
     "name": "stdout",
     "output_type": "stream",
     "text": [
      "\n"
     ]
    },
    {
     "data": {
      "application/vnd.jupyter.widget-view+json": {
       "model_id": "d65c67e6eefc49ce9a682f61c7ddbae5",
       "version_major": 2,
       "version_minor": 0
      },
      "text/plain": [
       "HBox(children=(FloatProgress(value=0.0, max=11.0), HTML(value='')))"
      ]
     },
     "metadata": {},
     "output_type": "display_data"
    },
    {
     "name": "stdout",
     "output_type": "stream",
     "text": [
      "\n"
     ]
    },
    {
     "data": {
      "application/vnd.jupyter.widget-view+json": {
       "model_id": "edb9742403ba4aac93d5fd96b187a948",
       "version_major": 2,
       "version_minor": 0
      },
      "text/plain": [
       "HBox(children=(FloatProgress(value=0.0, max=4.0), HTML(value='')))"
      ]
     },
     "metadata": {},
     "output_type": "display_data"
    },
    {
     "name": "stdout",
     "output_type": "stream",
     "text": [
      "\n"
     ]
    },
    {
     "data": {
      "application/vnd.jupyter.widget-view+json": {
       "model_id": "587b191871a64823be5ef22f558faef2",
       "version_major": 2,
       "version_minor": 0
      },
      "text/plain": [
       "HBox(children=(FloatProgress(value=0.0, max=3.0), HTML(value='')))"
      ]
     },
     "metadata": {},
     "output_type": "display_data"
    },
    {
     "name": "stdout",
     "output_type": "stream",
     "text": [
      "\n"
     ]
    },
    {
     "data": {
      "application/vnd.jupyter.widget-view+json": {
       "model_id": "f05fbdabbc5a4bd8aa05a67610cec483",
       "version_major": 2,
       "version_minor": 0
      },
      "text/plain": [
       "HBox(children=(FloatProgress(value=0.0, max=8.0), HTML(value='')))"
      ]
     },
     "metadata": {},
     "output_type": "display_data"
    },
    {
     "name": "stdout",
     "output_type": "stream",
     "text": [
      "\n"
     ]
    },
    {
     "data": {
      "application/vnd.jupyter.widget-view+json": {
       "model_id": "6305df6cdd304c6b87c9e39fe2a1276b",
       "version_major": 2,
       "version_minor": 0
      },
      "text/plain": [
       "HBox(children=(FloatProgress(value=0.0, max=5.0), HTML(value='')))"
      ]
     },
     "metadata": {},
     "output_type": "display_data"
    },
    {
     "name": "stdout",
     "output_type": "stream",
     "text": [
      "\n"
     ]
    },
    {
     "data": {
      "application/vnd.jupyter.widget-view+json": {
       "model_id": "6e7a7405382741599c982b2a5449a152",
       "version_major": 2,
       "version_minor": 0
      },
      "text/plain": [
       "HBox(children=(FloatProgress(value=0.0, max=12.0), HTML(value='')))"
      ]
     },
     "metadata": {},
     "output_type": "display_data"
    },
    {
     "name": "stdout",
     "output_type": "stream",
     "text": [
      "\n"
     ]
    },
    {
     "data": {
      "application/vnd.jupyter.widget-view+json": {
       "model_id": "2f3eb1a031164a128477d875d17be2c4",
       "version_major": 2,
       "version_minor": 0
      },
      "text/plain": [
       "HBox(children=(FloatProgress(value=0.0, max=32.0), HTML(value='')))"
      ]
     },
     "metadata": {},
     "output_type": "display_data"
    },
    {
     "name": "stdout",
     "output_type": "stream",
     "text": [
      "\n"
     ]
    },
    {
     "data": {
      "application/vnd.jupyter.widget-view+json": {
       "model_id": "f87bbe25f4d64aab86da0cf389401fe2",
       "version_major": 2,
       "version_minor": 0
      },
      "text/plain": [
       "HBox(children=(FloatProgress(value=0.0, max=17.0), HTML(value='')))"
      ]
     },
     "metadata": {},
     "output_type": "display_data"
    },
    {
     "name": "stdout",
     "output_type": "stream",
     "text": [
      "\n"
     ]
    },
    {
     "data": {
      "application/vnd.jupyter.widget-view+json": {
       "model_id": "7d2fc0e88148496c92cab368f6080e97",
       "version_major": 2,
       "version_minor": 0
      },
      "text/plain": [
       "HBox(children=(FloatProgress(value=0.0, max=24.0), HTML(value='')))"
      ]
     },
     "metadata": {},
     "output_type": "display_data"
    },
    {
     "name": "stdout",
     "output_type": "stream",
     "text": [
      "\n"
     ]
    },
    {
     "data": {
      "application/vnd.jupyter.widget-view+json": {
       "model_id": "ea49fb3adf22421eb635d8268babd805",
       "version_major": 2,
       "version_minor": 0
      },
      "text/plain": [
       "HBox(children=(FloatProgress(value=0.0, max=13.0), HTML(value='')))"
      ]
     },
     "metadata": {},
     "output_type": "display_data"
    },
    {
     "name": "stdout",
     "output_type": "stream",
     "text": [
      "\n"
     ]
    },
    {
     "data": {
      "application/vnd.jupyter.widget-view+json": {
       "model_id": "20554ffc93bc4d3f8ef2e027e515a72a",
       "version_major": 2,
       "version_minor": 0
      },
      "text/plain": [
       "HBox(children=(FloatProgress(value=0.0, max=9.0), HTML(value='')))"
      ]
     },
     "metadata": {},
     "output_type": "display_data"
    },
    {
     "name": "stdout",
     "output_type": "stream",
     "text": [
      "\n"
     ]
    },
    {
     "data": {
      "application/vnd.jupyter.widget-view+json": {
       "model_id": "0361c51130ed451ba8e938e40ec938e2",
       "version_major": 2,
       "version_minor": 0
      },
      "text/plain": [
       "HBox(children=(FloatProgress(value=0.0, max=15.0), HTML(value='')))"
      ]
     },
     "metadata": {},
     "output_type": "display_data"
    },
    {
     "name": "stdout",
     "output_type": "stream",
     "text": [
      "\n"
     ]
    },
    {
     "data": {
      "application/vnd.jupyter.widget-view+json": {
       "model_id": "67f0c4cc3d6942d98ef91cbbb2180c85",
       "version_major": 2,
       "version_minor": 0
      },
      "text/plain": [
       "HBox(children=(FloatProgress(value=0.0, max=49.0), HTML(value='')))"
      ]
     },
     "metadata": {},
     "output_type": "display_data"
    },
    {
     "name": "stdout",
     "output_type": "stream",
     "text": [
      "\n"
     ]
    },
    {
     "data": {
      "application/vnd.jupyter.widget-view+json": {
       "model_id": "0575ce78cdb0402da637e93e297af012",
       "version_major": 2,
       "version_minor": 0
      },
      "text/plain": [
       "HBox(children=(FloatProgress(value=0.0, max=10.0), HTML(value='')))"
      ]
     },
     "metadata": {},
     "output_type": "display_data"
    },
    {
     "name": "stdout",
     "output_type": "stream",
     "text": [
      "\n"
     ]
    },
    {
     "data": {
      "application/vnd.jupyter.widget-view+json": {
       "model_id": "f33eff055ab94dcdae3f5be024cd5613",
       "version_major": 2,
       "version_minor": 0
      },
      "text/plain": [
       "HBox(children=(FloatProgress(value=0.0, max=8.0), HTML(value='')))"
      ]
     },
     "metadata": {},
     "output_type": "display_data"
    },
    {
     "name": "stdout",
     "output_type": "stream",
     "text": [
      "\n"
     ]
    },
    {
     "data": {
      "application/vnd.jupyter.widget-view+json": {
       "model_id": "0ec08b2b37c44c00a0658ec22e3accc1",
       "version_major": 2,
       "version_minor": 0
      },
      "text/plain": [
       "HBox(children=(FloatProgress(value=0.0, max=2.0), HTML(value='')))"
      ]
     },
     "metadata": {},
     "output_type": "display_data"
    },
    {
     "name": "stdout",
     "output_type": "stream",
     "text": [
      "\n"
     ]
    },
    {
     "data": {
      "application/vnd.jupyter.widget-view+json": {
       "model_id": "e6e943bb007e4dd7a814a8404092f805",
       "version_major": 2,
       "version_minor": 0
      },
      "text/plain": [
       "HBox(children=(FloatProgress(value=0.0, max=9.0), HTML(value='')))"
      ]
     },
     "metadata": {},
     "output_type": "display_data"
    },
    {
     "name": "stdout",
     "output_type": "stream",
     "text": [
      "\n"
     ]
    },
    {
     "data": {
      "application/vnd.jupyter.widget-view+json": {
       "model_id": "4b3c4e5128914c9aa3eaf614513064b0",
       "version_major": 2,
       "version_minor": 0
      },
      "text/plain": [
       "HBox(children=(FloatProgress(value=0.0, max=11.0), HTML(value='')))"
      ]
     },
     "metadata": {},
     "output_type": "display_data"
    },
    {
     "name": "stdout",
     "output_type": "stream",
     "text": [
      "\n"
     ]
    },
    {
     "data": {
      "application/vnd.jupyter.widget-view+json": {
       "model_id": "709f3dee94a545b0a853e29b4093e60a",
       "version_major": 2,
       "version_minor": 0
      },
      "text/plain": [
       "HBox(children=(FloatProgress(value=0.0, max=4.0), HTML(value='')))"
      ]
     },
     "metadata": {},
     "output_type": "display_data"
    },
    {
     "name": "stdout",
     "output_type": "stream",
     "text": [
      "\n"
     ]
    },
    {
     "data": {
      "application/vnd.jupyter.widget-view+json": {
       "model_id": "ae867e74219a40ecacedf9e428678c67",
       "version_major": 2,
       "version_minor": 0
      },
      "text/plain": [
       "HBox(children=(FloatProgress(value=0.0, max=7.0), HTML(value='')))"
      ]
     },
     "metadata": {},
     "output_type": "display_data"
    },
    {
     "name": "stdout",
     "output_type": "stream",
     "text": [
      "\n"
     ]
    },
    {
     "data": {
      "application/vnd.jupyter.widget-view+json": {
       "model_id": "80f4b861179a479aabba087aeeba2c9a",
       "version_major": 2,
       "version_minor": 0
      },
      "text/plain": [
       "HBox(children=(FloatProgress(value=0.0, max=10.0), HTML(value='')))"
      ]
     },
     "metadata": {},
     "output_type": "display_data"
    },
    {
     "name": "stdout",
     "output_type": "stream",
     "text": [
      "\n"
     ]
    },
    {
     "data": {
      "application/vnd.jupyter.widget-view+json": {
       "model_id": "1e7c9865b56045478dcde2add5f0e58f",
       "version_major": 2,
       "version_minor": 0
      },
      "text/plain": [
       "HBox(children=(FloatProgress(value=0.0, max=16.0), HTML(value='')))"
      ]
     },
     "metadata": {},
     "output_type": "display_data"
    },
    {
     "name": "stdout",
     "output_type": "stream",
     "text": [
      "\n"
     ]
    },
    {
     "data": {
      "application/vnd.jupyter.widget-view+json": {
       "model_id": "43a4929778be4f0982645a7e86ac7190",
       "version_major": 2,
       "version_minor": 0
      },
      "text/plain": [
       "HBox(children=(FloatProgress(value=0.0, max=28.0), HTML(value='')))"
      ]
     },
     "metadata": {},
     "output_type": "display_data"
    },
    {
     "name": "stdout",
     "output_type": "stream",
     "text": [
      "\n"
     ]
    },
    {
     "data": {
      "application/vnd.jupyter.widget-view+json": {
       "model_id": "09da0419a47049a2a10fd5491c78aa81",
       "version_major": 2,
       "version_minor": 0
      },
      "text/plain": [
       "HBox(children=(FloatProgress(value=0.0, max=26.0), HTML(value='')))"
      ]
     },
     "metadata": {},
     "output_type": "display_data"
    },
    {
     "name": "stdout",
     "output_type": "stream",
     "text": [
      "\n"
     ]
    },
    {
     "data": {
      "application/vnd.jupyter.widget-view+json": {
       "model_id": "6e96667b683943cb99752248e16cfa84",
       "version_major": 2,
       "version_minor": 0
      },
      "text/plain": [
       "HBox(children=(FloatProgress(value=0.0, max=11.0), HTML(value='')))"
      ]
     },
     "metadata": {},
     "output_type": "display_data"
    },
    {
     "name": "stdout",
     "output_type": "stream",
     "text": [
      "\n"
     ]
    },
    {
     "data": {
      "application/vnd.jupyter.widget-view+json": {
       "model_id": "8d29589a8aa545ae99b3777d6412d4a7",
       "version_major": 2,
       "version_minor": 0
      },
      "text/plain": [
       "HBox(children=(FloatProgress(value=0.0, max=25.0), HTML(value='')))"
      ]
     },
     "metadata": {},
     "output_type": "display_data"
    },
    {
     "name": "stdout",
     "output_type": "stream",
     "text": [
      "\n"
     ]
    },
    {
     "data": {
      "application/vnd.jupyter.widget-view+json": {
       "model_id": "d6b572ab73e64cba8e7cce6ebe33090e",
       "version_major": 2,
       "version_minor": 0
      },
      "text/plain": [
       "HBox(children=(FloatProgress(value=0.0, max=15.0), HTML(value='')))"
      ]
     },
     "metadata": {},
     "output_type": "display_data"
    },
    {
     "name": "stdout",
     "output_type": "stream",
     "text": [
      "\n"
     ]
    },
    {
     "data": {
      "application/vnd.jupyter.widget-view+json": {
       "model_id": "574e8375d2504835a333a7fc579e0de1",
       "version_major": 2,
       "version_minor": 0
      },
      "text/plain": [
       "HBox(children=(FloatProgress(value=0.0, max=25.0), HTML(value='')))"
      ]
     },
     "metadata": {},
     "output_type": "display_data"
    },
    {
     "name": "stdout",
     "output_type": "stream",
     "text": [
      "\n"
     ]
    },
    {
     "data": {
      "application/vnd.jupyter.widget-view+json": {
       "model_id": "7c6af7827ccf48a98d0d522771c56dec",
       "version_major": 2,
       "version_minor": 0
      },
      "text/plain": [
       "HBox(children=(FloatProgress(value=0.0, max=45.0), HTML(value='')))"
      ]
     },
     "metadata": {},
     "output_type": "display_data"
    },
    {
     "name": "stdout",
     "output_type": "stream",
     "text": [
      "\n"
     ]
    },
    {
     "data": {
      "application/vnd.jupyter.widget-view+json": {
       "model_id": "2d20b81eebb24655a23b85d5156f8b90",
       "version_major": 2,
       "version_minor": 0
      },
      "text/plain": [
       "HBox(children=(FloatProgress(value=0.0, max=9.0), HTML(value='')))"
      ]
     },
     "metadata": {},
     "output_type": "display_data"
    },
    {
     "name": "stdout",
     "output_type": "stream",
     "text": [
      "\n"
     ]
    },
    {
     "data": {
      "application/vnd.jupyter.widget-view+json": {
       "model_id": "b9c2c9d798a74fc88a40c41a9ae351c4",
       "version_major": 2,
       "version_minor": 0
      },
      "text/plain": [
       "HBox(children=(FloatProgress(value=0.0, max=14.0), HTML(value='')))"
      ]
     },
     "metadata": {},
     "output_type": "display_data"
    },
    {
     "name": "stdout",
     "output_type": "stream",
     "text": [
      "\n"
     ]
    },
    {
     "data": {
      "application/vnd.jupyter.widget-view+json": {
       "model_id": "8ce7b86916444a42be7f4190defeac02",
       "version_major": 2,
       "version_minor": 0
      },
      "text/plain": [
       "HBox(children=(FloatProgress(value=0.0, max=6.0), HTML(value='')))"
      ]
     },
     "metadata": {},
     "output_type": "display_data"
    },
    {
     "name": "stdout",
     "output_type": "stream",
     "text": [
      "\n"
     ]
    },
    {
     "data": {
      "application/vnd.jupyter.widget-view+json": {
       "model_id": "f9ce31792e344dd889224ba909bda565",
       "version_major": 2,
       "version_minor": 0
      },
      "text/plain": [
       "HBox(children=(FloatProgress(value=0.0, max=8.0), HTML(value='')))"
      ]
     },
     "metadata": {},
     "output_type": "display_data"
    },
    {
     "name": "stdout",
     "output_type": "stream",
     "text": [
      "\n"
     ]
    },
    {
     "data": {
      "application/vnd.jupyter.widget-view+json": {
       "model_id": "981bb93a6e464e9992a6d397c56831ec",
       "version_major": 2,
       "version_minor": 0
      },
      "text/plain": [
       "HBox(children=(FloatProgress(value=0.0, max=10.0), HTML(value='')))"
      ]
     },
     "metadata": {},
     "output_type": "display_data"
    },
    {
     "name": "stdout",
     "output_type": "stream",
     "text": [
      "\n"
     ]
    },
    {
     "data": {
      "application/vnd.jupyter.widget-view+json": {
       "model_id": "d780ec7a9d94469d95175fc5e4567c3c",
       "version_major": 2,
       "version_minor": 0
      },
      "text/plain": [
       "HBox(children=(FloatProgress(value=0.0, max=3.0), HTML(value='')))"
      ]
     },
     "metadata": {},
     "output_type": "display_data"
    },
    {
     "name": "stdout",
     "output_type": "stream",
     "text": [
      "\n"
     ]
    },
    {
     "data": {
      "application/vnd.jupyter.widget-view+json": {
       "model_id": "df49c8c0fca14b258699842461c34b43",
       "version_major": 2,
       "version_minor": 0
      },
      "text/plain": [
       "HBox(children=(FloatProgress(value=0.0, max=20.0), HTML(value='')))"
      ]
     },
     "metadata": {},
     "output_type": "display_data"
    },
    {
     "name": "stdout",
     "output_type": "stream",
     "text": [
      "\n"
     ]
    },
    {
     "data": {
      "application/vnd.jupyter.widget-view+json": {
       "model_id": "4344d2e29e9649c9bab75ff5cf3e98b7",
       "version_major": 2,
       "version_minor": 0
      },
      "text/plain": [
       "HBox(children=(FloatProgress(value=0.0, max=48.0), HTML(value='')))"
      ]
     },
     "metadata": {},
     "output_type": "display_data"
    },
    {
     "name": "stdout",
     "output_type": "stream",
     "text": [
      "\n"
     ]
    },
    {
     "data": {
      "application/vnd.jupyter.widget-view+json": {
       "model_id": "bfe0843376a847a8a4ae711680232a7e",
       "version_major": 2,
       "version_minor": 0
      },
      "text/plain": [
       "HBox(children=(FloatProgress(value=0.0, max=33.0), HTML(value='')))"
      ]
     },
     "metadata": {},
     "output_type": "display_data"
    },
    {
     "name": "stdout",
     "output_type": "stream",
     "text": [
      "\n"
     ]
    },
    {
     "data": {
      "application/vnd.jupyter.widget-view+json": {
       "model_id": "9803e05cd8ce4cfbae00bcafe2dbcc98",
       "version_major": 2,
       "version_minor": 0
      },
      "text/plain": [
       "HBox(children=(FloatProgress(value=0.0, max=37.0), HTML(value='')))"
      ]
     },
     "metadata": {},
     "output_type": "display_data"
    },
    {
     "name": "stdout",
     "output_type": "stream",
     "text": [
      "\n"
     ]
    },
    {
     "data": {
      "application/vnd.jupyter.widget-view+json": {
       "model_id": "81ace49aaf0a43fe893a80b391aa1a56",
       "version_major": 2,
       "version_minor": 0
      },
      "text/plain": [
       "HBox(children=(FloatProgress(value=0.0, max=29.0), HTML(value='')))"
      ]
     },
     "metadata": {},
     "output_type": "display_data"
    },
    {
     "name": "stdout",
     "output_type": "stream",
     "text": [
      "\n"
     ]
    },
    {
     "data": {
      "application/vnd.jupyter.widget-view+json": {
       "model_id": "fa8b5ef6ac4a4b928880daf30d978d72",
       "version_major": 2,
       "version_minor": 0
      },
      "text/plain": [
       "HBox(children=(FloatProgress(value=0.0, max=6.0), HTML(value='')))"
      ]
     },
     "metadata": {},
     "output_type": "display_data"
    },
    {
     "name": "stdout",
     "output_type": "stream",
     "text": [
      "\n"
     ]
    },
    {
     "data": {
      "application/vnd.jupyter.widget-view+json": {
       "model_id": "c84ee370dbd4433a8d55d3e9934c5db9",
       "version_major": 2,
       "version_minor": 0
      },
      "text/plain": [
       "HBox(children=(FloatProgress(value=0.0, max=5.0), HTML(value='')))"
      ]
     },
     "metadata": {},
     "output_type": "display_data"
    },
    {
     "name": "stdout",
     "output_type": "stream",
     "text": [
      "\n"
     ]
    },
    {
     "data": {
      "application/vnd.jupyter.widget-view+json": {
       "model_id": "9d74f50956e84efeaf18732fad60ba69",
       "version_major": 2,
       "version_minor": 0
      },
      "text/plain": [
       "HBox(children=(FloatProgress(value=0.0, max=9.0), HTML(value='')))"
      ]
     },
     "metadata": {},
     "output_type": "display_data"
    },
    {
     "name": "stdout",
     "output_type": "stream",
     "text": [
      "\n"
     ]
    },
    {
     "data": {
      "application/vnd.jupyter.widget-view+json": {
       "model_id": "5ddfd0c016bd4ab59bc3ded6fb66cf8d",
       "version_major": 2,
       "version_minor": 0
      },
      "text/plain": [
       "HBox(children=(FloatProgress(value=0.0, max=36.0), HTML(value='')))"
      ]
     },
     "metadata": {},
     "output_type": "display_data"
    },
    {
     "name": "stdout",
     "output_type": "stream",
     "text": [
      "\n"
     ]
    },
    {
     "data": {
      "application/vnd.jupyter.widget-view+json": {
       "model_id": "f37bdf1485ba44149f2a7492c842b178",
       "version_major": 2,
       "version_minor": 0
      },
      "text/plain": [
       "HBox(children=(FloatProgress(value=0.0, max=9.0), HTML(value='')))"
      ]
     },
     "metadata": {},
     "output_type": "display_data"
    },
    {
     "name": "stdout",
     "output_type": "stream",
     "text": [
      "\n"
     ]
    },
    {
     "data": {
      "application/vnd.jupyter.widget-view+json": {
       "model_id": "29147f49fbd84bfa8f9b2597badccf68",
       "version_major": 2,
       "version_minor": 0
      },
      "text/plain": [
       "HBox(children=(FloatProgress(value=0.0, max=15.0), HTML(value='')))"
      ]
     },
     "metadata": {},
     "output_type": "display_data"
    },
    {
     "name": "stdout",
     "output_type": "stream",
     "text": [
      "\n"
     ]
    },
    {
     "data": {
      "application/vnd.jupyter.widget-view+json": {
       "model_id": "d5a1b4701613409ea30807cc5fb0de97",
       "version_major": 2,
       "version_minor": 0
      },
      "text/plain": [
       "HBox(children=(FloatProgress(value=0.0, max=28.0), HTML(value='')))"
      ]
     },
     "metadata": {},
     "output_type": "display_data"
    },
    {
     "name": "stdout",
     "output_type": "stream",
     "text": [
      "\n",
      "Working on limb L0 branch 590\n",
      "No spines and using precomputed width\n",
      "Working on limb L0 branch 21\n",
      "No spines and using precomputed width\n",
      "Working on limb L0 branch 415\n",
      "No spines and using precomputed width\n",
      "Working on limb L0 branch 20\n",
      "No spines and using precomputed width\n",
      "Working on limb L0 branch 196\n",
      "No spines and using precomputed width\n",
      "Working on limb L0 branch 19\n",
      "No spines and using precomputed width\n",
      "Working on limb L0 branch 50\n",
      "No spines and using precomputed width\n",
      "Working on limb L0 branch 195\n",
      "No spines and using precomputed width\n",
      "Working on limb L0 branch 210\n",
      "No spines and using precomputed width\n",
      "Working on limb L0 branch 18\n",
      "No spines and using precomputed width\n",
      "Working on limb L0 branch 259\n",
      "No spines and using precomputed width\n",
      "Working on limb L0 branch 49\n",
      "No spines and using precomputed width\n",
      "Working on limb L0 branch 576\n",
      "No spines and using precomputed width\n",
      "Working on limb L0 branch 194\n",
      "No spines and using precomputed width\n",
      "Working on limb L0 branch 295\n",
      "No spines and using precomputed width\n",
      "Working on limb L0 branch 209\n",
      "No spines and using precomputed width\n",
      "Working on limb L0 branch 254\n",
      "No spines and using precomputed width\n",
      "Working on limb L0 branch 17\n",
      "No spines and using precomputed width\n",
      "Working on limb L0 branch 34\n",
      "No spines and using precomputed width\n",
      "Working on limb L0 branch 48\n",
      "No spines and using precomputed width\n",
      "Working on limb L0 branch 123\n",
      "No spines and using precomputed width\n",
      "Working on limb L0 branch 193\n",
      "No spines and using precomputed width\n",
      "Working on limb L0 branch 474\n",
      "No spines and using precomputed width\n",
      "Working on limb L0 branch 253\n",
      "No spines and using precomputed width\n",
      "Working on limb L0 branch 548\n",
      "No spines and using precomputed width\n",
      "Working on limb L0 branch 16\n",
      "No spines and using precomputed width\n",
      "Working on limb L0 branch 518\n",
      "No spines and using precomputed width\n",
      "Working on limb L0 branch 33\n",
      "No spines and using precomputed width\n",
      "Working on limb L0 branch 126\n",
      "No spines and using precomputed width\n",
      "Working on limb L0 branch 47\n",
      "No spines and using precomputed width\n",
      "Working on limb L0 branch 314\n",
      "No spines and using precomputed width\n",
      "Working on limb L0 branch 122\n",
      "No spines and using precomputed width\n",
      "Working on limb L0 branch 183\n",
      "No spines and using precomputed width\n",
      "Working on limb L0 branch 15\n",
      "No spines and using precomputed width\n",
      "Working on limb L0 branch 219\n",
      "No spines and using precomputed width\n",
      "Working on limb L0 branch 32\n",
      "No spines and using precomputed width\n",
      "Working on limb L0 branch 511\n",
      "No spines and using precomputed width\n",
      "Working on limb L0 branch 125\n",
      "No spines and using precomputed width\n",
      "Working on limb L0 branch 189\n",
      "No spines and using precomputed width\n",
      "Working on limb L0 branch 46\n",
      "No spines and using precomputed width\n",
      "Working on limb L0 branch 470\n",
      "No spines and using precomputed width\n",
      "Working on limb L0 branch 313\n",
      "No spines and using precomputed width\n",
      "Working on limb L0 branch 419\n",
      "No spines and using precomputed width\n",
      "Working on limb L0 branch 121\n",
      "No spines and using precomputed width\n",
      "Working on limb L0 branch 236\n",
      "No spines and using precomputed width\n",
      "Working on limb L0 branch 182\n",
      "No spines and using precomputed width\n",
      "Working on limb L0 branch 252\n",
      "No spines and using precomputed width\n",
      "Working on limb L0 branch 14\n",
      "No spines and using precomputed width\n",
      "Working on limb L0 branch 62\n",
      "No spines and using precomputed width\n",
      "Working on limb L0 branch 31\n",
      "No spines and using precomputed width\n",
      "Working on limb L0 branch 99\n",
      "No spines and using precomputed width\n",
      "Working on limb L0 branch 124\n",
      "No spines and using precomputed width\n",
      "Working on limb L0 branch 552\n",
      "No spines and using precomputed width\n",
      "Working on limb L0 branch 188\n",
      "No spines and using precomputed width\n",
      "Working on limb L0 branch 397\n",
      "No spines and using precomputed width\n",
      "Working on limb L0 branch 45\n",
      "No spines and using precomputed width\n",
      "Working on limb L0 branch 245\n",
      "No spines and using precomputed width\n",
      "Working on limb L0 branch 418\n",
      "No spines and using precomputed width\n",
      "Working on limb L0 branch 492\n",
      "No spines and using precomputed width\n",
      "Working on limb L0 branch 120\n",
      "No spines and using precomputed width\n",
      "Working on limb L0 branch 266\n",
      "No spines and using precomputed width\n",
      "Working on limb L0 branch 235\n",
      "No spines and using precomputed width\n",
      "Working on limb L0 branch 296\n",
      "No spines and using precomputed width\n",
      "Working on limb L0 branch 13\n",
      "No spines and using precomputed width\n",
      "Working on limb L0 branch 360\n",
      "No spines and using precomputed width\n",
      "Working on limb L0 branch 61\n",
      "No spines and using precomputed width\n",
      "Working on limb L0 branch 550\n",
      "No spines and using precomputed width\n",
      "Working on limb L0 branch 30\n",
      "No spines and using precomputed width\n",
      "Working on limb L0 branch 477\n",
      "No spines and using precomputed width\n",
      "Working on limb L0 branch 98\n",
      "No spines and using precomputed width\n",
      "Working on limb L0 branch 238\n",
      "No spines and using precomputed width\n",
      "Working on limb L0 branch 187\n",
      "No spines and using precomputed width\n",
      "Working on limb L0 branch 490\n",
      "No spines and using precomputed width\n",
      "Working on limb L0 branch 396\n",
      "No spines and using precomputed width\n",
      "Working on limb L0 branch 585\n",
      "No spines and using precomputed width\n",
      "Working on limb L0 branch 44\n",
      "No spines and using precomputed width\n",
      "Working on limb L0 branch 138\n",
      "No spines and using precomputed width\n",
      "Working on limb L0 branch 244\n",
      "No spines and using precomputed width\n",
      "Working on limb L0 branch 289\n",
      "No spines and using precomputed width\n",
      "Working on limb L0 branch 417\n",
      "No spines and using precomputed width\n",
      "Working on limb L0 branch 491\n",
      "No spines and using precomputed width\n",
      "Working on limb L0 branch 265\n",
      "No spines and using precomputed width\n",
      "Working on limb L0 branch 321\n",
      "No spines and using precomputed width\n",
      "Working on limb L0 branch 12\n",
      "No spines and using precomputed width\n",
      "Working on limb L0 branch 80\n",
      "No spines and using precomputed width\n",
      "Working on limb L0 branch 359\n",
      "No spines and using precomputed width\n",
      "Working on limb L0 branch 529\n",
      "No spines and using precomputed width\n",
      "Working on limb L0 branch 60\n",
      "No spines and using precomputed width\n",
      "Working on limb L0 branch 174\n",
      "No spines and using precomputed width\n",
      "Working on limb L0 branch 29\n",
      "No spines and using precomputed width\n",
      "Working on limb L0 branch 493\n",
      "No spines and using precomputed width\n",
      "Working on limb L0 branch 476\n",
      "No spines and using precomputed width\n",
      "Working on limb L0 branch 584\n",
      "No spines and using precomputed width\n",
      "Working on limb L0 branch 97\n",
      "No spines and using precomputed width\n",
      "Working on limb L0 branch 165\n",
      "No spines and using precomputed width\n",
      "Working on limb L0 branch 237\n",
      "No spines and using precomputed width\n",
      "Working on limb L0 branch 345\n",
      "No spines and using precomputed width\n",
      "Working on limb L0 branch 186\n",
      "No spines and using precomputed width\n",
      "Working on limb L0 branch 191\n",
      "No spines and using precomputed width\n",
      "Working on limb L0 branch 43\n",
      "No spines and using precomputed width\n",
      "Working on limb L0 branch 204\n",
      "No spines and using precomputed width\n",
      "Working on limb L0 branch 137\n",
      "No spines and using precomputed width\n",
      "Working on limb L0 branch 190\n",
      "No spines and using precomputed width\n",
      "Working on limb L0 branch 243\n",
      "No spines and using precomputed width\n",
      "Working on limb L0 branch 457\n",
      "No spines and using precomputed width\n",
      "Working on limb L0 branch 288\n",
      "No spines and using precomputed width\n",
      "Working on limb L0 branch 327\n",
      "No spines and using precomputed width\n",
      "Working on limb L0 branch 264\n",
      "No spines and using precomputed width\n",
      "Working on limb L0 branch 371\n",
      "No spines and using precomputed width\n",
      "Working on limb L0 branch 320\n",
      "No spines and using precomputed width\n",
      "Working on limb L0 branch 324\n",
      "No spines and using precomputed width\n",
      "Working on limb L0 branch 482\n",
      "No spines and using precomputed width\n",
      "Working on limb L0 branch 11\n",
      "No spines and using precomputed width\n",
      "Working on limb L0 branch 246\n",
      "No spines and using precomputed width\n",
      "Working on limb L0 branch 79\n",
      "No spines and using precomputed width\n",
      "Working on limb L0 branch 88\n",
      "No spines and using precomputed width\n",
      "Working on limb L0 branch 59\n",
      "No spines and using precomputed width\n",
      "Working on limb L0 branch 414\n",
      "No spines and using precomputed width\n",
      "Working on limb L0 branch 96\n",
      "No spines and using precomputed width\n",
      "Working on limb L0 branch 273\n",
      "No spines and using precomputed width\n",
      "Working on limb L0 branch 323\n",
      "No spines and using precomputed width\n",
      "Working on limb L0 branch 425\n",
      "No spines and using precomputed width\n",
      "Working on limb L0 branch 437\n",
      "No spines and using precomputed width\n",
      "Working on limb L0 branch 504\n",
      "No spines and using precomputed width\n",
      "Working on limb L0 branch 536\n",
      "No spines and using precomputed width\n",
      "Working on limb L0 branch 344\n",
      "No spines and using precomputed width\n",
      "Working on limb L0 branch 528\n",
      "No spines and using precomputed width\n",
      "Working on limb L0 branch 185\n",
      "No spines and using precomputed width\n",
      "Working on limb L0 branch 501\n",
      "No spines and using precomputed width\n",
      "Working on limb L0 branch 42\n",
      "No spines and using precomputed width\n",
      "Working on limb L0 branch 164\n",
      "No spines and using precomputed width\n",
      "Working on limb L0 branch 581\n",
      "No spines and using precomputed width\n",
      "Working on limb L0 branch 136\n",
      "No spines and using precomputed width\n",
      "Working on limb L0 branch 562\n",
      "No spines and using precomputed width\n",
      "Working on limb L0 branch 242\n",
      "No spines and using precomputed width\n",
      "Working on limb L0 branch 307\n",
      "No spines and using precomputed width\n",
      "Working on limb L0 branch 287\n",
      "No spines and using precomputed width\n",
      "Working on limb L0 branch 451\n",
      "No spines and using precomputed width\n",
      "Working on limb L0 branch 263\n",
      "No spines and using precomputed width\n",
      "Working on limb L0 branch 570\n",
      "No spines and using precomputed width\n",
      "Working on limb L0 branch 370\n",
      "No spines and using precomputed width\n",
      "Working on limb L0 branch 586\n",
      "No spines and using precomputed width\n",
      "Working on limb L0 branch 319\n",
      "No spines and using precomputed width\n",
      "Working on limb L0 branch 503\n",
      "No spines and using precomputed width\n",
      "Working on limb L0 branch 10\n",
      "No spines and using precomputed width\n",
      "Working on limb L0 branch 338\n",
      "No spines and using precomputed width\n",
      "Working on limb L0 branch 78\n",
      "No spines and using precomputed width\n",
      "Working on limb L0 branch 382\n",
      "No spines and using precomputed width\n",
      "Working on limb L0 branch 87\n",
      "No spines and using precomputed width\n",
      "Working on limb L0 branch 430\n",
      "No spines and using precomputed width\n",
      "Working on limb L0 branch 58\n",
      "No spines and using precomputed width\n",
      "Working on limb L0 branch 176\n",
      "No spines and using precomputed width\n",
      "Working on limb L0 branch 413\n",
      "No spines and using precomputed width\n",
      "Working on limb L0 branch 526\n",
      "No spines and using precomputed width\n",
      "Working on limb L0 branch 95\n",
      "No spines and using precomputed width\n",
      "Working on limb L0 branch 119\n",
      "No spines and using precomputed width\n",
      "Working on limb L0 branch 322\n",
      "No spines and using precomputed width\n",
      "Working on limb L0 branch 544\n",
      "No spines and using precomputed width\n",
      "Working on limb L0 branch 527\n",
      "No spines and using precomputed width\n",
      "Working on limb L0 branch 539\n",
      "No spines and using precomputed width\n",
      "Working on limb L0 branch 184\n",
      "No spines and using precomputed width\n",
      "Working on limb L0 branch 346\n",
      "No spines and using precomputed width\n",
      "Working on limb L0 branch 41\n",
      "No spines and using precomputed width\n",
      "Working on limb L0 branch 229\n",
      "No spines and using precomputed width\n",
      "Working on limb L0 branch 294\n",
      "No spines and using precomputed width\n",
      "Working on limb L0 branch 163\n",
      "No spines and using precomputed width\n",
      "Working on limb L0 branch 208\n",
      "No spines and using precomputed width\n",
      "Working on limb L0 branch 135\n",
      "No spines and using precomputed width\n",
      "Working on limb L0 branch 369\n",
      "No spines and using precomputed width\n",
      "Working on limb L0 branch 306\n",
      "No spines and using precomputed width\n",
      "Working on limb L0 branch 520\n",
      "No spines and using precomputed width\n",
      "Working on limb L0 branch 286\n",
      "No spines and using precomputed width\n",
      "Working on limb L0 branch 342\n",
      "No spines and using precomputed width\n",
      "Working on limb L0 branch 450\n",
      "No spines and using precomputed width\n",
      "Working on limb L0 branch 461\n",
      "No spines and using precomputed width\n",
      "Working on limb L0 branch 318\n",
      "No spines and using precomputed width\n",
      "Working on limb L0 branch 543\n",
      "No spines and using precomputed width\n",
      "Working on limb L0 branch 9\n",
      "No spines and using precomputed width\n",
      "Working on limb L0 branch 361\n",
      "No spines and using precomputed width\n",
      "Working on limb L0 branch 433\n",
      "No spines and using precomputed width\n",
      "Working on limb L0 branch 557\n",
      "No spines and using precomputed width\n",
      "Working on limb L0 branch 337\n",
      "No spines and using precomputed width\n",
      "Working on limb L0 branch 525\n",
      "No spines and using precomputed width\n",
      "Working on limb L0 branch 77\n",
      "No spines and using precomputed width\n",
      "Working on limb L0 branch 316\n",
      "No spines and using precomputed width\n",
      "Working on limb L0 branch 381\n",
      "No spines and using precomputed width\n",
      "Working on limb L0 branch 460\n",
      "No spines and using precomputed width\n",
      "Working on limb L0 branch 86\n",
      "No spines and using precomputed width\n",
      "Working on limb L0 branch 484\n",
      "No spines and using precomputed width\n",
      "Working on limb L0 branch 57\n",
      "No spines and using precomputed width\n",
      "Working on limb L0 branch 227\n",
      "No spines and using precomputed width\n",
      "Working on limb L0 branch 412\n",
      "No spines and using precomputed width\n",
      "Working on limb L0 branch 485\n",
      "No spines and using precomputed width\n",
      "Working on limb L0 branch 94\n",
      "No spines and using precomputed width\n",
      "Working on limb L0 branch 386\n",
      "No spines and using precomputed width\n",
      "Working on limb L0 branch 118\n",
      "No spines and using precomputed width\n",
      "Working on limb L0 branch 203\n",
      "No spines and using precomputed width\n",
      "Working on limb L0 branch 453\n",
      "No spines and using precomputed width\n",
      "Working on limb L0 branch 293\n",
      "No spines and using precomputed width\n",
      "Working on limb L0 branch 496\n",
      "No spines and using precomputed width\n",
      "Working on limb L0 branch 207\n",
      "No spines and using precomputed width\n",
      "Working on limb L0 branch 343\n",
      "No spines and using precomputed width\n",
      "Working on limb L0 branch 134\n",
      "No spines and using precomputed width\n",
      "Working on limb L0 branch 388\n",
      "No spines and using precomputed width\n",
      "Working on limb L0 branch 368\n",
      "No spines and using precomputed width\n",
      "Working on limb L0 branch 394\n",
      "No spines and using precomputed width\n",
      "Working on limb L0 branch 285\n",
      "No spines and using precomputed width\n",
      "Working on limb L0 branch 519\n",
      "No spines and using precomputed width\n",
      "Working on limb L0 branch 341\n",
      "No spines and using precomputed width\n",
      "Working on limb L0 branch 403\n",
      "No spines and using precomputed width\n",
      "Working on limb L0 branch 8\n",
      "No spines and using precomputed width\n",
      "Working on limb L0 branch 53\n",
      "No spines and using precomputed width\n",
      "Working on limb L0 branch 432\n",
      "No spines and using precomputed width\n",
      "Working on limb L0 branch 464\n",
      "No spines and using precomputed width\n",
      "Working on limb L0 branch 336\n",
      "No spines and using precomputed width\n",
      "Working on limb L0 branch 452\n",
      "No spines and using precomputed width\n",
      "Working on limb L0 branch 555\n",
      "No spines and using precomputed width\n",
      "Working on limb L0 branch 588\n",
      "No spines and using precomputed width\n",
      "Working on limb L0 branch 76\n",
      "No spines and using precomputed width\n",
      "Working on limb L0 branch 172\n",
      "No spines and using precomputed width\n",
      "Working on limb L0 branch 333\n",
      "No spines and using precomputed width\n",
      "Working on limb L0 branch 315\n",
      "No spines and using precomputed width\n",
      "Working on limb L0 branch 407\n",
      "No spines and using precomputed width\n",
      "Working on limb L0 branch 380\n",
      "No spines and using precomputed width\n",
      "Working on limb L0 branch 456\n",
      "No spines and using precomputed width\n",
      "Working on limb L0 branch 459\n",
      "No spines and using precomputed width\n",
      "Working on limb L0 branch 580\n",
      "No spines and using precomputed width\n",
      "Working on limb L0 branch 85\n",
      "No spines and using precomputed width\n",
      "Working on limb L0 branch 206\n",
      "No spines and using precomputed width\n",
      "Working on limb L0 branch 325\n",
      "No spines and using precomputed width\n",
      "Working on limb L0 branch 56\n",
      "No spines and using precomputed width\n",
      "Working on limb L0 branch 251\n",
      "No spines and using precomputed width\n",
      "Working on limb L0 branch 312\n",
      "No spines and using precomputed width\n",
      "Working on limb L0 branch 428\n",
      "No spines and using precomputed width\n",
      "Working on limb L0 branch 226\n",
      "No spines and using precomputed width\n",
      "Working on limb L0 branch 366\n",
      "No spines and using precomputed width\n",
      "Working on limb L0 branch 411\n",
      "No spines and using precomputed width\n",
      "Working on limb L0 branch 440\n",
      "No spines and using precomputed width\n",
      "Working on limb L0 branch 385\n",
      "No spines and using precomputed width\n",
      "Working on limb L0 branch 514\n",
      "No spines and using precomputed width\n",
      "Working on limb L0 branch 117\n",
      "No spines and using precomputed width\n",
      "Working on limb L0 branch 129\n",
      "No spines and using precomputed width\n",
      "Working on limb L0 branch 202\n",
      "No spines and using precomputed width\n",
      "Working on limb L0 branch 274\n",
      "No spines and using precomputed width\n",
      "Working on limb L0 branch 390\n",
      "No spines and using precomputed width\n",
      "Working on limb L0 branch 133\n",
      "No spines and using precomputed width\n",
      "Working on limb L0 branch 162\n",
      "No spines and using precomputed width\n",
      "Working on limb L0 branch 393\n",
      "No spines and using precomputed width\n",
      "Working on limb L0 branch 524\n",
      "No spines and using precomputed width\n",
      "Working on limb L0 branch 284\n",
      "No spines and using precomputed width\n",
      "Working on limb L0 branch 540\n",
      "No spines and using precomputed width\n",
      "Working on limb L0 branch 402\n",
      "No spines and using precomputed width\n",
      "Working on limb L0 branch 506\n",
      "No spines and using precomputed width\n",
      "Working on limb L0 branch 7\n",
      "No spines and using precomputed width\n",
      "Working on limb L0 branch 489\n",
      "No spines and using precomputed width\n",
      "Working on limb L0 branch 52\n",
      "No spines and using precomputed width\n",
      "Working on limb L0 branch 213\n",
      "No spines and using precomputed width\n",
      "Working on limb L0 branch 463\n",
      "No spines and using precomputed width\n",
      "Working on limb L0 branch 510\n",
      "No spines and using precomputed width\n",
      "Working on limb L0 branch 75\n",
      "No spines and using precomputed width\n",
      "Working on limb L0 branch 330\n",
      "No spines and using precomputed width\n",
      "Working on limb L0 branch 171\n",
      "No spines and using precomputed width\n",
      "Working on limb L0 branch 421\n",
      "No spines and using precomputed width\n",
      "Working on limb L0 branch 332\n",
      "No spines and using precomputed width\n",
      "Working on limb L0 branch 436\n",
      "No spines and using precomputed width\n",
      "Working on limb L0 branch 84\n",
      "No spines and using precomputed width\n",
      "Working on limb L0 branch 278\n",
      "No spines and using precomputed width\n",
      "Working on limb L0 branch 55\n",
      "No spines and using precomputed width\n",
      "Working on limb L0 branch 547\n",
      "No spines and using precomputed width\n",
      "Working on limb L0 branch 250\n",
      "No spines and using precomputed width\n",
      "Working on limb L0 branch 326\n",
      "No spines and using precomputed width\n",
      "Working on limb L0 branch 383\n",
      "No spines and using precomputed width\n",
      "Working on limb L0 branch 311\n",
      "No spines and using precomputed width\n",
      "Working on limb L0 branch 434\n",
      "No spines and using precomputed width\n",
      "Working on limb L0 branch 225\n",
      "No spines and using precomputed width\n",
      "Working on limb L0 branch 262\n",
      "No spines and using precomputed width\n",
      "Working on limb L0 branch 384\n",
      "No spines and using precomputed width\n",
      "Working on limb L0 branch 579\n",
      "No spines and using precomputed width\n",
      "Working on limb L0 branch 116\n",
      "No spines and using precomputed width\n",
      "Working on limb L0 branch 154\n",
      "No spines and using precomputed width\n",
      "Working on limb L0 branch 128\n",
      "No spines and using precomputed width\n",
      "Working on limb L0 branch 155\n",
      "No spines and using precomputed width\n",
      "Working on limb L0 branch 255\n",
      "No spines and using precomputed width\n",
      "Working on limb L0 branch 389\n",
      "No spines and using precomputed width\n",
      "Working on limb L0 branch 559\n",
      "No spines and using precomputed width\n",
      "Working on limb L0 branch 132\n",
      "No spines and using precomputed width\n",
      "Working on limb L0 branch 538\n",
      "No spines and using precomputed width\n",
      "Working on limb L0 branch 161\n",
      "No spines and using precomputed width\n",
      "Working on limb L0 branch 269\n",
      "No spines and using precomputed width\n",
      "Working on limb L0 branch 392\n",
      "No spines and using precomputed width\n",
      "Working on limb L0 branch 561\n",
      "No spines and using precomputed width\n",
      "Working on limb L0 branch 401\n",
      "No spines and using precomputed width\n",
      "Working on limb L0 branch 521\n",
      "No spines and using precomputed width\n",
      "Working on limb L0 branch 6\n",
      "No spines and using precomputed width\n",
      "Working on limb L0 branch 106\n",
      "No spines and using precomputed width\n",
      "Working on limb L0 branch 488\n",
      "No spines and using precomputed width\n",
      "Working on limb L0 branch 573\n",
      "No spines and using precomputed width\n",
      "Working on limb L0 branch 51\n",
      "No spines and using precomputed width\n",
      "Working on limb L0 branch 83\n",
      "No spines and using precomputed width\n",
      "Working on limb L0 branch 223\n",
      "No spines and using precomputed width\n",
      "Working on limb L0 branch 212\n",
      "No spines and using precomputed width\n",
      "Working on limb L0 branch 429\n",
      "No spines and using precomputed width\n",
      "Working on limb L0 branch 462\n",
      "No spines and using precomputed width\n",
      "Working on limb L0 branch 575\n",
      "No spines and using precomputed width\n",
      "Working on limb L0 branch 74\n",
      "No spines and using precomputed width\n",
      "Working on limb L0 branch 569\n",
      "No spines and using precomputed width\n",
      "Working on limb L0 branch 329\n",
      "No spines and using precomputed width\n",
      "Working on limb L0 branch 498\n",
      "No spines and using precomputed width\n",
      "Working on limb L0 branch 170\n",
      "No spines and using precomputed width\n",
      "Working on limb L0 branch 228\n",
      "No spines and using precomputed width\n",
      "Working on limb L0 branch 331\n",
      "No spines and using precomputed width\n",
      "Working on limb L0 branch 522\n",
      "No spines and using precomputed width\n",
      "Working on limb L0 branch 435\n",
      "No spines and using precomputed width\n",
      "Working on limb L0 branch 515\n",
      "No spines and using precomputed width\n",
      "Working on limb L0 branch 54\n",
      "No spines and using precomputed width\n",
      "Working on limb L0 branch 169\n",
      "No spines and using precomputed width\n",
      "Working on limb L0 branch 546\n",
      "No spines and using precomputed width\n",
      "Working on limb L0 branch 563\n",
      "No spines and using precomputed width\n",
      "Working on limb L0 branch 249\n",
      "No spines and using precomputed width\n",
      "Working on limb L0 branch 446\n",
      "No spines and using precomputed width\n",
      "Working on limb L0 branch 310\n",
      "No spines and using precomputed width\n",
      "Working on limb L0 branch 410\n",
      "No spines and using precomputed width\n",
      "Working on limb L0 branch 224\n",
      "No spines and using precomputed width\n",
      "Working on limb L0 branch 497\n",
      "No spines and using precomputed width\n",
      "Working on limb L0 branch 153\n",
      "No spines and using precomputed width\n",
      "Working on limb L0 branch 192\n",
      "No spines and using precomputed width\n",
      "Working on limb L0 branch 241\n",
      "No spines and using precomputed width\n",
      "Working on limb L0 branch 127\n",
      "No spines and using precomputed width\n",
      "Working on limb L0 branch 152\n",
      "No spines and using precomputed width\n",
      "Working on limb L0 branch 180\n",
      "No spines and using precomputed width\n",
      "Working on limb L0 branch 468\n",
      "No spines and using precomputed width\n",
      "Working on limb L0 branch 131\n",
      "No spines and using precomputed width\n",
      "Working on limb L0 branch 248\n",
      "No spines and using precomputed width\n",
      "Working on limb L0 branch 160\n",
      "No spines and using precomputed width\n",
      "Working on limb L0 branch 317\n",
      "No spines and using precomputed width\n",
      "Working on limb L0 branch 400\n",
      "No spines and using precomputed width\n",
      "Working on limb L0 branch 471\n",
      "No spines and using precomputed width\n",
      "Working on limb L0 branch 5\n",
      "No spines and using precomputed width\n",
      "Working on limb L0 branch 300\n",
      "No spines and using precomputed width\n",
      "Working on limb L0 branch 439\n",
      "No spines and using precomputed width\n",
      "Working on limb L0 branch 500\n",
      "No spines and using precomputed width\n",
      "Working on limb L0 branch 105\n",
      "No spines and using precomputed width\n",
      "Working on limb L0 branch 268\n",
      "No spines and using precomputed width\n",
      "Working on limb L0 branch 82\n",
      "No spines and using precomputed width\n",
      "Working on limb L0 branch 475\n",
      "No spines and using precomputed width\n",
      "Working on limb L0 branch 537\n",
      "No spines and using precomputed width\n",
      "Working on limb L0 branch 211\n",
      "No spines and using precomputed width\n",
      "Working on limb L0 branch 534\n",
      "No spines and using precomputed width\n",
      "Working on limb L0 branch 73\n"
     ]
    },
    {
     "name": "stdout",
     "output_type": "stream",
     "text": [
      "No spines and using precomputed width\n",
      "Working on limb L0 branch 156\n",
      "No spines and using precomputed width\n",
      "Working on limb L0 branch 168\n",
      "No spines and using precomputed width\n",
      "Working on limb L0 branch 556\n",
      "No spines and using precomputed width\n",
      "Working on limb L0 branch 445\n",
      "No spines and using precomputed width\n",
      "Working on limb L0 branch 495\n",
      "No spines and using precomputed width\n",
      "Working on limb L0 branch 589\n",
      "No spines and using precomputed width\n",
      "Working on limb L0 branch 309\n",
      "No spines and using precomputed width\n",
      "Working on limb L0 branch 365\n",
      "No spines and using precomputed width\n",
      "Working on limb L0 branch 151\n",
      "No spines and using precomputed width\n",
      "Working on limb L0 branch 423\n",
      "No spines and using precomputed width\n",
      "Working on limb L0 branch 467\n",
      "No spines and using precomputed width\n",
      "Working on limb L0 branch 481\n",
      "No spines and using precomputed width\n",
      "Working on limb L0 branch 130\n",
      "No spines and using precomputed width\n",
      "Working on limb L0 branch 216\n",
      "No spines and using precomputed width\n",
      "Working on limb L0 branch 247\n",
      "No spines and using precomputed width\n",
      "Working on limb L0 branch 374\n",
      "No spines and using precomputed width\n",
      "Working on limb L0 branch 159\n",
      "No spines and using precomputed width\n",
      "Working on limb L0 branch 283\n",
      "No spines and using precomputed width\n",
      "Working on limb L0 branch 399\n",
      "No spines and using precomputed width\n",
      "Working on limb L0 branch 469\n",
      "No spines and using precomputed width\n",
      "Working on limb L0 branch 4\n",
      "No spines and using precomputed width\n",
      "Working on limb L0 branch 93\n",
      "No spines and using precomputed width\n",
      "Working on limb L0 branch 146\n",
      "No spines and using precomputed width\n",
      "Working on limb L0 branch 261\n",
      "No spines and using precomputed width\n",
      "Working on limb L0 branch 272\n",
      "No spines and using precomputed width\n",
      "Working on limb L0 branch 299\n",
      "No spines and using precomputed width\n",
      "Working on limb L0 branch 441\n",
      "No spines and using precomputed width\n",
      "Working on limb L0 branch 104\n",
      "No spines and using precomputed width\n",
      "Working on limb L0 branch 494\n",
      "No spines and using precomputed width\n",
      "Working on limb L0 branch 267\n",
      "No spines and using precomputed width\n",
      "Working on limb L0 branch 420\n",
      "No spines and using precomputed width\n",
      "Working on limb L0 branch 81\n",
      "No spines and using precomputed width\n",
      "Working on limb L0 branch 215\n",
      "No spines and using precomputed width\n",
      "Working on limb L0 branch 72\n",
      "No spines and using precomputed width\n",
      "Working on limb L0 branch 340\n",
      "No spines and using precomputed width\n",
      "Working on limb L0 branch 308\n",
      "No spines and using precomputed width\n",
      "Working on limb L0 branch 508\n",
      "No spines and using precomputed width\n",
      "Working on limb L0 branch 150\n",
      "No spines and using precomputed width\n",
      "Working on limb L0 branch 220\n",
      "No spines and using precomputed width\n",
      "Working on limb L0 branch 422\n",
      "No spines and using precomputed width\n",
      "Working on limb L0 branch 545\n",
      "No spines and using precomputed width\n",
      "Working on limb L0 branch 480\n",
      "No spines and using precomputed width\n",
      "Working on limb L0 branch 568\n",
      "No spines and using precomputed width\n",
      "Working on limb L0 branch 158\n",
      "No spines and using precomputed width\n",
      "Working on limb L0 branch 277\n",
      "No spines and using precomputed width\n",
      "Working on limb L0 branch 398\n",
      "No spines and using precomputed width\n",
      "Working on limb L0 branch 542\n",
      "No spines and using precomputed width\n",
      "Working on limb L0 branch 3\n",
      "No spines and using precomputed width\n",
      "Working on limb L0 branch 40\n",
      "No spines and using precomputed width\n",
      "Working on limb L0 branch 535\n",
      "No spines and using precomputed width\n",
      "Working on limb L0 branch 92\n",
      "No spines and using precomputed width\n",
      "Working on limb L0 branch 405\n",
      "No spines and using precomputed width\n",
      "Working on limb L0 branch 145\n",
      "No spines and using precomputed width\n",
      "Working on limb L0 branch 298\n",
      "No spines and using precomputed width\n",
      "Working on limb L0 branch 424\n",
      "No spines and using precomputed width\n",
      "Working on limb L0 branch 260\n",
      "No spines and using precomputed width\n",
      "Working on limb L0 branch 409\n",
      "No spines and using precomputed width\n",
      "Working on limb L0 branch 271\n",
      "No spines and using precomputed width\n",
      "Working on limb L0 branch 541\n",
      "No spines and using precomputed width\n",
      "Working on limb L0 branch 103\n",
      "No spines and using precomputed width\n",
      "Working on limb L0 branch 364\n",
      "No spines and using precomputed width\n",
      "Working on limb L0 branch 214\n",
      "No spines and using precomputed width\n",
      "Working on limb L0 branch 350\n",
      "No spines and using precomputed width\n",
      "Working on limb L0 branch 71\n",
      "No spines and using precomputed width\n",
      "Working on limb L0 branch 258\n",
      "No spines and using precomputed width\n",
      "Working on limb L0 branch 339\n",
      "No spines and using precomputed width\n",
      "Working on limb L0 branch 387\n",
      "No spines and using precomputed width\n",
      "Working on limb L0 branch 448\n",
      "No spines and using precomputed width\n",
      "Working on limb L0 branch 507\n",
      "No spines and using precomputed width\n",
      "Working on limb L0 branch 549\n",
      "No spines and using precomputed width\n",
      "Working on limb L0 branch 149\n",
      "No spines and using precomputed width\n",
      "Working on limb L0 branch 478\n",
      "No spines and using precomputed width\n",
      "Working on limb L0 branch 157\n",
      "No spines and using precomputed width\n",
      "Working on limb L0 branch 416\n",
      "No spines and using precomputed width\n",
      "Working on limb L0 branch 2\n",
      "No spines and using precomputed width\n",
      "Working on limb L0 branch 201\n",
      "No spines and using precomputed width\n",
      "Working on limb L0 branch 39\n",
      "No spines and using precomputed width\n",
      "Working on limb L0 branch 348\n",
      "No spines and using precomputed width\n",
      "Working on limb L0 branch 91\n",
      "No spines and using precomputed width\n",
      "Working on limb L0 branch 115\n",
      "No spines and using precomputed width\n",
      "Working on limb L0 branch 404\n",
      "No spines and using precomputed width\n",
      "Working on limb L0 branch 449\n",
      "No spines and using precomputed width\n",
      "Working on limb L0 branch 144\n",
      "No spines and using precomputed width\n",
      "Working on limb L0 branch 512\n",
      "No spines and using precomputed width\n",
      "Working on limb L0 branch 270\n",
      "No spines and using precomputed width\n",
      "Working on limb L0 branch 292\n",
      "No spines and using precomputed width\n",
      "Working on limb L0 branch 102\n",
      "No spines and using precomputed width\n",
      "Working on limb L0 branch 357\n",
      "No spines and using precomputed width\n",
      "Working on limb L0 branch 70\n",
      "No spines and using precomputed width\n",
      "Working on limb L0 branch 373\n",
      "No spines and using precomputed width\n",
      "Working on limb L0 branch 257\n",
      "No spines and using precomputed width\n",
      "Working on limb L0 branch 351\n",
      "No spines and using precomputed width\n",
      "Working on limb L0 branch 148\n",
      "No spines and using precomputed width\n",
      "Working on limb L0 branch 431\n",
      "No spines and using precomputed width\n",
      "Working on limb L0 branch 1\n",
      "No spines and using precomputed width\n",
      "Working on limb L0 branch 28\n",
      "No spines and using precomputed width\n",
      "Working on limb L0 branch 200\n",
      "No spines and using precomputed width\n",
      "Working on limb L0 branch 377\n",
      "No spines and using precomputed width\n",
      "Working on limb L0 branch 379\n",
      "No spines and using precomputed width\n",
      "Working on limb L0 branch 38\n",
      "No spines and using precomputed width\n",
      "Working on limb L0 branch 69\n",
      "No spines and using precomputed width\n",
      "Working on limb L0 branch 455\n",
      "No spines and using precomputed width\n",
      "Working on limb L0 branch 347\n",
      "No spines and using precomputed width\n",
      "Working on limb L0 branch 473\n",
      "No spines and using precomputed width\n",
      "Working on limb L0 branch 90\n",
      "No spines and using precomputed width\n",
      "Working on limb L0 branch 367\n",
      "No spines and using precomputed width\n",
      "Working on limb L0 branch 114\n",
      "No spines and using precomputed width\n",
      "Working on limb L0 branch 173\n",
      "No spines and using precomputed width\n",
      "Working on limb L0 branch 143\n",
      "No spines and using precomputed width\n",
      "Working on limb L0 branch 217\n",
      "No spines and using precomputed width\n",
      "Working on limb L0 branch 291\n",
      "No spines and using precomputed width\n",
      "Working on limb L0 branch 335\n",
      "No spines and using precomputed width\n",
      "Working on limb L0 branch 395\n",
      "No spines and using precomputed width\n",
      "Working on limb L0 branch 101\n",
      "No spines and using precomputed width\n",
      "Working on limb L0 branch 355\n",
      "No spines and using precomputed width\n",
      "Working on limb L0 branch 372\n",
      "No spines and using precomputed width\n",
      "Working on limb L0 branch 516\n",
      "No spines and using precomputed width\n",
      "Working on limb L0 branch 147\n",
      "No spines and using precomputed width\n",
      "Working on limb L0 branch 218\n",
      "No spines and using precomputed width\n",
      "Working on limb L0 branch 0\n",
      "No spines and using precomputed width\n",
      "Working on limb L0 branch 502\n",
      "No spines and using precomputed width\n",
      "Working on limb L0 branch 27\n",
      "No spines and using precomputed width\n",
      "Working on limb L0 branch 178\n",
      "No spines and using precomputed width\n",
      "Working on limb L0 branch 179\n",
      "No spines and using precomputed width\n",
      "Working on limb L0 branch 199\n",
      "No spines and using precomputed width\n",
      "Working on limb L0 branch 376\n",
      "No spines and using precomputed width\n",
      "Working on limb L0 branch 37\n",
      "No spines and using precomputed width\n",
      "Working on limb L0 branch 523\n",
      "No spines and using precomputed width\n",
      "Working on limb L0 branch 564\n",
      "No spines and using precomputed width\n",
      "Working on limb L0 branch 68\n",
      "No spines and using precomputed width\n",
      "Working on limb L0 branch 551\n",
      "No spines and using precomputed width\n",
      "Working on limb L0 branch 472\n",
      "No spines and using precomputed width\n",
      "Working on limb L0 branch 566\n",
      "No spines and using precomputed width\n",
      "Working on limb L0 branch 89\n",
      "No spines and using precomputed width\n",
      "Working on limb L0 branch 221\n",
      "No spines and using precomputed width\n",
      "Working on limb L0 branch 113\n",
      "No spines and using precomputed width\n",
      "Working on limb L0 branch 513\n",
      "No spines and using precomputed width\n",
      "Working on limb L0 branch 142\n",
      "No spines and using precomputed width\n",
      "Working on limb L0 branch 282\n",
      "No spines and using precomputed width\n",
      "Working on limb L0 branch 290\n",
      "No spines and using precomputed width\n",
      "Working on limb L0 branch 302\n",
      "No spines and using precomputed width\n",
      "Working on limb L0 branch 486\n",
      "No spines and using precomputed width\n",
      "Working on limb L0 branch 334\n",
      "No spines and using precomputed width\n",
      "Working on limb L0 branch 483\n",
      "No spines and using precomputed width\n",
      "Working on limb L0 branch 100\n",
      "No spines and using precomputed width\n",
      "Working on limb L0 branch 408\n",
      "No spines and using precomputed width\n",
      "Working on limb L0 branch 354\n",
      "No spines and using precomputed width\n",
      "Working on limb L0 branch 479\n",
      "No spines and using precomputed width\n",
      "Working on limb L0 branch 531\n",
      "No spines and using precomputed width\n",
      "Working on limb L0 branch 26\n",
      "No spines and using precomputed width\n",
      "Working on limb L0 branch 175\n",
      "No spines and using precomputed width\n",
      "Working on limb L0 branch 198\n",
      "No spines and using precomputed width\n",
      "Working on limb L0 branch 349\n",
      "No spines and using precomputed width\n",
      "Working on limb L0 branch 375\n",
      "No spines and using precomputed width\n",
      "Working on limb L0 branch 458\n",
      "No spines and using precomputed width\n",
      "Working on limb L0 branch 36\n",
      "No spines and using precomputed width\n",
      "Working on limb L0 branch 234\n",
      "No spines and using precomputed width\n",
      "Working on limb L0 branch 301\n",
      "No spines and using precomputed width\n",
      "Working on limb L0 branch 67\n",
      "No spines and using precomputed width\n",
      "Working on limb L0 branch 141\n",
      "No spines and using precomputed width\n",
      "Working on limb L0 branch 426\n",
      "No spines and using precomputed width\n",
      "Working on limb L0 branch 112\n",
      "No spines and using precomputed width\n",
      "Working on limb L0 branch 256\n",
      "No spines and using precomputed width\n",
      "Working on limb L0 branch 281\n",
      "No spines and using precomputed width\n",
      "Working on limb L0 branch 305\n",
      "No spines and using precomputed width\n",
      "Working on limb L0 branch 353\n",
      "No spines and using precomputed width\n",
      "Working on limb L0 branch 487\n",
      "No spines and using precomputed width\n",
      "Working on limb L0 branch 571\n",
      "No spines and using precomputed width\n",
      "Working on limb L0 branch 530\n",
      "No spines and using precomputed width\n",
      "Working on limb L0 branch 574\n",
      "No spines and using precomputed width\n",
      "Working on limb L0 branch 25\n",
      "No spines and using precomputed width\n",
      "Working on limb L0 branch 532\n",
      "No spines and using precomputed width\n",
      "Working on limb L0 branch 197\n",
      "No spines and using precomputed width\n",
      "Working on limb L0 branch 276\n",
      "No spines and using precomputed width\n",
      "Working on limb L0 branch 35\n",
      "No spines and using precomputed width\n",
      "Working on limb L0 branch 363\n",
      "No spines and using precomputed width\n",
      "Working on limb L0 branch 233\n",
      "No spines and using precomputed width\n",
      "Working on limb L0 branch 427\n",
      "No spines and using precomputed width\n",
      "Working on limb L0 branch 66\n",
      "No spines and using precomputed width\n",
      "Working on limb L0 branch 391\n",
      "No spines and using precomputed width\n",
      "Working on limb L0 branch 140\n",
      "No spines and using precomputed width\n",
      "Working on limb L0 branch 567\n",
      "No spines and using precomputed width\n",
      "Working on limb L0 branch 111\n",
      "No spines and using precomputed width\n",
      "Working on limb L0 branch 181\n",
      "No spines and using precomputed width\n",
      "Working on limb L0 branch 280\n",
      "No spines and using precomputed width\n",
      "Working on limb L0 branch 444\n",
      "No spines and using precomputed width\n",
      "Working on limb L0 branch 304\n",
      "No spines and using precomputed width\n",
      "Working on limb L0 branch 554\n",
      "No spines and using precomputed width\n",
      "Working on limb L0 branch 352\n",
      "No spines and using precomputed width\n",
      "Working on limb L0 branch 517\n",
      "No spines and using precomputed width\n",
      "Working on limb L0 branch 572\n",
      "No spines and using precomputed width\n",
      "Working on limb L0 branch 24\n",
      "No spines and using precomputed width\n",
      "Working on limb L0 branch 406\n",
      "No spines and using precomputed width\n",
      "Working on limb L0 branch 275\n",
      "No spines and using precomputed width\n",
      "Working on limb L0 branch 505\n",
      "No spines and using precomputed width\n",
      "Working on limb L0 branch 362\n",
      "No spines and using precomputed width\n",
      "Working on limb L0 branch 587\n",
      "No spines and using precomputed width\n",
      "Working on limb L0 branch 232\n",
      "No spines and using precomputed width\n",
      "Working on limb L0 branch 499\n",
      "No spines and using precomputed width\n",
      "Working on limb L0 branch 65\n",
      "No spines and using precomputed width\n",
      "Working on limb L0 branch 205\n",
      "No spines and using precomputed width\n",
      "Working on limb L0 branch 139\n",
      "No spines and using precomputed width\n",
      "Working on limb L0 branch 447\n",
      "No spines and using precomputed width\n",
      "Working on limb L0 branch 110\n",
      "No spines and using precomputed width\n",
      "Working on limb L0 branch 560\n",
      "No spines and using precomputed width\n",
      "Working on limb L0 branch 279\n",
      "No spines and using precomputed width\n",
      "Working on limb L0 branch 443\n",
      "No spines and using precomputed width\n",
      "Working on limb L0 branch 303\n",
      "No spines and using precomputed width\n",
      "Working on limb L0 branch 356\n",
      "No spines and using precomputed width\n",
      "Working on limb L0 branch 553\n",
      "No spines and using precomputed width\n",
      "Working on limb L0 branch 558\n",
      "No spines and using precomputed width\n",
      "Working on limb L0 branch 23\n",
      "No spines and using precomputed width\n",
      "Working on limb L0 branch 222\n",
      "No spines and using precomputed width\n",
      "Working on limb L0 branch 328\n",
      "No spines and using precomputed width\n",
      "Working on limb L0 branch 231\n",
      "No spines and using precomputed width\n",
      "Working on limb L0 branch 240\n",
      "No spines and using precomputed width\n",
      "Working on limb L0 branch 64\n",
      "No spines and using precomputed width\n",
      "Working on limb L0 branch 466\n",
      "No spines and using precomputed width\n",
      "Working on limb L0 branch 109\n",
      "No spines and using precomputed width\n",
      "Working on limb L0 branch 297\n",
      "No spines and using precomputed width\n",
      "Working on limb L0 branch 438\n",
      "No spines and using precomputed width\n",
      "Working on limb L0 branch 578\n",
      "No spines and using precomputed width\n",
      "Working on limb L0 branch 442\n",
      "No spines and using precomputed width\n",
      "Working on limb L0 branch 533\n",
      "No spines and using precomputed width\n",
      "Working on limb L0 branch 22\n",
      "No spines and using precomputed width\n",
      "Working on limb L0 branch 358\n",
      "No spines and using precomputed width\n",
      "Working on limb L0 branch 230\n",
      "No spines and using precomputed width\n",
      "Working on limb L0 branch 378\n",
      "No spines and using precomputed width\n",
      "Working on limb L0 branch 509\n",
      "No spines and using precomputed width\n",
      "Working on limb L0 branch 63\n",
      "No spines and using precomputed width\n",
      "Working on limb L0 branch 239\n",
      "No spines and using precomputed width\n",
      "Working on limb L0 branch 465\n",
      "No spines and using precomputed width\n",
      "Working on limb L0 branch 583\n",
      "No spines and using precomputed width\n",
      "Working on limb L0 branch 108\n",
      "No spines and using precomputed width\n",
      "Working on limb L0 branch 454\n",
      "No spines and using precomputed width\n",
      "Working on limb L0 branch 577\n",
      "No spines and using precomputed width\n",
      "Working on limb L0 branch 582\n",
      "No spines and using precomputed width\n",
      "Working on limb L0 branch 107\n",
      "No spines and using precomputed width\n",
      "Working on limb L0 branch 167\n",
      "No spines and using precomputed width\n",
      "Working on limb L0 branch 177\n",
      "No spines and using precomputed width\n",
      "Working on limb L0 branch 166\n",
      "No spines and using precomputed width\n",
      "Working on limb L0 branch 565\n",
      "No spines and using precomputed width\n",
      "Working on limb L1 branch 1\n",
      "Working on limb L1 branch 2\n"
     ]
    },
    {
     "name": "stdout",
     "output_type": "stream",
     "text": [
      "Working on limb L1 branch 3\n",
      "No spines and using precomputed width\n",
      "Working on limb L1 branch 4\n",
      "Working on limb L1 branch 13\n",
      "Working on limb L1 branch 5\n",
      "Working on limb L1 branch 6\n",
      "Working on limb L1 branch 7\n",
      "No spines and using precomputed width\n",
      "Working on limb L1 branch 21\n",
      "Working on limb L1 branch 30\n",
      "No spines and using precomputed width\n",
      "Working on limb L1 branch 12\n",
      "Working on limb L1 branch 48\n",
      "Working on limb L1 branch 50\n",
      "No spines and using precomputed width\n",
      "Working on limb L1 branch 51\n",
      "Working on limb L1 branch 38\n",
      "Working on limb L1 branch 42\n",
      "Working on limb L1 branch 8\n",
      "Working on limb L1 branch 9\n",
      "Working on limb L1 branch 20\n",
      "No spines and using precomputed width\n",
      "Working on limb L1 branch 24\n",
      "No spines and using precomputed width\n",
      "Working on limb L1 branch 29\n",
      "No spines and using precomputed width\n",
      "Working on limb L1 branch 0\n",
      "No spines and using precomputed width\n",
      "Working on limb L1 branch 32\n",
      "Working on limb L1 branch 33\n",
      "Working on limb L1 branch 34\n",
      "No spines and using precomputed width\n",
      "Working on limb L1 branch 37\n",
      "No spines and using precomputed width\n",
      "Working on limb L1 branch 15\n",
      "No spines and using precomputed width\n",
      "Working on limb L1 branch 17\n",
      "Working on limb L1 branch 10\n",
      "Working on limb L1 branch 11\n",
      "Working on limb L1 branch 19\n",
      "No spines and using precomputed width\n",
      "Working on limb L1 branch 27\n",
      "No spines and using precomputed width\n",
      "Working on limb L1 branch 23\n",
      "Working on limb L1 branch 25\n",
      "No spines and using precomputed width\n",
      "Working on limb L1 branch 22\n",
      "No spines and using precomputed width\n",
      "Working on limb L1 branch 28\n",
      "No spines and using precomputed width\n",
      "Working on limb L1 branch 36\n",
      "No spines and using precomputed width\n",
      "Working on limb L1 branch 43\n",
      "No spines and using precomputed width\n",
      "Working on limb L1 branch 16\n",
      "No spines and using precomputed width\n",
      "Working on limb L1 branch 18\n",
      "No spines and using precomputed width\n",
      "Working on limb L1 branch 44\n",
      "Working on limb L1 branch 45\n",
      "No spines and using precomputed width\n",
      "Working on limb L1 branch 14\n",
      "Working on limb L1 branch 49\n",
      "Working on limb L1 branch 26\n",
      "No spines and using precomputed width\n",
      "Working on limb L1 branch 31\n",
      "No spines and using precomputed width\n",
      "Working on limb L1 branch 35\n",
      "No spines and using precomputed width\n",
      "Working on limb L1 branch 40\n",
      "No spines and using precomputed width\n",
      "Working on limb L1 branch 46\n",
      "Working on limb L1 branch 47\n",
      "No spines and using precomputed width\n",
      "Working on limb L1 branch 39\n",
      "No spines and using precomputed width\n",
      "Working on limb L1 branch 41\n",
      "No spines and using precomputed width\n",
      "Working on limb L2 branch 1\n",
      "Working on limb L2 branch 0\n",
      "Working on limb L2 branch 2\n",
      "Working on limb L2 branch 21\n",
      "Working on limb L2 branch 23\n",
      "Working on limb L2 branch 5\n",
      "Working on limb L2 branch 26\n",
      "No spines and using precomputed width\n",
      "Working on limb L2 branch 20\n",
      "No spines and using precomputed width\n",
      "Working on limb L2 branch 22\n",
      "No spines and using precomputed width\n",
      "Working on limb L2 branch 3\n",
      "No spines and using precomputed width\n",
      "Working on limb L2 branch 7\n",
      "No spines and using precomputed width\n",
      "Working on limb L2 branch 4\n",
      "Working on limb L2 branch 19\n",
      "No spines and using precomputed width\n",
      "Working on limb L2 branch 6\n",
      "No spines and using precomputed width\n",
      "Working on limb L2 branch 10\n",
      "No spines and using precomputed width\n",
      "Working on limb L2 branch 24\n",
      "Working on limb L2 branch 25\n",
      "Working on limb L2 branch 9\n",
      "No spines and using precomputed width\n",
      "Working on limb L2 branch 12\n",
      "No spines and using precomputed width\n",
      "Working on limb L2 branch 13\n",
      "No spines and using precomputed width\n",
      "Working on limb L2 branch 15\n",
      "No spines and using precomputed width\n",
      "Working on limb L2 branch 8\n",
      "No spines and using precomputed width\n",
      "Working on limb L2 branch 11\n",
      "No spines and using precomputed width\n",
      "Working on limb L2 branch 17\n",
      "No spines and using precomputed width\n",
      "Working on limb L2 branch 14\n",
      "No spines and using precomputed width\n",
      "Working on limb L2 branch 16\n",
      "No spines and using precomputed width\n",
      "Working on limb L2 branch 18\n",
      "No spines and using precomputed width\n",
      "Working on limb L3 branch 6\n",
      "No spines and using precomputed width\n",
      "Working on limb L3 branch 5\n",
      "Working on limb L3 branch 7\n",
      "Working on limb L3 branch 4\n",
      "Working on limb L3 branch 10\n",
      "No spines and using precomputed width\n",
      "Working on limb L3 branch 9\n",
      "Working on limb L3 branch 21\n",
      "Working on limb L3 branch 1\n",
      "Working on limb L3 branch 2\n",
      "Working on limb L3 branch 3\n",
      "Working on limb L3 branch 27\n",
      "Working on limb L3 branch 0\n",
      "Working on limb L3 branch 26\n",
      "Working on limb L3 branch 15\n",
      "No spines and using precomputed width\n",
      "Working on limb L3 branch 16\n",
      "Working on limb L3 branch 8\n",
      "No spines and using precomputed width\n",
      "Working on limb L3 branch 22\n",
      "Working on limb L3 branch 23\n",
      "Working on limb L3 branch 11\n",
      "Working on limb L3 branch 14\n",
      "Working on limb L3 branch 18\n",
      "Working on limb L3 branch 19\n",
      "Working on limb L3 branch 24\n",
      "No spines and using precomputed width\n",
      "Working on limb L3 branch 25\n",
      "No spines and using precomputed width\n",
      "Working on limb L3 branch 12\n",
      "No spines and using precomputed width\n",
      "Working on limb L3 branch 13\n",
      "No spines and using precomputed width\n",
      "Working on limb L3 branch 17\n",
      "No spines and using precomputed width\n",
      "Working on limb L3 branch 20\n",
      "No spines and using precomputed width\n",
      "Working on limb L4 branch 2\n",
      "No spines and using precomputed width\n",
      "Working on limb L4 branch 0\n",
      "Working on limb L4 branch 3\n",
      "Working on limb L4 branch 14\n",
      "Working on limb L4 branch 15\n",
      "No spines and using precomputed width\n",
      "Working on limb L4 branch 5\n",
      "Working on limb L4 branch 7\n",
      "Working on limb L4 branch 4\n",
      "Working on limb L4 branch 6\n",
      "No spines and using precomputed width\n",
      "Working on limb L4 branch 1\n",
      "Working on limb L4 branch 20\n",
      "Working on limb L4 branch 16\n",
      "Working on limb L4 branch 19\n",
      "Working on limb L4 branch 10\n",
      "Working on limb L4 branch 12\n",
      "Working on limb L4 branch 8\n",
      "Working on limb L4 branch 9\n",
      "Working on limb L4 branch 17\n",
      "No spines and using precomputed width\n",
      "Working on limb L4 branch 18\n",
      "No spines and using precomputed width\n",
      "Working on limb L4 branch 11\n",
      "No spines and using precomputed width\n",
      "Working on limb L4 branch 13\n",
      "No spines and using precomputed width\n",
      "Working on limb L5 branch 1\n",
      "Working on limb L5 branch 2\n",
      "Working on limb L5 branch 3\n",
      "Working on limb L5 branch 4\n",
      "Working on limb L5 branch 14\n",
      "No spines and using precomputed width\n",
      "Working on limb L5 branch 0\n",
      "Working on limb L5 branch 13\n",
      "Working on limb L5 branch 11\n",
      "Working on limb L5 branch 12\n",
      "Working on limb L5 branch 6\n",
      "Working on limb L5 branch 9\n",
      "Working on limb L5 branch 5\n",
      "No spines and using precomputed width\n",
      "Working on limb L5 branch 8\n",
      "Working on limb L5 branch 7\n",
      "No spines and using precomputed width\n",
      "Working on limb L5 branch 10\n",
      "No spines and using precomputed width\n",
      "Working on limb L6 branch 2\n",
      "No spines and using precomputed width\n",
      "Working on limb L6 branch 3\n",
      "Working on limb L6 branch 12\n",
      "Working on limb L6 branch 0\n",
      "No spines and using precomputed width\n",
      "Working on limb L6 branch 17\n",
      "Working on limb L6 branch 11\n",
      "No spines and using precomputed width\n",
      "Working on limb L6 branch 13\n",
      "No spines and using precomputed width\n",
      "Working on limb L6 branch 1\n",
      "Working on limb L6 branch 4\n",
      "Working on limb L6 branch 7\n",
      "No spines and using precomputed width\n",
      "Working on limb L6 branch 10\n",
      "No spines and using precomputed width\n",
      "Working on limb L6 branch 14\n",
      "No spines and using precomputed width\n",
      "Working on limb L6 branch 15\n",
      "No spines and using precomputed width\n",
      "Working on limb L6 branch 16\n",
      "Working on limb L6 branch 6\n",
      "No spines and using precomputed width\n",
      "Working on limb L6 branch 8\n",
      "No spines and using precomputed width\n",
      "Working on limb L6 branch 5\n",
      "No spines and using precomputed width\n",
      "Working on limb L6 branch 9\n",
      "No spines and using precomputed width\n",
      "Total time for neuron instance creation = 1207.990119934082\n",
      "\n",
      "\n",
      "\n",
      "---- Total preprocessing time = 1207.9903302192688\n"
     ]
    }
   ],
   "source": [
    "neuron = reload(neuron)\n",
    "import skeleton_utils as sk\n",
    "sk = reload(sk)\n",
    "\n",
    "\n",
    "import time\n",
    "total_neuron_process_time = time.time()\n",
    "\n",
    "\n",
    "\n",
    "\n",
    "neuron_obj = neuron.Neuron(\n",
    "mesh = current_neuron_mesh,\n",
    "segment_id=segment_id,\n",
    "description=description,\n",
    "suppress_preprocessing_print=False,\n",
    "suppress_output=False,\n",
    "calculate_spines=True,\n",
    "widths_to_calculate=[\"no_spine_median_mesh_center\"]\n",
    "                \n",
    "        )\n",
    "\n",
    "print(f\"\\n\\n\\n---- Total preprocessing time = {time.time() - total_neuron_process_time}\")"
   ]
  },
  {
   "cell_type": "code",
   "execution_count": 6,
   "metadata": {},
   "outputs": [
    {
     "name": "stdout",
     "output_type": "stream",
     "text": [
      "\n",
      " Working on visualization type: mesh\n",
      "\n",
      " Working on visualization type: skeleton\n",
      "working on soma border vertices\n",
      "Working on  new stand alone scatter points\n"
     ]
    },
    {
     "data": {
      "application/vnd.jupyter.widget-view+json": {
       "model_id": "4f0d0ad080b64506bb7642442d298060",
       "version_major": 2,
       "version_minor": 0
      },
      "text/plain": [
       "VBox(children=(Figure(camera=PerspectiveCamera(fov=46.0, position=(0.0, 0.0, 2.0), quaternion=(0.0, 0.0, 0.0, …"
      ]
     },
     "metadata": {},
     "output_type": "display_data"
    }
   ],
   "source": [
    "ret_col = nviz.visualize_neuron(neuron_obj,\n",
    "                      visualize_type=[\"mesh\",\"skeleton\"],\n",
    "                     limb_branch_dict=\"all\",\n",
    "                    return_color_dict=True)"
   ]
  },
  {
   "cell_type": "code",
   "execution_count": null,
   "metadata": {},
   "outputs": [],
   "source": [
    "# Debugging Why "
   ]
  }
 ],
 "metadata": {
  "kernelspec": {
   "display_name": "Python 3",
   "language": "python",
   "name": "python3"
  },
  "language_info": {
   "codemirror_mode": {
    "name": "ipython",
    "version": 3
   },
   "file_extension": ".py",
   "mimetype": "text/x-python",
   "name": "python",
   "nbconvert_exporter": "python",
   "pygments_lexer": "ipython3",
   "version": "3.6.9"
  }
 },
 "nbformat": 4,
 "nbformat_minor": 4
}
