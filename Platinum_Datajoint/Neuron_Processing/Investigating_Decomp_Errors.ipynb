{
 "cells": [
  {
   "cell_type": "code",
   "execution_count": 1,
   "metadata": {},
   "outputs": [],
   "source": [
    "from os import sys\n",
    "sys.path.append(\"/meshAfterParty/\")"
   ]
  },
  {
   "cell_type": "code",
   "execution_count": 2,
   "metadata": {},
   "outputs": [
    {
     "name": "stderr",
     "output_type": "stream",
     "text": [
      "INFO - 2020-12-02 19:05:32,970 - settings - Setting database.host to at-database.ad.bcm.edu\n",
      "INFO - 2020-12-02 19:05:32,972 - settings - Setting database.user to celiib\n",
      "INFO - 2020-12-02 19:05:32,972 - settings - Setting database.password to newceliipass\n",
      "INFO - 2020-12-02 19:05:32,976 - settings - Setting stores to {'minnie65': {'protocol': 'file', 'location': '/mnt/dj-stor01/platinum/minnie65', 'stage': '/mnt/dj-stor01/platinum/minnie65'}, 'meshes': {'protocol': 'file', 'location': '/mnt/dj-stor01/platinum/minnie65/02/meshes', 'stage': '/mnt/dj-stor01/platinum/minnie65/02/meshes'}, 'decimated_meshes': {'protocol': 'file', 'location': '/mnt/dj-stor01/platinum/minnie65/02/decimated_meshes', 'stage': '/mnt/dj-stor01/platinum/minnie65/02/decimated_meshes'}, 'skeletons': {'protocol': 'file', 'location': '/mnt/dj-stor01/platinum/minnie65/02/skeletons'}}\n",
      "INFO - 2020-12-02 19:05:32,977 - settings - Setting enable_python_native_blobs to True\n",
      "INFO - 2020-12-02 19:05:32,987 - connection - Connected celiib@at-database.ad.bcm.edu:3306\n",
      "INFO - 2020-12-02 19:05:33,176 - settings - Setting enable_python_native_blobs to True\n",
      "INFO - 2020-12-02 19:05:33,179 - settings - Setting enable_python_native_blobs to True\n"
     ]
    },
    {
     "name": "stdout",
     "output_type": "stream",
     "text": [
      "Connecting celiib@at-database.ad.bcm.edu:3306\n"
     ]
    },
    {
     "name": "stderr",
     "output_type": "stream",
     "text": [
      "INFO - 2020-12-02 19:05:33,383 - settings - Setting enable_python_native_blobs to True\n",
      "INFO - 2020-12-02 19:05:33,387 - settings - Setting database.host to at-database.ad.bcm.edu\n",
      "INFO - 2020-12-02 19:05:33,388 - settings - Setting database.user to celiib\n",
      "INFO - 2020-12-02 19:05:33,389 - settings - Setting database.password to newceliipass\n",
      "INFO - 2020-12-02 19:05:33,390 - settings - Setting enable_python_native_blobs to True\n",
      "INFO - 2020-12-02 19:05:33,584 - settings - Setting enable_python_native_blobs to True\n"
     ]
    }
   ],
   "source": [
    "from importlib import reload\n",
    "\n",
    "import neuron_utils as nru\n",
    "\n",
    "import neuron\n",
    "\n",
    "import neuron_visualizations as nviz\n",
    "\n",
    "import time\n",
    "\n",
    "import datajoint_utils as du\n",
    "minnie,schema = du.configure_minnie_vm()\n",
    "du = reload(du)"
   ]
  },
  {
   "cell_type": "markdown",
   "metadata": {},
   "source": [
    "# Getting the types of errors enocountered"
   ]
  },
  {
   "cell_type": "code",
   "execution_count": 5,
   "metadata": {},
   "outputs": [],
   "source": [
    "import numpy as np\n",
    "error_messages = (schema.jobs & 'table_name=\"__decomposition\"' & \"status='error'\").fetch(\"error_message\")\n",
    "unique_errors = np.unique(error_messages)"
   ]
  },
  {
   "cell_type": "markdown",
   "metadata": {},
   "source": [
    "# Getting the keys with those errors"
   ]
  },
  {
   "cell_type": "code",
   "execution_count": 41,
   "metadata": {},
   "outputs": [
    {
     "data": {
      "text/plain": [
       "'ValueError: not enough values to unpack (expected 2, got 0)'"
      ]
     },
     "execution_count": 41,
     "metadata": {},
     "output_type": "execute_result"
    }
   ],
   "source": [
    "curr_error_message = unique_errors[8]\n",
    "curr_error_message"
   ]
  },
  {
   "cell_type": "code",
   "execution_count": 42,
   "metadata": {},
   "outputs": [
    {
     "data": {
      "text/html": [
       "\n",
       "        \n",
       "        <style type=\"text/css\">\n",
       "            .Relation{\n",
       "                border-collapse:collapse;\n",
       "            }\n",
       "            .Relation th{\n",
       "                background: #A0A0A0; color: #ffffff; padding:4px; border:#f0e0e0 1px solid;\n",
       "                font-weight: normal; font-family: monospace; font-size: 100%;\n",
       "            }\n",
       "            .Relation td{\n",
       "                padding:4px; border:#f0e0e0 1px solid; font-size:100%;\n",
       "            }\n",
       "            .Relation tr:nth-child(odd){\n",
       "                background: #ffffff;\n",
       "            }\n",
       "            .Relation tr:nth-child(even){\n",
       "                background: #f3f1ff;\n",
       "            }\n",
       "            /* Tooltip container */\n",
       "            .djtooltip {\n",
       "            }\n",
       "            /* Tooltip text */\n",
       "            .djtooltip .djtooltiptext {\n",
       "                visibility: hidden;\n",
       "                width: 120px;\n",
       "                background-color: black;\n",
       "                color: #fff;\n",
       "                text-align: center;\n",
       "                padding: 5px 0;\n",
       "                border-radius: 6px;\n",
       "                /* Position the tooltip text - see examples below! */\n",
       "                position: absolute;\n",
       "                z-index: 1;\n",
       "            }\n",
       "            #primary {\n",
       "                font-weight: bold;\n",
       "                color: black;\n",
       "            }\n",
       "\n",
       "            #nonprimary {\n",
       "                font-weight: normal;\n",
       "                color: white;\n",
       "            }\n",
       "\n",
       "            /* Show the tooltip text when you mouse over the tooltip container */\n",
       "            .djtooltip:hover .djtooltiptext {\n",
       "                visibility: visible;\n",
       "            }\n",
       "        </style>\n",
       "        \n",
       "        <b>job reservation table for `microns_minnie65_02`</b>\n",
       "            <div style=\"max-height:1000px;max-width:1500px;overflow:auto;\">\n",
       "            <table border=\"1\" class=\"Relation\">\n",
       "                <thead> <tr style=\"text-align: right;\"> <th> <div class=\"djtooltip\">\n",
       "                                <p id=\"primary\">table_name</p>\n",
       "                                <span class=\"djtooltiptext\">className of the table</span>\n",
       "                            </div></th><th><div class=\"djtooltip\">\n",
       "                                <p id=\"primary\">key_hash</p>\n",
       "                                <span class=\"djtooltiptext\">key hash</span>\n",
       "                            </div></th><th><div class=\"djtooltip\">\n",
       "                                <p id=\"nonprimary\">status</p>\n",
       "                                <span class=\"djtooltiptext\">if tuple is missing, the job is available</span>\n",
       "                            </div></th><th><div class=\"djtooltip\">\n",
       "                                <p id=\"nonprimary\">key</p>\n",
       "                                <span class=\"djtooltiptext\">structure containing the key</span>\n",
       "                            </div></th><th><div class=\"djtooltip\">\n",
       "                                <p id=\"nonprimary\">error_message</p>\n",
       "                                <span class=\"djtooltiptext\">error message returned if failed</span>\n",
       "                            </div></th><th><div class=\"djtooltip\">\n",
       "                                <p id=\"nonprimary\">error_stack</p>\n",
       "                                <span class=\"djtooltiptext\">error stack if failed</span>\n",
       "                            </div></th><th><div class=\"djtooltip\">\n",
       "                                <p id=\"nonprimary\">user</p>\n",
       "                                <span class=\"djtooltiptext\">database user</span>\n",
       "                            </div></th><th><div class=\"djtooltip\">\n",
       "                                <p id=\"nonprimary\">host</p>\n",
       "                                <span class=\"djtooltiptext\">system hostname</span>\n",
       "                            </div></th><th><div class=\"djtooltip\">\n",
       "                                <p id=\"nonprimary\">pid</p>\n",
       "                                <span class=\"djtooltiptext\">system process id</span>\n",
       "                            </div></th><th><div class=\"djtooltip\">\n",
       "                                <p id=\"nonprimary\">connection_id</p>\n",
       "                                <span class=\"djtooltiptext\">connection_id()</span>\n",
       "                            </div></th><th><div class=\"djtooltip\">\n",
       "                                <p id=\"nonprimary\">timestamp</p>\n",
       "                                <span class=\"djtooltiptext\">automatic timestamp</span>\n",
       "                            </div> </th> </tr> </thead>\n",
       "                <tbody> <tr> <td>__decomposition</td>\n",
       "<td>9b7e406c67d222fe33ee21ab56b7a1fc</td>\n",
       "<td>error</td>\n",
       "<td>=BLOB=</td>\n",
       "<td>ValueError: not enough values to unpack (expected 2, got 0)</td>\n",
       "<td>=BLOB=</td>\n",
       "<td>celiib@10.28.0.81</td>\n",
       "<td>at-compute003</td>\n",
       "<td>29</td>\n",
       "<td>116253</td>\n",
       "<td>2020-11-30 00:46:27</td> </tr> </tbody>\n",
       "            </table>\n",
       "            \n",
       "            <p>Total: 1</p></div>\n",
       "            "
      ],
      "text/plain": [
       "*table_name    *key_hash      status     key        error_message  error_stac user           host           pid     connection_id  timestamp     \n",
       "+------------+ +------------+ +--------+ +--------+ +------------+ +--------+ +------------+ +------------+ +-----+ +------------+ +------------+\n",
       "__decompositio 9b7e406c67d222 error      =BLOB=     ValueError: no =BLOB=     celiib@10.28.0 at-compute003  29      116253         2020-11-30 00:\n",
       " (Total: 1)"
      ]
     },
     "execution_count": 42,
     "metadata": {},
     "output_type": "execute_result"
    }
   ],
   "source": [
    "search_dict=dict(table_name='__decomposition',\n",
    "                error_message=curr_error_message)\n",
    "errored_jobs = (schema.jobs & search_dict)\n",
    "errored_jobs"
   ]
  },
  {
   "cell_type": "code",
   "execution_count": 44,
   "metadata": {},
   "outputs": [
    {
     "data": {
      "text/plain": [
       "{'segment_id': 864691136535575714,\n",
       " 'decimation_version': 0,\n",
       " 'decimation_ratio': Decimal('0.25')}"
      ]
     },
     "execution_count": 44,
     "metadata": {},
     "output_type": "execute_result"
    }
   ],
   "source": [
    "key_specific_dict = dict(search_dict,\n",
    "                        key_hash=\"9b7e406c67d222fe33ee21ab56b7a1fc\")\n",
    "\n",
    "curr_err_key,error_stack = (schema.jobs & key_specific_dict).fetch1(\"key\",\"error_stack\")\n",
    "curr_err_key"
   ]
  },
  {
   "cell_type": "code",
   "execution_count": 45,
   "metadata": {},
   "outputs": [
    {
     "name": "stdout",
     "output_type": "stream",
     "text": [
      "Traceback (most recent call last):\n",
      "  File \"/usr/local/lib/python3.6/dist-packages/datajoint/autopopulate.py\", line 159, in populate\n",
      "    make(dict(key))\n",
      "  File \"Decomposition_Manual_Proofreading.py\", line 195, in make\n",
      "    widths_to_calculate=[\"no_spine_median_mesh_center\"]\n",
      "  File \"/meshAfterParty/neuron.py\", line 1615, in __init__\n",
      "    use_meshafterparty=use_meshafterparty)\n",
      "  File \"/meshAfterParty/preprocessing_vp2.py\", line 2700, in preprocess_neuron\n",
      "    use_meshafterparty=use_meshafterparty,\n",
      "  File \"/meshAfterParty/preprocessing_vp2.py\", line 1910, in preprocess_limb\n",
      "    skeleton_branches=curr_MAP_sk)\n",
      "  File \"/meshAfterParty/preprocessing_vp2.py\", line 67, in mesh_correspondence_first_pass\n",
      "    curr_branch_face_correspondence, width_from_skeleton = returned_data\n",
      "ValueError: not enough values to unpack (expected 2, got 0)\n",
      "\n"
     ]
    }
   ],
   "source": [
    "print(error_stack)"
   ]
  },
  {
   "cell_type": "code",
   "execution_count": null,
   "metadata": {},
   "outputs": [],
   "source": []
  }
 ],
 "metadata": {
  "kernelspec": {
   "display_name": "Python 3",
   "language": "python",
   "name": "python3"
  },
  "language_info": {
   "codemirror_mode": {
    "name": "ipython",
    "version": 3
   },
   "file_extension": ".py",
   "mimetype": "text/x-python",
   "name": "python",
   "nbconvert_exporter": "python",
   "pygments_lexer": "ipython3",
   "version": "3.6.9"
  }
 },
 "nbformat": 4,
 "nbformat_minor": 4
}
