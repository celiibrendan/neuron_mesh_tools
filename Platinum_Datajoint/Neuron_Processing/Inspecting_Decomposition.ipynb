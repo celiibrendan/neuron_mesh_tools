{
 "cells": [
  {
   "cell_type": "code",
   "execution_count": null,
   "metadata": {},
   "outputs": [],
   "source": [
    "\"\"\"\n",
    "To check the progress of the neuron decomposition\n",
    "\n",
    "\"\"\""
   ]
  },
  {
   "cell_type": "code",
   "execution_count": 2,
   "metadata": {},
   "outputs": [
    {
     "name": "stderr",
     "output_type": "stream",
     "text": [
      "INFO - 2020-11-26 10:09:38,466 - settings - Setting database.host to at-database.ad.bcm.edu\n",
      "INFO - 2020-11-26 10:09:38,467 - settings - Setting database.user to celiib\n",
      "INFO - 2020-11-26 10:09:38,468 - settings - Setting database.password to newceliipass\n",
      "INFO - 2020-11-26 10:09:38,478 - settings - Setting stores to {'minnie65': {'protocol': 'file', 'location': '/mnt/dj-stor01/platinum/minnie65', 'stage': '/mnt/dj-stor01/platinum/minnie65'}, 'meshes': {'protocol': 'file', 'location': '/mnt/dj-stor01/platinum/minnie65/02/meshes', 'stage': '/mnt/dj-stor01/platinum/minnie65/02/meshes'}, 'decimated_meshes': {'protocol': 'file', 'location': '/mnt/dj-stor01/platinum/minnie65/02/decimated_meshes', 'stage': '/mnt/dj-stor01/platinum/minnie65/02/decimated_meshes'}, 'skeletons': {'protocol': 'file', 'location': '/mnt/dj-stor01/platinum/minnie65/02/skeletons'}}\n",
      "INFO - 2020-11-26 10:09:38,479 - settings - Setting enable_python_native_blobs to True\n",
      "INFO - 2020-11-26 10:09:38,493 - connection - Connected celiib@at-database.ad.bcm.edu:3306\n",
      "INFO - 2020-11-26 10:09:38,654 - settings - Setting enable_python_native_blobs to True\n"
     ]
    },
    {
     "name": "stdout",
     "output_type": "stream",
     "text": [
      "Connecting celiib@at-database.ad.bcm.edu:3306\n"
     ]
    }
   ],
   "source": [
    "import numpy as np\n",
    "import datajoint as dj\n",
    "import trimesh\n",
    "from tqdm.notebook import tqdm\n",
    "from pathlib import Path\n",
    "\n",
    "from os import sys\n",
    "sys.path.append(\"/meshAfterParty/\")\n",
    "\n",
    "import datajoint_utils as du\n",
    "from importlib import reload\n",
    "\n",
    "import minfig\n",
    "du.config_celii()\n",
    "du.set_minnie65_config_segmentation(minfig)\n",
    "#du.print_minnie65_config_paths(minfig)\n",
    "\n",
    "#configuring will include the adapters\n",
    "minnie,schema = du.configure_minnie_vm()"
   ]
  },
  {
   "cell_type": "markdown",
   "metadata": {},
   "source": [
    "# Inspecting a certain decomposition"
   ]
  },
  {
   "cell_type": "code",
   "execution_count": 75,
   "metadata": {},
   "outputs": [],
   "source": [
    "import neuron_visualizations as nviz\n",
    "curr_seg_id = 864691134884742394"
   ]
  },
  {
   "cell_type": "code",
   "execution_count": 76,
   "metadata": {},
   "outputs": [
    {
     "name": "stdout",
     "output_type": "stream",
     "text": [
      "Decompressing Neuron in minimal output mode...please wait\n"
     ]
    }
   ],
   "source": [
    "neuron_obj = (minnie.Decomposition() & dict(segment_id=curr_seg_id)).fetch(\"decomposition\")"
   ]
  },
  {
   "cell_type": "code",
   "execution_count": 77,
   "metadata": {},
   "outputs": [
    {
     "name": "stdout",
     "output_type": "stream",
     "text": [
      "\n",
      " Working on visualization type: mesh\n",
      "\n",
      " Working on visualization type: skeleton\n",
      "Working on  new stand alone scatter points\n"
     ]
    },
    {
     "data": {
      "application/vnd.jupyter.widget-view+json": {
       "model_id": "0075897e57514c9580589579d0240cd8",
       "version_major": 2,
       "version_minor": 0
      },
      "text/plain": [
       "VBox(children=(Figure(camera=PerspectiveCamera(fov=46.0, position=(0.0, 0.0, 2.0), quaternion=(0.0, 0.0, 0.0, …"
      ]
     },
     "metadata": {},
     "output_type": "display_data"
    }
   ],
   "source": [
    "nviz.visualize_neuron(neuron_obj[0],\n",
    "                     visualize_type=[\"mesh\",\"skeleton\"],\n",
    "                     limb_branch_dict=\"all\")"
   ]
  },
  {
   "cell_type": "code",
   "execution_count": 15,
   "metadata": {},
   "outputs": [
    {
     "name": "stdout",
     "output_type": "stream",
     "text": [
      "\n",
      " Working on visualization type: mesh\n",
      "Working on  new stand alone scatter points\n"
     ]
    },
    {
     "data": {
      "application/vnd.jupyter.widget-view+json": {
       "model_id": "8eb327b9af80408ab3bf1f3603a3ec22",
       "version_major": 2,
       "version_minor": 0
      },
      "text/plain": [
       "VBox(children=(Figure(camera=PerspectiveCamera(fov=46.0, position=(0.0, 0.0, 2.0), quaternion=(0.0, 0.0, 0.0, …"
      ]
     },
     "metadata": {},
     "output_type": "display_data"
    }
   ],
   "source": [
    "nviz.plot_spines(neuron_obj[0])"
   ]
  },
  {
   "cell_type": "code",
   "execution_count": 13,
   "metadata": {},
   "outputs": [
    {
     "name": "stdout",
     "output_type": "stream",
     "text": [
      "\n",
      " Working on visualization type: mesh\n",
      "\n",
      " Working on visualization type: skeleton\n",
      "Working on  new stand alone scatter points\n"
     ]
    },
    {
     "data": {
      "application/vnd.jupyter.widget-view+json": {
       "model_id": "25e0becd47e8484a92de3636dafedbfc",
       "version_major": 2,
       "version_minor": 0
      },
      "text/plain": [
       "VBox(children=(Figure(camera=PerspectiveCamera(fov=46.0, position=(0.0, 0.0, 2.0), quaternion=(0.0, 0.0, 0.0, …"
      ]
     },
     "metadata": {},
     "output_type": "display_data"
    }
   ],
   "source": []
  },
  {
   "cell_type": "markdown",
   "metadata": {},
   "source": [
    "# The restart of the Decomposition"
   ]
  },
  {
   "cell_type": "code",
   "execution_count": null,
   "metadata": {},
   "outputs": [],
   "source": [
    "(schema.jobs & \"table_name='__decomposition'\" & \"status='reserved'\" & \"timestamp>'2020-11-24 23:00:00'\")#.delete()"
   ]
  },
  {
   "cell_type": "code",
   "execution_count": null,
   "metadata": {},
   "outputs": [],
   "source": [
    "len(minnie.Decomposition())"
   ]
  },
  {
   "cell_type": "code",
   "execution_count": 78,
   "metadata": {},
   "outputs": [
    {
     "data": {
      "text/html": [
       "\n",
       "        \n",
       "        <style type=\"text/css\">\n",
       "            .Relation{\n",
       "                border-collapse:collapse;\n",
       "            }\n",
       "            .Relation th{\n",
       "                background: #A0A0A0; color: #ffffff; padding:4px; border:#f0e0e0 1px solid;\n",
       "                font-weight: normal; font-family: monospace; font-size: 100%;\n",
       "            }\n",
       "            .Relation td{\n",
       "                padding:4px; border:#f0e0e0 1px solid; font-size:100%;\n",
       "            }\n",
       "            .Relation tr:nth-child(odd){\n",
       "                background: #ffffff;\n",
       "            }\n",
       "            .Relation tr:nth-child(even){\n",
       "                background: #f3f1ff;\n",
       "            }\n",
       "            /* Tooltip container */\n",
       "            .djtooltip {\n",
       "            }\n",
       "            /* Tooltip text */\n",
       "            .djtooltip .djtooltiptext {\n",
       "                visibility: hidden;\n",
       "                width: 120px;\n",
       "                background-color: black;\n",
       "                color: #fff;\n",
       "                text-align: center;\n",
       "                padding: 5px 0;\n",
       "                border-radius: 6px;\n",
       "                /* Position the tooltip text - see examples below! */\n",
       "                position: absolute;\n",
       "                z-index: 1;\n",
       "            }\n",
       "            #primary {\n",
       "                font-weight: bold;\n",
       "                color: black;\n",
       "            }\n",
       "\n",
       "            #nonprimary {\n",
       "                font-weight: normal;\n",
       "                color: white;\n",
       "            }\n",
       "\n",
       "            /* Show the tooltip text when you mouse over the tooltip container */\n",
       "            .djtooltip:hover .djtooltiptext {\n",
       "                visibility: visible;\n",
       "            }\n",
       "        </style>\n",
       "        \n",
       "        <b>job reservation table for `microns_minnie65_02`</b>\n",
       "            <div style=\"max-height:1000px;max-width:1500px;overflow:auto;\">\n",
       "            <table border=\"1\" class=\"Relation\">\n",
       "                <thead> <tr style=\"text-align: right;\"> <th> <div class=\"djtooltip\">\n",
       "                                <p id=\"primary\">table_name</p>\n",
       "                                <span class=\"djtooltiptext\">className of the table</span>\n",
       "                            </div></th><th><div class=\"djtooltip\">\n",
       "                                <p id=\"primary\">key_hash</p>\n",
       "                                <span class=\"djtooltiptext\">key hash</span>\n",
       "                            </div></th><th><div class=\"djtooltip\">\n",
       "                                <p id=\"nonprimary\">status</p>\n",
       "                                <span class=\"djtooltiptext\">if tuple is missing, the job is available</span>\n",
       "                            </div></th><th><div class=\"djtooltip\">\n",
       "                                <p id=\"nonprimary\">key</p>\n",
       "                                <span class=\"djtooltiptext\">structure containing the key</span>\n",
       "                            </div></th><th><div class=\"djtooltip\">\n",
       "                                <p id=\"nonprimary\">error_message</p>\n",
       "                                <span class=\"djtooltiptext\">error message returned if failed</span>\n",
       "                            </div></th><th><div class=\"djtooltip\">\n",
       "                                <p id=\"nonprimary\">error_stack</p>\n",
       "                                <span class=\"djtooltiptext\">error stack if failed</span>\n",
       "                            </div></th><th><div class=\"djtooltip\">\n",
       "                                <p id=\"nonprimary\">user</p>\n",
       "                                <span class=\"djtooltiptext\">database user</span>\n",
       "                            </div></th><th><div class=\"djtooltip\">\n",
       "                                <p id=\"nonprimary\">host</p>\n",
       "                                <span class=\"djtooltiptext\">system hostname</span>\n",
       "                            </div></th><th><div class=\"djtooltip\">\n",
       "                                <p id=\"nonprimary\">pid</p>\n",
       "                                <span class=\"djtooltiptext\">system process id</span>\n",
       "                            </div></th><th><div class=\"djtooltip\">\n",
       "                                <p id=\"nonprimary\">connection_id</p>\n",
       "                                <span class=\"djtooltiptext\">connection_id()</span>\n",
       "                            </div></th><th><div class=\"djtooltip\">\n",
       "                                <p id=\"nonprimary\">timestamp</p>\n",
       "                                <span class=\"djtooltiptext\">automatic timestamp</span>\n",
       "                            </div> </th> </tr> </thead>\n",
       "                <tbody> <tr> <td>__decomposition</td>\n",
       "<td>00a88793585592795df96b9fa5ab9d84</td>\n",
       "<td>reserved</td>\n",
       "<td>=BLOB=</td>\n",
       "<td></td>\n",
       "<td>=BLOB=</td>\n",
       "<td>celiib@10.28.0.161</td>\n",
       "<td>at-node34</td>\n",
       "<td>30</td>\n",
       "<td>108530</td>\n",
       "<td>2020-11-25 19:33:04</td></tr><tr><td>__decomposition</td>\n",
       "<td>00ea0c8ad9a653ff707c0c1ab836e4d2</td>\n",
       "<td>reserved</td>\n",
       "<td>=BLOB=</td>\n",
       "<td></td>\n",
       "<td>=BLOB=</td>\n",
       "<td>celiib@10.66.4.27</td>\n",
       "<td>at-compute005</td>\n",
       "<td>29</td>\n",
       "<td>108605</td>\n",
       "<td>2020-11-25 18:22:49</td></tr><tr><td>__decomposition</td>\n",
       "<td>01727da8d33d9248c3bd4720c8e069df</td>\n",
       "<td>reserved</td>\n",
       "<td>=BLOB=</td>\n",
       "<td></td>\n",
       "<td>=BLOB=</td>\n",
       "<td>celiib@10.28.0.83</td>\n",
       "<td>at-compute004</td>\n",
       "<td>29</td>\n",
       "<td>108351</td>\n",
       "<td>2020-11-25 17:11:30</td></tr><tr><td>__decomposition</td>\n",
       "<td>01a2d213314f80ad2728ffd6a215b536</td>\n",
       "<td>reserved</td>\n",
       "<td>=BLOB=</td>\n",
       "<td></td>\n",
       "<td>=BLOB=</td>\n",
       "<td>celiib@10.28.0.175</td>\n",
       "<td>at-node48</td>\n",
       "<td>30</td>\n",
       "<td>108145</td>\n",
       "<td>2020-11-25 19:22:49</td></tr><tr><td>__decomposition</td>\n",
       "<td>02218f1cdb5713f0d7b152bc4759406c</td>\n",
       "<td>reserved</td>\n",
       "<td>=BLOB=</td>\n",
       "<td></td>\n",
       "<td>=BLOB=</td>\n",
       "<td>celiib@10.66.4.64</td>\n",
       "<td>jr-compute001</td>\n",
       "<td>29</td>\n",
       "<td>108484</td>\n",
       "<td>2020-11-25 17:32:02</td></tr><tr><td>__decomposition</td>\n",
       "<td>02594eb7eb27e2cd758e0166ae482e56</td>\n",
       "<td>reserved</td>\n",
       "<td>=BLOB=</td>\n",
       "<td></td>\n",
       "<td>=BLOB=</td>\n",
       "<td>celiib@10.28.0.160</td>\n",
       "<td>at-node33</td>\n",
       "<td>29</td>\n",
       "<td>108520</td>\n",
       "<td>2020-11-25 19:26:51</td></tr><tr><td>__decomposition</td>\n",
       "<td>0269fdd89c6bc63b3e491f862a76ddff</td>\n",
       "<td>reserved</td>\n",
       "<td>=BLOB=</td>\n",
       "<td></td>\n",
       "<td>=BLOB=</td>\n",
       "<td>celiib@10.28.0.81</td>\n",
       "<td>at-compute003</td>\n",
       "<td>29</td>\n",
       "<td>108225</td>\n",
       "<td>2020-11-25 19:11:52</td></tr><tr><td>__decomposition</td>\n",
       "<td>02a78cc9043487fab92565e7b419f643</td>\n",
       "<td>reserved</td>\n",
       "<td>=BLOB=</td>\n",
       "<td></td>\n",
       "<td>=BLOB=</td>\n",
       "<td>celiib@10.28.0.128</td>\n",
       "<td>at-node1</td>\n",
       "<td>29</td>\n",
       "<td>108136</td>\n",
       "<td>2020-11-25 19:39:58</td></tr><tr><td>__decomposition</td>\n",
       "<td>0479bf481d5e42935400d2aaf82a2fc9</td>\n",
       "<td>reserved</td>\n",
       "<td>=BLOB=</td>\n",
       "<td></td>\n",
       "<td>=BLOB=</td>\n",
       "<td>celiib@10.28.0.83</td>\n",
       "<td>at-compute004</td>\n",
       "<td>30</td>\n",
       "<td>108102</td>\n",
       "<td>2020-11-25 16:23:38</td></tr><tr><td>__decomposition</td>\n",
       "<td>04d1fe0b48179aa200fb6ce6a6a2a2af</td>\n",
       "<td>reserved</td>\n",
       "<td>=BLOB=</td>\n",
       "<td></td>\n",
       "<td>=BLOB=</td>\n",
       "<td>celiib@10.28.0.83</td>\n",
       "<td>at-compute004</td>\n",
       "<td>29</td>\n",
       "<td>108428</td>\n",
       "<td>2020-11-25 17:26:10</td></tr><tr><td>__decomposition</td>\n",
       "<td>056ba84c92720327e466b32400967119</td>\n",
       "<td>reserved</td>\n",
       "<td>=BLOB=</td>\n",
       "<td></td>\n",
       "<td>=BLOB=</td>\n",
       "<td>celiib@10.28.0.135</td>\n",
       "<td>at-node8</td>\n",
       "<td>29</td>\n",
       "<td>108408</td>\n",
       "<td>2020-11-25 19:31:01</td></tr><tr><td>__decomposition</td>\n",
       "<td>076df83f63b44405513226ea465f1b8f</td>\n",
       "<td>reserved</td>\n",
       "<td>=BLOB=</td>\n",
       "<td></td>\n",
       "<td>=BLOB=</td>\n",
       "<td>celiib@10.28.0.144</td>\n",
       "<td>at-node17</td>\n",
       "<td>30</td>\n",
       "<td>108194</td>\n",
       "<td>2020-11-25 19:16:50</td> </tr> </tbody>\n",
       "            </table>\n",
       "            <p>...</p>\n",
       "            <p>Total: 525</p></div>\n",
       "            "
      ],
      "text/plain": [
       "*table_name    *key_hash      status       key        error_message  error_stac user           host           pid     connection_id  timestamp     \n",
       "+------------+ +------------+ +----------+ +--------+ +------------+ +--------+ +------------+ +------------+ +-----+ +------------+ +------------+\n",
       "__decompositio 00a88793585592 reserved     =BLOB=                    =BLOB=     celiib@10.28.0 at-node34      30      108530         2020-11-25 19:\n",
       "__decompositio 00ea0c8ad9a653 reserved     =BLOB=                    =BLOB=     celiib@10.66.4 at-compute005  29      108605         2020-11-25 18:\n",
       "__decompositio 01727da8d33d92 reserved     =BLOB=                    =BLOB=     celiib@10.28.0 at-compute004  29      108351         2020-11-25 17:\n",
       "__decompositio 01a2d213314f80 reserved     =BLOB=                    =BLOB=     celiib@10.28.0 at-node48      30      108145         2020-11-25 19:\n",
       "__decompositio 02218f1cdb5713 reserved     =BLOB=                    =BLOB=     celiib@10.66.4 jr-compute001  29      108484         2020-11-25 17:\n",
       "__decompositio 02594eb7eb27e2 reserved     =BLOB=                    =BLOB=     celiib@10.28.0 at-node33      29      108520         2020-11-25 19:\n",
       "__decompositio 0269fdd89c6bc6 reserved     =BLOB=                    =BLOB=     celiib@10.28.0 at-compute003  29      108225         2020-11-25 19:\n",
       "__decompositio 02a78cc9043487 reserved     =BLOB=                    =BLOB=     celiib@10.28.0 at-node1       29      108136         2020-11-25 19:\n",
       "__decompositio 0479bf481d5e42 reserved     =BLOB=                    =BLOB=     celiib@10.28.0 at-compute004  30      108102         2020-11-25 16:\n",
       "__decompositio 04d1fe0b48179a reserved     =BLOB=                    =BLOB=     celiib@10.28.0 at-compute004  29      108428         2020-11-25 17:\n",
       "__decompositio 056ba84c927203 reserved     =BLOB=                    =BLOB=     celiib@10.28.0 at-node8       29      108408         2020-11-25 19:\n",
       "__decompositio 076df83f63b444 reserved     =BLOB=                    =BLOB=     celiib@10.28.0 at-node17      30      108194         2020-11-25 19:\n",
       "   ...\n",
       " (Total: 525)"
      ]
     },
     "execution_count": 78,
     "metadata": {},
     "output_type": "execute_result"
    }
   ],
   "source": [
    "(schema.jobs & \"table_name='__decomposition'\" & \"status='reserved'\")#.delete()# & \"error_message='Exception: The output from mesh_correspondence_adaptive_distance was nothing: curr_branch_face_correspondence'\").fetch(\"key\")"
   ]
  },
  {
   "cell_type": "code",
   "execution_count": 93,
   "metadata": {},
   "outputs": [
    {
     "data": {
      "text/html": [
       "\n",
       "        \n",
       "        <style type=\"text/css\">\n",
       "            .Relation{\n",
       "                border-collapse:collapse;\n",
       "            }\n",
       "            .Relation th{\n",
       "                background: #A0A0A0; color: #ffffff; padding:4px; border:#f0e0e0 1px solid;\n",
       "                font-weight: normal; font-family: monospace; font-size: 100%;\n",
       "            }\n",
       "            .Relation td{\n",
       "                padding:4px; border:#f0e0e0 1px solid; font-size:100%;\n",
       "            }\n",
       "            .Relation tr:nth-child(odd){\n",
       "                background: #ffffff;\n",
       "            }\n",
       "            .Relation tr:nth-child(even){\n",
       "                background: #f3f1ff;\n",
       "            }\n",
       "            /* Tooltip container */\n",
       "            .djtooltip {\n",
       "            }\n",
       "            /* Tooltip text */\n",
       "            .djtooltip .djtooltiptext {\n",
       "                visibility: hidden;\n",
       "                width: 120px;\n",
       "                background-color: black;\n",
       "                color: #fff;\n",
       "                text-align: center;\n",
       "                padding: 5px 0;\n",
       "                border-radius: 6px;\n",
       "                /* Position the tooltip text - see examples below! */\n",
       "                position: absolute;\n",
       "                z-index: 1;\n",
       "            }\n",
       "            #primary {\n",
       "                font-weight: bold;\n",
       "                color: black;\n",
       "            }\n",
       "\n",
       "            #nonprimary {\n",
       "                font-weight: normal;\n",
       "                color: white;\n",
       "            }\n",
       "\n",
       "            /* Show the tooltip text when you mouse over the tooltip container */\n",
       "            .djtooltip:hover .djtooltiptext {\n",
       "                visibility: visible;\n",
       "            }\n",
       "        </style>\n",
       "        \n",
       "        <b></b>\n",
       "            <div style=\"max-height:1000px;max-width:1500px;overflow:auto;\">\n",
       "            <table border=\"1\" class=\"Relation\">\n",
       "                <thead> <tr style=\"text-align: right;\"> <th> <div class=\"djtooltip\">\n",
       "                                <p id=\"primary\">segment_id</p>\n",
       "                                <span class=\"djtooltiptext\">segment id unique within each Segmentation</span>\n",
       "                            </div></th><th><div class=\"djtooltip\">\n",
       "                                <p id=\"primary\">decimation_version</p>\n",
       "                                <span class=\"djtooltiptext\"></span>\n",
       "                            </div></th><th><div class=\"djtooltip\">\n",
       "                                <p id=\"primary\">decimation_ratio</p>\n",
       "                                <span class=\"djtooltiptext\">ratio of remaining mesh vertices/faces (which ones depends on what metric the decimation technique uses)</span>\n",
       "                            </div></th><th><div class=\"djtooltip\">\n",
       "                                <p id=\"nonprimary\">decomposition</p>\n",
       "                                <span class=\"djtooltiptext\"></span>\n",
       "                            </div></th><th><div class=\"djtooltip\">\n",
       "                                <p id=\"nonprimary\">n_vertices</p>\n",
       "                                <span class=\"djtooltiptext\">number of vertices</span>\n",
       "                            </div></th><th><div class=\"djtooltip\">\n",
       "                                <p id=\"nonprimary\">n_faces</p>\n",
       "                                <span class=\"djtooltiptext\">number of faces</span>\n",
       "                            </div></th><th><div class=\"djtooltip\">\n",
       "                                <p id=\"nonprimary\">n_error_limbs</p>\n",
       "                                <span class=\"djtooltiptext\">the number of limbs that are touching multiple somas or 1 soma in multiple places</span>\n",
       "                            </div></th><th><div class=\"djtooltip\">\n",
       "                                <p id=\"nonprimary\">n_same_soma_multi_touching_limbs</p>\n",
       "                                <span class=\"djtooltiptext\">number of limbs that touch the same soma multiple times</span>\n",
       "                            </div></th><th><div class=\"djtooltip\">\n",
       "                                <p id=\"nonprimary\">n_multi_soma_touching_limbs</p>\n",
       "                                <span class=\"djtooltiptext\">number of limbs that touch multiple somas</span>\n",
       "                            </div></th><th><div class=\"djtooltip\">\n",
       "                                <p id=\"nonprimary\">n_somas</p>\n",
       "                                <span class=\"djtooltiptext\">number of soma meshes detected</span>\n",
       "                            </div></th><th><div class=\"djtooltip\">\n",
       "                                <p id=\"nonprimary\">n_limbs</p>\n",
       "                                <span class=\"djtooltiptext\"></span>\n",
       "                            </div></th><th><div class=\"djtooltip\">\n",
       "                                <p id=\"nonprimary\">n_branches</p>\n",
       "                                <span class=\"djtooltiptext\"></span>\n",
       "                            </div></th><th><div class=\"djtooltip\">\n",
       "                                <p id=\"nonprimary\">max_limb_n_branches</p>\n",
       "                                <span class=\"djtooltiptext\"></span>\n",
       "                            </div></th><th><div class=\"djtooltip\">\n",
       "                                <p id=\"nonprimary\">skeletal_length</p>\n",
       "                                <span class=\"djtooltiptext\"></span>\n",
       "                            </div></th><th><div class=\"djtooltip\">\n",
       "                                <p id=\"nonprimary\">max_limb_skeletal_length</p>\n",
       "                                <span class=\"djtooltiptext\"></span>\n",
       "                            </div></th><th><div class=\"djtooltip\">\n",
       "                                <p id=\"nonprimary\">median_branch_length</p>\n",
       "                                <span class=\"djtooltiptext\">gives information on average skeletal length to next branch point</span>\n",
       "                            </div></th><th><div class=\"djtooltip\">\n",
       "                                <p id=\"nonprimary\">width_median</p>\n",
       "                                <span class=\"djtooltiptext\">median width from mesh center without spines removed</span>\n",
       "                            </div></th><th><div class=\"djtooltip\">\n",
       "                                <p id=\"nonprimary\">width_no_spine_median</p>\n",
       "                                <span class=\"djtooltiptext\">median width from mesh center with spines removed</span>\n",
       "                            </div></th><th><div class=\"djtooltip\">\n",
       "                                <p id=\"nonprimary\">width_90_perc</p>\n",
       "                                <span class=\"djtooltiptext\">90th percentile for width without spines removed</span>\n",
       "                            </div></th><th><div class=\"djtooltip\">\n",
       "                                <p id=\"nonprimary\">width_no_spine_90_perc</p>\n",
       "                                <span class=\"djtooltiptext\">90th percentile for width with spines removed</span>\n",
       "                            </div></th><th><div class=\"djtooltip\">\n",
       "                                <p id=\"nonprimary\">n_spines</p>\n",
       "                                <span class=\"djtooltiptext\"></span>\n",
       "                            </div></th><th><div class=\"djtooltip\">\n",
       "                                <p id=\"nonprimary\">spine_density</p>\n",
       "                                <span class=\"djtooltiptext\">n_spines/ skeletal_length</span>\n",
       "                            </div></th><th><div class=\"djtooltip\">\n",
       "                                <p id=\"nonprimary\">spines_per_branch</p>\n",
       "                                <span class=\"djtooltiptext\"></span>\n",
       "                            </div></th><th><div class=\"djtooltip\">\n",
       "                                <p id=\"nonprimary\">skeletal_length_eligible</p>\n",
       "                                <span class=\"djtooltiptext\">the skeletal length for all branches searched for spines</span>\n",
       "                            </div></th><th><div class=\"djtooltip\">\n",
       "                                <p id=\"nonprimary\">n_spine_eligible_branches</p>\n",
       "                                <span class=\"djtooltiptext\">the number of branches that were checked for spines because passed width threshold</span>\n",
       "                            </div></th><th><div class=\"djtooltip\">\n",
       "                                <p id=\"nonprimary\">spine_density_eligible</p>\n",
       "                                <span class=\"djtooltiptext\">n_spines/skeletal_length_eligible</span>\n",
       "                            </div></th><th><div class=\"djtooltip\">\n",
       "                                <p id=\"nonprimary\">spines_per_branch_eligible</p>\n",
       "                                <span class=\"djtooltiptext\">n_spines/n_spine_eligible_branches</span>\n",
       "                            </div></th><th><div class=\"djtooltip\">\n",
       "                                <p id=\"nonprimary\">total_spine_volume</p>\n",
       "                                <span class=\"djtooltiptext\">the sum of all spine volume</span>\n",
       "                            </div></th><th><div class=\"djtooltip\">\n",
       "                                <p id=\"nonprimary\">spine_volume_median</p>\n",
       "                                <span class=\"djtooltiptext\">median of the spine volume for those spines with able to calculate volume</span>\n",
       "                            </div></th><th><div class=\"djtooltip\">\n",
       "                                <p id=\"nonprimary\">spine_volume_density</p>\n",
       "                                <span class=\"djtooltiptext\">total_spine_volume/skeletal_length</span>\n",
       "                            </div></th><th><div class=\"djtooltip\">\n",
       "                                <p id=\"nonprimary\">spine_volume_density_eligible</p>\n",
       "                                <span class=\"djtooltiptext\">total_spine_volume/skeletal_length_eligible</span>\n",
       "                            </div></th><th><div class=\"djtooltip\">\n",
       "                                <p id=\"nonprimary\">spine_volume_per_branch_eligible</p>\n",
       "                                <span class=\"djtooltiptext\">total_spine_volume/n_spine_eligible_branches</span>\n",
       "                            </div></th><th><div class=\"djtooltip\">\n",
       "                                <p id=\"nonprimary\">run_time</p>\n",
       "                                <span class=\"djtooltiptext\">the amount of time to run (seconds)</span>\n",
       "                            </div> </th> </tr> </thead>\n",
       "                <tbody> <tr> <td>864691134026921572</td>\n",
       "<td>0</td>\n",
       "<td>0.25</td>\n",
       "<td>=BLOB=</td>\n",
       "<td>10752</td>\n",
       "<td>22449</td>\n",
       "<td>0</td>\n",
       "<td>0</td>\n",
       "<td>0</td>\n",
       "<td>1</td>\n",
       "<td>1</td>\n",
       "<td>1</td>\n",
       "<td>1</td>\n",
       "<td>9257.060907158155</td>\n",
       "<td>9257.060907158155</td>\n",
       "<td>9257.061</td>\n",
       "<td>219.966</td>\n",
       "<td>219.966</td>\n",
       "<td>219.966</td>\n",
       "<td>219.966</td>\n",
       "<td>11</td>\n",
       "<td>0.0011882821243505153</td>\n",
       "<td>11.0</td>\n",
       "<td>9257.061</td>\n",
       "<td>1</td>\n",
       "<td>nan</td>\n",
       "<td>nan</td>\n",
       "<td>5909217334.438089</td>\n",
       "<td>9946671.094996769</td>\n",
       "<td>638347.0297649984</td>\n",
       "<td>638347.0233628243</td>\n",
       "<td>5909217334.438089</td>\n",
       "<td>38.5579</td></tr><tr><td>864691134309610836</td>\n",
       "<td>0</td>\n",
       "<td>0.25</td>\n",
       "<td>=BLOB=</td>\n",
       "<td>14274</td>\n",
       "<td>31974</td>\n",
       "<td>0</td>\n",
       "<td>0</td>\n",
       "<td>0</td>\n",
       "<td>1</td>\n",
       "<td>0</td>\n",
       "<td>0</td>\n",
       "<td>None</td>\n",
       "<td>0.0</td>\n",
       "<td>nan</td>\n",
       "<td>nan</td>\n",
       "<td>nan</td>\n",
       "<td>nan</td>\n",
       "<td>nan</td>\n",
       "<td>nan</td>\n",
       "<td>0</td>\n",
       "<td>0.0</td>\n",
       "<td>0.0</td>\n",
       "<td>0.0</td>\n",
       "<td>0</td>\n",
       "<td>nan</td>\n",
       "<td>nan</td>\n",
       "<td>0.0</td>\n",
       "<td>0.0</td>\n",
       "<td>0.0</td>\n",
       "<td>0.0</td>\n",
       "<td>0.0</td>\n",
       "<td>24.5438</td></tr><tr><td>864691134412252598</td>\n",
       "<td>0</td>\n",
       "<td>0.25</td>\n",
       "<td>=BLOB=</td>\n",
       "<td>13529</td>\n",
       "<td>29348</td>\n",
       "<td>0</td>\n",
       "<td>0</td>\n",
       "<td>0</td>\n",
       "<td>1</td>\n",
       "<td>0</td>\n",
       "<td>0</td>\n",
       "<td>None</td>\n",
       "<td>0.0</td>\n",
       "<td>nan</td>\n",
       "<td>nan</td>\n",
       "<td>nan</td>\n",
       "<td>nan</td>\n",
       "<td>nan</td>\n",
       "<td>nan</td>\n",
       "<td>0</td>\n",
       "<td>0.0</td>\n",
       "<td>0.0</td>\n",
       "<td>0.0</td>\n",
       "<td>0</td>\n",
       "<td>nan</td>\n",
       "<td>nan</td>\n",
       "<td>0.0</td>\n",
       "<td>0.0</td>\n",
       "<td>0.0</td>\n",
       "<td>0.0</td>\n",
       "<td>0.0</td>\n",
       "<td>23.9303</td></tr><tr><td>864691134413248927</td>\n",
       "<td>0</td>\n",
       "<td>0.25</td>\n",
       "<td>=BLOB=</td>\n",
       "<td>14211</td>\n",
       "<td>31270</td>\n",
       "<td>0</td>\n",
       "<td>0</td>\n",
       "<td>0</td>\n",
       "<td>1</td>\n",
       "<td>0</td>\n",
       "<td>0</td>\n",
       "<td>None</td>\n",
       "<td>0.0</td>\n",
       "<td>nan</td>\n",
       "<td>nan</td>\n",
       "<td>nan</td>\n",
       "<td>nan</td>\n",
       "<td>nan</td>\n",
       "<td>nan</td>\n",
       "<td>0</td>\n",
       "<td>0.0</td>\n",
       "<td>0.0</td>\n",
       "<td>0.0</td>\n",
       "<td>0</td>\n",
       "<td>nan</td>\n",
       "<td>nan</td>\n",
       "<td>0.0</td>\n",
       "<td>0.0</td>\n",
       "<td>0.0</td>\n",
       "<td>0.0</td>\n",
       "<td>0.0</td>\n",
       "<td>25.1809</td></tr><tr><td>864691134413821752</td>\n",
       "<td>0</td>\n",
       "<td>0.25</td>\n",
       "<td>=BLOB=</td>\n",
       "<td>11696</td>\n",
       "<td>25792</td>\n",
       "<td>1</td>\n",
       "<td>1</td>\n",
       "<td>0</td>\n",
       "<td>1</td>\n",
       "<td>1</td>\n",
       "<td>3</td>\n",
       "<td>3</td>\n",
       "<td>9299.020064879269</td>\n",
       "<td>9299.020064879269</td>\n",
       "<td>1599.272</td>\n",
       "<td>34.572</td>\n",
       "<td>34.572</td>\n",
       "<td>103.183</td>\n",
       "<td>103.183</td>\n",
       "<td>0</td>\n",
       "<td>0.0</td>\n",
       "<td>0.0</td>\n",
       "<td>0.0</td>\n",
       "<td>0</td>\n",
       "<td>nan</td>\n",
       "<td>nan</td>\n",
       "<td>0.0</td>\n",
       "<td>0.0</td>\n",
       "<td>0.0</td>\n",
       "<td>0.0</td>\n",
       "<td>0.0</td>\n",
       "<td>125.4067</td></tr><tr><td>864691134431433407</td>\n",
       "<td>0</td>\n",
       "<td>0.25</td>\n",
       "<td>=BLOB=</td>\n",
       "<td>11510</td>\n",
       "<td>24714</td>\n",
       "<td>0</td>\n",
       "<td>0</td>\n",
       "<td>0</td>\n",
       "<td>1</td>\n",
       "<td>0</td>\n",
       "<td>0</td>\n",
       "<td>None</td>\n",
       "<td>0.0</td>\n",
       "<td>nan</td>\n",
       "<td>nan</td>\n",
       "<td>nan</td>\n",
       "<td>nan</td>\n",
       "<td>nan</td>\n",
       "<td>nan</td>\n",
       "<td>0</td>\n",
       "<td>0.0</td>\n",
       "<td>0.0</td>\n",
       "<td>0.0</td>\n",
       "<td>0</td>\n",
       "<td>nan</td>\n",
       "<td>nan</td>\n",
       "<td>0.0</td>\n",
       "<td>0.0</td>\n",
       "<td>0.0</td>\n",
       "<td>0.0</td>\n",
       "<td>0.0</td>\n",
       "<td>20.9624</td></tr><tr><td>864691134433153501</td>\n",
       "<td>0</td>\n",
       "<td>0.25</td>\n",
       "<td>=BLOB=</td>\n",
       "<td>11585</td>\n",
       "<td>23209</td>\n",
       "<td>0</td>\n",
       "<td>0</td>\n",
       "<td>0</td>\n",
       "<td>1</td>\n",
       "<td>0</td>\n",
       "<td>0</td>\n",
       "<td>None</td>\n",
       "<td>0.0</td>\n",
       "<td>nan</td>\n",
       "<td>nan</td>\n",
       "<td>nan</td>\n",
       "<td>nan</td>\n",
       "<td>nan</td>\n",
       "<td>nan</td>\n",
       "<td>0</td>\n",
       "<td>0.0</td>\n",
       "<td>0.0</td>\n",
       "<td>0.0</td>\n",
       "<td>0</td>\n",
       "<td>nan</td>\n",
       "<td>nan</td>\n",
       "<td>0.0</td>\n",
       "<td>0.0</td>\n",
       "<td>0.0</td>\n",
       "<td>0.0</td>\n",
       "<td>0.0</td>\n",
       "<td>22.4911</td></tr><tr><td>864691134466251864</td>\n",
       "<td>0</td>\n",
       "<td>0.25</td>\n",
       "<td>=BLOB=</td>\n",
       "<td>10808</td>\n",
       "<td>23322</td>\n",
       "<td>0</td>\n",
       "<td>0</td>\n",
       "<td>0</td>\n",
       "<td>1</td>\n",
       "<td>0</td>\n",
       "<td>0</td>\n",
       "<td>None</td>\n",
       "<td>0.0</td>\n",
       "<td>nan</td>\n",
       "<td>nan</td>\n",
       "<td>nan</td>\n",
       "<td>nan</td>\n",
       "<td>nan</td>\n",
       "<td>nan</td>\n",
       "<td>0</td>\n",
       "<td>0.0</td>\n",
       "<td>0.0</td>\n",
       "<td>0.0</td>\n",
       "<td>0</td>\n",
       "<td>nan</td>\n",
       "<td>nan</td>\n",
       "<td>0.0</td>\n",
       "<td>0.0</td>\n",
       "<td>0.0</td>\n",
       "<td>0.0</td>\n",
       "<td>0.0</td>\n",
       "<td>24.6378</td></tr><tr><td>864691134467173584</td>\n",
       "<td>0</td>\n",
       "<td>0.25</td>\n",
       "<td>=BLOB=</td>\n",
       "<td>14804</td>\n",
       "<td>31831</td>\n",
       "<td>0</td>\n",
       "<td>0</td>\n",
       "<td>0</td>\n",
       "<td>1</td>\n",
       "<td>0</td>\n",
       "<td>0</td>\n",
       "<td>None</td>\n",
       "<td>0.0</td>\n",
       "<td>nan</td>\n",
       "<td>nan</td>\n",
       "<td>nan</td>\n",
       "<td>nan</td>\n",
       "<td>nan</td>\n",
       "<td>nan</td>\n",
       "<td>0</td>\n",
       "<td>0.0</td>\n",
       "<td>0.0</td>\n",
       "<td>0.0</td>\n",
       "<td>0</td>\n",
       "<td>nan</td>\n",
       "<td>nan</td>\n",
       "<td>0.0</td>\n",
       "<td>0.0</td>\n",
       "<td>0.0</td>\n",
       "<td>0.0</td>\n",
       "<td>0.0</td>\n",
       "<td>20.0085</td></tr><tr><td>864691134488345090</td>\n",
       "<td>0</td>\n",
       "<td>0.25</td>\n",
       "<td>=BLOB=</td>\n",
       "<td>12908</td>\n",
       "<td>27823</td>\n",
       "<td>0</td>\n",
       "<td>0</td>\n",
       "<td>0</td>\n",
       "<td>1</td>\n",
       "<td>0</td>\n",
       "<td>0</td>\n",
       "<td>None</td>\n",
       "<td>0.0</td>\n",
       "<td>nan</td>\n",
       "<td>nan</td>\n",
       "<td>nan</td>\n",
       "<td>nan</td>\n",
       "<td>nan</td>\n",
       "<td>nan</td>\n",
       "<td>0</td>\n",
       "<td>0.0</td>\n",
       "<td>0.0</td>\n",
       "<td>0.0</td>\n",
       "<td>0</td>\n",
       "<td>nan</td>\n",
       "<td>nan</td>\n",
       "<td>0.0</td>\n",
       "<td>0.0</td>\n",
       "<td>0.0</td>\n",
       "<td>0.0</td>\n",
       "<td>0.0</td>\n",
       "<td>8.8056</td></tr><tr><td>864691134489732452</td>\n",
       "<td>0</td>\n",
       "<td>0.25</td>\n",
       "<td>=BLOB=</td>\n",
       "<td>10758</td>\n",
       "<td>22966</td>\n",
       "<td>0</td>\n",
       "<td>0</td>\n",
       "<td>0</td>\n",
       "<td>1</td>\n",
       "<td>0</td>\n",
       "<td>0</td>\n",
       "<td>None</td>\n",
       "<td>0.0</td>\n",
       "<td>nan</td>\n",
       "<td>nan</td>\n",
       "<td>nan</td>\n",
       "<td>nan</td>\n",
       "<td>nan</td>\n",
       "<td>nan</td>\n",
       "<td>0</td>\n",
       "<td>0.0</td>\n",
       "<td>0.0</td>\n",
       "<td>0.0</td>\n",
       "<td>0</td>\n",
       "<td>nan</td>\n",
       "<td>nan</td>\n",
       "<td>0.0</td>\n",
       "<td>0.0</td>\n",
       "<td>0.0</td>\n",
       "<td>0.0</td>\n",
       "<td>0.0</td>\n",
       "<td>24.0124</td></tr><tr><td>864691134511269467</td>\n",
       "<td>0</td>\n",
       "<td>0.25</td>\n",
       "<td>=BLOB=</td>\n",
       "<td>10571</td>\n",
       "<td>21878</td>\n",
       "<td>0</td>\n",
       "<td>0</td>\n",
       "<td>0</td>\n",
       "<td>1</td>\n",
       "<td>0</td>\n",
       "<td>0</td>\n",
       "<td>None</td>\n",
       "<td>0.0</td>\n",
       "<td>nan</td>\n",
       "<td>nan</td>\n",
       "<td>nan</td>\n",
       "<td>nan</td>\n",
       "<td>nan</td>\n",
       "<td>nan</td>\n",
       "<td>0</td>\n",
       "<td>0.0</td>\n",
       "<td>0.0</td>\n",
       "<td>0.0</td>\n",
       "<td>0</td>\n",
       "<td>nan</td>\n",
       "<td>nan</td>\n",
       "<td>0.0</td>\n",
       "<td>0.0</td>\n",
       "<td>0.0</td>\n",
       "<td>0.0</td>\n",
       "<td>0.0</td>\n",
       "<td>20.304</td> </tr> </tbody>\n",
       "            </table>\n",
       "            <p>...</p>\n",
       "            <p>Total: 21252</p></div>\n",
       "            "
      ],
      "text/plain": [
       "*segment_id    *decimation_ve *decimation_ra decomposit n_vertices     n_faces     n_error_limbs  n_same_soma_mu n_multi_soma_t n_somas     n_limbs     n_branches     max_limb_n_bra skeletal_lengt max_limb_skele median_branch_ width_median   width_no_spine width_90_perc  width_no_spine n_spines     spine_density  spines_per_bra skeletal_lengt n_spine_eligib spine_density_ spines_per_bra total_spine_vo spine_volume_m spine_volume_d spine_volume_d spine_volume_p run_time    \n",
       "+------------+ +------------+ +------------+ +--------+ +------------+ +---------+ +------------+ +------------+ +------------+ +---------+ +---------+ +------------+ +------------+ +------------+ +------------+ +------------+ +------------+ +------------+ +------------+ +------------+ +----------+ +------------+ +------------+ +------------+ +------------+ +------------+ +------------+ +------------+ +------------+ +------------+ +------------+ +------------+ +----------+\n",
       "86469113402692 0              0.25           =BLOB=     10752          22449       0              0              0              1           1           1              1              9257.060907158 9257.060907158 9257.061       219.966        219.966        219.966        219.966        11           0.001188282124 11.0           9257.061       1              nan            nan            5909217334.438 9946671.094996 638347.0297649 638347.0233628 5909217334.438 38.5579     \n",
       "86469113430961 0              0.25           =BLOB=     14274          31974       0              0              0              1           0           0              None           0.0            nan            nan            nan            nan            nan            nan            0            0.0            0.0            0.0            0              nan            nan            0.0            0.0            0.0            0.0            0.0            24.5438     \n",
       "86469113441225 0              0.25           =BLOB=     13529          29348       0              0              0              1           0           0              None           0.0            nan            nan            nan            nan            nan            nan            0            0.0            0.0            0.0            0              nan            nan            0.0            0.0            0.0            0.0            0.0            23.9303     \n",
       "86469113441324 0              0.25           =BLOB=     14211          31270       0              0              0              1           0           0              None           0.0            nan            nan            nan            nan            nan            nan            0            0.0            0.0            0.0            0              nan            nan            0.0            0.0            0.0            0.0            0.0            25.1809     \n",
       "86469113441382 0              0.25           =BLOB=     11696          25792       1              1              0              1           1           3              3              9299.020064879 9299.020064879 1599.272       34.572         34.572         103.183        103.183        0            0.0            0.0            0.0            0              nan            nan            0.0            0.0            0.0            0.0            0.0            125.4067    \n",
       "86469113443143 0              0.25           =BLOB=     11510          24714       0              0              0              1           0           0              None           0.0            nan            nan            nan            nan            nan            nan            0            0.0            0.0            0.0            0              nan            nan            0.0            0.0            0.0            0.0            0.0            20.9624     \n",
       "86469113443315 0              0.25           =BLOB=     11585          23209       0              0              0              1           0           0              None           0.0            nan            nan            nan            nan            nan            nan            0            0.0            0.0            0.0            0              nan            nan            0.0            0.0            0.0            0.0            0.0            22.4911     \n",
       "86469113446625 0              0.25           =BLOB=     10808          23322       0              0              0              1           0           0              None           0.0            nan            nan            nan            nan            nan            nan            0            0.0            0.0            0.0            0              nan            nan            0.0            0.0            0.0            0.0            0.0            24.6378     \n",
       "86469113446717 0              0.25           =BLOB=     14804          31831       0              0              0              1           0           0              None           0.0            nan            nan            nan            nan            nan            nan            0            0.0            0.0            0.0            0              nan            nan            0.0            0.0            0.0            0.0            0.0            20.0085     \n",
       "86469113448834 0              0.25           =BLOB=     12908          27823       0              0              0              1           0           0              None           0.0            nan            nan            nan            nan            nan            nan            0            0.0            0.0            0.0            0              nan            nan            0.0            0.0            0.0            0.0            0.0            8.8056      \n",
       "86469113448973 0              0.25           =BLOB=     10758          22966       0              0              0              1           0           0              None           0.0            nan            nan            nan            nan            nan            nan            0            0.0            0.0            0.0            0              nan            nan            0.0            0.0            0.0            0.0            0.0            24.0124     \n",
       "86469113451126 0              0.25           =BLOB=     10571          21878       0              0              0              1           0           0              None           0.0            nan            nan            nan            nan            nan            nan            0            0.0            0.0            0.0            0              nan            nan            0.0            0.0            0.0            0.0            0.0            20.304      \n",
       "   ...\n",
       " (Total: 21252)"
      ]
     },
     "execution_count": 93,
     "metadata": {},
     "output_type": "execute_result"
    }
   ],
   "source": [
    "minnie.Decomposition()"
   ]
  },
  {
   "cell_type": "code",
   "execution_count": 14,
   "metadata": {},
   "outputs": [
    {
     "data": {
      "text/plain": [
       "11398"
      ]
     },
     "execution_count": 14,
     "metadata": {},
     "output_type": "execute_result"
    }
   ],
   "source": [
    "len(minnie.Decomposition() & \"n_somas = 1\" & \"n_faces>500000\") - 10215"
   ]
  },
  {
   "cell_type": "code",
   "execution_count": null,
   "metadata": {},
   "outputs": [],
   "source": [
    "import numpy as np\n",
    "import datajoint as dj\n",
    "import trimesh\n",
    "from tqdm.notebook import tqdm\n",
    "from pathlib import Path\n",
    "\n",
    "from os import sys\n",
    "sys.path.append(\"/meshAfterParty/\")\n",
    "\n",
    "import datajoint_utils as du\n",
    "from importlib import reload"
   ]
  },
  {
   "cell_type": "code",
   "execution_count": null,
   "metadata": {},
   "outputs": [],
   "source": [
    "minnie.BaylorSegmentCentroid()"
   ]
  },
  {
   "cell_type": "code",
   "execution_count": 52,
   "metadata": {},
   "outputs": [
    {
     "data": {
      "text/html": [
       "\n",
       "        \n",
       "        <style type=\"text/css\">\n",
       "            .Relation{\n",
       "                border-collapse:collapse;\n",
       "            }\n",
       "            .Relation th{\n",
       "                background: #A0A0A0; color: #ffffff; padding:4px; border:#f0e0e0 1px solid;\n",
       "                font-weight: normal; font-family: monospace; font-size: 100%;\n",
       "            }\n",
       "            .Relation td{\n",
       "                padding:4px; border:#f0e0e0 1px solid; font-size:100%;\n",
       "            }\n",
       "            .Relation tr:nth-child(odd){\n",
       "                background: #ffffff;\n",
       "            }\n",
       "            .Relation tr:nth-child(even){\n",
       "                background: #f3f1ff;\n",
       "            }\n",
       "            /* Tooltip container */\n",
       "            .djtooltip {\n",
       "            }\n",
       "            /* Tooltip text */\n",
       "            .djtooltip .djtooltiptext {\n",
       "                visibility: hidden;\n",
       "                width: 120px;\n",
       "                background-color: black;\n",
       "                color: #fff;\n",
       "                text-align: center;\n",
       "                padding: 5px 0;\n",
       "                border-radius: 6px;\n",
       "                /* Position the tooltip text - see examples below! */\n",
       "                position: absolute;\n",
       "                z-index: 1;\n",
       "            }\n",
       "            #primary {\n",
       "                font-weight: bold;\n",
       "                color: black;\n",
       "            }\n",
       "\n",
       "            #nonprimary {\n",
       "                font-weight: normal;\n",
       "                color: white;\n",
       "            }\n",
       "\n",
       "            /* Show the tooltip text when you mouse over the tooltip container */\n",
       "            .djtooltip:hover .djtooltiptext {\n",
       "                visibility: visible;\n",
       "            }\n",
       "        </style>\n",
       "        \n",
       "        <b></b>\n",
       "            <div style=\"max-height:1000px;max-width:1500px;overflow:auto;\">\n",
       "            <table border=\"1\" class=\"Relation\">\n",
       "                <thead> <tr style=\"text-align: right;\"> <th> <div class=\"djtooltip\">\n",
       "                                <p id=\"primary\">segment_id</p>\n",
       "                                <span class=\"djtooltiptext\">segment id for those to be decimated</span>\n",
       "                            </div> </th> </tr> </thead>\n",
       "                <tbody> <tr> <td>864691136105493209</td> </tr> </tbody>\n",
       "            </table>\n",
       "            \n",
       "            <p>Total: 1</p></div>\n",
       "            "
      ],
      "text/plain": [
       "*segment_id   \n",
       "+------------+\n",
       "86469113610549\n",
       " (Total: 1)"
      ]
     },
     "execution_count": 52,
     "metadata": {},
     "output_type": "execute_result"
    }
   ],
   "source": [
    "minnie.SegToDecimateFromNuclei() & \"segment_id=864691136105493209\""
   ]
  },
  {
   "cell_type": "markdown",
   "metadata": {},
   "source": [
    "# Inspecting BaylorSegmentCentroid"
   ]
  },
  {
   "cell_type": "code",
   "execution_count": null,
   "metadata": {},
   "outputs": [],
   "source": [
    "# The final number should be 87438\n",
    "len(minnie.BaylorSegmentCentroid())"
   ]
  },
  {
   "cell_type": "code",
   "execution_count": null,
   "metadata": {},
   "outputs": [],
   "source": [
    "decimation_version = 0\n",
    "decimation_ratio = 0.25\n",
    "verts_min = 10000\n",
    "\n",
    "key_source =  ((minnie.Decimation & f\"n_vertices > {verts_min}\").proj(decimation_version='version') & \n",
    "                        \"decimation_version=\" + str(decimation_version) &\n",
    "                   f\"decimation_ratio={decimation_ratio}\" & minnie.SegToDecimateFromNuclei())\n",
    "len(key_source)\n",
    "len(key_source & minnie.BaylorSegmentCentroid.proj())"
   ]
  },
  {
   "cell_type": "code",
   "execution_count": null,
   "metadata": {},
   "outputs": [],
   "source": []
  },
  {
   "cell_type": "code",
   "execution_count": null,
   "metadata": {},
   "outputs": [],
   "source": [
    "86836"
   ]
  },
  {
   "cell_type": "code",
   "execution_count": null,
   "metadata": {},
   "outputs": [],
   "source": [
    "\"\"\"\n",
    "87438 is the goal: 85993\n",
    "\"\"\"\n",
    "87438-85993"
   ]
  },
  {
   "cell_type": "code",
   "execution_count": null,
   "metadata": {},
   "outputs": [],
   "source": [
    "len(minnie.Decomposition())"
   ]
  },
  {
   "cell_type": "code",
   "execution_count": null,
   "metadata": {},
   "outputs": [],
   "source": [
    "minnie.Decimation() & (minnie.BaylorSegmentCentroid() & \"multiplicity>0\").proj()"
   ]
  },
  {
   "cell_type": "code",
   "execution_count": null,
   "metadata": {},
   "outputs": [],
   "source": [
    "73874"
   ]
  },
  {
   "cell_type": "code",
   "execution_count": null,
   "metadata": {},
   "outputs": [],
   "source": [
    "minnie.SegToDecimateFromNuclei()"
   ]
  },
  {
   "cell_type": "code",
   "execution_count": null,
   "metadata": {},
   "outputs": [],
   "source": [
    "#(schema.jobs & \"table_name='__baylor_segment_centroid'\" & \"status='reserved'\").delete()"
   ]
  },
  {
   "cell_type": "code",
   "execution_count": null,
   "metadata": {},
   "outputs": [],
   "source": [
    "len(minnie.Decomposition())-9385"
   ]
  },
  {
   "cell_type": "code",
   "execution_count": null,
   "metadata": {
    "scrolled": true
   },
   "outputs": [],
   "source": [
    "minnie.Decomposition() & \"n_somas=1\" & \"n_vertices > 40000\""
   ]
  },
  {
   "cell_type": "code",
   "execution_count": null,
   "metadata": {},
   "outputs": [],
   "source": [
    "neuron_obj = (minnie.Decomposition() & \"segment_id=864691134884743418\").fetch1(\"decomposition\")"
   ]
  },
  {
   "cell_type": "code",
   "execution_count": null,
   "metadata": {},
   "outputs": [],
   "source": [
    "neuron = reload(neuron)\n",
    "tu = reload(tu)\n",
    "nru = reload(nru)"
   ]
  },
  {
   "cell_type": "code",
   "execution_count": null,
   "metadata": {},
   "outputs": [],
   "source": [
    "neuron_obj.calculate_spines(query='median_mesh_center > 150 and n_faces_branch>100')"
   ]
  },
  {
   "cell_type": "code",
   "execution_count": null,
   "metadata": {},
   "outputs": [],
   "source": [
    "nviz.plot_spines(neuron_obj)"
   ]
  },
  {
   "cell_type": "code",
   "execution_count": null,
   "metadata": {
    "scrolled": true
   },
   "outputs": [],
   "source": [
    "neuron_obj[0][3].spines_volume#[\"median_mesh_center\"]"
   ]
  },
  {
   "cell_type": "code",
   "execution_count": null,
   "metadata": {},
   "outputs": [],
   "source": [
    "ret_col = nviz.visualize_neuron(neuron_obj,\n",
    "                      visualize_type=[\"mesh\",\"skeleton\"],\n",
    "                      limb_branch_dict=dict(L3=\"all\"),\n",
    "                     return_color_dict=True)"
   ]
  },
  {
   "cell_type": "code",
   "execution_count": null,
   "metadata": {},
   "outputs": [],
   "source": [
    "neuron_obj[0][7].width_array[\"median_mesh_center\"]"
   ]
  },
  {
   "cell_type": "code",
   "execution_count": null,
   "metadata": {},
   "outputs": [],
   "source": [
    "neuron_obj[0][7].mesh.show()"
   ]
  },
  {
   "cell_type": "code",
   "execution_count": null,
   "metadata": {},
   "outputs": [],
   "source": [
    "nviz.plot_limb_concept_network_2D(neuron_obj,node_colors=ret_col)"
   ]
  },
  {
   "cell_type": "code",
   "execution_count": null,
   "metadata": {},
   "outputs": [],
   "source": [
    "nviz.plot_spines(neuron_obj)"
   ]
  },
  {
   "cell_type": "code",
   "execution_count": null,
   "metadata": {},
   "outputs": [],
   "source": [
    "ret_col = nviz.visualize_neuron(neuron_obj,\n",
    "                      visualize_type=[\"mesh\",\"skeleton\"],\n",
    "                      mesh_resolution=\"limb\",\n",
    "                      skeleton_resolution=\"limb\",\n",
    "                      limb_branch_dict=\"all\",\n",
    "                               return_color_dict=True)"
   ]
  },
  {
   "cell_type": "code",
   "execution_count": null,
   "metadata": {},
   "outputs": [],
   "source": [
    "nviz.plot_soma_limb_concept_network(neuron_obj,\n",
    "                                   node_colors=ret_col)"
   ]
  },
  {
   "cell_type": "markdown",
   "metadata": {},
   "source": [
    "# Checking the Decomposition Table"
   ]
  },
  {
   "cell_type": "code",
   "execution_count": null,
   "metadata": {},
   "outputs": [],
   "source": [
    "import neuron_visualizations as nviz\n",
    "nviz.visualize_neuron(neuron_obj,\n",
    "                      visualize_type=[\"mesh\",\"skeleton\"],\n",
    "                      limb_branch_dict=\"all\")"
   ]
  },
  {
   "cell_type": "code",
   "execution_count": null,
   "metadata": {},
   "outputs": [],
   "source": [
    "(schema.jobs & \"table_name='__decomposition'\" & \"status='error'\" & \"key_hash='100cc5b6c8387409cc7c30e9ae956955'\").delete()#.fetch1(\"key\")"
   ]
  },
  {
   "cell_type": "code",
   "execution_count": null,
   "metadata": {},
   "outputs": [],
   "source": [
    "dj.config[\"display.limit\"] = 10\n",
    "(schema.jobs & \"table_name='__decomposition'\" & \"status='error'\")#.fetch1(\"key\")#.delete()#.fetch1(\"key\")"
   ]
  },
  {
   "cell_type": "code",
   "execution_count": null,
   "metadata": {},
   "outputs": [],
   "source": [
    "(schema.jobs & \"table_name='__decomposition'\" & \"status='error'\")#& \"key_hash='1cfdce50b5902366c8c6cedc200f6840'\").fetch1(\"error_stack\")"
   ]
  },
  {
   "cell_type": "code",
   "execution_count": null,
   "metadata": {},
   "outputs": [],
   "source": [
    "ret_key = (schema.jobs & \"table_name='__decomposition'\" & \"status='error'\"& \"key_hash='79a9341cc14a9158d4dcc011a997f814'\").fetch1(\"key\")\n",
    "ret_key"
   ]
  },
  {
   "cell_type": "code",
   "execution_count": null,
   "metadata": {},
   "outputs": [],
   "source": [
    "from datajoint_utils import *\n",
    "schema.external['decomposition'].delete(delete_external_files=True)"
   ]
  },
  {
   "cell_type": "code",
   "execution_count": null,
   "metadata": {},
   "outputs": [],
   "source": [
    "decomp_path = Path(\"/mnt/dj-stor01/platinum/minnie65/02/decomposition/\")\n",
    "for f in decomp_path.iterdir():\n",
    "    print(f)"
   ]
  },
  {
   "cell_type": "code",
   "execution_count": null,
   "metadata": {},
   "outputs": [],
   "source": [
    "20*70000/60/24/300"
   ]
  },
  {
   "cell_type": "code",
   "execution_count": null,
   "metadata": {},
   "outputs": [],
   "source": [
    "all_run_times = minnie.Decomposition.fetch(\"run_time\")\n",
    "np.median(all_run_times)"
   ]
  },
  {
   "cell_type": "code",
   "execution_count": null,
   "metadata": {},
   "outputs": [],
   "source": [
    "(minnie.schema.jobs & \"table_name='__decomposition'\" & \"status='reserved'\" & 'timestamp<\"2020-11-22 19:00:00\"').delete()"
   ]
  },
  {
   "cell_type": "code",
   "execution_count": null,
   "metadata": {},
   "outputs": [],
   "source": [
    "(minnie.schema.jobs & \"table_name='__decomposition'\" & \"status='reserved'\")"
   ]
  },
  {
   "cell_type": "code",
   "execution_count": null,
   "metadata": {},
   "outputs": [],
   "source": [
    "len(minnie.Decomposition())-846"
   ]
  },
  {
   "cell_type": "code",
   "execution_count": null,
   "metadata": {},
   "outputs": [],
   "source": [
    "neuron_obj = (minnie.Decomposition() & \"segment_id=864691136903062706\").fetch1(\"decomposition\")"
   ]
  },
  {
   "cell_type": "code",
   "execution_count": null,
   "metadata": {},
   "outputs": [],
   "source": [
    "import neuron_visualizations as nviz\n",
    "ret_col = nviz.visualize_neuron(neuron_obj,\n",
    "                      visualize_type=[\"mesh\",\"skeleton\"],\n",
    "                      #mesh_resolution=\"limb\",\n",
    "                      #skeleton_resolution=\"limb\",\n",
    "                      limb_branch_dict=\"all\",\n",
    "                     return_color_dict=True)\n",
    "                  "
   ]
  },
  {
   "cell_type": "code",
   "execution_count": null,
   "metadata": {},
   "outputs": [],
   "source": [
    "minnie.decompo"
   ]
  },
  {
   "cell_type": "code",
   "execution_count": null,
   "metadata": {},
   "outputs": [],
   "source": [
    "decimation_version = 0\n",
    "decimation_ratio = 0.25\n",
    "\n",
    "key_source =  ((minnie.Decimation).proj(decimation_version='version') & \n",
    "                            \"decimation_version=\" + str(decimation_version) &\n",
    "                       f\"decimation_ratio={decimation_ratio}\" &  (minnie.BaylorSegmentCentroidExternal() & \"multiplicity>0\").proj())\n",
    "key_source"
   ]
  },
  {
   "cell_type": "code",
   "execution_count": null,
   "metadata": {},
   "outputs": [],
   "source": [
    "nviz.plot_soma_limb_concept_network(neuron_obj,node_colors=ret_col)"
   ]
  },
  {
   "cell_type": "code",
   "execution_count": null,
   "metadata": {},
   "outputs": [],
   "source": [
    "soma_mesh = main_mesh=neuron_obj[\"S0\"].mesh"
   ]
  },
  {
   "cell_type": "code",
   "execution_count": null,
   "metadata": {},
   "outputs": [],
   "source": []
  },
  {
   "cell_type": "code",
   "execution_count": null,
   "metadata": {},
   "outputs": [],
   "source": [
    "import neuron\n",
    "neuron = reload(neuron)\n",
    "neuron_obj = neuron.Neuron(neuron_obj)"
   ]
  },
  {
   "cell_type": "code",
   "execution_count": null,
   "metadata": {},
   "outputs": [],
   "source": [
    "tu = reload(tu)"
   ]
  },
  {
   "cell_type": "code",
   "execution_count": null,
   "metadata": {},
   "outputs": [],
   "source": []
  },
  {
   "cell_type": "code",
   "execution_count": null,
   "metadata": {},
   "outputs": [],
   "source": [
    "nviz.plot_objects(main_mesh=neuron_obj[\"S0\"].mesh,\n",
    "                meshes=neuron_obj.non_soma_touching_meshes,\n",
    "                  meshes_colors=\"random\")"
   ]
  },
  {
   "cell_type": "code",
   "execution_count": null,
   "metadata": {},
   "outputs": [],
   "source": [
    "ret_col = nviz.visualize_neuron(neuron_obj,\n",
    "                      visualize_type=[\"mesh\",\"skeleton\"],\n",
    "                      #mesh_resolution=\"limb\",\n",
    "                      #skeleton_resolution=\"limb\",\n",
    "                        mesh_soma=False,\n",
    "                      limb_branch_dict=dict(L6=\"all\"))\n",
    "                  "
   ]
  },
  {
   "cell_type": "code",
   "execution_count": null,
   "metadata": {},
   "outputs": [],
   "source": [
    "nviz.plot_spines(neuron_obj)"
   ]
  },
  {
   "cell_type": "markdown",
   "metadata": {},
   "source": [
    "# Deleteing A lot of the Tables"
   ]
  },
  {
   "cell_type": "code",
   "execution_count": null,
   "metadata": {},
   "outputs": [],
   "source": [
    "\"\"\"\n",
    "Pseudocode: \n",
    "Tables that need to be dropped:\n",
    "-\n",
    "\n",
    "\n",
    "\"\"\"\n",
    "\n",
    "minnie.BaylorSegmentCentroidTest.drop()"
   ]
  },
  {
   "cell_type": "code",
   "execution_count": null,
   "metadata": {},
   "outputs": [],
   "source": [
    "soma_path = Path(\"/mnt/dj-stor01/platinum/minnie65/02/somas/\")"
   ]
  },
  {
   "cell_type": "code",
   "execution_count": null,
   "metadata": {},
   "outputs": [],
   "source": [
    "for j,f in enumerate(soma_path.iterdir()):\n",
    "    if j > 100:\n",
    "        break\n",
    "    print(f)"
   ]
  },
  {
   "cell_type": "code",
   "execution_count": null,
   "metadata": {},
   "outputs": [],
   "source": [
    "from datajoint_utils import *\n",
    "schema.external['somas'].delete(delete_external_files=True)"
   ]
  },
  {
   "cell_type": "code",
   "execution_count": null,
   "metadata": {},
   "outputs": [],
   "source": []
  }
 ],
 "metadata": {
  "kernelspec": {
   "display_name": "Python 3",
   "language": "python",
   "name": "python3"
  },
  "language_info": {
   "codemirror_mode": {
    "name": "ipython",
    "version": 3
   },
   "file_extension": ".py",
   "mimetype": "text/x-python",
   "name": "python",
   "nbconvert_exporter": "python",
   "pygments_lexer": "ipython3",
   "version": "3.6.9"
  }
 },
 "nbformat": 4,
 "nbformat_minor": 4
}
