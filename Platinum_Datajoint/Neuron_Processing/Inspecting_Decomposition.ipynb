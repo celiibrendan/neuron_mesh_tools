{
 "cells": [
  {
   "cell_type": "code",
   "execution_count": null,
   "metadata": {},
   "outputs": [],
   "source": [
    "\"\"\"\n",
    "To check the progress of the neuron decomposition\n",
    "\n",
    "\"\"\""
   ]
  },
  {
   "cell_type": "code",
   "execution_count": 125,
   "metadata": {},
   "outputs": [
    {
     "name": "stdout",
     "output_type": "stream",
     "text": [
      "Current path for external_segmentation_path = /mnt/dj-stor01/platinum/minnie65/02\n",
      "Current path for external_mesh_path = /mnt/dj-stor01/platinum/minnie65/02/meshes\n",
      "Current path for external_decimated_mesh_path = /mnt/dj-stor01/platinum/minnie65/02/decimated_meshes\n",
      "Current path for external_skeleton_path = /mnt/dj-stor01/platinum/minnie65/02/skeletons\n"
     ]
    }
   ],
   "source": [
    "import minfig\n",
    "du.config_celii()\n",
    "du.set_minnie65_config_segmentation(minfig)\n",
    "du.print_minnie65_config_paths(minfig)\n",
    "\n",
    "#configuring will include the adapters\n",
    "minnie,schema = du.configure_minnie_vm()"
   ]
  },
  {
   "cell_type": "code",
   "execution_count": 3,
   "metadata": {},
   "outputs": [],
   "source": [
    "import numpy as np\n",
    "import datajoint as dj\n",
    "import trimesh\n",
    "from tqdm.notebook import tqdm\n",
    "from pathlib import Path\n",
    "\n",
    "from os import sys\n",
    "sys.path.append(\"/meshAfterParty/\")\n",
    "\n",
    "import datajoint_utils as du\n",
    "from importlib import reload"
   ]
  },
  {
   "cell_type": "markdown",
   "metadata": {},
   "source": [
    "# Checking the Decomposition Table"
   ]
  },
  {
   "cell_type": "code",
   "execution_count": 116,
   "metadata": {},
   "outputs": [
    {
     "data": {
      "text/plain": [
       "9"
      ]
     },
     "execution_count": 116,
     "metadata": {},
     "output_type": "execute_result"
    }
   ],
   "source": [
    "len(minnie.Decomposition())"
   ]
  },
  {
   "cell_type": "code",
   "execution_count": 117,
   "metadata": {},
   "outputs": [
    {
     "data": {
      "text/html": [
       "\n",
       "        \n",
       "        <style type=\"text/css\">\n",
       "            .Relation{\n",
       "                border-collapse:collapse;\n",
       "            }\n",
       "            .Relation th{\n",
       "                background: #A0A0A0; color: #ffffff; padding:4px; border:#f0e0e0 1px solid;\n",
       "                font-weight: normal; font-family: monospace; font-size: 100%;\n",
       "            }\n",
       "            .Relation td{\n",
       "                padding:4px; border:#f0e0e0 1px solid; font-size:100%;\n",
       "            }\n",
       "            .Relation tr:nth-child(odd){\n",
       "                background: #ffffff;\n",
       "            }\n",
       "            .Relation tr:nth-child(even){\n",
       "                background: #f3f1ff;\n",
       "            }\n",
       "            /* Tooltip container */\n",
       "            .djtooltip {\n",
       "            }\n",
       "            /* Tooltip text */\n",
       "            .djtooltip .djtooltiptext {\n",
       "                visibility: hidden;\n",
       "                width: 120px;\n",
       "                background-color: black;\n",
       "                color: #fff;\n",
       "                text-align: center;\n",
       "                padding: 5px 0;\n",
       "                border-radius: 6px;\n",
       "                /* Position the tooltip text - see examples below! */\n",
       "                position: absolute;\n",
       "                z-index: 1;\n",
       "            }\n",
       "            #primary {\n",
       "                font-weight: bold;\n",
       "                color: black;\n",
       "            }\n",
       "\n",
       "            #nonprimary {\n",
       "                font-weight: normal;\n",
       "                color: white;\n",
       "            }\n",
       "\n",
       "            /* Show the tooltip text when you mouse over the tooltip container */\n",
       "            .djtooltip:hover .djtooltiptext {\n",
       "                visibility: visible;\n",
       "            }\n",
       "        </style>\n",
       "        \n",
       "        <b></b>\n",
       "            <div style=\"max-height:1000px;max-width:1500px;overflow:auto;\">\n",
       "            <table border=\"1\" class=\"Relation\">\n",
       "                <thead> <tr style=\"text-align: right;\"> <th> <div class=\"djtooltip\">\n",
       "                                <p id=\"primary\">segment_id</p>\n",
       "                                <span class=\"djtooltiptext\">segment id unique within each Segmentation</span>\n",
       "                            </div></th><th><div class=\"djtooltip\">\n",
       "                                <p id=\"primary\">decimation_version</p>\n",
       "                                <span class=\"djtooltiptext\"></span>\n",
       "                            </div></th><th><div class=\"djtooltip\">\n",
       "                                <p id=\"primary\">decimation_ratio</p>\n",
       "                                <span class=\"djtooltiptext\">ratio of remaining mesh vertices/faces (which ones depends on what metric the decimation technique uses)</span>\n",
       "                            </div></th><th><div class=\"djtooltip\">\n",
       "                                <p id=\"nonprimary\">decomposition</p>\n",
       "                                <span class=\"djtooltiptext\"></span>\n",
       "                            </div></th><th><div class=\"djtooltip\">\n",
       "                                <p id=\"nonprimary\">n_vertices</p>\n",
       "                                <span class=\"djtooltiptext\">number of vertices</span>\n",
       "                            </div></th><th><div class=\"djtooltip\">\n",
       "                                <p id=\"nonprimary\">n_faces</p>\n",
       "                                <span class=\"djtooltiptext\">number of faces</span>\n",
       "                            </div></th><th><div class=\"djtooltip\">\n",
       "                                <p id=\"nonprimary\">n_error_limbs</p>\n",
       "                                <span class=\"djtooltiptext\">the number of limbs that are touching multiple somas or 1 soma in multiple places</span>\n",
       "                            </div></th><th><div class=\"djtooltip\">\n",
       "                                <p id=\"nonprimary\">n_same_soma_multi_touching_limbs</p>\n",
       "                                <span class=\"djtooltiptext\">number of limbs that touch the same soma multiple times</span>\n",
       "                            </div></th><th><div class=\"djtooltip\">\n",
       "                                <p id=\"nonprimary\">n_multi_soma_touching_limbs</p>\n",
       "                                <span class=\"djtooltiptext\">number of limbs that touch multiple somas</span>\n",
       "                            </div></th><th><div class=\"djtooltip\">\n",
       "                                <p id=\"nonprimary\">n_somas</p>\n",
       "                                <span class=\"djtooltiptext\">number of soma meshes detected</span>\n",
       "                            </div></th><th><div class=\"djtooltip\">\n",
       "                                <p id=\"nonprimary\">n_limbs</p>\n",
       "                                <span class=\"djtooltiptext\"></span>\n",
       "                            </div></th><th><div class=\"djtooltip\">\n",
       "                                <p id=\"nonprimary\">n_branches</p>\n",
       "                                <span class=\"djtooltiptext\"></span>\n",
       "                            </div></th><th><div class=\"djtooltip\">\n",
       "                                <p id=\"nonprimary\">max_limb_n_branches</p>\n",
       "                                <span class=\"djtooltiptext\"></span>\n",
       "                            </div></th><th><div class=\"djtooltip\">\n",
       "                                <p id=\"nonprimary\">skeletal_length</p>\n",
       "                                <span class=\"djtooltiptext\"></span>\n",
       "                            </div></th><th><div class=\"djtooltip\">\n",
       "                                <p id=\"nonprimary\">max_limb_skeletal_length</p>\n",
       "                                <span class=\"djtooltiptext\"></span>\n",
       "                            </div></th><th><div class=\"djtooltip\">\n",
       "                                <p id=\"nonprimary\">median_branch_length</p>\n",
       "                                <span class=\"djtooltiptext\">gives information on average skeletal length to next branch point</span>\n",
       "                            </div></th><th><div class=\"djtooltip\">\n",
       "                                <p id=\"nonprimary\">width_median</p>\n",
       "                                <span class=\"djtooltiptext\">median width from mesh center without spines removed</span>\n",
       "                            </div></th><th><div class=\"djtooltip\">\n",
       "                                <p id=\"nonprimary\">width_no_spine_median</p>\n",
       "                                <span class=\"djtooltiptext\">median width from mesh center with spines removed</span>\n",
       "                            </div></th><th><div class=\"djtooltip\">\n",
       "                                <p id=\"nonprimary\">width_90_perc</p>\n",
       "                                <span class=\"djtooltiptext\">90th percentile for width without spines removed</span>\n",
       "                            </div></th><th><div class=\"djtooltip\">\n",
       "                                <p id=\"nonprimary\">width_no_spine_90_perc</p>\n",
       "                                <span class=\"djtooltiptext\">90th percentile for width with spines removed</span>\n",
       "                            </div></th><th><div class=\"djtooltip\">\n",
       "                                <p id=\"nonprimary\">n_spines</p>\n",
       "                                <span class=\"djtooltiptext\"></span>\n",
       "                            </div></th><th><div class=\"djtooltip\">\n",
       "                                <p id=\"nonprimary\">spine_density</p>\n",
       "                                <span class=\"djtooltiptext\">n_spines/ skeletal_length</span>\n",
       "                            </div></th><th><div class=\"djtooltip\">\n",
       "                                <p id=\"nonprimary\">spines_per_branch</p>\n",
       "                                <span class=\"djtooltiptext\"></span>\n",
       "                            </div></th><th><div class=\"djtooltip\">\n",
       "                                <p id=\"nonprimary\">skeletal_length_eligible</p>\n",
       "                                <span class=\"djtooltiptext\">the skeletal length for all branches searched for spines</span>\n",
       "                            </div></th><th><div class=\"djtooltip\">\n",
       "                                <p id=\"nonprimary\">n_spine_eligible_branches</p>\n",
       "                                <span class=\"djtooltiptext\">the number of branches that were checked for spines because passed width threshold</span>\n",
       "                            </div></th><th><div class=\"djtooltip\">\n",
       "                                <p id=\"nonprimary\">spine_density_eligible</p>\n",
       "                                <span class=\"djtooltiptext\">n_spines/skeletal_length_eligible</span>\n",
       "                            </div></th><th><div class=\"djtooltip\">\n",
       "                                <p id=\"nonprimary\">spines_per_branch_eligible</p>\n",
       "                                <span class=\"djtooltiptext\">n_spines/n_spine_eligible_branches</span>\n",
       "                            </div></th><th><div class=\"djtooltip\">\n",
       "                                <p id=\"nonprimary\">total_spine_volume</p>\n",
       "                                <span class=\"djtooltiptext\">the sum of all spine volume</span>\n",
       "                            </div></th><th><div class=\"djtooltip\">\n",
       "                                <p id=\"nonprimary\">spine_volume_median</p>\n",
       "                                <span class=\"djtooltiptext\">median of the spine volume for those spines with able to calculate volume</span>\n",
       "                            </div></th><th><div class=\"djtooltip\">\n",
       "                                <p id=\"nonprimary\">spine_volume_density</p>\n",
       "                                <span class=\"djtooltiptext\">total_spine_volume/skeletal_length</span>\n",
       "                            </div></th><th><div class=\"djtooltip\">\n",
       "                                <p id=\"nonprimary\">spine_volume_density_eligible</p>\n",
       "                                <span class=\"djtooltiptext\">total_spine_volume/skeletal_length_eligible</span>\n",
       "                            </div></th><th><div class=\"djtooltip\">\n",
       "                                <p id=\"nonprimary\">spine_volume_per_branch_eligible</p>\n",
       "                                <span class=\"djtooltiptext\">total_spine_volume/n_spine_eligible_branche</span>\n",
       "                            </div> </th> </tr> </thead>\n",
       "                <tbody> <tr> <td>864691135132649120</td>\n",
       "<td>0</td>\n",
       "<td>0.25</td>\n",
       "<td>=BLOB=</td>\n",
       "<td>300957</td>\n",
       "<td>599634</td>\n",
       "<td>1</td>\n",
       "<td>1</td>\n",
       "<td>0</td>\n",
       "<td>1</td>\n",
       "<td>6</td>\n",
       "<td>175</td>\n",
       "<td>96</td>\n",
       "<td>2282100.160032276</td>\n",
       "<td>1009206.88194751</td>\n",
       "<td>6741.671</td>\n",
       "<td>144.327</td>\n",
       "<td>144.327</td>\n",
       "<td>379.618</td>\n",
       "<td>368.731</td>\n",
       "<td>214</td>\n",
       "<td>9.377327242156337e-05</td>\n",
       "<td>1.2228571428571429</td>\n",
       "<td>807430.021</td>\n",
       "<td>55</td>\n",
       "<td>nan</td>\n",
       "<td>nan</td>\n",
       "<td>14351599996.784107</td>\n",
       "<td>44150916.0969944</td>\n",
       "<td>6288.768673755814</td>\n",
       "<td>17774.419607298834</td>\n",
       "<td>260938181.75971103</td></tr><tr><td>864691135354891983</td>\n",
       "<td>0</td>\n",
       "<td>0.25</td>\n",
       "<td>=BLOB=</td>\n",
       "<td>128942</td>\n",
       "<td>258952</td>\n",
       "<td>1</td>\n",
       "<td>1</td>\n",
       "<td>0</td>\n",
       "<td>1</td>\n",
       "<td>8</td>\n",
       "<td>167</td>\n",
       "<td>62</td>\n",
       "<td>3253267.505681401</td>\n",
       "<td>1368236.8699979088</td>\n",
       "<td>12046.228</td>\n",
       "<td>67.805</td>\n",
       "<td>67.805</td>\n",
       "<td>114.561</td>\n",
       "<td>114.561</td>\n",
       "<td>1</td>\n",
       "<td>3.073832687455404e-07</td>\n",
       "<td>0.005988023952095809</td>\n",
       "<td>10015.817</td>\n",
       "<td>4</td>\n",
       "<td>nan</td>\n",
       "<td>nan</td>\n",
       "<td>16262253.637170473</td>\n",
       "<td>16262253.637170473</td>\n",
       "<td>4.998744680162513</td>\n",
       "<td>1623.6572250841318</td>\n",
       "<td>4065563.4092926183</td></tr><tr><td>864691135638993211</td>\n",
       "<td>0</td>\n",
       "<td>0.25</td>\n",
       "<td>=BLOB=</td>\n",
       "<td>47532</td>\n",
       "<td>106884</td>\n",
       "<td>0</td>\n",
       "<td>0</td>\n",
       "<td>0</td>\n",
       "<td>1</td>\n",
       "<td>4</td>\n",
       "<td>13</td>\n",
       "<td>5</td>\n",
       "<td>454387.77865863935</td>\n",
       "<td>250267.07604334774</td>\n",
       "<td>26009.017</td>\n",
       "<td>75.813</td>\n",
       "<td>75.813</td>\n",
       "<td>231.058</td>\n",
       "<td>230.994</td>\n",
       "<td>6</td>\n",
       "<td>1.3204580496667636e-05</td>\n",
       "<td>0.46153846153846156</td>\n",
       "<td>60629.247</td>\n",
       "<td>3</td>\n",
       "<td>nan</td>\n",
       "<td>nan</td>\n",
       "<td>438150070.2774035</td>\n",
       "<td>27075859.41683642</td>\n",
       "<td>964.2646454330927</td>\n",
       "<td>7226.711396851151</td>\n",
       "<td>146050023.42580116</td></tr><tr><td>864691135654027202</td>\n",
       "<td>0</td>\n",
       "<td>0.25</td>\n",
       "<td>=BLOB=</td>\n",
       "<td>74048</td>\n",
       "<td>152233</td>\n",
       "<td>0</td>\n",
       "<td>0</td>\n",
       "<td>0</td>\n",
       "<td>1</td>\n",
       "<td>6</td>\n",
       "<td>127</td>\n",
       "<td>48</td>\n",
       "<td>1399731.566022119</td>\n",
       "<td>573408.9371628179</td>\n",
       "<td>8921.974</td>\n",
       "<td>74.924</td>\n",
       "<td>74.924</td>\n",
       "<td>156.595</td>\n",
       "<td>156.595</td>\n",
       "<td>0</td>\n",
       "<td>0.0</td>\n",
       "<td>0.0</td>\n",
       "<td>30845.099</td>\n",
       "<td>5</td>\n",
       "<td>nan</td>\n",
       "<td>nan</td>\n",
       "<td>0.0</td>\n",
       "<td>0.0</td>\n",
       "<td>0.0</td>\n",
       "<td>0.0</td>\n",
       "<td>0.0</td></tr><tr><td>864691135737365140</td>\n",
       "<td>0</td>\n",
       "<td>0.25</td>\n",
       "<td>=BLOB=</td>\n",
       "<td>705260</td>\n",
       "<td>1402887</td>\n",
       "<td>1</td>\n",
       "<td>1</td>\n",
       "<td>0</td>\n",
       "<td>1</td>\n",
       "<td>8</td>\n",
       "<td>208</td>\n",
       "<td>71</td>\n",
       "<td>4851280.071747796</td>\n",
       "<td>1440438.35505695</td>\n",
       "<td>12674.848</td>\n",
       "<td>389.118</td>\n",
       "<td>308.377</td>\n",
       "<td>575.995</td>\n",
       "<td>468.136</td>\n",
       "<td>4217</td>\n",
       "<td>0.0008692551115649606</td>\n",
       "<td>20.27403846153846</td>\n",
       "<td>4367221.343</td>\n",
       "<td>154</td>\n",
       "<td>nan</td>\n",
       "<td>nan</td>\n",
       "<td>256942194377.73453</td>\n",
       "<td>32438211.775837578</td>\n",
       "<td>52963.79317988224</td>\n",
       "<td>58834.25047589453</td>\n",
       "<td>1668455807.6476269</td></tr><tr><td>864691135974422895</td>\n",
       "<td>0</td>\n",
       "<td>0.25</td>\n",
       "<td>=BLOB=</td>\n",
       "<td>971166</td>\n",
       "<td>1973071</td>\n",
       "<td>0</td>\n",
       "<td>0</td>\n",
       "<td>0</td>\n",
       "<td>1</td>\n",
       "<td>0</td>\n",
       "<td>0</td>\n",
       "<td>None</td>\n",
       "<td>0.0</td>\n",
       "<td>nan</td>\n",
       "<td>nan</td>\n",
       "<td>nan</td>\n",
       "<td>nan</td>\n",
       "<td>nan</td>\n",
       "<td>nan</td>\n",
       "<td>0</td>\n",
       "<td>0.0</td>\n",
       "<td>0.0</td>\n",
       "<td>0.0</td>\n",
       "<td>0</td>\n",
       "<td>nan</td>\n",
       "<td>nan</td>\n",
       "<td>0.0</td>\n",
       "<td>0.0</td>\n",
       "<td>0.0</td>\n",
       "<td>0.0</td>\n",
       "<td>0.0</td></tr><tr><td>864691136143382836</td>\n",
       "<td>0</td>\n",
       "<td>0.25</td>\n",
       "<td>=BLOB=</td>\n",
       "<td>120311</td>\n",
       "<td>246718</td>\n",
       "<td>0</td>\n",
       "<td>0</td>\n",
       "<td>0</td>\n",
       "<td>1</td>\n",
       "<td>3</td>\n",
       "<td>136</td>\n",
       "<td>65</td>\n",
       "<td>2718817.9698882047</td>\n",
       "<td>1351634.7178199843</td>\n",
       "<td>12807.634</td>\n",
       "<td>72.855</td>\n",
       "<td>72.855</td>\n",
       "<td>217.926</td>\n",
       "<td>217.926</td>\n",
       "<td>4</td>\n",
       "<td>1.4712275865104997e-06</td>\n",
       "<td>0.029411764705882353</td>\n",
       "<td>89070.918</td>\n",
       "<td>16</td>\n",
       "<td>nan</td>\n",
       "<td>nan</td>\n",
       "<td>119592863.99966271</td>\n",
       "<td>28534991.906918842</td>\n",
       "<td>43.98708016652555</td>\n",
       "<td>1342.6701631127537</td>\n",
       "<td>7474553.9999789195</td></tr><tr><td>864691136418639511</td>\n",
       "<td>0</td>\n",
       "<td>0.25</td>\n",
       "<td>=BLOB=</td>\n",
       "<td>73758</td>\n",
       "<td>160450</td>\n",
       "<td>0</td>\n",
       "<td>0</td>\n",
       "<td>0</td>\n",
       "<td>1</td>\n",
       "<td>7</td>\n",
       "<td>58</td>\n",
       "<td>17</td>\n",
       "<td>1379666.1240483974</td>\n",
       "<td>408598.5437633359</td>\n",
       "<td>13700.147</td>\n",
       "<td>71.404</td>\n",
       "<td>71.404</td>\n",
       "<td>178.452</td>\n",
       "<td>178.452</td>\n",
       "<td>1</td>\n",
       "<td>7.248130417710545e-07</td>\n",
       "<td>0.017241379310344827</td>\n",
       "<td>13855.169</td>\n",
       "<td>4</td>\n",
       "<td>nan</td>\n",
       "<td>nan</td>\n",
       "<td>116421249.89034271</td>\n",
       "<td>116421249.89034271</td>\n",
       "<td>84.38364025980735</td>\n",
       "<td>8402.730409881158</td>\n",
       "<td>29105312.472585678</td></tr><tr><td>864691136903062706</td>\n",
       "<td>0</td>\n",
       "<td>0.25</td>\n",
       "<td>=BLOB=</td>\n",
       "<td>347563</td>\n",
       "<td>721095</td>\n",
       "<td>0</td>\n",
       "<td>0</td>\n",
       "<td>0</td>\n",
       "<td>1</td>\n",
       "<td>6</td>\n",
       "<td>157</td>\n",
       "<td>93</td>\n",
       "<td>3864412.7907476784</td>\n",
       "<td>1687775.4319805806</td>\n",
       "<td>12469.445</td>\n",
       "<td>84.413</td>\n",
       "<td>84.413</td>\n",
       "<td>400.843</td>\n",
       "<td>343.774</td>\n",
       "<td>1569</td>\n",
       "<td>0.00040601252634205086</td>\n",
       "<td>9.993630573248408</td>\n",
       "<td>2287214.918</td>\n",
       "<td>59</td>\n",
       "<td>nan</td>\n",
       "<td>nan</td>\n",
       "<td>104732398929.80307</td>\n",
       "<td>42464922.1133372</td>\n",
       "<td>27101.762829415453</td>\n",
       "<td>45790.36194000684</td>\n",
       "<td>1775125405.5898826</td> </tr> </tbody>\n",
       "            </table>\n",
       "            \n",
       "            <p>Total: 9</p></div>\n",
       "            "
      ],
      "text/plain": [
       "*segment_id    *decimation_ve *decimation_ra decomposit n_vertices     n_faces     n_error_limbs  n_same_soma_mu n_multi_soma_t n_somas     n_limbs     n_branches     max_limb_n_bra skeletal_lengt max_limb_skele median_branch_ width_median   width_no_spine width_90_perc  width_no_spine n_spines     spine_density  spines_per_bra skeletal_lengt n_spine_eligib spine_density_ spines_per_bra total_spine_vo spine_volume_m spine_volume_d spine_volume_d spine_volume_p\n",
       "+------------+ +------------+ +------------+ +--------+ +------------+ +---------+ +------------+ +------------+ +------------+ +---------+ +---------+ +------------+ +------------+ +------------+ +------------+ +------------+ +------------+ +------------+ +------------+ +------------+ +----------+ +------------+ +------------+ +------------+ +------------+ +------------+ +------------+ +------------+ +------------+ +------------+ +------------+ +------------+\n",
       "86469113513264 0              0.25           =BLOB=     300957         599634      1              1              0              1           6           175            96             2282100.160032 1009206.881947 6741.671       144.327        144.327        379.618        368.731        214          9.377327242156 1.222857142857 807430.021     55             nan            nan            14351599996.78 44150916.09699 6288.768673755 17774.41960729 260938181.7597\n",
       "86469113535489 0              0.25           =BLOB=     128942         258952      1              1              0              1           8           167            62             3253267.505681 1368236.869997 12046.228      67.805         67.805         114.561        114.561        1            3.073832687455 0.005988023952 10015.817      4              nan            nan            16262253.63717 16262253.63717 4.998744680162 1623.657225084 4065563.409292\n",
       "86469113563899 0              0.25           =BLOB=     47532          106884      0              0              0              1           4           13             5              454387.7786586 250267.0760433 26009.017      75.813         75.813         231.058        230.994        6            1.320458049666 0.461538461538 60629.247      3              nan            nan            438150070.2774 27075859.41683 964.2646454330 7226.711396851 146050023.4258\n",
       "86469113565402 0              0.25           =BLOB=     74048          152233      0              0              0              1           6           127            48             1399731.566022 573408.9371628 8921.974       74.924         74.924         156.595        156.595        0            0.0            0.0            30845.099      5              nan            nan            0.0            0.0            0.0            0.0            0.0           \n",
       "86469113573736 0              0.25           =BLOB=     705260         1402887     1              1              0              1           8           208            71             4851280.071747 1440438.355056 12674.848      389.118        308.377        575.995        468.136        4217         0.000869255111 20.27403846153 4367221.343    154            nan            nan            256942194377.7 32438211.77583 52963.79317988 58834.25047589 1668455807.647\n",
       "86469113597442 0              0.25           =BLOB=     971166         1973071     0              0              0              1           0           0              None           0.0            nan            nan            nan            nan            nan            nan            0            0.0            0.0            0.0            0              nan            nan            0.0            0.0            0.0            0.0            0.0           \n",
       "86469113614338 0              0.25           =BLOB=     120311         246718      0              0              0              1           3           136            65             2718817.969888 1351634.717819 12807.634      72.855         72.855         217.926        217.926        4            1.471227586510 0.029411764705 89070.918      16             nan            nan            119592863.9996 28534991.90691 43.98708016652 1342.670163112 7474553.999978\n",
       "86469113641863 0              0.25           =BLOB=     73758          160450      0              0              0              1           7           58             17             1379666.124048 408598.5437633 13700.147      71.404         71.404         178.452        178.452        1            7.248130417710 0.017241379310 13855.169      4              nan            nan            116421249.8903 116421249.8903 84.38364025980 8402.730409881 29105312.47258\n",
       "86469113690306 0              0.25           =BLOB=     347563         721095      0              0              0              1           6           157            93             3864412.790747 1687775.431980 12469.445      84.413         84.413         400.843        343.774        1569         0.000406012526 9.993630573248 2287214.918    59             nan            nan            104732398929.8 42464922.11333 27101.76282941 45790.36194000 1775125405.589\n",
       " (Total: 9)"
      ]
     },
     "execution_count": 117,
     "metadata": {},
     "output_type": "execute_result"
    }
   ],
   "source": [
    "minnie.Decomposition() & \"n_vertices > 30000\""
   ]
  },
  {
   "cell_type": "code",
   "execution_count": 121,
   "metadata": {},
   "outputs": [
    {
     "name": "stdout",
     "output_type": "stream",
     "text": [
      "Decompressing Neuron in minimal output mode...please wait\n"
     ]
    }
   ],
   "source": [
    "neuron_obj = (minnie.Decomposition() & \"segment_id=864691136903062706\").fetch1(\"decomposition\")"
   ]
  },
  {
   "cell_type": "code",
   "execution_count": 122,
   "metadata": {},
   "outputs": [
    {
     "name": "stdout",
     "output_type": "stream",
     "text": [
      "\n",
      " Working on visualization type: mesh\n",
      "\n",
      " Working on visualization type: skeleton\n",
      "Working on  new stand alone scatter points\n"
     ]
    },
    {
     "data": {
      "application/vnd.jupyter.widget-view+json": {
       "model_id": "1a9cdef49cca4392b7183321e1909310",
       "version_major": 2,
       "version_minor": 0
      },
      "text/plain": [
       "VBox(children=(Figure(camera=PerspectiveCamera(fov=46.0, position=(0.0, 0.0, 2.0), quaternion=(0.0, 0.0, 0.0, …"
      ]
     },
     "metadata": {},
     "output_type": "display_data"
    }
   ],
   "source": [
    "import neuron_visualizations as nviz\n",
    "ret_col = nviz.visualize_neuron(neuron_obj,\n",
    "                      visualize_type=[\"mesh\",\"skeleton\"],\n",
    "                      #mesh_resolution=\"limb\",\n",
    "                      #skeleton_resolution=\"limb\",\n",
    "                      limb_branch_dict=\"all\",\n",
    "                     return_color_dict=True)\n",
    "                  "
   ]
  },
  {
   "cell_type": "code",
   "execution_count": 126,
   "metadata": {},
   "outputs": [
    {
     "data": {
      "text/html": [
       "\n",
       "        \n",
       "        <style type=\"text/css\">\n",
       "            .Relation{\n",
       "                border-collapse:collapse;\n",
       "            }\n",
       "            .Relation th{\n",
       "                background: #A0A0A0; color: #ffffff; padding:4px; border:#f0e0e0 1px solid;\n",
       "                font-weight: normal; font-family: monospace; font-size: 100%;\n",
       "            }\n",
       "            .Relation td{\n",
       "                padding:4px; border:#f0e0e0 1px solid; font-size:100%;\n",
       "            }\n",
       "            .Relation tr:nth-child(odd){\n",
       "                background: #ffffff;\n",
       "            }\n",
       "            .Relation tr:nth-child(even){\n",
       "                background: #f3f1ff;\n",
       "            }\n",
       "            /* Tooltip container */\n",
       "            .djtooltip {\n",
       "            }\n",
       "            /* Tooltip text */\n",
       "            .djtooltip .djtooltiptext {\n",
       "                visibility: hidden;\n",
       "                width: 120px;\n",
       "                background-color: black;\n",
       "                color: #fff;\n",
       "                text-align: center;\n",
       "                padding: 5px 0;\n",
       "                border-radius: 6px;\n",
       "                /* Position the tooltip text - see examples below! */\n",
       "                position: absolute;\n",
       "                z-index: 1;\n",
       "            }\n",
       "            #primary {\n",
       "                font-weight: bold;\n",
       "                color: black;\n",
       "            }\n",
       "\n",
       "            #nonprimary {\n",
       "                font-weight: normal;\n",
       "                color: white;\n",
       "            }\n",
       "\n",
       "            /* Show the tooltip text when you mouse over the tooltip container */\n",
       "            .djtooltip:hover .djtooltiptext {\n",
       "                visibility: visible;\n",
       "            }\n",
       "        </style>\n",
       "        \n",
       "        \n",
       "            <div style=\"max-height:1000px;max-width:1500px;overflow:auto;\">\n",
       "            <table border=\"1\" class=\"Relation\">\n",
       "                <thead> <tr style=\"text-align: right;\"> <th> <div class=\"djtooltip\">\n",
       "                                <p id=\"primary\">segment_id</p>\n",
       "                                <span class=\"djtooltiptext\">segment id unique within each Segmentation</span>\n",
       "                            </div></th><th><div class=\"djtooltip\">\n",
       "                                <p id=\"primary\">decimation_version</p>\n",
       "                                <span class=\"djtooltiptext\"></span>\n",
       "                            </div></th><th><div class=\"djtooltip\">\n",
       "                                <p id=\"primary\">decimation_ratio</p>\n",
       "                                <span class=\"djtooltiptext\">ratio of remaining mesh vertices/faces (which ones depends on what metric the decimation technique uses)</span>\n",
       "                            </div> </th> </tr> </thead>\n",
       "                <tbody> <tr> <td>864691134167328989</td>\n",
       "<td>0</td>\n",
       "<td>0.25</td></tr><tr><td>864691134221889045</td>\n",
       "<td>0</td>\n",
       "<td>0.25</td></tr><tr><td>864691134370328784</td>\n",
       "<td>0</td>\n",
       "<td>0.25</td></tr><tr><td>864691134384033872</td>\n",
       "<td>0</td>\n",
       "<td>0.25</td></tr><tr><td>864691134409056935</td>\n",
       "<td>0</td>\n",
       "<td>0.25</td></tr><tr><td>864691134412252598</td>\n",
       "<td>0</td>\n",
       "<td>0.25</td></tr><tr><td>864691134431433407</td>\n",
       "<td>0</td>\n",
       "<td>0.25</td></tr><tr><td>864691134434412977</td>\n",
       "<td>0</td>\n",
       "<td>0.25</td></tr><tr><td>864691134434464524</td>\n",
       "<td>0</td>\n",
       "<td>0.25</td></tr><tr><td>864691134437394197</td>\n",
       "<td>0</td>\n",
       "<td>0.25</td></tr><tr><td>864691134455328437</td>\n",
       "<td>0</td>\n",
       "<td>0.25</td></tr><tr><td>864691134466251864</td>\n",
       "<td>0</td>\n",
       "<td>0.25</td> </tr> </tbody>\n",
       "            </table>\n",
       "            <p>...</p>\n",
       "            <p>Total: 35595</p></div>\n",
       "            "
      ],
      "text/plain": [
       "*segment_id    *decimation_ve *decimation_ra\n",
       "+------------+ +------------+ +------------+\n",
       "86469113416732 0              0.25          \n",
       "86469113422188 0              0.25          \n",
       "86469113437032 0              0.25          \n",
       "86469113438403 0              0.25          \n",
       "86469113440905 0              0.25          \n",
       "86469113441225 0              0.25          \n",
       "86469113443143 0              0.25          \n",
       "86469113443441 0              0.25          \n",
       "86469113443446 0              0.25          \n",
       "86469113443739 0              0.25          \n",
       "86469113445532 0              0.25          \n",
       "86469113446625 0              0.25          \n",
       "   ...\n",
       " (Total: 35593)"
      ]
     },
     "execution_count": 126,
     "metadata": {},
     "output_type": "execute_result"
    }
   ],
   "source": [
    "decimation_version = 0\n",
    "decimation_ratio = 0.25\n",
    "\n",
    "key_source =  ((minnie.Decimation).proj(decimation_version='version') & \n",
    "                            \"decimation_version=\" + str(decimation_version) &\n",
    "                       f\"decimation_ratio={decimation_ratio}\" &  (minnie.BaylorSegmentCentroidExternal() & \"multiplicity>0\").proj())\n",
    "key_source"
   ]
  },
  {
   "cell_type": "code",
   "execution_count": 17,
   "metadata": {},
   "outputs": [
    {
     "data": {
      "image/png": "[encoded data removed]",
      "text/plain": [
       "<Figure size 432x288 with 1 Axes>"
      ]
     },
     "metadata": {},
     "output_type": "display_data"
    }
   ],
   "source": [
    "nviz.plot_soma_limb_concept_network(neuron_obj,node_colors=ret_col)"
   ]
  },
  {
   "cell_type": "code",
   "execution_count": 27,
   "metadata": {},
   "outputs": [],
   "source": [
    "soma_mesh = main_mesh=neuron_obj[\"S0\"].mesh"
   ]
  },
  {
   "cell_type": "code",
   "execution_count": 68,
   "metadata": {},
   "outputs": [
    {
     "data": {
      "text/plain": [
       "[<trimesh.Trimesh(vertices.shape=(661, 3), faces.shape=(933, 3))>,\n",
       " <trimesh.Trimesh(vertices.shape=(38, 3), faces.shape=(72, 3))>,\n",
       " <trimesh.Trimesh(vertices.shape=(38, 3), faces.shape=(70, 3))>,\n",
       " <trimesh.Trimesh(vertices.shape=(29, 3), faces.shape=(44, 3))>,\n",
       " <trimesh.Trimesh(vertices.shape=(25, 3), faces.shape=(40, 3))>,\n",
       " <trimesh.Trimesh(vertices.shape=(21, 3), faces.shape=(32, 3))>,\n",
       " <trimesh.Trimesh(vertices.shape=(20, 3), faces.shape=(36, 3))>,\n",
       " <trimesh.Trimesh(vertices.shape=(20, 3), faces.shape=(19, 3))>,\n",
       " <trimesh.Trimesh(vertices.shape=(20, 3), faces.shape=(27, 3))>,\n",
       " <trimesh.Trimesh(vertices.shape=(19, 3), faces.shape=(34, 3))>,\n",
       " <trimesh.Trimesh(vertices.shape=(18, 3), faces.shape=(22, 3))>,\n",
       " <trimesh.Trimesh(vertices.shape=(17, 3), faces.shape=(30, 3))>,\n",
       " <trimesh.Trimesh(vertices.shape=(17, 3), faces.shape=(26, 3))>,\n",
       " <trimesh.Trimesh(vertices.shape=(16, 3), faces.shape=(21, 3))>,\n",
       " <trimesh.Trimesh(vertices.shape=(16, 3), faces.shape=(28, 3))>,\n",
       " <trimesh.Trimesh(vertices.shape=(16, 3), faces.shape=(28, 3))>,\n",
       " <trimesh.Trimesh(vertices.shape=(13, 3), faces.shape=(22, 3))>,\n",
       " <trimesh.Trimesh(vertices.shape=(11, 3), faces.shape=(18, 3))>,\n",
       " <trimesh.Trimesh(vertices.shape=(11, 3), faces.shape=(18, 3))>,\n",
       " <trimesh.Trimesh(vertices.shape=(10, 3), faces.shape=(16, 3))>]"
      ]
     },
     "execution_count": 68,
     "metadata": {},
     "output_type": "execute_result"
    }
   ],
   "source": []
  },
  {
   "cell_type": "code",
   "execution_count": 73,
   "metadata": {},
   "outputs": [
    {
     "name": "stdout",
     "output_type": "stream",
     "text": [
      "Recieved another instance of Neuron class in init -- so just copying data\n"
     ]
    }
   ],
   "source": [
    "import neuron\n",
    "neuron = reload(neuron)\n",
    "neuron_obj = neuron.Neuron(neuron_obj)"
   ]
  },
  {
   "cell_type": "code",
   "execution_count": 76,
   "metadata": {},
   "outputs": [],
   "source": [
    "tu = reload(tu)"
   ]
  },
  {
   "cell_type": "code",
   "execution_count": 78,
   "metadata": {},
   "outputs": [
    {
     "data": {
      "text/plain": [
       "[<trimesh.Trimesh(vertices.shape=(13, 3), faces.shape=(22, 3))>,\n",
       " <trimesh.Trimesh(vertices.shape=(13, 3), faces.shape=(22, 3))>,\n",
       " <trimesh.Trimesh(vertices.shape=(12, 3), faces.shape=(20, 3))>,\n",
       " <trimesh.Trimesh(vertices.shape=(11, 3), faces.shape=(18, 3))>,\n",
       " <trimesh.Trimesh(vertices.shape=(11, 3), faces.shape=(18, 3))>,\n",
       " <trimesh.Trimesh(vertices.shape=(10, 3), faces.shape=(20, 3))>,\n",
       " <trimesh.Trimesh(vertices.shape=(9, 3), faces.shape=(18, 3))>]"
      ]
     },
     "execution_count": 78,
     "metadata": {},
     "output_type": "execute_result"
    }
   ],
   "source": []
  },
  {
   "cell_type": "code",
   "execution_count": 26,
   "metadata": {},
   "outputs": [
    {
     "data": {
      "application/vnd.jupyter.widget-view+json": {
       "model_id": "975e0f7151164a0aa4a9a45d32aa0eb2",
       "version_major": 2,
       "version_minor": 0
      },
      "text/plain": [
       "VBox(children=(Figure(camera=PerspectiveCamera(fov=46.0, position=(0.0, 0.0, 2.0), quaternion=(0.0, 0.0, 0.0, …"
      ]
     },
     "metadata": {},
     "output_type": "display_data"
    }
   ],
   "source": [
    "nviz.plot_objects(main_mesh=neuron_obj[\"S0\"].mesh,\n",
    "                meshes=neuron_obj.non_soma_touching_meshes,\n",
    "                  meshes_colors=\"random\")"
   ]
  },
  {
   "cell_type": "code",
   "execution_count": 20,
   "metadata": {},
   "outputs": [
    {
     "name": "stdout",
     "output_type": "stream",
     "text": [
      "\n",
      " Working on visualization type: mesh\n",
      "\n",
      " Working on visualization type: skeleton\n",
      "working on soma border vertices\n",
      "Working on  new stand alone scatter points\n"
     ]
    },
    {
     "data": {
      "application/vnd.jupyter.widget-view+json": {
       "model_id": "472a8e7279ae40499bdabbf386154c3f",
       "version_major": 2,
       "version_minor": 0
      },
      "text/plain": [
       "VBox(children=(Figure(camera=PerspectiveCamera(fov=46.0, position=(0.0, 0.0, 2.0), quaternion=(0.0, 0.0, 0.0, …"
      ]
     },
     "metadata": {},
     "output_type": "display_data"
    }
   ],
   "source": [
    "ret_col = nviz.visualize_neuron(neuron_obj,\n",
    "                      visualize_type=[\"mesh\",\"skeleton\"],\n",
    "                      #mesh_resolution=\"limb\",\n",
    "                      #skeleton_resolution=\"limb\",\n",
    "                        mesh_soma=False,\n",
    "                      limb_branch_dict=dict(L6=\"all\"))\n",
    "                  "
   ]
  },
  {
   "cell_type": "code",
   "execution_count": 11,
   "metadata": {},
   "outputs": [
    {
     "name": "stdout",
     "output_type": "stream",
     "text": [
      "\n",
      " Working on visualization type: mesh\n",
      "Working on  new stand alone scatter points\n"
     ]
    },
    {
     "data": {
      "application/vnd.jupyter.widget-view+json": {
       "model_id": "f0bbb058c36143ca89bf122fe7d0381c",
       "version_major": 2,
       "version_minor": 0
      },
      "text/plain": [
       "VBox(children=(Figure(camera=PerspectiveCamera(fov=46.0, position=(0.0, 0.0, 2.0), quaternion=(0.0, 0.0, 0.0, …"
      ]
     },
     "metadata": {},
     "output_type": "display_data"
    }
   ],
   "source": [
    "nviz.plot_spines(neuron_obj)"
   ]
  },
  {
   "cell_type": "code",
   "execution_count": null,
   "metadata": {},
   "outputs": [],
   "source": []
  }
 ],
 "metadata": {
  "kernelspec": {
   "display_name": "Python 3",
   "language": "python",
   "name": "python3"
  },
  "language_info": {
   "codemirror_mode": {
    "name": "ipython",
    "version": 3
   },
   "file_extension": ".py",
   "mimetype": "text/x-python",
   "name": "python",
   "nbconvert_exporter": "python",
   "pygments_lexer": "ipython3",
   "version": "3.6.9"
  }
 },
 "nbformat": 4,
 "nbformat_minor": 4
}
