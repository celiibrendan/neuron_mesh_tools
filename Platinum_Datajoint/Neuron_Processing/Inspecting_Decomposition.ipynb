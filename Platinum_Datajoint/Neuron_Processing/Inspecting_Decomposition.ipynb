{
 "cells": [
  {
   "cell_type": "code",
   "execution_count": null,
   "metadata": {},
   "outputs": [],
   "source": [
    "\"\"\"\n",
    "To check the progress of the neuron decomposition\n",
    "\n",
    "\"\"\""
   ]
  },
  {
   "cell_type": "code",
   "execution_count": 140,
   "metadata": {},
   "outputs": [
    {
     "name": "stdout",
     "output_type": "stream",
     "text": [
      "Current path for external_segmentation_path = /mnt/dj-stor01/platinum/minnie65/02\n",
      "Current path for external_mesh_path = /mnt/dj-stor01/platinum/minnie65/02/meshes\n",
      "Current path for external_decimated_mesh_path = /mnt/dj-stor01/platinum/minnie65/02/decimated_meshes\n",
      "Current path for external_skeleton_path = /mnt/dj-stor01/platinum/minnie65/02/skeletons\n"
     ]
    }
   ],
   "source": [
    "import minfig\n",
    "du.config_celii()\n",
    "du.set_minnie65_config_segmentation(minfig)\n",
    "du.print_minnie65_config_paths(minfig)\n",
    "\n",
    "#configuring will include the adapters\n",
    "minnie,schema = du.configure_minnie_vm()"
   ]
  },
  {
   "cell_type": "code",
   "execution_count": 142,
   "metadata": {},
   "outputs": [
    {
     "data": {
      "application/vnd.jupyter.widget-view+json": {
       "model_id": "e9311e6f88304004a0b128ab19c880c1",
       "version_major": 2,
       "version_minor": 0
      },
      "text/plain": [
       "VBox(children=(Figure(camera=PerspectiveCamera(fov=46.0, position=(0.0, 0.0, 2.0), quaternion=(0.0, 0.0, 0.0, …"
      ]
     },
     "metadata": {},
     "output_type": "display_data"
    }
   ],
   "source": [
    "du = reload(du)\n",
    "du.plot_decimated_mesh_with_somas(864691134026921572)"
   ]
  },
  {
   "cell_type": "code",
   "execution_count": 147,
   "metadata": {},
   "outputs": [
    {
     "data": {
      "text/plain": [
       "array([{'segment_id': 864691136973686300, 'decimation_version': 0, 'decimation_ratio': Decimal('0.25')},\n",
       "       {'segment_id': 864691136236687887, 'decimation_version': 0, 'decimation_ratio': Decimal('0.25')},\n",
       "       {'segment_id': 864691136108730040, 'decimation_version': 0, 'decimation_ratio': Decimal('0.25')},\n",
       "       {'segment_id': 864691135474742080, 'decimation_version': 0, 'decimation_ratio': Decimal('0.25')},\n",
       "       {'segment_id': 864691136031681723, 'decimation_version': 0, 'decimation_ratio': Decimal('0.25')},\n",
       "       {'segment_id': 864691135637979332, 'decimation_version': 0, 'decimation_ratio': Decimal('0.25')},\n",
       "       {'segment_id': 864691136723361277, 'decimation_version': 0, 'decimation_ratio': Decimal('0.25')},\n",
       "       {'segment_id': 864691135269775013, 'decimation_version': 0, 'decimation_ratio': Decimal('0.25')},\n",
       "       {'segment_id': 864691136237453372, 'decimation_version': 0, 'decimation_ratio': Decimal('0.25')},\n",
       "       {'segment_id': 864691135986906115, 'decimation_version': 0, 'decimation_ratio': Decimal('0.25')},\n",
       "       {'segment_id': 864691137019557998, 'decimation_version': 0, 'decimation_ratio': Decimal('0.25')},\n",
       "       {'segment_id': 864691136618459021, 'decimation_version': 0, 'decimation_ratio': Decimal('0.25')},\n",
       "       {'segment_id': 864691136922767076, 'decimation_version': 0, 'decimation_ratio': Decimal('0.25')}],\n",
       "      dtype=object)"
      ]
     },
     "execution_count": 147,
     "metadata": {},
     "output_type": "execute_result"
    }
   ],
   "source": [
    "(schema.jobs & \"table_name='__decomposition'\" & \"status='error'\" & \"error_message='Exception: The output from mesh_correspondence_adaptive_distance was nothing: curr_branch_face_correspondence'\").fetch(\"key\")\n"
   ]
  },
  {
   "cell_type": "code",
   "execution_count": 3,
   "metadata": {},
   "outputs": [],
   "source": [
    "import numpy as np\n",
    "import datajoint as dj\n",
    "import trimesh\n",
    "from tqdm.notebook import tqdm\n",
    "from pathlib import Path\n",
    "\n",
    "from os import sys\n",
    "sys.path.append(\"/meshAfterParty/\")\n",
    "\n",
    "import datajoint_utils as du\n",
    "from importlib import reload"
   ]
  },
  {
   "cell_type": "markdown",
   "metadata": {},
   "source": [
    "# Checking the Decomposition Table"
   ]
  },
  {
   "cell_type": "code",
   "execution_count": 150,
   "metadata": {},
   "outputs": [],
   "source": [
    "(schema.jobs & \"table_name='__decomposition'\" & \"status='error'\" & \"key_hash='155f853ee9eab28fafe2e1ea78a9742a'\").delete()"
   ]
  },
  {
   "cell_type": "code",
   "execution_count": 151,
   "metadata": {},
   "outputs": [
    {
     "data": {
      "text/plain": [
       "259"
      ]
     },
     "execution_count": 151,
     "metadata": {},
     "output_type": "execute_result"
    }
   ],
   "source": [
    "len(minnie.Decomposition())"
   ]
  },
  {
   "cell_type": "code",
   "execution_count": 129,
   "metadata": {},
   "outputs": [
    {
     "data": {
      "text/html": [
       "\n",
       "        \n",
       "        <style type=\"text/css\">\n",
       "            .Relation{\n",
       "                border-collapse:collapse;\n",
       "            }\n",
       "            .Relation th{\n",
       "                background: #A0A0A0; color: #ffffff; padding:4px; border:#f0e0e0 1px solid;\n",
       "                font-weight: normal; font-family: monospace; font-size: 100%;\n",
       "            }\n",
       "            .Relation td{\n",
       "                padding:4px; border:#f0e0e0 1px solid; font-size:100%;\n",
       "            }\n",
       "            .Relation tr:nth-child(odd){\n",
       "                background: #ffffff;\n",
       "            }\n",
       "            .Relation tr:nth-child(even){\n",
       "                background: #f3f1ff;\n",
       "            }\n",
       "            /* Tooltip container */\n",
       "            .djtooltip {\n",
       "            }\n",
       "            /* Tooltip text */\n",
       "            .djtooltip .djtooltiptext {\n",
       "                visibility: hidden;\n",
       "                width: 120px;\n",
       "                background-color: black;\n",
       "                color: #fff;\n",
       "                text-align: center;\n",
       "                padding: 5px 0;\n",
       "                border-radius: 6px;\n",
       "                /* Position the tooltip text - see examples below! */\n",
       "                position: absolute;\n",
       "                z-index: 1;\n",
       "            }\n",
       "            #primary {\n",
       "                font-weight: bold;\n",
       "                color: black;\n",
       "            }\n",
       "\n",
       "            #nonprimary {\n",
       "                font-weight: normal;\n",
       "                color: white;\n",
       "            }\n",
       "\n",
       "            /* Show the tooltip text when you mouse over the tooltip container */\n",
       "            .djtooltip:hover .djtooltiptext {\n",
       "                visibility: visible;\n",
       "            }\n",
       "        </style>\n",
       "        \n",
       "        <b></b>\n",
       "            <div style=\"max-height:1000px;max-width:1500px;overflow:auto;\">\n",
       "            <table border=\"1\" class=\"Relation\">\n",
       "                <thead> <tr style=\"text-align: right;\"> <th> <div class=\"djtooltip\">\n",
       "                                <p id=\"primary\">segment_id</p>\n",
       "                                <span class=\"djtooltiptext\">segment id unique within each Segmentation</span>\n",
       "                            </div></th><th><div class=\"djtooltip\">\n",
       "                                <p id=\"primary\">decimation_version</p>\n",
       "                                <span class=\"djtooltiptext\"></span>\n",
       "                            </div></th><th><div class=\"djtooltip\">\n",
       "                                <p id=\"primary\">decimation_ratio</p>\n",
       "                                <span class=\"djtooltiptext\">ratio of remaining mesh vertices/faces (which ones depends on what metric the decimation technique uses)</span>\n",
       "                            </div></th><th><div class=\"djtooltip\">\n",
       "                                <p id=\"nonprimary\">decomposition</p>\n",
       "                                <span class=\"djtooltiptext\"></span>\n",
       "                            </div></th><th><div class=\"djtooltip\">\n",
       "                                <p id=\"nonprimary\">n_vertices</p>\n",
       "                                <span class=\"djtooltiptext\">number of vertices</span>\n",
       "                            </div></th><th><div class=\"djtooltip\">\n",
       "                                <p id=\"nonprimary\">n_faces</p>\n",
       "                                <span class=\"djtooltiptext\">number of faces</span>\n",
       "                            </div></th><th><div class=\"djtooltip\">\n",
       "                                <p id=\"nonprimary\">n_error_limbs</p>\n",
       "                                <span class=\"djtooltiptext\">the number of limbs that are touching multiple somas or 1 soma in multiple places</span>\n",
       "                            </div></th><th><div class=\"djtooltip\">\n",
       "                                <p id=\"nonprimary\">n_same_soma_multi_touching_limbs</p>\n",
       "                                <span class=\"djtooltiptext\">number of limbs that touch the same soma multiple times</span>\n",
       "                            </div></th><th><div class=\"djtooltip\">\n",
       "                                <p id=\"nonprimary\">n_multi_soma_touching_limbs</p>\n",
       "                                <span class=\"djtooltiptext\">number of limbs that touch multiple somas</span>\n",
       "                            </div></th><th><div class=\"djtooltip\">\n",
       "                                <p id=\"nonprimary\">n_somas</p>\n",
       "                                <span class=\"djtooltiptext\">number of soma meshes detected</span>\n",
       "                            </div></th><th><div class=\"djtooltip\">\n",
       "                                <p id=\"nonprimary\">n_limbs</p>\n",
       "                                <span class=\"djtooltiptext\"></span>\n",
       "                            </div></th><th><div class=\"djtooltip\">\n",
       "                                <p id=\"nonprimary\">n_branches</p>\n",
       "                                <span class=\"djtooltiptext\"></span>\n",
       "                            </div></th><th><div class=\"djtooltip\">\n",
       "                                <p id=\"nonprimary\">max_limb_n_branches</p>\n",
       "                                <span class=\"djtooltiptext\"></span>\n",
       "                            </div></th><th><div class=\"djtooltip\">\n",
       "                                <p id=\"nonprimary\">skeletal_length</p>\n",
       "                                <span class=\"djtooltiptext\"></span>\n",
       "                            </div></th><th><div class=\"djtooltip\">\n",
       "                                <p id=\"nonprimary\">max_limb_skeletal_length</p>\n",
       "                                <span class=\"djtooltiptext\"></span>\n",
       "                            </div></th><th><div class=\"djtooltip\">\n",
       "                                <p id=\"nonprimary\">median_branch_length</p>\n",
       "                                <span class=\"djtooltiptext\">gives information on average skeletal length to next branch point</span>\n",
       "                            </div></th><th><div class=\"djtooltip\">\n",
       "                                <p id=\"nonprimary\">width_median</p>\n",
       "                                <span class=\"djtooltiptext\">median width from mesh center without spines removed</span>\n",
       "                            </div></th><th><div class=\"djtooltip\">\n",
       "                                <p id=\"nonprimary\">width_no_spine_median</p>\n",
       "                                <span class=\"djtooltiptext\">median width from mesh center with spines removed</span>\n",
       "                            </div></th><th><div class=\"djtooltip\">\n",
       "                                <p id=\"nonprimary\">width_90_perc</p>\n",
       "                                <span class=\"djtooltiptext\">90th percentile for width without spines removed</span>\n",
       "                            </div></th><th><div class=\"djtooltip\">\n",
       "                                <p id=\"nonprimary\">width_no_spine_90_perc</p>\n",
       "                                <span class=\"djtooltiptext\">90th percentile for width with spines removed</span>\n",
       "                            </div></th><th><div class=\"djtooltip\">\n",
       "                                <p id=\"nonprimary\">n_spines</p>\n",
       "                                <span class=\"djtooltiptext\"></span>\n",
       "                            </div></th><th><div class=\"djtooltip\">\n",
       "                                <p id=\"nonprimary\">spine_density</p>\n",
       "                                <span class=\"djtooltiptext\">n_spines/ skeletal_length</span>\n",
       "                            </div></th><th><div class=\"djtooltip\">\n",
       "                                <p id=\"nonprimary\">spines_per_branch</p>\n",
       "                                <span class=\"djtooltiptext\"></span>\n",
       "                            </div></th><th><div class=\"djtooltip\">\n",
       "                                <p id=\"nonprimary\">skeletal_length_eligible</p>\n",
       "                                <span class=\"djtooltiptext\">the skeletal length for all branches searched for spines</span>\n",
       "                            </div></th><th><div class=\"djtooltip\">\n",
       "                                <p id=\"nonprimary\">n_spine_eligible_branches</p>\n",
       "                                <span class=\"djtooltiptext\">the number of branches that were checked for spines because passed width threshold</span>\n",
       "                            </div></th><th><div class=\"djtooltip\">\n",
       "                                <p id=\"nonprimary\">spine_density_eligible</p>\n",
       "                                <span class=\"djtooltiptext\">n_spines/skeletal_length_eligible</span>\n",
       "                            </div></th><th><div class=\"djtooltip\">\n",
       "                                <p id=\"nonprimary\">spines_per_branch_eligible</p>\n",
       "                                <span class=\"djtooltiptext\">n_spines/n_spine_eligible_branches</span>\n",
       "                            </div></th><th><div class=\"djtooltip\">\n",
       "                                <p id=\"nonprimary\">total_spine_volume</p>\n",
       "                                <span class=\"djtooltiptext\">the sum of all spine volume</span>\n",
       "                            </div></th><th><div class=\"djtooltip\">\n",
       "                                <p id=\"nonprimary\">spine_volume_median</p>\n",
       "                                <span class=\"djtooltiptext\">median of the spine volume for those spines with able to calculate volume</span>\n",
       "                            </div></th><th><div class=\"djtooltip\">\n",
       "                                <p id=\"nonprimary\">spine_volume_density</p>\n",
       "                                <span class=\"djtooltiptext\">total_spine_volume/skeletal_length</span>\n",
       "                            </div></th><th><div class=\"djtooltip\">\n",
       "                                <p id=\"nonprimary\">spine_volume_density_eligible</p>\n",
       "                                <span class=\"djtooltiptext\">total_spine_volume/skeletal_length_eligible</span>\n",
       "                            </div></th><th><div class=\"djtooltip\">\n",
       "                                <p id=\"nonprimary\">spine_volume_per_branch_eligible</p>\n",
       "                                <span class=\"djtooltiptext\">total_spine_volume/n_spine_eligible_branche</span>\n",
       "                            </div> </th> </tr> </thead>\n",
       "                <tbody> <tr> <td>864691134916168213</td>\n",
       "<td>0</td>\n",
       "<td>0.25</td>\n",
       "<td>=BLOB=</td>\n",
       "<td>82051</td>\n",
       "<td>168317</td>\n",
       "<td>1</td>\n",
       "<td>1</td>\n",
       "<td>0</td>\n",
       "<td>1</td>\n",
       "<td>1</td>\n",
       "<td>19</td>\n",
       "<td>19</td>\n",
       "<td>93660.37693600099</td>\n",
       "<td>93660.37693600099</td>\n",
       "<td>2649.862</td>\n",
       "<td>661.833</td>\n",
       "<td>661.833</td>\n",
       "<td>2369.039</td>\n",
       "<td>2369.303</td>\n",
       "<td>12</td>\n",
       "<td>0.00012812248244740369</td>\n",
       "<td>0.631578947368421</td>\n",
       "<td>51246.415</td>\n",
       "<td>13</td>\n",
       "<td>nan</td>\n",
       "<td>nan</td>\n",
       "<td>261327626.16666666</td>\n",
       "<td>20184729.833333332</td>\n",
       "<td>2790.1620163800353</td>\n",
       "<td>5099.43234403161</td>\n",
       "<td>20102125.089743588</td></tr><tr><td>864691134917389578</td>\n",
       "<td>0</td>\n",
       "<td>0.25</td>\n",
       "<td>=BLOB=</td>\n",
       "<td>95336</td>\n",
       "<td>193537</td>\n",
       "<td>0</td>\n",
       "<td>0</td>\n",
       "<td>0</td>\n",
       "<td>1</td>\n",
       "<td>7</td>\n",
       "<td>102</td>\n",
       "<td>38</td>\n",
       "<td>1662063.7254532604</td>\n",
       "<td>721845.1474996195</td>\n",
       "<td>12342.464</td>\n",
       "<td>82.542</td>\n",
       "<td>82.542</td>\n",
       "<td>153.045</td>\n",
       "<td>153.045</td>\n",
       "<td>76</td>\n",
       "<td>4.5726285241725065e-05</td>\n",
       "<td>0.7450980392156863</td>\n",
       "<td>94299.525</td>\n",
       "<td>9</td>\n",
       "<td>nan</td>\n",
       "<td>nan</td>\n",
       "<td>4995540308.888321</td>\n",
       "<td>38759924.67667166</td>\n",
       "<td>3005.62501448372</td>\n",
       "<td>52975.24360688266</td>\n",
       "<td>555060034.3209245</td></tr><tr><td>864691134917404170</td>\n",
       "<td>0</td>\n",
       "<td>0.25</td>\n",
       "<td>=BLOB=</td>\n",
       "<td>98753</td>\n",
       "<td>214163</td>\n",
       "<td>0</td>\n",
       "<td>0</td>\n",
       "<td>0</td>\n",
       "<td>1</td>\n",
       "<td>4</td>\n",
       "<td>31</td>\n",
       "<td>13</td>\n",
       "<td>682041.9208604263</td>\n",
       "<td>254598.99133995743</td>\n",
       "<td>13851.677</td>\n",
       "<td>254.692</td>\n",
       "<td>239.693</td>\n",
       "<td>488.614</td>\n",
       "<td>488.614</td>\n",
       "<td>283</td>\n",
       "<td>0.0004149305069737985</td>\n",
       "<td>9.129032258064516</td>\n",
       "<td>439756.757</td>\n",
       "<td>19</td>\n",
       "<td>nan</td>\n",
       "<td>nan</td>\n",
       "<td>14042907890.870192</td>\n",
       "<td>32631514.09166463</td>\n",
       "<td>20589.508447155913</td>\n",
       "<td>31933.353308020214</td>\n",
       "<td>739100415.3089575</td></tr><tr><td>864691134947440636</td>\n",
       "<td>0</td>\n",
       "<td>0.25</td>\n",
       "<td>=BLOB=</td>\n",
       "<td>1671335</td>\n",
       "<td>3386998</td>\n",
       "<td>0</td>\n",
       "<td>0</td>\n",
       "<td>0</td>\n",
       "<td>1</td>\n",
       "<td>0</td>\n",
       "<td>0</td>\n",
       "<td>None</td>\n",
       "<td>0.0</td>\n",
       "<td>nan</td>\n",
       "<td>nan</td>\n",
       "<td>nan</td>\n",
       "<td>nan</td>\n",
       "<td>nan</td>\n",
       "<td>nan</td>\n",
       "<td>0</td>\n",
       "<td>0.0</td>\n",
       "<td>0.0</td>\n",
       "<td>0.0</td>\n",
       "<td>0</td>\n",
       "<td>nan</td>\n",
       "<td>nan</td>\n",
       "<td>0.0</td>\n",
       "<td>0.0</td>\n",
       "<td>0.0</td>\n",
       "<td>0.0</td>\n",
       "<td>0.0</td></tr><tr><td>864691135012878486</td>\n",
       "<td>0</td>\n",
       "<td>0.25</td>\n",
       "<td>=BLOB=</td>\n",
       "<td>747726</td>\n",
       "<td>1508367</td>\n",
       "<td>0</td>\n",
       "<td>0</td>\n",
       "<td>0</td>\n",
       "<td>1</td>\n",
       "<td>7</td>\n",
       "<td>500</td>\n",
       "<td>444</td>\n",
       "<td>13012412.69124955</td>\n",
       "<td>10371252.853564715</td>\n",
       "<td>17452.373</td>\n",
       "<td>97.873</td>\n",
       "<td>97.873</td>\n",
       "<td>261.647</td>\n",
       "<td>254.391</td>\n",
       "<td>334</td>\n",
       "<td>2.566779950228637e-05</td>\n",
       "<td>0.668</td>\n",
       "<td>3076725.072</td>\n",
       "<td>73</td>\n",
       "<td>nan</td>\n",
       "<td>nan</td>\n",
       "<td>10676871720.340714</td>\n",
       "<td>18034979.565666832</td>\n",
       "<td>820.5143791297508</td>\n",
       "<td>3470.2066224592177</td>\n",
       "<td>146258516.71699607</td></tr><tr><td>864691135081671415</td>\n",
       "<td>0</td>\n",
       "<td>0.25</td>\n",
       "<td>=BLOB=</td>\n",
       "<td>307439</td>\n",
       "<td>637173</td>\n",
       "<td>0</td>\n",
       "<td>0</td>\n",
       "<td>0</td>\n",
       "<td>1</td>\n",
       "<td>6</td>\n",
       "<td>89</td>\n",
       "<td>33</td>\n",
       "<td>3318744.1884733248</td>\n",
       "<td>1305370.6988906844</td>\n",
       "<td>15024.506</td>\n",
       "<td>185.545</td>\n",
       "<td>185.545</td>\n",
       "<td>467.876</td>\n",
       "<td>426.509</td>\n",
       "<td>856</td>\n",
       "<td>0.00025792888857570356</td>\n",
       "<td>9.617977528089888</td>\n",
       "<td>2204038.005</td>\n",
       "<td>42</td>\n",
       "<td>nan</td>\n",
       "<td>nan</td>\n",
       "<td>59929423289.33286</td>\n",
       "<td>53207874.59996796</td>\n",
       "<td>18057.861614486577</td>\n",
       "<td>27190.739521450705</td>\n",
       "<td>1426891030.6984015</td></tr><tr><td>864691135099849760</td>\n",
       "<td>0</td>\n",
       "<td>0.25</td>\n",
       "<td>=BLOB=</td>\n",
       "<td>63599</td>\n",
       "<td>139873</td>\n",
       "<td>0</td>\n",
       "<td>0</td>\n",
       "<td>0</td>\n",
       "<td>1</td>\n",
       "<td>11</td>\n",
       "<td>68</td>\n",
       "<td>11</td>\n",
       "<td>1074695.7633137559</td>\n",
       "<td>212973.5481412246</td>\n",
       "<td>10662.173</td>\n",
       "<td>63.728</td>\n",
       "<td>63.728</td>\n",
       "<td>169.379</td>\n",
       "<td>169.379</td>\n",
       "<td>0</td>\n",
       "<td>0.0</td>\n",
       "<td>0.0</td>\n",
       "<td>17175.38</td>\n",
       "<td>5</td>\n",
       "<td>nan</td>\n",
       "<td>nan</td>\n",
       "<td>0.0</td>\n",
       "<td>0.0</td>\n",
       "<td>0.0</td>\n",
       "<td>0.0</td>\n",
       "<td>0.0</td></tr><tr><td>864691135103985997</td>\n",
       "<td>0</td>\n",
       "<td>0.25</td>\n",
       "<td>=BLOB=</td>\n",
       "<td>119349</td>\n",
       "<td>249486</td>\n",
       "<td>0</td>\n",
       "<td>0</td>\n",
       "<td>0</td>\n",
       "<td>1</td>\n",
       "<td>3</td>\n",
       "<td>33</td>\n",
       "<td>13</td>\n",
       "<td>921764.0556065388</td>\n",
       "<td>507423.5389742956</td>\n",
       "<td>11496.371</td>\n",
       "<td>276.681</td>\n",
       "<td>261.521</td>\n",
       "<td>459.957</td>\n",
       "<td>450.048</td>\n",
       "<td>421</td>\n",
       "<td>0.00045673293229358327</td>\n",
       "<td>12.757575757575758</td>\n",
       "<td>738622.968</td>\n",
       "<td>19</td>\n",
       "<td>nan</td>\n",
       "<td>nan</td>\n",
       "<td>34237952562.684376</td>\n",
       "<td>45507014.72334798</td>\n",
       "<td>37143.94410851173</td>\n",
       "<td>46353.761047252425</td>\n",
       "<td>1801997503.2991776</td></tr><tr><td>864691135122335271</td>\n",
       "<td>0</td>\n",
       "<td>0.25</td>\n",
       "<td>=BLOB=</td>\n",
       "<td>83778</td>\n",
       "<td>173395</td>\n",
       "<td>2</td>\n",
       "<td>2</td>\n",
       "<td>0</td>\n",
       "<td>1</td>\n",
       "<td>5</td>\n",
       "<td>116</td>\n",
       "<td>43</td>\n",
       "<td>1733894.6681383038</td>\n",
       "<td>613760.298283533</td>\n",
       "<td>9723.156</td>\n",
       "<td>74.445</td>\n",
       "<td>74.445</td>\n",
       "<td>191.145</td>\n",
       "<td>191.145</td>\n",
       "<td>1</td>\n",
       "<td>5.76736302600035e-07</td>\n",
       "<td>0.008620689655172414</td>\n",
       "<td>49248.51</td>\n",
       "<td>9</td>\n",
       "<td>nan</td>\n",
       "<td>nan</td>\n",
       "<td>6247729.031669617</td>\n",
       "<td>6247729.031669617</td>\n",
       "<td>3.6032921413720316</td>\n",
       "<td>126.861280304107</td>\n",
       "<td>694192.1146299574</td></tr><tr><td>864691135132649120</td>\n",
       "<td>0</td>\n",
       "<td>0.25</td>\n",
       "<td>=BLOB=</td>\n",
       "<td>300957</td>\n",
       "<td>599634</td>\n",
       "<td>1</td>\n",
       "<td>1</td>\n",
       "<td>0</td>\n",
       "<td>1</td>\n",
       "<td>6</td>\n",
       "<td>175</td>\n",
       "<td>96</td>\n",
       "<td>2282100.160032276</td>\n",
       "<td>1009206.88194751</td>\n",
       "<td>6741.671</td>\n",
       "<td>144.327</td>\n",
       "<td>144.327</td>\n",
       "<td>379.618</td>\n",
       "<td>368.731</td>\n",
       "<td>214</td>\n",
       "<td>9.377327242156337e-05</td>\n",
       "<td>1.2228571428571429</td>\n",
       "<td>807430.021</td>\n",
       "<td>55</td>\n",
       "<td>nan</td>\n",
       "<td>nan</td>\n",
       "<td>14351599996.784107</td>\n",
       "<td>44150916.0969944</td>\n",
       "<td>6288.768673755814</td>\n",
       "<td>17774.419607298834</td>\n",
       "<td>260938181.75971103</td></tr><tr><td>864691135194410026</td>\n",
       "<td>0</td>\n",
       "<td>0.25</td>\n",
       "<td>=BLOB=</td>\n",
       "<td>341807</td>\n",
       "<td>699235</td>\n",
       "<td>0</td>\n",
       "<td>0</td>\n",
       "<td>0</td>\n",
       "<td>1</td>\n",
       "<td>7</td>\n",
       "<td>65</td>\n",
       "<td>31</td>\n",
       "<td>2805312.4213652196</td>\n",
       "<td>1423264.3880432397</td>\n",
       "<td>32880.525</td>\n",
       "<td>354.125</td>\n",
       "<td>312.903</td>\n",
       "<td>633.215</td>\n",
       "<td>605.938</td>\n",
       "<td>1393</td>\n",
       "<td>0.0004965578840313584</td>\n",
       "<td>21.43076923076923</td>\n",
       "<td>2729724.292</td>\n",
       "<td>57</td>\n",
       "<td>nan</td>\n",
       "<td>nan</td>\n",
       "<td>78568053304.03767</td>\n",
       "<td>34666364.136577606</td>\n",
       "<td>28006.881766773815</td>\n",
       "<td>28782.41349659267</td>\n",
       "<td>1378386900.0708363</td></tr><tr><td>864691135204359552</td>\n",
       "<td>0</td>\n",
       "<td>0.25</td>\n",
       "<td>=BLOB=</td>\n",
       "<td>71263</td>\n",
       "<td>142877</td>\n",
       "<td>1</td>\n",
       "<td>1</td>\n",
       "<td>0</td>\n",
       "<td>1</td>\n",
       "<td>3</td>\n",
       "<td>76</td>\n",
       "<td>62</td>\n",
       "<td>885139.0610199095</td>\n",
       "<td>785985.5095992367</td>\n",
       "<td>7178.648</td>\n",
       "<td>134.072</td>\n",
       "<td>134.072</td>\n",
       "<td>257.853</td>\n",
       "<td>257.853</td>\n",
       "<td>48</td>\n",
       "<td>5.4228767109985596e-05</td>\n",
       "<td>0.631578947368421</td>\n",
       "<td>135113.755</td>\n",
       "<td>14</td>\n",
       "<td>nan</td>\n",
       "<td>nan</td>\n",
       "<td>2243190093.7050886</td>\n",
       "<td>18500252.61083126</td>\n",
       "<td>2534.279857811667</td>\n",
       "<td>16602.23338256781</td>\n",
       "<td>160227863.83607775</td> </tr> </tbody>\n",
       "            </table>\n",
       "            <p>...</p>\n",
       "            <p>Total: 199</p></div>\n",
       "            "
      ],
      "text/plain": [
       "*segment_id    *decimation_ve *decimation_ra decomposit n_vertices     n_faces     n_error_limbs  n_same_soma_mu n_multi_soma_t n_somas     n_limbs     n_branches     max_limb_n_bra skeletal_lengt max_limb_skele median_branch_ width_median   width_no_spine width_90_perc  width_no_spine n_spines     spine_density  spines_per_bra skeletal_lengt n_spine_eligib spine_density_ spines_per_bra total_spine_vo spine_volume_m spine_volume_d spine_volume_d spine_volume_p\n",
       "+------------+ +------------+ +------------+ +--------+ +------------+ +---------+ +------------+ +------------+ +------------+ +---------+ +---------+ +------------+ +------------+ +------------+ +------------+ +------------+ +------------+ +------------+ +------------+ +------------+ +----------+ +------------+ +------------+ +------------+ +------------+ +------------+ +------------+ +------------+ +------------+ +------------+ +------------+ +------------+\n",
       "86469113491616 0              0.25           =BLOB=     82051          168317      1              1              0              1           1           19             19             93660.37693600 93660.37693600 2649.862       661.833        661.833        2369.039       2369.303       12           0.000128122482 0.631578947368 51246.415      13             nan            nan            261327626.1666 20184729.83333 2790.162016380 5099.432344031 20102125.08974\n",
       "86469113491738 0              0.25           =BLOB=     95336          193537      0              0              0              1           7           102            38             1662063.725453 721845.1474996 12342.464      82.542         82.542         153.045        153.045        76           4.572628524172 0.745098039215 94299.525      9              nan            nan            4995540308.888 38759924.67667 3005.625014483 52975.24360688 555060034.3209\n",
       "86469113491740 0              0.25           =BLOB=     98753          214163      0              0              0              1           4           31             13             682041.9208604 254598.9913399 13851.677      254.692        239.693        488.614        488.614        283          0.000414930506 9.129032258064 439756.757     19             nan            nan            14042907890.87 32631514.09166 20589.50844715 31933.35330802 739100415.3089\n",
       "86469113494744 0              0.25           =BLOB=     1671335        3386998     0              0              0              1           0           0              None           0.0            nan            nan            nan            nan            nan            nan            0            0.0            0.0            0.0            0              nan            nan            0.0            0.0            0.0            0.0            0.0           \n",
       "86469113501287 0              0.25           =BLOB=     747726         1508367     0              0              0              1           7           500            444            13012412.69124 10371252.85356 17452.373      97.873         97.873         261.647        254.391        334          2.566779950228 0.668          3076725.072    73             nan            nan            10676871720.34 18034979.56566 820.5143791297 3470.206622459 146258516.7169\n",
       "86469113508167 0              0.25           =BLOB=     307439         637173      0              0              0              1           6           89             33             3318744.188473 1305370.698890 15024.506      185.545        185.545        467.876        426.509        856          0.000257928888 9.617977528089 2204038.005    42             nan            nan            59929423289.33 53207874.59996 18057.86161448 27190.73952145 1426891030.698\n",
       "86469113509984 0              0.25           =BLOB=     63599          139873      0              0              0              1           11          68             11             1074695.763313 212973.5481412 10662.173      63.728         63.728         169.379        169.379        0            0.0            0.0            17175.38       5              nan            nan            0.0            0.0            0.0            0.0            0.0           \n",
       "86469113510398 0              0.25           =BLOB=     119349         249486      0              0              0              1           3           33             13             921764.0556065 507423.5389742 11496.371      276.681        261.521        459.957        450.048        421          0.000456732932 12.75757575757 738622.968     19             nan            nan            34237952562.68 45507014.72334 37143.94410851 46353.76104725 1801997503.299\n",
       "86469113512233 0              0.25           =BLOB=     83778          173395      2              2              0              1           5           116            43             1733894.668138 613760.2982835 9723.156       74.445         74.445         191.145        191.145        1            5.767363026000 0.008620689655 49248.51       9              nan            nan            6247729.031669 6247729.031669 3.603292141372 126.8612803041 694192.1146299\n",
       "86469113513264 0              0.25           =BLOB=     300957         599634      1              1              0              1           6           175            96             2282100.160032 1009206.881947 6741.671       144.327        144.327        379.618        368.731        214          9.377327242156 1.222857142857 807430.021     55             nan            nan            14351599996.78 44150916.09699 6288.768673755 17774.41960729 260938181.7597\n",
       "86469113519441 0              0.25           =BLOB=     341807         699235      0              0              0              1           7           65             31             2805312.421365 1423264.388043 32880.525      354.125        312.903        633.215        605.938        1393         0.000496557884 21.43076923076 2729724.292    57             nan            nan            78568053304.03 34666364.13657 28006.88176677 28782.41349659 1378386900.070\n",
       "86469113520435 0              0.25           =BLOB=     71263          142877      1              1              0              1           3           76             62             885139.0610199 785985.5095992 7178.648       134.072        134.072        257.853        257.853        48           5.422876710998 0.631578947368 135113.755     14             nan            nan            2243190093.705 18500252.61083 2534.279857811 16602.23338256 160227863.8360\n",
       "   ...\n",
       " (Total: 199)"
      ]
     },
     "execution_count": 129,
     "metadata": {},
     "output_type": "execute_result"
    }
   ],
   "source": [
    "minnie.Decomposition() & \"n_vertices > 30000\""
   ]
  },
  {
   "cell_type": "code",
   "execution_count": 121,
   "metadata": {},
   "outputs": [
    {
     "name": "stdout",
     "output_type": "stream",
     "text": [
      "Decompressing Neuron in minimal output mode...please wait\n"
     ]
    }
   ],
   "source": [
    "neuron_obj = (minnie.Decomposition() & \"segment_id=864691136903062706\").fetch1(\"decomposition\")"
   ]
  },
  {
   "cell_type": "code",
   "execution_count": 122,
   "metadata": {},
   "outputs": [
    {
     "name": "stdout",
     "output_type": "stream",
     "text": [
      "\n",
      " Working on visualization type: mesh\n",
      "\n",
      " Working on visualization type: skeleton\n",
      "Working on  new stand alone scatter points\n"
     ]
    },
    {
     "data": {
      "application/vnd.jupyter.widget-view+json": {
       "model_id": "1a9cdef49cca4392b7183321e1909310",
       "version_major": 2,
       "version_minor": 0
      },
      "text/plain": [
       "VBox(children=(Figure(camera=PerspectiveCamera(fov=46.0, position=(0.0, 0.0, 2.0), quaternion=(0.0, 0.0, 0.0, …"
      ]
     },
     "metadata": {},
     "output_type": "display_data"
    }
   ],
   "source": [
    "import neuron_visualizations as nviz\n",
    "ret_col = nviz.visualize_neuron(neuron_obj,\n",
    "                      visualize_type=[\"mesh\",\"skeleton\"],\n",
    "                      #mesh_resolution=\"limb\",\n",
    "                      #skeleton_resolution=\"limb\",\n",
    "                      limb_branch_dict=\"all\",\n",
    "                     return_color_dict=True)\n",
    "                  "
   ]
  },
  {
   "cell_type": "code",
   "execution_count": null,
   "metadata": {},
   "outputs": [],
   "source": [
    "minnie.decompo"
   ]
  },
  {
   "cell_type": "code",
   "execution_count": 126,
   "metadata": {},
   "outputs": [
    {
     "data": {
      "text/html": [
       "\n",
       "        \n",
       "        <style type=\"text/css\">\n",
       "            .Relation{\n",
       "                border-collapse:collapse;\n",
       "            }\n",
       "            .Relation th{\n",
       "                background: #A0A0A0; color: #ffffff; padding:4px; border:#f0e0e0 1px solid;\n",
       "                font-weight: normal; font-family: monospace; font-size: 100%;\n",
       "            }\n",
       "            .Relation td{\n",
       "                padding:4px; border:#f0e0e0 1px solid; font-size:100%;\n",
       "            }\n",
       "            .Relation tr:nth-child(odd){\n",
       "                background: #ffffff;\n",
       "            }\n",
       "            .Relation tr:nth-child(even){\n",
       "                background: #f3f1ff;\n",
       "            }\n",
       "            /* Tooltip container */\n",
       "            .djtooltip {\n",
       "            }\n",
       "            /* Tooltip text */\n",
       "            .djtooltip .djtooltiptext {\n",
       "                visibility: hidden;\n",
       "                width: 120px;\n",
       "                background-color: black;\n",
       "                color: #fff;\n",
       "                text-align: center;\n",
       "                padding: 5px 0;\n",
       "                border-radius: 6px;\n",
       "                /* Position the tooltip text - see examples below! */\n",
       "                position: absolute;\n",
       "                z-index: 1;\n",
       "            }\n",
       "            #primary {\n",
       "                font-weight: bold;\n",
       "                color: black;\n",
       "            }\n",
       "\n",
       "            #nonprimary {\n",
       "                font-weight: normal;\n",
       "                color: white;\n",
       "            }\n",
       "\n",
       "            /* Show the tooltip text when you mouse over the tooltip container */\n",
       "            .djtooltip:hover .djtooltiptext {\n",
       "                visibility: visible;\n",
       "            }\n",
       "        </style>\n",
       "        \n",
       "        \n",
       "            <div style=\"max-height:1000px;max-width:1500px;overflow:auto;\">\n",
       "            <table border=\"1\" class=\"Relation\">\n",
       "                <thead> <tr style=\"text-align: right;\"> <th> <div class=\"djtooltip\">\n",
       "                                <p id=\"primary\">segment_id</p>\n",
       "                                <span class=\"djtooltiptext\">segment id unique within each Segmentation</span>\n",
       "                            </div></th><th><div class=\"djtooltip\">\n",
       "                                <p id=\"primary\">decimation_version</p>\n",
       "                                <span class=\"djtooltiptext\"></span>\n",
       "                            </div></th><th><div class=\"djtooltip\">\n",
       "                                <p id=\"primary\">decimation_ratio</p>\n",
       "                                <span class=\"djtooltiptext\">ratio of remaining mesh vertices/faces (which ones depends on what metric the decimation technique uses)</span>\n",
       "                            </div> </th> </tr> </thead>\n",
       "                <tbody> <tr> <td>864691134167328989</td>\n",
       "<td>0</td>\n",
       "<td>0.25</td></tr><tr><td>864691134221889045</td>\n",
       "<td>0</td>\n",
       "<td>0.25</td></tr><tr><td>864691134370328784</td>\n",
       "<td>0</td>\n",
       "<td>0.25</td></tr><tr><td>864691134384033872</td>\n",
       "<td>0</td>\n",
       "<td>0.25</td></tr><tr><td>864691134409056935</td>\n",
       "<td>0</td>\n",
       "<td>0.25</td></tr><tr><td>864691134412252598</td>\n",
       "<td>0</td>\n",
       "<td>0.25</td></tr><tr><td>864691134431433407</td>\n",
       "<td>0</td>\n",
       "<td>0.25</td></tr><tr><td>864691134434412977</td>\n",
       "<td>0</td>\n",
       "<td>0.25</td></tr><tr><td>864691134434464524</td>\n",
       "<td>0</td>\n",
       "<td>0.25</td></tr><tr><td>864691134437394197</td>\n",
       "<td>0</td>\n",
       "<td>0.25</td></tr><tr><td>864691134455328437</td>\n",
       "<td>0</td>\n",
       "<td>0.25</td></tr><tr><td>864691134466251864</td>\n",
       "<td>0</td>\n",
       "<td>0.25</td> </tr> </tbody>\n",
       "            </table>\n",
       "            <p>...</p>\n",
       "            <p>Total: 35595</p></div>\n",
       "            "
      ],
      "text/plain": [
       "*segment_id    *decimation_ve *decimation_ra\n",
       "+------------+ +------------+ +------------+\n",
       "86469113416732 0              0.25          \n",
       "86469113422188 0              0.25          \n",
       "86469113437032 0              0.25          \n",
       "86469113438403 0              0.25          \n",
       "86469113440905 0              0.25          \n",
       "86469113441225 0              0.25          \n",
       "86469113443143 0              0.25          \n",
       "86469113443441 0              0.25          \n",
       "86469113443446 0              0.25          \n",
       "86469113443739 0              0.25          \n",
       "86469113445532 0              0.25          \n",
       "86469113446625 0              0.25          \n",
       "   ...\n",
       " (Total: 35593)"
      ]
     },
     "execution_count": 126,
     "metadata": {},
     "output_type": "execute_result"
    }
   ],
   "source": [
    "decimation_version = 0\n",
    "decimation_ratio = 0.25\n",
    "\n",
    "key_source =  ((minnie.Decimation).proj(decimation_version='version') & \n",
    "                            \"decimation_version=\" + str(decimation_version) &\n",
    "                       f\"decimation_ratio={decimation_ratio}\" &  (minnie.BaylorSegmentCentroidExternal() & \"multiplicity>0\").proj())\n",
    "key_source"
   ]
  },
  {
   "cell_type": "code",
   "execution_count": 17,
   "metadata": {},
   "outputs": [
    {
     "data": {
      "image/png": "[encoded data removed]",
      "text/plain": [
       "<Figure size 432x288 with 1 Axes>"
      ]
     },
     "metadata": {},
     "output_type": "display_data"
    }
   ],
   "source": [
    "nviz.plot_soma_limb_concept_network(neuron_obj,node_colors=ret_col)"
   ]
  },
  {
   "cell_type": "code",
   "execution_count": 27,
   "metadata": {},
   "outputs": [],
   "source": [
    "soma_mesh = main_mesh=neuron_obj[\"S0\"].mesh"
   ]
  },
  {
   "cell_type": "code",
   "execution_count": 68,
   "metadata": {},
   "outputs": [
    {
     "data": {
      "text/plain": [
       "[<trimesh.Trimesh(vertices.shape=(661, 3), faces.shape=(933, 3))>,\n",
       " <trimesh.Trimesh(vertices.shape=(38, 3), faces.shape=(72, 3))>,\n",
       " <trimesh.Trimesh(vertices.shape=(38, 3), faces.shape=(70, 3))>,\n",
       " <trimesh.Trimesh(vertices.shape=(29, 3), faces.shape=(44, 3))>,\n",
       " <trimesh.Trimesh(vertices.shape=(25, 3), faces.shape=(40, 3))>,\n",
       " <trimesh.Trimesh(vertices.shape=(21, 3), faces.shape=(32, 3))>,\n",
       " <trimesh.Trimesh(vertices.shape=(20, 3), faces.shape=(36, 3))>,\n",
       " <trimesh.Trimesh(vertices.shape=(20, 3), faces.shape=(19, 3))>,\n",
       " <trimesh.Trimesh(vertices.shape=(20, 3), faces.shape=(27, 3))>,\n",
       " <trimesh.Trimesh(vertices.shape=(19, 3), faces.shape=(34, 3))>,\n",
       " <trimesh.Trimesh(vertices.shape=(18, 3), faces.shape=(22, 3))>,\n",
       " <trimesh.Trimesh(vertices.shape=(17, 3), faces.shape=(30, 3))>,\n",
       " <trimesh.Trimesh(vertices.shape=(17, 3), faces.shape=(26, 3))>,\n",
       " <trimesh.Trimesh(vertices.shape=(16, 3), faces.shape=(21, 3))>,\n",
       " <trimesh.Trimesh(vertices.shape=(16, 3), faces.shape=(28, 3))>,\n",
       " <trimesh.Trimesh(vertices.shape=(16, 3), faces.shape=(28, 3))>,\n",
       " <trimesh.Trimesh(vertices.shape=(13, 3), faces.shape=(22, 3))>,\n",
       " <trimesh.Trimesh(vertices.shape=(11, 3), faces.shape=(18, 3))>,\n",
       " <trimesh.Trimesh(vertices.shape=(11, 3), faces.shape=(18, 3))>,\n",
       " <trimesh.Trimesh(vertices.shape=(10, 3), faces.shape=(16, 3))>]"
      ]
     },
     "execution_count": 68,
     "metadata": {},
     "output_type": "execute_result"
    }
   ],
   "source": []
  },
  {
   "cell_type": "code",
   "execution_count": 73,
   "metadata": {},
   "outputs": [
    {
     "name": "stdout",
     "output_type": "stream",
     "text": [
      "Recieved another instance of Neuron class in init -- so just copying data\n"
     ]
    }
   ],
   "source": [
    "import neuron\n",
    "neuron = reload(neuron)\n",
    "neuron_obj = neuron.Neuron(neuron_obj)"
   ]
  },
  {
   "cell_type": "code",
   "execution_count": 76,
   "metadata": {},
   "outputs": [],
   "source": [
    "tu = reload(tu)"
   ]
  },
  {
   "cell_type": "code",
   "execution_count": 78,
   "metadata": {},
   "outputs": [
    {
     "data": {
      "text/plain": [
       "[<trimesh.Trimesh(vertices.shape=(13, 3), faces.shape=(22, 3))>,\n",
       " <trimesh.Trimesh(vertices.shape=(13, 3), faces.shape=(22, 3))>,\n",
       " <trimesh.Trimesh(vertices.shape=(12, 3), faces.shape=(20, 3))>,\n",
       " <trimesh.Trimesh(vertices.shape=(11, 3), faces.shape=(18, 3))>,\n",
       " <trimesh.Trimesh(vertices.shape=(11, 3), faces.shape=(18, 3))>,\n",
       " <trimesh.Trimesh(vertices.shape=(10, 3), faces.shape=(20, 3))>,\n",
       " <trimesh.Trimesh(vertices.shape=(9, 3), faces.shape=(18, 3))>]"
      ]
     },
     "execution_count": 78,
     "metadata": {},
     "output_type": "execute_result"
    }
   ],
   "source": []
  },
  {
   "cell_type": "code",
   "execution_count": 26,
   "metadata": {},
   "outputs": [
    {
     "data": {
      "application/vnd.jupyter.widget-view+json": {
       "model_id": "975e0f7151164a0aa4a9a45d32aa0eb2",
       "version_major": 2,
       "version_minor": 0
      },
      "text/plain": [
       "VBox(children=(Figure(camera=PerspectiveCamera(fov=46.0, position=(0.0, 0.0, 2.0), quaternion=(0.0, 0.0, 0.0, …"
      ]
     },
     "metadata": {},
     "output_type": "display_data"
    }
   ],
   "source": [
    "nviz.plot_objects(main_mesh=neuron_obj[\"S0\"].mesh,\n",
    "                meshes=neuron_obj.non_soma_touching_meshes,\n",
    "                  meshes_colors=\"random\")"
   ]
  },
  {
   "cell_type": "code",
   "execution_count": 20,
   "metadata": {},
   "outputs": [
    {
     "name": "stdout",
     "output_type": "stream",
     "text": [
      "\n",
      " Working on visualization type: mesh\n",
      "\n",
      " Working on visualization type: skeleton\n",
      "working on soma border vertices\n",
      "Working on  new stand alone scatter points\n"
     ]
    },
    {
     "data": {
      "application/vnd.jupyter.widget-view+json": {
       "model_id": "472a8e7279ae40499bdabbf386154c3f",
       "version_major": 2,
       "version_minor": 0
      },
      "text/plain": [
       "VBox(children=(Figure(camera=PerspectiveCamera(fov=46.0, position=(0.0, 0.0, 2.0), quaternion=(0.0, 0.0, 0.0, …"
      ]
     },
     "metadata": {},
     "output_type": "display_data"
    }
   ],
   "source": [
    "ret_col = nviz.visualize_neuron(neuron_obj,\n",
    "                      visualize_type=[\"mesh\",\"skeleton\"],\n",
    "                      #mesh_resolution=\"limb\",\n",
    "                      #skeleton_resolution=\"limb\",\n",
    "                        mesh_soma=False,\n",
    "                      limb_branch_dict=dict(L6=\"all\"))\n",
    "                  "
   ]
  },
  {
   "cell_type": "code",
   "execution_count": 11,
   "metadata": {},
   "outputs": [
    {
     "name": "stdout",
     "output_type": "stream",
     "text": [
      "\n",
      " Working on visualization type: mesh\n",
      "Working on  new stand alone scatter points\n"
     ]
    },
    {
     "data": {
      "application/vnd.jupyter.widget-view+json": {
       "model_id": "f0bbb058c36143ca89bf122fe7d0381c",
       "version_major": 2,
       "version_minor": 0
      },
      "text/plain": [
       "VBox(children=(Figure(camera=PerspectiveCamera(fov=46.0, position=(0.0, 0.0, 2.0), quaternion=(0.0, 0.0, 0.0, …"
      ]
     },
     "metadata": {},
     "output_type": "display_data"
    }
   ],
   "source": [
    "nviz.plot_spines(neuron_obj)"
   ]
  },
  {
   "cell_type": "markdown",
   "metadata": {},
   "source": [
    "# Deleteing A lot of the Tables"
   ]
  },
  {
   "cell_type": "code",
   "execution_count": 139,
   "metadata": {},
   "outputs": [
    {
     "name": "stdout",
     "output_type": "stream",
     "text": [
      "`microns_minnie65_02`.`__baylor_segment_centroid_test` (0 tuples)\n",
      "Proceed? [yes, No]: yes\n",
      "Tables dropped.  Restart kernel.\n"
     ]
    }
   ],
   "source": [
    "\"\"\"\n",
    "Pseudocode: \n",
    "Tables that need to be dropped:\n",
    "-\n",
    "\n",
    "\n",
    "\"\"\"\n",
    "\n",
    "minnie.BaylorSegmentCentroidTest.drop()"
   ]
  },
  {
   "cell_type": "code",
   "execution_count": 137,
   "metadata": {},
   "outputs": [],
   "source": [
    "soma_path = Path(\"/mnt/dj-stor01/platinum/minnie65/02/somas/\")"
   ]
  },
  {
   "cell_type": "code",
   "execution_count": 138,
   "metadata": {},
   "outputs": [],
   "source": [
    "for j,f in enumerate(soma_path.iterdir()):\n",
    "    if j > 100:\n",
    "        break\n",
    "    print(f)"
   ]
  },
  {
   "cell_type": "code",
   "execution_count": 136,
   "metadata": {},
   "outputs": [
    {
     "ename": "DataJointError",
     "evalue": "Storage somas is requested but not configured",
     "output_type": "error",
     "traceback": [
      "\u001b[0;31m---------------------------------------------------------------------------\u001b[0m",
      "\u001b[0;31mDataJointError\u001b[0m                            Traceback (most recent call last)",
      "\u001b[0;32m<ipython-input-136-36f5bff69202>\u001b[0m in \u001b[0;36m<module>\u001b[0;34m\u001b[0m\n\u001b[1;32m      1\u001b[0m \u001b[0;32mfrom\u001b[0m \u001b[0mdatajoint_utils\u001b[0m \u001b[0;32mimport\u001b[0m \u001b[0;34m*\u001b[0m\u001b[0;34m\u001b[0m\u001b[0;34m\u001b[0m\u001b[0m\n\u001b[0;32m----> 2\u001b[0;31m \u001b[0mschema\u001b[0m\u001b[0;34m.\u001b[0m\u001b[0mexternal\u001b[0m\u001b[0;34m[\u001b[0m\u001b[0;34m'somas'\u001b[0m\u001b[0;34m]\u001b[0m\u001b[0;34m.\u001b[0m\u001b[0mdelete\u001b[0m\u001b[0;34m(\u001b[0m\u001b[0mdelete_external_files\u001b[0m\u001b[0;34m=\u001b[0m\u001b[0;32mTrue\u001b[0m\u001b[0;34m)\u001b[0m\u001b[0;34m\u001b[0m\u001b[0;34m\u001b[0m\u001b[0m\n\u001b[0m",
      "\u001b[0;32m/usr/local/lib/python3.6/dist-packages/datajoint/external.py\u001b[0m in \u001b[0;36m__getitem__\u001b[0;34m(self, store)\u001b[0m\n\u001b[1;32m    379\u001b[0m         \u001b[0;32mif\u001b[0m \u001b[0mstore\u001b[0m \u001b[0;32mnot\u001b[0m \u001b[0;32min\u001b[0m \u001b[0mself\u001b[0m\u001b[0;34m.\u001b[0m\u001b[0m_tables\u001b[0m\u001b[0;34m:\u001b[0m\u001b[0;34m\u001b[0m\u001b[0;34m\u001b[0m\u001b[0m\n\u001b[1;32m    380\u001b[0m             self._tables[store] = ExternalTable(\n\u001b[0;32m--> 381\u001b[0;31m                 connection=self.schema.connection, store=store, database=self.schema.database)\n\u001b[0m\u001b[1;32m    382\u001b[0m         \u001b[0;32mreturn\u001b[0m \u001b[0mself\u001b[0m\u001b[0;34m.\u001b[0m\u001b[0m_tables\u001b[0m\u001b[0;34m[\u001b[0m\u001b[0mstore\u001b[0m\u001b[0;34m]\u001b[0m\u001b[0;34m\u001b[0m\u001b[0;34m\u001b[0m\u001b[0m\n\u001b[1;32m    383\u001b[0m \u001b[0;34m\u001b[0m\u001b[0m\n",
      "\u001b[0;32m/usr/local/lib/python3.6/dist-packages/datajoint/external.py\u001b[0m in \u001b[0;36m__init__\u001b[0;34m(self, connection, store, database)\u001b[0m\n\u001b[1;32m     41\u001b[0m         \u001b[0msuper\u001b[0m\u001b[0;34m(\u001b[0m\u001b[0;34m)\u001b[0m\u001b[0;34m.\u001b[0m\u001b[0m__init__\u001b[0m\u001b[0;34m(\u001b[0m\u001b[0;34m)\u001b[0m\u001b[0;34m\u001b[0m\u001b[0;34m\u001b[0m\u001b[0m\n\u001b[1;32m     42\u001b[0m         \u001b[0mself\u001b[0m\u001b[0;34m.\u001b[0m\u001b[0mstore\u001b[0m \u001b[0;34m=\u001b[0m \u001b[0mstore\u001b[0m\u001b[0;34m\u001b[0m\u001b[0;34m\u001b[0m\u001b[0m\n\u001b[0;32m---> 43\u001b[0;31m         \u001b[0mself\u001b[0m\u001b[0;34m.\u001b[0m\u001b[0mspec\u001b[0m \u001b[0;34m=\u001b[0m \u001b[0mconfig\u001b[0m\u001b[0;34m.\u001b[0m\u001b[0mget_store_spec\u001b[0m\u001b[0;34m(\u001b[0m\u001b[0mstore\u001b[0m\u001b[0;34m)\u001b[0m\u001b[0;34m\u001b[0m\u001b[0;34m\u001b[0m\u001b[0m\n\u001b[0m\u001b[1;32m     44\u001b[0m         \u001b[0mself\u001b[0m\u001b[0;34m.\u001b[0m\u001b[0mdatabase\u001b[0m \u001b[0;34m=\u001b[0m \u001b[0mdatabase\u001b[0m\u001b[0;34m\u001b[0m\u001b[0;34m\u001b[0m\u001b[0m\n\u001b[1;32m     45\u001b[0m         \u001b[0mself\u001b[0m\u001b[0;34m.\u001b[0m\u001b[0m_connection\u001b[0m \u001b[0;34m=\u001b[0m \u001b[0mconnection\u001b[0m\u001b[0;34m\u001b[0m\u001b[0;34m\u001b[0m\u001b[0m\n",
      "\u001b[0;32m/usr/local/lib/python3.6/dist-packages/datajoint/settings.py\u001b[0m in \u001b[0;36mget_store_spec\u001b[0;34m(self, store)\u001b[0m\n\u001b[1;32m    134\u001b[0m             \u001b[0mspec\u001b[0m \u001b[0;34m=\u001b[0m \u001b[0mself\u001b[0m\u001b[0;34m[\u001b[0m\u001b[0;34m'stores'\u001b[0m\u001b[0;34m]\u001b[0m\u001b[0;34m[\u001b[0m\u001b[0mstore\u001b[0m\u001b[0;34m]\u001b[0m\u001b[0;34m\u001b[0m\u001b[0;34m\u001b[0m\u001b[0m\n\u001b[1;32m    135\u001b[0m         \u001b[0;32mexcept\u001b[0m \u001b[0mKeyError\u001b[0m\u001b[0;34m:\u001b[0m\u001b[0;34m\u001b[0m\u001b[0;34m\u001b[0m\u001b[0m\n\u001b[0;32m--> 136\u001b[0;31m             \u001b[0;32mraise\u001b[0m \u001b[0mDataJointError\u001b[0m\u001b[0;34m(\u001b[0m\u001b[0;34m'Storage {store} is requested but not configured'\u001b[0m\u001b[0;34m.\u001b[0m\u001b[0mformat\u001b[0m\u001b[0;34m(\u001b[0m\u001b[0mstore\u001b[0m\u001b[0;34m=\u001b[0m\u001b[0mstore\u001b[0m\u001b[0;34m)\u001b[0m\u001b[0;34m)\u001b[0m \u001b[0;32mfrom\u001b[0m \u001b[0;32mNone\u001b[0m\u001b[0;34m\u001b[0m\u001b[0;34m\u001b[0m\u001b[0m\n\u001b[0m\u001b[1;32m    137\u001b[0m \u001b[0;34m\u001b[0m\u001b[0m\n\u001b[1;32m    138\u001b[0m         \u001b[0mspec\u001b[0m\u001b[0;34m[\u001b[0m\u001b[0;34m'subfolding'\u001b[0m\u001b[0;34m]\u001b[0m \u001b[0;34m=\u001b[0m \u001b[0mspec\u001b[0m\u001b[0;34m.\u001b[0m\u001b[0mget\u001b[0m\u001b[0;34m(\u001b[0m\u001b[0;34m'subfolding'\u001b[0m\u001b[0;34m,\u001b[0m \u001b[0mDEFAULT_SUBFOLDING\u001b[0m\u001b[0;34m)\u001b[0m\u001b[0;34m\u001b[0m\u001b[0;34m\u001b[0m\u001b[0m\n",
      "\u001b[0;31mDataJointError\u001b[0m: Storage somas is requested but not configured"
     ]
    }
   ],
   "source": [
    "from datajoint_utils import *\n",
    "schema.external['somas'].delete(delete_external_files=True)"
   ]
  },
  {
   "cell_type": "code",
   "execution_count": null,
   "metadata": {},
   "outputs": [],
   "source": []
  }
 ],
 "metadata": {
  "kernelspec": {
   "display_name": "Python 3",
   "language": "python",
   "name": "python3"
  },
  "language_info": {
   "codemirror_mode": {
    "name": "ipython",
    "version": 3
   },
   "file_extension": ".py",
   "mimetype": "text/x-python",
   "name": "python",
   "nbconvert_exporter": "python",
   "pygments_lexer": "ipython3",
   "version": "3.6.9"
  }
 },
 "nbformat": 4,
 "nbformat_minor": 4
}
