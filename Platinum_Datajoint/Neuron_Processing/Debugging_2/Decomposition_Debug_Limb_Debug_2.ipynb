{
 "cells": [
  {
   "cell_type": "code",
   "execution_count": null,
   "metadata": {},
   "outputs": [],
   "source": [
    "\"\"\"\n",
    "Purpose: To Run the neuron preprocessing\n",
    "\n",
    "\n",
    "\"\"\""
   ]
  },
  {
   "cell_type": "code",
   "execution_count": 1,
   "metadata": {},
   "outputs": [],
   "source": [
    "%load_ext autoreload\n",
    "%autoreload 2"
   ]
  },
  {
   "cell_type": "code",
   "execution_count": 2,
   "metadata": {},
   "outputs": [
    {
     "name": "stderr",
     "output_type": "stream",
     "text": [
      "INFO - 2020-12-21 22:09:20,964 - settings - Setting database.host to at-database.ad.bcm.edu\n",
      "INFO - 2020-12-21 22:09:20,964 - settings - Setting database.user to celiib\n",
      "INFO - 2020-12-21 22:09:20,965 - settings - Setting database.password to newceliipass\n",
      "INFO - 2020-12-21 22:09:20,969 - settings - Setting stores to {'minnie65': {'protocol': 'file', 'location': '/mnt/dj-stor01/platinum/minnie65', 'stage': '/mnt/dj-stor01/platinum/minnie65'}, 'meshes': {'protocol': 'file', 'location': '/mnt/dj-stor01/platinum/minnie65/02/meshes', 'stage': '/mnt/dj-stor01/platinum/minnie65/02/meshes'}, 'decimated_meshes': {'protocol': 'file', 'location': '/mnt/dj-stor01/platinum/minnie65/02/decimated_meshes', 'stage': '/mnt/dj-stor01/platinum/minnie65/02/decimated_meshes'}, 'skeletons': {'protocol': 'file', 'location': '/mnt/dj-stor01/platinum/minnie65/02/skeletons'}}\n",
      "INFO - 2020-12-21 22:09:20,970 - settings - Setting enable_python_native_blobs to True\n",
      "INFO - 2020-12-21 22:09:20,979 - connection - Connected celiib@at-database.ad.bcm.edu:3306\n"
     ]
    },
    {
     "name": "stdout",
     "output_type": "stream",
     "text": [
      "Connecting celiib@at-database.ad.bcm.edu:3306\n"
     ]
    },
    {
     "name": "stderr",
     "output_type": "stream",
     "text": [
      "INFO - 2020-12-21 22:09:21,205 - settings - Setting enable_python_native_blobs to True\n"
     ]
    }
   ],
   "source": [
    "import numpy as np\n",
    "import datajoint as dj\n",
    "import trimesh\n",
    "from tqdm.notebook import tqdm\n",
    "from pathlib import Path\n",
    "\n",
    "from os import sys\n",
    "sys.path.append(\"/meshAfterParty/\")\n",
    "\n",
    "import datajoint_utils as du\n",
    "from importlib import reload"
   ]
  },
  {
   "cell_type": "markdown",
   "metadata": {},
   "source": [
    "# configuring the virtual module"
   ]
  },
  {
   "cell_type": "code",
   "execution_count": 3,
   "metadata": {},
   "outputs": [
    {
     "name": "stderr",
     "output_type": "stream",
     "text": [
      "INFO - 2020-12-21 22:09:21,277 - settings - Setting database.host to at-database.ad.bcm.edu\n",
      "INFO - 2020-12-21 22:09:21,278 - settings - Setting database.user to celiib\n",
      "INFO - 2020-12-21 22:09:21,279 - settings - Setting database.password to newceliipass\n",
      "INFO - 2020-12-21 22:09:21,280 - settings - Setting enable_python_native_blobs to True\n"
     ]
    },
    {
     "name": "stdout",
     "output_type": "stream",
     "text": [
      "Sleeping 17 sec before conneting\n",
      "Done sleeping\n",
      "Current path for external_segmentation_path = /mnt/dj-stor01/platinum/minnie65/02\n",
      "Current path for external_mesh_path = /mnt/dj-stor01/platinum/minnie65/02/meshes\n",
      "Current path for external_decimated_mesh_path = /mnt/dj-stor01/platinum/minnie65/02/decimated_meshes\n",
      "Current path for external_skeleton_path = /mnt/dj-stor01/platinum/minnie65/02/skeletons\n"
     ]
    },
    {
     "name": "stderr",
     "output_type": "stream",
     "text": [
      "INFO - 2020-12-21 22:09:21,506 - settings - Setting enable_python_native_blobs to True\n"
     ]
    }
   ],
   "source": [
    "import minfig\n",
    "import time\n",
    "import numpy as np\n",
    "#want to add in a wait for the connection part\n",
    "random_sleep_sec = np.random.randint(0, 30)\n",
    "print(f\"Sleeping {random_sleep_sec} sec before conneting\")\n",
    "#time.sleep(random_sleep_sec)\n",
    "print(\"Done sleeping\")\n",
    "\n",
    "du.config_celii()\n",
    "du.set_minnie65_config_segmentation(minfig)\n",
    "du.print_minnie65_config_paths(minfig)\n",
    "\n",
    "#configuring will include the adapters\n",
    "minnie,schema = du.configure_minnie_vm()"
   ]
  },
  {
   "cell_type": "markdown",
   "metadata": {},
   "source": [
    "# Defining Our Table"
   ]
  },
  {
   "cell_type": "code",
   "execution_count": 4,
   "metadata": {},
   "outputs": [],
   "source": [
    "import neuron_utils as nru\n",
    "import neuron\n",
    "import trimesh_utils as tu\n",
    "import numpy as np"
   ]
  },
  {
   "cell_type": "code",
   "execution_count": 5,
   "metadata": {},
   "outputs": [
    {
     "name": "stdout",
     "output_type": "stream",
     "text": [
      "No port chosen so picked random port 1813\n"
     ]
    }
   ],
   "source": [
    "import meshlab\n",
    "meshlab.set_meshlab_port(current_port=None)"
   ]
  },
  {
   "cell_type": "code",
   "execution_count": 6,
   "metadata": {},
   "outputs": [],
   "source": [
    "#so that it will have the adapter defined\n",
    "from datajoint_utils import *"
   ]
  },
  {
   "cell_type": "markdown",
   "metadata": {},
   "source": [
    "# Segment_id we are currently checking"
   ]
  },
  {
   "cell_type": "code",
   "execution_count": 7,
   "metadata": {},
   "outputs": [],
   "source": [
    "segment_id=864691135986871555"
   ]
  },
  {
   "cell_type": "markdown",
   "metadata": {},
   "source": [
    "# Debugging the neuron creation"
   ]
  },
  {
   "cell_type": "code",
   "execution_count": 9,
   "metadata": {},
   "outputs": [
    {
     "name": "stdout",
     "output_type": "stream",
     "text": [
      "\n",
      "\n",
      "----- Working on 864691135986871555-------\n",
      "somas = [[<trimesh.Trimesh(vertices.shape=(18873, 3), faces.shape=(37765, 3))>], array([811.6878]), array([0.688])]\n"
     ]
    }
   ],
   "source": [
    "#1) Get the segment id from the key\n",
    "description = \"0_25\"\n",
    "print(f\"\\n\\n----- Working on {segment_id}-------\")\n",
    "global_start = time.time()\n",
    "\n",
    "#2) Get the decimated mesh\n",
    "current_neuron_mesh = du.fetch_segment_id_mesh(segment_id)\n",
    "\n",
    "#3) Get the somas info *************************** Need to change this when actually run *******************\n",
    "somas = du.get_soma_mesh_list(segment_id) \n",
    "print(f\"somas = {somas}\")\n",
    "#4) Run the preprocessing\n",
    "\n",
    "\n",
    "total_neuron_process_time = time.time()"
   ]
  },
  {
   "cell_type": "code",
   "execution_count": 10,
   "metadata": {},
   "outputs": [
    {
     "name": "stderr",
     "output_type": "stream",
     "text": [
      "/usr/local/lib/python3.6/dist-packages/traittypes/traittypes.py:101: UserWarning: Given trait value dtype \"float64\" does not match required type \"float64\". A coerced copy has been created.\n",
      "  np.dtype(self.dtype).name))\n"
     ]
    },
    {
     "data": {
      "application/vnd.jupyter.widget-view+json": {
       "model_id": "779478f493b7486ca88e372d91cf13fb",
       "version_major": 2,
       "version_minor": 0
      },
      "text/plain": [
       "VBox(children=(Figure(camera=PerspectiveCamera(fov=46.0, position=(0.0, 0.0, 2.0), quaternion=(0.0, 0.0, 0.0, …"
      ]
     },
     "metadata": {},
     "output_type": "display_data"
    }
   ],
   "source": [
    "import neuron_visualizations as nviz\n",
    "nviz.plot_objects(current_neuron_mesh)"
   ]
  },
  {
   "cell_type": "code",
   "execution_count": 11,
   "metadata": {
    "scrolled": true
   },
   "outputs": [
    {
     "name": "stderr",
     "output_type": "stream",
     "text": [
      "INFO - 2020-12-21 22:10:04,603 - settings - Setting database.host to at-database.ad.bcm.edu\n",
      "INFO - 2020-12-21 22:10:04,604 - settings - Setting database.user to celiib\n",
      "INFO - 2020-12-21 22:10:04,605 - settings - Setting database.password to newceliipass\n",
      "INFO - 2020-12-21 22:10:04,607 - settings - Setting enable_python_native_blobs to True\n",
      "INFO - 2020-12-21 22:10:04,834 - settings - Setting enable_python_native_blobs to True\n"
     ]
    },
    {
     "name": "stdout",
     "output_type": "stream",
     "text": [
      "\n",
      "--- Beginning preprocessing of 864691135986871555---\n",
      "--- 0) Having to preprocess the Neuron becuase no preprocessed data\n",
      "Please wait this could take a while.....\n",
      "Skipping the hole filling\n",
      "use_meshafterparty = True\n",
      "Using pre-computed somas: soma_mesh_list = [<trimesh.Trimesh(vertices.shape=(18873, 3), faces.shape=(37765, 3))>]\n",
      "Soma List = [<trimesh.Trimesh(vertices.shape=(18873, 3), faces.shape=(37765, 3))>]\n",
      "soma_mesh_list_centers = [array([ 505425.88893128,  753232.99767392, 1094629.71668521])]\n",
      "xvfb-run -n 1813 -s \"-screen 0 800x600x24\" meshlabserver $@  -i /notebooks/Platinum_Datajoint/Neuron_Processing/Debugging_2/temp/neuron_67770.off -o /notebooks/Platinum_Datajoint/Neuron_Processing/Debugging_2/temp/neuron_67770_remove_interior.off -s /notebooks/Platinum_Datajoint/Neuron_Processing/Debugging_2/temp/remove_interior_828913.mls\n",
      "removed temporary input file: /notebooks/Platinum_Datajoint/Neuron_Processing/Debugging_2/temp/neuron_67770.off\n",
      "removed temporary output file: /notebooks/Platinum_Datajoint/Neuron_Processing/Debugging_2/temp/neuron_67770_remove_interior.off\n",
      "/notebooks/Platinum_Datajoint/Neuron_Processing/Debugging_2/temp/remove_interior_828913.mls is being deleted....\n",
      "Removing the following inside neurons: [<trimesh.Trimesh(vertices.shape=(1769, 3), faces.shape=(2827, 3))>, <trimesh.Trimesh(vertices.shape=(392, 3), faces.shape=(725, 3))>]\n",
      "Total time for removing interior = 97.3029956817627\n",
      "Total time for splitting mesh = 2.6234378814697266\n",
      "# total split meshes = 38\n",
      "There were 36 pieces found after size threshold\n",
      "\n",
      "-----Before filtering away multiple disconneted soma pieces-----\n",
      "# of soma containing seperate meshes = 1\n",
      "meshes with somas = {0: [0]}\n",
      "Number of not_processed_soma_containing_meshes = 0\n",
      "\n",
      "-----After filtering away multiple disconneted soma pieces-----\n",
      "# of soma containing seperate meshes = 1\n",
      "meshes with somas = {0: [0]}\n",
      "\n",
      "\n",
      "----Working on soma-containing mesh piece 0----\n",
      "\n",
      "inside Soma subtraction\n",
      "Total Time for soma mesh cancellation = 3.756\n",
      "Total time for Subtract Soam = 3.7567453384399414\n",
      "Total time for Original_mesh_faces_map for mesh_pieces without soma= 1.5374548435211182\n",
      "Total time for Original_mesh_faces_map for somas= 1.153717279434204\n",
      "new_floating_pieces = []\n",
      "Total time for sig_non_soma_pieces= 7.932779312133789\n",
      "Total time for split= 9.5367431640625e-07\n",
      "Total time for mesh_pieces_connectivity= 18.980322122573853\n",
      "# of insignificant_limbs = 3 with trimesh : [<trimesh.Trimesh(vertices.shape=(729, 3), faces.shape=(1435, 3))>, <trimesh.Trimesh(vertices.shape=(165, 3), faces.shape=(322, 3))>, <trimesh.Trimesh(vertices.shape=(158, 3), faces.shape=(309, 3))>]\n",
      "# of not_processed_soma_containing_meshes = 0 with trimesh : []\n",
      "\n",
      "\n",
      "----- Working on Proper Limb # 0 ---------\n",
      "meshparty_segment_size = 100\n",
      "root_curr = [ 507250.   742931.8 1093709. ]\n",
      "Time for preparing soma vertices and root: 0.00024962425231933594\n",
      "cc_vertex_thresh = 10\n"
     ]
    },
    {
     "name": "stderr",
     "output_type": "stream",
     "text": [
      "\r",
      "  0%|          | 0/1 [00:00<?, ?it/s]"
     ]
    },
    {
     "data": {
      "application/vnd.jupyter.widget-view+json": {
       "model_id": "e13bdf27badc4705a2f3fb95b92aee1c",
       "version_major": 2,
       "version_minor": 0
      },
      "text/plain": [
       "HBox(children=(FloatProgress(value=0.0, max=1142599.0), HTML(value='')))"
      ]
     },
     "metadata": {},
     "output_type": "display_data"
    },
    {
     "name": "stderr",
     "output_type": "stream",
     "text": [
      "100%|██████████| 1/1 [13:19<00:00, 799.11s/it]"
     ]
    },
    {
     "name": "stdout",
     "output_type": "stream",
     "text": [
      "\n"
     ]
    },
    {
     "name": "stderr",
     "output_type": "stream",
     "text": [
      "\n"
     ]
    },
    {
     "name": "stdout",
     "output_type": "stream",
     "text": [
      "meshparty_segment_size = 100\n",
      "Time for 1st pass MP skeletonization: 810.1952333450317\n",
      "connecting at the root\n",
      "branches_touching_root = [1511]\n",
      "length of Graph = 198865\n",
      "Working on path [1479. 1481. 1485.]\n",
      "path_degrees = [3, 2, 3]\n",
      "Working on path [1596. 1599. 1600.]\n",
      "path_degrees = [3, 2, 3]\n",
      "Working on path [2837. 2851. 2862. 2872. 2885. 2888.]\n",
      "path_degrees = [3, 2, 2, 2, 2, 3]\n",
      "Working on path [6407. 6423. 6441. 6463. 6484. 6485.]\n",
      "path_degrees = [3, 2, 2, 2, 2, 3]\n",
      "Working on path [6481. 6506. 6529. 6553. 6562.]\n",
      "path_degrees = [3, 2, 2, 2, 3]\n",
      "Working on path [8757. 8777. 8795. 8810.]\n",
      "path_degrees = [3, 2, 2, 3]\n",
      "Working on path [10114. 10132. 10145. 10161. 10176. 10183. 10185.]\n",
      "path_degrees = [3, 2, 2, 2, 2, 2, 3]\n",
      "Working on path [17190. 17234. 17276. 17321. 17379. 17429. 17465.]\n",
      "path_degrees = [3, 2, 2, 2, 2, 2, 3]\n",
      "Working on path [20160. 20245. 20334. 20410. 20442.]\n",
      "path_degrees = [3, 2, 2, 2, 3]\n",
      "Working on path [23189. 23325. 23428.]\n",
      "path_degrees = [3, 2, 3]\n",
      "Working on path [25480. 25573. 25672. 25764. 25864. 25970. 26040. 26054.]\n",
      "path_degrees = [3, 2, 2, 2, 2, 2, 2, 3]\n",
      "Working on path [26497. 26607. 26681.]\n",
      "path_degrees = [3, 2, 3]\n",
      "Working on path [35372. 35392. 35408.]\n",
      "path_degrees = [3, 2, 3]\n",
      "Working on path [35600. 35759. 35927. 36104. 36260. 36406. 36505.]\n",
      "path_degrees = [3, 2, 2, 2, 2, 2, 3]\n",
      "Working on path [38416. 38427. 38451. 38462. 38465.]\n",
      "path_degrees = [3, 2, 2, 2, 3]\n",
      "Working on path [39396. 39409. 39425. 39433. 39438.]\n",
      "path_degrees = [3, 2, 2, 2, 3]\n",
      "Working on path [41425. 41461. 41501. 41538. 41577. 41594.]\n",
      "path_degrees = [3, 2, 2, 2, 2, 3]\n",
      "Working on path [43472. 43561. 43579.]\n",
      "path_degrees = [3, 2, 3]\n",
      "Working on path [44629. 44683. 44762. 44829. 44900. 44971. 45049. 45062.]\n",
      "path_degrees = [3, 2, 2, 2, 2, 2, 2, 3]\n",
      "Working on path [44799. 44893. 44988. 45086. 45182. 45296. 45405. 45411.]\n",
      "path_degrees = [3, 2, 2, 2, 2, 2, 2, 3]\n",
      "Working on path [50084. 50080. 50079. 50082. 50091. 50093.]\n",
      "path_degrees = [3, 2, 2, 2, 2, 3]\n",
      "Working on path [50651. 50724. 50804. 50865. 50950. 50965.]\n",
      "path_degrees = [3, 2, 2, 2, 2, 3]\n",
      "Working on path [67790. 67898. 67997. 68101. 68228. 68297.]\n",
      "path_degrees = [3, 2, 2, 2, 2, 3]\n",
      "Working on path [71523. 71709. 71878. 72020. 72183. 72237.]\n",
      "path_degrees = [3, 2, 2, 2, 2, 3]\n",
      "Working on path [72686. 72728. 72764. 72802. 72811.]\n",
      "path_degrees = [3, 2, 2, 2, 3]\n",
      "Working on path [74006. 74155. 74294. 74438. 74573. 74716. 74855. 74981.]\n",
      "path_degrees = [3, 2, 2, 2, 2, 2, 2, 3]\n",
      "Working on path [74476. 74580. 74685. 74787. 74825.]\n",
      "path_degrees = [3, 2, 2, 2, 3]\n",
      "Working on path [77066. 77071. 77077. 77079. 77084. 77088. 77104. 77109.]\n",
      "path_degrees = [3, 2, 2, 2, 2, 2, 2, 3]\n",
      "Working on path [198892.  77091.  77101.  77114.  77119.]\n",
      "path_degrees = [4, 2, 2, 2, 3]\n",
      "Working on path [81216. 81289. 81354. 81418. 81460. 81482.]\n",
      "path_degrees = [3, 2, 2, 2, 2, 3]\n",
      "Working on path [85612. 85685. 85758. 85833. 85905. 85953.]\n",
      "path_degrees = [3, 2, 2, 2, 2, 3]\n",
      "Working on path [90731. 90841. 90974. 91091. 91116.]\n",
      "path_degrees = [3, 2, 2, 2, 3]\n",
      "Working on path [92884. 92914. 92924. 92922.]\n",
      "path_degrees = [3, 2, 2, 3]\n",
      "Working on path [93448. 93553. 93651. 93718.]\n",
      "path_degrees = [3, 2, 2, 3]\n",
      "Working on path [93903. 93914. 93930. 93952. 93977.]\n",
      "path_degrees = [3, 2, 2, 2, 3]\n",
      "Working on path [94327. 94395. 94427.]\n",
      "path_degrees = [3, 2, 3]\n",
      "Working on path [96776. 96872. 97013. 97136. 97229. 97301.]\n",
      "path_degrees = [3, 2, 2, 2, 2, 3]\n",
      "Working on path [99451. 99519. 99524.]\n",
      "path_degrees = [3, 2, 3]\n",
      "Working on path [103188. 103258. 103313. 103368. 103389.]\n",
      "path_degrees = [3, 2, 2, 2, 3]\n",
      "Working on path [103755. 103799. 103839. 103883. 103930. 103994. 104018.]\n",
      "path_degrees = [3, 2, 2, 2, 2, 2, 3]\n",
      "Working on path [198904. 103812. 103861. 103916. 103977. 104032. 104082. 104094.]\n",
      "path_degrees = [4, 2, 2, 2, 2, 2, 2, 3]\n",
      "Working on path [103896. 104027. 104155. 104293. 104436. 104554. 104669. 104697.]\n",
      "path_degrees = [3, 2, 2, 2, 2, 2, 2, 3]\n",
      "Working on path [104841. 104864. 104891. 104913. 104938.]\n",
      "path_degrees = [3, 2, 2, 2, 3]\n",
      "Working on path [109592. 109645. 109711. 109794. 109867. 109936. 109969.]\n",
      "path_degrees = [3, 2, 2, 2, 2, 2, 3]\n",
      "Working on path [198908. 110079. 110184. 110247. 110309. 110371. 110430. 110473.]\n",
      "path_degrees = [4, 2, 2, 2, 2, 2, 2, 3]\n",
      "Working on path [115676. 115709. 115741. 115779. 115828. 115877. 115931. 115972.]\n",
      "path_degrees = [3, 2, 2, 2, 2, 2, 2, 3]\n",
      "Working on path [115958. 115984. 116004. 116036. 116046. 116055.]\n",
      "path_degrees = [3, 2, 2, 2, 2, 3]\n",
      "Working on path [119579. 119572. 119560. 119561. 119575. 119594. 119634.]\n",
      "path_degrees = [3, 2, 2, 2, 2, 2, 3]\n",
      "Working on path [198912. 119741. 119838. 119944. 120040.]\n",
      "path_degrees = [4, 2, 2, 2, 3]\n",
      "Working on path [121332. 121365. 121377.]\n",
      "path_degrees = [3, 2, 3]\n",
      "Working on path [123395. 123405. 123429. 123440. 123448. 123453. 123446. 123444.]\n",
      "path_degrees = [3, 2, 2, 2, 2, 2, 2, 3]\n",
      "Working on path [123937. 124068. 124164.]\n",
      "path_degrees = [3, 2, 3]\n",
      "Working on path [124119. 124180. 124232. 124288. 124331. 124369. 124396. 124412.]\n",
      "path_degrees = [3, 2, 2, 2, 2, 2, 2, 4]\n",
      "Working on path [198917. 124535. 124669. 124808. 124935. 125055. 125123.]\n",
      "path_degrees = [5, 2, 2, 2, 2, 2, 3]\n",
      "Working on path [125517. 125532. 125541. 125556. 125564.]\n",
      "path_degrees = [3, 2, 2, 2, 3]\n",
      "Working on path [126225. 126314. 126382. 126456. 126458.]\n",
      "path_degrees = [3, 2, 2, 2, 3]\n",
      "Working on path [128204. 128242. 128292. 128338. 128395. 128440.]\n",
      "path_degrees = [3, 2, 2, 2, 2, 3]\n",
      "Working on path [130585. 130697. 130769.]\n",
      "path_degrees = [3, 2, 3]\n",
      "Working on path [198922. 130796. 130822. 130843.]\n",
      "path_degrees = [4, 2, 2, 3]\n",
      "Working on path [132619. 132631. 132633.]\n",
      "path_degrees = [3, 2, 3]\n",
      "Working on path [198924. 132739. 132829. 132908. 133003. 133047.]\n",
      "path_degrees = [4, 2, 2, 2, 2, 3]\n",
      "Working on path [133227. 133332. 133439. 133565. 133675. 133822. 133873.]\n",
      "path_degrees = [3, 2, 2, 2, 2, 2, 3]\n",
      "Working on path [133906. 133989. 134091. 134148.]\n",
      "path_degrees = [3, 2, 2, 3]\n",
      "Working on path [140517. 140535. 140553. 140578. 140610. 140648. 140649.]\n",
      "path_degrees = [3, 2, 2, 2, 2, 2, 3]\n",
      "Working on path [141286. 141421. 141547. 141656. 141789. 141946. 141984.]\n",
      "path_degrees = [3, 2, 2, 2, 2, 2, 3]\n",
      "Working on path [146418. 146477. 146499.]\n",
      "path_degrees = [3, 2, 3]\n",
      "Working on path [149891. 149974. 150045. 150121. 150191. 150259. 150300.]\n",
      "path_degrees = [3, 2, 2, 2, 2, 2, 3]\n",
      "Working on path [153115. 153159. 153199. 153230. 153235.]\n",
      "path_degrees = [3, 2, 2, 2, 3]\n",
      "Working on path [153194. 153224. 198932.]\n",
      "path_degrees = [3, 2, 4]\n",
      "Working on path [157341. 157410. 157479. 157557. 157628. 157683. 157743.]\n",
      "path_degrees = [3, 2, 2, 2, 2, 2, 3]\n",
      "Working on path [158459. 158529. 158607. 158688. 158784. 158884. 158934.]\n",
      "path_degrees = [3, 2, 2, 2, 2, 2, 3]\n",
      "Working on path [161619. 161638. 161646.]\n",
      "path_degrees = [3, 2, 3]\n",
      "Working on path [162830. 162846. 162868.]\n",
      "path_degrees = [3, 2, 3]\n",
      "Working on path [165137. 165163. 165182. 165191.]\n",
      "path_degrees = [3, 2, 2, 3]\n",
      "Working on path [169104. 169197. 169328. 169433. 169543. 169641. 169744. 169788.]\n",
      "path_degrees = [3, 2, 2, 2, 2, 2, 2, 3]\n",
      "Working on path [169902. 169944. 169985.]\n",
      "path_degrees = [3, 2, 3]\n",
      "Working on path [169971. 169974. 169980. 169990. 170006. 170010. 170019.]\n",
      "path_degrees = [3, 2, 2, 2, 2, 2, 3]\n",
      "Working on path [169973. 170126. 170237. 170375. 170528. 170658. 170757.]\n",
      "path_degrees = [3, 2, 2, 2, 2, 2, 3]\n",
      "Working on path [170100. 170117. 170138. 170159. 170160.]\n",
      "path_degrees = [3, 2, 2, 2, 3]\n",
      "Working on path [170850. 170910. 170974. 171036. 171152. 171187.]\n",
      "path_degrees = [3, 2, 2, 2, 2, 3]\n",
      "Working on path [172941. 172983. 173018. 173059. 173080.]\n",
      "path_degrees = [3, 2, 2, 2, 3]\n",
      "Working on path [174501. 174506. 174510. 174508. 174505. 174504. 174503.]\n",
      "path_degrees = [3, 2, 2, 2, 2, 2, 3]\n",
      "Working on path [198946. 174538. 174564. 174574.]\n",
      "path_degrees = [4, 2, 2, 3]\n",
      "Working on path [185148. 185172. 185196. 185212. 185226. 185249. 185270. 185281.]\n",
      "path_degrees = [3, 2, 2, 2, 2, 2, 2, 3]\n",
      "Working on path [186986. 186998. 187014. 187035. 187049. 187063. 187072.]\n",
      "path_degrees = [3, 2, 2, 2, 2, 2, 3]\n",
      "Working on path [187034. 187094. 187156. 187218. 187271. 187323. 187373.]\n",
      "path_degrees = [3, 2, 2, 2, 2, 2, 3]\n",
      "Working on path [198950. 187415. 187433.]\n",
      "path_degrees = [4, 2, 3]\n",
      "Working on path [189096. 189104. 189115. 189119.]\n",
      "path_degrees = [3, 2, 2, 3]\n"
     ]
    },
    {
     "name": "stdout",
     "output_type": "stream",
     "text": [
      "Working on path [190191. 190219. 190242. 190264. 190280. 190301.]\n",
      "path_degrees = [3, 2, 2, 2, 2, 3]\n",
      "Working on path [190275. 190296.]\n",
      "path_degrees = [3, 3]\n",
      "Working on path [192133. 192178. 192212. 192256. 192315. 192332.]\n",
      "path_degrees = [3, 2, 2, 2, 2, 3]\n",
      "Working on path [192743. 192752. 192754. 192759. 192763. 192764. 192766.]\n",
      "path_degrees = [3, 2, 2, 2, 2, 2, 3]\n",
      "max(kept_branches_idx) = 1511, len(kept_branches_idx) = 1420\n",
      "empty_indices % = 0.0\n",
      " conflict_indices % = 0.01678880535725567\n"
     ]
    },
    {
     "data": {
      "application/vnd.jupyter.widget-view+json": {
       "model_id": "499e0ad09fe44e9c9e29581b7a093c29",
       "version_major": 2,
       "version_minor": 0
      },
      "text/plain": [
       "HBox(children=(FloatProgress(value=0.0, max=695.0), HTML(value='')))"
      ]
     },
     "metadata": {},
     "output_type": "display_data"
    },
    {
     "name": "stdout",
     "output_type": "stream",
     "text": [
      "\n",
      "AFTER face_lookup_resolved_test\n"
     ]
    },
    {
     "data": {
      "application/vnd.jupyter.widget-view+json": {
       "model_id": "8c140554bf8a4731bfd11621420072e7",
       "version_major": 2,
       "version_minor": 0
      },
      "text/plain": [
       "HBox(children=(FloatProgress(value=0.0, max=1420.0), HTML(value='')))"
      ]
     },
     "metadata": {},
     "output_type": "display_data"
    },
    {
     "name": "stdout",
     "output_type": "stream",
     "text": [
      "\n",
      "Decomposing first pass: 694.6506798267365\n",
      "Attempting to use MeshAfterParty Skeletonization and Mesh Correspondence\n",
      "Another print\n",
      "Found len(mesh_large_idx) MAP candidates: [2737, 8748, 108, 4719, 20957, 374, 122, 146, 7833, 13469, 1660, 5452, 851, 828, 878, 863, 297, 50191, 14119, 5986, 61, 16113, 20651, 439, 77, 3977, 11029, 28923, 22394, 2321, 17928, 5551, 2966, 31812, 12542]\n",
      "mesh_large_connectivity: 0.8133070468902588\n",
      "Finding MAP candidates connected components: 0.0004525184631347656\n",
      "len(filtered_pieces) = 6\n",
      "skeleton_connectivity_MP : 7.3429625034332275\n",
      "Grouping MP Sublimbs by Graph: 2.6037445068359375\n",
      "Divinding into MP and MAP pieces: 1.1920928955078125e-06\n",
      "--- Working on MAP piece 0---\n",
      "MAP Filtering Soma Pieces: 0.010055065155029297\n",
      "inside skeletonize_connected_branch and use_surface_after_CGAL=False, surface_reconstruction_size=1000\n",
      "     Starting Screened Poisson\n",
      "xvfb-run -n 1813 -s \"-screen 0 800x600x24\" meshlabserver $@  -i /notebooks/Platinum_Datajoint/Neuron_Processing/Debugging_2/temp/None.off -o /notebooks/Platinum_Datajoint/Neuron_Processing/Debugging_2/temp/None_poisson.off -s /notebooks/Platinum_Datajoint/Neuron_Processing/Debugging_2/temp/poisson_894906.mls\n",
      "removed temporary input file: /notebooks/Platinum_Datajoint/Neuron_Processing/Debugging_2/temp/None.off\n",
      "removed temporary output file: /notebooks/Platinum_Datajoint/Neuron_Processing/Debugging_2/temp/None_poisson.off\n",
      "Using the close holes feature\n",
      "xvfb-run -n 1813 -s \"-screen 0 800x600x24\" meshlabserver $@  -i /notebooks/Platinum_Datajoint/Neuron_Processing/Debugging_2/temp/neuron_80284.off -o /notebooks/Platinum_Datajoint/Neuron_Processing/Debugging_2/temp/neuron_80284_fill_holes.off -s /notebooks/Platinum_Datajoint/Neuron_Processing/Debugging_2/temp/fill_holes_488637.mls\n",
      "removed temporary input file: /notebooks/Platinum_Datajoint/Neuron_Processing/Debugging_2/temp/neuron_80284.off\n",
      "removed temporary output file: /notebooks/Platinum_Datajoint/Neuron_Processing/Debugging_2/temp/neuron_80284_fill_holes.off\n",
      "-----Time for Screened Poisson= 5.832946062088013\n",
      "mesh_pieces = [<trimesh.Trimesh(vertices.shape=(3162, 3), faces.shape=(6320, 3))>]\n",
      "     Starting Calcification (12/2 Change only going to do the largest piece)\n",
      "min_edge_length = 75\n"
     ]
    },
    {
     "data": {
      "application/vnd.jupyter.widget-view+json": {
       "model_id": "bcbae8a2dda240908ba28302b8d395fc",
       "version_major": 2,
       "version_minor": 0
      },
      "text/plain": [
       "HBox(children=(FloatProgress(value=1.0, bar_style='info', max=1.0), HTML(value='')))"
      ]
     },
     "metadata": {},
     "output_type": "display_data"
    },
    {
     "name": "stdout",
     "output_type": "stream",
     "text": [
      "\n",
      "No skeletons to stack so returning empty list\n",
      "The process was using a temp folder\n",
      "Checking connected components after skeletonize_connected_branch\n",
      "    Total time for skeletonizing branch: 6.066757440567017\n",
      "Checking connected components after removing cycles\n",
      "    Total time for Fixing Skeleton Soma Endpoint Extension : 0.00605320930480957\n",
      "filter_end_node_length = 4500\n",
      "Using Distance measure skeletal_distance\n",
      "no small end nodes to get rid of so returning whole skeleton\n",
      "Checking connected components after clean_skeleton\n",
      "after DISTANCE cleaning limb size of skeleton = (125, 2, 3)\n",
      "********COMBINING CLOSE SKELETON NODES WITHIN 700 DISTANCE**********\n",
      "Found 0 valid paths to replace\n",
      "valid_paths = []\n",
      "valid_path_lengths = []\n",
      "No valid paths found so just returning the original\n",
      "Inside MAP decomposition and curr_limb_endpoints_must_keep was None\n",
      "skeletonize_and_clean_connected_branch_CGAL: 6.193951368331909\n",
      "Working on limb correspondence for #0 MAP piece\n"
     ]
    },
    {
     "data": {
      "application/vnd.jupyter.widget-view+json": {
       "model_id": "ba92af8294d04f0eb2db1fd180cc5818",
       "version_major": 2,
       "version_minor": 0
      },
      "text/plain": [
       "HBox(children=(FloatProgress(value=1.0, bar_style='info', max=1.0), HTML(value='')))"
      ]
     },
     "metadata": {},
     "output_type": "display_data"
    },
    {
     "name": "stdout",
     "output_type": "stream",
     "text": [
      "\n",
      "Total time for decomposition = 0.26688528060913086\n",
      "mesh_correspondence_first_pass: 0.26691126823425293\n",
      "Limb decomposed into 1 branches\n",
      "divided_skeleton_graph_recovered = (125, 2, 3) and \n",
      "current_mesh_data[0]['branch_skeletons_cleaned'].shape = (125, 2, 3)\n",
      "\n",
      "Number of connected components in deocmposed recovered graph = 1\n",
      "Number of connected components in cleaned skeleton graph= 1\n",
      "The downsampled branches number of connected components = 1\n",
      "Empty submeshes = []\n",
      "\n",
      "\n",
      "--- Working on 1-to-1 correspondence-----\n",
      "max(original_labels),len(original_labels) = (0, 1)\n",
      "empty_indices % = 0.010230179028132993\n",
      " conflict_indices % = 0.0\n"
     ]
    },
    {
     "data": {
      "application/vnd.jupyter.widget-view+json": {
       "model_id": "5877dbd3f4bd4b478ca432041ccb3da4",
       "version_major": 2,
       "version_minor": 0
      },
      "text/plain": [
       "HBox(children=(FloatProgress(value=0.0, max=2.0), HTML(value='')))"
      ]
     },
     "metadata": {},
     "output_type": "display_data"
    },
    {
     "name": "stdout",
     "output_type": "stream",
     "text": [
      "\n",
      "AFTER face_lookup_resolved_test\n"
     ]
    },
    {
     "data": {
      "application/vnd.jupyter.widget-view+json": {
       "model_id": "d71d2c7a07e844b6953a46cd50ff9795",
       "version_major": 2,
       "version_minor": 0
      },
      "text/plain": [
       "HBox(children=(FloatProgress(value=0.0, max=1.0), HTML(value='')))"
      ]
     },
     "metadata": {},
     "output_type": "display_data"
    },
    {
     "name": "stdout",
     "output_type": "stream",
     "text": [
      "\n",
      "Total time for MAP sublimb #0 mesh processing = 6.627354383468628\n",
      "correspondence_1_to_1: 0.15648531913757324\n",
      "--- Working on MAP piece 1---\n",
      "MAP Filtering Soma Pieces: 0.012516975402832031\n",
      "inside skeletonize_connected_branch and use_surface_after_CGAL=False, surface_reconstruction_size=1000\n",
      "The mesh passed has 22 pieces so just taking the largest one <trimesh.Trimesh(vertices.shape=(82324, 3), faces.shape=(164094, 3))>\n",
      "     Starting Screened Poisson\n",
      "xvfb-run -n 1813 -s \"-screen 0 800x600x24\" meshlabserver $@  -i /notebooks/Platinum_Datajoint/Neuron_Processing/Debugging_2/temp/None.off -o /notebooks/Platinum_Datajoint/Neuron_Processing/Debugging_2/temp/None_poisson.off -s /notebooks/Platinum_Datajoint/Neuron_Processing/Debugging_2/temp/poisson_832559.mls\n",
      "removed temporary input file: /notebooks/Platinum_Datajoint/Neuron_Processing/Debugging_2/temp/None.off\n",
      "removed temporary output file: /notebooks/Platinum_Datajoint/Neuron_Processing/Debugging_2/temp/None_poisson.off\n",
      "Using the close holes feature\n",
      "xvfb-run -n 1813 -s \"-screen 0 800x600x24\" meshlabserver $@  -i /notebooks/Platinum_Datajoint/Neuron_Processing/Debugging_2/temp/neuron_19031.off -o /notebooks/Platinum_Datajoint/Neuron_Processing/Debugging_2/temp/neuron_19031_fill_holes.off -s /notebooks/Platinum_Datajoint/Neuron_Processing/Debugging_2/temp/fill_holes_897666.mls\n",
      "removed temporary input file: /notebooks/Platinum_Datajoint/Neuron_Processing/Debugging_2/temp/neuron_19031.off\n",
      "removed temporary output file: /notebooks/Platinum_Datajoint/Neuron_Processing/Debugging_2/temp/neuron_19031_fill_holes.off\n",
      "-----Time for Screened Poisson= 41.2418749332428\n",
      "mesh_pieces = [<trimesh.Trimesh(vertices.shape=(192277, 3), faces.shape=(384606, 3))>, <trimesh.Trimesh(vertices.shape=(681, 3), faces.shape=(1358, 3))>]\n",
      "     Starting Calcification (12/2 Change only going to do the largest piece)\n",
      "min_edge_length = 75\n",
      "node_degrees = [3 2 2 2 2 2 2 2 2 3 2 2 2 2 2 3 2 2 2 2 2]\n",
      "node_degrees = [3 3 2 2 2 2 2 2 2 2 2 2 2 2 2 2 3 2 2 2 2]\n",
      "node_degrees = [2 2 2 2 2 2 2 3 2 2 3 4 2 2 2 2 2 2]\n",
      "node_degrees = [2 2 2 2 2 2 2 3 2 2 2 2 2 2]\n",
      "node_degrees = [3 2 2 2 2 2 3 2 2 2 2]\n",
      "node_degrees = [3 3 2 2 2 2 2 4 2 2]\n",
      "node_degrees = [2 2 2 2 4 2 2]\n",
      "node_degrees = [2 2 3]\n"
     ]
    },
    {
     "data": {
      "application/vnd.jupyter.widget-view+json": {
       "model_id": "3a89e1f0f10d4446961f4935e7b5f913",
       "version_major": 2,
       "version_minor": 0
      },
      "text/plain": [
       "HBox(children=(FloatProgress(value=1.0, bar_style='info', max=1.0), HTML(value='')))"
      ]
     },
     "metadata": {},
     "output_type": "display_data"
    },
    {
     "name": "stdout",
     "output_type": "stream",
     "text": [
      "\n",
      "No skeletons to stack so returning empty list\n",
      "The process was using a temp folder\n",
      "Checking connected components after skeletonize_connected_branch\n",
      "    Total time for skeletonizing branch: 62.47721314430237\n",
      "Checking connected components after removing cycles\n",
      "Total time for mesh KDTree = 0.98995041847229\n",
      "sbv[0].reshape(-1,3) = [[ 507250.   742931.8 1093709. ]]\n",
      "closest_sk_pt_coord BEFORE = [ 505756.  743051. 1093100.]\n",
      "current_skeleton.shape = (5435, 2, 3)\n",
      "Current stitch point was not a branch or endpoint, shortest_path_length to one = 5702.830953385707\n",
      "change_status for create soma extending pieces = False\n",
      "closest_sk_pt_coord AFTER = [ 505756.  743051. 1093100.]\n",
      "Adding new branch to skeleton\n",
      "border_average_coordinate = [ 505727.6         742836.12884615 1092956.10576923]\n",
      "endpoints_must_keep = {0: array([[ 505727.6       ,  742836.12884615, 1092956.10576923]])}\n",
      "    Total time for Fixing Skeleton Soma Endpoint Extension : 5.910914421081543\n",
      "filter_end_node_length = 4500\n",
      "Using Distance measure skeletal_distance\n",
      "endpoints_must_keep = [[ 505727.6         742836.12884615 1092956.10576923]]\n",
      "Number of end_nodes BEFORE filtering = 217\n",
      "all_single_nodes_to_eliminate = [15]\n"
     ]
    },
    {
     "data": {
      "application/vnd.jupyter.widget-view+json": {
       "model_id": "bdc59c4e885442abb2af308f206a9d1c",
       "version_major": 2,
       "version_minor": 0
      },
      "text/plain": [
       "HBox(children=(FloatProgress(value=0.0, max=211.0), HTML(value='')))"
      ]
     },
     "metadata": {},
     "output_type": "display_data"
    },
    {
     "name": "stdout",
     "output_type": "stream",
     "text": [
      "\n",
      "Checking connected components after clean_skeleton\n",
      "after DISTANCE cleaning limb size of skeleton = (4061, 2, 3)\n",
      "high-degree endpoints were connected so just using that connection\n",
      "curr_branch = {2309.0, 2312.0, 2281.0, 2289.0, 2258, 2264.0, 2298.0, 2270.0}\n",
      "********COMBINING CLOSE SKELETON NODES WITHIN 700 DISTANCE**********\n",
      "Found 0 valid paths to replace\n",
      "valid_paths = []\n",
      "valid_path_lengths = []\n",
      "No valid paths found so just returning the original\n",
      "node_degrees = [2 2 2 2 2 2 2 2 2 3 2 2 2 2 2 3 2 2 2 2 2]\n",
      "node_degrees = [2 3 2 2 2 2 2 2 2 2 2 2 2 2 2 2 3 2 2 2 2]\n",
      "node_degrees = [2 2 2 2 2 2 2 3 2 2 2 3 2 2 2 2 2 2]\n",
      "high-degree endpoints were connected so just using that connection\n",
      "curr_branch = {2309.0, 2312.0, 2281.0, 2289.0, 2258, 2264.0, 2298.0, 2270.0}\n",
      "skeletonize_and_clean_connected_branch_CGAL: 89.65814137458801\n",
      "Working on limb correspondence for #1 MAP piece\n"
     ]
    },
    {
     "data": {
      "application/vnd.jupyter.widget-view+json": {
       "model_id": "7f8670b1fba64828937446b9574bbde4",
       "version_major": 2,
       "version_minor": 0
      },
      "text/plain": [
       "HBox(children=(FloatProgress(value=1.0, bar_style='info', max=1.0), HTML(value='')))"
      ]
     },
     "metadata": {},
     "output_type": "display_data"
    },
    {
     "name": "stdout",
     "output_type": "stream",
     "text": [
      "\n",
      "Total time for decomposition = 19.72997236251831\n",
      "mesh_correspondence_first_pass: 19.73000478744507\n",
      "Limb decomposed into 24 branches\n",
      "divided_skeleton_graph_recovered = (4052, 2, 3) and \n",
      "current_mesh_data[0]['branch_skeletons_cleaned'].shape = (4052, 2, 3)\n",
      "\n",
      "Number of connected components in deocmposed recovered graph = 1\n",
      "Number of connected components in cleaned skeleton graph= 1\n",
      "**** Warning: There were redundant edges in the skeleton*****\n",
      "The downsampled branches number of connected components = 1\n",
      "Empty submeshes = []\n",
      "\n",
      "\n",
      "--- Working on 1-to-1 correspondence-----\n",
      "max(original_labels),len(original_labels) = (23, 24)\n",
      "empty_indices % = 0.06875666453401579\n",
      " conflict_indices % = 0.04220820765926332\n"
     ]
    },
    {
     "data": {
      "application/vnd.jupyter.widget-view+json": {
       "model_id": "3598669cb99045f0a05e049e1bfba785",
       "version_major": 2,
       "version_minor": 0
      },
      "text/plain": [
       "HBox(children=(FloatProgress(value=0.0, max=303.0), HTML(value='')))"
      ]
     },
     "metadata": {},
     "output_type": "display_data"
    },
    {
     "name": "stdout",
     "output_type": "stream",
     "text": [
      "\n",
      "AFTER face_lookup_resolved_test\n",
      "Took 1 iterations to expand the label back\n",
      "empty_indices % = 0.0\n",
      " conflict_indices % = 0.0001035859001310057\n"
     ]
    },
    {
     "data": {
      "application/vnd.jupyter.widget-view+json": {
       "model_id": "47fa2940cf98481f9b3c5f974ee6c3a4",
       "version_major": 2,
       "version_minor": 0
      },
      "text/plain": [
       "HBox(children=(FloatProgress(value=0.0, max=1.0), HTML(value='')))"
      ]
     },
     "metadata": {},
     "output_type": "display_data"
    },
    {
     "name": "stdout",
     "output_type": "stream",
     "text": [
      "\n",
      "AFTER face_lookup_resolved_test\n"
     ]
    },
    {
     "data": {
      "application/vnd.jupyter.widget-view+json": {
       "model_id": "804eaeb323ca4be2ada4087922cbbb9f",
       "version_major": 2,
       "version_minor": 0
      },
      "text/plain": [
       "HBox(children=(FloatProgress(value=0.0, max=24.0), HTML(value='')))"
      ]
     },
     "metadata": {},
     "output_type": "display_data"
    },
    {
     "name": "stdout",
     "output_type": "stream",
     "text": [
      "\n",
      "Total time for MAP sublimb #1 mesh processing = 122.45500802993774\n",
      "correspondence_1_to_1: 13.054308891296387\n",
      "--- Working on MAP piece 2---\n",
      "MAP Filtering Soma Pieces: 0.006262779235839844\n",
      "inside skeletonize_connected_branch and use_surface_after_CGAL=False, surface_reconstruction_size=1000\n",
      "The mesh passed has 9 pieces so just taking the largest one <trimesh.Trimesh(vertices.shape=(50179, 3), faces.shape=(99978, 3))>\n",
      "     Starting Screened Poisson\n",
      "xvfb-run -n 1813 -s \"-screen 0 800x600x24\" meshlabserver $@  -i /notebooks/Platinum_Datajoint/Neuron_Processing/Debugging_2/temp/None.off -o /notebooks/Platinum_Datajoint/Neuron_Processing/Debugging_2/temp/None_poisson.off -s /notebooks/Platinum_Datajoint/Neuron_Processing/Debugging_2/temp/poisson_104594.mls\n",
      "removed temporary input file: /notebooks/Platinum_Datajoint/Neuron_Processing/Debugging_2/temp/None.off\n",
      "removed temporary output file: /notebooks/Platinum_Datajoint/Neuron_Processing/Debugging_2/temp/None_poisson.off\n",
      "Using the close holes feature\n",
      "xvfb-run -n 1813 -s \"-screen 0 800x600x24\" meshlabserver $@  -i /notebooks/Platinum_Datajoint/Neuron_Processing/Debugging_2/temp/neuron_70442.off -o /notebooks/Platinum_Datajoint/Neuron_Processing/Debugging_2/temp/neuron_70442_fill_holes.off -s /notebooks/Platinum_Datajoint/Neuron_Processing/Debugging_2/temp/fill_holes_373548.mls\n",
      "removed temporary input file: /notebooks/Platinum_Datajoint/Neuron_Processing/Debugging_2/temp/neuron_70442.off\n",
      "removed temporary output file: /notebooks/Platinum_Datajoint/Neuron_Processing/Debugging_2/temp/neuron_70442_fill_holes.off\n",
      "-----Time for Screened Poisson= 22.304866790771484\n",
      "mesh_pieces = [<trimesh.Trimesh(vertices.shape=(93129, 3), faces.shape=(186270, 3))>]\n",
      "     Starting Calcification (12/2 Change only going to do the largest piece)\n",
      "min_edge_length = 75\n",
      "node_degrees = [2 2 2 2 2 2 2 2 2 3 2 2 3]\n",
      "node_degrees = [2 2 3 3 2 2 3 2]\n"
     ]
    },
    {
     "data": {
      "application/vnd.jupyter.widget-view+json": {
       "model_id": "17f7ba174a004a959753dc94ca31179b",
       "version_major": 2,
       "version_minor": 0
      },
      "text/plain": [
       "HBox(children=(FloatProgress(value=1.0, bar_style='info', max=1.0), HTML(value='')))"
      ]
     },
     "metadata": {},
     "output_type": "display_data"
    },
    {
     "name": "stdout",
     "output_type": "stream",
     "text": [
      "\n",
      "No skeletons to stack so returning empty list\n",
      "The process was using a temp folder\n",
      "Checking connected components after skeletonize_connected_branch\n",
      "    Total time for skeletonizing branch: 30.27339768409729\n",
      "Checking connected components after removing cycles\n",
      "Total time for mesh KDTree = 0.6790421009063721\n",
      "sbv[0].reshape(-1,3) = [[ 506698.5  745804.5 1089249. ]]\n",
      "closest_sk_pt_coord BEFORE = [ 506783.  745470. 1089390.]\n",
      "current_skeleton.shape = (3124, 2, 3)\n",
      "Current stitch point was not a branch or endpoint, shortest_path_length to one = 1588.1499441477627\n",
      "change_status for create soma extending pieces = False\n",
      "closest_sk_pt_coord AFTER = [ 506783.  745470. 1089390.]\n",
      "Adding new branch to skeleton\n",
      "border_average_coordinate = [ 506761.47647059  745479.69411765 1089387.38235294]\n",
      "endpoints_must_keep = {0: array([[ 506761.47647059,  745479.69411765, 1089387.38235294]])}\n",
      "    Total time for Fixing Skeleton Soma Endpoint Extension : 1.7380955219268799\n",
      "filter_end_node_length = 4500\n",
      "Using Distance measure skeletal_distance\n",
      "endpoints_must_keep = [[ 506761.47647059  745479.69411765 1089387.38235294]]\n",
      "Number of end_nodes BEFORE filtering = 102\n",
      "all_single_nodes_to_eliminate = [30]\n"
     ]
    },
    {
     "data": {
      "application/vnd.jupyter.widget-view+json": {
       "model_id": "cd976294d3174959900644d310b2e4f8",
       "version_major": 2,
       "version_minor": 0
      },
      "text/plain": [
       "HBox(children=(FloatProgress(value=0.0, max=101.0), HTML(value='')))"
      ]
     },
     "metadata": {},
     "output_type": "display_data"
    },
    {
     "name": "stdout",
     "output_type": "stream",
     "text": [
      "\n",
      "Checking connected components after clean_skeleton\n",
      "after DISTANCE cleaning limb size of skeleton = (2572, 2, 3)\n",
      "in remove edge\n",
      "********COMBINING CLOSE SKELETON NODES WITHIN 700 DISTANCE**********\n",
      "Found 0 valid paths to replace\n",
      "valid_paths = []\n",
      "valid_path_lengths = []\n",
      "No valid paths found so just returning the original\n",
      "in remove edge\n",
      "skeletonize_and_clean_connected_branch_CGAL: 41.54773950576782\n",
      "Working on limb correspondence for #2 MAP piece\n"
     ]
    },
    {
     "data": {
      "application/vnd.jupyter.widget-view+json": {
       "model_id": "b21699f348cb4cf48af82649248a38bd",
       "version_major": 2,
       "version_minor": 0
      },
      "text/plain": [
       "HBox(children=(FloatProgress(value=1.0, bar_style='info', max=1.0), HTML(value='')))"
      ]
     },
     "metadata": {},
     "output_type": "display_data"
    },
    {
     "name": "stdout",
     "output_type": "stream",
     "text": [
      "\n",
      "Total time for decomposition = 12.340285301208496\n",
      "mesh_correspondence_first_pass: 12.340317010879517\n",
      "Limb decomposed into 5 branches\n",
      "divided_skeleton_graph_recovered = (2571, 2, 3) and \n",
      "current_mesh_data[0]['branch_skeletons_cleaned'].shape = (2571, 2, 3)\n",
      "\n",
      "Number of connected components in deocmposed recovered graph = 1\n",
      "Number of connected components in cleaned skeleton graph= 1\n",
      "The downsampled branches number of connected components = 1\n",
      "Empty submeshes = []\n",
      "\n",
      "\n",
      "--- Working on 1-to-1 correspondence-----\n",
      "max(original_labels),len(original_labels) = (4, 5)\n",
      "empty_indices % = 0.07060917919329512\n",
      " conflict_indices % = 0.008581115545020853\n"
     ]
    },
    {
     "data": {
      "application/vnd.jupyter.widget-view+json": {
       "model_id": "f474e3d30a1d4072bc24ea6e2d92ba87",
       "version_major": 2,
       "version_minor": 0
      },
      "text/plain": [
       "HBox(children=(FloatProgress(value=0.0, max=184.0), HTML(value='')))"
      ]
     },
     "metadata": {},
     "output_type": "display_data"
    },
    {
     "name": "stdout",
     "output_type": "stream",
     "text": [
      "\n",
      "AFTER face_lookup_resolved_test\n",
      "Took 0 iterations to expand the label back\n",
      "empty_indices % = 0.0\n",
      " conflict_indices % = 0.0\n"
     ]
    },
    {
     "data": {
      "application/vnd.jupyter.widget-view+json": {
       "model_id": "35092e31be3a4419bc671e2cec5f1873",
       "version_major": 2,
       "version_minor": 0
      },
      "text/plain": [
       "HBox(children=(FloatProgress(value=1.0, bar_style='info', max=1.0), HTML(value='')))"
      ]
     },
     "metadata": {},
     "output_type": "display_data"
    },
    {
     "name": "stdout",
     "output_type": "stream",
     "text": [
      "\n",
      "AFTER face_lookup_resolved_test\n"
     ]
    },
    {
     "data": {
      "application/vnd.jupyter.widget-view+json": {
       "model_id": "465c1606469f490b8a5617a17795f560",
       "version_major": 2,
       "version_minor": 0
      },
      "text/plain": [
       "HBox(children=(FloatProgress(value=0.0, max=5.0), HTML(value='')))"
      ]
     },
     "metadata": {},
     "output_type": "display_data"
    },
    {
     "name": "stdout",
     "output_type": "stream",
     "text": [
      "\n",
      "Total time for MAP sublimb #2 mesh processing = 62.03778004646301\n",
      "correspondence_1_to_1: 8.143418788909912\n",
      "--- Working on MAP piece 3---\n",
      "MAP Filtering Soma Pieces: 0.002532958984375\n",
      "inside skeletonize_connected_branch and use_surface_after_CGAL=False, surface_reconstruction_size=1000\n",
      "The mesh passed has 5 pieces so just taking the largest one <trimesh.Trimesh(vertices.shape=(20095, 3), faces.shape=(40094, 3))>\n",
      "     Starting Screened Poisson\n",
      "xvfb-run -n 1813 -s \"-screen 0 800x600x24\" meshlabserver $@  -i /notebooks/Platinum_Datajoint/Neuron_Processing/Debugging_2/temp/None.off -o /notebooks/Platinum_Datajoint/Neuron_Processing/Debugging_2/temp/None_poisson.off -s /notebooks/Platinum_Datajoint/Neuron_Processing/Debugging_2/temp/poisson_625540.mls\n",
      "removed temporary input file: /notebooks/Platinum_Datajoint/Neuron_Processing/Debugging_2/temp/None.off\n",
      "removed temporary output file: /notebooks/Platinum_Datajoint/Neuron_Processing/Debugging_2/temp/None_poisson.off\n",
      "Using the close holes feature\n",
      "xvfb-run -n 1813 -s \"-screen 0 800x600x24\" meshlabserver $@  -i /notebooks/Platinum_Datajoint/Neuron_Processing/Debugging_2/temp/neuron_98810.off -o /notebooks/Platinum_Datajoint/Neuron_Processing/Debugging_2/temp/neuron_98810_fill_holes.off -s /notebooks/Platinum_Datajoint/Neuron_Processing/Debugging_2/temp/fill_holes_906172.mls\n",
      "removed temporary input file: /notebooks/Platinum_Datajoint/Neuron_Processing/Debugging_2/temp/neuron_98810.off\n",
      "removed temporary output file: /notebooks/Platinum_Datajoint/Neuron_Processing/Debugging_2/temp/neuron_98810_fill_holes.off\n",
      "-----Time for Screened Poisson= 13.50788950920105\n",
      "mesh_pieces = [<trimesh.Trimesh(vertices.shape=(41396, 3), faces.shape=(82812, 3))>]\n",
      "     Starting Calcification (12/2 Change only going to do the largest piece)\n",
      "min_edge_length = 75\n",
      "node_degrees = [2 2 2 3 2 2 2 3 2 2 2 2 2 2 2 2 2]\n",
      "node_degrees = [4 3 2 2 2 3 2 2 2 2 2 2 2 2]\n",
      "node_degrees = [3 3 2 2]\n",
      "node_degrees = [3 3 2]\n"
     ]
    },
    {
     "data": {
      "application/vnd.jupyter.widget-view+json": {
       "model_id": "88ce74e931d04bce96ad8bb68285ce23",
       "version_major": 2,
       "version_minor": 0
      },
      "text/plain": [
       "HBox(children=(FloatProgress(value=1.0, bar_style='info', max=1.0), HTML(value='')))"
      ]
     },
     "metadata": {},
     "output_type": "display_data"
    },
    {
     "name": "stdout",
     "output_type": "stream",
     "text": [
      "\n",
      "No skeletons to stack so returning empty list\n",
      "The process was using a temp folder\n",
      "Checking connected components after skeletonize_connected_branch\n",
      "    Total time for skeletonizing branch: 16.631004810333252\n",
      "Checking connected components after removing cycles\n",
      "    Total time for Fixing Skeleton Soma Endpoint Extension : 0.059868812561035156\n",
      "filter_end_node_length = 4500\n",
      "Using Distance measure skeletal_distance\n"
     ]
    },
    {
     "data": {
      "application/vnd.jupyter.widget-view+json": {
       "model_id": "56d25b219f7244d5951ce54832568638",
       "version_major": 2,
       "version_minor": 0
      },
      "text/plain": [
       "HBox(children=(FloatProgress(value=0.0, max=66.0), HTML(value='')))"
      ]
     },
     "metadata": {},
     "output_type": "display_data"
    },
    {
     "name": "stdout",
     "output_type": "stream",
     "text": [
      "\n",
      "Checking connected components after clean_skeleton\n",
      "after DISTANCE cleaning limb size of skeleton = (850, 2, 3)\n",
      "********COMBINING CLOSE SKELETON NODES WITHIN 700 DISTANCE**********\n",
      "Found 0 valid paths to replace\n",
      "valid_paths = []\n",
      "valid_path_lengths = []\n",
      "No valid paths found so just returning the original\n",
      "node_degrees = [3 2 2 2 2 3 2 2 2 2 2 2 2 2]\n",
      "Inside MAP decomposition and curr_limb_endpoints_must_keep was None\n",
      "skeletonize_and_clean_connected_branch_CGAL: 18.6954448223114\n",
      "Working on limb correspondence for #3 MAP piece\n"
     ]
    },
    {
     "data": {
      "application/vnd.jupyter.widget-view+json": {
       "model_id": "3130eef961e5426a9cce57dfde8f71a6",
       "version_major": 2,
       "version_minor": 0
      },
      "text/plain": [
       "HBox(children=(FloatProgress(value=1.0, bar_style='info', max=1.0), HTML(value='')))"
      ]
     },
     "metadata": {},
     "output_type": "display_data"
    },
    {
     "name": "stdout",
     "output_type": "stream",
     "text": [
      "\n",
      "Total time for decomposition = 4.319620370864868\n",
      "mesh_correspondence_first_pass: 4.319672584533691\n",
      "Limb decomposed into 4 branches\n",
      "divided_skeleton_graph_recovered = (850, 2, 3) and \n",
      "current_mesh_data[0]['branch_skeletons_cleaned'].shape = (850, 2, 3)\n",
      "\n",
      "Number of connected components in deocmposed recovered graph = 1\n",
      "Number of connected components in cleaned skeleton graph= 1\n",
      "**** Warning: There were redundant edges in the skeleton*****\n",
      "The downsampled branches number of connected components = 1\n",
      "Empty submeshes = []\n",
      "\n",
      "\n",
      "--- Working on 1-to-1 correspondence-----\n",
      "max(original_labels),len(original_labels) = (3, 4)\n",
      "empty_indices % = 0.09444361314778792\n",
      " conflict_indices % = 0.014339867325053619\n"
     ]
    },
    {
     "data": {
      "application/vnd.jupyter.widget-view+json": {
       "model_id": "079ddd48e2bf48de8fc05aef144b6637",
       "version_major": 2,
       "version_minor": 0
      },
      "text/plain": [
       "HBox(children=(FloatProgress(value=0.0, max=103.0), HTML(value='')))"
      ]
     },
     "metadata": {},
     "output_type": "display_data"
    },
    {
     "name": "stdout",
     "output_type": "stream",
     "text": [
      "\n",
      "AFTER face_lookup_resolved_test\n"
     ]
    },
    {
     "data": {
      "application/vnd.jupyter.widget-view+json": {
       "model_id": "f22164fb1f51481d9eda4cb69c9c9982",
       "version_major": 2,
       "version_minor": 0
      },
      "text/plain": [
       "HBox(children=(FloatProgress(value=0.0, max=4.0), HTML(value='')))"
      ]
     },
     "metadata": {},
     "output_type": "display_data"
    },
    {
     "name": "stdout",
     "output_type": "stream",
     "text": [
      "\n",
      "Total time for MAP sublimb #3 mesh processing = 24.505680799484253\n",
      "correspondence_1_to_1: 1.488013744354248\n",
      "--- Working on MAP piece 4---\n",
      "MAP Filtering Soma Pieces: 0.003849506378173828\n",
      "inside skeletonize_connected_branch and use_surface_after_CGAL=False, surface_reconstruction_size=1000\n",
      "The mesh passed has 8 pieces so just taking the largest one <trimesh.Trimesh(vertices.shape=(3029, 3), faces.shape=(5308, 3))>\n",
      "     Starting Screened Poisson\n",
      "xvfb-run -n 1813 -s \"-screen 0 800x600x24\" meshlabserver $@  -i /notebooks/Platinum_Datajoint/Neuron_Processing/Debugging_2/temp/None.off -o /notebooks/Platinum_Datajoint/Neuron_Processing/Debugging_2/temp/None_poisson.off -s /notebooks/Platinum_Datajoint/Neuron_Processing/Debugging_2/temp/poisson_218945.mls\n",
      "removed temporary input file: /notebooks/Platinum_Datajoint/Neuron_Processing/Debugging_2/temp/None.off\n",
      "removed temporary output file: /notebooks/Platinum_Datajoint/Neuron_Processing/Debugging_2/temp/None_poisson.off\n",
      "Using the close holes feature\n",
      "xvfb-run -n 1813 -s \"-screen 0 800x600x24\" meshlabserver $@  -i /notebooks/Platinum_Datajoint/Neuron_Processing/Debugging_2/temp/neuron_67960.off -o /notebooks/Platinum_Datajoint/Neuron_Processing/Debugging_2/temp/neuron_67960_fill_holes.off -s /notebooks/Platinum_Datajoint/Neuron_Processing/Debugging_2/temp/fill_holes_895233.mls\n",
      "removed temporary input file: /notebooks/Platinum_Datajoint/Neuron_Processing/Debugging_2/temp/neuron_67960.off\n",
      "removed temporary output file: /notebooks/Platinum_Datajoint/Neuron_Processing/Debugging_2/temp/neuron_67960_fill_holes.off\n",
      "-----Time for Screened Poisson= 9.012939691543579\n",
      "mesh_pieces = [<trimesh.Trimesh(vertices.shape=(6743, 3), faces.shape=(13486, 3))>, <trimesh.Trimesh(vertices.shape=(3987, 3), faces.shape=(7970, 3))>]\n",
      "     Starting Calcification (12/2 Change only going to do the largest piece)\n",
      "min_edge_length = 75\n"
     ]
    },
    {
     "data": {
      "application/vnd.jupyter.widget-view+json": {
       "model_id": "4d8ab42d56d94eb9a83b031242d50b0a",
       "version_major": 2,
       "version_minor": 0
      },
      "text/plain": [
       "HBox(children=(FloatProgress(value=1.0, bar_style='info', max=1.0), HTML(value='')))"
      ]
     },
     "metadata": {},
     "output_type": "display_data"
    },
    {
     "name": "stdout",
     "output_type": "stream",
     "text": [
      "\n",
      "No skeletons to stack so returning empty list\n",
      "The process was using a temp folder\n",
      "Checking connected components after skeletonize_connected_branch\n",
      "    Total time for skeletonizing branch: 9.510652303695679\n",
      "Checking connected components after removing cycles\n",
      "    Total time for Fixing Skeleton Soma Endpoint Extension : 0.004231929779052734\n",
      "filter_end_node_length = 4500\n",
      "Using Distance measure skeletal_distance\n"
     ]
    },
    {
     "data": {
      "application/vnd.jupyter.widget-view+json": {
       "model_id": "1c7fed098807420a8cced049ae13739f",
       "version_major": 2,
       "version_minor": 0
      },
      "text/plain": [
       "HBox(children=(FloatProgress(value=0.0, max=7.0), HTML(value='')))"
      ]
     },
     "metadata": {},
     "output_type": "display_data"
    },
    {
     "name": "stdout",
     "output_type": "stream",
     "text": [
      "\n",
      "Checking connected components after clean_skeleton\n",
      "after DISTANCE cleaning limb size of skeleton = (27, 2, 3)\n",
      "********COMBINING CLOSE SKELETON NODES WITHIN 700 DISTANCE**********\n",
      "Found 0 valid paths to replace\n",
      "valid_paths = []\n",
      "valid_path_lengths = []\n",
      "No valid paths found so just returning the original\n",
      "Inside MAP decomposition and curr_limb_endpoints_must_keep was None\n",
      "skeletonize_and_clean_connected_branch_CGAL: 9.58951210975647\n",
      "Working on limb correspondence for #4 MAP piece\n"
     ]
    },
    {
     "data": {
      "application/vnd.jupyter.widget-view+json": {
       "model_id": "086f478e2de2422a8e657e7e52d8f762",
       "version_major": 2,
       "version_minor": 0
      },
      "text/plain": [
       "HBox(children=(FloatProgress(value=1.0, bar_style='info', max=1.0), HTML(value='')))"
      ]
     },
     "metadata": {},
     "output_type": "display_data"
    },
    {
     "name": "stdout",
     "output_type": "stream",
     "text": [
      "\n",
      "Total time for decomposition = 0.15312433242797852\n",
      "mesh_correspondence_first_pass: 0.15315461158752441\n",
      "Limb decomposed into 1 branches\n",
      "divided_skeleton_graph_recovered = (27, 2, 3) and \n",
      "current_mesh_data[0]['branch_skeletons_cleaned'].shape = (27, 2, 3)\n",
      "\n",
      "Number of connected components in deocmposed recovered graph = 1\n",
      "Number of connected components in cleaned skeleton graph= 1\n",
      "The downsampled branches number of connected components = 1\n",
      "Empty submeshes = []\n",
      "\n",
      "\n",
      "--- Working on 1-to-1 correspondence-----\n",
      "max(original_labels),len(original_labels) = (0, 1)\n",
      "empty_indices % = 0.6010908406996427\n",
      " conflict_indices % = 0.0\n"
     ]
    },
    {
     "data": {
      "application/vnd.jupyter.widget-view+json": {
       "model_id": "35b9f10094704714b40034bd9913ea32",
       "version_major": 2,
       "version_minor": 0
      },
      "text/plain": [
       "HBox(children=(FloatProgress(value=0.0, max=21.0), HTML(value='')))"
      ]
     },
     "metadata": {},
     "output_type": "display_data"
    },
    {
     "name": "stdout",
     "output_type": "stream",
     "text": [
      "\n",
      "AFTER face_lookup_resolved_test\n"
     ]
    },
    {
     "data": {
      "application/vnd.jupyter.widget-view+json": {
       "model_id": "86760092843f45b8a2a4cebf1f012d15",
       "version_major": 2,
       "version_minor": 0
      },
      "text/plain": [
       "HBox(children=(FloatProgress(value=0.0, max=1.0), HTML(value='')))"
      ]
     },
     "metadata": {},
     "output_type": "display_data"
    },
    {
     "name": "stdout",
     "output_type": "stream",
     "text": [
      "\n",
      "Total time for MAP sublimb #4 mesh processing = 10.002871990203857\n",
      "correspondence_1_to_1: 0.25633978843688965\n",
      "--- Working on MAP piece 5---\n",
      "MAP Filtering Soma Pieces: 0.007670879364013672\n",
      "inside skeletonize_connected_branch and use_surface_after_CGAL=False, surface_reconstruction_size=1000\n",
      "The mesh passed has 3 pieces so just taking the largest one <trimesh.Trimesh(vertices.shape=(1502, 3), faces.shape=(2964, 3))>\n",
      "     Starting Screened Poisson\n",
      "xvfb-run -n 1813 -s \"-screen 0 800x600x24\" meshlabserver $@  -i /notebooks/Platinum_Datajoint/Neuron_Processing/Debugging_2/temp/None.off -o /notebooks/Platinum_Datajoint/Neuron_Processing/Debugging_2/temp/None_poisson.off -s /notebooks/Platinum_Datajoint/Neuron_Processing/Debugging_2/temp/poisson_431431.mls\n",
      "removed temporary input file: /notebooks/Platinum_Datajoint/Neuron_Processing/Debugging_2/temp/None.off\n",
      "removed temporary output file: /notebooks/Platinum_Datajoint/Neuron_Processing/Debugging_2/temp/None_poisson.off\n",
      "Using the close holes feature\n",
      "xvfb-run -n 1813 -s \"-screen 0 800x600x24\" meshlabserver $@  -i /notebooks/Platinum_Datajoint/Neuron_Processing/Debugging_2/temp/neuron_28453.off -o /notebooks/Platinum_Datajoint/Neuron_Processing/Debugging_2/temp/neuron_28453_fill_holes.off -s /notebooks/Platinum_Datajoint/Neuron_Processing/Debugging_2/temp/fill_holes_985559.mls\n",
      "removed temporary input file: /notebooks/Platinum_Datajoint/Neuron_Processing/Debugging_2/temp/neuron_28453.off\n",
      "removed temporary output file: /notebooks/Platinum_Datajoint/Neuron_Processing/Debugging_2/temp/neuron_28453_fill_holes.off\n",
      "-----Time for Screened Poisson= 5.973320245742798\n",
      "mesh_pieces = [<trimesh.Trimesh(vertices.shape=(4997, 3), faces.shape=(9990, 3))>]\n",
      "     Starting Calcification (12/2 Change only going to do the largest piece)\n",
      "min_edge_length = 75\n"
     ]
    },
    {
     "data": {
      "application/vnd.jupyter.widget-view+json": {
       "model_id": "f15b7266a9e64f2db6c400023076dd91",
       "version_major": 2,
       "version_minor": 0
      },
      "text/plain": [
       "HBox(children=(FloatProgress(value=1.0, bar_style='info', max=1.0), HTML(value='')))"
      ]
     },
     "metadata": {},
     "output_type": "display_data"
    },
    {
     "name": "stdout",
     "output_type": "stream",
     "text": [
      "\n",
      "No skeletons to stack so returning empty list\n",
      "The process was using a temp folder\n",
      "Checking connected components after skeletonize_connected_branch\n",
      "    Total time for skeletonizing branch: 6.305071592330933\n",
      "Checking connected components after removing cycles\n",
      "    Total time for Fixing Skeleton Soma Endpoint Extension : 0.006736278533935547\n",
      "filter_end_node_length = 4500\n",
      "Using Distance measure skeletal_distance\n"
     ]
    },
    {
     "data": {
      "application/vnd.jupyter.widget-view+json": {
       "model_id": "50c20f0741ce4734a7a49a18795a7013",
       "version_major": 2,
       "version_minor": 0
      },
      "text/plain": [
       "HBox(children=(FloatProgress(value=0.0, max=5.0), HTML(value='')))"
      ]
     },
     "metadata": {},
     "output_type": "display_data"
    },
    {
     "name": "stdout",
     "output_type": "stream",
     "text": [
      "\n",
      "Checking connected components after clean_skeleton\n",
      "after DISTANCE cleaning limb size of skeleton = (106, 2, 3)\n",
      "********COMBINING CLOSE SKELETON NODES WITHIN 700 DISTANCE**********\n",
      "Found 0 valid paths to replace\n",
      "valid_paths = []\n",
      "valid_path_lengths = []\n",
      "No valid paths found so just returning the original\n",
      "Inside MAP decomposition and curr_limb_endpoints_must_keep was None\n",
      "skeletonize_and_clean_connected_branch_CGAL: 6.463792324066162\n",
      "Working on limb correspondence for #5 MAP piece\n"
     ]
    },
    {
     "data": {
      "application/vnd.jupyter.widget-view+json": {
       "model_id": "197b6992ce8a421e9c0f67de85025187",
       "version_major": 2,
       "version_minor": 0
      },
      "text/plain": [
       "HBox(children=(FloatProgress(value=1.0, bar_style='info', max=1.0), HTML(value='')))"
      ]
     },
     "metadata": {},
     "output_type": "display_data"
    },
    {
     "name": "stdout",
     "output_type": "stream",
     "text": [
      "\n",
      "Total time for decomposition = 0.27475571632385254\n",
      "mesh_correspondence_first_pass: 0.27478933334350586\n",
      "Limb decomposed into 1 branches\n",
      "divided_skeleton_graph_recovered = (106, 2, 3) and \n",
      "current_mesh_data[0]['branch_skeletons_cleaned'].shape = (106, 2, 3)\n",
      "\n",
      "Number of connected components in deocmposed recovered graph = 1\n",
      "Number of connected components in cleaned skeleton graph= 1\n",
      "The downsampled branches number of connected components = 1\n",
      "Empty submeshes = []\n",
      "\n",
      "\n",
      "--- Working on 1-to-1 correspondence-----\n",
      "max(original_labels),len(original_labels) = (0, 1)\n",
      "empty_indices % = 0.1078894133513149\n",
      " conflict_indices % = 0.0\n"
     ]
    },
    {
     "data": {
      "application/vnd.jupyter.widget-view+json": {
       "model_id": "e64e4ac5994e46d6840de82834eddfbc",
       "version_major": 2,
       "version_minor": 0
      },
      "text/plain": [
       "HBox(children=(FloatProgress(value=0.0, max=8.0), HTML(value='')))"
      ]
     },
     "metadata": {},
     "output_type": "display_data"
    },
    {
     "name": "stdout",
     "output_type": "stream",
     "text": [
      "\n",
      "AFTER face_lookup_resolved_test\n"
     ]
    },
    {
     "data": {
      "application/vnd.jupyter.widget-view+json": {
       "model_id": "4016ed7573174bf6acbf83a91a7001d8",
       "version_major": 2,
       "version_minor": 0
      },
      "text/plain": [
       "HBox(children=(FloatProgress(value=0.0, max=1.0), HTML(value='')))"
      ]
     },
     "metadata": {},
     "output_type": "display_data"
    },
    {
     "name": "stdout",
     "output_type": "stream",
     "text": [
      "\n",
      "Total time for MAP sublimb #5 mesh processing = 6.9137282371521\n",
      "correspondence_1_to_1: 0.1674485206604004\n",
      "Total time for MAP sublimb processing 232.5431785583496\n",
      "---- Working on MP Decomposition #0 ----\n",
      "Computing the current soma touching verts dict manually\n",
      "MP filtering soma verts: 0.0533289909362793\n",
      "Do Not Need to Fix MP Decomposition 0 so just continuing\n",
      "---- Working on MP Decomposition #1 ----\n",
      "Computing the current soma touching verts dict manually\n",
      "MP filtering soma verts: 0.0740656852722168\n",
      "Do Not Need to Fix MP Decomposition 1 so just continuing\n",
      "---- Working on MP Decomposition #2 ----\n",
      "Computing the current soma touching verts dict manually\n",
      "MP filtering soma verts: 0.011259078979492188\n",
      "Do Not Need to Fix MP Decomposition 2 so just continuing\n",
      "---- Working on MP Decomposition #3 ----\n",
      "Computing the current soma touching verts dict manually\n",
      "MP filtering soma verts: 0.002388477325439453\n",
      "Do Not Need to Fix MP Decomposition 3 so just continuing\n",
      "---- Working on MP Decomposition #4 ----\n",
      "Computing the current soma touching verts dict manually\n",
      "MP filtering soma verts: 0.0008394718170166016\n",
      "Do Not Need to Fix MP Decomposition 4 so just continuing\n",
      "---- Working on MP Decomposition #5 ----\n",
      "Computing the current soma touching verts dict manually\n",
      "MP filtering soma verts: 0.00040030479431152344\n",
      "Do Not Need to Fix MP Decomposition 5 so just continuing\n",
      "---- Working on MP Decomposition #6 ----\n",
      "Computing the current soma touching verts dict manually\n",
      "MP filtering soma verts: 0.0018999576568603516\n",
      "Do Not Need to Fix MP Decomposition 6 so just continuing\n",
      "---- Working on MP Decomposition #7 ----\n",
      "Computing the current soma touching verts dict manually\n",
      "MP filtering soma verts: 0.0006425380706787109\n",
      "Do Not Need to Fix MP Decomposition 7 so just continuing\n",
      "---- Working on MP Decomposition #8 ----\n",
      "Computing the current soma touching verts dict manually\n",
      "MP filtering soma verts: 0.0013582706451416016\n",
      "Do Not Need to Fix MP Decomposition 8 so just continuing\n",
      "---- Working on MP Decomposition #9 ----\n",
      "Computing the current soma touching verts dict manually\n",
      "MP filtering soma verts: 0.001138925552368164\n",
      "Do Not Need to Fix MP Decomposition 9 so just continuing\n",
      "---- Working on MP Decomposition #10 ----\n",
      "Computing the current soma touching verts dict manually\n",
      "MP filtering soma verts: 0.00127410888671875\n",
      "Do Not Need to Fix MP Decomposition 10 so just continuing\n",
      "---- Working on MP Decomposition #11 ----\n",
      "Computing the current soma touching verts dict manually\n",
      "MP filtering soma verts: 0.0005409717559814453\n",
      "Do Not Need to Fix MP Decomposition 11 so just continuing\n",
      "---- Working on MP Decomposition #12 ----\n",
      "Computing the current soma touching verts dict manually\n",
      "MP filtering soma verts: 0.00037026405334472656\n",
      "Do Not Need to Fix MP Decomposition 12 so just continuing\n",
      "---- Working on MP Decomposition #13 ----\n",
      "Computing the current soma touching verts dict manually\n",
      "MP filtering soma verts: 0.0006759166717529297\n",
      "Do Not Need to Fix MP Decomposition 13 so just continuing\n",
      "Saved object at /notebooks/Platinum_Datajoint/Neuron_Processing/Debugging_2/limb_correspondence_MAP_before_stitch.pbz2\n",
      "File size is 11.489477 MB\n",
      "Saved object at /notebooks/Platinum_Datajoint/Neuron_Processing/Debugging_2/limb_correspondence_MP_before_stitch.pbz2\n",
      "File size is 78.189078 MB\n",
      "Edge (2, 6) was not kept\n",
      "Successful mesh connectivity with type edges\n",
      "\n",
      "---- Working on (0, 0) connection-----\n",
      "Current stitch point was a branch or endpoint\n",
      "sk_conn = [13, 527]\n",
      "conn = [13, 527]\n",
      "winning_vertex = [ 486866.38750921  664996.72629049 1088934.04509352]\n",
      "MP_branches_with_stitch_point = [13, 527]\n",
      "MAP_branches_with_stitch_point = [0]\n",
      "MAP_stitch_point_on_end_or_branch = True\n",
      "Using max stitch distance (300) for smoothing because stitch_distance greater (482.70190419511454) \n",
      "Found winning edge: [9, 10.0]\n",
      "in remove edge\n",
      "Using max stitch distance (300) for smoothing because stitch_distance greater (380.87628404957786) \n",
      "Found winning edge: [20, 21.0]\n",
      "in remove edge\n"
     ]
    },
    {
     "data": {
      "application/vnd.jupyter.widget-view+json": {
       "model_id": "6ebf0e66a0d8478887c0d06dbb24ef0a",
       "version_major": 2,
       "version_minor": 0
      },
      "text/plain": [
       "HBox(children=(FloatProgress(value=1.0, bar_style='info', max=1.0), HTML(value='')))"
      ]
     },
     "metadata": {},
     "output_type": "display_data"
    },
    {
     "name": "stdout",
     "output_type": "stream",
     "text": [
      "\n",
      "\n",
      "\n",
      "--- Working on 1-to-1 correspondence-----\n",
      "max(original_labels),len(original_labels) = (2, 3)\n",
      "empty_indices % = 0.16373924319226688\n",
      " conflict_indices % = 0.011552516798302487\n"
     ]
    },
    {
     "data": {
      "application/vnd.jupyter.widget-view+json": {
       "model_id": "2961719d9d024dd4a7b3f4b019ef2947",
       "version_major": 2,
       "version_minor": 0
      },
      "text/plain": [
       "HBox(children=(FloatProgress(value=0.0, max=12.0), HTML(value='')))"
      ]
     },
     "metadata": {},
     "output_type": "display_data"
    },
    {
     "name": "stdout",
     "output_type": "stream",
     "text": [
      "\n",
      "AFTER face_lookup_resolved_test\n"
     ]
    },
    {
     "data": {
      "application/vnd.jupyter.widget-view+json": {
       "model_id": "205a0133387e47f3be2d66772984098f",
       "version_major": 2,
       "version_minor": 0
      },
      "text/plain": [
       "HBox(children=(FloatProgress(value=0.0, max=3.0), HTML(value='')))"
      ]
     },
     "metadata": {},
     "output_type": "display_data"
    },
    {
     "name": "stdout",
     "output_type": "stream",
     "text": [
      "\n",
      "MP_branches_with_stitch_point= [13, 527]\n",
      "MP_branches_for_correspondence = [ 13 527]\n",
      "MP_leftover = [], MP_leftover_idx = []\n",
      " Finished with (0, 0) \n",
      "\n",
      "\n",
      "\n",
      "Saved object at /notebooks/Platinum_Datajoint/Neuron_Processing/Debugging_2/limb_correspondence_MAP_0_0.pbz2\n",
      "File size is 11.489448 MB\n",
      "Saved object at /notebooks/Platinum_Datajoint/Neuron_Processing/Debugging_2/limb_correspondence_MP_0_0.pbz2\n",
      "File size is 78.185262 MB\n",
      "\n",
      "---- Working on (1, 0) connection-----\n",
      "Current stitch point was a branch or endpoint\n",
      "sk_conn = [0, 12]\n",
      "conn = [0, 12]\n",
      "winning_vertex = [ 493509.99168632  679581.81591655 1087338.08255186]\n",
      "MP_branches_with_stitch_point = [0, 12]\n",
      "MAP_branches_with_stitch_point = [0]\n",
      "MAP_stitch_point_on_end_or_branch = True\n",
      "Using max stitch distance (300) for smoothing because stitch_distance greater (383.6956391699599) \n",
      "Found winning edge: [58, 70.0]\n",
      "in remove edge\n",
      "Found winning edge: [7, 8.0]\n",
      "in remove edge\n"
     ]
    },
    {
     "data": {
      "application/vnd.jupyter.widget-view+json": {
       "model_id": "da7800ceb4d94b9ba875a3e508484d94",
       "version_major": 2,
       "version_minor": 0
      },
      "text/plain": [
       "HBox(children=(FloatProgress(value=1.0, bar_style='info', max=1.0), HTML(value='')))"
      ]
     },
     "metadata": {},
     "output_type": "display_data"
    },
    {
     "name": "stdout",
     "output_type": "stream",
     "text": [
      "\n",
      "\n",
      "\n",
      "--- Working on 1-to-1 correspondence-----\n",
      "max(original_labels),len(original_labels) = (2, 3)\n",
      "empty_indices % = 0.08537660963132827\n",
      " conflict_indices % = 0.020109366731345918\n"
     ]
    },
    {
     "data": {
      "application/vnd.jupyter.widget-view+json": {
       "model_id": "ec912f53980248f09013be7c43fe8189",
       "version_major": 2,
       "version_minor": 0
      },
      "text/plain": [
       "HBox(children=(FloatProgress(value=0.0, max=8.0), HTML(value='')))"
      ]
     },
     "metadata": {},
     "output_type": "display_data"
    },
    {
     "name": "stdout",
     "output_type": "stream",
     "text": [
      "\n",
      "AFTER face_lookup_resolved_test\n"
     ]
    },
    {
     "data": {
      "application/vnd.jupyter.widget-view+json": {
       "model_id": "0fd34772e30c4207a04b75b1d9be6c1e",
       "version_major": 2,
       "version_minor": 0
      },
      "text/plain": [
       "HBox(children=(FloatProgress(value=0.0, max=3.0), HTML(value='')))"
      ]
     },
     "metadata": {},
     "output_type": "display_data"
    },
    {
     "name": "stdout",
     "output_type": "stream",
     "text": [
      "\n",
      "MP_branches_with_stitch_point= [0, 12]\n",
      "MP_branches_for_correspondence = [ 0 12]\n",
      "MP_leftover = [], MP_leftover_idx = []\n",
      " Finished with (1, 0) \n",
      "\n",
      "\n",
      "\n",
      "Saved object at /notebooks/Platinum_Datajoint/Neuron_Processing/Debugging_2/limb_correspondence_MAP_0_1.pbz2\n",
      "File size is 11.484695 MB\n",
      "Saved object at /notebooks/Platinum_Datajoint/Neuron_Processing/Debugging_2/limb_correspondence_MP_0_1.pbz2\n",
      "File size is 78.193924 MB\n",
      "\n",
      "---- Working on (1, 1) connection-----\n",
      "Current stitch point was a branch or endpoint\n",
      "sk_conn = [0, 71]\n",
      "conn = [0, 71]\n",
      "winning_vertex = [ 494062.33683995  696311.13220037 1088466.73308537]\n",
      "MP_branches_with_stitch_point = [0, 71]\n",
      "MAP_branches_with_stitch_point = [3]\n",
      "MAP_stitch_point_on_end_or_branch = True\n",
      "Using max stitch distance (300) for smoothing because stitch_distance greater (468.01434714240764) \n",
      "Found winning edge: [166, 167.0]\n",
      "in remove edge\n",
      "Using max stitch distance (300) for smoothing because stitch_distance greater (600.9360219104392) \n",
      "Found winning edge: [53, 55.0]\n",
      "in remove edge\n"
     ]
    },
    {
     "data": {
      "application/vnd.jupyter.widget-view+json": {
       "model_id": "b1839a418b084ab28e5554419e933bdf",
       "version_major": 2,
       "version_minor": 0
      },
      "text/plain": [
       "HBox(children=(FloatProgress(value=1.0, bar_style='info', max=1.0), HTML(value='')))"
      ]
     },
     "metadata": {},
     "output_type": "display_data"
    },
    {
     "name": "stdout",
     "output_type": "stream",
     "text": [
      "\n",
      "\n",
      "\n",
      "--- Working on 1-to-1 correspondence-----\n",
      "max(original_labels),len(original_labels) = (2, 3)\n",
      "empty_indices % = 0.0769707774591117\n",
      " conflict_indices % = 0.009689171382063405\n"
     ]
    },
    {
     "data": {
      "application/vnd.jupyter.widget-view+json": {
       "model_id": "31f947e6e6e74c53b02d1fff0900ef2c",
       "version_major": 2,
       "version_minor": 0
      },
      "text/plain": [
       "HBox(children=(FloatProgress(value=0.0, max=12.0), HTML(value='')))"
      ]
     },
     "metadata": {},
     "output_type": "display_data"
    },
    {
     "name": "stdout",
     "output_type": "stream",
     "text": [
      "\n",
      "AFTER face_lookup_resolved_test\n"
     ]
    },
    {
     "data": {
      "application/vnd.jupyter.widget-view+json": {
       "model_id": "c6b9817e81f94217ad384a4912becc63",
       "version_major": 2,
       "version_minor": 0
      },
      "text/plain": [
       "HBox(children=(FloatProgress(value=0.0, max=3.0), HTML(value='')))"
      ]
     },
     "metadata": {},
     "output_type": "display_data"
    },
    {
     "name": "stdout",
     "output_type": "stream",
     "text": [
      "\n",
      "MP_branches_with_stitch_point= [0, 71]\n",
      "MP_branches_for_correspondence = [ 0 71]\n",
      "MP_leftover = [], MP_leftover_idx = []\n",
      " Finished with (1, 1) \n",
      "\n",
      "\n",
      "\n",
      "Saved object at /notebooks/Platinum_Datajoint/Neuron_Processing/Debugging_2/limb_correspondence_MAP_1_1.pbz2\n",
      "File size is 11.486666 MB\n",
      "Saved object at /notebooks/Platinum_Datajoint/Neuron_Processing/Debugging_2/limb_correspondence_MP_1_1.pbz2\n",
      "File size is 78.195047 MB\n",
      "\n",
      "---- Working on (2, 1) connection-----\n",
      "Current stitch point was not a branch or endpoint, shortest_path_length to one = 2368.8000028996958\n",
      "sk_conn = [0]\n",
      "conn = [0]\n",
      "winning_vertex = [ 546522.50631886  692199.97319203 1053321.92988703]\n",
      "MP_branches_with_stitch_point = [0, 3]\n",
      "MAP_branches_with_stitch_point = [12]\n",
      "MAP_stitch_point_on_end_or_branch = False\n",
      "Using max stitch distance (300) for smoothing because stitch_distance greater (968.3040401344282) \n",
      "Found winning edge: [9, 10.0]\n",
      "in remove edge\n",
      "Using max stitch distance (300) for smoothing because stitch_distance greater (1061.6072056338062) \n",
      "Found winning edge: [9, 10.0]\n",
      "in remove edge\n"
     ]
    },
    {
     "data": {
      "application/vnd.jupyter.widget-view+json": {
       "model_id": "23361956527743f7958ada03b7454ddf",
       "version_major": 2,
       "version_minor": 0
      },
      "text/plain": [
       "HBox(children=(FloatProgress(value=1.0, bar_style='info', max=1.0), HTML(value='')))"
      ]
     },
     "metadata": {},
     "output_type": "display_data"
    },
    {
     "name": "stdout",
     "output_type": "stream",
     "text": [
      "\n",
      "\n",
      "\n",
      "--- Working on 1-to-1 correspondence-----\n",
      "max(original_labels),len(original_labels) = (1, 2)\n",
      "empty_indices % = 0.04110288486086291\n",
      " conflict_indices % = 0.006382435537401072\n"
     ]
    },
    {
     "data": {
      "application/vnd.jupyter.widget-view+json": {
       "model_id": "59280f92d8b34552aedfa86962683378",
       "version_major": 2,
       "version_minor": 0
      },
      "text/plain": [
       "HBox(children=(FloatProgress(value=0.0, max=15.0), HTML(value='')))"
      ]
     },
     "metadata": {},
     "output_type": "display_data"
    },
    {
     "name": "stdout",
     "output_type": "stream",
     "text": [
      "\n",
      "AFTER face_lookup_resolved_test\n"
     ]
    },
    {
     "data": {
      "application/vnd.jupyter.widget-view+json": {
       "model_id": "abcd3ae4d7de40a1aa7f650bcceb235d",
       "version_major": 2,
       "version_minor": 0
      },
      "text/plain": [
       "HBox(children=(FloatProgress(value=0.0, max=2.0), HTML(value='')))"
      ]
     },
     "metadata": {},
     "output_type": "display_data"
    },
    {
     "name": "stdout",
     "output_type": "stream",
     "text": [
      "\n"
     ]
    },
    {
     "data": {
      "application/vnd.jupyter.widget-view+json": {
       "model_id": "0335cf1c105845679ae6a99aa467bca1",
       "version_major": 2,
       "version_minor": 0
      },
      "text/plain": [
       "HBox(children=(FloatProgress(value=1.0, bar_style='info', max=1.0), HTML(value='')))"
      ]
     },
     "metadata": {},
     "output_type": "display_data"
    },
    {
     "name": "stdout",
     "output_type": "stream",
     "text": [
      "\n",
      "\n",
      "\n",
      "--- Working on 1-to-1 correspondence-----\n",
      "max(original_labels),len(original_labels) = (2, 3)\n",
      "empty_indices % = 0.07842680940190831\n",
      " conflict_indices % = 0.016755876192692577\n"
     ]
    },
    {
     "data": {
      "application/vnd.jupyter.widget-view+json": {
       "model_id": "2201455621114a3585a8f4e11d02f810",
       "version_major": 2,
       "version_minor": 0
      },
      "text/plain": [
       "HBox(children=(FloatProgress(value=0.0, max=10.0), HTML(value='')))"
      ]
     },
     "metadata": {},
     "output_type": "display_data"
    },
    {
     "name": "stdout",
     "output_type": "stream",
     "text": [
      "\n",
      "AFTER face_lookup_resolved_test\n"
     ]
    },
    {
     "data": {
      "application/vnd.jupyter.widget-view+json": {
       "model_id": "20b55cb4561842428aad0ef626fd1cc0",
       "version_major": 2,
       "version_minor": 0
      },
      "text/plain": [
       "HBox(children=(FloatProgress(value=0.0, max=3.0), HTML(value='')))"
      ]
     },
     "metadata": {},
     "output_type": "display_data"
    },
    {
     "name": "stdout",
     "output_type": "stream",
     "text": [
      "\n",
      "Deleting branches from dictionary\n",
      "MP_branches_with_stitch_point= [0, 3]\n",
      "MP_branches_for_correspondence = [0]\n",
      "MP_leftover = [3], MP_leftover_idx = [1]\n",
      " Finished with (2, 1) \n",
      "\n",
      "\n",
      "\n",
      "Saved object at /notebooks/Platinum_Datajoint/Neuron_Processing/Debugging_2/limb_correspondence_MAP_1_2.pbz2\n",
      "File size is 11.50118 MB\n",
      "Saved object at /notebooks/Platinum_Datajoint/Neuron_Processing/Debugging_2/limb_correspondence_MP_1_2.pbz2\n",
      "File size is 78.184731 MB\n",
      "\n",
      "---- Working on (4, 1) connection-----\n",
      "Current stitch point was a branch or endpoint\n",
      "sk_conn = [0, 1]\n",
      "conn = [0, 1]\n",
      "winning_vertex = [ 578537.50377844  630014.1767149  1044296.32477949]\n",
      "MP_branches_with_stitch_point = [0, 1]\n",
      "MAP_branches_with_stitch_point = [22]\n",
      "MAP_stitch_point_on_end_or_branch = True\n",
      "Using max stitch distance (300) for smoothing because stitch_distance greater (536.1796606628444) \n",
      "Found winning edge: [38, 39.0]\n",
      "in remove edge\n",
      "Using max stitch distance (300) for smoothing because stitch_distance greater (674.4713899820342) \n",
      "Found winning edge: [9, 10.0]\n",
      "in remove edge\n"
     ]
    },
    {
     "data": {
      "application/vnd.jupyter.widget-view+json": {
       "model_id": "2e97d2fae2ba404bb0d948a19e2394d2",
       "version_major": 2,
       "version_minor": 0
      },
      "text/plain": [
       "HBox(children=(FloatProgress(value=1.0, bar_style='info', max=1.0), HTML(value='')))"
      ]
     },
     "metadata": {},
     "output_type": "display_data"
    },
    {
     "name": "stdout",
     "output_type": "stream",
     "text": [
      "\n",
      "\n",
      "\n",
      "--- Working on 1-to-1 correspondence-----\n",
      "max(original_labels),len(original_labels) = (2, 3)\n",
      "empty_indices % = 0.07781925585592978\n",
      " conflict_indices % = 0.007958321368503097\n"
     ]
    },
    {
     "data": {
      "application/vnd.jupyter.widget-view+json": {
       "model_id": "fe434adc73a7434abda4c0ba9c3846da",
       "version_major": 2,
       "version_minor": 0
      },
      "text/plain": [
       "HBox(children=(FloatProgress(value=0.0, max=16.0), HTML(value='')))"
      ]
     },
     "metadata": {},
     "output_type": "display_data"
    },
    {
     "name": "stdout",
     "output_type": "stream",
     "text": [
      "\n",
      "AFTER face_lookup_resolved_test\n"
     ]
    },
    {
     "data": {
      "application/vnd.jupyter.widget-view+json": {
       "model_id": "b0ea2012e2c7428e8963cd38b60d3f70",
       "version_major": 2,
       "version_minor": 0
      },
      "text/plain": [
       "HBox(children=(FloatProgress(value=0.0, max=3.0), HTML(value='')))"
      ]
     },
     "metadata": {},
     "output_type": "display_data"
    },
    {
     "name": "stdout",
     "output_type": "stream",
     "text": [
      "\n",
      "MP_branches_with_stitch_point= [0, 1]\n",
      "MP_branches_for_correspondence = [0 1]\n",
      "MP_leftover = [], MP_leftover_idx = []\n",
      " Finished with (4, 1) \n",
      "\n",
      "\n",
      "\n",
      "Saved object at /notebooks/Platinum_Datajoint/Neuron_Processing/Debugging_2/limb_correspondence_MAP_1_4.pbz2\n",
      "File size is 11.503518 MB\n",
      "Saved object at /notebooks/Platinum_Datajoint/Neuron_Processing/Debugging_2/limb_correspondence_MP_1_4.pbz2\n",
      "File size is 78.18333 MB\n",
      "\n",
      "---- Working on (6, 1) connection-----\n",
      "Current stitch point was not a branch or endpoint, shortest_path_length to one = 273.8430207253784\n",
      "Changing the stitch point becasue the distance to end or branch node was 273.8430207253784\n",
      "New stitch point has degree 2\n",
      "sk_conn = [5]\n",
      "conn = [5]\n",
      "winning_vertex = [ 545813.85542238  692012.86973743 1053384.20539815]\n",
      "MP_branches_with_stitch_point = [5]\n",
      "MAP_branches_with_stitch_point = [12, 24]\n",
      "MAP_stitch_point_on_end_or_branch = True\n",
      "Using max stitch distance (300) for smoothing because stitch_distance greater (807.6349697512704) \n",
      "Found winning edge: [87, 89.0]\n",
      "in remove edge\n",
      "\n",
      "Revising the MAP pieces index:\n",
      "MAP_pieces_idx_touching_border = [12, 24], MAP_branches_with_stitch_point = [12, 24]\n",
      "MAP_pieces_for_correspondence = [12 24]\n"
     ]
    },
    {
     "data": {
      "application/vnd.jupyter.widget-view+json": {
       "model_id": "1510eeda2fe641338927dd458f408d3d",
       "version_major": 2,
       "version_minor": 0
      },
      "text/plain": [
       "HBox(children=(FloatProgress(value=1.0, bar_style='info', max=1.0), HTML(value='')))"
      ]
     },
     "metadata": {},
     "output_type": "display_data"
    },
    {
     "name": "stdout",
     "output_type": "stream",
     "text": [
      "\n",
      "\n",
      "\n",
      "--- Working on 1-to-1 correspondence-----\n",
      "max(original_labels),len(original_labels) = (2, 3)\n",
      "empty_indices % = 0.09397221310578711\n",
      " conflict_indices % = 0.015862597090033913\n"
     ]
    },
    {
     "data": {
      "application/vnd.jupyter.widget-view+json": {
       "model_id": "c765feee561f4d1d9fb7b4f9008db5c0",
       "version_major": 2,
       "version_minor": 0
      },
      "text/plain": [
       "HBox(children=(FloatProgress(value=0.0, max=8.0), HTML(value='')))"
      ]
     },
     "metadata": {},
     "output_type": "display_data"
    },
    {
     "name": "stdout",
     "output_type": "stream",
     "text": [
      "\n",
      "AFTER face_lookup_resolved_test\n"
     ]
    },
    {
     "data": {
      "application/vnd.jupyter.widget-view+json": {
       "model_id": "7f355c7fcba7461f982879d7f10f8a7e",
       "version_major": 2,
       "version_minor": 0
      },
      "text/plain": [
       "HBox(children=(FloatProgress(value=0.0, max=3.0), HTML(value='')))"
      ]
     },
     "metadata": {},
     "output_type": "display_data"
    },
    {
     "name": "stdout",
     "output_type": "stream",
     "text": [
      "\n",
      "MP_branches_with_stitch_point= [5]\n",
      "MP_branches_for_correspondence = [5]\n",
      "MP_leftover = [], MP_leftover_idx = []\n",
      " Finished with (6, 1) \n",
      "\n",
      "\n",
      "\n",
      "Saved object at /notebooks/Platinum_Datajoint/Neuron_Processing/Debugging_2/limb_correspondence_MAP_1_6.pbz2\n",
      "File size is 11.517361 MB\n",
      "Saved object at /notebooks/Platinum_Datajoint/Neuron_Processing/Debugging_2/limb_correspondence_MP_1_6.pbz2\n",
      "File size is 78.173687 MB\n",
      "\n",
      "---- Working on (7, 1) connection-----\n",
      "Current stitch point was not a branch or endpoint, shortest_path_length to one = 50445.06106701482\n",
      "sk_conn = [0]\n",
      "conn = [0]\n",
      "winning_vertex = [ 522214.93283185  684802.26287132 1088545.8518953 ]\n",
      "MP_branches_with_stitch_point = [0]\n",
      "MAP_branches_with_stitch_point = [7]\n",
      "MAP_stitch_point_on_end_or_branch = False\n",
      "Using max stitch distance (300) for smoothing because stitch_distance greater (395.66485270751326) \n",
      "Found winning edge: [155, 156.0]\n",
      "in remove edge\n"
     ]
    },
    {
     "data": {
      "application/vnd.jupyter.widget-view+json": {
       "model_id": "6b069c792e654f10bd17cde8cb3c1914",
       "version_major": 2,
       "version_minor": 0
      },
      "text/plain": [
       "HBox(children=(FloatProgress(value=1.0, bar_style='info', max=1.0), HTML(value='')))"
      ]
     },
     "metadata": {},
     "output_type": "display_data"
    },
    {
     "name": "stdout",
     "output_type": "stream",
     "text": [
      "\n",
      "\n",
      "\n",
      "--- Working on 1-to-1 correspondence-----\n",
      "max(original_labels),len(original_labels) = (1, 2)\n",
      "empty_indices % = 0.08361134894157243\n",
      " conflict_indices % = 0.0007971420979599067\n"
     ]
    },
    {
     "data": {
      "application/vnd.jupyter.widget-view+json": {
       "model_id": "218d790d6363499dbc7b0ff53846e649",
       "version_major": 2,
       "version_minor": 0
      },
      "text/plain": [
       "HBox(children=(FloatProgress(value=0.0, max=80.0), HTML(value='')))"
      ]
     },
     "metadata": {},
     "output_type": "display_data"
    },
    {
     "name": "stdout",
     "output_type": "stream",
     "text": [
      "\n",
      "AFTER face_lookup_resolved_test\n"
     ]
    },
    {
     "data": {
      "application/vnd.jupyter.widget-view+json": {
       "model_id": "eb0de842d85d44139fb1bb22cd51cd44",
       "version_major": 2,
       "version_minor": 0
      },
      "text/plain": [
       "HBox(children=(FloatProgress(value=0.0, max=2.0), HTML(value='')))"
      ]
     },
     "metadata": {},
     "output_type": "display_data"
    },
    {
     "name": "stdout",
     "output_type": "stream",
     "text": [
      "\n"
     ]
    },
    {
     "data": {
      "application/vnd.jupyter.widget-view+json": {
       "model_id": "7da62754b72c482a9f80ec50ca4a9d97",
       "version_major": 2,
       "version_minor": 0
      },
      "text/plain": [
       "HBox(children=(FloatProgress(value=1.0, bar_style='info', max=1.0), HTML(value='')))"
      ]
     },
     "metadata": {},
     "output_type": "display_data"
    },
    {
     "name": "stdout",
     "output_type": "stream",
     "text": [
      "\n",
      "\n",
      "\n",
      "--- Working on 1-to-1 correspondence-----\n",
      "max(original_labels),len(original_labels) = (2, 3)\n",
      "empty_indices % = 0.10391756041555823\n",
      " conflict_indices % = 0.0013721262356136766\n"
     ]
    },
    {
     "data": {
      "application/vnd.jupyter.widget-view+json": {
       "model_id": "d5e8fcf89f5f48609f103fb206156d28",
       "version_major": 2,
       "version_minor": 0
      },
      "text/plain": [
       "HBox(children=(FloatProgress(value=0.0, max=8.0), HTML(value='')))"
      ]
     },
     "metadata": {},
     "output_type": "display_data"
    },
    {
     "name": "stdout",
     "output_type": "stream",
     "text": [
      "\n",
      "AFTER face_lookup_resolved_test\n"
     ]
    },
    {
     "data": {
      "application/vnd.jupyter.widget-view+json": {
       "model_id": "89bae1259b3a428fb0460eaa9cdb338b",
       "version_major": 2,
       "version_minor": 0
      },
      "text/plain": [
       "HBox(children=(FloatProgress(value=0.0, max=3.0), HTML(value='')))"
      ]
     },
     "metadata": {},
     "output_type": "display_data"
    },
    {
     "name": "stdout",
     "output_type": "stream",
     "text": [
      "\n",
      "Deleting branches from dictionary\n",
      "MP_branches_with_stitch_point= [0]\n",
      "MP_branches_for_correspondence = [0]\n",
      "MP_leftover = [], MP_leftover_idx = []\n",
      " Finished with (7, 1) \n",
      "\n",
      "\n",
      "\n",
      "Saved object at /notebooks/Platinum_Datajoint/Neuron_Processing/Debugging_2/limb_correspondence_MAP_1_7.pbz2\n",
      "File size is 11.612231 MB\n",
      "Saved object at /notebooks/Platinum_Datajoint/Neuron_Processing/Debugging_2/limb_correspondence_MP_1_7.pbz2\n",
      "File size is 78.136448 MB\n",
      "\n",
      "---- Working on (8, 1) connection-----\n",
      "Current stitch point was a branch or endpoint\n",
      "sk_conn = [0, 1]\n",
      "conn = [0, 1]\n",
      "winning_vertex = [ 548211.78249685  654215.33060847 1029891.79313254]\n",
      "MP_branches_with_stitch_point = [0, 1]\n",
      "MAP_branches_with_stitch_point = [21]\n",
      "MAP_stitch_point_on_end_or_branch = True\n",
      "Using max stitch distance (300) for smoothing because stitch_distance greater (654.2001638193518) \n",
      "Found winning edge: [9, 10.0]\n",
      "in remove edge\n",
      "Using max stitch distance (300) for smoothing because stitch_distance greater (667.2562120152105) \n",
      "Found winning edge: [9, 10.0]\n",
      "in remove edge\n"
     ]
    },
    {
     "data": {
      "application/vnd.jupyter.widget-view+json": {
       "model_id": "e408ba1d831a465eb51eed4414398c99",
       "version_major": 2,
       "version_minor": 0
      },
      "text/plain": [
       "HBox(children=(FloatProgress(value=1.0, bar_style='info', max=1.0), HTML(value='')))"
      ]
     },
     "metadata": {},
     "output_type": "display_data"
    },
    {
     "name": "stdout",
     "output_type": "stream",
     "text": [
      "\n",
      "\n",
      "\n",
      "--- Working on 1-to-1 correspondence-----\n",
      "max(original_labels),len(original_labels) = (2, 3)\n",
      "empty_indices % = 0.12130556478011291\n",
      " conflict_indices % = 0.008017458133687556\n"
     ]
    },
    {
     "data": {
      "application/vnd.jupyter.widget-view+json": {
       "model_id": "303ad1eafc1b440e98dd71f56daee98d",
       "version_major": 2,
       "version_minor": 0
      },
      "text/plain": [
       "HBox(children=(FloatProgress(value=0.0, max=41.0), HTML(value='')))"
      ]
     },
     "metadata": {},
     "output_type": "display_data"
    },
    {
     "name": "stdout",
     "output_type": "stream",
     "text": [
      "\n",
      "AFTER face_lookup_resolved_test\n"
     ]
    },
    {
     "data": {
      "application/vnd.jupyter.widget-view+json": {
       "model_id": "b4b0d29178474d96aa366f355a91e2ab",
       "version_major": 2,
       "version_minor": 0
      },
      "text/plain": [
       "HBox(children=(FloatProgress(value=0.0, max=3.0), HTML(value='')))"
      ]
     },
     "metadata": {},
     "output_type": "display_data"
    },
    {
     "name": "stdout",
     "output_type": "stream",
     "text": [
      "\n",
      "MP_branches_with_stitch_point= [0, 1]\n",
      "MP_branches_for_correspondence = [0 1]\n",
      "MP_leftover = [], MP_leftover_idx = []\n",
      " Finished with (8, 1) \n",
      "\n",
      "\n",
      "\n",
      "Saved object at /notebooks/Platinum_Datajoint/Neuron_Processing/Debugging_2/limb_correspondence_MAP_1_8.pbz2\n",
      "File size is 11.61282 MB\n",
      "Saved object at /notebooks/Platinum_Datajoint/Neuron_Processing/Debugging_2/limb_correspondence_MP_1_8.pbz2\n",
      "File size is 78.136425 MB\n",
      "\n",
      "---- Working on (13, 1) connection-----\n",
      "Current stitch point was a branch or endpoint\n",
      "sk_conn = [0, 1]\n",
      "conn = [0, 1]\n",
      "winning_vertex = [ 551233.50228553  649427.76614102 1112577.67033436]\n",
      "MP_branches_with_stitch_point = [0, 1]\n",
      "MAP_branches_with_stitch_point = [25]\n",
      "MAP_stitch_point_on_end_or_branch = True\n",
      "Using max stitch distance (300) for smoothing because stitch_distance greater (569.2513826928256) \n",
      "Found winning edge: [9, 10.0]\n",
      "in remove edge\n",
      "Using max stitch distance (300) for smoothing because stitch_distance greater (422.325681778799) \n",
      "Found winning edge: [83, 85.0]\n",
      "in remove edge\n"
     ]
    },
    {
     "data": {
      "application/vnd.jupyter.widget-view+json": {
       "model_id": "08550d2683ea4b1bbc349835e51773d0",
       "version_major": 2,
       "version_minor": 0
      },
      "text/plain": [
       "HBox(children=(FloatProgress(value=1.0, bar_style='info', max=1.0), HTML(value='')))"
      ]
     },
     "metadata": {},
     "output_type": "display_data"
    },
    {
     "name": "stdout",
     "output_type": "stream",
     "text": [
      "\n",
      "\n",
      "\n",
      "--- Working on 1-to-1 correspondence-----\n",
      "max(original_labels),len(original_labels) = (2, 3)\n",
      "empty_indices % = 0.16858252735056287\n",
      " conflict_indices % = 0.014428412874583796\n"
     ]
    },
    {
     "data": {
      "application/vnd.jupyter.widget-view+json": {
       "model_id": "727c7a6d13784de9853243e815c182da",
       "version_major": 2,
       "version_minor": 0
      },
      "text/plain": [
       "HBox(children=(FloatProgress(value=0.0, max=10.0), HTML(value='')))"
      ]
     },
     "metadata": {},
     "output_type": "display_data"
    },
    {
     "name": "stdout",
     "output_type": "stream",
     "text": [
      "\n",
      "AFTER face_lookup_resolved_test\n"
     ]
    },
    {
     "data": {
      "application/vnd.jupyter.widget-view+json": {
       "model_id": "8ec5dbfcbb9a4a21854970b9d6ebe590",
       "version_major": 2,
       "version_minor": 0
      },
      "text/plain": [
       "HBox(children=(FloatProgress(value=0.0, max=3.0), HTML(value='')))"
      ]
     },
     "metadata": {},
     "output_type": "display_data"
    },
    {
     "name": "stdout",
     "output_type": "stream",
     "text": [
      "\n",
      "MP_branches_with_stitch_point= [0, 1]\n",
      "MP_branches_for_correspondence = [0 1]\n",
      "MP_leftover = [], MP_leftover_idx = []\n",
      " Finished with (13, 1) \n",
      "\n",
      "\n",
      "\n",
      "Saved object at /notebooks/Platinum_Datajoint/Neuron_Processing/Debugging_2/limb_correspondence_MAP_1_13.pbz2\n",
      "File size is 11.636443 MB\n",
      "Saved object at /notebooks/Platinum_Datajoint/Neuron_Processing/Debugging_2/limb_correspondence_MP_1_13.pbz2\n",
      "File size is 78.127598 MB\n",
      "\n",
      "---- Working on (1, 2) connection-----\n",
      "Current stitch point was not a branch or endpoint, shortest_path_length to one = 93085.2801834154\n",
      "sk_conn = [216, 217]\n",
      "conn = [216, 217]\n",
      "winning_vertex = [ 498007.9450345   740112.46319107 1004841.60275945]\n",
      "MP_branches_with_stitch_point = [216, 217]\n",
      "MAP_branches_with_stitch_point = [0]\n",
      "MAP_stitch_point_on_end_or_branch = False\n",
      "Using max stitch distance (300) for smoothing because stitch_distance greater (551.2422315082002) \n",
      "Only 2 skeleton nodes so cannot do smoothing\n",
      "Using max stitch distance (300) for smoothing because stitch_distance greater (430.03439157816257) \n",
      "Found winning edge: [9, 10.0]\n",
      "in remove edge\n"
     ]
    },
    {
     "data": {
      "application/vnd.jupyter.widget-view+json": {
       "model_id": "d77f27a836a546c9940d19a8de390d5c",
       "version_major": 2,
       "version_minor": 0
      },
      "text/plain": [
       "HBox(children=(FloatProgress(value=1.0, bar_style='info', max=1.0), HTML(value='')))"
      ]
     },
     "metadata": {},
     "output_type": "display_data"
    },
    {
     "name": "stdout",
     "output_type": "stream",
     "text": [
      "\n",
      "\n",
      "\n",
      "--- Working on 1-to-1 correspondence-----\n",
      "max(original_labels),len(original_labels) = (1, 2)\n",
      "empty_indices % = 0.07980541979302908\n",
      " conflict_indices % = 9.178311649572061e-05\n"
     ]
    },
    {
     "data": {
      "application/vnd.jupyter.widget-view+json": {
       "model_id": "81a2cf94817544e68f63bd979408f41f",
       "version_major": 2,
       "version_minor": 0
      },
      "text/plain": [
       "HBox(children=(FloatProgress(value=0.0, max=85.0), HTML(value='')))"
      ]
     },
     "metadata": {},
     "output_type": "display_data"
    },
    {
     "name": "stdout",
     "output_type": "stream",
     "text": [
      "\n",
      "AFTER face_lookup_resolved_test\n"
     ]
    },
    {
     "data": {
      "application/vnd.jupyter.widget-view+json": {
       "model_id": "3b750b8bdf624eb3972e3bbd422ded02",
       "version_major": 2,
       "version_minor": 0
      },
      "text/plain": [
       "HBox(children=(FloatProgress(value=0.0, max=2.0), HTML(value='')))"
      ]
     },
     "metadata": {},
     "output_type": "display_data"
    },
    {
     "name": "stdout",
     "output_type": "stream",
     "text": [
      "\n"
     ]
    },
    {
     "data": {
      "application/vnd.jupyter.widget-view+json": {
       "model_id": "f32a6539f708484bbebd456a50e0089a",
       "version_major": 2,
       "version_minor": 0
      },
      "text/plain": [
       "HBox(children=(FloatProgress(value=1.0, bar_style='info', max=1.0), HTML(value='')))"
      ]
     },
     "metadata": {},
     "output_type": "display_data"
    },
    {
     "name": "stdout",
     "output_type": "stream",
     "text": [
      "\n",
      "\n",
      "\n",
      "--- Working on 1-to-1 correspondence-----\n",
      "max(original_labels),len(original_labels) = (3, 4)\n",
      "empty_indices % = 0.07904679533867444\n",
      " conflict_indices % = 0.015886744355426075\n"
     ]
    },
    {
     "data": {
      "application/vnd.jupyter.widget-view+json": {
       "model_id": "54638d06fe2f476cabd7e867918dd596",
       "version_major": 2,
       "version_minor": 0
      },
      "text/plain": [
       "HBox(children=(FloatProgress(value=1.0, bar_style='info', max=1.0), HTML(value='')))"
      ]
     },
     "metadata": {},
     "output_type": "display_data"
    },
    {
     "name": "stdout",
     "output_type": "stream",
     "text": [
      "\n",
      "AFTER face_lookup_resolved_test\n"
     ]
    },
    {
     "data": {
      "application/vnd.jupyter.widget-view+json": {
       "model_id": "0bee29070fd9416aac0a8503d0d9b5d5",
       "version_major": 2,
       "version_minor": 0
      },
      "text/plain": [
       "HBox(children=(FloatProgress(value=0.0, max=4.0), HTML(value='')))"
      ]
     },
     "metadata": {},
     "output_type": "display_data"
    },
    {
     "name": "stdout",
     "output_type": "stream",
     "text": [
      "\n",
      "Deleting branches from dictionary\n",
      "MP_branches_with_stitch_point= [216, 217]\n",
      "MP_branches_for_correspondence = [216 217]\n",
      "MP_leftover = [], MP_leftover_idx = []\n",
      " Finished with (1, 2) \n",
      "\n",
      "\n",
      "\n",
      "Saved object at /notebooks/Platinum_Datajoint/Neuron_Processing/Debugging_2/limb_correspondence_MAP_2_1.pbz2\n",
      "File size is 11.574119 MB\n",
      "Saved object at /notebooks/Platinum_Datajoint/Neuron_Processing/Debugging_2/limb_correspondence_MP_2_1.pbz2\n",
      "File size is 78.139561 MB\n",
      "\n",
      "---- Working on (5, 2) connection-----\n",
      "Current stitch point was not a branch or endpoint, shortest_path_length to one = 64926.17997001121\n",
      "sk_conn = [0]\n",
      "conn = [0]\n",
      "winning_vertex = [ 553819.22148898  692830.69020491 1062584.39719389]\n",
      "MP_branches_with_stitch_point = [0]\n",
      "MAP_branches_with_stitch_point = [2]\n",
      "MAP_stitch_point_on_end_or_branch = False\n",
      "Using max stitch distance (300) for smoothing because stitch_distance greater (360.81714542278974) \n",
      "Found winning edge: [9, 10.0]\n",
      "in remove edge\n"
     ]
    },
    {
     "data": {
      "application/vnd.jupyter.widget-view+json": {
       "model_id": "e0b44a5e118e4d8bb844be3876147531",
       "version_major": 2,
       "version_minor": 0
      },
      "text/plain": [
       "HBox(children=(FloatProgress(value=1.0, bar_style='info', max=1.0), HTML(value='')))"
      ]
     },
     "metadata": {},
     "output_type": "display_data"
    },
    {
     "name": "stdout",
     "output_type": "stream",
     "text": [
      "\n",
      "\n",
      "\n",
      "--- Working on 1-to-1 correspondence-----\n",
      "max(original_labels),len(original_labels) = (1, 2)\n",
      "empty_indices % = 0.054761593729588505\n",
      " conflict_indices % = 0.00039190071848465056\n"
     ]
    },
    {
     "data": {
      "application/vnd.jupyter.widget-view+json": {
       "model_id": "caa7343c5694447f844cfc6bc637638f",
       "version_major": 2,
       "version_minor": 0
      },
      "text/plain": [
       "HBox(children=(FloatProgress(value=0.0, max=64.0), HTML(value='')))"
      ]
     },
     "metadata": {},
     "output_type": "display_data"
    },
    {
     "name": "stdout",
     "output_type": "stream",
     "text": [
      "\n",
      "AFTER face_lookup_resolved_test\n"
     ]
    },
    {
     "data": {
      "application/vnd.jupyter.widget-view+json": {
       "model_id": "93240cac0092466497ec4382e474bdca",
       "version_major": 2,
       "version_minor": 0
      },
      "text/plain": [
       "HBox(children=(FloatProgress(value=0.0, max=2.0), HTML(value='')))"
      ]
     },
     "metadata": {},
     "output_type": "display_data"
    },
    {
     "name": "stdout",
     "output_type": "stream",
     "text": [
      "\n"
     ]
    },
    {
     "data": {
      "application/vnd.jupyter.widget-view+json": {
       "model_id": "684e2045f3f145a494d105afe709154e",
       "version_major": 2,
       "version_minor": 0
      },
      "text/plain": [
       "HBox(children=(FloatProgress(value=1.0, bar_style='info', max=1.0), HTML(value='')))"
      ]
     },
     "metadata": {},
     "output_type": "display_data"
    },
    {
     "name": "stdout",
     "output_type": "stream",
     "text": [
      "\n",
      "\n",
      "\n",
      "--- Working on 1-to-1 correspondence-----\n",
      "max(original_labels),len(original_labels) = (2, 3)\n",
      "empty_indices % = 0.05531882123421296\n",
      " conflict_indices % = 0.0035424581579217578\n"
     ]
    },
    {
     "data": {
      "application/vnd.jupyter.widget-view+json": {
       "model_id": "bfb4d76fd5d3448f8a01ab537284e5c4",
       "version_major": 2,
       "version_minor": 0
      },
      "text/plain": [
       "HBox(children=(FloatProgress(value=0.0, max=4.0), HTML(value='')))"
      ]
     },
     "metadata": {},
     "output_type": "display_data"
    },
    {
     "name": "stdout",
     "output_type": "stream",
     "text": [
      "\n",
      "AFTER face_lookup_resolved_test\n"
     ]
    },
    {
     "data": {
      "application/vnd.jupyter.widget-view+json": {
       "model_id": "dcaaddffc17b408cb177fae3d64a7894",
       "version_major": 2,
       "version_minor": 0
      },
      "text/plain": [
       "HBox(children=(FloatProgress(value=0.0, max=3.0), HTML(value='')))"
      ]
     },
     "metadata": {},
     "output_type": "display_data"
    },
    {
     "name": "stdout",
     "output_type": "stream",
     "text": [
      "\n",
      "Deleting branches from dictionary\n",
      "MP_branches_with_stitch_point= [0]\n",
      "MP_branches_for_correspondence = [0]\n",
      "MP_leftover = [], MP_leftover_idx = []\n",
      " Finished with (5, 2) \n",
      "\n",
      "\n",
      "\n",
      "Saved object at /notebooks/Platinum_Datajoint/Neuron_Processing/Debugging_2/limb_correspondence_MAP_2_5.pbz2\n",
      "File size is 11.59146 MB\n",
      "Saved object at /notebooks/Platinum_Datajoint/Neuron_Processing/Debugging_2/limb_correspondence_MP_2_5.pbz2\n",
      "File size is 78.129622 MB\n",
      "\n",
      "---- Working on (12, 2) connection-----\n",
      "Current stitch point was not a branch or endpoint, shortest_path_length to one = 21675.66842496086\n",
      "sk_conn = [2]\n",
      "conn = [2]\n",
      "winning_vertex = [ 522350.09707308  724956.82842626 1073755.50135052]\n",
      "MP_branches_with_stitch_point = [2]\n",
      "MAP_branches_with_stitch_point = [2]\n",
      "MAP_stitch_point_on_end_or_branch = False\n",
      "Using max stitch distance (300) for smoothing because stitch_distance greater (549.0700465947729) \n",
      "Found winning edge: [9, 10.0]\n",
      "in remove edge\n"
     ]
    },
    {
     "data": {
      "application/vnd.jupyter.widget-view+json": {
       "model_id": "01686d99c85e47d8b3ebc6e70199f01f",
       "version_major": 2,
       "version_minor": 0
      },
      "text/plain": [
       "HBox(children=(FloatProgress(value=1.0, bar_style='info', max=1.0), HTML(value='')))"
      ]
     },
     "metadata": {},
     "output_type": "display_data"
    },
    {
     "name": "stdout",
     "output_type": "stream",
     "text": [
      "\n",
      "\n",
      "\n",
      "--- Working on 1-to-1 correspondence-----\n",
      "max(original_labels),len(original_labels) = (1, 2)\n",
      "empty_indices % = 0.03501331492257619\n",
      " conflict_indices % = 0.0011342341453792286\n"
     ]
    },
    {
     "data": {
      "application/vnd.jupyter.widget-view+json": {
       "model_id": "ba12a127bc914ab7b185735f80b3a1aa",
       "version_major": 2,
       "version_minor": 0
      },
      "text/plain": [
       "HBox(children=(FloatProgress(value=0.0, max=30.0), HTML(value='')))"
      ]
     },
     "metadata": {},
     "output_type": "display_data"
    },
    {
     "name": "stdout",
     "output_type": "stream",
     "text": [
      "\n",
      "AFTER face_lookup_resolved_test\n"
     ]
    },
    {
     "data": {
      "application/vnd.jupyter.widget-view+json": {
       "model_id": "64a5b16551fe4b3cb481e8bbd6bcf149",
       "version_major": 2,
       "version_minor": 0
      },
      "text/plain": [
       "HBox(children=(FloatProgress(value=0.0, max=2.0), HTML(value='')))"
      ]
     },
     "metadata": {},
     "output_type": "display_data"
    },
    {
     "name": "stdout",
     "output_type": "stream",
     "text": [
      "\n"
     ]
    },
    {
     "data": {
      "application/vnd.jupyter.widget-view+json": {
       "model_id": "7962137b8e7249f490edc5fe17c3a1cf",
       "version_major": 2,
       "version_minor": 0
      },
      "text/plain": [
       "HBox(children=(FloatProgress(value=1.0, bar_style='info', max=1.0), HTML(value='')))"
      ]
     },
     "metadata": {},
     "output_type": "display_data"
    },
    {
     "name": "stdout",
     "output_type": "stream",
     "text": [
      "\n",
      "\n",
      "\n",
      "--- Working on 1-to-1 correspondence-----\n",
      "max(original_labels),len(original_labels) = (2, 3)\n",
      "empty_indices % = 0.03455136604066579\n",
      " conflict_indices % = 0.003930703159120687\n"
     ]
    },
    {
     "data": {
      "application/vnd.jupyter.widget-view+json": {
       "model_id": "0bb33e48d08048e8b6a3a5cc8db4f2cc",
       "version_major": 2,
       "version_minor": 0
      },
      "text/plain": [
       "HBox(children=(FloatProgress(value=0.0, max=3.0), HTML(value='')))"
      ]
     },
     "metadata": {},
     "output_type": "display_data"
    },
    {
     "name": "stdout",
     "output_type": "stream",
     "text": [
      "\n",
      "AFTER face_lookup_resolved_test\n"
     ]
    },
    {
     "data": {
      "application/vnd.jupyter.widget-view+json": {
       "model_id": "1385ee00bbfd42ef8c725fef9b04536c",
       "version_major": 2,
       "version_minor": 0
      },
      "text/plain": [
       "HBox(children=(FloatProgress(value=0.0, max=3.0), HTML(value='')))"
      ]
     },
     "metadata": {},
     "output_type": "display_data"
    },
    {
     "name": "stdout",
     "output_type": "stream",
     "text": [
      "\n",
      "Deleting branches from dictionary\n",
      "MP_branches_with_stitch_point= [2]\n",
      "MP_branches_for_correspondence = [2]\n",
      "MP_leftover = [], MP_leftover_idx = []\n",
      " Finished with (12, 2) \n",
      "\n",
      "\n",
      "\n",
      "Saved object at /notebooks/Platinum_Datajoint/Neuron_Processing/Debugging_2/limb_correspondence_MAP_2_12.pbz2\n",
      "File size is 11.636766 MB\n",
      "Saved object at /notebooks/Platinum_Datajoint/Neuron_Processing/Debugging_2/limb_correspondence_MP_2_12.pbz2\n",
      "File size is 78.11805 MB\n",
      "\n",
      "---- Working on (2, 3) connection-----\n",
      "Current stitch point was not a branch or endpoint, shortest_path_length to one = 997.1158599124954\n",
      "sk_conn = [3]\n",
      "conn = [3]\n",
      "winning_vertex = [ 545977.  692708. 1054040.]\n",
      "MP_branches_with_stitch_point = [0, 3]\n",
      "MAP_branches_with_stitch_point = [0]\n",
      "MAP_stitch_point_on_end_or_branch = False\n",
      "Not adjusting MP skeletons because keep_MP_stitch_static = True\n",
      "Not adjusting MP skeletons because keep_MP_stitch_static = True\n",
      "Using max stitch distance (300) for smoothing because stitch_distance greater (1230.0056910437447) \n",
      "Only 2 skeleton nodes so cannot do smoothing\n",
      "Using max stitch distance (300) for smoothing because stitch_distance greater (1451.865351883569) \n",
      "Found winning edge: [1, 4.0]\n",
      "in remove edge\n"
     ]
    },
    {
     "data": {
      "application/vnd.jupyter.widget-view+json": {
       "model_id": "52de104321394424a33c36e726b4a14c",
       "version_major": 2,
       "version_minor": 0
      },
      "text/plain": [
       "HBox(children=(FloatProgress(value=1.0, bar_style='info', max=1.0), HTML(value='')))"
      ]
     },
     "metadata": {},
     "output_type": "display_data"
    },
    {
     "name": "stdout",
     "output_type": "stream",
     "text": [
      "\n",
      "\n",
      "\n",
      "--- Working on 1-to-1 correspondence-----\n",
      "max(original_labels),len(original_labels) = (1, 2)\n",
      "empty_indices % = 0.09608824823943662\n",
      " conflict_indices % = 0.0053642165492957744\n"
     ]
    },
    {
     "data": {
      "application/vnd.jupyter.widget-view+json": {
       "model_id": "cf0e99f150c24ff8834562805bd14908",
       "version_major": 2,
       "version_minor": 0
      },
      "text/plain": [
       "HBox(children=(FloatProgress(value=0.0, max=93.0), HTML(value='')))"
      ]
     },
     "metadata": {},
     "output_type": "display_data"
    },
    {
     "name": "stdout",
     "output_type": "stream",
     "text": [
      "\n",
      "AFTER face_lookup_resolved_test\n"
     ]
    },
    {
     "data": {
      "application/vnd.jupyter.widget-view+json": {
       "model_id": "a265682a836b4d048dfdf81d570c9c7e",
       "version_major": 2,
       "version_minor": 0
      },
      "text/plain": [
       "HBox(children=(FloatProgress(value=0.0, max=2.0), HTML(value='')))"
      ]
     },
     "metadata": {},
     "output_type": "display_data"
    },
    {
     "name": "stdout",
     "output_type": "stream",
     "text": [
      "\n"
     ]
    },
    {
     "data": {
      "application/vnd.jupyter.widget-view+json": {
       "model_id": "c41e50225fe94a83ab0863f008fb62a7",
       "version_major": 2,
       "version_minor": 0
      },
      "text/plain": [
       "HBox(children=(FloatProgress(value=1.0, bar_style='info', max=1.0), HTML(value='')))"
      ]
     },
     "metadata": {},
     "output_type": "display_data"
    },
    {
     "name": "stdout",
     "output_type": "stream",
     "text": [
      "\n",
      "\n",
      "\n",
      "--- Working on 1-to-1 correspondence-----\n",
      "max(original_labels),len(original_labels) = (2, 3)\n",
      "empty_indices % = 0.1016401389674396\n",
      " conflict_indices % = 0.01564730279281463\n"
     ]
    },
    {
     "data": {
      "application/vnd.jupyter.widget-view+json": {
       "model_id": "e3dda7fab0fb461bb6c20f9a3c1c4dc7",
       "version_major": 2,
       "version_minor": 0
      },
      "text/plain": [
       "HBox(children=(FloatProgress(value=0.0, max=3.0), HTML(value='')))"
      ]
     },
     "metadata": {},
     "output_type": "display_data"
    },
    {
     "name": "stdout",
     "output_type": "stream",
     "text": [
      "\n",
      "AFTER face_lookup_resolved_test\n"
     ]
    },
    {
     "data": {
      "application/vnd.jupyter.widget-view+json": {
       "model_id": "69fb47af480a41319e9a0bdbca38edc9",
       "version_major": 2,
       "version_minor": 0
      },
      "text/plain": [
       "HBox(children=(FloatProgress(value=0.0, max=3.0), HTML(value='')))"
      ]
     },
     "metadata": {},
     "output_type": "display_data"
    },
    {
     "name": "stdout",
     "output_type": "stream",
     "text": [
      "\n",
      "Deleting branches from dictionary\n",
      "MP_branches_with_stitch_point= [0, 3]\n",
      "MP_branches_for_correspondence = [3]\n",
      "MP_leftover = [0], MP_leftover_idx = [0]\n",
      " Finished with (2, 3) \n",
      "\n",
      "\n",
      "\n",
      "Saved object at /notebooks/Platinum_Datajoint/Neuron_Processing/Debugging_2/limb_correspondence_MAP_3_2.pbz2\n",
      "File size is 11.680962 MB\n",
      "Saved object at /notebooks/Platinum_Datajoint/Neuron_Processing/Debugging_2/limb_correspondence_MP_3_2.pbz2\n",
      "File size is 78.113709 MB\n",
      "\n",
      "---- Working on (6, 3) connection-----\n",
      "Current stitch point was not a branch or endpoint, shortest_path_length to one = 699.9999999999848\n",
      "Connectivity was 0 for the MP mesh groups touching the vertex group so not restricting by that anymore\n",
      "sk_conn = [0 1 2 3 4 5 6 7 8]\n",
      "conn = []\n",
      "winning_vertex = [ 545977.  692708. 1054040.]\n",
      "MP_branches_with_stitch_point = [5]\n",
      "MAP_branches_with_stitch_point = [0]\n",
      "MAP_stitch_point_on_end_or_branch = False\n",
      "Not adjusting MP skeletons because keep_MP_stitch_static = True\n",
      "New stitch point was already on the skeleton so don't need to add it\n",
      "Using max stitch distance (300) for smoothing because stitch_distance greater (800.0000000000068) \n",
      "Only 2 skeleton nodes so cannot do smoothing\n"
     ]
    },
    {
     "data": {
      "application/vnd.jupyter.widget-view+json": {
       "model_id": "085ebeb53ad14d1184563d2ffba9a163",
       "version_major": 2,
       "version_minor": 0
      },
      "text/plain": [
       "HBox(children=(FloatProgress(value=1.0, bar_style='info', max=1.0), HTML(value='')))"
      ]
     },
     "metadata": {},
     "output_type": "display_data"
    },
    {
     "name": "stdout",
     "output_type": "stream",
     "text": [
      "empty mesh_correspondence_indices_2 returned so returning original mesh correspondence\n",
      "\n",
      "\n",
      "\n",
      "--- Working on 1-to-1 correspondence-----\n",
      "max(original_labels),len(original_labels) = (1, 2)\n",
      "empty_indices % = 0.0830860534124629\n",
      " conflict_indices % = 0.005934718100890208\n"
     ]
    },
    {
     "data": {
      "application/vnd.jupyter.widget-view+json": {
       "model_id": "f6203df0e41446538516bbe5951ac8b0",
       "version_major": 2,
       "version_minor": 0
      },
      "text/plain": [
       "HBox(children=(FloatProgress(value=0.0, max=3.0), HTML(value='')))"
      ]
     },
     "metadata": {},
     "output_type": "display_data"
    },
    {
     "name": "stdout",
     "output_type": "stream",
     "text": [
      "\n",
      "AFTER face_lookup_resolved_test\n"
     ]
    },
    {
     "data": {
      "application/vnd.jupyter.widget-view+json": {
       "model_id": "84fabb62fdca484480db0b9af6285e3f",
       "version_major": 2,
       "version_minor": 0
      },
      "text/plain": [
       "HBox(children=(FloatProgress(value=0.0, max=2.0), HTML(value='')))"
      ]
     },
     "metadata": {},
     "output_type": "display_data"
    },
    {
     "name": "stdout",
     "output_type": "stream",
     "text": [
      "\n"
     ]
    },
    {
     "data": {
      "application/vnd.jupyter.widget-view+json": {
       "model_id": "5948757c3aec4e8ab342f050c7c56179",
       "version_major": 2,
       "version_minor": 0
      },
      "text/plain": [
       "HBox(children=(FloatProgress(value=1.0, bar_style='info', max=1.0), HTML(value='')))"
      ]
     },
     "metadata": {},
     "output_type": "display_data"
    },
    {
     "name": "stdout",
     "output_type": "stream",
     "text": [
      "empty mesh_correspondence_indices_2 returned so returning original mesh correspondence\n",
      "\n",
      "\n",
      "\n",
      "--- Working on 1-to-1 correspondence-----\n",
      "max(original_labels),len(original_labels) = (1, 2)\n",
      "empty_indices % = 0.0830860534124629\n",
      " conflict_indices % = 0.005934718100890208\n"
     ]
    },
    {
     "data": {
      "application/vnd.jupyter.widget-view+json": {
       "model_id": "6ff601a3a0ba4a37ad1389a14add78ba",
       "version_major": 2,
       "version_minor": 0
      },
      "text/plain": [
       "HBox(children=(FloatProgress(value=1.0, bar_style='info', max=1.0), HTML(value='')))"
      ]
     },
     "metadata": {},
     "output_type": "display_data"
    },
    {
     "name": "stdout",
     "output_type": "stream",
     "text": [
      "\n",
      "AFTER face_lookup_resolved_test\n"
     ]
    },
    {
     "data": {
      "application/vnd.jupyter.widget-view+json": {
       "model_id": "15a56c9fac394b1b89eec317adabe11e",
       "version_major": 2,
       "version_minor": 0
      },
      "text/plain": [
       "HBox(children=(FloatProgress(value=0.0, max=2.0), HTML(value='')))"
      ]
     },
     "metadata": {},
     "output_type": "display_data"
    },
    {
     "name": "stdout",
     "output_type": "stream",
     "text": [
      "\n",
      "Deleting branches from dictionary\n",
      "MP_branches_with_stitch_point= [5]\n",
      "MP_branches_for_correspondence = []\n",
      "MP_leftover = [5], MP_leftover_idx = [0]\n",
      " Finished with (6, 3) \n",
      "\n",
      "\n",
      "\n",
      "Saved object at /notebooks/Platinum_Datajoint/Neuron_Processing/Debugging_2/limb_correspondence_MAP_3_6.pbz2\n",
      "File size is 11.681816 MB\n",
      "Saved object at /notebooks/Platinum_Datajoint/Neuron_Processing/Debugging_2/limb_correspondence_MP_3_6.pbz2\n",
      "File size is 78.113709 MB\n",
      "\n",
      "---- Working on (11, 3) connection-----\n",
      "Gettng rid of 5 nodes INSIDE SKELETON TO GRAPH CONVERSION\n",
      "Current stitch point was not a branch or endpoint, shortest_path_length to one = 20719.145065003075\n",
      "sk_conn = [0]\n",
      "conn = [0]\n",
      "winning_vertex = [ 594726.93964965  641232.38071265 1012471.79415163]\n",
      "MP_branches_with_stitch_point = [0]\n",
      "MAP_branches_with_stitch_point = [4]\n",
      "MAP_stitch_point_on_end_or_branch = False\n",
      "Using max stitch distance (300) for smoothing because stitch_distance greater (347.4999928937666) \n",
      "Found winning edge: [51, 52.0]\n",
      "in remove edge\n"
     ]
    },
    {
     "data": {
      "application/vnd.jupyter.widget-view+json": {
       "model_id": "5d81a8f1a8ae413294058a7d6c1b7145",
       "version_major": 2,
       "version_minor": 0
      },
      "text/plain": [
       "HBox(children=(FloatProgress(value=1.0, bar_style='info', max=1.0), HTML(value='')))"
      ]
     },
     "metadata": {},
     "output_type": "display_data"
    },
    {
     "name": "stdout",
     "output_type": "stream",
     "text": [
      "\n",
      "\n",
      "\n",
      "--- Working on 1-to-1 correspondence-----\n",
      "max(original_labels),len(original_labels) = (1, 2)\n",
      "empty_indices % = 0.10216615486762387\n",
      " conflict_indices % = 0.000885274019973995\n"
     ]
    },
    {
     "data": {
      "application/vnd.jupyter.widget-view+json": {
       "model_id": "862aef60f40d4cad927345f88afa7aa4",
       "version_major": 2,
       "version_minor": 0
      },
      "text/plain": [
       "HBox(children=(FloatProgress(value=0.0, max=91.0), HTML(value='')))"
      ]
     },
     "metadata": {},
     "output_type": "display_data"
    },
    {
     "name": "stdout",
     "output_type": "stream",
     "text": [
      "\n",
      "AFTER face_lookup_resolved_test\n"
     ]
    },
    {
     "data": {
      "application/vnd.jupyter.widget-view+json": {
       "model_id": "0ae6f64c5995457ea0ce1812c0df8572",
       "version_major": 2,
       "version_minor": 0
      },
      "text/plain": [
       "HBox(children=(FloatProgress(value=0.0, max=2.0), HTML(value='')))"
      ]
     },
     "metadata": {},
     "output_type": "display_data"
    },
    {
     "name": "stdout",
     "output_type": "stream",
     "text": [
      "\n"
     ]
    },
    {
     "data": {
      "application/vnd.jupyter.widget-view+json": {
       "model_id": "482d39016ddf4273b8a03bdbd6f7679c",
       "version_major": 2,
       "version_minor": 0
      },
      "text/plain": [
       "HBox(children=(FloatProgress(value=1.0, bar_style='info', max=1.0), HTML(value='')))"
      ]
     },
     "metadata": {},
     "output_type": "display_data"
    },
    {
     "name": "stdout",
     "output_type": "stream",
     "text": [
      "\n",
      "\n",
      "\n",
      "--- Working on 1-to-1 correspondence-----\n",
      "max(original_labels),len(original_labels) = (2, 3)\n",
      "empty_indices % = 0.10421118113217753\n",
      " conflict_indices % = 0.003651313120385146\n"
     ]
    },
    {
     "data": {
      "application/vnd.jupyter.widget-view+json": {
       "model_id": "f724df5e5efb450bb31c28b174948e89",
       "version_major": 2,
       "version_minor": 0
      },
      "text/plain": [
       "HBox(children=(FloatProgress(value=0.0, max=5.0), HTML(value='')))"
      ]
     },
     "metadata": {},
     "output_type": "display_data"
    },
    {
     "name": "stdout",
     "output_type": "stream",
     "text": [
      "\n",
      "AFTER face_lookup_resolved_test\n"
     ]
    },
    {
     "data": {
      "application/vnd.jupyter.widget-view+json": {
       "model_id": "e092e6802b9846a3aae541b55c96db1c",
       "version_major": 2,
       "version_minor": 0
      },
      "text/plain": [
       "HBox(children=(FloatProgress(value=0.0, max=3.0), HTML(value='')))"
      ]
     },
     "metadata": {},
     "output_type": "display_data"
    },
    {
     "name": "stdout",
     "output_type": "stream",
     "text": [
      "\n",
      "Deleting branches from dictionary\n",
      "MP_branches_with_stitch_point= [0]\n",
      "MP_branches_for_correspondence = [0]\n",
      "MP_leftover = [], MP_leftover_idx = []\n",
      " Finished with (11, 3) \n",
      "\n",
      "\n",
      "\n",
      "Saved object at /notebooks/Platinum_Datajoint/Neuron_Processing/Debugging_2/limb_correspondence_MAP_3_11.pbz2\n",
      "File size is 11.698977 MB\n",
      "Saved object at /notebooks/Platinum_Datajoint/Neuron_Processing/Debugging_2/limb_correspondence_MP_3_11.pbz2\n",
      "File size is 78.103764 MB\n",
      "\n",
      "---- Working on (1, 4) connection-----\n",
      "Current stitch point was not a branch or endpoint, shortest_path_length to one = 1635.797431240392\n",
      "sk_conn = [92]\n",
      "conn = [92]\n",
      "winning_vertex = [ 565886.25537064  730293.82641112 1108887.9488031 ]\n",
      "MP_branches_with_stitch_point = [92, 93]\n",
      "MAP_branches_with_stitch_point = [0]\n",
      "MAP_stitch_point_on_end_or_branch = False\n",
      "Using max stitch distance (300) for smoothing because stitch_distance greater (1803.2564904477133) \n",
      "Found winning edge: [9, 10.0]\n",
      "in remove edge\n",
      "Using max stitch distance (300) for smoothing because stitch_distance greater (1805.4956767532103) \n",
      "Found winning edge: [9, 10.0]\n",
      "in remove edge\n"
     ]
    },
    {
     "data": {
      "application/vnd.jupyter.widget-view+json": {
       "model_id": "91a248109b4247c193e5bad9a83e1eac",
       "version_major": 2,
       "version_minor": 0
      },
      "text/plain": [
       "HBox(children=(FloatProgress(value=1.0, bar_style='info', max=1.0), HTML(value='')))"
      ]
     },
     "metadata": {},
     "output_type": "display_data"
    },
    {
     "name": "stdout",
     "output_type": "stream",
     "text": [
      "\n",
      "\n",
      "\n",
      "--- Working on 1-to-1 correspondence-----\n",
      "max(original_labels),len(original_labels) = (1, 2)\n",
      "empty_indices % = 0.4938875305623472\n",
      " conflict_indices % = 0.020124130148580027\n"
     ]
    },
    {
     "data": {
      "application/vnd.jupyter.widget-view+json": {
       "model_id": "d7fcb7eacce84002983b858bf1b7465d",
       "version_major": 2,
       "version_minor": 0
      },
      "text/plain": [
       "HBox(children=(FloatProgress(value=0.0, max=22.0), HTML(value='')))"
      ]
     },
     "metadata": {},
     "output_type": "display_data"
    },
    {
     "name": "stdout",
     "output_type": "stream",
     "text": [
      "\n",
      "AFTER face_lookup_resolved_test\n"
     ]
    },
    {
     "data": {
      "application/vnd.jupyter.widget-view+json": {
       "model_id": "a5d5b34afbcd4d4482bc72997bbf09ba",
       "version_major": 2,
       "version_minor": 0
      },
      "text/plain": [
       "HBox(children=(FloatProgress(value=0.0, max=2.0), HTML(value='')))"
      ]
     },
     "metadata": {},
     "output_type": "display_data"
    },
    {
     "name": "stdout",
     "output_type": "stream",
     "text": [
      "\n"
     ]
    },
    {
     "data": {
      "application/vnd.jupyter.widget-view+json": {
       "model_id": "850a62728d9145f59b7c3a07ddb9f89b",
       "version_major": 2,
       "version_minor": 0
      },
      "text/plain": [
       "HBox(children=(FloatProgress(value=1.0, bar_style='info', max=1.0), HTML(value='')))"
      ]
     },
     "metadata": {},
     "output_type": "display_data"
    },
    {
     "name": "stdout",
     "output_type": "stream",
     "text": [
      "\n",
      "\n",
      "\n",
      "--- Working on 1-to-1 correspondence-----\n",
      "max(original_labels),len(original_labels) = (2, 3)\n",
      "empty_indices % = 0.5030252100840336\n",
      " conflict_indices % = 0.017983193277310926\n"
     ]
    },
    {
     "data": {
      "application/vnd.jupyter.widget-view+json": {
       "model_id": "2a53506639c249a793da161aea0fe4fd",
       "version_major": 2,
       "version_minor": 0
      },
      "text/plain": [
       "HBox(children=(FloatProgress(value=0.0, max=6.0), HTML(value='')))"
      ]
     },
     "metadata": {},
     "output_type": "display_data"
    },
    {
     "name": "stdout",
     "output_type": "stream",
     "text": [
      "\n",
      "AFTER face_lookup_resolved_test\n"
     ]
    },
    {
     "data": {
      "application/vnd.jupyter.widget-view+json": {
       "model_id": "1012ccc891bf4c56b2396e43d61347d5",
       "version_major": 2,
       "version_minor": 0
      },
      "text/plain": [
       "HBox(children=(FloatProgress(value=0.0, max=3.0), HTML(value='')))"
      ]
     },
     "metadata": {},
     "output_type": "display_data"
    },
    {
     "name": "stdout",
     "output_type": "stream",
     "text": [
      "\n",
      "Deleting branches from dictionary\n",
      "MP_branches_with_stitch_point= [92, 93]\n",
      "MP_branches_for_correspondence = [92]\n",
      "MP_leftover = [93], MP_leftover_idx = [1]\n",
      " Finished with (1, 4) \n",
      "\n",
      "\n",
      "\n",
      "Saved object at /notebooks/Platinum_Datajoint/Neuron_Processing/Debugging_2/limb_correspondence_MAP_4_1.pbz2\n",
      "File size is 11.699461 MB\n",
      "Saved object at /notebooks/Platinum_Datajoint/Neuron_Processing/Debugging_2/limb_correspondence_MP_4_1.pbz2\n",
      "File size is 78.102394 MB\n",
      "\n",
      "---- Working on (3, 4) connection-----\n",
      "Current stitch point was not a branch or endpoint, shortest_path_length to one = 621.9028958751179\n",
      "sk_conn = [7]\n",
      "conn = [7]\n",
      "winning_vertex = [ 568068.60056877  729763.18266266 1110843.32830932]\n",
      "MP_branches_with_stitch_point = [7]\n",
      "MAP_branches_with_stitch_point = [1]\n",
      "MAP_stitch_point_on_end_or_branch = False\n",
      "Using max stitch distance (300) for smoothing because stitch_distance greater (615.5716892214199) \n",
      "Found winning edge: [9, 10.0]\n",
      "in remove edge\n"
     ]
    },
    {
     "data": {
      "application/vnd.jupyter.widget-view+json": {
       "model_id": "9543768bb0c2477c940de8cd9cfffc83",
       "version_major": 2,
       "version_minor": 0
      },
      "text/plain": [
       "HBox(children=(FloatProgress(value=1.0, bar_style='info', max=1.0), HTML(value='')))"
      ]
     },
     "metadata": {},
     "output_type": "display_data"
    },
    {
     "name": "stdout",
     "output_type": "stream",
     "text": [
      "\n",
      "\n",
      "\n",
      "--- Working on 1-to-1 correspondence-----\n",
      "max(original_labels),len(original_labels) = (1, 2)\n",
      "empty_indices % = 0.5349375289217955\n",
      " conflict_indices % = 0.02244331328088848\n"
     ]
    },
    {
     "data": {
      "application/vnd.jupyter.widget-view+json": {
       "model_id": "95029598d8f84fa382df6d17ec78c49a",
       "version_major": 2,
       "version_minor": 0
      },
      "text/plain": [
       "HBox(children=(FloatProgress(value=0.0, max=21.0), HTML(value='')))"
      ]
     },
     "metadata": {},
     "output_type": "display_data"
    },
    {
     "name": "stdout",
     "output_type": "stream",
     "text": [
      "\n",
      "AFTER face_lookup_resolved_test\n"
     ]
    },
    {
     "data": {
      "application/vnd.jupyter.widget-view+json": {
       "model_id": "db3aef6737b9456099f260103f12bf15",
       "version_major": 2,
       "version_minor": 0
      },
      "text/plain": [
       "HBox(children=(FloatProgress(value=0.0, max=2.0), HTML(value='')))"
      ]
     },
     "metadata": {},
     "output_type": "display_data"
    },
    {
     "name": "stdout",
     "output_type": "stream",
     "text": [
      "\n"
     ]
    },
    {
     "data": {
      "application/vnd.jupyter.widget-view+json": {
       "model_id": "f16be00728bd47169ebccb78c16d814e",
       "version_major": 2,
       "version_minor": 0
      },
      "text/plain": [
       "HBox(children=(FloatProgress(value=1.0, bar_style='info', max=1.0), HTML(value='')))"
      ]
     },
     "metadata": {},
     "output_type": "display_data"
    },
    {
     "name": "stdout",
     "output_type": "stream",
     "text": [
      "\n",
      "\n",
      "\n",
      "--- Working on 1-to-1 correspondence-----\n",
      "max(original_labels),len(original_labels) = (2, 3)\n",
      "empty_indices % = 0.5297133092842226\n",
      " conflict_indices % = 0.0336054680083539\n"
     ]
    },
    {
     "data": {
      "application/vnd.jupyter.widget-view+json": {
       "model_id": "b087aaab845f43c5ab6bfe83dd4f251f",
       "version_major": 2,
       "version_minor": 0
      },
      "text/plain": [
       "HBox(children=(FloatProgress(value=0.0, max=7.0), HTML(value='')))"
      ]
     },
     "metadata": {},
     "output_type": "display_data"
    },
    {
     "name": "stdout",
     "output_type": "stream",
     "text": [
      "\n",
      "AFTER face_lookup_resolved_test\n"
     ]
    },
    {
     "data": {
      "application/vnd.jupyter.widget-view+json": {
       "model_id": "52a9fb5a335f4df8a0315f9b7b9c24be",
       "version_major": 2,
       "version_minor": 0
      },
      "text/plain": [
       "HBox(children=(FloatProgress(value=0.0, max=3.0), HTML(value='')))"
      ]
     },
     "metadata": {},
     "output_type": "display_data"
    },
    {
     "name": "stdout",
     "output_type": "stream",
     "text": [
      "\n",
      "Deleting branches from dictionary\n",
      "MP_branches_with_stitch_point= [7]\n",
      "MP_branches_for_correspondence = [7]\n",
      "MP_leftover = [], MP_leftover_idx = []\n",
      " Finished with (3, 4) \n",
      "\n",
      "\n",
      "\n",
      "Saved object at /notebooks/Platinum_Datajoint/Neuron_Processing/Debugging_2/limb_correspondence_MAP_4_3.pbz2\n",
      "File size is 11.725924 MB\n",
      "Saved object at /notebooks/Platinum_Datajoint/Neuron_Processing/Debugging_2/limb_correspondence_MP_4_3.pbz2\n",
      "File size is 78.078161 MB\n",
      "\n",
      "---- Working on (9, 4) connection-----\n",
      "Current stitch point was not a branch or endpoint, shortest_path_length to one = 1339.0002568979635\n",
      "sk_conn = [0, 1]\n",
      "conn = [0, 1]\n",
      "winning_vertex = [ 566687.83867622  728123.53063494 1108939.11231519]\n",
      "MP_branches_with_stitch_point = [0, 1, 2]\n",
      "MAP_branches_with_stitch_point = [1]\n",
      "MAP_stitch_point_on_end_or_branch = False\n",
      "Using max stitch distance (300) for smoothing because stitch_distance greater (2536.5642463168433) \n",
      "Found winning edge: [9, 10.0]\n",
      "in remove edge\n",
      "Using max stitch distance (300) for smoothing because stitch_distance greater (2028.9390755993315) \n",
      "Found winning edge: [161, 162.0]\n",
      "in remove edge\n",
      "Using max stitch distance (300) for smoothing because stitch_distance greater (2473.714379023749) \n",
      "Found winning edge: [412, 413.0]\n",
      "in remove edge\n"
     ]
    },
    {
     "data": {
      "application/vnd.jupyter.widget-view+json": {
       "model_id": "4827acf5b2aa4550ae26194649b33ee8",
       "version_major": 2,
       "version_minor": 0
      },
      "text/plain": [
       "HBox(children=(FloatProgress(value=1.0, bar_style='info', max=1.0), HTML(value='')))"
      ]
     },
     "metadata": {},
     "output_type": "display_data"
    },
    {
     "name": "stdout",
     "output_type": "stream",
     "text": [
      "\n",
      "\n",
      "\n",
      "--- Working on 1-to-1 correspondence-----\n",
      "max(original_labels),len(original_labels) = (1, 2)\n",
      "empty_indices % = 0.21728515625\n",
      " conflict_indices % = 0.0302734375\n"
     ]
    },
    {
     "data": {
      "application/vnd.jupyter.widget-view+json": {
       "model_id": "36cb519db45940ad89e47e5f8be999a8",
       "version_major": 2,
       "version_minor": 0
      },
      "text/plain": [
       "HBox(children=(FloatProgress(value=0.0, max=20.0), HTML(value='')))"
      ]
     },
     "metadata": {},
     "output_type": "display_data"
    },
    {
     "name": "stdout",
     "output_type": "stream",
     "text": [
      "\n",
      "AFTER face_lookup_resolved_test\n"
     ]
    },
    {
     "data": {
      "application/vnd.jupyter.widget-view+json": {
       "model_id": "e36bdcb93f72467e873c5629d54ef761",
       "version_major": 2,
       "version_minor": 0
      },
      "text/plain": [
       "HBox(children=(FloatProgress(value=0.0, max=2.0), HTML(value='')))"
      ]
     },
     "metadata": {},
     "output_type": "display_data"
    },
    {
     "name": "stdout",
     "output_type": "stream",
     "text": [
      "\n"
     ]
    },
    {
     "data": {
      "application/vnd.jupyter.widget-view+json": {
       "model_id": "0f15b70f7652443483cde4bd1190eb5d",
       "version_major": 2,
       "version_minor": 0
      },
      "text/plain": [
       "HBox(children=(FloatProgress(value=1.0, bar_style='info', max=1.0), HTML(value='')))"
      ]
     },
     "metadata": {},
     "output_type": "display_data"
    },
    {
     "name": "stdout",
     "output_type": "stream",
     "text": [
      "\n",
      "\n",
      "\n",
      "--- Working on 1-to-1 correspondence-----\n",
      "max(original_labels),len(original_labels) = (3, 4)\n",
      "empty_indices % = 0.2292466168450818\n",
      " conflict_indices % = 0.0159563724500101\n"
     ]
    },
    {
     "data": {
      "application/vnd.jupyter.widget-view+json": {
       "model_id": "e0877648a8584162a58644be2cf918ba",
       "version_major": 2,
       "version_minor": 0
      },
      "text/plain": [
       "HBox(children=(FloatProgress(value=0.0, max=12.0), HTML(value='')))"
      ]
     },
     "metadata": {},
     "output_type": "display_data"
    },
    {
     "name": "stdout",
     "output_type": "stream",
     "text": [
      "\n",
      "AFTER face_lookup_resolved_test\n"
     ]
    },
    {
     "data": {
      "application/vnd.jupyter.widget-view+json": {
       "model_id": "25f2391164214bb2beaec0263ef78944",
       "version_major": 2,
       "version_minor": 0
      },
      "text/plain": [
       "HBox(children=(FloatProgress(value=0.0, max=4.0), HTML(value='')))"
      ]
     },
     "metadata": {},
     "output_type": "display_data"
    },
    {
     "name": "stdout",
     "output_type": "stream",
     "text": [
      "\n",
      "Deleting branches from dictionary\n",
      "MP_branches_with_stitch_point= [0, 1, 2]\n",
      "MP_branches_for_correspondence = [0 1]\n",
      "MP_leftover = [2], MP_leftover_idx = [2]\n",
      " Finished with (9, 4) \n",
      "\n",
      "\n",
      "\n",
      "Saved object at /notebooks/Platinum_Datajoint/Neuron_Processing/Debugging_2/limb_correspondence_MAP_4_9.pbz2\n",
      "File size is 11.727007 MB\n",
      "Saved object at /notebooks/Platinum_Datajoint/Neuron_Processing/Debugging_2/limb_correspondence_MP_4_9.pbz2\n",
      "File size is 78.078328 MB\n",
      "\n",
      "---- Working on (10, 4) connection-----\n",
      "Current stitch point was not a branch or endpoint, shortest_path_length to one = 745.5633940315881\n",
      "sk_conn = [1]\n",
      "conn = [1]\n",
      "winning_vertex = [ 566354.3922113   730269.91833811 1111505.67767605]\n",
      "MP_branches_with_stitch_point = [1]\n",
      "MAP_branches_with_stitch_point = [3]\n",
      "MAP_stitch_point_on_end_or_branch = False\n",
      "Using max stitch distance (300) for smoothing because stitch_distance greater (1296.2349972901127) \n",
      "Found winning edge: [26, 27.0]\n",
      "in remove edge\n"
     ]
    },
    {
     "data": {
      "application/vnd.jupyter.widget-view+json": {
       "model_id": "86516132dd894dae968833b98ae872aa",
       "version_major": 2,
       "version_minor": 0
      },
      "text/plain": [
       "HBox(children=(FloatProgress(value=1.0, bar_style='info', max=1.0), HTML(value='')))"
      ]
     },
     "metadata": {},
     "output_type": "display_data"
    },
    {
     "name": "stdout",
     "output_type": "stream",
     "text": [
      "\n",
      "\n",
      "\n",
      "--- Working on 1-to-1 correspondence-----\n",
      "max(original_labels),len(original_labels) = (1, 2)\n",
      "empty_indices % = 0.31092436974789917\n",
      " conflict_indices % = 0.026260504201680673\n"
     ]
    },
    {
     "data": {
      "application/vnd.jupyter.widget-view+json": {
       "model_id": "cb02476bfabf4a9c941a35fd715842e3",
       "version_major": 2,
       "version_minor": 0
      },
      "text/plain": [
       "HBox(children=(FloatProgress(value=0.0, max=9.0), HTML(value='')))"
      ]
     },
     "metadata": {},
     "output_type": "display_data"
    },
    {
     "name": "stdout",
     "output_type": "stream",
     "text": [
      "\n",
      "AFTER face_lookup_resolved_test\n"
     ]
    },
    {
     "data": {
      "application/vnd.jupyter.widget-view+json": {
       "model_id": "72a15d6b8aac40e5a98e9f3f61105fce",
       "version_major": 2,
       "version_minor": 0
      },
      "text/plain": [
       "HBox(children=(FloatProgress(value=0.0, max=2.0), HTML(value='')))"
      ]
     },
     "metadata": {},
     "output_type": "display_data"
    },
    {
     "name": "stdout",
     "output_type": "stream",
     "text": [
      "\n"
     ]
    },
    {
     "data": {
      "application/vnd.jupyter.widget-view+json": {
       "model_id": "8a4dc7aa65214b47afb7507974b1b241",
       "version_major": 2,
       "version_minor": 0
      },
      "text/plain": [
       "HBox(children=(FloatProgress(value=1.0, bar_style='info', max=1.0), HTML(value='')))"
      ]
     },
     "metadata": {},
     "output_type": "display_data"
    },
    {
     "name": "stdout",
     "output_type": "stream",
     "text": [
      "\n",
      "\n",
      "\n",
      "--- Working on 1-to-1 correspondence-----\n",
      "max(original_labels),len(original_labels) = (2, 3)\n",
      "empty_indices % = 0.3405531489503499\n",
      " conflict_indices % = 0.22592469176941019\n"
     ]
    },
    {
     "data": {
      "application/vnd.jupyter.widget-view+json": {
       "model_id": "988c8937dc36423b91d24499383d355e",
       "version_major": 2,
       "version_minor": 0
      },
      "text/plain": [
       "HBox(children=(FloatProgress(value=0.0, max=2.0), HTML(value='')))"
      ]
     },
     "metadata": {},
     "output_type": "display_data"
    },
    {
     "name": "stdout",
     "output_type": "stream",
     "text": [
      "\n",
      "AFTER face_lookup_resolved_test\n"
     ]
    },
    {
     "data": {
      "application/vnd.jupyter.widget-view+json": {
       "model_id": "af73102be9a5477d931acde7d4fafa22",
       "version_major": 2,
       "version_minor": 0
      },
      "text/plain": [
       "HBox(children=(FloatProgress(value=0.0, max=3.0), HTML(value='')))"
      ]
     },
     "metadata": {},
     "output_type": "display_data"
    },
    {
     "name": "stdout",
     "output_type": "stream",
     "text": [
      "\n",
      "Deleting branches from dictionary\n",
      "MP_branches_with_stitch_point= [1]\n",
      "MP_branches_for_correspondence = [1]\n",
      "MP_leftover = [], MP_leftover_idx = []\n",
      " Finished with (10, 4) \n",
      "\n",
      "\n",
      "\n",
      "Saved object at /notebooks/Platinum_Datajoint/Neuron_Processing/Debugging_2/limb_correspondence_MAP_4_10.pbz2\n",
      "File size is 11.745177 MB\n",
      "Saved object at /notebooks/Platinum_Datajoint/Neuron_Processing/Debugging_2/limb_correspondence_MP_4_10.pbz2\n",
      "File size is 78.060517 MB\n",
      "\n",
      "---- Working on (10, 5) connection-----\n",
      "Current stitch point was not a branch or endpoint, shortest_path_length to one = 103.7159582706538\n",
      "Changing the stitch point becasue the distance to end or branch node was 103.7159582706538\n",
      "New stitch point has degree 1\n",
      "sk_conn = [2, 3]\n",
      "conn = [2, 3]\n",
      "winning_vertex = [ 558892.5996744   745121.69934784 1108464.23731362]\n",
      "MP_branches_with_stitch_point = [2, 3]\n",
      "MAP_branches_with_stitch_point = [0]\n",
      "MAP_stitch_point_on_end_or_branch = True\n",
      "Using max stitch distance (300) for smoothing because stitch_distance greater (482.84383067996936) \n",
      "Found winning edge: [6, 8.0]\n",
      "in remove edge\n",
      "Using max stitch distance (300) for smoothing because stitch_distance greater (347.61987370672495) \n",
      "Found winning edge: [9, 10.0]\n",
      "in remove edge\n"
     ]
    },
    {
     "data": {
      "application/vnd.jupyter.widget-view+json": {
       "model_id": "ae85821517884a29bffd65a8660dfb54",
       "version_major": 2,
       "version_minor": 0
      },
      "text/plain": [
       "HBox(children=(FloatProgress(value=1.0, bar_style='info', max=1.0), HTML(value='')))"
      ]
     },
     "metadata": {},
     "output_type": "display_data"
    },
    {
     "name": "stdout",
     "output_type": "stream",
     "text": [
      "\n",
      "\n",
      "\n",
      "--- Working on 1-to-1 correspondence-----\n",
      "max(original_labels),len(original_labels) = (2, 3)\n",
      "empty_indices % = 0.0809052333804809\n",
      " conflict_indices % = 0.032956152758132955\n"
     ]
    },
    {
     "data": {
      "application/vnd.jupyter.widget-view+json": {
       "model_id": "9c0d0d2f3daa494db864a0e150f3c239",
       "version_major": 2,
       "version_minor": 0
      },
      "text/plain": [
       "HBox(children=(FloatProgress(value=0.0, max=10.0), HTML(value='')))"
      ]
     },
     "metadata": {},
     "output_type": "display_data"
    },
    {
     "name": "stdout",
     "output_type": "stream",
     "text": [
      "\n",
      "AFTER face_lookup_resolved_test\n"
     ]
    },
    {
     "data": {
      "application/vnd.jupyter.widget-view+json": {
       "model_id": "504dfaa3aaf244f786a3f8700a71cc46",
       "version_major": 2,
       "version_minor": 0
      },
      "text/plain": [
       "HBox(children=(FloatProgress(value=0.0, max=3.0), HTML(value='')))"
      ]
     },
     "metadata": {},
     "output_type": "display_data"
    },
    {
     "name": "stdout",
     "output_type": "stream",
     "text": [
      "\n",
      "MP_branches_with_stitch_point= [2, 3]\n",
      "MP_branches_for_correspondence = [2 3]\n",
      "MP_leftover = [], MP_leftover_idx = []\n",
      " Finished with (10, 5) \n",
      "\n",
      "\n",
      "\n",
      "Saved object at /notebooks/Platinum_Datajoint/Neuron_Processing/Debugging_2/limb_correspondence_MAP_5_10.pbz2\n",
      "File size is 11.752372 MB\n"
     ]
    },
    {
     "name": "stderr",
     "output_type": "stream",
     "text": [
      "\r",
      "  0%|          | 0/1 [00:00<?, ?it/s]"
     ]
    },
    {
     "name": "stdout",
     "output_type": "stream",
     "text": [
      "Saved object at /notebooks/Platinum_Datajoint/Neuron_Processing/Debugging_2/limb_correspondence_MP_5_10.pbz2\n",
      "File size is 78.053944 MB\n",
      "Time for decomp of Limb = 2222.448642015457\n",
      "Number of matching vertices = 104\n",
      "Number of matching vertices = 0\n",
      "Number of matching vertices = 0\n",
      "Number of matching vertices = 34\n",
      "Only one endpoint after filtering away the endpoints that are not on the skeleton\n",
      "Only one endpoint after filtering away the endpoints that are not on the skeleton\n",
      "\n",
      "\n",
      "----- Working on Proper Limb # 1 ---------\n",
      "meshparty_segment_size = 100\n",
      "root_curr = [ 500696.2  758510.9 1091372. ]\n",
      "Time for preparing soma vertices and root: 0.00023937225341796875\n",
      "cc_vertex_thresh = 10\n"
     ]
    },
    {
     "data": {
      "application/vnd.jupyter.widget-view+json": {
       "model_id": "3e49b470207d45149dc77549d9b7c99b",
       "version_major": 2,
       "version_minor": 0
      },
      "text/plain": [
       "HBox(children=(FloatProgress(value=0.0, max=5096.0), HTML(value='')))"
      ]
     },
     "metadata": {},
     "output_type": "display_data"
    },
    {
     "name": "stderr",
     "output_type": "stream",
     "text": [
      "\r",
      "100%|██████████| 1/1 [00:00<00:00, 15.68it/s]"
     ]
    },
    {
     "name": "stdout",
     "output_type": "stream",
     "text": [
      "\n"
     ]
    },
    {
     "name": "stderr",
     "output_type": "stream",
     "text": [
      "\n"
     ]
    },
    {
     "name": "stdout",
     "output_type": "stream",
     "text": [
      "meshparty_segment_size = 100\n",
      "Time for 1st pass MP skeletonization: 0.14411354064941406\n",
      "connecting at the root\n",
      "branches_touching_root = [0]\n",
      "length of Graph = 531\n",
      "max(kept_branches_idx) = 0, len(kept_branches_idx) = 1\n",
      "empty_indices % = 0.0\n",
      " conflict_indices % = 0.0\n"
     ]
    },
    {
     "data": {
      "application/vnd.jupyter.widget-view+json": {
       "model_id": "ccd7042f4478470bb5c336f39a5d656b",
       "version_major": 2,
       "version_minor": 0
      },
      "text/plain": [
       "HBox(children=(FloatProgress(value=1.0, bar_style='info', max=1.0), HTML(value='')))"
      ]
     },
     "metadata": {},
     "output_type": "display_data"
    },
    {
     "name": "stdout",
     "output_type": "stream",
     "text": [
      "\n",
      "AFTER face_lookup_resolved_test\n"
     ]
    },
    {
     "data": {
      "application/vnd.jupyter.widget-view+json": {
       "model_id": "2e384e9a16fa4ef4b081f49d6c4dd46e",
       "version_major": 2,
       "version_minor": 0
      },
      "text/plain": [
       "HBox(children=(FloatProgress(value=0.0, max=1.0), HTML(value='')))"
      ]
     },
     "metadata": {},
     "output_type": "display_data"
    },
    {
     "name": "stdout",
     "output_type": "stream",
     "text": [
      "\n",
      "Decomposing first pass: 0.44194650650024414\n",
      "Attempting to use MeshAfterParty Skeletonization and Mesh Correspondence\n",
      "Another print\n",
      "Found len(mesh_large_idx) MAP candidates: [10124]\n",
      "mesh_large_connectivity: 0.0025081634521484375\n",
      "Finding MAP candidates connected components: 7.2479248046875e-05\n",
      "len(filtered_pieces) = 1\n",
      "skeleton_connectivity_MP : 0.0033266544342041016\n",
      "Grouping MP Sublimbs by Graph: 2.3126602172851562e-05\n",
      "Divinding into MP and MAP pieces: 9.5367431640625e-07\n",
      "--- Working on MAP piece 0---\n",
      "MAP Filtering Soma Pieces: 0.002190113067626953\n",
      "inside skeletonize_connected_branch and use_surface_after_CGAL=False, surface_reconstruction_size=1000\n",
      "     Starting Screened Poisson\n",
      "xvfb-run -n 1813 -s \"-screen 0 800x600x24\" meshlabserver $@  -i /notebooks/Platinum_Datajoint/Neuron_Processing/Debugging_2/temp/None.off -o /notebooks/Platinum_Datajoint/Neuron_Processing/Debugging_2/temp/None_poisson.off -s /notebooks/Platinum_Datajoint/Neuron_Processing/Debugging_2/temp/poisson_29914.mls\n",
      "removed temporary input file: /notebooks/Platinum_Datajoint/Neuron_Processing/Debugging_2/temp/None.off\n",
      "removed temporary output file: /notebooks/Platinum_Datajoint/Neuron_Processing/Debugging_2/temp/None_poisson.off\n",
      "Using the close holes feature\n",
      "xvfb-run -n 1813 -s \"-screen 0 800x600x24\" meshlabserver $@  -i /notebooks/Platinum_Datajoint/Neuron_Processing/Debugging_2/temp/neuron_85639.off -o /notebooks/Platinum_Datajoint/Neuron_Processing/Debugging_2/temp/neuron_85639_fill_holes.off -s /notebooks/Platinum_Datajoint/Neuron_Processing/Debugging_2/temp/fill_holes_29182.mls\n",
      "removed temporary input file: /notebooks/Platinum_Datajoint/Neuron_Processing/Debugging_2/temp/neuron_85639.off\n",
      "removed temporary output file: /notebooks/Platinum_Datajoint/Neuron_Processing/Debugging_2/temp/neuron_85639_fill_holes.off\n",
      "-----Time for Screened Poisson= 6.813080787658691\n",
      "mesh_pieces = [<trimesh.Trimesh(vertices.shape=(10414, 3), faces.shape=(20828, 3))>]\n",
      "     Starting Calcification (12/2 Change only going to do the largest piece)\n",
      "min_edge_length = 75\n"
     ]
    },
    {
     "data": {
      "application/vnd.jupyter.widget-view+json": {
       "model_id": "7918852f7ebe4312a849e1eb99d76667",
       "version_major": 2,
       "version_minor": 0
      },
      "text/plain": [
       "HBox(children=(FloatProgress(value=1.0, bar_style='info', max=1.0), HTML(value='')))"
      ]
     },
     "metadata": {},
     "output_type": "display_data"
    },
    {
     "name": "stdout",
     "output_type": "stream",
     "text": [
      "\n",
      "No skeletons to stack so returning empty list\n",
      "The process was using a temp folder\n",
      "Checking connected components after skeletonize_connected_branch\n",
      "    Total time for skeletonizing branch: 7.461151361465454\n",
      "Checking connected components after removing cycles\n",
      "Total time for mesh KDTree = 0.0919804573059082\n",
      "sbv[0].reshape(-1,3) = [[ 500696.2  758510.9 1091372. ]]\n",
      "closest_sk_pt_coord BEFORE = [ 500463.  759181. 1091000.]\n",
      "current_skeleton.shape = (344, 2, 3)\n",
      "Current stitch point was a branch or endpoint\n",
      "change_status for create soma extending pieces = False\n",
      "closest_sk_pt_coord AFTER = [ 500463.  759181. 1091000.]\n",
      "skipping soma 0 because closest skeleton node was already end node\n",
      "endpoints_must_keep = {0: array([[ 500463.,  759181., 1091000.]])}\n",
      "    Total time for Fixing Skeleton Soma Endpoint Extension : 0.17563152313232422\n",
      "filter_end_node_length = 4500\n",
      "Using Distance measure skeletal_distance\n",
      "endpoints_must_keep = [[ 500463.  759181. 1091000.]]\n",
      "Number of end_nodes BEFORE filtering = 5\n",
      "all_single_nodes_to_eliminate = [4]\n"
     ]
    },
    {
     "data": {
      "application/vnd.jupyter.widget-view+json": {
       "model_id": "3c8b9b1ac3da4d1c962ae8401169f421",
       "version_major": 2,
       "version_minor": 0
      },
      "text/plain": [
       "HBox(children=(FloatProgress(value=0.0, max=4.0), HTML(value='')))"
      ]
     },
     "metadata": {},
     "output_type": "display_data"
    },
    {
     "name": "stdout",
     "output_type": "stream",
     "text": [
      "\n",
      "Checking connected components after clean_skeleton\n",
      "after DISTANCE cleaning limb size of skeleton = (338, 2, 3)\n",
      "********COMBINING CLOSE SKELETON NODES WITHIN 700 DISTANCE**********\n",
      "Found 0 valid paths to replace\n",
      "valid_paths = []\n",
      "valid_path_lengths = []\n",
      "No valid paths found so just returning the original\n",
      "skeletonize_and_clean_connected_branch_CGAL: 7.995370149612427\n",
      "Working on limb correspondence for #0 MAP piece\n"
     ]
    },
    {
     "data": {
      "application/vnd.jupyter.widget-view+json": {
       "model_id": "20b8439e57914b42b82b2ba2d5983f6c",
       "version_major": 2,
       "version_minor": 0
      },
      "text/plain": [
       "HBox(children=(FloatProgress(value=1.0, bar_style='info', max=1.0), HTML(value='')))"
      ]
     },
     "metadata": {},
     "output_type": "display_data"
    },
    {
     "name": "stdout",
     "output_type": "stream",
     "text": [
      "\n",
      "Total time for decomposition = 0.8098657131195068\n",
      "mesh_correspondence_first_pass: 0.8099300861358643\n",
      "Limb decomposed into 1 branches\n",
      "divided_skeleton_graph_recovered = (338, 2, 3) and \n",
      "current_mesh_data[0]['branch_skeletons_cleaned'].shape = (338, 2, 3)\n",
      "\n",
      "Number of connected components in deocmposed recovered graph = 1\n",
      "Number of connected components in cleaned skeleton graph= 1\n",
      "The downsampled branches number of connected components = 1\n",
      "Empty submeshes = []\n",
      "\n",
      "\n",
      "--- Working on 1-to-1 correspondence-----\n",
      "max(original_labels),len(original_labels) = (0, 1)\n",
      "empty_indices % = 0.08277360726985382\n",
      " conflict_indices % = 0.0\n"
     ]
    },
    {
     "data": {
      "application/vnd.jupyter.widget-view+json": {
       "model_id": "99b40328327d4c2a89abb2522e2ce65c",
       "version_major": 2,
       "version_minor": 0
      },
      "text/plain": [
       "HBox(children=(FloatProgress(value=0.0, max=10.0), HTML(value='')))"
      ]
     },
     "metadata": {},
     "output_type": "display_data"
    },
    {
     "name": "stdout",
     "output_type": "stream",
     "text": [
      "\n",
      "AFTER face_lookup_resolved_test\n",
      "Took 0 iterations to expand the label back\n",
      "empty_indices % = 0.0\n",
      " conflict_indices % = 0.0\n"
     ]
    },
    {
     "data": {
      "application/vnd.jupyter.widget-view+json": {
       "model_id": "e759ac10f66545ae98c5de0f9de77919",
       "version_major": 2,
       "version_minor": 0
      },
      "text/plain": [
       "HBox(children=(FloatProgress(value=1.0, bar_style='info', max=1.0), HTML(value='')))"
      ]
     },
     "metadata": {},
     "output_type": "display_data"
    },
    {
     "name": "stdout",
     "output_type": "stream",
     "text": [
      "\n",
      "AFTER face_lookup_resolved_test\n"
     ]
    },
    {
     "data": {
      "application/vnd.jupyter.widget-view+json": {
       "model_id": "53eac0b92c0049aab15c3059bb333443",
       "version_major": 2,
       "version_minor": 0
      },
      "text/plain": [
       "HBox(children=(FloatProgress(value=0.0, max=1.0), HTML(value='')))"
      ]
     },
     "metadata": {},
     "output_type": "display_data"
    },
    {
     "name": "stderr",
     "output_type": "stream",
     "text": [
      "\r",
      "  0%|          | 0/1 [00:00<?, ?it/s]"
     ]
    },
    {
     "name": "stdout",
     "output_type": "stream",
     "text": [
      "\n",
      "Total time for MAP sublimb #0 mesh processing = 9.443443775177002\n",
      "correspondence_1_to_1: 0.6359081268310547\n",
      "Total time for MAP sublimb processing 9.443532943725586\n",
      "Saved object at /notebooks/Platinum_Datajoint/Neuron_Processing/Debugging_2/limb_correspondence_MAP_before_stitch.pbz2\n",
      "File size is 0.369813 MB\n",
      "Saved object at /notebooks/Platinum_Datajoint/Neuron_Processing/Debugging_2/limb_correspondence_MP_before_stitch.pbz2\n",
      "File size is 4.6e-05 MB\n",
      "There were not both MAP and MP pieces so skipping the stitch resolving phase\n",
      "Time for decomp of Limb = 10.118157625198364\n",
      "Number of matching vertices = 19\n",
      "Only one endpoint after filtering away the endpoints that are not on the skeleton\n",
      "\n",
      "\n",
      "----- Working on Proper Limb # 2 ---------\n",
      "meshparty_segment_size = 100\n",
      "root_curr = [ 512285.7  755897.1 1094478. ]\n",
      "Time for preparing soma vertices and root: 0.00022554397583007812\n",
      "cc_vertex_thresh = 10\n"
     ]
    },
    {
     "data": {
      "application/vnd.jupyter.widget-view+json": {
       "model_id": "49db2a9b264d410eba544a7a804ce4ba",
       "version_major": 2,
       "version_minor": 0
      },
      "text/plain": [
       "HBox(children=(FloatProgress(value=0.0, max=3567.0), HTML(value='')))"
      ]
     },
     "metadata": {},
     "output_type": "display_data"
    },
    {
     "name": "stderr",
     "output_type": "stream",
     "text": [
      "\r",
      "100%|██████████| 1/1 [00:00<00:00, 16.95it/s]"
     ]
    },
    {
     "name": "stdout",
     "output_type": "stream",
     "text": [
      "\n"
     ]
    },
    {
     "name": "stderr",
     "output_type": "stream",
     "text": [
      "\n"
     ]
    },
    {
     "name": "stdout",
     "output_type": "stream",
     "text": [
      "meshparty_segment_size = 100\n",
      "Time for 1st pass MP skeletonization: 0.12750911712646484\n",
      "branches_touching_root = [0]\n",
      "length of Graph = 260\n",
      "max(kept_branches_idx) = 0, len(kept_branches_idx) = 1\n",
      "empty_indices % = 0.0\n",
      " conflict_indices % = 0.0\n"
     ]
    },
    {
     "data": {
      "application/vnd.jupyter.widget-view+json": {
       "model_id": "4ce00b120b014935b19c19a1eee0273f",
       "version_major": 2,
       "version_minor": 0
      },
      "text/plain": [
       "HBox(children=(FloatProgress(value=1.0, bar_style='info', max=1.0), HTML(value='')))"
      ]
     },
     "metadata": {},
     "output_type": "display_data"
    },
    {
     "name": "stdout",
     "output_type": "stream",
     "text": [
      "\n",
      "AFTER face_lookup_resolved_test\n"
     ]
    },
    {
     "data": {
      "application/vnd.jupyter.widget-view+json": {
       "model_id": "87db7f408d5a46e591b65e5d2079e23e",
       "version_major": 2,
       "version_minor": 0
      },
      "text/plain": [
       "HBox(children=(FloatProgress(value=0.0, max=1.0), HTML(value='')))"
      ]
     },
     "metadata": {},
     "output_type": "display_data"
    },
    {
     "name": "stdout",
     "output_type": "stream",
     "text": [
      "\n",
      "Decomposing first pass: 0.30808329582214355\n",
      "Attempting to use MeshAfterParty Skeletonization and Mesh Correspondence\n",
      "Another print\n",
      "Found len(mesh_large_idx) MAP candidates: [7024]\n",
      "mesh_large_connectivity: 0.0018208026885986328\n",
      "Finding MAP candidates connected components: 6.771087646484375e-05\n",
      "len(filtered_pieces) = 1\n",
      "skeleton_connectivity_MP : 0.002411365509033203\n",
      "Grouping MP Sublimbs by Graph: 2.2172927856445312e-05\n",
      "Divinding into MP and MAP pieces: 7.152557373046875e-07\n",
      "--- Working on MAP piece 0---\n",
      "MAP Filtering Soma Pieces: 0.0034487247467041016\n",
      "inside skeletonize_connected_branch and use_surface_after_CGAL=False, surface_reconstruction_size=1000\n",
      "     Starting Screened Poisson\n",
      "xvfb-run -n 1813 -s \"-screen 0 800x600x24\" meshlabserver $@  -i /notebooks/Platinum_Datajoint/Neuron_Processing/Debugging_2/temp/None.off -o /notebooks/Platinum_Datajoint/Neuron_Processing/Debugging_2/temp/None_poisson.off -s /notebooks/Platinum_Datajoint/Neuron_Processing/Debugging_2/temp/poisson_415560.mls\n",
      "removed temporary input file: /notebooks/Platinum_Datajoint/Neuron_Processing/Debugging_2/temp/None.off\n",
      "removed temporary output file: /notebooks/Platinum_Datajoint/Neuron_Processing/Debugging_2/temp/None_poisson.off\n",
      "Using the close holes feature\n",
      "xvfb-run -n 1813 -s \"-screen 0 800x600x24\" meshlabserver $@  -i /notebooks/Platinum_Datajoint/Neuron_Processing/Debugging_2/temp/neuron_54963.off -o /notebooks/Platinum_Datajoint/Neuron_Processing/Debugging_2/temp/neuron_54963_fill_holes.off -s /notebooks/Platinum_Datajoint/Neuron_Processing/Debugging_2/temp/fill_holes_655942.mls\n",
      "removed temporary input file: /notebooks/Platinum_Datajoint/Neuron_Processing/Debugging_2/temp/neuron_54963.off\n",
      "removed temporary output file: /notebooks/Platinum_Datajoint/Neuron_Processing/Debugging_2/temp/neuron_54963_fill_holes.off\n",
      "-----Time for Screened Poisson= 6.751642227172852\n",
      "mesh_pieces = [<trimesh.Trimesh(vertices.shape=(12008, 3), faces.shape=(24012, 3))>]\n",
      "     Starting Calcification (12/2 Change only going to do the largest piece)\n",
      "min_edge_length = 75\n"
     ]
    },
    {
     "data": {
      "application/vnd.jupyter.widget-view+json": {
       "model_id": "03ae98430d4b4d79b04a8db5eb0b95d6",
       "version_major": 2,
       "version_minor": 0
      },
      "text/plain": [
       "HBox(children=(FloatProgress(value=1.0, bar_style='info', max=1.0), HTML(value='')))"
      ]
     },
     "metadata": {},
     "output_type": "display_data"
    },
    {
     "name": "stdout",
     "output_type": "stream",
     "text": [
      "\n",
      "No skeletons to stack so returning empty list\n",
      "The process was using a temp folder\n",
      "Checking connected components after skeletonize_connected_branch\n",
      "    Total time for skeletonizing branch: 7.490680932998657\n",
      "Checking connected components after removing cycles\n",
      "Total time for mesh KDTree = 0.07534456253051758\n",
      "sbv[0].reshape(-1,3) = [[ 512285.7  755897.1 1094478. ]]\n",
      "closest_sk_pt_coord BEFORE = [ 512728.  755592. 1094740.]\n",
      "current_skeleton.shape = (200, 2, 3)\n",
      "Current stitch point was not a branch or endpoint, shortest_path_length to one = 481.7206212232281\n",
      "Changing the stitch point becasue the distance to end or branch node was 481.7206212232281\n",
      "New stitch point has degree 1\n",
      "change_status for create soma extending pieces = True\n",
      "closest_sk_pt_coord AFTER = [ 512710.  755144. 1094820.]\n",
      "skipping soma 0 because closest skeleton node was already end node\n",
      "endpoints_must_keep = {0: array([[ 512710.,  755144., 1094820.]])}\n",
      "    Total time for Fixing Skeleton Soma Endpoint Extension : 0.14141178131103516\n",
      "filter_end_node_length = 4500\n",
      "Using Distance measure skeletal_distance\n",
      "endpoints_must_keep = [[ 512710.  755144. 1094820.]]\n",
      "Number of end_nodes BEFORE filtering = 2\n",
      "all_single_nodes_to_eliminate = [0]\n",
      "no small end nodes to get rid of so returning whole skeleton\n",
      "Checking connected components after clean_skeleton\n",
      "after DISTANCE cleaning limb size of skeleton = (200, 2, 3)\n",
      "********COMBINING CLOSE SKELETON NODES WITHIN 700 DISTANCE**********\n",
      "Found 0 valid paths to replace\n",
      "valid_paths = []\n",
      "valid_path_lengths = []\n",
      "No valid paths found so just returning the original\n",
      "skeletonize_and_clean_connected_branch_CGAL: 7.820701599121094\n",
      "Working on limb correspondence for #0 MAP piece\n"
     ]
    },
    {
     "data": {
      "application/vnd.jupyter.widget-view+json": {
       "model_id": "59f9ba3f4869406cbb4e69fd963b3750",
       "version_major": 2,
       "version_minor": 0
      },
      "text/plain": [
       "HBox(children=(FloatProgress(value=1.0, bar_style='info', max=1.0), HTML(value='')))"
      ]
     },
     "metadata": {},
     "output_type": "display_data"
    },
    {
     "name": "stdout",
     "output_type": "stream",
     "text": [
      "\n",
      "Total time for decomposition = 0.4431800842285156\n",
      "mesh_correspondence_first_pass: 0.4432051181793213\n",
      "Limb decomposed into 1 branches\n",
      "divided_skeleton_graph_recovered = (200, 2, 3) and \n",
      "current_mesh_data[0]['branch_skeletons_cleaned'].shape = (200, 2, 3)\n",
      "\n",
      "Number of connected components in deocmposed recovered graph = 1\n",
      "Number of connected components in cleaned skeleton graph= 1\n",
      "The downsampled branches number of connected components = 1\n",
      "Empty submeshes = []\n",
      "\n",
      "\n",
      "--- Working on 1-to-1 correspondence-----\n",
      "max(original_labels),len(original_labels) = (0, 1)\n",
      "empty_indices % = 0.03644646924829157\n",
      " conflict_indices % = 0.0\n"
     ]
    },
    {
     "data": {
      "application/vnd.jupyter.widget-view+json": {
       "model_id": "0f183b1bf3b147ddbd66e1f358c9bde1",
       "version_major": 2,
       "version_minor": 0
      },
      "text/plain": [
       "HBox(children=(FloatProgress(value=0.0, max=8.0), HTML(value='')))"
      ]
     },
     "metadata": {},
     "output_type": "display_data"
    },
    {
     "name": "stdout",
     "output_type": "stream",
     "text": [
      "\n",
      "AFTER face_lookup_resolved_test\n",
      "Took 0 iterations to expand the label back\n",
      "empty_indices % = 0.0\n",
      " conflict_indices % = 0.0\n"
     ]
    },
    {
     "data": {
      "application/vnd.jupyter.widget-view+json": {
       "model_id": "2a4d2f49ec414a9cb2381b8d24937237",
       "version_major": 2,
       "version_minor": 0
      },
      "text/plain": [
       "HBox(children=(FloatProgress(value=1.0, bar_style='info', max=1.0), HTML(value='')))"
      ]
     },
     "metadata": {},
     "output_type": "display_data"
    },
    {
     "name": "stdout",
     "output_type": "stream",
     "text": [
      "\n",
      "AFTER face_lookup_resolved_test\n"
     ]
    },
    {
     "data": {
      "application/vnd.jupyter.widget-view+json": {
       "model_id": "55a7196bd62c40b79b9cf24bc6f62a95",
       "version_major": 2,
       "version_minor": 0
      },
      "text/plain": [
       "HBox(children=(FloatProgress(value=0.0, max=1.0), HTML(value='')))"
      ]
     },
     "metadata": {},
     "output_type": "display_data"
    },
    {
     "name": "stdout",
     "output_type": "stream",
     "text": [
      "\n",
      "Total time for MAP sublimb #0 mesh processing = 8.732401371002197\n",
      "correspondence_1_to_1: 0.465015172958374\n",
      "Total time for MAP sublimb processing 8.732500553131104\n",
      "Saved object at /notebooks/Platinum_Datajoint/Neuron_Processing/Debugging_2/limb_correspondence_MAP_before_stitch.pbz2\n",
      "File size is 0.249472 MB\n",
      "Saved object at /notebooks/Platinum_Datajoint/Neuron_Processing/Debugging_2/limb_correspondence_MP_before_stitch.pbz2\n",
      "File size is 4.6e-05 MB\n",
      "There were not both MAP and MP pieces so skipping the stitch resolving phase\n",
      "Time for decomp of Limb = 9.223001718521118\n",
      "Number of matching vertices = 27\n",
      "Only one endpoint after filtering away the endpoints that are not on the skeleton\n",
      "Total time for Skeletonization and Mesh Correspondence = 2241.8820521831512\n",
      "\n",
      "\n",
      " ----- Working on Stitching ----------\n",
      "Status of Main limb stitch point moved = False\n",
      "Status of Main limb stitch point moved = False\n"
     ]
    },
    {
     "data": {
      "application/vnd.jupyter.widget-view+json": {
       "model_id": "f08a69ec0ede4adaba61de21b2ddc3a0",
       "version_major": 2,
       "version_minor": 0
      },
      "text/plain": [
       "HBox(children=(FloatProgress(value=1.0, bar_style='info', max=1.0), HTML(value='')))"
      ]
     },
     "metadata": {},
     "output_type": "display_data"
    },
    {
     "name": "stdout",
     "output_type": "stream",
     "text": [
      "\n",
      "\n",
      "\n",
      "--- Working on 1-to-1 correspondence-----\n",
      "max(original_labels),len(original_labels) = (1, 2)\n",
      "empty_indices % = 0.34043497558810476\n",
      " conflict_indices % = 0.009764758100310697\n"
     ]
    },
    {
     "data": {
      "application/vnd.jupyter.widget-view+json": {
       "model_id": "1f62ab69274648069475eade0b415a77",
       "version_major": 2,
       "version_minor": 0
      },
      "text/plain": [
       "HBox(children=(FloatProgress(value=0.0, max=28.0), HTML(value='')))"
      ]
     },
     "metadata": {},
     "output_type": "display_data"
    },
    {
     "name": "stdout",
     "output_type": "stream",
     "text": [
      "\n",
      "AFTER face_lookup_resolved_test\n"
     ]
    },
    {
     "data": {
      "application/vnd.jupyter.widget-view+json": {
       "model_id": "779b75f3824d42e3bbda69108d1861ad",
       "version_major": 2,
       "version_minor": 0
      },
      "text/plain": [
       "HBox(children=(FloatProgress(value=0.0, max=2.0), HTML(value='')))"
      ]
     },
     "metadata": {},
     "output_type": "display_data"
    },
    {
     "name": "stdout",
     "output_type": "stream",
     "text": [
      "\n",
      "main_branch = 246\n",
      "Status of Main limb stitch point moved = False\n",
      "Total time for stitching floating pieces = 51.60960674285889\n",
      "\n",
      "\n",
      "---------Working on soma_idx = 0, soma_group_idx 0, endpt = [ 505727.6         742836.12884615 1092956.10576923]---------\n",
      "Starting_edge inside branches_to_conept = [[ 505727.6         742836.12884615 1092956.10576923]\n",
      " [ 505756.          743051.         1093100.        ]]\n",
      "There were 4 duplication nodes found\n",
      "domination_map = {16: 14, 18: 17, 21: 20, 38: 37}\n",
      "At the start, starting_node (in terms of the skeleton, that shouldn't match the starting edge) = [630]\n",
      "printing out current edge:\n",
      "[[ 505727.6         742836.12884615 1092956.10576923]\n",
      " [ 505756.          743051.         1093100.        ]]\n",
      "edge_endpoints_to_process was empty so exiting loop after 1440 iterations\n",
      "starting_node in concept map (that should match the starting edge) = 5\n",
      "Total time for branches to concept conversion = 21.67165780067444\n",
      "\n",
      "Working on adding back the edges that were duplicates\n",
      "Done generating concept network \n",
      "\n",
      "\n",
      "recovered_touching_piece = [5]\n",
      "\n",
      "\n",
      "---------Working on soma_idx = 0, soma_group_idx 1, endpt = [ 506761.47647059  745479.69411765 1089387.38235294]---------\n",
      "Starting_edge inside branches_to_conept = [[ 506761.47647059  745479.69411765 1089387.38235294]\n",
      " [ 507532.          736435.         1079450.        ]]\n",
      "There were 4 duplication nodes found\n",
      "domination_map = {16: 14, 18: 17, 21: 20, 38: 37}\n",
      "At the start, starting_node (in terms of the skeleton, that shouldn't match the starting edge) = [639]\n",
      "printing out current edge:\n",
      "[[ 506761.47647059  745479.69411765 1089387.38235294]\n",
      " [ 507532.          736435.         1079450.        ]]\n",
      "edge_endpoints_to_process was empty so exiting loop after 1440 iterations\n",
      "starting_node in concept map (that should match the starting edge) = 28\n",
      "Total time for branches to concept conversion = 21.63176679611206\n",
      "\n",
      "Working on adding back the edges that were duplicates\n",
      "Done generating concept network \n",
      "\n",
      "\n",
      "recovered_touching_piece = [28]\n",
      "\n",
      "\n",
      "---------Working on soma_idx = 0, soma_group_idx 0, endpt = [ 500463.  759181. 1091000.]---------\n",
      "Starting_edge inside branches_to_conept = [[ 464679.  752665. 1063990.]\n",
      " [ 500463.  759181. 1091000.]]\n",
      "Done generating concept network \n",
      "\n",
      "\n",
      "recovered_touching_piece = [0]\n",
      "\n",
      "\n",
      "---------Working on soma_idx = 0, soma_group_idx 0, endpt = [ 512710.  755144. 1094820.]---------\n",
      "Starting_edge inside branches_to_conept = [[ 512710.  755144. 1094820.]\n",
      " [ 535415.  760142. 1097550.]]\n",
      "Done generating concept network \n",
      "\n",
      "\n",
      "recovered_touching_piece = [0]\n",
      "Total time for Concept Networks = 61.901538372039795\n",
      "Total time for all mesh and skeletonization decomp = 2355.393381357193\n",
      "No soma volume ratios so computing them now\n",
      "Using Poisson Surface Reconstruction for watertightness in soma_volume_ratio\n",
      "xvfb-run -n 1813 -s \"-screen 0 800x600x24\" meshlabserver $@  -i /notebooks/Platinum_Datajoint/Neuron_Processing/Debugging_2/Poisson_temp/neuron_851351.off -o /notebooks/Platinum_Datajoint/Neuron_Processing/Debugging_2/Poisson_temp/neuron_851351_poisson.off -s /notebooks/Platinum_Datajoint/Neuron_Processing/Debugging_2/Poisson_temp/poisson_853097.mls\n",
      "removed temporary input file: /notebooks/Platinum_Datajoint/Neuron_Processing/Debugging_2/Poisson_temp/neuron_851351.off\n",
      "removed temporary output file: /notebooks/Platinum_Datajoint/Neuron_Processing/Debugging_2/Poisson_temp/neuron_851351_poisson.off\n",
      "mesh.is_watertight = True\n",
      "/notebooks/Platinum_Datajoint/Neuron_Processing/Debugging_2/Poisson_temp/poisson_853097.mls is being deleted....\n",
      "--- 1) Finished unpacking preprocessed materials: 2503.671091556549\n",
      "total_edges = [['S0', 'L0'], ['S0', 'L1'], ['S0', 'L2']]\n",
      "--- 2) Finished creating neuron connectivity graph: 0.0001685619354248047\n",
      "Having to generate soma_meshes_face_idx because none in preprocessed data\n",
      "--- 3a) Finshed generating soma_meshes_face_idx: 0.5318360328674316\n",
      "Using precomputed volume ratio\n",
      "--- 3) Finshed generating soma objects and adding them to concept graph: 0.11366510391235352\n",
      "--- 4a) Finshed generating curr_limb_meshes_face_idx: 1.9851951599121094\n",
      "curr_limb_concept_networks= {0: [<networkx_utils.GraphOrderedEdges object at 0x7f8116c5c8d0>, <networkx_utils.GraphOrderedEdges object at 0x7f8116c5cd30>]}\n",
      "concept_network_dict = {0: [<networkx_utils.GraphOrderedEdges object at 0x7f8116c5c8d0>, <networkx_utils.GraphOrderedEdges object at 0x7f8116c5cd30>]}\n",
      "checking and resolving cycles\n",
      "There are loops to resolve and 'no_cycles' parameters set requires us to fix eliminate them\n",
      "Using mesh_widths for resolving loops\n",
      "curr_limb_concept_networks= {0: [<networkx_utils.GraphOrderedEdges object at 0x7f8116c5c4a8>]}\n",
      "concept_network_dict = {0: [<networkx_utils.GraphOrderedEdges object at 0x7f8116c5c4a8>]}\n",
      "Concept graph size was 1 or less so returning original\n",
      "curr_limb_concept_networks= {0: [<networkx_utils.GraphOrderedEdges object at 0x7f8116c5c208>]}\n",
      "concept_network_dict = {0: [<networkx_utils.GraphOrderedEdges object at 0x7f8116c5c208>]}\n",
      "Concept graph size was 1 or less so returning original\n",
      "--- 4) Finshed generating Limb objects and adding them to concept graph: 7.892153739929199\n",
      "--- 5) SKIPPING Doing the adaptive mesh correspondence on the meshparty preprocessing ---\n",
      "--- 6) SKIPPING Using the computed_attribute_dict to populate neuron attributes ---\n",
      "self.n_limbs = 3\n",
      "7) Calculating the spines for the neuorn if do not already exist\n",
      "7a) calculating spines because didn't exist\n",
      "query = median_mesh_center > 140 and n_faces_branch>100\n",
      "smoothness_threshold = 0.08\n",
      "The median_mesh_center was requested but has not already been calculated so calculating now.... \n",
      "Working on limb L0 branch 5\n",
      "Assigning the old width calculation because no valid new widths\n",
      "Working on limb L0 branch 3\n",
      "Working on limb L0 branch 6\n",
      "Working on limb L0 branch 1\n",
      "Working on limb L0 branch 2\n",
      "Working on limb L0 branch 4\n",
      "Working on limb L0 branch 7\n",
      "Working on limb L0 branch 705\n",
      "Working on limb L0 branch 776\n",
      "Working on limb L0 branch 9\n",
      "Working on limb L0 branch 11\n",
      "Working on limb L0 branch 0\n",
      "Working on limb L0 branch 717\n",
      "Working on limb L0 branch 775\n",
      "Working on limb L0 branch 1125\n",
      "Working on limb L0 branch 8\n",
      "Working on limb L0 branch 10\n",
      "Working on limb L0 branch 23\n",
      "Working on limb L0 branch 24\n",
      "Working on limb L0 branch 61\n",
      "Working on limb L0 branch 575\n",
      "Working on limb L0 branch 716\n",
      "Working on limb L0 branch 824\n",
      "Working on limb L0 branch 774\n",
      "Working on limb L0 branch 1019\n",
      "Working on limb L0 branch 1124\n",
      "Working on limb L0 branch 1330\n",
      "Working on limb L0 branch 26\n",
      "Working on limb L0 branch 1422\n",
      "Working on limb L0 branch 12\n",
      "Working on limb L0 branch 13\n",
      "Working on limb L0 branch 1410\n",
      "Working on limb L0 branch 1411\n",
      "Working on limb L0 branch 60\n",
      "Working on limb L0 branch 68\n",
      "Working on limb L0 branch 574\n",
      "Working on limb L0 branch 601\n",
      "Working on limb L0 branch 715\n",
      "Working on limb L0 branch 729\n",
      "Working on limb L0 branch 823\n",
      "Working on limb L0 branch 1328\n",
      "Working on limb L0 branch 773\n",
      "Working on limb L0 branch 982\n",
      "Working on limb L0 branch 1123\n",
      "Working on limb L0 branch 1377\n",
      "Working on limb L0 branch 1329\n",
      "Working on limb L0 branch 1362\n",
      "Working on limb L0 branch 1438\n",
      "Working on limb L0 branch 1439\n",
      "Working on limb L0 branch 14\n",
      "Working on limb L0 branch 25\n",
      "Working on limb L0 branch 35\n",
      "Assigning the old width calculation because no valid new widths\n",
      "Working on limb L0 branch 39\n",
      "Working on limb L0 branch 40\n",
      "Working on limb L0 branch 1394\n",
      "Working on limb L0 branch 1397\n",
      "Working on limb L0 branch 1418\n",
      "Working on limb L0 branch 59\n",
      "Working on limb L0 branch 424\n",
      "Working on limb L0 branch 67\n",
      "Working on limb L0 branch 401\n",
      "Working on limb L0 branch 714\n",
      "Working on limb L0 branch 750\n",
      "Working on limb L0 branch 728\n",
      "Working on limb L0 branch 1341\n",
      "Working on limb L0 branch 822\n",
      "Working on limb L0 branch 1276\n",
      "Working on limb L0 branch 772\n",
      "Working on limb L0 branch 800\n",
      "Working on limb L0 branch 981\n",
      "Working on limb L0 branch 1065\n",
      "Working on limb L0 branch 15\n",
      "Working on limb L0 branch 41\n",
      "Working on limb L0 branch 1434\n",
      "Working on limb L0 branch 1396\n",
      "Working on limb L0 branch 1398\n",
      "Working on limb L0 branch 1417\n",
      "Working on limb L0 branch 1420\n",
      "Working on limb L0 branch 58\n",
      "Working on limb L0 branch 483\n",
      "Working on limb L0 branch 423\n",
      "Working on limb L0 branch 514\n",
      "Working on limb L0 branch 66\n",
      "Working on limb L0 branch 101\n",
      "Working on limb L0 branch 400\n",
      "Working on limb L0 branch 476\n"
     ]
    },
    {
     "name": "stdout",
     "output_type": "stream",
     "text": [
      "Working on limb L0 branch 713\n",
      "Working on limb L0 branch 1068\n",
      "Working on limb L0 branch 749\n",
      "Working on limb L0 branch 806\n",
      "Working on limb L0 branch 727\n",
      "Working on limb L0 branch 760\n",
      "Working on limb L0 branch 821\n",
      "Working on limb L0 branch 1115\n",
      "Working on limb L0 branch 771\n",
      "Working on limb L0 branch 899\n",
      "Working on limb L0 branch 799\n",
      "Working on limb L0 branch 1280\n",
      "Working on limb L0 branch 980\n",
      "Working on limb L0 branch 1223\n",
      "Working on limb L0 branch 17\n",
      "Working on limb L0 branch 37\n",
      "Working on limb L0 branch 1395\n",
      "Working on limb L0 branch 1399\n",
      "Working on limb L0 branch 1416\n",
      "Working on limb L0 branch 1419\n",
      "Working on limb L0 branch 57\n",
      "Working on limb L0 branch 176\n",
      "Working on limb L0 branch 482\n",
      "Working on limb L0 branch 597\n",
      "Working on limb L0 branch 65\n",
      "Working on limb L0 branch 447\n",
      "Working on limb L0 branch 100\n",
      "Working on limb L0 branch 528\n",
      "Working on limb L0 branch 712\n",
      "Working on limb L0 branch 790\n",
      "Working on limb L0 branch 1067\n",
      "Working on limb L0 branch 1297\n",
      "Working on limb L0 branch 748\n",
      "Working on limb L0 branch 792\n",
      "Working on limb L0 branch 1277\n",
      "Working on limb L0 branch 805\n",
      "Working on limb L0 branch 1211\n",
      "Working on limb L0 branch 726\n",
      "Working on limb L0 branch 850\n",
      "Working on limb L0 branch 759\n",
      "Working on limb L0 branch 902\n",
      "Working on limb L0 branch 820\n",
      "Working on limb L0 branch 861\n",
      "Working on limb L0 branch 1114\n",
      "Working on limb L0 branch 1126\n",
      "Working on limb L0 branch 770\n",
      "Working on limb L0 branch 1188\n",
      "Working on limb L0 branch 898\n",
      "Working on limb L0 branch 1207\n",
      "Working on limb L0 branch 798\n",
      "Working on limb L0 branch 841\n",
      "Working on limb L0 branch 979\n",
      "Working on limb L0 branch 1224\n",
      "Working on limb L0 branch 19\n",
      "Working on limb L0 branch 36\n",
      "Working on limb L0 branch 1414\n",
      "Working on limb L0 branch 1415\n",
      "Working on limb L0 branch 56\n",
      "Working on limb L0 branch 702\n",
      "Working on limb L0 branch 175\n",
      "Working on limb L0 branch 250\n",
      "Working on limb L0 branch 64\n",
      "Working on limb L0 branch 512\n",
      "Working on limb L0 branch 446\n",
      "Working on limb L0 branch 563\n",
      "Working on limb L0 branch 99\n",
      "Working on limb L0 branch 158\n",
      "Working on limb L0 branch 524\n",
      "Working on limb L0 branch 527\n",
      "Working on limb L0 branch 666\n",
      "Working on limb L0 branch 711\n",
      "Working on limb L0 branch 812\n",
      "Working on limb L0 branch 789\n",
      "Working on limb L0 branch 1072\n",
      "Working on limb L0 branch 1066\n",
      "Working on limb L0 branch 1227\n",
      "Working on limb L0 branch 1240\n",
      "Working on limb L0 branch 747\n",
      "Working on limb L0 branch 880\n",
      "Working on limb L0 branch 791\n",
      "Working on limb L0 branch 904\n",
      "Working on limb L0 branch 804\n",
      "Working on limb L0 branch 1215\n",
      "Working on limb L0 branch 725\n",
      "Working on limb L0 branch 1247\n",
      "Working on limb L0 branch 849\n",
      "Working on limb L0 branch 875\n",
      "Working on limb L0 branch 758\n",
      "Working on limb L0 branch 927\n",
      "Working on limb L0 branch 901\n",
      "Working on limb L0 branch 1127\n",
      "Working on limb L0 branch 819\n",
      "Working on limb L0 branch 965\n",
      "Working on limb L0 branch 860\n",
      "Working on limb L0 branch 1190\n",
      "Working on limb L0 branch 769\n",
      "Working on limb L0 branch 857\n",
      "Working on limb L0 branch 1187\n",
      "Working on limb L0 branch 1260\n",
      "Working on limb L0 branch 897\n",
      "Working on limb L0 branch 1168\n",
      "Working on limb L0 branch 1206\n",
      "Working on limb L0 branch 1235\n",
      "Working on limb L0 branch 42\n",
      "Working on limb L0 branch 43\n",
      "Working on limb L0 branch 797\n",
      "Working on limb L0 branch 840\n",
      "Working on limb L0 branch 994\n",
      "Working on limb L0 branch 1274\n",
      "Working on limb L0 branch 978\n",
      "Working on limb L0 branch 1231\n",
      "Working on limb L0 branch 20\n",
      "Working on limb L0 branch 1413\n",
      "Working on limb L0 branch 1421\n",
      "Working on limb L0 branch 55\n",
      "Working on limb L0 branch 647\n",
      "Working on limb L0 branch 174\n",
      "Working on limb L0 branch 531\n",
      "Working on limb L0 branch 249\n",
      "Working on limb L0 branch 412\n",
      "Working on limb L0 branch 63\n",
      "Working on limb L0 branch 78\n",
      "Working on limb L0 branch 511\n",
      "Working on limb L0 branch 567\n",
      "Working on limb L0 branch 98\n",
      "Working on limb L0 branch 111\n",
      "Working on limb L0 branch 157\n",
      "Working on limb L0 branch 178\n",
      "Working on limb L0 branch 710\n",
      "Working on limb L0 branch 868\n",
      "Working on limb L0 branch 811\n",
      "Working on limb L0 branch 1209\n",
      "Working on limb L0 branch 788\n",
      "Working on limb L0 branch 856\n",
      "Working on limb L0 branch 1071\n",
      "Working on limb L0 branch 1214\n",
      "Working on limb L0 branch 1226\n",
      "Working on limb L0 branch 1284\n",
      "Working on limb L0 branch 746\n",
      "Working on limb L0 branch 889\n",
      "Working on limb L0 branch 879\n",
      "Working on limb L0 branch 906\n",
      "Working on limb L0 branch 903\n",
      "Working on limb L0 branch 1130\n",
      "Working on limb L0 branch 803\n",
      "Working on limb L0 branch 940\n",
      "Working on limb L0 branch 724\n",
      "Working on limb L0 branch 1166\n",
      "Working on limb L0 branch 1246\n",
      "Working on limb L0 branch 1371\n",
      "Working on limb L0 branch 848\n",
      "Working on limb L0 branch 997\n",
      "Working on limb L0 branch 874\n",
      "Working on limb L0 branch 882\n",
      "Working on limb L0 branch 957\n",
      "Working on limb L0 branch 757\n",
      "Working on limb L0 branch 1333\n",
      "Working on limb L0 branch 926\n",
      "Working on limb L0 branch 1038\n",
      "Working on limb L0 branch 900\n",
      "Working on limb L0 branch 929\n",
      "Working on limb L0 branch 818\n",
      "Working on limb L0 branch 1222\n",
      "Working on limb L0 branch 964\n",
      "Working on limb L0 branch 1056\n",
      "Working on limb L0 branch 768\n",
      "Working on limb L0 branch 970\n",
      "Working on limb L0 branch 1186\n",
      "Working on limb L0 branch 1364\n",
      "Working on limb L0 branch 896\n",
      "Working on limb L0 branch 1097\n",
      "Working on limb L0 branch 1167\n",
      "Working on limb L0 branch 1388\n",
      "Working on limb L0 branch 1234\n",
      "Working on limb L0 branch 1387\n",
      "Working on limb L0 branch 45\n",
      "Working on limb L0 branch 1425\n",
      "Working on limb L0 branch 1426\n",
      "Working on limb L0 branch 1427\n",
      "Working on limb L0 branch 796\n",
      "Working on limb L0 branch 872\n",
      "Working on limb L0 branch 839\n",
      "Working on limb L0 branch 1079\n",
      "Working on limb L0 branch 993\n",
      "Working on limb L0 branch 1118\n",
      "Working on limb L0 branch 1273\n",
      "Working on limb L0 branch 1326\n",
      "Working on limb L0 branch 977\n",
      "Working on limb L0 branch 1141\n",
      "Working on limb L0 branch 22\n",
      "Working on limb L0 branch 54\n",
      "Working on limb L0 branch 268\n",
      "Working on limb L0 branch 173\n",
      "Working on limb L0 branch 626\n",
      "Working on limb L0 branch 248\n",
      "Working on limb L0 branch 625\n",
      "Working on limb L0 branch 411\n",
      "Working on limb L0 branch 542\n",
      "Working on limb L0 branch 62\n",
      "Working on limb L0 branch 263\n",
      "Working on limb L0 branch 77\n",
      "Working on limb L0 branch 164\n",
      "Working on limb L0 branch 566\n",
      "Working on limb L0 branch 614\n",
      "Working on limb L0 branch 97\n",
      "Working on limb L0 branch 637\n",
      "Working on limb L0 branch 110\n",
      "Working on limb L0 branch 554\n",
      "Working on limb L0 branch 622\n",
      "Working on limb L0 branch 156\n",
      "Working on limb L0 branch 302\n",
      "Working on limb L0 branch 177\n",
      "Working on limb L0 branch 649\n",
      "Working on limb L0 branch 709\n",
      "Working on limb L0 branch 1176\n",
      "Working on limb L0 branch 867\n",
      "Working on limb L0 branch 1024\n",
      "Working on limb L0 branch 810\n",
      "Working on limb L0 branch 1316\n",
      "Working on limb L0 branch 787\n",
      "Working on limb L0 branch 1161\n",
      "Working on limb L0 branch 855\n",
      "Working on limb L0 branch 1386\n",
      "Working on limb L0 branch 1213\n",
      "Working on limb L0 branch 1261\n",
      "Working on limb L0 branch 745\n",
      "Working on limb L0 branch 1320\n",
      "Working on limb L0 branch 888\n",
      "Working on limb L0 branch 1148\n",
      "Working on limb L0 branch 1150\n",
      "Working on limb L0 branch 905\n",
      "Working on limb L0 branch 966\n",
      "Working on limb L0 branch 1251\n",
      "Working on limb L0 branch 802\n",
      "Working on limb L0 branch 1016\n",
      "Working on limb L0 branch 939\n",
      "Working on limb L0 branch 1032\n",
      "Working on limb L0 branch 723\n",
      "Working on limb L0 branch 992\n",
      "Working on limb L0 branch 847\n",
      "Working on limb L0 branch 1027\n",
      "Working on limb L0 branch 996\n",
      "Working on limb L0 branch 1283\n",
      "Working on limb L0 branch 873\n",
      "Working on limb L0 branch 915\n",
      "Working on limb L0 branch 881\n",
      "Working on limb L0 branch 1048\n",
      "Working on limb L0 branch 1368\n",
      "Working on limb L0 branch 756\n",
      "Working on limb L0 branch 878\n",
      "Working on limb L0 branch 925\n",
      "Working on limb L0 branch 932\n",
      "Working on limb L0 branch 1037\n",
      "Working on limb L0 branch 1300\n",
      "Working on limb L0 branch 928\n",
      "Working on limb L0 branch 1172\n",
      "Working on limb L0 branch 817\n",
      "Working on limb L0 branch 1098\n",
      "Working on limb L0 branch 963\n",
      "Working on limb L0 branch 1104\n",
      "Working on limb L0 branch 767\n",
      "Working on limb L0 branch 1289\n",
      "Working on limb L0 branch 895\n",
      "Working on limb L0 branch 1287\n",
      "Working on limb L0 branch 46\n",
      "Working on limb L0 branch 1429\n",
      "Working on limb L0 branch 795\n",
      "Working on limb L0 branch 1082\n",
      "Working on limb L0 branch 838\n",
      "Working on limb L0 branch 869\n",
      "Working on limb L0 branch 891\n",
      "Working on limb L0 branch 1117\n",
      "Working on limb L0 branch 1291\n"
     ]
    },
    {
     "name": "stdout",
     "output_type": "stream",
     "text": [
      "Working on limb L0 branch 976\n",
      "Working on limb L0 branch 1009\n",
      "Working on limb L0 branch 1423\n",
      "Working on limb L0 branch 1424\n",
      "Working on limb L0 branch 53\n",
      "Working on limb L0 branch 184\n",
      "Working on limb L0 branch 495\n",
      "Working on limb L0 branch 267\n",
      "Working on limb L0 branch 347\n",
      "Working on limb L0 branch 640\n",
      "Working on limb L0 branch 172\n",
      "Working on limb L0 branch 207\n",
      "Working on limb L0 branch 393\n",
      "Working on limb L0 branch 247\n",
      "Working on limb L0 branch 276\n",
      "Working on limb L0 branch 76\n",
      "Working on limb L0 branch 385\n",
      "Working on limb L0 branch 163\n",
      "Working on limb L0 branch 406\n",
      "Working on limb L0 branch 96\n",
      "Working on limb L0 branch 133\n",
      "Working on limb L0 branch 636\n",
      "Working on limb L0 branch 664\n",
      "Working on limb L0 branch 109\n",
      "Working on limb L0 branch 551\n",
      "Working on limb L0 branch 553\n",
      "Working on limb L0 branch 653\n",
      "Working on limb L0 branch 155\n",
      "Working on limb L0 branch 222\n",
      "Working on limb L0 branch 301\n",
      "Working on limb L0 branch 489\n",
      "Working on limb L0 branch 708\n",
      "Working on limb L0 branch 1258\n",
      "Working on limb L0 branch 1175\n",
      "Working on limb L0 branch 1180\n",
      "Working on limb L0 branch 809\n",
      "Working on limb L0 branch 1069\n",
      "Working on limb L0 branch 1105\n",
      "Working on limb L0 branch 786\n",
      "Working on limb L0 branch 1303\n",
      "Working on limb L0 branch 1160\n",
      "Working on limb L0 branch 1163\n",
      "Working on limb L0 branch 854\n",
      "Working on limb L0 branch 1304\n",
      "Working on limb L0 branch 1212\n",
      "Working on limb L0 branch 1365\n",
      "Working on limb L0 branch 744\n",
      "Working on limb L0 branch 1305\n",
      "Working on limb L0 branch 887\n",
      "Working on limb L0 branch 1179\n",
      "Working on limb L0 branch 1269\n",
      "Working on limb L0 branch 1147\n",
      "Working on limb L0 branch 1311\n",
      "Working on limb L0 branch 1149\n",
      "Working on limb L0 branch 1322\n",
      "Working on limb L0 branch 1250\n",
      "Working on limb L0 branch 1259\n",
      "Working on limb L0 branch 801\n",
      "Working on limb L0 branch 892\n",
      "Working on limb L0 branch 1015\n",
      "Working on limb L0 branch 1325\n",
      "Working on limb L0 branch 938\n",
      "Working on limb L0 branch 1302\n",
      "Working on limb L0 branch 1357\n",
      "Working on limb L0 branch 722\n",
      "Working on limb L0 branch 1144\n",
      "Working on limb L0 branch 846\n",
      "Working on limb L0 branch 890\n",
      "Working on limb L0 branch 1026\n",
      "Working on limb L0 branch 1313\n",
      "Working on limb L0 branch 755\n",
      "Working on limb L0 branch 1132\n",
      "Working on limb L0 branch 924\n",
      "Assigning the old width calculation because no valid new widths\n",
      "Working on limb L0 branch 1110\n",
      "Working on limb L0 branch 1036\n",
      "Working on limb L0 branch 1317\n",
      "Working on limb L0 branch 1299\n",
      "Working on limb L0 branch 1338\n",
      "Working on limb L0 branch 1345\n",
      "Working on limb L0 branch 816\n",
      "Working on limb L0 branch 1088\n",
      "Working on limb L0 branch 962\n",
      "Working on limb L0 branch 1359\n",
      "Working on limb L0 branch 1103\n",
      "Working on limb L0 branch 1198\n",
      "Working on limb L0 branch 766\n",
      "Working on limb L0 branch 956\n",
      "Working on limb L0 branch 894\n",
      "Working on limb L0 branch 1185\n",
      "Working on limb L0 branch 44\n",
      "Working on limb L0 branch 1407\n",
      "Working on limb L0 branch 1428\n",
      "Working on limb L0 branch 1433\n",
      "Working on limb L0 branch 837\n",
      "Working on limb L0 branch 1239\n",
      "Working on limb L0 branch 975\n",
      "Working on limb L0 branch 1061\n",
      "Working on limb L0 branch 1008\n",
      "Working on limb L0 branch 1106\n",
      "Working on limb L0 branch 52\n",
      "Working on limb L0 branch 254\n",
      "Working on limb L0 branch 183\n",
      "Working on limb L0 branch 686\n",
      "Working on limb L0 branch 266\n",
      "Working on limb L0 branch 282\n",
      "Working on limb L0 branch 592\n",
      "Working on limb L0 branch 609\n",
      "Working on limb L0 branch 346\n",
      "Working on limb L0 branch 431\n",
      "Working on limb L0 branch 674\n",
      "Working on limb L0 branch 171\n",
      "Working on limb L0 branch 199\n",
      "Working on limb L0 branch 392\n",
      "Working on limb L0 branch 460\n",
      "Working on limb L0 branch 292\n",
      "Working on limb L0 branch 1441\n",
      "Working on limb L0 branch 275\n",
      "Working on limb L0 branch 555\n",
      "Working on limb L0 branch 75\n",
      "Working on limb L0 branch 515\n",
      "Working on limb L0 branch 384\n",
      "Working on limb L0 branch 507\n",
      "Working on limb L0 branch 162\n",
      "Working on limb L0 branch 286\n",
      "Working on limb L0 branch 95\n",
      "Working on limb L0 branch 685\n",
      "Working on limb L0 branch 132\n",
      "Working on limb L0 branch 245\n",
      "Working on limb L0 branch 635\n",
      "Working on limb L0 branch 688\n",
      "Working on limb L0 branch 108\n",
      "Working on limb L0 branch 297\n",
      "Working on limb L0 branch 403\n",
      "Working on limb L0 branch 221\n",
      "Working on limb L0 branch 501\n",
      "Working on limb L0 branch 300\n",
      "Working on limb L0 branch 364\n",
      "Working on limb L0 branch 488\n",
      "Working on limb L0 branch 682\n",
      "Working on limb L0 branch 707\n",
      "Working on limb L0 branch 814\n",
      "Working on limb L0 branch 1174\n",
      "Working on limb L0 branch 1379\n",
      "Working on limb L0 branch 808\n",
      "Working on limb L0 branch 1000\n",
      "Working on limb L0 branch 785\n",
      "Working on limb L0 branch 1253\n",
      "Working on limb L0 branch 1162\n",
      "Working on limb L0 branch 1292\n",
      "Working on limb L0 branch 853\n",
      "Working on limb L0 branch 910\n",
      "Working on limb L0 branch 743\n",
      "Working on limb L0 branch 1279\n",
      "Working on limb L0 branch 886\n",
      "Working on limb L0 branch 1107\n",
      "Working on limb L0 branch 1191\n",
      "Working on limb L0 branch 1272\n",
      "Working on limb L0 branch 937\n",
      "Working on limb L0 branch 1343\n",
      "Working on limb L0 branch 721\n",
      "Working on limb L0 branch 736\n",
      "Working on limb L0 branch 1143\n",
      "Working on limb L0 branch 1392\n",
      "Working on limb L0 branch 845\n",
      "Working on limb L0 branch 935\n",
      "Working on limb L0 branch 1025\n",
      "Working on limb L0 branch 1120\n",
      "Working on limb L0 branch 1312\n",
      "Working on limb L0 branch 1318\n",
      "Working on limb L0 branch 754\n",
      "Working on limb L0 branch 1334\n",
      "Working on limb L0 branch 1131\n",
      "Working on limb L0 branch 1170\n",
      "Working on limb L0 branch 1361\n",
      "Working on limb L0 branch 923\n",
      "Working on limb L0 branch 1294\n",
      "Working on limb L0 branch 1383\n",
      "Working on limb L0 branch 1337\n",
      "Working on limb L0 branch 1374\n",
      "Working on limb L0 branch 815\n",
      "Assigning the old width calculation because no valid new widths\n",
      "Working on limb L0 branch 947\n",
      "Working on limb L0 branch 961\n",
      "Working on limb L0 branch 1252\n",
      "Working on limb L0 branch 765\n",
      "Working on limb L0 branch 1111\n",
      "Working on limb L0 branch 955\n",
      "Working on limb L0 branch 1060\n",
      "Working on limb L0 branch 1281\n",
      "Working on limb L0 branch 1351\n",
      "Working on limb L0 branch 893\n",
      "Working on limb L0 branch 1155\n",
      "Working on limb L0 branch 1184\n",
      "Working on limb L0 branch 1347\n",
      "Working on limb L0 branch 1400\n",
      "Working on limb L0 branch 1406\n",
      "Working on limb L0 branch 1409\n",
      "Working on limb L0 branch 1430\n",
      "Working on limb L0 branch 1432\n",
      "Working on limb L0 branch 836\n",
      "Working on limb L0 branch 1389\n",
      "Working on limb L0 branch 974\n",
      "Working on limb L0 branch 1142\n",
      "Working on limb L0 branch 1007\n",
      "Working on limb L0 branch 1158\n",
      "Working on limb L0 branch 51\n",
      "Working on limb L0 branch 672\n",
      "Working on limb L0 branch 253\n",
      "Working on limb L0 branch 348\n",
      "Working on limb L0 branch 577\n",
      "Working on limb L0 branch 265\n",
      "Working on limb L0 branch 642\n",
      "Working on limb L0 branch 281\n",
      "Working on limb L0 branch 631\n",
      "Working on limb L0 branch 430\n",
      "Working on limb L0 branch 585\n",
      "Working on limb L0 branch 170\n",
      "Working on limb L0 branch 691\n",
      "Working on limb L0 branch 198\n",
      "Working on limb L0 branch 410\n",
      "Working on limb L0 branch 459\n",
      "Working on limb L0 branch 492\n",
      "Working on limb L0 branch 291\n",
      "Working on limb L0 branch 540\n",
      "Working on limb L0 branch 246\n",
      "Working on limb L0 branch 1442\n",
      "Working on limb L0 branch 274\n",
      "Working on limb L0 branch 683\n",
      "Working on limb L0 branch 74\n",
      "Working on limb L0 branch 435\n",
      "Working on limb L0 branch 383\n",
      "Working on limb L0 branch 689\n",
      "Working on limb L0 branch 161\n",
      "Working on limb L0 branch 618\n",
      "Working on limb L0 branch 285\n",
      "Working on limb L0 branch 382\n",
      "Working on limb L0 branch 94\n",
      "Working on limb L0 branch 313\n",
      "Working on limb L0 branch 131\n",
      "Working on limb L0 branch 209\n",
      "Working on limb L0 branch 244\n",
      "Working on limb L0 branch 251\n",
      "Working on limb L0 branch 107\n",
      "Working on limb L0 branch 458\n",
      "Working on limb L0 branch 220\n",
      "Working on limb L0 branch 345\n",
      "Working on limb L0 branch 299\n",
      "Working on limb L0 branch 450\n",
      "Working on limb L0 branch 363\n",
      "Working on limb L0 branch 677\n",
      "Working on limb L0 branch 487\n",
      "Working on limb L0 branch 587\n",
      "Working on limb L0 branch 706\n",
      "Working on limb L0 branch 877\n",
      "Working on limb L0 branch 1309\n",
      "Working on limb L0 branch 813\n",
      "Working on limb L0 branch 1378\n",
      "Working on limb L0 branch 807\n",
      "Working on limb L0 branch 871\n",
      "Working on limb L0 branch 1324\n",
      "Working on limb L0 branch 784\n",
      "Working on limb L0 branch 1035\n",
      "Working on limb L0 branch 852\n",
      "Working on limb L0 branch 1370\n",
      "Working on limb L0 branch 909\n",
      "Working on limb L0 branch 1045\n",
      "Working on limb L0 branch 742\n",
      "Working on limb L0 branch 1335\n",
      "Working on limb L0 branch 1278\n"
     ]
    },
    {
     "name": "stdout",
     "output_type": "stream",
     "text": [
      "Working on limb L0 branch 1286\n",
      "Working on limb L0 branch 885\n",
      "Working on limb L0 branch 1373\n",
      "Working on limb L0 branch 720\n",
      "Working on limb L0 branch 1138\n",
      "Working on limb L0 branch 735\n",
      "Working on limb L0 branch 1263\n",
      "Working on limb L0 branch 844\n",
      "Working on limb L0 branch 914\n",
      "Working on limb L0 branch 934\n",
      "Working on limb L0 branch 950\n",
      "Working on limb L0 branch 1119\n",
      "Working on limb L0 branch 1151\n",
      "Working on limb L0 branch 753\n",
      "Working on limb L0 branch 1164\n",
      "Working on limb L0 branch 1293\n",
      "Working on limb L0 branch 1295\n",
      "Working on limb L0 branch 946\n",
      "Working on limb L0 branch 1243\n",
      "Working on limb L0 branch 764\n",
      "Working on limb L0 branch 943\n",
      "Working on limb L0 branch 954\n",
      "Working on limb L0 branch 1248\n",
      "Working on limb L0 branch 1059\n",
      "Working on limb L0 branch 1063\n",
      "Working on limb L0 branch 1256\n",
      "Working on limb L0 branch 1367\n",
      "Working on limb L0 branch 1350\n",
      "Working on limb L0 branch 1372\n",
      "Working on limb L0 branch 1183\n",
      "Working on limb L0 branch 1244\n",
      "Working on limb L0 branch 1405\n",
      "Working on limb L0 branch 1408\n",
      "Working on limb L0 branch 47\n",
      "Working on limb L0 branch 1431\n",
      "Working on limb L0 branch 835\n",
      "Working on limb L0 branch 1228\n",
      "Working on limb L0 branch 973\n",
      "Working on limb L0 branch 1225\n",
      "Working on limb L0 branch 1006\n",
      "Working on limb L0 branch 1046\n",
      "Working on limb L0 branch 50\n",
      "Working on limb L0 branch 194\n",
      "Working on limb L0 branch 576\n",
      "Working on limb L0 branch 676\n",
      "Working on limb L0 branch 264\n",
      "Working on limb L0 branch 541\n",
      "Working on limb L0 branch 280\n",
      "Working on limb L0 branch 284\n",
      "Working on limb L0 branch 169\n",
      "Working on limb L0 branch 571\n",
      "Working on limb L0 branch 290\n",
      "Working on limb L0 branch 690\n",
      "Working on limb L0 branch 273\n",
      "Working on limb L0 branch 537\n",
      "Working on limb L0 branch 73\n",
      "Working on limb L0 branch 252\n",
      "Working on limb L0 branch 160\n",
      "Working on limb L0 branch 583\n",
      "Working on limb L0 branch 381\n",
      "Working on limb L0 branch 405\n",
      "Working on limb L0 branch 93\n",
      "Working on limb L0 branch 182\n",
      "Working on limb L0 branch 130\n",
      "Working on limb L0 branch 319\n",
      "Working on limb L0 branch 558\n",
      "Working on limb L0 branch 208\n",
      "Working on limb L0 branch 491\n",
      "Working on limb L0 branch 243\n",
      "Working on limb L0 branch 258\n",
      "Working on limb L0 branch 457\n",
      "Working on limb L0 branch 654\n",
      "Working on limb L0 branch 219\n",
      "Working on limb L0 branch 500\n",
      "Working on limb L0 branch 344\n",
      "Working on limb L0 branch 398\n",
      "Working on limb L0 branch 298\n",
      "Working on limb L0 branch 366\n",
      "Working on limb L0 branch 449\n",
      "Working on limb L0 branch 561\n",
      "Working on limb L0 branch 870\n",
      "Working on limb L0 branch 986\n",
      "Working on limb L0 branch 783\n",
      "Working on limb L0 branch 1323\n",
      "Working on limb L0 branch 851\n",
      "Working on limb L0 branch 1346\n",
      "Working on limb L0 branch 908\n",
      "Working on limb L0 branch 1078\n",
      "Working on limb L0 branch 1044\n",
      "Working on limb L0 branch 1356\n",
      "Working on limb L0 branch 741\n",
      "Working on limb L0 branch 863\n",
      "Working on limb L0 branch 1157\n",
      "Working on limb L0 branch 1285\n",
      "Working on limb L0 branch 1321\n",
      "Working on limb L0 branch 884\n",
      "Working on limb L0 branch 1233\n",
      "Working on limb L0 branch 719\n",
      "Working on limb L0 branch 951\n",
      "Working on limb L0 branch 1137\n",
      "Working on limb L0 branch 1236\n",
      "Working on limb L0 branch 734\n",
      "Working on limb L0 branch 794\n",
      "Working on limb L0 branch 843\n",
      "Working on limb L0 branch 991\n",
      "Working on limb L0 branch 913\n",
      "Working on limb L0 branch 1047\n",
      "Working on limb L0 branch 1064\n",
      "Working on limb L0 branch 933\n",
      "Working on limb L0 branch 1129\n",
      "Working on limb L0 branch 949\n",
      "Working on limb L0 branch 989\n",
      "Working on limb L0 branch 752\n",
      "Working on limb L0 branch 1153\n",
      "Working on limb L0 branch 945\n",
      "Working on limb L0 branch 1192\n",
      "Working on limb L0 branch 1242\n",
      "Working on limb L0 branch 1310\n",
      "Working on limb L0 branch 942\n",
      "Working on limb L0 branch 1344\n",
      "Working on limb L0 branch 953\n",
      "Working on limb L0 branch 1268\n",
      "Working on limb L0 branch 1443\n",
      "Working on limb L0 branch 1401\n",
      "Working on limb L0 branch 1404\n",
      "Working on limb L0 branch 834\n",
      "Working on limb L0 branch 1043\n",
      "Working on limb L0 branch 972\n",
      "Working on limb L0 branch 1013\n",
      "Working on limb L0 branch 1005\n",
      "Working on limb L0 branch 1358\n",
      "Working on limb L0 branch 49\n",
      "Working on limb L0 branch 604\n",
      "Working on limb L0 branch 193\n",
      "Working on limb L0 branch 536\n",
      "Working on limb L0 branch 279\n",
      "Working on limb L0 branch 357\n",
      "Working on limb L0 branch 283\n",
      "Working on limb L0 branch 443\n",
      "Working on limb L0 branch 168\n",
      "Working on limb L0 branch 650\n",
      "Working on limb L0 branch 570\n",
      "Working on limb L0 branch 681\n",
      "Working on limb L0 branch 289\n",
      "Working on limb L0 branch 669\n",
      "Working on limb L0 branch 72\n",
      "Working on limb L0 branch 104\n",
      "Working on limb L0 branch 159\n",
      "Working on limb L0 branch 516\n",
      "Working on limb L0 branch 380\n",
      "Working on limb L0 branch 572\n",
      "Working on limb L0 branch 404\n",
      "Working on limb L0 branch 549\n",
      "Working on limb L0 branch 680\n",
      "Working on limb L0 branch 92\n",
      "Working on limb L0 branch 452\n",
      "Working on limb L0 branch 181\n",
      "Working on limb L0 branch 185\n",
      "Working on limb L0 branch 129\n",
      "Working on limb L0 branch 595\n",
      "Working on limb L0 branch 318\n",
      "Working on limb L0 branch 678\n",
      "Working on limb L0 branch 490\n",
      "Working on limb L0 branch 494\n",
      "Working on limb L0 branch 499\n",
      "Working on limb L0 branch 242\n",
      "Working on limb L0 branch 442\n",
      "Working on limb L0 branch 257\n",
      "Working on limb L0 branch 608\n",
      "Working on limb L0 branch 218\n",
      "Working on limb L0 branch 550\n",
      "Working on limb L0 branch 397\n",
      "Working on limb L0 branch 441\n",
      "Working on limb L0 branch 365\n",
      "Working on limb L0 branch 463\n",
      "Working on limb L0 branch 560\n",
      "Working on limb L0 branch 641\n",
      "Working on limb L0 branch 985\n",
      "Working on limb L0 branch 1159\n",
      "Working on limb L0 branch 782\n",
      "Working on limb L0 branch 829\n",
      "Working on limb L0 branch 1112\n",
      "Working on limb L0 branch 907\n",
      "Working on limb L0 branch 1205\n",
      "Working on limb L0 branch 1077\n",
      "Working on limb L0 branch 1382\n",
      "Working on limb L0 branch 740\n",
      "Working on limb L0 branch 971\n",
      "Working on limb L0 branch 1156\n",
      "Working on limb L0 branch 1332\n",
      "Working on limb L0 branch 883\n",
      "Working on limb L0 branch 1087\n",
      "Working on limb L0 branch 718\n",
      "Working on limb L0 branch 911\n",
      "Working on limb L0 branch 1136\n",
      "Working on limb L0 branch 1271\n",
      "Working on limb L0 branch 733\n",
      "Working on limb L0 branch 763\n",
      "Working on limb L0 branch 1014\n",
      "Working on limb L0 branch 793\n",
      "Working on limb L0 branch 1018\n",
      "Working on limb L0 branch 842\n",
      "Working on limb L0 branch 866\n",
      "Working on limb L0 branch 1262\n",
      "Working on limb L0 branch 990\n",
      "Working on limb L0 branch 1204\n",
      "Working on limb L0 branch 912\n",
      "Working on limb L0 branch 1062\n",
      "Working on limb L0 branch 1128\n",
      "Working on limb L0 branch 1169\n",
      "Working on limb L0 branch 948\n",
      "Working on limb L0 branch 1245\n",
      "Working on limb L0 branch 988\n",
      "Working on limb L0 branch 1073\n",
      "Working on limb L0 branch 751\n",
      "Working on limb L0 branch 862\n",
      "Working on limb L0 branch 944\n",
      "Working on limb L0 branch 1084\n",
      "Working on limb L0 branch 1241\n",
      "Working on limb L0 branch 1339\n",
      "Working on limb L0 branch 941\n",
      "Working on limb L0 branch 1348\n",
      "Working on limb L0 branch 952\n",
      "Working on limb L0 branch 1116\n",
      "Working on limb L0 branch 1267\n",
      "Working on limb L0 branch 1340\n",
      "Working on limb L0 branch 1402\n",
      "Working on limb L0 branch 1403\n",
      "Working on limb L0 branch 833\n",
      "Working on limb L0 branch 859\n",
      "Working on limb L0 branch 1391\n",
      "Working on limb L0 branch 1042\n",
      "Working on limb L0 branch 1057\n",
      "Working on limb L0 branch 1012\n",
      "Working on limb L0 branch 1220\n",
      "Working on limb L0 branch 1004\n",
      "Working on limb L0 branch 1390\n",
      "Working on limb L0 branch 48\n",
      "Working on limb L0 branch 269\n",
      "Working on limb L0 branch 568\n",
      "Working on limb L0 branch 603\n",
      "Working on limb L0 branch 658\n",
      "Working on limb L0 branch 192\n",
      "Working on limb L0 branch 362\n",
      "Working on limb L0 branch 278\n",
      "Working on limb L0 branch 668\n",
      "Working on limb L0 branch 167\n",
      "Working on limb L0 branch 407\n",
      "Working on limb L0 branch 530\n",
      "Working on limb L0 branch 288\n",
      "Working on limb L0 branch 562\n",
      "Working on limb L0 branch 71\n",
      "Working on limb L0 branch 143\n",
      "Working on limb L0 branch 103\n",
      "Working on limb L0 branch 106\n",
      "Working on limb L0 branch 417\n",
      "Working on limb L0 branch 91\n",
      "Working on limb L0 branch 189\n",
      "Working on limb L0 branch 451\n",
      "Working on limb L0 branch 544\n",
      "Working on limb L0 branch 180\n",
      "Working on limb L0 branch 272\n",
      "Working on limb L0 branch 128\n",
      "Working on limb L0 branch 616\n",
      "Working on limb L0 branch 493\n",
      "Working on limb L0 branch 519\n",
      "Working on limb L0 branch 241\n",
      "Working on limb L0 branch 262\n",
      "Working on limb L0 branch 256\n",
      "Working on limb L0 branch 624\n",
      "Working on limb L0 branch 607\n",
      "Working on limb L0 branch 619\n",
      "Working on limb L0 branch 652\n"
     ]
    },
    {
     "name": "stdout",
     "output_type": "stream",
     "text": [
      "Working on limb L0 branch 217\n",
      "Working on limb L0 branch 670\n",
      "Working on limb L0 branch 462\n",
      "Working on limb L0 branch 565\n",
      "Working on limb L0 branch 781\n",
      "Working on limb L0 branch 1384\n",
      "Working on limb L0 branch 828\n",
      "Working on limb L0 branch 969\n",
      "Working on limb L0 branch 1070\n",
      "Working on limb L0 branch 1076\n",
      "Working on limb L0 branch 1376\n",
      "Working on limb L0 branch 739\n",
      "Working on limb L0 branch 1264\n",
      "Working on limb L0 branch 1086\n",
      "Working on limb L0 branch 1315\n",
      "Working on limb L0 branch 1354\n",
      "Working on limb L0 branch 1135\n",
      "Working on limb L0 branch 1296\n",
      "Working on limb L0 branch 732\n",
      "Working on limb L0 branch 1145\n",
      "Working on limb L0 branch 762\n",
      "Working on limb L0 branch 858\n",
      "Working on limb L0 branch 936\n",
      "Working on limb L0 branch 1017\n",
      "Working on limb L0 branch 1049\n",
      "Working on limb L0 branch 1154\n",
      "Working on limb L0 branch 1195\n",
      "Working on limb L0 branch 865\n",
      "Working on limb L0 branch 1023\n",
      "Working on limb L0 branch 987\n",
      "Working on limb L0 branch 1366\n",
      "Working on limb L0 branch 1083\n",
      "Working on limb L0 branch 1266\n",
      "Working on limb L0 branch 832\n",
      "Working on limb L0 branch 1102\n",
      "Working on limb L0 branch 1041\n",
      "Working on limb L0 branch 1122\n",
      "Working on limb L0 branch 1003\n",
      "Working on limb L0 branch 1203\n",
      "Working on limb L0 branch 191\n",
      "Working on limb L0 branch 454\n",
      "Working on limb L0 branch 287\n",
      "Working on limb L0 branch 331\n",
      "Working on limb L0 branch 70\n",
      "Working on limb L0 branch 687\n",
      "Working on limb L0 branch 102\n",
      "Working on limb L0 branch 517\n",
      "Working on limb L0 branch 105\n",
      "Working on limb L0 branch 620\n",
      "Working on limb L0 branch 416\n",
      "Working on limb L0 branch 437\n",
      "Working on limb L0 branch 90\n",
      "Working on limb L0 branch 206\n",
      "Working on limb L0 branch 188\n",
      "Working on limb L0 branch 196\n",
      "Working on limb L0 branch 513\n",
      "Working on limb L0 branch 179\n",
      "Working on limb L0 branch 322\n",
      "Working on limb L0 branch 271\n",
      "Working on limb L0 branch 402\n",
      "Working on limb L0 branch 127\n",
      "Working on limb L0 branch 140\n",
      "Working on limb L0 branch 240\n",
      "Working on limb L0 branch 634\n",
      "Working on limb L0 branch 255\n",
      "Working on limb L0 branch 426\n",
      "Working on limb L0 branch 606\n",
      "Working on limb L0 branch 646\n",
      "Working on limb L0 branch 216\n",
      "Working on limb L0 branch 569\n",
      "Working on limb L0 branch 461\n",
      "Working on limb L0 branch 498\n",
      "Working on limb L0 branch 623\n",
      "Working on limb L0 branch 780\n",
      "Working on limb L0 branch 1353\n",
      "Working on limb L0 branch 827\n",
      "Working on limb L0 branch 876\n",
      "Working on limb L0 branch 738\n",
      "Working on limb L0 branch 1058\n",
      "Working on limb L0 branch 1230\n",
      "Working on limb L0 branch 1314\n",
      "Working on limb L0 branch 1355\n",
      "Working on limb L0 branch 731\n",
      "Working on limb L0 branch 1099\n",
      "Working on limb L0 branch 761\n",
      "Working on limb L0 branch 984\n",
      "Working on limb L0 branch 1210\n",
      "Working on limb L0 branch 864\n",
      "Working on limb L0 branch 1255\n",
      "Working on limb L0 branch 1022\n",
      "Working on limb L0 branch 1081\n",
      "Working on limb L0 branch 1307\n",
      "Working on limb L0 branch 831\n",
      "Working on limb L0 branch 1385\n",
      "Working on limb L0 branch 1101\n",
      "Working on limb L0 branch 1352\n",
      "Working on limb L0 branch 1040\n",
      "Working on limb L0 branch 1053\n",
      "Working on limb L0 branch 1002\n",
      "Working on limb L0 branch 1031\n",
      "Working on limb L0 branch 190\n",
      "Working on limb L0 branch 317\n",
      "Working on limb L0 branch 69\n",
      "Working on limb L0 branch 692\n",
      "Working on limb L0 branch 436\n",
      "Working on limb L0 branch 445\n",
      "Working on limb L0 branch 89\n",
      "Working on limb L0 branch 414\n",
      "Working on limb L0 branch 205\n",
      "Working on limb L0 branch 600\n",
      "Working on limb L0 branch 187\n",
      "Working on limb L0 branch 657\n",
      "Working on limb L0 branch 195\n",
      "Working on limb L0 branch 505\n",
      "Working on limb L0 branch 321\n",
      "Working on limb L0 branch 535\n",
      "Working on limb L0 branch 270\n",
      "Working on limb L0 branch 330\n",
      "Working on limb L0 branch 126\n",
      "Working on limb L0 branch 342\n",
      "Working on limb L0 branch 139\n",
      "Working on limb L0 branch 356\n",
      "Working on limb L0 branch 239\n",
      "Working on limb L0 branch 353\n",
      "Working on limb L0 branch 215\n",
      "Working on limb L0 branch 332\n",
      "Working on limb L0 branch 779\n",
      "Working on limb L0 branch 1208\n",
      "Working on limb L0 branch 826\n",
      "Working on limb L0 branch 1270\n",
      "Working on limb L0 branch 737\n",
      "Working on limb L0 branch 1171\n",
      "Working on limb L0 branch 1229\n",
      "Working on limb L0 branch 1301\n",
      "Working on limb L0 branch 730\n",
      "Working on limb L0 branch 968\n",
      "Working on limb L0 branch 995\n",
      "Working on limb L0 branch 983\n",
      "Working on limb L0 branch 1165\n",
      "Working on limb L0 branch 1182\n",
      "Working on limb L0 branch 1021\n",
      "Working on limb L0 branch 1152\n",
      "Working on limb L0 branch 1254\n",
      "Working on limb L0 branch 1080\n",
      "Working on limb L0 branch 1109\n",
      "Working on limb L0 branch 1232\n",
      "Working on limb L0 branch 1306\n",
      "Working on limb L0 branch 1327\n",
      "Working on limb L0 branch 830\n",
      "Working on limb L0 branch 931\n",
      "Working on limb L0 branch 1100\n",
      "Working on limb L0 branch 1140\n",
      "Working on limb L0 branch 1039\n",
      "Working on limb L0 branch 1197\n",
      "Working on limb L0 branch 1052\n",
      "Working on limb L0 branch 1173\n",
      "Working on limb L0 branch 1249\n",
      "Working on limb L0 branch 1001\n",
      "Working on limb L0 branch 1121\n",
      "Working on limb L0 branch 1030\n",
      "Working on limb L0 branch 1085\n",
      "Working on limb L0 branch 316\n",
      "Working on limb L0 branch 388\n",
      "Working on limb L0 branch 703\n",
      "Working on limb L0 branch 444\n",
      "Working on limb L0 branch 497\n",
      "Working on limb L0 branch 88\n",
      "Working on limb L0 branch 387\n",
      "Working on limb L0 branch 204\n",
      "Working on limb L0 branch 341\n",
      "Working on limb L0 branch 475\n",
      "Working on limb L0 branch 186\n",
      "Working on limb L0 branch 354\n",
      "Working on limb L0 branch 539\n",
      "Working on limb L0 branch 320\n",
      "Working on limb L0 branch 409\n",
      "Working on limb L0 branch 125\n",
      "Working on limb L0 branch 508\n",
      "Working on limb L0 branch 138\n",
      "Working on limb L0 branch 197\n",
      "Working on limb L0 branch 355\n",
      "Working on limb L0 branch 399\n",
      "Working on limb L0 branch 238\n",
      "Working on limb L0 branch 314\n",
      "Working on limb L0 branch 352\n",
      "Working on limb L0 branch 648\n",
      "Working on limb L0 branch 778\n",
      "Working on limb L0 branch 1219\n",
      "Working on limb L0 branch 825\n",
      "Working on limb L0 branch 1202\n",
      "Working on limb L0 branch 922\n",
      "Working on limb L0 branch 967\n",
      "Working on limb L0 branch 1336\n",
      "Working on limb L0 branch 1181\n",
      "Working on limb L0 branch 1342\n",
      "Working on limb L0 branch 1020\n",
      "Working on limb L0 branch 1393\n",
      "Working on limb L0 branch 1108\n",
      "Working on limb L0 branch 1146\n",
      "Working on limb L0 branch 930\n",
      "Working on limb L0 branch 1075\n",
      "Working on limb L0 branch 1139\n",
      "Working on limb L0 branch 1349\n",
      "Working on limb L0 branch 1029\n",
      "Working on limb L0 branch 1089\n",
      "Working on limb L0 branch 315\n",
      "Working on limb L0 branch 415\n",
      "Working on limb L0 branch 87\n",
      "Working on limb L0 branch 144\n"
     ]
    },
    {
     "ename": "KeyboardInterrupt",
     "evalue": "",
     "output_type": "error",
     "traceback": [
      "\u001b[0;31m---------------------------------------------------------------------------\u001b[0m",
      "\u001b[0;31mKeyboardInterrupt\u001b[0m                         Traceback (most recent call last)",
      "\u001b[0;32m<ipython-input-11-9a4742384962>\u001b[0m in \u001b[0;36m<module>\u001b[0;34m\u001b[0m\n\u001b[1;32m     22\u001b[0m \u001b[0msuppress_output\u001b[0m\u001b[0;34m=\u001b[0m\u001b[0;32mFalse\u001b[0m\u001b[0;34m,\u001b[0m\u001b[0;34m\u001b[0m\u001b[0;34m\u001b[0m\u001b[0m\n\u001b[1;32m     23\u001b[0m \u001b[0mcalculate_spines\u001b[0m\u001b[0;34m=\u001b[0m\u001b[0;32mTrue\u001b[0m\u001b[0;34m,\u001b[0m\u001b[0;34m\u001b[0m\u001b[0;34m\u001b[0m\u001b[0m\n\u001b[0;32m---> 24\u001b[0;31m \u001b[0mwidths_to_calculate\u001b[0m\u001b[0;34m=\u001b[0m\u001b[0;34m[\u001b[0m\u001b[0;34m\"no_spine_median_mesh_center\"\u001b[0m\u001b[0;34m]\u001b[0m\u001b[0;34m\u001b[0m\u001b[0;34m\u001b[0m\u001b[0m\n\u001b[0m\u001b[1;32m     25\u001b[0m \u001b[0;34m\u001b[0m\u001b[0m\n\u001b[1;32m     26\u001b[0m         )\n",
      "\u001b[0;32m/meshAfterParty/neuron.py\u001b[0m in \u001b[0;36m__init__\u001b[0;34m(self, mesh, segment_id, description, preprocessed_data, decomposition_type, mesh_correspondence, distance_by_mesh_center, meshparty_segment_size, meshparty_n_surface_downsampling, meshparty_adaptive_correspondence_after_creation, suppress_preprocessing_print, computed_attribute_dict, somas, branch_skeleton_data, combine_close_skeleton_nodes, combine_close_skeleton_nodes_threshold, ignore_warnings, suppress_output, calculate_spines, widths_to_calculate, fill_hole_size, preprocessing_version)\u001b[0m\n\u001b[1;32m   1818\u001b[0m                     \u001b[0;32mif\u001b[0m \u001b[0;32mnot\u001b[0m \u001b[0mself\u001b[0m\u001b[0;34m.\u001b[0m\u001b[0mspines_already_computed\u001b[0m\u001b[0;34m(\u001b[0m\u001b[0;34m)\u001b[0m\u001b[0;34m:\u001b[0m\u001b[0;34m\u001b[0m\u001b[0;34m\u001b[0m\u001b[0m\n\u001b[1;32m   1819\u001b[0m                         \u001b[0mprint\u001b[0m\u001b[0;34m(\u001b[0m\u001b[0;34m\"7a) calculating spines because didn't exist\"\u001b[0m\u001b[0;34m)\u001b[0m\u001b[0;34m\u001b[0m\u001b[0;34m\u001b[0m\u001b[0m\n\u001b[0;32m-> 1820\u001b[0;31m                         \u001b[0mself\u001b[0m\u001b[0;34m.\u001b[0m\u001b[0mcalculate_spines\u001b[0m\u001b[0;34m(\u001b[0m\u001b[0;34m)\u001b[0m\u001b[0;34m\u001b[0m\u001b[0;34m\u001b[0m\u001b[0m\n\u001b[0m\u001b[1;32m   1821\u001b[0m \u001b[0;34m\u001b[0m\u001b[0m\n\u001b[1;32m   1822\u001b[0m                 \u001b[0;32mfor\u001b[0m \u001b[0mw\u001b[0m \u001b[0;32min\u001b[0m \u001b[0mwidths_to_calculate\u001b[0m\u001b[0;34m:\u001b[0m\u001b[0;34m\u001b[0m\u001b[0;34m\u001b[0m\u001b[0m\n",
      "\u001b[0;32m/meshAfterParty/neuron.py\u001b[0m in \u001b[0;36mcalculate_spines\u001b[0;34m(self, query, clusters_threshold, smoothness_threshold, shaft_threshold, cgal_path, print_flag, filter_out_border_spines, skeleton_endpoint_nullification, soma_vertex_nullification, border_percentage_threshold, check_spine_border_perc, calculate_spine_volume)\u001b[0m\n\u001b[1;32m   2320\u001b[0m                 self.calculate_new_width(no_spines=False,\n\u001b[1;32m   2321\u001b[0m                                        \u001b[0mdistance_by_mesh_center\u001b[0m\u001b[0;34m=\u001b[0m\u001b[0;32mTrue\u001b[0m\u001b[0;34m,\u001b[0m\u001b[0;34m\u001b[0m\u001b[0;34m\u001b[0m\u001b[0m\n\u001b[0;32m-> 2322\u001b[0;31m                                        summary_measure=\"median\")\n\u001b[0m\u001b[1;32m   2323\u001b[0m             \u001b[0;32melse\u001b[0m\u001b[0;34m:\u001b[0m\u001b[0;34m\u001b[0m\u001b[0;34m\u001b[0m\u001b[0m\n\u001b[1;32m   2324\u001b[0m                 \u001b[0mprint\u001b[0m\u001b[0;34m(\u001b[0m\u001b[0;34m\"The median_mesh_center was requested and HAS already been calculated\"\u001b[0m\u001b[0;34m)\u001b[0m\u001b[0;34m\u001b[0m\u001b[0;34m\u001b[0m\u001b[0m\n",
      "\u001b[0;32m/meshAfterParty/neuron.py\u001b[0m in \u001b[0;36mcalculate_new_width\u001b[0;34m(self, skeleton_segment_size, width_segment_size, width_name, distance_by_mesh_center, no_spines, summary_measure, **kwargs)\u001b[0m\n\u001b[1;32m   2248\u001b[0m                                           \u001b[0mreturn_average\u001b[0m\u001b[0;34m=\u001b[0m\u001b[0;32mTrue\u001b[0m\u001b[0;34m,\u001b[0m\u001b[0;34m\u001b[0m\u001b[0;34m\u001b[0m\u001b[0m\n\u001b[1;32m   2249\u001b[0m                                           \u001b[0mprint_flag\u001b[0m\u001b[0;34m=\u001b[0m\u001b[0;32mFalse\u001b[0m\u001b[0;34m,\u001b[0m\u001b[0;34m\u001b[0m\u001b[0;34m\u001b[0m\u001b[0m\n\u001b[0;32m-> 2250\u001b[0;31m                                         **kwargs)\n\u001b[0m\u001b[1;32m   2251\u001b[0m \u001b[0;34m\u001b[0m\u001b[0m\n\u001b[1;32m   2252\u001b[0m \u001b[0;34m\u001b[0m\u001b[0m\n",
      "\u001b[0;32m/meshAfterParty/width_utils.py\u001b[0m in \u001b[0;36mcalculate_new_width\u001b[0;34m(branch, skeleton_segment_size, width_segment_size, return_average, distance_by_mesh_center, no_spines, summary_measure, print_flag)\u001b[0m\n\u001b[1;32m     45\u001b[0m                                     \u001b[0mdistance_by_mesh_center\u001b[0m\u001b[0;34m=\u001b[0m\u001b[0mdistance_by_mesh_center\u001b[0m\u001b[0;34m,\u001b[0m\u001b[0;34m\u001b[0m\u001b[0;34m\u001b[0m\u001b[0m\n\u001b[1;32m     46\u001b[0m                                     \u001b[0mprint_flag\u001b[0m\u001b[0;34m=\u001b[0m\u001b[0;32mFalse\u001b[0m\u001b[0;34m,\u001b[0m\u001b[0;34m\u001b[0m\u001b[0;34m\u001b[0m\u001b[0m\n\u001b[0;32m---> 47\u001b[0;31m                                     \u001b[0medge_loop_print\u001b[0m\u001b[0;34m=\u001b[0m\u001b[0;32mFalse\u001b[0m\u001b[0;34m\u001b[0m\u001b[0;34m\u001b[0m\u001b[0m\n\u001b[0m\u001b[1;32m     48\u001b[0m                                                          )\n\u001b[1;32m     49\u001b[0m \u001b[0;34m\u001b[0m\u001b[0m\n",
      "\u001b[0;32m/meshAfterParty/compartment_utils.py\u001b[0m in \u001b[0;36mget_skeletal_distance_no_skipping\u001b[0;34m(main_mesh, edges, buffer, bbox_ratio, distance_threshold, distance_by_mesh_center, print_flag, edge_loop_print, stitch_patches, significant_sub_components, connectivity, fast_mesh_split)\u001b[0m\n\u001b[1;32m     75\u001b[0m         \u001b[0mfac_midpoints_trans\u001b[0m \u001b[0;34m=\u001b[0m \u001b[0mcob_edge\u001b[0m\u001b[0;34m@\u001b[0m\u001b[0mface_midpoints\u001b[0m\u001b[0;34m.\u001b[0m\u001b[0mT\u001b[0m\u001b[0;34m\u001b[0m\u001b[0;34m\u001b[0m\u001b[0m\n\u001b[1;32m     76\u001b[0m \u001b[0;34m\u001b[0m\u001b[0m\n\u001b[0;32m---> 77\u001b[0;31m         slice_mask_pre_distance = ((fac_midpoints_trans[2,:]>slice_range_buffer[0]) & \n\u001b[0m\u001b[1;32m     78\u001b[0m                       (fac_midpoints_trans[2,:]<slice_range_buffer[1]))\n\u001b[1;32m     79\u001b[0m \u001b[0;34m\u001b[0m\u001b[0m\n",
      "\u001b[0;31mKeyboardInterrupt\u001b[0m: "
     ]
    }
   ],
   "source": [
    "import preprocessing_vp2 as pre\n",
    "import soma_extraction_utils as sm\n",
    "import skeleton_utils as sk\n",
    "\n",
    "import neuron\n",
    "tu = reload(tu)\n",
    "du = reload(du)\n",
    "sm = reload(sm)\n",
    "pre = reload(pre)\n",
    "import compartment_utils as cu\n",
    "cu = reload(cu)\n",
    "sk= reload(sk)\n",
    "\n",
    "neuron = reload(neuron)\n",
    "print(f\"\\n--- Beginning preprocessing of {segment_id}---\")\n",
    "recovered_neuron = neuron.Neuron(\n",
    "mesh = current_neuron_mesh,\n",
    "somas = somas,\n",
    "segment_id=segment_id,\n",
    "description=description,\n",
    "suppress_preprocessing_print=False,\n",
    "suppress_output=False,\n",
    "calculate_spines=True,\n",
    "widths_to_calculate=[\"no_spine_median_mesh_center\"]\n",
    "\n",
    "        )"
   ]
  },
  {
   "cell_type": "code",
   "execution_count": null,
   "metadata": {},
   "outputs": [],
   "source": [
    "MP_stitch_branch_graph = su.decompress_pickle(\"MP_stitch_branch_graph\")\n",
    "keep_neighbor_coordinates = su.decompress_pickle(\"keep_neighbor_coordinates\")\n",
    "MAP_stitch_point = su.decompress_pickle(\"MAP_stitch_point\")\n",
    "winning_vertex = np.array([ 545883.,  692747., 1053990.])\n",
    "\n",
    "stitch_node = xu.get_nodes_with_attributes_dict(MP_stitch_branch_graph,dict(coordinates=MAP_stitch_point))[0]"
   ]
  },
  {
   "cell_type": "code",
   "execution_count": null,
   "metadata": {},
   "outputs": [],
   "source": [
    "skeleton"
   ]
  },
  {
   "cell_type": "code",
   "execution_count": null,
   "metadata": {},
   "outputs": [],
   "source": [
    "stitch_node = xu.get_nodes_with_attributes_dict(MP_stitch_branch_graph,dict(coordinates=MAP_stitch_point))[0]\n",
    "stitch_node"
   ]
  },
  {
   "cell_type": "code",
   "execution_count": null,
   "metadata": {},
   "outputs": [],
   "source": [
    "winning_vertex"
   ]
  },
  {
   "cell_type": "code",
   "execution_count": null,
   "metadata": {},
   "outputs": [],
   "source": [
    "keep_neighbor_coordinates"
   ]
  },
  {
   "cell_type": "code",
   "execution_count": null,
   "metadata": {},
   "outputs": [],
   "source": [
    "MAP_stitch_point"
   ]
  },
  {
   "cell_type": "code",
   "execution_count": null,
   "metadata": {},
   "outputs": [],
   "source": [
    "nviz.plot_objects(skeletons=skeleton,\n",
    "                 scatters=[keep_neighbor_coordinates.reshape(-1,3), winning_vertex.reshape(-1,3)],\n",
    "                 scatter_size=0.2)"
   ]
  },
  {
   "cell_type": "code",
   "execution_count": null,
   "metadata": {},
   "outputs": [],
   "source": [
    "from skeleton_utils import *\n",
    "\n",
    "skeleton = sk.convert_graph_to_skeleton(MP_stitch_branch_graph)\n",
    "skeleton_stitch_point=keep_neighbor_coordinates,\n",
    "new_stitch_point=winning_vertex\n",
    "\n",
    "\n",
    "new_seg=None\n",
    "resize_mult= 0.2\n",
    "n_resized_cutoff=3\n",
    "smooth_branch_at_end=True\n",
    "n_resized_cutoff_to_smooth=None\n",
    "smooth_width = 100\n",
    "max_stitch_distance_for_smoothing=300\n",
    "    \n",
    "\"\"\"\n",
    "Purpose: To add on a new skeletal segment to a branch that will\n",
    "prevent the characteristic hooking when stitching a new point\n",
    "\n",
    "Pseudocode: \n",
    "1) Get the distance of the stitch point = A\n",
    "2) Resize the skeleton to B*A (where B < 1)\n",
    "3) Find all nodes that are CA away from the MP stitch point\n",
    "4) Delete those nodes (except the last one and set that as the new stitch point)\n",
    "5) Make the new stitch\n",
    "\n",
    "Ex: When using a new segment\n",
    "orig_sk_func_smoothed = add_and_smooth_segment_to_branch(orig_sk,\n",
    "                       new_seg = np.array([stitch_point_MAP,stitch_point_MP]).reshape(-1,2,3))\n",
    "\"\"\"\n",
    "if len(skeleton) == 0:\n",
    "    raise Exception(\"The skeleton passed to the smoothing function was empty\")\n",
    "\n",
    "orig_sk = skeleton\n",
    "orig_sk_segment_width = np.mean(sk.calculate_skeleton_segment_distances(orig_sk,cumsum=False))\n",
    "\n",
    "if skeleton_stitch_point is None or new_stitch_point is None:\n",
    "    new_seg_reshaped = new_seg.reshape(-1,3)\n",
    "    #try to get the stitch points from the new seg\n",
    "    if ((len(sk.find_branch_skeleton_with_specific_coordinate([orig_sk],new_seg_reshaped[0])) > 0) and\n",
    "        (len(sk.find_branch_skeleton_with_specific_coordinate([orig_sk],new_seg_reshaped[1])) == 0)):\n",
    "        stitch_point_MP = new_seg_reshaped[0]\n",
    "        stitch_point_MAP = new_seg_reshaped[1]\n",
    "    elif ((len(sk.find_branch_skeleton_with_specific_coordinate([orig_sk],new_seg_reshaped[1])) > 0) and\n",
    "        (len(sk.find_branch_skeleton_with_specific_coordinate([orig_sk],new_seg_reshaped[0])) == 0)):\n",
    "        stitch_point_MP = new_seg_reshaped[1]\n",
    "        stitch_point_MAP = new_seg_reshaped[0]\n",
    "    else:\n",
    "        raise Exception(\"Could not find a stitch point that was on the existing skeleton and one that was not\")\n",
    "else:\n",
    "    stitch_point_MAP = new_stitch_point\n",
    "    stitch_point_MP = skeleton_stitch_point\n",
    "\n",
    "#1) Get the distance of the stitch point = A\n",
    "stitch_distance = np.linalg.norm(stitch_point_MAP-stitch_point_MP)\n",
    "if stitch_distance > max_stitch_distance_for_smoothing:\n",
    "    print(f\"Using max stitch distance ({max_stitch_distance_for_smoothing}) for smoothing because stitch_distance greater ({stitch_distance}) \")\n",
    "    stitch_distance = max_stitch_distance_for_smoothing\n",
    "\n",
    "\n",
    "\n",
    "#2) Resize the skeleton to B*A (where B < 1)\n",
    "\n",
    "orig_sk_resized = sk.resize_skeleton_branch(orig_sk,segment_width = resize_mult*stitch_distance)\n",
    "\n",
    "#3) Find all nodes that are CA away from the MP stitch point\n",
    "orig_resized_graph = sk.convert_skeleton_to_graph(orig_sk_resized)\n",
    "MP_stitch_node = xu.get_nodes_with_attributes_dict(orig_resized_graph,dict(coordinates=stitch_point_MP))\n",
    "a\n",
    "if len(MP_stitch_node) == 1:\n",
    "    MP_stitch_node = MP_stitch_node[0]\n",
    "else:\n",
    "    raise Exception(f\"MP_stitch_node not len = 1: len = {len(MP_stitch_node)}\")\n",
    "\n",
    "nodes_within_dist = gu.dict_to_array(xu.find_nodes_within_certain_distance_of_target_node(orig_resized_graph,\n",
    "                                                     target_node=MP_stitch_node,\n",
    "                                                    cutoff_distance=n_resized_cutoff*stitch_distance,\n",
    "                                                                        return_dict=True))\n",
    "farthest_node_idx = np.argmax(nodes_within_dist[:,1])\n",
    "farthest_node = nodes_within_dist[:,0][farthest_node_idx]\n",
    "new_stitch_point_MP = xu.get_node_attributes(orig_resized_graph,node_list=farthest_node)[0]\n",
    "\n",
    "#need to consider if the farthest node is an endpoint\n",
    "farthest_node_degree = xu.get_node_degree(orig_resized_graph,farthest_node)\n",
    "\n",
    "keep_branch = None\n",
    "if farthest_node_degree > 1:#then don't have to worry about having reached branch end\n",
    "    cut_branches = sk.cut_skeleton_at_coordinate(orig_sk,cut_coordinate=new_stitch_point_MP)\n",
    "    #find which branch had the original cut point\n",
    "    branch_to_keep_idx = 1 - sk.find_branch_skeleton_with_specific_coordinate(cut_branches,stitch_point_MP)[0]\n",
    "    keep_branch = cut_branches[branch_to_keep_idx]\n",
    "else:\n",
    "    keep_branch = np.array([])\n",
    "\n",
    "# nodes_to_delete = np.delete(nodes_within_dist[:,0],farthest_node_idx)\n",
    "new_seg = np.array([[new_stitch_point_MP],[stitch_point_MAP]]).reshape(-1,2,3)\n",
    "final_sk = sk.stack_skeletons([new_seg,keep_branch]) \n",
    "final_sk=sk.convert_graph_to_skeleton(sk.convert_skeleton_to_graph(final_sk))\n",
    "\n",
    "\n",
    "\n",
    "if smooth_branch_at_end:\n",
    "    #resize the skeleton\n",
    "    coordinates_to_keep=None\n",
    "    #skeleton_reshaped = sk.resize_skeleton_branch(final_sk,segment_width=smooth_width)\n",
    "    skeleton_reshaped = final_sk\n",
    "\n",
    "    if len(keep_branch)>0:\n",
    "        if n_resized_cutoff_to_smooth is None:\n",
    "            n_resized_cutoff_to_smooth = n_resized_cutoff + 2\n",
    "\n",
    "        \"\"\"\n",
    "        Pseudocode for smoothing only a certain portion:\n",
    "        1) Convert the branch to a graph\n",
    "        2) Find the node with the MP stitch point\n",
    "        3) Find all nodes within n_resized_cutoff_to_smooth*stitch_distance\n",
    "        4) Get all nodes not in that list\n",
    "        5) Get all the coordinates of those nodes\n",
    "        \"\"\"\n",
    "        #1) Convert the branch to a graph\n",
    "        sk_gr = convert_skeleton_to_graph(skeleton_reshaped)\n",
    "        #2) Find the node with the MP stitch point\n",
    "        MP_stitch_node = xu.get_graph_node_by_coordinate(sk_gr,new_stitch_point_MP)\n",
    "        MAP_stitch_node = xu.get_graph_node_by_coordinate(sk_gr,stitch_point_MAP)\n",
    "\n",
    "        #3) Find all nodes within n_resized_cutoff_to_smooth*stitch_distance\n",
    "        distance_to_smooth = n_resized_cutoff_to_smooth*stitch_distance\n",
    "        nodes_to_smooth_pre = xu.find_nodes_within_certain_distance_of_target_node(sk_gr,target_node=MP_stitch_node,\n",
    "                                                            cutoff_distance=distance_to_smooth)\n",
    "\n",
    "        #need to add in nodes to endpoint in case the distance_to_smooth doesn't exend there\n",
    "        nodes_to_MAP = nx.shortest_path(sk_gr,MP_stitch_node,MAP_stitch_node)\n",
    "\n",
    "        nodes_to_smooth = np.unique(list(nodes_to_smooth_pre) + list(nodes_to_MAP))\n",
    "        #print(f\"nodes_to_smooth = {nodes_to_smooth}\")\n",
    "\n",
    "        #4) Get all nodes not in that list\n",
    "        nodes_to_not_smooth = np.setdiff1d(list(sk_gr.nodes()),list(nodes_to_smooth))\n",
    "        #print(f\"nodes_to_smooth = {nodes_to_not_smooth}\")\n",
    "\n",
    "        #5) Get all the coordinates of those nodes\n",
    "        coordinates_to_keep = xu.get_node_attributes(sk_gr,node_list=nodes_to_not_smooth)\n",
    "\n",
    "\n",
    "    final_sk = smooth_skeleton_branch(skeleton_reshaped,coordinates_to_keep=coordinates_to_keep)\n",
    "\n",
    "# #need to resize the final_sk\n",
    "# final_sk = sk.resize_skeleton_branch(final_sk,segment_width=orig_sk_segment_width)"
   ]
  },
  {
   "cell_type": "code",
   "execution_count": null,
   "metadata": {},
   "outputs": [],
   "source": [
    "final_sk"
   ]
  },
  {
   "cell_type": "code",
   "execution_count": null,
   "metadata": {},
   "outputs": [],
   "source": []
  },
  {
   "cell_type": "code",
   "execution_count": null,
   "metadata": {},
   "outputs": [],
   "source": []
  },
  {
   "cell_type": "code",
   "execution_count": null,
   "metadata": {},
   "outputs": [],
   "source": [
    "new_MP_skeleton = sk.add_and_smooth_segment_to_branch(skeleton=sk.convert_graph_to_skeleton(MP_stitch_branch_graph),\n",
    "                                skeleton_stitch_point=keep_neighbor_coordinates,\n",
    "                                 new_stitch_point=winning_vertex)"
   ]
  },
  {
   "cell_type": "markdown",
   "metadata": {},
   "source": [
    "# Debugging the branch with more than 2 endpoints"
   ]
  },
  {
   "cell_type": "code",
   "execution_count": null,
   "metadata": {},
   "outputs": [],
   "source": [
    "import system_utils as su\n",
    "import networkx_utils as xu\n",
    "import skeleton_utils as sk\n",
    "import time\n",
    "import networkx as nx"
   ]
  },
  {
   "cell_type": "code",
   "execution_count": null,
   "metadata": {},
   "outputs": [],
   "source": [
    "MP_stitch_branch_graph = su.decompress_pickle(\"MP_stitch_branch_graph\")\n",
    "keep_neighbor_coordinates = su.decompress_pickle(\"keep_neighbor_coordinates\")\n",
    "MAP_stitch_point = su.decompress_pickle(\"MAP_stitch_point\")\n",
    "\n",
    "limb_correspondence_MAP = su.decompress_pickle(\"limb_correspondence_MAP.pbz2\")\n",
    "limb_correspondence_MP = su.decompress_pickle(\"limb_correspondence_MP.pbz2\")\n"
   ]
  },
  {
   "cell_type": "code",
   "execution_count": null,
   "metadata": {},
   "outputs": [],
   "source": [
    "nx.draw(MP_stitch_branch_graph)"
   ]
  },
  {
   "cell_type": "code",
   "execution_count": null,
   "metadata": {},
   "outputs": [],
   "source": [
    "st_time = time.time()\n",
    "sk.check_correspondence_branches_have_2_endpoints(limb_correspondence_MP[1])\n",
    "print(f\"Total time = {time.time() - st_time}\")"
   ]
  },
  {
   "cell_type": "code",
   "execution_count": null,
   "metadata": {},
   "outputs": [],
   "source": [
    "st_time = time.time()\n",
    "sk.check_correspondence_branches_have_2_endpoints(limb_correspondence_MP[2])\n",
    "print(f\"Total time = {time.time() - st_time}\")"
   ]
  },
  {
   "cell_type": "code",
   "execution_count": null,
   "metadata": {},
   "outputs": [],
   "source": [
    "nviz.plot_objects(skeletons=[sk.convert_graph_to_skeleton(MP_stitch_branch_graph),new_MP_skeleton],\n",
    "                 skeletons_colors=\"random\")"
   ]
  },
  {
   "cell_type": "code",
   "execution_count": null,
   "metadata": {},
   "outputs": [],
   "source": [
    "sk.convert_graph_to_skeleton(MP_stitch_branch_graph),"
   ]
  },
  {
   "cell_type": "code",
   "execution_count": null,
   "metadata": {
    "scrolled": true
   },
   "outputs": [],
   "source": [
    "sk.calculate_skeleton_distance(sk.convert_graph_to_skeleton(MP_stitch_branch_graph)),sk.calculate_skeleton_distance(new_MP_skeleton)"
   ]
  },
  {
   "cell_type": "code",
   "execution_count": null,
   "metadata": {},
   "outputs": [],
   "source": [
    "nviz.plot_objects(skeletons=[sk.convert_graph_to_skeleton(MP_stitch_branch_graph),new_MP_skeleton],\n",
    "                  skeletons_colors=[\"black\",\"red\"],\n",
    "                  scatters=[MAP_stitch_point.reshape(-1,3)])"
   ]
  },
  {
   "cell_type": "code",
   "execution_count": null,
   "metadata": {},
   "outputs": [],
   "source": [
    "orig_sk_resized = sk.resize_skeleton_branch(orig_sk,segment_width = resize_mult*stitch_distance)"
   ]
  },
  {
   "cell_type": "code",
   "execution_count": null,
   "metadata": {},
   "outputs": [],
   "source": [
    "skeleton_graph = sk.convert_skeleton_to_graph(curr_branch_skeleton)\n",
    "    skeleton_node_coordinates = get_ordered_branch_nodes_coordinates(skeleton_graph)"
   ]
  },
  {
   "cell_type": "code",
   "execution_count": null,
   "metadata": {},
   "outputs": [],
   "source": [
    "new_MP_skeleton = sk.add_and_smooth_segment_to_branch(skeleton=sk.convert_graph_to_skeleton(MP_stitch_branch_graph),\n",
    "                                                            skeleton_stitch_point=keep_neighbor_coordinates,\n",
    "                                                             new_stitch_point=MAP_stitch_point)"
   ]
  },
  {
   "cell_type": "code",
   "execution_count": null,
   "metadata": {},
   "outputs": [],
   "source": [
    "xu.get_nodes_of_degree_k(MP_stitch_branch_graph,1)"
   ]
  },
  {
   "cell_type": "code",
   "execution_count": null,
   "metadata": {},
   "outputs": [],
   "source": [
    "nviz.visualize_neuron(recovered_neuron,\n",
    "                     visualize_type=[\"mesh\",\"skeleton\"],\n",
    "                     limb_branch_dict=\"all\")"
   ]
  },
  {
   "cell_type": "code",
   "execution_count": null,
   "metadata": {},
   "outputs": [],
   "source": [
    "cu = reload(cu)\n",
    "cu.resolve_empty_conflicting_face_labels(mesh,face_lookup)"
   ]
  },
  {
   "cell_type": "code",
   "execution_count": null,
   "metadata": {},
   "outputs": [],
   "source": [
    "from compartment_utils import *\n",
    "curr_limb_mesh=mesh\n",
    "face_lookup\n",
    "no_missing_labels = []\n",
    "max_submesh_threshold=50000\n",
    "max_color_filling_iterations=5\n",
    "debug=False\n",
    "must_keep_labels=dict() # dictionary mapping labels to the faces they must label at the start,\n",
    "connectivity=\"vertices\"\n",
    "branch_skeletons=None\n",
    "\n",
    "\n",
    "\"\"\"\n",
    "Input: \n",
    "- full mesh\n",
    "- current face coloring of mesh (could be incomplete) corresponding to skeletal pieces\n",
    "(but doesn't need the skeletal pieces to do it's jobs, those are just represented in the labels)\n",
    "\n",
    "Output: \n",
    "- better face coloring which has labels that:\n",
    "    a. cover entire mesh\n",
    "    b. the labels exist as only 1 connected component on the mesh\n",
    "\n",
    "\n",
    "\n",
    "Pseudocode of what doing:\n",
    "- clearing out the branch_mesh correspondence stored in limb_correspondence[limb_idx][k][\"branch_mesh\"]\n",
    "- gets a list of how many subdivided branches there were (becuase this should be the number of labels) and the mesh of whole limb\n",
    "- Builds a face to skeleeton branch correspondence bassed on the current  branch_piece[\"correspondence_face_idx\"] that already exists\n",
    "    This may have overlaps or faces mapped to zero branches that we need to resolve\n",
    "- computes the percentage of empty and conflicting faces \n",
    "- makes sure that at least one face that corresponds to each branch piece (and throws error if so)\n",
    "\n",
    "#Doing the resolution of the empty and conflicting faces:\n",
    "- clears out all conflicting faces and leaves them just like the empty ones\n",
    "- uses the filter_face_coloring_to_connected_components which only keeps the largest connected component of a label \n",
    "    (because the zeroing out of conflicting labels could have eliminated or split up some of the labels)\n",
    "- if  a face was totally eliminated then add it back to the face coloring\n",
    "(only does this once so a face could still be missing if one face totally overwrites another face)\n",
    "\n",
    "**At this point: there is at one-to-one correspondence of mesh face to skeletal piece label OR empty label (-1)\n",
    "\n",
    "# Using the waterfilling algorithm: designed at fixing the correspondence to empty label (-1) \n",
    "- get a submesh of the original mesh but only for those empty faces and divide into disconnecteed mesh pieces\n",
    "- run through waterfilling algorithm to color each empty piece\n",
    "- check that there are no more empty faces\n",
    "- gets the one connected mesh component that corresponds to that label (get both the actual mesh and the mesh indexes)\n",
    "\n",
    "#the output of all of the algorithm: \n",
    "- save the result back in  limb_correspondence[limb_idx][k][\"branch_mesh\"] so it is accurately updated\n",
    "\n",
    "\n",
    "\"\"\"\n",
    "split_results = tu.split(curr_limb_mesh,only_watertight=False,return_components=False,connectivity=connectivity)\n",
    "if len(split_results) > 1:\n",
    "    su.compressed_pickle(curr_limb_mesh,\"curr_limb_mesh\")\n",
    "    raise Exception(f\"The mesh passed to resolve_empty was not just one connected mesh, split results = {split_results}\")\n",
    "\n",
    "if len(no_missing_labels) == 0:\n",
    "    no_missing_labels = list(set(list(itertools.chain.from_iterable(list(face_lookup.values())))))\n",
    "\n",
    "#get all of the faces that don't have any faces corresponding\n",
    "empty_indices = np.array([k for k,v in face_lookup.items() if len(v) == 0])\n",
    "\n",
    "#get all of the faces that don't have any faces corresponding\n",
    "conflict_indices = np.array([k for k,v in face_lookup.items() if len(v) >= 2])\n",
    "\n",
    "print(f\"empty_indices % = {len(empty_indices)/len(face_lookup.keys())}\\n conflict_indices % = {len(conflict_indices)/len(face_lookup.keys())}\")\n",
    "\n",
    "\n",
    "\n",
    "#doing the face coloring (OLD WAY)\n",
    "##face_coloring = np.array([-1 if len(v) != 1 else v[0] for v in face_lookup.values()])\n",
    "\n",
    "#doing the face coloring (new way if the keys are unordered)\n",
    "face_coloring = np.full(len(curr_limb_mesh.faces),-1)\n",
    "for k,v in face_lookup.items():\n",
    "    if len(v) == 1:\n",
    "        face_coloring[k] = v[0]\n",
    "\n",
    "#adding in the must keep labels\n",
    "for k,v in must_keep_labels.items():\n",
    "    for face_idx in v:\n",
    "        face_coloring[face_idx] = k\n",
    "\n",
    "# -- Need to only take the biggest piece of the non-conflicted mesh and resolve those that were eliminated--\n",
    "missing_labels_history = []\n",
    "for i in range(0,max_color_filling_iterations):\n",
    "\n",
    "    face_coloring = filter_face_coloring_to_connected_components(curr_limb_mesh,face_coloring,connectivity=connectivity)\n",
    "\n",
    "    # ----fixing if there were any missing labels --- **** this still has potential for erroring ****\n",
    "\n",
    "    leftover_labels = np.unique(face_coloring)\n",
    "    missing_labels = set(np.setdiff1d(no_missing_labels.copy(), leftover_labels))\n",
    "\n",
    "    missing_labels_history.append(list(missing_labels))\n",
    "\n",
    "    for curr_label in missing_labels:\n",
    "        labels_idx = [k for k,v in face_lookup.items() if curr_label in v]\n",
    "        face_coloring[labels_idx] = curr_label\n",
    "\n",
    "    #filter the faces again: \n",
    "    face_coloring = filter_face_coloring_to_connected_components(curr_limb_mesh,face_coloring,connectivity=connectivity)\n",
    "\n",
    "    leftover_labels = np.unique(face_coloring)\n",
    "    missing_labels = set(np.setdiff1d(no_missing_labels.copy(), leftover_labels))\n",
    "    missing_labels_history.append(list(missing_labels))\n",
    "\n",
    "    if len(missing_labels) == 0:\n",
    "        break\n",
    "    else:\n",
    "        if i > 0:\n",
    "            print(f\"Doing No Color conflicts iteration {i+1} because missing_labels = {missing_labels} \")\n",
    "\n",
    "if len(missing_labels)>0:\n",
    "    \"\"\"\n",
    "    Will resolve any conflicts when exact patches\n",
    "\n",
    "    Pseudcode: \n",
    "    1) get all the labels that were missing at one time\n",
    "    2) Get all the face numbers belonging to those labels\n",
    "    3) Find if any are completely overlapping\n",
    "\n",
    "    \"\"\"\n",
    "    all_possible_missing = np.unique(np.concatenate(missing_labels_history))\n",
    "    all_possible_missing_faces = dict([(k,[]) for k in all_possible_missing])\n",
    "\n",
    "    for k,v in face_lookup.items():\n",
    "        for mf in all_possible_missing_faces.keys():\n",
    "            if mf in v:\n",
    "                all_possible_missing_faces[mf].append(k)\n",
    "\n",
    "\n",
    "\n",
    "    print(f\"leftover_labels = {leftover_labels}\")\n",
    "    print(f\"no_missing_labels = {no_missing_labels}\")\n",
    "    print(f\"missing_labels = {missing_labels}\")\n",
    "    su.compressed_pickle(curr_limb_mesh,\"curr_limb_mesh\")\n",
    "    su.compressed_pickle(face_lookup,\"face_lookup\")\n",
    "    su.compressed_pickle(no_missing_labels,\"no_missing_labels\")\n",
    "    su.compressed_pickle(max_submesh_threshold,\"max_submesh_threshold\")\n",
    "    raise Exception(\"missing labels was not resolved\")\n",
    "\n",
    "\n",
    "# -----now just divide the groups into seperate components\n",
    "empty_faces = np.where(face_coloring==-1)[0]\n",
    "\n",
    "if connectivity == \"edges\":\n",
    "    mesh_graph = nx.from_edgelist(curr_limb_mesh.face_adjacency) # creating a graph from the faces\n",
    "    empty_submesh = mesh_graph.subgraph(empty_faces) #gets the empty submeshes that are disconnected\n",
    "    empty_connected_components = list(nx.connected_components(empty_submesh))\n",
    "else:\n",
    "    #mesh_graph = tu.mesh_face_graph_by_vertex(curr_limb_mesh)\n",
    "    \"\"\"\n",
    "    Pseudocode:\n",
    "\n",
    "    \"\"\"\n",
    "    empty_face_submesh = curr_limb_mesh.submesh([empty_faces],append=True,repair=False)\n",
    "    if not nu.is_array_like(empty_face_submesh):\n",
    "        meshes,comp_ind = tu.split_by_vertices(empty_face_submesh,return_components=True)\n",
    "        empty_connected_components = [empty_faces[k] for k in comp_ind]\n",
    "    else:\n",
    "        empty_connected_components = []\n",
    "    mesh_graph=None\n",
    "\n",
    "\n",
    "\n",
    "\n",
    "# ---- Functions that will fill in the rest of the mesh correspondence ---- #\n",
    "\n",
    "face_coloring_copy = face_coloring.copy()\n",
    "if debug:\n",
    "    print(\"BEFORE face_lookup_resolved_test\")\n",
    "    su.compressed_pickle(empty_connected_components,\"empty_connected_components\")\n",
    "\n",
    "for comp in tqdm(empty_connected_components):\n",
    "    #print(\"len(mesh_graph) = {len(mesh_graph)}\")\n",
    "\n",
    "    face_coloring_copy = waterfill_labeling(\n",
    "                    #total_mesh_correspondence=face_lookup_resolved_test,\n",
    "                    total_mesh_correspondence=face_coloring_copy,\n",
    "                     submesh_indices=list(comp),\n",
    "                     total_mesh=curr_limb_mesh, #added this in case doing the vertex connectivity\n",
    "                    total_mesh_graph=mesh_graph,\n",
    "                     propagation_type=\"random\",\n",
    "                    max_iterations = 1000,\n",
    "                    max_submesh_threshold = max_submesh_threshold,\n",
    "                    connectivity=connectivity,\n",
    "                    )\n",
    "\n",
    "print(\"AFTER face_lookup_resolved_test\")\n",
    "\n",
    "# -- wheck that the face coloring did not have any empty faces --\n",
    "empty_faces = np.where(face_coloring_copy==-1)[0]\n",
    "if len(empty_faces) > 0:\n",
    "\n",
    "    su.compressed_pickle(curr_limb_mesh,\"curr_limb_mesh\")\n",
    "    su.compressed_pickle(face_lookup,\"face_lookup\")\n",
    "    su.compressed_pickle(no_missing_labels,\"no_missing_labels\")\n",
    "    su.compressed_pickle(max_submesh_threshold,\"max_submesh_threshold\")\n",
    "\n",
    "    raise Exception(f\"empty faces were greater than 0 after waterfilling at: {empty_faces}\")\n",
    "\n",
    "\n",
    "return_value= face_coloring_copy"
   ]
  },
  {
   "cell_type": "code",
   "execution_count": null,
   "metadata": {},
   "outputs": [],
   "source": [
    "nviz.plot_objects(mesh,\n",
    "                 skeletons=curr_branches)"
   ]
  },
  {
   "cell_type": "code",
   "execution_count": null,
   "metadata": {},
   "outputs": [],
   "source": [
    "curr_branches = [v[\"branch_skeleton\"] for v in local_correspondence.values()]\n",
    "local_correspondnece_stitch = pre.mesh_correspondence_first_pass(mesh=mesh,\n",
    "                                          skeleton_branches=curr_branches)"
   ]
  },
  {
   "cell_type": "code",
   "execution_count": null,
   "metadata": {},
   "outputs": [],
   "source": [
    "ex_sk = curr_branches[0]\n",
    "sk_kdtree = KDTree(ex_sk.reshape(-1,3))\n",
    "dist, _ = sk_kdtree.query(mesh.vertices)\n",
    "dist"
   ]
  },
  {
   "cell_type": "code",
   "execution_count": null,
   "metadata": {},
   "outputs": [],
   "source": [
    "cu = reload(cu)\n",
    "returned_data = cu.mesh_correspondence_adaptive_distance(curr_branches[0],\n",
    "                                      mesh,\n",
    "                                     skeleton_segment_width = 1000,\n",
    "                                     distance_by_mesh_center=True,\n",
    "                                    buffer=300,\n",
    "                                     distance_threshold=6000,\n",
    "                                    return_closest_face_on_empty=True,\n",
    "                                        connectivity=\"faces\")\n",
    "\n",
    "returned_data"
   ]
  },
  {
   "cell_type": "code",
   "execution_count": null,
   "metadata": {},
   "outputs": [],
   "source": []
  },
  {
   "cell_type": "code",
   "execution_count": null,
   "metadata": {},
   "outputs": [],
   "source": [
    "import system_utils as su\n",
    "local_correspondence = su.decompress_pickle(\"local_correspondence\")\n",
    "curr_limb_endpoints_must_keep = su.decompress_pickle(\"curr_limb_endpoints_must_keep\")\n",
    "curr_soma_to_piece_touching_vertices = su.decompress_pickle(\"curr_soma_to_piece_touching_vertices\")\n",
    "must_keep_labels = su.decompress_pickle(\"must_keep_labels\")\n",
    "face_lookup = su.decompress_pickle(\"face_lookup\")\n",
    "mesh = su.decompress_pickle(\"mesh\")"
   ]
  },
  {
   "cell_type": "code",
   "execution_count": null,
   "metadata": {},
   "outputs": [],
   "source": [
    "missing_labels_history = [[0,1],[0,1]]\n",
    "\n",
    "all_possible_missing = np.unique(np.concatenate(missing_labels_history))\n",
    "all_possible_missing_faces = dict([(k,[]) for k in all_possible_missing])\n",
    "\n",
    "for k,v in face_lookup.items():\n",
    "    for mf in all_possible_missing_faces.keys():\n",
    "        if mf in v:\n",
    "            all_possible_missing_faces[mf].append(k)"
   ]
  },
  {
   "cell_type": "code",
   "execution_count": null,
   "metadata": {},
   "outputs": [],
   "source": [
    "all_possible_missing_faces"
   ]
  },
  {
   "cell_type": "code",
   "execution_count": null,
   "metadata": {},
   "outputs": [],
   "source": [
    "nu = reload(nu)"
   ]
  },
  {
   "cell_type": "code",
   "execution_count": null,
   "metadata": {},
   "outputs": [],
   "source": [
    "nu.intersecting_array_components([[1,2,3],[1,2],[1,2,3,4]],perfect_match=False)"
   ]
  },
  {
   "cell_type": "code",
   "execution_count": null,
   "metadata": {},
   "outputs": [],
   "source": [
    "curr_branches = [v[\"branch_skeleton\"] for v in local_correspondence.values()]\n",
    "len(curr_branches)"
   ]
  },
  {
   "cell_type": "code",
   "execution_count": null,
   "metadata": {},
   "outputs": [],
   "source": [
    "tu = reload(tu)                                  \n",
    "tu.split_mesh_by_closest_skeleton(mesh=mesh,\n",
    "                                skeletons = curr_branches)"
   ]
  },
  {
   "cell_type": "code",
   "execution_count": null,
   "metadata": {},
   "outputs": [],
   "source": [
    "nviz.plot_objects(mesh,\n",
    "                 skeletons = curr_branches,\n",
    "                 skeletons_colors=\"random\")"
   ]
  },
  {
   "cell_type": "code",
   "execution_count": null,
   "metadata": {},
   "outputs": [],
   "source": []
  }
 ],
 "metadata": {
  "kernelspec": {
   "display_name": "Python 3",
   "language": "python",
   "name": "python3"
  },
  "language_info": {
   "codemirror_mode": {
    "name": "ipython",
    "version": 3
   },
   "file_extension": ".py",
   "mimetype": "text/x-python",
   "name": "python",
   "nbconvert_exporter": "python",
   "pygments_lexer": "ipython3",
   "version": "3.6.9"
  }
 },
 "nbformat": 4,
 "nbformat_minor": 4
}
