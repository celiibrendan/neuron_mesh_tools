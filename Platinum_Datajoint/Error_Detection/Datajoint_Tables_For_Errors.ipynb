{
 "cells": [
  {
   "cell_type": "code",
   "execution_count": 1,
   "metadata": {},
   "outputs": [],
   "source": [
    "from os import sys\n",
    "sys.path.append(\"/meshAfterParty/\")"
   ]
  },
  {
   "cell_type": "code",
   "execution_count": 2,
   "metadata": {},
   "outputs": [
    {
     "name": "stderr",
     "output_type": "stream",
     "text": [
      "INFO - 2020-11-29 02:58:51,139 - settings - Setting database.host to at-database.ad.bcm.edu\n",
      "INFO - 2020-11-29 02:58:51,140 - settings - Setting database.user to celiib\n",
      "INFO - 2020-11-29 02:58:51,141 - settings - Setting database.password to newceliipass\n"
     ]
    }
   ],
   "source": [
    "from importlib import reload\n",
    "\n",
    "import neuron_utils as nru\n",
    "\n",
    "import neuron\n",
    "\n",
    "import neuron_visualizations as nviz\n",
    "\n",
    "import time\n",
    "\n",
    "import datajoint_utils as du"
   ]
  },
  {
   "cell_type": "code",
   "execution_count": 3,
   "metadata": {},
   "outputs": [
    {
     "name": "stderr",
     "output_type": "stream",
     "text": [
      "INFO - 2020-11-29 02:58:51,156 - settings - Setting stores to {'minnie65': {'protocol': 'file', 'location': '/mnt/dj-stor01/platinum/minnie65', 'stage': '/mnt/dj-stor01/platinum/minnie65'}, 'meshes': {'protocol': 'file', 'location': '/mnt/dj-stor01/platinum/minnie65/02/meshes', 'stage': '/mnt/dj-stor01/platinum/minnie65/02/meshes'}, 'decimated_meshes': {'protocol': 'file', 'location': '/mnt/dj-stor01/platinum/minnie65/02/decimated_meshes', 'stage': '/mnt/dj-stor01/platinum/minnie65/02/decimated_meshes'}, 'skeletons': {'protocol': 'file', 'location': '/mnt/dj-stor01/platinum/minnie65/02/skeletons'}}\n",
      "INFO - 2020-11-29 02:58:51,157 - settings - Setting enable_python_native_blobs to True\n",
      "INFO - 2020-11-29 02:58:51,170 - connection - Connected celiib@at-database.ad.bcm.edu:3306\n"
     ]
    },
    {
     "name": "stdout",
     "output_type": "stream",
     "text": [
      "Connecting celiib@at-database.ad.bcm.edu:3306\n"
     ]
    },
    {
     "name": "stderr",
     "output_type": "stream",
     "text": [
      "INFO - 2020-11-29 02:58:51,373 - settings - Setting enable_python_native_blobs to True\n"
     ]
    }
   ],
   "source": [
    "minnie,schema = du.configure_minnie_vm()"
   ]
  },
  {
   "cell_type": "markdown",
   "metadata": {},
   "source": [
    "# Creating the Exclusion Criteria Table"
   ]
  },
  {
   "cell_type": "code",
   "execution_count": 4,
   "metadata": {},
   "outputs": [
    {
     "data": {
      "text/html": [
       "\n",
       "        \n",
       "        <style type=\"text/css\">\n",
       "            .Relation{\n",
       "                border-collapse:collapse;\n",
       "            }\n",
       "            .Relation th{\n",
       "                background: #A0A0A0; color: #ffffff; padding:4px; border:#f0e0e0 1px solid;\n",
       "                font-weight: normal; font-family: monospace; font-size: 100%;\n",
       "            }\n",
       "            .Relation td{\n",
       "                padding:4px; border:#f0e0e0 1px solid; font-size:100%;\n",
       "            }\n",
       "            .Relation tr:nth-child(odd){\n",
       "                background: #ffffff;\n",
       "            }\n",
       "            .Relation tr:nth-child(even){\n",
       "                background: #f3f1ff;\n",
       "            }\n",
       "            /* Tooltip container */\n",
       "            .djtooltip {\n",
       "            }\n",
       "            /* Tooltip text */\n",
       "            .djtooltip .djtooltiptext {\n",
       "                visibility: hidden;\n",
       "                width: 120px;\n",
       "                background-color: black;\n",
       "                color: #fff;\n",
       "                text-align: center;\n",
       "                padding: 5px 0;\n",
       "                border-radius: 6px;\n",
       "                /* Position the tooltip text - see examples below! */\n",
       "                position: absolute;\n",
       "                z-index: 1;\n",
       "            }\n",
       "            #primary {\n",
       "                font-weight: bold;\n",
       "                color: black;\n",
       "            }\n",
       "\n",
       "            #nonprimary {\n",
       "                font-weight: normal;\n",
       "                color: white;\n",
       "            }\n",
       "\n",
       "            /* Show the tooltip text when you mouse over the tooltip container */\n",
       "            .djtooltip:hover .djtooltiptext {\n",
       "                visibility: visible;\n",
       "            }\n",
       "        </style>\n",
       "        \n",
       "        <b>Descriptions of exclusion criterias</b>\n",
       "            <div style=\"max-height:1000px;max-width:1500px;overflow:auto;\">\n",
       "            <table border=\"1\" class=\"Relation\">\n",
       "                <thead> <tr style=\"text-align: right;\"> <th> <div class=\"djtooltip\">\n",
       "                                <p id=\"primary\">criteria_id</p>\n",
       "                                <span class=\"djtooltiptext\">key by which to lookup the exclusion criteria description</span>\n",
       "                            </div></th><th><div class=\"djtooltip\">\n",
       "                                <p id=\"nonprimary\">criteria_desc</p>\n",
       "                                <span class=\"djtooltiptext\">criteria by which this segment was excluded (preferred to add name of excluder as well)</span>\n",
       "                            </div> </th> </tr> </thead>\n",
       "                <tbody> <tr> <td>0</td>\n",
       "<td>Labeling pipeline</td></tr><tr><td>1</td>\n",
       "<td>postsyn label was error in labeling pipeline</td></tr><tr><td>2</td>\n",
       "<td>All error segments</td> </tr> </tbody>\n",
       "            </table>\n",
       "            \n",
       "            <p>Total: 3</p></div>\n",
       "            "
      ],
      "text/plain": [
       "*criteria_id   criteria_desc \n",
       "+------------+ +------------+\n",
       "0              Labeling pipel\n",
       "1              postsyn label \n",
       "2              All error segm\n",
       " (Total: 3)"
      ]
     },
     "execution_count": 4,
     "metadata": {},
     "output_type": "execute_result"
    }
   ],
   "source": [
    "import datajoint as dj\n",
    "pinky = dj.create_virtual_module('pinky', 'microns_pinky')\n",
    "pinky.ExclusionCriteria()"
   ]
  },
  {
   "cell_type": "code",
   "execution_count": null,
   "metadata": {},
   "outputs": [],
   "source": [
    "pinky.ExclusionCriteria.describe()"
   ]
  },
  {
   "cell_type": "code",
   "execution_count": null,
   "metadata": {},
   "outputs": [],
   "source": [
    "@schema\n",
    "class ExclusionCriteria(dj.Manual):\n",
    "    definition=\"\"\"\n",
    "    # Descriptions of exclusion criterias\n",
    "    criteria_id          : int unsigned                 # key by which to lookup the exclusion criteria description\n",
    "    ---\n",
    "    criteria_desc        : varchar(64)                  # criteria by which this segment was excluded (preferred to add name of excluder as well)\n",
    "    \n",
    "    \"\"\""
   ]
  },
  {
   "cell_type": "code",
   "execution_count": null,
   "metadata": {},
   "outputs": [],
   "source": [
    "ExclusionCriteria.insert1(dict(criteria_id=0,criteria_desc=\"Axon Cleaning 11/27\"))"
   ]
  },
  {
   "cell_type": "code",
   "execution_count": null,
   "metadata": {},
   "outputs": [],
   "source": [
    "ExclusionCriteria()"
   ]
  },
  {
   "cell_type": "markdown",
   "metadata": {},
   "source": [
    "# Creating the Synapse Exclude"
   ]
  },
  {
   "cell_type": "code",
   "execution_count": 5,
   "metadata": {},
   "outputs": [
    {
     "name": "stdout",
     "output_type": "stream",
     "text": [
      "-> pinky.Synapse\n",
      "-> pinky.ExclusionCriteria\n",
      "\n"
     ]
    },
    {
     "data": {
      "text/plain": [
       "'-> pinky.Synapse\\n-> pinky.ExclusionCriteria\\n'"
      ]
     },
     "execution_count": 5,
     "metadata": {},
     "output_type": "execute_result"
    }
   ],
   "source": [
    "pinky.SynapseExclude.describe()"
   ]
  },
  {
   "cell_type": "code",
   "execution_count": 7,
   "metadata": {},
   "outputs": [
    {
     "name": "stdout",
     "output_type": "stream",
     "text": [
      "# Segment: a volumetric segmented object\n",
      "segment_id           : bigint unsigned              # segment id unique within each Segmentation\n",
      "\n"
     ]
    },
    {
     "data": {
      "text/plain": [
       "'# Segment: a volumetric segmented object\\nsegment_id           : bigint unsigned              # segment id unique within each Segmentation\\n'"
      ]
     },
     "execution_count": 7,
     "metadata": {},
     "output_type": "execute_result"
    }
   ],
   "source": [
    "minnie.Segment.describe()"
   ]
  },
  {
   "cell_type": "code",
   "execution_count": 14,
   "metadata": {},
   "outputs": [],
   "source": [
    "@schema\n",
    "class SynapseExclude(dj.Manual):\n",
    "    definition=\"\"\"\n",
    "    # Descriptions of exclusion criterias\n",
    "    -> minnie.Synapse\n",
    "    -> minnie.ExclusionCriteria\n",
    "    ---\n",
    "    segment_id           : bigint unsigned              # segment id that caused the synapse to be error\n",
    "    \"\"\""
   ]
  },
  {
   "cell_type": "code",
   "execution_count": 16,
   "metadata": {},
   "outputs": [
    {
     "data": {
      "text/html": [
       "\n",
       "        \n",
       "        <style type=\"text/css\">\n",
       "            .Relation{\n",
       "                border-collapse:collapse;\n",
       "            }\n",
       "            .Relation th{\n",
       "                background: #A0A0A0; color: #ffffff; padding:4px; border:#f0e0e0 1px solid;\n",
       "                font-weight: normal; font-family: monospace; font-size: 100%;\n",
       "            }\n",
       "            .Relation td{\n",
       "                padding:4px; border:#f0e0e0 1px solid; font-size:100%;\n",
       "            }\n",
       "            .Relation tr:nth-child(odd){\n",
       "                background: #ffffff;\n",
       "            }\n",
       "            .Relation tr:nth-child(even){\n",
       "                background: #f3f1ff;\n",
       "            }\n",
       "            /* Tooltip container */\n",
       "            .djtooltip {\n",
       "            }\n",
       "            /* Tooltip text */\n",
       "            .djtooltip .djtooltiptext {\n",
       "                visibility: hidden;\n",
       "                width: 120px;\n",
       "                background-color: black;\n",
       "                color: #fff;\n",
       "                text-align: center;\n",
       "                padding: 5px 0;\n",
       "                border-radius: 6px;\n",
       "                /* Position the tooltip text - see examples below! */\n",
       "                position: absolute;\n",
       "                z-index: 1;\n",
       "            }\n",
       "            #primary {\n",
       "                font-weight: bold;\n",
       "                color: black;\n",
       "            }\n",
       "\n",
       "            #nonprimary {\n",
       "                font-weight: normal;\n",
       "                color: white;\n",
       "            }\n",
       "\n",
       "            /* Show the tooltip text when you mouse over the tooltip container */\n",
       "            .djtooltip:hover .djtooltiptext {\n",
       "                visibility: visible;\n",
       "            }\n",
       "        </style>\n",
       "        \n",
       "        <b>Descriptions of exclusion criterias</b>\n",
       "            <div style=\"max-height:1000px;max-width:1500px;overflow:auto;\">\n",
       "            <table border=\"1\" class=\"Relation\">\n",
       "                <thead> <tr style=\"text-align: right;\"> <th> <div class=\"djtooltip\">\n",
       "                                <p id=\"primary\">synapse_id</p>\n",
       "                                <span class=\"djtooltiptext\">synapse index within the segmentation</span>\n",
       "                            </div></th><th><div class=\"djtooltip\">\n",
       "                                <p id=\"primary\">timestamp</p>\n",
       "                                <span class=\"djtooltiptext\"></span>\n",
       "                            </div></th><th><div class=\"djtooltip\">\n",
       "                                <p id=\"primary\">criteria_id</p>\n",
       "                                <span class=\"djtooltiptext\">key by which to lookup the exclusion criteria description</span>\n",
       "                            </div></th><th><div class=\"djtooltip\">\n",
       "                                <p id=\"nonprimary\">segment_id</p>\n",
       "                                <span class=\"djtooltiptext\">segment id that caused the synapse to be error</span>\n",
       "                            </div> </th> </tr> </thead>\n",
       "                <tbody> <tr>  </tr> </tbody>\n",
       "            </table>\n",
       "            \n",
       "            <p>Total: 0</p></div>\n",
       "            "
      ],
      "text/plain": [
       "*synapse_id    *timestamp    *criteria_id   segment_id    \n",
       "+------------+ +-----------+ +------------+ +------------+\n",
       "\n",
       " (Total: 0)"
      ]
     },
     "execution_count": 16,
     "metadata": {},
     "output_type": "execute_result"
    }
   ],
   "source": [
    "SynapseExclude()#.drop()"
   ]
  },
  {
   "cell_type": "markdown",
   "metadata": {},
   "source": [
    "# The labels table that will store all of the error labels"
   ]
  },
  {
   "cell_type": "code",
   "execution_count": null,
   "metadata": {},
   "outputs": [],
   "source": [
    "pinky.CompartmentFinal.describe()"
   ]
  },
  {
   "cell_type": "code",
   "execution_count": null,
   "metadata": {},
   "outputs": [],
   "source": [
    "minnie.Decomposition()"
   ]
  },
  {
   "cell_type": "code",
   "execution_count": null,
   "metadata": {},
   "outputs": [],
   "source": [
    "pinky.ProofreadLabel.describe()"
   ]
  },
  {
   "cell_type": "code",
   "execution_count": 26,
   "metadata": {},
   "outputs": [],
   "source": [
    "@schema\n",
    "class AutoProofreadLabels(dj.Computed):\n",
    "    definition=\"\"\"\n",
    "    -> minnie.Decomposition\n",
    "    ---\n",
    "    n_face_errors : int #the number of faces that were errored out\n",
    "    face_idx_for_error : longblob #the face indices for the errors computed\n",
    "    n_synapses: smallint unsigned #total number of synpases\n",
    "    n_errored_synapses: smallint unsigned #the number of synapses\n",
    "    \"\"\"\n",
    "    "
   ]
  },
  {
   "cell_type": "code",
   "execution_count": 29,
   "metadata": {},
   "outputs": [
    {
     "data": {
      "text/html": [
       "\n",
       "        \n",
       "        <style type=\"text/css\">\n",
       "            .Relation{\n",
       "                border-collapse:collapse;\n",
       "            }\n",
       "            .Relation th{\n",
       "                background: #A0A0A0; color: #ffffff; padding:4px; border:#f0e0e0 1px solid;\n",
       "                font-weight: normal; font-family: monospace; font-size: 100%;\n",
       "            }\n",
       "            .Relation td{\n",
       "                padding:4px; border:#f0e0e0 1px solid; font-size:100%;\n",
       "            }\n",
       "            .Relation tr:nth-child(odd){\n",
       "                background: #ffffff;\n",
       "            }\n",
       "            .Relation tr:nth-child(even){\n",
       "                background: #f3f1ff;\n",
       "            }\n",
       "            /* Tooltip container */\n",
       "            .djtooltip {\n",
       "            }\n",
       "            /* Tooltip text */\n",
       "            .djtooltip .djtooltiptext {\n",
       "                visibility: hidden;\n",
       "                width: 120px;\n",
       "                background-color: black;\n",
       "                color: #fff;\n",
       "                text-align: center;\n",
       "                padding: 5px 0;\n",
       "                border-radius: 6px;\n",
       "                /* Position the tooltip text - see examples below! */\n",
       "                position: absolute;\n",
       "                z-index: 1;\n",
       "            }\n",
       "            #primary {\n",
       "                font-weight: bold;\n",
       "                color: black;\n",
       "            }\n",
       "\n",
       "            #nonprimary {\n",
       "                font-weight: normal;\n",
       "                color: white;\n",
       "            }\n",
       "\n",
       "            /* Show the tooltip text when you mouse over the tooltip container */\n",
       "            .djtooltip:hover .djtooltiptext {\n",
       "                visibility: visible;\n",
       "            }\n",
       "        </style>\n",
       "        \n",
       "        <b></b>\n",
       "            <div style=\"max-height:1000px;max-width:1500px;overflow:auto;\">\n",
       "            <table border=\"1\" class=\"Relation\">\n",
       "                <thead> <tr style=\"text-align: right;\"> <th> <div class=\"djtooltip\">\n",
       "                                <p id=\"primary\">segment_id</p>\n",
       "                                <span class=\"djtooltiptext\">segment id unique within each Segmentation</span>\n",
       "                            </div></th><th><div class=\"djtooltip\">\n",
       "                                <p id=\"primary\">decimation_version</p>\n",
       "                                <span class=\"djtooltiptext\"></span>\n",
       "                            </div></th><th><div class=\"djtooltip\">\n",
       "                                <p id=\"primary\">decimation_ratio</p>\n",
       "                                <span class=\"djtooltiptext\">ratio of remaining mesh vertices/faces (which ones depends on what metric the decimation technique uses)</span>\n",
       "                            </div></th><th><div class=\"djtooltip\">\n",
       "                                <p id=\"nonprimary\">n_face_errors</p>\n",
       "                                <span class=\"djtooltiptext\">the number of faces that were errored out</span>\n",
       "                            </div></th><th><div class=\"djtooltip\">\n",
       "                                <p id=\"nonprimary\">face_idx_for_error</p>\n",
       "                                <span class=\"djtooltiptext\">the face indices for the errors computed</span>\n",
       "                            </div></th><th><div class=\"djtooltip\">\n",
       "                                <p id=\"nonprimary\">n_synapses</p>\n",
       "                                <span class=\"djtooltiptext\">total number of synpases</span>\n",
       "                            </div></th><th><div class=\"djtooltip\">\n",
       "                                <p id=\"nonprimary\">n_errored_synapses</p>\n",
       "                                <span class=\"djtooltiptext\">the number of synapses</span>\n",
       "                            </div> </th> </tr> </thead>\n",
       "                <tbody> <tr> <td>864691134884741370</td>\n",
       "<td>0</td>\n",
       "<td>0.25</td>\n",
       "<td>208443</td>\n",
       "<td>=BLOB=</td>\n",
       "<td>469</td>\n",
       "<td>207</td></tr><tr><td>864691134884742138</td>\n",
       "<td>0</td>\n",
       "<td>0.25</td>\n",
       "<td>13216</td>\n",
       "<td>=BLOB=</td>\n",
       "<td>214</td>\n",
       "<td>19</td></tr><tr><td>864691134884742906</td>\n",
       "<td>0</td>\n",
       "<td>0.25</td>\n",
       "<td>325377</td>\n",
       "<td>=BLOB=</td>\n",
       "<td>477</td>\n",
       "<td>181</td></tr><tr><td>864691134884743418</td>\n",
       "<td>0</td>\n",
       "<td>0.25</td>\n",
       "<td>81085</td>\n",
       "<td>=BLOB=</td>\n",
       "<td>227</td>\n",
       "<td>59</td></tr><tr><td>864691134884743930</td>\n",
       "<td>0</td>\n",
       "<td>0.25</td>\n",
       "<td>119620</td>\n",
       "<td>=BLOB=</td>\n",
       "<td>303</td>\n",
       "<td>68</td> </tr> </tbody>\n",
       "            </table>\n",
       "            \n",
       "            <p>Total: 5</p></div>\n",
       "            "
      ],
      "text/plain": [
       "*segment_id    *decimation_ve *decimation_ra n_face_errors  face_idx_f n_synapses     n_errored_syna\n",
       "+------------+ +------------+ +------------+ +------------+ +--------+ +------------+ +------------+\n",
       "86469113488474 0              0.25           208443         =BLOB=     469            207           \n",
       "86469113488474 0              0.25           13216          =BLOB=     214            19            \n",
       "86469113488474 0              0.25           325377         =BLOB=     477            181           \n",
       "86469113488474 0              0.25           81085          =BLOB=     227            59            \n",
       "86469113488474 0              0.25           119620         =BLOB=     303            68            \n",
       " (Total: 5)"
      ]
     },
     "execution_count": 29,
     "metadata": {},
     "output_type": "execute_result"
    }
   ],
   "source": [
    "AutoProofreadLabels()"
   ]
  },
  {
   "cell_type": "code",
   "execution_count": 19,
   "metadata": {},
   "outputs": [
    {
     "data": {
      "text/html": [
       "\n",
       "        \n",
       "        <style type=\"text/css\">\n",
       "            .Relation{\n",
       "                border-collapse:collapse;\n",
       "            }\n",
       "            .Relation th{\n",
       "                background: #A0A0A0; color: #ffffff; padding:4px; border:#f0e0e0 1px solid;\n",
       "                font-weight: normal; font-family: monospace; font-size: 100%;\n",
       "            }\n",
       "            .Relation td{\n",
       "                padding:4px; border:#f0e0e0 1px solid; font-size:100%;\n",
       "            }\n",
       "            .Relation tr:nth-child(odd){\n",
       "                background: #ffffff;\n",
       "            }\n",
       "            .Relation tr:nth-child(even){\n",
       "                background: #f3f1ff;\n",
       "            }\n",
       "            /* Tooltip container */\n",
       "            .djtooltip {\n",
       "            }\n",
       "            /* Tooltip text */\n",
       "            .djtooltip .djtooltiptext {\n",
       "                visibility: hidden;\n",
       "                width: 120px;\n",
       "                background-color: black;\n",
       "                color: #fff;\n",
       "                text-align: center;\n",
       "                padding: 5px 0;\n",
       "                border-radius: 6px;\n",
       "                /* Position the tooltip text - see examples below! */\n",
       "                position: absolute;\n",
       "                z-index: 1;\n",
       "            }\n",
       "            #primary {\n",
       "                font-weight: bold;\n",
       "                color: black;\n",
       "            }\n",
       "\n",
       "            #nonprimary {\n",
       "                font-weight: normal;\n",
       "                color: white;\n",
       "            }\n",
       "\n",
       "            /* Show the tooltip text when you mouse over the tooltip container */\n",
       "            .djtooltip:hover .djtooltiptext {\n",
       "                visibility: visible;\n",
       "            }\n",
       "        </style>\n",
       "        \n",
       "        <b></b>\n",
       "            <div style=\"max-height:1000px;max-width:1500px;overflow:auto;\">\n",
       "            <table border=\"1\" class=\"Relation\">\n",
       "                <thead> <tr style=\"text-align: right;\"> <th> <div class=\"djtooltip\">\n",
       "                                <p id=\"primary\">segment_id</p>\n",
       "                                <span class=\"djtooltiptext\">segment id unique within each Segmentation</span>\n",
       "                            </div></th><th><div class=\"djtooltip\">\n",
       "                                <p id=\"primary\">decimation_version</p>\n",
       "                                <span class=\"djtooltiptext\"></span>\n",
       "                            </div></th><th><div class=\"djtooltip\">\n",
       "                                <p id=\"primary\">decimation_ratio</p>\n",
       "                                <span class=\"djtooltiptext\">ratio of remaining mesh vertices/faces (which ones depends on what metric the decimation technique uses)</span>\n",
       "                            </div></th><th><div class=\"djtooltip\">\n",
       "                                <p id=\"nonprimary\">n_face_errors</p>\n",
       "                                <span class=\"djtooltiptext\">the number of faces that were errored out</span>\n",
       "                            </div></th><th><div class=\"djtooltip\">\n",
       "                                <p id=\"nonprimary\">face_idx_for_error</p>\n",
       "                                <span class=\"djtooltiptext\">the face indices for the errors computed</span>\n",
       "                            </div> </th> </tr> </thead>\n",
       "                <tbody> <tr> <td>864691134884740858</td>\n",
       "<td>0</td>\n",
       "<td>0.25</td>\n",
       "<td>159052</td>\n",
       "<td>=BLOB=</td></tr><tr><td>864691134884741114</td>\n",
       "<td>0</td>\n",
       "<td>0.25</td>\n",
       "<td>40238</td>\n",
       "<td>=BLOB=</td></tr><tr><td>864691134884741370</td>\n",
       "<td>0</td>\n",
       "<td>0.25</td>\n",
       "<td>208443</td>\n",
       "<td>=BLOB=</td></tr><tr><td>864691134884743418</td>\n",
       "<td>0</td>\n",
       "<td>0.25</td>\n",
       "<td>81085</td>\n",
       "<td>=BLOB=</td></tr><tr><td>864691134884743930</td>\n",
       "<td>0</td>\n",
       "<td>0.25</td>\n",
       "<td>119620</td>\n",
       "<td>=BLOB=</td></tr><tr><td>864691134884744186</td>\n",
       "<td>0</td>\n",
       "<td>0.25</td>\n",
       "<td>139734</td>\n",
       "<td>=BLOB=</td></tr><tr><td>864691134884744442</td>\n",
       "<td>0</td>\n",
       "<td>0.25</td>\n",
       "<td>3345139</td>\n",
       "<td>=BLOB=</td></tr><tr><td>864691134884745210</td>\n",
       "<td>0</td>\n",
       "<td>0.25</td>\n",
       "<td>25349</td>\n",
       "<td>=BLOB=</td></tr><tr><td>864691134884747002</td>\n",
       "<td>0</td>\n",
       "<td>0.25</td>\n",
       "<td>102810</td>\n",
       "<td>=BLOB=</td></tr><tr><td>864691134884748026</td>\n",
       "<td>0</td>\n",
       "<td>0.25</td>\n",
       "<td>88201</td>\n",
       "<td>=BLOB=</td></tr><tr><td>864691134884748282</td>\n",
       "<td>0</td>\n",
       "<td>0.25</td>\n",
       "<td>112670</td>\n",
       "<td>=BLOB=</td></tr><tr><td>864691134884749050</td>\n",
       "<td>0</td>\n",
       "<td>0.25</td>\n",
       "<td>426708</td>\n",
       "<td>=BLOB=</td> </tr> </tbody>\n",
       "            </table>\n",
       "            <p>...</p>\n",
       "            <p>Total: 18945</p></div>\n",
       "            "
      ],
      "text/plain": [
       "*segment_id    *decimation_ve *decimation_ra n_face_errors  face_idx_f\n",
       "+------------+ +------------+ +------------+ +------------+ +--------+\n",
       "86469113488474 0              0.25           159052         =BLOB=    \n",
       "86469113488474 0              0.25           40238          =BLOB=    \n",
       "86469113488474 0              0.25           208443         =BLOB=    \n",
       "86469113488474 0              0.25           81085          =BLOB=    \n",
       "86469113488474 0              0.25           119620         =BLOB=    \n",
       "86469113488474 0              0.25           139734         =BLOB=    \n",
       "86469113488474 0              0.25           3345139        =BLOB=    \n",
       "86469113488474 0              0.25           25349          =BLOB=    \n",
       "86469113488474 0              0.25           102810         =BLOB=    \n",
       "86469113488474 0              0.25           88201          =BLOB=    \n",
       "86469113488474 0              0.25           112670         =BLOB=    \n",
       "86469113488474 0              0.25           426708         =BLOB=    \n",
       "   ...\n",
       " (Total: 18945)"
      ]
     },
     "execution_count": 19,
     "metadata": {},
     "output_type": "execute_result"
    }
   ],
   "source": [
    "minnie.DecompositionErrorLabels()"
   ]
  },
  {
   "cell_type": "code",
   "execution_count": 23,
   "metadata": {},
   "outputs": [
    {
     "name": "stdout",
     "output_type": "stream",
     "text": [
      "using quick fetch\n"
     ]
    }
   ],
   "source": [
    "segment_id = 864691134884749050\n"
   ]
  },
  {
   "cell_type": "code",
   "execution_count": 24,
   "metadata": {},
   "outputs": [
    {
     "data": {
      "text/plain": [
       "array([  1469,   1470,   1471, ..., 570146, 570147, 570148])"
      ]
     },
     "execution_count": 24,
     "metadata": {},
     "output_type": "execute_result"
    }
   ],
   "source": [
    "returned_error_faces"
   ]
  },
  {
   "cell_type": "code",
   "execution_count": null,
   "metadata": {},
   "outputs": [],
   "source": []
  }
 ],
 "metadata": {
  "kernelspec": {
   "display_name": "Python 3",
   "language": "python",
   "name": "python3"
  },
  "language_info": {
   "codemirror_mode": {
    "name": "ipython",
    "version": 3
   },
   "file_extension": ".py",
   "mimetype": "text/x-python",
   "name": "python",
   "nbconvert_exporter": "python",
   "pygments_lexer": "ipython3",
   "version": "3.6.9"
  }
 },
 "nbformat": 4,
 "nbformat_minor": 4
}
