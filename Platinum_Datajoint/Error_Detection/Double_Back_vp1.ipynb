{
 "cells": [
  {
   "cell_type": "code",
   "execution_count": 1,
   "metadata": {},
   "outputs": [
    {
     "data": {
      "text/plain": [
       "'\\nPurpose: To experiment predicting the angle between 2 vectors in 3D\\nto use for proofreading to tell if skeletons double back on themselves\\n\\n'"
      ]
     },
     "execution_count": 1,
     "metadata": {},
     "output_type": "execute_result"
    }
   ],
   "source": [
    "\"\"\"\n",
    "Purpose: To experiment predicting the angle between 2 vectors in 3D\n",
    "to use for proofreading to tell if skeletons double back on themselves\n",
    "\n",
    "\"\"\""
   ]
  },
  {
   "cell_type": "code",
   "execution_count": 21,
   "metadata": {},
   "outputs": [],
   "source": [
    "from os import sys\n",
    "sys.path.append(\"/meshAfterParty/\")"
   ]
  },
  {
   "cell_type": "code",
   "execution_count": 22,
   "metadata": {},
   "outputs": [
    {
     "name": "stderr",
     "output_type": "stream",
     "text": [
      "INFO - 2020-11-27 02:10:48,852 - settings - Setting database.host to at-database.ad.bcm.edu\n",
      "INFO - 2020-11-27 02:10:48,853 - settings - Setting database.user to celiib\n",
      "INFO - 2020-11-27 02:10:48,854 - settings - Setting database.password to newceliipass\n"
     ]
    }
   ],
   "source": [
    "from importlib import reload\n",
    "\n",
    "import neuron_utils as nru\n",
    "\n",
    "import neuron\n",
    "\n",
    "import neuron_visualizations as nviz\n",
    "\n",
    "import time\n",
    "\n",
    "import datajoint_utils as du"
   ]
  },
  {
   "cell_type": "markdown",
   "metadata": {},
   "source": [
    "# Importing the neuron to test"
   ]
  },
  {
   "cell_type": "code",
   "execution_count": 23,
   "metadata": {},
   "outputs": [
    {
     "name": "stderr",
     "output_type": "stream",
     "text": [
      "INFO - 2020-11-27 02:10:57,905 - settings - Setting stores to {'minnie65': {'protocol': 'file', 'location': '/mnt/dj-stor01/platinum/minnie65', 'stage': '/mnt/dj-stor01/platinum/minnie65'}, 'meshes': {'protocol': 'file', 'location': '/mnt/dj-stor01/platinum/minnie65/02/meshes', 'stage': '/mnt/dj-stor01/platinum/minnie65/02/meshes'}, 'decimated_meshes': {'protocol': 'file', 'location': '/mnt/dj-stor01/platinum/minnie65/02/decimated_meshes', 'stage': '/mnt/dj-stor01/platinum/minnie65/02/decimated_meshes'}, 'skeletons': {'protocol': 'file', 'location': '/mnt/dj-stor01/platinum/minnie65/02/skeletons'}}\n",
      "INFO - 2020-11-27 02:10:57,907 - settings - Setting enable_python_native_blobs to True\n",
      "INFO - 2020-11-27 02:10:57,920 - connection - Connected celiib@at-database.ad.bcm.edu:3306\n",
      "INFO - 2020-11-27 02:10:58,081 - settings - Setting enable_python_native_blobs to True\n"
     ]
    },
    {
     "name": "stdout",
     "output_type": "stream",
     "text": [
      "Connecting celiib@at-database.ad.bcm.edu:3306\n"
     ]
    }
   ],
   "source": [
    "import neuron_visualizations as nviz\n",
    "curr_seg_id = 864691134884742394\n",
    "minnie,schema = du.configure_minnaie_vm()"
   ]
  },
  {
   "cell_type": "code",
   "execution_count": 24,
   "metadata": {},
   "outputs": [
    {
     "name": "stderr",
     "output_type": "stream",
     "text": [
      "INFO - 2020-11-27 02:11:18,749 - settings - Setting enable_python_native_blobs to True\n",
      "INFO - 2020-11-27 02:11:18,911 - settings - Setting enable_python_native_blobs to True\n"
     ]
    },
    {
     "name": "stdout",
     "output_type": "stream",
     "text": [
      "Decompressing Neuron in minimal output mode...please wait\n"
     ]
    }
   ],
   "source": [
    "neuron_obj = (minnie.Decomposition() & dict(segment_id=curr_seg_id)).fetch1(\"decomposition\")"
   ]
  },
  {
   "cell_type": "code",
   "execution_count": 25,
   "metadata": {},
   "outputs": [
    {
     "name": "stdout",
     "output_type": "stream",
     "text": [
      "\n",
      " Working on visualization type: mesh\n",
      "\n",
      " Working on visualization type: skeleton\n",
      "Working on  new stand alone scatter points\n"
     ]
    },
    {
     "data": {
      "application/vnd.jupyter.widget-view+json": {
       "model_id": "6cb5d93f1d1b432e87b52d30969519eb",
       "version_major": 2,
       "version_minor": 0
      },
      "text/plain": [
       "VBox(children=(Figure(camera=PerspectiveCamera(fov=46.0, position=(0.0, 0.0, 2.0), quaternion=(0.0, 0.0, 0.0, …"
      ]
     },
     "metadata": {},
     "output_type": "display_data"
    }
   ],
   "source": [
    "ret_col = nviz.visualize_neuron(neuron_obj,\n",
    "                     visualize_type=[\"mesh\",\"skeleton\"],\n",
    "                     limb_branch_dict=dict(L0=\"all\"),\n",
    "                     return_color_dict=True)"
   ]
  },
  {
   "cell_type": "markdown",
   "metadata": {},
   "source": [
    "# Algorithm that will get all of the edges that do not pass the doubling back threshold "
   ]
  },
  {
   "cell_type": "code",
   "execution_count": 32,
   "metadata": {},
   "outputs": [],
   "source": [
    "import skeleton_utils as sk\n",
    "import numpy_utils as nu\n",
    "import copy\n",
    "from tqdm_utils import tqdm"
   ]
  },
  {
   "cell_type": "code",
   "execution_count": 56,
   "metadata": {},
   "outputs": [
    {
     "name": "stdout",
     "output_type": "stream",
     "text": [
      "Working on Soma 0 and Soma touching group 0\n",
      "Working on soma group 0\n"
     ]
    },
    {
     "data": {
      "application/vnd.jupyter.widget-view+json": {
       "model_id": "69101b5e9f954ae685bcfcefc8402cb4",
       "version_major": 2,
       "version_minor": 0
      },
      "text/plain": [
       "HBox(children=(FloatProgress(value=0.0, max=89.0), HTML(value='')))"
      ]
     },
     "metadata": {},
     "output_type": "display_data"
    },
    {
     "name": "stdout",
     "output_type": "stream",
     "text": [
      "  Edge: (2, 1)\n",
      "  Edge: (2, 3)\n",
      "  Edge: (1, 22)\n",
      "  Edge: (1, 26)\n",
      "  Edge: (3, 0)\n",
      "  Edge: (3, 89)\n",
      "  Edge: (22, 21)\n",
      "  Edge: (22, 67)\n",
      "  Edge: (0, 83)\n",
      "  Edge: (0, 86)\n",
      "  Edge: (89, 87)\n",
      "  Edge: (89, 88)\n",
      "  Edge: (21, 20)\n",
      "  Edge: (21, 42)\n",
      "  Edge: (86, 81)\n",
      "  Edge: (86, 85)\n",
      "  Edge: (20, 19)\n",
      "  Edge: (20, 40)\n",
      "  Edge: (42, 41)\n",
      "  Edge: (42, 46)\n",
      "  Edge: (85, 82)\n",
      "  Edge: (85, 84)\n",
      "  Edge: (19, 18)\n",
      "  Edge: (19, 72)\n",
      "  Edge: (40, 39)\n",
      "  Edge: (40, 45)\n",
      "  Edge: (40, 49)\n",
      "  Edge: (18, 17)\n",
      "  Edge: (18, 29)\n",
      "  Edge: (39, 38)\n",
      "  Edge: (39, 77)\n",
      "  Edge: (39, 80)\n",
      "  Edge: (17, 16)\n",
      "  Edge: (17, 61)\n",
      "  Edge: (29, 28)\n",
      "  Edge: (29, 37)\n",
      "  Edge: (16, 15)\n",
      "  Edge: (16, 52)\n",
      "  Edge: (28, 27)\n",
      "  Edge: (28, 58)\n",
      "  Edge: (37, 36)\n",
      "  Edge: (37, 60)\n",
      "  Edge: (15, 14)\n",
      "  Edge: (15, 44)\n",
      "  Edge: (14, 13)\n",
      "  Edge: (14, 25)\n",
      "  Edge: (44, 43)\n",
      "  Edge: (44, 50)\n",
      "  Edge: (13, 12)\n",
      "  Edge: (13, 62)\n",
      "  Edge: (25, 24)\n",
      "  Edge: (25, 55)\n",
      "  Edge: (12, 11)\n",
      "  Edge: (12, 66)\n",
      "  Edge: (24, 23)\n",
      "  Edge: (24, 32)\n",
      "  Edge: (55, 54)\n",
      "  Edge: (55, 68)\n",
      "  Edge: (11, 10)\n",
      "  Edge: (11, 70)\n",
      "  Edge: (66, 65)\n",
      "  Edge: (66, 79)\n",
      "  Edge: (32, 31)\n",
      "  Edge: (32, 33)\n",
      "  Edge: (54, 53)\n",
      "  Edge: (54, 63)\n",
      "  Edge: (10, 9)\n",
      "  Edge: (10, 57)\n",
      "  Edge: (70, 69)\n",
      "  Edge: (70, 71)\n",
      "  Edge: (31, 30)\n",
      "  Edge: (31, 35)\n",
      "  Edge: (9, 8)\n",
      "  Edge: (9, 78)\n",
      "  Edge: (57, 56)\n",
      "  Edge: (57, 74)\n",
      "  Edge: (35, 34)\n",
      "  Edge: (35, 48)\n",
      "  Edge: (35, 64)\n",
      "  Edge: (8, 7)\n",
      "  Edge: (8, 73)\n",
      "  Edge: (48, 47)\n",
      "  Edge: (48, 75)\n",
      "  Edge: (7, 6)\n",
      "  Edge: (7, 59)\n",
      "  Edge: (6, 5)\n",
      "  Edge: (6, 76)\n",
      "  Edge: (5, 4)\n",
      "  Edge: (5, 51)\n",
      "\n",
      "Working on Soma 0 and Soma touching group 1\n",
      "Working on soma group 1\n"
     ]
    },
    {
     "data": {
      "application/vnd.jupyter.widget-view+json": {
       "model_id": "d76c439149224c9b96e70db71d81b6cc",
       "version_major": 2,
       "version_minor": 0
      },
      "text/plain": [
       "HBox(children=(FloatProgress(value=0.0, max=89.0), HTML(value='')))"
      ]
     },
     "metadata": {},
     "output_type": "display_data"
    },
    {
     "name": "stdout",
     "output_type": "stream",
     "text": [
      "  Edge: (2, 3)\n",
      "  Edge: (1, 2)\n",
      "  Edge: (1, 26)\n",
      "  Edge: (3, 0)\n",
      "  Edge: (3, 89)\n",
      "  Edge: (22, 1)\n",
      "  Edge: (22, 67)\n",
      "  Edge: (0, 83)\n",
      "  Edge: (0, 86)\n",
      "  Edge: (89, 87)\n",
      "  Edge: (89, 88)\n",
      "  Edge: (21, 22)\n",
      "  Edge: (21, 42)\n",
      "  Edge: (86, 81)\n",
      "  Edge: (86, 85)\n",
      "  Edge: (20, 21)\n",
      "  Edge: (20, 40)\n",
      "  Edge: (42, 41)\n",
      "  Edge: (42, 46)\n",
      "  Edge: (85, 82)\n",
      "  Edge: (85, 84)\n",
      "  Edge: (19, 20)\n",
      "  Edge: (19, 72)\n",
      "  Edge: (40, 39)\n",
      "  Edge: (40, 45)\n",
      "  Edge: (40, 49)\n",
      "  Edge: (18, 19)\n",
      "  Edge: (18, 29)\n",
      "  Edge: (39, 38)\n",
      "  Edge: (39, 77)\n",
      "  Edge: (39, 80)\n",
      "  Edge: (17, 18)\n",
      "  Edge: (17, 61)\n",
      "  Edge: (29, 28)\n",
      "  Edge: (29, 37)\n",
      "  Edge: (16, 17)\n",
      "  Edge: (16, 52)\n",
      "  Edge: (28, 27)\n",
      "  Edge: (28, 58)\n",
      "  Edge: (37, 36)\n",
      "  Edge: (37, 60)\n",
      "  Edge: (15, 16)\n",
      "  Edge: (15, 44)\n",
      "  Edge: (14, 15)\n",
      "  Edge: (14, 25)\n",
      "  Edge: (44, 43)\n",
      "  Edge: (44, 50)\n",
      "  Edge: (13, 14)\n",
      "  Edge: (13, 12)\n",
      "  Edge: (25, 24)\n",
      "  Edge: (25, 55)\n",
      "  Edge: (12, 11)\n",
      "  Edge: (12, 66)\n",
      "  Edge: (62, 13)\n",
      "  Edge: (24, 23)\n",
      "  Edge: (24, 32)\n",
      "  Edge: (55, 54)\n",
      "  Edge: (55, 68)\n",
      "  Edge: (11, 10)\n",
      "  Edge: (11, 70)\n",
      "  Edge: (66, 65)\n",
      "  Edge: (66, 79)\n",
      "  Edge: (32, 31)\n",
      "  Edge: (32, 33)\n",
      "  Edge: (54, 53)\n",
      "  Edge: (54, 63)\n",
      "  Edge: (10, 9)\n",
      "  Edge: (10, 57)\n",
      "  Edge: (70, 69)\n",
      "  Edge: (70, 71)\n",
      "  Edge: (31, 30)\n",
      "  Edge: (31, 35)\n",
      "  Edge: (9, 8)\n",
      "  Edge: (9, 78)\n",
      "  Edge: (57, 56)\n",
      "  Edge: (57, 74)\n",
      "  Edge: (35, 34)\n",
      "  Edge: (35, 48)\n",
      "  Edge: (35, 64)\n",
      "  Edge: (8, 7)\n",
      "  Edge: (8, 73)\n",
      "  Edge: (48, 47)\n",
      "  Edge: (48, 75)\n",
      "  Edge: (7, 6)\n",
      "  Edge: (7, 59)\n",
      "  Edge: (6, 5)\n",
      "  Edge: (6, 76)\n",
      "  Edge: (5, 4)\n",
      "  Edge: (5, 51)\n",
      "\n",
      "Total time for width = 16.5482017993927\n"
     ]
    },
    {
     "data": {
      "text/plain": [
       "{0: {0: [[89, 88],\n",
       "   [18, 29],\n",
       "   [39, 38],\n",
       "   [17, 61],\n",
       "   [29, 28],\n",
       "   [28, 27],\n",
       "   [55, 68],\n",
       "   [35, 34],\n",
       "   [8, 73],\n",
       "   [48, 75]],\n",
       "  1: [[89, 88],\n",
       "   [20, 21],\n",
       "   [18, 29],\n",
       "   [39, 38],\n",
       "   [17, 61],\n",
       "   [29, 28],\n",
       "   [28, 27],\n",
       "   [55, 68],\n",
       "   [35, 34],\n",
       "   [8, 73],\n",
       "   [48, 75]]}}"
      ]
     },
     "execution_count": 56,
     "metadata": {},
     "output_type": "execute_result"
    }
   ],
   "source": [
    "\n",
    "import error_detection as ed  \n",
    "ed = reload(ed)\n",
    "\n",
    "error_edges = ed.double_back_edges(limb=neuron_obj[0],\n",
    "    double_back_threshold = 100,\n",
    "                  comparison_distance=3000,\n",
    "    verbose = True)\n",
    "        \n",
    "\n",
    "\n"
   ]
  },
  {
   "cell_type": "code",
   "execution_count": 58,
   "metadata": {},
   "outputs": [
    {
     "ename": "AttributeError",
     "evalue": "'Limb' object has no attribute 'node_names'",
     "output_type": "error",
     "traceback": [
      "\u001b[0;31m---------------------------------------------------------------------------\u001b[0m",
      "\u001b[0;31mAttributeError\u001b[0m                            Traceback (most recent call last)",
      "\u001b[0;32m<ipython-input-58-4ca37240d3c7>\u001b[0m in \u001b[0;36m<module>\u001b[0;34m\u001b[0m\n\u001b[0;32m----> 1\u001b[0;31m \u001b[0mcurr_limb\u001b[0m\u001b[0;34m.\u001b[0m\u001b[0mnode_names\u001b[0m\u001b[0;34m(\u001b[0m\u001b[0;34m)\u001b[0m\u001b[0;34m\u001b[0m\u001b[0;34m\u001b[0m\u001b[0m\n\u001b[0m",
      "\u001b[0;31mAttributeError\u001b[0m: 'Limb' object has no attribute 'node_names'"
     ]
    }
   ],
   "source": [
    "curr_limb.node_names()"
   ]
  },
  {
   "cell_type": "markdown",
   "metadata": {},
   "source": [
    "# Visualizing the Results of the Run"
   ]
  },
  {
   "cell_type": "code",
   "execution_count": 35,
   "metadata": {},
   "outputs": [],
   "source": [
    "nru = reload(nru)\n",
    "nviz = reload(nviz)"
   ]
  },
  {
   "cell_type": "code",
   "execution_count": 46,
   "metadata": {},
   "outputs": [
    {
     "data": {
      "text/plain": [
       "{0: [[18, 29],\n",
       "  [39, 38],\n",
       "  [17, 61],\n",
       "  [29, 28],\n",
       "  [28, 27],\n",
       "  [55, 68],\n",
       "  [35, 34],\n",
       "  [8, 73],\n",
       "  [48, 75]],\n",
       " 1: [[2, 3],\n",
       "  [21, 42],\n",
       "  [20, 21],\n",
       "  [18, 29],\n",
       "  [39, 38],\n",
       "  [17, 61],\n",
       "  [29, 28],\n",
       "  [28, 27],\n",
       "  [15, 44],\n",
       "  [55, 68],\n",
       "  [35, 34],\n",
       "  [8, 73],\n",
       "  [48, 75]]}"
      ]
     },
     "execution_count": 46,
     "metadata": {},
     "output_type": "execute_result"
    }
   ],
   "source": [
    "error_edges[0]"
   ]
  },
  {
   "cell_type": "code",
   "execution_count": 52,
   "metadata": {},
   "outputs": [],
   "source": [
    "nviz = reload(nviz)"
   ]
  },
  {
   "cell_type": "code",
   "execution_count": 59,
   "metadata": {},
   "outputs": [
    {
     "name": "stdout",
     "output_type": "stream",
     "text": [
      "\n",
      " Working on visualization type: mesh\n",
      "\n",
      " Working on visualization type: skeleton\n",
      "\n",
      " Working on visualization type: network\n",
      "Working on  new stand alone scatter points\n"
     ]
    },
    {
     "data": {
      "application/vnd.jupyter.widget-view+json": {
       "model_id": "183e022ad0f24a38965935a78a918135",
       "version_major": 2,
       "version_minor": 0
      },
      "text/plain": [
       "VBox(children=(Figure(camera=PerspectiveCamera(fov=46.0, position=(0.0, 0.0, 2.0), quaternion=(0.0, 0.0, 0.0, …"
      ]
     },
     "metadata": {},
     "output_type": "display_data"
    }
   ],
   "source": [
    "#curr_errors = np.array(error_edges[0])[:,0]\n",
    "curr_soma_idx = 0\n",
    "curr_group_idx = 1\n",
    "curr_errors = np.array(error_edges[curr_soma_idx][curr_group_idx]).ravel() #visualizing culprit and causing\n",
    "\n",
    "highlight_color = [1,0,0,1]\n",
    "nviz.visualize_neuron(neuron_obj,\n",
    "                      visualize_type=[\"mesh\",\"skeleton\",\"network\"],\n",
    "                     limb_branch_dict=dict(L0=\"all\"),\n",
    "                      mesh_color={\"L0\":dict([(k,highlight_color) for k in curr_errors])},\n",
    "                      #mesh_color = \"green\",\n",
    "                      mesh_fill_color=\"green\",\n",
    "                      skeleton_color=\"green\",\n",
    "                      skeleton_fill_color=\"green\",\n",
    "                      \n",
    "                      \n",
    "                     )"
   ]
  },
  {
   "cell_type": "code",
   "execution_count": null,
   "metadata": {},
   "outputs": [],
   "source": []
  }
 ],
 "metadata": {
  "kernelspec": {
   "display_name": "Python 3",
   "language": "python",
   "name": "python3"
  },
  "language_info": {
   "codemirror_mode": {
    "name": "ipython",
    "version": 3
   },
   "file_extension": ".py",
   "mimetype": "text/x-python",
   "name": "python",
   "nbconvert_exporter": "python",
   "pygments_lexer": "ipython3",
   "version": "3.6.9"
  }
 },
 "nbformat": 4,
 "nbformat_minor": 4
}
