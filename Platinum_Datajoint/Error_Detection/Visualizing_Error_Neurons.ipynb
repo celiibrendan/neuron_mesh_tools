{
 "cells": [
  {
   "cell_type": "code",
   "execution_count": 1,
   "metadata": {},
   "outputs": [],
   "source": [
    "from os import sys\n",
    "sys.path.append(\"/meshAfterParty/\")"
   ]
  },
  {
   "cell_type": "code",
   "execution_count": 2,
   "metadata": {},
   "outputs": [
    {
     "name": "stderr",
     "output_type": "stream",
     "text": [
      "INFO - 2020-11-30 00:25:31,849 - settings - Setting database.host to at-database.ad.bcm.edu\n",
      "INFO - 2020-11-30 00:25:31,850 - settings - Setting database.user to celiib\n",
      "INFO - 2020-11-30 00:25:31,851 - settings - Setting database.password to newceliipass\n",
      "INFO - 2020-11-30 00:25:31,855 - settings - Setting stores to {'minnie65': {'protocol': 'file', 'location': '/mnt/dj-stor01/platinum/minnie65', 'stage': '/mnt/dj-stor01/platinum/minnie65'}, 'meshes': {'protocol': 'file', 'location': '/mnt/dj-stor01/platinum/minnie65/02/meshes', 'stage': '/mnt/dj-stor01/platinum/minnie65/02/meshes'}, 'decimated_meshes': {'protocol': 'file', 'location': '/mnt/dj-stor01/platinum/minnie65/02/decimated_meshes', 'stage': '/mnt/dj-stor01/platinum/minnie65/02/decimated_meshes'}, 'skeletons': {'protocol': 'file', 'location': '/mnt/dj-stor01/platinum/minnie65/02/skeletons'}}\n",
      "INFO - 2020-11-30 00:25:31,856 - settings - Setting enable_python_native_blobs to True\n",
      "INFO - 2020-11-30 00:25:31,867 - connection - Connected celiib@at-database.ad.bcm.edu:3306\n"
     ]
    },
    {
     "name": "stdout",
     "output_type": "stream",
     "text": [
      "Connecting celiib@at-database.ad.bcm.edu:3306\n"
     ]
    },
    {
     "name": "stderr",
     "output_type": "stream",
     "text": [
      "INFO - 2020-11-30 00:25:32,059 - settings - Setting enable_python_native_blobs to True\n"
     ]
    }
   ],
   "source": [
    "from importlib import reload\n",
    "\n",
    "import neuron_utils as nru\n",
    "\n",
    "import neuron\n",
    "\n",
    "import neuron_visualizations as nviz\n",
    "\n",
    "import time\n",
    "\n",
    "import datajoint_utils as du"
   ]
  },
  {
   "cell_type": "code",
   "execution_count": 3,
   "metadata": {},
   "outputs": [
    {
     "name": "stderr",
     "output_type": "stream",
     "text": [
      "INFO - 2020-11-30 00:25:32,078 - settings - Setting enable_python_native_blobs to True\n",
      "INFO - 2020-11-30 00:25:32,269 - settings - Setting enable_python_native_blobs to True\n"
     ]
    }
   ],
   "source": [
    "minnie,schema = du.configure_minnie_vm()"
   ]
  },
  {
   "cell_type": "code",
   "execution_count": null,
   "metadata": {},
   "outputs": [],
   "source": [
    "minnie.AutoProofreadLabels() & \"n_errored_synapses<100\""
   ]
  },
  {
   "cell_type": "markdown",
   "metadata": {},
   "source": [
    "# Function that will visualize neuron with errored synapses"
   ]
  },
  {
   "cell_type": "code",
   "execution_count": null,
   "metadata": {},
   "outputs": [],
   "source": [
    "\"\"\"\n",
    "with certain segment id\n",
    "1) Pull down the mesh\n",
    "2) PUll down the synapse data and the error faces\n",
    "2b) Get the submesh of the errored faces\n",
    "3) Plot the mesh and the errored faces submesh\n",
    "\"\"\"\n",
    "\n",
    "segment_id = 864691134884744442 #inhibitory one\n",
    "segment_id = 864691134884743930 #a false positive (axon thinking was error)\n",
    "segment_id = 864691134884748026 #good example of caught errors with a little false positives\n",
    "segment_id = 864691134884745210 # good example of small error detection\n",
    "\n",
    "#1) Pull down the mesh\n",
    "current_mesh = du.fetch_segment_id_mesh(segment_id,minnie=minnie)\n",
    "\n",
    "#2) PUll down the synapse data and the error faces\n",
    "n_synapses,n_errored_synapses,errored_faces = (minnie.AutoProofreadLabels() &\n",
    "                                               dict(segment_id=segment_id)).fetch1(\"n_synapses\",\"n_errored_synapses\",\"face_idx_for_error\")"
   ]
  },
  {
   "cell_type": "code",
   "execution_count": null,
   "metadata": {},
   "outputs": [],
   "source": [
    "import neuron_visualizations as nviz\n",
    "nviz.plot_objects(current_mesh)"
   ]
  },
  {
   "cell_type": "code",
   "execution_count": null,
   "metadata": {},
   "outputs": [],
   "source": [
    "error_submesh = current_mesh.submesh([errored_faces],append=True)\n",
    "nviz.plot_objects(main_mesh=current_mesh,\n",
    "                 main_mesh_color=[0,1,0,0.2],\n",
    "                 meshes=error_submesh,\n",
    "                  meshes_colors=\"red\",\n",
    "                 mesh_alpha=1,\n",
    "                 #html_path=\"inhibitory_neuron_errored.html\",\n",
    "                 show_at_end=True)"
   ]
  },
  {
   "cell_type": "code",
   "execution_count": null,
   "metadata": {},
   "outputs": [],
   "source": [
    "neuron_obj = (minnie.Decomposition() & dict(segment_id=errored_faces)).fetch1(\"decomposition\")"
   ]
  },
  {
   "cell_type": "code",
   "execution_count": null,
   "metadata": {},
   "outputs": [],
   "source": [
    "import error_detection as ed"
   ]
  },
  {
   "cell_type": "code",
   "execution_count": null,
   "metadata": {},
   "outputs": [],
   "source": [
    "ed.error_faces_by_axons(neuron_obj,verbose=True,\n",
    "                       non_ais_angle_threshold=60)"
   ]
  },
  {
   "cell_type": "code",
   "execution_count": null,
   "metadata": {},
   "outputs": [],
   "source": [
    "new_error_submeshes"
   ]
  },
  {
   "cell_type": "markdown",
   "metadata": {},
   "source": [
    "# Visualizing the Actual Synapses that are Errored"
   ]
  },
  {
   "cell_type": "code",
   "execution_count": null,
   "metadata": {},
   "outputs": [],
   "source": [
    "current_mesh"
   ]
  },
  {
   "cell_type": "code",
   "execution_count": null,
   "metadata": {},
   "outputs": [],
   "source": [
    "segment_id"
   ]
  },
  {
   "cell_type": "code",
   "execution_count": null,
   "metadata": {},
   "outputs": [],
   "source": [
    "import error_detection as ed\n",
    "ed = reload(ed)\n",
    "err_synapses,non_err_synapses = ed.get_error_synapse_inserts(current_mesh,segment_id,\n",
    "                                                             errored_faces,return_synapse_centroids=True)"
   ]
  },
  {
   "cell_type": "code",
   "execution_count": null,
   "metadata": {},
   "outputs": [],
   "source": [
    "import trimesh_utils as tu"
   ]
  },
  {
   "cell_type": "code",
   "execution_count": null,
   "metadata": {},
   "outputs": [],
   "source": [
    "valid_mesh = tu.subtract_mesh(current_mesh,error_submesh)"
   ]
  },
  {
   "cell_type": "code",
   "execution_count": null,
   "metadata": {},
   "outputs": [],
   "source": [
    "nviz.plot_objects(main_mesh=valid_mesh,\n",
    "                  meshes=[error_submesh],\n",
    "                  meshes_colors=[\"red\"],\n",
    "                scatters=[err_synapses,non_err_synapses],\n",
    "                 scatters_colors=[\"red\",\"yellow\"])"
   ]
  },
  {
   "cell_type": "markdown",
   "metadata": {},
   "source": [
    "# Making suscint function that will plot the cell and the errored synapses"
   ]
  },
  {
   "cell_type": "code",
   "execution_count": 13,
   "metadata": {},
   "outputs": [],
   "source": [
    "du = reload(du)"
   ]
  },
  {
   "cell_type": "code",
   "execution_count": 15,
   "metadata": {},
   "outputs": [
    {
     "data": {
      "application/vnd.jupyter.widget-view+json": {
       "model_id": "56cc3db2bbae41f68399d565de5f0932",
       "version_major": 2,
       "version_minor": 0
      },
      "text/plain": [
       "VBox(children=(Figure(camera=PerspectiveCamera(fov=46.0, position=(0.0, 0.0, 2.0), quaternion=(0.0, 0.0, 0.0, …"
      ]
     },
     "metadata": {},
     "output_type": "display_data"
    }
   ],
   "source": [
    "du.plot_errored_faces(segment_id=864691134884745210,\n",
    "                       plot_synapses=False,\n",
    "                       current_mesh=None,\n",
    "                       neuron_obj=None,\n",
    "                       valid_synapse_color = \"yellow\",\n",
    "                       error_color = \"red\")"
   ]
  },
  {
   "cell_type": "code",
   "execution_count": null,
   "metadata": {},
   "outputs": [],
   "source": []
  }
 ],
 "metadata": {
  "kernelspec": {
   "display_name": "Python 3",
   "language": "python",
   "name": "python3"
  },
  "language_info": {
   "codemirror_mode": {
    "name": "ipython",
    "version": 3
   },
   "file_extension": ".py",
   "mimetype": "text/x-python",
   "name": "python",
   "nbconvert_exporter": "python",
   "pygments_lexer": "ipython3",
   "version": "3.6.9"
  }
 },
 "nbformat": 4,
 "nbformat_minor": 4
}
