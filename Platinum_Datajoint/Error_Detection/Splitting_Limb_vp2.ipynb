{
 "cells": [
  {
   "cell_type": "code",
   "execution_count": null,
   "metadata": {},
   "outputs": [],
   "source": [
    "\"\"\"\n",
    "To cleanly write the limb split method \n",
    "once you have the graph where you want to split it\n",
    "\n",
    "\"\"\""
   ]
  },
  {
   "cell_type": "code",
   "execution_count": 1,
   "metadata": {},
   "outputs": [],
   "source": [
    "from os import sys\n",
    "sys.path.append(\"/meshAfterParty/\")"
   ]
  },
  {
   "cell_type": "code",
   "execution_count": 2,
   "metadata": {},
   "outputs": [
    {
     "name": "stderr",
     "output_type": "stream",
     "text": [
      "INFO - 2020-11-27 09:05:58,102 - settings - Setting database.host to at-database.ad.bcm.edu\n",
      "INFO - 2020-11-27 09:05:58,104 - settings - Setting database.user to celiib\n",
      "INFO - 2020-11-27 09:05:58,105 - settings - Setting database.password to newceliipass\n",
      "INFO - 2020-11-27 09:05:58,109 - settings - Setting database.host to at-database.ad.bcm.edu\n",
      "INFO - 2020-11-27 09:05:58,110 - settings - Setting database.user to celiib\n",
      "INFO - 2020-11-27 09:05:58,111 - settings - Setting database.password to newceliipass\n"
     ]
    }
   ],
   "source": [
    "from importlib import reload\n",
    "\n",
    "import neuron_utils as nru\n",
    "\n",
    "import neuron\n",
    "\n",
    "import neuron_visualizations as nviz\n",
    "\n",
    "import time\n",
    "\n",
    "import datajoint_utils as du\n",
    "du = reload(du)"
   ]
  },
  {
   "cell_type": "code",
   "execution_count": 3,
   "metadata": {},
   "outputs": [
    {
     "name": "stderr",
     "output_type": "stream",
     "text": [
      "INFO - 2020-11-27 09:06:01,126 - settings - Setting stores to {'minnie65': {'protocol': 'file', 'location': '/mnt/dj-stor01/platinum/minnie65', 'stage': '/mnt/dj-stor01/platinum/minnie65'}, 'meshes': {'protocol': 'file', 'location': '/mnt/dj-stor01/platinum/minnie65/02/meshes', 'stage': '/mnt/dj-stor01/platinum/minnie65/02/meshes'}, 'decimated_meshes': {'protocol': 'file', 'location': '/mnt/dj-stor01/platinum/minnie65/02/decimated_meshes', 'stage': '/mnt/dj-stor01/platinum/minnie65/02/decimated_meshes'}, 'skeletons': {'protocol': 'file', 'location': '/mnt/dj-stor01/platinum/minnie65/02/skeletons'}}\n",
      "INFO - 2020-11-27 09:06:01,127 - settings - Setting enable_python_native_blobs to True\n",
      "INFO - 2020-11-27 09:06:01,140 - connection - Connected celiib@at-database.ad.bcm.edu:3306\n",
      "INFO - 2020-11-27 09:06:01,327 - settings - Setting enable_python_native_blobs to True\n"
     ]
    },
    {
     "name": "stdout",
     "output_type": "stream",
     "text": [
      "Connecting celiib@at-database.ad.bcm.edu:3306\n"
     ]
    }
   ],
   "source": [
    "import neuron_visualizations as nviz\n",
    "curr_seg_id = 864691134884742394\n",
    "minnie,schema = du.configure_minnie_vm()"
   ]
  },
  {
   "cell_type": "code",
   "execution_count": 5,
   "metadata": {},
   "outputs": [
    {
     "name": "stdout",
     "output_type": "stream",
     "text": [
      "\n",
      " Working on visualization type: mesh\n",
      "\n",
      " Working on visualization type: skeleton\n",
      "Working on  new stand alone scatter points\n"
     ]
    },
    {
     "data": {
      "application/vnd.jupyter.widget-view+json": {
       "model_id": "f7d186ebddbd46e2a507d6c4200f775f",
       "version_major": 2,
       "version_minor": 0
      },
      "text/plain": [
       "VBox(children=(Figure(camera=PerspectiveCamera(fov=46.0, position=(0.0, 0.0, 2.0), quaternion=(0.0, 0.0, 0.0, …"
      ]
     },
     "metadata": {},
     "output_type": "display_data"
    }
   ],
   "source": [
    "neuron_obj = (minnie.Decomposition() & dict(segment_id=curr_seg_id)).fetch1(\"decomposition\")\n",
    "ret_col = nviz.visualize_neuron(neuron_obj,\n",
    "                     visualize_type=[\"mesh\",\"skeleton\"],\n",
    "                     limb_branch_dict=dict(L0=\"all\"),\n",
    "                     return_color_dict=True)"
   ]
  },
  {
   "cell_type": "markdown",
   "metadata": {},
   "source": [
    "# Getting to the seperate graphs"
   ]
  },
  {
   "cell_type": "code",
   "execution_count": 12,
   "metadata": {},
   "outputs": [
    {
     "name": "stdout",
     "output_type": "stream",
     "text": [
      "---- working on disconnecting 2 and 62\n",
      " Cut iteration 0\n",
      "Shortest path = [2, 1, 22, 21, 20, 19, 18, 17, 16, 15, 14, 13, 62]\n",
      "in remove edge\n",
      " Cut iteration 1\n",
      "No valid path so just skipping \n",
      "Total number of graphs at the end of the split = 2\n"
     ]
    }
   ],
   "source": [
    "\"\"\"\n",
    "Find path to cut:\n",
    "1) Get the concept network\n",
    "2) Get all of the starting nodes for somas\n",
    "3) Get the shortest path between each combination of starting nodes\n",
    "\n",
    "\"\"\"\n",
    "def get_best_cut_edge(curr_limb_graph,cut_path):\n",
    "    return [18,17]\n",
    "\n",
    "\n",
    "import itertools\n",
    "import networkx as nx\n",
    "import copy\n",
    "\n",
    "verbose = True\n",
    "\n",
    "curr_limb_idx = 0\n",
    "curr_limb = neuron_obj[curr_limb_idx]\n",
    "curr_limb_graph = copy.deepcopy(curr_limb.concept_network)\n",
    "\n",
    "#2) Get all of the starting nodes for somas\n",
    "all_starting_nodes = [k[\"starting_node\"] for k in curr_limb.all_concept_network_data]\n",
    "\n",
    "starting_node_combinations = list(itertools.combinations(all_starting_nodes,2))\n",
    "\n",
    "for st_n_1,st_n_2 in starting_node_combinations:\n",
    "    # need to keep cutting until no path for them\n",
    "    if verbose:\n",
    "        print(f\"---- working on disconnecting {st_n_1} and {st_n_2}\")\n",
    "        \n",
    "    counter = 0\n",
    "    while True:\n",
    "        if verbose:\n",
    "            print(f\" Cut iteration {counter}\")\n",
    "        try:\n",
    "            soma_to_soma_path = nx.shortest_path(curr_limb_graph,st_n_1,st_n_2)\n",
    "        except:\n",
    "            print(\"No valid path so just skipping \")\n",
    "            break\n",
    "\n",
    "        if verbose:\n",
    "            print(f\"Shortest path = {soma_to_soma_path}\")\n",
    "\n",
    "        # say we found the cut node to make\n",
    "        cut_edge = get_best_cut_edge(curr_limb_graph,soma_to_soma_path)\n",
    "        curr_limb_graph.remove_edge(*cut_edge)\n",
    "        \n",
    "        counter += 1\n",
    "\n",
    "\n",
    "seperated_graphs = list(nx.connected_components(curr_limb_graph))\n",
    "print(f\"Total number of graphs at the end of the split = {len(seperated_graphs)}\")\n",
    "\n"
   ]
  },
  {
   "cell_type": "markdown",
   "metadata": {},
   "source": [
    "# Seeing the Degrees of the Soma to Soma Path"
   ]
  },
  {
   "cell_type": "code",
   "execution_count": 35,
   "metadata": {},
   "outputs": [
    {
     "data": {
      "text/plain": [
       "[2, 3, 3, 3, 3, 3, 3, 3, 3, 3, 3, 3, 1]"
      ]
     },
     "execution_count": 35,
     "metadata": {},
     "output_type": "execute_result"
    }
   ],
   "source": [
    "xu.get_node_degree(neuron_obj[0].concept_network,node_name=soma_to_soma_path)"
   ]
  },
  {
   "cell_type": "markdown",
   "metadata": {},
   "source": [
    "# Function which will split neuron object"
   ]
  },
  {
   "cell_type": "code",
   "execution_count": 16,
   "metadata": {},
   "outputs": [],
   "source": [
    "import numpy as np\n",
    "import preprocessing_vp2 as pre\n",
    "import networkx_utils as xu\n",
    "import trimesh_utils as tu"
   ]
  },
  {
   "cell_type": "code",
   "execution_count": 27,
   "metadata": {},
   "outputs": [],
   "source": [
    "import error_detection as ed\n",
    "ed = reload(ed)"
   ]
  },
  {
   "cell_type": "code",
   "execution_count": 28,
   "metadata": {},
   "outputs": [
    {
     "name": "stdout",
     "output_type": "stream",
     "text": [
      "\n",
      "\n",
      "---------Working on soma_idx = 0, soma_group_idx 0, endpt = [877209. 741231. 615803.]---------\n",
      "Starting_edge inside branches_to_conept = [[875212. 742061. 616893.]\n",
      " [877209. 741231. 615803.]]\n",
      "At the start, starting_node (in terms of the skeleton, that shouldn't match the starting edge) = [19]\n",
      "printing out current edge:\n",
      "[[877209. 741231. 615803.]\n",
      " [875212. 742061. 616893.]]\n",
      "edge_endpoints_to_process was empty so exiting loop after 38 iterations\n",
      "starting_node in concept map (that should match the starting edge) = 2\n",
      "Total time for branches to concept conversion = 1.3381364345550537\n",
      "\n",
      "Done generating concept network \n",
      "\n",
      "\n",
      "recovered_touching_piece = [2]\n",
      "concept_network_dict = {0: [<networkx_utils.GraphOrderedEdges object at 0x7f09937dbb70>]}\n",
      "checking and resolving cycles\n",
      "No cycles to fix\n",
      "\n",
      "\n",
      "---------Working on soma_idx = 0, soma_group_idx 0, endpt = [883192.09948913 743523.79014019 611188.81171996]---------\n",
      "Starting_edge inside branches_to_conept = [[883192.09948913 743523.79014019 611188.81171996]\n",
      " [887381.2020838  804753.28763374 637462.70401136]]\n",
      "At the start, starting_node (in terms of the skeleton, that shouldn't match the starting edge) = [18]\n",
      "printing out current edge:\n",
      "[[883192.09948913 743523.79014019 611188.81171996]\n",
      " [887381.2020838  804753.28763374 637462.70401136]]\n",
      "edge_endpoints_to_process was empty so exiting loop after 52 iterations\n",
      "starting_node in concept map (that should match the starting edge) = 37\n",
      "Total time for branches to concept conversion = 1.0878722667694092\n",
      "\n",
      "Done generating concept network \n",
      "\n",
      "\n",
      "recovered_touching_piece = [37]\n",
      "concept_network_dict = {0: [<networkx_utils.GraphOrderedEdges object at 0x7f0993fa15f8>]}\n",
      "checking and resolving cycles\n",
      "No cycles to fix\n"
     ]
    }
   ],
   "source": [
    "revised_neuron = ed.split_neuron_limb(neuron_obj,\n",
    "                     seperated_graphs,\n",
    "                     curr_limb_idx,\n",
    "                     verbose = False)"
   ]
  },
  {
   "cell_type": "code",
   "execution_count": 29,
   "metadata": {},
   "outputs": [
    {
     "name": "stdout",
     "output_type": "stream",
     "text": [
      "\n",
      " Working on visualization type: mesh\n",
      "\n",
      " Working on visualization type: skeleton\n",
      "Working on  new stand alone scatter points\n"
     ]
    },
    {
     "data": {
      "application/vnd.jupyter.widget-view+json": {
       "model_id": "dd8f90b89ffa42b99068238d27ce8ea0",
       "version_major": 2,
       "version_minor": 0
      },
      "text/plain": [
       "VBox(children=(Figure(camera=PerspectiveCamera(fov=46.0, position=(0.0, 0.0, 2.0), quaternion=(0.0, 0.0, 0.0, …"
      ]
     },
     "metadata": {},
     "output_type": "display_data"
    }
   ],
   "source": [
    "nviz.visualize_neuron(revised_neuron,\n",
    "                     visualize_type=[\"mesh\",\"skeleton\"],\n",
    "                      limb_branch_dict=\"all\",\n",
    "                     mesh_resolution=\"limb\",\n",
    "                     skeleton_resolution=\"limb\")"
   ]
  },
  {
   "cell_type": "code",
   "execution_count": 23,
   "metadata": {},
   "outputs": [
    {
     "data": {
      "image/png": "[encoded data removed]",
      "text/plain": [
       "<Figure size 432x288 with 1 Axes>"
      ]
     },
     "metadata": {},
     "output_type": "display_data"
    }
   ],
   "source": [
    "nviz.plot_soma_limb_concept_network(neuron_obj)"
   ]
  },
  {
   "cell_type": "code",
   "execution_count": 24,
   "metadata": {},
   "outputs": [
    {
     "data": {
      "image/png": "[encoded data removed]",
      "text/plain": [
       "<Figure size 432x288 with 1 Axes>"
      ]
     },
     "metadata": {},
     "output_type": "display_data"
    }
   ],
   "source": [
    "nviz.plot_soma_limb_concept_network(revised_neuron)"
   ]
  },
  {
   "cell_type": "code",
   "execution_count": null,
   "metadata": {},
   "outputs": [],
   "source": []
  }
 ],
 "metadata": {
  "kernelspec": {
   "display_name": "Python 3",
   "language": "python",
   "name": "python3"
  },
  "language_info": {
   "codemirror_mode": {
    "name": "ipython",
    "version": 3
   },
   "file_extension": ".py",
   "mimetype": "text/x-python",
   "name": "python",
   "nbconvert_exporter": "python",
   "pygments_lexer": "ipython3",
   "version": "3.6.9"
  }
 },
 "nbformat": 4,
 "nbformat_minor": 4
}
