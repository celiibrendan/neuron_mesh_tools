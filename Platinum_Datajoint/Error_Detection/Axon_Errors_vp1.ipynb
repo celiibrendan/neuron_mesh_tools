{
 "cells": [
  {
   "cell_type": "code",
   "execution_count": null,
   "metadata": {},
   "outputs": [],
   "source": [
    "\"\"\"\n",
    "\n",
    "Be able to Identify the axons like parts in cell to be able to \n",
    "make things errors\n",
    "\n",
    "\"\"\""
   ]
  },
  {
   "cell_type": "code",
   "execution_count": 1,
   "metadata": {},
   "outputs": [
    {
     "name": "stdout",
     "output_type": "stream",
     "text": [
      "hi\n"
     ]
    }
   ],
   "source": [
    "print(\"hi\")"
   ]
  },
  {
   "cell_type": "code",
   "execution_count": 2,
   "metadata": {},
   "outputs": [],
   "source": [
    "from os import sys\n",
    "sys.path.append(\"/meshAfterParty/\")"
   ]
  },
  {
   "cell_type": "code",
   "execution_count": 3,
   "metadata": {},
   "outputs": [
    {
     "name": "stderr",
     "output_type": "stream",
     "text": [
      "INFO - 2020-11-27 22:06:31,032 - settings - Setting database.host to at-database.ad.bcm.edu\n",
      "INFO - 2020-11-27 22:06:31,033 - settings - Setting database.user to celiib\n",
      "INFO - 2020-11-27 22:06:31,034 - settings - Setting database.password to newceliipass\n"
     ]
    }
   ],
   "source": [
    "from importlib import reload\n",
    "\n",
    "import neuron_utils as nru\n",
    "\n",
    "import neuron\n",
    "\n",
    "import neuron_visualizations as nviz\n",
    "\n",
    "import time\n",
    "\n",
    "import datajoint_utils as du"
   ]
  },
  {
   "cell_type": "code",
   "execution_count": 4,
   "metadata": {},
   "outputs": [
    {
     "name": "stderr",
     "output_type": "stream",
     "text": [
      "INFO - 2020-11-27 22:06:31,051 - settings - Setting stores to {'minnie65': {'protocol': 'file', 'location': '/mnt/dj-stor01/platinum/minnie65', 'stage': '/mnt/dj-stor01/platinum/minnie65'}, 'meshes': {'protocol': 'file', 'location': '/mnt/dj-stor01/platinum/minnie65/02/meshes', 'stage': '/mnt/dj-stor01/platinum/minnie65/02/meshes'}, 'decimated_meshes': {'protocol': 'file', 'location': '/mnt/dj-stor01/platinum/minnie65/02/decimated_meshes', 'stage': '/mnt/dj-stor01/platinum/minnie65/02/decimated_meshes'}, 'skeletons': {'protocol': 'file', 'location': '/mnt/dj-stor01/platinum/minnie65/02/skeletons'}}\n",
      "INFO - 2020-11-27 22:06:31,052 - settings - Setting enable_python_native_blobs to True\n",
      "INFO - 2020-11-27 22:06:31,063 - connection - Connected celiib@at-database.ad.bcm.edu:3306\n",
      "INFO - 2020-11-27 22:06:31,236 - settings - Setting enable_python_native_blobs to True\n"
     ]
    },
    {
     "name": "stdout",
     "output_type": "stream",
     "text": [
      "Connecting celiib@at-database.ad.bcm.edu:3306\n"
     ]
    }
   ],
   "source": [
    "import neuron_visualizations as nviz\n",
    "curr_seg_id = 864691134884741882\n",
    "minnie,schema = du.configure_minnie_vm()"
   ]
  },
  {
   "cell_type": "code",
   "execution_count": 5,
   "metadata": {},
   "outputs": [
    {
     "data": {
      "text/html": [
       "\n",
       "        \n",
       "        <style type=\"text/css\">\n",
       "            .Relation{\n",
       "                border-collapse:collapse;\n",
       "            }\n",
       "            .Relation th{\n",
       "                background: #A0A0A0; color: #ffffff; padding:4px; border:#f0e0e0 1px solid;\n",
       "                font-weight: normal; font-family: monospace; font-size: 100%;\n",
       "            }\n",
       "            .Relation td{\n",
       "                padding:4px; border:#f0e0e0 1px solid; font-size:100%;\n",
       "            }\n",
       "            .Relation tr:nth-child(odd){\n",
       "                background: #ffffff;\n",
       "            }\n",
       "            .Relation tr:nth-child(even){\n",
       "                background: #f3f1ff;\n",
       "            }\n",
       "            /* Tooltip container */\n",
       "            .djtooltip {\n",
       "            }\n",
       "            /* Tooltip text */\n",
       "            .djtooltip .djtooltiptext {\n",
       "                visibility: hidden;\n",
       "                width: 120px;\n",
       "                background-color: black;\n",
       "                color: #fff;\n",
       "                text-align: center;\n",
       "                padding: 5px 0;\n",
       "                border-radius: 6px;\n",
       "                /* Position the tooltip text - see examples below! */\n",
       "                position: absolute;\n",
       "                z-index: 1;\n",
       "            }\n",
       "            #primary {\n",
       "                font-weight: bold;\n",
       "                color: black;\n",
       "            }\n",
       "\n",
       "            #nonprimary {\n",
       "                font-weight: normal;\n",
       "                color: white;\n",
       "            }\n",
       "\n",
       "            /* Show the tooltip text when you mouse over the tooltip container */\n",
       "            .djtooltip:hover .djtooltiptext {\n",
       "                visibility: visible;\n",
       "            }\n",
       "        </style>\n",
       "        \n",
       "        <b></b>\n",
       "            <div style=\"max-height:1000px;max-width:1500px;overflow:auto;\">\n",
       "            <table border=\"1\" class=\"Relation\">\n",
       "                <thead> <tr style=\"text-align: right;\"> <th> <div class=\"djtooltip\">\n",
       "                                <p id=\"primary\">segment_id</p>\n",
       "                                <span class=\"djtooltiptext\">segment id unique within each Segmentation</span>\n",
       "                            </div></th><th><div class=\"djtooltip\">\n",
       "                                <p id=\"primary\">decimation_version</p>\n",
       "                                <span class=\"djtooltiptext\"></span>\n",
       "                            </div></th><th><div class=\"djtooltip\">\n",
       "                                <p id=\"primary\">decimation_ratio</p>\n",
       "                                <span class=\"djtooltiptext\">ratio of remaining mesh vertices/faces (which ones depends on what metric the decimation technique uses)</span>\n",
       "                            </div></th><th><div class=\"djtooltip\">\n",
       "                                <p id=\"nonprimary\">decomposition</p>\n",
       "                                <span class=\"djtooltiptext\"></span>\n",
       "                            </div></th><th><div class=\"djtooltip\">\n",
       "                                <p id=\"nonprimary\">n_vertices</p>\n",
       "                                <span class=\"djtooltiptext\">number of vertices</span>\n",
       "                            </div></th><th><div class=\"djtooltip\">\n",
       "                                <p id=\"nonprimary\">n_faces</p>\n",
       "                                <span class=\"djtooltiptext\">number of faces</span>\n",
       "                            </div></th><th><div class=\"djtooltip\">\n",
       "                                <p id=\"nonprimary\">n_error_limbs</p>\n",
       "                                <span class=\"djtooltiptext\">the number of limbs that are touching multiple somas or 1 soma in multiple places</span>\n",
       "                            </div></th><th><div class=\"djtooltip\">\n",
       "                                <p id=\"nonprimary\">n_same_soma_multi_touching_limbs</p>\n",
       "                                <span class=\"djtooltiptext\">number of limbs that touch the same soma multiple times</span>\n",
       "                            </div></th><th><div class=\"djtooltip\">\n",
       "                                <p id=\"nonprimary\">n_multi_soma_touching_limbs</p>\n",
       "                                <span class=\"djtooltiptext\">number of limbs that touch multiple somas</span>\n",
       "                            </div></th><th><div class=\"djtooltip\">\n",
       "                                <p id=\"nonprimary\">n_somas</p>\n",
       "                                <span class=\"djtooltiptext\">number of soma meshes detected</span>\n",
       "                            </div></th><th><div class=\"djtooltip\">\n",
       "                                <p id=\"nonprimary\">n_limbs</p>\n",
       "                                <span class=\"djtooltiptext\"></span>\n",
       "                            </div></th><th><div class=\"djtooltip\">\n",
       "                                <p id=\"nonprimary\">n_branches</p>\n",
       "                                <span class=\"djtooltiptext\"></span>\n",
       "                            </div></th><th><div class=\"djtooltip\">\n",
       "                                <p id=\"nonprimary\">max_limb_n_branches</p>\n",
       "                                <span class=\"djtooltiptext\"></span>\n",
       "                            </div></th><th><div class=\"djtooltip\">\n",
       "                                <p id=\"nonprimary\">skeletal_length</p>\n",
       "                                <span class=\"djtooltiptext\"></span>\n",
       "                            </div></th><th><div class=\"djtooltip\">\n",
       "                                <p id=\"nonprimary\">max_limb_skeletal_length</p>\n",
       "                                <span class=\"djtooltiptext\"></span>\n",
       "                            </div></th><th><div class=\"djtooltip\">\n",
       "                                <p id=\"nonprimary\">median_branch_length</p>\n",
       "                                <span class=\"djtooltiptext\">gives information on average skeletal length to next branch point</span>\n",
       "                            </div></th><th><div class=\"djtooltip\">\n",
       "                                <p id=\"nonprimary\">width_median</p>\n",
       "                                <span class=\"djtooltiptext\">median width from mesh center without spines removed</span>\n",
       "                            </div></th><th><div class=\"djtooltip\">\n",
       "                                <p id=\"nonprimary\">width_no_spine_median</p>\n",
       "                                <span class=\"djtooltiptext\">median width from mesh center with spines removed</span>\n",
       "                            </div></th><th><div class=\"djtooltip\">\n",
       "                                <p id=\"nonprimary\">width_90_perc</p>\n",
       "                                <span class=\"djtooltiptext\">90th percentile for width without spines removed</span>\n",
       "                            </div></th><th><div class=\"djtooltip\">\n",
       "                                <p id=\"nonprimary\">width_no_spine_90_perc</p>\n",
       "                                <span class=\"djtooltiptext\">90th percentile for width with spines removed</span>\n",
       "                            </div></th><th><div class=\"djtooltip\">\n",
       "                                <p id=\"nonprimary\">n_spines</p>\n",
       "                                <span class=\"djtooltiptext\"></span>\n",
       "                            </div></th><th><div class=\"djtooltip\">\n",
       "                                <p id=\"nonprimary\">spine_density</p>\n",
       "                                <span class=\"djtooltiptext\">n_spines/ skeletal_length</span>\n",
       "                            </div></th><th><div class=\"djtooltip\">\n",
       "                                <p id=\"nonprimary\">spines_per_branch</p>\n",
       "                                <span class=\"djtooltiptext\"></span>\n",
       "                            </div></th><th><div class=\"djtooltip\">\n",
       "                                <p id=\"nonprimary\">skeletal_length_eligible</p>\n",
       "                                <span class=\"djtooltiptext\">the skeletal length for all branches searched for spines</span>\n",
       "                            </div></th><th><div class=\"djtooltip\">\n",
       "                                <p id=\"nonprimary\">n_spine_eligible_branches</p>\n",
       "                                <span class=\"djtooltiptext\">the number of branches that were checked for spines because passed width threshold</span>\n",
       "                            </div></th><th><div class=\"djtooltip\">\n",
       "                                <p id=\"nonprimary\">spine_density_eligible</p>\n",
       "                                <span class=\"djtooltiptext\">n_spines/skeletal_length_eligible</span>\n",
       "                            </div></th><th><div class=\"djtooltip\">\n",
       "                                <p id=\"nonprimary\">spines_per_branch_eligible</p>\n",
       "                                <span class=\"djtooltiptext\">n_spines/n_spine_eligible_branches</span>\n",
       "                            </div></th><th><div class=\"djtooltip\">\n",
       "                                <p id=\"nonprimary\">total_spine_volume</p>\n",
       "                                <span class=\"djtooltiptext\">the sum of all spine volume</span>\n",
       "                            </div></th><th><div class=\"djtooltip\">\n",
       "                                <p id=\"nonprimary\">spine_volume_median</p>\n",
       "                                <span class=\"djtooltiptext\">median of the spine volume for those spines with able to calculate volume</span>\n",
       "                            </div></th><th><div class=\"djtooltip\">\n",
       "                                <p id=\"nonprimary\">spine_volume_density</p>\n",
       "                                <span class=\"djtooltiptext\">total_spine_volume/skeletal_length</span>\n",
       "                            </div></th><th><div class=\"djtooltip\">\n",
       "                                <p id=\"nonprimary\">spine_volume_density_eligible</p>\n",
       "                                <span class=\"djtooltiptext\">total_spine_volume/skeletal_length_eligible</span>\n",
       "                            </div></th><th><div class=\"djtooltip\">\n",
       "                                <p id=\"nonprimary\">spine_volume_per_branch_eligible</p>\n",
       "                                <span class=\"djtooltiptext\">total_spine_volume/n_spine_eligible_branches</span>\n",
       "                            </div></th><th><div class=\"djtooltip\">\n",
       "                                <p id=\"nonprimary\">run_time</p>\n",
       "                                <span class=\"djtooltiptext\">the amount of time to run (seconds)</span>\n",
       "                            </div> </th> </tr> </thead>\n",
       "                <tbody> <tr> <td>864691134884741882</td>\n",
       "<td>0</td>\n",
       "<td>0.25</td>\n",
       "<td>=BLOB=</td>\n",
       "<td>843280</td>\n",
       "<td>1700959</td>\n",
       "<td>2</td>\n",
       "<td>2</td>\n",
       "<td>0</td>\n",
       "<td>1</td>\n",
       "<td>10</td>\n",
       "<td>583</td>\n",
       "<td>190</td>\n",
       "<td>9413167.750364104</td>\n",
       "<td>3368032.161881765</td>\n",
       "<td>7808.186</td>\n",
       "<td>114.566</td>\n",
       "<td>114.566</td>\n",
       "<td>435.79</td>\n",
       "<td>391.447</td>\n",
       "<td>3034</td>\n",
       "<td>0.00032231445146429523</td>\n",
       "<td>5.204116638078903</td>\n",
       "<td>4757150.4</td>\n",
       "<td>249</td>\n",
       "<td>nan</td>\n",
       "<td>nan</td>\n",
       "<td>191374383459.08017</td>\n",
       "<td>42245315.42166233</td>\n",
       "<td>20330.497504591665</td>\n",
       "<td>40228.78558960006</td>\n",
       "<td>768571821.120804</td>\n",
       "<td>4240.5491</td></tr><tr><td>864691134884743930</td>\n",
       "<td>0</td>\n",
       "<td>0.25</td>\n",
       "<td>=BLOB=</td>\n",
       "<td>374888</td>\n",
       "<td>770862</td>\n",
       "<td>1</td>\n",
       "<td>1</td>\n",
       "<td>0</td>\n",
       "<td>1</td>\n",
       "<td>7</td>\n",
       "<td>102</td>\n",
       "<td>37</td>\n",
       "<td>3947733.1853591506</td>\n",
       "<td>1493754.0330579386</td>\n",
       "<td>18624.179</td>\n",
       "<td>122.975</td>\n",
       "<td>122.975</td>\n",
       "<td>536.469</td>\n",
       "<td>471.729</td>\n",
       "<td>1555</td>\n",
       "<td>0.0003938969345159865</td>\n",
       "<td>15.245098039215685</td>\n",
       "<td>2460060.756</td>\n",
       "<td>45</td>\n",
       "<td>nan</td>\n",
       "<td>nan</td>\n",
       "<td>72821276363.5538</td>\n",
       "<td>30931750.13158639</td>\n",
       "<td>18446.352107488943</td>\n",
       "<td>29601.413780511444</td>\n",
       "<td>1618250585.8567512</td>\n",
       "<td>2185.5764</td></tr><tr><td>864691134884744186</td>\n",
       "<td>0</td>\n",
       "<td>0.25</td>\n",
       "<td>=BLOB=</td>\n",
       "<td>298676</td>\n",
       "<td>599981</td>\n",
       "<td>1</td>\n",
       "<td>1</td>\n",
       "<td>0</td>\n",
       "<td>1</td>\n",
       "<td>8</td>\n",
       "<td>461</td>\n",
       "<td>220</td>\n",
       "<td>6381578.759465553</td>\n",
       "<td>2926907.6704523424</td>\n",
       "<td>8563.802</td>\n",
       "<td>74.779</td>\n",
       "<td>74.779</td>\n",
       "<td>117.861</td>\n",
       "<td>117.861</td>\n",
       "<td>5</td>\n",
       "<td>7.835051777091507e-07</td>\n",
       "<td>0.010845986984815618</td>\n",
       "<td>235742.906</td>\n",
       "<td>23</td>\n",
       "<td>nan</td>\n",
       "<td>nan</td>\n",
       "<td>182351327.99166265</td>\n",
       "<td>22639885.7583313</td>\n",
       "<td>28.57464192872146</td>\n",
       "<td>773.5177744507089</td>\n",
       "<td>7928318.608333158</td>\n",
       "<td>1002.7609</td></tr><tr><td>864691134884749050</td>\n",
       "<td>0</td>\n",
       "<td>0.25</td>\n",
       "<td>=BLOB=</td>\n",
       "<td>333547</td>\n",
       "<td>690610</td>\n",
       "<td>1</td>\n",
       "<td>1</td>\n",
       "<td>0</td>\n",
       "<td>1</td>\n",
       "<td>6</td>\n",
       "<td>227</td>\n",
       "<td>150</td>\n",
       "<td>5923256.260350557</td>\n",
       "<td>3562420.9528414337</td>\n",
       "<td>15945.722</td>\n",
       "<td>91.936</td>\n",
       "<td>91.936</td>\n",
       "<td>247.021</td>\n",
       "<td>245.172</td>\n",
       "<td>141</td>\n",
       "<td>2.3804474059958224e-05</td>\n",
       "<td>0.6211453744493393</td>\n",
       "<td>871126.173</td>\n",
       "<td>30</td>\n",
       "<td>nan</td>\n",
       "<td>nan</td>\n",
       "<td>6818450888.328257</td>\n",
       "<td>26686104.138326008</td>\n",
       "<td>1151.1321794348164</td>\n",
       "<td>7827.167980554129</td>\n",
       "<td>227281696.27760854</td>\n",
       "<td>1224.9961</td></tr><tr><td>864691134884749818</td>\n",
       "<td>0</td>\n",
       "<td>0.25</td>\n",
       "<td>=BLOB=</td>\n",
       "<td>408678</td>\n",
       "<td>840775</td>\n",
       "<td>1</td>\n",
       "<td>1</td>\n",
       "<td>0</td>\n",
       "<td>1</td>\n",
       "<td>5</td>\n",
       "<td>116</td>\n",
       "<td>58</td>\n",
       "<td>2857353.6043665437</td>\n",
       "<td>1383537.6068893261</td>\n",
       "<td>10653.49</td>\n",
       "<td>383.725</td>\n",
       "<td>296.325</td>\n",
       "<td>509.887</td>\n",
       "<td>490.661</td>\n",
       "<td>2202</td>\n",
       "<td>0.0007706431561830335</td>\n",
       "<td>18.982758620689655</td>\n",
       "<td>2724171.909</td>\n",
       "<td>91</td>\n",
       "<td>nan</td>\n",
       "<td>nan</td>\n",
       "<td>166090592271.93384</td>\n",
       "<td>48686052.66318766</td>\n",
       "<td>58127.41972786214</td>\n",
       "<td>60969.20378747428</td>\n",
       "<td>1825171343.6476245</td>\n",
       "<td>2592.1839</td></tr><tr><td>864691134884756218</td>\n",
       "<td>0</td>\n",
       "<td>0.25</td>\n",
       "<td>=BLOB=</td>\n",
       "<td>421724</td>\n",
       "<td>868316</td>\n",
       "<td>1</td>\n",
       "<td>1</td>\n",
       "<td>0</td>\n",
       "<td>1</td>\n",
       "<td>7</td>\n",
       "<td>157</td>\n",
       "<td>60</td>\n",
       "<td>3891046.292054618</td>\n",
       "<td>1585908.1439105992</td>\n",
       "<td>13025.813</td>\n",
       "<td>164.71</td>\n",
       "<td>164.71</td>\n",
       "<td>495.423</td>\n",
       "<td>413.902</td>\n",
       "<td>2320</td>\n",
       "<td>0.0005962406576188415</td>\n",
       "<td>14.777070063694268</td>\n",
       "<td>2509957.646</td>\n",
       "<td>89</td>\n",
       "<td>nan</td>\n",
       "<td>nan</td>\n",
       "<td>117627626385.24652</td>\n",
       "<td>31832415.7744201</td>\n",
       "<td>30230.33332331154</td>\n",
       "<td>46864.386963941026</td>\n",
       "<td>1321658723.4297361</td>\n",
       "<td>1450.6105</td></tr><tr><td>864691134884761082</td>\n",
       "<td>0</td>\n",
       "<td>0.25</td>\n",
       "<td>=BLOB=</td>\n",
       "<td>558183</td>\n",
       "<td>1132950</td>\n",
       "<td>1</td>\n",
       "<td>1</td>\n",
       "<td>0</td>\n",
       "<td>1</td>\n",
       "<td>6</td>\n",
       "<td>193</td>\n",
       "<td>56</td>\n",
       "<td>4434613.767862454</td>\n",
       "<td>1710711.9206096916</td>\n",
       "<td>12779.018</td>\n",
       "<td>359.991</td>\n",
       "<td>297.716</td>\n",
       "<td>510.219</td>\n",
       "<td>464.549</td>\n",
       "<td>2505</td>\n",
       "<td>0.0005648744470496345</td>\n",
       "<td>12.979274611398964</td>\n",
       "<td>3974606.818</td>\n",
       "<td>150</td>\n",
       "<td>nan</td>\n",
       "<td>nan</td>\n",
       "<td>193505892108.93225</td>\n",
       "<td>40990324.512161255</td>\n",
       "<td>43635.34283667838</td>\n",
       "<td>48685.543242313295</td>\n",
       "<td>1290039280.7262151</td>\n",
       "<td>3021.3421</td></tr><tr><td>864691134884761338</td>\n",
       "<td>0</td>\n",
       "<td>0.25</td>\n",
       "<td>=BLOB=</td>\n",
       "<td>410066</td>\n",
       "<td>832497</td>\n",
       "<td>1</td>\n",
       "<td>1</td>\n",
       "<td>0</td>\n",
       "<td>1</td>\n",
       "<td>5</td>\n",
       "<td>226</td>\n",
       "<td>157</td>\n",
       "<td>5450158.626807008</td>\n",
       "<td>3745453.1742712385</td>\n",
       "<td>12536.998</td>\n",
       "<td>91.816</td>\n",
       "<td>91.816</td>\n",
       "<td>397.163</td>\n",
       "<td>323.952</td>\n",
       "<td>1311</td>\n",
       "<td>0.0002405434574971359</td>\n",
       "<td>5.800884955752212</td>\n",
       "<td>2086085.11</td>\n",
       "<td>55</td>\n",
       "<td>nan</td>\n",
       "<td>nan</td>\n",
       "<td>98613799181.8299</td>\n",
       "<td>44933690.004175186</td>\n",
       "<td>18093.748445557278</td>\n",
       "<td>47272.18401066575</td>\n",
       "<td>1792978166.9423618</td>\n",
       "<td>1897.7155</td></tr><tr><td>864691134884761850</td>\n",
       "<td>0</td>\n",
       "<td>0.25</td>\n",
       "<td>=BLOB=</td>\n",
       "<td>336541</td>\n",
       "<td>688506</td>\n",
       "<td>1</td>\n",
       "<td>1</td>\n",
       "<td>0</td>\n",
       "<td>1</td>\n",
       "<td>7</td>\n",
       "<td>82</td>\n",
       "<td>27</td>\n",
       "<td>3013319.53919075</td>\n",
       "<td>1188847.7405818352</td>\n",
       "<td>10868.974</td>\n",
       "<td>288.977</td>\n",
       "<td>257.212</td>\n",
       "<td>452.129</td>\n",
       "<td>439.431</td>\n",
       "<td>1387</td>\n",
       "<td>0.00046028971768871527</td>\n",
       "<td>16.914634146341463</td>\n",
       "<td>2330964.887</td>\n",
       "<td>48</td>\n",
       "<td>nan</td>\n",
       "<td>nan</td>\n",
       "<td>92578021091.34584</td>\n",
       "<td>43503077.82966614</td>\n",
       "<td>30722.935250407718</td>\n",
       "<td>39716.60903502312</td>\n",
       "<td>1928708772.7363718</td>\n",
       "<td>2540.9794</td></tr><tr><td>864691134884766202</td>\n",
       "<td>0</td>\n",
       "<td>0.25</td>\n",
       "<td>=BLOB=</td>\n",
       "<td>502399</td>\n",
       "<td>1020319</td>\n",
       "<td>1</td>\n",
       "<td>1</td>\n",
       "<td>0</td>\n",
       "<td>1</td>\n",
       "<td>8</td>\n",
       "<td>173</td>\n",
       "<td>65</td>\n",
       "<td>5292181.242704882</td>\n",
       "<td>2389187.241241251</td>\n",
       "<td>16840.218</td>\n",
       "<td>240.21</td>\n",
       "<td>240.21</td>\n",
       "<td>505.143</td>\n",
       "<td>460.206</td>\n",
       "<td>1840</td>\n",
       "<td>0.0003476827258205464</td>\n",
       "<td>10.635838150289016</td>\n",
       "<td>3096793.95</td>\n",
       "<td>96</td>\n",
       "<td>nan</td>\n",
       "<td>nan</td>\n",
       "<td>108908474470.69025</td>\n",
       "<td>32666286.850001015</td>\n",
       "<td>20579.127863547266</td>\n",
       "<td>35168.13718610185</td>\n",
       "<td>1134463275.7363567</td>\n",
       "<td>2018.8499</td></tr><tr><td>864691134884769274</td>\n",
       "<td>0</td>\n",
       "<td>0.25</td>\n",
       "<td>=BLOB=</td>\n",
       "<td>664830</td>\n",
       "<td>1346855</td>\n",
       "<td>1</td>\n",
       "<td>1</td>\n",
       "<td>0</td>\n",
       "<td>1</td>\n",
       "<td>5</td>\n",
       "<td>390</td>\n",
       "<td>347</td>\n",
       "<td>10889893.901454156</td>\n",
       "<td>9210213.344902575</td>\n",
       "<td>18387.62</td>\n",
       "<td>105.811</td>\n",
       "<td>105.811</td>\n",
       "<td>290.357</td>\n",
       "<td>283.921</td>\n",
       "<td>723</td>\n",
       "<td>6.639183141200815e-05</td>\n",
       "<td>1.853846153846154</td>\n",
       "<td>4215836.509</td>\n",
       "<td>131</td>\n",
       "<td>nan</td>\n",
       "<td>nan</td>\n",
       "<td>28224369323.977104</td>\n",
       "<td>26407007.38917605</td>\n",
       "<td>2591.79470244501</td>\n",
       "<td>6694.844371626724</td>\n",
       "<td>215453200.94639012</td>\n",
       "<td>2864.1325</td></tr><tr><td>864691134884770042</td>\n",
       "<td>0</td>\n",
       "<td>0.25</td>\n",
       "<td>=BLOB=</td>\n",
       "<td>355525</td>\n",
       "<td>726891</td>\n",
       "<td>1</td>\n",
       "<td>1</td>\n",
       "<td>0</td>\n",
       "<td>1</td>\n",
       "<td>6</td>\n",
       "<td>136</td>\n",
       "<td>59</td>\n",
       "<td>3879516.8105735537</td>\n",
       "<td>1608770.1008828552</td>\n",
       "<td>17891.307</td>\n",
       "<td>218.894</td>\n",
       "<td>214.875</td>\n",
       "<td>433.328</td>\n",
       "<td>411.255</td>\n",
       "<td>874</td>\n",
       "<td>0.00022528578755424608</td>\n",
       "<td>6.426470588235294</td>\n",
       "<td>2007505.586</td>\n",
       "<td>74</td>\n",
       "<td>nan</td>\n",
       "<td>nan</td>\n",
       "<td>55465670915.66855</td>\n",
       "<td>25501161.10749944</td>\n",
       "<td>14297.056469635047</td>\n",
       "<td>27629.14898094264</td>\n",
       "<td>749536093.4549804</td>\n",
       "<td>922.4049</td> </tr> </tbody>\n",
       "            </table>\n",
       "            <p>...</p>\n",
       "            <p>Total: 6188</p></div>\n",
       "            "
      ],
      "text/plain": [
       "*segment_id    *decimation_ve *decimation_ra decomposit n_vertices     n_faces     n_error_limbs  n_same_soma_mu n_multi_soma_t n_somas     n_limbs     n_branches     max_limb_n_bra skeletal_lengt max_limb_skele median_branch_ width_median   width_no_spine width_90_perc  width_no_spine n_spines     spine_density  spines_per_bra skeletal_lengt n_spine_eligib spine_density_ spines_per_bra total_spine_vo spine_volume_m spine_volume_d spine_volume_d spine_volume_p run_time     \n",
       "+------------+ +------------+ +------------+ +--------+ +------------+ +---------+ +------------+ +------------+ +------------+ +---------+ +---------+ +------------+ +------------+ +------------+ +------------+ +------------+ +------------+ +------------+ +------------+ +------------+ +----------+ +------------+ +------------+ +------------+ +------------+ +------------+ +------------+ +------------+ +------------+ +------------+ +------------+ +------------+ +-----------+\n",
       "86469113488474 0              0.25           =BLOB=     843280         1700959     2              2              0              1           10          583            190            9413167.750364 3368032.161881 7808.186       114.566        114.566        435.79         391.447        3034         0.000322314451 5.204116638078 4757150.4      249            nan            nan            191374383459.0 42245315.42166 20330.49750459 40228.78558960 768571821.1208 4240.5491    \n",
       "86469113488474 0              0.25           =BLOB=     374888         770862      1              1              0              1           7           102            37             3947733.185359 1493754.033057 18624.179      122.975        122.975        536.469        471.729        1555         0.000393896934 15.24509803921 2460060.756    45             nan            nan            72821276363.55 30931750.13158 18446.35210748 29601.41378051 1618250585.856 2185.5764    \n",
       "86469113488474 0              0.25           =BLOB=     298676         599981      1              1              0              1           8           461            220            6381578.759465 2926907.670452 8563.802       74.779         74.779         117.861        117.861        5            7.835051777091 0.010845986984 235742.906     23             nan            nan            182351327.9916 22639885.75833 28.57464192872 773.5177744507 7928318.608333 1002.7609    \n",
       "86469113488474 0              0.25           =BLOB=     333547         690610      1              1              0              1           6           227            150            5923256.260350 3562420.952841 15945.722      91.936         91.936         247.021        245.172        141          2.380447405995 0.621145374449 871126.173     30             nan            nan            6818450888.328 26686104.13832 1151.132179434 7827.167980554 227281696.2776 1224.9961    \n",
       "86469113488474 0              0.25           =BLOB=     408678         840775      1              1              0              1           5           116            58             2857353.604366 1383537.606889 10653.49       383.725        296.325        509.887        490.661        2202         0.000770643156 18.98275862068 2724171.909    91             nan            nan            166090592271.9 48686052.66318 58127.41972786 60969.20378747 1825171343.647 2592.1839    \n",
       "86469113488475 0              0.25           =BLOB=     421724         868316      1              1              0              1           7           157            60             3891046.292054 1585908.143910 13025.813      164.71         164.71         495.423        413.902        2320         0.000596240657 14.77707006369 2509957.646    89             nan            nan            117627626385.2 31832415.77442 30230.33332331 46864.38696394 1321658723.429 1450.6105    \n",
       "86469113488476 0              0.25           =BLOB=     558183         1132950     1              1              0              1           6           193            56             4434613.767862 1710711.920609 12779.018      359.991        297.716        510.219        464.549        2505         0.000564874447 12.97927461139 3974606.818    150            nan            nan            193505892108.9 40990324.51216 43635.34283667 48685.54324231 1290039280.726 3021.3421    \n",
       "86469113488476 0              0.25           =BLOB=     410066         832497      1              1              0              1           5           226            157            5450158.626807 3745453.174271 12536.998      91.816         91.816         397.163        323.952        1311         0.000240543457 5.800884955752 2086085.11     55             nan            nan            98613799181.82 44933690.00417 18093.74844555 47272.18401066 1792978166.942 1897.7155    \n",
       "86469113488476 0              0.25           =BLOB=     336541         688506      1              1              0              1           7           82             27             3013319.539190 1188847.740581 10868.974      288.977        257.212        452.129        439.431        1387         0.000460289717 16.91463414634 2330964.887    48             nan            nan            92578021091.34 43503077.82966 30722.93525040 39716.60903502 1928708772.736 2540.9794    \n",
       "86469113488476 0              0.25           =BLOB=     502399         1020319     1              1              0              1           8           173            65             5292181.242704 2389187.241241 16840.218      240.21         240.21         505.143        460.206        1840         0.000347682725 10.63583815028 3096793.95     96             nan            nan            108908474470.6 32666286.85000 20579.12786354 35168.13718610 1134463275.736 2018.8499    \n",
       "86469113488476 0              0.25           =BLOB=     664830         1346855     1              1              0              1           5           390            347            10889893.90145 9210213.344902 18387.62       105.811        105.811        290.357        283.921        723          6.639183141200 1.853846153846 4215836.509    131            nan            nan            28224369323.97 26407007.38917 2591.794702445 6694.844371626 215453200.9463 2864.1325    \n",
       "86469113488477 0              0.25           =BLOB=     355525         726891      1              1              0              1           6           136            59             3879516.810573 1608770.100882 17891.307      218.894        214.875        433.328        411.255        874          0.000225285787 6.426470588235 2007505.586    74             nan            nan            55465670915.66 25501161.10749 14297.05646963 27629.14898094 749536093.4549 922.4049     \n",
       "   ...\n",
       " (Total: 6188)"
      ]
     },
     "execution_count": 5,
     "metadata": {},
     "output_type": "execute_result"
    }
   ],
   "source": [
    "(minnie.Decomposition() & \"n_somas = 1\" & \"n_faces>500000\") & \"n_same_soma_multi_touching_limbs>0\""
   ]
  },
  {
   "cell_type": "code",
   "execution_count": 6,
   "metadata": {},
   "outputs": [
    {
     "name": "stderr",
     "output_type": "stream",
     "text": [
      "INFO - 2020-11-27 22:06:32,834 - settings - Setting enable_python_native_blobs to True\n",
      "INFO - 2020-11-27 22:06:33,037 - settings - Setting enable_python_native_blobs to True\n"
     ]
    },
    {
     "name": "stdout",
     "output_type": "stream",
     "text": [
      "Decompressing Neuron in minimal output mode...please wait\n"
     ]
    }
   ],
   "source": [
    "neuron_obj = (minnie.Decomposition() & dict(segment_id=curr_seg_id)).fetch1(\"decomposition\")"
   ]
  },
  {
   "cell_type": "code",
   "execution_count": 7,
   "metadata": {},
   "outputs": [],
   "source": [
    "nru = reload(nru)"
   ]
  },
  {
   "cell_type": "markdown",
   "metadata": {},
   "source": [
    "# Getting the errored limbs"
   ]
  },
  {
   "cell_type": "code",
   "execution_count": 38,
   "metadata": {},
   "outputs": [],
   "source": [
    "import error_detection as ed\n"
   ]
  },
  {
   "cell_type": "code",
   "execution_count": 68,
   "metadata": {},
   "outputs": [
    {
     "data": {
      "application/vnd.jupyter.widget-view+json": {
       "model_id": "75c20d0d0a2b490d8d6832d294666a7f",
       "version_major": 2,
       "version_minor": 0
      },
      "text/plain": [
       "VBox(children=(Figure(camera=PerspectiveCamera(fov=46.0, position=(0.0, 0.0, 2.0), quaternion=(0.0, 0.0, 0.0, …"
      ]
     },
     "metadata": {},
     "output_type": "display_data"
    }
   ],
   "source": [
    "nviz.plot_objects(meshes=[neuron_obj.mesh.submesh([curr_err_faces],append=True),\n",
    "                          neuron_obj[2].mesh],\n",
    "                 meshes_colors=[\"black\",\"red\"])"
   ]
  },
  {
   "cell_type": "code",
   "execution_count": 72,
   "metadata": {
    "scrolled": false
   },
   "outputs": [
    {
     "name": "stdout",
     "output_type": "stream",
     "text": [
      "functions_list = [<function width at 0x7f0ae6276bf8>, <function median_mesh_center at 0x7f0ae6276ea0>, <function n_spines at 0x7f0ae6276d08>, <function n_faces_branch at 0x7f0ae6276a60>, <function skeleton_distance_branch at 0x7f0ae6276c80>, <function spines_per_skeletal_length at 0x7f0ae62781e0>, <function no_spine_median_mesh_center at 0x7f0ae6278048>]\n",
      "functions_list = [<function axon_segment at 0x7f0ae6278840>]\n",
      "Axons not keeping because of soma: {'L3': array([14, 15, 16]), 'L5': array([], dtype=int64), 'L6': array([13, 14, 15])}\n",
      "\n",
      "----- Working on L0 ------\n",
      "-- Axon Group 0 of size 26--\n",
      "   Working on soma 0, starting_node 18\n",
      "Not using AIS angle threshold\n",
      "sk_angle= 89.46776344189387\n",
      "*****Path to axon group not valid******\n",
      "   Working on soma 0, starting_node 9\n",
      "Not using AIS angle threshold\n",
      "sk_angle= 75.42095619638175\n",
      "*****Path to axon group not valid******\n",
      "   Working on soma 0, starting_node 18\n",
      "Not using AIS angle threshold\n",
      "sk_angle= 89.46776344189387\n",
      "*****Path to axon group not valid******\n",
      "   Working on soma 0, starting_node 9\n",
      "Not using AIS angle threshold\n",
      "sk_angle= 75.42095619638175\n",
      "*****Path to axon group not valid******\n",
      "-- Axon Group 1 of size 11--\n",
      "   Working on soma 0, starting_node 18\n",
      "Not using AIS angle threshold\n",
      "sk_angle= 89.46776344189387\n",
      "*****Path to axon group not valid******\n",
      "   Working on soma 0, starting_node 9\n",
      "Not using AIS angle threshold\n",
      "sk_angle= 75.42095619638175\n",
      "*****Path to axon group not valid******\n",
      "   Working on soma 0, starting_node 18\n",
      "Not using AIS angle threshold\n",
      "sk_angle= 89.46776344189387\n",
      "*****Path to axon group not valid******\n",
      "   Working on soma 0, starting_node 9\n",
      "Not using AIS angle threshold\n",
      "sk_angle= 75.42095619638175\n",
      "*****Path to axon group not valid******\n",
      "-- Axon Group 2 of size 10--\n",
      "   Working on soma 0, starting_node 18\n",
      "Not using AIS angle threshold\n",
      "sk_angle= 70.03585432428387\n",
      "*****Path to axon group not valid******\n",
      "   Working on soma 0, starting_node 9\n",
      "Not using AIS angle threshold\n",
      "sk_angle= 74.83655266018917\n",
      "*****Path to axon group not valid******\n",
      "   Working on soma 0, starting_node 18\n",
      "Not using AIS angle threshold\n",
      "sk_angle= 70.03585432428387\n",
      "*****Path to axon group not valid******\n",
      "   Working on soma 0, starting_node 9\n",
      "Not using AIS angle threshold\n",
      "sk_angle= 74.83655266018917\n",
      "*****Path to axon group not valid******\n",
      "\n",
      "\n",
      "For limb 0 the valid axon branches are []\n",
      "The following are not valid: [46, 47, 48, 49, 57, 58, 59, 60, 61, 62, 63, 64, 67, 68, 69, 70, 72, 73, 74, 75, 76, 77, 78, 79, 82, 84, 85, 86, 87, 88, 90, 91, 94, 95, 96, 97, 98, 101, 102, 103, 104, 105, 106, 107, 108, 109, 114]\n",
      "\n",
      "----- Working on L1 ------\n",
      "-- Axon Group 0 of size 4--\n",
      "   Working on soma 0, starting_node 4\n",
      "Not using AIS angle threshold\n",
      "sk_angle= 55.1929166808377\n",
      "*****Path to axon group not valid******\n",
      "   Working on soma 0, starting_node 51\n",
      "Not using AIS angle threshold\n",
      "sk_angle= 91.80110861700112\n",
      "*****Path to axon group not valid******\n",
      "   Working on soma 0, starting_node 102\n",
      "Not using AIS angle threshold\n",
      "sk_angle= 15.265836643042967\n",
      "-- Axon Group 1 of size 5--\n",
      "   Working on soma 0, starting_node 4\n",
      "Not using AIS angle threshold\n",
      "sk_angle= 55.1929166808377\n",
      "*****Path to axon group not valid******\n",
      "   Working on soma 0, starting_node 51\n",
      "Not using AIS angle threshold\n",
      "sk_angle= 91.80110861700112\n",
      "*****Path to axon group not valid******\n",
      "   Working on soma 0, starting_node 102\n",
      "Not using AIS angle threshold\n",
      "sk_angle= 51.56650537794056\n",
      "*****Path to axon group not valid******\n",
      "   Working on soma 0, starting_node 4\n",
      "Not using AIS angle threshold\n",
      "sk_angle= 55.1929166808377\n",
      "*****Path to axon group not valid******\n",
      "   Working on soma 0, starting_node 51\n",
      "Not using AIS angle threshold\n",
      "sk_angle= 91.80110861700112\n",
      "*****Path to axon group not valid******\n",
      "   Working on soma 0, starting_node 102\n",
      "Not using AIS angle threshold\n",
      "sk_angle= 51.56650537794056\n",
      "*****Path to axon group not valid******\n",
      "   Working on soma 0, starting_node 4\n",
      "Not using AIS angle threshold\n",
      "sk_angle= 55.1929166808377\n",
      "*****Path to axon group not valid******\n",
      "   Working on soma 0, starting_node 51\n",
      "Not using AIS angle threshold\n",
      "sk_angle= 91.80110861700112\n",
      "*****Path to axon group not valid******\n",
      "   Working on soma 0, starting_node 102\n",
      "Not using AIS angle threshold\n",
      "sk_angle= 51.56650537794056\n",
      "*****Path to axon group not valid******\n",
      "\n",
      "\n",
      "For limb 1 the valid axon branches are [ 97  98  99 101]\n",
      "The following are not valid: [80, 81, 82, 83, 84]\n",
      "\n",
      "----- Working on L2 ------\n",
      "-- Axon Group 0 of size 3--\n",
      "   Working on soma 0, starting_node 7\n",
      "Not using AIS angle threshold\n",
      "sk_angle= 8.004403887924362\n",
      "-- Axon Group 1 of size 21--\n",
      "   Working on soma 0, starting_node 7\n",
      "Not using AIS angle threshold\n",
      "sk_angle= 8.004403887924362\n",
      "-- Axon Group 2 of size 48--\n",
      "   Working on soma 0, starting_node 7\n",
      "Not using AIS angle threshold\n",
      "sk_angle= 8.004403887924362\n",
      "-- Axon Group 3 of size 17--\n",
      "   Working on soma 0, starting_node 7\n",
      "Not using AIS angle threshold\n",
      "sk_angle= 8.004403887924362\n",
      "-- Axon Group 4 of size 3--\n",
      "   Working on soma 0, starting_node 7\n",
      "Not using AIS angle threshold\n",
      "sk_angle= 8.004403887924362\n",
      "-- Axon Group 5 of size 5--\n",
      "   Working on soma 0, starting_node 7\n",
      "Not using AIS angle threshold\n",
      "sk_angle= 8.004403887924362\n",
      "-- Axon Group 6 of size 9--\n",
      "   Working on soma 0, starting_node 7\n",
      "Not using AIS angle threshold\n",
      "sk_angle= 8.004403887924362\n",
      "-- Axon Group 7 of size 7--\n",
      "   Working on soma 0, starting_node 7\n",
      "Not using AIS angle threshold\n",
      "sk_angle= 8.004403887924362\n",
      "-- Axon Group 8 of size 34--\n",
      "   Working on soma 0, starting_node 7\n",
      "Not using AIS angle threshold\n",
      "sk_angle= 8.004403887924362\n",
      "-- Axon Group 9 of size 9--\n",
      "   Working on soma 0, starting_node 7\n",
      "Not using AIS angle threshold\n",
      "sk_angle= 8.004403887924362\n",
      "-- Axon Group 10 of size 3--\n",
      "   Working on soma 0, starting_node 7\n",
      "Not using AIS angle threshold\n",
      "sk_angle= 8.004403887924362\n",
      "-- Axon Group 11 of size 3--\n",
      "   Working on soma 0, starting_node 7\n",
      "Not using AIS angle threshold\n",
      "sk_angle= 8.004403887924362\n",
      "\n",
      "\n",
      "For limb 2 the valid axon branches are [ 27  28  37 136 147 153 158 161  44  45  46  47  48  49  50  51 176  53\n",
      "  59  60  61  62  81  89   0   1   2   3   4 128 146 148  21  22  23  24\n",
      "  25  26 155 156  29  30 159  32  33  34  35  36  31 164 163 162 171 173\n",
      " 174 179  52  55  56  57  76  77  78  79  80  83  88 105 113 114 125 126\n",
      "  64  65  66  67 133 134 135 167 103 168 141 177  82 122 123 157  63 178\n",
      "  91  90 108 172 109 110 149 130 131 132  74  75 119 120 188 184  97  98\n",
      "  99 100 139 175 180 142 143 144 145 150 151 152 160 165 166  39  40  41\n",
      " 170  38 169 182 186 189  68  69  70  71  72  73  92  93  94  95  96 102\n",
      " 104 111 112   8   9  84 181  86  87  85 124 127 137 138 154 185 115 116]\n",
      "The following are not valid: []\n",
      "\n",
      "----- Working on L4 ------\n",
      "-- Axon Group 0 of size 19--\n",
      "   Working on soma 0, starting_node 0\n",
      "Not using AIS angle threshold\n",
      "sk_angle= 103.48017090557377\n",
      "*****Path to axon group not valid******\n",
      "\n",
      "\n",
      "For limb 4 the valid axon branches are []\n",
      "The following are not valid: [20, 21, 22, 23, 24, 25, 26, 27, 28, 29, 30, 31, 32, 33, 34, 35, 36, 37, 38]\n",
      "\n",
      "----- Working on L7 ------\n",
      "\n",
      "\n",
      "For limb 7 the valid axon branches are []\n",
      "The following are not valid: []\n",
      "final_error_axons = {'L3': array([14, 15, 16]), 'L5': array([], dtype=int64), 'L6': array([13, 14, 15]), 'L0': [46, 47, 48, 49, 57, 58, 59, 60, 61, 62, 63, 64, 67, 68, 69, 70, 72, 73, 74, 75, 76, 77, 78, 79, 82, 84, 85, 86, 87, 88, 90, 91, 94, 95, 96, 97, 98, 101, 102, 103, 104, 105, 106, 107, 108, 109, 114], 'L1': [80, 81, 82, 83, 84], 'L2': [], 'L4': [20, 21, 22, 23, 24, 25, 26, 27, 28, 29, 30, 31, 32, 33, 34, 35, 36, 37, 38], 'L7': []}\n",
      "\n",
      "\n",
      " -------- Total number of error faces = 95884 --------------\n"
     ]
    },
    {
     "data": {
      "application/vnd.jupyter.widget-view+json": {
       "model_id": "1d24f3b4bde543d18f6a98fe6f180e0d",
       "version_major": 2,
       "version_minor": 0
      },
      "text/plain": [
       "VBox(children=(Figure(camera=PerspectiveCamera(fov=46.0, position=(0.0, 0.0, 2.0), quaternion=(0.0, 0.0, 0.0, …"
      ]
     },
     "metadata": {},
     "output_type": "display_data"
    }
   ],
   "source": [
    "ed = reload(ed)\n",
    "sk = reload(sk)\n",
    "xu = reload(xu)\n",
    "curr_err_faces = ed.error_faces_by_axons(neuron_obj,visualize_errors_at_end=True,verbose=True)"
   ]
  },
  {
   "cell_type": "code",
   "execution_count": 64,
   "metadata": {},
   "outputs": [
    {
     "name": "stdout",
     "output_type": "stream",
     "text": [
      "\n",
      " Working on visualization type: mesh\n",
      "Working on  new stand alone scatter points\n"
     ]
    },
    {
     "data": {
      "application/vnd.jupyter.widget-view+json": {
       "model_id": "82347f7c6fe94d3d8188baf54779986e",
       "version_major": 2,
       "version_minor": 0
      },
      "text/plain": [
       "VBox(children=(Figure(camera=PerspectiveCamera(fov=46.0, position=(0.0, 0.0, 2.0), quaternion=(0.0, 0.0, 0.0, …"
      ]
     },
     "metadata": {},
     "output_type": "display_data"
    }
   ],
   "source": [
    "ret_colors = nviz.visualize_neuron(neuron_obj,\n",
    "                      visualize_type=[\"mesh\"],\n",
    "                     limb_branch_dict=dict(L2=\"all\"),\n",
    "                     mesh_resolution=\"limb\",\n",
    "                                   mesh_color_alpha=1,\n",
    "                     return_color_dict=True)"
   ]
  },
  {
   "cell_type": "code",
   "execution_count": 62,
   "metadata": {},
   "outputs": [
    {
     "data": {
      "text/plain": [
       "{'L0': array([0., 0., 1., 1.]),\n",
       " 'L1': array([0.        , 0.50196078, 0.        , 1.        ]),\n",
       " 'L2': array([1., 0., 0., 1.]),\n",
       " 'L3': array([0., 1., 1., 1.]),\n",
       " 'L4': array([1., 0., 1., 1.]),\n",
       " 'L5': array([0., 0., 0., 1.]),\n",
       " 'L6': array([0.50196078, 0.50196078, 0.50196078, 1.        ]),\n",
       " 'L7': array([0.09803922, 0.09803922, 0.43921569, 1.        ]),\n",
       " 'L8': array([1.        , 0.75294118, 0.79607843, 1.        ]),\n",
       " 'L9': array([0.8627451 , 0.07843137, 0.23529412, 1.        ]),\n",
       " 'S0': array([1. , 0. , 0. , 0.2])}"
      ]
     },
     "execution_count": 62,
     "metadata": {},
     "output_type": "execute_result"
    }
   ],
   "source": [
    "ret_colors"
   ]
  },
  {
   "cell_type": "code",
   "execution_count": 63,
   "metadata": {},
   "outputs": [
    {
     "data": {
      "image/png": "[encoded data removed]",
      "text/plain": [
       "<Figure size 432x288 with 1 Axes>"
      ]
     },
     "metadata": {},
     "output_type": "display_data"
    }
   ],
   "source": [
    "nviz.plot_soma_limb_concept_network(neuron_obj,\n",
    "                                     node_colors=ret_colors)"
   ]
  },
  {
   "cell_type": "code",
   "execution_count": null,
   "metadata": {},
   "outputs": [],
   "source": []
  },
  {
   "cell_type": "code",
   "execution_count": null,
   "metadata": {},
   "outputs": [],
   "source": []
  },
  {
   "cell_type": "code",
   "execution_count": null,
   "metadata": {},
   "outputs": [],
   "source": []
  },
  {
   "cell_type": "code",
   "execution_count": null,
   "metadata": {},
   "outputs": [],
   "source": []
  },
  {
   "cell_type": "code",
   "execution_count": null,
   "metadata": {},
   "outputs": [],
   "source": []
  },
  {
   "cell_type": "code",
   "execution_count": 46,
   "metadata": {},
   "outputs": [
    {
     "data": {
      "text/plain": [
       "array([ 579857.,  579858.,  579859., ..., 1700793., 1700794., 1700795.])"
      ]
     },
     "execution_count": 46,
     "metadata": {},
     "output_type": "execute_result"
    }
   ],
   "source": [
    "curr_err_faces.astype(\"int\")"
   ]
  },
  {
   "cell_type": "code",
   "execution_count": 48,
   "metadata": {},
   "outputs": [
    {
     "data": {
      "text/plain": [
       "<trimesh.Trimesh(vertices.shape=(158781, 3), faces.shape=(316869, 3))>"
      ]
     },
     "execution_count": 48,
     "metadata": {},
     "output_type": "execute_result"
    }
   ],
   "source": [
    "neuron_obj.mesh.submesh([curr_err_faces.astype(\"int\")],append=True)"
   ]
  },
  {
   "cell_type": "code",
   "execution_count": 15,
   "metadata": {
    "scrolled": true
   },
   "outputs": [
    {
     "name": "stdout",
     "output_type": "stream",
     "text": [
      "> \u001b[0;32m/meshAfterParty/error_detection.py\u001b[0m(419)\u001b[0;36merror_faces_by_axons\u001b[0;34m()\u001b[0m\n",
      "\u001b[0;32m    417 \u001b[0;31m\u001b[0;34m\u001b[0m\u001b[0m\n",
      "\u001b[0m\u001b[0;32m    418 \u001b[0;31m                    \u001b[0mrestricted_skeleton\u001b[0m \u001b[0;34m=\u001b[0m \u001b[0mordered_path_skeleton\u001b[0m\u001b[0;34m[\u001b[0m\u001b[0mkeep_skeleton_indices\u001b[0m\u001b[0;34m]\u001b[0m\u001b[0;34m\u001b[0m\u001b[0;34m\u001b[0m\u001b[0m\n",
      "\u001b[0m\u001b[0;32m--> 419 \u001b[0;31m                    \u001b[0mrestricted_skeleton_endpoints_sk\u001b[0m \u001b[0;34m=\u001b[0m \u001b[0mnp\u001b[0m\u001b[0;34m.\u001b[0m\u001b[0marray\u001b[0m\u001b[0;34m(\u001b[0m\u001b[0;34m[\u001b[0m\u001b[0mrestricted_skeleton\u001b[0m\u001b[0;34m[\u001b[0m\u001b[0;36m0\u001b[0m\u001b[0;34m]\u001b[0m\u001b[0;34m[\u001b[0m\u001b[0;36m0\u001b[0m\u001b[0;34m]\u001b[0m\u001b[0;34m,\u001b[0m\u001b[0mrestricted_skeleton\u001b[0m\u001b[0;34m[\u001b[0m\u001b[0;34m-\u001b[0m\u001b[0;36m1\u001b[0m\u001b[0;34m]\u001b[0m\u001b[0;34m[\u001b[0m\u001b[0;34m-\u001b[0m\u001b[0;36m1\u001b[0m\u001b[0;34m]\u001b[0m\u001b[0;34m]\u001b[0m\u001b[0;34m)\u001b[0m\u001b[0;34m.\u001b[0m\u001b[0mreshape\u001b[0m\u001b[0;34m(\u001b[0m\u001b[0;34m-\u001b[0m\u001b[0;36m1\u001b[0m\u001b[0;34m,\u001b[0m\u001b[0;36m2\u001b[0m\u001b[0;34m,\u001b[0m\u001b[0;36m3\u001b[0m\u001b[0;34m)\u001b[0m\u001b[0;34m\u001b[0m\u001b[0;34m\u001b[0m\u001b[0m\n",
      "\u001b[0m\u001b[0;32m    420 \u001b[0;31m                    \u001b[0mrestricted_skeleton_vector\u001b[0m \u001b[0;34m=\u001b[0m \u001b[0mnp\u001b[0m\u001b[0;34m.\u001b[0m\u001b[0marray\u001b[0m\u001b[0;34m(\u001b[0m\u001b[0mrestricted_skeleton\u001b[0m\u001b[0;34m[\u001b[0m\u001b[0;34m-\u001b[0m\u001b[0;36m1\u001b[0m\u001b[0;34m]\u001b[0m\u001b[0;34m[\u001b[0m\u001b[0;34m-\u001b[0m\u001b[0;36m1\u001b[0m\u001b[0;34m]\u001b[0m\u001b[0;34m-\u001b[0m\u001b[0mrestricted_skeleton\u001b[0m\u001b[0;34m[\u001b[0m\u001b[0;36m0\u001b[0m\u001b[0;34m]\u001b[0m\u001b[0;34m[\u001b[0m\u001b[0;36m0\u001b[0m\u001b[0;34m]\u001b[0m\u001b[0;34m)\u001b[0m\u001b[0;34m\u001b[0m\u001b[0;34m\u001b[0m\u001b[0m\n",
      "\u001b[0m\u001b[0;32m    421 \u001b[0;31m                    \u001b[0mrestricted_skeleton_vector\u001b[0m \u001b[0;34m=\u001b[0m \u001b[0mrestricted_skeleton_vector\u001b[0m\u001b[0;34m/\u001b[0m\u001b[0mnp\u001b[0m\u001b[0;34m.\u001b[0m\u001b[0mlinalg\u001b[0m\u001b[0;34m.\u001b[0m\u001b[0mnorm\u001b[0m\u001b[0;34m(\u001b[0m\u001b[0mrestricted_skeleton_vector\u001b[0m\u001b[0;34m)\u001b[0m\u001b[0;34m\u001b[0m\u001b[0;34m\u001b[0m\u001b[0m\n",
      "\u001b[0m\n",
      "ipdb> ordered_path_skeleton\n",
      "array([], shape=(0, 2, 3), dtype=float64)\n",
      "ipdb> path_skeletons\n",
      "array([[[ 512371.        ,  688665.        , 1068810.        ],\n",
      "        [ 512592.        ,  688283.        , 1068190.        ]],\n",
      "\n",
      "       [[ 512592.        ,  688283.        , 1068190.        ],\n",
      "        [ 512790.        ,  688039.        , 1067730.        ]],\n",
      "\n",
      "       [[ 512790.        ,  688039.        , 1067730.        ],\n",
      "        [ 512988.        ,  687857.        , 1067330.        ]],\n",
      "\n",
      "       ...,\n",
      "\n",
      "       [[ 518947.39413275,  711717.79612181, 1055578.06095251],\n",
      "        [ 518951.55521723,  711618.91017328, 1055592.35271789]],\n",
      "\n",
      "       [[ 518951.51441485,  711420.6046065 , 1055617.93206683],\n",
      "        [ 518952.62161372,  711519.82674215, 1055605.5327964 ]],\n",
      "\n",
      "       [[ 518951.55521723,  711618.91017328, 1055592.35271789],\n",
      "        [ 518952.62161372,  711519.82674215, 1055605.5327964 ]]])\n",
      "ipdb> start_coord\n",
      "array([ 519245.,  688147., 1060650.])\n",
      "ipdb> import system_utils as su\n",
      "ipdb> su.compressed_pickle(path_skeletons,\"error_sk\")\n",
      "Saved object at /notebooks/Platinum_Datajoint/Error_Detection/error_sk.pbz2\n",
      "File size is 0.013691 MB\n",
      "ipdb> c\n"
     ]
    }
   ],
   "source": [
    "if True:\n",
    "        nviz.plot_objects(main_mesh = neuron_obj.mesh,\n",
    "            meshes=[neuron_obj.mesh.submesh(error_faces_concat,append=True)],\n",
    "                         meshes_colors=[\"red\"])"
   ]
  },
  {
   "cell_type": "code",
   "execution_count": 17,
   "metadata": {},
   "outputs": [],
   "source": [
    "import numpy as np\n",
    "import system_utils as su\n",
    "start_coord = np.array([ 519245.,  688147., 1060650.])"
   ]
  },
  {
   "cell_type": "code",
   "execution_count": 25,
   "metadata": {},
   "outputs": [
    {
     "data": {
      "text/plain": [
       "array([[[ 512371.        ,  688665.        , 1068810.        ],\n",
       "        [ 512592.        ,  688283.        , 1068190.        ]],\n",
       "\n",
       "       [[ 512592.        ,  688283.        , 1068190.        ],\n",
       "        [ 512790.        ,  688039.        , 1067730.        ]],\n",
       "\n",
       "       [[ 512790.        ,  688039.        , 1067730.        ],\n",
       "        [ 512988.        ,  687857.        , 1067330.        ]],\n",
       "\n",
       "       ...,\n",
       "\n",
       "       [[ 518947.39413275,  711717.79612181, 1055578.06095251],\n",
       "        [ 518951.55521723,  711618.91017328, 1055592.35271789]],\n",
       "\n",
       "       [[ 518951.51441485,  711420.6046065 , 1055617.93206683],\n",
       "        [ 518952.62161372,  711519.82674215, 1055605.5327964 ]],\n",
       "\n",
       "       [[ 518951.55521723,  711618.91017328, 1055592.35271789],\n",
       "        [ 518952.62161372,  711519.82674215, 1055605.5327964 ]]])"
      ]
     },
     "execution_count": 25,
     "metadata": {},
     "output_type": "execute_result"
    }
   ],
   "source": [
    "path_skeletons = su.decompress_pickle(\"error_sk.pbz2\")\n",
    "path_skeletons"
   ]
  },
  {
   "cell_type": "code",
   "execution_count": 19,
   "metadata": {},
   "outputs": [],
   "source": [
    "import skeleton_utils as sk"
   ]
  },
  {
   "cell_type": "code",
   "execution_count": 26,
   "metadata": {},
   "outputs": [],
   "source": [
    "sk = reload(sk)"
   ]
  },
  {
   "cell_type": "code",
   "execution_count": 27,
   "metadata": {},
   "outputs": [
    {
     "name": "stdout",
     "output_type": "stream",
     "text": [
      "sk_graph_endpt_nodes = [236 406 521]\n",
      "Using start_endpoint_coordinate = [ 519245.  688147. 1060650.]\n",
      "start_node_idx = [2]\n",
      "shortest_path = [521]\n"
     ]
    },
    {
     "data": {
      "text/plain": [
       "array([], shape=(0, 2, 3), dtype=float64)"
      ]
     },
     "execution_count": 27,
     "metadata": {},
     "output_type": "execute_result"
    }
   ],
   "source": [
    "sk.order_skeleton(path_skeletons,start_coord,verbose=True)"
   ]
  },
  {
   "cell_type": "code",
   "execution_count": 31,
   "metadata": {},
   "outputs": [
    {
     "name": "stdout",
     "output_type": "stream",
     "text": [
      "sk_graph_endpt_nodes = [236 406 521]\n"
     ]
    }
   ],
   "source": [
    "import networkx_utils as xu\n",
    "verbose = True\n",
    "#1) Convert to graph\n",
    "sk_graph = sk.convert_skeleton_to_graph(path_skeletons)\n",
    "#2) Find the endpoint nodes\n",
    "sk_graph_endpt_nodes = np.array(xu.get_nodes_of_degree_k(sk_graph,1))\n",
    "if verbose:\n",
    "    print(f\"sk_graph_endpt_nodes = {sk_graph_endpt_nodes}\")"
   ]
  },
  {
   "cell_type": "code",
   "execution_count": 34,
   "metadata": {},
   "outputs": [
    {
     "data": {
      "application/vnd.jupyter.widget-view+json": {
       "model_id": "4dd2656b54aa47399a72afcfe816819c",
       "version_major": 2,
       "version_minor": 0
      },
      "text/plain": [
       "VBox(children=(Figure(camera=PerspectiveCamera(fov=46.0, position=(0.0, 0.0, 2.0), quaternion=(0.0, 0.0, 0.0, …"
      ]
     },
     "metadata": {},
     "output_type": "display_data"
    }
   ],
   "source": [
    "nviz.plot_objects(skeletons=[path_skeletons])"
   ]
  },
  {
   "cell_type": "code",
   "execution_count": 36,
   "metadata": {},
   "outputs": [
    {
     "data": {
      "text/plain": [
       "[4, 6]"
      ]
     },
     "execution_count": 36,
     "metadata": {},
     "output_type": "execute_result"
    }
   ],
   "source": [
    "x = [4,5,6]\n",
    "x.remove(5)\n",
    "x"
   ]
  },
  {
   "cell_type": "code",
   "execution_count": null,
   "metadata": {},
   "outputs": [],
   "source": []
  },
  {
   "cell_type": "code",
   "execution_count": 33,
   "metadata": {},
   "outputs": [
    {
     "data": {
      "text/plain": [
       "1"
      ]
     },
     "execution_count": 33,
     "metadata": {},
     "output_type": "execute_result"
    }
   ],
   "source": [
    "nx.number_connected_components(sk_graph)"
   ]
  },
  {
   "cell_type": "code",
   "execution_count": null,
   "metadata": {},
   "outputs": [],
   "source": [
    "remaining_limbs = nru.filter_limbs_below_soma_percentile(neuron_obj,visualize_remianing_neuron=True,verbose=False)"
   ]
  },
  {
   "cell_type": "code",
   "execution_count": null,
   "metadata": {},
   "outputs": [],
   "source": [
    "ret_col = nviz.visualize_neuron(neuron_obj,\n",
    "                     visualize_type=[\"mesh\",\"skeleton\"],\n",
    "                     limb_branch_dict=dict(\n",
    "                     return_color_dict=True)"
   ]
  },
  {
   "cell_type": "code",
   "execution_count": null,
   "metadata": {},
   "outputs": [],
   "source": [
    "nru = reload(nru)\n",
    "nru.same_soma_multi_touching_limbs(neuron_obj,return_n_touches=True)"
   ]
  },
  {
   "cell_type": "markdown",
   "metadata": {},
   "source": [
    "# How to identify things as axons"
   ]
  },
  {
   "cell_type": "code",
   "execution_count": null,
   "metadata": {},
   "outputs": [],
   "source": [
    "import neuron_searching as ns"
   ]
  },
  {
   "cell_type": "code",
   "execution_count": null,
   "metadata": {},
   "outputs": [],
   "source": [
    "current_neuron = neuron_obj"
   ]
  },
  {
   "cell_type": "code",
   "execution_count": null,
   "metadata": {},
   "outputs": [],
   "source": [
    "axon_like_limb_branch_dict = ns.axon_width_like_segments(current_neuron,\n",
    "                                                        include_ais=False)\n",
    "\n",
    "# nviz.visualize_neuron(current_neuron,\n",
    "#                       visualize_type=[\"mesh\"],\n",
    "#                      limb_branch_dict=axon_like_limb_branch_dict,\n",
    "#                      mesh_color=\"red\",\n",
    "#                       mesh_color_alpha=1,\n",
    "#                      mesh_whole_neuron=True)"
   ]
  },
  {
   "cell_type": "code",
   "execution_count": null,
   "metadata": {},
   "outputs": [],
   "source": [
    "#How to give a limb_branch_dict as an argument\n",
    "ns = reload(ns)\n",
    "current_functions_list = [\"axon_segment\"]\n",
    "limb_branch_dict_upstream_filter = ns.query_neuron(current_neuron,\n",
    "                                   query=\"axon_segment==True\",\n",
    "                                   function_kwargs=dict(limb_branch_dict =axon_like_limb_branch_dict,\n",
    "                                                        downstream_face_threshold=3000,\n",
    "                                                        width_match_threshold=50,\n",
    "                                                       print_flag=False),\n",
    "                                   functions_list=current_functions_list)\n"
   ]
  },
  {
   "cell_type": "code",
   "execution_count": null,
   "metadata": {},
   "outputs": [],
   "source": [
    "colors_dict_returned = nviz.visualize_neuron(current_neuron,\n",
    "                                             visualize_type=[\"mesh\"],\n",
    "                      limb_branch_dict=limb_branch_dict_upstream_filter,\n",
    "                     mesh_color=\"red\",\n",
    "                     mesh_color_alpha=1,\n",
    "                     mesh_whole_neuron=True,\n",
    "                     return_color_dict=True)"
   ]
  },
  {
   "cell_type": "markdown",
   "metadata": {},
   "source": [
    "# Seeing the Degrees of the Path for the self intersections"
   ]
  },
  {
   "cell_type": "code",
   "execution_count": null,
   "metadata": {},
   "outputs": [],
   "source": [
    "\"\"\"\n",
    "Find path to cut:\n",
    "1) Get the concept network\n",
    "2) Get all of the starting nodes for somas\n",
    "3) Get the shortest path between each combination of starting nodes\n",
    "\n",
    "\"\"\"\n",
    "import networkx_utils as xu\n",
    "def get_best_cut_edge(curr_limb_graph,cut_path,degrees_of_path):\n",
    "    #get all indexes that are 4 or higher\n",
    "    high_degree_indexes = np.where(degrees_of_path>=4)[0]\n",
    "    if len(high_degree_indexes) == 0:\n",
    "        return None\n",
    "    else:\n",
    "        \"\"\"\n",
    "        If there are one or more 4 degree nodes\n",
    "        1) Find the highest degree node\n",
    "        2) Find the \n",
    "        \n",
    "        \"\"\"\n",
    "        np.argmax(degrees_of_path)\n",
    "\n",
    "\n",
    "import itertools\n",
    "import networkx as nx\n",
    "import copy\n",
    "\n",
    "verbose = True\n",
    "\n",
    "curr_limb_idx = 1\n",
    "curr_limb = neuron_obj[curr_limb_idx]\n",
    "curr_limb_graph = copy.deepcopy(curr_limb.concept_network)\n",
    "\n",
    "#2) Get all of the starting nodes for somas\n",
    "all_starting_nodes = [k[\"starting_node\"] for k in curr_limb.all_concept_network_data]\n",
    "\n",
    "starting_node_combinations = list(itertools.combinations(all_starting_nodes,2))\n",
    "\n",
    "for st_n_1,st_n_2 in starting_node_combinations:\n",
    "    # need to keep cutting until no path for them\n",
    "    if verbose:\n",
    "        print(f\"---- working on disconnecting {st_n_1} and {st_n_2}\")\n",
    "        \n",
    "    counter = 0\n",
    "    while True:\n",
    "        if verbose:\n",
    "            print(f\" Cut iteration {counter}\")\n",
    "        try:\n",
    "            soma_to_soma_path = nx.shortest_path(curr_limb_graph,st_n_1,st_n_2)\n",
    "        except:\n",
    "            print(\"No valid path so just skipping \")\n",
    "            break\n",
    "\n",
    "        if verbose:\n",
    "            print(f\"Shortest path = {soma_to_soma_path}\")\n",
    "            \n",
    "        degrees_of_path = xu.get_node_degree(neuron_obj[curr_limb_idx].concept_network,node_name=soma_to_soma_path)\n",
    "        print(f\"degrees_of_path  = {degrees_of_path}\")\n",
    "\n",
    "        # say we found the cut node to make\n",
    "        cut_edge = get_best_cut_edge(curr_limb_graph,soma_to_soma_path,degrees_of_path)\n",
    "        curr_limb_graph.remove_edge(*cut_edge)\n",
    "        \n",
    "        counter += 1\n",
    "        break\n",
    "\n",
    "\n",
    "seperated_graphs = list(nx.connected_components(curr_limb_graph))\n",
    "print(f\"Total number of graphs at the end of the split = {len(seperated_graphs)}\")\n",
    "\n"
   ]
  },
  {
   "cell_type": "code",
   "execution_count": null,
   "metadata": {},
   "outputs": [],
   "source": [
    "highlight_color = [1,0,0,1]\n",
    "curr_errors = [4, 5, 3, 6, 61, 63, 37, 40, 100, 39, 96, 47, 50, 49, 51]\n",
    "nviz.visualize_neuron(neuron_obj,\n",
    "                      visualize_type=[\"mesh\",\"skeleton\",\"network\"],\n",
    "                     limb_branch_dict={f\"L{curr_limb_idx}\":\"all\"},\n",
    "                      mesh_color={f\"L{curr_limb_idx}\":dict([(k,highlight_color) for k in curr_errors])},\n",
    "                      #mesh_color = \"green\",\n",
    "                      mesh_fill_color=\"green\",\n",
    "                      skeleton_color=\"green\",\n",
    "                      skeleton_fill_color=\"green\",\n",
    "                      \n",
    "                      \n",
    "                     )"
   ]
  },
  {
   "cell_type": "markdown",
   "metadata": {},
   "source": [
    "# B) Getting All of the Branches That are a certain Distance Away ---"
   ]
  },
  {
   "cell_type": "code",
   "execution_count": null,
   "metadata": {},
   "outputs": [],
   "source": [
    "soma_idx = 0"
   ]
  },
  {
   "cell_type": "code",
   "execution_count": null,
   "metadata": {},
   "outputs": [],
   "source": [
    "distance_from_soma_threshold = 30000\n",
    "close_limb_branch_dict = ns.query_neuron(current_neuron,\n",
    "                                        functions_list=[ns.skeletal_distance_from_soma],\n",
    "                                        query=f\"skeletal_distance_from_soma<{distance_from_soma_threshold}\",\n",
    "                                        function_kwargs=dict(somas=[soma_idx]),\n",
    "                                         #return_dataframe=False\n",
    "\n",
    "\n",
    "                                        )\n",
    "close_limb_branch_dict\n",
    "\n",
    "colors_dict_returned = nviz.visualize_neuron(current_neuron,\n",
    "                      limb_branch_dict=close_limb_branch_dict,\n",
    "                     mesh_color=\"red\",\n",
    "                     mesh_color_alpha=1,\n",
    "                     mesh_whole_neuron=True,\n",
    "                     return_color_dict=True)"
   ]
  },
  {
   "cell_type": "code",
   "execution_count": null,
   "metadata": {},
   "outputs": [],
   "source": []
  }
 ],
 "metadata": {
  "kernelspec": {
   "display_name": "Python 3",
   "language": "python",
   "name": "python3"
  },
  "language_info": {
   "codemirror_mode": {
    "name": "ipython",
    "version": 3
   },
   "file_extension": ".py",
   "mimetype": "text/x-python",
   "name": "python",
   "nbconvert_exporter": "python",
   "pygments_lexer": "ipython3",
   "version": "3.6.9"
  }
 },
 "nbformat": 4,
 "nbformat_minor": 4
}
