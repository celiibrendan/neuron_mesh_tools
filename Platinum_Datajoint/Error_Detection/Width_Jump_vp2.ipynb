{
 "cells": [
  {
   "cell_type": "code",
   "execution_count": 1,
   "metadata": {},
   "outputs": [],
   "source": [
    "from os import sys\n",
    "sys.path.append(\"/meshAfterParty/\")"
   ]
  },
  {
   "cell_type": "code",
   "execution_count": 2,
   "metadata": {},
   "outputs": [
    {
     "name": "stderr",
     "output_type": "stream",
     "text": [
      "INFO - 2020-11-27 10:29:00,159 - settings - Setting database.host to at-database.ad.bcm.edu\n",
      "INFO - 2020-11-27 10:29:00,160 - settings - Setting database.user to celiib\n",
      "INFO - 2020-11-27 10:29:00,160 - settings - Setting database.password to newceliipass\n"
     ]
    }
   ],
   "source": [
    "from importlib import reload\n",
    "import os\n",
    "from pathlib import Path\n",
    "import neuron_utils as nru\n",
    "nru = reload(nru)\n",
    "import neuron\n",
    "neuron=reload(neuron)\n",
    "import neuron_visualizations as nviz\n",
    "import time\n",
    "import system_utils as su\n",
    "import datajoint_utils as du\n",
    "import datajoint as dj"
   ]
  },
  {
   "cell_type": "markdown",
   "metadata": {},
   "source": [
    "# Importing neuron to test"
   ]
  },
  {
   "cell_type": "code",
   "execution_count": 3,
   "metadata": {},
   "outputs": [
    {
     "name": "stderr",
     "output_type": "stream",
     "text": [
      "INFO - 2020-11-27 10:29:55,675 - settings - Setting stores to {'minnie65': {'protocol': 'file', 'location': '/mnt/dj-stor01/platinum/minnie65', 'stage': '/mnt/dj-stor01/platinum/minnie65'}, 'meshes': {'protocol': 'file', 'location': '/mnt/dj-stor01/platinum/minnie65/02/meshes', 'stage': '/mnt/dj-stor01/platinum/minnie65/02/meshes'}, 'decimated_meshes': {'protocol': 'file', 'location': '/mnt/dj-stor01/platinum/minnie65/02/decimated_meshes', 'stage': '/mnt/dj-stor01/platinum/minnie65/02/decimated_meshes'}, 'skeletons': {'protocol': 'file', 'location': '/mnt/dj-stor01/platinum/minnie65/02/skeletons'}}\n",
      "INFO - 2020-11-27 10:29:55,676 - settings - Setting enable_python_native_blobs to True\n",
      "INFO - 2020-11-27 10:29:55,691 - connection - Connected celiib@at-database.ad.bcm.edu:3306\n",
      "INFO - 2020-11-27 10:29:55,869 - settings - Setting enable_python_native_blobs to True\n"
     ]
    },
    {
     "name": "stdout",
     "output_type": "stream",
     "text": [
      "Connecting celiib@at-database.ad.bcm.edu:3306\n"
     ]
    }
   ],
   "source": [
    "import neuron_visualizations as nviz\n",
    "curr_seg_id = 864691134884741882\n",
    "minnie,schema = du.configure_minnie_vm()"
   ]
  },
  {
   "cell_type": "code",
   "execution_count": 4,
   "metadata": {},
   "outputs": [
    {
     "name": "stderr",
     "output_type": "stream",
     "text": [
      "INFO - 2020-11-27 10:29:57,653 - settings - Setting enable_python_native_blobs to True\n",
      "INFO - 2020-11-27 10:29:57,838 - settings - Setting enable_python_native_blobs to True\n"
     ]
    },
    {
     "name": "stdout",
     "output_type": "stream",
     "text": [
      "Decompressing Neuron in minimal output mode...please wait\n"
     ]
    }
   ],
   "source": [
    "neuron_obj = (minnie.Decomposition() & dict(segment_id=curr_seg_id)).fetch1(\"decomposition\")"
   ]
  },
  {
   "cell_type": "code",
   "execution_count": 5,
   "metadata": {},
   "outputs": [
    {
     "name": "stdout",
     "output_type": "stream",
     "text": [
      "\n",
      " Working on visualization type: mesh\n",
      "\n",
      " Working on visualization type: skeleton\n",
      "Working on  new stand alone scatter points\n"
     ]
    },
    {
     "data": {
      "application/vnd.jupyter.widget-view+json": {
       "model_id": "b7bac2a04e744247a45f34fcf5f031e2",
       "version_major": 2,
       "version_minor": 0
      },
      "text/plain": [
       "VBox(children=(Figure(camera=PerspectiveCamera(fov=46.0, position=(0.0, 0.0, 2.0), quaternion=(0.0, 0.0, 0.0, …"
      ]
     },
     "metadata": {},
     "output_type": "display_data"
    }
   ],
   "source": [
    "ret_col = nviz.visualize_neuron(neuron_obj,\n",
    "                     visualize_type=[\"mesh\",\"skeleton\"],\n",
    "                     limb_branch_dict=\"all\",\n",
    "                     return_color_dict=True)"
   ]
  },
  {
   "cell_type": "code",
   "execution_count": 7,
   "metadata": {},
   "outputs": [
    {
     "data": {
      "text/plain": [
       "array([0, 1])"
      ]
     },
     "execution_count": 7,
     "metadata": {},
     "output_type": "execute_result"
    }
   ],
   "source": [
    "nru.same_soma_multi_touching_limbs(neuron_obj)"
   ]
  },
  {
   "cell_type": "markdown",
   "metadata": {},
   "source": [
    "# Applying the Algorithm"
   ]
  },
  {
   "cell_type": "code",
   "execution_count": 12,
   "metadata": {},
   "outputs": [
    {
     "name": "stdout",
     "output_type": "stream",
     "text": [
      "Working on Soma 0 and Soma touching group 0\n",
      "Working on soma group 0\n"
     ]
    },
    {
     "data": {
      "application/vnd.jupyter.widget-view+json": {
       "model_id": "550cf62fc5c3411cb3ffdefd61464af3",
       "version_major": 2,
       "version_minor": 0
      },
      "text/plain": [
       "HBox(children=(FloatProgress(value=0.0, max=138.0), HTML(value='')))"
      ]
     },
     "metadata": {},
     "output_type": "display_data"
    },
    {
     "name": "stdout",
     "output_type": "stream",
     "text": [
      "  Edge: (18, 16)\n",
      "  Edge: (18, 22)\n",
      "  Edge: (16, 0)\n",
      "  Edge: (16, 14)\n",
      "  Edge: (22, 33)\n",
      "  Edge: (22, 54)\n",
      "  Edge: (0, 128)\n",
      "  Edge: (0, 129)\n",
      "  Edge: (33, 10)\n",
      "  Edge: (33, 32)\n",
      "  Edge: (54, 53)\n",
      "  Edge: (54, 66)\n",
      "  Edge: (10, 9)\n",
      "  Edge: (10, 11)\n",
      "  Edge: (32, 17)\n",
      "  Edge: (32, 19)\n",
      "  Edge: (53, 52)\n",
      "  Edge: (53, 81)\n",
      "  Edge: (66, 65)\n",
      "  Edge: (66, 89)\n",
      "  Edge: (11, 36)\n",
      "  Edge: (11, 120)\n",
      "  Edge: (17, 15)\n",
      "  Edge: (17, 34)\n",
      "  Edge: (19, 13)\n",
      "  Edge: (19, 20)\n",
      "  Edge: (52, 51)\n",
      "  Edge: (52, 71)\n",
      "  Edge: (81, 80)\n",
      "  Edge: (81, 93)\n",
      "  Edge: (65, 64)\n",
      "  Edge: (65, 92)\n",
      "  Edge: (65, 99)\n",
      "  Edge: (36, 39)\n",
      "  Edge: (36, 136)\n",
      "  Edge: (34, 6)\n",
      "  Edge: (34, 111)\n",
      "  Edge: (13, 7)\n",
      "  Edge: (13, 12)\n",
      "  Edge: (20, 40)\n",
      "  Edge: (20, 137)\n",
      "  Edge: (51, 50)\n",
      "  Edge: (51, 56)\n",
      "  Edge: (64, 63)\n",
      "  Edge: (64, 96)\n",
      "  Edge: (39, 37)\n",
      "  Edge: (39, 122)\n",
      "  Edge: (39, 125)\n",
      "  Edge: (6, 131)\n",
      "  Edge: (6, 133)\n",
      "  Edge: (111, 110)\n",
      "  Edge: (111, 112)\n",
      "  Edge: (7, 4)\n",
      "  Edge: (7, 8)\n",
      "  Edge: (40, 21)\n",
      "  Edge: (40, 23)\n",
      "  Edge: (50, 49)\n",
      "  Edge: (50, 83)\n",
      "  Edge: (56, 42)\n",
      "  Edge: (56, 55)\n",
      "  Edge: (63, 62)\n",
      "  Edge: (63, 86)\n",
      "  Edge: (63, 88)\n",
      "  Edge: (63, 90)\n",
      "  Edge: (37, 38)\n",
      "  Edge: (37, 134)\n",
      "  Edge: (37, 135)\n",
      "  Edge: (122, 43)\n",
      "  Edge: (122, 124)\n",
      "  Edge: (131, 130)\n",
      "  Edge: (131, 132)\n",
      "  Edge: (110, 100)\n",
      "  Edge: (110, 108)\n",
      "  Edge: (4, 2)\n",
      "  Edge: (4, 5)\n",
      "  Edge: (23, 25)\n",
      "  Edge: (23, 26)\n",
      "  Edge: (49, 48)\n",
      "  Edge: (49, 59)\n",
      "  Edge: (42, 45)\n",
      "  Edge: (42, 44)\n",
      "  Edge: (86, 85)\n",
      "  Edge: (86, 97)\n",
      "  Edge: (124, 121)\n",
      "  Edge: (124, 123)\n",
      "  Edge: (100, 113)\n",
      "  Edge: (100, 115)\n",
      "  Edge: (108, 102)\n",
      "  Edge: (108, 106)\n",
      "  Edge: (108, 114)\n",
      "  Edge: (2, 1)\n",
      "  Edge: (2, 3)\n",
      "  Edge: (25, 24)\n",
      "  Edge: (25, 27)\n",
      "  Edge: (48, 47)\n",
      "  Edge: (48, 61)\n",
      "  Edge: (59, 58)\n",
      "  Edge: (59, 98)\n",
      "  Edge: (85, 84)\n",
      "  Edge: (85, 95)\n",
      "  Edge: (102, 101)\n",
      "  Edge: (102, 109)\n",
      "  Edge: (106, 103)\n",
      "  Edge: (106, 105)\n",
      "  Edge: (1, 126)\n",
      "  Edge: (1, 127)\n",
      "  Edge: (27, 28)\n",
      "  Edge: (27, 29)\n",
      "  Edge: (47, 46)\n",
      "  Edge: (47, 70)\n",
      "  Edge: (61, 60)\n",
      "  Edge: (61, 77)\n",
      "  Edge: (58, 57)\n",
      "  Edge: (58, 75)\n",
      "  Edge: (105, 104)\n",
      "  Edge: (105, 107)\n",
      "  Edge: (29, 41)\n",
      "  Edge: (29, 138)\n",
      "  Edge: (70, 69)\n",
      "  Edge: (70, 87)\n",
      "  Edge: (75, 74)\n",
      "  Edge: (75, 76)\n",
      "  Edge: (41, 30)\n",
      "  Edge: (41, 31)\n",
      "  Edge: (69, 68)\n",
      "  Edge: (69, 78)\n",
      "  Edge: (74, 73)\n",
      "  Edge: (74, 91)\n",
      "  Edge: (30, 35)\n",
      "  Edge: (30, 118)\n",
      "  Edge: (30, 119)\n",
      "  Edge: (68, 67)\n",
      "  Edge: (68, 79)\n",
      "  Edge: (73, 72)\n",
      "  Edge: (73, 82)\n",
      "  Edge: (73, 94)\n",
      "  Edge: (118, 116)\n",
      "  Edge: (118, 117)\n",
      "\n",
      "Working on Soma 0 and Soma touching group 1\n",
      "Working on soma group 1\n"
     ]
    },
    {
     "data": {
      "application/vnd.jupyter.widget-view+json": {
       "model_id": "aa80da9f8b924567b78d11da65ce7a7c",
       "version_major": 2,
       "version_minor": 0
      },
      "text/plain": [
       "HBox(children=(FloatProgress(value=0.0, max=138.0), HTML(value='')))"
      ]
     },
     "metadata": {},
     "output_type": "display_data"
    },
    {
     "name": "stdout",
     "output_type": "stream",
     "text": [
      "  Edge: (18, 16)\n",
      "  Edge: (16, 0)\n",
      "  Edge: (16, 14)\n",
      "  Edge: (22, 18)\n",
      "  Edge: (22, 54)\n",
      "  Edge: (0, 128)\n",
      "  Edge: (0, 129)\n",
      "  Edge: (33, 22)\n",
      "  Edge: (33, 32)\n",
      "  Edge: (54, 53)\n",
      "  Edge: (54, 66)\n",
      "  Edge: (10, 33)\n",
      "  Edge: (10, 11)\n",
      "  Edge: (32, 17)\n",
      "  Edge: (32, 19)\n",
      "  Edge: (53, 52)\n",
      "  Edge: (53, 81)\n",
      "  Edge: (66, 65)\n",
      "  Edge: (66, 89)\n",
      "  Edge: (9, 10)\n",
      "No skeletons to stack so returning empty list\n",
      "  Edge: (11, 36)\n",
      "  Edge: (11, 120)\n",
      "  Edge: (17, 15)\n",
      "  Edge: (17, 34)\n",
      "  Edge: (19, 13)\n",
      "  Edge: (19, 20)\n",
      "  Edge: (52, 51)\n",
      "  Edge: (52, 71)\n",
      "  Edge: (81, 80)\n",
      "  Edge: (81, 93)\n",
      "  Edge: (65, 64)\n",
      "  Edge: (65, 92)\n",
      "  Edge: (65, 99)\n",
      "  Edge: (36, 39)\n",
      "  Edge: (36, 136)\n",
      "  Edge: (34, 6)\n",
      "  Edge: (34, 111)\n",
      "  Edge: (13, 7)\n",
      "  Edge: (13, 12)\n",
      "  Edge: (20, 40)\n",
      "  Edge: (20, 137)\n",
      "  Edge: (51, 50)\n",
      "  Edge: (64, 63)\n",
      "  Edge: (64, 96)\n",
      "  Edge: (39, 37)\n",
      "  Edge: (39, 122)\n",
      "  Edge: (39, 125)\n",
      "  Edge: (6, 131)\n",
      "  Edge: (6, 133)\n",
      "  Edge: (111, 110)\n",
      "  Edge: (111, 112)\n",
      "  Edge: (7, 4)\n",
      "  Edge: (7, 8)\n",
      "  Edge: (40, 21)\n",
      "  Edge: (40, 23)\n",
      "  Edge: (50, 49)\n",
      "  Edge: (50, 83)\n",
      "  Edge: (56, 55)\n",
      "  Edge: (63, 62)\n",
      "  Edge: (63, 86)\n",
      "  Edge: (63, 88)\n",
      "  Edge: (63, 90)\n",
      "  Edge: (37, 38)\n",
      "  Edge: (37, 134)\n",
      "  Edge: (37, 135)\n",
      "  Edge: (122, 43)\n",
      "  Edge: (122, 45)\n",
      "  Edge: (122, 124)\n",
      "  Edge: (131, 130)\n",
      "  Edge: (131, 132)\n",
      "  Edge: (110, 100)\n",
      "  Edge: (110, 108)\n",
      "  Edge: (4, 2)\n",
      "  Edge: (4, 5)\n",
      "  Edge: (23, 25)\n",
      "  Edge: (23, 26)\n",
      "  Edge: (49, 48)\n",
      "  Edge: (49, 59)\n",
      "  Edge: (42, 56)\n",
      "  Edge: (42, 44)\n",
      "  Edge: (86, 85)\n",
      "  Edge: (86, 97)\n",
      "  Edge: (45, 42)\n",
      "  Edge: (124, 121)\n",
      "  Edge: (124, 123)\n",
      "  Edge: (100, 113)\n",
      "  Edge: (100, 115)\n",
      "  Edge: (108, 102)\n",
      "  Edge: (108, 106)\n",
      "  Edge: (108, 114)\n",
      "  Edge: (2, 1)\n",
      "  Edge: (2, 3)\n",
      "  Edge: (25, 24)\n",
      "  Edge: (25, 27)\n",
      "  Edge: (48, 47)\n",
      "  Edge: (48, 61)\n",
      "  Edge: (59, 58)\n",
      "  Edge: (59, 98)\n",
      "  Edge: (85, 84)\n",
      "  Edge: (85, 95)\n",
      "  Edge: (102, 101)\n",
      "  Edge: (102, 109)\n",
      "  Edge: (106, 103)\n",
      "  Edge: (106, 105)\n",
      "  Edge: (1, 126)\n",
      "  Edge: (1, 127)\n",
      "  Edge: (27, 28)\n",
      "  Edge: (27, 29)\n",
      "  Edge: (47, 46)\n",
      "  Edge: (47, 70)\n",
      "  Edge: (61, 60)\n",
      "  Edge: (61, 77)\n",
      "  Edge: (58, 57)\n",
      "  Edge: (58, 75)\n",
      "  Edge: (105, 104)\n",
      "  Edge: (105, 107)\n",
      "  Edge: (29, 41)\n",
      "  Edge: (29, 138)\n",
      "  Edge: (70, 69)\n",
      "  Edge: (70, 87)\n",
      "  Edge: (75, 74)\n",
      "  Edge: (75, 76)\n",
      "  Edge: (41, 30)\n",
      "  Edge: (41, 31)\n",
      "  Edge: (69, 68)\n",
      "  Edge: (69, 78)\n",
      "  Edge: (74, 73)\n",
      "  Edge: (74, 91)\n",
      "  Edge: (30, 35)\n",
      "  Edge: (30, 118)\n",
      "  Edge: (30, 119)\n",
      "  Edge: (68, 67)\n",
      "  Edge: (68, 79)\n",
      "  Edge: (73, 72)\n",
      "  Edge: (73, 82)\n",
      "  Edge: (73, 94)\n",
      "  Edge: (118, 116)\n",
      "  Edge: (118, 117)\n",
      "\n",
      "Total time for width = 13.18354344367981\n"
     ]
    }
   ],
   "source": [
    "import error_detection as ed  \n",
    "ed = reload(ed)\n",
    "\n",
    "curr_limb_idx = 0\n",
    "\n",
    "error_edges = ed.width_jump_edges(limb=neuron_obj[curr_limb_idx],\n",
    "    width_jump_threshold = 200,\n",
    "    verbose = False)\n",
    "        "
   ]
  },
  {
   "cell_type": "code",
   "execution_count": 13,
   "metadata": {},
   "outputs": [
    {
     "name": "stdout",
     "output_type": "stream",
     "text": [
      "\n",
      " Working on visualization type: mesh\n",
      "\n",
      " Working on visualization type: skeleton\n",
      "\n",
      " Working on visualization type: network\n",
      "Working on  new stand alone scatter points\n"
     ]
    },
    {
     "data": {
      "application/vnd.jupyter.widget-view+json": {
       "model_id": "01563e0c2f6b44feb0bc9559eb8ab9e7",
       "version_major": 2,
       "version_minor": 0
      },
      "text/plain": [
       "VBox(children=(Figure(camera=PerspectiveCamera(fov=46.0, position=(0.0, 0.0, 2.0), quaternion=(0.0, 0.0, 0.0, …"
      ]
     },
     "metadata": {},
     "output_type": "display_data"
    }
   ],
   "source": [
    "import numpy as np\n",
    "curr_soma_idx = 0\n",
    "curr_group_idx = 0\n",
    "curr_errors = np.array(error_edges[curr_soma_idx][curr_group_idx]).ravel() #visualizing culprit and causing\n",
    "\n",
    "highlight_color = [1,0,0,1]\n",
    "nviz.visualize_neuron(neuron_obj,\n",
    "                      visualize_type=[\"mesh\",\"skeleton\",\"network\"],\n",
    "                     limb_branch_dict=dict(L0=\"all\"),\n",
    "                      mesh_color={f\"L{curr_limb_idx}\":dict([(k,highlight_color) for k in curr_errors])},\n",
    "                      #mesh_color = \"green\",\n",
    "                      mesh_fill_color=\"green\",\n",
    "                      skeleton_color=\"green\",\n",
    "                      skeleton_fill_color=\"green\",\n",
    "                      \n",
    "                      \n",
    "                     )"
   ]
  },
  {
   "cell_type": "code",
   "execution_count": null,
   "metadata": {},
   "outputs": [],
   "source": []
  }
 ],
 "metadata": {
  "kernelspec": {
   "display_name": "Python 3",
   "language": "python",
   "name": "python3"
  },
  "language_info": {
   "codemirror_mode": {
    "name": "ipython",
    "version": 3
   },
   "file_extension": ".py",
   "mimetype": "text/x-python",
   "name": "python",
   "nbconvert_exporter": "python",
   "pygments_lexer": "ipython3",
   "version": "3.6.9"
  }
 },
 "nbformat": 4,
 "nbformat_minor": 4
}
