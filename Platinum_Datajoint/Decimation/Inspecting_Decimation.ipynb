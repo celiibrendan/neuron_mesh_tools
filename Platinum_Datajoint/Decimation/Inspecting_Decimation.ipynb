{
 "cells": [
  {
   "cell_type": "code",
   "execution_count": 1,
   "metadata": {},
   "outputs": [
    {
     "name": "stderr",
     "output_type": "stream",
     "text": [
      "WARNING - 2020-11-18 22:05:30,091 - trimesh_repair - Need to pip install annotationframeworkclient to repair mesh with pychunkedgraph\n",
      "WARNING - 2020-11-18 22:05:30,092 - trimesh_io - Need to pip install annotationframeworkclient to use dataset_name parameters\n",
      "INFO - 2020-11-18 22:05:30,280 - settings - Setting database.host to at-database.ad.bcm.edu\n",
      "INFO - 2020-11-18 22:05:30,281 - settings - Setting database.user to celiib\n",
      "INFO - 2020-11-18 22:05:30,281 - settings - Setting database.password to newceliipass\n"
     ]
    }
   ],
   "source": [
    "from os import sys\n",
    "sys.path.append(\"/meshAfterParty/\")\n",
    "from importlib import reload\n",
    "\n",
    "import datajoint as dj\n",
    "from pathlib import Path\n",
    "\n",
    "import datajoint_utils as du\n",
    "du = reload(du)\n",
    "\n",
    "import time"
   ]
  },
  {
   "cell_type": "code",
   "execution_count": 2,
   "metadata": {},
   "outputs": [
    {
     "name": "stderr",
     "output_type": "stream",
     "text": [
      "INFO - 2020-11-18 22:05:30,292 - settings - Setting database.host to at-database.ad.bcm.edu\n",
      "INFO - 2020-11-18 22:05:30,294 - settings - Setting database.user to celiib\n",
      "INFO - 2020-11-18 22:05:30,294 - settings - Setting database.password to newceliipass\n",
      "INFO - 2020-11-18 22:05:30,375 - settings - Setting stores to {'minnie65': {'protocol': 'file', 'location': '/mnt/dj-stor01/platinum/minnie65', 'stage': '/mnt/dj-stor01/platinum/minnie65'}, 'meshes': {'protocol': 'file', 'location': '/mnt/dj-stor01/platinum/minnie65/02/meshes', 'stage': '/mnt/dj-stor01/platinum/minnie65/02/meshes'}, 'decimated_meshes': {'protocol': 'file', 'location': '/mnt/dj-stor01/platinum/minnie65/02/decimated_meshes', 'stage': '/mnt/dj-stor01/platinum/minnie65/02/decimated_meshes'}, 'skeletons': {'protocol': 'file', 'location': '/mnt/dj-stor01/platinum/minnie65/02/skeletons'}}\n",
      "INFO - 2020-11-18 22:05:30,376 - settings - Setting enable_python_native_blobs to True\n",
      "INFO - 2020-11-18 22:05:30,389 - connection - Connected celiib@at-database.ad.bcm.edu:3306\n"
     ]
    },
    {
     "name": "stdout",
     "output_type": "stream",
     "text": [
      "Current path for external_segmentation_path = /mnt/dj-stor01/platinum/minnie65/02\n",
      "Current path for external_mesh_path = /mnt/dj-stor01/platinum/minnie65/02/meshes\n",
      "Current path for external_decimated_mesh_path = /mnt/dj-stor01/platinum/minnie65/02/decimated_meshes\n",
      "Current path for external_skeleton_path = /mnt/dj-stor01/platinum/minnie65/02/skeletons\n",
      "Connecting celiib@at-database.ad.bcm.edu:3306\n"
     ]
    },
    {
     "name": "stderr",
     "output_type": "stream",
     "text": [
      "INFO - 2020-11-18 22:05:30,595 - settings - Setting enable_python_native_blobs to True\n"
     ]
    }
   ],
   "source": [
    "import minfig\n",
    "du.config_celii()\n",
    "du.set_minnie65_config_segmentation(minfig)\n",
    "du.print_minnie65_config_paths(minfig)\n",
    "\n",
    "#configuring will include the adapters\n",
    "minnie,schema = du.configure_minnie_vm()"
   ]
  },
  {
   "cell_type": "markdown",
   "metadata": {},
   "source": [
    "# Investigating Decimation table"
   ]
  },
  {
   "cell_type": "code",
   "execution_count": null,
   "metadata": {},
   "outputs": [],
   "source": [
    "(schema.jobs & \"table_name='__decimation'\" & \"timestamp > '2020-11-16 08:00:00'\")#.delete()#.fetch(\"status\")"
   ]
  },
  {
   "cell_type": "code",
   "execution_count": 3,
   "metadata": {},
   "outputs": [
    {
     "data": {
      "text/plain": [
       "81428"
      ]
     },
     "execution_count": 3,
     "metadata": {},
     "output_type": "execute_result"
    }
   ],
   "source": [
    "len(minnie.Decimation & minnie.SegToDecimateFromNuclei()) - 39348"
   ]
  },
  {
   "cell_type": "code",
   "execution_count": 83,
   "metadata": {},
   "outputs": [
    {
     "data": {
      "text/plain": [
       "40688.69785475098"
      ]
     },
     "execution_count": 83,
     "metadata": {},
     "output_type": "execute_result"
    }
   ],
   "source": [
    "np.exp(12)*0.25"
   ]
  },
  {
   "cell_type": "code",
   "execution_count": 76,
   "metadata": {},
   "outputs": [
    {
     "data": {
      "text/html": [
       "\n",
       "        \n",
       "        <style type=\"text/css\">\n",
       "            .Relation{\n",
       "                border-collapse:collapse;\n",
       "            }\n",
       "            .Relation th{\n",
       "                background: #A0A0A0; color: #ffffff; padding:4px; border:#f0e0e0 1px solid;\n",
       "                font-weight: normal; font-family: monospace; font-size: 100%;\n",
       "            }\n",
       "            .Relation td{\n",
       "                padding:4px; border:#f0e0e0 1px solid; font-size:100%;\n",
       "            }\n",
       "            .Relation tr:nth-child(odd){\n",
       "                background: #ffffff;\n",
       "            }\n",
       "            .Relation tr:nth-child(even){\n",
       "                background: #f3f1ff;\n",
       "            }\n",
       "            /* Tooltip container */\n",
       "            .djtooltip {\n",
       "            }\n",
       "            /* Tooltip text */\n",
       "            .djtooltip .djtooltiptext {\n",
       "                visibility: hidden;\n",
       "                width: 120px;\n",
       "                background-color: black;\n",
       "                color: #fff;\n",
       "                text-align: center;\n",
       "                padding: 5px 0;\n",
       "                border-radius: 6px;\n",
       "                /* Position the tooltip text - see examples below! */\n",
       "                position: absolute;\n",
       "                z-index: 1;\n",
       "            }\n",
       "            #primary {\n",
       "                font-weight: bold;\n",
       "                color: black;\n",
       "            }\n",
       "\n",
       "            #nonprimary {\n",
       "                font-weight: normal;\n",
       "                color: white;\n",
       "            }\n",
       "\n",
       "            /* Show the tooltip text when you mouse over the tooltip container */\n",
       "            .djtooltip:hover .djtooltiptext {\n",
       "                visibility: visible;\n",
       "            }\n",
       "        </style>\n",
       "        \n",
       "        <b>Decimated meshes</b>\n",
       "            <div style=\"max-height:1000px;max-width:1500px;overflow:auto;\">\n",
       "            <table border=\"1\" class=\"Relation\">\n",
       "                <thead> <tr style=\"text-align: right;\"> <th> <div class=\"djtooltip\">\n",
       "                                <p id=\"primary\">segment_id</p>\n",
       "                                <span class=\"djtooltiptext\">segment id unique within each Segmentation</span>\n",
       "                            </div></th><th><div class=\"djtooltip\">\n",
       "                                <p id=\"primary\">version</p>\n",
       "                                <span class=\"djtooltiptext\"></span>\n",
       "                            </div></th><th><div class=\"djtooltip\">\n",
       "                                <p id=\"primary\">decimation_ratio</p>\n",
       "                                <span class=\"djtooltiptext\">ratio of remaining mesh vertices/faces (which ones depends on what metric the decimation technique uses)</span>\n",
       "                            </div></th><th><div class=\"djtooltip\">\n",
       "                                <p id=\"nonprimary\">n_vertices</p>\n",
       "                                <span class=\"djtooltiptext\"></span>\n",
       "                            </div></th><th><div class=\"djtooltip\">\n",
       "                                <p id=\"nonprimary\">n_faces</p>\n",
       "                                <span class=\"djtooltiptext\"></span>\n",
       "                            </div></th><th><div class=\"djtooltip\">\n",
       "                                <p id=\"nonprimary\">mesh</p>\n",
       "                                <span class=\"djtooltiptext\">in-place path to the hdf5 (decimated) mesh file</span>\n",
       "                            </div> </th> </tr> </thead>\n",
       "                <tbody> <tr> <td>864691131559524855</td>\n",
       "<td>0</td>\n",
       "<td>0.25</td>\n",
       "<td>24</td>\n",
       "<td>48</td>\n",
       "<td>=BLOB=</td></tr><tr><td>864691131625403045</td>\n",
       "<td>0</td>\n",
       "<td>0.25</td>\n",
       "<td>11</td>\n",
       "<td>18</td>\n",
       "<td>=BLOB=</td></tr><tr><td>864691131771477291</td>\n",
       "<td>0</td>\n",
       "<td>0.25</td>\n",
       "<td>4</td>\n",
       "<td>4</td>\n",
       "<td>=BLOB=</td></tr><tr><td>864691131834277640</td>\n",
       "<td>0</td>\n",
       "<td>0.25</td>\n",
       "<td>12</td>\n",
       "<td>20</td>\n",
       "<td>=BLOB=</td></tr><tr><td>864691131868306405</td>\n",
       "<td>0</td>\n",
       "<td>0.25</td>\n",
       "<td>4</td>\n",
       "<td>4</td>\n",
       "<td>=BLOB=</td></tr><tr><td>864691131881790489</td>\n",
       "<td>0</td>\n",
       "<td>0.25</td>\n",
       "<td>18</td>\n",
       "<td>32</td>\n",
       "<td>=BLOB=</td></tr><tr><td>864691131906133483</td>\n",
       "<td>0</td>\n",
       "<td>0.25</td>\n",
       "<td>30</td>\n",
       "<td>56</td>\n",
       "<td>=BLOB=</td></tr><tr><td>864691131927301557</td>\n",
       "<td>0</td>\n",
       "<td>0.25</td>\n",
       "<td>4</td>\n",
       "<td>4</td>\n",
       "<td>=BLOB=</td></tr><tr><td>864691131953361537</td>\n",
       "<td>0</td>\n",
       "<td>0.25</td>\n",
       "<td>8</td>\n",
       "<td>12</td>\n",
       "<td>=BLOB=</td></tr><tr><td>864691131956238489</td>\n",
       "<td>0</td>\n",
       "<td>0.25</td>\n",
       "<td>5</td>\n",
       "<td>6</td>\n",
       "<td>=BLOB=</td></tr><tr><td>864691131993414572</td>\n",
       "<td>0</td>\n",
       "<td>0.25</td>\n",
       "<td>5</td>\n",
       "<td>6</td>\n",
       "<td>=BLOB=</td></tr><tr><td>864691131993845256</td>\n",
       "<td>0</td>\n",
       "<td>0.25</td>\n",
       "<td>27</td>\n",
       "<td>50</td>\n",
       "<td>=BLOB=</td> </tr> </tbody>\n",
       "            </table>\n",
       "            <p>...</p>\n",
       "            <p>Total: 396</p></div>\n",
       "            "
      ],
      "text/plain": [
       "*segment_id    *version    *decimation_ra n_vertices     n_faces     mesh      \n",
       "+------------+ +---------+ +------------+ +------------+ +---------+ +--------+\n",
       "86469113155952 0           0.25           24             48          =BLOB=    \n",
       "86469113162540 0           0.25           11             18          =BLOB=    \n",
       "86469113177147 0           0.25           4              4           =BLOB=    \n",
       "86469113183427 0           0.25           12             20          =BLOB=    \n",
       "86469113186830 0           0.25           4              4           =BLOB=    \n",
       "86469113188179 0           0.25           18             32          =BLOB=    \n",
       "86469113190613 0           0.25           30             56          =BLOB=    \n",
       "86469113192730 0           0.25           4              4           =BLOB=    \n",
       "86469113195336 0           0.25           8              12          =BLOB=    \n",
       "86469113195623 0           0.25           5              6           =BLOB=    \n",
       "86469113199341 0           0.25           5              6           =BLOB=    \n",
       "86469113199384 0           0.25           27             50          =BLOB=    \n",
       "   ...\n",
       " (Total: 396)"
      ]
     },
     "execution_count": 76,
     "metadata": {},
     "output_type": "execute_result"
    }
   ],
   "source": [
    "(minnie.Decimation() & minnie.SegToDecimateFromNuclei() & \"decimation_ratio=0.25\" &\n",
    "                 \"n_vertices<10000\") #& \"n_vertices<40000\""
   ]
  },
  {
   "cell_type": "code",
   "execution_count": 77,
   "metadata": {},
   "outputs": [],
   "source": [
    "mid_sized_segments = (minnie.Decimation() & minnie.SegToDecimateFromNuclei() & \"decimation_ratio=0.25\" &\n",
    "                 \"n_vertices>40000\" #& \"n_vertices<40000\"\n",
    "                     ).fetch(\"segment_id\")"
   ]
  },
  {
   "cell_type": "code",
   "execution_count": 12,
   "metadata": {},
   "outputs": [
    {
     "data": {
      "text/plain": [
       "(array([1.11404e+05, 2.20500e+03, 2.04000e+02, 3.90000e+01, 1.60000e+01,\n",
       "        9.00000e+00, 2.00000e+00, 0.00000e+00, 5.00000e+00, 1.00000e+00]),\n",
       " array([4.0000000e+00, 1.7619720e+06, 3.5239400e+06, 5.2859080e+06,\n",
       "        7.0478760e+06, 8.8098440e+06, 1.0571812e+07, 1.2333780e+07,\n",
       "        1.4095748e+07, 1.5857716e+07, 1.7619684e+07]),\n",
       " <BarContainer object of 10 artists>)"
      ]
     },
     "execution_count": 12,
     "metadata": {},
     "output_type": "execute_result"
    },
    {
     "data": {
      "image/png": "[encoded data removed]",
      "text/plain": [
       "<Figure size 432x288 with 1 Axes>"
      ]
     },
     "metadata": {
      "needs_background": "light"
     },
     "output_type": "display_data"
    }
   ],
   "source": [
    "import matplotlib.pyplot as plt\n",
    "plt.hist(n_vertices)"
   ]
  },
  {
   "cell_type": "code",
   "execution_count": 73,
   "metadata": {},
   "outputs": [
    {
     "data": {
      "text/plain": [
       "0.003477191904113799"
      ]
     },
     "execution_count": 73,
     "metadata": {},
     "output_type": "execute_result"
    }
   ],
   "source": [
    "import numpy as np\n",
    "np.sum(n_vertices<100)/len(n_vertices)"
   ]
  },
  {
   "cell_type": "code",
   "execution_count": 21,
   "metadata": {},
   "outputs": [
    {
     "data": {
      "text/html": [
       "\n",
       "        \n",
       "        <style type=\"text/css\">\n",
       "            .Relation{\n",
       "                border-collapse:collapse;\n",
       "            }\n",
       "            .Relation th{\n",
       "                background: #A0A0A0; color: #ffffff; padding:4px; border:#f0e0e0 1px solid;\n",
       "                font-weight: normal; font-family: monospace; font-size: 100%;\n",
       "            }\n",
       "            .Relation td{\n",
       "                padding:4px; border:#f0e0e0 1px solid; font-size:100%;\n",
       "            }\n",
       "            .Relation tr:nth-child(odd){\n",
       "                background: #ffffff;\n",
       "            }\n",
       "            .Relation tr:nth-child(even){\n",
       "                background: #f3f1ff;\n",
       "            }\n",
       "            /* Tooltip container */\n",
       "            .djtooltip {\n",
       "            }\n",
       "            /* Tooltip text */\n",
       "            .djtooltip .djtooltiptext {\n",
       "                visibility: hidden;\n",
       "                width: 120px;\n",
       "                background-color: black;\n",
       "                color: #fff;\n",
       "                text-align: center;\n",
       "                padding: 5px 0;\n",
       "                border-radius: 6px;\n",
       "                /* Position the tooltip text - see examples below! */\n",
       "                position: absolute;\n",
       "                z-index: 1;\n",
       "            }\n",
       "            #primary {\n",
       "                font-weight: bold;\n",
       "                color: black;\n",
       "            }\n",
       "\n",
       "            #nonprimary {\n",
       "                font-weight: normal;\n",
       "                color: white;\n",
       "            }\n",
       "\n",
       "            /* Show the tooltip text when you mouse over the tooltip container */\n",
       "            .djtooltip:hover .djtooltiptext {\n",
       "                visibility: visible;\n",
       "            }\n",
       "        </style>\n",
       "        \n",
       "        <b></b>\n",
       "            <div style=\"max-height:1000px;max-width:1500px;overflow:auto;\">\n",
       "            <table border=\"1\" class=\"Relation\">\n",
       "                <thead> <tr style=\"text-align: right;\"> <th> <div class=\"djtooltip\">\n",
       "                                <p id=\"primary\">segment_id</p>\n",
       "                                <span class=\"djtooltiptext\">segment id for those to be decimated</span>\n",
       "                            </div> </th> </tr> </thead>\n",
       "                <tbody> <tr> <td>864691133433963620</td> </tr> </tbody>\n",
       "            </table>\n",
       "            \n",
       "            <p>Total: 1</p></div>\n",
       "            "
      ],
      "text/plain": [
       "*segment_id   \n",
       "+------------+\n",
       "86469113343396\n",
       " (Total: 1)"
      ]
     },
     "execution_count": 21,
     "metadata": {},
     "output_type": "execute_result"
    }
   ],
   "source": [
    "minnie.SegToDecimateFromNuclei() & \"segment_id=864691133433963620\""
   ]
  },
  {
   "cell_type": "code",
   "execution_count": 37,
   "metadata": {},
   "outputs": [
    {
     "data": {
      "text/plain": [
       "40688.69785475098"
      ]
     },
     "execution_count": 37,
     "metadata": {},
     "output_type": "execute_result"
    }
   ],
   "source": [
    "np.exp(12)*0.25"
   ]
  },
  {
   "cell_type": "code",
   "execution_count": 55,
   "metadata": {},
   "outputs": [
    {
     "data": {
      "text/plain": [
       "76469"
      ]
     },
     "execution_count": 55,
     "metadata": {},
     "output_type": "execute_result"
    }
   ],
   "source": [
    "len(mid_sized_segments)"
   ]
  },
  {
   "cell_type": "code",
   "execution_count": 86,
   "metadata": {},
   "outputs": [
    {
     "name": "stderr",
     "output_type": "stream",
     "text": [
      "INFO - 2020-11-18 23:59:44,205 - connection - Transaction started\n"
     ]
    },
    {
     "name": "stdout",
     "output_type": "stream",
     "text": [
      "About to delete:\n",
      "`microns_minnie65_02`.`__baylor_segment_centroid`: 144816 items\n",
      "Proceed? [yes, No]: yes\n"
     ]
    },
    {
     "name": "stderr",
     "output_type": "stream",
     "text": [
      "INFO - 2020-11-19 00:00:05,705 - connection - Transaction committed and closed.\n"
     ]
    },
    {
     "name": "stdout",
     "output_type": "stream",
     "text": [
      "Committed.\n"
     ]
    }
   ],
   "source": [
    "minnie.BaylorSegmentCentroid.delete()"
   ]
  },
  {
   "cell_type": "code",
   "execution_count": 81,
   "metadata": {},
   "outputs": [
    {
     "name": "stderr",
     "output_type": "stream",
     "text": [
      "INFO - 2020-11-18 23:12:19,993 - settings - Setting enable_python_native_blobs to True\n"
     ]
    },
    {
     "name": "stdout",
     "output_type": "stream",
     "text": [
      "segment = 864691134862564098\n"
     ]
    },
    {
     "name": "stderr",
     "output_type": "stream",
     "text": [
      "INFO - 2020-11-18 23:12:20,403 - settings - Setting enable_python_native_blobs to True\n"
     ]
    },
    {
     "name": "stdout",
     "output_type": "stream",
     "text": [
      "mesh = <trimesh.Trimesh(vertices.shape=(48622, 3), faces.shape=(98473, 3))>\n"
     ]
    },
    {
     "name": "stderr",
     "output_type": "stream",
     "text": [
      "/usr/local/lib/python3.6/dist-packages/traittypes/traittypes.py:101: UserWarning: Given trait value dtype \"float64\" does not match required type \"float64\". A coerced copy has been created.\n",
      "  np.dtype(self.dtype).name))\n"
     ]
    },
    {
     "data": {
      "application/vnd.jupyter.widget-view+json": {
       "model_id": "e580ea6ad88b40d6a09b31fed67921f6",
       "version_major": 2,
       "version_minor": 0
      },
      "text/plain": [
       "VBox(children=(Figure(camera=PerspectiveCamera(fov=46.0, position=(0.0, 0.0, 2.0), quaternion=(0.0, 0.0, 0.0, …"
      ]
     },
     "metadata": {},
     "output_type": "display_data"
    }
   ],
   "source": [
    "import neuron_visualizations as nviz\n",
    "curr_seg_id = mid_sized_segments[17]\n",
    "print(f\"segment = {curr_seg_id}\")\n",
    "\n",
    "new_mesh = du.fetch_segment_id_mesh(curr_seg_id)\n",
    "print(f\"mesh = {new_mesh}\")\n",
    "nviz.plot_objects(new_mesh)"
   ]
  },
  {
   "cell_type": "code",
   "execution_count": 80,
   "metadata": {},
   "outputs": [
    {
     "name": "stderr",
     "output_type": "stream",
     "text": [
      "INFO - 2020-11-18 23:09:35,643 - settings - Setting enable_python_native_blobs to True\n",
      "INFO - 2020-11-18 23:09:36,025 - settings - Setting enable_python_native_blobs to True\n"
     ]
    },
    {
     "data": {
      "text/html": [
       "\n",
       "        \n",
       "        <style type=\"text/css\">\n",
       "            .Relation{\n",
       "                border-collapse:collapse;\n",
       "            }\n",
       "            .Relation th{\n",
       "                background: #A0A0A0; color: #ffffff; padding:4px; border:#f0e0e0 1px solid;\n",
       "                font-weight: normal; font-family: monospace; font-size: 100%;\n",
       "            }\n",
       "            .Relation td{\n",
       "                padding:4px; border:#f0e0e0 1px solid; font-size:100%;\n",
       "            }\n",
       "            .Relation tr:nth-child(odd){\n",
       "                background: #ffffff;\n",
       "            }\n",
       "            .Relation tr:nth-child(even){\n",
       "                background: #f3f1ff;\n",
       "            }\n",
       "            /* Tooltip container */\n",
       "            .djtooltip {\n",
       "            }\n",
       "            /* Tooltip text */\n",
       "            .djtooltip .djtooltiptext {\n",
       "                visibility: hidden;\n",
       "                width: 120px;\n",
       "                background-color: black;\n",
       "                color: #fff;\n",
       "                text-align: center;\n",
       "                padding: 5px 0;\n",
       "                border-radius: 6px;\n",
       "                /* Position the tooltip text - see examples below! */\n",
       "                position: absolute;\n",
       "                z-index: 1;\n",
       "            }\n",
       "            #primary {\n",
       "                font-weight: bold;\n",
       "                color: black;\n",
       "            }\n",
       "\n",
       "            #nonprimary {\n",
       "                font-weight: normal;\n",
       "                color: white;\n",
       "            }\n",
       "\n",
       "            /* Show the tooltip text when you mouse over the tooltip container */\n",
       "            .djtooltip:hover .djtooltiptext {\n",
       "                visibility: visible;\n",
       "            }\n",
       "        </style>\n",
       "        \n",
       "        <b>nucleus segmentation provided by Allen Institute</b>\n",
       "            <div style=\"max-height:1000px;max-width:1500px;overflow:auto;\">\n",
       "            <table border=\"1\" class=\"Relation\">\n",
       "                <thead> <tr style=\"text-align: right;\"> <th> <div class=\"djtooltip\">\n",
       "                                <p id=\"primary\">nucleus_id</p>\n",
       "                                <span class=\"djtooltiptext\">id of segmented nucleus</span>\n",
       "                            </div></th><th><div class=\"djtooltip\">\n",
       "                                <p id=\"primary\">nucleus_version</p>\n",
       "                                <span class=\"djtooltiptext\">segmentation version</span>\n",
       "                            </div></th><th><div class=\"djtooltip\">\n",
       "                                <p id=\"primary\">segment_id</p>\n",
       "                                <span class=\"djtooltiptext\">segment_id merged to nucleus</span>\n",
       "                            </div></th><th><div class=\"djtooltip\">\n",
       "                                <p id=\"nonprimary\">centroid_x</p>\n",
       "                                <span class=\"djtooltiptext\">(EM voxels)</span>\n",
       "                            </div></th><th><div class=\"djtooltip\">\n",
       "                                <p id=\"nonprimary\">centroid_y</p>\n",
       "                                <span class=\"djtooltiptext\">(EM voxels)</span>\n",
       "                            </div></th><th><div class=\"djtooltip\">\n",
       "                                <p id=\"nonprimary\">centroid_z</p>\n",
       "                                <span class=\"djtooltiptext\">(EM voxels)</span>\n",
       "                            </div></th><th><div class=\"djtooltip\">\n",
       "                                <p id=\"nonprimary\">size</p>\n",
       "                                <span class=\"djtooltiptext\">(EM voxels) scaled by (4x4x40)</span>\n",
       "                            </div></th><th><div class=\"djtooltip\">\n",
       "                                <p id=\"nonprimary\">svid</p>\n",
       "                                <span class=\"djtooltiptext\">supervoxel_id of centroid</span>\n",
       "                            </div> </th> </tr> </thead>\n",
       "                <tbody> <tr> <td>996</td>\n",
       "<td>0</td>\n",
       "<td>0</td>\n",
       "<td>60464</td>\n",
       "<td>93616</td>\n",
       "<td>20968</td>\n",
       "<td>214525</td>\n",
       "<td>0</td></tr><tr><td>996</td>\n",
       "<td>1</td>\n",
       "<td>0</td>\n",
       "<td>60464</td>\n",
       "<td>93616</td>\n",
       "<td>20968</td>\n",
       "<td>214525</td>\n",
       "<td>0</td></tr><tr><td>996</td>\n",
       "<td>2</td>\n",
       "<td>0</td>\n",
       "<td>60464</td>\n",
       "<td>93616</td>\n",
       "<td>20968</td>\n",
       "<td>214525</td>\n",
       "<td>0</td></tr><tr><td>996</td>\n",
       "<td>3</td>\n",
       "<td>0</td>\n",
       "<td>60464</td>\n",
       "<td>93616</td>\n",
       "<td>20968</td>\n",
       "<td>214525</td>\n",
       "<td>0</td></tr><tr><td>1833</td>\n",
       "<td>0</td>\n",
       "<td>0</td>\n",
       "<td>56800</td>\n",
       "<td>97280</td>\n",
       "<td>19929</td>\n",
       "<td>219324</td>\n",
       "<td>0</td></tr><tr><td>1833</td>\n",
       "<td>1</td>\n",
       "<td>0</td>\n",
       "<td>56800</td>\n",
       "<td>97280</td>\n",
       "<td>19929</td>\n",
       "<td>219324</td>\n",
       "<td>0</td></tr><tr><td>1833</td>\n",
       "<td>2</td>\n",
       "<td>0</td>\n",
       "<td>56800</td>\n",
       "<td>97280</td>\n",
       "<td>19929</td>\n",
       "<td>219324</td>\n",
       "<td>0</td></tr><tr><td>1833</td>\n",
       "<td>3</td>\n",
       "<td>0</td>\n",
       "<td>56800</td>\n",
       "<td>97280</td>\n",
       "<td>19929</td>\n",
       "<td>219324</td>\n",
       "<td>0</td></tr><tr><td>1841</td>\n",
       "<td>0</td>\n",
       "<td>0</td>\n",
       "<td>57536</td>\n",
       "<td>105584</td>\n",
       "<td>19883</td>\n",
       "<td>1621008</td>\n",
       "<td>0</td></tr><tr><td>1841</td>\n",
       "<td>1</td>\n",
       "<td>0</td>\n",
       "<td>57536</td>\n",
       "<td>105584</td>\n",
       "<td>19883</td>\n",
       "<td>1621008</td>\n",
       "<td>0</td></tr><tr><td>1841</td>\n",
       "<td>2</td>\n",
       "<td>0</td>\n",
       "<td>57536</td>\n",
       "<td>105584</td>\n",
       "<td>19883</td>\n",
       "<td>1621008</td>\n",
       "<td>0</td></tr><tr><td>1841</td>\n",
       "<td>3</td>\n",
       "<td>0</td>\n",
       "<td>57536</td>\n",
       "<td>105584</td>\n",
       "<td>19883</td>\n",
       "<td>1621008</td>\n",
       "<td>0</td> </tr> </tbody>\n",
       "            </table>\n",
       "            <p>...</p>\n",
       "            <p>Total: 570468</p></div>\n",
       "            "
      ],
      "text/plain": [
       "*nucleus_id    *nucleus_versi *segment_id    centroid_x     centroid_y     centroid_z     size        svid    \n",
       "+------------+ +------------+ +------------+ +------------+ +------------+ +------------+ +---------+ +------+\n",
       "996            0              0              60464          93616          20968          214525      0       \n",
       "996            1              0              60464          93616          20968          214525      0       \n",
       "996            2              0              60464          93616          20968          214525      0       \n",
       "996            3              0              60464          93616          20968          214525      0       \n",
       "1833           0              0              56800          97280          19929          219324      0       \n",
       "1833           1              0              56800          97280          19929          219324      0       \n",
       "1833           2              0              56800          97280          19929          219324      0       \n",
       "1833           3              0              56800          97280          19929          219324      0       \n",
       "1841           0              0              57536          105584         19883          1621008     0       \n",
       "1841           1              0              57536          105584         19883          1621008     0       \n",
       "1841           2              0              57536          105584         19883          1621008     0       \n",
       "1841           3              0              57536          105584         19883          1621008     0       \n",
       "   ...\n",
       " (Total: 570468)"
      ]
     },
     "execution_count": 80,
     "metadata": {},
     "output_type": "execute_result"
    }
   ],
   "source": [
    "minnie,_ = du.configure_minnie_vm()\n",
    "minnie.NucleusID()"
   ]
  },
  {
   "cell_type": "code",
   "execution_count": 23,
   "metadata": {},
   "outputs": [
    {
     "data": {
      "text/html": [
       "\n",
       "        \n",
       "        <style type=\"text/css\">\n",
       "            .Relation{\n",
       "                border-collapse:collapse;\n",
       "            }\n",
       "            .Relation th{\n",
       "                background: #A0A0A0; color: #ffffff; padding:4px; border:#f0e0e0 1px solid;\n",
       "                font-weight: normal; font-family: monospace; font-size: 100%;\n",
       "            }\n",
       "            .Relation td{\n",
       "                padding:4px; border:#f0e0e0 1px solid; font-size:100%;\n",
       "            }\n",
       "            .Relation tr:nth-child(odd){\n",
       "                background: #ffffff;\n",
       "            }\n",
       "            .Relation tr:nth-child(even){\n",
       "                background: #f3f1ff;\n",
       "            }\n",
       "            /* Tooltip container */\n",
       "            .djtooltip {\n",
       "            }\n",
       "            /* Tooltip text */\n",
       "            .djtooltip .djtooltiptext {\n",
       "                visibility: hidden;\n",
       "                width: 120px;\n",
       "                background-color: black;\n",
       "                color: #fff;\n",
       "                text-align: center;\n",
       "                padding: 5px 0;\n",
       "                border-radius: 6px;\n",
       "                /* Position the tooltip text - see examples below! */\n",
       "                position: absolute;\n",
       "                z-index: 1;\n",
       "            }\n",
       "            #primary {\n",
       "                font-weight: bold;\n",
       "                color: black;\n",
       "            }\n",
       "\n",
       "            #nonprimary {\n",
       "                font-weight: normal;\n",
       "                color: white;\n",
       "            }\n",
       "\n",
       "            /* Show the tooltip text when you mouse over the tooltip container */\n",
       "            .djtooltip:hover .djtooltiptext {\n",
       "                visibility: visible;\n",
       "            }\n",
       "        </style>\n",
       "        \n",
       "        <b></b>\n",
       "            <div style=\"max-height:1000px;max-width:1500px;overflow:auto;\">\n",
       "            <table border=\"1\" class=\"Relation\">\n",
       "                <thead> <tr style=\"text-align: right;\"> <th> <div class=\"djtooltip\">\n",
       "                                <p id=\"primary\">segment_id</p>\n",
       "                                <span class=\"djtooltiptext\">segment id unique within each Segmentation</span>\n",
       "                            </div></th><th><div class=\"djtooltip\">\n",
       "                                <p id=\"primary\">decimation_version</p>\n",
       "                                <span class=\"djtooltiptext\"></span>\n",
       "                            </div></th><th><div class=\"djtooltip\">\n",
       "                                <p id=\"primary\">decimation_ratio</p>\n",
       "                                <span class=\"djtooltiptext\">ratio of remaining mesh vertices/faces (which ones depends on what metric the decimation technique uses)</span>\n",
       "                            </div></th><th><div class=\"djtooltip\">\n",
       "                                <p id=\"primary\">soma_index</p>\n",
       "                                <span class=\"djtooltiptext\">index given to this soma to account for multiple somas in one base semgnet</span>\n",
       "                            </div></th><th><div class=\"djtooltip\">\n",
       "                                <p id=\"nonprimary\">centroid_x</p>\n",
       "                                <span class=\"djtooltiptext\">(EM voxels)</span>\n",
       "                            </div></th><th><div class=\"djtooltip\">\n",
       "                                <p id=\"nonprimary\">centroid_y</p>\n",
       "                                <span class=\"djtooltiptext\">(EM voxels)</span>\n",
       "                            </div></th><th><div class=\"djtooltip\">\n",
       "                                <p id=\"nonprimary\">centroid_z</p>\n",
       "                                <span class=\"djtooltiptext\">(EM voxels)</span>\n",
       "                            </div></th><th><div class=\"djtooltip\">\n",
       "                                <p id=\"nonprimary\">n_vertices</p>\n",
       "                                <span class=\"djtooltiptext\">number of vertices</span>\n",
       "                            </div></th><th><div class=\"djtooltip\">\n",
       "                                <p id=\"nonprimary\">n_faces</p>\n",
       "                                <span class=\"djtooltiptext\">number of faces</span>\n",
       "                            </div></th><th><div class=\"djtooltip\">\n",
       "                                <p id=\"nonprimary\">soma_vertices</p>\n",
       "                                <span class=\"djtooltiptext\">array of vertices</span>\n",
       "                            </div></th><th><div class=\"djtooltip\">\n",
       "                                <p id=\"nonprimary\">soma_faces</p>\n",
       "                                <span class=\"djtooltiptext\">array of faces</span>\n",
       "                            </div></th><th><div class=\"djtooltip\">\n",
       "                                <p id=\"nonprimary\">multiplicity</p>\n",
       "                                <span class=\"djtooltiptext\">the number of somas found for this base segment</span>\n",
       "                            </div></th><th><div class=\"djtooltip\">\n",
       "                                <p id=\"nonprimary\">sdf</p>\n",
       "                                <span class=\"djtooltiptext\">sdf width value for the soma</span>\n",
       "                            </div></th><th><div class=\"djtooltip\">\n",
       "                                <p id=\"nonprimary\">max_side_ratio</p>\n",
       "                                <span class=\"djtooltiptext\">the maximum of the side length ratios used for check if soma</span>\n",
       "                            </div></th><th><div class=\"djtooltip\">\n",
       "                                <p id=\"nonprimary\">bbox_volume_ratio</p>\n",
       "                                <span class=\"djtooltiptext\">ratio of bbox (axis aligned) volume to mesh volume to use for check if soma</span>\n",
       "                            </div></th><th><div class=\"djtooltip\">\n",
       "                                <p id=\"nonprimary\">run_time</p>\n",
       "                                <span class=\"djtooltiptext\">the amount of time to run (seconds)</span>\n",
       "                            </div> </th> </tr> </thead>\n",
       "                <tbody> <tr> <td>864691134649778727</td>\n",
       "<td>0</td>\n",
       "<td>0.25</td>\n",
       "<td>0</td>\n",
       "<td>None</td>\n",
       "<td>None</td>\n",
       "<td>None</td>\n",
       "<td>0</td>\n",
       "<td>0</td>\n",
       "<td>=BLOB=</td>\n",
       "<td>=BLOB=</td>\n",
       "<td>0</td>\n",
       "<td>nan</td>\n",
       "<td>nan</td>\n",
       "<td>nan</td>\n",
       "<td>21.250221967697144</td></tr><tr><td>864691134697247994</td>\n",
       "<td>0</td>\n",
       "<td>0.25</td>\n",
       "<td>0</td>\n",
       "<td>None</td>\n",
       "<td>None</td>\n",
       "<td>None</td>\n",
       "<td>0</td>\n",
       "<td>0</td>\n",
       "<td>=BLOB=</td>\n",
       "<td>=BLOB=</td>\n",
       "<td>0</td>\n",
       "<td>nan</td>\n",
       "<td>nan</td>\n",
       "<td>nan</td>\n",
       "<td>35.63019013404846</td></tr><tr><td>864691134718953212</td>\n",
       "<td>0</td>\n",
       "<td>0.25</td>\n",
       "<td>1</td>\n",
       "<td>350351</td>\n",
       "<td>133369</td>\n",
       "<td>23770</td>\n",
       "<td>2941</td>\n",
       "<td>6211</td>\n",
       "<td>=BLOB=</td>\n",
       "<td>=BLOB=</td>\n",
       "<td>1</td>\n",
       "<td>0.58</td>\n",
       "<td>1.485</td>\n",
       "<td>6.031</td>\n",
       "<td>26.6601</td></tr><tr><td>864691134721124348</td>\n",
       "<td>0</td>\n",
       "<td>0.25</td>\n",
       "<td>0</td>\n",
       "<td>None</td>\n",
       "<td>None</td>\n",
       "<td>None</td>\n",
       "<td>0</td>\n",
       "<td>0</td>\n",
       "<td>=BLOB=</td>\n",
       "<td>=BLOB=</td>\n",
       "<td>0</td>\n",
       "<td>nan</td>\n",
       "<td>nan</td>\n",
       "<td>nan</td>\n",
       "<td>23.13640546798706</td></tr><tr><td>864691134734371578</td>\n",
       "<td>0</td>\n",
       "<td>0.25</td>\n",
       "<td>0</td>\n",
       "<td>None</td>\n",
       "<td>None</td>\n",
       "<td>None</td>\n",
       "<td>0</td>\n",
       "<td>0</td>\n",
       "<td>=BLOB=</td>\n",
       "<td>=BLOB=</td>\n",
       "<td>0</td>\n",
       "<td>nan</td>\n",
       "<td>nan</td>\n",
       "<td>nan</td>\n",
       "<td>21.43248414993286</td></tr><tr><td>864691134743838460</td>\n",
       "<td>0</td>\n",
       "<td>0.25</td>\n",
       "<td>0</td>\n",
       "<td>None</td>\n",
       "<td>None</td>\n",
       "<td>None</td>\n",
       "<td>0</td>\n",
       "<td>0</td>\n",
       "<td>=BLOB=</td>\n",
       "<td>=BLOB=</td>\n",
       "<td>0</td>\n",
       "<td>nan</td>\n",
       "<td>nan</td>\n",
       "<td>nan</td>\n",
       "<td>61.797796964645386</td></tr><tr><td>864691134746633978</td>\n",
       "<td>0</td>\n",
       "<td>0.25</td>\n",
       "<td>0</td>\n",
       "<td>None</td>\n",
       "<td>None</td>\n",
       "<td>None</td>\n",
       "<td>0</td>\n",
       "<td>0</td>\n",
       "<td>=BLOB=</td>\n",
       "<td>=BLOB=</td>\n",
       "<td>0</td>\n",
       "<td>nan</td>\n",
       "<td>nan</td>\n",
       "<td>nan</td>\n",
       "<td>41.79931712150574</td></tr><tr><td>864691134748144984</td>\n",
       "<td>0</td>\n",
       "<td>0.25</td>\n",
       "<td>0</td>\n",
       "<td>None</td>\n",
       "<td>None</td>\n",
       "<td>None</td>\n",
       "<td>0</td>\n",
       "<td>0</td>\n",
       "<td>=BLOB=</td>\n",
       "<td>=BLOB=</td>\n",
       "<td>0</td>\n",
       "<td>nan</td>\n",
       "<td>nan</td>\n",
       "<td>nan</td>\n",
       "<td>43.76274299621582</td></tr><tr><td>864691134748184152</td>\n",
       "<td>0</td>\n",
       "<td>0.25</td>\n",
       "<td>0</td>\n",
       "<td>None</td>\n",
       "<td>None</td>\n",
       "<td>None</td>\n",
       "<td>0</td>\n",
       "<td>0</td>\n",
       "<td>=BLOB=</td>\n",
       "<td>=BLOB=</td>\n",
       "<td>0</td>\n",
       "<td>nan</td>\n",
       "<td>nan</td>\n",
       "<td>nan</td>\n",
       "<td>28.513628482818604</td></tr><tr><td>864691134759873880</td>\n",
       "<td>0</td>\n",
       "<td>0.25</td>\n",
       "<td>0</td>\n",
       "<td>None</td>\n",
       "<td>None</td>\n",
       "<td>None</td>\n",
       "<td>0</td>\n",
       "<td>0</td>\n",
       "<td>=BLOB=</td>\n",
       "<td>=BLOB=</td>\n",
       "<td>0</td>\n",
       "<td>nan</td>\n",
       "<td>nan</td>\n",
       "<td>nan</td>\n",
       "<td>22.53495979309082</td></tr><tr><td>864691134760657252</td>\n",
       "<td>0</td>\n",
       "<td>0.25</td>\n",
       "<td>0</td>\n",
       "<td>None</td>\n",
       "<td>None</td>\n",
       "<td>None</td>\n",
       "<td>0</td>\n",
       "<td>0</td>\n",
       "<td>=BLOB=</td>\n",
       "<td>=BLOB=</td>\n",
       "<td>0</td>\n",
       "<td>nan</td>\n",
       "<td>nan</td>\n",
       "<td>nan</td>\n",
       "<td>28.664742469787598</td></tr><tr><td>864691134761193316</td>\n",
       "<td>0</td>\n",
       "<td>0.25</td>\n",
       "<td>0</td>\n",
       "<td>None</td>\n",
       "<td>None</td>\n",
       "<td>None</td>\n",
       "<td>0</td>\n",
       "<td>0</td>\n",
       "<td>=BLOB=</td>\n",
       "<td>=BLOB=</td>\n",
       "<td>0</td>\n",
       "<td>nan</td>\n",
       "<td>nan</td>\n",
       "<td>nan</td>\n",
       "<td>56.23606848716736</td> </tr> </tbody>\n",
       "            </table>\n",
       "            <p>...</p>\n",
       "            <p>Total: 144816</p></div>\n",
       "            "
      ],
      "text/plain": [
       "*segment_id    *decimation_ve *decimation_ra *soma_index    centroid_x     centroid_y     centroid_z     n_vertices     n_faces     soma_verti soma_faces multiplicity   sdf      max_side_ratio bbox_volume_ra run_time      \n",
       "+------------+ +------------+ +------------+ +------------+ +------------+ +------------+ +------------+ +------------+ +---------+ +--------+ +--------+ +------------+ +------+ +------------+ +------------+ +------------+\n",
       "86469113464977 0              0.25           0              None           None           None           0              0           =BLOB=     =BLOB=     0              nan      nan            nan            21.25022196769\n",
       "86469113469724 0              0.25           0              None           None           None           0              0           =BLOB=     =BLOB=     0              nan      nan            nan            35.63019013404\n",
       "86469113471895 0              0.25           1              350351         133369         23770          2941           6211        =BLOB=     =BLOB=     1              0.58     1.485          6.031          26.6601       \n",
       "86469113472112 0              0.25           0              None           None           None           0              0           =BLOB=     =BLOB=     0              nan      nan            nan            23.13640546798\n",
       "86469113473437 0              0.25           0              None           None           None           0              0           =BLOB=     =BLOB=     0              nan      nan            nan            21.43248414993\n",
       "86469113474383 0              0.25           0              None           None           None           0              0           =BLOB=     =BLOB=     0              nan      nan            nan            61.79779696464\n",
       "86469113474663 0              0.25           0              None           None           None           0              0           =BLOB=     =BLOB=     0              nan      nan            nan            41.79931712150\n",
       "86469113474814 0              0.25           0              None           None           None           0              0           =BLOB=     =BLOB=     0              nan      nan            nan            43.76274299621\n",
       "86469113474818 0              0.25           0              None           None           None           0              0           =BLOB=     =BLOB=     0              nan      nan            nan            28.51362848281\n",
       "86469113475987 0              0.25           0              None           None           None           0              0           =BLOB=     =BLOB=     0              nan      nan            nan            22.53495979309\n",
       "86469113476065 0              0.25           0              None           None           None           0              0           =BLOB=     =BLOB=     0              nan      nan            nan            28.66474246978\n",
       "86469113476119 0              0.25           0              None           None           None           0              0           =BLOB=     =BLOB=     0              nan      nan            nan            56.23606848716\n",
       "   ...\n",
       " (Total: 144816)"
      ]
     },
     "execution_count": 23,
     "metadata": {},
     "output_type": "execute_result"
    }
   ],
   "source": [
    "minnie.BaylorSegmentCentroid()"
   ]
  },
  {
   "cell_type": "code",
   "execution_count": null,
   "metadata": {},
   "outputs": [],
   "source": []
  }
 ],
 "metadata": {
  "kernelspec": {
   "display_name": "Python 3",
   "language": "python",
   "name": "python3"
  },
  "language_info": {
   "codemirror_mode": {
    "name": "ipython",
    "version": 3
   },
   "file_extension": ".py",
   "mimetype": "text/x-python",
   "name": "python",
   "nbconvert_exporter": "python",
   "pygments_lexer": "ipython3",
   "version": "3.6.9"
  }
 },
 "nbformat": 4,
 "nbformat_minor": 4
}
