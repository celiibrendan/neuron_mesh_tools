{
 "cells": [
  {
   "cell_type": "code",
   "execution_count": null,
   "metadata": {},
   "outputs": [],
   "source": [
    "\"\"\"\n",
    "Purpose: To visualize how the proofreading performs on the manually proofread cells\n",
    "\n",
    "Pseucode: \n",
    "For the example neuron id\n",
    "1) get the neuron decomposition\n",
    "2) Run the error detection to get the errored faces\n",
    "3) Get the errored synapses\n",
    "4) Plot them mesh and errored synapses\n",
    "\n",
    "\n",
    "\n",
    "\"\"\""
   ]
  },
  {
   "cell_type": "code",
   "execution_count": 1,
   "metadata": {},
   "outputs": [
    {
     "name": "stderr",
     "output_type": "stream",
     "text": [
      "INFO - 2020-11-30 23:23:29,922 - settings - Setting database.host to at-database.ad.bcm.edu\n",
      "INFO - 2020-11-30 23:23:29,923 - settings - Setting database.user to celiib\n",
      "INFO - 2020-11-30 23:23:29,923 - settings - Setting database.password to newceliipass\n",
      "INFO - 2020-11-30 23:23:29,943 - settings - Setting stores to {'minnie65': {'protocol': 'file', 'location': '/mnt/dj-stor01/platinum/minnie65', 'stage': '/mnt/dj-stor01/platinum/minnie65'}, 'meshes': {'protocol': 'file', 'location': '/mnt/dj-stor01/platinum/minnie65/02/meshes', 'stage': '/mnt/dj-stor01/platinum/minnie65/02/meshes'}, 'decimated_meshes': {'protocol': 'file', 'location': '/mnt/dj-stor01/platinum/minnie65/02/decimated_meshes', 'stage': '/mnt/dj-stor01/platinum/minnie65/02/decimated_meshes'}, 'skeletons': {'protocol': 'file', 'location': '/mnt/dj-stor01/platinum/minnie65/02/skeletons'}}\n",
      "INFO - 2020-11-30 23:23:29,944 - settings - Setting enable_python_native_blobs to True\n",
      "INFO - 2020-11-30 23:23:29,963 - connection - Connected celiib@at-database.ad.bcm.edu:3306\n"
     ]
    },
    {
     "name": "stdout",
     "output_type": "stream",
     "text": [
      "Connecting celiib@at-database.ad.bcm.edu:3306\n"
     ]
    },
    {
     "name": "stderr",
     "output_type": "stream",
     "text": [
      "INFO - 2020-11-30 23:23:30,317 - settings - Setting enable_python_native_blobs to True\n"
     ]
    }
   ],
   "source": [
    "from os import sys\n",
    "sys.path.append(\"/meshAfterParty/\")\n",
    "\n",
    "import numpy as np\n",
    "import datajoint as dj\n",
    "import trimesh\n",
    "from tqdm.notebook import tqdm\n",
    "from pathlib import Path\n",
    "import neuron_visualizations as nviz\n",
    "\n",
    "\n",
    "import datajoint_utils as du\n",
    "from importlib import reload"
   ]
  },
  {
   "cell_type": "code",
   "execution_count": 2,
   "metadata": {},
   "outputs": [
    {
     "name": "stderr",
     "output_type": "stream",
     "text": [
      "INFO - 2020-11-30 23:23:30,336 - settings - Setting enable_python_native_blobs to True\n",
      "INFO - 2020-11-30 23:23:30,605 - settings - Setting enable_python_native_blobs to True\n"
     ]
    }
   ],
   "source": [
    "import time\n",
    "import datajoint_utils as du\n",
    "import neuron_utils as nru\n",
    "import neuron\n",
    "import trimesh_utils as tu\n",
    "import numpy as np\n",
    "\n",
    "from datajoint_utils import *\n",
    "\n",
    "import error_detection as ed\n",
    "\n",
    "minnie,schema = du.configure_minnie_vm()"
   ]
  },
  {
   "cell_type": "code",
   "execution_count": 3,
   "metadata": {},
   "outputs": [
    {
     "data": {
      "text/html": [
       "\n",
       "        \n",
       "        <style type=\"text/css\">\n",
       "            .Relation{\n",
       "                border-collapse:collapse;\n",
       "            }\n",
       "            .Relation th{\n",
       "                background: #A0A0A0; color: #ffffff; padding:4px; border:#f0e0e0 1px solid;\n",
       "                font-weight: normal; font-family: monospace; font-size: 100%;\n",
       "            }\n",
       "            .Relation td{\n",
       "                padding:4px; border:#f0e0e0 1px solid; font-size:100%;\n",
       "            }\n",
       "            .Relation tr:nth-child(odd){\n",
       "                background: #ffffff;\n",
       "            }\n",
       "            .Relation tr:nth-child(even){\n",
       "                background: #f3f1ff;\n",
       "            }\n",
       "            /* Tooltip container */\n",
       "            .djtooltip {\n",
       "            }\n",
       "            /* Tooltip text */\n",
       "            .djtooltip .djtooltiptext {\n",
       "                visibility: hidden;\n",
       "                width: 120px;\n",
       "                background-color: black;\n",
       "                color: #fff;\n",
       "                text-align: center;\n",
       "                padding: 5px 0;\n",
       "                border-radius: 6px;\n",
       "                /* Position the tooltip text - see examples below! */\n",
       "                position: absolute;\n",
       "                z-index: 1;\n",
       "            }\n",
       "            #primary {\n",
       "                font-weight: bold;\n",
       "                color: black;\n",
       "            }\n",
       "\n",
       "            #nonprimary {\n",
       "                font-weight: normal;\n",
       "                color: white;\n",
       "            }\n",
       "\n",
       "            /* Show the tooltip text when you mouse over the tooltip container */\n",
       "            .djtooltip:hover .djtooltiptext {\n",
       "                visibility: visible;\n",
       "            }\n",
       "        </style>\n",
       "        \n",
       "        \n",
       "            <div style=\"max-height:1000px;max-width:1500px;overflow:auto;\">\n",
       "            <table border=\"1\" class=\"Relation\">\n",
       "                <thead> <tr style=\"text-align: right;\"> <th> <div class=\"djtooltip\">\n",
       "                                <p id=\"primary\">segment_id</p>\n",
       "                                <span class=\"djtooltiptext\">segment id unique within each Segmentation</span>\n",
       "                            </div></th><th><div class=\"djtooltip\">\n",
       "                                <p id=\"primary\">decimation_version</p>\n",
       "                                <span class=\"djtooltiptext\"></span>\n",
       "                            </div></th><th><div class=\"djtooltip\">\n",
       "                                <p id=\"primary\">decimation_ratio</p>\n",
       "                                <span class=\"djtooltiptext\">ratio of remaining mesh vertices/faces (which ones depends on what metric the decimation technique uses)</span>\n",
       "                            </div></th><th><div class=\"djtooltip\">\n",
       "                                <p id=\"primary\">nucleus_id</p>\n",
       "                                <span class=\"djtooltiptext\">id of segmented nucleus</span>\n",
       "                            </div></th><th><div class=\"djtooltip\">\n",
       "                                <p id=\"primary\">nucleus_version</p>\n",
       "                                <span class=\"djtooltiptext\">segmentation version</span>\n",
       "                            </div></th><th><div class=\"djtooltip\">\n",
       "                                <p id=\"nonprimary\">centroid_x</p>\n",
       "                                <span class=\"djtooltiptext\">(EM voxels)</span>\n",
       "                            </div></th><th><div class=\"djtooltip\">\n",
       "                                <p id=\"nonprimary\">centroid_y</p>\n",
       "                                <span class=\"djtooltiptext\">(EM voxels)</span>\n",
       "                            </div></th><th><div class=\"djtooltip\">\n",
       "                                <p id=\"nonprimary\">centroid_z</p>\n",
       "                                <span class=\"djtooltiptext\">(EM voxels)</span>\n",
       "                            </div></th><th><div class=\"djtooltip\">\n",
       "                                <p id=\"nonprimary\">size</p>\n",
       "                                <span class=\"djtooltiptext\">(EM voxels) scaled by (4x4x40)</span>\n",
       "                            </div></th><th><div class=\"djtooltip\">\n",
       "                                <p id=\"nonprimary\">svid</p>\n",
       "                                <span class=\"djtooltiptext\">supervoxel_id of centroid</span>\n",
       "                            </div> </th> </tr> </thead>\n",
       "                <tbody> <tr> <td>864691135564655959</td>\n",
       "<td>0</td>\n",
       "<td>0.25</td>\n",
       "<td>225498</td>\n",
       "<td>1</td>\n",
       "<td>149712</td>\n",
       "<td>151648</td>\n",
       "<td>17549</td>\n",
       "<td>1315328</td>\n",
       "<td>85369450370640387</td></tr><tr><td>864691135748568361</td>\n",
       "<td>0</td>\n",
       "<td>0.25</td>\n",
       "<td>230236</td>\n",
       "<td>1</td>\n",
       "<td>162848</td>\n",
       "<td>184560</td>\n",
       "<td>19809</td>\n",
       "<td>1385955</td>\n",
       "<td>87203504753932217</td></tr><tr><td>864691136194042326</td>\n",
       "<td>0</td>\n",
       "<td>0.25</td>\n",
       "<td>258307</td>\n",
       "<td>1</td>\n",
       "<td>174944</td>\n",
       "<td>137648</td>\n",
       "<td>21113</td>\n",
       "<td>1587826</td>\n",
       "<td>88815663879212610</td></tr><tr><td>864691135233108569</td>\n",
       "<td>0</td>\n",
       "<td>0.25</td>\n",
       "<td>262773</td>\n",
       "<td>1</td>\n",
       "<td>168096</td>\n",
       "<td>161952</td>\n",
       "<td>21503</td>\n",
       "<td>1314296</td>\n",
       "<td>87904100020764569</td></tr><tr><td>864691135740225387</td>\n",
       "<td>0</td>\n",
       "<td>0.25</td>\n",
       "<td>264870</td>\n",
       "<td>1</td>\n",
       "<td>164832</td>\n",
       "<td>177856</td>\n",
       "<td>21208</td>\n",
       "<td>1831649</td>\n",
       "<td>87413717834430502</td></tr><tr><td>864691136105498585</td>\n",
       "<td>0</td>\n",
       "<td>0.25</td>\n",
       "<td>269247</td>\n",
       "<td>1</td>\n",
       "<td>177536</td>\n",
       "<td>213824</td>\n",
       "<td>19894</td>\n",
       "<td>1571057</td>\n",
       "<td>89177746601154881</td></tr><tr><td>864691134988386682</td>\n",
       "<td>0</td>\n",
       "<td>0.25</td>\n",
       "<td>269380</td>\n",
       "<td>1</td>\n",
       "<td>168016</td>\n",
       "<td>216288</td>\n",
       "<td>21534</td>\n",
       "<td>1688056</td>\n",
       "<td>87911453071322695</td></tr><tr><td>864691136333776819</td>\n",
       "<td>0</td>\n",
       "<td>0.25</td>\n",
       "<td>271518</td>\n",
       "<td>1</td>\n",
       "<td>168464</td>\n",
       "<td>226192</td>\n",
       "<td>21121</td>\n",
       "<td>1666190</td>\n",
       "<td>87912758674384086</td></tr><tr><td>864691135771629819</td>\n",
       "<td>0</td>\n",
       "<td>0.25</td>\n",
       "<td>294545</td>\n",
       "<td>1</td>\n",
       "<td>182976</td>\n",
       "<td>135728</td>\n",
       "<td>21116</td>\n",
       "<td>1462702</td>\n",
       "<td>89941288908168255</td></tr><tr><td>864691135748575017</td>\n",
       "<td>0</td>\n",
       "<td>0.25</td>\n",
       "<td>296726</td>\n",
       "<td>1</td>\n",
       "<td>180976</td>\n",
       "<td>143888</td>\n",
       "<td>22162</td>\n",
       "<td>1827886</td>\n",
       "<td>89660913577301286</td></tr><tr><td>864691136105484249</td>\n",
       "<td>0</td>\n",
       "<td>0.25</td>\n",
       "<td>300763</td>\n",
       "<td>1</td>\n",
       "<td>182048</td>\n",
       "<td>178240</td>\n",
       "<td>20186</td>\n",
       "<td>1456434</td>\n",
       "<td>89806255002282134</td></tr><tr><td>864691135212632448</td>\n",
       "<td>0</td>\n",
       "<td>0.25</td>\n",
       "<td>301095</td>\n",
       "<td>1</td>\n",
       "<td>185152</td>\n",
       "<td>185344</td>\n",
       "<td>21255</td>\n",
       "<td>2228706</td>\n",
       "<td>90229429674273152</td> </tr> </tbody>\n",
       "            </table>\n",
       "            <p>...</p>\n",
       "            <p>Total: 63</p></div>\n",
       "            "
      ],
      "text/plain": [
       "*segment_id    *decimation_ve *decimation_ra *nucleus_id    *nucleus_versi centroid_x     centroid_y     centroid_z     size        svid          \n",
       "+------------+ +------------+ +------------+ +------------+ +------------+ +------------+ +------------+ +------------+ +---------+ +------------+\n",
       "86469113556465 0              0.25           225498         1              149712         151648         17549          1315328     85369450370640\n",
       "86469113574856 0              0.25           230236         1              162848         184560         19809          1385955     87203504753932\n",
       "86469113619404 0              0.25           258307         1              174944         137648         21113          1587826     88815663879212\n",
       "86469113523310 0              0.25           262773         1              168096         161952         21503          1314296     87904100020764\n",
       "86469113574022 0              0.25           264870         1              164832         177856         21208          1831649     87413717834430\n",
       "86469113610549 0              0.25           269247         1              177536         213824         19894          1571057     89177746601154\n",
       "86469113498838 0              0.25           269380         1              168016         216288         21534          1688056     87911453071322\n",
       "86469113633377 0              0.25           271518         1              168464         226192         21121          1666190     87912758674384\n",
       "86469113577162 0              0.25           294545         1              182976         135728         21116          1462702     89941288908168\n",
       "86469113574857 0              0.25           296726         1              180976         143888         22162          1827886     89660913577301\n",
       "86469113610548 0              0.25           300763         1              182048         178240         20186          1456434     89806255002282\n",
       "86469113521263 0              0.25           301095         1              185152         185344         21255          2228706     90229429674273\n",
       "   ...\n",
       " (Total: 63)"
      ]
     },
     "execution_count": 3,
     "metadata": {},
     "output_type": "execute_result"
    }
   ],
   "source": [
    "m65 = minnie\n",
    "decimation_version = 0\n",
    "decimation_ratio = 0.25\n",
    "key_source = (m65.Decimation().proj(decimation_version='version')  &\n",
    "              dict(decimation_version=decimation_version,decimation_ratio=decimation_ratio)\n",
    "              & m65.ManualProofreadIDs() & (m65.BaylorSegmentCentroid() & \"multiplicity=1\").proj())\n",
    "nucleus_table =(m65.NucleusID & 'nucleus_version=1')  # Aug 1 timestamp\n",
    "proofread_nucs = nucleus_table & m65.ManualProofreadIDs()\n",
    "single_soma_nucs = nucleus_table & (dj.U('segment_id').aggr(proofread_nucs, n_nucs='count(nucleus_id)') & 'n_nucs=1').proj()\n",
    "final_nucs = key_source* single_soma_nucs\n",
    "final_nucs"
   ]
  },
  {
   "cell_type": "code",
   "execution_count": 4,
   "metadata": {},
   "outputs": [],
   "source": [
    "eligible_table = minnie.Decomposition & final_nucs.proj()"
   ]
  },
  {
   "cell_type": "code",
   "execution_count": 5,
   "metadata": {},
   "outputs": [
    {
     "data": {
      "text/plain": [
       "array([864691135564655959, 864691135748568361, 864691136194042326,\n",
       "       864691135233108569, 864691135740225387, 864691136105498585,\n",
       "       864691134988386682, 864691136333776819, 864691135771629819,\n",
       "       864691136105484249, 864691135212632448, 864691136296650011,\n",
       "       864691136311740477, 864691135491233631, 864691135945413668,\n",
       "       864691135393964789, 864691135113167769, 864691136105493209,\n",
       "       864691135272164113, 864691136618403213, 864691135974454639,\n",
       "       864691136003930314, 864691135510455760, 864691136537220258,\n",
       "       864691135785277636, 864691136333787571, 864691136105491417,\n",
       "       864691135645592260, 864691136056391384, 864691136099807093,\n",
       "       864691135348272855, 864691135737374100, 864691135212690816,\n",
       "       864691136550489250, 864691136194103510, 864691135589907979,\n",
       "       864691135407289801, 864691136545546146, 864691135382947307,\n",
       "       864691136008425132, 864691135925564174, 864691136333790899,\n",
       "       864691135974454895, 864691136008573614, 864691136134446219,\n",
       "       864691135736387732, 864691135501578306, 864691136537477538,\n",
       "       864691135865518469, 864691136201041854, 864691136311791677,\n",
       "       864691135735426708, 864691136618412685, 864691136370815112,\n",
       "       864691135699269154, 864691135589906955, 864691136056340440])"
      ]
     },
     "execution_count": 5,
     "metadata": {},
     "output_type": "execute_result"
    }
   ],
   "source": [
    "seg_ids_to_test = eligible_table.fetch(\"segment_id\")\n",
    "seg_ids_to_test"
   ]
  },
  {
   "cell_type": "markdown",
   "metadata": {},
   "source": [
    "# Doing the Actual Function"
   ]
  },
  {
   "cell_type": "code",
   "execution_count": 6,
   "metadata": {
    "scrolled": true
   },
   "outputs": [
    {
     "name": "stdout",
     "output_type": "stream",
     "text": [
      "{'segment_id': 864691135740225387}\n"
     ]
    }
   ],
   "source": [
    "segment_id = seg_ids_to_test[4]\n",
    "key = dict(segment_id=segment_id)\n",
    "print(key)"
   ]
  },
  {
   "cell_type": "code",
   "execution_count": 7,
   "metadata": {
    "scrolled": true
   },
   "outputs": [
    {
     "name": "stdout",
     "output_type": "stream",
     "text": [
      "\n",
      "\n",
      "----- Working on 864691135740225387-------\n",
      "Decompressing Neuron in minimal output mode...please wait\n",
      "functions_list = [<function width at 0x7f7c48df47b8>, <function median_mesh_center at 0x7f7c48df4a60>, <function n_spines at 0x7f7c48df48c8>, <function n_faces_branch at 0x7f7c49470488>, <function skeleton_distance_branch at 0x7f7c48df4840>, <function spines_per_skeletal_length at 0x7f7c48df4d08>, <function no_spine_median_mesh_center at 0x7f7c48df4b70>]\n",
      "functions_list = [<function axon_segment at 0x7f7c48df6400>]\n",
      "Axons not keeping because of soma: {'L1': array([ 6,  7,  8,  9, 12, 13])}\n",
      "\n",
      "----- Working on L0 ------\n",
      "-- Axon Group 0 of size 29--\n",
      "   Working on soma 0, starting_node 4\n",
      "Not using AIS angle threshold\n",
      "sk_angle= 8.215939908057189\n",
      "-- Axon Group 1 of size 1--\n",
      "   Working on soma 0, starting_node 4\n",
      "Not using AIS angle threshold\n",
      "sk_angle= 8.215939908057189\n",
      "-- Axon Group 2 of size 1--\n",
      "   Working on soma 0, starting_node 4\n",
      "Not using AIS angle threshold\n",
      "sk_angle= 8.215939908057189\n",
      "-- Axon Group 3 of size 5--\n",
      "   Working on soma 0, starting_node 4\n",
      "Not using AIS angle threshold\n",
      "sk_angle= 8.215939908057189\n",
      "-- Axon Group 4 of size 9--\n",
      "   Working on soma 0, starting_node 4\n",
      "Not using AIS angle threshold\n",
      "sk_angle= 8.215939908057189\n",
      "-- Axon Group 5 of size 9--\n",
      "   Working on soma 0, starting_node 4\n",
      "Not using AIS angle threshold\n",
      "sk_angle= 8.215939908057189\n",
      "-- Axon Group 6 of size 5--\n",
      "   Working on soma 0, starting_node 4\n",
      "Not using AIS angle threshold\n",
      "sk_angle= 8.215939908057189\n",
      "-- Axon Group 7 of size 3--\n",
      "   Working on soma 0, starting_node 4\n",
      "Not using AIS angle threshold\n",
      "sk_angle= 8.215939908057189\n",
      "-- Axon Group 8 of size 43--\n",
      "   Working on soma 0, starting_node 4\n",
      "Not using AIS angle threshold\n",
      "sk_angle= 8.215939908057189\n",
      "-- Axon Group 9 of size 3--\n",
      "   Working on soma 0, starting_node 4\n",
      "Not using AIS angle threshold\n",
      "sk_angle= 8.215939908057189\n",
      "-- Axon Group 10 of size 3--\n",
      "   Working on soma 0, starting_node 4\n",
      "Not using AIS angle threshold\n",
      "sk_angle= 8.215939908057189\n",
      "\n",
      "\n",
      "For limb 0 the valid axon branches are [  0   1   2   3  35  36  37  38  39  40  41  42  43  45  54  55  56  80\n",
      "  92  95  99 104 105 106 107 114 115 124 126  44  88 130  74  75  76  79\n",
      " 128 121  71  72  73 119 120  89 122  66  67   5   6  90  91 127  62  63\n",
      "  32  33  34  97  98  57  58  77 131  12  13  14  15  16  17  18  19  20\n",
      "  21  26  27  28  29  30  31  49  51  52  53  59  60  61  64  65  70  78\n",
      "  86  87  93  94  96 100 101 102 103 111 112 116 117 118 125 113 109 110\n",
      "  81  82 123]\n",
      "The following are not valid: []\n",
      "\n",
      "----- Working on L2 ------\n",
      "-- Axon Group 0 of size 15--\n",
      "   Working on soma 0, starting_node 0\n",
      "Not using AIS angle threshold\n",
      "sk_angle= 108.23025260640867\n",
      "*****Path to axon group not valid******\n",
      "\n",
      "\n",
      "For limb 2 the valid axon branches are []\n",
      "The following are not valid: [2, 3, 4, 5, 7, 8, 9, 10, 11, 12, 13, 18, 19, 20, 21]\n",
      "\n",
      "----- Working on L3 ------\n",
      "-- Axon Group 0 of size 7--\n",
      "   Working on soma 0, starting_node 3\n",
      "Not using AIS angle threshold\n",
      "sk_angle= 96.58083861926315\n",
      "*****Path to axon group not valid******\n",
      "\n",
      "\n",
      "For limb 3 the valid axon branches are []\n",
      "The following are not valid: [7, 8, 10, 11, 12, 13, 14]\n",
      "\n",
      "----- Working on L4 ------\n",
      "\n",
      "\n",
      "For limb 4 the valid axon branches are []\n",
      "The following are not valid: []\n",
      "\n",
      "----- Working on L5 ------\n",
      "\n",
      "\n",
      "For limb 5 the valid axon branches are []\n",
      "The following are not valid: []\n",
      "\n",
      "----- Working on L7 ------\n",
      "\n",
      "\n",
      "For limb 7 the valid axon branches are []\n",
      "The following are not valid: []\n",
      "\n",
      "----- Working on L9 ------\n",
      "\n",
      "\n",
      "For limb 9 the valid axon branches are []\n",
      "The following are not valid: []\n",
      "final_error_axons = {'L1': array([ 6,  7,  8,  9, 12, 13]), 'L0': [], 'L2': [2, 3, 4, 5, 7, 8, 9, 10, 11, 12, 13, 18, 19, 20, 21], 'L3': [7, 8, 10, 11, 12, 13, 14], 'L4': [], 'L5': [], 'L7': [], 'L9': []}\n",
      "\n",
      "\n",
      " -------- Total number of error faces = 49496 --------------\n",
      "\n",
      "\n",
      " ------ Total time for 864691135740225387 = 84.8201310634613 ------\n"
     ]
    }
   ],
   "source": [
    "segment_id = key[\"segment_id\"]\n",
    "global_start = time.time()\n",
    "\n",
    "verbose = True\n",
    "\n",
    "print(f\"\\n\\n----- Working on {segment_id}-------\")\n",
    "whole_pass_time = time.time()\n",
    "\n",
    "neuron_obj = (minnie.Decomposition() & key).fetch1(\"decomposition\")\n",
    "\n",
    "print(f\"\\n\\n ------ Total time for {segment_id} = {time.time() - global_start} ------\")"
   ]
  },
  {
   "cell_type": "code",
   "execution_count": 8,
   "metadata": {},
   "outputs": [
    {
     "name": "stdout",
     "output_type": "stream",
     "text": [
      "functions_list = [<function width at 0x7f7c48df47b8>, <function median_mesh_center at 0x7f7c48df4a60>, <function n_spines at 0x7f7c48df48c8>, <function n_faces_branch at 0x7f7c49470488>, <function skeleton_distance_branch at 0x7f7c48df4840>, <function spines_per_skeletal_length at 0x7f7c48df4d08>, <function no_spine_median_mesh_center at 0x7f7c48df4b70>]\n",
      "functions_list = [<function axon_segment at 0x7f7c48df6400>]\n",
      "Axons not keeping because of soma: {'L1': array([ 6,  7,  8,  9, 12, 13])}\n",
      "\n",
      "----- Working on L0 ------\n",
      "-- Axon Group 0 of size 29--\n",
      "   Working on soma 0, starting_node 4\n",
      "Not using AIS angle threshold\n",
      "sk_angle= 8.215939908057189\n",
      "-- Axon Group 1 of size 1--\n",
      "   Working on soma 0, starting_node 4\n",
      "Not using AIS angle threshold\n",
      "sk_angle= 8.215939908057189\n",
      "-- Axon Group 2 of size 1--\n",
      "   Working on soma 0, starting_node 4\n",
      "Not using AIS angle threshold\n",
      "sk_angle= 8.215939908057189\n",
      "-- Axon Group 3 of size 5--\n",
      "   Working on soma 0, starting_node 4\n",
      "Not using AIS angle threshold\n",
      "sk_angle= 8.215939908057189\n",
      "-- Axon Group 4 of size 9--\n",
      "   Working on soma 0, starting_node 4\n",
      "Not using AIS angle threshold\n",
      "sk_angle= 8.215939908057189\n",
      "-- Axon Group 5 of size 9--\n",
      "   Working on soma 0, starting_node 4\n",
      "Not using AIS angle threshold\n",
      "sk_angle= 8.215939908057189\n",
      "-- Axon Group 6 of size 5--\n",
      "   Working on soma 0, starting_node 4\n",
      "Not using AIS angle threshold\n",
      "sk_angle= 8.215939908057189\n",
      "-- Axon Group 7 of size 3--\n",
      "   Working on soma 0, starting_node 4\n",
      "Not using AIS angle threshold\n",
      "sk_angle= 8.215939908057189\n",
      "-- Axon Group 8 of size 43--\n",
      "   Working on soma 0, starting_node 4\n",
      "Not using AIS angle threshold\n",
      "sk_angle= 8.215939908057189\n",
      "-- Axon Group 9 of size 3--\n",
      "   Working on soma 0, starting_node 4\n",
      "Not using AIS angle threshold\n",
      "sk_angle= 8.215939908057189\n",
      "-- Axon Group 10 of size 3--\n",
      "   Working on soma 0, starting_node 4\n",
      "Not using AIS angle threshold\n",
      "sk_angle= 8.215939908057189\n",
      "\n",
      "\n",
      "For limb 0 the valid axon branches are [  0   1   2   3  35  36  37  38  39  40  41  42  43  45  54  55  56  80\n",
      "  92  95  99 104 105 106 107 114 115 124 126  44  88 130  74  75  76  79\n",
      " 128 121  71  72  73 119 120  89 122  66  67   5   6  90  91 127  62  63\n",
      "  32  33  34  97  98  57  58  77 131  12  13  14  15  16  17  18  19  20\n",
      "  21  26  27  28  29  30  31  49  51  52  53  59  60  61  64  65  70  78\n",
      "  86  87  93  94  96 100 101 102 103 111 112 116 117 118 125 113 109 110\n",
      "  81  82 123]\n",
      "The following are not valid: []\n",
      "\n",
      "----- Working on L2 ------\n",
      "-- Axon Group 0 of size 15--\n",
      "   Working on soma 0, starting_node 0\n",
      "Not using AIS angle threshold\n",
      "sk_angle= 108.23025260640867\n",
      "*****Path to axon group not valid******\n",
      "\n",
      "\n",
      "For limb 2 the valid axon branches are []\n",
      "The following are not valid: [2, 3, 4, 5, 7, 8, 9, 10, 11, 12, 13, 18, 19, 20, 21]\n",
      "\n",
      "----- Working on L3 ------\n",
      "-- Axon Group 0 of size 7--\n",
      "   Working on soma 0, starting_node 3\n",
      "Not using AIS angle threshold\n",
      "sk_angle= 96.58083861926315\n",
      "*****Path to axon group not valid******\n",
      "\n",
      "\n",
      "For limb 3 the valid axon branches are []\n",
      "The following are not valid: [7, 8, 10, 11, 12, 13, 14]\n",
      "\n",
      "----- Working on L4 ------\n",
      "\n",
      "\n",
      "For limb 4 the valid axon branches are []\n",
      "The following are not valid: []\n",
      "\n",
      "----- Working on L5 ------\n",
      "\n",
      "\n",
      "For limb 5 the valid axon branches are []\n",
      "The following are not valid: []\n",
      "\n",
      "----- Working on L7 ------\n",
      "\n",
      "\n",
      "For limb 7 the valid axon branches are []\n",
      "The following are not valid: []\n",
      "\n",
      "----- Working on L9 ------\n",
      "\n",
      "\n",
      "For limb 9 the valid axon branches are []\n",
      "The following are not valid: []\n",
      "final_error_axons = {'L1': array([ 6,  7,  8,  9, 12, 13]), 'L0': [], 'L2': [2, 3, 4, 5, 7, 8, 9, 10, 11, 12, 13, 18, 19, 20, 21], 'L3': [7, 8, 10, 11, 12, 13, 14], 'L4': [], 'L5': [], 'L7': [], 'L9': []}\n",
      "\n",
      "\n",
      " -------- Total number of error faces = 49496 --------------\n",
      "Computing the axon and non-axonal faces\n"
     ]
    }
   ],
   "source": [
    "errored_faces,axon_faces,non_axon_faces = ed.error_faces_by_axons(neuron_obj,verbose=True,\n",
    "                                                                  visualize_errors_at_end=False,\n",
    "                                                                 return_axon_non_axon_faces=True)"
   ]
  },
  {
   "cell_type": "code",
   "execution_count": 11,
   "metadata": {},
   "outputs": [
    {
     "data": {
      "application/vnd.jupyter.widget-view+json": {
       "model_id": "d43e82505a674841a3e30e6f4759545b",
       "version_major": 2,
       "version_minor": 0
      },
      "text/plain": [
       "VBox(children=(Figure(camera=PerspectiveCamera(fov=46.0, position=(0.0, 0.0, 2.0), quaternion=(0.0, 0.0, 0.0, …"
      ]
     },
     "metadata": {},
     "output_type": "display_data"
    }
   ],
   "source": [
    "axon_mesh = neuron_obj.mesh.submesh([axon_faces],append=True)\n",
    "non_axon_mesh = neuron_obj.mesh.submesh([non_axon_faces],append=True)\n",
    "\n",
    "nviz.plot_objects(meshes=[axon_mesh,non_axon_mesh],\n",
    "                 meshes_colors=[\"red\",\"black\"],\n",
    "                 mesh_alpha=1)"
   ]
  },
  {
   "cell_type": "markdown",
   "metadata": {},
   "source": [
    "# Visualize the Actual Neuron"
   ]
  },
  {
   "cell_type": "code",
   "execution_count": 12,
   "metadata": {},
   "outputs": [
    {
     "name": "stdout",
     "output_type": "stream",
     "text": [
      "864691135740225387\n"
     ]
    },
    {
     "data": {
      "application/vnd.jupyter.widget-view+json": {
       "model_id": "d6f64f6e35c349a6a12061fa43485b3d",
       "version_major": 2,
       "version_minor": 0
      },
      "text/plain": [
       "VBox(children=(Figure(camera=PerspectiveCamera(fov=46.0, position=(0.0, 0.0, 2.0), quaternion=(0.0, 0.0, 0.0, …"
      ]
     },
     "metadata": {},
     "output_type": "display_data"
    }
   ],
   "source": [
    "print(neuron_obj.segment_id)\n",
    "nviz.plot_objects(main_mesh=neuron_obj.mesh,\n",
    "             mesh_alpha=1)"
   ]
  },
  {
   "cell_type": "markdown",
   "metadata": {},
   "source": [
    "# Visualize the Results"
   ]
  },
  {
   "cell_type": "code",
   "execution_count": 13,
   "metadata": {},
   "outputs": [
    {
     "name": "stdout",
     "output_type": "stream",
     "text": [
      "n_errored_faces = 49496\n"
     ]
    }
   ],
   "source": [
    "print(f\"n_errored_faces = {len(errored_faces)}\")"
   ]
  },
  {
   "cell_type": "code",
   "execution_count": 14,
   "metadata": {},
   "outputs": [],
   "source": [
    "ed = reload(ed)\n",
    "\n",
    "\n",
    "if neuron_obj is None:\n",
    "    neuron_obj = (minnie.Decomposition() & dict(segment_id=segment_id)).fetch1(\"decomposition\")\n",
    "\n",
    "current_mesh = neuron_obj.mesh\n",
    "\n",
    "error_submesh = current_mesh.submesh([errored_faces],append=True)\n",
    "valid_mesh = tu.subtract_mesh(current_mesh,error_submesh)"
   ]
  },
  {
   "cell_type": "code",
   "execution_count": 15,
   "metadata": {},
   "outputs": [
    {
     "data": {
      "application/vnd.jupyter.widget-view+json": {
       "model_id": "cce8334468ad4a3e8758667a7a6979ba",
       "version_major": 2,
       "version_minor": 0
      },
      "text/plain": [
       "VBox(children=(Figure(camera=PerspectiveCamera(fov=46.0, position=(0.0, 0.0, 2.0), quaternion=(0.0, 0.0, 0.0, …"
      ]
     },
     "metadata": {},
     "output_type": "display_data"
    }
   ],
   "source": [
    "nviz.plot_objects(main_mesh=valid_mesh,\n",
    "             meshes=error_submesh,\n",
    "              meshes_colors=\"red\",\n",
    "             mesh_alpha=1)"
   ]
  },
  {
   "cell_type": "markdown",
   "metadata": {},
   "source": [
    "# How to get the percentage of synapses removed"
   ]
  },
  {
   "cell_type": "code",
   "execution_count": 16,
   "metadata": {},
   "outputs": [
    {
     "data": {
      "text/plain": [
       "\"\\nPseudocode: \\n1) Get the synapse file that corresponds to it\\n2) Get the matching v7 id\\n3) Get the v7 synapses (pre and post) that are still there\\n4) Get the pre and post that are stil their after autoproofreading\\n5) Things to find:\\n- Eliminated and should have been (true positives)\\n- Eliminated but SHOULDN'T (false positives) \\n- Not Eliminated and should have been not (true negative)\\n- Not Eliminated but should have been eliminated (false negatie) \\n\\n\""
      ]
     },
     "execution_count": 16,
     "metadata": {},
     "output_type": "execute_result"
    }
   ],
   "source": [
    "\"\"\"\n",
    "Pseudocode: \n",
    "1) Get the synapse file that corresponds to it\n",
    "2) Get the matching v7 id\n",
    "3) Get the v7 synapses (pre and post) that are still there\n",
    "4) Get the pre and post that are stil their after autoproofreading\n",
    "5) Things to find:\n",
    "- Eliminated and should have been (true positives)\n",
    "- Eliminated but SHOULDN'T (false positives) \n",
    "- Not Eliminated and should have been not (true negative)\n",
    "- Not Eliminated but should have been eliminated (false negatie) \n",
    "\n",
    "\"\"\""
   ]
  },
  {
   "cell_type": "code",
   "execution_count": 17,
   "metadata": {},
   "outputs": [
    {
     "data": {
      "text/plain": [
       "PosixPath('manual_proofread_data/864691135740225387.pkl')"
      ]
     },
     "execution_count": 17,
     "metadata": {},
     "output_type": "execute_result"
    }
   ],
   "source": [
    "# 1) Get the synapse file that corresponds to it\n",
    "data_path = Path(\"./manual_proofread_data/\")\n",
    "current_file = data_path / Path(f\"{segment_id}.pkl\")\n",
    "current_file"
   ]
  },
  {
   "cell_type": "code",
   "execution_count": 19,
   "metadata": {},
   "outputs": [
    {
     "data": {
      "text/html": [
       "<div>\n",
       "<style scoped>\n",
       "    .dataframe tbody tr th:only-of-type {\n",
       "        vertical-align: middle;\n",
       "    }\n",
       "\n",
       "    .dataframe tbody tr th {\n",
       "        vertical-align: top;\n",
       "    }\n",
       "\n",
       "    .dataframe thead th {\n",
       "        text-align: right;\n",
       "    }\n",
       "</style>\n",
       "<table border=\"1\" class=\"dataframe\">\n",
       "  <thead>\n",
       "    <tr style=\"text-align: right;\">\n",
       "      <th></th>\n",
       "      <th>id</th>\n",
       "      <th>valid</th>\n",
       "      <th>pre_pt_position</th>\n",
       "      <th>pre_pt_supervoxel_id</th>\n",
       "      <th>pre_pt_root_id</th>\n",
       "      <th>ctr_pt_position</th>\n",
       "      <th>post_pt_position</th>\n",
       "      <th>post_pt_supervoxel_id</th>\n",
       "      <th>post_pt_root_id</th>\n",
       "      <th>size</th>\n",
       "      <th>pre_pt_root_id_Aug</th>\n",
       "      <th>post_pt_root_id_Aug</th>\n",
       "    </tr>\n",
       "  </thead>\n",
       "  <tbody>\n",
       "    <tr>\n",
       "      <th>0</th>\n",
       "      <td>74367625</td>\n",
       "      <td>True</td>\n",
       "      <td>[129888, 204022, 22714]</td>\n",
       "      <td>82632148124941862</td>\n",
       "      <td>864691135581639021</td>\n",
       "      <td>[129906, 204010, 22717]</td>\n",
       "      <td>[129872, 204028, 22718]</td>\n",
       "      <td>82632148124954543</td>\n",
       "      <td>864691135058569627</td>\n",
       "      <td>236.0</td>\n",
       "      <td>8.646911e+17</td>\n",
       "      <td>8.646911e+17</td>\n",
       "    </tr>\n",
       "    <tr>\n",
       "      <th>1</th>\n",
       "      <td>74367860</td>\n",
       "      <td>True</td>\n",
       "      <td>[130232, 204084, 22678]</td>\n",
       "      <td>82702516869082631</td>\n",
       "      <td>864691135581639021</td>\n",
       "      <td>[130252, 204148, 22680]</td>\n",
       "      <td>[130306, 204182, 22685]</td>\n",
       "      <td>82702516869083800</td>\n",
       "      <td>864691136911681009</td>\n",
       "      <td>12012.0</td>\n",
       "      <td>8.646911e+17</td>\n",
       "      <td>8.646911e+17</td>\n",
       "    </tr>\n",
       "    <tr>\n",
       "      <th>2</th>\n",
       "      <td>84520779</td>\n",
       "      <td>True</td>\n",
       "      <td>[130948, 203778, 22628]</td>\n",
       "      <td>82772816893726946</td>\n",
       "      <td>864691135581639021</td>\n",
       "      <td>[130930, 203816, 22630]</td>\n",
       "      <td>[130934, 203850, 22632]</td>\n",
       "      <td>82772816893732334</td>\n",
       "      <td>864691132784239882</td>\n",
       "      <td>3284.0</td>\n",
       "      <td>8.646911e+17</td>\n",
       "      <td>8.646911e+17</td>\n",
       "    </tr>\n",
       "    <tr>\n",
       "      <th>3</th>\n",
       "      <td>78498590</td>\n",
       "      <td>True</td>\n",
       "      <td>[134054, 203094, 22498]</td>\n",
       "      <td>83194960572609323</td>\n",
       "      <td>864691135581639021</td>\n",
       "      <td>[134086, 203078, 22494]</td>\n",
       "      <td>[134050, 203156, 22486]</td>\n",
       "      <td>83194960572599439</td>\n",
       "      <td>864691136827218542</td>\n",
       "      <td>1652.0</td>\n",
       "      <td>8.646911e+17</td>\n",
       "      <td>8.646911e+17</td>\n",
       "    </tr>\n",
       "    <tr>\n",
       "      <th>4</th>\n",
       "      <td>83921928</td>\n",
       "      <td>True</td>\n",
       "      <td>[134316, 182582, 15810]</td>\n",
       "      <td>83262579665287514</td>\n",
       "      <td>864691135864764636</td>\n",
       "      <td>[134343, 182606, 15804]</td>\n",
       "      <td>[134384, 182622, 15800]</td>\n",
       "      <td>83262579665279195</td>\n",
       "      <td>864691136050856947</td>\n",
       "      <td>872.0</td>\n",
       "      <td>8.646911e+17</td>\n",
       "      <td>8.646911e+17</td>\n",
       "    </tr>\n",
       "    <tr>\n",
       "      <th>...</th>\n",
       "      <td>...</td>\n",
       "      <td>...</td>\n",
       "      <td>...</td>\n",
       "      <td>...</td>\n",
       "      <td>...</td>\n",
       "      <td>...</td>\n",
       "      <td>...</td>\n",
       "      <td>...</td>\n",
       "      <td>...</td>\n",
       "      <td>...</td>\n",
       "      <td>...</td>\n",
       "      <td>...</td>\n",
       "    </tr>\n",
       "    <tr>\n",
       "      <th>201</th>\n",
       "      <td>215374443</td>\n",
       "      <td>True</td>\n",
       "      <td>[209912, 168554, 16454]</td>\n",
       "      <td>93604861047846413</td>\n",
       "      <td>864691136105183863</td>\n",
       "      <td>[209900, 168580, 16457]</td>\n",
       "      <td>[209830, 168658, 16459]</td>\n",
       "      <td>93604929767341297</td>\n",
       "      <td>864691137197005377</td>\n",
       "      <td>2004.0</td>\n",
       "      <td>8.646911e+17</td>\n",
       "      <td>8.646911e+17</td>\n",
       "    </tr>\n",
       "    <tr>\n",
       "      <th>202</th>\n",
       "      <td>214539925</td>\n",
       "      <td>True</td>\n",
       "      <td>[209734, 184976, 19378]</td>\n",
       "      <td>93607060407073900</td>\n",
       "      <td>864691136333747635</td>\n",
       "      <td>[209710, 185028, 19384]</td>\n",
       "      <td>[209668, 185070, 19385]</td>\n",
       "      <td>93607129126570249</td>\n",
       "      <td>864691137197005377</td>\n",
       "      <td>1000.0</td>\n",
       "      <td>8.646911e+17</td>\n",
       "      <td>8.646911e+17</td>\n",
       "    </tr>\n",
       "    <tr>\n",
       "      <th>203</th>\n",
       "      <td>215374827</td>\n",
       "      <td>True</td>\n",
       "      <td>[210448, 168846, 16417]</td>\n",
       "      <td>93675298511464573</td>\n",
       "      <td>864691135711530241</td>\n",
       "      <td>[210444, 168904, 16414]</td>\n",
       "      <td>[210418, 168918, 16414]</td>\n",
       "      <td>93675298511457661</td>\n",
       "      <td>864691137197005377</td>\n",
       "      <td>24244.0</td>\n",
       "      <td>8.646911e+17</td>\n",
       "      <td>8.646911e+17</td>\n",
       "    </tr>\n",
       "    <tr>\n",
       "      <th>204</th>\n",
       "      <td>215375986</td>\n",
       "      <td>True</td>\n",
       "      <td>[210550, 168830, 16447]</td>\n",
       "      <td>93745667255664012</td>\n",
       "      <td>864691134732960264</td>\n",
       "      <td>[210558, 168792, 16452]</td>\n",
       "      <td>[210488, 168762, 16448]</td>\n",
       "      <td>93745667255667425</td>\n",
       "      <td>864691137197005377</td>\n",
       "      <td>1084.0</td>\n",
       "      <td>8.646911e+17</td>\n",
       "      <td>8.646911e+17</td>\n",
       "    </tr>\n",
       "    <tr>\n",
       "      <th>206</th>\n",
       "      <td>215376669</td>\n",
       "      <td>True</td>\n",
       "      <td>[211334, 168894, 16436]</td>\n",
       "      <td>93816035999827213</td>\n",
       "      <td>864691135337641553</td>\n",
       "      <td>[211366, 168830, 16428]</td>\n",
       "      <td>[211312, 168808, 16428]</td>\n",
       "      <td>93816035999827185</td>\n",
       "      <td>864691137197005377</td>\n",
       "      <td>1700.0</td>\n",
       "      <td>8.646911e+17</td>\n",
       "      <td>8.646911e+17</td>\n",
       "    </tr>\n",
       "  </tbody>\n",
       "</table>\n",
       "<p>2523 rows × 12 columns</p>\n",
       "</div>"
      ],
      "text/plain": [
       "            id  valid          pre_pt_position  pre_pt_supervoxel_id  \\\n",
       "0     74367625   True  [129888, 204022, 22714]     82632148124941862   \n",
       "1     74367860   True  [130232, 204084, 22678]     82702516869082631   \n",
       "2     84520779   True  [130948, 203778, 22628]     82772816893726946   \n",
       "3     78498590   True  [134054, 203094, 22498]     83194960572609323   \n",
       "4     83921928   True  [134316, 182582, 15810]     83262579665287514   \n",
       "..         ...    ...                      ...                   ...   \n",
       "201  215374443   True  [209912, 168554, 16454]     93604861047846413   \n",
       "202  214539925   True  [209734, 184976, 19378]     93607060407073900   \n",
       "203  215374827   True  [210448, 168846, 16417]     93675298511464573   \n",
       "204  215375986   True  [210550, 168830, 16447]     93745667255664012   \n",
       "206  215376669   True  [211334, 168894, 16436]     93816035999827213   \n",
       "\n",
       "         pre_pt_root_id          ctr_pt_position         post_pt_position  \\\n",
       "0    864691135581639021  [129906, 204010, 22717]  [129872, 204028, 22718]   \n",
       "1    864691135581639021  [130252, 204148, 22680]  [130306, 204182, 22685]   \n",
       "2    864691135581639021  [130930, 203816, 22630]  [130934, 203850, 22632]   \n",
       "3    864691135581639021  [134086, 203078, 22494]  [134050, 203156, 22486]   \n",
       "4    864691135864764636  [134343, 182606, 15804]  [134384, 182622, 15800]   \n",
       "..                  ...                      ...                      ...   \n",
       "201  864691136105183863  [209900, 168580, 16457]  [209830, 168658, 16459]   \n",
       "202  864691136333747635  [209710, 185028, 19384]  [209668, 185070, 19385]   \n",
       "203  864691135711530241  [210444, 168904, 16414]  [210418, 168918, 16414]   \n",
       "204  864691134732960264  [210558, 168792, 16452]  [210488, 168762, 16448]   \n",
       "206  864691135337641553  [211366, 168830, 16428]  [211312, 168808, 16428]   \n",
       "\n",
       "     post_pt_supervoxel_id     post_pt_root_id     size  pre_pt_root_id_Aug  \\\n",
       "0        82632148124954543  864691135058569627    236.0        8.646911e+17   \n",
       "1        82702516869083800  864691136911681009  12012.0        8.646911e+17   \n",
       "2        82772816893732334  864691132784239882   3284.0        8.646911e+17   \n",
       "3        83194960572599439  864691136827218542   1652.0        8.646911e+17   \n",
       "4        83262579665279195  864691136050856947    872.0        8.646911e+17   \n",
       "..                     ...                 ...      ...                 ...   \n",
       "201      93604929767341297  864691137197005377   2004.0        8.646911e+17   \n",
       "202      93607129126570249  864691137197005377   1000.0        8.646911e+17   \n",
       "203      93675298511457661  864691137197005377  24244.0        8.646911e+17   \n",
       "204      93745667255667425  864691137197005377   1084.0        8.646911e+17   \n",
       "206      93816035999827185  864691137197005377   1700.0        8.646911e+17   \n",
       "\n",
       "     post_pt_root_id_Aug  \n",
       "0           8.646911e+17  \n",
       "1           8.646911e+17  \n",
       "2           8.646911e+17  \n",
       "3           8.646911e+17  \n",
       "4           8.646911e+17  \n",
       "..                   ...  \n",
       "201         8.646911e+17  \n",
       "202         8.646911e+17  \n",
       "203         8.646911e+17  \n",
       "204         8.646911e+17  \n",
       "206         8.646911e+17  \n",
       "\n",
       "[2523 rows x 12 columns]"
      ]
     },
     "execution_count": 19,
     "metadata": {},
     "output_type": "execute_result"
    }
   ],
   "source": [
    "import system_utils as su\n",
    "curr_synapse_table = su.load_object(current_file)\n",
    "#eliminating the self connections\n",
    "df_pre_filt = curr_synapse_table[curr_synapse_table[\"pre_pt_root_id_Aug\"] != curr_synapse_table[\"post_pt_root_id_Aug\"]]\n",
    "df_pre_filt"
   ]
  },
  {
   "cell_type": "code",
   "execution_count": 32,
   "metadata": {},
   "outputs": [
    {
     "data": {
      "text/plain": [
       "array([   0,    1,    2,    3,    5,    6,    7,    8,    9,   10,   11,\n",
       "         12,   13,   14,   15,   16,   17,   20,   21,   22,   23,   24,\n",
       "         26,   27,   28,   29,   30,   31,   32,   33,   34,   35,   36,\n",
       "         37,   38,   39,   40,   41,   42,   43,   44,   45,   46,   47,\n",
       "         48,   49,   50,   51,   52,   53,   54,   55,   56,   68,   69,\n",
       "         70,   71,   72,   73,   74,   76,   77,   78,   79,   80,   81,\n",
       "         82,   83,   84,   85,   86,   87,   88,   89,   90,   91,   92,\n",
       "         93,   94,   95,   96,   97,   99,  100,  101,  102,  103,  104,\n",
       "        105,  106,  108,  109,  111,  112,  113,  123,  127,  128,  129,\n",
       "        130,  131,  133,  134,  135,  136,  137,  138,  139,  140,  141,\n",
       "        142,  143,  150,  151,  152,  159,  165,  169,  173,  185,  186,\n",
       "        187,  188,  192,  193,  194,  197,  198,  199,  201,  205,  206,\n",
       "        207,  208,  209,  210,  211,  212,  213,  214,  215,  216,  217,\n",
       "        218,  219,  221,  223,  224,  225,  226,  227,  228,  229,  230,\n",
       "        231,  232,  233,  234,  235,  236,  237,  238,  239,  240,  241,\n",
       "        242,  243,  244,  245,  246,  254,  255,  258,  264,  266,  267,\n",
       "        268,  269,  270,  272,  274,  275,  280,  281,  282,  283,  284,\n",
       "        285,  287,  288,  289,  290,  291,  292,  293,  294,  295,  296,\n",
       "        297,  298,  299,  300,  301,  302,  304,  305,  309,  310,  311,\n",
       "        312,  313,  314,  316,  317,  318,  319,  320,  321,  322,  323,\n",
       "        324,  325,  326,  327,  328,  329,  330,  331,  332,  333,  334,\n",
       "        335,  336,  337,  338,  340,  341,  342,  343,  344,  346,  347,\n",
       "        348,  349,  350,  351,  352,  353,  354,  355,  356,  357,  358,\n",
       "        359,  360,  361,  362,  363,  364,  365,  366,  367,  368,  369,\n",
       "        370,  371,  372,  373,  374,  375,  376,  377,  378,  379,  380,\n",
       "        381,  382,  383,  384,  385,  386,  387,  388,  389,  391,  392,\n",
       "        393,  394,  395,  396,  397,  398,  399,  400,  401,  402,  403,\n",
       "        404,  405,  406,  407,  408,  409,  410,  411,  412,  413,  414,\n",
       "        415,  416,  418,  419,  420,  421,  423,  424,  425,  426,  427,\n",
       "        428,  429,  430,  431,  432,  433,  434,  435,  436,  437,  438,\n",
       "        439,  440,  441,  442,  443,  444,  445,  446,  447,  448,  449,\n",
       "        450,  451,  452,  453,  454,  455,  468,  652, 1250, 1817, 2501,\n",
       "       2502, 2503, 2507, 2508, 2510, 2512, 2516, 2517, 2519])"
      ]
     },
     "execution_count": 32,
     "metadata": {},
     "output_type": "execute_result"
    }
   ],
   "source": [
    "from pykdtree.kdtree import KDTree\n",
    "# -------------- New Addittion: want to filter the synapses for only those on non-axonal faces ---- #\n",
    "\n",
    "#A) Get the synapse data for the august neuron \n",
    "ctr_pt_position = df_pre_filt[\"ctr_pt_position\"].to_numpy()\n",
    "synapse_ids = df_pre_filt[\"id\"].to_numpy()\n",
    "synapse_centers = np.vstack(ctr_pt_position)\n",
    "synapse_centers_scaled = synapse_centers* [4, 4, 40]\n",
    "synapse_ids.shape,synapse_centers.shape\n",
    "\n",
    "#B) Filter to only those ids that are close to \n",
    "\n",
    "\n",
    "current_mesh = neuron_obj.mesh\n",
    "neuron_kd = KDTree(current_mesh.triangles_center)\n",
    "dist,closest_face = neuron_kd.query(synapse_centers_scaled)\n",
    "\n",
    "neuron_mesh_labels = np.zeros(len(current_mesh.faces))\n",
    "neuron_mesh_labels[axon_faces] = 1\n",
    "closest_face_labels = neuron_mesh_labels[closest_face]\n",
    "\n",
    "not_considered_synapses_idx = np.where(closest_face_labels==1)[0]\n",
    "not_considered_synapses_idx\n",
    "\n"
   ]
  },
  {
   "cell_type": "markdown",
   "metadata": {},
   "source": [
    "# Visualize the Cancelled Synapses"
   ]
  },
  {
   "cell_type": "code",
   "execution_count": 33,
   "metadata": {},
   "outputs": [
    {
     "data": {
      "application/vnd.jupyter.widget-view+json": {
       "model_id": "65372bfde5cf49368d4d16ff25dc0031",
       "version_major": 2,
       "version_minor": 0
      },
      "text/plain": [
       "VBox(children=(Figure(camera=PerspectiveCamera(fov=46.0, position=(0.0, 0.0, 2.0), quaternion=(0.0, 0.0, 0.0, …"
      ]
     },
     "metadata": {},
     "output_type": "display_data"
    }
   ],
   "source": [
    "nviz.plot_objects(meshes=[axon_mesh,non_axon_mesh],\n",
    "                  meshes_colors=[\"red\",\"black\"],\n",
    "                 scatters=[synapse_centers_scaled[not_considered_synapses_idx].reshape(-1,3).reshape(-1,3)],\n",
    "                 scatters_colors=\"red\")"
   ]
  },
  {
   "cell_type": "markdown",
   "metadata": {},
   "source": [
    "# Resetting the table to only include the non-axon synapses"
   ]
  },
  {
   "cell_type": "code",
   "execution_count": 34,
   "metadata": {},
   "outputs": [
    {
     "data": {
      "text/html": [
       "<div>\n",
       "<style scoped>\n",
       "    .dataframe tbody tr th:only-of-type {\n",
       "        vertical-align: middle;\n",
       "    }\n",
       "\n",
       "    .dataframe tbody tr th {\n",
       "        vertical-align: top;\n",
       "    }\n",
       "\n",
       "    .dataframe thead th {\n",
       "        text-align: right;\n",
       "    }\n",
       "</style>\n",
       "<table border=\"1\" class=\"dataframe\">\n",
       "  <thead>\n",
       "    <tr style=\"text-align: right;\">\n",
       "      <th></th>\n",
       "      <th>id</th>\n",
       "      <th>valid</th>\n",
       "      <th>pre_pt_position</th>\n",
       "      <th>pre_pt_supervoxel_id</th>\n",
       "      <th>pre_pt_root_id</th>\n",
       "      <th>ctr_pt_position</th>\n",
       "      <th>post_pt_position</th>\n",
       "      <th>post_pt_supervoxel_id</th>\n",
       "      <th>post_pt_root_id</th>\n",
       "      <th>size</th>\n",
       "      <th>pre_pt_root_id_Aug</th>\n",
       "      <th>post_pt_root_id_Aug</th>\n",
       "    </tr>\n",
       "  </thead>\n",
       "  <tbody>\n",
       "    <tr>\n",
       "      <th>4</th>\n",
       "      <td>83921928</td>\n",
       "      <td>True</td>\n",
       "      <td>[134316, 182582, 15810]</td>\n",
       "      <td>83262579665287514</td>\n",
       "      <td>864691135864764636</td>\n",
       "      <td>[134343, 182606, 15804]</td>\n",
       "      <td>[134384, 182622, 15800]</td>\n",
       "      <td>83262579665279195</td>\n",
       "      <td>864691136050856947</td>\n",
       "      <td>872.0</td>\n",
       "      <td>8.646911e+17</td>\n",
       "      <td>8.646911e+17</td>\n",
       "    </tr>\n",
       "    <tr>\n",
       "      <th>18</th>\n",
       "      <td>122630591</td>\n",
       "      <td>True</td>\n",
       "      <td>[157968, 92510, 21197]</td>\n",
       "      <td>86487448007465779</td>\n",
       "      <td>864691135117860061</td>\n",
       "      <td>[158036, 92466, 21190]</td>\n",
       "      <td>[158098, 92510, 21188]</td>\n",
       "      <td>86487448007456413</td>\n",
       "      <td>864691136460649700</td>\n",
       "      <td>7936.0</td>\n",
       "      <td>8.646911e+17</td>\n",
       "      <td>8.646911e+17</td>\n",
       "    </tr>\n",
       "    <tr>\n",
       "      <th>19</th>\n",
       "      <td>132082418</td>\n",
       "      <td>True</td>\n",
       "      <td>[159300, 125294, 21167]</td>\n",
       "      <td>86702952286479151</td>\n",
       "      <td>864691136951664863</td>\n",
       "      <td>[159284, 125352, 21160]</td>\n",
       "      <td>[159270, 125424, 21155]</td>\n",
       "      <td>86702952286469405</td>\n",
       "      <td>864691135476161192</td>\n",
       "      <td>4604.0</td>\n",
       "      <td>8.646911e+17</td>\n",
       "      <td>8.646911e+17</td>\n",
       "    </tr>\n",
       "    <tr>\n",
       "      <th>25</th>\n",
       "      <td>143737302</td>\n",
       "      <td>True</td>\n",
       "      <td>[167714, 174378, 22327]</td>\n",
       "      <td>87835449397450476</td>\n",
       "      <td>864691136951664863</td>\n",
       "      <td>[167789, 174346, 22326]</td>\n",
       "      <td>[167834, 174372, 22330]</td>\n",
       "      <td>87835449397453110</td>\n",
       "      <td>864691134677566408</td>\n",
       "      <td>8808.0</td>\n",
       "      <td>8.646911e+17</td>\n",
       "      <td>8.646911e+17</td>\n",
       "    </tr>\n",
       "    <tr>\n",
       "      <th>58</th>\n",
       "      <td>196069947</td>\n",
       "      <td>True</td>\n",
       "      <td>[197006, 166954, 19788]</td>\n",
       "      <td>91845436687893349</td>\n",
       "      <td>864691136031798459</td>\n",
       "      <td>[197040, 166942, 19795]</td>\n",
       "      <td>[197058, 167028, 19795]</td>\n",
       "      <td>91845436687898133</td>\n",
       "      <td>864691135888529033</td>\n",
       "      <td>2704.0</td>\n",
       "      <td>8.646911e+17</td>\n",
       "      <td>8.646911e+17</td>\n",
       "    </tr>\n",
       "    <tr>\n",
       "      <th>...</th>\n",
       "      <td>...</td>\n",
       "      <td>...</td>\n",
       "      <td>...</td>\n",
       "      <td>...</td>\n",
       "      <td>...</td>\n",
       "      <td>...</td>\n",
       "      <td>...</td>\n",
       "      <td>...</td>\n",
       "      <td>...</td>\n",
       "      <td>...</td>\n",
       "      <td>...</td>\n",
       "      <td>...</td>\n",
       "    </tr>\n",
       "    <tr>\n",
       "      <th>198</th>\n",
       "      <td>215374456</td>\n",
       "      <td>True</td>\n",
       "      <td>[209956, 168678, 16498]</td>\n",
       "      <td>93675298511558919</td>\n",
       "      <td>864691135058570907</td>\n",
       "      <td>[209933, 168654, 16504]</td>\n",
       "      <td>[209874, 168644, 16504]</td>\n",
       "      <td>93604861047897947</td>\n",
       "      <td>864691137197005377</td>\n",
       "      <td>5676.0</td>\n",
       "      <td>8.646911e+17</td>\n",
       "      <td>8.646911e+17</td>\n",
       "    </tr>\n",
       "    <tr>\n",
       "      <th>201</th>\n",
       "      <td>215374443</td>\n",
       "      <td>True</td>\n",
       "      <td>[209912, 168554, 16454]</td>\n",
       "      <td>93604861047846413</td>\n",
       "      <td>864691136105183863</td>\n",
       "      <td>[209900, 168580, 16457]</td>\n",
       "      <td>[209830, 168658, 16459]</td>\n",
       "      <td>93604929767341297</td>\n",
       "      <td>864691137197005377</td>\n",
       "      <td>2004.0</td>\n",
       "      <td>8.646911e+17</td>\n",
       "      <td>8.646911e+17</td>\n",
       "    </tr>\n",
       "    <tr>\n",
       "      <th>203</th>\n",
       "      <td>215374827</td>\n",
       "      <td>True</td>\n",
       "      <td>[210448, 168846, 16417]</td>\n",
       "      <td>93675298511464573</td>\n",
       "      <td>864691135711530241</td>\n",
       "      <td>[210444, 168904, 16414]</td>\n",
       "      <td>[210418, 168918, 16414]</td>\n",
       "      <td>93675298511457661</td>\n",
       "      <td>864691137197005377</td>\n",
       "      <td>24244.0</td>\n",
       "      <td>8.646911e+17</td>\n",
       "      <td>8.646911e+17</td>\n",
       "    </tr>\n",
       "    <tr>\n",
       "      <th>204</th>\n",
       "      <td>215375986</td>\n",
       "      <td>True</td>\n",
       "      <td>[210550, 168830, 16447]</td>\n",
       "      <td>93745667255664012</td>\n",
       "      <td>864691134732960264</td>\n",
       "      <td>[210558, 168792, 16452]</td>\n",
       "      <td>[210488, 168762, 16448]</td>\n",
       "      <td>93745667255667425</td>\n",
       "      <td>864691137197005377</td>\n",
       "      <td>1084.0</td>\n",
       "      <td>8.646911e+17</td>\n",
       "      <td>8.646911e+17</td>\n",
       "    </tr>\n",
       "    <tr>\n",
       "      <th>206</th>\n",
       "      <td>215376669</td>\n",
       "      <td>True</td>\n",
       "      <td>[211334, 168894, 16436]</td>\n",
       "      <td>93816035999827213</td>\n",
       "      <td>864691135337641553</td>\n",
       "      <td>[211366, 168830, 16428]</td>\n",
       "      <td>[211312, 168808, 16428]</td>\n",
       "      <td>93816035999827185</td>\n",
       "      <td>864691137197005377</td>\n",
       "      <td>1700.0</td>\n",
       "      <td>8.646911e+17</td>\n",
       "      <td>8.646911e+17</td>\n",
       "    </tr>\n",
       "  </tbody>\n",
       "</table>\n",
       "<p>2162 rows × 12 columns</p>\n",
       "</div>"
      ],
      "text/plain": [
       "            id  valid          pre_pt_position  pre_pt_supervoxel_id  \\\n",
       "4     83921928   True  [134316, 182582, 15810]     83262579665287514   \n",
       "18   122630591   True   [157968, 92510, 21197]     86487448007465779   \n",
       "19   132082418   True  [159300, 125294, 21167]     86702952286479151   \n",
       "25   143737302   True  [167714, 174378, 22327]     87835449397450476   \n",
       "58   196069947   True  [197006, 166954, 19788]     91845436687893349   \n",
       "..         ...    ...                      ...                   ...   \n",
       "198  215374456   True  [209956, 168678, 16498]     93675298511558919   \n",
       "201  215374443   True  [209912, 168554, 16454]     93604861047846413   \n",
       "203  215374827   True  [210448, 168846, 16417]     93675298511464573   \n",
       "204  215375986   True  [210550, 168830, 16447]     93745667255664012   \n",
       "206  215376669   True  [211334, 168894, 16436]     93816035999827213   \n",
       "\n",
       "         pre_pt_root_id          ctr_pt_position         post_pt_position  \\\n",
       "4    864691135864764636  [134343, 182606, 15804]  [134384, 182622, 15800]   \n",
       "18   864691135117860061   [158036, 92466, 21190]   [158098, 92510, 21188]   \n",
       "19   864691136951664863  [159284, 125352, 21160]  [159270, 125424, 21155]   \n",
       "25   864691136951664863  [167789, 174346, 22326]  [167834, 174372, 22330]   \n",
       "58   864691136031798459  [197040, 166942, 19795]  [197058, 167028, 19795]   \n",
       "..                  ...                      ...                      ...   \n",
       "198  864691135058570907  [209933, 168654, 16504]  [209874, 168644, 16504]   \n",
       "201  864691136105183863  [209900, 168580, 16457]  [209830, 168658, 16459]   \n",
       "203  864691135711530241  [210444, 168904, 16414]  [210418, 168918, 16414]   \n",
       "204  864691134732960264  [210558, 168792, 16452]  [210488, 168762, 16448]   \n",
       "206  864691135337641553  [211366, 168830, 16428]  [211312, 168808, 16428]   \n",
       "\n",
       "     post_pt_supervoxel_id     post_pt_root_id     size  pre_pt_root_id_Aug  \\\n",
       "4        83262579665279195  864691136050856947    872.0        8.646911e+17   \n",
       "18       86487448007456413  864691136460649700   7936.0        8.646911e+17   \n",
       "19       86702952286469405  864691135476161192   4604.0        8.646911e+17   \n",
       "25       87835449397453110  864691134677566408   8808.0        8.646911e+17   \n",
       "58       91845436687898133  864691135888529033   2704.0        8.646911e+17   \n",
       "..                     ...                 ...      ...                 ...   \n",
       "198      93604861047897947  864691137197005377   5676.0        8.646911e+17   \n",
       "201      93604929767341297  864691137197005377   2004.0        8.646911e+17   \n",
       "203      93675298511457661  864691137197005377  24244.0        8.646911e+17   \n",
       "204      93745667255667425  864691137197005377   1084.0        8.646911e+17   \n",
       "206      93816035999827185  864691137197005377   1700.0        8.646911e+17   \n",
       "\n",
       "     post_pt_root_id_Aug  \n",
       "4           8.646911e+17  \n",
       "18          8.646911e+17  \n",
       "19          8.646911e+17  \n",
       "25          8.646911e+17  \n",
       "58          8.646911e+17  \n",
       "..                   ...  \n",
       "198         8.646911e+17  \n",
       "201         8.646911e+17  \n",
       "203         8.646911e+17  \n",
       "204         8.646911e+17  \n",
       "206         8.646911e+17  \n",
       "\n",
       "[2162 rows x 12 columns]"
      ]
     },
     "execution_count": 34,
     "metadata": {},
     "output_type": "execute_result"
    }
   ],
   "source": [
    "df = df_pre_filt[~df_pre_filt.id.isin(synapse_ids[not_considered_synapses])]\n",
    "df"
   ]
  },
  {
   "cell_type": "code",
   "execution_count": 38,
   "metadata": {},
   "outputs": [],
   "source": [
    "#1b) Get the synapse data for the august neuron \n",
    "ctr_pt_position = df[\"ctr_pt_position\"].to_numpy()\n",
    "synapse_ids = df[\"id\"].to_numpy()\n",
    "synapse_centers = np.vstack(ctr_pt_position)\n",
    "synapse_ids.shape,synapse_centers.shape\n",
    "timestamps = np.zeros(len(synapse_ids))"
   ]
  },
  {
   "cell_type": "code",
   "execution_count": 39,
   "metadata": {},
   "outputs": [
    {
     "data": {
      "text/plain": [
       "864691136951664863"
      ]
     },
     "execution_count": 39,
     "metadata": {},
     "output_type": "execute_result"
    }
   ],
   "source": [
    "# 2) Get the matching v7 id\n",
    "import pandas as pd\n",
    "aug_to_v7_table = pd.read_csv(\"./proofread_cells_seg_correspondence_Aug1-v7.csv\")\n",
    "v7_id = aug_to_v7_table[aug_to_v7_table[\"old_seg_id\"]==segment_id][\"new_seg_id\"].tolist()[0]\n",
    "v7_id"
   ]
  },
  {
   "cell_type": "code",
   "execution_count": 40,
   "metadata": {},
   "outputs": [
    {
     "data": {
      "text/plain": [
       "((2162,), True)"
      ]
     },
     "execution_count": 40,
     "metadata": {},
     "output_type": "execute_result"
    }
   ],
   "source": [
    "# check that the new v7 segment id is in the synapse table\n",
    "\n",
    "def get_pd_id_data(col_name,return_unique=False):\n",
    "    ret_data = df [col_name].to_numpy()\n",
    "    if return_unique:\n",
    "        return np.unique(ret_data)\n",
    "    else:\n",
    "        return ret_data\n",
    "    \n",
    "pre_pt_root_id = get_pd_id_data(\"pre_pt_root_id\")\n",
    "pre_pt_root_id.shape,v7_id in pre_pt_root_id"
   ]
  },
  {
   "cell_type": "code",
   "execution_count": 41,
   "metadata": {},
   "outputs": [
    {
     "data": {
      "text/plain": [
       "((2162,), True)"
      ]
     },
     "execution_count": 41,
     "metadata": {},
     "output_type": "execute_result"
    }
   ],
   "source": [
    "post_pt_root_id = get_pd_id_data(\"post_pt_root_id\")\n",
    "post_pt_root_id.shape,v7_id in post_pt_root_id"
   ]
  },
  {
   "cell_type": "code",
   "execution_count": 42,
   "metadata": {},
   "outputs": [
    {
     "data": {
      "text/plain": [
       "((109,), (2053,))"
      ]
     },
     "execution_count": 42,
     "metadata": {},
     "output_type": "execute_result"
    }
   ],
   "source": [
    "original_presyn = df[(df[\"pre_pt_root_id_Aug\"] == segment_id)][\"id\"].to_numpy()\n",
    "original_postsyn = df[(df[\"post_pt_root_id_Aug\"] == segment_id)][\"id\"].to_numpy()\n",
    "\n",
    "original_presyn.shape,original_postsyn.shape"
   ]
  },
  {
   "cell_type": "code",
   "execution_count": 43,
   "metadata": {},
   "outputs": [
    {
     "data": {
      "text/plain": [
       "((39,), (2037,))"
      ]
     },
     "execution_count": 43,
     "metadata": {},
     "output_type": "execute_result"
    }
   ],
   "source": [
    "#3) Get the v7 synapses (pre and post) that are still there\n",
    "manual_remaining_presyn = df[(df[\"pre_pt_root_id\"] == v7_id)][\"id\"].to_numpy()\n",
    "manual_remaining_postsyn = df[(df[\"post_pt_root_id\"] == v7_id)][\"id\"].to_numpy()\n",
    "manual_remaining_presyn.shape,manual_remaining_postsyn.shape"
   ]
  },
  {
   "cell_type": "code",
   "execution_count": 44,
   "metadata": {},
   "outputs": [
    {
     "data": {
      "text/plain": [
       "((70,), (16,))"
      ]
     },
     "execution_count": 44,
     "metadata": {},
     "output_type": "execute_result"
    }
   ],
   "source": [
    "# find the non-remaining presyns and postsyns\n",
    "manual_error_presyn = np.setdiff1d(original_presyn,manual_remaining_presyn)\n",
    "manual_error_postsyn = np.setdiff1d(original_postsyn,manual_remaining_postsyn)\n",
    "\n",
    "manual_error_presyn.shape,manual_error_postsyn.shape"
   ]
  },
  {
   "cell_type": "code",
   "execution_count": 45,
   "metadata": {},
   "outputs": [
    {
     "data": {
      "text/plain": [
       "(109, 2053)"
      ]
     },
     "execution_count": 45,
     "metadata": {},
     "output_type": "execute_result"
    }
   ],
   "source": [
    "len(manual_remaining_presyn) + len(manual_error_presyn), len(manual_remaining_postsyn) + len(manual_error_postsyn)"
   ]
  },
  {
   "cell_type": "code",
   "execution_count": 46,
   "metadata": {},
   "outputs": [
    {
     "name": "stdout",
     "output_type": "stream",
     "text": [
      "Returning the synpase ids 1) errored synpases 2) non-errored synapses\n"
     ]
    }
   ],
   "source": [
    "#4) Get the pre and post that are stil their after autoproofreading\n",
    "ed = reload(ed)\n",
    "err_synapse_ids,non_err_synapse_ids = ed.get_error_synapse_inserts(current_mesh,segment_id,\n",
    "                                                     errored_faces,return_synapse_ids=True,\n",
    "                                                                   synapse_centers=synapse_centers,\n",
    "                                                                   synapse_ids=synapse_ids\n",
    "                                                                  )"
   ]
  },
  {
   "cell_type": "code",
   "execution_count": 47,
   "metadata": {},
   "outputs": [
    {
     "data": {
      "text/plain": [
       "(42, 67, 2002, 51)"
      ]
     },
     "execution_count": 47,
     "metadata": {},
     "output_type": "execute_result"
    }
   ],
   "source": [
    "# divided the valid synapses into presyn and postsyn\n",
    "auto_remaining_presyn = np.intersect1d(original_presyn,non_err_synapse_ids)\n",
    "auto_remaining_postsyn = np.intersect1d(original_postsyn,non_err_synapse_ids)\n",
    "\n",
    "#dividing the error synapses into presyn and postsyn\n",
    "auto_error_presyn = np.intersect1d(original_presyn,err_synapse_ids)\n",
    "auto_error_postsyn = np.intersect1d(original_postsyn,err_synapse_ids)\n",
    "\n",
    "len(auto_remaining_presyn), len(auto_error_presyn), len(auto_remaining_postsyn), len(auto_error_postsyn)"
   ]
  },
  {
   "cell_type": "markdown",
   "metadata": {},
   "source": [
    "# Calculating the final scores"
   ]
  },
  {
   "cell_type": "code",
   "execution_count": 48,
   "metadata": {},
   "outputs": [
    {
     "data": {
      "text/plain": [
       "(64, 3, 36, 6)"
      ]
     },
     "execution_count": 48,
     "metadata": {},
     "output_type": "execute_result"
    }
   ],
   "source": [
    "# doing the presyn analysis\n",
    "true_positive_presyn = np.intersect1d(manual_error_presyn,auto_error_presyn) #deemed an error and was an error\n",
    "false_positive_presyn = np.intersect1d(manual_remaining_presyn,auto_error_presyn)#deemed an error but not an error\n",
    "\n",
    "true_negative_presyn = np.intersect1d(manual_remaining_presyn,auto_remaining_presyn) #not deemed an error and should not be an error\n",
    "false_negative_presyn = np.intersect1d(manual_error_presyn,auto_remaining_presyn) #not deemed and error but should be an error\n",
    "\n",
    "len(true_positive_presyn),len(false_positive_presyn),len(true_negative_presyn),len(false_negative_presyn)"
   ]
  },
  {
   "cell_type": "code",
   "execution_count": 49,
   "metadata": {},
   "outputs": [
    {
     "data": {
      "text/plain": [
       "109"
      ]
     },
     "execution_count": 49,
     "metadata": {},
     "output_type": "execute_result"
    }
   ],
   "source": [
    "np.sum([len(true_positive_presyn),len(false_positive_presyn),len(true_negative_presyn),len(false_negative_presyn)])"
   ]
  },
  {
   "cell_type": "code",
   "execution_count": 50,
   "metadata": {},
   "outputs": [
    {
     "data": {
      "text/plain": [
       "(1, 50, 1987, 15)"
      ]
     },
     "execution_count": 50,
     "metadata": {},
     "output_type": "execute_result"
    }
   ],
   "source": [
    "# Doing the postsyn analysis\n",
    "true_positive_postsyn = np.intersect1d(manual_error_postsyn,auto_error_postsyn) #deemed an error and was an error\n",
    "false_positive_postsyn = np.intersect1d(manual_remaining_postsyn,auto_error_postsyn)#deemed an error but not an error\n",
    "\n",
    "true_negative_postsyn = np.intersect1d(manual_remaining_postsyn,auto_remaining_postsyn) #not deemed an error and should not be an error\n",
    "false_negative_postsyn= np.intersect1d(manual_error_postsyn,auto_remaining_postsyn) #not deemed and error but should be an error\n",
    "\n",
    "len(true_positive_postsyn),len(false_positive_postsyn),len(true_negative_postsyn),len(false_negative_postsyn)"
   ]
  },
  {
   "cell_type": "code",
   "execution_count": 51,
   "metadata": {},
   "outputs": [
    {
     "data": {
      "text/plain": [
       "2053"
      ]
     },
     "execution_count": 51,
     "metadata": {},
     "output_type": "execute_result"
    }
   ],
   "source": [
    "np.sum([len(true_positive_postsyn),len(false_positive_postsyn),len(true_negative_postsyn),len(false_negative_postsyn)])"
   ]
  },
  {
   "cell_type": "code",
   "execution_count": 52,
   "metadata": {},
   "outputs": [
    {
     "data": {
      "text/plain": [
       "(65, 53, 2023, 21)"
      ]
     },
     "execution_count": 52,
     "metadata": {},
     "output_type": "execute_result"
    }
   ],
   "source": [
    "#\n",
    "true_positive_total = list(true_positive_presyn) + list(true_positive_postsyn) \n",
    "false_positive_total = list(false_positive_presyn) + list(false_positive_postsyn)\n",
    "\n",
    "true_negative_total = list(true_negative_presyn) + list(true_negative_postsyn)\n",
    "false_negative_total = list(false_negative_presyn) + list(false_negative_postsyn)\n",
    "\n",
    "len(true_positive_total),len(false_positive_total),len(true_negative_total),len(false_negative_total)"
   ]
  },
  {
   "cell_type": "code",
   "execution_count": 53,
   "metadata": {},
   "outputs": [
    {
     "data": {
      "text/plain": [
       "2162"
      ]
     },
     "execution_count": 53,
     "metadata": {},
     "output_type": "execute_result"
    }
   ],
   "source": [
    "np.sum([len(true_positive_total),len(false_positive_total),len(true_negative_total),len(false_negative_total)])"
   ]
  },
  {
   "cell_type": "code",
   "execution_count": 54,
   "metadata": {},
   "outputs": [],
   "source": [
    "def precision(TP,FP):\n",
    "    if (TP + FP) > 0:\n",
    "        return TP/(TP + FP)\n",
    "    else:\n",
    "        return np.nan\n",
    "    \n",
    "def recall(TP,FN):\n",
    "    if (TP + FN) > 0:\n",
    "        return TP/(TP + FN)\n",
    "    else:\n",
    "        return np.nan\n",
    "    \n",
    "def f1(TP,FP,FN):\n",
    "    curr_prec = precision(TP,FP)\n",
    "    curr_recall = recall(TP,FN)\n",
    "    \n",
    "    if curr_prec + curr_recall > 0:\n",
    "        return 2*(curr_prec*curr_recall)/(curr_prec + curr_recall)\n",
    "    else:\n",
    "        return np.nan\n",
    "    \n",
    "def calculate_scores(TP,FP,FN):\n",
    "    return dict(precision=precision(TP,FP),\n",
    "               recall=recall(TP,FN),\n",
    "               f1=f1(TP,FP,FN))"
   ]
  },
  {
   "cell_type": "code",
   "execution_count": 55,
   "metadata": {},
   "outputs": [
    {
     "data": {
      "text/plain": [
       "{'precision': 0.9552238805970149,\n",
       " 'recall': 0.9142857142857143,\n",
       " 'f1': 0.9343065693430657}"
      ]
     },
     "execution_count": 55,
     "metadata": {},
     "output_type": "execute_result"
    }
   ],
   "source": [
    "# calculating the accuracy, precision and f1\n",
    "\n",
    "#precision = (true positives)/(true positives + false positives)\n",
    "presyn_scores =  calculate_scores(len(true_positive_presyn),len(false_positive_presyn),len(false_negative_presyn))\n",
    "presyn_scores"
   ]
  },
  {
   "cell_type": "code",
   "execution_count": 56,
   "metadata": {},
   "outputs": [
    {
     "data": {
      "text/plain": [
       "{'precision': 0.0196078431372549, 'recall': 0.0625, 'f1': 0.029850746268656716}"
      ]
     },
     "execution_count": 56,
     "metadata": {},
     "output_type": "execute_result"
    }
   ],
   "source": [
    "postsyn_scores =  calculate_scores(len(true_positive_postsyn),len(false_positive_postsyn),len(false_negative_postsyn))\n",
    "postsyn_scores"
   ]
  },
  {
   "cell_type": "code",
   "execution_count": 57,
   "metadata": {},
   "outputs": [
    {
     "data": {
      "text/plain": [
       "{'precision': 0.5508474576271186,\n",
       " 'recall': 0.7558139534883721,\n",
       " 'f1': 0.6372549019607844}"
      ]
     },
     "execution_count": 57,
     "metadata": {},
     "output_type": "execute_result"
    }
   ],
   "source": [
    "total_scores =  calculate_scores(len(true_positive_total),len(false_positive_total),len(false_negative_total))\n",
    "total_scores"
   ]
  },
  {
   "cell_type": "markdown",
   "metadata": {},
   "source": [
    "# If no automatic proofreading was done"
   ]
  },
  {
   "cell_type": "code",
   "execution_count": null,
   "metadata": {},
   "outputs": [],
   "source": []
  },
  {
   "cell_type": "markdown",
   "metadata": {},
   "source": [
    "# Visualize the Results"
   ]
  },
  {
   "cell_type": "code",
   "execution_count": 58,
   "metadata": {},
   "outputs": [
    {
     "name": "stdout",
     "output_type": "stream",
     "text": [
      "Returning the 1) coordinates for errored synapses 2) Coordinates for non-errored synapses\n",
      "Segment ID = 864691135740225387\n",
      "n_synapses = 2162, n_errored_synapse = 118\n"
     ]
    },
    {
     "data": {
      "application/vnd.jupyter.widget-view+json": {
       "model_id": "1e734b21afdf46c5abeef7e57b442b91",
       "version_major": 2,
       "version_minor": 0
      },
      "text/plain": [
       "VBox(children=(Figure(camera=PerspectiveCamera(fov=46.0, position=(0.0, 0.0, 2.0), quaternion=(0.0, 0.0, 0.0, …"
      ]
     },
     "metadata": {},
     "output_type": "display_data"
    }
   ],
   "source": [
    "\n",
    "err_synapses,non_err_synapses = ed.get_error_synapse_inserts(current_mesh,segment_id,\n",
    "                                                     errored_faces,return_synapse_centroids=True,\n",
    "                                                                   synapse_centers=synapse_centers,\n",
    "                                                                   synapse_ids=synapse_ids\n",
    "                                                                  )\n",
    "\n",
    "print(f\"Segment ID = {segment_id}\")\n",
    "print(f\"n_synapses = {len(err_synapses) + len(non_err_synapses)}, n_errored_synapse = {len(err_synapses)}\")\n",
    "\n",
    "\n",
    "valid_synapse_color = \"yellow\"\n",
    "error_color = \"red\"\n",
    "scatters_list = []\n",
    "scatters_colors = []\n",
    "\n",
    "if len(err_synapses) > 0:\n",
    "    scatters_list.append(err_synapses)\n",
    "    scatters_colors.append(error_color)\n",
    "if len(non_err_synapses) > 0:\n",
    "    scatters_list.append(non_err_synapses)\n",
    "    scatters_colors.append(valid_synapse_color)\n",
    "    \n",
    "if len(scatters_list) > 0:\n",
    "    nviz.plot_objects(main_mesh=valid_mesh,\n",
    "              meshes=[error_submesh],\n",
    "                      mesh_alpha=1,\n",
    "              meshes_colors=[error_color],\n",
    "            scatters=[err_synapses,non_err_synapses],\n",
    "             scatters_colors=[error_color,valid_synapse_color],\n",
    "                     scatter_size=0.2)\n",
    "\n",
    "else:\n",
    "    nviz.plot_objects(main_mesh=valid_mesh,\n",
    "             meshes=error_submesh,\n",
    "              meshes_colors=error_color,\n",
    "             mesh_alpha=1)\n"
   ]
  },
  {
   "cell_type": "markdown",
   "metadata": {},
   "source": [
    "# Write the Results to a Datajoint Table"
   ]
  },
  {
   "cell_type": "code",
   "execution_count": null,
   "metadata": {},
   "outputs": [],
   "source": [
    "@schema\n",
    "class ValidationStats(dj.Manual):\n",
    "    definition=\"\"\"\n",
    "    -> minnie.ManualProofreadIDs\n",
    "    ---\n",
    "    new_segment_id: bigint unsigned\n",
    "    \n",
    "    true_positive_presyn: int\n",
    "    false_positive_presyn: int\n",
    "    true_negative_presyn: int\n",
    "    false_negative_presyn: int\n",
    "\n",
    "    precision_presyn=NULL: double\n",
    "    recall_presyn=NULL: double\n",
    "    f1_presyn=NULL: double\n",
    "\n",
    "    true_positive_postsyn: int\n",
    "    false_positive_postsyn: int\n",
    "    true_negative_postsyn: int\n",
    "    false_negative_postsyn: int\n",
    "\n",
    "    precision_postsyn=NULL: double\n",
    "    recall_postsyn=NULL: double\n",
    "    f1_postsyn=NULL: double\n",
    "\n",
    "    true_positive_total : int\n",
    "    false_positive_total : int\n",
    "    true_negative_total : int\n",
    "    false_negative_total : int\n",
    "\n",
    "    precision_total=NULL: double\n",
    "    recall_total=NULL: double\n",
    "    f1_total=NULL: double\n",
    "\n",
    "    \"\"\""
   ]
  },
  {
   "cell_type": "code",
   "execution_count": null,
   "metadata": {},
   "outputs": [],
   "source": [
    "info_key = dict(segment_id=segment_id,\n",
    "               new_segment_id=v7_id,\n",
    "               \n",
    "                true_positive_presyn = len(true_positive_presyn),\n",
    "                false_positive_presyn = len(false_positive_presyn),\n",
    "                true_negative_presyn= len(true_negative_presyn),\n",
    "                false_negative_presyn = len(false_negative_presyn),\n",
    "\n",
    "                precision_presyn = presyn_scores[\"precision\"],\n",
    "                recall_presyn = presyn_scores[\"recall\"],\n",
    "                f1_presyn = presyn_scores[\"f1\"],\n",
    "\n",
    "                true_positive_postsyn = len(true_positive_postsyn),\n",
    "                false_positive_postsyn = len(false_positive_postsyn),\n",
    "                true_negative_postsyn = len(true_negative_postsyn),\n",
    "                false_negative_postsyn = len(false_negative_postsyn),\n",
    "\n",
    "                precision_postsyn = postsyn_scores[\"precision\"],\n",
    "                recall_postsyn = postsyn_scores[\"recall\"],\n",
    "                f1_postsyn = postsyn_scores[\"f1\"],\n",
    "\n",
    "                true_positive_total= len(true_positive_total),\n",
    "                false_positive_total = len(false_positive_total),\n",
    "                true_negative_total = len(true_negative_total),\n",
    "                false_negative_total = len(false_negative_total),\n",
    "\n",
    "                precision_total = total_scores[\"precision\"],\n",
    "                recall_total=total_scores[\"recall\"],\n",
    "                f1_total = total_scores[\"f1\"],\n",
    "                \n",
    "                \n",
    "               )\n",
    "\n",
    "ValidationStats.insert1(info_key,skip_duplicates=True)"
   ]
  },
  {
   "cell_type": "code",
   "execution_count": null,
   "metadata": {},
   "outputs": [],
   "source": [
    "ValidationStats()"
   ]
  },
  {
   "cell_type": "code",
   "execution_count": null,
   "metadata": {},
   "outputs": [],
   "source": [
    "TP,FP,FN = ValidationStats.fetch(\"true_positive_total\",\"false_positive_total\",\"false_negative_total\")\n",
    "total_dict = dict(type=\"presyn and postsyn\")\n",
    "total_stats = calculate_scores(TP = np.sum(TP),FP = np.sum(FP),FN = np.sum(FN))\n",
    "total_dict.update(total_stats)\n",
    "total_dict"
   ]
  },
  {
   "cell_type": "code",
   "execution_count": null,
   "metadata": {},
   "outputs": [],
   "source": [
    "TP_pre,FP_pre,FN_pre = ValidationStats.fetch(\"true_positive_presyn\",\"false_positive_presyn\",\"false_negative_presyn\")\n",
    "presyn_dict = dict(type=\"presyn\")\n",
    "presyn_stats = calculate_scores(TP = np.sum(TP_pre),FP = np.sum(FP_pre),FN = np.sum(FN_pre))\n",
    "presyn_dict.update(presyn_stats)\n",
    "presyn_dict"
   ]
  },
  {
   "cell_type": "code",
   "execution_count": null,
   "metadata": {},
   "outputs": [],
   "source": [
    "TP_post,FP_post,FN_post = ValidationStats.fetch(\"true_positive_postsyn\",\"false_positive_postsyn\",\"false_negative_postsyn\")\n",
    "postsyn_dict = dict(type=\"postsyn\")\n",
    "postsyn_stats = calculate_scores(TP = np.sum(TP_post),FP = np.sum(FP_post),FN = np.sum(FN_post))\n",
    "postsyn_dict.update(postsyn_stats)\n",
    "postsyn_dict"
   ]
  },
  {
   "cell_type": "markdown",
   "metadata": {},
   "source": [
    "# Making the Figure for the Stats"
   ]
  },
  {
   "cell_type": "code",
   "execution_count": null,
   "metadata": {},
   "outputs": [],
   "source": [
    "import pandas as pd"
   ]
  },
  {
   "cell_type": "code",
   "execution_count": null,
   "metadata": {},
   "outputs": [],
   "source": [
    "pd = "
   ]
  }
 ],
 "metadata": {
  "kernelspec": {
   "display_name": "Python 3",
   "language": "python",
   "name": "python3"
  },
  "language_info": {
   "codemirror_mode": {
    "name": "ipython",
    "version": 3
   },
   "file_extension": ".py",
   "mimetype": "text/x-python",
   "name": "python",
   "nbconvert_exporter": "python",
   "pygments_lexer": "ipython3",
   "version": "3.6.9"
  }
 },
 "nbformat": 4,
 "nbformat_minor": 4
}
