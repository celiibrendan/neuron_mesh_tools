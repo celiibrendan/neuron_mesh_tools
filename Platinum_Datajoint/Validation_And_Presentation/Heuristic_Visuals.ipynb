{
 "cells": [
  {
   "cell_type": "code",
   "execution_count": 1,
   "metadata": {},
   "outputs": [
    {
     "data": {
      "text/plain": [
       "'\\nPurpose: To show that the intial trajectory of an actual axon has general downward trend\\n\\n\\n'"
      ]
     },
     "execution_count": 1,
     "metadata": {},
     "output_type": "execute_result"
    }
   ],
   "source": [
    "\"\"\"\n",
    "Purpose: To show that the intial trajectory of an actual axon has general downward trend\n",
    "\n",
    "\n",
    "\"\"\""
   ]
  },
  {
   "cell_type": "code",
   "execution_count": 2,
   "metadata": {},
   "outputs": [],
   "source": [
    "from os import sys\n",
    "sys.path.append(\"/meshAfterParty/\")"
   ]
  },
  {
   "cell_type": "code",
   "execution_count": 3,
   "metadata": {},
   "outputs": [
    {
     "name": "stderr",
     "output_type": "stream",
     "text": [
      "INFO - 2020-12-01 03:16:05,790 - settings - Setting database.host to at-database.ad.bcm.edu\n",
      "INFO - 2020-12-01 03:16:05,791 - settings - Setting database.user to celiib\n",
      "INFO - 2020-12-01 03:16:05,792 - settings - Setting database.password to newceliipass\n",
      "INFO - 2020-12-01 03:16:05,804 - settings - Setting stores to {'minnie65': {'protocol': 'file', 'location': '/mnt/dj-stor01/platinum/minnie65', 'stage': '/mnt/dj-stor01/platinum/minnie65'}, 'meshes': {'protocol': 'file', 'location': '/mnt/dj-stor01/platinum/minnie65/02/meshes', 'stage': '/mnt/dj-stor01/platinum/minnie65/02/meshes'}, 'decimated_meshes': {'protocol': 'file', 'location': '/mnt/dj-stor01/platinum/minnie65/02/decimated_meshes', 'stage': '/mnt/dj-stor01/platinum/minnie65/02/decimated_meshes'}, 'skeletons': {'protocol': 'file', 'location': '/mnt/dj-stor01/platinum/minnie65/02/skeletons'}}\n",
      "INFO - 2020-12-01 03:16:05,805 - settings - Setting enable_python_native_blobs to True\n",
      "INFO - 2020-12-01 03:16:05,826 - connection - Connected celiib@at-database.ad.bcm.edu:3306\n"
     ]
    },
    {
     "name": "stdout",
     "output_type": "stream",
     "text": [
      "Connecting celiib@at-database.ad.bcm.edu:3306\n"
     ]
    },
    {
     "name": "stderr",
     "output_type": "stream",
     "text": [
      "INFO - 2020-12-01 03:16:06,163 - settings - Setting enable_python_native_blobs to True\n"
     ]
    }
   ],
   "source": [
    "from importlib import reload\n",
    "\n",
    "import neuron_utils as nru\n",
    "\n",
    "import neuron\n",
    "\n",
    "import neuron_visualizations as nviz\n",
    "\n",
    "import time\n",
    "\n",
    "import datajoint_utils as du\n",
    "\n",
    "import time"
   ]
  },
  {
   "cell_type": "code",
   "execution_count": 4,
   "metadata": {},
   "outputs": [
    {
     "name": "stderr",
     "output_type": "stream",
     "text": [
      "INFO - 2020-12-01 03:16:11,570 - settings - Setting enable_python_native_blobs to True\n",
      "INFO - 2020-12-01 03:16:11,786 - settings - Setting enable_python_native_blobs to True\n"
     ]
    }
   ],
   "source": [
    "minnie,schema = du.configure_minnie_vm()"
   ]
  },
  {
   "cell_type": "markdown",
   "metadata": {},
   "source": [
    "# Neurons to Try"
   ]
  },
  {
   "cell_type": "code",
   "execution_count": 5,
   "metadata": {},
   "outputs": [
    {
     "name": "stderr",
     "output_type": "stream",
     "text": [
      "INFO - 2020-12-01 03:16:51,497 - settings - Setting enable_python_native_blobs to True\n",
      "INFO - 2020-12-01 03:16:51,721 - settings - Setting enable_python_native_blobs to True\n"
     ]
    },
    {
     "data": {
      "text/html": [
       "\n",
       "        \n",
       "        <style type=\"text/css\">\n",
       "            .Relation{\n",
       "                border-collapse:collapse;\n",
       "            }\n",
       "            .Relation th{\n",
       "                background: #A0A0A0; color: #ffffff; padding:4px; border:#f0e0e0 1px solid;\n",
       "                font-weight: normal; font-family: monospace; font-size: 100%;\n",
       "            }\n",
       "            .Relation td{\n",
       "                padding:4px; border:#f0e0e0 1px solid; font-size:100%;\n",
       "            }\n",
       "            .Relation tr:nth-child(odd){\n",
       "                background: #ffffff;\n",
       "            }\n",
       "            .Relation tr:nth-child(even){\n",
       "                background: #f3f1ff;\n",
       "            }\n",
       "            /* Tooltip container */\n",
       "            .djtooltip {\n",
       "            }\n",
       "            /* Tooltip text */\n",
       "            .djtooltip .djtooltiptext {\n",
       "                visibility: hidden;\n",
       "                width: 120px;\n",
       "                background-color: black;\n",
       "                color: #fff;\n",
       "                text-align: center;\n",
       "                padding: 5px 0;\n",
       "                border-radius: 6px;\n",
       "                /* Position the tooltip text - see examples below! */\n",
       "                position: absolute;\n",
       "                z-index: 1;\n",
       "            }\n",
       "            #primary {\n",
       "                font-weight: bold;\n",
       "                color: black;\n",
       "            }\n",
       "\n",
       "            #nonprimary {\n",
       "                font-weight: normal;\n",
       "                color: white;\n",
       "            }\n",
       "\n",
       "            /* Show the tooltip text when you mouse over the tooltip container */\n",
       "            .djtooltip:hover .djtooltiptext {\n",
       "                visibility: visible;\n",
       "            }\n",
       "        </style>\n",
       "        \n",
       "        <b></b>\n",
       "            <div style=\"max-height:1000px;max-width:1500px;overflow:auto;\">\n",
       "            <table border=\"1\" class=\"Relation\">\n",
       "                <thead> <tr style=\"text-align: right;\"> <th> <div class=\"djtooltip\">\n",
       "                                <p id=\"primary\">segment_id</p>\n",
       "                                <span class=\"djtooltiptext\">segment id unique within each Segmentation</span>\n",
       "                            </div></th><th><div class=\"djtooltip\">\n",
       "                                <p id=\"primary\">decimation_version</p>\n",
       "                                <span class=\"djtooltiptext\"></span>\n",
       "                            </div></th><th><div class=\"djtooltip\">\n",
       "                                <p id=\"primary\">decimation_ratio</p>\n",
       "                                <span class=\"djtooltiptext\">ratio of remaining mesh vertices/faces (which ones depends on what metric the decimation technique uses)</span>\n",
       "                            </div></th><th><div class=\"djtooltip\">\n",
       "                                <p id=\"nonprimary\">decomposition</p>\n",
       "                                <span class=\"djtooltiptext\"></span>\n",
       "                            </div></th><th><div class=\"djtooltip\">\n",
       "                                <p id=\"nonprimary\">n_vertices</p>\n",
       "                                <span class=\"djtooltiptext\">number of vertices</span>\n",
       "                            </div></th><th><div class=\"djtooltip\">\n",
       "                                <p id=\"nonprimary\">n_faces</p>\n",
       "                                <span class=\"djtooltiptext\">number of faces</span>\n",
       "                            </div></th><th><div class=\"djtooltip\">\n",
       "                                <p id=\"nonprimary\">n_error_limbs</p>\n",
       "                                <span class=\"djtooltiptext\">the number of limbs that are touching multiple somas or 1 soma in multiple places</span>\n",
       "                            </div></th><th><div class=\"djtooltip\">\n",
       "                                <p id=\"nonprimary\">n_same_soma_multi_touching_limbs</p>\n",
       "                                <span class=\"djtooltiptext\">number of limbs that touch the same soma multiple times</span>\n",
       "                            </div></th><th><div class=\"djtooltip\">\n",
       "                                <p id=\"nonprimary\">n_multi_soma_touching_limbs</p>\n",
       "                                <span class=\"djtooltiptext\">number of limbs that touch multiple somas</span>\n",
       "                            </div></th><th><div class=\"djtooltip\">\n",
       "                                <p id=\"nonprimary\">n_somas</p>\n",
       "                                <span class=\"djtooltiptext\">number of soma meshes detected</span>\n",
       "                            </div></th><th><div class=\"djtooltip\">\n",
       "                                <p id=\"nonprimary\">n_limbs</p>\n",
       "                                <span class=\"djtooltiptext\"></span>\n",
       "                            </div></th><th><div class=\"djtooltip\">\n",
       "                                <p id=\"nonprimary\">n_branches</p>\n",
       "                                <span class=\"djtooltiptext\"></span>\n",
       "                            </div></th><th><div class=\"djtooltip\">\n",
       "                                <p id=\"nonprimary\">max_limb_n_branches</p>\n",
       "                                <span class=\"djtooltiptext\"></span>\n",
       "                            </div></th><th><div class=\"djtooltip\">\n",
       "                                <p id=\"nonprimary\">skeletal_length</p>\n",
       "                                <span class=\"djtooltiptext\"></span>\n",
       "                            </div></th><th><div class=\"djtooltip\">\n",
       "                                <p id=\"nonprimary\">max_limb_skeletal_length</p>\n",
       "                                <span class=\"djtooltiptext\"></span>\n",
       "                            </div></th><th><div class=\"djtooltip\">\n",
       "                                <p id=\"nonprimary\">median_branch_length</p>\n",
       "                                <span class=\"djtooltiptext\">gives information on average skeletal length to next branch point</span>\n",
       "                            </div></th><th><div class=\"djtooltip\">\n",
       "                                <p id=\"nonprimary\">width_median</p>\n",
       "                                <span class=\"djtooltiptext\">median width from mesh center without spines removed</span>\n",
       "                            </div></th><th><div class=\"djtooltip\">\n",
       "                                <p id=\"nonprimary\">width_no_spine_median</p>\n",
       "                                <span class=\"djtooltiptext\">median width from mesh center with spines removed</span>\n",
       "                            </div></th><th><div class=\"djtooltip\">\n",
       "                                <p id=\"nonprimary\">width_90_perc</p>\n",
       "                                <span class=\"djtooltiptext\">90th percentile for width without spines removed</span>\n",
       "                            </div></th><th><div class=\"djtooltip\">\n",
       "                                <p id=\"nonprimary\">width_no_spine_90_perc</p>\n",
       "                                <span class=\"djtooltiptext\">90th percentile for width with spines removed</span>\n",
       "                            </div></th><th><div class=\"djtooltip\">\n",
       "                                <p id=\"nonprimary\">n_spines</p>\n",
       "                                <span class=\"djtooltiptext\"></span>\n",
       "                            </div></th><th><div class=\"djtooltip\">\n",
       "                                <p id=\"nonprimary\">spine_density</p>\n",
       "                                <span class=\"djtooltiptext\">n_spines/ skeletal_length</span>\n",
       "                            </div></th><th><div class=\"djtooltip\">\n",
       "                                <p id=\"nonprimary\">spines_per_branch</p>\n",
       "                                <span class=\"djtooltiptext\"></span>\n",
       "                            </div></th><th><div class=\"djtooltip\">\n",
       "                                <p id=\"nonprimary\">skeletal_length_eligible</p>\n",
       "                                <span class=\"djtooltiptext\">the skeletal length for all branches searched for spines</span>\n",
       "                            </div></th><th><div class=\"djtooltip\">\n",
       "                                <p id=\"nonprimary\">n_spine_eligible_branches</p>\n",
       "                                <span class=\"djtooltiptext\">the number of branches that were checked for spines because passed width threshold</span>\n",
       "                            </div></th><th><div class=\"djtooltip\">\n",
       "                                <p id=\"nonprimary\">spine_density_eligible</p>\n",
       "                                <span class=\"djtooltiptext\">n_spines/skeletal_length_eligible</span>\n",
       "                            </div></th><th><div class=\"djtooltip\">\n",
       "                                <p id=\"nonprimary\">spines_per_branch_eligible</p>\n",
       "                                <span class=\"djtooltiptext\">n_spines/n_spine_eligible_branches</span>\n",
       "                            </div></th><th><div class=\"djtooltip\">\n",
       "                                <p id=\"nonprimary\">total_spine_volume</p>\n",
       "                                <span class=\"djtooltiptext\">the sum of all spine volume</span>\n",
       "                            </div></th><th><div class=\"djtooltip\">\n",
       "                                <p id=\"nonprimary\">spine_volume_median</p>\n",
       "                                <span class=\"djtooltiptext\">median of the spine volume for those spines with able to calculate volume</span>\n",
       "                            </div></th><th><div class=\"djtooltip\">\n",
       "                                <p id=\"nonprimary\">spine_volume_density</p>\n",
       "                                <span class=\"djtooltiptext\">total_spine_volume/skeletal_length</span>\n",
       "                            </div></th><th><div class=\"djtooltip\">\n",
       "                                <p id=\"nonprimary\">spine_volume_density_eligible</p>\n",
       "                                <span class=\"djtooltiptext\">total_spine_volume/skeletal_length_eligible</span>\n",
       "                            </div></th><th><div class=\"djtooltip\">\n",
       "                                <p id=\"nonprimary\">spine_volume_per_branch_eligible</p>\n",
       "                                <span class=\"djtooltiptext\">total_spine_volume/n_spine_eligible_branches</span>\n",
       "                            </div></th><th><div class=\"djtooltip\">\n",
       "                                <p id=\"nonprimary\">run_time</p>\n",
       "                                <span class=\"djtooltiptext\">the amount of time to run (seconds)</span>\n",
       "                            </div> </th> </tr> </thead>\n",
       "                <tbody> <tr> <td>864691134884740858</td>\n",
       "<td>0</td>\n",
       "<td>0.25</td>\n",
       "<td>=BLOB=</td>\n",
       "<td>581524</td>\n",
       "<td>1173901</td>\n",
       "<td>0</td>\n",
       "<td>0</td>\n",
       "<td>0</td>\n",
       "<td>1</td>\n",
       "<td>9</td>\n",
       "<td>396</td>\n",
       "<td>182</td>\n",
       "<td>9105762.417662341</td>\n",
       "<td>4417913.111483511</td>\n",
       "<td>14003.905</td>\n",
       "<td>75.417</td>\n",
       "<td>75.417</td>\n",
       "<td>362.451</td>\n",
       "<td>321.41</td>\n",
       "<td>1506</td>\n",
       "<td>0.00016538977527887498</td>\n",
       "<td>3.803030303030303</td>\n",
       "<td>3333922.996</td>\n",
       "<td>110</td>\n",
       "<td>nan</td>\n",
       "<td>nan</td>\n",
       "<td>65843283280.180756</td>\n",
       "<td>25258010.27633667</td>\n",
       "<td>7230.946763168926</td>\n",
       "<td>19749.491322738624</td>\n",
       "<td>598575302.5470978</td>\n",
       "<td>1069.7304</td></tr><tr><td>864691134884741114</td>\n",
       "<td>0</td>\n",
       "<td>0.25</td>\n",
       "<td>=BLOB=</td>\n",
       "<td>499834</td>\n",
       "<td>1012043</td>\n",
       "<td>0</td>\n",
       "<td>0</td>\n",
       "<td>0</td>\n",
       "<td>1</td>\n",
       "<td>6</td>\n",
       "<td>226</td>\n",
       "<td>82</td>\n",
       "<td>5822019.539324681</td>\n",
       "<td>2537740.7219005036</td>\n",
       "<td>13125.606</td>\n",
       "<td>111.685</td>\n",
       "<td>111.685</td>\n",
       "<td>499.479</td>\n",
       "<td>458.025</td>\n",
       "<td>2247</td>\n",
       "<td>0.00038594855012469406</td>\n",
       "<td>9.942477876106194</td>\n",
       "<td>2797048.724</td>\n",
       "<td>102</td>\n",
       "<td>nan</td>\n",
       "<td>nan</td>\n",
       "<td>114016969482.35205</td>\n",
       "<td>31980749.061417475</td>\n",
       "<td>19583.74902595695</td>\n",
       "<td>40763.31188085233</td>\n",
       "<td>1117813426.297569</td>\n",
       "<td>1109.6195</td></tr><tr><td>864691134884741370</td>\n",
       "<td>0</td>\n",
       "<td>0.25</td>\n",
       "<td>=BLOB=</td>\n",
       "<td>380482</td>\n",
       "<td>782797</td>\n",
       "<td>0</td>\n",
       "<td>0</td>\n",
       "<td>0</td>\n",
       "<td>1</td>\n",
       "<td>9</td>\n",
       "<td>272</td>\n",
       "<td>202</td>\n",
       "<td>5447324.215061565</td>\n",
       "<td>3642525.6251928546</td>\n",
       "<td>9876.813</td>\n",
       "<td>79.649</td>\n",
       "<td>79.649</td>\n",
       "<td>270.025</td>\n",
       "<td>257.602</td>\n",
       "<td>885</td>\n",
       "<td>0.00016246508653790454</td>\n",
       "<td>3.2536764705882355</td>\n",
       "<td>2309022.528</td>\n",
       "<td>72</td>\n",
       "<td>nan</td>\n",
       "<td>nan</td>\n",
       "<td>68769148892.91443</td>\n",
       "<td>46189481.963336304</td>\n",
       "<td>12624.39065087614</td>\n",
       "<td>29782.796858409183</td>\n",
       "<td>955127067.9571449</td>\n",
       "<td>553.3898</td></tr><tr><td>864691134884741882</td>\n",
       "<td>0</td>\n",
       "<td>0.25</td>\n",
       "<td>=BLOB=</td>\n",
       "<td>843280</td>\n",
       "<td>1700959</td>\n",
       "<td>2</td>\n",
       "<td>2</td>\n",
       "<td>0</td>\n",
       "<td>1</td>\n",
       "<td>10</td>\n",
       "<td>583</td>\n",
       "<td>190</td>\n",
       "<td>9413167.750364104</td>\n",
       "<td>3368032.161881765</td>\n",
       "<td>7808.186</td>\n",
       "<td>114.566</td>\n",
       "<td>114.566</td>\n",
       "<td>435.79</td>\n",
       "<td>391.447</td>\n",
       "<td>3034</td>\n",
       "<td>0.00032231445146429523</td>\n",
       "<td>5.204116638078903</td>\n",
       "<td>4757150.4</td>\n",
       "<td>249</td>\n",
       "<td>nan</td>\n",
       "<td>nan</td>\n",
       "<td>191374383459.08017</td>\n",
       "<td>42245315.42166233</td>\n",
       "<td>20330.497504591665</td>\n",
       "<td>40228.78558960006</td>\n",
       "<td>768571821.120804</td>\n",
       "<td>4240.5491</td></tr><tr><td>864691134884742138</td>\n",
       "<td>0</td>\n",
       "<td>0.25</td>\n",
       "<td>=BLOB=</td>\n",
       "<td>319665</td>\n",
       "<td>658668</td>\n",
       "<td>0</td>\n",
       "<td>0</td>\n",
       "<td>0</td>\n",
       "<td>1</td>\n",
       "<td>8</td>\n",
       "<td>178</td>\n",
       "<td>69</td>\n",
       "<td>3766141.587812242</td>\n",
       "<td>1247867.98093849</td>\n",
       "<td>11638.23</td>\n",
       "<td>88.002</td>\n",
       "<td>88.002</td>\n",
       "<td>353.538</td>\n",
       "<td>310.918</td>\n",
       "<td>1096</td>\n",
       "<td>0.0002910140191082588</td>\n",
       "<td>6.157303370786517</td>\n",
       "<td>1815392.627</td>\n",
       "<td>58</td>\n",
       "<td>nan</td>\n",
       "<td>nan</td>\n",
       "<td>80933437500.99306</td>\n",
       "<td>43670265.423165634</td>\n",
       "<td>21489.749021360458</td>\n",
       "<td>44581.78153710936</td>\n",
       "<td>1395404094.844708</td>\n",
       "<td>1481.8205</td></tr><tr><td>864691134884742650</td>\n",
       "<td>0</td>\n",
       "<td>0.25</td>\n",
       "<td>=BLOB=</td>\n",
       "<td>413686</td>\n",
       "<td>846465</td>\n",
       "<td>0</td>\n",
       "<td>0</td>\n",
       "<td>0</td>\n",
       "<td>1</td>\n",
       "<td>7</td>\n",
       "<td>177</td>\n",
       "<td>100</td>\n",
       "<td>4619653.947272747</td>\n",
       "<td>2275793.384580992</td>\n",
       "<td>13590.042</td>\n",
       "<td>111.032</td>\n",
       "<td>111.032</td>\n",
       "<td>423.676</td>\n",
       "<td>412.122</td>\n",
       "<td>1493</td>\n",
       "<td>0.000323184380700508</td>\n",
       "<td>8.435028248587571</td>\n",
       "<td>2614531.887</td>\n",
       "<td>79</td>\n",
       "<td>nan</td>\n",
       "<td>nan</td>\n",
       "<td>110793611671.17398</td>\n",
       "<td>42219638.208073296</td>\n",
       "<td>23983.097637991254</td>\n",
       "<td>42376.07971892139</td>\n",
       "<td>1402450780.6477718</td>\n",
       "<td>1953.631</td></tr><tr><td>864691134884742906</td>\n",
       "<td>0</td>\n",
       "<td>0.25</td>\n",
       "<td>=BLOB=</td>\n",
       "<td>495419</td>\n",
       "<td>1019870</td>\n",
       "<td>0</td>\n",
       "<td>0</td>\n",
       "<td>0</td>\n",
       "<td>1</td>\n",
       "<td>5</td>\n",
       "<td>251</td>\n",
       "<td>152</td>\n",
       "<td>6523530.868981222</td>\n",
       "<td>3362727.7979900893</td>\n",
       "<td>12649.553</td>\n",
       "<td>72.507</td>\n",
       "<td>72.507</td>\n",
       "<td>363.074</td>\n",
       "<td>327.354</td>\n",
       "<td>1010</td>\n",
       "<td>0.0001548241313308496</td>\n",
       "<td>4.0239043824701195</td>\n",
       "<td>2354563.584</td>\n",
       "<td>63</td>\n",
       "<td>nan</td>\n",
       "<td>nan</td>\n",
       "<td>45013258229.17136</td>\n",
       "<td>22156579.89999453</td>\n",
       "<td>6900.137231388784</td>\n",
       "<td>19117.452820153427</td>\n",
       "<td>714496162.3677993</td>\n",
       "<td>1373.9606</td></tr><tr><td>864691134884743418</td>\n",
       "<td>0</td>\n",
       "<td>0.25</td>\n",
       "<td>=BLOB=</td>\n",
       "<td>305682</td>\n",
       "<td>627133</td>\n",
       "<td>0</td>\n",
       "<td>0</td>\n",
       "<td>0</td>\n",
       "<td>1</td>\n",
       "<td>5</td>\n",
       "<td>111</td>\n",
       "<td>41</td>\n",
       "<td>3411237.943903018</td>\n",
       "<td>1007323.2803330286</td>\n",
       "<td>14962.232</td>\n",
       "<td>77.154</td>\n",
       "<td>77.154</td>\n",
       "<td>429.671</td>\n",
       "<td>361.291</td>\n",
       "<td>990</td>\n",
       "<td>0.00029021722209951646</td>\n",
       "<td>8.91891891891892</td>\n",
       "<td>1501288.802</td>\n",
       "<td>33</td>\n",
       "<td>nan</td>\n",
       "<td>nan</td>\n",
       "<td>66275862286.60768</td>\n",
       "<td>41122618.91065979</td>\n",
       "<td>19428.68347986807</td>\n",
       "<td>44145.97790799194</td>\n",
       "<td>2008359463.2305357</td>\n",
       "<td>1606.7856</td></tr><tr><td>864691134884743930</td>\n",
       "<td>0</td>\n",
       "<td>0.25</td>\n",
       "<td>=BLOB=</td>\n",
       "<td>374888</td>\n",
       "<td>770862</td>\n",
       "<td>1</td>\n",
       "<td>1</td>\n",
       "<td>0</td>\n",
       "<td>1</td>\n",
       "<td>7</td>\n",
       "<td>102</td>\n",
       "<td>37</td>\n",
       "<td>3947733.1853591506</td>\n",
       "<td>1493754.0330579386</td>\n",
       "<td>18624.179</td>\n",
       "<td>122.975</td>\n",
       "<td>122.975</td>\n",
       "<td>536.469</td>\n",
       "<td>471.729</td>\n",
       "<td>1555</td>\n",
       "<td>0.0003938969345159865</td>\n",
       "<td>15.245098039215685</td>\n",
       "<td>2460060.756</td>\n",
       "<td>45</td>\n",
       "<td>nan</td>\n",
       "<td>nan</td>\n",
       "<td>72821276363.5538</td>\n",
       "<td>30931750.13158639</td>\n",
       "<td>18446.352107488943</td>\n",
       "<td>29601.413780511444</td>\n",
       "<td>1618250585.8567512</td>\n",
       "<td>2185.5764</td></tr><tr><td>864691134884744186</td>\n",
       "<td>0</td>\n",
       "<td>0.25</td>\n",
       "<td>=BLOB=</td>\n",
       "<td>298676</td>\n",
       "<td>599981</td>\n",
       "<td>1</td>\n",
       "<td>1</td>\n",
       "<td>0</td>\n",
       "<td>1</td>\n",
       "<td>8</td>\n",
       "<td>461</td>\n",
       "<td>220</td>\n",
       "<td>6381578.759465553</td>\n",
       "<td>2926907.6704523424</td>\n",
       "<td>8563.802</td>\n",
       "<td>74.779</td>\n",
       "<td>74.779</td>\n",
       "<td>117.861</td>\n",
       "<td>117.861</td>\n",
       "<td>5</td>\n",
       "<td>7.835051777091507e-07</td>\n",
       "<td>0.010845986984815618</td>\n",
       "<td>235742.906</td>\n",
       "<td>23</td>\n",
       "<td>nan</td>\n",
       "<td>nan</td>\n",
       "<td>182351327.99166265</td>\n",
       "<td>22639885.7583313</td>\n",
       "<td>28.57464192872146</td>\n",
       "<td>773.5177744507089</td>\n",
       "<td>7928318.608333158</td>\n",
       "<td>1002.7609</td></tr><tr><td>864691134884744442</td>\n",
       "<td>0</td>\n",
       "<td>0.25</td>\n",
       "<td>=BLOB=</td>\n",
       "<td>2352657</td>\n",
       "<td>4719324</td>\n",
       "<td>0</td>\n",
       "<td>0</td>\n",
       "<td>0</td>\n",
       "<td>1</td>\n",
       "<td>14</td>\n",
       "<td>1910</td>\n",
       "<td>1218</td>\n",
       "<td>44202636.12452996</td>\n",
       "<td>29306464.2025164</td>\n",
       "<td>13814.875</td>\n",
       "<td>72.004</td>\n",
       "<td>72.004</td>\n",
       "<td>205.046</td>\n",
       "<td>205.046</td>\n",
       "<td>986</td>\n",
       "<td>2.2306361937830804e-05</td>\n",
       "<td>0.5162303664921466</td>\n",
       "<td>9562491.736</td>\n",
       "<td>322</td>\n",
       "<td>nan</td>\n",
       "<td>nan</td>\n",
       "<td>22582748683.265686</td>\n",
       "<td>10709847.398497581</td>\n",
       "<td>510.8914459229173</td>\n",
       "<td>2361.5966744575794</td>\n",
       "<td>70132759.88591827</td>\n",
       "<td>18359.3356</td></tr><tr><td>864691134884744698</td>\n",
       "<td>0</td>\n",
       "<td>0.25</td>\n",
       "<td>=BLOB=</td>\n",
       "<td>304543</td>\n",
       "<td>628181</td>\n",
       "<td>0</td>\n",
       "<td>0</td>\n",
       "<td>0</td>\n",
       "<td>1</td>\n",
       "<td>10</td>\n",
       "<td>70</td>\n",
       "<td>33</td>\n",
       "<td>2634200.0059194006</td>\n",
       "<td>885115.1823259087</td>\n",
       "<td>20120.099</td>\n",
       "<td>346.007</td>\n",
       "<td>289.963</td>\n",
       "<td>530.781</td>\n",
       "<td>486.643</td>\n",
       "<td>1337</td>\n",
       "<td>0.0005075544746016179</td>\n",
       "<td>19.1</td>\n",
       "<td>2512380.749</td>\n",
       "<td>55</td>\n",
       "<td>nan</td>\n",
       "<td>nan</td>\n",
       "<td>93846781256.14755</td>\n",
       "<td>46434873.98150507</td>\n",
       "<td>35626.29300936195</td>\n",
       "<td>37353.725661805554</td>\n",
       "<td>1706305113.7481372</td>\n",
       "<td>1212.3084</td> </tr> </tbody>\n",
       "            </table>\n",
       "            <p>...</p>\n",
       "            <p>Total: 25109</p></div>\n",
       "            "
      ],
      "text/plain": [
       "*segment_id    *decimation_ve *decimation_ra decomposit n_vertices     n_faces     n_error_limbs  n_same_soma_mu n_multi_soma_t n_somas     n_limbs     n_branches     max_limb_n_bra skeletal_lengt max_limb_skele median_branch_ width_median   width_no_spine width_90_perc  width_no_spine n_spines     spine_density  spines_per_bra skeletal_lengt n_spine_eligib spine_density_ spines_per_bra total_spine_vo spine_volume_m spine_volume_d spine_volume_d spine_volume_p run_time      \n",
       "+------------+ +------------+ +------------+ +--------+ +------------+ +---------+ +------------+ +------------+ +------------+ +---------+ +---------+ +------------+ +------------+ +------------+ +------------+ +------------+ +------------+ +------------+ +------------+ +------------+ +----------+ +------------+ +------------+ +------------+ +------------+ +------------+ +------------+ +------------+ +------------+ +------------+ +------------+ +------------+ +------------+\n",
       "86469113488474 0              0.25           =BLOB=     581524         1173901     0              0              0              1           9           396            182            9105762.417662 4417913.111483 14003.905      75.417         75.417         362.451        321.41         1506         0.000165389775 3.803030303030 3333922.996    110            nan            nan            65843283280.18 25258010.27633 7230.946763168 19749.49132273 598575302.5470 1069.7304     \n",
       "86469113488474 0              0.25           =BLOB=     499834         1012043     0              0              0              1           6           226            82             5822019.539324 2537740.721900 13125.606      111.685        111.685        499.479        458.025        2247         0.000385948550 9.942477876106 2797048.724    102            nan            nan            114016969482.3 31980749.06141 19583.74902595 40763.31188085 1117813426.297 1109.6195     \n",
       "86469113488474 0              0.25           =BLOB=     380482         782797      0              0              0              1           9           272            202            5447324.215061 3642525.625192 9876.813       79.649         79.649         270.025        257.602        885          0.000162465086 3.253676470588 2309022.528    72             nan            nan            68769148892.91 46189481.96333 12624.39065087 29782.79685840 955127067.9571 553.3898      \n",
       "86469113488474 0              0.25           =BLOB=     843280         1700959     2              2              0              1           10          583            190            9413167.750364 3368032.161881 7808.186       114.566        114.566        435.79         391.447        3034         0.000322314451 5.204116638078 4757150.4      249            nan            nan            191374383459.0 42245315.42166 20330.49750459 40228.78558960 768571821.1208 4240.5491     \n",
       "86469113488474 0              0.25           =BLOB=     319665         658668      0              0              0              1           8           178            69             3766141.587812 1247867.980938 11638.23       88.002         88.002         353.538        310.918        1096         0.000291014019 6.157303370786 1815392.627    58             nan            nan            80933437500.99 43670265.42316 21489.74902136 44581.78153710 1395404094.844 1481.8205     \n",
       "86469113488474 0              0.25           =BLOB=     413686         846465      0              0              0              1           7           177            100            4619653.947272 2275793.384580 13590.042      111.032        111.032        423.676        412.122        1493         0.000323184380 8.435028248587 2614531.887    79             nan            nan            110793611671.1 42219638.20807 23983.09763799 42376.07971892 1402450780.647 1953.631      \n",
       "86469113488474 0              0.25           =BLOB=     495419         1019870     0              0              0              1           5           251            152            6523530.868981 3362727.797990 12649.553      72.507         72.507         363.074        327.354        1010         0.000154824131 4.023904382470 2354563.584    63             nan            nan            45013258229.17 22156579.89999 6900.137231388 19117.45282015 714496162.3677 1373.9606     \n",
       "86469113488474 0              0.25           =BLOB=     305682         627133      0              0              0              1           5           111            41             3411237.943903 1007323.280333 14962.232      77.154         77.154         429.671        361.291        990          0.000290217222 8.918918918918 1501288.802    33             nan            nan            66275862286.60 41122618.91065 19428.68347986 44145.97790799 2008359463.230 1606.7856     \n",
       "86469113488474 0              0.25           =BLOB=     374888         770862      1              1              0              1           7           102            37             3947733.185359 1493754.033057 18624.179      122.975        122.975        536.469        471.729        1555         0.000393896934 15.24509803921 2460060.756    45             nan            nan            72821276363.55 30931750.13158 18446.35210748 29601.41378051 1618250585.856 2185.5764     \n",
       "86469113488474 0              0.25           =BLOB=     298676         599981      1              1              0              1           8           461            220            6381578.759465 2926907.670452 8563.802       74.779         74.779         117.861        117.861        5            7.835051777091 0.010845986984 235742.906     23             nan            nan            182351327.9916 22639885.75833 28.57464192872 773.5177744507 7928318.608333 1002.7609     \n",
       "86469113488474 0              0.25           =BLOB=     2352657        4719324     0              0              0              1           14          1910           1218           44202636.12452 29306464.20251 13814.875      72.004         72.004         205.046        205.046        986          2.230636193783 0.516230366492 9562491.736    322            nan            nan            22582748683.26 10709847.39849 510.8914459229 2361.596674457 70132759.88591 18359.3356    \n",
       "86469113488474 0              0.25           =BLOB=     304543         628181      0              0              0              1           10          70             33             2634200.005919 885115.1823259 20120.099      346.007        289.963        530.781        486.643        1337         0.000507554474 19.1           2512380.749    55             nan            nan            93846781256.14 46434873.98150 35626.29300936 37353.72566180 1706305113.748 1212.3084     \n",
       "   ...\n",
       " (Total: 25109)"
      ]
     },
     "execution_count": 5,
     "metadata": {},
     "output_type": "execute_result"
    }
   ],
   "source": [
    "minnie,schema = du.configure_minnie_vm()\n",
    "(minnie.Decomposition() & \"n_somas = 1\" & \"n_faces>500000\")"
   ]
  },
  {
   "cell_type": "code",
   "execution_count": null,
   "metadata": {},
   "outputs": [],
   "source": [
    "segment_id_bad = 864691134884742906"
   ]
  },
  {
   "cell_type": "code",
   "execution_count": 6,
   "metadata": {},
   "outputs": [
    {
     "name": "stdout",
     "output_type": "stream",
     "text": [
      "Segment_id = 864691134884741114\n",
      "vertices = 499834, faces= = 1012043\n"
     ]
    },
    {
     "name": "stderr",
     "output_type": "stream",
     "text": [
      "/usr/local/lib/python3.6/dist-packages/traittypes/traittypes.py:101: UserWarning: Given trait value dtype \"float64\" does not match required type \"float64\". A coerced copy has been created.\n",
      "  np.dtype(self.dtype).name))\n"
     ]
    },
    {
     "data": {
      "application/vnd.jupyter.widget-view+json": {
       "model_id": "c4f106516c714fa896e8676cf3c5e135",
       "version_major": 2,
       "version_minor": 0
      },
      "text/plain": [
       "VBox(children=(Figure(camera=PerspectiveCamera(fov=46.0, position=(0.0, 0.0, 2.0), quaternion=(0.0, 0.0, 0.0, …"
      ]
     },
     "metadata": {},
     "output_type": "display_data"
    }
   ],
   "source": [
    "segment_id = 864691134884741114\n",
    "du.plot_decimated_mesh_with_somas(segment_id)"
   ]
  },
  {
   "cell_type": "code",
   "execution_count": 7,
   "metadata": {},
   "outputs": [
    {
     "name": "stdout",
     "output_type": "stream",
     "text": [
      "Decompressing Neuron in minimal output mode...please wait\n"
     ]
    },
    {
     "data": {
      "text/plain": [
       "<neuron.Neuron at 0x7f0103bcf0f0>"
      ]
     },
     "execution_count": 7,
     "metadata": {},
     "output_type": "execute_result"
    }
   ],
   "source": [
    "neuron_obj = (minnie.Decomposition() & dict(segment_id=segment_id)).fetch1(\"decomposition\")\n",
    "neuron_obj"
   ]
  },
  {
   "cell_type": "markdown",
   "metadata": {},
   "source": [
    "# The Error Detection One"
   ]
  },
  {
   "cell_type": "code",
   "execution_count": 19,
   "metadata": {},
   "outputs": [
    {
     "name": "stdout",
     "output_type": "stream",
     "text": [
      "functions_list = [<function width at 0x7f010913ed90>, <function median_mesh_center at 0x7f010913f0d0>, <function n_spines at 0x7f010913eea0>, <function n_faces_branch at 0x7f0109b02a60>, <function skeleton_distance_branch at 0x7f010913ee18>, <function spines_per_skeletal_length at 0x7f010913f378>, <function no_spine_median_mesh_center at 0x7f010913f1e0>]\n",
      "functions_list = [<function axon_segment at 0x7f010913f9d8>]\n",
      "Axons not keeping because of soma: {'L0': array([38, 39, 40, 41, 42, 43, 44, 45, 46, 47, 48, 49, 50, 51, 52, 53, 54,\n",
      "       55, 56, 57, 58, 59, 60, 61, 62, 63, 66, 68, 69])}\n",
      "\n",
      "----- Working on L1 ------\n",
      "-- Axon Group 0 of size 37--\n",
      "   Working on soma 0, starting_node 44\n",
      "Not using AIS angle threshold\n",
      "sk_angle= 7.715696543162551\n"
     ]
    },
    {
     "ename": "Exception",
     "evalue": "Interest Limb",
     "output_type": "error",
     "traceback": [
      "\u001b[0;31m---------------------------------------------------------------------------\u001b[0m",
      "\u001b[0;31mException\u001b[0m                                 Traceback (most recent call last)",
      "\u001b[0;32m<ipython-input-19-162070646a80>\u001b[0m in \u001b[0;36m<module>\u001b[0;34m\u001b[0m\n\u001b[1;32m    111\u001b[0m \u001b[0;34m\u001b[0m\u001b[0m\n\u001b[1;32m    112\u001b[0m                 \u001b[0;32mif\u001b[0m \u001b[0mcurr_limb_idx\u001b[0m \u001b[0;34m==\u001b[0m \u001b[0;36m1\u001b[0m\u001b[0;34m:\u001b[0m\u001b[0;34m\u001b[0m\u001b[0;34m\u001b[0m\u001b[0m\n\u001b[0;32m--> 113\u001b[0;31m                     \u001b[0;32mraise\u001b[0m \u001b[0mException\u001b[0m\u001b[0;34m(\u001b[0m\u001b[0;34m\"Interest Limb\"\u001b[0m\u001b[0;34m)\u001b[0m\u001b[0;34m\u001b[0m\u001b[0;34m\u001b[0m\u001b[0m\n\u001b[0m\u001b[1;32m    114\u001b[0m                 \u001b[0;32mif\u001b[0m \u001b[0msk_angle\u001b[0m \u001b[0;34m>\u001b[0m \u001b[0mcurr_angle_threshold\u001b[0m\u001b[0;34m:\u001b[0m\u001b[0;34m\u001b[0m\u001b[0;34m\u001b[0m\u001b[0m\n\u001b[1;32m    115\u001b[0m                     \u001b[0;32mif\u001b[0m \u001b[0mverbose\u001b[0m\u001b[0;34m:\u001b[0m\u001b[0;34m\u001b[0m\u001b[0;34m\u001b[0m\u001b[0m\n",
      "\u001b[0;31mException\u001b[0m: Interest Limb"
     ]
    }
   ],
   "source": [
    "from error_detection import *\n",
    "\n",
    "neuron_obj\n",
    "verbose=True\n",
    "visualize_errors_at_end=False\n",
    "min_skeletal_path_threshold = 15000\n",
    "sub_skeleton_length = 20000\n",
    "ais_angle_threshold = 110\n",
    "non_ais_angle_threshold = 50\n",
    "return_axon_non_axon_faces=False\n",
    "    \n",
    "if neuron_obj.n_limbs == 0:\n",
    "    if return_axon_non_axon_faces:\n",
    "        axon_faces = np.array([])\n",
    "        non_axon_faces = np.arange(len(neuron_obj.mesh.faces))\n",
    "        return_value=  np.array([]),axon_faces,non_axon_faces\n",
    "    return_value = np.array([])\n",
    "    raise Exception(\"\")\n",
    "\n",
    "axon_seg_dict = au.axon_like_segments(neuron_obj,include_ais=False,\n",
    "                                      filter_away_end_false_positives=True,\n",
    "                                      visualize_at_end=False,\n",
    "                                     )\n",
    "\n",
    "# Step 2: Get the branches that should not be considered for axons\n",
    "\n",
    "\n",
    "to_keep_limb_names = nru.filter_limbs_below_soma_percentile(neuron_obj,verbose=False)\n",
    "\n",
    "axons_to_consider = dict([(k,v) for k,v in axon_seg_dict.items() if k in to_keep_limb_names])\n",
    "axons_to_not_keep = dict([(k,v) for k,v in axon_seg_dict.items() if k not in to_keep_limb_names])\n",
    "\n",
    "\n",
    "if verbose:\n",
    "    print(f\"Axons not keeping because of soma: {axons_to_not_keep}\")\n",
    "\n",
    "# Step 3: Erroring out the axons based on projections\n",
    "\n",
    "valid_axon_branches_by_limb = dict()\n",
    "not_valid_axon_branches_by_limb = dict()\n",
    "\n",
    "\n",
    "\n",
    "axon_vector = np.array([0,1,0])\n",
    "\n",
    "for curr_limb_name,curr_axon_nodes in axons_to_consider.items():\n",
    "    if verbose:\n",
    "        print(f\"\\n----- Working on {curr_limb_name} ------\")\n",
    "    # curr_limb_name = \"L0\"\n",
    "    # curr_axon_nodes = axons_to_consider[curr_limb_name]\n",
    "    curr_limb_idx = int(curr_limb_name[1:])\n",
    "    curr_limb = neuron_obj[curr_limb_idx]\n",
    "\n",
    "\n",
    "    #1) Get the nodes that are axons\n",
    "\n",
    "\n",
    "    #2) Group into connected components\n",
    "    curr_limb_network = nx.from_edgelist(curr_limb.concept_network.edges())\n",
    "    axon_subgraph = curr_limb_network.subgraph(curr_axon_nodes)\n",
    "    axon_connected_components = list(nx.connected_components(axon_subgraph))\n",
    "\n",
    "    valid_axon_branches = []\n",
    "\n",
    "    #3) Iterate through the connected components\n",
    "    for ax_idx,ax_group in enumerate(axon_connected_components):\n",
    "        valid_flag = False\n",
    "        if verbose:\n",
    "            print(f\"-- Axon Group {ax_idx} of size {len(ax_group)}--\")\n",
    "        for soma_idx in curr_limb.touching_somas():\n",
    "            all_start_node = nru.all_starting_attr_by_limb_and_soma(curr_limb,soma_idx,\"starting_node\")\n",
    "            all_start_coord = nru.all_starting_attr_by_limb_and_soma(curr_limb,soma_idx,\"starting_coordinate\")\n",
    "            for start_node,start_coord in zip(all_start_node,all_start_coord):\n",
    "                if verbose:\n",
    "                    print(f\"   Working on soma {soma_idx}, starting_node {start_node}\")\n",
    "\n",
    "                #find the shortest path between the axon group and the starting node\n",
    "                current_shortest_path,st_node,end_node = xu.shortest_path_between_two_sets_of_nodes(curr_limb_network,[start_node],list(ax_group))\n",
    "\n",
    "\n",
    "                #get the skeleton of the path\n",
    "                path_skeletons = sk.stack_skeletons([curr_limb[k].skeleton for k in current_shortest_path])\n",
    "\n",
    "                #order the skeleton by a certain coordinate\n",
    "                ordered_path_skeleton = sk.order_skeleton(path_skeletons,start_endpoint_coordinate=start_coord)\n",
    "\n",
    "                #check and see if skeletal distance is lower than distance check and if it is then use a different angle check\n",
    "                if sk.calculate_skeleton_distance(ordered_path_skeleton)< min_skeletal_path_threshold:\n",
    "                    if verbose:\n",
    "                        print(f\"Using AIS angle threshold {ais_angle_threshold}\")\n",
    "                    curr_angle_threshold = ais_angle_threshold\n",
    "                else:\n",
    "                    if verbose:\n",
    "                        print(\"Not using AIS angle threshold\")\n",
    "                    curr_angle_threshold = non_ais_angle_threshold\n",
    "\n",
    "\n",
    "                #get the first skeletal distance of threshold\n",
    "                keep_skeleton_indices = np.where(sk.calculate_skeleton_segment_distances(ordered_path_skeleton)<=sub_skeleton_length)[0]\n",
    "\n",
    "\n",
    "                restricted_skeleton = ordered_path_skeleton[keep_skeleton_indices]\n",
    "                restricted_skeleton_endpoints_sk = np.array([restricted_skeleton[0][0],restricted_skeleton[-1][-1]]).reshape(-1,2,3)\n",
    "                restricted_skeleton_vector = np.array(restricted_skeleton[-1][-1]-restricted_skeleton[0][0])\n",
    "                restricted_skeleton_vector = restricted_skeleton_vector/np.linalg.norm(restricted_skeleton_vector)\n",
    "\n",
    "                #angle between going down and skeleton vector\n",
    "                sk_angle = nu.angle_between_vectors(axon_vector,restricted_skeleton_vector)\n",
    "                if verbose:\n",
    "                    print(f\"sk_angle= {sk_angle}\")\n",
    "\n",
    "                if curr_limb_idx == 1:\n",
    "                    raise Exception(\"Interest Limb\")\n",
    "                if sk_angle > curr_angle_threshold:\n",
    "                    if verbose:\n",
    "                        print(\"*****Path to axon group not valid******\")\n",
    "                else:\n",
    "                    if verbose:\n",
    "                        pass\n",
    "                        #print(\"Path to axon group valid so adding them as valid axon segments\")\n",
    "                    valid_axon_branches.append(list(ax_group))\n",
    "                    valid_flag = True\n",
    "                    break\n",
    "\n",
    "#                 if curr_limb_name == \"L1\":\n",
    "#                     raise Exception()\n",
    "\n",
    "            if valid_flag:\n",
    "                break\n",
    "\n",
    "\n",
    "\n",
    "\n",
    "\n",
    "\n",
    "    if len(valid_axon_branches) > 0:\n",
    "        valid_axon_branches_by_limb[curr_limb_name] = np.concatenate(valid_axon_branches)\n",
    "        not_valid_axon_branches_by_limb[curr_limb_name] = list(np.setdiff1d(curr_axon_nodes,np.concatenate(valid_axon_branches)))\n",
    "    else:\n",
    "        valid_axon_branches_by_limb[curr_limb_name] = []\n",
    "        not_valid_axon_branches_by_limb[curr_limb_name] = list(curr_axon_nodes)\n",
    "\n",
    "    if verbose:\n",
    "        print(f\"\\n\\nFor limb {curr_limb_idx} the valid axon branches are {valid_axon_branches_by_limb[curr_limb_name] }\")\n",
    "        print(f\"The following are not valid: {not_valid_axon_branches_by_limb[curr_limb_name]}\")\n",
    "\n",
    "# Step 4: Compiling all the errored faces\n",
    "\n",
    "\n",
    "final_error_axons = copy.copy(axons_to_not_keep)\n",
    "final_error_axons.update(not_valid_axon_branches_by_limb)\n",
    "\n",
    "if verbose:\n",
    "    print(f\"final_error_axons = {final_error_axons}\")\n",
    "\n",
    "\n",
    "# Step 5: Getting all of the errored faces\n",
    "\n",
    "error_faces = []\n",
    "for curr_limb_name,error_branch_idx in final_error_axons.items():\n",
    "    curr_limb = neuron_obj[curr_limb_name]\n",
    "    curr_error_faces = tu.original_mesh_faces_map(neuron_obj.mesh,\n",
    "                                                        [curr_limb[k].mesh for k in error_branch_idx],\n",
    "                                   matching=True,\n",
    "                                   print_flag=False)\n",
    "\n",
    "\n",
    "    #curr_error_faces = np.concatenate([new_limb_mesh_face_idx[curr_limb[k].mesh_face_idx] for k in error_branch_idx])\n",
    "    error_faces.append(curr_error_faces)\n",
    "\n",
    "if len(error_faces) > 0:\n",
    "    error_faces_concat = np.concatenate(error_faces)\n",
    "else:\n",
    "    error_faces_concat = error_faces\n",
    "\n",
    "error_faces_concat = np.array(error_faces_concat).astype(\"int\")\n",
    "\n",
    "if verbose:\n",
    "    print(f\"\\n\\n -------- Total number of error faces = {len(error_faces_concat)} --------------\")\n",
    "\n",
    "if visualize_errors_at_end:\n",
    "    nviz.plot_objects(main_mesh = neuron_obj.mesh,\n",
    "        meshes=[neuron_obj.mesh.submesh([error_faces_concat],append=True)],\n",
    "                     meshes_colors=[\"red\"])\n",
    "\n",
    "if return_axon_non_axon_faces:\n",
    "    if verbose:\n",
    "        print(\"Computing the axon and non-axonal faces\")\n",
    "    axon_faces = nru.limb_branch_dict_to_faces(neuron_obj,valid_axon_branches_by_limb)\n",
    "    non_axon_faces = np.setdiff1d(np.arange(len(neuron_obj.mesh.faces)),axon_faces)\n",
    "    return_value= error_faces_concat,axon_faces,non_axon_faces\n",
    "    raise Exception(\"\")\n",
    "\n",
    "return_value = error_faces_concat"
   ]
  },
  {
   "cell_type": "code",
   "execution_count": 30,
   "metadata": {},
   "outputs": [],
   "source": [
    "import skeleton_utils as sk"
   ]
  },
  {
   "cell_type": "code",
   "execution_count": 31,
   "metadata": {},
   "outputs": [
    {
     "data": {
      "text/plain": [
       "16609.413233168103"
      ]
     },
     "execution_count": 31,
     "metadata": {},
     "output_type": "execute_result"
    }
   ],
   "source": [
    "\n",
    "sk.calculate_skeleton_distance(neuron_obj[0][18].skeleton)"
   ]
  },
  {
   "cell_type": "code",
   "execution_count": 29,
   "metadata": {},
   "outputs": [
    {
     "name": "stdout",
     "output_type": "stream",
     "text": [
      "\n",
      " Working on visualization type: mesh\n",
      "\n",
      " Working on visualization type: skeleton\n",
      "Working on  new stand alone scatter points\n"
     ]
    },
    {
     "data": {
      "application/vnd.jupyter.widget-view+json": {
       "model_id": "93d213d3acbf45a9a67e225889a19930",
       "version_major": 2,
       "version_minor": 0
      },
      "text/plain": [
       "VBox(children=(Figure(camera=PerspectiveCamera(fov=46.0, position=(0.0, 0.0, 2.0), quaternion=(0.0, 0.0, 0.0, …"
      ]
     },
     "metadata": {},
     "output_type": "display_data"
    },
    {
     "data": {
      "text/plain": [
       "{'L0_18': array([0., 0., 1., 1.]), 'S0': array([1., 0., 0., 1.])}"
      ]
     },
     "execution_count": 29,
     "metadata": {},
     "output_type": "execute_result"
    }
   ],
   "source": [
    "nviz.visualize_neuron(neuron_obj,\n",
    "                     limb_branch_dict=dict(L0=[18]),\n",
    "                     return_color_dict=True)"
   ]
  },
  {
   "cell_type": "code",
   "execution_count": 22,
   "metadata": {},
   "outputs": [],
   "source": [
    "import trimesh_utils as tu"
   ]
  },
  {
   "cell_type": "code",
   "execution_count": 26,
   "metadata": {},
   "outputs": [],
   "source": [
    "import copy"
   ]
  },
  {
   "cell_type": "code",
   "execution_count": 27,
   "metadata": {},
   "outputs": [],
   "source": [
    "restriced_skeleton_L1 = copy.deepcopy(restricted_skeleton)"
   ]
  },
  {
   "cell_type": "code",
   "execution_count": 37,
   "metadata": {
    "scrolled": false
   },
   "outputs": [
    {
     "data": {
      "application/vnd.jupyter.widget-view+json": {
       "model_id": "108aaac55883477dba1fe563fd3c7ad8",
       "version_major": 2,
       "version_minor": 0
      },
      "text/plain": [
       "VBox(children=(Figure(camera=PerspectiveCamera(fov=46.0, position=(0.0, 0.0, 2.0), quaternion=(0.0, 0.0, 0.0, …"
      ]
     },
     "metadata": {},
     "output_type": "display_data"
    }
   ],
   "source": [
    "nviz.plot_objects(\n",
    "                  mesh_alpha=0.30,\n",
    "    skeletons=[restricted_skeleton,neuron_obj[0][18].skeleton],\n",
    "                 meshes=[neuron_obj[\"S0\"].mesh,neuron_obj[1].mesh,neuron_obj[0].mesh],\n",
    "                 meshes_colors=[\"red\",\"aqua\",\"aqua\"])"
   ]
  },
  {
   "cell_type": "code",
   "execution_count": null,
   "metadata": {},
   "outputs": [],
   "source": [
    "# V"
   ]
  },
  {
   "cell_type": "code",
   "execution_count": null,
   "metadata": {},
   "outputs": [],
   "source": [
    "\"\"\"\n",
    "limb with the correct axon: L1\n",
    "\n",
    "limb with not correct: L0\n",
    "\n",
    "\"\"\""
   ]
  },
  {
   "cell_type": "code",
   "execution_count": 16,
   "metadata": {},
   "outputs": [
    {
     "name": "stdout",
     "output_type": "stream",
     "text": [
      "\n",
      " Working on visualization type: mesh\n",
      "Working on  new stand alone scatter points\n"
     ]
    },
    {
     "data": {
      "application/vnd.jupyter.widget-view+json": {
       "model_id": "9b30b448af9748b2a197b593ce4590bf",
       "version_major": 2,
       "version_minor": 0
      },
      "text/plain": [
       "VBox(children=(Figure(camera=PerspectiveCamera(fov=46.0, position=(0.0, 0.0, 2.0), quaternion=(0.0, 0.0, 0.0, …"
      ]
     },
     "metadata": {},
     "output_type": "display_data"
    }
   ],
   "source": [
    "nviz.visualize_neuron(neuron_obj,\n",
    "                      visualize_type=[\"mesh\"],\n",
    "                      limb_branch_dict=\"all\",\n",
    "                      mesh_resolution=\"limb\",\n",
    "                     mesh_color_alpha=1)"
   ]
  },
  {
   "cell_type": "code",
   "execution_count": 40,
   "metadata": {},
   "outputs": [
    {
     "data": {
      "application/vnd.jupyter.widget-view+json": {
       "model_id": "2009538657974c0d9dba5b71026c038a",
       "version_major": 2,
       "version_minor": 0
      },
      "text/plain": [
       "VBox(children=(Figure(camera=PerspectiveCamera(fov=46.0, position=(0.0, 0.0, 2.0), quaternion=(0.0, 0.0, 0.0, …"
      ]
     },
     "metadata": {},
     "output_type": "display_data"
    }
   ],
   "source": [
    "nviz.plot_objects(\n",
    "        meshes=[neuron_obj.mesh,neuron_obj.mesh.submesh([error_faces_concat],append=True)],\n",
    "                  mesh_alpha=1,\n",
    "                     meshes_colors=[\"aqua\",[1,0,0,1],])"
   ]
  },
  {
   "cell_type": "markdown",
   "metadata": {},
   "source": [
    "# Getting the Axon Coloring"
   ]
  },
  {
   "cell_type": "code",
   "execution_count": 41,
   "metadata": {},
   "outputs": [
    {
     "name": "stdout",
     "output_type": "stream",
     "text": [
      "functions_list = [<function width at 0x7f010913ed90>, <function median_mesh_center at 0x7f010913f0d0>, <function n_spines at 0x7f010913eea0>, <function n_faces_branch at 0x7f0109b02a60>, <function skeleton_distance_branch at 0x7f010913ee18>, <function spines_per_skeletal_length at 0x7f010913f378>, <function no_spine_median_mesh_center at 0x7f010913f1e0>]\n",
      "functions_list = [<function axon_segment at 0x7f010913f9d8>]\n"
     ]
    }
   ],
   "source": [
    "import axon_utils as au\n",
    "ax_like_segs = au.axon_like_segments(neuron_obj) "
   ]
  },
  {
   "cell_type": "code",
   "execution_count": 45,
   "metadata": {},
   "outputs": [
    {
     "name": "stdout",
     "output_type": "stream",
     "text": [
      "\n",
      " Working on visualization type: mesh\n",
      "Working on  new stand alone scatter points\n"
     ]
    },
    {
     "data": {
      "application/vnd.jupyter.widget-view+json": {
       "model_id": "26ed1a2e03254a5893b34e6a5c55186c",
       "version_major": 2,
       "version_minor": 0
      },
      "text/plain": [
       "VBox(children=(Figure(camera=PerspectiveCamera(fov=46.0, position=(0.0, 0.0, 2.0), quaternion=(0.0, 0.0, 0.0, …"
      ]
     },
     "metadata": {},
     "output_type": "display_data"
    }
   ],
   "source": [
    "ret_col = nviz.visualize_neuron(neuron_obj,\n",
    "                                             visualize_type=[\"mesh\"],\n",
    "                      limb_branch_dict=ax_like_segs,\n",
    "                     mesh_color=\"red\",\n",
    "                     mesh_color_alpha=1,\n",
    "                     mesh_whole_neuron=True,\n",
    "                      mesh_whole_neuron_color=\"aqua\",\n",
    "                     return_color_dict=True)"
   ]
  },
  {
   "cell_type": "code",
   "execution_count": 46,
   "metadata": {},
   "outputs": [
    {
     "data": {
      "text/plain": [
       "{'L0': array([38, 39, 40, 41, 42, 43, 44, 45, 46, 47, 48, 49, 50, 51, 52, 53, 54,\n",
       "        55, 56, 57, 58, 59, 60, 61, 62, 63, 66, 68, 69]),\n",
       " 'L1': array([ 2,  3,  4,  6,  7,  9, 10, 11, 12, 13, 14, 15, 16, 21, 22, 23, 24,\n",
       "        25, 26, 27, 28, 29, 30, 31, 32, 33, 34, 35, 36, 37, 39, 40, 41, 42,\n",
       "        43, 45, 46, 47, 48, 49, 50, 51, 52, 53, 54, 55, 56, 57, 58, 59, 60,\n",
       "        61, 62, 63, 64, 65, 66, 67, 68, 69, 70, 71, 72, 73, 74, 75, 76, 77,\n",
       "        78, 79, 80, 81]),\n",
       " 'L2': array([], dtype=int64),\n",
       " 'L3': array([], dtype=int64),\n",
       " 'L4': array([], dtype=int64)}"
      ]
     },
     "execution_count": 46,
     "metadata": {},
     "output_type": "execute_result"
    }
   ],
   "source": [
    "ax_like_segs"
   ]
  },
  {
   "cell_type": "markdown",
   "metadata": {},
   "source": [
    "# Graphing intial trajectories and error meshes together"
   ]
  },
  {
   "cell_type": "code",
   "execution_count": 47,
   "metadata": {},
   "outputs": [
    {
     "data": {
      "application/vnd.jupyter.widget-view+json": {
       "model_id": "a9727a3d69ae4a9bbb2712f96b37dc05",
       "version_major": 2,
       "version_minor": 0
      },
      "text/plain": [
       "VBox(children=(Figure(camera=PerspectiveCamera(fov=46.0, position=(0.0, 0.0, 2.0), quaternion=(0.0, 0.0, 0.0, …"
      ]
     },
     "metadata": {},
     "output_type": "display_data"
    }
   ],
   "source": [
    "thin_axon_meshes = []\n",
    "for limb_name,branch_ids in ax_like_segs.items():\n",
    "    thin_axon_meshes += [neuron_obj[limb_name][k].mesh for k in branch_ids]\n",
    "    \n",
    "thin_axon_meshes_combined = tu.combine_meshes(thin_axon_meshes)\n",
    "nviz.plot_objects(thin_axon_meshes_combined)"
   ]
  },
  {
   "cell_type": "code",
   "execution_count": 62,
   "metadata": {},
   "outputs": [],
   "source": [
    "limb_1_subtr = tu.subtract_mesh(neuron_obj[1].mesh,thin_axon_meshes_combined)\n",
    "limb_0_subtr = tu.subtract_mesh(neuron_obj[0].mesh,thin_axon_meshes_combined)\n"
   ]
  },
  {
   "cell_type": "code",
   "execution_count": 63,
   "metadata": {},
   "outputs": [
    {
     "name": "stdout",
     "output_type": "stream",
     "text": [
      "other_meshes_colors = ['aqua', 'red', 'aqua', 'red']\n",
      "color = [0.  1.  1.  0.3]\n",
      "Not color dict = [0.  1.  1.  0.3]\n",
      "color = [1.  0.  0.  0.3]\n",
      "Not color dict = [1.  0.  0.  0.3]\n",
      "color = [0.  1.  1.  0.3]\n",
      "Not color dict = [0.  1.  1.  0.3]\n",
      "color = [1.  0.  0.  0.3]\n",
      "Not color dict = [1.  0.  0.  0.3]\n"
     ]
    },
    {
     "data": {
      "application/vnd.jupyter.widget-view+json": {
       "model_id": "40a6f56ffb1645c0ad6851d9db8014f0",
       "version_major": 2,
       "version_minor": 0
      },
      "text/plain": [
       "VBox(children=(Figure(camera=PerspectiveCamera(fov=46.0, position=(0.0, 0.0, 2.0), quaternion=(0.0, 0.0, 0.0, …"
      ]
     },
     "metadata": {},
     "output_type": "display_data"
    }
   ],
   "source": [
    "sk = reload(sk)\n",
    "nviz.plot_objects(\n",
    "                  mesh_alpha=0.30,\n",
    "    skeletons=[restricted_skeleton,neuron_obj[0][18].skeleton],\n",
    "                 meshes=[limb_1_subtr,thin_axon_meshes_combined,limb_0_subtr,neuron_obj[\"S0\"].mesh],\n",
    "                 meshes_colors=[\"aqua\",\"red\",\"aqua\",\"red\"])"
   ]
  },
  {
   "cell_type": "code",
   "execution_count": null,
   "metadata": {},
   "outputs": [],
   "source": []
  }
 ],
 "metadata": {
  "kernelspec": {
   "display_name": "Python 3",
   "language": "python",
   "name": "python3"
  },
  "language_info": {
   "codemirror_mode": {
    "name": "ipython",
    "version": 3
   },
   "file_extension": ".py",
   "mimetype": "text/x-python",
   "name": "python",
   "nbconvert_exporter": "python",
   "pygments_lexer": "ipython3",
   "version": "3.6.9"
  }
 },
 "nbformat": 4,
 "nbformat_minor": 4
}
