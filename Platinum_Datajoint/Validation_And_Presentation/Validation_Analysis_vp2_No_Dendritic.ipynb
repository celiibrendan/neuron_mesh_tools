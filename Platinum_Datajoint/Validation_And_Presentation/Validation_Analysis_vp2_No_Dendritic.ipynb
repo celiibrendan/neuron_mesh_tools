{
 "cells": [
  {
   "cell_type": "code",
   "execution_count": null,
   "metadata": {},
   "outputs": [],
   "source": [
    "\"\"\"\n",
    "Analyze the results from the validation testing\n",
    "\n",
    "\"\"\""
   ]
  },
  {
   "cell_type": "code",
   "execution_count": 1,
   "metadata": {},
   "outputs": [
    {
     "name": "stderr",
     "output_type": "stream",
     "text": [
      "INFO - 2020-12-01 00:47:56,551 - settings - Setting database.host to at-database.ad.bcm.edu\n",
      "INFO - 2020-12-01 00:47:56,552 - settings - Setting database.user to celiib\n",
      "INFO - 2020-12-01 00:47:56,553 - settings - Setting database.password to newceliipass\n",
      "INFO - 2020-12-01 00:47:56,556 - settings - Setting stores to {'minnie65': {'protocol': 'file', 'location': '/mnt/dj-stor01/platinum/minnie65', 'stage': '/mnt/dj-stor01/platinum/minnie65'}, 'meshes': {'protocol': 'file', 'location': '/mnt/dj-stor01/platinum/minnie65/02/meshes', 'stage': '/mnt/dj-stor01/platinum/minnie65/02/meshes'}, 'decimated_meshes': {'protocol': 'file', 'location': '/mnt/dj-stor01/platinum/minnie65/02/decimated_meshes', 'stage': '/mnt/dj-stor01/platinum/minnie65/02/decimated_meshes'}, 'skeletons': {'protocol': 'file', 'location': '/mnt/dj-stor01/platinum/minnie65/02/skeletons'}}\n",
      "INFO - 2020-12-01 00:47:56,557 - settings - Setting enable_python_native_blobs to True\n",
      "INFO - 2020-12-01 00:47:56,571 - connection - Connected celiib@at-database.ad.bcm.edu:3306\n"
     ]
    },
    {
     "name": "stdout",
     "output_type": "stream",
     "text": [
      "Connecting celiib@at-database.ad.bcm.edu:3306\n"
     ]
    },
    {
     "name": "stderr",
     "output_type": "stream",
     "text": [
      "INFO - 2020-12-01 00:47:56,782 - settings - Setting enable_python_native_blobs to True\n"
     ]
    }
   ],
   "source": [
    "from os import sys\n",
    "sys.path.append(\"/meshAfterParty/\")\n",
    "\n",
    "import numpy as np\n",
    "import datajoint as dj\n",
    "import trimesh\n",
    "from tqdm.notebook import tqdm\n",
    "from pathlib import Path\n",
    "import neuron_visualizations as nviz\n",
    "\n",
    "\n",
    "import datajoint_utils as du\n",
    "from importlib import reload"
   ]
  },
  {
   "cell_type": "code",
   "execution_count": 2,
   "metadata": {},
   "outputs": [
    {
     "name": "stderr",
     "output_type": "stream",
     "text": [
      "INFO - 2020-12-01 00:48:14,668 - settings - Setting enable_python_native_blobs to True\n",
      "INFO - 2020-12-01 00:48:14,870 - settings - Setting enable_python_native_blobs to True\n"
     ]
    }
   ],
   "source": [
    "import time\n",
    "import datajoint_utils as du\n",
    "import neuron_utils as nru\n",
    "import neuron\n",
    "import trimesh_utils as tu\n",
    "import numpy as np\n",
    "\n",
    "from datajoint_utils import *\n",
    "\n",
    "import error_detection as ed\n",
    "\n",
    "minnie,schema = du.configure_minnie_vm()"
   ]
  },
  {
   "cell_type": "markdown",
   "metadata": {},
   "source": [
    "# Results stored in the table"
   ]
  },
  {
   "cell_type": "code",
   "execution_count": 12,
   "metadata": {},
   "outputs": [
    {
     "data": {
      "text/html": [
       "\n",
       "        \n",
       "        <style type=\"text/css\">\n",
       "            .Relation{\n",
       "                border-collapse:collapse;\n",
       "            }\n",
       "            .Relation th{\n",
       "                background: #A0A0A0; color: #ffffff; padding:4px; border:#f0e0e0 1px solid;\n",
       "                font-weight: normal; font-family: monospace; font-size: 100%;\n",
       "            }\n",
       "            .Relation td{\n",
       "                padding:4px; border:#f0e0e0 1px solid; font-size:100%;\n",
       "            }\n",
       "            .Relation tr:nth-child(odd){\n",
       "                background: #ffffff;\n",
       "            }\n",
       "            .Relation tr:nth-child(even){\n",
       "                background: #f3f1ff;\n",
       "            }\n",
       "            /* Tooltip container */\n",
       "            .djtooltip {\n",
       "            }\n",
       "            /* Tooltip text */\n",
       "            .djtooltip .djtooltiptext {\n",
       "                visibility: hidden;\n",
       "                width: 120px;\n",
       "                background-color: black;\n",
       "                color: #fff;\n",
       "                text-align: center;\n",
       "                padding: 5px 0;\n",
       "                border-radius: 6px;\n",
       "                /* Position the tooltip text - see examples below! */\n",
       "                position: absolute;\n",
       "                z-index: 1;\n",
       "            }\n",
       "            #primary {\n",
       "                font-weight: bold;\n",
       "                color: black;\n",
       "            }\n",
       "\n",
       "            #nonprimary {\n",
       "                font-weight: normal;\n",
       "                color: white;\n",
       "            }\n",
       "\n",
       "            /* Show the tooltip text when you mouse over the tooltip container */\n",
       "            .djtooltip:hover .djtooltiptext {\n",
       "                visibility: visible;\n",
       "            }\n",
       "        </style>\n",
       "        \n",
       "        <b></b>\n",
       "            <div style=\"max-height:1000px;max-width:1500px;overflow:auto;\">\n",
       "            <table border=\"1\" class=\"Relation\">\n",
       "                <thead> <tr style=\"text-align: right;\"> <th> <div class=\"djtooltip\">\n",
       "                                <p id=\"primary\">segment_id</p>\n",
       "                                <span class=\"djtooltiptext\">segment id for those to be decimated</span>\n",
       "                            </div></th><th><div class=\"djtooltip\">\n",
       "                                <p id=\"nonprimary\">new_segment_id</p>\n",
       "                                <span class=\"djtooltiptext\"></span>\n",
       "                            </div></th><th><div class=\"djtooltip\">\n",
       "                                <p id=\"nonprimary\">true_positive_presyn</p>\n",
       "                                <span class=\"djtooltiptext\"></span>\n",
       "                            </div></th><th><div class=\"djtooltip\">\n",
       "                                <p id=\"nonprimary\">false_positive_presyn</p>\n",
       "                                <span class=\"djtooltiptext\"></span>\n",
       "                            </div></th><th><div class=\"djtooltip\">\n",
       "                                <p id=\"nonprimary\">true_negative_presyn</p>\n",
       "                                <span class=\"djtooltiptext\"></span>\n",
       "                            </div></th><th><div class=\"djtooltip\">\n",
       "                                <p id=\"nonprimary\">false_negative_presyn</p>\n",
       "                                <span class=\"djtooltiptext\"></span>\n",
       "                            </div></th><th><div class=\"djtooltip\">\n",
       "                                <p id=\"nonprimary\">precision_presyn</p>\n",
       "                                <span class=\"djtooltiptext\"></span>\n",
       "                            </div></th><th><div class=\"djtooltip\">\n",
       "                                <p id=\"nonprimary\">recall_presyn</p>\n",
       "                                <span class=\"djtooltiptext\"></span>\n",
       "                            </div></th><th><div class=\"djtooltip\">\n",
       "                                <p id=\"nonprimary\">f1_presyn</p>\n",
       "                                <span class=\"djtooltiptext\"></span>\n",
       "                            </div></th><th><div class=\"djtooltip\">\n",
       "                                <p id=\"nonprimary\">true_positive_postsyn</p>\n",
       "                                <span class=\"djtooltiptext\"></span>\n",
       "                            </div></th><th><div class=\"djtooltip\">\n",
       "                                <p id=\"nonprimary\">false_positive_postsyn</p>\n",
       "                                <span class=\"djtooltiptext\"></span>\n",
       "                            </div></th><th><div class=\"djtooltip\">\n",
       "                                <p id=\"nonprimary\">true_negative_postsyn</p>\n",
       "                                <span class=\"djtooltiptext\"></span>\n",
       "                            </div></th><th><div class=\"djtooltip\">\n",
       "                                <p id=\"nonprimary\">false_negative_postsyn</p>\n",
       "                                <span class=\"djtooltiptext\"></span>\n",
       "                            </div></th><th><div class=\"djtooltip\">\n",
       "                                <p id=\"nonprimary\">precision_postsyn</p>\n",
       "                                <span class=\"djtooltiptext\"></span>\n",
       "                            </div></th><th><div class=\"djtooltip\">\n",
       "                                <p id=\"nonprimary\">recall_postsyn</p>\n",
       "                                <span class=\"djtooltiptext\"></span>\n",
       "                            </div></th><th><div class=\"djtooltip\">\n",
       "                                <p id=\"nonprimary\">f1_postsyn</p>\n",
       "                                <span class=\"djtooltiptext\"></span>\n",
       "                            </div></th><th><div class=\"djtooltip\">\n",
       "                                <p id=\"nonprimary\">true_positive_total</p>\n",
       "                                <span class=\"djtooltiptext\"></span>\n",
       "                            </div></th><th><div class=\"djtooltip\">\n",
       "                                <p id=\"nonprimary\">false_positive_total</p>\n",
       "                                <span class=\"djtooltiptext\"></span>\n",
       "                            </div></th><th><div class=\"djtooltip\">\n",
       "                                <p id=\"nonprimary\">true_negative_total</p>\n",
       "                                <span class=\"djtooltiptext\"></span>\n",
       "                            </div></th><th><div class=\"djtooltip\">\n",
       "                                <p id=\"nonprimary\">false_negative_total</p>\n",
       "                                <span class=\"djtooltiptext\"></span>\n",
       "                            </div></th><th><div class=\"djtooltip\">\n",
       "                                <p id=\"nonprimary\">precision_total</p>\n",
       "                                <span class=\"djtooltiptext\"></span>\n",
       "                            </div></th><th><div class=\"djtooltip\">\n",
       "                                <p id=\"nonprimary\">recall_total</p>\n",
       "                                <span class=\"djtooltiptext\"></span>\n",
       "                            </div></th><th><div class=\"djtooltip\">\n",
       "                                <p id=\"nonprimary\">f1_total</p>\n",
       "                                <span class=\"djtooltiptext\"></span>\n",
       "                            </div> </th> </tr> </thead>\n",
       "                <tbody> <tr> <td>864691134988386682</td>\n",
       "<td>864691135278269857</td>\n",
       "<td>35</td>\n",
       "<td>0</td>\n",
       "<td>8</td>\n",
       "<td>11</td>\n",
       "<td>1.0</td>\n",
       "<td>0.7608695652173914</td>\n",
       "<td>0.8641975308641976</td>\n",
       "<td>0</td>\n",
       "<td>0</td>\n",
       "<td>1861</td>\n",
       "<td>9</td>\n",
       "<td>nan</td>\n",
       "<td>0.0</td>\n",
       "<td>nan</td>\n",
       "<td>35</td>\n",
       "<td>0</td>\n",
       "<td>1869</td>\n",
       "<td>20</td>\n",
       "<td>1.0</td>\n",
       "<td>0.6363636363636364</td>\n",
       "<td>0.7777777777777778</td></tr><tr><td>864691135113167769</td>\n",
       "<td>864691135367058169</td>\n",
       "<td>78</td>\n",
       "<td>2</td>\n",
       "<td>14</td>\n",
       "<td>18</td>\n",
       "<td>0.975</td>\n",
       "<td>0.8125</td>\n",
       "<td>0.8863636363636362</td>\n",
       "<td>5</td>\n",
       "<td>156</td>\n",
       "<td>2032</td>\n",
       "<td>4</td>\n",
       "<td>0.031055900621118012</td>\n",
       "<td>0.5555555555555556</td>\n",
       "<td>0.058823529411764705</td>\n",
       "<td>83</td>\n",
       "<td>158</td>\n",
       "<td>2046</td>\n",
       "<td>22</td>\n",
       "<td>0.34439834024896265</td>\n",
       "<td>0.7904761904761904</td>\n",
       "<td>0.4797687861271676</td></tr><tr><td>864691135212632448</td>\n",
       "<td>864691135446675028</td>\n",
       "<td>254</td>\n",
       "<td>2</td>\n",
       "<td>14</td>\n",
       "<td>15</td>\n",
       "<td>0.9921875</td>\n",
       "<td>0.9442379182156134</td>\n",
       "<td>0.9676190476190475</td>\n",
       "<td>7</td>\n",
       "<td>9</td>\n",
       "<td>3335</td>\n",
       "<td>3</td>\n",
       "<td>0.4375</td>\n",
       "<td>0.7</td>\n",
       "<td>0.5384615384615384</td>\n",
       "<td>261</td>\n",
       "<td>11</td>\n",
       "<td>3349</td>\n",
       "<td>18</td>\n",
       "<td>0.9595588235294118</td>\n",
       "<td>0.9354838709677419</td>\n",
       "<td>0.9473684210526315</td></tr><tr><td>864691135212690816</td>\n",
       "<td>864691135775906989</td>\n",
       "<td>0</td>\n",
       "<td>0</td>\n",
       "<td>16</td>\n",
       "<td>1</td>\n",
       "<td>nan</td>\n",
       "<td>0.0</td>\n",
       "<td>nan</td>\n",
       "<td>0</td>\n",
       "<td>0</td>\n",
       "<td>2334</td>\n",
       "<td>1</td>\n",
       "<td>nan</td>\n",
       "<td>0.0</td>\n",
       "<td>nan</td>\n",
       "<td>0</td>\n",
       "<td>0</td>\n",
       "<td>2350</td>\n",
       "<td>2</td>\n",
       "<td>nan</td>\n",
       "<td>0.0</td>\n",
       "<td>nan</td></tr><tr><td>864691135233108569</td>\n",
       "<td>864691136023889209</td>\n",
       "<td>0</td>\n",
       "<td>0</td>\n",
       "<td>3</td>\n",
       "<td>1</td>\n",
       "<td>nan</td>\n",
       "<td>0.0</td>\n",
       "<td>nan</td>\n",
       "<td>0</td>\n",
       "<td>0</td>\n",
       "<td>730</td>\n",
       "<td>2</td>\n",
       "<td>nan</td>\n",
       "<td>0.0</td>\n",
       "<td>nan</td>\n",
       "<td>0</td>\n",
       "<td>0</td>\n",
       "<td>733</td>\n",
       "<td>3</td>\n",
       "<td>nan</td>\n",
       "<td>0.0</td>\n",
       "<td>nan</td></tr><tr><td>864691135272164113</td>\n",
       "<td>864691136194298600</td>\n",
       "<td>61</td>\n",
       "<td>0</td>\n",
       "<td>20</td>\n",
       "<td>9</td>\n",
       "<td>1.0</td>\n",
       "<td>0.8714285714285714</td>\n",
       "<td>0.9312977099236641</td>\n",
       "<td>0</td>\n",
       "<td>11</td>\n",
       "<td>5636</td>\n",
       "<td>18</td>\n",
       "<td>0.0</td>\n",
       "<td>0.0</td>\n",
       "<td>nan</td>\n",
       "<td>61</td>\n",
       "<td>11</td>\n",
       "<td>5656</td>\n",
       "<td>27</td>\n",
       "<td>0.8472222222222222</td>\n",
       "<td>0.6931818181818182</td>\n",
       "<td>0.7625000000000001</td></tr><tr><td>864691135348272855</td>\n",
       "<td>864691136143561524</td>\n",
       "<td>342</td>\n",
       "<td>0</td>\n",
       "<td>12</td>\n",
       "<td>5</td>\n",
       "<td>1.0</td>\n",
       "<td>0.9855907780979827</td>\n",
       "<td>0.9927431059506531</td>\n",
       "<td>4</td>\n",
       "<td>31</td>\n",
       "<td>5967</td>\n",
       "<td>20</td>\n",
       "<td>0.11428571428571428</td>\n",
       "<td>0.16666666666666666</td>\n",
       "<td>0.13559322033898305</td>\n",
       "<td>346</td>\n",
       "<td>31</td>\n",
       "<td>5979</td>\n",
       "<td>25</td>\n",
       "<td>0.9177718832891246</td>\n",
       "<td>0.9326145552560647</td>\n",
       "<td>0.9251336898395722</td></tr><tr><td>864691135382947307</td>\n",
       "<td>864691135593659947</td>\n",
       "<td>13</td>\n",
       "<td>0</td>\n",
       "<td>9</td>\n",
       "<td>0</td>\n",
       "<td>1.0</td>\n",
       "<td>1.0</td>\n",
       "<td>1.0</td>\n",
       "<td>1</td>\n",
       "<td>34</td>\n",
       "<td>2591</td>\n",
       "<td>0</td>\n",
       "<td>0.02857142857142857</td>\n",
       "<td>1.0</td>\n",
       "<td>0.05555555555555556</td>\n",
       "<td>14</td>\n",
       "<td>34</td>\n",
       "<td>2600</td>\n",
       "<td>0</td>\n",
       "<td>0.2916666666666667</td>\n",
       "<td>1.0</td>\n",
       "<td>0.45161290322580644</td></tr><tr><td>864691135393964789</td>\n",
       "<td>864691137019596142</td>\n",
       "<td>133</td>\n",
       "<td>0</td>\n",
       "<td>14</td>\n",
       "<td>68</td>\n",
       "<td>1.0</td>\n",
       "<td>0.6616915422885572</td>\n",
       "<td>0.7964071856287425</td>\n",
       "<td>11</td>\n",
       "<td>0</td>\n",
       "<td>1592</td>\n",
       "<td>96</td>\n",
       "<td>1.0</td>\n",
       "<td>0.102803738317757</td>\n",
       "<td>0.1864406779661017</td>\n",
       "<td>144</td>\n",
       "<td>0</td>\n",
       "<td>1606</td>\n",
       "<td>164</td>\n",
       "<td>1.0</td>\n",
       "<td>0.4675324675324675</td>\n",
       "<td>0.6371681415929203</td></tr><tr><td>864691135407289801</td>\n",
       "<td>864691135848030814</td>\n",
       "<td>184</td>\n",
       "<td>0</td>\n",
       "<td>9</td>\n",
       "<td>4</td>\n",
       "<td>1.0</td>\n",
       "<td>0.9787234042553191</td>\n",
       "<td>0.989247311827957</td>\n",
       "<td>4</td>\n",
       "<td>203</td>\n",
       "<td>3073</td>\n",
       "<td>3</td>\n",
       "<td>0.01932367149758454</td>\n",
       "<td>0.5714285714285714</td>\n",
       "<td>0.037383177570093455</td>\n",
       "<td>188</td>\n",
       "<td>203</td>\n",
       "<td>3082</td>\n",
       "<td>7</td>\n",
       "<td>0.48081841432225064</td>\n",
       "<td>0.9641025641025641</td>\n",
       "<td>0.6416382252559727</td></tr><tr><td>864691135491233631</td>\n",
       "<td>864691136378815445</td>\n",
       "<td>67</td>\n",
       "<td>1</td>\n",
       "<td>1</td>\n",
       "<td>4</td>\n",
       "<td>0.9852941176470589</td>\n",
       "<td>0.9436619718309859</td>\n",
       "<td>0.9640287769784172</td>\n",
       "<td>1</td>\n",
       "<td>73</td>\n",
       "<td>677</td>\n",
       "<td>4</td>\n",
       "<td>0.013513513513513514</td>\n",
       "<td>0.2</td>\n",
       "<td>0.02531645569620253</td>\n",
       "<td>68</td>\n",
       "<td>74</td>\n",
       "<td>678</td>\n",
       "<td>8</td>\n",
       "<td>0.4788732394366197</td>\n",
       "<td>0.8947368421052632</td>\n",
       "<td>0.6238532110091743</td></tr><tr><td>864691135501578306</td>\n",
       "<td>864691135888577417</td>\n",
       "<td>0</td>\n",
       "<td>0</td>\n",
       "<td>7</td>\n",
       "<td>8</td>\n",
       "<td>nan</td>\n",
       "<td>0.0</td>\n",
       "<td>nan</td>\n",
       "<td>1</td>\n",
       "<td>11</td>\n",
       "<td>2751</td>\n",
       "<td>5</td>\n",
       "<td>0.08333333333333333</td>\n",
       "<td>0.16666666666666666</td>\n",
       "<td>0.1111111111111111</td>\n",
       "<td>1</td>\n",
       "<td>11</td>\n",
       "<td>2758</td>\n",
       "<td>13</td>\n",
       "<td>0.08333333333333333</td>\n",
       "<td>0.07142857142857142</td>\n",
       "<td>0.07692307692307691</td> </tr> </tbody>\n",
       "            </table>\n",
       "            <p>...</p>\n",
       "            <p>Total: 57</p></div>\n",
       "            "
      ],
      "text/plain": [
       "*segment_id    new_segment_id true_positive_ false_positive true_negative_ false_negative precision_pres recall_presyn  f1_presyn      true_positive_ false_positive true_negative_ false_negative precision_post recall_postsyn f1_postsyn     true_positive_ false_positive true_negative_ false_negative precision_tota recall_total   f1_total      \n",
       "+------------+ +------------+ +------------+ +------------+ +------------+ +------------+ +------------+ +------------+ +------------+ +------------+ +------------+ +------------+ +------------+ +------------+ +------------+ +------------+ +------------+ +------------+ +------------+ +------------+ +------------+ +------------+ +------------+\n",
       "86469113498838 86469113527826 35             0              8              11             1.0            0.760869565217 0.864197530864 0              0              1861           9              nan            0.0            nan            35             0              1869           20             1.0            0.636363636363 0.777777777777\n",
       "86469113511316 86469113536705 78             2              14             18             0.975          0.8125         0.886363636363 5              156            2032           4              0.031055900621 0.555555555555 0.058823529411 83             158            2046           22             0.344398340248 0.790476190476 0.479768786127\n",
       "86469113521263 86469113544667 254            2              14             15             0.9921875      0.944237918215 0.967619047619 7              9              3335           3              0.4375         0.7            0.538461538461 261            11             3349           18             0.959558823529 0.935483870967 0.947368421052\n",
       "86469113521269 86469113577590 0              0              16             1              nan            0.0            nan            0              0              2334           1              nan            0.0            nan            0              0              2350           2              nan            0.0            nan           \n",
       "86469113523310 86469113602388 0              0              3              1              nan            0.0            nan            0              0              730            2              nan            0.0            nan            0              0              733            3              nan            0.0            nan           \n",
       "86469113527216 86469113619429 61             0              20             9              1.0            0.871428571428 0.931297709923 0              11             5636           18             0.0            0.0            nan            61             11             5656           27             0.847222222222 0.693181818181 0.762500000000\n",
       "86469113534827 86469113614356 342            0              12             5              1.0            0.985590778097 0.992743105950 4              31             5967           20             0.114285714285 0.166666666666 0.135593220338 346            31             5979           25             0.917771883289 0.932614555256 0.925133689839\n",
       "86469113538294 86469113559365 13             0              9              0              1.0            1.0            1.0            1              34             2591           0              0.028571428571 1.0            0.055555555555 14             34             2600           0              0.291666666666 1.0            0.451612903225\n",
       "86469113539396 86469113701959 133            0              14             68             1.0            0.661691542288 0.796407185628 11             0              1592           96             1.0            0.102803738317 0.186440677966 144            0              1606           164            1.0            0.467532467532 0.637168141592\n",
       "86469113540728 86469113584803 184            0              9              4              1.0            0.978723404255 0.989247311827 4              203            3073           3              0.019323671497 0.571428571428 0.037383177570 188            203            3082           7              0.480818414322 0.964102564102 0.641638225255\n",
       "86469113549123 86469113637881 67             1              1              4              0.985294117647 0.943661971830 0.964028776978 1              73             677            4              0.013513513513 0.2            0.025316455696 68             74             678            8              0.478873239436 0.894736842105 0.623853211009\n",
       "86469113550157 86469113588857 0              0              7              8              nan            0.0            nan            1              11             2751           5              0.083333333333 0.166666666666 0.111111111111 1              11             2758           13             0.083333333333 0.071428571428 0.076923076923\n",
       "   ...\n",
       " (Total: 57)"
      ]
     },
     "execution_count": 12,
     "metadata": {},
     "output_type": "execute_result"
    }
   ],
   "source": [
    "minnie.ManualProofreadValidationStats()"
   ]
  },
  {
   "cell_type": "markdown",
   "metadata": {},
   "source": [
    "# Computing the Stats"
   ]
  },
  {
   "cell_type": "code",
   "execution_count": 4,
   "metadata": {},
   "outputs": [],
   "source": [
    "import statistics_utils as st_u"
   ]
  },
  {
   "cell_type": "code",
   "execution_count": 5,
   "metadata": {},
   "outputs": [
    {
     "data": {
      "text/plain": [
       "{'type': 'presyn and postsyn',\n",
       " 'precision': 0.5836415947390053,\n",
       " 'recall': 0.7924107142857143,\n",
       " 'f1': 0.6721893491124261}"
      ]
     },
     "execution_count": 5,
     "metadata": {},
     "output_type": "execute_result"
    }
   ],
   "source": [
    "TP,FP,FN = minnie.ManualProofreadValidationStats.fetch(\"true_positive_total\",\"false_positive_total\",\"false_negative_total\")\n",
    "total_dict = dict(type=\"presyn and postsyn\")\n",
    "total_stats = st_u.calculate_scores(TP = np.sum(TP),FP = np.sum(FP),FN = np.sum(FN))\n",
    "total_dict.update(total_stats)\n",
    "total_dict"
   ]
  },
  {
   "cell_type": "code",
   "execution_count": 17,
   "metadata": {},
   "outputs": [
    {
     "data": {
      "text/plain": [
       "(3374, 3808)"
      ]
     },
     "execution_count": 17,
     "metadata": {},
     "output_type": "execute_result"
    }
   ],
   "source": [
    "np.sum(TP_pre), np.sum(TP_pre) + np.sum(FN_pre)"
   ]
  },
  {
   "cell_type": "code",
   "execution_count": 13,
   "metadata": {},
   "outputs": [
    {
     "data": {
      "text/plain": [
       "{'type': 'presyn',\n",
       " 'precision': 0.9759907434191496,\n",
       " 'recall': 0.8860294117647058,\n",
       " 'f1': 0.9288368891947695}"
      ]
     },
     "execution_count": 13,
     "metadata": {},
     "output_type": "execute_result"
    }
   ],
   "source": [
    "TP_pre,FP_pre,FN_pre = minnie.ManualProofreadValidationStats.fetch(\"true_positive_presyn\",\"false_positive_presyn\",\"false_negative_presyn\")\n",
    "presyn_dict = dict(type=\"presyn\")\n",
    "presyn_stats = st_u.calculate_scores(TP = np.sum(TP_pre),FP = np.sum(FP_pre),FN = np.sum(FN_pre))\n",
    "presyn_dict.update(presyn_stats)\n",
    "presyn_dict"
   ]
  },
  {
   "cell_type": "code",
   "execution_count": 7,
   "metadata": {},
   "outputs": [
    {
     "data": {
      "text/plain": [
       "{'type': 'postsyn',\n",
       " 'precision': 0.042735042735042736,\n",
       " 'recall': 0.17716535433070865,\n",
       " 'f1': 0.06885998469778118}"
      ]
     },
     "execution_count": 7,
     "metadata": {},
     "output_type": "execute_result"
    }
   ],
   "source": [
    "TP_post,FP_post,FN_post = minnie.ManualProofreadValidationStats.fetch(\"true_positive_postsyn\",\"false_positive_postsyn\",\"false_negative_postsyn\")\n",
    "postsyn_dict = dict(type=\"postsyn\")\n",
    "postsyn_stats = st_u.calculate_scores(TP = np.sum(TP_post),FP = np.sum(FP_post),FN = np.sum(FN_post))\n",
    "postsyn_dict.update(postsyn_stats)\n",
    "postsyn_dict"
   ]
  },
  {
   "cell_type": "markdown",
   "metadata": {},
   "source": [
    "# Putting the Results in a Nice Table"
   ]
  },
  {
   "cell_type": "code",
   "execution_count": null,
   "metadata": {},
   "outputs": [],
   "source": [
    "import pandas as pd"
   ]
  },
  {
   "cell_type": "code",
   "execution_count": null,
   "metadata": {},
   "outputs": [],
   "source": [
    "df = pd.DataFrame()"
   ]
  },
  {
   "cell_type": "code",
   "execution_count": null,
   "metadata": {},
   "outputs": [],
   "source": [
    "new_dic = df.append([presyn_dict,postsyn_dict,total_dict],ignore_index=True)\n",
    "new_dic"
   ]
  },
  {
   "cell_type": "code",
   "execution_count": null,
   "metadata": {},
   "outputs": [],
   "source": [
    "filtered_columns  = new_dic[[\"precision\",\"recall\",\"f1\"]]#\n",
    "accuracies = filtered_columns.to_numpy()\n",
    "accuracies"
   ]
  },
  {
   "cell_type": "code",
   "execution_count": null,
   "metadata": {},
   "outputs": [],
   "source": [
    "import matplotlib.pyplot as plt\n",
    "import matplotlib\n",
    "\n",
    "#setting the text size\n",
    "matplotlib.rcParams.update({'font.size': 17})\n",
    "\n",
    "\n",
    "cm = accuracies\n",
    "normalize = True\n",
    "cmap=plt.cm.Blues\n",
    "#now graph the results for all the categories\n",
    "title = \"Autoproofreading Validation\"\n",
    "\n",
    "fig, ax = plt.subplots()\n",
    "im = ax.imshow(accuracies, interpolation='nearest', cmap=cmap)\n",
    "ax.figure.colorbar(im, ax=ax)\n",
    "\n",
    "ax.set(xticks=np.arange(accuracies.shape[1]),\n",
    "       yticks=np.arange(accuracies.shape[0]),\n",
    "       # ... and label them with the respective list entries\n",
    "       xticklabels=[\"Inputs\",\"Outputs\",\"Both\"], yticklabels=[\"precision\",\"recall\",\"f1\"],\n",
    "       title=title,\n",
    "       ylabel='Statistics',\n",
    "       xlabel='Type')\n",
    "\n",
    "# Rotate the tick labels and set their alignment.\n",
    "plt.setp(ax.get_xticklabels(), rotation=45, ha=\"right\",\n",
    "         rotation_mode=\"anchor\")\n",
    "\n",
    "# Loop over data dimensions and create text annotations.\n",
    "fmt = '.2f' if normalize else 'd'\n",
    "thresh = np.nanmax(cm) / 2.\n",
    "thresh = 0.6\n",
    "#print(\"threshold = \" + str(thresh))\n",
    "for i in range(cm.shape[0]):\n",
    "    for j in range(cm.shape[1]):\n",
    "        #print(\"cm[i,j] = \" + str(cm[i,j]))\n",
    "        ax.text(j, i, format(cm[i, j], fmt),\n",
    "                ha=\"center\", va=\"center\",\n",
    "                color=\"white\" if cm[i, j] > thresh else \"black\",\n",
    "               fontsize=20)\n",
    "fig.tight_layout()\n",
    "\n",
    "fig.set_size_inches(20, 12)\n",
    "ax.grid(False)"
   ]
  },
  {
   "cell_type": "markdown",
   "metadata": {},
   "source": [
    "# Computing the Precision and Recall for everyone"
   ]
  },
  {
   "cell_type": "code",
   "execution_count": null,
   "metadata": {},
   "outputs": [],
   "source": [
    "minnie.ValidationStats()"
   ]
  },
  {
   "cell_type": "code",
   "execution_count": null,
   "metadata": {},
   "outputs": [],
   "source": [
    "filtered_table = (minnie.ValidationStats() & \"recall_presyn > 0\" & \"recall_postsyn > 0\" & \"recall_total > 0\")\n",
    "filtered_table"
   ]
  },
  {
   "cell_type": "code",
   "execution_count": null,
   "metadata": {},
   "outputs": [],
   "source": [
    "\"\"\"\n",
    "Pseudocode: \n",
    "1) Get the precision and recall for all of the neurons \n",
    "2) Filter away those that are Nan\n",
    "3) Plot the precision and recall distribution\n",
    "4) Get the median precision and recall\n",
    "\"\"\""
   ]
  },
  {
   "cell_type": "code",
   "execution_count": null,
   "metadata": {},
   "outputs": [],
   "source": [
    "#1) Get the precision and recall for all of the neurons \n",
    "(precision_presyn,precision_postsyn,precision_total,\n",
    " recall_presyn,recall_postsyn,recall_total) = filtered_table.fetch(\"precision_presyn\",\"precision_postsyn\",\"precision_total\",\n",
    "                                                                  \"recall_presyn\",\"recall_postsyn\",\"recall_total\")"
   ]
  },
  {
   "cell_type": "code",
   "execution_count": null,
   "metadata": {},
   "outputs": [],
   "source": [
    "precision_dicts = [dict(stat=\"precision\",inputs=pre,ouptuts=post,both=b) for pre,post,b in zip(precision_presyn,precision_postsyn,precision_total)]\n",
    "recall_dicts = [dict(stat=\"recall\",inputs=pre,ouptuts=post,both=b) for pre,post,b in zip(recall_presyn,recall_postsyn,recall_total)]\n",
    "total_dicts=  precision_dicts + recall_dicts"
   ]
  },
  {
   "cell_type": "code",
   "execution_count": null,
   "metadata": {},
   "outputs": [],
   "source": [
    "input_info = [precision_presyn,recall_presyn]\n",
    "output_info = [precision_postsyn,recall_postsyn]\n",
    "both_info = [precision_total,recall_total]\n",
    "total_info = [input_info,output_info,both_info]\n",
    "\n",
    "info_name = [\"input\",\"output\",\"both\"]\n",
    "\n",
    "revised_dicts= []\n",
    "for i_name,(prec,rec) in zip(info_name,total_info):\n",
    "    for p,r in zip(prec,rec):\n",
    "        revised_dicts.append({\"Type\":i_name,\"Precision\":p,\"Recall\":r})\n",
    "revised_dicts"
   ]
  },
  {
   "cell_type": "markdown",
   "metadata": {},
   "source": [
    "# Plotting the Precisions"
   ]
  },
  {
   "cell_type": "code",
   "execution_count": null,
   "metadata": {},
   "outputs": [],
   "source": [
    "import seaborn as sns\n",
    "import pandas as pd"
   ]
  },
  {
   "cell_type": "markdown",
   "metadata": {},
   "source": [
    "# create a dataframe to pass to it"
   ]
  },
  {
   "cell_type": "code",
   "execution_count": null,
   "metadata": {},
   "outputs": [],
   "source": [
    "df = pd.DataFrame()\n",
    "new_dict = df.append(revised_dicts)\n",
    "new_dict"
   ]
  },
  {
   "cell_type": "code",
   "execution_count": null,
   "metadata": {},
   "outputs": [],
   "source": [
    "plt.figure(figsize=(20,20))\n",
    "sns.set(rc={'figure.figsize':(20,8.27)})\n",
    "\n",
    "g = sns.FacetGrid(new_dict, col=\"Type\")\n",
    "g.map(sns.scatterplot, \"Precision\", \"Recall\", alpha=.7)\n",
    "g.add_legend()\n",
    "\n",
    "plt.show()"
   ]
  },
  {
   "cell_type": "code",
   "execution_count": null,
   "metadata": {},
   "outputs": [],
   "source": [
    "collapsed_df = new_dict.groupby(\"Type\").median()"
   ]
  },
  {
   "cell_type": "code",
   "execution_count": null,
   "metadata": {},
   "outputs": [],
   "source": [
    "reordered_medians = collapsed_df.iloc[[1,2,0]]\n",
    "median_accuracies = reordered_medians.to_numpy()\n",
    "median_accuracies.T"
   ]
  },
  {
   "cell_type": "code",
   "execution_count": null,
   "metadata": {},
   "outputs": [],
   "source": [
    "median_accuracies.T"
   ]
  },
  {
   "cell_type": "code",
   "execution_count": null,
   "metadata": {},
   "outputs": [],
   "source": [
    "import matplotlib.pyplot as plt\n",
    "import matplotlib\n",
    "\n",
    "#setting the text size\n",
    "\n",
    "\n",
    "accuracies = median_accuracies.T\n",
    "cm = accuracies\n",
    "normalize = True\n",
    "cmap=plt.cm.Blues\n",
    "#now graph the results for all the categories\n",
    "title = \"Autoproofreading Validation\"\n",
    "\n",
    "fig, ax = plt.subplots()\n",
    "im = ax.imshow(accuracies, interpolation='nearest', cmap=cmap)\n",
    "ax.figure.colorbar(im, ax=ax)\n",
    "\n",
    "ax.set(xticks=np.arange(accuracies.shape[1]),\n",
    "       yticks=np.arange(accuracies.shape[0]),\n",
    "       # ... and label them with the respective list entries\n",
    "       xticklabels=[\"Inputs\",\"Outputs\",\"Both\"], yticklabels=[\"precision\",\"recall\"],\n",
    "       title=title,\n",
    "       ylabel='Statistics (Median)',\n",
    "       xlabel='Type')\n",
    "\n",
    "# Rotate the tick labels and set their alignment.\n",
    "plt.setp(ax.get_xticklabels(), rotation=45, ha=\"right\",\n",
    "         rotation_mode=\"anchor\")\n",
    "\n",
    "# Loop over data dimensions and create text annotations.\n",
    "fmt = '.2f' if normalize else 'd'\n",
    "thresh = np.nanmax(cm) / 2.\n",
    "thresh = 0.6\n",
    "#print(\"threshold = \" + str(thresh))\n",
    "for i in range(cm.shape[0]):\n",
    "    for j in range(cm.shape[1]):\n",
    "        #print(\"cm[i,j] = \" + str(cm[i,j]))\n",
    "        ax.text(j, i, format(cm[i, j], fmt),\n",
    "                ha=\"center\", va=\"center\",\n",
    "                color=\"white\" if cm[i, j] > thresh else \"black\",\n",
    "               fontsize=15)\n",
    "fig.tight_layout()\n",
    "plt.rcParams.update({'font.size': 2})\n",
    "fig.set_size_inches(7, 4)\n",
    "ax.grid(False)"
   ]
  },
  {
   "cell_type": "markdown",
   "metadata": {},
   "source": [
    "# Histogram of Per Neuron what we are removing"
   ]
  },
  {
   "cell_type": "code",
   "execution_count": null,
   "metadata": {},
   "outputs": [],
   "source": [
    "n_errored_synapses = (minnie.AutoProofreadLabels & \"n_synapses>0\").fetch(\"n_errored_synapses\")"
   ]
  },
  {
   "cell_type": "code",
   "execution_count": null,
   "metadata": {},
   "outputs": [],
   "source": [
    "np.max(n_errored_synapses)"
   ]
  },
  {
   "cell_type": "code",
   "execution_count": null,
   "metadata": {},
   "outputs": [],
   "source": [
    "import matplotlib.pyplot as plt\n",
    "fig,ax = plt.subplots(1,1)\n",
    "ax.hist(n_errored_synapses,bins=1000,density=False)\n",
    "ax.set_title(\"Number of Synapses Removed Per Neuron \\n (Synapses Restricted to Direct Connection Matrix)\")\n",
    "ax.set_xlabel(\"Number of Synapses Removed\")\n",
    "ax.set_ylabel(\"Counts\")\n",
    "\n",
    "# ax.set_yscale(\"log\")\n",
    "#ax.set_xscale(\"log\")\n",
    "plt.show()"
   ]
  },
  {
   "cell_type": "code",
   "execution_count": null,
   "metadata": {},
   "outputs": [],
   "source": []
  }
 ],
 "metadata": {
  "kernelspec": {
   "display_name": "Python 3",
   "language": "python",
   "name": "python3"
  },
  "language_info": {
   "codemirror_mode": {
    "name": "ipython",
    "version": 3
   },
   "file_extension": ".py",
   "mimetype": "text/x-python",
   "name": "python",
   "nbconvert_exporter": "python",
   "pygments_lexer": "ipython3",
   "version": "3.6.9"
  }
 },
 "nbformat": 4,
 "nbformat_minor": 4
}
