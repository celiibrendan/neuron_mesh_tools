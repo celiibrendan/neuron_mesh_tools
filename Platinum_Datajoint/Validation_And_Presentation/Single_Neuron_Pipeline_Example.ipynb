{
 "cells": [
  {
   "cell_type": "code",
   "execution_count": null,
   "metadata": {},
   "outputs": [],
   "source": [
    "\"\"\"\n",
    "Purpose: Grab Screenshots of an example Neuron going through the pipeline\n",
    "\n",
    "\n",
    "\n",
    "\n",
    "\"\"\""
   ]
  },
  {
   "cell_type": "code",
   "execution_count": 1,
   "metadata": {},
   "outputs": [],
   "source": [
    "from os import sys\n",
    "sys.path.append(\"/meshAfterParty/\")"
   ]
  },
  {
   "cell_type": "code",
   "execution_count": 2,
   "metadata": {},
   "outputs": [
    {
     "name": "stderr",
     "output_type": "stream",
     "text": [
      "INFO - 2020-11-30 17:59:22,770 - settings - Setting database.host to at-database.ad.bcm.edu\n",
      "INFO - 2020-11-30 17:59:22,771 - settings - Setting database.user to celiib\n",
      "INFO - 2020-11-30 17:59:22,772 - settings - Setting database.password to newceliipass\n",
      "INFO - 2020-11-30 17:59:22,776 - settings - Setting stores to {'minnie65': {'protocol': 'file', 'location': '/mnt/dj-stor01/platinum/minnie65', 'stage': '/mnt/dj-stor01/platinum/minnie65'}, 'meshes': {'protocol': 'file', 'location': '/mnt/dj-stor01/platinum/minnie65/02/meshes', 'stage': '/mnt/dj-stor01/platinum/minnie65/02/meshes'}, 'decimated_meshes': {'protocol': 'file', 'location': '/mnt/dj-stor01/platinum/minnie65/02/decimated_meshes', 'stage': '/mnt/dj-stor01/platinum/minnie65/02/decimated_meshes'}, 'skeletons': {'protocol': 'file', 'location': '/mnt/dj-stor01/platinum/minnie65/02/skeletons'}}\n",
      "INFO - 2020-11-30 17:59:22,777 - settings - Setting enable_python_native_blobs to True\n",
      "INFO - 2020-11-30 17:59:22,789 - connection - Connected celiib@at-database.ad.bcm.edu:3306\n"
     ]
    },
    {
     "name": "stdout",
     "output_type": "stream",
     "text": [
      "Connecting celiib@at-database.ad.bcm.edu:3306\n"
     ]
    },
    {
     "name": "stderr",
     "output_type": "stream",
     "text": [
      "INFO - 2020-11-30 17:59:22,986 - settings - Setting enable_python_native_blobs to True\n"
     ]
    }
   ],
   "source": [
    "from importlib import reload\n",
    "\n",
    "import neuron_utils as nru\n",
    "\n",
    "import neuron\n",
    "\n",
    "import neuron_visualizations as nviz\n",
    "\n",
    "import time\n",
    "\n",
    "import datajoint_utils as du\n",
    "\n",
    "import time"
   ]
  },
  {
   "cell_type": "code",
   "execution_count": 3,
   "metadata": {},
   "outputs": [
    {
     "name": "stderr",
     "output_type": "stream",
     "text": [
      "INFO - 2020-11-30 18:08:42,409 - settings - Setting enable_python_native_blobs to True\n",
      "INFO - 2020-11-30 18:08:42,676 - settings - Setting enable_python_native_blobs to True\n"
     ]
    }
   ],
   "source": [
    "minnie,schema = du.configure_minnie_vm()"
   ]
  },
  {
   "cell_type": "code",
   "execution_count": 18,
   "metadata": {},
   "outputs": [
    {
     "data": {
      "text/html": [
       "\n",
       "        \n",
       "        <style type=\"text/css\">\n",
       "            .Relation{\n",
       "                border-collapse:collapse;\n",
       "            }\n",
       "            .Relation th{\n",
       "                background: #A0A0A0; color: #ffffff; padding:4px; border:#f0e0e0 1px solid;\n",
       "                font-weight: normal; font-family: monospace; font-size: 100%;\n",
       "            }\n",
       "            .Relation td{\n",
       "                padding:4px; border:#f0e0e0 1px solid; font-size:100%;\n",
       "            }\n",
       "            .Relation tr:nth-child(odd){\n",
       "                background: #ffffff;\n",
       "            }\n",
       "            .Relation tr:nth-child(even){\n",
       "                background: #f3f1ff;\n",
       "            }\n",
       "            /* Tooltip container */\n",
       "            .djtooltip {\n",
       "            }\n",
       "            /* Tooltip text */\n",
       "            .djtooltip .djtooltiptext {\n",
       "                visibility: hidden;\n",
       "                width: 120px;\n",
       "                background-color: black;\n",
       "                color: #fff;\n",
       "                text-align: center;\n",
       "                padding: 5px 0;\n",
       "                border-radius: 6px;\n",
       "                /* Position the tooltip text - see examples below! */\n",
       "                position: absolute;\n",
       "                z-index: 1;\n",
       "            }\n",
       "            #primary {\n",
       "                font-weight: bold;\n",
       "                color: black;\n",
       "            }\n",
       "\n",
       "            #nonprimary {\n",
       "                font-weight: normal;\n",
       "                color: white;\n",
       "            }\n",
       "\n",
       "            /* Show the tooltip text when you mouse over the tooltip container */\n",
       "            .djtooltip:hover .djtooltiptext {\n",
       "                visibility: visible;\n",
       "            }\n",
       "        </style>\n",
       "        \n",
       "        <b></b>\n",
       "            <div style=\"max-height:1000px;max-width:1500px;overflow:auto;\">\n",
       "            <table border=\"1\" class=\"Relation\">\n",
       "                <thead> <tr style=\"text-align: right;\"> <th> <div class=\"djtooltip\">\n",
       "                                <p id=\"primary\">segment_id</p>\n",
       "                                <span class=\"djtooltiptext\">segment id unique within each Segmentation</span>\n",
       "                            </div></th><th><div class=\"djtooltip\">\n",
       "                                <p id=\"primary\">decimation_version</p>\n",
       "                                <span class=\"djtooltiptext\"></span>\n",
       "                            </div></th><th><div class=\"djtooltip\">\n",
       "                                <p id=\"primary\">decimation_ratio</p>\n",
       "                                <span class=\"djtooltiptext\">ratio of remaining mesh vertices/faces (which ones depends on what metric the decimation technique uses)</span>\n",
       "                            </div></th><th><div class=\"djtooltip\">\n",
       "                                <p id=\"nonprimary\">decomposition</p>\n",
       "                                <span class=\"djtooltiptext\"></span>\n",
       "                            </div></th><th><div class=\"djtooltip\">\n",
       "                                <p id=\"nonprimary\">n_vertices</p>\n",
       "                                <span class=\"djtooltiptext\">number of vertices</span>\n",
       "                            </div></th><th><div class=\"djtooltip\">\n",
       "                                <p id=\"nonprimary\">n_faces</p>\n",
       "                                <span class=\"djtooltiptext\">number of faces</span>\n",
       "                            </div></th><th><div class=\"djtooltip\">\n",
       "                                <p id=\"nonprimary\">n_error_limbs</p>\n",
       "                                <span class=\"djtooltiptext\">the number of limbs that are touching multiple somas or 1 soma in multiple places</span>\n",
       "                            </div></th><th><div class=\"djtooltip\">\n",
       "                                <p id=\"nonprimary\">n_same_soma_multi_touching_limbs</p>\n",
       "                                <span class=\"djtooltiptext\">number of limbs that touch the same soma multiple times</span>\n",
       "                            </div></th><th><div class=\"djtooltip\">\n",
       "                                <p id=\"nonprimary\">n_multi_soma_touching_limbs</p>\n",
       "                                <span class=\"djtooltiptext\">number of limbs that touch multiple somas</span>\n",
       "                            </div></th><th><div class=\"djtooltip\">\n",
       "                                <p id=\"nonprimary\">n_somas</p>\n",
       "                                <span class=\"djtooltiptext\">number of soma meshes detected</span>\n",
       "                            </div></th><th><div class=\"djtooltip\">\n",
       "                                <p id=\"nonprimary\">n_limbs</p>\n",
       "                                <span class=\"djtooltiptext\"></span>\n",
       "                            </div></th><th><div class=\"djtooltip\">\n",
       "                                <p id=\"nonprimary\">n_branches</p>\n",
       "                                <span class=\"djtooltiptext\"></span>\n",
       "                            </div></th><th><div class=\"djtooltip\">\n",
       "                                <p id=\"nonprimary\">max_limb_n_branches</p>\n",
       "                                <span class=\"djtooltiptext\"></span>\n",
       "                            </div></th><th><div class=\"djtooltip\">\n",
       "                                <p id=\"nonprimary\">skeletal_length</p>\n",
       "                                <span class=\"djtooltiptext\"></span>\n",
       "                            </div></th><th><div class=\"djtooltip\">\n",
       "                                <p id=\"nonprimary\">max_limb_skeletal_length</p>\n",
       "                                <span class=\"djtooltiptext\"></span>\n",
       "                            </div></th><th><div class=\"djtooltip\">\n",
       "                                <p id=\"nonprimary\">median_branch_length</p>\n",
       "                                <span class=\"djtooltiptext\">gives information on average skeletal length to next branch point</span>\n",
       "                            </div></th><th><div class=\"djtooltip\">\n",
       "                                <p id=\"nonprimary\">width_median</p>\n",
       "                                <span class=\"djtooltiptext\">median width from mesh center without spines removed</span>\n",
       "                            </div></th><th><div class=\"djtooltip\">\n",
       "                                <p id=\"nonprimary\">width_no_spine_median</p>\n",
       "                                <span class=\"djtooltiptext\">median width from mesh center with spines removed</span>\n",
       "                            </div></th><th><div class=\"djtooltip\">\n",
       "                                <p id=\"nonprimary\">width_90_perc</p>\n",
       "                                <span class=\"djtooltiptext\">90th percentile for width without spines removed</span>\n",
       "                            </div></th><th><div class=\"djtooltip\">\n",
       "                                <p id=\"nonprimary\">width_no_spine_90_perc</p>\n",
       "                                <span class=\"djtooltiptext\">90th percentile for width with spines removed</span>\n",
       "                            </div></th><th><div class=\"djtooltip\">\n",
       "                                <p id=\"nonprimary\">n_spines</p>\n",
       "                                <span class=\"djtooltiptext\"></span>\n",
       "                            </div></th><th><div class=\"djtooltip\">\n",
       "                                <p id=\"nonprimary\">spine_density</p>\n",
       "                                <span class=\"djtooltiptext\">n_spines/ skeletal_length</span>\n",
       "                            </div></th><th><div class=\"djtooltip\">\n",
       "                                <p id=\"nonprimary\">spines_per_branch</p>\n",
       "                                <span class=\"djtooltiptext\"></span>\n",
       "                            </div></th><th><div class=\"djtooltip\">\n",
       "                                <p id=\"nonprimary\">skeletal_length_eligible</p>\n",
       "                                <span class=\"djtooltiptext\">the skeletal length for all branches searched for spines</span>\n",
       "                            </div></th><th><div class=\"djtooltip\">\n",
       "                                <p id=\"nonprimary\">n_spine_eligible_branches</p>\n",
       "                                <span class=\"djtooltiptext\">the number of branches that were checked for spines because passed width threshold</span>\n",
       "                            </div></th><th><div class=\"djtooltip\">\n",
       "                                <p id=\"nonprimary\">spine_density_eligible</p>\n",
       "                                <span class=\"djtooltiptext\">n_spines/skeletal_length_eligible</span>\n",
       "                            </div></th><th><div class=\"djtooltip\">\n",
       "                                <p id=\"nonprimary\">spines_per_branch_eligible</p>\n",
       "                                <span class=\"djtooltiptext\">n_spines/n_spine_eligible_branches</span>\n",
       "                            </div></th><th><div class=\"djtooltip\">\n",
       "                                <p id=\"nonprimary\">total_spine_volume</p>\n",
       "                                <span class=\"djtooltiptext\">the sum of all spine volume</span>\n",
       "                            </div></th><th><div class=\"djtooltip\">\n",
       "                                <p id=\"nonprimary\">spine_volume_median</p>\n",
       "                                <span class=\"djtooltiptext\">median of the spine volume for those spines with able to calculate volume</span>\n",
       "                            </div></th><th><div class=\"djtooltip\">\n",
       "                                <p id=\"nonprimary\">spine_volume_density</p>\n",
       "                                <span class=\"djtooltiptext\">total_spine_volume/skeletal_length</span>\n",
       "                            </div></th><th><div class=\"djtooltip\">\n",
       "                                <p id=\"nonprimary\">spine_volume_density_eligible</p>\n",
       "                                <span class=\"djtooltiptext\">total_spine_volume/skeletal_length_eligible</span>\n",
       "                            </div></th><th><div class=\"djtooltip\">\n",
       "                                <p id=\"nonprimary\">spine_volume_per_branch_eligible</p>\n",
       "                                <span class=\"djtooltiptext\">total_spine_volume/n_spine_eligible_branches</span>\n",
       "                            </div></th><th><div class=\"djtooltip\">\n",
       "                                <p id=\"nonprimary\">run_time</p>\n",
       "                                <span class=\"djtooltiptext\">the amount of time to run (seconds)</span>\n",
       "                            </div> </th> </tr> </thead>\n",
       "                <tbody> <tr> <td>864691134884740858</td>\n",
       "<td>0</td>\n",
       "<td>0.25</td>\n",
       "<td>=BLOB=</td>\n",
       "<td>581524</td>\n",
       "<td>1173901</td>\n",
       "<td>0</td>\n",
       "<td>0</td>\n",
       "<td>0</td>\n",
       "<td>1</td>\n",
       "<td>9</td>\n",
       "<td>396</td>\n",
       "<td>182</td>\n",
       "<td>9105762.417662341</td>\n",
       "<td>4417913.111483511</td>\n",
       "<td>14003.905</td>\n",
       "<td>75.417</td>\n",
       "<td>75.417</td>\n",
       "<td>362.451</td>\n",
       "<td>321.41</td>\n",
       "<td>1506</td>\n",
       "<td>0.00016538977527887498</td>\n",
       "<td>3.803030303030303</td>\n",
       "<td>3333922.996</td>\n",
       "<td>110</td>\n",
       "<td>nan</td>\n",
       "<td>nan</td>\n",
       "<td>65843283280.180756</td>\n",
       "<td>25258010.27633667</td>\n",
       "<td>7230.946763168926</td>\n",
       "<td>19749.491322738624</td>\n",
       "<td>598575302.5470978</td>\n",
       "<td>1069.7304</td></tr><tr><td>864691134884741370</td>\n",
       "<td>0</td>\n",
       "<td>0.25</td>\n",
       "<td>=BLOB=</td>\n",
       "<td>380482</td>\n",
       "<td>782797</td>\n",
       "<td>0</td>\n",
       "<td>0</td>\n",
       "<td>0</td>\n",
       "<td>1</td>\n",
       "<td>9</td>\n",
       "<td>272</td>\n",
       "<td>202</td>\n",
       "<td>5447324.215061565</td>\n",
       "<td>3642525.6251928546</td>\n",
       "<td>9876.813</td>\n",
       "<td>79.649</td>\n",
       "<td>79.649</td>\n",
       "<td>270.025</td>\n",
       "<td>257.602</td>\n",
       "<td>885</td>\n",
       "<td>0.00016246508653790454</td>\n",
       "<td>3.2536764705882355</td>\n",
       "<td>2309022.528</td>\n",
       "<td>72</td>\n",
       "<td>nan</td>\n",
       "<td>nan</td>\n",
       "<td>68769148892.91443</td>\n",
       "<td>46189481.963336304</td>\n",
       "<td>12624.39065087614</td>\n",
       "<td>29782.796858409183</td>\n",
       "<td>955127067.9571449</td>\n",
       "<td>553.3898</td></tr><tr><td>864691134884741882</td>\n",
       "<td>0</td>\n",
       "<td>0.25</td>\n",
       "<td>=BLOB=</td>\n",
       "<td>843280</td>\n",
       "<td>1700959</td>\n",
       "<td>2</td>\n",
       "<td>2</td>\n",
       "<td>0</td>\n",
       "<td>1</td>\n",
       "<td>10</td>\n",
       "<td>583</td>\n",
       "<td>190</td>\n",
       "<td>9413167.750364104</td>\n",
       "<td>3368032.161881765</td>\n",
       "<td>7808.186</td>\n",
       "<td>114.566</td>\n",
       "<td>114.566</td>\n",
       "<td>435.79</td>\n",
       "<td>391.447</td>\n",
       "<td>3034</td>\n",
       "<td>0.00032231445146429523</td>\n",
       "<td>5.204116638078903</td>\n",
       "<td>4757150.4</td>\n",
       "<td>249</td>\n",
       "<td>nan</td>\n",
       "<td>nan</td>\n",
       "<td>191374383459.08017</td>\n",
       "<td>42245315.42166233</td>\n",
       "<td>20330.497504591665</td>\n",
       "<td>40228.78558960006</td>\n",
       "<td>768571821.120804</td>\n",
       "<td>4240.5491</td></tr><tr><td>864691134884744442</td>\n",
       "<td>0</td>\n",
       "<td>0.25</td>\n",
       "<td>=BLOB=</td>\n",
       "<td>2352657</td>\n",
       "<td>4719324</td>\n",
       "<td>0</td>\n",
       "<td>0</td>\n",
       "<td>0</td>\n",
       "<td>1</td>\n",
       "<td>14</td>\n",
       "<td>1910</td>\n",
       "<td>1218</td>\n",
       "<td>44202636.12452996</td>\n",
       "<td>29306464.2025164</td>\n",
       "<td>13814.875</td>\n",
       "<td>72.004</td>\n",
       "<td>72.004</td>\n",
       "<td>205.046</td>\n",
       "<td>205.046</td>\n",
       "<td>986</td>\n",
       "<td>2.2306361937830804e-05</td>\n",
       "<td>0.5162303664921466</td>\n",
       "<td>9562491.736</td>\n",
       "<td>322</td>\n",
       "<td>nan</td>\n",
       "<td>nan</td>\n",
       "<td>22582748683.265686</td>\n",
       "<td>10709847.398497581</td>\n",
       "<td>510.8914459229173</td>\n",
       "<td>2361.5966744575794</td>\n",
       "<td>70132759.88591827</td>\n",
       "<td>18359.3356</td></tr><tr><td>864691134884744698</td>\n",
       "<td>0</td>\n",
       "<td>0.25</td>\n",
       "<td>=BLOB=</td>\n",
       "<td>304543</td>\n",
       "<td>628181</td>\n",
       "<td>0</td>\n",
       "<td>0</td>\n",
       "<td>0</td>\n",
       "<td>1</td>\n",
       "<td>10</td>\n",
       "<td>70</td>\n",
       "<td>33</td>\n",
       "<td>2634200.0059194006</td>\n",
       "<td>885115.1823259087</td>\n",
       "<td>20120.099</td>\n",
       "<td>346.007</td>\n",
       "<td>289.963</td>\n",
       "<td>530.781</td>\n",
       "<td>486.643</td>\n",
       "<td>1337</td>\n",
       "<td>0.0005075544746016179</td>\n",
       "<td>19.1</td>\n",
       "<td>2512380.749</td>\n",
       "<td>55</td>\n",
       "<td>nan</td>\n",
       "<td>nan</td>\n",
       "<td>93846781256.14755</td>\n",
       "<td>46434873.98150507</td>\n",
       "<td>35626.29300936195</td>\n",
       "<td>37353.725661805554</td>\n",
       "<td>1706305113.7481372</td>\n",
       "<td>1212.3084</td></tr><tr><td>864691134884748026</td>\n",
       "<td>0</td>\n",
       "<td>0.25</td>\n",
       "<td>=BLOB=</td>\n",
       "<td>420027</td>\n",
       "<td>845933</td>\n",
       "<td>0</td>\n",
       "<td>0</td>\n",
       "<td>0</td>\n",
       "<td>1</td>\n",
       "<td>9</td>\n",
       "<td>126</td>\n",
       "<td>48</td>\n",
       "<td>4414544.210416046</td>\n",
       "<td>1294656.0293478586</td>\n",
       "<td>18646.872</td>\n",
       "<td>170.324</td>\n",
       "<td>170.324</td>\n",
       "<td>398.857</td>\n",
       "<td>349.585</td>\n",
       "<td>1827</td>\n",
       "<td>0.0004138592599637405</td>\n",
       "<td>14.5</td>\n",
       "<td>3133304.503</td>\n",
       "<td>66</td>\n",
       "<td>nan</td>\n",
       "<td>nan</td>\n",
       "<td>140957072770.01</td>\n",
       "<td>49417501.9646492</td>\n",
       "<td>31930.153159962487</td>\n",
       "<td>44986.71375062649</td>\n",
       "<td>2135713223.7880304</td>\n",
       "<td>2051.3084</td></tr><tr><td>864691134884749306</td>\n",
       "<td>0</td>\n",
       "<td>0.25</td>\n",
       "<td>=BLOB=</td>\n",
       "<td>128236</td>\n",
       "<td>263233</td>\n",
       "<td>0</td>\n",
       "<td>0</td>\n",
       "<td>0</td>\n",
       "<td>1</td>\n",
       "<td>11</td>\n",
       "<td>167</td>\n",
       "<td>92</td>\n",
       "<td>3010544.736947266</td>\n",
       "<td>2052506.8808528048</td>\n",
       "<td>11970.928</td>\n",
       "<td>70.242</td>\n",
       "<td>70.242</td>\n",
       "<td>133.924</td>\n",
       "<td>133.924</td>\n",
       "<td>0</td>\n",
       "<td>0.0</td>\n",
       "<td>0.0</td>\n",
       "<td>33131.555</td>\n",
       "<td>7</td>\n",
       "<td>nan</td>\n",
       "<td>nan</td>\n",
       "<td>0.0</td>\n",
       "<td>0.0</td>\n",
       "<td>0.0</td>\n",
       "<td>0.0</td>\n",
       "<td>0.0</td>\n",
       "<td>542.4385</td></tr><tr><td>864691134884749562</td>\n",
       "<td>0</td>\n",
       "<td>0.25</td>\n",
       "<td>=BLOB=</td>\n",
       "<td>601749</td>\n",
       "<td>1218939</td>\n",
       "<td>0</td>\n",
       "<td>0</td>\n",
       "<td>0</td>\n",
       "<td>1</td>\n",
       "<td>9</td>\n",
       "<td>278</td>\n",
       "<td>100</td>\n",
       "<td>9516993.070636472</td>\n",
       "<td>3679919.833727774</td>\n",
       "<td>20041.486</td>\n",
       "<td>77.39</td>\n",
       "<td>77.39</td>\n",
       "<td>341.087</td>\n",
       "<td>310.914</td>\n",
       "<td>1160</td>\n",
       "<td>0.0001218872380583148</td>\n",
       "<td>4.172661870503597</td>\n",
       "<td>2900033.012</td>\n",
       "<td>61</td>\n",
       "<td>nan</td>\n",
       "<td>nan</td>\n",
       "<td>58696439718.79427</td>\n",
       "<td>21521972.34665934</td>\n",
       "<td>6167.540449293278</td>\n",
       "<td>20239.921227074043</td>\n",
       "<td>962236716.7015455</td>\n",
       "<td>4487.8633</td></tr><tr><td>864691134884760058</td>\n",
       "<td>0</td>\n",
       "<td>0.25</td>\n",
       "<td>=BLOB=</td>\n",
       "<td>181318</td>\n",
       "<td>370262</td>\n",
       "<td>1</td>\n",
       "<td>1</td>\n",
       "<td>0</td>\n",
       "<td>1</td>\n",
       "<td>10</td>\n",
       "<td>284</td>\n",
       "<td>112</td>\n",
       "<td>4835596.345717485</td>\n",
       "<td>1568745.6778763249</td>\n",
       "<td>9952.937</td>\n",
       "<td>66.644</td>\n",
       "<td>66.644</td>\n",
       "<td>156.694</td>\n",
       "<td>156.694</td>\n",
       "<td>1</td>\n",
       "<td>2.0679972613628573e-07</td>\n",
       "<td>0.0035211267605633804</td>\n",
       "<td>22935.318</td>\n",
       "<td>11</td>\n",
       "<td>nan</td>\n",
       "<td>nan</td>\n",
       "<td>22127152.526163734</td>\n",
       "<td>22127152.526163734</td>\n",
       "<td>4.5758890825864835</td>\n",
       "<td>964.7632758422506</td>\n",
       "<td>2011559.3205603396</td>\n",
       "<td>878.1358</td></tr><tr><td>864691134884763642</td>\n",
       "<td>0</td>\n",
       "<td>0.25</td>\n",
       "<td>=BLOB=</td>\n",
       "<td>436830</td>\n",
       "<td>882644</td>\n",
       "<td>0</td>\n",
       "<td>0</td>\n",
       "<td>0</td>\n",
       "<td>1</td>\n",
       "<td>9</td>\n",
       "<td>165</td>\n",
       "<td>65</td>\n",
       "<td>4833443.620818519</td>\n",
       "<td>1486985.8652670854</td>\n",
       "<td>17436.806</td>\n",
       "<td>174.105</td>\n",
       "<td>174.105</td>\n",
       "<td>400.578</td>\n",
       "<td>344.568</td>\n",
       "<td>1990</td>\n",
       "<td>0.0004117147433826907</td>\n",
       "<td>12.06060606060606</td>\n",
       "<td>3689664.183</td>\n",
       "<td>102</td>\n",
       "<td>nan</td>\n",
       "<td>nan</td>\n",
       "<td>121066224254.18317</td>\n",
       "<td>40056124.56526271</td>\n",
       "<td>25047.612789508697</td>\n",
       "<td>32812.26102147496</td>\n",
       "<td>1186923767.197874</td>\n",
       "<td>887.9038</td></tr><tr><td>864691134884780538</td>\n",
       "<td>0</td>\n",
       "<td>0.25</td>\n",
       "<td>=BLOB=</td>\n",
       "<td>368083</td>\n",
       "<td>762245</td>\n",
       "<td>3</td>\n",
       "<td>3</td>\n",
       "<td>1</td>\n",
       "<td>2</td>\n",
       "<td>9</td>\n",
       "<td>179</td>\n",
       "<td>93</td>\n",
       "<td>2730823.88507292</td>\n",
       "<td>1300564.5666538128</td>\n",
       "<td>9463.896</td>\n",
       "<td>312.119</td>\n",
       "<td>283.262</td>\n",
       "<td>567.232</td>\n",
       "<td>561.396</td>\n",
       "<td>1267</td>\n",
       "<td>0.0004639625451225932</td>\n",
       "<td>7.078212290502793</td>\n",
       "<td>2091543.556</td>\n",
       "<td>118</td>\n",
       "<td>nan</td>\n",
       "<td>nan</td>\n",
       "<td>78258654703.78412</td>\n",
       "<td>36561888.533317566</td>\n",
       "<td>28657.52534667552</td>\n",
       "<td>37416.69853314024</td>\n",
       "<td>663208938.167662</td>\n",
       "<td>1482.0695</td></tr><tr><td>864691134884783098</td>\n",
       "<td>0</td>\n",
       "<td>0.25</td>\n",
       "<td>=BLOB=</td>\n",
       "<td>407401</td>\n",
       "<td>831027</td>\n",
       "<td>0</td>\n",
       "<td>0</td>\n",
       "<td>0</td>\n",
       "<td>1</td>\n",
       "<td>9</td>\n",
       "<td>162</td>\n",
       "<td>51</td>\n",
       "<td>4718456.326437999</td>\n",
       "<td>1608156.5974450386</td>\n",
       "<td>15698.018</td>\n",
       "<td>105.141</td>\n",
       "<td>105.141</td>\n",
       "<td>412.964</td>\n",
       "<td>391.639</td>\n",
       "<td>1777</td>\n",
       "<td>0.00037660621971708955</td>\n",
       "<td>10.969135802469136</td>\n",
       "<td>3028118.511</td>\n",
       "<td>76</td>\n",
       "<td>nan</td>\n",
       "<td>nan</td>\n",
       "<td>80638134713.19485</td>\n",
       "<td>28262658.36666107</td>\n",
       "<td>17089.939830823707</td>\n",
       "<td>26629.781635120045</td>\n",
       "<td>1061028088.3315113</td>\n",
       "<td>1805.1881</td> </tr> </tbody>\n",
       "            </table>\n",
       "            <p>...</p>\n",
       "            <p>Total: 4650</p></div>\n",
       "            "
      ],
      "text/plain": [
       "*segment_id    *decimation_ve *decimation_ra decomposit n_vertices     n_faces     n_error_limbs  n_same_soma_mu n_multi_soma_t n_somas     n_limbs     n_branches     max_limb_n_bra skeletal_lengt max_limb_skele median_branch_ width_median   width_no_spine width_90_perc  width_no_spine n_spines     spine_density  spines_per_bra skeletal_lengt n_spine_eligib spine_density_ spines_per_bra total_spine_vo spine_volume_m spine_volume_d spine_volume_d spine_volume_p run_time      \n",
       "+------------+ +------------+ +------------+ +--------+ +------------+ +---------+ +------------+ +------------+ +------------+ +---------+ +---------+ +------------+ +------------+ +------------+ +------------+ +------------+ +------------+ +------------+ +------------+ +------------+ +----------+ +------------+ +------------+ +------------+ +------------+ +------------+ +------------+ +------------+ +------------+ +------------+ +------------+ +------------+ +------------+\n",
       "86469113488474 0              0.25           =BLOB=     581524         1173901     0              0              0              1           9           396            182            9105762.417662 4417913.111483 14003.905      75.417         75.417         362.451        321.41         1506         0.000165389775 3.803030303030 3333922.996    110            nan            nan            65843283280.18 25258010.27633 7230.946763168 19749.49132273 598575302.5470 1069.7304     \n",
       "86469113488474 0              0.25           =BLOB=     380482         782797      0              0              0              1           9           272            202            5447324.215061 3642525.625192 9876.813       79.649         79.649         270.025        257.602        885          0.000162465086 3.253676470588 2309022.528    72             nan            nan            68769148892.91 46189481.96333 12624.39065087 29782.79685840 955127067.9571 553.3898      \n",
       "86469113488474 0              0.25           =BLOB=     843280         1700959     2              2              0              1           10          583            190            9413167.750364 3368032.161881 7808.186       114.566        114.566        435.79         391.447        3034         0.000322314451 5.204116638078 4757150.4      249            nan            nan            191374383459.0 42245315.42166 20330.49750459 40228.78558960 768571821.1208 4240.5491     \n",
       "86469113488474 0              0.25           =BLOB=     2352657        4719324     0              0              0              1           14          1910           1218           44202636.12452 29306464.20251 13814.875      72.004         72.004         205.046        205.046        986          2.230636193783 0.516230366492 9562491.736    322            nan            nan            22582748683.26 10709847.39849 510.8914459229 2361.596674457 70132759.88591 18359.3356    \n",
       "86469113488474 0              0.25           =BLOB=     304543         628181      0              0              0              1           10          70             33             2634200.005919 885115.1823259 20120.099      346.007        289.963        530.781        486.643        1337         0.000507554474 19.1           2512380.749    55             nan            nan            93846781256.14 46434873.98150 35626.29300936 37353.72566180 1706305113.748 1212.3084     \n",
       "86469113488474 0              0.25           =BLOB=     420027         845933      0              0              0              1           9           126            48             4414544.210416 1294656.029347 18646.872      170.324        170.324        398.857        349.585        1827         0.000413859259 14.5           3133304.503    66             nan            nan            140957072770.0 49417501.96464 31930.15315996 44986.71375062 2135713223.788 2051.3084     \n",
       "86469113488474 0              0.25           =BLOB=     128236         263233      0              0              0              1           11          167            92             3010544.736947 2052506.880852 11970.928      70.242         70.242         133.924        133.924        0            0.0            0.0            33131.555      7              nan            nan            0.0            0.0            0.0            0.0            0.0            542.4385      \n",
       "86469113488474 0              0.25           =BLOB=     601749         1218939     0              0              0              1           9           278            100            9516993.070636 3679919.833727 20041.486      77.39          77.39          341.087        310.914        1160         0.000121887238 4.172661870503 2900033.012    61             nan            nan            58696439718.79 21521972.34665 6167.540449293 20239.92122707 962236716.7015 4487.8633     \n",
       "86469113488476 0              0.25           =BLOB=     181318         370262      1              1              0              1           10          284            112            4835596.345717 1568745.677876 9952.937       66.644         66.644         156.694        156.694        1            2.067997261362 0.003521126760 22935.318      11             nan            nan            22127152.52616 22127152.52616 4.575889082586 964.7632758422 2011559.320560 878.1358      \n",
       "86469113488476 0              0.25           =BLOB=     436830         882644      0              0              0              1           9           165            65             4833443.620818 1486985.865267 17436.806      174.105        174.105        400.578        344.568        1990         0.000411714743 12.06060606060 3689664.183    102            nan            nan            121066224254.1 40056124.56526 25047.61278950 32812.26102147 1186923767.197 887.9038      \n",
       "86469113488478 0              0.25           =BLOB=     368083         762245      3              3              1              2           9           179            93             2730823.885072 1300564.566653 9463.896       312.119        283.262        567.232        561.396        1267         0.000463962545 7.078212290502 2091543.556    118            nan            nan            78258654703.78 36561888.53331 28657.52534667 37416.69853314 663208938.1676 1482.0695     \n",
       "86469113488478 0              0.25           =BLOB=     407401         831027      0              0              0              1           9           162            51             4718456.326437 1608156.597445 15698.018      105.141        105.141        412.964        391.639        1777         0.000376606219 10.96913580246 3028118.511    76             nan            nan            80638134713.19 28262658.36666 17089.93983082 26629.78163512 1061028088.331 1805.1881     \n",
       "   ...\n",
       " (Total: 4650)"
      ]
     },
     "execution_count": 18,
     "metadata": {},
     "output_type": "execute_result"
    }
   ],
   "source": [
    "minnie.Decomposition() & \"n_limbs > 8\""
   ]
  },
  {
   "cell_type": "code",
   "execution_count": 19,
   "metadata": {},
   "outputs": [
    {
     "data": {
      "text/html": [
       "\n",
       "        \n",
       "        <style type=\"text/css\">\n",
       "            .Relation{\n",
       "                border-collapse:collapse;\n",
       "            }\n",
       "            .Relation th{\n",
       "                background: #A0A0A0; color: #ffffff; padding:4px; border:#f0e0e0 1px solid;\n",
       "                font-weight: normal; font-family: monospace; font-size: 100%;\n",
       "            }\n",
       "            .Relation td{\n",
       "                padding:4px; border:#f0e0e0 1px solid; font-size:100%;\n",
       "            }\n",
       "            .Relation tr:nth-child(odd){\n",
       "                background: #ffffff;\n",
       "            }\n",
       "            .Relation tr:nth-child(even){\n",
       "                background: #f3f1ff;\n",
       "            }\n",
       "            /* Tooltip container */\n",
       "            .djtooltip {\n",
       "            }\n",
       "            /* Tooltip text */\n",
       "            .djtooltip .djtooltiptext {\n",
       "                visibility: hidden;\n",
       "                width: 120px;\n",
       "                background-color: black;\n",
       "                color: #fff;\n",
       "                text-align: center;\n",
       "                padding: 5px 0;\n",
       "                border-radius: 6px;\n",
       "                /* Position the tooltip text - see examples below! */\n",
       "                position: absolute;\n",
       "                z-index: 1;\n",
       "            }\n",
       "            #primary {\n",
       "                font-weight: bold;\n",
       "                color: black;\n",
       "            }\n",
       "\n",
       "            #nonprimary {\n",
       "                font-weight: normal;\n",
       "                color: white;\n",
       "            }\n",
       "\n",
       "            /* Show the tooltip text when you mouse over the tooltip container */\n",
       "            .djtooltip:hover .djtooltiptext {\n",
       "                visibility: visible;\n",
       "            }\n",
       "        </style>\n",
       "        \n",
       "        <b></b>\n",
       "            <div style=\"max-height:1000px;max-width:1500px;overflow:auto;\">\n",
       "            <table border=\"1\" class=\"Relation\">\n",
       "                <thead> <tr style=\"text-align: right;\"> <th> <div class=\"djtooltip\">\n",
       "                                <p id=\"primary\">segment_id</p>\n",
       "                                <span class=\"djtooltiptext\">segment id unique within each Segmentation</span>\n",
       "                            </div></th><th><div class=\"djtooltip\">\n",
       "                                <p id=\"primary\">decimation_version</p>\n",
       "                                <span class=\"djtooltiptext\"></span>\n",
       "                            </div></th><th><div class=\"djtooltip\">\n",
       "                                <p id=\"primary\">decimation_ratio</p>\n",
       "                                <span class=\"djtooltiptext\">ratio of remaining mesh vertices/faces (which ones depends on what metric the decimation technique uses)</span>\n",
       "                            </div></th><th><div class=\"djtooltip\">\n",
       "                                <p id=\"nonprimary\">n_face_errors</p>\n",
       "                                <span class=\"djtooltiptext\">the number of faces that were errored out</span>\n",
       "                            </div></th><th><div class=\"djtooltip\">\n",
       "                                <p id=\"nonprimary\">face_idx_for_error</p>\n",
       "                                <span class=\"djtooltiptext\">the face indices for the errors computed</span>\n",
       "                            </div></th><th><div class=\"djtooltip\">\n",
       "                                <p id=\"nonprimary\">n_synapses</p>\n",
       "                                <span class=\"djtooltiptext\">total number of synpases</span>\n",
       "                            </div></th><th><div class=\"djtooltip\">\n",
       "                                <p id=\"nonprimary\">n_errored_synapses</p>\n",
       "                                <span class=\"djtooltiptext\">the number of synapses</span>\n",
       "                            </div> </th> </tr> </thead>\n",
       "                <tbody> <tr> <td>864691134884741370</td>\n",
       "<td>0</td>\n",
       "<td>0.25</td>\n",
       "<td>208443</td>\n",
       "<td>=BLOB=</td>\n",
       "<td>469</td>\n",
       "<td>207</td></tr><tr><td>864691134884744442</td>\n",
       "<td>0</td>\n",
       "<td>0.25</td>\n",
       "<td>3345139</td>\n",
       "<td>=BLOB=</td>\n",
       "<td>7028</td>\n",
       "<td>5096</td></tr><tr><td>864691134884749562</td>\n",
       "<td>0</td>\n",
       "<td>0.25</td>\n",
       "<td>205172</td>\n",
       "<td>=BLOB=</td>\n",
       "<td>1089</td>\n",
       "<td>422</td></tr><tr><td>864691134940001635</td>\n",
       "<td>0</td>\n",
       "<td>0.25</td>\n",
       "<td>214404</td>\n",
       "<td>=BLOB=</td>\n",
       "<td>247</td>\n",
       "<td>49</td></tr><tr><td>864691134964412959</td>\n",
       "<td>0</td>\n",
       "<td>0.25</td>\n",
       "<td>386881</td>\n",
       "<td>=BLOB=</td>\n",
       "<td>864</td>\n",
       "<td>467</td></tr><tr><td>864691134964462367</td>\n",
       "<td>0</td>\n",
       "<td>0.25</td>\n",
       "<td>230111</td>\n",
       "<td>=BLOB=</td>\n",
       "<td>537</td>\n",
       "<td>238</td></tr><tr><td>864691135012371958</td>\n",
       "<td>0</td>\n",
       "<td>0.25</td>\n",
       "<td>268440</td>\n",
       "<td>=BLOB=</td>\n",
       "<td>401</td>\n",
       "<td>86</td></tr><tr><td>864691135012382710</td>\n",
       "<td>0</td>\n",
       "<td>0.25</td>\n",
       "<td>209566</td>\n",
       "<td>=BLOB=</td>\n",
       "<td>272</td>\n",
       "<td>95</td></tr><tr><td>864691135012491766</td>\n",
       "<td>0</td>\n",
       "<td>0.25</td>\n",
       "<td>1258890</td>\n",
       "<td>=BLOB=</td>\n",
       "<td>2600</td>\n",
       "<td>2022</td></tr><tr><td>864691135012513270</td>\n",
       "<td>0</td>\n",
       "<td>0.25</td>\n",
       "<td>310835</td>\n",
       "<td>=BLOB=</td>\n",
       "<td>0</td>\n",
       "<td>0</td></tr><tr><td>864691135012872342</td>\n",
       "<td>0</td>\n",
       "<td>0.25</td>\n",
       "<td>355984</td>\n",
       "<td>=BLOB=</td>\n",
       "<td>575</td>\n",
       "<td>344</td></tr><tr><td>864691135058534299</td>\n",
       "<td>0</td>\n",
       "<td>0.25</td>\n",
       "<td>408301</td>\n",
       "<td>=BLOB=</td>\n",
       "<td>160</td>\n",
       "<td>113</td> </tr> </tbody>\n",
       "            </table>\n",
       "            <p>...</p>\n",
       "            <p>Total: 477</p></div>\n",
       "            "
      ],
      "text/plain": [
       "*segment_id    *decimation_ve *decimation_ra n_face_errors  face_idx_f n_synapses     n_errored_syna\n",
       "+------------+ +------------+ +------------+ +------------+ +--------+ +------------+ +------------+\n",
       "86469113488474 0              0.25           208443         =BLOB=     469            207           \n",
       "86469113488474 0              0.25           3345139        =BLOB=     7028           5096          \n",
       "86469113488474 0              0.25           205172         =BLOB=     1089           422           \n",
       "86469113494000 0              0.25           214404         =BLOB=     247            49            \n",
       "86469113496441 0              0.25           386881         =BLOB=     864            467           \n",
       "86469113496446 0              0.25           230111         =BLOB=     537            238           \n",
       "86469113501237 0              0.25           268440         =BLOB=     401            86            \n",
       "86469113501238 0              0.25           209566         =BLOB=     272            95            \n",
       "86469113501249 0              0.25           1258890        =BLOB=     2600           2022          \n",
       "86469113501251 0              0.25           310835         =BLOB=     0              0             \n",
       "86469113501287 0              0.25           355984         =BLOB=     575            344           \n",
       "86469113505853 0              0.25           408301         =BLOB=     160            113           \n",
       "   ...\n",
       " (Total: 477)"
      ]
     },
     "execution_count": 19,
     "metadata": {},
     "output_type": "execute_result"
    }
   ],
   "source": [
    "current_table = (minnie.AutoProofreadLabels() & \"n_face_errors>200000\") & (minnie.Decomposition() & \"n_limbs > 8\").proj()\n",
    "current_table"
   ]
  },
  {
   "cell_type": "markdown",
   "metadata": {},
   "source": [
    "# Picking A Neuron to Look at"
   ]
  },
  {
   "cell_type": "code",
   "execution_count": 20,
   "metadata": {},
   "outputs": [],
   "source": [
    "possible_seg_ids = current_table.fetch(\"segment_id\")"
   ]
  },
  {
   "cell_type": "code",
   "execution_count": 25,
   "metadata": {},
   "outputs": [
    {
     "name": "stdout",
     "output_type": "stream",
     "text": [
      "Segment_id = 864691135233107289\n",
      "Decompressing Neuron in minimal output mode...please wait\n",
      "Returning the 1) coordinates for errored synapses 2) Coordinates for non-errored synapses\n"
     ]
    },
    {
     "data": {
      "application/vnd.jupyter.widget-view+json": {
       "model_id": "44221f3219e5432e95d459871815727b",
       "version_major": 2,
       "version_minor": 0
      },
      "text/plain": [
       "VBox(children=(Figure(camera=PerspectiveCamera(fov=46.0, position=(0.0, 0.0, 2.0), quaternion=(0.0, 0.0, 0.0, …"
      ]
     },
     "metadata": {},
     "output_type": "display_data"
    }
   ],
   "source": [
    "curr_seg_id = possible_seg_ids[40]\n",
    "print(f\"Segment_id = {curr_seg_id}\")\n",
    "curr_seg_id = 864691134884742906\n",
    "du.plot_errored_faces(curr_seg_id,plot_synapses=True)"
   ]
  },
  {
   "cell_type": "markdown",
   "metadata": {},
   "source": [
    "# Visualizing the Results"
   ]
  },
  {
   "cell_type": "code",
   "execution_count": 27,
   "metadata": {},
   "outputs": [
    {
     "name": "stdout",
     "output_type": "stream",
     "text": [
      "Decompressing Neuron in minimal output mode...please wait\n"
     ]
    }
   ],
   "source": [
    "neuron_obj = (minnie.Decomposition() & dict(segment_id=curr_seg_id)).fetch(\"decomposition\")"
   ]
  },
  {
   "cell_type": "code",
   "execution_count": 30,
   "metadata": {},
   "outputs": [],
   "source": [
    "neuron_obj = neuron_obj[0]"
   ]
  },
  {
   "cell_type": "code",
   "execution_count": 34,
   "metadata": {
    "scrolled": false
   },
   "outputs": [
    {
     "data": {
      "application/vnd.jupyter.widget-view+json": {
       "model_id": "caf298b0d95e4714aa0413ed0b96a9fb",
       "version_major": 2,
       "version_minor": 0
      },
      "text/plain": [
       "VBox(children=(Figure(camera=PerspectiveCamera(fov=46.0, position=(0.0, 0.0, 2.0), quaternion=(0.0, 0.0, 0.0, …"
      ]
     },
     "metadata": {},
     "output_type": "display_data"
    }
   ],
   "source": [
    "nviz.plot_objects(main_mesh=neuron_obj.mesh,mesh_alpha=1,\n",
    "                 meshes=[neuron_obj[\"S0\"].mesh],\n",
    "                 meshes_colors=\"red\")"
   ]
  },
  {
   "cell_type": "code",
   "execution_count": 37,
   "metadata": {},
   "outputs": [
    {
     "data": {
      "application/vnd.jupyter.widget-view+json": {
       "model_id": "2cde4cf4b85c47af9658a7ed1cc61e3f",
       "version_major": 2,
       "version_minor": 0
      },
      "text/plain": [
       "VBox(children=(Figure(camera=PerspectiveCamera(fov=46.0, position=(0.0, 0.0, 2.0), quaternion=(0.0, 0.0, 0.0, …"
      ]
     },
     "metadata": {},
     "output_type": "display_data"
    }
   ],
   "source": [
    "nviz.plot_objects(skeletons=[neuron_obj.skeleton],\n",
    "                 skeletons_colors=\"black\",mesh_alpha=1,\n",
    "                 meshes=[neuron_obj[\"S0\"].mesh],\n",
    "                 meshes_colors=\"red\")"
   ]
  },
  {
   "cell_type": "code",
   "execution_count": null,
   "metadata": {},
   "outputs": [],
   "source": [
    "ret_col = nviz.visualize_neuron(neuron_obj,visualize_type=[\"mesh\"],\n",
    "                     limb_branch_dict=dict(L3=\"all\"),\n",
    "                      network_color_alpha=1,\n",
    "                                network_soma_alpha=1,\n",
    "                                \n",
    "                    node_size=5,\n",
    "                                arrow_size=3,\n",
    "                                arrow_alpha=1,\n",
    "                                \n",
    "                     return_color_dict=True)"
   ]
  },
  {
   "cell_type": "code",
   "execution_count": 86,
   "metadata": {
    "scrolled": false
   },
   "outputs": [
    {
     "name": "stdout",
     "output_type": "stream",
     "text": [
      "\n",
      " Working on visualization type: mesh\n",
      "Working on  new stand alone scatter points\n"
     ]
    },
    {
     "data": {
      "application/vnd.jupyter.widget-view+json": {
       "model_id": "4e73891d67f14edb95b43ab8b5a859f6",
       "version_major": 2,
       "version_minor": 0
      },
      "text/plain": [
       "VBox(children=(Figure(camera=PerspectiveCamera(fov=46.0, position=(0.0, 0.0, 2.0), quaternion=(0.0, 0.0, 0.0, …"
      ]
     },
     "metadata": {},
     "output_type": "display_data"
    }
   ],
   "source": [
    "ret_col = nviz.visualize_neuron(neuron_obj,visualize_type=[\"mesh\"],\n",
    "                     limb_branch_dict=dict(L3=[3]),\n",
    "                                mesh_color=\"aqua\",\n",
    "                                mesh_color_alpha=1,\n",
    "                                mesh_soma_alpha=1,\n",
    "                                \n",
    "                                #network\n",
    "#                                 network_color_alpha=1,\n",
    "#                                 network_soma_alpha=1,\n",
    "#                                 node_size=2,\n",
    "#                                 arrow_size=1.5,\n",
    "#                                 arrow_alpha=1,\n",
    "                                return_color_dict=True)"
   ]
  },
  {
   "cell_type": "code",
   "execution_count": 88,
   "metadata": {
    "scrolled": true
   },
   "outputs": [
    {
     "data": {
      "text/plain": [
       "['__class__',\n",
       " '__delattr__',\n",
       " '__dict__',\n",
       " '__dir__',\n",
       " '__doc__',\n",
       " '__eq__',\n",
       " '__format__',\n",
       " '__ge__',\n",
       " '__getattribute__',\n",
       " '__gt__',\n",
       " '__hash__',\n",
       " '__init__',\n",
       " '__init_subclass__',\n",
       " '__le__',\n",
       " '__lt__',\n",
       " '__module__',\n",
       " '__ne__',\n",
       " '__new__',\n",
       " '__reduce__',\n",
       " '__reduce_ex__',\n",
       " '__repr__',\n",
       " '__setattr__',\n",
       " '__sizeof__',\n",
       " '__slotnames__',\n",
       " '__str__',\n",
       " '__subclasshook__',\n",
       " '__weakref__',\n",
       " 'compute_spines_volume',\n",
       " 'endpoints',\n",
       " 'labels',\n",
       " 'mesh',\n",
       " 'mesh_center',\n",
       " 'mesh_face_idx',\n",
       " 'skeleton',\n",
       " 'spines',\n",
       " 'spines_volume',\n",
       " 'width',\n",
       " 'width_array',\n",
       " 'width_new']"
      ]
     },
     "execution_count": 88,
     "metadata": {},
     "output_type": "execute_result"
    }
   ],
   "source": [
    "dir(neuron_obj[\"L3\"][3])"
   ]
  },
  {
   "cell_type": "code",
   "execution_count": 95,
   "metadata": {},
   "outputs": [],
   "source": [
    "curr_branch = neuron_obj[\"L3\"][3]"
   ]
  },
  {
   "cell_type": "code",
   "execution_count": 96,
   "metadata": {},
   "outputs": [
    {
     "data": {
      "text/plain": [
       "(276.94433318703756, 290.46714887322827)"
      ]
     },
     "execution_count": 96,
     "metadata": {},
     "output_type": "execute_result"
    }
   ],
   "source": []
  },
  {
   "cell_type": "code",
   "execution_count": null,
   "metadata": {},
   "outputs": [],
   "source": [
    "\"\"\"\n",
    "How to plot the spines\n",
    "\n",
    "1) Get the spine meshes\n",
    "2) Subtract from the regular mesh\n",
    "3) Plot botht he subtracted mesh and the spines\n",
    "\n",
    "\"\"\""
   ]
  },
  {
   "cell_type": "code",
   "execution_count": 115,
   "metadata": {},
   "outputs": [
    {
     "data": {
      "application/vnd.jupyter.widget-view+json": {
       "model_id": "010a96f3143b44c4933e3f934d26f18c",
       "version_major": 2,
       "version_minor": 0
      },
      "text/plain": [
       "VBox(children=(Figure(camera=PerspectiveCamera(fov=46.0, position=(0.0, 0.0, 2.0), quaternion=(0.0, 0.0, 0.0, …"
      ]
     },
     "metadata": {},
     "output_type": "display_data"
    }
   ],
   "source": [
    "# plotting the spines\n",
    "\n",
    "shaft_mesh = tu.subtract_mesh(curr_branch.mesh,curr_branch.spines)\n",
    "soma_mesh  = neuron_obj[\"S0\"].mesh\n",
    "nviz.plot_objects(main_mesh=shaft_mesh,\n",
    "                 main_mesh_color=\"aqua\",\n",
    "                 meshes=curr_branch.spines + [soma_mesh],\n",
    "                  meshes_colors=\"red\",\n",
    "                 mesh_alpha=1,\n",
    "                 skeletons=[curr_branch.skeleton])"
   ]
  },
  {
   "cell_type": "code",
   "execution_count": 114,
   "metadata": {},
   "outputs": [
    {
     "data": {
      "text/plain": [
       "array([250., 223., 311., 287., 253., 263., 254., 298., 289., 393., 267.,\n",
       "       364., 399., 302., 357., 340., 322., 250., 276., 241., 260., 445.,\n",
       "       426., 353., 329., 306., 273., 233., 288., 319., 292., 257., 200.,\n",
       "       338., 298., 249., 213., 388., 332., 485., 368., 250., 280., 301.,\n",
       "       319., 250., 246., 285., 343., 312., 261., 208., 209., 262., 267.,\n",
       "       245., 208., 199., 221., 278., 313., 291., 285., 244., 181., 407.,\n",
       "       190., 188., 119., 130., 202., 341., 160., 363., 215., 239., 133.,\n",
       "       431., 346., 289., 310., 370., 214., 248., 259., 293., 205., 277.])"
      ]
     },
     "execution_count": 114,
     "metadata": {},
     "output_type": "execute_result"
    }
   ],
   "source": [
    "import numpy as np\n",
    "np.round(curr_branch.width_array[\"no_spine_median_mesh_center\"],0)"
   ]
  },
  {
   "cell_type": "code",
   "execution_count": 110,
   "metadata": {},
   "outputs": [
    {
     "data": {
      "text/plain": [
       "(276.94433318703756, 290.46714887322827)"
      ]
     },
     "execution_count": 110,
     "metadata": {},
     "output_type": "execute_result"
    }
   ],
   "source": [
    "curr_branch.width_new[\"no_spine_median_mesh_center\"],curr_branch.width_new[\"median_mesh_center\"]"
   ]
  },
  {
   "cell_type": "code",
   "execution_count": null,
   "metadata": {},
   "outputs": [],
   "source": [
    "width\n",
    "spines\n",
    "spines_volume"
   ]
  },
  {
   "cell_type": "code",
   "execution_count": 81,
   "metadata": {},
   "outputs": [
    {
     "data": {
      "image/png": "[encoded data removed]",
      "text/plain": [
       "<Figure size 720x720 with 1 Axes>"
      ]
     },
     "metadata": {},
     "output_type": "display_data"
    }
   ],
   "source": [
    "nviz.plot_limb_concept_network_2D(neuron_obj,\n",
    "                                  limb_name=\"L3\",\n",
    "                                  node_colors=ret_col,\n",
    "                                  font_size=25,\n",
    "                                 node_size=4000,\n",
    "                                  width_min = 0.1,\n",
    "                                  fig_width=10,\n",
    "                                  fig_height=10,\n",
    "                                  font_color=\"black\",\n",
    "                                  \n",
    "                                 pos_width=2)"
   ]
  },
  {
   "cell_type": "code",
   "execution_count": 64,
   "metadata": {},
   "outputs": [
    {
     "name": "stdout",
     "output_type": "stream",
     "text": [
      "\n",
      " Working on visualization type: mesh\n",
      "Working on  new stand alone scatter points\n"
     ]
    },
    {
     "data": {
      "application/vnd.jupyter.widget-view+json": {
       "model_id": "26d26ee1c5e44e17add8fae0c89f91e8",
       "version_major": 2,
       "version_minor": 0
      },
      "text/plain": [
       "VBox(children=(Figure(camera=PerspectiveCamera(fov=46.0, position=(0.0, 0.0, 2.0), quaternion=(0.0, 0.0, 0.0, …"
      ]
     },
     "metadata": {},
     "output_type": "display_data"
    }
   ],
   "source": [
    "ret_col = nviz.visualize_neuron(neuron_obj,visualize_type=[\"mesh\"],\n",
    "                     limb_branch_dict=\"all\",\n",
    "                      mesh_color_alpha=0.4,\n",
    "                     mesh_soma_alpha=1,\n",
    "                    mesh_resolution=\"limb\",\n",
    "                     return_color_dict=True)"
   ]
  },
  {
   "cell_type": "code",
   "execution_count": 65,
   "metadata": {},
   "outputs": [
    {
     "data": {
      "image/png": "[encoded data removed]",
      "text/plain": [
       "<Figure size 432x288 with 1 Axes>"
      ]
     },
     "metadata": {},
     "output_type": "display_data"
    }
   ],
   "source": [
    "# Plotting one of the concept networks\n",
    "nviz.plot_soma_limb_concept_network(neuron_obj,node_colors=ret_col,\n",
    "                                    font_color=\"black\",\n",
    "                                    node_size=700\n",
    "                                   )"
   ]
  },
  {
   "cell_type": "markdown",
   "metadata": {},
   "source": [
    "# Plotting the different limbs"
   ]
  },
  {
   "cell_type": "code",
   "execution_count": null,
   "metadata": {},
   "outputs": [],
   "source": [
    "nviz.visualize_neuron()"
   ]
  },
  {
   "cell_type": "markdown",
   "metadata": {},
   "source": [
    "# Plotting the Errored Faces and Synapses"
   ]
  },
  {
   "cell_type": "code",
   "execution_count": null,
   "metadata": {},
   "outputs": [],
   "source": [
    "du.plot_errored_faces(curr_seg_id,plot_synapses=True)"
   ]
  },
  {
   "cell_type": "code",
   "execution_count": 116,
   "metadata": {},
   "outputs": [
    {
     "ename": "NameError",
     "evalue": "name 'segment_id' is not defined",
     "output_type": "error",
     "traceback": [
      "\u001b[0;31m---------------------------------------------------------------------------\u001b[0m",
      "\u001b[0;31mNameError\u001b[0m                                 Traceback (most recent call last)",
      "\u001b[0;32m<ipython-input-116-927ba3efd776>\u001b[0m in \u001b[0;36m<module>\u001b[0;34m\u001b[0m\n\u001b[0;32m----> 1\u001b[0;31m \u001b[0msegment_id\u001b[0m\u001b[0;34m\u001b[0m\u001b[0;34m\u001b[0m\u001b[0m\n\u001b[0m",
      "\u001b[0;31mNameError\u001b[0m: name 'segment_id' is not defined"
     ]
    }
   ],
   "source": []
  },
  {
   "cell_type": "code",
   "execution_count": 119,
   "metadata": {},
   "outputs": [],
   "source": [
    "segment_id = curr_seg_id\n",
    "plot_synapses=True\n",
    "current_mesh=neuron_obj.mesh\n",
    "neuron_obj\n",
    "valid_synapse_color = \"yellow\"\n",
    "error_color = \"red\""
   ]
  },
  {
   "cell_type": "code",
   "execution_count": 132,
   "metadata": {},
   "outputs": [
    {
     "name": "stdout",
     "output_type": "stream",
     "text": [
      "Returning the 1) coordinates for errored synapses 2) Coordinates for non-errored synapses\n"
     ]
    },
    {
     "data": {
      "application/vnd.jupyter.widget-view+json": {
       "model_id": "92cabdc7cadb42dd9435c6cf0b01103a",
       "version_major": 2,
       "version_minor": 0
      },
      "text/plain": [
       "VBox(children=(Figure(camera=PerspectiveCamera(fov=46.0, position=(0.0, 0.0, 2.0), quaternion=(0.0, 0.0, 0.0, …"
      ]
     },
     "metadata": {},
     "output_type": "display_data"
    }
   ],
   "source": [
    "import error_detection as ed\n",
    "\n",
    "#1) Pull down the mesh\n",
    "if current_mesh is None:\n",
    "    current_mesh = fetch_segment_id_mesh(segment_id)\n",
    "\n",
    "#2) PUll down the synapse data and the error faces\n",
    "n_synapses,n_errored_synapses,errored_faces = (minnie.AutoProofreadLabels() &\n",
    "                                               dict(segment_id=segment_id)).fetch1(\"n_synapses\",\"n_errored_synapses\",\"face_idx_for_error\")\n",
    "\n",
    "error_submesh = current_mesh.submesh([errored_faces],append=True)\n",
    "valid_mesh = tu.subtract_mesh(current_mesh,error_submesh)\n",
    "\n",
    "if neuron_obj is None:\n",
    "    neuron_obj = (minnie.Decomposition() & dict(segment_id=segment_id)).fetch1(\"decomposition\")\n",
    "\n",
    "err_synapses,non_err_synapses = ed.get_error_synapse_inserts(current_mesh,segment_id,\n",
    "                                                     errored_faces,return_synapse_centroids=True)\n",
    "if plot_synapses:\n",
    "\n",
    "\n",
    "    nviz.plot_objects(main_mesh=valid_mesh,\n",
    "              meshes=[error_submesh],\n",
    "                      mesh_alpha=1,\n",
    "              meshes_colors=[error_color],\n",
    "            scatters=[err_synapses,non_err_synapses],\n",
    "             scatters_colors=[error_color,valid_synapse_color])\n",
    "    if return_obj:\n",
    "        return_value= neuron_obj\n",
    "\n",
    "else:\n",
    "    nviz.plot_objects(main_mesh=valid_mesh,\n",
    "             meshes=error_submesh,\n",
    "              meshes_colors=error_color,\n",
    "             mesh_alpha=1)"
   ]
  },
  {
   "cell_type": "markdown",
   "metadata": {},
   "source": [
    "# Plotting just the neuron"
   ]
  },
  {
   "cell_type": "code",
   "execution_count": 127,
   "metadata": {},
   "outputs": [
    {
     "data": {
      "application/vnd.jupyter.widget-view+json": {
       "model_id": "30e99b44c57049f38491325222b8bb94",
       "version_major": 2,
       "version_minor": 0
      },
      "text/plain": [
       "VBox(children=(Figure(camera=PerspectiveCamera(fov=46.0, position=(0.0, 0.0, 2.0), quaternion=(0.0, 0.0, 0.0, …"
      ]
     },
     "metadata": {},
     "output_type": "display_data"
    }
   ],
   "source": [
    "nviz.plot_objects(meshes=[current_mesh],\n",
    "                  meshes_colors=[\"aqua\"],\n",
    "             mesh_alpha=0.6)"
   ]
  },
  {
   "cell_type": "code",
   "execution_count": 128,
   "metadata": {},
   "outputs": [
    {
     "data": {
      "application/vnd.jupyter.widget-view+json": {
       "model_id": "fa88b5973459487cb82729b0c3636f4e",
       "version_major": 2,
       "version_minor": 0
      },
      "text/plain": [
       "VBox(children=(Figure(camera=PerspectiveCamera(fov=46.0, position=(0.0, 0.0, 2.0), quaternion=(0.0, 0.0, 0.0, …"
      ]
     },
     "metadata": {},
     "output_type": "display_data"
    }
   ],
   "source": [
    "nviz.plot_objects(meshes=[valid_mesh,error_submesh],\n",
    "                  meshes_colors=[\"aqua\",\"red\"],\n",
    "             mesh_alpha=0.6)"
   ]
  },
  {
   "cell_type": "code",
   "execution_count": 133,
   "metadata": {},
   "outputs": [
    {
     "data": {
      "application/vnd.jupyter.widget-view+json": {
       "model_id": "cc0b5f3e2e254c6cbf53f85522283ffb",
       "version_major": 2,
       "version_minor": 0
      },
      "text/plain": [
       "VBox(children=(Figure(camera=PerspectiveCamera(fov=46.0, position=(0.0, 0.0, 2.0), quaternion=(0.0, 0.0, 0.0, …"
      ]
     },
     "metadata": {},
     "output_type": "display_data"
    }
   ],
   "source": [
    "nviz.plot_objects(meshes=[valid_mesh],\n",
    "                  meshes_colors=[\"aqua\"],\n",
    "                  scatters=[non_err_synapses],\n",
    "             scatters_colors=[valid_synapse_color],\n",
    "             mesh_alpha=0.6)"
   ]
  },
  {
   "cell_type": "code",
   "execution_count": 138,
   "metadata": {},
   "outputs": [
    {
     "data": {
      "application/vnd.jupyter.widget-view+json": {
       "model_id": "e73ccbd3d3b24e2a897d27f4173dd65c",
       "version_major": 2,
       "version_minor": 0
      },
      "text/plain": [
       "VBox(children=(Figure(camera=PerspectiveCamera(fov=46.0, position=(0.0, 0.0, 2.0), quaternion=(0.0, 0.0, 0.0, …"
      ]
     },
     "metadata": {},
     "output_type": "display_data"
    }
   ],
   "source": [
    "nviz.plot_objects(meshes=[error_submesh],\n",
    "                  meshes_colors=[\"red\"],\n",
    "                  scatters=[err_synapses],\n",
    "             scatters_colors=[\"purple\"],\n",
    "             mesh_alpha=1)"
   ]
  },
  {
   "cell_type": "markdown",
   "metadata": {},
   "source": [
    "# Getting the Different Limbs"
   ]
  },
  {
   "cell_type": "code",
   "execution_count": null,
   "metadata": {},
   "outputs": [],
   "source": [
    "dict(L0=”purple”,L1=”green”,L2=”orange”,L3=”aqua”,L4=”pink”)"
   ]
  },
  {
   "cell_type": "code",
   "execution_count": 149,
   "metadata": {},
   "outputs": [
    {
     "name": "stdout",
     "output_type": "stream",
     "text": [
      "\n",
      " Working on visualization type: mesh\n",
      "Working on  new stand alone scatter points\n"
     ]
    },
    {
     "data": {
      "application/vnd.jupyter.widget-view+json": {
       "model_id": "73dc548dbe654d019e1a416037859bd6",
       "version_major": 2,
       "version_minor": 0
      },
      "text/plain": [
       "VBox(children=(Figure(camera=PerspectiveCamera(fov=46.0, position=(0.0, 0.0, 2.0), quaternion=(0.0, 0.0, 0.0, …"
      ]
     },
     "metadata": {},
     "output_type": "display_data"
    }
   ],
   "source": [
    "color_dict = dict(L0=\"blue\",L1=\"green\",L2=\"red\",L3=\"aqua\",L4=\"pink\")\n",
    "curr_l_d_dict= dict(L3=\"all\")\n",
    "nviz.visualize_neuron(neuron_obj,\n",
    "                      visualize_type=[\"mesh\"],\n",
    "                      mesh_color_alpha=1,\n",
    "                     limb_branch_dict=curr_l_d_dict,\n",
    "                      mesh_resolution=\"limb\",\n",
    "                      mesh_soma_alpha=1,\n",
    "                     mesh_color=color_dict)"
   ]
  },
  {
   "cell_type": "code",
   "execution_count": null,
   "metadata": {},
   "outputs": [],
   "source": []
  }
 ],
 "metadata": {
  "kernelspec": {
   "display_name": "Python 3",
   "language": "python",
   "name": "python3"
  },
  "language_info": {
   "codemirror_mode": {
    "name": "ipython",
    "version": 3
   },
   "file_extension": ".py",
   "mimetype": "text/x-python",
   "name": "python",
   "nbconvert_exporter": "python",
   "pygments_lexer": "ipython3",
   "version": "3.6.9"
  }
 },
 "nbformat": 4,
 "nbformat_minor": 4
}
