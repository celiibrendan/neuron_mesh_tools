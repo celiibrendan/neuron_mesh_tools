{
 "cells": [
  {
   "cell_type": "code",
   "execution_count": null,
   "metadata": {},
   "outputs": [],
   "source": [
    "\"\"\"\n",
    "Purpose: To check on the status of the soma finder\n",
    "\n",
    "\n",
    "\"\"\""
   ]
  },
  {
   "cell_type": "code",
   "execution_count": 1,
   "metadata": {},
   "outputs": [],
   "source": [
    "import numpy as np\n",
    "import datajoint as dj\n",
    "import trimesh\n",
    "from tqdm.notebook import tqdm\n",
    "from pathlib import Path\n",
    "\n",
    "from os import sys\n",
    "sys.path.append(\"/meshAfterParty/\")\n",
    "\n",
    "import datajoint_utils as du\n",
    "from importlib import reload"
   ]
  },
  {
   "cell_type": "code",
   "execution_count": 2,
   "metadata": {},
   "outputs": [
    {
     "name": "stderr",
     "output_type": "stream",
     "text": [
      "INFO - 2020-11-20 00:52:26,003 - settings - Setting database.host to at-database.ad.bcm.edu\n",
      "INFO - 2020-11-20 00:52:26,005 - settings - Setting database.user to celiib\n",
      "INFO - 2020-11-20 00:52:26,006 - settings - Setting database.password to newceliipass\n",
      "INFO - 2020-11-20 00:52:26,009 - settings - Setting stores to {'minnie65': {'protocol': 'file', 'location': '/mnt/dj-stor01/platinum/minnie65', 'stage': '/mnt/dj-stor01/platinum/minnie65'}, 'meshes': {'protocol': 'file', 'location': '/mnt/dj-stor01/platinum/minnie65/02/meshes', 'stage': '/mnt/dj-stor01/platinum/minnie65/02/meshes'}, 'decimated_meshes': {'protocol': 'file', 'location': '/mnt/dj-stor01/platinum/minnie65/02/decimated_meshes', 'stage': '/mnt/dj-stor01/platinum/minnie65/02/decimated_meshes'}, 'skeletons': {'protocol': 'file', 'location': '/mnt/dj-stor01/platinum/minnie65/02/skeletons'}}\n",
      "INFO - 2020-11-20 00:52:26,009 - settings - Setting enable_python_native_blobs to True\n",
      "INFO - 2020-11-20 00:52:26,022 - connection - Connected celiib@at-database.ad.bcm.edu:3306\n",
      "INFO - 2020-11-20 00:52:26,176 - settings - Setting enable_python_native_blobs to True\n"
     ]
    },
    {
     "name": "stdout",
     "output_type": "stream",
     "text": [
      "Current path for external_segmentation_path = /mnt/dj-stor01/platinum/minnie65/02\n",
      "Current path for external_mesh_path = /mnt/dj-stor01/platinum/minnie65/02/meshes\n",
      "Current path for external_decimated_mesh_path = /mnt/dj-stor01/platinum/minnie65/02/decimated_meshes\n",
      "Current path for external_skeleton_path = /mnt/dj-stor01/platinum/minnie65/02/skeletons\n",
      "Connecting celiib@at-database.ad.bcm.edu:3306\n"
     ]
    }
   ],
   "source": [
    "import minfig\n",
    "du.config_celii()\n",
    "du.set_minnie65_config_segmentation(minfig)\n",
    "du.print_minnie65_config_paths(minfig)\n",
    "\n",
    "#configuring will include the adapters\n",
    "minnie,schema = du.configure_minnie_vm()"
   ]
  },
  {
   "cell_type": "markdown",
   "metadata": {},
   "source": [
    "# Chccking the current progress of Soma Extraction"
   ]
  },
  {
   "cell_type": "code",
   "execution_count": null,
   "metadata": {},
   "outputs": [],
   "source": []
  },
  {
   "cell_type": "code",
   "execution_count": null,
   "metadata": {},
   "outputs": [],
   "source": [
    "dj.config[\"display.limit\"] = 50"
   ]
  },
  {
   "cell_type": "code",
   "execution_count": null,
   "metadata": {},
   "outputs": [],
   "source": [
    "minnie.BaylorSegmentCentroid() & \"n_vertices>0\""
   ]
  },
  {
   "cell_type": "code",
   "execution_count": 37,
   "metadata": {},
   "outputs": [
    {
     "data": {
      "text/plain": [
       "281"
      ]
     },
     "execution_count": 37,
     "metadata": {},
     "output_type": "execute_result"
    }
   ],
   "source": [
    "len(schema.jobs & \"table_name='__baylor_segment_centroid'\" & \"status='reserved'\" & \"timestamp>'2020-11-19 14:00:00'\")"
   ]
  },
  {
   "cell_type": "code",
   "execution_count": 42,
   "metadata": {},
   "outputs": [],
   "source": [
    "decimation_version = 0\n",
    "decimation_ratio = 0.25\n",
    "verts_min = 10000\n",
    "\n",
    "key_source =  ((minnie.Decimation & f\"n_vertices > {verts_min}\").proj(decimation_version='version') & \n",
    "                        \"decimation_version=\" + str(decimation_version) &\n",
    "                   f\"decimation_ratio={decimation_ratio}\" & minnie.SegToDecimateFromNuclei())"
   ]
  },
  {
   "cell_type": "code",
   "execution_count": 44,
   "metadata": {},
   "outputs": [
    {
     "data": {
      "text/plain": [
       "75391.07330485716"
      ]
     },
     "execution_count": 44,
     "metadata": {},
     "output_type": "execute_result"
    }
   ],
   "source": [
    "len(minnie.BaylorSegmentCentroid() & \"multiplicity>0\")/len(minnie.BaylorSegmentCentroid())*len(key_source)"
   ]
  },
  {
   "cell_type": "code",
   "execution_count": 46,
   "metadata": {},
   "outputs": [
    {
     "data": {
      "text/plain": [
       "33854"
      ]
     },
     "execution_count": 46,
     "metadata": {},
     "output_type": "execute_result"
    }
   ],
   "source": [
    "len(minnie.BaylorSegmentCentroid() & \"multiplicity>0\")"
   ]
  },
  {
   "cell_type": "code",
   "execution_count": 45,
   "metadata": {},
   "outputs": [
    {
     "data": {
      "text/plain": [
       "39107"
      ]
     },
     "execution_count": 45,
     "metadata": {},
     "output_type": "execute_result"
    }
   ],
   "source": [
    "len(minnie.BaylorSegmentCentroid())"
   ]
  },
  {
   "cell_type": "code",
   "execution_count": 36,
   "metadata": {},
   "outputs": [
    {
     "name": "stderr",
     "output_type": "stream",
     "text": [
      "INFO - 2020-11-20 07:22:24,108 - settings - Setting enable_python_native_blobs to True\n",
      "INFO - 2020-11-20 07:22:24,318 - settings - Setting enable_python_native_blobs to True\n",
      "/usr/local/lib/python3.6/dist-packages/traittypes/traittypes.py:101: UserWarning: Given trait value dtype \"float64\" does not match required type \"float64\". A coerced copy has been created.\n",
      "  np.dtype(self.dtype).name))\n"
     ]
    },
    {
     "data": {
      "application/vnd.jupyter.widget-view+json": {
       "model_id": "e5fdfd5ed1bf444cb0864bd8d06977d4",
       "version_major": 2,
       "version_minor": 0
      },
      "text/plain": [
       "VBox(children=(Figure(camera=PerspectiveCamera(fov=46.0, position=(0.0, 0.0, 2.0), quaternion=(0.0, 0.0, 0.0, …"
      ]
     },
     "metadata": {},
     "output_type": "display_data"
    }
   ],
   "source": [
    "import neuron_visualizations as nviz\n",
    "cur_mesh = du.fetch_segment_id_mesh(864691134219060901)\n",
    "nviz.plot_objects(cur_mesh)"
   ]
  },
  {
   "cell_type": "code",
   "execution_count": 34,
   "metadata": {},
   "outputs": [
    {
     "data": {
      "text/html": [
       "\n",
       "        \n",
       "        <style type=\"text/css\">\n",
       "            .Relation{\n",
       "                border-collapse:collapse;\n",
       "            }\n",
       "            .Relation th{\n",
       "                background: #A0A0A0; color: #ffffff; padding:4px; border:#f0e0e0 1px solid;\n",
       "                font-weight: normal; font-family: monospace; font-size: 100%;\n",
       "            }\n",
       "            .Relation td{\n",
       "                padding:4px; border:#f0e0e0 1px solid; font-size:100%;\n",
       "            }\n",
       "            .Relation tr:nth-child(odd){\n",
       "                background: #ffffff;\n",
       "            }\n",
       "            .Relation tr:nth-child(even){\n",
       "                background: #f3f1ff;\n",
       "            }\n",
       "            /* Tooltip container */\n",
       "            .djtooltip {\n",
       "            }\n",
       "            /* Tooltip text */\n",
       "            .djtooltip .djtooltiptext {\n",
       "                visibility: hidden;\n",
       "                width: 120px;\n",
       "                background-color: black;\n",
       "                color: #fff;\n",
       "                text-align: center;\n",
       "                padding: 5px 0;\n",
       "                border-radius: 6px;\n",
       "                /* Position the tooltip text - see examples below! */\n",
       "                position: absolute;\n",
       "                z-index: 1;\n",
       "            }\n",
       "            #primary {\n",
       "                font-weight: bold;\n",
       "                color: black;\n",
       "            }\n",
       "\n",
       "            #nonprimary {\n",
       "                font-weight: normal;\n",
       "                color: white;\n",
       "            }\n",
       "\n",
       "            /* Show the tooltip text when you mouse over the tooltip container */\n",
       "            .djtooltip:hover .djtooltiptext {\n",
       "                visibility: visible;\n",
       "            }\n",
       "        </style>\n",
       "        \n",
       "        <b>Decimated meshes</b>\n",
       "            <div style=\"max-height:1000px;max-width:1500px;overflow:auto;\">\n",
       "            <table border=\"1\" class=\"Relation\">\n",
       "                <thead> <tr style=\"text-align: right;\"> <th> <div class=\"djtooltip\">\n",
       "                                <p id=\"primary\">segment_id</p>\n",
       "                                <span class=\"djtooltiptext\">segment id unique within each Segmentation</span>\n",
       "                            </div></th><th><div class=\"djtooltip\">\n",
       "                                <p id=\"primary\">version</p>\n",
       "                                <span class=\"djtooltiptext\"></span>\n",
       "                            </div></th><th><div class=\"djtooltip\">\n",
       "                                <p id=\"primary\">decimation_ratio</p>\n",
       "                                <span class=\"djtooltiptext\">ratio of remaining mesh vertices/faces (which ones depends on what metric the decimation technique uses)</span>\n",
       "                            </div></th><th><div class=\"djtooltip\">\n",
       "                                <p id=\"nonprimary\">n_vertices</p>\n",
       "                                <span class=\"djtooltiptext\"></span>\n",
       "                            </div></th><th><div class=\"djtooltip\">\n",
       "                                <p id=\"nonprimary\">n_faces</p>\n",
       "                                <span class=\"djtooltiptext\"></span>\n",
       "                            </div></th><th><div class=\"djtooltip\">\n",
       "                                <p id=\"nonprimary\">mesh</p>\n",
       "                                <span class=\"djtooltiptext\">in-place path to the hdf5 (decimated) mesh file</span>\n",
       "                            </div> </th> </tr> </thead>\n",
       "                <tbody> <tr> <td>864691134437394197</td>\n",
       "<td>0</td>\n",
       "<td>0.25</td>\n",
       "<td>12788</td>\n",
       "<td>27917</td>\n",
       "<td>=BLOB=</td></tr><tr><td>864691134455328437</td>\n",
       "<td>0</td>\n",
       "<td>0.25</td>\n",
       "<td>10641</td>\n",
       "<td>22656</td>\n",
       "<td>=BLOB=</td></tr><tr><td>864691134511466596</td>\n",
       "<td>0</td>\n",
       "<td>0.25</td>\n",
       "<td>10302</td>\n",
       "<td>20737</td>\n",
       "<td>=BLOB=</td></tr><tr><td>864691134577177340</td>\n",
       "<td>0</td>\n",
       "<td>0.25</td>\n",
       "<td>13454</td>\n",
       "<td>27489</td>\n",
       "<td>=BLOB=</td></tr><tr><td>864691134621934751</td>\n",
       "<td>0</td>\n",
       "<td>0.25</td>\n",
       "<td>13337</td>\n",
       "<td>28887</td>\n",
       "<td>=BLOB=</td></tr><tr><td>864691134690360103</td>\n",
       "<td>0</td>\n",
       "<td>0.25</td>\n",
       "<td>25401</td>\n",
       "<td>54674</td>\n",
       "<td>=BLOB=</td></tr><tr><td>864691134703417700</td>\n",
       "<td>0</td>\n",
       "<td>0.25</td>\n",
       "<td>10833</td>\n",
       "<td>21883</td>\n",
       "<td>=BLOB=</td></tr><tr><td>864691134748872669</td>\n",
       "<td>0</td>\n",
       "<td>0.25</td>\n",
       "<td>11390</td>\n",
       "<td>24708</td>\n",
       "<td>=BLOB=</td></tr><tr><td>864691134762092352</td>\n",
       "<td>0</td>\n",
       "<td>0.25</td>\n",
       "<td>11405</td>\n",
       "<td>25806</td>\n",
       "<td>=BLOB=</td></tr><tr><td>864691134765283324</td>\n",
       "<td>0</td>\n",
       "<td>0.25</td>\n",
       "<td>12596</td>\n",
       "<td>27717</td>\n",
       "<td>=BLOB=</td></tr><tr><td>864691134782181104</td>\n",
       "<td>0</td>\n",
       "<td>0.25</td>\n",
       "<td>13864</td>\n",
       "<td>30443</td>\n",
       "<td>=BLOB=</td></tr><tr><td>864691134807855033</td>\n",
       "<td>0</td>\n",
       "<td>0.25</td>\n",
       "<td>21218</td>\n",
       "<td>42081</td>\n",
       "<td>=BLOB=</td> </tr> </tbody>\n",
       "            </table>\n",
       "            <p>...</p>\n",
       "            <p>Total: 7102</p></div>\n",
       "            "
      ],
      "text/plain": [
       "*segment_id    *version    *decimation_ra n_vertices     n_faces     mesh      \n",
       "+------------+ +---------+ +------------+ +------------+ +---------+ +--------+\n",
       "86469113443739 0           0.25           12788          27917       =BLOB=    \n",
       "86469113445532 0           0.25           10641          22656       =BLOB=    \n",
       "86469113451146 0           0.25           10302          20737       =BLOB=    \n",
       "86469113457717 0           0.25           13454          27489       =BLOB=    \n",
       "86469113462193 0           0.25           13337          28887       =BLOB=    \n",
       "86469113469036 0           0.25           25401          54674       =BLOB=    \n",
       "86469113470341 0           0.25           10833          21883       =BLOB=    \n",
       "86469113474887 0           0.25           11390          24708       =BLOB=    \n",
       "86469113476209 0           0.25           11405          25806       =BLOB=    \n",
       "86469113476528 0           0.25           12596          27717       =BLOB=    \n",
       "86469113478218 0           0.25           13864          30443       =BLOB=    \n",
       "86469113480785 0           0.25           21218          42081       =BLOB=    \n",
       "   ...\n",
       " (Total: 7102)"
      ]
     },
     "execution_count": 34,
     "metadata": {},
     "output_type": "execute_result"
    }
   ],
   "source": [
    "key_source = minnie.Decimation() & (minnie.BaylorSegmentCentroid() & \"multiplicity>0\").proj()\n",
    "key_source"
   ]
  },
  {
   "cell_type": "code",
   "execution_count": null,
   "metadata": {},
   "outputs": [],
   "source": [
    "error_key = (schema.jobs & \"table_name='__baylor_segment_centroid'\" & \"status='error'\" &\n",
    " \"error_message='TypeError: only integer scalar arrays can be converted to a scalar index'\").fetch(\"key\")\n",
    "# \"error_message!='ValueError: zero-size array to reduction operation maximum which has no identity'\")\n"
   ]
  },
  {
   "cell_type": "code",
   "execution_count": null,
   "metadata": {},
   "outputs": [],
   "source": []
  },
  {
   "cell_type": "code",
   "execution_count": null,
   "metadata": {
    "scrolled": false
   },
   "outputs": [],
   "source": [
    "len(schema.jobs & \"table_name='__baylor_segment_centroid'\")#.delete()"
   ]
  },
  {
   "cell_type": "markdown",
   "metadata": {},
   "source": [
    "# checking the soma extraction"
   ]
  },
  {
   "cell_type": "code",
   "execution_count": 18,
   "metadata": {},
   "outputs": [
    {
     "name": "stderr",
     "output_type": "stream",
     "text": [
      "INFO - 2020-11-20 01:01:45,383 - settings - Setting enable_python_native_blobs to True\n",
      "INFO - 2020-11-20 01:01:45,594 - settings - Setting enable_python_native_blobs to True\n"
     ]
    }
   ],
   "source": [
    "curr_seg_id = 864691135855647534\n",
    "pulled_mesh = du.fetch_segment_id_mesh(curr_seg_id)"
   ]
  },
  {
   "cell_type": "code",
   "execution_count": 7,
   "metadata": {},
   "outputs": [
    {
     "name": "stderr",
     "output_type": "stream",
     "text": [
      "INFO - 2020-11-20 00:56:29,483 - settings - Setting enable_python_native_blobs to True\n",
      "INFO - 2020-11-20 00:56:29,642 - settings - Setting enable_python_native_blobs to True\n"
     ]
    }
   ],
   "source": [
    "undec_mesh = du.fetch_undecimated_segment_id_mesh(curr_seg_id)"
   ]
  },
  {
   "cell_type": "code",
   "execution_count": 19,
   "metadata": {},
   "outputs": [
    {
     "name": "stderr",
     "output_type": "stream",
     "text": [
      "INFO - 2020-11-20 01:01:59,424 - settings - Setting database.host to at-database.ad.bcm.edu\n",
      "INFO - 2020-11-20 01:01:59,424 - settings - Setting database.user to celiib\n",
      "INFO - 2020-11-20 01:01:59,425 - settings - Setting database.password to newceliipass\n",
      "INFO - 2020-11-20 01:01:59,428 - settings - Setting enable_python_native_blobs to True\n",
      "INFO - 2020-11-20 01:01:59,620 - settings - Setting enable_python_native_blobs to True\n"
     ]
    },
    {
     "data": {
      "text/plain": [
       "[[<trimesh.Trimesh(vertices.shape=(38794, 3), faces.shape=(73257, 3))>],\n",
       " [203.7982],\n",
       " [0.611]]"
      ]
     },
     "execution_count": 19,
     "metadata": {},
     "output_type": "execute_result"
    }
   ],
   "source": [
    "du = reload(du)\n",
    "somas = du.get_soma_mesh_list(curr_seg_id)\n",
    "somas"
   ]
  },
  {
   "cell_type": "code",
   "execution_count": 20,
   "metadata": {},
   "outputs": [
    {
     "name": "stderr",
     "output_type": "stream",
     "text": [
      "/usr/local/lib/python3.6/dist-packages/traittypes/traittypes.py:101: UserWarning: Given trait value dtype \"float64\" does not match required type \"float64\". A coerced copy has been created.\n",
      "  np.dtype(self.dtype).name))\n"
     ]
    },
    {
     "data": {
      "application/vnd.jupyter.widget-view+json": {
       "model_id": "2b70664298884b38a670dc496a69b011",
       "version_major": 2,
       "version_minor": 0
      },
      "text/plain": [
       "VBox(children=(Figure(camera=PerspectiveCamera(fov=46.0, position=(0.0, 0.0, 2.0), quaternion=(0.0, 0.0, 0.0, …"
      ]
     },
     "metadata": {},
     "output_type": "display_data"
    }
   ],
   "source": [
    "nviz.plot_objects(meshes=somas[0])"
   ]
  },
  {
   "cell_type": "code",
   "execution_count": 21,
   "metadata": {},
   "outputs": [
    {
     "data": {
      "application/vnd.jupyter.widget-view+json": {
       "model_id": "99377b9241db4407890968849966ee3c",
       "version_major": 2,
       "version_minor": 0
      },
      "text/plain": [
       "VBox(children=(Figure(camera=PerspectiveCamera(fov=46.0, position=(0.0, 0.0, 2.0), quaternion=(0.0, 0.0, 0.0, …"
      ]
     },
     "metadata": {},
     "output_type": "display_data"
    }
   ],
   "source": [
    "import neuron_visualizations as nviz\n",
    "nviz.plot_objects(pulled_mesh)"
   ]
  },
  {
   "cell_type": "code",
   "execution_count": null,
   "metadata": {},
   "outputs": [],
   "source": [
    "tu.largest_hole_length(soma_info[0][0])"
   ]
  },
  {
   "cell_type": "code",
   "execution_count": null,
   "metadata": {},
   "outputs": [],
   "source": [
    "sm = reload(sm)\n",
    "soma_info = sm.extract_soma_center(curr_seg_id,\n",
    "                      current_mesh_verts=pulled_mesh.vertices,\n",
    "                      current_mesh_faces=pulled_mesh.faces)"
   ]
  },
  {
   "cell_type": "code",
   "execution_count": null,
   "metadata": {},
   "outputs": [],
   "source": [
    "soma_info"
   ]
  },
  {
   "cell_type": "code",
   "execution_count": null,
   "metadata": {},
   "outputs": [],
   "source": []
  },
  {
   "cell_type": "code",
   "execution_count": null,
   "metadata": {},
   "outputs": [],
   "source": [
    "nviz.plot_objects(meshes=soma_info[0])"
   ]
  },
  {
   "cell_type": "code",
   "execution_count": null,
   "metadata": {},
   "outputs": [],
   "source": []
  }
 ],
 "metadata": {
  "kernelspec": {
   "display_name": "Python 3",
   "language": "python",
   "name": "python3"
  },
  "language_info": {
   "codemirror_mode": {
    "name": "ipython",
    "version": 3
   },
   "file_extension": ".py",
   "mimetype": "text/x-python",
   "name": "python",
   "nbconvert_exporter": "python",
   "pygments_lexer": "ipython3",
   "version": "3.6.9"
  }
 },
 "nbformat": 4,
 "nbformat_minor": 4
}
