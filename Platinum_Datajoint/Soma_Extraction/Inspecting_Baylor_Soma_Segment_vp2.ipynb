{
 "cells": [
  {
   "cell_type": "code",
   "execution_count": null,
   "metadata": {},
   "outputs": [],
   "source": [
    "\"\"\"\n",
    "Purpose: To check on the status of the soma finder\n",
    "\n",
    "\n",
    "\"\"\""
   ]
  },
  {
   "cell_type": "code",
   "execution_count": 1,
   "metadata": {},
   "outputs": [],
   "source": [
    "import numpy as np\n",
    "import datajoint as dj\n",
    "import trimesh\n",
    "from tqdm.notebook import tqdm\n",
    "from pathlib import Path\n",
    "\n",
    "from os import sys\n",
    "sys.path.append(\"/meshAfterParty/\")\n",
    "\n",
    "import datajoint_utils as du\n",
    "from importlib import reload"
   ]
  },
  {
   "cell_type": "code",
   "execution_count": 193,
   "metadata": {},
   "outputs": [
    {
     "name": "stderr",
     "output_type": "stream",
     "text": [
      "INFO - 2020-11-22 07:06:30,918 - settings - Setting database.host to at-database.ad.bcm.edu\n",
      "INFO - 2020-11-22 07:06:30,920 - settings - Setting database.user to celiib\n",
      "INFO - 2020-11-22 07:06:30,921 - settings - Setting database.password to newceliipass\n",
      "INFO - 2020-11-22 07:06:30,923 - settings - Setting database.host to at-database.ad.bcm.edu\n",
      "INFO - 2020-11-22 07:06:30,924 - settings - Setting database.user to celiib\n",
      "INFO - 2020-11-22 07:06:30,926 - settings - Setting database.password to newceliipass\n",
      "INFO - 2020-11-22 07:06:30,931 - settings - Setting enable_python_native_blobs to True\n"
     ]
    },
    {
     "name": "stdout",
     "output_type": "stream",
     "text": [
      "Current path for external_segmentation_path = /mnt/dj-stor01/platinum/minnie65/02\n",
      "Current path for external_mesh_path = /mnt/dj-stor01/platinum/minnie65/02/meshes\n",
      "Current path for external_decimated_mesh_path = /mnt/dj-stor01/platinum/minnie65/02/decimated_meshes\n",
      "Current path for external_skeleton_path = /mnt/dj-stor01/platinum/minnie65/02/skeletons\n"
     ]
    },
    {
     "name": "stderr",
     "output_type": "stream",
     "text": [
      "INFO - 2020-11-22 07:06:31,161 - settings - Setting enable_python_native_blobs to True\n"
     ]
    }
   ],
   "source": [
    "import minfig\n",
    "du = reload(du)\n",
    "du.config_celii()\n",
    "du.set_minnie65_config_segmentation(minfig)\n",
    "du.print_minnie65_config_paths(minfig)\n",
    "\n",
    "#configuring will include the adapters\n",
    "minnie,schema = du.configure_minnie_vm()"
   ]
  },
  {
   "cell_type": "markdown",
   "metadata": {},
   "source": [
    "# Inspecting the Decimation"
   ]
  },
  {
   "cell_type": "code",
   "execution_count": 143,
   "metadata": {},
   "outputs": [],
   "source": [
    "(schema.jobs & \"table_name='__decimation'\").delete()"
   ]
  },
  {
   "cell_type": "code",
   "execution_count": 88,
   "metadata": {},
   "outputs": [
    {
     "data": {
      "text/plain": [
       "114306"
      ]
     },
     "execution_count": 88,
     "metadata": {},
     "output_type": "execute_result"
    }
   ],
   "source": [
    "len(minnie.Mesh() & minnie.SegToDecimateFromNuclei())"
   ]
  },
  {
   "cell_type": "code",
   "execution_count": 142,
   "metadata": {},
   "outputs": [
    {
     "data": {
      "text/plain": [
       "1"
      ]
     },
     "execution_count": 142,
     "metadata": {},
     "output_type": "execute_result"
    }
   ],
   "source": [
    "decimation_version = 0\n",
    "decimation_ratio = 0.25\n",
    "len(minnie.Decimation().proj(decimation_version='version') & \"decimation_version=\" + str(decimation_version) &\n",
    "                   f\"decimation_ratio={decimation_ratio}\" & minnie.SegToDecimateFromNuclei() ) - 114201"
   ]
  },
  {
   "cell_type": "markdown",
   "metadata": {},
   "source": [
    "# Inspecting the Soma Extraction"
   ]
  },
  {
   "cell_type": "code",
   "execution_count": 164,
   "metadata": {},
   "outputs": [],
   "source": [
    "(schema.jobs & 'table_name=\"__baylor_segment_centroid\"').delete()"
   ]
  },
  {
   "cell_type": "code",
   "execution_count": 96,
   "metadata": {},
   "outputs": [
    {
     "data": {
      "text/plain": [
       "87437"
      ]
     },
     "execution_count": 96,
     "metadata": {},
     "output_type": "execute_result"
    }
   ],
   "source": [
    "decimation_version = 0\n",
    "decimation_ratio = 0.25\n",
    "verts_min = 10000\n",
    "\n",
    "key_source =  ((minnie.Decimation & f\"n_vertices > {verts_min}\").proj(decimation_version='version') & \n",
    "                        \"decimation_version=\" + str(decimation_version) &\n",
    "                   f\"decimation_ratio={decimation_ratio}\" & minnie.SegToDecimateFromNuclei())\n",
    "len(key_source)"
   ]
  },
  {
   "cell_type": "code",
   "execution_count": 167,
   "metadata": {},
   "outputs": [
    {
     "data": {
      "text/plain": [
       "356"
      ]
     },
     "execution_count": 167,
     "metadata": {},
     "output_type": "execute_result"
    }
   ],
   "source": [
    "len(key_source) - len(key_source.proj() & (minnie.BaylorSegmentCentroid()).proj())"
   ]
  },
  {
   "cell_type": "code",
   "execution_count": null,
   "metadata": {},
   "outputs": [],
   "source": [
    "len(minnie.BaylorSegmentCentroid() & \"multiplicity>0\")/len(minnie.BaylorSegmentCentroid())*len(key_source)"
   ]
  },
  {
   "cell_type": "markdown",
   "metadata": {},
   "source": [
    "# Chccking the current progress of Soma Extraction"
   ]
  },
  {
   "cell_type": "code",
   "execution_count": 166,
   "metadata": {},
   "outputs": [
    {
     "data": {
      "text/plain": [
       "{'segment_id': 864691134026921572,\n",
       " 'decimation_version': 0,\n",
       " 'decimation_ratio': Decimal('0.25'),\n",
       " 'soma_index': 0,\n",
       " 'centroid_x': None,\n",
       " 'centroid_y': None,\n",
       " 'centroid_z': None,\n",
       " 'n_vertices': 0,\n",
       " 'n_faces': 0,\n",
       " 'soma_vertices': None,\n",
       " 'soma_faces': None,\n",
       " 'multiplicity': 0,\n",
       " 'sdf': None,\n",
       " 'max_side_ratio': None,\n",
       " 'bbox_volume_ratio': None,\n",
       " 'max_hole_length': None,\n",
       " 'run_time': 51.24646282196045}"
      ]
     },
     "execution_count": 166,
     "metadata": {},
     "output_type": "execute_result"
    }
   ],
   "source": [
    "my_key = (minnie.BaylorSegmentCentroid() & \"segment_id=864691134026921572\").fetch1()\n",
    "my_key"
   ]
  },
  {
   "cell_type": "code",
   "execution_count": null,
   "metadata": {},
   "outputs": [],
   "source": [
    "\"\"\"\n",
    "\n",
    "\n",
    "\n",
    "\"\"\""
   ]
  },
  {
   "cell_type": "code",
   "execution_count": 192,
   "metadata": {},
   "outputs": [
    {
     "name": "stdout",
     "output_type": "stream",
     "text": [
      "# Decimated meshes\n",
      "-> minnie.Mesh\n",
      "-> minnie.DecimationConfig\n",
      "---\n",
      "n_vertices           : bigint                       \n",
      "n_faces              : bigint                       \n",
      "mesh                 : <decimated_mesh>             # in-place path to the hdf5 (decimated) mesh file\n",
      "INDEX (mesh)\n",
      "\n"
     ]
    },
    {
     "data": {
      "text/plain": [
       "'# Decimated meshes\\n-> minnie.Mesh\\n-> minnie.DecimationConfig\\n---\\nn_vertices           : bigint                       \\nn_faces              : bigint                       \\nmesh                 : <decimated_mesh>             # in-place path to the hdf5 (decimated) mesh file\\nINDEX (mesh)\\n'"
      ]
     },
     "execution_count": 192,
     "metadata": {},
     "output_type": "execute_result"
    }
   ],
   "source": [
    "minnie.Decimation.describe()"
   ]
  },
  {
   "cell_type": "code",
   "execution_count": 195,
   "metadata": {},
   "outputs": [
    {
     "data": {
      "text/html": [
       "\n",
       "        \n",
       "        <style type=\"text/css\">\n",
       "            .Relation{\n",
       "                border-collapse:collapse;\n",
       "            }\n",
       "            .Relation th{\n",
       "                background: #A0A0A0; color: #ffffff; padding:4px; border:#f0e0e0 1px solid;\n",
       "                font-weight: normal; font-family: monospace; font-size: 100%;\n",
       "            }\n",
       "            .Relation td{\n",
       "                padding:4px; border:#f0e0e0 1px solid; font-size:100%;\n",
       "            }\n",
       "            .Relation tr:nth-child(odd){\n",
       "                background: #ffffff;\n",
       "            }\n",
       "            .Relation tr:nth-child(even){\n",
       "                background: #f3f1ff;\n",
       "            }\n",
       "            /* Tooltip container */\n",
       "            .djtooltip {\n",
       "            }\n",
       "            /* Tooltip text */\n",
       "            .djtooltip .djtooltiptext {\n",
       "                visibility: hidden;\n",
       "                width: 120px;\n",
       "                background-color: black;\n",
       "                color: #fff;\n",
       "                text-align: center;\n",
       "                padding: 5px 0;\n",
       "                border-radius: 6px;\n",
       "                /* Position the tooltip text - see examples below! */\n",
       "                position: absolute;\n",
       "                z-index: 1;\n",
       "            }\n",
       "            #primary {\n",
       "                font-weight: bold;\n",
       "                color: black;\n",
       "            }\n",
       "\n",
       "            #nonprimary {\n",
       "                font-weight: normal;\n",
       "                color: white;\n",
       "            }\n",
       "\n",
       "            /* Show the tooltip text when you mouse over the tooltip container */\n",
       "            .djtooltip:hover .djtooltiptext {\n",
       "                visibility: visible;\n",
       "            }\n",
       "        </style>\n",
       "        \n",
       "        <b></b>\n",
       "            <div style=\"max-height:1000px;max-width:1500px;overflow:auto;\">\n",
       "            <table border=\"1\" class=\"Relation\">\n",
       "                <thead> <tr style=\"text-align: right;\"> <th> <div class=\"djtooltip\">\n",
       "                                <p id=\"primary\">segment_id</p>\n",
       "                                <span class=\"djtooltiptext\">segment id unique within each Segmentation</span>\n",
       "                            </div></th><th><div class=\"djtooltip\">\n",
       "                                <p id=\"primary\">decimation_version</p>\n",
       "                                <span class=\"djtooltiptext\"></span>\n",
       "                            </div></th><th><div class=\"djtooltip\">\n",
       "                                <p id=\"primary\">decimation_ratio</p>\n",
       "                                <span class=\"djtooltiptext\">ratio of remaining mesh vertices/faces (which ones depends on what metric the decimation technique uses)</span>\n",
       "                            </div></th><th><div class=\"djtooltip\">\n",
       "                                <p id=\"primary\">soma_index</p>\n",
       "                                <span class=\"djtooltiptext\">index given to this soma to account for multiple somas in one base semgnet</span>\n",
       "                            </div></th><th><div class=\"djtooltip\">\n",
       "                                <p id=\"nonprimary\">centroid_x</p>\n",
       "                                <span class=\"djtooltiptext\">(EM voxels)</span>\n",
       "                            </div></th><th><div class=\"djtooltip\">\n",
       "                                <p id=\"nonprimary\">centroid_y</p>\n",
       "                                <span class=\"djtooltiptext\">(EM voxels)</span>\n",
       "                            </div></th><th><div class=\"djtooltip\">\n",
       "                                <p id=\"nonprimary\">centroid_z</p>\n",
       "                                <span class=\"djtooltiptext\">(EM voxels)</span>\n",
       "                            </div></th><th><div class=\"djtooltip\">\n",
       "                                <p id=\"nonprimary\">n_vertices</p>\n",
       "                                <span class=\"djtooltiptext\">number of vertices</span>\n",
       "                            </div></th><th><div class=\"djtooltip\">\n",
       "                                <p id=\"nonprimary\">n_faces</p>\n",
       "                                <span class=\"djtooltiptext\">number of faces</span>\n",
       "                            </div></th><th><div class=\"djtooltip\">\n",
       "                                <p id=\"nonprimary\">mesh</p>\n",
       "                                <span class=\"djtooltiptext\">datajoint adapter to get the somas mesh objects</span>\n",
       "                            </div></th><th><div class=\"djtooltip\">\n",
       "                                <p id=\"nonprimary\">multiplicity</p>\n",
       "                                <span class=\"djtooltiptext\">the number of somas found for this base segment</span>\n",
       "                            </div></th><th><div class=\"djtooltip\">\n",
       "                                <p id=\"nonprimary\">sdf</p>\n",
       "                                <span class=\"djtooltiptext\">sdf width value for the soma</span>\n",
       "                            </div></th><th><div class=\"djtooltip\">\n",
       "                                <p id=\"nonprimary\">max_side_ratio</p>\n",
       "                                <span class=\"djtooltiptext\">the maximum of the side length ratios used for check if soma</span>\n",
       "                            </div></th><th><div class=\"djtooltip\">\n",
       "                                <p id=\"nonprimary\">bbox_volume_ratio</p>\n",
       "                                <span class=\"djtooltiptext\">ratio of bbox (axis aligned) volume to mesh volume to use for check if soma</span>\n",
       "                            </div></th><th><div class=\"djtooltip\">\n",
       "                                <p id=\"nonprimary\">max_hole_length</p>\n",
       "                                <span class=\"djtooltiptext\">euclidean distance of the maximum hole size</span>\n",
       "                            </div></th><th><div class=\"djtooltip\">\n",
       "                                <p id=\"nonprimary\">run_time</p>\n",
       "                                <span class=\"djtooltiptext\">the amount of time to run (seconds)</span>\n",
       "                            </div> </th> </tr> </thead>\n",
       "                <tbody> <tr> <td>864691134026921572</td>\n",
       "<td>0</td>\n",
       "<td>0.25</td>\n",
       "<td>0</td>\n",
       "<td>None</td>\n",
       "<td>None</td>\n",
       "<td>None</td>\n",
       "<td>0</td>\n",
       "<td>0</td>\n",
       "<td>=BLOB=</td>\n",
       "<td>0</td>\n",
       "<td>nan</td>\n",
       "<td>nan</td>\n",
       "<td>nan</td>\n",
       "<td>nan</td>\n",
       "<td>51.24646282196045</td> </tr> </tbody>\n",
       "            </table>\n",
       "            \n",
       "            <p>Total: 1</p></div>\n",
       "            "
      ],
      "text/plain": [
       "*segment_id    *decimation_ve *decimation_ra *soma_index    centroid_x     centroid_y     centroid_z     n_vertices     n_faces     mesh       multiplicity   sdf     max_side_ratio bbox_volume_ra max_hole_lengt run_time      \n",
       "+------------+ +------------+ +------------+ +------------+ +------------+ +------------+ +------------+ +------------+ +---------+ +--------+ +------------+ +-----+ +------------+ +------------+ +------------+ +------------+\n",
       "86469113402692 0              0.25           0              None           None           None           0              0           =BLOB=     0              nan     nan            nan            nan            51.24646282196\n",
       " (Total: 1)"
      ]
     },
     "execution_count": 195,
     "metadata": {},
     "output_type": "execute_result"
    }
   ],
   "source": [
    "minnie.BaylorSegmentCentroidExternal & \"segment_id=864691134026921572\""
   ]
  },
  {
   "cell_type": "code",
   "execution_count": 228,
   "metadata": {},
   "outputs": [
    {
     "data": {
      "text/plain": [
       "91832"
      ]
     },
     "execution_count": 228,
     "metadata": {},
     "output_type": "execute_result"
    }
   ],
   "source": [
    "len(minnie.BaylorSegmentCentroid())"
   ]
  },
  {
   "cell_type": "code",
   "execution_count": 254,
   "metadata": {
    "scrolled": true
   },
   "outputs": [
    {
     "data": {
      "text/plain": [
       "91832"
      ]
     },
     "execution_count": 254,
     "metadata": {},
     "output_type": "execute_result"
    }
   ],
   "source": [
    "len(minnie.BaylorSegmentCentroidExternal())"
   ]
  },
  {
   "cell_type": "code",
   "execution_count": 178,
   "metadata": {},
   "outputs": [],
   "source": [
    "p = Path('/mnt/dj-stor01/platinum/minnie65/02/somas/')"
   ]
  },
  {
   "cell_type": "code",
   "execution_count": 180,
   "metadata": {},
   "outputs": [],
   "source": [
    "for f in p.iterdir():\n",
    "    f.unlink()"
   ]
  },
  {
   "cell_type": "code",
   "execution_count": 239,
   "metadata": {},
   "outputs": [],
   "source": [
    "no_soma_seg_id = (minnie.Decimation() & (minnie.BaylorSegmentCentroidExternal & \"multiplicity=0\").proj() & \"n_vertices>50000\").fetch(\"segment_id\")"
   ]
  },
  {
   "cell_type": "code",
   "execution_count": 260,
   "metadata": {},
   "outputs": [],
   "source": [
    "curr_seg_id = no_soma_seg_id[200]"
   ]
  },
  {
   "cell_type": "code",
   "execution_count": 261,
   "metadata": {},
   "outputs": [
    {
     "name": "stderr",
     "output_type": "stream",
     "text": [
      "INFO - 2020-11-22 08:54:28,429 - settings - Setting enable_python_native_blobs to True\n",
      "INFO - 2020-11-22 08:54:28,780 - settings - Setting enable_python_native_blobs to True\n",
      "INFO - 2020-11-22 08:54:30,412 - settings - Setting enable_python_native_blobs to True\n",
      "INFO - 2020-11-22 08:54:30,759 - settings - Setting enable_python_native_blobs to True\n",
      "INFO - 2020-11-22 08:54:30,770 - settings - Setting enable_python_native_blobs to True\n",
      "INFO - 2020-11-22 08:54:31,108 - settings - Setting enable_python_native_blobs to True\n",
      "/usr/local/lib/python3.6/dist-packages/traittypes/traittypes.py:101: UserWarning: Given trait value dtype \"float64\" does not match required type \"float64\". A coerced copy has been created.\n",
      "  np.dtype(self.dtype).name))\n"
     ]
    },
    {
     "data": {
      "application/vnd.jupyter.widget-view+json": {
       "model_id": "a50ee9c6802c4300a9182f11982bff7f",
       "version_major": 2,
       "version_minor": 0
      },
      "text/plain": [
       "VBox(children=(Figure(camera=PerspectiveCamera(fov=46.0, position=(0.0, 0.0, 2.0), quaternion=(0.0, 0.0, 0.0, …"
      ]
     },
     "metadata": {},
     "output_type": "display_data"
    }
   ],
   "source": [
    "du.plot_decimated_mesh_with_somas(curr_seg_id)"
   ]
  },
  {
   "cell_type": "code",
   "execution_count": 262,
   "metadata": {},
   "outputs": [
    {
     "name": "stderr",
     "output_type": "stream",
     "text": [
      "INFO - 2020-11-22 08:54:31,201 - settings - Setting enable_python_native_blobs to True\n",
      "INFO - 2020-11-22 08:54:31,553 - settings - Setting enable_python_native_blobs to True\n"
     ]
    }
   ],
   "source": [
    "curr_mesh = du.fetch_segment_id_mesh(curr_seg_id)"
   ]
  },
  {
   "cell_type": "code",
   "execution_count": 263,
   "metadata": {},
   "outputs": [
    {
     "name": "stdout",
     "output_type": "stream",
     "text": [
      "Current Arguments Using (adjusted for decimation):\n",
      " large_mesh_threshold= 5000.0 \n",
      "large_mesh_threshold_inner = 5000.0 \n",
      "soma_size_threshold = 937.5 \n",
      "soma_size_threshold_max = 12000.0\n",
      "outer_decimation_ratio = 0.25\n",
      "inner_decimation_ratio = 0.25\n",
      "xvfb-run -n 4775 -s \"-screen 0 800x600x24\" meshlabserver $@  -i /notebooks/Platinum_Datajoint/Soma_Extraction/temp/neuron_26909.off -o /notebooks/Platinum_Datajoint/Soma_Extraction/temp/neuron_26909_fill_holes.off -s /notebooks/Platinum_Datajoint/Soma_Extraction/temp/fill_holes_644082.mls\n",
      "\n",
      "---- meshlab output -----\n",
      "QStandardPaths: XDG_RUNTIME_DIR not set, defaulting to '/tmp/runtime-root'\n",
      "Current Plugins Dir is: /meshlab/src/distrib/plugins \n",
      "Error While parsing the XML filter plugin descriptors: We are trying to load a xml file that does not correspond to any dll or javascript code; please delete all the spurious xml files\n",
      "Error While parsing the XML filter plugin descriptors: We are trying to load a xml file that does not correspond to any dll or javascript code; please delete all the spurious xml files\n",
      "Opening a file with extention off\n",
      "FilterScript\n",
      "Reading filter with name Remove Duplicate Vertices\n",
      "Reading filter with name Remove Faces from Non Manifold Edges\n",
      "Reading filter with name Close Holes\n",
      "    Reading Param with name MaxHoleSize : RichInt\n",
      "    Reading Param with name Selected : RichBool\n",
      "    Reading Param with name NewFaceSelected : RichBool\n",
      "    Reading Param with name SelfIntersection : RichBool\n",
      "Loading Plugins:\n",
      "Total 104 filtering actions\n",
      "Total 1 io plugins\n",
      "Mesh /notebooks/Platinum_Datajoint/Soma_Extraction/temp/neuron_26909.off loaded has 121883 vn 263933 fn\n",
      "output mesh  /notebooks/Platinum_Datajoint/Soma_Extraction/temp/neuron_26909_fill_holes.off\n",
      "Apply FilterScript: '/notebooks/Platinum_Datajoint/Soma_Extraction/temp/fill_holes_644082.mls'\n",
      "Starting Script of 3 actionsfilter: Remove Duplicate Vertices\n",
      "no additional memory available!!! memory required: 6092388\n",
      "LOG: 2 Removed 0 duplicated vertices\n",
      "Removed 0 duplicated vertices\n",
      "filter: Remove Faces from Non Manifold Edges\n",
      "no additional memory available!!! memory required: 6092388\n",
      "LOG: 2 Successfully removed 18462 non-manifold faces\n",
      "Removed 0 duplicated vertices\n",
      "Successfully removed 18462 non-manifold faces\n",
      "filter: Close Holes\n",
      "no additional memory available!!! memory required: 5870844\n",
      "meshlabserver: ../../../../vcglib/vcg/complex/algorithms/hole.h:259: bool vcg::tri::TrivialEar<MESH>::Close(vcg::tri::TrivialEar<MESH>::PosType&, vcg::tri::TrivialEar<MESH>::PosType&, vcg::tri::TrivialEar<MESH>::FaceType*) [with MESH = CMeshO; vcg::tri::TrivialEar<MESH>::PosType = vcg::face::Pos<CFaceO>; typename MeshType::FaceType = CFaceO; vcg::tri::TrivialEar<MESH>::FaceType = CFaceO]: Assertion `e1.v->IsUserBit(NonManifoldBit())' failed.\n",
      "Aborted (core dumped)\n",
      "\n",
      "\n",
      " returncode ====== 134\n",
      "\n",
      " ------ Done with meshlab output------\n",
      "/notebooks/Platinum_Datajoint/Soma_Extraction/temp/fill_holes_644082.mls is being deleted....\n",
      "The hole closing did not work so continuing without\n",
      "xvfb-run -n 1814 -s \"-screen 0 800x600x24\" meshlabserver $@  -i /notebooks/Platinum_Datajoint/Soma_Extraction/temp/neuron_27658.off -o /notebooks/Platinum_Datajoint/Soma_Extraction/temp/neuron_27658_remove_interior.off -s /notebooks/Platinum_Datajoint/Soma_Extraction/temp/remove_interior_952584.mls\n",
      "removed temporary input file: /notebooks/Platinum_Datajoint/Soma_Extraction/temp/neuron_27658.off\n",
      "removed temporary output file: /notebooks/Platinum_Datajoint/Soma_Extraction/temp/neuron_27658_remove_interior.off\n",
      "/notebooks/Platinum_Datajoint/Soma_Extraction/temp/remove_interior_952584.mls is being deleted....\n"
     ]
    },
    {
     "name": "stderr",
     "output_type": "stream",
     "text": [
      "WARNING - 2020-11-22 08:54:57,631 - base - face_normals all zero, ignoring!\n",
      "WARNING - 2020-11-22 08:54:57,632 - base - face_normals all zero, ignoring!\n",
      "WARNING - 2020-11-22 08:54:57,649 - base - face_normals all zero, ignoring!\n",
      "WARNING - 2020-11-22 08:54:57,650 - base - face_normals all zero, ignoring!\n",
      "WARNING - 2020-11-22 08:54:57,783 - base - face_normals all zero, ignoring!\n",
      "WARNING - 2020-11-22 08:54:57,785 - base - face_normals all zero, ignoring!\n",
      "WARNING - 2020-11-22 08:54:57,807 - base - face_normals all zero, ignoring!\n",
      "WARNING - 2020-11-22 08:54:57,858 - base - face_normals all zero, ignoring!\n",
      "WARNING - 2020-11-22 08:54:57,861 - base - face_normals all zero, ignoring!\n",
      "WARNING - 2020-11-22 08:54:57,936 - base - face_normals all zero, ignoring!\n",
      "WARNING - 2020-11-22 08:54:57,938 - base - face_normals all zero, ignoring!\n",
      "WARNING - 2020-11-22 08:54:57,950 - base - face_normals all zero, ignoring!\n",
      "WARNING - 2020-11-22 08:54:57,963 - base - face_normals all zero, ignoring!\n",
      "WARNING - 2020-11-22 08:54:57,976 - base - face_normals all zero, ignoring!\n",
      "WARNING - 2020-11-22 08:54:57,979 - base - face_normals all zero, ignoring!\n",
      "WARNING - 2020-11-22 08:54:57,984 - base - face_normals all zero, ignoring!\n",
      "WARNING - 2020-11-22 08:54:58,015 - base - face_normals all zero, ignoring!\n",
      "WARNING - 2020-11-22 08:54:58,069 - base - face_normals all zero, ignoring!\n",
      "WARNING - 2020-11-22 08:54:58,106 - base - face_normals all zero, ignoring!\n",
      "WARNING - 2020-11-22 08:54:58,107 - base - face_normals all zero, ignoring!\n",
      "WARNING - 2020-11-22 08:54:58,224 - base - face_normals all zero, ignoring!\n",
      "WARNING - 2020-11-22 08:54:58,226 - base - face_normals all zero, ignoring!\n",
      "WARNING - 2020-11-22 08:54:58,228 - base - face_normals all zero, ignoring!\n",
      "WARNING - 2020-11-22 08:54:58,229 - base - face_normals all zero, ignoring!\n",
      "WARNING - 2020-11-22 08:54:58,257 - base - face_normals all zero, ignoring!\n",
      "WARNING - 2020-11-22 08:54:58,262 - base - face_normals all zero, ignoring!\n",
      "WARNING - 2020-11-22 08:54:58,265 - base - face_normals all zero, ignoring!\n",
      "WARNING - 2020-11-22 08:54:58,266 - base - face_normals all zero, ignoring!\n",
      "WARNING - 2020-11-22 08:54:58,289 - base - face_normals all zero, ignoring!\n",
      "WARNING - 2020-11-22 08:54:58,290 - base - face_normals all zero, ignoring!\n",
      "WARNING - 2020-11-22 08:54:58,297 - base - face_normals all zero, ignoring!\n",
      "WARNING - 2020-11-22 08:54:58,305 - base - face_normals all zero, ignoring!\n",
      "WARNING - 2020-11-22 08:54:58,327 - base - face_normals all zero, ignoring!\n",
      "WARNING - 2020-11-22 08:54:58,345 - base - face_normals all zero, ignoring!\n",
      "WARNING - 2020-11-22 08:54:58,394 - base - face_normals all zero, ignoring!\n",
      "WARNING - 2020-11-22 08:54:58,396 - base - face_normals all zero, ignoring!\n",
      "WARNING - 2020-11-22 08:54:58,398 - base - face_normals all zero, ignoring!\n",
      "WARNING - 2020-11-22 08:54:58,399 - base - face_normals all zero, ignoring!\n",
      "WARNING - 2020-11-22 08:54:58,404 - base - face_normals all zero, ignoring!\n",
      "WARNING - 2020-11-22 08:54:58,405 - base - face_normals all zero, ignoring!\n",
      "WARNING - 2020-11-22 08:54:58,408 - base - face_normals all zero, ignoring!\n",
      "WARNING - 2020-11-22 08:54:58,409 - base - face_normals all zero, ignoring!\n",
      "WARNING - 2020-11-22 08:54:58,415 - base - face_normals all zero, ignoring!\n",
      "WARNING - 2020-11-22 08:54:58,417 - base - face_normals all zero, ignoring!\n",
      "WARNING - 2020-11-22 08:54:58,418 - base - face_normals all zero, ignoring!\n",
      "WARNING - 2020-11-22 08:54:58,420 - base - face_normals all zero, ignoring!\n",
      "WARNING - 2020-11-22 08:54:58,422 - base - face_normals all zero, ignoring!\n",
      "WARNING - 2020-11-22 08:54:58,424 - base - face_normals all zero, ignoring!\n",
      "WARNING - 2020-11-22 08:54:58,512 - base - face_normals all zero, ignoring!\n",
      "WARNING - 2020-11-22 08:54:58,517 - base - face_normals all zero, ignoring!\n",
      "WARNING - 2020-11-22 08:54:58,521 - base - face_normals all zero, ignoring!\n",
      "WARNING - 2020-11-22 08:54:58,523 - base - face_normals all zero, ignoring!\n",
      "WARNING - 2020-11-22 08:54:58,528 - base - face_normals all zero, ignoring!\n",
      "WARNING - 2020-11-22 08:54:58,529 - base - face_normals all zero, ignoring!\n",
      "WARNING - 2020-11-22 08:54:58,533 - base - face_normals all zero, ignoring!\n",
      "WARNING - 2020-11-22 08:54:58,536 - base - face_normals all zero, ignoring!\n",
      "WARNING - 2020-11-22 08:54:58,559 - base - face_normals all zero, ignoring!\n",
      "WARNING - 2020-11-22 08:54:58,581 - base - face_normals all zero, ignoring!\n",
      "WARNING - 2020-11-22 08:54:58,584 - base - face_normals all zero, ignoring!\n",
      "WARNING - 2020-11-22 08:54:58,600 - base - face_normals all zero, ignoring!\n",
      "WARNING - 2020-11-22 08:54:58,601 - base - face_normals all zero, ignoring!\n",
      "WARNING - 2020-11-22 08:54:58,604 - base - face_normals all zero, ignoring!\n",
      "WARNING - 2020-11-22 08:54:58,605 - base - face_normals all zero, ignoring!\n",
      "WARNING - 2020-11-22 08:54:58,608 - base - face_normals all zero, ignoring!\n",
      "WARNING - 2020-11-22 08:54:58,610 - base - face_normals all zero, ignoring!\n",
      "WARNING - 2020-11-22 08:54:58,611 - base - face_normals all zero, ignoring!\n",
      "WARNING - 2020-11-22 08:54:58,619 - base - face_normals all zero, ignoring!\n",
      "WARNING - 2020-11-22 08:54:58,621 - base - face_normals all zero, ignoring!\n",
      "WARNING - 2020-11-22 08:54:58,623 - base - face_normals all zero, ignoring!\n",
      "WARNING - 2020-11-22 08:54:58,637 - base - face_normals all zero, ignoring!\n",
      "WARNING - 2020-11-22 08:54:58,639 - base - face_normals all zero, ignoring!\n",
      "WARNING - 2020-11-22 08:54:58,645 - base - face_normals all zero, ignoring!\n",
      "WARNING - 2020-11-22 08:54:58,646 - base - face_normals all zero, ignoring!\n",
      "WARNING - 2020-11-22 08:54:58,718 - base - face_normals all zero, ignoring!\n",
      "WARNING - 2020-11-22 08:54:58,722 - base - face_normals all zero, ignoring!\n",
      "WARNING - 2020-11-22 08:54:58,732 - base - face_normals all zero, ignoring!\n",
      "WARNING - 2020-11-22 08:54:58,735 - base - face_normals all zero, ignoring!\n",
      "WARNING - 2020-11-22 08:54:58,737 - base - face_normals all zero, ignoring!\n",
      "WARNING - 2020-11-22 08:54:58,738 - base - face_normals all zero, ignoring!\n",
      "WARNING - 2020-11-22 08:54:58,774 - base - face_normals all zero, ignoring!\n",
      "WARNING - 2020-11-22 08:54:58,774 - base - face_normals all zero, ignoring!\n",
      "WARNING - 2020-11-22 08:54:58,778 - base - face_normals all zero, ignoring!\n",
      "WARNING - 2020-11-22 08:54:58,779 - base - face_normals all zero, ignoring!\n",
      "WARNING - 2020-11-22 08:54:58,933 - base - face_normals all zero, ignoring!\n",
      "WARNING - 2020-11-22 08:54:58,937 - base - face_normals all zero, ignoring!\n",
      "WARNING - 2020-11-22 08:54:58,995 - base - face_normals all zero, ignoring!\n",
      "WARNING - 2020-11-22 08:54:58,999 - base - face_normals all zero, ignoring!\n",
      "WARNING - 2020-11-22 08:54:59,013 - base - face_normals all zero, ignoring!\n",
      "WARNING - 2020-11-22 08:54:59,016 - base - face_normals all zero, ignoring!\n",
      "WARNING - 2020-11-22 08:54:59,068 - base - face_normals all zero, ignoring!\n",
      "WARNING - 2020-11-22 08:54:59,091 - base - face_normals all zero, ignoring!\n",
      "WARNING - 2020-11-22 08:54:59,092 - base - face_normals all zero, ignoring!\n",
      "WARNING - 2020-11-22 08:54:59,399 - base - face_normals all zero, ignoring!\n",
      "WARNING - 2020-11-22 08:54:59,401 - base - face_normals all zero, ignoring!\n",
      "WARNING - 2020-11-22 08:54:59,402 - base - face_normals all zero, ignoring!\n",
      "WARNING - 2020-11-22 08:54:59,457 - base - face_normals all zero, ignoring!\n",
      "WARNING - 2020-11-22 08:54:59,458 - base - face_normals all zero, ignoring!\n",
      "WARNING - 2020-11-22 08:54:59,460 - base - face_normals all zero, ignoring!\n",
      "WARNING - 2020-11-22 08:54:59,461 - base - face_normals all zero, ignoring!\n",
      "WARNING - 2020-11-22 08:54:59,671 - base - face_normals all zero, ignoring!\n",
      "WARNING - 2020-11-22 08:54:59,674 - base - face_normals all zero, ignoring!\n",
      "WARNING - 2020-11-22 08:54:59,701 - base - face_normals all zero, ignoring!\n",
      "WARNING - 2020-11-22 08:54:59,712 - base - face_normals all zero, ignoring!\n",
      "WARNING - 2020-11-22 08:54:59,713 - base - face_normals all zero, ignoring!\n",
      "WARNING - 2020-11-22 08:54:59,731 - base - face_normals all zero, ignoring!\n",
      "WARNING - 2020-11-22 08:54:59,734 - base - face_normals all zero, ignoring!\n",
      "WARNING - 2020-11-22 08:54:59,740 - base - face_normals all zero, ignoring!\n",
      "WARNING - 2020-11-22 08:54:59,746 - base - face_normals all zero, ignoring!\n"
     ]
    },
    {
     "name": "stderr",
     "output_type": "stream",
     "text": [
      "WARNING - 2020-11-22 08:54:59,755 - base - face_normals all zero, ignoring!\n",
      "WARNING - 2020-11-22 08:54:59,758 - base - face_normals all zero, ignoring!\n",
      "WARNING - 2020-11-22 08:54:59,765 - base - face_normals all zero, ignoring!\n",
      "WARNING - 2020-11-22 08:54:59,768 - base - face_normals all zero, ignoring!\n",
      "WARNING - 2020-11-22 08:54:59,775 - base - face_normals all zero, ignoring!\n",
      "WARNING - 2020-11-22 08:54:59,778 - base - face_normals all zero, ignoring!\n",
      "WARNING - 2020-11-22 08:54:59,803 - base - face_normals all zero, ignoring!\n",
      "WARNING - 2020-11-22 08:54:59,809 - base - face_normals all zero, ignoring!\n",
      "WARNING - 2020-11-22 08:54:59,861 - base - face_normals all zero, ignoring!\n",
      "WARNING - 2020-11-22 08:54:59,874 - base - face_normals all zero, ignoring!\n",
      "WARNING - 2020-11-22 08:54:59,927 - base - face_normals all zero, ignoring!\n",
      "WARNING - 2020-11-22 08:54:59,930 - base - face_normals all zero, ignoring!\n",
      "WARNING - 2020-11-22 08:54:59,937 - base - face_normals all zero, ignoring!\n",
      "WARNING - 2020-11-22 08:54:59,944 - base - face_normals all zero, ignoring!\n",
      "WARNING - 2020-11-22 08:54:59,953 - base - face_normals all zero, ignoring!\n",
      "WARNING - 2020-11-22 08:54:59,957 - base - face_normals all zero, ignoring!\n",
      "WARNING - 2020-11-22 08:54:59,990 - base - face_normals all zero, ignoring!\n",
      "WARNING - 2020-11-22 08:54:59,994 - base - face_normals all zero, ignoring!\n",
      "WARNING - 2020-11-22 08:54:59,999 - base - face_normals all zero, ignoring!\n",
      "WARNING - 2020-11-22 08:55:00,002 - base - face_normals all zero, ignoring!\n",
      "WARNING - 2020-11-22 08:55:00,006 - base - face_normals all zero, ignoring!\n",
      "WARNING - 2020-11-22 08:55:00,009 - base - face_normals all zero, ignoring!\n",
      "WARNING - 2020-11-22 08:55:00,031 - base - face_normals all zero, ignoring!\n",
      "WARNING - 2020-11-22 08:55:00,037 - base - face_normals all zero, ignoring!\n",
      "WARNING - 2020-11-22 08:55:00,254 - base - face_normals all zero, ignoring!\n",
      "WARNING - 2020-11-22 08:55:00,258 - base - face_normals all zero, ignoring!\n",
      "WARNING - 2020-11-22 08:55:00,263 - base - face_normals all zero, ignoring!\n",
      "WARNING - 2020-11-22 08:55:00,266 - base - face_normals all zero, ignoring!\n",
      "WARNING - 2020-11-22 08:55:00,336 - base - face_normals all zero, ignoring!\n",
      "WARNING - 2020-11-22 08:55:00,356 - base - face_normals all zero, ignoring!\n",
      "WARNING - 2020-11-22 08:55:00,359 - base - face_normals all zero, ignoring!\n",
      "WARNING - 2020-11-22 08:55:00,367 - base - face_normals all zero, ignoring!\n",
      "WARNING - 2020-11-22 08:55:00,371 - base - face_normals all zero, ignoring!\n",
      "WARNING - 2020-11-22 08:55:00,379 - base - face_normals all zero, ignoring!\n",
      "WARNING - 2020-11-22 08:55:00,423 - base - face_normals all zero, ignoring!\n",
      "WARNING - 2020-11-22 08:55:00,432 - base - face_normals all zero, ignoring!\n",
      "WARNING - 2020-11-22 08:55:00,443 - base - face_normals all zero, ignoring!\n",
      "WARNING - 2020-11-22 08:55:00,446 - base - face_normals all zero, ignoring!\n",
      "WARNING - 2020-11-22 08:55:00,457 - base - face_normals all zero, ignoring!\n",
      "WARNING - 2020-11-22 08:55:00,468 - base - face_normals all zero, ignoring!\n",
      "WARNING - 2020-11-22 08:55:00,471 - base - face_normals all zero, ignoring!\n",
      "WARNING - 2020-11-22 08:55:00,477 - base - face_normals all zero, ignoring!\n",
      "WARNING - 2020-11-22 08:55:00,498 - base - face_normals all zero, ignoring!\n",
      "WARNING - 2020-11-22 08:55:00,505 - base - face_normals all zero, ignoring!\n",
      "WARNING - 2020-11-22 08:55:00,663 - base - face_normals all zero, ignoring!\n",
      "WARNING - 2020-11-22 08:55:00,667 - base - face_normals all zero, ignoring!\n",
      "WARNING - 2020-11-22 08:55:00,675 - base - face_normals all zero, ignoring!\n",
      "WARNING - 2020-11-22 08:55:00,684 - base - face_normals all zero, ignoring!\n",
      "WARNING - 2020-11-22 08:55:00,803 - base - face_normals all zero, ignoring!\n",
      "WARNING - 2020-11-22 08:55:01,014 - base - face_normals all zero, ignoring!\n"
     ]
    },
    {
     "name": "stdout",
     "output_type": "stream",
     "text": [
      "Removing the following inside neurons: [<trimesh.Trimesh(vertices.shape=(2853, 3), faces.shape=(6331, 3))>, <trimesh.Trimesh(vertices.shape=(2721, 3), faces.shape=(6525, 3))>, <trimesh.Trimesh(vertices.shape=(1954, 3), faces.shape=(4622, 3))>, <trimesh.Trimesh(vertices.shape=(1723, 3), faces.shape=(2712, 3))>, <trimesh.Trimesh(vertices.shape=(1686, 3), faces.shape=(2629, 3))>, <trimesh.Trimesh(vertices.shape=(1623, 3), faces.shape=(2497, 3))>, <trimesh.Trimesh(vertices.shape=(1613, 3), faces.shape=(2477, 3))>, <trimesh.Trimesh(vertices.shape=(1502, 3), faces.shape=(3854, 3))>, <trimesh.Trimesh(vertices.shape=(1178, 3), faces.shape=(2712, 3))>, <trimesh.Trimesh(vertices.shape=(1122, 3), faces.shape=(2583, 3))>, <trimesh.Trimesh(vertices.shape=(998, 3), faces.shape=(2400, 3))>, <trimesh.Trimesh(vertices.shape=(894, 3), faces.shape=(2047, 3))>, <trimesh.Trimesh(vertices.shape=(824, 3), faces.shape=(1942, 3))>, <trimesh.Trimesh(vertices.shape=(757, 3), faces.shape=(1117, 3))>, <trimesh.Trimesh(vertices.shape=(751, 3), faces.shape=(1107, 3))>, <trimesh.Trimesh(vertices.shape=(708, 3), faces.shape=(1586, 3))>, <trimesh.Trimesh(vertices.shape=(655, 3), faces.shape=(962, 3))>, <trimesh.Trimesh(vertices.shape=(643, 3), faces.shape=(938, 3))>, <trimesh.Trimesh(vertices.shape=(635, 3), faces.shape=(939, 3))>, <trimesh.Trimesh(vertices.shape=(622, 3), faces.shape=(913, 3))>, <trimesh.Trimesh(vertices.shape=(616, 3), faces.shape=(1364, 3))>, <trimesh.Trimesh(vertices.shape=(546, 3), faces.shape=(780, 3))>, <trimesh.Trimesh(vertices.shape=(534, 3), faces.shape=(756, 3))>, <trimesh.Trimesh(vertices.shape=(525, 3), faces.shape=(1117, 3))>, <trimesh.Trimesh(vertices.shape=(456, 3), faces.shape=(988, 3))>, <trimesh.Trimesh(vertices.shape=(345, 3), faces.shape=(774, 3))>]\n",
      "xvfb-run -n 1699 -s \"-screen 0 800x600x24\" meshlabserver $@  -i /notebooks/Platinum_Datajoint/Soma_Extraction/864691134939968355/neuron_864691134939968355.off -o /notebooks/Platinum_Datajoint/Soma_Extraction/864691134939968355/neuron_864691134939968355_decimated.off -s /notebooks/Platinum_Datajoint/Soma_Extraction/864691134939968355/decimation_meshlab_25300461.mls\n"
     ]
    },
    {
     "name": "stderr",
     "output_type": "stream",
     "text": [
      "WARNING - 2020-11-22 08:55:08,930 - base - face_normals all zero, ignoring!\n",
      "WARNING - 2020-11-22 08:55:09,044 - base - face_normals all zero, ignoring!\n",
      "WARNING - 2020-11-22 08:55:09,045 - base - face_normals all zero, ignoring!\n",
      "WARNING - 2020-11-22 08:55:09,143 - base - face_normals all zero, ignoring!\n",
      "WARNING - 2020-11-22 08:55:09,146 - base - face_normals all zero, ignoring!\n",
      "WARNING - 2020-11-22 08:55:09,152 - base - face_normals all zero, ignoring!\n",
      "WARNING - 2020-11-22 08:55:09,162 - base - face_normals all zero, ignoring!\n",
      "WARNING - 2020-11-22 08:55:09,172 - base - face_normals all zero, ignoring!\n",
      "WARNING - 2020-11-22 08:55:09,178 - base - face_normals all zero, ignoring!\n",
      "WARNING - 2020-11-22 08:55:09,179 - base - face_normals all zero, ignoring!\n",
      "WARNING - 2020-11-22 08:55:09,189 - base - face_normals all zero, ignoring!\n",
      "WARNING - 2020-11-22 08:55:09,190 - base - face_normals all zero, ignoring!\n",
      "WARNING - 2020-11-22 08:55:09,193 - base - face_normals all zero, ignoring!\n",
      "WARNING - 2020-11-22 08:55:09,194 - base - face_normals all zero, ignoring!\n",
      "WARNING - 2020-11-22 08:55:09,258 - base - face_normals all zero, ignoring!\n",
      "WARNING - 2020-11-22 08:55:09,260 - base - face_normals all zero, ignoring!\n",
      "WARNING - 2020-11-22 08:55:09,334 - base - face_normals all zero, ignoring!\n",
      "WARNING - 2020-11-22 08:55:09,337 - base - face_normals all zero, ignoring!\n",
      "WARNING - 2020-11-22 08:55:09,480 - base - face_normals all zero, ignoring!\n",
      "WARNING - 2020-11-22 08:55:09,481 - base - face_normals all zero, ignoring!\n",
      "WARNING - 2020-11-22 08:55:09,483 - base - face_normals all zero, ignoring!\n",
      "WARNING - 2020-11-22 08:55:09,484 - base - face_normals all zero, ignoring!\n",
      "WARNING - 2020-11-22 08:55:09,597 - base - face_normals all zero, ignoring!\n",
      "WARNING - 2020-11-22 08:55:09,599 - base - face_normals all zero, ignoring!\n",
      "WARNING - 2020-11-22 08:55:09,604 - base - face_normals all zero, ignoring!\n",
      "WARNING - 2020-11-22 08:55:09,606 - base - face_normals all zero, ignoring!\n",
      "WARNING - 2020-11-22 08:55:09,606 - base - face_normals all zero, ignoring!\n",
      "WARNING - 2020-11-22 08:55:09,609 - base - face_normals all zero, ignoring!\n",
      "WARNING - 2020-11-22 08:55:09,639 - base - face_normals all zero, ignoring!\n",
      "WARNING - 2020-11-22 08:55:09,643 - base - face_normals all zero, ignoring!\n",
      "WARNING - 2020-11-22 08:55:09,665 - base - face_normals all zero, ignoring!\n",
      "WARNING - 2020-11-22 08:55:09,666 - base - face_normals all zero, ignoring!\n",
      "WARNING - 2020-11-22 08:55:09,669 - base - face_normals all zero, ignoring!\n",
      "WARNING - 2020-11-22 08:55:09,672 - base - face_normals all zero, ignoring!\n",
      "WARNING - 2020-11-22 08:55:09,676 - base - face_normals all zero, ignoring!\n",
      "WARNING - 2020-11-22 08:55:09,676 - base - face_normals all zero, ignoring!\n",
      "WARNING - 2020-11-22 08:55:09,688 - base - face_normals all zero, ignoring!\n",
      "WARNING - 2020-11-22 08:55:09,691 - base - face_normals all zero, ignoring!\n",
      "WARNING - 2020-11-22 08:55:09,775 - base - face_normals all zero, ignoring!\n",
      "WARNING - 2020-11-22 08:55:09,777 - base - face_normals all zero, ignoring!\n",
      "WARNING - 2020-11-22 08:55:09,814 - base - face_normals all zero, ignoring!\n",
      "WARNING - 2020-11-22 08:55:09,815 - base - face_normals all zero, ignoring!\n",
      "WARNING - 2020-11-22 08:55:09,819 - base - face_normals all zero, ignoring!\n",
      "WARNING - 2020-11-22 08:55:09,820 - base - face_normals all zero, ignoring!\n",
      "WARNING - 2020-11-22 08:55:09,844 - base - face_normals all zero, ignoring!\n",
      "WARNING - 2020-11-22 08:55:09,845 - base - face_normals all zero, ignoring!\n",
      "WARNING - 2020-11-22 08:55:09,851 - base - face_normals all zero, ignoring!\n",
      "WARNING - 2020-11-22 08:55:09,856 - base - face_normals all zero, ignoring!\n",
      "WARNING - 2020-11-22 08:55:09,857 - base - face_normals all zero, ignoring!\n",
      "WARNING - 2020-11-22 08:55:09,859 - base - face_normals all zero, ignoring!\n",
      "WARNING - 2020-11-22 08:55:09,866 - base - face_normals all zero, ignoring!\n",
      "WARNING - 2020-11-22 08:55:09,868 - base - face_normals all zero, ignoring!\n",
      "WARNING - 2020-11-22 08:55:09,934 - base - face_normals all zero, ignoring!\n",
      "WARNING - 2020-11-22 08:55:09,936 - base - face_normals all zero, ignoring!\n",
      "WARNING - 2020-11-22 08:55:09,939 - base - face_normals all zero, ignoring!\n",
      "WARNING - 2020-11-22 08:55:09,944 - base - face_normals all zero, ignoring!\n"
     ]
    },
    {
     "name": "stdout",
     "output_type": "stream",
     "text": [
      "Total found significant pieces before Poisson = [<trimesh.Trimesh(vertices.shape=(20810, 3), faces.shape=(41357, 3))>]\n",
      "----- working on large mesh #0: <trimesh.Trimesh(vertices.shape=(20810, 3), faces.shape=(41357, 3))>\n",
      "remove_inside_pieces requested \n",
      "xvfb-run -n 2268 -s \"-screen 0 800x600x24\" meshlabserver $@  -i /notebooks/Platinum_Datajoint/Soma_Extraction/temp/neuron_83713.off -o /notebooks/Platinum_Datajoint/Soma_Extraction/temp/neuron_83713_fill_holes.off -s /notebooks/Platinum_Datajoint/Soma_Extraction/temp/fill_holes_36223.mls\n",
      "removed temporary input file: /notebooks/Platinum_Datajoint/Soma_Extraction/temp/neuron_83713.off\n",
      "removed temporary output file: /notebooks/Platinum_Datajoint/Soma_Extraction/temp/neuron_83713_fill_holes.off\n",
      "/notebooks/Platinum_Datajoint/Soma_Extraction/temp/fill_holes_36223.mls is being deleted....\n",
      "xvfb-run -n 4200 -s \"-screen 0 800x600x24\" meshlabserver $@  -i /notebooks/Platinum_Datajoint/Soma_Extraction/temp/neuron_18863.off -o /notebooks/Platinum_Datajoint/Soma_Extraction/temp/neuron_18863_remove_interior.off -s /notebooks/Platinum_Datajoint/Soma_Extraction/temp/remove_interior_263104.mls\n",
      "removed temporary input file: /notebooks/Platinum_Datajoint/Soma_Extraction/temp/neuron_18863.off\n",
      "removed temporary output file: /notebooks/Platinum_Datajoint/Soma_Extraction/temp/neuron_18863_remove_interior.off\n",
      "/notebooks/Platinum_Datajoint/Soma_Extraction/temp/remove_interior_263104.mls is being deleted....\n",
      "THERE WERE NO MESH PIECES GREATER THAN THE significance_threshold\n",
      "No significant (1000) interior meshes present\n",
      "largest is 13\n",
      "pre_largest_mesh_path = /notebooks/Platinum_Datajoint/Soma_Extraction/864691134939968355/neuron_864691134939968355_decimated_largest_piece.off\n",
      "xvfb-run -n 3523 -s \"-screen 0 800x600x24\" meshlabserver $@  -i /notebooks/Platinum_Datajoint/Soma_Extraction/864691134939968355/neuron_864691134939968355_decimated_largest_piece.off -o /notebooks/Platinum_Datajoint/Soma_Extraction/864691134939968355/neuron_864691134939968355_decimated_largest_piece_poisson.off -s /notebooks/Platinum_Datajoint/Soma_Extraction/864691134939968355/poisson_174250.mls\n",
      "Total found significant pieces AFTER Poisson = [<trimesh.Trimesh(vertices.shape=(17926, 3), faces.shape=(35852, 3))>, <trimesh.Trimesh(vertices.shape=(3520, 3), faces.shape=(7036, 3))>]\n",
      "----- working on mesh after poisson #0: <trimesh.Trimesh(vertices.shape=(17926, 3), faces.shape=(35852, 3))>\n",
      "xvfb-run -n 9966 -s \"-screen 0 800x600x24\" meshlabserver $@  -i /notebooks/Platinum_Datajoint/Soma_Extraction/864691134939968355/neuron_864691134939968355_decimated_largest_piece_poisson_largest_inner.off -o /notebooks/Platinum_Datajoint/Soma_Extraction/864691134939968355/neuron_864691134939968355_decimated_largest_piece_poisson_largest_inner_decimated.off -s /notebooks/Platinum_Datajoint/Soma_Extraction/864691134939968355/decimation_meshlab_25954699.mls\n",
      "done exporting decimated mesh: neuron_864691134939968355_decimated_largest_piece_poisson_largest_inner.off\n",
      "1) Starting: Mesh importing and Pymesh fix\n",
      "loading mesh from vertices and triangles array\n",
      "1) Finished: Mesh importing and Pymesh fix: 0.0003056526184082031\n",
      "2) Staring: Generating CGAL segmentation for neuron\n",
      "Done writing OFF file\n",
      "\n",
      "Starting CGAL segmentation\n",
      "Right before cgal segmentation, clusters = 3, smoothness = 0.2, path_and_filename = /notebooks/Platinum_Datajoint/Soma_Extraction/temp/86469113493996835500_fixed \n",
      "1\n",
      "Finished CGAL segmentation algorithm: 0.8779296875\n",
      "2) Finished: Generating CGAL segmentation for neuron: 1.008812665939331\n",
      "3) Staring: Generating Graph Structure and Identifying Soma using soma size threshold  = 3000\n",
      "my_list_keys = [0, 1, 2, 3, 4, 5, 6, 7, 8]\n",
      "changed the median value\n",
      "changed the mean value\n",
      "changed the max value\n",
      "soma_index = 2\n",
      "3) Finished: Generating Graph Structure and Identifying Soma: 0.0035581588745117188\n",
      "Not finding the apical because soma_only option selected\n",
      "6) Staring: Classifying Entire Neuron\n",
      "Total Labels found = {'unsure', 'soma'}\n",
      "6) Finished: Classifying Entire Neuron: 5.4836273193359375e-05\n",
      "7) Staring: Transfering Segmentation Labels to Face Labels\n",
      "7) Finished: Transfering Segmentation Labels to Face Labels: 0.007980108261108398\n",
      "8) Staring: Generating final Vertex and Face Labels\n",
      "8) Finished: Generating final Vertex and Face Labels: 0.044239044189453125\n",
      "Returning the soma_sdf value AND the classifier\n",
      "soma_sdf_value = 0.0816692\n",
      "segmentation[sorted_medians],median_values[sorted_medians] = (array([0, 1, 4, 3, 2, 7, 6, 5, 8]), array([0.834994  , 0.59858   , 0.0993241 , 0.082707  , 0.0816692 ,\n",
      "       0.0651667 , 0.06290945, 0.0435499 , 0.0158705 ]))\n",
      "Sizes = [2577, 1134, 621, 77, 3018, 487, 818, 213, 17]\n",
      "soma_size_threshold = 937.5\n",
      "soma_size_threshold_max=12000.0\n",
      "valid_soma_segments_width\n",
      "      ------ Found 2 viable somas: [0, 1]\n",
      "Using Poisson Surface Reconstruction for watertightness in soma_volume_ratio\n",
      "xvfb-run -n 8628 -s \"-screen 0 800x600x24\" meshlabserver $@  -i /notebooks/Platinum_Datajoint/Soma_Extraction/Poisson_temp/neuron_655735.off -o /notebooks/Platinum_Datajoint/Soma_Extraction/Poisson_temp/neuron_655735_poisson.off -s /notebooks/Platinum_Datajoint/Soma_Extraction/Poisson_temp/poisson_807099.mls\n",
      "removed temporary input file: /notebooks/Platinum_Datajoint/Soma_Extraction/Poisson_temp/neuron_655735.off\n",
      "removed temporary output file: /notebooks/Platinum_Datajoint/Soma_Extraction/Poisson_temp/neuron_655735_poisson.off\n",
      "mesh.is_watertight = False\n",
      "/notebooks/Platinum_Datajoint/Soma_Extraction/Poisson_temp/poisson_807099.mls is being deleted....\n",
      "Inside sphere validater: ratio_val = 0.6329244651506049\n",
      "Using Poisson Surface Reconstruction for watertightness in soma_volume_ratio\n",
      "xvfb-run -n 7633 -s \"-screen 0 800x600x24\" meshlabserver $@  -i /notebooks/Platinum_Datajoint/Soma_Extraction/Poisson_temp/neuron_664838.off -o /notebooks/Platinum_Datajoint/Soma_Extraction/Poisson_temp/neuron_664838_poisson.off -s /notebooks/Platinum_Datajoint/Soma_Extraction/Poisson_temp/poisson_245003.mls\n",
      "removed temporary input file: /notebooks/Platinum_Datajoint/Soma_Extraction/Poisson_temp/neuron_664838.off\n",
      "removed temporary output file: /notebooks/Platinum_Datajoint/Soma_Extraction/Poisson_temp/neuron_664838_poisson.off\n",
      "mesh.is_watertight = True\n",
      "/notebooks/Platinum_Datajoint/Soma_Extraction/Poisson_temp/poisson_245003.mls is being deleted....\n",
      "Inside sphere validater: ratio_val = 2.874358088486156\n",
      "----- working on mesh after poisson #1: <trimesh.Trimesh(vertices.shape=(3520, 3), faces.shape=(7036, 3))>\n",
      "xvfb-run -n 1681 -s \"-screen 0 800x600x24\" meshlabserver $@  -i /notebooks/Platinum_Datajoint/Soma_Extraction/864691134939968355/neuron_864691134939968355_decimated_largest_piece_poisson_largest_inner.off -o /notebooks/Platinum_Datajoint/Soma_Extraction/864691134939968355/neuron_864691134939968355_decimated_largest_piece_poisson_largest_inner_decimated.off -s /notebooks/Platinum_Datajoint/Soma_Extraction/864691134939968355/decimation_meshlab_25954699.mls\n",
      "done exporting decimated mesh: neuron_864691134939968355_decimated_largest_piece_poisson_largest_inner.off\n",
      "1) Starting: Mesh importing and Pymesh fix\n",
      "loading mesh from vertices and triangles array\n",
      "1) Finished: Mesh importing and Pymesh fix: 0.0005059242248535156\n",
      "2) Staring: Generating CGAL segmentation for neuron\n",
      "Done writing OFF file\n",
      "\n",
      "Starting CGAL segmentation\n",
      "Right before cgal segmentation, clusters = 3, smoothness = 0.2, path_and_filename = /notebooks/Platinum_Datajoint/Soma_Extraction/temp/86469113493996835501_fixed \n",
      "1\n",
      "Finished CGAL segmentation algorithm: 0.11375641822814941\n",
      "2) Finished: Generating CGAL segmentation for neuron: 0.14754366874694824\n",
      "3) Staring: Generating Graph Structure and Identifying Soma using soma size threshold  = 3000\n",
      "my_list_keys = [0, 1, 2, 3, 4, 5]\n",
      "soma_index = -1\n",
      "3) Finished: Generating Graph Structure and Identifying Soma: 0.0007791519165039062\n",
      "Not finding the apical because soma_only option selected\n",
      "6) Staring: Classifying Entire Neuron\n",
      "Total Labels found = {'unsure'}\n",
      "6) Finished: Classifying Entire Neuron: 5.650520324707031e-05\n",
      "7) Staring: Transfering Segmentation Labels to Face Labels\n",
      "7) Finished: Transfering Segmentation Labels to Face Labels: 0.0016865730285644531\n",
      "8) Staring: Generating final Vertex and Face Labels\n",
      "8) Finished: Generating final Vertex and Face Labels: 0.00854182243347168\n",
      "Returning the soma_sdf value AND the classifier\n",
      "soma_sdf_value = 0\n",
      "segmentation[sorted_medians],median_values[sorted_medians] = (array([3, 1, 0, 2, 4, 5]), array([0.623459 , 0.5955305, 0.515129 , 0.49382  , 0.31635  , 0.120635 ]))\n",
      "Sizes = [255, 668, 536, 249, 29, 21]\n",
      "soma_size_threshold = 937.5\n",
      "soma_size_threshold_max=12000.0\n",
      "valid_soma_segments_width\n",
      "There were soma pairings: Connected components in = [{0, 1}] \n",
      "Final total_soma_list_revised = [<trimesh.Trimesh(vertices.shape=(1950, 3), faces.shape=(3711, 3))>]\n",
      "Final total_soma_list_revised_sdf = [0.59858]\n",
      "\n",
      "\n",
      "\n",
      " Total time for run = 60.72178411483765\n",
      "Before Filtering the number of somas found = 1\n",
      "Performing Soma Mesh Backtracking to original mesh\n"
     ]
    },
    {
     "name": "stderr",
     "output_type": "stream",
     "text": [
      "WARNING - 2020-11-22 08:55:41,789 - base - face_normals all zero, ignoring!\n",
      "WARNING - 2020-11-22 08:55:41,902 - base - face_normals all zero, ignoring!\n",
      "WARNING - 2020-11-22 08:55:41,903 - base - face_normals all zero, ignoring!\n",
      "WARNING - 2020-11-22 08:55:41,998 - base - face_normals all zero, ignoring!\n",
      "WARNING - 2020-11-22 08:55:42,001 - base - face_normals all zero, ignoring!\n",
      "WARNING - 2020-11-22 08:55:42,007 - base - face_normals all zero, ignoring!\n",
      "WARNING - 2020-11-22 08:55:42,017 - base - face_normals all zero, ignoring!\n",
      "WARNING - 2020-11-22 08:55:42,026 - base - face_normals all zero, ignoring!\n",
      "WARNING - 2020-11-22 08:55:42,032 - base - face_normals all zero, ignoring!\n",
      "WARNING - 2020-11-22 08:55:42,033 - base - face_normals all zero, ignoring!\n",
      "WARNING - 2020-11-22 08:55:42,042 - base - face_normals all zero, ignoring!\n",
      "WARNING - 2020-11-22 08:55:42,043 - base - face_normals all zero, ignoring!\n",
      "WARNING - 2020-11-22 08:55:42,047 - base - face_normals all zero, ignoring!\n",
      "WARNING - 2020-11-22 08:55:42,048 - base - face_normals all zero, ignoring!\n",
      "WARNING - 2020-11-22 08:55:42,113 - base - face_normals all zero, ignoring!\n",
      "WARNING - 2020-11-22 08:55:42,116 - base - face_normals all zero, ignoring!\n",
      "WARNING - 2020-11-22 08:55:42,191 - base - face_normals all zero, ignoring!\n",
      "WARNING - 2020-11-22 08:55:42,194 - base - face_normals all zero, ignoring!\n",
      "WARNING - 2020-11-22 08:55:42,336 - base - face_normals all zero, ignoring!\n",
      "WARNING - 2020-11-22 08:55:42,338 - base - face_normals all zero, ignoring!\n",
      "WARNING - 2020-11-22 08:55:42,339 - base - face_normals all zero, ignoring!\n",
      "WARNING - 2020-11-22 08:55:42,340 - base - face_normals all zero, ignoring!\n",
      "WARNING - 2020-11-22 08:55:42,468 - base - face_normals all zero, ignoring!\n",
      "WARNING - 2020-11-22 08:55:42,469 - base - face_normals all zero, ignoring!\n",
      "WARNING - 2020-11-22 08:55:42,476 - base - face_normals all zero, ignoring!\n",
      "WARNING - 2020-11-22 08:55:42,477 - base - face_normals all zero, ignoring!\n",
      "WARNING - 2020-11-22 08:55:42,478 - base - face_normals all zero, ignoring!\n",
      "WARNING - 2020-11-22 08:55:42,480 - base - face_normals all zero, ignoring!\n",
      "WARNING - 2020-11-22 08:55:42,509 - base - face_normals all zero, ignoring!\n",
      "WARNING - 2020-11-22 08:55:42,514 - base - face_normals all zero, ignoring!\n",
      "WARNING - 2020-11-22 08:55:42,535 - base - face_normals all zero, ignoring!\n",
      "WARNING - 2020-11-22 08:55:42,536 - base - face_normals all zero, ignoring!\n",
      "WARNING - 2020-11-22 08:55:42,542 - base - face_normals all zero, ignoring!\n",
      "WARNING - 2020-11-22 08:55:42,550 - base - face_normals all zero, ignoring!\n",
      "WARNING - 2020-11-22 08:55:42,555 - base - face_normals all zero, ignoring!\n",
      "WARNING - 2020-11-22 08:55:42,556 - base - face_normals all zero, ignoring!\n",
      "WARNING - 2020-11-22 08:55:42,566 - base - face_normals all zero, ignoring!\n",
      "WARNING - 2020-11-22 08:55:42,569 - base - face_normals all zero, ignoring!\n",
      "WARNING - 2020-11-22 08:55:42,661 - base - face_normals all zero, ignoring!\n",
      "WARNING - 2020-11-22 08:55:42,663 - base - face_normals all zero, ignoring!\n",
      "WARNING - 2020-11-22 08:55:42,699 - base - face_normals all zero, ignoring!\n",
      "WARNING - 2020-11-22 08:55:42,700 - base - face_normals all zero, ignoring!\n",
      "WARNING - 2020-11-22 08:55:42,703 - base - face_normals all zero, ignoring!\n",
      "WARNING - 2020-11-22 08:55:42,704 - base - face_normals all zero, ignoring!\n",
      "WARNING - 2020-11-22 08:55:42,729 - base - face_normals all zero, ignoring!\n",
      "WARNING - 2020-11-22 08:55:42,730 - base - face_normals all zero, ignoring!\n",
      "WARNING - 2020-11-22 08:55:42,736 - base - face_normals all zero, ignoring!\n",
      "WARNING - 2020-11-22 08:55:42,740 - base - face_normals all zero, ignoring!\n",
      "WARNING - 2020-11-22 08:55:42,741 - base - face_normals all zero, ignoring!\n",
      "WARNING - 2020-11-22 08:55:42,743 - base - face_normals all zero, ignoring!\n",
      "WARNING - 2020-11-22 08:55:42,751 - base - face_normals all zero, ignoring!\n",
      "WARNING - 2020-11-22 08:55:42,753 - base - face_normals all zero, ignoring!\n",
      "WARNING - 2020-11-22 08:55:42,821 - base - face_normals all zero, ignoring!\n",
      "WARNING - 2020-11-22 08:55:42,822 - base - face_normals all zero, ignoring!\n",
      "WARNING - 2020-11-22 08:55:42,826 - base - face_normals all zero, ignoring!\n",
      "WARNING - 2020-11-22 08:55:42,829 - base - face_normals all zero, ignoring!\n"
     ]
    },
    {
     "name": "stdout",
     "output_type": "stream",
     "text": [
      "# total split meshes = 30\n",
      "viable_meshes = [0]\n",
      "There were 29 pieces found after size threshold\n",
      "# of soma containing seperate meshes = 1\n",
      "meshes with somas = {0: [0]}\n",
      "\n",
      "\n",
      "----Working on soma-containing mesh piece 0----\n",
      "current_soma_mesh_list = [<trimesh.Trimesh(vertices.shape=(1950, 3), faces.shape=(3711, 3))>]\n",
      "current_mesh = <trimesh.Trimesh(vertices.shape=(97900, 3), faces.shape=(195455, 3))>\n",
      "\n",
      "inside Soma subtraction\n",
      "mesh pieces in subtact soma BEFORE the filtering inside pieces = [<trimesh.Trimesh(vertices.shape=(32884, 3), faces.shape=(65564, 3))>, <trimesh.Trimesh(vertices.shape=(26820, 3), faces.shape=(53512, 3))>, <trimesh.Trimesh(vertices.shape=(7562, 3), faces.shape=(15047, 3))>, <trimesh.Trimesh(vertices.shape=(5781, 3), faces.shape=(11539, 3))>, <trimesh.Trimesh(vertices.shape=(5683, 3), faces.shape=(11326, 3))>, <trimesh.Trimesh(vertices.shape=(1981, 3), faces.shape=(3936, 3))>, <trimesh.Trimesh(vertices.shape=(1630, 3), faces.shape=(3235, 3))>, <trimesh.Trimesh(vertices.shape=(1054, 3), faces.shape=(2085, 3))>, <trimesh.Trimesh(vertices.shape=(226, 3), faces.shape=(430, 3))>]\n",
      "There were 9 pieces found after size threshold\n",
      "mesh pieces in subtact soma AFTER the filtering inside pieces = [<trimesh.Trimesh(vertices.shape=(32884, 3), faces.shape=(65564, 3))>, <trimesh.Trimesh(vertices.shape=(26820, 3), faces.shape=(53512, 3))>, <trimesh.Trimesh(vertices.shape=(7562, 3), faces.shape=(15047, 3))>, <trimesh.Trimesh(vertices.shape=(5781, 3), faces.shape=(11539, 3))>, <trimesh.Trimesh(vertices.shape=(5683, 3), faces.shape=(11326, 3))>, <trimesh.Trimesh(vertices.shape=(1981, 3), faces.shape=(3936, 3))>, <trimesh.Trimesh(vertices.shape=(1630, 3), faces.shape=(3235, 3))>, <trimesh.Trimesh(vertices.shape=(1054, 3), faces.shape=(2085, 3))>, <trimesh.Trimesh(vertices.shape=(226, 3), faces.shape=(430, 3))>]\n",
      "Total Time for soma mesh cancellation = 0.429\n",
      "mesh_pieces_without_soma = [<trimesh.Trimesh(vertices.shape=(32884, 3), faces.shape=(65564, 3))>, <trimesh.Trimesh(vertices.shape=(26820, 3), faces.shape=(53512, 3))>, <trimesh.Trimesh(vertices.shape=(7562, 3), faces.shape=(15047, 3))>, <trimesh.Trimesh(vertices.shape=(5781, 3), faces.shape=(11539, 3))>, <trimesh.Trimesh(vertices.shape=(5683, 3), faces.shape=(11326, 3))>, <trimesh.Trimesh(vertices.shape=(1981, 3), faces.shape=(3936, 3))>, <trimesh.Trimesh(vertices.shape=(1630, 3), faces.shape=(3235, 3))>, <trimesh.Trimesh(vertices.shape=(1054, 3), faces.shape=(2085, 3))>, <trimesh.Trimesh(vertices.shape=(226, 3), faces.shape=(430, 3))>]\n",
      "Total time for Subtract Soam = 0.42969584465026855\n",
      "Total time for Original_mesh_faces_map for mesh_pieces without soma= 0.1463172435760498\n",
      "poisson_backtrack_distance_threshold = None\n",
      "Using Poisson Surface Reconstruction for watertightness in soma_volume_ratio\n",
      "xvfb-run -n 8434 -s \"-screen 0 800x600x24\" meshlabserver $@  -i /notebooks/Platinum_Datajoint/Soma_Extraction/Poisson_temp/neuron_72362.off -o /notebooks/Platinum_Datajoint/Soma_Extraction/Poisson_temp/neuron_72362_poisson.off -s /notebooks/Platinum_Datajoint/Soma_Extraction/Poisson_temp/poisson_611158.mls\n",
      "removed temporary input file: /notebooks/Platinum_Datajoint/Soma_Extraction/Poisson_temp/neuron_72362.off\n",
      "removed temporary output file: /notebooks/Platinum_Datajoint/Soma_Extraction/Poisson_temp/neuron_72362_poisson.off\n",
      "mesh.is_watertight = True\n",
      "/notebooks/Platinum_Datajoint/Soma_Extraction/Poisson_temp/poisson_611158.mls is being deleted....\n",
      "Inside sphere validater: ratio_val = 3.2487867618067856\n",
      "Skipping the segmentatio filter at end\n",
      "removing mesh interior before segmentation\n",
      "xvfb-run -n 8699 -s \"-screen 0 800x600x24\" meshlabserver $@  -i /notebooks/Platinum_Datajoint/Soma_Extraction/temp/neuron_77948.off -o /notebooks/Platinum_Datajoint/Soma_Extraction/temp/neuron_77948_fill_holes.off -s /notebooks/Platinum_Datajoint/Soma_Extraction/temp/fill_holes_996421.mls\n",
      "removed temporary input file: /notebooks/Platinum_Datajoint/Soma_Extraction/temp/neuron_77948.off\n",
      "removed temporary output file: /notebooks/Platinum_Datajoint/Soma_Extraction/temp/neuron_77948_fill_holes.off\n",
      "/notebooks/Platinum_Datajoint/Soma_Extraction/temp/fill_holes_996421.mls is being deleted....\n",
      "xvfb-run -n 5225 -s \"-screen 0 800x600x24\" meshlabserver $@  -i /notebooks/Platinum_Datajoint/Soma_Extraction/temp/neuron_48006.off -o /notebooks/Platinum_Datajoint/Soma_Extraction/temp/neuron_48006_remove_interior.off -s /notebooks/Platinum_Datajoint/Soma_Extraction/temp/remove_interior_486919.mls\n",
      "removed temporary input file: /notebooks/Platinum_Datajoint/Soma_Extraction/temp/neuron_48006.off\n",
      "removed temporary output file: /notebooks/Platinum_Datajoint/Soma_Extraction/temp/neuron_48006_remove_interior.off\n",
      "/notebooks/Platinum_Datajoint/Soma_Extraction/temp/remove_interior_486919.mls is being deleted....\n",
      "THERE WERE NO MESH PIECES GREATER THAN THE significance_threshold\n",
      "No significant (1000) interior meshes present\n",
      "largest is 54\n",
      "Doing the soma segmentation filter at end\n"
     ]
    },
    {
     "data": {
      "application/vnd.jupyter.widget-view+json": {
       "model_id": "d23f8f7cb2244a6aaebe1baeb836e4f6",
       "version_major": 2,
       "version_minor": 0
      },
      "text/plain": [
       "HBox(children=(FloatProgress(value=0.0, max=4.0), HTML(value='')))"
      ]
     },
     "metadata": {},
     "output_type": "display_data"
    },
    {
     "name": "stdout",
     "output_type": "stream",
     "text": [
      "\n",
      "Largest hole before segmentation = 53012.86141472555, after = 1164182.7847314859,\n",
      "ratio = 21.96038383259401, difference = 1111169.9233167602\n"
     ]
    },
    {
     "name": "stderr",
     "output_type": "stream",
     "text": [
      "/meshAfterParty/trimesh_utils.py:996: VisibleDeprecationWarning: Creating an ndarray from ragged nested sequences (which is a list-or-tuple of lists-or-tuples-or ndarrays with different lengths or shapes) is deprecated. If you meant to do this, you must specify 'dtype=object' when creating the ndarray\n",
      "  curr_p_verts = np.unique(main_mesh.faces[curr_p_faces].ravel())\n",
      "/meshAfterParty/networkx_utils.py:511: VisibleDeprecationWarning: Creating an ndarray from ragged nested sequences (which is a list-or-tuple of lists-or-tuples-or ndarrays with different lengths or shapes) is deprecated. If you meant to do this, you must specify 'dtype=object' when creating the ndarray\n",
      "  cycles_list_array = np.array(cycles_list)\n"
     ]
    }
   ],
   "source": [
    "import soma_extraction_utils as sm\n",
    "soma_data = sm.extract_soma_center(segment_id=curr_seg_id,\n",
    "                      current_mesh_verts=curr_mesh.vertices,\n",
    "                      current_mesh_faces=curr_mesh.faces)"
   ]
  },
  {
   "cell_type": "code",
   "execution_count": 264,
   "metadata": {},
   "outputs": [
    {
     "name": "stderr",
     "output_type": "stream",
     "text": [
      "/usr/local/lib/python3.6/dist-packages/traittypes/traittypes.py:101: UserWarning: Given trait value dtype \"float64\" does not match required type \"float64\". A coerced copy has been created.\n",
      "  np.dtype(self.dtype).name))\n"
     ]
    },
    {
     "data": {
      "application/vnd.jupyter.widget-view+json": {
       "model_id": "229c74ca146741d99f561acde5c33b26",
       "version_major": 2,
       "version_minor": 0
      },
      "text/plain": [
       "VBox(children=(Figure(camera=PerspectiveCamera(fov=46.0, position=(0.0, 0.0, 2.0), quaternion=(0.0, 0.0, 0.0, …"
      ]
     },
     "metadata": {},
     "output_type": "display_data"
    }
   ],
   "source": [
    "nviz.plot_objects(meshes=soma_data[0])"
   ]
  },
  {
   "cell_type": "code",
   "execution_count": null,
   "metadata": {},
   "outputs": [],
   "source": []
  }
 ],
 "metadata": {
  "kernelspec": {
   "display_name": "Python 3",
   "language": "python",
   "name": "python3"
  },
  "language_info": {
   "codemirror_mode": {
    "name": "ipython",
    "version": 3
   },
   "file_extension": ".py",
   "mimetype": "text/x-python",
   "name": "python",
   "nbconvert_exporter": "python",
   "pygments_lexer": "ipython3",
   "version": "3.6.9"
  }
 },
 "nbformat": 4,
 "nbformat_minor": 4
}
