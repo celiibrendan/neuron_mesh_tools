{
 "cells": [
  {
   "cell_type": "code",
   "execution_count": null,
   "metadata": {},
   "outputs": [],
   "source": [
    "\"\"\"\n",
    "Purpose: To run the soma finder on the \n",
    "new mesh segmentation\n",
    "\n",
    "\"\"\""
   ]
  },
  {
   "cell_type": "markdown",
   "metadata": {},
   "source": [
    "# Modules for Datajoint"
   ]
  },
  {
   "cell_type": "code",
   "execution_count": 1,
   "metadata": {},
   "outputs": [],
   "source": [
    "import numpy as np\n",
    "import datajoint as dj\n",
    "import trimesh\n",
    "from tqdm.notebook import tqdm\n",
    "from pathlib import Path\n",
    "\n",
    "from os import sys\n",
    "sys.path.append(\"/meshAfterParty/\")\n",
    "\n",
    "import datajoint_utils as du\n",
    "from importlib import reload"
   ]
  },
  {
   "cell_type": "code",
   "execution_count": 2,
   "metadata": {},
   "outputs": [
    {
     "name": "stdout",
     "output_type": "stream",
     "text": [
      "Sleeping 10 sec before conneting\n"
     ]
    },
    {
     "name": "stderr",
     "output_type": "stream",
     "text": [
      "INFO - 2020-11-22 08:05:44,601 - settings - Setting database.host to at-database.ad.bcm.edu\n",
      "INFO - 2020-11-22 08:05:44,602 - settings - Setting database.user to celiib\n",
      "INFO - 2020-11-22 08:05:44,603 - settings - Setting database.password to newceliipass\n",
      "INFO - 2020-11-22 08:05:44,606 - settings - Setting stores to {'minnie65': {'protocol': 'file', 'location': '/mnt/dj-stor01/platinum/minnie65', 'stage': '/mnt/dj-stor01/platinum/minnie65'}, 'meshes': {'protocol': 'file', 'location': '/mnt/dj-stor01/platinum/minnie65/02/meshes', 'stage': '/mnt/dj-stor01/platinum/minnie65/02/meshes'}, 'decimated_meshes': {'protocol': 'file', 'location': '/mnt/dj-stor01/platinum/minnie65/02/decimated_meshes', 'stage': '/mnt/dj-stor01/platinum/minnie65/02/decimated_meshes'}, 'skeletons': {'protocol': 'file', 'location': '/mnt/dj-stor01/platinum/minnie65/02/skeletons'}}\n",
      "INFO - 2020-11-22 08:05:44,607 - settings - Setting enable_python_native_blobs to True\n",
      "INFO - 2020-11-22 08:05:44,621 - connection - Connected celiib@at-database.ad.bcm.edu:3306\n"
     ]
    },
    {
     "name": "stdout",
     "output_type": "stream",
     "text": [
      "Done sleeping\n",
      "Current path for external_segmentation_path = /mnt/dj-stor01/platinum/minnie65/02\n",
      "Current path for external_mesh_path = /mnt/dj-stor01/platinum/minnie65/02/meshes\n",
      "Current path for external_decimated_mesh_path = /mnt/dj-stor01/platinum/minnie65/02/decimated_meshes\n",
      "Current path for external_skeleton_path = /mnt/dj-stor01/platinum/minnie65/02/skeletons\n",
      "Connecting celiib@at-database.ad.bcm.edu:3306\n"
     ]
    },
    {
     "name": "stderr",
     "output_type": "stream",
     "text": [
      "INFO - 2020-11-22 08:05:44,890 - settings - Setting enable_python_native_blobs to True\n"
     ]
    }
   ],
   "source": [
    "import minfig\n",
    "import time\n",
    "import numpy as np\n",
    "#want to add in a wait for the connection part\n",
    "random_sleep_sec = np.random.randint(0, 30)\n",
    "print(f\"Sleeping {random_sleep_sec} sec before conneting\")\n",
    "time.sleep(random_sleep_sec)\n",
    "print(\"Done sleeping\")\n",
    "\n",
    "du.config_celii()\n",
    "du.set_minnie65_config_segmentation(minfig)\n",
    "du.print_minnie65_config_paths(minfig)\n",
    "\n",
    "#configuring will include the adapters\n",
    "minnie,schema = du.configure_minnie_vm()"
   ]
  },
  {
   "cell_type": "markdown",
   "metadata": {},
   "source": [
    "# Modules for Soma Extraction"
   ]
  },
  {
   "cell_type": "code",
   "execution_count": 3,
   "metadata": {},
   "outputs": [
    {
     "name": "stdout",
     "output_type": "stream",
     "text": [
      "No port chosen so picked random port 3126\n"
     ]
    }
   ],
   "source": [
    "from soma_extraction_utils import *\n",
    "import meshlab\n",
    "meshlab.set_meshlab_port(current_port=None)"
   ]
  },
  {
   "cell_type": "markdown",
   "metadata": {},
   "source": [
    "# The table that will do the soma extraction"
   ]
  },
  {
   "cell_type": "code",
   "execution_count": 4,
   "metadata": {},
   "outputs": [],
   "source": [
    "#so that it will have the adapter defined\n",
    "from datajoint_utils import *\n",
    "from minfig.adapters import *"
   ]
  },
  {
   "cell_type": "code",
   "execution_count": 5,
   "metadata": {},
   "outputs": [],
   "source": [
    "#BaylorSegmentCentroidExternal.drop()"
   ]
  },
  {
   "cell_type": "code",
   "execution_count": 6,
   "metadata": {},
   "outputs": [],
   "source": [
    "decimation_version = 0\n",
    "decimation_ratio = 0.25\n",
    "verts_min = 10000\n",
    "\n",
    "@schema\n",
    "class BaylorSegmentCentroidExternal(dj.Computed):\n",
    "    definition=\"\"\"\n",
    "    -> minnie.BaylorSegmentCentroid()\n",
    "    ---\n",
    "    centroid_x=NULL           : int unsigned                 # (EM voxels)\n",
    "    centroid_y=NULL           : int unsigned                 # (EM voxels)\n",
    "    centroid_z=NULL           : int unsigned                 # (EM voxels)\n",
    "    n_vertices=NULL           : bigint                 #number of vertices\n",
    "    n_faces=NULL            : bigint                  #number of faces\n",
    "    mesh: <somas>  #datajoint adapter to get the somas mesh objects\n",
    "    multiplicity=NULL         : tinyint unsigned             # the number of somas found for this base segment\n",
    "    sdf=NULL                  : double                       # sdf width value for the soma\n",
    "    max_side_ratio=NULL       : double                       # the maximum of the side length ratios used for check if soma\n",
    "    bbox_volume_ratio=NULL    : double                       # ratio of bbox (axis aligned) volume to mesh volume to use for check if soma\n",
    "    max_hole_length=NULL      : double                    #euclidean distance of the maximum hole size\n",
    "    run_time=NULL : double                   # the amount of time to run (seconds)\n",
    "\n",
    "    \"\"\"\n",
    "\n",
    "    def make(self,key):\n",
    "        \"\"\"\n",
    "        Pseudocode: \n",
    "        1) Download all of the data from BaylorSegmentCentroid\n",
    "        2) Save the mesh as an h5 py file\n",
    "        3) Store the saved path as the decomposition part of the dictionary and erase the vertices and faces\n",
    "        4) Insert\n",
    "        \n",
    "        \n",
    "        \"\"\"\n",
    "        \n",
    "        print(f\"\\n\\n\\n---- Working on {key['segment_id']}, soma idx {key['soma_index']} ----\")\n",
    "        #1) Download all of the data from BaylorSegmentCentroid\n",
    "        soma_data = (minnie.BaylorSegmentCentroid & key).fetch1()\n",
    "\n",
    "        #2) Save the mesh as an h5 py file\n",
    "        if soma_data[\"soma_vertices\"] is None:\n",
    "            soma_data[\"soma_vertices\"] = np.array([])\n",
    "        if soma_data[\"soma_faces\"] is None:\n",
    "            soma_data[\"soma_faces\"] = np.array([])\n",
    "\n",
    "        returned_file_path = tu.write_h5_file(\n",
    "                                            vertices=soma_data[\"soma_vertices\"],\n",
    "                                              faces=soma_data[\"soma_faces\"],\n",
    "                                              segment_id=soma_data[\"segment_id\"],\n",
    "                                              filename = f'{soma_data[\"segment_id\"]}_{soma_data[\"soma_index\"]}.h5',\n",
    "                                                filepath=str(du.get_somas_path())\n",
    "                                             )\n",
    "        \n",
    "        #3) Store the saved path as the decomposition part of the dictionary and erase the vertices and faces\n",
    "        del soma_data[\"soma_vertices\"]\n",
    "        del soma_data[\"soma_faces\"]\n",
    "        soma_data[\"mesh\"] = returned_file_path\n",
    "        \n",
    "        #4) Insert\n",
    "        self.insert1(soma_data,skip_duplicates=True)"
   ]
  },
  {
   "cell_type": "code",
   "execution_count": 7,
   "metadata": {},
   "outputs": [],
   "source": [
    "#(schema.jobs & \"table_name='__baylor_segment_centroid_external'\").delete()"
   ]
  },
  {
   "cell_type": "code",
   "execution_count": 8,
   "metadata": {},
   "outputs": [
    {
     "name": "stdout",
     "output_type": "stream",
     "text": [
      "Populate Started\n"
     ]
    },
    {
     "name": "stderr",
     "output_type": "stream",
     "text": [
      "INFO - 2020-11-22 08:05:57,519 - autopopulate - Found 35877 keys to populate\n",
      "INFO - 2020-11-22 08:05:57,550 - connection - Transaction started\n",
      "INFO - 2020-11-22 08:05:57,553 - connection - Transaction cancelled. Rolling back ...\n",
      "INFO - 2020-11-22 08:05:57,599 - connection - Transaction started\n",
      "INFO - 2020-11-22 08:05:57,601 - connection - Transaction cancelled. Rolling back ...\n",
      "INFO - 2020-11-22 08:05:57,641 - connection - Transaction started\n",
      "INFO - 2020-11-22 08:05:57,643 - connection - Transaction cancelled. Rolling back ...\n",
      "INFO - 2020-11-22 08:05:57,689 - connection - Transaction started\n",
      "INFO - 2020-11-22 08:05:57,696 - connection - Transaction cancelled. Rolling back ...\n",
      "INFO - 2020-11-22 08:05:57,727 - connection - Transaction started\n",
      "INFO - 2020-11-22 08:05:57,729 - connection - Transaction cancelled. Rolling back ...\n",
      "INFO - 2020-11-22 08:05:57,750 - connection - Transaction started\n",
      "INFO - 2020-11-22 08:05:57,752 - connection - Transaction cancelled. Rolling back ...\n",
      "INFO - 2020-11-22 08:05:57,790 - connection - Transaction started\n",
      "INFO - 2020-11-22 08:05:57,791 - connection - Transaction cancelled. Rolling back ...\n",
      "INFO - 2020-11-22 08:05:57,812 - connection - Transaction started\n",
      "INFO - 2020-11-22 08:05:57,814 - connection - Transaction cancelled. Rolling back ...\n",
      "INFO - 2020-11-22 08:05:57,835 - connection - Transaction started\n",
      "INFO - 2020-11-22 08:05:57,836 - connection - Transaction cancelled. Rolling back ...\n",
      "INFO - 2020-11-22 08:05:57,873 - connection - Transaction started\n",
      "INFO - 2020-11-22 08:05:57,877 - connection - Transaction cancelled. Rolling back ...\n",
      "INFO - 2020-11-22 08:05:57,906 - connection - Transaction started\n",
      "INFO - 2020-11-22 08:05:57,908 - connection - Transaction cancelled. Rolling back ...\n",
      "INFO - 2020-11-22 08:05:57,929 - connection - Transaction started\n",
      "INFO - 2020-11-22 08:05:57,932 - connection - Transaction cancelled. Rolling back ...\n",
      "INFO - 2020-11-22 08:05:57,957 - connection - Transaction started\n",
      "INFO - 2020-11-22 08:05:57,958 - connection - Transaction cancelled. Rolling back ...\n",
      "INFO - 2020-11-22 08:05:57,979 - connection - Transaction started\n",
      "INFO - 2020-11-22 08:05:57,980 - connection - Transaction cancelled. Rolling back ...\n",
      "INFO - 2020-11-22 08:05:58,018 - connection - Transaction started\n",
      "INFO - 2020-11-22 08:05:58,021 - connection - Transaction cancelled. Rolling back ...\n",
      "INFO - 2020-11-22 08:05:58,052 - connection - Transaction started\n",
      "INFO - 2020-11-22 08:05:58,055 - connection - Transaction cancelled. Rolling back ...\n",
      "INFO - 2020-11-22 08:05:58,089 - connection - Transaction started\n",
      "INFO - 2020-11-22 08:05:58,092 - connection - Transaction cancelled. Rolling back ...\n",
      "INFO - 2020-11-22 08:05:58,144 - connection - Transaction started\n",
      "INFO - 2020-11-22 08:05:58,148 - connection - Transaction cancelled. Rolling back ...\n",
      "INFO - 2020-11-22 08:05:58,181 - connection - Transaction started\n",
      "INFO - 2020-11-22 08:05:58,184 - connection - Transaction cancelled. Rolling back ...\n",
      "INFO - 2020-11-22 08:05:58,213 - connection - Transaction started\n",
      "INFO - 2020-11-22 08:05:58,216 - connection - Transaction cancelled. Rolling back ...\n",
      "INFO - 2020-11-22 08:05:58,240 - connection - Transaction started\n",
      "INFO - 2020-11-22 08:05:58,243 - connection - Transaction cancelled. Rolling back ...\n",
      "INFO - 2020-11-22 08:05:58,284 - connection - Transaction started\n",
      "INFO - 2020-11-22 08:05:58,287 - connection - Transaction cancelled. Rolling back ...\n",
      "INFO - 2020-11-22 08:05:58,312 - connection - Transaction started\n",
      "INFO - 2020-11-22 08:05:58,315 - connection - Transaction cancelled. Rolling back ...\n",
      "INFO - 2020-11-22 08:05:58,360 - connection - Transaction started\n",
      "INFO - 2020-11-22 08:05:58,363 - connection - Transaction cancelled. Rolling back ...\n",
      "INFO - 2020-11-22 08:05:58,392 - connection - Transaction started\n",
      "INFO - 2020-11-22 08:05:58,394 - connection - Transaction cancelled. Rolling back ...\n",
      "INFO - 2020-11-22 08:05:58,441 - connection - Transaction started\n",
      "INFO - 2020-11-22 08:05:58,444 - connection - Transaction cancelled. Rolling back ...\n",
      "INFO - 2020-11-22 08:05:58,473 - connection - Transaction started\n",
      "INFO - 2020-11-22 08:05:58,476 - connection - Transaction cancelled. Rolling back ...\n",
      "INFO - 2020-11-22 08:05:58,499 - connection - Transaction started\n",
      "INFO - 2020-11-22 08:05:58,501 - connection - Transaction cancelled. Rolling back ...\n",
      "INFO - 2020-11-22 08:05:58,540 - connection - Transaction started\n",
      "INFO - 2020-11-22 08:05:58,544 - connection - Transaction cancelled. Rolling back ...\n",
      "INFO - 2020-11-22 08:05:58,592 - connection - Transaction started\n",
      "INFO - 2020-11-22 08:05:58,594 - connection - Transaction cancelled. Rolling back ...\n",
      "INFO - 2020-11-22 08:05:58,642 - connection - Transaction started\n",
      "INFO - 2020-11-22 08:05:58,645 - connection - Transaction cancelled. Rolling back ...\n",
      "INFO - 2020-11-22 08:05:58,669 - connection - Transaction started\n",
      "INFO - 2020-11-22 08:05:58,675 - connection - Transaction cancelled. Rolling back ...\n",
      "INFO - 2020-11-22 08:05:58,696 - connection - Transaction started\n",
      "INFO - 2020-11-22 08:05:58,698 - connection - Transaction cancelled. Rolling back ...\n",
      "INFO - 2020-11-22 08:05:58,718 - connection - Transaction started\n",
      "INFO - 2020-11-22 08:05:58,720 - connection - Transaction cancelled. Rolling back ...\n",
      "INFO - 2020-11-22 08:05:58,752 - connection - Transaction started\n",
      "INFO - 2020-11-22 08:05:58,754 - connection - Transaction cancelled. Rolling back ...\n",
      "INFO - 2020-11-22 08:05:58,774 - connection - Transaction started\n",
      "INFO - 2020-11-22 08:05:58,776 - connection - Transaction cancelled. Rolling back ...\n",
      "INFO - 2020-11-22 08:05:58,804 - connection - Transaction started\n",
      "INFO - 2020-11-22 08:05:58,806 - connection - Transaction cancelled. Rolling back ...\n",
      "INFO - 2020-11-22 08:05:58,840 - connection - Transaction started\n",
      "INFO - 2020-11-22 08:05:58,841 - connection - Transaction cancelled. Rolling back ...\n",
      "INFO - 2020-11-22 08:05:58,874 - connection - Transaction started\n",
      "INFO - 2020-11-22 08:05:58,876 - connection - Transaction cancelled. Rolling back ...\n",
      "INFO - 2020-11-22 08:05:58,911 - connection - Transaction started\n",
      "INFO - 2020-11-22 08:05:58,913 - connection - Transaction cancelled. Rolling back ...\n",
      "INFO - 2020-11-22 08:05:58,961 - connection - Transaction started\n",
      "INFO - 2020-11-22 08:05:58,963 - connection - Transaction cancelled. Rolling back ...\n",
      "INFO - 2020-11-22 08:05:59,013 - connection - Transaction started\n",
      "INFO - 2020-11-22 08:05:59,017 - connection - Transaction cancelled. Rolling back ...\n",
      "INFO - 2020-11-22 08:05:59,052 - connection - Transaction started\n",
      "INFO - 2020-11-22 08:05:59,054 - connection - Transaction cancelled. Rolling back ...\n",
      "INFO - 2020-11-22 08:05:59,097 - connection - Transaction started\n",
      "INFO - 2020-11-22 08:05:59,099 - connection - Transaction cancelled. Rolling back ...\n",
      "INFO - 2020-11-22 08:05:59,136 - connection - Transaction started\n",
      "INFO - 2020-11-22 08:05:59,137 - connection - Transaction cancelled. Rolling back ...\n",
      "INFO - 2020-11-22 08:05:59,176 - connection - Transaction started\n",
      "INFO - 2020-11-22 08:05:59,178 - connection - Transaction cancelled. Rolling back ...\n",
      "INFO - 2020-11-22 08:05:59,220 - connection - Transaction started\n",
      "INFO - 2020-11-22 08:05:59,222 - connection - Transaction cancelled. Rolling back ...\n",
      "INFO - 2020-11-22 08:05:59,254 - connection - Transaction started\n",
      "INFO - 2020-11-22 08:05:59,257 - connection - Transaction cancelled. Rolling back ...\n",
      "INFO - 2020-11-22 08:05:59,296 - connection - Transaction started\n",
      "INFO - 2020-11-22 08:05:59,298 - connection - Transaction cancelled. Rolling back ...\n",
      "INFO - 2020-11-22 08:05:59,325 - connection - Transaction started\n",
      "INFO - 2020-11-22 08:05:59,326 - connection - Transaction cancelled. Rolling back ...\n",
      "INFO - 2020-11-22 08:05:59,365 - connection - Transaction started\n",
      "INFO - 2020-11-22 08:05:59,367 - connection - Transaction cancelled. Rolling back ...\n",
      "INFO - 2020-11-22 08:05:59,404 - connection - Transaction started\n",
      "INFO - 2020-11-22 08:05:59,405 - connection - Transaction cancelled. Rolling back ...\n",
      "INFO - 2020-11-22 08:05:59,457 - connection - Transaction started\n",
      "INFO - 2020-11-22 08:05:59,459 - connection - Transaction cancelled. Rolling back ...\n",
      "INFO - 2020-11-22 08:05:59,488 - connection - Transaction started\n",
      "INFO - 2020-11-22 08:05:59,490 - connection - Transaction cancelled. Rolling back ...\n",
      "INFO - 2020-11-22 08:05:59,521 - connection - Transaction started\n",
      "INFO - 2020-11-22 08:05:59,523 - connection - Transaction cancelled. Rolling back ...\n",
      "INFO - 2020-11-22 08:05:59,557 - connection - Transaction started\n",
      "INFO - 2020-11-22 08:05:59,559 - connection - Transaction cancelled. Rolling back ...\n",
      "INFO - 2020-11-22 08:05:59,601 - connection - Transaction started\n",
      "INFO - 2020-11-22 08:05:59,602 - connection - Transaction cancelled. Rolling back ...\n",
      "INFO - 2020-11-22 08:05:59,626 - connection - Transaction started\n",
      "INFO - 2020-11-22 08:05:59,628 - connection - Transaction cancelled. Rolling back ...\n",
      "INFO - 2020-11-22 08:05:59,657 - connection - Transaction started\n",
      "INFO - 2020-11-22 08:05:59,658 - connection - Transaction cancelled. Rolling back ...\n",
      "INFO - 2020-11-22 08:05:59,699 - connection - Transaction started\n",
      "INFO - 2020-11-22 08:05:59,703 - connection - Transaction cancelled. Rolling back ...\n",
      "INFO - 2020-11-22 08:05:59,735 - connection - Transaction started\n",
      "INFO - 2020-11-22 08:05:59,736 - connection - Transaction cancelled. Rolling back ...\n",
      "INFO - 2020-11-22 08:05:59,783 - connection - Transaction started\n",
      "INFO - 2020-11-22 08:05:59,785 - connection - Transaction cancelled. Rolling back ...\n",
      "INFO - 2020-11-22 08:05:59,833 - connection - Transaction started\n",
      "INFO - 2020-11-22 08:05:59,835 - connection - Transaction cancelled. Rolling back ...\n",
      "INFO - 2020-11-22 08:05:59,856 - connection - Transaction started\n",
      "INFO - 2020-11-22 08:05:59,860 - connection - Transaction cancelled. Rolling back ...\n",
      "INFO - 2020-11-22 08:05:59,902 - connection - Transaction started\n",
      "INFO - 2020-11-22 08:05:59,904 - connection - Transaction cancelled. Rolling back ...\n",
      "INFO - 2020-11-22 08:05:59,926 - connection - Transaction started\n",
      "INFO - 2020-11-22 08:05:59,928 - autopopulate - Populating: {'segment_id': 864691135909781417, 'decimation_version': 0, 'decimation_ratio': Decimal('0.25'), 'soma_index': 0}\n",
      "INFO - 2020-11-22 08:05:59,971 - connection - Transaction committed and closed.\n",
      "INFO - 2020-11-22 08:06:00,001 - connection - Transaction started\n",
      "INFO - 2020-11-22 08:06:00,003 - autopopulate - Populating: {'segment_id': 864691135909781929, 'decimation_version': 0, 'decimation_ratio': Decimal('0.25'), 'soma_index': 1}\n"
     ]
    },
    {
     "name": "stdout",
     "output_type": "stream",
     "text": [
      "\n",
      "\n",
      "\n",
      "---- Working on 864691135909781417, soma idx 0 ----\n",
      "\n",
      "\n",
      "\n",
      "---- Working on 864691135909781929, soma idx 1 ----\n"
     ]
    },
    {
     "name": "stderr",
     "output_type": "stream",
     "text": [
      "INFO - 2020-11-22 08:06:00,237 - connection - Transaction committed and closed.\n",
      "INFO - 2020-11-22 08:06:00,271 - connection - Transaction started\n",
      "INFO - 2020-11-22 08:06:00,273 - autopopulate - Populating: {'segment_id': 864691135909782441, 'decimation_version': 0, 'decimation_ratio': Decimal('0.25'), 'soma_index': 0}\n",
      "INFO - 2020-11-22 08:06:00,305 - connection - Transaction committed and closed.\n",
      "INFO - 2020-11-22 08:06:00,327 - connection - Transaction started\n",
      "INFO - 2020-11-22 08:06:00,328 - autopopulate - Populating: {'segment_id': 864691135909782953, 'decimation_version': 0, 'decimation_ratio': Decimal('0.25'), 'soma_index': 0}\n",
      "INFO - 2020-11-22 08:06:00,347 - connection - Transaction committed and closed.\n",
      "INFO - 2020-11-22 08:06:00,380 - connection - Transaction started\n",
      "INFO - 2020-11-22 08:06:00,381 - autopopulate - Populating: {'segment_id': 864691135909783209, 'decimation_version': 0, 'decimation_ratio': Decimal('0.25'), 'soma_index': 0}\n",
      "INFO - 2020-11-22 08:06:00,405 - connection - Transaction committed and closed.\n",
      "INFO - 2020-11-22 08:06:00,457 - connection - Transaction started\n",
      "INFO - 2020-11-22 08:06:00,458 - autopopulate - Populating: {'segment_id': 864691135909783465, 'decimation_version': 0, 'decimation_ratio': Decimal('0.25'), 'soma_index': 0}\n"
     ]
    },
    {
     "name": "stdout",
     "output_type": "stream",
     "text": [
      "\n",
      "\n",
      "\n",
      "---- Working on 864691135909782441, soma idx 0 ----\n",
      "\n",
      "\n",
      "\n",
      "---- Working on 864691135909782953, soma idx 0 ----\n",
      "\n",
      "\n",
      "\n",
      "---- Working on 864691135909783209, soma idx 0 ----\n",
      "\n",
      "\n",
      "\n",
      "---- Working on 864691135909783465, soma idx 0 ----\n"
     ]
    },
    {
     "name": "stderr",
     "output_type": "stream",
     "text": [
      "INFO - 2020-11-22 08:06:00,489 - connection - Transaction committed and closed.\n",
      "INFO - 2020-11-22 08:06:00,520 - connection - Transaction started\n",
      "INFO - 2020-11-22 08:06:00,522 - autopopulate - Populating: {'segment_id': 864691135909783721, 'decimation_version': 0, 'decimation_ratio': Decimal('0.25'), 'soma_index': 0}\n",
      "INFO - 2020-11-22 08:06:00,560 - connection - Transaction committed and closed.\n",
      "INFO - 2020-11-22 08:06:00,593 - connection - Transaction started\n",
      "INFO - 2020-11-22 08:06:00,594 - autopopulate - Populating: {'segment_id': 864691135909783977, 'decimation_version': 0, 'decimation_ratio': Decimal('0.25'), 'soma_index': 1}\n",
      "INFO - 2020-11-22 08:06:00,722 - connection - Transaction committed and closed.\n"
     ]
    },
    {
     "name": "stdout",
     "output_type": "stream",
     "text": [
      "\n",
      "\n",
      "\n",
      "---- Working on 864691135909783721, soma idx 0 ----\n",
      "\n",
      "\n",
      "\n",
      "---- Working on 864691135909783977, soma idx 1 ----\n"
     ]
    },
    {
     "name": "stderr",
     "output_type": "stream",
     "text": [
      "INFO - 2020-11-22 08:06:00,764 - connection - Transaction started\n",
      "INFO - 2020-11-22 08:06:00,766 - connection - Transaction cancelled. Rolling back ...\n",
      "INFO - 2020-11-22 08:06:00,788 - connection - Transaction started\n",
      "INFO - 2020-11-22 08:06:00,791 - connection - Transaction cancelled. Rolling back ...\n",
      "INFO - 2020-11-22 08:06:00,846 - connection - Transaction started\n",
      "INFO - 2020-11-22 08:06:00,848 - connection - Transaction cancelled. Rolling back ...\n",
      "INFO - 2020-11-22 08:06:00,885 - connection - Transaction started\n",
      "INFO - 2020-11-22 08:06:00,887 - connection - Transaction cancelled. Rolling back ...\n",
      "INFO - 2020-11-22 08:06:00,925 - connection - Transaction started\n",
      "INFO - 2020-11-22 08:06:00,926 - autopopulate - Populating: {'segment_id': 864691135909785769, 'decimation_version': 0, 'decimation_ratio': Decimal('0.25'), 'soma_index': 1}\n",
      "INFO - 2020-11-22 08:06:01,053 - connection - Transaction committed and closed.\n",
      "INFO - 2020-11-22 08:06:01,076 - connection - Transaction started\n",
      "INFO - 2020-11-22 08:06:01,077 - autopopulate - Populating: {'segment_id': 864691135909786025, 'decimation_version': 0, 'decimation_ratio': Decimal('0.25'), 'soma_index': 2}\n"
     ]
    },
    {
     "name": "stdout",
     "output_type": "stream",
     "text": [
      "\n",
      "\n",
      "\n",
      "---- Working on 864691135909785769, soma idx 1 ----\n",
      "\n",
      "\n",
      "\n",
      "---- Working on 864691135909786025, soma idx 2 ----\n"
     ]
    },
    {
     "name": "stderr",
     "output_type": "stream",
     "text": [
      "INFO - 2020-11-22 08:06:01,250 - connection - Transaction committed and closed.\n",
      "INFO - 2020-11-22 08:06:01,272 - connection - Transaction started\n",
      "INFO - 2020-11-22 08:06:01,274 - autopopulate - Populating: {'segment_id': 864691135909787049, 'decimation_version': 0, 'decimation_ratio': Decimal('0.25'), 'soma_index': 0}\n",
      "INFO - 2020-11-22 08:06:01,298 - connection - Transaction committed and closed.\n",
      "INFO - 2020-11-22 08:06:01,318 - connection - Transaction started\n",
      "INFO - 2020-11-22 08:06:01,319 - autopopulate - Populating: {'segment_id': 864691135909787305, 'decimation_version': 0, 'decimation_ratio': Decimal('0.25'), 'soma_index': 1}\n",
      "INFO - 2020-11-22 08:06:01,449 - connection - Transaction committed and closed.\n"
     ]
    },
    {
     "name": "stdout",
     "output_type": "stream",
     "text": [
      "\n",
      "\n",
      "\n",
      "---- Working on 864691135909787049, soma idx 0 ----\n",
      "\n",
      "\n",
      "\n",
      "---- Working on 864691135909787305, soma idx 1 ----\n"
     ]
    },
    {
     "name": "stderr",
     "output_type": "stream",
     "text": [
      "INFO - 2020-11-22 08:06:01,494 - connection - Transaction started\n",
      "INFO - 2020-11-22 08:06:01,496 - connection - Transaction cancelled. Rolling back ...\n",
      "INFO - 2020-11-22 08:06:01,543 - connection - Transaction started\n",
      "INFO - 2020-11-22 08:06:01,545 - autopopulate - Populating: {'segment_id': 864691135909844888, 'decimation_version': 0, 'decimation_ratio': Decimal('0.25'), 'soma_index': 1}\n",
      "INFO - 2020-11-22 08:06:01,601 - connection - Transaction committed and closed.\n",
      "INFO - 2020-11-22 08:06:01,641 - connection - Transaction started\n",
      "INFO - 2020-11-22 08:06:01,642 - connection - Transaction cancelled. Rolling back ...\n",
      "INFO - 2020-11-22 08:06:01,693 - connection - Transaction started\n",
      "INFO - 2020-11-22 08:06:01,696 - autopopulate - Populating: {'segment_id': 864691135910007512, 'decimation_version': 0, 'decimation_ratio': Decimal('0.25'), 'soma_index': 1}\n"
     ]
    },
    {
     "name": "stdout",
     "output_type": "stream",
     "text": [
      "\n",
      "\n",
      "\n",
      "---- Working on 864691135909844888, soma idx 1 ----\n",
      "\n",
      "\n",
      "\n",
      "---- Working on 864691135910007512, soma idx 1 ----\n"
     ]
    },
    {
     "name": "stderr",
     "output_type": "stream",
     "text": [
      "INFO - 2020-11-22 08:06:01,757 - connection - Transaction committed and closed.\n",
      "INFO - 2020-11-22 08:06:01,790 - connection - Transaction started\n",
      "INFO - 2020-11-22 08:06:01,792 - autopopulate - Populating: {'segment_id': 864691135910161004, 'decimation_version': 0, 'decimation_ratio': Decimal('0.25'), 'soma_index': 0}\n",
      "INFO - 2020-11-22 08:06:01,822 - connection - Transaction committed and closed.\n",
      "INFO - 2020-11-22 08:06:01,867 - connection - Transaction started\n",
      "INFO - 2020-11-22 08:06:01,869 - autopopulate - Populating: {'segment_id': 864691135910274401, 'decimation_version': 0, 'decimation_ratio': Decimal('0.25'), 'soma_index': 1}\n",
      "INFO - 2020-11-22 08:06:01,955 - connection - Transaction committed and closed.\n",
      "INFO - 2020-11-22 08:06:01,984 - connection - Transaction started\n",
      "INFO - 2020-11-22 08:06:01,987 - connection - Transaction cancelled. Rolling back ...\n"
     ]
    },
    {
     "name": "stdout",
     "output_type": "stream",
     "text": [
      "\n",
      "\n",
      "\n",
      "---- Working on 864691135910161004, soma idx 0 ----\n",
      "\n",
      "\n",
      "\n",
      "---- Working on 864691135910274401, soma idx 1 ----\n"
     ]
    },
    {
     "name": "stderr",
     "output_type": "stream",
     "text": [
      "INFO - 2020-11-22 08:06:02,039 - connection - Transaction started\n",
      "INFO - 2020-11-22 08:06:02,041 - connection - Transaction cancelled. Rolling back ...\n",
      "INFO - 2020-11-22 08:06:02,075 - connection - Transaction started\n",
      "INFO - 2020-11-22 08:06:02,076 - autopopulate - Populating: {'segment_id': 864691135910440033, 'decimation_version': 0, 'decimation_ratio': Decimal('0.25'), 'soma_index': 1}\n",
      "INFO - 2020-11-22 08:06:02,204 - connection - Transaction committed and closed.\n",
      "INFO - 2020-11-22 08:06:02,235 - connection - Transaction started\n",
      "INFO - 2020-11-22 08:06:02,237 - connection - Transaction cancelled. Rolling back ...\n"
     ]
    },
    {
     "name": "stdout",
     "output_type": "stream",
     "text": [
      "\n",
      "\n",
      "\n",
      "---- Working on 864691135910440033, soma idx 1 ----\n"
     ]
    },
    {
     "name": "stderr",
     "output_type": "stream",
     "text": [
      "INFO - 2020-11-22 08:06:02,280 - connection - Transaction started\n",
      "INFO - 2020-11-22 08:06:02,282 - connection - Transaction cancelled. Rolling back ...\n",
      "INFO - 2020-11-22 08:06:02,323 - connection - Transaction started\n",
      "INFO - 2020-11-22 08:06:02,325 - autopopulate - Populating: {'segment_id': 864691135910655633, 'decimation_version': 0, 'decimation_ratio': Decimal('0.25'), 'soma_index': 0}\n",
      "INFO - 2020-11-22 08:06:02,357 - connection - Transaction committed and closed.\n",
      "INFO - 2020-11-22 08:06:02,399 - connection - Transaction started\n",
      "INFO - 2020-11-22 08:06:02,400 - connection - Transaction cancelled. Rolling back ...\n",
      "INFO - 2020-11-22 08:06:02,456 - connection - Transaction started\n",
      "INFO - 2020-11-22 08:06:02,458 - connection - Transaction cancelled. Rolling back ...\n",
      "INFO - 2020-11-22 08:06:02,506 - connection - Transaction started\n",
      "INFO - 2020-11-22 08:06:02,508 - autopopulate - Populating: {'segment_id': 864691135910984545, 'decimation_version': 0, 'decimation_ratio': Decimal('0.25'), 'soma_index': 0}\n"
     ]
    },
    {
     "name": "stdout",
     "output_type": "stream",
     "text": [
      "\n",
      "\n",
      "\n",
      "---- Working on 864691135910655633, soma idx 0 ----\n",
      "\n",
      "\n",
      "\n",
      "---- Working on 864691135910984545, soma idx 0 ----\n"
     ]
    },
    {
     "name": "stderr",
     "output_type": "stream",
     "text": [
      "INFO - 2020-11-22 08:06:02,544 - connection - Transaction committed and closed.\n",
      "INFO - 2020-11-22 08:06:02,590 - connection - Transaction started\n",
      "INFO - 2020-11-22 08:06:02,591 - autopopulate - Populating: {'segment_id': 864691135911102305, 'decimation_version': 0, 'decimation_ratio': Decimal('0.25'), 'soma_index': 0}\n",
      "INFO - 2020-11-22 08:06:02,612 - connection - Transaction committed and closed.\n",
      "INFO - 2020-11-22 08:06:02,654 - connection - Transaction started\n",
      "INFO - 2020-11-22 08:06:02,656 - autopopulate - Populating: {'segment_id': 864691135911255388, 'decimation_version': 0, 'decimation_ratio': Decimal('0.25'), 'soma_index': 0}\n",
      "INFO - 2020-11-22 08:06:02,690 - connection - Transaction committed and closed.\n",
      "INFO - 2020-11-22 08:06:02,725 - connection - Transaction started\n",
      "INFO - 2020-11-22 08:06:02,726 - connection - Transaction cancelled. Rolling back ...\n",
      "INFO - 2020-11-22 08:06:02,757 - connection - Transaction started\n",
      "INFO - 2020-11-22 08:06:02,759 - autopopulate - Populating: {'segment_id': 864691135911938776, 'decimation_version': 0, 'decimation_ratio': Decimal('0.25'), 'soma_index': 1}\n"
     ]
    },
    {
     "name": "stdout",
     "output_type": "stream",
     "text": [
      "\n",
      "\n",
      "\n",
      "---- Working on 864691135911102305, soma idx 0 ----\n",
      "\n",
      "\n",
      "\n",
      "---- Working on 864691135911255388, soma idx 0 ----\n",
      "\n",
      "\n",
      "\n",
      "---- Working on 864691135911938776, soma idx 1 ----\n"
     ]
    },
    {
     "name": "stderr",
     "output_type": "stream",
     "text": [
      "INFO - 2020-11-22 08:06:02,875 - connection - Transaction committed and closed.\n",
      "INFO - 2020-11-22 08:06:02,913 - connection - Transaction started\n",
      "INFO - 2020-11-22 08:06:02,914 - connection - Transaction cancelled. Rolling back ...\n",
      "INFO - 2020-11-22 08:06:02,961 - connection - Transaction started\n",
      "INFO - 2020-11-22 08:06:02,963 - autopopulate - Populating: {'segment_id': 864691135912263892, 'decimation_version': 0, 'decimation_ratio': Decimal('0.25'), 'soma_index': 0}\n",
      "INFO - 2020-11-22 08:06:02,998 - connection - Transaction committed and closed.\n",
      "INFO - 2020-11-22 08:06:03,033 - connection - Transaction started\n",
      "INFO - 2020-11-22 08:06:03,034 - autopopulate - Populating: {'segment_id': 864691135912664929, 'decimation_version': 0, 'decimation_ratio': Decimal('0.25'), 'soma_index': 0}\n",
      "INFO - 2020-11-22 08:06:03,070 - connection - Transaction committed and closed.\n",
      "INFO - 2020-11-22 08:06:03,102 - connection - Transaction started\n",
      "INFO - 2020-11-22 08:06:03,103 - autopopulate - Populating: {'segment_id': 864691135912862676, 'decimation_version': 0, 'decimation_ratio': Decimal('0.25'), 'soma_index': 0}\n",
      "INFO - 2020-11-22 08:06:03,127 - connection - Transaction committed and closed.\n",
      "INFO - 2020-11-22 08:06:03,156 - connection - Transaction started\n",
      "INFO - 2020-11-22 08:06:03,159 - autopopulate - Populating: {'segment_id': 864691135912916180, 'decimation_version': 0, 'decimation_ratio': Decimal('0.25'), 'soma_index': 0}\n"
     ]
    },
    {
     "name": "stdout",
     "output_type": "stream",
     "text": [
      "\n",
      "\n",
      "\n",
      "---- Working on 864691135912263892, soma idx 0 ----\n",
      "\n",
      "\n",
      "\n",
      "---- Working on 864691135912664929, soma idx 0 ----\n",
      "\n",
      "\n",
      "\n",
      "---- Working on 864691135912862676, soma idx 0 ----\n",
      "\n",
      "\n",
      "\n",
      "---- Working on 864691135912916180, soma idx 0 ----\n"
     ]
    },
    {
     "name": "stderr",
     "output_type": "stream",
     "text": [
      "INFO - 2020-11-22 08:06:03,193 - connection - Transaction committed and closed.\n",
      "INFO - 2020-11-22 08:06:03,227 - connection - Transaction started\n",
      "INFO - 2020-11-22 08:06:03,229 - autopopulate - Populating: {'segment_id': 864691135913069538, 'decimation_version': 0, 'decimation_ratio': Decimal('0.25'), 'soma_index': 0}\n",
      "INFO - 2020-11-22 08:06:03,260 - connection - Transaction committed and closed.\n",
      "INFO - 2020-11-22 08:06:03,314 - connection - Transaction started\n",
      "INFO - 2020-11-22 08:06:03,315 - autopopulate - Populating: {'segment_id': 864691135913155028, 'decimation_version': 0, 'decimation_ratio': Decimal('0.25'), 'soma_index': 1}\n",
      "INFO - 2020-11-22 08:06:03,386 - connection - Transaction committed and closed.\n",
      "INFO - 2020-11-22 08:06:03,418 - connection - Transaction started\n",
      "INFO - 2020-11-22 08:06:03,420 - autopopulate - Populating: {'segment_id': 864691135913241185, 'decimation_version': 0, 'decimation_ratio': Decimal('0.25'), 'soma_index': 0}\n"
     ]
    },
    {
     "name": "stdout",
     "output_type": "stream",
     "text": [
      "\n",
      "\n",
      "\n",
      "---- Working on 864691135913069538, soma idx 0 ----\n",
      "\n",
      "\n",
      "\n",
      "---- Working on 864691135913155028, soma idx 1 ----\n",
      "\n",
      "\n",
      "\n",
      "---- Working on 864691135913241185, soma idx 0 ----\n"
     ]
    },
    {
     "name": "stderr",
     "output_type": "stream",
     "text": [
      "INFO - 2020-11-22 08:06:03,445 - connection - Transaction committed and closed.\n",
      "INFO - 2020-11-22 08:06:03,481 - connection - Transaction started\n",
      "INFO - 2020-11-22 08:06:03,482 - autopopulate - Populating: {'segment_id': 864691135913300577, 'decimation_version': 0, 'decimation_ratio': Decimal('0.25'), 'soma_index': 0}\n",
      "INFO - 2020-11-22 08:06:03,518 - connection - Transaction committed and closed.\n",
      "INFO - 2020-11-22 08:06:03,565 - connection - Transaction started\n",
      "INFO - 2020-11-22 08:06:03,566 - autopopulate - Populating: {'segment_id': 864691135913316564, 'decimation_version': 0, 'decimation_ratio': Decimal('0.25'), 'soma_index': 1}\n",
      "INFO - 2020-11-22 08:06:03,613 - connection - Transaction committed and closed.\n",
      "INFO - 2020-11-22 08:06:03,650 - connection - Transaction started\n",
      "INFO - 2020-11-22 08:06:03,652 - connection - Transaction cancelled. Rolling back ...\n"
     ]
    },
    {
     "name": "stdout",
     "output_type": "stream",
     "text": [
      "\n",
      "\n",
      "\n",
      "---- Working on 864691135913300577, soma idx 0 ----\n",
      "\n",
      "\n",
      "\n",
      "---- Working on 864691135913316564, soma idx 1 ----\n"
     ]
    },
    {
     "name": "stderr",
     "output_type": "stream",
     "text": [
      "INFO - 2020-11-22 08:06:03,686 - connection - Transaction started\n",
      "INFO - 2020-11-22 08:06:03,687 - autopopulate - Populating: {'segment_id': 864691135913362529, 'decimation_version': 0, 'decimation_ratio': Decimal('0.25'), 'soma_index': 1}\n",
      "INFO - 2020-11-22 08:06:03,748 - connection - Transaction committed and closed.\n",
      "INFO - 2020-11-22 08:06:03,798 - connection - Transaction started\n",
      "INFO - 2020-11-22 08:06:03,799 - connection - Transaction cancelled. Rolling back ...\n",
      "INFO - 2020-11-22 08:06:03,837 - connection - Transaction started\n",
      "INFO - 2020-11-22 08:06:03,838 - connection - Transaction cancelled. Rolling back ...\n",
      "INFO - 2020-11-22 08:06:03,881 - connection - Transaction started\n",
      "INFO - 2020-11-22 08:06:03,883 - connection - Transaction cancelled. Rolling back ...\n"
     ]
    },
    {
     "name": "stdout",
     "output_type": "stream",
     "text": [
      "\n",
      "\n",
      "\n",
      "---- Working on 864691135913362529, soma idx 1 ----\n"
     ]
    },
    {
     "name": "stderr",
     "output_type": "stream",
     "text": [
      "INFO - 2020-11-22 08:06:03,920 - connection - Transaction started\n",
      "INFO - 2020-11-22 08:06:03,922 - autopopulate - Populating: {'segment_id': 864691135913483220, 'decimation_version': 0, 'decimation_ratio': Decimal('0.25'), 'soma_index': 0}\n",
      "INFO - 2020-11-22 08:06:03,954 - connection - Transaction committed and closed.\n",
      "INFO - 2020-11-22 08:06:03,976 - connection - Transaction started\n",
      "INFO - 2020-11-22 08:06:03,977 - autopopulate - Populating: {'segment_id': 864691135913780436, 'decimation_version': 0, 'decimation_ratio': Decimal('0.25'), 'soma_index': 0}\n",
      "INFO - 2020-11-22 08:06:04,008 - connection - Transaction committed and closed.\n",
      "INFO - 2020-11-22 08:06:04,041 - connection - Transaction started\n",
      "INFO - 2020-11-22 08:06:04,042 - autopopulate - Populating: {'segment_id': 864691135913801172, 'decimation_version': 0, 'decimation_ratio': Decimal('0.25'), 'soma_index': 0}\n",
      "INFO - 2020-11-22 08:06:04,076 - connection - Transaction committed and closed.\n",
      "INFO - 2020-11-22 08:06:04,107 - connection - Transaction started\n",
      "INFO - 2020-11-22 08:06:04,109 - autopopulate - Populating: {'segment_id': 864691135913991892, 'decimation_version': 0, 'decimation_ratio': Decimal('0.25'), 'soma_index': 1}\n"
     ]
    },
    {
     "name": "stdout",
     "output_type": "stream",
     "text": [
      "\n",
      "\n",
      "\n",
      "---- Working on 864691135913483220, soma idx 0 ----\n",
      "\n",
      "\n",
      "\n",
      "---- Working on 864691135913780436, soma idx 0 ----\n",
      "\n",
      "\n",
      "\n",
      "---- Working on 864691135913801172, soma idx 0 ----\n",
      "\n",
      "\n",
      "\n",
      "---- Working on 864691135913991892, soma idx 1 ----\n"
     ]
    },
    {
     "name": "stderr",
     "output_type": "stream",
     "text": [
      "INFO - 2020-11-22 08:06:04,156 - connection - Transaction committed and closed.\n",
      "INFO - 2020-11-22 08:06:04,190 - connection - Transaction started\n",
      "INFO - 2020-11-22 08:06:04,191 - autopopulate - Populating: {'segment_id': 864691135914094232, 'decimation_version': 0, 'decimation_ratio': Decimal('0.25'), 'soma_index': 1}\n",
      "INFO - 2020-11-22 08:06:04,329 - connection - Transaction committed and closed.\n",
      "INFO - 2020-11-22 08:06:04,369 - connection - Transaction started\n",
      "INFO - 2020-11-22 08:06:04,371 - autopopulate - Populating: {'segment_id': 864691135914138977, 'decimation_version': 0, 'decimation_ratio': Decimal('0.25'), 'soma_index': 1}\n"
     ]
    },
    {
     "name": "stdout",
     "output_type": "stream",
     "text": [
      "\n",
      "\n",
      "\n",
      "---- Working on 864691135914094232, soma idx 1 ----\n",
      "\n",
      "\n",
      "\n",
      "---- Working on 864691135914138977, soma idx 1 ----\n"
     ]
    },
    {
     "name": "stderr",
     "output_type": "stream",
     "text": [
      "INFO - 2020-11-22 08:06:04,422 - connection - Transaction committed and closed.\n",
      "INFO - 2020-11-22 08:06:04,465 - connection - Transaction started\n",
      "INFO - 2020-11-22 08:06:04,467 - autopopulate - Populating: {'segment_id': 864691135914549345, 'decimation_version': 0, 'decimation_ratio': Decimal('0.25'), 'soma_index': 1}\n",
      "INFO - 2020-11-22 08:06:04,544 - connection - Transaction committed and closed.\n",
      "INFO - 2020-11-22 08:06:04,581 - connection - Transaction started\n",
      "INFO - 2020-11-22 08:06:04,583 - connection - Transaction cancelled. Rolling back ...\n",
      "INFO - 2020-11-22 08:06:04,622 - connection - Transaction started\n",
      "INFO - 2020-11-22 08:06:04,623 - connection - Transaction cancelled. Rolling back ...\n"
     ]
    },
    {
     "name": "stdout",
     "output_type": "stream",
     "text": [
      "\n",
      "\n",
      "\n",
      "---- Working on 864691135914549345, soma idx 1 ----\n"
     ]
    },
    {
     "name": "stderr",
     "output_type": "stream",
     "text": [
      "INFO - 2020-11-22 08:06:04,680 - connection - Transaction started\n",
      "INFO - 2020-11-22 08:06:04,681 - connection - Transaction cancelled. Rolling back ...\n",
      "INFO - 2020-11-22 08:06:04,728 - connection - Transaction started\n",
      "INFO - 2020-11-22 08:06:04,730 - connection - Transaction cancelled. Rolling back ...\n",
      "INFO - 2020-11-22 08:06:04,771 - connection - Transaction started\n",
      "INFO - 2020-11-22 08:06:04,773 - connection - Transaction cancelled. Rolling back ...\n",
      "INFO - 2020-11-22 08:06:04,814 - connection - Transaction started\n",
      "INFO - 2020-11-22 08:06:04,819 - connection - Transaction cancelled. Rolling back ...\n",
      "INFO - 2020-11-22 08:06:04,867 - connection - Transaction started\n",
      "INFO - 2020-11-22 08:06:04,871 - connection - Transaction cancelled. Rolling back ...\n",
      "INFO - 2020-11-22 08:06:04,899 - connection - Transaction started\n",
      "INFO - 2020-11-22 08:06:04,901 - connection - Transaction cancelled. Rolling back ...\n",
      "INFO - 2020-11-22 08:06:04,970 - connection - Transaction started\n",
      "INFO - 2020-11-22 08:06:04,971 - connection - Transaction cancelled. Rolling back ...\n",
      "INFO - 2020-11-22 08:06:05,004 - connection - Transaction started\n",
      "INFO - 2020-11-22 08:06:05,006 - connection - Transaction cancelled. Rolling back ...\n",
      "INFO - 2020-11-22 08:06:05,049 - connection - Transaction started\n",
      "INFO - 2020-11-22 08:06:05,051 - connection - Transaction cancelled. Rolling back ...\n",
      "INFO - 2020-11-22 08:06:05,082 - connection - Transaction started\n",
      "INFO - 2020-11-22 08:06:05,084 - autopopulate - Populating: {'segment_id': 864691135915158630, 'decimation_version': 0, 'decimation_ratio': Decimal('0.25'), 'soma_index': 0}\n",
      "INFO - 2020-11-22 08:06:05,108 - connection - Transaction committed and closed.\n",
      "INFO - 2020-11-22 08:06:05,148 - connection - Transaction started\n",
      "INFO - 2020-11-22 08:06:05,149 - autopopulate - Populating: {'segment_id': 864691135915158886, 'decimation_version': 0, 'decimation_ratio': Decimal('0.25'), 'soma_index': 1}\n",
      "INFO - 2020-11-22 08:06:05,258 - connection - Transaction committed and closed.\n"
     ]
    },
    {
     "name": "stdout",
     "output_type": "stream",
     "text": [
      "\n",
      "\n",
      "\n",
      "---- Working on 864691135915158630, soma idx 0 ----\n",
      "\n",
      "\n",
      "\n",
      "---- Working on 864691135915158886, soma idx 1 ----\n"
     ]
    },
    {
     "name": "stderr",
     "output_type": "stream",
     "text": [
      "INFO - 2020-11-22 08:06:05,287 - connection - Transaction started\n",
      "INFO - 2020-11-22 08:06:05,290 - connection - Transaction cancelled. Rolling back ...\n",
      "INFO - 2020-11-22 08:06:05,328 - connection - Transaction started\n",
      "INFO - 2020-11-22 08:06:05,330 - connection - Transaction cancelled. Rolling back ...\n",
      "INFO - 2020-11-22 08:06:05,361 - connection - Transaction started\n",
      "INFO - 2020-11-22 08:06:05,362 - connection - Transaction cancelled. Rolling back ...\n",
      "INFO - 2020-11-22 08:06:05,385 - connection - Transaction started\n",
      "INFO - 2020-11-22 08:06:05,386 - autopopulate - Populating: {'segment_id': 864691135915160166, 'decimation_version': 0, 'decimation_ratio': Decimal('0.25'), 'soma_index': 0}\n",
      "INFO - 2020-11-22 08:06:05,410 - connection - Transaction committed and closed.\n",
      "INFO - 2020-11-22 08:06:05,431 - connection - Transaction started\n",
      "INFO - 2020-11-22 08:06:05,434 - autopopulate - Populating: {'segment_id': 864691135915160422, 'decimation_version': 0, 'decimation_ratio': Decimal('0.25'), 'soma_index': 1}\n",
      "INFO - 2020-11-22 08:06:05,489 - connection - Transaction committed and closed.\n",
      "INFO - 2020-11-22 08:06:05,522 - connection - Transaction started\n",
      "INFO - 2020-11-22 08:06:05,523 - autopopulate - Populating: {'segment_id': 864691135915160678, 'decimation_version': 0, 'decimation_ratio': Decimal('0.25'), 'soma_index': 1}\n",
      "INFO - 2020-11-22 08:06:05,565 - connection - Transaction committed and closed.\n"
     ]
    },
    {
     "name": "stdout",
     "output_type": "stream",
     "text": [
      "\n",
      "\n",
      "\n",
      "---- Working on 864691135915160166, soma idx 0 ----\n",
      "\n",
      "\n",
      "\n",
      "---- Working on 864691135915160422, soma idx 1 ----\n",
      "\n",
      "\n",
      "\n",
      "---- Working on 864691135915160678, soma idx 1 ----\n"
     ]
    },
    {
     "name": "stderr",
     "output_type": "stream",
     "text": [
      "INFO - 2020-11-22 08:06:05,610 - connection - Transaction started\n",
      "INFO - 2020-11-22 08:06:05,612 - connection - Transaction cancelled. Rolling back ...\n",
      "INFO - 2020-11-22 08:06:05,652 - connection - Transaction started\n",
      "INFO - 2020-11-22 08:06:05,654 - autopopulate - Populating: {'segment_id': 864691135915161446, 'decimation_version': 0, 'decimation_ratio': Decimal('0.25'), 'soma_index': 0}\n",
      "INFO - 2020-11-22 08:06:05,684 - connection - Transaction committed and closed.\n",
      "INFO - 2020-11-22 08:06:05,723 - connection - Transaction started\n",
      "INFO - 2020-11-22 08:06:05,724 - autopopulate - Populating: {'segment_id': 864691135915161958, 'decimation_version': 0, 'decimation_ratio': Decimal('0.25'), 'soma_index': 0}\n",
      "INFO - 2020-11-22 08:06:05,757 - connection - Transaction committed and closed.\n",
      "INFO - 2020-11-22 08:06:05,792 - connection - Transaction started\n",
      "INFO - 2020-11-22 08:06:05,793 - autopopulate - Populating: {'segment_id': 864691135915162214, 'decimation_version': 0, 'decimation_ratio': Decimal('0.25'), 'soma_index': 0}\n",
      "INFO - 2020-11-22 08:06:05,825 - connection - Transaction committed and closed.\n"
     ]
    },
    {
     "name": "stdout",
     "output_type": "stream",
     "text": [
      "\n",
      "\n",
      "\n",
      "---- Working on 864691135915161446, soma idx 0 ----\n",
      "\n",
      "\n",
      "\n",
      "---- Working on 864691135915161958, soma idx 0 ----\n",
      "\n",
      "\n",
      "\n",
      "---- Working on 864691135915162214, soma idx 0 ----\n"
     ]
    },
    {
     "name": "stderr",
     "output_type": "stream",
     "text": [
      "INFO - 2020-11-22 08:06:05,871 - connection - Transaction started\n",
      "INFO - 2020-11-22 08:06:05,872 - autopopulate - Populating: {'segment_id': 864691135915162982, 'decimation_version': 0, 'decimation_ratio': Decimal('0.25'), 'soma_index': 1}\n",
      "INFO - 2020-11-22 08:06:05,950 - connection - Transaction committed and closed.\n",
      "INFO - 2020-11-22 08:06:06,002 - connection - Transaction started\n",
      "INFO - 2020-11-22 08:06:06,003 - connection - Transaction cancelled. Rolling back ...\n",
      "INFO - 2020-11-22 08:06:06,046 - connection - Transaction started\n",
      "INFO - 2020-11-22 08:06:06,047 - autopopulate - Populating: {'segment_id': 864691135915164006, 'decimation_version': 0, 'decimation_ratio': Decimal('0.25'), 'soma_index': 1}\n"
     ]
    },
    {
     "name": "stdout",
     "output_type": "stream",
     "text": [
      "\n",
      "\n",
      "\n",
      "---- Working on 864691135915162982, soma idx 1 ----\n",
      "\n",
      "\n",
      "\n",
      "---- Working on 864691135915164006, soma idx 1 ----\n"
     ]
    },
    {
     "name": "stderr",
     "output_type": "stream",
     "text": [
      "INFO - 2020-11-22 08:06:06,180 - connection - Transaction committed and closed.\n",
      "INFO - 2020-11-22 08:06:06,208 - connection - Transaction started\n",
      "INFO - 2020-11-22 08:06:06,209 - connection - Transaction cancelled. Rolling back ...\n",
      "INFO - 2020-11-22 08:06:06,233 - connection - Transaction started\n",
      "INFO - 2020-11-22 08:06:06,234 - autopopulate - Populating: {'segment_id': 864691135915165030, 'decimation_version': 0, 'decimation_ratio': Decimal('0.25'), 'soma_index': 0}\n",
      "INFO - 2020-11-22 08:06:06,271 - connection - Transaction committed and closed.\n",
      "INFO - 2020-11-22 08:06:06,321 - connection - Transaction started\n",
      "INFO - 2020-11-22 08:06:06,322 - autopopulate - Populating: {'segment_id': 864691135915165542, 'decimation_version': 0, 'decimation_ratio': Decimal('0.25'), 'soma_index': 1}\n",
      "INFO - 2020-11-22 08:06:06,359 - connection - Transaction committed and closed.\n",
      "INFO - 2020-11-22 08:06:06,400 - connection - Transaction started\n",
      "INFO - 2020-11-22 08:06:06,402 - autopopulate - Populating: {'segment_id': 864691135915166054, 'decimation_version': 0, 'decimation_ratio': Decimal('0.25'), 'soma_index': 1}\n"
     ]
    },
    {
     "name": "stdout",
     "output_type": "stream",
     "text": [
      "\n",
      "\n",
      "\n",
      "---- Working on 864691135915165030, soma idx 0 ----\n",
      "\n",
      "\n",
      "\n",
      "---- Working on 864691135915165542, soma idx 1 ----\n",
      "\n",
      "\n",
      "\n",
      "---- Working on 864691135915166054, soma idx 1 ----\n"
     ]
    },
    {
     "name": "stderr",
     "output_type": "stream",
     "text": [
      "INFO - 2020-11-22 08:06:06,467 - connection - Transaction committed and closed.\n",
      "INFO - 2020-11-22 08:06:06,509 - connection - Transaction started\n",
      "INFO - 2020-11-22 08:06:06,512 - connection - Transaction cancelled. Rolling back ...\n",
      "INFO - 2020-11-22 08:06:06,549 - connection - Transaction started\n",
      "INFO - 2020-11-22 08:06:06,550 - autopopulate - Populating: {'segment_id': 864691135915166822, 'decimation_version': 0, 'decimation_ratio': Decimal('0.25'), 'soma_index': 0}\n",
      "INFO - 2020-11-22 08:06:06,581 - connection - Transaction committed and closed.\n",
      "INFO - 2020-11-22 08:06:06,613 - connection - Transaction started\n",
      "INFO - 2020-11-22 08:06:06,614 - autopopulate - Populating: {'segment_id': 864691135915167334, 'decimation_version': 0, 'decimation_ratio': Decimal('0.25'), 'soma_index': 0}\n",
      "INFO - 2020-11-22 08:06:06,650 - connection - Transaction committed and closed.\n",
      "INFO - 2020-11-22 08:06:06,689 - connection - Transaction started\n",
      "INFO - 2020-11-22 08:06:06,690 - autopopulate - Populating: {'segment_id': 864691135915168102, 'decimation_version': 0, 'decimation_ratio': Decimal('0.25'), 'soma_index': 0}\n",
      "INFO - 2020-11-22 08:06:06,721 - connection - Transaction committed and closed.\n"
     ]
    },
    {
     "name": "stdout",
     "output_type": "stream",
     "text": [
      "\n",
      "\n",
      "\n",
      "---- Working on 864691135915166822, soma idx 0 ----\n",
      "\n",
      "\n",
      "\n",
      "---- Working on 864691135915167334, soma idx 0 ----\n",
      "\n",
      "\n",
      "\n",
      "---- Working on 864691135915168102, soma idx 0 ----\n"
     ]
    },
    {
     "name": "stderr",
     "output_type": "stream",
     "text": [
      "INFO - 2020-11-22 08:06:06,777 - connection - Transaction started\n",
      "INFO - 2020-11-22 08:06:06,778 - connection - Transaction cancelled. Rolling back ...\n",
      "INFO - 2020-11-22 08:06:06,811 - connection - Transaction started\n",
      "INFO - 2020-11-22 08:06:06,813 - autopopulate - Populating: {'segment_id': 864691135915169126, 'decimation_version': 0, 'decimation_ratio': Decimal('0.25'), 'soma_index': 1}\n",
      "INFO - 2020-11-22 08:06:06,927 - connection - Transaction committed and closed.\n",
      "INFO - 2020-11-22 08:06:06,959 - connection - Transaction started\n",
      "INFO - 2020-11-22 08:06:06,960 - connection - Transaction cancelled. Rolling back ...\n",
      "INFO - 2020-11-22 08:06:07,008 - connection - Transaction started\n",
      "INFO - 2020-11-22 08:06:07,010 - autopopulate - Populating: {'segment_id': 864691135915170406, 'decimation_version': 0, 'decimation_ratio': Decimal('0.25'), 'soma_index': 0}\n"
     ]
    },
    {
     "name": "stdout",
     "output_type": "stream",
     "text": [
      "\n",
      "\n",
      "\n",
      "---- Working on 864691135915169126, soma idx 1 ----\n",
      "\n",
      "\n",
      "\n",
      "---- Working on 864691135915170406, soma idx 0 ----\n"
     ]
    },
    {
     "name": "stderr",
     "output_type": "stream",
     "text": [
      "INFO - 2020-11-22 08:06:07,048 - connection - Transaction committed and closed.\n",
      "INFO - 2020-11-22 08:06:07,084 - connection - Transaction started\n",
      "INFO - 2020-11-22 08:06:07,092 - autopopulate - Populating: {'segment_id': 864691135915170918, 'decimation_version': 0, 'decimation_ratio': Decimal('0.25'), 'soma_index': 1}\n",
      "INFO - 2020-11-22 08:06:07,240 - connection - Transaction committed and closed.\n",
      "INFO - 2020-11-22 08:06:07,277 - connection - Transaction started\n",
      "INFO - 2020-11-22 08:06:07,279 - connection - Transaction cancelled. Rolling back ...\n"
     ]
    },
    {
     "name": "stdout",
     "output_type": "stream",
     "text": [
      "\n",
      "\n",
      "\n",
      "---- Working on 864691135915170918, soma idx 1 ----\n"
     ]
    },
    {
     "name": "stderr",
     "output_type": "stream",
     "text": [
      "INFO - 2020-11-22 08:06:07,313 - connection - Transaction started\n",
      "INFO - 2020-11-22 08:06:07,315 - autopopulate - Populating: {'segment_id': 864691135915171686, 'decimation_version': 0, 'decimation_ratio': Decimal('0.25'), 'soma_index': 0}\n",
      "INFO - 2020-11-22 08:06:07,358 - connection - Transaction committed and closed.\n",
      "INFO - 2020-11-22 08:06:07,393 - connection - Transaction started\n",
      "INFO - 2020-11-22 08:06:07,395 - autopopulate - Populating: {'segment_id': 864691135915171942, 'decimation_version': 0, 'decimation_ratio': Decimal('0.25'), 'soma_index': 0}\n",
      "INFO - 2020-11-22 08:06:07,419 - connection - Transaction committed and closed.\n",
      "INFO - 2020-11-22 08:06:07,454 - connection - Transaction started\n",
      "INFO - 2020-11-22 08:06:07,455 - autopopulate - Populating: {'segment_id': 864691135915172198, 'decimation_version': 0, 'decimation_ratio': Decimal('0.25'), 'soma_index': 1}\n",
      "INFO - 2020-11-22 08:06:07,506 - connection - Transaction committed and closed.\n"
     ]
    },
    {
     "name": "stdout",
     "output_type": "stream",
     "text": [
      "\n",
      "\n",
      "\n",
      "---- Working on 864691135915171686, soma idx 0 ----\n",
      "\n",
      "\n",
      "\n",
      "---- Working on 864691135915171942, soma idx 0 ----\n",
      "\n",
      "\n",
      "\n",
      "---- Working on 864691135915172198, soma idx 1 ----\n"
     ]
    },
    {
     "name": "stderr",
     "output_type": "stream",
     "text": [
      "INFO - 2020-11-22 08:06:07,539 - connection - Transaction started\n",
      "INFO - 2020-11-22 08:06:07,542 - autopopulate - Populating: {'segment_id': 864691135915172710, 'decimation_version': 0, 'decimation_ratio': Decimal('0.25'), 'soma_index': 1}\n",
      "INFO - 2020-11-22 08:06:07,679 - connection - Transaction committed and closed.\n",
      "INFO - 2020-11-22 08:06:07,701 - connection - Transaction started\n",
      "INFO - 2020-11-22 08:06:07,704 - connection - Transaction cancelled. Rolling back ...\n",
      "INFO - 2020-11-22 08:06:07,738 - connection - Transaction started\n",
      "INFO - 2020-11-22 08:06:07,740 - autopopulate - Populating: {'segment_id': 864691135915173734, 'decimation_version': 0, 'decimation_ratio': Decimal('0.25'), 'soma_index': 0}\n"
     ]
    },
    {
     "name": "stdout",
     "output_type": "stream",
     "text": [
      "\n",
      "\n",
      "\n",
      "---- Working on 864691135915172710, soma idx 1 ----\n",
      "\n",
      "\n",
      "\n",
      "---- Working on 864691135915173734, soma idx 0 ----\n"
     ]
    },
    {
     "name": "stderr",
     "output_type": "stream",
     "text": [
      "INFO - 2020-11-22 08:06:07,764 - connection - Transaction committed and closed.\n",
      "INFO - 2020-11-22 08:06:07,798 - connection - Transaction started\n",
      "INFO - 2020-11-22 08:06:07,800 - autopopulate - Populating: {'segment_id': 864691135915174246, 'decimation_version': 0, 'decimation_ratio': Decimal('0.25'), 'soma_index': 1}\n",
      "INFO - 2020-11-22 08:06:07,931 - connection - Transaction committed and closed.\n",
      "INFO - 2020-11-22 08:06:07,971 - connection - Transaction started\n",
      "INFO - 2020-11-22 08:06:07,973 - connection - Transaction cancelled. Rolling back ...\n"
     ]
    },
    {
     "name": "stdout",
     "output_type": "stream",
     "text": [
      "\n",
      "\n",
      "\n",
      "---- Working on 864691135915174246, soma idx 1 ----\n"
     ]
    },
    {
     "name": "stderr",
     "output_type": "stream",
     "text": [
      "INFO - 2020-11-22 08:06:08,013 - connection - Transaction started\n",
      "INFO - 2020-11-22 08:06:08,016 - connection - Transaction cancelled. Rolling back ...\n",
      "INFO - 2020-11-22 08:06:08,051 - connection - Transaction started\n",
      "INFO - 2020-11-22 08:06:08,053 - autopopulate - Populating: {'segment_id': 864691135915175270, 'decimation_version': 0, 'decimation_ratio': Decimal('0.25'), 'soma_index': 0}\n",
      "INFO - 2020-11-22 08:06:08,095 - connection - Transaction committed and closed.\n",
      "INFO - 2020-11-22 08:06:08,127 - connection - Transaction started\n",
      "INFO - 2020-11-22 08:06:08,129 - autopopulate - Populating: {'segment_id': 864691135915175782, 'decimation_version': 0, 'decimation_ratio': Decimal('0.25'), 'soma_index': 0}\n",
      "INFO - 2020-11-22 08:06:08,146 - connection - Transaction committed and closed.\n",
      "INFO - 2020-11-22 08:06:08,175 - connection - Transaction started\n",
      "INFO - 2020-11-22 08:06:08,176 - autopopulate - Populating: {'segment_id': 864691135915176294, 'decimation_version': 0, 'decimation_ratio': Decimal('0.25'), 'soma_index': 1}\n",
      "INFO - 2020-11-22 08:06:08,244 - connection - Transaction committed and closed.\n"
     ]
    },
    {
     "name": "stdout",
     "output_type": "stream",
     "text": [
      "\n",
      "\n",
      "\n",
      "---- Working on 864691135915175270, soma idx 0 ----\n",
      "\n",
      "\n",
      "\n",
      "---- Working on 864691135915175782, soma idx 0 ----\n",
      "\n",
      "\n",
      "\n",
      "---- Working on 864691135915176294, soma idx 1 ----\n"
     ]
    },
    {
     "name": "stderr",
     "output_type": "stream",
     "text": [
      "INFO - 2020-11-22 08:06:08,287 - connection - Transaction started\n",
      "INFO - 2020-11-22 08:06:08,290 - autopopulate - Populating: {'segment_id': 864691135915176550, 'decimation_version': 0, 'decimation_ratio': Decimal('0.25'), 'soma_index': 1}\n",
      "INFO - 2020-11-22 08:06:08,467 - connection - Transaction committed and closed.\n",
      "INFO - 2020-11-22 08:06:08,490 - connection - Transaction started\n",
      "INFO - 2020-11-22 08:06:08,491 - autopopulate - Populating: {'segment_id': 864691135915177062, 'decimation_version': 0, 'decimation_ratio': Decimal('0.25'), 'soma_index': 2}\n"
     ]
    },
    {
     "name": "stdout",
     "output_type": "stream",
     "text": [
      "\n",
      "\n",
      "\n",
      "---- Working on 864691135915176550, soma idx 1 ----\n"
     ]
    },
    {
     "name": "stderr",
     "output_type": "stream",
     "text": [
      "INFO - 2020-11-22 08:06:08,564 - connection - Transaction committed and closed.\n",
      "INFO - 2020-11-22 08:06:08,615 - connection - Transaction started\n",
      "INFO - 2020-11-22 08:06:08,617 - autopopulate - Populating: {'segment_id': 864691135915177574, 'decimation_version': 0, 'decimation_ratio': Decimal('0.25'), 'soma_index': 0}\n",
      "INFO - 2020-11-22 08:06:08,648 - connection - Transaction committed and closed.\n",
      "INFO - 2020-11-22 08:06:08,691 - connection - Transaction started\n",
      "INFO - 2020-11-22 08:06:08,693 - autopopulate - Populating: {'segment_id': 864691135915178086, 'decimation_version': 0, 'decimation_ratio': Decimal('0.25'), 'soma_index': 0}\n",
      "INFO - 2020-11-22 08:06:08,727 - connection - Transaction committed and closed.\n",
      "INFO - 2020-11-22 08:06:08,757 - connection - Transaction started\n",
      "INFO - 2020-11-22 08:06:08,759 - autopopulate - Populating: {'segment_id': 864691135915178598, 'decimation_version': 0, 'decimation_ratio': Decimal('0.25'), 'soma_index': 0}\n",
      "INFO - 2020-11-22 08:06:08,794 - connection - Transaction committed and closed.\n",
      "INFO - 2020-11-22 08:06:08,817 - connection - Transaction started\n",
      "INFO - 2020-11-22 08:06:08,818 - autopopulate - Populating: {'segment_id': 864691135915178854, 'decimation_version': 0, 'decimation_ratio': Decimal('0.25'), 'soma_index': 0}\n"
     ]
    },
    {
     "name": "stdout",
     "output_type": "stream",
     "text": [
      "\n",
      "\n",
      "\n",
      "---- Working on 864691135915177062, soma idx 2 ----\n",
      "\n",
      "\n",
      "\n",
      "---- Working on 864691135915177574, soma idx 0 ----\n",
      "\n",
      "\n",
      "\n",
      "---- Working on 864691135915178086, soma idx 0 ----\n",
      "\n",
      "\n",
      "\n",
      "---- Working on 864691135915178598, soma idx 0 ----\n"
     ]
    },
    {
     "name": "stderr",
     "output_type": "stream",
     "text": [
      "INFO - 2020-11-22 08:06:08,847 - connection - Transaction committed and closed.\n",
      "INFO - 2020-11-22 08:06:08,888 - connection - Transaction started\n",
      "INFO - 2020-11-22 08:06:08,891 - autopopulate - Populating: {'segment_id': 864691135915179110, 'decimation_version': 0, 'decimation_ratio': Decimal('0.25'), 'soma_index': 1}\n"
     ]
    },
    {
     "name": "stdout",
     "output_type": "stream",
     "text": [
      "\n",
      "\n",
      "\n",
      "---- Working on 864691135915178854, soma idx 0 ----\n",
      "\n",
      "\n",
      "\n",
      "---- Working on 864691135915179110, soma idx 1 ----\n"
     ]
    },
    {
     "name": "stderr",
     "output_type": "stream",
     "text": [
      "INFO - 2020-11-22 08:06:09,021 - connection - Transaction committed and closed.\n",
      "INFO - 2020-11-22 08:06:09,052 - connection - Transaction started\n",
      "INFO - 2020-11-22 08:06:09,053 - connection - Transaction cancelled. Rolling back ...\n",
      "INFO - 2020-11-22 08:06:09,094 - connection - Transaction started\n",
      "INFO - 2020-11-22 08:06:09,097 - connection - Transaction cancelled. Rolling back ...\n",
      "INFO - 2020-11-22 08:06:09,139 - connection - Transaction started\n",
      "INFO - 2020-11-22 08:06:09,141 - autopopulate - Populating: {'segment_id': 864691135915181158, 'decimation_version': 0, 'decimation_ratio': Decimal('0.25'), 'soma_index': 0}\n",
      "INFO - 2020-11-22 08:06:09,176 - connection - Transaction committed and closed.\n",
      "INFO - 2020-11-22 08:06:09,199 - connection - Transaction started\n",
      "INFO - 2020-11-22 08:06:09,200 - autopopulate - Populating: {'segment_id': 864691135915181670, 'decimation_version': 0, 'decimation_ratio': Decimal('0.25'), 'soma_index': 0}\n",
      "INFO - 2020-11-22 08:06:09,216 - connection - Transaction committed and closed.\n",
      "INFO - 2020-11-22 08:06:09,235 - connection - Transaction started\n",
      "INFO - 2020-11-22 08:06:09,237 - autopopulate - Populating: {'segment_id': 864691135915181926, 'decimation_version': 0, 'decimation_ratio': Decimal('0.25'), 'soma_index': 0}\n",
      "INFO - 2020-11-22 08:06:09,271 - connection - Transaction committed and closed.\n",
      "INFO - 2020-11-22 08:06:09,315 - connection - Transaction started\n",
      "INFO - 2020-11-22 08:06:09,317 - autopopulate - Populating: {'segment_id': 864691135915182182, 'decimation_version': 0, 'decimation_ratio': Decimal('0.25'), 'soma_index': 1}\n"
     ]
    },
    {
     "name": "stdout",
     "output_type": "stream",
     "text": [
      "\n",
      "\n",
      "\n",
      "---- Working on 864691135915181158, soma idx 0 ----\n",
      "\n",
      "\n",
      "\n",
      "---- Working on 864691135915181670, soma idx 0 ----\n",
      "\n",
      "\n",
      "\n",
      "---- Working on 864691135915181926, soma idx 0 ----\n",
      "\n",
      "\n",
      "\n",
      "---- Working on 864691135915182182, soma idx 1 ----\n"
     ]
    },
    {
     "name": "stderr",
     "output_type": "stream",
     "text": [
      "INFO - 2020-11-22 08:06:09,402 - connection - Transaction committed and closed.\n",
      "INFO - 2020-11-22 08:06:09,437 - connection - Transaction started\n",
      "INFO - 2020-11-22 08:06:09,438 - autopopulate - Populating: {'segment_id': 864691135915182694, 'decimation_version': 0, 'decimation_ratio': Decimal('0.25'), 'soma_index': 1}\n",
      "INFO - 2020-11-22 08:06:09,509 - connection - Transaction committed and closed.\n",
      "INFO - 2020-11-22 08:06:09,553 - connection - Transaction started\n",
      "INFO - 2020-11-22 08:06:09,555 - connection - Transaction cancelled. Rolling back ...\n",
      "INFO - 2020-11-22 08:06:09,606 - connection - Transaction started\n",
      "INFO - 2020-11-22 08:06:09,608 - connection - Transaction cancelled. Rolling back ...\n"
     ]
    },
    {
     "name": "stdout",
     "output_type": "stream",
     "text": [
      "\n",
      "\n",
      "\n",
      "---- Working on 864691135915182694, soma idx 1 ----\n"
     ]
    },
    {
     "name": "stderr",
     "output_type": "stream",
     "text": [
      "INFO - 2020-11-22 08:06:09,653 - connection - Transaction started\n",
      "INFO - 2020-11-22 08:06:09,654 - autopopulate - Populating: {'segment_id': 864691135915186022, 'decimation_version': 0, 'decimation_ratio': Decimal('0.25'), 'soma_index': 1}\n"
     ]
    },
    {
     "name": "stdout",
     "output_type": "stream",
     "text": [
      "\n",
      "\n",
      "\n",
      "---- Working on 864691135915186022, soma idx 1 ----\n"
     ]
    },
    {
     "name": "stderr",
     "output_type": "stream",
     "text": [
      "INFO - 2020-11-22 08:06:10,000 - connection - Transaction committed and closed.\n",
      "INFO - 2020-11-22 08:06:10,045 - connection - Transaction started\n",
      "INFO - 2020-11-22 08:06:10,047 - connection - Transaction cancelled. Rolling back ...\n",
      "INFO - 2020-11-22 08:06:10,089 - connection - Transaction started\n",
      "INFO - 2020-11-22 08:06:10,090 - connection - Transaction cancelled. Rolling back ...\n",
      "INFO - 2020-11-22 08:06:10,113 - connection - Transaction started\n",
      "INFO - 2020-11-22 08:06:10,115 - connection - Transaction cancelled. Rolling back ...\n",
      "INFO - 2020-11-22 08:06:10,148 - connection - Transaction started\n",
      "INFO - 2020-11-22 08:06:10,151 - connection - Transaction cancelled. Rolling back ...\n",
      "INFO - 2020-11-22 08:06:10,196 - connection - Transaction started\n",
      "INFO - 2020-11-22 08:06:10,198 - connection - Transaction cancelled. Rolling back ...\n",
      "INFO - 2020-11-22 08:06:10,229 - connection - Transaction started\n",
      "INFO - 2020-11-22 08:06:10,231 - connection - Transaction cancelled. Rolling back ...\n",
      "INFO - 2020-11-22 08:06:10,263 - connection - Transaction started\n",
      "INFO - 2020-11-22 08:06:10,265 - connection - Transaction cancelled. Rolling back ...\n",
      "INFO - 2020-11-22 08:06:10,311 - connection - Transaction started\n",
      "INFO - 2020-11-22 08:06:10,313 - connection - Transaction cancelled. Rolling back ...\n",
      "INFO - 2020-11-22 08:06:10,337 - connection - Transaction started\n",
      "INFO - 2020-11-22 08:06:10,339 - connection - Transaction cancelled. Rolling back ...\n",
      "INFO - 2020-11-22 08:06:10,380 - connection - Transaction started\n",
      "INFO - 2020-11-22 08:06:10,382 - connection - Transaction cancelled. Rolling back ...\n",
      "INFO - 2020-11-22 08:06:10,435 - connection - Transaction started\n",
      "INFO - 2020-11-22 08:06:10,437 - connection - Transaction cancelled. Rolling back ...\n",
      "INFO - 2020-11-22 08:06:10,478 - connection - Transaction started\n",
      "INFO - 2020-11-22 08:06:10,480 - connection - Transaction cancelled. Rolling back ...\n",
      "INFO - 2020-11-22 08:06:10,522 - connection - Transaction started\n",
      "INFO - 2020-11-22 08:06:10,525 - connection - Transaction cancelled. Rolling back ...\n",
      "INFO - 2020-11-22 08:06:10,555 - connection - Transaction started\n",
      "INFO - 2020-11-22 08:06:10,557 - autopopulate - Populating: {'segment_id': 864691135915190118, 'decimation_version': 0, 'decimation_ratio': Decimal('0.25'), 'soma_index': 0}\n",
      "INFO - 2020-11-22 08:06:10,581 - connection - Transaction committed and closed.\n",
      "INFO - 2020-11-22 08:06:10,603 - connection - Transaction started\n",
      "INFO - 2020-11-22 08:06:10,605 - autopopulate - Populating: {'segment_id': 864691135915190630, 'decimation_version': 0, 'decimation_ratio': Decimal('0.25'), 'soma_index': 1}\n"
     ]
    },
    {
     "name": "stdout",
     "output_type": "stream",
     "text": [
      "\n",
      "\n",
      "\n",
      "---- Working on 864691135915190118, soma idx 0 ----\n",
      "\n",
      "\n",
      "\n",
      "---- Working on 864691135915190630, soma idx 1 ----\n"
     ]
    },
    {
     "name": "stderr",
     "output_type": "stream",
     "text": [
      "INFO - 2020-11-22 08:06:10,760 - connection - Transaction committed and closed.\n",
      "INFO - 2020-11-22 08:06:10,794 - connection - Transaction started\n",
      "INFO - 2020-11-22 08:06:10,796 - autopopulate - Populating: {'segment_id': 864691135915191142, 'decimation_version': 0, 'decimation_ratio': Decimal('0.25'), 'soma_index': 0}\n",
      "INFO - 2020-11-22 08:06:10,832 - connection - Transaction committed and closed.\n",
      "INFO - 2020-11-22 08:06:10,880 - connection - Transaction started\n",
      "INFO - 2020-11-22 08:06:10,883 - autopopulate - Populating: {'segment_id': 864691135915191398, 'decimation_version': 0, 'decimation_ratio': Decimal('0.25'), 'soma_index': 0}\n",
      "INFO - 2020-11-22 08:06:10,929 - connection - Transaction committed and closed.\n",
      "INFO - 2020-11-22 08:06:10,969 - connection - Transaction started\n",
      "INFO - 2020-11-22 08:06:10,970 - autopopulate - Populating: {'segment_id': 864691135915191654, 'decimation_version': 0, 'decimation_ratio': Decimal('0.25'), 'soma_index': 1}\n"
     ]
    },
    {
     "name": "stdout",
     "output_type": "stream",
     "text": [
      "\n",
      "\n",
      "\n",
      "---- Working on 864691135915191142, soma idx 0 ----\n",
      "\n",
      "\n",
      "\n",
      "---- Working on 864691135915191398, soma idx 0 ----\n",
      "\n",
      "\n",
      "\n",
      "---- Working on 864691135915191654, soma idx 1 ----\n"
     ]
    },
    {
     "name": "stderr",
     "output_type": "stream",
     "text": [
      "INFO - 2020-11-22 08:06:11,085 - connection - Transaction committed and closed.\n",
      "INFO - 2020-11-22 08:06:11,113 - connection - Transaction started\n",
      "INFO - 2020-11-22 08:06:11,115 - autopopulate - Populating: {'segment_id': 864691135915192422, 'decimation_version': 0, 'decimation_ratio': Decimal('0.25'), 'soma_index': 1}\n",
      "INFO - 2020-11-22 08:06:11,277 - connection - Transaction committed and closed.\n",
      "INFO - 2020-11-22 08:06:11,299 - connection - Transaction started\n",
      "INFO - 2020-11-22 08:06:11,301 - autopopulate - Populating: {'segment_id': 864691135915192678, 'decimation_version': 0, 'decimation_ratio': Decimal('0.25'), 'soma_index': 1}\n"
     ]
    },
    {
     "name": "stdout",
     "output_type": "stream",
     "text": [
      "\n",
      "\n",
      "\n",
      "---- Working on 864691135915192422, soma idx 1 ----\n",
      "\n",
      "\n",
      "\n",
      "---- Working on 864691135915192678, soma idx 1 ----\n"
     ]
    },
    {
     "name": "stderr",
     "output_type": "stream",
     "text": [
      "INFO - 2020-11-22 08:06:11,459 - connection - Transaction committed and closed.\n",
      "INFO - 2020-11-22 08:06:11,481 - connection - Transaction started\n",
      "INFO - 2020-11-22 08:06:11,483 - connection - Transaction cancelled. Rolling back ...\n",
      "INFO - 2020-11-22 08:06:11,510 - connection - Transaction started\n",
      "INFO - 2020-11-22 08:06:11,512 - autopopulate - Populating: {'segment_id': 864691135915193958, 'decimation_version': 0, 'decimation_ratio': Decimal('0.25'), 'soma_index': 1}\n",
      "INFO - 2020-11-22 08:06:11,654 - connection - Transaction committed and closed.\n",
      "INFO - 2020-11-22 08:06:11,689 - connection - Transaction started\n",
      "INFO - 2020-11-22 08:06:11,697 - connection - Transaction cancelled. Rolling back ...\n"
     ]
    },
    {
     "name": "stdout",
     "output_type": "stream",
     "text": [
      "\n",
      "\n",
      "\n",
      "---- Working on 864691135915193958, soma idx 1 ----\n"
     ]
    },
    {
     "name": "stderr",
     "output_type": "stream",
     "text": [
      "INFO - 2020-11-22 08:06:11,738 - connection - Transaction started\n",
      "INFO - 2020-11-22 08:06:11,740 - connection - Transaction cancelled. Rolling back ...\n",
      "INFO - 2020-11-22 08:06:11,761 - connection - Transaction started\n",
      "INFO - 2020-11-22 08:06:11,763 - connection - Transaction cancelled. Rolling back ...\n",
      "INFO - 2020-11-22 08:06:11,786 - connection - Transaction started\n",
      "INFO - 2020-11-22 08:06:11,787 - autopopulate - Populating: {'segment_id': 864691135915195238, 'decimation_version': 0, 'decimation_ratio': Decimal('0.25'), 'soma_index': 2}\n"
     ]
    },
    {
     "name": "stdout",
     "output_type": "stream",
     "text": [
      "\n",
      "\n",
      "\n",
      "---- Working on 864691135915195238, soma idx 2 ----\n"
     ]
    },
    {
     "name": "stderr",
     "output_type": "stream",
     "text": [
      "INFO - 2020-11-22 08:06:12,026 - connection - Transaction committed and closed.\n",
      "INFO - 2020-11-22 08:06:12,057 - connection - Transaction started\n",
      "INFO - 2020-11-22 08:06:12,059 - connection - Transaction cancelled. Rolling back ...\n",
      "INFO - 2020-11-22 08:06:12,082 - connection - Transaction started\n",
      "INFO - 2020-11-22 08:06:12,084 - autopopulate - Populating: {'segment_id': 864691135915433428, 'decimation_version': 0, 'decimation_ratio': Decimal('0.25'), 'soma_index': 0}\n",
      "INFO - 2020-11-22 08:06:12,111 - connection - Transaction committed and closed.\n",
      "INFO - 2020-11-22 08:06:12,142 - connection - Transaction started\n",
      "INFO - 2020-11-22 08:06:12,143 - autopopulate - Populating: {'segment_id': 864691135915704290, 'decimation_version': 0, 'decimation_ratio': Decimal('0.25'), 'soma_index': 0}\n",
      "INFO - 2020-11-22 08:06:12,178 - connection - Transaction committed and closed.\n",
      "INFO - 2020-11-22 08:06:12,211 - connection - Transaction started\n",
      "INFO - 2020-11-22 08:06:12,212 - autopopulate - Populating: {'segment_id': 864691135915749016, 'decimation_version': 0, 'decimation_ratio': Decimal('0.25'), 'soma_index': 0}\n",
      "INFO - 2020-11-22 08:06:12,247 - connection - Transaction committed and closed.\n"
     ]
    },
    {
     "name": "stdout",
     "output_type": "stream",
     "text": [
      "\n",
      "\n",
      "\n",
      "---- Working on 864691135915433428, soma idx 0 ----\n",
      "\n",
      "\n",
      "\n",
      "---- Working on 864691135915704290, soma idx 0 ----\n",
      "\n",
      "\n",
      "\n",
      "---- Working on 864691135915749016, soma idx 0 ----\n"
     ]
    },
    {
     "name": "stderr",
     "output_type": "stream",
     "text": [
      "INFO - 2020-11-22 08:06:12,286 - connection - Transaction started\n",
      "INFO - 2020-11-22 08:06:12,288 - autopopulate - Populating: {'segment_id': 864691135915918872, 'decimation_version': 0, 'decimation_ratio': Decimal('0.25'), 'soma_index': 1}\n",
      "INFO - 2020-11-22 08:06:12,367 - connection - Transaction committed and closed.\n",
      "INFO - 2020-11-22 08:06:12,400 - connection - Transaction started\n",
      "INFO - 2020-11-22 08:06:12,402 - connection - Transaction cancelled. Rolling back ...\n",
      "INFO - 2020-11-22 08:06:12,438 - connection - Transaction started\n",
      "INFO - 2020-11-22 08:06:12,440 - connection - Transaction cancelled. Rolling back ...\n",
      "INFO - 2020-11-22 08:06:12,475 - connection - Transaction started\n",
      "INFO - 2020-11-22 08:06:12,478 - connection - Transaction cancelled. Rolling back ...\n"
     ]
    },
    {
     "name": "stdout",
     "output_type": "stream",
     "text": [
      "\n",
      "\n",
      "\n",
      "---- Working on 864691135915918872, soma idx 1 ----\n"
     ]
    },
    {
     "name": "stderr",
     "output_type": "stream",
     "text": [
      "INFO - 2020-11-22 08:06:12,531 - connection - Transaction started\n",
      "INFO - 2020-11-22 08:06:12,535 - connection - Transaction cancelled. Rolling back ...\n",
      "INFO - 2020-11-22 08:06:12,558 - connection - Transaction started\n",
      "INFO - 2020-11-22 08:06:12,561 - autopopulate - Populating: {'segment_id': 864691135916717528, 'decimation_version': 0, 'decimation_ratio': Decimal('0.25'), 'soma_index': 1}\n",
      "INFO - 2020-11-22 08:06:12,629 - connection - Transaction committed and closed.\n",
      "INFO - 2020-11-22 08:06:12,676 - connection - Transaction started\n",
      "INFO - 2020-11-22 08:06:12,679 - autopopulate - Populating: {'segment_id': 864691135917029332, 'decimation_version': 0, 'decimation_ratio': Decimal('0.25'), 'soma_index': 1}\n"
     ]
    },
    {
     "name": "stdout",
     "output_type": "stream",
     "text": [
      "\n",
      "\n",
      "\n",
      "---- Working on 864691135916717528, soma idx 1 ----\n",
      "\n",
      "\n",
      "\n",
      "---- Working on 864691135917029332, soma idx 1 ----\n"
     ]
    },
    {
     "name": "stderr",
     "output_type": "stream",
     "text": [
      "INFO - 2020-11-22 08:06:12,805 - connection - Transaction committed and closed.\n",
      "INFO - 2020-11-22 08:06:12,849 - connection - Transaction started\n",
      "INFO - 2020-11-22 08:06:12,851 - connection - Transaction cancelled. Rolling back ...\n",
      "INFO - 2020-11-22 08:06:12,886 - connection - Transaction started\n",
      "INFO - 2020-11-22 08:06:12,890 - connection - Transaction cancelled. Rolling back ...\n",
      "INFO - 2020-11-22 08:06:12,919 - connection - Transaction started\n",
      "INFO - 2020-11-22 08:06:12,923 - connection - Transaction cancelled. Rolling back ...\n",
      "INFO - 2020-11-22 08:06:12,953 - connection - Transaction started\n",
      "INFO - 2020-11-22 08:06:12,956 - connection - Transaction cancelled. Rolling back ...\n",
      "INFO - 2020-11-22 08:06:12,997 - connection - Transaction started\n",
      "INFO - 2020-11-22 08:06:13,000 - connection - Transaction cancelled. Rolling back ...\n",
      "INFO - 2020-11-22 08:06:13,049 - connection - Transaction started\n",
      "INFO - 2020-11-22 08:06:13,053 - connection - Transaction cancelled. Rolling back ...\n",
      "INFO - 2020-11-22 08:06:13,088 - connection - Transaction started\n",
      "INFO - 2020-11-22 08:06:13,093 - autopopulate - Populating: {'segment_id': 864691135917341187, 'decimation_version': 0, 'decimation_ratio': Decimal('0.25'), 'soma_index': 1}\n",
      "INFO - 2020-11-22 08:06:13,259 - connection - Transaction committed and closed.\n",
      "INFO - 2020-11-22 08:06:13,292 - connection - Transaction started\n",
      "INFO - 2020-11-22 08:06:13,294 - connection - Transaction cancelled. Rolling back ...\n"
     ]
    },
    {
     "name": "stdout",
     "output_type": "stream",
     "text": [
      "\n",
      "\n",
      "\n",
      "---- Working on 864691135917341187, soma idx 1 ----\n"
     ]
    },
    {
     "name": "stderr",
     "output_type": "stream",
     "text": [
      "INFO - 2020-11-22 08:06:13,340 - connection - Transaction started\n",
      "INFO - 2020-11-22 08:06:13,344 - connection - Transaction cancelled. Rolling back ...\n",
      "INFO - 2020-11-22 08:06:13,371 - connection - Transaction started\n",
      "INFO - 2020-11-22 08:06:13,374 - connection - Transaction cancelled. Rolling back ...\n",
      "INFO - 2020-11-22 08:06:13,408 - connection - Transaction started\n",
      "INFO - 2020-11-22 08:06:13,411 - autopopulate - Populating: {'segment_id': 864691135917466977, 'decimation_version': 0, 'decimation_ratio': Decimal('0.25'), 'soma_index': 1}\n",
      "INFO - 2020-11-22 08:06:13,500 - connection - Transaction committed and closed.\n",
      "INFO - 2020-11-22 08:06:13,548 - connection - Transaction started\n",
      "INFO - 2020-11-22 08:06:13,550 - connection - Transaction cancelled. Rolling back ...\n",
      "INFO - 2020-11-22 08:06:13,582 - connection - Transaction started\n",
      "INFO - 2020-11-22 08:06:13,585 - connection - Transaction cancelled. Rolling back ...\n",
      "INFO - 2020-11-22 08:06:13,609 - connection - Transaction started\n",
      "INFO - 2020-11-22 08:06:13,613 - autopopulate - Populating: {'segment_id': 864691135917552481, 'decimation_version': 0, 'decimation_ratio': Decimal('0.25'), 'soma_index': 0}\n"
     ]
    },
    {
     "name": "stdout",
     "output_type": "stream",
     "text": [
      "\n",
      "\n",
      "\n",
      "---- Working on 864691135917466977, soma idx 1 ----\n"
     ]
    },
    {
     "name": "stderr",
     "output_type": "stream",
     "text": [
      "INFO - 2020-11-22 08:06:13,655 - connection - Transaction committed and closed.\n",
      "INFO - 2020-11-22 08:06:13,692 - connection - Transaction started\n",
      "INFO - 2020-11-22 08:06:13,694 - autopopulate - Populating: {'segment_id': 864691135917555156, 'decimation_version': 0, 'decimation_ratio': Decimal('0.25'), 'soma_index': 1}\n",
      "INFO - 2020-11-22 08:06:13,769 - connection - Transaction committed and closed.\n",
      "INFO - 2020-11-22 08:06:13,807 - connection - Transaction started\n",
      "INFO - 2020-11-22 08:06:13,809 - autopopulate - Populating: {'segment_id': 864691135917557204, 'decimation_version': 0, 'decimation_ratio': Decimal('0.25'), 'soma_index': 0}\n"
     ]
    },
    {
     "name": "stdout",
     "output_type": "stream",
     "text": [
      "\n",
      "\n",
      "\n",
      "---- Working on 864691135917552481, soma idx 0 ----\n",
      "\n",
      "\n",
      "\n",
      "---- Working on 864691135917555156, soma idx 1 ----\n",
      "\n",
      "\n",
      "\n",
      "---- Working on 864691135917557204, soma idx 0 ----\n"
     ]
    },
    {
     "name": "stderr",
     "output_type": "stream",
     "text": [
      "INFO - 2020-11-22 08:06:13,842 - connection - Transaction committed and closed.\n",
      "INFO - 2020-11-22 08:06:13,909 - connection - Transaction started\n",
      "INFO - 2020-11-22 08:06:13,911 - connection - Transaction cancelled. Rolling back ...\n",
      "INFO - 2020-11-22 08:06:13,956 - connection - Transaction started\n",
      "INFO - 2020-11-22 08:06:13,958 - autopopulate - Populating: {'segment_id': 864691135917653460, 'decimation_version': 0, 'decimation_ratio': Decimal('0.25'), 'soma_index': 0}\n",
      "INFO - 2020-11-22 08:06:13,991 - connection - Transaction committed and closed.\n",
      "INFO - 2020-11-22 08:06:14,026 - connection - Transaction started\n",
      "INFO - 2020-11-22 08:06:14,027 - autopopulate - Populating: {'segment_id': 864691135917722977, 'decimation_version': 0, 'decimation_ratio': Decimal('0.25'), 'soma_index': 1}\n"
     ]
    },
    {
     "name": "stdout",
     "output_type": "stream",
     "text": [
      "\n",
      "\n",
      "\n",
      "---- Working on 864691135917653460, soma idx 0 ----\n",
      "\n",
      "\n",
      "\n",
      "---- Working on 864691135917722977, soma idx 1 ----\n"
     ]
    },
    {
     "name": "stderr",
     "output_type": "stream",
     "text": [
      "INFO - 2020-11-22 08:06:14,172 - connection - Transaction committed and closed.\n",
      "INFO - 2020-11-22 08:06:14,195 - connection - Transaction started\n",
      "INFO - 2020-11-22 08:06:14,197 - connection - Transaction cancelled. Rolling back ...\n",
      "INFO - 2020-11-22 08:06:14,220 - connection - Transaction started\n",
      "INFO - 2020-11-22 08:06:14,222 - autopopulate - Populating: {'segment_id': 864691135917899523, 'decimation_version': 0, 'decimation_ratio': Decimal('0.25'), 'soma_index': 1}\n",
      "INFO - 2020-11-22 08:06:14,363 - connection - Transaction committed and closed.\n",
      "INFO - 2020-11-22 08:06:14,405 - connection - Transaction started\n",
      "INFO - 2020-11-22 08:06:14,407 - autopopulate - Populating: {'segment_id': 864691135917909251, 'decimation_version': 0, 'decimation_ratio': Decimal('0.25'), 'soma_index': 1}\n"
     ]
    },
    {
     "name": "stdout",
     "output_type": "stream",
     "text": [
      "\n",
      "\n",
      "\n",
      "---- Working on 864691135917899523, soma idx 1 ----\n",
      "\n",
      "\n",
      "\n",
      "---- Working on 864691135917909251, soma idx 1 ----\n"
     ]
    },
    {
     "name": "stderr",
     "output_type": "stream",
     "text": [
      "INFO - 2020-11-22 08:06:14,459 - connection - Transaction committed and closed.\n",
      "INFO - 2020-11-22 08:06:14,510 - connection - Transaction started\n",
      "INFO - 2020-11-22 08:06:14,512 - autopopulate - Populating: {'segment_id': 864691135917953283, 'decimation_version': 0, 'decimation_ratio': Decimal('0.25'), 'soma_index': 1}\n",
      "INFO - 2020-11-22 08:06:14,682 - connection - Transaction committed and closed.\n"
     ]
    },
    {
     "name": "stdout",
     "output_type": "stream",
     "text": [
      "\n",
      "\n",
      "\n",
      "---- Working on 864691135917953283, soma idx 1 ----\n"
     ]
    },
    {
     "name": "stderr",
     "output_type": "stream",
     "text": [
      "INFO - 2020-11-22 08:06:14,727 - connection - Transaction started\n",
      "INFO - 2020-11-22 08:06:14,729 - connection - Transaction cancelled. Rolling back ...\n",
      "INFO - 2020-11-22 08:06:14,761 - connection - Transaction started\n",
      "INFO - 2020-11-22 08:06:14,764 - connection - Transaction cancelled. Rolling back ...\n",
      "INFO - 2020-11-22 08:06:14,788 - connection - Transaction started\n",
      "INFO - 2020-11-22 08:06:14,790 - connection - Transaction cancelled. Rolling back ...\n",
      "INFO - 2020-11-22 08:06:14,823 - connection - Transaction started\n",
      "INFO - 2020-11-22 08:06:14,826 - connection - Transaction cancelled. Rolling back ...\n",
      "INFO - 2020-11-22 08:06:14,859 - connection - Transaction started\n",
      "INFO - 2020-11-22 08:06:14,861 - connection - Transaction cancelled. Rolling back ...\n",
      "INFO - 2020-11-22 08:06:14,918 - connection - Transaction started\n",
      "INFO - 2020-11-22 08:06:14,920 - connection - Transaction cancelled. Rolling back ...\n",
      "INFO - 2020-11-22 08:06:14,961 - connection - Transaction started\n",
      "INFO - 2020-11-22 08:06:14,965 - connection - Transaction cancelled. Rolling back ...\n",
      "INFO - 2020-11-22 08:06:15,002 - connection - Transaction started\n",
      "INFO - 2020-11-22 08:06:15,006 - connection - Transaction cancelled. Rolling back ...\n",
      "INFO - 2020-11-22 08:06:15,031 - connection - Transaction started\n",
      "INFO - 2020-11-22 08:06:15,036 - connection - Transaction cancelled. Rolling back ...\n",
      "INFO - 2020-11-22 08:06:15,078 - connection - Transaction started\n",
      "INFO - 2020-11-22 08:06:15,080 - connection - Transaction cancelled. Rolling back ...\n",
      "INFO - 2020-11-22 08:06:15,110 - connection - Transaction started\n",
      "INFO - 2020-11-22 08:06:15,114 - autopopulate - Populating: {'segment_id': 864691135918302384, 'decimation_version': 0, 'decimation_ratio': Decimal('0.25'), 'soma_index': 0}\n",
      "INFO - 2020-11-22 08:06:15,149 - connection - Transaction committed and closed.\n",
      "INFO - 2020-11-22 08:06:15,202 - connection - Transaction started\n",
      "INFO - 2020-11-22 08:06:15,207 - autopopulate - Populating: {'segment_id': 864691135918305712, 'decimation_version': 0, 'decimation_ratio': Decimal('0.25'), 'soma_index': 1}\n",
      "INFO - 2020-11-22 08:06:15,296 - connection - Transaction committed and closed.\n"
     ]
    },
    {
     "name": "stdout",
     "output_type": "stream",
     "text": [
      "\n",
      "\n",
      "\n",
      "---- Working on 864691135918302384, soma idx 0 ----\n",
      "\n",
      "\n",
      "\n",
      "---- Working on 864691135918305712, soma idx 1 ----\n"
     ]
    },
    {
     "name": "stderr",
     "output_type": "stream",
     "text": [
      "INFO - 2020-11-22 08:06:15,328 - connection - Transaction started\n",
      "INFO - 2020-11-22 08:06:15,329 - autopopulate - Populating: {'segment_id': 864691135918306992, 'decimation_version': 0, 'decimation_ratio': Decimal('0.25'), 'soma_index': 0}\n",
      "INFO - 2020-11-22 08:06:15,355 - connection - Transaction committed and closed.\n",
      "INFO - 2020-11-22 08:06:15,397 - connection - Transaction started\n",
      "INFO - 2020-11-22 08:06:15,399 - autopopulate - Populating: {'segment_id': 864691135918307248, 'decimation_version': 0, 'decimation_ratio': Decimal('0.25'), 'soma_index': 1}\n"
     ]
    },
    {
     "name": "stdout",
     "output_type": "stream",
     "text": [
      "\n",
      "\n",
      "\n",
      "---- Working on 864691135918306992, soma idx 0 ----\n",
      "\n",
      "\n",
      "\n",
      "---- Working on 864691135918307248, soma idx 1 ----\n"
     ]
    },
    {
     "name": "stderr",
     "output_type": "stream",
     "text": [
      "INFO - 2020-11-22 08:06:15,549 - connection - Transaction committed and closed.\n",
      "INFO - 2020-11-22 08:06:15,585 - connection - Transaction started\n",
      "INFO - 2020-11-22 08:06:15,588 - connection - Transaction cancelled. Rolling back ...\n",
      "INFO - 2020-11-22 08:06:15,618 - connection - Transaction started\n",
      "INFO - 2020-11-22 08:06:15,620 - connection - Transaction cancelled. Rolling back ...\n",
      "INFO - 2020-11-22 08:06:15,670 - connection - Transaction started\n",
      "INFO - 2020-11-22 08:06:15,672 - connection - Transaction cancelled. Rolling back ...\n",
      "INFO - 2020-11-22 08:06:15,730 - connection - Transaction started\n",
      "INFO - 2020-11-22 08:06:15,734 - connection - Transaction cancelled. Rolling back ...\n",
      "INFO - 2020-11-22 08:06:15,757 - connection - Transaction started\n",
      "INFO - 2020-11-22 08:06:15,759 - connection - Transaction cancelled. Rolling back ...\n",
      "INFO - 2020-11-22 08:06:15,805 - connection - Transaction started\n",
      "INFO - 2020-11-22 08:06:15,807 - connection - Transaction cancelled. Rolling back ...\n",
      "INFO - 2020-11-22 08:06:15,848 - connection - Transaction started\n",
      "INFO - 2020-11-22 08:06:15,852 - connection - Transaction cancelled. Rolling back ...\n",
      "INFO - 2020-11-22 08:06:15,898 - connection - Transaction started\n",
      "INFO - 2020-11-22 08:06:15,900 - connection - Transaction cancelled. Rolling back ...\n",
      "INFO - 2020-11-22 08:06:15,931 - connection - Transaction started\n",
      "INFO - 2020-11-22 08:06:15,933 - connection - Transaction cancelled. Rolling back ...\n",
      "INFO - 2020-11-22 08:06:15,977 - connection - Transaction started\n",
      "INFO - 2020-11-22 08:06:15,980 - connection - Transaction cancelled. Rolling back ...\n",
      "INFO - 2020-11-22 08:06:16,029 - connection - Transaction started\n",
      "INFO - 2020-11-22 08:06:16,031 - connection - Transaction cancelled. Rolling back ...\n",
      "INFO - 2020-11-22 08:06:16,079 - connection - Transaction started\n",
      "INFO - 2020-11-22 08:06:16,081 - connection - Transaction cancelled. Rolling back ...\n",
      "INFO - 2020-11-22 08:06:16,121 - connection - Transaction started\n",
      "INFO - 2020-11-22 08:06:16,123 - connection - Transaction cancelled. Rolling back ...\n",
      "INFO - 2020-11-22 08:06:16,176 - connection - Transaction started\n",
      "INFO - 2020-11-22 08:06:16,180 - connection - Transaction cancelled. Rolling back ...\n",
      "INFO - 2020-11-22 08:06:16,229 - connection - Transaction started\n",
      "INFO - 2020-11-22 08:06:16,232 - connection - Transaction cancelled. Rolling back ...\n",
      "INFO - 2020-11-22 08:06:16,266 - connection - Transaction started\n",
      "INFO - 2020-11-22 08:06:16,270 - connection - Transaction cancelled. Rolling back ...\n",
      "INFO - 2020-11-22 08:06:16,293 - connection - Transaction started\n",
      "INFO - 2020-11-22 08:06:16,295 - autopopulate - Populating: {'segment_id': 864691135918312624, 'decimation_version': 0, 'decimation_ratio': Decimal('0.25'), 'soma_index': 1}\n",
      "INFO - 2020-11-22 08:06:16,406 - connection - Transaction committed and closed.\n",
      "INFO - 2020-11-22 08:06:16,432 - connection - Transaction started\n",
      "INFO - 2020-11-22 08:06:16,435 - autopopulate - Populating: {'segment_id': 864691135918313136, 'decimation_version': 0, 'decimation_ratio': Decimal('0.25'), 'soma_index': 1}\n"
     ]
    },
    {
     "name": "stdout",
     "output_type": "stream",
     "text": [
      "\n",
      "\n",
      "\n",
      "---- Working on 864691135918312624, soma idx 1 ----\n",
      "\n",
      "\n",
      "\n",
      "---- Working on 864691135918313136, soma idx 1 ----\n"
     ]
    },
    {
     "name": "stderr",
     "output_type": "stream",
     "text": [
      "INFO - 2020-11-22 08:06:16,535 - connection - Transaction committed and closed.\n",
      "INFO - 2020-11-22 08:06:16,571 - connection - Transaction started\n",
      "INFO - 2020-11-22 08:06:16,573 - connection - Transaction cancelled. Rolling back ...\n",
      "INFO - 2020-11-22 08:06:16,613 - connection - Transaction started\n",
      "INFO - 2020-11-22 08:06:16,614 - autopopulate - Populating: {'segment_id': 864691135918313904, 'decimation_version': 0, 'decimation_ratio': Decimal('0.25'), 'soma_index': 0}\n",
      "INFO - 2020-11-22 08:06:16,649 - connection - Transaction committed and closed.\n",
      "INFO - 2020-11-22 08:06:16,700 - connection - Transaction started\n",
      "INFO - 2020-11-22 08:06:16,702 - autopopulate - Populating: {'segment_id': 864691135918314416, 'decimation_version': 0, 'decimation_ratio': Decimal('0.25'), 'soma_index': 1}\n",
      "INFO - 2020-11-22 08:06:16,778 - connection - Transaction committed and closed.\n",
      "INFO - 2020-11-22 08:06:16,804 - connection - Transaction started\n",
      "INFO - 2020-11-22 08:06:16,806 - autopopulate - Populating: {'segment_id': 864691135918314928, 'decimation_version': 0, 'decimation_ratio': Decimal('0.25'), 'soma_index': 0}\n"
     ]
    },
    {
     "name": "stdout",
     "output_type": "stream",
     "text": [
      "\n",
      "\n",
      "\n",
      "---- Working on 864691135918313904, soma idx 0 ----\n",
      "\n",
      "\n",
      "\n",
      "---- Working on 864691135918314416, soma idx 1 ----\n",
      "\n",
      "\n",
      "\n",
      "---- Working on 864691135918314928, soma idx 0 ----\n"
     ]
    },
    {
     "name": "stderr",
     "output_type": "stream",
     "text": [
      "INFO - 2020-11-22 08:06:16,842 - connection - Transaction committed and closed.\n",
      "INFO - 2020-11-22 08:06:16,892 - connection - Transaction started\n",
      "INFO - 2020-11-22 08:06:16,895 - autopopulate - Populating: {'segment_id': 864691135918315184, 'decimation_version': 0, 'decimation_ratio': Decimal('0.25'), 'soma_index': 1}\n",
      "INFO - 2020-11-22 08:06:16,962 - connection - Transaction committed and closed.\n",
      "INFO - 2020-11-22 08:06:17,002 - connection - Transaction started\n",
      "INFO - 2020-11-22 08:06:17,005 - autopopulate - Populating: {'segment_id': 864691135918315952, 'decimation_version': 0, 'decimation_ratio': Decimal('0.25'), 'soma_index': 1}\n"
     ]
    },
    {
     "name": "stdout",
     "output_type": "stream",
     "text": [
      "\n",
      "\n",
      "\n",
      "---- Working on 864691135918315184, soma idx 1 ----\n",
      "\n",
      "\n",
      "\n",
      "---- Working on 864691135918315952, soma idx 1 ----\n"
     ]
    },
    {
     "name": "stderr",
     "output_type": "stream",
     "text": [
      "INFO - 2020-11-22 08:06:17,181 - connection - Transaction committed and closed.\n",
      "INFO - 2020-11-22 08:06:17,224 - connection - Transaction started\n",
      "INFO - 2020-11-22 08:06:17,229 - connection - Transaction cancelled. Rolling back ...\n",
      "INFO - 2020-11-22 08:06:17,264 - connection - Transaction started\n",
      "INFO - 2020-11-22 08:06:17,266 - autopopulate - Populating: {'segment_id': 864691135918317232, 'decimation_version': 0, 'decimation_ratio': Decimal('0.25'), 'soma_index': 1}\n"
     ]
    },
    {
     "name": "stdout",
     "output_type": "stream",
     "text": [
      "\n",
      "\n",
      "\n",
      "---- Working on 864691135918317232, soma idx 1 ----\n"
     ]
    },
    {
     "name": "stderr",
     "output_type": "stream",
     "text": [
      "INFO - 2020-11-22 08:06:17,479 - connection - Transaction committed and closed.\n",
      "INFO - 2020-11-22 08:06:17,502 - connection - Transaction started\n",
      "INFO - 2020-11-22 08:06:17,504 - autopopulate - Populating: {'segment_id': 864691135918317744, 'decimation_version': 0, 'decimation_ratio': Decimal('0.25'), 'soma_index': 1}\n"
     ]
    },
    {
     "name": "stdout",
     "output_type": "stream",
     "text": [
      "\n",
      "\n",
      "\n",
      "---- Working on 864691135918317744, soma idx 1 ----\n"
     ]
    },
    {
     "name": "stderr",
     "output_type": "stream",
     "text": [
      "INFO - 2020-11-22 08:06:17,719 - connection - Transaction committed and closed.\n",
      "INFO - 2020-11-22 08:06:17,743 - connection - Transaction started\n",
      "INFO - 2020-11-22 08:06:17,746 - connection - Transaction cancelled. Rolling back ...\n",
      "INFO - 2020-11-22 08:06:17,779 - connection - Transaction started\n",
      "INFO - 2020-11-22 08:06:17,781 - connection - Transaction cancelled. Rolling back ...\n",
      "INFO - 2020-11-22 08:06:17,814 - connection - Transaction started\n",
      "INFO - 2020-11-22 08:06:17,818 - autopopulate - Populating: {'segment_id': 864691135918319280, 'decimation_version': 0, 'decimation_ratio': Decimal('0.25'), 'soma_index': 0}\n",
      "INFO - 2020-11-22 08:06:17,876 - connection - Transaction committed and closed.\n",
      "INFO - 2020-11-22 08:06:17,917 - connection - Transaction started\n",
      "INFO - 2020-11-22 08:06:17,919 - connection - Transaction cancelled. Rolling back ...\n",
      "INFO - 2020-11-22 08:06:17,968 - connection - Transaction started\n",
      "INFO - 2020-11-22 08:06:17,970 - autopopulate - Populating: {'segment_id': 864691135918320048, 'decimation_version': 0, 'decimation_ratio': Decimal('0.25'), 'soma_index': 0}\n",
      "INFO - 2020-11-22 08:06:18,012 - connection - Transaction committed and closed.\n"
     ]
    },
    {
     "name": "stdout",
     "output_type": "stream",
     "text": [
      "\n",
      "\n",
      "\n",
      "---- Working on 864691135918319280, soma idx 0 ----\n",
      "\n",
      "\n",
      "\n",
      "---- Working on 864691135918320048, soma idx 0 ----\n"
     ]
    },
    {
     "name": "stderr",
     "output_type": "stream",
     "text": [
      "INFO - 2020-11-22 08:06:18,046 - connection - Transaction started\n",
      "INFO - 2020-11-22 08:06:18,048 - autopopulate - Populating: {'segment_id': 864691135918320560, 'decimation_version': 0, 'decimation_ratio': Decimal('0.25'), 'soma_index': 0}\n",
      "INFO - 2020-11-22 08:06:18,082 - connection - Transaction committed and closed.\n",
      "INFO - 2020-11-22 08:06:18,130 - connection - Transaction started\n",
      "INFO - 2020-11-22 08:06:18,132 - autopopulate - Populating: {'segment_id': 864691135918321328, 'decimation_version': 0, 'decimation_ratio': Decimal('0.25'), 'soma_index': 1}\n"
     ]
    },
    {
     "name": "stdout",
     "output_type": "stream",
     "text": [
      "\n",
      "\n",
      "\n",
      "---- Working on 864691135918320560, soma idx 0 ----\n",
      "\n",
      "\n",
      "\n",
      "---- Working on 864691135918321328, soma idx 1 ----\n"
     ]
    },
    {
     "name": "stderr",
     "output_type": "stream",
     "text": [
      "INFO - 2020-11-22 08:06:18,338 - connection - Transaction committed and closed.\n",
      "INFO - 2020-11-22 08:06:18,370 - connection - Transaction started\n",
      "INFO - 2020-11-22 08:06:18,372 - connection - Transaction cancelled. Rolling back ...\n",
      "INFO - 2020-11-22 08:06:18,420 - connection - Transaction started\n",
      "INFO - 2020-11-22 08:06:18,425 - connection - Transaction cancelled. Rolling back ...\n",
      "INFO - 2020-11-22 08:06:18,454 - connection - Transaction started\n",
      "INFO - 2020-11-22 08:06:18,456 - connection - Transaction cancelled. Rolling back ...\n",
      "INFO - 2020-11-22 08:06:18,481 - connection - Transaction started\n",
      "INFO - 2020-11-22 08:06:18,484 - autopopulate - Populating: {'segment_id': 864691135918322608, 'decimation_version': 0, 'decimation_ratio': Decimal('0.25'), 'soma_index': 0}\n",
      "INFO - 2020-11-22 08:06:18,509 - connection - Transaction committed and closed.\n",
      "INFO - 2020-11-22 08:06:18,531 - connection - Transaction started\n",
      "INFO - 2020-11-22 08:06:18,533 - autopopulate - Populating: {'segment_id': 864691135918322864, 'decimation_version': 0, 'decimation_ratio': Decimal('0.25'), 'soma_index': 1}\n",
      "INFO - 2020-11-22 08:06:18,662 - connection - Transaction committed and closed.\n"
     ]
    },
    {
     "name": "stdout",
     "output_type": "stream",
     "text": [
      "\n",
      "\n",
      "\n",
      "---- Working on 864691135918322608, soma idx 0 ----\n",
      "\n",
      "\n",
      "\n",
      "---- Working on 864691135918322864, soma idx 1 ----\n"
     ]
    },
    {
     "name": "stderr",
     "output_type": "stream",
     "text": [
      "INFO - 2020-11-22 08:06:18,704 - connection - Transaction started\n",
      "INFO - 2020-11-22 08:06:18,706 - autopopulate - Populating: {'segment_id': 864691135918323376, 'decimation_version': 0, 'decimation_ratio': Decimal('0.25'), 'soma_index': 1}\n",
      "INFO - 2020-11-22 08:06:18,886 - connection - Transaction committed and closed.\n"
     ]
    },
    {
     "name": "stdout",
     "output_type": "stream",
     "text": [
      "\n",
      "\n",
      "\n",
      "---- Working on 864691135918323376, soma idx 1 ----\n"
     ]
    },
    {
     "name": "stderr",
     "output_type": "stream",
     "text": [
      "INFO - 2020-11-22 08:06:18,908 - connection - Transaction started\n",
      "INFO - 2020-11-22 08:06:18,910 - autopopulate - Populating: {'segment_id': 864691135918323888, 'decimation_version': 0, 'decimation_ratio': Decimal('0.25'), 'soma_index': 0}\n",
      "INFO - 2020-11-22 08:06:18,942 - connection - Transaction committed and closed.\n",
      "INFO - 2020-11-22 08:06:18,977 - connection - Transaction started\n",
      "INFO - 2020-11-22 08:06:18,978 - autopopulate - Populating: {'segment_id': 864691135918324144, 'decimation_version': 0, 'decimation_ratio': Decimal('0.25'), 'soma_index': 0}\n",
      "INFO - 2020-11-22 08:06:19,017 - connection - Transaction committed and closed.\n",
      "INFO - 2020-11-22 08:06:19,062 - connection - Transaction started\n",
      "INFO - 2020-11-22 08:06:19,064 - autopopulate - Populating: {'segment_id': 864691135918324656, 'decimation_version': 0, 'decimation_ratio': Decimal('0.25'), 'soma_index': 1}\n"
     ]
    },
    {
     "name": "stdout",
     "output_type": "stream",
     "text": [
      "\n",
      "\n",
      "\n",
      "---- Working on 864691135918323888, soma idx 0 ----\n",
      "\n",
      "\n",
      "\n",
      "---- Working on 864691135918324144, soma idx 0 ----\n",
      "\n",
      "\n",
      "\n",
      "---- Working on 864691135918324656, soma idx 1 ----\n"
     ]
    },
    {
     "name": "stderr",
     "output_type": "stream",
     "text": [
      "INFO - 2020-11-22 08:06:19,191 - connection - Transaction committed and closed.\n",
      "INFO - 2020-11-22 08:06:19,236 - connection - Transaction started\n",
      "INFO - 2020-11-22 08:06:19,238 - connection - Transaction cancelled. Rolling back ...\n",
      "INFO - 2020-11-22 08:06:19,285 - connection - Transaction started\n",
      "INFO - 2020-11-22 08:06:19,287 - connection - Transaction cancelled. Rolling back ...\n",
      "INFO - 2020-11-22 08:06:19,319 - connection - Transaction started\n",
      "INFO - 2020-11-22 08:06:19,321 - autopopulate - Populating: {'segment_id': 864691135918325936, 'decimation_version': 0, 'decimation_ratio': Decimal('0.25'), 'soma_index': 0}\n",
      "INFO - 2020-11-22 08:06:19,353 - connection - Transaction committed and closed.\n",
      "INFO - 2020-11-22 08:06:19,404 - connection - Transaction started\n",
      "INFO - 2020-11-22 08:06:19,406 - autopopulate - Populating: {'segment_id': 864691135918326448, 'decimation_version': 0, 'decimation_ratio': Decimal('0.25'), 'soma_index': 0}\n",
      "INFO - 2020-11-22 08:06:19,439 - connection - Transaction committed and closed.\n",
      "INFO - 2020-11-22 08:06:19,478 - connection - Transaction started\n",
      "INFO - 2020-11-22 08:06:19,479 - autopopulate - Populating: {'segment_id': 864691135918326740, 'decimation_version': 0, 'decimation_ratio': Decimal('0.25'), 'soma_index': 0}\n",
      "INFO - 2020-11-22 08:06:19,515 - connection - Transaction committed and closed.\n"
     ]
    },
    {
     "name": "stdout",
     "output_type": "stream",
     "text": [
      "\n",
      "\n",
      "\n",
      "---- Working on 864691135918325936, soma idx 0 ----\n",
      "\n",
      "\n",
      "\n",
      "---- Working on 864691135918326448, soma idx 0 ----\n",
      "\n",
      "\n",
      "\n",
      "---- Working on 864691135918326740, soma idx 0 ----\n"
     ]
    },
    {
     "name": "stderr",
     "output_type": "stream",
     "text": [
      "INFO - 2020-11-22 08:06:19,554 - connection - Transaction started\n",
      "INFO - 2020-11-22 08:06:19,555 - autopopulate - Populating: {'segment_id': 864691135918327216, 'decimation_version': 0, 'decimation_ratio': Decimal('0.25'), 'soma_index': 1}\n",
      "INFO - 2020-11-22 08:06:19,683 - connection - Transaction committed and closed.\n",
      "INFO - 2020-11-22 08:06:19,715 - connection - Transaction started\n",
      "INFO - 2020-11-22 08:06:19,717 - connection - Transaction cancelled. Rolling back ...\n",
      "INFO - 2020-11-22 08:06:19,739 - connection - Transaction started\n",
      "INFO - 2020-11-22 08:06:19,740 - connection - Transaction cancelled. Rolling back ...\n"
     ]
    },
    {
     "name": "stdout",
     "output_type": "stream",
     "text": [
      "\n",
      "\n",
      "\n",
      "---- Working on 864691135918327216, soma idx 1 ----\n"
     ]
    },
    {
     "name": "stderr",
     "output_type": "stream",
     "text": [
      "INFO - 2020-11-22 08:06:19,787 - connection - Transaction started\n",
      "INFO - 2020-11-22 08:06:19,788 - autopopulate - Populating: {'segment_id': 864691135918328240, 'decimation_version': 0, 'decimation_ratio': Decimal('0.25'), 'soma_index': 0}\n",
      "INFO - 2020-11-22 08:06:19,825 - connection - Transaction committed and closed.\n",
      "INFO - 2020-11-22 08:06:19,860 - connection - Transaction started\n",
      "INFO - 2020-11-22 08:06:19,862 - autopopulate - Populating: {'segment_id': 864691135918329008, 'decimation_version': 0, 'decimation_ratio': Decimal('0.25'), 'soma_index': 0}\n",
      "INFO - 2020-11-22 08:06:19,901 - connection - Transaction committed and closed.\n",
      "INFO - 2020-11-22 08:06:19,949 - connection - Transaction started\n",
      "INFO - 2020-11-22 08:06:19,951 - autopopulate - Populating: {'segment_id': 864691135918329520, 'decimation_version': 0, 'decimation_ratio': Decimal('0.25'), 'soma_index': 1}\n"
     ]
    },
    {
     "name": "stdout",
     "output_type": "stream",
     "text": [
      "\n",
      "\n",
      "\n",
      "---- Working on 864691135918328240, soma idx 0 ----\n",
      "\n",
      "\n",
      "\n",
      "---- Working on 864691135918329008, soma idx 0 ----\n",
      "\n",
      "\n",
      "\n",
      "---- Working on 864691135918329520, soma idx 1 ----\n"
     ]
    },
    {
     "name": "stderr",
     "output_type": "stream",
     "text": [
      "INFO - 2020-11-22 08:06:20,137 - connection - Transaction committed and closed.\n",
      "INFO - 2020-11-22 08:06:20,160 - connection - Transaction started\n",
      "INFO - 2020-11-22 08:06:20,162 - connection - Transaction cancelled. Rolling back ...\n",
      "INFO - 2020-11-22 08:06:20,185 - connection - Transaction started\n",
      "INFO - 2020-11-22 08:06:20,188 - autopopulate - Populating: {'segment_id': 864691135918330544, 'decimation_version': 0, 'decimation_ratio': Decimal('0.25'), 'soma_index': 0}\n",
      "INFO - 2020-11-22 08:06:20,214 - connection - Transaction committed and closed.\n",
      "INFO - 2020-11-22 08:06:20,235 - connection - Transaction started\n",
      "INFO - 2020-11-22 08:06:20,236 - autopopulate - Populating: {'segment_id': 864691135918330800, 'decimation_version': 0, 'decimation_ratio': Decimal('0.25'), 'soma_index': 0}\n",
      "INFO - 2020-11-22 08:06:20,265 - connection - Transaction committed and closed.\n",
      "INFO - 2020-11-22 08:06:20,295 - connection - Transaction started\n",
      "INFO - 2020-11-22 08:06:20,297 - autopopulate - Populating: {'segment_id': 864691135918331056, 'decimation_version': 0, 'decimation_ratio': Decimal('0.25'), 'soma_index': 0}\n",
      "INFO - 2020-11-22 08:06:20,336 - connection - Transaction committed and closed.\n",
      "INFO - 2020-11-22 08:06:20,381 - connection - Transaction started\n",
      "INFO - 2020-11-22 08:06:20,382 - autopopulate - Populating: {'segment_id': 864691135918331312, 'decimation_version': 0, 'decimation_ratio': Decimal('0.25'), 'soma_index': 0}\n"
     ]
    },
    {
     "name": "stdout",
     "output_type": "stream",
     "text": [
      "\n",
      "\n",
      "\n",
      "---- Working on 864691135918330544, soma idx 0 ----\n",
      "\n",
      "\n",
      "\n",
      "---- Working on 864691135918330800, soma idx 0 ----\n",
      "\n",
      "\n",
      "\n",
      "---- Working on 864691135918331056, soma idx 0 ----\n",
      "\n",
      "\n",
      "\n",
      "---- Working on 864691135918331312, soma idx 0 ----\n"
     ]
    },
    {
     "name": "stderr",
     "output_type": "stream",
     "text": [
      "INFO - 2020-11-22 08:06:20,416 - connection - Transaction committed and closed.\n",
      "INFO - 2020-11-22 08:06:20,452 - connection - Transaction started\n",
      "INFO - 2020-11-22 08:06:20,453 - autopopulate - Populating: {'segment_id': 864691135918331568, 'decimation_version': 0, 'decimation_ratio': Decimal('0.25'), 'soma_index': 1}\n",
      "INFO - 2020-11-22 08:06:20,595 - connection - Transaction committed and closed.\n",
      "INFO - 2020-11-22 08:06:20,637 - connection - Transaction started\n",
      "INFO - 2020-11-22 08:06:20,638 - connection - Transaction cancelled. Rolling back ...\n"
     ]
    },
    {
     "name": "stdout",
     "output_type": "stream",
     "text": [
      "\n",
      "\n",
      "\n",
      "---- Working on 864691135918331568, soma idx 1 ----\n"
     ]
    },
    {
     "name": "stderr",
     "output_type": "stream",
     "text": [
      "INFO - 2020-11-22 08:06:20,659 - connection - Transaction started\n",
      "INFO - 2020-11-22 08:06:20,661 - connection - Transaction cancelled. Rolling back ...\n",
      "INFO - 2020-11-22 08:06:20,686 - connection - Transaction started\n",
      "INFO - 2020-11-22 08:06:20,687 - autopopulate - Populating: {'segment_id': 864691135918332848, 'decimation_version': 0, 'decimation_ratio': Decimal('0.25'), 'soma_index': 1}\n"
     ]
    },
    {
     "name": "stdout",
     "output_type": "stream",
     "text": [
      "\n",
      "\n",
      "\n",
      "---- Working on 864691135918332848, soma idx 1 ----\n"
     ]
    },
    {
     "name": "stderr",
     "output_type": "stream",
     "text": [
      "INFO - 2020-11-22 08:06:20,909 - connection - Transaction committed and closed.\n",
      "INFO - 2020-11-22 08:06:20,946 - connection - Transaction started\n",
      "INFO - 2020-11-22 08:06:20,948 - connection - Transaction cancelled. Rolling back ...\n",
      "INFO - 2020-11-22 08:06:20,986 - connection - Transaction started\n",
      "INFO - 2020-11-22 08:06:20,989 - connection - Transaction cancelled. Rolling back ...\n",
      "INFO - 2020-11-22 08:06:21,017 - connection - Transaction started\n",
      "INFO - 2020-11-22 08:06:21,018 - connection - Transaction cancelled. Rolling back ...\n",
      "INFO - 2020-11-22 08:06:21,057 - connection - Transaction started\n",
      "INFO - 2020-11-22 08:06:21,059 - connection - Transaction cancelled. Rolling back ...\n",
      "INFO - 2020-11-22 08:06:21,105 - connection - Transaction started\n",
      "INFO - 2020-11-22 08:06:21,107 - autopopulate - Populating: {'segment_id': 864691135918334384, 'decimation_version': 0, 'decimation_ratio': Decimal('0.25'), 'soma_index': 2}\n",
      "INFO - 2020-11-22 08:06:21,302 - connection - Transaction committed and closed.\n"
     ]
    },
    {
     "name": "stdout",
     "output_type": "stream",
     "text": [
      "\n",
      "\n",
      "\n",
      "---- Working on 864691135918334384, soma idx 2 ----\n"
     ]
    },
    {
     "name": "stderr",
     "output_type": "stream",
     "text": [
      "INFO - 2020-11-22 08:06:21,350 - connection - Transaction started\n",
      "INFO - 2020-11-22 08:06:21,353 - connection - Transaction cancelled. Rolling back ...\n",
      "INFO - 2020-11-22 08:06:21,395 - connection - Transaction started\n",
      "INFO - 2020-11-22 08:06:21,396 - connection - Transaction cancelled. Rolling back ...\n",
      "INFO - 2020-11-22 08:06:21,425 - connection - Transaction started\n",
      "INFO - 2020-11-22 08:06:21,429 - connection - Transaction cancelled. Rolling back ...\n",
      "INFO - 2020-11-22 08:06:21,468 - connection - Transaction started\n",
      "INFO - 2020-11-22 08:06:21,471 - connection - Transaction cancelled. Rolling back ...\n",
      "INFO - 2020-11-22 08:06:21,503 - connection - Transaction started\n",
      "INFO - 2020-11-22 08:06:21,504 - autopopulate - Populating: {'segment_id': 864691135918335664, 'decimation_version': 0, 'decimation_ratio': Decimal('0.25'), 'soma_index': 3}\n",
      "INFO - 2020-11-22 08:06:21,640 - connection - Transaction committed and closed.\n",
      "INFO - 2020-11-22 08:06:21,682 - connection - Transaction started\n",
      "INFO - 2020-11-22 08:06:21,684 - connection - Transaction cancelled. Rolling back ...\n"
     ]
    },
    {
     "name": "stdout",
     "output_type": "stream",
     "text": [
      "\n",
      "\n",
      "\n",
      "---- Working on 864691135918335664, soma idx 3 ----\n"
     ]
    },
    {
     "name": "stderr",
     "output_type": "stream",
     "text": [
      "INFO - 2020-11-22 08:06:21,718 - connection - Transaction started\n",
      "INFO - 2020-11-22 08:06:21,720 - autopopulate - Populating: {'segment_id': 864691135918336432, 'decimation_version': 0, 'decimation_ratio': Decimal('0.25'), 'soma_index': 1}\n",
      "INFO - 2020-11-22 08:06:21,896 - connection - Transaction committed and closed.\n"
     ]
    },
    {
     "name": "stdout",
     "output_type": "stream",
     "text": [
      "\n",
      "\n",
      "\n",
      "---- Working on 864691135918336432, soma idx 1 ----\n"
     ]
    },
    {
     "name": "stderr",
     "output_type": "stream",
     "text": [
      "INFO - 2020-11-22 08:06:21,923 - connection - Transaction started\n",
      "INFO - 2020-11-22 08:06:21,924 - connection - Transaction cancelled. Rolling back ...\n",
      "INFO - 2020-11-22 08:06:21,964 - connection - Transaction started\n",
      "INFO - 2020-11-22 08:06:21,966 - connection - Transaction cancelled. Rolling back ...\n",
      "INFO - 2020-11-22 08:06:22,005 - connection - Transaction started\n",
      "INFO - 2020-11-22 08:06:22,007 - autopopulate - Populating: {'segment_id': 864691135918337712, 'decimation_version': 0, 'decimation_ratio': Decimal('0.25'), 'soma_index': 1}\n",
      "INFO - 2020-11-22 08:06:22,099 - connection - Transaction committed and closed.\n",
      "INFO - 2020-11-22 08:06:22,139 - connection - Transaction started\n",
      "INFO - 2020-11-22 08:06:22,141 - connection - Transaction cancelled. Rolling back ...\n",
      "INFO - 2020-11-22 08:06:22,165 - connection - Transaction started\n",
      "INFO - 2020-11-22 08:06:22,166 - autopopulate - Populating: {'segment_id': 864691135918338736, 'decimation_version': 0, 'decimation_ratio': Decimal('0.25'), 'soma_index': 1}\n"
     ]
    },
    {
     "name": "stdout",
     "output_type": "stream",
     "text": [
      "\n",
      "\n",
      "\n",
      "---- Working on 864691135918337712, soma idx 1 ----\n",
      "\n",
      "\n",
      "\n",
      "---- Working on 864691135918338736, soma idx 1 ----\n"
     ]
    },
    {
     "name": "stderr",
     "output_type": "stream",
     "text": [
      "INFO - 2020-11-22 08:06:22,305 - connection - Transaction committed and closed.\n",
      "INFO - 2020-11-22 08:06:22,345 - connection - Transaction started\n",
      "INFO - 2020-11-22 08:06:22,347 - autopopulate - Populating: {'segment_id': 864691135918339248, 'decimation_version': 0, 'decimation_ratio': Decimal('0.25'), 'soma_index': 0}\n",
      "INFO - 2020-11-22 08:06:22,381 - connection - Transaction committed and closed.\n",
      "INFO - 2020-11-22 08:06:22,413 - connection - Transaction started\n",
      "INFO - 2020-11-22 08:06:22,415 - autopopulate - Populating: {'segment_id': 864691135918339760, 'decimation_version': 0, 'decimation_ratio': Decimal('0.25'), 'soma_index': 0}\n",
      "INFO - 2020-11-22 08:06:22,460 - connection - Transaction committed and closed.\n",
      "INFO - 2020-11-22 08:06:22,489 - connection - Transaction started\n",
      "INFO - 2020-11-22 08:06:22,491 - autopopulate - Populating: {'segment_id': 864691135918340272, 'decimation_version': 0, 'decimation_ratio': Decimal('0.25'), 'soma_index': 1}\n"
     ]
    },
    {
     "name": "stdout",
     "output_type": "stream",
     "text": [
      "\n",
      "\n",
      "\n",
      "---- Working on 864691135918339248, soma idx 0 ----\n",
      "\n",
      "\n",
      "\n",
      "---- Working on 864691135918339760, soma idx 0 ----\n",
      "\n",
      "\n",
      "\n",
      "---- Working on 864691135918340272, soma idx 1 ----\n"
     ]
    },
    {
     "name": "stderr",
     "output_type": "stream",
     "text": [
      "INFO - 2020-11-22 08:06:22,611 - connection - Transaction committed and closed.\n",
      "INFO - 2020-11-22 08:06:22,651 - connection - Transaction started\n",
      "INFO - 2020-11-22 08:06:22,653 - connection - Transaction cancelled. Rolling back ...\n",
      "INFO - 2020-11-22 08:06:22,742 - connection - Transaction started\n",
      "INFO - 2020-11-22 08:06:22,744 - connection - Transaction cancelled. Rolling back ...\n",
      "INFO - 2020-11-22 08:06:22,775 - connection - Transaction started\n",
      "INFO - 2020-11-22 08:06:22,776 - autopopulate - Populating: {'segment_id': 864691135918340528, 'decimation_version': 0, 'decimation_ratio': Decimal('0.25'), 'soma_index': 3}\n",
      "INFO - 2020-11-22 08:06:22,837 - connection - Transaction committed and closed.\n",
      "INFO - 2020-11-22 08:06:22,877 - connection - Transaction started\n",
      "INFO - 2020-11-22 08:06:22,879 - autopopulate - Populating: {'segment_id': 864691135918340784, 'decimation_version': 0, 'decimation_ratio': Decimal('0.25'), 'soma_index': 1}\n"
     ]
    },
    {
     "name": "stdout",
     "output_type": "stream",
     "text": [
      "\n",
      "\n",
      "\n",
      "---- Working on 864691135918340528, soma idx 3 ----\n",
      "\n",
      "\n",
      "\n",
      "---- Working on 864691135918340784, soma idx 1 ----\n"
     ]
    },
    {
     "name": "stderr",
     "output_type": "stream",
     "text": [
      "INFO - 2020-11-22 08:06:23,044 - connection - Transaction committed and closed.\n",
      "INFO - 2020-11-22 08:06:23,076 - connection - Transaction started\n",
      "INFO - 2020-11-22 08:06:23,079 - connection - Transaction cancelled. Rolling back ...\n",
      "INFO - 2020-11-22 08:06:23,110 - connection - Transaction started\n",
      "INFO - 2020-11-22 08:06:23,112 - autopopulate - Populating: {'segment_id': 864691135918341808, 'decimation_version': 0, 'decimation_ratio': Decimal('0.25'), 'soma_index': 0}\n",
      "INFO - 2020-11-22 08:06:23,147 - connection - Transaction committed and closed.\n",
      "INFO - 2020-11-22 08:06:23,176 - connection - Transaction started\n",
      "INFO - 2020-11-22 08:06:23,178 - autopopulate - Populating: {'segment_id': 864691135918342064, 'decimation_version': 0, 'decimation_ratio': Decimal('0.25'), 'soma_index': 1}\n",
      "INFO - 2020-11-22 08:06:23,262 - connection - Transaction committed and closed.\n",
      "INFO - 2020-11-22 08:06:23,309 - connection - Transaction started\n",
      "INFO - 2020-11-22 08:06:23,312 - connection - Transaction cancelled. Rolling back ...\n"
     ]
    },
    {
     "name": "stdout",
     "output_type": "stream",
     "text": [
      "\n",
      "\n",
      "\n",
      "---- Working on 864691135918341808, soma idx 0 ----\n",
      "\n",
      "\n",
      "\n",
      "---- Working on 864691135918342064, soma idx 1 ----\n"
     ]
    },
    {
     "name": "stderr",
     "output_type": "stream",
     "text": [
      "INFO - 2020-11-22 08:06:23,334 - connection - Transaction started\n",
      "INFO - 2020-11-22 08:06:23,335 - autopopulate - Populating: {'segment_id': 864691135918342832, 'decimation_version': 0, 'decimation_ratio': Decimal('0.25'), 'soma_index': 2}\n"
     ]
    },
    {
     "name": "stdout",
     "output_type": "stream",
     "text": [
      "\n",
      "\n",
      "\n",
      "---- Working on 864691135918342832, soma idx 2 ----\n"
     ]
    },
    {
     "name": "stderr",
     "output_type": "stream",
     "text": [
      "INFO - 2020-11-22 08:06:23,570 - connection - Transaction committed and closed.\n",
      "INFO - 2020-11-22 08:06:23,591 - connection - Transaction started\n",
      "INFO - 2020-11-22 08:06:23,593 - connection - Transaction cancelled. Rolling back ...\n",
      "INFO - 2020-11-22 08:06:23,628 - connection - Transaction started\n",
      "INFO - 2020-11-22 08:06:23,630 - connection - Transaction cancelled. Rolling back ...\n",
      "INFO - 2020-11-22 08:06:23,665 - connection - Transaction started\n",
      "INFO - 2020-11-22 08:06:23,666 - connection - Transaction cancelled. Rolling back ...\n",
      "INFO - 2020-11-22 08:06:23,695 - connection - Transaction started\n",
      "INFO - 2020-11-22 08:06:23,697 - connection - Transaction cancelled. Rolling back ...\n",
      "INFO - 2020-11-22 08:06:23,720 - connection - Transaction started\n",
      "INFO - 2020-11-22 08:06:23,721 - autopopulate - Populating: {'segment_id': 864691135918362652, 'decimation_version': 0, 'decimation_ratio': Decimal('0.25'), 'soma_index': 1}\n",
      "INFO - 2020-11-22 08:06:23,812 - connection - Transaction committed and closed.\n",
      "INFO - 2020-11-22 08:06:23,833 - connection - Transaction started\n",
      "INFO - 2020-11-22 08:06:23,834 - autopopulate - Populating: {'segment_id': 864691135918506012, 'decimation_version': 0, 'decimation_ratio': Decimal('0.25'), 'soma_index': 0}\n",
      "INFO - 2020-11-22 08:06:23,858 - connection - Transaction committed and closed.\n",
      "INFO - 2020-11-22 08:06:23,901 - connection - Transaction started\n",
      "INFO - 2020-11-22 08:06:23,902 - autopopulate - Populating: {'segment_id': 864691135918541409, 'decimation_version': 0, 'decimation_ratio': Decimal('0.25'), 'soma_index': 1}\n"
     ]
    },
    {
     "name": "stdout",
     "output_type": "stream",
     "text": [
      "\n",
      "\n",
      "\n",
      "---- Working on 864691135918362652, soma idx 1 ----\n",
      "\n",
      "\n",
      "\n",
      "---- Working on 864691135918506012, soma idx 0 ----\n",
      "\n",
      "\n",
      "\n",
      "---- Working on 864691135918541409, soma idx 1 ----\n"
     ]
    },
    {
     "name": "stderr",
     "output_type": "stream",
     "text": [
      "INFO - 2020-11-22 08:06:23,945 - connection - Transaction committed and closed.\n",
      "INFO - 2020-11-22 08:06:23,978 - connection - Transaction started\n",
      "INFO - 2020-11-22 08:06:23,979 - autopopulate - Populating: {'segment_id': 864691135918561121, 'decimation_version': 0, 'decimation_ratio': Decimal('0.25'), 'soma_index': 1}\n",
      "INFO - 2020-11-22 08:06:24,062 - connection - Transaction committed and closed.\n",
      "INFO - 2020-11-22 08:06:24,106 - connection - Transaction started\n",
      "INFO - 2020-11-22 08:06:24,107 - autopopulate - Populating: {'segment_id': 864691135918679649, 'decimation_version': 0, 'decimation_ratio': Decimal('0.25'), 'soma_index': 1}\n",
      "INFO - 2020-11-22 08:06:24,182 - connection - Transaction committed and closed.\n"
     ]
    },
    {
     "name": "stdout",
     "output_type": "stream",
     "text": [
      "\n",
      "\n",
      "\n",
      "---- Working on 864691135918561121, soma idx 1 ----\n",
      "\n",
      "\n",
      "\n",
      "---- Working on 864691135918679649, soma idx 1 ----\n"
     ]
    },
    {
     "name": "stderr",
     "output_type": "stream",
     "text": [
      "INFO - 2020-11-22 08:06:24,214 - connection - Transaction started\n",
      "INFO - 2020-11-22 08:06:24,215 - autopopulate - Populating: {'segment_id': 864691135919010819, 'decimation_version': 0, 'decimation_ratio': Decimal('0.25'), 'soma_index': 1}\n",
      "INFO - 2020-11-22 08:06:24,357 - connection - Transaction committed and closed.\n",
      "INFO - 2020-11-22 08:06:24,388 - connection - Transaction started\n",
      "INFO - 2020-11-22 08:06:24,390 - connection - Transaction cancelled. Rolling back ...\n"
     ]
    },
    {
     "name": "stdout",
     "output_type": "stream",
     "text": [
      "\n",
      "\n",
      "\n",
      "---- Working on 864691135919010819, soma idx 1 ----\n"
     ]
    },
    {
     "name": "stderr",
     "output_type": "stream",
     "text": [
      "INFO - 2020-11-22 08:06:24,427 - connection - Transaction started\n",
      "INFO - 2020-11-22 08:06:24,430 - autopopulate - Populating: {'segment_id': 864691135919175707, 'decimation_version': 0, 'decimation_ratio': Decimal('0.25'), 'soma_index': 0}\n",
      "INFO - 2020-11-22 08:06:24,469 - connection - Transaction committed and closed.\n",
      "INFO - 2020-11-22 08:06:24,497 - connection - Transaction started\n",
      "INFO - 2020-11-22 08:06:24,499 - autopopulate - Populating: {'segment_id': 864691135919608603, 'decimation_version': 0, 'decimation_ratio': Decimal('0.25'), 'soma_index': 0}\n",
      "INFO - 2020-11-22 08:06:24,538 - connection - Transaction committed and closed.\n",
      "INFO - 2020-11-22 08:06:24,559 - connection - Transaction started\n",
      "INFO - 2020-11-22 08:06:24,560 - autopopulate - Populating: {'segment_id': 864691135919615841, 'decimation_version': 0, 'decimation_ratio': Decimal('0.25'), 'soma_index': 1}\n"
     ]
    },
    {
     "name": "stdout",
     "output_type": "stream",
     "text": [
      "\n",
      "\n",
      "\n",
      "---- Working on 864691135919175707, soma idx 0 ----\n",
      "\n",
      "\n",
      "\n",
      "---- Working on 864691135919608603, soma idx 0 ----\n",
      "\n",
      "\n",
      "\n",
      "---- Working on 864691135919615841, soma idx 1 ----\n"
     ]
    },
    {
     "name": "stderr",
     "output_type": "stream",
     "text": [
      "INFO - 2020-11-22 08:06:24,639 - connection - Transaction committed and closed.\n",
      "INFO - 2020-11-22 08:06:24,670 - connection - Transaction started\n",
      "INFO - 2020-11-22 08:06:24,672 - autopopulate - Populating: {'segment_id': 864691135919615841, 'decimation_version': 0, 'decimation_ratio': Decimal('0.25'), 'soma_index': 2}\n",
      "INFO - 2020-11-22 08:06:24,756 - connection - Transaction committed and closed.\n",
      "INFO - 2020-11-22 08:06:24,806 - connection - Transaction started\n",
      "INFO - 2020-11-22 08:06:24,807 - connection - Transaction cancelled. Rolling back ...\n",
      "INFO - 2020-11-22 08:06:24,851 - connection - Transaction started\n",
      "INFO - 2020-11-22 08:06:24,853 - connection - Transaction cancelled. Rolling back ...\n"
     ]
    },
    {
     "name": "stdout",
     "output_type": "stream",
     "text": [
      "\n",
      "\n",
      "\n",
      "---- Working on 864691135919615841, soma idx 2 ----\n"
     ]
    },
    {
     "name": "stderr",
     "output_type": "stream",
     "text": [
      "INFO - 2020-11-22 08:06:24,893 - connection - Transaction started\n",
      "INFO - 2020-11-22 08:06:24,894 - connection - Transaction cancelled. Rolling back ...\n",
      "INFO - 2020-11-22 08:06:24,930 - connection - Transaction started\n",
      "INFO - 2020-11-22 08:06:24,932 - connection - Transaction cancelled. Rolling back ...\n",
      "INFO - 2020-11-22 08:06:24,962 - connection - Transaction started\n",
      "INFO - 2020-11-22 08:06:24,963 - connection - Transaction cancelled. Rolling back ...\n",
      "INFO - 2020-11-22 08:06:25,002 - connection - Transaction started\n",
      "INFO - 2020-11-22 08:06:25,003 - connection - Transaction cancelled. Rolling back ...\n",
      "INFO - 2020-11-22 08:06:25,054 - connection - Transaction started\n",
      "INFO - 2020-11-22 08:06:25,055 - autopopulate - Populating: {'segment_id': 864691135920156769, 'decimation_version': 0, 'decimation_ratio': Decimal('0.25'), 'soma_index': 0}\n",
      "INFO - 2020-11-22 08:06:25,079 - connection - Transaction committed and closed.\n",
      "INFO - 2020-11-22 08:06:25,121 - connection - Transaction started\n",
      "INFO - 2020-11-22 08:06:25,122 - autopopulate - Populating: {'segment_id': 864691135920391320, 'decimation_version': 0, 'decimation_ratio': Decimal('0.25'), 'soma_index': 1}\n",
      "INFO - 2020-11-22 08:06:25,248 - connection - Transaction committed and closed.\n"
     ]
    },
    {
     "name": "stdout",
     "output_type": "stream",
     "text": [
      "\n",
      "\n",
      "\n",
      "---- Working on 864691135920156769, soma idx 0 ----\n",
      "\n",
      "\n",
      "\n",
      "---- Working on 864691135920391320, soma idx 1 ----\n"
     ]
    },
    {
     "name": "stderr",
     "output_type": "stream",
     "text": [
      "INFO - 2020-11-22 08:06:25,289 - connection - Transaction started\n",
      "INFO - 2020-11-22 08:06:25,290 - connection - Transaction cancelled. Rolling back ...\n",
      "INFO - 2020-11-22 08:06:25,337 - connection - Transaction started\n",
      "INFO - 2020-11-22 08:06:25,339 - connection - Transaction cancelled. Rolling back ...\n",
      "INFO - 2020-11-22 08:06:25,396 - connection - Transaction started\n",
      "INFO - 2020-11-22 08:06:25,398 - connection - Transaction cancelled. Rolling back ...\n",
      "INFO - 2020-11-22 08:06:25,428 - connection - Transaction started\n",
      "INFO - 2020-11-22 08:06:25,430 - connection - Transaction cancelled. Rolling back ...\n",
      "INFO - 2020-11-22 08:06:25,452 - connection - Transaction started\n",
      "INFO - 2020-11-22 08:06:25,453 - autopopulate - Populating: {'segment_id': 864691135920807683, 'decimation_version': 0, 'decimation_ratio': Decimal('0.25'), 'soma_index': 0}\n",
      "INFO - 2020-11-22 08:06:25,488 - connection - Transaction committed and closed.\n",
      "INFO - 2020-11-22 08:06:25,522 - connection - Transaction started\n",
      "INFO - 2020-11-22 08:06:25,524 - autopopulate - Populating: {'segment_id': 864691135921040643, 'decimation_version': 0, 'decimation_ratio': Decimal('0.25'), 'soma_index': 0}\n",
      "INFO - 2020-11-22 08:06:25,569 - connection - Transaction committed and closed.\n",
      "INFO - 2020-11-22 08:06:25,604 - connection - Transaction started\n",
      "INFO - 2020-11-22 08:06:25,605 - autopopulate - Populating: {'segment_id': 864691135921096451, 'decimation_version': 0, 'decimation_ratio': Decimal('0.25'), 'soma_index': 2}\n"
     ]
    },
    {
     "name": "stdout",
     "output_type": "stream",
     "text": [
      "\n",
      "\n",
      "\n",
      "---- Working on 864691135920807683, soma idx 0 ----\n",
      "\n",
      "\n",
      "\n",
      "---- Working on 864691135921040643, soma idx 0 ----\n",
      "\n",
      "\n",
      "\n",
      "---- Working on 864691135921096451, soma idx 2 ----\n"
     ]
    },
    {
     "name": "stderr",
     "output_type": "stream",
     "text": [
      "INFO - 2020-11-22 08:06:25,696 - connection - Transaction committed and closed.\n",
      "INFO - 2020-11-22 08:06:25,728 - connection - Transaction started\n",
      "INFO - 2020-11-22 08:06:25,729 - autopopulate - Populating: {'segment_id': 864691135921121539, 'decimation_version': 0, 'decimation_ratio': Decimal('0.25'), 'soma_index': 0}\n",
      "INFO - 2020-11-22 08:06:25,760 - connection - Transaction committed and closed.\n",
      "INFO - 2020-11-22 08:06:25,816 - connection - Transaction started\n",
      "INFO - 2020-11-22 08:06:25,817 - autopopulate - Populating: {'segment_id': 864691135921325780, 'decimation_version': 0, 'decimation_ratio': Decimal('0.25'), 'soma_index': 0}\n",
      "INFO - 2020-11-22 08:06:25,849 - connection - Transaction committed and closed.\n",
      "INFO - 2020-11-22 08:06:25,886 - connection - Transaction started\n",
      "INFO - 2020-11-22 08:06:25,887 - autopopulate - Populating: {'segment_id': 864691135921429972, 'decimation_version': 0, 'decimation_ratio': Decimal('0.25'), 'soma_index': 1}\n"
     ]
    },
    {
     "name": "stdout",
     "output_type": "stream",
     "text": [
      "\n",
      "\n",
      "\n",
      "---- Working on 864691135921121539, soma idx 0 ----\n",
      "\n",
      "\n",
      "\n",
      "---- Working on 864691135921325780, soma idx 0 ----\n",
      "\n",
      "\n",
      "\n",
      "---- Working on 864691135921429972, soma idx 1 ----\n"
     ]
    },
    {
     "name": "stderr",
     "output_type": "stream",
     "text": [
      "INFO - 2020-11-22 08:06:25,940 - connection - Transaction committed and closed.\n",
      "INFO - 2020-11-22 08:06:25,978 - connection - Transaction started\n",
      "INFO - 2020-11-22 08:06:25,981 - autopopulate - Populating: {'segment_id': 864691135921456104, 'decimation_version': 0, 'decimation_ratio': Decimal('0.25'), 'soma_index': 2}\n",
      "INFO - 2020-11-22 08:06:26,044 - connection - Transaction committed and closed.\n",
      "INFO - 2020-11-22 08:06:26,103 - connection - Transaction started\n",
      "INFO - 2020-11-22 08:06:26,106 - connection - Transaction cancelled. Rolling back ...\n",
      "INFO - 2020-11-22 08:06:26,141 - connection - Transaction started\n",
      "INFO - 2020-11-22 08:06:26,143 - connection - Transaction cancelled. Rolling back ...\n"
     ]
    },
    {
     "name": "stdout",
     "output_type": "stream",
     "text": [
      "\n",
      "\n",
      "\n",
      "---- Working on 864691135921456104, soma idx 2 ----\n"
     ]
    },
    {
     "name": "stderr",
     "output_type": "stream",
     "text": [
      "INFO - 2020-11-22 08:06:26,185 - connection - Transaction started\n",
      "INFO - 2020-11-22 08:06:26,187 - connection - Transaction cancelled. Rolling back ...\n",
      "INFO - 2020-11-22 08:06:26,233 - connection - Transaction started\n",
      "INFO - 2020-11-22 08:06:26,236 - connection - Transaction cancelled. Rolling back ...\n",
      "INFO - 2020-11-22 08:06:26,258 - connection - Transaction started\n",
      "INFO - 2020-11-22 08:06:26,259 - autopopulate - Populating: {'segment_id': 864691135921597080, 'decimation_version': 0, 'decimation_ratio': Decimal('0.25'), 'soma_index': 0}\n",
      "INFO - 2020-11-22 08:06:26,293 - connection - Transaction committed and closed.\n",
      "INFO - 2020-11-22 08:06:26,334 - connection - Transaction started\n",
      "INFO - 2020-11-22 08:06:26,336 - autopopulate - Populating: {'segment_id': 864691135921792948, 'decimation_version': 0, 'decimation_ratio': Decimal('0.25'), 'soma_index': 0}\n",
      "INFO - 2020-11-22 08:06:26,368 - connection - Transaction committed and closed.\n",
      "INFO - 2020-11-22 08:06:26,405 - connection - Transaction started\n",
      "INFO - 2020-11-22 08:06:26,408 - autopopulate - Populating: {'segment_id': 864691135921985539, 'decimation_version': 0, 'decimation_ratio': Decimal('0.25'), 'soma_index': 0}\n",
      "INFO - 2020-11-22 08:06:26,443 - connection - Transaction committed and closed.\n"
     ]
    },
    {
     "name": "stdout",
     "output_type": "stream",
     "text": [
      "\n",
      "\n",
      "\n",
      "---- Working on 864691135921597080, soma idx 0 ----\n",
      "\n",
      "\n",
      "\n",
      "---- Working on 864691135921792948, soma idx 0 ----\n",
      "\n",
      "\n",
      "\n",
      "---- Working on 864691135921985539, soma idx 0 ----\n"
     ]
    },
    {
     "name": "stderr",
     "output_type": "stream",
     "text": [
      "INFO - 2020-11-22 08:06:26,477 - connection - Transaction started\n",
      "INFO - 2020-11-22 08:06:26,480 - autopopulate - Populating: {'segment_id': 864691135922327137, 'decimation_version': 0, 'decimation_ratio': Decimal('0.25'), 'soma_index': 0}\n",
      "INFO - 2020-11-22 08:06:26,520 - connection - Transaction committed and closed.\n",
      "INFO - 2020-11-22 08:06:26,554 - connection - Transaction started\n",
      "INFO - 2020-11-22 08:06:26,555 - autopopulate - Populating: {'segment_id': 864691135922420376, 'decimation_version': 0, 'decimation_ratio': Decimal('0.25'), 'soma_index': 0}\n",
      "INFO - 2020-11-22 08:06:26,595 - connection - Transaction committed and closed.\n",
      "INFO - 2020-11-22 08:06:26,637 - connection - Transaction started\n",
      "INFO - 2020-11-22 08:06:26,639 - autopopulate - Populating: {'segment_id': 864691135922602081, 'decimation_version': 0, 'decimation_ratio': Decimal('0.25'), 'soma_index': 1}\n"
     ]
    },
    {
     "name": "stdout",
     "output_type": "stream",
     "text": [
      "\n",
      "\n",
      "\n",
      "---- Working on 864691135922327137, soma idx 0 ----\n",
      "\n",
      "\n",
      "\n",
      "---- Working on 864691135922420376, soma idx 0 ----\n",
      "\n",
      "\n",
      "\n",
      "---- Working on 864691135922602081, soma idx 1 ----\n"
     ]
    },
    {
     "name": "stderr",
     "output_type": "stream",
     "text": [
      "INFO - 2020-11-22 08:06:26,705 - connection - Transaction committed and closed.\n",
      "INFO - 2020-11-22 08:06:26,732 - connection - Transaction started\n",
      "INFO - 2020-11-22 08:06:26,733 - connection - Transaction cancelled. Rolling back ...\n",
      "INFO - 2020-11-22 08:06:26,766 - connection - Transaction started\n",
      "INFO - 2020-11-22 08:06:26,768 - autopopulate - Populating: {'segment_id': 864691135922915169, 'decimation_version': 0, 'decimation_ratio': Decimal('0.25'), 'soma_index': 0}\n",
      "INFO - 2020-11-22 08:06:26,785 - connection - Transaction committed and closed.\n",
      "INFO - 2020-11-22 08:06:26,804 - connection - Transaction started\n",
      "INFO - 2020-11-22 08:06:26,805 - autopopulate - Populating: {'segment_id': 864691135923202468, 'decimation_version': 0, 'decimation_ratio': Decimal('0.25'), 'soma_index': 0}\n",
      "INFO - 2020-11-22 08:06:26,837 - connection - Transaction committed and closed.\n",
      "INFO - 2020-11-22 08:06:26,869 - connection - Transaction started\n",
      "INFO - 2020-11-22 08:06:26,870 - autopopulate - Populating: {'segment_id': 864691135923301588, 'decimation_version': 0, 'decimation_ratio': Decimal('0.25'), 'soma_index': 0}\n",
      "INFO - 2020-11-22 08:06:26,902 - connection - Transaction committed and closed.\n",
      "INFO - 2020-11-22 08:06:26,947 - connection - Transaction started\n",
      "INFO - 2020-11-22 08:06:26,949 - autopopulate - Populating: {'segment_id': 864691135923397844, 'decimation_version': 0, 'decimation_ratio': Decimal('0.25'), 'soma_index': 1}\n"
     ]
    },
    {
     "name": "stdout",
     "output_type": "stream",
     "text": [
      "\n",
      "\n",
      "\n",
      "---- Working on 864691135922915169, soma idx 0 ----\n",
      "\n",
      "\n",
      "\n",
      "---- Working on 864691135923202468, soma idx 0 ----\n",
      "\n",
      "\n",
      "\n",
      "---- Working on 864691135923301588, soma idx 0 ----\n",
      "\n",
      "\n",
      "\n",
      "---- Working on 864691135923397844, soma idx 1 ----\n"
     ]
    },
    {
     "name": "stderr",
     "output_type": "stream",
     "text": [
      "INFO - 2020-11-22 08:06:27,049 - connection - Transaction committed and closed.\n",
      "INFO - 2020-11-22 08:06:27,079 - connection - Transaction started\n",
      "INFO - 2020-11-22 08:06:27,083 - connection - Transaction cancelled. Rolling back ...\n",
      "INFO - 2020-11-22 08:06:27,114 - connection - Transaction started\n",
      "INFO - 2020-11-22 08:06:27,116 - autopopulate - Populating: {'segment_id': 864691135923579348, 'decimation_version': 0, 'decimation_ratio': Decimal('0.25'), 'soma_index': 2}\n",
      "INFO - 2020-11-22 08:06:27,157 - connection - Transaction committed and closed.\n",
      "INFO - 2020-11-22 08:06:27,200 - connection - Transaction started\n",
      "INFO - 2020-11-22 08:06:27,202 - autopopulate - Populating: {'segment_id': 864691135923678467, 'decimation_version': 0, 'decimation_ratio': Decimal('0.25'), 'soma_index': 1}\n"
     ]
    },
    {
     "name": "stdout",
     "output_type": "stream",
     "text": [
      "\n",
      "\n",
      "\n",
      "---- Working on 864691135923579348, soma idx 2 ----\n",
      "\n",
      "\n",
      "\n",
      "---- Working on 864691135923678467, soma idx 1 ----\n"
     ]
    },
    {
     "name": "stderr",
     "output_type": "stream",
     "text": [
      "INFO - 2020-11-22 08:06:27,347 - connection - Transaction committed and closed.\n",
      "INFO - 2020-11-22 08:06:27,378 - connection - Transaction started\n",
      "INFO - 2020-11-22 08:06:27,381 - connection - Transaction cancelled. Rolling back ...\n",
      "INFO - 2020-11-22 08:06:27,402 - connection - Transaction started\n",
      "INFO - 2020-11-22 08:06:27,404 - connection - Transaction cancelled. Rolling back ...\n",
      "INFO - 2020-11-22 08:06:27,439 - connection - Transaction started\n",
      "INFO - 2020-11-22 08:06:27,441 - connection - Transaction cancelled. Rolling back ...\n",
      "INFO - 2020-11-22 08:06:27,473 - connection - Transaction started\n",
      "INFO - 2020-11-22 08:06:27,475 - connection - Transaction cancelled. Rolling back ...\n",
      "INFO - 2020-11-22 08:06:27,508 - connection - Transaction started\n",
      "INFO - 2020-11-22 08:06:27,511 - connection - Transaction cancelled. Rolling back ...\n",
      "INFO - 2020-11-22 08:06:27,543 - connection - Transaction started\n",
      "INFO - 2020-11-22 08:06:27,545 - autopopulate - Populating: {'segment_id': 864691135924075523, 'decimation_version': 0, 'decimation_ratio': Decimal('0.25'), 'soma_index': 1}\n",
      "INFO - 2020-11-22 08:06:27,664 - connection - Transaction committed and closed.\n",
      "INFO - 2020-11-22 08:06:27,698 - connection - Transaction started\n",
      "INFO - 2020-11-22 08:06:27,700 - connection - Transaction cancelled. Rolling back ...\n",
      "INFO - 2020-11-22 08:06:27,745 - connection - Transaction started\n"
     ]
    },
    {
     "name": "stdout",
     "output_type": "stream",
     "text": [
      "\n",
      "\n",
      "\n",
      "---- Working on 864691135924075523, soma idx 1 ----\n"
     ]
    },
    {
     "name": "stderr",
     "output_type": "stream",
     "text": [
      "INFO - 2020-11-22 08:06:27,751 - autopopulate - Populating: {'segment_id': 864691135924150531, 'decimation_version': 0, 'decimation_ratio': Decimal('0.25'), 'soma_index': 1}\n",
      "INFO - 2020-11-22 08:06:27,843 - connection - Transaction committed and closed.\n",
      "INFO - 2020-11-22 08:06:27,885 - connection - Transaction started\n",
      "INFO - 2020-11-22 08:06:27,888 - connection - Transaction cancelled. Rolling back ...\n",
      "INFO - 2020-11-22 08:06:27,930 - connection - Transaction started\n",
      "INFO - 2020-11-22 08:06:27,932 - connection - Transaction cancelled. Rolling back ...\n"
     ]
    },
    {
     "name": "stdout",
     "output_type": "stream",
     "text": [
      "\n",
      "\n",
      "\n",
      "---- Working on 864691135924150531, soma idx 1 ----\n"
     ]
    },
    {
     "name": "stderr",
     "output_type": "stream",
     "text": [
      "INFO - 2020-11-22 08:06:27,984 - connection - Transaction started\n",
      "INFO - 2020-11-22 08:06:27,986 - connection - Transaction cancelled. Rolling back ...\n",
      "INFO - 2020-11-22 08:06:28,029 - connection - Transaction started\n",
      "INFO - 2020-11-22 08:06:28,031 - connection - Transaction cancelled. Rolling back ...\n",
      "INFO - 2020-11-22 08:06:28,072 - connection - Transaction started\n",
      "INFO - 2020-11-22 08:06:28,074 - connection - Transaction cancelled. Rolling back ...\n",
      "INFO - 2020-11-22 08:06:28,104 - connection - Transaction started\n",
      "INFO - 2020-11-22 08:06:28,106 - connection - Transaction cancelled. Rolling back ...\n",
      "INFO - 2020-11-22 08:06:28,163 - connection - Transaction started\n",
      "INFO - 2020-11-22 08:06:28,165 - connection - Transaction cancelled. Rolling back ...\n",
      "INFO - 2020-11-22 08:06:28,212 - connection - Transaction started\n",
      "INFO - 2020-11-22 08:06:28,215 - connection - Transaction cancelled. Rolling back ...\n",
      "INFO - 2020-11-22 08:06:28,247 - connection - Transaction started\n",
      "INFO - 2020-11-22 08:06:28,249 - connection - Transaction cancelled. Rolling back ...\n",
      "INFO - 2020-11-22 08:06:28,292 - connection - Transaction started\n",
      "INFO - 2020-11-22 08:06:28,293 - connection - Transaction cancelled. Rolling back ...\n",
      "INFO - 2020-11-22 08:06:28,334 - connection - Transaction started\n",
      "INFO - 2020-11-22 08:06:28,336 - connection - Transaction cancelled. Rolling back ...\n",
      "INFO - 2020-11-22 08:06:28,378 - connection - Transaction started\n",
      "INFO - 2020-11-22 08:06:28,379 - connection - Transaction cancelled. Rolling back ...\n",
      "INFO - 2020-11-22 08:06:28,422 - connection - Transaction started\n",
      "INFO - 2020-11-22 08:06:28,423 - connection - Transaction cancelled. Rolling back ...\n",
      "INFO - 2020-11-22 08:06:28,479 - connection - Transaction started\n",
      "INFO - 2020-11-22 08:06:28,481 - connection - Transaction cancelled. Rolling back ...\n",
      "INFO - 2020-11-22 08:06:28,514 - connection - Transaction started\n",
      "INFO - 2020-11-22 08:06:28,515 - connection - Transaction cancelled. Rolling back ...\n",
      "INFO - 2020-11-22 08:06:28,545 - connection - Transaction started\n",
      "INFO - 2020-11-22 08:06:28,546 - connection - Transaction cancelled. Rolling back ...\n",
      "INFO - 2020-11-22 08:06:28,586 - connection - Transaction started\n",
      "INFO - 2020-11-22 08:06:28,588 - connection - Transaction cancelled. Rolling back ...\n",
      "INFO - 2020-11-22 08:06:28,635 - connection - Transaction started\n",
      "INFO - 2020-11-22 08:06:28,638 - connection - Transaction cancelled. Rolling back ...\n",
      "INFO - 2020-11-22 08:06:28,681 - connection - Transaction started\n",
      "INFO - 2020-11-22 08:06:28,684 - connection - Transaction cancelled. Rolling back ...\n",
      "INFO - 2020-11-22 08:06:28,714 - connection - Transaction started\n",
      "INFO - 2020-11-22 08:06:28,721 - connection - Transaction cancelled. Rolling back ...\n",
      "INFO - 2020-11-22 08:06:28,754 - connection - Transaction started\n",
      "INFO - 2020-11-22 08:06:28,756 - connection - Transaction cancelled. Rolling back ...\n",
      "INFO - 2020-11-22 08:06:28,792 - connection - Transaction started\n",
      "INFO - 2020-11-22 08:06:28,794 - autopopulate - Populating: {'segment_id': 864691135925501966, 'decimation_version': 0, 'decimation_ratio': Decimal('0.25'), 'soma_index': 0}\n",
      "INFO - 2020-11-22 08:06:28,824 - connection - Transaction committed and closed.\n",
      "INFO - 2020-11-22 08:06:28,848 - connection - Transaction started\n",
      "INFO - 2020-11-22 08:06:28,850 - autopopulate - Populating: {'segment_id': 864691135925502990, 'decimation_version': 0, 'decimation_ratio': Decimal('0.25'), 'soma_index': 1}\n",
      "INFO - 2020-11-22 08:06:28,989 - connection - Transaction committed and closed.\n"
     ]
    },
    {
     "name": "stdout",
     "output_type": "stream",
     "text": [
      "\n",
      "\n",
      "\n",
      "---- Working on 864691135925501966, soma idx 0 ----\n",
      "\n",
      "\n",
      "\n",
      "---- Working on 864691135925502990, soma idx 1 ----\n"
     ]
    },
    {
     "name": "stderr",
     "output_type": "stream",
     "text": [
      "INFO - 2020-11-22 08:06:29,026 - connection - Transaction started\n",
      "INFO - 2020-11-22 08:06:29,028 - connection - Transaction cancelled. Rolling back ...\n",
      "INFO - 2020-11-22 08:06:29,072 - connection - Transaction started\n",
      "INFO - 2020-11-22 08:06:29,074 - autopopulate - Populating: {'segment_id': 864691135925504014, 'decimation_version': 0, 'decimation_ratio': Decimal('0.25'), 'soma_index': 0}\n",
      "INFO - 2020-11-22 08:06:29,107 - connection - Transaction committed and closed.\n",
      "INFO - 2020-11-22 08:06:29,150 - connection - Transaction started\n",
      "INFO - 2020-11-22 08:06:29,152 - autopopulate - Populating: {'segment_id': 864691135925504526, 'decimation_version': 0, 'decimation_ratio': Decimal('0.25'), 'soma_index': 0}\n",
      "INFO - 2020-11-22 08:06:29,184 - connection - Transaction committed and closed.\n",
      "INFO - 2020-11-22 08:06:29,215 - connection - Transaction started\n",
      "INFO - 2020-11-22 08:06:29,218 - autopopulate - Populating: {'segment_id': 864691135925505038, 'decimation_version': 0, 'decimation_ratio': Decimal('0.25'), 'soma_index': 1}\n"
     ]
    },
    {
     "name": "stdout",
     "output_type": "stream",
     "text": [
      "\n",
      "\n",
      "\n",
      "---- Working on 864691135925504014, soma idx 0 ----\n",
      "\n",
      "\n",
      "\n",
      "---- Working on 864691135925504526, soma idx 0 ----\n",
      "\n",
      "\n",
      "\n",
      "---- Working on 864691135925505038, soma idx 1 ----\n"
     ]
    },
    {
     "name": "stderr",
     "output_type": "stream",
     "text": [
      "INFO - 2020-11-22 08:06:29,321 - connection - Transaction committed and closed.\n",
      "INFO - 2020-11-22 08:06:29,371 - connection - Transaction started\n",
      "INFO - 2020-11-22 08:06:29,372 - connection - Transaction cancelled. Rolling back ...\n",
      "INFO - 2020-11-22 08:06:29,413 - connection - Transaction started\n",
      "INFO - 2020-11-22 08:06:29,415 - autopopulate - Populating: {'segment_id': 864691135925506062, 'decimation_version': 0, 'decimation_ratio': Decimal('0.25'), 'soma_index': 0}\n",
      "INFO - 2020-11-22 08:06:29,453 - connection - Transaction committed and closed.\n",
      "INFO - 2020-11-22 08:06:29,484 - connection - Transaction started\n",
      "INFO - 2020-11-22 08:06:29,487 - autopopulate - Populating: {'segment_id': 864691135925507086, 'decimation_version': 0, 'decimation_ratio': Decimal('0.25'), 'soma_index': 1}\n"
     ]
    },
    {
     "name": "stdout",
     "output_type": "stream",
     "text": [
      "\n",
      "\n",
      "\n",
      "---- Working on 864691135925506062, soma idx 0 ----\n",
      "\n",
      "\n",
      "\n",
      "---- Working on 864691135925507086, soma idx 1 ----\n"
     ]
    },
    {
     "name": "stderr",
     "output_type": "stream",
     "text": [
      "INFO - 2020-11-22 08:06:29,651 - connection - Transaction committed and closed.\n",
      "INFO - 2020-11-22 08:06:29,673 - connection - Transaction started\n",
      "INFO - 2020-11-22 08:06:29,674 - autopopulate - Populating: {'segment_id': 864691135925507854, 'decimation_version': 0, 'decimation_ratio': Decimal('0.25'), 'soma_index': 0}\n",
      "INFO - 2020-11-22 08:06:29,716 - connection - Transaction committed and closed.\n",
      "INFO - 2020-11-22 08:06:29,746 - connection - Transaction started\n",
      "INFO - 2020-11-22 08:06:29,747 - autopopulate - Populating: {'segment_id': 864691135925508110, 'decimation_version': 0, 'decimation_ratio': Decimal('0.25'), 'soma_index': 1}\n"
     ]
    },
    {
     "name": "stdout",
     "output_type": "stream",
     "text": [
      "\n",
      "\n",
      "\n",
      "---- Working on 864691135925507854, soma idx 0 ----\n",
      "\n",
      "\n",
      "\n",
      "---- Working on 864691135925508110, soma idx 1 ----\n"
     ]
    },
    {
     "name": "stderr",
     "output_type": "stream",
     "text": [
      "INFO - 2020-11-22 08:06:29,930 - connection - Transaction committed and closed.\n",
      "INFO - 2020-11-22 08:06:29,963 - connection - Transaction started\n",
      "INFO - 2020-11-22 08:06:29,965 - connection - Transaction cancelled. Rolling back ...\n",
      "INFO - 2020-11-22 08:06:30,009 - connection - Transaction started\n",
      "INFO - 2020-11-22 08:06:30,012 - connection - Transaction cancelled. Rolling back ...\n",
      "INFO - 2020-11-22 08:06:30,046 - connection - Transaction started\n",
      "INFO - 2020-11-22 08:06:30,048 - autopopulate - Populating: {'segment_id': 864691135925509134, 'decimation_version': 0, 'decimation_ratio': Decimal('0.25'), 'soma_index': 1}\n",
      "INFO - 2020-11-22 08:06:30,221 - connection - Transaction committed and closed.\n",
      "INFO - 2020-11-22 08:06:30,244 - connection - Transaction started\n",
      "INFO - 2020-11-22 08:06:30,246 - connection - Transaction cancelled. Rolling back ...\n"
     ]
    },
    {
     "name": "stdout",
     "output_type": "stream",
     "text": [
      "\n",
      "\n",
      "\n",
      "---- Working on 864691135925509134, soma idx 1 ----\n"
     ]
    },
    {
     "name": "stderr",
     "output_type": "stream",
     "text": [
      "INFO - 2020-11-22 08:06:30,267 - connection - Transaction started\n",
      "INFO - 2020-11-22 08:06:30,269 - connection - Transaction cancelled. Rolling back ...\n",
      "INFO - 2020-11-22 08:06:30,290 - connection - Transaction started\n",
      "INFO - 2020-11-22 08:06:30,291 - autopopulate - Populating: {'segment_id': 864691135925510414, 'decimation_version': 0, 'decimation_ratio': Decimal('0.25'), 'soma_index': 1}\n",
      "INFO - 2020-11-22 08:06:30,378 - connection - Transaction committed and closed.\n",
      "INFO - 2020-11-22 08:06:30,414 - connection - Transaction started\n",
      "INFO - 2020-11-22 08:06:30,415 - autopopulate - Populating: {'segment_id': 864691135925510670, 'decimation_version': 0, 'decimation_ratio': Decimal('0.25'), 'soma_index': 0}\n",
      "INFO - 2020-11-22 08:06:30,449 - connection - Transaction committed and closed.\n",
      "INFO - 2020-11-22 08:06:30,489 - connection - Transaction started\n",
      "INFO - 2020-11-22 08:06:30,491 - autopopulate - Populating: {'segment_id': 864691135925511182, 'decimation_version': 0, 'decimation_ratio': Decimal('0.25'), 'soma_index': 0}\n"
     ]
    },
    {
     "name": "stdout",
     "output_type": "stream",
     "text": [
      "\n",
      "\n",
      "\n",
      "---- Working on 864691135925510414, soma idx 1 ----\n",
      "\n",
      "\n",
      "\n",
      "---- Working on 864691135925510670, soma idx 0 ----\n",
      "\n",
      "\n",
      "\n",
      "---- Working on 864691135925511182, soma idx 0 ----\n"
     ]
    },
    {
     "name": "stderr",
     "output_type": "stream",
     "text": [
      "INFO - 2020-11-22 08:06:30,530 - connection - Transaction committed and closed.\n",
      "INFO - 2020-11-22 08:06:30,552 - connection - Transaction started\n",
      "INFO - 2020-11-22 08:06:30,553 - autopopulate - Populating: {'segment_id': 864691135925511950, 'decimation_version': 0, 'decimation_ratio': Decimal('0.25'), 'soma_index': 1}\n",
      "INFO - 2020-11-22 08:06:30,745 - connection - Transaction committed and closed.\n"
     ]
    },
    {
     "name": "stdout",
     "output_type": "stream",
     "text": [
      "\n",
      "\n",
      "\n",
      "---- Working on 864691135925511950, soma idx 1 ----\n"
     ]
    },
    {
     "name": "stderr",
     "output_type": "stream",
     "text": [
      "INFO - 2020-11-22 08:06:30,775 - connection - Transaction started\n",
      "INFO - 2020-11-22 08:06:30,777 - connection - Transaction cancelled. Rolling back ...\n",
      "INFO - 2020-11-22 08:06:30,799 - connection - Transaction started\n",
      "INFO - 2020-11-22 08:06:30,800 - autopopulate - Populating: {'segment_id': 864691135925513486, 'decimation_version': 0, 'decimation_ratio': Decimal('0.25'), 'soma_index': 0}\n",
      "INFO - 2020-11-22 08:06:30,827 - connection - Transaction committed and closed.\n",
      "INFO - 2020-11-22 08:06:30,865 - connection - Transaction started\n",
      "INFO - 2020-11-22 08:06:30,866 - autopopulate - Populating: {'segment_id': 864691135925513742, 'decimation_version': 0, 'decimation_ratio': Decimal('0.25'), 'soma_index': 1}\n",
      "INFO - 2020-11-22 08:06:30,948 - connection - Transaction committed and closed.\n",
      "INFO - 2020-11-22 08:06:30,984 - connection - Transaction started\n",
      "INFO - 2020-11-22 08:06:30,985 - autopopulate - Populating: {'segment_id': 864691135925514254, 'decimation_version': 0, 'decimation_ratio': Decimal('0.25'), 'soma_index': 0}\n"
     ]
    },
    {
     "name": "stdout",
     "output_type": "stream",
     "text": [
      "\n",
      "\n",
      "\n",
      "---- Working on 864691135925513486, soma idx 0 ----\n",
      "\n",
      "\n",
      "\n",
      "---- Working on 864691135925513742, soma idx 1 ----\n",
      "\n",
      "\n",
      "\n",
      "---- Working on 864691135925514254, soma idx 0 ----\n"
     ]
    },
    {
     "name": "stderr",
     "output_type": "stream",
     "text": [
      "INFO - 2020-11-22 08:06:31,019 - connection - Transaction committed and closed.\n",
      "INFO - 2020-11-22 08:06:31,062 - connection - Transaction started\n",
      "INFO - 2020-11-22 08:06:31,063 - autopopulate - Populating: {'segment_id': 864691135925515278, 'decimation_version': 0, 'decimation_ratio': Decimal('0.25'), 'soma_index': 0}\n",
      "INFO - 2020-11-22 08:06:31,102 - connection - Transaction committed and closed.\n",
      "INFO - 2020-11-22 08:06:31,133 - connection - Transaction started\n",
      "INFO - 2020-11-22 08:06:31,135 - autopopulate - Populating: {'segment_id': 864691135925515790, 'decimation_version': 0, 'decimation_ratio': Decimal('0.25'), 'soma_index': 0}\n",
      "INFO - 2020-11-22 08:06:31,164 - connection - Transaction committed and closed.\n",
      "INFO - 2020-11-22 08:06:31,193 - connection - Transaction started\n",
      "INFO - 2020-11-22 08:06:31,194 - autopopulate - Populating: {'segment_id': 864691135925516046, 'decimation_version': 0, 'decimation_ratio': Decimal('0.25'), 'soma_index': 0}\n",
      "INFO - 2020-11-22 08:06:31,247 - connection - Transaction committed and closed.\n"
     ]
    },
    {
     "name": "stdout",
     "output_type": "stream",
     "text": [
      "\n",
      "\n",
      "\n",
      "---- Working on 864691135925515278, soma idx 0 ----\n",
      "\n",
      "\n",
      "\n",
      "---- Working on 864691135925515790, soma idx 0 ----\n",
      "\n",
      "\n",
      "\n",
      "---- Working on 864691135925516046, soma idx 0 ----\n"
     ]
    },
    {
     "name": "stderr",
     "output_type": "stream",
     "text": [
      "INFO - 2020-11-22 08:06:31,298 - connection - Transaction started\n",
      "INFO - 2020-11-22 08:06:31,300 - autopopulate - Populating: {'segment_id': 864691135925516302, 'decimation_version': 0, 'decimation_ratio': Decimal('0.25'), 'soma_index': 1}\n",
      "INFO - 2020-11-22 08:06:31,376 - connection - Transaction committed and closed.\n",
      "INFO - 2020-11-22 08:06:31,405 - connection - Transaction started\n",
      "INFO - 2020-11-22 08:06:31,407 - connection - Transaction cancelled. Rolling back ...\n",
      "INFO - 2020-11-22 08:06:31,449 - connection - Transaction started\n",
      "INFO - 2020-11-22 08:06:31,450 - autopopulate - Populating: {'segment_id': 864691135925517326, 'decimation_version': 0, 'decimation_ratio': Decimal('0.25'), 'soma_index': 0}\n",
      "INFO - 2020-11-22 08:06:31,487 - connection - Transaction committed and closed.\n"
     ]
    },
    {
     "name": "stdout",
     "output_type": "stream",
     "text": [
      "\n",
      "\n",
      "\n",
      "---- Working on 864691135925516302, soma idx 1 ----\n",
      "\n",
      "\n",
      "\n",
      "---- Working on 864691135925517326, soma idx 0 ----\n"
     ]
    },
    {
     "name": "stderr",
     "output_type": "stream",
     "text": [
      "INFO - 2020-11-22 08:06:31,532 - connection - Transaction started\n",
      "INFO - 2020-11-22 08:06:31,533 - autopopulate - Populating: {'segment_id': 864691135925517838, 'decimation_version': 0, 'decimation_ratio': Decimal('0.25'), 'soma_index': 0}\n",
      "INFO - 2020-11-22 08:06:31,568 - connection - Transaction committed and closed.\n",
      "INFO - 2020-11-22 08:06:31,611 - connection - Transaction started\n",
      "INFO - 2020-11-22 08:06:31,612 - autopopulate - Populating: {'segment_id': 864691135925518350, 'decimation_version': 0, 'decimation_ratio': Decimal('0.25'), 'soma_index': 1}\n"
     ]
    },
    {
     "name": "stdout",
     "output_type": "stream",
     "text": [
      "\n",
      "\n",
      "\n",
      "---- Working on 864691135925517838, soma idx 0 ----\n",
      "\n",
      "\n",
      "\n",
      "---- Working on 864691135925518350, soma idx 1 ----\n"
     ]
    },
    {
     "name": "stderr",
     "output_type": "stream",
     "text": [
      "INFO - 2020-11-22 08:06:31,767 - connection - Transaction committed and closed.\n",
      "INFO - 2020-11-22 08:06:31,793 - connection - Transaction started\n",
      "INFO - 2020-11-22 08:06:31,795 - connection - Transaction cancelled. Rolling back ...\n",
      "INFO - 2020-11-22 08:06:31,826 - connection - Transaction started\n",
      "INFO - 2020-11-22 08:06:31,828 - autopopulate - Populating: {'segment_id': 864691135925519118, 'decimation_version': 0, 'decimation_ratio': Decimal('0.25'), 'soma_index': 0}\n",
      "INFO - 2020-11-22 08:06:31,863 - connection - Transaction committed and closed.\n",
      "INFO - 2020-11-22 08:06:31,894 - connection - Transaction started\n",
      "INFO - 2020-11-22 08:06:31,895 - autopopulate - Populating: {'segment_id': 864691135925519374, 'decimation_version': 0, 'decimation_ratio': Decimal('0.25'), 'soma_index': 0}\n",
      "INFO - 2020-11-22 08:06:31,929 - connection - Transaction committed and closed.\n",
      "INFO - 2020-11-22 08:06:31,966 - connection - Transaction started\n",
      "INFO - 2020-11-22 08:06:31,967 - autopopulate - Populating: {'segment_id': 864691135925520142, 'decimation_version': 0, 'decimation_ratio': Decimal('0.25'), 'soma_index': 0}\n",
      "INFO - 2020-11-22 08:06:32,011 - connection - Transaction committed and closed.\n"
     ]
    },
    {
     "name": "stdout",
     "output_type": "stream",
     "text": [
      "\n",
      "\n",
      "\n",
      "---- Working on 864691135925519118, soma idx 0 ----\n",
      "\n",
      "\n",
      "\n",
      "---- Working on 864691135925519374, soma idx 0 ----\n",
      "\n",
      "\n",
      "\n",
      "---- Working on 864691135925520142, soma idx 0 ----\n"
     ]
    },
    {
     "name": "stderr",
     "output_type": "stream",
     "text": [
      "INFO - 2020-11-22 08:06:32,044 - connection - Transaction started\n",
      "INFO - 2020-11-22 08:06:32,046 - autopopulate - Populating: {'segment_id': 864691135925520654, 'decimation_version': 0, 'decimation_ratio': Decimal('0.25'), 'soma_index': 1}\n"
     ]
    },
    {
     "name": "stdout",
     "output_type": "stream",
     "text": [
      "\n",
      "\n",
      "\n",
      "---- Working on 864691135925520654, soma idx 1 ----\n"
     ]
    },
    {
     "name": "stderr",
     "output_type": "stream",
     "text": [
      "INFO - 2020-11-22 08:06:32,268 - connection - Transaction committed and closed.\n",
      "INFO - 2020-11-22 08:06:32,306 - connection - Transaction started\n",
      "INFO - 2020-11-22 08:06:32,308 - connection - Transaction cancelled. Rolling back ...\n",
      "INFO - 2020-11-22 08:06:32,341 - connection - Transaction started\n",
      "INFO - 2020-11-22 08:06:32,342 - connection - Transaction cancelled. Rolling back ...\n",
      "INFO - 2020-11-22 08:06:32,381 - connection - Transaction started\n",
      "INFO - 2020-11-22 08:06:32,383 - connection - Transaction cancelled. Rolling back ...\n",
      "INFO - 2020-11-22 08:06:32,404 - connection - Transaction started\n",
      "INFO - 2020-11-22 08:06:32,405 - connection - Transaction cancelled. Rolling back ...\n",
      "INFO - 2020-11-22 08:06:32,428 - connection - Transaction started\n",
      "INFO - 2020-11-22 08:06:32,430 - autopopulate - Populating: {'segment_id': 864691135925522446, 'decimation_version': 0, 'decimation_ratio': Decimal('0.25'), 'soma_index': 1}\n",
      "INFO - 2020-11-22 08:06:32,623 - connection - Transaction committed and closed.\n"
     ]
    },
    {
     "name": "stdout",
     "output_type": "stream",
     "text": [
      "\n",
      "\n",
      "\n",
      "---- Working on 864691135925522446, soma idx 1 ----\n"
     ]
    },
    {
     "name": "stderr",
     "output_type": "stream",
     "text": [
      "INFO - 2020-11-22 08:06:32,657 - connection - Transaction started\n",
      "INFO - 2020-11-22 08:06:32,660 - connection - Transaction cancelled. Rolling back ...\n",
      "INFO - 2020-11-22 08:06:32,702 - connection - Transaction started\n",
      "INFO - 2020-11-22 08:06:32,704 - connection - Transaction cancelled. Rolling back ...\n",
      "INFO - 2020-11-22 08:06:32,741 - connection - Transaction started\n",
      "INFO - 2020-11-22 08:06:32,743 - autopopulate - Populating: {'segment_id': 864691135925523470, 'decimation_version': 0, 'decimation_ratio': Decimal('0.25'), 'soma_index': 0}\n",
      "INFO - 2020-11-22 08:06:32,775 - connection - Transaction committed and closed.\n",
      "INFO - 2020-11-22 08:06:32,797 - connection - Transaction started\n",
      "INFO - 2020-11-22 08:06:32,799 - autopopulate - Populating: {'segment_id': 864691135925523982, 'decimation_version': 0, 'decimation_ratio': Decimal('0.25'), 'soma_index': 0}\n",
      "INFO - 2020-11-22 08:06:32,828 - connection - Transaction committed and closed.\n",
      "INFO - 2020-11-22 08:06:32,869 - connection - Transaction started\n",
      "INFO - 2020-11-22 08:06:32,871 - autopopulate - Populating: {'segment_id': 864691135925524238, 'decimation_version': 0, 'decimation_ratio': Decimal('0.25'), 'soma_index': 1}\n"
     ]
    },
    {
     "name": "stdout",
     "output_type": "stream",
     "text": [
      "\n",
      "\n",
      "\n",
      "---- Working on 864691135925523470, soma idx 0 ----\n",
      "\n",
      "\n",
      "\n",
      "---- Working on 864691135925523982, soma idx 0 ----\n",
      "\n",
      "\n",
      "\n",
      "---- Working on 864691135925524238, soma idx 1 ----\n"
     ]
    },
    {
     "name": "stderr",
     "output_type": "stream",
     "text": [
      "INFO - 2020-11-22 08:06:33,027 - connection - Transaction committed and closed.\n",
      "INFO - 2020-11-22 08:06:33,066 - connection - Transaction started\n",
      "INFO - 2020-11-22 08:06:33,068 - connection - Transaction cancelled. Rolling back ...\n",
      "INFO - 2020-11-22 08:06:33,108 - connection - Transaction started\n",
      "INFO - 2020-11-22 08:06:33,110 - connection - Transaction cancelled. Rolling back ...\n",
      "INFO - 2020-11-22 08:06:33,148 - connection - Transaction started\n",
      "INFO - 2020-11-22 08:06:33,150 - connection - Transaction cancelled. Rolling back ...\n",
      "INFO - 2020-11-22 08:06:33,189 - connection - Transaction started\n",
      "INFO - 2020-11-22 08:06:33,191 - connection - Transaction cancelled. Rolling back ...\n",
      "INFO - 2020-11-22 08:06:33,240 - connection - Transaction started\n",
      "INFO - 2020-11-22 08:06:33,242 - autopopulate - Populating: {'segment_id': 864691135925526286, 'decimation_version': 0, 'decimation_ratio': Decimal('0.25'), 'soma_index': 1}\n",
      "INFO - 2020-11-22 08:06:33,401 - connection - Transaction committed and closed.\n",
      "INFO - 2020-11-22 08:06:33,422 - connection - Transaction started\n",
      "INFO - 2020-11-22 08:06:33,423 - autopopulate - Populating: {'segment_id': 864691135925527054, 'decimation_version': 0, 'decimation_ratio': Decimal('0.25'), 'soma_index': 1}\n"
     ]
    },
    {
     "name": "stdout",
     "output_type": "stream",
     "text": [
      "\n",
      "\n",
      "\n",
      "---- Working on 864691135925526286, soma idx 1 ----\n",
      "\n",
      "\n",
      "\n",
      "---- Working on 864691135925527054, soma idx 1 ----\n"
     ]
    },
    {
     "name": "stderr",
     "output_type": "stream",
     "text": [
      "INFO - 2020-11-22 08:06:33,474 - connection - Transaction committed and closed.\n",
      "INFO - 2020-11-22 08:06:33,529 - connection - Transaction started\n",
      "INFO - 2020-11-22 08:06:33,531 - connection - Transaction cancelled. Rolling back ...\n",
      "INFO - 2020-11-22 08:06:33,573 - connection - Transaction started\n",
      "INFO - 2020-11-22 08:06:33,574 - autopopulate - Populating: {'segment_id': 864691135925528078, 'decimation_version': 0, 'decimation_ratio': Decimal('0.25'), 'soma_index': 1}\n"
     ]
    },
    {
     "name": "stdout",
     "output_type": "stream",
     "text": [
      "\n",
      "\n",
      "\n",
      "---- Working on 864691135925528078, soma idx 1 ----\n"
     ]
    },
    {
     "name": "stderr",
     "output_type": "stream",
     "text": [
      "INFO - 2020-11-22 08:06:33,907 - connection - Transaction committed and closed.\n",
      "INFO - 2020-11-22 08:06:33,940 - connection - Transaction started\n",
      "INFO - 2020-11-22 08:06:33,943 - connection - Transaction cancelled. Rolling back ...\n",
      "INFO - 2020-11-22 08:06:33,995 - connection - Transaction started\n",
      "INFO - 2020-11-22 08:06:33,997 - connection - Transaction cancelled. Rolling back ...\n",
      "INFO - 2020-11-22 08:06:34,030 - connection - Transaction started\n",
      "INFO - 2020-11-22 08:06:34,032 - connection - Transaction cancelled. Rolling back ...\n",
      "INFO - 2020-11-22 08:06:34,070 - connection - Transaction started\n",
      "INFO - 2020-11-22 08:06:34,072 - connection - Transaction cancelled. Rolling back ...\n",
      "INFO - 2020-11-22 08:06:34,099 - connection - Transaction started\n",
      "INFO - 2020-11-22 08:06:34,100 - connection - Transaction cancelled. Rolling back ...\n",
      "INFO - 2020-11-22 08:06:34,150 - connection - Transaction started\n",
      "INFO - 2020-11-22 08:06:34,151 - autopopulate - Populating: {'segment_id': 864691135925530894, 'decimation_version': 0, 'decimation_ratio': Decimal('0.25'), 'soma_index': 1}\n",
      "INFO - 2020-11-22 08:06:34,273 - connection - Transaction committed and closed.\n",
      "INFO - 2020-11-22 08:06:34,312 - connection - Transaction started\n",
      "INFO - 2020-11-22 08:06:34,314 - connection - Transaction cancelled. Rolling back ...\n",
      "INFO - 2020-11-22 08:06:34,350 - connection - Transaction started\n",
      "INFO - 2020-11-22 08:06:34,351 - connection - Transaction cancelled. Rolling back ...\n"
     ]
    },
    {
     "name": "stdout",
     "output_type": "stream",
     "text": [
      "\n",
      "\n",
      "\n",
      "---- Working on 864691135925530894, soma idx 1 ----\n"
     ]
    },
    {
     "name": "stderr",
     "output_type": "stream",
     "text": [
      "INFO - 2020-11-22 08:06:34,401 - connection - Transaction started\n",
      "INFO - 2020-11-22 08:06:34,402 - connection - Transaction cancelled. Rolling back ...\n",
      "INFO - 2020-11-22 08:06:34,434 - connection - Transaction started\n",
      "INFO - 2020-11-22 08:06:34,436 - connection - Transaction cancelled. Rolling back ...\n",
      "INFO - 2020-11-22 08:06:34,461 - connection - Transaction started\n",
      "INFO - 2020-11-22 08:06:34,462 - autopopulate - Populating: {'segment_id': 864691135925533198, 'decimation_version': 0, 'decimation_ratio': Decimal('0.25'), 'soma_index': 0}\n",
      "INFO - 2020-11-22 08:06:34,497 - connection - Transaction committed and closed.\n",
      "INFO - 2020-11-22 08:06:34,530 - connection - Transaction started\n",
      "INFO - 2020-11-22 08:06:34,531 - autopopulate - Populating: {'segment_id': 864691135925533710, 'decimation_version': 0, 'decimation_ratio': Decimal('0.25'), 'soma_index': 0}\n",
      "INFO - 2020-11-22 08:06:34,564 - connection - Transaction committed and closed.\n",
      "INFO - 2020-11-22 08:06:34,598 - connection - Transaction started\n",
      "INFO - 2020-11-22 08:06:34,599 - autopopulate - Populating: {'segment_id': 864691135925534222, 'decimation_version': 0, 'decimation_ratio': Decimal('0.25'), 'soma_index': 0}\n",
      "INFO - 2020-11-22 08:06:34,633 - connection - Transaction committed and closed.\n"
     ]
    },
    {
     "name": "stdout",
     "output_type": "stream",
     "text": [
      "\n",
      "\n",
      "\n",
      "---- Working on 864691135925533198, soma idx 0 ----\n",
      "\n",
      "\n",
      "\n",
      "---- Working on 864691135925533710, soma idx 0 ----\n",
      "\n",
      "\n",
      "\n",
      "---- Working on 864691135925534222, soma idx 0 ----\n"
     ]
    },
    {
     "name": "stderr",
     "output_type": "stream",
     "text": [
      "INFO - 2020-11-22 08:06:34,667 - connection - Transaction started\n",
      "INFO - 2020-11-22 08:06:34,669 - autopopulate - Populating: {'segment_id': 864691135925535246, 'decimation_version': 0, 'decimation_ratio': Decimal('0.25'), 'soma_index': 1}\n"
     ]
    },
    {
     "name": "stdout",
     "output_type": "stream",
     "text": [
      "\n",
      "\n",
      "\n",
      "---- Working on 864691135925535246, soma idx 1 ----\n"
     ]
    },
    {
     "name": "stderr",
     "output_type": "stream",
     "text": [
      "INFO - 2020-11-22 08:06:34,932 - connection - Transaction committed and closed.\n",
      "INFO - 2020-11-22 08:06:34,969 - connection - Transaction started\n",
      "INFO - 2020-11-22 08:06:34,970 - connection - Transaction cancelled. Rolling back ...\n",
      "INFO - 2020-11-22 08:06:35,002 - connection - Transaction started\n",
      "INFO - 2020-11-22 08:06:35,005 - autopopulate - Populating: {'segment_id': 864691135925536014, 'decimation_version': 0, 'decimation_ratio': Decimal('0.25'), 'soma_index': 0}\n",
      "INFO - 2020-11-22 08:06:35,035 - connection - Transaction committed and closed.\n",
      "INFO - 2020-11-22 08:06:35,056 - connection - Transaction started\n",
      "INFO - 2020-11-22 08:06:35,058 - autopopulate - Populating: {'segment_id': 864691135925536270, 'decimation_version': 0, 'decimation_ratio': Decimal('0.25'), 'soma_index': 0}\n",
      "INFO - 2020-11-22 08:06:35,085 - connection - Transaction committed and closed.\n",
      "INFO - 2020-11-22 08:06:35,107 - connection - Transaction started\n",
      "INFO - 2020-11-22 08:06:35,108 - autopopulate - Populating: {'segment_id': 864691135925536526, 'decimation_version': 0, 'decimation_ratio': Decimal('0.25'), 'soma_index': 0}\n",
      "INFO - 2020-11-22 08:06:35,135 - connection - Transaction committed and closed.\n",
      "INFO - 2020-11-22 08:06:35,179 - connection - Transaction started\n",
      "INFO - 2020-11-22 08:06:35,181 - autopopulate - Populating: {'segment_id': 864691135925537294, 'decimation_version': 0, 'decimation_ratio': Decimal('0.25'), 'soma_index': 1}\n"
     ]
    },
    {
     "name": "stdout",
     "output_type": "stream",
     "text": [
      "\n",
      "\n",
      "\n",
      "---- Working on 864691135925536014, soma idx 0 ----\n",
      "\n",
      "\n",
      "\n",
      "---- Working on 864691135925536270, soma idx 0 ----\n",
      "\n",
      "\n",
      "\n",
      "---- Working on 864691135925536526, soma idx 0 ----\n",
      "\n",
      "\n",
      "\n",
      "---- Working on 864691135925537294, soma idx 1 ----\n"
     ]
    },
    {
     "name": "stderr",
     "output_type": "stream",
     "text": [
      "INFO - 2020-11-22 08:06:35,634 - connection - Transaction committed and closed.\n",
      "INFO - 2020-11-22 08:06:35,681 - connection - Transaction started\n",
      "INFO - 2020-11-22 08:06:35,683 - connection - Transaction cancelled. Rolling back ...\n",
      "INFO - 2020-11-22 08:06:35,726 - connection - Transaction started\n",
      "INFO - 2020-11-22 08:06:35,729 - connection - Transaction cancelled. Rolling back ...\n",
      "INFO - 2020-11-22 08:06:35,764 - connection - Transaction started\n",
      "INFO - 2020-11-22 08:06:35,767 - connection - Transaction cancelled. Rolling back ...\n",
      "INFO - 2020-11-22 08:06:35,797 - connection - Transaction started\n",
      "INFO - 2020-11-22 08:06:35,799 - connection - Transaction cancelled. Rolling back ...\n",
      "INFO - 2020-11-22 08:06:35,848 - connection - Transaction started\n",
      "INFO - 2020-11-22 08:06:35,850 - connection - Transaction cancelled. Rolling back ...\n",
      "INFO - 2020-11-22 08:06:35,894 - connection - Transaction started\n",
      "INFO - 2020-11-22 08:06:35,896 - connection - Transaction cancelled. Rolling back ...\n",
      "INFO - 2020-11-22 08:06:35,925 - connection - Transaction started\n",
      "INFO - 2020-11-22 08:06:35,927 - connection - Transaction cancelled. Rolling back ...\n",
      "INFO - 2020-11-22 08:06:35,957 - connection - Transaction started\n",
      "INFO - 2020-11-22 08:06:35,958 - connection - Transaction cancelled. Rolling back ...\n",
      "INFO - 2020-11-22 08:06:35,985 - connection - Transaction started\n",
      "INFO - 2020-11-22 08:06:35,987 - connection - Transaction cancelled. Rolling back ...\n",
      "INFO - 2020-11-22 08:06:36,027 - connection - Transaction started\n",
      "INFO - 2020-11-22 08:06:36,029 - connection - Transaction cancelled. Rolling back ...\n",
      "INFO - 2020-11-22 08:06:36,062 - connection - Transaction started\n",
      "INFO - 2020-11-22 08:06:36,063 - connection - Transaction cancelled. Rolling back ...\n",
      "INFO - 2020-11-22 08:06:36,109 - connection - Transaction started\n",
      "INFO - 2020-11-22 08:06:36,110 - connection - Transaction cancelled. Rolling back ...\n",
      "INFO - 2020-11-22 08:06:36,153 - connection - Transaction started\n",
      "INFO - 2020-11-22 08:06:36,154 - connection - Transaction cancelled. Rolling back ...\n",
      "INFO - 2020-11-22 08:06:36,197 - connection - Transaction started\n",
      "INFO - 2020-11-22 08:06:36,203 - connection - Transaction cancelled. Rolling back ...\n",
      "INFO - 2020-11-22 08:06:36,229 - connection - Transaction started\n",
      "INFO - 2020-11-22 08:06:36,231 - connection - Transaction cancelled. Rolling back ...\n",
      "INFO - 2020-11-22 08:06:36,264 - connection - Transaction started\n",
      "INFO - 2020-11-22 08:06:36,267 - connection - Transaction cancelled. Rolling back ...\n",
      "INFO - 2020-11-22 08:06:36,291 - connection - Transaction started\n",
      "INFO - 2020-11-22 08:06:36,293 - connection - Transaction cancelled. Rolling back ...\n",
      "INFO - 2020-11-22 08:06:36,341 - connection - Transaction started\n",
      "INFO - 2020-11-22 08:06:36,342 - connection - Transaction cancelled. Rolling back ...\n",
      "INFO - 2020-11-22 08:06:36,390 - connection - Transaction started\n",
      "INFO - 2020-11-22 08:06:36,392 - autopopulate - Populating: {'segment_id': 864691135925542414, 'decimation_version': 0, 'decimation_ratio': Decimal('0.25'), 'soma_index': 1}\n"
     ]
    },
    {
     "name": "stdout",
     "output_type": "stream",
     "text": [
      "\n",
      "\n",
      "\n",
      "---- Working on 864691135925542414, soma idx 1 ----\n"
     ]
    },
    {
     "name": "stderr",
     "output_type": "stream",
     "text": [
      "INFO - 2020-11-22 08:06:36,596 - connection - Transaction committed and closed.\n",
      "INFO - 2020-11-22 08:06:36,630 - connection - Transaction started\n",
      "INFO - 2020-11-22 08:06:36,631 - connection - Transaction cancelled. Rolling back ...\n",
      "INFO - 2020-11-22 08:06:36,672 - connection - Transaction started\n",
      "INFO - 2020-11-22 08:06:36,674 - connection - Transaction cancelled. Rolling back ...\n",
      "INFO - 2020-11-22 08:06:36,707 - connection - Transaction started\n",
      "INFO - 2020-11-22 08:06:36,708 - autopopulate - Populating: {'segment_id': 864691135925542926, 'decimation_version': 0, 'decimation_ratio': Decimal('0.25'), 'soma_index': 3}\n",
      "INFO - 2020-11-22 08:06:36,782 - connection - Transaction committed and closed.\n",
      "INFO - 2020-11-22 08:06:36,804 - connection - Transaction started\n",
      "INFO - 2020-11-22 08:06:36,806 - autopopulate - Populating: {'segment_id': 864691135925543182, 'decimation_version': 0, 'decimation_ratio': Decimal('0.25'), 'soma_index': 1}\n"
     ]
    },
    {
     "name": "stdout",
     "output_type": "stream",
     "text": [
      "\n",
      "\n",
      "\n",
      "---- Working on 864691135925542926, soma idx 3 ----\n",
      "\n",
      "\n",
      "\n",
      "---- Working on 864691135925543182, soma idx 1 ----\n"
     ]
    },
    {
     "name": "stderr",
     "output_type": "stream",
     "text": [
      "INFO - 2020-11-22 08:06:36,937 - connection - Transaction committed and closed.\n",
      "INFO - 2020-11-22 08:06:36,981 - connection - Transaction started\n",
      "INFO - 2020-11-22 08:06:36,982 - connection - Transaction cancelled. Rolling back ...\n",
      "INFO - 2020-11-22 08:06:37,013 - connection - Transaction started\n",
      "INFO - 2020-11-22 08:06:37,015 - connection - Transaction cancelled. Rolling back ...\n",
      "INFO - 2020-11-22 08:06:37,045 - connection - Transaction started\n",
      "INFO - 2020-11-22 08:06:37,047 - connection - Transaction cancelled. Rolling back ...\n",
      "INFO - 2020-11-22 08:06:37,082 - connection - Transaction started\n",
      "INFO - 2020-11-22 08:06:37,084 - connection - Transaction cancelled. Rolling back ...\n",
      "INFO - 2020-11-22 08:06:37,116 - connection - Transaction started\n",
      "INFO - 2020-11-22 08:06:37,118 - connection - Transaction cancelled. Rolling back ...\n",
      "INFO - 2020-11-22 08:06:37,144 - connection - Transaction started\n",
      "INFO - 2020-11-22 08:06:37,145 - connection - Transaction cancelled. Rolling back ...\n",
      "INFO - 2020-11-22 08:06:37,177 - connection - Transaction started\n",
      "INFO - 2020-11-22 08:06:37,178 - autopopulate - Populating: {'segment_id': 864691135925545486, 'decimation_version': 0, 'decimation_ratio': Decimal('0.25'), 'soma_index': 1}\n",
      "INFO - 2020-11-22 08:06:37,373 - connection - Transaction committed and closed.\n"
     ]
    },
    {
     "name": "stdout",
     "output_type": "stream",
     "text": [
      "\n",
      "\n",
      "\n",
      "---- Working on 864691135925545486, soma idx 1 ----\n"
     ]
    },
    {
     "name": "stderr",
     "output_type": "stream",
     "text": [
      "INFO - 2020-11-22 08:06:37,400 - connection - Transaction started\n",
      "INFO - 2020-11-22 08:06:37,402 - connection - Transaction cancelled. Rolling back ...\n",
      "INFO - 2020-11-22 08:06:37,445 - connection - Transaction started\n",
      "INFO - 2020-11-22 08:06:37,447 - autopopulate - Populating: {'segment_id': 864691135925546510, 'decimation_version': 0, 'decimation_ratio': Decimal('0.25'), 'soma_index': 1}\n",
      "INFO - 2020-11-22 08:06:37,643 - connection - Transaction committed and closed.\n"
     ]
    },
    {
     "name": "stdout",
     "output_type": "stream",
     "text": [
      "\n",
      "\n",
      "\n",
      "---- Working on 864691135925546510, soma idx 1 ----\n"
     ]
    },
    {
     "name": "stderr",
     "output_type": "stream",
     "text": [
      "INFO - 2020-11-22 08:06:37,677 - connection - Transaction started\n",
      "INFO - 2020-11-22 08:06:37,680 - autopopulate - Populating: {'segment_id': 864691135925547022, 'decimation_version': 0, 'decimation_ratio': Decimal('0.25'), 'soma_index': 1}\n",
      "INFO - 2020-11-22 08:06:37,877 - connection - Transaction committed and closed.\n"
     ]
    },
    {
     "name": "stdout",
     "output_type": "stream",
     "text": [
      "\n",
      "\n",
      "\n",
      "---- Working on 864691135925547022, soma idx 1 ----\n"
     ]
    },
    {
     "name": "stderr",
     "output_type": "stream",
     "text": [
      "INFO - 2020-11-22 08:06:37,910 - connection - Transaction started\n",
      "INFO - 2020-11-22 08:06:37,912 - connection - Transaction cancelled. Rolling back ...\n",
      "INFO - 2020-11-22 08:06:37,954 - connection - Transaction started\n",
      "INFO - 2020-11-22 08:06:37,956 - connection - Transaction cancelled. Rolling back ...\n",
      "INFO - 2020-11-22 08:06:37,995 - connection - Transaction started\n",
      "INFO - 2020-11-22 08:06:37,996 - connection - Transaction cancelled. Rolling back ...\n",
      "INFO - 2020-11-22 08:06:38,041 - connection - Transaction started\n",
      "INFO - 2020-11-22 08:06:38,042 - connection - Transaction cancelled. Rolling back ...\n",
      "INFO - 2020-11-22 08:06:38,083 - connection - Transaction started\n",
      "INFO - 2020-11-22 08:06:38,087 - connection - Transaction cancelled. Rolling back ...\n",
      "INFO - 2020-11-22 08:06:38,124 - connection - Transaction started\n",
      "INFO - 2020-11-22 08:06:38,126 - autopopulate - Populating: {'segment_id': 864691135925548814, 'decimation_version': 0, 'decimation_ratio': Decimal('0.25'), 'soma_index': 0}\n",
      "INFO - 2020-11-22 08:06:38,150 - connection - Transaction committed and closed.\n",
      "INFO - 2020-11-22 08:06:38,195 - connection - Transaction started\n",
      "INFO - 2020-11-22 08:06:38,197 - autopopulate - Populating: {'segment_id': 864691135925549070, 'decimation_version': 0, 'decimation_ratio': Decimal('0.25'), 'soma_index': 2}\n",
      "INFO - 2020-11-22 08:06:38,251 - connection - Transaction committed and closed.\n",
      "INFO - 2020-11-22 08:06:38,303 - connection - Transaction started\n",
      "INFO - 2020-11-22 08:06:38,304 - autopopulate - Populating: {'segment_id': 864691135925549582, 'decimation_version': 0, 'decimation_ratio': Decimal('0.25'), 'soma_index': 0}\n"
     ]
    },
    {
     "name": "stdout",
     "output_type": "stream",
     "text": [
      "\n",
      "\n",
      "\n",
      "---- Working on 864691135925548814, soma idx 0 ----\n",
      "\n",
      "\n",
      "\n",
      "---- Working on 864691135925549070, soma idx 2 ----\n",
      "\n",
      "\n",
      "\n",
      "---- Working on 864691135925549582, soma idx 0 ----\n"
     ]
    },
    {
     "name": "stderr",
     "output_type": "stream",
     "text": [
      "INFO - 2020-11-22 08:06:38,340 - connection - Transaction committed and closed.\n",
      "INFO - 2020-11-22 08:06:38,362 - connection - Transaction started\n",
      "INFO - 2020-11-22 08:06:38,363 - autopopulate - Populating: {'segment_id': 864691135925549838, 'decimation_version': 0, 'decimation_ratio': Decimal('0.25'), 'soma_index': 2}\n",
      "INFO - 2020-11-22 08:06:38,439 - connection - Transaction committed and closed.\n",
      "INFO - 2020-11-22 08:06:38,477 - connection - Transaction started\n",
      "INFO - 2020-11-22 08:06:38,478 - autopopulate - Populating: {'segment_id': 864691135925550350, 'decimation_version': 0, 'decimation_ratio': Decimal('0.25'), 'soma_index': 1}\n"
     ]
    },
    {
     "name": "stdout",
     "output_type": "stream",
     "text": [
      "\n",
      "\n",
      "\n",
      "---- Working on 864691135925549838, soma idx 2 ----\n",
      "\n",
      "\n",
      "\n",
      "---- Working on 864691135925550350, soma idx 1 ----\n"
     ]
    },
    {
     "name": "stderr",
     "output_type": "stream",
     "text": [
      "INFO - 2020-11-22 08:06:38,667 - connection - Transaction committed and closed.\n",
      "INFO - 2020-11-22 08:06:38,694 - connection - Transaction started\n",
      "INFO - 2020-11-22 08:06:38,696 - connection - Transaction cancelled. Rolling back ...\n",
      "INFO - 2020-11-22 08:06:38,737 - connection - Transaction started\n",
      "INFO - 2020-11-22 08:06:38,739 - connection - Transaction cancelled. Rolling back ...\n",
      "INFO - 2020-11-22 08:06:38,785 - connection - Transaction started\n",
      "INFO - 2020-11-22 08:06:38,786 - connection - Transaction cancelled. Rolling back ...\n",
      "INFO - 2020-11-22 08:06:38,826 - connection - Transaction started\n",
      "INFO - 2020-11-22 08:06:38,829 - connection - Transaction cancelled. Rolling back ...\n",
      "INFO - 2020-11-22 08:06:38,882 - connection - Transaction started\n",
      "INFO - 2020-11-22 08:06:38,884 - connection - Transaction cancelled. Rolling back ...\n",
      "INFO - 2020-11-22 08:06:38,920 - connection - Transaction started\n",
      "INFO - 2020-11-22 08:06:38,921 - autopopulate - Populating: {'segment_id': 864691135925552398, 'decimation_version': 0, 'decimation_ratio': Decimal('0.25'), 'soma_index': 0}\n",
      "INFO - 2020-11-22 08:06:38,953 - connection - Transaction committed and closed.\n",
      "INFO - 2020-11-22 08:06:38,993 - connection - Transaction started\n",
      "INFO - 2020-11-22 08:06:38,994 - autopopulate - Populating: {'segment_id': 864691135925552910, 'decimation_version': 0, 'decimation_ratio': Decimal('0.25'), 'soma_index': 0}\n",
      "INFO - 2020-11-22 08:06:39,027 - connection - Transaction committed and closed.\n",
      "INFO - 2020-11-22 08:06:39,074 - connection - Transaction started\n",
      "INFO - 2020-11-22 08:06:39,075 - autopopulate - Populating: {'segment_id': 864691135925553422, 'decimation_version': 0, 'decimation_ratio': Decimal('0.25'), 'soma_index': 0}\n",
      "INFO - 2020-11-22 08:06:39,109 - connection - Transaction committed and closed.\n"
     ]
    },
    {
     "name": "stdout",
     "output_type": "stream",
     "text": [
      "\n",
      "\n",
      "\n",
      "---- Working on 864691135925552398, soma idx 0 ----\n",
      "\n",
      "\n",
      "\n",
      "---- Working on 864691135925552910, soma idx 0 ----\n",
      "\n",
      "\n",
      "\n",
      "---- Working on 864691135925553422, soma idx 0 ----\n"
     ]
    },
    {
     "name": "stderr",
     "output_type": "stream",
     "text": [
      "INFO - 2020-11-22 08:06:39,150 - connection - Transaction started\n",
      "INFO - 2020-11-22 08:06:39,152 - autopopulate - Populating: {'segment_id': 864691135925553678, 'decimation_version': 0, 'decimation_ratio': Decimal('0.25'), 'soma_index': 0}\n",
      "INFO - 2020-11-22 08:06:39,190 - connection - Transaction committed and closed.\n",
      "INFO - 2020-11-22 08:06:39,232 - connection - Transaction started\n",
      "INFO - 2020-11-22 08:06:39,234 - connection - Transaction cancelled. Rolling back ...\n",
      "INFO - 2020-11-22 08:06:39,273 - connection - Transaction started\n",
      "INFO - 2020-11-22 08:06:39,276 - autopopulate - Populating: {'segment_id': 864691135925554702, 'decimation_version': 0, 'decimation_ratio': Decimal('0.25'), 'soma_index': 0}\n",
      "INFO - 2020-11-22 08:06:39,301 - connection - Transaction committed and closed.\n",
      "INFO - 2020-11-22 08:06:39,346 - connection - Transaction started\n",
      "INFO - 2020-11-22 08:06:39,349 - autopopulate - Populating: {'segment_id': 864691135925555214, 'decimation_version': 0, 'decimation_ratio': Decimal('0.25'), 'soma_index': 0}\n"
     ]
    },
    {
     "name": "stdout",
     "output_type": "stream",
     "text": [
      "\n",
      "\n",
      "\n",
      "---- Working on 864691135925553678, soma idx 0 ----\n",
      "\n",
      "\n",
      "\n",
      "---- Working on 864691135925554702, soma idx 0 ----\n",
      "\n",
      "\n",
      "\n",
      "---- Working on 864691135925555214, soma idx 0 ----\n"
     ]
    },
    {
     "name": "stderr",
     "output_type": "stream",
     "text": [
      "INFO - 2020-11-22 08:06:39,385 - connection - Transaction committed and closed.\n",
      "INFO - 2020-11-22 08:06:39,418 - connection - Transaction started\n",
      "INFO - 2020-11-22 08:06:39,419 - autopopulate - Populating: {'segment_id': 864691135925555470, 'decimation_version': 0, 'decimation_ratio': Decimal('0.25'), 'soma_index': 1}\n"
     ]
    },
    {
     "name": "stdout",
     "output_type": "stream",
     "text": [
      "\n",
      "\n",
      "\n",
      "---- Working on 864691135925555470, soma idx 1 ----\n"
     ]
    },
    {
     "name": "stderr",
     "output_type": "stream",
     "text": [
      "INFO - 2020-11-22 08:06:39,640 - connection - Transaction committed and closed.\n",
      "INFO - 2020-11-22 08:06:39,684 - connection - Transaction started\n",
      "INFO - 2020-11-22 08:06:39,685 - connection - Transaction cancelled. Rolling back ...\n",
      "INFO - 2020-11-22 08:06:39,727 - connection - Transaction started\n",
      "INFO - 2020-11-22 08:06:39,730 - connection - Transaction cancelled. Rolling back ...\n",
      "INFO - 2020-11-22 08:06:39,766 - connection - Transaction started\n",
      "INFO - 2020-11-22 08:06:39,768 - connection - Transaction cancelled. Rolling back ...\n",
      "INFO - 2020-11-22 08:06:39,818 - connection - Transaction started\n",
      "INFO - 2020-11-22 08:06:39,820 - connection - Transaction cancelled. Rolling back ...\n",
      "INFO - 2020-11-22 08:06:39,859 - connection - Transaction started\n",
      "INFO - 2020-11-22 08:06:39,861 - connection - Transaction cancelled. Rolling back ...\n",
      "INFO - 2020-11-22 08:06:39,899 - connection - Transaction started\n",
      "INFO - 2020-11-22 08:06:39,901 - connection - Transaction cancelled. Rolling back ...\n",
      "INFO - 2020-11-22 08:06:39,943 - connection - Transaction started\n",
      "INFO - 2020-11-22 08:06:39,946 - connection - Transaction cancelled. Rolling back ...\n",
      "INFO - 2020-11-22 08:06:39,995 - connection - Transaction started\n",
      "INFO - 2020-11-22 08:06:39,997 - connection - Transaction cancelled. Rolling back ...\n",
      "INFO - 2020-11-22 08:06:40,045 - connection - Transaction started\n",
      "INFO - 2020-11-22 08:06:40,046 - connection - Transaction cancelled. Rolling back ...\n",
      "INFO - 2020-11-22 08:06:40,075 - connection - Transaction started\n",
      "INFO - 2020-11-22 08:06:40,076 - connection - Transaction cancelled. Rolling back ...\n",
      "INFO - 2020-11-22 08:06:40,109 - connection - Transaction started\n",
      "INFO - 2020-11-22 08:06:40,110 - connection - Transaction cancelled. Rolling back ...\n",
      "INFO - 2020-11-22 08:06:40,145 - connection - Transaction started\n",
      "INFO - 2020-11-22 08:06:40,146 - autopopulate - Populating: {'segment_id': 864691135925559310, 'decimation_version': 0, 'decimation_ratio': Decimal('0.25'), 'soma_index': 0}\n",
      "INFO - 2020-11-22 08:06:40,175 - connection - Transaction committed and closed.\n",
      "INFO - 2020-11-22 08:06:40,198 - connection - Transaction started\n",
      "INFO - 2020-11-22 08:06:40,200 - autopopulate - Populating: {'segment_id': 864691135925559822, 'decimation_version': 0, 'decimation_ratio': Decimal('0.25'), 'soma_index': 0}\n",
      "INFO - 2020-11-22 08:06:40,233 - connection - Transaction committed and closed.\n",
      "INFO - 2020-11-22 08:06:40,254 - connection - Transaction started\n",
      "INFO - 2020-11-22 08:06:40,255 - autopopulate - Populating: {'segment_id': 864691135925560078, 'decimation_version': 0, 'decimation_ratio': Decimal('0.25'), 'soma_index': 1}\n"
     ]
    },
    {
     "name": "stdout",
     "output_type": "stream",
     "text": [
      "\n",
      "\n",
      "\n",
      "---- Working on 864691135925559310, soma idx 0 ----\n",
      "\n",
      "\n",
      "\n",
      "---- Working on 864691135925559822, soma idx 0 ----\n",
      "\n",
      "\n",
      "\n",
      "---- Working on 864691135925560078, soma idx 1 ----\n"
     ]
    },
    {
     "name": "stderr",
     "output_type": "stream",
     "text": [
      "INFO - 2020-11-22 08:06:40,407 - connection - Transaction committed and closed.\n",
      "INFO - 2020-11-22 08:06:40,442 - connection - Transaction started\n",
      "INFO - 2020-11-22 08:06:40,444 - autopopulate - Populating: {'segment_id': 864691135925560846, 'decimation_version': 0, 'decimation_ratio': Decimal('0.25'), 'soma_index': 1}\n",
      "INFO - 2020-11-22 08:06:40,616 - connection - Transaction committed and closed.\n"
     ]
    },
    {
     "name": "stdout",
     "output_type": "stream",
     "text": [
      "\n",
      "\n",
      "\n",
      "---- Working on 864691135925560846, soma idx 1 ----\n"
     ]
    },
    {
     "name": "stderr",
     "output_type": "stream",
     "text": [
      "INFO - 2020-11-22 08:06:40,652 - connection - Transaction started\n",
      "INFO - 2020-11-22 08:06:40,654 - connection - Transaction cancelled. Rolling back ...\n",
      "INFO - 2020-11-22 08:06:40,675 - connection - Transaction started\n",
      "INFO - 2020-11-22 08:06:40,677 - connection - Transaction cancelled. Rolling back ...\n",
      "INFO - 2020-11-22 08:06:40,699 - connection - Transaction started\n",
      "INFO - 2020-11-22 08:06:40,700 - autopopulate - Populating: {'segment_id': 864691135925561870, 'decimation_version': 0, 'decimation_ratio': Decimal('0.25'), 'soma_index': 1}\n"
     ]
    },
    {
     "name": "stdout",
     "output_type": "stream",
     "text": [
      "\n",
      "\n",
      "\n",
      "---- Working on 864691135925561870, soma idx 1 ----\n"
     ]
    },
    {
     "name": "stderr",
     "output_type": "stream",
     "text": [
      "INFO - 2020-11-22 08:06:40,993 - connection - Transaction committed and closed.\n",
      "INFO - 2020-11-22 08:06:41,019 - connection - Transaction started\n",
      "INFO - 2020-11-22 08:06:41,020 - autopopulate - Populating: {'segment_id': 864691135925562126, 'decimation_version': 0, 'decimation_ratio': Decimal('0.25'), 'soma_index': 1}\n",
      "INFO - 2020-11-22 08:06:41,209 - connection - Transaction committed and closed.\n"
     ]
    },
    {
     "name": "stdout",
     "output_type": "stream",
     "text": [
      "\n",
      "\n",
      "\n",
      "---- Working on 864691135925562126, soma idx 1 ----\n"
     ]
    },
    {
     "name": "stderr",
     "output_type": "stream",
     "text": [
      "INFO - 2020-11-22 08:06:41,252 - connection - Transaction started\n",
      "INFO - 2020-11-22 08:06:41,254 - autopopulate - Populating: {'segment_id': 864691135925562638, 'decimation_version': 0, 'decimation_ratio': Decimal('0.25'), 'soma_index': 1}\n",
      "INFO - 2020-11-22 08:06:41,348 - connection - Transaction committed and closed.\n",
      "INFO - 2020-11-22 08:06:41,379 - connection - Transaction started\n",
      "INFO - 2020-11-22 08:06:41,381 - connection - Transaction cancelled. Rolling back ...\n",
      "INFO - 2020-11-22 08:06:41,422 - connection - Transaction started\n",
      "INFO - 2020-11-22 08:06:41,423 - autopopulate - Populating: {'segment_id': 864691135925563406, 'decimation_version': 0, 'decimation_ratio': Decimal('0.25'), 'soma_index': 1}\n"
     ]
    },
    {
     "name": "stdout",
     "output_type": "stream",
     "text": [
      "\n",
      "\n",
      "\n",
      "---- Working on 864691135925562638, soma idx 1 ----\n",
      "\n",
      "\n",
      "\n",
      "---- Working on 864691135925563406, soma idx 1 ----\n"
     ]
    },
    {
     "name": "stderr",
     "output_type": "stream",
     "text": [
      "INFO - 2020-11-22 08:06:41,613 - connection - Transaction committed and closed.\n",
      "INFO - 2020-11-22 08:06:41,632 - connection - Transaction started\n",
      "INFO - 2020-11-22 08:06:41,634 - connection - Transaction cancelled. Rolling back ...\n",
      "INFO - 2020-11-22 08:06:41,655 - connection - Transaction started\n",
      "INFO - 2020-11-22 08:06:41,656 - connection - Transaction cancelled. Rolling back ...\n",
      "INFO - 2020-11-22 08:06:41,706 - connection - Transaction started\n",
      "INFO - 2020-11-22 08:06:41,708 - autopopulate - Populating: {'segment_id': 864691135925564686, 'decimation_version': 0, 'decimation_ratio': Decimal('0.25'), 'soma_index': 1}\n",
      "INFO - 2020-11-22 08:06:41,858 - connection - Transaction committed and closed.\n",
      "INFO - 2020-11-22 08:06:41,889 - connection - Transaction started\n",
      "INFO - 2020-11-22 08:06:41,891 - connection - Transaction cancelled. Rolling back ...\n"
     ]
    },
    {
     "name": "stdout",
     "output_type": "stream",
     "text": [
      "\n",
      "\n",
      "\n",
      "---- Working on 864691135925564686, soma idx 1 ----\n"
     ]
    },
    {
     "name": "stderr",
     "output_type": "stream",
     "text": [
      "INFO - 2020-11-22 08:06:41,922 - connection - Transaction started\n",
      "INFO - 2020-11-22 08:06:41,924 - connection - Transaction cancelled. Rolling back ...\n",
      "INFO - 2020-11-22 08:06:41,980 - connection - Transaction started\n",
      "INFO - 2020-11-22 08:06:41,981 - connection - Transaction cancelled. Rolling back ...\n",
      "INFO - 2020-11-22 08:06:42,011 - connection - Transaction started\n",
      "INFO - 2020-11-22 08:06:42,013 - connection - Transaction cancelled. Rolling back ...\n",
      "INFO - 2020-11-22 08:06:42,041 - connection - Transaction started\n",
      "INFO - 2020-11-22 08:06:42,043 - connection - Transaction cancelled. Rolling back ...\n",
      "INFO - 2020-11-22 08:06:42,064 - connection - Transaction started\n",
      "INFO - 2020-11-22 08:06:42,067 - connection - Transaction cancelled. Rolling back ...\n",
      "INFO - 2020-11-22 08:06:42,092 - connection - Transaction started\n",
      "INFO - 2020-11-22 08:06:42,093 - autopopulate - Populating: {'segment_id': 864691135925566734, 'decimation_version': 0, 'decimation_ratio': Decimal('0.25'), 'soma_index': 0}\n",
      "INFO - 2020-11-22 08:06:42,122 - connection - Transaction committed and closed.\n",
      "INFO - 2020-11-22 08:06:42,143 - connection - Transaction started\n",
      "INFO - 2020-11-22 08:06:42,144 - autopopulate - Populating: {'segment_id': 864691135925566990, 'decimation_version': 0, 'decimation_ratio': Decimal('0.25'), 'soma_index': 0}\n",
      "INFO - 2020-11-22 08:06:42,177 - connection - Transaction committed and closed.\n",
      "INFO - 2020-11-22 08:06:42,228 - connection - Transaction started\n",
      "INFO - 2020-11-22 08:06:42,230 - autopopulate - Populating: {'segment_id': 864691135925567246, 'decimation_version': 0, 'decimation_ratio': Decimal('0.25'), 'soma_index': 1}\n"
     ]
    },
    {
     "name": "stdout",
     "output_type": "stream",
     "text": [
      "\n",
      "\n",
      "\n",
      "---- Working on 864691135925566734, soma idx 0 ----\n",
      "\n",
      "\n",
      "\n",
      "---- Working on 864691135925566990, soma idx 0 ----\n",
      "\n",
      "\n",
      "\n",
      "---- Working on 864691135925567246, soma idx 1 ----\n"
     ]
    },
    {
     "name": "stderr",
     "output_type": "stream",
     "text": [
      "INFO - 2020-11-22 08:06:42,314 - connection - Transaction committed and closed.\n",
      "INFO - 2020-11-22 08:06:42,362 - connection - Transaction started\n",
      "INFO - 2020-11-22 08:06:42,363 - autopopulate - Populating: {'segment_id': 864691135925567758, 'decimation_version': 0, 'decimation_ratio': Decimal('0.25'), 'soma_index': 0}\n",
      "INFO - 2020-11-22 08:06:42,393 - connection - Transaction committed and closed.\n",
      "INFO - 2020-11-22 08:06:42,433 - connection - Transaction started\n",
      "INFO - 2020-11-22 08:06:42,434 - autopopulate - Populating: {'segment_id': 864691135925568270, 'decimation_version': 0, 'decimation_ratio': Decimal('0.25'), 'soma_index': 0}\n",
      "INFO - 2020-11-22 08:06:42,462 - connection - Transaction committed and closed.\n",
      "INFO - 2020-11-22 08:06:42,503 - connection - Transaction started\n",
      "INFO - 2020-11-22 08:06:42,504 - autopopulate - Populating: {'segment_id': 864691135925568782, 'decimation_version': 0, 'decimation_ratio': Decimal('0.25'), 'soma_index': 1}\n"
     ]
    },
    {
     "name": "stdout",
     "output_type": "stream",
     "text": [
      "\n",
      "\n",
      "\n",
      "---- Working on 864691135925567758, soma idx 0 ----\n",
      "\n",
      "\n",
      "\n",
      "---- Working on 864691135925568270, soma idx 0 ----\n",
      "\n",
      "\n",
      "\n",
      "---- Working on 864691135925568782, soma idx 1 ----\n"
     ]
    },
    {
     "name": "stderr",
     "output_type": "stream",
     "text": [
      "INFO - 2020-11-22 08:06:42,773 - connection - Transaction committed and closed.\n",
      "INFO - 2020-11-22 08:06:42,829 - connection - Transaction started\n",
      "INFO - 2020-11-22 08:06:42,831 - connection - Transaction cancelled. Rolling back ...\n",
      "INFO - 2020-11-22 08:06:42,877 - connection - Transaction started\n",
      "INFO - 2020-11-22 08:06:42,879 - connection - Transaction cancelled. Rolling back ...\n",
      "INFO - 2020-11-22 08:06:42,910 - connection - Transaction started\n",
      "INFO - 2020-11-22 08:06:42,912 - connection - Transaction cancelled. Rolling back ...\n",
      "INFO - 2020-11-22 08:06:42,957 - connection - Transaction started\n",
      "INFO - 2020-11-22 08:06:42,958 - connection - Transaction cancelled. Rolling back ...\n",
      "INFO - 2020-11-22 08:06:42,989 - connection - Transaction started\n",
      "INFO - 2020-11-22 08:06:42,990 - connection - Transaction cancelled. Rolling back ...\n",
      "INFO - 2020-11-22 08:06:43,035 - connection - Transaction started\n",
      "INFO - 2020-11-22 08:06:43,037 - connection - Transaction cancelled. Rolling back ...\n",
      "INFO - 2020-11-22 08:06:43,058 - connection - Transaction started\n",
      "INFO - 2020-11-22 08:06:43,059 - connection - Transaction cancelled. Rolling back ...\n",
      "INFO - 2020-11-22 08:06:43,108 - connection - Transaction started\n",
      "INFO - 2020-11-22 08:06:43,109 - autopopulate - Populating: {'segment_id': 864691135925701123, 'decimation_version': 0, 'decimation_ratio': Decimal('0.25'), 'soma_index': 3}\n",
      "INFO - 2020-11-22 08:06:43,154 - connection - Transaction committed and closed.\n",
      "INFO - 2020-11-22 08:06:43,195 - connection - Transaction started\n",
      "INFO - 2020-11-22 08:06:43,196 - autopopulate - Populating: {'segment_id': 864691135925757652, 'decimation_version': 0, 'decimation_ratio': Decimal('0.25'), 'soma_index': 0}\n",
      "INFO - 2020-11-22 08:06:43,227 - connection - Transaction committed and closed.\n",
      "INFO - 2020-11-22 08:06:43,261 - connection - Transaction started\n",
      "INFO - 2020-11-22 08:06:43,263 - autopopulate - Populating: {'segment_id': 864691135926213635, 'decimation_version': 0, 'decimation_ratio': Decimal('0.25'), 'soma_index': 1}\n"
     ]
    },
    {
     "name": "stdout",
     "output_type": "stream",
     "text": [
      "\n",
      "\n",
      "\n",
      "---- Working on 864691135925701123, soma idx 3 ----\n",
      "\n",
      "\n",
      "\n",
      "---- Working on 864691135925757652, soma idx 0 ----\n",
      "\n",
      "\n",
      "\n",
      "---- Working on 864691135926213635, soma idx 1 ----\n"
     ]
    },
    {
     "name": "stderr",
     "output_type": "stream",
     "text": [
      "INFO - 2020-11-22 08:06:43,318 - connection - Transaction committed and closed.\n",
      "INFO - 2020-11-22 08:06:43,360 - connection - Transaction started\n",
      "INFO - 2020-11-22 08:06:43,363 - autopopulate - Populating: {'segment_id': 864691135926295764, 'decimation_version': 0, 'decimation_ratio': Decimal('0.25'), 'soma_index': 0}\n",
      "INFO - 2020-11-22 08:06:43,395 - connection - Transaction committed and closed.\n",
      "INFO - 2020-11-22 08:06:43,441 - connection - Transaction started\n",
      "INFO - 2020-11-22 08:06:43,442 - autopopulate - Populating: {'segment_id': 864691135926296532, 'decimation_version': 0, 'decimation_ratio': Decimal('0.25'), 'soma_index': 0}\n",
      "INFO - 2020-11-22 08:06:43,466 - connection - Transaction committed and closed.\n",
      "INFO - 2020-11-22 08:06:43,504 - connection - Transaction started\n",
      "INFO - 2020-11-22 08:06:43,506 - autopopulate - Populating: {'segment_id': 864691135926296788, 'decimation_version': 0, 'decimation_ratio': Decimal('0.25'), 'soma_index': 1}\n"
     ]
    },
    {
     "name": "stdout",
     "output_type": "stream",
     "text": [
      "\n",
      "\n",
      "\n",
      "---- Working on 864691135926295764, soma idx 0 ----\n",
      "\n",
      "\n",
      "\n",
      "---- Working on 864691135926296532, soma idx 0 ----\n",
      "\n",
      "\n",
      "\n",
      "---- Working on 864691135926296788, soma idx 1 ----\n"
     ]
    },
    {
     "name": "stderr",
     "output_type": "stream",
     "text": [
      "INFO - 2020-11-22 08:06:43,661 - connection - Transaction committed and closed.\n",
      "INFO - 2020-11-22 08:06:43,700 - connection - Transaction started\n",
      "INFO - 2020-11-22 08:06:43,703 - connection - Transaction cancelled. Rolling back ...\n",
      "INFO - 2020-11-22 08:06:43,746 - connection - Transaction started\n",
      "INFO - 2020-11-22 08:06:43,747 - autopopulate - Populating: {'segment_id': 864691135926299348, 'decimation_version': 0, 'decimation_ratio': Decimal('0.25'), 'soma_index': 1}\n"
     ]
    },
    {
     "name": "stdout",
     "output_type": "stream",
     "text": [
      "\n",
      "\n",
      "\n",
      "---- Working on 864691135926299348, soma idx 1 ----\n"
     ]
    },
    {
     "name": "stderr",
     "output_type": "stream",
     "text": [
      "INFO - 2020-11-22 08:06:43,965 - connection - Transaction committed and closed.\n",
      "INFO - 2020-11-22 08:06:44,008 - connection - Transaction started\n",
      "INFO - 2020-11-22 08:06:44,010 - connection - Transaction cancelled. Rolling back ...\n",
      "INFO - 2020-11-22 08:06:44,052 - connection - Transaction started\n",
      "INFO - 2020-11-22 08:06:44,053 - connection - Transaction cancelled. Rolling back ...\n",
      "INFO - 2020-11-22 08:06:44,095 - connection - Transaction started\n",
      "INFO - 2020-11-22 08:06:44,097 - connection - Transaction cancelled. Rolling back ...\n",
      "INFO - 2020-11-22 08:06:44,140 - connection - Transaction started\n",
      "INFO - 2020-11-22 08:06:44,142 - connection - Transaction cancelled. Rolling back ...\n",
      "INFO - 2020-11-22 08:06:44,181 - connection - Transaction started\n",
      "INFO - 2020-11-22 08:06:44,182 - connection - Transaction cancelled. Rolling back ...\n",
      "INFO - 2020-11-22 08:06:44,213 - connection - Transaction started\n",
      "INFO - 2020-11-22 08:06:44,215 - connection - Transaction cancelled. Rolling back ...\n",
      "INFO - 2020-11-22 08:06:44,259 - connection - Transaction started\n",
      "INFO - 2020-11-22 08:06:44,261 - connection - Transaction cancelled. Rolling back ...\n",
      "INFO - 2020-11-22 08:06:44,295 - connection - Transaction started\n",
      "INFO - 2020-11-22 08:06:44,296 - connection - Transaction cancelled. Rolling back ...\n",
      "INFO - 2020-11-22 08:06:44,333 - connection - Transaction started\n",
      "INFO - 2020-11-22 08:06:44,335 - connection - Transaction cancelled. Rolling back ...\n",
      "INFO - 2020-11-22 08:06:44,387 - connection - Transaction started\n",
      "INFO - 2020-11-22 08:06:44,388 - connection - Transaction cancelled. Rolling back ...\n",
      "INFO - 2020-11-22 08:06:44,417 - connection - Transaction started\n",
      "INFO - 2020-11-22 08:06:44,421 - connection - Transaction cancelled. Rolling back ...\n",
      "INFO - 2020-11-22 08:06:44,467 - connection - Transaction started\n",
      "INFO - 2020-11-22 08:06:44,469 - connection - Transaction cancelled. Rolling back ...\n",
      "INFO - 2020-11-22 08:06:44,507 - connection - Transaction started\n",
      "INFO - 2020-11-22 08:06:44,508 - connection - Transaction cancelled. Rolling back ...\n",
      "INFO - 2020-11-22 08:06:44,537 - connection - Transaction started\n",
      "INFO - 2020-11-22 08:06:44,540 - connection - Transaction cancelled. Rolling back ...\n",
      "INFO - 2020-11-22 08:06:44,571 - connection - Transaction started\n",
      "INFO - 2020-11-22 08:06:44,574 - autopopulate - Populating: {'segment_id': 864691135926303956, 'decimation_version': 0, 'decimation_ratio': Decimal('0.25'), 'soma_index': 1}\n",
      "INFO - 2020-11-22 08:06:44,717 - connection - Transaction committed and closed.\n",
      "INFO - 2020-11-22 08:06:44,750 - connection - Transaction started\n",
      "INFO - 2020-11-22 08:06:44,752 - connection - Transaction cancelled. Rolling back ...\n"
     ]
    },
    {
     "name": "stdout",
     "output_type": "stream",
     "text": [
      "\n",
      "\n",
      "\n",
      "---- Working on 864691135926303956, soma idx 1 ----\n"
     ]
    },
    {
     "name": "stderr",
     "output_type": "stream",
     "text": [
      "INFO - 2020-11-22 08:06:44,802 - connection - Transaction started\n",
      "INFO - 2020-11-22 08:06:44,804 - autopopulate - Populating: {'segment_id': 864691135926304724, 'decimation_version': 0, 'decimation_ratio': Decimal('0.25'), 'soma_index': 0}\n",
      "INFO - 2020-11-22 08:06:44,842 - connection - Transaction committed and closed.\n",
      "INFO - 2020-11-22 08:06:44,877 - connection - Transaction started\n",
      "INFO - 2020-11-22 08:06:44,879 - autopopulate - Populating: {'segment_id': 864691135926305236, 'decimation_version': 0, 'decimation_ratio': Decimal('0.25'), 'soma_index': 1}\n",
      "INFO - 2020-11-22 08:06:44,978 - connection - Transaction committed and closed.\n"
     ]
    },
    {
     "name": "stdout",
     "output_type": "stream",
     "text": [
      "\n",
      "\n",
      "\n",
      "---- Working on 864691135926304724, soma idx 0 ----\n",
      "\n",
      "\n",
      "\n",
      "---- Working on 864691135926305236, soma idx 1 ----\n"
     ]
    },
    {
     "name": "stderr",
     "output_type": "stream",
     "text": [
      "INFO - 2020-11-22 08:06:45,012 - connection - Transaction started\n",
      "INFO - 2020-11-22 08:06:45,014 - connection - Transaction cancelled. Rolling back ...\n",
      "INFO - 2020-11-22 08:06:45,037 - connection - Transaction started\n",
      "INFO - 2020-11-22 08:06:45,038 - autopopulate - Populating: {'segment_id': 864691135926306260, 'decimation_version': 0, 'decimation_ratio': Decimal('0.25'), 'soma_index': 0}\n",
      "INFO - 2020-11-22 08:06:45,064 - connection - Transaction committed and closed.\n",
      "INFO - 2020-11-22 08:06:45,085 - connection - Transaction started\n",
      "INFO - 2020-11-22 08:06:45,086 - autopopulate - Populating: {'segment_id': 864691135926306516, 'decimation_version': 0, 'decimation_ratio': Decimal('0.25'), 'soma_index': 0}\n",
      "INFO - 2020-11-22 08:06:45,113 - connection - Transaction committed and closed.\n",
      "INFO - 2020-11-22 08:06:45,154 - connection - Transaction started\n",
      "INFO - 2020-11-22 08:06:45,155 - autopopulate - Populating: {'segment_id': 864691135926306772, 'decimation_version': 0, 'decimation_ratio': Decimal('0.25'), 'soma_index': 1}\n"
     ]
    },
    {
     "name": "stdout",
     "output_type": "stream",
     "text": [
      "\n",
      "\n",
      "\n",
      "---- Working on 864691135926306260, soma idx 0 ----\n",
      "\n",
      "\n",
      "\n",
      "---- Working on 864691135926306516, soma idx 0 ----\n",
      "\n",
      "\n",
      "\n",
      "---- Working on 864691135926306772, soma idx 1 ----\n"
     ]
    },
    {
     "name": "stderr",
     "output_type": "stream",
     "text": [
      "INFO - 2020-11-22 08:06:45,304 - connection - Transaction committed and closed.\n",
      "INFO - 2020-11-22 08:06:45,349 - connection - Transaction started\n",
      "INFO - 2020-11-22 08:06:45,351 - autopopulate - Populating: {'segment_id': 864691135926307796, 'decimation_version': 0, 'decimation_ratio': Decimal('0.25'), 'soma_index': 0}\n",
      "INFO - 2020-11-22 08:06:45,382 - connection - Transaction committed and closed.\n",
      "INFO - 2020-11-22 08:06:45,417 - connection - Transaction started\n",
      "INFO - 2020-11-22 08:06:45,419 - autopopulate - Populating: {'segment_id': 864691135926308820, 'decimation_version': 0, 'decimation_ratio': Decimal('0.25'), 'soma_index': 1}\n"
     ]
    },
    {
     "name": "stdout",
     "output_type": "stream",
     "text": [
      "\n",
      "\n",
      "\n",
      "---- Working on 864691135926307796, soma idx 0 ----\n",
      "\n",
      "\n",
      "\n",
      "---- Working on 864691135926308820, soma idx 1 ----\n"
     ]
    },
    {
     "name": "stderr",
     "output_type": "stream",
     "text": [
      "INFO - 2020-11-22 08:06:45,609 - connection - Transaction committed and closed.\n",
      "INFO - 2020-11-22 08:06:45,629 - connection - Transaction started\n",
      "INFO - 2020-11-22 08:06:45,631 - connection - Transaction cancelled. Rolling back ...\n",
      "INFO - 2020-11-22 08:06:45,654 - connection - Transaction started\n",
      "INFO - 2020-11-22 08:06:45,655 - autopopulate - Populating: {'segment_id': 864691135926310356, 'decimation_version': 0, 'decimation_ratio': Decimal('0.25'), 'soma_index': 1}\n",
      "INFO - 2020-11-22 08:06:45,848 - connection - Transaction committed and closed.\n"
     ]
    },
    {
     "name": "stdout",
     "output_type": "stream",
     "text": [
      "\n",
      "\n",
      "\n",
      "---- Working on 864691135926310356, soma idx 1 ----\n"
     ]
    },
    {
     "name": "stderr",
     "output_type": "stream",
     "text": [
      "INFO - 2020-11-22 08:06:45,891 - connection - Transaction started\n",
      "INFO - 2020-11-22 08:06:45,892 - connection - Transaction cancelled. Rolling back ...\n",
      "INFO - 2020-11-22 08:06:45,937 - connection - Transaction started\n",
      "INFO - 2020-11-22 08:06:45,938 - connection - Transaction cancelled. Rolling back ...\n",
      "INFO - 2020-11-22 08:06:45,976 - connection - Transaction started\n",
      "INFO - 2020-11-22 08:06:45,978 - autopopulate - Populating: {'segment_id': 864691135926311892, 'decimation_version': 0, 'decimation_ratio': Decimal('0.25'), 'soma_index': 0}\n",
      "INFO - 2020-11-22 08:06:46,011 - connection - Transaction committed and closed.\n",
      "INFO - 2020-11-22 08:06:46,033 - connection - Transaction started\n",
      "INFO - 2020-11-22 08:06:46,034 - autopopulate - Populating: {'segment_id': 864691135926312404, 'decimation_version': 0, 'decimation_ratio': Decimal('0.25'), 'soma_index': 0}\n",
      "INFO - 2020-11-22 08:06:46,065 - connection - Transaction committed and closed.\n",
      "INFO - 2020-11-22 08:06:46,099 - connection - Transaction started\n",
      "INFO - 2020-11-22 08:06:46,100 - autopopulate - Populating: {'segment_id': 864691135926312916, 'decimation_version': 0, 'decimation_ratio': Decimal('0.25'), 'soma_index': 0}\n",
      "INFO - 2020-11-22 08:06:46,129 - connection - Transaction committed and closed.\n",
      "INFO - 2020-11-22 08:06:46,159 - connection - Transaction started\n",
      "INFO - 2020-11-22 08:06:46,161 - autopopulate - Populating: {'segment_id': 864691135926313428, 'decimation_version': 0, 'decimation_ratio': Decimal('0.25'), 'soma_index': 1}\n"
     ]
    },
    {
     "name": "stdout",
     "output_type": "stream",
     "text": [
      "\n",
      "\n",
      "\n",
      "---- Working on 864691135926311892, soma idx 0 ----\n",
      "\n",
      "\n",
      "\n",
      "---- Working on 864691135926312404, soma idx 0 ----\n",
      "\n",
      "\n",
      "\n",
      "---- Working on 864691135926312916, soma idx 0 ----\n",
      "\n",
      "\n",
      "\n",
      "---- Working on 864691135926313428, soma idx 1 ----\n"
     ]
    },
    {
     "name": "stderr",
     "output_type": "stream",
     "text": [
      "INFO - 2020-11-22 08:06:46,257 - connection - Transaction committed and closed.\n",
      "INFO - 2020-11-22 08:06:46,288 - connection - Transaction started\n",
      "INFO - 2020-11-22 08:06:46,291 - autopopulate - Populating: {'segment_id': 864691135926313940, 'decimation_version': 0, 'decimation_ratio': Decimal('0.25'), 'soma_index': 1}\n",
      "INFO - 2020-11-22 08:06:46,453 - connection - Transaction committed and closed.\n"
     ]
    },
    {
     "name": "stdout",
     "output_type": "stream",
     "text": [
      "\n",
      "\n",
      "\n",
      "---- Working on 864691135926313940, soma idx 1 ----\n"
     ]
    },
    {
     "name": "stderr",
     "output_type": "stream",
     "text": [
      "INFO - 2020-11-22 08:06:46,493 - connection - Transaction started\n",
      "INFO - 2020-11-22 08:06:46,495 - connection - Transaction cancelled. Rolling back ...\n",
      "INFO - 2020-11-22 08:06:46,538 - connection - Transaction started\n",
      "INFO - 2020-11-22 08:06:46,539 - connection - Transaction cancelled. Rolling back ...\n",
      "INFO - 2020-11-22 08:06:46,564 - connection - Transaction started\n",
      "INFO - 2020-11-22 08:06:46,566 - autopopulate - Populating: {'segment_id': 864691135926315220, 'decimation_version': 0, 'decimation_ratio': Decimal('0.25'), 'soma_index': 0}\n",
      "INFO - 2020-11-22 08:06:46,596 - connection - Transaction committed and closed.\n",
      "INFO - 2020-11-22 08:06:46,631 - connection - Transaction started\n",
      "INFO - 2020-11-22 08:06:46,632 - autopopulate - Populating: {'segment_id': 864691135926315476, 'decimation_version': 0, 'decimation_ratio': Decimal('0.25'), 'soma_index': 1}\n",
      "INFO - 2020-11-22 08:06:46,692 - connection - Transaction committed and closed.\n",
      "INFO - 2020-11-22 08:06:46,733 - connection - Transaction started\n",
      "INFO - 2020-11-22 08:06:46,736 - connection - Transaction cancelled. Rolling back ...\n",
      "INFO - 2020-11-22 08:06:46,766 - connection - Transaction started\n"
     ]
    },
    {
     "name": "stdout",
     "output_type": "stream",
     "text": [
      "\n",
      "\n",
      "\n",
      "---- Working on 864691135926315220, soma idx 0 ----\n",
      "\n",
      "\n",
      "\n",
      "---- Working on 864691135926315476, soma idx 1 ----\n"
     ]
    },
    {
     "name": "stderr",
     "output_type": "stream",
     "text": [
      "INFO - 2020-11-22 08:06:46,768 - autopopulate - Populating: {'segment_id': 864691135926316244, 'decimation_version': 0, 'decimation_ratio': Decimal('0.25'), 'soma_index': 1}\n",
      "INFO - 2020-11-22 08:06:46,806 - connection - Transaction committed and closed.\n",
      "INFO - 2020-11-22 08:06:46,827 - connection - Transaction started\n",
      "INFO - 2020-11-22 08:06:46,829 - autopopulate - Populating: {'segment_id': 864691135926317268, 'decimation_version': 0, 'decimation_ratio': Decimal('0.25'), 'soma_index': 1}\n",
      "INFO - 2020-11-22 08:06:46,898 - connection - Transaction committed and closed.\n",
      "INFO - 2020-11-22 08:06:46,929 - connection - Transaction started\n",
      "INFO - 2020-11-22 08:06:46,930 - autopopulate - Populating: {'segment_id': 864691135926317524, 'decimation_version': 0, 'decimation_ratio': Decimal('0.25'), 'soma_index': 0}\n",
      "INFO - 2020-11-22 08:06:46,954 - connection - Transaction committed and closed.\n"
     ]
    },
    {
     "name": "stdout",
     "output_type": "stream",
     "text": [
      "\n",
      "\n",
      "\n",
      "---- Working on 864691135926316244, soma idx 1 ----\n",
      "\n",
      "\n",
      "\n",
      "---- Working on 864691135926317268, soma idx 1 ----\n",
      "\n",
      "\n",
      "\n",
      "---- Working on 864691135926317524, soma idx 0 ----\n"
     ]
    },
    {
     "name": "stderr",
     "output_type": "stream",
     "text": [
      "INFO - 2020-11-22 08:06:46,991 - connection - Transaction started\n",
      "INFO - 2020-11-22 08:06:46,996 - autopopulate - Populating: {'segment_id': 864691135926317780, 'decimation_version': 0, 'decimation_ratio': Decimal('0.25'), 'soma_index': 1}\n",
      "INFO - 2020-11-22 08:06:47,145 - connection - Transaction committed and closed.\n",
      "INFO - 2020-11-22 08:06:47,177 - connection - Transaction started\n",
      "INFO - 2020-11-22 08:06:47,179 - connection - Transaction cancelled. Rolling back ...\n"
     ]
    },
    {
     "name": "stdout",
     "output_type": "stream",
     "text": [
      "\n",
      "\n",
      "\n",
      "---- Working on 864691135926317780, soma idx 1 ----\n"
     ]
    },
    {
     "name": "stderr",
     "output_type": "stream",
     "text": [
      "INFO - 2020-11-22 08:06:47,213 - connection - Transaction started\n",
      "INFO - 2020-11-22 08:06:47,216 - autopopulate - Populating: {'segment_id': 864691135926319060, 'decimation_version': 0, 'decimation_ratio': Decimal('0.25'), 'soma_index': 0}\n",
      "INFO - 2020-11-22 08:06:47,241 - connection - Transaction committed and closed.\n",
      "INFO - 2020-11-22 08:06:47,262 - connection - Transaction started\n",
      "INFO - 2020-11-22 08:06:47,263 - autopopulate - Populating: {'segment_id': 864691135926319572, 'decimation_version': 0, 'decimation_ratio': Decimal('0.25'), 'soma_index': 0}\n",
      "INFO - 2020-11-22 08:06:47,304 - connection - Transaction committed and closed.\n",
      "INFO - 2020-11-22 08:06:47,346 - connection - Transaction started\n",
      "INFO - 2020-11-22 08:06:47,348 - autopopulate - Populating: {'segment_id': 864691135926320084, 'decimation_version': 0, 'decimation_ratio': Decimal('0.25'), 'soma_index': 0}\n",
      "INFO - 2020-11-22 08:06:47,389 - connection - Transaction committed and closed.\n"
     ]
    },
    {
     "name": "stdout",
     "output_type": "stream",
     "text": [
      "\n",
      "\n",
      "\n",
      "---- Working on 864691135926319060, soma idx 0 ----\n",
      "\n",
      "\n",
      "\n",
      "---- Working on 864691135926319572, soma idx 0 ----\n",
      "\n",
      "\n",
      "\n",
      "---- Working on 864691135926320084, soma idx 0 ----\n"
     ]
    },
    {
     "name": "stderr",
     "output_type": "stream",
     "text": [
      "INFO - 2020-11-22 08:06:47,424 - connection - Transaction started\n",
      "INFO - 2020-11-22 08:06:47,425 - autopopulate - Populating: {'segment_id': 864691135926320340, 'decimation_version': 0, 'decimation_ratio': Decimal('0.25'), 'soma_index': 0}\n",
      "INFO - 2020-11-22 08:06:47,460 - connection - Transaction committed and closed.\n",
      "INFO - 2020-11-22 08:06:47,495 - connection - Transaction started\n",
      "INFO - 2020-11-22 08:06:47,497 - autopopulate - Populating: {'segment_id': 864691135926320596, 'decimation_version': 0, 'decimation_ratio': Decimal('0.25'), 'soma_index': 0}\n",
      "INFO - 2020-11-22 08:06:47,520 - connection - Transaction committed and closed.\n",
      "INFO - 2020-11-22 08:06:47,552 - connection - Transaction started\n",
      "INFO - 2020-11-22 08:06:47,554 - autopopulate - Populating: {'segment_id': 864691135926320852, 'decimation_version': 0, 'decimation_ratio': Decimal('0.25'), 'soma_index': 0}\n",
      "INFO - 2020-11-22 08:06:47,587 - connection - Transaction committed and closed.\n"
     ]
    },
    {
     "name": "stdout",
     "output_type": "stream",
     "text": [
      "\n",
      "\n",
      "\n",
      "---- Working on 864691135926320340, soma idx 0 ----\n",
      "\n",
      "\n",
      "\n",
      "---- Working on 864691135926320596, soma idx 0 ----\n",
      "\n",
      "\n",
      "\n",
      "---- Working on 864691135926320852, soma idx 0 ----\n"
     ]
    },
    {
     "name": "stderr",
     "output_type": "stream",
     "text": [
      "INFO - 2020-11-22 08:06:47,629 - connection - Transaction started\n",
      "INFO - 2020-11-22 08:06:47,630 - autopopulate - Populating: {'segment_id': 864691135926321108, 'decimation_version': 0, 'decimation_ratio': Decimal('0.25'), 'soma_index': 1}\n",
      "INFO - 2020-11-22 08:06:47,710 - connection - Transaction committed and closed.\n",
      "INFO - 2020-11-22 08:06:47,750 - connection - Transaction started\n",
      "INFO - 2020-11-22 08:06:47,751 - connection - Transaction cancelled. Rolling back ...\n",
      "INFO - 2020-11-22 08:06:47,785 - connection - Transaction started\n",
      "INFO - 2020-11-22 08:06:47,787 - connection - Transaction cancelled. Rolling back ...\n",
      "INFO - 2020-11-22 08:06:47,830 - connection - Transaction started\n"
     ]
    },
    {
     "name": "stdout",
     "output_type": "stream",
     "text": [
      "\n",
      "\n",
      "\n",
      "---- Working on 864691135926321108, soma idx 1 ----\n"
     ]
    },
    {
     "name": "stderr",
     "output_type": "stream",
     "text": [
      "INFO - 2020-11-22 08:06:47,832 - connection - Transaction cancelled. Rolling back ...\n",
      "INFO - 2020-11-22 08:06:47,861 - connection - Transaction started\n",
      "INFO - 2020-11-22 08:06:47,862 - connection - Transaction cancelled. Rolling back ...\n",
      "INFO - 2020-11-22 08:06:47,894 - connection - Transaction started\n",
      "INFO - 2020-11-22 08:06:47,896 - autopopulate - Populating: {'segment_id': 864691135926323412, 'decimation_version': 0, 'decimation_ratio': Decimal('0.25'), 'soma_index': 0}\n",
      "INFO - 2020-11-22 08:06:47,919 - connection - Transaction committed and closed.\n",
      "INFO - 2020-11-22 08:06:47,955 - connection - Transaction started\n",
      "INFO - 2020-11-22 08:06:47,957 - autopopulate - Populating: {'segment_id': 864691135926323924, 'decimation_version': 0, 'decimation_ratio': Decimal('0.25'), 'soma_index': 0}\n",
      "INFO - 2020-11-22 08:06:47,998 - connection - Transaction committed and closed.\n",
      "INFO - 2020-11-22 08:06:48,055 - connection - Transaction started\n",
      "INFO - 2020-11-22 08:06:48,057 - autopopulate - Populating: {'segment_id': 864691135926324436, 'decimation_version': 0, 'decimation_ratio': Decimal('0.25'), 'soma_index': 0}\n"
     ]
    },
    {
     "name": "stdout",
     "output_type": "stream",
     "text": [
      "\n",
      "\n",
      "\n",
      "---- Working on 864691135926323412, soma idx 0 ----\n",
      "\n",
      "\n",
      "\n",
      "---- Working on 864691135926323924, soma idx 0 ----\n",
      "\n",
      "\n",
      "\n",
      "---- Working on 864691135926324436, soma idx 0 ----\n"
     ]
    },
    {
     "name": "stderr",
     "output_type": "stream",
     "text": [
      "INFO - 2020-11-22 08:06:48,099 - connection - Transaction committed and closed.\n",
      "INFO - 2020-11-22 08:06:48,133 - connection - Transaction started\n",
      "INFO - 2020-11-22 08:06:48,135 - autopopulate - Populating: {'segment_id': 864691135926324948, 'decimation_version': 0, 'decimation_ratio': Decimal('0.25'), 'soma_index': 0}\n",
      "INFO - 2020-11-22 08:06:48,172 - connection - Transaction committed and closed.\n",
      "INFO - 2020-11-22 08:06:48,213 - connection - Transaction started\n",
      "INFO - 2020-11-22 08:06:48,215 - autopopulate - Populating: {'segment_id': 864691135926325204, 'decimation_version': 0, 'decimation_ratio': Decimal('0.25'), 'soma_index': 0}\n",
      "INFO - 2020-11-22 08:06:48,252 - connection - Transaction committed and closed.\n",
      "INFO - 2020-11-22 08:06:48,306 - connection - Transaction started\n",
      "INFO - 2020-11-22 08:06:48,317 - connection - Transaction cancelled. Rolling back ...\n"
     ]
    },
    {
     "name": "stdout",
     "output_type": "stream",
     "text": [
      "\n",
      "\n",
      "\n",
      "---- Working on 864691135926324948, soma idx 0 ----\n",
      "\n",
      "\n",
      "\n",
      "---- Working on 864691135926325204, soma idx 0 ----\n"
     ]
    },
    {
     "name": "stderr",
     "output_type": "stream",
     "text": [
      "INFO - 2020-11-22 08:06:48,352 - connection - Transaction started\n",
      "INFO - 2020-11-22 08:06:48,353 - autopopulate - Populating: {'segment_id': 864691135926325972, 'decimation_version': 0, 'decimation_ratio': Decimal('0.25'), 'soma_index': 0}\n",
      "INFO - 2020-11-22 08:06:48,382 - connection - Transaction committed and closed.\n",
      "INFO - 2020-11-22 08:06:48,419 - connection - Transaction started\n",
      "INFO - 2020-11-22 08:06:48,421 - autopopulate - Populating: {'segment_id': 864691135926326228, 'decimation_version': 0, 'decimation_ratio': Decimal('0.25'), 'soma_index': 0}\n",
      "INFO - 2020-11-22 08:06:48,448 - connection - Transaction committed and closed.\n",
      "INFO - 2020-11-22 08:06:48,492 - connection - Transaction started\n",
      "INFO - 2020-11-22 08:06:48,494 - autopopulate - Populating: {'segment_id': 864691135926326996, 'decimation_version': 0, 'decimation_ratio': Decimal('0.25'), 'soma_index': 1}\n",
      "INFO - 2020-11-22 08:06:48,545 - connection - Transaction committed and closed.\n"
     ]
    },
    {
     "name": "stdout",
     "output_type": "stream",
     "text": [
      "\n",
      "\n",
      "\n",
      "---- Working on 864691135926325972, soma idx 0 ----\n",
      "\n",
      "\n",
      "\n",
      "---- Working on 864691135926326228, soma idx 0 ----\n",
      "\n",
      "\n",
      "\n",
      "---- Working on 864691135926326996, soma idx 1 ----\n"
     ]
    },
    {
     "name": "stderr",
     "output_type": "stream",
     "text": [
      "INFO - 2020-11-22 08:06:48,580 - connection - Transaction started\n",
      "INFO - 2020-11-22 08:06:48,582 - autopopulate - Populating: {'segment_id': 864691135926327508, 'decimation_version': 0, 'decimation_ratio': Decimal('0.25'), 'soma_index': 0}\n",
      "INFO - 2020-11-22 08:06:48,609 - connection - Transaction committed and closed.\n",
      "INFO - 2020-11-22 08:06:48,653 - connection - Transaction started\n",
      "INFO - 2020-11-22 08:06:48,655 - autopopulate - Populating: {'segment_id': 864691135926327764, 'decimation_version': 0, 'decimation_ratio': Decimal('0.25'), 'soma_index': 2}\n"
     ]
    },
    {
     "name": "stdout",
     "output_type": "stream",
     "text": [
      "\n",
      "\n",
      "\n",
      "---- Working on 864691135926327508, soma idx 0 ----\n",
      "\n",
      "\n",
      "\n",
      "---- Working on 864691135926327764, soma idx 2 ----\n"
     ]
    },
    {
     "name": "stderr",
     "output_type": "stream",
     "text": [
      "INFO - 2020-11-22 08:06:48,831 - connection - Transaction committed and closed.\n",
      "INFO - 2020-11-22 08:06:48,853 - connection - Transaction started\n",
      "INFO - 2020-11-22 08:06:48,854 - autopopulate - Populating: {'segment_id': 864691135926328020, 'decimation_version': 0, 'decimation_ratio': Decimal('0.25'), 'soma_index': 0}\n",
      "INFO - 2020-11-22 08:06:48,894 - connection - Transaction committed and closed.\n",
      "INFO - 2020-11-22 08:06:48,930 - connection - Transaction started\n",
      "INFO - 2020-11-22 08:06:48,933 - autopopulate - Populating: {'segment_id': 864691135926328276, 'decimation_version': 0, 'decimation_ratio': Decimal('0.25'), 'soma_index': 1}\n",
      "INFO - 2020-11-22 08:06:48,998 - connection - Transaction committed and closed.\n",
      "INFO - 2020-11-22 08:06:49,029 - connection - Transaction started\n",
      "INFO - 2020-11-22 08:06:49,030 - connection - Transaction cancelled. Rolling back ...\n"
     ]
    },
    {
     "name": "stdout",
     "output_type": "stream",
     "text": [
      "\n",
      "\n",
      "\n",
      "---- Working on 864691135926328020, soma idx 0 ----\n",
      "\n",
      "\n",
      "\n",
      "---- Working on 864691135926328276, soma idx 1 ----\n"
     ]
    },
    {
     "name": "stderr",
     "output_type": "stream",
     "text": [
      "INFO - 2020-11-22 08:06:49,068 - connection - Transaction started\n",
      "INFO - 2020-11-22 08:06:49,070 - connection - Transaction cancelled. Rolling back ...\n",
      "INFO - 2020-11-22 08:06:49,106 - connection - Transaction started\n",
      "INFO - 2020-11-22 08:06:49,108 - autopopulate - Populating: {'segment_id': 864691135926329556, 'decimation_version': 0, 'decimation_ratio': Decimal('0.25'), 'soma_index': 0}\n",
      "INFO - 2020-11-22 08:06:49,139 - connection - Transaction committed and closed.\n",
      "INFO - 2020-11-22 08:06:49,169 - connection - Transaction started\n",
      "INFO - 2020-11-22 08:06:49,171 - autopopulate - Populating: {'segment_id': 864691135926329812, 'decimation_version': 0, 'decimation_ratio': Decimal('0.25'), 'soma_index': 0}\n",
      "INFO - 2020-11-22 08:06:49,194 - connection - Transaction committed and closed.\n",
      "INFO - 2020-11-22 08:06:49,247 - connection - Transaction started\n",
      "INFO - 2020-11-22 08:06:49,250 - autopopulate - Populating: {'segment_id': 864691135926330324, 'decimation_version': 0, 'decimation_ratio': Decimal('0.25'), 'soma_index': 0}\n",
      "INFO - 2020-11-22 08:06:49,285 - connection - Transaction committed and closed.\n"
     ]
    },
    {
     "name": "stdout",
     "output_type": "stream",
     "text": [
      "\n",
      "\n",
      "\n",
      "---- Working on 864691135926329556, soma idx 0 ----\n",
      "\n",
      "\n",
      "\n",
      "---- Working on 864691135926329812, soma idx 0 ----\n",
      "\n",
      "\n",
      "\n",
      "---- Working on 864691135926330324, soma idx 0 ----\n"
     ]
    },
    {
     "name": "stderr",
     "output_type": "stream",
     "text": [
      "INFO - 2020-11-22 08:06:49,329 - connection - Transaction started\n",
      "INFO - 2020-11-22 08:06:49,330 - autopopulate - Populating: {'segment_id': 864691135926330580, 'decimation_version': 0, 'decimation_ratio': Decimal('0.25'), 'soma_index': 0}\n",
      "INFO - 2020-11-22 08:06:49,362 - connection - Transaction committed and closed.\n",
      "INFO - 2020-11-22 08:06:49,397 - connection - Transaction started\n",
      "INFO - 2020-11-22 08:06:49,400 - autopopulate - Populating: {'segment_id': 864691135926331348, 'decimation_version': 0, 'decimation_ratio': Decimal('0.25'), 'soma_index': 0}\n",
      "INFO - 2020-11-22 08:06:49,431 - connection - Transaction committed and closed.\n",
      "INFO - 2020-11-22 08:06:49,486 - connection - Transaction started\n",
      "INFO - 2020-11-22 08:06:49,489 - autopopulate - Populating: {'segment_id': 864691135926331860, 'decimation_version': 0, 'decimation_ratio': Decimal('0.25'), 'soma_index': 1}\n"
     ]
    },
    {
     "name": "stdout",
     "output_type": "stream",
     "text": [
      "\n",
      "\n",
      "\n",
      "---- Working on 864691135926330580, soma idx 0 ----\n",
      "\n",
      "\n",
      "\n",
      "---- Working on 864691135926331348, soma idx 0 ----\n",
      "\n",
      "\n",
      "\n",
      "---- Working on 864691135926331860, soma idx 1 ----\n"
     ]
    },
    {
     "name": "stderr",
     "output_type": "stream",
     "text": [
      "INFO - 2020-11-22 08:06:49,624 - connection - Transaction committed and closed.\n",
      "INFO - 2020-11-22 08:06:49,645 - connection - Transaction started\n",
      "INFO - 2020-11-22 08:06:49,647 - connection - Transaction cancelled. Rolling back ...\n",
      "INFO - 2020-11-22 08:06:49,694 - connection - Transaction started\n",
      "INFO - 2020-11-22 08:06:49,697 - autopopulate - Populating: {'segment_id': 864691135926332628, 'decimation_version': 0, 'decimation_ratio': Decimal('0.25'), 'soma_index': 1}\n"
     ]
    },
    {
     "name": "stdout",
     "output_type": "stream",
     "text": [
      "\n",
      "\n",
      "\n",
      "---- Working on 864691135926332628, soma idx 1 ----\n"
     ]
    },
    {
     "name": "stderr",
     "output_type": "stream",
     "text": [
      "INFO - 2020-11-22 08:06:49,944 - connection - Transaction committed and closed.\n",
      "INFO - 2020-11-22 08:06:49,966 - connection - Transaction started\n",
      "INFO - 2020-11-22 08:06:49,969 - connection - Transaction cancelled. Rolling back ...\n",
      "INFO - 2020-11-22 08:06:50,002 - connection - Transaction started\n",
      "INFO - 2020-11-22 08:06:50,004 - connection - Transaction cancelled. Rolling back ...\n",
      "INFO - 2020-11-22 08:06:50,033 - connection - Transaction started\n",
      "INFO - 2020-11-22 08:06:50,035 - connection - Transaction cancelled. Rolling back ...\n",
      "INFO - 2020-11-22 08:06:50,077 - connection - Transaction started\n",
      "INFO - 2020-11-22 08:06:50,079 - connection - Transaction cancelled. Rolling back ...\n",
      "INFO - 2020-11-22 08:06:50,127 - connection - Transaction started\n",
      "INFO - 2020-11-22 08:06:50,130 - connection - Transaction cancelled. Rolling back ...\n",
      "INFO - 2020-11-22 08:06:50,171 - connection - Transaction started\n",
      "INFO - 2020-11-22 08:06:50,173 - connection - Transaction cancelled. Rolling back ...\n",
      "INFO - 2020-11-22 08:06:50,219 - connection - Transaction started\n",
      "INFO - 2020-11-22 08:06:50,223 - connection - Transaction cancelled. Rolling back ...\n",
      "INFO - 2020-11-22 08:06:50,267 - connection - Transaction started\n",
      "INFO - 2020-11-22 08:06:50,270 - connection - Transaction cancelled. Rolling back ...\n",
      "INFO - 2020-11-22 08:06:50,303 - connection - Transaction started\n",
      "INFO - 2020-11-22 08:06:50,305 - connection - Transaction cancelled. Rolling back ...\n",
      "INFO - 2020-11-22 08:06:50,338 - connection - Transaction started\n",
      "INFO - 2020-11-22 08:06:50,340 - connection - Transaction cancelled. Rolling back ...\n",
      "INFO - 2020-11-22 08:06:50,385 - connection - Transaction started\n",
      "INFO - 2020-11-22 08:06:50,387 - connection - Transaction cancelled. Rolling back ...\n",
      "INFO - 2020-11-22 08:06:50,436 - connection - Transaction started\n",
      "INFO - 2020-11-22 08:06:50,438 - connection - Transaction cancelled. Rolling back ...\n",
      "INFO - 2020-11-22 08:06:50,475 - connection - Transaction started\n",
      "INFO - 2020-11-22 08:06:50,477 - autopopulate - Populating: {'segment_id': 864691135926336724, 'decimation_version': 0, 'decimation_ratio': Decimal('0.25'), 'soma_index': 1}\n"
     ]
    },
    {
     "name": "stdout",
     "output_type": "stream",
     "text": [
      "\n",
      "\n",
      "\n",
      "---- Working on 864691135926336724, soma idx 1 ----\n"
     ]
    },
    {
     "name": "stderr",
     "output_type": "stream",
     "text": [
      "INFO - 2020-11-22 08:06:50,707 - connection - Transaction committed and closed.\n",
      "INFO - 2020-11-22 08:06:50,743 - connection - Transaction started\n",
      "INFO - 2020-11-22 08:06:50,749 - connection - Transaction cancelled. Rolling back ...\n",
      "INFO - 2020-11-22 08:06:50,779 - connection - Transaction started\n",
      "INFO - 2020-11-22 08:06:50,780 - autopopulate - Populating: {'segment_id': 864691135926337492, 'decimation_version': 0, 'decimation_ratio': Decimal('0.25'), 'soma_index': 0}\n",
      "INFO - 2020-11-22 08:06:50,811 - connection - Transaction committed and closed.\n",
      "INFO - 2020-11-22 08:06:50,845 - connection - Transaction started\n",
      "INFO - 2020-11-22 08:06:50,846 - autopopulate - Populating: {'segment_id': 864691135926337748, 'decimation_version': 0, 'decimation_ratio': Decimal('0.25'), 'soma_index': 1}\n",
      "INFO - 2020-11-22 08:06:50,942 - connection - Transaction committed and closed.\n",
      "INFO - 2020-11-22 08:06:50,973 - connection - Transaction started\n",
      "INFO - 2020-11-22 08:06:50,976 - connection - Transaction cancelled. Rolling back ...\n"
     ]
    },
    {
     "name": "stdout",
     "output_type": "stream",
     "text": [
      "\n",
      "\n",
      "\n",
      "---- Working on 864691135926337492, soma idx 0 ----\n",
      "\n",
      "\n",
      "\n",
      "---- Working on 864691135926337748, soma idx 1 ----\n"
     ]
    },
    {
     "name": "stderr",
     "output_type": "stream",
     "text": [
      "INFO - 2020-11-22 08:06:51,014 - connection - Transaction started\n",
      "INFO - 2020-11-22 08:06:51,015 - autopopulate - Populating: {'segment_id': 864691135926338772, 'decimation_version': 0, 'decimation_ratio': Decimal('0.25'), 'soma_index': 0}\n",
      "INFO - 2020-11-22 08:06:51,048 - connection - Transaction committed and closed.\n",
      "INFO - 2020-11-22 08:06:51,074 - connection - Transaction started\n",
      "INFO - 2020-11-22 08:06:51,076 - autopopulate - Populating: {'segment_id': 864691135926339284, 'decimation_version': 0, 'decimation_ratio': Decimal('0.25'), 'soma_index': 0}\n",
      "INFO - 2020-11-22 08:06:51,114 - connection - Transaction committed and closed.\n",
      "INFO - 2020-11-22 08:06:51,171 - connection - Transaction started\n",
      "INFO - 2020-11-22 08:06:51,172 - autopopulate - Populating: {'segment_id': 864691135926339540, 'decimation_version': 0, 'decimation_ratio': Decimal('0.25'), 'soma_index': 0}\n",
      "INFO - 2020-11-22 08:06:51,202 - connection - Transaction committed and closed.\n"
     ]
    },
    {
     "name": "stdout",
     "output_type": "stream",
     "text": [
      "\n",
      "\n",
      "\n",
      "---- Working on 864691135926338772, soma idx 0 ----\n",
      "\n",
      "\n",
      "\n",
      "---- Working on 864691135926339284, soma idx 0 ----\n",
      "\n",
      "\n",
      "\n",
      "---- Working on 864691135926339540, soma idx 0 ----\n"
     ]
    },
    {
     "name": "stderr",
     "output_type": "stream",
     "text": [
      "INFO - 2020-11-22 08:06:51,247 - connection - Transaction started\n",
      "INFO - 2020-11-22 08:06:51,249 - autopopulate - Populating: {'segment_id': 864691135926339796, 'decimation_version': 0, 'decimation_ratio': Decimal('0.25'), 'soma_index': 0}\n",
      "INFO - 2020-11-22 08:06:51,282 - connection - Transaction committed and closed.\n",
      "INFO - 2020-11-22 08:06:51,305 - connection - Transaction started\n",
      "INFO - 2020-11-22 08:06:51,306 - autopopulate - Populating: {'segment_id': 864691135926685793, 'decimation_version': 0, 'decimation_ratio': Decimal('0.25'), 'soma_index': 1}\n",
      "INFO - 2020-11-22 08:06:51,398 - connection - Transaction committed and closed.\n",
      "INFO - 2020-11-22 08:06:51,438 - connection - Transaction started\n",
      "INFO - 2020-11-22 08:06:51,441 - autopopulate - Populating: {'segment_id': 864691135926700897, 'decimation_version': 0, 'decimation_ratio': Decimal('0.25'), 'soma_index': 2}\n"
     ]
    },
    {
     "name": "stdout",
     "output_type": "stream",
     "text": [
      "\n",
      "\n",
      "\n",
      "---- Working on 864691135926339796, soma idx 0 ----\n",
      "\n",
      "\n",
      "\n",
      "---- Working on 864691135926685793, soma idx 1 ----\n",
      "\n",
      "\n",
      "\n",
      "---- Working on 864691135926700897, soma idx 2 ----\n"
     ]
    },
    {
     "name": "stderr",
     "output_type": "stream",
     "text": [
      "INFO - 2020-11-22 08:06:51,500 - connection - Transaction committed and closed.\n",
      "INFO - 2020-11-22 08:06:51,540 - connection - Transaction started\n",
      "INFO - 2020-11-22 08:06:51,541 - autopopulate - Populating: {'segment_id': 864691135926849889, 'decimation_version': 0, 'decimation_ratio': Decimal('0.25'), 'soma_index': 0}\n",
      "INFO - 2020-11-22 08:06:51,568 - connection - Transaction committed and closed.\n",
      "INFO - 2020-11-22 08:06:51,617 - connection - Transaction started\n",
      "INFO - 2020-11-22 08:06:51,618 - autopopulate - Populating: {'segment_id': 864691135926922337, 'decimation_version': 0, 'decimation_ratio': Decimal('0.25'), 'soma_index': 1}\n"
     ]
    },
    {
     "name": "stdout",
     "output_type": "stream",
     "text": [
      "\n",
      "\n",
      "\n",
      "---- Working on 864691135926849889, soma idx 0 ----\n",
      "\n",
      "\n",
      "\n",
      "---- Working on 864691135926922337, soma idx 1 ----\n"
     ]
    },
    {
     "name": "stderr",
     "output_type": "stream",
     "text": [
      "INFO - 2020-11-22 08:06:51,752 - connection - Transaction committed and closed.\n",
      "INFO - 2020-11-22 08:06:51,781 - connection - Transaction started\n",
      "INFO - 2020-11-22 08:06:51,783 - connection - Transaction cancelled. Rolling back ...\n",
      "INFO - 2020-11-22 08:06:51,826 - connection - Transaction started\n",
      "INFO - 2020-11-22 08:06:51,829 - connection - Transaction cancelled. Rolling back ...\n",
      "INFO - 2020-11-22 08:06:51,872 - connection - Transaction started\n",
      "INFO - 2020-11-22 08:06:51,874 - autopopulate - Populating: {'segment_id': 864691135927316227, 'decimation_version': 0, 'decimation_ratio': Decimal('0.25'), 'soma_index': 1}\n",
      "INFO - 2020-11-22 08:06:52,075 - connection - Transaction committed and closed.\n"
     ]
    },
    {
     "name": "stdout",
     "output_type": "stream",
     "text": [
      "\n",
      "\n",
      "\n",
      "---- Working on 864691135927316227, soma idx 1 ----\n"
     ]
    },
    {
     "name": "stderr",
     "output_type": "stream",
     "text": [
      "INFO - 2020-11-22 08:06:52,106 - connection - Transaction started\n",
      "INFO - 2020-11-22 08:06:52,108 - connection - Transaction cancelled. Rolling back ...\n",
      "INFO - 2020-11-22 08:06:52,165 - connection - Transaction started\n",
      "INFO - 2020-11-22 08:06:52,167 - connection - Transaction cancelled. Rolling back ...\n",
      "INFO - 2020-11-22 08:06:52,207 - connection - Transaction started\n",
      "INFO - 2020-11-22 08:06:52,209 - connection - Transaction cancelled. Rolling back ...\n",
      "INFO - 2020-11-22 08:06:52,230 - connection - Transaction started\n",
      "INFO - 2020-11-22 08:06:52,232 - connection - Transaction cancelled. Rolling back ...\n",
      "INFO - 2020-11-22 08:06:52,273 - connection - Transaction started\n",
      "INFO - 2020-11-22 08:06:52,283 - connection - Transaction cancelled. Rolling back ...\n",
      "INFO - 2020-11-22 08:06:52,305 - connection - Transaction started\n",
      "INFO - 2020-11-22 08:06:52,307 - autopopulate - Populating: {'segment_id': 864691135927694689, 'decimation_version': 0, 'decimation_ratio': Decimal('0.25'), 'soma_index': 5}\n",
      "INFO - 2020-11-22 08:06:52,374 - connection - Transaction committed and closed.\n",
      "INFO - 2020-11-22 08:06:52,436 - connection - Transaction started\n",
      "INFO - 2020-11-22 08:06:52,438 - autopopulate - Populating: {'segment_id': 864691135927856481, 'decimation_version': 0, 'decimation_ratio': Decimal('0.25'), 'soma_index': 0}\n",
      "INFO - 2020-11-22 08:06:52,471 - connection - Transaction committed and closed.\n",
      "INFO - 2020-11-22 08:06:52,503 - connection - Transaction started\n",
      "INFO - 2020-11-22 08:06:52,505 - autopopulate - Populating: {'segment_id': 864691135928138243, 'decimation_version': 0, 'decimation_ratio': Decimal('0.25'), 'soma_index': 1}\n"
     ]
    },
    {
     "name": "stdout",
     "output_type": "stream",
     "text": [
      "\n",
      "\n",
      "\n",
      "---- Working on 864691135927694689, soma idx 5 ----\n",
      "\n",
      "\n",
      "\n",
      "---- Working on 864691135927856481, soma idx 0 ----\n",
      "\n",
      "\n",
      "\n",
      "---- Working on 864691135928138243, soma idx 1 ----\n"
     ]
    },
    {
     "name": "stderr",
     "output_type": "stream",
     "text": [
      "INFO - 2020-11-22 08:06:52,617 - connection - Transaction committed and closed.\n",
      "INFO - 2020-11-22 08:06:52,639 - connection - Transaction started\n",
      "INFO - 2020-11-22 08:06:52,640 - autopopulate - Populating: {'segment_id': 864691135928212065, 'decimation_version': 0, 'decimation_ratio': Decimal('0.25'), 'soma_index': 0}\n",
      "INFO - 2020-11-22 08:06:52,687 - connection - Transaction committed and closed.\n",
      "INFO - 2020-11-22 08:06:52,726 - connection - Transaction started\n",
      "INFO - 2020-11-22 08:06:52,728 - autopopulate - Populating: {'segment_id': 864691135928248417, 'decimation_version': 0, 'decimation_ratio': Decimal('0.25'), 'soma_index': 2}\n",
      "INFO - 2020-11-22 08:06:52,819 - connection - Transaction committed and closed.\n"
     ]
    },
    {
     "name": "stdout",
     "output_type": "stream",
     "text": [
      "\n",
      "\n",
      "\n",
      "---- Working on 864691135928212065, soma idx 0 ----\n",
      "\n",
      "\n",
      "\n",
      "---- Working on 864691135928248417, soma idx 2 ----\n"
     ]
    },
    {
     "name": "stderr",
     "output_type": "stream",
     "text": [
      "INFO - 2020-11-22 08:06:52,851 - connection - Transaction started\n",
      "INFO - 2020-11-22 08:06:52,853 - autopopulate - Populating: {'segment_id': 864691135928537185, 'decimation_version': 0, 'decimation_ratio': Decimal('0.25'), 'soma_index': 0}\n",
      "INFO - 2020-11-22 08:06:52,886 - connection - Transaction committed and closed.\n",
      "INFO - 2020-11-22 08:06:52,934 - connection - Transaction started\n",
      "INFO - 2020-11-22 08:06:52,935 - autopopulate - Populating: {'segment_id': 864691135928909742, 'decimation_version': 0, 'decimation_ratio': Decimal('0.25'), 'soma_index': 0}\n",
      "INFO - 2020-11-22 08:06:52,964 - connection - Transaction committed and closed.\n",
      "INFO - 2020-11-22 08:06:53,005 - connection - Transaction started\n",
      "INFO - 2020-11-22 08:06:53,007 - autopopulate - Populating: {'segment_id': 864691135928922209, 'decimation_version': 0, 'decimation_ratio': Decimal('0.25'), 'soma_index': 1}\n"
     ]
    },
    {
     "name": "stdout",
     "output_type": "stream",
     "text": [
      "\n",
      "\n",
      "\n",
      "---- Working on 864691135928537185, soma idx 0 ----\n",
      "\n",
      "\n",
      "\n",
      "---- Working on 864691135928909742, soma idx 0 ----\n",
      "\n",
      "\n",
      "\n",
      "---- Working on 864691135928922209, soma idx 1 ----\n"
     ]
    },
    {
     "name": "stderr",
     "output_type": "stream",
     "text": [
      "INFO - 2020-11-22 08:06:53,067 - connection - Transaction committed and closed.\n",
      "INFO - 2020-11-22 08:06:53,109 - connection - Transaction started\n",
      "INFO - 2020-11-22 08:06:53,112 - connection - Transaction cancelled. Rolling back ...\n",
      "INFO - 2020-11-22 08:06:53,155 - connection - Transaction started\n",
      "INFO - 2020-11-22 08:06:53,157 - autopopulate - Populating: {'segment_id': 864691135929050209, 'decimation_version': 0, 'decimation_ratio': Decimal('0.25'), 'soma_index': 0}\n",
      "INFO - 2020-11-22 08:06:53,198 - connection - Transaction committed and closed.\n",
      "INFO - 2020-11-22 08:06:53,237 - connection - Transaction started\n",
      "INFO - 2020-11-22 08:06:53,239 - autopopulate - Populating: {'segment_id': 864691135929411224, 'decimation_version': 0, 'decimation_ratio': Decimal('0.25'), 'soma_index': 0}\n",
      "INFO - 2020-11-22 08:06:53,269 - connection - Transaction committed and closed.\n",
      "INFO - 2020-11-22 08:06:53,319 - connection - Transaction started\n",
      "INFO - 2020-11-22 08:06:53,320 - autopopulate - Populating: {'segment_id': 864691135929605237, 'decimation_version': 0, 'decimation_ratio': Decimal('0.25'), 'soma_index': 0}\n",
      "INFO - 2020-11-22 08:06:53,355 - connection - Transaction committed and closed.\n"
     ]
    },
    {
     "name": "stdout",
     "output_type": "stream",
     "text": [
      "\n",
      "\n",
      "\n",
      "---- Working on 864691135929050209, soma idx 0 ----\n",
      "\n",
      "\n",
      "\n",
      "---- Working on 864691135929411224, soma idx 0 ----\n",
      "\n",
      "\n",
      "\n",
      "---- Working on 864691135929605237, soma idx 0 ----\n"
     ]
    },
    {
     "name": "stderr",
     "output_type": "stream",
     "text": [
      "INFO - 2020-11-22 08:06:53,392 - connection - Transaction started\n",
      "INFO - 2020-11-22 08:06:53,394 - autopopulate - Populating: {'segment_id': 864691135929700248, 'decimation_version': 0, 'decimation_ratio': Decimal('0.25'), 'soma_index': 0}\n",
      "INFO - 2020-11-22 08:06:53,436 - connection - Transaction committed and closed.\n",
      "INFO - 2020-11-22 08:06:53,467 - connection - Transaction started\n",
      "INFO - 2020-11-22 08:06:53,469 - autopopulate - Populating: {'segment_id': 864691135929736534, 'decimation_version': 0, 'decimation_ratio': Decimal('0.25'), 'soma_index': 0}\n",
      "INFO - 2020-11-22 08:06:53,507 - connection - Transaction committed and closed.\n",
      "INFO - 2020-11-22 08:06:53,541 - connection - Transaction started\n",
      "INFO - 2020-11-22 08:06:53,542 - autopopulate - Populating: {'segment_id': 864691135929878787, 'decimation_version': 0, 'decimation_ratio': Decimal('0.25'), 'soma_index': 0}\n",
      "INFO - 2020-11-22 08:06:53,585 - connection - Transaction committed and closed.\n"
     ]
    },
    {
     "name": "stdout",
     "output_type": "stream",
     "text": [
      "\n",
      "\n",
      "\n",
      "---- Working on 864691135929700248, soma idx 0 ----\n",
      "\n",
      "\n",
      "\n",
      "---- Working on 864691135929736534, soma idx 0 ----\n",
      "\n",
      "\n",
      "\n",
      "---- Working on 864691135929878787, soma idx 0 ----\n"
     ]
    },
    {
     "name": "stderr",
     "output_type": "stream",
     "text": [
      "INFO - 2020-11-22 08:06:53,608 - connection - Transaction started\n",
      "INFO - 2020-11-22 08:06:53,610 - autopopulate - Populating: {'segment_id': 864691135930106721, 'decimation_version': 0, 'decimation_ratio': Decimal('0.25'), 'soma_index': 1}\n",
      "INFO - 2020-11-22 08:06:53,728 - connection - Transaction committed and closed.\n",
      "INFO - 2020-11-22 08:06:53,776 - connection - Transaction started\n",
      "INFO - 2020-11-22 08:06:53,779 - autopopulate - Populating: {'segment_id': 864691135930498819, 'decimation_version': 0, 'decimation_ratio': Decimal('0.25'), 'soma_index': 1}\n"
     ]
    },
    {
     "name": "stdout",
     "output_type": "stream",
     "text": [
      "\n",
      "\n",
      "\n",
      "---- Working on 864691135930106721, soma idx 1 ----\n",
      "\n",
      "\n",
      "\n",
      "---- Working on 864691135930498819, soma idx 1 ----\n"
     ]
    },
    {
     "name": "stderr",
     "output_type": "stream",
     "text": [
      "INFO - 2020-11-22 08:06:53,948 - connection - Transaction committed and closed.\n",
      "INFO - 2020-11-22 08:06:53,985 - connection - Transaction started\n",
      "INFO - 2020-11-22 08:06:53,988 - connection - Transaction cancelled. Rolling back ...\n",
      "INFO - 2020-11-22 08:06:54,021 - connection - Transaction started\n",
      "INFO - 2020-11-22 08:06:54,024 - connection - Transaction cancelled. Rolling back ...\n",
      "INFO - 2020-11-22 08:06:54,061 - connection - Transaction started\n",
      "INFO - 2020-11-22 08:06:54,064 - connection - Transaction cancelled. Rolling back ...\n",
      "INFO - 2020-11-22 08:06:54,097 - connection - Transaction started\n",
      "INFO - 2020-11-22 08:06:54,100 - connection - Transaction cancelled. Rolling back ...\n",
      "INFO - 2020-11-22 08:06:54,148 - connection - Transaction started\n",
      "INFO - 2020-11-22 08:06:54,150 - connection - Transaction cancelled. Rolling back ...\n",
      "INFO - 2020-11-22 08:06:54,188 - connection - Transaction started\n",
      "INFO - 2020-11-22 08:06:54,192 - connection - Transaction cancelled. Rolling back ...\n",
      "INFO - 2020-11-22 08:06:54,226 - connection - Transaction started\n",
      "INFO - 2020-11-22 08:06:54,229 - connection - Transaction cancelled. Rolling back ...\n",
      "INFO - 2020-11-22 08:06:54,267 - connection - Transaction started\n",
      "INFO - 2020-11-22 08:06:54,271 - connection - Transaction cancelled. Rolling back ...\n",
      "INFO - 2020-11-22 08:06:54,321 - connection - Transaction started\n",
      "INFO - 2020-11-22 08:06:54,324 - connection - Transaction cancelled. Rolling back ...\n",
      "INFO - 2020-11-22 08:06:54,361 - connection - Transaction started\n",
      "INFO - 2020-11-22 08:06:54,363 - connection - Transaction cancelled. Rolling back ...\n",
      "INFO - 2020-11-22 08:06:54,395 - connection - Transaction started\n",
      "INFO - 2020-11-22 08:06:54,397 - autopopulate - Populating: {'segment_id': 864691135931783009, 'decimation_version': 0, 'decimation_ratio': Decimal('0.25'), 'soma_index': 0}\n",
      "INFO - 2020-11-22 08:06:54,437 - connection - Transaction committed and closed.\n",
      "INFO - 2020-11-22 08:06:54,488 - connection - Transaction started\n",
      "INFO - 2020-11-22 08:06:54,490 - autopopulate - Populating: {'segment_id': 864691135931920183, 'decimation_version': 0, 'decimation_ratio': Decimal('0.25'), 'soma_index': 1}\n",
      "INFO - 2020-11-22 08:06:54,571 - connection - Transaction committed and closed.\n"
     ]
    },
    {
     "name": "stdout",
     "output_type": "stream",
     "text": [
      "\n",
      "\n",
      "\n",
      "---- Working on 864691135931783009, soma idx 0 ----\n",
      "\n",
      "\n",
      "\n",
      "---- Working on 864691135931920183, soma idx 1 ----\n"
     ]
    },
    {
     "name": "stderr",
     "output_type": "stream",
     "text": [
      "INFO - 2020-11-22 08:06:54,611 - connection - Transaction started\n",
      "INFO - 2020-11-22 08:06:54,613 - autopopulate - Populating: {'segment_id': 864691135932026721, 'decimation_version': 0, 'decimation_ratio': Decimal('0.25'), 'soma_index': 2}\n",
      "INFO - 2020-11-22 08:06:54,700 - connection - Transaction committed and closed.\n",
      "INFO - 2020-11-22 08:06:54,733 - connection - Transaction started\n",
      "INFO - 2020-11-22 08:06:54,735 - autopopulate - Populating: {'segment_id': 864691135932185624, 'decimation_version': 0, 'decimation_ratio': Decimal('0.25'), 'soma_index': 0}\n",
      "INFO - 2020-11-22 08:06:54,775 - connection - Transaction committed and closed.\n",
      "INFO - 2020-11-22 08:06:54,797 - connection - Transaction started\n",
      "INFO - 2020-11-22 08:06:54,799 - autopopulate - Populating: {'segment_id': 864691135932397111, 'decimation_version': 0, 'decimation_ratio': Decimal('0.25'), 'soma_index': 1}\n"
     ]
    },
    {
     "name": "stdout",
     "output_type": "stream",
     "text": [
      "\n",
      "\n",
      "\n",
      "---- Working on 864691135932026721, soma idx 2 ----\n",
      "\n",
      "\n",
      "\n",
      "---- Working on 864691135932185624, soma idx 0 ----\n",
      "\n",
      "\n",
      "\n",
      "---- Working on 864691135932397111, soma idx 1 ----\n"
     ]
    },
    {
     "name": "stderr",
     "output_type": "stream",
     "text": [
      "INFO - 2020-11-22 08:06:54,886 - connection - Transaction committed and closed.\n",
      "INFO - 2020-11-22 08:06:54,921 - connection - Transaction started\n",
      "INFO - 2020-11-22 08:06:54,923 - autopopulate - Populating: {'segment_id': 864691135932545176, 'decimation_version': 0, 'decimation_ratio': Decimal('0.25'), 'soma_index': 0}\n",
      "INFO - 2020-11-22 08:06:54,965 - connection - Transaction committed and closed.\n",
      "INFO - 2020-11-22 08:06:55,030 - connection - Transaction started\n",
      "INFO - 2020-11-22 08:06:55,033 - connection - Transaction cancelled. Rolling back ...\n",
      "INFO - 2020-11-22 08:06:55,077 - connection - Transaction started\n",
      "INFO - 2020-11-22 08:06:55,079 - autopopulate - Populating: {'segment_id': 864691135932681219, 'decimation_version': 0, 'decimation_ratio': Decimal('0.25'), 'soma_index': 1}\n"
     ]
    },
    {
     "name": "stdout",
     "output_type": "stream",
     "text": [
      "\n",
      "\n",
      "\n",
      "---- Working on 864691135932545176, soma idx 0 ----\n",
      "\n",
      "\n",
      "\n",
      "---- Working on 864691135932681219, soma idx 1 ----\n"
     ]
    },
    {
     "name": "stderr",
     "output_type": "stream",
     "text": [
      "INFO - 2020-11-22 08:06:55,237 - connection - Transaction committed and closed.\n",
      "INFO - 2020-11-22 08:06:55,275 - connection - Transaction started\n",
      "INFO - 2020-11-22 08:06:55,278 - connection - Transaction cancelled. Rolling back ...\n",
      "INFO - 2020-11-22 08:06:55,313 - connection - Transaction started\n",
      "INFO - 2020-11-22 08:06:55,316 - connection - Transaction cancelled. Rolling back ...\n",
      "INFO - 2020-11-22 08:06:55,351 - connection - Transaction started\n",
      "INFO - 2020-11-22 08:06:55,354 - connection - Transaction cancelled. Rolling back ...\n",
      "INFO - 2020-11-22 08:06:55,395 - connection - Transaction started\n",
      "INFO - 2020-11-22 08:06:55,398 - autopopulate - Populating: {'segment_id': 864691135932973464, 'decimation_version': 0, 'decimation_ratio': Decimal('0.25'), 'soma_index': 1}\n",
      "INFO - 2020-11-22 08:06:55,439 - connection - Transaction committed and closed.\n",
      "INFO - 2020-11-22 08:06:55,485 - connection - Transaction started\n",
      "INFO - 2020-11-22 08:06:55,487 - autopopulate - Populating: {'segment_id': 864691135933237601, 'decimation_version': 0, 'decimation_ratio': Decimal('0.25'), 'soma_index': 1}\n",
      "INFO - 2020-11-22 08:06:55,557 - connection - Transaction committed and closed.\n",
      "INFO - 2020-11-22 08:06:55,597 - connection - Transaction started\n",
      "INFO - 2020-11-22 08:06:55,599 - connection - Transaction cancelled. Rolling back ...\n"
     ]
    },
    {
     "name": "stdout",
     "output_type": "stream",
     "text": [
      "\n",
      "\n",
      "\n",
      "---- Working on 864691135932973464, soma idx 1 ----\n",
      "\n",
      "\n",
      "\n",
      "---- Working on 864691135933237601, soma idx 1 ----\n"
     ]
    },
    {
     "name": "stderr",
     "output_type": "stream",
     "text": [
      "INFO - 2020-11-22 08:06:55,636 - connection - Transaction started\n",
      "INFO - 2020-11-22 08:06:55,638 - autopopulate - Populating: {'segment_id': 864691135933454689, 'decimation_version': 0, 'decimation_ratio': Decimal('0.25'), 'soma_index': 0}\n",
      "INFO - 2020-11-22 08:06:55,662 - connection - Transaction committed and closed.\n",
      "INFO - 2020-11-22 08:06:55,684 - connection - Transaction started\n",
      "INFO - 2020-11-22 08:06:55,686 - autopopulate - Populating: {'segment_id': 864691135933585570, 'decimation_version': 0, 'decimation_ratio': Decimal('0.25'), 'soma_index': 0}\n",
      "INFO - 2020-11-22 08:06:55,723 - connection - Transaction committed and closed.\n",
      "INFO - 2020-11-22 08:06:55,758 - connection - Transaction started\n",
      "INFO - 2020-11-22 08:06:55,759 - autopopulate - Populating: {'segment_id': 864691135933621656, 'decimation_version': 0, 'decimation_ratio': Decimal('0.25'), 'soma_index': 0}\n",
      "INFO - 2020-11-22 08:06:55,785 - connection - Transaction committed and closed.\n",
      "INFO - 2020-11-22 08:06:55,820 - connection - Transaction started\n",
      "INFO - 2020-11-22 08:06:55,822 - autopopulate - Populating: {'segment_id': 864691135934013455, 'decimation_version': 0, 'decimation_ratio': Decimal('0.25'), 'soma_index': 1}\n"
     ]
    },
    {
     "name": "stdout",
     "output_type": "stream",
     "text": [
      "\n",
      "\n",
      "\n",
      "---- Working on 864691135933454689, soma idx 0 ----\n",
      "\n",
      "\n",
      "\n",
      "---- Working on 864691135933585570, soma idx 0 ----\n",
      "\n",
      "\n",
      "\n",
      "---- Working on 864691135933621656, soma idx 0 ----\n",
      "\n",
      "\n",
      "\n",
      "---- Working on 864691135934013455, soma idx 1 ----\n"
     ]
    },
    {
     "name": "stderr",
     "output_type": "stream",
     "text": [
      "INFO - 2020-11-22 08:06:55,880 - connection - Transaction committed and closed.\n",
      "INFO - 2020-11-22 08:06:55,916 - connection - Transaction started\n",
      "INFO - 2020-11-22 08:06:55,917 - autopopulate - Populating: {'segment_id': 864691135934169953, 'decimation_version': 0, 'decimation_ratio': Decimal('0.25'), 'soma_index': 1}\n",
      "INFO - 2020-11-22 08:06:56,004 - connection - Transaction committed and closed.\n",
      "INFO - 2020-11-22 08:06:56,043 - connection - Transaction started\n",
      "INFO - 2020-11-22 08:06:56,046 - connection - Transaction cancelled. Rolling back ...\n",
      "INFO - 2020-11-22 08:06:56,109 - connection - Transaction started\n",
      "INFO - 2020-11-22 08:06:56,111 - autopopulate - Populating: {'segment_id': 864691135934443361, 'decimation_version': 0, 'decimation_ratio': Decimal('0.25'), 'soma_index': 1}\n"
     ]
    },
    {
     "name": "stdout",
     "output_type": "stream",
     "text": [
      "\n",
      "\n",
      "\n",
      "---- Working on 864691135934169953, soma idx 1 ----\n",
      "\n",
      "\n",
      "\n",
      "---- Working on 864691135934443361, soma idx 1 ----\n"
     ]
    },
    {
     "name": "stderr",
     "output_type": "stream",
     "text": [
      "INFO - 2020-11-22 08:06:56,206 - connection - Transaction committed and closed.\n",
      "INFO - 2020-11-22 08:06:56,230 - connection - Transaction started\n",
      "INFO - 2020-11-22 08:06:56,232 - autopopulate - Populating: {'segment_id': 864691135934598147, 'decimation_version': 0, 'decimation_ratio': Decimal('0.25'), 'soma_index': 0}\n",
      "INFO - 2020-11-22 08:06:56,254 - connection - Transaction committed and closed.\n",
      "INFO - 2020-11-22 08:06:56,286 - connection - Transaction started\n",
      "INFO - 2020-11-22 08:06:56,288 - autopopulate - Populating: {'segment_id': 864691135934962273, 'decimation_version': 0, 'decimation_ratio': Decimal('0.25'), 'soma_index': 0}\n",
      "INFO - 2020-11-22 08:06:56,314 - connection - Transaction committed and closed.\n",
      "INFO - 2020-11-22 08:06:56,377 - connection - Transaction started\n",
      "INFO - 2020-11-22 08:06:56,379 - autopopulate - Populating: {'segment_id': 864691135935006305, 'decimation_version': 0, 'decimation_ratio': Decimal('0.25'), 'soma_index': 1}\n"
     ]
    },
    {
     "name": "stdout",
     "output_type": "stream",
     "text": [
      "\n",
      "\n",
      "\n",
      "---- Working on 864691135934598147, soma idx 0 ----\n",
      "\n",
      "\n",
      "\n",
      "---- Working on 864691135934962273, soma idx 0 ----\n",
      "\n",
      "\n",
      "\n",
      "---- Working on 864691135935006305, soma idx 1 ----\n"
     ]
    },
    {
     "name": "stderr",
     "output_type": "stream",
     "text": [
      "INFO - 2020-11-22 08:06:56,484 - connection - Transaction committed and closed.\n",
      "INFO - 2020-11-22 08:06:56,517 - connection - Transaction started\n",
      "INFO - 2020-11-22 08:06:56,519 - connection - Transaction cancelled. Rolling back ...\n",
      "INFO - 2020-11-22 08:06:56,574 - connection - Transaction started\n",
      "INFO - 2020-11-22 08:06:56,577 - connection - Transaction cancelled. Rolling back ...\n",
      "INFO - 2020-11-22 08:06:56,608 - connection - Transaction started\n",
      "INFO - 2020-11-22 08:06:56,610 - connection - Transaction cancelled. Rolling back ...\n",
      "INFO - 2020-11-22 08:06:56,653 - connection - Transaction started\n",
      "INFO - 2020-11-22 08:06:56,655 - connection - Transaction cancelled. Rolling back ...\n",
      "INFO - 2020-11-22 08:06:56,678 - connection - Transaction started\n",
      "INFO - 2020-11-22 08:06:56,680 - autopopulate - Populating: {'segment_id': 864691135935348833, 'decimation_version': 0, 'decimation_ratio': Decimal('0.25'), 'soma_index': 1}\n",
      "INFO - 2020-11-22 08:06:56,766 - connection - Transaction committed and closed.\n",
      "INFO - 2020-11-22 08:06:56,799 - connection - Transaction started\n",
      "INFO - 2020-11-22 08:06:56,801 - autopopulate - Populating: {'segment_id': 864691135935458401, 'decimation_version': 0, 'decimation_ratio': Decimal('0.25'), 'soma_index': 2}\n",
      "INFO - 2020-11-22 08:06:56,873 - connection - Transaction committed and closed.\n"
     ]
    },
    {
     "name": "stdout",
     "output_type": "stream",
     "text": [
      "\n",
      "\n",
      "\n",
      "---- Working on 864691135935348833, soma idx 1 ----\n",
      "\n",
      "\n",
      "\n",
      "---- Working on 864691135935458401, soma idx 2 ----\n"
     ]
    },
    {
     "name": "stderr",
     "output_type": "stream",
     "text": [
      "INFO - 2020-11-22 08:06:56,921 - connection - Transaction started\n",
      "INFO - 2020-11-22 08:06:56,923 - autopopulate - Populating: {'segment_id': 864691135935467779, 'decimation_version': 0, 'decimation_ratio': Decimal('0.25'), 'soma_index': 2}\n",
      "INFO - 2020-11-22 08:06:57,108 - connection - Transaction committed and closed.\n"
     ]
    },
    {
     "name": "stdout",
     "output_type": "stream",
     "text": [
      "\n",
      "\n",
      "\n",
      "---- Working on 864691135935467779, soma idx 2 ----\n"
     ]
    },
    {
     "name": "stderr",
     "output_type": "stream",
     "text": [
      "INFO - 2020-11-22 08:06:57,140 - connection - Transaction started\n",
      "INFO - 2020-11-22 08:06:57,143 - autopopulate - Populating: {'segment_id': 864691135935583448, 'decimation_version': 0, 'decimation_ratio': Decimal('0.25'), 'soma_index': 0}\n",
      "INFO - 2020-11-22 08:06:57,168 - connection - Transaction committed and closed.\n",
      "INFO - 2020-11-22 08:06:57,209 - connection - Transaction started\n",
      "INFO - 2020-11-22 08:06:57,211 - autopopulate - Populating: {'segment_id': 864691135935655009, 'decimation_version': 0, 'decimation_ratio': Decimal('0.25'), 'soma_index': 1}\n",
      "INFO - 2020-11-22 08:06:57,289 - connection - Transaction committed and closed.\n",
      "INFO - 2020-11-22 08:06:57,336 - connection - Transaction started\n",
      "INFO - 2020-11-22 08:06:57,338 - connection - Transaction cancelled. Rolling back ...\n"
     ]
    },
    {
     "name": "stdout",
     "output_type": "stream",
     "text": [
      "\n",
      "\n",
      "\n",
      "---- Working on 864691135935583448, soma idx 0 ----\n",
      "\n",
      "\n",
      "\n",
      "---- Working on 864691135935655009, soma idx 1 ----\n"
     ]
    },
    {
     "name": "stderr",
     "output_type": "stream",
     "text": [
      "INFO - 2020-11-22 08:06:57,360 - connection - Transaction started\n",
      "INFO - 2020-11-22 08:06:57,362 - connection - Transaction cancelled. Rolling back ...\n",
      "INFO - 2020-11-22 08:06:57,405 - connection - Transaction started\n",
      "INFO - 2020-11-22 08:06:57,406 - autopopulate - Populating: {'segment_id': 864691135936264195, 'decimation_version': 0, 'decimation_ratio': Decimal('0.25'), 'soma_index': 1}\n",
      "INFO - 2020-11-22 08:06:57,558 - connection - Transaction committed and closed.\n",
      "INFO - 2020-11-22 08:06:57,589 - connection - Transaction started\n",
      "INFO - 2020-11-22 08:06:57,590 - connection - Transaction cancelled. Rolling back ...\n"
     ]
    },
    {
     "name": "stdout",
     "output_type": "stream",
     "text": [
      "\n",
      "\n",
      "\n",
      "---- Working on 864691135936264195, soma idx 1 ----\n"
     ]
    },
    {
     "name": "stderr",
     "output_type": "stream",
     "text": [
      "INFO - 2020-11-22 08:06:57,631 - connection - Transaction started\n",
      "INFO - 2020-11-22 08:06:57,633 - connection - Transaction cancelled. Rolling back ...\n",
      "INFO - 2020-11-22 08:06:57,673 - connection - Transaction started\n",
      "INFO - 2020-11-22 08:06:57,675 - connection - Transaction cancelled. Rolling back ...\n",
      "INFO - 2020-11-22 08:06:57,709 - connection - Transaction started\n",
      "INFO - 2020-11-22 08:06:57,711 - connection - Transaction cancelled. Rolling back ...\n",
      "INFO - 2020-11-22 08:06:57,744 - connection - Transaction started\n",
      "INFO - 2020-11-22 08:06:57,746 - autopopulate - Populating: {'segment_id': 864691135936631649, 'decimation_version': 0, 'decimation_ratio': Decimal('0.25'), 'soma_index': 0}\n",
      "INFO - 2020-11-22 08:06:57,778 - connection - Transaction committed and closed.\n",
      "INFO - 2020-11-22 08:06:57,814 - connection - Transaction started\n",
      "INFO - 2020-11-22 08:06:57,817 - autopopulate - Populating: {'segment_id': 864691135936692065, 'decimation_version': 0, 'decimation_ratio': Decimal('0.25'), 'soma_index': 0}\n",
      "INFO - 2020-11-22 08:06:57,845 - connection - Transaction committed and closed.\n",
      "INFO - 2020-11-22 08:06:57,877 - connection - Transaction started\n",
      "INFO - 2020-11-22 08:06:57,880 - autopopulate - Populating: {'segment_id': 864691135936750488, 'decimation_version': 0, 'decimation_ratio': Decimal('0.25'), 'soma_index': 1}\n"
     ]
    },
    {
     "name": "stdout",
     "output_type": "stream",
     "text": [
      "\n",
      "\n",
      "\n",
      "---- Working on 864691135936631649, soma idx 0 ----\n",
      "\n",
      "\n",
      "\n",
      "---- Working on 864691135936692065, soma idx 0 ----\n",
      "\n",
      "\n",
      "\n",
      "---- Working on 864691135936750488, soma idx 1 ----\n"
     ]
    },
    {
     "name": "stderr",
     "output_type": "stream",
     "text": [
      "INFO - 2020-11-22 08:06:58,168 - connection - Transaction committed and closed.\n",
      "INFO - 2020-11-22 08:06:58,189 - connection - Transaction started\n",
      "INFO - 2020-11-22 08:06:58,191 - connection - Transaction cancelled. Rolling back ...\n",
      "INFO - 2020-11-22 08:06:58,213 - connection - Transaction started\n",
      "INFO - 2020-11-22 08:06:58,215 - connection - Transaction cancelled. Rolling back ...\n",
      "INFO - 2020-11-22 08:06:58,242 - connection - Transaction started\n",
      "INFO - 2020-11-22 08:06:58,244 - autopopulate - Populating: {'segment_id': 864691135937054979, 'decimation_version': 0, 'decimation_ratio': Decimal('0.25'), 'soma_index': 0}\n",
      "INFO - 2020-11-22 08:06:58,288 - connection - Transaction committed and closed.\n",
      "INFO - 2020-11-22 08:06:58,312 - connection - Transaction started\n",
      "INFO - 2020-11-22 08:06:58,315 - autopopulate - Populating: {'segment_id': 864691135937142788, 'decimation_version': 0, 'decimation_ratio': Decimal('0.25'), 'soma_index': 1}\n",
      "INFO - 2020-11-22 08:06:58,375 - connection - Transaction committed and closed.\n",
      "INFO - 2020-11-22 08:06:58,411 - connection - Transaction started\n",
      "INFO - 2020-11-22 08:06:58,414 - autopopulate - Populating: {'segment_id': 864691135937143044, 'decimation_version': 0, 'decimation_ratio': Decimal('0.25'), 'soma_index': 0}\n"
     ]
    },
    {
     "name": "stdout",
     "output_type": "stream",
     "text": [
      "\n",
      "\n",
      "\n",
      "---- Working on 864691135937054979, soma idx 0 ----\n",
      "\n",
      "\n",
      "\n",
      "---- Working on 864691135937142788, soma idx 1 ----\n",
      "\n",
      "\n",
      "\n",
      "---- Working on 864691135937143044, soma idx 0 ----\n"
     ]
    },
    {
     "name": "stderr",
     "output_type": "stream",
     "text": [
      "INFO - 2020-11-22 08:06:58,449 - connection - Transaction committed and closed.\n",
      "INFO - 2020-11-22 08:06:58,484 - connection - Transaction started\n",
      "INFO - 2020-11-22 08:06:58,487 - autopopulate - Populating: {'segment_id': 864691135937143556, 'decimation_version': 0, 'decimation_ratio': Decimal('0.25'), 'soma_index': 0}\n",
      "INFO - 2020-11-22 08:06:58,524 - connection - Transaction committed and closed.\n",
      "INFO - 2020-11-22 08:06:58,571 - connection - Transaction started\n",
      "INFO - 2020-11-22 08:06:58,573 - autopopulate - Populating: {'segment_id': 864691135937143812, 'decimation_version': 0, 'decimation_ratio': Decimal('0.25'), 'soma_index': 0}\n",
      "INFO - 2020-11-22 08:06:58,605 - connection - Transaction committed and closed.\n",
      "INFO - 2020-11-22 08:06:58,666 - connection - Transaction started\n",
      "INFO - 2020-11-22 08:06:58,668 - connection - Transaction cancelled. Rolling back ...\n"
     ]
    },
    {
     "name": "stdout",
     "output_type": "stream",
     "text": [
      "\n",
      "\n",
      "\n",
      "---- Working on 864691135937143556, soma idx 0 ----\n",
      "\n",
      "\n",
      "\n",
      "---- Working on 864691135937143812, soma idx 0 ----\n"
     ]
    },
    {
     "name": "stderr",
     "output_type": "stream",
     "text": [
      "INFO - 2020-11-22 08:06:58,709 - connection - Transaction started\n",
      "INFO - 2020-11-22 08:06:58,711 - autopopulate - Populating: {'segment_id': 864691135937144580, 'decimation_version': 0, 'decimation_ratio': Decimal('0.25'), 'soma_index': 1}\n",
      "INFO - 2020-11-22 08:06:58,759 - connection - Transaction committed and closed.\n",
      "INFO - 2020-11-22 08:06:58,796 - connection - Transaction started\n",
      "INFO - 2020-11-22 08:06:58,798 - autopopulate - Populating: {'segment_id': 864691135937145604, 'decimation_version': 0, 'decimation_ratio': Decimal('0.25'), 'soma_index': 1}\n"
     ]
    },
    {
     "name": "stdout",
     "output_type": "stream",
     "text": [
      "\n",
      "\n",
      "\n",
      "---- Working on 864691135937144580, soma idx 1 ----\n",
      "\n",
      "\n",
      "\n",
      "---- Working on 864691135937145604, soma idx 1 ----\n"
     ]
    },
    {
     "name": "stderr",
     "output_type": "stream",
     "text": [
      "INFO - 2020-11-22 08:06:58,928 - connection - Transaction committed and closed.\n",
      "INFO - 2020-11-22 08:06:58,967 - connection - Transaction started\n",
      "INFO - 2020-11-22 08:06:58,969 - connection - Transaction cancelled. Rolling back ...\n",
      "INFO - 2020-11-22 08:06:59,023 - connection - Transaction started\n",
      "INFO - 2020-11-22 08:06:59,025 - autopopulate - Populating: {'segment_id': 864691135937147908, 'decimation_version': 0, 'decimation_ratio': Decimal('0.25'), 'soma_index': 0}\n",
      "INFO - 2020-11-22 08:06:59,060 - connection - Transaction committed and closed.\n",
      "INFO - 2020-11-22 08:06:59,103 - connection - Transaction started\n",
      "INFO - 2020-11-22 08:06:59,105 - autopopulate - Populating: {'segment_id': 864691135937148676, 'decimation_version': 0, 'decimation_ratio': Decimal('0.25'), 'soma_index': 1}\n",
      "INFO - 2020-11-22 08:06:59,165 - connection - Transaction committed and closed.\n",
      "INFO - 2020-11-22 08:06:59,189 - connection - Transaction started\n",
      "INFO - 2020-11-22 08:06:59,191 - autopopulate - Populating: {'segment_id': 864691135937149188, 'decimation_version': 0, 'decimation_ratio': Decimal('0.25'), 'soma_index': 0}\n"
     ]
    },
    {
     "name": "stdout",
     "output_type": "stream",
     "text": [
      "\n",
      "\n",
      "\n",
      "---- Working on 864691135937147908, soma idx 0 ----\n",
      "\n",
      "\n",
      "\n",
      "---- Working on 864691135937148676, soma idx 1 ----\n",
      "\n",
      "\n",
      "\n",
      "---- Working on 864691135937149188, soma idx 0 ----\n"
     ]
    },
    {
     "name": "stderr",
     "output_type": "stream",
     "text": [
      "INFO - 2020-11-22 08:06:59,228 - connection - Transaction committed and closed.\n",
      "INFO - 2020-11-22 08:06:59,269 - connection - Transaction started\n",
      "INFO - 2020-11-22 08:06:59,271 - autopopulate - Populating: {'segment_id': 864691135937149700, 'decimation_version': 0, 'decimation_ratio': Decimal('0.25'), 'soma_index': 1}\n"
     ]
    },
    {
     "name": "stdout",
     "output_type": "stream",
     "text": [
      "\n",
      "\n",
      "\n",
      "---- Working on 864691135937149700, soma idx 1 ----\n"
     ]
    },
    {
     "name": "stderr",
     "output_type": "stream",
     "text": [
      "INFO - 2020-11-22 08:06:59,523 - connection - Transaction committed and closed.\n",
      "INFO - 2020-11-22 08:06:59,556 - connection - Transaction started\n",
      "INFO - 2020-11-22 08:06:59,558 - connection - Transaction cancelled. Rolling back ...\n",
      "INFO - 2020-11-22 08:06:59,606 - connection - Transaction started\n",
      "INFO - 2020-11-22 08:06:59,608 - connection - Transaction cancelled. Rolling back ...\n",
      "INFO - 2020-11-22 08:06:59,640 - connection - Transaction started\n",
      "INFO - 2020-11-22 08:06:59,643 - connection - Transaction cancelled. Rolling back ...\n",
      "INFO - 2020-11-22 08:06:59,677 - connection - Transaction started\n",
      "INFO - 2020-11-22 08:06:59,680 - connection - Transaction cancelled. Rolling back ...\n",
      "INFO - 2020-11-22 08:06:59,717 - connection - Transaction started\n",
      "INFO - 2020-11-22 08:06:59,719 - connection - Transaction cancelled. Rolling back ...\n",
      "INFO - 2020-11-22 08:06:59,766 - connection - Transaction started\n",
      "INFO - 2020-11-22 08:06:59,769 - connection - Transaction cancelled. Rolling back ...\n",
      "INFO - 2020-11-22 08:06:59,792 - connection - Transaction started\n",
      "INFO - 2020-11-22 08:06:59,795 - connection - Transaction cancelled. Rolling back ...\n",
      "INFO - 2020-11-22 08:06:59,838 - connection - Transaction started\n",
      "INFO - 2020-11-22 08:06:59,840 - connection - Transaction cancelled. Rolling back ...\n",
      "INFO - 2020-11-22 08:06:59,887 - connection - Transaction started\n",
      "INFO - 2020-11-22 08:06:59,890 - connection - Transaction cancelled. Rolling back ...\n",
      "INFO - 2020-11-22 08:06:59,933 - connection - Transaction started\n",
      "INFO - 2020-11-22 08:06:59,935 - connection - Transaction cancelled. Rolling back ...\n",
      "INFO - 2020-11-22 08:06:59,974 - connection - Transaction started\n",
      "INFO - 2020-11-22 08:06:59,975 - connection - Transaction cancelled. Rolling back ...\n",
      "INFO - 2020-11-22 08:07:00,021 - connection - Transaction started\n",
      "INFO - 2020-11-22 08:07:00,023 - connection - Transaction cancelled. Rolling back ...\n",
      "INFO - 2020-11-22 08:07:00,060 - connection - Transaction started\n",
      "INFO - 2020-11-22 08:07:00,062 - connection - Transaction cancelled. Rolling back ...\n",
      "INFO - 2020-11-22 08:07:00,092 - connection - Transaction started\n",
      "INFO - 2020-11-22 08:07:00,095 - connection - Transaction cancelled. Rolling back ...\n",
      "INFO - 2020-11-22 08:07:00,144 - connection - Transaction started\n",
      "INFO - 2020-11-22 08:07:00,147 - connection - Transaction cancelled. Rolling back ...\n",
      "INFO - 2020-11-22 08:07:00,190 - connection - Transaction started\n",
      "INFO - 2020-11-22 08:07:00,193 - connection - Transaction cancelled. Rolling back ...\n",
      "INFO - 2020-11-22 08:07:00,228 - connection - Transaction started\n",
      "INFO - 2020-11-22 08:07:00,229 - autopopulate - Populating: {'segment_id': 864691135937155588, 'decimation_version': 0, 'decimation_ratio': Decimal('0.25'), 'soma_index': 1}\n",
      "INFO - 2020-11-22 08:07:00,338 - connection - Transaction committed and closed.\n",
      "INFO - 2020-11-22 08:07:00,387 - connection - Transaction started\n",
      "INFO - 2020-11-22 08:07:00,390 - connection - Transaction cancelled. Rolling back ...\n",
      "INFO - 2020-11-22 08:07:00,413 - connection - Transaction started\n",
      "INFO - 2020-11-22 08:07:00,417 - connection - Transaction cancelled. Rolling back ...\n"
     ]
    },
    {
     "name": "stdout",
     "output_type": "stream",
     "text": [
      "\n",
      "\n",
      "\n",
      "---- Working on 864691135937155588, soma idx 1 ----\n"
     ]
    },
    {
     "name": "stderr",
     "output_type": "stream",
     "text": [
      "INFO - 2020-11-22 08:07:00,457 - connection - Transaction started\n",
      "INFO - 2020-11-22 08:07:00,460 - autopopulate - Populating: {'segment_id': 864691135937156612, 'decimation_version': 0, 'decimation_ratio': Decimal('0.25'), 'soma_index': 1}\n",
      "INFO - 2020-11-22 08:07:00,616 - connection - Transaction committed and closed.\n",
      "INFO - 2020-11-22 08:07:00,649 - connection - Transaction started\n",
      "INFO - 2020-11-22 08:07:00,651 - autopopulate - Populating: {'segment_id': 864691135937157636, 'decimation_version': 0, 'decimation_ratio': Decimal('0.25'), 'soma_index': 0}\n"
     ]
    },
    {
     "name": "stdout",
     "output_type": "stream",
     "text": [
      "\n",
      "\n",
      "\n",
      "---- Working on 864691135937156612, soma idx 1 ----\n",
      "\n",
      "\n",
      "\n",
      "---- Working on 864691135937157636, soma idx 0 ----\n"
     ]
    },
    {
     "name": "stderr",
     "output_type": "stream",
     "text": [
      "INFO - 2020-11-22 08:07:00,687 - connection - Transaction committed and closed.\n",
      "INFO - 2020-11-22 08:07:00,724 - connection - Transaction started\n",
      "INFO - 2020-11-22 08:07:00,725 - autopopulate - Populating: {'segment_id': 864691135937158148, 'decimation_version': 0, 'decimation_ratio': Decimal('0.25'), 'soma_index': 1}\n",
      "INFO - 2020-11-22 08:07:00,778 - connection - Transaction committed and closed.\n",
      "INFO - 2020-11-22 08:07:00,807 - connection - Transaction started\n",
      "INFO - 2020-11-22 08:07:00,809 - autopopulate - Populating: {'segment_id': 864691135937158916, 'decimation_version': 0, 'decimation_ratio': Decimal('0.25'), 'soma_index': 1}\n"
     ]
    },
    {
     "name": "stdout",
     "output_type": "stream",
     "text": [
      "\n",
      "\n",
      "\n",
      "---- Working on 864691135937158148, soma idx 1 ----\n",
      "\n",
      "\n",
      "\n",
      "---- Working on 864691135937158916, soma idx 1 ----\n"
     ]
    },
    {
     "name": "stderr",
     "output_type": "stream",
     "text": [
      "INFO - 2020-11-22 08:07:01,000 - connection - Transaction committed and closed.\n",
      "INFO - 2020-11-22 08:07:01,044 - connection - Transaction started\n",
      "INFO - 2020-11-22 08:07:01,046 - connection - Transaction cancelled. Rolling back ...\n",
      "INFO - 2020-11-22 08:07:01,082 - connection - Transaction started\n",
      "INFO - 2020-11-22 08:07:01,084 - autopopulate - Populating: {'segment_id': 864691135937159940, 'decimation_version': 0, 'decimation_ratio': Decimal('0.25'), 'soma_index': 0}\n",
      "INFO - 2020-11-22 08:07:01,112 - connection - Transaction committed and closed.\n",
      "INFO - 2020-11-22 08:07:01,144 - connection - Transaction started\n",
      "INFO - 2020-11-22 08:07:01,146 - autopopulate - Populating: {'segment_id': 864691135937160708, 'decimation_version': 0, 'decimation_ratio': Decimal('0.25'), 'soma_index': 0}\n",
      "INFO - 2020-11-22 08:07:01,173 - connection - Transaction committed and closed.\n",
      "INFO - 2020-11-22 08:07:01,204 - connection - Transaction started\n",
      "INFO - 2020-11-22 08:07:01,206 - autopopulate - Populating: {'segment_id': 864691135937161220, 'decimation_version': 0, 'decimation_ratio': Decimal('0.25'), 'soma_index': 1}\n"
     ]
    },
    {
     "name": "stdout",
     "output_type": "stream",
     "text": [
      "\n",
      "\n",
      "\n",
      "---- Working on 864691135937159940, soma idx 0 ----\n",
      "\n",
      "\n",
      "\n",
      "---- Working on 864691135937160708, soma idx 0 ----\n",
      "\n",
      "\n",
      "\n",
      "---- Working on 864691135937161220, soma idx 1 ----\n"
     ]
    },
    {
     "name": "stderr",
     "output_type": "stream",
     "text": [
      "INFO - 2020-11-22 08:07:01,324 - connection - Transaction committed and closed.\n",
      "INFO - 2020-11-22 08:07:01,368 - connection - Transaction started\n",
      "INFO - 2020-11-22 08:07:01,370 - autopopulate - Populating: {'segment_id': 864691135937161732, 'decimation_version': 0, 'decimation_ratio': Decimal('0.25'), 'soma_index': 1}\n",
      "INFO - 2020-11-22 08:07:01,491 - connection - Transaction committed and closed.\n",
      "INFO - 2020-11-22 08:07:01,523 - connection - Transaction started\n",
      "INFO - 2020-11-22 08:07:01,524 - connection - Transaction cancelled. Rolling back ...\n",
      "INFO - 2020-11-22 08:07:01,568 - connection - Transaction started\n",
      "INFO - 2020-11-22 08:07:01,569 - connection - Transaction cancelled. Rolling back ...\n"
     ]
    },
    {
     "name": "stdout",
     "output_type": "stream",
     "text": [
      "\n",
      "\n",
      "\n",
      "---- Working on 864691135937161732, soma idx 1 ----\n"
     ]
    },
    {
     "name": "stderr",
     "output_type": "stream",
     "text": [
      "INFO - 2020-11-22 08:07:01,604 - connection - Transaction started\n",
      "INFO - 2020-11-22 08:07:01,606 - autopopulate - Populating: {'segment_id': 864691135937163268, 'decimation_version': 0, 'decimation_ratio': Decimal('0.25'), 'soma_index': 1}\n",
      "INFO - 2020-11-22 08:07:01,673 - connection - Transaction committed and closed.\n",
      "INFO - 2020-11-22 08:07:01,715 - connection - Transaction started\n",
      "INFO - 2020-11-22 08:07:01,717 - autopopulate - Populating: {'segment_id': 864691135937164036, 'decimation_version': 0, 'decimation_ratio': Decimal('0.25'), 'soma_index': 0}\n",
      "INFO - 2020-11-22 08:07:01,746 - connection - Transaction committed and closed.\n",
      "INFO - 2020-11-22 08:07:01,782 - connection - Transaction started\n",
      "INFO - 2020-11-22 08:07:01,785 - autopopulate - Populating: {'segment_id': 864691135937164548, 'decimation_version': 0, 'decimation_ratio': Decimal('0.25'), 'soma_index': 0}\n"
     ]
    },
    {
     "name": "stdout",
     "output_type": "stream",
     "text": [
      "\n",
      "\n",
      "\n",
      "---- Working on 864691135937163268, soma idx 1 ----\n",
      "\n",
      "\n",
      "\n",
      "---- Working on 864691135937164036, soma idx 0 ----\n",
      "\n",
      "\n",
      "\n",
      "---- Working on 864691135937164548, soma idx 0 ----\n"
     ]
    },
    {
     "name": "stderr",
     "output_type": "stream",
     "text": [
      "INFO - 2020-11-22 08:07:01,808 - connection - Transaction committed and closed.\n",
      "INFO - 2020-11-22 08:07:01,831 - connection - Transaction started\n",
      "INFO - 2020-11-22 08:07:01,833 - autopopulate - Populating: {'segment_id': 864691135937164804, 'decimation_version': 0, 'decimation_ratio': Decimal('0.25'), 'soma_index': 0}\n",
      "INFO - 2020-11-22 08:07:01,870 - connection - Transaction committed and closed.\n",
      "INFO - 2020-11-22 08:07:01,905 - connection - Transaction started\n",
      "INFO - 2020-11-22 08:07:01,908 - autopopulate - Populating: {'segment_id': 864691135937165060, 'decimation_version': 0, 'decimation_ratio': Decimal('0.25'), 'soma_index': 1}\n",
      "INFO - 2020-11-22 08:07:01,985 - connection - Transaction committed and closed.\n"
     ]
    },
    {
     "name": "stdout",
     "output_type": "stream",
     "text": [
      "\n",
      "\n",
      "\n",
      "---- Working on 864691135937164804, soma idx 0 ----\n",
      "\n",
      "\n",
      "\n",
      "---- Working on 864691135937165060, soma idx 1 ----\n"
     ]
    },
    {
     "name": "stderr",
     "output_type": "stream",
     "text": [
      "INFO - 2020-11-22 08:07:02,041 - connection - Transaction started\n",
      "INFO - 2020-11-22 08:07:02,043 - autopopulate - Populating: {'segment_id': 864691135937165572, 'decimation_version': 0, 'decimation_ratio': Decimal('0.25'), 'soma_index': 1}\n",
      "INFO - 2020-11-22 08:07:02,225 - connection - Transaction committed and closed.\n"
     ]
    },
    {
     "name": "stdout",
     "output_type": "stream",
     "text": [
      "\n",
      "\n",
      "\n",
      "---- Working on 864691135937165572, soma idx 1 ----\n"
     ]
    },
    {
     "name": "stderr",
     "output_type": "stream",
     "text": [
      "INFO - 2020-11-22 08:07:02,270 - connection - Transaction started\n",
      "INFO - 2020-11-22 08:07:02,271 - connection - Transaction cancelled. Rolling back ...\n",
      "INFO - 2020-11-22 08:07:02,331 - connection - Transaction started\n",
      "INFO - 2020-11-22 08:07:02,333 - connection - Transaction cancelled. Rolling back ...\n",
      "INFO - 2020-11-22 08:07:02,370 - connection - Transaction started\n",
      "INFO - 2020-11-22 08:07:02,372 - connection - Transaction cancelled. Rolling back ...\n",
      "INFO - 2020-11-22 08:07:02,394 - connection - Transaction started\n",
      "INFO - 2020-11-22 08:07:02,396 - autopopulate - Populating: {'segment_id': 864691135937167108, 'decimation_version': 0, 'decimation_ratio': Decimal('0.25'), 'soma_index': 0}\n",
      "INFO - 2020-11-22 08:07:02,426 - connection - Transaction committed and closed.\n",
      "INFO - 2020-11-22 08:07:02,449 - connection - Transaction started\n",
      "INFO - 2020-11-22 08:07:02,451 - autopopulate - Populating: {'segment_id': 864691135937167620, 'decimation_version': 0, 'decimation_ratio': Decimal('0.25'), 'soma_index': 0}\n",
      "INFO - 2020-11-22 08:07:02,483 - connection - Transaction committed and closed.\n",
      "INFO - 2020-11-22 08:07:02,519 - connection - Transaction started\n",
      "INFO - 2020-11-22 08:07:02,524 - autopopulate - Populating: {'segment_id': 864691135937167876, 'decimation_version': 0, 'decimation_ratio': Decimal('0.25'), 'soma_index': 0}\n",
      "INFO - 2020-11-22 08:07:02,564 - connection - Transaction committed and closed.\n",
      "INFO - 2020-11-22 08:07:02,595 - connection - Transaction started\n"
     ]
    },
    {
     "name": "stdout",
     "output_type": "stream",
     "text": [
      "\n",
      "\n",
      "\n",
      "---- Working on 864691135937167108, soma idx 0 ----\n",
      "\n",
      "\n",
      "\n",
      "---- Working on 864691135937167620, soma idx 0 ----\n",
      "\n",
      "\n",
      "\n",
      "---- Working on 864691135937167876, soma idx 0 ----\n"
     ]
    },
    {
     "name": "stderr",
     "output_type": "stream",
     "text": [
      "INFO - 2020-11-22 08:07:02,598 - autopopulate - Populating: {'segment_id': 864691135937168388, 'decimation_version': 0, 'decimation_ratio': Decimal('0.25'), 'soma_index': 0}\n",
      "INFO - 2020-11-22 08:07:02,639 - connection - Transaction committed and closed.\n",
      "INFO - 2020-11-22 08:07:02,671 - connection - Transaction started\n",
      "INFO - 2020-11-22 08:07:02,672 - autopopulate - Populating: {'segment_id': 864691135937168900, 'decimation_version': 0, 'decimation_ratio': Decimal('0.25'), 'soma_index': 0}\n",
      "INFO - 2020-11-22 08:07:02,704 - connection - Transaction committed and closed.\n",
      "INFO - 2020-11-22 08:07:02,762 - connection - Transaction started\n",
      "INFO - 2020-11-22 08:07:02,765 - autopopulate - Populating: {'segment_id': 864691135937169924, 'decimation_version': 0, 'decimation_ratio': Decimal('0.25'), 'soma_index': 0}\n",
      "INFO - 2020-11-22 08:07:02,798 - connection - Transaction committed and closed.\n"
     ]
    },
    {
     "name": "stdout",
     "output_type": "stream",
     "text": [
      "\n",
      "\n",
      "\n",
      "---- Working on 864691135937168388, soma idx 0 ----\n",
      "\n",
      "\n",
      "\n",
      "---- Working on 864691135937168900, soma idx 0 ----\n",
      "\n",
      "\n",
      "\n",
      "---- Working on 864691135937169924, soma idx 0 ----\n"
     ]
    },
    {
     "name": "stderr",
     "output_type": "stream",
     "text": [
      "INFO - 2020-11-22 08:07:02,830 - connection - Transaction started\n",
      "INFO - 2020-11-22 08:07:02,832 - autopopulate - Populating: {'segment_id': 864691135937170436, 'decimation_version': 0, 'decimation_ratio': Decimal('0.25'), 'soma_index': 0}\n",
      "INFO - 2020-11-22 08:07:02,870 - connection - Transaction committed and closed.\n",
      "INFO - 2020-11-22 08:07:02,913 - connection - Transaction started\n",
      "INFO - 2020-11-22 08:07:02,915 - autopopulate - Populating: {'segment_id': 864691135937170948, 'decimation_version': 0, 'decimation_ratio': Decimal('0.25'), 'soma_index': 1}\n"
     ]
    },
    {
     "name": "stdout",
     "output_type": "stream",
     "text": [
      "\n",
      "\n",
      "\n",
      "---- Working on 864691135937170436, soma idx 0 ----\n",
      "\n",
      "\n",
      "\n",
      "---- Working on 864691135937170948, soma idx 1 ----\n"
     ]
    },
    {
     "name": "stderr",
     "output_type": "stream",
     "text": [
      "INFO - 2020-11-22 08:07:03,068 - connection - Transaction committed and closed.\n",
      "INFO - 2020-11-22 08:07:03,110 - connection - Transaction started\n",
      "INFO - 2020-11-22 08:07:03,112 - connection - Transaction cancelled. Rolling back ...\n",
      "INFO - 2020-11-22 08:07:03,149 - connection - Transaction started\n",
      "INFO - 2020-11-22 08:07:03,151 - connection - Transaction cancelled. Rolling back ...\n",
      "INFO - 2020-11-22 08:07:03,206 - connection - Transaction started\n",
      "INFO - 2020-11-22 08:07:03,209 - connection - Transaction cancelled. Rolling back ...\n",
      "INFO - 2020-11-22 08:07:03,246 - connection - Transaction started\n",
      "INFO - 2020-11-22 08:07:03,248 - connection - Transaction cancelled. Rolling back ...\n",
      "INFO - 2020-11-22 08:07:03,282 - connection - Transaction started\n",
      "INFO - 2020-11-22 08:07:03,283 - autopopulate - Populating: {'segment_id': 864691135937172740, 'decimation_version': 0, 'decimation_ratio': Decimal('0.25'), 'soma_index': 0}\n",
      "INFO - 2020-11-22 08:07:03,314 - connection - Transaction committed and closed.\n",
      "INFO - 2020-11-22 08:07:03,349 - connection - Transaction started\n",
      "INFO - 2020-11-22 08:07:03,351 - autopopulate - Populating: {'segment_id': 864691135937173252, 'decimation_version': 0, 'decimation_ratio': Decimal('0.25'), 'soma_index': 0}\n",
      "INFO - 2020-11-22 08:07:03,382 - connection - Transaction committed and closed.\n",
      "INFO - 2020-11-22 08:07:03,425 - connection - Transaction started\n",
      "INFO - 2020-11-22 08:07:03,427 - autopopulate - Populating: {'segment_id': 864691135937173764, 'decimation_version': 0, 'decimation_ratio': Decimal('0.25'), 'soma_index': 0}\n",
      "INFO - 2020-11-22 08:07:03,461 - connection - Transaction committed and closed.\n"
     ]
    },
    {
     "name": "stdout",
     "output_type": "stream",
     "text": [
      "\n",
      "\n",
      "\n",
      "---- Working on 864691135937172740, soma idx 0 ----\n",
      "\n",
      "\n",
      "\n",
      "---- Working on 864691135937173252, soma idx 0 ----\n",
      "\n",
      "\n",
      "\n",
      "---- Working on 864691135937173764, soma idx 0 ----\n"
     ]
    },
    {
     "name": "stderr",
     "output_type": "stream",
     "text": [
      "INFO - 2020-11-22 08:07:03,500 - connection - Transaction started\n",
      "INFO - 2020-11-22 08:07:03,502 - autopopulate - Populating: {'segment_id': 864691135937174276, 'decimation_version': 0, 'decimation_ratio': Decimal('0.25'), 'soma_index': 1}\n",
      "INFO - 2020-11-22 08:07:03,577 - connection - Transaction committed and closed.\n",
      "INFO - 2020-11-22 08:07:03,614 - connection - Transaction started\n",
      "INFO - 2020-11-22 08:07:03,616 - connection - Transaction cancelled. Rolling back ...\n",
      "INFO - 2020-11-22 08:07:03,656 - connection - Transaction started\n",
      "INFO - 2020-11-22 08:07:03,658 - connection - Transaction cancelled. Rolling back ...\n"
     ]
    },
    {
     "name": "stdout",
     "output_type": "stream",
     "text": [
      "\n",
      "\n",
      "\n",
      "---- Working on 864691135937174276, soma idx 1 ----\n"
     ]
    },
    {
     "name": "stderr",
     "output_type": "stream",
     "text": [
      "INFO - 2020-11-22 08:07:03,708 - connection - Transaction started\n",
      "INFO - 2020-11-22 08:07:03,710 - connection - Transaction cancelled. Rolling back ...\n",
      "INFO - 2020-11-22 08:07:03,734 - connection - Transaction started\n",
      "INFO - 2020-11-22 08:07:03,736 - autopopulate - Populating: {'segment_id': 864691135937176068, 'decimation_version': 0, 'decimation_ratio': Decimal('0.25'), 'soma_index': 1}\n",
      "INFO - 2020-11-22 08:07:03,895 - connection - Transaction committed and closed.\n"
     ]
    },
    {
     "name": "stdout",
     "output_type": "stream",
     "text": [
      "\n",
      "\n",
      "\n",
      "---- Working on 864691135937176068, soma idx 1 ----\n"
     ]
    },
    {
     "name": "stderr",
     "output_type": "stream",
     "text": [
      "INFO - 2020-11-22 08:07:03,951 - connection - Transaction started\n",
      "INFO - 2020-11-22 08:07:03,953 - connection - Transaction cancelled. Rolling back ...\n",
      "INFO - 2020-11-22 08:07:04,006 - connection - Transaction started\n",
      "INFO - 2020-11-22 08:07:04,009 - connection - Transaction cancelled. Rolling back ...\n",
      "INFO - 2020-11-22 08:07:04,050 - connection - Transaction started\n",
      "INFO - 2020-11-22 08:07:04,052 - autopopulate - Populating: {'segment_id': 864691135937177604, 'decimation_version': 0, 'decimation_ratio': Decimal('0.25'), 'soma_index': 1}\n",
      "INFO - 2020-11-22 08:07:04,219 - connection - Transaction committed and closed.\n"
     ]
    },
    {
     "name": "stdout",
     "output_type": "stream",
     "text": [
      "\n",
      "\n",
      "\n",
      "---- Working on 864691135937177604, soma idx 1 ----\n"
     ]
    },
    {
     "name": "stderr",
     "output_type": "stream",
     "text": [
      "INFO - 2020-11-22 08:07:04,259 - connection - Transaction started\n",
      "INFO - 2020-11-22 08:07:04,260 - connection - Transaction cancelled. Rolling back ...\n",
      "INFO - 2020-11-22 08:07:04,301 - connection - Transaction started\n",
      "INFO - 2020-11-22 08:07:04,304 - connection - Transaction cancelled. Rolling back ...\n",
      "INFO - 2020-11-22 08:07:04,333 - connection - Transaction started\n",
      "INFO - 2020-11-22 08:07:04,335 - connection - Transaction cancelled. Rolling back ...\n",
      "INFO - 2020-11-22 08:07:04,382 - connection - Transaction started\n",
      "INFO - 2020-11-22 08:07:04,385 - connection - Transaction cancelled. Rolling back ...\n",
      "INFO - 2020-11-22 08:07:04,425 - connection - Transaction started\n",
      "INFO - 2020-11-22 08:07:04,428 - connection - Transaction cancelled. Rolling back ...\n",
      "INFO - 2020-11-22 08:07:04,475 - connection - Transaction started\n",
      "INFO - 2020-11-22 08:07:04,477 - connection - Transaction cancelled. Rolling back ...\n",
      "INFO - 2020-11-22 08:07:04,525 - connection - Transaction started\n",
      "INFO - 2020-11-22 08:07:04,527 - connection - Transaction cancelled. Rolling back ...\n",
      "INFO - 2020-11-22 08:07:04,573 - connection - Transaction started\n",
      "INFO - 2020-11-22 08:07:04,576 - autopopulate - Populating: {'segment_id': 864691135937180676, 'decimation_version': 0, 'decimation_ratio': Decimal('0.25'), 'soma_index': 0}\n",
      "INFO - 2020-11-22 08:07:04,615 - connection - Transaction committed and closed.\n",
      "INFO - 2020-11-22 08:07:04,649 - connection - Transaction started\n",
      "INFO - 2020-11-22 08:07:04,651 - autopopulate - Populating: {'segment_id': 864691135937181700, 'decimation_version': 0, 'decimation_ratio': Decimal('0.25'), 'soma_index': 1}\n"
     ]
    },
    {
     "name": "stdout",
     "output_type": "stream",
     "text": [
      "\n",
      "\n",
      "\n",
      "---- Working on 864691135937180676, soma idx 0 ----\n",
      "\n",
      "\n",
      "\n",
      "---- Working on 864691135937181700, soma idx 1 ----\n"
     ]
    },
    {
     "name": "stderr",
     "output_type": "stream",
     "text": [
      "INFO - 2020-11-22 08:07:04,863 - connection - Transaction committed and closed.\n",
      "INFO - 2020-11-22 08:07:04,886 - connection - Transaction started\n",
      "INFO - 2020-11-22 08:07:04,889 - connection - Transaction cancelled. Rolling back ...\n",
      "INFO - 2020-11-22 08:07:04,920 - connection - Transaction started\n",
      "INFO - 2020-11-22 08:07:04,923 - connection - Transaction cancelled. Rolling back ...\n",
      "INFO - 2020-11-22 08:07:04,985 - connection - Transaction started\n",
      "INFO - 2020-11-22 08:07:04,988 - connection - Transaction cancelled. Rolling back ...\n",
      "INFO - 2020-11-22 08:07:05,029 - connection - Transaction started\n",
      "INFO - 2020-11-22 08:07:05,031 - autopopulate - Populating: {'segment_id': 864691135937182980, 'decimation_version': 0, 'decimation_ratio': Decimal('0.25'), 'soma_index': 0}\n",
      "INFO - 2020-11-22 08:07:05,061 - connection - Transaction committed and closed.\n",
      "INFO - 2020-11-22 08:07:05,110 - connection - Transaction started\n",
      "INFO - 2020-11-22 08:07:05,112 - autopopulate - Populating: {'segment_id': 864691135937183236, 'decimation_version': 0, 'decimation_ratio': Decimal('0.25'), 'soma_index': 0}\n",
      "INFO - 2020-11-22 08:07:05,151 - connection - Transaction committed and closed.\n",
      "INFO - 2020-11-22 08:07:05,196 - connection - Transaction started\n",
      "INFO - 2020-11-22 08:07:05,199 - autopopulate - Populating: {'segment_id': 864691135937183492, 'decimation_version': 0, 'decimation_ratio': Decimal('0.25'), 'soma_index': 1}\n"
     ]
    },
    {
     "name": "stdout",
     "output_type": "stream",
     "text": [
      "\n",
      "\n",
      "\n",
      "---- Working on 864691135937182980, soma idx 0 ----\n",
      "\n",
      "\n",
      "\n",
      "---- Working on 864691135937183236, soma idx 0 ----\n",
      "\n",
      "\n",
      "\n",
      "---- Working on 864691135937183492, soma idx 1 ----\n"
     ]
    },
    {
     "name": "stderr",
     "output_type": "stream",
     "text": [
      "INFO - 2020-11-22 08:07:05,327 - connection - Transaction committed and closed.\n",
      "INFO - 2020-11-22 08:07:05,376 - connection - Transaction started\n",
      "INFO - 2020-11-22 08:07:05,378 - connection - Transaction cancelled. Rolling back ...\n",
      "INFO - 2020-11-22 08:07:05,424 - connection - Transaction started\n",
      "INFO - 2020-11-22 08:07:05,427 - connection - Transaction cancelled. Rolling back ...\n",
      "INFO - 2020-11-22 08:07:05,476 - connection - Transaction started\n",
      "INFO - 2020-11-22 08:07:05,479 - connection - Transaction cancelled. Rolling back ...\n",
      "INFO - 2020-11-22 08:07:05,525 - connection - Transaction started\n",
      "INFO - 2020-11-22 08:07:05,528 - connection - Transaction cancelled. Rolling back ...\n",
      "INFO - 2020-11-22 08:07:05,577 - connection - Transaction started\n",
      "INFO - 2020-11-22 08:07:05,580 - autopopulate - Populating: {'segment_id': 864691135937185540, 'decimation_version': 0, 'decimation_ratio': Decimal('0.25'), 'soma_index': 0}\n",
      "INFO - 2020-11-22 08:07:05,618 - connection - Transaction committed and closed.\n",
      "INFO - 2020-11-22 08:07:05,650 - connection - Transaction started\n",
      "INFO - 2020-11-22 08:07:05,652 - autopopulate - Populating: {'segment_id': 864691135937186052, 'decimation_version': 0, 'decimation_ratio': Decimal('0.25'), 'soma_index': 1}\n",
      "INFO - 2020-11-22 08:07:05,752 - connection - Transaction committed and closed.\n"
     ]
    },
    {
     "name": "stdout",
     "output_type": "stream",
     "text": [
      "\n",
      "\n",
      "\n",
      "---- Working on 864691135937185540, soma idx 0 ----\n",
      "\n",
      "\n",
      "\n",
      "---- Working on 864691135937186052, soma idx 1 ----\n"
     ]
    },
    {
     "name": "stderr",
     "output_type": "stream",
     "text": [
      "INFO - 2020-11-22 08:07:05,790 - connection - Transaction started\n",
      "INFO - 2020-11-22 08:07:05,792 - connection - Transaction cancelled. Rolling back ...\n",
      "INFO - 2020-11-22 08:07:05,832 - connection - Transaction started\n",
      "INFO - 2020-11-22 08:07:05,835 - connection - Transaction cancelled. Rolling back ...\n",
      "INFO - 2020-11-22 08:07:05,877 - connection - Transaction started\n",
      "INFO - 2020-11-22 08:07:05,880 - connection - Transaction cancelled. Rolling back ...\n",
      "INFO - 2020-11-22 08:07:05,905 - connection - Transaction started\n",
      "INFO - 2020-11-22 08:07:05,907 - autopopulate - Populating: {'segment_id': 864691135937187588, 'decimation_version': 0, 'decimation_ratio': Decimal('0.25'), 'soma_index': 1}\n",
      "INFO - 2020-11-22 08:07:05,988 - connection - Transaction committed and closed.\n",
      "INFO - 2020-11-22 08:07:06,030 - connection - Transaction started\n",
      "INFO - 2020-11-22 08:07:06,032 - connection - Transaction cancelled. Rolling back ...\n",
      "INFO - 2020-11-22 08:07:06,064 - connection - Transaction started\n",
      "INFO - 2020-11-22 08:07:06,066 - autopopulate - Populating: {'segment_id': 864691135937188612, 'decimation_version': 0, 'decimation_ratio': Decimal('0.25'), 'soma_index': 1}\n"
     ]
    },
    {
     "name": "stdout",
     "output_type": "stream",
     "text": [
      "\n",
      "\n",
      "\n",
      "---- Working on 864691135937187588, soma idx 1 ----\n",
      "\n",
      "\n",
      "\n",
      "---- Working on 864691135937188612, soma idx 1 ----\n"
     ]
    },
    {
     "name": "stderr",
     "output_type": "stream",
     "text": [
      "INFO - 2020-11-22 08:07:06,232 - connection - Transaction committed and closed.\n",
      "INFO - 2020-11-22 08:07:06,290 - connection - Transaction started\n",
      "INFO - 2020-11-22 08:07:06,293 - connection - Transaction cancelled. Rolling back ...\n",
      "INFO - 2020-11-22 08:07:06,325 - connection - Transaction started\n",
      "INFO - 2020-11-22 08:07:06,326 - autopopulate - Populating: {'segment_id': 864691135937190148, 'decimation_version': 0, 'decimation_ratio': Decimal('0.25'), 'soma_index': 1}\n"
     ]
    },
    {
     "name": "stdout",
     "output_type": "stream",
     "text": [
      "\n",
      "\n",
      "\n",
      "---- Working on 864691135937190148, soma idx 1 ----\n"
     ]
    },
    {
     "name": "stderr",
     "output_type": "stream",
     "text": [
      "INFO - 2020-11-22 08:07:06,594 - connection - Transaction committed and closed.\n",
      "INFO - 2020-11-22 08:07:06,626 - connection - Transaction started\n",
      "INFO - 2020-11-22 08:07:06,628 - connection - Transaction cancelled. Rolling back ...\n",
      "INFO - 2020-11-22 08:07:06,651 - connection - Transaction started\n",
      "INFO - 2020-11-22 08:07:06,653 - connection - Transaction cancelled. Rolling back ...\n",
      "INFO - 2020-11-22 08:07:06,686 - connection - Transaction started\n",
      "INFO - 2020-11-22 08:07:06,689 - connection - Transaction cancelled. Rolling back ...\n",
      "INFO - 2020-11-22 08:07:06,725 - connection - Transaction started\n",
      "INFO - 2020-11-22 08:07:06,728 - connection - Transaction cancelled. Rolling back ...\n",
      "INFO - 2020-11-22 08:07:06,770 - connection - Transaction started\n",
      "INFO - 2020-11-22 08:07:06,773 - connection - Transaction cancelled. Rolling back ...\n",
      "INFO - 2020-11-22 08:07:06,805 - connection - Transaction started\n",
      "INFO - 2020-11-22 08:07:06,807 - autopopulate - Populating: {'segment_id': 864691135937191684, 'decimation_version': 0, 'decimation_ratio': Decimal('0.25'), 'soma_index': 1}\n",
      "INFO - 2020-11-22 08:07:06,879 - connection - Transaction committed and closed.\n",
      "INFO - 2020-11-22 08:07:06,902 - connection - Transaction started\n",
      "INFO - 2020-11-22 08:07:06,904 - autopopulate - Populating: {'segment_id': 864691135937192196, 'decimation_version': 0, 'decimation_ratio': Decimal('0.25'), 'soma_index': 0}\n",
      "INFO - 2020-11-22 08:07:06,938 - connection - Transaction committed and closed.\n",
      "INFO - 2020-11-22 08:07:06,969 - connection - Transaction started\n",
      "INFO - 2020-11-22 08:07:06,971 - autopopulate - Populating: {'segment_id': 864691135937192452, 'decimation_version': 0, 'decimation_ratio': Decimal('0.25'), 'soma_index': 0}\n"
     ]
    },
    {
     "name": "stdout",
     "output_type": "stream",
     "text": [
      "\n",
      "\n",
      "\n",
      "---- Working on 864691135937191684, soma idx 1 ----\n",
      "\n",
      "\n",
      "\n",
      "---- Working on 864691135937192196, soma idx 0 ----\n",
      "\n",
      "\n",
      "\n",
      "---- Working on 864691135937192452, soma idx 0 ----\n"
     ]
    },
    {
     "name": "stderr",
     "output_type": "stream",
     "text": [
      "INFO - 2020-11-22 08:07:07,014 - connection - Transaction committed and closed.\n",
      "INFO - 2020-11-22 08:07:07,049 - connection - Transaction started\n",
      "INFO - 2020-11-22 08:07:07,050 - autopopulate - Populating: {'segment_id': 864691135937192964, 'decimation_version': 0, 'decimation_ratio': Decimal('0.25'), 'soma_index': 1}\n"
     ]
    },
    {
     "name": "stdout",
     "output_type": "stream",
     "text": [
      "\n",
      "\n",
      "\n",
      "---- Working on 864691135937192964, soma idx 1 ----\n"
     ]
    },
    {
     "name": "stderr",
     "output_type": "stream",
     "text": [
      "INFO - 2020-11-22 08:07:07,300 - connection - Transaction committed and closed.\n",
      "INFO - 2020-11-22 08:07:07,327 - connection - Transaction started\n",
      "INFO - 2020-11-22 08:07:07,330 - connection - Transaction cancelled. Rolling back ...\n",
      "INFO - 2020-11-22 08:07:07,379 - connection - Transaction started\n",
      "INFO - 2020-11-22 08:07:07,381 - autopopulate - Populating: {'segment_id': 864691135937193988, 'decimation_version': 0, 'decimation_ratio': Decimal('0.25'), 'soma_index': 0}\n",
      "INFO - 2020-11-22 08:07:07,418 - connection - Transaction committed and closed.\n",
      "INFO - 2020-11-22 08:07:07,444 - connection - Transaction started\n",
      "INFO - 2020-11-22 08:07:07,446 - autopopulate - Populating: {'segment_id': 864691135937194500, 'decimation_version': 0, 'decimation_ratio': Decimal('0.25'), 'soma_index': 0}\n",
      "INFO - 2020-11-22 08:07:07,495 - connection - Transaction committed and closed.\n",
      "INFO - 2020-11-22 08:07:07,530 - connection - Transaction started\n",
      "INFO - 2020-11-22 08:07:07,532 - autopopulate - Populating: {'segment_id': 864691135937195012, 'decimation_version': 0, 'decimation_ratio': Decimal('0.25'), 'soma_index': 0}\n",
      "INFO - 2020-11-22 08:07:07,554 - connection - Transaction committed and closed.\n"
     ]
    },
    {
     "name": "stdout",
     "output_type": "stream",
     "text": [
      "\n",
      "\n",
      "\n",
      "---- Working on 864691135937193988, soma idx 0 ----\n",
      "\n",
      "\n",
      "\n",
      "---- Working on 864691135937194500, soma idx 0 ----\n",
      "\n",
      "\n",
      "\n",
      "---- Working on 864691135937195012, soma idx 0 ----\n"
     ]
    },
    {
     "name": "stderr",
     "output_type": "stream",
     "text": [
      "INFO - 2020-11-22 08:07:07,589 - connection - Transaction started\n",
      "INFO - 2020-11-22 08:07:07,590 - autopopulate - Populating: {'segment_id': 864691135937195524, 'decimation_version': 0, 'decimation_ratio': Decimal('0.25'), 'soma_index': 1}\n"
     ]
    },
    {
     "name": "stdout",
     "output_type": "stream",
     "text": [
      "\n",
      "\n",
      "\n",
      "---- Working on 864691135937195524, soma idx 1 ----\n"
     ]
    },
    {
     "name": "stderr",
     "output_type": "stream",
     "text": [
      "INFO - 2020-11-22 08:07:07,809 - connection - Transaction committed and closed.\n",
      "INFO - 2020-11-22 08:07:07,842 - connection - Transaction started\n",
      "INFO - 2020-11-22 08:07:07,845 - connection - Transaction cancelled. Rolling back ...\n",
      "INFO - 2020-11-22 08:07:07,897 - connection - Transaction started\n",
      "INFO - 2020-11-22 08:07:07,899 - connection - Transaction cancelled. Rolling back ...\n",
      "INFO - 2020-11-22 08:07:07,945 - connection - Transaction started\n",
      "INFO - 2020-11-22 08:07:07,947 - connection - Transaction cancelled. Rolling back ...\n",
      "INFO - 2020-11-22 08:07:07,997 - connection - Transaction started\n",
      "INFO - 2020-11-22 08:07:08,000 - connection - Transaction cancelled. Rolling back ...\n",
      "INFO - 2020-11-22 08:07:08,051 - connection - Transaction started\n",
      "INFO - 2020-11-22 08:07:08,053 - connection - Transaction cancelled. Rolling back ...\n",
      "INFO - 2020-11-22 08:07:08,080 - connection - Transaction started\n",
      "INFO - 2020-11-22 08:07:08,083 - connection - Transaction cancelled. Rolling back ...\n",
      "INFO - 2020-11-22 08:07:08,126 - connection - Transaction started\n",
      "INFO - 2020-11-22 08:07:08,128 - connection - Transaction cancelled. Rolling back ...\n",
      "INFO - 2020-11-22 08:07:08,173 - connection - Transaction started\n",
      "INFO - 2020-11-22 08:07:08,176 - connection - Transaction cancelled. Rolling back ...\n",
      "INFO - 2020-11-22 08:07:08,218 - connection - Transaction started\n",
      "INFO - 2020-11-22 08:07:08,220 - connection - Transaction cancelled. Rolling back ...\n",
      "INFO - 2020-11-22 08:07:08,254 - connection - Transaction started\n",
      "INFO - 2020-11-22 08:07:08,257 - connection - Transaction cancelled. Rolling back ...\n",
      "INFO - 2020-11-22 08:07:08,302 - connection - Transaction started\n",
      "INFO - 2020-11-22 08:07:08,305 - connection - Transaction cancelled. Rolling back ...\n",
      "INFO - 2020-11-22 08:07:08,326 - connection - Transaction started\n",
      "INFO - 2020-11-22 08:07:08,329 - connection - Transaction cancelled. Rolling back ...\n",
      "INFO - 2020-11-22 08:07:08,362 - connection - Transaction started\n",
      "INFO - 2020-11-22 08:07:08,364 - autopopulate - Populating: {'segment_id': 864691135937199108, 'decimation_version': 0, 'decimation_ratio': Decimal('0.25'), 'soma_index': 1}\n",
      "INFO - 2020-11-22 08:07:08,511 - connection - Transaction committed and closed.\n",
      "INFO - 2020-11-22 08:07:08,551 - connection - Transaction started\n",
      "INFO - 2020-11-22 08:07:08,554 - connection - Transaction cancelled. Rolling back ...\n"
     ]
    },
    {
     "name": "stdout",
     "output_type": "stream",
     "text": [
      "\n",
      "\n",
      "\n",
      "---- Working on 864691135937199108, soma idx 1 ----\n"
     ]
    },
    {
     "name": "stderr",
     "output_type": "stream",
     "text": [
      "INFO - 2020-11-22 08:07:08,585 - connection - Transaction started\n",
      "INFO - 2020-11-22 08:07:08,588 - connection - Transaction cancelled. Rolling back ...\n",
      "INFO - 2020-11-22 08:07:08,630 - connection - Transaction started\n",
      "INFO - 2020-11-22 08:07:08,632 - connection - Transaction cancelled. Rolling back ...\n",
      "INFO - 2020-11-22 08:07:08,655 - connection - Transaction started\n",
      "INFO - 2020-11-22 08:07:08,657 - autopopulate - Populating: {'segment_id': 864691135937200900, 'decimation_version': 0, 'decimation_ratio': Decimal('0.25'), 'soma_index': 0}\n",
      "INFO - 2020-11-22 08:07:08,693 - connection - Transaction committed and closed.\n",
      "INFO - 2020-11-22 08:07:08,721 - connection - Transaction started\n",
      "INFO - 2020-11-22 08:07:08,723 - autopopulate - Populating: {'segment_id': 864691135937201156, 'decimation_version': 0, 'decimation_ratio': Decimal('0.25'), 'soma_index': 1}\n"
     ]
    },
    {
     "name": "stdout",
     "output_type": "stream",
     "text": [
      "\n",
      "\n",
      "\n",
      "---- Working on 864691135937200900, soma idx 0 ----\n",
      "\n",
      "\n",
      "\n",
      "---- Working on 864691135937201156, soma idx 1 ----\n"
     ]
    },
    {
     "name": "stderr",
     "output_type": "stream",
     "text": [
      "INFO - 2020-11-22 08:07:08,997 - connection - Transaction committed and closed.\n",
      "INFO - 2020-11-22 08:07:09,046 - connection - Transaction started\n",
      "INFO - 2020-11-22 08:07:09,049 - connection - Transaction cancelled. Rolling back ...\n",
      "INFO - 2020-11-22 08:07:09,085 - connection - Transaction started\n",
      "INFO - 2020-11-22 08:07:09,087 - connection - Transaction cancelled. Rolling back ...\n",
      "INFO - 2020-11-22 08:07:09,123 - connection - Transaction started\n",
      "INFO - 2020-11-22 08:07:09,125 - connection - Transaction cancelled. Rolling back ...\n",
      "INFO - 2020-11-22 08:07:09,159 - connection - Transaction started\n",
      "INFO - 2020-11-22 08:07:09,162 - connection - Transaction cancelled. Rolling back ...\n",
      "INFO - 2020-11-22 08:07:09,188 - connection - Transaction started\n",
      "INFO - 2020-11-22 08:07:09,190 - autopopulate - Populating: {'segment_id': 864691135937202692, 'decimation_version': 0, 'decimation_ratio': Decimal('0.25'), 'soma_index': 0}\n",
      "INFO - 2020-11-22 08:07:09,225 - connection - Transaction committed and closed.\n",
      "INFO - 2020-11-22 08:07:09,259 - connection - Transaction started\n",
      "INFO - 2020-11-22 08:07:09,261 - autopopulate - Populating: {'segment_id': 864691135937202948, 'decimation_version': 0, 'decimation_ratio': Decimal('0.25'), 'soma_index': 0}\n",
      "INFO - 2020-11-22 08:07:09,305 - connection - Transaction committed and closed.\n",
      "INFO - 2020-11-22 08:07:09,336 - connection - Transaction started\n",
      "INFO - 2020-11-22 08:07:09,338 - autopopulate - Populating: {'segment_id': 864691135937203460, 'decimation_version': 0, 'decimation_ratio': Decimal('0.25'), 'soma_index': 1}\n"
     ]
    },
    {
     "name": "stdout",
     "output_type": "stream",
     "text": [
      "\n",
      "\n",
      "\n",
      "---- Working on 864691135937202692, soma idx 0 ----\n",
      "\n",
      "\n",
      "\n",
      "---- Working on 864691135937202948, soma idx 0 ----\n",
      "\n",
      "\n",
      "\n",
      "---- Working on 864691135937203460, soma idx 1 ----\n"
     ]
    },
    {
     "name": "stderr",
     "output_type": "stream",
     "text": [
      "INFO - 2020-11-22 08:07:09,411 - connection - Transaction committed and closed.\n",
      "INFO - 2020-11-22 08:07:09,449 - connection - Transaction started\n",
      "INFO - 2020-11-22 08:07:09,451 - autopopulate - Populating: {'segment_id': 864691135937203972, 'decimation_version': 0, 'decimation_ratio': Decimal('0.25'), 'soma_index': 1}\n",
      "INFO - 2020-11-22 08:07:09,581 - connection - Transaction committed and closed.\n",
      "INFO - 2020-11-22 08:07:09,611 - connection - Transaction started\n",
      "INFO - 2020-11-22 08:07:09,613 - connection - Transaction cancelled. Rolling back ...\n"
     ]
    },
    {
     "name": "stdout",
     "output_type": "stream",
     "text": [
      "\n",
      "\n",
      "\n",
      "---- Working on 864691135937203972, soma idx 1 ----\n"
     ]
    },
    {
     "name": "stderr",
     "output_type": "stream",
     "text": [
      "INFO - 2020-11-22 08:07:09,656 - connection - Transaction started\n",
      "INFO - 2020-11-22 08:07:09,657 - autopopulate - Populating: {'segment_id': 864691135937204740, 'decimation_version': 0, 'decimation_ratio': Decimal('0.25'), 'soma_index': 0}\n",
      "INFO - 2020-11-22 08:07:09,685 - connection - Transaction committed and closed.\n",
      "INFO - 2020-11-22 08:07:09,725 - connection - Transaction started\n",
      "INFO - 2020-11-22 08:07:09,727 - autopopulate - Populating: {'segment_id': 864691135937205252, 'decimation_version': 0, 'decimation_ratio': Decimal('0.25'), 'soma_index': 0}\n",
      "INFO - 2020-11-22 08:07:09,771 - connection - Transaction committed and closed.\n",
      "INFO - 2020-11-22 08:07:09,838 - connection - Transaction started\n",
      "INFO - 2020-11-22 08:07:09,840 - connection - Transaction cancelled. Rolling back ...\n"
     ]
    },
    {
     "name": "stdout",
     "output_type": "stream",
     "text": [
      "\n",
      "\n",
      "\n",
      "---- Working on 864691135937204740, soma idx 0 ----\n",
      "\n",
      "\n",
      "\n",
      "---- Working on 864691135937205252, soma idx 0 ----\n"
     ]
    },
    {
     "name": "stderr",
     "output_type": "stream",
     "text": [
      "INFO - 2020-11-22 08:07:09,879 - connection - Transaction started\n",
      "INFO - 2020-11-22 08:07:09,881 - autopopulate - Populating: {'segment_id': 864691135937206020, 'decimation_version': 0, 'decimation_ratio': Decimal('0.25'), 'soma_index': 0}\n",
      "INFO - 2020-11-22 08:07:09,915 - connection - Transaction committed and closed.\n",
      "INFO - 2020-11-22 08:07:09,939 - connection - Transaction started\n",
      "INFO - 2020-11-22 08:07:09,940 - autopopulate - Populating: {'segment_id': 864691135937206788, 'decimation_version': 0, 'decimation_ratio': Decimal('0.25'), 'soma_index': 0}\n",
      "INFO - 2020-11-22 08:07:09,978 - connection - Transaction committed and closed.\n",
      "INFO - 2020-11-22 08:07:10,006 - connection - Transaction started\n",
      "INFO - 2020-11-22 08:07:10,008 - autopopulate - Populating: {'segment_id': 864691135937207044, 'decimation_version': 0, 'decimation_ratio': Decimal('0.25'), 'soma_index': 0}\n",
      "INFO - 2020-11-22 08:07:10,042 - connection - Transaction committed and closed.\n",
      "INFO - 2020-11-22 08:07:10,064 - connection - Transaction started\n",
      "INFO - 2020-11-22 08:07:10,066 - autopopulate - Populating: {'segment_id': 864691135937207300, 'decimation_version': 0, 'decimation_ratio': Decimal('0.25'), 'soma_index': 0}\n"
     ]
    },
    {
     "name": "stdout",
     "output_type": "stream",
     "text": [
      "\n",
      "\n",
      "\n",
      "---- Working on 864691135937206020, soma idx 0 ----\n",
      "\n",
      "\n",
      "\n",
      "---- Working on 864691135937206788, soma idx 0 ----\n",
      "\n",
      "\n",
      "\n",
      "---- Working on 864691135937207044, soma idx 0 ----\n",
      "\n",
      "\n",
      "\n",
      "---- Working on 864691135937207300, soma idx 0 ----\n"
     ]
    },
    {
     "name": "stderr",
     "output_type": "stream",
     "text": [
      "INFO - 2020-11-22 08:07:10,108 - connection - Transaction committed and closed.\n",
      "INFO - 2020-11-22 08:07:10,145 - connection - Transaction started\n",
      "INFO - 2020-11-22 08:07:10,147 - autopopulate - Populating: {'segment_id': 864691135937207556, 'decimation_version': 0, 'decimation_ratio': Decimal('0.25'), 'soma_index': 1}\n",
      "INFO - 2020-11-22 08:07:10,274 - connection - Transaction committed and closed.\n",
      "INFO - 2020-11-22 08:07:10,312 - connection - Transaction started\n",
      "INFO - 2020-11-22 08:07:10,315 - autopopulate - Populating: {'segment_id': 864691135937208068, 'decimation_version': 0, 'decimation_ratio': Decimal('0.25'), 'soma_index': 0}\n"
     ]
    },
    {
     "name": "stdout",
     "output_type": "stream",
     "text": [
      "\n",
      "\n",
      "\n",
      "---- Working on 864691135937207556, soma idx 1 ----\n",
      "\n",
      "\n",
      "\n",
      "---- Working on 864691135937208068, soma idx 0 ----\n"
     ]
    },
    {
     "name": "stderr",
     "output_type": "stream",
     "text": [
      "INFO - 2020-11-22 08:07:10,356 - connection - Transaction committed and closed.\n",
      "INFO - 2020-11-22 08:07:10,390 - connection - Transaction started\n",
      "INFO - 2020-11-22 08:07:10,392 - autopopulate - Populating: {'segment_id': 864691135937208580, 'decimation_version': 0, 'decimation_ratio': Decimal('0.25'), 'soma_index': 1}\n",
      "INFO - 2020-11-22 08:07:10,576 - connection - Transaction committed and closed.\n"
     ]
    },
    {
     "name": "stdout",
     "output_type": "stream",
     "text": [
      "\n",
      "\n",
      "\n",
      "---- Working on 864691135937208580, soma idx 1 ----\n"
     ]
    },
    {
     "name": "stderr",
     "output_type": "stream",
     "text": [
      "INFO - 2020-11-22 08:07:10,607 - connection - Transaction started\n",
      "INFO - 2020-11-22 08:07:10,609 - autopopulate - Populating: {'segment_id': 864691135937209604, 'decimation_version': 0, 'decimation_ratio': Decimal('0.25'), 'soma_index': 1}\n",
      "INFO - 2020-11-22 08:07:10,696 - connection - Transaction committed and closed.\n"
     ]
    },
    {
     "name": "stdout",
     "output_type": "stream",
     "text": [
      "\n",
      "\n",
      "\n",
      "---- Working on 864691135937209604, soma idx 1 ----\n"
     ]
    },
    {
     "ename": "OperationalError",
     "evalue": "(1213, 'Deadlock found when trying to get lock; try restarting transaction')",
     "output_type": "error",
     "traceback": [
      "\u001b[0;31m---------------------------------------------------------------------------\u001b[0m",
      "\u001b[0;31mOperationalError\u001b[0m                          Traceback (most recent call last)",
      "\u001b[0;32m<ipython-input-8-44e91d596b67>\u001b[0m in \u001b[0;36m<module>\u001b[0;34m\u001b[0m\n\u001b[1;32m      3\u001b[0m \u001b[0;31m#time.sleep(random.randint(0, 900))\u001b[0m\u001b[0;34m\u001b[0m\u001b[0;34m\u001b[0m\u001b[0;34m\u001b[0m\u001b[0m\n\u001b[1;32m      4\u001b[0m \u001b[0mprint\u001b[0m\u001b[0;34m(\u001b[0m\u001b[0;34m'Populate Started'\u001b[0m\u001b[0;34m)\u001b[0m\u001b[0;34m\u001b[0m\u001b[0;34m\u001b[0m\u001b[0m\n\u001b[0;32m----> 5\u001b[0;31m \u001b[0mBaylorSegmentCentroidExternal\u001b[0m\u001b[0;34m.\u001b[0m\u001b[0mpopulate\u001b[0m\u001b[0;34m(\u001b[0m\u001b[0mreserve_jobs\u001b[0m\u001b[0;34m=\u001b[0m\u001b[0;32mTrue\u001b[0m\u001b[0;34m,\u001b[0m \u001b[0msuppress_errors\u001b[0m\u001b[0;34m=\u001b[0m\u001b[0;32mFalse\u001b[0m\u001b[0;34m)\u001b[0m\u001b[0;31m#, order='random')\u001b[0m\u001b[0;34m\u001b[0m\u001b[0;34m\u001b[0m\u001b[0m\n\u001b[0m\u001b[1;32m      6\u001b[0m \u001b[0mprint\u001b[0m\u001b[0;34m(\u001b[0m\u001b[0;34m'Populate Done'\u001b[0m\u001b[0;34m)\u001b[0m\u001b[0;34m\u001b[0m\u001b[0;34m\u001b[0m\u001b[0m\n\u001b[1;32m      7\u001b[0m \u001b[0;34m\u001b[0m\u001b[0m\n",
      "\u001b[0;32m/usr/local/lib/python3.6/dist-packages/datajoint/autopopulate.py\u001b[0m in \u001b[0;36mpopulate\u001b[0;34m(self, suppress_errors, return_exception_objects, reserve_jobs, order, limit, max_calls, display_progress, *restrictions)\u001b[0m\n\u001b[1;32m    146\u001b[0m             \u001b[0;32mif\u001b[0m \u001b[0mmax_calls\u001b[0m \u001b[0;32mis\u001b[0m \u001b[0;32mnot\u001b[0m \u001b[0;32mNone\u001b[0m \u001b[0;32mand\u001b[0m \u001b[0mcall_count\u001b[0m \u001b[0;34m>=\u001b[0m \u001b[0mmax_calls\u001b[0m\u001b[0;34m:\u001b[0m\u001b[0;34m\u001b[0m\u001b[0;34m\u001b[0m\u001b[0m\n\u001b[1;32m    147\u001b[0m                 \u001b[0;32mbreak\u001b[0m\u001b[0;34m\u001b[0m\u001b[0;34m\u001b[0m\u001b[0m\n\u001b[0;32m--> 148\u001b[0;31m             \u001b[0;32mif\u001b[0m \u001b[0;32mnot\u001b[0m \u001b[0mreserve_jobs\u001b[0m \u001b[0;32mor\u001b[0m \u001b[0mjobs\u001b[0m\u001b[0;34m.\u001b[0m\u001b[0mreserve\u001b[0m\u001b[0;34m(\u001b[0m\u001b[0mself\u001b[0m\u001b[0;34m.\u001b[0m\u001b[0mtarget\u001b[0m\u001b[0;34m.\u001b[0m\u001b[0mtable_name\u001b[0m\u001b[0;34m,\u001b[0m \u001b[0mself\u001b[0m\u001b[0;34m.\u001b[0m\u001b[0m_job_key\u001b[0m\u001b[0;34m(\u001b[0m\u001b[0mkey\u001b[0m\u001b[0;34m)\u001b[0m\u001b[0;34m)\u001b[0m\u001b[0;34m:\u001b[0m\u001b[0;34m\u001b[0m\u001b[0;34m\u001b[0m\u001b[0m\n\u001b[0m\u001b[1;32m    149\u001b[0m                 \u001b[0mself\u001b[0m\u001b[0;34m.\u001b[0m\u001b[0mconnection\u001b[0m\u001b[0;34m.\u001b[0m\u001b[0mstart_transaction\u001b[0m\u001b[0;34m(\u001b[0m\u001b[0;34m)\u001b[0m\u001b[0;34m\u001b[0m\u001b[0;34m\u001b[0m\u001b[0m\n\u001b[1;32m    150\u001b[0m                 \u001b[0;32mif\u001b[0m \u001b[0mkey\u001b[0m \u001b[0;32min\u001b[0m \u001b[0mself\u001b[0m\u001b[0;34m.\u001b[0m\u001b[0mtarget\u001b[0m\u001b[0;34m:\u001b[0m  \u001b[0;31m# already populated\u001b[0m\u001b[0;34m\u001b[0m\u001b[0;34m\u001b[0m\u001b[0m\n",
      "\u001b[0;32m/usr/local/lib/python3.6/dist-packages/datajoint/jobs.py\u001b[0m in \u001b[0;36mreserve\u001b[0;34m(self, table_name, key)\u001b[0m\n\u001b[1;32m     79\u001b[0m         \u001b[0;32mtry\u001b[0m\u001b[0;34m:\u001b[0m\u001b[0;34m\u001b[0m\u001b[0;34m\u001b[0m\u001b[0m\n\u001b[1;32m     80\u001b[0m             \u001b[0;32mwith\u001b[0m \u001b[0mconfig\u001b[0m\u001b[0;34m(\u001b[0m\u001b[0menable_python_native_blobs\u001b[0m\u001b[0;34m=\u001b[0m\u001b[0;32mTrue\u001b[0m\u001b[0;34m)\u001b[0m\u001b[0;34m:\u001b[0m\u001b[0;34m\u001b[0m\u001b[0;34m\u001b[0m\u001b[0m\n\u001b[0;32m---> 81\u001b[0;31m                 \u001b[0mself\u001b[0m\u001b[0;34m.\u001b[0m\u001b[0minsert1\u001b[0m\u001b[0;34m(\u001b[0m\u001b[0mjob\u001b[0m\u001b[0;34m,\u001b[0m \u001b[0mignore_extra_fields\u001b[0m\u001b[0;34m=\u001b[0m\u001b[0;32mTrue\u001b[0m\u001b[0;34m)\u001b[0m\u001b[0;34m\u001b[0m\u001b[0;34m\u001b[0m\u001b[0m\n\u001b[0m\u001b[1;32m     82\u001b[0m         \u001b[0;32mexcept\u001b[0m \u001b[0mDuplicateError\u001b[0m\u001b[0;34m:\u001b[0m\u001b[0;34m\u001b[0m\u001b[0;34m\u001b[0m\u001b[0m\n\u001b[1;32m     83\u001b[0m             \u001b[0;32mreturn\u001b[0m \u001b[0;32mFalse\u001b[0m\u001b[0;34m\u001b[0m\u001b[0;34m\u001b[0m\u001b[0m\n",
      "\u001b[0;32m/usr/local/lib/python3.6/dist-packages/datajoint/table.py\u001b[0m in \u001b[0;36minsert1\u001b[0;34m(self, row, **kwargs)\u001b[0m\n\u001b[1;32m    173\u001b[0m         \u001b[0mFor\u001b[0m \u001b[0mkwargs\u001b[0m\u001b[0;34m,\u001b[0m \u001b[0msee\u001b[0m \u001b[0minsert\u001b[0m\u001b[0;34m(\u001b[0m\u001b[0;34m)\u001b[0m\u001b[0;34m\u001b[0m\u001b[0;34m\u001b[0m\u001b[0m\n\u001b[1;32m    174\u001b[0m         \"\"\"\n\u001b[0;32m--> 175\u001b[0;31m         \u001b[0mself\u001b[0m\u001b[0;34m.\u001b[0m\u001b[0minsert\u001b[0m\u001b[0;34m(\u001b[0m\u001b[0;34m(\u001b[0m\u001b[0mrow\u001b[0m\u001b[0;34m,\u001b[0m\u001b[0;34m)\u001b[0m\u001b[0;34m,\u001b[0m \u001b[0;34m**\u001b[0m\u001b[0mkwargs\u001b[0m\u001b[0;34m)\u001b[0m\u001b[0;34m\u001b[0m\u001b[0;34m\u001b[0m\u001b[0m\n\u001b[0m\u001b[1;32m    176\u001b[0m \u001b[0;34m\u001b[0m\u001b[0m\n\u001b[1;32m    177\u001b[0m     \u001b[0;32mdef\u001b[0m \u001b[0minsert\u001b[0m\u001b[0;34m(\u001b[0m\u001b[0mself\u001b[0m\u001b[0;34m,\u001b[0m \u001b[0mrows\u001b[0m\u001b[0;34m,\u001b[0m \u001b[0mreplace\u001b[0m\u001b[0;34m=\u001b[0m\u001b[0;32mFalse\u001b[0m\u001b[0;34m,\u001b[0m \u001b[0mskip_duplicates\u001b[0m\u001b[0;34m=\u001b[0m\u001b[0;32mFalse\u001b[0m\u001b[0;34m,\u001b[0m \u001b[0mignore_extra_fields\u001b[0m\u001b[0;34m=\u001b[0m\u001b[0;32mFalse\u001b[0m\u001b[0;34m,\u001b[0m \u001b[0mallow_direct_insert\u001b[0m\u001b[0;34m=\u001b[0m\u001b[0;32mNone\u001b[0m\u001b[0;34m)\u001b[0m\u001b[0;34m:\u001b[0m\u001b[0;34m\u001b[0m\u001b[0;34m\u001b[0m\u001b[0m\n",
      "\u001b[0;32m/usr/local/lib/python3.6/dist-packages/datajoint/table.py\u001b[0m in \u001b[0;36minsert\u001b[0;34m(self, rows, replace, skip_duplicates, ignore_extra_fields, allow_direct_insert)\u001b[0m\n\u001b[1;32m    345\u001b[0m                                if skip_duplicates else ''))\n\u001b[1;32m    346\u001b[0m                 self.connection.query(query, args=list(\n\u001b[0;32m--> 347\u001b[0;31m                     itertools.chain.from_iterable((v for v in r['values'] if v is not None) for r in rows)))\n\u001b[0m\u001b[1;32m    348\u001b[0m             \u001b[0;32mexcept\u001b[0m \u001b[0mUnknownAttributeError\u001b[0m \u001b[0;32mas\u001b[0m \u001b[0merr\u001b[0m\u001b[0;34m:\u001b[0m\u001b[0;34m\u001b[0m\u001b[0;34m\u001b[0m\u001b[0m\n\u001b[1;32m    349\u001b[0m                 \u001b[0;32mraise\u001b[0m \u001b[0merr\u001b[0m\u001b[0;34m.\u001b[0m\u001b[0msuggest\u001b[0m\u001b[0;34m(\u001b[0m\u001b[0;34m'To ignore extra fields in insert, set ignore_extra_fields=True'\u001b[0m\u001b[0;34m)\u001b[0m \u001b[0;32mfrom\u001b[0m \u001b[0;32mNone\u001b[0m\u001b[0;34m\u001b[0m\u001b[0;34m\u001b[0m\u001b[0m\n",
      "\u001b[0;32m/usr/local/lib/python3.6/dist-packages/datajoint/connection.py\u001b[0m in \u001b[0;36mquery\u001b[0;34m(self, query, args, as_dict, suppress_warnings, reconnect)\u001b[0m\n\u001b[1;32m    212\u001b[0m         \u001b[0mcursor\u001b[0m \u001b[0;34m=\u001b[0m \u001b[0mself\u001b[0m\u001b[0;34m.\u001b[0m\u001b[0m_conn\u001b[0m\u001b[0;34m.\u001b[0m\u001b[0mcursor\u001b[0m\u001b[0;34m(\u001b[0m\u001b[0mcursor\u001b[0m\u001b[0;34m=\u001b[0m\u001b[0mcursor_class\u001b[0m\u001b[0;34m)\u001b[0m\u001b[0;34m\u001b[0m\u001b[0;34m\u001b[0m\u001b[0m\n\u001b[1;32m    213\u001b[0m         \u001b[0;32mtry\u001b[0m\u001b[0;34m:\u001b[0m\u001b[0;34m\u001b[0m\u001b[0;34m\u001b[0m\u001b[0m\n\u001b[0;32m--> 214\u001b[0;31m             \u001b[0mself\u001b[0m\u001b[0;34m.\u001b[0m\u001b[0m_execute_query\u001b[0m\u001b[0;34m(\u001b[0m\u001b[0mcursor\u001b[0m\u001b[0;34m,\u001b[0m \u001b[0mquery\u001b[0m\u001b[0;34m,\u001b[0m \u001b[0margs\u001b[0m\u001b[0;34m,\u001b[0m \u001b[0mcursor_class\u001b[0m\u001b[0;34m,\u001b[0m \u001b[0msuppress_warnings\u001b[0m\u001b[0;34m)\u001b[0m\u001b[0;34m\u001b[0m\u001b[0;34m\u001b[0m\u001b[0m\n\u001b[0m\u001b[1;32m    215\u001b[0m         \u001b[0;32mexcept\u001b[0m \u001b[0merrors\u001b[0m\u001b[0;34m.\u001b[0m\u001b[0mLostConnectionError\u001b[0m\u001b[0;34m:\u001b[0m\u001b[0;34m\u001b[0m\u001b[0;34m\u001b[0m\u001b[0m\n\u001b[1;32m    216\u001b[0m             \u001b[0;32mif\u001b[0m \u001b[0;32mnot\u001b[0m \u001b[0mreconnect\u001b[0m\u001b[0;34m:\u001b[0m\u001b[0;34m\u001b[0m\u001b[0;34m\u001b[0m\u001b[0m\n",
      "\u001b[0;32m/usr/local/lib/python3.6/dist-packages/datajoint/connection.py\u001b[0m in \u001b[0;36m_execute_query\u001b[0;34m(cursor, query, args, cursor_class, suppress_warnings)\u001b[0m\n\u001b[1;32m    194\u001b[0m                 \u001b[0mcursor\u001b[0m\u001b[0;34m.\u001b[0m\u001b[0mexecute\u001b[0m\u001b[0;34m(\u001b[0m\u001b[0mquery\u001b[0m\u001b[0;34m,\u001b[0m \u001b[0margs\u001b[0m\u001b[0;34m)\u001b[0m\u001b[0;34m\u001b[0m\u001b[0;34m\u001b[0m\u001b[0m\n\u001b[1;32m    195\u001b[0m         \u001b[0;32mexcept\u001b[0m \u001b[0mclient_errors\u001b[0m \u001b[0;32mas\u001b[0m \u001b[0merr\u001b[0m\u001b[0;34m:\u001b[0m\u001b[0;34m\u001b[0m\u001b[0;34m\u001b[0m\u001b[0m\n\u001b[0;32m--> 196\u001b[0;31m             \u001b[0;32mraise\u001b[0m \u001b[0mtranslate_query_error\u001b[0m\u001b[0;34m(\u001b[0m\u001b[0merr\u001b[0m\u001b[0;34m,\u001b[0m \u001b[0mquery\u001b[0m\u001b[0;34m)\u001b[0m \u001b[0;32mfrom\u001b[0m \u001b[0;32mNone\u001b[0m\u001b[0;34m\u001b[0m\u001b[0;34m\u001b[0m\u001b[0m\n\u001b[0m\u001b[1;32m    197\u001b[0m \u001b[0;34m\u001b[0m\u001b[0m\n\u001b[1;32m    198\u001b[0m     \u001b[0;32mdef\u001b[0m \u001b[0mquery\u001b[0m\u001b[0;34m(\u001b[0m\u001b[0mself\u001b[0m\u001b[0;34m,\u001b[0m \u001b[0mquery\u001b[0m\u001b[0;34m,\u001b[0m \u001b[0margs\u001b[0m\u001b[0;34m=\u001b[0m\u001b[0;34m(\u001b[0m\u001b[0;34m)\u001b[0m\u001b[0;34m,\u001b[0m \u001b[0;34m*\u001b[0m\u001b[0;34m,\u001b[0m \u001b[0mas_dict\u001b[0m\u001b[0;34m=\u001b[0m\u001b[0;32mFalse\u001b[0m\u001b[0;34m,\u001b[0m \u001b[0msuppress_warnings\u001b[0m\u001b[0;34m=\u001b[0m\u001b[0;32mTrue\u001b[0m\u001b[0;34m,\u001b[0m \u001b[0mreconnect\u001b[0m\u001b[0;34m=\u001b[0m\u001b[0;32mNone\u001b[0m\u001b[0;34m)\u001b[0m\u001b[0;34m:\u001b[0m\u001b[0;34m\u001b[0m\u001b[0;34m\u001b[0m\u001b[0m\n",
      "\u001b[0;32m/usr/local/lib/python3.6/dist-packages/datajoint/connection.py\u001b[0m in \u001b[0;36m_execute_query\u001b[0;34m(cursor, query, args, cursor_class, suppress_warnings)\u001b[0m\n\u001b[1;32m    192\u001b[0m                     \u001b[0;31m# suppress all warnings arising from underlying SQL library\u001b[0m\u001b[0;34m\u001b[0m\u001b[0;34m\u001b[0m\u001b[0;34m\u001b[0m\u001b[0m\n\u001b[1;32m    193\u001b[0m                     \u001b[0mwarnings\u001b[0m\u001b[0;34m.\u001b[0m\u001b[0msimplefilter\u001b[0m\u001b[0;34m(\u001b[0m\u001b[0;34m\"ignore\"\u001b[0m\u001b[0;34m)\u001b[0m\u001b[0;34m\u001b[0m\u001b[0;34m\u001b[0m\u001b[0m\n\u001b[0;32m--> 194\u001b[0;31m                 \u001b[0mcursor\u001b[0m\u001b[0;34m.\u001b[0m\u001b[0mexecute\u001b[0m\u001b[0;34m(\u001b[0m\u001b[0mquery\u001b[0m\u001b[0;34m,\u001b[0m \u001b[0margs\u001b[0m\u001b[0;34m)\u001b[0m\u001b[0;34m\u001b[0m\u001b[0;34m\u001b[0m\u001b[0m\n\u001b[0m\u001b[1;32m    195\u001b[0m         \u001b[0;32mexcept\u001b[0m \u001b[0mclient_errors\u001b[0m \u001b[0;32mas\u001b[0m \u001b[0merr\u001b[0m\u001b[0;34m:\u001b[0m\u001b[0;34m\u001b[0m\u001b[0;34m\u001b[0m\u001b[0m\n\u001b[1;32m    196\u001b[0m             \u001b[0;32mraise\u001b[0m \u001b[0mtranslate_query_error\u001b[0m\u001b[0;34m(\u001b[0m\u001b[0merr\u001b[0m\u001b[0;34m,\u001b[0m \u001b[0mquery\u001b[0m\u001b[0;34m)\u001b[0m \u001b[0;32mfrom\u001b[0m \u001b[0;32mNone\u001b[0m\u001b[0;34m\u001b[0m\u001b[0;34m\u001b[0m\u001b[0m\n",
      "\u001b[0;32m/usr/local/lib/python3.6/dist-packages/pymysql/cursors.py\u001b[0m in \u001b[0;36mexecute\u001b[0;34m(self, query, args)\u001b[0m\n\u001b[1;32m    161\u001b[0m         \u001b[0mquery\u001b[0m \u001b[0;34m=\u001b[0m \u001b[0mself\u001b[0m\u001b[0;34m.\u001b[0m\u001b[0mmogrify\u001b[0m\u001b[0;34m(\u001b[0m\u001b[0mquery\u001b[0m\u001b[0;34m,\u001b[0m \u001b[0margs\u001b[0m\u001b[0;34m)\u001b[0m\u001b[0;34m\u001b[0m\u001b[0;34m\u001b[0m\u001b[0m\n\u001b[1;32m    162\u001b[0m \u001b[0;34m\u001b[0m\u001b[0m\n\u001b[0;32m--> 163\u001b[0;31m         \u001b[0mresult\u001b[0m \u001b[0;34m=\u001b[0m \u001b[0mself\u001b[0m\u001b[0;34m.\u001b[0m\u001b[0m_query\u001b[0m\u001b[0;34m(\u001b[0m\u001b[0mquery\u001b[0m\u001b[0;34m)\u001b[0m\u001b[0;34m\u001b[0m\u001b[0;34m\u001b[0m\u001b[0m\n\u001b[0m\u001b[1;32m    164\u001b[0m         \u001b[0mself\u001b[0m\u001b[0;34m.\u001b[0m\u001b[0m_executed\u001b[0m \u001b[0;34m=\u001b[0m \u001b[0mquery\u001b[0m\u001b[0;34m\u001b[0m\u001b[0;34m\u001b[0m\u001b[0m\n\u001b[1;32m    165\u001b[0m         \u001b[0;32mreturn\u001b[0m \u001b[0mresult\u001b[0m\u001b[0;34m\u001b[0m\u001b[0;34m\u001b[0m\u001b[0m\n",
      "\u001b[0;32m/usr/local/lib/python3.6/dist-packages/pymysql/cursors.py\u001b[0m in \u001b[0;36m_query\u001b[0;34m(self, q)\u001b[0m\n\u001b[1;32m    319\u001b[0m         \u001b[0mself\u001b[0m\u001b[0;34m.\u001b[0m\u001b[0m_last_executed\u001b[0m \u001b[0;34m=\u001b[0m \u001b[0mq\u001b[0m\u001b[0;34m\u001b[0m\u001b[0;34m\u001b[0m\u001b[0m\n\u001b[1;32m    320\u001b[0m         \u001b[0mself\u001b[0m\u001b[0;34m.\u001b[0m\u001b[0m_clear_result\u001b[0m\u001b[0;34m(\u001b[0m\u001b[0;34m)\u001b[0m\u001b[0;34m\u001b[0m\u001b[0;34m\u001b[0m\u001b[0m\n\u001b[0;32m--> 321\u001b[0;31m         \u001b[0mconn\u001b[0m\u001b[0;34m.\u001b[0m\u001b[0mquery\u001b[0m\u001b[0;34m(\u001b[0m\u001b[0mq\u001b[0m\u001b[0;34m)\u001b[0m\u001b[0;34m\u001b[0m\u001b[0;34m\u001b[0m\u001b[0m\n\u001b[0m\u001b[1;32m    322\u001b[0m         \u001b[0mself\u001b[0m\u001b[0;34m.\u001b[0m\u001b[0m_do_get_result\u001b[0m\u001b[0;34m(\u001b[0m\u001b[0;34m)\u001b[0m\u001b[0;34m\u001b[0m\u001b[0;34m\u001b[0m\u001b[0m\n\u001b[1;32m    323\u001b[0m         \u001b[0;32mreturn\u001b[0m \u001b[0mself\u001b[0m\u001b[0;34m.\u001b[0m\u001b[0mrowcount\u001b[0m\u001b[0;34m\u001b[0m\u001b[0;34m\u001b[0m\u001b[0m\n",
      "\u001b[0;32m/usr/local/lib/python3.6/dist-packages/pymysql/connections.py\u001b[0m in \u001b[0;36mquery\u001b[0;34m(self, sql, unbuffered)\u001b[0m\n\u001b[1;32m    503\u001b[0m                 \u001b[0msql\u001b[0m \u001b[0;34m=\u001b[0m \u001b[0msql\u001b[0m\u001b[0;34m.\u001b[0m\u001b[0mencode\u001b[0m\u001b[0;34m(\u001b[0m\u001b[0mself\u001b[0m\u001b[0;34m.\u001b[0m\u001b[0mencoding\u001b[0m\u001b[0;34m,\u001b[0m \u001b[0;34m'surrogateescape'\u001b[0m\u001b[0;34m)\u001b[0m\u001b[0;34m\u001b[0m\u001b[0;34m\u001b[0m\u001b[0m\n\u001b[1;32m    504\u001b[0m         \u001b[0mself\u001b[0m\u001b[0;34m.\u001b[0m\u001b[0m_execute_command\u001b[0m\u001b[0;34m(\u001b[0m\u001b[0mCOMMAND\u001b[0m\u001b[0;34m.\u001b[0m\u001b[0mCOM_QUERY\u001b[0m\u001b[0;34m,\u001b[0m \u001b[0msql\u001b[0m\u001b[0;34m)\u001b[0m\u001b[0;34m\u001b[0m\u001b[0;34m\u001b[0m\u001b[0m\n\u001b[0;32m--> 505\u001b[0;31m         \u001b[0mself\u001b[0m\u001b[0;34m.\u001b[0m\u001b[0m_affected_rows\u001b[0m \u001b[0;34m=\u001b[0m \u001b[0mself\u001b[0m\u001b[0;34m.\u001b[0m\u001b[0m_read_query_result\u001b[0m\u001b[0;34m(\u001b[0m\u001b[0munbuffered\u001b[0m\u001b[0;34m=\u001b[0m\u001b[0munbuffered\u001b[0m\u001b[0;34m)\u001b[0m\u001b[0;34m\u001b[0m\u001b[0;34m\u001b[0m\u001b[0m\n\u001b[0m\u001b[1;32m    506\u001b[0m         \u001b[0;32mreturn\u001b[0m \u001b[0mself\u001b[0m\u001b[0;34m.\u001b[0m\u001b[0m_affected_rows\u001b[0m\u001b[0;34m\u001b[0m\u001b[0;34m\u001b[0m\u001b[0m\n\u001b[1;32m    507\u001b[0m \u001b[0;34m\u001b[0m\u001b[0m\n",
      "\u001b[0;32m/usr/local/lib/python3.6/dist-packages/pymysql/connections.py\u001b[0m in \u001b[0;36m_read_query_result\u001b[0;34m(self, unbuffered)\u001b[0m\n\u001b[1;32m    722\u001b[0m         \u001b[0;32melse\u001b[0m\u001b[0;34m:\u001b[0m\u001b[0;34m\u001b[0m\u001b[0;34m\u001b[0m\u001b[0m\n\u001b[1;32m    723\u001b[0m             \u001b[0mresult\u001b[0m \u001b[0;34m=\u001b[0m \u001b[0mMySQLResult\u001b[0m\u001b[0;34m(\u001b[0m\u001b[0mself\u001b[0m\u001b[0;34m)\u001b[0m\u001b[0;34m\u001b[0m\u001b[0;34m\u001b[0m\u001b[0m\n\u001b[0;32m--> 724\u001b[0;31m             \u001b[0mresult\u001b[0m\u001b[0;34m.\u001b[0m\u001b[0mread\u001b[0m\u001b[0;34m(\u001b[0m\u001b[0;34m)\u001b[0m\u001b[0;34m\u001b[0m\u001b[0;34m\u001b[0m\u001b[0m\n\u001b[0m\u001b[1;32m    725\u001b[0m         \u001b[0mself\u001b[0m\u001b[0;34m.\u001b[0m\u001b[0m_result\u001b[0m \u001b[0;34m=\u001b[0m \u001b[0mresult\u001b[0m\u001b[0;34m\u001b[0m\u001b[0;34m\u001b[0m\u001b[0m\n\u001b[1;32m    726\u001b[0m         \u001b[0;32mif\u001b[0m \u001b[0mresult\u001b[0m\u001b[0;34m.\u001b[0m\u001b[0mserver_status\u001b[0m \u001b[0;32mis\u001b[0m \u001b[0;32mnot\u001b[0m \u001b[0;32mNone\u001b[0m\u001b[0;34m:\u001b[0m\u001b[0;34m\u001b[0m\u001b[0;34m\u001b[0m\u001b[0m\n",
      "\u001b[0;32m/usr/local/lib/python3.6/dist-packages/pymysql/connections.py\u001b[0m in \u001b[0;36mread\u001b[0;34m(self)\u001b[0m\n\u001b[1;32m   1067\u001b[0m     \u001b[0;32mdef\u001b[0m \u001b[0mread\u001b[0m\u001b[0;34m(\u001b[0m\u001b[0mself\u001b[0m\u001b[0;34m)\u001b[0m\u001b[0;34m:\u001b[0m\u001b[0;34m\u001b[0m\u001b[0;34m\u001b[0m\u001b[0m\n\u001b[1;32m   1068\u001b[0m         \u001b[0;32mtry\u001b[0m\u001b[0;34m:\u001b[0m\u001b[0;34m\u001b[0m\u001b[0;34m\u001b[0m\u001b[0m\n\u001b[0;32m-> 1069\u001b[0;31m             \u001b[0mfirst_packet\u001b[0m \u001b[0;34m=\u001b[0m \u001b[0mself\u001b[0m\u001b[0;34m.\u001b[0m\u001b[0mconnection\u001b[0m\u001b[0;34m.\u001b[0m\u001b[0m_read_packet\u001b[0m\u001b[0;34m(\u001b[0m\u001b[0;34m)\u001b[0m\u001b[0;34m\u001b[0m\u001b[0;34m\u001b[0m\u001b[0m\n\u001b[0m\u001b[1;32m   1070\u001b[0m \u001b[0;34m\u001b[0m\u001b[0m\n\u001b[1;32m   1071\u001b[0m             \u001b[0;32mif\u001b[0m \u001b[0mfirst_packet\u001b[0m\u001b[0;34m.\u001b[0m\u001b[0mis_ok_packet\u001b[0m\u001b[0;34m(\u001b[0m\u001b[0;34m)\u001b[0m\u001b[0;34m:\u001b[0m\u001b[0;34m\u001b[0m\u001b[0;34m\u001b[0m\u001b[0m\n",
      "\u001b[0;32m/usr/local/lib/python3.6/dist-packages/pymysql/connections.py\u001b[0m in \u001b[0;36m_read_packet\u001b[0;34m(self, packet_type)\u001b[0m\n\u001b[1;32m    674\u001b[0m             \u001b[0;32mif\u001b[0m \u001b[0mself\u001b[0m\u001b[0;34m.\u001b[0m\u001b[0m_result\u001b[0m \u001b[0;32mis\u001b[0m \u001b[0;32mnot\u001b[0m \u001b[0;32mNone\u001b[0m \u001b[0;32mand\u001b[0m \u001b[0mself\u001b[0m\u001b[0;34m.\u001b[0m\u001b[0m_result\u001b[0m\u001b[0;34m.\u001b[0m\u001b[0munbuffered_active\u001b[0m \u001b[0;32mis\u001b[0m \u001b[0;32mTrue\u001b[0m\u001b[0;34m:\u001b[0m\u001b[0;34m\u001b[0m\u001b[0;34m\u001b[0m\u001b[0m\n\u001b[1;32m    675\u001b[0m                 \u001b[0mself\u001b[0m\u001b[0;34m.\u001b[0m\u001b[0m_result\u001b[0m\u001b[0;34m.\u001b[0m\u001b[0munbuffered_active\u001b[0m \u001b[0;34m=\u001b[0m \u001b[0;32mFalse\u001b[0m\u001b[0;34m\u001b[0m\u001b[0;34m\u001b[0m\u001b[0m\n\u001b[0;32m--> 676\u001b[0;31m             \u001b[0mpacket\u001b[0m\u001b[0;34m.\u001b[0m\u001b[0mraise_for_error\u001b[0m\u001b[0;34m(\u001b[0m\u001b[0;34m)\u001b[0m\u001b[0;34m\u001b[0m\u001b[0;34m\u001b[0m\u001b[0m\n\u001b[0m\u001b[1;32m    677\u001b[0m         \u001b[0;32mreturn\u001b[0m \u001b[0mpacket\u001b[0m\u001b[0;34m\u001b[0m\u001b[0;34m\u001b[0m\u001b[0m\n\u001b[1;32m    678\u001b[0m \u001b[0;34m\u001b[0m\u001b[0m\n",
      "\u001b[0;32m/usr/local/lib/python3.6/dist-packages/pymysql/protocol.py\u001b[0m in \u001b[0;36mraise_for_error\u001b[0;34m(self)\u001b[0m\n\u001b[1;32m    221\u001b[0m         \u001b[0merrno\u001b[0m \u001b[0;34m=\u001b[0m \u001b[0mself\u001b[0m\u001b[0;34m.\u001b[0m\u001b[0mread_uint16\u001b[0m\u001b[0;34m(\u001b[0m\u001b[0;34m)\u001b[0m\u001b[0;34m\u001b[0m\u001b[0;34m\u001b[0m\u001b[0m\n\u001b[1;32m    222\u001b[0m         \u001b[0;32mif\u001b[0m \u001b[0mDEBUG\u001b[0m\u001b[0;34m:\u001b[0m \u001b[0mprint\u001b[0m\u001b[0;34m(\u001b[0m\u001b[0;34m\"errno =\"\u001b[0m\u001b[0;34m,\u001b[0m \u001b[0merrno\u001b[0m\u001b[0;34m)\u001b[0m\u001b[0;34m\u001b[0m\u001b[0;34m\u001b[0m\u001b[0m\n\u001b[0;32m--> 223\u001b[0;31m         \u001b[0merr\u001b[0m\u001b[0;34m.\u001b[0m\u001b[0mraise_mysql_exception\u001b[0m\u001b[0;34m(\u001b[0m\u001b[0mself\u001b[0m\u001b[0;34m.\u001b[0m\u001b[0m_data\u001b[0m\u001b[0;34m)\u001b[0m\u001b[0;34m\u001b[0m\u001b[0;34m\u001b[0m\u001b[0m\n\u001b[0m\u001b[1;32m    224\u001b[0m \u001b[0;34m\u001b[0m\u001b[0m\n\u001b[1;32m    225\u001b[0m     \u001b[0;32mdef\u001b[0m \u001b[0mdump\u001b[0m\u001b[0;34m(\u001b[0m\u001b[0mself\u001b[0m\u001b[0;34m)\u001b[0m\u001b[0;34m:\u001b[0m\u001b[0;34m\u001b[0m\u001b[0;34m\u001b[0m\u001b[0m\n",
      "\u001b[0;32m/usr/local/lib/python3.6/dist-packages/pymysql/err.py\u001b[0m in \u001b[0;36mraise_mysql_exception\u001b[0;34m(data)\u001b[0m\n\u001b[1;32m    105\u001b[0m     \u001b[0;32mif\u001b[0m \u001b[0merrorclass\u001b[0m \u001b[0;32mis\u001b[0m \u001b[0;32mNone\u001b[0m\u001b[0;34m:\u001b[0m\u001b[0;34m\u001b[0m\u001b[0;34m\u001b[0m\u001b[0m\n\u001b[1;32m    106\u001b[0m         \u001b[0merrorclass\u001b[0m \u001b[0;34m=\u001b[0m \u001b[0mInternalError\u001b[0m \u001b[0;32mif\u001b[0m \u001b[0merrno\u001b[0m \u001b[0;34m<\u001b[0m \u001b[0;36m1000\u001b[0m \u001b[0;32melse\u001b[0m \u001b[0mOperationalError\u001b[0m\u001b[0;34m\u001b[0m\u001b[0;34m\u001b[0m\u001b[0m\n\u001b[0;32m--> 107\u001b[0;31m     \u001b[0;32mraise\u001b[0m \u001b[0merrorclass\u001b[0m\u001b[0;34m(\u001b[0m\u001b[0merrno\u001b[0m\u001b[0;34m,\u001b[0m \u001b[0merrval\u001b[0m\u001b[0;34m)\u001b[0m\u001b[0;34m\u001b[0m\u001b[0;34m\u001b[0m\u001b[0m\n\u001b[0m",
      "\u001b[0;31mOperationalError\u001b[0m: (1213, 'Deadlock found when trying to get lock; try restarting transaction')"
     ]
    }
   ],
   "source": [
    "import time\n",
    "start_time = time.time()\n",
    "#time.sleep(random.randint(0, 900))\n",
    "print('Populate Started')\n",
    "BaylorSegmentCentroidExternal.populate(reserve_jobs=True, suppress_errors=False)#, order='random')\n",
    "print('Populate Done')\n",
    "\n",
    "print(f\"Total time for BaylorSegmentCentroid populate = {time.time() - start_time}\")"
   ]
  },
  {
   "cell_type": "code",
   "execution_count": null,
   "metadata": {},
   "outputs": [],
   "source": [
    "#schema.external['somas'].delete(delete_external_files=True)"
   ]
  },
  {
   "cell_type": "code",
   "execution_count": null,
   "metadata": {},
   "outputs": [],
   "source": []
  }
 ],
 "metadata": {
  "kernelspec": {
   "display_name": "Python 3",
   "language": "python",
   "name": "python3"
  },
  "language_info": {
   "codemirror_mode": {
    "name": "ipython",
    "version": 3
   },
   "file_extension": ".py",
   "mimetype": "text/x-python",
   "name": "python",
   "nbconvert_exporter": "python",
   "pygments_lexer": "ipython3",
   "version": "3.6.9"
  }
 },
 "nbformat": 4,
 "nbformat_minor": 4
}
