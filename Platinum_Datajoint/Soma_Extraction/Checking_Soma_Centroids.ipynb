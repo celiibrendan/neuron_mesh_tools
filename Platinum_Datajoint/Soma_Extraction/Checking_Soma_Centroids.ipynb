{
 "cells": [
  {
   "cell_type": "code",
   "execution_count": 1,
   "metadata": {},
   "outputs": [
    {
     "name": "stdout",
     "output_type": "stream",
     "text": [
      "Connecting celiib@at-database.ad.bcm.edu:3306\n"
     ]
    },
    {
     "name": "stderr",
     "output_type": "stream",
     "text": [
      "WARNING:root:Need to pip install annotationframeworkclient to repair mesh with pychunkedgraph\n",
      "WARNING:root:Need to pip install annotationframeworkclient to use dataset_name parameters\n"
     ]
    }
   ],
   "source": [
    "import numpy as np\n",
    "import datajoint as dj\n",
    "import trimesh\n",
    "from tqdm.notebook import tqdm\n",
    "from pathlib import Path\n",
    "\n",
    "from os import sys\n",
    "sys.path.append(\"/meshAfterParty/\")\n",
    "\n",
    "import datajoint_utils as du\n",
    "from importlib import reload\n",
    "import soma_extraction_utils as sm"
   ]
  },
  {
   "cell_type": "code",
   "execution_count": 2,
   "metadata": {},
   "outputs": [
    {
     "name": "stderr",
     "output_type": "stream",
     "text": [
      "INFO:datajoint.settings:Setting database.host to at-database.ad.bcm.edu\n",
      "INFO:datajoint.settings:Setting database.user to celiib\n",
      "INFO:datajoint.settings:Setting database.password to newceliipass\n"
     ]
    }
   ],
   "source": [
    "du.config_celii()"
   ]
  },
  {
   "cell_type": "markdown",
   "metadata": {},
   "source": [
    "# debugging"
   ]
  },
  {
   "cell_type": "code",
   "execution_count": null,
   "metadata": {},
   "outputs": [],
   "source": [
    "dj.config[\"\"]"
   ]
  },
  {
   "cell_type": "code",
   "execution_count": null,
   "metadata": {},
   "outputs": [],
   "source": [
    "import system_utils as su\n",
    "new_submesh = su.decompress_pickle(\"./new_submesh\")"
   ]
  },
  {
   "cell_type": "code",
   "execution_count": null,
   "metadata": {},
   "outputs": [],
   "source": [
    "new_submesh.split(only_watertight=False,repair=False)"
   ]
  },
  {
   "cell_type": "code",
   "execution_count": null,
   "metadata": {},
   "outputs": [],
   "source": [
    "import minfig\n",
    "du.set_minnie65_config_segmentation(minfig)\n",
    "du.print_minnie65_config_paths(minfig)"
   ]
  },
  {
   "cell_type": "code",
   "execution_count": null,
   "metadata": {},
   "outputs": [],
   "source": [
    "minnie = minfig.configure_minnie(return_virtual_module=True)\n",
    "\n",
    "# Old way of getting access to the virtual modules\n",
    "# m65 = dj.create_virtual_module('minnie', 'microns_minnie65_02')\n",
    "\n",
    "#New way of getting access to module\n",
    "import datajoint as dj\n",
    "from minfig import adapter_objects # included with wildcard imports\n",
    "minnie = dj.create_virtual_module('minnie', 'microns_minnie65_02', add_objects=adapter_objects)\n",
    "\n",
    "schema = dj.schema(\"microns_minnie65_02\")\n",
    "dj.config[\"enable_python_native_blobs\"] = True\n",
    "#(schema.jobs & \"table_name='__baylor_segment_centroid_seg3'\").delete()"
   ]
  },
  {
   "cell_type": "markdown",
   "metadata": {},
   "source": [
    "# Fetching and Visualizing Meshes"
   ]
  },
  {
   "cell_type": "code",
   "execution_count": null,
   "metadata": {},
   "outputs": [],
   "source": [
    "# def get_decimated_mesh(seg_id,decimation_ratio=0.25):\n",
    "#     key = dict(segment_id=seg_id,decimation_ratio=decimation_ratio)\n",
    "#     new_mesh = (minnie.Decimation() & key).fetch1(\"mesh\")\n",
    "#     current_mesh_verts,current_mesh_faces = new_mesh.vertices,new_mesh.faces\n",
    "#     return trimesh.Trimesh(vertices=current_mesh_verts,faces=current_mesh_faces)\n",
    "\n",
    "# def get_seg_extracted_somas(seg_id):\n",
    "#     key = dict(segment_id=seg_id)  \n",
    "#     soma_vertices, soma_faces = (minnie.BaylorSegmentCentroid() & key).fetch(\"soma_vertices\",\"soma_faces\")\n",
    "#     return [trimesh.Trimesh(vertices=v,faces=f) for v,f in zip(soma_vertices, soma_faces)]\n",
    "# def get_soma_mesh_list(seg_id):\n",
    "#     key = dict(segment_id=seg_id)  \n",
    "#     soma_vertices, soma_faces,soma_run_time,soma_sdf = (minnie.BaylorSegmentCentroid() & key).fetch(\"soma_vertices\",\"soma_faces\",\"run_time\",\"sdf\")\n",
    "#     s_meshes = [trimesh.Trimesh(vertices=v,faces=f) for v,f in zip(soma_vertices, soma_faces)]\n",
    "#     s_times = list(soma_run_time)\n",
    "#     s_sdfs = list(soma_sdf)\n",
    "#     return [s_meshes,s_times,s_sdfs]"
   ]
  },
  {
   "cell_type": "code",
   "execution_count": null,
   "metadata": {},
   "outputs": [],
   "source": [
    "# multi_soma_seg_ids = np.unique(multi_soma_seg_ids)\n",
    "# seg_id_idx = -2\n",
    "# seg_id = multi_soma_seg_ids[seg_id_idx]\n",
    "\n",
    "# dec_mesh = get_decimated_mesh(seg_id)\n",
    "# curr_soma_meshes = get_seg_extracted_somas(seg_id)\n",
    "# curr_soma_mesh_list = get_soma_mesh_list(seg_id)\n",
    "\n",
    "# import skeleton_utils as sk\n",
    "# sk.graph_skeleton_and_mesh(main_mesh_verts=dec_mesh.vertices,\n",
    "#                            main_mesh_faces=dec_mesh.faces,\n",
    "#                         other_meshes=curr_soma_meshes,\n",
    "#                           other_meshes_colors=\"red\")"
   ]
  },
  {
   "cell_type": "markdown",
   "metadata": {},
   "source": [
    "# Exploring the New Query and Seeing if matches up with nucleus id:"
   ]
  },
  {
   "cell_type": "code",
   "execution_count": null,
   "metadata": {},
   "outputs": [],
   "source": [
    "decimation_ratio = 0.25\n",
    "\n",
    "valid_segment_ids_with_nucleus_id = dj.U(\"segment_id\") & (minnie.NucleusID() & \"segment_id>0\")\n",
    "segments = (minnie.Mesh() & f'n_vertices  > {np.str(np.round(np.exp(12)).astype(np.int))}' & f'n_vertices  < {np.str(np.round(np.exp(15)).astype(np.int))}')\n",
    "key_source =  minnie.Decimation.proj(decimation_version='version') & segments.proj() & f\"decimation_ratio={decimation_version}\" & valid_segment_ids_with_nucleus_id\n",
    "key_source"
   ]
  },
  {
   "cell_type": "code",
   "execution_count": null,
   "metadata": {},
   "outputs": [],
   "source": [
    "valid_segment_ids_with_nucleus = key_source.fetch(\"segment_id\")\n",
    "valid_segment_ids_with_nucleus"
   ]
  },
  {
   "cell_type": "code",
   "execution_count": null,
   "metadata": {},
   "outputs": [],
   "source": [
    "true_negatives=[4,6]\n",
    "false_positives=[13,15]"
   ]
  },
  {
   "cell_type": "code",
   "execution_count": null,
   "metadata": {
    "scrolled": true
   },
   "outputs": [],
   "source": [
    "du = reload(du)\n",
    "seg_id_idx = 21\n",
    "seg_id = valid_segment_ids_with_nucleus[seg_id_idx]\n",
    "du.plot_decimated_mesh_with_somas(seg_id)\n",
    "\n",
    "#error_poisson_somas = du.get_seg_extracted_somas(seg_id)\n",
    "error_mesh = du.get_decimated_mesh(seg_id)\n",
    "\n",
    "# error_backtrack_somas = sm.original_mesh_soma(\n",
    "#                     mesh = error_mesh,\n",
    "#                     soma_meshes=error_poisson_somas,\n",
    "#                     sig_th_initial_split=15)\n",
    "\n",
    "import trimesh_utils as tu\n",
    "sm = reload(sm)\n",
    "tu = reload(tu)\n",
    "meshlab= reload(meshlab)\n",
    "\n",
    "soma_data = sm.extract_soma_center(seg_id,\n",
    "                      error_mesh.vertices,\n",
    "                      error_mesh.faces,\n",
    "                                   side_length_ratio_threshold=6,\n",
    "                                  backtrack_soma_mesh_to_original=True,\n",
    "                                   boundary_vertices_threshold=None,\n",
    "                        poisson_backtrack_distance_threshold=None,\n",
    "                                   close_holes=False\n",
    "                                  )\n"
   ]
  },
  {
   "cell_type": "code",
   "execution_count": null,
   "metadata": {},
   "outputs": [],
   "source": [
    "print(f\"seg_id_idx = {seg_id_idx}\")\n",
    "soma_meshes,_,_ = soma_data\n",
    "print(f\"len(soma_meshes) = {len(soma_meshes)}\")\n",
    "\n",
    "import skeleton_utils as sk\n",
    "sk.graph_skeleton_and_mesh(other_meshes=[error_mesh] + soma_meshes,\n",
    "                          other_meshes_colors=[\"yellow\",\"red\"],\n",
    "                          mesh_alpha=1\n",
    "                        )"
   ]
  },
  {
   "cell_type": "code",
   "execution_count": null,
   "metadata": {},
   "outputs": [],
   "source": [
    "print(f\"seg_id_idx = {seg_id_idx}\")\n",
    "import skeleton_utils as sk\n",
    "sk.graph_skeleton_and_mesh(other_meshes=soma_meshes,\n",
    "                          other_meshes_colors=[\"red\"],\n",
    "                          mesh_alpha=1\n",
    "                        )"
   ]
  },
  {
   "cell_type": "code",
   "execution_count": null,
   "metadata": {},
   "outputs": [],
   "source": [
    "# Remove Faces From Non Manifold Edges"
   ]
  },
  {
   "cell_type": "code",
   "execution_count": null,
   "metadata": {},
   "outputs": [],
   "source": [
    "# import meshlab\n",
    "# #meshlab = reload(meshlab)\n",
    "# fill_hole_obj = meshlab.FillHoles(max_hole_size=2000,\n",
    "#                  self_itersect_faces=False)\n",
    "\n",
    "# error_mesh_closed_holes,_ = fill_hole_obj(vertices=error_mesh.vertices,\n",
    "#              faces=error_mesh.faces)\n",
    "\n",
    "# sk.graph_skeleton_and_mesh(other_meshes=[error_mesh,error_mesh_closed_holes],\n",
    "#                           other_meshes_colors=[\"black\",\"red\"],\n",
    "#                           mesh_alpha=1)"
   ]
  },
  {
   "cell_type": "code",
   "execution_count": null,
   "metadata": {},
   "outputs": [],
   "source": [
    "str(False).lower()"
   ]
  },
  {
   "cell_type": "markdown",
   "metadata": {},
   "source": [
    "# Plots the soma"
   ]
  },
  {
   "cell_type": "code",
   "execution_count": null,
   "metadata": {},
   "outputs": [],
   "source": [
    "soma_meshes"
   ]
  },
  {
   "cell_type": "code",
   "execution_count": null,
   "metadata": {
    "scrolled": true
   },
   "outputs": [],
   "source": []
  },
  {
   "cell_type": "code",
   "execution_count": null,
   "metadata": {},
   "outputs": [],
   "source": [
    "sk.graph_skeleton_and_mesh(other_meshes=soma_meshes)"
   ]
  },
  {
   "cell_type": "markdown",
   "metadata": {},
   "source": [
    "# Debugging the new soma mesh finder "
   ]
  },
  {
   "cell_type": "code",
   "execution_count": null,
   "metadata": {},
   "outputs": [],
   "source": []
  },
  {
   "cell_type": "code",
   "execution_count": null,
   "metadata": {},
   "outputs": [],
   "source": []
  },
  {
   "cell_type": "code",
   "execution_count": null,
   "metadata": {},
   "outputs": [],
   "source": []
  },
  {
   "cell_type": "code",
   "execution_count": null,
   "metadata": {},
   "outputs": [],
   "source": []
  },
  {
   "cell_type": "markdown",
   "metadata": {},
   "source": [
    "# -- getting neurons to help test on -- "
   ]
  },
  {
   "cell_type": "code",
   "execution_count": null,
   "metadata": {},
   "outputs": [],
   "source": [
    "# sm = reload(sm)"
   ]
  },
  {
   "cell_type": "code",
   "execution_count": null,
   "metadata": {},
   "outputs": [],
   "source": [
    "# import neuron_utils as nru\n",
    "# filepath = \"/notebooks/test_neurons/meshafterparty_processed/12345_double_soma_meshafterparty_fixed_connectors_and_spines\"\n",
    "# double_neuron = nru.decompress_neuron(\n",
    "#     filepath=filepath,\n",
    "#     original_mesh=filepath,\n",
    "# )\n",
    "\n"
   ]
  },
  {
   "cell_type": "code",
   "execution_count": null,
   "metadata": {
    "scrolled": true
   },
   "outputs": [],
   "source": [
    "# sm = reload(sm)\n",
    "# double_neuron_poisson_somas = sm.extract_soma_center(double_neuron.segment_id,\n",
    "#                                                     double_neuron.mesh.vertices,\n",
    "#                                                     double_neuron.mesh.faces)\n",
    "# d_neuron_poisson_somas,_ , _ = double_neuron_poisson_somas\n",
    "# d_neuron_backtrack_somas,_,_ = double_neuron.get_somas()"
   ]
  },
  {
   "cell_type": "markdown",
   "metadata": {},
   "source": [
    "# -- Getting other meshes to try -- "
   ]
  },
  {
   "cell_type": "code",
   "execution_count": null,
   "metadata": {},
   "outputs": [],
   "source": [
    "# exc_1 = tu.load_mesh_no_processing(\"/notebooks/test_neurons/spine_detection/95442489112204099_excitatory_7.off\")\n",
    "# soma_data = sm.extract_soma_center(1234,exc_1.vertices,exc_1.faces)"
   ]
  },
  {
   "cell_type": "code",
   "execution_count": null,
   "metadata": {},
   "outputs": [],
   "source": [
    "# exc_1_poisson_somas,_,_ = soma_data\n",
    "# exc_1_backtrack_somas = sm.original_mesh_soma(\n",
    "#                     mesh = exc_1,\n",
    "#                     soma_meshes=exc_1_poisson_somas,\n",
    "#                     sig_th_initial_split=15)"
   ]
  },
  {
   "cell_type": "code",
   "execution_count": null,
   "metadata": {},
   "outputs": [],
   "source": [
    "# exc_1_poisson_somas,exc_1_backtrack_somas"
   ]
  },
  {
   "cell_type": "code",
   "execution_count": null,
   "metadata": {},
   "outputs": [],
   "source": [
    "# sk.graph_skeleton_and_mesh(other_meshes=exc_1_poisson_somas+exc_1_backtrack_somas,\n",
    "#                           other_meshes_colors=[\"black\",\"red\"])"
   ]
  },
  {
   "cell_type": "markdown",
   "metadata": {},
   "source": [
    "# --- Checking Neurons that should be processed -- "
   ]
  },
  {
   "cell_type": "code",
   "execution_count": null,
   "metadata": {},
   "outputs": [],
   "source": []
  },
  {
   "cell_type": "code",
   "execution_count": null,
   "metadata": {},
   "outputs": [],
   "source": [
    "# valid_segment_ids_with_nucleus_id = dj.U(\"segment_id\") & (minnie.NucleusID() & \"segment_id>0\")"
   ]
  },
  {
   "cell_type": "code",
   "execution_count": null,
   "metadata": {},
   "outputs": [],
   "source": [
    "# len(minnie.NucleusID() & all_nucleus_id_segs)"
   ]
  },
  {
   "cell_type": "code",
   "execution_count": null,
   "metadata": {},
   "outputs": [],
   "source": [
    "# len(minnie.NucleusID() & \"segment_id>0\")"
   ]
  },
  {
   "cell_type": "code",
   "execution_count": null,
   "metadata": {},
   "outputs": [],
   "source": [
    "# minnie.NucleusCorePostsyn() & \"n_soma = 2\"# robust table "
   ]
  },
  {
   "cell_type": "code",
   "execution_count": null,
   "metadata": {},
   "outputs": [],
   "source": []
  },
  {
   "cell_type": "code",
   "execution_count": null,
   "metadata": {},
   "outputs": [],
   "source": []
  },
  {
   "cell_type": "markdown",
   "metadata": {},
   "source": [
    "# Apply a check that looks and sees if has a border that is too big"
   ]
  },
  {
   "cell_type": "code",
   "execution_count": null,
   "metadata": {},
   "outputs": [],
   "source": []
  }
 ],
 "metadata": {
  "kernelspec": {
   "display_name": "Python 3",
   "language": "python",
   "name": "python3"
  },
  "language_info": {
   "codemirror_mode": {
    "name": "ipython",
    "version": 3
   },
   "file_extension": ".py",
   "mimetype": "text/x-python",
   "name": "python",
   "nbconvert_exporter": "python",
   "pygments_lexer": "ipython3",
   "version": "3.6.9"
  }
 },
 "nbformat": 4,
 "nbformat_minor": 4
}
