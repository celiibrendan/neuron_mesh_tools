{
 "cells": [
  {
   "cell_type": "code",
   "execution_count": 1,
   "metadata": {},
   "outputs": [
    {
     "name": "stdout",
     "output_type": "stream",
     "text": [
      "Connecting celiib@10.28.0.34:3306\n"
     ]
    },
    {
     "name": "stderr",
     "output_type": "stream",
     "text": [
      "WARNING:root:Need to pip install annotationframeworkclient to repair mesh with pychunkedgraph\n",
      "WARNING:root:Need to pip install annotationframeworkclient to use dataset_name parameters\n"
     ]
    }
   ],
   "source": [
    "import numpy as np\n",
    "import datajoint as dj\n",
    "import trimesh\n",
    "from tqdm.notebook import tqdm\n",
    "from pathlib import Path\n",
    "\n",
    "from os import sys\n",
    "sys.path.append(\"/meshAfterParty/\")\n",
    "\n",
    "import datajoint_utils as du\n",
    "from importlib import reload\n",
    "import soma_extraction_utils as sm"
   ]
  },
  {
   "cell_type": "markdown",
   "metadata": {},
   "source": [
    "# debugging"
   ]
  },
  {
   "cell_type": "code",
   "execution_count": 2,
   "metadata": {},
   "outputs": [],
   "source": [
    "import system_utils as su\n",
    "new_submesh = su.decompress_pickle(\"./new_submesh\")"
   ]
  },
  {
   "cell_type": "code",
   "execution_count": 3,
   "metadata": {},
   "outputs": [
    {
     "data": {
      "text/plain": [
       "array([<trimesh.Trimesh(vertices.shape=(83, 3), faces.shape=(178, 3))>],\n",
       "      dtype=object)"
      ]
     },
     "execution_count": 3,
     "metadata": {},
     "output_type": "execute_result"
    }
   ],
   "source": [
    "new_submesh.split(only_watertight=False,repair=False)"
   ]
  },
  {
   "cell_type": "code",
   "execution_count": 4,
   "metadata": {},
   "outputs": [
    {
     "name": "stdout",
     "output_type": "stream",
     "text": [
      "Current path for external_segmentation_path = /mnt/dj-stor01/platinum/minnie65/02\n",
      "Current path for external_mesh_path = /mnt/dj-stor01/platinum/minnie65/02/meshes\n",
      "Current path for external_decimated_mesh_path = /mnt/dj-stor01/platinum/minnie65/02/decimated_meshes\n",
      "Current path for external_skeleton_path = /mnt/dj-stor01/platinum/minnie65/02/skeletons\n"
     ]
    }
   ],
   "source": [
    "import minfig\n",
    "du.set_minnie65_config_segmentation(minfig)\n",
    "du.print_minnie65_config_paths(minfig)"
   ]
  },
  {
   "cell_type": "code",
   "execution_count": 5,
   "metadata": {},
   "outputs": [
    {
     "name": "stderr",
     "output_type": "stream",
     "text": [
      "INFO:datajoint.settings:Setting enable_python_native_blobs to True\n",
      "INFO:datajoint.settings:Setting enable_python_native_blobs to True\n"
     ]
    }
   ],
   "source": [
    "minnie = minfig.configure_minnie(return_virtual_module=True)\n",
    "\n",
    "# Old way of getting access to the virtual modules\n",
    "# m65 = dj.create_virtual_module('minnie', 'microns_minnie65_02')\n",
    "\n",
    "#New way of getting access to module\n",
    "import datajoint as dj\n",
    "from minfig import adapter_objects # included with wildcard imports\n",
    "minnie = dj.create_virtual_module('minnie', 'microns_minnie65_02', add_objects=adapter_objects)\n",
    "\n",
    "schema = dj.schema(\"microns_minnie65_02\")\n",
    "dj.config[\"enable_python_native_blobs\"] = True\n",
    "#(schema.jobs & \"table_name='__baylor_segment_centroid_seg3'\").delete()"
   ]
  },
  {
   "cell_type": "markdown",
   "metadata": {},
   "source": [
    "# Fetching and Visualizing Meshes"
   ]
  },
  {
   "cell_type": "code",
   "execution_count": 6,
   "metadata": {},
   "outputs": [],
   "source": [
    "# def get_decimated_mesh(seg_id,decimation_ratio=0.25):\n",
    "#     key = dict(segment_id=seg_id,decimation_ratio=decimation_ratio)\n",
    "#     new_mesh = (minnie.Decimation() & key).fetch1(\"mesh\")\n",
    "#     current_mesh_verts,current_mesh_faces = new_mesh.vertices,new_mesh.faces\n",
    "#     return trimesh.Trimesh(vertices=current_mesh_verts,faces=current_mesh_faces)\n",
    "\n",
    "# def get_seg_extracted_somas(seg_id):\n",
    "#     key = dict(segment_id=seg_id)  \n",
    "#     soma_vertices, soma_faces = (minnie.BaylorSegmentCentroid() & key).fetch(\"soma_vertices\",\"soma_faces\")\n",
    "#     return [trimesh.Trimesh(vertices=v,faces=f) for v,f in zip(soma_vertices, soma_faces)]\n",
    "# def get_soma_mesh_list(seg_id):\n",
    "#     key = dict(segment_id=seg_id)  \n",
    "#     soma_vertices, soma_faces,soma_run_time,soma_sdf = (minnie.BaylorSegmentCentroid() & key).fetch(\"soma_vertices\",\"soma_faces\",\"run_time\",\"sdf\")\n",
    "#     s_meshes = [trimesh.Trimesh(vertices=v,faces=f) for v,f in zip(soma_vertices, soma_faces)]\n",
    "#     s_times = list(soma_run_time)\n",
    "#     s_sdfs = list(soma_sdf)\n",
    "#     return [s_meshes,s_times,s_sdfs]"
   ]
  },
  {
   "cell_type": "code",
   "execution_count": 7,
   "metadata": {},
   "outputs": [],
   "source": [
    "# multi_soma_seg_ids = np.unique(multi_soma_seg_ids)\n",
    "# seg_id_idx = -2\n",
    "# seg_id = multi_soma_seg_ids[seg_id_idx]\n",
    "\n",
    "# dec_mesh = get_decimated_mesh(seg_id)\n",
    "# curr_soma_meshes = get_seg_extracted_somas(seg_id)\n",
    "# curr_soma_mesh_list = get_soma_mesh_list(seg_id)\n",
    "\n",
    "# import skeleton_utils as sk\n",
    "# sk.graph_skeleton_and_mesh(main_mesh_verts=dec_mesh.vertices,\n",
    "#                            main_mesh_faces=dec_mesh.faces,\n",
    "#                         other_meshes=curr_soma_meshes,\n",
    "#                           other_meshes_colors=\"red\")"
   ]
  },
  {
   "cell_type": "markdown",
   "metadata": {},
   "source": [
    "# Exploring the New Query and Seeing if matches up with nucleus id:"
   ]
  },
  {
   "cell_type": "code",
   "execution_count": 45,
   "metadata": {},
   "outputs": [
    {
     "data": {
      "text/html": [
       "\n",
       "        \n",
       "        <style type=\"text/css\">\n",
       "            .Relation{\n",
       "                border-collapse:collapse;\n",
       "            }\n",
       "            .Relation th{\n",
       "                background: #A0A0A0; color: #ffffff; padding:4px; border:#f0e0e0 1px solid;\n",
       "                font-weight: normal; font-family: monospace; font-size: 100%;\n",
       "            }\n",
       "            .Relation td{\n",
       "                padding:4px; border:#f0e0e0 1px solid; font-size:100%;\n",
       "            }\n",
       "            .Relation tr:nth-child(odd){\n",
       "                background: #ffffff;\n",
       "            }\n",
       "            .Relation tr:nth-child(even){\n",
       "                background: #f3f1ff;\n",
       "            }\n",
       "            /* Tooltip container */\n",
       "            .djtooltip {\n",
       "            }\n",
       "            /* Tooltip text */\n",
       "            .djtooltip .djtooltiptext {\n",
       "                visibility: hidden;\n",
       "                width: 120px;\n",
       "                background-color: black;\n",
       "                color: #fff;\n",
       "                text-align: center;\n",
       "                padding: 5px 0;\n",
       "                border-radius: 6px;\n",
       "                /* Position the tooltip text - see examples below! */\n",
       "                position: absolute;\n",
       "                z-index: 1;\n",
       "            }\n",
       "            #primary {\n",
       "                font-weight: bold;\n",
       "                color: black;\n",
       "            }\n",
       "\n",
       "            #nonprimary {\n",
       "                font-weight: normal;\n",
       "                color: white;\n",
       "            }\n",
       "\n",
       "            /* Show the tooltip text when you mouse over the tooltip container */\n",
       "            .djtooltip:hover .djtooltiptext {\n",
       "                visibility: visible;\n",
       "            }\n",
       "        </style>\n",
       "        \n",
       "        \n",
       "            <div style=\"max-height:1000px;max-width:1500px;overflow:auto;\">\n",
       "            <table border=\"1\" class=\"Relation\">\n",
       "                <thead> <tr style=\"text-align: right;\"> <th> <div class=\"djtooltip\">\n",
       "                                <p id=\"primary\">segment_id</p>\n",
       "                                <span class=\"djtooltiptext\">segment id unique within each Segmentation</span>\n",
       "                            </div></th><th><div class=\"djtooltip\">\n",
       "                                <p id=\"primary\">decimation_version</p>\n",
       "                                <span class=\"djtooltiptext\"></span>\n",
       "                            </div></th><th><div class=\"djtooltip\">\n",
       "                                <p id=\"primary\">decimation_ratio</p>\n",
       "                                <span class=\"djtooltiptext\">ratio of remaining mesh vertices/faces (which ones depends on what metric the decimation technique uses)</span>\n",
       "                            </div> </th> </tr> </thead>\n",
       "                <tbody> <tr> <td>864691135635239593</td>\n",
       "<td>0</td>\n",
       "<td>0.25</td></tr><tr><td>864691135618175635</td>\n",
       "<td>0</td>\n",
       "<td>0.25</td></tr><tr><td>864691135584809548</td>\n",
       "<td>0</td>\n",
       "<td>0.25</td></tr><tr><td>864691135679304325</td>\n",
       "<td>0</td>\n",
       "<td>0.25</td></tr><tr><td>864691136143741847</td>\n",
       "<td>0</td>\n",
       "<td>0.25</td></tr><tr><td>864691136148842647</td>\n",
       "<td>0</td>\n",
       "<td>0.25</td></tr><tr><td>864691136143284631</td>\n",
       "<td>0</td>\n",
       "<td>0.25</td></tr><tr><td>864691136745551332</td>\n",
       "<td>0</td>\n",
       "<td>0.25</td></tr><tr><td>864691136315868311</td>\n",
       "<td>0</td>\n",
       "<td>0.25</td></tr><tr><td>864691136324529047</td>\n",
       "<td>0</td>\n",
       "<td>0.25</td></tr><tr><td>864691136292100759</td>\n",
       "<td>0</td>\n",
       "<td>0.25</td></tr><tr><td>864691136745398500</td>\n",
       "<td>0</td>\n",
       "<td>0.25</td> </tr> </tbody>\n",
       "            </table>\n",
       "            <p>...</p>\n",
       "            <p>Total: 13129</p></div>\n",
       "            "
      ],
      "text/plain": [
       "*segment_id    *decimation_ve *decimation_ra\n",
       "+------------+ +------------+ +------------+\n",
       "86469113563523 0              0.25          \n",
       "86469113561817 0              0.25          \n",
       "86469113558480 0              0.25          \n",
       "86469113567930 0              0.25          \n",
       "86469113614374 0              0.25          \n",
       "86469113614884 0              0.25          \n",
       "86469113614328 0              0.25          \n",
       "86469113674555 0              0.25          \n",
       "86469113631586 0              0.25          \n",
       "86469113632452 0              0.25          \n",
       "86469113629210 0              0.25          \n",
       "86469113674539 0              0.25          \n",
       "   ...\n",
       " (Total: 13129)"
      ]
     },
     "execution_count": 45,
     "metadata": {},
     "output_type": "execute_result"
    }
   ],
   "source": [
    "decimation_ratio = 0.25\n",
    "\n",
    "valid_segment_ids_with_nucleus_id = dj.U(\"segment_id\") & (minnie.NucleusID() & \"segment_id>0\")\n",
    "segments = (minnie.Mesh() & f'n_vertices  > {np.str(np.round(np.exp(12)).astype(np.int))}' & f'n_vertices  < {np.str(np.round(np.exp(15)).astype(np.int))}')\n",
    "key_source =  minnie.Decimation.proj(decimation_version='version') & segments.proj() & f\"decimation_ratio={decimation_version}\" & valid_segment_ids_with_nucleus_id\n",
    "key_source"
   ]
  },
  {
   "cell_type": "code",
   "execution_count": 46,
   "metadata": {},
   "outputs": [
    {
     "data": {
      "text/plain": [
       "array([864691135635239593, 864691135618175635, 864691135584809548, ...,\n",
       "       864691135818851060, 864691135984827392, 864691135252751535])"
      ]
     },
     "execution_count": 46,
     "metadata": {},
     "output_type": "execute_result"
    }
   ],
   "source": [
    "valid_segment_ids_with_nucleus = key_source.fetch(\"segment_id\")\n",
    "valid_segment_ids_with_nucleus"
   ]
  },
  {
   "cell_type": "code",
   "execution_count": null,
   "metadata": {},
   "outputs": [],
   "source": [
    "true_negatives=[4,6]\n",
    "false_positives=[13,15]"
   ]
  },
  {
   "cell_type": "code",
   "execution_count": 254,
   "metadata": {
    "scrolled": true
   },
   "outputs": [
    {
     "name": "stderr",
     "output_type": "stream",
     "text": [
      "INFO:datajoint.settings:Setting enable_python_native_blobs to True\n",
      "/usr/local/lib/python3.6/dist-packages/traittypes/traittypes.py:101: UserWarning: Given trait value dtype \"float64\" does not match required type \"float64\". A coerced copy has been created.\n",
      "  np.dtype(self.dtype).name))\n"
     ]
    },
    {
     "data": {
      "application/vnd.jupyter.widget-view+json": {
       "model_id": "c22d034b8524460a8ff48aa9d623f854",
       "version_major": 2,
       "version_minor": 0
      },
      "text/plain": [
       "VBox(children=(Figure(camera=PerspectiveCamera(fov=46.0, position=(0.0, 0.0, 2.0), quaternion=(0.0, 0.0, 0.0, …"
      ]
     },
     "metadata": {},
     "output_type": "display_data"
    },
    {
     "name": "stdout",
     "output_type": "stream",
     "text": [
      "Current Arguments Using (adjusted for decimation):\n",
      " large_mesh_threshold= 15000.0 \n",
      "large_mesh_threshold_inner = 10000.0 \n",
      "soma_size_threshold = 1250.0 \n",
      "soma_size_threshold_max = 12000.0\n",
      "outer_decimation_ratio = 0.25\n",
      "inner_decimation_ratio = 0.25\n",
      "IN INPUT FILE VALIDATION LOOP\n",
      "LEAVING LOOP, MESH VALIDATED\n",
      "Using port = 7382\n",
      "xvfb-run -n 7382 -s \"-screen 0 800x600x24\" meshlabserver $@  -i /notebooks/Platinum_Datajoint/Soma_Extraction/864691135783403116/neuron_864691135783403116.off -o /notebooks/Platinum_Datajoint/Soma_Extraction/864691135783403116/neuron_864691135783403116_decimated.off -s /notebooks/Platinum_Datajoint/Soma_Extraction/864691135783403116/decimation_meshlab_25147971.mls\n",
      "Total found significant pieces before Poisson = [<trimesh.Trimesh(vertices.shape=(16864, 3), faces.shape=(33739, 3))>]\n",
      "----- working on large mesh #0: <trimesh.Trimesh(vertices.shape=(16864, 3), faces.shape=(33739, 3))>\n",
      "pre_largest_mesh_path = /notebooks/Platinum_Datajoint/Soma_Extraction/864691135783403116/neuron_864691135783403116_decimated_largest_piece.off\n",
      "IN INPUT FILE VALIDATION LOOP\n",
      "LEAVING LOOP, MESH VALIDATED\n",
      "Using port = 4825\n",
      "xvfb-run -n 4825 -s \"-screen 0 800x600x24\" meshlabserver $@  -i /notebooks/Platinum_Datajoint/Soma_Extraction/864691135783403116/neuron_864691135783403116_decimated_largest_piece.off -o /notebooks/Platinum_Datajoint/Soma_Extraction/864691135783403116/neuron_864691135783403116_decimated_largest_piece_poisson.off -s /notebooks/Platinum_Datajoint/Soma_Extraction/864691135783403116/poisson_976753.mls\n"
     ]
    },
    {
     "name": "stderr",
     "output_type": "stream",
     "text": [
      "WARNING:trimesh:face_normals all zero, ignoring!\n",
      "WARNING:trimesh:face_normals all zero, ignoring!\n",
      "WARNING:trimesh:face_normals all zero, ignoring!\n",
      "WARNING:trimesh:face_normals all zero, ignoring!\n",
      "WARNING:trimesh:face_normals all zero, ignoring!\n",
      "WARNING:trimesh:face_normals all zero, ignoring!\n",
      "WARNING:trimesh:face_normals all zero, ignoring!\n",
      "WARNING:trimesh:face_normals all zero, ignoring!\n"
     ]
    },
    {
     "name": "stdout",
     "output_type": "stream",
     "text": [
      "Total found significant pieces AFTER Poisson = [<trimesh.Trimesh(vertices.shape=(35254, 3), faces.shape=(70524, 3))>]\n",
      "----- working on mesh after poisson #0: <trimesh.Trimesh(vertices.shape=(35254, 3), faces.shape=(70524, 3))>\n",
      "IN INPUT FILE VALIDATION LOOP\n",
      "LEAVING LOOP, MESH VALIDATED\n",
      "Using port = 9969\n",
      "xvfb-run -n 9969 -s \"-screen 0 800x600x24\" meshlabserver $@  -i /notebooks/Platinum_Datajoint/Soma_Extraction/864691135783403116/neuron_864691135783403116_decimated_largest_piece_poisson_largest_inner.off -o /notebooks/Platinum_Datajoint/Soma_Extraction/864691135783403116/neuron_864691135783403116_decimated_largest_piece_poisson_largest_inner_decimated.off -s /notebooks/Platinum_Datajoint/Soma_Extraction/864691135783403116/decimation_meshlab_25406536.mls\n",
      "done exporting decimated mesh: neuron_864691135783403116_decimated_largest_piece_poisson_largest_inner.off\n",
      "1) Starting: Mesh importing and Pymesh fix\n",
      "loading mesh from vertices and triangles array\n",
      "1) Finished: Mesh importing and Pymesh fix: 0.00029659271240234375\n",
      "2) Staring: Generating CGAL segmentation for neuron\n",
      "Done writing OFF file\n",
      "\n",
      "Starting CGAL segmentation\n",
      "Right before cgal segmentation, clusters = 3, smoothness = 0.2, path_and_filename = /notebooks/Platinum_Datajoint/Soma_Extraction/temp/86469113578340311600_fixed \n",
      "1\n",
      "Finished CGAL segmentation algorithm: 1.7321045398712158\n",
      "2) Finished: Generating CGAL segmentation for neuron: 1.9794070720672607\n",
      "3) Staring: Generating Graph Structure and Identifying Soma using soma size threshold  = 3000\n",
      "my_list_keys = [0, 1, 2, 3, 4, 5, 6, 7, 8, 9]\n",
      "changed the median value\n",
      "changed the mean value\n",
      "changed the max value\n",
      "soma_index = 2\n",
      "3) Finished: Generating Graph Structure and Identifying Soma: 0.005969524383544922\n",
      "Not finding the apical because soma_only option selected\n",
      "6) Staring: Classifying Entire Neuron\n",
      "Total Labels found = {'unsure', 'soma'}\n",
      "6) Finished: Classifying Entire Neuron: 4.863739013671875e-05\n",
      "7) Staring: Transfering Segmentation Labels to Face Labels\n",
      "7) Finished: Transfering Segmentation Labels to Face Labels: 0.014300823211669922\n",
      "8) Staring: Generating final Vertex and Face Labels\n",
      "8) Finished: Generating final Vertex and Face Labels: 0.24595046043395996\n",
      "Returning the soma_sdf value AND the classifier\n",
      "soma_sdf_value = 0.826581\n",
      "segmentation[sorted_medians],median_values[sorted_medians] = (array([2, 6, 9, 5, 8, 7, 4, 0, 1, 3]), array([0.826581  , 0.160637  , 0.154199  , 0.14786   , 0.126255  ,\n",
      "       0.118413  , 0.0901927 , 0.0716985 , 0.05748615, 0.0464329 ]))\n",
      "Sizes = [5616, 13, 1169, 1948, 589, 269, 724, 1615, 672, 5015]\n",
      "valid_soma_segments_width\n",
      "      ------ Found 1 viable somas: [2]\n",
      "Using Poisson Surface Reconstruction to make mesh watertight\n",
      "IN INPUT FILE VALIDATION LOOP\n",
      "LEAVING LOOP, MESH VALIDATED\n",
      "Using port = 8858\n",
      "xvfb-run -n 8858 -s \"-screen 0 800x600x24\" meshlabserver $@  -i /notebooks/Platinum_Datajoint/Soma_Extraction/Poisson_temp/neuron_768687.off -o /notebooks/Platinum_Datajoint/Soma_Extraction/Poisson_temp/neuron_768687_poisson.off -s /notebooks/Platinum_Datajoint/Soma_Extraction/Poisson_temp/poisson_300766.mls\n",
      "removed temporary input file: /notebooks/Platinum_Datajoint/Soma_Extraction/Poisson_temp/neuron_768687.off\n",
      "removed temporary output file: /notebooks/Platinum_Datajoint/Soma_Extraction/Poisson_temp/neuron_768687_poisson.off\n",
      "/notebooks/Platinum_Datajoint/Soma_Extraction/Poisson_temp/poisson_300766.mls is being deleted....\n",
      "Inside sphere validater: ratio_val = 2.3009889402211074\n",
      "\n",
      "\n",
      "\n",
      " Total time for run = 24.680296421051025\n",
      "Before Filtering the number of somas found = 1\n",
      "Performing Soma Mesh Backtracking to original mesh\n",
      "# total split meshes = 3\n",
      "viable_meshes = [0]\n",
      "There were 2 pieces found after size threshold\n",
      "# of soma containing seperate meshes = 1\n",
      "meshes with somas = {0: [0]}\n",
      "\n",
      "\n",
      "----Working on soma-containing mesh piece 0----\n",
      "current_soma_mesh_list = [<trimesh.Trimesh(vertices.shape=(2878, 3), faces.shape=(5616, 3))>]\n",
      "current_mesh = <trimesh.Trimesh(vertices.shape=(16864, 3), faces.shape=(33709, 3))>\n",
      "\n",
      "inside Soma subtraction\n",
      "mesh pieces in subtact soma BEFORE the filtering inside pieces = [<trimesh.Trimesh(vertices.shape=(5126, 3), faces.shape=(10204, 3))>, <trimesh.Trimesh(vertices.shape=(3109, 3), faces.shape=(6199, 3))>, <trimesh.Trimesh(vertices.shape=(1346, 3), faces.shape=(2650, 3))>, <trimesh.Trimesh(vertices.shape=(596, 3), faces.shape=(1076, 3))>, <trimesh.Trimesh(vertices.shape=(582, 3), faces.shape=(1049, 3))>, <trimesh.Trimesh(vertices.shape=(562, 3), faces.shape=(1042, 3))>, <trimesh.Trimesh(vertices.shape=(522, 3), faces.shape=(1015, 3))>, <trimesh.Trimesh(vertices.shape=(441, 3), faces.shape=(870, 3))>, <trimesh.Trimesh(vertices.shape=(178, 3), faces.shape=(326, 3))>]\n",
      "There were 9 pieces found after size threshold\n",
      "mesh pieces in subtact soma AFTER the filtering inside pieces = [<trimesh.Trimesh(vertices.shape=(5126, 3), faces.shape=(10204, 3))>, <trimesh.Trimesh(vertices.shape=(3109, 3), faces.shape=(6199, 3))>, <trimesh.Trimesh(vertices.shape=(1346, 3), faces.shape=(2650, 3))>, <trimesh.Trimesh(vertices.shape=(596, 3), faces.shape=(1076, 3))>, <trimesh.Trimesh(vertices.shape=(582, 3), faces.shape=(1049, 3))>, <trimesh.Trimesh(vertices.shape=(562, 3), faces.shape=(1042, 3))>, <trimesh.Trimesh(vertices.shape=(522, 3), faces.shape=(1015, 3))>, <trimesh.Trimesh(vertices.shape=(441, 3), faces.shape=(870, 3))>, <trimesh.Trimesh(vertices.shape=(178, 3), faces.shape=(326, 3))>]\n",
      "Total Time for soma mesh cancellation = 0.248\n",
      "mesh_pieces_without_soma = [<trimesh.Trimesh(vertices.shape=(5126, 3), faces.shape=(10204, 3))>, <trimesh.Trimesh(vertices.shape=(3109, 3), faces.shape=(6199, 3))>, <trimesh.Trimesh(vertices.shape=(1346, 3), faces.shape=(2650, 3))>, <trimesh.Trimesh(vertices.shape=(596, 3), faces.shape=(1076, 3))>, <trimesh.Trimesh(vertices.shape=(582, 3), faces.shape=(1049, 3))>, <trimesh.Trimesh(vertices.shape=(562, 3), faces.shape=(1042, 3))>, <trimesh.Trimesh(vertices.shape=(522, 3), faces.shape=(1015, 3))>, <trimesh.Trimesh(vertices.shape=(441, 3), faces.shape=(870, 3))>, <trimesh.Trimesh(vertices.shape=(178, 3), faces.shape=(326, 3))>]\n",
      "Total time for Subtract Soam = 0.2483813762664795\n",
      "mesh_pieces_without_soma_stacked = <trimesh.Trimesh(vertices.shape=(12462, 3), faces.shape=(24431, 3))>\n",
      "Total time for Original_mesh_faces_map for mesh_pieces without soma= 0.01848912239074707\n",
      "soma_faces = [    1     2     3 ... 32672 32673 32674]\n",
      "soma_meshes = <trimesh.Trimesh(vertices.shape=(4876, 3), faces.shape=(9278, 3))>\n",
      "poisson_backtrack_distance_threshold = None\n",
      "Using Poisson Surface Reconstruction to make mesh watertight\n",
      "IN INPUT FILE VALIDATION LOOP\n"
     ]
    },
    {
     "name": "stderr",
     "output_type": "stream",
     "text": [
      "/meshAfterParty/trimesh_utils.py:299: VisibleDeprecationWarning: Creating an ndarray from ragged nested sequences (which is a list-or-tuple of lists-or-tuples-or ndarrays with different lengths or shapes) is deprecated. If you meant to do this, you must specify 'dtype=object' when creating the ndarray\n",
      "  ordered_components = np.array([components[i] for i in ordered_indices])\n"
     ]
    },
    {
     "name": "stdout",
     "output_type": "stream",
     "text": [
      "LEAVING LOOP, MESH VALIDATED\n",
      "Using port = 9023\n",
      "xvfb-run -n 9023 -s \"-screen 0 800x600x24\" meshlabserver $@  -i /notebooks/Platinum_Datajoint/Soma_Extraction/Poisson_temp/neuron_209443.off -o /notebooks/Platinum_Datajoint/Soma_Extraction/Poisson_temp/neuron_209443_poisson.off -s /notebooks/Platinum_Datajoint/Soma_Extraction/Poisson_temp/poisson_969690.mls\n"
     ]
    },
    {
     "name": "stderr",
     "output_type": "stream",
     "text": [
      "WARNING:trimesh:face_normals all zero, ignoring!\n"
     ]
    },
    {
     "name": "stdout",
     "output_type": "stream",
     "text": [
      "removed temporary input file: /notebooks/Platinum_Datajoint/Soma_Extraction/Poisson_temp/neuron_209443.off\n",
      "removed temporary output file: /notebooks/Platinum_Datajoint/Soma_Extraction/Poisson_temp/neuron_209443_poisson.off\n",
      "/notebooks/Platinum_Datajoint/Soma_Extraction/Poisson_temp/poisson_969690.mls is being deleted....\n",
      "Inside sphere validater: ratio_val = 2.436553946144553\n"
     ]
    }
   ],
   "source": [
    "du = reload(du)\n",
    "seg_id_idx = 21\n",
    "seg_id = valid_segment_ids_with_nucleus[seg_id_idx]\n",
    "du.plot_decimated_mesh_with_somas(seg_id)\n",
    "\n",
    "#error_poisson_somas = du.get_seg_extracted_somas(seg_id)\n",
    "error_mesh = du.get_decimated_mesh(seg_id)\n",
    "\n",
    "# error_backtrack_somas = sm.original_mesh_soma(\n",
    "#                     mesh = error_mesh,\n",
    "#                     soma_meshes=error_poisson_somas,\n",
    "#                     sig_th_initial_split=15)\n",
    "\n",
    "import trimesh_utils as tu\n",
    "sm = reload(sm)\n",
    "tu = reload(tu)\n",
    "meshlab= reload(meshlab)\n",
    "\n",
    "soma_data = sm.extract_soma_center(seg_id,\n",
    "                      error_mesh.vertices,\n",
    "                      error_mesh.faces,\n",
    "                                   side_length_ratio_threshold=6,\n",
    "                                  backtrack_soma_mesh_to_original=True,\n",
    "                                   boundary_vertices_threshold=None,\n",
    "                        poisson_backtrack_distance_threshold=None,\n",
    "                                   close_holes=False\n",
    "                                  )\n"
   ]
  },
  {
   "cell_type": "code",
   "execution_count": 255,
   "metadata": {
    "scrolled": false
   },
   "outputs": [
    {
     "name": "stdout",
     "output_type": "stream",
     "text": [
      "seg_id_idx = 21\n",
      "len(soma_meshes) = 1\n"
     ]
    },
    {
     "name": "stderr",
     "output_type": "stream",
     "text": [
      "/usr/local/lib/python3.6/dist-packages/traittypes/traittypes.py:101: UserWarning: Given trait value dtype \"float64\" does not match required type \"float64\". A coerced copy has been created.\n",
      "  np.dtype(self.dtype).name))\n"
     ]
    },
    {
     "data": {
      "application/vnd.jupyter.widget-view+json": {
       "model_id": "95c038e199284f1ab25673a483c732cb",
       "version_major": 2,
       "version_minor": 0
      },
      "text/plain": [
       "VBox(children=(Figure(camera=PerspectiveCamera(fov=46.0, position=(0.0, 0.0, 2.0), quaternion=(0.0, 0.0, 0.0, …"
      ]
     },
     "metadata": {},
     "output_type": "display_data"
    }
   ],
   "source": [
    "print(f\"seg_id_idx = {seg_id_idx}\")\n",
    "soma_meshes,_,_ = soma_data\n",
    "print(f\"len(soma_meshes) = {len(soma_meshes)}\")\n",
    "\n",
    "import skeleton_utils as sk\n",
    "sk.graph_skeleton_and_mesh(other_meshes=[error_mesh] + soma_meshes,\n",
    "                          other_meshes_colors=[\"yellow\",\"red\"],\n",
    "                          mesh_alpha=1\n",
    "                        )"
   ]
  },
  {
   "cell_type": "code",
   "execution_count": 256,
   "metadata": {},
   "outputs": [
    {
     "name": "stdout",
     "output_type": "stream",
     "text": [
      "seg_id_idx = 21\n"
     ]
    },
    {
     "data": {
      "application/vnd.jupyter.widget-view+json": {
       "model_id": "75925aa87c8e49c3934677c383425172",
       "version_major": 2,
       "version_minor": 0
      },
      "text/plain": [
       "VBox(children=(Figure(camera=PerspectiveCamera(fov=46.0, position=(0.0, 0.0, 2.0), quaternion=(0.0, 0.0, 0.0, …"
      ]
     },
     "metadata": {},
     "output_type": "display_data"
    }
   ],
   "source": [
    "print(f\"seg_id_idx = {seg_id_idx}\")\n",
    "import skeleton_utils as sk\n",
    "sk.graph_skeleton_and_mesh(other_meshes=soma_meshes,\n",
    "                          other_meshes_colors=[\"red\"],\n",
    "                          mesh_alpha=1\n",
    "                        )"
   ]
  },
  {
   "cell_type": "code",
   "execution_count": null,
   "metadata": {},
   "outputs": [],
   "source": [
    "# Remove Faces From Non Manifold Edges"
   ]
  },
  {
   "cell_type": "code",
   "execution_count": 186,
   "metadata": {},
   "outputs": [
    {
     "name": "stdout",
     "output_type": "stream",
     "text": [
      "self_itersect_faces = False\n",
      "current_script = {'Remove Duplicate Vertices': {}, 'Remove Faces from Non Manifold Edges': {}, 'Close Holes': {'MaxHoleSize': {'type': 'RichInt', 'value': '2000'}, 'Selected': {'type': 'RichBool', 'value': 'false'}, 'NewFaceSelected': {'type': 'RichBool', 'value': 'false'}, 'SelfIntersection': {'type': 'RichBool', 'value': 'false'}}}\n",
      "IN INPUT FILE VALIDATION LOOP\n",
      "LEAVING LOOP, MESH VALIDATED\n",
      "Using port = 2285\n",
      "xvfb-run -n 2285 -s \"-screen 0 800x600x24\" meshlabserver $@  -i /notebooks/Platinum_Datajoint/Soma_Extraction/temp/neuron_None.off -o /notebooks/Platinum_Datajoint/Soma_Extraction/temp/neuron_None_fill_holes.off -s /notebooks/Platinum_Datajoint/Soma_Extraction/temp/fill_holes_627033.mls\n",
      "removed temporary input file: /notebooks/Platinum_Datajoint/Soma_Extraction/temp/neuron_None.off\n",
      "removed temporary output file: /notebooks/Platinum_Datajoint/Soma_Extraction/temp/neuron_None_fill_holes.off\n"
     ]
    },
    {
     "data": {
      "application/vnd.jupyter.widget-view+json": {
       "model_id": "bdc79423a8c74ac886f8cb0b67ac9c80",
       "version_major": 2,
       "version_minor": 0
      },
      "text/plain": [
       "VBox(children=(Figure(camera=PerspectiveCamera(fov=46.0, position=(0.0, 0.0, 2.0), quaternion=(0.0, 0.0, 0.0, …"
      ]
     },
     "metadata": {},
     "output_type": "display_data"
    }
   ],
   "source": [
    "# import meshlab\n",
    "# #meshlab = reload(meshlab)\n",
    "# fill_hole_obj = meshlab.FillHoles(max_hole_size=2000,\n",
    "#                  self_itersect_faces=False)\n",
    "\n",
    "# error_mesh_closed_holes,_ = fill_hole_obj(vertices=error_mesh.vertices,\n",
    "#              faces=error_mesh.faces)\n",
    "\n",
    "# sk.graph_skeleton_and_mesh(other_meshes=[error_mesh,error_mesh_closed_holes],\n",
    "#                           other_meshes_colors=[\"black\",\"red\"],\n",
    "#                           mesh_alpha=1)"
   ]
  },
  {
   "cell_type": "code",
   "execution_count": 180,
   "metadata": {},
   "outputs": [
    {
     "data": {
      "text/plain": [
       "'false'"
      ]
     },
     "execution_count": 180,
     "metadata": {},
     "output_type": "execute_result"
    }
   ],
   "source": [
    "str(False).lower()"
   ]
  },
  {
   "cell_type": "markdown",
   "metadata": {},
   "source": [
    "# Plots the soma"
   ]
  },
  {
   "cell_type": "code",
   "execution_count": 49,
   "metadata": {},
   "outputs": [
    {
     "data": {
      "text/plain": [
       "[]"
      ]
     },
     "execution_count": 49,
     "metadata": {},
     "output_type": "execute_result"
    }
   ],
   "source": [
    "soma_meshes"
   ]
  },
  {
   "cell_type": "code",
   "execution_count": 50,
   "metadata": {
    "scrolled": true
   },
   "outputs": [
    {
     "name": "stderr",
     "output_type": "stream",
     "text": [
      "/usr/local/lib/python3.6/dist-packages/traittypes/traittypes.py:101: UserWarning: Given trait value dtype \"float64\" does not match required type \"float64\". A coerced copy has been created.\n",
      "  np.dtype(self.dtype).name))\n"
     ]
    },
    {
     "data": {
      "application/vnd.jupyter.widget-view+json": {
       "model_id": "744a6ee1a69c4eac82a00d3187476a70",
       "version_major": 2,
       "version_minor": 0
      },
      "text/plain": [
       "VBox(children=(Figure(camera=PerspectiveCamera(fov=46.0, position=(0.0, 0.0, 2.0), quaternion=(0.0, 0.0, 0.0, …"
      ]
     },
     "metadata": {},
     "output_type": "display_data"
    }
   ],
   "source": []
  },
  {
   "cell_type": "code",
   "execution_count": 44,
   "metadata": {},
   "outputs": [
    {
     "ename": "Exception",
     "evalue": "No meshes or skeletons passed to the plotting funciton",
     "output_type": "error",
     "traceback": [
      "\u001b[0;31m---------------------------------------------------------------------------\u001b[0m",
      "\u001b[0;31mException\u001b[0m                                 Traceback (most recent call last)",
      "\u001b[0;32m<ipython-input-44-524d615eda22>\u001b[0m in \u001b[0;36m<module>\u001b[0;34m\u001b[0m\n\u001b[0;32m----> 1\u001b[0;31m \u001b[0msk\u001b[0m\u001b[0;34m.\u001b[0m\u001b[0mgraph_skeleton_and_mesh\u001b[0m\u001b[0;34m(\u001b[0m\u001b[0mother_meshes\u001b[0m\u001b[0;34m=\u001b[0m\u001b[0msoma_meshes\u001b[0m\u001b[0;34m)\u001b[0m\u001b[0;34m\u001b[0m\u001b[0;34m\u001b[0m\u001b[0m\n\u001b[0m",
      "\u001b[0;32m/meshAfterParty/skeleton_utils.py\u001b[0m in \u001b[0;36mgraph_skeleton_and_mesh\u001b[0;34m(main_mesh_verts, main_mesh_faces, unique_skeleton_verts_final, edges_final, edge_coordinates, other_meshes, other_meshes_colors, mesh_alpha, other_meshes_face_components, other_skeletons, other_skeletons_colors, return_other_colors, main_mesh_color, main_skeleton_color, main_mesh_face_coloring, other_scatter, scatter_size, other_scatter_colors, main_scatter_color, buffer, axis_box_off, html_path, show_at_end, append_figure)\u001b[0m\n\u001b[1;32m    379\u001b[0m     \u001b[0;31m#create the main mesh vertices for setting the bounding box\u001b[0m\u001b[0;34m\u001b[0m\u001b[0;34m\u001b[0m\u001b[0;34m\u001b[0m\u001b[0m\n\u001b[1;32m    380\u001b[0m     \u001b[0;32mif\u001b[0m \u001b[0mlen\u001b[0m\u001b[0;34m(\u001b[0m\u001b[0mmain_mesh_vertices\u001b[0m\u001b[0;34m)\u001b[0m \u001b[0;34m==\u001b[0m \u001b[0;36m0\u001b[0m\u001b[0;34m:\u001b[0m\u001b[0;34m\u001b[0m\u001b[0;34m\u001b[0m\u001b[0m\n\u001b[0;32m--> 381\u001b[0;31m         \u001b[0;32mraise\u001b[0m \u001b[0mException\u001b[0m\u001b[0;34m(\u001b[0m\u001b[0;34m\"No meshes or skeletons passed to the plotting funciton\"\u001b[0m\u001b[0;34m)\u001b[0m\u001b[0;34m\u001b[0m\u001b[0;34m\u001b[0m\u001b[0m\n\u001b[0m\u001b[1;32m    382\u001b[0m     \u001b[0;32melif\u001b[0m \u001b[0mlen\u001b[0m\u001b[0;34m(\u001b[0m\u001b[0mmain_mesh_vertices\u001b[0m\u001b[0;34m)\u001b[0m \u001b[0;34m==\u001b[0m \u001b[0;36m1\u001b[0m\u001b[0;34m:\u001b[0m\u001b[0;34m\u001b[0m\u001b[0;34m\u001b[0m\u001b[0m\n\u001b[1;32m    383\u001b[0m         \u001b[0mmain_mesh_vertices\u001b[0m \u001b[0;34m=\u001b[0m \u001b[0mmain_mesh_vertices\u001b[0m\u001b[0;34m[\u001b[0m\u001b[0;36m0\u001b[0m\u001b[0;34m]\u001b[0m\u001b[0;34m\u001b[0m\u001b[0;34m\u001b[0m\u001b[0m\n",
      "\u001b[0;31mException\u001b[0m: No meshes or skeletons passed to the plotting funciton"
     ]
    }
   ],
   "source": [
    "sk.graph_skeleton_and_mesh(other_meshes=soma_meshes)"
   ]
  },
  {
   "cell_type": "markdown",
   "metadata": {},
   "source": [
    "# Debugging the new soma mesh finder "
   ]
  },
  {
   "cell_type": "code",
   "execution_count": null,
   "metadata": {},
   "outputs": [],
   "source": []
  },
  {
   "cell_type": "code",
   "execution_count": null,
   "metadata": {},
   "outputs": [],
   "source": []
  },
  {
   "cell_type": "code",
   "execution_count": null,
   "metadata": {},
   "outputs": [],
   "source": []
  },
  {
   "cell_type": "code",
   "execution_count": null,
   "metadata": {},
   "outputs": [],
   "source": []
  },
  {
   "cell_type": "markdown",
   "metadata": {},
   "source": [
    "# -- getting neurons to help test on -- "
   ]
  },
  {
   "cell_type": "code",
   "execution_count": 13,
   "metadata": {},
   "outputs": [],
   "source": [
    "# sm = reload(sm)"
   ]
  },
  {
   "cell_type": "code",
   "execution_count": 14,
   "metadata": {},
   "outputs": [],
   "source": [
    "# import neuron_utils as nru\n",
    "# filepath = \"/notebooks/test_neurons/meshafterparty_processed/12345_double_soma_meshafterparty_fixed_connectors_and_spines\"\n",
    "# double_neuron = nru.decompress_neuron(\n",
    "#     filepath=filepath,\n",
    "#     original_mesh=filepath,\n",
    "# )\n",
    "\n"
   ]
  },
  {
   "cell_type": "code",
   "execution_count": 15,
   "metadata": {
    "scrolled": true
   },
   "outputs": [],
   "source": [
    "# sm = reload(sm)\n",
    "# double_neuron_poisson_somas = sm.extract_soma_center(double_neuron.segment_id,\n",
    "#                                                     double_neuron.mesh.vertices,\n",
    "#                                                     double_neuron.mesh.faces)\n",
    "# d_neuron_poisson_somas,_ , _ = double_neuron_poisson_somas\n",
    "# d_neuron_backtrack_somas,_,_ = double_neuron.get_somas()"
   ]
  },
  {
   "cell_type": "markdown",
   "metadata": {},
   "source": [
    "# -- Getting other meshes to try -- "
   ]
  },
  {
   "cell_type": "code",
   "execution_count": 16,
   "metadata": {},
   "outputs": [],
   "source": [
    "# exc_1 = tu.load_mesh_no_processing(\"/notebooks/test_neurons/spine_detection/95442489112204099_excitatory_7.off\")\n",
    "# soma_data = sm.extract_soma_center(1234,exc_1.vertices,exc_1.faces)"
   ]
  },
  {
   "cell_type": "code",
   "execution_count": 17,
   "metadata": {},
   "outputs": [],
   "source": [
    "# exc_1_poisson_somas,_,_ = soma_data\n",
    "# exc_1_backtrack_somas = sm.original_mesh_soma(\n",
    "#                     mesh = exc_1,\n",
    "#                     soma_meshes=exc_1_poisson_somas,\n",
    "#                     sig_th_initial_split=15)"
   ]
  },
  {
   "cell_type": "code",
   "execution_count": 18,
   "metadata": {},
   "outputs": [],
   "source": [
    "# exc_1_poisson_somas,exc_1_backtrack_somas"
   ]
  },
  {
   "cell_type": "code",
   "execution_count": 19,
   "metadata": {},
   "outputs": [],
   "source": [
    "# sk.graph_skeleton_and_mesh(other_meshes=exc_1_poisson_somas+exc_1_backtrack_somas,\n",
    "#                           other_meshes_colors=[\"black\",\"red\"])"
   ]
  },
  {
   "cell_type": "markdown",
   "metadata": {},
   "source": [
    "# --- Checking Neurons that should be processed -- "
   ]
  },
  {
   "cell_type": "code",
   "execution_count": null,
   "metadata": {},
   "outputs": [],
   "source": []
  },
  {
   "cell_type": "code",
   "execution_count": 20,
   "metadata": {},
   "outputs": [],
   "source": [
    "# valid_segment_ids_with_nucleus_id = dj.U(\"segment_id\") & (minnie.NucleusID() & \"segment_id>0\")"
   ]
  },
  {
   "cell_type": "code",
   "execution_count": 21,
   "metadata": {},
   "outputs": [],
   "source": [
    "# len(minnie.NucleusID() & all_nucleus_id_segs)"
   ]
  },
  {
   "cell_type": "code",
   "execution_count": 22,
   "metadata": {},
   "outputs": [],
   "source": [
    "# len(minnie.NucleusID() & \"segment_id>0\")"
   ]
  },
  {
   "cell_type": "code",
   "execution_count": 23,
   "metadata": {},
   "outputs": [],
   "source": [
    "# minnie.NucleusCorePostsyn() & \"n_soma = 2\"# robust table "
   ]
  },
  {
   "cell_type": "code",
   "execution_count": null,
   "metadata": {},
   "outputs": [],
   "source": []
  },
  {
   "cell_type": "code",
   "execution_count": null,
   "metadata": {},
   "outputs": [],
   "source": []
  },
  {
   "cell_type": "markdown",
   "metadata": {},
   "source": [
    "# Apply a check that looks and sees if has a border that is too big"
   ]
  },
  {
   "cell_type": "code",
   "execution_count": null,
   "metadata": {},
   "outputs": [],
   "source": []
  }
 ],
 "metadata": {
  "kernelspec": {
   "display_name": "Python 3",
   "language": "python",
   "name": "python3"
  },
  "language_info": {
   "codemirror_mode": {
    "name": "ipython",
    "version": 3
   },
   "file_extension": ".py",
   "mimetype": "text/x-python",
   "name": "python",
   "nbconvert_exporter": "python",
   "pygments_lexer": "ipython3",
   "version": "3.6.9"
  }
 },
 "nbformat": 4,
 "nbformat_minor": 4
}
