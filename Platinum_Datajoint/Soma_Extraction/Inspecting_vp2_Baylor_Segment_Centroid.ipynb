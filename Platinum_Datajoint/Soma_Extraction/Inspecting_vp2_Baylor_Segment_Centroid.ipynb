{
 "cells": [
  {
   "cell_type": "code",
   "execution_count": 5,
   "metadata": {},
   "outputs": [],
   "source": [
    "from os import sys\n",
    "sys.path.append(\"/meshAfterParty/\")\n",
    "import datajoint_utils as du\n",
    "import numpy as np"
   ]
  },
  {
   "cell_type": "code",
   "execution_count": 6,
   "metadata": {},
   "outputs": [
    {
     "name": "stderr",
     "output_type": "stream",
     "text": [
      "INFO - 2020-11-25 18:15:59,957 - settings - Setting database.host to at-database.ad.bcm.edu\n",
      "INFO - 2020-11-25 18:15:59,958 - settings - Setting database.user to celiib\n",
      "INFO - 2020-11-25 18:15:59,959 - settings - Setting database.password to newceliipass\n",
      "INFO - 2020-11-25 18:15:59,976 - settings - Setting stores to {'minnie65': {'protocol': 'file', 'location': '/mnt/dj-stor01/platinum/minnie65', 'stage': '/mnt/dj-stor01/platinum/minnie65'}, 'meshes': {'protocol': 'file', 'location': '/mnt/dj-stor01/platinum/minnie65/02/meshes', 'stage': '/mnt/dj-stor01/platinum/minnie65/02/meshes'}, 'decimated_meshes': {'protocol': 'file', 'location': '/mnt/dj-stor01/platinum/minnie65/02/decimated_meshes', 'stage': '/mnt/dj-stor01/platinum/minnie65/02/decimated_meshes'}, 'skeletons': {'protocol': 'file', 'location': '/mnt/dj-stor01/platinum/minnie65/02/skeletons'}}\n",
      "INFO - 2020-11-25 18:15:59,977 - settings - Setting enable_python_native_blobs to True\n",
      "INFO - 2020-11-25 18:15:59,991 - connection - Connected celiib@at-database.ad.bcm.edu:3306\n"
     ]
    },
    {
     "name": "stdout",
     "output_type": "stream",
     "text": [
      "Connecting celiib@at-database.ad.bcm.edu:3306\n"
     ]
    },
    {
     "name": "stderr",
     "output_type": "stream",
     "text": [
      "INFO - 2020-11-25 18:16:00,187 - settings - Setting enable_python_native_blobs to True\n"
     ]
    }
   ],
   "source": [
    "import minfig\n",
    "du.config_celii()\n",
    "du.set_minnie65_config_segmentation(minfig)\n",
    "#du.print_minnie65_config_paths(minfig)\n",
    "\n",
    "#configuring will include the adapters\n",
    "minnie,schema = du.configure_minnie_vm()"
   ]
  },
  {
   "cell_type": "markdown",
   "metadata": {},
   "source": [
    "# Getting the Query right for the single soma"
   ]
  },
  {
   "cell_type": "code",
   "execution_count": 177,
   "metadata": {},
   "outputs": [
    {
     "data": {
      "text/html": [
       "\n",
       "        \n",
       "        <style type=\"text/css\">\n",
       "            .Relation{\n",
       "                border-collapse:collapse;\n",
       "            }\n",
       "            .Relation th{\n",
       "                background: #A0A0A0; color: #ffffff; padding:4px; border:#f0e0e0 1px solid;\n",
       "                font-weight: normal; font-family: monospace; font-size: 100%;\n",
       "            }\n",
       "            .Relation td{\n",
       "                padding:4px; border:#f0e0e0 1px solid; font-size:100%;\n",
       "            }\n",
       "            .Relation tr:nth-child(odd){\n",
       "                background: #ffffff;\n",
       "            }\n",
       "            .Relation tr:nth-child(even){\n",
       "                background: #f3f1ff;\n",
       "            }\n",
       "            /* Tooltip container */\n",
       "            .djtooltip {\n",
       "            }\n",
       "            /* Tooltip text */\n",
       "            .djtooltip .djtooltiptext {\n",
       "                visibility: hidden;\n",
       "                width: 120px;\n",
       "                background-color: black;\n",
       "                color: #fff;\n",
       "                text-align: center;\n",
       "                padding: 5px 0;\n",
       "                border-radius: 6px;\n",
       "                /* Position the tooltip text - see examples below! */\n",
       "                position: absolute;\n",
       "                z-index: 1;\n",
       "            }\n",
       "            #primary {\n",
       "                font-weight: bold;\n",
       "                color: black;\n",
       "            }\n",
       "\n",
       "            #nonprimary {\n",
       "                font-weight: normal;\n",
       "                color: white;\n",
       "            }\n",
       "\n",
       "            /* Show the tooltip text when you mouse over the tooltip container */\n",
       "            .djtooltip:hover .djtooltiptext {\n",
       "                visibility: visible;\n",
       "            }\n",
       "        </style>\n",
       "        \n",
       "        \n",
       "            <div style=\"max-height:1000px;max-width:1500px;overflow:auto;\">\n",
       "            <table border=\"1\" class=\"Relation\">\n",
       "                <thead> <tr style=\"text-align: right;\"> <th> <div class=\"djtooltip\">\n",
       "                                <p id=\"primary\">segment_id</p>\n",
       "                                <span class=\"djtooltiptext\">segment id unique within each Segmentation</span>\n",
       "                            </div></th><th><div class=\"djtooltip\">\n",
       "                                <p id=\"primary\">version</p>\n",
       "                                <span class=\"djtooltiptext\"></span>\n",
       "                            </div></th><th><div class=\"djtooltip\">\n",
       "                                <p id=\"primary\">decimation_ratio</p>\n",
       "                                <span class=\"djtooltiptext\">ratio of remaining mesh vertices/faces (which ones depends on what metric the decimation technique uses)</span>\n",
       "                            </div> </th> </tr> </thead>\n",
       "                <tbody> <tr> <td>864691134884740858</td>\n",
       "<td>0</td>\n",
       "<td>0.25</td></tr><tr><td>864691134884741114</td>\n",
       "<td>0</td>\n",
       "<td>0.25</td></tr><tr><td>864691134884741370</td>\n",
       "<td>0</td>\n",
       "<td>0.25</td></tr><tr><td>864691134884741882</td>\n",
       "<td>0</td>\n",
       "<td>0.25</td></tr><tr><td>864691134884742138</td>\n",
       "<td>0</td>\n",
       "<td>0.25</td></tr><tr><td>864691134884742650</td>\n",
       "<td>0</td>\n",
       "<td>0.25</td></tr><tr><td>864691134884742906</td>\n",
       "<td>0</td>\n",
       "<td>0.25</td></tr><tr><td>864691134884743418</td>\n",
       "<td>0</td>\n",
       "<td>0.25</td></tr><tr><td>864691134884743930</td>\n",
       "<td>0</td>\n",
       "<td>0.25</td></tr><tr><td>864691134884744186</td>\n",
       "<td>0</td>\n",
       "<td>0.25</td></tr><tr><td>864691134884744442</td>\n",
       "<td>0</td>\n",
       "<td>0.25</td></tr><tr><td>864691134884744698</td>\n",
       "<td>0</td>\n",
       "<td>0.25</td> </tr> </tbody>\n",
       "            </table>\n",
       "            <p>...</p>\n",
       "            <p>Total: 40537</p></div>\n",
       "            "
      ],
      "text/plain": [
       "*segment_id    *version    *decimation_ra\n",
       "+------------+ +---------+ +------------+\n",
       "86469113488474 0           0.25          \n",
       "86469113488474 0           0.25          \n",
       "86469113488474 0           0.25          \n",
       "86469113488474 0           0.25          \n",
       "86469113488474 0           0.25          \n",
       "86469113488474 0           0.25          \n",
       "86469113488474 0           0.25          \n",
       "86469113488474 0           0.25          \n",
       "86469113488474 0           0.25          \n",
       "86469113488474 0           0.25          \n",
       "86469113488474 0           0.25          \n",
       "86469113488474 0           0.25          \n",
       "   ...\n",
       " (Total: 40537)"
      ]
     },
     "execution_count": 177,
     "metadata": {},
     "output_type": "execute_result"
    }
   ],
   "source": [
    "single_soma_cells_to_run = (minnie.Decimation() & \"n_faces>500000\").proj() & (minnie.BaylorSegmentCentroid() & \"multiplicity=1\").proj()\n",
    "single_soma_cells_to_run"
   ]
  },
  {
   "cell_type": "code",
   "execution_count": 175,
   "metadata": {},
   "outputs": [
    {
     "data": {
      "text/plain": [
       "40537"
      ]
     },
     "execution_count": 175,
     "metadata": {},
     "output_type": "execute_result"
    }
   ],
   "source": [
    "sig_sized_single_soma_cells = single_soma_cells & \"n_faces>500000\"\n",
    "sig_seg_ids = (sig_sized_single_soma_cells).fetch(\"segment_id\")\n",
    "len(sig_seg_ids)"
   ]
  },
  {
   "cell_type": "code",
   "execution_count": 176,
   "metadata": {},
   "outputs": [
    {
     "name": "stdout",
     "output_type": "stream",
     "text": [
      "Segment_id = 864691134917383690\n",
      "vertices = 438722, faces= = 888153\n"
     ]
    },
    {
     "data": {
      "application/vnd.jupyter.widget-view+json": {
       "model_id": "651c992cdc6f41a5a0bfb466e0858a0a",
       "version_major": 2,
       "version_minor": 0
      },
      "text/plain": [
       "VBox(children=(Figure(camera=PerspectiveCamera(fov=46.0, position=(0.0, 0.0, 2.0), quaternion=(0.0, 0.0, 0.0, …"
      ]
     },
     "metadata": {},
     "output_type": "display_data"
    }
   ],
   "source": [
    "du = reload(du)\n",
    "du.plot_decimated_mesh_with_somas(sig_seg_ids[100],minnie)"
   ]
  },
  {
   "cell_type": "markdown",
   "metadata": {},
   "source": [
    "# Example Query on Seeing nuerons"
   ]
  },
  {
   "cell_type": "code",
   "execution_count": 105,
   "metadata": {},
   "outputs": [
    {
     "data": {
      "text/html": [
       "\n",
       "        \n",
       "        <style type=\"text/css\">\n",
       "            .Relation{\n",
       "                border-collapse:collapse;\n",
       "            }\n",
       "            .Relation th{\n",
       "                background: #A0A0A0; color: #ffffff; padding:4px; border:#f0e0e0 1px solid;\n",
       "                font-weight: normal; font-family: monospace; font-size: 100%;\n",
       "            }\n",
       "            .Relation td{\n",
       "                padding:4px; border:#f0e0e0 1px solid; font-size:100%;\n",
       "            }\n",
       "            .Relation tr:nth-child(odd){\n",
       "                background: #ffffff;\n",
       "            }\n",
       "            .Relation tr:nth-child(even){\n",
       "                background: #f3f1ff;\n",
       "            }\n",
       "            /* Tooltip container */\n",
       "            .djtooltip {\n",
       "            }\n",
       "            /* Tooltip text */\n",
       "            .djtooltip .djtooltiptext {\n",
       "                visibility: hidden;\n",
       "                width: 120px;\n",
       "                background-color: black;\n",
       "                color: #fff;\n",
       "                text-align: center;\n",
       "                padding: 5px 0;\n",
       "                border-radius: 6px;\n",
       "                /* Position the tooltip text - see examples below! */\n",
       "                position: absolute;\n",
       "                z-index: 1;\n",
       "            }\n",
       "            #primary {\n",
       "                font-weight: bold;\n",
       "                color: black;\n",
       "            }\n",
       "\n",
       "            #nonprimary {\n",
       "                font-weight: normal;\n",
       "                color: white;\n",
       "            }\n",
       "\n",
       "            /* Show the tooltip text when you mouse over the tooltip container */\n",
       "            .djtooltip:hover .djtooltiptext {\n",
       "                visibility: visible;\n",
       "            }\n",
       "        </style>\n",
       "        \n",
       "        <b></b>\n",
       "            <div style=\"max-height:1000px;max-width:1500px;overflow:auto;\">\n",
       "            <table border=\"1\" class=\"Relation\">\n",
       "                <thead> <tr style=\"text-align: right;\"> <th> <div class=\"djtooltip\">\n",
       "                                <p id=\"primary\">segment_id</p>\n",
       "                                <span class=\"djtooltiptext\">segment id unique within each Segmentation</span>\n",
       "                            </div></th><th><div class=\"djtooltip\">\n",
       "                                <p id=\"primary\">decimation_version</p>\n",
       "                                <span class=\"djtooltiptext\"></span>\n",
       "                            </div></th><th><div class=\"djtooltip\">\n",
       "                                <p id=\"primary\">decimation_ratio</p>\n",
       "                                <span class=\"djtooltiptext\">ratio of remaining mesh vertices/faces (which ones depends on what metric the decimation technique uses)</span>\n",
       "                            </div></th><th><div class=\"djtooltip\">\n",
       "                                <p id=\"primary\">soma_index</p>\n",
       "                                <span class=\"djtooltiptext\">index given to this soma to account for multiple somas in one base semgnet</span>\n",
       "                            </div></th><th><div class=\"djtooltip\">\n",
       "                                <p id=\"nonprimary\">centroid_x</p>\n",
       "                                <span class=\"djtooltiptext\">(EM voxels)</span>\n",
       "                            </div></th><th><div class=\"djtooltip\">\n",
       "                                <p id=\"nonprimary\">centroid_y</p>\n",
       "                                <span class=\"djtooltiptext\">(EM voxels)</span>\n",
       "                            </div></th><th><div class=\"djtooltip\">\n",
       "                                <p id=\"nonprimary\">centroid_z</p>\n",
       "                                <span class=\"djtooltiptext\">(EM voxels)</span>\n",
       "                            </div></th><th><div class=\"djtooltip\">\n",
       "                                <p id=\"nonprimary\">n_vertices</p>\n",
       "                                <span class=\"djtooltiptext\">number of vertices</span>\n",
       "                            </div></th><th><div class=\"djtooltip\">\n",
       "                                <p id=\"nonprimary\">n_faces</p>\n",
       "                                <span class=\"djtooltiptext\">number of faces</span>\n",
       "                            </div></th><th><div class=\"djtooltip\">\n",
       "                                <p id=\"nonprimary\">mesh</p>\n",
       "                                <span class=\"djtooltiptext\">datajoint adapter to get the somas mesh objects</span>\n",
       "                            </div></th><th><div class=\"djtooltip\">\n",
       "                                <p id=\"nonprimary\">multiplicity</p>\n",
       "                                <span class=\"djtooltiptext\">the number of somas found for this base segment</span>\n",
       "                            </div></th><th><div class=\"djtooltip\">\n",
       "                                <p id=\"nonprimary\">sdf</p>\n",
       "                                <span class=\"djtooltiptext\">sdf width value for the soma</span>\n",
       "                            </div></th><th><div class=\"djtooltip\">\n",
       "                                <p id=\"nonprimary\">max_side_ratio</p>\n",
       "                                <span class=\"djtooltiptext\">the maximum of the side length ratios used for check if soma</span>\n",
       "                            </div></th><th><div class=\"djtooltip\">\n",
       "                                <p id=\"nonprimary\">bbox_volume_ratio</p>\n",
       "                                <span class=\"djtooltiptext\">ratio of bbox (axis aligned) volume to mesh volume to use for check if soma</span>\n",
       "                            </div></th><th><div class=\"djtooltip\">\n",
       "                                <p id=\"nonprimary\">max_hole_length</p>\n",
       "                                <span class=\"djtooltiptext\">euclidean distance of the maximum hole size</span>\n",
       "                            </div></th><th><div class=\"djtooltip\">\n",
       "                                <p id=\"nonprimary\">run_time</p>\n",
       "                                <span class=\"djtooltiptext\">the amount of time to run (seconds)</span>\n",
       "                            </div> </th> </tr> </thead>\n",
       "                <tbody> <tr> <td>864691134026921572</td>\n",
       "<td>0</td>\n",
       "<td>0.25</td>\n",
       "<td>1</td>\n",
       "<td>205769</td>\n",
       "<td>82658</td>\n",
       "<td>27373</td>\n",
       "<td>4969</td>\n",
       "<td>9706</td>\n",
       "<td>=BLOB=</td>\n",
       "<td>1</td>\n",
       "<td>0.606</td>\n",
       "<td>1.286</td>\n",
       "<td>4.494</td>\n",
       "<td>599974.103</td>\n",
       "<td>23.6405</td></tr><tr><td>864691134141481226</td>\n",
       "<td>0</td>\n",
       "<td>0.25</td>\n",
       "<td>0</td>\n",
       "<td>None</td>\n",
       "<td>None</td>\n",
       "<td>None</td>\n",
       "<td>0</td>\n",
       "<td>0</td>\n",
       "<td>=BLOB=</td>\n",
       "<td>0</td>\n",
       "<td>nan</td>\n",
       "<td>nan</td>\n",
       "<td>nan</td>\n",
       "<td>nan</td>\n",
       "<td>3.460103988647461</td></tr><tr><td>864691134150137850</td>\n",
       "<td>0</td>\n",
       "<td>0.25</td>\n",
       "<td>0</td>\n",
       "<td>None</td>\n",
       "<td>None</td>\n",
       "<td>None</td>\n",
       "<td>0</td>\n",
       "<td>0</td>\n",
       "<td>=BLOB=</td>\n",
       "<td>0</td>\n",
       "<td>nan</td>\n",
       "<td>nan</td>\n",
       "<td>nan</td>\n",
       "<td>nan</td>\n",
       "<td>12.220813989639282</td></tr><tr><td>864691134167328989</td>\n",
       "<td>0</td>\n",
       "<td>0.25</td>\n",
       "<td>1</td>\n",
       "<td>234624</td>\n",
       "<td>242790</td>\n",
       "<td>24575</td>\n",
       "<td>7332</td>\n",
       "<td>13998</td>\n",
       "<td>=BLOB=</td>\n",
       "<td>1</td>\n",
       "<td>0.895</td>\n",
       "<td>1.107</td>\n",
       "<td>2.393</td>\n",
       "<td>1964181.59</td>\n",
       "<td>36.7254</td></tr><tr><td>864691134219060901</td>\n",
       "<td>0</td>\n",
       "<td>0.25</td>\n",
       "<td>0</td>\n",
       "<td>None</td>\n",
       "<td>None</td>\n",
       "<td>None</td>\n",
       "<td>0</td>\n",
       "<td>0</td>\n",
       "<td>=BLOB=</td>\n",
       "<td>0</td>\n",
       "<td>nan</td>\n",
       "<td>nan</td>\n",
       "<td>nan</td>\n",
       "<td>nan</td>\n",
       "<td>36.77128005027771</td></tr><tr><td>864691134221889045</td>\n",
       "<td>0</td>\n",
       "<td>0.25</td>\n",
       "<td>0</td>\n",
       "<td>None</td>\n",
       "<td>None</td>\n",
       "<td>None</td>\n",
       "<td>0</td>\n",
       "<td>0</td>\n",
       "<td>=BLOB=</td>\n",
       "<td>0</td>\n",
       "<td>nan</td>\n",
       "<td>nan</td>\n",
       "<td>nan</td>\n",
       "<td>nan</td>\n",
       "<td>29.767900228500366</td></tr><tr><td>864691134242673681</td>\n",
       "<td>0</td>\n",
       "<td>0.25</td>\n",
       "<td>0</td>\n",
       "<td>None</td>\n",
       "<td>None</td>\n",
       "<td>None</td>\n",
       "<td>0</td>\n",
       "<td>0</td>\n",
       "<td>=BLOB=</td>\n",
       "<td>0</td>\n",
       "<td>nan</td>\n",
       "<td>nan</td>\n",
       "<td>nan</td>\n",
       "<td>nan</td>\n",
       "<td>10.888802766799927</td></tr><tr><td>864691134252908410</td>\n",
       "<td>0</td>\n",
       "<td>0.25</td>\n",
       "<td>1</td>\n",
       "<td>402630</td>\n",
       "<td>157263</td>\n",
       "<td>23835</td>\n",
       "<td>5597</td>\n",
       "<td>10738</td>\n",
       "<td>=BLOB=</td>\n",
       "<td>1</td>\n",
       "<td>0.669</td>\n",
       "<td>2.154</td>\n",
       "<td>2.38</td>\n",
       "<td>1764397.967</td>\n",
       "<td>42.4212</td></tr><tr><td>864691134295094289</td>\n",
       "<td>0</td>\n",
       "<td>0.25</td>\n",
       "<td>0</td>\n",
       "<td>None</td>\n",
       "<td>None</td>\n",
       "<td>None</td>\n",
       "<td>0</td>\n",
       "<td>0</td>\n",
       "<td>=BLOB=</td>\n",
       "<td>0</td>\n",
       "<td>nan</td>\n",
       "<td>nan</td>\n",
       "<td>nan</td>\n",
       "<td>nan</td>\n",
       "<td>27.755265712738037</td></tr><tr><td>864691134299321684</td>\n",
       "<td>0</td>\n",
       "<td>0.25</td>\n",
       "<td>0</td>\n",
       "<td>None</td>\n",
       "<td>None</td>\n",
       "<td>None</td>\n",
       "<td>0</td>\n",
       "<td>0</td>\n",
       "<td>=BLOB=</td>\n",
       "<td>0</td>\n",
       "<td>nan</td>\n",
       "<td>nan</td>\n",
       "<td>nan</td>\n",
       "<td>nan</td>\n",
       "<td>45.70575833320618</td></tr><tr><td>864691134304020835</td>\n",
       "<td>0</td>\n",
       "<td>0.25</td>\n",
       "<td>0</td>\n",
       "<td>None</td>\n",
       "<td>None</td>\n",
       "<td>None</td>\n",
       "<td>0</td>\n",
       "<td>0</td>\n",
       "<td>=BLOB=</td>\n",
       "<td>0</td>\n",
       "<td>nan</td>\n",
       "<td>nan</td>\n",
       "<td>nan</td>\n",
       "<td>nan</td>\n",
       "<td>41.51700782775879</td></tr><tr><td>864691134309610836</td>\n",
       "<td>0</td>\n",
       "<td>0.25</td>\n",
       "<td>1</td>\n",
       "<td>353926</td>\n",
       "<td>234527</td>\n",
       "<td>24529</td>\n",
       "<td>7736</td>\n",
       "<td>14818</td>\n",
       "<td>=BLOB=</td>\n",
       "<td>1</td>\n",
       "<td>0.861</td>\n",
       "<td>1.091</td>\n",
       "<td>2.113</td>\n",
       "<td>999156.031</td>\n",
       "<td>43.1143</td> </tr> </tbody>\n",
       "            </table>\n",
       "            <p>...</p>\n",
       "            <p>Total: 97913</p></div>\n",
       "            "
      ],
      "text/plain": [
       "*segment_id    *decimation_ve *decimation_ra *soma_index    centroid_x     centroid_y     centroid_z     n_vertices     n_faces     mesh       multiplicity   sdf       max_side_ratio bbox_volume_ra max_hole_lengt run_time      \n",
       "+------------+ +------------+ +------------+ +------------+ +------------+ +------------+ +------------+ +------------+ +---------+ +--------+ +------------+ +-------+ +------------+ +------------+ +------------+ +------------+\n",
       "86469113402692 0              0.25           1              205769         82658          27373          4969           9706        =BLOB=     1              0.606     1.286          4.494          599974.103     23.6405       \n",
       "86469113414148 0              0.25           0              None           None           None           0              0           =BLOB=     0              nan       nan            nan            nan            3.460103988647\n",
       "86469113415013 0              0.25           0              None           None           None           0              0           =BLOB=     0              nan       nan            nan            nan            12.22081398963\n",
       "86469113416732 0              0.25           1              234624         242790         24575          7332           13998       =BLOB=     1              0.895     1.107          2.393          1964181.59     36.7254       \n",
       "86469113421906 0              0.25           0              None           None           None           0              0           =BLOB=     0              nan       nan            nan            nan            36.77128005027\n",
       "86469113422188 0              0.25           0              None           None           None           0              0           =BLOB=     0              nan       nan            nan            nan            29.76790022850\n",
       "86469113424267 0              0.25           0              None           None           None           0              0           =BLOB=     0              nan       nan            nan            nan            10.88880276679\n",
       "86469113425290 0              0.25           1              402630         157263         23835          5597           10738       =BLOB=     1              0.669     2.154          2.38           1764397.967    42.4212       \n",
       "86469113429509 0              0.25           0              None           None           None           0              0           =BLOB=     0              nan       nan            nan            nan            27.75526571273\n",
       "86469113429932 0              0.25           0              None           None           None           0              0           =BLOB=     0              nan       nan            nan            nan            45.70575833320\n",
       "86469113430402 0              0.25           0              None           None           None           0              0           =BLOB=     0              nan       nan            nan            nan            41.51700782775\n",
       "86469113430961 0              0.25           1              353926         234527         24529          7736           14818       =BLOB=     1              0.861     1.091          2.113          999156.031     43.1143       \n",
       "   ...\n",
       " (Total: 97913)"
      ]
     },
     "execution_count": 105,
     "metadata": {},
     "output_type": "execute_result"
    }
   ],
   "source": [
    "minnie.BaylorSegmentCentroid()"
   ]
  },
  {
   "cell_type": "code",
   "execution_count": null,
   "metadata": {},
   "outputs": [],
   "source": [
    "minnie.SegToDecimateFromNuclei"
   ]
  },
  {
   "cell_type": "code",
   "execution_count": 122,
   "metadata": {},
   "outputs": [
    {
     "data": {
      "text/html": [
       "\n",
       "        \n",
       "        <style type=\"text/css\">\n",
       "            .Relation{\n",
       "                border-collapse:collapse;\n",
       "            }\n",
       "            .Relation th{\n",
       "                background: #A0A0A0; color: #ffffff; padding:4px; border:#f0e0e0 1px solid;\n",
       "                font-weight: normal; font-family: monospace; font-size: 100%;\n",
       "            }\n",
       "            .Relation td{\n",
       "                padding:4px; border:#f0e0e0 1px solid; font-size:100%;\n",
       "            }\n",
       "            .Relation tr:nth-child(odd){\n",
       "                background: #ffffff;\n",
       "            }\n",
       "            .Relation tr:nth-child(even){\n",
       "                background: #f3f1ff;\n",
       "            }\n",
       "            /* Tooltip container */\n",
       "            .djtooltip {\n",
       "            }\n",
       "            /* Tooltip text */\n",
       "            .djtooltip .djtooltiptext {\n",
       "                visibility: hidden;\n",
       "                width: 120px;\n",
       "                background-color: black;\n",
       "                color: #fff;\n",
       "                text-align: center;\n",
       "                padding: 5px 0;\n",
       "                border-radius: 6px;\n",
       "                /* Position the tooltip text - see examples below! */\n",
       "                position: absolute;\n",
       "                z-index: 1;\n",
       "            }\n",
       "            #primary {\n",
       "                font-weight: bold;\n",
       "                color: black;\n",
       "            }\n",
       "\n",
       "            #nonprimary {\n",
       "                font-weight: normal;\n",
       "                color: white;\n",
       "            }\n",
       "\n",
       "            /* Show the tooltip text when you mouse over the tooltip container */\n",
       "            .djtooltip:hover .djtooltiptext {\n",
       "                visibility: visible;\n",
       "            }\n",
       "        </style>\n",
       "        \n",
       "        <b>Decimated meshes</b>\n",
       "            <div style=\"max-height:1000px;max-width:1500px;overflow:auto;\">\n",
       "            <table border=\"1\" class=\"Relation\">\n",
       "                <thead> <tr style=\"text-align: right;\"> <th> <div class=\"djtooltip\">\n",
       "                                <p id=\"primary\">segment_id</p>\n",
       "                                <span class=\"djtooltiptext\">segment id unique within each Segmentation</span>\n",
       "                            </div></th><th><div class=\"djtooltip\">\n",
       "                                <p id=\"primary\">version</p>\n",
       "                                <span class=\"djtooltiptext\"></span>\n",
       "                            </div></th><th><div class=\"djtooltip\">\n",
       "                                <p id=\"primary\">decimation_ratio</p>\n",
       "                                <span class=\"djtooltiptext\">ratio of remaining mesh vertices/faces (which ones depends on what metric the decimation technique uses)</span>\n",
       "                            </div></th><th><div class=\"djtooltip\">\n",
       "                                <p id=\"nonprimary\">n_vertices</p>\n",
       "                                <span class=\"djtooltiptext\"></span>\n",
       "                            </div></th><th><div class=\"djtooltip\">\n",
       "                                <p id=\"nonprimary\">n_faces</p>\n",
       "                                <span class=\"djtooltiptext\"></span>\n",
       "                            </div></th><th><div class=\"djtooltip\">\n",
       "                                <p id=\"nonprimary\">mesh</p>\n",
       "                                <span class=\"djtooltiptext\">in-place path to the hdf5 (decimated) mesh file</span>\n",
       "                            </div> </th> </tr> </thead>\n",
       "                <tbody> <tr> <td>864691134947439100</td>\n",
       "<td>0</td>\n",
       "<td>0.25</td>\n",
       "<td>1797878</td>\n",
       "<td>3605176</td>\n",
       "<td>=BLOB=</td></tr><tr><td>864691134988405882</td>\n",
       "<td>0</td>\n",
       "<td>0.25</td>\n",
       "<td>1060353</td>\n",
       "<td>2116900</td>\n",
       "<td>=BLOB=</td></tr><tr><td>864691135012912790</td>\n",
       "<td>0</td>\n",
       "<td>0.25</td>\n",
       "<td>893493</td>\n",
       "<td>1861242</td>\n",
       "<td>=BLOB=</td></tr><tr><td>864691135065024068</td>\n",
       "<td>0</td>\n",
       "<td>0.25</td>\n",
       "<td>1683573</td>\n",
       "<td>3378174</td>\n",
       "<td>=BLOB=</td></tr><tr><td>864691135181746434</td>\n",
       "<td>0</td>\n",
       "<td>0.25</td>\n",
       "<td>720252</td>\n",
       "<td>1490890</td>\n",
       "<td>=BLOB=</td></tr><tr><td>864691135212712576</td>\n",
       "<td>0</td>\n",
       "<td>0.25</td>\n",
       "<td>1137657</td>\n",
       "<td>2318366</td>\n",
       "<td>=BLOB=</td></tr><tr><td>864691135274131941</td>\n",
       "<td>0</td>\n",
       "<td>0.25</td>\n",
       "<td>846184</td>\n",
       "<td>1723523</td>\n",
       "<td>=BLOB=</td></tr><tr><td>864691135307119686</td>\n",
       "<td>0</td>\n",
       "<td>0.25</td>\n",
       "<td>1692226</td>\n",
       "<td>3364820</td>\n",
       "<td>=BLOB=</td></tr><tr><td>864691135341183409</td>\n",
       "<td>0</td>\n",
       "<td>0.25</td>\n",
       "<td>899430</td>\n",
       "<td>1841685</td>\n",
       "<td>=BLOB=</td></tr><tr><td>864691135341185969</td>\n",
       "<td>0</td>\n",
       "<td>0.25</td>\n",
       "<td>1429899</td>\n",
       "<td>2866251</td>\n",
       "<td>=BLOB=</td></tr><tr><td>864691135345238687</td>\n",
       "<td>0</td>\n",
       "<td>0.25</td>\n",
       "<td>1662769</td>\n",
       "<td>3328185</td>\n",
       "<td>=BLOB=</td></tr><tr><td>864691135348254423</td>\n",
       "<td>0</td>\n",
       "<td>0.25</td>\n",
       "<td>1267509</td>\n",
       "<td>2569308</td>\n",
       "<td>=BLOB=</td> </tr> </tbody>\n",
       "            </table>\n",
       "            <p>...</p>\n",
       "            <p>Total: 80</p></div>\n",
       "            "
      ],
      "text/plain": [
       "*segment_id    *version    *decimation_ra n_vertices     n_faces     mesh      \n",
       "+------------+ +---------+ +------------+ +------------+ +---------+ +--------+\n",
       "86469113494743 0           0.25           1797878        3605176     =BLOB=    \n",
       "86469113498840 0           0.25           1060353        2116900     =BLOB=    \n",
       "86469113501291 0           0.25           893493         1861242     =BLOB=    \n",
       "86469113506502 0           0.25           1683573        3378174     =BLOB=    \n",
       "86469113518174 0           0.25           720252         1490890     =BLOB=    \n",
       "86469113521271 0           0.25           1137657        2318366     =BLOB=    \n",
       "86469113527413 0           0.25           846184         1723523     =BLOB=    \n",
       "86469113530711 0           0.25           1692226        3364820     =BLOB=    \n",
       "86469113534118 0           0.25           899430         1841685     =BLOB=    \n",
       "86469113534118 0           0.25           1429899        2866251     =BLOB=    \n",
       "86469113534523 0           0.25           1662769        3328185     =BLOB=    \n",
       "86469113534825 0           0.25           1267509        2569308     =BLOB=    \n",
       "   ...\n",
       " (Total: 80)"
      ]
     },
     "execution_count": 122,
     "metadata": {},
     "output_type": "execute_result"
    }
   ],
   "source": [
    "minnie.Decimation() & (minnie.BaylorSegmentCentroid() & \"multiplicity=1\" & \"n_vertices>40000\").proj()"
   ]
  },
  {
   "cell_type": "code",
   "execution_count": 124,
   "metadata": {},
   "outputs": [
    {
     "data": {
      "text/html": [
       "\n",
       "        \n",
       "        <style type=\"text/css\">\n",
       "            .Relation{\n",
       "                border-collapse:collapse;\n",
       "            }\n",
       "            .Relation th{\n",
       "                background: #A0A0A0; color: #ffffff; padding:4px; border:#f0e0e0 1px solid;\n",
       "                font-weight: normal; font-family: monospace; font-size: 100%;\n",
       "            }\n",
       "            .Relation td{\n",
       "                padding:4px; border:#f0e0e0 1px solid; font-size:100%;\n",
       "            }\n",
       "            .Relation tr:nth-child(odd){\n",
       "                background: #ffffff;\n",
       "            }\n",
       "            .Relation tr:nth-child(even){\n",
       "                background: #f3f1ff;\n",
       "            }\n",
       "            /* Tooltip container */\n",
       "            .djtooltip {\n",
       "            }\n",
       "            /* Tooltip text */\n",
       "            .djtooltip .djtooltiptext {\n",
       "                visibility: hidden;\n",
       "                width: 120px;\n",
       "                background-color: black;\n",
       "                color: #fff;\n",
       "                text-align: center;\n",
       "                padding: 5px 0;\n",
       "                border-radius: 6px;\n",
       "                /* Position the tooltip text - see examples below! */\n",
       "                position: absolute;\n",
       "                z-index: 1;\n",
       "            }\n",
       "            #primary {\n",
       "                font-weight: bold;\n",
       "                color: black;\n",
       "            }\n",
       "\n",
       "            #nonprimary {\n",
       "                font-weight: normal;\n",
       "                color: white;\n",
       "            }\n",
       "\n",
       "            /* Show the tooltip text when you mouse over the tooltip container */\n",
       "            .djtooltip:hover .djtooltiptext {\n",
       "                visibility: visible;\n",
       "            }\n",
       "        </style>\n",
       "        \n",
       "        <b></b>\n",
       "            <div style=\"max-height:1000px;max-width:1500px;overflow:auto;\">\n",
       "            <table border=\"1\" class=\"Relation\">\n",
       "                <thead> <tr style=\"text-align: right;\"> <th> <div class=\"djtooltip\">\n",
       "                                <p id=\"primary\">segment_id</p>\n",
       "                                <span class=\"djtooltiptext\">segment id unique within each Segmentation</span>\n",
       "                            </div></th><th><div class=\"djtooltip\">\n",
       "                                <p id=\"primary\">decimation_version</p>\n",
       "                                <span class=\"djtooltiptext\"></span>\n",
       "                            </div></th><th><div class=\"djtooltip\">\n",
       "                                <p id=\"primary\">decimation_ratio</p>\n",
       "                                <span class=\"djtooltiptext\">ratio of remaining mesh vertices/faces (which ones depends on what metric the decimation technique uses)</span>\n",
       "                            </div></th><th><div class=\"djtooltip\">\n",
       "                                <p id=\"nonprimary\">decomposition</p>\n",
       "                                <span class=\"djtooltiptext\"></span>\n",
       "                            </div></th><th><div class=\"djtooltip\">\n",
       "                                <p id=\"nonprimary\">n_vertices</p>\n",
       "                                <span class=\"djtooltiptext\">number of vertices</span>\n",
       "                            </div></th><th><div class=\"djtooltip\">\n",
       "                                <p id=\"nonprimary\">n_faces</p>\n",
       "                                <span class=\"djtooltiptext\">number of faces</span>\n",
       "                            </div></th><th><div class=\"djtooltip\">\n",
       "                                <p id=\"nonprimary\">n_error_limbs</p>\n",
       "                                <span class=\"djtooltiptext\">the number of limbs that are touching multiple somas or 1 soma in multiple places</span>\n",
       "                            </div></th><th><div class=\"djtooltip\">\n",
       "                                <p id=\"nonprimary\">n_same_soma_multi_touching_limbs</p>\n",
       "                                <span class=\"djtooltiptext\">number of limbs that touch the same soma multiple times</span>\n",
       "                            </div></th><th><div class=\"djtooltip\">\n",
       "                                <p id=\"nonprimary\">n_multi_soma_touching_limbs</p>\n",
       "                                <span class=\"djtooltiptext\">number of limbs that touch multiple somas</span>\n",
       "                            </div></th><th><div class=\"djtooltip\">\n",
       "                                <p id=\"nonprimary\">n_somas</p>\n",
       "                                <span class=\"djtooltiptext\">number of soma meshes detected</span>\n",
       "                            </div></th><th><div class=\"djtooltip\">\n",
       "                                <p id=\"nonprimary\">n_limbs</p>\n",
       "                                <span class=\"djtooltiptext\"></span>\n",
       "                            </div></th><th><div class=\"djtooltip\">\n",
       "                                <p id=\"nonprimary\">n_branches</p>\n",
       "                                <span class=\"djtooltiptext\"></span>\n",
       "                            </div></th><th><div class=\"djtooltip\">\n",
       "                                <p id=\"nonprimary\">max_limb_n_branches</p>\n",
       "                                <span class=\"djtooltiptext\"></span>\n",
       "                            </div></th><th><div class=\"djtooltip\">\n",
       "                                <p id=\"nonprimary\">skeletal_length</p>\n",
       "                                <span class=\"djtooltiptext\"></span>\n",
       "                            </div></th><th><div class=\"djtooltip\">\n",
       "                                <p id=\"nonprimary\">max_limb_skeletal_length</p>\n",
       "                                <span class=\"djtooltiptext\"></span>\n",
       "                            </div></th><th><div class=\"djtooltip\">\n",
       "                                <p id=\"nonprimary\">median_branch_length</p>\n",
       "                                <span class=\"djtooltiptext\">gives information on average skeletal length to next branch point</span>\n",
       "                            </div></th><th><div class=\"djtooltip\">\n",
       "                                <p id=\"nonprimary\">width_median</p>\n",
       "                                <span class=\"djtooltiptext\">median width from mesh center without spines removed</span>\n",
       "                            </div></th><th><div class=\"djtooltip\">\n",
       "                                <p id=\"nonprimary\">width_no_spine_median</p>\n",
       "                                <span class=\"djtooltiptext\">median width from mesh center with spines removed</span>\n",
       "                            </div></th><th><div class=\"djtooltip\">\n",
       "                                <p id=\"nonprimary\">width_90_perc</p>\n",
       "                                <span class=\"djtooltiptext\">90th percentile for width without spines removed</span>\n",
       "                            </div></th><th><div class=\"djtooltip\">\n",
       "                                <p id=\"nonprimary\">width_no_spine_90_perc</p>\n",
       "                                <span class=\"djtooltiptext\">90th percentile for width with spines removed</span>\n",
       "                            </div></th><th><div class=\"djtooltip\">\n",
       "                                <p id=\"nonprimary\">n_spines</p>\n",
       "                                <span class=\"djtooltiptext\"></span>\n",
       "                            </div></th><th><div class=\"djtooltip\">\n",
       "                                <p id=\"nonprimary\">spine_density</p>\n",
       "                                <span class=\"djtooltiptext\">n_spines/ skeletal_length</span>\n",
       "                            </div></th><th><div class=\"djtooltip\">\n",
       "                                <p id=\"nonprimary\">spines_per_branch</p>\n",
       "                                <span class=\"djtooltiptext\"></span>\n",
       "                            </div></th><th><div class=\"djtooltip\">\n",
       "                                <p id=\"nonprimary\">skeletal_length_eligible</p>\n",
       "                                <span class=\"djtooltiptext\">the skeletal length for all branches searched for spines</span>\n",
       "                            </div></th><th><div class=\"djtooltip\">\n",
       "                                <p id=\"nonprimary\">n_spine_eligible_branches</p>\n",
       "                                <span class=\"djtooltiptext\">the number of branches that were checked for spines because passed width threshold</span>\n",
       "                            </div></th><th><div class=\"djtooltip\">\n",
       "                                <p id=\"nonprimary\">spine_density_eligible</p>\n",
       "                                <span class=\"djtooltiptext\">n_spines/skeletal_length_eligible</span>\n",
       "                            </div></th><th><div class=\"djtooltip\">\n",
       "                                <p id=\"nonprimary\">spines_per_branch_eligible</p>\n",
       "                                <span class=\"djtooltiptext\">n_spines/n_spine_eligible_branches</span>\n",
       "                            </div></th><th><div class=\"djtooltip\">\n",
       "                                <p id=\"nonprimary\">total_spine_volume</p>\n",
       "                                <span class=\"djtooltiptext\">the sum of all spine volume</span>\n",
       "                            </div></th><th><div class=\"djtooltip\">\n",
       "                                <p id=\"nonprimary\">spine_volume_median</p>\n",
       "                                <span class=\"djtooltiptext\">median of the spine volume for those spines with able to calculate volume</span>\n",
       "                            </div></th><th><div class=\"djtooltip\">\n",
       "                                <p id=\"nonprimary\">spine_volume_density</p>\n",
       "                                <span class=\"djtooltiptext\">total_spine_volume/skeletal_length</span>\n",
       "                            </div></th><th><div class=\"djtooltip\">\n",
       "                                <p id=\"nonprimary\">spine_volume_density_eligible</p>\n",
       "                                <span class=\"djtooltiptext\">total_spine_volume/skeletal_length_eligible</span>\n",
       "                            </div></th><th><div class=\"djtooltip\">\n",
       "                                <p id=\"nonprimary\">spine_volume_per_branch_eligible</p>\n",
       "                                <span class=\"djtooltiptext\">total_spine_volume/n_spine_eligible_branches</span>\n",
       "                            </div></th><th><div class=\"djtooltip\">\n",
       "                                <p id=\"nonprimary\">run_time</p>\n",
       "                                <span class=\"djtooltiptext\">the amount of time to run (seconds)</span>\n",
       "                            </div> </th> </tr> </thead>\n",
       "                <tbody> <tr> <td>864691135181746434</td>\n",
       "<td>0</td>\n",
       "<td>0.25</td>\n",
       "<td>=BLOB=</td>\n",
       "<td>720252</td>\n",
       "<td>1490890</td>\n",
       "<td>2</td>\n",
       "<td>2</td>\n",
       "<td>0</td>\n",
       "<td>1</td>\n",
       "<td>13</td>\n",
       "<td>298</td>\n",
       "<td>97</td>\n",
       "<td>8322977.398566197</td>\n",
       "<td>2123911.390163392</td>\n",
       "<td>14536.458</td>\n",
       "<td>134.785</td>\n",
       "<td>134.785</td>\n",
       "<td>406.152</td>\n",
       "<td>406.152</td>\n",
       "<td>1423</td>\n",
       "<td>0.00017097246956901995</td>\n",
       "<td>4.775167785234899</td>\n",
       "<td>4426768.602</td>\n",
       "<td>114</td>\n",
       "<td>nan</td>\n",
       "<td>nan</td>\n",
       "<td>70496039964.21707</td>\n",
       "<td>26814740.143327076</td>\n",
       "<td>8470.050630722782</td>\n",
       "<td>15924.943520284116</td>\n",
       "<td>618386315.4755883</td>\n",
       "<td>2188.4753</td> </tr> </tbody>\n",
       "            </table>\n",
       "            \n",
       "            <p>Total: 1</p></div>\n",
       "            "
      ],
      "text/plain": [
       "*segment_id    *decimation_ve *decimation_ra decomposit n_vertices     n_faces     n_error_limbs  n_same_soma_mu n_multi_soma_t n_somas     n_limbs     n_branches     max_limb_n_bra skeletal_lengt max_limb_skele median_branch_ width_median   width_no_spine width_90_perc  width_no_spine n_spines     spine_density  spines_per_bra skeletal_lengt n_spine_eligib spine_density_ spines_per_bra total_spine_vo spine_volume_m spine_volume_d spine_volume_d spine_volume_p run_time     \n",
       "+------------+ +------------+ +------------+ +--------+ +------------+ +---------+ +------------+ +------------+ +------------+ +---------+ +---------+ +------------+ +------------+ +------------+ +------------+ +------------+ +------------+ +------------+ +------------+ +------------+ +----------+ +------------+ +------------+ +------------+ +------------+ +------------+ +------------+ +------------+ +------------+ +------------+ +------------+ +------------+ +-----------+\n",
       "86469113518174 0              0.25           =BLOB=     720252         1490890     2              2              0              1           13          298            97             8322977.398566 2123911.390163 14536.458      134.785        134.785        406.152        406.152        1423         0.000170972469 4.775167785234 4426768.602    114            nan            nan            70496039964.21 26814740.14332 8470.050630722 15924.94352028 618386315.4755 2188.4753    \n",
       " (Total: 1)"
      ]
     },
     "execution_count": 124,
     "metadata": {},
     "output_type": "execute_result"
    }
   ],
   "source": [
    "minnie.Decomposition() & \"segment_id=864691135181746434\""
   ]
  },
  {
   "cell_type": "code",
   "execution_count": 125,
   "metadata": {},
   "outputs": [
    {
     "name": "stdout",
     "output_type": "stream",
     "text": [
      "Decompressing Neuron in minimal output mode...please wait\n"
     ]
    }
   ],
   "source": [
    "neuron_obj = (minnie.Decomposition() & \"segment_id=864691135181746434\").fetch(\"decomposition\")"
   ]
  },
  {
   "cell_type": "code",
   "execution_count": 126,
   "metadata": {},
   "outputs": [
    {
     "name": "stdout",
     "output_type": "stream",
     "text": [
      "\n",
      " Working on visualization type: mesh\n",
      "\n",
      " Working on visualization type: skeleton\n",
      "Working on  new stand alone scatter points\n"
     ]
    },
    {
     "data": {
      "application/vnd.jupyter.widget-view+json": {
       "model_id": "2e96be0648db45d3b2bda03701cf934c",
       "version_major": 2,
       "version_minor": 0
      },
      "text/plain": [
       "VBox(children=(Figure(camera=PerspectiveCamera(fov=46.0, position=(0.0, 0.0, 2.0), quaternion=(0.0, 0.0, 0.0, …"
      ]
     },
     "metadata": {},
     "output_type": "display_data"
    }
   ],
   "source": [
    "import neuron_visualizations as nviz\n",
    "nviz.visualize_neuron(neuron_obj[0],\n",
    "                     visualize_type=[\"mesh\",\"skeleton\"],\n",
    "                     limb_branch_dict=\"all\")"
   ]
  },
  {
   "cell_type": "markdown",
   "metadata": {},
   "source": [
    "# Inspecting the final run statistics"
   ]
  },
  {
   "cell_type": "code",
   "execution_count": 12,
   "metadata": {},
   "outputs": [
    {
     "data": {
      "text/plain": [
       "(97913,)"
      ]
     },
     "execution_count": 12,
     "metadata": {},
     "output_type": "execute_result"
    }
   ],
   "source": [
    "soma_multiplicity = minnie.BaylorSegmentCentroid().fetch(\"multiplicity\")\n",
    "soma_multiplicity.shape"
   ]
  },
  {
   "cell_type": "code",
   "execution_count": 16,
   "metadata": {},
   "outputs": [],
   "source": [
    "total_segment_ids =np.unique(minnie.BaylorSegmentCentroid().fetch(\"segment_id\"))\n",
    "total_segment_ids.shape\n",
    "n_total_segments = len(total_segment_ids)"
   ]
  },
  {
   "cell_type": "code",
   "execution_count": 9,
   "metadata": {},
   "outputs": [],
   "source": [
    "from collections import Counter\n",
    "multiplicity_dict= Counter(soma_multiplicity)"
   ]
  },
  {
   "cell_type": "code",
   "execution_count": null,
   "metadata": {},
   "outputs": [],
   "source": [
    "multiplicity_dict"
   ]
  },
  {
   "cell_type": "code",
   "execution_count": 10,
   "metadata": {},
   "outputs": [
    {
     "data": {
      "text/plain": [
       "array([ 0,  1,  2,  3,  4,  5,  6,  7,  8,  9, 10, 11, 12, 13, 14, 15, 20])"
      ]
     },
     "execution_count": 10,
     "metadata": {},
     "output_type": "execute_result"
    }
   ],
   "source": [
    "n_somas_seen = np.sort(list(multiplicity_dict.keys()))\n",
    "n_somas_seen"
   ]
  },
  {
   "cell_type": "code",
   "execution_count": 23,
   "metadata": {},
   "outputs": [],
   "source": [
    "soma_cell_info = dict()\n",
    "for n_s in n_somas_seen:\n",
    "    if n_s > 0:\n",
    "        soma_cell_info[n_s] = dict(count=(multiplicity_dict[n_s]/n_s),\n",
    "                                  percentage=(multiplicity_dict[n_s]/n_s)/n_total_segments)\n",
    "    else:\n",
    "        soma_cell_info[n_s] = dict(count=(multiplicity_dict[n_s]),\n",
    "                                  percentage=(multiplicity_dict[n_s])/n_total_segments)"
   ]
  },
  {
   "cell_type": "code",
   "execution_count": 24,
   "metadata": {},
   "outputs": [
    {
     "data": {
      "text/plain": [
       "{0: {'count': 13121, 'percentage': 0.15082476004368067},\n",
       " 1: {'count': 66455.0, 'percentage': 0.7638944766940629},\n",
       " 2: {'count': 5445.0, 'percentage': 0.06258980401172481},\n",
       " 3: {'count': 1254.0, 'percentage': 0.014414621529972986},\n",
       " 4: {'count': 381.0, 'percentage': 0.004379562043795621},\n",
       " 5: {'count': 144.0, 'percentage': 0.0016552675441117305},\n",
       " 6: {'count': 86.0, 'percentage': 0.000988562561066728},\n",
       " 7: {'count': 53.0, 'percentage': 0.0006092304155411231},\n",
       " 8: {'count': 26.0, 'percentage': 0.0002988677510201736},\n",
       " 9: {'count': 10.0, 'percentage': 0.00011494913500775907},\n",
       " 10: {'count': 5.0, 'percentage': 5.7474567503879534e-05},\n",
       " 11: {'count': 3.0, 'percentage': 3.448474050232772e-05},\n",
       " 12: {'count': 2.0, 'percentage': 2.2989827001551814e-05},\n",
       " 13: {'count': 5.0, 'percentage': 5.7474567503879534e-05},\n",
       " 14: {'count': 1.0, 'percentage': 1.1494913500775907e-05},\n",
       " 15: {'count': 2.0, 'percentage': 2.2989827001551814e-05},\n",
       " 20: {'count': 2.0, 'percentage': 2.2989827001551814e-05}}"
      ]
     },
     "execution_count": 24,
     "metadata": {},
     "output_type": "execute_result"
    }
   ],
   "source": [
    "soma_cell_info"
   ]
  },
  {
   "cell_type": "code",
   "execution_count": 25,
   "metadata": {},
   "outputs": [
    {
     "data": {
      "text/plain": [
       "1.0"
      ]
     },
     "execution_count": 25,
     "metadata": {},
     "output_type": "execute_result"
    }
   ],
   "source": [
    "#check that percentages add up to 1\n",
    "total_percentages = [k[\"percentage\"] for k in soma_cell_info.values()]\n",
    "np.sum(total_percentages)"
   ]
  },
  {
   "cell_type": "markdown",
   "metadata": {},
   "source": [
    "# Visualiizing the Interesting Cells"
   ]
  },
  {
   "cell_type": "code",
   "execution_count": 28,
   "metadata": {},
   "outputs": [
    {
     "data": {
      "text/plain": [
       "(13121,)"
      ]
     },
     "execution_count": 28,
     "metadata": {},
     "output_type": "execute_result"
    }
   ],
   "source": [
    "curr_multiplicity = 0\n",
    "curr_seg_ids = (minnie.BaylorSegmentCentroid() & f\"multiplicity={curr_multiplicity}\").fetch(\"segment_id\")\n",
    "curr_seg_ids.shape"
   ]
  },
  {
   "cell_type": "code",
   "execution_count": 31,
   "metadata": {},
   "outputs": [
    {
     "name": "stderr",
     "output_type": "stream",
     "text": [
      "INFO - 2020-11-25 18:28:39,120 - settings - Setting enable_python_native_blobs to True\n",
      "INFO - 2020-11-25 18:28:39,347 - settings - Setting enable_python_native_blobs to True\n",
      "INFO - 2020-11-25 18:28:39,349 - settings - Setting enable_python_native_blobs to True\n",
      "INFO - 2020-11-25 18:28:39,545 - settings - Setting enable_python_native_blobs to True\n",
      "INFO - 2020-11-25 18:28:39,862 - settings - Setting enable_python_native_blobs to True\n",
      "INFO - 2020-11-25 18:28:40,083 - settings - Setting enable_python_native_blobs to True\n",
      "INFO - 2020-11-25 18:28:40,137 - settings - Setting enable_python_native_blobs to True\n",
      "INFO - 2020-11-25 18:28:40,358 - settings - Setting enable_python_native_blobs to True\n",
      "/usr/local/lib/python3.6/dist-packages/traittypes/traittypes.py:101: UserWarning: Given trait value dtype \"float64\" does not match required type \"float64\". A coerced copy has been created.\n",
      "  np.dtype(self.dtype).name))\n"
     ]
    },
    {
     "data": {
      "application/vnd.jupyter.widget-view+json": {
       "model_id": "b271a0909757476587d073dff77c803d",
       "version_major": 2,
       "version_minor": 0
      },
      "text/plain": [
       "VBox(children=(Figure(camera=PerspectiveCamera(fov=46.0, position=(0.0, 0.0, 2.0), quaternion=(0.0, 0.0, 0.0, …"
      ]
     },
     "metadata": {},
     "output_type": "display_data"
    }
   ],
   "source": [
    "du.plot_decimated_mesh_with_somas(curr_seg_ids[1000])"
   ]
  },
  {
   "cell_type": "code",
   "execution_count": 32,
   "metadata": {},
   "outputs": [
    {
     "name": "stderr",
     "output_type": "stream",
     "text": [
      "INFO - 2020-11-25 18:29:01,193 - settings - Setting enable_python_native_blobs to True\n",
      "INFO - 2020-11-25 18:29:01,439 - settings - Setting enable_python_native_blobs to True\n",
      "INFO - 2020-11-25 18:29:01,441 - settings - Setting enable_python_native_blobs to True\n",
      "INFO - 2020-11-25 18:29:01,660 - settings - Setting enable_python_native_blobs to True\n",
      "INFO - 2020-11-25 18:29:01,976 - settings - Setting enable_python_native_blobs to True\n",
      "INFO - 2020-11-25 18:29:02,269 - settings - Setting enable_python_native_blobs to True\n",
      "INFO - 2020-11-25 18:29:02,292 - settings - Setting enable_python_native_blobs to True\n",
      "INFO - 2020-11-25 18:29:02,554 - settings - Setting enable_python_native_blobs to True\n",
      "/usr/local/lib/python3.6/dist-packages/traittypes/traittypes.py:101: UserWarning: Given trait value dtype \"float64\" does not match required type \"float64\". A coerced copy has been created.\n",
      "  np.dtype(self.dtype).name))\n"
     ]
    },
    {
     "data": {
      "application/vnd.jupyter.widget-view+json": {
       "model_id": "96df0e4c95ea4a88837d44a6e9bd2397",
       "version_major": 2,
       "version_minor": 0
      },
      "text/plain": [
       "VBox(children=(Figure(camera=PerspectiveCamera(fov=46.0, position=(0.0, 0.0, 2.0), quaternion=(0.0, 0.0, 0.0, …"
      ]
     },
     "metadata": {},
     "output_type": "display_data"
    }
   ],
   "source": [
    "#Example of where can just be simple soma\n",
    "du.plot_decimated_mesh_with_somas(curr_seg_ids[100])"
   ]
  },
  {
   "cell_type": "markdown",
   "metadata": {},
   "source": [
    "# Multiplicity 1"
   ]
  },
  {
   "cell_type": "code",
   "execution_count": 50,
   "metadata": {},
   "outputs": [
    {
     "data": {
      "text/plain": [
       "(66455,)"
      ]
     },
     "execution_count": 50,
     "metadata": {},
     "output_type": "execute_result"
    }
   ],
   "source": [
    "curr_multiplicity = 1\n",
    "curr_seg_ids = (minnie.BaylorSegmentCentroid() & f\"multiplicity={curr_multiplicity}\").fetch(\"segment_id\")\n",
    "curr_seg_ids.shape"
   ]
  },
  {
   "cell_type": "code",
   "execution_count": 35,
   "metadata": {},
   "outputs": [
    {
     "name": "stderr",
     "output_type": "stream",
     "text": [
      "INFO - 2020-11-25 18:29:58,082 - settings - Setting enable_python_native_blobs to True\n",
      "INFO - 2020-11-25 18:29:58,324 - settings - Setting enable_python_native_blobs to True\n",
      "INFO - 2020-11-25 18:29:58,326 - settings - Setting enable_python_native_blobs to True\n",
      "INFO - 2020-11-25 18:29:58,580 - settings - Setting enable_python_native_blobs to True\n",
      "INFO - 2020-11-25 18:30:05,097 - settings - Setting enable_python_native_blobs to True\n",
      "INFO - 2020-11-25 18:30:05,381 - settings - Setting enable_python_native_blobs to True\n",
      "INFO - 2020-11-25 18:30:05,619 - settings - Setting enable_python_native_blobs to True\n",
      "INFO - 2020-11-25 18:30:05,890 - settings - Setting enable_python_native_blobs to True\n",
      "/usr/local/lib/python3.6/dist-packages/traittypes/traittypes.py:101: UserWarning: Given trait value dtype \"float64\" does not match required type \"float64\". A coerced copy has been created.\n",
      "  np.dtype(self.dtype).name))\n"
     ]
    },
    {
     "data": {
      "application/vnd.jupyter.widget-view+json": {
       "model_id": "43be3a9d81b549c1b26904b8026090db",
       "version_major": 2,
       "version_minor": 0
      },
      "text/plain": [
       "VBox(children=(Figure(camera=PerspectiveCamera(fov=46.0, position=(0.0, 0.0, 2.0), quaternion=(0.0, 0.0, 0.0, …"
      ]
     },
     "metadata": {},
     "output_type": "display_data"
    }
   ],
   "source": [
    "du.plot_decimated_mesh_with_somas(curr_seg_ids[1000])"
   ]
  },
  {
   "cell_type": "code",
   "execution_count": 37,
   "metadata": {},
   "outputs": [
    {
     "name": "stderr",
     "output_type": "stream",
     "text": [
      "INFO - 2020-11-25 18:31:07,086 - settings - Setting enable_python_native_blobs to True\n",
      "INFO - 2020-11-25 18:31:07,405 - settings - Setting enable_python_native_blobs to True\n",
      "INFO - 2020-11-25 18:31:07,407 - settings - Setting enable_python_native_blobs to True\n",
      "INFO - 2020-11-25 18:31:07,728 - settings - Setting enable_python_native_blobs to True\n",
      "INFO - 2020-11-25 18:31:08,517 - settings - Setting enable_python_native_blobs to True\n",
      "INFO - 2020-11-25 18:31:08,868 - settings - Setting enable_python_native_blobs to True\n",
      "INFO - 2020-11-25 18:31:08,996 - settings - Setting enable_python_native_blobs to True\n",
      "INFO - 2020-11-25 18:31:09,334 - settings - Setting enable_python_native_blobs to True\n",
      "/usr/local/lib/python3.6/dist-packages/traittypes/traittypes.py:101: UserWarning: Given trait value dtype \"float64\" does not match required type \"float64\". A coerced copy has been created.\n",
      "  np.dtype(self.dtype).name))\n"
     ]
    },
    {
     "data": {
      "application/vnd.jupyter.widget-view+json": {
       "model_id": "c628027e1e02402eadf2b1f96baa746d",
       "version_major": 2,
       "version_minor": 0
      },
      "text/plain": [
       "VBox(children=(Figure(camera=PerspectiveCamera(fov=46.0, position=(0.0, 0.0, 2.0), quaternion=(0.0, 0.0, 0.0, …"
      ]
     },
     "metadata": {},
     "output_type": "display_data"
    }
   ],
   "source": [
    "du.plot_decimated_mesh_with_somas(curr_seg_ids[4000])"
   ]
  },
  {
   "cell_type": "code",
   "execution_count": 51,
   "metadata": {},
   "outputs": [
    {
     "name": "stderr",
     "output_type": "stream",
     "text": [
      "INFO - 2020-11-25 18:40:20,020 - settings - Setting enable_python_native_blobs to True\n"
     ]
    },
    {
     "name": "stdout",
     "output_type": "stream",
     "text": [
      "Segment id = 864691135181748482\n"
     ]
    },
    {
     "name": "stderr",
     "output_type": "stream",
     "text": [
      "INFO - 2020-11-25 18:40:20,522 - settings - Setting enable_python_native_blobs to True\n",
      "INFO - 2020-11-25 18:40:20,524 - settings - Setting enable_python_native_blobs to True\n",
      "INFO - 2020-11-25 18:40:21,034 - settings - Setting enable_python_native_blobs to True\n",
      "INFO - 2020-11-25 18:40:24,691 - settings - Setting enable_python_native_blobs to True\n",
      "INFO - 2020-11-25 18:40:25,233 - settings - Setting enable_python_native_blobs to True\n",
      "INFO - 2020-11-25 18:40:25,459 - settings - Setting enable_python_native_blobs to True\n",
      "INFO - 2020-11-25 18:40:25,973 - settings - Setting enable_python_native_blobs to True\n",
      "/usr/local/lib/python3.6/dist-packages/traittypes/traittypes.py:101: UserWarning: Given trait value dtype \"float64\" does not match required type \"float64\". A coerced copy has been created.\n",
      "  np.dtype(self.dtype).name))\n"
     ]
    },
    {
     "data": {
      "application/vnd.jupyter.widget-view+json": {
       "model_id": "3e6f6c4cea4f48fea64bb3ab4a064335",
       "version_major": 2,
       "version_minor": 0
      },
      "text/plain": [
       "VBox(children=(Figure(camera=PerspectiveCamera(fov=46.0, position=(0.0, 0.0, 2.0), quaternion=(0.0, 0.0, 0.0, …"
      ]
     },
     "metadata": {},
     "output_type": "display_data"
    }
   ],
   "source": [
    "curr_id = curr_seg_ids[5000]\n",
    "print(f\"Segment id = {curr_id}\")\n",
    "du.plot_decimated_mesh_with_somas(curr_id)"
   ]
  },
  {
   "cell_type": "code",
   "execution_count": 52,
   "metadata": {},
   "outputs": [
    {
     "name": "stderr",
     "output_type": "stream",
     "text": [
      "INFO - 2020-11-25 18:40:26,341 - settings - Setting enable_python_native_blobs to True\n"
     ]
    },
    {
     "name": "stdout",
     "output_type": "stream",
     "text": [
      "Segment id = 864691136796957038\n"
     ]
    },
    {
     "name": "stderr",
     "output_type": "stream",
     "text": [
      "INFO - 2020-11-25 18:40:26,897 - settings - Setting enable_python_native_blobs to True\n",
      "INFO - 2020-11-25 18:40:26,899 - settings - Setting enable_python_native_blobs to True\n",
      "INFO - 2020-11-25 18:40:27,436 - settings - Setting enable_python_native_blobs to True\n",
      "INFO - 2020-11-25 18:40:33,888 - settings - Setting enable_python_native_blobs to True\n",
      "INFO - 2020-11-25 18:40:34,437 - settings - Setting enable_python_native_blobs to True\n",
      "INFO - 2020-11-25 18:40:34,814 - settings - Setting enable_python_native_blobs to True\n",
      "INFO - 2020-11-25 18:40:35,376 - settings - Setting enable_python_native_blobs to True\n",
      "/usr/local/lib/python3.6/dist-packages/traittypes/traittypes.py:101: UserWarning: Given trait value dtype \"float64\" does not match required type \"float64\". A coerced copy has been created.\n",
      "  np.dtype(self.dtype).name))\n"
     ]
    },
    {
     "data": {
      "application/vnd.jupyter.widget-view+json": {
       "model_id": "7a25afb4d11f47acbca37366d9ad3e09",
       "version_major": 2,
       "version_minor": 0
      },
      "text/plain": [
       "VBox(children=(Figure(camera=PerspectiveCamera(fov=46.0, position=(0.0, 0.0, 2.0), quaternion=(0.0, 0.0, 0.0, …"
      ]
     },
     "metadata": {},
     "output_type": "display_data"
    }
   ],
   "source": [
    "curr_id = curr_seg_ids[-4000]\n",
    "print(f\"Segment id = {curr_id}\")\n",
    "du.plot_decimated_mesh_with_somas(curr_id)"
   ]
  },
  {
   "cell_type": "code",
   "execution_count": 104,
   "metadata": {},
   "outputs": [
    {
     "data": {
      "text/plain": [
       "17852"
      ]
     },
     "execution_count": 104,
     "metadata": {},
     "output_type": "execute_result"
    }
   ],
   "source": [
    "len(minnie.Decomposition())"
   ]
  },
  {
   "cell_type": "markdown",
   "metadata": {},
   "source": [
    "# Blood Vessels"
   ]
  },
  {
   "cell_type": "code",
   "execution_count": 95,
   "metadata": {},
   "outputs": [
    {
     "data": {
      "text/plain": [
       "(10890,)"
      ]
     },
     "execution_count": 95,
     "metadata": {},
     "output_type": "execute_result"
    }
   ],
   "source": [
    "curr_multiplicity = 2\n",
    "curr_seg_ids_2 = (minnie.BaylorSegmentCentroid() & f\"multiplicity={curr_multiplicity}\").fetch(\"segment_id\")\n",
    "curr_seg_ids_2.shape"
   ]
  },
  {
   "cell_type": "code",
   "execution_count": 102,
   "metadata": {},
   "outputs": [
    {
     "name": "stderr",
     "output_type": "stream",
     "text": [
      "INFO - 2020-11-25 20:03:40,430 - settings - Setting enable_python_native_blobs to True\n"
     ]
    },
    {
     "name": "stdout",
     "output_type": "stream",
     "text": [
      "Segment_id = 864691135837175443\n"
     ]
    },
    {
     "name": "stderr",
     "output_type": "stream",
     "text": [
      "INFO - 2020-11-25 20:03:41,411 - settings - Setting enable_python_native_blobs to True\n",
      "INFO - 2020-11-25 20:03:41,414 - settings - Setting enable_python_native_blobs to True\n",
      "INFO - 2020-11-25 20:03:42,338 - settings - Setting enable_python_native_blobs to True\n",
      "INFO - 2020-11-25 20:03:56,673 - settings - Setting enable_python_native_blobs to True\n",
      "INFO - 2020-11-25 20:03:57,650 - settings - Setting enable_python_native_blobs to True\n",
      "INFO - 2020-11-25 20:03:58,323 - settings - Setting enable_python_native_blobs to True\n",
      "INFO - 2020-11-25 20:03:59,237 - settings - Setting enable_python_native_blobs to True\n",
      "/usr/local/lib/python3.6/dist-packages/traittypes/traittypes.py:101: UserWarning: Given trait value dtype \"float64\" does not match required type \"float64\". A coerced copy has been created.\n",
      "  np.dtype(self.dtype).name))\n"
     ]
    },
    {
     "data": {
      "application/vnd.jupyter.widget-view+json": {
       "model_id": "7cf02fbaf5cf43adb920d4dd550957e7",
       "version_major": 2,
       "version_minor": 0
      },
      "text/plain": [
       "VBox(children=(Figure(camera=PerspectiveCamera(fov=46.0, position=(0.0, 0.0, 2.0), quaternion=(0.0, 0.0, 0.0, …"
      ]
     },
     "metadata": {},
     "output_type": "display_data"
    }
   ],
   "source": [
    "du.plot_decimated_mesh_with_somas(curr_seg_ids_2[-5200])"
   ]
  },
  {
   "cell_type": "markdown",
   "metadata": {},
   "source": [
    "# Multiplicity 2"
   ]
  },
  {
   "cell_type": "code",
   "execution_count": 40,
   "metadata": {},
   "outputs": [
    {
     "data": {
      "text/plain": [
       "(10890,)"
      ]
     },
     "execution_count": 40,
     "metadata": {},
     "output_type": "execute_result"
    }
   ],
   "source": [
    "curr_multiplicity = 2\n",
    "curr_seg_ids = (minnie.BaylorSegmentCentroid() & f\"multiplicity={curr_multiplicity}\").fetch(\"segment_id\")\n",
    "curr_seg_ids.shape"
   ]
  },
  {
   "cell_type": "code",
   "execution_count": 44,
   "metadata": {},
   "outputs": [
    {
     "data": {
      "text/plain": [
       "(864691136068991014, 864691135947443402)"
      ]
     },
     "execution_count": 44,
     "metadata": {},
     "output_type": "execute_result"
    }
   ],
   "source": [
    "curr_seg_ids[-3000],curr_seg_ids[-4000]"
   ]
  },
  {
   "cell_type": "code",
   "execution_count": 45,
   "metadata": {},
   "outputs": [
    {
     "name": "stderr",
     "output_type": "stream",
     "text": [
      "INFO - 2020-11-25 18:35:46,606 - settings - Setting enable_python_native_blobs to True\n",
      "INFO - 2020-11-25 18:35:47,085 - settings - Setting enable_python_native_blobs to True\n",
      "INFO - 2020-11-25 18:35:47,088 - settings - Setting enable_python_native_blobs to True\n",
      "INFO - 2020-11-25 18:35:47,528 - settings - Setting enable_python_native_blobs to True\n",
      "INFO - 2020-11-25 18:35:47,953 - settings - Setting enable_python_native_blobs to True\n",
      "INFO - 2020-11-25 18:35:48,381 - settings - Setting enable_python_native_blobs to True\n",
      "INFO - 2020-11-25 18:35:48,475 - settings - Setting enable_python_native_blobs to True\n",
      "INFO - 2020-11-25 18:35:48,892 - settings - Setting enable_python_native_blobs to True\n",
      "/usr/local/lib/python3.6/dist-packages/traittypes/traittypes.py:101: UserWarning: Given trait value dtype \"float64\" does not match required type \"float64\". A coerced copy has been created.\n",
      "  np.dtype(self.dtype).name))\n"
     ]
    },
    {
     "data": {
      "application/vnd.jupyter.widget-view+json": {
       "model_id": "c9d35cea2f324d8b86b352b9ac581dd0",
       "version_major": 2,
       "version_minor": 0
      },
      "text/plain": [
       "VBox(children=(Figure(camera=PerspectiveCamera(fov=46.0, position=(0.0, 0.0, 2.0), quaternion=(0.0, 0.0, 0.0, …"
      ]
     },
     "metadata": {},
     "output_type": "display_data"
    }
   ],
   "source": [
    "du.plot_decimated_mesh_with_somas(curr_seg_ids[-4000])"
   ]
  },
  {
   "cell_type": "code",
   "execution_count": 46,
   "metadata": {},
   "outputs": [
    {
     "name": "stderr",
     "output_type": "stream",
     "text": [
      "INFO - 2020-11-25 18:37:57,764 - settings - Setting enable_python_native_blobs to True\n"
     ]
    },
    {
     "name": "stdout",
     "output_type": "stream",
     "text": [
      "Segment id = 864691136813445742\n"
     ]
    },
    {
     "name": "stderr",
     "output_type": "stream",
     "text": [
      "INFO - 2020-11-25 18:37:58,228 - settings - Setting enable_python_native_blobs to True\n",
      "INFO - 2020-11-25 18:37:58,230 - settings - Setting enable_python_native_blobs to True\n",
      "INFO - 2020-11-25 18:37:58,689 - settings - Setting enable_python_native_blobs to True\n",
      "INFO - 2020-11-25 18:38:09,014 - settings - Setting enable_python_native_blobs to True\n",
      "INFO - 2020-11-25 18:38:09,455 - settings - Setting enable_python_native_blobs to True\n",
      "INFO - 2020-11-25 18:38:09,783 - settings - Setting enable_python_native_blobs to True\n",
      "INFO - 2020-11-25 18:38:10,214 - settings - Setting enable_python_native_blobs to True\n",
      "/usr/local/lib/python3.6/dist-packages/traittypes/traittypes.py:101: UserWarning: Given trait value dtype \"float64\" does not match required type \"float64\". A coerced copy has been created.\n",
      "  np.dtype(self.dtype).name))\n"
     ]
    },
    {
     "data": {
      "application/vnd.jupyter.widget-view+json": {
       "model_id": "802375e65d27460f88fe7f0d2de4515f",
       "version_major": 2,
       "version_minor": 0
      },
      "text/plain": [
       "VBox(children=(Figure(camera=PerspectiveCamera(fov=46.0, position=(0.0, 0.0, 2.0), quaternion=(0.0, 0.0, 0.0, …"
      ]
     },
     "metadata": {},
     "output_type": "display_data"
    }
   ],
   "source": [
    "curr_id = curr_seg_ids[-1000]\n",
    "print(f\"Segment id = {curr_id}\")\n",
    "du.plot_decimated_mesh_with_somas(curr_id)"
   ]
  },
  {
   "cell_type": "code",
   "execution_count": 47,
   "metadata": {},
   "outputs": [
    {
     "name": "stderr",
     "output_type": "stream",
     "text": [
      "INFO - 2020-11-25 18:38:25,618 - settings - Setting enable_python_native_blobs to True\n"
     ]
    },
    {
     "name": "stdout",
     "output_type": "stream",
     "text": [
      "Segment id = 864691136328914666\n"
     ]
    },
    {
     "name": "stderr",
     "output_type": "stream",
     "text": [
      "INFO - 2020-11-25 18:38:26,092 - settings - Setting enable_python_native_blobs to True\n",
      "INFO - 2020-11-25 18:38:26,094 - settings - Setting enable_python_native_blobs to True\n",
      "INFO - 2020-11-25 18:38:26,547 - settings - Setting enable_python_native_blobs to True\n",
      "INFO - 2020-11-25 18:38:29,837 - settings - Setting enable_python_native_blobs to True\n",
      "INFO - 2020-11-25 18:38:30,296 - settings - Setting enable_python_native_blobs to True\n",
      "INFO - 2020-11-25 18:38:30,540 - settings - Setting enable_python_native_blobs to True\n",
      "INFO - 2020-11-25 18:38:31,049 - settings - Setting enable_python_native_blobs to True\n",
      "/usr/local/lib/python3.6/dist-packages/traittypes/traittypes.py:101: UserWarning: Given trait value dtype \"float64\" does not match required type \"float64\". A coerced copy has been created.\n",
      "  np.dtype(self.dtype).name))\n"
     ]
    },
    {
     "data": {
      "application/vnd.jupyter.widget-view+json": {
       "model_id": "680462f51a52403799d07524abff5802",
       "version_major": 2,
       "version_minor": 0
      },
      "text/plain": [
       "VBox(children=(Figure(camera=PerspectiveCamera(fov=46.0, position=(0.0, 0.0, 2.0), quaternion=(0.0, 0.0, 0.0, …"
      ]
     },
     "metadata": {},
     "output_type": "display_data"
    }
   ],
   "source": [
    "curr_id = curr_seg_ids[-2000]\n",
    "print(f\"Segment id = {curr_id}\")\n",
    "du.plot_decimated_mesh_with_somas(curr_id)"
   ]
  },
  {
   "cell_type": "markdown",
   "metadata": {},
   "source": [
    "# Multiplicity 3"
   ]
  },
  {
   "cell_type": "code",
   "execution_count": 53,
   "metadata": {},
   "outputs": [
    {
     "data": {
      "text/plain": [
       "(3762,)"
      ]
     },
     "execution_count": 53,
     "metadata": {},
     "output_type": "execute_result"
    }
   ],
   "source": [
    "curr_multiplicity = 3\n",
    "curr_seg_ids_3 = (minnie.BaylorSegmentCentroid() & f\"multiplicity={curr_multiplicity}\").fetch(\"segment_id\")\n",
    "curr_seg_ids_3.shape"
   ]
  },
  {
   "cell_type": "code",
   "execution_count": 55,
   "metadata": {},
   "outputs": [
    {
     "name": "stderr",
     "output_type": "stream",
     "text": [
      "INFO - 2020-11-25 18:44:05,359 - settings - Setting enable_python_native_blobs to True\n"
     ]
    },
    {
     "name": "stdout",
     "output_type": "stream",
     "text": [
      "Segment_id = 864691136951599327\n"
     ]
    },
    {
     "name": "stderr",
     "output_type": "stream",
     "text": [
      "INFO - 2020-11-25 18:44:05,959 - settings - Setting enable_python_native_blobs to True\n",
      "INFO - 2020-11-25 18:44:05,962 - settings - Setting enable_python_native_blobs to True\n",
      "INFO - 2020-11-25 18:44:06,531 - settings - Setting enable_python_native_blobs to True\n",
      "INFO - 2020-11-25 18:44:34,181 - settings - Setting enable_python_native_blobs to True\n",
      "INFO - 2020-11-25 18:44:34,752 - settings - Setting enable_python_native_blobs to True\n",
      "INFO - 2020-11-25 18:44:34,943 - settings - Setting enable_python_native_blobs to True\n",
      "INFO - 2020-11-25 18:44:35,525 - settings - Setting enable_python_native_blobs to True\n",
      "/usr/local/lib/python3.6/dist-packages/traittypes/traittypes.py:101: UserWarning: Given trait value dtype \"float64\" does not match required type \"float64\". A coerced copy has been created.\n",
      "  np.dtype(self.dtype).name))\n"
     ]
    },
    {
     "data": {
      "application/vnd.jupyter.widget-view+json": {
       "model_id": "77f60cb497ef409c90ad613c62c98544",
       "version_major": 2,
       "version_minor": 0
      },
      "text/plain": [
       "VBox(children=(Figure(camera=PerspectiveCamera(fov=46.0, position=(0.0, 0.0, 2.0), quaternion=(0.0, 0.0, 0.0, …"
      ]
     },
     "metadata": {},
     "output_type": "display_data"
    }
   ],
   "source": [
    "du.plot_decimated_mesh_with_somas(curr_seg_ids_3[-100])"
   ]
  },
  {
   "cell_type": "code",
   "execution_count": 56,
   "metadata": {},
   "outputs": [
    {
     "name": "stderr",
     "output_type": "stream",
     "text": [
      "INFO - 2020-11-25 18:45:51,869 - settings - Setting enable_python_native_blobs to True\n"
     ]
    },
    {
     "name": "stdout",
     "output_type": "stream",
     "text": [
      "Segment_id = 864691136911652337\n"
     ]
    },
    {
     "name": "stderr",
     "output_type": "stream",
     "text": [
      "INFO - 2020-11-25 18:45:52,479 - settings - Setting enable_python_native_blobs to True\n",
      "INFO - 2020-11-25 18:45:52,482 - settings - Setting enable_python_native_blobs to True\n",
      "INFO - 2020-11-25 18:45:53,115 - settings - Setting enable_python_native_blobs to True\n",
      "INFO - 2020-11-25 18:46:10,483 - settings - Setting enable_python_native_blobs to True\n",
      "INFO - 2020-11-25 18:46:11,198 - settings - Setting enable_python_native_blobs to True\n",
      "INFO - 2020-11-25 18:46:12,542 - settings - Setting enable_python_native_blobs to True\n",
      "INFO - 2020-11-25 18:46:13,162 - settings - Setting enable_python_native_blobs to True\n",
      "/usr/local/lib/python3.6/dist-packages/traittypes/traittypes.py:101: UserWarning: Given trait value dtype \"float64\" does not match required type \"float64\". A coerced copy has been created.\n",
      "  np.dtype(self.dtype).name))\n"
     ]
    },
    {
     "data": {
      "application/vnd.jupyter.widget-view+json": {
       "model_id": "51a76071eb254757aebdb9568395e4ea",
       "version_major": 2,
       "version_minor": 0
      },
      "text/plain": [
       "VBox(children=(Figure(camera=PerspectiveCamera(fov=46.0, position=(0.0, 0.0, 2.0), quaternion=(0.0, 0.0, 0.0, …"
      ]
     },
     "metadata": {},
     "output_type": "display_data"
    }
   ],
   "source": [
    "du.plot_decimated_mesh_with_somas(curr_seg_ids_3[-200])"
   ]
  },
  {
   "cell_type": "code",
   "execution_count": 57,
   "metadata": {},
   "outputs": [
    {
     "name": "stderr",
     "output_type": "stream",
     "text": [
      "INFO - 2020-11-25 18:47:14,824 - settings - Setting enable_python_native_blobs to True\n"
     ]
    },
    {
     "name": "stdout",
     "output_type": "stream",
     "text": [
      "Segment_id = 864691136723449853\n"
     ]
    },
    {
     "name": "stderr",
     "output_type": "stream",
     "text": [
      "INFO - 2020-11-25 18:47:15,453 - settings - Setting enable_python_native_blobs to True\n",
      "INFO - 2020-11-25 18:47:29,037 - settings - Setting enable_python_native_blobs to True\n",
      "INFO - 2020-11-25 18:47:29,697 - settings - Setting enable_python_native_blobs to True\n",
      "INFO - 2020-11-25 18:47:30,615 - settings - Setting enable_python_native_blobs to True\n",
      "INFO - 2020-11-25 18:47:31,199 - settings - Setting enable_python_native_blobs to True\n",
      "/usr/local/lib/python3.6/dist-packages/traittypes/traittypes.py:101: UserWarning: Given trait value dtype \"float64\" does not match required type \"float64\". A coerced copy has been created.\n",
      "  np.dtype(self.dtype).name))\n"
     ]
    },
    {
     "data": {
      "application/vnd.jupyter.widget-view+json": {
       "model_id": "e29998a21b2f457b982491a04a1e7432",
       "version_major": 2,
       "version_minor": 0
      },
      "text/plain": [
       "VBox(children=(Figure(camera=PerspectiveCamera(fov=46.0, position=(0.0, 0.0, 2.0), quaternion=(0.0, 0.0, 0.0, …"
      ]
     },
     "metadata": {},
     "output_type": "display_data"
    }
   ],
   "source": [
    "du.plot_decimated_mesh_with_somas(curr_seg_ids_3[-500],minnie)"
   ]
  },
  {
   "cell_type": "code",
   "execution_count": 59,
   "metadata": {},
   "outputs": [
    {
     "name": "stderr",
     "output_type": "stream",
     "text": [
      "INFO - 2020-11-25 18:54:03,443 - settings - Setting enable_python_native_blobs to True\n"
     ]
    },
    {
     "name": "stdout",
     "output_type": "stream",
     "text": [
      "Segment_id = 864691136418639767\n"
     ]
    },
    {
     "name": "stderr",
     "output_type": "stream",
     "text": [
      "INFO - 2020-11-25 18:54:04,057 - settings - Setting enable_python_native_blobs to True\n",
      "INFO - 2020-11-25 18:54:52,238 - settings - Setting enable_python_native_blobs to True\n",
      "INFO - 2020-11-25 18:54:52,897 - settings - Setting enable_python_native_blobs to True\n",
      "INFO - 2020-11-25 18:54:53,877 - settings - Setting enable_python_native_blobs to True\n",
      "INFO - 2020-11-25 18:54:54,489 - settings - Setting enable_python_native_blobs to True\n",
      "/usr/local/lib/python3.6/dist-packages/traittypes/traittypes.py:101: UserWarning: Given trait value dtype \"float64\" does not match required type \"float64\". A coerced copy has been created.\n",
      "  np.dtype(self.dtype).name))\n"
     ]
    },
    {
     "data": {
      "application/vnd.jupyter.widget-view+json": {
       "model_id": "033fe043ea914623b8c0a84d513ebc03",
       "version_major": 2,
       "version_minor": 0
      },
      "text/plain": [
       "VBox(children=(Figure(camera=PerspectiveCamera(fov=46.0, position=(0.0, 0.0, 2.0), quaternion=(0.0, 0.0, 0.0, …"
      ]
     },
     "metadata": {},
     "output_type": "display_data"
    }
   ],
   "source": [
    "du.plot_decimated_mesh_with_somas(curr_seg_ids_3[-700],minnie)"
   ]
  },
  {
   "cell_type": "code",
   "execution_count": 58,
   "metadata": {},
   "outputs": [
    {
     "data": {
      "text/html": [
       "\n",
       "        \n",
       "        <style type=\"text/css\">\n",
       "            .Relation{\n",
       "                border-collapse:collapse;\n",
       "            }\n",
       "            .Relation th{\n",
       "                background: #A0A0A0; color: #ffffff; padding:4px; border:#f0e0e0 1px solid;\n",
       "                font-weight: normal; font-family: monospace; font-size: 100%;\n",
       "            }\n",
       "            .Relation td{\n",
       "                padding:4px; border:#f0e0e0 1px solid; font-size:100%;\n",
       "            }\n",
       "            .Relation tr:nth-child(odd){\n",
       "                background: #ffffff;\n",
       "            }\n",
       "            .Relation tr:nth-child(even){\n",
       "                background: #f3f1ff;\n",
       "            }\n",
       "            /* Tooltip container */\n",
       "            .djtooltip {\n",
       "            }\n",
       "            /* Tooltip text */\n",
       "            .djtooltip .djtooltiptext {\n",
       "                visibility: hidden;\n",
       "                width: 120px;\n",
       "                background-color: black;\n",
       "                color: #fff;\n",
       "                text-align: center;\n",
       "                padding: 5px 0;\n",
       "                border-radius: 6px;\n",
       "                /* Position the tooltip text - see examples below! */\n",
       "                position: absolute;\n",
       "                z-index: 1;\n",
       "            }\n",
       "            #primary {\n",
       "                font-weight: bold;\n",
       "                color: black;\n",
       "            }\n",
       "\n",
       "            #nonprimary {\n",
       "                font-weight: normal;\n",
       "                color: white;\n",
       "            }\n",
       "\n",
       "            /* Show the tooltip text when you mouse over the tooltip container */\n",
       "            .djtooltip:hover .djtooltiptext {\n",
       "                visibility: visible;\n",
       "            }\n",
       "        </style>\n",
       "        \n",
       "        <b></b>\n",
       "            <div style=\"max-height:1000px;max-width:1500px;overflow:auto;\">\n",
       "            <table border=\"1\" class=\"Relation\">\n",
       "                <thead> <tr style=\"text-align: right;\"> <th> <div class=\"djtooltip\">\n",
       "                                <p id=\"primary\">segment_id</p>\n",
       "                                <span class=\"djtooltiptext\">segment id for those to be decimated</span>\n",
       "                            </div> </th> </tr> </thead>\n",
       "                <tbody> <tr> <td>864691131559524855</td></tr><tr><td>864691131625403045</td></tr><tr><td>864691131771477291</td></tr><tr><td>864691131834277640</td></tr><tr><td>864691131868306405</td></tr><tr><td>864691131881790489</td></tr><tr><td>864691131906133483</td></tr><tr><td>864691131927301557</td></tr><tr><td>864691131953361537</td></tr><tr><td>864691131956238489</td></tr><tr><td>864691131993414572</td></tr><tr><td>864691131993845256</td> </tr> </tbody>\n",
       "            </table>\n",
       "            <p>...</p>\n",
       "            <p>Total: 114784</p></div>\n",
       "            "
      ],
      "text/plain": [
       "*segment_id   \n",
       "+------------+\n",
       "86469113155952\n",
       "86469113162540\n",
       "86469113177147\n",
       "86469113183427\n",
       "86469113186830\n",
       "86469113188179\n",
       "86469113190613\n",
       "86469113192730\n",
       "86469113195336\n",
       "86469113195623\n",
       "86469113199341\n",
       "86469113199384\n",
       "   ...\n",
       " (Total: 114784)"
      ]
     },
     "execution_count": 58,
     "metadata": {},
     "output_type": "execute_result"
    }
   ],
   "source": [
    "minnie.SegToDecimateFromNuclei()"
   ]
  },
  {
   "cell_type": "markdown",
   "metadata": {},
   "source": [
    "# 4 Somas"
   ]
  },
  {
   "cell_type": "code",
   "execution_count": 60,
   "metadata": {},
   "outputs": [
    {
     "data": {
      "text/plain": [
       "(1524,)"
      ]
     },
     "execution_count": 60,
     "metadata": {},
     "output_type": "execute_result"
    }
   ],
   "source": [
    "curr_multiplicity = 4\n",
    "curr_seg_ids_4 = (minnie.BaylorSegmentCentroid() & f\"multiplicity={curr_multiplicity}\").fetch(\"segment_id\")\n",
    "curr_seg_ids_4.shape"
   ]
  },
  {
   "cell_type": "code",
   "execution_count": 71,
   "metadata": {},
   "outputs": [
    {
     "data": {
      "application/vnd.jupyter.widget-view+json": {
       "model_id": "26b5ae8bbfbf4ab38acfbbebdf297a77",
       "version_major": 2,
       "version_minor": 0
      },
      "text/plain": [
       "VBox(children=(Figure(camera=PerspectiveCamera(fov=46.0, position=(0.0, 0.0, 2.0), quaternion=(0.0, 0.0, 0.0, …"
      ]
     },
     "metadata": {},
     "output_type": "display_data"
    }
   ],
   "source": [
    "nviz.plot_objects(meshes=[curr_somas[3]],\n",
    "                 meshes_colors=\"random\")"
   ]
  },
  {
   "cell_type": "code",
   "execution_count": 67,
   "metadata": {},
   "outputs": [
    {
     "name": "stderr",
     "output_type": "stream",
     "text": [
      "INFO - 2020-11-25 19:44:08,917 - settings - Setting enable_python_native_blobs to True\n",
      "INFO - 2020-11-25 19:44:09,610 - settings - Setting enable_python_native_blobs to True\n",
      "/usr/local/lib/python3.6/dist-packages/traittypes/traittypes.py:101: UserWarning: Given trait value dtype \"float64\" does not match required type \"float64\". A coerced copy has been created.\n",
      "  np.dtype(self.dtype).name))\n"
     ]
    },
    {
     "data": {
      "application/vnd.jupyter.widget-view+json": {
       "model_id": "8abe6ca6150d4725844e17e192ba615f",
       "version_major": 2,
       "version_minor": 0
      },
      "text/plain": [
       "VBox(children=(Figure(camera=PerspectiveCamera(fov=46.0, position=(0.0, 0.0, 2.0), quaternion=(0.0, 0.0, 0.0, …"
      ]
     },
     "metadata": {},
     "output_type": "display_data"
    }
   ],
   "source": [
    "curr_somas = du.get_seg_extracted_somas(curr_seg_ids_4[-600])\n",
    "import neuron_visualizations as nviz\n",
    "nviz.plot_objects(meshes=curr_somas,\n",
    "                 meshes_colors=\"random\")"
   ]
  },
  {
   "cell_type": "code",
   "execution_count": 62,
   "metadata": {},
   "outputs": [
    {
     "name": "stderr",
     "output_type": "stream",
     "text": [
      "INFO - 2020-11-25 19:00:59,645 - settings - Setting enable_python_native_blobs to True\n"
     ]
    },
    {
     "name": "stdout",
     "output_type": "stream",
     "text": [
      "Segment_id = 864691135945424676\n"
     ]
    },
    {
     "name": "stderr",
     "output_type": "stream",
     "text": [
      "INFO - 2020-11-25 19:01:00,369 - settings - Setting enable_python_native_blobs to True\n",
      "INFO - 2020-11-25 19:02:04,110 - settings - Setting enable_python_native_blobs to True\n",
      "INFO - 2020-11-25 19:02:04,753 - settings - Setting enable_python_native_blobs to True\n",
      "INFO - 2020-11-25 19:02:05,779 - settings - Setting enable_python_native_blobs to True\n",
      "INFO - 2020-11-25 19:02:06,428 - settings - Setting enable_python_native_blobs to True\n",
      "/usr/local/lib/python3.6/dist-packages/traittypes/traittypes.py:101: UserWarning: Given trait value dtype \"float64\" does not match required type \"float64\". A coerced copy has been created.\n",
      "  np.dtype(self.dtype).name))\n"
     ]
    },
    {
     "data": {
      "application/vnd.jupyter.widget-view+json": {
       "model_id": "39fe9be0927d42c6b09f2807b6c4cfd5",
       "version_major": 2,
       "version_minor": 0
      },
      "text/plain": [
       "VBox(children=(Figure(camera=PerspectiveCamera(fov=46.0, position=(0.0, 0.0, 2.0), quaternion=(0.0, 0.0, 0.0, …"
      ]
     },
     "metadata": {},
     "output_type": "display_data"
    }
   ],
   "source": [
    "du.plot_decimated_mesh_with_somas(curr_seg_ids_4[-600],minnie)"
   ]
  },
  {
   "cell_type": "code",
   "execution_count": 61,
   "metadata": {},
   "outputs": [
    {
     "name": "stderr",
     "output_type": "stream",
     "text": [
      "INFO - 2020-11-25 18:58:01,905 - settings - Setting enable_python_native_blobs to True\n"
     ]
    },
    {
     "name": "stdout",
     "output_type": "stream",
     "text": [
      "Segment_id = 864691135866403350\n"
     ]
    },
    {
     "name": "stderr",
     "output_type": "stream",
     "text": [
      "INFO - 2020-11-25 18:58:02,572 - settings - Setting enable_python_native_blobs to True\n",
      "INFO - 2020-11-25 18:59:14,482 - settings - Setting enable_python_native_blobs to True\n",
      "INFO - 2020-11-25 18:59:15,155 - settings - Setting enable_python_native_blobs to True\n",
      "INFO - 2020-11-25 18:59:16,462 - settings - Setting enable_python_native_blobs to True\n",
      "INFO - 2020-11-25 18:59:17,160 - settings - Setting enable_python_native_blobs to True\n",
      "/usr/local/lib/python3.6/dist-packages/traittypes/traittypes.py:101: UserWarning: Given trait value dtype \"float64\" does not match required type \"float64\". A coerced copy has been created.\n",
      "  np.dtype(self.dtype).name))\n"
     ]
    },
    {
     "data": {
      "application/vnd.jupyter.widget-view+json": {
       "model_id": "d5513029c4d247aabd35a0d3980e5477",
       "version_major": 2,
       "version_minor": 0
      },
      "text/plain": [
       "VBox(children=(Figure(camera=PerspectiveCamera(fov=46.0, position=(0.0, 0.0, 2.0), quaternion=(0.0, 0.0, 0.0, …"
      ]
     },
     "metadata": {},
     "output_type": "display_data"
    }
   ],
   "source": [
    "du.plot_decimated_mesh_with_somas(curr_seg_ids_4[-700],minnie)"
   ]
  },
  {
   "cell_type": "markdown",
   "metadata": {},
   "source": [
    "# 10 Soma Check"
   ]
  },
  {
   "cell_type": "code",
   "execution_count": 73,
   "metadata": {},
   "outputs": [
    {
     "data": {
      "text/plain": [
       "(5,)"
      ]
     },
     "execution_count": 73,
     "metadata": {},
     "output_type": "execute_result"
    }
   ],
   "source": [
    "curr_multiplicity = 10\n",
    "curr_seg_ids_10 = np.unique((minnie.BaylorSegmentCentroid() & f\"multiplicity={curr_multiplicity}\").fetch(\"segment_id\"))\n",
    "curr_seg_ids_10.shape"
   ]
  },
  {
   "cell_type": "code",
   "execution_count": 88,
   "metadata": {},
   "outputs": [],
   "source": [
    "import trimesh_utils as tu"
   ]
  },
  {
   "cell_type": "code",
   "execution_count": 93,
   "metadata": {},
   "outputs": [
    {
     "data": {
      "application/vnd.jupyter.widget-view+json": {
       "model_id": "8f92cb88d04d4ba58f997ac86f219539",
       "version_major": 2,
       "version_minor": 0
      },
      "text/plain": [
       "HBox(children=(FloatProgress(value=0.0, max=27.0), HTML(value='')))"
      ]
     },
     "metadata": {},
     "output_type": "display_data"
    },
    {
     "name": "stdout",
     "output_type": "stream",
     "text": [
      "\n"
     ]
    },
    {
     "data": {
      "text/plain": [
       "([<trimesh.Trimesh(vertices.shape=(2516, 3), faces.shape=(4364, 3))>,\n",
       "  <trimesh.Trimesh(vertices.shape=(452, 3), faces.shape=(714, 3))>,\n",
       "  <trimesh.Trimesh(vertices.shape=(301, 3), faces.shape=(499, 3))>,\n",
       "  <trimesh.Trimesh(vertices.shape=(258, 3), faces.shape=(462, 3))>,\n",
       "  <trimesh.Trimesh(vertices.shape=(114, 3), faces.shape=(200, 3))>,\n",
       "  <trimesh.Trimesh(vertices.shape=(93, 3), faces.shape=(132, 3))>,\n",
       "  <trimesh.Trimesh(vertices.shape=(81, 3), faces.shape=(99, 3))>,\n",
       "  <trimesh.Trimesh(vertices.shape=(45, 3), faces.shape=(60, 3))>,\n",
       "  <trimesh.Trimesh(vertices.shape=(39, 3), faces.shape=(42, 3))>,\n",
       "  <trimesh.Trimesh(vertices.shape=(30, 3), faces.shape=(33, 3))>,\n",
       "  <trimesh.Trimesh(vertices.shape=(25, 3), faces.shape=(32, 3))>,\n",
       "  <trimesh.Trimesh(vertices.shape=(15, 3), faces.shape=(22, 3))>,\n",
       "  <trimesh.Trimesh(vertices.shape=(16, 3), faces.shape=(16, 3))>,\n",
       "  <trimesh.Trimesh(vertices.shape=(17, 3), faces.shape=(15, 3))>,\n",
       "  <trimesh.Trimesh(vertices.shape=(12, 3), faces.shape=(11, 3))>,\n",
       "  <trimesh.Trimesh(vertices.shape=(10, 3), faces.shape=(8, 3))>,\n",
       "  <trimesh.Trimesh(vertices.shape=(6, 3), faces.shape=(6, 3))>,\n",
       "  <trimesh.Trimesh(vertices.shape=(7, 3), faces.shape=(5, 3))>,\n",
       "  <trimesh.Trimesh(vertices.shape=(7, 3), faces.shape=(5, 3))>,\n",
       "  <trimesh.Trimesh(vertices.shape=(7, 3), faces.shape=(5, 3))>,\n",
       "  <trimesh.Trimesh(vertices.shape=(6, 3), faces.shape=(4, 3))>,\n",
       "  <trimesh.Trimesh(vertices.shape=(5, 3), faces.shape=(3, 3))>,\n",
       "  <trimesh.Trimesh(vertices.shape=(5, 3), faces.shape=(3, 3))>,\n",
       "  <trimesh.Trimesh(vertices.shape=(4, 3), faces.shape=(2, 3))>,\n",
       "  <trimesh.Trimesh(vertices.shape=(3, 3), faces.shape=(1, 3))>,\n",
       "  <trimesh.Trimesh(vertices.shape=(3, 3), faces.shape=(1, 3))>,\n",
       "  <trimesh.Trimesh(vertices.shape=(3, 3), faces.shape=(1, 3))>],\n",
       " array([0.0223251 , 0.1650425 , 0.0309276 , 0.03518155, 0.01025175,\n",
       "        0.06561045, 0.127167  , 0.1636015 , 0.152349  , 0.121374  ,\n",
       "        0.143159  , 0.0309461 , 0.2203285 , 0.277751  , 0.130865  ,\n",
       "        0.2411785 , 0.129182  , 0.584926  , 0.204608  , 0.0103177 ,\n",
       "        0.328851  , 0.288322  , 0.139842  , 0.2047025 , 0.457305  ,\n",
       "        0.201506  , 0.0924401 ]))"
      ]
     },
     "execution_count": 93,
     "metadata": {},
     "output_type": "execute_result"
    }
   ],
   "source": [
    "tu.mesh_segmentation(curr_somas[1])"
   ]
  },
  {
   "cell_type": "code",
   "execution_count": 94,
   "metadata": {},
   "outputs": [
    {
     "name": "stderr",
     "output_type": "stream",
     "text": [
      "INFO - 2020-11-25 19:57:44,336 - settings - Setting enable_python_native_blobs to True\n",
      "INFO - 2020-11-25 19:57:45,174 - settings - Setting enable_python_native_blobs to True\n",
      "/usr/local/lib/python3.6/dist-packages/traittypes/traittypes.py:101: UserWarning: Given trait value dtype \"float64\" does not match required type \"float64\". A coerced copy has been created.\n",
      "  np.dtype(self.dtype).name))\n"
     ]
    },
    {
     "data": {
      "application/vnd.jupyter.widget-view+json": {
       "model_id": "05ec4f6827e840e4a96f332385abe8d5",
       "version_major": 2,
       "version_minor": 0
      },
      "text/plain": [
       "VBox(children=(Figure(camera=PerspectiveCamera(fov=46.0, position=(0.0, 0.0, 2.0), quaternion=(0.0, 0.0, 0.0, …"
      ]
     },
     "metadata": {},
     "output_type": "display_data"
    }
   ],
   "source": [
    "curr_somas = du.get_seg_extracted_somas(curr_seg_ids_10[0])\n",
    "nviz.plot_objects(curr_somas[1])"
   ]
  },
  {
   "cell_type": "code",
   "execution_count": 74,
   "metadata": {},
   "outputs": [
    {
     "name": "stderr",
     "output_type": "stream",
     "text": [
      "INFO - 2020-11-25 19:47:25,672 - settings - Setting enable_python_native_blobs to True\n"
     ]
    },
    {
     "name": "stdout",
     "output_type": "stream",
     "text": [
      "Segment_id = 864691135269782693\n"
     ]
    },
    {
     "name": "stderr",
     "output_type": "stream",
     "text": [
      "INFO - 2020-11-25 19:47:26,391 - settings - Setting enable_python_native_blobs to True\n",
      "INFO - 2020-11-25 19:48:25,449 - settings - Setting enable_python_native_blobs to True\n",
      "INFO - 2020-11-25 19:48:26,163 - settings - Setting enable_python_native_blobs to True\n",
      "INFO - 2020-11-25 19:48:28,145 - settings - Setting enable_python_native_blobs to True\n",
      "INFO - 2020-11-25 19:48:28,903 - settings - Setting enable_python_native_blobs to True\n",
      "/usr/local/lib/python3.6/dist-packages/traittypes/traittypes.py:101: UserWarning: Given trait value dtype \"float64\" does not match required type \"float64\". A coerced copy has been created.\n",
      "  np.dtype(self.dtype).name))\n"
     ]
    },
    {
     "data": {
      "application/vnd.jupyter.widget-view+json": {
       "model_id": "2b84286d96be4b81bb22fa8949944def",
       "version_major": 2,
       "version_minor": 0
      },
      "text/plain": [
       "VBox(children=(Figure(camera=PerspectiveCamera(fov=46.0, position=(0.0, 0.0, 2.0), quaternion=(0.0, 0.0, 0.0, …"
      ]
     },
     "metadata": {},
     "output_type": "display_data"
    }
   ],
   "source": [
    "du.plot_decimated_mesh_with_somas(curr_seg_ids_10[0],minnie)"
   ]
  },
  {
   "cell_type": "code",
   "execution_count": 85,
   "metadata": {},
   "outputs": [
    {
     "name": "stderr",
     "output_type": "stream",
     "text": [
      "INFO - 2020-11-25 19:52:08,502 - settings - Setting enable_python_native_blobs to True\n"
     ]
    },
    {
     "name": "stdout",
     "output_type": "stream",
     "text": [
      "Segment_id = 864691135474640192\n"
     ]
    },
    {
     "name": "stderr",
     "output_type": "stream",
     "text": [
      "INFO - 2020-11-25 19:52:09,391 - settings - Setting enable_python_native_blobs to True\n",
      "INFO - 2020-11-25 19:53:16,937 - settings - Setting enable_python_native_blobs to True\n",
      "INFO - 2020-11-25 19:53:17,745 - settings - Setting enable_python_native_blobs to True\n",
      "INFO - 2020-11-25 19:53:21,381 - settings - Setting enable_python_native_blobs to True\n",
      "INFO - 2020-11-25 19:53:22,229 - settings - Setting enable_python_native_blobs to True\n",
      "/usr/local/lib/python3.6/dist-packages/traittypes/traittypes.py:101: UserWarning: Given trait value dtype \"float64\" does not match required type \"float64\". A coerced copy has been created.\n",
      "  np.dtype(self.dtype).name))\n"
     ]
    },
    {
     "data": {
      "application/vnd.jupyter.widget-view+json": {
       "model_id": "bc79bec85d6a4f499c36506af610a6a1",
       "version_major": 2,
       "version_minor": 0
      },
      "text/plain": [
       "VBox(children=(Figure(camera=PerspectiveCamera(fov=46.0, position=(0.0, 0.0, 2.0), quaternion=(0.0, 0.0, 0.0, …"
      ]
     },
     "metadata": {},
     "output_type": "display_data"
    }
   ],
   "source": [
    "du.plot_decimated_mesh_with_somas(curr_seg_ids_10[1],minnie)"
   ]
  },
  {
   "cell_type": "code",
   "execution_count": null,
   "metadata": {},
   "outputs": [],
   "source": []
  }
 ],
 "metadata": {
  "kernelspec": {
   "display_name": "Python 3",
   "language": "python",
   "name": "python3"
  },
  "language_info": {
   "codemirror_mode": {
    "name": "ipython",
    "version": 3
   },
   "file_extension": ".py",
   "mimetype": "text/x-python",
   "name": "python",
   "nbconvert_exporter": "python",
   "pygments_lexer": "ipython3",
   "version": "3.6.9"
  }
 },
 "nbformat": 4,
 "nbformat_minor": 4
}
