{
 "cells": [
  {
   "cell_type": "code",
   "execution_count": null,
   "metadata": {},
   "outputs": [],
   "source": [
    "\"\"\"\n",
    "To check on the status of BaylorSegmentCentroid\n",
    "and see if the somas it was picking out were valid\n",
    "\n",
    "\n",
    "\"\"\""
   ]
  },
  {
   "cell_type": "code",
   "execution_count": 17,
   "metadata": {},
   "outputs": [],
   "source": [
    "import numpy as np\n",
    "import datajoint as dj\n",
    "import trimesh\n",
    "from tqdm.notebook import tqdm\n",
    "from pathlib import Path\n",
    "\n",
    "from os import sys\n",
    "sys.path.append(\"/meshAfterParty/\")\n",
    "\n",
    "import datajoint_utils as du\n",
    "from importlib import reload"
   ]
  },
  {
   "cell_type": "code",
   "execution_count": 18,
   "metadata": {},
   "outputs": [
    {
     "name": "stderr",
     "output_type": "stream",
     "text": [
      "INFO:datajoint.settings:Setting database.host to at-database.ad.bcm.edu\n",
      "INFO:datajoint.settings:Setting database.user to celiib\n",
      "INFO:datajoint.settings:Setting database.password to newceliipass\n",
      "INFO:datajoint.settings:Setting enable_python_native_blobs to True\n",
      "INFO:datajoint.settings:Setting enable_python_native_blobs to True\n"
     ]
    },
    {
     "name": "stdout",
     "output_type": "stream",
     "text": [
      "Current path for external_segmentation_path = /mnt/dj-stor01/platinum/minnie65/02\n",
      "Current path for external_mesh_path = /mnt/dj-stor01/platinum/minnie65/02/meshes\n",
      "Current path for external_decimated_mesh_path = /mnt/dj-stor01/platinum/minnie65/02/decimated_meshes\n",
      "Current path for external_skeleton_path = /mnt/dj-stor01/platinum/minnie65/02/skeletons\n"
     ]
    }
   ],
   "source": [
    "import minfig\n",
    "du.config_celii()\n",
    "du.set_minnie65_config_segmentation(minfig)\n",
    "du.print_minnie65_config_paths(minfig)\n",
    "minnie,schema = du.configure_minnie_vm()"
   ]
  },
  {
   "cell_type": "code",
   "execution_count": 94,
   "metadata": {},
   "outputs": [
    {
     "name": "stderr",
     "output_type": "stream",
     "text": [
      "INFO:datajoint.settings:Setting display.limit to 30\n"
     ]
    },
    {
     "data": {
      "text/plain": [
       "61807"
      ]
     },
     "execution_count": 94,
     "metadata": {},
     "output_type": "execute_result"
    }
   ],
   "source": [
    "dj.config[\"display.limit\"] = 30\n",
    "len(minnie.BaylorSegmentCentroid())"
   ]
  },
  {
   "cell_type": "code",
   "execution_count": 93,
   "metadata": {},
   "outputs": [
    {
     "data": {
      "text/plain": [
       "64775.80063746825"
      ]
     },
     "execution_count": 93,
     "metadata": {},
     "output_type": "execute_result"
    }
   ],
   "source": [
    "len(minnie.BaylorSegmentCentroid() & \"multiplicity>=1\")/len(minnie.BaylorSegmentCentroid())*len(minnie.Decimation())"
   ]
  },
  {
   "cell_type": "code",
   "execution_count": null,
   "metadata": {},
   "outputs": [],
   "source": [
    "curr_mesh = du.fetch_segment_id_mesh(seg_id=864691134748184152)"
   ]
  },
  {
   "cell_type": "code",
   "execution_count": null,
   "metadata": {},
   "outputs": [],
   "source": [
    "len(minnie.Decimation() & \"decimation_ratio=0.25\")/len(minnie.BaylorSegmentCentroid())*36/24"
   ]
  },
  {
   "cell_type": "code",
   "execution_count": null,
   "metadata": {},
   "outputs": [],
   "source": [
    "import neuron_visualizations as nviz\n",
    "nviz.plot_objects(curr_mesh)"
   ]
  },
  {
   "cell_type": "markdown",
   "metadata": {},
   "source": [
    "# Checking the Meshes of soma finder with soma"
   ]
  },
  {
   "cell_type": "code",
   "execution_count": 23,
   "metadata": {},
   "outputs": [
    {
     "data": {
      "text/plain": [
       "array([864691134718953212, 864691134763581773, 864691134768467044, ...,\n",
       "       864691135458072050, 864691135458125810, 864691135458139378])"
      ]
     },
     "execution_count": 23,
     "metadata": {},
     "output_type": "execute_result"
    }
   ],
   "source": [
    "multi_soma_seg_ids = (minnie.BaylorSegmentCentroid() & \"multiplicity=1\").fetch(\"segment_id\")\n",
    "multi_soma_seg_ids"
   ]
  },
  {
   "cell_type": "code",
   "execution_count": 24,
   "metadata": {},
   "outputs": [],
   "source": [
    "multi_soma_seg_ids_unique = np.unique(multi_soma_seg_ids)"
   ]
  },
  {
   "cell_type": "code",
   "execution_count": 25,
   "metadata": {},
   "outputs": [],
   "source": [
    "import datajoint_utils as du"
   ]
  },
  {
   "cell_type": "code",
   "execution_count": 61,
   "metadata": {},
   "outputs": [],
   "source": [
    "seg_index=13\n",
    "curr_seg_id = multi_soma_seg_ids_unique[seg_index]\n",
    "curr_mesh = du.get_decimated_mesh(seg_id=curr_seg_id)\n",
    "curr_soma_meshes = du.get_seg_extracted_somas(seg_id=curr_seg_id)"
   ]
  },
  {
   "cell_type": "code",
   "execution_count": 62,
   "metadata": {},
   "outputs": [
    {
     "name": "stderr",
     "output_type": "stream",
     "text": [
      "/usr/local/lib/python3.6/dist-packages/traittypes/traittypes.py:101: UserWarning: Given trait value dtype \"float64\" does not match required type \"float64\". A coerced copy has been created.\n",
      "  np.dtype(self.dtype).name))\n"
     ]
    },
    {
     "data": {
      "application/vnd.jupyter.widget-view+json": {
       "model_id": "7c1f54132be64798935bc7e465e871a6",
       "version_major": 2,
       "version_minor": 0
      },
      "text/plain": [
       "VBox(children=(Figure(camera=PerspectiveCamera(fov=46.0, position=(0.0, 0.0, 2.0), quaternion=(0.0, 0.0, 0.0, …"
      ]
     },
     "metadata": {},
     "output_type": "display_data"
    }
   ],
   "source": [
    "import neuron_visualizations as nviz\n",
    "nviz.plot_objects(\n",
    "                 meshes=curr_soma_meshes,\n",
    "                 meshes_colors=[[1,0,0,1]])"
   ]
  },
  {
   "cell_type": "code",
   "execution_count": 63,
   "metadata": {},
   "outputs": [
    {
     "data": {
      "application/vnd.jupyter.widget-view+json": {
       "model_id": "8528b34a9b984677984f357f64aae035",
       "version_major": 2,
       "version_minor": 0
      },
      "text/plain": [
       "VBox(children=(Figure(camera=PerspectiveCamera(fov=46.0, position=(0.0, 0.0, 2.0), quaternion=(0.0, 0.0, 0.0, …"
      ]
     },
     "metadata": {},
     "output_type": "display_data"
    }
   ],
   "source": [
    "import neuron_visualizations as nviz\n",
    "nviz.plot_objects(\n",
    "                main_mesh=curr_mesh,\n",
    "                 meshes=curr_soma_meshes,\n",
    "                 meshes_colors=[[1,0,0,1]])"
   ]
  },
  {
   "cell_type": "code",
   "execution_count": 72,
   "metadata": {},
   "outputs": [],
   "source": [
    "import soma_extraction_utils as sm"
   ]
  },
  {
   "cell_type": "code",
   "execution_count": 78,
   "metadata": {},
   "outputs": [
    {
     "name": "stdout",
     "output_type": "stream",
     "text": [
      "Current Arguments Using (adjusted for decimation):\n",
      " large_mesh_threshold= 15000.0 \n",
      "large_mesh_threshold_inner = 10000.0 \n",
      "soma_size_threshold = 937.5 \n",
      "soma_size_threshold_max = 12000.0\n",
      "outer_decimation_ratio = 0.25\n",
      "inner_decimation_ratio = 0.25\n",
      "xvfb-run -n 1325 -s \"-screen 0 800x600x24\" meshlabserver $@  -i /notebooks/Platinum_Datajoint/Soma_Extraction/864691134832243202/neuron_864691134832243202.off -o /notebooks/Platinum_Datajoint/Soma_Extraction/864691134832243202/neuron_864691134832243202_decimated.off -s /notebooks/Platinum_Datajoint/Soma_Extraction/864691134832243202/decimation_meshlab_25290899.mls\n",
      "Total found significant pieces before Poisson = [<trimesh.Trimesh(vertices.shape=(18682, 3), faces.shape=(39840, 3))>]\n",
      "----- working on large mesh #0: <trimesh.Trimesh(vertices.shape=(18682, 3), faces.shape=(39840, 3))>\n",
      "pre_largest_mesh_path = /notebooks/Platinum_Datajoint/Soma_Extraction/864691134832243202/neuron_864691134832243202_decimated_largest_piece.off\n",
      "xvfb-run -n 9263 -s \"-screen 0 800x600x24\" meshlabserver $@  -i /notebooks/Platinum_Datajoint/Soma_Extraction/864691134832243202/neuron_864691134832243202_decimated_largest_piece.off -o /notebooks/Platinum_Datajoint/Soma_Extraction/864691134832243202/neuron_864691134832243202_decimated_largest_piece_poisson.off -s /notebooks/Platinum_Datajoint/Soma_Extraction/864691134832243202/poisson_947194.mls\n",
      "Total found significant pieces AFTER Poisson = [<trimesh.Trimesh(vertices.shape=(33487, 3), faces.shape=(67142, 3))>]\n",
      "----- working on mesh after poisson #0: <trimesh.Trimesh(vertices.shape=(33487, 3), faces.shape=(67142, 3))>\n",
      "xvfb-run -n 4029 -s \"-screen 0 800x600x24\" meshlabserver $@  -i /notebooks/Platinum_Datajoint/Soma_Extraction/864691134832243202/neuron_864691134832243202_decimated_largest_piece_poisson_largest_inner.off -o /notebooks/Platinum_Datajoint/Soma_Extraction/864691134832243202/neuron_864691134832243202_decimated_largest_piece_poisson_largest_inner_decimated.off -s /notebooks/Platinum_Datajoint/Soma_Extraction/864691134832243202/decimation_meshlab_25136984.mls\n",
      "done exporting decimated mesh: neuron_864691134832243202_decimated_largest_piece_poisson_largest_inner.off\n",
      "1) Starting: Mesh importing and Pymesh fix\n",
      "loading mesh from vertices and triangles array\n",
      "1) Finished: Mesh importing and Pymesh fix: 0.0003108978271484375\n",
      "2) Staring: Generating CGAL segmentation for neuron\n",
      "Done writing OFF file\n",
      "\n",
      "Starting CGAL segmentation\n",
      "Right before cgal segmentation, clusters = 3, smoothness = 0.2, path_and_filename = /notebooks/Platinum_Datajoint/Soma_Extraction/temp/86469113483224320200_fixed \n",
      "1\n",
      "Finished CGAL segmentation algorithm: 2.2664101123809814\n",
      "2) Finished: Generating CGAL segmentation for neuron: 2.654261350631714\n",
      "3) Staring: Generating Graph Structure and Identifying Soma using soma size threshold  = 3000\n",
      "my_list_keys = [0, 1, 2, 3, 4, 5, 6]\n",
      "changed the median value\n",
      "changed the mean value\n",
      "changed the max value\n",
      "changed the median value\n",
      "changed the mean value\n",
      "changed the max value\n",
      "soma_index = 1\n",
      "3) Finished: Generating Graph Structure and Identifying Soma: 0.005984067916870117\n",
      "Not finding the apical because soma_only option selected\n",
      "6) Staring: Classifying Entire Neuron\n",
      "Total Labels found = {'soma', 'unsure'}\n",
      "6) Finished: Classifying Entire Neuron: 4.291534423828125e-05\n",
      "7) Staring: Transfering Segmentation Labels to Face Labels\n",
      "7) Finished: Transfering Segmentation Labels to Face Labels: 0.014571428298950195\n",
      "8) Staring: Generating final Vertex and Face Labels\n",
      "8) Finished: Generating final Vertex and Face Labels: 0.07866477966308594\n",
      "Returning the soma_sdf value AND the classifier\n",
      "soma_sdf_value = 0.495666\n",
      "segmentation[sorted_medians],median_values[sorted_medians] = (array([1, 5, 0, 3, 4, 6, 2]), array([0.495666  , 0.210086  , 0.1965795 , 0.119927  , 0.113384  ,\n",
      "       0.0980213 , 0.09771035]))\n",
      "Sizes = [3063, 2622, 7484, 865, 1655, 435, 654]\n",
      "valid_soma_segments_width\n",
      "      ------ Found 1 viable somas: [1]\n",
      "Using Poisson Surface Reconstruction for watertightness in soma_volume_ratio\n",
      "xvfb-run -n 1294 -s \"-screen 0 800x600x24\" meshlabserver $@  -i /notebooks/Platinum_Datajoint/Soma_Extraction/Poisson_temp/neuron_179507.off -o /notebooks/Platinum_Datajoint/Soma_Extraction/Poisson_temp/neuron_179507_poisson.off -s /notebooks/Platinum_Datajoint/Soma_Extraction/Poisson_temp/poisson_710788.mls\n",
      "removed temporary input file: /notebooks/Platinum_Datajoint/Soma_Extraction/Poisson_temp/neuron_179507.off\n",
      "removed temporary output file: /notebooks/Platinum_Datajoint/Soma_Extraction/Poisson_temp/neuron_179507_poisson.off\n",
      "mesh.is_watertight = True\n",
      "/notebooks/Platinum_Datajoint/Soma_Extraction/Poisson_temp/poisson_710788.mls is being deleted....\n",
      "Inside sphere validater: ratio_val = 6.564522502417457\n",
      "\n",
      "\n",
      "\n",
      " Total time for run = 24.996805429458618\n",
      "Before Filtering the number of somas found = 1\n",
      "Performing Soma Mesh Backtracking to original mesh\n",
      "# total split meshes = 5\n",
      "viable_meshes = [0]\n",
      "There were 4 pieces found after size threshold\n",
      "# of soma containing seperate meshes = 1\n",
      "meshes with somas = {0: [0]}\n",
      "\n",
      "\n",
      "----Working on soma-containing mesh piece 0----\n",
      "current_soma_mesh_list = [<trimesh.Trimesh(vertices.shape=(1594, 3), faces.shape=(3063, 3))>]\n",
      "current_mesh = <trimesh.Trimesh(vertices.shape=(18682, 3), faces.shape=(39813, 3))>\n",
      "\n",
      "inside Soma subtraction\n",
      "mesh pieces in subtact soma BEFORE the filtering inside pieces = [<trimesh.Trimesh(vertices.shape=(9019, 3), faces.shape=(19334, 3))>, <trimesh.Trimesh(vertices.shape=(4779, 3), faces.shape=(9513, 3))>, <trimesh.Trimesh(vertices.shape=(1449, 3), faces.shape=(2888, 3))>, <trimesh.Trimesh(vertices.shape=(557, 3), faces.shape=(1108, 3))>, <trimesh.Trimesh(vertices.shape=(556, 3), faces.shape=(1109, 3))>]\n",
      "There were 5 pieces found after size threshold\n",
      "mesh pieces in subtact soma AFTER the filtering inside pieces = [<trimesh.Trimesh(vertices.shape=(9019, 3), faces.shape=(19334, 3))>, <trimesh.Trimesh(vertices.shape=(4779, 3), faces.shape=(9513, 3))>, <trimesh.Trimesh(vertices.shape=(1449, 3), faces.shape=(2888, 3))>, <trimesh.Trimesh(vertices.shape=(557, 3), faces.shape=(1108, 3))>, <trimesh.Trimesh(vertices.shape=(556, 3), faces.shape=(1109, 3))>]\n",
      "Total Time for soma mesh cancellation = 0.194\n",
      "mesh_pieces_without_soma = [<trimesh.Trimesh(vertices.shape=(9019, 3), faces.shape=(19334, 3))>, <trimesh.Trimesh(vertices.shape=(4779, 3), faces.shape=(9513, 3))>, <trimesh.Trimesh(vertices.shape=(1449, 3), faces.shape=(2888, 3))>, <trimesh.Trimesh(vertices.shape=(557, 3), faces.shape=(1108, 3))>, <trimesh.Trimesh(vertices.shape=(556, 3), faces.shape=(1109, 3))>]\n",
      "Total time for Subtract Soam = 0.19463896751403809\n",
      "Total time for Original_mesh_faces_map for mesh_pieces without soma= 0.0662682056427002\n",
      "poisson_backtrack_distance_threshold = None\n"
     ]
    },
    {
     "name": "stderr",
     "output_type": "stream",
     "text": [
      "/meshAfterParty/trimesh_utils.py:318: VisibleDeprecationWarning: Creating an ndarray from ragged nested sequences (which is a list-or-tuple of lists-or-tuples-or ndarrays with different lengths or shapes) is deprecated. If you meant to do this, you must specify 'dtype=object' when creating the ndarray\n",
      "  ordered_comp_indices = np.array([k.astype(\"int\") for k in ordered_components])\n"
     ]
    },
    {
     "name": "stdout",
     "output_type": "stream",
     "text": [
      "Using Poisson Surface Reconstruction for watertightness in soma_volume_ratio\n",
      "xvfb-run -n 4760 -s \"-screen 0 800x600x24\" meshlabserver $@  -i /notebooks/Platinum_Datajoint/Soma_Extraction/Poisson_temp/neuron_347839.off -o /notebooks/Platinum_Datajoint/Soma_Extraction/Poisson_temp/neuron_347839_poisson.off -s /notebooks/Platinum_Datajoint/Soma_Extraction/Poisson_temp/poisson_684861.mls\n",
      "removed temporary input file: /notebooks/Platinum_Datajoint/Soma_Extraction/Poisson_temp/neuron_347839.off\n",
      "removed temporary output file: /notebooks/Platinum_Datajoint/Soma_Extraction/Poisson_temp/neuron_347839_poisson.off\n",
      "mesh.is_watertight = True\n",
      "/notebooks/Platinum_Datajoint/Soma_Extraction/Poisson_temp/poisson_684861.mls is being deleted....\n",
      "Inside sphere validater: ratio_val = 6.803381981368984\n"
     ]
    }
   ],
   "source": [
    "sm = reload(sm)\n",
    "(total_soma_list, \n",
    "         run_time, \n",
    "         total_soma_list_sdf) = sm.extract_soma_center(\n",
    "                            segment_id=curr_seg_id,\n",
    "                            current_mesh_verts=curr_mesh.vertices,\n",
    "                            current_mesh_faces=curr_mesh.faces,\n",
    ")"
   ]
  },
  {
   "cell_type": "code",
   "execution_count": 81,
   "metadata": {},
   "outputs": [],
   "source": [
    "original_poisson = tu.load_mesh_no_processing(\"original_poisson\")"
   ]
  },
  {
   "cell_type": "code",
   "execution_count": 82,
   "metadata": {},
   "outputs": [
    {
     "name": "stderr",
     "output_type": "stream",
     "text": [
      "/usr/local/lib/python3.6/dist-packages/traittypes/traittypes.py:101: UserWarning: Given trait value dtype \"float64\" does not match required type \"float64\". A coerced copy has been created.\n",
      "  np.dtype(self.dtype).name))\n"
     ]
    },
    {
     "data": {
      "application/vnd.jupyter.widget-view+json": {
       "model_id": "0260d52b50fe4b7c87d74fe6d16b1ed9",
       "version_major": 2,
       "version_minor": 0
      },
      "text/plain": [
       "VBox(children=(Figure(camera=PerspectiveCamera(fov=46.0, position=(0.0, 0.0, 2.0), quaternion=(0.0, 0.0, 0.0, …"
      ]
     },
     "metadata": {},
     "output_type": "display_data"
    }
   ],
   "source": [
    "nviz.plot_objects(\n",
    "                #main_mesh=curr_mesh,\n",
    "                 meshes=[original_poisson],\n",
    "                 meshes_colors=[[1,0,0,1]])"
   ]
  },
  {
   "cell_type": "code",
   "execution_count": null,
   "metadata": {},
   "outputs": [],
   "source": [
    "minnie.Synapse()"
   ]
  },
  {
   "cell_type": "markdown",
   "metadata": {},
   "source": [
    "# checking the other segmentation"
   ]
  },
  {
   "cell_type": "code",
   "execution_count": 14,
   "metadata": {},
   "outputs": [
    {
     "name": "stderr",
     "output_type": "stream",
     "text": [
      "INFO:datajoint.settings:Setting display.limit to 30\n",
      "INFO:datajoint.settings:Setting enable_python_native_blobs to True\n"
     ]
    }
   ],
   "source": [
    "decimation_version=0\n",
    "\n",
    "import datajoint as dj\n",
    "import numpy as np\n",
    "m65 = dj.create_virtual_module('m65', 'microns_minnie65_01')\n",
    "schema = dj.schema(\"microns_minnie65_01\")\n",
    "dj.config[\"display.limit\"] = 30\n",
    "\n",
    "import minfig\n",
    "minnie = minfig.configure_minnie(return_virtual_module=True)\n",
    "\n",
    "segments = (m65.Mesh() & f'n_vertices  > {np.str(np.round(np.exp(12)).astype(np.int))}' & f'n_vertices  < {np.str(np.round(np.exp(15)).astype(np.int))}')\n",
    "key_source =  minnie.Decimation.proj(decimation_version='version') & segments.proj() & \"decimation_version=\" + str(decimation_version)"
   ]
  },
  {
   "cell_type": "code",
   "execution_count": 83,
   "metadata": {},
   "outputs": [
    {
     "name": "stdout",
     "output_type": "stream",
     "text": [
      "# Decimated meshes\n",
      "-> minnie.Mesh\n",
      "-> minnie.DecimationConfig\n",
      "---\n",
      "n_vertices           : bigint                       \n",
      "n_faces              : bigint                       \n",
      "mesh                 : <decimated_mesh>             # in-place path to the hdf5 (decimated) mesh file\n",
      "INDEX (mesh)\n",
      "\n"
     ]
    },
    {
     "data": {
      "text/plain": [
       "'# Decimated meshes\\n-> minnie.Mesh\\n-> minnie.DecimationConfig\\n---\\nn_vertices           : bigint                       \\nn_faces              : bigint                       \\nmesh                 : <decimated_mesh>             # in-place path to the hdf5 (decimated) mesh file\\nINDEX (mesh)\\n'"
      ]
     },
     "execution_count": 83,
     "metadata": {},
     "output_type": "execute_result"
    }
   ],
   "source": [
    "minnie.Decimation.describe()"
   ]
  },
  {
   "cell_type": "code",
   "execution_count": 89,
   "metadata": {},
   "outputs": [
    {
     "data": {
      "text/plain": [
       "'<property object at 0x7f6a6c2e3868>'"
      ]
     },
     "execution_count": 89,
     "metadata": {},
     "output_type": "execute_result"
    }
   ],
   "source": [
    "str(minnie.Decimation.definition)"
   ]
  },
  {
   "cell_type": "code",
   "execution_count": 90,
   "metadata": {},
   "outputs": [
    {
     "data": {
      "text/html": [
       "\n",
       "        \n",
       "        <style type=\"text/css\">\n",
       "            .Relation{\n",
       "                border-collapse:collapse;\n",
       "            }\n",
       "            .Relation th{\n",
       "                background: #A0A0A0; color: #ffffff; padding:4px; border:#f0e0e0 1px solid;\n",
       "                font-weight: normal; font-family: monospace; font-size: 100%;\n",
       "            }\n",
       "            .Relation td{\n",
       "                padding:4px; border:#f0e0e0 1px solid; font-size:100%;\n",
       "            }\n",
       "            .Relation tr:nth-child(odd){\n",
       "                background: #ffffff;\n",
       "            }\n",
       "            .Relation tr:nth-child(even){\n",
       "                background: #f3f1ff;\n",
       "            }\n",
       "            /* Tooltip container */\n",
       "            .djtooltip {\n",
       "            }\n",
       "            /* Tooltip text */\n",
       "            .djtooltip .djtooltiptext {\n",
       "                visibility: hidden;\n",
       "                width: 120px;\n",
       "                background-color: black;\n",
       "                color: #fff;\n",
       "                text-align: center;\n",
       "                padding: 5px 0;\n",
       "                border-radius: 6px;\n",
       "                /* Position the tooltip text - see examples below! */\n",
       "                position: absolute;\n",
       "                z-index: 1;\n",
       "            }\n",
       "            #primary {\n",
       "                font-weight: bold;\n",
       "                color: black;\n",
       "            }\n",
       "\n",
       "            #nonprimary {\n",
       "                font-weight: normal;\n",
       "                color: white;\n",
       "            }\n",
       "\n",
       "            /* Show the tooltip text when you mouse over the tooltip container */\n",
       "            .djtooltip:hover .djtooltiptext {\n",
       "                visibility: visible;\n",
       "            }\n",
       "        </style>\n",
       "        \n",
       "        <b>Configuration used for decimation</b>\n",
       "            <div style=\"max-height:1000px;max-width:1500px;overflow:auto;\">\n",
       "            <table border=\"1\" class=\"Relation\">\n",
       "                <thead> <tr style=\"text-align: right;\"> <th> <div class=\"djtooltip\">\n",
       "                                <p id=\"primary\">version</p>\n",
       "                                <span class=\"djtooltiptext\"></span>\n",
       "                            </div></th><th><div class=\"djtooltip\">\n",
       "                                <p id=\"primary\">decimation_ratio</p>\n",
       "                                <span class=\"djtooltiptext\">ratio of remaining mesh vertices/faces (which ones depends on what metric the decimation technique uses)</span>\n",
       "                            </div> </th> </tr> </thead>\n",
       "                <tbody> <tr> <td>0</td>\n",
       "<td>0.25</td> </tr> </tbody>\n",
       "            </table>\n",
       "            \n",
       "            <p>Total: 1</p></div>\n",
       "            "
      ],
      "text/plain": [
       "*version    *decimation_ra\n",
       "+---------+ +------------+\n",
       "0           0.25          \n",
       " (Total: 1)"
      ]
     },
     "execution_count": 90,
     "metadata": {},
     "output_type": "execute_result"
    }
   ],
   "source": [
    "minnie.DecimationConfig & \"decimation_ratio=0.25\""
   ]
  },
  {
   "cell_type": "code",
   "execution_count": 92,
   "metadata": {},
   "outputs": [
    {
     "data": {
      "text/html": [
       "\n",
       "        \n",
       "        <style type=\"text/css\">\n",
       "            .Relation{\n",
       "                border-collapse:collapse;\n",
       "            }\n",
       "            .Relation th{\n",
       "                background: #A0A0A0; color: #ffffff; padding:4px; border:#f0e0e0 1px solid;\n",
       "                font-weight: normal; font-family: monospace; font-size: 100%;\n",
       "            }\n",
       "            .Relation td{\n",
       "                padding:4px; border:#f0e0e0 1px solid; font-size:100%;\n",
       "            }\n",
       "            .Relation tr:nth-child(odd){\n",
       "                background: #ffffff;\n",
       "            }\n",
       "            .Relation tr:nth-child(even){\n",
       "                background: #f3f1ff;\n",
       "            }\n",
       "            /* Tooltip container */\n",
       "            .djtooltip {\n",
       "            }\n",
       "            /* Tooltip text */\n",
       "            .djtooltip .djtooltiptext {\n",
       "                visibility: hidden;\n",
       "                width: 120px;\n",
       "                background-color: black;\n",
       "                color: #fff;\n",
       "                text-align: center;\n",
       "                padding: 5px 0;\n",
       "                border-radius: 6px;\n",
       "                /* Position the tooltip text - see examples below! */\n",
       "                position: absolute;\n",
       "                z-index: 1;\n",
       "            }\n",
       "            #primary {\n",
       "                font-weight: bold;\n",
       "                color: black;\n",
       "            }\n",
       "\n",
       "            #nonprimary {\n",
       "                font-weight: normal;\n",
       "                color: white;\n",
       "            }\n",
       "\n",
       "            /* Show the tooltip text when you mouse over the tooltip container */\n",
       "            .djtooltip:hover .djtooltiptext {\n",
       "                visibility: visible;\n",
       "            }\n",
       "        </style>\n",
       "        \n",
       "        \n",
       "            <div style=\"max-height:1000px;max-width:1500px;overflow:auto;\">\n",
       "            <table border=\"1\" class=\"Relation\">\n",
       "                <thead> <tr style=\"text-align: right;\"> <th> <div class=\"djtooltip\">\n",
       "                                <p id=\"primary\">segment_id</p>\n",
       "                                <span class=\"djtooltiptext\">segment id unique within each Segmentation</span>\n",
       "                            </div> </th> </tr> </thead>\n",
       "                <tbody> <tr> <td>864691135415985394</td></tr><tr><td>864691135725526698</td></tr><tr><td>864691136306123638</td></tr><tr><td>864691135166046811</td></tr><tr><td>864691136064572568</td></tr><tr><td>864691135573919474</td></tr><tr><td>864691136658030876</td></tr><tr><td>864691135454960504</td></tr><tr><td>864691135177910676</td></tr><tr><td>864691135438430771</td></tr><tr><td>864691136226789555</td></tr><tr><td>864691135661426403</td></tr><tr><td>864691135637311555</td></tr><tr><td>864691136378318455</td></tr><tr><td>864691135434862834</td></tr><tr><td>864691136223605738</td></tr><tr><td>864691135436312894</td></tr><tr><td>864691135507321796</td></tr><tr><td>864691135640598189</td></tr><tr><td>864691136337738647</td></tr><tr><td>864691135845296556</td></tr><tr><td>864691135641196003</td></tr><tr><td>864691135560942532</td></tr><tr><td>864691135426847626</td></tr><tr><td>864691135711647124</td></tr><tr><td>864691135625048899</td></tr><tr><td>864691135585038066</td></tr><tr><td>864691136235193278</td></tr><tr><td>864691135504304370</td></tr><tr><td>864691135734494595</td> </tr> </tbody>\n",
       "            </table>\n",
       "            <p>...</p>\n",
       "            <p>Total: 3839198</p></div>\n",
       "            "
      ],
      "text/plain": [
       "*segment_id   \n",
       "+------------+\n",
       "86469113541598\n",
       "86469113572552\n",
       "86469113630612\n",
       "86469113516604\n",
       "86469113606457\n",
       "86469113557391\n",
       "86469113665803\n",
       "86469113545496\n",
       "86469113517791\n",
       "86469113543843\n",
       "86469113622678\n",
       "86469113566142\n",
       "86469113563731\n",
       "86469113637831\n",
       "86469113543486\n",
       "86469113622360\n",
       "86469113543631\n",
       "86469113550732\n",
       "86469113564059\n",
       "86469113633773\n",
       "86469113584529\n",
       "86469113564119\n",
       "86469113556094\n",
       "86469113542684\n",
       "86469113571164\n",
       "86469113562504\n",
       "86469113558503\n",
       "86469113623519\n",
       "86469113550430\n",
       "86469113573449\n",
       "   ...\n",
       " (Total: 3839198)"
      ]
     },
     "execution_count": 92,
     "metadata": {},
     "output_type": "execute_result"
    }
   ],
   "source": [
    "minnie.Mesh.proj()"
   ]
  },
  {
   "cell_type": "code",
   "execution_count": 91,
   "metadata": {},
   "outputs": [
    {
     "data": {
      "text/html": [
       "\n",
       "        \n",
       "        <style type=\"text/css\">\n",
       "            .Relation{\n",
       "                border-collapse:collapse;\n",
       "            }\n",
       "            .Relation th{\n",
       "                background: #A0A0A0; color: #ffffff; padding:4px; border:#f0e0e0 1px solid;\n",
       "                font-weight: normal; font-family: monospace; font-size: 100%;\n",
       "            }\n",
       "            .Relation td{\n",
       "                padding:4px; border:#f0e0e0 1px solid; font-size:100%;\n",
       "            }\n",
       "            .Relation tr:nth-child(odd){\n",
       "                background: #ffffff;\n",
       "            }\n",
       "            .Relation tr:nth-child(even){\n",
       "                background: #f3f1ff;\n",
       "            }\n",
       "            /* Tooltip container */\n",
       "            .djtooltip {\n",
       "            }\n",
       "            /* Tooltip text */\n",
       "            .djtooltip .djtooltiptext {\n",
       "                visibility: hidden;\n",
       "                width: 120px;\n",
       "                background-color: black;\n",
       "                color: #fff;\n",
       "                text-align: center;\n",
       "                padding: 5px 0;\n",
       "                border-radius: 6px;\n",
       "                /* Position the tooltip text - see examples below! */\n",
       "                position: absolute;\n",
       "                z-index: 1;\n",
       "            }\n",
       "            #primary {\n",
       "                font-weight: bold;\n",
       "                color: black;\n",
       "            }\n",
       "\n",
       "            #nonprimary {\n",
       "                font-weight: normal;\n",
       "                color: white;\n",
       "            }\n",
       "\n",
       "            /* Show the tooltip text when you mouse over the tooltip container */\n",
       "            .djtooltip:hover .djtooltiptext {\n",
       "                visibility: visible;\n",
       "            }\n",
       "        </style>\n",
       "        \n",
       "        \n",
       "            <div style=\"max-height:1000px;max-width:1500px;overflow:auto;\">\n",
       "            <table border=\"1\" class=\"Relation\">\n",
       "                <thead> <tr style=\"text-align: right;\"> <th> <div class=\"djtooltip\">\n",
       "                                <p id=\"primary\">segment_id</p>\n",
       "                                <span class=\"djtooltiptext\">segment id unique within each Segmentation</span>\n",
       "                            </div></th><th><div class=\"djtooltip\">\n",
       "                                <p id=\"primary\">version</p>\n",
       "                                <span class=\"djtooltiptext\"></span>\n",
       "                            </div></th><th><div class=\"djtooltip\">\n",
       "                                <p id=\"primary\">decimation_ratio</p>\n",
       "                                <span class=\"djtooltiptext\">ratio of remaining mesh vertices/faces (which ones depends on what metric the decimation technique uses)</span>\n",
       "                            </div> </th> </tr> </thead>\n",
       "                <tbody> <tr> <td>864691135415985394</td>\n",
       "<td>0</td>\n",
       "<td>0.25</td></tr><tr><td>864691135725526698</td>\n",
       "<td>0</td>\n",
       "<td>0.25</td></tr><tr><td>864691136306123638</td>\n",
       "<td>0</td>\n",
       "<td>0.25</td></tr><tr><td>864691135166046811</td>\n",
       "<td>0</td>\n",
       "<td>0.25</td></tr><tr><td>864691136064572568</td>\n",
       "<td>0</td>\n",
       "<td>0.25</td></tr><tr><td>864691135573919474</td>\n",
       "<td>0</td>\n",
       "<td>0.25</td></tr><tr><td>864691136658030876</td>\n",
       "<td>0</td>\n",
       "<td>0.25</td></tr><tr><td>864691135454960504</td>\n",
       "<td>0</td>\n",
       "<td>0.25</td></tr><tr><td>864691135177910676</td>\n",
       "<td>0</td>\n",
       "<td>0.25</td></tr><tr><td>864691135438430771</td>\n",
       "<td>0</td>\n",
       "<td>0.25</td></tr><tr><td>864691136226789555</td>\n",
       "<td>0</td>\n",
       "<td>0.25</td></tr><tr><td>864691135661426403</td>\n",
       "<td>0</td>\n",
       "<td>0.25</td></tr><tr><td>864691135637311555</td>\n",
       "<td>0</td>\n",
       "<td>0.25</td></tr><tr><td>864691136378318455</td>\n",
       "<td>0</td>\n",
       "<td>0.25</td></tr><tr><td>864691135434862834</td>\n",
       "<td>0</td>\n",
       "<td>0.25</td></tr><tr><td>864691136223605738</td>\n",
       "<td>0</td>\n",
       "<td>0.25</td></tr><tr><td>864691135436312894</td>\n",
       "<td>0</td>\n",
       "<td>0.25</td></tr><tr><td>864691135507321796</td>\n",
       "<td>0</td>\n",
       "<td>0.25</td></tr><tr><td>864691135640598189</td>\n",
       "<td>0</td>\n",
       "<td>0.25</td></tr><tr><td>864691136337738647</td>\n",
       "<td>0</td>\n",
       "<td>0.25</td></tr><tr><td>864691135845296556</td>\n",
       "<td>0</td>\n",
       "<td>0.25</td></tr><tr><td>864691135641196003</td>\n",
       "<td>0</td>\n",
       "<td>0.25</td></tr><tr><td>864691135560942532</td>\n",
       "<td>0</td>\n",
       "<td>0.25</td></tr><tr><td>864691135426847626</td>\n",
       "<td>0</td>\n",
       "<td>0.25</td></tr><tr><td>864691135711647124</td>\n",
       "<td>0</td>\n",
       "<td>0.25</td></tr><tr><td>864691135625048899</td>\n",
       "<td>0</td>\n",
       "<td>0.25</td></tr><tr><td>864691135585038066</td>\n",
       "<td>0</td>\n",
       "<td>0.25</td></tr><tr><td>864691136235193278</td>\n",
       "<td>0</td>\n",
       "<td>0.25</td></tr><tr><td>864691135504304370</td>\n",
       "<td>0</td>\n",
       "<td>0.25</td></tr><tr><td>864691135734494595</td>\n",
       "<td>0</td>\n",
       "<td>0.25</td> </tr> </tbody>\n",
       "            </table>\n",
       "            <p>...</p>\n",
       "            <p>Total: 3839198</p></div>\n",
       "            "
      ],
      "text/plain": [
       "*segment_id    *version    *decimation_ra\n",
       "+------------+ +---------+ +------------+\n",
       "86469113541598 0           0.25          \n",
       "86469113572552 0           0.25          \n",
       "86469113630612 0           0.25          \n",
       "86469113516604 0           0.25          \n",
       "86469113606457 0           0.25          \n",
       "86469113557391 0           0.25          \n",
       "86469113665803 0           0.25          \n",
       "86469113545496 0           0.25          \n",
       "86469113517791 0           0.25          \n",
       "86469113543843 0           0.25          \n",
       "86469113622678 0           0.25          \n",
       "86469113566142 0           0.25          \n",
       "86469113563731 0           0.25          \n",
       "86469113637831 0           0.25          \n",
       "86469113543486 0           0.25          \n",
       "86469113622360 0           0.25          \n",
       "86469113543631 0           0.25          \n",
       "86469113550732 0           0.25          \n",
       "86469113564059 0           0.25          \n",
       "86469113633773 0           0.25          \n",
       "86469113584529 0           0.25          \n",
       "86469113564119 0           0.25          \n",
       "86469113556094 0           0.25          \n",
       "86469113542684 0           0.25          \n",
       "86469113571164 0           0.25          \n",
       "86469113562504 0           0.25          \n",
       "86469113558503 0           0.25          \n",
       "86469113623519 0           0.25          \n",
       "86469113550430 0           0.25          \n",
       "86469113573449 0           0.25          \n",
       "   ...\n",
       " (Total: 3839198)"
      ]
     },
     "execution_count": 91,
     "metadata": {},
     "output_type": "execute_result"
    }
   ],
   "source": [
    "minnie.Mesh.proj() *minnie.DecimationConfig & \"decimation_ratio=0.25\" "
   ]
  },
  {
   "cell_type": "code",
   "execution_count": null,
   "metadata": {},
   "outputs": [],
   "source": []
  }
 ],
 "metadata": {
  "kernelspec": {
   "display_name": "Python 3",
   "language": "python",
   "name": "python3"
  },
  "language_info": {
   "codemirror_mode": {
    "name": "ipython",
    "version": 3
   },
   "file_extension": ".py",
   "mimetype": "text/x-python",
   "name": "python",
   "nbconvert_exporter": "python",
   "pygments_lexer": "ipython3",
   "version": "3.6.9"
  }
 },
 "nbformat": 4,
 "nbformat_minor": 4
}
