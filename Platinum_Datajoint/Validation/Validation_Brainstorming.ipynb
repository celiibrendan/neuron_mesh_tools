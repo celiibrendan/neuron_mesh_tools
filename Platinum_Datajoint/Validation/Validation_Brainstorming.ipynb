{
 "cells": [
  {
   "cell_type": "code",
   "execution_count": 1,
   "metadata": {},
   "outputs": [],
   "source": [
    "from sys import path\n",
    "import numpy as np\n",
    "path.append(\"/meshAfterParty/\")"
   ]
  },
  {
   "cell_type": "code",
   "execution_count": 2,
   "metadata": {},
   "outputs": [],
   "source": [
    "import numpy_utils as nu\n",
    "import pandas_utils as pu"
   ]
  },
  {
   "cell_type": "code",
   "execution_count": 3,
   "metadata": {},
   "outputs": [],
   "source": [
    "nu.turn_off_scientific_notation()\n",
    "pu.turn_off_scientific_notation()"
   ]
  },
  {
   "cell_type": "code",
   "execution_count": 4,
   "metadata": {},
   "outputs": [],
   "source": [
    "from pathlib import Path\n",
    "import system_utils as su\n",
    "from importlib import reload"
   ]
  },
  {
   "cell_type": "code",
   "execution_count": 5,
   "metadata": {},
   "outputs": [],
   "source": [
    "data_path = Path(\"./manual_proofread_data/\")\n",
    "manual_files = list(data_path.iterdir())"
   ]
  },
  {
   "cell_type": "markdown",
   "metadata": {},
   "source": [
    "# Creating the table for validation"
   ]
  },
  {
   "cell_type": "code",
   "execution_count": 53,
   "metadata": {},
   "outputs": [
    {
     "name": "stderr",
     "output_type": "stream",
     "text": [
      "INFO - 2020-11-30 05:39:17,036 - settings - Setting enable_python_native_blobs to True\n",
      "INFO - 2020-11-30 05:39:17,240 - settings - Setting enable_python_native_blobs to True\n"
     ]
    }
   ],
   "source": [
    "minnie, schema = du.configure_minnie_vm()"
   ]
  },
  {
   "cell_type": "code",
   "execution_count": 41,
   "metadata": {},
   "outputs": [
    {
     "name": "stdout",
     "output_type": "stream",
     "text": [
      "segment_id           : bigint unsigned              # segment id for those to be decimated\n",
      "\n"
     ]
    },
    {
     "data": {
      "text/plain": [
       "'segment_id           : bigint unsigned              # segment id for those to be decimated\\n'"
      ]
     },
     "execution_count": 41,
     "metadata": {},
     "output_type": "execute_result"
    }
   ],
   "source": [
    "minnie.SegToDecimateFromNuclei.describe()"
   ]
  },
  {
   "cell_type": "code",
   "execution_count": null,
   "metadata": {},
   "outputs": [],
   "source": [
    "@schema\n",
    "class ExclusionCriteria(dj.Manual):\n",
    "    definition=\"\"\"\n",
    "    # Descriptions of exclusion criterias\n",
    "    -> minnie.Segment    \n",
    "    \n",
    "    \"\"\""
   ]
  },
  {
   "cell_type": "code",
   "execution_count": 57,
   "metadata": {},
   "outputs": [
    {
     "data": {
      "text/html": [
       "\n",
       "        \n",
       "        <style type=\"text/css\">\n",
       "            .Relation{\n",
       "                border-collapse:collapse;\n",
       "            }\n",
       "            .Relation th{\n",
       "                background: #A0A0A0; color: #ffffff; padding:4px; border:#f0e0e0 1px solid;\n",
       "                font-weight: normal; font-family: monospace; font-size: 100%;\n",
       "            }\n",
       "            .Relation td{\n",
       "                padding:4px; border:#f0e0e0 1px solid; font-size:100%;\n",
       "            }\n",
       "            .Relation tr:nth-child(odd){\n",
       "                background: #ffffff;\n",
       "            }\n",
       "            .Relation tr:nth-child(even){\n",
       "                background: #f3f1ff;\n",
       "            }\n",
       "            /* Tooltip container */\n",
       "            .djtooltip {\n",
       "            }\n",
       "            /* Tooltip text */\n",
       "            .djtooltip .djtooltiptext {\n",
       "                visibility: hidden;\n",
       "                width: 120px;\n",
       "                background-color: black;\n",
       "                color: #fff;\n",
       "                text-align: center;\n",
       "                padding: 5px 0;\n",
       "                border-radius: 6px;\n",
       "                /* Position the tooltip text - see examples below! */\n",
       "                position: absolute;\n",
       "                z-index: 1;\n",
       "            }\n",
       "            #primary {\n",
       "                font-weight: bold;\n",
       "                color: black;\n",
       "            }\n",
       "\n",
       "            #nonprimary {\n",
       "                font-weight: normal;\n",
       "                color: white;\n",
       "            }\n",
       "\n",
       "            /* Show the tooltip text when you mouse over the tooltip container */\n",
       "            .djtooltip:hover .djtooltiptext {\n",
       "                visibility: visible;\n",
       "            }\n",
       "        </style>\n",
       "        \n",
       "        \n",
       "            <div style=\"max-height:1000px;max-width:1500px;overflow:auto;\">\n",
       "            <table border=\"1\" class=\"Relation\">\n",
       "                <thead> <tr style=\"text-align: right;\"> <th> <div class=\"djtooltip\">\n",
       "                                <p id=\"primary\">segment_id</p>\n",
       "                                <span class=\"djtooltiptext\">segment id unique within each Segmentation</span>\n",
       "                            </div></th><th><div class=\"djtooltip\">\n",
       "                                <p id=\"primary\">decimation_version</p>\n",
       "                                <span class=\"djtooltiptext\"></span>\n",
       "                            </div></th><th><div class=\"djtooltip\">\n",
       "                                <p id=\"primary\">decimation_ratio</p>\n",
       "                                <span class=\"djtooltiptext\">ratio of remaining mesh vertices/faces (which ones depends on what metric the decimation technique uses)</span>\n",
       "                            </div> </th> </tr> </thead>\n",
       "                <tbody> <tr> <td>864691134988386682</td>\n",
       "<td>0</td>\n",
       "<td>0.25</td></tr><tr><td>864691135382947307</td>\n",
       "<td>0</td>\n",
       "<td>0.25</td></tr><tr><td>864691135564655959</td>\n",
       "<td>0</td>\n",
       "<td>0.25</td></tr><tr><td>864691135645592260</td>\n",
       "<td>0</td>\n",
       "<td>0.25</td></tr><tr><td>864691135699269154</td>\n",
       "<td>0</td>\n",
       "<td>0.25</td></tr><tr><td>864691135735426708</td>\n",
       "<td>0</td>\n",
       "<td>0.25</td></tr><tr><td>864691135736387732</td>\n",
       "<td>0</td>\n",
       "<td>0.25</td></tr><tr><td>864691135748569897</td>\n",
       "<td>0</td>\n",
       "<td>0.25</td></tr><tr><td>864691135748575017</td>\n",
       "<td>0</td>\n",
       "<td>0.25</td></tr><tr><td>864691135866394390</td>\n",
       "<td>0</td>\n",
       "<td>0.25</td></tr><tr><td>864691135925564174</td>\n",
       "<td>0</td>\n",
       "<td>0.25</td></tr><tr><td>864691135974454383</td>\n",
       "<td>0</td>\n",
       "<td>0.25</td> </tr> </tbody>\n",
       "            </table>\n",
       "            <p>...</p>\n",
       "            <p>Total: 22</p></div>\n",
       "            "
      ],
      "text/plain": [
       "*segment_id    *decimation_ve *decimation_ra\n",
       "+------------+ +------------+ +------------+\n",
       "86469113498838 0              0.25          \n",
       "86469113538294 0              0.25          \n",
       "86469113556465 0              0.25          \n",
       "86469113564559 0              0.25          \n",
       "86469113569926 0              0.25          \n",
       "86469113573542 0              0.25          \n",
       "86469113573638 0              0.25          \n",
       "86469113574856 0              0.25          \n",
       "86469113574857 0              0.25          \n",
       "86469113586639 0              0.25          \n",
       "86469113592556 0              0.25          \n",
       "86469113597445 0              0.25          \n",
       "   ...\n",
       " (Total: 22)"
      ]
     },
     "execution_count": 57,
     "metadata": {},
     "output_type": "execute_result"
    }
   ],
   "source": [
    "decimation_version = 0\n",
    "decimation_ratio = 0.25\n",
    "key_source = (minnie.Decimation().proj(decimation_version='version')  & \n",
    "              dict(decimation_version=decimation_version,decimation_ratio=decimation_ratio)  \n",
    "              & minnie.ManualProofreadIDs() & (minnie.BaylorSegmentCentroid() & \"multiplicity=1\").proj()) - (ManualProofreadIDs() & minnie.Decomposition.proj()).proj()\n",
    "key_source"
   ]
  },
  {
   "cell_type": "code",
   "execution_count": 55,
   "metadata": {},
   "outputs": [
    {
     "data": {
      "text/html": [
       "\n",
       "        \n",
       "        <style type=\"text/css\">\n",
       "            .Relation{\n",
       "                border-collapse:collapse;\n",
       "            }\n",
       "            .Relation th{\n",
       "                background: #A0A0A0; color: #ffffff; padding:4px; border:#f0e0e0 1px solid;\n",
       "                font-weight: normal; font-family: monospace; font-size: 100%;\n",
       "            }\n",
       "            .Relation td{\n",
       "                padding:4px; border:#f0e0e0 1px solid; font-size:100%;\n",
       "            }\n",
       "            .Relation tr:nth-child(odd){\n",
       "                background: #ffffff;\n",
       "            }\n",
       "            .Relation tr:nth-child(even){\n",
       "                background: #f3f1ff;\n",
       "            }\n",
       "            /* Tooltip container */\n",
       "            .djtooltip {\n",
       "            }\n",
       "            /* Tooltip text */\n",
       "            .djtooltip .djtooltiptext {\n",
       "                visibility: hidden;\n",
       "                width: 120px;\n",
       "                background-color: black;\n",
       "                color: #fff;\n",
       "                text-align: center;\n",
       "                padding: 5px 0;\n",
       "                border-radius: 6px;\n",
       "                /* Position the tooltip text - see examples below! */\n",
       "                position: absolute;\n",
       "                z-index: 1;\n",
       "            }\n",
       "            #primary {\n",
       "                font-weight: bold;\n",
       "                color: black;\n",
       "            }\n",
       "\n",
       "            #nonprimary {\n",
       "                font-weight: normal;\n",
       "                color: white;\n",
       "            }\n",
       "\n",
       "            /* Show the tooltip text when you mouse over the tooltip container */\n",
       "            .djtooltip:hover .djtooltiptext {\n",
       "                visibility: visible;\n",
       "            }\n",
       "        </style>\n",
       "        \n",
       "        <b></b>\n",
       "            <div style=\"max-height:1000px;max-width:1500px;overflow:auto;\">\n",
       "            <table border=\"1\" class=\"Relation\">\n",
       "                <thead> <tr style=\"text-align: right;\"> <th> <div class=\"djtooltip\">\n",
       "                                <p id=\"primary\">segment_id</p>\n",
       "                                <span class=\"djtooltiptext\">segment id for those to be decimated</span>\n",
       "                            </div> </th> </tr> </thead>\n",
       "                <tbody> <tr> <td>864691135113167769</td></tr><tr><td>864691135212632448</td></tr><tr><td>864691135212690816</td></tr><tr><td>864691135233108569</td></tr><tr><td>864691135272164113</td></tr><tr><td>864691135348272855</td></tr><tr><td>864691135373402824</td></tr><tr><td>864691135393964789</td></tr><tr><td>864691135407289801</td></tr><tr><td>864691135491233631</td></tr><tr><td>864691135501578306</td></tr><tr><td>864691135510455760</td> </tr> </tbody>\n",
       "            </table>\n",
       "            <p>...</p>\n",
       "            <p>Total: 43</p></div>\n",
       "            "
      ],
      "text/plain": [
       "*segment_id   \n",
       "+------------+\n",
       "86469113511316\n",
       "86469113521263\n",
       "86469113521269\n",
       "86469113523310\n",
       "86469113527216\n",
       "86469113534827\n",
       "86469113537340\n",
       "86469113539396\n",
       "86469113540728\n",
       "86469113549123\n",
       "86469113550157\n",
       "86469113551045\n",
       "   ...\n",
       " (Total: 43)"
      ]
     },
     "execution_count": 55,
     "metadata": {},
     "output_type": "execute_result"
    }
   ],
   "source": []
  },
  {
   "cell_type": "code",
   "execution_count": 46,
   "metadata": {},
   "outputs": [],
   "source": [
    "import datajoint as dj\n",
    "\n",
    "@schema\n",
    "class ManualProofreadIDs(dj.Manual):\n",
    "    definition=\"\"\"\n",
    "    segment_id : bigint unsigned              # segment id for those to be decimated\n",
    "    \n",
    "    \"\"\""
   ]
  },
  {
   "cell_type": "code",
   "execution_count": 51,
   "metadata": {},
   "outputs": [],
   "source": [
    "for f in manual_files:\n",
    "    segment_id = int(f.stem)\n",
    "    ManualProofreadIDs.insert1(dict(segment_id=segment_id),skip_duplicates=True)"
   ]
  },
  {
   "cell_type": "code",
   "execution_count": 52,
   "metadata": {},
   "outputs": [
    {
     "data": {
      "text/html": [
       "\n",
       "        \n",
       "        <style type=\"text/css\">\n",
       "            .Relation{\n",
       "                border-collapse:collapse;\n",
       "            }\n",
       "            .Relation th{\n",
       "                background: #A0A0A0; color: #ffffff; padding:4px; border:#f0e0e0 1px solid;\n",
       "                font-weight: normal; font-family: monospace; font-size: 100%;\n",
       "            }\n",
       "            .Relation td{\n",
       "                padding:4px; border:#f0e0e0 1px solid; font-size:100%;\n",
       "            }\n",
       "            .Relation tr:nth-child(odd){\n",
       "                background: #ffffff;\n",
       "            }\n",
       "            .Relation tr:nth-child(even){\n",
       "                background: #f3f1ff;\n",
       "            }\n",
       "            /* Tooltip container */\n",
       "            .djtooltip {\n",
       "            }\n",
       "            /* Tooltip text */\n",
       "            .djtooltip .djtooltiptext {\n",
       "                visibility: hidden;\n",
       "                width: 120px;\n",
       "                background-color: black;\n",
       "                color: #fff;\n",
       "                text-align: center;\n",
       "                padding: 5px 0;\n",
       "                border-radius: 6px;\n",
       "                /* Position the tooltip text - see examples below! */\n",
       "                position: absolute;\n",
       "                z-index: 1;\n",
       "            }\n",
       "            #primary {\n",
       "                font-weight: bold;\n",
       "                color: black;\n",
       "            }\n",
       "\n",
       "            #nonprimary {\n",
       "                font-weight: normal;\n",
       "                color: white;\n",
       "            }\n",
       "\n",
       "            /* Show the tooltip text when you mouse over the tooltip container */\n",
       "            .djtooltip:hover .djtooltiptext {\n",
       "                visibility: visible;\n",
       "            }\n",
       "        </style>\n",
       "        \n",
       "        <b></b>\n",
       "            <div style=\"max-height:1000px;max-width:1500px;overflow:auto;\">\n",
       "            <table border=\"1\" class=\"Relation\">\n",
       "                <thead> <tr style=\"text-align: right;\"> <th> <div class=\"djtooltip\">\n",
       "                                <p id=\"primary\">segment_id</p>\n",
       "                                <span class=\"djtooltiptext\">segment id for those to be decimated</span>\n",
       "                            </div> </th> </tr> </thead>\n",
       "                <tbody> <tr> <td>864691134753831925</td></tr><tr><td>864691134988386682</td></tr><tr><td>864691135113167769</td></tr><tr><td>864691135212632448</td></tr><tr><td>864691135212690816</td></tr><tr><td>864691135233108569</td></tr><tr><td>864691135272164113</td></tr><tr><td>864691135348272855</td></tr><tr><td>864691135373402824</td></tr><tr><td>864691135382947307</td></tr><tr><td>864691135393964789</td></tr><tr><td>864691135407289801</td> </tr> </tbody>\n",
       "            </table>\n",
       "            <p>...</p>\n",
       "            <p>Total: 69</p></div>\n",
       "            "
      ],
      "text/plain": [
       "*segment_id   \n",
       "+------------+\n",
       "86469113475383\n",
       "86469113498838\n",
       "86469113511316\n",
       "86469113521263\n",
       "86469113521269\n",
       "86469113523310\n",
       "86469113527216\n",
       "86469113534827\n",
       "86469113537340\n",
       "86469113538294\n",
       "86469113539396\n",
       "86469113540728\n",
       "   ...\n",
       " (Total: 69)"
      ]
     },
     "execution_count": 52,
     "metadata": {},
     "output_type": "execute_result"
    }
   ],
   "source": [
    "ManualProofreadIDs()"
   ]
  },
  {
   "cell_type": "markdown",
   "metadata": {},
   "source": [
    "# Doing Analysis for one of the files"
   ]
  },
  {
   "cell_type": "code",
   "execution_count": 6,
   "metadata": {},
   "outputs": [
    {
     "name": "stdout",
     "output_type": "stream",
     "text": [
      "segment_id = 864691135699269154\n"
     ]
    }
   ],
   "source": [
    "current_file = manual_files[1]\n",
    "current_file.absolute()\n",
    "segment_id = int(current_file.stem)\n",
    "print(f\"segment_id = {segment_id}\")"
   ]
  },
  {
   "cell_type": "code",
   "execution_count": 7,
   "metadata": {},
   "outputs": [
    {
     "data": {
      "text/html": [
       "<div>\n",
       "<style scoped>\n",
       "    .dataframe tbody tr th:only-of-type {\n",
       "        vertical-align: middle;\n",
       "    }\n",
       "\n",
       "    .dataframe tbody tr th {\n",
       "        vertical-align: top;\n",
       "    }\n",
       "\n",
       "    .dataframe thead th {\n",
       "        text-align: right;\n",
       "    }\n",
       "</style>\n",
       "<table border=\"1\" class=\"dataframe\">\n",
       "  <thead>\n",
       "    <tr style=\"text-align: right;\">\n",
       "      <th></th>\n",
       "      <th>id</th>\n",
       "      <th>valid</th>\n",
       "      <th>pre_pt_position</th>\n",
       "      <th>pre_pt_supervoxel_id</th>\n",
       "      <th>pre_pt_root_id</th>\n",
       "      <th>ctr_pt_position</th>\n",
       "      <th>post_pt_position</th>\n",
       "      <th>post_pt_supervoxel_id</th>\n",
       "      <th>post_pt_root_id</th>\n",
       "      <th>size</th>\n",
       "      <th>pre_pt_root_id_Aug</th>\n",
       "      <th>post_pt_root_id_Aug</th>\n",
       "    </tr>\n",
       "  </thead>\n",
       "  <tbody>\n",
       "    <tr>\n",
       "      <th>0</th>\n",
       "      <td>325460987</td>\n",
       "      <td>True</td>\n",
       "      <td>[274974, 219886, 17907]</td>\n",
       "      <td>102548632360240157</td>\n",
       "      <td>864691135117960925</td>\n",
       "      <td>[275030, 219850, 17898]</td>\n",
       "      <td>[274974, 219886, 17907]</td>\n",
       "      <td>102548632360240157</td>\n",
       "      <td>864691135117960925</td>\n",
       "      <td>4044</td>\n",
       "      <td>864691135699269120</td>\n",
       "      <td>864691135699269120</td>\n",
       "    </tr>\n",
       "    <tr>\n",
       "      <th>1</th>\n",
       "      <td>363042583</td>\n",
       "      <td>True</td>\n",
       "      <td>[300482, 193754, 16456]</td>\n",
       "      <td>106063564741125177</td>\n",
       "      <td>864691135117960925</td>\n",
       "      <td>[300574, 193745, 16460]</td>\n",
       "      <td>[300480, 193740, 16458]</td>\n",
       "      <td>106063564741131703</td>\n",
       "      <td>864691134778296933</td>\n",
       "      <td>400</td>\n",
       "      <td>864691135699269120</td>\n",
       "      <td>864691134778296960</td>\n",
       "    </tr>\n",
       "    <tr>\n",
       "      <th>2</th>\n",
       "      <td>363042512</td>\n",
       "      <td>True</td>\n",
       "      <td>[300506, 193788, 16458]</td>\n",
       "      <td>106063564741128784</td>\n",
       "      <td>864691135117960925</td>\n",
       "      <td>[300532, 193722, 16455]</td>\n",
       "      <td>[300524, 193662, 16449]</td>\n",
       "      <td>106063496021647743</td>\n",
       "      <td>864691135734433684</td>\n",
       "      <td>6616</td>\n",
       "      <td>864691135699269120</td>\n",
       "      <td>864691135734433664</td>\n",
       "    </tr>\n",
       "    <tr>\n",
       "      <th>3</th>\n",
       "      <td>380880601</td>\n",
       "      <td>True</td>\n",
       "      <td>[310434, 184844, 17670]</td>\n",
       "      <td>107469702808549563</td>\n",
       "      <td>864691135117960925</td>\n",
       "      <td>[310386, 184838, 17664]</td>\n",
       "      <td>[310388, 184882, 17666]</td>\n",
       "      <td>107469702808539611</td>\n",
       "      <td>864691133915747750</td>\n",
       "      <td>1156</td>\n",
       "      <td>864691135699269120</td>\n",
       "      <td>864691133915747712</td>\n",
       "    </tr>\n",
       "    <tr>\n",
       "      <th>4</th>\n",
       "      <td>392519113</td>\n",
       "      <td>True</td>\n",
       "      <td>[318178, 192050, 18380]</td>\n",
       "      <td>108526196111203709</td>\n",
       "      <td>864691135117960925</td>\n",
       "      <td>[318254, 192130, 18384]</td>\n",
       "      <td>[318184, 192156, 18389]</td>\n",
       "      <td>108526196111211404</td>\n",
       "      <td>864691135291923638</td>\n",
       "      <td>244</td>\n",
       "      <td>864691135699269120</td>\n",
       "      <td>864691135864709376</td>\n",
       "    </tr>\n",
       "    <tr>\n",
       "      <th>...</th>\n",
       "      <td>...</td>\n",
       "      <td>...</td>\n",
       "      <td>...</td>\n",
       "      <td>...</td>\n",
       "      <td>...</td>\n",
       "      <td>...</td>\n",
       "      <td>...</td>\n",
       "      <td>...</td>\n",
       "      <td>...</td>\n",
       "      <td>...</td>\n",
       "      <td>...</td>\n",
       "      <td>...</td>\n",
       "    </tr>\n",
       "    <tr>\n",
       "      <th>734</th>\n",
       "      <td>470026219</td>\n",
       "      <td>True</td>\n",
       "      <td>[363746, 181942, 16249]</td>\n",
       "      <td>114787639684937290</td>\n",
       "      <td>864691135823560391</td>\n",
       "      <td>[363776, 181986, 16250]</td>\n",
       "      <td>[363826, 181984, 16251]</td>\n",
       "      <td>114787708404434646</td>\n",
       "      <td>864691135117960925</td>\n",
       "      <td>8252</td>\n",
       "      <td>864691135823560448</td>\n",
       "      <td>864691135699269120</td>\n",
       "    </tr>\n",
       "    <tr>\n",
       "      <th>735</th>\n",
       "      <td>470026275</td>\n",
       "      <td>True</td>\n",
       "      <td>[363834, 182344, 16274]</td>\n",
       "      <td>114787708404459319</td>\n",
       "      <td>864691135288655798</td>\n",
       "      <td>[363846, 182336, 16281]</td>\n",
       "      <td>[363858, 182410, 16278]</td>\n",
       "      <td>114787708404468899</td>\n",
       "      <td>864691135117960925</td>\n",
       "      <td>6848</td>\n",
       "      <td>864691135288655744</td>\n",
       "      <td>864691135699269120</td>\n",
       "    </tr>\n",
       "    <tr>\n",
       "      <th>736</th>\n",
       "      <td>476026923</td>\n",
       "      <td>True</td>\n",
       "      <td>[364008, 182908, 16333]</td>\n",
       "      <td>114787777123999450</td>\n",
       "      <td>864691135846938076</td>\n",
       "      <td>[363950, 182858, 16329]</td>\n",
       "      <td>[364024, 182840, 16332]</td>\n",
       "      <td>114787777123993378</td>\n",
       "      <td>864691135117960925</td>\n",
       "      <td>5156</td>\n",
       "      <td>864691135846938112</td>\n",
       "      <td>864691135699269120</td>\n",
       "    </tr>\n",
       "    <tr>\n",
       "      <th>737</th>\n",
       "      <td>467157278</td>\n",
       "      <td>True</td>\n",
       "      <td>[363636, 183026, 16434]</td>\n",
       "      <td>114787845910121916</td>\n",
       "      <td>864691136746218606</td>\n",
       "      <td>[363706, 182990, 16440]</td>\n",
       "      <td>[363640, 182924, 16435]</td>\n",
       "      <td>114787777190646371</td>\n",
       "      <td>864691135117960925</td>\n",
       "      <td>2756</td>\n",
       "      <td>864691136746218624</td>\n",
       "      <td>864691135699269120</td>\n",
       "    </tr>\n",
       "    <tr>\n",
       "      <th>738</th>\n",
       "      <td>467157245</td>\n",
       "      <td>True</td>\n",
       "      <td>[363738, 183090, 16540]</td>\n",
       "      <td>114787845910222043</td>\n",
       "      <td>864691136925009887</td>\n",
       "      <td>[363662, 183080, 16541]</td>\n",
       "      <td>[363654, 183072, 16537]</td>\n",
       "      <td>114787845910219922</td>\n",
       "      <td>864691135117960925</td>\n",
       "      <td>13464</td>\n",
       "      <td>864691136925009920</td>\n",
       "      <td>864691135699269120</td>\n",
       "    </tr>\n",
       "  </tbody>\n",
       "</table>\n",
       "<p>4837 rows × 12 columns</p>\n",
       "</div>"
      ],
      "text/plain": [
       "            id  valid          pre_pt_position  pre_pt_supervoxel_id  \\\n",
       "0    325460987   True  [274974, 219886, 17907]    102548632360240157   \n",
       "1    363042583   True  [300482, 193754, 16456]    106063564741125177   \n",
       "2    363042512   True  [300506, 193788, 16458]    106063564741128784   \n",
       "3    380880601   True  [310434, 184844, 17670]    107469702808549563   \n",
       "4    392519113   True  [318178, 192050, 18380]    108526196111203709   \n",
       "..         ...    ...                      ...                   ...   \n",
       "734  470026219   True  [363746, 181942, 16249]    114787639684937290   \n",
       "735  470026275   True  [363834, 182344, 16274]    114787708404459319   \n",
       "736  476026923   True  [364008, 182908, 16333]    114787777123999450   \n",
       "737  467157278   True  [363636, 183026, 16434]    114787845910121916   \n",
       "738  467157245   True  [363738, 183090, 16540]    114787845910222043   \n",
       "\n",
       "         pre_pt_root_id          ctr_pt_position         post_pt_position  \\\n",
       "0    864691135117960925  [275030, 219850, 17898]  [274974, 219886, 17907]   \n",
       "1    864691135117960925  [300574, 193745, 16460]  [300480, 193740, 16458]   \n",
       "2    864691135117960925  [300532, 193722, 16455]  [300524, 193662, 16449]   \n",
       "3    864691135117960925  [310386, 184838, 17664]  [310388, 184882, 17666]   \n",
       "4    864691135117960925  [318254, 192130, 18384]  [318184, 192156, 18389]   \n",
       "..                  ...                      ...                      ...   \n",
       "734  864691135823560391  [363776, 181986, 16250]  [363826, 181984, 16251]   \n",
       "735  864691135288655798  [363846, 182336, 16281]  [363858, 182410, 16278]   \n",
       "736  864691135846938076  [363950, 182858, 16329]  [364024, 182840, 16332]   \n",
       "737  864691136746218606  [363706, 182990, 16440]  [363640, 182924, 16435]   \n",
       "738  864691136925009887  [363662, 183080, 16541]  [363654, 183072, 16537]   \n",
       "\n",
       "     post_pt_supervoxel_id     post_pt_root_id  size  pre_pt_root_id_Aug  \\\n",
       "0       102548632360240157  864691135117960925  4044  864691135699269120   \n",
       "1       106063564741131703  864691134778296933   400  864691135699269120   \n",
       "2       106063496021647743  864691135734433684  6616  864691135699269120   \n",
       "3       107469702808539611  864691133915747750  1156  864691135699269120   \n",
       "4       108526196111211404  864691135291923638   244  864691135699269120   \n",
       "..                     ...                 ...   ...                 ...   \n",
       "734     114787708404434646  864691135117960925  8252  864691135823560448   \n",
       "735     114787708404468899  864691135117960925  6848  864691135288655744   \n",
       "736     114787777123993378  864691135117960925  5156  864691135846938112   \n",
       "737     114787777190646371  864691135117960925  2756  864691136746218624   \n",
       "738     114787845910219922  864691135117960925 13464  864691136925009920   \n",
       "\n",
       "     post_pt_root_id_Aug  \n",
       "0     864691135699269120  \n",
       "1     864691134778296960  \n",
       "2     864691135734433664  \n",
       "3     864691133915747712  \n",
       "4     864691135864709376  \n",
       "..                   ...  \n",
       "734   864691135699269120  \n",
       "735   864691135699269120  \n",
       "736   864691135699269120  \n",
       "737   864691135699269120  \n",
       "738   864691135699269120  \n",
       "\n",
       "[4837 rows x 12 columns]"
      ]
     },
     "execution_count": 7,
     "metadata": {},
     "output_type": "execute_result"
    }
   ],
   "source": [
    "su = reload(su)\n",
    "curr_synapse_table = su.load_object(current_file)\n",
    "curr_synapse_table"
   ]
  },
  {
   "cell_type": "code",
   "execution_count": 8,
   "metadata": {},
   "outputs": [
    {
     "data": {
      "text/html": [
       "<div>\n",
       "<style scoped>\n",
       "    .dataframe tbody tr th:only-of-type {\n",
       "        vertical-align: middle;\n",
       "    }\n",
       "\n",
       "    .dataframe tbody tr th {\n",
       "        vertical-align: top;\n",
       "    }\n",
       "\n",
       "    .dataframe thead th {\n",
       "        text-align: right;\n",
       "    }\n",
       "</style>\n",
       "<table border=\"1\" class=\"dataframe\">\n",
       "  <thead>\n",
       "    <tr style=\"text-align: right;\">\n",
       "      <th></th>\n",
       "      <th>id</th>\n",
       "      <th>valid</th>\n",
       "      <th>pre_pt_position</th>\n",
       "      <th>pre_pt_supervoxel_id</th>\n",
       "      <th>pre_pt_root_id</th>\n",
       "      <th>ctr_pt_position</th>\n",
       "      <th>post_pt_position</th>\n",
       "      <th>post_pt_supervoxel_id</th>\n",
       "      <th>post_pt_root_id</th>\n",
       "      <th>size</th>\n",
       "      <th>pre_pt_root_id_Aug</th>\n",
       "      <th>post_pt_root_id_Aug</th>\n",
       "    </tr>\n",
       "  </thead>\n",
       "  <tbody>\n",
       "    <tr>\n",
       "      <th>0</th>\n",
       "      <td>325460987</td>\n",
       "      <td>True</td>\n",
       "      <td>[274974, 219886, 17907]</td>\n",
       "      <td>102548632360240157</td>\n",
       "      <td>864691135117960925</td>\n",
       "      <td>[275030, 219850, 17898]</td>\n",
       "      <td>[274974, 219886, 17907]</td>\n",
       "      <td>102548632360240157</td>\n",
       "      <td>864691135117960925</td>\n",
       "      <td>4044</td>\n",
       "      <td>864691135699269120</td>\n",
       "      <td>864691135699269120</td>\n",
       "    </tr>\n",
       "    <tr>\n",
       "      <th>1</th>\n",
       "      <td>363042583</td>\n",
       "      <td>True</td>\n",
       "      <td>[300482, 193754, 16456]</td>\n",
       "      <td>106063564741125177</td>\n",
       "      <td>864691135117960925</td>\n",
       "      <td>[300574, 193745, 16460]</td>\n",
       "      <td>[300480, 193740, 16458]</td>\n",
       "      <td>106063564741131703</td>\n",
       "      <td>864691134778296933</td>\n",
       "      <td>400</td>\n",
       "      <td>864691135699269120</td>\n",
       "      <td>864691134778296960</td>\n",
       "    </tr>\n",
       "    <tr>\n",
       "      <th>2</th>\n",
       "      <td>363042512</td>\n",
       "      <td>True</td>\n",
       "      <td>[300506, 193788, 16458]</td>\n",
       "      <td>106063564741128784</td>\n",
       "      <td>864691135117960925</td>\n",
       "      <td>[300532, 193722, 16455]</td>\n",
       "      <td>[300524, 193662, 16449]</td>\n",
       "      <td>106063496021647743</td>\n",
       "      <td>864691135734433684</td>\n",
       "      <td>6616</td>\n",
       "      <td>864691135699269120</td>\n",
       "      <td>864691135734433664</td>\n",
       "    </tr>\n",
       "    <tr>\n",
       "      <th>3</th>\n",
       "      <td>380880601</td>\n",
       "      <td>True</td>\n",
       "      <td>[310434, 184844, 17670]</td>\n",
       "      <td>107469702808549563</td>\n",
       "      <td>864691135117960925</td>\n",
       "      <td>[310386, 184838, 17664]</td>\n",
       "      <td>[310388, 184882, 17666]</td>\n",
       "      <td>107469702808539611</td>\n",
       "      <td>864691133915747750</td>\n",
       "      <td>1156</td>\n",
       "      <td>864691135699269120</td>\n",
       "      <td>864691133915747712</td>\n",
       "    </tr>\n",
       "    <tr>\n",
       "      <th>4</th>\n",
       "      <td>392519113</td>\n",
       "      <td>True</td>\n",
       "      <td>[318178, 192050, 18380]</td>\n",
       "      <td>108526196111203709</td>\n",
       "      <td>864691135117960925</td>\n",
       "      <td>[318254, 192130, 18384]</td>\n",
       "      <td>[318184, 192156, 18389]</td>\n",
       "      <td>108526196111211404</td>\n",
       "      <td>864691135291923638</td>\n",
       "      <td>244</td>\n",
       "      <td>864691135699269120</td>\n",
       "      <td>864691135864709376</td>\n",
       "    </tr>\n",
       "    <tr>\n",
       "      <th>...</th>\n",
       "      <td>...</td>\n",
       "      <td>...</td>\n",
       "      <td>...</td>\n",
       "      <td>...</td>\n",
       "      <td>...</td>\n",
       "      <td>...</td>\n",
       "      <td>...</td>\n",
       "      <td>...</td>\n",
       "      <td>...</td>\n",
       "      <td>...</td>\n",
       "      <td>...</td>\n",
       "      <td>...</td>\n",
       "    </tr>\n",
       "    <tr>\n",
       "      <th>63</th>\n",
       "      <td>422296086</td>\n",
       "      <td>True</td>\n",
       "      <td>[333928, 188512, 21152]</td>\n",
       "      <td>110707146546694318</td>\n",
       "      <td>864691135454188138</td>\n",
       "      <td>[333928, 188496, 21150]</td>\n",
       "      <td>[333928, 188512, 21152]</td>\n",
       "      <td>110707146546694318</td>\n",
       "      <td>864691135454188138</td>\n",
       "      <td>1704</td>\n",
       "      <td>864691135699269120</td>\n",
       "      <td>864691135699269120</td>\n",
       "    </tr>\n",
       "    <tr>\n",
       "      <th>250</th>\n",
       "      <td>429016471</td>\n",
       "      <td>True</td>\n",
       "      <td>[337786, 193838, 19520]</td>\n",
       "      <td>111200483468750261</td>\n",
       "      <td>864691135117960925</td>\n",
       "      <td>[337721, 193783, 19520]</td>\n",
       "      <td>[337786, 193838, 19520]</td>\n",
       "      <td>111200483468750261</td>\n",
       "      <td>864691135117960925</td>\n",
       "      <td>424</td>\n",
       "      <td>864691135699269120</td>\n",
       "      <td>864691135699269120</td>\n",
       "    </tr>\n",
       "    <tr>\n",
       "      <th>1</th>\n",
       "      <td>436533939</td>\n",
       "      <td>True</td>\n",
       "      <td>[340640, 203600, 20521]</td>\n",
       "      <td>111624001738092268</td>\n",
       "      <td>864691135117960925</td>\n",
       "      <td>[340702, 203662, 20518]</td>\n",
       "      <td>[340640, 203600, 20521]</td>\n",
       "      <td>111624001738092268</td>\n",
       "      <td>864691135117960925</td>\n",
       "      <td>292</td>\n",
       "      <td>864691135699269120</td>\n",
       "      <td>864691135699269120</td>\n",
       "    </tr>\n",
       "    <tr>\n",
       "      <th>150</th>\n",
       "      <td>442295730</td>\n",
       "      <td>True</td>\n",
       "      <td>[344178, 183542, 18611]</td>\n",
       "      <td>112113902619430781</td>\n",
       "      <td>864691135117960925</td>\n",
       "      <td>[344174, 183508, 18602]</td>\n",
       "      <td>[344178, 183542, 18611]</td>\n",
       "      <td>112113902619430781</td>\n",
       "      <td>864691135117960925</td>\n",
       "      <td>700</td>\n",
       "      <td>864691135699269120</td>\n",
       "      <td>864691135699269120</td>\n",
       "    </tr>\n",
       "    <tr>\n",
       "      <th>716</th>\n",
       "      <td>464924708</td>\n",
       "      <td>True</td>\n",
       "      <td>[361282, 179256, 19236]</td>\n",
       "      <td>114435452769280130</td>\n",
       "      <td>864691135117960925</td>\n",
       "      <td>[361282, 179204, 19234]</td>\n",
       "      <td>[361282, 179256, 19236]</td>\n",
       "      <td>114435452769280130</td>\n",
       "      <td>864691135117960925</td>\n",
       "      <td>424</td>\n",
       "      <td>864691135699269120</td>\n",
       "      <td>864691135699269120</td>\n",
       "    </tr>\n",
       "  </tbody>\n",
       "</table>\n",
       "<p>239 rows × 12 columns</p>\n",
       "</div>"
      ],
      "text/plain": [
       "            id  valid          pre_pt_position  pre_pt_supervoxel_id  \\\n",
       "0    325460987   True  [274974, 219886, 17907]    102548632360240157   \n",
       "1    363042583   True  [300482, 193754, 16456]    106063564741125177   \n",
       "2    363042512   True  [300506, 193788, 16458]    106063564741128784   \n",
       "3    380880601   True  [310434, 184844, 17670]    107469702808549563   \n",
       "4    392519113   True  [318178, 192050, 18380]    108526196111203709   \n",
       "..         ...    ...                      ...                   ...   \n",
       "63   422296086   True  [333928, 188512, 21152]    110707146546694318   \n",
       "250  429016471   True  [337786, 193838, 19520]    111200483468750261   \n",
       "1    436533939   True  [340640, 203600, 20521]    111624001738092268   \n",
       "150  442295730   True  [344178, 183542, 18611]    112113902619430781   \n",
       "716  464924708   True  [361282, 179256, 19236]    114435452769280130   \n",
       "\n",
       "         pre_pt_root_id          ctr_pt_position         post_pt_position  \\\n",
       "0    864691135117960925  [275030, 219850, 17898]  [274974, 219886, 17907]   \n",
       "1    864691135117960925  [300574, 193745, 16460]  [300480, 193740, 16458]   \n",
       "2    864691135117960925  [300532, 193722, 16455]  [300524, 193662, 16449]   \n",
       "3    864691135117960925  [310386, 184838, 17664]  [310388, 184882, 17666]   \n",
       "4    864691135117960925  [318254, 192130, 18384]  [318184, 192156, 18389]   \n",
       "..                  ...                      ...                      ...   \n",
       "63   864691135454188138  [333928, 188496, 21150]  [333928, 188512, 21152]   \n",
       "250  864691135117960925  [337721, 193783, 19520]  [337786, 193838, 19520]   \n",
       "1    864691135117960925  [340702, 203662, 20518]  [340640, 203600, 20521]   \n",
       "150  864691135117960925  [344174, 183508, 18602]  [344178, 183542, 18611]   \n",
       "716  864691135117960925  [361282, 179204, 19234]  [361282, 179256, 19236]   \n",
       "\n",
       "     post_pt_supervoxel_id     post_pt_root_id  size  pre_pt_root_id_Aug  \\\n",
       "0       102548632360240157  864691135117960925  4044  864691135699269120   \n",
       "1       106063564741131703  864691134778296933   400  864691135699269120   \n",
       "2       106063496021647743  864691135734433684  6616  864691135699269120   \n",
       "3       107469702808539611  864691133915747750  1156  864691135699269120   \n",
       "4       108526196111211404  864691135291923638   244  864691135699269120   \n",
       "..                     ...                 ...   ...                 ...   \n",
       "63      110707146546694318  864691135454188138  1704  864691135699269120   \n",
       "250     111200483468750261  864691135117960925   424  864691135699269120   \n",
       "1       111624001738092268  864691135117960925   292  864691135699269120   \n",
       "150     112113902619430781  864691135117960925   700  864691135699269120   \n",
       "716     114435452769280130  864691135117960925   424  864691135699269120   \n",
       "\n",
       "     post_pt_root_id_Aug  \n",
       "0     864691135699269120  \n",
       "1     864691134778296960  \n",
       "2     864691135734433664  \n",
       "3     864691133915747712  \n",
       "4     864691135864709376  \n",
       "..                   ...  \n",
       "63    864691135699269120  \n",
       "250   864691135699269120  \n",
       "1     864691135699269120  \n",
       "150   864691135699269120  \n",
       "716   864691135699269120  \n",
       "\n",
       "[239 rows x 12 columns]"
      ]
     },
     "execution_count": 8,
     "metadata": {},
     "output_type": "execute_result"
    }
   ],
   "source": [
    "curr_synapse_table[curr_synapse_table[\"pre_pt_root_id_Aug\"] == 864691135699269154]"
   ]
  },
  {
   "cell_type": "markdown",
   "metadata": {},
   "source": [
    "# For the Non-august version"
   ]
  },
  {
   "cell_type": "code",
   "execution_count": 19,
   "metadata": {},
   "outputs": [],
   "source": [
    "def get_pd_id_data(col_name,return_unique=False):\n",
    "    ret_data = curr_synapse_table[col_name].to_numpy()\n",
    "    if return_unique:\n",
    "        return np.unique(ret_data)\n",
    "    else:\n",
    "        return ret_data\n"
   ]
  },
  {
   "cell_type": "code",
   "execution_count": 20,
   "metadata": {},
   "outputs": [
    {
     "data": {
      "text/plain": [
       "((4837,), False)"
      ]
     },
     "execution_count": 20,
     "metadata": {},
     "output_type": "execute_result"
    }
   ],
   "source": [
    "post_pt_root_id = get_pd_id_data(\"post_pt_root_id\")\n",
    "post_pt_root_id.shape,segment_id in post_pt_root_id"
   ]
  },
  {
   "cell_type": "code",
   "execution_count": 21,
   "metadata": {},
   "outputs": [
    {
     "data": {
      "text/plain": [
       "((4837,), False)"
      ]
     },
     "execution_count": 21,
     "metadata": {},
     "output_type": "execute_result"
    }
   ],
   "source": [
    "pre_pt_root_id = get_pd_id_data(\"pre_pt_root_id\")\n",
    "pre_pt_root_id.shape,segment_id in pre_pt_root_id"
   ]
  },
  {
   "cell_type": "code",
   "execution_count": 22,
   "metadata": {},
   "outputs": [
    {
     "data": {
      "text/plain": [
       "((4837,), True)"
      ]
     },
     "execution_count": 22,
     "metadata": {},
     "output_type": "execute_result"
    }
   ],
   "source": [
    "pre_pt_root_id_Aug = get_pd_id_data(\"pre_pt_root_id_Aug\")\n",
    "pre_pt_root_id_Aug.shape,segment_id in pre_pt_root_id_Aug"
   ]
  },
  {
   "cell_type": "code",
   "execution_count": 23,
   "metadata": {},
   "outputs": [
    {
     "data": {
      "text/plain": [
       "((4837,), True)"
      ]
     },
     "execution_count": 23,
     "metadata": {},
     "output_type": "execute_result"
    }
   ],
   "source": [
    "post_pt_root_id_Aug = get_pd_id_data(\"post_pt_root_id_Aug\")\n",
    "post_pt_root_id_Aug.shape,segment_id in post_pt_root_id_Aug"
   ]
  },
  {
   "cell_type": "markdown",
   "metadata": {},
   "source": [
    "# Loading the beginning example"
   ]
  },
  {
   "cell_type": "markdown",
   "metadata": {},
   "source": [
    "# Other example 2"
   ]
  },
  {
   "cell_type": "code",
   "execution_count": 26,
   "metadata": {},
   "outputs": [
    {
     "data": {
      "text/plain": [
       "54"
      ]
     },
     "execution_count": 26,
     "metadata": {},
     "output_type": "execute_result"
    }
   ],
   "source": [
    "len(curr_synapse_table[(curr_synapse_table[\"pre_pt_root_id_Aug\"] == 864691135699269154) & (curr_synapse_table[\"post_pt_root_id_Aug\"] == 864691135699269154) ])"
   ]
  },
  {
   "cell_type": "code",
   "execution_count": 27,
   "metadata": {},
   "outputs": [
    {
     "data": {
      "text/plain": [
       "4837"
      ]
     },
     "execution_count": 27,
     "metadata": {},
     "output_type": "execute_result"
    }
   ],
   "source": [
    "np.sum(post_pt_root_id_Aug == segment_id) + np.sum(pre_pt_root_id_Aug == segment_id)-54"
   ]
  },
  {
   "cell_type": "code",
   "execution_count": 14,
   "metadata": {},
   "outputs": [
    {
     "data": {
      "text/plain": [
       "array([False, False, False, False, False, False, False, False, False,\n",
       "       False, False, False, False, False, False, False, False, False,\n",
       "       False, False, False, False, False, False, False, False, False,\n",
       "       False, False, False, False, False, False, False, False, False,\n",
       "       False, False, False, False, False, False, False, False, False,\n",
       "       False, False, False, False, False, False, False, False, False,\n",
       "       False, False, False, False, False, False, False, False, False,\n",
       "       False, False, False, False, False, False,  True, False, False,\n",
       "       False, False, False, False, False, False, False, False, False,\n",
       "       False, False, False, False, False, False, False, False, False,\n",
       "       False, False, False, False, False, False, False, False, False,\n",
       "       False, False, False, False, False, False, False, False, False,\n",
       "       False, False, False, False, False, False, False, False, False,\n",
       "       False, False, False, False, False, False, False, False, False,\n",
       "       False, False, False, False, False, False, False, False, False,\n",
       "       False, False, False, False, False, False, False, False, False,\n",
       "       False, False, False, False, False, False, False, False, False,\n",
       "       False, False, False, False, False, False, False, False, False,\n",
       "       False, False, False, False, False, False, False, False])"
      ]
     },
     "execution_count": 14,
     "metadata": {},
     "output_type": "execute_result"
    }
   ],
   "source": [
    "post_pt_root_id_Aug == segment_id"
   ]
  },
  {
   "cell_type": "markdown",
   "metadata": {},
   "source": [
    "# Visualizing the neuron"
   ]
  },
  {
   "cell_type": "code",
   "execution_count": 28,
   "metadata": {},
   "outputs": [
    {
     "name": "stderr",
     "output_type": "stream",
     "text": [
      "INFO - 2020-11-30 04:55:46,823 - settings - Setting database.host to at-database.ad.bcm.edu\n",
      "INFO - 2020-11-30 04:55:46,825 - settings - Setting database.user to celiib\n",
      "INFO - 2020-11-30 04:55:46,826 - settings - Setting database.password to newceliipass\n",
      "INFO - 2020-11-30 04:55:46,836 - settings - Setting stores to {'minnie65': {'protocol': 'file', 'location': '/mnt/dj-stor01/platinum/minnie65', 'stage': '/mnt/dj-stor01/platinum/minnie65'}, 'meshes': {'protocol': 'file', 'location': '/mnt/dj-stor01/platinum/minnie65/02/meshes', 'stage': '/mnt/dj-stor01/platinum/minnie65/02/meshes'}, 'decimated_meshes': {'protocol': 'file', 'location': '/mnt/dj-stor01/platinum/minnie65/02/decimated_meshes', 'stage': '/mnt/dj-stor01/platinum/minnie65/02/decimated_meshes'}, 'skeletons': {'protocol': 'file', 'location': '/mnt/dj-stor01/platinum/minnie65/02/skeletons'}}\n",
      "INFO - 2020-11-30 04:55:46,837 - settings - Setting enable_python_native_blobs to True\n",
      "INFO - 2020-11-30 04:55:46,848 - connection - Connected celiib@at-database.ad.bcm.edu:3306\n"
     ]
    },
    {
     "name": "stdout",
     "output_type": "stream",
     "text": [
      "Connecting celiib@at-database.ad.bcm.edu:3306\n"
     ]
    },
    {
     "name": "stderr",
     "output_type": "stream",
     "text": [
      "INFO - 2020-11-30 04:55:47,059 - settings - Setting enable_python_native_blobs to True\n"
     ]
    }
   ],
   "source": [
    "import datajoint_utils as du"
   ]
  },
  {
   "cell_type": "code",
   "execution_count": 32,
   "metadata": {},
   "outputs": [],
   "source": [
    "current_mesh = du.fetch_segment_id_mesh(864691135699269154)"
   ]
  },
  {
   "cell_type": "code",
   "execution_count": 33,
   "metadata": {},
   "outputs": [],
   "source": [
    "import neuron_visualizations as nviz"
   ]
  },
  {
   "cell_type": "code",
   "execution_count": 36,
   "metadata": {},
   "outputs": [
    {
     "name": "stderr",
     "output_type": "stream",
     "text": [
      "INFO - 2020-11-30 04:59:26,921 - settings - Setting enable_python_native_blobs to True\n",
      "INFO - 2020-11-30 04:59:27,120 - settings - Setting enable_python_native_blobs to True\n"
     ]
    }
   ],
   "source": [
    "minnie,_ = du.configure_minnie_vm()"
   ]
  },
  {
   "cell_type": "code",
   "execution_count": 38,
   "metadata": {},
   "outputs": [
    {
     "data": {
      "text/html": [
       "\n",
       "        \n",
       "        <style type=\"text/css\">\n",
       "            .Relation{\n",
       "                border-collapse:collapse;\n",
       "            }\n",
       "            .Relation th{\n",
       "                background: #A0A0A0; color: #ffffff; padding:4px; border:#f0e0e0 1px solid;\n",
       "                font-weight: normal; font-family: monospace; font-size: 100%;\n",
       "            }\n",
       "            .Relation td{\n",
       "                padding:4px; border:#f0e0e0 1px solid; font-size:100%;\n",
       "            }\n",
       "            .Relation tr:nth-child(odd){\n",
       "                background: #ffffff;\n",
       "            }\n",
       "            .Relation tr:nth-child(even){\n",
       "                background: #f3f1ff;\n",
       "            }\n",
       "            /* Tooltip container */\n",
       "            .djtooltip {\n",
       "            }\n",
       "            /* Tooltip text */\n",
       "            .djtooltip .djtooltiptext {\n",
       "                visibility: hidden;\n",
       "                width: 120px;\n",
       "                background-color: black;\n",
       "                color: #fff;\n",
       "                text-align: center;\n",
       "                padding: 5px 0;\n",
       "                border-radius: 6px;\n",
       "                /* Position the tooltip text - see examples below! */\n",
       "                position: absolute;\n",
       "                z-index: 1;\n",
       "            }\n",
       "            #primary {\n",
       "                font-weight: bold;\n",
       "                color: black;\n",
       "            }\n",
       "\n",
       "            #nonprimary {\n",
       "                font-weight: normal;\n",
       "                color: white;\n",
       "            }\n",
       "\n",
       "            /* Show the tooltip text when you mouse over the tooltip container */\n",
       "            .djtooltip:hover .djtooltiptext {\n",
       "                visibility: visible;\n",
       "            }\n",
       "        </style>\n",
       "        \n",
       "        <b></b>\n",
       "            <div style=\"max-height:1000px;max-width:1500px;overflow:auto;\">\n",
       "            <table border=\"1\" class=\"Relation\">\n",
       "                <thead> <tr style=\"text-align: right;\"> <th> <div class=\"djtooltip\">\n",
       "                                <p id=\"primary\">segment_id</p>\n",
       "                                <span class=\"djtooltiptext\">segment id unique within each Segmentation</span>\n",
       "                            </div></th><th><div class=\"djtooltip\">\n",
       "                                <p id=\"primary\">decimation_version</p>\n",
       "                                <span class=\"djtooltiptext\"></span>\n",
       "                            </div></th><th><div class=\"djtooltip\">\n",
       "                                <p id=\"primary\">decimation_ratio</p>\n",
       "                                <span class=\"djtooltiptext\">ratio of remaining mesh vertices/faces (which ones depends on what metric the decimation technique uses)</span>\n",
       "                            </div></th><th><div class=\"djtooltip\">\n",
       "                                <p id=\"nonprimary\">n_face_errors</p>\n",
       "                                <span class=\"djtooltiptext\">the number of faces that were errored out</span>\n",
       "                            </div></th><th><div class=\"djtooltip\">\n",
       "                                <p id=\"nonprimary\">face_idx_for_error</p>\n",
       "                                <span class=\"djtooltiptext\">the face indices for the errors computed</span>\n",
       "                            </div></th><th><div class=\"djtooltip\">\n",
       "                                <p id=\"nonprimary\">n_synapses</p>\n",
       "                                <span class=\"djtooltiptext\">total number of synpases</span>\n",
       "                            </div></th><th><div class=\"djtooltip\">\n",
       "                                <p id=\"nonprimary\">n_errored_synapses</p>\n",
       "                                <span class=\"djtooltiptext\">the number of synapses</span>\n",
       "                            </div> </th> </tr> </thead>\n",
       "                <tbody> <tr>  </tr> </tbody>\n",
       "            </table>\n",
       "            \n",
       "            <p>Total: 0</p></div>\n",
       "            "
      ],
      "text/plain": [
       "*segment_id    *decimation_ve *decimation_ra n_face_errors  face_idx_f n_synapses     n_errored_syna\n",
       "+------------+ +------------+ +------------+ +------------+ +--------+ +------------+ +------------+\n",
       "\n",
       " (Total: 0)"
      ]
     },
     "execution_count": 38,
     "metadata": {},
     "output_type": "execute_result"
    }
   ],
   "source": [
    "minnie.AutoProofreadLabels() & dict(segment_id=864691135699269154)"
   ]
  },
  {
   "cell_type": "code",
   "execution_count": 34,
   "metadata": {},
   "outputs": [
    {
     "name": "stderr",
     "output_type": "stream",
     "text": [
      "/usr/local/lib/python3.6/dist-packages/traittypes/traittypes.py:101: UserWarning: Given trait value dtype \"float64\" does not match required type \"float64\". A coerced copy has been created.\n",
      "  np.dtype(self.dtype).name))\n"
     ]
    },
    {
     "data": {
      "application/vnd.jupyter.widget-view+json": {
       "model_id": "2486a51f5f2443399cdecb425e40f60c",
       "version_major": 2,
       "version_minor": 0
      },
      "text/plain": [
       "VBox(children=(Figure(camera=PerspectiveCamera(fov=46.0, position=(0.0, 0.0, 2.0), quaternion=(0.0, 0.0, 0.0, …"
      ]
     },
     "metadata": {},
     "output_type": "display_data"
    }
   ],
   "source": [
    "nviz.plot_objects(current_mesh)"
   ]
  },
  {
   "cell_type": "code",
   "execution_count": null,
   "metadata": {},
   "outputs": [],
   "source": []
  }
 ],
 "metadata": {
  "kernelspec": {
   "display_name": "Python 3",
   "language": "python",
   "name": "python3"
  },
  "language_info": {
   "codemirror_mode": {
    "name": "ipython",
    "version": 3
   },
   "file_extension": ".py",
   "mimetype": "text/x-python",
   "name": "python",
   "nbconvert_exporter": "python",
   "pygments_lexer": "ipython3",
   "version": "3.6.9"
  }
 },
 "nbformat": 4,
 "nbformat_minor": 4
}
