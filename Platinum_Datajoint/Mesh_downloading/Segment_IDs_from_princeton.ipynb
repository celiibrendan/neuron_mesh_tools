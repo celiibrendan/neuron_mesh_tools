{
 "cells": [
  {
   "cell_type": "code",
   "execution_count": null,
   "metadata": {},
   "outputs": [],
   "source": [
    "\"\"\"\n",
    "Purpose: \n",
    "To extract the segment_ids from the data\n",
    "given by princeton that has a nucleus_id associated\n",
    "\"\"\"\n"
   ]
  },
  {
   "cell_type": "code",
   "execution_count": 1,
   "metadata": {},
   "outputs": [],
   "source": [
    "from os import sys\n",
    "sys.path.append(\"/meshAfterParty/\")"
   ]
  },
  {
   "cell_type": "code",
   "execution_count": 2,
   "metadata": {},
   "outputs": [],
   "source": [
    "import system_utils as su"
   ]
  },
  {
   "cell_type": "code",
   "execution_count": null,
   "metadata": {},
   "outputs": [],
   "source": [
    "minnie_data = su.load_object(\"nuc_detection_minnie65_phase3_vAug1.pkl\")"
   ]
  },
  {
   "cell_type": "code",
   "execution_count": null,
   "metadata": {},
   "outputs": [],
   "source": [
    "type(minnie_data)"
   ]
  },
  {
   "cell_type": "code",
   "execution_count": null,
   "metadata": {},
   "outputs": [],
   "source": [
    "import pandas as pd"
   ]
  },
  {
   "cell_type": "code",
   "execution_count": null,
   "metadata": {},
   "outputs": [],
   "source": [
    "import pandas_utils as pu"
   ]
  },
  {
   "cell_type": "code",
   "execution_count": null,
   "metadata": {},
   "outputs": [],
   "source": [
    "minnie_data[minnie_data[\"flat_nuc_id\"]==373879]"
   ]
  },
  {
   "cell_type": "code",
   "execution_count": null,
   "metadata": {},
   "outputs": [],
   "source": [
    "valid_nuc_id_table = minnie_data[minnie_data[\"flat_nuc_id\"]>0]"
   ]
  },
  {
   "cell_type": "code",
   "execution_count": null,
   "metadata": {},
   "outputs": [],
   "source": [
    "valid_root_id = minnie_data[minnie_data[\"root_id\"]>0]"
   ]
  },
  {
   "cell_type": "code",
   "execution_count": null,
   "metadata": {},
   "outputs": [],
   "source": [
    "len(valid_nuc_id_table),len(minnie_data),len(valid_root_id)"
   ]
  },
  {
   "cell_type": "code",
   "execution_count": null,
   "metadata": {},
   "outputs": [],
   "source": [
    "total_root_id = valid_root_id[\"root_id\"].to_numpy()"
   ]
  },
  {
   "cell_type": "code",
   "execution_count": null,
   "metadata": {},
   "outputs": [],
   "source": [
    "total_root_id.shape"
   ]
  },
  {
   "cell_type": "code",
   "execution_count": null,
   "metadata": {},
   "outputs": [],
   "source": [
    "import numpy as np\n",
    "unique_root_ids = np.unique(total_root_id)\n",
    "unique_root_ids"
   ]
  },
  {
   "cell_type": "code",
   "execution_count": null,
   "metadata": {},
   "outputs": [],
   "source": [
    "np.savez(\"unique_root_ids.npz\",segment_ids=unique_root_ids)"
   ]
  },
  {
   "cell_type": "code",
   "execution_count": null,
   "metadata": {},
   "outputs": [],
   "source": [
    "new_seg_ids_files = np.load(\"unique_root_ids.npz\",allow_pickle=True)\n",
    "new_seg_ids = new_seg_ids_files[\"segment_ids\"]"
   ]
  },
  {
   "cell_type": "code",
   "execution_count": null,
   "metadata": {},
   "outputs": [],
   "source": [
    "new_seg_ids"
   ]
  },
  {
   "cell_type": "markdown",
   "metadata": {},
   "source": [
    "# whole process"
   ]
  },
  {
   "cell_type": "code",
   "execution_count": 5,
   "metadata": {},
   "outputs": [],
   "source": [
    "import numpy as np"
   ]
  },
  {
   "cell_type": "code",
   "execution_count": 3,
   "metadata": {},
   "outputs": [
    {
     "data": {
      "text/html": [
       "<div>\n",
       "<style scoped>\n",
       "    .dataframe tbody tr th:only-of-type {\n",
       "        vertical-align: middle;\n",
       "    }\n",
       "\n",
       "    .dataframe tbody tr th {\n",
       "        vertical-align: top;\n",
       "    }\n",
       "\n",
       "    .dataframe thead th {\n",
       "        text-align: right;\n",
       "    }\n",
       "</style>\n",
       "<table border=\"1\" class=\"dataframe\">\n",
       "  <thead>\n",
       "    <tr style=\"text-align: right;\">\n",
       "      <th></th>\n",
       "      <th>cleft_segid</th>\n",
       "      <th>size</th>\n",
       "      <th>centroid_x</th>\n",
       "      <th>centroid_y</th>\n",
       "      <th>centroid_z</th>\n",
       "      <th>bbox_bx</th>\n",
       "      <th>bbox_by</th>\n",
       "      <th>bbox_bz</th>\n",
       "      <th>bbox_ex</th>\n",
       "      <th>bbox_ey</th>\n",
       "      <th>bbox_ez</th>\n",
       "      <th>flat_nuc_id</th>\n",
       "      <th>svid</th>\n",
       "      <th>root_id</th>\n",
       "    </tr>\n",
       "  </thead>\n",
       "  <tbody>\n",
       "    <tr>\n",
       "      <th>0</th>\n",
       "      <td>373879</td>\n",
       "      <td>1397980</td>\n",
       "      <td>14301</td>\n",
       "      <td>14986</td>\n",
       "      <td>19593</td>\n",
       "      <td>14239</td>\n",
       "      <td>14914</td>\n",
       "      <td>19496</td>\n",
       "      <td>14365</td>\n",
       "      <td>15054</td>\n",
       "      <td>19683</td>\n",
       "      <td>373879</td>\n",
       "      <td>96218056992431305</td>\n",
       "      <td>864691135233113689</td>\n",
       "    </tr>\n",
       "    <tr>\n",
       "      <th>1</th>\n",
       "      <td>601340</td>\n",
       "      <td>2600940</td>\n",
       "      <td>21250</td>\n",
       "      <td>17447</td>\n",
       "      <td>20946</td>\n",
       "      <td>20996</td>\n",
       "      <td>17383</td>\n",
       "      <td>20850</td>\n",
       "      <td>21539</td>\n",
       "      <td>17532</td>\n",
       "      <td>21052</td>\n",
       "      <td>601340</td>\n",
       "      <td>0</td>\n",
       "      <td>0</td>\n",
       "    </tr>\n",
       "    <tr>\n",
       "      <th>2</th>\n",
       "      <td>201858</td>\n",
       "      <td>572228</td>\n",
       "      <td>9178</td>\n",
       "      <td>13350</td>\n",
       "      <td>26267</td>\n",
       "      <td>9061</td>\n",
       "      <td>13297</td>\n",
       "      <td>26185</td>\n",
       "      <td>9283</td>\n",
       "      <td>13384</td>\n",
       "      <td>26359</td>\n",
       "      <td>201858</td>\n",
       "      <td>84955554103121097</td>\n",
       "      <td>864691135373893678</td>\n",
       "    </tr>\n",
       "    <tr>\n",
       "      <th>3</th>\n",
       "      <td>600774</td>\n",
       "      <td>825133</td>\n",
       "      <td>21195</td>\n",
       "      <td>17257</td>\n",
       "      <td>19442</td>\n",
       "      <td>21107</td>\n",
       "      <td>17181</td>\n",
       "      <td>19303</td>\n",
       "      <td>21296</td>\n",
       "      <td>17345</td>\n",
       "      <td>19614</td>\n",
       "      <td>600774</td>\n",
       "      <td>0</td>\n",
       "      <td>0</td>\n",
       "    </tr>\n",
       "    <tr>\n",
       "      <th>4</th>\n",
       "      <td>408486</td>\n",
       "      <td>632850</td>\n",
       "      <td>15314</td>\n",
       "      <td>15276</td>\n",
       "      <td>25074</td>\n",
       "      <td>15276</td>\n",
       "      <td>15230</td>\n",
       "      <td>24976</td>\n",
       "      <td>15351</td>\n",
       "      <td>15334</td>\n",
       "      <td>25164</td>\n",
       "      <td>408486</td>\n",
       "      <td>98470544672326786</td>\n",
       "      <td>864691135194387242</td>\n",
       "    </tr>\n",
       "    <tr>\n",
       "      <th>...</th>\n",
       "      <td>...</td>\n",
       "      <td>...</td>\n",
       "      <td>...</td>\n",
       "      <td>...</td>\n",
       "      <td>...</td>\n",
       "      <td>...</td>\n",
       "      <td>...</td>\n",
       "      <td>...</td>\n",
       "      <td>...</td>\n",
       "      <td>...</td>\n",
       "      <td>...</td>\n",
       "      <td>...</td>\n",
       "      <td>...</td>\n",
       "      <td>...</td>\n",
       "    </tr>\n",
       "    <tr>\n",
       "      <th>142612</th>\n",
       "      <td>598753</td>\n",
       "      <td>4834169</td>\n",
       "      <td>20786</td>\n",
       "      <td>16826</td>\n",
       "      <td>20733</td>\n",
       "      <td>20610</td>\n",
       "      <td>16747</td>\n",
       "      <td>20543</td>\n",
       "      <td>21005</td>\n",
       "      <td>16903</td>\n",
       "      <td>20947</td>\n",
       "      <td>598753</td>\n",
       "      <td>110506897924419051</td>\n",
       "      <td>864691134862564098</td>\n",
       "    </tr>\n",
       "    <tr>\n",
       "      <th>142613</th>\n",
       "      <td>111162</td>\n",
       "      <td>4883214</td>\n",
       "      <td>6584</td>\n",
       "      <td>8150</td>\n",
       "      <td>26721</td>\n",
       "      <td>6458</td>\n",
       "      <td>7978</td>\n",
       "      <td>26588</td>\n",
       "      <td>6729</td>\n",
       "      <td>8329</td>\n",
       "      <td>26867</td>\n",
       "      <td>111162</td>\n",
       "      <td>79244553336439324</td>\n",
       "      <td>864691134912248365</td>\n",
       "    </tr>\n",
       "    <tr>\n",
       "      <th>142614</th>\n",
       "      <td>795176</td>\n",
       "      <td>5055696</td>\n",
       "      <td>25717</td>\n",
       "      <td>13146</td>\n",
       "      <td>25091</td>\n",
       "      <td>25532</td>\n",
       "      <td>13053</td>\n",
       "      <td>24988</td>\n",
       "      <td>25946</td>\n",
       "      <td>13230</td>\n",
       "      <td>25264</td>\n",
       "      <td>795176</td>\n",
       "      <td>0</td>\n",
       "      <td>0</td>\n",
       "    </tr>\n",
       "    <tr>\n",
       "      <th>142615</th>\n",
       "      <td>528334</td>\n",
       "      <td>5472349</td>\n",
       "      <td>18663</td>\n",
       "      <td>12718</td>\n",
       "      <td>15267</td>\n",
       "      <td>18467</td>\n",
       "      <td>12442</td>\n",
       "      <td>14937</td>\n",
       "      <td>18833</td>\n",
       "      <td>12884</td>\n",
       "      <td>15469</td>\n",
       "      <td>528334</td>\n",
       "      <td>105853763977767516</td>\n",
       "      <td>864691134988413818</td>\n",
       "    </tr>\n",
       "    <tr>\n",
       "      <th>142616</th>\n",
       "      <td>267033</td>\n",
       "      <td>6554457</td>\n",
       "      <td>10912</td>\n",
       "      <td>12913</td>\n",
       "      <td>20768</td>\n",
       "      <td>10801</td>\n",
       "      <td>12822</td>\n",
       "      <td>20566</td>\n",
       "      <td>11029</td>\n",
       "      <td>13002</td>\n",
       "      <td>20935</td>\n",
       "      <td>267033</td>\n",
       "      <td>88754572197489327</td>\n",
       "      <td>864691135385333589</td>\n",
       "    </tr>\n",
       "  </tbody>\n",
       "</table>\n",
       "<p>142617 rows × 14 columns</p>\n",
       "</div>"
      ],
      "text/plain": [
       "        cleft_segid     size  centroid_x  centroid_y  centroid_z  bbox_bx  \\\n",
       "0            373879  1397980       14301       14986       19593    14239   \n",
       "1            601340  2600940       21250       17447       20946    20996   \n",
       "2            201858   572228        9178       13350       26267     9061   \n",
       "3            600774   825133       21195       17257       19442    21107   \n",
       "4            408486   632850       15314       15276       25074    15276   \n",
       "...             ...      ...         ...         ...         ...      ...   \n",
       "142612       598753  4834169       20786       16826       20733    20610   \n",
       "142613       111162  4883214        6584        8150       26721     6458   \n",
       "142614       795176  5055696       25717       13146       25091    25532   \n",
       "142615       528334  5472349       18663       12718       15267    18467   \n",
       "142616       267033  6554457       10912       12913       20768    10801   \n",
       "\n",
       "        bbox_by  bbox_bz  bbox_ex  bbox_ey  bbox_ez  flat_nuc_id  \\\n",
       "0         14914    19496    14365    15054    19683       373879   \n",
       "1         17383    20850    21539    17532    21052       601340   \n",
       "2         13297    26185     9283    13384    26359       201858   \n",
       "3         17181    19303    21296    17345    19614       600774   \n",
       "4         15230    24976    15351    15334    25164       408486   \n",
       "...         ...      ...      ...      ...      ...          ...   \n",
       "142612    16747    20543    21005    16903    20947       598753   \n",
       "142613     7978    26588     6729     8329    26867       111162   \n",
       "142614    13053    24988    25946    13230    25264       795176   \n",
       "142615    12442    14937    18833    12884    15469       528334   \n",
       "142616    12822    20566    11029    13002    20935       267033   \n",
       "\n",
       "                      svid             root_id  \n",
       "0        96218056992431305  864691135233113689  \n",
       "1                        0                   0  \n",
       "2        84955554103121097  864691135373893678  \n",
       "3                        0                   0  \n",
       "4        98470544672326786  864691135194387242  \n",
       "...                    ...                 ...  \n",
       "142612  110506897924419051  864691134862564098  \n",
       "142613   79244553336439324  864691134912248365  \n",
       "142614                   0                   0  \n",
       "142615  105853763977767516  864691134988413818  \n",
       "142616   88754572197489327  864691135385333589  \n",
       "\n",
       "[142617 rows x 14 columns]"
      ]
     },
     "execution_count": 3,
     "metadata": {},
     "output_type": "execute_result"
    }
   ],
   "source": [
    "minnie_data = su.load_object(\"nuc_detection_minnie65_phase3_vAug1.pkl\")\n",
    "minnie_data"
   ]
  },
  {
   "cell_type": "code",
   "execution_count": 6,
   "metadata": {},
   "outputs": [],
   "source": [
    "valid_root_id = minnie_data[minnie_data[\"root_id\"]>0]\n",
    "total_root_id = valid_root_id[\"root_id\"].to_numpy()\n",
    "unique_root_ids = np.unique(total_root_id)\n",
    "np.savez(\"unique_root_ids.npz\",segment_ids=unique_root_ids)"
   ]
  },
  {
   "cell_type": "code",
   "execution_count": 8,
   "metadata": {},
   "outputs": [
    {
     "data": {
      "text/plain": [
       "(114784,)"
      ]
     },
     "execution_count": 8,
     "metadata": {},
     "output_type": "execute_result"
    }
   ],
   "source": [
    "new_seg_ids_files = np.load(\"unique_root_ids.npz\",allow_pickle=True)\n",
    "new_seg_ids = new_seg_ids_files[\"segment_ids\"]\n",
    "new_seg_ids.shape"
   ]
  },
  {
   "cell_type": "code",
   "execution_count": null,
   "metadata": {},
   "outputs": [],
   "source": []
  }
 ],
 "metadata": {
  "kernelspec": {
   "display_name": "Python 3",
   "language": "python",
   "name": "python3"
  },
  "language_info": {
   "codemirror_mode": {
    "name": "ipython",
    "version": 3
   },
   "file_extension": ".py",
   "mimetype": "text/x-python",
   "name": "python",
   "nbconvert_exporter": "python",
   "pygments_lexer": "ipython3",
   "version": "3.6.9"
  }
 },
 "nbformat": 4,
 "nbformat_minor": 4
}
