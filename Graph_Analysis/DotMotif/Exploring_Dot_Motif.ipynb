{
 "cells": [
  {
   "cell_type": "code",
   "execution_count": 1,
   "metadata": {},
   "outputs": [
    {
     "data": {
      "text/plain": [
       "'\\nNotes: \\n\\nNode and edge constraints: https://github.com/aplbrain/dotmotif/wiki/Attributes\\n\\nEx of Edge constraint\\nA -> B [weight <= 20, weight >= 10, weight != 12]\\n\\nNode constraint: \\nA -> B [weight >= 0.6]\\nA.type = \"Glu\"\\nB.type = \"ACh\"\\n\\n'"
      ]
     },
     "execution_count": 1,
     "metadata": {},
     "output_type": "execute_result"
    }
   ],
   "source": [
    "\"\"\"\n",
    "Notes: \n",
    "\n",
    "Node and edge constraints: https://github.com/aplbrain/dotmotif/wiki/Attributes\n",
    "\n",
    "Ex of Edge constraint\n",
    "A -> B [weight <= 20, weight >= 10, weight != 12]\n",
    "\n",
    "Node constraint: \n",
    "A -> B [weight >= 0.6]\n",
    "A.type = \"Glu\"\n",
    "B.type = \"ACh\"\n",
    "\n",
    "\"\"\""
   ]
  },
  {
   "cell_type": "code",
   "execution_count": 2,
   "metadata": {},
   "outputs": [],
   "source": [
    "%load_ext autoreload\n",
    "%autoreload 2"
   ]
  },
  {
   "cell_type": "code",
   "execution_count": 3,
   "metadata": {},
   "outputs": [
    {
     "name": "stderr",
     "output_type": "stream",
     "text": [
      "INFO - 2021-07-05 16:57:57,698 - settings - Setting database.host to at-database.ad.bcm.edu\n",
      "INFO - 2021-07-05 16:57:57,703 - settings - Setting database.user to celiib\n",
      "INFO - 2021-07-05 16:57:57,703 - settings - Setting database.password to newceliipass\n",
      "INFO - 2021-07-05 16:57:57,704 - settings - Setting database.host to at-database.ad.bcm.edu\n",
      "INFO - 2021-07-05 16:57:57,704 - settings - Setting database.user to celiib\n",
      "INFO - 2021-07-05 16:57:57,705 - settings - Setting database.password to newceliipass\n",
      "INFO - 2021-07-05 16:57:57,731 - settings - Setting stores to {'minnie65': {'protocol': 'file', 'location': '/mnt/dj-stor01/platinum/minnie65', 'stage': '/mnt/dj-stor01/platinum/minnie65'}, 'meshes': {'protocol': 'file', 'location': '/mnt/dj-stor01/platinum/minnie65/02/meshes', 'stage': '/mnt/dj-stor01/platinum/minnie65/02/meshes'}, 'decimated_meshes': {'protocol': 'file', 'location': '/mnt/dj-stor01/platinum/minnie65/02/decimated_meshes', 'stage': '/mnt/dj-stor01/platinum/minnie65/02/decimated_meshes'}, 'skeletons': {'protocol': 'file', 'location': '/mnt/dj-stor01/platinum/minnie65/02/skeletons'}}\n",
      "INFO - 2021-07-05 16:57:57,732 - settings - Setting enable_python_native_blobs to True\n",
      "INFO - 2021-07-05 16:57:57,747 - connection - Connected celiib@at-database.ad.bcm.edu:3306\n"
     ]
    },
    {
     "name": "stdout",
     "output_type": "stream",
     "text": [
      "Connecting celiib@at-database.ad.bcm.edu:3306\n"
     ]
    },
    {
     "name": "stderr",
     "output_type": "stream",
     "text": [
      "INFO - 2021-07-05 16:57:58,233 - settings - Setting enable_python_native_blobs to True\n",
      "INFO - 2021-07-05 16:57:58,348 - settings - Setting database.host to at-database.ad.bcm.edu\n",
      "INFO - 2021-07-05 16:57:58,349 - settings - Setting database.user to celiib\n",
      "INFO - 2021-07-05 16:57:58,350 - settings - Setting database.password to newceliipass\n",
      "INFO - 2021-07-05 16:57:58,351 - settings - Setting enable_python_native_blobs to True\n",
      "INFO - 2021-07-05 16:57:58,889 - settings - Setting enable_python_native_blobs to True\n",
      "INFO - 2021-07-05 16:57:58,924 - settings - Setting database.host to at-database.ad.bcm.edu\n",
      "INFO - 2021-07-05 16:57:58,927 - settings - Setting database.user to celiib\n",
      "INFO - 2021-07-05 16:57:58,930 - settings - Setting database.password to newceliipass\n",
      "INFO - 2021-07-05 16:57:58,930 - settings - Setting database.host to at-database.ad.bcm.edu\n",
      "INFO - 2021-07-05 16:57:58,930 - settings - Setting database.user to celiib\n",
      "INFO - 2021-07-05 16:57:58,931 - settings - Setting database.password to newceliipass\n",
      "INFO - 2021-07-05 16:57:58,932 - settings - Setting enable_python_native_blobs to True\n",
      "INFO - 2021-07-05 16:57:59,594 - settings - Setting enable_python_native_blobs to True\n"
     ]
    }
   ],
   "source": [
    "import numpy as np\n",
    "import datajoint as dj\n",
    "import trimesh\n",
    "from tqdm.notebook import tqdm\n",
    "from pathlib import Path\n",
    "\n",
    "from os import sys\n",
    "sys.path.append(\"/meshAfterParty/\")\n",
    "sys.path.append(\"/meshAfterParty/meshAfterParty\")\n",
    "\n",
    "import datajoint_utils as du\n",
    "from importlib import reload"
   ]
  },
  {
   "cell_type": "code",
   "execution_count": 4,
   "metadata": {},
   "outputs": [],
   "source": [
    "import dotmotif\n",
    "from dotmotif import Motif, GrandIsoExecutor, NetworkXExecutor"
   ]
  },
  {
   "cell_type": "code",
   "execution_count": 5,
   "metadata": {},
   "outputs": [
    {
     "data": {
      "text/plain": [
       "'0.9.0'"
      ]
     },
     "execution_count": 5,
     "metadata": {},
     "output_type": "execute_result"
    }
   ],
   "source": [
    "dotmotif.__version__"
   ]
  },
  {
   "cell_type": "code",
   "execution_count": 6,
   "metadata": {},
   "outputs": [
    {
     "data": {
      "text/plain": [
       "'0.1.0'"
      ]
     },
     "execution_count": 6,
     "metadata": {},
     "output_type": "execute_result"
    }
   ],
   "source": [
    "import grandiso\n",
    "import pkg_resources\n",
    "pkg_resources.get_distribution('grandiso').version"
   ]
  },
  {
   "cell_type": "code",
   "execution_count": 7,
   "metadata": {},
   "outputs": [
    {
     "data": {
      "image/png": "[encoded data removed]",
      "text/plain": [
       "<Figure size 432x288 with 1 Axes>"
      ]
     },
     "metadata": {},
     "output_type": "display_data"
    }
   ],
   "source": [
    "import networkx as nx\n",
    "G = nx.Graph()\n",
    "G.add_edges_from([[1,2],[2,3]])\n",
    "G = nx.DiGraph(G)\n",
    "nx.draw(G,with_labels=True)"
   ]
  },
  {
   "cell_type": "code",
   "execution_count": 8,
   "metadata": {},
   "outputs": [],
   "source": [
    "import networkx_utils as xu"
   ]
  },
  {
   "cell_type": "code",
   "execution_count": 9,
   "metadata": {},
   "outputs": [],
   "source": [
    "import networkx as nx\n",
    "G = nx.Graph()\n",
    "G.add_edges_from([[1,2],[2,3]])\n",
    "G = nx.DiGraph(G)\n",
    "nx.draw(G,with_labels=True)\n",
    "xu.set_node_attributes_dict(G,{2:dict(flavor=\"apple\"),3:dict(flavor = \"banana\")})\n",
    "\n",
    "import dotmotif_utils as dmu\n",
    "dmu.n_graph_matches(G,motif)"
   ]
  },
  {
   "cell_type": "code",
   "execution_count": 22,
   "metadata": {},
   "outputs": [],
   "source": [
    "G = nx.DiGraph(G)"
   ]
  },
  {
   "cell_type": "code",
   "execution_count": 23,
   "metadata": {},
   "outputs": [
    {
     "data": {
      "text/plain": [
       "{'flavor': 'apple'}"
      ]
     },
     "execution_count": 23,
     "metadata": {},
     "output_type": "execute_result"
    }
   ],
   "source": [
    "G.nodes[2]"
   ]
  },
  {
   "cell_type": "code",
   "execution_count": 25,
   "metadata": {},
   "outputs": [
    {
     "data": {
      "text/plain": [
       "1"
      ]
     },
     "execution_count": 25,
     "metadata": {},
     "output_type": "execute_result"
    }
   ],
   "source": []
  },
  {
   "cell_type": "code",
   "execution_count": null,
   "metadata": {},
   "outputs": [],
   "source": [
    "# from dotmotif.ingest import EdgelistConverter\n",
    "# graph = EdgelistConverter(\n",
    "#     \"https://zenodo.org/record/3710459/files/soma_subgraph_synapses_spines_v185.csv?download=1\",\n",
    "#     \"pre_root_id\",\n",
    "#     \"post_root_id\",\n",
    "# ).to_graph()"
   ]
  },
  {
   "cell_type": "code",
   "execution_count": 18,
   "metadata": {},
   "outputs": [],
   "source": [
    "motif = Motif(\"\"\"\n",
    "u -> d1\n",
    "d1 -> d2\n",
    "u.flavor =  \"banana\"\n",
    "\"\"\")"
   ]
  },
  {
   "cell_type": "code",
   "execution_count": 19,
   "metadata": {},
   "outputs": [],
   "source": [
    "E = NetworkXExecutor(graph=G)"
   ]
  },
  {
   "cell_type": "code",
   "execution_count": 20,
   "metadata": {},
   "outputs": [
    {
     "name": "stdout",
     "output_type": "stream",
     "text": [
      "1\n"
     ]
    }
   ],
   "source": [
    "results = E.find(motif)\n",
    "print(len(results))"
   ]
  },
  {
   "cell_type": "code",
   "execution_count": 21,
   "metadata": {},
   "outputs": [
    {
     "data": {
      "text/plain": [
       "[{'u': 3, 'd1': 2, 'd2': 1}]"
      ]
     },
     "execution_count": 21,
     "metadata": {},
     "output_type": "execute_result"
    }
   ],
   "source": [
    "results"
   ]
  },
  {
   "cell_type": "code",
   "execution_count": null,
   "metadata": {},
   "outputs": [],
   "source": []
  }
 ],
 "metadata": {
  "kernelspec": {
   "display_name": "Python 3",
   "language": "python",
   "name": "python3"
  },
  "language_info": {
   "codemirror_mode": {
    "name": "ipython",
    "version": 3
   },
   "file_extension": ".py",
   "mimetype": "text/x-python",
   "name": "python",
   "nbconvert_exporter": "python",
   "pygments_lexer": "ipython3",
   "version": "3.6.9"
  }
 },
 "nbformat": 4,
 "nbformat_minor": 4
}
