{
 "cells": [
  {
   "cell_type": "code",
   "execution_count": 1,
   "metadata": {},
   "outputs": [],
   "source": [
    "from os import sys\n",
    "sys.path.append(\"/meshAfterParty/\")"
   ]
  },
  {
   "cell_type": "code",
   "execution_count": 2,
   "metadata": {},
   "outputs": [
    {
     "name": "stderr",
     "output_type": "stream",
     "text": [
      "INFO - 2020-11-30 03:30:36,387 - settings - Setting database.host to at-database.ad.bcm.edu\n",
      "INFO - 2020-11-30 03:30:36,388 - settings - Setting database.user to celiib\n",
      "INFO - 2020-11-30 03:30:36,389 - settings - Setting database.password to newceliipass\n",
      "INFO - 2020-11-30 03:30:36,401 - settings - Setting stores to {'minnie65': {'protocol': 'file', 'location': '/mnt/dj-stor01/platinum/minnie65', 'stage': '/mnt/dj-stor01/platinum/minnie65'}, 'meshes': {'protocol': 'file', 'location': '/mnt/dj-stor01/platinum/minnie65/02/meshes', 'stage': '/mnt/dj-stor01/platinum/minnie65/02/meshes'}, 'decimated_meshes': {'protocol': 'file', 'location': '/mnt/dj-stor01/platinum/minnie65/02/decimated_meshes', 'stage': '/mnt/dj-stor01/platinum/minnie65/02/decimated_meshes'}, 'skeletons': {'protocol': 'file', 'location': '/mnt/dj-stor01/platinum/minnie65/02/skeletons'}}\n",
      "INFO - 2020-11-30 03:30:36,402 - settings - Setting enable_python_native_blobs to True\n",
      "INFO - 2020-11-30 03:30:36,413 - connection - Connected celiib@at-database.ad.bcm.edu:3306\n"
     ]
    },
    {
     "name": "stdout",
     "output_type": "stream",
     "text": [
      "Connecting celiib@at-database.ad.bcm.edu:3306\n"
     ]
    },
    {
     "name": "stderr",
     "output_type": "stream",
     "text": [
      "INFO - 2020-11-30 03:30:36,611 - settings - Setting enable_python_native_blobs to True\n"
     ]
    }
   ],
   "source": [
    "from importlib import reload\n",
    "\n",
    "import neuron_utils as nru\n",
    "\n",
    "import neuron\n",
    "\n",
    "import neuron_visualizations as nviz\n",
    "\n",
    "import time\n",
    "\n",
    "import datajoint_utils as du\n",
    "\n",
    "import time"
   ]
  },
  {
   "cell_type": "code",
   "execution_count": 3,
   "metadata": {},
   "outputs": [
    {
     "name": "stderr",
     "output_type": "stream",
     "text": [
      "INFO - 2020-11-30 03:30:36,628 - settings - Setting enable_python_native_blobs to True\n",
      "INFO - 2020-11-30 03:30:36,820 - settings - Setting enable_python_native_blobs to True\n"
     ]
    }
   ],
   "source": [
    "minnie,schema = du.configure_minnie_vm()"
   ]
  },
  {
   "cell_type": "markdown",
   "metadata": {},
   "source": [
    "# Getting the soma data and distanes"
   ]
  },
  {
   "cell_type": "code",
   "execution_count": 4,
   "metadata": {},
   "outputs": [],
   "source": [
    "soma_segment_id,soma_x,soma_y,soma_z = (minnie.BaylorSegmentCentroid & minnie.AutoProofreadLabels.proj() & \"multiplicity=1\").fetch(\"segment_id\",\n",
    "                                                                                                                \"centroid_x\",\n",
    "                                                                                                               \"centroid_y\",\n",
    "                                                                                                               \"centroid_z\")"
   ]
  },
  {
   "cell_type": "code",
   "execution_count": 5,
   "metadata": {},
   "outputs": [
    {
     "data": {
      "text/plain": [
       "(24842,)"
      ]
     },
     "execution_count": 5,
     "metadata": {},
     "output_type": "execute_result"
    }
   ],
   "source": [
    "soma_segment_id.shape"
   ]
  },
  {
   "cell_type": "code",
   "execution_count": null,
   "metadata": {},
   "outputs": [],
   "source": [
    "# Investigating the multi somas\n",
    "#minnie.BaylorSegmentCentroid & \"decimation_ratio=0.25\" & minnie.AutoProofreadLabels.proj() & \"multiplicity>1\"# & (minnie.Decomposition() & \"n_somas = 1\").proj()"
   ]
  },
  {
   "cell_type": "code",
   "execution_count": 6,
   "metadata": {},
   "outputs": [],
   "source": [
    "import numpy as np\n",
    "soma_centers = np.vstack([soma_x,soma_y,soma_z]).T\n",
    "\n",
    "# #visualizing the somas\n",
    "# import neuron_visualizations as nviz\n",
    "# nviz.plot_objects(scatters=[soma_centers])"
   ]
  },
  {
   "cell_type": "markdown",
   "metadata": {},
   "source": [
    "# get the distances of the somas"
   ]
  },
  {
   "cell_type": "code",
   "execution_count": 7,
   "metadata": {},
   "outputs": [],
   "source": [
    "import numpy_utils as nu"
   ]
  },
  {
   "cell_type": "markdown",
   "metadata": {},
   "source": [
    "# Loading the data and taking a subgraph "
   ]
  },
  {
   "cell_type": "code",
   "execution_count": 8,
   "metadata": {},
   "outputs": [],
   "source": [
    "import networkx as nx\n",
    "import networkx_utils as xu\n",
    "xu = reload(xu)"
   ]
  },
  {
   "cell_type": "markdown",
   "metadata": {},
   "source": [
    "# Doing the No Proofreading"
   ]
  },
  {
   "cell_type": "code",
   "execution_count": 9,
   "metadata": {},
   "outputs": [
    {
     "data": {
      "text/plain": [
       "(24264,)"
      ]
     },
     "execution_count": 9,
     "metadata": {},
     "output_type": "execute_result"
    }
   ],
   "source": [
    "no_proofread_graph = xu.unpickle_graph(\"./no_proofread_25k.pkl\")\n",
    "connectivity_ids = np.array(list(no_proofread_graph.nodes()))\n",
    "connectivity_ids.shape"
   ]
  },
  {
   "cell_type": "code",
   "execution_count": 10,
   "metadata": {},
   "outputs": [
    {
     "data": {
      "text/plain": [
       "(24174, 3)"
      ]
     },
     "execution_count": 10,
     "metadata": {},
     "output_type": "execute_result"
    }
   ],
   "source": [
    "same_ids,x_ind,_ = np.intersect1d(soma_segment_id,connectivity_ids,return_indices=True)\n",
    "filtered_soma_ids = soma_segment_id[x_ind]\n",
    "filtered_soma_centers = soma_centers[x_ind]\n",
    "filtered_soma_centers.shape"
   ]
  },
  {
   "cell_type": "code",
   "execution_count": 11,
   "metadata": {},
   "outputs": [
    {
     "data": {
      "text/plain": [
       "24174"
      ]
     },
     "execution_count": 11,
     "metadata": {},
     "output_type": "execute_result"
    }
   ],
   "source": [
    "no_proofread_graph_filtered = no_proofread_graph.subgraph(filtered_soma_ids)\n",
    "len(no_proofread_graph_filtered.nodes())"
   ]
  },
  {
   "cell_type": "code",
   "execution_count": 12,
   "metadata": {},
   "outputs": [],
   "source": [
    "seg_id_to_center_dict = dict([(k,sm_center.astype(\"float\")) for k,sm_center in zip(filtered_soma_ids,filtered_soma_centers)])"
   ]
  },
  {
   "cell_type": "code",
   "execution_count": 13,
   "metadata": {},
   "outputs": [
    {
     "name": "stdout",
     "output_type": "stream",
     "text": [
      "Total time for computing distances = 36.34931683540344\n"
     ]
    }
   ],
   "source": [
    "\"\"\"\n",
    "Pseudocode: \n",
    "For all of the edges\n",
    "1) Get the linalg of the difference in soma centers for the 2\n",
    "2) Add to the list\n",
    "\n",
    "\"\"\"\n",
    "\n",
    "total_distance_time = time.time()\n",
    "\n",
    "total_distances = np.array([np.linalg.norm(seg_id_to_center_dict[pre] - seg_id_to_center_dict[post])\n",
    "                  for pre,post in no_proofread_graph_filtered.edges()])\n",
    "\n",
    "print(f\"Total time for computing distances = {time.time() - total_distance_time}\")"
   ]
  },
  {
   "cell_type": "code",
   "execution_count": 14,
   "metadata": {},
   "outputs": [
    {
     "data": {
      "text/plain": [
       "array([16561.70459222, 43811.36167708, 43811.36167708, ...,\n",
       "        5303.42832515, 25732.94796559, 10724.85617619])"
      ]
     },
     "execution_count": 14,
     "metadata": {},
     "output_type": "execute_result"
    }
   ],
   "source": [
    "#removing the self loops\n",
    "total_distances_no_self_loops = total_distances[total_distances != 0]\n",
    "total_distances_no_self_loops"
   ]
  },
  {
   "cell_type": "code",
   "execution_count": 15,
   "metadata": {},
   "outputs": [
    {
     "data": {
      "text/plain": [
       "(1806228,)"
      ]
     },
     "execution_count": 15,
     "metadata": {},
     "output_type": "execute_result"
    }
   ],
   "source": [
    "total_distances_no_self_loops.shape"
   ]
  },
  {
   "cell_type": "code",
   "execution_count": 36,
   "metadata": {},
   "outputs": [
    {
     "data": {
      "image/png": "[encoded data removed]",
      "text/plain": [
       "<Figure size 432x288 with 1 Axes>"
      ]
     },
     "metadata": {
      "needs_background": "light"
     },
     "output_type": "display_data"
    }
   ],
   "source": [
    "import matplotlib.pyplot as plt\n",
    "fig,ax = plt.subplots(1,1)\n",
    "ax.hist(total_distances_no_self_loops/1000,bins=100,density=False)\n",
    "ax.set_title(\"Soma to Soma Distance of Direct Connections \\nBefore Auto Proofreading\")\n",
    "ax.set_xlabel(\"Soma to Soma Distance (um)\")\n",
    "ax.set_ylabel(\"Counts\")\n",
    "\n",
    "ax.set_yscale(\"log\")\n",
    "ax.set_xscale(\"linear\")\n",
    "plt.show()"
   ]
  },
  {
   "cell_type": "code",
   "execution_count": null,
   "metadata": {},
   "outputs": [],
   "source": [
    "# Make function that will "
   ]
  },
  {
   "cell_type": "markdown",
   "metadata": {},
   "source": [
    "# Doing the Proofreading"
   ]
  },
  {
   "cell_type": "code",
   "execution_count": 17,
   "metadata": {},
   "outputs": [
    {
     "data": {
      "text/plain": [
       "(24264,)"
      ]
     },
     "execution_count": 17,
     "metadata": {},
     "output_type": "execute_result"
    }
   ],
   "source": [
    "auto_proofread_graph = xu.unpickle_graph(\"./autoproofread_25k.pkl\")\n",
    "connectivity_ids_auto = np.array(list(auto_proofread_graph.nodes()))\n",
    "connectivity_ids_auto.shape"
   ]
  },
  {
   "cell_type": "code",
   "execution_count": 18,
   "metadata": {},
   "outputs": [
    {
     "data": {
      "text/plain": [
       "(24174, 3)"
      ]
     },
     "execution_count": 18,
     "metadata": {},
     "output_type": "execute_result"
    }
   ],
   "source": [
    "same_ids_auto,x_ind_auto,_ = np.intersect1d(soma_segment_id,connectivity_ids_auto,return_indices=True)\n",
    "filtered_soma_ids_auto = soma_segment_id[x_ind_auto]\n",
    "filtered_soma_centers_auto = soma_centers[x_ind_auto]\n",
    "filtered_soma_centers_auto.shape"
   ]
  },
  {
   "cell_type": "code",
   "execution_count": 19,
   "metadata": {},
   "outputs": [
    {
     "data": {
      "text/plain": [
       "24174"
      ]
     },
     "execution_count": 19,
     "metadata": {},
     "output_type": "execute_result"
    }
   ],
   "source": [
    "auto_proofread_graph_filtered = auto_proofread_graph.subgraph(filtered_soma_ids_auto)\n",
    "len(auto_proofread_graph_filtered.nodes())"
   ]
  },
  {
   "cell_type": "code",
   "execution_count": 20,
   "metadata": {},
   "outputs": [],
   "source": [
    "seg_id_to_center_dict_auto = dict([(k,sm_center.astype(\"float\")) for k,sm_center in zip(filtered_soma_ids_auto,filtered_soma_centers_auto)])"
   ]
  },
  {
   "cell_type": "code",
   "execution_count": 21,
   "metadata": {},
   "outputs": [
    {
     "name": "stdout",
     "output_type": "stream",
     "text": [
      "Total time for computing distances = 17.46902370452881\n"
     ]
    }
   ],
   "source": [
    "\"\"\"\n",
    "Pseudocode: \n",
    "For all of the edges\n",
    "1) Get the linalg of the difference in soma centers for the 2\n",
    "2) Add to the list\n",
    "\n",
    "\"\"\"\n",
    "\n",
    "total_distance_time = time.time()\n",
    "\n",
    "total_distances_auto = np.array([np.linalg.norm(seg_id_to_center_dict_auto[pre] - seg_id_to_center_dict_auto[post])\n",
    "                  for pre,post in auto_proofread_graph_filtered.edges()])\n",
    "\n",
    "print(f\"Total time for computing distances = {time.time() - total_distance_time}\")"
   ]
  },
  {
   "cell_type": "code",
   "execution_count": 22,
   "metadata": {},
   "outputs": [
    {
     "data": {
      "text/plain": [
       "array([16561.70459222, 21464.06524869, 20481.9855971 , ...,\n",
       "       16771.07995926, 25732.94796559, 10724.85617619])"
      ]
     },
     "execution_count": 22,
     "metadata": {},
     "output_type": "execute_result"
    }
   ],
   "source": [
    "#removing the self loops\n",
    "total_distances_no_self_loops_auto = total_distances_auto[total_distances_auto != 0]\n",
    "total_distances_no_self_loops_auto"
   ]
  },
  {
   "cell_type": "code",
   "execution_count": 23,
   "metadata": {},
   "outputs": [
    {
     "data": {
      "text/plain": [
       "(727840,)"
      ]
     },
     "execution_count": 23,
     "metadata": {},
     "output_type": "execute_result"
    }
   ],
   "source": [
    "total_distances_no_self_loops_auto.shape"
   ]
  },
  {
   "cell_type": "code",
   "execution_count": 37,
   "metadata": {},
   "outputs": [
    {
     "data": {
      "image/png": "[encoded data removed]",
      "text/plain": [
       "<Figure size 432x288 with 1 Axes>"
      ]
     },
     "metadata": {
      "needs_background": "light"
     },
     "output_type": "display_data"
    }
   ],
   "source": [
    "import matplotlib.pyplot as plt\n",
    "fig,ax = plt.subplots(1,1)\n",
    "ax.hist(total_distances_no_self_loops_auto/1000,bins=100,density=False)\n",
    "ax.set_title(\"Soma to Soma Distance of Direct Connections \\n After Auto Proofreading\")\n",
    "ax.set_xlabel(\"Soma to Soma Distance (um)\")\n",
    "ax.set_ylabel(\"Counts\")\n",
    "plt.yscale(\"log\")\n",
    "plt.xscale(\"linear\")\n",
    "plt.show()"
   ]
  },
  {
   "cell_type": "code",
   "execution_count": 43,
   "metadata": {},
   "outputs": [
    {
     "data": {
      "image/png": "[encoded data removed]",
      "text/plain": [
       "<Figure size 432x288 with 1 Axes>"
      ]
     },
     "metadata": {
      "needs_background": "light"
     },
     "output_type": "display_data"
    }
   ],
   "source": [
    "alpha_level = 0.7\n",
    "\n",
    "import matplotlib.pyplot as plt\n",
    "fig,ax = plt.subplots(1,1)\n",
    "ax.hist(total_distances_no_self_loops/1000,bins=100,density=False,color=\"blue\",label=\"Before Auto Proofreading\",alpha=alpha_level)\n",
    "ax.hist(total_distances_no_self_loops_auto/1000,bins=100,density=False,color=\"red\",label=\"After Auto Proofreading\",alpha=alpha_level)\n",
    "ax.set_title(\"Soma to Soma Distance of Direct Connections\")\n",
    "ax.set_xlabel(\"Soma to Soma Distance (um)\")\n",
    "ax.set_ylabel(\"Counts\")\n",
    "\n",
    "ax.set_yscale(\"log\")\n",
    "ax.set_xscale(\"linear\")\n",
    "ax.legend()\n",
    "plt.show()"
   ]
  },
  {
   "cell_type": "code",
   "execution_count": null,
   "metadata": {},
   "outputs": [],
   "source": []
  }
 ],
 "metadata": {
  "kernelspec": {
   "display_name": "Python 3",
   "language": "python",
   "name": "python3"
  },
  "language_info": {
   "codemirror_mode": {
    "name": "ipython",
    "version": 3
   },
   "file_extension": ".py",
   "mimetype": "text/x-python",
   "name": "python",
   "nbconvert_exporter": "python",
   "pygments_lexer": "ipython3",
   "version": "3.6.9"
  }
 },
 "nbformat": 4,
 "nbformat_minor": 4
}
