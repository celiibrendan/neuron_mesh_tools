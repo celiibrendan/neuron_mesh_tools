{
 "cells": [
  {
   "cell_type": "code",
   "execution_count": null,
   "metadata": {},
   "outputs": [],
   "source": [
    "\"\"\"\n",
    "Purpose: To look at the initial stats of the \n",
    "graph from autoproofreading\n",
    "\n",
    "\n",
    "\"\"\""
   ]
  },
  {
   "cell_type": "code",
   "execution_count": 1,
   "metadata": {},
   "outputs": [],
   "source": [
    "%load_ext autoreload\n",
    "%autoreload 2"
   ]
  },
  {
   "cell_type": "code",
   "execution_count": 5,
   "metadata": {},
   "outputs": [],
   "source": [
    "from os import sys\n",
    "sys.path.append(\"/meshAfterParty/meshAfterParty\")\n",
    "sys.path.append(\"/meshAfterParty/meshAfterParty/graph/\")"
   ]
  },
  {
   "cell_type": "code",
   "execution_count": 6,
   "metadata": {},
   "outputs": [
    {
     "name": "stderr",
     "output_type": "stream",
     "text": [
      "INFO - 2021-02-26 04:19:29,433 - settings - Setting database.host to at-database.ad.bcm.edu\n",
      "INFO - 2021-02-26 04:19:29,435 - settings - Setting database.user to celiib\n",
      "INFO - 2021-02-26 04:19:29,436 - settings - Setting database.password to newceliipass\n",
      "INFO - 2021-02-26 04:19:29,441 - settings - Setting stores to {'minnie65': {'protocol': 'file', 'location': '/mnt/dj-stor01/platinum/minnie65', 'stage': '/mnt/dj-stor01/platinum/minnie65'}, 'meshes': {'protocol': 'file', 'location': '/mnt/dj-stor01/platinum/minnie65/02/meshes', 'stage': '/mnt/dj-stor01/platinum/minnie65/02/meshes'}, 'decimated_meshes': {'protocol': 'file', 'location': '/mnt/dj-stor01/platinum/minnie65/02/decimated_meshes', 'stage': '/mnt/dj-stor01/platinum/minnie65/02/decimated_meshes'}, 'skeletons': {'protocol': 'file', 'location': '/mnt/dj-stor01/platinum/minnie65/02/skeletons'}}\n",
      "INFO - 2021-02-26 04:19:29,442 - settings - Setting enable_python_native_blobs to True\n",
      "INFO - 2021-02-26 04:19:29,460 - connection - Connected celiib@at-database.ad.bcm.edu:3306\n"
     ]
    },
    {
     "name": "stdout",
     "output_type": "stream",
     "text": [
      "Connecting celiib@at-database.ad.bcm.edu:3306\n"
     ]
    },
    {
     "name": "stderr",
     "output_type": "stream",
     "text": [
      "INFO - 2021-02-26 04:19:29,886 - settings - Setting enable_python_native_blobs to True\n",
      "INFO - 2021-02-26 04:19:29,920 - settings - Setting enable_python_native_blobs to True\n",
      "INFO - 2021-02-26 04:19:30,365 - settings - Setting enable_python_native_blobs to True\n"
     ]
    }
   ],
   "source": [
    "import datajoint_utils as du\n",
    "minnie,schema = du.configure_minnie_vm()"
   ]
  },
  {
   "cell_type": "code",
   "execution_count": 7,
   "metadata": {},
   "outputs": [],
   "source": [
    "import pandas as pd\n",
    "import matplotlib.pyplot as plt\n",
    "import networkx as nx\n",
    "import numpy as np\n",
    "import networkx_utils as xu"
   ]
  },
  {
   "cell_type": "markdown",
   "metadata": {},
   "source": [
    "# Getting the Statistics on the Initial Graph"
   ]
  },
  {
   "cell_type": "code",
   "execution_count": 8,
   "metadata": {},
   "outputs": [],
   "source": [
    "orig_presyn,orig_postsyn = (du.m65mat.NucleusSynapse() & \"presyn != postsyn\").fetch(\"presyn\",\"postsyn\")"
   ]
  },
  {
   "cell_type": "code",
   "execution_count": 9,
   "metadata": {},
   "outputs": [
    {
     "data": {
      "text/plain": [
       "array([[864691136056368856, 864691135462260637],\n",
       "       [864691135593498923, 864691136723541757],\n",
       "       [864691136951642335, 864691136816114148],\n",
       "       ...,\n",
       "       [864691135341031877, 864691136784133998],\n",
       "       [864691136286708675, 864691135065040964],\n",
       "       [864691135497618195, 864691135065040964]])"
      ]
     },
     "execution_count": 9,
     "metadata": {},
     "output_type": "execute_result"
    }
   ],
   "source": [
    "original_edges = np.vstack([orig_presyn,orig_postsyn]).T\n",
    "original_edges"
   ]
  },
  {
   "cell_type": "code",
   "execution_count": 10,
   "metadata": {},
   "outputs": [
    {
     "name": "stdout",
     "output_type": "stream",
     "text": [
      "91565 17133898\n",
      "91565 11482430\n"
     ]
    }
   ],
   "source": [
    "orig_G = nx.MultiDiGraph()\n",
    "orig_G.add_edges_from(original_edges)\n",
    "print(len(orig_G.nodes()),len(orig_G.edges()))\n",
    "\n",
    "G_undirected_orig = nx.Graph(orig_G)\n",
    "print(len(G_undirected_orig.nodes()),len(G_undirected_orig.edges()))"
   ]
  },
  {
   "cell_type": "code",
   "execution_count": null,
   "metadata": {},
   "outputs": [],
   "source": [
    "DiG_undirected_orig = nx.DiGraph(orig_G)\n",
    "print(len(DiG_undirected_orig.nodes()),len(DiG_undirected_orig.edges()))"
   ]
  },
  {
   "cell_type": "code",
   "execution_count": null,
   "metadata": {},
   "outputs": [],
   "source": [
    "degree_distribution = np.array(xu.get_node_degree(orig_G,list(orig_G.nodes())))\n",
    "degree_distribution_filtered = degree_distribution[degree_distribution<np.percentile(degree_distribution,99.5)]"
   ]
  },
  {
   "cell_type": "code",
   "execution_count": null,
   "metadata": {},
   "outputs": [],
   "source": [
    "np.mean(degree_distribution_filtered),np.median(degree_distribution_filtered)"
   ]
  },
  {
   "cell_type": "code",
   "execution_count": null,
   "metadata": {},
   "outputs": [],
   "source": [
    "#For connected components cannot be a directed graph\n",
    "\n",
    "\n",
    "# The Sizes of the components in the graph\n",
    "conn_comp = list(nx.connected_components(G_undirected_orig))\n",
    "conn_comp_size = [len(k) for k in conn_comp]\n",
    "print(f\"conn_comp_size = {conn_comp_size}\")"
   ]
  },
  {
   "cell_type": "code",
   "execution_count": null,
   "metadata": {},
   "outputs": [],
   "source": []
  },
  {
   "cell_type": "markdown",
   "metadata": {},
   "source": [
    "# Pull Down and Calculating the Initial Graph"
   ]
  },
  {
   "cell_type": "code",
   "execution_count": null,
   "metadata": {},
   "outputs": [],
   "source": [
    "synapse_data = minnie.SynapseProofread.fetch(as_dict=True)\n",
    "synapse_data_df = pd.DataFrame.from_dict(synapse_data)\n",
    "synapse_data_df"
   ]
  },
  {
   "cell_type": "code",
   "execution_count": null,
   "metadata": {},
   "outputs": [],
   "source": [
    "uniq_synapse_ids,unique_synapse_indexes,inverse_indices,synapse_id_counts = np.unique(synapse_data_df[\"synapse_id\"].to_numpy(),\n",
    "                           return_index=True,\n",
    "                           return_inverse=True,\n",
    "                            return_counts=True)"
   ]
  },
  {
   "cell_type": "code",
   "execution_count": null,
   "metadata": {},
   "outputs": [],
   "source": [
    "direct_connection_synapse_idx = np.where(synapse_id_counts==2)[0]\n",
    "direct_connection_synapse_mask = np.zeros(len(synapse_id_counts))\n",
    "direct_connection_synapse_mask[direct_connection_synapse_idx] = 1\n",
    "direct_connection_synapse_mask = direct_connection_synapse_mask.astype(\"bool\")\n",
    "row_filter = direct_connection_synapse_mask[inverse_indices]\n",
    "\n",
    "direct_connections_df = synapse_data_df.iloc[row_filter]\n",
    "direct_connections_df"
   ]
  },
  {
   "cell_type": "code",
   "execution_count": null,
   "metadata": {},
   "outputs": [],
   "source": [
    "# Combining the table's presyns and postsyns onto the same row\n",
    "\n",
    "df_tables = []\n",
    "for synapse_type in [\"presyn\",\"postsyn\"]:\n",
    "    direct_connections_df_init = direct_connections_df[direct_connections_df[\"synapse_type\"]==synapse_type]\n",
    "    \n",
    "    direct_connections_df_init_sorted = direct_connections_df_init.sort_values(by=['synapse_id']).reset_index(drop=True)\n",
    "    \n",
    "    direct_connections_df_presyn = direct_connections_df_init_sorted[[k for k in direct_connections_df_init_sorted.columns if k != \"synapse_type\"] ]\n",
    "    \n",
    "    #column_mapper = dict([(k,f\"{k}_{synapse_type}\") if k != \"synapse_id\"  else (k,k) for k in direct_connections_df_presyn.columns])\n",
    "    column_mapper = dict([(k,f\"{synapse_type}_{k}\") for k in direct_connections_df_presyn.columns])\n",
    "\n",
    "    presyn_df = direct_connections_df_presyn.rename(columns=column_mapper)\n",
    "    df_tables.append(presyn_df)\n",
    "    \n",
    "direct_conn_df = pd.concat(df_tables,axis=1)\n",
    "direct_conn_df"
   ]
  },
  {
   "cell_type": "code",
   "execution_count": null,
   "metadata": {},
   "outputs": [],
   "source": [
    "edges_df = direct_conn_df[[\"presyn_nucleus_id\",\"postsyn_nucleus_id\"]]\n",
    "connectome_edges = edges_df.to_numpy()\n",
    "connectome_edges"
   ]
  },
  {
   "cell_type": "markdown",
   "metadata": {},
   "source": [
    "# Preliminary Look at the Graph"
   ]
  },
  {
   "cell_type": "code",
   "execution_count": null,
   "metadata": {},
   "outputs": [],
   "source": [
    "import networkx as nx"
   ]
  },
  {
   "cell_type": "code",
   "execution_count": null,
   "metadata": {},
   "outputs": [],
   "source": [
    "G = nx.MultiDiGraph()\n",
    "G.add_edges_from(connectome_edges)\n",
    "len(G.nodes()),len(G.edges())"
   ]
  },
  {
   "cell_type": "code",
   "execution_count": null,
   "metadata": {},
   "outputs": [],
   "source": [
    "G_undirected_non_multi = nx.Graph(G)\n",
    "len(G_undirected_non_multi.nodes()),len(G_undirected_non_multi.edges())"
   ]
  },
  {
   "cell_type": "code",
   "execution_count": null,
   "metadata": {},
   "outputs": [],
   "source": [
    "G_directed_non_multi = nx.DiGraph(G)\n",
    "len(G_directed_non_multi.nodes()),len(G_directed_non_multi.edges())"
   ]
  },
  {
   "cell_type": "code",
   "execution_count": null,
   "metadata": {},
   "outputs": [],
   "source": []
  },
  {
   "cell_type": "code",
   "execution_count": null,
   "metadata": {},
   "outputs": [],
   "source": [
    "#For connected components cannot be a directed graph\n",
    "G_undirected = nx.Graph(G)\n",
    "\n",
    "n_components = nx.number_connected_components(G_undirected)\n",
    "print(f\"Number of connected components = {n_components}\")\n",
    "\n",
    "# The Sizes of the components in the graph\n",
    "conn_comp = list(nx.connected_components(G_undirected))\n",
    "conn_comp_size = [len(k) for k in conn_comp]\n",
    "print(f\"conn_comp_size = {conn_comp_size}\")"
   ]
  },
  {
   "cell_type": "code",
   "execution_count": null,
   "metadata": {},
   "outputs": [],
   "source": [
    "fig,ax = plt.subplots(1,1)\n",
    "ax.hist(conn_comp_size)\n",
    "ax.set_title(\"Number of Neurons in Connected Components\")\n",
    "ax.set_xlabel(\"Number of Neurons\")\n",
    "plt.show()"
   ]
  },
  {
   "cell_type": "markdown",
   "metadata": {},
   "source": [
    "# Selecting the largest component"
   ]
  },
  {
   "cell_type": "code",
   "execution_count": null,
   "metadata": {},
   "outputs": [],
   "source": [
    "G_largest = G.subgraph(conn_comp[0])\n",
    "node_names_largest_comp = np.array(G_largest.nodes())\n",
    "node_names_largest_comp.shape"
   ]
  },
  {
   "cell_type": "markdown",
   "metadata": {},
   "source": [
    "# Degree Distribution"
   ]
  },
  {
   "cell_type": "code",
   "execution_count": null,
   "metadata": {},
   "outputs": [],
   "source": [
    "undirectional_graph = nx.Graph(G_largest)\n",
    "no_selflooped_graph = xu.remove_selfloops(undirectional_graph)\n",
    "no_selflooped_graph"
   ]
  },
  {
   "cell_type": "code",
   "execution_count": null,
   "metadata": {},
   "outputs": [],
   "source": [
    "degree_distribution = np.array(xu.get_node_degree(no_selflooped_graph,node_names_largest_comp))\n",
    "degree_distribution_filtered = degree_distribution[degree_distribution<np.percentile(degree_distribution,99.5)]"
   ]
  },
  {
   "cell_type": "code",
   "execution_count": null,
   "metadata": {},
   "outputs": [],
   "source": [
    "print(f\"Average Degree of Node: {np.mean(degree_distribution_filtered)}\")\n",
    "print(f\"Median Degree of Node: {np.median(degree_distribution_filtered)}\")"
   ]
  },
  {
   "cell_type": "code",
   "execution_count": null,
   "metadata": {},
   "outputs": [],
   "source": [
    "fig,ax = plt.subplots(1,1)\n",
    "ax.hist(degree_distribution_filtered,bins=50,density=True)\n",
    "ax.set_title(\"Degree Distribution of Neurons \\n Unique Edges, No Self Loops\")\n",
    "ax.set_xlabel(\"Degree of Neuron\")\n",
    "ax.set_ylabel(\"Density\")\n",
    "plt.show()"
   ]
  },
  {
   "cell_type": "markdown",
   "metadata": {},
   "source": [
    "# Degree Distribution In and Out"
   ]
  },
  {
   "cell_type": "code",
   "execution_count": null,
   "metadata": {},
   "outputs": [],
   "source": []
  },
  {
   "cell_type": "code",
   "execution_count": null,
   "metadata": {},
   "outputs": [],
   "source": [
    "np.sum(degree_distribution(G,degree_type=\"in\")),np.sum(degree_distribution(G,degree_type=\"out\"))"
   ]
  },
  {
   "cell_type": "code",
   "execution_count": null,
   "metadata": {},
   "outputs": [],
   "source": [
    "np.sum(degree_distribution(G,degree_type=\"in_and_out\"))"
   ]
  },
  {
   "cell_type": "code",
   "execution_count": null,
   "metadata": {},
   "outputs": [],
   "source": [
    "import graph_analysis as ga\n",
    "import graph_visualizations as gviz"
   ]
  },
  {
   "cell_type": "code",
   "execution_count": null,
   "metadata": {},
   "outputs": [],
   "source": [
    "from importlib import reload\n",
    "gviz = reload(gviz)"
   ]
  },
  {
   "cell_type": "code",
   "execution_count": null,
   "metadata": {},
   "outputs": [],
   "source": [
    "in_degree = np.array(list(dict(G.in_degree()).values()))\n",
    "in_degree"
   ]
  },
  {
   "cell_type": "code",
   "execution_count": null,
   "metadata": {},
   "outputs": [],
   "source": [
    "import matplotlib.pyplot as plt\n",
    "import matplotlib_utils as mu\n",
    "\n",
    "import numpy as np\n",
    "\n",
    "mu.histogram(in_degree,bin_max = 700,\n",
    "         bin_width = 10,return_fig_ax=True,logscale=True)"
   ]
  },
  {
   "cell_type": "code",
   "execution_count": null,
   "metadata": {},
   "outputs": [],
   "source": [
    "ga.degree_distribution(G,\n",
    "                                                       degree_type=\"in\",\n",
    "                                                       percentile=95)"
   ]
  },
  {
   "cell_type": "code",
   "execution_count": null,
   "metadata": {},
   "outputs": [],
   "source": [
    "gviz.plot_degree_distribution(G,degree_type=\"in\",\n",
    "                             percentile=100,\n",
    "                              bin_width = 10,\n",
    "                              bin_max = 600,\n",
    "                             )"
   ]
  },
  {
   "cell_type": "code",
   "execution_count": null,
   "metadata": {},
   "outputs": [],
   "source": [
    "gviz.plot_degree_distribution(G,degree_type=\"out\",\n",
    "                             percentile=100,\n",
    "                              bin_width = 10,\n",
    "                              bin_max = 600,\n",
    "                             )"
   ]
  },
  {
   "cell_type": "code",
   "execution_count": null,
   "metadata": {
    "scrolled": true
   },
   "outputs": [],
   "source": [
    "gviz.plot_degree_distribution(G,degree_type=\"in\",\n",
    "                         bin_width=5,\n",
    "                         bin_max = 800,\n",
    "                        percentile=99)"
   ]
  },
  {
   "cell_type": "code",
   "execution_count": null,
   "metadata": {},
   "outputs": [],
   "source": [
    "gviz.plot_degree_distribution(G,degree_type=\"out\",\n",
    "                         bin_width=5,\n",
    "                         bin_max = 800,\n",
    "                        percentile=99)"
   ]
  },
  {
   "cell_type": "code",
   "execution_count": null,
   "metadata": {},
   "outputs": [],
   "source": [
    "gviz.plot_degree_distribution(G,degree_type=\"in\",title=\"In-Degree Distribution\",\n",
    "                         bin_width=5,\n",
    "                         bin_max = 500,\n",
    "                        percentile=99)"
   ]
  },
  {
   "cell_type": "code",
   "execution_count": null,
   "metadata": {},
   "outputs": [],
   "source": []
  },
  {
   "cell_type": "code",
   "execution_count": null,
   "metadata": {},
   "outputs": [],
   "source": [
    "plot_degree_distribution(G,degree_type=\"out\",title=\"Out-Degree Distribution\",\n",
    "                        percentile=99)"
   ]
  },
  {
   "cell_type": "code",
   "execution_count": null,
   "metadata": {},
   "outputs": [],
   "source": [
    "fig,ax = plt.subplots(1,1)\n",
    "ax.hist(degree_distribution_filtered,bins=50,density=False)\n",
    "ax.set_title(\"Degree Distribution of Neurons \\n Unique Edges, No Self Loops\")\n",
    "ax.set_xlabel(\"Degree of Neuron\")\n",
    "ax.set_ylabel(\"Count\")\n",
    "ax.set_yscale(\"log\")\n",
    "plt.show()"
   ]
  },
  {
   "cell_type": "markdown",
   "metadata": {},
   "source": [
    "# Getting the Soma to Soma Distance"
   ]
  },
  {
   "cell_type": "code",
   "execution_count": null,
   "metadata": {},
   "outputs": [],
   "source": [
    "\"\"\"\n",
    "Psuedoode: Pull down the Nucleus IDs and Nucleus Centers\n",
    "\n",
    "1) Get the nucleus ids and centers\n",
    "2) Adjust the centers for nm\n",
    "\n",
    "\n",
    "\"\"\"\n",
    "\n",
    "nuc_table = du.configure_nucleus_table() & \"segment_id>0\"\n",
    "nuc_table"
   ]
  },
  {
   "cell_type": "code",
   "execution_count": null,
   "metadata": {},
   "outputs": [],
   "source": [
    "nucleu_ids,nuc_x,nuc_y,nuc_z = nuc_table.fetch(\"nucleus_id\",\"nucleus_x\",\"nucleus_y\",\"nucleus_z\")"
   ]
  },
  {
   "cell_type": "code",
   "execution_count": null,
   "metadata": {},
   "outputs": [],
   "source": [
    "nucleus_centers = np.vstack([nuc_x,nuc_y,nuc_z]).T * [4,4,40]\n",
    "nucleus_centers"
   ]
  },
  {
   "cell_type": "code",
   "execution_count": null,
   "metadata": {},
   "outputs": [],
   "source": [
    "nuc_id_to_center = dict([(k,v) for k,v in zip(nucleu_ids,nucleus_centers)])"
   ]
  },
  {
   "cell_type": "code",
   "execution_count": null,
   "metadata": {},
   "outputs": [],
   "source": [
    "len(G_undirected_non_multi.edges())"
   ]
  },
  {
   "cell_type": "code",
   "execution_count": null,
   "metadata": {},
   "outputs": [],
   "source": [
    "print(\"hi\")"
   ]
  },
  {
   "cell_type": "code",
   "execution_count": null,
   "metadata": {},
   "outputs": [],
   "source": [
    "import matplotlib.pyplot as plt\n",
    "def graph_to_soma_to_soma_distance(G):\n",
    "    total_unique_edges = np.array(list(G.edges()))\n",
    "    edges_mask = np.all(total_unique_edges>0,axis=1)\n",
    "    soma_distances = np.array([[nuc_id_to_center[k],nuc_id_to_center[v]] for k,v in total_unique_edges[edges_mask]])\n",
    "    soma_distances_norm = np.linalg.norm(soma_distances[:,0,:] - soma_distances[:,1,:],axis=1)\n",
    "\n",
    "    \n",
    "    fig,ax = plt.subplots(1,1)\n",
    "    ax.hist(soma_distances_norm/1000,bins=100,density=False)\n",
    "    ax.set_title(\"Soma to Soma Distance of Unique Direct Connections \\n After Auto Proofreading\")\n",
    "    ax.set_xlabel(\"Soma to Soma Distance (um)\")\n",
    "    ax.set_ylabel(\"Counts\")\n",
    "    plt.yscale(\"log\")\n",
    "    plt.xscale(\"linear\")\n",
    "    plt.show()\n",
    "\n",
    "graph_to_soma_to_soma_distance(G)"
   ]
  },
  {
   "cell_type": "code",
   "execution_count": null,
   "metadata": {},
   "outputs": [],
   "source": [
    "graph_to_soma_to_soma_distance(G_undirected_non_multi)"
   ]
  },
  {
   "cell_type": "code",
   "execution_count": null,
   "metadata": {},
   "outputs": [],
   "source": []
  },
  {
   "cell_type": "code",
   "execution_count": null,
   "metadata": {},
   "outputs": [],
   "source": [
    "total_unique_edges = np.array(list(G_undirected_non_multi.edges()))\n"
   ]
  },
  {
   "cell_type": "code",
   "execution_count": null,
   "metadata": {},
   "outputs": [],
   "source": [
    "edges_mask = np.all(total_unique_edges>0,axis=1)\n",
    "edges_mask"
   ]
  },
  {
   "cell_type": "code",
   "execution_count": null,
   "metadata": {},
   "outputs": [],
   "source": [
    "soma_distances = np.array([[nuc_id_to_center[k],nuc_id_to_center[v]] for k,v in total_unique_edges[edges_mask]])\n",
    "soma_distances"
   ]
  },
  {
   "cell_type": "code",
   "execution_count": null,
   "metadata": {},
   "outputs": [],
   "source": [
    "soma_distances.shape"
   ]
  },
  {
   "cell_type": "code",
   "execution_count": null,
   "metadata": {},
   "outputs": [],
   "source": [
    "soma_distances_norm = np.linalg.norm(soma_distances[:,0,:] - soma_distances[:,1,:],axis=1)\n",
    "soma_distances_norm.shape"
   ]
  },
  {
   "cell_type": "code",
   "execution_count": null,
   "metadata": {},
   "outputs": [],
   "source": []
  },
  {
   "cell_type": "code",
   "execution_count": null,
   "metadata": {},
   "outputs": [],
   "source": [
    "import matplotlib.pyplot as plt\n",
    "fig,ax = plt.subplots(1,1)\n",
    "ax.hist(soma_distances_norm/1000,bins=100,density=False)\n",
    "ax.set_title(\"Soma to Soma Distance of Unique Direct Connections \\n After Auto Proofreading\")\n",
    "ax.set_xlabel(\"Soma to Soma Distance (um)\")\n",
    "ax.set_ylabel(\"Counts\")\n",
    "plt.yscale(\"log\")\n",
    "plt.xscale(\"linear\")\n",
    "plt.show()"
   ]
  },
  {
   "cell_type": "code",
   "execution_count": null,
   "metadata": {},
   "outputs": [],
   "source": [
    "alpha_level = 0.7\n",
    "\n",
    "import matplotlib.pyplot as plt\n",
    "fig,ax = plt.subplots(1,1)\n",
    "ax.hist(total_distances_no_self_loops/1000,bins=100,density=False,color=\"blue\",label=\"Before Auto Proofreading\",alpha=alpha_level)\n",
    "ax.hist(total_distances_no_self_loops_auto/1000,bins=100,density=False,color=\"red\",label=\"After Auto Proofreading\",alpha=alpha_level)\n",
    "ax.set_title(\"Soma to Soma Distance of Direct Connections\")\n",
    "ax.set_xlabel(\"Soma to Soma Distance (um)\")\n",
    "ax.set_ylabel(\"Counts\")\n",
    "\n",
    "ax.set_yscale(\"log\")\n",
    "ax.set_xscale(\"linear\")\n",
    "ax.legend()\n",
    "plt.show()"
   ]
  }
 ],
 "metadata": {
  "kernelspec": {
   "display_name": "Python 3",
   "language": "python",
   "name": "python3"
  },
  "language_info": {
   "codemirror_mode": {
    "name": "ipython",
    "version": 3
   },
   "file_extension": ".py",
   "mimetype": "text/x-python",
   "name": "python",
   "nbconvert_exporter": "python",
   "pygments_lexer": "ipython3",
   "version": "3.6.9"
  }
 },
 "nbformat": 4,
 "nbformat_minor": 4
}
