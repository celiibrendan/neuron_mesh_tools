{
 "cells": [
  {
   "cell_type": "code",
   "execution_count": null,
   "metadata": {},
   "outputs": [],
   "source": [
    "\"\"\"\n",
    "Purpose: To look at the initial stats of the \n",
    "graph from autoproofreading\n",
    "\n",
    "\n",
    "\"\"\""
   ]
  },
  {
   "cell_type": "code",
   "execution_count": 1,
   "metadata": {},
   "outputs": [],
   "source": [
    "%load_ext autoreload\n",
    "%autoreload 2"
   ]
  },
  {
   "cell_type": "code",
   "execution_count": 95,
   "metadata": {},
   "outputs": [],
   "source": [
    "from os import sys\n",
    "sys.path.append(\"/meshAfterParty/\")\n",
    "sys.path.append(\"/meshAfterParty/graph/\")"
   ]
  },
  {
   "cell_type": "code",
   "execution_count": 3,
   "metadata": {},
   "outputs": [
    {
     "name": "stderr",
     "output_type": "stream",
     "text": [
      "INFO - 2021-02-08 17:13:22,271 - settings - Setting database.host to at-database.ad.bcm.edu\n",
      "INFO - 2021-02-08 17:13:22,272 - settings - Setting database.user to celiib\n",
      "INFO - 2021-02-08 17:13:22,273 - settings - Setting database.password to newceliipass\n",
      "INFO - 2021-02-08 17:13:22,277 - settings - Setting stores to {'minnie65': {'protocol': 'file', 'location': '/mnt/dj-stor01/platinum/minnie65', 'stage': '/mnt/dj-stor01/platinum/minnie65'}, 'meshes': {'protocol': 'file', 'location': '/mnt/dj-stor01/platinum/minnie65/02/meshes', 'stage': '/mnt/dj-stor01/platinum/minnie65/02/meshes'}, 'decimated_meshes': {'protocol': 'file', 'location': '/mnt/dj-stor01/platinum/minnie65/02/decimated_meshes', 'stage': '/mnt/dj-stor01/platinum/minnie65/02/decimated_meshes'}, 'skeletons': {'protocol': 'file', 'location': '/mnt/dj-stor01/platinum/minnie65/02/skeletons'}}\n",
      "INFO - 2021-02-08 17:13:22,278 - settings - Setting enable_python_native_blobs to True\n",
      "INFO - 2021-02-08 17:13:22,291 - connection - Connected celiib@at-database.ad.bcm.edu:3306\n"
     ]
    },
    {
     "name": "stdout",
     "output_type": "stream",
     "text": [
      "Connecting celiib@at-database.ad.bcm.edu:3306\n"
     ]
    },
    {
     "name": "stderr",
     "output_type": "stream",
     "text": [
      "INFO - 2021-02-08 17:13:22,583 - settings - Setting enable_python_native_blobs to True\n",
      "INFO - 2021-02-08 17:13:22,617 - settings - Setting enable_python_native_blobs to True\n",
      "INFO - 2021-02-08 17:13:22,922 - settings - Setting enable_python_native_blobs to True\n"
     ]
    }
   ],
   "source": [
    "import datajoint_utils as du\n",
    "minnie,schema = du.configure_minnie_vm()"
   ]
  },
  {
   "cell_type": "code",
   "execution_count": 4,
   "metadata": {},
   "outputs": [],
   "source": [
    "import pandas as pd\n",
    "import matplotlib.pyplot as plt\n",
    "import networkx as nx\n",
    "import numpy as np\n",
    "import networkx_utils as xu"
   ]
  },
  {
   "cell_type": "markdown",
   "metadata": {},
   "source": [
    "# Getting the Statistics on the Initial Graph"
   ]
  },
  {
   "cell_type": "code",
   "execution_count": 23,
   "metadata": {},
   "outputs": [],
   "source": [
    "orig_presyn,orig_postsyn = (du.m65mat.NucleusSynapse() & \"presyn != postsyn\").fetch(\"presyn\",\"postsyn\")"
   ]
  },
  {
   "cell_type": "code",
   "execution_count": 28,
   "metadata": {},
   "outputs": [
    {
     "data": {
      "text/plain": [
       "array([[864691136056368856, 864691135462260637],\n",
       "       [864691135593498923, 864691136723541757],\n",
       "       [864691136951642335, 864691136816114148],\n",
       "       ...,\n",
       "       [864691135341031877, 864691136784133998],\n",
       "       [864691136286708675, 864691135065040964],\n",
       "       [864691135497618195, 864691135065040964]])"
      ]
     },
     "execution_count": 28,
     "metadata": {},
     "output_type": "execute_result"
    }
   ],
   "source": [
    "original_edges = np.vstack([orig_presyn,orig_postsyn]).T\n",
    "original_edges"
   ]
  },
  {
   "cell_type": "code",
   "execution_count": 29,
   "metadata": {},
   "outputs": [
    {
     "name": "stdout",
     "output_type": "stream",
     "text": [
      "91565 17133898\n",
      "91565 11482430\n"
     ]
    }
   ],
   "source": [
    "orig_G = nx.MultiDiGraph()\n",
    "orig_G.add_edges_from(original_edges)\n",
    "print(len(orig_G.nodes()),len(orig_G.edges()))\n",
    "\n",
    "G_undirected_orig = nx.Graph(orig_G)\n",
    "print(len(G_undirected_orig.nodes()),len(G_undirected_orig.edges()))"
   ]
  },
  {
   "cell_type": "code",
   "execution_count": 30,
   "metadata": {},
   "outputs": [
    {
     "name": "stdout",
     "output_type": "stream",
     "text": [
      "91565 11917994\n"
     ]
    }
   ],
   "source": [
    "DiG_undirected_orig = nx.DiGraph(orig_G)\n",
    "print(len(DiG_undirected_orig.nodes()),len(DiG_undirected_orig.edges()))"
   ]
  },
  {
   "cell_type": "code",
   "execution_count": 33,
   "metadata": {},
   "outputs": [],
   "source": [
    "degree_distribution = np.array(xu.get_node_degree(orig_G,list(orig_G.nodes())))\n",
    "degree_distribution_filtered = degree_distribution[degree_distribution<np.percentile(degree_distribution,99.5)]"
   ]
  },
  {
   "cell_type": "code",
   "execution_count": 35,
   "metadata": {},
   "outputs": [
    {
     "data": {
      "text/plain": [
       "(339.1879109179317, 201.0)"
      ]
     },
     "execution_count": 35,
     "metadata": {},
     "output_type": "execute_result"
    }
   ],
   "source": [
    "np.mean(degree_distribution_filtered),np.median(degree_distribution_filtered)"
   ]
  },
  {
   "cell_type": "code",
   "execution_count": 72,
   "metadata": {},
   "outputs": [
    {
     "name": "stdout",
     "output_type": "stream",
     "text": [
      "conn_comp_size = [91235, 2, 2, 2, 2, 2, 2, 2, 2, 2, 3, 3, 2, 3, 2, 2, 2, 6, 2, 2, 2, 3, 2, 2, 3, 3, 4, 2, 2, 2, 4, 2, 3, 2, 9, 2, 2, 2, 2, 2, 2, 3, 2, 2, 3, 3, 2, 2, 2, 2, 2, 3, 3, 2, 2, 3, 2, 3, 2, 2, 2, 2, 2, 2, 4, 2, 4, 3, 3, 2, 2, 2, 2, 2, 2, 2, 2, 2, 2, 3, 2, 2, 7, 3, 2, 2, 3, 2, 3, 2, 2, 2, 2, 2, 2, 3, 4, 2, 2, 2, 2, 2, 2, 2, 3, 6, 2, 2, 2, 2, 2, 2, 2, 2, 2, 2, 2, 2, 2, 2, 4, 2, 2, 2, 2, 2, 2, 2, 2, 2, 2, 2, 2, 2, 2, 2, 2, 2, 2]\n"
     ]
    }
   ],
   "source": [
    "#For connected components cannot be a directed graph\n",
    "\n",
    "\n",
    "# The Sizes of the components in the graph\n",
    "conn_comp = list(nx.connected_components(G_undirected_orig))\n",
    "conn_comp_size = [len(k) for k in conn_comp]\n",
    "print(f\"conn_comp_size = {conn_comp_size}\")"
   ]
  },
  {
   "cell_type": "code",
   "execution_count": null,
   "metadata": {},
   "outputs": [],
   "source": []
  },
  {
   "cell_type": "markdown",
   "metadata": {},
   "source": [
    "# Pull Down and Calculating the Initial Graph"
   ]
  },
  {
   "cell_type": "code",
   "execution_count": 5,
   "metadata": {},
   "outputs": [
    {
     "data": {
      "text/html": [
       "<div>\n",
       "<style scoped>\n",
       "    .dataframe tbody tr th:only-of-type {\n",
       "        vertical-align: middle;\n",
       "    }\n",
       "\n",
       "    .dataframe tbody tr th {\n",
       "        vertical-align: top;\n",
       "    }\n",
       "\n",
       "    .dataframe thead th {\n",
       "        text-align: right;\n",
       "    }\n",
       "</style>\n",
       "<table border=\"1\" class=\"dataframe\">\n",
       "  <thead>\n",
       "    <tr style=\"text-align: right;\">\n",
       "      <th></th>\n",
       "      <th>synapse_id</th>\n",
       "      <th>synapse_type</th>\n",
       "      <th>segment_id</th>\n",
       "      <th>split_index</th>\n",
       "      <th>nucleus_id</th>\n",
       "    </tr>\n",
       "  </thead>\n",
       "  <tbody>\n",
       "    <tr>\n",
       "      <th>0</th>\n",
       "      <td>510699</td>\n",
       "      <td>presyn</td>\n",
       "      <td>864691136056368856</td>\n",
       "      <td>0</td>\n",
       "      <td>20041</td>\n",
       "    </tr>\n",
       "    <tr>\n",
       "      <th>1</th>\n",
       "      <td>515874</td>\n",
       "      <td>presyn</td>\n",
       "      <td>864691135593498923</td>\n",
       "      <td>0</td>\n",
       "      <td>36774</td>\n",
       "    </tr>\n",
       "    <tr>\n",
       "      <th>2</th>\n",
       "      <td>515874</td>\n",
       "      <td>postsyn</td>\n",
       "      <td>864691136723541757</td>\n",
       "      <td>0</td>\n",
       "      <td>33721</td>\n",
       "    </tr>\n",
       "    <tr>\n",
       "      <th>3</th>\n",
       "      <td>519136</td>\n",
       "      <td>postsyn</td>\n",
       "      <td>864691136816114148</td>\n",
       "      <td>0</td>\n",
       "      <td>26870</td>\n",
       "    </tr>\n",
       "    <tr>\n",
       "      <th>4</th>\n",
       "      <td>519451</td>\n",
       "      <td>presyn</td>\n",
       "      <td>864691135986920451</td>\n",
       "      <td>0</td>\n",
       "      <td>23417</td>\n",
       "    </tr>\n",
       "    <tr>\n",
       "      <th>...</th>\n",
       "      <td>...</td>\n",
       "      <td>...</td>\n",
       "      <td>...</td>\n",
       "      <td>...</td>\n",
       "      <td>...</td>\n",
       "    </tr>\n",
       "    <tr>\n",
       "      <th>17772698</th>\n",
       "      <td>513428356</td>\n",
       "      <td>presyn</td>\n",
       "      <td>864691135341031877</td>\n",
       "      <td>1</td>\n",
       "      <td>211904</td>\n",
       "    </tr>\n",
       "    <tr>\n",
       "      <th>17772699</th>\n",
       "      <td>513428356</td>\n",
       "      <td>postsyn</td>\n",
       "      <td>864691136784133998</td>\n",
       "      <td>0</td>\n",
       "      <td>178345</td>\n",
       "    </tr>\n",
       "    <tr>\n",
       "      <th>17772700</th>\n",
       "      <td>513428538</td>\n",
       "      <td>postsyn</td>\n",
       "      <td>864691136784133998</td>\n",
       "      <td>0</td>\n",
       "      <td>178345</td>\n",
       "    </tr>\n",
       "    <tr>\n",
       "      <th>17772701</th>\n",
       "      <td>513428606</td>\n",
       "      <td>presyn</td>\n",
       "      <td>864691136107995779</td>\n",
       "      <td>0</td>\n",
       "      <td>208461</td>\n",
       "    </tr>\n",
       "    <tr>\n",
       "      <th>17772702</th>\n",
       "      <td>513428719</td>\n",
       "      <td>postsyn</td>\n",
       "      <td>864691135807344925</td>\n",
       "      <td>0</td>\n",
       "      <td>208264</td>\n",
       "    </tr>\n",
       "  </tbody>\n",
       "</table>\n",
       "<p>17772703 rows × 5 columns</p>\n",
       "</div>"
      ],
      "text/plain": [
       "          synapse_id synapse_type          segment_id  split_index  nucleus_id\n",
       "0             510699       presyn  864691136056368856            0       20041\n",
       "1             515874       presyn  864691135593498923            0       36774\n",
       "2             515874      postsyn  864691136723541757            0       33721\n",
       "3             519136      postsyn  864691136816114148            0       26870\n",
       "4             519451       presyn  864691135986920451            0       23417\n",
       "...              ...          ...                 ...          ...         ...\n",
       "17772698   513428356       presyn  864691135341031877            1      211904\n",
       "17772699   513428356      postsyn  864691136784133998            0      178345\n",
       "17772700   513428538      postsyn  864691136784133998            0      178345\n",
       "17772701   513428606       presyn  864691136107995779            0      208461\n",
       "17772702   513428719      postsyn  864691135807344925            0      208264\n",
       "\n",
       "[17772703 rows x 5 columns]"
      ]
     },
     "execution_count": 5,
     "metadata": {},
     "output_type": "execute_result"
    }
   ],
   "source": [
    "synapse_data = minnie.SynapseProofread.fetch(as_dict=True)\n",
    "synapse_data_df = pd.DataFrame.from_dict(synapse_data)\n",
    "synapse_data_df"
   ]
  },
  {
   "cell_type": "code",
   "execution_count": 6,
   "metadata": {},
   "outputs": [],
   "source": [
    "uniq_synapse_ids,unique_synapse_indexes,inverse_indices,synapse_id_counts = np.unique(synapse_data_df[\"synapse_id\"].to_numpy(),\n",
    "                           return_index=True,\n",
    "                           return_inverse=True,\n",
    "                            return_counts=True)"
   ]
  },
  {
   "cell_type": "code",
   "execution_count": 7,
   "metadata": {},
   "outputs": [
    {
     "data": {
      "text/html": [
       "<div>\n",
       "<style scoped>\n",
       "    .dataframe tbody tr th:only-of-type {\n",
       "        vertical-align: middle;\n",
       "    }\n",
       "\n",
       "    .dataframe tbody tr th {\n",
       "        vertical-align: top;\n",
       "    }\n",
       "\n",
       "    .dataframe thead th {\n",
       "        text-align: right;\n",
       "    }\n",
       "</style>\n",
       "<table border=\"1\" class=\"dataframe\">\n",
       "  <thead>\n",
       "    <tr style=\"text-align: right;\">\n",
       "      <th></th>\n",
       "      <th>synapse_id</th>\n",
       "      <th>synapse_type</th>\n",
       "      <th>segment_id</th>\n",
       "      <th>split_index</th>\n",
       "      <th>nucleus_id</th>\n",
       "    </tr>\n",
       "  </thead>\n",
       "  <tbody>\n",
       "    <tr>\n",
       "      <th>1</th>\n",
       "      <td>515874</td>\n",
       "      <td>presyn</td>\n",
       "      <td>864691135593498923</td>\n",
       "      <td>0</td>\n",
       "      <td>36774</td>\n",
       "    </tr>\n",
       "    <tr>\n",
       "      <th>2</th>\n",
       "      <td>515874</td>\n",
       "      <td>postsyn</td>\n",
       "      <td>864691136723541757</td>\n",
       "      <td>0</td>\n",
       "      <td>33721</td>\n",
       "    </tr>\n",
       "    <tr>\n",
       "      <th>4</th>\n",
       "      <td>519451</td>\n",
       "      <td>presyn</td>\n",
       "      <td>864691135986920451</td>\n",
       "      <td>0</td>\n",
       "      <td>23417</td>\n",
       "    </tr>\n",
       "    <tr>\n",
       "      <th>5</th>\n",
       "      <td>519451</td>\n",
       "      <td>postsyn</td>\n",
       "      <td>864691135393987573</td>\n",
       "      <td>0</td>\n",
       "      <td>64263</td>\n",
       "    </tr>\n",
       "    <tr>\n",
       "      <th>6</th>\n",
       "      <td>520250</td>\n",
       "      <td>presyn</td>\n",
       "      <td>864691135617800847</td>\n",
       "      <td>0</td>\n",
       "      <td>26786</td>\n",
       "    </tr>\n",
       "    <tr>\n",
       "      <th>...</th>\n",
       "      <td>...</td>\n",
       "      <td>...</td>\n",
       "      <td>...</td>\n",
       "      <td>...</td>\n",
       "      <td>...</td>\n",
       "    </tr>\n",
       "    <tr>\n",
       "      <th>17772685</th>\n",
       "      <td>513426689</td>\n",
       "      <td>postsyn</td>\n",
       "      <td>864691135865513861</td>\n",
       "      <td>0</td>\n",
       "      <td>375309</td>\n",
       "    </tr>\n",
       "    <tr>\n",
       "      <th>17772687</th>\n",
       "      <td>513426885</td>\n",
       "      <td>presyn</td>\n",
       "      <td>864691135468148050</td>\n",
       "      <td>0</td>\n",
       "      <td>375145</td>\n",
       "    </tr>\n",
       "    <tr>\n",
       "      <th>17772688</th>\n",
       "      <td>513426885</td>\n",
       "      <td>postsyn</td>\n",
       "      <td>864691135155573604</td>\n",
       "      <td>1</td>\n",
       "      <td>404872</td>\n",
       "    </tr>\n",
       "    <tr>\n",
       "      <th>17772698</th>\n",
       "      <td>513428356</td>\n",
       "      <td>presyn</td>\n",
       "      <td>864691135341031877</td>\n",
       "      <td>1</td>\n",
       "      <td>211904</td>\n",
       "    </tr>\n",
       "    <tr>\n",
       "      <th>17772699</th>\n",
       "      <td>513428356</td>\n",
       "      <td>postsyn</td>\n",
       "      <td>864691136784133998</td>\n",
       "      <td>0</td>\n",
       "      <td>178345</td>\n",
       "    </tr>\n",
       "  </tbody>\n",
       "</table>\n",
       "<p>7092368 rows × 5 columns</p>\n",
       "</div>"
      ],
      "text/plain": [
       "          synapse_id synapse_type          segment_id  split_index  nucleus_id\n",
       "1             515874       presyn  864691135593498923            0       36774\n",
       "2             515874      postsyn  864691136723541757            0       33721\n",
       "4             519451       presyn  864691135986920451            0       23417\n",
       "5             519451      postsyn  864691135393987573            0       64263\n",
       "6             520250       presyn  864691135617800847            0       26786\n",
       "...              ...          ...                 ...          ...         ...\n",
       "17772685   513426689      postsyn  864691135865513861            0      375309\n",
       "17772687   513426885       presyn  864691135468148050            0      375145\n",
       "17772688   513426885      postsyn  864691135155573604            1      404872\n",
       "17772698   513428356       presyn  864691135341031877            1      211904\n",
       "17772699   513428356      postsyn  864691136784133998            0      178345\n",
       "\n",
       "[7092368 rows x 5 columns]"
      ]
     },
     "execution_count": 7,
     "metadata": {},
     "output_type": "execute_result"
    }
   ],
   "source": [
    "direct_connection_synapse_idx = np.where(synapse_id_counts==2)[0]\n",
    "direct_connection_synapse_mask = np.zeros(len(synapse_id_counts))\n",
    "direct_connection_synapse_mask[direct_connection_synapse_idx] = 1\n",
    "direct_connection_synapse_mask = direct_connection_synapse_mask.astype(\"bool\")\n",
    "row_filter = direct_connection_synapse_mask[inverse_indices]\n",
    "\n",
    "direct_connections_df = synapse_data_df.iloc[row_filter]\n",
    "direct_connections_df"
   ]
  },
  {
   "cell_type": "code",
   "execution_count": 8,
   "metadata": {},
   "outputs": [
    {
     "data": {
      "text/html": [
       "<div>\n",
       "<style scoped>\n",
       "    .dataframe tbody tr th:only-of-type {\n",
       "        vertical-align: middle;\n",
       "    }\n",
       "\n",
       "    .dataframe tbody tr th {\n",
       "        vertical-align: top;\n",
       "    }\n",
       "\n",
       "    .dataframe thead th {\n",
       "        text-align: right;\n",
       "    }\n",
       "</style>\n",
       "<table border=\"1\" class=\"dataframe\">\n",
       "  <thead>\n",
       "    <tr style=\"text-align: right;\">\n",
       "      <th></th>\n",
       "      <th>presyn_synapse_id</th>\n",
       "      <th>presyn_segment_id</th>\n",
       "      <th>presyn_split_index</th>\n",
       "      <th>presyn_nucleus_id</th>\n",
       "      <th>postsyn_synapse_id</th>\n",
       "      <th>postsyn_segment_id</th>\n",
       "      <th>postsyn_split_index</th>\n",
       "      <th>postsyn_nucleus_id</th>\n",
       "    </tr>\n",
       "  </thead>\n",
       "  <tbody>\n",
       "    <tr>\n",
       "      <th>0</th>\n",
       "      <td>515874</td>\n",
       "      <td>864691135593498923</td>\n",
       "      <td>0</td>\n",
       "      <td>36774</td>\n",
       "      <td>515874</td>\n",
       "      <td>864691136723541757</td>\n",
       "      <td>0</td>\n",
       "      <td>33721</td>\n",
       "    </tr>\n",
       "    <tr>\n",
       "      <th>1</th>\n",
       "      <td>519451</td>\n",
       "      <td>864691135986920451</td>\n",
       "      <td>0</td>\n",
       "      <td>23417</td>\n",
       "      <td>519451</td>\n",
       "      <td>864691135393987573</td>\n",
       "      <td>0</td>\n",
       "      <td>64263</td>\n",
       "    </tr>\n",
       "    <tr>\n",
       "      <th>2</th>\n",
       "      <td>520250</td>\n",
       "      <td>864691135617800847</td>\n",
       "      <td>0</td>\n",
       "      <td>26786</td>\n",
       "      <td>520250</td>\n",
       "      <td>864691136816114148</td>\n",
       "      <td>0</td>\n",
       "      <td>26870</td>\n",
       "    </tr>\n",
       "    <tr>\n",
       "      <th>3</th>\n",
       "      <td>551038</td>\n",
       "      <td>864691135780780880</td>\n",
       "      <td>0</td>\n",
       "      <td>36322</td>\n",
       "      <td>551038</td>\n",
       "      <td>864691136740407644</td>\n",
       "      <td>0</td>\n",
       "      <td>29830</td>\n",
       "    </tr>\n",
       "    <tr>\n",
       "      <th>4</th>\n",
       "      <td>552718</td>\n",
       "      <td>864691136436395166</td>\n",
       "      <td>0</td>\n",
       "      <td>3819</td>\n",
       "      <td>552718</td>\n",
       "      <td>864691135952027427</td>\n",
       "      <td>0</td>\n",
       "      <td>26626</td>\n",
       "    </tr>\n",
       "    <tr>\n",
       "      <th>...</th>\n",
       "      <td>...</td>\n",
       "      <td>...</td>\n",
       "      <td>...</td>\n",
       "      <td>...</td>\n",
       "      <td>...</td>\n",
       "      <td>...</td>\n",
       "      <td>...</td>\n",
       "      <td>...</td>\n",
       "    </tr>\n",
       "    <tr>\n",
       "      <th>3546179</th>\n",
       "      <td>513420602</td>\n",
       "      <td>864691136039374590</td>\n",
       "      <td>0</td>\n",
       "      <td>0</td>\n",
       "      <td>513420602</td>\n",
       "      <td>864691136388772880</td>\n",
       "      <td>0</td>\n",
       "      <td>347229</td>\n",
       "    </tr>\n",
       "    <tr>\n",
       "      <th>3546180</th>\n",
       "      <td>513420684</td>\n",
       "      <td>864691136451103999</td>\n",
       "      <td>0</td>\n",
       "      <td>408558</td>\n",
       "      <td>513420684</td>\n",
       "      <td>864691135502073525</td>\n",
       "      <td>0</td>\n",
       "      <td>410822</td>\n",
       "    </tr>\n",
       "    <tr>\n",
       "      <th>3546181</th>\n",
       "      <td>513426689</td>\n",
       "      <td>864691135334475497</td>\n",
       "      <td>0</td>\n",
       "      <td>374861</td>\n",
       "      <td>513426689</td>\n",
       "      <td>864691135865513861</td>\n",
       "      <td>0</td>\n",
       "      <td>375309</td>\n",
       "    </tr>\n",
       "    <tr>\n",
       "      <th>3546182</th>\n",
       "      <td>513426885</td>\n",
       "      <td>864691135468148050</td>\n",
       "      <td>0</td>\n",
       "      <td>375145</td>\n",
       "      <td>513426885</td>\n",
       "      <td>864691135155573604</td>\n",
       "      <td>1</td>\n",
       "      <td>404872</td>\n",
       "    </tr>\n",
       "    <tr>\n",
       "      <th>3546183</th>\n",
       "      <td>513428356</td>\n",
       "      <td>864691135341031877</td>\n",
       "      <td>1</td>\n",
       "      <td>211904</td>\n",
       "      <td>513428356</td>\n",
       "      <td>864691136784133998</td>\n",
       "      <td>0</td>\n",
       "      <td>178345</td>\n",
       "    </tr>\n",
       "  </tbody>\n",
       "</table>\n",
       "<p>3546184 rows × 8 columns</p>\n",
       "</div>"
      ],
      "text/plain": [
       "         presyn_synapse_id   presyn_segment_id  presyn_split_index  \\\n",
       "0                   515874  864691135593498923                   0   \n",
       "1                   519451  864691135986920451                   0   \n",
       "2                   520250  864691135617800847                   0   \n",
       "3                   551038  864691135780780880                   0   \n",
       "4                   552718  864691136436395166                   0   \n",
       "...                    ...                 ...                 ...   \n",
       "3546179          513420602  864691136039374590                   0   \n",
       "3546180          513420684  864691136451103999                   0   \n",
       "3546181          513426689  864691135334475497                   0   \n",
       "3546182          513426885  864691135468148050                   0   \n",
       "3546183          513428356  864691135341031877                   1   \n",
       "\n",
       "         presyn_nucleus_id  postsyn_synapse_id  postsyn_segment_id  \\\n",
       "0                    36774              515874  864691136723541757   \n",
       "1                    23417              519451  864691135393987573   \n",
       "2                    26786              520250  864691136816114148   \n",
       "3                    36322              551038  864691136740407644   \n",
       "4                     3819              552718  864691135952027427   \n",
       "...                    ...                 ...                 ...   \n",
       "3546179                  0           513420602  864691136388772880   \n",
       "3546180             408558           513420684  864691135502073525   \n",
       "3546181             374861           513426689  864691135865513861   \n",
       "3546182             375145           513426885  864691135155573604   \n",
       "3546183             211904           513428356  864691136784133998   \n",
       "\n",
       "         postsyn_split_index  postsyn_nucleus_id  \n",
       "0                          0               33721  \n",
       "1                          0               64263  \n",
       "2                          0               26870  \n",
       "3                          0               29830  \n",
       "4                          0               26626  \n",
       "...                      ...                 ...  \n",
       "3546179                    0              347229  \n",
       "3546180                    0              410822  \n",
       "3546181                    0              375309  \n",
       "3546182                    1              404872  \n",
       "3546183                    0              178345  \n",
       "\n",
       "[3546184 rows x 8 columns]"
      ]
     },
     "execution_count": 8,
     "metadata": {},
     "output_type": "execute_result"
    }
   ],
   "source": [
    "# Combining the table's presyns and postsyns onto the same row\n",
    "\n",
    "df_tables = []\n",
    "for synapse_type in [\"presyn\",\"postsyn\"]:\n",
    "    direct_connections_df_init = direct_connections_df[direct_connections_df[\"synapse_type\"]==synapse_type]\n",
    "    \n",
    "    direct_connections_df_init_sorted = direct_connections_df_init.sort_values(by=['synapse_id']).reset_index(drop=True)\n",
    "    \n",
    "    direct_connections_df_presyn = direct_connections_df_init_sorted[[k for k in direct_connections_df_init_sorted.columns if k != \"synapse_type\"] ]\n",
    "    \n",
    "    #column_mapper = dict([(k,f\"{k}_{synapse_type}\") if k != \"synapse_id\"  else (k,k) for k in direct_connections_df_presyn.columns])\n",
    "    column_mapper = dict([(k,f\"{synapse_type}_{k}\") for k in direct_connections_df_presyn.columns])\n",
    "\n",
    "    presyn_df = direct_connections_df_presyn.rename(columns=column_mapper)\n",
    "    df_tables.append(presyn_df)\n",
    "    \n",
    "direct_conn_df = pd.concat(df_tables,axis=1)\n",
    "direct_conn_df"
   ]
  },
  {
   "cell_type": "code",
   "execution_count": 9,
   "metadata": {},
   "outputs": [
    {
     "data": {
      "text/plain": [
       "array([[ 36774,  33721],\n",
       "       [ 23417,  64263],\n",
       "       [ 26786,  26870],\n",
       "       ...,\n",
       "       [374861, 375309],\n",
       "       [375145, 404872],\n",
       "       [211904, 178345]])"
      ]
     },
     "execution_count": 9,
     "metadata": {},
     "output_type": "execute_result"
    }
   ],
   "source": [
    "edges_df = direct_conn_df[[\"presyn_nucleus_id\",\"postsyn_nucleus_id\"]]\n",
    "connectome_edges = edges_df.to_numpy()\n",
    "connectome_edges"
   ]
  },
  {
   "cell_type": "markdown",
   "metadata": {},
   "source": [
    "# Preliminary Look at the Graph"
   ]
  },
  {
   "cell_type": "code",
   "execution_count": 10,
   "metadata": {},
   "outputs": [],
   "source": [
    "import networkx as nx"
   ]
  },
  {
   "cell_type": "code",
   "execution_count": 11,
   "metadata": {},
   "outputs": [
    {
     "data": {
      "text/plain": [
       "(73273, 3546184)"
      ]
     },
     "execution_count": 11,
     "metadata": {},
     "output_type": "execute_result"
    }
   ],
   "source": [
    "G = nx.MultiDiGraph()\n",
    "G.add_edges_from(connectome_edges)\n",
    "len(G.nodes()),len(G.edges())"
   ]
  },
  {
   "cell_type": "code",
   "execution_count": 21,
   "metadata": {},
   "outputs": [
    {
     "data": {
      "text/plain": [
       "(73273, 2605092)"
      ]
     },
     "execution_count": 21,
     "metadata": {},
     "output_type": "execute_result"
    }
   ],
   "source": [
    "G_undirected_non_multi = nx.Graph(G)\n",
    "len(G_undirected_non_multi.nodes()),len(G_undirected_non_multi.edges())"
   ]
  },
  {
   "cell_type": "code",
   "execution_count": 31,
   "metadata": {},
   "outputs": [
    {
     "data": {
      "text/plain": [
       "(73273, 2657571)"
      ]
     },
     "execution_count": 31,
     "metadata": {},
     "output_type": "execute_result"
    }
   ],
   "source": [
    "G_directed_non_multi = nx.DiGraph(G)\n",
    "len(G_directed_non_multi.nodes()),len(G_directed_non_multi.edges())"
   ]
  },
  {
   "cell_type": "code",
   "execution_count": null,
   "metadata": {},
   "outputs": [],
   "source": []
  },
  {
   "cell_type": "code",
   "execution_count": 12,
   "metadata": {},
   "outputs": [
    {
     "name": "stdout",
     "output_type": "stream",
     "text": [
      "Number of connected components = 145\n",
      "conn_comp_size = [72937, 3, 2, 4, 5, 3, 3, 2, 2, 2, 2, 2, 2, 6, 2, 2, 2, 2, 3, 2, 2, 2, 3, 2, 3, 2, 2, 2, 3, 2, 4, 2, 2, 2, 2, 2, 2, 5, 3, 2, 2, 2, 4, 2, 4, 3, 2, 4, 2, 2, 2, 2, 2, 2, 2, 2, 2, 3, 2, 2, 2, 2, 2, 2, 3, 2, 2, 3, 2, 2, 2, 2, 2, 2, 2, 2, 2, 2, 4, 2, 2, 4, 2, 2, 2, 2, 2, 2, 4, 2, 2, 2, 2, 2, 2, 2, 2, 2, 3, 2, 3, 2, 2, 2, 2, 2, 2, 2, 2, 3, 2, 2, 2, 2, 2, 3, 2, 2, 2, 4, 2, 2, 3, 2, 3, 2, 2, 2, 2, 3, 2, 3, 2, 2, 2, 2, 2, 2, 2, 2, 2, 2, 2, 2, 2]\n"
     ]
    }
   ],
   "source": [
    "#For connected components cannot be a directed graph\n",
    "G_undirected = nx.Graph(G)\n",
    "\n",
    "n_components = nx.number_connected_components(G_undirected)\n",
    "print(f\"Number of connected components = {n_components}\")\n",
    "\n",
    "# The Sizes of the components in the graph\n",
    "conn_comp = list(nx.connected_components(G_undirected))\n",
    "conn_comp_size = [len(k) for k in conn_comp]\n",
    "print(f\"conn_comp_size = {conn_comp_size}\")"
   ]
  },
  {
   "cell_type": "code",
   "execution_count": 13,
   "metadata": {},
   "outputs": [
    {
     "data": {
      "image/png": "[encoded data removed]",
      "text/plain": [
       "<Figure size 432x288 with 1 Axes>"
      ]
     },
     "metadata": {
      "needs_background": "light"
     },
     "output_type": "display_data"
    }
   ],
   "source": [
    "fig,ax = plt.subplots(1,1)\n",
    "ax.hist(conn_comp_size)\n",
    "ax.set_title(\"Number of Neurons in Connected Components\")\n",
    "ax.set_xlabel(\"Number of Neurons\")\n",
    "plt.show()"
   ]
  },
  {
   "cell_type": "markdown",
   "metadata": {},
   "source": [
    "# Selecting the largest component"
   ]
  },
  {
   "cell_type": "code",
   "execution_count": 14,
   "metadata": {},
   "outputs": [
    {
     "data": {
      "text/plain": [
       "(72937,)"
      ]
     },
     "execution_count": 14,
     "metadata": {},
     "output_type": "execute_result"
    }
   ],
   "source": [
    "G_largest = G.subgraph(conn_comp[0])\n",
    "node_names_largest_comp = np.array(G_largest.nodes())\n",
    "node_names_largest_comp.shape"
   ]
  },
  {
   "cell_type": "markdown",
   "metadata": {},
   "source": [
    "# Degree Distribution"
   ]
  },
  {
   "cell_type": "code",
   "execution_count": 16,
   "metadata": {},
   "outputs": [
    {
     "data": {
      "text/plain": [
       "<networkx.classes.graph.Graph at 0x7f3050859ef0>"
      ]
     },
     "execution_count": 16,
     "metadata": {},
     "output_type": "execute_result"
    }
   ],
   "source": [
    "undirectional_graph = nx.Graph(G_largest)\n",
    "no_selflooped_graph = xu.remove_selfloops(undirectional_graph)\n",
    "no_selflooped_graph"
   ]
  },
  {
   "cell_type": "code",
   "execution_count": 17,
   "metadata": {},
   "outputs": [],
   "source": [
    "degree_distribution = np.array(xu.get_node_degree(no_selflooped_graph,node_names_largest_comp))\n",
    "degree_distribution_filtered = degree_distribution[degree_distribution<np.percentile(degree_distribution,99.5)]"
   ]
  },
  {
   "cell_type": "code",
   "execution_count": 32,
   "metadata": {},
   "outputs": [
    {
     "name": "stdout",
     "output_type": "stream",
     "text": [
      "Average Degree of Node: 65.70743537452461\n",
      "Median Degree of Node: 45.0\n"
     ]
    }
   ],
   "source": [
    "print(f\"Average Degree of Node: {np.mean(degree_distribution_filtered)}\")\n",
    "print(f\"Median Degree of Node: {np.median(degree_distribution_filtered)}\")"
   ]
  },
  {
   "cell_type": "code",
   "execution_count": 19,
   "metadata": {},
   "outputs": [
    {
     "data": {
      "image/png": "[encoded data removed]",
      "text/plain": [
       "<Figure size 432x288 with 1 Axes>"
      ]
     },
     "metadata": {
      "needs_background": "light"
     },
     "output_type": "display_data"
    }
   ],
   "source": [
    "fig,ax = plt.subplots(1,1)\n",
    "ax.hist(degree_distribution_filtered,bins=50,density=True)\n",
    "ax.set_title(\"Degree Distribution of Neurons \\n Unique Edges, No Self Loops\")\n",
    "ax.set_xlabel(\"Degree of Neuron\")\n",
    "ax.set_ylabel(\"Density\")\n",
    "plt.show()"
   ]
  },
  {
   "cell_type": "markdown",
   "metadata": {},
   "source": [
    "# Degree Distribution In and Out"
   ]
  },
  {
   "cell_type": "code",
   "execution_count": null,
   "metadata": {},
   "outputs": [],
   "source": []
  },
  {
   "cell_type": "code",
   "execution_count": 78,
   "metadata": {},
   "outputs": [
    {
     "data": {
      "text/plain": [
       "(3546184, 3546184)"
      ]
     },
     "execution_count": 78,
     "metadata": {},
     "output_type": "execute_result"
    }
   ],
   "source": [
    "np.sum(degree_distribution(G,degree_type=\"in\")),np.sum(degree_distribution(G,degree_type=\"out\"))"
   ]
  },
  {
   "cell_type": "code",
   "execution_count": 79,
   "metadata": {},
   "outputs": [
    {
     "data": {
      "text/plain": [
       "7092368"
      ]
     },
     "execution_count": 79,
     "metadata": {},
     "output_type": "execute_result"
    }
   ],
   "source": [
    "np.sum(degree_distribution(G,degree_type=\"in_and_out\"))"
   ]
  },
  {
   "cell_type": "code",
   "execution_count": 105,
   "metadata": {},
   "outputs": [],
   "source": [
    "import graph_analysis as ga\n",
    "import graph_visualizations as gviz"
   ]
  },
  {
   "cell_type": "code",
   "execution_count": 108,
   "metadata": {},
   "outputs": [],
   "source": [
    "from importlib import reload\n",
    "gviz = reload(gviz)"
   ]
  },
  {
   "cell_type": "code",
   "execution_count": 123,
   "metadata": {},
   "outputs": [
    {
     "data": {
      "text/plain": [
       "array([0, 8, 0, ..., 0, 1, 0])"
      ]
     },
     "execution_count": 123,
     "metadata": {},
     "output_type": "execute_result"
    }
   ],
   "source": [
    "in_degree = np.array(list(dict(G.in_degree()).values()))\n",
    "in_degree"
   ]
  },
  {
   "cell_type": "code",
   "execution_count": 148,
   "metadata": {},
   "outputs": [
    {
     "data": {
      "text/plain": [
       "<AxesSubplot:xlabel='Degree', ylabel='Count'>"
      ]
     },
     "execution_count": 148,
     "metadata": {},
     "output_type": "execute_result"
    },
    {
     "data": {
      "image/png": "[encoded data removed]",
      "text/plain": [
       "<Figure size 432x288 with 1 Axes>"
      ]
     },
     "metadata": {
      "needs_background": "light"
     },
     "output_type": "display_data"
    }
   ],
   "source": [
    "import matplotlib.pyplot as plt\n",
    "import matplotlib_utils as mu\n",
    "\n",
    "import numpy as np\n",
    "\n",
    "mu.histogram(in_degree,bin_max = 700,\n",
    "         bin_width = 10,return_fig_ax=True,logscale=True)"
   ]
  },
  {
   "cell_type": "code",
   "execution_count": 156,
   "metadata": {},
   "outputs": [
    {
     "data": {
      "text/plain": [
       "array([0, 8, 0, ..., 0, 1, 0])"
      ]
     },
     "execution_count": 156,
     "metadata": {},
     "output_type": "execute_result"
    }
   ],
   "source": [
    "ga.degree_distribution(G,\n",
    "                                                       degree_type=\"in\",\n",
    "                                                       percentile=95)"
   ]
  },
  {
   "cell_type": "code",
   "execution_count": 163,
   "metadata": {},
   "outputs": [
    {
     "data": {
      "image/png": "[encoded data removed]",
      "text/plain": [
       "<Figure size 432x288 with 1 Axes>"
      ]
     },
     "metadata": {
      "needs_background": "light"
     },
     "output_type": "display_data"
    }
   ],
   "source": [
    "gviz.plot_degree_distribution(G,degree_type=\"in\",\n",
    "                             percentile=100,\n",
    "                              bin_width = 10,\n",
    "                              bin_max = 600,\n",
    "                             )"
   ]
  },
  {
   "cell_type": "code",
   "execution_count": 164,
   "metadata": {},
   "outputs": [
    {
     "data": {
      "image/png": "[encoded data removed]",
      "text/plain": [
       "<Figure size 432x288 with 1 Axes>"
      ]
     },
     "metadata": {
      "needs_background": "light"
     },
     "output_type": "display_data"
    }
   ],
   "source": [
    "gviz.plot_degree_distribution(G,degree_type=\"out\",\n",
    "                             percentile=100,\n",
    "                              bin_width = 10,\n",
    "                              bin_max = 600,\n",
    "                             )"
   ]
  },
  {
   "cell_type": "code",
   "execution_count": 118,
   "metadata": {
    "scrolled": true
   },
   "outputs": [
    {
     "name": "stdout",
     "output_type": "stream",
     "text": [
      "bins = [  0.   5.  10.  15.  20.  25.  30.  35.  40.  45.  50.  55.  60.  65.\n",
      "  70.  75.  80.  85.  90.  95. 100. 105. 110. 115. 120. 125. 130. 135.\n",
      " 140. 145. 150. 155. 160. 165. 170. 175. 180. 185. 190. 195. 200. 205.\n",
      " 210. 215. 220. 225. 230. 235. 240. 245. 250. 255. 260. 265. 270. 275.\n",
      " 280. 285. 290. 295. 300. 305. 310. 315. 320. 325. 330. 335. 340. 345.\n",
      " 350. 355. 360. 365. 370. 375. 380. 385. 390. 395. 400. 405. 410. 415.\n",
      " 420. 425. 430. 435. 440. 445. 450. 455. 460. 465. 470. 475. 480. 485.\n",
      " 490. 495. 500. 505. 510. 515. 520. 525. 530. 535. 540. 545. 550. 555.\n",
      " 560. 565. 570. 575. 580. 585. 590. 595. 600. 605. 610. 615. 620. 625.\n",
      " 630. 635. 640. 645. 650. 655. 660. 665. 670. 675. 680. 685. 690. 695.\n",
      " 700. 705. 710. 715. 720. 725. 730. 735. 740. 745. 750. 755. 760. 765.\n",
      " 770. 775. 780. 785. 790. 795. 800.]\n"
     ]
    },
    {
     "data": {
      "image/png": "[encoded data removed]",
      "text/plain": [
       "<Figure size 432x288 with 1 Axes>"
      ]
     },
     "metadata": {
      "needs_background": "light"
     },
     "output_type": "display_data"
    }
   ],
   "source": [
    "gviz.plot_degree_distribution(G,degree_type=\"in\",\n",
    "                         bin_width=5,\n",
    "                         bin_max = 800,\n",
    "                        percentile=99)"
   ]
  },
  {
   "cell_type": "code",
   "execution_count": 117,
   "metadata": {},
   "outputs": [
    {
     "name": "stdout",
     "output_type": "stream",
     "text": [
      "bins = [  0.   5.  10.  15.  20.  25.  30.  35.  40.  45.  50.  55.  60.  65.\n",
      "  70.  75.  80.  85.  90.  95. 100. 105. 110. 115. 120. 125. 130. 135.\n",
      " 140. 145. 150. 155. 160. 165. 170. 175. 180. 185. 190. 195. 200. 205.\n",
      " 210. 215. 220. 225. 230. 235. 240. 245. 250. 255. 260. 265. 270. 275.\n",
      " 280. 285. 290. 295. 300. 305. 310. 315. 320. 325. 330. 335. 340. 345.\n",
      " 350. 355. 360. 365. 370. 375. 380. 385. 390. 395. 400. 405. 410. 415.\n",
      " 420. 425. 430. 435. 440. 445. 450. 455. 460. 465. 470. 475. 480. 485.\n",
      " 490. 495. 500. 505. 510. 515. 520. 525. 530. 535. 540. 545. 550. 555.\n",
      " 560. 565. 570. 575. 580. 585. 590. 595. 600. 605. 610. 615. 620. 625.\n",
      " 630. 635. 640. 645. 650. 655. 660. 665. 670. 675. 680. 685. 690. 695.\n",
      " 700. 705. 710. 715. 720. 725. 730. 735. 740. 745. 750. 755. 760. 765.\n",
      " 770. 775. 780. 785. 790. 795. 800.]\n"
     ]
    },
    {
     "data": {
      "image/png": "[encoded data removed]",
      "text/plain": [
       "<Figure size 432x288 with 1 Axes>"
      ]
     },
     "metadata": {
      "needs_background": "light"
     },
     "output_type": "display_data"
    }
   ],
   "source": [
    "gviz.plot_degree_distribution(G,degree_type=\"out\",\n",
    "                         bin_width=5,\n",
    "                         bin_max = 800,\n",
    "                        percentile=99)"
   ]
  },
  {
   "cell_type": "code",
   "execution_count": 111,
   "metadata": {},
   "outputs": [
    {
     "name": "stdout",
     "output_type": "stream",
     "text": [
      "bins = [  0.   5.  10.  15.  20.  25.  30.  35.  40.  45.  50.  55.  60.  65.\n",
      "  70.  75.  80.  85.  90.  95. 100. 105. 110. 115. 120. 125. 130. 135.\n",
      " 140. 145. 150. 155. 160. 165. 170. 175. 180. 185. 190. 195. 200. 205.\n",
      " 210. 215. 220. 225. 230. 235. 240. 245. 250. 255. 260. 265. 270. 275.\n",
      " 280. 285. 290. 295. 300. 305. 310. 315. 320. 325. 330. 335. 340. 345.\n",
      " 350. 355. 360. 365. 370. 375. 380. 385. 390. 395. 400. 405. 410. 415.\n",
      " 420. 425. 430. 435. 440. 445. 450. 455. 460. 465. 470. 475. 480. 485.\n",
      " 490. 495. 500.]\n"
     ]
    },
    {
     "data": {
      "image/png": "[encoded data removed]",
      "text/plain": [
       "<Figure size 432x288 with 1 Axes>"
      ]
     },
     "metadata": {
      "needs_background": "light"
     },
     "output_type": "display_data"
    }
   ],
   "source": [
    "gviz.plot_degree_distribution(G,degree_type=\"in\",title=\"In-Degree Distribution\",\n",
    "                         bin_width=5,\n",
    "                         bin_max = 500,\n",
    "                        percentile=99)"
   ]
  },
  {
   "cell_type": "code",
   "execution_count": null,
   "metadata": {},
   "outputs": [],
   "source": []
  },
  {
   "cell_type": "code",
   "execution_count": 85,
   "metadata": {},
   "outputs": [
    {
     "data": {
      "image/png": "[encoded data removed]",
      "text/plain": [
       "<Figure size 432x288 with 1 Axes>"
      ]
     },
     "metadata": {
      "needs_background": "light"
     },
     "output_type": "display_data"
    }
   ],
   "source": [
    "plot_degree_distribution(G,degree_type=\"out\",title=\"Out-Degree Distribution\",\n",
    "                        percentile=99)"
   ]
  },
  {
   "cell_type": "code",
   "execution_count": 20,
   "metadata": {},
   "outputs": [
    {
     "data": {
      "image/png": "[encoded data removed]",
      "text/plain": [
       "<Figure size 432x288 with 1 Axes>"
      ]
     },
     "metadata": {
      "needs_background": "light"
     },
     "output_type": "display_data"
    }
   ],
   "source": [
    "fig,ax = plt.subplots(1,1)\n",
    "ax.hist(degree_distribution_filtered,bins=50,density=False)\n",
    "ax.set_title(\"Degree Distribution of Neurons \\n Unique Edges, No Self Loops\")\n",
    "ax.set_xlabel(\"Degree of Neuron\")\n",
    "ax.set_ylabel(\"Count\")\n",
    "ax.set_yscale(\"log\")\n",
    "plt.show()"
   ]
  },
  {
   "cell_type": "markdown",
   "metadata": {},
   "source": [
    "# Getting the Soma to Soma Distance"
   ]
  },
  {
   "cell_type": "code",
   "execution_count": 37,
   "metadata": {},
   "outputs": [
    {
     "data": {
      "text/html": [
       "\n",
       "        \n",
       "        <style type=\"text/css\">\n",
       "            .Relation{\n",
       "                border-collapse:collapse;\n",
       "            }\n",
       "            .Relation th{\n",
       "                background: #A0A0A0; color: #ffffff; padding:4px; border:#f0e0e0 1px solid;\n",
       "                font-weight: normal; font-family: monospace; font-size: 100%;\n",
       "            }\n",
       "            .Relation td{\n",
       "                padding:4px; border:#f0e0e0 1px solid; font-size:100%;\n",
       "            }\n",
       "            .Relation tr:nth-child(odd){\n",
       "                background: #ffffff;\n",
       "            }\n",
       "            .Relation tr:nth-child(even){\n",
       "                background: #f3f1ff;\n",
       "            }\n",
       "            /* Tooltip container */\n",
       "            .djtooltip {\n",
       "            }\n",
       "            /* Tooltip text */\n",
       "            .djtooltip .djtooltiptext {\n",
       "                visibility: hidden;\n",
       "                width: 120px;\n",
       "                background-color: black;\n",
       "                color: #fff;\n",
       "                text-align: center;\n",
       "                padding: 5px 0;\n",
       "                border-radius: 6px;\n",
       "                /* Position the tooltip text - see examples below! */\n",
       "                position: absolute;\n",
       "                z-index: 1;\n",
       "            }\n",
       "            #primary {\n",
       "                font-weight: bold;\n",
       "                color: black;\n",
       "            }\n",
       "\n",
       "            #nonprimary {\n",
       "                font-weight: normal;\n",
       "                color: white;\n",
       "            }\n",
       "\n",
       "            /* Show the tooltip text when you mouse over the tooltip container */\n",
       "            .djtooltip:hover .djtooltiptext {\n",
       "                visibility: visible;\n",
       "            }\n",
       "        </style>\n",
       "        \n",
       "        <b>Detailed information from each nucleus_id</b>\n",
       "            <div style=\"max-height:1000px;max-width:1500px;overflow:auto;\">\n",
       "            <table border=\"1\" class=\"Relation\">\n",
       "                <thead> <tr style=\"text-align: right;\"> <th> <div class=\"djtooltip\">\n",
       "                                <p id=\"primary\">ver</p>\n",
       "                                <span class=\"djtooltiptext\">materialization version</span>\n",
       "                            </div></th><th><div class=\"djtooltip\">\n",
       "                                <p id=\"primary\">nucleus_id</p>\n",
       "                                <span class=\"djtooltiptext\">id of nucleus from the flat segmentation  Equivalent to Allen: 'id'.</span>\n",
       "                            </div></th><th><div class=\"djtooltip\">\n",
       "                                <p id=\"primary\">segment_id</p>\n",
       "                                <span class=\"djtooltiptext\">id of the segment under the nucleus centroid. Equivalent to Allen 'pt_root_id'.</span>\n",
       "                            </div></th><th><div class=\"djtooltip\">\n",
       "                                <p id=\"nonprimary\">nucleus_x</p>\n",
       "                                <span class=\"djtooltiptext\">x coordinate of nucleus centroid in EM voxels (x: 4nm, y: 4nm, z: 40nm)</span>\n",
       "                            </div></th><th><div class=\"djtooltip\">\n",
       "                                <p id=\"nonprimary\">nucleus_y</p>\n",
       "                                <span class=\"djtooltiptext\">y coordinate of nucleus centroid in EM voxels (x: 4nm, y: 4nm, z: 40nm)</span>\n",
       "                            </div></th><th><div class=\"djtooltip\">\n",
       "                                <p id=\"nonprimary\">nucleus_z</p>\n",
       "                                <span class=\"djtooltiptext\">z coordinate of nucleus centroid in EM voxels (x: 4nm, y: 4nm, z: 40nm)</span>\n",
       "                            </div></th><th><div class=\"djtooltip\">\n",
       "                                <p id=\"nonprimary\">supervoxel_id</p>\n",
       "                                <span class=\"djtooltiptext\">id of the supervoxel under the nucleus centroid. Equivalent to Allen: 'pt_supervoxel_id'.</span>\n",
       "                            </div></th><th><div class=\"djtooltip\">\n",
       "                                <p id=\"nonprimary\">volume</p>\n",
       "                                <span class=\"djtooltiptext\">volume of the nucleus in um^3</span>\n",
       "                            </div> </th> </tr> </thead>\n",
       "                <tbody> <tr> <td>30.00</td>\n",
       "<td>1998</td>\n",
       "<td>864691136050815731</td>\n",
       "<td>59936</td>\n",
       "<td>105872</td>\n",
       "<td>20078</td>\n",
       "<td>72978435697419638</td>\n",
       "<td>137.669</td></tr><tr><td>30.00</td>\n",
       "<td>2198</td>\n",
       "<td>864691135084884330</td>\n",
       "<td>65088</td>\n",
       "<td>104160</td>\n",
       "<td>20059</td>\n",
       "<td>73752285724957558</td>\n",
       "<td>76.0236</td></tr><tr><td>30.00</td>\n",
       "<td>2199</td>\n",
       "<td>864691136521572241</td>\n",
       "<td>65664</td>\n",
       "<td>109488</td>\n",
       "<td>19839</td>\n",
       "<td>73823341596728836</td>\n",
       "<td>142.404</td></tr><tr><td>30.00</td>\n",
       "<td>2389</td>\n",
       "<td>864691135494586958</td>\n",
       "<td>58256</td>\n",
       "<td>103152</td>\n",
       "<td>20676</td>\n",
       "<td>72766985934597733</td>\n",
       "<td>50.0802</td></tr><tr><td>30.00</td>\n",
       "<td>2398</td>\n",
       "<td>864691136451074559</td>\n",
       "<td>58720</td>\n",
       "<td>109408</td>\n",
       "<td>20589</td>\n",
       "<td>72838179312529142</td>\n",
       "<td>131.664</td></tr><tr><td>30.00</td>\n",
       "<td>2433</td>\n",
       "<td>864691135524436073</td>\n",
       "<td>59968</td>\n",
       "<td>109952</td>\n",
       "<td>21002</td>\n",
       "<td>73049354331530450</td>\n",
       "<td>126.039</td></tr><tr><td>30.00</td>\n",
       "<td>3024</td>\n",
       "<td>864691135087399350</td>\n",
       "<td>57024</td>\n",
       "<td>103536</td>\n",
       "<td>21200</td>\n",
       "<td>72626248513279322</td>\n",
       "<td>238.007</td></tr><tr><td>30.00</td>\n",
       "<td>3117</td>\n",
       "<td>864691134684964653</td>\n",
       "<td>58512</td>\n",
       "<td>105424</td>\n",
       "<td>21317</td>\n",
       "<td>72837629623886011</td>\n",
       "<td>244.205</td></tr><tr><td>30.00</td>\n",
       "<td>3121</td>\n",
       "<td>864691132625568958</td>\n",
       "<td>57648</td>\n",
       "<td>103360</td>\n",
       "<td>21760</td>\n",
       "<td>72696617324576355</td>\n",
       "<td>30.9133</td></tr><tr><td>30.00</td>\n",
       "<td>3152</td>\n",
       "<td>864691135524409705</td>\n",
       "<td>58736</td>\n",
       "<td>107008</td>\n",
       "<td>21323</td>\n",
       "<td>72837835782285934</td>\n",
       "<td>47.1471</td></tr><tr><td>30.00</td>\n",
       "<td>3237</td>\n",
       "<td>864691135493381966</td>\n",
       "<td>61296</td>\n",
       "<td>107920</td>\n",
       "<td>21750</td>\n",
       "<td>73189817009212455</td>\n",
       "<td>28.67</td></tr><tr><td>30.00</td>\n",
       "<td>3384</td>\n",
       "<td>864691134917390346</td>\n",
       "<td>63216</td>\n",
       "<td>104112</td>\n",
       "<td>21404</td>\n",
       "<td>73470742163277945</td>\n",
       "<td>128.668</td> </tr> </tbody>\n",
       "            </table>\n",
       "            <p>...</p>\n",
       "            <p>Total: 129816</p></div>\n",
       "            "
      ],
      "text/plain": [
       "*ver      *nucleus_id    *segment_id    nucleus_x     nucleus_y     nucleus_z     supervoxel_id  volume     \n",
       "+-------+ +------------+ +------------+ +-----------+ +-----------+ +-----------+ +------------+ +---------+\n",
       "30.00     1998           86469113605081 59936         105872        20078         72978435697419 137.669    \n",
       "30.00     2198           86469113508488 65088         104160        20059         73752285724957 76.0236    \n",
       "30.00     2199           86469113652157 65664         109488        19839         73823341596728 142.404    \n",
       "30.00     2389           86469113549458 58256         103152        20676         72766985934597 50.0802    \n",
       "30.00     2398           86469113645107 58720         109408        20589         72838179312529 131.664    \n",
       "30.00     2433           86469113552443 59968         109952        21002         73049354331530 126.039    \n",
       "30.00     3024           86469113508739 57024         103536        21200         72626248513279 238.007    \n",
       "30.00     3117           86469113468496 58512         105424        21317         72837629623886 244.205    \n",
       "30.00     3121           86469113262556 57648         103360        21760         72696617324576 30.9133    \n",
       "30.00     3152           86469113552440 58736         107008        21323         72837835782285 47.1471    \n",
       "30.00     3237           86469113549338 61296         107920        21750         73189817009212 28.67      \n",
       "30.00     3384           86469113491739 63216         104112        21404         73470742163277 128.668    \n",
       "   ...\n",
       " (Total: 129816)"
      ]
     },
     "execution_count": 37,
     "metadata": {},
     "output_type": "execute_result"
    }
   ],
   "source": [
    "\"\"\"\n",
    "Psuedoode: Pull down the Nucleus IDs and Nucleus Centers\n",
    "\n",
    "1) Get the nucleus ids and centers\n",
    "2) Adjust the centers for nm\n",
    "\n",
    "\n",
    "\"\"\"\n",
    "\n",
    "nuc_table = du.configure_nucleus_table() & \"segment_id>0\"\n",
    "nuc_table"
   ]
  },
  {
   "cell_type": "code",
   "execution_count": 39,
   "metadata": {},
   "outputs": [],
   "source": [
    "nucleu_ids,nuc_x,nuc_y,nuc_z = nuc_table.fetch(\"nucleus_id\",\"nucleus_x\",\"nucleus_y\",\"nucleus_z\")"
   ]
  },
  {
   "cell_type": "code",
   "execution_count": 41,
   "metadata": {},
   "outputs": [
    {
     "data": {
      "text/plain": [
       "array([[ 239744,  423488,  803120],\n",
       "       [ 260352,  416640,  802360],\n",
       "       [ 262656,  437952,  793560],\n",
       "       ...,\n",
       "       [1642624, 1105152,  969400],\n",
       "       [1654848, 1098752,  968760],\n",
       "       [1658560, 1128960,  987640]])"
      ]
     },
     "execution_count": 41,
     "metadata": {},
     "output_type": "execute_result"
    }
   ],
   "source": [
    "nucleus_centers = np.vstack([nuc_x,nuc_y,nuc_z]).T * [4,4,40]\n",
    "nucleus_centers"
   ]
  },
  {
   "cell_type": "code",
   "execution_count": 51,
   "metadata": {},
   "outputs": [],
   "source": [
    "nuc_id_to_center = dict([(k,v) for k,v in zip(nucleu_ids,nucleus_centers)])"
   ]
  },
  {
   "cell_type": "code",
   "execution_count": null,
   "metadata": {},
   "outputs": [],
   "source": [
    "len(G_undirected_non_multi.edges())"
   ]
  },
  {
   "cell_type": "code",
   "execution_count": 44,
   "metadata": {},
   "outputs": [
    {
     "name": "stdout",
     "output_type": "stream",
     "text": [
      "hi\n"
     ]
    }
   ],
   "source": [
    "print(\"hi\")"
   ]
  },
  {
   "cell_type": "code",
   "execution_count": 70,
   "metadata": {},
   "outputs": [
    {
     "data": {
      "image/png": "[encoded data removed]",
      "text/plain": [
       "<Figure size 432x288 with 1 Axes>"
      ]
     },
     "metadata": {
      "needs_background": "light"
     },
     "output_type": "display_data"
    }
   ],
   "source": [
    "import matplotlib.pyplot as plt\n",
    "def graph_to_soma_to_soma_distance(G):\n",
    "    total_unique_edges = np.array(list(G.edges()))\n",
    "    edges_mask = np.all(total_unique_edges>0,axis=1)\n",
    "    soma_distances = np.array([[nuc_id_to_center[k],nuc_id_to_center[v]] for k,v in total_unique_edges[edges_mask]])\n",
    "    soma_distances_norm = np.linalg.norm(soma_distances[:,0,:] - soma_distances[:,1,:],axis=1)\n",
    "\n",
    "    \n",
    "    fig,ax = plt.subplots(1,1)\n",
    "    ax.hist(soma_distances_norm/1000,bins=100,density=False)\n",
    "    ax.set_title(\"Soma to Soma Distance of Unique Direct Connections \\n After Auto Proofreading\")\n",
    "    ax.set_xlabel(\"Soma to Soma Distance (um)\")\n",
    "    ax.set_ylabel(\"Counts\")\n",
    "    plt.yscale(\"log\")\n",
    "    plt.xscale(\"linear\")\n",
    "    plt.show()\n",
    "\n",
    "graph_to_soma_to_soma_distance(G)"
   ]
  },
  {
   "cell_type": "code",
   "execution_count": 71,
   "metadata": {},
   "outputs": [
    {
     "data": {
      "image/png": "[encoded data removed]",
      "text/plain": [
       "<Figure size 432x288 with 1 Axes>"
      ]
     },
     "metadata": {
      "needs_background": "light"
     },
     "output_type": "display_data"
    }
   ],
   "source": [
    "graph_to_soma_to_soma_distance(G_undirected_non_multi)"
   ]
  },
  {
   "cell_type": "code",
   "execution_count": null,
   "metadata": {},
   "outputs": [],
   "source": []
  },
  {
   "cell_type": "code",
   "execution_count": 48,
   "metadata": {},
   "outputs": [
    {
     "data": {
      "text/plain": [
       "array([36774, 33721])"
      ]
     },
     "execution_count": 48,
     "metadata": {},
     "output_type": "execute_result"
    }
   ],
   "source": [
    "total_unique_edges = np.array(list(G_undirected_non_multi.edges()))\n"
   ]
  },
  {
   "cell_type": "code",
   "execution_count": 63,
   "metadata": {},
   "outputs": [
    {
     "data": {
      "text/plain": [
       "array([ True,  True,  True, ...,  True,  True,  True])"
      ]
     },
     "execution_count": 63,
     "metadata": {},
     "output_type": "execute_result"
    }
   ],
   "source": [
    "edges_mask = np.all(total_unique_edges>0,axis=1)\n",
    "edges_mask"
   ]
  },
  {
   "cell_type": "code",
   "execution_count": 64,
   "metadata": {},
   "outputs": [
    {
     "data": {
      "text/plain": [
       "array([[[ 309632,  704640,  848960],\n",
       "        [ 286080,  650752,  851160]],\n",
       "\n",
       "       [[ 309632,  704640,  848960],\n",
       "        [ 284864,  610560,  846920]],\n",
       "\n",
       "       [[ 309632,  704640,  848960],\n",
       "        [ 326848,  690944,  861080]],\n",
       "\n",
       "       ...,\n",
       "\n",
       "       [[1343360, 1142720,  952680],\n",
       "        [1339776, 1144384,  953120]],\n",
       "\n",
       "       [[1074368, 1142848,  968760],\n",
       "        [1055488, 1143104,  941080]],\n",
       "\n",
       "       [[1289536, 1026176,  698560],\n",
       "        [1280576, 1027072,  698120]]])"
      ]
     },
     "execution_count": 64,
     "metadata": {},
     "output_type": "execute_result"
    }
   ],
   "source": [
    "soma_distances = np.array([[nuc_id_to_center[k],nuc_id_to_center[v]] for k,v in total_unique_edges[edges_mask]])\n",
    "soma_distances"
   ]
  },
  {
   "cell_type": "code",
   "execution_count": 65,
   "metadata": {},
   "outputs": [
    {
     "data": {
      "text/plain": [
       "(2588087, 2, 3)"
      ]
     },
     "execution_count": 65,
     "metadata": {},
     "output_type": "execute_result"
    }
   ],
   "source": [
    "soma_distances.shape"
   ]
  },
  {
   "cell_type": "code",
   "execution_count": 67,
   "metadata": {},
   "outputs": [
    {
     "data": {
      "text/plain": [
       "(2588087,)"
      ]
     },
     "execution_count": 67,
     "metadata": {},
     "output_type": "execute_result"
    }
   ],
   "source": [
    "soma_distances_norm = np.linalg.norm(soma_distances[:,0,:] - soma_distances[:,1,:],axis=1)\n",
    "soma_distances_norm.shape"
   ]
  },
  {
   "cell_type": "code",
   "execution_count": null,
   "metadata": {},
   "outputs": [],
   "source": []
  },
  {
   "cell_type": "code",
   "execution_count": 69,
   "metadata": {},
   "outputs": [
    {
     "data": {
      "image/png": "[encoded data removed]",
      "text/plain": [
       "<Figure size 432x288 with 1 Axes>"
      ]
     },
     "metadata": {
      "needs_background": "light"
     },
     "output_type": "display_data"
    }
   ],
   "source": [
    "import matplotlib.pyplot as plt\n",
    "fig,ax = plt.subplots(1,1)\n",
    "ax.hist(soma_distances_norm/1000,bins=100,density=False)\n",
    "ax.set_title(\"Soma to Soma Distance of Unique Direct Connections \\n After Auto Proofreading\")\n",
    "ax.set_xlabel(\"Soma to Soma Distance (um)\")\n",
    "ax.set_ylabel(\"Counts\")\n",
    "plt.yscale(\"log\")\n",
    "plt.xscale(\"linear\")\n",
    "plt.show()"
   ]
  },
  {
   "cell_type": "code",
   "execution_count": null,
   "metadata": {},
   "outputs": [],
   "source": [
    "alpha_level = 0.7\n",
    "\n",
    "import matplotlib.pyplot as plt\n",
    "fig,ax = plt.subplots(1,1)\n",
    "ax.hist(total_distances_no_self_loops/1000,bins=100,density=False,color=\"blue\",label=\"Before Auto Proofreading\",alpha=alpha_level)\n",
    "ax.hist(total_distances_no_self_loops_auto/1000,bins=100,density=False,color=\"red\",label=\"After Auto Proofreading\",alpha=alpha_level)\n",
    "ax.set_title(\"Soma to Soma Distance of Direct Connections\")\n",
    "ax.set_xlabel(\"Soma to Soma Distance (um)\")\n",
    "ax.set_ylabel(\"Counts\")\n",
    "\n",
    "ax.set_yscale(\"log\")\n",
    "ax.set_xscale(\"linear\")\n",
    "ax.legend()\n",
    "plt.show()"
   ]
  }
 ],
 "metadata": {
  "kernelspec": {
   "display_name": "Python 3",
   "language": "python",
   "name": "python3"
  },
  "language_info": {
   "codemirror_mode": {
    "name": "ipython",
    "version": 3
   },
   "file_extension": ".py",
   "mimetype": "text/x-python",
   "name": "python",
   "nbconvert_exporter": "python",
   "pygments_lexer": "ipython3",
   "version": "3.6.9"
  }
 },
 "nbformat": 4,
 "nbformat_minor": 4
}
