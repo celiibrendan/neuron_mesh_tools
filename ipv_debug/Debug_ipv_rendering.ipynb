{
 "cells": [
  {
   "cell_type": "code",
   "execution_count": 1,
   "metadata": {},
   "outputs": [],
   "source": [
    "%load_ext autoreload\n",
    "%autoreload 2"
   ]
  },
  {
   "cell_type": "code",
   "execution_count": 2,
   "metadata": {},
   "outputs": [
    {
     "name": "stderr",
     "output_type": "stream",
     "text": [
      "INFO - 2021-06-16 15:41:00,043 - settings - Setting database.host to at-database.ad.bcm.edu\n",
      "INFO - 2021-06-16 15:41:00,045 - settings - Setting database.user to celiib\n",
      "INFO - 2021-06-16 15:41:00,046 - settings - Setting database.password to newceliipass\n",
      "INFO - 2021-06-16 15:41:00,046 - settings - Setting database.host to at-database.ad.bcm.edu\n",
      "INFO - 2021-06-16 15:41:00,047 - settings - Setting database.user to celiib\n",
      "INFO - 2021-06-16 15:41:00,048 - settings - Setting database.password to newceliipass\n",
      "INFO - 2021-06-16 15:41:00,059 - settings - Setting stores to {'minnie65': {'protocol': 'file', 'location': '/mnt/dj-stor01/platinum/minnie65', 'stage': '/mnt/dj-stor01/platinum/minnie65'}, 'meshes': {'protocol': 'file', 'location': '/mnt/dj-stor01/platinum/minnie65/02/meshes', 'stage': '/mnt/dj-stor01/platinum/minnie65/02/meshes'}, 'decimated_meshes': {'protocol': 'file', 'location': '/mnt/dj-stor01/platinum/minnie65/02/decimated_meshes', 'stage': '/mnt/dj-stor01/platinum/minnie65/02/decimated_meshes'}, 'skeletons': {'protocol': 'file', 'location': '/mnt/dj-stor01/platinum/minnie65/02/skeletons'}}\n",
      "INFO - 2021-06-16 15:41:00,060 - settings - Setting enable_python_native_blobs to True\n",
      "INFO - 2021-06-16 15:41:00,073 - connection - Connected celiib@at-database.ad.bcm.edu:3306\n"
     ]
    },
    {
     "name": "stdout",
     "output_type": "stream",
     "text": [
      "Connecting celiib@at-database.ad.bcm.edu:3306\n"
     ]
    },
    {
     "name": "stderr",
     "output_type": "stream",
     "text": [
      "INFO - 2021-06-16 15:41:00,613 - settings - Setting enable_python_native_blobs to True\n",
      "INFO - 2021-06-16 15:41:00,661 - settings - Setting database.host to at-database.ad.bcm.edu\n",
      "INFO - 2021-06-16 15:41:00,662 - settings - Setting database.user to celiib\n",
      "INFO - 2021-06-16 15:41:00,663 - settings - Setting database.password to newceliipass\n",
      "INFO - 2021-06-16 15:41:00,665 - settings - Setting enable_python_native_blobs to True\n",
      "INFO - 2021-06-16 15:41:01,267 - settings - Setting enable_python_native_blobs to True\n",
      "INFO - 2021-06-16 15:41:01,342 - settings - Setting database.host to at-database.ad.bcm.edu\n",
      "INFO - 2021-06-16 15:41:01,343 - settings - Setting database.user to celiib\n",
      "INFO - 2021-06-16 15:41:01,343 - settings - Setting database.password to newceliipass\n",
      "INFO - 2021-06-16 15:41:01,344 - settings - Setting database.host to at-database.ad.bcm.edu\n",
      "INFO - 2021-06-16 15:41:01,344 - settings - Setting database.user to celiib\n",
      "INFO - 2021-06-16 15:41:01,344 - settings - Setting database.password to newceliipass\n",
      "INFO - 2021-06-16 15:41:01,347 - settings - Setting enable_python_native_blobs to True\n",
      "INFO - 2021-06-16 15:41:02,028 - settings - Setting enable_python_native_blobs to True\n"
     ]
    }
   ],
   "source": [
    "from os import sys\n",
    "sys.path.append(\"/meshAfterParty/\")\n",
    "sys.path.append(\"/meshAfterParty/meshAfterParty\")\n",
    "\n",
    "import datajoint_utils as du"
   ]
  },
  {
   "cell_type": "markdown",
   "metadata": {},
   "source": [
    "# Downloading a large mesh"
   ]
  },
  {
   "cell_type": "code",
   "execution_count": 3,
   "metadata": {},
   "outputs": [],
   "source": [
    "curr_mesh = du.fetch_segment_id_mesh(864691136194042326)"
   ]
  },
  {
   "cell_type": "markdown",
   "metadata": {},
   "source": [
    "# Visualizing Mesh"
   ]
  },
  {
   "cell_type": "code",
   "execution_count": 4,
   "metadata": {},
   "outputs": [],
   "source": [
    "import ipyvolume as ipv\n",
    "ipv.plot_trisurf(*curr_mesh.vertices.T, triangles=curr_mesh.faces)\n",
    "ipv.show()"
   ]
  },
  {
   "cell_type": "code",
   "execution_count": null,
   "metadata": {},
   "outputs": [],
   "source": [
    "print('hi')"
   ]
  },
  {
   "cell_type": "code",
   "execution_count": null,
   "metadata": {},
   "outputs": [],
   "source": []
  }
 ],
 "metadata": {
  "kernelspec": {
   "display_name": "Python 3",
   "language": "python",
   "name": "python3"
  },
  "language_info": {
   "codemirror_mode": {
    "name": "ipython",
    "version": 3
   },
   "file_extension": ".py",
   "mimetype": "text/x-python",
   "name": "python",
   "nbconvert_exporter": "python",
   "pygments_lexer": "ipython3",
   "version": "3.6.9"
  }
 },
 "nbformat": 4,
 "nbformat_minor": 4
}
