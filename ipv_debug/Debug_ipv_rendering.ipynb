{
 "cells": [
  {
   "cell_type": "code",
   "execution_count": 1,
   "metadata": {},
   "outputs": [],
   "source": [
    "%load_ext autoreload\n",
    "%autoreload 2"
   ]
  },
  {
   "cell_type": "code",
   "execution_count": 2,
   "metadata": {},
   "outputs": [
    {
     "name": "stderr",
     "output_type": "stream",
     "text": [
      "INFO - 2021-06-15 19:46:15,897 - settings - Setting database.host to at-database.ad.bcm.edu\n",
      "INFO - 2021-06-15 19:46:15,900 - settings - Setting database.user to celiib\n",
      "INFO - 2021-06-15 19:46:15,901 - settings - Setting database.password to newceliipass\n",
      "INFO - 2021-06-15 19:46:15,901 - settings - Setting database.host to at-database.ad.bcm.edu\n",
      "INFO - 2021-06-15 19:46:15,902 - settings - Setting database.user to celiib\n",
      "INFO - 2021-06-15 19:46:15,903 - settings - Setting database.password to newceliipass\n",
      "INFO - 2021-06-15 19:46:15,906 - settings - Setting stores to {'minnie65': {'protocol': 'file', 'location': '/mnt/dj-stor01/platinum/minnie65', 'stage': '/mnt/dj-stor01/platinum/minnie65'}, 'meshes': {'protocol': 'file', 'location': '/mnt/dj-stor01/platinum/minnie65/02/meshes', 'stage': '/mnt/dj-stor01/platinum/minnie65/02/meshes'}, 'decimated_meshes': {'protocol': 'file', 'location': '/mnt/dj-stor01/platinum/minnie65/02/decimated_meshes', 'stage': '/mnt/dj-stor01/platinum/minnie65/02/decimated_meshes'}, 'skeletons': {'protocol': 'file', 'location': '/mnt/dj-stor01/platinum/minnie65/02/skeletons'}}\n",
      "INFO - 2021-06-15 19:46:15,907 - settings - Setting enable_python_native_blobs to True\n",
      "INFO - 2021-06-15 19:46:15,921 - connection - Connected celiib@at-database.ad.bcm.edu:3306\n"
     ]
    },
    {
     "name": "stdout",
     "output_type": "stream",
     "text": [
      "Connecting celiib@at-database.ad.bcm.edu:3306\n"
     ]
    },
    {
     "name": "stderr",
     "output_type": "stream",
     "text": [
      "INFO - 2021-06-15 19:46:16,456 - settings - Setting enable_python_native_blobs to True\n",
      "INFO - 2021-06-15 19:46:16,513 - settings - Setting database.host to at-database.ad.bcm.edu\n",
      "INFO - 2021-06-15 19:46:16,515 - settings - Setting database.user to celiib\n",
      "INFO - 2021-06-15 19:46:16,516 - settings - Setting database.password to newceliipass\n",
      "INFO - 2021-06-15 19:46:16,518 - settings - Setting enable_python_native_blobs to True\n",
      "INFO - 2021-06-15 19:46:17,084 - settings - Setting enable_python_native_blobs to True\n",
      "INFO - 2021-06-15 19:46:17,164 - settings - Setting database.host to at-database.ad.bcm.edu\n",
      "INFO - 2021-06-15 19:46:17,166 - settings - Setting database.user to celiib\n",
      "INFO - 2021-06-15 19:46:17,167 - settings - Setting database.password to newceliipass\n",
      "INFO - 2021-06-15 19:46:17,168 - settings - Setting database.host to at-database.ad.bcm.edu\n",
      "INFO - 2021-06-15 19:46:17,169 - settings - Setting database.user to celiib\n",
      "INFO - 2021-06-15 19:46:17,170 - settings - Setting database.password to newceliipass\n",
      "INFO - 2021-06-15 19:46:17,173 - settings - Setting enable_python_native_blobs to True\n",
      "INFO - 2021-06-15 19:46:17,797 - settings - Setting enable_python_native_blobs to True\n"
     ]
    }
   ],
   "source": [
    "from os import sys\n",
    "sys.path.append(\"/meshAfterParty/\")\n",
    "sys.path.append(\"/meshAfterParty/meshAfterParty\")\n",
    "\n",
    "import datajoint_utils as du"
   ]
  },
  {
   "cell_type": "markdown",
   "metadata": {},
   "source": [
    "# Downloading a large mesh"
   ]
  },
  {
   "cell_type": "code",
   "execution_count": 3,
   "metadata": {},
   "outputs": [],
   "source": [
    "curr_mesh = du.fetch_segment_id_mesh(864691136194042326)"
   ]
  },
  {
   "cell_type": "markdown",
   "metadata": {},
   "source": [
    "# Visualizing Mesh"
   ]
  },
  {
   "cell_type": "code",
   "execution_count": 4,
   "metadata": {},
   "outputs": [],
   "source": [
    "import ipyvolume as ipv\n",
    "ipv.plot_trisurf(curr_mesh.vertices[:,0],\n",
    "                                   curr_mesh.vertices[:,1],\n",
    "                                   curr_mesh.vertices[:,2],\n",
    "                                   triangles=curr_mesh.faces)\n",
    "ipv.show()"
   ]
  },
  {
   "cell_type": "code",
   "execution_count": null,
   "metadata": {},
   "outputs": [],
   "source": [
    "print('hi')"
   ]
  },
  {
   "cell_type": "code",
   "execution_count": null,
   "metadata": {},
   "outputs": [],
   "source": []
  }
 ],
 "metadata": {
  "kernelspec": {
   "display_name": "Python 3",
   "language": "python",
   "name": "python3"
  },
  "language_info": {
   "codemirror_mode": {
    "name": "ipython",
    "version": 3
   },
   "file_extension": ".py",
   "mimetype": "text/x-python",
   "name": "python",
   "nbconvert_exporter": "python",
   "pygments_lexer": "ipython3",
   "version": "3.6.9"
  }
 },
 "nbformat": 4,
 "nbformat_minor": 4
}
