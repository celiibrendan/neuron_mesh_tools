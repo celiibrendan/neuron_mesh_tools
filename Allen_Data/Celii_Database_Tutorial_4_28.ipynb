{
 "cells": [
  {
   "cell_type": "code",
   "execution_count": null,
   "metadata": {},
   "outputs": [],
   "source": [
    "\"\"\"\n",
    "Practice Performing Functions For interfacing with the \n",
    "allen institute database\n",
    "\n",
    "\n",
    "\n",
    "\n",
    "\"\"\""
   ]
  },
  {
   "cell_type": "code",
   "execution_count": 1,
   "metadata": {},
   "outputs": [],
   "source": [
    "%load_ext autoreload\n",
    "%autoreload 2"
   ]
  },
  {
   "cell_type": "code",
   "execution_count": 2,
   "metadata": {},
   "outputs": [
    {
     "name": "stderr",
     "output_type": "stream",
     "text": [
      "INFO - 2021-05-03 22:04:39,860 - settings - Setting database.host to at-database.ad.bcm.edu\n",
      "INFO - 2021-05-03 22:04:39,863 - settings - Setting database.user to celiib\n",
      "INFO - 2021-05-03 22:04:39,865 - settings - Setting database.password to newceliipass\n",
      "INFO - 2021-05-03 22:04:39,870 - settings - Setting stores to {'minnie65': {'protocol': 'file', 'location': '/mnt/dj-stor01/platinum/minnie65', 'stage': '/mnt/dj-stor01/platinum/minnie65'}, 'meshes': {'protocol': 'file', 'location': '/mnt/dj-stor01/platinum/minnie65/02/meshes', 'stage': '/mnt/dj-stor01/platinum/minnie65/02/meshes'}, 'decimated_meshes': {'protocol': 'file', 'location': '/mnt/dj-stor01/platinum/minnie65/02/decimated_meshes', 'stage': '/mnt/dj-stor01/platinum/minnie65/02/decimated_meshes'}, 'skeletons': {'protocol': 'file', 'location': '/mnt/dj-stor01/platinum/minnie65/02/skeletons'}}\n",
      "INFO - 2021-05-03 22:04:39,872 - settings - Setting enable_python_native_blobs to True\n",
      "INFO - 2021-05-03 22:04:39,886 - connection - Connected celiib@at-database.ad.bcm.edu:3306\n"
     ]
    },
    {
     "name": "stdout",
     "output_type": "stream",
     "text": [
      "Connecting celiib@at-database.ad.bcm.edu:3306\n"
     ]
    },
    {
     "name": "stderr",
     "output_type": "stream",
     "text": [
      "INFO - 2021-05-03 22:04:40,467 - settings - Setting enable_python_native_blobs to True\n",
      "INFO - 2021-05-03 22:04:40,472 - settings - Setting database.host to at-database.ad.bcm.edu\n",
      "INFO - 2021-05-03 22:04:40,475 - settings - Setting database.user to celiib\n",
      "INFO - 2021-05-03 22:04:40,477 - settings - Setting database.password to newceliipass\n",
      "INFO - 2021-05-03 22:04:40,478 - settings - Setting database.host to at-database.ad.bcm.edu\n",
      "INFO - 2021-05-03 22:04:40,480 - settings - Setting database.user to celiib\n",
      "INFO - 2021-05-03 22:04:40,482 - settings - Setting database.password to newceliipass\n",
      "INFO - 2021-05-03 22:04:40,484 - settings - Setting enable_python_native_blobs to True\n",
      "INFO - 2021-05-03 22:04:40,959 - settings - Setting enable_python_native_blobs to True\n",
      "INFO - 2021-05-03 22:04:41,007 - settings - Setting database.host to at-database.ad.bcm.edu\n",
      "INFO - 2021-05-03 22:04:41,009 - settings - Setting database.user to celiib\n",
      "INFO - 2021-05-03 22:04:41,010 - settings - Setting database.password to newceliipass\n",
      "INFO - 2021-05-03 22:04:41,013 - settings - Setting enable_python_native_blobs to True\n",
      "INFO - 2021-05-03 22:04:41,588 - settings - Setting enable_python_native_blobs to True\n"
     ]
    }
   ],
   "source": [
    "from os import sys\n",
    "sys.path.append(\"/meshAfterParty/meshAfterParty/\")\n",
    "import datajoint as dj\n",
    "import datajoint_utils as du\n",
    "\n",
    "minnie,schema = du.configure_minnie_vm()\n"
   ]
  },
  {
   "cell_type": "code",
   "execution_count": 3,
   "metadata": {},
   "outputs": [],
   "source": [
    "import allen_utils as alu"
   ]
  },
  {
   "cell_type": "code",
   "execution_count": 4,
   "metadata": {},
   "outputs": [],
   "source": [
    "\n",
    "from annotationframeworkclient import FrameworkClient\n",
    "client = FrameworkClient('minnie65_phase3_v1')\n",
    "client.materialize._version = 82\n",
    "client.materialize.get_tables()"
   ]
  },
  {
   "cell_type": "markdown",
   "metadata": {},
   "source": [
    "# Viewing the Annotation tables Available"
   ]
  },
  {
   "cell_type": "code",
   "execution_count": 5,
   "metadata": {
    "scrolled": true
   },
   "outputs": [
    {
     "name": "stdout",
     "output_type": "stream",
     "text": [
      "https://minnie.microns-daf.com/annotation/api/v2/aligned_volume/minnie65_phase3/table\n"
     ]
    },
    {
     "data": {
      "text/plain": [
       "['functional_coreg',\n",
       " 'proofreading_functional_coreg_v2',\n",
       " 'proofreading_functional_coreg',\n",
       " 'nucleus_detection_v0',\n",
       " 'allen_v1_column_thalamic',\n",
       " 'my_new_table2',\n",
       " 'l5_mc_cg',\n",
       " 'allen_v1_column_pyc_proof',\n",
       " 'allen_v1_column_types_v3',\n",
       " 'allen_v1_column_types_slanted',\n",
       " 'allen_v1_column_types',\n",
       " 'synapses_pni_1M',\n",
       " 'synapses_pni_2',\n",
       " 'nucleus_neuron_svm',\n",
       " 'allen_v1_column_types_v2',\n",
       " 'allen_v1_column_proofreading']"
      ]
     },
     "execution_count": 5,
     "metadata": {},
     "output_type": "execute_result"
    }
   ],
   "source": [
    "client.annotation.get_tables()"
   ]
  },
  {
   "cell_type": "code",
   "execution_count": 6,
   "metadata": {},
   "outputs": [
    {
     "data": {
      "text/plain": [
       "{'soma_table': 'nucleus_neuron_svm',\n",
       " 'local_server': 'https://minnie.microns-daf.com',\n",
       " 'aligned_volume': {'name': 'minnie65_phase3',\n",
       "  'image_source': 'precomputed://https://seungdata.princeton.edu/minnie65-phase3-em/aligned/v1',\n",
       "  'id': 1,\n",
       "  'description': \"This is the second alignment of the IARPA 'minnie65' dataset, completed in the spring of 2020 that used the seamless approach.\"},\n",
       " 'analysis_database': None,\n",
       " 'viewer_site': 'http://neuromancer-seung-import.appspot.com/',\n",
       " 'synapse_table': 'synapses_pni_2',\n",
       " 'description': 'This is the first version of Minnie that has proofreading enabled. Was first enabled on June 24, 2020. ',\n",
       " 'segmentation_source': 'graphene://https://minnie.microns-daf.com/segmentation/table/minnie3_v1'}"
      ]
     },
     "execution_count": 6,
     "metadata": {},
     "output_type": "execute_result"
    }
   ],
   "source": [
    "client.info.get_datastack_info()"
   ]
  },
  {
   "cell_type": "code",
   "execution_count": 7,
   "metadata": {},
   "outputs": [
    {
     "data": {
      "text/plain": [
       "{'table_name': 'synapses_pni_2',\n",
       " 'valid': True,\n",
       " 'id': 36,\n",
       " 'deleted': None,\n",
       " 'description': 'Automated synapse detection performed by Nick Turner from the Seung Lab.  size represents the number of (4x4x40 nm) voxels painted by the automated cleft segmentation, and the IDs reference the IDs of the cleft segmentation.  Ctr_pt reflects the centroid of the cleft segmentation. The cleft segmentation volume is located in the flat_segmentation_source field. ',\n",
       " 'flat_segmentation_source': None,\n",
       " 'schema_type': 'synapse',\n",
       " 'created': '2020-11-04T06:48:36.953637',\n",
       " 'user_id': 'foo@bar.com',\n",
       " 'reference_table': None}"
      ]
     },
     "execution_count": 7,
     "metadata": {},
     "output_type": "execute_result"
    }
   ],
   "source": [
    "#getting the metadata of the table \n",
    "ann_metadata = client.annotation.get_table_metadata(client.info.get_datastack_info()[\"synapse_table\"])\n",
    "ann_metadata"
   ]
  },
  {
   "cell_type": "markdown",
   "metadata": {},
   "source": [
    "# Dealing with table versions fo rmaterialization"
   ]
  },
  {
   "cell_type": "code",
   "execution_count": 8,
   "metadata": {},
   "outputs": [
    {
     "name": "stdout",
     "output_type": "stream",
     "text": [
      "Automatic version = 87\n",
      "[82, 67, 75, 80, 84, 85, 86, 87]\n"
     ]
    }
   ],
   "source": [
    "# specifying versions\n",
    "print(f\"Automatic version = {client.materialize.version}\")\n",
    "print(client.materialize.get_versions())\n",
    "\n",
    "#how to se the version to whatever you want\n",
    "client.materialize._version = 82\n",
    "client.materialize.get_tables()"
   ]
  },
  {
   "cell_type": "code",
   "execution_count": 9,
   "metadata": {},
   "outputs": [
    {
     "data": {
      "text/plain": [
       "['functional_coreg',\n",
       " 'proofreading_functional_coreg_v2',\n",
       " 'nucleus_detection_v0',\n",
       " 'allen_v1_column_thalamic',\n",
       " 'l5_mc_cg',\n",
       " 'allen_v1_column_pyc_proof',\n",
       " 'allen_v1_column_types_v3',\n",
       " 'synapses_pni_2',\n",
       " 'nucleus_neuron_svm',\n",
       " 'allen_v1_column_types_v2',\n",
       " 'allen_v1_column_proofreading']"
      ]
     },
     "execution_count": 9,
     "metadata": {},
     "output_type": "execute_result"
    }
   ],
   "source": [
    "# the tables available for materialization\n",
    "client.materialize.get_tables()"
   ]
  },
  {
   "cell_type": "markdown",
   "metadata": {},
   "source": [
    "# Getting Data From a Table"
   ]
  },
  {
   "cell_type": "code",
   "execution_count": null,
   "metadata": {},
   "outputs": [],
   "source": [
    "\"\"\"\n",
    "Important Arguments:\n",
    "filter_in_dict (dict , optional): \n",
    "    keys are column names, values are allowed entries.\n",
    "    Defaults to None.\n",
    "filter_out_dict (dict, optional): \n",
    "    keys are column names, values are not allowed entries.\n",
    "    Defaults to None.\n",
    "filter_equal_dict (dict, optional): \n",
    "    inner layer: keys are column names, values are specified entry.\n",
    "    Defaults to None.\n",
    "offset (int, optional): offset in query result\n",
    "limit (int, optional): maximum results to return (server will set upper limit, see get_server_config)\n",
    "select_columns (list of str, optional): columns to select. Defaults to None.\n",
    "offset (int, optional): result offset to use. Defaults to None\n",
    "\n",
    "\"\"\"\n",
    "\n",
    "client.materialize.query_table?"
   ]
  },
  {
   "cell_type": "code",
   "execution_count": 10,
   "metadata": {},
   "outputs": [
    {
     "data": {
      "text/plain": [
       "10"
      ]
     },
     "execution_count": 10,
     "metadata": {},
     "output_type": "execute_result"
    }
   ],
   "source": [
    "client.materialize.get_annotation_count('l5_mc_cg')"
   ]
  },
  {
   "cell_type": "markdown",
   "metadata": {},
   "source": [
    "# Getting Table Metadata"
   ]
  },
  {
   "cell_type": "code",
   "execution_count": null,
   "metadata": {},
   "outputs": [],
   "source": [
    "alu.client.annotation.get_table_metadata(\"nucleus_detection_v0\")"
   ]
  },
  {
   "cell_type": "markdown",
   "metadata": {},
   "source": [
    "# Practice Getting the Synapses for a certain segment Id"
   ]
  },
  {
   "cell_type": "code",
   "execution_count": null,
   "metadata": {},
   "outputs": [],
   "source": [
    "syn_ids = client.materialize.query_table('synapses_pni_2',\n",
    "                                         filter_in_dict=dict(pre_pt_root_id=[864691135994684074]))\n",
    "syn_ids"
   ]
  },
  {
   "cell_type": "code",
   "execution_count": null,
   "metadata": {},
   "outputs": [],
   "source": [
    "segment_id = 864691135564655959\n",
    "svids = alu.segment_id_to_supervoxel_ids(segment_id)"
   ]
  },
  {
   "cell_type": "code",
   "execution_count": null,
   "metadata": {},
   "outputs": [],
   "source": [
    "import datetime\n",
    "timestamp=datetime.datetime(2020, 8, 1, 1, 0, 0)\n",
    "alu.supervoxel_id_to_segment_id(87763499366916034,timestamp=timestamp)"
   ]
  },
  {
   "cell_type": "code",
   "execution_count": null,
   "metadata": {},
   "outputs": [],
   "source": [
    "# svids --> synapses\n",
    "alu.supervoxels_to_synapses(svids[:1])"
   ]
  },
  {
   "cell_type": "markdown",
   "metadata": {},
   "source": [
    "# Downloading the Nucleus Table from the current version"
   ]
  },
  {
   "cell_type": "code",
   "execution_count": null,
   "metadata": {},
   "outputs": [],
   "source": [
    "nuc_df = client.materialize.query_table('nucleus_neuron_svm',\n",
    "                                       filter_equal_dict={'cell_type':'neuron'},\n",
    "                                       filter_out_dict={'pt_root_id':[0]})\n",
    "nuc_df"
   ]
  },
  {
   "cell_type": "code",
   "execution_count": null,
   "metadata": {},
   "outputs": [],
   "source": [
    "segment_id = 864691134488295985\n",
    "(minnie.AutoProofreadNeurons3() & f\"segment_id = {segment_id}\").proj(\"nucleus_id\")"
   ]
  },
  {
   "cell_type": "code",
   "execution_count": null,
   "metadata": {},
   "outputs": [],
   "source": [
    "nuc_df[nuc_df[\"pt_root_id\"]==segment_id]"
   ]
  },
  {
   "cell_type": "markdown",
   "metadata": {},
   "source": [
    "# Old Nucleus Table"
   ]
  },
  {
   "cell_type": "code",
   "execution_count": null,
   "metadata": {},
   "outputs": [],
   "source": []
  },
  {
   "cell_type": "code",
   "execution_count": null,
   "metadata": {},
   "outputs": [],
   "source": [
    "aug_nuc_df[aug_nuc_df[\"flat_nuc_id\"] == 160327 ]"
   ]
  },
  {
   "cell_type": "markdown",
   "metadata": {},
   "source": [
    "# Get The Original Segment_id of Proofread Inhibitory"
   ]
  },
  {
   "cell_type": "code",
   "execution_count": null,
   "metadata": {},
   "outputs": [],
   "source": [
    "client.materialize.get_tables()"
   ]
  },
  {
   "cell_type": "code",
   "execution_count": null,
   "metadata": {},
   "outputs": [],
   "source": [
    "client.materialize.query_table(\"l5_mc_cg\")"
   ]
  },
  {
   "cell_type": "code",
   "execution_count": null,
   "metadata": {},
   "outputs": [],
   "source": [
    "segment_id = 864691135699372834\n",
    "nucleus_id = nuc_df[nuc_df[\"pt_root_id\"]==segment_id][\"id\"].to_list()[0]\n",
    "aug_nuc_df[aug_nuc_df[\"flat_nuc_id\"] == nucleus_id ][\"root_id\"]"
   ]
  },
  {
   "cell_type": "code",
   "execution_count": null,
   "metadata": {},
   "outputs": [],
   "source": []
  }
 ],
 "metadata": {
  "kernelspec": {
   "display_name": "Python 3",
   "language": "python",
   "name": "python3"
  },
  "language_info": {
   "codemirror_mode": {
    "name": "ipython",
    "version": 3
   },
   "file_extension": ".py",
   "mimetype": "text/x-python",
   "name": "python",
   "nbconvert_exporter": "python",
   "pygments_lexer": "ipython3",
   "version": "3.6.9"
  }
 },
 "nbformat": 4,
 "nbformat_minor": 4
}
