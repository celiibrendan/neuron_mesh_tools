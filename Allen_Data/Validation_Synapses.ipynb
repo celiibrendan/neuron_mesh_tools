{
 "cells": [
  {
   "cell_type": "code",
   "execution_count": 1,
   "metadata": {},
   "outputs": [],
   "source": [
    "from os import sys\n",
    "sys.path.append(\"/meshAfterParty/\")"
   ]
  },
  {
   "cell_type": "code",
   "execution_count": 13,
   "metadata": {},
   "outputs": [],
   "source": [
    "import system_utils as su\n",
    "proofread_nuc_merge = su.load_object(\"proofread_nuc_merge.pkl\")"
   ]
  },
  {
   "cell_type": "code",
   "execution_count": 15,
   "metadata": {},
   "outputs": [
    {
     "data": {
      "text/html": [
       "<div>\n",
       "<style scoped>\n",
       "    .dataframe tbody tr th:only-of-type {\n",
       "        vertical-align: middle;\n",
       "    }\n",
       "\n",
       "    .dataframe tbody tr th {\n",
       "        vertical-align: top;\n",
       "    }\n",
       "\n",
       "    .dataframe thead th {\n",
       "        text-align: right;\n",
       "    }\n",
       "</style>\n",
       "<table border=\"1\" class=\"dataframe\">\n",
       "  <thead>\n",
       "    <tr style=\"text-align: right;\">\n",
       "      <th></th>\n",
       "      <th>nuc_id</th>\n",
       "      <th>pt_position</th>\n",
       "      <th>pt_supervoxel_id_v7</th>\n",
       "      <th>pt_root_id_v7</th>\n",
       "      <th>nuc_size</th>\n",
       "      <th>nuc_svid</th>\n",
       "      <th>pt_root_id_aug</th>\n",
       "    </tr>\n",
       "  </thead>\n",
       "  <tbody>\n",
       "    <tr>\n",
       "      <th>0</th>\n",
       "      <td>460053</td>\n",
       "      <td>[275408, 160112, 23827]</td>\n",
       "      <td>102610961730757399</td>\n",
       "      <td>864691135617953423</td>\n",
       "      <td>1750277</td>\n",
       "      <td>102610961730742327</td>\n",
       "      <td>864691136105493209</td>\n",
       "    </tr>\n",
       "    <tr>\n",
       "      <th>1</th>\n",
       "      <td>460391</td>\n",
       "      <td>[278352, 169248, 25233]</td>\n",
       "      <td>103034411347542216</td>\n",
       "      <td>864691136194298600</td>\n",
       "      <td>2955379</td>\n",
       "      <td>103034411347543599</td>\n",
       "      <td>864691135272164113</td>\n",
       "    </tr>\n",
       "    <tr>\n",
       "      <th>2</th>\n",
       "      <td>487512</td>\n",
       "      <td>[286992, 125056, 23883]</td>\n",
       "      <td>104224701202999594</td>\n",
       "      <td>864691135272206865</td>\n",
       "      <td>1862850</td>\n",
       "      <td>104224701202999592</td>\n",
       "      <td>864691136618403213</td>\n",
       "    </tr>\n",
       "    <tr>\n",
       "      <th>3</th>\n",
       "      <td>489675</td>\n",
       "      <td>[290592, 135408, 26950]</td>\n",
       "      <td>104718725923904048</td>\n",
       "      <td>864691135440543560</td>\n",
       "      <td>1567105</td>\n",
       "      <td>104718725923905420</td>\n",
       "      <td>864691135974454639</td>\n",
       "    </tr>\n",
       "    <tr>\n",
       "      <th>4</th>\n",
       "      <td>493419</td>\n",
       "      <td>[291680, 169776, 22275]</td>\n",
       "      <td>104864067013122239</td>\n",
       "      <td>864691135538173042</td>\n",
       "      <td>1994265</td>\n",
       "      <td>104864067013122295</td>\n",
       "      <td>864691136003930314</td>\n",
       "    </tr>\n",
       "    <tr>\n",
       "      <th>...</th>\n",
       "      <td>...</td>\n",
       "      <td>...</td>\n",
       "      <td>...</td>\n",
       "      <td>...</td>\n",
       "      <td>...</td>\n",
       "      <td>...</td>\n",
       "      <td>...</td>\n",
       "    </tr>\n",
       "    <tr>\n",
       "      <th>64</th>\n",
       "      <td>330079</td>\n",
       "      <td>[204800, 143856, 19183]</td>\n",
       "      <td>92897875406955214</td>\n",
       "      <td>864691135564752471</td>\n",
       "      <td>1511714</td>\n",
       "      <td>92897875406955249</td>\n",
       "      <td>864691136311740477</td>\n",
       "    </tr>\n",
       "    <tr>\n",
       "      <th>65</th>\n",
       "      <td>330326</td>\n",
       "      <td>[206832, 155440, 20505]</td>\n",
       "      <td>93180931132697069</td>\n",
       "      <td>864691136378815445</td>\n",
       "      <td>1477093</td>\n",
       "      <td>93180931132697069</td>\n",
       "      <td>864691135491233631</td>\n",
       "    </tr>\n",
       "    <tr>\n",
       "      <th>66</th>\n",
       "      <td>331945</td>\n",
       "      <td>[197984, 174784, 16967]</td>\n",
       "      <td>91987204632598057</td>\n",
       "      <td>864691135953898760</td>\n",
       "      <td>1375875</td>\n",
       "      <td>91987273352089650</td>\n",
       "      <td>864691135945413668</td>\n",
       "    </tr>\n",
       "    <tr>\n",
       "      <th>67</th>\n",
       "      <td>332199</td>\n",
       "      <td>[202352, 168016, 17815]</td>\n",
       "      <td>92619630044497997</td>\n",
       "      <td>864691137019596142</td>\n",
       "      <td>1431075</td>\n",
       "      <td>92619630044497997</td>\n",
       "      <td>864691135393964789</td>\n",
       "    </tr>\n",
       "    <tr>\n",
       "      <th>68</th>\n",
       "      <td>335175</td>\n",
       "      <td>[198880, 188864, 19763]</td>\n",
       "      <td>92129866602107749</td>\n",
       "      <td>864691135367058169</td>\n",
       "      <td>1529514</td>\n",
       "      <td>92129866602107749</td>\n",
       "      <td>864691135113167769</td>\n",
       "    </tr>\n",
       "  </tbody>\n",
       "</table>\n",
       "<p>69 rows × 7 columns</p>\n",
       "</div>"
      ],
      "text/plain": [
       "    nuc_id              pt_position  pt_supervoxel_id_v7       pt_root_id_v7  \\\n",
       "0   460053  [275408, 160112, 23827]   102610961730757399  864691135617953423   \n",
       "1   460391  [278352, 169248, 25233]   103034411347542216  864691136194298600   \n",
       "2   487512  [286992, 125056, 23883]   104224701202999594  864691135272206865   \n",
       "3   489675  [290592, 135408, 26950]   104718725923904048  864691135440543560   \n",
       "4   493419  [291680, 169776, 22275]   104864067013122239  864691135538173042   \n",
       "..     ...                      ...                  ...                 ...   \n",
       "64  330079  [204800, 143856, 19183]    92897875406955214  864691135564752471   \n",
       "65  330326  [206832, 155440, 20505]    93180931132697069  864691136378815445   \n",
       "66  331945  [197984, 174784, 16967]    91987204632598057  864691135953898760   \n",
       "67  332199  [202352, 168016, 17815]    92619630044497997  864691137019596142   \n",
       "68  335175  [198880, 188864, 19763]    92129866602107749  864691135367058169   \n",
       "\n",
       "    nuc_size            nuc_svid      pt_root_id_aug  \n",
       "0    1750277  102610961730742327  864691136105493209  \n",
       "1    2955379  103034411347543599  864691135272164113  \n",
       "2    1862850  104224701202999592  864691136618403213  \n",
       "3    1567105  104718725923905420  864691135974454639  \n",
       "4    1994265  104864067013122295  864691136003930314  \n",
       "..       ...                 ...                 ...  \n",
       "64   1511714   92897875406955249  864691136311740477  \n",
       "65   1477093   93180931132697069  864691135491233631  \n",
       "66   1375875   91987273352089650  864691135945413668  \n",
       "67   1431075   92619630044497997  864691135393964789  \n",
       "68   1529514   92129866602107749  864691135113167769  \n",
       "\n",
       "[69 rows x 7 columns]"
      ]
     },
     "execution_count": 15,
     "metadata": {},
     "output_type": "execute_result"
    }
   ],
   "source": [
    "proofread_nuc_merge"
   ]
  },
  {
   "cell_type": "code",
   "execution_count": 14,
   "metadata": {},
   "outputs": [
    {
     "data": {
      "text/plain": [
       "0     864691135617953423\n",
       "1     864691136194298600\n",
       "2     864691135272206865\n",
       "3     864691135440543560\n",
       "4     864691135538173042\n",
       "             ...        \n",
       "64    864691135564752471\n",
       "65    864691136378815445\n",
       "66    864691135953898760\n",
       "67    864691137019596142\n",
       "68    864691135367058169\n",
       "Name: pt_root_id_v7, Length: 69, dtype: int64"
      ]
     },
     "execution_count": 14,
     "metadata": {},
     "output_type": "execute_result"
    }
   ],
   "source": [
    "proofread_nuc_merge[\"pt_root_id_v7\"]"
   ]
  },
  {
   "cell_type": "code",
   "execution_count": 28,
   "metadata": {},
   "outputs": [
    {
     "data": {
      "text/plain": [
       "((69,), (69,))"
      ]
     },
     "execution_count": 28,
     "metadata": {},
     "output_type": "execute_result"
    }
   ],
   "source": [
    "import numpy as np\n",
    "proofread_neurons_v7 = np.unique(proofread_nuc_merge[\"pt_root_id_v7\"].tolist())\n",
    "proofread_neurons_aug = np.unique(proofread_nuc_merge[\"pt_root_id_aug\"].tolist())\n",
    "proofread_neurons_v7.shape,proofread_neurons_aug.shape\n"
   ]
  },
  {
   "cell_type": "code",
   "execution_count": 12,
   "metadata": {},
   "outputs": [
    {
     "data": {
      "text/plain": [
       "((69,), (69,))"
      ]
     },
     "execution_count": 12,
     "metadata": {},
     "output_type": "execute_result"
    }
   ],
   "source": [
    "np.unique(proofread_neurons_v7).shape, np.unique(proofread_neurons_aug).shape"
   ]
  },
  {
   "cell_type": "code",
   "execution_count": 4,
   "metadata": {},
   "outputs": [],
   "source": [
    "ex_neuron_data = su.load_object(\"864691136105493209_out\")"
   ]
  },
  {
   "cell_type": "code",
   "execution_count": 35,
   "metadata": {},
   "outputs": [
    {
     "data": {
      "text/plain": [
       "True"
      ]
     },
     "execution_count": 35,
     "metadata": {},
     "output_type": "execute_result"
    }
   ],
   "source": [
    "864691136105493209 in ex_neuron_data[\"post_pt_root_id_Aug\"].tolist()"
   ]
  },
  {
   "cell_type": "code",
   "execution_count": 45,
   "metadata": {},
   "outputs": [
    {
     "data": {
      "text/plain": [
       "array([107, 108, 131, 136, 137, 138, 143, 144, 156, 158, 176])"
      ]
     },
     "execution_count": 45,
     "metadata": {},
     "output_type": "execute_result"
    }
   ],
   "source": [
    "np.where(np.array(ex_neuron_data[\"post_pt_root_id_Aug\"].tolist()) == 864691136105493209)[0]"
   ]
  },
  {
   "cell_type": "code",
   "execution_count": 46,
   "metadata": {},
   "outputs": [
    {
     "data": {
      "text/plain": [
       "864691136105493209"
      ]
     },
     "execution_count": 46,
     "metadata": {},
     "output_type": "execute_result"
    }
   ],
   "source": [
    "ex_neuron_data[\"pre_pt_root_id_Aug\"].tolist()[107]"
   ]
  },
  {
   "cell_type": "code",
   "execution_count": 44,
   "metadata": {},
   "outputs": [
    {
     "ename": "KeyError",
     "evalue": "\"None of [Int64Index([107, 108, 131, 136, 137, 138, 143, 144, 156, 158, 176], dtype='int64')] are in the [columns]\"",
     "output_type": "error",
     "traceback": [
      "\u001b[0;31m---------------------------------------------------------------------------\u001b[0m",
      "\u001b[0;31mKeyError\u001b[0m                                  Traceback (most recent call last)",
      "\u001b[0;32m<ipython-input-44-35f9cba4665b>\u001b[0m in \u001b[0;36m<module>\u001b[0;34m\u001b[0m\n\u001b[0;32m----> 1\u001b[0;31m \u001b[0mex_neuron_data\u001b[0m\u001b[0;34m[\u001b[0m\u001b[0mnp\u001b[0m\u001b[0;34m.\u001b[0m\u001b[0mwhere\u001b[0m\u001b[0;34m(\u001b[0m\u001b[0mnp\u001b[0m\u001b[0;34m.\u001b[0m\u001b[0marray\u001b[0m\u001b[0;34m(\u001b[0m\u001b[0mex_neuron_data\u001b[0m\u001b[0;34m[\u001b[0m\u001b[0;34m\"post_pt_root_id_Aug\"\u001b[0m\u001b[0;34m]\u001b[0m\u001b[0;34m.\u001b[0m\u001b[0mtolist\u001b[0m\u001b[0;34m(\u001b[0m\u001b[0;34m)\u001b[0m\u001b[0;34m)\u001b[0m \u001b[0;34m==\u001b[0m \u001b[0;36m864691136105493209\u001b[0m\u001b[0;34m)\u001b[0m\u001b[0;34m[\u001b[0m\u001b[0;36m0\u001b[0m\u001b[0;34m]\u001b[0m\u001b[0;34m]\u001b[0m\u001b[0;34m\u001b[0m\u001b[0;34m\u001b[0m\u001b[0m\n\u001b[0m",
      "\u001b[0;32m/usr/local/lib/python3.6/dist-packages/pandas/core/frame.py\u001b[0m in \u001b[0;36m__getitem__\u001b[0;34m(self, key)\u001b[0m\n\u001b[1;32m   2804\u001b[0m             \u001b[0;32mif\u001b[0m \u001b[0mis_iterator\u001b[0m\u001b[0;34m(\u001b[0m\u001b[0mkey\u001b[0m\u001b[0;34m)\u001b[0m\u001b[0;34m:\u001b[0m\u001b[0;34m\u001b[0m\u001b[0;34m\u001b[0m\u001b[0m\n\u001b[1;32m   2805\u001b[0m                 \u001b[0mkey\u001b[0m \u001b[0;34m=\u001b[0m \u001b[0mlist\u001b[0m\u001b[0;34m(\u001b[0m\u001b[0mkey\u001b[0m\u001b[0;34m)\u001b[0m\u001b[0;34m\u001b[0m\u001b[0;34m\u001b[0m\u001b[0m\n\u001b[0;32m-> 2806\u001b[0;31m             \u001b[0mindexer\u001b[0m \u001b[0;34m=\u001b[0m \u001b[0mself\u001b[0m\u001b[0;34m.\u001b[0m\u001b[0mloc\u001b[0m\u001b[0;34m.\u001b[0m\u001b[0m_get_listlike_indexer\u001b[0m\u001b[0;34m(\u001b[0m\u001b[0mkey\u001b[0m\u001b[0;34m,\u001b[0m \u001b[0maxis\u001b[0m\u001b[0;34m=\u001b[0m\u001b[0;36m1\u001b[0m\u001b[0;34m,\u001b[0m \u001b[0mraise_missing\u001b[0m\u001b[0;34m=\u001b[0m\u001b[0;32mTrue\u001b[0m\u001b[0;34m)\u001b[0m\u001b[0;34m[\u001b[0m\u001b[0;36m1\u001b[0m\u001b[0;34m]\u001b[0m\u001b[0;34m\u001b[0m\u001b[0;34m\u001b[0m\u001b[0m\n\u001b[0m\u001b[1;32m   2807\u001b[0m \u001b[0;34m\u001b[0m\u001b[0m\n\u001b[1;32m   2808\u001b[0m         \u001b[0;31m# take() does not accept boolean indexers\u001b[0m\u001b[0;34m\u001b[0m\u001b[0;34m\u001b[0m\u001b[0;34m\u001b[0m\u001b[0m\n",
      "\u001b[0;32m/usr/local/lib/python3.6/dist-packages/pandas/core/indexing.py\u001b[0m in \u001b[0;36m_get_listlike_indexer\u001b[0;34m(self, key, axis, raise_missing)\u001b[0m\n\u001b[1;32m   1551\u001b[0m \u001b[0;34m\u001b[0m\u001b[0m\n\u001b[1;32m   1552\u001b[0m         self._validate_read_indexer(\n\u001b[0;32m-> 1553\u001b[0;31m             \u001b[0mkeyarr\u001b[0m\u001b[0;34m,\u001b[0m \u001b[0mindexer\u001b[0m\u001b[0;34m,\u001b[0m \u001b[0mo\u001b[0m\u001b[0;34m.\u001b[0m\u001b[0m_get_axis_number\u001b[0m\u001b[0;34m(\u001b[0m\u001b[0maxis\u001b[0m\u001b[0;34m)\u001b[0m\u001b[0;34m,\u001b[0m \u001b[0mraise_missing\u001b[0m\u001b[0;34m=\u001b[0m\u001b[0mraise_missing\u001b[0m\u001b[0;34m\u001b[0m\u001b[0;34m\u001b[0m\u001b[0m\n\u001b[0m\u001b[1;32m   1554\u001b[0m         )\n\u001b[1;32m   1555\u001b[0m         \u001b[0;32mreturn\u001b[0m \u001b[0mkeyarr\u001b[0m\u001b[0;34m,\u001b[0m \u001b[0mindexer\u001b[0m\u001b[0;34m\u001b[0m\u001b[0;34m\u001b[0m\u001b[0m\n",
      "\u001b[0;32m/usr/local/lib/python3.6/dist-packages/pandas/core/indexing.py\u001b[0m in \u001b[0;36m_validate_read_indexer\u001b[0;34m(self, key, indexer, axis, raise_missing)\u001b[0m\n\u001b[1;32m   1638\u001b[0m             \u001b[0;32mif\u001b[0m \u001b[0mmissing\u001b[0m \u001b[0;34m==\u001b[0m \u001b[0mlen\u001b[0m\u001b[0;34m(\u001b[0m\u001b[0mindexer\u001b[0m\u001b[0;34m)\u001b[0m\u001b[0;34m:\u001b[0m\u001b[0;34m\u001b[0m\u001b[0;34m\u001b[0m\u001b[0m\n\u001b[1;32m   1639\u001b[0m                 \u001b[0maxis_name\u001b[0m \u001b[0;34m=\u001b[0m \u001b[0mself\u001b[0m\u001b[0;34m.\u001b[0m\u001b[0mobj\u001b[0m\u001b[0;34m.\u001b[0m\u001b[0m_get_axis_name\u001b[0m\u001b[0;34m(\u001b[0m\u001b[0maxis\u001b[0m\u001b[0;34m)\u001b[0m\u001b[0;34m\u001b[0m\u001b[0;34m\u001b[0m\u001b[0m\n\u001b[0;32m-> 1640\u001b[0;31m                 \u001b[0;32mraise\u001b[0m \u001b[0mKeyError\u001b[0m\u001b[0;34m(\u001b[0m\u001b[0;34mf\"None of [{key}] are in the [{axis_name}]\"\u001b[0m\u001b[0;34m)\u001b[0m\u001b[0;34m\u001b[0m\u001b[0;34m\u001b[0m\u001b[0m\n\u001b[0m\u001b[1;32m   1641\u001b[0m \u001b[0;34m\u001b[0m\u001b[0m\n\u001b[1;32m   1642\u001b[0m             \u001b[0;31m# We (temporarily) allow for some missing keys with .loc, except in\u001b[0m\u001b[0;34m\u001b[0m\u001b[0;34m\u001b[0m\u001b[0;34m\u001b[0m\u001b[0m\n",
      "\u001b[0;31mKeyError\u001b[0m: \"None of [Int64Index([107, 108, 131, 136, 137, 138, 143, 144, 156, 158, 176], dtype='int64')] are in the [columns]\""
     ]
    }
   ],
   "source": [
    "ex_neuron_data[]"
   ]
  },
  {
   "cell_type": "code",
   "execution_count": 39,
   "metadata": {},
   "outputs": [
    {
     "data": {
      "text/plain": [
       "True"
      ]
     },
     "execution_count": 39,
     "metadata": {},
     "output_type": "execute_result"
    }
   ],
   "source": [
    "864691136105493209 in ex_neuron_data[\"post_pt_root_id_Aug\"].tolist()"
   ]
  },
  {
   "cell_type": "code",
   "execution_count": 19,
   "metadata": {},
   "outputs": [
    {
     "data": {
      "text/plain": [
       "((10,), (164,))"
      ]
     },
     "execution_count": 19,
     "metadata": {},
     "output_type": "execute_result"
    }
   ],
   "source": [
    "pre_root_id_v7 = np.unique(ex_neuron_data[\"pre_pt_root_id\"])\n",
    "post_root_id_v7 = np.unique(ex_neuron_data[\"post_pt_root_id\"])\n",
    "np.unique(pre_root_id_v7).shape,post_root_id_v7.shape"
   ]
  },
  {
   "cell_type": "code",
   "execution_count": 21,
   "metadata": {},
   "outputs": [
    {
     "data": {
      "text/plain": [
       "((164,), (1,))"
      ]
     },
     "execution_count": 21,
     "metadata": {},
     "output_type": "execute_result"
    }
   ],
   "source": [
    "post_root_id_aug = np.unique(ex_neuron_data[\"post_pt_root_id_Aug\"])\n",
    "pre_root_id_aug = np.unique(ex_neuron_data[\"pre_pt_root_id_Aug\"])\n",
    "post_root_id_aug.shape,pre_root_id_aug.shape"
   ]
  },
  {
   "cell_type": "code",
   "execution_count": 23,
   "metadata": {},
   "outputs": [
    {
     "data": {
      "text/plain": [
       "array([864691136105493209])"
      ]
     },
     "execution_count": 23,
     "metadata": {},
     "output_type": "execute_result"
    }
   ],
   "source": [
    "pre_root_id_aug"
   ]
  },
  {
   "cell_type": "code",
   "execution_count": 22,
   "metadata": {},
   "outputs": [
    {
     "data": {
      "text/plain": [
       "(126,)"
      ]
     },
     "execution_count": 22,
     "metadata": {},
     "output_type": "execute_result"
    }
   ],
   "source": [
    "np.intersect1d(post_root_id_aug,post_root_id_v7).shape\n"
   ]
  },
  {
   "cell_type": "markdown",
   "metadata": {},
   "source": [
    "# Checking IDs are in the database"
   ]
  },
  {
   "cell_type": "code",
   "execution_count": 24,
   "metadata": {},
   "outputs": [
    {
     "name": "stderr",
     "output_type": "stream",
     "text": [
      "INFO - 2020-11-25 23:26:30,771 - settings - Setting stores to {'minnie65': {'protocol': 'file', 'location': '/mnt/dj-stor01/platinum/minnie65', 'stage': '/mnt/dj-stor01/platinum/minnie65'}, 'meshes': {'protocol': 'file', 'location': '/mnt/dj-stor01/platinum/minnie65/02/meshes', 'stage': '/mnt/dj-stor01/platinum/minnie65/02/meshes'}, 'decimated_meshes': {'protocol': 'file', 'location': '/mnt/dj-stor01/platinum/minnie65/02/decimated_meshes', 'stage': '/mnt/dj-stor01/platinum/minnie65/02/decimated_meshes'}, 'skeletons': {'protocol': 'file', 'location': '/mnt/dj-stor01/platinum/minnie65/02/skeletons'}}\n",
      "INFO - 2020-11-25 23:26:30,772 - settings - Setting enable_python_native_blobs to True\n",
      "INFO - 2020-11-25 23:26:30,785 - connection - Connected celiib@at-database.ad.bcm.edu:3306\n",
      "INFO - 2020-11-25 23:26:30,971 - settings - Setting enable_python_native_blobs to True\n"
     ]
    },
    {
     "name": "stdout",
     "output_type": "stream",
     "text": [
      "Connecting celiib@at-database.ad.bcm.edu:3306\n"
     ]
    }
   ],
   "source": [
    "import datajoint_utils as du\n",
    "minnie,_ = du.configure_minnie_vm()"
   ]
  },
  {
   "cell_type": "code",
   "execution_count": 26,
   "metadata": {},
   "outputs": [
    {
     "data": {
      "text/html": [
       "\n",
       "        \n",
       "        <style type=\"text/css\">\n",
       "            .Relation{\n",
       "                border-collapse:collapse;\n",
       "            }\n",
       "            .Relation th{\n",
       "                background: #A0A0A0; color: #ffffff; padding:4px; border:#f0e0e0 1px solid;\n",
       "                font-weight: normal; font-family: monospace; font-size: 100%;\n",
       "            }\n",
       "            .Relation td{\n",
       "                padding:4px; border:#f0e0e0 1px solid; font-size:100%;\n",
       "            }\n",
       "            .Relation tr:nth-child(odd){\n",
       "                background: #ffffff;\n",
       "            }\n",
       "            .Relation tr:nth-child(even){\n",
       "                background: #f3f1ff;\n",
       "            }\n",
       "            /* Tooltip container */\n",
       "            .djtooltip {\n",
       "            }\n",
       "            /* Tooltip text */\n",
       "            .djtooltip .djtooltiptext {\n",
       "                visibility: hidden;\n",
       "                width: 120px;\n",
       "                background-color: black;\n",
       "                color: #fff;\n",
       "                text-align: center;\n",
       "                padding: 5px 0;\n",
       "                border-radius: 6px;\n",
       "                /* Position the tooltip text - see examples below! */\n",
       "                position: absolute;\n",
       "                z-index: 1;\n",
       "            }\n",
       "            #primary {\n",
       "                font-weight: bold;\n",
       "                color: black;\n",
       "            }\n",
       "\n",
       "            #nonprimary {\n",
       "                font-weight: normal;\n",
       "                color: white;\n",
       "            }\n",
       "\n",
       "            /* Show the tooltip text when you mouse over the tooltip container */\n",
       "            .djtooltip:hover .djtooltiptext {\n",
       "                visibility: visible;\n",
       "            }\n",
       "        </style>\n",
       "        \n",
       "        <b></b>\n",
       "            <div style=\"max-height:1000px;max-width:1500px;overflow:auto;\">\n",
       "            <table border=\"1\" class=\"Relation\">\n",
       "                <thead> <tr style=\"text-align: right;\"> <th> <div class=\"djtooltip\">\n",
       "                                <p id=\"primary\">segment_id</p>\n",
       "                                <span class=\"djtooltiptext\">segment id for those to be decimated</span>\n",
       "                            </div> </th> </tr> </thead>\n",
       "                <tbody> <tr> <td>864691134940004963</td></tr><tr><td>864691135012442870</td></tr><tr><td>864691135012514550</td></tr><tr><td>864691135012905366</td></tr><tr><td>864691135064998724</td></tr><tr><td>864691135099860256</td></tr><tr><td>864691135162211885</td></tr><tr><td>864691135207718009</td></tr><tr><td>864691135274075109</td></tr><tr><td>864691135340976325</td></tr><tr><td>864691135341041349</td></tr><tr><td>864691135368530162</td> </tr> </tbody>\n",
       "            </table>\n",
       "            <p>...</p>\n",
       "            <p>Total: 88</p></div>\n",
       "            "
      ],
      "text/plain": [
       "*segment_id   \n",
       "+------------+\n",
       "86469113494000\n",
       "86469113501244\n",
       "86469113501251\n",
       "86469113501290\n",
       "86469113506499\n",
       "86469113509986\n",
       "86469113516221\n",
       "86469113520771\n",
       "86469113527407\n",
       "86469113534097\n",
       "86469113534104\n",
       "86469113536853\n",
       "   ...\n",
       " (Total: 88)"
      ]
     },
     "execution_count": 26,
     "metadata": {},
     "output_type": "execute_result"
    }
   ],
   "source": [
    "minnie.SegToDecimateFromNuclei() & [dict(segment_id=k) for k in post_root_id_v7]"
   ]
  },
  {
   "cell_type": "markdown",
   "metadata": {},
   "source": [
    "# Code on Steps 3 - 7:"
   ]
  },
  {
   "cell_type": "code",
   "execution_count": null,
   "metadata": {},
   "outputs": [],
   "source": [
    "def get_input_output_df(aug_seg_id,  n_chunks=50, timestamp=datetime.datetime(2020, 8, 1, 1, 0, 0)):\n",
    "    #gets the supervoxel ids and greaks into chunks\n",
    "    svids=client.chunkedgraph.get_leaves(aug_seg_id)\n",
    "    chunks = np.array_split(svids,n_chunks)\n",
    "    #need to break the supervoxels up into chunks to query\n",
    "    out_syn_dfs=[]\n",
    "    \n",
    "    #query the synapse table for synapses with the supervoxel as a presyn supervoxel\n",
    "    for chunk in tqdm.tqdm(chunks):\n",
    "        dft = client.materialize.query_table('synapses_pni_2',\n",
    "                                           filter_in_dict={'pre_pt_supervoxel_id':chunk})\n",
    "        out_syn_dfs.append(dft)\n",
    "    \n",
    "    #concatenates them all in a pandas table\n",
    "    out_syn_df = pd.concat(out_syn_dfs)\n",
    "    out_syn_df['pre_pt_root_id_Aug']=aug_seg_id\n",
    "    post_sv_ids=out_syn_df.post_pt_supervoxel_id.values\n",
    "    \n",
    "    #Gets the postsyns of the output synapses\n",
    "    post_root_ids_aug = client.chunkedgraph.get_roots(post_sv_ids, timestamp=august_timestamp)\n",
    "    out_syn_df['post_pt_root_id_Aug']=post_root_ids_aug\n",
    "    \n",
    "    \n",
    "    \n",
    "    #  ----- Doing the same for the input\n",
    "    in_syn_dfs=[]\n",
    "    for chunk in tqdm.tqdm(chunks):\n",
    "        dft = client.materialize.query_table('synapses_pni_2',\n",
    "                                           filter_in_dict={'post_pt_supervoxel_id':chunk})\n",
    "        in_syn_dfs.append(dft)\n",
    "    in_syn_df = pd.concat(in_syn_dfs)\n",
    "    in_syn_df['post_pt_root_id_Aug']=aug_seg_id\n",
    "    pre_sv_ids=in_syn_df.pre_pt_supervoxel_id.values\n",
    "    pre_root_ids_aug = client.chunkedgraph.get_roots(pre_sv_ids, timestamp=timestamp)\n",
    "    in_syn_df['pre_pt_root_id_Aug']=pre_root_ids_aug\n",
    "    return pd.concat([out_syn_df, in_syn_df])"
   ]
  },
  {
   "cell_type": "code",
   "execution_count": null,
   "metadata": {},
   "outputs": [],
   "source": []
  },
  {
   "cell_type": "code",
   "execution_count": null,
   "metadata": {},
   "outputs": [],
   "source": []
  },
  {
   "cell_type": "code",
   "execution_count": null,
   "metadata": {},
   "outputs": [],
   "source": [
    "# Get the current synapse ids for the following segment"
   ]
  }
 ],
 "metadata": {
  "kernelspec": {
   "display_name": "Python 3",
   "language": "python",
   "name": "python3"
  },
  "language_info": {
   "codemirror_mode": {
    "name": "ipython",
    "version": 3
   },
   "file_extension": ".py",
   "mimetype": "text/x-python",
   "name": "python",
   "nbconvert_exporter": "python",
   "pygments_lexer": "ipython3",
   "version": "3.6.9"
  }
 },
 "nbformat": 4,
 "nbformat_minor": 4
}
