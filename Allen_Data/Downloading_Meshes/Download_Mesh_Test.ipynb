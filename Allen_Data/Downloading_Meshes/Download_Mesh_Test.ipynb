{
 "cells": [
  {
   "cell_type": "code",
   "execution_count": null,
   "metadata": {},
   "outputs": [],
   "source": [
    "\"\"\"\n",
    "Purpose: To download meshes from allen and\n",
    "insert into segment and mesh table in database\n",
    "\n",
    "\"\"\""
   ]
  },
  {
   "cell_type": "code",
   "execution_count": 1,
   "metadata": {},
   "outputs": [],
   "source": [
    "%load_ext autoreload\n",
    "%autoreload 2"
   ]
  },
  {
   "cell_type": "code",
   "execution_count": 2,
   "metadata": {},
   "outputs": [],
   "source": [
    "from os import sys\n",
    "sys.path.append(\"/meshAfterParty/\")"
   ]
  },
  {
   "cell_type": "code",
   "execution_count": 3,
   "metadata": {},
   "outputs": [
    {
     "name": "stderr",
     "output_type": "stream",
     "text": [
      "INFO - 2021-01-06 05:22:53,935 - settings - Setting database.host to at-database.ad.bcm.edu\n",
      "INFO - 2021-01-06 05:22:53,937 - settings - Setting database.user to celiib\n",
      "INFO - 2021-01-06 05:22:53,938 - settings - Setting database.password to newceliipass\n",
      "INFO - 2021-01-06 05:22:53,943 - settings - Setting stores to {'minnie65': {'protocol': 'file', 'location': '/mnt/dj-stor01/platinum/minnie65', 'stage': '/mnt/dj-stor01/platinum/minnie65'}, 'meshes': {'protocol': 'file', 'location': '/mnt/dj-stor01/platinum/minnie65/02/meshes', 'stage': '/mnt/dj-stor01/platinum/minnie65/02/meshes'}, 'decimated_meshes': {'protocol': 'file', 'location': '/mnt/dj-stor01/platinum/minnie65/02/decimated_meshes', 'stage': '/mnt/dj-stor01/platinum/minnie65/02/decimated_meshes'}, 'skeletons': {'protocol': 'file', 'location': '/mnt/dj-stor01/platinum/minnie65/02/skeletons'}}\n",
      "INFO - 2021-01-06 05:22:53,943 - settings - Setting enable_python_native_blobs to True\n",
      "INFO - 2021-01-06 05:22:53,966 - connection - Connected celiib@at-database.ad.bcm.edu:3306\n"
     ]
    },
    {
     "name": "stdout",
     "output_type": "stream",
     "text": [
      "Connecting celiib@at-database.ad.bcm.edu:3306\n"
     ]
    },
    {
     "name": "stderr",
     "output_type": "stream",
     "text": [
      "INFO - 2021-01-06 05:22:54,213 - settings - Setting enable_python_native_blobs to True\n"
     ]
    }
   ],
   "source": [
    "import datajoint_utils as du"
   ]
  },
  {
   "cell_type": "markdown",
   "metadata": {},
   "source": [
    "# Segments to Fetch"
   ]
  },
  {
   "cell_type": "code",
   "execution_count": 18,
   "metadata": {},
   "outputs": [],
   "source": [
    "# three_soma_ids = [\n",
    "#     864691135065032772,\n",
    "# 864691135210078912,\n",
    "# ]\n",
    "\n",
    "three_soma_ids = [\n",
    "864691135345280671,\n",
    "864691135373436616,\n",
    "864691135403794158,\n",
    "864691135428492848,\n",
    "864691135490263655,\n",
    "864691135526114907,\n",
    "864691135568932230,\n",
    "864691135577031173,\n",
    "864691135589917707,\n",
    "864691135593563947,\n",
    "864691135593565995,\n",
    "864691135609477127,\n",
    "864691135609479687,\n",
    "864691135615814761,\n",
    "864691135654121154,\n",
    "864691135654192322,\n",
    "864691135686909664,\n",
    "864691135699307810,\n",
    "864691135780852304,\n",
    "864691135815508815,\n",
    "864691135837279635,\n",
    "864691135847950686,\n",
    "864691135855566638,\n",
    "864691135865528197,\n",
    "864691135866433814,\n",
    "864691135937436725,\n",
    "864691135939303681,\n",
    "864691135939679654,\n",
    "864691135974471279,\n",
    "864691136008595118,\n",
    "864691136236789519,\n",
    "864691136309708378,\n",
    "864691136521606033,\n",
    "864691137196956993,\n",
    "]"
   ]
  },
  {
   "cell_type": "code",
   "execution_count": 5,
   "metadata": {},
   "outputs": [
    {
     "data": {
      "text/plain": [
       "(<function datajoint_utils.download_meshes(segment_ids=None, segment_order=None, target_dir=None, cloudvolume_path='graphene://https://minniev1.microns-daf.com/segmentation/table/minnie3_v1', overwrite=False, n_threads=1, verbose=True, stitch_mesh_chunks=True, download_each_supress_errors=False)>,\n",
       " <function datajoint_utils.adapt_mesh_hdf5(segment_id=None, filepath=None, basepath=None, return_type='namedtuple', as_lengths=False)>,\n",
       " <function datajoint_utils.fill_from_ids(segment_ids, skip_duplicates=True)>)"
      ]
     },
     "execution_count": 5,
     "metadata": {},
     "output_type": "execute_result"
    }
   ],
   "source": [
    "du.download_meshes,du.adapt_mesh_hdf5,du.fill_from_ids"
   ]
  },
  {
   "cell_type": "markdown",
   "metadata": {},
   "source": [
    "# Downloading Example Mesh"
   ]
  },
  {
   "cell_type": "code",
   "execution_count": 6,
   "metadata": {},
   "outputs": [
    {
     "data": {
      "text/plain": [
       "'\\nPsuedocode: \\n1) Download meshes using segment ids (target directory is the mesh path)\\nFill segment table with segment ids\\n\\n\\n\\n'"
      ]
     },
     "execution_count": 6,
     "metadata": {},
     "output_type": "execute_result"
    }
   ],
   "source": [
    "\"\"\"\n",
    "Psuedocode: \n",
    "1) Download meshes using segment ids (target directory is the mesh path)\n",
    "2) Manually add segmnet ids to segment tables\n",
    "3) Fill Mesh table with segment ids by calling function \n",
    "\n",
    "\n",
    "\n",
    "\"\"\""
   ]
  },
  {
   "cell_type": "code",
   "execution_count": null,
   "metadata": {},
   "outputs": [],
   "source": [
    "def download_and_insert_allen_meshes(segment_ids,n_threads=1):\n",
    "    \"\"\"\n",
    "    Purpose: To Download the meshes from the allen institute\n",
    "    and then insert the segment ids into the Segment\n",
    "    and Mesh table in Datajoint\n",
    "    \"\"\"\n",
    "    \n",
    "    # 1) Fill segment table with segment ids\n",
    "    du.download_meshes(segment_ids = three_soma_ids,n_threads=12)\n",
    "    \n",
    "    #2) Manually add segmnet ids to segment tables\n",
    "    insert_keys = [dict(segment_id=k) for k in segment_ids]\n",
    "    minnie.Segment.insert(insert_keys,skip_duplicates=True)\n",
    "    \n",
    "    #3) Fill in the Mesh Table\n",
    "    du.fill_from_ids(segment_ids=three_soma_ids)"
   ]
  },
  {
   "cell_type": "code",
   "execution_count": 19,
   "metadata": {},
   "outputs": [
    {
     "name": "stdout",
     "output_type": "stream",
     "text": [
      "Done in 980.760018 seconds.\n"
     ]
    },
    {
     "data": {
      "text/plain": [
       "980.7600176334381"
      ]
     },
     "execution_count": 19,
     "metadata": {},
     "output_type": "execute_result"
    }
   ],
   "source": [
    "# 1) Fill segment table with segment ids\n",
    "du.download_meshes(segment_ids = three_soma_ids,n_threads=12)"
   ]
  },
  {
   "cell_type": "code",
   "execution_count": null,
   "metadata": {},
   "outputs": [],
   "source": [
    "#2) Manually add segmnet ids to segment tables\n",
    "minnie,_ = du.configure_minnie_vm()"
   ]
  },
  {
   "cell_type": "code",
   "execution_count": 20,
   "metadata": {},
   "outputs": [
    {
     "data": {
      "text/html": [
       "\n",
       "        \n",
       "        <style type=\"text/css\">\n",
       "            .Relation{\n",
       "                border-collapse:collapse;\n",
       "            }\n",
       "            .Relation th{\n",
       "                background: #A0A0A0; color: #ffffff; padding:4px; border:#f0e0e0 1px solid;\n",
       "                font-weight: normal; font-family: monospace; font-size: 100%;\n",
       "            }\n",
       "            .Relation td{\n",
       "                padding:4px; border:#f0e0e0 1px solid; font-size:100%;\n",
       "            }\n",
       "            .Relation tr:nth-child(odd){\n",
       "                background: #ffffff;\n",
       "            }\n",
       "            .Relation tr:nth-child(even){\n",
       "                background: #f3f1ff;\n",
       "            }\n",
       "            /* Tooltip container */\n",
       "            .djtooltip {\n",
       "            }\n",
       "            /* Tooltip text */\n",
       "            .djtooltip .djtooltiptext {\n",
       "                visibility: hidden;\n",
       "                width: 120px;\n",
       "                background-color: black;\n",
       "                color: #fff;\n",
       "                text-align: center;\n",
       "                padding: 5px 0;\n",
       "                border-radius: 6px;\n",
       "                /* Position the tooltip text - see examples below! */\n",
       "                position: absolute;\n",
       "                z-index: 1;\n",
       "            }\n",
       "            #primary {\n",
       "                font-weight: bold;\n",
       "                color: black;\n",
       "            }\n",
       "\n",
       "            #nonprimary {\n",
       "                font-weight: normal;\n",
       "                color: white;\n",
       "            }\n",
       "\n",
       "            /* Show the tooltip text when you mouse over the tooltip container */\n",
       "            .djtooltip:hover .djtooltiptext {\n",
       "                visibility: visible;\n",
       "            }\n",
       "        </style>\n",
       "        \n",
       "        <b>Segment: a volumetric segmented object</b>\n",
       "            <div style=\"max-height:1000px;max-width:1500px;overflow:auto;\">\n",
       "            <table border=\"1\" class=\"Relation\">\n",
       "                <thead> <tr style=\"text-align: right;\"> <th> <div class=\"djtooltip\">\n",
       "                                <p id=\"primary\">segment_id</p>\n",
       "                                <span class=\"djtooltiptext\">segment id unique within each Segmentation</span>\n",
       "                            </div> </th> </tr> </thead>\n",
       "                <tbody> <tr> <td>864691135345280671</td></tr><tr><td>864691135373436616</td></tr><tr><td>864691135403794158</td></tr><tr><td>864691135428492848</td></tr><tr><td>864691135490263655</td></tr><tr><td>864691135526114907</td></tr><tr><td>864691135568932230</td></tr><tr><td>864691135577031173</td></tr><tr><td>864691135589917707</td></tr><tr><td>864691135593563947</td></tr><tr><td>864691135593565995</td></tr><tr><td>864691135609477127</td> </tr> </tbody>\n",
       "            </table>\n",
       "            <p>...</p>\n",
       "            <p>Total: 34</p></div>\n",
       "            "
      ],
      "text/plain": [
       "*segment_id   \n",
       "+------------+\n",
       "86469113534528\n",
       "86469113537343\n",
       "86469113540379\n",
       "86469113542849\n",
       "86469113549026\n",
       "86469113552611\n",
       "86469113556893\n",
       "86469113557703\n",
       "86469113558991\n",
       "86469113559356\n",
       "86469113559356\n",
       "86469113560947\n",
       "   ...\n",
       " (Total: 34)"
      ]
     },
     "execution_count": 20,
     "metadata": {},
     "output_type": "execute_result"
    }
   ],
   "source": [
    "insert_keys = [dict(segment_id=k) for k in three_soma_ids]\n",
    "minnie.Segment.insert(insert_keys,skip_duplicates=True)\n",
    "minnie.Segment & insert_keys"
   ]
  },
  {
   "cell_type": "code",
   "execution_count": 21,
   "metadata": {},
   "outputs": [],
   "source": [
    "du.fill_from_ids(segment_ids=three_soma_ids)"
   ]
  },
  {
   "cell_type": "code",
   "execution_count": 22,
   "metadata": {},
   "outputs": [
    {
     "data": {
      "text/html": [
       "\n",
       "        \n",
       "        <style type=\"text/css\">\n",
       "            .Relation{\n",
       "                border-collapse:collapse;\n",
       "            }\n",
       "            .Relation th{\n",
       "                background: #A0A0A0; color: #ffffff; padding:4px; border:#f0e0e0 1px solid;\n",
       "                font-weight: normal; font-family: monospace; font-size: 100%;\n",
       "            }\n",
       "            .Relation td{\n",
       "                padding:4px; border:#f0e0e0 1px solid; font-size:100%;\n",
       "            }\n",
       "            .Relation tr:nth-child(odd){\n",
       "                background: #ffffff;\n",
       "            }\n",
       "            .Relation tr:nth-child(even){\n",
       "                background: #f3f1ff;\n",
       "            }\n",
       "            /* Tooltip container */\n",
       "            .djtooltip {\n",
       "            }\n",
       "            /* Tooltip text */\n",
       "            .djtooltip .djtooltiptext {\n",
       "                visibility: hidden;\n",
       "                width: 120px;\n",
       "                background-color: black;\n",
       "                color: #fff;\n",
       "                text-align: center;\n",
       "                padding: 5px 0;\n",
       "                border-radius: 6px;\n",
       "                /* Position the tooltip text - see examples below! */\n",
       "                position: absolute;\n",
       "                z-index: 1;\n",
       "            }\n",
       "            #primary {\n",
       "                font-weight: bold;\n",
       "                color: black;\n",
       "            }\n",
       "\n",
       "            #nonprimary {\n",
       "                font-weight: normal;\n",
       "                color: white;\n",
       "            }\n",
       "\n",
       "            /* Show the tooltip text when you mouse over the tooltip container */\n",
       "            .djtooltip:hover .djtooltiptext {\n",
       "                visibility: visible;\n",
       "            }\n",
       "        </style>\n",
       "        \n",
       "        <b>Platinum mesh structures</b>\n",
       "            <div style=\"max-height:1000px;max-width:1500px;overflow:auto;\">\n",
       "            <table border=\"1\" class=\"Relation\">\n",
       "                <thead> <tr style=\"text-align: right;\"> <th> <div class=\"djtooltip\">\n",
       "                                <p id=\"primary\">segment_id</p>\n",
       "                                <span class=\"djtooltiptext\">segment id unique within each Segmentation</span>\n",
       "                            </div></th><th><div class=\"djtooltip\">\n",
       "                                <p id=\"nonprimary\">n_vertices</p>\n",
       "                                <span class=\"djtooltiptext\">number of vertices</span>\n",
       "                            </div></th><th><div class=\"djtooltip\">\n",
       "                                <p id=\"nonprimary\">n_faces</p>\n",
       "                                <span class=\"djtooltiptext\">number of faces</span>\n",
       "                            </div></th><th><div class=\"djtooltip\">\n",
       "                                <p id=\"nonprimary\">mesh</p>\n",
       "                                <span class=\"djtooltiptext\">in-place path to the hdf5 mesh file</span>\n",
       "                            </div> </th> </tr> </thead>\n",
       "                <tbody> <tr> <td>864691135345280671</td>\n",
       "<td>10645387</td>\n",
       "<td>21261638</td>\n",
       "<td>=BLOB=</td></tr><tr><td>864691135373436616</td>\n",
       "<td>7266702</td>\n",
       "<td>14498185</td>\n",
       "<td>=BLOB=</td></tr><tr><td>864691135403794158</td>\n",
       "<td>3238137</td>\n",
       "<td>6449083</td>\n",
       "<td>=BLOB=</td></tr><tr><td>864691135428492848</td>\n",
       "<td>6578652</td>\n",
       "<td>13142122</td>\n",
       "<td>=BLOB=</td></tr><tr><td>864691135490263655</td>\n",
       "<td>5739166</td>\n",
       "<td>11451908</td>\n",
       "<td>=BLOB=</td></tr><tr><td>864691135526114907</td>\n",
       "<td>6122741</td>\n",
       "<td>12221739</td>\n",
       "<td>=BLOB=</td></tr><tr><td>864691135568932230</td>\n",
       "<td>6879451</td>\n",
       "<td>13730186</td>\n",
       "<td>=BLOB=</td></tr><tr><td>864691135577031173</td>\n",
       "<td>4629695</td>\n",
       "<td>9241512</td>\n",
       "<td>=BLOB=</td></tr><tr><td>864691135589917707</td>\n",
       "<td>3917310</td>\n",
       "<td>7813244</td>\n",
       "<td>=BLOB=</td></tr><tr><td>864691135593563947</td>\n",
       "<td>5706942</td>\n",
       "<td>11392756</td>\n",
       "<td>=BLOB=</td></tr><tr><td>864691135593565995</td>\n",
       "<td>4222854</td>\n",
       "<td>8423035</td>\n",
       "<td>=BLOB=</td></tr><tr><td>864691135609477127</td>\n",
       "<td>6003116</td>\n",
       "<td>11980690</td>\n",
       "<td>=BLOB=</td> </tr> </tbody>\n",
       "            </table>\n",
       "            <p>...</p>\n",
       "            <p>Total: 34</p></div>\n",
       "            "
      ],
      "text/plain": [
       "*segment_id    n_vertices     n_faces      mesh      \n",
       "+------------+ +------------+ +----------+ +--------+\n",
       "86469113534528 10645387       21261638     =BLOB=    \n",
       "86469113537343 7266702        14498185     =BLOB=    \n",
       "86469113540379 3238137        6449083      =BLOB=    \n",
       "86469113542849 6578652        13142122     =BLOB=    \n",
       "86469113549026 5739166        11451908     =BLOB=    \n",
       "86469113552611 6122741        12221739     =BLOB=    \n",
       "86469113556893 6879451        13730186     =BLOB=    \n",
       "86469113557703 4629695        9241512      =BLOB=    \n",
       "86469113558991 3917310        7813244      =BLOB=    \n",
       "86469113559356 5706942        11392756     =BLOB=    \n",
       "86469113559356 4222854        8423035      =BLOB=    \n",
       "86469113560947 6003116        11980690     =BLOB=    \n",
       "   ...\n",
       " (Total: 34)"
      ]
     },
     "execution_count": 22,
     "metadata": {},
     "output_type": "execute_result"
    }
   ],
   "source": [
    "minnie.Mesh & insert_keys"
   ]
  },
  {
   "cell_type": "code",
   "execution_count": 14,
   "metadata": {},
   "outputs": [],
   "source": [
    "ex_mesh = du.fetch_undecimated_segment_id_mesh(864691135065032772)"
   ]
  },
  {
   "cell_type": "code",
   "execution_count": 15,
   "metadata": {},
   "outputs": [],
   "source": [
    "import neuron_visualizations as nviz"
   ]
  },
  {
   "cell_type": "code",
   "execution_count": 17,
   "metadata": {},
   "outputs": [
    {
     "name": "stderr",
     "output_type": "stream",
     "text": [
      "/usr/local/lib/python3.6/dist-packages/traittypes/traittypes.py:101: UserWarning: Given trait value dtype \"float64\" does not match required type \"float64\". A coerced copy has been created.\n",
      "  np.dtype(self.dtype).name))\n"
     ]
    },
    {
     "data": {
      "application/vnd.jupyter.widget-view+json": {
       "model_id": "08644f2edb804046bdd1db34b865fb59",
       "version_major": 2,
       "version_minor": 0
      },
      "text/plain": [
       "VBox(children=(Figure(camera=PerspectiveCamera(fov=46.0, position=(0.0, 0.0, 2.0), quaternion=(0.0, 0.0, 0.0, …"
      ]
     },
     "metadata": {},
     "output_type": "display_data"
    }
   ],
   "source": [
    "nviz.plot_objects(ex_mesh)"
   ]
  },
  {
   "cell_type": "code",
   "execution_count": 24,
   "metadata": {},
   "outputs": [
    {
     "name": "stderr",
     "output_type": "stream",
     "text": [
      "INFO - 2021-01-06 18:07:08,121 - settings - Setting database.host to at-database.ad.bcm.edu\n",
      "INFO - 2021-01-06 18:07:08,122 - settings - Setting database.user to celiib\n",
      "INFO - 2021-01-06 18:07:08,122 - settings - Setting database.password to newceliipass\n",
      "INFO - 2021-01-06 18:07:08,125 - settings - Setting enable_python_native_blobs to True\n",
      "INFO - 2021-01-06 18:07:08,399 - settings - Setting enable_python_native_blobs to True\n"
     ]
    }
   ],
   "source": [
    "minnie.MultiSomaProofread.insert(insert_keys,skip_duplicates=True)"
   ]
  },
  {
   "cell_type": "code",
   "execution_count": 25,
   "metadata": {},
   "outputs": [
    {
     "data": {
      "text/html": [
       "\n",
       "        \n",
       "        <style type=\"text/css\">\n",
       "            .Relation{\n",
       "                border-collapse:collapse;\n",
       "            }\n",
       "            .Relation th{\n",
       "                background: #A0A0A0; color: #ffffff; padding:4px; border:#f0e0e0 1px solid;\n",
       "                font-weight: normal; font-family: monospace; font-size: 100%;\n",
       "            }\n",
       "            .Relation td{\n",
       "                padding:4px; border:#f0e0e0 1px solid; font-size:100%;\n",
       "            }\n",
       "            .Relation tr:nth-child(odd){\n",
       "                background: #ffffff;\n",
       "            }\n",
       "            .Relation tr:nth-child(even){\n",
       "                background: #f3f1ff;\n",
       "            }\n",
       "            /* Tooltip container */\n",
       "            .djtooltip {\n",
       "            }\n",
       "            /* Tooltip text */\n",
       "            .djtooltip .djtooltiptext {\n",
       "                visibility: hidden;\n",
       "                width: 120px;\n",
       "                background-color: black;\n",
       "                color: #fff;\n",
       "                text-align: center;\n",
       "                padding: 5px 0;\n",
       "                border-radius: 6px;\n",
       "                /* Position the tooltip text - see examples below! */\n",
       "                position: absolute;\n",
       "                z-index: 1;\n",
       "            }\n",
       "            #primary {\n",
       "                font-weight: bold;\n",
       "                color: black;\n",
       "            }\n",
       "\n",
       "            #nonprimary {\n",
       "                font-weight: normal;\n",
       "                color: white;\n",
       "            }\n",
       "\n",
       "            /* Show the tooltip text when you mouse over the tooltip container */\n",
       "            .djtooltip:hover .djtooltiptext {\n",
       "                visibility: visible;\n",
       "            }\n",
       "        </style>\n",
       "        \n",
       "        <b></b>\n",
       "            <div style=\"max-height:1000px;max-width:1500px;overflow:auto;\">\n",
       "            <table border=\"1\" class=\"Relation\">\n",
       "                <thead> <tr style=\"text-align: right;\"> <th> <div class=\"djtooltip\">\n",
       "                                <p id=\"primary\">segment_id</p>\n",
       "                                <span class=\"djtooltiptext\">segment id for those to be decimated</span>\n",
       "                            </div> </th> </tr> </thead>\n",
       "                <tbody> <tr> <td>864691134964519711</td></tr><tr><td>864691134988385914</td></tr><tr><td>864691134988402042</td></tr><tr><td>864691134988472442</td></tr><tr><td>864691134988580730</td></tr><tr><td>864691135012400886</td></tr><tr><td>864691135012471798</td></tr><tr><td>864691135012567286</td></tr><tr><td>864691135012571126</td></tr><tr><td>864691135012574710</td></tr><tr><td>864691135058593691</td></tr><tr><td>864691135065024068</td> </tr> </tbody>\n",
       "            </table>\n",
       "            <p>...</p>\n",
       "            <p>Total: 343</p></div>\n",
       "            "
      ],
      "text/plain": [
       "*segment_id   \n",
       "+------------+\n",
       "86469113496451\n",
       "86469113498838\n",
       "86469113498840\n",
       "86469113498847\n",
       "86469113498858\n",
       "86469113501240\n",
       "86469113501247\n",
       "86469113501256\n",
       "86469113501257\n",
       "86469113501257\n",
       "86469113505859\n",
       "86469113506502\n",
       "   ...\n",
       " (Total: 343)"
      ]
     },
     "execution_count": 25,
     "metadata": {},
     "output_type": "execute_result"
    }
   ],
   "source": [
    "minnie.MultiSomaProofread()"
   ]
  },
  {
   "cell_type": "markdown",
   "metadata": {},
   "source": [
    "# Filling the 2 Somas that are not in the database"
   ]
  },
  {
   "cell_type": "code",
   "execution_count": 26,
   "metadata": {},
   "outputs": [
    {
     "name": "stderr",
     "output_type": "stream",
     "text": [
      "INFO - 2021-01-06 18:09:19,731 - settings - Setting database.host to at-database.ad.bcm.edu\n",
      "INFO - 2021-01-06 18:09:19,732 - settings - Setting database.user to celiib\n",
      "INFO - 2021-01-06 18:09:19,733 - settings - Setting database.password to newceliipass\n",
      "INFO - 2021-01-06 18:09:19,738 - settings - Setting enable_python_native_blobs to True\n",
      "INFO - 2021-01-06 18:09:20,028 - settings - Setting enable_python_native_blobs to True\n"
     ]
    },
    {
     "data": {
      "text/html": [
       "\n",
       "        \n",
       "        <style type=\"text/css\">\n",
       "            .Relation{\n",
       "                border-collapse:collapse;\n",
       "            }\n",
       "            .Relation th{\n",
       "                background: #A0A0A0; color: #ffffff; padding:4px; border:#f0e0e0 1px solid;\n",
       "                font-weight: normal; font-family: monospace; font-size: 100%;\n",
       "            }\n",
       "            .Relation td{\n",
       "                padding:4px; border:#f0e0e0 1px solid; font-size:100%;\n",
       "            }\n",
       "            .Relation tr:nth-child(odd){\n",
       "                background: #ffffff;\n",
       "            }\n",
       "            .Relation tr:nth-child(even){\n",
       "                background: #f3f1ff;\n",
       "            }\n",
       "            /* Tooltip container */\n",
       "            .djtooltip {\n",
       "            }\n",
       "            /* Tooltip text */\n",
       "            .djtooltip .djtooltiptext {\n",
       "                visibility: hidden;\n",
       "                width: 120px;\n",
       "                background-color: black;\n",
       "                color: #fff;\n",
       "                text-align: center;\n",
       "                padding: 5px 0;\n",
       "                border-radius: 6px;\n",
       "                /* Position the tooltip text - see examples below! */\n",
       "                position: absolute;\n",
       "                z-index: 1;\n",
       "            }\n",
       "            #primary {\n",
       "                font-weight: bold;\n",
       "                color: black;\n",
       "            }\n",
       "\n",
       "            #nonprimary {\n",
       "                font-weight: normal;\n",
       "                color: white;\n",
       "            }\n",
       "\n",
       "            /* Show the tooltip text when you mouse over the tooltip container */\n",
       "            .djtooltip:hover .djtooltiptext {\n",
       "                visibility: visible;\n",
       "            }\n",
       "        </style>\n",
       "        \n",
       "        <b></b>\n",
       "            <div style=\"max-height:1000px;max-width:1500px;overflow:auto;\">\n",
       "            <table border=\"1\" class=\"Relation\">\n",
       "                <thead> <tr style=\"text-align: right;\"> <th> <div class=\"djtooltip\">\n",
       "                                <p id=\"primary\">segment_id</p>\n",
       "                                <span class=\"djtooltiptext\">segment id for those to be decimated</span>\n",
       "                            </div> </th> </tr> </thead>\n",
       "                <tbody> <tr> <td>864691134964519711</td></tr><tr><td>864691134988385914</td></tr><tr><td>864691134988402042</td></tr><tr><td>864691134988472442</td></tr><tr><td>864691134988580730</td></tr><tr><td>864691135012400886</td></tr><tr><td>864691135012471798</td></tr><tr><td>864691135012567286</td></tr><tr><td>864691135012571126</td></tr><tr><td>864691135012574710</td></tr><tr><td>864691135058593691</td></tr><tr><td>864691135065024068</td> </tr> </tbody>\n",
       "            </table>\n",
       "            <p>...</p>\n",
       "            <p>Total: 343</p></div>\n",
       "            "
      ],
      "text/plain": [
       "*segment_id   \n",
       "+------------+\n",
       "86469113496451\n",
       "86469113498838\n",
       "86469113498840\n",
       "86469113498847\n",
       "86469113498858\n",
       "86469113501240\n",
       "86469113501247\n",
       "86469113501256\n",
       "86469113501257\n",
       "86469113501257\n",
       "86469113505859\n",
       "86469113506502\n",
       "   ...\n",
       " (Total: 343)"
      ]
     },
     "execution_count": 26,
     "metadata": {},
     "output_type": "execute_result"
    }
   ],
   "source": [
    "minnie.MultiSomaProofread()"
   ]
  },
  {
   "cell_type": "code",
   "execution_count": 32,
   "metadata": {},
   "outputs": [
    {
     "data": {
      "text/plain": [
       "array([864691134964519711, 864691134988580730, 864691135012567286,\n",
       "       864691135012571126, 864691135012574710, 864691135058593691,\n",
       "       864691135065039428, 864691135081750519, 864691135099910176,\n",
       "       864691135122415911, 864691135132689056, 864691135155573860,\n",
       "       864691135155658084, 864691135162258221, 864691135162259245,\n",
       "       864691135162270509, 864691135207805561, 864691135212738944,\n",
       "       864691135233145689, 864691135256192175, 864691135269820837,\n",
       "       864691135272192785, 864691135272193041, 864691135274157797,\n",
       "       864691135291765174, 864691135291765686, 864691135291767222,\n",
       "       864691135291776694, 864691135291784118, 864691135291788214,\n",
       "       864691135334551273, 864691135337767654, 864691135341073093,\n",
       "       864691135373873737, 864691135382506458, 864691135396413473,\n",
       "       864691135403790574, 864691135440511048, 864691135445640594,\n",
       "       864691135454237546, 864691135462788670, 864691135463534661,\n",
       "       864691135467593868, 864691135467598220, 864691135467670668,\n",
       "       864691135472075314, 864691135476174760, 864691135488300090,\n",
       "       864691135490616039, 864691135491251039, 864691135494081168,\n",
       "       864691135494082192, 864691135501601602, 864691135501956445,\n",
       "       864691135502074549, 864691135502076341, 864691135502077109,\n",
       "       864691135510490832, 864691135510502864, 864691135510504912,\n",
       "       864691135510547408, 864691135567763948, 864691135570744557,\n",
       "       864691135570980589, 864691135577028869, 864691135583731832,\n",
       "       864691135583791992, 864691135593555755, 864691135593561131,\n",
       "       864691135609482247, 864691135609485575, 864691135609486599,\n",
       "       864691135609490951, 864691135644713455, 864691135683295474,\n",
       "       864691135692757951, 864691135700290683, 864691135700415355,\n",
       "       864691135730253753, 864691135739628180, 864691135739631252,\n",
       "       864691135740272491, 864691135740273515, 864691135748600873,\n",
       "       864691135753748173, 864691135754675666, 864691135754747090,\n",
       "       864691135785296836, 864691135807325469, 864691135809530828,\n",
       "       864691135815492687, 864691135815520847, 864691135841088483,\n",
       "       864691135841094627, 864691135841095651, 864691135841101027,\n",
       "       864691135847949150, 864691135847949406, 864691135855697198,\n",
       "       864691135864802780, 864691135883906928, 864691135925651726,\n",
       "       864691135937517877, 864691135939717798, 864691135941196404,\n",
       "       864691135968944229, 864691136023842617, 864691136023876153,\n",
       "       864691136031794619, 864691136031795899, 864691136041086294,\n",
       "       864691136084237420, 864691136090946228, 864691136091042996,\n",
       "       864691136175083526, 864691136194114518, 864691136194217192,\n",
       "       864691136194350924, 864691136237530940, 864691136237534524,\n",
       "       864691136273691661, 864691136361531874, 864691136361564130,\n",
       "       864691136378805973, 864691136388296823, 864691136422872111,\n",
       "       864691136451113215, 864691136482936620, 864691136594527906,\n",
       "       864691136617149915, 864691136672696199, 864691136723579645,\n",
       "       864691136723601149, 864691136903110578, 864691136951653343,\n",
       "       864691136990018453, 864691137196947009])"
      ]
     },
     "execution_count": 32,
     "metadata": {},
     "output_type": "execute_result"
    }
   ],
   "source": [
    "missing_ids = (minnie.MultiSomaProofread.proj() - minnie.Mesh.proj()).fetch(\"segment_id\")\n",
    "missing_ids"
   ]
  },
  {
   "cell_type": "code",
   "execution_count": 28,
   "metadata": {},
   "outputs": [
    {
     "data": {
      "text/html": [
       "\n",
       "        \n",
       "        <style type=\"text/css\">\n",
       "            .Relation{\n",
       "                border-collapse:collapse;\n",
       "            }\n",
       "            .Relation th{\n",
       "                background: #A0A0A0; color: #ffffff; padding:4px; border:#f0e0e0 1px solid;\n",
       "                font-weight: normal; font-family: monospace; font-size: 100%;\n",
       "            }\n",
       "            .Relation td{\n",
       "                padding:4px; border:#f0e0e0 1px solid; font-size:100%;\n",
       "            }\n",
       "            .Relation tr:nth-child(odd){\n",
       "                background: #ffffff;\n",
       "            }\n",
       "            .Relation tr:nth-child(even){\n",
       "                background: #f3f1ff;\n",
       "            }\n",
       "            /* Tooltip container */\n",
       "            .djtooltip {\n",
       "            }\n",
       "            /* Tooltip text */\n",
       "            .djtooltip .djtooltiptext {\n",
       "                visibility: hidden;\n",
       "                width: 120px;\n",
       "                background-color: black;\n",
       "                color: #fff;\n",
       "                text-align: center;\n",
       "                padding: 5px 0;\n",
       "                border-radius: 6px;\n",
       "                /* Position the tooltip text - see examples below! */\n",
       "                position: absolute;\n",
       "                z-index: 1;\n",
       "            }\n",
       "            #primary {\n",
       "                font-weight: bold;\n",
       "                color: black;\n",
       "            }\n",
       "\n",
       "            #nonprimary {\n",
       "                font-weight: normal;\n",
       "                color: white;\n",
       "            }\n",
       "\n",
       "            /* Show the tooltip text when you mouse over the tooltip container */\n",
       "            .djtooltip:hover .djtooltiptext {\n",
       "                visibility: visible;\n",
       "            }\n",
       "        </style>\n",
       "        \n",
       "        <b>Platinum mesh structures</b>\n",
       "            <div style=\"max-height:1000px;max-width:1500px;overflow:auto;\">\n",
       "            <table border=\"1\" class=\"Relation\">\n",
       "                <thead> <tr style=\"text-align: right;\"> <th> <div class=\"djtooltip\">\n",
       "                                <p id=\"primary\">segment_id</p>\n",
       "                                <span class=\"djtooltiptext\">segment id unique within each Segmentation</span>\n",
       "                            </div></th><th><div class=\"djtooltip\">\n",
       "                                <p id=\"nonprimary\">n_vertices</p>\n",
       "                                <span class=\"djtooltiptext\">number of vertices</span>\n",
       "                            </div></th><th><div class=\"djtooltip\">\n",
       "                                <p id=\"nonprimary\">n_faces</p>\n",
       "                                <span class=\"djtooltiptext\">number of faces</span>\n",
       "                            </div></th><th><div class=\"djtooltip\">\n",
       "                                <p id=\"nonprimary\">mesh</p>\n",
       "                                <span class=\"djtooltiptext\">in-place path to the hdf5 mesh file</span>\n",
       "                            </div> </th> </tr> </thead>\n",
       "                <tbody> <tr>  </tr> </tbody>\n",
       "            </table>\n",
       "            \n",
       "            <p>Total: 0</p></div>\n",
       "            "
      ],
      "text/plain": [
       "*segment_id    n_vertices     n_faces     mesh      \n",
       "+------------+ +------------+ +---------+ +--------+\n",
       "\n",
       " (Total: 0)"
      ]
     },
     "execution_count": 28,
     "metadata": {},
     "output_type": "execute_result"
    }
   ],
   "source": [
    "minnie.Mesh() & dict(segment_id=864691134964519711)"
   ]
  },
  {
   "cell_type": "code",
   "execution_count": 34,
   "metadata": {},
   "outputs": [
    {
     "name": "stderr",
     "output_type": "stream",
     "text": [
      "INFO - 2021-01-06 18:12:50,218 - settings - Setting database.host to at-database.ad.bcm.edu\n",
      "INFO - 2021-01-06 18:12:50,219 - settings - Setting database.user to celiib\n",
      "INFO - 2021-01-06 18:12:50,220 - settings - Setting database.password to newceliipass\n",
      "INFO - 2021-01-06 18:12:50,224 - settings - Setting enable_python_native_blobs to True\n",
      "INFO - 2021-01-06 18:12:50,512 - settings - Setting enable_python_native_blobs to True\n"
     ]
    },
    {
     "name": "stdout",
     "output_type": "stream",
     "text": [
      "\n",
      "\n",
      "KILLED PROCESS 4386 -- it was simply too slow... (877.230s), 90th percentile is 11.000s -- /root/pychg_subp_workdir//download_meshes_thread_graphene_folder//storage/\n",
      "\n",
      "\n",
      "Done in 5118.697285 seconds.\n"
     ]
    }
   ],
   "source": [
    "du.download_and_insert_allen_meshes(missing_ids,n_threads=12,\n",
    "                                    insert_in_multi_soma_table=False)"
   ]
  },
  {
   "cell_type": "code",
   "execution_count": null,
   "metadata": {},
   "outputs": [],
   "source": []
  }
 ],
 "metadata": {
  "kernelspec": {
   "display_name": "Python 3",
   "language": "python",
   "name": "python3"
  },
  "language_info": {
   "codemirror_mode": {
    "name": "ipython",
    "version": 3
   },
   "file_extension": ".py",
   "mimetype": "text/x-python",
   "name": "python",
   "nbconvert_exporter": "python",
   "pygments_lexer": "ipython3",
   "version": "3.6.9"
  }
 },
 "nbformat": 4,
 "nbformat_minor": 4
}
