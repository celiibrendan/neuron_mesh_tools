{
 "cells": [
  {
   "cell_type": "code",
   "execution_count": null,
   "metadata": {},
   "outputs": [],
   "source": [
    "import shutil\n",
    "\n",
    "import os\n",
    "from pathlib import Path\n",
    "\n",
    "def copy_file_and_create_shell_script(original_file,num_copies,new_dir=False):\n",
    "    #create copies folder if not already there\n",
    "    if new_dir:\n",
    "        if not os.path.exists(\"copies\"):\n",
    "            os.makedirs(\"copies\")\n",
    "        folder = \"./copies\"\n",
    "    else:\n",
    "        folder = \"./\"\n",
    "    print(f\"Using folder {folder}\")\n",
    "    #create the new files\n",
    "    new_file_names = []\n",
    "    for i in range(0,num_copies):\n",
    "        # Copy the file in same folder with different name\n",
    "        new_name = str(i) + \"_\" + str(original_file)\n",
    "        shutil.copy(original_file,folder +\"/\" + str(new_name))\n",
    "        \n",
    "        new_file_names.append(new_name)\n",
    "\n",
    "    #write the shell script\n",
    "    f = open(folder + \"/run_multiple_\" + str(original_file) + \".sh\", \"w\")\n",
    "    f.write(\"#!/bin/bash\")\n",
    "    f.write(\"\\n\")\n",
    "    for file_name in new_file_names:\n",
    "        f.write(\"python3 \" + str(file_name) + \" &\")\n",
    "        f.write(\"\\n\")\n",
    "    f.close()\n",
    "    \n",
    "copy_file_and_create_shell_script(\"MultiSomaCentroidValidationVp4_DJ.py\",20,new_dir=False)"
   ]
  },
  {
   "cell_type": "code",
   "execution_count": null,
   "metadata": {},
   "outputs": [],
   "source": [
    "# ways to kill all processes: \n",
    "ps -elf | grep MultiSomaCe\n",
    "ps aux | grep -ie amarok | awk '{print $2}' | xargs kill -9 \n",
    "pkill -f Multi\n",
    "kill -9 26977"
   ]
  }
 ],
 "metadata": {
  "kernelspec": {
   "display_name": "Python 3",
   "language": "python",
   "name": "python3"
  },
  "language_info": {
   "codemirror_mode": {
    "name": "ipython",
    "version": 3
   },
   "file_extension": ".py",
   "mimetype": "text/x-python",
   "name": "python",
   "nbconvert_exporter": "python",
   "pygments_lexer": "ipython3",
   "version": "3.6.9"
  }
 },
 "nbformat": 4,
 "nbformat_minor": 4
}
