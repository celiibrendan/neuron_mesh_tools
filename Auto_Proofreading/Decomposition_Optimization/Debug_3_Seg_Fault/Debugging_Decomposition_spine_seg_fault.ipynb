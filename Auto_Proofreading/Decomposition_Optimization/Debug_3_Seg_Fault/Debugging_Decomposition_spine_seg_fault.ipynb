{
 "cells": [
  {
   "cell_type": "code",
   "execution_count": null,
   "metadata": {},
   "outputs": [],
   "source": [
    "\"\"\"\n",
    "To Debug the Decomposition\n",
    "\n",
    "\n",
    "\n",
    "\"\"\""
   ]
  },
  {
   "cell_type": "code",
   "execution_count": 1,
   "metadata": {},
   "outputs": [],
   "source": [
    "%load_ext autoreload\n",
    "%autoreload 2"
   ]
  },
  {
   "cell_type": "code",
   "execution_count": 2,
   "metadata": {},
   "outputs": [
    {
     "name": "stderr",
     "output_type": "stream",
     "text": [
      "INFO - 2021-01-14 00:10:41,978 - settings - Setting database.host to at-database.ad.bcm.edu\n",
      "INFO - 2021-01-14 00:10:41,979 - settings - Setting database.user to celiib\n",
      "INFO - 2021-01-14 00:10:41,979 - settings - Setting database.password to newceliipass\n",
      "INFO - 2021-01-14 00:10:41,984 - settings - Setting stores to {'minnie65': {'protocol': 'file', 'location': '/mnt/dj-stor01/platinum/minnie65', 'stage': '/mnt/dj-stor01/platinum/minnie65'}, 'meshes': {'protocol': 'file', 'location': '/mnt/dj-stor01/platinum/minnie65/02/meshes', 'stage': '/mnt/dj-stor01/platinum/minnie65/02/meshes'}, 'decimated_meshes': {'protocol': 'file', 'location': '/mnt/dj-stor01/platinum/minnie65/02/decimated_meshes', 'stage': '/mnt/dj-stor01/platinum/minnie65/02/decimated_meshes'}, 'skeletons': {'protocol': 'file', 'location': '/mnt/dj-stor01/platinum/minnie65/02/skeletons'}}\n",
      "INFO - 2021-01-14 00:10:41,986 - settings - Setting enable_python_native_blobs to True\n",
      "INFO - 2021-01-14 00:10:41,998 - connection - Connected celiib@at-database.ad.bcm.edu:3306\n"
     ]
    },
    {
     "name": "stdout",
     "output_type": "stream",
     "text": [
      "Connecting celiib@at-database.ad.bcm.edu:3306\n"
     ]
    },
    {
     "name": "stderr",
     "output_type": "stream",
     "text": [
      "INFO - 2021-01-14 00:10:42,279 - settings - Setting enable_python_native_blobs to True\n"
     ]
    }
   ],
   "source": [
    "import numpy as np\n",
    "import datajoint as dj\n",
    "import trimesh\n",
    "from tqdm.notebook import tqdm\n",
    "from pathlib import Path\n",
    "\n",
    "from os import sys\n",
    "sys.path.append(\"/meshAfterParty/\")\n",
    "\n",
    "import datajoint_utils as du\n",
    "from importlib import reload"
   ]
  },
  {
   "cell_type": "code",
   "execution_count": 3,
   "metadata": {},
   "outputs": [
    {
     "name": "stderr",
     "output_type": "stream",
     "text": [
      "INFO - 2021-01-14 00:10:42,455 - settings - Setting database.host to at-database.ad.bcm.edu\n",
      "INFO - 2021-01-14 00:10:42,456 - settings - Setting database.user to celiib\n",
      "INFO - 2021-01-14 00:10:42,456 - settings - Setting database.password to newceliipass\n",
      "INFO - 2021-01-14 00:10:42,458 - settings - Setting enable_python_native_blobs to True\n"
     ]
    },
    {
     "name": "stdout",
     "output_type": "stream",
     "text": [
      "Sleeping 12 sec before conneting\n",
      "Done sleeping\n",
      "Current path for external_segmentation_path = /mnt/dj-stor01/platinum/minnie65/02\n",
      "Current path for external_mesh_path = /mnt/dj-stor01/platinum/minnie65/02/meshes\n",
      "Current path for external_decimated_mesh_path = /mnt/dj-stor01/platinum/minnie65/02/decimated_meshes\n",
      "Current path for external_skeleton_path = /mnt/dj-stor01/platinum/minnie65/02/skeletons\n"
     ]
    },
    {
     "name": "stderr",
     "output_type": "stream",
     "text": [
      "INFO - 2021-01-14 00:10:42,742 - settings - Setting enable_python_native_blobs to True\n"
     ]
    }
   ],
   "source": [
    "import minfig\n",
    "import time\n",
    "import numpy as np\n",
    "#want to add in a wait for the connection part\n",
    "random_sleep_sec = np.random.randint(0, 30)\n",
    "print(f\"Sleeping {random_sleep_sec} sec before conneting\")\n",
    "#time.sleep(random_sleep_sec)\n",
    "print(\"Done sleeping\")\n",
    "\n",
    "du.config_celii()\n",
    "du.set_minnie65_config_segmentation(minfig)\n",
    "du.print_minnie65_config_paths(minfig)\n",
    "\n",
    "#configuring will include the adapters\n",
    "minnie,schema = du.configure_minnie_vm()"
   ]
  },
  {
   "cell_type": "markdown",
   "metadata": {},
   "source": [
    "# Defining the Table"
   ]
  },
  {
   "cell_type": "code",
   "execution_count": 4,
   "metadata": {},
   "outputs": [],
   "source": [
    "import neuron_utils as nru\n",
    "import neuron\n",
    "import trimesh_utils as tu\n",
    "import numpy as np"
   ]
  },
  {
   "cell_type": "code",
   "execution_count": 5,
   "metadata": {},
   "outputs": [
    {
     "name": "stdout",
     "output_type": "stream",
     "text": [
      "No port chosen so picked random port 385\n"
     ]
    }
   ],
   "source": [
    "import meshlab\n",
    "meshlab.set_meshlab_port(current_port=None)"
   ]
  },
  {
   "cell_type": "code",
   "execution_count": 6,
   "metadata": {},
   "outputs": [],
   "source": [
    "#so that it will have the adapter defined\n",
    "from datajoint_utils import *"
   ]
  },
  {
   "cell_type": "markdown",
   "metadata": {},
   "source": [
    "# Segment That we are checking"
   ]
  },
  {
   "cell_type": "code",
   "execution_count": 7,
   "metadata": {},
   "outputs": [],
   "source": [
    "\"\"\"\n",
    "Ohter neurons to check:\n",
    "\n",
    "864691135654122946\n",
    "864691135583731320\n",
    "\n",
    "\n",
    "\"\"\"\n",
    "segment_id=864691135474614848"
   ]
  },
  {
   "cell_type": "code",
   "execution_count": 8,
   "metadata": {},
   "outputs": [
    {
     "name": "stdout",
     "output_type": "stream",
     "text": [
      "\n",
      "\n",
      "----- Working on 864691135474614848-------\n",
      "somas = [[<trimesh.Trimesh(vertices.shape=(30382, 3), faces.shape=(60374, 3))>, <trimesh.Trimesh(vertices.shape=(23275, 3), faces.shape=(46114, 3))>], array([1260.4677, 1260.4677]), array([0.813, 0.851])]\n"
     ]
    }
   ],
   "source": [
    "#1) Get the segment id from the key\n",
    "description = \"0_25\"\n",
    "print(f\"\\n\\n----- Working on {segment_id}-------\")\n",
    "global_start = time.time()\n",
    "\n",
    "#2) Get the decimated mesh\n",
    "current_neuron_mesh = du.fetch_segment_id_mesh(segment_id)\n",
    "\n",
    "#3) Get the somas info *************************** Need to change this when actually run *******************\n",
    "somas = du.get_soma_mesh_list(segment_id) \n",
    "print(f\"somas = {somas}\")\n",
    "#4) Run the preprocessing\n",
    "\n",
    "\n",
    "total_neuron_process_time = time.time()"
   ]
  },
  {
   "cell_type": "markdown",
   "metadata": {},
   "source": [
    "# Getting the Glia and Nuclie Faces"
   ]
  },
  {
   "cell_type": "code",
   "execution_count": 9,
   "metadata": {},
   "outputs": [],
   "source": [
    "#3b) Get the glia and nuclei information \n",
    "glia_faces,nuclei_faces = du.get_segment_glia_nuclei_faces(segment_id,return_empty_list=True)"
   ]
  },
  {
   "cell_type": "markdown",
   "metadata": {},
   "source": [
    "# Doing the decomposition function"
   ]
  },
  {
   "cell_type": "code",
   "execution_count": null,
   "metadata": {},
   "outputs": [],
   "source": [
    "import preprocessing_vp2 as pre\n",
    "pre = reload(pre)\n",
    "import skeleton_utils as sk\n",
    "sk = reload(sk)"
   ]
  },
  {
   "cell_type": "code",
   "execution_count": null,
   "metadata": {
    "scrolled": true
   },
   "outputs": [
    {
     "name": "stdout",
     "output_type": "stream",
     "text": [
      "\n",
      "--- Beginning preprocessing of 864691135474614848---\n",
      "--- 0) Having to preprocess the Neuron becuase no preprocessed data\n",
      "Please wait this could take a while.....\n",
      "Skipping the hole filling\n",
      "use_meshafterparty = True\n",
      "Using pre-computed somas: soma_mesh_list = [<trimesh.Trimesh(vertices.shape=(30382, 3), faces.shape=(60374, 3))>, <trimesh.Trimesh(vertices.shape=(23275, 3), faces.shape=(46114, 3))>]\n",
      "Soma List = [<trimesh.Trimesh(vertices.shape=(30382, 3), faces.shape=(60374, 3))>, <trimesh.Trimesh(vertices.shape=(23275, 3), faces.shape=(46114, 3))>]\n",
      "soma_mesh_list_centers = [array([640998.01690145, 806487.07067013, 864776.05911724]), array([560018.00020194, 820418.59705693, 903772.41926101])]\n",
      "Getting Glia and Nuclei Pieces Subtracted Away 1.5261495113372803\n",
      " Splitting mesh after soma cancellation 7.187393665313721\n",
      "# of split_meshes = 29\n",
      " Containing Mesh Indices 0.22929668426513672\n",
      " non_soma_touching_meshes 4.792213439941406e-05\n",
      "There were 28 pieces found after size threshold\n",
      " Finding inside pieces and non_soma_touching meshes 5.489115238189697\n",
      "\n",
      "-----Before filtering away multiple disconneted soma pieces-----\n",
      "# of soma containing seperate meshes = 1\n",
      "meshes with somas = {0: [0, 1]}\n",
      "Number of not_processed_soma_containing_meshes = 0\n",
      "\n",
      "-----After filtering away multiple disconneted soma pieces-----\n",
      "# of soma containing seperate meshes = 1\n",
      "meshes with somas = {0: [0, 1]}\n",
      " Filtering Away Disconnected Soma Pieces 0.0013973712921142578\n",
      "\n",
      "\n",
      "----Working on soma-containing mesh piece 0----\n",
      "Total time for Subtract Soma and Original_mesh_faces_map for somas= 9.504745244979858\n",
      "new_floating_pieces = []\n",
      "Total time for sig_non_soma_pieces= 83.18215298652649\n",
      "Total time for split= 1.1920928955078125e-06\n",
      "Total time for mesh_pieces_connectivity= 98.91236686706543\n",
      "# of insignificant_limbs = 1 with trimesh : [<trimesh.Trimesh(vertices.shape=(276, 3), faces.shape=(541, 3))>]\n",
      "# of not_processed_soma_containing_meshes = 0 with trimesh : []\n",
      "\n",
      "\n",
      "----- Working on Proper Limb # 0 ---------\n",
      "meshparty_segment_size = 100\n",
      "root_curr = [635019. 805665. 852642.]\n",
      "Time for preparing soma vertices and root: 0.0002357959747314453\n",
      "invalidation_d = 12000\n",
      "cc_vertex_thresh = 10\n"
     ]
    },
    {
     "name": "stderr",
     "output_type": "stream",
     "text": [
      "\r",
      "  0%|          | 0/1 [00:00<?, ?it/s]"
     ]
    },
    {
     "data": {
      "application/vnd.jupyter.widget-view+json": {
       "model_id": "e4c95bcfc8c0434b9fe5af6675ea6516",
       "version_major": 2,
       "version_minor": 0
      },
      "text/plain": [
       "HBox(children=(FloatProgress(value=0.0, max=1707038.0), HTML(value='')))"
      ]
     },
     "metadata": {},
     "output_type": "display_data"
    },
    {
     "name": "stderr",
     "output_type": "stream",
     "text": [
      "100%|██████████| 1/1 [21:26<00:00, 1286.04s/it]"
     ]
    },
    {
     "name": "stdout",
     "output_type": "stream",
     "text": [
      "\n"
     ]
    },
    {
     "name": "stderr",
     "output_type": "stream",
     "text": [
      "\n"
     ]
    },
    {
     "name": "stdout",
     "output_type": "stream",
     "text": [
      "meshparty_segment_size = 100\n",
      "Time for 1st pass MP skeletonization: 1795.2661383152008\n",
      "connecting at the root\n",
      "branches_touching_root = [1127]\n",
      "length of Graph = 331027\n",
      "Working on path [2526. 2553. 2565. 2575. 2586. 2597. 2608. 2619.]\n",
      "path_degrees = [3, 2, 2, 2, 2, 2, 2, 3]\n",
      "Working on path [5497. 5510. 5520. 5530.]\n",
      "path_degrees = [3, 2, 2, 3]\n",
      "Working on path [5636. 5649. 5662. 5670.]\n",
      "path_degrees = [3, 2, 2, 3]\n",
      "Working on path [7054. 7070. 7091. 7115. 7138. 7149.]\n",
      "path_degrees = [3, 2, 2, 2, 2, 3]\n",
      "Working on path [7532. 7553. 7571. 7586.]\n",
      "path_degrees = [3, 2, 2, 3]\n",
      "Working on path [9439. 9462. 9486. 9509. 9539. 9562.]\n",
      "path_degrees = [3, 2, 2, 2, 2, 3]\n",
      "Working on path [10881. 10907. 10923. 10946.]\n",
      "path_degrees = [3, 2, 2, 3]\n",
      "Working on path [23925. 23964. 23997. 24009.]\n",
      "path_degrees = [3, 2, 2, 3]\n",
      "Working on path [331034.  24016.  24023.  24029.]\n",
      "path_degrees = [4, 2, 2, 3]\n",
      "Working on path [24168. 24173. 24178. 24179.]\n",
      "path_degrees = [3, 2, 2, 3]\n",
      "Working on path [26475. 26518. 26521.]\n",
      "path_degrees = [3, 2, 3]\n",
      "Working on path [331037.  26569.  26614.  26655.  26702.  26738.]\n",
      "path_degrees = [4, 2, 2, 2, 2, 3]\n",
      "Working on path [31477. 31494. 31525. 31547. 31563.]\n",
      "path_degrees = [3, 2, 2, 2, 3]\n",
      "Working on path [39593. 39623.]\n",
      "path_degrees = [3, 3]\n",
      "Working on path [40613. 40619. 40620.]\n",
      "path_degrees = [3, 2, 3]\n",
      "Working on path [46384. 46472. 46549. 46621. 46701. 46713.]\n",
      "path_degrees = [3, 2, 2, 2, 2, 3]\n",
      "Working on path [50363. 50410. 50488. 50577. 50684. 50705.]\n",
      "path_degrees = [3, 2, 2, 2, 2, 3]\n",
      "Working on path [51776. 51830.]\n",
      "path_degrees = [3, 3]\n",
      "Working on path [67634. 67657. 67681. 67690.]\n",
      "path_degrees = [3, 2, 2, 3]\n",
      "Working on path [68717. 68736. 68753. 68754.]\n",
      "path_degrees = [3, 2, 2, 3]\n",
      "Working on path [91807. 91899. 91994. 92002.]\n",
      "path_degrees = [3, 2, 2, 3]\n",
      "Working on path [92976. 92995. 93011.]\n",
      "path_degrees = [3, 2, 3]\n",
      "Working on path [97589. 97631. 97697. 97752. 97808. 97873.]\n",
      "path_degrees = [3, 2, 2, 2, 2, 3]\n",
      "Working on path [98302. 98412. 98523. 98637. 98752. 98873. 99014. 99029.]\n",
      "path_degrees = [3, 2, 2, 2, 2, 2, 2, 3]\n",
      "Working on path [111719. 111899. 112035. 112165. 112322. 112475. 112603.]\n",
      "path_degrees = [3, 2, 2, 2, 2, 2, 3]\n",
      "Working on path [113592. 113681. 113757. 113865. 113895.]\n",
      "path_degrees = [3, 2, 2, 2, 3]\n",
      "Working on path [114750. 114913. 115069. 115150.]\n",
      "path_degrees = [3, 2, 2, 3]\n",
      "Working on path [116703. 116719. 116727. 116737.]\n",
      "path_degrees = [3, 2, 2, 3]\n",
      "Working on path [117016. 117041. 117076. 117094. 117120. 117128.]\n",
      "path_degrees = [3, 2, 2, 2, 2, 3]\n",
      "Working on path [138057. 138255. 138397. 138517. 138615. 138715. 138824.]\n",
      "path_degrees = [3, 2, 2, 2, 2, 2, 3]\n",
      "Working on path [331056. 138913. 138935.]\n",
      "path_degrees = [4, 2, 3]\n",
      "Working on path [150592. 150636. 150678.]\n",
      "path_degrees = [3, 2, 3]\n",
      "Working on path [154616. 154687. 154751. 154817. 154895. 154964.]\n",
      "path_degrees = [3, 2, 2, 2, 2, 3]\n",
      "Working on path [154745. 154836. 155003. 155136.]\n",
      "path_degrees = [3, 2, 2, 3]\n",
      "Working on path [195319. 195357. 195401. 195451. 195503. 195553. 195570.]\n",
      "path_degrees = [3, 2, 2, 2, 2, 2, 3]\n",
      "Working on path [222821. 222863. 222911. 222978. 223049.]\n",
      "path_degrees = [3, 2, 2, 2, 3]\n",
      "Working on path [229244. 229287. 229332. 229374. 229404. 229436. 229452.]\n",
      "path_degrees = [3, 2, 2, 2, 2, 2, 3]\n",
      "Working on path [229407. 229426. 229444. 331063.]\n",
      "path_degrees = [3, 2, 2, 4]\n",
      "Working on path [231089. 231138. 231182. 231220.]\n",
      "path_degrees = [3, 2, 2, 3]\n",
      "Working on path [331065. 231155. 231232. 231357. 231431. 231508. 231555.]\n",
      "path_degrees = [4, 2, 2, 2, 2, 2, 3]\n",
      "Working on path [231337. 231387. 231428. 231473. 231515. 231547. 331066.]\n",
      "path_degrees = [3, 2, 2, 2, 2, 2, 5]\n",
      "Working on path [233585. 233593. 233603. 233610. 233616. 233617.]\n",
      "path_degrees = [3, 2, 2, 2, 2, 3]\n",
      "Working on path [234716. 234816. 234913. 235006. 235117. 235212. 235225.]\n",
      "path_degrees = [3, 2, 2, 2, 2, 2, 3]\n",
      "Working on path [247799. 247867. 247938. 248015. 248087. 248149. 248185.]\n",
      "path_degrees = [3, 2, 2, 2, 2, 2, 3]\n",
      "Working on path [275622. 275654. 275702. 275715.]\n",
      "path_degrees = [3, 2, 2, 3]\n",
      "Working on path [278662. 278702. 278739. 278767. 278793. 278814. 278837. 278855.]\n",
      "path_degrees = [3, 2, 2, 2, 2, 2, 2, 3]\n",
      "Working on path [287586. 287638. 287693. 287735.]\n",
      "path_degrees = [3, 2, 2, 3]\n",
      "Working on path [292325. 292326. 292327.]\n",
      "path_degrees = [3, 2, 3]\n",
      "Working on path [300883. 300915. 300946. 300979. 301011. 301044. 301074.]\n",
      "path_degrees = [3, 2, 2, 2, 2, 2, 3]\n",
      "Working on path [303580. 303617. 303653. 303692. 303727.]\n",
      "path_degrees = [3, 2, 2, 2, 3]\n",
      "Working on path [308911. 308954. 308973. 308993. 309019. 309030.]\n",
      "path_degrees = [3, 2, 2, 2, 2, 3]\n",
      "Working on path [321265. 321274. 321300. 321348. 321371. 321414. 321433.]\n",
      "path_degrees = [3, 2, 2, 2, 2, 2, 3]\n",
      "Working on path [327126. 327143. 327164. 327183. 327204. 327229.]\n",
      "path_degrees = [3, 2, 2, 2, 2, 3]\n",
      "Working on path [328181. 328211. 328228. 328243. 328272. 328284. 328294. 328299.]\n",
      "path_degrees = [3, 2, 2, 2, 2, 2, 2, 3]\n",
      "Working on path [329177. 329181. 329187. 329191. 329193.]\n",
      "path_degrees = [3, 2, 2, 2, 3]\n",
      "After combining close endpoints max(kept_branches_idx) = 1127, len(kept_branches_idx) = 1073\n",
      "empty_indices % = 0.0\n",
      " conflict_indices % = 0.008630544292332983\n"
     ]
    },
    {
     "data": {
      "application/vnd.jupyter.widget-view+json": {
       "model_id": "c07e5a8ed3e64fc7b494d6dfcb434b2a",
       "version_major": 2,
       "version_minor": 0
      },
      "text/plain": [
       "HBox(children=(FloatProgress(value=0.0, max=519.0), HTML(value='')))"
      ]
     },
     "metadata": {},
     "output_type": "display_data"
    },
    {
     "name": "stdout",
     "output_type": "stream",
     "text": [
      "\n",
      "AFTER face_lookup_resolved_test\n"
     ]
    },
    {
     "data": {
      "application/vnd.jupyter.widget-view+json": {
       "model_id": "d57c8a44601f42228b957c37504b0448",
       "version_major": 2,
       "version_minor": 0
      },
      "text/plain": [
       "HBox(children=(FloatProgress(value=0.0, max=1073.0), HTML(value='')))"
      ]
     },
     "metadata": {},
     "output_type": "display_data"
    },
    {
     "name": "stdout",
     "output_type": "stream",
     "text": [
      "\n",
      "Decomposing first pass: 1553.1527445316315\n",
      "Attempting to use MeshAfterParty Skeletonization and Mesh Correspondence\n",
      "Another print\n",
      "Found len(mesh_large_idx) MAP candidates: [5851, 2028, 2003, 2877, 901, 15497, 7986, 312, 5520, 20226, 65, 3507, 6649, 3299, 658, 98, 5903, 157, 6238, 7897, 486, 1872, 8129, 4536, 2576, 77, 807, 1020, 3924, 4814, 5275, 7124, 5535, 152, 5249, 15353, 13561, 5187, 4382, 11626, 2115, 3228, 5270, 5548, 1925, 12807, 21384, 13527, 7390, 15633, 5250, 12117, 6428, 7843, 3578, 4670, 4911, 3186, 6854, 7931, 1339, 3837, 9380, 902, 5598, 2603, 7939, 5241, 3481, 7065, 2403, 8460, 7661, 1658, 3847, 1224, 11011, 533, 283, 12823, 236, 5182, 31622, 5314, 2316, 12003]\n",
      "mesh_large_connectivity: 7.712279796600342\n",
      "Finding MAP candidates connected components: 0.0008664131164550781\n",
      "len(filtered_pieces) = 14\n",
      "skeleton_connectivity_MP : 12.271556377410889\n",
      "Grouping MP Sublimbs by Graph: 3.113306760787964\n",
      "Divinding into MP and MAP pieces: 1.430511474609375e-06\n",
      "--- Working on MAP piece 0---\n",
      "MAP Filtering Soma Pieces: 0.003618478775024414\n",
      "inside skeletonize_connected_branch and use_surface_after_CGAL=False, surface_reconstruction_size=1000\n",
      "     Starting Screened Poisson\n",
      "xvfb-run -n 385 -s \"-screen 0 800x600x24\" meshlabserver $@  -i /notebooks/Auto_Proofreading/Decomposition_Optimization/Debug_3_Seg_Fault/temp/None.off -o /notebooks/Auto_Proofreading/Decomposition_Optimization/Debug_3_Seg_Fault/temp/None_poisson.off -s /notebooks/Auto_Proofreading/Decomposition_Optimization/Debug_3_Seg_Fault/temp/poisson_568426.mls\n",
      "removed temporary input file: /notebooks/Auto_Proofreading/Decomposition_Optimization/Debug_3_Seg_Fault/temp/None.off\n",
      "removed temporary output file: /notebooks/Auto_Proofreading/Decomposition_Optimization/Debug_3_Seg_Fault/temp/None_poisson.off\n",
      "Using the close holes feature\n",
      "Mesh was manifold\n",
      "No holes needed to fill and mesh was manifold so returning original mesh\n",
      "-----Time for Screened Poisson= 6.9551475048065186\n",
      "mesh_pieces = [<trimesh.Trimesh(vertices.shape=(14343, 3), faces.shape=(28682, 3))>]\n",
      "     Starting Calcification (Changed back where stitches large poissons)\n",
      "min_edge_length = 75\n"
     ]
    },
    {
     "data": {
      "application/vnd.jupyter.widget-view+json": {
       "model_id": "e848e7c8e3264bc5a8957b9f22c625b2",
       "version_major": 2,
       "version_minor": 0
      },
      "text/plain": [
       "HBox(children=(FloatProgress(value=1.0, bar_style='info', max=1.0), HTML(value='')))"
      ]
     },
     "metadata": {},
     "output_type": "display_data"
    },
    {
     "name": "stdout",
     "output_type": "stream",
     "text": [
      "\n",
      "No skeletons to stack so returning empty list\n",
      "len_subgraphs AT BEGINNING of the loop\n"
     ]
    },
    {
     "data": {
      "application/vnd.jupyter.widget-view+json": {
       "model_id": "cf8216899fa64c778ced3733b6e474ec",
       "version_major": 2,
       "version_minor": 0
      },
      "text/plain": [
       "HBox(children=(FloatProgress(value=0.0, max=1.0), HTML(value='')))"
      ]
     },
     "metadata": {},
     "output_type": "display_data"
    },
    {
     "name": "stdout",
     "output_type": "stream",
     "text": [
      "all graph is one component!\n",
      "\n",
      "Total time for skeleton stitching = 0.03151559829711914\n",
      "The process was using a temp folder\n",
      "Checking connected components after skeletonize_connected_branch\n",
      "    Total time for skeletonizing branch: 7.902944564819336\n",
      "Checking connected components after removing cycles\n",
      "    Total time for Fixing Skeleton Soma Endpoint Extension : 0.00863337516784668\n",
      "filter_end_node_length = 4000\n",
      "Using Distance measure skeletal_distance\n"
     ]
    },
    {
     "data": {
      "application/vnd.jupyter.widget-view+json": {
       "model_id": "d4132cef8bbc44859a386de872d7d14f",
       "version_major": 2,
       "version_minor": 0
      },
      "text/plain": [
       "HBox(children=(FloatProgress(value=0.0, max=1.0), HTML(value='')))"
      ]
     },
     "metadata": {},
     "output_type": "display_data"
    },
    {
     "name": "stdout",
     "output_type": "stream",
     "text": [
      "\n",
      "Checking connected components after clean_skeleton\n",
      "after DISTANCE cleaning limb size of skeleton = (194, 2, 3)\n",
      "********COMBINING CLOSE SKELETON NODES WITHIN 700 DISTANCE**********\n",
      "Found 0 valid paths to replace\n",
      "valid_paths = []\n",
      "valid_path_lengths = []\n",
      "No valid paths found so just returning the original\n",
      "Inside MAP decomposition and curr_limb_endpoints_must_keep was None\n",
      "skeletonize_and_clean_connected_branch_CGAL: 24.607966899871826\n",
      "Working on limb correspondence for #0 MAP piece\n",
      "xvfb-run -n 385 -s \"-screen 0 800x600x24\" meshlabserver $@  -i /notebooks/Auto_Proofreading/Decomposition_Optimization/Debug_3_Seg_Fault/temp/neuron_80448.off -o /notebooks/Auto_Proofreading/Decomposition_Optimization/Debug_3_Seg_Fault/temp/neuron_80448_remove_interior.off -s /notebooks/Auto_Proofreading/Decomposition_Optimization/Debug_3_Seg_Fault/temp/remove_interior_277561.mls\n",
      "removed temporary input file: /notebooks/Auto_Proofreading/Decomposition_Optimization/Debug_3_Seg_Fault/temp/neuron_80448.off\n",
      "removed temporary output file: /notebooks/Auto_Proofreading/Decomposition_Optimization/Debug_3_Seg_Fault/temp/neuron_80448_remove_interior.off\n",
      "/notebooks/Auto_Proofreading/Decomposition_Optimization/Debug_3_Seg_Fault/temp/remove_interior_277561.mls is being deleted....\n",
      "THERE WERE NO MESH PIECES GREATER THAN THE significance_threshold\n",
      "No significant (100) interior meshes present\n",
      "largest is 14\n"
     ]
    },
    {
     "data": {
      "application/vnd.jupyter.widget-view+json": {
       "model_id": "43b441da3e9348889d89bf908b0bac9c",
       "version_major": 2,
       "version_minor": 0
      },
      "text/plain": [
       "HBox(children=(FloatProgress(value=1.0, bar_style='info', max=1.0), HTML(value='')))"
      ]
     },
     "metadata": {},
     "output_type": "display_data"
    },
    {
     "name": "stdout",
     "output_type": "stream",
     "text": [
      "\n",
      "Total time for decomposition = 1.7435493469238281\n",
      "mesh_correspondence_first_pass: 1.7435815334320068\n",
      "Limb decomposed into 1 branches\n",
      "divided_skeleton_graph_recovered = (194, 2, 3) and \n",
      "current_mesh_data[0]['branch_skeletons_cleaned'].shape = (194, 2, 3)\n",
      "\n",
      "Number of connected components in deocmposed recovered graph = 1\n",
      "Number of connected components in cleaned skeleton graph= 1\n",
      "The downsampled branches number of connected components = 1\n",
      "Empty submeshes = []\n",
      "\n",
      "\n",
      "--- Working on 1-to-1 correspondence-----\n",
      "max(original_labels),len(original_labels) = (0, 1)\n",
      "empty_indices % = 0.00256366433088361\n",
      " conflict_indices % = 0.0\n"
     ]
    },
    {
     "data": {
      "application/vnd.jupyter.widget-view+json": {
       "model_id": "ed04d2d428184a1594b77ca9b1cd2592",
       "version_major": 2,
       "version_minor": 0
      },
      "text/plain": [
       "HBox(children=(FloatProgress(value=0.0, max=3.0), HTML(value='')))"
      ]
     },
     "metadata": {},
     "output_type": "display_data"
    },
    {
     "name": "stdout",
     "output_type": "stream",
     "text": [
      "\n",
      "AFTER face_lookup_resolved_test\n"
     ]
    },
    {
     "data": {
      "application/vnd.jupyter.widget-view+json": {
       "model_id": "6687c1c419cf4a679a861b18c8e053e6",
       "version_major": 2,
       "version_minor": 0
      },
      "text/plain": [
       "HBox(children=(FloatProgress(value=0.0, max=1.0), HTML(value='')))"
      ]
     },
     "metadata": {},
     "output_type": "display_data"
    },
    {
     "name": "stdout",
     "output_type": "stream",
     "text": [
      "\n",
      "Total time for MAP sublimb #0 mesh processing = 26.585952281951904\n",
      "correspondence_1_to_1: 0.23081278800964355\n",
      "--- Working on MAP piece 1---\n",
      "MAP Filtering Soma Pieces: 0.010814189910888672\n",
      "inside skeletonize_connected_branch and use_surface_after_CGAL=False, surface_reconstruction_size=1000\n",
      "     Starting Screened Poisson\n",
      "xvfb-run -n 385 -s \"-screen 0 800x600x24\" meshlabserver $@  -i /notebooks/Auto_Proofreading/Decomposition_Optimization/Debug_3_Seg_Fault/temp/None.off -o /notebooks/Auto_Proofreading/Decomposition_Optimization/Debug_3_Seg_Fault/temp/None_poisson.off -s /notebooks/Auto_Proofreading/Decomposition_Optimization/Debug_3_Seg_Fault/temp/poisson_305913.mls\n",
      "removed temporary input file: /notebooks/Auto_Proofreading/Decomposition_Optimization/Debug_3_Seg_Fault/temp/None.off\n",
      "removed temporary output file: /notebooks/Auto_Proofreading/Decomposition_Optimization/Debug_3_Seg_Fault/temp/None_poisson.off\n",
      "Using the close holes feature\n",
      "Mesh was manifold\n",
      "No holes needed to fill and mesh was manifold so returning original mesh\n",
      "-----Time for Screened Poisson= 11.757771492004395\n",
      "mesh_pieces = [<trimesh.Trimesh(vertices.shape=(46753, 3), faces.shape=(93506, 3))>, <trimesh.Trimesh(vertices.shape=(13659, 3), faces.shape=(27330, 3))>]\n",
      "     Starting Calcification (Changed back where stitches large poissons)\n",
      "min_edge_length = 75\n",
      "min_edge_length = 75\n",
      "node_degrees = [2 2 3 3 2 2 3 2 2 3 2 2]\n"
     ]
    },
    {
     "data": {
      "application/vnd.jupyter.widget-view+json": {
       "model_id": "6319bbd4edcc4e5091ce39dd9d876434",
       "version_major": 2,
       "version_minor": 0
      },
      "text/plain": [
       "HBox(children=(FloatProgress(value=1.0, bar_style='info', max=1.0), HTML(value='')))"
      ]
     },
     "metadata": {},
     "output_type": "display_data"
    },
    {
     "name": "stdout",
     "output_type": "stream",
     "text": [
      "\n",
      "No skeletons to stack so returning empty list\n",
      "len_subgraphs AT BEGINNING of the loop\n"
     ]
    },
    {
     "data": {
      "application/vnd.jupyter.widget-view+json": {
       "model_id": "4b0d1cad7d6a4f3ebb8ec7cc5a3fb3ad",
       "version_major": 2,
       "version_minor": 0
      },
      "text/plain": [
       "HBox(children=(FloatProgress(value=0.0, max=2.0), HTML(value='')))"
      ]
     },
     "metadata": {},
     "output_type": "display_data"
    },
    {
     "name": "stdout",
     "output_type": "stream",
     "text": [
      "all graph is one component!\n",
      "\n",
      "Total time for skeleton stitching = 0.08314919471740723\n",
      "The process was using a temp folder\n",
      "Checking connected components after skeletonize_connected_branch\n",
      "    Total time for skeletonizing branch: 16.388176918029785\n",
      "Checking connected components after removing cycles\n",
      "    Total time for Fixing Skeleton Soma Endpoint Extension : 0.08402156829833984\n",
      "filter_end_node_length = 4000\n",
      "xvfb-run -n 385 -s \"-screen 0 800x600x24\" meshlabserver $@  -i /notebooks/Auto_Proofreading/Decomposition_Optimization/Debug_3_Seg_Fault/temp/neuron_51991.off -o /notebooks/Auto_Proofreading/Decomposition_Optimization/Debug_3_Seg_Fault/temp/neuron_51991_remove_interior.off -s /notebooks/Auto_Proofreading/Decomposition_Optimization/Debug_3_Seg_Fault/temp/remove_interior_800675.mls\n",
      "removed temporary input file: /notebooks/Auto_Proofreading/Decomposition_Optimization/Debug_3_Seg_Fault/temp/neuron_51991.off\n",
      "removed temporary output file: /notebooks/Auto_Proofreading/Decomposition_Optimization/Debug_3_Seg_Fault/temp/neuron_51991_remove_interior.off\n",
      "/notebooks/Auto_Proofreading/Decomposition_Optimization/Debug_3_Seg_Fault/temp/remove_interior_800675.mls is being deleted....\n",
      "Removing the following inside neurons: [<trimesh.Trimesh(vertices.shape=(175, 3), faces.shape=(271, 3))>, <trimesh.Trimesh(vertices.shape=(77, 3), faces.shape=(117, 3))>]\n",
      "Using Distance measure skeletal_distance\n",
      "endpoints_must_keep = [[662740. 826031. 880619.]\n",
      " [676722. 811813. 894282.]]\n",
      "Number of end_nodes BEFORE filtering = 11\n",
      "all_single_nodes_to_eliminate = [0, 7]\n"
     ]
    },
    {
     "data": {
      "application/vnd.jupyter.widget-view+json": {
       "model_id": "972cdddb0eaf43a7b532ce4dac877e8c",
       "version_major": 2,
       "version_minor": 0
      },
      "text/plain": [
       "HBox(children=(FloatProgress(value=0.0, max=7.0), HTML(value='')))"
      ]
     },
     "metadata": {},
     "output_type": "display_data"
    },
    {
     "name": "stdout",
     "output_type": "stream",
     "text": [
      "\n",
      "Checking connected components after clean_skeleton\n",
      "after DISTANCE cleaning limb size of skeleton = (1549, 2, 3)\n",
      "high-degree endpoints were connected so just using that connection\n",
      "curr_branch = {672.0, 704.0, 711.0, 712.0, 684.0, 717.0, 719.0, 666, 669.0, 703.0}\n",
      "********COMBINING CLOSE SKELETON NODES WITHIN 700 DISTANCE**********\n",
      "Found 0 valid paths to replace\n",
      "valid_paths = []\n",
      "valid_path_lengths = []\n",
      "No valid paths found so just returning the original\n",
      "Inside MAP decomposition and curr_limb_endpoints_must_keep was None\n",
      "skeletonize_and_clean_connected_branch_CGAL: 22.026156425476074\n",
      "Working on limb correspondence for #1 MAP piece\n",
      "xvfb-run -n 385 -s \"-screen 0 800x600x24\" meshlabserver $@  -i /notebooks/Auto_Proofreading/Decomposition_Optimization/Debug_3_Seg_Fault/temp/neuron_88709.off -o /notebooks/Auto_Proofreading/Decomposition_Optimization/Debug_3_Seg_Fault/temp/neuron_88709_remove_interior.off -s /notebooks/Auto_Proofreading/Decomposition_Optimization/Debug_3_Seg_Fault/temp/remove_interior_482454.mls\n",
      "removed temporary input file: /notebooks/Auto_Proofreading/Decomposition_Optimization/Debug_3_Seg_Fault/temp/neuron_88709.off\n",
      "removed temporary output file: /notebooks/Auto_Proofreading/Decomposition_Optimization/Debug_3_Seg_Fault/temp/neuron_88709_remove_interior.off\n",
      "/notebooks/Auto_Proofreading/Decomposition_Optimization/Debug_3_Seg_Fault/temp/remove_interior_482454.mls is being deleted....\n",
      "Removing the following inside neurons: [<trimesh.Trimesh(vertices.shape=(175, 3), faces.shape=(271, 3))>, <trimesh.Trimesh(vertices.shape=(77, 3), faces.shape=(117, 3))>]\n"
     ]
    },
    {
     "data": {
      "application/vnd.jupyter.widget-view+json": {
       "model_id": "f7cdfba15b674abfb070050ab7415155",
       "version_major": 2,
       "version_minor": 0
      },
      "text/plain": [
       "HBox(children=(FloatProgress(value=1.0, bar_style='info', max=1.0), HTML(value='')))"
      ]
     },
     "metadata": {},
     "output_type": "display_data"
    },
    {
     "name": "stdout",
     "output_type": "stream",
     "text": [
      "\n",
      "Total time for decomposition = 8.145859479904175\n",
      "mesh_correspondence_first_pass: 8.145887851715088\n",
      "Limb decomposed into 7 branches\n",
      "divided_skeleton_graph_recovered = (1538, 2, 3) and \n",
      "current_mesh_data[0]['branch_skeletons_cleaned'].shape = (1538, 2, 3)\n",
      "\n",
      "Number of connected components in deocmposed recovered graph = 1\n",
      "Number of connected components in cleaned skeleton graph= 1\n",
      "The downsampled branches number of connected components = 1\n",
      "Empty submeshes = []\n",
      "\n",
      "\n",
      "--- Working on 1-to-1 correspondence-----\n",
      "max(original_labels),len(original_labels) = (6, 7)\n",
      "empty_indices % = 0.1065458522105921\n",
      " conflict_indices % = 0.013878039889600582\n"
     ]
    },
    {
     "data": {
      "application/vnd.jupyter.widget-view+json": {
       "model_id": "12f01520cabd458a91c5bf01c7583947",
       "version_major": 2,
       "version_minor": 0
      },
      "text/plain": [
       "HBox(children=(FloatProgress(value=0.0, max=27.0), HTML(value='')))"
      ]
     },
     "metadata": {},
     "output_type": "display_data"
    },
    {
     "name": "stdout",
     "output_type": "stream",
     "text": [
      "\n",
      "AFTER face_lookup_resolved_test\n"
     ]
    },
    {
     "data": {
      "application/vnd.jupyter.widget-view+json": {
       "model_id": "8ff2ac2af6e94c70a0baa8daa0e53e24",
       "version_major": 2,
       "version_minor": 0
      },
      "text/plain": [
       "HBox(children=(FloatProgress(value=0.0, max=7.0), HTML(value='')))"
      ]
     },
     "metadata": {},
     "output_type": "display_data"
    },
    {
     "name": "stdout",
     "output_type": "stream",
     "text": [
      "\n",
      "Total time for MAP sublimb #1 mesh processing = 31.68506145477295\n",
      "correspondence_1_to_1: 1.5023279190063477\n",
      "--- Working on MAP piece 2---\n",
      "MAP Filtering Soma Pieces: 0.015364885330200195\n",
      "inside skeletonize_connected_branch and use_surface_after_CGAL=False, surface_reconstruction_size=1000\n",
      "     Starting Screened Poisson\n",
      "xvfb-run -n 385 -s \"-screen 0 800x600x24\" meshlabserver $@  -i /notebooks/Auto_Proofreading/Decomposition_Optimization/Debug_3_Seg_Fault/temp/None.off -o /notebooks/Auto_Proofreading/Decomposition_Optimization/Debug_3_Seg_Fault/temp/None_poisson.off -s /notebooks/Auto_Proofreading/Decomposition_Optimization/Debug_3_Seg_Fault/temp/poisson_64765.mls\n",
      "removed temporary input file: /notebooks/Auto_Proofreading/Decomposition_Optimization/Debug_3_Seg_Fault/temp/None.off\n",
      "removed temporary output file: /notebooks/Auto_Proofreading/Decomposition_Optimization/Debug_3_Seg_Fault/temp/None_poisson.off\n",
      "Using the close holes feature\n",
      "Mesh was manifold\n",
      "No holes needed to fill and mesh was manifold so returning original mesh\n",
      "-----Time for Screened Poisson= 40.473551511764526\n",
      "mesh_pieces = [<trimesh.Trimesh(vertices.shape=(266580, 3), faces.shape=(533212, 3))>, <trimesh.Trimesh(vertices.shape=(3630, 3), faces.shape=(7256, 3))>, <trimesh.Trimesh(vertices.shape=(2657, 3), faces.shape=(5310, 3))>]\n",
      "     Starting Calcification (Changed back where stitches large poissons)\n",
      "min_edge_length = 75\n",
      "min_edge_length = 75\n",
      "min_edge_length = 75\n",
      "node_degrees = [2 2 2 2 2 2 2 2 2 2 2 2 3 2 2 2 2 2 2 2 2 2 2 2 4 2 2]\n",
      "node_degrees = [3 2 2 2 2 2 2 2 2 2 2 2 2 4 2 2 2 2 2 2 2 2 2 2 2]\n",
      "node_degrees = [3 2 2 2 2 2 2 2 2 2 3 2 2 2 2 2 2 2 2 2]\n",
      "node_degrees = [2 2 3 2 2 2 2 2 2 2 2 2 2 3 2 2 2 2 2 2]\n",
      "node_degrees = [3 2 2 2 2 2 3 2 2 2 2 2 2]\n",
      "node_degrees = [3 2 2 2 3 2 3 2 2 2]\n",
      "node_degrees = [2 3 3]\n"
     ]
    },
    {
     "data": {
      "application/vnd.jupyter.widget-view+json": {
       "model_id": "207e32f0df614ff29641e1d4f2ea079d",
       "version_major": 2,
       "version_minor": 0
      },
      "text/plain": [
       "HBox(children=(FloatProgress(value=1.0, bar_style='info', max=1.0), HTML(value='')))"
      ]
     },
     "metadata": {},
     "output_type": "display_data"
    },
    {
     "name": "stdout",
     "output_type": "stream",
     "text": [
      "\n",
      "No skeletons to stack so returning empty list\n",
      "len_subgraphs AT BEGINNING of the loop\n"
     ]
    },
    {
     "data": {
      "application/vnd.jupyter.widget-view+json": {
       "model_id": "55ad1b6fc69d427fafda18b7463fb63f",
       "version_major": 2,
       "version_minor": 0
      },
      "text/plain": [
       "HBox(children=(FloatProgress(value=0.0, max=3.0), HTML(value='')))"
      ]
     },
     "metadata": {},
     "output_type": "display_data"
    },
    {
     "name": "stdout",
     "output_type": "stream",
     "text": [
      "all graph is one component!\n",
      "\n",
      "Total time for skeleton stitching = 0.2333986759185791\n",
      "The process was using a temp folder\n",
      "Checking connected components after skeletonize_connected_branch\n",
      "    Total time for skeletonizing branch: 92.06747221946716\n",
      "Checking connected components after removing cycles\n",
      "Total time for mesh KDTree = 1.1364953517913818\n",
      "sbv[0].reshape(-1,3) = [[635019. 805665. 852642.]]\n",
      "closest_sk_pt_coord BEFORE = [634543. 805768. 852877.]\n",
      "current_skeleton.shape = (6938, 2, 3)\n",
      "node_for_stitch = 3909: [634543. 805768. 852877.]\n",
      "node_for_stitch AFTER = 3909: [634543. 805768. 852877.]\n",
      "possible_node_loc = [  24  127  249  335  437  843  877 1398 1751 1774 1953 3191 3909 5417\n",
      " 5594 5966 6063 6100 6569 6860 6936]\n",
      "possible_node_loc AFTER = [  24  127  249  335  437  843  877 1398 1751 1774 1953 3191 3909 5417\n",
      " 5594 5966 6063 6100 6569 6860 6936]\n",
      "curr_shortest_path = [3909]\n",
      "Current stitch point was a branch or endpoint\n",
      "change_status for create soma extending pieces = False\n",
      "closest_sk_pt_coord AFTER = [634543. 805768. 852877.]\n",
      "skipping soma 0 because closest skeleton node was already end node\n",
      "endpoints_must_keep = {0: array([[634543., 805768., 852877.]])}\n",
      "    Total time for Fixing Skeleton Soma Endpoint Extension : 5.294928550720215\n",
      "filter_end_node_length = 4000\n",
      "xvfb-run -n 385 -s \"-screen 0 800x600x24\" meshlabserver $@  -i /notebooks/Auto_Proofreading/Decomposition_Optimization/Debug_3_Seg_Fault/temp/neuron_24337.off -o /notebooks/Auto_Proofreading/Decomposition_Optimization/Debug_3_Seg_Fault/temp/neuron_24337_remove_interior.off -s /notebooks/Auto_Proofreading/Decomposition_Optimization/Debug_3_Seg_Fault/temp/remove_interior_127105.mls\n",
      "removed temporary input file: /notebooks/Auto_Proofreading/Decomposition_Optimization/Debug_3_Seg_Fault/temp/neuron_24337.off\n",
      "removed temporary output file: /notebooks/Auto_Proofreading/Decomposition_Optimization/Debug_3_Seg_Fault/temp/neuron_24337_remove_interior.off\n",
      "/notebooks/Auto_Proofreading/Decomposition_Optimization/Debug_3_Seg_Fault/temp/remove_interior_127105.mls is being deleted....\n",
      "Removing the following inside neurons: [<trimesh.Trimesh(vertices.shape=(228, 3), faces.shape=(373, 3))>, <trimesh.Trimesh(vertices.shape=(203, 3), faces.shape=(367, 3))>, <trimesh.Trimesh(vertices.shape=(159, 3), faces.shape=(241, 3))>, <trimesh.Trimesh(vertices.shape=(133, 3), faces.shape=(199, 3))>, <trimesh.Trimesh(vertices.shape=(78, 3), faces.shape=(157, 3))>, <trimesh.Trimesh(vertices.shape=(75, 3), faces.shape=(115, 3))>]\n",
      "Using Distance measure skeletal_distance\n",
      "endpoints_must_keep = [[634543. 805768. 852877.]]\n",
      "Number of end_nodes BEFORE filtering = 21\n",
      "all_single_nodes_to_eliminate = [12]\n"
     ]
    },
    {
     "data": {
      "application/vnd.jupyter.widget-view+json": {
       "model_id": "89fd74328a674480bd39ffa89131451b",
       "version_major": 2,
       "version_minor": 0
      },
      "text/plain": [
       "HBox(children=(FloatProgress(value=0.0, max=9.0), HTML(value='')))"
      ]
     },
     "metadata": {},
     "output_type": "display_data"
    },
    {
     "name": "stdout",
     "output_type": "stream",
     "text": [
      "\n",
      "Checking connected components after clean_skeleton\n",
      "after DISTANCE cleaning limb size of skeleton = (6885, 2, 3)\n",
      "********COMBINING CLOSE SKELETON NODES WITHIN 700 DISTANCE**********\n",
      "Found 4 valid paths to replace\n",
      "valid_paths = [array([732., 730., 733., 734.]), array([4120., 4131., 4141., 4150., 4170.]), array([4120., 4143., 4151., 4162., 4176.]), array([4170., 4178., 4176.])]\n",
      "valid_path_lengths = [693.3195823253916, 669.057105103941, 540.138400408457, 356.3906126905139]\n",
      "length of Graph = 6884\n",
      "Working on path [732. 730. 733. 734.]\n",
      "path_degrees = [3, 2, 2, 3]\n",
      "Working on path [4120. 4131. 4141. 4150. 4170.]\n",
      "path_degrees = [3, 2, 2, 2, 3]\n",
      "Working on path [6885. 4143. 4151. 4162. 4176.]\n",
      "path_degrees = [4, 2, 2, 2, 3]\n",
      "Working on path [6886. 4178. 6886.]\n",
      "path_degrees = [4, 1, 4]\n",
      "node_degrees = [4 2 2 2 2 2 2 2 2 2 2 2 2 2 2 3 2 2 2 2 2 2 2 2 2 2 2 2 2 2 2]\n",
      "skeletonize_and_clean_connected_branch_CGAL: 137.76575231552124\n",
      "Working on limb correspondence for #2 MAP piece\n",
      "xvfb-run -n 385 -s \"-screen 0 800x600x24\" meshlabserver $@  -i /notebooks/Auto_Proofreading/Decomposition_Optimization/Debug_3_Seg_Fault/temp/neuron_45215.off -o /notebooks/Auto_Proofreading/Decomposition_Optimization/Debug_3_Seg_Fault/temp/neuron_45215_remove_interior.off -s /notebooks/Auto_Proofreading/Decomposition_Optimization/Debug_3_Seg_Fault/temp/remove_interior_880399.mls\n",
      "removed temporary input file: /notebooks/Auto_Proofreading/Decomposition_Optimization/Debug_3_Seg_Fault/temp/neuron_45215.off\n",
      "removed temporary output file: /notebooks/Auto_Proofreading/Decomposition_Optimization/Debug_3_Seg_Fault/temp/neuron_45215_remove_interior.off\n",
      "/notebooks/Auto_Proofreading/Decomposition_Optimization/Debug_3_Seg_Fault/temp/remove_interior_880399.mls is being deleted....\n",
      "Removing the following inside neurons: [<trimesh.Trimesh(vertices.shape=(228, 3), faces.shape=(373, 3))>, <trimesh.Trimesh(vertices.shape=(203, 3), faces.shape=(367, 3))>, <trimesh.Trimesh(vertices.shape=(159, 3), faces.shape=(241, 3))>, <trimesh.Trimesh(vertices.shape=(133, 3), faces.shape=(199, 3))>, <trimesh.Trimesh(vertices.shape=(78, 3), faces.shape=(157, 3))>, <trimesh.Trimesh(vertices.shape=(75, 3), faces.shape=(115, 3))>]\n"
     ]
    },
    {
     "data": {
      "application/vnd.jupyter.widget-view+json": {
       "model_id": "375200e54dd14ee38f787181f9740061",
       "version_major": 2,
       "version_minor": 0
      },
      "text/plain": [
       "HBox(children=(FloatProgress(value=1.0, bar_style='info', max=1.0), HTML(value='')))"
      ]
     },
     "metadata": {},
     "output_type": "display_data"
    }
   ],
   "source": [
    "total_neuron_process_time = time.time()\n",
    "\n",
    "print(f\"\\n--- Beginning preprocessing of {segment_id}---\")\n",
    "recovered_neuron = neuron.Neuron(\n",
    "mesh = current_neuron_mesh,\n",
    "somas = somas,\n",
    "segment_id=segment_id,\n",
    "description=description,\n",
    "suppress_preprocessing_print=False,\n",
    "suppress_output=False,\n",
    "calculate_spines=False,\n",
    "glia_faces=glia_faces,\n",
    "nuclei_faces = nuclei_faces,\n",
    "widths_to_calculate=[],\n",
    "    \n",
    "\n",
    "        )\n",
    "\n",
    "print(f\"\\n\\n\\n---- Total preprocessing time = {time.time() - total_neuron_process_time}\")"
   ]
  },
  {
   "cell_type": "code",
   "execution_count": 12,
   "metadata": {},
   "outputs": [
    {
     "name": "stdout",
     "output_type": "stream",
     "text": [
      "Saving Neuorn in suppress_output mode...please wait\n",
      "Saved File at location: 864691135474614848_0_25\n"
     ]
    }
   ],
   "source": [
    "recovered_neuron.save_compressed_neuron(output_folder=\"./\",\n",
    "                                       export_mesh=True)"
   ]
  },
  {
   "cell_type": "code",
   "execution_count": 14,
   "metadata": {},
   "outputs": [
    {
     "name": "stdout",
     "output_type": "stream",
     "text": [
      "query = median_mesh_center > 140 and n_faces_branch>100\n",
      "smoothness_threshold = 0.08\n",
      "The median_mesh_center was requested but has not already been calculated so calculating now.... \n",
      "Working on limb L0 branch 642\n",
      "Working on limb L0 branch 629\n",
      "Working on limb L0 branch 632\n",
      "Working on limb L0 branch 618\n",
      "Working on limb L0 branch 626\n",
      "Working on limb L0 branch 604\n",
      "Working on limb L0 branch 646\n",
      "Working on limb L0 branch 542\n",
      "Working on limb L0 branch 616\n",
      "Working on limb L0 branch 666\n",
      "Working on limb L0 branch 667\n",
      "Working on limb L0 branch 588\n",
      "Working on limb L0 branch 601\n",
      "Working on limb L0 branch 648\n",
      "Working on limb L0 branch 649\n",
      "Working on limb L0 branch 388\n",
      "Working on limb L0 branch 541\n",
      "Working on limb L0 branch 711\n",
      "Working on limb L0 branch 712\n",
      "Working on limb L0 branch 569\n",
      "Working on limb L0 branch 587\n",
      "Working on limb L0 branch 576\n",
      "Working on limb L0 branch 594\n",
      "Working on limb L0 branch 653\n",
      "Working on limb L0 branch 690\n",
      "Working on limb L0 branch 652\n",
      "Working on limb L0 branch 658\n",
      "Working on limb L0 branch 235\n",
      "Working on limb L0 branch 345\n",
      "Working on limb L0 branch 495\n",
      "Working on limb L0 branch 529\n",
      "Working on limb L0 branch 547\n",
      "Working on limb L0 branch 692\n",
      "Working on limb L0 branch 703\n",
      "Working on limb L0 branch 713\n",
      "Working on limb L0 branch 764\n",
      "Working on limb L0 branch 765\n",
      "Working on limb L0 branch 554\n",
      "Working on limb L0 branch 568\n",
      "Working on limb L0 branch 500\n",
      "Working on limb L0 branch 531\n",
      "Working on limb L0 branch 1081\n",
      "Working on limb L0 branch 1082\n",
      "Working on limb L0 branch 605\n",
      "Working on limb L0 branch 635\n",
      "Working on limb L0 branch 705\n",
      "Working on limb L0 branch 706\n",
      "Working on limb L0 branch 462\n",
      "Working on limb L0 branch 570\n",
      "Working on limb L0 branch 776\n",
      "Working on limb L0 branch 778\n",
      "Working on limb L0 branch 204\n",
      "Working on limb L0 branch 218\n",
      "Working on limb L0 branch 260\n",
      "Working on limb L0 branch 330\n",
      "Working on limb L0 branch 467\n",
      "Working on limb L0 branch 528\n",
      "Working on limb L0 branch 575\n",
      "Working on limb L0 branch 683\n",
      "Working on limb L0 branch 659\n",
      "Working on limb L0 branch 674\n",
      "Working on limb L0 branch 724\n",
      "Working on limb L0 branch 735\n",
      "Working on limb L0 branch 901\n",
      "Working on limb L0 branch 902\n",
      "Working on limb L0 branch 845\n",
      "Working on limb L0 branch 846\n",
      "Working on limb L0 branch 494\n",
      "Working on limb L0 branch 544\n",
      "Working on limb L0 branch 578\n",
      "Working on limb L0 branch 579\n",
      "Working on limb L0 branch 466\n",
      "Working on limb L0 branch 499\n",
      "Working on limb L0 branch 357\n",
      "Working on limb L0 branch 530\n",
      "Working on limb L0 branch 483\n",
      "Working on limb L0 branch 555\n",
      "Working on limb L0 branch 700\n",
      "Working on limb L0 branch 721\n",
      "Working on limb L0 branch 746\n",
      "Working on limb L0 branch 747\n",
      "Working on limb L0 branch 242\n",
      "Working on limb L0 branch 412\n",
      "Working on limb L0 branch 319\n",
      "Working on limb L0 branch 532\n",
      "Working on limb L0 branch 744\n",
      "Working on limb L0 branch 786\n",
      "Working on limb L0 branch 788\n",
      "Working on limb L0 branch 789\n",
      "Working on limb L0 branch 191\n",
      "Working on limb L0 branch 215\n",
      "Working on limb L0 branch 243\n",
      "Working on limb L0 branch 253\n",
      "Working on limb L0 branch 439\n",
      "Working on limb L0 branch 545\n",
      "Working on limb L0 branch 548\n",
      "Working on limb L0 branch 549\n",
      "Working on limb L0 branch 627\n",
      "Working on limb L0 branch 677\n",
      "Working on limb L0 branch 551\n",
      "Working on limb L0 branch 596\n",
      "Working on limb L0 branch 636\n",
      "Working on limb L0 branch 673\n",
      "Working on limb L0 branch 727\n",
      "Working on limb L0 branch 739\n",
      "Working on limb L0 branch 910\n",
      "Working on limb L0 branch 911\n",
      "Working on limb L0 branch 867\n",
      "Working on limb L0 branch 871\n",
      "Working on limb L0 branch 863\n",
      "Working on limb L0 branch 864\n",
      "Working on limb L0 branch 107\n",
      "Working on limb L0 branch 543\n",
      "Working on limb L0 branch 406\n",
      "Working on limb L0 branch 455\n",
      "Working on limb L0 branch 421\n",
      "Working on limb L0 branch 434\n",
      "Working on limb L0 branch 665\n",
      "Working on limb L0 branch 699\n",
      "Working on limb L0 branch 698\n",
      "Working on limb L0 branch 729\n",
      "Working on limb L0 branch 790\n",
      "Working on limb L0 branch 794\n",
      "Working on limb L0 branch 771\n",
      "Working on limb L0 branch 772\n",
      "Working on limb L0 branch 229\n",
      "Working on limb L0 branch 234\n",
      "Working on limb L0 branch 404\n",
      "Working on limb L0 branch 414\n",
      "Working on limb L0 branch 131\n",
      "Working on limb L0 branch 284\n",
      "Working on limb L0 branch 785\n",
      "Working on limb L0 branch 806\n",
      "Working on limb L0 branch 791\n",
      "Working on limb L0 branch 796\n",
      "Working on limb L0 branch 797\n",
      "Working on limb L0 branch 800\n",
      "Working on limb L0 branch 850\n",
      "Working on limb L0 branch 852\n",
      "Working on limb L0 branch 915\n",
      "Working on limb L0 branch 916\n",
      "Working on limb L0 branch 228\n",
      "Working on limb L0 branch 244\n",
      "Working on limb L0 branch 233\n",
      "Working on limb L0 branch 261\n",
      "Working on limb L0 branch 262\n",
      "Working on limb L0 branch 628\n",
      "Working on limb L0 branch 678\n",
      "Working on limb L0 branch 427\n",
      "Working on limb L0 branch 518\n",
      "Working on limb L0 branch 574\n",
      "Working on limb L0 branch 595\n",
      "Working on limb L0 branch 609\n",
      "Working on limb L0 branch 615\n",
      "Working on limb L0 branch 696\n",
      "Working on limb L0 branch 697\n",
      "Working on limb L0 branch 809\n",
      "Working on limb L0 branch 813\n",
      "Working on limb L0 branch 937\n",
      "Working on limb L0 branch 943\n",
      "Working on limb L0 branch 900\n",
      "Working on limb L0 branch 930\n",
      "Working on limb L0 branch 895\n",
      "Working on limb L0 branch 896\n",
      "Working on limb L0 branch 886\n",
      "Working on limb L0 branch 887\n",
      "Working on limb L0 branch 364\n",
      "Working on limb L0 branch 540\n",
      "Working on limb L0 branch 367\n",
      "Working on limb L0 branch 423\n",
      "Working on limb L0 branch 322\n",
      "Working on limb L0 branch 342\n",
      "Working on limb L0 branch 878\n",
      "Working on limb L0 branch 879\n",
      "Working on limb L0 branch 960\n",
      "Working on limb L0 branch 961\n",
      "Working on limb L0 branch 212\n",
      "Working on limb L0 branch 231\n",
      "Working on limb L0 branch 372\n",
      "Working on limb L0 branch 403\n",
      "Working on limb L0 branch 722\n",
      "Working on limb L0 branch 777\n",
      "Working on limb L0 branch 847\n",
      "Working on limb L0 branch 858\n",
      "Working on limb L0 branch 779\n",
      "Working on limb L0 branch 793\n",
      "Working on limb L0 branch 766\n",
      "Working on limb L0 branch 816\n",
      "Working on limb L0 branch 684\n",
      "Working on limb L0 branch 869\n",
      "Working on limb L0 branch 855\n",
      "Working on limb L0 branch 919\n",
      "Working on limb L0 branch 210\n",
      "Working on limb L0 branch 224\n",
      "Working on limb L0 branch 250\n",
      "Working on limb L0 branch 251\n",
      "Working on limb L0 branch 230\n",
      "Working on limb L0 branch 278\n",
      "Working on limb L0 branch 267\n",
      "Assigning the old width calculation because no valid new widths\n",
      "Working on limb L0 branch 270\n",
      "Working on limb L0 branch 610\n",
      "Working on limb L0 branch 691\n",
      "Working on limb L0 branch 422\n",
      "Working on limb L0 branch 517\n",
      "Working on limb L0 branch 386\n",
      "Working on limb L0 branch 573\n",
      "Working on limb L0 branch 836\n",
      "Working on limb L0 branch 838\n",
      "Working on limb L0 branch 758\n",
      "Working on limb L0 branch 795\n",
      "Working on limb L0 branch 801\n",
      "Working on limb L0 branch 804\n",
      "Working on limb L0 branch 808\n",
      "Working on limb L0 branch 917\n",
      "Working on limb L0 branch 918\n",
      "Working on limb L0 branch 849\n",
      "Working on limb L0 branch 884\n",
      "Working on limb L0 branch 904\n",
      "Working on limb L0 branch 905\n",
      "Working on limb L0 branch 331\n",
      "Working on limb L0 branch 355\n",
      "Working on limb L0 branch 266\n",
      "Working on limb L0 branch 341\n",
      "Working on limb L0 branch 369\n",
      "Working on limb L0 branch 391\n",
      "Working on limb L0 branch 402\n",
      "Working on limb L0 branch 946\n",
      "Working on limb L0 branch 983\n",
      "Working on limb L0 branch 906\n",
      "Working on limb L0 branch 907\n",
      "Working on limb L0 branch 966\n",
      "Working on limb L0 branch 967\n",
      "Working on limb L0 branch 972\n",
      "Working on limb L0 branch 973\n",
      "Working on limb L0 branch 102\n",
      "Working on limb L0 branch 156\n",
      "Working on limb L0 branch 123\n",
      "Working on limb L0 branch 249\n",
      "Working on limb L0 branch 1078\n",
      "Working on limb L0 branch 839\n",
      "Working on limb L0 branch 870\n",
      "Working on limb L0 branch 807\n",
      "Working on limb L0 branch 853\n",
      "Working on limb L0 branch 859\n",
      "Working on limb L0 branch 881\n",
      "Working on limb L0 branch 882\n",
      "Working on limb L0 branch 750\n",
      "Working on limb L0 branch 767\n",
      "Working on limb L0 branch 622\n",
      "Working on limb L0 branch 818\n",
      "Working on limb L0 branch 819\n",
      "Working on limb L0 branch 197\n",
      "Working on limb L0 branch 275\n",
      "Working on limb L0 branch 285\n",
      "Working on limb L0 branch 286\n",
      "Working on limb L0 branch 693\n",
      "Working on limb L0 branch 694\n",
      "Working on limb L0 branch 695\n",
      "Working on limb L0 branch 340\n",
      "Working on limb L0 branch 409\n",
      "Working on limb L0 branch 447\n",
      "Working on limb L0 branch 479\n",
      "Working on limb L0 branch 824\n",
      "Working on limb L0 branch 857\n",
      "Working on limb L0 branch 755\n",
      "Working on limb L0 branch 756\n"
     ]
    },
    {
     "name": "stdout",
     "output_type": "stream",
     "text": [
      "Working on limb L0 branch 815\n",
      "Working on limb L0 branch 924\n",
      "Working on limb L0 branch 941\n",
      "Working on limb L0 branch 942\n",
      "Working on limb L0 branch 956\n",
      "Working on limb L0 branch 959\n",
      "Working on limb L0 branch 830\n",
      "Working on limb L0 branch 848\n",
      "Working on limb L0 branch 679\n",
      "Working on limb L0 branch 889\n",
      "Working on limb L0 branch 248\n",
      "Working on limb L0 branch 265\n",
      "Working on limb L0 branch 213\n",
      "Working on limb L0 branch 393\n",
      "Working on limb L0 branch 397\n",
      "Working on limb L0 branch 993\n",
      "Working on limb L0 branch 996\n",
      "Working on limb L0 branch 927\n",
      "Working on limb L0 branch 928\n",
      "Working on limb L0 branch 954\n",
      "Working on limb L0 branch 955\n",
      "Working on limb L0 branch 969\n",
      "Working on limb L0 branch 965\n",
      "Working on limb L0 branch 970\n",
      "Working on limb L0 branch 998\n",
      "Working on limb L0 branch 999\n",
      "Working on limb L0 branch 132\n",
      "Working on limb L0 branch 150\n",
      "Working on limb L0 branch 1077\n",
      "Working on limb L0 branch 1079\n",
      "Working on limb L0 branch 908\n",
      "Working on limb L0 branch 940\n",
      "Working on limb L0 branch 903\n",
      "Working on limb L0 branch 909\n",
      "Working on limb L0 branch 860\n",
      "Working on limb L0 branch 883\n",
      "Working on limb L0 branch 1075\n",
      "Working on limb L0 branch 1076\n",
      "Working on limb L0 branch 552\n",
      "Working on limb L0 branch 623\n",
      "Working on limb L0 branch 745\n",
      "Working on limb L0 branch 843\n",
      "Working on limb L0 branch 826\n",
      "Working on limb L0 branch 827\n",
      "Working on limb L0 branch 152\n",
      "Working on limb L0 branch 198\n",
      "Working on limb L0 branch 295\n",
      "Working on limb L0 branch 298\n",
      "Working on limb L0 branch 317\n",
      "Working on limb L0 branch 333\n",
      "Working on limb L0 branch 717\n",
      "Working on limb L0 branch 749\n",
      "Working on limb L0 branch 780\n",
      "Working on limb L0 branch 866\n",
      "Working on limb L0 branch 177\n",
      "Working on limb L0 branch 239\n",
      "Working on limb L0 branch 359\n",
      "Working on limb L0 branch 362\n",
      "Working on limb L0 branch 413\n",
      "Working on limb L0 branch 770\n",
      "Working on limb L0 branch 888\n",
      "Working on limb L0 branch 949\n",
      "Working on limb L0 branch 951\n",
      "Working on limb L0 branch 892\n",
      "Working on limb L0 branch 893\n",
      "Working on limb L0 branch 183\n",
      "Working on limb L0 branch 200\n",
      "Working on limb L0 branch 214\n",
      "Working on limb L0 branch 366\n",
      "Working on limb L0 branch 603\n",
      "Working on limb L0 branch 934\n",
      "Working on limb L0 branch 1029\n",
      "Working on limb L0 branch 968\n",
      "Working on limb L0 branch 971\n",
      "Working on limb L0 branch 992\n",
      "Working on limb L0 branch 1000\n",
      "Working on limb L0 branch 1088\n",
      "Working on limb L0 branch 1090\n",
      "Working on limb L0 branch 103\n",
      "Working on limb L0 branch 127\n",
      "Working on limb L0 branch 151\n",
      "Working on limb L0 branch 947\n",
      "Working on limb L0 branch 952\n",
      "Working on limb L0 branch 802\n",
      "Working on limb L0 branch 899\n",
      "Working on limb L0 branch 503\n",
      "Working on limb L0 branch 553\n",
      "Working on limb L0 branch 938\n",
      "Working on limb L0 branch 939\n",
      "Working on limb L0 branch 854\n",
      "Working on limb L0 branch 856\n",
      "Working on limb L0 branch 820\n",
      "Working on limb L0 branch 831\n",
      "Working on limb L0 branch 186\n",
      "Working on limb L0 branch 206\n",
      "Working on limb L0 branch 208\n",
      "Working on limb L0 branch 299\n",
      "Working on limb L0 branch 300\n",
      "Working on limb L0 branch 304\n",
      "Working on limb L0 branch 318\n",
      "Working on limb L0 branch 360\n",
      "Working on limb L0 branch 370\n",
      "Working on limb L0 branch 371\n",
      "Working on limb L0 branch 751\n",
      "Working on limb L0 branch 752\n",
      "Working on limb L0 branch 125\n",
      "Working on limb L0 branch 185\n",
      "Working on limb L0 branch 582\n",
      "Working on limb L0 branch 945\n",
      "Working on limb L0 branch 876\n",
      "Working on limb L0 branch 898\n",
      "Working on limb L0 branch 211\n",
      "Working on limb L0 branch 217\n",
      "Working on limb L0 branch 293\n",
      "Working on limb L0 branch 326\n",
      "Working on limb L0 branch 631\n",
      "Working on limb L0 branch 641\n",
      "Working on limb L0 branch 865\n",
      "Working on limb L0 branch 962\n",
      "Working on limb L0 branch 995\n",
      "Working on limb L0 branch 1003\n",
      "Working on limb L0 branch 1039\n",
      "Working on limb L0 branch 1040\n",
      "Working on limb L0 branch 1089\n",
      "Working on limb L0 branch 1091\n",
      "Working on limb L0 branch 112\n",
      "Working on limb L0 branch 118\n",
      "Working on limb L0 branch 124\n",
      "Working on limb L0 branch 126\n",
      "Working on limb L0 branch 57\n",
      "Working on limb L0 branch 119\n",
      "Working on limb L0 branch 501\n",
      "Working on limb L0 branch 502\n",
      "Working on limb L0 branch 585\n",
      "Working on limb L0 branch 586\n",
      "Working on limb L0 branch 768\n",
      "Working on limb L0 branch 875\n",
      "Working on limb L0 branch 913\n",
      "Working on limb L0 branch 914\n",
      "Working on limb L0 branch 159\n",
      "Working on limb L0 branch 181\n",
      "Working on limb L0 branch 308\n",
      "Working on limb L0 branch 316\n",
      "Working on limb L0 branch 264\n",
      "Working on limb L0 branch 303\n",
      "Working on limb L0 branch 358\n",
      "Working on limb L0 branch 361\n",
      "Working on limb L0 branch 306\n",
      "Working on limb L0 branch 389\n",
      "Working on limb L0 branch 737\n",
      "Working on limb L0 branch 792\n",
      "Working on limb L0 branch 188\n",
      "Working on limb L0 branch 190\n",
      "Working on limb L0 branch 557\n",
      "Working on limb L0 branch 581\n",
      "Working on limb L0 branch 172\n",
      "Working on limb L0 branch 209\n",
      "Working on limb L0 branch 810\n",
      "Working on limb L0 branch 897\n",
      "Working on limb L0 branch 944\n",
      "Working on limb L0 branch 974\n",
      "Working on limb L0 branch 957\n",
      "Working on limb L0 branch 1001\n",
      "Working on limb L0 branch 1043\n",
      "Working on limb L0 branch 1044\n",
      "Working on limb L0 branch 1092\n",
      "Working on limb L0 branch 1093\n",
      "Working on limb L0 branch 106\n",
      "Working on limb L0 branch 113\n",
      "Working on limb L0 branch 128\n",
      "Working on limb L0 branch 165\n",
      "Working on limb L0 branch 16\n",
      "Working on limb L0 branch 24\n",
      "Working on limb L0 branch 36\n",
      "Working on limb L0 branch 524\n",
      "Working on limb L0 branch 533\n",
      "Working on limb L0 branch 639\n",
      "Working on limb L0 branch 640\n",
      "Working on limb L0 branch 931\n",
      "Working on limb L0 branch 932\n",
      "Working on limb L0 branch 950\n",
      "Working on limb L0 branch 953\n",
      "Working on limb L0 branch 162\n",
      "Working on limb L0 branch 171\n",
      "Working on limb L0 branch 180\n",
      "Working on limb L0 branch 195\n",
      "Working on limb L0 branch 302\n",
      "Working on limb L0 branch 245\n",
      "Working on limb L0 branch 368\n",
      "Working on limb L0 branch 287\n",
      "Working on limb L0 branch 307\n",
      "Working on limb L0 branch 488\n",
      "Working on limb L0 branch 493\n",
      "Working on limb L0 branch 664\n",
      "Working on limb L0 branch 720\n",
      "Working on limb L0 branch 182\n",
      "Working on limb L0 branch 187\n",
      "Working on limb L0 branch 478\n",
      "Working on limb L0 branch 556\n",
      "Working on limb L0 branch 176\n",
      "Working on limb L0 branch 199\n",
      "Working on limb L0 branch 1087\n",
      "Working on limb L0 branch 1032\n",
      "Working on limb L0 branch 1035\n",
      "Working on limb L0 branch 948\n",
      "Working on limb L0 branch 975\n",
      "Working on limb L0 branch 1045\n",
      "Working on limb L0 branch 1047\n",
      "Working on limb L0 branch 1050\n",
      "Working on limb L0 branch 1064\n",
      "Working on limb L0 branch 1065\n",
      "Working on limb L0 branch 1070\n",
      "Working on limb L0 branch 65\n",
      "Working on limb L0 branch 122\n",
      "Working on limb L0 branch 760\n",
      "Working on limb L0 branch 763\n",
      "Working on limb L0 branch 981\n",
      "Working on limb L0 branch 990\n",
      "Working on limb L0 branch 979\n",
      "Working on limb L0 branch 980\n",
      "Working on limb L0 branch 1007\n",
      "Working on limb L0 branch 1011\n",
      "Working on limb L0 branch 163\n",
      "Working on limb L0 branch 184\n",
      "Working on limb L0 branch 115\n",
      "Working on limb L0 branch 196\n",
      "Working on limb L0 branch 263\n",
      "Working on limb L0 branch 301\n",
      "Working on limb L0 branch 382\n",
      "Working on limb L0 branch 426\n",
      "Working on limb L0 branch 216\n",
      "Working on limb L0 branch 227\n",
      "Working on limb L0 branch 313\n",
      "Working on limb L0 branch 314\n",
      "Working on limb L0 branch 474\n",
      "Working on limb L0 branch 486\n",
      "Working on limb L0 branch 473\n",
      "Working on limb L0 branch 525\n",
      "Working on limb L0 branch 451\n",
      "Working on limb L0 branch 461\n",
      "Working on limb L0 branch 160\n",
      "Working on limb L0 branch 170\n",
      "Working on limb L0 branch 175\n",
      "Working on limb L0 branch 164\n",
      "Working on limb L0 branch 201\n",
      "Working on limb L0 branch 1084\n",
      "Working on limb L0 branch 1086\n",
      "Working on limb L0 branch 1048\n",
      "Working on limb L0 branch 1049\n",
      "Working on limb L0 branch 1051\n",
      "Working on limb L0 branch 1052\n",
      "Assigning the old width calculation because no valid new widths\n",
      "Working on limb L0 branch 1059\n",
      "Working on limb L0 branch 1063\n",
      "Working on limb L0 branch 1067\n",
      "Working on limb L0 branch 1071\n",
      "Working on limb L0 branch 1072\n",
      "Working on limb L0 branch 50\n",
      "Working on limb L0 branch 63\n",
      "Working on limb L0 branch 936\n",
      "Working on limb L0 branch 978\n",
      "Working on limb L0 branch 982\n",
      "Working on limb L0 branch 984\n",
      "Working on limb L0 branch 989\n",
      "Working on limb L0 branch 958\n",
      "Working on limb L0 branch 991\n",
      "Working on limb L0 branch 1030\n",
      "Working on limb L0 branch 1031\n",
      "Working on limb L0 branch 46\n",
      "Working on limb L0 branch 100\n",
      "Working on limb L0 branch 114\n"
     ]
    },
    {
     "name": "stdout",
     "output_type": "stream",
     "text": [
      "Working on limb L0 branch 296\n",
      "Working on limb L0 branch 297\n",
      "Working on limb L0 branch 258\n",
      "Working on limb L0 branch 336\n",
      "Working on limb L0 branch 178\n",
      "Working on limb L0 branch 225\n",
      "Working on limb L0 branch 282\n",
      "Working on limb L0 branch 321\n",
      "Working on limb L0 branch 424\n",
      "Working on limb L0 branch 477\n",
      "Working on limb L0 branch 602\n",
      "Working on limb L0 branch 651\n",
      "Working on limb L0 branch 344\n",
      "Working on limb L0 branch 420\n",
      "Working on limb L0 branch 452\n",
      "Working on limb L0 branch 456\n",
      "Assigning the old width calculation because no valid new widths\n",
      "Working on limb L0 branch 148\n",
      "Working on limb L0 branch 167\n",
      "Working on limb L0 branch 129\n",
      "Working on limb L0 branch 136\n",
      "Working on limb L0 branch 1083\n",
      "Working on limb L0 branch 1085\n",
      "Working on limb L0 branch 1053\n",
      "Working on limb L0 branch 1054\n",
      "Working on limb L0 branch 1057\n",
      "Working on limb L0 branch 1060\n",
      "Working on limb L0 branch 1068\n",
      "Working on limb L0 branch 1069\n",
      "Working on limb L0 branch 1056\n",
      "Working on limb L0 branch 1062\n",
      "Working on limb L0 branch 49\n",
      "Working on limb L0 branch 61\n",
      "Working on limb L0 branch 64\n",
      "Working on limb L0 branch 1080\n",
      "Working on limb L0 branch 986\n",
      "Working on limb L0 branch 987\n",
      "Working on limb L0 branch 977\n",
      "Working on limb L0 branch 994\n",
      "Working on limb L0 branch 1008\n",
      "Working on limb L0 branch 1009\n",
      "Working on limb L0 branch 28\n",
      "Working on limb L0 branch 41\n",
      "Working on limb L0 branch 45\n",
      "Working on limb L0 branch 71\n",
      "Working on limb L0 branch 101\n",
      "Working on limb L0 branch 546\n",
      "Working on limb L0 branch 580\n",
      "Working on limb L0 branch 584\n",
      "Working on limb L0 branch 353\n",
      "Working on limb L0 branch 354\n",
      "Working on limb L0 branch 174\n",
      "Working on limb L0 branch 179\n",
      "Working on limb L0 branch 327\n",
      "Working on limb L0 branch 328\n",
      "Working on limb L0 branch 590\n",
      "Working on limb L0 branch 598\n",
      "Working on limb L0 branch 381\n",
      "Working on limb L0 branch 399\n",
      "Working on limb L0 branch 472\n",
      "Working on limb L0 branch 481\n",
      "Working on limb L0 branch 116\n",
      "Working on limb L0 branch 144\n",
      "Working on limb L0 branch 147\n",
      "Working on limb L0 branch 78\n",
      "Working on limb L0 branch 96\n",
      "Working on limb L0 branch 1058\n",
      "Working on limb L0 branch 1061\n",
      "Working on limb L0 branch 1055\n",
      "Working on limb L0 branch 1073\n",
      "Working on limb L0 branch 1074\n",
      "Working on limb L0 branch 1046\n",
      "Working on limb L0 branch 1066\n",
      "Working on limb L0 branch 59\n",
      "Working on limb L0 branch 62\n",
      "Working on limb L0 branch 985\n",
      "Working on limb L0 branch 988\n",
      "Working on limb L0 branch 1015\n",
      "Working on limb L0 branch 1016\n",
      "Working on limb L0 branch 1017\n",
      "Working on limb L0 branch 1026\n",
      "Working on limb L0 branch 1027\n",
      "Working on limb L0 branch 20\n",
      "Working on limb L0 branch 26\n",
      "Working on limb L0 branch 4\n",
      "Working on limb L0 branch 38\n",
      "Working on limb L0 branch 42\n",
      "Working on limb L0 branch 68\n",
      "Working on limb L0 branch 72\n",
      "Working on limb L0 branch 668\n",
      "Working on limb L0 branch 669\n",
      "Working on limb L0 branch 446\n",
      "Working on limb L0 branch 453\n",
      "Working on limb L0 branch 392\n",
      "Working on limb L0 branch 400\n",
      "Working on limb L0 branch 401\n",
      "Working on limb L0 branch 135\n",
      "Working on limb L0 branch 168\n",
      "Working on limb L0 branch 577\n",
      "Working on limb L0 branch 589\n",
      "Working on limb L0 branch 489\n",
      "Working on limb L0 branch 490\n",
      "Working on limb L0 branch 395\n",
      "Working on limb L0 branch 480\n",
      "Working on limb L0 branch 137\n",
      "Working on limb L0 branch 139\n",
      "Working on limb L0 branch 69\n",
      "Working on limb L0 branch 79\n",
      "Working on limb L0 branch 56\n",
      "Working on limb L0 branch 60\n",
      "Working on limb L0 branch 1010\n",
      "Working on limb L0 branch 1019\n",
      "Working on limb L0 branch 1004\n",
      "Working on limb L0 branch 1018\n",
      "Working on limb L0 branch 1023\n",
      "Working on limb L0 branch 1025\n",
      "Working on limb L0 branch 1033\n",
      "Working on limb L0 branch 1034\n",
      "Working on limb L0 branch 14\n",
      "Working on limb L0 branch 21\n",
      "Working on limb L0 branch 5\n",
      "Working on limb L0 branch 39\n",
      "Working on limb L0 branch 34\n",
      "Working on limb L0 branch 40\n",
      "Working on limb L0 branch 58\n",
      "Working on limb L0 branch 73\n",
      "Working on limb L0 branch 352\n",
      "Working on limb L0 branch 445\n",
      "Working on limb L0 branch 432\n",
      "Working on limb L0 branch 436\n",
      "Working on limb L0 branch 444\n",
      "Working on limb L0 branch 463\n",
      "Working on limb L0 branch 468\n",
      "Working on limb L0 branch 109\n",
      "Working on limb L0 branch 134\n",
      "Working on limb L0 branch 158\n",
      "Working on limb L0 branch 169\n",
      "Working on limb L0 branch 591\n",
      "Working on limb L0 branch 592\n",
      "Working on limb L0 branch 526\n",
      "Working on limb L0 branch 527\n",
      "Working on limb L0 branch 508\n",
      "Working on limb L0 branch 512\n",
      "Working on limb L0 branch 346\n",
      "Working on limb L0 branch 394\n",
      "Working on limb L0 branch 449\n",
      "Working on limb L0 branch 487\n",
      "Working on limb L0 branch 54\n",
      "Working on limb L0 branch 81\n",
      "Working on limb L0 branch 52\n",
      "Working on limb L0 branch 66\n",
      "Working on limb L0 branch 67\n",
      "Working on limb L0 branch 1013\n",
      "Working on limb L0 branch 1020\n",
      "Working on limb L0 branch 1002\n",
      "Working on limb L0 branch 1021\n",
      "Working on limb L0 branch 1014\n",
      "Working on limb L0 branch 1022\n",
      "Working on limb L0 branch 1024\n",
      "Working on limb L0 branch 976\n",
      "Working on limb L0 branch 1012\n",
      "Working on limb L0 branch 923\n",
      "Working on limb L0 branch 1036\n",
      "Working on limb L0 branch 6\n",
      "Working on limb L0 branch 8\n",
      "Working on limb L0 branch 12\n",
      "Working on limb L0 branch 19\n",
      "Working on limb L0 branch 27\n",
      "Assigning the old width calculation because no valid new widths\n",
      "Working on limb L0 branch 43\n",
      "Working on limb L0 branch 44\n",
      "Working on limb L0 branch 430\n",
      "Working on limb L0 branch 435\n",
      "Working on limb L0 branch 105\n",
      "Working on limb L0 branch 108\n",
      "Working on limb L0 branch 143\n",
      "Working on limb L0 branch 154\n",
      "Working on limb L0 branch 656\n",
      "Working on limb L0 branch 657\n",
      "Working on limb L0 branch 630\n",
      "Working on limb L0 branch 661\n",
      "Working on limb L0 branch 476\n",
      "Working on limb L0 branch 519\n",
      "Working on limb L0 branch 611\n",
      "Working on limb L0 branch 617\n",
      "Working on limb L0 branch 496\n",
      "Working on limb L0 branch 504\n",
      "Working on limb L0 branch 612\n",
      "Working on limb L0 branch 614\n",
      "Working on limb L0 branch 339\n",
      "Working on limb L0 branch 431\n",
      "Working on limb L0 branch 654\n",
      "Working on limb L0 branch 655\n",
      "Working on limb L0 branch 76\n",
      "Working on limb L0 branch 77\n",
      "Working on limb L0 branch 935\n",
      "Working on limb L0 branch 1028\n",
      "Working on limb L0 branch 0\n",
      "Working on limb L0 branch 11\n",
      "Working on limb L0 branch 25\n",
      "Working on limb L0 branch 30\n",
      "Working on limb L0 branch 35\n",
      "Working on limb L0 branch 29\n",
      "Working on limb L0 branch 53\n",
      "Working on limb L0 branch 398\n",
      "Working on limb L0 branch 425\n",
      "Working on limb L0 branch 437\n",
      "Working on limb L0 branch 438\n",
      "Working on limb L0 branch 454\n",
      "Working on limb L0 branch 51\n",
      "Working on limb L0 branch 157\n",
      "Working on limb L0 branch 140\n",
      "Working on limb L0 branch 149\n",
      "Working on limb L0 branch 634\n",
      "Working on limb L0 branch 650\n",
      "Working on limb L0 branch 643\n",
      "Working on limb L0 branch 647\n",
      "Working on limb L0 branch 470\n",
      "Working on limb L0 branch 475\n",
      "Working on limb L0 branch 511\n",
      "Working on limb L0 branch 515\n",
      "Working on limb L0 branch 607\n",
      "Working on limb L0 branch 613\n",
      "Working on limb L0 branch 685\n",
      "Working on limb L0 branch 686\n",
      "Working on limb L0 branch 348\n",
      "Working on limb L0 branch 465\n",
      "Working on limb L0 branch 433\n",
      "Working on limb L0 branch 505\n",
      "Working on limb L0 branch 687\n",
      "Working on limb L0 branch 688\n",
      "Working on limb L0 branch 288\n",
      "Working on limb L0 branch 312\n",
      "Working on limb L0 branch 676\n",
      "Working on limb L0 branch 682\n",
      "Working on limb L0 branch 861\n",
      "Working on limb L0 branch 862\n",
      "Working on limb L0 branch 93\n",
      "Working on limb L0 branch 94\n",
      "Working on limb L0 branch 74\n",
      "Working on limb L0 branch 80\n",
      "Working on limb L0 branch 1\n",
      "Working on limb L0 branch 10\n",
      "Working on limb L0 branch 2\n",
      "Working on limb L0 branch 9\n",
      "Working on limb L0 branch 17\n",
      "Working on limb L0 branch 22\n",
      "Working on limb L0 branch 23\n",
      "Working on limb L0 branch 7\n",
      "Working on limb L0 branch 37\n",
      "Working on limb L0 branch 246\n",
      "Working on limb L0 branch 343\n",
      "Working on limb L0 branch 31\n",
      "Working on limb L0 branch 33\n",
      "Working on limb L0 branch 121\n",
      "Working on limb L0 branch 138\n",
      "Working on limb L0 branch 535\n",
      "Working on limb L0 branch 539\n",
      "Working on limb L0 branch 521\n",
      "Working on limb L0 branch 522\n",
      "Working on limb L0 branch 379\n",
      "Working on limb L0 branch 510\n",
      "Working on limb L0 branch 459\n",
      "Working on limb L0 branch 516\n",
      "Working on limb L0 branch 672\n",
      "Working on limb L0 branch 675\n",
      "Working on limb L0 branch 351\n",
      "Working on limb L0 branch 608\n",
      "Working on limb L0 branch 707\n",
      "Working on limb L0 branch 742\n",
      "Working on limb L0 branch 715\n",
      "Working on limb L0 branch 716\n",
      "Working on limb L0 branch 274\n",
      "Working on limb L0 branch 291\n"
     ]
    },
    {
     "name": "stdout",
     "output_type": "stream",
     "text": [
      "Working on limb L0 branch 485\n",
      "Working on limb L0 branch 537\n",
      "Working on limb L0 branch 719\n",
      "Working on limb L0 branch 731\n",
      "Working on limb L0 branch 268\n",
      "Working on limb L0 branch 289\n",
      "Working on limb L0 branch 254\n",
      "Working on limb L0 branch 309\n",
      "Working on limb L0 branch 624\n",
      "Working on limb L0 branch 680\n",
      "Working on limb L0 branch 723\n",
      "Working on limb L0 branch 743\n",
      "Working on limb L0 branch 833\n",
      "Working on limb L0 branch 872\n",
      "Working on limb L0 branch 82\n",
      "Working on limb L0 branch 83\n",
      "Working on limb L0 branch 3\n",
      "Working on limb L0 branch 13\n",
      "Working on limb L0 branch 15\n",
      "Working on limb L0 branch 32\n",
      "Working on limb L0 branch 104\n",
      "Working on limb L0 branch 120\n",
      "Working on limb L0 branch 469\n",
      "Working on limb L0 branch 536\n",
      "Working on limb L0 branch 277\n",
      "Working on limb L0 branch 363\n",
      "Working on limb L0 branch 375\n",
      "Working on limb L0 branch 442\n",
      "Working on limb L0 branch 458\n",
      "Working on limb L0 branch 565\n",
      "Working on limb L0 branch 566\n",
      "Working on limb L0 branch 320\n",
      "Working on limb L0 branch 350\n",
      "Working on limb L0 branch 783\n",
      "Working on limb L0 branch 784\n",
      "Working on limb L0 branch 736\n",
      "Working on limb L0 branch 738\n",
      "Working on limb L0 branch 256\n",
      "Working on limb L0 branch 276\n",
      "Working on limb L0 branch 662\n",
      "Working on limb L0 branch 718\n",
      "Working on limb L0 branch 769\n",
      "Working on limb L0 branch 781\n",
      "Working on limb L0 branch 203\n",
      "Working on limb L0 branch 269\n",
      "Working on limb L0 branch 161\n",
      "Working on limb L0 branch 273\n",
      "Working on limb L0 branch 193\n",
      "Working on limb L0 branch 202\n",
      "Working on limb L0 branch 223\n",
      "Working on limb L0 branch 310\n",
      "Working on limb L0 branch 559\n",
      "Working on limb L0 branch 625\n",
      "Working on limb L0 branch 572\n",
      "Working on limb L0 branch 681\n",
      "Working on limb L0 branch 798\n",
      "Working on limb L0 branch 799\n",
      "Working on limb L0 branch 822\n",
      "Working on limb L0 branch 834\n",
      "Working on limb L0 branch 84\n",
      "Working on limb L0 branch 86\n",
      "Working on limb L0 branch 87\n",
      "Working on limb L0 branch 92\n",
      "Working on limb L0 branch 141\n",
      "Working on limb L0 branch 142\n",
      "Working on limb L0 branch 417\n",
      "Working on limb L0 branch 464\n",
      "Working on limb L0 branch 471\n",
      "Working on limb L0 branch 373\n",
      "Working on limb L0 branch 376\n",
      "Working on limb L0 branch 252\n",
      "Working on limb L0 branch 443\n",
      "Working on limb L0 branch 619\n",
      "Working on limb L0 branch 620\n",
      "Working on limb L0 branch 283\n",
      "Working on limb L0 branch 356\n",
      "Working on limb L0 branch 775\n",
      "Working on limb L0 branch 828\n",
      "Working on limb L0 branch 671\n",
      "Working on limb L0 branch 732\n",
      "Working on limb L0 branch 75\n",
      "Working on limb L0 branch 240\n",
      "Working on limb L0 branch 255\n",
      "Working on limb L0 branch 621\n",
      "Working on limb L0 branch 663\n",
      "Working on limb L0 branch 173\n",
      "Working on limb L0 branch 205\n",
      "Working on limb L0 branch 117\n",
      "Working on limb L0 branch 153\n",
      "Working on limb L0 branch 271\n",
      "Working on limb L0 branch 272\n",
      "Working on limb L0 branch 220\n",
      "Working on limb L0 branch 221\n",
      "Working on limb L0 branch 564\n",
      "Working on limb L0 branch 571\n",
      "Working on limb L0 branch 606\n",
      "Working on limb L0 branch 689\n",
      "Working on limb L0 branch 926\n",
      "Working on limb L0 branch 929\n",
      "Working on limb L0 branch 933\n",
      "Working on limb L0 branch 701\n",
      "Working on limb L0 branch 823\n",
      "Working on limb L0 branch 55\n",
      "Working on limb L0 branch 88\n",
      "Working on limb L0 branch 365\n",
      "Working on limb L0 branch 418\n",
      "Working on limb L0 branch 509\n",
      "Working on limb L0 branch 513\n",
      "Assigning the old width calculation because no valid new widths\n",
      "Working on limb L0 branch 70\n",
      "Working on limb L0 branch 374\n",
      "Working on limb L0 branch 241\n",
      "Working on limb L0 branch 377\n",
      "Working on limb L0 branch 405\n",
      "Working on limb L0 branch 460\n",
      "Working on limb L0 branch 644\n",
      "Working on limb L0 branch 645\n",
      "Working on limb L0 branch 740\n",
      "Working on limb L0 branch 774\n",
      "Working on limb L0 branch 787\n",
      "Working on limb L0 branch 825\n",
      "Working on limb L0 branch 761\n",
      "Working on limb L0 branch 762\n",
      "Working on limb L0 branch 257\n",
      "Working on limb L0 branch 259\n",
      "Working on limb L0 branch 550\n",
      "Working on limb L0 branch 637\n",
      "Working on limb L0 branch 638\n",
      "Working on limb L0 branch 95\n",
      "Working on limb L0 branch 99\n",
      "Working on limb L0 branch 334\n",
      "Working on limb L0 branch 335\n",
      "Working on limb L0 branch 323\n",
      "Working on limb L0 branch 324\n",
      "Working on limb L0 branch 194\n",
      "Working on limb L0 branch 219\n",
      "Working on limb L0 branch 558\n",
      "Working on limb L0 branch 563\n",
      "Working on limb L0 branch 726\n",
      "Working on limb L0 branch 728\n",
      "Working on limb L0 branch 963\n",
      "Working on limb L0 branch 964\n",
      "Working on limb L0 branch 782\n",
      "Working on limb L0 branch 837\n",
      "Working on limb L0 branch 89\n",
      "Working on limb L0 branch 90\n",
      "Working on limb L0 branch 428\n",
      "Working on limb L0 branch 514\n",
      "Working on limb L0 branch 457\n",
      "Working on limb L0 branch 482\n",
      "Working on limb L0 branch 111\n",
      "Working on limb L0 branch 232\n",
      "Working on limb L0 branch 384\n",
      "Working on limb L0 branch 385\n",
      "Working on limb L0 branch 238\n",
      "Working on limb L0 branch 407\n",
      "Working on limb L0 branch 710\n",
      "Working on limb L0 branch 748\n",
      "Working on limb L0 branch 773\n",
      "Working on limb L0 branch 821\n",
      "Working on limb L0 branch 835\n",
      "Working on limb L0 branch 520\n",
      "Working on limb L0 branch 534\n",
      "Working on limb L0 branch 704\n",
      "Working on limb L0 branch 708\n",
      "Working on limb L0 branch 279\n",
      "Working on limb L0 branch 315\n",
      "Working on limb L0 branch 145\n",
      "Working on limb L0 branch 166\n",
      "Working on limb L0 branch 192\n",
      "Working on limb L0 branch 247\n",
      "Working on limb L0 branch 484\n",
      "Working on limb L0 branch 754\n",
      "Working on limb L0 branch 814\n",
      "Working on limb L0 branch 829\n",
      "Working on limb L0 branch 844\n",
      "Working on limb L0 branch 1038\n",
      "Working on limb L0 branch 1042\n",
      "Working on limb L0 branch 997\n",
      "Working on limb L0 branch 1005\n",
      "Working on limb L0 branch 1006\n",
      "Working on limb L0 branch 733\n",
      "Working on limb L0 branch 840\n",
      "Working on limb L0 branch 91\n",
      "Working on limb L0 branch 97\n",
      "Working on limb L0 branch 98\n",
      "Working on limb L0 branch 110\n",
      "Working on limb L0 branch 332\n",
      "Working on limb L0 branch 380\n",
      "Working on limb L0 branch 390\n",
      "Working on limb L0 branch 396\n",
      "Working on limb L0 branch 408\n",
      "Working on limb L0 branch 411\n",
      "Working on limb L0 branch 841\n",
      "Working on limb L0 branch 842\n",
      "Working on limb L0 branch 725\n",
      "Working on limb L0 branch 730\n",
      "Working on limb L0 branch 294\n",
      "Working on limb L0 branch 325\n",
      "Working on limb L0 branch 85\n",
      "Working on limb L0 branch 146\n",
      "Working on limb L0 branch 236\n",
      "Working on limb L0 branch 237\n",
      "Working on limb L0 branch 873\n",
      "Working on limb L0 branch 874\n",
      "Working on limb L0 branch 741\n",
      "Working on limb L0 branch 832\n",
      "Working on limb L0 branch 817\n",
      "Working on limb L0 branch 851\n",
      "Working on limb L0 branch 1037\n",
      "Working on limb L0 branch 1041\n",
      "Working on limb L0 branch 891\n",
      "Working on limb L0 branch 894\n",
      "Working on limb L0 branch 383\n",
      "Working on limb L0 branch 387\n",
      "Working on limb L0 branch 734\n",
      "Working on limb L0 branch 753\n",
      "Working on limb L0 branch 811\n",
      "Working on limb L0 branch 812\n",
      "Working on limb L0 branch 281\n",
      "Working on limb L0 branch 311\n",
      "Working on limb L0 branch 337\n",
      "Working on limb L0 branch 338\n",
      "Working on limb L0 branch 48\n",
      "Working on limb L0 branch 155\n",
      "Working on limb L0 branch 222\n",
      "Working on limb L0 branch 226\n",
      "Working on limb L0 branch 920\n",
      "Working on limb L0 branch 921\n",
      "Working on limb L0 branch 702\n",
      "Working on limb L0 branch 714\n",
      "Working on limb L0 branch 868\n",
      "Working on limb L0 branch 912\n",
      "Working on limb L0 branch 877\n",
      "Working on limb L0 branch 880\n",
      "Working on limb L0 branch 885\n",
      "Working on limb L0 branch 890\n",
      "Working on limb L0 branch 757\n",
      "Working on limb L0 branch 759\n",
      "Working on limb L0 branch 280\n",
      "Working on limb L0 branch 290\n",
      "Working on limb L0 branch 305\n",
      "Working on limb L0 branch 349\n",
      "Working on limb L0 branch 292\n",
      "Working on limb L0 branch 347\n",
      "Working on limb L0 branch 18\n",
      "Working on limb L0 branch 47\n",
      "Working on limb L0 branch 189\n",
      "Working on limb L0 branch 207\n",
      "Working on limb L0 branch 922\n",
      "Working on limb L0 branch 925\n",
      "Working on limb L0 branch 600\n",
      "Working on limb L0 branch 709\n",
      "Working on limb L0 branch 803\n",
      "Working on limb L0 branch 805\n",
      "Working on limb L0 branch 441\n",
      "Working on limb L0 branch 450\n",
      "Working on limb L0 branch 415\n",
      "Working on limb L0 branch 416\n",
      "Working on limb L0 branch 130\n",
      "Working on limb L0 branch 133\n",
      "Working on limb L0 branch 562\n",
      "Working on limb L0 branch 583\n",
      "Working on limb L0 branch 599\n",
      "Working on limb L0 branch 419\n",
      "Working on limb L0 branch 440\n",
      "Working on limb L0 branch 329\n",
      "Working on limb L0 branch 429\n",
      "Working on limb L0 branch 506\n",
      "Working on limb L0 branch 561\n",
      "Working on limb L0 branch 593\n",
      "Working on limb L0 branch 597\n",
      "Working on limb L0 branch 378\n"
     ]
    },
    {
     "name": "stdout",
     "output_type": "stream",
     "text": [
      "Working on limb L0 branch 410\n",
      "Working on limb L0 branch 523\n",
      "Working on limb L0 branch 560\n",
      "Working on limb L0 branch 567\n",
      "Working on limb L0 branch 538\n",
      "Working on limb L0 branch 633\n",
      "Working on limb L0 branch 498\n",
      "Working on limb L0 branch 507\n",
      "Working on limb L0 branch 660\n",
      "Working on limb L0 branch 670\n",
      "Working on limb L0 branch 491\n",
      "Working on limb L0 branch 497\n",
      "Working on limb L0 branch 448\n",
      "Working on limb L0 branch 492\n",
      "Working on limb L1 branch 2\n",
      "Working on limb L1 branch 3\n",
      "Working on limb L1 branch 4\n",
      "Working on limb L1 branch 1\n",
      "Working on limb L1 branch 5\n",
      "Working on limb L1 branch 6\n",
      "Working on limb L1 branch 7\n",
      "Working on limb L1 branch 0\n",
      "Working on limb L1 branch 8\n",
      "Working on limb L1 branch 15\n",
      "Working on limb L1 branch 17\n",
      "Working on limb L1 branch 11\n",
      "Working on limb L1 branch 12\n",
      "Working on limb L1 branch 9\n",
      "Working on limb L1 branch 10\n",
      "Working on limb L1 branch 18\n",
      "Working on limb L1 branch 20\n",
      "Working on limb L1 branch 21\n",
      "Working on limb L1 branch 22\n",
      "Working on limb L1 branch 14\n",
      "Working on limb L1 branch 16\n",
      "Working on limb L1 branch 13\n",
      "Working on limb L1 branch 19\n",
      "Working on limb L2 branch 8\n",
      "Working on limb L2 branch 3\n",
      "Working on limb L2 branch 7\n",
      "Working on limb L2 branch 4\n",
      "Working on limb L2 branch 6\n",
      "Working on limb L2 branch 2\n",
      "Working on limb L2 branch 5\n",
      "Working on limb L2 branch 11\n",
      "Working on limb L2 branch 12\n",
      "Working on limb L2 branch 0\n",
      "Working on limb L2 branch 1\n",
      "Working on limb L2 branch 9\n",
      "Working on limb L2 branch 10\n",
      "Working on limb L3 branch 1\n",
      "Working on limb L3 branch 0\n",
      "Working on limb L3 branch 2\n",
      "Working on limb L3 branch 11\n",
      "Working on limb L3 branch 12\n",
      "Working on limb L3 branch 7\n",
      "Working on limb L3 branch 10\n",
      "Working on limb L3 branch 13\n",
      "Working on limb L3 branch 14\n",
      "Working on limb L3 branch 6\n",
      "Working on limb L3 branch 9\n",
      "Working on limb L3 branch 3\n",
      "Working on limb L3 branch 4\n",
      "Working on limb L3 branch 5\n",
      "Working on limb L3 branch 8\n",
      "Working on limb L7 branch 6\n",
      "Working on limb L7 branch 3\n",
      "Working on limb L7 branch 5\n",
      "Working on limb L7 branch 2\n",
      "Working on limb L7 branch 4\n",
      "Working on limb L7 branch 0\n",
      "Working on limb L7 branch 1\n",
      "Working on limb L8 branch 0\n",
      "Working on limb L8 branch 1\n",
      "Working on limb L8 branch 2\n",
      "Working on limb L8 branch 4\n",
      "Working on limb L8 branch 5\n",
      "Working on limb L8 branch 3\n",
      "Working on limb L8 branch 6\n",
      "Working on limb L4 branch 3\n",
      "Working on limb L4 branch 2\n",
      "Working on limb L4 branch 4\n",
      "Working on limb L4 branch 0\n",
      "Working on limb L4 branch 1\n",
      "Working on limb L4 branch 5\n",
      "Working on limb L4 branch 6\n",
      "Working on limb L4 branch 7\n",
      "Working on limb L5 branch 10\n",
      "Working on limb L5 branch 2\n",
      "Working on limb L5 branch 8\n",
      "Working on limb L5 branch 0\n",
      "Working on limb L5 branch 1\n",
      "Working on limb L5 branch 6\n",
      "Working on limb L5 branch 9\n",
      "Working on limb L5 branch 3\n",
      "Working on limb L5 branch 5\n",
      "Working on limb L5 branch 4\n",
      "Working on limb L5 branch 7\n",
      "Working on limb L6 branch 4\n",
      "Working on limb L6 branch 0\n",
      "Working on limb L6 branch 2\n",
      "Working on limb L6 branch 1\n",
      "Working on limb L6 branch 3\n",
      "Working on limb L9 branch 1\n",
      "Working on limb L9 branch 0\n",
      "Working on limb L9 branch 2\n",
      "Working on limb L10 branch 4\n",
      "Working on limb L10 branch 2\n",
      "Working on limb L10 branch 3\n",
      "Working on limb L10 branch 0\n",
      "Working on limb L10 branch 1\n",
      "functions_list = [<function median_mesh_center at 0x7f05ceca37b8>, <function n_faces_branch at 0x7f05ceca3378>]\n",
      "Saved object at /notebooks/Auto_Proofreading/Decomposition_Optimization/Debug_3_Seg_Fault/curr_branch_before_spines.pbz2\n",
      "File size is 0.254789 MB\n",
      "segment_name before cgal = L0_16\n"
     ]
    },
    {
     "data": {
      "application/vnd.jupyter.widget-view+json": {
       "model_id": "fd528293eb5c4571b25c7875527a0f6a",
       "version_major": 2,
       "version_minor": 0
      },
      "text/plain": [
       "HBox(children=(FloatProgress(value=0.0, max=10.0), HTML(value='')))"
      ]
     },
     "metadata": {},
     "output_type": "display_data"
    },
    {
     "name": "stdout",
     "output_type": "stream",
     "text": [
      "\n",
      "Saved object at /notebooks/Auto_Proofreading/Decomposition_Optimization/Debug_3_Seg_Fault/curr_branch_before_spines.pbz2\n",
      "File size is 0.099759 MB\n",
      "segment_name before cgal = L0_24\n"
     ]
    },
    {
     "data": {
      "application/vnd.jupyter.widget-view+json": {
       "model_id": "42aa16276e6944e0b7f91bdf2f959ead",
       "version_major": 2,
       "version_minor": 0
      },
      "text/plain": [
       "HBox(children=(FloatProgress(value=0.0, max=9.0), HTML(value='')))"
      ]
     },
     "metadata": {},
     "output_type": "display_data"
    },
    {
     "name": "stdout",
     "output_type": "stream",
     "text": [
      "\n",
      "Saved object at /notebooks/Auto_Proofreading/Decomposition_Optimization/Debug_3_Seg_Fault/curr_branch_before_spines.pbz2\n",
      "File size is 0.031829 MB\n",
      "segment_name before cgal = L0_30\n"
     ]
    },
    {
     "data": {
      "application/vnd.jupyter.widget-view+json": {
       "model_id": "0db0c5b690f843d1b7df6ef1b0f82c65",
       "version_major": 2,
       "version_minor": 0
      },
      "text/plain": [
       "HBox(children=(FloatProgress(value=0.0, max=9.0), HTML(value='')))"
      ]
     },
     "metadata": {},
     "output_type": "display_data"
    },
    {
     "name": "stdout",
     "output_type": "stream",
     "text": [
      "\n",
      "Saved object at /notebooks/Auto_Proofreading/Decomposition_Optimization/Debug_3_Seg_Fault/curr_branch_before_spines.pbz2\n",
      "File size is 0.020093 MB\n",
      "segment_name before cgal = L0_80\n"
     ]
    },
    {
     "data": {
      "application/vnd.jupyter.widget-view+json": {
       "model_id": "5e661475ada942738a140c891dbad925",
       "version_major": 2,
       "version_minor": 0
      },
      "text/plain": [
       "HBox(children=(FloatProgress(value=0.0, max=4.0), HTML(value='')))"
      ]
     },
     "metadata": {},
     "output_type": "display_data"
    },
    {
     "name": "stdout",
     "output_type": "stream",
     "text": [
      "\n",
      "Saved object at /notebooks/Auto_Proofreading/Decomposition_Optimization/Debug_3_Seg_Fault/curr_branch_before_spines.pbz2\n",
      "File size is 0.088061 MB\n",
      "segment_name before cgal = L0_183\n"
     ]
    },
    {
     "data": {
      "application/vnd.jupyter.widget-view+json": {
       "model_id": "93505e531cfb48218de545deb9e51a26",
       "version_major": 2,
       "version_minor": 0
      },
      "text/plain": [
       "HBox(children=(FloatProgress(value=0.0, max=7.0), HTML(value='')))"
      ]
     },
     "metadata": {},
     "output_type": "display_data"
    },
    {
     "name": "stdout",
     "output_type": "stream",
     "text": [
      "\n",
      "Saved object at /notebooks/Auto_Proofreading/Decomposition_Optimization/Debug_3_Seg_Fault/curr_branch_before_spines.pbz2\n",
      "File size is 0.503026 MB\n",
      "segment_name before cgal = L0_185\n"
     ]
    },
    {
     "data": {
      "application/vnd.jupyter.widget-view+json": {
       "model_id": "c2ea0746fa6e41a88c32875ea5809980",
       "version_major": 2,
       "version_minor": 0
      },
      "text/plain": [
       "HBox(children=(FloatProgress(value=0.0, max=25.0), HTML(value='')))"
      ]
     },
     "metadata": {},
     "output_type": "display_data"
    },
    {
     "name": "stdout",
     "output_type": "stream",
     "text": [
      "\n",
      "Saved object at /notebooks/Auto_Proofreading/Decomposition_Optimization/Debug_3_Seg_Fault/curr_branch_before_spines.pbz2\n",
      "File size is 0.138427 MB\n",
      "segment_name before cgal = L0_229\n"
     ]
    },
    {
     "data": {
      "application/vnd.jupyter.widget-view+json": {
       "model_id": "c2b2b0934ca14257841d24d536b0b5ff",
       "version_major": 2,
       "version_minor": 0
      },
      "text/plain": [
       "HBox(children=(FloatProgress(value=0.0, max=8.0), HTML(value='')))"
      ]
     },
     "metadata": {},
     "output_type": "display_data"
    },
    {
     "name": "stdout",
     "output_type": "stream",
     "text": [
      "\n",
      "Saved object at /notebooks/Auto_Proofreading/Decomposition_Optimization/Debug_3_Seg_Fault/curr_branch_before_spines.pbz2\n",
      "File size is 0.354573 MB\n",
      "segment_name before cgal = L0_231\n"
     ]
    },
    {
     "data": {
      "application/vnd.jupyter.widget-view+json": {
       "model_id": "11d8a260ba164b718ef32617160eca3c",
       "version_major": 2,
       "version_minor": 0
      },
      "text/plain": [
       "HBox(children=(FloatProgress(value=0.0, max=19.0), HTML(value='')))"
      ]
     },
     "metadata": {},
     "output_type": "display_data"
    },
    {
     "name": "stdout",
     "output_type": "stream",
     "text": [
      "\n",
      "Saved object at /notebooks/Auto_Proofreading/Decomposition_Optimization/Debug_3_Seg_Fault/curr_branch_before_spines.pbz2\n",
      "File size is 0.354797 MB\n",
      "segment_name before cgal = L0_235\n"
     ]
    },
    {
     "data": {
      "application/vnd.jupyter.widget-view+json": {
       "model_id": "c02396dab99f4c98878b9296818cf70f",
       "version_major": 2,
       "version_minor": 0
      },
      "text/plain": [
       "HBox(children=(FloatProgress(value=0.0, max=12.0), HTML(value='')))"
      ]
     },
     "metadata": {},
     "output_type": "display_data"
    },
    {
     "name": "stdout",
     "output_type": "stream",
     "text": [
      "\n",
      "Saved object at /notebooks/Auto_Proofreading/Decomposition_Optimization/Debug_3_Seg_Fault/curr_branch_before_spines.pbz2\n",
      "File size is 0.184262 MB\n",
      "segment_name before cgal = L0_239\n"
     ]
    },
    {
     "data": {
      "application/vnd.jupyter.widget-view+json": {
       "model_id": "4f1e084a1d184739bb359c746a922d0f",
       "version_major": 2,
       "version_minor": 0
      },
      "text/plain": [
       "HBox(children=(FloatProgress(value=0.0, max=7.0), HTML(value='')))"
      ]
     },
     "metadata": {},
     "output_type": "display_data"
    },
    {
     "name": "stdout",
     "output_type": "stream",
     "text": [
      "\n",
      "Saved object at /notebooks/Auto_Proofreading/Decomposition_Optimization/Debug_3_Seg_Fault/curr_branch_before_spines.pbz2\n",
      "File size is 0.619347 MB\n",
      "segment_name before cgal = L0_242\n"
     ]
    },
    {
     "data": {
      "application/vnd.jupyter.widget-view+json": {
       "model_id": "d2277f7b20354545b9f203620543b33c",
       "version_major": 2,
       "version_minor": 0
      },
      "text/plain": [
       "HBox(children=(FloatProgress(value=0.0, max=20.0), HTML(value='')))"
      ]
     },
     "metadata": {},
     "output_type": "display_data"
    },
    {
     "name": "stdout",
     "output_type": "stream",
     "text": [
      "\n",
      "Saved object at /notebooks/Auto_Proofreading/Decomposition_Optimization/Debug_3_Seg_Fault/curr_branch_before_spines.pbz2\n",
      "File size is 0.12909 MB\n",
      "segment_name before cgal = L0_272\n"
     ]
    },
    {
     "data": {
      "application/vnd.jupyter.widget-view+json": {
       "model_id": "00397eb9ed6546b4a69c2160e3413896",
       "version_major": 2,
       "version_minor": 0
      },
      "text/plain": [
       "HBox(children=(FloatProgress(value=0.0, max=6.0), HTML(value='')))"
      ]
     },
     "metadata": {},
     "output_type": "display_data"
    },
    {
     "name": "stdout",
     "output_type": "stream",
     "text": [
      "\n",
      "Saved object at /notebooks/Auto_Proofreading/Decomposition_Optimization/Debug_3_Seg_Fault/curr_branch_before_spines.pbz2\n",
      "File size is 0.236097 MB\n",
      "segment_name before cgal = L0_273\n"
     ]
    },
    {
     "data": {
      "application/vnd.jupyter.widget-view+json": {
       "model_id": "d864e3ef19c34099b15642bdc51bbb3f",
       "version_major": 2,
       "version_minor": 0
      },
      "text/plain": [
       "HBox(children=(FloatProgress(value=0.0, max=6.0), HTML(value='')))"
      ]
     },
     "metadata": {},
     "output_type": "display_data"
    },
    {
     "name": "stdout",
     "output_type": "stream",
     "text": [
      "\n",
      "Saved object at /notebooks/Auto_Proofreading/Decomposition_Optimization/Debug_3_Seg_Fault/curr_branch_before_spines.pbz2\n",
      "File size is 0.077983 MB\n",
      "segment_name before cgal = L0_274\n"
     ]
    },
    {
     "data": {
      "application/vnd.jupyter.widget-view+json": {
       "model_id": "22e5abf88ebf4437b28b9c13646a8435",
       "version_major": 2,
       "version_minor": 0
      },
      "text/plain": [
       "HBox(children=(FloatProgress(value=0.0, max=9.0), HTML(value='')))"
      ]
     },
     "metadata": {},
     "output_type": "display_data"
    },
    {
     "name": "stdout",
     "output_type": "stream",
     "text": [
      "\n",
      "Saved object at /notebooks/Auto_Proofreading/Decomposition_Optimization/Debug_3_Seg_Fault/curr_branch_before_spines.pbz2\n",
      "File size is 0.113222 MB\n",
      "segment_name before cgal = L0_288\n"
     ]
    },
    {
     "data": {
      "application/vnd.jupyter.widget-view+json": {
       "model_id": "6838537413944762b9f863e83355577e",
       "version_major": 2,
       "version_minor": 0
      },
      "text/plain": [
       "HBox(children=(FloatProgress(value=0.0, max=8.0), HTML(value='')))"
      ]
     },
     "metadata": {},
     "output_type": "display_data"
    },
    {
     "name": "stdout",
     "output_type": "stream",
     "text": [
      "\n",
      "Saved object at /notebooks/Auto_Proofreading/Decomposition_Optimization/Debug_3_Seg_Fault/curr_branch_before_spines.pbz2\n",
      "File size is 0.042543 MB\n",
      "segment_name before cgal = L0_289\n"
     ]
    },
    {
     "data": {
      "application/vnd.jupyter.widget-view+json": {
       "model_id": "52e821221f1a441db09970209eb14320",
       "version_major": 2,
       "version_minor": 0
      },
      "text/plain": [
       "HBox(children=(FloatProgress(value=0.0, max=6.0), HTML(value='')))"
      ]
     },
     "metadata": {},
     "output_type": "display_data"
    },
    {
     "name": "stdout",
     "output_type": "stream",
     "text": [
      "\n",
      "Saved object at /notebooks/Auto_Proofreading/Decomposition_Optimization/Debug_3_Seg_Fault/curr_branch_before_spines.pbz2\n",
      "File size is 0.447383 MB\n",
      "segment_name before cgal = L0_315\n"
     ]
    },
    {
     "data": {
      "application/vnd.jupyter.widget-view+json": {
       "model_id": "cc0e21609f0a49d39a8d5e3e4230e3c4",
       "version_major": 2,
       "version_minor": 0
      },
      "text/plain": [
       "HBox(children=(FloatProgress(value=0.0, max=28.0), HTML(value='')))"
      ]
     },
     "metadata": {},
     "output_type": "display_data"
    },
    {
     "name": "stdout",
     "output_type": "stream",
     "text": [
      "\n",
      "Saved object at /notebooks/Auto_Proofreading/Decomposition_Optimization/Debug_3_Seg_Fault/curr_branch_before_spines.pbz2\n",
      "File size is 0.421101 MB\n",
      "segment_name before cgal = L0_319\n"
     ]
    },
    {
     "data": {
      "application/vnd.jupyter.widget-view+json": {
       "model_id": "4691449edd234da1a17ed5e7b3fd7d83",
       "version_major": 2,
       "version_minor": 0
      },
      "text/plain": [
       "HBox(children=(FloatProgress(value=0.0, max=21.0), HTML(value='')))"
      ]
     },
     "metadata": {},
     "output_type": "display_data"
    },
    {
     "name": "stdout",
     "output_type": "stream",
     "text": [
      "\n",
      "Saved object at /notebooks/Auto_Proofreading/Decomposition_Optimization/Debug_3_Seg_Fault/curr_branch_before_spines.pbz2\n",
      "File size is 0.017929 MB\n",
      "segment_name before cgal = L0_321\n"
     ]
    },
    {
     "data": {
      "application/vnd.jupyter.widget-view+json": {
       "model_id": "db214e12770544188da3579406ac6b44",
       "version_major": 2,
       "version_minor": 0
      },
      "text/plain": [
       "HBox(children=(FloatProgress(value=0.0, max=3.0), HTML(value='')))"
      ]
     },
     "metadata": {},
     "output_type": "display_data"
    },
    {
     "name": "stdout",
     "output_type": "stream",
     "text": [
      "\n",
      "Saved object at /notebooks/Auto_Proofreading/Decomposition_Optimization/Debug_3_Seg_Fault/curr_branch_before_spines.pbz2\n",
      "File size is 0.36754 MB\n",
      "segment_name before cgal = L0_339\n"
     ]
    },
    {
     "data": {
      "application/vnd.jupyter.widget-view+json": {
       "model_id": "b78bddf22a0448f487a7b4d33d9e4d36",
       "version_major": 2,
       "version_minor": 0
      },
      "text/plain": [
       "HBox(children=(FloatProgress(value=0.0, max=19.0), HTML(value='')))"
      ]
     },
     "metadata": {},
     "output_type": "display_data"
    },
    {
     "name": "stdout",
     "output_type": "stream",
     "text": [
      "\n",
      "Saved object at /notebooks/Auto_Proofreading/Decomposition_Optimization/Debug_3_Seg_Fault/curr_branch_before_spines.pbz2\n",
      "File size is 0.16627 MB\n",
      "segment_name before cgal = L0_340\n"
     ]
    },
    {
     "data": {
      "application/vnd.jupyter.widget-view+json": {
       "model_id": "b723825b5b564fa4bd3fdf89210be8d1",
       "version_major": 2,
       "version_minor": 0
      },
      "text/plain": [
       "HBox(children=(FloatProgress(value=0.0, max=7.0), HTML(value='')))"
      ]
     },
     "metadata": {},
     "output_type": "display_data"
    },
    {
     "name": "stdout",
     "output_type": "stream",
     "text": [
      "\n",
      "Saved object at /notebooks/Auto_Proofreading/Decomposition_Optimization/Debug_3_Seg_Fault/curr_branch_before_spines.pbz2\n",
      "File size is 0.239637 MB\n",
      "segment_name before cgal = L0_344\n"
     ]
    },
    {
     "data": {
      "application/vnd.jupyter.widget-view+json": {
       "model_id": "4f427e2d7a4a41aba3c9a6766f37dcc4",
       "version_major": 2,
       "version_minor": 0
      },
      "text/plain": [
       "HBox(children=(FloatProgress(value=0.0, max=16.0), HTML(value='')))"
      ]
     },
     "metadata": {},
     "output_type": "display_data"
    },
    {
     "name": "stdout",
     "output_type": "stream",
     "text": [
      "\n",
      "Saved object at /notebooks/Auto_Proofreading/Decomposition_Optimization/Debug_3_Seg_Fault/curr_branch_before_spines.pbz2\n",
      "File size is 0.097653 MB\n",
      "segment_name before cgal = L0_346\n"
     ]
    },
    {
     "data": {
      "application/vnd.jupyter.widget-view+json": {
       "model_id": "fbe4b6d5e0bc42bebf9dab061d2972f8",
       "version_major": 2,
       "version_minor": 0
      },
      "text/plain": [
       "HBox(children=(FloatProgress(value=0.0, max=10.0), HTML(value='')))"
      ]
     },
     "metadata": {},
     "output_type": "display_data"
    },
    {
     "name": "stdout",
     "output_type": "stream",
     "text": [
      "\n",
      "Saved object at /notebooks/Auto_Proofreading/Decomposition_Optimization/Debug_3_Seg_Fault/curr_branch_before_spines.pbz2\n",
      "File size is 0.154521 MB\n",
      "segment_name before cgal = L0_348\n"
     ]
    },
    {
     "data": {
      "application/vnd.jupyter.widget-view+json": {
       "model_id": "f587f1d6889840d1a499e72e245e0715",
       "version_major": 2,
       "version_minor": 0
      },
      "text/plain": [
       "HBox(children=(FloatProgress(value=0.0, max=16.0), HTML(value='')))"
      ]
     },
     "metadata": {},
     "output_type": "display_data"
    },
    {
     "name": "stdout",
     "output_type": "stream",
     "text": [
      "\n",
      "Saved object at /notebooks/Auto_Proofreading/Decomposition_Optimization/Debug_3_Seg_Fault/curr_branch_before_spines.pbz2\n",
      "File size is 0.397075 MB\n",
      "segment_name before cgal = L0_357\n"
     ]
    },
    {
     "data": {
      "application/vnd.jupyter.widget-view+json": {
       "model_id": "3cfec1c2e205478c9e97b6546e6b19a6",
       "version_major": 2,
       "version_minor": 0
      },
      "text/plain": [
       "HBox(children=(FloatProgress(value=0.0, max=19.0), HTML(value='')))"
      ]
     },
     "metadata": {},
     "output_type": "display_data"
    },
    {
     "name": "stdout",
     "output_type": "stream",
     "text": [
      "\n",
      "Saved object at /notebooks/Auto_Proofreading/Decomposition_Optimization/Debug_3_Seg_Fault/curr_branch_before_spines.pbz2\n",
      "File size is 0.391873 MB\n",
      "segment_name before cgal = L0_364\n"
     ]
    },
    {
     "data": {
      "application/vnd.jupyter.widget-view+json": {
       "model_id": "da57093e33224c93baed2a5f0f6e5604",
       "version_major": 2,
       "version_minor": 0
      },
      "text/plain": [
       "HBox(children=(FloatProgress(value=0.0, max=16.0), HTML(value='')))"
      ]
     },
     "metadata": {},
     "output_type": "display_data"
    },
    {
     "name": "stdout",
     "output_type": "stream",
     "text": [
      "\n",
      "Saved object at /notebooks/Auto_Proofreading/Decomposition_Optimization/Debug_3_Seg_Fault/curr_branch_before_spines.pbz2\n",
      "File size is 0.01255 MB\n",
      "segment_name before cgal = L0_377\n"
     ]
    },
    {
     "data": {
      "application/vnd.jupyter.widget-view+json": {
       "model_id": "a5ad3e86a49041a2a07ed12508c86a81",
       "version_major": 2,
       "version_minor": 0
      },
      "text/plain": [
       "HBox(children=(FloatProgress(value=0.0, max=3.0), HTML(value='')))"
      ]
     },
     "metadata": {},
     "output_type": "display_data"
    },
    {
     "name": "stdout",
     "output_type": "stream",
     "text": [
      "\n",
      "Saved object at /notebooks/Auto_Proofreading/Decomposition_Optimization/Debug_3_Seg_Fault/curr_branch_before_spines.pbz2\n",
      "File size is 0.224062 MB\n",
      "segment_name before cgal = L0_381\n"
     ]
    },
    {
     "data": {
      "application/vnd.jupyter.widget-view+json": {
       "model_id": "2694c3ccde444275bbb1d2264d9aa684",
       "version_major": 2,
       "version_minor": 0
      },
      "text/plain": [
       "HBox(children=(FloatProgress(value=0.0, max=25.0), HTML(value='')))"
      ]
     },
     "metadata": {},
     "output_type": "display_data"
    },
    {
     "name": "stdout",
     "output_type": "stream",
     "text": [
      "\n",
      "Saved object at /notebooks/Auto_Proofreading/Decomposition_Optimization/Debug_3_Seg_Fault/curr_branch_before_spines.pbz2\n",
      "File size is 0.264638 MB\n",
      "segment_name before cgal = L0_388\n"
     ]
    },
    {
     "data": {
      "application/vnd.jupyter.widget-view+json": {
       "model_id": "e7a7317e7d6746f992e0795c7436fae0",
       "version_major": 2,
       "version_minor": 0
      },
      "text/plain": [
       "HBox(children=(FloatProgress(value=0.0, max=28.0), HTML(value='')))"
      ]
     },
     "metadata": {},
     "output_type": "display_data"
    },
    {
     "name": "stdout",
     "output_type": "stream",
     "text": [
      "\n",
      "Saved object at /notebooks/Auto_Proofreading/Decomposition_Optimization/Debug_3_Seg_Fault/curr_branch_before_spines.pbz2\n",
      "File size is 0.158908 MB\n",
      "segment_name before cgal = L0_395\n"
     ]
    },
    {
     "data": {
      "application/vnd.jupyter.widget-view+json": {
       "model_id": "2e791f1d3dc841fe87bd44a62ccc61e5",
       "version_major": 2,
       "version_minor": 0
      },
      "text/plain": [
       "HBox(children=(FloatProgress(value=0.0, max=12.0), HTML(value='')))"
      ]
     },
     "metadata": {},
     "output_type": "display_data"
    },
    {
     "name": "stdout",
     "output_type": "stream",
     "text": [
      "\n",
      "Saved object at /notebooks/Auto_Proofreading/Decomposition_Optimization/Debug_3_Seg_Fault/curr_branch_before_spines.pbz2\n",
      "File size is 0.104583 MB\n",
      "segment_name before cgal = L0_399\n"
     ]
    },
    {
     "data": {
      "application/vnd.jupyter.widget-view+json": {
       "model_id": "4c95433c625c43788d7dceabd5a3df54",
       "version_major": 2,
       "version_minor": 0
      },
      "text/plain": [
       "HBox(children=(FloatProgress(value=0.0, max=12.0), HTML(value='')))"
      ]
     },
     "metadata": {},
     "output_type": "display_data"
    },
    {
     "name": "stdout",
     "output_type": "stream",
     "text": [
      "\n",
      "Saved object at /notebooks/Auto_Proofreading/Decomposition_Optimization/Debug_3_Seg_Fault/curr_branch_before_spines.pbz2\n",
      "File size is 0.013334 MB\n",
      "segment_name before cgal = L0_404\n"
     ]
    },
    {
     "data": {
      "application/vnd.jupyter.widget-view+json": {
       "model_id": "5a6834e4213e4aa291cfe9978e341af5",
       "version_major": 2,
       "version_minor": 0
      },
      "text/plain": [
       "HBox(children=(FloatProgress(value=0.0, max=10.0), HTML(value='')))"
      ]
     },
     "metadata": {},
     "output_type": "display_data"
    },
    {
     "name": "stdout",
     "output_type": "stream",
     "text": [
      "\n",
      "Saved object at /notebooks/Auto_Proofreading/Decomposition_Optimization/Debug_3_Seg_Fault/curr_branch_before_spines.pbz2\n",
      "File size is 0.258948 MB\n",
      "segment_name before cgal = L0_406\n"
     ]
    },
    {
     "data": {
      "application/vnd.jupyter.widget-view+json": {
       "model_id": "e7728e0fae2e4effbbcaf9d29970528a",
       "version_major": 2,
       "version_minor": 0
      },
      "text/plain": [
       "HBox(children=(FloatProgress(value=0.0, max=11.0), HTML(value='')))"
      ]
     },
     "metadata": {},
     "output_type": "display_data"
    },
    {
     "name": "stdout",
     "output_type": "stream",
     "text": [
      "\n",
      "Saved object at /notebooks/Auto_Proofreading/Decomposition_Optimization/Debug_3_Seg_Fault/curr_branch_before_spines.pbz2\n",
      "File size is 0.493942 MB\n",
      "segment_name before cgal = L0_420\n"
     ]
    },
    {
     "data": {
      "application/vnd.jupyter.widget-view+json": {
       "model_id": "da391b3628bd442cba29bcd4b979ff12",
       "version_major": 2,
       "version_minor": 0
      },
      "text/plain": [
       "HBox(children=(FloatProgress(value=0.0, max=55.0), HTML(value='')))"
      ]
     },
     "metadata": {},
     "output_type": "display_data"
    },
    {
     "name": "stdout",
     "output_type": "stream",
     "text": [
      "\n",
      "Saved object at /notebooks/Auto_Proofreading/Decomposition_Optimization/Debug_3_Seg_Fault/curr_branch_before_spines.pbz2\n",
      "File size is 0.344304 MB\n",
      "segment_name before cgal = L0_422\n"
     ]
    },
    {
     "data": {
      "application/vnd.jupyter.widget-view+json": {
       "model_id": "18588206d167450a87526e4b1b9bab5c",
       "version_major": 2,
       "version_minor": 0
      },
      "text/plain": [
       "HBox(children=(FloatProgress(value=0.0, max=21.0), HTML(value='')))"
      ]
     },
     "metadata": {},
     "output_type": "display_data"
    },
    {
     "name": "stdout",
     "output_type": "stream",
     "text": [
      "\n",
      "Saved object at /notebooks/Auto_Proofreading/Decomposition_Optimization/Debug_3_Seg_Fault/curr_branch_before_spines.pbz2\n",
      "File size is 0.08994 MB\n",
      "segment_name before cgal = L0_423\n"
     ]
    },
    {
     "data": {
      "application/vnd.jupyter.widget-view+json": {
       "model_id": "96e9a5a7f844402abe4859e33940464b",
       "version_major": 2,
       "version_minor": 0
      },
      "text/plain": [
       "HBox(children=(FloatProgress(value=0.0, max=8.0), HTML(value='')))"
      ]
     },
     "metadata": {},
     "output_type": "display_data"
    },
    {
     "name": "stdout",
     "output_type": "stream",
     "text": [
      "\n",
      "Saved object at /notebooks/Auto_Proofreading/Decomposition_Optimization/Debug_3_Seg_Fault/curr_branch_before_spines.pbz2\n",
      "File size is 0.199339 MB\n",
      "segment_name before cgal = L0_431\n"
     ]
    },
    {
     "data": {
      "application/vnd.jupyter.widget-view+json": {
       "model_id": "16f5050d89684d1f9a3db3086d166676",
       "version_major": 2,
       "version_minor": 0
      },
      "text/plain": [
       "HBox(children=(FloatProgress(value=0.0, max=11.0), HTML(value='')))"
      ]
     },
     "metadata": {},
     "output_type": "display_data"
    },
    {
     "name": "stdout",
     "output_type": "stream",
     "text": [
      "\n",
      "Saved object at /notebooks/Auto_Proofreading/Decomposition_Optimization/Debug_3_Seg_Fault/curr_branch_before_spines.pbz2\n",
      "File size is 0.046389 MB\n",
      "segment_name before cgal = L0_434\n"
     ]
    },
    {
     "data": {
      "application/vnd.jupyter.widget-view+json": {
       "model_id": "305e5f89a07e4045bc6305b56b6c4338",
       "version_major": 2,
       "version_minor": 0
      },
      "text/plain": [
       "HBox(children=(FloatProgress(value=0.0, max=3.0), HTML(value='')))"
      ]
     },
     "metadata": {},
     "output_type": "display_data"
    },
    {
     "name": "stdout",
     "output_type": "stream",
     "text": [
      "\n",
      "Saved object at /notebooks/Auto_Proofreading/Decomposition_Optimization/Debug_3_Seg_Fault/curr_branch_before_spines.pbz2\n",
      "File size is 0.381631 MB\n",
      "segment_name before cgal = L0_451\n"
     ]
    },
    {
     "data": {
      "application/vnd.jupyter.widget-view+json": {
       "model_id": "03a095f25d4744628e0bb789e1cedad9",
       "version_major": 2,
       "version_minor": 0
      },
      "text/plain": [
       "HBox(children=(FloatProgress(value=0.0, max=35.0), HTML(value='')))"
      ]
     },
     "metadata": {},
     "output_type": "display_data"
    },
    {
     "name": "stdout",
     "output_type": "stream",
     "text": [
      "\n",
      "Saved object at /notebooks/Auto_Proofreading/Decomposition_Optimization/Debug_3_Seg_Fault/curr_branch_before_spines.pbz2\n",
      "File size is 0.276747 MB\n",
      "segment_name before cgal = L0_452\n"
     ]
    },
    {
     "data": {
      "application/vnd.jupyter.widget-view+json": {
       "model_id": "356201ddf1f84837ae266cc48589219f",
       "version_major": 2,
       "version_minor": 0
      },
      "text/plain": [
       "HBox(children=(FloatProgress(value=0.0, max=17.0), HTML(value='')))"
      ]
     },
     "metadata": {},
     "output_type": "display_data"
    },
    {
     "name": "stdout",
     "output_type": "stream",
     "text": [
      "\n",
      "Saved object at /notebooks/Auto_Proofreading/Decomposition_Optimization/Debug_3_Seg_Fault/curr_branch_before_spines.pbz2\n",
      "File size is 0.087425 MB\n",
      "segment_name before cgal = L0_461\n"
     ]
    },
    {
     "data": {
      "application/vnd.jupyter.widget-view+json": {
       "model_id": "78453757352b4d268d5120dfce161ed8",
       "version_major": 2,
       "version_minor": 0
      },
      "text/plain": [
       "HBox(children=(FloatProgress(value=0.0, max=13.0), HTML(value='')))"
      ]
     },
     "metadata": {},
     "output_type": "display_data"
    },
    {
     "name": "stdout",
     "output_type": "stream",
     "text": [
      "\n",
      "Saved object at /notebooks/Auto_Proofreading/Decomposition_Optimization/Debug_3_Seg_Fault/curr_branch_before_spines.pbz2\n",
      "File size is 1.057407 MB\n",
      "segment_name before cgal = L0_462\n"
     ]
    },
    {
     "data": {
      "application/vnd.jupyter.widget-view+json": {
       "model_id": "df466371102e4e738670f748f2433fb9",
       "version_major": 2,
       "version_minor": 0
      },
      "text/plain": [
       "HBox(children=(FloatProgress(value=0.0, max=37.0), HTML(value='')))"
      ]
     },
     "metadata": {},
     "output_type": "display_data"
    },
    {
     "name": "stdout",
     "output_type": "stream",
     "text": [
      "\n",
      "Saved object at /notebooks/Auto_Proofreading/Decomposition_Optimization/Debug_3_Seg_Fault/curr_branch_before_spines.pbz2\n",
      "File size is 0.061284 MB\n",
      "segment_name before cgal = L0_466\n"
     ]
    },
    {
     "data": {
      "application/vnd.jupyter.widget-view+json": {
       "model_id": "2656f2ce3de14137bfbb5a7848e32b3c",
       "version_major": 2,
       "version_minor": 0
      },
      "text/plain": [
       "HBox(children=(FloatProgress(value=0.0, max=9.0), HTML(value='')))"
      ]
     },
     "metadata": {},
     "output_type": "display_data"
    },
    {
     "name": "stdout",
     "output_type": "stream",
     "text": [
      "\n",
      "Saved object at /notebooks/Auto_Proofreading/Decomposition_Optimization/Debug_3_Seg_Fault/curr_branch_before_spines.pbz2\n",
      "File size is 0.173344 MB\n",
      "segment_name before cgal = L0_470\n"
     ]
    },
    {
     "data": {
      "application/vnd.jupyter.widget-view+json": {
       "model_id": "db8936a951ac4013a5b9dadb91bf16ce",
       "version_major": 2,
       "version_minor": 0
      },
      "text/plain": [
       "HBox(children=(FloatProgress(value=0.0, max=12.0), HTML(value='')))"
      ]
     },
     "metadata": {},
     "output_type": "display_data"
    },
    {
     "name": "stdout",
     "output_type": "stream",
     "text": [
      "\n",
      "Saved object at /notebooks/Auto_Proofreading/Decomposition_Optimization/Debug_3_Seg_Fault/curr_branch_before_spines.pbz2\n",
      "File size is 0.163422 MB\n",
      "segment_name before cgal = L0_472\n"
     ]
    },
    {
     "data": {
      "application/vnd.jupyter.widget-view+json": {
       "model_id": "8d2af6394e8a4bc6aaca0eb20660a0d2",
       "version_major": 2,
       "version_minor": 0
      },
      "text/plain": [
       "HBox(children=(FloatProgress(value=0.0, max=13.0), HTML(value='')))"
      ]
     },
     "metadata": {},
     "output_type": "display_data"
    },
    {
     "name": "stdout",
     "output_type": "stream",
     "text": [
      "\n",
      "Saved object at /notebooks/Auto_Proofreading/Decomposition_Optimization/Debug_3_Seg_Fault/curr_branch_before_spines.pbz2\n",
      "File size is 0.442869 MB\n",
      "segment_name before cgal = L0_476\n"
     ]
    },
    {
     "data": {
      "application/vnd.jupyter.widget-view+json": {
       "model_id": "c589da93d5f34bbcbdd3e93cef96ea44",
       "version_major": 2,
       "version_minor": 0
      },
      "text/plain": [
       "HBox(children=(FloatProgress(value=0.0, max=21.0), HTML(value='')))"
      ]
     },
     "metadata": {},
     "output_type": "display_data"
    },
    {
     "name": "stdout",
     "output_type": "stream",
     "text": [
      "\n",
      "Saved object at /notebooks/Auto_Proofreading/Decomposition_Optimization/Debug_3_Seg_Fault/curr_branch_before_spines.pbz2\n",
      "File size is 0.245718 MB\n",
      "segment_name before cgal = L0_478\n"
     ]
    },
    {
     "data": {
      "application/vnd.jupyter.widget-view+json": {
       "model_id": "b44a4a63f74f43a5a29e09ca1e4fcb70",
       "version_major": 2,
       "version_minor": 0
      },
      "text/plain": [
       "HBox(children=(FloatProgress(value=0.0, max=17.0), HTML(value='')))"
      ]
     },
     "metadata": {},
     "output_type": "display_data"
    },
    {
     "name": "stdout",
     "output_type": "stream",
     "text": [
      "\n",
      "Saved object at /notebooks/Auto_Proofreading/Decomposition_Optimization/Debug_3_Seg_Fault/curr_branch_before_spines.pbz2\n",
      "File size is 0.030283 MB\n",
      "segment_name before cgal = L0_480\n"
     ]
    },
    {
     "data": {
      "application/vnd.jupyter.widget-view+json": {
       "model_id": "f96a24429c5a42c68cf6e4d09fd0b86d",
       "version_major": 2,
       "version_minor": 0
      },
      "text/plain": [
       "HBox(children=(FloatProgress(value=0.0, max=5.0), HTML(value='')))"
      ]
     },
     "metadata": {},
     "output_type": "display_data"
    },
    {
     "name": "stdout",
     "output_type": "stream",
     "text": [
      "\n",
      "Saved object at /notebooks/Auto_Proofreading/Decomposition_Optimization/Debug_3_Seg_Fault/curr_branch_before_spines.pbz2\n",
      "File size is 0.096158 MB\n",
      "segment_name before cgal = L0_481\n"
     ]
    },
    {
     "data": {
      "application/vnd.jupyter.widget-view+json": {
       "model_id": "1a6f06d6831045719f8212d8d408846c",
       "version_major": 2,
       "version_minor": 0
      },
      "text/plain": [
       "HBox(children=(FloatProgress(value=0.0, max=9.0), HTML(value='')))"
      ]
     },
     "metadata": {},
     "output_type": "display_data"
    },
    {
     "name": "stdout",
     "output_type": "stream",
     "text": [
      "\n",
      "Saved object at /notebooks/Auto_Proofreading/Decomposition_Optimization/Debug_3_Seg_Fault/curr_branch_before_spines.pbz2\n",
      "File size is 0.332728 MB\n",
      "segment_name before cgal = L0_483\n"
     ]
    },
    {
     "data": {
      "application/vnd.jupyter.widget-view+json": {
       "model_id": "e5464312bab040a68b879a69e0a388f0",
       "version_major": 2,
       "version_minor": 0
      },
      "text/plain": [
       "HBox(children=(FloatProgress(value=0.0, max=26.0), HTML(value='')))"
      ]
     },
     "metadata": {},
     "output_type": "display_data"
    },
    {
     "name": "stdout",
     "output_type": "stream",
     "text": [
      "\n",
      "Saved object at /notebooks/Auto_Proofreading/Decomposition_Optimization/Debug_3_Seg_Fault/curr_branch_before_spines.pbz2\n",
      "File size is 0.366899 MB\n",
      "segment_name before cgal = L0_487\n"
     ]
    },
    {
     "data": {
      "application/vnd.jupyter.widget-view+json": {
       "model_id": "4abde942300d4c92abd6ecd1a17432ef",
       "version_major": 2,
       "version_minor": 0
      },
      "text/plain": [
       "HBox(children=(FloatProgress(value=0.0, max=19.0), HTML(value='')))"
      ]
     },
     "metadata": {},
     "output_type": "display_data"
    },
    {
     "name": "stdout",
     "output_type": "stream",
     "text": [
      "\n",
      "Saved object at /notebooks/Auto_Proofreading/Decomposition_Optimization/Debug_3_Seg_Fault/curr_branch_before_spines.pbz2\n",
      "File size is 0.105162 MB\n",
      "segment_name before cgal = L0_489\n"
     ]
    },
    {
     "data": {
      "application/vnd.jupyter.widget-view+json": {
       "model_id": "cf0e826e351d4fa38ef54c519307ede6",
       "version_major": 2,
       "version_minor": 0
      },
      "text/plain": [
       "HBox(children=(FloatProgress(value=0.0, max=7.0), HTML(value='')))"
      ]
     },
     "metadata": {},
     "output_type": "display_data"
    },
    {
     "name": "stdout",
     "output_type": "stream",
     "text": [
      "\n",
      "Saved object at /notebooks/Auto_Proofreading/Decomposition_Optimization/Debug_3_Seg_Fault/curr_branch_before_spines.pbz2\n",
      "File size is 0.141496 MB\n",
      "segment_name before cgal = L0_495\n"
     ]
    },
    {
     "data": {
      "application/vnd.jupyter.widget-view+json": {
       "model_id": "7e941ef44f2e49d7999a67e67a3f6d6a",
       "version_major": 2,
       "version_minor": 0
      },
      "text/plain": [
       "HBox(children=(FloatProgress(value=0.0, max=8.0), HTML(value='')))"
      ]
     },
     "metadata": {},
     "output_type": "display_data"
    },
    {
     "name": "stdout",
     "output_type": "stream",
     "text": [
      "\n",
      "Saved object at /notebooks/Auto_Proofreading/Decomposition_Optimization/Debug_3_Seg_Fault/curr_branch_before_spines.pbz2\n",
      "File size is 0.280712 MB\n",
      "segment_name before cgal = L0_499\n"
     ]
    },
    {
     "data": {
      "application/vnd.jupyter.widget-view+json": {
       "model_id": "18bbb00a46804cb6898a3ec4a9afde08",
       "version_major": 2,
       "version_minor": 0
      },
      "text/plain": [
       "HBox(children=(FloatProgress(value=0.0, max=26.0), HTML(value='')))"
      ]
     },
     "metadata": {},
     "output_type": "display_data"
    },
    {
     "name": "stdout",
     "output_type": "stream",
     "text": [
      "\n",
      "Saved object at /notebooks/Auto_Proofreading/Decomposition_Optimization/Debug_3_Seg_Fault/curr_branch_before_spines.pbz2\n",
      "File size is 0.245606 MB\n",
      "segment_name before cgal = L0_500\n"
     ]
    },
    {
     "data": {
      "application/vnd.jupyter.widget-view+json": {
       "model_id": "a4ff5c6f16994dbbaf4b7c84606fe43a",
       "version_major": 2,
       "version_minor": 0
      },
      "text/plain": [
       "HBox(children=(FloatProgress(value=0.0, max=34.0), HTML(value='')))"
      ]
     },
     "metadata": {},
     "output_type": "display_data"
    },
    {
     "name": "stdout",
     "output_type": "stream",
     "text": [
      "\n",
      "Saved object at /notebooks/Auto_Proofreading/Decomposition_Optimization/Debug_3_Seg_Fault/curr_branch_before_spines.pbz2\n",
      "File size is 0.18096 MB\n",
      "segment_name before cgal = L0_502\n"
     ]
    },
    {
     "data": {
      "application/vnd.jupyter.widget-view+json": {
       "model_id": "a5584f1847824f72b6971f09d0337360",
       "version_major": 2,
       "version_minor": 0
      },
      "text/plain": [
       "HBox(children=(FloatProgress(value=0.0, max=14.0), HTML(value='')))"
      ]
     },
     "metadata": {},
     "output_type": "display_data"
    },
    {
     "name": "stdout",
     "output_type": "stream",
     "text": [
      "\n",
      "Saved object at /notebooks/Auto_Proofreading/Decomposition_Optimization/Debug_3_Seg_Fault/curr_branch_before_spines.pbz2\n",
      "File size is 0.133628 MB\n",
      "segment_name before cgal = L0_503\n"
     ]
    },
    {
     "data": {
      "application/vnd.jupyter.widget-view+json": {
       "model_id": "43995a49c999461880f0089df6613dd3",
       "version_major": 2,
       "version_minor": 0
      },
      "text/plain": [
       "HBox(children=(FloatProgress(value=0.0, max=19.0), HTML(value='')))"
      ]
     },
     "metadata": {},
     "output_type": "display_data"
    },
    {
     "name": "stdout",
     "output_type": "stream",
     "text": [
      "\n",
      "Saved object at /notebooks/Auto_Proofreading/Decomposition_Optimization/Debug_3_Seg_Fault/curr_branch_before_spines.pbz2\n",
      "File size is 0.167822 MB\n",
      "segment_name before cgal = L0_508\n"
     ]
    },
    {
     "data": {
      "application/vnd.jupyter.widget-view+json": {
       "model_id": "74a85e39efb84524a6b4327a522836b0",
       "version_major": 2,
       "version_minor": 0
      },
      "text/plain": [
       "HBox(children=(FloatProgress(value=0.0, max=15.0), HTML(value='')))"
      ]
     },
     "metadata": {},
     "output_type": "display_data"
    },
    {
     "name": "stdout",
     "output_type": "stream",
     "text": [
      "\n",
      "Saved object at /notebooks/Auto_Proofreading/Decomposition_Optimization/Debug_3_Seg_Fault/curr_branch_before_spines.pbz2\n",
      "File size is 0.173267 MB\n",
      "segment_name before cgal = L0_512\n"
     ]
    },
    {
     "data": {
      "application/vnd.jupyter.widget-view+json": {
       "model_id": "2421138ebbcc456eb495fae451c003c4",
       "version_major": 2,
       "version_minor": 0
      },
      "text/plain": [
       "HBox(children=(FloatProgress(value=0.0, max=15.0), HTML(value='')))"
      ]
     },
     "metadata": {},
     "output_type": "display_data"
    },
    {
     "name": "stdout",
     "output_type": "stream",
     "text": [
      "\n",
      "Saved object at /notebooks/Auto_Proofreading/Decomposition_Optimization/Debug_3_Seg_Fault/curr_branch_before_spines.pbz2\n",
      "File size is 0.110945 MB\n",
      "segment_name before cgal = L0_518\n"
     ]
    },
    {
     "data": {
      "application/vnd.jupyter.widget-view+json": {
       "model_id": "d31df2823b294e7fb8ff0db4df710bcc",
       "version_major": 2,
       "version_minor": 0
      },
      "text/plain": [
       "HBox(children=(FloatProgress(value=0.0, max=9.0), HTML(value='')))"
      ]
     },
     "metadata": {},
     "output_type": "display_data"
    },
    {
     "name": "stdout",
     "output_type": "stream",
     "text": [
      "\n",
      "Saved object at /notebooks/Auto_Proofreading/Decomposition_Optimization/Debug_3_Seg_Fault/curr_branch_before_spines.pbz2\n",
      "File size is 1.284502 MB\n",
      "segment_name before cgal = L0_524\n"
     ]
    },
    {
     "data": {
      "application/vnd.jupyter.widget-view+json": {
       "model_id": "41d87e3d8a2e4ab4b901103bf8e03bc3",
       "version_major": 2,
       "version_minor": 0
      },
      "text/plain": [
       "HBox(children=(FloatProgress(value=0.0, max=66.0), HTML(value='')))"
      ]
     },
     "metadata": {},
     "output_type": "display_data"
    },
    {
     "name": "stdout",
     "output_type": "stream",
     "text": [
      "\n",
      "Saved object at /notebooks/Auto_Proofreading/Decomposition_Optimization/Debug_3_Seg_Fault/curr_branch_before_spines.pbz2\n",
      "File size is 0.107351 MB\n",
      "segment_name before cgal = L0_526\n"
     ]
    },
    {
     "data": {
      "application/vnd.jupyter.widget-view+json": {
       "model_id": "ddae9842b0024e01ad96690ef6077de6",
       "version_major": 2,
       "version_minor": 0
      },
      "text/plain": [
       "HBox(children=(FloatProgress(value=0.0, max=7.0), HTML(value='')))"
      ]
     },
     "metadata": {},
     "output_type": "display_data"
    },
    {
     "name": "stdout",
     "output_type": "stream",
     "text": [
      "\n",
      "Saved object at /notebooks/Auto_Proofreading/Decomposition_Optimization/Debug_3_Seg_Fault/curr_branch_before_spines.pbz2\n",
      "File size is 0.170239 MB\n",
      "segment_name before cgal = L0_527\n"
     ]
    },
    {
     "data": {
      "application/vnd.jupyter.widget-view+json": {
       "model_id": "f58ef79c7b8b4f8d807d73ee5cf0772e",
       "version_major": 2,
       "version_minor": 0
      },
      "text/plain": [
       "HBox(children=(FloatProgress(value=0.0, max=13.0), HTML(value='')))"
      ]
     },
     "metadata": {},
     "output_type": "display_data"
    },
    {
     "name": "stdout",
     "output_type": "stream",
     "text": [
      "\n",
      "Saved object at /notebooks/Auto_Proofreading/Decomposition_Optimization/Debug_3_Seg_Fault/curr_branch_before_spines.pbz2\n",
      "File size is 0.404938 MB\n",
      "segment_name before cgal = L0_530\n"
     ]
    },
    {
     "data": {
      "application/vnd.jupyter.widget-view+json": {
       "model_id": "1c0da8899dea46f19cfedc03d7f1fbea",
       "version_major": 2,
       "version_minor": 0
      },
      "text/plain": [
       "HBox(children=(FloatProgress(value=0.0, max=18.0), HTML(value='')))"
      ]
     },
     "metadata": {},
     "output_type": "display_data"
    },
    {
     "name": "stdout",
     "output_type": "stream",
     "text": [
      "\n",
      "Saved object at /notebooks/Auto_Proofreading/Decomposition_Optimization/Debug_3_Seg_Fault/curr_branch_before_spines.pbz2\n",
      "File size is 0.173903 MB\n",
      "segment_name before cgal = L0_531\n"
     ]
    },
    {
     "data": {
      "application/vnd.jupyter.widget-view+json": {
       "model_id": "271fc9c6a8b44bd4b3143b2d1f18a215",
       "version_major": 2,
       "version_minor": 0
      },
      "text/plain": [
       "HBox(children=(FloatProgress(value=0.0, max=14.0), HTML(value='')))"
      ]
     },
     "metadata": {},
     "output_type": "display_data"
    },
    {
     "name": "stdout",
     "output_type": "stream",
     "text": [
      "\n",
      "Saved object at /notebooks/Auto_Proofreading/Decomposition_Optimization/Debug_3_Seg_Fault/curr_branch_before_spines.pbz2\n",
      "File size is 0.073096 MB\n",
      "segment_name before cgal = L0_532\n"
     ]
    },
    {
     "data": {
      "application/vnd.jupyter.widget-view+json": {
       "model_id": "722567bc3015400d961c4f777c9bf754",
       "version_major": 2,
       "version_minor": 0
      },
      "text/plain": [
       "HBox(children=(FloatProgress(value=0.0, max=10.0), HTML(value='')))"
      ]
     },
     "metadata": {},
     "output_type": "display_data"
    },
    {
     "name": "stdout",
     "output_type": "stream",
     "text": [
      "\n",
      "Saved object at /notebooks/Auto_Proofreading/Decomposition_Optimization/Debug_3_Seg_Fault/curr_branch_before_spines.pbz2\n",
      "File size is 0.067601 MB\n",
      "segment_name before cgal = L0_535\n"
     ]
    },
    {
     "data": {
      "application/vnd.jupyter.widget-view+json": {
       "model_id": "28f64066539140189d1d3233d01b9815",
       "version_major": 2,
       "version_minor": 0
      },
      "text/plain": [
       "HBox(children=(FloatProgress(value=0.0, max=6.0), HTML(value='')))"
      ]
     },
     "metadata": {},
     "output_type": "display_data"
    },
    {
     "name": "stdout",
     "output_type": "stream",
     "text": [
      "\n",
      "Saved object at /notebooks/Auto_Proofreading/Decomposition_Optimization/Debug_3_Seg_Fault/curr_branch_before_spines.pbz2\n",
      "File size is 0.047655 MB\n",
      "segment_name before cgal = L0_541\n"
     ]
    },
    {
     "data": {
      "application/vnd.jupyter.widget-view+json": {
       "model_id": "7b5a287808194c9da0da3029c7f443a6",
       "version_major": 2,
       "version_minor": 0
      },
      "text/plain": [
       "HBox(children=(FloatProgress(value=0.0, max=7.0), HTML(value='')))"
      ]
     },
     "metadata": {},
     "output_type": "display_data"
    },
    {
     "name": "stdout",
     "output_type": "stream",
     "text": [
      "\n",
      "Saved object at /notebooks/Auto_Proofreading/Decomposition_Optimization/Debug_3_Seg_Fault/curr_branch_before_spines.pbz2\n",
      "File size is 0.346419 MB\n",
      "segment_name before cgal = L0_542\n"
     ]
    },
    {
     "data": {
      "application/vnd.jupyter.widget-view+json": {
       "model_id": "38c2735b40b140edaa10101862728dcf",
       "version_major": 2,
       "version_minor": 0
      },
      "text/plain": [
       "HBox(children=(FloatProgress(value=0.0, max=11.0), HTML(value='')))"
      ]
     },
     "metadata": {},
     "output_type": "display_data"
    },
    {
     "name": "stdout",
     "output_type": "stream",
     "text": [
      "\n",
      "Saved object at /notebooks/Auto_Proofreading/Decomposition_Optimization/Debug_3_Seg_Fault/curr_branch_before_spines.pbz2\n",
      "File size is 0.015733 MB\n",
      "segment_name before cgal = L0_543\n"
     ]
    },
    {
     "data": {
      "application/vnd.jupyter.widget-view+json": {
       "model_id": "1c8aee87b2b34a5ea6d517130b899c70",
       "version_major": 2,
       "version_minor": 0
      },
      "text/plain": [
       "HBox(children=(FloatProgress(value=0.0, max=7.0), HTML(value='')))"
      ]
     },
     "metadata": {},
     "output_type": "display_data"
    },
    {
     "name": "stdout",
     "output_type": "stream",
     "text": [
      "\n",
      "Saved object at /notebooks/Auto_Proofreading/Decomposition_Optimization/Debug_3_Seg_Fault/curr_branch_before_spines.pbz2\n",
      "File size is 0.050917 MB\n",
      "segment_name before cgal = L0_544\n"
     ]
    },
    {
     "data": {
      "application/vnd.jupyter.widget-view+json": {
       "model_id": "801ce6c0952f4873b7a13f374c162b48",
       "version_major": 2,
       "version_minor": 0
      },
      "text/plain": [
       "HBox(children=(FloatProgress(value=0.0, max=3.0), HTML(value='')))"
      ]
     },
     "metadata": {},
     "output_type": "display_data"
    },
    {
     "name": "stdout",
     "output_type": "stream",
     "text": [
      "\n",
      "Saved object at /notebooks/Auto_Proofreading/Decomposition_Optimization/Debug_3_Seg_Fault/curr_branch_before_spines.pbz2\n",
      "File size is 0.239823 MB\n",
      "segment_name before cgal = L0_547\n"
     ]
    },
    {
     "data": {
      "application/vnd.jupyter.widget-view+json": {
       "model_id": "eabbeb29fd7d46bc96fbc913a36a4690",
       "version_major": 2,
       "version_minor": 0
      },
      "text/plain": [
       "HBox(children=(FloatProgress(value=0.0, max=11.0), HTML(value='')))"
      ]
     },
     "metadata": {},
     "output_type": "display_data"
    },
    {
     "name": "stdout",
     "output_type": "stream",
     "text": [
      "\n",
      "Saved object at /notebooks/Auto_Proofreading/Decomposition_Optimization/Debug_3_Seg_Fault/curr_branch_before_spines.pbz2\n",
      "File size is 0.594288 MB\n",
      "segment_name before cgal = L0_551\n"
     ]
    },
    {
     "data": {
      "application/vnd.jupyter.widget-view+json": {
       "model_id": "a9e4c872b508429ba1ea4cb23195e9fe",
       "version_major": 2,
       "version_minor": 0
      },
      "text/plain": [
       "HBox(children=(FloatProgress(value=0.0, max=32.0), HTML(value='')))"
      ]
     },
     "metadata": {},
     "output_type": "display_data"
    },
    {
     "name": "stdout",
     "output_type": "stream",
     "text": [
      "\n",
      "Saved object at /notebooks/Auto_Proofreading/Decomposition_Optimization/Debug_3_Seg_Fault/curr_branch_before_spines.pbz2\n",
      "File size is 0.261914 MB\n",
      "segment_name before cgal = L0_552\n"
     ]
    },
    {
     "data": {
      "application/vnd.jupyter.widget-view+json": {
       "model_id": "bd5cba499ebb408f8ae75408e08d5d60",
       "version_major": 2,
       "version_minor": 0
      },
      "text/plain": [
       "HBox(children=(FloatProgress(value=0.0, max=20.0), HTML(value='')))"
      ]
     },
     "metadata": {},
     "output_type": "display_data"
    },
    {
     "name": "stdout",
     "output_type": "stream",
     "text": [
      "\n",
      "Saved object at /notebooks/Auto_Proofreading/Decomposition_Optimization/Debug_3_Seg_Fault/curr_branch_before_spines.pbz2\n",
      "File size is 0.151575 MB\n",
      "segment_name before cgal = L0_553\n"
     ]
    },
    {
     "data": {
      "application/vnd.jupyter.widget-view+json": {
       "model_id": "73e4d386f12a43db82761863ee219ead",
       "version_major": 2,
       "version_minor": 0
      },
      "text/plain": [
       "HBox(children=(FloatProgress(value=0.0, max=17.0), HTML(value='')))"
      ]
     },
     "metadata": {},
     "output_type": "display_data"
    },
    {
     "name": "stdout",
     "output_type": "stream",
     "text": [
      "\n",
      "Saved object at /notebooks/Auto_Proofreading/Decomposition_Optimization/Debug_3_Seg_Fault/curr_branch_before_spines.pbz2\n",
      "File size is 0.600575 MB\n",
      "segment_name before cgal = L0_556\n"
     ]
    },
    {
     "data": {
      "application/vnd.jupyter.widget-view+json": {
       "model_id": "51448b17ce9e4e26aa04b2df885c1665",
       "version_major": 2,
       "version_minor": 0
      },
      "text/plain": [
       "HBox(children=(FloatProgress(value=0.0, max=50.0), HTML(value='')))"
      ]
     },
     "metadata": {},
     "output_type": "display_data"
    },
    {
     "name": "stdout",
     "output_type": "stream",
     "text": [
      "\n",
      "Saved object at /notebooks/Auto_Proofreading/Decomposition_Optimization/Debug_3_Seg_Fault/curr_branch_before_spines.pbz2\n",
      "File size is 0.124211 MB\n",
      "segment_name before cgal = L0_557\n"
     ]
    },
    {
     "data": {
      "application/vnd.jupyter.widget-view+json": {
       "model_id": "12fd58cd8fda47e2adf478b6ed8bbddf",
       "version_major": 2,
       "version_minor": 0
      },
      "text/plain": [
       "HBox(children=(FloatProgress(value=0.0, max=18.0), HTML(value='')))"
      ]
     },
     "metadata": {},
     "output_type": "display_data"
    },
    {
     "name": "stdout",
     "output_type": "stream",
     "text": [
      "\n",
      "Saved object at /notebooks/Auto_Proofreading/Decomposition_Optimization/Debug_3_Seg_Fault/curr_branch_before_spines.pbz2\n",
      "File size is 0.01811 MB\n",
      "segment_name before cgal = L0_558\n"
     ]
    },
    {
     "data": {
      "application/vnd.jupyter.widget-view+json": {
       "model_id": "91f91f951956438db4589027d928b76d",
       "version_major": 2,
       "version_minor": 0
      },
      "text/plain": [
       "HBox(children=(FloatProgress(value=0.0, max=5.0), HTML(value='')))"
      ]
     },
     "metadata": {},
     "output_type": "display_data"
    },
    {
     "name": "stdout",
     "output_type": "stream",
     "text": [
      "\n",
      "Saved object at /notebooks/Auto_Proofreading/Decomposition_Optimization/Debug_3_Seg_Fault/curr_branch_before_spines.pbz2\n",
      "File size is 0.415227 MB\n",
      "segment_name before cgal = L0_570\n"
     ]
    },
    {
     "data": {
      "application/vnd.jupyter.widget-view+json": {
       "model_id": "d5492554f36e493ba1c597dfc0a317ad",
       "version_major": 2,
       "version_minor": 0
      },
      "text/plain": [
       "HBox(children=(FloatProgress(value=0.0, max=19.0), HTML(value='')))"
      ]
     },
     "metadata": {},
     "output_type": "display_data"
    },
    {
     "name": "stdout",
     "output_type": "stream",
     "text": [
      "\n",
      "Saved object at /notebooks/Auto_Proofreading/Decomposition_Optimization/Debug_3_Seg_Fault/curr_branch_before_spines.pbz2\n",
      "File size is 0.048238 MB\n",
      "segment_name before cgal = L0_574\n"
     ]
    },
    {
     "data": {
      "application/vnd.jupyter.widget-view+json": {
       "model_id": "f822805817a04c2b92328a21da4ce22d",
       "version_major": 2,
       "version_minor": 0
      },
      "text/plain": [
       "HBox(children=(FloatProgress(value=0.0, max=4.0), HTML(value='')))"
      ]
     },
     "metadata": {},
     "output_type": "display_data"
    },
    {
     "name": "stdout",
     "output_type": "stream",
     "text": [
      "\n",
      "Saved object at /notebooks/Auto_Proofreading/Decomposition_Optimization/Debug_3_Seg_Fault/curr_branch_before_spines.pbz2\n",
      "File size is 0.086 MB\n",
      "segment_name before cgal = L0_576\n"
     ]
    },
    {
     "data": {
      "application/vnd.jupyter.widget-view+json": {
       "model_id": "bec10fd61bfb40feb5887958845274a3",
       "version_major": 2,
       "version_minor": 0
      },
      "text/plain": [
       "HBox(children=(FloatProgress(value=0.0, max=15.0), HTML(value='')))"
      ]
     },
     "metadata": {},
     "output_type": "display_data"
    },
    {
     "name": "stdout",
     "output_type": "stream",
     "text": [
      "\n",
      "Saved object at /notebooks/Auto_Proofreading/Decomposition_Optimization/Debug_3_Seg_Fault/curr_branch_before_spines.pbz2\n",
      "File size is 0.254981 MB\n",
      "segment_name before cgal = L0_581\n"
     ]
    },
    {
     "data": {
      "application/vnd.jupyter.widget-view+json": {
       "model_id": "6654844026e9427a83a509cb3854d9d0",
       "version_major": 2,
       "version_minor": 0
      },
      "text/plain": [
       "HBox(children=(FloatProgress(value=0.0, max=23.0), HTML(value='')))"
      ]
     },
     "metadata": {},
     "output_type": "display_data"
    },
    {
     "name": "stdout",
     "output_type": "stream",
     "text": [
      "\n",
      "Saved object at /notebooks/Auto_Proofreading/Decomposition_Optimization/Debug_3_Seg_Fault/curr_branch_before_spines.pbz2\n",
      "File size is 1.708472 MB\n",
      "segment_name before cgal = L0_582\n"
     ]
    },
    {
     "data": {
      "application/vnd.jupyter.widget-view+json": {
       "model_id": "593261aa446a4205a637be14549a7bfe",
       "version_major": 2,
       "version_minor": 0
      },
      "text/plain": [
       "HBox(children=(FloatProgress(value=0.0, max=79.0), HTML(value='')))"
      ]
     },
     "metadata": {},
     "output_type": "display_data"
    },
    {
     "name": "stdout",
     "output_type": "stream",
     "text": [
      "\n",
      "Saved object at /notebooks/Auto_Proofreading/Decomposition_Optimization/Debug_3_Seg_Fault/curr_branch_before_spines.pbz2\n",
      "File size is 0.385604 MB\n",
      "segment_name before cgal = L0_585\n"
     ]
    },
    {
     "data": {
      "application/vnd.jupyter.widget-view+json": {
       "model_id": "17191399ff9147a695b658560a5299cd",
       "version_major": 2,
       "version_minor": 0
      },
      "text/plain": [
       "HBox(children=(FloatProgress(value=0.0, max=26.0), HTML(value='')))"
      ]
     },
     "metadata": {},
     "output_type": "display_data"
    },
    {
     "name": "stdout",
     "output_type": "stream",
     "text": [
      "\n",
      "Saved object at /notebooks/Auto_Proofreading/Decomposition_Optimization/Debug_3_Seg_Fault/curr_branch_before_spines.pbz2\n",
      "File size is 1.512038 MB\n",
      "segment_name before cgal = L0_586\n"
     ]
    },
    {
     "data": {
      "application/vnd.jupyter.widget-view+json": {
       "model_id": "273dde18bcff494d9ca5afde6b46408c",
       "version_major": 2,
       "version_minor": 0
      },
      "text/plain": [
       "HBox(children=(FloatProgress(value=0.0, max=111.0), HTML(value='')))"
      ]
     },
     "metadata": {},
     "output_type": "display_data"
    },
    {
     "name": "stdout",
     "output_type": "stream",
     "text": [
      "\n",
      "Saved object at /notebooks/Auto_Proofreading/Decomposition_Optimization/Debug_3_Seg_Fault/curr_branch_before_spines.pbz2\n",
      "File size is 0.831897 MB\n",
      "segment_name before cgal = L0_587\n"
     ]
    },
    {
     "data": {
      "application/vnd.jupyter.widget-view+json": {
       "model_id": "f0c4142455a24d4c9c3b8029ad0932ee",
       "version_major": 2,
       "version_minor": 0
      },
      "text/plain": [
       "HBox(children=(FloatProgress(value=0.0, max=64.0), HTML(value='')))"
      ]
     },
     "metadata": {},
     "output_type": "display_data"
    },
    {
     "name": "stdout",
     "output_type": "stream",
     "text": [
      "\n",
      "Saved object at /notebooks/Auto_Proofreading/Decomposition_Optimization/Debug_3_Seg_Fault/curr_branch_before_spines.pbz2\n",
      "File size is 0.130739 MB\n",
      "segment_name before cgal = L0_588\n"
     ]
    },
    {
     "data": {
      "application/vnd.jupyter.widget-view+json": {
       "model_id": "549060681ff745b2870dd9924b90872a",
       "version_major": 2,
       "version_minor": 0
      },
      "text/plain": [
       "HBox(children=(FloatProgress(value=0.0, max=12.0), HTML(value='')))"
      ]
     },
     "metadata": {},
     "output_type": "display_data"
    },
    {
     "name": "stdout",
     "output_type": "stream",
     "text": [
      "\n",
      "Saved object at /notebooks/Auto_Proofreading/Decomposition_Optimization/Debug_3_Seg_Fault/curr_branch_before_spines.pbz2\n",
      "File size is 0.182401 MB\n",
      "segment_name before cgal = L0_596\n"
     ]
    },
    {
     "data": {
      "application/vnd.jupyter.widget-view+json": {
       "model_id": "cb2964156e3f49a8a3d7d9c0e6ed341b",
       "version_major": 2,
       "version_minor": 0
      },
      "text/plain": [
       "HBox(children=(FloatProgress(value=0.0, max=12.0), HTML(value='')))"
      ]
     },
     "metadata": {},
     "output_type": "display_data"
    },
    {
     "name": "stdout",
     "output_type": "stream",
     "text": [
      "\n",
      "Saved object at /notebooks/Auto_Proofreading/Decomposition_Optimization/Debug_3_Seg_Fault/curr_branch_before_spines.pbz2\n",
      "File size is 0.035106 MB\n",
      "segment_name before cgal = L0_601\n"
     ]
    },
    {
     "data": {
      "application/vnd.jupyter.widget-view+json": {
       "model_id": "8cacedf46b984d3ebc98142a5260cd3b",
       "version_major": 2,
       "version_minor": 0
      },
      "text/plain": [
       "HBox(children=(FloatProgress(value=0.0, max=12.0), HTML(value='')))"
      ]
     },
     "metadata": {},
     "output_type": "display_data"
    },
    {
     "name": "stdout",
     "output_type": "stream",
     "text": [
      "\n",
      "Saved object at /notebooks/Auto_Proofreading/Decomposition_Optimization/Debug_3_Seg_Fault/curr_branch_before_spines.pbz2\n",
      "File size is 0.257332 MB\n",
      "segment_name before cgal = L0_604\n"
     ]
    },
    {
     "data": {
      "application/vnd.jupyter.widget-view+json": {
       "model_id": "da730b8ac9654e0fa44963dfdb89e8ee",
       "version_major": 2,
       "version_minor": 0
      },
      "text/plain": [
       "HBox(children=(FloatProgress(value=0.0, max=19.0), HTML(value='')))"
      ]
     },
     "metadata": {},
     "output_type": "display_data"
    },
    {
     "name": "stdout",
     "output_type": "stream",
     "text": [
      "\n",
      "Saved object at /notebooks/Auto_Proofreading/Decomposition_Optimization/Debug_3_Seg_Fault/curr_branch_before_spines.pbz2\n",
      "File size is 0.185518 MB\n",
      "segment_name before cgal = L0_609\n"
     ]
    },
    {
     "data": {
      "application/vnd.jupyter.widget-view+json": {
       "model_id": "07fd02b77d484aee9ce5f7a99b69978d",
       "version_major": 2,
       "version_minor": 0
      },
      "text/plain": [
       "HBox(children=(FloatProgress(value=0.0, max=16.0), HTML(value='')))"
      ]
     },
     "metadata": {},
     "output_type": "display_data"
    },
    {
     "name": "stdout",
     "output_type": "stream",
     "text": [
      "\n",
      "Saved object at /notebooks/Auto_Proofreading/Decomposition_Optimization/Debug_3_Seg_Fault/curr_branch_before_spines.pbz2\n",
      "File size is 0.029988 MB\n",
      "segment_name before cgal = L0_613\n"
     ]
    },
    {
     "data": {
      "application/vnd.jupyter.widget-view+json": {
       "model_id": "93b86a9ffca34aa1bb5d1cab6518e229",
       "version_major": 2,
       "version_minor": 0
      },
      "text/plain": [
       "HBox(children=(FloatProgress(value=0.0, max=5.0), HTML(value='')))"
      ]
     },
     "metadata": {},
     "output_type": "display_data"
    },
    {
     "name": "stdout",
     "output_type": "stream",
     "text": [
      "\n",
      "Saved object at /notebooks/Auto_Proofreading/Decomposition_Optimization/Debug_3_Seg_Fault/curr_branch_before_spines.pbz2\n",
      "File size is 0.199588 MB\n",
      "segment_name before cgal = L0_614\n"
     ]
    },
    {
     "data": {
      "application/vnd.jupyter.widget-view+json": {
       "model_id": "a3f84310596740b18b2adb5613c0b3e6",
       "version_major": 2,
       "version_minor": 0
      },
      "text/plain": [
       "HBox(children=(FloatProgress(value=0.0, max=8.0), HTML(value='')))"
      ]
     },
     "metadata": {},
     "output_type": "display_data"
    },
    {
     "name": "stdout",
     "output_type": "stream",
     "text": [
      "\n",
      "Saved object at /notebooks/Auto_Proofreading/Decomposition_Optimization/Debug_3_Seg_Fault/curr_branch_before_spines.pbz2\n",
      "File size is 0.363567 MB\n",
      "segment_name before cgal = L0_615\n"
     ]
    },
    {
     "data": {
      "application/vnd.jupyter.widget-view+json": {
       "model_id": "c454b2c05a164e01bf040de499b3ac71",
       "version_major": 2,
       "version_minor": 0
      },
      "text/plain": [
       "HBox(children=(FloatProgress(value=0.0, max=21.0), HTML(value='')))"
      ]
     },
     "metadata": {},
     "output_type": "display_data"
    },
    {
     "name": "stdout",
     "output_type": "stream",
     "text": [
      "\n",
      "Saved object at /notebooks/Auto_Proofreading/Decomposition_Optimization/Debug_3_Seg_Fault/curr_branch_before_spines.pbz2\n",
      "File size is 0.359082 MB\n",
      "segment_name before cgal = L0_616\n"
     ]
    },
    {
     "data": {
      "application/vnd.jupyter.widget-view+json": {
       "model_id": "634f16c1f0254294855cc4d855eb98af",
       "version_major": 2,
       "version_minor": 0
      },
      "text/plain": [
       "HBox(children=(FloatProgress(value=0.0, max=21.0), HTML(value='')))"
      ]
     },
     "metadata": {},
     "output_type": "display_data"
    },
    {
     "name": "stdout",
     "output_type": "stream",
     "text": [
      "\n",
      "Saved object at /notebooks/Auto_Proofreading/Decomposition_Optimization/Debug_3_Seg_Fault/curr_branch_before_spines.pbz2\n",
      "File size is 0.269228 MB\n",
      "segment_name before cgal = L0_617\n"
     ]
    },
    {
     "data": {
      "application/vnd.jupyter.widget-view+json": {
       "model_id": "cdc4620f05de4bf0ab5f3b1a672fcc50",
       "version_major": 2,
       "version_minor": 0
      },
      "text/plain": [
       "HBox(children=(FloatProgress(value=0.0, max=9.0), HTML(value='')))"
      ]
     },
     "metadata": {},
     "output_type": "display_data"
    },
    {
     "name": "stdout",
     "output_type": "stream",
     "text": [
      "\n",
      "Saved object at /notebooks/Auto_Proofreading/Decomposition_Optimization/Debug_3_Seg_Fault/curr_branch_before_spines.pbz2\n",
      "File size is 0.02236 MB\n",
      "segment_name before cgal = L0_618\n"
     ]
    },
    {
     "data": {
      "application/vnd.jupyter.widget-view+json": {
       "model_id": "187432fc20d14c3c9d12213d3f2f1931",
       "version_major": 2,
       "version_minor": 0
      },
      "text/plain": [
       "HBox(children=(FloatProgress(value=0.0, max=3.0), HTML(value='')))"
      ]
     },
     "metadata": {},
     "output_type": "display_data"
    },
    {
     "name": "stdout",
     "output_type": "stream",
     "text": [
      "\n",
      "Saved object at /notebooks/Auto_Proofreading/Decomposition_Optimization/Debug_3_Seg_Fault/curr_branch_before_spines.pbz2\n",
      "File size is 0.448199 MB\n",
      "segment_name before cgal = L0_622\n"
     ]
    },
    {
     "data": {
      "application/vnd.jupyter.widget-view+json": {
       "model_id": "2d216020c98c42b8a40beafdf2dc835c",
       "version_major": 2,
       "version_minor": 0
      },
      "text/plain": [
       "HBox(children=(FloatProgress(value=0.0, max=31.0), HTML(value='')))"
      ]
     },
     "metadata": {},
     "output_type": "display_data"
    },
    {
     "name": "stdout",
     "output_type": "stream",
     "text": [
      "\n",
      "Saved object at /notebooks/Auto_Proofreading/Decomposition_Optimization/Debug_3_Seg_Fault/curr_branch_before_spines.pbz2\n",
      "File size is 0.858206 MB\n",
      "segment_name before cgal = L0_623\n"
     ]
    },
    {
     "data": {
      "application/vnd.jupyter.widget-view+json": {
       "model_id": "9855adad6c1143f5a96b7ec114290518",
       "version_major": 2,
       "version_minor": 0
      },
      "text/plain": [
       "HBox(children=(FloatProgress(value=0.0, max=65.0), HTML(value='')))"
      ]
     },
     "metadata": {},
     "output_type": "display_data"
    },
    {
     "name": "stdout",
     "output_type": "stream",
     "text": [
      "\n",
      "Saved object at /notebooks/Auto_Proofreading/Decomposition_Optimization/Debug_3_Seg_Fault/curr_branch_before_spines.pbz2\n",
      "File size is 0.171941 MB\n",
      "segment_name before cgal = L0_626\n"
     ]
    },
    {
     "data": {
      "application/vnd.jupyter.widget-view+json": {
       "model_id": "8c81714c75dc4d109e1ae7d511158d93",
       "version_major": 2,
       "version_minor": 0
      },
      "text/plain": [
       "HBox(children=(FloatProgress(value=0.0, max=16.0), HTML(value='')))"
      ]
     },
     "metadata": {},
     "output_type": "display_data"
    },
    {
     "name": "stdout",
     "output_type": "stream",
     "text": [
      "\n",
      "Saved object at /notebooks/Auto_Proofreading/Decomposition_Optimization/Debug_3_Seg_Fault/curr_branch_before_spines.pbz2\n",
      "File size is 0.332111 MB\n",
      "segment_name before cgal = L0_628\n"
     ]
    },
    {
     "data": {
      "application/vnd.jupyter.widget-view+json": {
       "model_id": "c73ee400c7db40bdbe1c5c5969885d1e",
       "version_major": 2,
       "version_minor": 0
      },
      "text/plain": [
       "HBox(children=(FloatProgress(value=0.0, max=29.0), HTML(value='')))"
      ]
     },
     "metadata": {},
     "output_type": "display_data"
    },
    {
     "name": "stdout",
     "output_type": "stream",
     "text": [
      "\n",
      "Saved object at /notebooks/Auto_Proofreading/Decomposition_Optimization/Debug_3_Seg_Fault/curr_branch_before_spines.pbz2\n",
      "File size is 0.039305 MB\n",
      "segment_name before cgal = L0_629\n"
     ]
    },
    {
     "data": {
      "application/vnd.jupyter.widget-view+json": {
       "model_id": "b0984cc304034c17a5477ab036256462",
       "version_major": 2,
       "version_minor": 0
      },
      "text/plain": [
       "HBox(children=(FloatProgress(value=0.0, max=6.0), HTML(value='')))"
      ]
     },
     "metadata": {},
     "output_type": "display_data"
    },
    {
     "name": "stdout",
     "output_type": "stream",
     "text": [
      "\n",
      "Saved object at /notebooks/Auto_Proofreading/Decomposition_Optimization/Debug_3_Seg_Fault/curr_branch_before_spines.pbz2\n",
      "File size is 0.244871 MB\n",
      "segment_name before cgal = L0_632\n"
     ]
    },
    {
     "data": {
      "application/vnd.jupyter.widget-view+json": {
       "model_id": "1596f27ce1764a24890fd22f2bfcf42d",
       "version_major": 2,
       "version_minor": 0
      },
      "text/plain": [
       "HBox(children=(FloatProgress(value=0.0, max=19.0), HTML(value='')))"
      ]
     },
     "metadata": {},
     "output_type": "display_data"
    },
    {
     "name": "stdout",
     "output_type": "stream",
     "text": [
      "\n",
      "Saved object at /notebooks/Auto_Proofreading/Decomposition_Optimization/Debug_3_Seg_Fault/curr_branch_before_spines.pbz2\n",
      "File size is 0.037726 MB\n",
      "segment_name before cgal = L0_635\n"
     ]
    },
    {
     "data": {
      "application/vnd.jupyter.widget-view+json": {
       "model_id": "92783865ca284d1bb58eb44a636af1e3",
       "version_major": 2,
       "version_minor": 0
      },
      "text/plain": [
       "HBox(children=(FloatProgress(value=0.0, max=4.0), HTML(value='')))"
      ]
     },
     "metadata": {},
     "output_type": "display_data"
    },
    {
     "name": "stdout",
     "output_type": "stream",
     "text": [
      "\n",
      "Saved object at /notebooks/Auto_Proofreading/Decomposition_Optimization/Debug_3_Seg_Fault/curr_branch_before_spines.pbz2\n",
      "File size is 0.256936 MB\n",
      "segment_name before cgal = L0_636\n"
     ]
    },
    {
     "data": {
      "application/vnd.jupyter.widget-view+json": {
       "model_id": "9966dffae26f4c4aaa9c6b196dfa5a94",
       "version_major": 2,
       "version_minor": 0
      },
      "text/plain": [
       "HBox(children=(FloatProgress(value=0.0, max=13.0), HTML(value='')))"
      ]
     },
     "metadata": {},
     "output_type": "display_data"
    },
    {
     "name": "stdout",
     "output_type": "stream",
     "text": [
      "\n",
      "Saved object at /notebooks/Auto_Proofreading/Decomposition_Optimization/Debug_3_Seg_Fault/curr_branch_before_spines.pbz2\n",
      "File size is 0.545316 MB\n",
      "segment_name before cgal = L0_639\n"
     ]
    },
    {
     "data": {
      "application/vnd.jupyter.widget-view+json": {
       "model_id": "2e28e4ce9dda41ea87c7efbf82b4144f",
       "version_major": 2,
       "version_minor": 0
      },
      "text/plain": [
       "HBox(children=(FloatProgress(value=0.0, max=42.0), HTML(value='')))"
      ]
     },
     "metadata": {},
     "output_type": "display_data"
    },
    {
     "name": "stdout",
     "output_type": "stream",
     "text": [
      "\n",
      "Saved object at /notebooks/Auto_Proofreading/Decomposition_Optimization/Debug_3_Seg_Fault/curr_branch_before_spines.pbz2\n",
      "File size is 0.3133 MB\n",
      "segment_name before cgal = L0_640\n"
     ]
    },
    {
     "data": {
      "application/vnd.jupyter.widget-view+json": {
       "model_id": "ed1c4eb409e346179c5486ab1ea6beec",
       "version_major": 2,
       "version_minor": 0
      },
      "text/plain": [
       "HBox(children=(FloatProgress(value=0.0, max=45.0), HTML(value='')))"
      ]
     },
     "metadata": {},
     "output_type": "display_data"
    },
    {
     "name": "stdout",
     "output_type": "stream",
     "text": [
      "\n",
      "Saved object at /notebooks/Auto_Proofreading/Decomposition_Optimization/Debug_3_Seg_Fault/curr_branch_before_spines.pbz2\n",
      "File size is 0.574778 MB\n",
      "segment_name before cgal = L0_642\n"
     ]
    },
    {
     "data": {
      "application/vnd.jupyter.widget-view+json": {
       "model_id": "630be11a1f2c473ead3668021724a66b",
       "version_major": 2,
       "version_minor": 0
      },
      "text/plain": [
       "HBox(children=(FloatProgress(value=0.0, max=13.0), HTML(value='')))"
      ]
     },
     "metadata": {},
     "output_type": "display_data"
    },
    {
     "name": "stdout",
     "output_type": "stream",
     "text": [
      "\n",
      "Saved object at /notebooks/Auto_Proofreading/Decomposition_Optimization/Debug_3_Seg_Fault/curr_branch_before_spines.pbz2\n",
      "File size is 0.032993 MB\n",
      "segment_name before cgal = L0_646\n"
     ]
    },
    {
     "data": {
      "application/vnd.jupyter.widget-view+json": {
       "model_id": "986bedbfea8a410da1bf9022226e3b7e",
       "version_major": 2,
       "version_minor": 0
      },
      "text/plain": [
       "HBox(children=(FloatProgress(value=0.0, max=4.0), HTML(value='')))"
      ]
     },
     "metadata": {},
     "output_type": "display_data"
    },
    {
     "name": "stdout",
     "output_type": "stream",
     "text": [
      "\n",
      "Saved object at /notebooks/Auto_Proofreading/Decomposition_Optimization/Debug_3_Seg_Fault/curr_branch_before_spines.pbz2\n",
      "File size is 0.285199 MB\n",
      "segment_name before cgal = L0_648\n"
     ]
    },
    {
     "data": {
      "application/vnd.jupyter.widget-view+json": {
       "model_id": "dfba4bfcbb704abf88e90a0e1befe6c9",
       "version_major": 2,
       "version_minor": 0
      },
      "text/plain": [
       "HBox(children=(FloatProgress(value=0.0, max=24.0), HTML(value='')))"
      ]
     },
     "metadata": {},
     "output_type": "display_data"
    },
    {
     "name": "stdout",
     "output_type": "stream",
     "text": [
      "\n",
      "Saved object at /notebooks/Auto_Proofreading/Decomposition_Optimization/Debug_3_Seg_Fault/curr_branch_before_spines.pbz2\n",
      "File size is 0.378329 MB\n",
      "segment_name before cgal = L0_649\n"
     ]
    },
    {
     "data": {
      "application/vnd.jupyter.widget-view+json": {
       "model_id": "a5286caffad64c80abd89e271c4766ba",
       "version_major": 2,
       "version_minor": 0
      },
      "text/plain": [
       "HBox(children=(FloatProgress(value=0.0, max=16.0), HTML(value='')))"
      ]
     },
     "metadata": {},
     "output_type": "display_data"
    },
    {
     "name": "stdout",
     "output_type": "stream",
     "text": [
      "\n",
      "Saved object at /notebooks/Auto_Proofreading/Decomposition_Optimization/Debug_3_Seg_Fault/curr_branch_before_spines.pbz2\n",
      "File size is 0.091423 MB\n",
      "segment_name before cgal = L0_652\n"
     ]
    },
    {
     "data": {
      "application/vnd.jupyter.widget-view+json": {
       "model_id": "5a21a275ee424200be08ba952d787534",
       "version_major": 2,
       "version_minor": 0
      },
      "text/plain": [
       "HBox(children=(FloatProgress(value=0.0, max=7.0), HTML(value='')))"
      ]
     },
     "metadata": {},
     "output_type": "display_data"
    },
    {
     "name": "stdout",
     "output_type": "stream",
     "text": [
      "\n",
      "Saved object at /notebooks/Auto_Proofreading/Decomposition_Optimization/Debug_3_Seg_Fault/curr_branch_before_spines.pbz2\n",
      "File size is 0.269393 MB\n",
      "segment_name before cgal = L0_653\n"
     ]
    },
    {
     "data": {
      "application/vnd.jupyter.widget-view+json": {
       "model_id": "6a702fb8203646128b0232de308f6fb3",
       "version_major": 2,
       "version_minor": 0
      },
      "text/plain": [
       "HBox(children=(FloatProgress(value=0.0, max=14.0), HTML(value='')))"
      ]
     },
     "metadata": {},
     "output_type": "display_data"
    },
    {
     "name": "stdout",
     "output_type": "stream",
     "text": [
      "\n",
      "Saved object at /notebooks/Auto_Proofreading/Decomposition_Optimization/Debug_3_Seg_Fault/curr_branch_before_spines.pbz2\n",
      "File size is 0.174323 MB\n",
      "segment_name before cgal = L0_654\n"
     ]
    },
    {
     "data": {
      "application/vnd.jupyter.widget-view+json": {
       "model_id": "ff5c8fe711cb484a81b73fc097acd729",
       "version_major": 2,
       "version_minor": 0
      },
      "text/plain": [
       "HBox(children=(FloatProgress(value=0.0, max=16.0), HTML(value='')))"
      ]
     },
     "metadata": {},
     "output_type": "display_data"
    },
    {
     "name": "stdout",
     "output_type": "stream",
     "text": [
      "\n",
      "Saved object at /notebooks/Auto_Proofreading/Decomposition_Optimization/Debug_3_Seg_Fault/curr_branch_before_spines.pbz2\n",
      "File size is 0.47694 MB\n",
      "segment_name before cgal = L0_655\n"
     ]
    },
    {
     "data": {
      "application/vnd.jupyter.widget-view+json": {
       "model_id": "17346c9d88c64f52900b20d6a016b5e0",
       "version_major": 2,
       "version_minor": 0
      },
      "text/plain": [
       "HBox(children=(FloatProgress(value=0.0, max=28.0), HTML(value='')))"
      ]
     },
     "metadata": {},
     "output_type": "display_data"
    },
    {
     "name": "stdout",
     "output_type": "stream",
     "text": [
      "\n",
      "Saved object at /notebooks/Auto_Proofreading/Decomposition_Optimization/Debug_3_Seg_Fault/curr_branch_before_spines.pbz2\n",
      "File size is 0.772182 MB\n",
      "segment_name before cgal = L0_658\n"
     ]
    },
    {
     "data": {
      "application/vnd.jupyter.widget-view+json": {
       "model_id": "2fdd2f8ee66e44bb9d544a575668a911",
       "version_major": 2,
       "version_minor": 0
      },
      "text/plain": [
       "HBox(children=(FloatProgress(value=0.0, max=42.0), HTML(value='')))"
      ]
     },
     "metadata": {},
     "output_type": "display_data"
    },
    {
     "name": "stdout",
     "output_type": "stream",
     "text": [
      "\n",
      "Saved object at /notebooks/Auto_Proofreading/Decomposition_Optimization/Debug_3_Seg_Fault/curr_branch_before_spines.pbz2\n",
      "File size is 0.275065 MB\n",
      "segment_name before cgal = L0_659\n"
     ]
    },
    {
     "data": {
      "application/vnd.jupyter.widget-view+json": {
       "model_id": "436f0b664da64c91b949300e02dcd0d8",
       "version_major": 2,
       "version_minor": 0
      },
      "text/plain": [
       "HBox(children=(FloatProgress(value=0.0, max=14.0), HTML(value='')))"
      ]
     },
     "metadata": {},
     "output_type": "display_data"
    },
    {
     "name": "stdout",
     "output_type": "stream",
     "text": [
      "\n",
      "Saved object at /notebooks/Auto_Proofreading/Decomposition_Optimization/Debug_3_Seg_Fault/curr_branch_before_spines.pbz2\n",
      "File size is 0.311104 MB\n",
      "segment_name before cgal = L0_666\n"
     ]
    },
    {
     "data": {
      "application/vnd.jupyter.widget-view+json": {
       "model_id": "d48afb9daee9430197f32a8fb929727a",
       "version_major": 2,
       "version_minor": 0
      },
      "text/plain": [
       "HBox(children=(FloatProgress(value=0.0, max=20.0), HTML(value='')))"
      ]
     },
     "metadata": {},
     "output_type": "display_data"
    },
    {
     "name": "stdout",
     "output_type": "stream",
     "text": [
      "\n",
      "Saved object at /notebooks/Auto_Proofreading/Decomposition_Optimization/Debug_3_Seg_Fault/curr_branch_before_spines.pbz2\n",
      "File size is 0.74847 MB\n",
      "segment_name before cgal = L0_667\n"
     ]
    },
    {
     "data": {
      "application/vnd.jupyter.widget-view+json": {
       "model_id": "46f0fbd71b444f868b2011930104cad5",
       "version_major": 2,
       "version_minor": 0
      },
      "text/plain": [
       "HBox(children=(FloatProgress(value=0.0, max=41.0), HTML(value='')))"
      ]
     },
     "metadata": {},
     "output_type": "display_data"
    },
    {
     "name": "stdout",
     "output_type": "stream",
     "text": [
      "\n",
      "Saved object at /notebooks/Auto_Proofreading/Decomposition_Optimization/Debug_3_Seg_Fault/curr_branch_before_spines.pbz2\n",
      "File size is 1.020637 MB\n",
      "segment_name before cgal = L0_674\n"
     ]
    },
    {
     "data": {
      "application/vnd.jupyter.widget-view+json": {
       "model_id": "ef300bcae0594bcfb500103896e7821c",
       "version_major": 2,
       "version_minor": 0
      },
      "text/plain": [
       "HBox(children=(FloatProgress(value=0.0, max=42.0), HTML(value='')))"
      ]
     },
     "metadata": {},
     "output_type": "display_data"
    },
    {
     "name": "stdout",
     "output_type": "stream",
     "text": [
      "\n",
      "Saved object at /notebooks/Auto_Proofreading/Decomposition_Optimization/Debug_3_Seg_Fault/curr_branch_before_spines.pbz2\n",
      "File size is 0.138634 MB\n",
      "segment_name before cgal = L0_676\n"
     ]
    },
    {
     "data": {
      "application/vnd.jupyter.widget-view+json": {
       "model_id": "b30516af98954106a0d4d1c03e71555e",
       "version_major": 2,
       "version_minor": 0
      },
      "text/plain": [
       "HBox(children=(FloatProgress(value=0.0, max=5.0), HTML(value='')))"
      ]
     },
     "metadata": {},
     "output_type": "display_data"
    },
    {
     "name": "stdout",
     "output_type": "stream",
     "text": [
      "\n",
      "Saved object at /notebooks/Auto_Proofreading/Decomposition_Optimization/Debug_3_Seg_Fault/curr_branch_before_spines.pbz2\n",
      "File size is 0.210698 MB\n",
      "segment_name before cgal = L0_678\n"
     ]
    },
    {
     "data": {
      "application/vnd.jupyter.widget-view+json": {
       "model_id": "d2173171acb741fcb1594fb4e34dedaf",
       "version_major": 2,
       "version_minor": 0
      },
      "text/plain": [
       "HBox(children=(FloatProgress(value=0.0, max=24.0), HTML(value='')))"
      ]
     },
     "metadata": {},
     "output_type": "display_data"
    },
    {
     "name": "stdout",
     "output_type": "stream",
     "text": [
      "\n",
      "Saved object at /notebooks/Auto_Proofreading/Decomposition_Optimization/Debug_3_Seg_Fault/curr_branch_before_spines.pbz2\n",
      "File size is 0.112135 MB\n",
      "segment_name before cgal = L0_680\n"
     ]
    },
    {
     "data": {
      "application/vnd.jupyter.widget-view+json": {
       "model_id": "1c8b9fa2d94c4d68ac4a74e046cf5efa",
       "version_major": 2,
       "version_minor": 0
      },
      "text/plain": [
       "HBox(children=(FloatProgress(value=0.0, max=11.0), HTML(value='')))"
      ]
     },
     "metadata": {},
     "output_type": "display_data"
    },
    {
     "name": "stdout",
     "output_type": "stream",
     "text": [
      "\n",
      "Saved object at /notebooks/Auto_Proofreading/Decomposition_Optimization/Debug_3_Seg_Fault/curr_branch_before_spines.pbz2\n",
      "File size is 0.190334 MB\n",
      "segment_name before cgal = L0_681\n"
     ]
    },
    {
     "data": {
      "application/vnd.jupyter.widget-view+json": {
       "model_id": "79661e84c5d241848ff4588432f15020",
       "version_major": 2,
       "version_minor": 0
      },
      "text/plain": [
       "HBox(children=(FloatProgress(value=0.0, max=13.0), HTML(value='')))"
      ]
     },
     "metadata": {},
     "output_type": "display_data"
    },
    {
     "name": "stdout",
     "output_type": "stream",
     "text": [
      "\n",
      "Saved object at /notebooks/Auto_Proofreading/Decomposition_Optimization/Debug_3_Seg_Fault/curr_branch_before_spines.pbz2\n",
      "File size is 0.159002 MB\n",
      "segment_name before cgal = L0_682\n"
     ]
    },
    {
     "data": {
      "application/vnd.jupyter.widget-view+json": {
       "model_id": "c0fc672c3e2d406b89172dd0e0a3b954",
       "version_major": 2,
       "version_minor": 0
      },
      "text/plain": [
       "HBox(children=(FloatProgress(value=0.0, max=14.0), HTML(value='')))"
      ]
     },
     "metadata": {},
     "output_type": "display_data"
    },
    {
     "name": "stdout",
     "output_type": "stream",
     "text": [
      "\n",
      "Saved object at /notebooks/Auto_Proofreading/Decomposition_Optimization/Debug_3_Seg_Fault/curr_branch_before_spines.pbz2\n",
      "File size is 0.070762 MB\n",
      "segment_name before cgal = L0_686\n"
     ]
    },
    {
     "data": {
      "application/vnd.jupyter.widget-view+json": {
       "model_id": "d33aa125ab944b32a2696af637be5444",
       "version_major": 2,
       "version_minor": 0
      },
      "text/plain": [
       "HBox(children=(FloatProgress(value=0.0, max=1.0), HTML(value='')))"
      ]
     },
     "metadata": {},
     "output_type": "display_data"
    },
    {
     "name": "stdout",
     "output_type": "stream",
     "text": [
      "\n",
      "There was only one mesh found from the spine process and mesh split, returning empty array\n",
      "Saved object at /notebooks/Auto_Proofreading/Decomposition_Optimization/Debug_3_Seg_Fault/curr_branch_before_spines.pbz2\n",
      "File size is 0.280495 MB\n",
      "segment_name before cgal = L0_687\n"
     ]
    },
    {
     "data": {
      "application/vnd.jupyter.widget-view+json": {
       "model_id": "773519c0cf904f709f5aa67a0d9d6bbb",
       "version_major": 2,
       "version_minor": 0
      },
      "text/plain": [
       "HBox(children=(FloatProgress(value=0.0, max=16.0), HTML(value='')))"
      ]
     },
     "metadata": {},
     "output_type": "display_data"
    },
    {
     "name": "stdout",
     "output_type": "stream",
     "text": [
      "\n",
      "Saved object at /notebooks/Auto_Proofreading/Decomposition_Optimization/Debug_3_Seg_Fault/curr_branch_before_spines.pbz2\n",
      "File size is 0.042407 MB\n",
      "segment_name before cgal = L0_690\n"
     ]
    },
    {
     "data": {
      "application/vnd.jupyter.widget-view+json": {
       "model_id": "4b994aa86f1a4a9197cf04b14dc4257c",
       "version_major": 2,
       "version_minor": 0
      },
      "text/plain": [
       "HBox(children=(FloatProgress(value=0.0, max=12.0), HTML(value='')))"
      ]
     },
     "metadata": {},
     "output_type": "display_data"
    },
    {
     "name": "stdout",
     "output_type": "stream",
     "text": [
      "\n",
      "Saved object at /notebooks/Auto_Proofreading/Decomposition_Optimization/Debug_3_Seg_Fault/curr_branch_before_spines.pbz2\n",
      "File size is 0.135127 MB\n",
      "segment_name before cgal = L0_694\n"
     ]
    },
    {
     "data": {
      "application/vnd.jupyter.widget-view+json": {
       "model_id": "84d96ef16b444635a023687c04772405",
       "version_major": 2,
       "version_minor": 0
      },
      "text/plain": [
       "HBox(children=(FloatProgress(value=0.0, max=16.0), HTML(value='')))"
      ]
     },
     "metadata": {},
     "output_type": "display_data"
    },
    {
     "name": "stdout",
     "output_type": "stream",
     "text": [
      "\n",
      "Saved object at /notebooks/Auto_Proofreading/Decomposition_Optimization/Debug_3_Seg_Fault/curr_branch_before_spines.pbz2\n",
      "File size is 0.046632 MB\n",
      "segment_name before cgal = L0_703\n"
     ]
    },
    {
     "data": {
      "application/vnd.jupyter.widget-view+json": {
       "model_id": "ce4db211ab324c99896f0a770afbc166",
       "version_major": 2,
       "version_minor": 0
      },
      "text/plain": [
       "HBox(children=(FloatProgress(value=0.0, max=4.0), HTML(value='')))"
      ]
     },
     "metadata": {},
     "output_type": "display_data"
    },
    {
     "name": "stdout",
     "output_type": "stream",
     "text": [
      "\n",
      "Saved object at /notebooks/Auto_Proofreading/Decomposition_Optimization/Debug_3_Seg_Fault/curr_branch_before_spines.pbz2\n",
      "File size is 0.276257 MB\n",
      "segment_name before cgal = L0_705\n"
     ]
    },
    {
     "data": {
      "application/vnd.jupyter.widget-view+json": {
       "model_id": "2d489f0568464a7abb3024cd70f6e67b",
       "version_major": 2,
       "version_minor": 0
      },
      "text/plain": [
       "HBox(children=(FloatProgress(value=0.0, max=13.0), HTML(value='')))"
      ]
     },
     "metadata": {},
     "output_type": "display_data"
    },
    {
     "name": "stdout",
     "output_type": "stream",
     "text": [
      "\n",
      "Saved object at /notebooks/Auto_Proofreading/Decomposition_Optimization/Debug_3_Seg_Fault/curr_branch_before_spines.pbz2\n",
      "File size is 0.233679 MB\n",
      "segment_name before cgal = L0_706\n"
     ]
    },
    {
     "data": {
      "application/vnd.jupyter.widget-view+json": {
       "model_id": "d07d8f5a749348789b906374f23cb1f0",
       "version_major": 2,
       "version_minor": 0
      },
      "text/plain": [
       "HBox(children=(FloatProgress(value=0.0, max=11.0), HTML(value='')))"
      ]
     },
     "metadata": {},
     "output_type": "display_data"
    },
    {
     "name": "stdout",
     "output_type": "stream",
     "text": [
      "\n",
      "Saved object at /notebooks/Auto_Proofreading/Decomposition_Optimization/Debug_3_Seg_Fault/curr_branch_before_spines.pbz2\n",
      "File size is 0.180134 MB\n",
      "segment_name before cgal = L0_711\n"
     ]
    },
    {
     "data": {
      "application/vnd.jupyter.widget-view+json": {
       "model_id": "e089ebff883c4805aa6cb2c3193dead1",
       "version_major": 2,
       "version_minor": 0
      },
      "text/plain": [
       "HBox(children=(FloatProgress(value=0.0, max=12.0), HTML(value='')))"
      ]
     },
     "metadata": {},
     "output_type": "display_data"
    },
    {
     "name": "stdout",
     "output_type": "stream",
     "text": [
      "\n",
      "Saved object at /notebooks/Auto_Proofreading/Decomposition_Optimization/Debug_3_Seg_Fault/curr_branch_before_spines.pbz2\n",
      "File size is 0.245671 MB\n",
      "segment_name before cgal = L0_712\n"
     ]
    },
    {
     "data": {
      "application/vnd.jupyter.widget-view+json": {
       "model_id": "87f89e1583f2442a801446718a66581c",
       "version_major": 2,
       "version_minor": 0
      },
      "text/plain": [
       "HBox(children=(FloatProgress(value=0.0, max=18.0), HTML(value='')))"
      ]
     },
     "metadata": {},
     "output_type": "display_data"
    },
    {
     "name": "stdout",
     "output_type": "stream",
     "text": [
      "\n",
      "Saved object at /notebooks/Auto_Proofreading/Decomposition_Optimization/Debug_3_Seg_Fault/curr_branch_before_spines.pbz2\n",
      "File size is 0.068143 MB\n",
      "segment_name before cgal = L0_721\n"
     ]
    },
    {
     "data": {
      "application/vnd.jupyter.widget-view+json": {
       "model_id": "a07dc5445c6a4452b6c365da4bebcd58",
       "version_major": 2,
       "version_minor": 0
      },
      "text/plain": [
       "HBox(children=(FloatProgress(value=0.0, max=10.0), HTML(value='')))"
      ]
     },
     "metadata": {},
     "output_type": "display_data"
    },
    {
     "name": "stdout",
     "output_type": "stream",
     "text": [
      "\n",
      "Saved object at /notebooks/Auto_Proofreading/Decomposition_Optimization/Debug_3_Seg_Fault/curr_branch_before_spines.pbz2\n",
      "File size is 0.116294 MB\n",
      "segment_name before cgal = L0_743\n"
     ]
    },
    {
     "data": {
      "application/vnd.jupyter.widget-view+json": {
       "model_id": "ceb171d4672d49df97083cfd66569322",
       "version_major": 2,
       "version_minor": 0
      },
      "text/plain": [
       "HBox(children=(FloatProgress(value=0.0, max=4.0), HTML(value='')))"
      ]
     },
     "metadata": {},
     "output_type": "display_data"
    },
    {
     "name": "stdout",
     "output_type": "stream",
     "text": [
      "\n",
      "Saved object at /notebooks/Auto_Proofreading/Decomposition_Optimization/Debug_3_Seg_Fault/curr_branch_before_spines.pbz2\n",
      "File size is 0.552242 MB\n",
      "segment_name before cgal = L0_744\n"
     ]
    },
    {
     "data": {
      "application/vnd.jupyter.widget-view+json": {
       "model_id": "bc746111938543779e8265f779308900",
       "version_major": 2,
       "version_minor": 0
      },
      "text/plain": [
       "HBox(children=(FloatProgress(value=0.0, max=17.0), HTML(value='')))"
      ]
     },
     "metadata": {},
     "output_type": "display_data"
    },
    {
     "name": "stdout",
     "output_type": "stream",
     "text": [
      "\n",
      "Saved object at /notebooks/Auto_Proofreading/Decomposition_Optimization/Debug_3_Seg_Fault/curr_branch_before_spines.pbz2\n",
      "File size is 0.290928 MB\n",
      "segment_name before cgal = L0_745\n"
     ]
    },
    {
     "data": {
      "application/vnd.jupyter.widget-view+json": {
       "model_id": "360501470330404dac61644b4c666e69",
       "version_major": 2,
       "version_minor": 0
      },
      "text/plain": [
       "HBox(children=(FloatProgress(value=0.0, max=24.0), HTML(value='')))"
      ]
     },
     "metadata": {},
     "output_type": "display_data"
    },
    {
     "name": "stdout",
     "output_type": "stream",
     "text": [
      "\n",
      "Saved object at /notebooks/Auto_Proofreading/Decomposition_Optimization/Debug_3_Seg_Fault/curr_branch_before_spines.pbz2\n",
      "File size is 0.410759 MB\n",
      "segment_name before cgal = L0_746\n"
     ]
    },
    {
     "data": {
      "application/vnd.jupyter.widget-view+json": {
       "model_id": "fc794c2bfa69467d86415e19420434a0",
       "version_major": 2,
       "version_minor": 0
      },
      "text/plain": [
       "HBox(children=(FloatProgress(value=0.0, max=18.0), HTML(value='')))"
      ]
     },
     "metadata": {},
     "output_type": "display_data"
    },
    {
     "name": "stdout",
     "output_type": "stream",
     "text": [
      "\n",
      "Saved object at /notebooks/Auto_Proofreading/Decomposition_Optimization/Debug_3_Seg_Fault/curr_branch_before_spines.pbz2\n",
      "File size is 0.05148 MB\n",
      "segment_name before cgal = L0_747\n"
     ]
    },
    {
     "data": {
      "application/vnd.jupyter.widget-view+json": {
       "model_id": "4151c6510b2d4104b6171563becc5374",
       "version_major": 2,
       "version_minor": 0
      },
      "text/plain": [
       "HBox(children=(FloatProgress(value=0.0, max=8.0), HTML(value='')))"
      ]
     },
     "metadata": {},
     "output_type": "display_data"
    },
    {
     "name": "stdout",
     "output_type": "stream",
     "text": [
      "\n",
      "Saved object at /notebooks/Auto_Proofreading/Decomposition_Optimization/Debug_3_Seg_Fault/curr_branch_before_spines.pbz2\n",
      "File size is 0.403931 MB\n",
      "segment_name before cgal = L0_764\n"
     ]
    },
    {
     "data": {
      "application/vnd.jupyter.widget-view+json": {
       "model_id": "655b57e064784065be8d3212366efe4b",
       "version_major": 2,
       "version_minor": 0
      },
      "text/plain": [
       "HBox(children=(FloatProgress(value=0.0, max=16.0), HTML(value='')))"
      ]
     },
     "metadata": {},
     "output_type": "display_data"
    },
    {
     "name": "stdout",
     "output_type": "stream",
     "text": [
      "\n",
      "Saved object at /notebooks/Auto_Proofreading/Decomposition_Optimization/Debug_3_Seg_Fault/curr_branch_before_spines.pbz2\n",
      "File size is 0.198137 MB\n",
      "segment_name before cgal = L0_765\n"
     ]
    },
    {
     "data": {
      "application/vnd.jupyter.widget-view+json": {
       "model_id": "73717068b0ea44adab32d0878c3d7014",
       "version_major": 2,
       "version_minor": 0
      },
      "text/plain": [
       "HBox(children=(FloatProgress(value=0.0, max=13.0), HTML(value='')))"
      ]
     },
     "metadata": {},
     "output_type": "display_data"
    },
    {
     "name": "stdout",
     "output_type": "stream",
     "text": [
      "\n",
      "Saved object at /notebooks/Auto_Proofreading/Decomposition_Optimization/Debug_3_Seg_Fault/curr_branch_before_spines.pbz2\n",
      "File size is 0.170336 MB\n",
      "segment_name before cgal = L0_766\n"
     ]
    },
    {
     "data": {
      "application/vnd.jupyter.widget-view+json": {
       "model_id": "a661b297723a492e9b7ad22968821e0b",
       "version_major": 2,
       "version_minor": 0
      },
      "text/plain": [
       "HBox(children=(FloatProgress(value=0.0, max=19.0), HTML(value='')))"
      ]
     },
     "metadata": {},
     "output_type": "display_data"
    },
    {
     "name": "stdout",
     "output_type": "stream",
     "text": [
      "\n",
      "Saved object at /notebooks/Auto_Proofreading/Decomposition_Optimization/Debug_3_Seg_Fault/curr_branch_before_spines.pbz2\n",
      "File size is 0.219978 MB\n",
      "segment_name before cgal = L0_771\n"
     ]
    },
    {
     "data": {
      "application/vnd.jupyter.widget-view+json": {
       "model_id": "726364f6e1e2489e9fc8fb0f32317acf",
       "version_major": 2,
       "version_minor": 0
      },
      "text/plain": [
       "HBox(children=(FloatProgress(value=0.0, max=9.0), HTML(value='')))"
      ]
     },
     "metadata": {},
     "output_type": "display_data"
    },
    {
     "name": "stdout",
     "output_type": "stream",
     "text": [
      "\n",
      "Saved object at /notebooks/Auto_Proofreading/Decomposition_Optimization/Debug_3_Seg_Fault/curr_branch_before_spines.pbz2\n",
      "File size is 0.664905 MB\n",
      "segment_name before cgal = L0_772\n"
     ]
    },
    {
     "data": {
      "application/vnd.jupyter.widget-view+json": {
       "model_id": "7a9b00b65e244c49b2d3b3c84a098e0a",
       "version_major": 2,
       "version_minor": 0
      },
      "text/plain": [
       "HBox(children=(FloatProgress(value=0.0, max=29.0), HTML(value='')))"
      ]
     },
     "metadata": {},
     "output_type": "display_data"
    },
    {
     "name": "stdout",
     "output_type": "stream",
     "text": [
      "\n",
      "Saved object at /notebooks/Auto_Proofreading/Decomposition_Optimization/Debug_3_Seg_Fault/curr_branch_before_spines.pbz2\n",
      "File size is 0.046571 MB\n",
      "segment_name before cgal = L0_776\n"
     ]
    },
    {
     "data": {
      "application/vnd.jupyter.widget-view+json": {
       "model_id": "3e0718d74db24937a6b0355a7152c5d1",
       "version_major": 2,
       "version_minor": 0
      },
      "text/plain": [
       "HBox(children=(FloatProgress(value=0.0, max=9.0), HTML(value='')))"
      ]
     },
     "metadata": {},
     "output_type": "display_data"
    },
    {
     "name": "stdout",
     "output_type": "stream",
     "text": [
      "\n",
      "Saved object at /notebooks/Auto_Proofreading/Decomposition_Optimization/Debug_3_Seg_Fault/curr_branch_before_spines.pbz2\n",
      "File size is 0.0859 MB\n",
      "segment_name before cgal = L0_777\n"
     ]
    },
    {
     "data": {
      "application/vnd.jupyter.widget-view+json": {
       "model_id": "8c302d3c0731424b9fdce5389bd6e5d3",
       "version_major": 2,
       "version_minor": 0
      },
      "text/plain": [
       "HBox(children=(FloatProgress(value=0.0, max=12.0), HTML(value='')))"
      ]
     },
     "metadata": {},
     "output_type": "display_data"
    },
    {
     "name": "stdout",
     "output_type": "stream",
     "text": [
      "\n",
      "Saved object at /notebooks/Auto_Proofreading/Decomposition_Optimization/Debug_3_Seg_Fault/curr_branch_before_spines.pbz2\n",
      "File size is 0.014523 MB\n",
      "segment_name before cgal = L0_778\n"
     ]
    },
    {
     "data": {
      "application/vnd.jupyter.widget-view+json": {
       "model_id": "1b54e13b4f3a42e4be7435db924517a6",
       "version_major": 2,
       "version_minor": 0
      },
      "text/plain": [
       "HBox(children=(FloatProgress(value=0.0, max=10.0), HTML(value='')))"
      ]
     },
     "metadata": {},
     "output_type": "display_data"
    },
    {
     "name": "stdout",
     "output_type": "stream",
     "text": [
      "\n",
      "Saved object at /notebooks/Auto_Proofreading/Decomposition_Optimization/Debug_3_Seg_Fault/curr_branch_before_spines.pbz2\n",
      "File size is 0.145354 MB\n",
      "segment_name before cgal = L0_785\n"
     ]
    },
    {
     "data": {
      "application/vnd.jupyter.widget-view+json": {
       "model_id": "30b77b23caa447c7a1678baab55362cd",
       "version_major": 2,
       "version_minor": 0
      },
      "text/plain": [
       "HBox(children=(FloatProgress(value=0.0, max=14.0), HTML(value='')))"
      ]
     },
     "metadata": {},
     "output_type": "display_data"
    },
    {
     "name": "stdout",
     "output_type": "stream",
     "text": [
      "\n",
      "Saved object at /notebooks/Auto_Proofreading/Decomposition_Optimization/Debug_3_Seg_Fault/curr_branch_before_spines.pbz2\n",
      "File size is 0.136323 MB\n",
      "segment_name before cgal = L0_786\n"
     ]
    },
    {
     "data": {
      "application/vnd.jupyter.widget-view+json": {
       "model_id": "d48549a37de2434999762a74e9f4486d",
       "version_major": 2,
       "version_minor": 0
      },
      "text/plain": [
       "HBox(children=(FloatProgress(value=0.0, max=10.0), HTML(value='')))"
      ]
     },
     "metadata": {},
     "output_type": "display_data"
    },
    {
     "name": "stdout",
     "output_type": "stream",
     "text": [
      "\n",
      "Saved object at /notebooks/Auto_Proofreading/Decomposition_Optimization/Debug_3_Seg_Fault/curr_branch_before_spines.pbz2\n",
      "File size is 0.196514 MB\n",
      "segment_name before cgal = L0_788\n"
     ]
    },
    {
     "data": {
      "application/vnd.jupyter.widget-view+json": {
       "model_id": "a54ac0486fb34dc3b2d867495e2b7f6f",
       "version_major": 2,
       "version_minor": 0
      },
      "text/plain": [
       "HBox(children=(FloatProgress(value=0.0, max=19.0), HTML(value='')))"
      ]
     },
     "metadata": {},
     "output_type": "display_data"
    },
    {
     "name": "stdout",
     "output_type": "stream",
     "text": [
      "\n",
      "Saved object at /notebooks/Auto_Proofreading/Decomposition_Optimization/Debug_3_Seg_Fault/curr_branch_before_spines.pbz2\n",
      "File size is 0.431804 MB\n",
      "segment_name before cgal = L0_789\n"
     ]
    },
    {
     "data": {
      "application/vnd.jupyter.widget-view+json": {
       "model_id": "80af7af13fad4ae99d2cd2d2762c34a4",
       "version_major": 2,
       "version_minor": 0
      },
      "text/plain": [
       "HBox(children=(FloatProgress(value=0.0, max=19.0), HTML(value='')))"
      ]
     },
     "metadata": {},
     "output_type": "display_data"
    },
    {
     "name": "stdout",
     "output_type": "stream",
     "text": [
      "\n",
      "Saved object at /notebooks/Auto_Proofreading/Decomposition_Optimization/Debug_3_Seg_Fault/curr_branch_before_spines.pbz2\n",
      "File size is 0.519641 MB\n",
      "segment_name before cgal = L0_790\n"
     ]
    },
    {
     "data": {
      "application/vnd.jupyter.widget-view+json": {
       "model_id": "124539fc929348ca878bf631c9c0aa9f",
       "version_major": 2,
       "version_minor": 0
      },
      "text/plain": [
       "HBox(children=(FloatProgress(value=0.0, max=19.0), HTML(value='')))"
      ]
     },
     "metadata": {},
     "output_type": "display_data"
    },
    {
     "name": "stdout",
     "output_type": "stream",
     "text": [
      "\n",
      "Saved object at /notebooks/Auto_Proofreading/Decomposition_Optimization/Debug_3_Seg_Fault/curr_branch_before_spines.pbz2\n",
      "File size is 0.061357 MB\n",
      "segment_name before cgal = L0_791\n"
     ]
    },
    {
     "data": {
      "application/vnd.jupyter.widget-view+json": {
       "model_id": "e71e296dede74259996978c132f7d779",
       "version_major": 2,
       "version_minor": 0
      },
      "text/plain": [
       "HBox(children=(FloatProgress(value=0.0, max=14.0), HTML(value='')))"
      ]
     },
     "metadata": {},
     "output_type": "display_data"
    },
    {
     "name": "stdout",
     "output_type": "stream",
     "text": [
      "\n",
      "Saved object at /notebooks/Auto_Proofreading/Decomposition_Optimization/Debug_3_Seg_Fault/curr_branch_before_spines.pbz2\n",
      "File size is 0.117926 MB\n",
      "segment_name before cgal = L0_794\n"
     ]
    },
    {
     "data": {
      "application/vnd.jupyter.widget-view+json": {
       "model_id": "043b577c47c34d5694d44b255f271491",
       "version_major": 2,
       "version_minor": 0
      },
      "text/plain": [
       "HBox(children=(FloatProgress(value=0.0, max=11.0), HTML(value='')))"
      ]
     },
     "metadata": {},
     "output_type": "display_data"
    },
    {
     "name": "stdout",
     "output_type": "stream",
     "text": [
      "\n",
      "Saved object at /notebooks/Auto_Proofreading/Decomposition_Optimization/Debug_3_Seg_Fault/curr_branch_before_spines.pbz2\n",
      "File size is 0.146766 MB\n",
      "segment_name before cgal = L0_800\n"
     ]
    },
    {
     "data": {
      "application/vnd.jupyter.widget-view+json": {
       "model_id": "8045fa371f8245fe83924cc9f89a5a9c",
       "version_major": 2,
       "version_minor": 0
      },
      "text/plain": [
       "HBox(children=(FloatProgress(value=0.0, max=10.0), HTML(value='')))"
      ]
     },
     "metadata": {},
     "output_type": "display_data"
    },
    {
     "name": "stdout",
     "output_type": "stream",
     "text": [
      "\n",
      "Saved object at /notebooks/Auto_Proofreading/Decomposition_Optimization/Debug_3_Seg_Fault/curr_branch_before_spines.pbz2\n",
      "File size is 0.659222 MB\n",
      "segment_name before cgal = L0_806\n"
     ]
    },
    {
     "data": {
      "application/vnd.jupyter.widget-view+json": {
       "model_id": "0c1ce7f853914083afb7b4bf3db52515",
       "version_major": 2,
       "version_minor": 0
      },
      "text/plain": [
       "HBox(children=(FloatProgress(value=0.0, max=26.0), HTML(value='')))"
      ]
     },
     "metadata": {},
     "output_type": "display_data"
    },
    {
     "name": "stdout",
     "output_type": "stream",
     "text": [
      "\n",
      "Saved object at /notebooks/Auto_Proofreading/Decomposition_Optimization/Debug_3_Seg_Fault/curr_branch_before_spines.pbz2\n",
      "File size is 0.100204 MB\n",
      "segment_name before cgal = L0_816\n"
     ]
    },
    {
     "data": {
      "application/vnd.jupyter.widget-view+json": {
       "model_id": "460c04c280d843ce8fb192910caa5380",
       "version_major": 2,
       "version_minor": 0
      },
      "text/plain": [
       "HBox(children=(FloatProgress(value=0.0, max=19.0), HTML(value='')))"
      ]
     },
     "metadata": {},
     "output_type": "display_data"
    },
    {
     "name": "stdout",
     "output_type": "stream",
     "text": [
      "\n",
      "Saved object at /notebooks/Auto_Proofreading/Decomposition_Optimization/Debug_3_Seg_Fault/curr_branch_before_spines.pbz2\n",
      "File size is 0.091946 MB\n",
      "segment_name before cgal = L0_818\n"
     ]
    },
    {
     "data": {
      "application/vnd.jupyter.widget-view+json": {
       "model_id": "db22b82fab3241919e2b910bd091e7ba",
       "version_major": 2,
       "version_minor": 0
      },
      "text/plain": [
       "HBox(children=(FloatProgress(value=0.0, max=11.0), HTML(value='')))"
      ]
     },
     "metadata": {},
     "output_type": "display_data"
    },
    {
     "name": "stdout",
     "output_type": "stream",
     "text": [
      "\n",
      "Saved object at /notebooks/Auto_Proofreading/Decomposition_Optimization/Debug_3_Seg_Fault/curr_branch_before_spines.pbz2\n",
      "File size is 0.034113 MB\n",
      "segment_name before cgal = L0_819\n"
     ]
    },
    {
     "data": {
      "application/vnd.jupyter.widget-view+json": {
       "model_id": "aee5dbccba614a2a9d19e71552a0a6c2",
       "version_major": 2,
       "version_minor": 0
      },
      "text/plain": [
       "HBox(children=(FloatProgress(value=0.0, max=13.0), HTML(value='')))"
      ]
     },
     "metadata": {},
     "output_type": "display_data"
    },
    {
     "name": "stdout",
     "output_type": "stream",
     "text": [
      "\n",
      "Saved object at /notebooks/Auto_Proofreading/Decomposition_Optimization/Debug_3_Seg_Fault/curr_branch_before_spines.pbz2\n",
      "File size is 0.175542 MB\n",
      "segment_name before cgal = L0_827\n"
     ]
    },
    {
     "data": {
      "application/vnd.jupyter.widget-view+json": {
       "model_id": "9dcba6a9c61d4655a8cc91a18535c6a8",
       "version_major": 2,
       "version_minor": 0
      },
      "text/plain": [
       "HBox(children=(FloatProgress(value=0.0, max=14.0), HTML(value='')))"
      ]
     },
     "metadata": {},
     "output_type": "display_data"
    },
    {
     "name": "stdout",
     "output_type": "stream",
     "text": [
      "\n",
      "Saved object at /notebooks/Auto_Proofreading/Decomposition_Optimization/Debug_3_Seg_Fault/curr_branch_before_spines.pbz2\n",
      "File size is 0.012809 MB\n",
      "segment_name before cgal = L0_843\n"
     ]
    },
    {
     "data": {
      "application/vnd.jupyter.widget-view+json": {
       "model_id": "5784f5f28b9343efa1d28a49a33c5471",
       "version_major": 2,
       "version_minor": 0
      },
      "text/plain": [
       "HBox(children=(FloatProgress(value=0.0, max=4.0), HTML(value='')))"
      ]
     },
     "metadata": {},
     "output_type": "display_data"
    },
    {
     "name": "stdout",
     "output_type": "stream",
     "text": [
      "\n",
      "Saved object at /notebooks/Auto_Proofreading/Decomposition_Optimization/Debug_3_Seg_Fault/curr_branch_before_spines.pbz2\n",
      "File size is 0.254052 MB\n",
      "segment_name before cgal = L0_845\n"
     ]
    },
    {
     "data": {
      "application/vnd.jupyter.widget-view+json": {
       "model_id": "5673a9b25f82459fb50b8b5d0e72734b",
       "version_major": 2,
       "version_minor": 0
      },
      "text/plain": [
       "HBox(children=(FloatProgress(value=0.0, max=15.0), HTML(value='')))"
      ]
     },
     "metadata": {},
     "output_type": "display_data"
    },
    {
     "name": "stdout",
     "output_type": "stream",
     "text": [
      "\n",
      "Saved object at /notebooks/Auto_Proofreading/Decomposition_Optimization/Debug_3_Seg_Fault/curr_branch_before_spines.pbz2\n",
      "File size is 0.049386 MB\n",
      "segment_name before cgal = L0_846\n"
     ]
    },
    {
     "data": {
      "application/vnd.jupyter.widget-view+json": {
       "model_id": "46a8fe3e6e6d4643b594180aebea27d6",
       "version_major": 2,
       "version_minor": 0
      },
      "text/plain": [
       "HBox(children=(FloatProgress(value=0.0, max=16.0), HTML(value='')))"
      ]
     },
     "metadata": {},
     "output_type": "display_data"
    },
    {
     "name": "stdout",
     "output_type": "stream",
     "text": [
      "\n",
      "Saved object at /notebooks/Auto_Proofreading/Decomposition_Optimization/Debug_3_Seg_Fault/curr_branch_before_spines.pbz2\n",
      "File size is 0.248286 MB\n",
      "segment_name before cgal = L0_847\n"
     ]
    },
    {
     "data": {
      "application/vnd.jupyter.widget-view+json": {
       "model_id": "1c7c67050e3c4e5786171b0282818189",
       "version_major": 2,
       "version_minor": 0
      },
      "text/plain": [
       "HBox(children=(FloatProgress(value=0.0, max=11.0), HTML(value='')))"
      ]
     },
     "metadata": {},
     "output_type": "display_data"
    },
    {
     "name": "stdout",
     "output_type": "stream",
     "text": [
      "\n",
      "Saved object at /notebooks/Auto_Proofreading/Decomposition_Optimization/Debug_3_Seg_Fault/curr_branch_before_spines.pbz2\n",
      "File size is 0.237616 MB\n",
      "segment_name before cgal = L0_849\n"
     ]
    },
    {
     "data": {
      "application/vnd.jupyter.widget-view+json": {
       "model_id": "545efab27249431294df6fcbe20a55ce",
       "version_major": 2,
       "version_minor": 0
      },
      "text/plain": [
       "HBox(children=(FloatProgress(value=0.0, max=33.0), HTML(value='')))"
      ]
     },
     "metadata": {},
     "output_type": "display_data"
    },
    {
     "name": "stdout",
     "output_type": "stream",
     "text": [
      "\n",
      "Saved object at /notebooks/Auto_Proofreading/Decomposition_Optimization/Debug_3_Seg_Fault/curr_branch_before_spines.pbz2\n",
      "File size is 0.085917 MB\n",
      "segment_name before cgal = L0_850\n"
     ]
    },
    {
     "data": {
      "application/vnd.jupyter.widget-view+json": {
       "model_id": "9ce1f92b79314925b23048df5d73c0e0",
       "version_major": 2,
       "version_minor": 0
      },
      "text/plain": [
       "HBox(children=(FloatProgress(value=0.0, max=3.0), HTML(value='')))"
      ]
     },
     "metadata": {},
     "output_type": "display_data"
    },
    {
     "name": "stdout",
     "output_type": "stream",
     "text": [
      "\n",
      "Saved object at /notebooks/Auto_Proofreading/Decomposition_Optimization/Debug_3_Seg_Fault/curr_branch_before_spines.pbz2\n",
      "File size is 0.267717 MB\n",
      "segment_name before cgal = L0_856\n"
     ]
    },
    {
     "data": {
      "application/vnd.jupyter.widget-view+json": {
       "model_id": "57dd86da5f654a128bea1569b1fb2871",
       "version_major": 2,
       "version_minor": 0
      },
      "text/plain": [
       "HBox(children=(FloatProgress(value=0.0, max=19.0), HTML(value='')))"
      ]
     },
     "metadata": {},
     "output_type": "display_data"
    },
    {
     "name": "stdout",
     "output_type": "stream",
     "text": [
      "\n",
      "Saved object at /notebooks/Auto_Proofreading/Decomposition_Optimization/Debug_3_Seg_Fault/curr_branch_before_spines.pbz2\n",
      "File size is 0.02049 MB\n",
      "segment_name before cgal = L0_861\n"
     ]
    },
    {
     "data": {
      "application/vnd.jupyter.widget-view+json": {
       "model_id": "12bb26c3d5874950b6fe5f69b0a6c93b",
       "version_major": 2,
       "version_minor": 0
      },
      "text/plain": [
       "HBox(children=(FloatProgress(value=0.0, max=5.0), HTML(value='')))"
      ]
     },
     "metadata": {},
     "output_type": "display_data"
    },
    {
     "name": "stdout",
     "output_type": "stream",
     "text": [
      "\n",
      "Saved object at /notebooks/Auto_Proofreading/Decomposition_Optimization/Debug_3_Seg_Fault/curr_branch_before_spines.pbz2\n",
      "File size is 0.059884 MB\n",
      "segment_name before cgal = L0_863\n"
     ]
    },
    {
     "data": {
      "application/vnd.jupyter.widget-view+json": {
       "model_id": "85d17249202048a497d269058d818da0",
       "version_major": 2,
       "version_minor": 0
      },
      "text/plain": [
       "HBox(children=(FloatProgress(value=0.0, max=5.0), HTML(value='')))"
      ]
     },
     "metadata": {},
     "output_type": "display_data"
    },
    {
     "name": "stdout",
     "output_type": "stream",
     "text": [
      "\n",
      "Saved object at /notebooks/Auto_Proofreading/Decomposition_Optimization/Debug_3_Seg_Fault/curr_branch_before_spines.pbz2\n",
      "File size is 0.048811 MB\n",
      "segment_name before cgal = L0_864\n"
     ]
    },
    {
     "data": {
      "application/vnd.jupyter.widget-view+json": {
       "model_id": "c890c2786abd41f88304b318eca6632f",
       "version_major": 2,
       "version_minor": 0
      },
      "text/plain": [
       "HBox(children=(FloatProgress(value=0.0, max=5.0), HTML(value='')))"
      ]
     },
     "metadata": {},
     "output_type": "display_data"
    },
    {
     "name": "stdout",
     "output_type": "stream",
     "text": [
      "\n",
      "Saved object at /notebooks/Auto_Proofreading/Decomposition_Optimization/Debug_3_Seg_Fault/curr_branch_before_spines.pbz2\n",
      "File size is 0.290009 MB\n",
      "segment_name before cgal = L0_869\n"
     ]
    },
    {
     "data": {
      "application/vnd.jupyter.widget-view+json": {
       "model_id": "3c82faed3a6d4e8c9552a821d0f6adc0",
       "version_major": 2,
       "version_minor": 0
      },
      "text/plain": [
       "HBox(children=(FloatProgress(value=0.0, max=21.0), HTML(value='')))"
      ]
     },
     "metadata": {},
     "output_type": "display_data"
    },
    {
     "name": "stdout",
     "output_type": "stream",
     "text": [
      "\n",
      "Saved object at /notebooks/Auto_Proofreading/Decomposition_Optimization/Debug_3_Seg_Fault/curr_branch_before_spines.pbz2\n",
      "File size is 0.317393 MB\n",
      "segment_name before cgal = L0_870\n"
     ]
    },
    {
     "data": {
      "application/vnd.jupyter.widget-view+json": {
       "model_id": "4626b1f1e2d74009af6eafc872e21124",
       "version_major": 2,
       "version_minor": 0
      },
      "text/plain": [
       "HBox(children=(FloatProgress(value=0.0, max=24.0), HTML(value='')))"
      ]
     },
     "metadata": {},
     "output_type": "display_data"
    },
    {
     "name": "stdout",
     "output_type": "stream",
     "text": [
      "\n",
      "Saved object at /notebooks/Auto_Proofreading/Decomposition_Optimization/Debug_3_Seg_Fault/curr_branch_before_spines.pbz2\n",
      "File size is 0.105827 MB\n",
      "segment_name before cgal = L0_872\n"
     ]
    },
    {
     "data": {
      "application/vnd.jupyter.widget-view+json": {
       "model_id": "23e4d504629b4f65b4370087e721596c",
       "version_major": 2,
       "version_minor": 0
      },
      "text/plain": [
       "HBox(children=(FloatProgress(value=0.0, max=6.0), HTML(value='')))"
      ]
     },
     "metadata": {},
     "output_type": "display_data"
    },
    {
     "name": "stdout",
     "output_type": "stream",
     "text": [
      "\n",
      "Saved object at /notebooks/Auto_Proofreading/Decomposition_Optimization/Debug_3_Seg_Fault/curr_branch_before_spines.pbz2\n",
      "File size is 0.082989 MB\n",
      "segment_name before cgal = L0_876\n"
     ]
    },
    {
     "data": {
      "application/vnd.jupyter.widget-view+json": {
       "model_id": "e6bb756e19354f74859a5f9a8f84e51a",
       "version_major": 2,
       "version_minor": 0
      },
      "text/plain": [
       "HBox(children=(FloatProgress(value=0.0, max=13.0), HTML(value='')))"
      ]
     },
     "metadata": {},
     "output_type": "display_data"
    },
    {
     "name": "stdout",
     "output_type": "stream",
     "text": [
      "\n",
      "Saved object at /notebooks/Auto_Proofreading/Decomposition_Optimization/Debug_3_Seg_Fault/curr_branch_before_spines.pbz2\n",
      "File size is 0.416753 MB\n",
      "segment_name before cgal = L0_878\n"
     ]
    },
    {
     "data": {
      "application/vnd.jupyter.widget-view+json": {
       "model_id": "d8569809ee2c4086a40b7315534091ac",
       "version_major": 2,
       "version_minor": 0
      },
      "text/plain": [
       "HBox(children=(FloatProgress(value=0.0, max=13.0), HTML(value='')))"
      ]
     },
     "metadata": {},
     "output_type": "display_data"
    },
    {
     "name": "stdout",
     "output_type": "stream",
     "text": [
      "\n",
      "Saved object at /notebooks/Auto_Proofreading/Decomposition_Optimization/Debug_3_Seg_Fault/curr_branch_before_spines.pbz2\n",
      "File size is 0.175969 MB\n",
      "segment_name before cgal = L0_879\n"
     ]
    },
    {
     "data": {
      "application/vnd.jupyter.widget-view+json": {
       "model_id": "9dde14d31db24fbfa7d895ca1d831de9",
       "version_major": 2,
       "version_minor": 0
      },
      "text/plain": [
       "HBox(children=(FloatProgress(value=0.0, max=5.0), HTML(value='')))"
      ]
     },
     "metadata": {},
     "output_type": "display_data"
    },
    {
     "name": "stdout",
     "output_type": "stream",
     "text": [
      "\n",
      "Saved object at /notebooks/Auto_Proofreading/Decomposition_Optimization/Debug_3_Seg_Fault/curr_branch_before_spines.pbz2\n",
      "File size is 0.11395 MB\n",
      "segment_name before cgal = L0_884\n"
     ]
    },
    {
     "data": {
      "application/vnd.jupyter.widget-view+json": {
       "model_id": "44e75ca18d4f4a36a770caa65c6b9c45",
       "version_major": 2,
       "version_minor": 0
      },
      "text/plain": [
       "HBox(children=(FloatProgress(value=0.0, max=10.0), HTML(value='')))"
      ]
     },
     "metadata": {},
     "output_type": "display_data"
    },
    {
     "name": "stdout",
     "output_type": "stream",
     "text": [
      "\n",
      "Saved object at /notebooks/Auto_Proofreading/Decomposition_Optimization/Debug_3_Seg_Fault/curr_branch_before_spines.pbz2\n",
      "File size is 0.042917 MB\n",
      "segment_name before cgal = L0_886\n"
     ]
    },
    {
     "data": {
      "application/vnd.jupyter.widget-view+json": {
       "model_id": "996ebed41fe7416abfd68dfd40cdc807",
       "version_major": 2,
       "version_minor": 0
      },
      "text/plain": [
       "HBox(children=(FloatProgress(value=0.0, max=12.0), HTML(value='')))"
      ]
     },
     "metadata": {},
     "output_type": "display_data"
    },
    {
     "name": "stdout",
     "output_type": "stream",
     "text": [
      "\n",
      "Saved object at /notebooks/Auto_Proofreading/Decomposition_Optimization/Debug_3_Seg_Fault/curr_branch_before_spines.pbz2\n",
      "File size is 0.092271 MB\n",
      "segment_name before cgal = L0_887\n"
     ]
    },
    {
     "data": {
      "application/vnd.jupyter.widget-view+json": {
       "model_id": "6a506d6ef87741dc896e0e3a7b94530b",
       "version_major": 2,
       "version_minor": 0
      },
      "text/plain": [
       "HBox(children=(FloatProgress(value=0.0, max=6.0), HTML(value='')))"
      ]
     },
     "metadata": {},
     "output_type": "display_data"
    },
    {
     "name": "stdout",
     "output_type": "stream",
     "text": [
      "\n",
      "Saved object at /notebooks/Auto_Proofreading/Decomposition_Optimization/Debug_3_Seg_Fault/curr_branch_before_spines.pbz2\n",
      "File size is 0.06383 MB\n",
      "segment_name before cgal = L0_893\n"
     ]
    },
    {
     "data": {
      "application/vnd.jupyter.widget-view+json": {
       "model_id": "a54bbdefa8ee45e5b0460c1a69b99798",
       "version_major": 2,
       "version_minor": 0
      },
      "text/plain": [
       "HBox(children=(FloatProgress(value=0.0, max=6.0), HTML(value='')))"
      ]
     },
     "metadata": {},
     "output_type": "display_data"
    },
    {
     "name": "stdout",
     "output_type": "stream",
     "text": [
      "\n",
      "Saved object at /notebooks/Auto_Proofreading/Decomposition_Optimization/Debug_3_Seg_Fault/curr_branch_before_spines.pbz2\n",
      "File size is 0.153252 MB\n",
      "segment_name before cgal = L0_895\n"
     ]
    },
    {
     "data": {
      "application/vnd.jupyter.widget-view+json": {
       "model_id": "695df02d109248cd993c6db4b71cc705",
       "version_major": 2,
       "version_minor": 0
      },
      "text/plain": [
       "HBox(children=(FloatProgress(value=0.0, max=16.0), HTML(value='')))"
      ]
     },
     "metadata": {},
     "output_type": "display_data"
    },
    {
     "name": "stdout",
     "output_type": "stream",
     "text": [
      "\n",
      "Saved object at /notebooks/Auto_Proofreading/Decomposition_Optimization/Debug_3_Seg_Fault/curr_branch_before_spines.pbz2\n",
      "File size is 0.115632 MB\n",
      "segment_name before cgal = L0_896\n"
     ]
    },
    {
     "data": {
      "application/vnd.jupyter.widget-view+json": {
       "model_id": "cdd5f6427ed340ffbeab447945c43079",
       "version_major": 2,
       "version_minor": 0
      },
      "text/plain": [
       "HBox(children=(FloatProgress(value=0.0, max=12.0), HTML(value='')))"
      ]
     },
     "metadata": {},
     "output_type": "display_data"
    },
    {
     "name": "stdout",
     "output_type": "stream",
     "text": [
      "\n",
      "Saved object at /notebooks/Auto_Proofreading/Decomposition_Optimization/Debug_3_Seg_Fault/curr_branch_before_spines.pbz2\n",
      "File size is 0.4119 MB\n",
      "segment_name before cgal = L0_898\n"
     ]
    },
    {
     "data": {
      "application/vnd.jupyter.widget-view+json": {
       "model_id": "ef2f4a8e7b6e47ba8260f9c5c2454885",
       "version_major": 2,
       "version_minor": 0
      },
      "text/plain": [
       "HBox(children=(FloatProgress(value=0.0, max=28.0), HTML(value='')))"
      ]
     },
     "metadata": {},
     "output_type": "display_data"
    },
    {
     "name": "stdout",
     "output_type": "stream",
     "text": [
      "\n",
      "Saved object at /notebooks/Auto_Proofreading/Decomposition_Optimization/Debug_3_Seg_Fault/curr_branch_before_spines.pbz2\n",
      "File size is 0.871705 MB\n",
      "segment_name before cgal = L0_904\n"
     ]
    },
    {
     "data": {
      "application/vnd.jupyter.widget-view+json": {
       "model_id": "351c47e058ab456e93df6160df99e994",
       "version_major": 2,
       "version_minor": 0
      },
      "text/plain": [
       "HBox(children=(FloatProgress(value=0.0, max=49.0), HTML(value='')))"
      ]
     },
     "metadata": {},
     "output_type": "display_data"
    },
    {
     "name": "stdout",
     "output_type": "stream",
     "text": [
      "\n",
      "Saved object at /notebooks/Auto_Proofreading/Decomposition_Optimization/Debug_3_Seg_Fault/curr_branch_before_spines.pbz2\n",
      "File size is 0.141296 MB\n",
      "segment_name before cgal = L0_914\n"
     ]
    },
    {
     "data": {
      "application/vnd.jupyter.widget-view+json": {
       "model_id": "f42167a2c199436597433e362960a906",
       "version_major": 2,
       "version_minor": 0
      },
      "text/plain": [
       "HBox(children=(FloatProgress(value=0.0, max=6.0), HTML(value='')))"
      ]
     },
     "metadata": {},
     "output_type": "display_data"
    },
    {
     "name": "stdout",
     "output_type": "stream",
     "text": [
      "\n",
      "Saved object at /notebooks/Auto_Proofreading/Decomposition_Optimization/Debug_3_Seg_Fault/curr_branch_before_spines.pbz2\n",
      "File size is 0.157675 MB\n",
      "segment_name before cgal = L0_918\n"
     ]
    },
    {
     "data": {
      "application/vnd.jupyter.widget-view+json": {
       "model_id": "0051680fbe8e4a8e9d020a993df0aa6d",
       "version_major": 2,
       "version_minor": 0
      },
      "text/plain": [
       "HBox(children=(FloatProgress(value=0.0, max=9.0), HTML(value='')))"
      ]
     },
     "metadata": {},
     "output_type": "display_data"
    },
    {
     "name": "stdout",
     "output_type": "stream",
     "text": [
      "\n",
      "Saved object at /notebooks/Auto_Proofreading/Decomposition_Optimization/Debug_3_Seg_Fault/curr_branch_before_spines.pbz2\n",
      "File size is 0.251687 MB\n",
      "segment_name before cgal = L0_919\n"
     ]
    },
    {
     "data": {
      "application/vnd.jupyter.widget-view+json": {
       "model_id": "ed5bde652fc840ae9a713d9b233370ae",
       "version_major": 2,
       "version_minor": 0
      },
      "text/plain": [
       "HBox(children=(FloatProgress(value=0.0, max=23.0), HTML(value='')))"
      ]
     },
     "metadata": {},
     "output_type": "display_data"
    },
    {
     "name": "stdout",
     "output_type": "stream",
     "text": [
      "\n",
      "Saved object at /notebooks/Auto_Proofreading/Decomposition_Optimization/Debug_3_Seg_Fault/curr_branch_before_spines.pbz2\n",
      "File size is 0.378854 MB\n",
      "segment_name before cgal = L0_931\n"
     ]
    },
    {
     "data": {
      "application/vnd.jupyter.widget-view+json": {
       "model_id": "b127326b14d14ef4b4a4c1a55afaa2f5",
       "version_major": 2,
       "version_minor": 0
      },
      "text/plain": [
       "HBox(children=(FloatProgress(value=0.0, max=18.0), HTML(value='')))"
      ]
     },
     "metadata": {},
     "output_type": "display_data"
    },
    {
     "name": "stdout",
     "output_type": "stream",
     "text": [
      "\n",
      "Saved object at /notebooks/Auto_Proofreading/Decomposition_Optimization/Debug_3_Seg_Fault/curr_branch_before_spines.pbz2\n",
      "File size is 0.075037 MB\n",
      "segment_name before cgal = L0_933\n"
     ]
    },
    {
     "data": {
      "application/vnd.jupyter.widget-view+json": {
       "model_id": "bde7af3f264640e5884b7d628b4a0633",
       "version_major": 2,
       "version_minor": 0
      },
      "text/plain": [
       "HBox(children=(FloatProgress(value=0.0, max=3.0), HTML(value='')))"
      ]
     },
     "metadata": {},
     "output_type": "display_data"
    },
    {
     "name": "stdout",
     "output_type": "stream",
     "text": [
      "\n",
      "Saved object at /notebooks/Auto_Proofreading/Decomposition_Optimization/Debug_3_Seg_Fault/curr_branch_before_spines.pbz2\n",
      "File size is 0.534487 MB\n",
      "segment_name before cgal = L0_939\n"
     ]
    },
    {
     "data": {
      "application/vnd.jupyter.widget-view+json": {
       "model_id": "216c87f55b724e6f8433fb2c9005107f",
       "version_major": 2,
       "version_minor": 0
      },
      "text/plain": [
       "HBox(children=(FloatProgress(value=0.0, max=39.0), HTML(value='')))"
      ]
     },
     "metadata": {},
     "output_type": "display_data"
    },
    {
     "name": "stdout",
     "output_type": "stream",
     "text": [
      "\n",
      "Saved object at /notebooks/Auto_Proofreading/Decomposition_Optimization/Debug_3_Seg_Fault/curr_branch_before_spines.pbz2\n",
      "File size is 0.447123 MB\n",
      "segment_name before cgal = L0_950\n"
     ]
    },
    {
     "data": {
      "application/vnd.jupyter.widget-view+json": {
       "model_id": "896f3f06c99e4813a25ddd26a2321655",
       "version_major": 2,
       "version_minor": 0
      },
      "text/plain": [
       "HBox(children=(FloatProgress(value=0.0, max=31.0), HTML(value='')))"
      ]
     },
     "metadata": {},
     "output_type": "display_data"
    },
    {
     "name": "stdout",
     "output_type": "stream",
     "text": [
      "\n",
      "Saved object at /notebooks/Auto_Proofreading/Decomposition_Optimization/Debug_3_Seg_Fault/curr_branch_before_spines.pbz2\n",
      "File size is 0.329073 MB\n",
      "segment_name before cgal = L0_953\n"
     ]
    },
    {
     "data": {
      "application/vnd.jupyter.widget-view+json": {
       "model_id": "5e07bb8472304de7a512141bc72c4142",
       "version_major": 2,
       "version_minor": 0
      },
      "text/plain": [
       "HBox(children=(FloatProgress(value=0.0, max=26.0), HTML(value='')))"
      ]
     },
     "metadata": {},
     "output_type": "display_data"
    },
    {
     "name": "stdout",
     "output_type": "stream",
     "text": [
      "\n",
      "Saved object at /notebooks/Auto_Proofreading/Decomposition_Optimization/Debug_3_Seg_Fault/curr_branch_before_spines.pbz2\n",
      "File size is 0.075379 MB\n",
      "segment_name before cgal = L0_956\n"
     ]
    },
    {
     "data": {
      "application/vnd.jupyter.widget-view+json": {
       "model_id": "19de58e353c54bcf9a7ca9e0553285a2",
       "version_major": 2,
       "version_minor": 0
      },
      "text/plain": [
       "HBox(children=(FloatProgress(value=0.0, max=6.0), HTML(value='')))"
      ]
     },
     "metadata": {},
     "output_type": "display_data"
    },
    {
     "name": "stdout",
     "output_type": "stream",
     "text": [
      "\n",
      "Saved object at /notebooks/Auto_Proofreading/Decomposition_Optimization/Debug_3_Seg_Fault/curr_branch_before_spines.pbz2\n",
      "File size is 0.034003 MB\n",
      "segment_name before cgal = L0_961\n"
     ]
    },
    {
     "data": {
      "application/vnd.jupyter.widget-view+json": {
       "model_id": "6775b6aceea74f2c8bee76eff55f2de9",
       "version_major": 2,
       "version_minor": 0
      },
      "text/plain": [
       "HBox(children=(FloatProgress(value=0.0, max=7.0), HTML(value='')))"
      ]
     },
     "metadata": {},
     "output_type": "display_data"
    },
    {
     "name": "stdout",
     "output_type": "stream",
     "text": [
      "\n",
      "Saved object at /notebooks/Auto_Proofreading/Decomposition_Optimization/Debug_3_Seg_Fault/curr_branch_before_spines.pbz2\n",
      "File size is 0.254316 MB\n",
      "segment_name before cgal = L0_973\n"
     ]
    },
    {
     "data": {
      "application/vnd.jupyter.widget-view+json": {
       "model_id": "4f671015a6754c3082bfe49cdc72d8dd",
       "version_major": 2,
       "version_minor": 0
      },
      "text/plain": [
       "HBox(children=(FloatProgress(value=0.0, max=16.0), HTML(value='')))"
      ]
     },
     "metadata": {},
     "output_type": "display_data"
    },
    {
     "name": "stdout",
     "output_type": "stream",
     "text": [
      "\n",
      "Saved object at /notebooks/Auto_Proofreading/Decomposition_Optimization/Debug_3_Seg_Fault/curr_branch_before_spines.pbz2\n",
      "File size is 0.051524 MB\n",
      "segment_name before cgal = L0_980\n"
     ]
    },
    {
     "data": {
      "application/vnd.jupyter.widget-view+json": {
       "model_id": "c9178e3608e245749d980bfb5b5762ad",
       "version_major": 2,
       "version_minor": 0
      },
      "text/plain": [
       "HBox(children=(FloatProgress(value=0.0, max=6.0), HTML(value='')))"
      ]
     },
     "metadata": {},
     "output_type": "display_data"
    },
    {
     "name": "stdout",
     "output_type": "stream",
     "text": [
      "\n",
      "Saved object at /notebooks/Auto_Proofreading/Decomposition_Optimization/Debug_3_Seg_Fault/curr_branch_before_spines.pbz2\n",
      "File size is 0.087641 MB\n",
      "segment_name before cgal = L0_983\n"
     ]
    },
    {
     "data": {
      "application/vnd.jupyter.widget-view+json": {
       "model_id": "f3591e105de74f77990ed7cead24dc7a",
       "version_major": 2,
       "version_minor": 0
      },
      "text/plain": [
       "HBox(children=(FloatProgress(value=0.0, max=4.0), HTML(value='')))"
      ]
     },
     "metadata": {},
     "output_type": "display_data"
    },
    {
     "name": "stdout",
     "output_type": "stream",
     "text": [
      "\n",
      "Saved object at /notebooks/Auto_Proofreading/Decomposition_Optimization/Debug_3_Seg_Fault/curr_branch_before_spines.pbz2\n",
      "File size is 0.314731 MB\n",
      "segment_name before cgal = L0_996\n"
     ]
    },
    {
     "data": {
      "application/vnd.jupyter.widget-view+json": {
       "model_id": "a4d847232491400396cb37a221b97a40",
       "version_major": 2,
       "version_minor": 0
      },
      "text/plain": [
       "HBox(children=(FloatProgress(value=0.0, max=25.0), HTML(value='')))"
      ]
     },
     "metadata": {},
     "output_type": "display_data"
    },
    {
     "name": "stdout",
     "output_type": "stream",
     "text": [
      "\n",
      "Saved object at /notebooks/Auto_Proofreading/Decomposition_Optimization/Debug_3_Seg_Fault/curr_branch_before_spines.pbz2\n",
      "File size is 0.01097 MB\n",
      "segment_name before cgal = L0_998\n"
     ]
    },
    {
     "data": {
      "application/vnd.jupyter.widget-view+json": {
       "model_id": "976226b21eb64c2a97c9ffbc8b44921e",
       "version_major": 2,
       "version_minor": 0
      },
      "text/plain": [
       "HBox(children=(FloatProgress(value=0.0, max=5.0), HTML(value='')))"
      ]
     },
     "metadata": {},
     "output_type": "display_data"
    },
    {
     "name": "stdout",
     "output_type": "stream",
     "text": [
      "\n",
      "Saved object at /notebooks/Auto_Proofreading/Decomposition_Optimization/Debug_3_Seg_Fault/curr_branch_before_spines.pbz2\n",
      "File size is 0.486405 MB\n",
      "segment_name before cgal = L0_999\n"
     ]
    },
    {
     "data": {
      "application/vnd.jupyter.widget-view+json": {
       "model_id": "b47046ec64a842738d739e55070ab65f",
       "version_major": 2,
       "version_minor": 0
      },
      "text/plain": [
       "HBox(children=(FloatProgress(value=0.0, max=19.0), HTML(value='')))"
      ]
     },
     "metadata": {},
     "output_type": "display_data"
    },
    {
     "name": "stdout",
     "output_type": "stream",
     "text": [
      "\n",
      "Saved object at /notebooks/Auto_Proofreading/Decomposition_Optimization/Debug_3_Seg_Fault/curr_branch_before_spines.pbz2\n",
      "File size is 0.834048 MB\n",
      "segment_name before cgal = L0_1039\n"
     ]
    },
    {
     "data": {
      "application/vnd.jupyter.widget-view+json": {
       "model_id": "ac1a654d5a79409e8926f67fa2816328",
       "version_major": 2,
       "version_minor": 0
      },
      "text/plain": [
       "HBox(children=(FloatProgress(value=0.0, max=47.0), HTML(value='')))"
      ]
     },
     "metadata": {},
     "output_type": "display_data"
    },
    {
     "name": "stdout",
     "output_type": "stream",
     "text": [
      "\n",
      "Saved object at /notebooks/Auto_Proofreading/Decomposition_Optimization/Debug_3_Seg_Fault/curr_branch_before_spines.pbz2\n",
      "File size is 0.078373 MB\n",
      "segment_name before cgal = L0_1077\n"
     ]
    },
    {
     "data": {
      "application/vnd.jupyter.widget-view+json": {
       "model_id": "e526fca3700c4c668ebeca442ecc4292",
       "version_major": 2,
       "version_minor": 0
      },
      "text/plain": [
       "HBox(children=(FloatProgress(value=0.0, max=11.0), HTML(value='')))"
      ]
     },
     "metadata": {},
     "output_type": "display_data"
    },
    {
     "name": "stdout",
     "output_type": "stream",
     "text": [
      "\n",
      "Saved object at /notebooks/Auto_Proofreading/Decomposition_Optimization/Debug_3_Seg_Fault/curr_branch_before_spines.pbz2\n",
      "File size is 0.253523 MB\n",
      "segment_name before cgal = L0_1088\n"
     ]
    },
    {
     "data": {
      "application/vnd.jupyter.widget-view+json": {
       "model_id": "fa51e3a87fba48d896b300b1a216dbf1",
       "version_major": 2,
       "version_minor": 0
      },
      "text/plain": [
       "HBox(children=(FloatProgress(value=0.0, max=11.0), HTML(value='')))"
      ]
     },
     "metadata": {},
     "output_type": "display_data"
    },
    {
     "name": "stdout",
     "output_type": "stream",
     "text": [
      "\n",
      "Saved object at /notebooks/Auto_Proofreading/Decomposition_Optimization/Debug_3_Seg_Fault/curr_branch_before_spines.pbz2\n",
      "File size is 0.700514 MB\n",
      "segment_name before cgal = L1_0\n"
     ]
    },
    {
     "data": {
      "application/vnd.jupyter.widget-view+json": {
       "model_id": "61755a8d6dd34771aac54feb0b0f8c8a",
       "version_major": 2,
       "version_minor": 0
      },
      "text/plain": [
       "HBox(children=(FloatProgress(value=0.0, max=43.0), HTML(value='')))"
      ]
     },
     "metadata": {},
     "output_type": "display_data"
    },
    {
     "name": "stdout",
     "output_type": "stream",
     "text": [
      "\n",
      "Saved object at /notebooks/Auto_Proofreading/Decomposition_Optimization/Debug_3_Seg_Fault/curr_branch_before_spines.pbz2\n",
      "File size is 0.906464 MB\n",
      "segment_name before cgal = L1_1\n"
     ]
    },
    {
     "data": {
      "application/vnd.jupyter.widget-view+json": {
       "model_id": "0abf877a3b814dedb11d11d3dae298f8",
       "version_major": 2,
       "version_minor": 0
      },
      "text/plain": [
       "HBox(children=(FloatProgress(value=0.0, max=28.0), HTML(value='')))"
      ]
     },
     "metadata": {},
     "output_type": "display_data"
    },
    {
     "name": "stdout",
     "output_type": "stream",
     "text": [
      "\n",
      "Saved object at /notebooks/Auto_Proofreading/Decomposition_Optimization/Debug_3_Seg_Fault/curr_branch_before_spines.pbz2\n",
      "File size is 0.160528 MB\n",
      "segment_name before cgal = L1_2\n"
     ]
    },
    {
     "data": {
      "application/vnd.jupyter.widget-view+json": {
       "model_id": "52ab4119e2154270a2d95ad02ed1f384",
       "version_major": 2,
       "version_minor": 0
      },
      "text/plain": [
       "HBox(children=(FloatProgress(value=0.0, max=27.0), HTML(value='')))"
      ]
     },
     "metadata": {},
     "output_type": "display_data"
    },
    {
     "name": "stdout",
     "output_type": "stream",
     "text": [
      "\n",
      "Saved object at /notebooks/Auto_Proofreading/Decomposition_Optimization/Debug_3_Seg_Fault/curr_branch_before_spines.pbz2\n",
      "File size is 0.073885 MB\n",
      "segment_name before cgal = L1_3\n"
     ]
    },
    {
     "data": {
      "application/vnd.jupyter.widget-view+json": {
       "model_id": "6558fc71464c494d8161cb9d947f3114",
       "version_major": 2,
       "version_minor": 0
      },
      "text/plain": [
       "HBox(children=(FloatProgress(value=0.0, max=18.0), HTML(value='')))"
      ]
     },
     "metadata": {},
     "output_type": "display_data"
    },
    {
     "name": "stdout",
     "output_type": "stream",
     "text": [
      "\n",
      "Saved object at /notebooks/Auto_Proofreading/Decomposition_Optimization/Debug_3_Seg_Fault/curr_branch_before_spines.pbz2\n",
      "File size is 0.233951 MB\n",
      "segment_name before cgal = L1_4\n"
     ]
    },
    {
     "data": {
      "application/vnd.jupyter.widget-view+json": {
       "model_id": "50924b3e774a40b98b95b1f702874cbc",
       "version_major": 2,
       "version_minor": 0
      },
      "text/plain": [
       "HBox(children=(FloatProgress(value=0.0, max=36.0), HTML(value='')))"
      ]
     },
     "metadata": {},
     "output_type": "display_data"
    },
    {
     "name": "stdout",
     "output_type": "stream",
     "text": [
      "\n",
      "Saved object at /notebooks/Auto_Proofreading/Decomposition_Optimization/Debug_3_Seg_Fault/curr_branch_before_spines.pbz2\n",
      "File size is 1.089442 MB\n",
      "segment_name before cgal = L1_5\n"
     ]
    },
    {
     "data": {
      "application/vnd.jupyter.widget-view+json": {
       "model_id": "a767df6d9b3b461894cc993bd8492106",
       "version_major": 2,
       "version_minor": 0
      },
      "text/plain": [
       "HBox(children=(FloatProgress(value=0.0, max=47.0), HTML(value='')))"
      ]
     },
     "metadata": {},
     "output_type": "display_data"
    },
    {
     "name": "stdout",
     "output_type": "stream",
     "text": [
      "\n",
      "Saved object at /notebooks/Auto_Proofreading/Decomposition_Optimization/Debug_3_Seg_Fault/curr_branch_before_spines.pbz2\n",
      "File size is 0.944456 MB\n",
      "segment_name before cgal = L1_6\n"
     ]
    },
    {
     "data": {
      "application/vnd.jupyter.widget-view+json": {
       "model_id": "6ccb83eec71145afb27339d1aa6e291a",
       "version_major": 2,
       "version_minor": 0
      },
      "text/plain": [
       "HBox(children=(FloatProgress(value=0.0, max=33.0), HTML(value='')))"
      ]
     },
     "metadata": {},
     "output_type": "display_data"
    },
    {
     "name": "stdout",
     "output_type": "stream",
     "text": [
      "\n",
      "Saved object at /notebooks/Auto_Proofreading/Decomposition_Optimization/Debug_3_Seg_Fault/curr_branch_before_spines.pbz2\n",
      "File size is 0.421029 MB\n",
      "segment_name before cgal = L1_7\n"
     ]
    },
    {
     "data": {
      "application/vnd.jupyter.widget-view+json": {
       "model_id": "95a5ee65bb0c412497cc874cbaba0845",
       "version_major": 2,
       "version_minor": 0
      },
      "text/plain": [
       "HBox(children=(FloatProgress(value=0.0, max=22.0), HTML(value='')))"
      ]
     },
     "metadata": {},
     "output_type": "display_data"
    },
    {
     "name": "stdout",
     "output_type": "stream",
     "text": [
      "\n",
      "Saved object at /notebooks/Auto_Proofreading/Decomposition_Optimization/Debug_3_Seg_Fault/curr_branch_before_spines.pbz2\n",
      "File size is 1.321132 MB\n",
      "segment_name before cgal = L1_8\n"
     ]
    },
    {
     "data": {
      "application/vnd.jupyter.widget-view+json": {
       "model_id": "9ed0fbfdf6bd47c5a717a216c4ffa303",
       "version_major": 2,
       "version_minor": 0
      },
      "text/plain": [
       "HBox(children=(FloatProgress(value=0.0, max=51.0), HTML(value='')))"
      ]
     },
     "metadata": {},
     "output_type": "display_data"
    },
    {
     "name": "stdout",
     "output_type": "stream",
     "text": [
      "\n",
      "Saved object at /notebooks/Auto_Proofreading/Decomposition_Optimization/Debug_3_Seg_Fault/curr_branch_before_spines.pbz2\n",
      "File size is 1.271554 MB\n",
      "segment_name before cgal = L1_9\n"
     ]
    },
    {
     "data": {
      "application/vnd.jupyter.widget-view+json": {
       "model_id": "4ef4cd30d0d54ba491fd5f88e10811d9",
       "version_major": 2,
       "version_minor": 0
      },
      "text/plain": [
       "HBox(children=(FloatProgress(value=0.0, max=41.0), HTML(value='')))"
      ]
     },
     "metadata": {},
     "output_type": "display_data"
    },
    {
     "name": "stdout",
     "output_type": "stream",
     "text": [
      "\n",
      "Saved object at /notebooks/Auto_Proofreading/Decomposition_Optimization/Debug_3_Seg_Fault/curr_branch_before_spines.pbz2\n",
      "File size is 1.179564 MB\n",
      "segment_name before cgal = L1_10\n"
     ]
    },
    {
     "data": {
      "application/vnd.jupyter.widget-view+json": {
       "model_id": "59768331c5654274b6411dcb261dc547",
       "version_major": 2,
       "version_minor": 0
      },
      "text/plain": [
       "HBox(children=(FloatProgress(value=0.0, max=27.0), HTML(value='')))"
      ]
     },
     "metadata": {},
     "output_type": "display_data"
    },
    {
     "name": "stdout",
     "output_type": "stream",
     "text": [
      "\n",
      "Saved object at /notebooks/Auto_Proofreading/Decomposition_Optimization/Debug_3_Seg_Fault/curr_branch_before_spines.pbz2\n",
      "File size is 0.728204 MB\n",
      "segment_name before cgal = L1_11\n"
     ]
    },
    {
     "data": {
      "application/vnd.jupyter.widget-view+json": {
       "model_id": "60f7144463164493856d5b5c4e233c3e",
       "version_major": 2,
       "version_minor": 0
      },
      "text/plain": [
       "HBox(children=(FloatProgress(value=0.0, max=53.0), HTML(value='')))"
      ]
     },
     "metadata": {},
     "output_type": "display_data"
    },
    {
     "name": "stdout",
     "output_type": "stream",
     "text": [
      "\n",
      "Saved object at /notebooks/Auto_Proofreading/Decomposition_Optimization/Debug_3_Seg_Fault/curr_branch_before_spines.pbz2\n",
      "File size is 1.800995 MB\n",
      "segment_name before cgal = L1_12\n"
     ]
    },
    {
     "data": {
      "application/vnd.jupyter.widget-view+json": {
       "model_id": "d1cf670b9973473bbb22aff495093a32",
       "version_major": 2,
       "version_minor": 0
      },
      "text/plain": [
       "HBox(children=(FloatProgress(value=0.0, max=70.0), HTML(value='')))"
      ]
     },
     "metadata": {},
     "output_type": "display_data"
    },
    {
     "name": "stdout",
     "output_type": "stream",
     "text": [
      "\n",
      "Saved object at /notebooks/Auto_Proofreading/Decomposition_Optimization/Debug_3_Seg_Fault/curr_branch_before_spines.pbz2\n",
      "File size is 0.816602 MB\n",
      "segment_name before cgal = L1_14\n"
     ]
    },
    {
     "data": {
      "application/vnd.jupyter.widget-view+json": {
       "model_id": "d2e98bf66ba04abd94952be1f4963f79",
       "version_major": 2,
       "version_minor": 0
      },
      "text/plain": [
       "HBox(children=(FloatProgress(value=0.0, max=37.0), HTML(value='')))"
      ]
     },
     "metadata": {},
     "output_type": "display_data"
    },
    {
     "name": "stdout",
     "output_type": "stream",
     "text": [
      "\n",
      "Saved object at /notebooks/Auto_Proofreading/Decomposition_Optimization/Debug_3_Seg_Fault/curr_branch_before_spines.pbz2\n",
      "File size is 0.15636 MB\n",
      "segment_name before cgal = L1_15\n"
     ]
    },
    {
     "data": {
      "application/vnd.jupyter.widget-view+json": {
       "model_id": "0a90723283724a4496f213be4acad033",
       "version_major": 2,
       "version_minor": 0
      },
      "text/plain": [
       "HBox(children=(FloatProgress(value=0.0, max=8.0), HTML(value='')))"
      ]
     },
     "metadata": {},
     "output_type": "display_data"
    },
    {
     "name": "stdout",
     "output_type": "stream",
     "text": [
      "\n",
      "Saved object at /notebooks/Auto_Proofreading/Decomposition_Optimization/Debug_3_Seg_Fault/curr_branch_before_spines.pbz2\n",
      "File size is 0.684488 MB\n",
      "segment_name before cgal = L1_16\n"
     ]
    },
    {
     "data": {
      "application/vnd.jupyter.widget-view+json": {
       "model_id": "22f3d5f90a3745b7b2dc155f6cd4de76",
       "version_major": 2,
       "version_minor": 0
      },
      "text/plain": [
       "HBox(children=(FloatProgress(value=0.0, max=23.0), HTML(value='')))"
      ]
     },
     "metadata": {},
     "output_type": "display_data"
    },
    {
     "name": "stdout",
     "output_type": "stream",
     "text": [
      "\n",
      "Saved object at /notebooks/Auto_Proofreading/Decomposition_Optimization/Debug_3_Seg_Fault/curr_branch_before_spines.pbz2\n",
      "File size is 0.478866 MB\n",
      "segment_name before cgal = L1_20\n"
     ]
    },
    {
     "data": {
      "application/vnd.jupyter.widget-view+json": {
       "model_id": "19449714c66841238302506d2aff97e6",
       "version_major": 2,
       "version_minor": 0
      },
      "text/plain": [
       "HBox(children=(FloatProgress(value=0.0, max=32.0), HTML(value='')))"
      ]
     },
     "metadata": {},
     "output_type": "display_data"
    },
    {
     "name": "stdout",
     "output_type": "stream",
     "text": [
      "\n",
      "Saved object at /notebooks/Auto_Proofreading/Decomposition_Optimization/Debug_3_Seg_Fault/curr_branch_before_spines.pbz2\n",
      "File size is 0.180511 MB\n",
      "segment_name before cgal = L1_21\n"
     ]
    },
    {
     "data": {
      "application/vnd.jupyter.widget-view+json": {
       "model_id": "6f38a3559eb84ae3ab612fc8359b3653",
       "version_major": 2,
       "version_minor": 0
      },
      "text/plain": [
       "HBox(children=(FloatProgress(value=0.0, max=10.0), HTML(value='')))"
      ]
     },
     "metadata": {},
     "output_type": "display_data"
    },
    {
     "name": "stdout",
     "output_type": "stream",
     "text": [
      "\n",
      "Saved object at /notebooks/Auto_Proofreading/Decomposition_Optimization/Debug_3_Seg_Fault/curr_branch_before_spines.pbz2\n",
      "File size is 0.897647 MB\n",
      "segment_name before cgal = L1_22\n"
     ]
    },
    {
     "data": {
      "application/vnd.jupyter.widget-view+json": {
       "model_id": "8f8fe71f695247978b35a32d345778ae",
       "version_major": 2,
       "version_minor": 0
      },
      "text/plain": [
       "HBox(children=(FloatProgress(value=0.0, max=72.0), HTML(value='')))"
      ]
     },
     "metadata": {},
     "output_type": "display_data"
    },
    {
     "name": "stdout",
     "output_type": "stream",
     "text": [
      "\n",
      "Saved object at /notebooks/Auto_Proofreading/Decomposition_Optimization/Debug_3_Seg_Fault/curr_branch_before_spines.pbz2\n",
      "File size is 2.218956 MB\n",
      "segment_name before cgal = L2_2\n"
     ]
    },
    {
     "data": {
      "application/vnd.jupyter.widget-view+json": {
       "model_id": "c77910c1cc4d44e083a03be2d542ad34",
       "version_major": 2,
       "version_minor": 0
      },
      "text/plain": [
       "HBox(children=(FloatProgress(value=0.0, max=84.0), HTML(value='')))"
      ]
     },
     "metadata": {},
     "output_type": "display_data"
    },
    {
     "name": "stdout",
     "output_type": "stream",
     "text": [
      "\n",
      "Saved object at /notebooks/Auto_Proofreading/Decomposition_Optimization/Debug_3_Seg_Fault/curr_branch_before_spines.pbz2\n",
      "File size is 0.617205 MB\n",
      "segment_name before cgal = L2_3\n"
     ]
    },
    {
     "data": {
      "application/vnd.jupyter.widget-view+json": {
       "model_id": "4191a3bdfc4145aa8223c2c9cd0e868a",
       "version_major": 2,
       "version_minor": 0
      },
      "text/plain": [
       "HBox(children=(FloatProgress(value=0.0, max=14.0), HTML(value='')))"
      ]
     },
     "metadata": {},
     "output_type": "display_data"
    },
    {
     "name": "stdout",
     "output_type": "stream",
     "text": [
      "\n",
      "Saved object at /notebooks/Auto_Proofreading/Decomposition_Optimization/Debug_3_Seg_Fault/curr_branch_before_spines.pbz2\n",
      "File size is 0.456538 MB\n",
      "segment_name before cgal = L2_4\n"
     ]
    },
    {
     "data": {
      "application/vnd.jupyter.widget-view+json": {
       "model_id": "c950e6bd22fb402b97d6de4558754539",
       "version_major": 2,
       "version_minor": 0
      },
      "text/plain": [
       "HBox(children=(FloatProgress(value=0.0, max=28.0), HTML(value='')))"
      ]
     },
     "metadata": {},
     "output_type": "display_data"
    },
    {
     "name": "stdout",
     "output_type": "stream",
     "text": [
      "\n",
      "Saved object at /notebooks/Auto_Proofreading/Decomposition_Optimization/Debug_3_Seg_Fault/curr_branch_before_spines.pbz2\n",
      "File size is 0.659115 MB\n",
      "segment_name before cgal = L2_5\n"
     ]
    },
    {
     "data": {
      "application/vnd.jupyter.widget-view+json": {
       "model_id": "d82bd37473a041708a7cb33e904161e5",
       "version_major": 2,
       "version_minor": 0
      },
      "text/plain": [
       "HBox(children=(FloatProgress(value=0.0, max=29.0), HTML(value='')))"
      ]
     },
     "metadata": {},
     "output_type": "display_data"
    },
    {
     "name": "stdout",
     "output_type": "stream",
     "text": [
      "\n",
      "Saved object at /notebooks/Auto_Proofreading/Decomposition_Optimization/Debug_3_Seg_Fault/curr_branch_before_spines.pbz2\n",
      "File size is 1.579196 MB\n",
      "segment_name before cgal = L2_6\n"
     ]
    },
    {
     "data": {
      "application/vnd.jupyter.widget-view+json": {
       "model_id": "5d3e3beccc3141a7ab68fa3bc7f9b9e9",
       "version_major": 2,
       "version_minor": 0
      },
      "text/plain": [
       "HBox(children=(FloatProgress(value=0.0, max=37.0), HTML(value='')))"
      ]
     },
     "metadata": {},
     "output_type": "display_data"
    },
    {
     "name": "stdout",
     "output_type": "stream",
     "text": [
      "\n",
      "Saved object at /notebooks/Auto_Proofreading/Decomposition_Optimization/Debug_3_Seg_Fault/curr_branch_before_spines.pbz2\n",
      "File size is 0.374987 MB\n",
      "segment_name before cgal = L2_7\n"
     ]
    },
    {
     "data": {
      "application/vnd.jupyter.widget-view+json": {
       "model_id": "8ed1157147414d8ca8adf65cae9ade6a",
       "version_major": 2,
       "version_minor": 0
      },
      "text/plain": [
       "HBox(children=(FloatProgress(value=0.0, max=28.0), HTML(value='')))"
      ]
     },
     "metadata": {},
     "output_type": "display_data"
    },
    {
     "name": "stdout",
     "output_type": "stream",
     "text": [
      "\n",
      "Saved object at /notebooks/Auto_Proofreading/Decomposition_Optimization/Debug_3_Seg_Fault/curr_branch_before_spines.pbz2\n",
      "File size is 0.681629 MB\n",
      "segment_name before cgal = L2_8\n"
     ]
    },
    {
     "data": {
      "application/vnd.jupyter.widget-view+json": {
       "model_id": "2386aff04f714746a11811fcb352bdb9",
       "version_major": 2,
       "version_minor": 0
      },
      "text/plain": [
       "HBox(children=(FloatProgress(value=0.0, max=17.0), HTML(value='')))"
      ]
     },
     "metadata": {},
     "output_type": "display_data"
    },
    {
     "name": "stdout",
     "output_type": "stream",
     "text": [
      "\n",
      "Saved object at /notebooks/Auto_Proofreading/Decomposition_Optimization/Debug_3_Seg_Fault/curr_branch_before_spines.pbz2\n",
      "File size is 0.511652 MB\n",
      "segment_name before cgal = L2_9\n"
     ]
    },
    {
     "data": {
      "application/vnd.jupyter.widget-view+json": {
       "model_id": "92a413e71608458c9e52b4ada3847588",
       "version_major": 2,
       "version_minor": 0
      },
      "text/plain": [
       "HBox(children=(FloatProgress(value=0.0, max=32.0), HTML(value='')))"
      ]
     },
     "metadata": {},
     "output_type": "display_data"
    },
    {
     "name": "stdout",
     "output_type": "stream",
     "text": [
      "\n",
      "Saved object at /notebooks/Auto_Proofreading/Decomposition_Optimization/Debug_3_Seg_Fault/curr_branch_before_spines.pbz2\n",
      "File size is 0.539243 MB\n",
      "segment_name before cgal = L2_10\n"
     ]
    },
    {
     "data": {
      "application/vnd.jupyter.widget-view+json": {
       "model_id": "b6132765e1c7409188d3a299470412fc",
       "version_major": 2,
       "version_minor": 0
      },
      "text/plain": [
       "HBox(children=(FloatProgress(value=0.0, max=36.0), HTML(value='')))"
      ]
     },
     "metadata": {},
     "output_type": "display_data"
    },
    {
     "name": "stdout",
     "output_type": "stream",
     "text": [
      "\n",
      "Saved object at /notebooks/Auto_Proofreading/Decomposition_Optimization/Debug_3_Seg_Fault/curr_branch_before_spines.pbz2\n",
      "File size is 0.120461 MB\n",
      "segment_name before cgal = L2_11\n"
     ]
    },
    {
     "data": {
      "application/vnd.jupyter.widget-view+json": {
       "model_id": "7ef8e471e0164ed488094cf2f05b20d8",
       "version_major": 2,
       "version_minor": 0
      },
      "text/plain": [
       "HBox(children=(FloatProgress(value=0.0, max=7.0), HTML(value='')))"
      ]
     },
     "metadata": {},
     "output_type": "display_data"
    },
    {
     "name": "stdout",
     "output_type": "stream",
     "text": [
      "\n",
      "Saved object at /notebooks/Auto_Proofreading/Decomposition_Optimization/Debug_3_Seg_Fault/curr_branch_before_spines.pbz2\n",
      "File size is 0.135316 MB\n",
      "segment_name before cgal = L2_12\n"
     ]
    },
    {
     "data": {
      "application/vnd.jupyter.widget-view+json": {
       "model_id": "6df2be8256514937832dd98723a5e451",
       "version_major": 2,
       "version_minor": 0
      },
      "text/plain": [
       "HBox(children=(FloatProgress(value=0.0, max=13.0), HTML(value='')))"
      ]
     },
     "metadata": {},
     "output_type": "display_data"
    },
    {
     "name": "stdout",
     "output_type": "stream",
     "text": [
      "\n",
      "Saved object at /notebooks/Auto_Proofreading/Decomposition_Optimization/Debug_3_Seg_Fault/curr_branch_before_spines.pbz2\n",
      "File size is 2.272574 MB\n",
      "segment_name before cgal = L3_0\n"
     ]
    },
    {
     "data": {
      "application/vnd.jupyter.widget-view+json": {
       "model_id": "2563d8fae2fe4ba0b6ad1ecc35e81377",
       "version_major": 2,
       "version_minor": 0
      },
      "text/plain": [
       "HBox(children=(FloatProgress(value=0.0, max=59.0), HTML(value='')))"
      ]
     },
     "metadata": {},
     "output_type": "display_data"
    },
    {
     "name": "stdout",
     "output_type": "stream",
     "text": [
      "\n",
      "Saved object at /notebooks/Auto_Proofreading/Decomposition_Optimization/Debug_3_Seg_Fault/curr_branch_before_spines.pbz2\n",
      "File size is 0.035261 MB\n",
      "segment_name before cgal = L3_1\n"
     ]
    },
    {
     "data": {
      "application/vnd.jupyter.widget-view+json": {
       "model_id": "14c08c2c83de49a1857e751f04cb5777",
       "version_major": 2,
       "version_minor": 0
      },
      "text/plain": [
       "HBox(children=(FloatProgress(value=0.0, max=5.0), HTML(value='')))"
      ]
     },
     "metadata": {},
     "output_type": "display_data"
    },
    {
     "name": "stdout",
     "output_type": "stream",
     "text": [
      "\n",
      "Saved object at /notebooks/Auto_Proofreading/Decomposition_Optimization/Debug_3_Seg_Fault/curr_branch_before_spines.pbz2\n",
      "File size is 0.847714 MB\n",
      "segment_name before cgal = L3_2\n"
     ]
    },
    {
     "data": {
      "application/vnd.jupyter.widget-view+json": {
       "model_id": "984951c607d2468aad6158a358aac4aa",
       "version_major": 2,
       "version_minor": 0
      },
      "text/plain": [
       "HBox(children=(FloatProgress(value=0.0, max=30.0), HTML(value='')))"
      ]
     },
     "metadata": {},
     "output_type": "display_data"
    },
    {
     "name": "stdout",
     "output_type": "stream",
     "text": [
      "\n",
      "Saved object at /notebooks/Auto_Proofreading/Decomposition_Optimization/Debug_3_Seg_Fault/curr_branch_before_spines.pbz2\n",
      "File size is 0.47191 MB\n",
      "segment_name before cgal = L3_4\n"
     ]
    },
    {
     "data": {
      "application/vnd.jupyter.widget-view+json": {
       "model_id": "1e9628bdb9c84e48bd90782241871965",
       "version_major": 2,
       "version_minor": 0
      },
      "text/plain": [
       "HBox(children=(FloatProgress(value=0.0, max=29.0), HTML(value='')))"
      ]
     },
     "metadata": {},
     "output_type": "display_data"
    },
    {
     "name": "stdout",
     "output_type": "stream",
     "text": [
      "\n",
      "Saved object at /notebooks/Auto_Proofreading/Decomposition_Optimization/Debug_3_Seg_Fault/curr_branch_before_spines.pbz2\n",
      "File size is 0.375831 MB\n",
      "segment_name before cgal = L3_5\n"
     ]
    },
    {
     "data": {
      "application/vnd.jupyter.widget-view+json": {
       "model_id": "3783baabc8944b81a45f779b0dab75a8",
       "version_major": 2,
       "version_minor": 0
      },
      "text/plain": [
       "HBox(children=(FloatProgress(value=0.0, max=30.0), HTML(value='')))"
      ]
     },
     "metadata": {},
     "output_type": "display_data"
    },
    {
     "name": "stdout",
     "output_type": "stream",
     "text": [
      "\n",
      "Saved object at /notebooks/Auto_Proofreading/Decomposition_Optimization/Debug_3_Seg_Fault/curr_branch_before_spines.pbz2\n",
      "File size is 0.069653 MB\n",
      "segment_name before cgal = L3_6\n"
     ]
    },
    {
     "data": {
      "application/vnd.jupyter.widget-view+json": {
       "model_id": "19e48d58860d4e36bdf4139643547933",
       "version_major": 2,
       "version_minor": 0
      },
      "text/plain": [
       "HBox(children=(FloatProgress(value=0.0, max=16.0), HTML(value='')))"
      ]
     },
     "metadata": {},
     "output_type": "display_data"
    },
    {
     "name": "stdout",
     "output_type": "stream",
     "text": [
      "\n",
      "Saved object at /notebooks/Auto_Proofreading/Decomposition_Optimization/Debug_3_Seg_Fault/curr_branch_before_spines.pbz2\n",
      "File size is 0.788486 MB\n",
      "segment_name before cgal = L3_7\n"
     ]
    },
    {
     "data": {
      "application/vnd.jupyter.widget-view+json": {
       "model_id": "8381b783a275401ca0f2cf01d61d9b56",
       "version_major": 2,
       "version_minor": 0
      },
      "text/plain": [
       "HBox(children=(FloatProgress(value=0.0, max=41.0), HTML(value='')))"
      ]
     },
     "metadata": {},
     "output_type": "display_data"
    },
    {
     "name": "stdout",
     "output_type": "stream",
     "text": [
      "\n",
      "Saved object at /notebooks/Auto_Proofreading/Decomposition_Optimization/Debug_3_Seg_Fault/curr_branch_before_spines.pbz2\n",
      "File size is 0.158802 MB\n",
      "segment_name before cgal = L3_9\n"
     ]
    },
    {
     "data": {
      "application/vnd.jupyter.widget-view+json": {
       "model_id": "ea769d771fe54cbc81527a6b0a472b4c",
       "version_major": 2,
       "version_minor": 0
      },
      "text/plain": [
       "HBox(children=(FloatProgress(value=0.0, max=23.0), HTML(value='')))"
      ]
     },
     "metadata": {},
     "output_type": "display_data"
    },
    {
     "name": "stdout",
     "output_type": "stream",
     "text": [
      "\n",
      "Saved object at /notebooks/Auto_Proofreading/Decomposition_Optimization/Debug_3_Seg_Fault/curr_branch_before_spines.pbz2\n",
      "File size is 0.033181 MB\n",
      "segment_name before cgal = L3_10\n"
     ]
    },
    {
     "data": {
      "application/vnd.jupyter.widget-view+json": {
       "model_id": "2712d9043970440781b3dab2f650534e",
       "version_major": 2,
       "version_minor": 0
      },
      "text/plain": [
       "HBox(children=(FloatProgress(value=0.0, max=7.0), HTML(value='')))"
      ]
     },
     "metadata": {},
     "output_type": "display_data"
    },
    {
     "name": "stdout",
     "output_type": "stream",
     "text": [
      "\n",
      "Saved object at /notebooks/Auto_Proofreading/Decomposition_Optimization/Debug_3_Seg_Fault/curr_branch_before_spines.pbz2\n",
      "File size is 0.310091 MB\n",
      "segment_name before cgal = L3_11\n"
     ]
    },
    {
     "data": {
      "application/vnd.jupyter.widget-view+json": {
       "model_id": "f05334c7951843b9808c32340f1dc423",
       "version_major": 2,
       "version_minor": 0
      },
      "text/plain": [
       "HBox(children=(FloatProgress(value=0.0, max=18.0), HTML(value='')))"
      ]
     },
     "metadata": {},
     "output_type": "display_data"
    },
    {
     "name": "stdout",
     "output_type": "stream",
     "text": [
      "\n",
      "Saved object at /notebooks/Auto_Proofreading/Decomposition_Optimization/Debug_3_Seg_Fault/curr_branch_before_spines.pbz2\n",
      "File size is 1.017626 MB\n",
      "segment_name before cgal = L3_12\n"
     ]
    },
    {
     "data": {
      "application/vnd.jupyter.widget-view+json": {
       "model_id": "e6cb21f2376e4db7bd09310c217c367c",
       "version_major": 2,
       "version_minor": 0
      },
      "text/plain": [
       "HBox(children=(FloatProgress(value=0.0, max=54.0), HTML(value='')))"
      ]
     },
     "metadata": {},
     "output_type": "display_data"
    },
    {
     "name": "stdout",
     "output_type": "stream",
     "text": [
      "\n",
      "Saved object at /notebooks/Auto_Proofreading/Decomposition_Optimization/Debug_3_Seg_Fault/curr_branch_before_spines.pbz2\n",
      "File size is 0.100186 MB\n",
      "segment_name before cgal = L3_13\n"
     ]
    },
    {
     "data": {
      "application/vnd.jupyter.widget-view+json": {
       "model_id": "b9958936b53c4de1bb188ff0e2726ad7",
       "version_major": 2,
       "version_minor": 0
      },
      "text/plain": [
       "HBox(children=(FloatProgress(value=0.0, max=17.0), HTML(value='')))"
      ]
     },
     "metadata": {},
     "output_type": "display_data"
    },
    {
     "name": "stdout",
     "output_type": "stream",
     "text": [
      "\n",
      "Saved object at /notebooks/Auto_Proofreading/Decomposition_Optimization/Debug_3_Seg_Fault/curr_branch_before_spines.pbz2\n",
      "File size is 1.082531 MB\n",
      "segment_name before cgal = L4_0\n"
     ]
    },
    {
     "data": {
      "application/vnd.jupyter.widget-view+json": {
       "model_id": "7fa88f0a0b5047598c0de23a2ad1fd6e",
       "version_major": 2,
       "version_minor": 0
      },
      "text/plain": [
       "HBox(children=(FloatProgress(value=0.0, max=40.0), HTML(value='')))"
      ]
     },
     "metadata": {},
     "output_type": "display_data"
    },
    {
     "name": "stdout",
     "output_type": "stream",
     "text": [
      "\n",
      "Saved object at /notebooks/Auto_Proofreading/Decomposition_Optimization/Debug_3_Seg_Fault/curr_branch_before_spines.pbz2\n",
      "File size is 1.14215 MB\n",
      "segment_name before cgal = L4_1\n"
     ]
    },
    {
     "data": {
      "application/vnd.jupyter.widget-view+json": {
       "model_id": "1d93a8fdb0884057864b38c1857326ed",
       "version_major": 2,
       "version_minor": 0
      },
      "text/plain": [
       "HBox(children=(FloatProgress(value=0.0, max=97.0), HTML(value='')))"
      ]
     },
     "metadata": {},
     "output_type": "display_data"
    },
    {
     "name": "stdout",
     "output_type": "stream",
     "text": [
      "\n",
      "Saved object at /notebooks/Auto_Proofreading/Decomposition_Optimization/Debug_3_Seg_Fault/curr_branch_before_spines.pbz2\n",
      "File size is 1.823891 MB\n",
      "segment_name before cgal = L4_2\n"
     ]
    },
    {
     "data": {
      "application/vnd.jupyter.widget-view+json": {
       "model_id": "94a4dc3f3ba44f2e8afed6cfb6be4833",
       "version_major": 2,
       "version_minor": 0
      },
      "text/plain": [
       "HBox(children=(FloatProgress(value=0.0, max=93.0), HTML(value='')))"
      ]
     },
     "metadata": {},
     "output_type": "display_data"
    },
    {
     "name": "stdout",
     "output_type": "stream",
     "text": [
      "\n",
      "Saved object at /notebooks/Auto_Proofreading/Decomposition_Optimization/Debug_3_Seg_Fault/curr_branch_before_spines.pbz2\n",
      "File size is 0.166879 MB\n",
      "segment_name before cgal = L4_3\n"
     ]
    },
    {
     "data": {
      "application/vnd.jupyter.widget-view+json": {
       "model_id": "be19080691d44174a7834e9e56b7c8de",
       "version_major": 2,
       "version_minor": 0
      },
      "text/plain": [
       "HBox(children=(FloatProgress(value=0.0, max=20.0), HTML(value='')))"
      ]
     },
     "metadata": {},
     "output_type": "display_data"
    },
    {
     "name": "stdout",
     "output_type": "stream",
     "text": [
      "\n",
      "Saved object at /notebooks/Auto_Proofreading/Decomposition_Optimization/Debug_3_Seg_Fault/curr_branch_before_spines.pbz2\n",
      "File size is 0.06178 MB\n",
      "segment_name before cgal = L4_4\n"
     ]
    },
    {
     "data": {
      "application/vnd.jupyter.widget-view+json": {
       "model_id": "adad9c34760a4621a0625bbfe0b62ac2",
       "version_major": 2,
       "version_minor": 0
      },
      "text/plain": [
       "HBox(children=(FloatProgress(value=0.0, max=9.0), HTML(value='')))"
      ]
     },
     "metadata": {},
     "output_type": "display_data"
    },
    {
     "name": "stdout",
     "output_type": "stream",
     "text": [
      "\n",
      "Saved object at /notebooks/Auto_Proofreading/Decomposition_Optimization/Debug_3_Seg_Fault/curr_branch_before_spines.pbz2\n",
      "File size is 0.486737 MB\n",
      "segment_name before cgal = L4_5\n"
     ]
    },
    {
     "data": {
      "application/vnd.jupyter.widget-view+json": {
       "model_id": "46511c8eae9c4826b27704da87505117",
       "version_major": 2,
       "version_minor": 0
      },
      "text/plain": [
       "HBox(children=(FloatProgress(value=0.0, max=28.0), HTML(value='')))"
      ]
     },
     "metadata": {},
     "output_type": "display_data"
    },
    {
     "name": "stdout",
     "output_type": "stream",
     "text": [
      "\n",
      "Saved object at /notebooks/Auto_Proofreading/Decomposition_Optimization/Debug_3_Seg_Fault/curr_branch_before_spines.pbz2\n",
      "File size is 1.765173 MB\n",
      "segment_name before cgal = L4_6\n"
     ]
    },
    {
     "data": {
      "application/vnd.jupyter.widget-view+json": {
       "model_id": "b59851a4a5ee40b7ada2c338134dce2b",
       "version_major": 2,
       "version_minor": 0
      },
      "text/plain": [
       "HBox(children=(FloatProgress(value=0.0, max=99.0), HTML(value='')))"
      ]
     },
     "metadata": {},
     "output_type": "display_data"
    },
    {
     "name": "stdout",
     "output_type": "stream",
     "text": [
      "\n",
      "Saved object at /notebooks/Auto_Proofreading/Decomposition_Optimization/Debug_3_Seg_Fault/curr_branch_before_spines.pbz2\n",
      "File size is 0.539329 MB\n",
      "segment_name before cgal = L4_7\n"
     ]
    },
    {
     "data": {
      "application/vnd.jupyter.widget-view+json": {
       "model_id": "5053170e301c47e0a64418c7de2548e0",
       "version_major": 2,
       "version_minor": 0
      },
      "text/plain": [
       "HBox(children=(FloatProgress(value=0.0, max=28.0), HTML(value='')))"
      ]
     },
     "metadata": {},
     "output_type": "display_data"
    },
    {
     "name": "stdout",
     "output_type": "stream",
     "text": [
      "\n",
      "Saved object at /notebooks/Auto_Proofreading/Decomposition_Optimization/Debug_3_Seg_Fault/curr_branch_before_spines.pbz2\n",
      "File size is 0.161893 MB\n",
      "segment_name before cgal = L5_0\n"
     ]
    },
    {
     "data": {
      "application/vnd.jupyter.widget-view+json": {
       "model_id": "297766ceb89442caac98ad021cc3405d",
       "version_major": 2,
       "version_minor": 0
      },
      "text/plain": [
       "HBox(children=(FloatProgress(value=0.0, max=12.0), HTML(value='')))"
      ]
     },
     "metadata": {},
     "output_type": "display_data"
    },
    {
     "name": "stdout",
     "output_type": "stream",
     "text": [
      "\n",
      "Saved object at /notebooks/Auto_Proofreading/Decomposition_Optimization/Debug_3_Seg_Fault/curr_branch_before_spines.pbz2\n",
      "File size is 1.168728 MB\n",
      "segment_name before cgal = L5_2\n"
     ]
    },
    {
     "data": {
      "application/vnd.jupyter.widget-view+json": {
       "model_id": "9a4b5f5aed074e5e9e83b96aaad7250e",
       "version_major": 2,
       "version_minor": 0
      },
      "text/plain": [
       "HBox(children=(FloatProgress(value=0.0, max=64.0), HTML(value='')))"
      ]
     },
     "metadata": {},
     "output_type": "display_data"
    },
    {
     "name": "stdout",
     "output_type": "stream",
     "text": [
      "\n",
      "Saved object at /notebooks/Auto_Proofreading/Decomposition_Optimization/Debug_3_Seg_Fault/curr_branch_before_spines.pbz2\n",
      "File size is 1.011345 MB\n",
      "segment_name before cgal = L5_3\n"
     ]
    },
    {
     "data": {
      "application/vnd.jupyter.widget-view+json": {
       "model_id": "227e869581e346ba8107e1559c5cd397",
       "version_major": 2,
       "version_minor": 0
      },
      "text/plain": [
       "HBox(children=(FloatProgress(value=0.0, max=42.0), HTML(value='')))"
      ]
     },
     "metadata": {},
     "output_type": "display_data"
    },
    {
     "name": "stdout",
     "output_type": "stream",
     "text": [
      "\n",
      "Saved object at /notebooks/Auto_Proofreading/Decomposition_Optimization/Debug_3_Seg_Fault/curr_branch_before_spines.pbz2\n",
      "File size is 1.242995 MB\n",
      "segment_name before cgal = L5_4\n"
     ]
    },
    {
     "data": {
      "application/vnd.jupyter.widget-view+json": {
       "model_id": "d27ea6aec3c04474b72bf43f4ec14be6",
       "version_major": 2,
       "version_minor": 0
      },
      "text/plain": [
       "HBox(children=(FloatProgress(value=0.0, max=55.0), HTML(value='')))"
      ]
     },
     "metadata": {},
     "output_type": "display_data"
    },
    {
     "name": "stdout",
     "output_type": "stream",
     "text": [
      "\n",
      "Saved object at /notebooks/Auto_Proofreading/Decomposition_Optimization/Debug_3_Seg_Fault/curr_branch_before_spines.pbz2\n",
      "File size is 0.089714 MB\n",
      "segment_name before cgal = L5_5\n"
     ]
    },
    {
     "data": {
      "application/vnd.jupyter.widget-view+json": {
       "model_id": "874e79ae1109498fb0704dd8e2e4bbea",
       "version_major": 2,
       "version_minor": 0
      },
      "text/plain": [
       "HBox(children=(FloatProgress(value=0.0, max=7.0), HTML(value='')))"
      ]
     },
     "metadata": {},
     "output_type": "display_data"
    },
    {
     "name": "stdout",
     "output_type": "stream",
     "text": [
      "\n",
      "Saved object at /notebooks/Auto_Proofreading/Decomposition_Optimization/Debug_3_Seg_Fault/curr_branch_before_spines.pbz2\n",
      "File size is 0.044011 MB\n",
      "segment_name before cgal = L5_6\n"
     ]
    },
    {
     "data": {
      "application/vnd.jupyter.widget-view+json": {
       "model_id": "3d2e5e3e31fc4a548ed40720e8cf791d",
       "version_major": 2,
       "version_minor": 0
      },
      "text/plain": [
       "HBox(children=(FloatProgress(value=0.0, max=15.0), HTML(value='')))"
      ]
     },
     "metadata": {},
     "output_type": "display_data"
    },
    {
     "name": "stdout",
     "output_type": "stream",
     "text": [
      "\n",
      "Saved object at /notebooks/Auto_Proofreading/Decomposition_Optimization/Debug_3_Seg_Fault/curr_branch_before_spines.pbz2\n",
      "File size is 1.063333 MB\n",
      "segment_name before cgal = L5_7\n"
     ]
    },
    {
     "data": {
      "application/vnd.jupyter.widget-view+json": {
       "model_id": "f09ae5e40b354aaf84e6c357f294f1f7",
       "version_major": 2,
       "version_minor": 0
      },
      "text/plain": [
       "HBox(children=(FloatProgress(value=0.0, max=70.0), HTML(value='')))"
      ]
     },
     "metadata": {},
     "output_type": "display_data"
    },
    {
     "name": "stdout",
     "output_type": "stream",
     "text": [
      "\n",
      "Saved object at /notebooks/Auto_Proofreading/Decomposition_Optimization/Debug_3_Seg_Fault/curr_branch_before_spines.pbz2\n",
      "File size is 0.048196 MB\n",
      "segment_name before cgal = L5_8\n"
     ]
    },
    {
     "data": {
      "application/vnd.jupyter.widget-view+json": {
       "model_id": "3c450e5b1eeb4589ae71fed19e81389d",
       "version_major": 2,
       "version_minor": 0
      },
      "text/plain": [
       "HBox(children=(FloatProgress(value=0.0, max=7.0), HTML(value='')))"
      ]
     },
     "metadata": {},
     "output_type": "display_data"
    },
    {
     "name": "stdout",
     "output_type": "stream",
     "text": [
      "\n",
      "Saved object at /notebooks/Auto_Proofreading/Decomposition_Optimization/Debug_3_Seg_Fault/curr_branch_before_spines.pbz2\n",
      "File size is 1.312633 MB\n",
      "segment_name before cgal = L5_9\n"
     ]
    },
    {
     "data": {
      "application/vnd.jupyter.widget-view+json": {
       "model_id": "87d1304c2f0943fb80e614829674da80",
       "version_major": 2,
       "version_minor": 0
      },
      "text/plain": [
       "HBox(children=(FloatProgress(value=0.0, max=91.0), HTML(value='')))"
      ]
     },
     "metadata": {},
     "output_type": "display_data"
    },
    {
     "name": "stdout",
     "output_type": "stream",
     "text": [
      "\n",
      "Saved object at /notebooks/Auto_Proofreading/Decomposition_Optimization/Debug_3_Seg_Fault/curr_branch_before_spines.pbz2\n",
      "File size is 0.945538 MB\n",
      "segment_name before cgal = L6_0\n"
     ]
    },
    {
     "data": {
      "application/vnd.jupyter.widget-view+json": {
       "model_id": "c37318831f304eda9d8f98cca17bb5c8",
       "version_major": 2,
       "version_minor": 0
      },
      "text/plain": [
       "HBox(children=(FloatProgress(value=0.0, max=44.0), HTML(value='')))"
      ]
     },
     "metadata": {},
     "output_type": "display_data"
    },
    {
     "name": "stdout",
     "output_type": "stream",
     "text": [
      "\n",
      "Saved object at /notebooks/Auto_Proofreading/Decomposition_Optimization/Debug_3_Seg_Fault/curr_branch_before_spines.pbz2\n",
      "File size is 1.111022 MB\n",
      "segment_name before cgal = L6_1\n"
     ]
    },
    {
     "data": {
      "application/vnd.jupyter.widget-view+json": {
       "model_id": "fcc413fe531f45bcb2320af06656ee64",
       "version_major": 2,
       "version_minor": 0
      },
      "text/plain": [
       "HBox(children=(FloatProgress(value=0.0, max=79.0), HTML(value='')))"
      ]
     },
     "metadata": {},
     "output_type": "display_data"
    },
    {
     "name": "stdout",
     "output_type": "stream",
     "text": [
      "\n",
      "Saved object at /notebooks/Auto_Proofreading/Decomposition_Optimization/Debug_3_Seg_Fault/curr_branch_before_spines.pbz2\n",
      "File size is 0.370357 MB\n",
      "segment_name before cgal = L6_2\n"
     ]
    },
    {
     "data": {
      "application/vnd.jupyter.widget-view+json": {
       "model_id": "6d176bb07f274a8a97081e89e4bccc99",
       "version_major": 2,
       "version_minor": 0
      },
      "text/plain": [
       "HBox(children=(FloatProgress(value=0.0, max=25.0), HTML(value='')))"
      ]
     },
     "metadata": {},
     "output_type": "display_data"
    },
    {
     "name": "stdout",
     "output_type": "stream",
     "text": [
      "\n",
      "Saved object at /notebooks/Auto_Proofreading/Decomposition_Optimization/Debug_3_Seg_Fault/curr_branch_before_spines.pbz2\n",
      "File size is 0.088707 MB\n",
      "segment_name before cgal = L6_3\n"
     ]
    },
    {
     "data": {
      "application/vnd.jupyter.widget-view+json": {
       "model_id": "e01cfd671cb34c8f95de59be35ca8bc8",
       "version_major": 2,
       "version_minor": 0
      },
      "text/plain": [
       "HBox(children=(FloatProgress(value=0.0, max=15.0), HTML(value='')))"
      ]
     },
     "metadata": {},
     "output_type": "display_data"
    },
    {
     "name": "stdout",
     "output_type": "stream",
     "text": [
      "\n",
      "Saved object at /notebooks/Auto_Proofreading/Decomposition_Optimization/Debug_3_Seg_Fault/curr_branch_before_spines.pbz2\n",
      "File size is 0.374819 MB\n",
      "segment_name before cgal = L6_4\n"
     ]
    },
    {
     "data": {
      "application/vnd.jupyter.widget-view+json": {
       "model_id": "c1c11f498b3241929b8a2d89646d4e3c",
       "version_major": 2,
       "version_minor": 0
      },
      "text/plain": [
       "HBox(children=(FloatProgress(value=0.0, max=20.0), HTML(value='')))"
      ]
     },
     "metadata": {},
     "output_type": "display_data"
    },
    {
     "name": "stdout",
     "output_type": "stream",
     "text": [
      "\n",
      "Saved object at /notebooks/Auto_Proofreading/Decomposition_Optimization/Debug_3_Seg_Fault/curr_branch_before_spines.pbz2\n",
      "File size is 0.291144 MB\n",
      "segment_name before cgal = L7_0\n"
     ]
    },
    {
     "data": {
      "application/vnd.jupyter.widget-view+json": {
       "model_id": "a4f586968cef4ac491391936b12c2978",
       "version_major": 2,
       "version_minor": 0
      },
      "text/plain": [
       "HBox(children=(FloatProgress(value=0.0, max=12.0), HTML(value='')))"
      ]
     },
     "metadata": {},
     "output_type": "display_data"
    },
    {
     "name": "stdout",
     "output_type": "stream",
     "text": [
      "\n",
      "Saved object at /notebooks/Auto_Proofreading/Decomposition_Optimization/Debug_3_Seg_Fault/curr_branch_before_spines.pbz2\n",
      "File size is 0.201542 MB\n",
      "segment_name before cgal = L7_1\n"
     ]
    },
    {
     "data": {
      "application/vnd.jupyter.widget-view+json": {
       "model_id": "ab3eb8ef532b44aea7c02929b4c14be4",
       "version_major": 2,
       "version_minor": 0
      },
      "text/plain": [
       "HBox(children=(FloatProgress(value=0.0, max=20.0), HTML(value='')))"
      ]
     },
     "metadata": {},
     "output_type": "display_data"
    },
    {
     "name": "stdout",
     "output_type": "stream",
     "text": [
      "\n",
      "Saved object at /notebooks/Auto_Proofreading/Decomposition_Optimization/Debug_3_Seg_Fault/curr_branch_before_spines.pbz2\n",
      "File size is 0.897131 MB\n",
      "segment_name before cgal = L7_2\n"
     ]
    },
    {
     "data": {
      "application/vnd.jupyter.widget-view+json": {
       "model_id": "083c4e9c53514086af7126632b936ff3",
       "version_major": 2,
       "version_minor": 0
      },
      "text/plain": [
       "HBox(children=(FloatProgress(value=0.0, max=37.0), HTML(value='')))"
      ]
     },
     "metadata": {},
     "output_type": "display_data"
    },
    {
     "name": "stdout",
     "output_type": "stream",
     "text": [
      "\n",
      "Saved object at /notebooks/Auto_Proofreading/Decomposition_Optimization/Debug_3_Seg_Fault/curr_branch_before_spines.pbz2\n",
      "File size is 0.584265 MB\n",
      "segment_name before cgal = L7_3\n"
     ]
    },
    {
     "data": {
      "application/vnd.jupyter.widget-view+json": {
       "model_id": "74f8f54a213a448b84053eb6ef25a769",
       "version_major": 2,
       "version_minor": 0
      },
      "text/plain": [
       "HBox(children=(FloatProgress(value=0.0, max=26.0), HTML(value='')))"
      ]
     },
     "metadata": {},
     "output_type": "display_data"
    },
    {
     "name": "stdout",
     "output_type": "stream",
     "text": [
      "\n",
      "Saved object at /notebooks/Auto_Proofreading/Decomposition_Optimization/Debug_3_Seg_Fault/curr_branch_before_spines.pbz2\n",
      "File size is 0.152366 MB\n",
      "segment_name before cgal = L7_4\n"
     ]
    },
    {
     "data": {
      "application/vnd.jupyter.widget-view+json": {
       "model_id": "425118dbac5e4d7ea12a7871893eea2c",
       "version_major": 2,
       "version_minor": 0
      },
      "text/plain": [
       "HBox(children=(FloatProgress(value=0.0, max=10.0), HTML(value='')))"
      ]
     },
     "metadata": {},
     "output_type": "display_data"
    },
    {
     "name": "stdout",
     "output_type": "stream",
     "text": [
      "\n",
      "Saved object at /notebooks/Auto_Proofreading/Decomposition_Optimization/Debug_3_Seg_Fault/curr_branch_before_spines.pbz2\n",
      "File size is 0.073758 MB\n",
      "segment_name before cgal = L7_5\n"
     ]
    },
    {
     "data": {
      "application/vnd.jupyter.widget-view+json": {
       "model_id": "e6813c1e354e48d4a62b7944b113ffa5",
       "version_major": 2,
       "version_minor": 0
      },
      "text/plain": [
       "HBox(children=(FloatProgress(value=0.0, max=13.0), HTML(value='')))"
      ]
     },
     "metadata": {},
     "output_type": "display_data"
    },
    {
     "name": "stdout",
     "output_type": "stream",
     "text": [
      "\n",
      "Saved object at /notebooks/Auto_Proofreading/Decomposition_Optimization/Debug_3_Seg_Fault/curr_branch_before_spines.pbz2\n",
      "File size is 0.286936 MB\n",
      "segment_name before cgal = L7_6\n"
     ]
    },
    {
     "data": {
      "application/vnd.jupyter.widget-view+json": {
       "model_id": "51b9c193d7f941bd90c0d9e1d968f039",
       "version_major": 2,
       "version_minor": 0
      },
      "text/plain": [
       "HBox(children=(FloatProgress(value=0.0, max=17.0), HTML(value='')))"
      ]
     },
     "metadata": {},
     "output_type": "display_data"
    },
    {
     "name": "stdout",
     "output_type": "stream",
     "text": [
      "\n",
      "Saved object at /notebooks/Auto_Proofreading/Decomposition_Optimization/Debug_3_Seg_Fault/curr_branch_before_spines.pbz2\n",
      "File size is 0.241455 MB\n",
      "segment_name before cgal = L8_0\n"
     ]
    },
    {
     "data": {
      "application/vnd.jupyter.widget-view+json": {
       "model_id": "cd9bf57da6f744e2b381a9fddb15d717",
       "version_major": 2,
       "version_minor": 0
      },
      "text/plain": [
       "HBox(children=(FloatProgress(value=0.0, max=11.0), HTML(value='')))"
      ]
     },
     "metadata": {},
     "output_type": "display_data"
    },
    {
     "name": "stdout",
     "output_type": "stream",
     "text": [
      "\n",
      "Saved object at /notebooks/Auto_Proofreading/Decomposition_Optimization/Debug_3_Seg_Fault/curr_branch_before_spines.pbz2\n",
      "File size is 0.701434 MB\n",
      "segment_name before cgal = L8_1\n"
     ]
    },
    {
     "data": {
      "application/vnd.jupyter.widget-view+json": {
       "model_id": "f501a2bad9b94ff5b4297957a730cded",
       "version_major": 2,
       "version_minor": 0
      },
      "text/plain": [
       "HBox(children=(FloatProgress(value=0.0, max=31.0), HTML(value='')))"
      ]
     },
     "metadata": {},
     "output_type": "display_data"
    },
    {
     "name": "stdout",
     "output_type": "stream",
     "text": [
      "\n",
      "Saved object at /notebooks/Auto_Proofreading/Decomposition_Optimization/Debug_3_Seg_Fault/curr_branch_before_spines.pbz2\n",
      "File size is 0.187706 MB\n",
      "segment_name before cgal = L8_2\n"
     ]
    },
    {
     "data": {
      "application/vnd.jupyter.widget-view+json": {
       "model_id": "d87466366e5b48d48a2494563baa6b74",
       "version_major": 2,
       "version_minor": 0
      },
      "text/plain": [
       "HBox(children=(FloatProgress(value=0.0, max=11.0), HTML(value='')))"
      ]
     },
     "metadata": {},
     "output_type": "display_data"
    },
    {
     "name": "stdout",
     "output_type": "stream",
     "text": [
      "\n",
      "Saved object at /notebooks/Auto_Proofreading/Decomposition_Optimization/Debug_3_Seg_Fault/curr_branch_before_spines.pbz2\n",
      "File size is 0.460953 MB\n",
      "segment_name before cgal = L8_3\n"
     ]
    },
    {
     "data": {
      "application/vnd.jupyter.widget-view+json": {
       "model_id": "fcb759856deb4d65b87a35cec2142a97",
       "version_major": 2,
       "version_minor": 0
      },
      "text/plain": [
       "HBox(children=(FloatProgress(value=0.0, max=30.0), HTML(value='')))"
      ]
     },
     "metadata": {},
     "output_type": "display_data"
    },
    {
     "name": "stdout",
     "output_type": "stream",
     "text": [
      "\n",
      "Saved object at /notebooks/Auto_Proofreading/Decomposition_Optimization/Debug_3_Seg_Fault/curr_branch_before_spines.pbz2\n",
      "File size is 0.358511 MB\n",
      "segment_name before cgal = L8_4\n"
     ]
    },
    {
     "data": {
      "application/vnd.jupyter.widget-view+json": {
       "model_id": "f3df303b9dc24e5e9d3cf03d6c8609f6",
       "version_major": 2,
       "version_minor": 0
      },
      "text/plain": [
       "HBox(children=(FloatProgress(value=0.0, max=34.0), HTML(value='')))"
      ]
     },
     "metadata": {},
     "output_type": "display_data"
    },
    {
     "name": "stdout",
     "output_type": "stream",
     "text": [
      "\n",
      "Saved object at /notebooks/Auto_Proofreading/Decomposition_Optimization/Debug_3_Seg_Fault/curr_branch_before_spines.pbz2\n",
      "File size is 0.341676 MB\n",
      "segment_name before cgal = L8_5\n"
     ]
    },
    {
     "data": {
      "application/vnd.jupyter.widget-view+json": {
       "model_id": "8b73356233704c8c913ef17af1cbf6ec",
       "version_major": 2,
       "version_minor": 0
      },
      "text/plain": [
       "HBox(children=(FloatProgress(value=0.0, max=33.0), HTML(value='')))"
      ]
     },
     "metadata": {},
     "output_type": "display_data"
    },
    {
     "name": "stdout",
     "output_type": "stream",
     "text": [
      "\n",
      "Saved object at /notebooks/Auto_Proofreading/Decomposition_Optimization/Debug_3_Seg_Fault/curr_branch_before_spines.pbz2\n",
      "File size is 0.130617 MB\n",
      "segment_name before cgal = L8_6\n"
     ]
    },
    {
     "data": {
      "application/vnd.jupyter.widget-view+json": {
       "model_id": "169654644efc438b8a8974595e8d8b48",
       "version_major": 2,
       "version_minor": 0
      },
      "text/plain": [
       "HBox(children=(FloatProgress(value=0.0, max=8.0), HTML(value='')))"
      ]
     },
     "metadata": {},
     "output_type": "display_data"
    },
    {
     "name": "stdout",
     "output_type": "stream",
     "text": [
      "\n",
      "Saved object at /notebooks/Auto_Proofreading/Decomposition_Optimization/Debug_3_Seg_Fault/curr_branch_before_spines.pbz2\n",
      "File size is 0.574369 MB\n",
      "segment_name before cgal = L9_0\n"
     ]
    },
    {
     "data": {
      "application/vnd.jupyter.widget-view+json": {
       "model_id": "f9a8617690964dd282caa78bb8ebb409",
       "version_major": 2,
       "version_minor": 0
      },
      "text/plain": [
       "HBox(children=(FloatProgress(value=0.0, max=32.0), HTML(value='')))"
      ]
     },
     "metadata": {},
     "output_type": "display_data"
    },
    {
     "name": "stdout",
     "output_type": "stream",
     "text": [
      "\n",
      "Saved object at /notebooks/Auto_Proofreading/Decomposition_Optimization/Debug_3_Seg_Fault/curr_branch_before_spines.pbz2\n",
      "File size is 0.232474 MB\n",
      "segment_name before cgal = L9_1\n"
     ]
    },
    {
     "data": {
      "application/vnd.jupyter.widget-view+json": {
       "model_id": "5e2c1e2634924a20aadf51897f1be677",
       "version_major": 2,
       "version_minor": 0
      },
      "text/plain": [
       "HBox(children=(FloatProgress(value=0.0, max=12.0), HTML(value='')))"
      ]
     },
     "metadata": {},
     "output_type": "display_data"
    },
    {
     "name": "stdout",
     "output_type": "stream",
     "text": [
      "\n",
      "Saved object at /notebooks/Auto_Proofreading/Decomposition_Optimization/Debug_3_Seg_Fault/curr_branch_before_spines.pbz2\n",
      "File size is 0.869397 MB\n",
      "segment_name before cgal = L9_2\n"
     ]
    },
    {
     "data": {
      "application/vnd.jupyter.widget-view+json": {
       "model_id": "83afe87533c54b7497f51a9c34f639d9",
       "version_major": 2,
       "version_minor": 0
      },
      "text/plain": [
       "HBox(children=(FloatProgress(value=0.0, max=48.0), HTML(value='')))"
      ]
     },
     "metadata": {},
     "output_type": "display_data"
    },
    {
     "name": "stdout",
     "output_type": "stream",
     "text": [
      "\n",
      "Saved object at /notebooks/Auto_Proofreading/Decomposition_Optimization/Debug_3_Seg_Fault/curr_branch_before_spines.pbz2\n",
      "File size is 0.690766 MB\n",
      "segment_name before cgal = L10_2\n"
     ]
    },
    {
     "data": {
      "application/vnd.jupyter.widget-view+json": {
       "model_id": "41fc60c7b27f4cf5b31e697991522ad9",
       "version_major": 2,
       "version_minor": 0
      },
      "text/plain": [
       "HBox(children=(FloatProgress(value=0.0, max=47.0), HTML(value='')))"
      ]
     },
     "metadata": {},
     "output_type": "display_data"
    },
    {
     "name": "stdout",
     "output_type": "stream",
     "text": [
      "\n",
      "Saved object at /notebooks/Auto_Proofreading/Decomposition_Optimization/Debug_3_Seg_Fault/curr_branch_before_spines.pbz2\n",
      "File size is 0.070761 MB\n",
      "segment_name before cgal = L10_3\n"
     ]
    },
    {
     "data": {
      "application/vnd.jupyter.widget-view+json": {
       "model_id": "37678ecfdbaf4d2ea3e59a745a45b3f7",
       "version_major": 2,
       "version_minor": 0
      },
      "text/plain": [
       "HBox(children=(FloatProgress(value=0.0, max=8.0), HTML(value='')))"
      ]
     },
     "metadata": {},
     "output_type": "display_data"
    },
    {
     "name": "stdout",
     "output_type": "stream",
     "text": [
      "\n",
      "Saved object at /notebooks/Auto_Proofreading/Decomposition_Optimization/Debug_3_Seg_Fault/curr_branch_before_spines.pbz2\n",
      "File size is 0.162268 MB\n",
      "segment_name before cgal = L10_4\n"
     ]
    },
    {
     "data": {
      "application/vnd.jupyter.widget-view+json": {
       "model_id": "aadc679447fb4d33849a4fe82d214432",
       "version_major": 2,
       "version_minor": 0
      },
      "text/plain": [
       "HBox(children=(FloatProgress(value=0.0, max=9.0), HTML(value='')))"
      ]
     },
     "metadata": {},
     "output_type": "display_data"
    },
    {
     "name": "stdout",
     "output_type": "stream",
     "text": [
      "\n"
     ]
    }
   ],
   "source": [
    "recovered_neuron.calculate_spines()"
   ]
  },
  {
   "cell_type": "markdown",
   "metadata": {},
   "source": [
    "# Running the Function to Decompose"
   ]
  },
  {
   "cell_type": "code",
   "execution_count": null,
   "metadata": {},
   "outputs": [],
   "source": [
    "#predefined arguments for the Neuron constructor\n",
    "\n",
    "decomposition_type=\"meshafterparty\"\n",
    "mesh_correspondence=\"meshparty\" #meshafterparty_adaptive\n",
    "distance_by_mesh_center=True #how the distance is calculated for mesh correspondence\n",
    "meshparty_segment_size = 100\n",
    "meshparty_n_surface_downsampling = 2\n",
    "meshparty_adaptive_correspondence_after_creation=False\n",
    "suppress_preprocessing_print=True\n",
    "computed_attribute_dict=None\n",
    "\n",
    "\n",
    "branch_skeleton_data=None\n",
    "combine_close_skeleton_nodes = True\n",
    "combine_close_skeleton_nodes_threshold=700\n",
    "\n",
    "ignore_warnings=True\n",
    "suppress_output=False\n",
    "calculate_spines=True\n",
    "widths_to_calculate=[\"no_spine_median_mesh_center\"]\n",
    "fill_hole_size=0# The old value for the parameter when performing 2000,\n",
    "\n",
    "preprocessing_version=2\n",
    "limb_to_branch_objects=None"
   ]
  },
  {
   "cell_type": "code",
   "execution_count": null,
   "metadata": {},
   "outputs": [],
   "source": [
    "#arguments for the preprocess neuron\n",
    "mesh = current_neuron_mesh\n",
    "segment_id=segment_id\n",
    "description=description\n",
    "\n",
    "sig_th_initial_split=15 #for significant splitting meshes in the intial mesh split\n",
    "limb_threshold = 2000 #the mesh faces threshold for a mesh to be qualified as a limb (otherwise too small)\n",
    "filter_end_node_length=4500 #used in cleaning the skeleton during skeletonizations\n",
    "return_no_somas = False\n",
    "\n",
    "decomposition_type=decomposition_type\n",
    "mesh_correspondence=mesh_correspondence\n",
    "distance_by_mesh_center=distance_by_mesh_center\n",
    "meshparty_segment_size =meshparty_segment_size\n",
    "meshparty_n_surface_downsampling = meshparty_n_surface_downsampling\n",
    "somas=somas\n",
    "branch_skeleton_data=branch_skeleton_data\n",
    "combine_close_skeleton_nodes = combine_close_skeleton_nodes\n",
    "combine_close_skeleton_nodes_threshold=combine_close_skeleton_nodes_threshold\n",
    "\n",
    "use_meshafterparty=True"
   ]
  },
  {
   "cell_type": "markdown",
   "metadata": {},
   "source": [
    "# Starting of the preprocessing function"
   ]
  },
  {
   "cell_type": "code",
   "execution_count": null,
   "metadata": {},
   "outputs": [],
   "source": [
    "from preprocessing_vp2 import *"
   ]
  },
  {
   "cell_type": "code",
   "execution_count": null,
   "metadata": {},
   "outputs": [],
   "source": [
    "pre_branch_connectivity = \"edges\"\n",
    "print(f\"use_meshafterparty = {use_meshafterparty}\")\n",
    "\n",
    "whole_processing_tiempo = time.time()\n",
    "\n",
    "\n",
    "\"\"\"\n",
    "Purpose: To process the mesh into a format that can be loaded into the neuron class\n",
    "and used for higher order processing (how to visualize is included)\n",
    "\n",
    "This method includes the fusion\n",
    "\n",
    "\"\"\"\n",
    "if description is None:\n",
    "    description = \"no_description\"\n",
    "if segment_id is None:\n",
    "    #pick a random segment id\n",
    "    segment_id = np.random.randint(100000000)\n",
    "    print(f\"picking a random 7 digit segment id: {segment_id}\")\n",
    "    description += \"_random_id\"\n",
    "\n",
    "\n",
    "if mesh is None:\n",
    "    if mesh_file is None:\n",
    "        raise Exception(\"No mesh or mesh_file file were given\")\n",
    "    else:\n",
    "        current_neuron = tu.load_mesh_no_processing(mesh_file)\n",
    "else:\n",
    "    current_neuron = mesh\n"
   ]
  },
  {
   "cell_type": "code",
   "execution_count": null,
   "metadata": {},
   "outputs": [],
   "source": [
    "# -------- Phase 1: Doing Soma Detection (if Not already done) ---------- #\n",
    "if somas is None:\n",
    "    soma_mesh_list,run_time,total_soma_list_sdf = sm.extract_soma_center(segment_id,\n",
    "                                             current_neuron.vertices,\n",
    "                                             current_neuron.faces)\n",
    "else:\n",
    "    soma_mesh_list,run_time,total_soma_list_sdf = somas\n",
    "    print(f\"Using pre-computed somas: soma_mesh_list = {soma_mesh_list}\")\n",
    "\n",
    "# geting the soma centers\n",
    "if len(soma_mesh_list) <= 0:\n",
    "    print(f\"**** No Somas Found for Mesh {segment_id} so just one mesh\")\n",
    "    soma_mesh_list_centers = []\n",
    "    if return_no_somas:\n",
    "        return_value= soma_mesh_list_centers\n",
    "    raise Exception(\"Processing of No Somas is not yet implemented yet\")\n",
    "else:\n",
    "    #compute the soma centers\n",
    "    print(f\"Soma List = {soma_mesh_list}\")\n",
    "\n",
    "    soma_mesh_list_centers = sm.find_soma_centroids(soma_mesh_list)\n",
    "    print(f\"soma_mesh_list_centers = {soma_mesh_list_centers}\")\n",
    "\n",
    "        "
   ]
  },
  {
   "cell_type": "markdown",
   "metadata": {},
   "source": [
    "# Filtering Pieces and Eliminating Inside Soma Pieces"
   ]
  },
  {
   "cell_type": "code",
   "execution_count": null,
   "metadata": {},
   "outputs": [],
   "source": [
    "#--- Phase 2: getting the soma submeshes that are connected to each soma and identifiying those that aren't \n",
    "# ------------------ (and eliminating any mesh pieces inside the soma) ------------------------\n",
    "\n",
    "# -------- 11/13 Addition: Will remove the inside nucleus --------- #\n",
    "interior_time = time.time()\n",
    "\n",
    "\n",
    "\n",
    "if glia_pieces is None or nuclei_piece is None:\n",
    "    main_mesh_total,glia_pieces,nuclei_piece = tu.remove_nuclei_and_glia_meshes(current_neuron,\n",
    "                                                                   verbose=True)\n",
    "print(f\"Total time for removing interior = {time.time() - interior_time}\")\n",
    "\n",
    "\n",
    "#finding the mesh pieces that contain the soma\n",
    "#splitting the current neuron into distinct pieces\n",
    "split_time = time.time()\n",
    "split_meshes = tu.split_significant_pieces(\n",
    "                            main_mesh_total,\n",
    "                            significance_threshold=sig_th_initial_split,\n",
    "                            print_flag=False,\n",
    "                            connectivity=pre_branch_connectivity)\n",
    "print(f\"Total time for splitting mesh = {time.time() - split_time}\")\n",
    "\n",
    "print(f\"# total split meshes = {len(split_meshes)}\")\n",
    "\n",
    "#returns the index of the split_meshes index that contains each soma    \n",
    "containing_mesh_indices = sm.find_soma_centroid_containing_meshes(soma_mesh_list,\n",
    "                                        split_meshes)\n",
    "\n",
    "# filtering away any of the inside floating pieces: \n",
    "non_soma_touching_meshes = [m for i,m in enumerate(split_meshes)\n",
    "                 if i not in list(containing_mesh_indices.values())]\n",
    "\n",
    "#Adding the step that will filter away any pieces that are inside the soma\n",
    "if len(non_soma_touching_meshes) > 0 and len(soma_mesh_list) > 0:\n",
    "    \"\"\"\n",
    "    *** want to save these pieces that are inside of the soma***\n",
    "    \"\"\"\n",
    "\n",
    "    non_soma_touching_meshes,inside_pieces = sm.filter_away_inside_soma_pieces(soma_mesh_list,non_soma_touching_meshes,\n",
    "                                    significance_threshold=sig_th_initial_split,\n",
    "                                    return_inside_pieces = True)\n",
    "\n",
    "else:\n",
    "    non_soma_touching_meshes = []\n",
    "    inside_pieces=[]\n",
    "\n",
    "#adding in the nuclei center to the inside pieces\n",
    "inside_pieces += inside_nucleus_pieces\n",
    "\n",
    "\n",
    "split_meshes # the meshes of the original mesh\n",
    "containing_mesh_indices #the mapping of each soma centroid to the correct split mesh\n",
    "soma_containing_meshes = sm.grouping_containing_mesh_indices(containing_mesh_indices)\n",
    "\n",
    "soma_touching_meshes = [split_meshes[k] for k in soma_containing_meshes.keys()]\n",
    "\n",
    "\n",
    "#     print(f\"# of non soma touching seperate meshes = {len(non_soma_touching_meshes)}\")\n",
    "#     print(f\"# of inside pieces = {len(inside_pieces)}\")\n",
    "print(f\"\\n-----Before filtering away multiple disconneted soma pieces-----\")\n",
    "print(f\"# of soma containing seperate meshes = {len(soma_touching_meshes)}\")\n",
    "print(f\"meshes with somas = {soma_containing_meshes}\")\n",
    "\n",
    "# ------ 11/15 Addition: Part 2.b \n",
    "\n",
    "\"\"\"\n",
    "Pseudocode: \n",
    "1) Get the largest of the meshes with a soma (largest in soma_touching_meshes)\n",
    "2) Save all other meshes not the largest in \n",
    "3) Overwrite the following variables:\n",
    "    soma_mesh_list\n",
    "    soma_containing_meshes\n",
    "    soma_touching_meshes\n",
    "    total_soma_list_sdf\n",
    "\n",
    "\n",
    "\"\"\"\n",
    "#1) Get the largest of the meshes with a soma (largest in soma_touching_meshes)\n",
    "soma_containing_meshes_keys = np.array(list(soma_containing_meshes.keys()))\n",
    "soma_touching_meshes = np.array([split_meshes[k] for k in soma_containing_meshes_keys])\n",
    "largest_soma_touching_mesh_idx = soma_containing_meshes_keys[np.argmax([len(kk.faces) for kk in soma_touching_meshes])]\n",
    "\n",
    "#2) Save all other meshes not the largest in \n",
    "not_processed_soma_containing_meshes_idx = np.setdiff1d(soma_containing_meshes_keys,[largest_soma_touching_mesh_idx])\n",
    "not_processed_soma_containing_meshes = [split_meshes[k] for k in not_processed_soma_containing_meshes_idx]\n",
    "print(f\"Number of not_processed_soma_containing_meshes = {len(not_processed_soma_containing_meshes)}\")\n",
    "\n",
    "\"\"\"\n",
    "3) Overwrite the following variables:\n",
    "    soma_mesh_list\n",
    "    soma_containing_meshes\n",
    "    soma_touching_meshes\n",
    "    total_soma_list_sdf\n",
    "\n",
    "\"\"\"\n",
    "\n",
    "somas_idx_to_process = soma_containing_meshes[largest_soma_touching_mesh_idx]\n",
    "soma_mesh_list = [soma_mesh_list[k] for k in somas_idx_to_process]\n",
    "\n",
    "soma_containing_meshes = {largest_soma_touching_mesh_idx:list(np.arange(0,len(soma_mesh_list)))}\n",
    "\n",
    "soma_touching_meshes = [split_meshes[largest_soma_touching_mesh_idx]]\n",
    "\n",
    "total_soma_list_sdf = total_soma_list_sdf[somas_idx_to_process]\n",
    "\n",
    "print(f\"\\n-----After filtering away multiple disconneted soma pieces-----\")\n",
    "print(f\"# of soma containing seperate meshes = {len(soma_touching_meshes)}\")\n",
    "print(f\"meshes with somas = {soma_containing_meshes}\")"
   ]
  },
  {
   "cell_type": "code",
   "execution_count": null,
   "metadata": {},
   "outputs": [],
   "source": [
    "#--- Phase 3:  Soma Extraction was great (but it wasn't the original soma faces), so now need to get the original soma faces and the original non-soma faces of original pieces\n",
    "\n",
    "\"\"\"\n",
    "for each soma touching mesh get the following:\n",
    "1) original soma meshes\n",
    "2) significant mesh pieces touching these somas\n",
    "3) The soma connectivity to each of the significant mesh pieces\n",
    "-- later will just translate the \n",
    "\n",
    "\n",
    "Process: \n",
    "\n",
    "1) Final all soma faces (through soma extraction and then soma original faces function)\n",
    "2) Subtact all soma faces from original mesh\n",
    "3) Find all significant mesh pieces\n",
    "4) Backtrack significant mesh pieces to orignal mesh and find connectivity of each to all\n",
    "   the available somas\n",
    "Conclusion: Will have connectivity map\n",
    "\n",
    "\n",
    "\"\"\"\n",
    "\n",
    "soma_touching_mesh_data = dict()\n",
    "\n",
    "for z,(mesh_idx, soma_idxes) in enumerate(soma_containing_meshes.items()):\n",
    "    soma_touching_mesh_data[z] = dict()\n",
    "    print(f\"\\n\\n----Working on soma-containing mesh piece {z}----\")\n",
    "\n",
    "    #1) Final all soma faces (through soma extraction and then soma original faces function)\n",
    "    current_mesh = split_meshes[mesh_idx]\n",
    "\n",
    "    current_soma_mesh_list = [soma_mesh_list[k] for k in soma_idxes]\n",
    "\n",
    "    current_time = time.time()\n",
    "    mesh_pieces_without_soma = sm.subtract_soma(current_soma_mesh_list,current_mesh,\n",
    "                                                significance_threshold=250,\n",
    "                                               connectivity=pre_branch_connectivity)\n",
    "    print(f\"Total time for Subtract Soam = {time.time() - current_time}\")\n",
    "    current_time = time.time()\n",
    "\n",
    "    mesh_pieces_without_soma_stacked = tu.combine_meshes(mesh_pieces_without_soma)\n",
    "\n",
    "    # find the original soma faces of mesh\n",
    "    soma_faces = tu.original_mesh_faces_map(current_mesh,mesh_pieces_without_soma_stacked,matching=False)\n",
    "    print(f\"Total time for Original_mesh_faces_map for mesh_pieces without soma= {time.time() - current_time}\")\n",
    "    current_time = time.time()\n",
    "    soma_meshes = current_mesh.submesh([soma_faces],append=True,repair=False)\n",
    "\n",
    "    # finding the non-soma original faces\n",
    "    non_soma_faces = tu.original_mesh_faces_map(current_mesh,soma_meshes,matching=False)\n",
    "    non_soma_stacked_mesh = current_mesh.submesh([non_soma_faces],append=True,repair=False)\n",
    "\n",
    "    print(f\"Total time for Original_mesh_faces_map for somas= {time.time() - current_time}\")\n",
    "    current_time = time.time()\n",
    "\n",
    "    #4) Backtrack significant mesh pieces to orignal mesh and find connectivity of each to all the available somas\n",
    "    # get all the seperate mesh faces\n",
    "\n",
    "    #How to seperate the mesh faces\n",
    "    seperate_soma_meshes,soma_face_components = tu.split(soma_meshes,only_watertight=False,\n",
    "                                                        connectivity=pre_branch_connectivity)\n",
    "    #take the top largest ones depending how many were originally in the soma list\n",
    "    seperate_soma_meshes = seperate_soma_meshes[:len(soma_mesh_list)]\n",
    "    soma_face_components = soma_face_components[:len(soma_mesh_list)]\n",
    "\n",
    "    soma_touching_mesh_data[z][\"soma_meshes\"] = seperate_soma_meshes\n",
    "\n",
    "\n",
    "\n",
    "\n",
    "    # 3) Find all significant mesh pieces\n",
    "    \"\"\"\n",
    "    Pseudocode: \n",
    "    a) Iterate through all of the somas and get the pieces that are connected\n",
    "    b) Concatenate all the results into one list and order\n",
    "    c) Filter away the mesh pieces that aren't touching and add to the floating pieces\n",
    "\n",
    "    \"\"\"\n",
    "    sig_non_soma_pieces,insignificant_limbs = tu.split_significant_pieces(non_soma_stacked_mesh,significance_threshold=limb_threshold,\n",
    "                                                     return_insignificant_pieces=True,\n",
    "                                                                         connectivity=pre_branch_connectivity)\n",
    "\n",
    "    # a) Filter these down to only those touching the somas\n",
    "    all_conneted_non_soma_pieces = []\n",
    "    for i,curr_soma in enumerate(seperate_soma_meshes):\n",
    "        (connected_mesh_pieces,\n",
    "         connected_mesh_pieces_vertices,\n",
    "         connected_mesh_pieces_vertices_idx) = tu.mesh_pieces_connectivity(\n",
    "                        main_mesh=current_mesh,\n",
    "                        central_piece=curr_soma,\n",
    "                        periphery_pieces = sig_non_soma_pieces,\n",
    "                        return_vertices = True,\n",
    "                        return_vertices_idx=True)\n",
    "        all_conneted_non_soma_pieces.append(connected_mesh_pieces)\n",
    "\n",
    "    #b) Iterate through all of the somas and get the pieces that are connected\n",
    "    t_non_soma_pieces = np.concatenate(all_conneted_non_soma_pieces)\n",
    "\n",
    "    #c) Filter away the mesh pieces that aren't touching and add to the floating pieces\n",
    "    sig_non_soma_pieces = [s_t for hh,s_t in enumerate(sig_non_soma_pieces) if hh in t_non_soma_pieces]\n",
    "    new_floating_pieces = [s_t for hh,s_t in enumerate(sig_non_soma_pieces) if hh not in t_non_soma_pieces]\n",
    "\n",
    "    print(f\"new_floating_pieces = {new_floating_pieces}\")\n",
    "\n",
    "    non_soma_touching_meshes += new_floating_pieces\n",
    "\n",
    "\n",
    "\n",
    "    print(f\"Total time for sig_non_soma_pieces= {time.time() - current_time}\")\n",
    "    current_time = time.time()\n",
    "\n",
    "    soma_touching_mesh_data[z][\"branch_meshes\"] = sig_non_soma_pieces\n",
    "\n",
    "\n",
    "\n",
    "\n",
    "\n",
    "\n",
    "    print(f\"Total time for split= {time.time() - current_time}\")\n",
    "    current_time = time.time()\n",
    "\n",
    "\n",
    "\n",
    "    soma_to_piece_connectivity = dict()\n",
    "    soma_to_piece_touching_vertices = dict()\n",
    "    soma_to_piece_touching_vertices_idx = dict()\n",
    "    limb_root_nodes = dict()\n",
    "\n",
    "    m_vert_graph = tu.mesh_vertex_graph(current_mesh)\n",
    "\n",
    "    for i,curr_soma in enumerate(seperate_soma_meshes):\n",
    "        (connected_mesh_pieces,\n",
    "         connected_mesh_pieces_vertices,\n",
    "         connected_mesh_pieces_vertices_idx) = tu.mesh_pieces_connectivity(\n",
    "                        main_mesh=current_mesh,\n",
    "                        central_piece=curr_soma,\n",
    "                        periphery_pieces = sig_non_soma_pieces,\n",
    "                        return_vertices = True,\n",
    "                        return_vertices_idx=True)\n",
    "        #print(f\"soma {i}: connected_mesh_pieces = {connected_mesh_pieces}\")\n",
    "        soma_to_piece_connectivity[i] = connected_mesh_pieces\n",
    "\n",
    "        soma_to_piece_touching_vertices[i] = dict()\n",
    "        for piece_index,piece_idx in enumerate(connected_mesh_pieces):\n",
    "            limb_root_nodes[piece_idx] = connected_mesh_pieces_vertices[piece_index][0]\n",
    "\n",
    "            \"\"\" Old way of finding vertex connected components on a mesh without trimesh function\n",
    "            #find the number of touching groups and save those \n",
    "            soma_touching_graph = m_vert_graph.subgraph(connected_mesh_pieces_vertices_idx[piece_index])\n",
    "            soma_con_comp = [current_mesh.vertices[np.array(list(k)).astype(\"int\")] for k in list(nx.connected_components(soma_touching_graph))]\n",
    "            soma_to_piece_touching_vertices[i][piece_idx] = soma_con_comp\n",
    "            \"\"\"\n",
    "\n",
    "            soma_to_piece_touching_vertices[i][piece_idx] = tu.split_vertex_list_into_connected_components(\n",
    "                                                vertex_indices_list=connected_mesh_pieces_vertices_idx[piece_index],\n",
    "                                                mesh=current_mesh, \n",
    "                                                vertex_graph=m_vert_graph, \n",
    "                                                return_coordinates=True\n",
    "                                               )\n",
    "\n",
    "\n",
    "\n",
    "\n",
    "\n",
    "#         border_debug = False\n",
    "#         if border_debug:\n",
    "#             print(f\"soma_to_piece_connectivity = {soma_to_piece_connectivity}\")\n",
    "#             print(f\"soma_to_piece_touching_vertices = {soma_to_piece_touching_vertices}\")\n",
    "\n",
    "\n",
    "    print(f\"Total time for mesh_pieces_connectivity= {time.time() - current_time}\")\n",
    "\n",
    "    soma_touching_mesh_data[z][\"soma_to_piece_connectivity\"] = soma_to_piece_connectivity\n",
    "\n",
    "print(f\"# of insignificant_limbs = {len(insignificant_limbs)} with trimesh : {insignificant_limbs}\")\n",
    "print(f\"# of not_processed_soma_containing_meshes = {len(not_processed_soma_containing_meshes)} with trimesh : {not_processed_soma_containing_meshes}\")\n",
    "\n",
    "\n",
    "\n",
    "\n",
    "# Lets have an alert if there was more than one soma disconnected meshes\n",
    "if len(soma_touching_mesh_data.keys()) > 1:\n",
    "    raise Exception(\"More than 1 disconnected meshes that contain somas\")\n",
    "\n",
    "current_mesh_data = soma_touching_mesh_data\n",
    "soma_containing_idx = 0\n",
    "\n",
    "#doing inversion of the connectivity and touching vertices\n",
    "piece_to_soma_touching_vertices = gu.flip_key_orders_for_dict(soma_to_piece_touching_vertices)\n",
    "\n"
   ]
  },
  {
   "cell_type": "markdown",
   "metadata": {},
   "source": [
    "# Doing the Actual Limb Processing"
   ]
  },
  {
   "cell_type": "code",
   "execution_count": null,
   "metadata": {},
   "outputs": [],
   "source": [
    "pre = reload(pre)"
   ]
  },
  {
   "cell_type": "code",
   "execution_count": null,
   "metadata": {},
   "outputs": [],
   "source": [
    "# Phase 4: Skeletonization, Mesh Correspondence,  \n",
    "\n",
    "proper_time = time.time()\n",
    "\n",
    "#The containers that will hold the final data for the preprocessed neuron\n",
    "limb_correspondence=dict()\n",
    "limb_network_stating_info = dict()\n",
    "\n",
    "# ---------- Part A: skeletonization and mesh decomposition --------- #\n",
    "skeleton_time = time.time()\n",
    "\n",
    "for curr_limb_idx,limb_mesh_mparty in enumerate(current_mesh_data[0][\"branch_meshes\"]):\n",
    "\n",
    "    #Arguments to pass to the specific function (when working with a limb)\n",
    "    soma_touching_vertices_dict = piece_to_soma_touching_vertices[curr_limb_idx]\n",
    "\n",
    "    curr_limb_time = time.time()\n",
    "    print(f\"\\n\\n----- Working on Proper Limb # {curr_limb_idx} ---------\")\n",
    "    \n",
    "    if curr_limb_idx != 1:\n",
    "        continue\n",
    "    else:\n",
    "        raise Exception(\"\")\n",
    "\n",
    "    print(f\"meshparty_segment_size = {meshparty_segment_size}\")\n",
    "    limb_correspondence_individual,network_starting_info = pre.preprocess_limb(mesh=limb_mesh_mparty,\n",
    "                   soma_touching_vertices_dict = soma_touching_vertices_dict,\n",
    "                   return_concept_network = False, \n",
    "                   return_concept_network_starting_info=True,\n",
    "                   width_threshold_MAP=500,\n",
    "                   size_threshold_MAP=2000,\n",
    "                   surface_reconstruction_size=1000,  \n",
    "\n",
    "                   #arguments added from the big preprocessing step                                                            \n",
    "                   distance_by_mesh_center=distance_by_mesh_center,\n",
    "                   meshparty_segment_size=meshparty_segment_size,\n",
    "                   meshparty_n_surface_downsampling = meshparty_n_surface_downsampling,\n",
    "\n",
    "                    use_meshafterparty=use_meshafterparty,\n",
    "\n",
    "                   )\n",
    "    #Storing all of the data to be sent to \n",
    "\n",
    "    limb_correspondence[curr_limb_idx] = limb_correspondence_individual\n",
    "    limb_network_stating_info[curr_limb_idx] = network_starting_info\n",
    "    \n",
    "    raise Exception(\"Finished\")\n",
    "\n",
    "print(f\"Total time for Skeletonization and Mesh Correspondence = {time.time() - skeleton_time}\")\n",
    "\n",
    "\n",
    "\n",
    "# ---------- Part B: Stitching on floating pieces --------- #\n",
    "print(\"\\n\\n ----- Working on Stitching ----------\")\n",
    "\n",
    "floating_stitching_time = time.time()\n",
    "\n",
    "if len(limb_correspondence) > 0:\n",
    "    non_soma_touching_meshes_to_stitch = tu.check_meshes_outside_multiple_mesh_bbox(seperate_soma_meshes,non_soma_touching_meshes,\n",
    "                             return_indices=False)\n",
    "\n",
    "    limb_correspondence_with_floating_pieces = pre.attach_floating_pieces_to_limb_correspondence(\n",
    "            limb_correspondence,\n",
    "            floating_meshes=non_soma_touching_meshes_to_stitch,\n",
    "            floating_piece_face_threshold = 600,\n",
    "            max_stitch_distance=8000,\n",
    "            distance_to_move_point_threshold = 4000,\n",
    "            verbose = False)\n",
    "else:\n",
    "    limb_correspondence_with_floating_pieces = limb_correspondence\n",
    "\n",
    "\n",
    "\n",
    "\n",
    "print(f\"Total time for stitching floating pieces = {time.time() - floating_stitching_time}\")\n",
    "\n",
    "\n",
    "\n",
    "\n",
    "\n",
    "# ---------- Part C: Computing Concept Networks --------- #\n",
    "concept_network_time = time.time()\n",
    "\n",
    "limb_concept_networks=dict()\n",
    "limb_labels=dict()\n",
    "\n",
    "for curr_limb_idx,limb_mesh_mparty in enumerate(current_mesh_data[0][\"branch_meshes\"]):\n",
    "    limb_to_soma_concept_networks = pre.calculate_limb_concept_networks(limb_correspondence_with_floating_pieces[curr_limb_idx],\n",
    "                                                                    limb_network_stating_info[curr_limb_idx],\n",
    "                                                                    run_concept_network_checks=True,\n",
    "                                                                       )   \n",
    "\n",
    "\n",
    "\n",
    "    limb_concept_networks[curr_limb_idx] = limb_to_soma_concept_networks\n",
    "    limb_labels[curr_limb_idx]= \"Unlabeled\"\n",
    "\n",
    "print(f\"Total time for Concept Networks = {time.time() - concept_network_time}\")\n",
    "\n"
   ]
  },
  {
   "cell_type": "code",
   "execution_count": null,
   "metadata": {},
   "outputs": [],
   "source": [
    "curr_limb_idx"
   ]
  },
  {
   "cell_type": "markdown",
   "metadata": {},
   "source": [
    "# Debugging the can't find endpoints"
   ]
  },
  {
   "cell_type": "markdown",
   "metadata": {},
   "source": [
    "\n",
    "# The Limb Preprocessing Function"
   ]
  },
  {
   "cell_type": "code",
   "execution_count": null,
   "metadata": {},
   "outputs": [],
   "source": [
    "mesh=limb_mesh_mparty\n",
    "soma_touching_vertices_dict = soma_touching_vertices_dict\n",
    "return_concept_network = False\n",
    "return_concept_network_starting_info=True\n",
    "width_threshold_MAP=500\n",
    "size_threshold_MAP=2000\n",
    "surface_reconstruction_size=1000  \n",
    "\n",
    "#arguments added from the big preprocessing step                                                            \n",
    "distance_by_mesh_center=distance_by_mesh_center\n",
    "meshparty_segment_size=meshparty_segment_size\n",
    "meshparty_n_surface_downsampling = meshparty_n_surface_downsampling\n",
    "\n",
    "use_meshafterparty=use_meshafterparty\n",
    "\n",
    "\n",
    "\n",
    "\n",
    "combine_close_skeleton_nodes=True\n",
    "combine_close_skeleton_nodes_threshold=700\n",
    "filter_end_node_length=4000\n",
    "perform_cleaning_checks = True\n",
    "\n",
    "\n",
    "\n",
    "#parameters for MP skeletonization,\n",
    "\n",
    "#Parameters for setting how the MAP skeletonization takes place\n",
    "use_surface_after_CGAL=False\n",
    "\n",
    "#parametrers for stitching the MAP and MP pieces together\n",
    "move_MAP_stitch_to_end_or_branch = True\n",
    "distance_to_move_point_threshold=500\n",
    "\n",
    "#concept_network parameters\n",
    "run_concept_network_checks = True\n",
    "\n",
    "\n",
    "#printing controls\n",
    "verbose = True\n",
    "print_fusion_steps=True\n",
    "\n",
    "check_correspondence_branches = True\n",
    "filter_end_nodes_from_correspondence = True\n",
    "\n",
    "error_on_no_starting_coordinates=True,\n",
    "prevent_MP_starter_branch_stitches = False, #will control if a MP soma extending branch is able to be stitched to\n",
    "    \n",
    "\n"
   ]
  },
  {
   "cell_type": "code",
   "execution_count": null,
   "metadata": {},
   "outputs": [],
   "source": [
    "curr_limb_time = time.time()\n",
    "\n",
    "limb_mesh_mparty = mesh\n",
    "\n",
    "\n",
    "#will store a list of all the endpoints tha tmust be kept:\n",
    "limb_to_endpoints_must_keep_list = []\n",
    "limb_to_soma_touching_vertices_list = []\n",
    "\n",
    "# --------------- Part 1 and 2: Getting Border Vertices and Setting the Root------------- #\n",
    "fusion_time = time.time()\n",
    "#will eventually get the current root from soma_to_piece_touching_vertices[i]\n",
    "if not soma_touching_vertices_dict is None:\n",
    "    root_curr = soma_touching_vertices_dict[list(soma_touching_vertices_dict.keys())[0]][0][0]\n",
    "else:\n",
    "    root_curr = None\n",
    "\n",
    "print(f\"root_curr = {root_curr}\")\n",
    "\n",
    "if print_fusion_steps:\n",
    "    print(f\"Time for preparing soma vertices and root: {time.time() - fusion_time }\")\n",
    "    fusion_time = time.time()\n",
    "\n",
    "# --------------- Part 3: Meshparty skeletonization and Decomposition ------------- #\n",
    "sk_meshparty_obj = m_sk.skeletonize_mesh_largest_component(limb_mesh_mparty,\n",
    "                                                        root=root_curr,\n",
    "                                                          filter_mesh=False)\n",
    "\n",
    "print(f\"meshparty_segment_size = {meshparty_segment_size}\")\n",
    "\n",
    "if print_fusion_steps:\n",
    "    print(f\"Time for 1st pass MP skeletonization: {time.time() - fusion_time }\")\n",
    "    fusion_time = time.time()\n",
    "\n",
    "(segment_branches, #skeleton branches\n",
    "divided_submeshes, divided_submeshes_idx, #mesh correspondence (mesh and indices)\n",
    "segment_widths_median) = m_sk.skeleton_obj_to_branches(sk_meshparty_obj,\n",
    "                                                      mesh = limb_mesh_mparty,\n",
    "                                                      meshparty_segment_size=meshparty_segment_size)\n",
    "\n",
    "\n",
    "\n",
    "\n",
    "\n",
    "if print_fusion_steps:\n",
    "    print(f\"Decomposing first pass: {time.time() - fusion_time }\")\n",
    "    fusion_time = time.time()\n",
    "\n",
    "\n",
    "if use_meshafterparty:\n",
    "    print(\"Attempting to use MeshAfterParty Skeletonization and Mesh Correspondence\")\n",
    "    # --------------- Part 4: Find Individual Branches that could be MAP processed because of width ------------- #\n",
    "    #gettin the branches that should be passed through MAP skeletonization\n",
    "    pieces_above_threshold = np.where(segment_widths_median>width_threshold_MAP)[0]\n",
    "\n",
    "    #getting the correspondnece info for those MAP qualifying\n",
    "    width_large = segment_widths_median[pieces_above_threshold]\n",
    "    sk_large = [segment_branches[k] for k in pieces_above_threshold]\n",
    "    mesh_large_idx = [divided_submeshes_idx[k] for k in pieces_above_threshold]\n",
    "else:\n",
    "    print(\"Only Using MeshParty Skeletonization and Mesh Correspondence\")\n",
    "    mesh_large_idx = []\n",
    "    width_large = []\n",
    "    sk_large = []\n",
    "\n",
    "\n",
    "print(\"Another print\")\n",
    "mesh_pieces_for_MAP = []\n",
    "mesh_pieces_for_MAP_face_idx = []\n",
    "\n",
    "\n",
    "if len(mesh_large_idx) > 0: #will only continue processing if found MAP candidates\n",
    "\n",
    "    # --------------- Part 5: Find mesh connectivity and group MAP branch candidates into MAP sublimbs ------------- #\n",
    "    print(f\"Found len(mesh_large_idx) MAP candidates: {[len(k) for k in mesh_large_idx]}\")\n",
    "\n",
    "    #finds the connectivity edges of all the MAP candidates\n",
    "    mesh_large_connectivity = tu.mesh_list_connectivity(meshes = mesh_large_idx,\n",
    "                                                        connectivity=\"edges\",\n",
    "                            main_mesh = limb_mesh_mparty,\n",
    "                            print_flag = False)\n",
    "    if print_fusion_steps:\n",
    "        print(f\"mesh_large_connectivity: {time.time() - fusion_time }\")\n",
    "        fusion_time = time.time()\n",
    "        \n",
    "    \n",
    "    \"\"\"\n",
    "    --------------- Grouping MAP candidates ----------------\n",
    "    Purpose: Will see what mesh pieces should be grouped together\n",
    "    to pass through CGAL skeletonization\n",
    "\n",
    "\n",
    "    Pseudocode: \n",
    "    1) build a networkx graph with all nodes for mesh_large_idx indexes\n",
    "    2) Add the edges\n",
    "    3) Find the connected components\n",
    "    4) Find sizes of connected components\n",
    "    5) For all those connected components that are of a large enough size, \n",
    "    add the mesh branches and skeletons to the final list\n",
    "\n",
    "\n",
    "    \"\"\"\n",
    "    G = nx.Graph()\n",
    "    G.add_nodes_from(np.arange(len(mesh_large_idx)))\n",
    "    G.add_edges_from(mesh_large_connectivity)\n",
    "    conn_comp = list(nx.connected_components(G))\n",
    "    \n",
    "    print(\"**** Debugging big mesh connectivity ********\")\n",
    "    print(f\"mesh_large_connectivity = {mesh_large_connectivity}\")\n",
    "    print(f\"conn_comp = {conn_comp}\")\n",
    "\n",
    "    filtered_pieces = []\n",
    "\n",
    "    sk_large_size_filt = []\n",
    "    mesh_large_idx_size_filt = []\n",
    "    width_large_size_filt = []\n",
    "\n",
    "    for cc in conn_comp:\n",
    "        total_cc_size = np.sum([len(mesh_large_idx[k]) for k in cc])\n",
    "        if total_cc_size>size_threshold_MAP:\n",
    "            #print(f\"cc ({cc}) passed the size threshold because size was {total_cc_size}\")\n",
    "            filtered_pieces.append(pieces_above_threshold[list(cc)])\n",
    "\n",
    "    if print_fusion_steps:\n",
    "        print(f\"Finding MAP candidates connected components: {time.time() - fusion_time }\")\n",
    "        fusion_time = time.time()\n",
    "\n",
    "    #filtered_pieces: will have the indexes of all the branch candidates that should  be \n",
    "    #grouped together and passed through MAP skeletonization\n",
    "\n",
    "    if len(filtered_pieces) > 0:\n",
    "        # --------------- Part 6: If Found MAP sublimbs, Get the meshes and mesh_idxs of the sublimbs ------------- #\n",
    "        print(f\"len(filtered_pieces) = {len(filtered_pieces)}\")\n",
    "        #all the pieces that will require MAP mesh correspondence and skeletonization\n",
    "        #(already organized into their components)\n",
    "        mesh_pieces_for_MAP = [limb_mesh_mparty.submesh([np.concatenate(divided_submeshes_idx[k])],append=True,repair=False) for k in filtered_pieces]\n",
    "        mesh_pieces_for_MAP_face_idx = [np.concatenate(divided_submeshes_idx[k]) for k in filtered_pieces]\n",
    "\n",
    "\n",
    "\n",
    "        \"\"\"\n",
    "        Old Way: Finding connectivity of pieces through\n",
    "        mesh_idx_MP = [divided_submeshes_idx[k] for k in pieces_idx_MP]\n",
    "\n",
    "        mesh_large_connectivity_MP = tu.mesh_list_connectivity(meshes = mesh_idx_MP,\n",
    "                                main_mesh = limb_mesh_mparty,\n",
    "                                print_flag = False)\n",
    "\n",
    "        New Way: going to use skeleton connectivity to determine\n",
    "        connectivity of pieces\n",
    "\n",
    "        Pseudocode: \n",
    "        1)\n",
    "\n",
    "        \"\"\"\n",
    "        # --------------- Part 7: If Found MAP sublimbs, Get the meshes and mesh_idxs of the sublimbs ------------- #\n",
    "        # ********* if there are no pieces leftover then will automatically make all the lists below just empty (don't need to if.. else.. the case)****\n",
    "        pieces_idx_MP = np.setdiff1d(np.arange(len(divided_submeshes_idx)),np.concatenate(filtered_pieces))\n",
    "\n",
    "        skeleton_MP = [segment_branches[k] for k in pieces_idx_MP]\n",
    "        skeleton_connectivity_MP = sk.skeleton_list_connectivity(\n",
    "                                        skeletons=skeleton_MP\n",
    "                                        )\n",
    "        if print_fusion_steps:\n",
    "            print(f\"skeleton_connectivity_MP : {time.time() - fusion_time }\")\n",
    "            fusion_time = time.time()\n",
    "\n",
    "        G = nx.Graph()\n",
    "        G.add_nodes_from(np.arange(len(skeleton_MP)))\n",
    "        G.add_edges_from(skeleton_connectivity_MP)\n",
    "        sublimbs_MP = list(nx.connected_components(G))\n",
    "        sublimbs_MP_orig_idx = [pieces_idx_MP[list(k)] for k in sublimbs_MP]\n",
    "\n",
    "\n",
    "        #concatenate into sublimbs the skeletons and meshes\n",
    "        sublimb_mesh_idx_branches_MP = [divided_submeshes_idx[k] for k in sublimbs_MP_orig_idx]\n",
    "        sublimb_mesh_branches_MP = [[limb_mesh_mparty.submesh([ki],append=True,repair=False)\n",
    "                                    for ki in k] for k in sublimb_mesh_idx_branches_MP]\n",
    "        sublimb_meshes_MP = [limb_mesh_mparty.submesh([np.concatenate(k)],append=True,repair=False)\n",
    "                                                     for k in sublimb_mesh_idx_branches_MP]\n",
    "        sublimb_meshes_MP_face_idx = [np.concatenate(k)\n",
    "                                                     for k in sublimb_mesh_idx_branches_MP]\n",
    "        sublimb_skeleton_branches = [segment_branches[k] for k in sublimbs_MP_orig_idx]\n",
    "        widths_MP = [segment_widths_median[k] for k in sublimbs_MP_orig_idx]\n",
    "\n",
    "        if print_fusion_steps:\n",
    "            print(f\"Grouping MP Sublimbs by Graph: {time.time() - fusion_time }\")\n",
    "            fusion_time = time.time()\n",
    "\n",
    "\n",
    "# else: #if no pieces were determine to need MAP processing\n",
    "#     print(\"No MAP processing needed: just returning the Meshparty skeletonization and mesh correspondence\")\n",
    "#     raise Exception(\"Returning MP correspondence\")\n",
    "\n",
    "\n",
    "# nviz.plot_objects(main_mesh=tu.combine_meshes([limb_mesh_mparty,current_neuron[\"S0\"].mesh]),\n",
    "#                   main_mesh_color=\"green\",\n",
    "#     skeletons=sk_large_size_filt,\n",
    "#      meshes=[limb_mesh_mparty.submesh([k],append=True) for k in mesh_large_idx_size_filt],\n",
    "#       meshes_colors=\"red\")\n",
    "\n",
    "\n",
    "\n",
    "\n",
    "\n",
    "\n",
    "\n",
    "\n",
    "# --------------- Part 8: If No MAP sublimbs found, set the MP sublimb lists to just the whole MP branch decomposition ------------- #\n",
    "\n",
    "#if no sublimbs need to be decomposed with MAP then just reassign all of the previous MP processing to the sublimb_MPs\n",
    "if len(mesh_pieces_for_MAP) == 0:\n",
    "    sublimb_meshes_MP = [limb_mesh_mparty] #trimesh pieces that have already been passed through MP skeletonization (may not need)\n",
    "    # -- the decomposition information ---\n",
    "    sublimb_mesh_branches_MP = [divided_submeshes] #the mesh branches for all the disconnected sublimbs\n",
    "    sublimb_mesh_idx_branches_MP = [divided_submeshes_idx] #The mesh branches idx that have already passed through MP skeletonization\n",
    "    sublimb_skeleton_branches = [segment_branches]#the skeleton bnraches for all the sublimbs\n",
    "    widths_MP = [segment_widths_median] #the mesh branches widths for all the disconnected groups\n",
    "\n",
    "    MAP_flag = False\n",
    "else:\n",
    "    MAP_flag = True\n",
    "\n",
    "\n",
    "\n",
    "mesh_pieces_for_MAP #trimesh pieces that should go through CGAL skeletonization\n",
    "sublimb_meshes_MP #trimesh pieces that have already been passed through MP skeletonization (may not need)\n",
    "\n",
    "# -- the decomposition information ---\n",
    "sublimb_mesh_branches_MP #the mesh branches for all the disconnected sublimbs\n",
    "sublimb_mesh_idx_branches_MP #The mesh branches idx that have already passed through MP skeletonization\n",
    "sublimb_skeleton_branches #the skeleton bnraches for all the sublimbs\n",
    "widths_MP #the mesh branches widths for all the disconnected groups\n",
    "\n",
    "if print_fusion_steps:\n",
    "    print(f\"Divinding into MP and MAP pieces: {time.time() - fusion_time }\")\n",
    "    fusion_time = time.time()\n",
    "\n",
    "\n",
    "\n",
    "# ------------------- At this point have the correct division between MAP and MP ------------------------\n",
    "\n",
    "# -------------- Part 9: Doing the MAP decomposition ------------------ #\n",
    "global_start_time = time.time()\n",
    "endpoints_must_keep = dict()\n",
    "\n",
    "\n",
    "\n",
    "limb_correspondence_MAP = dict()\n",
    "\n",
    "for sublimb_idx,(mesh,mesh_idx) in enumerate(zip(mesh_pieces_for_MAP,mesh_pieces_for_MAP_face_idx)):\n",
    "    print(f\"--- Working on MAP piece {sublimb_idx}---\")\n",
    "    #print(f\"soma_touching_vertices_dict = {soma_touching_vertices_dict}\")\n",
    "    mesh_start_time = time.time()\n",
    "    curr_soma_to_piece_touching_vertices = filter_soma_touching_vertices_dict_by_mesh(\n",
    "    mesh = mesh,\n",
    "    curr_piece_to_soma_touching_vertices = soma_touching_vertices_dict\n",
    "    )\n",
    "\n",
    "    if print_fusion_steps:\n",
    "        print(f\"MAP Filtering Soma Pieces: {time.time() - fusion_time }\")\n",
    "        fusion_time = time.time()\n",
    "\n",
    "    # ---- 0) Generating the Clean skeletons  -------------------------------------------#\n",
    "    if not curr_soma_to_piece_touching_vertices is None:\n",
    "        curr_total_border_vertices = dict([(k,np.vstack(v)) for k,v in curr_soma_to_piece_touching_vertices.items()])\n",
    "    else:\n",
    "        curr_total_border_vertices = None\n",
    "\n",
    "\n",
    "    cleaned_branch,curr_limb_endpoints_must_keep = sk.skeletonize_and_clean_connected_branch_CGAL(\n",
    "        mesh=mesh,\n",
    "        curr_soma_to_piece_touching_vertices=curr_soma_to_piece_touching_vertices,\n",
    "        total_border_vertices=curr_total_border_vertices,\n",
    "        filter_end_node_length=filter_end_node_length,\n",
    "        perform_cleaning_checks=perform_cleaning_checks,\n",
    "        combine_close_skeleton_nodes = combine_close_skeleton_nodes,\n",
    "        combine_close_skeleton_nodes_threshold=combine_close_skeleton_nodes_threshold,\n",
    "    use_surface_after_CGAL=use_surface_after_CGAL,\n",
    "    surface_reconstruction_size=surface_reconstruction_size)\n",
    "\n",
    "    if not curr_limb_endpoints_must_keep is None:\n",
    "        limb_to_endpoints_must_keep_list.append(curr_limb_endpoints_must_keep)\n",
    "        limb_to_soma_touching_vertices_list.append(curr_soma_to_piece_touching_vertices)\n",
    "    else:\n",
    "        print(\"Inside MAP decomposition and curr_limb_endpoints_must_keep was None\")\n",
    "\n",
    "    if len(cleaned_branch) == 0:\n",
    "        raise Exception(f\"Found a zero length skeleton for limb {z} of trmesh {branch}\")\n",
    "\n",
    "    if print_fusion_steps:\n",
    "        print(f\"skeletonize_and_clean_connected_branch_CGAL: {time.time() - fusion_time }\")\n",
    "        fusion_time = time.time()\n",
    "\n",
    "    # ---- 1) Generating Initial Mesh Correspondence -------------------------------------------#\n",
    "    start_time = time.time()\n",
    "\n",
    "    print(f\"Working on limb correspondence for #{sublimb_idx} MAP piece\")\n",
    "    local_correspondence = mesh_correspondence_first_pass(mesh=mesh,\n",
    "                                                         skeleton=cleaned_branch,\n",
    "                                                         distance_by_mesh_center=distance_by_mesh_center,\n",
    "                                                         connectivity=\"edges\",\n",
    "                                                         remove_inside_pieces_threshold=100)\n",
    "\n",
    "\n",
    "    print(f\"Total time for decomposition = {time.time() - start_time}\")\n",
    "    if print_fusion_steps:\n",
    "        print(f\"mesh_correspondence_first_pass: {time.time() - fusion_time }\")\n",
    "        fusion_time = time.time()\n",
    "\n",
    "\n",
    "    #------------- 2) Doing Some checks on the initial corespondence -------- #\n",
    "\n",
    "\n",
    "    if perform_cleaning_checks:\n",
    "        check_skeletonization_and_decomp(skeleton=cleaned_branch,\n",
    "                                        local_correspondence=local_correspondence)\n",
    "\n",
    "    # -------3) Finishing off the face correspondence so get 1-to-1 correspondence of mesh face to skeletal piece\n",
    "    local_correspondence_revised = correspondence_1_to_1(mesh=mesh,\n",
    "                                    local_correspondence=local_correspondence,\n",
    "                                    curr_limb_endpoints_must_keep=curr_limb_endpoints_must_keep,\n",
    "                                    curr_soma_to_piece_touching_vertices=curr_soma_to_piece_touching_vertices)\n",
    "\n",
    "    # -------3b) Fixing the mesh indices to correspond to the larger mesh as a whole\n",
    "    for k,v in local_correspondence_revised.items():\n",
    "        local_correspondence_revised[k][\"branch_face_idx\"] = mesh_idx[local_correspondence_revised[k][\"branch_face_idx\"]]\n",
    "\n",
    "    print(f\"Total time for MAP sublimb #{sublimb_idx} mesh processing = {time.time() - mesh_start_time}\")\n",
    "\n",
    "    if print_fusion_steps:\n",
    "        print(f\"correspondence_1_to_1: {time.time() - fusion_time }\")\n",
    "        fusion_time = time.time()\n",
    "\n",
    "    limb_correspondence_MAP[sublimb_idx] = local_correspondence_revised\n",
    "\n",
    "print(f\"Total time for MAP sublimb processing {time.time() - global_start_time}\")\n",
    "\n",
    "\n",
    "\n",
    "\n",
    "\n",
    "# ----------------- Part 10: Doing the MP Decomposition ---------------------- #\n",
    "\n",
    "\n",
    "\n",
    "\n",
    "sublimb_meshes_MP #trimesh pieces that have already been passed through MP skeletonization (may not need)\n",
    "# -- the decomposition information ---\n",
    "sublimb_mesh_branches_MP #the mesh branches for all the disconnected sublimbs\n",
    "sublimb_mesh_idx_branches_MP #The mesh branches idx that have already passed through MP skeletonization\n",
    "sublimb_skeleton_branches #the skeleton bnraches for all the sublimbs\n",
    "widths_MP #the mesh branches widths for all the disconnected groups\n",
    "\n",
    "limb_correspondence_MP = dict()\n",
    "\n",
    "for sublimb_idx,mesh in enumerate(sublimb_meshes_MP):\n",
    "    print(f\"---- Working on MP Decomposition #{sublimb_idx} ----\")\n",
    "    mesh_start_time = time.time()\n",
    "\n",
    "    if len(sublimb_meshes_MP) == 1 and MAP_flag == False:\n",
    "        print(\"Using Quicker soma_to_piece_touching_vertices because no MAP and only one sublimb_mesh piece \")\n",
    "        curr_soma_to_piece_touching_vertices = soma_touching_vertices_dict\n",
    "    else:\n",
    "        if not soma_touching_vertices_dict is None:\n",
    "            print(\"Computing the current soma touching verts dict manually\")\n",
    "            curr_soma_to_piece_touching_vertices = filter_soma_touching_vertices_dict_by_mesh(\n",
    "                                                mesh = mesh,\n",
    "                                                curr_piece_to_soma_touching_vertices = soma_touching_vertices_dict\n",
    "                                                )\n",
    "        else:\n",
    "            curr_soma_to_piece_touching_vertices = None\n",
    "\n",
    "    if print_fusion_steps:\n",
    "        print(f\"MP filtering soma verts: {time.time() - fusion_time }\")\n",
    "        fusion_time = time.time()\n",
    "\n",
    "    #creating all of the sublimb groups\n",
    "    segment_branches = np.array(sublimb_skeleton_branches[sublimb_idx])\n",
    "    whole_sk_MP = sk.stack_skeletons(segment_branches)\n",
    "    branch = mesh\n",
    "    divided_submeshes = np.array(sublimb_mesh_branches_MP[sublimb_idx])\n",
    "    divided_submeshes_idx = sublimb_mesh_idx_branches_MP[sublimb_idx]\n",
    "    segment_widths_median = widths_MP[sublimb_idx]\n",
    "\n",
    "\n",
    "    if curr_soma_to_piece_touching_vertices is None:\n",
    "        print(f\"Do Not Need to Fix MP Decomposition {sublimb_idx} so just continuing\")\n",
    "\n",
    "    else:\n",
    "\n",
    "        # ------- 11/9 addition: Fixing error where creating soma touching branch on mesh that doesn't touch border ------------------- #\n",
    "        print(f\"Fixing Possible Soma Extension Branch for Sublimb {sublimb_idx}\")\n",
    "        no_soma_extension_add = True \n",
    "\n",
    "        endpts_total = dict()\n",
    "        curr_soma_to_piece_touching_vertices_total = dict()\n",
    "        for sm_idx,sm_bord_verts_list in curr_soma_to_piece_touching_vertices.items():\n",
    "            #will be used for later\n",
    "            endpts_total[sm_idx] = []\n",
    "            curr_soma_to_piece_touching_vertices_total[sm_idx] = []\n",
    "\n",
    "            for sm_bord_verts in sm_bord_verts_list:\n",
    "                #1) Get the mesh pieces that are touching the border\n",
    "                matching_mesh_idx = tu.filter_meshes_by_containing_coordinates(mesh_list=divided_submeshes,\n",
    "                                           nullifying_points=sm_bord_verts,\n",
    "                                            filter_away=False,\n",
    "                                           distance_threshold=0,\n",
    "                                           return_indices=True)\n",
    "                #2) concatenate all meshes and skeletons that are touching\n",
    "                if len(matching_mesh_idx) <= 0:\n",
    "                    raise Exception(\"None of branches were touching the border vertices when fixing MP pieces\")\n",
    "\n",
    "                touch_mesh = tu.combine_meshes(divided_submeshes[matching_mesh_idx])\n",
    "                touch_sk = sk.stack_skeletons(segment_branches[matching_mesh_idx])\n",
    "\n",
    "                local_curr_soma_to_piece_touching_vertices = {sm_idx:[sm_bord_verts]}\n",
    "                new_sk,endpts,new_branch_info = sk.create_soma_extending_branches(current_skeleton=touch_sk,\n",
    "                                      skeleton_mesh=touch_mesh,\n",
    "                                      soma_to_piece_touching_vertices=local_curr_soma_to_piece_touching_vertices,\n",
    "                                      return_endpoints_must_keep=True,\n",
    "                                      return_created_branch_info=True,\n",
    "                                      check_connected_skeleton=False)\n",
    "                # ---- 12/30 Addition Check if the endpoint found is an endnode or not and if not then manually add branch ---\n",
    "                curr_endnode = endpts[sm_idx][0]\n",
    "                match_sk_branches = sk.find_branch_skeleton_with_specific_coordinate(segment_branches,\n",
    "                    current_coordinate=curr_endnode)\n",
    "                \n",
    "                if len(match_sk_branches) > 1:\n",
    "                    border_average_coordinate = np.mean(sm_bord_verts,axis=0)\n",
    "                    new_branch_sk = np.vstack([curr_endnode,border_average_coordinate]).reshape(-1,2,3)\n",
    "                    br_info = dict(new_branch = new_branch_sk,border_verts=sm_bord_verts)\n",
    "                    endpts_total[sm_idx].append(border_average_coordinate)\n",
    "                else:\n",
    "                    br_info = new_branch_info[sm_idx][0]\n",
    "                    endpts_total[sm_idx].append(endpts[sm_idx][0])\n",
    "                # -------------------- End of 12/30 Addition ------------------\n",
    "                \n",
    "\n",
    "                #3) Add the info to the new running lists\n",
    "                \n",
    "                curr_soma_to_piece_touching_vertices_total[sm_idx].append(sm_bord_verts)\n",
    "\n",
    "\n",
    "                #4) Skip if no new branch was added\n",
    "                \n",
    "                if br_info is None:\n",
    "                    print(\"The new branch info was none so skipping \\n\")\n",
    "                    continue\n",
    "\n",
    "                #4 If new branch was made then \n",
    "                no_soma_extension_add=False\n",
    "\n",
    "                #1) Get the newly added branch (and the original vertex which is the first row)\n",
    "                br_new,sm_bord_verts = br_info[\"new_branch\"],br_info[\"border_verts\"] #this will hold the new branch and the border vertices corresponding to it\n",
    "\n",
    "                curr_soma_to_piece_touching_vertices_MP = {sm_idx:[sm_bord_verts]}\n",
    "                endpoints_must_keep_MP = {sm_idx:[br_new[0][1]]}\n",
    "\n",
    "\n",
    "                orig_vertex = br_new[0][0]\n",
    "                print(f\"orig_vertex = {orig_vertex}\")\n",
    "\n",
    "                #2) Find the branches that have that coordinate (could be multiple)\n",
    "                match_sk_branches = sk.find_branch_skeleton_with_specific_coordinate(segment_branches,\n",
    "                    current_coordinate=orig_vertex)\n",
    "\n",
    "                print(f\"match_sk_branches = {match_sk_branches}\")\n",
    "\n",
    "\n",
    "\n",
    "                \"\"\" ******************* THIS NEEDS TO BE FIXED WITH THE SAME METHOD OF STITCHING ********************  \"\"\"\n",
    "                \"\"\"\n",
    "                Pseudocode:\n",
    "                1) Find if branch point will require split or not\n",
    "                2) If does require split then split the skeleton\n",
    "                3) Gather mesh pieces for correspondence and the skeletons\n",
    "                4) Run the mesh correspondence\n",
    "                - this case calculate the new widths after run \n",
    "                5) Replace the old branch parts with the new ones\n",
    "\n",
    "\n",
    "\n",
    "                \"\"\"\n",
    "\n",
    "                stitch_point_on_end_or_branch = find_if_stitch_point_on_end_or_branch(\n",
    "                                                        matched_branches_skeletons= segment_branches[match_sk_branches],\n",
    "                                                         stitch_coordinate=orig_vertex,\n",
    "                                                          verbose=False)\n",
    "\n",
    "\n",
    "                if not stitch_point_on_end_or_branch:\n",
    "                    matching_branch_sk = sk.cut_skeleton_at_coordinate(skeleton=segment_branches[match_sk_branches][0],\n",
    "                                                                      cut_coordinate = orig_vertex)\n",
    "                else:\n",
    "                    matching_branch_sk = segment_branches[match_sk_branches]\n",
    "\n",
    "\n",
    "                #3) Find the mesh and skeleton of the winning branch\n",
    "                matching_branch_meshes = np.array(divided_submeshes)[match_sk_branches]\n",
    "                matching_branch_mesh_idx = np.array(divided_submeshes_idx)[match_sk_branches]\n",
    "                extend_soma_mesh_idx = np.concatenate(matching_branch_mesh_idx)\n",
    "                extend_soma_mesh = limb_mesh_mparty.submesh([extend_soma_mesh_idx ],append=True,repair=False)\n",
    "\n",
    "                #4) Add newly created branch to skeleton and divide the skeleton into branches (could make 2 or 3)\n",
    "                #extended_skeleton_to_soma = sk.stack_skeletons([list(matching_branch_sk),br_new])\n",
    "\n",
    "                sk.check_skeleton_connected_component(sk.stack_skeletons(list(matching_branch_sk) + [br_new]))\n",
    "\n",
    "                #5) Run Adaptive mesh correspondnece using branches and mesh\n",
    "                local_correspondnece_MP = mesh_correspondence_first_pass(mesh=extend_soma_mesh,\n",
    "                                                                         skeleton_branches = list(matching_branch_sk) + [br_new]\n",
    "                                              #skeleton=extended_skeleton_to_soma\n",
    "                                                                        )\n",
    "\n",
    "                # GETTING MESHES THAT ARE NOT FULLY CONNECTED!!\n",
    "                local_correspondence_revised = correspondence_1_to_1(mesh=extend_soma_mesh,\n",
    "                                                            local_correspondence=local_correspondnece_MP,\n",
    "                                                            curr_limb_endpoints_must_keep=endpoints_must_keep_MP,\n",
    "                                                            curr_soma_to_piece_touching_vertices=curr_soma_to_piece_touching_vertices_MP)\n",
    "\n",
    "                # All the things that should be revised:\n",
    "            #     segment_branches, #skeleton branches\n",
    "            #     divided_submeshes, divided_submeshes_idx, #mesh correspondence (mesh and indices)\n",
    "            #     segment_widths_median\n",
    "\n",
    "\n",
    "                new_submeshes = [k[\"branch_mesh\"] for k in local_correspondence_revised.values()]\n",
    "                new_submeshes_idx = [extend_soma_mesh_idx[k[\"branch_face_idx\"]] for k in local_correspondence_revised.values()]\n",
    "                new_skeletal_branches = [k[\"branch_skeleton\"] for k in local_correspondence_revised.values()]\n",
    "\n",
    "                #calculate the new width\n",
    "                ray_inter = tu.ray_pyembree.RayMeshIntersector(limb_mesh_mparty)\n",
    "                new_widths = []\n",
    "                for new_s_idx in new_submeshes_idx:\n",
    "                    curr_ray_distance = tu.ray_trace_distance(mesh=limb_mesh_mparty, \n",
    "                                        face_inds=new_s_idx,\n",
    "                                       ray_inter=ray_inter)\n",
    "                    curr_width_median = np.median(curr_ray_distance[curr_ray_distance!=0])\n",
    "                    print(f\"curr_width_median = {curr_width_median}\")\n",
    "                    if (not np.isnan(curr_width_median)) and (curr_width_median > 0):\n",
    "                        new_widths.append(curr_width_median)\n",
    "                    else:\n",
    "                        print(f\"USING A DEFAULT WIDTH BECAUSE THE NEWLY COMPUTED ONE WAS {curr_width_median}: {segment_widths_median[match_sk_branches[0]]}\")\n",
    "                        new_widths.append(segment_widths_median[match_sk_branches[0]])\n",
    "\n",
    "\n",
    "                #6) Remove the original branch and mesh correspondence and replace with the multiples\n",
    "#                     print(f\"match_sk_branches BEFORE = {match_sk_branches}\")\n",
    "#                     print(f\"segment_branches BEFORE = {segment_branches}\")\n",
    "#                     print(f\"len(new_skeletal_branches) = {len(new_skeletal_branches)}\")\n",
    "#                     print(f\"new_skeletal_branches BEFORE= {new_skeletal_branches}\")\n",
    "\n",
    "\n",
    "                #segment_branches = np.delete(segment_branches,match_sk_branches,axis=0)\n",
    "                #segment_branches = np.append(segment_branches,new_skeletal_branches,axis=0)\n",
    "\n",
    "                segment_branches = np.array([k for i,k in enumerate(segment_branches) if i not in match_sk_branches] + new_skeletal_branches)\n",
    "\n",
    "\n",
    "                divided_submeshes = np.delete(divided_submeshes,match_sk_branches,axis=0)\n",
    "                divided_submeshes = np.append(divided_submeshes,new_submeshes,axis=0)\n",
    "\n",
    "\n",
    "                #divided_submeshes_idx = np.delete(divided_submeshes_idx,match_sk_branches,axis=0)\n",
    "                #divided_submeshes_idx = np.append(divided_submeshes_idx,new_submeshes_idx,axis=0)\n",
    "                divided_submeshes_idx = np.array([k for i,k in enumerate(divided_submeshes_idx) if i not in match_sk_branches] + new_submeshes_idx)\n",
    "\n",
    "                segment_widths_median = np.delete(segment_widths_median,match_sk_branches,axis=0)\n",
    "                segment_widths_median = np.append(segment_widths_median,new_widths,axis=0)\n",
    "\n",
    "                try:\n",
    "                    debug = False\n",
    "                    if debug:\n",
    "                        print(f\"segment_branches.shape = {segment_branches.shape}\")\n",
    "                        print(f\"segment_branches = {segment_branches}\")\n",
    "                        print(f\"new_skeletal_branches = {new_skeletal_branches}\")\n",
    "                    sk.check_skeleton_connected_component(sk.stack_skeletons(segment_branches))\n",
    "                except:\n",
    "                    su.compressed_pickle(local_correspondence_revised,\"local_correspondence_revised\")\n",
    "                print(\"checked segment branches after soma add on\")\n",
    "                return_find = sk.find_branch_skeleton_with_specific_coordinate(segment_branches,\n",
    "                                             orig_vertex)\n",
    "\n",
    "\n",
    "\n",
    "                \"\"\" ******************* END OF HOW CAN DO STITCHING ********************  \"\"\"\n",
    "\n",
    "\n",
    "\n",
    "        limb_to_endpoints_must_keep_list.append(endpts_total)\n",
    "        limb_to_soma_touching_vertices_list.append(curr_soma_to_piece_touching_vertices_total)\n",
    "\n",
    "        # ------------------- 11/9 addition ------------------- #\n",
    "\n",
    "        if no_soma_extension_add:\n",
    "            print(\"No soma extending branch was added for this sublimb even though it had a soma border (means they already existed)\")\n",
    "\n",
    "        if print_fusion_steps:\n",
    "            print(f\"MP (because soma touching verts) soma extension add: {time.time() - fusion_time }\")\n",
    "            fusion_time = time.time()\n",
    "\n",
    "    #building the limb correspondence\n",
    "    limb_correspondence_MP[sublimb_idx] = dict()\n",
    "\n",
    "    for zz,b_sk in enumerate(segment_branches):\n",
    "        limb_correspondence_MP[sublimb_idx][zz] = dict(\n",
    "            branch_skeleton = b_sk,\n",
    "            width_from_skeleton = segment_widths_median[zz],\n",
    "            branch_mesh = divided_submeshes[zz],\n",
    "            branch_face_idx = divided_submeshes_idx[zz]\n",
    "            )\n",
    "\n",
    "\n",
    "\n",
    "limb_correspondence_MP_saved = copy.deepcopy(limb_correspondence_MP)\n",
    "limb_correspondence_MAP_saved = copy.deepcopy(limb_correspondence_MAP)\n",
    "\n",
    "# ------------------------------------- Part C: Will make sure the correspondences can all be stitched together --------------- #\n",
    "\n",
    "\n",
    "\n",
    "#     su.compressed_pickle(limb_correspondence_MAP,\"limb_correspondence_MAP_before_stitch\")\n",
    "#     su.compressed_pickle(limb_correspondence_MP,\"limb_correspondence_MP_before_stitch\")\n",
    "\n",
    "\n",
    "if check_correspondence_branches:\n",
    "    sk.check_correspondence_branches_have_2_endpoints(limb_correspondence_MAP)\n",
    "    sk.check_correspondence_branches_have_2_endpoints(limb_correspondence_MP)\n",
    "\n",
    "#total_keep_endpoints = np.concatenate([list(v.values()) for v in limb_to_endpoints_must_keep_list]).reshape(-1,3)\n",
    "total_keep_endpoints = []\n",
    "for entry in limb_to_endpoints_must_keep_list:\n",
    "    for k,v in entry.items():\n",
    "        total_keep_endpoints.append(v)\n",
    "total_keep_endpoints = np.vstack(total_keep_endpoints)\n",
    "    \n",
    "    \n",
    "\n",
    "# Only want to perform this step if both MP and MAP pieces\n",
    "if len(limb_correspondence_MAP)>0 and len(limb_correspondence_MP)>0:\n",
    "\n",
    "    # -------------- Part 11: Getting Sublimb Mesh and Skeletons and Gets connectivitiy by Mesh -------#\n",
    "    # -------------(filtering connections to only MP to MAP edges)--------------- #\n",
    "\n",
    "    # ---- Doing the mesh connectivity ---------#\n",
    "    sublimb_meshes_MP = []\n",
    "    sublimb_skeletons_MP = []\n",
    "\n",
    "    for sublimb_key,sublimb_v in limb_correspondence_MP.items():\n",
    "        sublimb_meshes_MP.append(tu.combine_meshes([branch_v[\"branch_mesh\"] for branch_v in sublimb_v.values()]))\n",
    "        sublimb_skeletons_MP.append(sk.stack_skeletons([branch_v[\"branch_skeleton\"] for branch_v in sublimb_v.values()]))\n",
    "\n",
    "\n",
    "\n",
    "    sublimb_meshes_MAP = []\n",
    "    sublimb_skeletons_MAP = []\n",
    "\n",
    "\n",
    "    for sublimb_key,sublimb_v in limb_correspondence_MAP.items():\n",
    "        sublimb_meshes_MAP.append(tu.combine_meshes([branch_v[\"branch_mesh\"] for branch_v in sublimb_v.values()]))\n",
    "        sublimb_skeletons_MAP.append(sk.stack_skeletons([branch_v[\"branch_skeleton\"] for branch_v in sublimb_v.values()]))\n",
    "\n",
    "    sublimb_skeletons_MP_saved = copy.deepcopy(sublimb_skeletons_MP)\n",
    "    sublimb_skeletons_MAP_saved = copy.deepcopy(sublimb_skeletons_MAP)\n",
    "\n",
    "    connectivity_type = \"edges\"\n",
    "    for i in range(0,2):\n",
    "        mesh_conn,mesh_conn_vertex_groups = tu.mesh_list_connectivity(meshes = sublimb_meshes_MP + sublimb_meshes_MAP,\n",
    "                                            main_mesh = limb_mesh_mparty,\n",
    "                                            connectivity=connectivity_type,\n",
    "                                            min_common_vertices=1,\n",
    "                                            return_vertex_connection_groups=True,\n",
    "                                            return_largest_vertex_connection_group=True,\n",
    "                                            print_flag = False)\n",
    "        mesh_conn_old = copy.deepcopy(mesh_conn)\n",
    "\n",
    "\n",
    "\n",
    "        #check that every MAP piece mapped to a MP piece\n",
    "        mesh_conn_filt = []\n",
    "        mesh_conn_vertex_groups_filt = []\n",
    "        for j,(m1,m2) in enumerate(mesh_conn):\n",
    "            if m1 < len(sublimb_meshes_MP) and m2 >=len(sublimb_meshes_MP):\n",
    "                mesh_conn_filt.append([m1,m2])\n",
    "                mesh_conn_vertex_groups_filt.append(mesh_conn_vertex_groups[j])\n",
    "            else:\n",
    "                print(f\"Edge {(m1,m2)} was not kept\")\n",
    "        mesh_conn_filt = np.array(mesh_conn_filt)\n",
    "\n",
    "        mesh_conn = mesh_conn_filt\n",
    "        mesh_conn_vertex_groups = mesh_conn_vertex_groups_filt\n",
    "\n",
    "        #check that the mapping should create only one connected component\n",
    "        G = nx.from_edgelist(mesh_conn)\n",
    "\n",
    "\n",
    "\n",
    "        try:\n",
    "            if len(G) != len(sublimb_meshes_MP) + len(sublimb_meshes_MAP):\n",
    "                raise Exception(\"Number of nodes in mesh connectivity graph is not equal to number of  MAP and MP sublimbs\")\n",
    "\n",
    "            connect_comp = list(nx.connected_components(G))\n",
    "            if len(connect_comp)>1:\n",
    "                raise Exception(f\"Mesh connectivity was not one component, instead it was ({len(connect_comp)}): {connect_comp} \")\n",
    "        except:\n",
    "\n",
    "            if connectivity_type == \"vertices\":\n",
    "                print(f\"mesh_conn_filt = {mesh_conn_filt}\")\n",
    "                print(f\"mesh_conn_old = {mesh_conn_old}\")\n",
    "                mesh_conn_adjusted = np.vstack([mesh_conn[:,0],mesh_conn[:,1]-len(sublimb_meshes_MP)]).T\n",
    "                print(f\"mesh_conn_adjusted = {mesh_conn_adjusted}\")\n",
    "                print(f\"len(sublimb_meshes_MP) = {len(sublimb_meshes_MP)}\")\n",
    "                print(f\"len(sublimb_meshes_MAP) = {len(sublimb_meshes_MAP)}\")\n",
    "                meshes = sublimb_meshes_MP + sublimb_meshes_MAP\n",
    "                #su.compressed_pickle(meshes,\"meshes\")\n",
    "                su.compressed_pickle(sublimb_meshes_MP,\"sublimb_meshes_MP\")\n",
    "                su.compressed_pickle(sublimb_meshes_MAP,\"sublimb_meshes_MAP\")\n",
    "                su.compressed_pickle(limb_mesh_mparty,\"limb_mesh_mparty\")\n",
    "                su.compressed_pickle(sublimb_skeletons_MP,\"sublimb_skeletons_MP\")\n",
    "                su.compressed_pickle(sublimb_skeletons_MAP,\"sublimb_skeletons_MAP\")\n",
    "\n",
    "\n",
    "\n",
    "\n",
    "                raise Exception(\"Something went wrong in the connectivity\")\n",
    "            else:\n",
    "                print(f\"Failed on connection type {connectivity_type} \")\n",
    "                connectivity_type = \"vertices\"\n",
    "                print(f\"so changing type to {connectivity_type}\")\n",
    "        else:\n",
    "            print(f\"Successful mesh connectivity with type {connectivity_type}\")\n",
    "            break\n",
    "\n",
    "\n",
    "    #adjust the connection indices for MP and MAP indices\n",
    "    mesh_conn_adjusted = np.vstack([mesh_conn[:,0],mesh_conn[:,1]-len(sublimb_meshes_MP)]).T\n",
    "\n",
    "\n",
    "\n",
    "\n",
    "\n",
    "\n",
    "    \"\"\"\n",
    "    Pseudocode:\n",
    "    For each connection edge:\n",
    "        For each vertex connection group:\n",
    "            1) Get the endpoint vertices of the MP skeleton\n",
    "            2) Find the closest endpoint vertex to the vertex connection group (this is MP stitch point)\n",
    "            3) Find the closest skeletal point on MAP pairing (MAP stitch) \n",
    "            4) Find the branches that have that MAP stitch point:\n",
    "            5A) If the number of branches corresponding to stitch point is multipled\n",
    "                --> then we are stitching at a branching oint\n",
    "                i) Just add the skeletal segment from MP_stitch to MAP stitch to the MP skeletal segment\n",
    "                ii) \n",
    "\n",
    "    \"\"\"\n",
    "\n",
    "\n",
    "\n",
    "    # -------------- STITCHING PHASE -------#\n",
    "    stitch_counter = 0\n",
    "    all_map_stitch_points = []\n",
    "    for (MP_idx,MAP_idx),v_g in zip(mesh_conn_adjusted,mesh_conn_vertex_groups):\n",
    "        print(f\"\\n---- Working on {(MP_idx,MAP_idx)} connection-----\")\n",
    "\n",
    "        \"\"\"\n",
    "        This old way of getting the endpoints was not good because could possibly just need\n",
    "        a stitching done between original branch junction\n",
    "\n",
    "        skeleton_MP_graph = sk.convert_skeleton_to_graph(curr_skeleton_MP)\n",
    "        endpoint_nodes = xu.get_nodes_of_degree_k(skeleton_MP_graph,1)\n",
    "        endpoint_nodes_coordinates = xu.get_node_attributes(skeleton_MP_graph,node_list=endpoint_nodes)\n",
    "        \"\"\"\n",
    "\n",
    "\n",
    "        # -------------- Part 12: Find the MP and MAP stitching point and branches that contain the stitching point-------#\n",
    "\n",
    "        \"\"\"  OLD WAY THAT ALLOWED STITICHING POINTS TO NOT BE CONNECTED AT THE CONNECTING BRANCHES\n",
    "        #getting the skeletons that should be stitched\n",
    "        curr_skeleton_MP = sk.stack_skeletons([branch_v[\"branch_skeleton\"] for branch_v in limb_correspondence_MP[MP_idx].values()])\n",
    "        curr_skeleton_MAP = sk.stack_skeletons([branch_v[\"branch_skeleton\"] for branch_v in limb_correspondence_MAP[MAP_idx].values()])\n",
    "\n",
    "        #1) Get the endpoint vertices of the MP skeleton branches (so every endpoint or high degree node)\n",
    "        #(needs to be inside loop because limb correspondence will change)\n",
    "        curr_MP_branch_skeletons = [limb_correspondence_MP[MP_idx][k][\"branch_skeleton\"] for k in np.sort(list(limb_correspondence_MP[MP_idx].keys()))]\n",
    "        endpoint_nodes_coordinates = np.array([sk.find_branch_endpoints(k) for k in curr_MP_branch_skeletons])\n",
    "        endpoint_nodes_coordinates = np.unique(endpoint_nodes_coordinates.reshape(-1,3),axis=0)\n",
    "\n",
    "        #2) Find the closest endpoint vertex to the vertex connection group (this is MP stitch point)\n",
    "        av_vert = np.mean(v_g,axis=0)\n",
    "        winning_vertex = endpoint_nodes_coordinates[np.argmin(np.linalg.norm(endpoint_nodes_coordinates-av_vert,axis=1))]\n",
    "        print(f\"winning_vertex = {winning_vertex}\")\n",
    "\n",
    "\n",
    "        #2b) Find the branch points where the winning vertex is located\n",
    "        MP_branches_with_stitch_point = sk.find_branch_skeleton_with_specific_coordinate(\n",
    "            divded_skeleton=curr_MP_branch_skeletons,\n",
    "            current_coordinate = winning_vertex\n",
    "        )\n",
    "        print(f\"MP_branches_with_stitch_point = {MP_branches_with_stitch_point}\")\n",
    "\n",
    "\n",
    "        #3) Find the closest skeletal point on MAP pairing (MAP stitch)\n",
    "        MAP_skeleton_coords = np.unique(curr_skeleton_MAP.reshape(-1,3),axis=0)\n",
    "        MAP_stitch_point = MAP_skeleton_coords[np.argmin(np.linalg.norm(MAP_skeleton_coords-winning_vertex,axis=1))]\n",
    "\n",
    "\n",
    "        #3b) Consider if the stitch point is close enough to end or branch node in skeleton:\n",
    "        # and if so then reassign\n",
    "        if move_MAP_stitch_to_end_or_branch:\n",
    "            MAP_stitch_point_new,change_status = sk.move_point_to_nearest_branch_end_point_within_threshold(\n",
    "                                                    skeleton=curr_skeleton_MAP,\n",
    "                                                    coordinate=MAP_stitch_point,\n",
    "                                                    distance_to_move_point_threshold = distance_to_move_point_threshold,\n",
    "                                                    verbose=True\n",
    "\n",
    "                                                    )\n",
    "            MAP_stitch_point=MAP_stitch_point_new\n",
    "\n",
    "\n",
    "        #4) Find the branches that have that MAP stitch point:\n",
    "        curr_MAP_branch_skeletons = [limb_correspondence_MAP[MAP_idx][k][\"branch_skeleton\"]\n",
    "                                         for k in np.sort(list(limb_correspondence_MAP[MAP_idx].keys()))]\n",
    "\n",
    "        MAP_branches_with_stitch_point = sk.find_branch_skeleton_with_specific_coordinate(\n",
    "            divded_skeleton=curr_MAP_branch_skeletons,\n",
    "            current_coordinate = MAP_stitch_point\n",
    "        )\n",
    "\n",
    "\n",
    "\n",
    "        MAP_stitch_point_on_end_or_branch = False\n",
    "        if len(MAP_branches_with_stitch_point)>1:\n",
    "            MAP_stitch_point_on_end_or_branch = True\n",
    "        elif len(MAP_branches_with_stitch_point)==1:\n",
    "            if len(nu.matching_rows(sk.find_branch_endpoints(curr_MAP_branch_skeletons[MAP_branches_with_stitch_point[0]]),\n",
    "                                    MAP_stitch_point))>0:\n",
    "                MAP_stitch_point_on_end_or_branch=True\n",
    "        else:\n",
    "            raise Exception(\"No matching MAP values\")\n",
    "\n",
    "    \"\"\"\n",
    "\n",
    "        #*****should only get branches that are touching....****\n",
    "\n",
    "        #getting the skeletons that should be stitched\n",
    "        curr_skeleton_MP = sk.stack_skeletons([branch_v[\"branch_skeleton\"] for branch_v in limb_correspondence_MP[MP_idx].values()])\n",
    "        curr_skeleton_MAP = sk.stack_skeletons([branch_v[\"branch_skeleton\"] for branch_v in limb_correspondence_MAP[MAP_idx].values()])\n",
    "\n",
    "\n",
    "        av_vert = np.mean(v_g,axis=0)\n",
    "\n",
    "        # ---------------- Doing the MAP part first -------------- #\n",
    "        \"\"\"\n",
    "        The previous way did not ensure that the MAP point found will have a branch mesh that is touching the border vertices\n",
    "\n",
    "        #3) Find the closest skeletal point on MAP pairing (MAP stitch)\n",
    "        MAP_skeleton_coords = np.unique(curr_skeleton_MAP.reshape(-1,3),axis=0)\n",
    "\n",
    "        #this does not guarentee that the MAP branch associated with the MAP stitch point is touching the border group\n",
    "        MAP_stitch_point = MAP_skeleton_coords[np.argmin(np.linalg.norm(MAP_skeleton_coords-av_vert,axis=1))]\n",
    "        \"\"\"\n",
    "\n",
    "        # -------------- 11/9 NEW METHOD FOR FINDING MAP STITCH POINT ------------ #\n",
    "        o_keys = np.sort(list(limb_correspondence_MAP[MAP_idx].keys()))\n",
    "        curr_MAP_branch_meshes = np.array([limb_correspondence_MAP[MAP_idx][k][\"branch_mesh\"]\n",
    "                                         for k in o_keys])\n",
    "        curr_MAP_branch_skeletons = np.array([limb_correspondence_MAP[MAP_idx][k][\"branch_skeleton\"]\n",
    "                                         for k in o_keys])\n",
    "\n",
    "        MAP_pieces_idx_touching_border = tu.filter_meshes_by_containing_coordinates(mesh_list=curr_MAP_branch_meshes,\n",
    "                                       nullifying_points=v_g,\n",
    "                                        filter_away=False,\n",
    "                                       distance_threshold=0,\n",
    "                                       return_indices=True)\n",
    "\n",
    "        MAP_branches_considered = curr_MAP_branch_skeletons[MAP_pieces_idx_touching_border]\n",
    "        curr_skeleton_MAP_for_stitch = sk.stack_skeletons(MAP_branches_considered)\n",
    "\n",
    "        #3) Find the closest skeletal point on MAP pairing (MAP stitch)\n",
    "        MAP_skeleton_coords = np.unique(curr_skeleton_MAP_for_stitch.reshape(-1,3),axis=0)\n",
    "\n",
    "        \"\"\"\n",
    "        #------- OLD WAY: this does not guarentee that the MAP branch associated with the MAP stitch point is touching the border group\n",
    "        #MAP_stitch_point = MAP_skeleton_coords[np.argmin(np.linalg.norm(MAP_skeleton_coords-av_vert,axis=1))]\n",
    "        \n",
    "        # ------- 1/1/21 Change to make sure never stitches to soma connecting point ----\n",
    "        Pseudocode: \n",
    "        1) Get all the closest coordinates and sort in order of distance\n",
    "        2) Iterate through the top coordinates:\n",
    "        - check if not in the endpoints\n",
    "        a. if not --> make that the winning MAP stitch point\n",
    "        b. if not --> continue to next\n",
    "\n",
    "        3) if get to end and dont have winning coordinate then error\n",
    "        \"\"\"\n",
    "\n",
    "        MAP_stitch_point = MAP_skeleton_coords[np.argmin(np.linalg.norm(MAP_skeleton_coords-av_vert,axis=1))]\n",
    "\n",
    "        # --------- 11/13: Making so could possibly stitch to another point that was already stitched to\n",
    "        curr_br_endpts = np.array([sk.find_branch_endpoints(k) for k in MAP_branches_considered]).reshape(-1,3)\n",
    "        curr_br_endpts_unique = np.unique(curr_br_endpts,axis=0)\n",
    "        \n",
    "\n",
    "\n",
    "\n",
    "        #3b) Consider if the stitch point is close enough to end or branch node in skeleton:\n",
    "        # and if so then reassign\n",
    "        print(f\"total_keep_endpoints = {total_keep_endpoints}\")\n",
    "        print(f\"MAP_stitch_point BEFORE = {MAP_stitch_point}, move_MAP_stitch_to_end_or_branch = {move_MAP_stitch_to_end_or_branch}\")\n",
    "        \n",
    "        if move_MAP_stitch_to_end_or_branch:\n",
    "            MAP_stitch_point_new,change_status = sk.move_point_to_nearest_branch_end_point_within_threshold(\n",
    "                                                    skeleton=curr_skeleton_MAP,\n",
    "                                                    coordinate=MAP_stitch_point,\n",
    "                                                    distance_to_move_point_threshold = distance_to_move_point_threshold,\n",
    "                                                    verbose=True,\n",
    "                                                    possible_node_coordinates=curr_br_endpts_unique,\n",
    "                                                    excluded_node_coordinates=total_keep_endpoints,\n",
    "                                                    )\n",
    "            MAP_stitch_point=MAP_stitch_point_new\n",
    "            \n",
    "        print(f\"MAP_stitch_point AFTER = {MAP_stitch_point}\")\n",
    "        \n",
    "        if len(nu.matching_rows(total_keep_endpoints,MAP_stitch_point))>0:\n",
    "            raise Exception(\"About to stitch to soma connecting point\")\n",
    "\n",
    "        #4) Find the branches that have that MAP stitch point:\n",
    "\n",
    "        MAP_branches_with_stitch_point = sk.find_branch_skeleton_with_specific_coordinate(\n",
    "            divded_skeleton=curr_MAP_branch_skeletons,\n",
    "            current_coordinate = MAP_stitch_point\n",
    "        )\n",
    "\n",
    "\n",
    "\n",
    "        MAP_stitch_point_on_end_or_branch = False\n",
    "        if len(MAP_branches_with_stitch_point)>1:\n",
    "            MAP_stitch_point_on_end_or_branch = True\n",
    "        elif len(MAP_branches_with_stitch_point)==1:\n",
    "            if len(nu.matching_rows(sk.find_branch_endpoints(curr_MAP_branch_skeletons[MAP_branches_with_stitch_point[0]]),\n",
    "                                    MAP_stitch_point))>0:\n",
    "                MAP_stitch_point_on_end_or_branch=True\n",
    "        else:\n",
    "            raise Exception(\"No matching MAP values\")\n",
    "\n",
    "        #add the map stitch point to the history\n",
    "        all_map_stitch_points.append(MAP_stitch_point)\n",
    "\n",
    "        # ---------------- Doing the MP Part --------------------- #\n",
    "\n",
    "\n",
    "\n",
    "        ord_keys = np.sort(list(limb_correspondence_MP[MP_idx].keys()))\n",
    "        curr_MP_branch_meshes = [limb_correspondence_MP[MP_idx][k][\"branch_mesh\"] for k in ord_keys]\n",
    "\n",
    "\n",
    "\n",
    "        \"\"\" old way of filtering MP pieces just to those touching the MAP, but just want the ones touching the connection group\n",
    "\n",
    "        MAP_meshes_with_stitch_point = tu.combine_meshes([limb_correspondence_MAP[MAP_idx][k][\"branch_mesh\"] for k in MAP_branches_with_stitch_point])\n",
    "\n",
    "        conn = tu.mesh_pieces_connectivity(main_mesh=limb_mesh_mparty,\n",
    "                                   central_piece=MAP_meshes_with_stitch_point,\n",
    "                                   periphery_pieces=curr_MP_branch_meshes)\n",
    "        \"\"\"\n",
    "        # 11/9 Addition: New way that filters meshes by their touching of the vertex connection group (this could possibly be an empty group)\n",
    "        conn = tu.filter_meshes_by_containing_coordinates(mesh_list=curr_MP_branch_meshes,\n",
    "                                       nullifying_points=v_g,\n",
    "                                        filter_away=False,\n",
    "                                       distance_threshold=0,\n",
    "                                       return_indices=True)\n",
    "\n",
    "        if len(conn) == 0:\n",
    "            print(\"Connectivity was 0 for the MP mesh groups touching the vertex group so not restricting by that anymore\")\n",
    "            sk_conn = np.arange(0,len(curr_MP_branch_meshes))\n",
    "        else:\n",
    "            sk_conn = conn\n",
    "\n",
    "        print(f\"sk_conn = {sk_conn}\")\n",
    "        print(f\"conn = {conn}\")\n",
    "\n",
    "\n",
    "        #1) Get the endpoint vertices of the MP skeleton branches (so every endpoint or high degree node)\n",
    "        #(needs to be inside loop because limb correspondence will change)\n",
    "        curr_MP_branch_skeletons = [limb_correspondence_MP[MP_idx][k][\"branch_skeleton\"] for k in sk_conn]\n",
    "        endpoint_nodes_coordinates = np.array([sk.find_branch_endpoints(k) for k in curr_MP_branch_skeletons])\n",
    "        endpoint_nodes_coordinates = np.unique(endpoint_nodes_coordinates.reshape(-1,3),axis=0)\n",
    "        \n",
    "        \"\"\" ---------- 1 /5: Take out the possible endpoints --------------------\"\"\"\n",
    "        if prevent_MP_starter_branch_stitches:\n",
    "            endpoint_nodes_coordinates = nu.setdiff2d(endpoint_nodes_coordinates,total_keep_endpoints)\n",
    "\n",
    "\n",
    "        #2) Find the closest endpoint vertex to the vertex connection group (this is MP stitch point)\n",
    "\n",
    "        winning_vertex = endpoint_nodes_coordinates[np.argmin(np.linalg.norm(endpoint_nodes_coordinates-av_vert,axis=1))]\n",
    "        print(f\"winning_vertex = {winning_vertex}\")\n",
    "        \n",
    "        if len(nu.matching_rows(total_keep_endpoints,winning_vertex))>0:\n",
    "            raise Exception(\"Trying to stitch to MP starting point\")\n",
    "        \n",
    "        \n",
    "\n",
    "\n",
    "        #2b) Find the branch points where the winning vertex is located\n",
    "        curr_MP_branch_skeletons = [limb_correspondence_MP[MP_idx][k][\"branch_skeleton\"] for k in np.sort(list(limb_correspondence_MP[MP_idx].keys()))]\n",
    "        MP_branches_with_stitch_point = sk.find_branch_skeleton_with_specific_coordinate(\n",
    "            divded_skeleton=curr_MP_branch_skeletons,\n",
    "            current_coordinate = winning_vertex\n",
    "        )\n",
    "        \n",
    "        print(f\"MP_branches_with_stitch_point = {MP_branches_with_stitch_point}\")\n",
    "\n",
    "\n",
    "\n",
    "        print(f\"MAP_branches_with_stitch_point = {MAP_branches_with_stitch_point}\")\n",
    "        print(f\"MAP_stitch_point_on_end_or_branch = {MAP_stitch_point_on_end_or_branch}\")\n",
    "\n",
    "\n",
    "        # -------- 11/13 addition: Will see if the MP stitch point was already a MAP stitch point ---- #\n",
    "        if len(nu.matching_rows(np.array(all_map_stitch_points),winning_vertex)) > 0:\n",
    "            keep_MP_stitch_static = True\n",
    "        else:\n",
    "            keep_MP_stitch_static = False\n",
    "\n",
    "\n",
    "\n",
    "\n",
    "\n",
    "        # ------------------------- This part does the stitching -------------------- #\n",
    "\n",
    "\n",
    "        \"\"\"\n",
    "        Pseudocode:\n",
    "        1) For all MP branches\n",
    "            a) Get neighbor coordinates to MP stitch points\n",
    "            b) Delete the MP Stitch points on each \n",
    "            c) Add skeleton segment from neighbor to MAP stitch point\n",
    "        2) Get skeletons and meshes from MP and MAP pieces\n",
    "        3) Run mesh correspondence to get new meshes and mesh_idx and widths\n",
    "        4a) If MAP_stitch_point_on_end_or_branch is False\n",
    "        - Delete the old MAP branch parts and replace with new MAP ones\n",
    "        4b) Revise the meshes,  mesh_idx, and widths of the MAP pieces\n",
    "        5) Revise the meshes,  mesh_idx, and widths of the MP pieces\n",
    "\n",
    "\n",
    "        \"\"\"\n",
    "\n",
    "        # -------------- Part 13: Will Adjust the MP branches that have the stitch point so extends to the MAP stitch point -------#\n",
    "        curr_MP_sk = []\n",
    "        for b_idx in MP_branches_with_stitch_point:\n",
    "            if not keep_MP_stitch_static:\n",
    "                #a) Get neighbor coordinates to MP stitch points\n",
    "                MP_stitch_branch_graph = sk.convert_skeleton_to_graph(curr_MP_branch_skeletons[b_idx])\n",
    "                stitch_node = xu.get_nodes_with_attributes_dict(MP_stitch_branch_graph,dict(coordinates=winning_vertex))[0]\n",
    "                stitch_neighbors = xu.get_neighbors(MP_stitch_branch_graph,stitch_node)\n",
    "\n",
    "                if len(stitch_neighbors) != 1:\n",
    "                    raise Exception(\"Not just one neighbor for stitch point of MP branch\")\n",
    "                keep_neighbor = stitch_neighbors[0]  \n",
    "                keep_neighbor_coordinates = xu.get_node_attributes(MP_stitch_branch_graph,node_list=[keep_neighbor])[0]\n",
    "\n",
    "                #b) Delete the MP Stitch points on each \n",
    "                MP_stitch_branch_graph.remove_node(stitch_node)\n",
    "\n",
    "                \"\"\" Old way that does not do smoothing\n",
    "\n",
    "                #c) Add skeleton segment from neighbor to MAP stitch point\n",
    "                new_node_name = np.max(MP_stitch_branch_graph.nodes())+1\n",
    "\n",
    "                MP_stitch_branch_graph.add_nodes_from([(int(new_node_name),{\"coordinates\":MAP_stitch_point})])\n",
    "                MP_stitch_branch_graph.add_weighted_edges_from([(keep_neighbor,new_node_name,np.linalg.norm(MAP_stitch_point - keep_neighbor_coordinates))])\n",
    "\n",
    "                new_MP_skeleton = sk.convert_graph_to_skeleton(MP_stitch_branch_graph)\n",
    "\n",
    "                \"\"\"\n",
    "                try:\n",
    "                    if len(MP_stitch_branch_graph)>1:\n",
    "                        new_MP_skeleton = sk.add_and_smooth_segment_to_branch(skeleton=sk.convert_graph_to_skeleton(MP_stitch_branch_graph),\n",
    "                                                        skeleton_stitch_point=keep_neighbor_coordinates,\n",
    "                                                         new_stitch_point=MAP_stitch_point)\n",
    "                    else:\n",
    "                        print(\"Not even attempting smoothing segment because once keep_neighbor_coordinates\")\n",
    "                        new_MP_skeleton = np.vstack([keep_neighbor_coordinates,MAP_stitch_point]).reshape(-1,2,3)\n",
    "                except:\n",
    "                    su.compressed_pickle(MP_stitch_branch_graph,\"MP_stitch_branch_graph\")\n",
    "                    su.compressed_pickle(keep_neighbor_coordinates,\"keep_neighbor_coordinates\")\n",
    "                    su.compressed_pickle(MAP_stitch_point,\"MAP_stitch_point\")\n",
    "\n",
    "\n",
    "                    raise Exception(\"Something went wrong with add_and_smooth_segment_to_branch\")\n",
    "\n",
    "\n",
    "\n",
    "\n",
    "\n",
    "                #smooth over the new skeleton\n",
    "                new_MP_skeleton_smooth = sk.resize_skeleton_branch(new_MP_skeleton,\n",
    "                                                                  segment_width=meshparty_segment_size)\n",
    "\n",
    "                curr_MP_sk.append(new_MP_skeleton_smooth)\n",
    "            else:\n",
    "                print(f\"Not adjusting MP skeletons because keep_MP_stitch_static = {keep_MP_stitch_static}\")\n",
    "                curr_MP_sk.append(curr_MP_branch_skeletons[b_idx])\n",
    "\n",
    "\n",
    "\n",
    "        #2) Get skeletons and meshes from MP and MAP pieces\n",
    "        curr_MAP_sk = [limb_correspondence_MAP[MAP_idx][k][\"branch_skeleton\"] for k in MAP_branches_with_stitch_point]\n",
    "\n",
    "        #2.1) Going to break up the MAP skeleton if need be\n",
    "        \"\"\"\n",
    "        Pseudocode:\n",
    "        a) check to see if it needs to be broken up\n",
    "        If it does:\n",
    "        b) Convert the skeleton into a graph\n",
    "        c) Find the node of the MAP stitch point (where need to do the breaking)\n",
    "        d) Find the degree one nodes\n",
    "        e) For each degree one node:\n",
    "        - Find shortest path from stitch node to end node\n",
    "        - get a subgraph from that path\n",
    "        - convert graph to a skeleton and save as new skeletons\n",
    "\n",
    "        \"\"\"\n",
    "        # -------------- Part 14: Breaks Up MAP skeleton into 2 pieces if Needs (because MAP stitch point not on endpoint or branch point)  -------#\n",
    "\n",
    "        #a) check to see if it needs to be broken up\n",
    "        cut_flag = False\n",
    "        if not MAP_stitch_point_on_end_or_branch:\n",
    "            if len(curr_MAP_sk) > 1:\n",
    "                raise Exception(f\"There was more than one skeleton for MAP skeletons even though MAP_stitch_point_on_end_or_branch = {MAP_stitch_point_on_end_or_branch}\")\n",
    "\n",
    "\n",
    "            skeleton_to_cut = curr_MAP_sk[0]\n",
    "            curr_MAP_sk = sk.cut_skeleton_at_coordinate(skeleton=skeleton_to_cut,\n",
    "                                                        cut_coordinate=MAP_stitch_point)\n",
    "            cut_flag=True\n",
    "\n",
    "\n",
    "        # ------ 11/13 Addition: need to adjust the MAP points if have to keep MP static\n",
    "        if keep_MP_stitch_static:\n",
    "            curr_MAP_sk_final = []\n",
    "            for map_skel in curr_MAP_sk:\n",
    "                #a) Get neighbor coordinates to MP stitch points\n",
    "                MP_stitch_branch_graph = sk.convert_skeleton_to_graph(map_skel)\n",
    "                stitch_node = xu.get_nodes_with_attributes_dict(MP_stitch_branch_graph,dict(coordinates=MAP_stitch_point))[0]\n",
    "                stitch_neighbors = xu.get_neighbors(MP_stitch_branch_graph,stitch_node)\n",
    "\n",
    "                if len(stitch_neighbors) != 1:\n",
    "                    raise Exception(\"Not just one neighbor for stitch point of MP branch\")\n",
    "                keep_neighbor = stitch_neighbors[0]  \n",
    "                keep_neighbor_coordinates = xu.get_node_attributes(MP_stitch_branch_graph,node_list=[keep_neighbor])[0]\n",
    "\n",
    "                #b) Delete the MP Stitch points on each \n",
    "                MP_stitch_branch_graph.remove_node(stitch_node)\n",
    "\n",
    "                \"\"\" Old way that does not do smoothing\n",
    "\n",
    "                #c) Add skeleton segment from neighbor to MAP stitch point\n",
    "                new_node_name = np.max(MP_stitch_branch_graph.nodes())+1\n",
    "\n",
    "                MP_stitch_branch_graph.add_nodes_from([(int(new_node_name),{\"coordinates\":MAP_stitch_point})])\n",
    "                MP_stitch_branch_graph.add_weighted_edges_from([(keep_neighbor,new_node_name,np.linalg.norm(MAP_stitch_point - keep_neighbor_coordinates))])\n",
    "\n",
    "                new_MP_skeleton = sk.convert_graph_to_skeleton(MP_stitch_branch_graph)\n",
    "\n",
    "                \"\"\"\n",
    "                try:\n",
    "                    if len(MP_stitch_branch_graph)>1:\n",
    "                        new_MP_skeleton = sk.add_and_smooth_segment_to_branch(skeleton=sk.convert_graph_to_skeleton(MP_stitch_branch_graph),\n",
    "                                                        skeleton_stitch_point=keep_neighbor_coordinates,\n",
    "                                                         new_stitch_point=winning_vertex)\n",
    "                    else:\n",
    "                        print(\"Not even attempting smoothing segment because once keep_neighbor_coordinates\")\n",
    "                        new_MP_skeleton = np.vstack([keep_neighbor_coordinates,MAP_stitch_point]).reshape(-1,2,3)\n",
    "                except:\n",
    "                    su.compressed_pickle(MP_stitch_branch_graph,\"MP_stitch_branch_graph\")\n",
    "                    su.compressed_pickle(keep_neighbor_coordinates,\"keep_neighbor_coordinates\")\n",
    "                    su.compressed_pickle(winning_vertex,\"winning_vertex\")\n",
    "\n",
    "\n",
    "                    raise Exception(\"Something went wrong with add_and_smooth_segment_to_branch\")\n",
    "\n",
    "\n",
    "\n",
    "\n",
    "\n",
    "                #smooth over the new skeleton\n",
    "                new_MP_skeleton_smooth = sk.resize_skeleton_branch(new_MP_skeleton,\n",
    "                                                                  segment_width=meshparty_segment_size)\n",
    "\n",
    "                curr_MAP_sk_final.append(new_MP_skeleton_smooth)\n",
    "            curr_MAP_sk = copy.deepcopy(curr_MAP_sk_final)\n",
    "\n",
    "\n",
    "\n",
    "        # -------------- Part 15: Gets all of the skeletons and Mesh to divide u and does mesh correspondence -------#\n",
    "        # ------------- revise IDX so still references the whole limb mesh -----------#\n",
    "\n",
    "        # -------------- 11/10 Addition accounting for not all MAP pieces always touching each other --------------------#\n",
    "        if len(MAP_branches_with_stitch_point) > 1:\n",
    "            print(\"\\nRevising the MAP pieces index:\")\n",
    "            print(f\"MAP_pieces_idx_touching_border = {MAP_pieces_idx_touching_border}, MAP_branches_with_stitch_point = {MAP_branches_with_stitch_point}\")\n",
    "            MAP_pieces_for_correspondence = nu.intersect1d(MAP_pieces_idx_touching_border,MAP_branches_with_stitch_point)\n",
    "            print(f\"MAP_pieces_for_correspondence = {MAP_pieces_for_correspondence}\")\n",
    "            curr_MAP_sk = [limb_correspondence_MAP[MAP_idx][k][\"branch_skeleton\"] for k in MAP_pieces_for_correspondence]\n",
    "        else:\n",
    "            MAP_pieces_for_correspondence = MAP_branches_with_stitch_point\n",
    "\n",
    "        curr_MAP_meshes_idx = [limb_correspondence_MAP[MAP_idx][k][\"branch_face_idx\"] for k in MAP_pieces_for_correspondence]\n",
    "\n",
    "        # Have to adjust based on if the skeleton were split\n",
    "\n",
    "        if cut_flag:\n",
    "            #Then it was cut and have to do mesh correspondence to find what label to cut\n",
    "            if len(curr_MAP_meshes_idx) > 1:\n",
    "                raise Exception(\"MAP_pieces_for_correspondence was longer than 1 and cut flag was set\")\n",
    "            pre_stitch_mesh_idx = curr_MAP_meshes_idx[0]\n",
    "            pre_stitch_mesh = limb_mesh_mparty.submesh([pre_stitch_mesh_idx],append=True,repair=False)\n",
    "            local_correspondnece_stitch = mesh_correspondence_first_pass(mesh=pre_stitch_mesh,\n",
    "                                      skeleton_branches=curr_MAP_sk)\n",
    "            local_correspondence_stitch_revised_MAP = correspondence_1_to_1(mesh=pre_stitch_mesh,\n",
    "                                                        local_correspondence=local_correspondnece_stitch,\n",
    "                                                        curr_limb_endpoints_must_keep=None,\n",
    "                                                        curr_soma_to_piece_touching_vertices=None)\n",
    "\n",
    "#                 curr_MAP_meshes_idx = [pre_stitch_mesh_idx[local_correspondence_stitch_revised_MAP[nn][\"branch_face_idx\"]] for \n",
    "#                                                nn in local_correspondence_stitch_revised_MAP.keys()]\n",
    "\n",
    "            #Need to readjust the mesh correspondence idx\n",
    "            for k,v in local_correspondence_stitch_revised_MAP.items():\n",
    "                local_correspondence_stitch_revised_MAP[k][\"branch_face_idx\"] = pre_stitch_mesh_idx[local_correspondence_stitch_revised_MAP[k][\"branch_face_idx\"]]\n",
    "\n",
    "            curr_MAP_meshes_idx = [v[\"branch_face_idx\"] for v in local_correspondence_stitch_revised_MAP.values()]\n",
    "        else:\n",
    "            local_correspondence_stitch_revised_MAP = dict([(gg,limb_correspondence_MAP[MAP_idx][kk]) for gg,kk in enumerate(MAP_pieces_for_correspondence)])\n",
    "\n",
    "            for gg,kk in enumerate(MAP_pieces_for_correspondence):\n",
    "                local_correspondence_stitch_revised_MAP[gg][\"branch_skeleton\"] = curr_MAP_sk[gg]\n",
    "\n",
    "\n",
    "\n",
    "        #To make sure that the MAP never gives up ground on the labels\n",
    "        must_keep_labels_MAP = dict()\n",
    "        must_keep_counter = 0\n",
    "        for kk,b_idx in enumerate(curr_MAP_meshes_idx):\n",
    "            #must_keep_labels_MAP.update(dict([(ii,kk) for ii in range(must_keep_counter,must_keep_counter+len(b_idx))]))\n",
    "            must_keep_labels_MAP[kk] = np.arange(must_keep_counter,must_keep_counter+len(b_idx))\n",
    "            must_keep_counter += len(b_idx)\n",
    "\n",
    "\n",
    "\n",
    "        #this is where should send only the MP that apply\n",
    "        MP_branches_for_correspondence,conn_idx,MP_branches_with_stitch_point_idx = nu.intersect1d(conn,MP_branches_with_stitch_point,return_indices=True)\n",
    "\n",
    "        curr_MP_meshes_idx = [limb_correspondence_MP[MP_idx][k][\"branch_face_idx\"] for k in MP_branches_for_correspondence]\n",
    "        curr_MP_sk_for_correspondence = [curr_MP_sk[zz] for zz in MP_branches_with_stitch_point_idx]\n",
    "\n",
    "        stitching_mesh_idx = np.concatenate(curr_MAP_meshes_idx + curr_MP_meshes_idx)\n",
    "        stitching_mesh = limb_mesh_mparty.submesh([stitching_mesh_idx],append=True,repair=False)\n",
    "        stitching_skeleton_branches = curr_MAP_sk + curr_MP_sk_for_correspondence\n",
    "        \"\"\"\n",
    "\n",
    "        ****** NEED TO GET THE RIGHT MESH TO RUN HE IDX ON SO GETS A GOOD MESH (CAN'T BE LIMB_MESH_MPARTY)\n",
    "        BUT MUST BE THE ORIGINAL MAP MESH\n",
    "\n",
    "        mesh_pieces_for_MAP\n",
    "        sublimb_meshes_MP\n",
    "\n",
    "        mesh_pieces_for_MAP_face_idx\n",
    "        sublimb_meshes_MP_face_idx\n",
    "\n",
    "        stitching_mesh = tu.combine_meshes(curr_MAP_meshes + curr_MP_meshes)\n",
    "        stitching_skeleton_branches = curr_MAP_sk + curr_MP_sk\n",
    "\n",
    "        \"\"\"\n",
    "\n",
    "        # ******************************** this is where should do thing about no mesh correspondence ***************** #\n",
    "\n",
    "        # -------- 12/22: Trying to do the re-correspondence but if doesn't work then just resort to old one --------- #\n",
    "\n",
    "        try:\n",
    "\n",
    "            #3) Run mesh correspondence to get new meshes and mesh_idx and widths\n",
    "            local_correspondnece_stitch = mesh_correspondence_first_pass(mesh=stitching_mesh,\n",
    "                                          skeleton_branches=stitching_skeleton_branches)\n",
    "\n",
    "            local_correspondence_stitch_revised = correspondence_1_to_1(mesh=stitching_mesh,\n",
    "                                                        local_correspondence=local_correspondnece_stitch,\n",
    "                                                        curr_limb_endpoints_must_keep=None,\n",
    "                                                        curr_soma_to_piece_touching_vertices=None,\n",
    "                                                        must_keep_labels=must_keep_labels_MAP)\n",
    "\n",
    "            #Need to readjust the mesh correspondence idx\n",
    "            for k,v in local_correspondence_stitch_revised.items():\n",
    "                local_correspondence_stitch_revised[k][\"branch_face_idx\"] = stitching_mesh_idx[local_correspondence_stitch_revised[k][\"branch_face_idx\"]]\n",
    "        except:\n",
    "            print(\"Errored in 1 to 1 correspondence in stitching so just reverting to the original mesh assignments\")\n",
    "            # Setting the correspondence manually because the adaptive way did not work\n",
    "            local_counter = 0\n",
    "            local_correspondence_stitch_revised = dict()\n",
    "\n",
    "            # setting the MAP parts (the new skeletons have already been adjusted)\n",
    "            for k in local_correspondence_stitch_revised_MAP:\n",
    "                local_correspondence_stitch_revised[local_counter] = local_correspondence_stitch_revised_MAP[k]\n",
    "                local_counter += 1\n",
    "\n",
    "            # setting the MP parts (the new skeletons have not been adjusted yet so adjusting them here)\n",
    "            for mp_idx, k in enumerate(MP_branches_for_correspondence):\n",
    "                local_correspondence_stitch_revised[local_counter] = limb_correspondence_MP[MP_idx][k] \n",
    "                local_correspondence_stitch_revised[local_counter][\"branch_skeleton\"] = curr_MP_sk[mp_idx]\n",
    "                local_counter += 1\n",
    "\n",
    "\n",
    "#                 su.compressed_pickle(stitching_skeleton_branches,\"stitching_skeleton_branches\")\n",
    "#                 su.compressed_pickle(stitching_mesh,\"stitching_mesh\")\n",
    "#                 su.compressed_pickle(local_correspondnece_stitch,\"local_correspondnece_stitch\")\n",
    "#                 su.compressed_pickle(must_keep_labels_MAP,\"must_keep_labels_MAP\")\n",
    "\n",
    "#                 raise Exception(\"Something went wrong with 1 to 1 correspondence\")\n",
    "\n",
    "\n",
    "\n",
    "\n",
    "\n",
    "\n",
    "\n",
    "        # -------------- Part 16: Overwrite old branch entries (and add on one new to MAP if required a split) -------#\n",
    "\n",
    "\n",
    "        #4a) If MAP_stitch_point_on_end_or_branch is False\n",
    "        #- Delete the old MAP branch parts and replace with new MAP ones\n",
    "        if not MAP_stitch_point_on_end_or_branch:\n",
    "            print(\"Deleting branches from dictionary\")\n",
    "            del limb_correspondence_MAP[MAP_idx][MAP_branches_with_stitch_point[0]]\n",
    "            #adding the two new branches created from the stitching\n",
    "            limb_correspondence_MAP[MAP_idx][MAP_branches_with_stitch_point[0]] = local_correspondence_stitch_revised[0]\n",
    "            limb_correspondence_MAP[MAP_idx][np.max(list(limb_correspondence_MAP[MAP_idx].keys()))+1] = local_correspondence_stitch_revised[1]\n",
    "\n",
    "            #have to reorder the keys\n",
    "            #limb_correspondence_MAP[MAP_idx] = dict([(k,limb_correspondence_MAP[MAP_idx][k]) for k in np.sort(list(limb_correspondence_MAP[MAP_idx].keys()))])\n",
    "            limb_correspondence_MAP[MAP_idx] = gu.order_dict_by_keys(limb_correspondence_MAP[MAP_idx])\n",
    "\n",
    "        else: #4b) Revise the meshes,  mesh_idx, and widths of the MAP pieces if weren't broken up\n",
    "            for j,curr_MAP_idx_fixed in enumerate(MAP_pieces_for_correspondence): \n",
    "                limb_correspondence_MAP[MAP_idx][curr_MAP_idx_fixed] = local_correspondence_stitch_revised[j]\n",
    "            #want to update all of the skeletons just in case was altered by keep_MP_stitch_static and not included in correspondence\n",
    "            if keep_MP_stitch_static:\n",
    "                if len(MAP_branches_with_stitch_point) != len(curr_MAP_sk_final):\n",
    "                    raise Exception(\"MAP_branches_with_stitch_point not same size as curr_MAP_sk_final\")\n",
    "                for gg,map_idx_curr in enumerate(MAP_branches_with_stitch_point):\n",
    "                    limb_correspondence_MAP[MAP_idx][map_idx_curr][\"branch_skeleton\"] = curr_MAP_sk_final[gg]\n",
    "\n",
    "\n",
    "        for j,curr_MP_idx_fixed in enumerate(MP_branches_for_correspondence): #************** right here just need to make only the ones that applied\n",
    "            limb_correspondence_MP[MP_idx][curr_MP_idx_fixed] = local_correspondence_stitch_revised[j+len(curr_MAP_sk)]\n",
    "\n",
    "\n",
    "        #5b) Fixing the branch skeletons that were not included in the correspondence\n",
    "        MP_leftover,MP_leftover_idx = nu.setdiff1d(MP_branches_with_stitch_point,MP_branches_for_correspondence)\n",
    "        print(f\"MP_branches_with_stitch_point= {MP_branches_with_stitch_point}\")\n",
    "        print(f\"MP_branches_for_correspondence = {MP_branches_for_correspondence}\")\n",
    "        print(f\"MP_leftover = {MP_leftover}, MP_leftover_idx = {MP_leftover_idx}\")\n",
    "\n",
    "        for curr_MP_leftover,curr_MP_leftover_idx in zip(MP_leftover,MP_leftover_idx):\n",
    "            limb_correspondence_MP[MP_idx][curr_MP_leftover][\"branch_skeleton\"] = curr_MP_sk[curr_MP_leftover_idx]\n",
    "\n",
    "\n",
    "        print(f\" Finished with {(MP_idx,MAP_idx)} \\n\\n\\n\")\n",
    "        stitch_counter += 1\n",
    "#         if cut_flag:\n",
    "#             raise Exception(\"Cut flag was activated\")\n",
    "\n",
    "        if check_correspondence_branches:\n",
    "            sk.check_correspondence_branches_have_2_endpoints(limb_correspondence_MAP[MAP_idx])\n",
    "            sk.check_correspondence_branches_have_2_endpoints(limb_correspondence_MP[MP_idx])\n",
    "\n",
    "#             su.compressed_pickle(limb_correspondence_MAP,f\"limb_correspondence_MAP_{MAP_idx}_{MP_idx}\")\n",
    "#             su.compressed_pickle(limb_correspondence_MP,f\"limb_correspondence_MP_{MAP_idx}_{MP_idx}\")\n",
    "\n",
    "\n",
    "else:\n",
    "    print(\"There were not both MAP and MP pieces so skipping the stitch resolving phase\")\n",
    "\n",
    "print(f\"Time for decomp of Limb = {time.time() - curr_limb_time}\")\n",
    "#     # ------------- Saving the MAP and MP Decompositions ---------------- #\n",
    "#     proper_limb_mesh_correspondence_MAP[curr_limb_idx] = limb_correspondence_MAP\n",
    "#     proper_limb_mesh_correspondence_MP[curr_limb_idx] = limb_correspondence_MP\n",
    "\n",
    "\n",
    "\n",
    "\n",
    "\n",
    "\n",
    "# -------------- Part 17: Grouping the MP and MAP Correspondence into one correspondence dictionary -------#\n",
    "limb_correspondence_individual = dict()\n",
    "counter = 0\n",
    "\n",
    "for sublimb_idx,sublimb_branches in limb_correspondence_MAP.items():\n",
    "    for branch_dict in sublimb_branches.values():\n",
    "        limb_correspondence_individual[counter]= branch_dict\n",
    "        counter += 1\n",
    "for sublimb_idx,sublimb_branches in limb_correspondence_MP.items():\n",
    "    for branch_dict in sublimb_branches.values():\n",
    "        limb_correspondence_individual[counter]= branch_dict\n",
    "        counter += 1\n",
    "\n",
    "\n",
    "#info that may be used for concept networks\n",
    "network_starting_info = dict(\n",
    "            touching_verts_list = limb_to_soma_touching_vertices_list,\n",
    "            endpoints_must_keep = limb_to_endpoints_must_keep_list\n",
    ")\n",
    "\n",
    "\n",
    "\n",
    "\n",
    "\n",
    "\n",
    "# -------------- Part 18: 11-17 Addition that filters the network starting info into a more clean presentation ------------ #\n",
    "\"\"\"\n",
    "Pseudocode: \n",
    "1) Rearrange the network starting info into a ditionary mapping\n",
    "  soma_idx --> branch_broder_group --> list of dict(touching_vertices,endpoint)\n",
    "\n",
    "2) iterate through all the somas and border vertex groups\n",
    "a. filter to only those with an endpoint that is on a branch of the skeleton\n",
    "b1: If 1 --> then keep that one\n",
    "b2: If more --> pick the one with the endpoint closest to the average fo the vertex group\n",
    "b3: If 0 --> find the best available soma extending branch endpoint\n",
    "\n",
    "\"\"\"\n",
    "\n",
    "# Part 1: Rearrange network info\n",
    "\n",
    "\n",
    "t_verts_list_total,enpts_list_total = network_starting_info.values()\n",
    "network_starting_info_revised = dict()\n",
    "for j,(v_list_dict,enpts_list_dict) in enumerate(zip(t_verts_list_total,enpts_list_total)):\n",
    "    #print(f\"---- Working on {j} -----\")\n",
    "#     print(v_list_dict)\n",
    "#     print(enpts_list_dict)\n",
    "    if set(list(v_list_dict.keys())) != set(list(enpts_list_dict)):\n",
    "        raise Exception(\"Soma keys not match for touching vertices and endpoints\")\n",
    "    for sm_idx in v_list_dict.keys():\n",
    "        v_list_soma = v_list_dict[sm_idx]\n",
    "        endpt_soma = enpts_list_dict[sm_idx]\n",
    "        if len(v_list_soma) != len(endpt_soma):\n",
    "            raise Exception(f\"touching vertices list and endpoint list not match size for soma {sm_idx}\")\n",
    "\n",
    "        all_border_vertex_groups = soma_touching_vertices_dict[sm_idx]\n",
    "\n",
    "        for v_l,endpt in zip(v_list_soma,endpt_soma):\n",
    "\n",
    "            matching_border_group  = []\n",
    "            for i,curr_border_group in enumerate(all_border_vertex_groups):\n",
    "                if nu.test_matching_vertices_in_lists(curr_border_group,v_l,verbose=True):\n",
    "                    matching_border_group.append(i)\n",
    "\n",
    "            if len(matching_border_group) == 0 or len(matching_border_group)>1:\n",
    "                raise Exception(f\"Matching border groups was not exactly 1: {matching_border_group}\")\n",
    "\n",
    "            winning_border_group = matching_border_group[0]\n",
    "\n",
    "            if sm_idx not in network_starting_info_revised.keys():\n",
    "                network_starting_info_revised[sm_idx] = dict()\n",
    "\n",
    "            if winning_border_group not in network_starting_info_revised[sm_idx].keys():\n",
    "                network_starting_info_revised[sm_idx][winning_border_group] = []\n",
    "            network_starting_info_revised[sm_idx][winning_border_group].append(dict(touching_verts=v_l,endpoint=endpt))\n",
    "\n",
    "\n",
    "# Part 2 Filter\n",
    "\"\"\"\n",
    "2) iterate through all the somas and border vertex groups\n",
    "a. filter to only those with an endpoint that is on a branch of the skeleton\n",
    "b1: If 1 --> then keep that one\n",
    "b2: If more --> pick the one with the endpoint closest to the average fo the vertex group\n",
    "b3: If 0 --> find the best available soma extending branch endpoint\n",
    "\n",
    "Pseudocode for b3:\n",
    "i) get all meshes that touch the vertex group (and keep the vertices that overlap)\n",
    "--> error if none\n",
    "ii) Get all of the endpoints of all matching branches\n",
    "iii) Filter the endpoints to only those that are degree 1 in the overall skeleton\n",
    "--> if none then just keep all endpoints\n",
    "iv) Find the closest viable endpoint to the mean of the boundary group\n",
    "v) save the overlap vertices and the winning endpoint as a dictionary\n",
    "\n",
    "\"\"\"\n",
    "\n",
    "limb_correspondence_individual_saved = copy.deepcopy(limb_correspondence_individual)\n",
    "\n",
    "sorted_keys = np.sort(list(limb_correspondence_individual.keys()))\n",
    "curr_branches = [limb_correspondence_individual[k][\"branch_skeleton\"] for k in sorted_keys]\n",
    "curr_meshes = [limb_correspondence_individual[k][\"branch_mesh\"] for k in sorted_keys]\n",
    "\n",
    "network_starting_info_revised_cleaned = dict()\n",
    "for soma_idx in network_starting_info_revised.keys():\n",
    "    network_starting_info_revised_cleaned[soma_idx] = dict()\n",
    "    for bound_g_idx,endpoint_list in network_starting_info_revised[soma_idx].items():\n",
    "        endpoint_list = np.array(endpoint_list)\n",
    "\n",
    "        filter_on_skeleton_list = []\n",
    "        for zz,endpt_dict in enumerate(endpoint_list):\n",
    "            #a. filter to only those with an endpoint that is on a branch of the skeleton\n",
    "            sk_indices = sk.find_branch_skeleton_with_specific_coordinate(divded_skeleton=curr_branches,\n",
    "                                                                        current_coordinate=endpt_dict[\"endpoint\"])\n",
    "            if len(sk_indices) > 0:\n",
    "                filter_on_skeleton_list.append(zz)\n",
    "\n",
    "        endpoint_list_filt = endpoint_list[filter_on_skeleton_list]\n",
    "\n",
    "\n",
    "\n",
    "        curr_border_group_coordinates = soma_touching_vertices_dict[soma_idx][bound_g_idx]\n",
    "        boundary_mean = np.mean(curr_border_group_coordinates,axis=0)\n",
    "\n",
    "        if len(endpoint_list_filt) == 1:\n",
    "            print(\"Only one endpoint after filtering away the endpoints that are not on the skeleton\")\n",
    "            winning_dict = endpoint_list_filt[0]\n",
    "        #b2: If more --> pick the one with the endpoint closest to the average fo the vertex group\n",
    "        elif len(endpoint_list_filt) > 1:\n",
    "            print(f\"MORE THAN one endpoint after filtering away the endpoints that are not on the skeleton: {len(endpoint_list_filt)}\")\n",
    "            viable_endpoints = [endpt_dict[\"endpoint\"] for endpt_dict in endpoint_list_filt]\n",
    "\n",
    "\n",
    "            distanes_from_mean = np.linalg.norm(viable_endpoints-boundary_mean,axis=1)\n",
    "            winning_endpoint_idx = np.argmin(distanes_from_mean)\n",
    "            winning_dict = endpoint_list_filt[winning_endpoint_idx]\n",
    "\n",
    "        #if there was no clear winner\n",
    "        else:\n",
    "            \"\"\"\n",
    "            Pseudocode for no viable options:\n",
    "            i) get all meshes that touch the vertex group (and keep the vertices that overlap)\n",
    "            --> error if none\n",
    "            ii) Get all of the endpoints of all matching branches\n",
    "            iii) Filter the endpoints to only those that are degree 1 in the overall skeleton\n",
    "            --> if none then just keep all endpoints\n",
    "            iv) Find the closest viable endpoint to the mean of the boundary group\n",
    "            v) save the overlap vertices and the winning endpoint as a dictionary\n",
    "\n",
    "\n",
    "            \"\"\"\n",
    "            print(\"Having to find a new branch point\")\n",
    "            #i) get all meshes that touch the vertex group (and keep the vertices that overlap)\n",
    "            mesh_indices_on_border = tu.filter_meshes_by_containing_coordinates(curr_meshes,\n",
    "                                          nullifying_points=curr_border_group_coordinates,\n",
    "                                          filter_away=False,\n",
    "                                          distance_threshold=0,\n",
    "                                          return_indices=True)\n",
    "            if len(mesh_indices_on_border) == 0:\n",
    "                raise Exception(\"There were no meshes that were touching the boundary group\")\n",
    "\n",
    "            total_skeleton_graph = sk.convert_skeleton_to_graph(sk.stack_skeletons(curr_branches))\n",
    "            skeleton_branches_on_border = [k for n,k in enumerate(curr_branches) if n in mesh_indices_on_border]\n",
    "            skeleton_branches_on_border_endpoints = np.array([sk.find_branch_endpoints(k) for k in skeleton_branches_on_border])\n",
    "\n",
    "\n",
    "\n",
    "            viable_endpoints = []\n",
    "            for enpt in skeleton_branches_on_border_endpoints.reshape(-1,3):\n",
    "                curr_enpt_node = xu.get_graph_node_by_coordinate(total_skeleton_graph,enpt,return_single_value=True)\n",
    "                curr_enpt_degree = xu.get_node_degree(total_skeleton_graph,curr_enpt_node)\n",
    "                #print(f\"curr_enpt_degree = {curr_enpt_degree}\")\n",
    "                if curr_enpt_degree == 1:\n",
    "                    viable_endpoints.append(enpt)\n",
    "\n",
    "            if len(viable_endpoints) == 0:\n",
    "                print(\"No branch endpoints were degree 1 so just using all endpoints\")\n",
    "                viable_endpoints = skeleton_branches_on_border_endpoints.reshape(-1,3)\n",
    "\n",
    "            distanes_from_mean = np.linalg.norm(viable_endpoints-boundary_mean,axis=1)\n",
    "            winning_endpoint = viable_endpoints[np.argmin(distanes_from_mean)]\n",
    "\n",
    "\n",
    "            sk_indices = sk.find_branch_skeleton_with_specific_coordinate(divded_skeleton=curr_branches,\n",
    "                                                                                    current_coordinate=winning_endpoint)\n",
    "\n",
    "            winning_branch = np.intersect1d(mesh_indices_on_border,sk_indices)\n",
    "            if len(winning_branch) == 0:\n",
    "                raise Exception(\"There was no winning branch for the creation of a new soma extending branch\")\n",
    "            else:\n",
    "                winning_branch_single = winning_branch[0]\n",
    "\n",
    "\n",
    "            winning_touching_vertices = tu.filter_vertices_by_mesh(curr_meshes[winning_branch_single],curr_border_group_coordinates)\n",
    "            winning_dict = dict(touching_verts=winning_touching_vertices,endpoint=winning_endpoint)\n",
    "\n",
    "\n",
    "\n",
    "\n",
    "\n",
    "\n",
    "\n",
    "\n",
    "        network_starting_info_revised_cleaned[soma_idx][bound_g_idx] = winning_dict\n",
    "\n",
    "\n",
    "# -------------- Part 18: Filter the limb correspondence for any short stubs ------------ #\n",
    "if filter_end_nodes_from_correspondence:\n",
    "    limb_correspondence_individual = pre.filter_limb_correspondence_for_end_nodes(limb_correspondence=limb_correspondence_individual,\n",
    "                                                 mesh=limb_mesh_mparty,\n",
    "                                                 starting_info=network_starting_info_revised_cleaned,\n",
    "                                                filter_end_node_length=filter_end_node_length\n",
    "\n",
    "                                                )\n",
    "\n",
    "\n",
    "\n",
    "\n",
    "\n",
    "if not return_concept_network:\n",
    "    if return_concept_network_starting_info: #because may want to calculate the concept networks later\n",
    "        return_value = limb_correspondence_individual,network_starting_info_revised_cleaned\n",
    "    else:\n",
    "        return_value = limb_correspondence_individual\n",
    "    raise Exception(\"Returned\")\n",
    "    \n",
    "else:\n",
    "    limb_to_soma_concept_networks = calculate_limb_concept_networks(limb_correspondence_individual,\n",
    "                                                                    network_starting_info_revised_cleaned,\n",
    "                                                                    run_concept_network_checks=run_concept_network_checks,\n",
    "                                                                    error_on_starting_coordinates_not_endnodes= prevent_MP_starter_branch_stitches\n",
    "                                                                   )\n",
    "\n",
    "\n",
    "\n",
    "\n",
    "return_value =  limb_correspondence_individual,limb_to_soma_concept_networks\n",
    "raise Exception(\"Returned\")\n",
    "\n"
   ]
  },
  {
   "cell_type": "code",
   "execution_count": null,
   "metadata": {},
   "outputs": [],
   "source": [
    "nviz.plot_limb_correspondence(limb_correspondence_individual)"
   ]
  },
  {
   "cell_type": "markdown",
   "metadata": {},
   "source": [
    "# Debugging the missing mesh piece"
   ]
  },
  {
   "cell_type": "code",
   "execution_count": null,
   "metadata": {},
   "outputs": [],
   "source": [
    "retrieved_obj = (minnie.Decomposition & dict(segment_id=segment_id)).fetch1(\"decomposition\")"
   ]
  },
  {
   "cell_type": "code",
   "execution_count": null,
   "metadata": {},
   "outputs": [],
   "source": [
    "debug_mesh = mesh_pieces_for_MAP[0]"
   ]
  },
  {
   "cell_type": "code",
   "execution_count": null,
   "metadata": {},
   "outputs": [],
   "source": [
    "nviz.plot_objects(mesh_pieces_for_MAP[0])"
   ]
  },
  {
   "cell_type": "code",
   "execution_count": null,
   "metadata": {},
   "outputs": [],
   "source": [
    "sk = reload(sk)"
   ]
  },
  {
   "cell_type": "code",
   "execution_count": null,
   "metadata": {},
   "outputs": [],
   "source": [
    "for sublimb_idx,(mesh,mesh_idx) in enumerate(zip(mesh_pieces_for_MAP,mesh_pieces_for_MAP_face_idx)):\n",
    "    print(f\"--- Working on MAP piece {sublimb_idx}---\")\n",
    "    #print(f\"soma_touching_vertices_dict = {soma_touching_vertices_dict}\")\n",
    "    mesh_start_time = time.time()\n",
    "    curr_soma_to_piece_touching_vertices = filter_soma_touching_vertices_dict_by_mesh(\n",
    "    mesh = mesh,\n",
    "    curr_piece_to_soma_touching_vertices = soma_touching_vertices_dict\n",
    "    )\n",
    "\n",
    "    if print_fusion_steps:\n",
    "        print(f\"MAP Filtering Soma Pieces: {time.time() - fusion_time }\")\n",
    "        fusion_time = time.time()\n",
    "\n",
    "    # ---- 0) Generating the Clean skeletons  -------------------------------------------#\n",
    "    if not curr_soma_to_piece_touching_vertices is None:\n",
    "        curr_total_border_vertices = dict([(k,np.vstack(v)) for k,v in curr_soma_to_piece_touching_vertices.items()])\n",
    "    else:\n",
    "        curr_total_border_vertices = None\n",
    "\n",
    "\n",
    "    cleaned_branch,curr_limb_endpoints_must_keep = sk.skeletonize_and_clean_connected_branch_CGAL(\n",
    "        mesh=mesh,\n",
    "        curr_soma_to_piece_touching_vertices=curr_soma_to_piece_touching_vertices,\n",
    "        total_border_vertices=curr_total_border_vertices,\n",
    "        filter_end_node_length=filter_end_node_length,\n",
    "        perform_cleaning_checks=perform_cleaning_checks,\n",
    "        combine_close_skeleton_nodes = combine_close_skeleton_nodes,\n",
    "        combine_close_skeleton_nodes_threshold=combine_close_skeleton_nodes_threshold,\n",
    "    use_surface_after_CGAL=use_surface_after_CGAL,\n",
    "    surface_reconstruction_size=surface_reconstruction_size,\n",
    "    verbose=True)\n",
    "\n",
    "    if not curr_limb_endpoints_must_keep is None:\n",
    "        limb_to_endpoints_must_keep_list.append(curr_limb_endpoints_must_keep)\n",
    "        limb_to_soma_touching_vertices_list.append(curr_soma_to_piece_touching_vertices)\n",
    "    else:\n",
    "        print(\"Inside MAP decomposition and curr_limb_endpoints_must_keep was None\")\n",
    "\n",
    "    if len(cleaned_branch) == 0:\n",
    "        raise Exception(f\"Found a zero length skeleton for limb {z} of trmesh {branch}\")\n",
    "\n",
    "    if print_fusion_steps:\n",
    "        print(f\"skeletonize_and_clean_connected_branch_CGAL: {time.time() - fusion_time }\")\n",
    "        fusion_time = time.time()\n",
    "\n",
    "    # ---- 1) Generating Initial Mesh Correspondence -------------------------------------------#\n",
    "    start_time = time.time()\n",
    "\n",
    "    print(f\"Working on limb correspondence for #{sublimb_idx} MAP piece\")\n",
    "    local_correspondence = mesh_correspondence_first_pass(mesh=mesh,\n",
    "                                                         skeleton=cleaned_branch,\n",
    "                                                         distance_by_mesh_center=distance_by_mesh_center,\n",
    "                                                         connectivity=\"edges\",\n",
    "                                                         remove_inside_pieces_threshold=100)\n",
    "\n",
    "\n",
    "    print(f\"Total time for decomposition = {time.time() - start_time}\")\n",
    "    if print_fusion_steps:\n",
    "        print(f\"mesh_correspondence_first_pass: {time.time() - fusion_time }\")\n",
    "        fusion_time = time.time()\n",
    "\n",
    "\n",
    "    #------------- 2) Doing Some checks on the initial corespondence -------- #\n",
    "\n",
    "\n",
    "    if perform_cleaning_checks:\n",
    "        check_skeletonization_and_decomp(skeleton=cleaned_branch,\n",
    "                                        local_correspondence=local_correspondence)\n",
    "\n",
    "    # -------3) Finishing off the face correspondence so get 1-to-1 correspondence of mesh face to skeletal piece\n",
    "    local_correspondence_revised = correspondence_1_to_1(mesh=mesh,\n",
    "                                    local_correspondence=local_correspondence,\n",
    "                                    curr_limb_endpoints_must_keep=curr_limb_endpoints_must_keep,\n",
    "                                    curr_soma_to_piece_touching_vertices=curr_soma_to_piece_touching_vertices)\n",
    "\n",
    "    # -------3b) Fixing the mesh indices to correspond to the larger mesh as a whole\n",
    "    for k,v in local_correspondence_revised.items():\n",
    "        local_correspondence_revised[k][\"branch_face_idx\"] = mesh_idx[local_correspondence_revised[k][\"branch_face_idx\"]]\n",
    "\n",
    "    print(f\"Total time for MAP sublimb #{sublimb_idx} mesh processing = {time.time() - mesh_start_time}\")\n",
    "\n",
    "    if print_fusion_steps:\n",
    "        print(f\"correspondence_1_to_1: {time.time() - fusion_time }\")\n",
    "        fusion_time = time.time()\n",
    "\n",
    "    limb_correspondence_MAP[sublimb_idx] = local_correspondence_revised\n",
    "    \n",
    "    raise Exception(\"Done #0 mesh piece\")\n",
    "\n",
    "print(f\"Total time for MAP sublimb processing {time.time() - global_start_time}\")"
   ]
  },
  {
   "cell_type": "code",
   "execution_count": null,
   "metadata": {},
   "outputs": [],
   "source": [
    "current_skeleton = su.decompress_pickle(\"current_skeleton\")"
   ]
  },
  {
   "cell_type": "code",
   "execution_count": null,
   "metadata": {},
   "outputs": [],
   "source": [
    "nviz.plot_objects(debug_mesh,\n",
    "                 skeletons=[current_skeleton])"
   ]
  },
  {
   "cell_type": "markdown",
   "metadata": {},
   "source": [
    "# Do the new function where can protect the segments we want"
   ]
  },
  {
   "cell_type": "code",
   "execution_count": null,
   "metadata": {},
   "outputs": [],
   "source": [
    "import networkx_utils as xu"
   ]
  },
  {
   "cell_type": "code",
   "execution_count": null,
   "metadata": {},
   "outputs": [],
   "source": [
    "\"\"\"\n",
    "Pseudocode: \n",
    "1) Turn the skeleton into a graph\n",
    "2) Get all of the end nodes\n",
    "3) Get all of the high degree nodes in the graph\n",
    "\n",
    "if there are high degree nodes, for each end nodes\n",
    "a. Find the path to the nearest high degree node\n",
    "b. Get the skeleton of that subgraph\n",
    "c. If length of that skeleton is within a certain range:\n",
    "    1) Run the first pass mesh correspondence\n",
    "    2) If the mesh is of a certain size, add the endpoint to the endpoints to keep\n",
    "\n",
    "\"\"\""
   ]
  },
  {
   "cell_type": "code",
   "execution_count": null,
   "metadata": {},
   "outputs": [],
   "source": [
    "debug_mesh.submesh([[1]],append=True,repair=False)"
   ]
  },
  {
   "cell_type": "code",
   "execution_count": null,
   "metadata": {},
   "outputs": [],
   "source": [
    "\n",
    "import trimesh_utils as tu\n",
    "                                                                \n",
    "return_value = tu.skeleton_to_mesh_correspondence( mesh = debug_mesh,\n",
    "                                                skeletons = viable_end_node_skeletons\n",
    "                                   )\n",
    "\n",
    "nviz.plot_objects(meshes=return_value,\n",
    "                  meshes_colors=\"random\",\n",
    "                  skeletons=viable_end_node_skeletons,\n",
    "                 skeletons_colors=\"random\")\n",
    "    "
   ]
  },
  {
   "cell_type": "code",
   "execution_count": null,
   "metadata": {},
   "outputs": [],
   "source": [
    "nviz.plot_objects(meshes=return_value,\n",
    "                  meshes_colors=\"random\",\n",
    "                  skeletons=viable_end_node_skeletons,\n",
    "                 skeletons_colors=\"random\")"
   ]
  },
  {
   "cell_type": "code",
   "execution_count": null,
   "metadata": {},
   "outputs": [],
   "source": [
    "skeleton = current_skeleton"
   ]
  },
  {
   "cell_type": "code",
   "execution_count": null,
   "metadata": {},
   "outputs": [],
   "source": [
    "sk.find_end_nodes_with_significant_mesh_correspondence(\n",
    "    mesh = debug_mesh,\n",
    "    skeleton = current_skeleton,\n",
    "    plot_viable_endpoint_correspondences = False,\n",
    "    plot_keep_endpoints = False,\n",
    "    verbose = False)"
   ]
  },
  {
   "cell_type": "code",
   "execution_count": null,
   "metadata": {},
   "outputs": [],
   "source": [
    "viable_end_node_skeletons_len"
   ]
  },
  {
   "cell_type": "code",
   "execution_count": null,
   "metadata": {},
   "outputs": [],
   "source": []
  },
  {
   "cell_type": "code",
   "execution_count": null,
   "metadata": {},
   "outputs": [],
   "source": []
  },
  {
   "cell_type": "code",
   "execution_count": null,
   "metadata": {},
   "outputs": [],
   "source": []
  },
  {
   "cell_type": "code",
   "execution_count": null,
   "metadata": {},
   "outputs": [],
   "source": [
    "sk.skeletonize_connected_branch"
   ]
  },
  {
   "cell_type": "code",
   "execution_count": null,
   "metadata": {},
   "outputs": [],
   "source": [
    "ret_col = nviz.visualize_neuron(retrieved_obj,\n",
    "                      visualize_type=[\"mesh\",\"skeleton\"],\n",
    "                     limb_branch_dict=dict(L1=\"all\"),\n",
    "                     return_color_dict=True)"
   ]
  },
  {
   "cell_type": "code",
   "execution_count": null,
   "metadata": {},
   "outputs": [],
   "source": [
    "nviz.plot_limb_concept_network_2D(retrieved_obj,\n",
    "                                 node_colors=ret_col,\n",
    "                                 starting_soma=0,\n",
    "                                 starting_soma_group=1)"
   ]
  },
  {
   "cell_type": "code",
   "execution_count": null,
   "metadata": {},
   "outputs": [],
   "source": [
    "curr_limb = retrieved_obj[1]"
   ]
  },
  {
   "cell_type": "code",
   "execution_count": null,
   "metadata": {},
   "outputs": [],
   "source": [
    "curr_limb.set_concept_network_directional?"
   ]
  },
  {
   "cell_type": "code",
   "execution_count": null,
   "metadata": {},
   "outputs": [],
   "source": []
  },
  {
   "cell_type": "code",
   "execution_count": null,
   "metadata": {},
   "outputs": [],
   "source": []
  },
  {
   "cell_type": "code",
   "execution_count": null,
   "metadata": {},
   "outputs": [],
   "source": []
  },
  {
   "cell_type": "code",
   "execution_count": null,
   "metadata": {},
   "outputs": [],
   "source": []
  },
  {
   "cell_type": "code",
   "execution_count": null,
   "metadata": {},
   "outputs": [],
   "source": [
    "nru.all_soma_connnecting_endpionts_from_starting_info(network_starting_info_revised_cleaned)"
   ]
  },
  {
   "cell_type": "code",
   "execution_count": null,
   "metadata": {},
   "outputs": [],
   "source": [
    "winning_vertex = np.array([1155881.9375  , 519313.2625  , 763731.68125])\n",
    "nu.matching_rows(total_keep_endpoints,winning_vertex)"
   ]
  },
  {
   "cell_type": "code",
   "execution_count": null,
   "metadata": {},
   "outputs": [],
   "source": [
    "limb_correspondence_individual = pre.filter_limb_correspondence_for_end_nodes(limb_correspondence=limb_correspondence_individual,\n",
    "                                                 mesh=limb_mesh_mparty,\n",
    "                                                 starting_info=network_starting_info_revised_cleaned,\n",
    "                                                filter_end_node_length=filter_end_node_length\n",
    "\n",
    "                                                )"
   ]
  },
  {
   "cell_type": "code",
   "execution_count": null,
   "metadata": {},
   "outputs": [],
   "source": [
    "total_keep_endpoints"
   ]
  },
  {
   "cell_type": "code",
   "execution_count": null,
   "metadata": {},
   "outputs": [],
   "source": [
    "st_coord = nru.all_soma_connnecting_endpionts_from_starting_info(network_starting_info_revised_cleaned)\n",
    "st_coord"
   ]
  },
  {
   "cell_type": "code",
   "execution_count": null,
   "metadata": {},
   "outputs": [],
   "source": [
    "st_coord"
   ]
  },
  {
   "cell_type": "code",
   "execution_count": null,
   "metadata": {},
   "outputs": [],
   "source": [
    "total_keep_endpoints"
   ]
  },
  {
   "cell_type": "code",
   "execution_count": null,
   "metadata": {},
   "outputs": [],
   "source": [
    "limb_to_endpoints_must_keep_list"
   ]
  },
  {
   "cell_type": "code",
   "execution_count": null,
   "metadata": {},
   "outputs": [],
   "source": [
    "network_starting_info"
   ]
  },
  {
   "cell_type": "code",
   "execution_count": null,
   "metadata": {},
   "outputs": [],
   "source": [
    "t_verts_list_total"
   ]
  },
  {
   "cell_type": "code",
   "execution_count": null,
   "metadata": {},
   "outputs": [],
   "source": [
    "network_starting_info_revised"
   ]
  },
  {
   "cell_type": "code",
   "execution_count": null,
   "metadata": {},
   "outputs": [],
   "source": [
    "network_starting_info_revised"
   ]
  },
  {
   "cell_type": "code",
   "execution_count": null,
   "metadata": {},
   "outputs": [],
   "source": [
    "network_starting_info_revised[1]"
   ]
  },
  {
   "cell_type": "code",
   "execution_count": null,
   "metadata": {},
   "outputs": [],
   "source": [
    "nru.all_soma_connnecting_endpionts_from_starting_info(network_starting_info_revised)"
   ]
  },
  {
   "cell_type": "code",
   "execution_count": null,
   "metadata": {},
   "outputs": [],
   "source": [
    "nviz.plot_limb_correspondence(limb_correspondence_MP_saved,\n",
    "                             meshes_colors=\"green\",\n",
    "                             skeleton_colors=\"blue\",\n",
    "                             scatters=total_keep_endpoints)"
   ]
  },
  {
   "cell_type": "code",
   "execution_count": null,
   "metadata": {},
   "outputs": [],
   "source": []
  },
  {
   "cell_type": "code",
   "execution_count": null,
   "metadata": {},
   "outputs": [],
   "source": []
  },
  {
   "cell_type": "code",
   "execution_count": null,
   "metadata": {},
   "outputs": [],
   "source": [
    "nviz.plot_limb_correspondence(limb_correspondence_MAP_saved,\n",
    "                             meshes_colors=\"green\",\n",
    "                             skeleton_colors=\"blue\",\n",
    "                             scatters=st_coord[0:1])"
   ]
  },
  {
   "cell_type": "code",
   "execution_count": null,
   "metadata": {},
   "outputs": [],
   "source": [
    "nviz.plot_limb_correspondence(limb_correspondence_individual,\n",
    "                             meshes_colors=\"green\",\n",
    "                             skeleton_colors=\"blue\",\n",
    "                             scatters=st_coord)"
   ]
  },
  {
   "cell_type": "markdown",
   "metadata": {},
   "source": [
    "# Debugging the limb correspondence error"
   ]
  },
  {
   "cell_type": "code",
   "execution_count": null,
   "metadata": {},
   "outputs": [],
   "source": [
    "for sublimb_idx,(mesh,mesh_idx) in enumerate(zip(mesh_pieces_for_MAP,mesh_pieces_for_MAP_face_idx)):\n",
    "    print(f\"--- Working on MAP piece {sublimb_idx}---\")\n",
    "    #print(f\"soma_touching_vertices_dict = {soma_touching_vertices_dict}\")\n",
    "    mesh_start_time = time.time()\n",
    "    curr_soma_to_piece_touching_vertices = filter_soma_touching_vertices_dict_by_mesh(\n",
    "    mesh = mesh,\n",
    "    curr_piece_to_soma_touching_vertices = soma_touching_vertices_dict\n",
    "    )\n",
    "\n",
    "    if print_fusion_steps:\n",
    "        print(f\"MAP Filtering Soma Pieces: {time.time() - fusion_time }\")\n",
    "        fusion_time = time.time()\n",
    "\n",
    "    # ---- 0) Generating the Clean skeletons  -------------------------------------------#\n",
    "    if not curr_soma_to_piece_touching_vertices is None:\n",
    "        curr_total_border_vertices = dict([(k,np.vstack(v)) for k,v in curr_soma_to_piece_touching_vertices.items()])\n",
    "    else:\n",
    "        curr_total_border_vertices = None\n",
    "\n",
    "\n",
    "    cleaned_branch,curr_limb_endpoints_must_keep = sk.skeletonize_and_clean_connected_branch_CGAL(\n",
    "        mesh=mesh,\n",
    "        curr_soma_to_piece_touching_vertices=curr_soma_to_piece_touching_vertices,\n",
    "        total_border_vertices=curr_total_border_vertices,\n",
    "        filter_end_node_length=filter_end_node_length,\n",
    "        perform_cleaning_checks=perform_cleaning_checks,\n",
    "        combine_close_skeleton_nodes = combine_close_skeleton_nodes,\n",
    "        combine_close_skeleton_nodes_threshold=combine_close_skeleton_nodes_threshold,\n",
    "    use_surface_after_CGAL=use_surface_after_CGAL,\n",
    "    surface_reconstruction_size=surface_reconstruction_size)\n",
    "\n",
    "    if not curr_limb_endpoints_must_keep is None:\n",
    "        limb_to_endpoints_must_keep_list.append(curr_limb_endpoints_must_keep)\n",
    "        limb_to_soma_touching_vertices_list.append(curr_soma_to_piece_touching_vertices)\n",
    "    else:\n",
    "        print(\"Inside MAP decomposition and curr_limb_endpoints_must_keep was None\")\n",
    "\n",
    "    if len(cleaned_branch) == 0:\n",
    "        raise Exception(f\"Found a zero length skeleton for limb {z} of trmesh {branch}\")\n",
    "\n",
    "    if print_fusion_steps:\n",
    "        print(f\"skeletonize_and_clean_connected_branch_CGAL: {time.time() - fusion_time }\")\n",
    "        fusion_time = time.time()\n",
    "\n",
    "    # ---- 1) Generating Initial Mesh Correspondence -------------------------------------------#\n",
    "    start_time = time.time()\n",
    "\n",
    "    print(f\"Working on limb correspondence for #{sublimb_idx} MAP piece\")\n",
    "    local_correspondence = mesh_correspondence_first_pass(mesh=mesh,\n",
    "                                                         skeleton=cleaned_branch,\n",
    "                                                         distance_by_mesh_center=distance_by_mesh_center,\n",
    "                                                         connectivity=\"edges\",\n",
    "                                                         remove_inside_pieces_threshold=100)\n",
    "\n",
    "\n",
    "    print(f\"Total time for decomposition = {time.time() - start_time}\")\n",
    "    if print_fusion_steps:\n",
    "        print(f\"mesh_correspondence_first_pass: {time.time() - fusion_time }\")\n",
    "        fusion_time = time.time()\n",
    "\n",
    "\n",
    "    #------------- 2) Doing Some checks on the initial corespondence -------- #\n",
    "\n",
    "\n",
    "    if perform_cleaning_checks:\n",
    "        check_skeletonization_and_decomp(skeleton=cleaned_branch,\n",
    "                                        local_correspondence=local_correspondence)\n",
    "\n",
    "    # -------3) Finishing off the face correspondence so get 1-to-1 correspondence of mesh face to skeletal piece\n",
    "    local_correspondence_revised = correspondence_1_to_1(mesh=mesh,\n",
    "                                    local_correspondence=local_correspondence,\n",
    "                                    curr_limb_endpoints_must_keep=curr_limb_endpoints_must_keep,\n",
    "                                    curr_soma_to_piece_touching_vertices=curr_soma_to_piece_touching_vertices)\n",
    "\n",
    "    # -------3b) Fixing the mesh indices to correspond to the larger mesh as a whole\n",
    "    for k,v in local_correspondence_revised.items():\n",
    "        local_correspondence_revised[k][\"branch_face_idx\"] = mesh_idx[local_correspondence_revised[k][\"branch_face_idx\"]]\n",
    "\n",
    "    print(f\"Total time for MAP sublimb #{sublimb_idx} mesh processing = {time.time() - mesh_start_time}\")\n",
    "\n",
    "    if print_fusion_steps:\n",
    "        print(f\"correspondence_1_to_1: {time.time() - fusion_time }\")\n",
    "        fusion_time = time.time()\n",
    "\n",
    "    limb_correspondence_MAP[sublimb_idx] = local_correspondence_revised\n",
    "    \n",
    "    raise Exception(\"Done #0 mesh piece\")\n",
    "\n",
    "print(f\"Total time for MAP sublimb processing {time.time() - global_start_time}\")"
   ]
  },
  {
   "cell_type": "code",
   "execution_count": null,
   "metadata": {
    "scrolled": true
   },
   "outputs": [],
   "source": [
    "nviz.plot_objects(mesh,\n",
    "                 skeletons=[cleaned_branch])"
   ]
  },
  {
   "cell_type": "code",
   "execution_count": null,
   "metadata": {},
   "outputs": [],
   "source": [
    "nviz.plot_limb_correspondence(local_correspondence,mesh_name=\"correspondence_mesh\")"
   ]
  },
  {
   "cell_type": "code",
   "execution_count": null,
   "metadata": {},
   "outputs": [],
   "source": [
    "nviz = reload(nviz)\n",
    "nviz.plot_limb_correspondence(local_correspondence,mesh_name=\"correspondence_mesh\")"
   ]
  },
  {
   "cell_type": "code",
   "execution_count": null,
   "metadata": {},
   "outputs": [],
   "source": [
    "nviz.plot_limb_correspondence(local_correspondence_revised)"
   ]
  },
  {
   "cell_type": "markdown",
   "metadata": {},
   "source": [
    "# Debugging the local correspondence"
   ]
  },
  {
   "cell_type": "code",
   "execution_count": null,
   "metadata": {},
   "outputs": [],
   "source": [
    "mesh=mesh\n",
    "skeleton=cleaned_branch\n",
    "distance_by_mesh_center=distance_by_mesh_center\n",
    "connectivity=\"edges\"\n",
    "\n",
    "skeleton_branches=None\n",
    "\n",
    "\"\"\"\n",
    "Will come up with the mesh correspondences for all of the skeleton\n",
    "branches: where there can be overlaps and empty faces\n",
    "\n",
    "\"\"\"\n",
    "curr_limb_mesh = mesh\n",
    "curr_limb_sk = skeleton\n",
    "\n",
    "if skeleton_branches is None:\n",
    "    if skeleton is None:\n",
    "        raise Exception(\"Both skeleton and skeleton_branches is None\")\n",
    "    curr_limb_branches_sk_uneven = sk.decompose_skeleton_to_branches(curr_limb_sk) #the line that is decomposing to branches\n",
    "else:\n",
    "    curr_limb_branches_sk_uneven = skeleton_branches \n",
    "\n",
    "#Doing the limb correspondence for all of the branches of the skeleton\n",
    "local_correspondence = dict()\n",
    "for j,curr_branch_sk in tqdm(enumerate(curr_limb_branches_sk_uneven)):\n",
    "    local_correspondence[j] = dict()\n",
    "\n",
    "\n",
    "    returned_data = cu.mesh_correspondence_adaptive_distance(curr_branch_sk,\n",
    "                                  curr_limb_mesh,\n",
    "                                 skeleton_segment_width = 1000,\n",
    "                                 distance_by_mesh_center=distance_by_mesh_center,\n",
    "                                                            connectivity=connectivity)\n",
    "    if len(returned_data) == 0:\n",
    "        print(\"Got nothing from first pass so expanding the mesh correspondnece parameters \")\n",
    "        returned_data = cu.mesh_correspondence_adaptive_distance(curr_branch_sk,\n",
    "                                  curr_limb_mesh,\n",
    "                                 skeleton_segment_width = 1000,\n",
    "                                 distance_by_mesh_center=distance_by_mesh_center,\n",
    "                                buffer=300,\n",
    "                                 distance_threshold=6000,\n",
    "                                return_closest_face_on_empty=True,\n",
    "                                    connectivity=connectivity)\n",
    "\n",
    "    # Need to just pick the closest face is still didn't get anything\n",
    "\n",
    "    # ------ 12/3 Addition: Account for correspondence that does not work so just picking the closest face\n",
    "    curr_branch_face_correspondence, width_from_skeleton = returned_data\n",
    "\n",
    "\n",
    "#             print(f\"curr_branch_sk.shape = {curr_branch_sk.shape}\")\n",
    "#             np.savez(\"saved_skeleton_branch.npz\",curr_branch_sk=curr_branch_sk)\n",
    "#             tu.write_neuron_off(curr_limb_mesh,\"curr_limb_mesh.off\")\n",
    "#             #print(f\"returned_data = {returned_data}\")\n",
    "#             raise Exception(f\"The output from mesh_correspondence_adaptive_distance was nothing: curr_branch_face_correspondence\")\n",
    "\n",
    "\n",
    "    if len(curr_branch_face_correspondence) > 0:\n",
    "        curr_submesh = curr_limb_mesh.submesh([list(curr_branch_face_correspondence)],append=True,repair=False)\n",
    "    else:\n",
    "        curr_submesh = trimesh.Trimesh(vertices=np.array([]),faces=np.array([]))\n",
    "\n",
    "\n",
    "    local_correspondence[j][\"branch_skeleton\"] = curr_branch_sk\n",
    "    local_correspondence[j][\"correspondence_mesh\"] = curr_submesh\n",
    "    local_correspondence[j][\"correspondence_face_idx\"] = curr_branch_face_correspondence\n",
    "    local_correspondence[j][\"width_from_skeleton\"] = width_from_skeleton"
   ]
  },
  {
   "cell_type": "code",
   "execution_count": null,
   "metadata": {},
   "outputs": [],
   "source": [
    "tu.original_mesh_faces_map(curr_limb_mesh,inside_pieces)"
   ]
  },
  {
   "cell_type": "code",
   "execution_count": null,
   "metadata": {},
   "outputs": [],
   "source": [
    "curr_limb_mesh,len(new_mesh)"
   ]
  },
  {
   "cell_type": "code",
   "execution_count": null,
   "metadata": {},
   "outputs": [],
   "source": [
    "new_mesh = tu.remove_mesh_interior(curr_limb_mesh,size_threshold_to_remove=100,try_hole_close=False,return_removed_pieces=False,\n",
    "                                  return_face_indices=True)\n",
    "\n",
    "nviz.plot_objects(curr_limb_mesh.submesh([new_mesh],append=True))"
   ]
  },
  {
   "cell_type": "code",
   "execution_count": null,
   "metadata": {},
   "outputs": [],
   "source": [
    "test_skeleton = curr_limb_branches_sk_uneven[2]\n",
    "curr_branch_face_correspondence, width_from_skeleton = cu.mesh_correspondence_adaptive_distance(test_skeleton,\n",
    "                                 new_mesh,\n",
    "                                 skeleton_segment_width = 1000,\n",
    "                                 distance_by_mesh_center=distance_by_mesh_center,\n",
    "                                                            connectivity=connectivity,\n",
    "                                                                                               #buffer=3000\n",
    "                                                                                               )"
   ]
  },
  {
   "cell_type": "code",
   "execution_count": null,
   "metadata": {},
   "outputs": [],
   "source": [
    "curr_submesh = new_mesh.submesh([list(curr_branch_face_correspondence)],append=True,repair=False)\n",
    "nviz.plot_objects(curr_submesh,\n",
    "                 skeletons=[test_skeleton],\n",
    "                 meshes=inside_pieces,\n",
    "                 meshes_colors=\"red\")"
   ]
  },
  {
   "cell_type": "code",
   "execution_count": null,
   "metadata": {},
   "outputs": [],
   "source": [
    "len(face_subtract_indices)"
   ]
  },
  {
   "cell_type": "code",
   "execution_count": null,
   "metadata": {},
   "outputs": [],
   "source": [
    "face_subtract_indices = su.decompress_pickle(\"face_subtract_indices\")\n",
    "debug_mesh = curr_limb_mesh.submesh([np.unique(np.concatenate(face_subtract_indices))],append=True,)"
   ]
  },
  {
   "cell_type": "code",
   "execution_count": null,
   "metadata": {},
   "outputs": [],
   "source": [
    "ret_val = tu.remove_mesh_interior(debug_mesh,size_threshold_to_remove=100,verbose=True,return_removed_pieces=True)"
   ]
  },
  {
   "cell_type": "code",
   "execution_count": null,
   "metadata": {},
   "outputs": [],
   "source": [
    "debug_mesh_revised,inside_pieces = ret_val"
   ]
  },
  {
   "cell_type": "code",
   "execution_count": null,
   "metadata": {},
   "outputs": [],
   "source": [
    "nviz.plot_objects(main_mesh=debug_mesh_revised,\n",
    "                meshes=inside_pieces,\n",
    "                 meshes_colors=\"random\")"
   ]
  },
  {
   "cell_type": "code",
   "execution_count": null,
   "metadata": {},
   "outputs": [],
   "source": [
    "split_meshes = tu.split_significant_pieces(debug_mesh,connectivity=\"vertices\")\n",
    "nviz.plot_objects(meshes=split_meshes,\n",
    "                  meshes_colors=\"random\")"
   ]
  },
  {
   "cell_type": "code",
   "execution_count": null,
   "metadata": {},
   "outputs": [],
   "source": [
    "nviz.plot_objects(meshes=tu.split(debug_mesh,connectivity=\"edges\")[0],\n",
    "                  meshes_colors=\"random\")"
   ]
  },
  {
   "cell_type": "code",
   "execution_count": null,
   "metadata": {},
   "outputs": [],
   "source": [
    "nviz.plot_objects(,\n",
    "                  skeletons=[test_skeleton])\n",
    "                  \n"
   ]
  },
  {
   "cell_type": "code",
   "execution_count": null,
   "metadata": {},
   "outputs": [],
   "source": [
    "face_subtract_indices = su.decompress_pickle(\"face_subtract_indices\")\n",
    "conn_face_components = nu.intersecting_array_components(face_subtract_indices,sort_components=True)\n",
    "conn_comps_lenghts = np.array([len(k) for k in conn_face_components])\n",
    "max_len_components_idx = np.where(conn_comps_lenghts == np.max(conn_comps_lenghts))[0]\n",
    "\n",
    "#2) Get the face indices for all those in the group\n",
    "max_len_components_unique_faces = [np.unique(np.concatenate([face_subtract_indices[k] \n",
    "                                                             for k in conn_face_components[cmp_idx]])) for cmp_idx in  max_len_components_idx]\n",
    "unique_removed_faces_pre = max_len_components_unique_faces[np.argmax([len(k) for k in max_len_components_unique_faces])]\n",
    "unique_removed_faces_pre"
   ]
  },
  {
   "cell_type": "code",
   "execution_count": null,
   "metadata": {},
   "outputs": [],
   "source": [
    "nviz.plot_objects(curr_limb_mesh.submesh([unique_removed_faces_pre],append=True),\n",
    "                 skeletons=[test_skeleton])"
   ]
  },
  {
   "cell_type": "code",
   "execution_count": null,
   "metadata": {},
   "outputs": [],
   "source": []
  },
  {
   "cell_type": "code",
   "execution_count": null,
   "metadata": {},
   "outputs": [],
   "source": [
    "nviz.plot_objects(skeletons=curr_limb_branches_sk_uneven,\n",
    "                 scatters=[curr_limb_branches_sk_uneven[2].reshape(-1,3)])"
   ]
  },
  {
   "cell_type": "code",
   "execution_count": null,
   "metadata": {},
   "outputs": [],
   "source": []
  },
  {
   "cell_type": "code",
   "execution_count": null,
   "metadata": {},
   "outputs": [],
   "source": []
  },
  {
   "cell_type": "code",
   "execution_count": null,
   "metadata": {},
   "outputs": [],
   "source": [
    "limb_correspondence_individual[0]"
   ]
  },
  {
   "cell_type": "code",
   "execution_count": null,
   "metadata": {},
   "outputs": [],
   "source": [
    "dict([(k,v) for k,v in limb_correspondence_individual.items() if k in np.arange(10,20)])"
   ]
  },
  {
   "cell_type": "code",
   "execution_count": null,
   "metadata": {},
   "outputs": [],
   "source": []
  },
  {
   "cell_type": "code",
   "execution_count": null,
   "metadata": {},
   "outputs": [],
   "source": [
    "nviz.plot_limb_correspondence(dict([(k,v) for k,v in limb_correspondence_individual.items() if k in np.arange(19,20)]))"
   ]
  },
  {
   "cell_type": "code",
   "execution_count": null,
   "metadata": {},
   "outputs": [],
   "source": [
    "nviz.plot_objects(meshes=mesh_pieces_for_MAP,\n",
    "                  meshes_colors=[\"red\",\"black\"])"
   ]
  },
  {
   "cell_type": "code",
   "execution_count": null,
   "metadata": {},
   "outputs": [],
   "source": [
    "nviz.plot_limb_correspondence(limb_correspondence_MAP)"
   ]
  },
  {
   "cell_type": "code",
   "execution_count": null,
   "metadata": {},
   "outputs": [],
   "source": []
  },
  {
   "cell_type": "code",
   "execution_count": null,
   "metadata": {},
   "outputs": [],
   "source": [
    "nviz.visualize_neuron(\n",
    "                        recovered_neuron,\n",
    "                      visualize_type=[\"mesh\",\"skeleton\"],\n",
    "                      limb_branch_dict=dict(L1=\"all\")\n",
    "                     )"
   ]
  },
  {
   "cell_type": "code",
   "execution_count": null,
   "metadata": {},
   "outputs": [],
   "source": [
    "curr_br_endpts_unique"
   ]
  },
  {
   "cell_type": "code",
   "execution_count": null,
   "metadata": {},
   "outputs": [],
   "source": [
    "nviz.plot_objects(skeletons=[curr_skeleton_MAP,curr_skeleton_MP],\n",
    "                 skeletons_colors=[\"red\",\"black\"],\n",
    "                 scatters=[MAP_stitch_point.reshape(-1,3)],\n",
    "                 scatter_size=0.4)"
   ]
  },
  {
   "cell_type": "code",
   "execution_count": null,
   "metadata": {},
   "outputs": [],
   "source": [
    "curr_br_endpts_unique"
   ]
  },
  {
   "cell_type": "code",
   "execution_count": null,
   "metadata": {},
   "outputs": [],
   "source": [
    "nu.setdiff2d(curr_br_endpts_unique,total_keep_endpoints)"
   ]
  },
  {
   "cell_type": "code",
   "execution_count": null,
   "metadata": {},
   "outputs": [],
   "source": [
    "st = time.time()\n",
    "np.array([k for k in curr_br_endpts_unique if len(nu.matching_rows(total_keep_endpoints,k))==0])\n",
    "print(f\"total time = {time.time() - st}\")"
   ]
  },
  {
   "cell_type": "code",
   "execution_count": null,
   "metadata": {},
   "outputs": [],
   "source": [
    "st = time.time()\n",
    "np.array([k for k in curr_br_endpts_unique if len(nu.matching_rows(total_keep_endpoints,k))==0])\n",
    "print(f\"total time = {time.time() - st}\")"
   ]
  },
  {
   "cell_type": "code",
   "execution_count": null,
   "metadata": {},
   "outputs": [],
   "source": [
    "sk = reload(sk)\n",
    "sk.move_point_to_nearest_branch_end_point_within_threshold(\n",
    "                                                    skeleton=curr_skeleton_MAP,\n",
    "                                                    coordinate=MAP_stitch_point,\n",
    "                                                    distance_to_move_point_threshold = distance_to_move_point_threshold,\n",
    "                                                    verbose=True,\n",
    "                                                    possible_node_coordinates=nu.setdiff2d(curr_br_endpts_unique,total_keep_endpoints),\n",
    "                                                    excluded_node_coordinates=total_keep_endpoints,\n",
    "                                                    )"
   ]
  },
  {
   "cell_type": "code",
   "execution_count": null,
   "metadata": {},
   "outputs": [],
   "source": [
    "network_starting_info_revised_cleaned"
   ]
  },
  {
   "cell_type": "code",
   "execution_count": null,
   "metadata": {},
   "outputs": [],
   "source": [
    "st_endpts = nru.all_soma_connnecting_endpionts_from_starting_info(network_starting_info_revised_cleaned,multiple_limbs=False)\n",
    "meshes,skeletons = nviz.limb_correspondence_plottable(limb_correspondence_MAP_saved)\n",
    "nviz.plot_objects(meshes=meshes,\n",
    "                  skeletons=skeletons,\n",
    "                             meshes_colors=\"green\",\n",
    "                             skeletons_colors=\"blue\",\n",
    "                 scatters=[st_endpts],\n",
    "                 scatter_size=0.5)"
   ]
  },
  {
   "cell_type": "code",
   "execution_count": null,
   "metadata": {},
   "outputs": [],
   "source": [
    "meshes,skeletons = nviz.limb_correspondence_plottable(limb_correspondence_individual)"
   ]
  },
  {
   "cell_type": "code",
   "execution_count": null,
   "metadata": {},
   "outputs": [],
   "source": [
    "total_skeleton = sk.stack_skeletons(skeletons)"
   ]
  },
  {
   "cell_type": "code",
   "execution_count": null,
   "metadata": {},
   "outputs": [],
   "source": [
    "nviz.plot_objects(\n",
    "                #meshes=meshes,\n",
    "                skeletons=[skeletons[k] for k in [1,86]],\n",
    "                 skeletons_colors=\"random\",\n",
    "                scatters=[skeletons[1].reshape(-1,3)],\n",
    "    scatter_size=1\n",
    ")"
   ]
  },
  {
   "cell_type": "code",
   "execution_count": null,
   "metadata": {},
   "outputs": [],
   "source": [
    "sk.calculate_skeleton_distance(skeletons[1])"
   ]
  },
  {
   "cell_type": "code",
   "execution_count": null,
   "metadata": {},
   "outputs": [],
   "source": [
    "sk.calculate_skeleton_distance(skeletons[86])"
   ]
  },
  {
   "cell_type": "code",
   "execution_count": null,
   "metadata": {},
   "outputs": [],
   "source": [
    "sk.find_branch_skeleton_with_specific_coordinate(skeletons,st_endpts[2])"
   ]
  },
  {
   "cell_type": "code",
   "execution_count": null,
   "metadata": {},
   "outputs": [],
   "source": [
    "st_endpts = nru.all_soma_connnecting_endpionts_from_starting_info(network_starting_info_revised_cleaned,multiple_limbs=False)\n",
    "meshes,skeletons = nviz.limb_correspondence_plottable(limb_correspondence_individual)\n",
    "nviz.plot_objects(meshes=meshes,\n",
    "                  skeletons=skeletons,\n",
    "                             meshes_colors=\"green\",\n",
    "                             skeletons_colors=\"blue\",\n",
    "                 scatters=[st_endpts[2]],\n",
    "                 scatter_size=0.5)"
   ]
  },
  {
   "cell_type": "code",
   "execution_count": null,
   "metadata": {},
   "outputs": [],
   "source": [
    "\n",
    "st_endpts"
   ]
  },
  {
   "cell_type": "code",
   "execution_count": null,
   "metadata": {},
   "outputs": [],
   "source": [
    "meshes,skeletons = nviz.limb_correspondence_plottable(limb_correspondence_MAP_saved)\n",
    "nviz.plot_objects(meshes=meshes,\n",
    "                  skeletons=skeletons,\n",
    "                             meshes_colors=\"green\",\n",
    "                             skeletons_colors=\"blue\",\n",
    "                 scatters=[st_endpts],\n",
    "                 scatter_size=0.1)"
   ]
  },
  {
   "cell_type": "code",
   "execution_count": null,
   "metadata": {},
   "outputs": [],
   "source": [
    "nviz.plot_limb_correspondence(limb_correspondence_MP,\n",
    "                             meshes_colors=\"green\",\n",
    "                             skeleton_colors=\"blue\")"
   ]
  },
  {
   "cell_type": "code",
   "execution_count": null,
   "metadata": {},
   "outputs": [],
   "source": [
    "\"\"\"\n",
    "Big Conclusion: the large mesh pieces themselves (before combining into map pieces)\n",
    "themselves aren't totally connected by edges (can be split)\n",
    "\n",
    "- so even if large pieces do have a shared edge and you combine them together,\n",
    "they can still be split by the edges into multiple pieces\n",
    "\n",
    "Solution: should have to do split by vertices in the skeletonization\n",
    "\n",
    "\"\"\""
   ]
  },
  {
   "cell_type": "code",
   "execution_count": null,
   "metadata": {},
   "outputs": [],
   "source": [
    "for sublimb_idx,(mesh,mesh_idx) in enumerate(zip(mesh_pieces_for_MAP,mesh_pieces_for_MAP_face_idx)):\n",
    "    print(f\"--- Working on MAP piece {sublimb_idx}---\")\n",
    "    #print(f\"soma_touching_vertices_dict = {soma_touching_vertices_dict}\")\n",
    "    mesh_start_time = time.time()\n",
    "    curr_soma_to_piece_touching_vertices = filter_soma_touching_vertices_dict_by_mesh(\n",
    "    mesh = mesh,\n",
    "    curr_piece_to_soma_touching_vertices = soma_touching_vertices_dict\n",
    "    )\n",
    "\n",
    "    if print_fusion_steps:\n",
    "        print(f\"MAP Filtering Soma Pieces: {time.time() - fusion_time }\")\n",
    "        fusion_time = time.time()\n",
    "\n",
    "    # ---- 0) Generating the Clean skeletons  -------------------------------------------#\n",
    "    if not curr_soma_to_piece_touching_vertices is None:\n",
    "        curr_total_border_vertices = dict([(k,np.vstack(v)) for k,v in curr_soma_to_piece_touching_vertices.items()])\n",
    "    else:\n",
    "        curr_total_border_vertices = None\n",
    "\n",
    "\n",
    "    cleaned_branch,curr_limb_endpoints_must_keep = sk.skeletonize_and_clean_connected_branch_CGAL(\n",
    "        mesh=mesh,\n",
    "        curr_soma_to_piece_touching_vertices=curr_soma_to_piece_touching_vertices,\n",
    "        total_border_vertices=curr_total_border_vertices,\n",
    "        filter_end_node_length=filter_end_node_length,\n",
    "        perform_cleaning_checks=perform_cleaning_checks,\n",
    "        combine_close_skeleton_nodes = combine_close_skeleton_nodes,\n",
    "        combine_close_skeleton_nodes_threshold=combine_close_skeleton_nodes_threshold,\n",
    "    use_surface_after_CGAL=use_surface_after_CGAL,\n",
    "    surface_reconstruction_size=surface_reconstruction_size,\n",
    "    skeleton_print=True,\n",
    "    connectivity=\"vertices\"\n",
    "    )\n",
    "    \n",
    "    raise Exception(\"\")"
   ]
  },
  {
   "cell_type": "code",
   "execution_count": null,
   "metadata": {},
   "outputs": [],
   "source": [
    "nviz.plot_objects(meshes=[mesh_pieces_for_MAP[0]],\n",
    "                 skeletons=[cleaned_branch])"
   ]
  },
  {
   "cell_type": "code",
   "execution_count": null,
   "metadata": {},
   "outputs": [],
   "source": [
    "current_mesh_splits = tu.split_significant_pieces(mesh_pieces_for_MAP[0],\n",
    "                               significance_threshold=1,\n",
    "                                                  connectivity=\"vertices\")\n",
    "current_mesh_splits"
   ]
  },
  {
   "cell_type": "code",
   "execution_count": null,
   "metadata": {},
   "outputs": [],
   "source": [
    "tu."
   ]
  }
 ],
 "metadata": {
  "kernelspec": {
   "display_name": "Python 3",
   "language": "python",
   "name": "python3"
  },
  "language_info": {
   "codemirror_mode": {
    "name": "ipython",
    "version": 3
   },
   "file_extension": ".py",
   "mimetype": "text/x-python",
   "name": "python",
   "nbconvert_exporter": "python",
   "pygments_lexer": "ipython3",
   "version": "3.6.9"
  }
 },
 "nbformat": 4,
 "nbformat_minor": 4
}
