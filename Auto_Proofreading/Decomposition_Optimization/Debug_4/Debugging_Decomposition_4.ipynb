{
 "cells": [
  {
   "cell_type": "code",
   "execution_count": null,
   "metadata": {},
   "outputs": [],
   "source": [
    "\"\"\"\n",
    "To Debug the Decomposition\n",
    "\n",
    "\n",
    "\n",
    "\"\"\""
   ]
  },
  {
   "cell_type": "code",
   "execution_count": 1,
   "metadata": {},
   "outputs": [],
   "source": [
    "%load_ext autoreload\n",
    "%autoreload 2"
   ]
  },
  {
   "cell_type": "code",
   "execution_count": 2,
   "metadata": {},
   "outputs": [
    {
     "name": "stderr",
     "output_type": "stream",
     "text": [
      "INFO - 2021-01-14 05:12:03,389 - settings - Setting database.host to at-database.ad.bcm.edu\n",
      "INFO - 2021-01-14 05:12:03,391 - settings - Setting database.user to celiib\n",
      "INFO - 2021-01-14 05:12:03,391 - settings - Setting database.password to newceliipass\n",
      "INFO - 2021-01-14 05:12:03,394 - settings - Setting stores to {'minnie65': {'protocol': 'file', 'location': '/mnt/dj-stor01/platinum/minnie65', 'stage': '/mnt/dj-stor01/platinum/minnie65'}, 'meshes': {'protocol': 'file', 'location': '/mnt/dj-stor01/platinum/minnie65/02/meshes', 'stage': '/mnt/dj-stor01/platinum/minnie65/02/meshes'}, 'decimated_meshes': {'protocol': 'file', 'location': '/mnt/dj-stor01/platinum/minnie65/02/decimated_meshes', 'stage': '/mnt/dj-stor01/platinum/minnie65/02/decimated_meshes'}, 'skeletons': {'protocol': 'file', 'location': '/mnt/dj-stor01/platinum/minnie65/02/skeletons'}}\n",
      "INFO - 2021-01-14 05:12:03,395 - settings - Setting enable_python_native_blobs to True\n",
      "INFO - 2021-01-14 05:12:03,407 - connection - Connected celiib@at-database.ad.bcm.edu:3306\n"
     ]
    },
    {
     "name": "stdout",
     "output_type": "stream",
     "text": [
      "Connecting celiib@at-database.ad.bcm.edu:3306\n"
     ]
    },
    {
     "name": "stderr",
     "output_type": "stream",
     "text": [
      "INFO - 2021-01-14 05:12:03,692 - settings - Setting enable_python_native_blobs to True\n"
     ]
    }
   ],
   "source": [
    "import numpy as np\n",
    "import datajoint as dj\n",
    "import trimesh\n",
    "from tqdm.notebook import tqdm\n",
    "from pathlib import Path\n",
    "\n",
    "from os import sys\n",
    "sys.path.append(\"/meshAfterParty/\")\n",
    "\n",
    "import datajoint_utils as du\n",
    "from importlib import reload"
   ]
  },
  {
   "cell_type": "code",
   "execution_count": 3,
   "metadata": {},
   "outputs": [
    {
     "name": "stderr",
     "output_type": "stream",
     "text": [
      "INFO - 2021-01-14 05:12:03,771 - settings - Setting database.host to at-database.ad.bcm.edu\n",
      "INFO - 2021-01-14 05:12:03,772 - settings - Setting database.user to celiib\n",
      "INFO - 2021-01-14 05:12:03,773 - settings - Setting database.password to newceliipass\n",
      "INFO - 2021-01-14 05:12:03,774 - settings - Setting enable_python_native_blobs to True\n"
     ]
    },
    {
     "name": "stdout",
     "output_type": "stream",
     "text": [
      "Sleeping 1 sec before conneting\n",
      "Done sleeping\n",
      "Current path for external_segmentation_path = /mnt/dj-stor01/platinum/minnie65/02\n",
      "Current path for external_mesh_path = /mnt/dj-stor01/platinum/minnie65/02/meshes\n",
      "Current path for external_decimated_mesh_path = /mnt/dj-stor01/platinum/minnie65/02/decimated_meshes\n",
      "Current path for external_skeleton_path = /mnt/dj-stor01/platinum/minnie65/02/skeletons\n"
     ]
    },
    {
     "name": "stderr",
     "output_type": "stream",
     "text": [
      "INFO - 2021-01-14 05:12:04,037 - settings - Setting enable_python_native_blobs to True\n"
     ]
    }
   ],
   "source": [
    "import minfig\n",
    "import time\n",
    "import numpy as np\n",
    "#want to add in a wait for the connection part\n",
    "random_sleep_sec = np.random.randint(0, 30)\n",
    "print(f\"Sleeping {random_sleep_sec} sec before conneting\")\n",
    "#time.sleep(random_sleep_sec)\n",
    "print(\"Done sleeping\")\n",
    "\n",
    "du.config_celii()\n",
    "du.set_minnie65_config_segmentation(minfig)\n",
    "du.print_minnie65_config_paths(minfig)\n",
    "\n",
    "#configuring will include the adapters\n",
    "minnie,schema = du.configure_minnie_vm()"
   ]
  },
  {
   "cell_type": "markdown",
   "metadata": {},
   "source": [
    "# Defining the Table"
   ]
  },
  {
   "cell_type": "code",
   "execution_count": 4,
   "metadata": {},
   "outputs": [],
   "source": [
    "import neuron_utils as nru\n",
    "import neuron\n",
    "import trimesh_utils as tu\n",
    "import numpy as np"
   ]
  },
  {
   "cell_type": "code",
   "execution_count": 5,
   "metadata": {},
   "outputs": [
    {
     "name": "stdout",
     "output_type": "stream",
     "text": [
      "No port chosen so picked random port 4097\n"
     ]
    }
   ],
   "source": [
    "import meshlab\n",
    "meshlab.set_meshlab_port(current_port=None)"
   ]
  },
  {
   "cell_type": "code",
   "execution_count": 6,
   "metadata": {},
   "outputs": [],
   "source": [
    "#so that it will have the adapter defined\n",
    "from datajoint_utils import *"
   ]
  },
  {
   "cell_type": "markdown",
   "metadata": {},
   "source": [
    "# Segment That we are checking"
   ]
  },
  {
   "cell_type": "code",
   "execution_count": 7,
   "metadata": {},
   "outputs": [],
   "source": [
    "\"\"\"\n",
    "Ohter neurons to check:\n",
    "\n",
    "864691135654122946\n",
    "864691135583731320\n",
    "\n",
    "\n",
    "\"\"\"\n",
    "segment_id=864691135654122946"
   ]
  },
  {
   "cell_type": "code",
   "execution_count": 8,
   "metadata": {},
   "outputs": [
    {
     "name": "stdout",
     "output_type": "stream",
     "text": [
      "\n",
      "\n",
      "----- Working on 864691135654122946-------\n",
      "somas = [[<trimesh.Trimesh(vertices.shape=(27986, 3), faces.shape=(61131, 3))>, <trimesh.Trimesh(vertices.shape=(23355, 3), faces.shape=(46447, 3))>], array([1078.9196, 1078.9196]), array([0.636, 0.857])]\n"
     ]
    }
   ],
   "source": [
    "#1) Get the segment id from the key\n",
    "description = \"0_25\"\n",
    "print(f\"\\n\\n----- Working on {segment_id}-------\")\n",
    "global_start = time.time()\n",
    "\n",
    "#2) Get the decimated mesh\n",
    "current_neuron_mesh = du.fetch_segment_id_mesh(segment_id)\n",
    "\n",
    "#3) Get the somas info *************************** Need to change this when actually run *******************\n",
    "somas = du.get_soma_mesh_list(segment_id) \n",
    "print(f\"somas = {somas}\")\n",
    "#4) Run the preprocessing\n",
    "\n",
    "\n",
    "total_neuron_process_time = time.time()"
   ]
  },
  {
   "cell_type": "markdown",
   "metadata": {},
   "source": [
    "# Getting the Glia and Nuclie Faces"
   ]
  },
  {
   "cell_type": "code",
   "execution_count": 9,
   "metadata": {},
   "outputs": [],
   "source": [
    "#3b) Get the glia and nuclei information \n",
    "glia_faces,nuclei_faces = du.get_segment_glia_nuclei_faces(segment_id,return_empty_list=True)"
   ]
  },
  {
   "cell_type": "markdown",
   "metadata": {},
   "source": [
    "# Doing the decomposition function"
   ]
  },
  {
   "cell_type": "code",
   "execution_count": 10,
   "metadata": {},
   "outputs": [],
   "source": [
    "import preprocessing_vp2 as pre\n",
    "pre = reload(pre)\n",
    "import skeleton_utils as sk\n",
    "sk = reload(sk)"
   ]
  },
  {
   "cell_type": "code",
   "execution_count": 11,
   "metadata": {
    "scrolled": true
   },
   "outputs": [
    {
     "name": "stdout",
     "output_type": "stream",
     "text": [
      "\n",
      "--- Beginning preprocessing of 864691135654122946---\n",
      "--- 0) Having to preprocess the Neuron becuase no preprocessed data\n",
      "Please wait this could take a while.....\n",
      "Skipping the hole filling\n",
      "use_meshafterparty = True\n",
      "Using pre-computed somas: soma_mesh_list = [<trimesh.Trimesh(vertices.shape=(27986, 3), faces.shape=(61131, 3))>, <trimesh.Trimesh(vertices.shape=(23355, 3), faces.shape=(46447, 3))>]\n",
      "Soma List = [<trimesh.Trimesh(vertices.shape=(27986, 3), faces.shape=(61131, 3))>, <trimesh.Trimesh(vertices.shape=(23355, 3), faces.shape=(46447, 3))>]\n",
      "soma_mesh_list_centers = [array([612225.88424569, 655490.48805831, 953872.07398342]), array([697944.29344466, 631961.59936202, 931666.62221794])]\n",
      "Getting Glia and Nuclei Pieces Subtracted Away 1.7978665828704834\n",
      " Splitting mesh after soma cancellation 6.967139720916748\n",
      "# of split_meshes = 13\n",
      " Containing Mesh Indices 0.15577411651611328\n",
      " non_soma_touching_meshes 2.0742416381835938e-05\n",
      "There were 12 pieces found after size threshold\n",
      " Finding inside pieces and non_soma_touching meshes 2.7475404739379883\n",
      "\n",
      "-----Before filtering away multiple disconneted soma pieces-----\n",
      "# of soma containing seperate meshes = 1\n",
      "meshes with somas = {0: [0, 1]}\n",
      "Number of not_processed_soma_containing_meshes = 0\n",
      "\n",
      "-----After filtering away multiple disconneted soma pieces-----\n",
      "# of soma containing seperate meshes = 1\n",
      "meshes with somas = {0: [0, 1]}\n",
      " Filtering Away Disconnected Soma Pieces 0.001397848129272461\n",
      "\n",
      "\n",
      "----Working on soma-containing mesh piece 0----\n",
      "Total time for Subtract Soma and Original_mesh_faces_map for somas= 8.636018514633179\n",
      "new_floating_pieces = []\n",
      "Total time for sig_non_soma_pieces= 198.1380250453949\n",
      "Total time for split= 1.430511474609375e-06\n",
      "Total time for mesh_pieces_connectivity= 82.0937020778656\n",
      "# of insignificant_limbs = 59 with trimesh : [<trimesh.Trimesh(vertices.shape=(650, 3), faces.shape=(1159, 3))>, <trimesh.Trimesh(vertices.shape=(552, 3), faces.shape=(1087, 3))>, <trimesh.Trimesh(vertices.shape=(293, 3), faces.shape=(472, 3))>, <trimesh.Trimesh(vertices.shape=(195, 3), faces.shape=(383, 3))>, <trimesh.Trimesh(vertices.shape=(80, 3), faces.shape=(116, 3))>, <trimesh.Trimesh(vertices.shape=(40, 3), faces.shape=(46, 3))>, <trimesh.Trimesh(vertices.shape=(18, 3), faces.shape=(31, 3))>, <trimesh.Trimesh(vertices.shape=(17, 3), faces.shape=(16, 3))>, <trimesh.Trimesh(vertices.shape=(10, 3), faces.shape=(10, 3))>, <trimesh.Trimesh(vertices.shape=(8, 3), faces.shape=(6, 3))>, <trimesh.Trimesh(vertices.shape=(8, 3), faces.shape=(8, 3))>, <trimesh.Trimesh(vertices.shape=(7, 3), faces.shape=(5, 3))>, <trimesh.Trimesh(vertices.shape=(7, 3), faces.shape=(5, 3))>, <trimesh.Trimesh(vertices.shape=(7, 3), faces.shape=(5, 3))>, <trimesh.Trimesh(vertices.shape=(7, 3), faces.shape=(5, 3))>, <trimesh.Trimesh(vertices.shape=(6, 3), faces.shape=(4, 3))>, <trimesh.Trimesh(vertices.shape=(6, 3), faces.shape=(4, 3))>, <trimesh.Trimesh(vertices.shape=(6, 3), faces.shape=(4, 3))>, <trimesh.Trimesh(vertices.shape=(5, 3), faces.shape=(3, 3))>, <trimesh.Trimesh(vertices.shape=(5, 3), faces.shape=(3, 3))>, <trimesh.Trimesh(vertices.shape=(5, 3), faces.shape=(3, 3))>, <trimesh.Trimesh(vertices.shape=(5, 3), faces.shape=(3, 3))>, <trimesh.Trimesh(vertices.shape=(5, 3), faces.shape=(3, 3))>, <trimesh.Trimesh(vertices.shape=(5, 3), faces.shape=(3, 3))>, <trimesh.Trimesh(vertices.shape=(5, 3), faces.shape=(3, 3))>, <trimesh.Trimesh(vertices.shape=(5, 3), faces.shape=(3, 3))>, <trimesh.Trimesh(vertices.shape=(5, 3), faces.shape=(3, 3))>, <trimesh.Trimesh(vertices.shape=(5, 3), faces.shape=(3, 3))>, <trimesh.Trimesh(vertices.shape=(4, 3), faces.shape=(2, 3))>, <trimesh.Trimesh(vertices.shape=(4, 3), faces.shape=(2, 3))>, <trimesh.Trimesh(vertices.shape=(4, 3), faces.shape=(2, 3))>, <trimesh.Trimesh(vertices.shape=(4, 3), faces.shape=(2, 3))>, <trimesh.Trimesh(vertices.shape=(4, 3), faces.shape=(2, 3))>, <trimesh.Trimesh(vertices.shape=(4, 3), faces.shape=(2, 3))>, <trimesh.Trimesh(vertices.shape=(4, 3), faces.shape=(2, 3))>, <trimesh.Trimesh(vertices.shape=(4, 3), faces.shape=(2, 3))>, <trimesh.Trimesh(vertices.shape=(4, 3), faces.shape=(2, 3))>, <trimesh.Trimesh(vertices.shape=(4, 3), faces.shape=(2, 3))>, <trimesh.Trimesh(vertices.shape=(4, 3), faces.shape=(2, 3))>, <trimesh.Trimesh(vertices.shape=(4, 3), faces.shape=(2, 3))>, <trimesh.Trimesh(vertices.shape=(4, 3), faces.shape=(2, 3))>, <trimesh.Trimesh(vertices.shape=(4, 3), faces.shape=(2, 3))>, <trimesh.Trimesh(vertices.shape=(4, 3), faces.shape=(2, 3))>, <trimesh.Trimesh(vertices.shape=(4, 3), faces.shape=(2, 3))>, <trimesh.Trimesh(vertices.shape=(4, 3), faces.shape=(2, 3))>, <trimesh.Trimesh(vertices.shape=(4, 3), faces.shape=(2, 3))>, <trimesh.Trimesh(vertices.shape=(4, 3), faces.shape=(2, 3))>, <trimesh.Trimesh(vertices.shape=(3, 3), faces.shape=(1, 3))>, <trimesh.Trimesh(vertices.shape=(3, 3), faces.shape=(1, 3))>, <trimesh.Trimesh(vertices.shape=(3, 3), faces.shape=(1, 3))>, <trimesh.Trimesh(vertices.shape=(3, 3), faces.shape=(1, 3))>, <trimesh.Trimesh(vertices.shape=(3, 3), faces.shape=(1, 3))>, <trimesh.Trimesh(vertices.shape=(3, 3), faces.shape=(1, 3))>, <trimesh.Trimesh(vertices.shape=(3, 3), faces.shape=(1, 3))>, <trimesh.Trimesh(vertices.shape=(3, 3), faces.shape=(1, 3))>, <trimesh.Trimesh(vertices.shape=(3, 3), faces.shape=(1, 3))>, <trimesh.Trimesh(vertices.shape=(3, 3), faces.shape=(1, 3))>, <trimesh.Trimesh(vertices.shape=(3, 3), faces.shape=(1, 3))>, <trimesh.Trimesh(vertices.shape=(3, 3), faces.shape=(1, 3))>]\n",
      "# of not_processed_soma_containing_meshes = 0 with trimesh : []\n",
      "\n",
      "\n",
      "----- Working on Proper Limb # 0 ---------\n",
      "meshparty_segment_size = 100\n",
      "root_curr = [610440.9 641320.9 956245.4]\n",
      "Time for preparing soma vertices and root: 0.0002543926239013672\n",
      "invalidation_d = 12000\n",
      "cc_vertex_thresh = 10\n"
     ]
    },
    {
     "name": "stderr",
     "output_type": "stream",
     "text": [
      "\r",
      "  0%|          | 0/1 [00:00<?, ?it/s]"
     ]
    },
    {
     "data": {
      "application/vnd.jupyter.widget-view+json": {
       "model_id": "21220b3f3470435bad09d6a1671ccbf8",
       "version_major": 2,
       "version_minor": 0
      },
      "text/plain": [
       "HBox(children=(FloatProgress(value=0.0, max=1182097.0), HTML(value='')))"
      ]
     },
     "metadata": {},
     "output_type": "display_data"
    },
    {
     "name": "stderr",
     "output_type": "stream",
     "text": [
      "100%|██████████| 1/1 [13:28<00:00, 808.28s/it]"
     ]
    },
    {
     "name": "stdout",
     "output_type": "stream",
     "text": [
      "\n"
     ]
    },
    {
     "name": "stderr",
     "output_type": "stream",
     "text": [
      "\n"
     ]
    },
    {
     "name": "stdout",
     "output_type": "stream",
     "text": [
      "meshparty_segment_size = 100\n",
      "Time for 1st pass MP skeletonization: 931.715173959732\n",
      "branches_touching_root = [15]\n",
      "length of Graph = 212362\n",
      "Working on path [21816. 21832. 21851. 21865. 21884.]\n",
      "path_degrees = [3, 2, 2, 2, 3]\n",
      "Working on path [25092. 25110. 25123. 25127.]\n",
      "path_degrees = [3, 2, 2, 3]\n",
      "Working on path [59610. 59673. 59738. 59815. 59865.]\n",
      "path_degrees = [3, 2, 2, 2, 3]\n",
      "Working on path [75131. 75152. 75181. 75213. 75228.]\n",
      "path_degrees = [3, 2, 2, 2, 3]\n",
      "Working on path [96728. 96740. 96756. 96762. 96773. 96789. 96801. 96812.]\n",
      "path_degrees = [3, 2, 2, 2, 2, 2, 2, 3]\n",
      "Working on path [96860. 96925. 96982. 97031. 97094. 97141. 97194. 97217.]\n",
      "path_degrees = [3, 2, 2, 2, 2, 2, 2, 3]\n",
      "Working on path [113438. 113502. 113552. 113597. 113655. 113712. 113768.]\n",
      "path_degrees = [3, 2, 2, 2, 2, 2, 3]\n",
      "Working on path [158187. 158226. 158275. 158320. 158323.]\n",
      "path_degrees = [3, 2, 2, 2, 3]\n",
      "Working on path [195416. 195452. 195480.]\n",
      "path_degrees = [3, 2, 3]\n",
      "Working on path [212370. 195484. 195520.]\n",
      "path_degrees = [4, 2, 3]\n",
      "Working on path [197645. 197708. 197761. 197814. 197867. 197932. 197956.]\n",
      "path_degrees = [3, 2, 2, 2, 2, 2, 3]\n",
      "After combining close endpoints max(kept_branches_idx) = 646, len(kept_branches_idx) = 636\n",
      "empty_indices % = 0.0\n",
      " conflict_indices % = 0.007558733141570107\n"
     ]
    },
    {
     "data": {
      "application/vnd.jupyter.widget-view+json": {
       "model_id": "4e6b55f4defc4eefb97a3510691b0734",
       "version_major": 2,
       "version_minor": 0
      },
      "text/plain": [
       "HBox(children=(FloatProgress(value=0.0, max=313.0), HTML(value='')))"
      ]
     },
     "metadata": {},
     "output_type": "display_data"
    },
    {
     "name": "stdout",
     "output_type": "stream",
     "text": [
      "\n",
      "AFTER face_lookup_resolved_test\n"
     ]
    },
    {
     "data": {
      "application/vnd.jupyter.widget-view+json": {
       "model_id": "bba59b44d0a74f10b408991bae71d48f",
       "version_major": 2,
       "version_minor": 0
      },
      "text/plain": [
       "HBox(children=(FloatProgress(value=0.0, max=636.0), HTML(value='')))"
      ]
     },
     "metadata": {},
     "output_type": "display_data"
    },
    {
     "name": "stdout",
     "output_type": "stream",
     "text": [
      "\n",
      "Decomposing first pass: 266.7210681438446\n",
      "Attempting to use MeshAfterParty Skeletonization and Mesh Correspondence\n",
      "Another print\n",
      "Found len(mesh_large_idx) MAP candidates: [9557, 7317, 395, 2894, 3308, 4124, 4192, 4605, 5792, 981, 8261, 302, 2244, 10443, 5775, 1062, 63348, 2895, 7906, 3610, 12249, 32842, 8401, 5598, 3870, 49, 214, 3530, 5135, 19685, 18280, 15027, 6851, 480, 11585, 28814, 5322, 9451, 699, 19728, 9736, 29386]\n",
      "mesh_large_connectivity: 4.153357744216919\n",
      "Finding MAP candidates connected components: 0.0005369186401367188\n",
      "len(filtered_pieces) = 11\n",
      "skeleton_connectivity_MP : 9.233981370925903\n",
      "Grouping MP Sublimbs by Graph: 1.6979012489318848\n",
      "Divinding into MP and MAP pieces: 1.6689300537109375e-06\n",
      "--- Working on MAP piece 0---\n",
      "MAP Filtering Soma Pieces: 0.020110607147216797\n",
      "inside skeletonize_connected_branch and use_surface_after_CGAL=False, surface_reconstruction_size=1000\n",
      "     Starting Screened Poisson\n",
      "xvfb-run -n 4097 -s \"-screen 0 800x600x24\" meshlabserver $@  -i /notebooks/Auto_Proofreading/Decomposition_Optimization/Debug_4/temp/None.off -o /notebooks/Auto_Proofreading/Decomposition_Optimization/Debug_4/temp/None_poisson.off -s /notebooks/Auto_Proofreading/Decomposition_Optimization/Debug_4/temp/poisson_611264.mls\n",
      "removed temporary input file: /notebooks/Auto_Proofreading/Decomposition_Optimization/Debug_4/temp/None.off\n",
      "removed temporary output file: /notebooks/Auto_Proofreading/Decomposition_Optimization/Debug_4/temp/None_poisson.off\n",
      "Using the close holes feature\n",
      "Mesh was manifold\n",
      "No holes needed to fill and mesh was manifold so returning original mesh\n",
      "-----Time for Screened Poisson= 16.553789615631104\n",
      "mesh_pieces = [<trimesh.Trimesh(vertices.shape=(94410, 3), faces.shape=(188824, 3))>]\n",
      "     Starting Calcification (Changed back where stitches large poissons)\n",
      "min_edge_length = 75\n",
      "node_degrees = [2 2 2 2 2 2 2 2 2 2 2 2 2 2 2 2 2 2 2 2 3 2 2 2 2 2 2 2 2 2 2 2 2 2 2 2 2\n",
      " 4]\n",
      "node_degrees = [3 2 2 2 2 2 2 2 2 3 2 2 2 2 2 2 2 2 3]\n"
     ]
    },
    {
     "data": {
      "application/vnd.jupyter.widget-view+json": {
       "model_id": "5754bb819080424498ec9e1e80130a84",
       "version_major": 2,
       "version_minor": 0
      },
      "text/plain": [
       "HBox(children=(FloatProgress(value=1.0, bar_style='info', max=1.0), HTML(value='')))"
      ]
     },
     "metadata": {},
     "output_type": "display_data"
    },
    {
     "name": "stdout",
     "output_type": "stream",
     "text": [
      "\n",
      "No skeletons to stack so returning empty list\n",
      "len_subgraphs AT BEGINNING of the loop\n"
     ]
    },
    {
     "data": {
      "application/vnd.jupyter.widget-view+json": {
       "model_id": "4ee438818509435fb15fe2f079ca2ddb",
       "version_major": 2,
       "version_minor": 0
      },
      "text/plain": [
       "HBox(children=(FloatProgress(value=0.0, max=1.0), HTML(value='')))"
      ]
     },
     "metadata": {},
     "output_type": "display_data"
    },
    {
     "name": "stdout",
     "output_type": "stream",
     "text": [
      "all graph is one component!\n",
      "\n",
      "Total time for skeleton stitching = 0.10343146324157715\n",
      "The process was using a temp folder\n",
      "Checking connected components after skeletonize_connected_branch\n",
      "    Total time for skeletonizing branch: 31.79176616668701\n",
      "Checking connected components after removing cycles\n",
      "Total time for mesh KDTree = 0.3876800537109375\n",
      "sbv[0].reshape(-1,3) = [[694114.1 622448.1 933953.4]]\n",
      "closest_sk_pt_coord BEFORE = [694358. 622217. 933781.]\n",
      "current_skeleton.shape = (2724, 2, 3)\n",
      "node_for_stitch = 2371: [694358. 622217. 933781.]\n",
      "node_for_stitch AFTER = 2371: [694358. 622217. 933781.]\n",
      "possible_node_loc = [   0  143  366  589 2029 2256 2371 2468 2723]\n",
      "possible_node_loc AFTER = [   0  143  366  589 2029 2256 2371 2468 2723]\n",
      "curr_shortest_path = [2371]\n",
      "Current stitch point was a branch or endpoint\n",
      "change_status for create soma extending pieces = False\n",
      "closest_sk_pt_coord AFTER = [694358. 622217. 933781.]\n",
      "skipping soma 1 because closest skeleton node was already end node\n",
      "endpoints_must_keep = {1: array([[694358., 622217., 933781.]])}\n",
      "    Total time for Fixing Skeleton Soma Endpoint Extension : 13.182991027832031\n",
      "filter_end_node_length = 4000\n",
      "Using Distance measure skeletal_distance\n",
      "endpoints_must_keep = [[694358. 622217. 933781.]]\n",
      "Number of end_nodes BEFORE filtering = 9\n",
      "all_single_nodes_to_eliminate = [6]\n"
     ]
    },
    {
     "data": {
      "application/vnd.jupyter.widget-view+json": {
       "model_id": "31f3d048c3824413816500fd9526868a",
       "version_major": 2,
       "version_minor": 0
      },
      "text/plain": [
       "HBox(children=(FloatProgress(value=0.0, max=3.0), HTML(value='')))"
      ]
     },
     "metadata": {},
     "output_type": "display_data"
    },
    {
     "name": "stdout",
     "output_type": "stream",
     "text": [
      "\n",
      "Checking connected components after clean_skeleton\n",
      "after DISTANCE cleaning limb size of skeleton = (2708, 2, 3)\n",
      "********COMBINING CLOSE SKELETON NODES WITHIN 700 DISTANCE**********\n",
      "Found 0 valid paths to replace\n",
      "valid_paths = []\n",
      "valid_path_lengths = []\n",
      "No valid paths found so just returning the original\n",
      "node_degrees = [2 2 2 2 2 2 2 2 2 3 2 2 2 2 2 2 2 2 3]\n",
      "skeletonize_and_clean_connected_branch_CGAL: 54.832700967788696\n",
      "Working on limb correspondence for #0 MAP piece\n",
      "xvfb-run -n 4097 -s \"-screen 0 800x600x24\" meshlabserver $@  -i /notebooks/Auto_Proofreading/Decomposition_Optimization/Debug_4/temp/neuron_32122.off -o /notebooks/Auto_Proofreading/Decomposition_Optimization/Debug_4/temp/neuron_32122_remove_interior.off -s /notebooks/Auto_Proofreading/Decomposition_Optimization/Debug_4/temp/remove_interior_886904.mls\n",
      "removed temporary input file: /notebooks/Auto_Proofreading/Decomposition_Optimization/Debug_4/temp/neuron_32122.off\n",
      "removed temporary output file: /notebooks/Auto_Proofreading/Decomposition_Optimization/Debug_4/temp/neuron_32122_remove_interior.off\n",
      "/notebooks/Auto_Proofreading/Decomposition_Optimization/Debug_4/temp/remove_interior_886904.mls is being deleted....\n",
      "THERE WERE NO MESH PIECES GREATER THAN THE significance_threshold\n",
      "No significant (100) interior meshes present\n",
      "largest is 76\n"
     ]
    },
    {
     "data": {
      "application/vnd.jupyter.widget-view+json": {
       "model_id": "cc18fd2d84554a5a98d75bc7eed55e8e",
       "version_major": 2,
       "version_minor": 0
      },
      "text/plain": [
       "HBox(children=(FloatProgress(value=1.0, bar_style='info', max=1.0), HTML(value='')))"
      ]
     },
     "metadata": {},
     "output_type": "display_data"
    },
    {
     "name": "stdout",
     "output_type": "stream",
     "text": [
      "\n",
      "Total time for decomposition = 11.135923147201538\n",
      "mesh_correspondence_first_pass: 11.135955572128296\n",
      "Limb decomposed into 9 branches\n",
      "divided_skeleton_graph_recovered = (2698, 2, 3) and \n",
      "current_mesh_data[0]['branch_skeletons_cleaned'].shape = (2698, 2, 3)\n",
      "\n",
      "Number of connected components in deocmposed recovered graph = 1\n",
      "Number of connected components in cleaned skeleton graph= 1\n",
      "The downsampled branches number of connected components = 1\n",
      "Empty submeshes = []\n",
      "\n",
      "\n",
      "--- Working on 1-to-1 correspondence-----\n",
      "max(original_labels),len(original_labels) = (8, 9)\n",
      "empty_indices % = 0.019012453642973975\n",
      " conflict_indices % = 0.01033215112795349\n"
     ]
    },
    {
     "data": {
      "application/vnd.jupyter.widget-view+json": {
       "model_id": "fd1e09fa6d7f48bab63aebfd3ca2c835",
       "version_major": 2,
       "version_minor": 0
      },
      "text/plain": [
       "HBox(children=(FloatProgress(value=0.0, max=33.0), HTML(value='')))"
      ]
     },
     "metadata": {},
     "output_type": "display_data"
    },
    {
     "name": "stdout",
     "output_type": "stream",
     "text": [
      "\n",
      "AFTER face_lookup_resolved_test\n",
      "Took 0 iterations to expand the label back\n",
      "empty_indices % = 0.0\n",
      " conflict_indices % = 0.0\n"
     ]
    },
    {
     "data": {
      "application/vnd.jupyter.widget-view+json": {
       "model_id": "6b84d48703e24bcd8b13f8436f702637",
       "version_major": 2,
       "version_minor": 0
      },
      "text/plain": [
       "HBox(children=(FloatProgress(value=1.0, bar_style='info', max=1.0), HTML(value='')))"
      ]
     },
     "metadata": {},
     "output_type": "display_data"
    },
    {
     "name": "stdout",
     "output_type": "stream",
     "text": [
      "\n",
      "AFTER face_lookup_resolved_test\n"
     ]
    },
    {
     "data": {
      "application/vnd.jupyter.widget-view+json": {
       "model_id": "981b2eab0f7347e4b6dff9cbde290f1c",
       "version_major": 2,
       "version_minor": 0
      },
      "text/plain": [
       "HBox(children=(FloatProgress(value=0.0, max=9.0), HTML(value='')))"
      ]
     },
     "metadata": {},
     "output_type": "display_data"
    },
    {
     "name": "stdout",
     "output_type": "stream",
     "text": [
      "\n",
      "Total time for MAP sublimb #0 mesh processing = 69.6368203163147\n",
      "correspondence_1_to_1: 3.6481502056121826\n",
      "--- Working on MAP piece 1---\n",
      "MAP Filtering Soma Pieces: 0.016475677490234375\n",
      "inside skeletonize_connected_branch and use_surface_after_CGAL=False, surface_reconstruction_size=1000\n",
      "     Starting Screened Poisson\n",
      "xvfb-run -n 4097 -s \"-screen 0 800x600x24\" meshlabserver $@  -i /notebooks/Auto_Proofreading/Decomposition_Optimization/Debug_4/temp/None.off -o /notebooks/Auto_Proofreading/Decomposition_Optimization/Debug_4/temp/None_poisson.off -s /notebooks/Auto_Proofreading/Decomposition_Optimization/Debug_4/temp/poisson_972344.mls\n",
      "removed temporary input file: /notebooks/Auto_Proofreading/Decomposition_Optimization/Debug_4/temp/None.off\n",
      "removed temporary output file: /notebooks/Auto_Proofreading/Decomposition_Optimization/Debug_4/temp/None_poisson.off\n",
      "Using the close holes feature\n",
      "Mesh was manifold\n",
      "No holes needed to fill and mesh was manifold so returning original mesh\n",
      "-----Time for Screened Poisson= 6.0189549922943115\n",
      "mesh_pieces = [<trimesh.Trimesh(vertices.shape=(5356, 3), faces.shape=(10708, 3))>]\n",
      "     Starting Calcification (Changed back where stitches large poissons)\n",
      "min_edge_length = 75\n"
     ]
    },
    {
     "data": {
      "application/vnd.jupyter.widget-view+json": {
       "model_id": "39df9da57519481c9da5e7cd367a041e",
       "version_major": 2,
       "version_minor": 0
      },
      "text/plain": [
       "HBox(children=(FloatProgress(value=1.0, bar_style='info', max=1.0), HTML(value='')))"
      ]
     },
     "metadata": {},
     "output_type": "display_data"
    },
    {
     "name": "stdout",
     "output_type": "stream",
     "text": [
      "\n",
      "No skeletons to stack so returning empty list\n",
      "len_subgraphs AT BEGINNING of the loop\n"
     ]
    },
    {
     "data": {
      "application/vnd.jupyter.widget-view+json": {
       "model_id": "6bed00a73e484349bc861a69f488c672",
       "version_major": 2,
       "version_minor": 0
      },
      "text/plain": [
       "HBox(children=(FloatProgress(value=0.0, max=1.0), HTML(value='')))"
      ]
     },
     "metadata": {},
     "output_type": "display_data"
    },
    {
     "name": "stdout",
     "output_type": "stream",
     "text": [
      "all graph is one component!\n",
      "\n",
      "Total time for skeleton stitching = 0.025511980056762695\n",
      "The process was using a temp folder\n",
      "Checking connected components after skeletonize_connected_branch\n",
      "    Total time for skeletonizing branch: 6.425600290298462\n",
      "Checking connected components after removing cycles\n",
      "    Total time for Fixing Skeleton Soma Endpoint Extension : 0.007425069808959961\n",
      "filter_end_node_length = 4000\n",
      "Using Distance measure skeletal_distance\n",
      "no small end nodes to get rid of so returning whole skeleton\n",
      "Checking connected components after clean_skeleton\n",
      "after DISTANCE cleaning limb size of skeleton = (156, 2, 3)\n",
      "********COMBINING CLOSE SKELETON NODES WITHIN 700 DISTANCE**********\n",
      "Found 0 valid paths to replace\n",
      "valid_paths = []\n",
      "valid_path_lengths = []\n",
      "No valid paths found so just returning the original\n",
      "Inside MAP decomposition and curr_limb_endpoints_must_keep was None\n",
      "skeletonize_and_clean_connected_branch_CGAL: 6.646779537200928\n",
      "Working on limb correspondence for #1 MAP piece\n",
      "xvfb-run -n 4097 -s \"-screen 0 800x600x24\" meshlabserver $@  -i /notebooks/Auto_Proofreading/Decomposition_Optimization/Debug_4/temp/neuron_7003.off -o /notebooks/Auto_Proofreading/Decomposition_Optimization/Debug_4/temp/neuron_7003_remove_interior.off -s /notebooks/Auto_Proofreading/Decomposition_Optimization/Debug_4/temp/remove_interior_729206.mls\n",
      "removed temporary input file: /notebooks/Auto_Proofreading/Decomposition_Optimization/Debug_4/temp/neuron_7003.off\n",
      "removed temporary output file: /notebooks/Auto_Proofreading/Decomposition_Optimization/Debug_4/temp/neuron_7003_remove_interior.off\n",
      "/notebooks/Auto_Proofreading/Decomposition_Optimization/Debug_4/temp/remove_interior_729206.mls is being deleted....\n",
      "THERE WERE NO MESH PIECES GREATER THAN THE significance_threshold\n",
      "No significant (100) interior meshes present\n",
      "largest is 5\n"
     ]
    },
    {
     "data": {
      "application/vnd.jupyter.widget-view+json": {
       "model_id": "91233500e3564085b092068e1528d2d2",
       "version_major": 2,
       "version_minor": 0
      },
      "text/plain": [
       "HBox(children=(FloatProgress(value=1.0, bar_style='info', max=1.0), HTML(value='')))"
      ]
     },
     "metadata": {},
     "output_type": "display_data"
    },
    {
     "name": "stdout",
     "output_type": "stream",
     "text": [
      "\n",
      "Total time for decomposition = 1.2427241802215576\n",
      "mesh_correspondence_first_pass: 1.2427618503570557\n",
      "Limb decomposed into 1 branches\n",
      "divided_skeleton_graph_recovered = (156, 2, 3) and \n",
      "current_mesh_data[0]['branch_skeletons_cleaned'].shape = (156, 2, 3)\n",
      "\n",
      "Number of connected components in deocmposed recovered graph = 1\n",
      "Number of connected components in cleaned skeleton graph= 1\n",
      "The downsampled branches number of connected components = 1\n",
      "Empty submeshes = []\n",
      "\n",
      "\n",
      "--- Working on 1-to-1 correspondence-----\n",
      "max(original_labels),len(original_labels) = (0, 1)\n",
      "empty_indices % = 0.015417170495767836\n",
      " conflict_indices % = 0.0\n"
     ]
    },
    {
     "data": {
      "application/vnd.jupyter.widget-view+json": {
       "model_id": "ac65100d37434bf59125efde5dfdcbf2",
       "version_major": 2,
       "version_minor": 0
      },
      "text/plain": [
       "HBox(children=(FloatProgress(value=0.0, max=4.0), HTML(value='')))"
      ]
     },
     "metadata": {},
     "output_type": "display_data"
    },
    {
     "name": "stdout",
     "output_type": "stream",
     "text": [
      "\n",
      "AFTER face_lookup_resolved_test\n"
     ]
    },
    {
     "data": {
      "application/vnd.jupyter.widget-view+json": {
       "model_id": "1d0d6fce4d3643a990293be695e54338",
       "version_major": 2,
       "version_minor": 0
      },
      "text/plain": [
       "HBox(children=(FloatProgress(value=0.0, max=1.0), HTML(value='')))"
      ]
     },
     "metadata": {},
     "output_type": "display_data"
    },
    {
     "name": "stdout",
     "output_type": "stream",
     "text": [
      "\n",
      "Total time for MAP sublimb #1 mesh processing = 8.069467782974243\n",
      "correspondence_1_to_1: 0.16346502304077148\n",
      "--- Working on MAP piece 2---\n",
      "MAP Filtering Soma Pieces: 0.015250205993652344\n",
      "inside skeletonize_connected_branch and use_surface_after_CGAL=False, surface_reconstruction_size=1000\n",
      "     Starting Screened Poisson\n",
      "xvfb-run -n 4097 -s \"-screen 0 800x600x24\" meshlabserver $@  -i /notebooks/Auto_Proofreading/Decomposition_Optimization/Debug_4/temp/None.off -o /notebooks/Auto_Proofreading/Decomposition_Optimization/Debug_4/temp/None_poisson.off -s /notebooks/Auto_Proofreading/Decomposition_Optimization/Debug_4/temp/poisson_430440.mls\n",
      "removed temporary input file: /notebooks/Auto_Proofreading/Decomposition_Optimization/Debug_4/temp/None.off\n",
      "removed temporary output file: /notebooks/Auto_Proofreading/Decomposition_Optimization/Debug_4/temp/None_poisson.off\n",
      "Using the close holes feature\n",
      "Mesh was manifold\n",
      "No holes needed to fill and mesh was manifold so returning original mesh\n",
      "-----Time for Screened Poisson= 9.570971727371216\n",
      "mesh_pieces = [<trimesh.Trimesh(vertices.shape=(7078, 3), faces.shape=(14152, 3))>]\n",
      "     Starting Calcification (Changed back where stitches large poissons)\n",
      "min_edge_length = 75\n"
     ]
    },
    {
     "data": {
      "application/vnd.jupyter.widget-view+json": {
       "model_id": "4c071fc5c5e8438d80cc58e76566b8d0",
       "version_major": 2,
       "version_minor": 0
      },
      "text/plain": [
       "HBox(children=(FloatProgress(value=1.0, bar_style='info', max=1.0), HTML(value='')))"
      ]
     },
     "metadata": {},
     "output_type": "display_data"
    },
    {
     "name": "stdout",
     "output_type": "stream",
     "text": [
      "\n",
      "No skeletons to stack so returning empty list\n",
      "len_subgraphs AT BEGINNING of the loop\n"
     ]
    },
    {
     "data": {
      "application/vnd.jupyter.widget-view+json": {
       "model_id": "8f4c72c1542341d3bfb8827972c22e6c",
       "version_major": 2,
       "version_minor": 0
      },
      "text/plain": [
       "HBox(children=(FloatProgress(value=0.0, max=1.0), HTML(value='')))"
      ]
     },
     "metadata": {},
     "output_type": "display_data"
    },
    {
     "name": "stdout",
     "output_type": "stream",
     "text": [
      "all graph is one component!\n",
      "\n",
      "Total time for skeleton stitching = 0.026811838150024414\n",
      "The process was using a temp folder\n",
      "Checking connected components after skeletonize_connected_branch\n",
      "    Total time for skeletonizing branch: 10.079521179199219\n",
      "Checking connected components after removing cycles\n",
      "    Total time for Fixing Skeleton Soma Endpoint Extension : 0.008437871932983398\n",
      "filter_end_node_length = 4000\n",
      "Using Distance measure skeletal_distance\n",
      "no small end nodes to get rid of so returning whole skeleton\n",
      "Checking connected components after clean_skeleton\n",
      "after DISTANCE cleaning limb size of skeleton = (183, 2, 3)\n",
      "********COMBINING CLOSE SKELETON NODES WITHIN 700 DISTANCE**********\n",
      "Found 0 valid paths to replace\n",
      "valid_paths = []\n",
      "valid_path_lengths = []\n",
      "No valid paths found so just returning the original\n",
      "Inside MAP decomposition and curr_limb_endpoints_must_keep was None\n",
      "skeletonize_and_clean_connected_branch_CGAL: 10.337197542190552\n",
      "Working on limb correspondence for #2 MAP piece\n",
      "xvfb-run -n 4097 -s \"-screen 0 800x600x24\" meshlabserver $@  -i /notebooks/Auto_Proofreading/Decomposition_Optimization/Debug_4/temp/neuron_84477.off -o /notebooks/Auto_Proofreading/Decomposition_Optimization/Debug_4/temp/neuron_84477_remove_interior.off -s /notebooks/Auto_Proofreading/Decomposition_Optimization/Debug_4/temp/remove_interior_297635.mls\n",
      "removed temporary input file: /notebooks/Auto_Proofreading/Decomposition_Optimization/Debug_4/temp/neuron_84477.off\n",
      "removed temporary output file: /notebooks/Auto_Proofreading/Decomposition_Optimization/Debug_4/temp/neuron_84477_remove_interior.off\n",
      "/notebooks/Auto_Proofreading/Decomposition_Optimization/Debug_4/temp/remove_interior_297635.mls is being deleted....\n",
      "THERE WERE NO MESH PIECES GREATER THAN THE significance_threshold\n",
      "No significant (100) interior meshes present\n",
      "largest is 54\n"
     ]
    },
    {
     "data": {
      "application/vnd.jupyter.widget-view+json": {
       "model_id": "19511a77e244411abb0ae349003271e8",
       "version_major": 2,
       "version_minor": 0
      },
      "text/plain": [
       "HBox(children=(FloatProgress(value=1.0, bar_style='info', max=1.0), HTML(value='')))"
      ]
     },
     "metadata": {},
     "output_type": "display_data"
    },
    {
     "name": "stdout",
     "output_type": "stream",
     "text": [
      "\n",
      "Total time for decomposition = 1.3258979320526123\n",
      "mesh_correspondence_first_pass: 1.3259310722351074\n",
      "Limb decomposed into 1 branches\n",
      "divided_skeleton_graph_recovered = (183, 2, 3) and \n",
      "current_mesh_data[0]['branch_skeletons_cleaned'].shape = (183, 2, 3)\n",
      "\n",
      "Number of connected components in deocmposed recovered graph = 1\n",
      "Number of connected components in cleaned skeleton graph= 1\n",
      "The downsampled branches number of connected components = 1\n",
      "Empty submeshes = []\n",
      "\n",
      "\n",
      "--- Working on 1-to-1 correspondence-----\n",
      "max(original_labels),len(original_labels) = (0, 1)\n",
      "empty_indices % = 0.027643064985451018\n",
      " conflict_indices % = 0.0\n"
     ]
    },
    {
     "data": {
      "application/vnd.jupyter.widget-view+json": {
       "model_id": "acc375fa95e74d858898302694a12cb1",
       "version_major": 2,
       "version_minor": 0
      },
      "text/plain": [
       "HBox(children=(FloatProgress(value=0.0, max=5.0), HTML(value='')))"
      ]
     },
     "metadata": {},
     "output_type": "display_data"
    },
    {
     "name": "stdout",
     "output_type": "stream",
     "text": [
      "\n",
      "AFTER face_lookup_resolved_test\n"
     ]
    },
    {
     "data": {
      "application/vnd.jupyter.widget-view+json": {
       "model_id": "5a882113a1034c709956f43cf43c3013",
       "version_major": 2,
       "version_minor": 0
      },
      "text/plain": [
       "HBox(children=(FloatProgress(value=0.0, max=1.0), HTML(value='')))"
      ]
     },
     "metadata": {},
     "output_type": "display_data"
    },
    {
     "name": "stdout",
     "output_type": "stream",
     "text": [
      "\n",
      "Total time for MAP sublimb #2 mesh processing = 11.889694929122925\n",
      "correspondence_1_to_1: 0.21136474609375\n",
      "--- Working on MAP piece 3---\n",
      "MAP Filtering Soma Pieces: 0.01624274253845215\n",
      "inside skeletonize_connected_branch and use_surface_after_CGAL=False, surface_reconstruction_size=1000\n",
      "     Starting Screened Poisson\n",
      "xvfb-run -n 4097 -s \"-screen 0 800x600x24\" meshlabserver $@  -i /notebooks/Auto_Proofreading/Decomposition_Optimization/Debug_4/temp/None.off -o /notebooks/Auto_Proofreading/Decomposition_Optimization/Debug_4/temp/None_poisson.off -s /notebooks/Auto_Proofreading/Decomposition_Optimization/Debug_4/temp/poisson_489613.mls\n",
      "removed temporary input file: /notebooks/Auto_Proofreading/Decomposition_Optimization/Debug_4/temp/None.off\n",
      "removed temporary output file: /notebooks/Auto_Proofreading/Decomposition_Optimization/Debug_4/temp/None_poisson.off\n",
      "Using the close holes feature\n",
      "Mesh was manifold\n",
      "No holes needed to fill and mesh was manifold so returning original mesh\n",
      "-----Time for Screened Poisson= 7.2796618938446045\n",
      "mesh_pieces = [<trimesh.Trimesh(vertices.shape=(14842, 3), faces.shape=(29680, 3))>]\n",
      "     Starting Calcification (Changed back where stitches large poissons)\n",
      "min_edge_length = 75\n"
     ]
    },
    {
     "data": {
      "application/vnd.jupyter.widget-view+json": {
       "model_id": "e963b1906c6643b38938884634fc4288",
       "version_major": 2,
       "version_minor": 0
      },
      "text/plain": [
       "HBox(children=(FloatProgress(value=1.0, bar_style='info', max=1.0), HTML(value='')))"
      ]
     },
     "metadata": {},
     "output_type": "display_data"
    },
    {
     "name": "stdout",
     "output_type": "stream",
     "text": [
      "\n",
      "No skeletons to stack so returning empty list\n",
      "len_subgraphs AT BEGINNING of the loop\n"
     ]
    },
    {
     "data": {
      "application/vnd.jupyter.widget-view+json": {
       "model_id": "3f98a0ce79af4c808b8b49f39a091c53",
       "version_major": 2,
       "version_minor": 0
      },
      "text/plain": [
       "HBox(children=(FloatProgress(value=0.0, max=1.0), HTML(value='')))"
      ]
     },
     "metadata": {},
     "output_type": "display_data"
    },
    {
     "name": "stdout",
     "output_type": "stream",
     "text": [
      "all graph is one component!\n",
      "\n",
      "Total time for skeleton stitching = 0.03577542304992676\n",
      "The process was using a temp folder\n",
      "Checking connected components after skeletonize_connected_branch\n",
      "    Total time for skeletonizing branch: 8.415365219116211\n",
      "Checking connected components after removing cycles\n",
      "    Total time for Fixing Skeleton Soma Endpoint Extension : 0.020585298538208008\n",
      "filter_end_node_length = 4000\n",
      "Using Distance measure skeletal_distance\n"
     ]
    },
    {
     "data": {
      "application/vnd.jupyter.widget-view+json": {
       "model_id": "82d5a85926a44a37a3020aa6c140addc",
       "version_major": 2,
       "version_minor": 0
      },
      "text/plain": [
       "HBox(children=(FloatProgress(value=0.0, max=2.0), HTML(value='')))"
      ]
     },
     "metadata": {},
     "output_type": "display_data"
    },
    {
     "name": "stdout",
     "output_type": "stream",
     "text": [
      "\n",
      "Checking connected components after clean_skeleton\n",
      "after DISTANCE cleaning limb size of skeleton = (493, 2, 3)\n",
      "********COMBINING CLOSE SKELETON NODES WITHIN 700 DISTANCE**********\n",
      "Found 0 valid paths to replace\n",
      "valid_paths = []\n",
      "valid_path_lengths = []\n",
      "No valid paths found so just returning the original\n",
      "Inside MAP decomposition and curr_limb_endpoints_must_keep was None\n",
      "skeletonize_and_clean_connected_branch_CGAL: 9.238195180892944\n",
      "Working on limb correspondence for #3 MAP piece\n",
      "xvfb-run -n 4097 -s \"-screen 0 800x600x24\" meshlabserver $@  -i /notebooks/Auto_Proofreading/Decomposition_Optimization/Debug_4/temp/neuron_11942.off -o /notebooks/Auto_Proofreading/Decomposition_Optimization/Debug_4/temp/neuron_11942_remove_interior.off -s /notebooks/Auto_Proofreading/Decomposition_Optimization/Debug_4/temp/remove_interior_488306.mls\n",
      "removed temporary input file: /notebooks/Auto_Proofreading/Decomposition_Optimization/Debug_4/temp/neuron_11942.off\n",
      "removed temporary output file: /notebooks/Auto_Proofreading/Decomposition_Optimization/Debug_4/temp/neuron_11942_remove_interior.off\n",
      "/notebooks/Auto_Proofreading/Decomposition_Optimization/Debug_4/temp/remove_interior_488306.mls is being deleted....\n",
      "THERE WERE NO MESH PIECES GREATER THAN THE significance_threshold\n",
      "No significant (100) interior meshes present\n",
      "largest is 6\n"
     ]
    },
    {
     "data": {
      "application/vnd.jupyter.widget-view+json": {
       "model_id": "a9554196ae424d6f9b3dc74d3dfb9bc8",
       "version_major": 2,
       "version_minor": 0
      },
      "text/plain": [
       "HBox(children=(FloatProgress(value=1.0, bar_style='info', max=1.0), HTML(value='')))"
      ]
     },
     "metadata": {},
     "output_type": "display_data"
    },
    {
     "name": "stdout",
     "output_type": "stream",
     "text": [
      "\n",
      "Total time for decomposition = 2.2662558555603027\n",
      "mesh_correspondence_first_pass: 2.2662856578826904\n",
      "Limb decomposed into 1 branches\n",
      "divided_skeleton_graph_recovered = (493, 2, 3) and \n",
      "current_mesh_data[0]['branch_skeletons_cleaned'].shape = (493, 2, 3)\n",
      "\n",
      "Number of connected components in deocmposed recovered graph = 1\n",
      "Number of connected components in cleaned skeleton graph= 1\n",
      "The downsampled branches number of connected components = 1\n",
      "Empty submeshes = []\n",
      "\n",
      "\n",
      "--- Working on 1-to-1 correspondence-----\n",
      "max(original_labels),len(original_labels) = (0, 1)\n",
      "empty_indices % = 0.0034472852628555013\n",
      " conflict_indices % = 0.0\n"
     ]
    },
    {
     "data": {
      "application/vnd.jupyter.widget-view+json": {
       "model_id": "f85feaf455d4403fa7188db91049f49c",
       "version_major": 2,
       "version_minor": 0
      },
      "text/plain": [
       "HBox(children=(FloatProgress(value=0.0, max=7.0), HTML(value='')))"
      ]
     },
     "metadata": {},
     "output_type": "display_data"
    },
    {
     "name": "stdout",
     "output_type": "stream",
     "text": [
      "\n",
      "AFTER face_lookup_resolved_test\n"
     ]
    },
    {
     "data": {
      "application/vnd.jupyter.widget-view+json": {
       "model_id": "5a2ad97ed2b041549ecac63975419810",
       "version_major": 2,
       "version_minor": 0
      },
      "text/plain": [
       "HBox(children=(FloatProgress(value=0.0, max=1.0), HTML(value='')))"
      ]
     },
     "metadata": {},
     "output_type": "display_data"
    },
    {
     "name": "stdout",
     "output_type": "stream",
     "text": [
      "\n",
      "Total time for MAP sublimb #3 mesh processing = 11.916757106781006\n",
      "correspondence_1_to_1: 0.3959920406341553\n",
      "--- Working on MAP piece 4---\n",
      "MAP Filtering Soma Pieces: 0.018738746643066406\n",
      "inside skeletonize_connected_branch and use_surface_after_CGAL=False, surface_reconstruction_size=1000\n",
      "     Starting Screened Poisson\n",
      "xvfb-run -n 4097 -s \"-screen 0 800x600x24\" meshlabserver $@  -i /notebooks/Auto_Proofreading/Decomposition_Optimization/Debug_4/temp/None.off -o /notebooks/Auto_Proofreading/Decomposition_Optimization/Debug_4/temp/None_poisson.off -s /notebooks/Auto_Proofreading/Decomposition_Optimization/Debug_4/temp/poisson_643032.mls\n",
      "removed temporary input file: /notebooks/Auto_Proofreading/Decomposition_Optimization/Debug_4/temp/None.off\n",
      "removed temporary output file: /notebooks/Auto_Proofreading/Decomposition_Optimization/Debug_4/temp/None_poisson.off\n",
      "Using the close holes feature\n",
      "Mesh was manifold\n",
      "No holes needed to fill and mesh was manifold so returning original mesh\n",
      "-----Time for Screened Poisson= 24.972500324249268\n",
      "mesh_pieces = [<trimesh.Trimesh(vertices.shape=(85883, 3), faces.shape=(171762, 3))>]\n",
      "     Starting Calcification (Changed back where stitches large poissons)\n",
      "min_edge_length = 75\n"
     ]
    },
    {
     "data": {
      "application/vnd.jupyter.widget-view+json": {
       "model_id": "58b6c705568e4c9c8598c8dddcd8b9b7",
       "version_major": 2,
       "version_minor": 0
      },
      "text/plain": [
       "HBox(children=(FloatProgress(value=1.0, bar_style='info', max=1.0), HTML(value='')))"
      ]
     },
     "metadata": {},
     "output_type": "display_data"
    },
    {
     "name": "stdout",
     "output_type": "stream",
     "text": [
      "\n",
      "No skeletons to stack so returning empty list\n",
      "len_subgraphs AT BEGINNING of the loop\n"
     ]
    },
    {
     "data": {
      "application/vnd.jupyter.widget-view+json": {
       "model_id": "4276c9b75dfb48698c673ad9c73bc58d",
       "version_major": 2,
       "version_minor": 0
      },
      "text/plain": [
       "HBox(children=(FloatProgress(value=0.0, max=1.0), HTML(value='')))"
      ]
     },
     "metadata": {},
     "output_type": "display_data"
    },
    {
     "name": "stdout",
     "output_type": "stream",
     "text": [
      "all graph is one component!\n",
      "\n",
      "Total time for skeleton stitching = 0.10245537757873535\n",
      "The process was using a temp folder\n",
      "Checking connected components after skeletonize_connected_branch\n",
      "    Total time for skeletonizing branch: 33.9192795753479\n",
      "Checking connected components after removing cycles\n",
      "Total time for mesh KDTree = 0.6538591384887695\n",
      "sbv[0].reshape(-1,3) = [[610440.9 641320.9 956245.4]]\n",
      "closest_sk_pt_coord BEFORE = [609896. 640868. 956495.]\n",
      "current_skeleton.shape = (2687, 2, 3)\n",
      "node_for_stitch = 2687: [609896. 640868. 956495.]\n",
      "node_for_stitch AFTER = 2687: [609896. 640868. 956495.]\n",
      "possible_node_loc = [   0  161  184  214  297  476  506  552  594  704 1382 1425 1551 1557\n",
      " 1561 1588 1598 1632 1666 1756 1847 1947 1949 2003 2147 2162 2424 2687]\n",
      "possible_node_loc AFTER = [   0  161  184  214  297  476  506  552  594  704 1382 1425 1551 1557\n",
      " 1561 1588 1598 1632 1666 1756 1847 1947 1949 2003 2147 2162 2424 2687]\n",
      "curr_shortest_path = [2687]\n",
      "Current stitch point was a branch or endpoint\n",
      "change_status for create soma extending pieces = False\n",
      "closest_sk_pt_coord AFTER = [609896. 640868. 956495.]\n",
      "skipping soma 0 because closest skeleton node was already end node\n",
      "endpoints_must_keep = {0: array([[609896., 640868., 956495.]])}\n",
      "    Total time for Fixing Skeleton Soma Endpoint Extension : 1.5372602939605713\n",
      "filter_end_node_length = 4000\n",
      "xvfb-run -n 4097 -s \"-screen 0 800x600x24\" meshlabserver $@  -i /notebooks/Auto_Proofreading/Decomposition_Optimization/Debug_4/temp/neuron_53309.off -o /notebooks/Auto_Proofreading/Decomposition_Optimization/Debug_4/temp/neuron_53309_remove_interior.off -s /notebooks/Auto_Proofreading/Decomposition_Optimization/Debug_4/temp/remove_interior_819171.mls\n",
      "removed temporary input file: /notebooks/Auto_Proofreading/Decomposition_Optimization/Debug_4/temp/neuron_53309.off\n",
      "removed temporary output file: /notebooks/Auto_Proofreading/Decomposition_Optimization/Debug_4/temp/neuron_53309_remove_interior.off\n",
      "/notebooks/Auto_Proofreading/Decomposition_Optimization/Debug_4/temp/remove_interior_819171.mls is being deleted....\n",
      "THERE WERE NO MESH PIECES GREATER THAN THE significance_threshold\n",
      "No significant (100) interior meshes present\n",
      "largest is 39\n",
      "Using Distance measure skeletal_distance\n",
      "endpoints_must_keep = [[609896. 640868. 956495.]\n",
      " [561548. 630081. 982122.]]\n",
      "Number of end_nodes BEFORE filtering = 28\n",
      "all_single_nodes_to_eliminate = [27, 4]\n"
     ]
    },
    {
     "data": {
      "application/vnd.jupyter.widget-view+json": {
       "model_id": "994cb4aa01d54cb0b611ec186746cac3",
       "version_major": 2,
       "version_minor": 0
      },
      "text/plain": [
       "HBox(children=(FloatProgress(value=0.0, max=24.0), HTML(value='')))"
      ]
     },
     "metadata": {},
     "output_type": "display_data"
    },
    {
     "name": "stdout",
     "output_type": "stream",
     "text": [
      "\n",
      "Checking connected components after clean_skeleton\n",
      "after DISTANCE cleaning limb size of skeleton = (2553, 2, 3)\n",
      "********COMBINING CLOSE SKELETON NODES WITHIN 700 DISTANCE**********\n",
      "Found 0 valid paths to replace\n",
      "valid_paths = []\n",
      "valid_path_lengths = []\n",
      "No valid paths found so just returning the original\n",
      "skeletonize_and_clean_connected_branch_CGAL: 54.443241357803345\n",
      "Working on limb correspondence for #4 MAP piece\n",
      "xvfb-run -n 4097 -s \"-screen 0 800x600x24\" meshlabserver $@  -i /notebooks/Auto_Proofreading/Decomposition_Optimization/Debug_4/temp/neuron_30126.off -o /notebooks/Auto_Proofreading/Decomposition_Optimization/Debug_4/temp/neuron_30126_remove_interior.off -s /notebooks/Auto_Proofreading/Decomposition_Optimization/Debug_4/temp/remove_interior_248242.mls\n",
      "removed temporary input file: /notebooks/Auto_Proofreading/Decomposition_Optimization/Debug_4/temp/neuron_30126.off\n",
      "removed temporary output file: /notebooks/Auto_Proofreading/Decomposition_Optimization/Debug_4/temp/neuron_30126_remove_interior.off\n",
      "/notebooks/Auto_Proofreading/Decomposition_Optimization/Debug_4/temp/remove_interior_248242.mls is being deleted....\n",
      "THERE WERE NO MESH PIECES GREATER THAN THE significance_threshold\n",
      "No significant (100) interior meshes present\n",
      "largest is 39\n"
     ]
    },
    {
     "data": {
      "application/vnd.jupyter.widget-view+json": {
       "model_id": "2755e779ad2e44d8899b7d9ad65e6e30",
       "version_major": 2,
       "version_minor": 0
      },
      "text/plain": [
       "HBox(children=(FloatProgress(value=1.0, bar_style='info', max=1.0), HTML(value='')))"
      ]
     },
     "metadata": {},
     "output_type": "display_data"
    },
    {
     "name": "stdout",
     "output_type": "stream",
     "text": [
      "\n",
      "Total time for decomposition = 17.44931650161743\n",
      "mesh_correspondence_first_pass: 17.44934844970703\n",
      "Limb decomposed into 5 branches\n",
      "divided_skeleton_graph_recovered = (2553, 2, 3) and \n",
      "current_mesh_data[0]['branch_skeletons_cleaned'].shape = (2553, 2, 3)\n",
      "\n",
      "Number of connected components in deocmposed recovered graph = 1\n",
      "Number of connected components in cleaned skeleton graph= 1\n",
      "The downsampled branches number of connected components = 1\n",
      "Empty submeshes = []\n",
      "\n",
      "\n",
      "--- Working on 1-to-1 correspondence-----\n",
      "max(original_labels),len(original_labels) = (4, 5)\n",
      "empty_indices % = 0.19710093191041636\n",
      " conflict_indices % = 0.006200210431384338\n"
     ]
    },
    {
     "data": {
      "application/vnd.jupyter.widget-view+json": {
       "model_id": "aab005832d914dd68a3f3f44282d61e2",
       "version_major": 2,
       "version_minor": 0
      },
      "text/plain": [
       "HBox(children=(FloatProgress(value=0.0, max=286.0), HTML(value='')))"
      ]
     },
     "metadata": {},
     "output_type": "display_data"
    },
    {
     "name": "stdout",
     "output_type": "stream",
     "text": [
      "\n",
      "AFTER face_lookup_resolved_test\n",
      "Took 0 iterations to expand the label back\n",
      "empty_indices % = 0.0\n",
      " conflict_indices % = 0.0\n"
     ]
    },
    {
     "data": {
      "application/vnd.jupyter.widget-view+json": {
       "model_id": "6e94e6f17fd04cbe80d4aa7672b05a8c",
       "version_major": 2,
       "version_minor": 0
      },
      "text/plain": [
       "HBox(children=(FloatProgress(value=1.0, bar_style='info', max=1.0), HTML(value='')))"
      ]
     },
     "metadata": {},
     "output_type": "display_data"
    },
    {
     "name": "stdout",
     "output_type": "stream",
     "text": [
      "\n",
      "AFTER face_lookup_resolved_test\n"
     ]
    },
    {
     "data": {
      "application/vnd.jupyter.widget-view+json": {
       "model_id": "319449002dd441ba81e651d88d9ba0e9",
       "version_major": 2,
       "version_minor": 0
      },
      "text/plain": [
       "HBox(children=(FloatProgress(value=0.0, max=5.0), HTML(value='')))"
      ]
     },
     "metadata": {},
     "output_type": "display_data"
    },
    {
     "name": "stdout",
     "output_type": "stream",
     "text": [
      "\n",
      "Total time for MAP sublimb #4 mesh processing = 81.22875118255615\n",
      "correspondence_1_to_1: 9.317010641098022\n",
      "--- Working on MAP piece 5---\n",
      "MAP Filtering Soma Pieces: 0.016981840133666992\n",
      "inside skeletonize_connected_branch and use_surface_after_CGAL=False, surface_reconstruction_size=1000\n",
      "     Starting Screened Poisson\n",
      "xvfb-run -n 4097 -s \"-screen 0 800x600x24\" meshlabserver $@  -i /notebooks/Auto_Proofreading/Decomposition_Optimization/Debug_4/temp/None.off -o /notebooks/Auto_Proofreading/Decomposition_Optimization/Debug_4/temp/None_poisson.off -s /notebooks/Auto_Proofreading/Decomposition_Optimization/Debug_4/temp/poisson_319578.mls\n",
      "removed temporary input file: /notebooks/Auto_Proofreading/Decomposition_Optimization/Debug_4/temp/None.off\n",
      "removed temporary output file: /notebooks/Auto_Proofreading/Decomposition_Optimization/Debug_4/temp/None_poisson.off\n",
      "Using the close holes feature\n",
      "Mesh was manifold\n",
      "No holes needed to fill and mesh was manifold so returning original mesh\n",
      "-----Time for Screened Poisson= 17.757240533828735\n",
      "mesh_pieces = [<trimesh.Trimesh(vertices.shape=(55571, 3), faces.shape=(111138, 3))>]\n",
      "     Starting Calcification (Changed back where stitches large poissons)\n",
      "min_edge_length = 75\n"
     ]
    },
    {
     "data": {
      "application/vnd.jupyter.widget-view+json": {
       "model_id": "2019545a688e4430a6f602a017010f14",
       "version_major": 2,
       "version_minor": 0
      },
      "text/plain": [
       "HBox(children=(FloatProgress(value=1.0, bar_style='info', max=1.0), HTML(value='')))"
      ]
     },
     "metadata": {},
     "output_type": "display_data"
    },
    {
     "name": "stdout",
     "output_type": "stream",
     "text": [
      "\n",
      "No skeletons to stack so returning empty list\n",
      "len_subgraphs AT BEGINNING of the loop\n"
     ]
    },
    {
     "data": {
      "application/vnd.jupyter.widget-view+json": {
       "model_id": "d57423ae804344aaa61ac782cb3125ca",
       "version_major": 2,
       "version_minor": 0
      },
      "text/plain": [
       "HBox(children=(FloatProgress(value=0.0, max=1.0), HTML(value='')))"
      ]
     },
     "metadata": {},
     "output_type": "display_data"
    },
    {
     "name": "stdout",
     "output_type": "stream",
     "text": [
      "all graph is one component!\n",
      "\n",
      "Total time for skeleton stitching = 0.0907437801361084\n",
      "The process was using a temp folder\n",
      "Checking connected components after skeletonize_connected_branch\n",
      "    Total time for skeletonizing branch: 23.777745008468628\n",
      "Checking connected components after removing cycles\n",
      "Total time for mesh KDTree = 0.4423089027404785\n",
      "sbv[0].reshape(-1,3) = [[611037. 645246. 958734.]]\n",
      "closest_sk_pt_coord BEFORE = [611204. 644615. 958219.]\n",
      "current_skeleton.shape = (2206, 2, 3)\n",
      "node_for_stitch = 2036: [611204. 644615. 958219.]\n",
      "node_for_stitch AFTER = 2036: [611204. 644615. 958219.]\n",
      "possible_node_loc = [   5 1560 1811 2036 2099]\n",
      "possible_node_loc AFTER = [   5 1560 1811 2036 2099]\n",
      "curr_shortest_path = [2036]\n",
      "Current stitch point was a branch or endpoint\n",
      "change_status for create soma extending pieces = False\n",
      "closest_sk_pt_coord AFTER = [611204. 644615. 958219.]\n",
      "skipping soma 0 because closest skeleton node was already end node\n",
      "endpoints_must_keep = {0: array([[611204., 644615., 958219.]])}\n",
      "    Total time for Fixing Skeleton Soma Endpoint Extension : 1.0995464324951172\n",
      "filter_end_node_length = 4000\n",
      "Using Distance measure skeletal_distance\n",
      "endpoints_must_keep = [[611204. 644615. 958219.]]\n",
      "Number of end_nodes BEFORE filtering = 5\n",
      "all_single_nodes_to_eliminate = [3]\n"
     ]
    },
    {
     "data": {
      "application/vnd.jupyter.widget-view+json": {
       "model_id": "cea1e79ae14f4807b6b72f69bec608a1",
       "version_major": 2,
       "version_minor": 0
      },
      "text/plain": [
       "HBox(children=(FloatProgress(value=0.0, max=2.0), HTML(value='')))"
      ]
     },
     "metadata": {},
     "output_type": "display_data"
    },
    {
     "name": "stdout",
     "output_type": "stream",
     "text": [
      "\n",
      "Checking connected components after clean_skeleton\n",
      "after DISTANCE cleaning limb size of skeleton = (2194, 2, 3)\n",
      "********COMBINING CLOSE SKELETON NODES WITHIN 700 DISTANCE**********\n",
      "Found 0 valid paths to replace\n",
      "valid_paths = []\n",
      "valid_path_lengths = []\n",
      "No valid paths found so just returning the original\n",
      "skeletonize_and_clean_connected_branch_CGAL: 33.307862281799316\n",
      "Working on limb correspondence for #5 MAP piece\n",
      "xvfb-run -n 4097 -s \"-screen 0 800x600x24\" meshlabserver $@  -i /notebooks/Auto_Proofreading/Decomposition_Optimization/Debug_4/temp/neuron_79933.off -o /notebooks/Auto_Proofreading/Decomposition_Optimization/Debug_4/temp/neuron_79933_remove_interior.off -s /notebooks/Auto_Proofreading/Decomposition_Optimization/Debug_4/temp/remove_interior_192782.mls\n",
      "removed temporary input file: /notebooks/Auto_Proofreading/Decomposition_Optimization/Debug_4/temp/neuron_79933.off\n",
      "removed temporary output file: /notebooks/Auto_Proofreading/Decomposition_Optimization/Debug_4/temp/neuron_79933_remove_interior.off\n",
      "/notebooks/Auto_Proofreading/Decomposition_Optimization/Debug_4/temp/remove_interior_192782.mls is being deleted....\n",
      "THERE WERE NO MESH PIECES GREATER THAN THE significance_threshold\n",
      "No significant (100) interior meshes present\n",
      "largest is 35\n"
     ]
    },
    {
     "data": {
      "application/vnd.jupyter.widget-view+json": {
       "model_id": "05cba7260c64470ebf03c1c6f11f3d60",
       "version_major": 2,
       "version_minor": 0
      },
      "text/plain": [
       "HBox(children=(FloatProgress(value=1.0, bar_style='info', max=1.0), HTML(value='')))"
      ]
     },
     "metadata": {},
     "output_type": "display_data"
    },
    {
     "name": "stdout",
     "output_type": "stream",
     "text": [
      "\n",
      "Total time for decomposition = 13.917724370956421\n",
      "mesh_correspondence_first_pass: 13.917756795883179\n",
      "Limb decomposed into 3 branches\n",
      "divided_skeleton_graph_recovered = (2194, 2, 3) and \n",
      "current_mesh_data[0]['branch_skeletons_cleaned'].shape = (2194, 2, 3)\n",
      "\n",
      "Number of connected components in deocmposed recovered graph = 1\n",
      "Number of connected components in cleaned skeleton graph= 1\n",
      "The downsampled branches number of connected components = 1\n",
      "Empty submeshes = []\n",
      "\n",
      "\n",
      "--- Working on 1-to-1 correspondence-----\n",
      "max(original_labels),len(original_labels) = (2, 3)\n",
      "empty_indices % = 0.14695963359498107\n",
      " conflict_indices % = 0.004123529151878415\n"
     ]
    },
    {
     "data": {
      "application/vnd.jupyter.widget-view+json": {
       "model_id": "e8a653b88937417a9c07e536f2c17820",
       "version_major": 2,
       "version_minor": 0
      },
      "text/plain": [
       "HBox(children=(FloatProgress(value=0.0, max=118.0), HTML(value='')))"
      ]
     },
     "metadata": {},
     "output_type": "display_data"
    },
    {
     "name": "stdout",
     "output_type": "stream",
     "text": [
      "\n",
      "AFTER face_lookup_resolved_test\n",
      "Took 0 iterations to expand the label back\n",
      "empty_indices % = 0.0\n",
      " conflict_indices % = 0.0\n"
     ]
    },
    {
     "data": {
      "application/vnd.jupyter.widget-view+json": {
       "model_id": "e6d209a7645a4539ad7b9423197f0380",
       "version_major": 2,
       "version_minor": 0
      },
      "text/plain": [
       "HBox(children=(FloatProgress(value=1.0, bar_style='info', max=1.0), HTML(value='')))"
      ]
     },
     "metadata": {},
     "output_type": "display_data"
    },
    {
     "name": "stdout",
     "output_type": "stream",
     "text": [
      "\n",
      "AFTER face_lookup_resolved_test\n"
     ]
    },
    {
     "data": {
      "application/vnd.jupyter.widget-view+json": {
       "model_id": "741f28c43a3e4cc198e67b264e99c7fa",
       "version_major": 2,
       "version_minor": 0
      },
      "text/plain": [
       "HBox(children=(FloatProgress(value=0.0, max=3.0), HTML(value='')))"
      ]
     },
     "metadata": {},
     "output_type": "display_data"
    },
    {
     "name": "stdout",
     "output_type": "stream",
     "text": [
      "\n",
      "Total time for MAP sublimb #5 mesh processing = 51.29501724243164\n",
      "correspondence_1_to_1: 4.0525124073028564\n",
      "--- Working on MAP piece 6---\n",
      "MAP Filtering Soma Pieces: 0.01701211929321289\n",
      "inside skeletonize_connected_branch and use_surface_after_CGAL=False, surface_reconstruction_size=1000\n",
      "     Starting Screened Poisson\n",
      "xvfb-run -n 4097 -s \"-screen 0 800x600x24\" meshlabserver $@  -i /notebooks/Auto_Proofreading/Decomposition_Optimization/Debug_4/temp/None.off -o /notebooks/Auto_Proofreading/Decomposition_Optimization/Debug_4/temp/None_poisson.off -s /notebooks/Auto_Proofreading/Decomposition_Optimization/Debug_4/temp/poisson_943740.mls\n",
      "removed temporary input file: /notebooks/Auto_Proofreading/Decomposition_Optimization/Debug_4/temp/None.off\n",
      "removed temporary output file: /notebooks/Auto_Proofreading/Decomposition_Optimization/Debug_4/temp/None_poisson.off\n",
      "Using the close holes feature\n",
      "Mesh was manifold\n",
      "No holes needed to fill and mesh was manifold so returning original mesh\n",
      "-----Time for Screened Poisson= 6.5186848640441895\n",
      "mesh_pieces = [<trimesh.Trimesh(vertices.shape=(9067, 3), faces.shape=(18130, 3))>]\n",
      "     Starting Calcification (Changed back where stitches large poissons)\n",
      "min_edge_length = 75\n"
     ]
    },
    {
     "data": {
      "application/vnd.jupyter.widget-view+json": {
       "model_id": "84983e80d09b4a7e925778e69500ecbb",
       "version_major": 2,
       "version_minor": 0
      },
      "text/plain": [
       "HBox(children=(FloatProgress(value=1.0, bar_style='info', max=1.0), HTML(value='')))"
      ]
     },
     "metadata": {},
     "output_type": "display_data"
    },
    {
     "name": "stdout",
     "output_type": "stream",
     "text": [
      "\n",
      "No skeletons to stack so returning empty list\n",
      "len_subgraphs AT BEGINNING of the loop\n"
     ]
    },
    {
     "data": {
      "application/vnd.jupyter.widget-view+json": {
       "model_id": "298983623e3245888e1f334d7a4acbac",
       "version_major": 2,
       "version_minor": 0
      },
      "text/plain": [
       "HBox(children=(FloatProgress(value=0.0, max=1.0), HTML(value='')))"
      ]
     },
     "metadata": {},
     "output_type": "display_data"
    },
    {
     "name": "stdout",
     "output_type": "stream",
     "text": [
      "all graph is one component!\n",
      "\n",
      "Total time for skeleton stitching = 0.057671546936035156\n",
      "The process was using a temp folder\n",
      "Checking connected components after skeletonize_connected_branch\n",
      "    Total time for skeletonizing branch: 7.634905099868774\n",
      "Checking connected components after removing cycles\n",
      "    Total time for Fixing Skeleton Soma Endpoint Extension : 0.03388333320617676\n",
      "filter_end_node_length = 4000\n",
      "Using Distance measure skeletal_distance\n",
      "no small end nodes to get rid of so returning whole skeleton\n",
      "Checking connected components after clean_skeleton\n",
      "after DISTANCE cleaning limb size of skeleton = (253, 2, 3)\n",
      "********COMBINING CLOSE SKELETON NODES WITHIN 700 DISTANCE**********\n",
      "Found 0 valid paths to replace\n",
      "valid_paths = []\n",
      "valid_path_lengths = []\n",
      "No valid paths found so just returning the original\n",
      "Inside MAP decomposition and curr_limb_endpoints_must_keep was None\n",
      "skeletonize_and_clean_connected_branch_CGAL: 8.399933576583862\n",
      "Working on limb correspondence for #6 MAP piece\n",
      "xvfb-run -n 4097 -s \"-screen 0 800x600x24\" meshlabserver $@  -i /notebooks/Auto_Proofreading/Decomposition_Optimization/Debug_4/temp/neuron_90802.off -o /notebooks/Auto_Proofreading/Decomposition_Optimization/Debug_4/temp/neuron_90802_remove_interior.off -s /notebooks/Auto_Proofreading/Decomposition_Optimization/Debug_4/temp/remove_interior_476925.mls\n",
      "removed temporary input file: /notebooks/Auto_Proofreading/Decomposition_Optimization/Debug_4/temp/neuron_90802.off\n",
      "removed temporary output file: /notebooks/Auto_Proofreading/Decomposition_Optimization/Debug_4/temp/neuron_90802_remove_interior.off\n",
      "/notebooks/Auto_Proofreading/Decomposition_Optimization/Debug_4/temp/remove_interior_476925.mls is being deleted....\n",
      "THERE WERE NO MESH PIECES GREATER THAN THE significance_threshold\n",
      "No significant (100) interior meshes present\n",
      "largest is 6\n"
     ]
    },
    {
     "data": {
      "application/vnd.jupyter.widget-view+json": {
       "model_id": "34964e906de142479e473c158bf40832",
       "version_major": 2,
       "version_minor": 0
      },
      "text/plain": [
       "HBox(children=(FloatProgress(value=1.0, bar_style='info', max=1.0), HTML(value='')))"
      ]
     },
     "metadata": {},
     "output_type": "display_data"
    },
    {
     "name": "stdout",
     "output_type": "stream",
     "text": [
      "\n",
      "Total time for decomposition = 2.1758153438568115\n",
      "mesh_correspondence_first_pass: 2.1760706901550293\n",
      "Limb decomposed into 1 branches\n",
      "divided_skeleton_graph_recovered = (253, 2, 3) and \n",
      "current_mesh_data[0]['branch_skeletons_cleaned'].shape = (253, 2, 3)\n",
      "\n",
      "Number of connected components in deocmposed recovered graph = 1\n",
      "Number of connected components in cleaned skeleton graph= 1\n",
      "The downsampled branches number of connected components = 1\n",
      "Empty submeshes = []\n",
      "\n",
      "\n",
      "--- Working on 1-to-1 correspondence-----\n",
      "max(original_labels),len(original_labels) = (0, 1)\n",
      "empty_indices % = 0.0055376920328688815\n",
      " conflict_indices % = 0.0\n"
     ]
    },
    {
     "data": {
      "application/vnd.jupyter.widget-view+json": {
       "model_id": "63bb7ad959ff482eb8ab10abe7339aa4",
       "version_major": 2,
       "version_minor": 0
      },
      "text/plain": [
       "HBox(children=(FloatProgress(value=0.0, max=6.0), HTML(value='')))"
      ]
     },
     "metadata": {},
     "output_type": "display_data"
    },
    {
     "name": "stdout",
     "output_type": "stream",
     "text": [
      "\n",
      "AFTER face_lookup_resolved_test\n"
     ]
    },
    {
     "data": {
      "application/vnd.jupyter.widget-view+json": {
       "model_id": "6895e42674cc4f1fabac0355a88976d6",
       "version_major": 2,
       "version_minor": 0
      },
      "text/plain": [
       "HBox(children=(FloatProgress(value=0.0, max=1.0), HTML(value='')))"
      ]
     },
     "metadata": {},
     "output_type": "display_data"
    },
    {
     "name": "stdout",
     "output_type": "stream",
     "text": [
      "\n",
      "Total time for MAP sublimb #6 mesh processing = 11.090139865875244\n",
      "correspondence_1_to_1: 0.49694299697875977\n",
      "--- Working on MAP piece 7---\n",
      "MAP Filtering Soma Pieces: 0.04974794387817383\n",
      "inside skeletonize_connected_branch and use_surface_after_CGAL=False, surface_reconstruction_size=1000\n",
      "     Starting Screened Poisson\n",
      "xvfb-run -n 4097 -s \"-screen 0 800x600x24\" meshlabserver $@  -i /notebooks/Auto_Proofreading/Decomposition_Optimization/Debug_4/temp/None.off -o /notebooks/Auto_Proofreading/Decomposition_Optimization/Debug_4/temp/None_poisson.off -s /notebooks/Auto_Proofreading/Decomposition_Optimization/Debug_4/temp/poisson_656570.mls\n",
      "removed temporary input file: /notebooks/Auto_Proofreading/Decomposition_Optimization/Debug_4/temp/None.off\n",
      "removed temporary output file: /notebooks/Auto_Proofreading/Decomposition_Optimization/Debug_4/temp/None_poisson.off\n",
      "Using the close holes feature\n",
      "Mesh was manifold\n",
      "No holes needed to fill and mesh was manifold so returning original mesh\n",
      "-----Time for Screened Poisson= 6.16860294342041\n",
      "mesh_pieces = [<trimesh.Trimesh(vertices.shape=(6498, 3), faces.shape=(12992, 3))>]\n",
      "     Starting Calcification (Changed back where stitches large poissons)\n",
      "min_edge_length = 75\n"
     ]
    },
    {
     "data": {
      "application/vnd.jupyter.widget-view+json": {
       "model_id": "a7ce0feba56741e08700a0b2b4318503",
       "version_major": 2,
       "version_minor": 0
      },
      "text/plain": [
       "HBox(children=(FloatProgress(value=1.0, bar_style='info', max=1.0), HTML(value='')))"
      ]
     },
     "metadata": {},
     "output_type": "display_data"
    },
    {
     "name": "stdout",
     "output_type": "stream",
     "text": [
      "\n",
      "No skeletons to stack so returning empty list\n",
      "len_subgraphs AT BEGINNING of the loop\n"
     ]
    },
    {
     "data": {
      "application/vnd.jupyter.widget-view+json": {
       "model_id": "f7a8cb9d618343b083c3557b42536fff",
       "version_major": 2,
       "version_minor": 0
      },
      "text/plain": [
       "HBox(children=(FloatProgress(value=0.0, max=1.0), HTML(value='')))"
      ]
     },
     "metadata": {},
     "output_type": "display_data"
    },
    {
     "name": "stdout",
     "output_type": "stream",
     "text": [
      "all graph is one component!\n",
      "\n",
      "Total time for skeleton stitching = 0.026291847229003906\n",
      "The process was using a temp folder\n",
      "Checking connected components after skeletonize_connected_branch\n",
      "    Total time for skeletonizing branch: 10.622725009918213\n",
      "Checking connected components after removing cycles\n",
      "    Total time for Fixing Skeleton Soma Endpoint Extension : 0.008088111877441406\n",
      "filter_end_node_length = 4000\n",
      "Using Distance measure skeletal_distance\n",
      "no small end nodes to get rid of so returning whole skeleton\n",
      "Checking connected components after clean_skeleton\n",
      "after DISTANCE cleaning limb size of skeleton = (174, 2, 3)\n",
      "********COMBINING CLOSE SKELETON NODES WITHIN 700 DISTANCE**********\n",
      "Found 0 valid paths to replace\n",
      "valid_paths = []\n",
      "valid_path_lengths = []\n",
      "No valid paths found so just returning the original\n",
      "Inside MAP decomposition and curr_limb_endpoints_must_keep was None\n",
      "skeletonize_and_clean_connected_branch_CGAL: 10.87864065170288\n",
      "Working on limb correspondence for #7 MAP piece\n",
      "xvfb-run -n 4097 -s \"-screen 0 800x600x24\" meshlabserver $@  -i /notebooks/Auto_Proofreading/Decomposition_Optimization/Debug_4/temp/neuron_74065.off -o /notebooks/Auto_Proofreading/Decomposition_Optimization/Debug_4/temp/neuron_74065_remove_interior.off -s /notebooks/Auto_Proofreading/Decomposition_Optimization/Debug_4/temp/remove_interior_2323.mls\n",
      "removed temporary input file: /notebooks/Auto_Proofreading/Decomposition_Optimization/Debug_4/temp/neuron_74065.off\n",
      "removed temporary output file: /notebooks/Auto_Proofreading/Decomposition_Optimization/Debug_4/temp/neuron_74065_remove_interior.off\n",
      "/notebooks/Auto_Proofreading/Decomposition_Optimization/Debug_4/temp/remove_interior_2323.mls is being deleted....\n",
      "THERE WERE NO MESH PIECES GREATER THAN THE significance_threshold\n",
      "No significant (100) interior meshes present\n",
      "largest is 3\n"
     ]
    },
    {
     "data": {
      "application/vnd.jupyter.widget-view+json": {
       "model_id": "62942e5adbde4f4e90451dafea69a46c",
       "version_major": 2,
       "version_minor": 0
      },
      "text/plain": [
       "HBox(children=(FloatProgress(value=1.0, bar_style='info', max=1.0), HTML(value='')))"
      ]
     },
     "metadata": {},
     "output_type": "display_data"
    },
    {
     "name": "stdout",
     "output_type": "stream",
     "text": [
      "\n",
      "Total time for decomposition = 1.3090558052062988\n",
      "mesh_correspondence_first_pass: 1.3090901374816895\n",
      "Limb decomposed into 1 branches\n",
      "divided_skeleton_graph_recovered = (174, 2, 3) and \n",
      "current_mesh_data[0]['branch_skeletons_cleaned'].shape = (174, 2, 3)\n",
      "\n",
      "Number of connected components in deocmposed recovered graph = 1\n",
      "Number of connected components in cleaned skeleton graph= 1\n",
      "The downsampled branches number of connected components = 1\n",
      "Empty submeshes = []\n",
      "\n",
      "\n",
      "--- Working on 1-to-1 correspondence-----\n",
      "max(original_labels),len(original_labels) = (0, 1)\n",
      "empty_indices % = 0.040051679586563305\n",
      " conflict_indices % = 0.0\n"
     ]
    },
    {
     "data": {
      "application/vnd.jupyter.widget-view+json": {
       "model_id": "2cd63a342d684c059c88fed7f9680328",
       "version_major": 2,
       "version_minor": 0
      },
      "text/plain": [
       "HBox(children=(FloatProgress(value=0.0, max=6.0), HTML(value='')))"
      ]
     },
     "metadata": {},
     "output_type": "display_data"
    },
    {
     "name": "stdout",
     "output_type": "stream",
     "text": [
      "\n",
      "AFTER face_lookup_resolved_test\n"
     ]
    },
    {
     "data": {
      "application/vnd.jupyter.widget-view+json": {
       "model_id": "b3455f1d10f24069801ba8d802497684",
       "version_major": 2,
       "version_minor": 0
      },
      "text/plain": [
       "HBox(children=(FloatProgress(value=0.0, max=1.0), HTML(value='')))"
      ]
     },
     "metadata": {},
     "output_type": "display_data"
    },
    {
     "name": "stdout",
     "output_type": "stream",
     "text": [
      "\n",
      "Total time for MAP sublimb #7 mesh processing = 12.43318510055542\n",
      "correspondence_1_to_1: 0.1956768035888672\n",
      "--- Working on MAP piece 8---\n",
      "MAP Filtering Soma Pieces: 0.01602649688720703\n",
      "inside skeletonize_connected_branch and use_surface_after_CGAL=False, surface_reconstruction_size=1000\n",
      "     Starting Screened Poisson\n",
      "xvfb-run -n 4097 -s \"-screen 0 800x600x24\" meshlabserver $@  -i /notebooks/Auto_Proofreading/Decomposition_Optimization/Debug_4/temp/None.off -o /notebooks/Auto_Proofreading/Decomposition_Optimization/Debug_4/temp/None_poisson.off -s /notebooks/Auto_Proofreading/Decomposition_Optimization/Debug_4/temp/poisson_322290.mls\n",
      "removed temporary input file: /notebooks/Auto_Proofreading/Decomposition_Optimization/Debug_4/temp/None.off\n",
      "removed temporary output file: /notebooks/Auto_Proofreading/Decomposition_Optimization/Debug_4/temp/None_poisson.off\n",
      "Using the close holes feature\n",
      "Mesh was manifold\n",
      "No holes needed to fill and mesh was manifold so returning original mesh\n",
      "-----Time for Screened Poisson= 6.178672790527344\n",
      "mesh_pieces = [<trimesh.Trimesh(vertices.shape=(6979, 3), faces.shape=(13954, 3))>]\n",
      "     Starting Calcification (Changed back where stitches large poissons)\n",
      "min_edge_length = 75\n"
     ]
    },
    {
     "data": {
      "application/vnd.jupyter.widget-view+json": {
       "model_id": "7d3a4afbb4e7488ebb69ae44072e3937",
       "version_major": 2,
       "version_minor": 0
      },
      "text/plain": [
       "HBox(children=(FloatProgress(value=1.0, bar_style='info', max=1.0), HTML(value='')))"
      ]
     },
     "metadata": {},
     "output_type": "display_data"
    },
    {
     "name": "stdout",
     "output_type": "stream",
     "text": [
      "\n",
      "No skeletons to stack so returning empty list\n",
      "len_subgraphs AT BEGINNING of the loop\n"
     ]
    },
    {
     "data": {
      "application/vnd.jupyter.widget-view+json": {
       "model_id": "ad2bb7a4d8174b44af6f0b6c5e1566e7",
       "version_major": 2,
       "version_minor": 0
      },
      "text/plain": [
       "HBox(children=(FloatProgress(value=0.0, max=1.0), HTML(value='')))"
      ]
     },
     "metadata": {},
     "output_type": "display_data"
    },
    {
     "name": "stdout",
     "output_type": "stream",
     "text": [
      "all graph is one component!\n",
      "\n",
      "Total time for skeleton stitching = 0.02622222900390625\n",
      "The process was using a temp folder\n",
      "Checking connected components after skeletonize_connected_branch\n",
      "    Total time for skeletonizing branch: 6.691658020019531\n",
      "Checking connected components after removing cycles\n",
      "    Total time for Fixing Skeleton Soma Endpoint Extension : 0.007848978042602539\n",
      "filter_end_node_length = 4000\n",
      "Using Distance measure skeletal_distance\n",
      "no small end nodes to get rid of so returning whole skeleton\n",
      "Checking connected components after clean_skeleton\n",
      "after DISTANCE cleaning limb size of skeleton = (167, 2, 3)\n",
      "********COMBINING CLOSE SKELETON NODES WITHIN 700 DISTANCE**********\n",
      "Found 0 valid paths to replace\n",
      "valid_paths = []\n",
      "valid_path_lengths = []\n",
      "No valid paths found so just returning the original\n",
      "Inside MAP decomposition and curr_limb_endpoints_must_keep was None\n",
      "skeletonize_and_clean_connected_branch_CGAL: 6.92784571647644\n",
      "Working on limb correspondence for #8 MAP piece\n",
      "xvfb-run -n 4097 -s \"-screen 0 800x600x24\" meshlabserver $@  -i /notebooks/Auto_Proofreading/Decomposition_Optimization/Debug_4/temp/neuron_15335.off -o /notebooks/Auto_Proofreading/Decomposition_Optimization/Debug_4/temp/neuron_15335_remove_interior.off -s /notebooks/Auto_Proofreading/Decomposition_Optimization/Debug_4/temp/remove_interior_913015.mls\n",
      "removed temporary input file: /notebooks/Auto_Proofreading/Decomposition_Optimization/Debug_4/temp/neuron_15335.off\n",
      "removed temporary output file: /notebooks/Auto_Proofreading/Decomposition_Optimization/Debug_4/temp/neuron_15335_remove_interior.off\n",
      "/notebooks/Auto_Proofreading/Decomposition_Optimization/Debug_4/temp/remove_interior_913015.mls is being deleted....\n",
      "THERE WERE NO MESH PIECES GREATER THAN THE significance_threshold\n",
      "No significant (100) interior meshes present\n",
      "largest is 4\n"
     ]
    },
    {
     "data": {
      "application/vnd.jupyter.widget-view+json": {
       "model_id": "178e0548ca1f4fc7bab7bb9ff2f65efc",
       "version_major": 2,
       "version_minor": 0
      },
      "text/plain": [
       "HBox(children=(FloatProgress(value=1.0, bar_style='info', max=1.0), HTML(value='')))"
      ]
     },
     "metadata": {},
     "output_type": "display_data"
    },
    {
     "name": "stdout",
     "output_type": "stream",
     "text": [
      "\n",
      "Total time for decomposition = 1.264937400817871\n",
      "mesh_correspondence_first_pass: 1.264970064163208\n",
      "Limb decomposed into 1 branches\n",
      "divided_skeleton_graph_recovered = (167, 2, 3) and \n",
      "current_mesh_data[0]['branch_skeletons_cleaned'].shape = (167, 2, 3)\n",
      "\n",
      "Number of connected components in deocmposed recovered graph = 1\n",
      "Number of connected components in cleaned skeleton graph= 1\n",
      "The downsampled branches number of connected components = 1\n",
      "Empty submeshes = []\n",
      "\n",
      "\n",
      "--- Working on 1-to-1 correspondence-----\n",
      "max(original_labels),len(original_labels) = (0, 1)\n",
      "empty_indices % = 0.009882478632478632\n",
      " conflict_indices % = 0.0\n"
     ]
    },
    {
     "data": {
      "application/vnd.jupyter.widget-view+json": {
       "model_id": "90183344951c4838a6161012911289eb",
       "version_major": 2,
       "version_minor": 0
      },
      "text/plain": [
       "HBox(children=(FloatProgress(value=0.0, max=3.0), HTML(value='')))"
      ]
     },
     "metadata": {},
     "output_type": "display_data"
    },
    {
     "name": "stdout",
     "output_type": "stream",
     "text": [
      "\n",
      "AFTER face_lookup_resolved_test\n"
     ]
    },
    {
     "data": {
      "application/vnd.jupyter.widget-view+json": {
       "model_id": "6cc51509e75f41aeb9d703d51d874aa5",
       "version_major": 2,
       "version_minor": 0
      },
      "text/plain": [
       "HBox(children=(FloatProgress(value=0.0, max=1.0), HTML(value='')))"
      ]
     },
     "metadata": {},
     "output_type": "display_data"
    },
    {
     "name": "stdout",
     "output_type": "stream",
     "text": [
      "\n",
      "Total time for MAP sublimb #8 mesh processing = 8.38567852973938\n",
      "correspondence_1_to_1: 0.1768176555633545\n",
      "--- Working on MAP piece 9---\n",
      "MAP Filtering Soma Pieces: 0.018944263458251953\n",
      "inside skeletonize_connected_branch and use_surface_after_CGAL=False, surface_reconstruction_size=1000\n",
      "     Starting Screened Poisson\n",
      "xvfb-run -n 4097 -s \"-screen 0 800x600x24\" meshlabserver $@  -i /notebooks/Auto_Proofreading/Decomposition_Optimization/Debug_4/temp/None.off -o /notebooks/Auto_Proofreading/Decomposition_Optimization/Debug_4/temp/None_poisson.off -s /notebooks/Auto_Proofreading/Decomposition_Optimization/Debug_4/temp/poisson_6135.mls\n",
      "removed temporary input file: /notebooks/Auto_Proofreading/Decomposition_Optimization/Debug_4/temp/None.off\n",
      "removed temporary output file: /notebooks/Auto_Proofreading/Decomposition_Optimization/Debug_4/temp/None_poisson.off\n",
      "Using the close holes feature\n",
      "Mesh was manifold\n",
      "No holes needed to fill and mesh was manifold so returning original mesh\n",
      "-----Time for Screened Poisson= 14.082314252853394\n",
      "mesh_pieces = [<trimesh.Trimesh(vertices.shape=(57876, 3), faces.shape=(115748, 3))>, <trimesh.Trimesh(vertices.shape=(4374, 3), faces.shape=(8744, 3))>]\n",
      "     Starting Calcification (Changed back where stitches large poissons)\n",
      "min_edge_length = 75\n",
      "min_edge_length = 75\n"
     ]
    },
    {
     "data": {
      "application/vnd.jupyter.widget-view+json": {
       "model_id": "ab5279b1a62d48ad8f5decce2987717b",
       "version_major": 2,
       "version_minor": 0
      },
      "text/plain": [
       "HBox(children=(FloatProgress(value=1.0, bar_style='info', max=1.0), HTML(value='')))"
      ]
     },
     "metadata": {},
     "output_type": "display_data"
    },
    {
     "name": "stdout",
     "output_type": "stream",
     "text": [
      "\n",
      "No skeletons to stack so returning empty list\n",
      "len_subgraphs AT BEGINNING of the loop\n"
     ]
    },
    {
     "data": {
      "application/vnd.jupyter.widget-view+json": {
       "model_id": "03e5eaa3c1244f5ca398e2abe78436aa",
       "version_major": 2,
       "version_minor": 0
      },
      "text/plain": [
       "HBox(children=(FloatProgress(value=0.0, max=2.0), HTML(value='')))"
      ]
     },
     "metadata": {},
     "output_type": "display_data"
    },
    {
     "name": "stdout",
     "output_type": "stream",
     "text": [
      "all graph is one component!\n",
      "\n",
      "Total time for skeleton stitching = 0.21654462814331055\n",
      "The process was using a temp folder\n",
      "Checking connected components after skeletonize_connected_branch\n",
      "    Total time for skeletonizing branch: 20.35642123222351\n",
      "Checking connected components after removing cycles\n",
      "Total time for mesh KDTree = 0.7186160087585449\n",
      "sbv[0].reshape(-1,3) = [[697446.2 622432.3 930141.6]]\n",
      "closest_sk_pt_coord BEFORE = [697042. 622005. 930103.]\n",
      "current_skeleton.shape = (2386, 2, 3)\n",
      "node_for_stitch = 43: [697042. 622005. 930103.]\n",
      "node_for_stitch AFTER = 43: [697042. 622005. 930103.]\n",
      "possible_node_loc = [  43 1688 1758 1884 1903 1925 2226 2386]\n",
      "possible_node_loc AFTER = [  43 1688 1758 1884 1903 1925 2226 2386]\n",
      "curr_shortest_path = [43]\n",
      "Current stitch point was a branch or endpoint\n",
      "change_status for create soma extending pieces = False\n",
      "closest_sk_pt_coord AFTER = [697042. 622005. 930103.]\n",
      "skipping soma 1 because closest skeleton node was already end node\n",
      "endpoints_must_keep = {1: array([[697042., 622005., 930103.]])}\n",
      "    Total time for Fixing Skeleton Soma Endpoint Extension : 1.8913469314575195\n",
      "filter_end_node_length = 4000\n",
      "xvfb-run -n 4097 -s \"-screen 0 800x600x24\" meshlabserver $@  -i /notebooks/Auto_Proofreading/Decomposition_Optimization/Debug_4/temp/neuron_84308.off -o /notebooks/Auto_Proofreading/Decomposition_Optimization/Debug_4/temp/neuron_84308_remove_interior.off -s /notebooks/Auto_Proofreading/Decomposition_Optimization/Debug_4/temp/remove_interior_606807.mls\n",
      "removed temporary input file: /notebooks/Auto_Proofreading/Decomposition_Optimization/Debug_4/temp/neuron_84308.off\n",
      "removed temporary output file: /notebooks/Auto_Proofreading/Decomposition_Optimization/Debug_4/temp/neuron_84308_remove_interior.off\n",
      "/notebooks/Auto_Proofreading/Decomposition_Optimization/Debug_4/temp/remove_interior_606807.mls is being deleted....\n",
      "THERE WERE NO MESH PIECES GREATER THAN THE significance_threshold\n",
      "No significant (100) interior meshes present\n",
      "largest is 24\n",
      "Using Distance measure skeletal_distance\n",
      "endpoints_must_keep = [[697042. 622005. 930103.]\n",
      " [715232. 560037. 859556.]]\n",
      "Number of end_nodes BEFORE filtering = 8\n",
      "all_single_nodes_to_eliminate = [0, 2]\n"
     ]
    },
    {
     "data": {
      "application/vnd.jupyter.widget-view+json": {
       "model_id": "de1e5fe5da824b9cb31ff9b6eeab141c",
       "version_major": 2,
       "version_minor": 0
      },
      "text/plain": [
       "HBox(children=(FloatProgress(value=0.0, max=3.0), HTML(value='')))"
      ]
     },
     "metadata": {},
     "output_type": "display_data"
    },
    {
     "name": "stdout",
     "output_type": "stream",
     "text": [
      "\n",
      "Checking connected components after clean_skeleton\n",
      "after DISTANCE cleaning limb size of skeleton = (2373, 2, 3)\n",
      "********COMBINING CLOSE SKELETON NODES WITHIN 700 DISTANCE**********\n",
      "Found 0 valid paths to replace\n",
      "valid_paths = []\n",
      "valid_path_lengths = []\n",
      "No valid paths found so just returning the original\n",
      "skeletonize_and_clean_connected_branch_CGAL: 33.53853130340576\n",
      "Working on limb correspondence for #9 MAP piece\n",
      "xvfb-run -n 4097 -s \"-screen 0 800x600x24\" meshlabserver $@  -i /notebooks/Auto_Proofreading/Decomposition_Optimization/Debug_4/temp/neuron_56802.off -o /notebooks/Auto_Proofreading/Decomposition_Optimization/Debug_4/temp/neuron_56802_remove_interior.off -s /notebooks/Auto_Proofreading/Decomposition_Optimization/Debug_4/temp/remove_interior_600543.mls\n",
      "removed temporary input file: /notebooks/Auto_Proofreading/Decomposition_Optimization/Debug_4/temp/neuron_56802.off\n",
      "removed temporary output file: /notebooks/Auto_Proofreading/Decomposition_Optimization/Debug_4/temp/neuron_56802_remove_interior.off\n",
      "/notebooks/Auto_Proofreading/Decomposition_Optimization/Debug_4/temp/remove_interior_600543.mls is being deleted....\n",
      "THERE WERE NO MESH PIECES GREATER THAN THE significance_threshold\n",
      "No significant (100) interior meshes present\n",
      "largest is 24\n"
     ]
    },
    {
     "data": {
      "application/vnd.jupyter.widget-view+json": {
       "model_id": "386cc7c78c8944d3b82aff0b9a180759",
       "version_major": 2,
       "version_minor": 0
      },
      "text/plain": [
       "HBox(children=(FloatProgress(value=1.0, bar_style='info', max=1.0), HTML(value='')))"
      ]
     },
     "metadata": {},
     "output_type": "display_data"
    },
    {
     "name": "stdout",
     "output_type": "stream",
     "text": [
      "\n",
      "Total time for decomposition = 11.343619346618652\n",
      "mesh_correspondence_first_pass: 11.343846321105957\n",
      "Limb decomposed into 7 branches\n",
      "divided_skeleton_graph_recovered = (2373, 2, 3) and \n",
      "current_mesh_data[0]['branch_skeletons_cleaned'].shape = (2373, 2, 3)\n",
      "\n",
      "Number of connected components in deocmposed recovered graph = 1\n",
      "Number of connected components in cleaned skeleton graph= 1\n",
      "The downsampled branches number of connected components = 1\n",
      "Empty submeshes = []\n",
      "\n",
      "\n",
      "--- Working on 1-to-1 correspondence-----\n",
      "max(original_labels),len(original_labels) = (6, 7)\n",
      "empty_indices % = 0.08243813928095445\n",
      " conflict_indices % = 0.011689708881288436\n"
     ]
    },
    {
     "data": {
      "application/vnd.jupyter.widget-view+json": {
       "model_id": "b6f0e54acf4445738f26e7398757682a",
       "version_major": 2,
       "version_minor": 0
      },
      "text/plain": [
       "HBox(children=(FloatProgress(value=0.0, max=50.0), HTML(value='')))"
      ]
     },
     "metadata": {},
     "output_type": "display_data"
    },
    {
     "name": "stdout",
     "output_type": "stream",
     "text": [
      "\n",
      "AFTER face_lookup_resolved_test\n",
      "Took 0 iterations to expand the label back\n",
      "empty_indices % = 0.0\n",
      " conflict_indices % = 0.0\n"
     ]
    },
    {
     "data": {
      "application/vnd.jupyter.widget-view+json": {
       "model_id": "9b462f009e0848c4a4a2bbab1ac60477",
       "version_major": 2,
       "version_minor": 0
      },
      "text/plain": [
       "HBox(children=(FloatProgress(value=1.0, bar_style='info', max=1.0), HTML(value='')))"
      ]
     },
     "metadata": {},
     "output_type": "display_data"
    },
    {
     "name": "stdout",
     "output_type": "stream",
     "text": [
      "\n",
      "AFTER face_lookup_resolved_test\n"
     ]
    },
    {
     "data": {
      "application/vnd.jupyter.widget-view+json": {
       "model_id": "5d16a1aaf5fe4175924d98a90b0aaed9",
       "version_major": 2,
       "version_minor": 0
      },
      "text/plain": [
       "HBox(children=(FloatProgress(value=0.0, max=7.0), HTML(value='')))"
      ]
     },
     "metadata": {},
     "output_type": "display_data"
    },
    {
     "name": "stdout",
     "output_type": "stream",
     "text": [
      "\n",
      "Total time for MAP sublimb #9 mesh processing = 51.94233250617981\n",
      "correspondence_1_to_1: 7.040756702423096\n",
      "--- Working on MAP piece 10---\n",
      "MAP Filtering Soma Pieces: 0.015820980072021484\n",
      "inside skeletonize_connected_branch and use_surface_after_CGAL=False, surface_reconstruction_size=1000\n",
      "     Starting Screened Poisson\n",
      "xvfb-run -n 4097 -s \"-screen 0 800x600x24\" meshlabserver $@  -i /notebooks/Auto_Proofreading/Decomposition_Optimization/Debug_4/temp/None.off -o /notebooks/Auto_Proofreading/Decomposition_Optimization/Debug_4/temp/None_poisson.off -s /notebooks/Auto_Proofreading/Decomposition_Optimization/Debug_4/temp/poisson_178506.mls\n",
      "removed temporary input file: /notebooks/Auto_Proofreading/Decomposition_Optimization/Debug_4/temp/None.off\n",
      "removed temporary output file: /notebooks/Auto_Proofreading/Decomposition_Optimization/Debug_4/temp/None_poisson.off\n",
      "Using the close holes feature\n",
      "Mesh was manifold\n",
      "No holes needed to fill and mesh was manifold so returning original mesh\n",
      "-----Time for Screened Poisson= 16.563387393951416\n",
      "mesh_pieces = [<trimesh.Trimesh(vertices.shape=(74133, 3), faces.shape=(148266, 3))>, <trimesh.Trimesh(vertices.shape=(4670, 3), faces.shape=(9336, 3))>, <trimesh.Trimesh(vertices.shape=(2079, 3), faces.shape=(4154, 3))>]\n",
      "     Starting Calcification (Changed back where stitches large poissons)\n",
      "min_edge_length = 75\n",
      "min_edge_length = 75\n",
      "min_edge_length = 75\n"
     ]
    },
    {
     "data": {
      "application/vnd.jupyter.widget-view+json": {
       "model_id": "8d524dc0d18d4eee8a74293d3644b12d",
       "version_major": 2,
       "version_minor": 0
      },
      "text/plain": [
       "HBox(children=(FloatProgress(value=1.0, bar_style='info', max=1.0), HTML(value='')))"
      ]
     },
     "metadata": {},
     "output_type": "display_data"
    },
    {
     "name": "stdout",
     "output_type": "stream",
     "text": [
      "\n",
      "No skeletons to stack so returning empty list\n",
      "len_subgraphs AT BEGINNING of the loop\n"
     ]
    },
    {
     "data": {
      "application/vnd.jupyter.widget-view+json": {
       "model_id": "98bd4d044d8b4c5e9f1f254e909a26bc",
       "version_major": 2,
       "version_minor": 0
      },
      "text/plain": [
       "HBox(children=(FloatProgress(value=0.0, max=3.0), HTML(value='')))"
      ]
     },
     "metadata": {},
     "output_type": "display_data"
    },
    {
     "name": "stdout",
     "output_type": "stream",
     "text": [
      "all graph is one component!\n",
      "\n",
      "Total time for skeleton stitching = 0.09947085380554199\n",
      "The process was using a temp folder\n",
      "Checking connected components after skeletonize_connected_branch\n",
      "    Total time for skeletonizing branch: 24.701815128326416\n",
      "Checking connected components after removing cycles\n",
      "Total time for mesh KDTree = 0.39234256744384766\n",
      "sbv[0].reshape(-1,3) = [[693595.2 623590.5 936243.6]]\n",
      "closest_sk_pt_coord BEFORE = [693297. 623517. 936763.]\n",
      "current_skeleton.shape = (2164, 2, 3)\n",
      "node_for_stitch = 2164: [693297. 623517. 936763.]\n",
      "node_for_stitch AFTER = 2164: [693297. 623517. 936763.]\n",
      "possible_node_loc = [  87  148  153  239  282  436  496  598  695  786  855  856 1060 1141\n",
      " 1379 1594 1886 2164]\n",
      "possible_node_loc AFTER = [  87  148  153  239  282  436  496  598  695  786  855  856 1060 1141\n",
      " 1379 1594 1886 2164]\n",
      "curr_shortest_path = [2164]\n",
      "Current stitch point was a branch or endpoint\n",
      "change_status for create soma extending pieces = False\n",
      "closest_sk_pt_coord AFTER = [693297. 623517. 936763.]\n",
      "skipping soma 1 because closest skeleton node was already end node\n",
      "endpoints_must_keep = {1: array([[693297., 623517., 936763.]])}\n",
      "    Total time for Fixing Skeleton Soma Endpoint Extension : 1.0565989017486572\n",
      "filter_end_node_length = 4000\n",
      "Using Distance measure skeletal_distance\n",
      "endpoints_must_keep = [[693297. 623517. 936763.]]\n",
      "Number of end_nodes BEFORE filtering = 18\n",
      "all_single_nodes_to_eliminate = [17]\n"
     ]
    },
    {
     "data": {
      "application/vnd.jupyter.widget-view+json": {
       "model_id": "f90d03738ed14a45b3cdef82e8492a01",
       "version_major": 2,
       "version_minor": 0
      },
      "text/plain": [
       "HBox(children=(FloatProgress(value=0.0, max=14.0), HTML(value='')))"
      ]
     },
     "metadata": {},
     "output_type": "display_data"
    },
    {
     "name": "stdout",
     "output_type": "stream",
     "text": [
      "\n",
      "Checking connected components after clean_skeleton\n",
      "after DISTANCE cleaning limb size of skeleton = (2124, 2, 3)\n",
      "********COMBINING CLOSE SKELETON NODES WITHIN 700 DISTANCE**********\n",
      "Found 0 valid paths to replace\n",
      "valid_paths = []\n",
      "valid_path_lengths = []\n",
      "No valid paths found so just returning the original\n",
      "skeletonize_and_clean_connected_branch_CGAL: 34.33242869377136\n",
      "Working on limb correspondence for #10 MAP piece\n",
      "xvfb-run -n 4097 -s \"-screen 0 800x600x24\" meshlabserver $@  -i /notebooks/Auto_Proofreading/Decomposition_Optimization/Debug_4/temp/neuron_63496.off -o /notebooks/Auto_Proofreading/Decomposition_Optimization/Debug_4/temp/neuron_63496_remove_interior.off -s /notebooks/Auto_Proofreading/Decomposition_Optimization/Debug_4/temp/remove_interior_840077.mls\n",
      "removed temporary input file: /notebooks/Auto_Proofreading/Decomposition_Optimization/Debug_4/temp/neuron_63496.off\n",
      "removed temporary output file: /notebooks/Auto_Proofreading/Decomposition_Optimization/Debug_4/temp/neuron_63496_remove_interior.off\n",
      "/notebooks/Auto_Proofreading/Decomposition_Optimization/Debug_4/temp/remove_interior_840077.mls is being deleted....\n",
      "THERE WERE NO MESH PIECES GREATER THAN THE significance_threshold\n",
      "No significant (100) interior meshes present\n",
      "largest is 18\n"
     ]
    },
    {
     "data": {
      "application/vnd.jupyter.widget-view+json": {
       "model_id": "e90ac82faac8458192aa462854baf41f",
       "version_major": 2,
       "version_minor": 0
      },
      "text/plain": [
       "HBox(children=(FloatProgress(value=1.0, bar_style='info', max=1.0), HTML(value='')))"
      ]
     },
     "metadata": {},
     "output_type": "display_data"
    },
    {
     "name": "stdout",
     "output_type": "stream",
     "text": [
      "\n",
      "Total time for decomposition = 12.594810724258423\n",
      "mesh_correspondence_first_pass: 12.59484338760376\n",
      "Limb decomposed into 5 branches\n",
      "divided_skeleton_graph_recovered = (2124, 2, 3) and \n",
      "current_mesh_data[0]['branch_skeletons_cleaned'].shape = (2124, 2, 3)\n",
      "\n",
      "Number of connected components in deocmposed recovered graph = 1\n",
      "Number of connected components in cleaned skeleton graph= 1\n",
      "The downsampled branches number of connected components = 1\n",
      "Empty submeshes = []\n",
      "\n",
      "\n",
      "--- Working on 1-to-1 correspondence-----\n",
      "max(original_labels),len(original_labels) = (4, 5)\n",
      "empty_indices % = 0.07100610039327408\n",
      " conflict_indices % = 0.008763509119623447\n"
     ]
    },
    {
     "data": {
      "application/vnd.jupyter.widget-view+json": {
       "model_id": "c5bfca3bbd464c50a16afe69a40eb14d",
       "version_major": 2,
       "version_minor": 0
      },
      "text/plain": [
       "HBox(children=(FloatProgress(value=0.0, max=68.0), HTML(value='')))"
      ]
     },
     "metadata": {},
     "output_type": "display_data"
    },
    {
     "name": "stdout",
     "output_type": "stream",
     "text": [
      "\n",
      "AFTER face_lookup_resolved_test\n",
      "Took 0 iterations to expand the label back\n",
      "empty_indices % = 0.0\n",
      " conflict_indices % = 0.0\n"
     ]
    },
    {
     "data": {
      "application/vnd.jupyter.widget-view+json": {
       "model_id": "64f616e2ea584f6b81edcc6fabaf1c9d",
       "version_major": 2,
       "version_minor": 0
      },
      "text/plain": [
       "HBox(children=(FloatProgress(value=1.0, bar_style='info', max=1.0), HTML(value='')))"
      ]
     },
     "metadata": {},
     "output_type": "display_data"
    },
    {
     "name": "stdout",
     "output_type": "stream",
     "text": [
      "\n",
      "AFTER face_lookup_resolved_test\n"
     ]
    },
    {
     "data": {
      "application/vnd.jupyter.widget-view+json": {
       "model_id": "d7be15b6aa7d42e09d8e523fdaa3d805",
       "version_major": 2,
       "version_minor": 0
      },
      "text/plain": [
       "HBox(children=(FloatProgress(value=0.0, max=5.0), HTML(value='')))"
      ]
     },
     "metadata": {},
     "output_type": "display_data"
    },
    {
     "name": "stdout",
     "output_type": "stream",
     "text": [
      "\n",
      "Total time for MAP sublimb #10 mesh processing = 53.99926495552063\n",
      "correspondence_1_to_1: 7.056110382080078\n",
      "Total time for MAP sublimb processing 371.8894169330597\n",
      "---- Working on MP Decomposition #0 ----\n",
      "Computing the current soma touching verts dict manually\n",
      "MP filtering soma verts: 0.026671171188354492\n",
      "Do Not Need to Fix MP Decomposition 0 so just continuing\n",
      "---- Working on MP Decomposition #1 ----\n",
      "Computing the current soma touching verts dict manually\n",
      "MP filtering soma verts: 0.017160654067993164\n",
      "Do Not Need to Fix MP Decomposition 1 so just continuing\n",
      "---- Working on MP Decomposition #2 ----\n",
      "Computing the current soma touching verts dict manually\n",
      "MP filtering soma verts: 0.0232086181640625\n",
      "Do Not Need to Fix MP Decomposition 2 so just continuing\n",
      "---- Working on MP Decomposition #3 ----\n",
      "Computing the current soma touching verts dict manually\n",
      "MP filtering soma verts: 0.024720430374145508\n",
      "Do Not Need to Fix MP Decomposition 3 so just continuing\n",
      "---- Working on MP Decomposition #4 ----\n",
      "Computing the current soma touching verts dict manually\n",
      "MP filtering soma verts: 0.02292633056640625\n",
      "Do Not Need to Fix MP Decomposition 4 so just continuing\n",
      "---- Working on MP Decomposition #5 ----\n",
      "Computing the current soma touching verts dict manually\n",
      "MP filtering soma verts: 0.015009403228759766\n",
      "Do Not Need to Fix MP Decomposition 5 so just continuing\n",
      "---- Working on MP Decomposition #6 ----\n",
      "Computing the current soma touching verts dict manually\n",
      "MP filtering soma verts: 0.03393983840942383\n",
      "Do Not Need to Fix MP Decomposition 6 so just continuing\n",
      "---- Working on MP Decomposition #7 ----\n",
      "Computing the current soma touching verts dict manually\n",
      "MP filtering soma verts: 0.020727872848510742\n",
      "Do Not Need to Fix MP Decomposition 7 so just continuing\n",
      "---- Working on MP Decomposition #8 ----\n",
      "Computing the current soma touching verts dict manually\n",
      "MP filtering soma verts: 0.029338836669921875\n",
      "Do Not Need to Fix MP Decomposition 8 so just continuing\n",
      "---- Working on MP Decomposition #9 ----\n",
      "Computing the current soma touching verts dict manually\n",
      "MP filtering soma verts: 0.017614364624023438\n",
      "Do Not Need to Fix MP Decomposition 9 so just continuing\n",
      "---- Working on MP Decomposition #10 ----\n",
      "Computing the current soma touching verts dict manually\n",
      "MP filtering soma verts: 0.0217893123626709\n",
      "Do Not Need to Fix MP Decomposition 10 so just continuing\n",
      "---- Working on MP Decomposition #11 ----\n",
      "Computing the current soma touching verts dict manually\n",
      "MP filtering soma verts: 0.016726016998291016\n",
      "Do Not Need to Fix MP Decomposition 11 so just continuing\n",
      "---- Working on MP Decomposition #12 ----\n",
      "Computing the current soma touching verts dict manually\n",
      "MP filtering soma verts: 0.015959501266479492\n",
      "Do Not Need to Fix MP Decomposition 12 so just continuing\n",
      "---- Working on MP Decomposition #13 ----\n",
      "Computing the current soma touching verts dict manually\n",
      "MP filtering soma verts: 0.018419504165649414\n",
      "Do Not Need to Fix MP Decomposition 13 so just continuing\n",
      "---- Working on MP Decomposition #14 ----\n",
      "Computing the current soma touching verts dict manually\n",
      "MP filtering soma verts: 0.017374515533447266\n",
      "Do Not Need to Fix MP Decomposition 14 so just continuing\n",
      "---- Working on MP Decomposition #15 ----\n",
      "Computing the current soma touching verts dict manually\n",
      "MP filtering soma verts: 0.019986391067504883\n",
      "Do Not Need to Fix MP Decomposition 15 so just continuing\n",
      "---- Working on MP Decomposition #16 ----\n",
      "Computing the current soma touching verts dict manually\n",
      "MP filtering soma verts: 0.015355587005615234\n",
      "Do Not Need to Fix MP Decomposition 16 so just continuing\n",
      "---- Working on MP Decomposition #17 ----\n",
      "Computing the current soma touching verts dict manually\n",
      "MP filtering soma verts: 0.014754772186279297\n",
      "Do Not Need to Fix MP Decomposition 17 so just continuing\n",
      "---- Working on MP Decomposition #18 ----\n",
      "Computing the current soma touching verts dict manually\n",
      "MP filtering soma verts: 0.014952898025512695\n",
      "Do Not Need to Fix MP Decomposition 18 so just continuing\n",
      "---- Working on MP Decomposition #19 ----\n",
      "Computing the current soma touching verts dict manually\n",
      "MP filtering soma verts: 0.015052318572998047\n",
      "Do Not Need to Fix MP Decomposition 19 so just continuing\n",
      "---- Working on MP Decomposition #20 ----\n",
      "Computing the current soma touching verts dict manually\n",
      "MP filtering soma verts: 0.01593184471130371\n",
      "Do Not Need to Fix MP Decomposition 20 so just continuing\n",
      "---- Working on MP Decomposition #21 ----\n",
      "Computing the current soma touching verts dict manually\n",
      "MP filtering soma verts: 0.015278816223144531\n",
      "Do Not Need to Fix MP Decomposition 21 so just continuing\n",
      "---- Working on MP Decomposition #22 ----\n",
      "Computing the current soma touching verts dict manually\n",
      "MP filtering soma verts: 0.0168001651763916\n",
      "Do Not Need to Fix MP Decomposition 22 so just continuing\n",
      "---- Working on MP Decomposition #23 ----\n",
      "Computing the current soma touching verts dict manually\n",
      "MP filtering soma verts: 0.014617443084716797\n",
      "Do Not Need to Fix MP Decomposition 23 so just continuing\n",
      "---- Working on MP Decomposition #24 ----\n",
      "Computing the current soma touching verts dict manually\n",
      "MP filtering soma verts: 0.016199111938476562\n",
      "Do Not Need to Fix MP Decomposition 24 so just continuing\n",
      "---- Working on MP Decomposition #25 ----\n",
      "Computing the current soma touching verts dict manually\n",
      "MP filtering soma verts: 0.014808893203735352\n",
      "Do Not Need to Fix MP Decomposition 25 so just continuing\n",
      "---- Working on MP Decomposition #26 ----\n",
      "Computing the current soma touching verts dict manually\n",
      "MP filtering soma verts: 0.014392375946044922\n",
      "Do Not Need to Fix MP Decomposition 26 so just continuing\n",
      "---- Working on MP Decomposition #27 ----\n",
      "Computing the current soma touching verts dict manually\n",
      "MP filtering soma verts: 0.01434183120727539\n",
      "Do Not Need to Fix MP Decomposition 27 so just continuing\n",
      "Successful mesh connectivity with type edges\n",
      "\n",
      "---- Working on (0, 0) connection-----\n",
      "sk_conn = [2, 17]\n",
      "conn = [2, 17]\n",
      "winning_vertex = [719728.78990965 645834.23364201 903223.04509774]\n",
      "MP_branches_with_stitch_point = [2, 17]\n",
      "MAP_branches_with_stitch_point = [4]\n",
      "MAP_stitch_point_on_end_or_branch = True\n"
     ]
    },
    {
     "data": {
      "application/vnd.jupyter.widget-view+json": {
       "model_id": "be2b0cfad80e402ab9fe31ab5fab3007",
       "version_major": 2,
       "version_minor": 0
      },
      "text/plain": [
       "HBox(children=(FloatProgress(value=1.0, bar_style='info', max=1.0), HTML(value='')))"
      ]
     },
     "metadata": {},
     "output_type": "display_data"
    },
    {
     "name": "stdout",
     "output_type": "stream",
     "text": [
      "\n",
      "\n",
      "\n",
      "--- Working on 1-to-1 correspondence-----\n",
      "max(original_labels),len(original_labels) = (2, 3)\n",
      "empty_indices % = 0.09848389926074427\n",
      " conflict_indices % = 0.007893747650670342\n"
     ]
    },
    {
     "data": {
      "application/vnd.jupyter.widget-view+json": {
       "model_id": "1143b6bcb2ad4e76b129466cff8b0a2c",
       "version_major": 2,
       "version_minor": 0
      },
      "text/plain": [
       "HBox(children=(FloatProgress(value=0.0, max=14.0), HTML(value='')))"
      ]
     },
     "metadata": {},
     "output_type": "display_data"
    },
    {
     "name": "stdout",
     "output_type": "stream",
     "text": [
      "\n",
      "AFTER face_lookup_resolved_test\n"
     ]
    },
    {
     "data": {
      "application/vnd.jupyter.widget-view+json": {
       "model_id": "45fb5f5bdc2d4d6ba8f8706547d79801",
       "version_major": 2,
       "version_minor": 0
      },
      "text/plain": [
       "HBox(children=(FloatProgress(value=0.0, max=3.0), HTML(value='')))"
      ]
     },
     "metadata": {},
     "output_type": "display_data"
    },
    {
     "name": "stdout",
     "output_type": "stream",
     "text": [
      "\n",
      "MP_branches_with_stitch_point= [2, 17]\n",
      "MP_branches_for_correspondence = [ 2 17]\n",
      "MP_leftover = [], MP_leftover_idx = []\n",
      " Finished with (0, 0) \n",
      "\n",
      "\n",
      "\n",
      "\n",
      "---- Working on (1, 0) connection-----\n",
      "sk_conn = [0, 14]\n",
      "conn = [0, 14]\n",
      "winning_vertex = [683155.20320028 579266.5923219  944474.14704507]\n",
      "MP_branches_with_stitch_point = [0, 14]\n",
      "MAP_branches_with_stitch_point = [1]\n",
      "MAP_stitch_point_on_end_or_branch = True\n"
     ]
    },
    {
     "data": {
      "application/vnd.jupyter.widget-view+json": {
       "model_id": "e69f77d79bb347aeaf4c1a97daec742d",
       "version_major": 2,
       "version_minor": 0
      },
      "text/plain": [
       "HBox(children=(FloatProgress(value=1.0, bar_style='info', max=1.0), HTML(value='')))"
      ]
     },
     "metadata": {},
     "output_type": "display_data"
    },
    {
     "name": "stdout",
     "output_type": "stream",
     "text": [
      "\n",
      "\n",
      "\n",
      "--- Working on 1-to-1 correspondence-----\n",
      "max(original_labels),len(original_labels) = (2, 3)\n",
      "empty_indices % = 0.041523285157146136\n",
      " conflict_indices % = 0.012617572837806837\n"
     ]
    },
    {
     "data": {
      "application/vnd.jupyter.widget-view+json": {
       "model_id": "dc3938190c004a9089305d521a2bc54e",
       "version_major": 2,
       "version_minor": 0
      },
      "text/plain": [
       "HBox(children=(FloatProgress(value=0.0, max=8.0), HTML(value='')))"
      ]
     },
     "metadata": {},
     "output_type": "display_data"
    },
    {
     "name": "stdout",
     "output_type": "stream",
     "text": [
      "\n",
      "AFTER face_lookup_resolved_test\n"
     ]
    },
    {
     "data": {
      "application/vnd.jupyter.widget-view+json": {
       "model_id": "2e001570b32b458b8f3a7530ba4ab1af",
       "version_major": 2,
       "version_minor": 0
      },
      "text/plain": [
       "HBox(children=(FloatProgress(value=0.0, max=3.0), HTML(value='')))"
      ]
     },
     "metadata": {},
     "output_type": "display_data"
    },
    {
     "name": "stdout",
     "output_type": "stream",
     "text": [
      "\n",
      "MP_branches_with_stitch_point= [0, 14]\n",
      "MP_branches_for_correspondence = [ 0 14]\n",
      "MP_leftover = [], MP_leftover_idx = []\n",
      " Finished with (1, 0) \n",
      "\n",
      "\n",
      "\n",
      "\n",
      "---- Working on (1, 1) connection-----\n",
      "sk_conn = [0, 6]\n",
      "conn = [0, 6]\n",
      "winning_vertex = [677772.89025303 583736.09342067 939574.75289313]\n",
      "MP_branches_with_stitch_point = [0, 6]\n",
      "MAP_branches_with_stitch_point = [0]\n",
      "MAP_stitch_point_on_end_or_branch = True\n"
     ]
    },
    {
     "data": {
      "application/vnd.jupyter.widget-view+json": {
       "model_id": "3b869dd1fd204b09be988b429fb784cd",
       "version_major": 2,
       "version_minor": 0
      },
      "text/plain": [
       "HBox(children=(FloatProgress(value=1.0, bar_style='info', max=1.0), HTML(value='')))"
      ]
     },
     "metadata": {},
     "output_type": "display_data"
    },
    {
     "name": "stdout",
     "output_type": "stream",
     "text": [
      "\n",
      "\n",
      "\n",
      "--- Working on 1-to-1 correspondence-----\n",
      "max(original_labels),len(original_labels) = (2, 3)\n",
      "empty_indices % = 0.11854858752381742\n",
      " conflict_indices % = 0.008698533675751801\n"
     ]
    },
    {
     "data": {
      "application/vnd.jupyter.widget-view+json": {
       "model_id": "7cb65b4f2bbc45379a219423584866d6",
       "version_major": 2,
       "version_minor": 0
      },
      "text/plain": [
       "HBox(children=(FloatProgress(value=0.0, max=20.0), HTML(value='')))"
      ]
     },
     "metadata": {},
     "output_type": "display_data"
    },
    {
     "name": "stdout",
     "output_type": "stream",
     "text": [
      "\n",
      "AFTER face_lookup_resolved_test\n"
     ]
    },
    {
     "data": {
      "application/vnd.jupyter.widget-view+json": {
       "model_id": "8cea6eb184f04268a29d07f3c2afd485",
       "version_major": 2,
       "version_minor": 0
      },
      "text/plain": [
       "HBox(children=(FloatProgress(value=0.0, max=3.0), HTML(value='')))"
      ]
     },
     "metadata": {},
     "output_type": "display_data"
    },
    {
     "name": "stdout",
     "output_type": "stream",
     "text": [
      "\n",
      "MP_branches_with_stitch_point= [0, 6]\n",
      "MP_branches_for_correspondence = [0 6]\n",
      "MP_leftover = [], MP_leftover_idx = []\n",
      " Finished with (1, 1) \n",
      "\n",
      "\n",
      "\n",
      "\n",
      "---- Working on (1, 3) connection-----\n",
      "sk_conn = [5, 14]\n",
      "conn = [5, 14]\n",
      "winning_vertex = [686932.69205065 584708.07319785 950307.5255131 ]\n",
      "MP_branches_with_stitch_point = [5, 14]\n",
      "MAP_branches_with_stitch_point = [0]\n",
      "MAP_stitch_point_on_end_or_branch = True\n"
     ]
    },
    {
     "data": {
      "application/vnd.jupyter.widget-view+json": {
       "model_id": "677fae5c24474e55b08c049ddf4524ce",
       "version_major": 2,
       "version_minor": 0
      },
      "text/plain": [
       "HBox(children=(FloatProgress(value=1.0, bar_style='info', max=1.0), HTML(value='')))"
      ]
     },
     "metadata": {},
     "output_type": "display_data"
    },
    {
     "name": "stdout",
     "output_type": "stream",
     "text": [
      "\n",
      "\n",
      "\n",
      "--- Working on 1-to-1 correspondence-----\n",
      "max(original_labels),len(original_labels) = (2, 3)\n",
      "empty_indices % = 0.026777391746462164\n",
      " conflict_indices % = 0.0023726802813320907\n"
     ]
    },
    {
     "data": {
      "application/vnd.jupyter.widget-view+json": {
       "model_id": "aaf30293a9ea43c989d478bd06e25648",
       "version_major": 2,
       "version_minor": 0
      },
      "text/plain": [
       "HBox(children=(FloatProgress(value=0.0, max=7.0), HTML(value='')))"
      ]
     },
     "metadata": {},
     "output_type": "display_data"
    },
    {
     "name": "stdout",
     "output_type": "stream",
     "text": [
      "\n",
      "AFTER face_lookup_resolved_test\n"
     ]
    },
    {
     "data": {
      "application/vnd.jupyter.widget-view+json": {
       "model_id": "7878b6a7005a43d488f7b1d5b545a5d5",
       "version_major": 2,
       "version_minor": 0
      },
      "text/plain": [
       "HBox(children=(FloatProgress(value=0.0, max=3.0), HTML(value='')))"
      ]
     },
     "metadata": {},
     "output_type": "display_data"
    },
    {
     "name": "stdout",
     "output_type": "stream",
     "text": [
      "\n",
      "MP_branches_with_stitch_point= [5, 14]\n",
      "MP_branches_for_correspondence = [ 5 14]\n",
      "MP_leftover = [], MP_leftover_idx = []\n",
      " Finished with (1, 3) \n",
      "\n",
      "\n",
      "\n",
      "\n",
      "---- Working on (1, 7) connection-----\n",
      "sk_conn = [1, 3]\n",
      "conn = [1, 3]\n",
      "winning_vertex = [710989.59125287 582701.60870825 938074.27371328]\n",
      "MP_branches_with_stitch_point = [1, 3]\n",
      "MAP_branches_with_stitch_point = [0]\n",
      "MAP_stitch_point_on_end_or_branch = True\n"
     ]
    },
    {
     "data": {
      "application/vnd.jupyter.widget-view+json": {
       "model_id": "e8e3f3035c824cb1a25d2159aab0b68b",
       "version_major": 2,
       "version_minor": 0
      },
      "text/plain": [
       "HBox(children=(FloatProgress(value=1.0, bar_style='info', max=1.0), HTML(value='')))"
      ]
     },
     "metadata": {},
     "output_type": "display_data"
    },
    {
     "name": "stdout",
     "output_type": "stream",
     "text": [
      "\n",
      "\n",
      "\n",
      "--- Working on 1-to-1 correspondence-----\n",
      "max(original_labels),len(original_labels) = (2, 3)\n",
      "empty_indices % = 0.10840632465021044\n",
      " conflict_indices % = 0.011716528267546353\n"
     ]
    },
    {
     "data": {
      "application/vnd.jupyter.widget-view+json": {
       "model_id": "4ae4fa6a5f29442b9021ea56ae776b16",
       "version_major": 2,
       "version_minor": 0
      },
      "text/plain": [
       "HBox(children=(FloatProgress(value=0.0, max=14.0), HTML(value='')))"
      ]
     },
     "metadata": {},
     "output_type": "display_data"
    },
    {
     "name": "stdout",
     "output_type": "stream",
     "text": [
      "\n",
      "AFTER face_lookup_resolved_test\n"
     ]
    },
    {
     "data": {
      "application/vnd.jupyter.widget-view+json": {
       "model_id": "011fbeb9d2414644ab797b347c44f5ba",
       "version_major": 2,
       "version_minor": 0
      },
      "text/plain": [
       "HBox(children=(FloatProgress(value=0.0, max=3.0), HTML(value='')))"
      ]
     },
     "metadata": {},
     "output_type": "display_data"
    },
    {
     "name": "stdout",
     "output_type": "stream",
     "text": [
      "\n",
      "MP_branches_with_stitch_point= [1, 3]\n",
      "MP_branches_for_correspondence = [1 3]\n",
      "MP_leftover = [], MP_leftover_idx = []\n",
      " Finished with (1, 7) \n",
      "\n",
      "\n",
      "\n",
      "\n",
      "---- Working on (1, 8) connection-----\n",
      "sk_conn = [3, 5]\n",
      "conn = [3, 5]\n",
      "winning_vertex = [690470.29296039 586620.35592369 952467.92513387]\n",
      "MP_branches_with_stitch_point = [3, 5]\n",
      "MAP_branches_with_stitch_point = [0]\n",
      "MAP_stitch_point_on_end_or_branch = True\n"
     ]
    },
    {
     "data": {
      "application/vnd.jupyter.widget-view+json": {
       "model_id": "f62e15c592cf492c86bfa1391494929d",
       "version_major": 2,
       "version_minor": 0
      },
      "text/plain": [
       "HBox(children=(FloatProgress(value=1.0, bar_style='info', max=1.0), HTML(value='')))"
      ]
     },
     "metadata": {},
     "output_type": "display_data"
    },
    {
     "name": "stdout",
     "output_type": "stream",
     "text": [
      "\n",
      "\n",
      "\n",
      "--- Working on 1-to-1 correspondence-----\n",
      "max(original_labels),len(original_labels) = (2, 3)\n",
      "empty_indices % = 0.048796527686439564\n",
      " conflict_indices % = 0.0031566486913060634\n"
     ]
    },
    {
     "data": {
      "application/vnd.jupyter.widget-view+json": {
       "model_id": "1dbacfe4f990455e80337be99b6c64bc",
       "version_major": 2,
       "version_minor": 0
      },
      "text/plain": [
       "HBox(children=(FloatProgress(value=0.0, max=10.0), HTML(value='')))"
      ]
     },
     "metadata": {},
     "output_type": "display_data"
    },
    {
     "name": "stdout",
     "output_type": "stream",
     "text": [
      "\n",
      "AFTER face_lookup_resolved_test\n"
     ]
    },
    {
     "data": {
      "application/vnd.jupyter.widget-view+json": {
       "model_id": "2dae560ce4054958bf6114c73520e475",
       "version_major": 2,
       "version_minor": 0
      },
      "text/plain": [
       "HBox(children=(FloatProgress(value=0.0, max=3.0), HTML(value='')))"
      ]
     },
     "metadata": {},
     "output_type": "display_data"
    },
    {
     "name": "stdout",
     "output_type": "stream",
     "text": [
      "\n",
      "MP_branches_with_stitch_point= [3, 5]\n",
      "MP_branches_for_correspondence = [3 5]\n",
      "MP_leftover = [], MP_leftover_idx = []\n",
      " Finished with (1, 8) \n",
      "\n",
      "\n",
      "\n",
      "\n",
      "---- Working on (2, 1) connection-----\n",
      "sk_conn = [2, 23]\n",
      "conn = [2, 23]\n",
      "winning_vertex = [671809.32056822 594572.65055191 921415.7332192 ]\n",
      "MP_branches_with_stitch_point = [2, 23]\n",
      "MAP_branches_with_stitch_point = [0]\n",
      "MAP_stitch_point_on_end_or_branch = True\n"
     ]
    },
    {
     "data": {
      "application/vnd.jupyter.widget-view+json": {
       "model_id": "d8397419f95b4cd99c4291cc11b6dd95",
       "version_major": 2,
       "version_minor": 0
      },
      "text/plain": [
       "HBox(children=(FloatProgress(value=1.0, bar_style='info', max=1.0), HTML(value='')))"
      ]
     },
     "metadata": {},
     "output_type": "display_data"
    },
    {
     "name": "stdout",
     "output_type": "stream",
     "text": [
      "\n",
      "\n",
      "\n",
      "--- Working on 1-to-1 correspondence-----\n",
      "max(original_labels),len(original_labels) = (2, 3)\n",
      "empty_indices % = 0.16327590684789195\n",
      " conflict_indices % = 0.012206735347588954\n"
     ]
    },
    {
     "data": {
      "application/vnd.jupyter.widget-view+json": {
       "model_id": "d1775abab5e44a6ebb251e68b2933251",
       "version_major": 2,
       "version_minor": 0
      },
      "text/plain": [
       "HBox(children=(FloatProgress(value=0.0, max=12.0), HTML(value='')))"
      ]
     },
     "metadata": {},
     "output_type": "display_data"
    },
    {
     "name": "stdout",
     "output_type": "stream",
     "text": [
      "\n",
      "AFTER face_lookup_resolved_test\n"
     ]
    },
    {
     "data": {
      "application/vnd.jupyter.widget-view+json": {
       "model_id": "3196ad0516264af081655bb8fc180d1b",
       "version_major": 2,
       "version_minor": 0
      },
      "text/plain": [
       "HBox(children=(FloatProgress(value=0.0, max=3.0), HTML(value='')))"
      ]
     },
     "metadata": {},
     "output_type": "display_data"
    },
    {
     "name": "stdout",
     "output_type": "stream",
     "text": [
      "\n",
      "MP_branches_with_stitch_point= [2, 23]\n",
      "MP_branches_for_correspondence = [ 2 23]\n",
      "MP_leftover = [], MP_leftover_idx = []\n",
      " Finished with (2, 1) \n",
      "\n",
      "\n",
      "\n",
      "\n",
      "---- Working on (3, 2) connection-----\n",
      "sk_conn = [13, 26]\n",
      "conn = [13, 26]\n",
      "winning_vertex = [646247.5082606  554713.24769216 945893.30069036]\n",
      "MP_branches_with_stitch_point = [13, 26]\n",
      "MAP_branches_with_stitch_point = [0]\n",
      "MAP_stitch_point_on_end_or_branch = True\n"
     ]
    },
    {
     "data": {
      "application/vnd.jupyter.widget-view+json": {
       "model_id": "e3af03e78a1b483695305cb1e54e10e0",
       "version_major": 2,
       "version_minor": 0
      },
      "text/plain": [
       "HBox(children=(FloatProgress(value=1.0, bar_style='info', max=1.0), HTML(value='')))"
      ]
     },
     "metadata": {},
     "output_type": "display_data"
    },
    {
     "name": "stdout",
     "output_type": "stream",
     "text": [
      "\n",
      "\n",
      "\n",
      "--- Working on 1-to-1 correspondence-----\n",
      "max(original_labels),len(original_labels) = (2, 3)\n",
      "empty_indices % = 0.14862948960302458\n",
      " conflict_indices % = 0.006222432262129805\n"
     ]
    },
    {
     "data": {
      "application/vnd.jupyter.widget-view+json": {
       "model_id": "07ec11b3590e4c40ba6b2c6726659e14",
       "version_major": 2,
       "version_minor": 0
      },
      "text/plain": [
       "HBox(children=(FloatProgress(value=0.0, max=15.0), HTML(value='')))"
      ]
     },
     "metadata": {},
     "output_type": "display_data"
    },
    {
     "name": "stdout",
     "output_type": "stream",
     "text": [
      "\n",
      "AFTER face_lookup_resolved_test\n"
     ]
    },
    {
     "data": {
      "application/vnd.jupyter.widget-view+json": {
       "model_id": "30fb6a6a19a74e7dad78d1b3bbc5fef0",
       "version_major": 2,
       "version_minor": 0
      },
      "text/plain": [
       "HBox(children=(FloatProgress(value=0.0, max=3.0), HTML(value='')))"
      ]
     },
     "metadata": {},
     "output_type": "display_data"
    },
    {
     "name": "stdout",
     "output_type": "stream",
     "text": [
      "\n",
      "MP_branches_with_stitch_point= [13, 26]\n",
      "MP_branches_for_correspondence = [13 26]\n",
      "MP_leftover = [], MP_leftover_idx = []\n",
      " Finished with (3, 2) \n",
      "\n",
      "\n",
      "\n",
      "\n",
      "---- Working on (4, 0) connection-----\n",
      "sk_conn = [10, 29]\n",
      "conn = [10, 29]\n",
      "winning_vertex = [653806.84389054 598162.14876871 916931.02628954]\n",
      "MP_branches_with_stitch_point = [10, 29]\n",
      "MAP_branches_with_stitch_point = [0]\n",
      "MAP_stitch_point_on_end_or_branch = True\n"
     ]
    },
    {
     "data": {
      "application/vnd.jupyter.widget-view+json": {
       "model_id": "3c71becfdc3244809842b735b792582f",
       "version_major": 2,
       "version_minor": 0
      },
      "text/plain": [
       "HBox(children=(FloatProgress(value=1.0, bar_style='info', max=1.0), HTML(value='')))"
      ]
     },
     "metadata": {},
     "output_type": "display_data"
    },
    {
     "name": "stdout",
     "output_type": "stream",
     "text": [
      "\n",
      "\n",
      "\n",
      "--- Working on 1-to-1 correspondence-----\n",
      "max(original_labels),len(original_labels) = (2, 3)\n",
      "empty_indices % = 0.054254894127047544\n",
      " conflict_indices % = 0.007351178585697163\n"
     ]
    },
    {
     "data": {
      "application/vnd.jupyter.widget-view+json": {
       "model_id": "c2eb8ee4d47a4deb8a5e5ee0a49a5b2e",
       "version_major": 2,
       "version_minor": 0
      },
      "text/plain": [
       "HBox(children=(FloatProgress(value=0.0, max=10.0), HTML(value='')))"
      ]
     },
     "metadata": {},
     "output_type": "display_data"
    },
    {
     "name": "stdout",
     "output_type": "stream",
     "text": [
      "\n",
      "AFTER face_lookup_resolved_test\n"
     ]
    },
    {
     "data": {
      "application/vnd.jupyter.widget-view+json": {
       "model_id": "1f3fe886581b46938bb9d99a96b8201b",
       "version_major": 2,
       "version_minor": 0
      },
      "text/plain": [
       "HBox(children=(FloatProgress(value=0.0, max=3.0), HTML(value='')))"
      ]
     },
     "metadata": {},
     "output_type": "display_data"
    },
    {
     "name": "stdout",
     "output_type": "stream",
     "text": [
      "\n",
      "MP_branches_with_stitch_point= [10, 29]\n",
      "MP_branches_for_correspondence = [10 29]\n",
      "MP_leftover = [], MP_leftover_idx = []\n",
      " Finished with (4, 0) \n",
      "\n",
      "\n",
      "\n",
      "\n",
      "---- Working on (4, 2) connection-----\n",
      "sk_conn = [8, 40]\n",
      "conn = [8, 40]\n",
      "winning_vertex = [650588.32168729 577108.21772915 931167.79518398]\n",
      "MP_branches_with_stitch_point = [8, 40]\n",
      "MAP_branches_with_stitch_point = [0]\n",
      "MAP_stitch_point_on_end_or_branch = True\n"
     ]
    },
    {
     "data": {
      "application/vnd.jupyter.widget-view+json": {
       "model_id": "eb5f52b592f9465bbc94a967d551f2e8",
       "version_major": 2,
       "version_minor": 0
      },
      "text/plain": [
       "HBox(children=(FloatProgress(value=1.0, bar_style='info', max=1.0), HTML(value='')))"
      ]
     },
     "metadata": {},
     "output_type": "display_data"
    },
    {
     "name": "stdout",
     "output_type": "stream",
     "text": [
      "\n",
      "\n",
      "\n",
      "--- Working on 1-to-1 correspondence-----\n",
      "max(original_labels),len(original_labels) = (2, 3)\n",
      "empty_indices % = 0.032703213610586014\n",
      " conflict_indices % = 0.0026465028355387526\n"
     ]
    },
    {
     "data": {
      "application/vnd.jupyter.widget-view+json": {
       "model_id": "da1a5b15d87146058396e0f5b0d8fee7",
       "version_major": 2,
       "version_minor": 0
      },
      "text/plain": [
       "HBox(children=(FloatProgress(value=0.0, max=5.0), HTML(value='')))"
      ]
     },
     "metadata": {},
     "output_type": "display_data"
    },
    {
     "name": "stdout",
     "output_type": "stream",
     "text": [
      "\n",
      "AFTER face_lookup_resolved_test\n"
     ]
    },
    {
     "data": {
      "application/vnd.jupyter.widget-view+json": {
       "model_id": "0217142b294745dc9e2a99c50a7fee52",
       "version_major": 2,
       "version_minor": 0
      },
      "text/plain": [
       "HBox(children=(FloatProgress(value=0.0, max=3.0), HTML(value='')))"
      ]
     },
     "metadata": {},
     "output_type": "display_data"
    },
    {
     "name": "stdout",
     "output_type": "stream",
     "text": [
      "\n",
      "MP_branches_with_stitch_point= [8, 40]\n",
      "MP_branches_for_correspondence = [ 8 40]\n",
      "MP_leftover = [], MP_leftover_idx = []\n",
      " Finished with (4, 2) \n",
      "\n",
      "\n",
      "\n",
      "\n",
      "---- Working on (4, 9) connection-----\n",
      "sk_conn = [12]\n",
      "conn = [12]\n",
      "winning_vertex = [713053.54355901 596938.57725283 888549.015202  ]\n",
      "MP_branches_with_stitch_point = [12]\n",
      "MAP_branches_with_stitch_point = [2]\n",
      "MAP_stitch_point_on_end_or_branch = False\n"
     ]
    },
    {
     "data": {
      "application/vnd.jupyter.widget-view+json": {
       "model_id": "bdf8e817bd504f98a0130a5f6115a508",
       "version_major": 2,
       "version_minor": 0
      },
      "text/plain": [
       "HBox(children=(FloatProgress(value=1.0, bar_style='info', max=1.0), HTML(value='')))"
      ]
     },
     "metadata": {},
     "output_type": "display_data"
    },
    {
     "name": "stdout",
     "output_type": "stream",
     "text": [
      "\n",
      "\n",
      "\n",
      "--- Working on 1-to-1 correspondence-----\n",
      "max(original_labels),len(original_labels) = (1, 2)\n",
      "empty_indices % = 0.03401165567975542\n",
      " conflict_indices % = 0.004394764497945926\n"
     ]
    },
    {
     "data": {
      "application/vnd.jupyter.widget-view+json": {
       "model_id": "fdb4eca6a3924b7ab9bcc28e5299a54c",
       "version_major": 2,
       "version_minor": 0
      },
      "text/plain": [
       "HBox(children=(FloatProgress(value=0.0, max=7.0), HTML(value='')))"
      ]
     },
     "metadata": {},
     "output_type": "display_data"
    },
    {
     "name": "stdout",
     "output_type": "stream",
     "text": [
      "\n",
      "AFTER face_lookup_resolved_test\n"
     ]
    },
    {
     "data": {
      "application/vnd.jupyter.widget-view+json": {
       "model_id": "b11a12ea47f2424f98d77e7f3893fea8",
       "version_major": 2,
       "version_minor": 0
      },
      "text/plain": [
       "HBox(children=(FloatProgress(value=0.0, max=2.0), HTML(value='')))"
      ]
     },
     "metadata": {},
     "output_type": "display_data"
    },
    {
     "name": "stdout",
     "output_type": "stream",
     "text": [
      "\n"
     ]
    },
    {
     "data": {
      "application/vnd.jupyter.widget-view+json": {
       "model_id": "55e8ca888bf743de81b0fc2bc17064c9",
       "version_major": 2,
       "version_minor": 0
      },
      "text/plain": [
       "HBox(children=(FloatProgress(value=1.0, bar_style='info', max=1.0), HTML(value='')))"
      ]
     },
     "metadata": {},
     "output_type": "display_data"
    },
    {
     "name": "stdout",
     "output_type": "stream",
     "text": [
      "\n",
      "\n",
      "\n",
      "--- Working on 1-to-1 correspondence-----\n",
      "max(original_labels),len(original_labels) = (2, 3)\n",
      "empty_indices % = 0.05970276733857192\n",
      " conflict_indices % = 0.013153399385035873\n"
     ]
    },
    {
     "data": {
      "application/vnd.jupyter.widget-view+json": {
       "model_id": "32ddf0edc82a417495b48ee793f64072",
       "version_major": 2,
       "version_minor": 0
      },
      "text/plain": [
       "HBox(children=(FloatProgress(value=0.0, max=8.0), HTML(value='')))"
      ]
     },
     "metadata": {},
     "output_type": "display_data"
    },
    {
     "name": "stdout",
     "output_type": "stream",
     "text": [
      "\n",
      "AFTER face_lookup_resolved_test\n"
     ]
    },
    {
     "data": {
      "application/vnd.jupyter.widget-view+json": {
       "model_id": "bf94444822ad4c3bbdf83fbeb6fc1a68",
       "version_major": 2,
       "version_minor": 0
      },
      "text/plain": [
       "HBox(children=(FloatProgress(value=0.0, max=3.0), HTML(value='')))"
      ]
     },
     "metadata": {},
     "output_type": "display_data"
    },
    {
     "name": "stdout",
     "output_type": "stream",
     "text": [
      "\n",
      "Deleting branches from dictionary\n",
      "MP_branches_with_stitch_point= [12]\n",
      "MP_branches_for_correspondence = [12]\n",
      "MP_leftover = [], MP_leftover_idx = []\n",
      " Finished with (4, 9) \n",
      "\n",
      "\n",
      "\n",
      "\n",
      "---- Working on (5, 0) connection-----\n",
      "sk_conn = [4]\n",
      "conn = [4]\n",
      "winning_vertex = [694536.05221707 563978.79387485 981824.62837615]\n",
      "MP_branches_with_stitch_point = [4]\n",
      "MAP_branches_with_stitch_point = [8]\n",
      "MAP_stitch_point_on_end_or_branch = False\n"
     ]
    },
    {
     "data": {
      "application/vnd.jupyter.widget-view+json": {
       "model_id": "8feb98bf9dde40e584328bf9b9aa4a4e",
       "version_major": 2,
       "version_minor": 0
      },
      "text/plain": [
       "HBox(children=(FloatProgress(value=1.0, bar_style='info', max=1.0), HTML(value='')))"
      ]
     },
     "metadata": {},
     "output_type": "display_data"
    },
    {
     "name": "stdout",
     "output_type": "stream",
     "text": [
      "\n",
      "\n",
      "\n",
      "--- Working on 1-to-1 correspondence-----\n",
      "max(original_labels),len(original_labels) = (1, 2)\n",
      "empty_indices % = 0.002422233554309026\n",
      " conflict_indices % = 0.0053544110147883735\n"
     ]
    },
    {
     "data": {
      "application/vnd.jupyter.widget-view+json": {
       "model_id": "d465d4574e60473c93f84664b52787dc",
       "version_major": 2,
       "version_minor": 0
      },
      "text/plain": [
       "HBox(children=(FloatProgress(value=0.0, max=6.0), HTML(value='')))"
      ]
     },
     "metadata": {},
     "output_type": "display_data"
    },
    {
     "name": "stdout",
     "output_type": "stream",
     "text": [
      "\n",
      "AFTER face_lookup_resolved_test\n"
     ]
    },
    {
     "data": {
      "application/vnd.jupyter.widget-view+json": {
       "model_id": "1105e556df304ab6b15fbeaf80ef4c3b",
       "version_major": 2,
       "version_minor": 0
      },
      "text/plain": [
       "HBox(children=(FloatProgress(value=0.0, max=2.0), HTML(value='')))"
      ]
     },
     "metadata": {},
     "output_type": "display_data"
    },
    {
     "name": "stdout",
     "output_type": "stream",
     "text": [
      "\n"
     ]
    },
    {
     "data": {
      "application/vnd.jupyter.widget-view+json": {
       "model_id": "4739a3856acf4e9691474e0804825c6b",
       "version_major": 2,
       "version_minor": 0
      },
      "text/plain": [
       "HBox(children=(FloatProgress(value=1.0, bar_style='info', max=1.0), HTML(value='')))"
      ]
     },
     "metadata": {},
     "output_type": "display_data"
    },
    {
     "name": "stdout",
     "output_type": "stream",
     "text": [
      "\n",
      "\n",
      "\n",
      "--- Working on 1-to-1 correspondence-----\n",
      "max(original_labels),len(original_labels) = (2, 3)\n",
      "empty_indices % = 0.03569057104913679\n",
      " conflict_indices % = 0.010541168658698538\n"
     ]
    },
    {
     "data": {
      "application/vnd.jupyter.widget-view+json": {
       "model_id": "b070ba82f2dd4d3b83c6c1bc8ebfd6e2",
       "version_major": 2,
       "version_minor": 0
      },
      "text/plain": [
       "HBox(children=(FloatProgress(value=0.0, max=9.0), HTML(value='')))"
      ]
     },
     "metadata": {},
     "output_type": "display_data"
    },
    {
     "name": "stdout",
     "output_type": "stream",
     "text": [
      "\n",
      "AFTER face_lookup_resolved_test\n"
     ]
    },
    {
     "data": {
      "application/vnd.jupyter.widget-view+json": {
       "model_id": "1a1f71ede275451293ffdae18d71e6f7",
       "version_major": 2,
       "version_minor": 0
      },
      "text/plain": [
       "HBox(children=(FloatProgress(value=0.0, max=3.0), HTML(value='')))"
      ]
     },
     "metadata": {},
     "output_type": "display_data"
    },
    {
     "name": "stdout",
     "output_type": "stream",
     "text": [
      "\n",
      "Deleting branches from dictionary\n",
      "MP_branches_with_stitch_point= [4]\n",
      "MP_branches_for_correspondence = [4]\n",
      "MP_leftover = [], MP_leftover_idx = []\n",
      " Finished with (5, 0) \n",
      "\n",
      "\n",
      "\n",
      "\n",
      "---- Working on (6, 0) connection-----\n",
      "sk_conn = [12, 37]\n",
      "conn = [12, 37]\n",
      "winning_vertex = [695363.3543993  574421.93137271 992251.96148118]\n",
      "MP_branches_with_stitch_point = [12, 37]\n",
      "MAP_branches_with_stitch_point = [9]\n",
      "MAP_stitch_point_on_end_or_branch = True\n"
     ]
    },
    {
     "data": {
      "application/vnd.jupyter.widget-view+json": {
       "model_id": "dd428fc6cf90451ea10a3a8d090f0e96",
       "version_major": 2,
       "version_minor": 0
      },
      "text/plain": [
       "HBox(children=(FloatProgress(value=1.0, bar_style='info', max=1.0), HTML(value='')))"
      ]
     },
     "metadata": {},
     "output_type": "display_data"
    },
    {
     "name": "stdout",
     "output_type": "stream",
     "text": [
      "\n",
      "\n",
      "\n",
      "--- Working on 1-to-1 correspondence-----\n",
      "max(original_labels),len(original_labels) = (2, 3)\n",
      "empty_indices % = 0.13041023710952201\n",
      " conflict_indices % = 0.01618366578848325\n"
     ]
    },
    {
     "data": {
      "application/vnd.jupyter.widget-view+json": {
       "model_id": "94c3362b958a4e41a65aa7dc19c73ad3",
       "version_major": 2,
       "version_minor": 0
      },
      "text/plain": [
       "HBox(children=(FloatProgress(value=0.0, max=11.0), HTML(value='')))"
      ]
     },
     "metadata": {},
     "output_type": "display_data"
    },
    {
     "name": "stdout",
     "output_type": "stream",
     "text": [
      "\n",
      "AFTER face_lookup_resolved_test\n"
     ]
    },
    {
     "data": {
      "application/vnd.jupyter.widget-view+json": {
       "model_id": "90f9982552ea4a57a7f9212b0f07c852",
       "version_major": 2,
       "version_minor": 0
      },
      "text/plain": [
       "HBox(children=(FloatProgress(value=0.0, max=3.0), HTML(value='')))"
      ]
     },
     "metadata": {},
     "output_type": "display_data"
    },
    {
     "name": "stdout",
     "output_type": "stream",
     "text": [
      "\n",
      "MP_branches_with_stitch_point= [12, 37]\n",
      "MP_branches_for_correspondence = [12 37]\n",
      "MP_leftover = [], MP_leftover_idx = []\n",
      " Finished with (6, 0) \n",
      "\n",
      "\n",
      "\n",
      "\n",
      "---- Working on (7, 0) connection-----\n",
      "sk_conn = [9]\n",
      "conn = [9]\n",
      "winning_vertex = [663025.93299326 615014.22735612 926983.38725083]\n",
      "MP_branches_with_stitch_point = [9]\n",
      "MAP_branches_with_stitch_point = [0]\n",
      "MAP_stitch_point_on_end_or_branch = False\n"
     ]
    },
    {
     "data": {
      "application/vnd.jupyter.widget-view+json": {
       "model_id": "b43f5d42ba9c4f438c4985c761bcc5b9",
       "version_major": 2,
       "version_minor": 0
      },
      "text/plain": [
       "HBox(children=(FloatProgress(value=1.0, bar_style='info', max=1.0), HTML(value='')))"
      ]
     },
     "metadata": {},
     "output_type": "display_data"
    },
    {
     "name": "stdout",
     "output_type": "stream",
     "text": [
      "\n",
      "\n",
      "\n",
      "--- Working on 1-to-1 correspondence-----\n",
      "max(original_labels),len(original_labels) = (1, 2)\n",
      "empty_indices % = 0.013352947832974991\n",
      " conflict_indices % = 0.007355437365621817\n"
     ]
    },
    {
     "data": {
      "application/vnd.jupyter.widget-view+json": {
       "model_id": "e829e1a379404cf98ce417a1f889007d",
       "version_major": 2,
       "version_minor": 0
      },
      "text/plain": [
       "HBox(children=(FloatProgress(value=0.0, max=9.0), HTML(value='')))"
      ]
     },
     "metadata": {},
     "output_type": "display_data"
    },
    {
     "name": "stdout",
     "output_type": "stream",
     "text": [
      "\n",
      "AFTER face_lookup_resolved_test\n"
     ]
    },
    {
     "data": {
      "application/vnd.jupyter.widget-view+json": {
       "model_id": "c0f4304e1ba24547aaa52d9bab05f62a",
       "version_major": 2,
       "version_minor": 0
      },
      "text/plain": [
       "HBox(children=(FloatProgress(value=0.0, max=2.0), HTML(value='')))"
      ]
     },
     "metadata": {},
     "output_type": "display_data"
    },
    {
     "name": "stdout",
     "output_type": "stream",
     "text": [
      "\n"
     ]
    },
    {
     "data": {
      "application/vnd.jupyter.widget-view+json": {
       "model_id": "c151f673caaf47b58075528607a43fa8",
       "version_major": 2,
       "version_minor": 0
      },
      "text/plain": [
       "HBox(children=(FloatProgress(value=1.0, bar_style='info', max=1.0), HTML(value='')))"
      ]
     },
     "metadata": {},
     "output_type": "display_data"
    },
    {
     "name": "stdout",
     "output_type": "stream",
     "text": [
      "\n",
      "\n",
      "\n",
      "--- Working on 1-to-1 correspondence-----\n",
      "max(original_labels),len(original_labels) = (2, 3)\n",
      "empty_indices % = 0.07178953626634958\n",
      " conflict_indices % = 0.012856718192627825\n"
     ]
    },
    {
     "data": {
      "application/vnd.jupyter.widget-view+json": {
       "model_id": "d36bbe3d68e142739204fd2b3c4ec614",
       "version_major": 2,
       "version_minor": 0
      },
      "text/plain": [
       "HBox(children=(FloatProgress(value=0.0, max=13.0), HTML(value='')))"
      ]
     },
     "metadata": {},
     "output_type": "display_data"
    },
    {
     "name": "stdout",
     "output_type": "stream",
     "text": [
      "\n",
      "AFTER face_lookup_resolved_test\n"
     ]
    },
    {
     "data": {
      "application/vnd.jupyter.widget-view+json": {
       "model_id": "33f7863b0d8043848a7b6b56cabd7dd7",
       "version_major": 2,
       "version_minor": 0
      },
      "text/plain": [
       "HBox(children=(FloatProgress(value=0.0, max=3.0), HTML(value='')))"
      ]
     },
     "metadata": {},
     "output_type": "display_data"
    },
    {
     "name": "stdout",
     "output_type": "stream",
     "text": [
      "\n",
      "Deleting branches from dictionary\n",
      "MP_branches_with_stitch_point= [9]\n",
      "MP_branches_for_correspondence = [9]\n",
      "MP_leftover = [], MP_leftover_idx = []\n",
      " Finished with (7, 0) \n",
      "\n",
      "\n",
      "\n",
      "\n",
      "---- Working on (7, 4) connection-----\n",
      "sk_conn = [14]\n",
      "conn = [14]\n",
      "winning_vertex = [606565.2033546  594108.9904736  962991.82710171]\n",
      "MP_branches_with_stitch_point = [14]\n",
      "MAP_branches_with_stitch_point = [3]\n",
      "MAP_stitch_point_on_end_or_branch = False\n"
     ]
    },
    {
     "data": {
      "application/vnd.jupyter.widget-view+json": {
       "model_id": "3e1fa42a5b2649cbb4e6a153afbfae37",
       "version_major": 2,
       "version_minor": 0
      },
      "text/plain": [
       "HBox(children=(FloatProgress(value=1.0, bar_style='info', max=1.0), HTML(value='')))"
      ]
     },
     "metadata": {},
     "output_type": "display_data"
    },
    {
     "name": "stdout",
     "output_type": "stream",
     "text": [
      "\n",
      "\n",
      "\n",
      "--- Working on 1-to-1 correspondence-----\n",
      "max(original_labels),len(original_labels) = (1, 2)\n",
      "empty_indices % = 0.19482460586683303\n",
      " conflict_indices % = 0.0006628455569852224\n"
     ]
    },
    {
     "data": {
      "application/vnd.jupyter.widget-view+json": {
       "model_id": "699d5f0a5ed14ba9838e42bb0dd9ec35",
       "version_major": 2,
       "version_minor": 0
      },
      "text/plain": [
       "HBox(children=(FloatProgress(value=0.0, max=198.0), HTML(value='')))"
      ]
     },
     "metadata": {},
     "output_type": "display_data"
    },
    {
     "name": "stdout",
     "output_type": "stream",
     "text": [
      "\n",
      "AFTER face_lookup_resolved_test\n"
     ]
    },
    {
     "data": {
      "application/vnd.jupyter.widget-view+json": {
       "model_id": "f52dd3e1990946c0944eca9a7c92fb32",
       "version_major": 2,
       "version_minor": 0
      },
      "text/plain": [
       "HBox(children=(FloatProgress(value=0.0, max=2.0), HTML(value='')))"
      ]
     },
     "metadata": {},
     "output_type": "display_data"
    },
    {
     "name": "stdout",
     "output_type": "stream",
     "text": [
      "\n"
     ]
    },
    {
     "data": {
      "application/vnd.jupyter.widget-view+json": {
       "model_id": "27a3871603294768889e7c10ab095e50",
       "version_major": 2,
       "version_minor": 0
      },
      "text/plain": [
       "HBox(children=(FloatProgress(value=1.0, bar_style='info', max=1.0), HTML(value='')))"
      ]
     },
     "metadata": {},
     "output_type": "display_data"
    },
    {
     "name": "stdout",
     "output_type": "stream",
     "text": [
      "\n",
      "\n",
      "\n",
      "--- Working on 1-to-1 correspondence-----\n",
      "max(original_labels),len(original_labels) = (2, 3)\n",
      "empty_indices % = 0.19343589743589742\n",
      " conflict_indices % = 0.005230769230769231\n"
     ]
    },
    {
     "data": {
      "application/vnd.jupyter.widget-view+json": {
       "model_id": "b67f4fb9a77b493bbf56a8ea2b30d7af",
       "version_major": 2,
       "version_minor": 0
      },
      "text/plain": [
       "HBox(children=(FloatProgress(value=0.0, max=6.0), HTML(value='')))"
      ]
     },
     "metadata": {},
     "output_type": "display_data"
    },
    {
     "name": "stdout",
     "output_type": "stream",
     "text": [
      "\n",
      "AFTER face_lookup_resolved_test\n"
     ]
    },
    {
     "data": {
      "application/vnd.jupyter.widget-view+json": {
       "model_id": "0ea498a4fc8946dbb98d145efa2b11e0",
       "version_major": 2,
       "version_minor": 0
      },
      "text/plain": [
       "HBox(children=(FloatProgress(value=0.0, max=3.0), HTML(value='')))"
      ]
     },
     "metadata": {},
     "output_type": "display_data"
    },
    {
     "name": "stdout",
     "output_type": "stream",
     "text": [
      "\n",
      "Deleting branches from dictionary\n",
      "MP_branches_with_stitch_point= [14]\n",
      "MP_branches_for_correspondence = [14]\n",
      "MP_leftover = [], MP_leftover_idx = []\n",
      " Finished with (7, 4) \n",
      "\n",
      "\n",
      "\n",
      "\n",
      "---- Working on (8, 0) connection-----\n",
      "sk_conn = [29]\n",
      "conn = [29]\n",
      "winning_vertex = [693788.77304609 541560.72080656 949583.75540069]\n",
      "MP_branches_with_stitch_point = [29]\n",
      "MAP_branches_with_stitch_point = [5]\n",
      "MAP_stitch_point_on_end_or_branch = False\n"
     ]
    },
    {
     "data": {
      "application/vnd.jupyter.widget-view+json": {
       "model_id": "f76af056ad2641b281b3d3e79401ffaf",
       "version_major": 2,
       "version_minor": 0
      },
      "text/plain": [
       "HBox(children=(FloatProgress(value=1.0, bar_style='info', max=1.0), HTML(value='')))"
      ]
     },
     "metadata": {},
     "output_type": "display_data"
    },
    {
     "name": "stdout",
     "output_type": "stream",
     "text": [
      "\n",
      "\n",
      "\n",
      "--- Working on 1-to-1 correspondence-----\n",
      "max(original_labels),len(original_labels) = (1, 2)\n",
      "empty_indices % = 0.006256517205422315\n",
      " conflict_indices % = 0.0021897810218978104\n"
     ]
    },
    {
     "data": {
      "application/vnd.jupyter.widget-view+json": {
       "model_id": "5ee402d820414c338b36b062f2a66585",
       "version_major": 2,
       "version_minor": 0
      },
      "text/plain": [
       "HBox(children=(FloatProgress(value=0.0, max=4.0), HTML(value='')))"
      ]
     },
     "metadata": {},
     "output_type": "display_data"
    },
    {
     "name": "stdout",
     "output_type": "stream",
     "text": [
      "\n",
      "AFTER face_lookup_resolved_test\n"
     ]
    },
    {
     "data": {
      "application/vnd.jupyter.widget-view+json": {
       "model_id": "e61b313e8ecf45f9a4ae20f07e1b14e6",
       "version_major": 2,
       "version_minor": 0
      },
      "text/plain": [
       "HBox(children=(FloatProgress(value=0.0, max=2.0), HTML(value='')))"
      ]
     },
     "metadata": {},
     "output_type": "display_data"
    },
    {
     "name": "stdout",
     "output_type": "stream",
     "text": [
      "\n"
     ]
    },
    {
     "data": {
      "application/vnd.jupyter.widget-view+json": {
       "model_id": "b68227f146c44f9d962eef71fae43aa4",
       "version_major": 2,
       "version_minor": 0
      },
      "text/plain": [
       "HBox(children=(FloatProgress(value=1.0, bar_style='info', max=1.0), HTML(value='')))"
      ]
     },
     "metadata": {},
     "output_type": "display_data"
    },
    {
     "name": "stdout",
     "output_type": "stream",
     "text": [
      "\n",
      "\n",
      "\n",
      "--- Working on 1-to-1 correspondence-----\n",
      "max(original_labels),len(original_labels) = (2, 3)\n",
      "empty_indices % = 0.009179575444635685\n",
      " conflict_indices % = 0.011570089883342896\n"
     ]
    },
    {
     "data": {
      "application/vnd.jupyter.widget-view+json": {
       "model_id": "511781f41e1b4450915d261c9c6bdeb5",
       "version_major": 2,
       "version_minor": 0
      },
      "text/plain": [
       "HBox(children=(FloatProgress(value=0.0, max=2.0), HTML(value='')))"
      ]
     },
     "metadata": {},
     "output_type": "display_data"
    },
    {
     "name": "stdout",
     "output_type": "stream",
     "text": [
      "\n",
      "AFTER face_lookup_resolved_test\n"
     ]
    },
    {
     "data": {
      "application/vnd.jupyter.widget-view+json": {
       "model_id": "44aa667783ce42ac952b25dabb7eebd6",
       "version_major": 2,
       "version_minor": 0
      },
      "text/plain": [
       "HBox(children=(FloatProgress(value=0.0, max=3.0), HTML(value='')))"
      ]
     },
     "metadata": {},
     "output_type": "display_data"
    },
    {
     "name": "stdout",
     "output_type": "stream",
     "text": [
      "\n",
      "Deleting branches from dictionary\n",
      "MP_branches_with_stitch_point= [29]\n",
      "MP_branches_for_correspondence = [29]\n",
      "MP_leftover = [], MP_leftover_idx = []\n",
      " Finished with (8, 0) \n",
      "\n",
      "\n",
      "\n",
      "\n",
      "---- Working on (8, 6) connection-----\n",
      "sk_conn = [28, 29]\n",
      "conn = [28, 29]\n",
      "winning_vertex = [692418.34382502 535084.11065113 949070.54886411]\n",
      "MP_branches_with_stitch_point = [28, 29]\n",
      "MAP_branches_with_stitch_point = [0]\n",
      "MAP_stitch_point_on_end_or_branch = True\n"
     ]
    },
    {
     "data": {
      "application/vnd.jupyter.widget-view+json": {
       "model_id": "8a970d01263e49d0890e8f02d75bd465",
       "version_major": 2,
       "version_minor": 0
      },
      "text/plain": [
       "HBox(children=(FloatProgress(value=1.0, bar_style='info', max=1.0), HTML(value='')))"
      ]
     },
     "metadata": {},
     "output_type": "display_data"
    },
    {
     "name": "stdout",
     "output_type": "stream",
     "text": [
      "\n",
      "\n",
      "\n",
      "--- Working on 1-to-1 correspondence-----\n",
      "max(original_labels),len(original_labels) = (2, 3)\n",
      "empty_indices % = 0.0345264491605955\n",
      " conflict_indices % = 0.015943406187308627\n"
     ]
    },
    {
     "data": {
      "application/vnd.jupyter.widget-view+json": {
       "model_id": "69bb04e40b16418bbba2f45155b3bcb4",
       "version_major": 2,
       "version_minor": 0
      },
      "text/plain": [
       "HBox(children=(FloatProgress(value=0.0, max=10.0), HTML(value='')))"
      ]
     },
     "metadata": {},
     "output_type": "display_data"
    },
    {
     "name": "stdout",
     "output_type": "stream",
     "text": [
      "\n",
      "AFTER face_lookup_resolved_test\n"
     ]
    },
    {
     "data": {
      "application/vnd.jupyter.widget-view+json": {
       "model_id": "ef6e2eb5b9d64aafa0b7d72dd474cdba",
       "version_major": 2,
       "version_minor": 0
      },
      "text/plain": [
       "HBox(children=(FloatProgress(value=0.0, max=3.0), HTML(value='')))"
      ]
     },
     "metadata": {},
     "output_type": "display_data"
    },
    {
     "name": "stdout",
     "output_type": "stream",
     "text": [
      "\n",
      "MP_branches_with_stitch_point= [28, 29]\n",
      "MP_branches_for_correspondence = [28 29]\n",
      "MP_leftover = [], MP_leftover_idx = []\n",
      " Finished with (8, 6) \n",
      "\n",
      "\n",
      "\n",
      "\n",
      "---- Working on (9, 3) connection-----\n",
      "sk_conn = [6, 7]\n",
      "conn = [6, 7]\n",
      "winning_vertex = [690904.84499092 647569.63254522 940734.46878994]\n",
      "MP_branches_with_stitch_point = [6, 7, 13]\n",
      "MAP_branches_with_stitch_point = [0]\n",
      "MAP_stitch_point_on_end_or_branch = True\n"
     ]
    },
    {
     "data": {
      "application/vnd.jupyter.widget-view+json": {
       "model_id": "aa479eebb734452db7ec25ec53b1b248",
       "version_major": 2,
       "version_minor": 0
      },
      "text/plain": [
       "HBox(children=(FloatProgress(value=1.0, bar_style='info', max=1.0), HTML(value='')))"
      ]
     },
     "metadata": {},
     "output_type": "display_data"
    },
    {
     "name": "stdout",
     "output_type": "stream",
     "text": [
      "\n",
      "\n",
      "\n",
      "--- Working on 1-to-1 correspondence-----\n",
      "max(original_labels),len(original_labels) = (2, 3)\n",
      "empty_indices % = 0.1124479096652776\n",
      " conflict_indices % = 0.0038311601021642694\n"
     ]
    },
    {
     "data": {
      "application/vnd.jupyter.widget-view+json": {
       "model_id": "2a2b69b16bf34e6e840e2416be2ea254",
       "version_major": 2,
       "version_minor": 0
      },
      "text/plain": [
       "HBox(children=(FloatProgress(value=0.0, max=20.0), HTML(value='')))"
      ]
     },
     "metadata": {},
     "output_type": "display_data"
    },
    {
     "name": "stdout",
     "output_type": "stream",
     "text": [
      "\n",
      "AFTER face_lookup_resolved_test\n"
     ]
    },
    {
     "data": {
      "application/vnd.jupyter.widget-view+json": {
       "model_id": "2fb98d801ec24b17991ceb92c1ec3d48",
       "version_major": 2,
       "version_minor": 0
      },
      "text/plain": [
       "HBox(children=(FloatProgress(value=0.0, max=3.0), HTML(value='')))"
      ]
     },
     "metadata": {},
     "output_type": "display_data"
    },
    {
     "name": "stdout",
     "output_type": "stream",
     "text": [
      "\n",
      "MP_branches_with_stitch_point= [6, 7, 13]\n",
      "MP_branches_for_correspondence = [6 7]\n",
      "MP_leftover = [13], MP_leftover_idx = [2]\n",
      " Finished with (9, 3) \n",
      "\n",
      "\n",
      "\n",
      "\n",
      "---- Working on (10, 0) connection-----\n",
      "sk_conn = [8, 32]\n",
      "conn = [8, 32]\n",
      "winning_vertex = [685099.49571983 575792.88261616 961167.76243198]\n",
      "MP_branches_with_stitch_point = [8, 32]\n",
      "MAP_branches_with_stitch_point = [2]\n",
      "MAP_stitch_point_on_end_or_branch = True\n"
     ]
    },
    {
     "data": {
      "application/vnd.jupyter.widget-view+json": {
       "model_id": "172a5638212d496d85752b46e3c732e1",
       "version_major": 2,
       "version_minor": 0
      },
      "text/plain": [
       "HBox(children=(FloatProgress(value=1.0, bar_style='info', max=1.0), HTML(value='')))"
      ]
     },
     "metadata": {},
     "output_type": "display_data"
    },
    {
     "name": "stdout",
     "output_type": "stream",
     "text": [
      "\n",
      "\n",
      "\n",
      "--- Working on 1-to-1 correspondence-----\n",
      "max(original_labels),len(original_labels) = (2, 3)\n",
      "empty_indices % = 0.05658129839189994\n",
      " conflict_indices % = 0.0031268612269207863\n"
     ]
    },
    {
     "data": {
      "application/vnd.jupyter.widget-view+json": {
       "model_id": "d85417c0f744487c912d7e5e25b6a2ab",
       "version_major": 2,
       "version_minor": 0
      },
      "text/plain": [
       "HBox(children=(FloatProgress(value=0.0, max=6.0), HTML(value='')))"
      ]
     },
     "metadata": {},
     "output_type": "display_data"
    },
    {
     "name": "stdout",
     "output_type": "stream",
     "text": [
      "\n",
      "AFTER face_lookup_resolved_test\n"
     ]
    },
    {
     "data": {
      "application/vnd.jupyter.widget-view+json": {
       "model_id": "6a6e131c340548f9867cce09afe0a6c8",
       "version_major": 2,
       "version_minor": 0
      },
      "text/plain": [
       "HBox(children=(FloatProgress(value=0.0, max=3.0), HTML(value='')))"
      ]
     },
     "metadata": {},
     "output_type": "display_data"
    },
    {
     "name": "stdout",
     "output_type": "stream",
     "text": [
      "\n",
      "MP_branches_with_stitch_point= [8, 32]\n",
      "MP_branches_for_correspondence = [ 8 32]\n",
      "MP_leftover = [], MP_leftover_idx = []\n",
      " Finished with (10, 0) \n",
      "\n",
      "\n",
      "\n",
      "\n",
      "---- Working on (10, 10) connection-----\n",
      "sk_conn = [10, 11]\n",
      "conn = [10, 11]\n",
      "winning_vertex = [668910.88153326 584549.65707892 965176.34605772]\n",
      "MP_branches_with_stitch_point = [10, 11]\n",
      "MAP_branches_with_stitch_point = [2]\n",
      "MAP_stitch_point_on_end_or_branch = True\n"
     ]
    },
    {
     "data": {
      "application/vnd.jupyter.widget-view+json": {
       "model_id": "f96315bf659244e3a75df7014a89a729",
       "version_major": 2,
       "version_minor": 0
      },
      "text/plain": [
       "HBox(children=(FloatProgress(value=1.0, bar_style='info', max=1.0), HTML(value='')))"
      ]
     },
     "metadata": {},
     "output_type": "display_data"
    },
    {
     "name": "stdout",
     "output_type": "stream",
     "text": [
      "\n",
      "\n",
      "\n",
      "--- Working on 1-to-1 correspondence-----\n",
      "max(original_labels),len(original_labels) = (2, 3)\n",
      "empty_indices % = 0.0687785388127854\n",
      " conflict_indices % = 0.020833333333333332\n"
     ]
    },
    {
     "data": {
      "application/vnd.jupyter.widget-view+json": {
       "model_id": "357fce6e4feb408a9f06ea9d0e8c6619",
       "version_major": 2,
       "version_minor": 0
      },
      "text/plain": [
       "HBox(children=(FloatProgress(value=0.0, max=15.0), HTML(value='')))"
      ]
     },
     "metadata": {},
     "output_type": "display_data"
    },
    {
     "name": "stdout",
     "output_type": "stream",
     "text": [
      "\n",
      "AFTER face_lookup_resolved_test\n"
     ]
    },
    {
     "data": {
      "application/vnd.jupyter.widget-view+json": {
       "model_id": "223b81fc6b2a40158a71ddf582f77901",
       "version_major": 2,
       "version_minor": 0
      },
      "text/plain": [
       "HBox(children=(FloatProgress(value=0.0, max=3.0), HTML(value='')))"
      ]
     },
     "metadata": {},
     "output_type": "display_data"
    },
    {
     "name": "stdout",
     "output_type": "stream",
     "text": [
      "\n",
      "MP_branches_with_stitch_point= [10, 11]\n",
      "MP_branches_for_correspondence = [10 11]\n",
      "MP_leftover = [], MP_leftover_idx = []\n",
      " Finished with (10, 10) \n",
      "\n",
      "\n",
      "\n",
      "\n",
      "---- Working on (11, 4) connection-----\n",
      "sk_conn = [0, 6]\n",
      "conn = [0, 6]\n",
      "winning_vertex = [590676.27083196 416810.66226466 969716.96971056]\n",
      "MP_branches_with_stitch_point = [0, 6]\n",
      "MAP_branches_with_stitch_point = [3]\n",
      "MAP_stitch_point_on_end_or_branch = True\n"
     ]
    },
    {
     "data": {
      "application/vnd.jupyter.widget-view+json": {
       "model_id": "c6437a75c46542e9b4d6f36bfbee289a",
       "version_major": 2,
       "version_minor": 0
      },
      "text/plain": [
       "HBox(children=(FloatProgress(value=1.0, bar_style='info', max=1.0), HTML(value='')))"
      ]
     },
     "metadata": {},
     "output_type": "display_data"
    },
    {
     "name": "stdout",
     "output_type": "stream",
     "text": [
      "\n",
      "\n",
      "\n",
      "--- Working on 1-to-1 correspondence-----\n",
      "max(original_labels),len(original_labels) = (2, 3)\n",
      "empty_indices % = 0.1815079535683577\n",
      " conflict_indices % = 0.0027676268271711094\n"
     ]
    },
    {
     "data": {
      "application/vnd.jupyter.widget-view+json": {
       "model_id": "45eefda74b7340de88fd928a1c893ac5",
       "version_major": 2,
       "version_minor": 0
      },
      "text/plain": [
       "HBox(children=(FloatProgress(value=0.0, max=28.0), HTML(value='')))"
      ]
     },
     "metadata": {},
     "output_type": "display_data"
    },
    {
     "name": "stdout",
     "output_type": "stream",
     "text": [
      "\n",
      "AFTER face_lookup_resolved_test\n"
     ]
    },
    {
     "data": {
      "application/vnd.jupyter.widget-view+json": {
       "model_id": "be202a8107894a2c8298f20652571395",
       "version_major": 2,
       "version_minor": 0
      },
      "text/plain": [
       "HBox(children=(FloatProgress(value=0.0, max=3.0), HTML(value='')))"
      ]
     },
     "metadata": {},
     "output_type": "display_data"
    },
    {
     "name": "stdout",
     "output_type": "stream",
     "text": [
      "\n",
      "MP_branches_with_stitch_point= [0, 6]\n",
      "MP_branches_for_correspondence = [0 6]\n",
      "MP_leftover = [], MP_leftover_idx = []\n",
      " Finished with (11, 4) \n",
      "\n",
      "\n",
      "\n",
      "\n",
      "---- Working on (11, 5) connection-----\n",
      "sk_conn = [2, 7]\n",
      "conn = [2, 7]\n",
      "winning_vertex = [586696.30035338 394405.93378698 959448.59812321]\n",
      "MP_branches_with_stitch_point = [2, 7]\n",
      "MAP_branches_with_stitch_point = [0]\n",
      "MAP_stitch_point_on_end_or_branch = True\n"
     ]
    },
    {
     "data": {
      "application/vnd.jupyter.widget-view+json": {
       "model_id": "0ccff7b601624d508cb86a6c4b0d1055",
       "version_major": 2,
       "version_minor": 0
      },
      "text/plain": [
       "HBox(children=(FloatProgress(value=1.0, bar_style='info', max=1.0), HTML(value='')))"
      ]
     },
     "metadata": {},
     "output_type": "display_data"
    },
    {
     "name": "stdout",
     "output_type": "stream",
     "text": [
      "\n",
      "\n",
      "\n",
      "--- Working on 1-to-1 correspondence-----\n",
      "max(original_labels),len(original_labels) = (2, 3)\n",
      "empty_indices % = 0.15777148143864925\n",
      " conflict_indices % = 0.0010841910489187002\n"
     ]
    },
    {
     "data": {
      "application/vnd.jupyter.widget-view+json": {
       "model_id": "654ba2b02ad445c495df12d2ca4d21ec",
       "version_major": 2,
       "version_minor": 0
      },
      "text/plain": [
       "HBox(children=(FloatProgress(value=0.0, max=13.0), HTML(value='')))"
      ]
     },
     "metadata": {},
     "output_type": "display_data"
    },
    {
     "name": "stdout",
     "output_type": "stream",
     "text": [
      "\n",
      "AFTER face_lookup_resolved_test\n"
     ]
    },
    {
     "data": {
      "application/vnd.jupyter.widget-view+json": {
       "model_id": "a6a81316bfa3464882fb50ec8d11f600",
       "version_major": 2,
       "version_minor": 0
      },
      "text/plain": [
       "HBox(children=(FloatProgress(value=0.0, max=3.0), HTML(value='')))"
      ]
     },
     "metadata": {},
     "output_type": "display_data"
    },
    {
     "name": "stdout",
     "output_type": "stream",
     "text": [
      "\n",
      "MP_branches_with_stitch_point= [2, 7]\n",
      "MP_branches_for_correspondence = [2 7]\n",
      "MP_leftover = [], MP_leftover_idx = []\n",
      " Finished with (11, 5) \n",
      "\n",
      "\n",
      "\n",
      "\n",
      "---- Working on (12, 5) connection-----\n",
      "sk_conn = [0, 1]\n",
      "conn = [0, 1]\n",
      "winning_vertex = [611935.17380584 627317.49503136 944146.70469775]\n",
      "MP_branches_with_stitch_point = [0, 1]\n",
      "MAP_branches_with_stitch_point = [2]\n",
      "MAP_stitch_point_on_end_or_branch = False\n"
     ]
    },
    {
     "data": {
      "application/vnd.jupyter.widget-view+json": {
       "model_id": "604d6dd12e6d4afa8e60dd5735e2753f",
       "version_major": 2,
       "version_minor": 0
      },
      "text/plain": [
       "HBox(children=(FloatProgress(value=1.0, bar_style='info', max=1.0), HTML(value='')))"
      ]
     },
     "metadata": {},
     "output_type": "display_data"
    },
    {
     "name": "stdout",
     "output_type": "stream",
     "text": [
      "\n",
      "\n",
      "\n",
      "--- Working on 1-to-1 correspondence-----\n",
      "max(original_labels),len(original_labels) = (1, 2)\n",
      "empty_indices % = 0.31806565755848243\n",
      " conflict_indices % = 0.0053076469431885195\n"
     ]
    },
    {
     "data": {
      "application/vnd.jupyter.widget-view+json": {
       "model_id": "ab2c9ad77b1d407db175fc227edf4f78",
       "version_major": 2,
       "version_minor": 0
      },
      "text/plain": [
       "HBox(children=(FloatProgress(value=0.0, max=19.0), HTML(value='')))"
      ]
     },
     "metadata": {},
     "output_type": "display_data"
    },
    {
     "name": "stdout",
     "output_type": "stream",
     "text": [
      "\n",
      "AFTER face_lookup_resolved_test\n"
     ]
    },
    {
     "data": {
      "application/vnd.jupyter.widget-view+json": {
       "model_id": "52c23d1ffdb348839b89023dc3156a0b",
       "version_major": 2,
       "version_minor": 0
      },
      "text/plain": [
       "HBox(children=(FloatProgress(value=0.0, max=2.0), HTML(value='')))"
      ]
     },
     "metadata": {},
     "output_type": "display_data"
    },
    {
     "name": "stdout",
     "output_type": "stream",
     "text": [
      "\n"
     ]
    },
    {
     "data": {
      "application/vnd.jupyter.widget-view+json": {
       "model_id": "909718815b8e4a869b9723bde496e9f2",
       "version_major": 2,
       "version_minor": 0
      },
      "text/plain": [
       "HBox(children=(FloatProgress(value=1.0, bar_style='info', max=1.0), HTML(value='')))"
      ]
     },
     "metadata": {},
     "output_type": "display_data"
    },
    {
     "name": "stdout",
     "output_type": "stream",
     "text": [
      "\n",
      "\n",
      "\n",
      "--- Working on 1-to-1 correspondence-----\n",
      "max(original_labels),len(original_labels) = (3, 4)\n",
      "empty_indices % = 0.4150190658819899\n",
      " conflict_indices % = 0.006369988318014504\n"
     ]
    },
    {
     "data": {
      "application/vnd.jupyter.widget-view+json": {
       "model_id": "acff217560d0466a9b75a2c4140f1523",
       "version_major": 2,
       "version_minor": 0
      },
      "text/plain": [
       "HBox(children=(FloatProgress(value=0.0, max=105.0), HTML(value='')))"
      ]
     },
     "metadata": {},
     "output_type": "display_data"
    },
    {
     "name": "stdout",
     "output_type": "stream",
     "text": [
      "\n",
      "AFTER face_lookup_resolved_test\n"
     ]
    },
    {
     "data": {
      "application/vnd.jupyter.widget-view+json": {
       "model_id": "67c91134b4bb41e0839e00d68242055a",
       "version_major": 2,
       "version_minor": 0
      },
      "text/plain": [
       "HBox(children=(FloatProgress(value=0.0, max=4.0), HTML(value='')))"
      ]
     },
     "metadata": {},
     "output_type": "display_data"
    },
    {
     "name": "stdout",
     "output_type": "stream",
     "text": [
      "\n",
      "Deleting branches from dictionary\n",
      "MP_branches_with_stitch_point= [0, 1]\n",
      "MP_branches_for_correspondence = [0 1]\n",
      "MP_leftover = [], MP_leftover_idx = []\n",
      " Finished with (12, 5) \n",
      "\n",
      "\n",
      "\n",
      "\n",
      "---- Working on (13, 6) connection-----\n",
      "sk_conn = [8, 14]\n",
      "conn = [8, 14]\n",
      "winning_vertex = [691941.97349567 500619.75370826 955840.55674318]\n",
      "MP_branches_with_stitch_point = [8, 14]\n",
      "MAP_branches_with_stitch_point = [0]\n",
      "MAP_stitch_point_on_end_or_branch = True\n"
     ]
    },
    {
     "data": {
      "application/vnd.jupyter.widget-view+json": {
       "model_id": "3b81f2da610b4b5aa4cb410092ebafa1",
       "version_major": 2,
       "version_minor": 0
      },
      "text/plain": [
       "HBox(children=(FloatProgress(value=1.0, bar_style='info', max=1.0), HTML(value='')))"
      ]
     },
     "metadata": {},
     "output_type": "display_data"
    },
    {
     "name": "stdout",
     "output_type": "stream",
     "text": [
      "\n",
      "\n",
      "\n",
      "--- Working on 1-to-1 correspondence-----\n",
      "max(original_labels),len(original_labels) = (2, 3)\n",
      "empty_indices % = 0.05613433018752298\n",
      " conflict_indices % = 0.007844098541487928\n"
     ]
    },
    {
     "data": {
      "application/vnd.jupyter.widget-view+json": {
       "model_id": "081a9a67c484482b85d0098f1f53567e",
       "version_major": 2,
       "version_minor": 0
      },
      "text/plain": [
       "HBox(children=(FloatProgress(value=0.0, max=9.0), HTML(value='')))"
      ]
     },
     "metadata": {},
     "output_type": "display_data"
    },
    {
     "name": "stdout",
     "output_type": "stream",
     "text": [
      "\n",
      "AFTER face_lookup_resolved_test\n"
     ]
    },
    {
     "data": {
      "application/vnd.jupyter.widget-view+json": {
       "model_id": "41d5f4d67a804a41a1667d3bdd90b73e",
       "version_major": 2,
       "version_minor": 0
      },
      "text/plain": [
       "HBox(children=(FloatProgress(value=0.0, max=3.0), HTML(value='')))"
      ]
     },
     "metadata": {},
     "output_type": "display_data"
    },
    {
     "name": "stdout",
     "output_type": "stream",
     "text": [
      "\n",
      "MP_branches_with_stitch_point= [8, 14]\n",
      "MP_branches_for_correspondence = [ 8 14]\n",
      "MP_leftover = [], MP_leftover_idx = []\n",
      " Finished with (13, 6) \n",
      "\n",
      "\n",
      "\n",
      "\n",
      "---- Working on (14, 7) connection-----\n",
      "sk_conn = [12, 15]\n",
      "conn = [12, 15]\n",
      "winning_vertex = [724079.15259205 573081.39726397 919982.82741731]\n",
      "MP_branches_with_stitch_point = [12, 15]\n",
      "MAP_branches_with_stitch_point = [0]\n",
      "MAP_stitch_point_on_end_or_branch = True\n"
     ]
    },
    {
     "data": {
      "application/vnd.jupyter.widget-view+json": {
       "model_id": "a376054ae8884cfea5643fff2725f901",
       "version_major": 2,
       "version_minor": 0
      },
      "text/plain": [
       "HBox(children=(FloatProgress(value=1.0, bar_style='info', max=1.0), HTML(value='')))"
      ]
     },
     "metadata": {},
     "output_type": "display_data"
    },
    {
     "name": "stdout",
     "output_type": "stream",
     "text": [
      "\n",
      "\n",
      "\n",
      "--- Working on 1-to-1 correspondence-----\n",
      "max(original_labels),len(original_labels) = (2, 3)\n",
      "empty_indices % = 0.15688693413430593\n",
      " conflict_indices % = 0.00981549023814632\n"
     ]
    },
    {
     "data": {
      "application/vnd.jupyter.widget-view+json": {
       "model_id": "2adfce8d7d8e49779d376caac1f2c443",
       "version_major": 2,
       "version_minor": 0
      },
      "text/plain": [
       "HBox(children=(FloatProgress(value=0.0, max=32.0), HTML(value='')))"
      ]
     },
     "metadata": {},
     "output_type": "display_data"
    },
    {
     "name": "stdout",
     "output_type": "stream",
     "text": [
      "\n",
      "AFTER face_lookup_resolved_test\n"
     ]
    },
    {
     "data": {
      "application/vnd.jupyter.widget-view+json": {
       "model_id": "3060e7ae32e741f7a1436127055d5292",
       "version_major": 2,
       "version_minor": 0
      },
      "text/plain": [
       "HBox(children=(FloatProgress(value=0.0, max=3.0), HTML(value='')))"
      ]
     },
     "metadata": {},
     "output_type": "display_data"
    },
    {
     "name": "stdout",
     "output_type": "stream",
     "text": [
      "\n",
      "MP_branches_with_stitch_point= [12, 15]\n",
      "MP_branches_for_correspondence = [12 15]\n",
      "MP_leftover = [], MP_leftover_idx = []\n",
      " Finished with (14, 7) \n",
      "\n",
      "\n",
      "\n",
      "\n",
      "---- Working on (15, 8) connection-----\n",
      "sk_conn = [9, 32]\n",
      "conn = [9, 32]\n",
      "winning_vertex = [698421.77390606 599281.28717471 965571.79315167]\n",
      "MP_branches_with_stitch_point = [9, 32]\n",
      "MAP_branches_with_stitch_point = [0]\n",
      "MAP_stitch_point_on_end_or_branch = True\n"
     ]
    },
    {
     "data": {
      "application/vnd.jupyter.widget-view+json": {
       "model_id": "9faffd80cd984f3f9cfbe83b498b9e9d",
       "version_major": 2,
       "version_minor": 0
      },
      "text/plain": [
       "HBox(children=(FloatProgress(value=1.0, bar_style='info', max=1.0), HTML(value='')))"
      ]
     },
     "metadata": {},
     "output_type": "display_data"
    },
    {
     "name": "stdout",
     "output_type": "stream",
     "text": [
      "\n",
      "\n",
      "\n",
      "--- Working on 1-to-1 correspondence-----\n",
      "max(original_labels),len(original_labels) = (2, 3)\n",
      "empty_indices % = 0.08704485075793093\n",
      " conflict_indices % = 0.004219409282700422\n"
     ]
    },
    {
     "data": {
      "application/vnd.jupyter.widget-view+json": {
       "model_id": "029efee564c04a36a3d55ced50edbc25",
       "version_major": 2,
       "version_minor": 0
      },
      "text/plain": [
       "HBox(children=(FloatProgress(value=0.0, max=9.0), HTML(value='')))"
      ]
     },
     "metadata": {},
     "output_type": "display_data"
    },
    {
     "name": "stdout",
     "output_type": "stream",
     "text": [
      "\n",
      "AFTER face_lookup_resolved_test\n"
     ]
    },
    {
     "data": {
      "application/vnd.jupyter.widget-view+json": {
       "model_id": "0211fd7e7bd146ee9368b75fe763b328",
       "version_major": 2,
       "version_minor": 0
      },
      "text/plain": [
       "HBox(children=(FloatProgress(value=0.0, max=3.0), HTML(value='')))"
      ]
     },
     "metadata": {},
     "output_type": "display_data"
    },
    {
     "name": "stdout",
     "output_type": "stream",
     "text": [
      "\n",
      "MP_branches_with_stitch_point= [9, 32]\n",
      "MP_branches_for_correspondence = [ 9 32]\n",
      "MP_leftover = [], MP_leftover_idx = []\n",
      " Finished with (15, 8) \n",
      "\n",
      "\n",
      "\n",
      "\n",
      "---- Working on (16, 5) connection-----\n",
      "sk_conn = [2]\n",
      "conn = [2]\n",
      "winning_vertex = [604561.81692788 438029.4136146  973182.58728841]\n",
      "MP_branches_with_stitch_point = [2]\n",
      "MAP_branches_with_stitch_point = [0]\n",
      "MAP_stitch_point_on_end_or_branch = False\n"
     ]
    },
    {
     "data": {
      "application/vnd.jupyter.widget-view+json": {
       "model_id": "9f608d136229404882e42a009449577d",
       "version_major": 2,
       "version_minor": 0
      },
      "text/plain": [
       "HBox(children=(FloatProgress(value=1.0, bar_style='info', max=1.0), HTML(value='')))"
      ]
     },
     "metadata": {},
     "output_type": "display_data"
    },
    {
     "name": "stdout",
     "output_type": "stream",
     "text": [
      "\n",
      "\n",
      "\n",
      "--- Working on 1-to-1 correspondence-----\n",
      "max(original_labels),len(original_labels) = (1, 2)\n",
      "empty_indices % = 0.13761209368628685\n",
      " conflict_indices % = 0.0012597589882146231\n"
     ]
    },
    {
     "data": {
      "application/vnd.jupyter.widget-view+json": {
       "model_id": "a479985d9e4046b1b1ed05cdf554b8f0",
       "version_major": 2,
       "version_minor": 0
      },
      "text/plain": [
       "HBox(children=(FloatProgress(value=0.0, max=106.0), HTML(value='')))"
      ]
     },
     "metadata": {},
     "output_type": "display_data"
    },
    {
     "name": "stdout",
     "output_type": "stream",
     "text": [
      "\n",
      "AFTER face_lookup_resolved_test\n"
     ]
    },
    {
     "data": {
      "application/vnd.jupyter.widget-view+json": {
       "model_id": "e403e5f53bd940589014ae82020862b7",
       "version_major": 2,
       "version_minor": 0
      },
      "text/plain": [
       "HBox(children=(FloatProgress(value=0.0, max=2.0), HTML(value='')))"
      ]
     },
     "metadata": {},
     "output_type": "display_data"
    },
    {
     "name": "stdout",
     "output_type": "stream",
     "text": [
      "\n"
     ]
    },
    {
     "data": {
      "application/vnd.jupyter.widget-view+json": {
       "model_id": "c7a6d5a0c32e443a8fb5baed15aff23d",
       "version_major": 2,
       "version_minor": 0
      },
      "text/plain": [
       "HBox(children=(FloatProgress(value=1.0, bar_style='info', max=1.0), HTML(value='')))"
      ]
     },
     "metadata": {},
     "output_type": "display_data"
    },
    {
     "name": "stdout",
     "output_type": "stream",
     "text": [
      "\n",
      "\n",
      "\n",
      "--- Working on 1-to-1 correspondence-----\n",
      "max(original_labels),len(original_labels) = (2, 3)\n",
      "empty_indices % = 0.13188212732941987\n",
      " conflict_indices % = 0.0034694265930816414\n"
     ]
    },
    {
     "data": {
      "application/vnd.jupyter.widget-view+json": {
       "model_id": "24cb25d1b4534e6685293d973cca4edd",
       "version_major": 2,
       "version_minor": 0
      },
      "text/plain": [
       "HBox(children=(FloatProgress(value=0.0, max=18.0), HTML(value='')))"
      ]
     },
     "metadata": {},
     "output_type": "display_data"
    },
    {
     "name": "stdout",
     "output_type": "stream",
     "text": [
      "\n",
      "AFTER face_lookup_resolved_test\n"
     ]
    },
    {
     "data": {
      "application/vnd.jupyter.widget-view+json": {
       "model_id": "6dfc29370d824a3c839ab25c371af8ff",
       "version_major": 2,
       "version_minor": 0
      },
      "text/plain": [
       "HBox(children=(FloatProgress(value=0.0, max=3.0), HTML(value='')))"
      ]
     },
     "metadata": {},
     "output_type": "display_data"
    },
    {
     "name": "stdout",
     "output_type": "stream",
     "text": [
      "\n",
      "Deleting branches from dictionary\n",
      "MP_branches_with_stitch_point= [2]\n",
      "MP_branches_for_correspondence = [2]\n",
      "MP_leftover = [], MP_leftover_idx = []\n",
      " Finished with (16, 5) \n",
      "\n",
      "\n",
      "\n",
      "\n",
      "---- Working on (17, 8) connection-----\n",
      "sk_conn = [0]\n",
      "conn = [0]\n",
      "winning_vertex = [696890.65130174 600081.5209842  964170.12258794]\n",
      "MP_branches_with_stitch_point = [0]\n",
      "MAP_branches_with_stitch_point = [0]\n",
      "MAP_stitch_point_on_end_or_branch = False\n"
     ]
    },
    {
     "data": {
      "application/vnd.jupyter.widget-view+json": {
       "model_id": "c3127cb1915042328287dc9439a3c1a9",
       "version_major": 2,
       "version_minor": 0
      },
      "text/plain": [
       "HBox(children=(FloatProgress(value=1.0, bar_style='info', max=1.0), HTML(value='')))"
      ]
     },
     "metadata": {},
     "output_type": "display_data"
    },
    {
     "name": "stdout",
     "output_type": "stream",
     "text": [
      "\n",
      "\n",
      "\n",
      "--- Working on 1-to-1 correspondence-----\n",
      "max(original_labels),len(original_labels) = (1, 2)\n",
      "empty_indices % = 0.010889774236387782\n",
      " conflict_indices % = 0.007436918990703851\n"
     ]
    },
    {
     "data": {
      "application/vnd.jupyter.widget-view+json": {
       "model_id": "cd108eff04d349a99ebdbebc39bd9c21",
       "version_major": 2,
       "version_minor": 0
      },
      "text/plain": [
       "HBox(children=(FloatProgress(value=0.0, max=4.0), HTML(value='')))"
      ]
     },
     "metadata": {},
     "output_type": "display_data"
    },
    {
     "name": "stdout",
     "output_type": "stream",
     "text": [
      "\n",
      "AFTER face_lookup_resolved_test\n"
     ]
    },
    {
     "data": {
      "application/vnd.jupyter.widget-view+json": {
       "model_id": "917a515a45054d138dd76f7587cc3a33",
       "version_major": 2,
       "version_minor": 0
      },
      "text/plain": [
       "HBox(children=(FloatProgress(value=0.0, max=2.0), HTML(value='')))"
      ]
     },
     "metadata": {},
     "output_type": "display_data"
    },
    {
     "name": "stdout",
     "output_type": "stream",
     "text": [
      "\n"
     ]
    },
    {
     "data": {
      "application/vnd.jupyter.widget-view+json": {
       "model_id": "50e28b42ae384d1f83ddf12c5b5652d0",
       "version_major": 2,
       "version_minor": 0
      },
      "text/plain": [
       "HBox(children=(FloatProgress(value=1.0, bar_style='info', max=1.0), HTML(value='')))"
      ]
     },
     "metadata": {},
     "output_type": "display_data"
    },
    {
     "name": "stdout",
     "output_type": "stream",
     "text": [
      "\n",
      "\n",
      "\n",
      "--- Working on 1-to-1 correspondence-----\n",
      "max(original_labels),len(original_labels) = (2, 3)\n",
      "empty_indices % = 0.08822959084739189\n",
      " conflict_indices % = 0.019585030056234246\n"
     ]
    },
    {
     "data": {
      "application/vnd.jupyter.widget-view+json": {
       "model_id": "c3dbf5ba3c0f41bf8cee658108cc9deb",
       "version_major": 2,
       "version_minor": 0
      },
      "text/plain": [
       "HBox(children=(FloatProgress(value=0.0, max=5.0), HTML(value='')))"
      ]
     },
     "metadata": {},
     "output_type": "display_data"
    },
    {
     "name": "stdout",
     "output_type": "stream",
     "text": [
      "\n",
      "AFTER face_lookup_resolved_test\n"
     ]
    },
    {
     "data": {
      "application/vnd.jupyter.widget-view+json": {
       "model_id": "4de0ace585e5436c8a8a0b9a1dce2f6d",
       "version_major": 2,
       "version_minor": 0
      },
      "text/plain": [
       "HBox(children=(FloatProgress(value=0.0, max=3.0), HTML(value='')))"
      ]
     },
     "metadata": {},
     "output_type": "display_data"
    },
    {
     "name": "stdout",
     "output_type": "stream",
     "text": [
      "\n",
      "Deleting branches from dictionary\n",
      "MP_branches_with_stitch_point= [0]\n",
      "MP_branches_for_correspondence = [0]\n",
      "MP_leftover = [], MP_leftover_idx = []\n",
      " Finished with (17, 8) \n",
      "\n",
      "\n",
      "\n",
      "\n",
      "---- Working on (18, 4) connection-----\n",
      "sk_conn = [2]\n",
      "conn = [2]\n",
      "winning_vertex = [588711.01069645 632000.61645156 971791.9431462 ]\n",
      "MP_branches_with_stitch_point = [2]\n",
      "MAP_branches_with_stitch_point = [2]\n",
      "MAP_stitch_point_on_end_or_branch = False\n"
     ]
    },
    {
     "data": {
      "application/vnd.jupyter.widget-view+json": {
       "model_id": "1227a90603424a8492720d9f2d2caddf",
       "version_major": 2,
       "version_minor": 0
      },
      "text/plain": [
       "HBox(children=(FloatProgress(value=1.0, bar_style='info', max=1.0), HTML(value='')))"
      ]
     },
     "metadata": {},
     "output_type": "display_data"
    },
    {
     "name": "stdout",
     "output_type": "stream",
     "text": [
      "\n",
      "\n",
      "\n",
      "--- Working on 1-to-1 correspondence-----\n",
      "max(original_labels),len(original_labels) = (1, 2)\n",
      "empty_indices % = 0.2615205359743664\n",
      " conflict_indices % = 0.009670841829303816\n"
     ]
    },
    {
     "data": {
      "application/vnd.jupyter.widget-view+json": {
       "model_id": "844e08cf35cb400498a858f350db0d17",
       "version_major": 2,
       "version_minor": 0
      },
      "text/plain": [
       "HBox(children=(FloatProgress(value=0.0, max=58.0), HTML(value='')))"
      ]
     },
     "metadata": {},
     "output_type": "display_data"
    },
    {
     "name": "stdout",
     "output_type": "stream",
     "text": [
      "\n",
      "AFTER face_lookup_resolved_test\n"
     ]
    },
    {
     "data": {
      "application/vnd.jupyter.widget-view+json": {
       "model_id": "2ee0477d42574150aed7e5c50ed7861a",
       "version_major": 2,
       "version_minor": 0
      },
      "text/plain": [
       "HBox(children=(FloatProgress(value=0.0, max=2.0), HTML(value='')))"
      ]
     },
     "metadata": {},
     "output_type": "display_data"
    },
    {
     "name": "stdout",
     "output_type": "stream",
     "text": [
      "\n"
     ]
    },
    {
     "data": {
      "application/vnd.jupyter.widget-view+json": {
       "model_id": "06f43ff170f84369bb85a8c8808ad5c4",
       "version_major": 2,
       "version_minor": 0
      },
      "text/plain": [
       "HBox(children=(FloatProgress(value=1.0, bar_style='info', max=1.0), HTML(value='')))"
      ]
     },
     "metadata": {},
     "output_type": "display_data"
    },
    {
     "name": "stdout",
     "output_type": "stream",
     "text": [
      "\n",
      "\n",
      "\n",
      "--- Working on 1-to-1 correspondence-----\n",
      "max(original_labels),len(original_labels) = (2, 3)\n",
      "empty_indices % = 0.2579849012775842\n",
      " conflict_indices % = 0.016579558652729386\n"
     ]
    },
    {
     "data": {
      "application/vnd.jupyter.widget-view+json": {
       "model_id": "fecb0c3577094e10959b7b08353107ad",
       "version_major": 2,
       "version_minor": 0
      },
      "text/plain": [
       "HBox(children=(FloatProgress(value=0.0, max=62.0), HTML(value='')))"
      ]
     },
     "metadata": {},
     "output_type": "display_data"
    },
    {
     "name": "stdout",
     "output_type": "stream",
     "text": [
      "\n",
      "AFTER face_lookup_resolved_test\n"
     ]
    },
    {
     "data": {
      "application/vnd.jupyter.widget-view+json": {
       "model_id": "00295e9237cf4ac1988990bd47b83925",
       "version_major": 2,
       "version_minor": 0
      },
      "text/plain": [
       "HBox(children=(FloatProgress(value=0.0, max=3.0), HTML(value='')))"
      ]
     },
     "metadata": {},
     "output_type": "display_data"
    },
    {
     "name": "stdout",
     "output_type": "stream",
     "text": [
      "\n",
      "Deleting branches from dictionary\n",
      "MP_branches_with_stitch_point= [2]\n",
      "MP_branches_for_correspondence = [2]\n",
      "MP_leftover = [], MP_leftover_idx = []\n",
      " Finished with (18, 4) \n",
      "\n",
      "\n",
      "\n",
      "\n",
      "---- Working on (19, 5) connection-----\n",
      "sk_conn = [0]\n",
      "conn = [0]\n",
      "winning_vertex = [613874.01263666 630851.74911571 951850.93850376]\n",
      "MP_branches_with_stitch_point = [0]\n",
      "MAP_branches_with_stitch_point = [2]\n",
      "MAP_stitch_point_on_end_or_branch = False\n"
     ]
    },
    {
     "data": {
      "application/vnd.jupyter.widget-view+json": {
       "model_id": "f928c9984ee34e0aa9ff9d4895a1d0bd",
       "version_major": 2,
       "version_minor": 0
      },
      "text/plain": [
       "HBox(children=(FloatProgress(value=1.0, bar_style='info', max=1.0), HTML(value='')))"
      ]
     },
     "metadata": {},
     "output_type": "display_data"
    },
    {
     "name": "stdout",
     "output_type": "stream",
     "text": [
      "\n",
      "\n",
      "\n",
      "--- Working on 1-to-1 correspondence-----\n",
      "max(original_labels),len(original_labels) = (1, 2)\n",
      "empty_indices % = 0.33100328947368424\n",
      " conflict_indices % = 0.003289473684210526\n"
     ]
    },
    {
     "data": {
      "application/vnd.jupyter.widget-view+json": {
       "model_id": "babb252997f64d76902be8f4f56e14bf",
       "version_major": 2,
       "version_minor": 0
      },
      "text/plain": [
       "HBox(children=(FloatProgress(value=0.0, max=20.0), HTML(value='')))"
      ]
     },
     "metadata": {},
     "output_type": "display_data"
    },
    {
     "name": "stdout",
     "output_type": "stream",
     "text": [
      "\n",
      "AFTER face_lookup_resolved_test\n"
     ]
    },
    {
     "data": {
      "application/vnd.jupyter.widget-view+json": {
       "model_id": "f21dfa826a5a4c4ba685968a4ce6e508",
       "version_major": 2,
       "version_minor": 0
      },
      "text/plain": [
       "HBox(children=(FloatProgress(value=0.0, max=2.0), HTML(value='')))"
      ]
     },
     "metadata": {},
     "output_type": "display_data"
    },
    {
     "name": "stdout",
     "output_type": "stream",
     "text": [
      "\n"
     ]
    },
    {
     "data": {
      "application/vnd.jupyter.widget-view+json": {
       "model_id": "a65e52596bd4495d920e03202d6a1950",
       "version_major": 2,
       "version_minor": 0
      },
      "text/plain": [
       "HBox(children=(FloatProgress(value=1.0, bar_style='info', max=1.0), HTML(value='')))"
      ]
     },
     "metadata": {},
     "output_type": "display_data"
    },
    {
     "name": "stdout",
     "output_type": "stream",
     "text": [
      "\n",
      "\n",
      "\n",
      "--- Working on 1-to-1 correspondence-----\n",
      "max(original_labels),len(original_labels) = (2, 3)\n",
      "empty_indices % = 0.3082475735258255\n",
      " conflict_indices % = 0.014144271570014143\n"
     ]
    },
    {
     "data": {
      "application/vnd.jupyter.widget-view+json": {
       "model_id": "e7028741cfa142a58da78b3a396ff2d6",
       "version_major": 2,
       "version_minor": 0
      },
      "text/plain": [
       "HBox(children=(FloatProgress(value=0.0, max=42.0), HTML(value='')))"
      ]
     },
     "metadata": {},
     "output_type": "display_data"
    },
    {
     "name": "stdout",
     "output_type": "stream",
     "text": [
      "\n",
      "AFTER face_lookup_resolved_test\n"
     ]
    },
    {
     "data": {
      "application/vnd.jupyter.widget-view+json": {
       "model_id": "3b213634c13448b298526c2adbcf1f0d",
       "version_major": 2,
       "version_minor": 0
      },
      "text/plain": [
       "HBox(children=(FloatProgress(value=0.0, max=3.0), HTML(value='')))"
      ]
     },
     "metadata": {},
     "output_type": "display_data"
    },
    {
     "name": "stdout",
     "output_type": "stream",
     "text": [
      "\n",
      "Deleting branches from dictionary\n",
      "MP_branches_with_stitch_point= [0]\n",
      "MP_branches_for_correspondence = [0]\n",
      "MP_leftover = [], MP_leftover_idx = []\n",
      " Finished with (19, 5) \n",
      "\n",
      "\n",
      "\n",
      "\n",
      "---- Working on (20, 5) connection-----\n",
      "sk_conn = [0]\n",
      "conn = [0]\n",
      "winning_vertex = [608708.91351552 623798.49882379 962037.78775591]\n",
      "MP_branches_with_stitch_point = [0]\n",
      "MAP_branches_with_stitch_point = [4]\n",
      "MAP_stitch_point_on_end_or_branch = False\n"
     ]
    },
    {
     "data": {
      "application/vnd.jupyter.widget-view+json": {
       "model_id": "9c212722150a4ac2a48bca353ee7b0a9",
       "version_major": 2,
       "version_minor": 0
      },
      "text/plain": [
       "HBox(children=(FloatProgress(value=1.0, bar_style='info', max=1.0), HTML(value='')))"
      ]
     },
     "metadata": {},
     "output_type": "display_data"
    },
    {
     "name": "stdout",
     "output_type": "stream",
     "text": [
      "\n",
      "\n",
      "\n",
      "--- Working on 1-to-1 correspondence-----\n",
      "max(original_labels),len(original_labels) = (1, 2)\n",
      "empty_indices % = 0.14339622641509434\n",
      " conflict_indices % = 0.0003850596842510589\n"
     ]
    },
    {
     "data": {
      "application/vnd.jupyter.widget-view+json": {
       "model_id": "aa2ef3af6bd145dcb51ab4b9963b922e",
       "version_major": 2,
       "version_minor": 0
      },
      "text/plain": [
       "HBox(children=(FloatProgress(value=0.0, max=96.0), HTML(value='')))"
      ]
     },
     "metadata": {},
     "output_type": "display_data"
    },
    {
     "name": "stdout",
     "output_type": "stream",
     "text": [
      "\n",
      "AFTER face_lookup_resolved_test\n"
     ]
    },
    {
     "data": {
      "application/vnd.jupyter.widget-view+json": {
       "model_id": "cd531340c4e34c8a988a322151ac4926",
       "version_major": 2,
       "version_minor": 0
      },
      "text/plain": [
       "HBox(children=(FloatProgress(value=0.0, max=2.0), HTML(value='')))"
      ]
     },
     "metadata": {},
     "output_type": "display_data"
    },
    {
     "name": "stdout",
     "output_type": "stream",
     "text": [
      "\n"
     ]
    },
    {
     "data": {
      "application/vnd.jupyter.widget-view+json": {
       "model_id": "3dbc54742e1a4c5eb85ed54c29c1851d",
       "version_major": 2,
       "version_minor": 0
      },
      "text/plain": [
       "HBox(children=(FloatProgress(value=1.0, bar_style='info', max=1.0), HTML(value='')))"
      ]
     },
     "metadata": {},
     "output_type": "display_data"
    },
    {
     "name": "stdout",
     "output_type": "stream",
     "text": [
      "\n",
      "\n",
      "\n",
      "--- Working on 1-to-1 correspondence-----\n",
      "max(original_labels),len(original_labels) = (2, 3)\n",
      "empty_indices % = 0.19083293859539777\n",
      " conflict_indices % = 0.004786716860711525\n"
     ]
    },
    {
     "data": {
      "application/vnd.jupyter.widget-view+json": {
       "model_id": "253d2a95f6234448bf4431b5bbda2adc",
       "version_major": 2,
       "version_minor": 0
      },
      "text/plain": [
       "HBox(children=(FloatProgress(value=0.0, max=86.0), HTML(value='')))"
      ]
     },
     "metadata": {},
     "output_type": "display_data"
    },
    {
     "name": "stdout",
     "output_type": "stream",
     "text": [
      "\n",
      "AFTER face_lookup_resolved_test\n"
     ]
    },
    {
     "data": {
      "application/vnd.jupyter.widget-view+json": {
       "model_id": "b9d589d188034943a3c8e6659bf5b24c",
       "version_major": 2,
       "version_minor": 0
      },
      "text/plain": [
       "HBox(children=(FloatProgress(value=0.0, max=3.0), HTML(value='')))"
      ]
     },
     "metadata": {},
     "output_type": "display_data"
    },
    {
     "name": "stdout",
     "output_type": "stream",
     "text": [
      "\n",
      "Deleting branches from dictionary\n",
      "MP_branches_with_stitch_point= [0]\n",
      "MP_branches_for_correspondence = [0]\n",
      "MP_leftover = [], MP_leftover_idx = []\n",
      " Finished with (20, 5) \n",
      "\n",
      "\n",
      "\n",
      "\n",
      "---- Working on (21, 9) connection-----\n",
      "sk_conn = [0]\n",
      "conn = [0]\n",
      "winning_vertex = [703436.81359676 529413.73991798 903781.71791249]\n",
      "MP_branches_with_stitch_point = [0]\n",
      "MAP_branches_with_stitch_point = [0]\n",
      "MAP_stitch_point_on_end_or_branch = False\n"
     ]
    },
    {
     "data": {
      "application/vnd.jupyter.widget-view+json": {
       "model_id": "6c3bbcf4679942b2b53d04300a7784d2",
       "version_major": 2,
       "version_minor": 0
      },
      "text/plain": [
       "HBox(children=(FloatProgress(value=1.0, bar_style='info', max=1.0), HTML(value='')))"
      ]
     },
     "metadata": {},
     "output_type": "display_data"
    },
    {
     "name": "stdout",
     "output_type": "stream",
     "text": [
      "\n",
      "\n",
      "\n",
      "--- Working on 1-to-1 correspondence-----\n",
      "max(original_labels),len(original_labels) = (1, 2)\n",
      "empty_indices % = 0.06562024616235652\n",
      " conflict_indices % = 0.000587747199557461\n"
     ]
    },
    {
     "data": {
      "application/vnd.jupyter.widget-view+json": {
       "model_id": "a807f3cca3944eb7bf049ea524f2a0bd",
       "version_major": 2,
       "version_minor": 0
      },
      "text/plain": [
       "HBox(children=(FloatProgress(value=0.0, max=23.0), HTML(value='')))"
      ]
     },
     "metadata": {},
     "output_type": "display_data"
    },
    {
     "name": "stdout",
     "output_type": "stream",
     "text": [
      "\n",
      "AFTER face_lookup_resolved_test\n"
     ]
    },
    {
     "data": {
      "application/vnd.jupyter.widget-view+json": {
       "model_id": "de5ad435abcc47b5bb6799da7883675e",
       "version_major": 2,
       "version_minor": 0
      },
      "text/plain": [
       "HBox(children=(FloatProgress(value=0.0, max=2.0), HTML(value='')))"
      ]
     },
     "metadata": {},
     "output_type": "display_data"
    },
    {
     "name": "stdout",
     "output_type": "stream",
     "text": [
      "\n"
     ]
    },
    {
     "data": {
      "application/vnd.jupyter.widget-view+json": {
       "model_id": "1ba00ee4f30c421c8b848d06d47f7c76",
       "version_major": 2,
       "version_minor": 0
      },
      "text/plain": [
       "HBox(children=(FloatProgress(value=1.0, bar_style='info', max=1.0), HTML(value='')))"
      ]
     },
     "metadata": {},
     "output_type": "display_data"
    },
    {
     "name": "stdout",
     "output_type": "stream",
     "text": [
      "\n",
      "\n",
      "\n",
      "--- Working on 1-to-1 correspondence-----\n",
      "max(original_labels),len(original_labels) = (2, 3)\n",
      "empty_indices % = 0.05396216334361415\n",
      " conflict_indices % = 0.0051242198314593096\n"
     ]
    },
    {
     "data": {
      "application/vnd.jupyter.widget-view+json": {
       "model_id": "5db0827887834e32894bc6a3af4ada6c",
       "version_major": 2,
       "version_minor": 0
      },
      "text/plain": [
       "HBox(children=(FloatProgress(value=0.0, max=14.0), HTML(value='')))"
      ]
     },
     "metadata": {},
     "output_type": "display_data"
    },
    {
     "name": "stdout",
     "output_type": "stream",
     "text": [
      "\n",
      "AFTER face_lookup_resolved_test\n"
     ]
    },
    {
     "data": {
      "application/vnd.jupyter.widget-view+json": {
       "model_id": "bd6e0928991145d1b8e64c7b215623a1",
       "version_major": 2,
       "version_minor": 0
      },
      "text/plain": [
       "HBox(children=(FloatProgress(value=0.0, max=3.0), HTML(value='')))"
      ]
     },
     "metadata": {},
     "output_type": "display_data"
    },
    {
     "name": "stdout",
     "output_type": "stream",
     "text": [
      "\n",
      "Deleting branches from dictionary\n",
      "MP_branches_with_stitch_point= [0]\n",
      "MP_branches_for_correspondence = [0]\n",
      "MP_leftover = [], MP_leftover_idx = []\n",
      " Finished with (21, 9) \n",
      "\n",
      "\n",
      "\n",
      "\n",
      "---- Working on (22, 4) connection-----\n",
      "sk_conn = [0]\n",
      "conn = [0]\n",
      "winning_vertex = [602204.81115326 632183.93904485 966610.80446212]\n",
      "MP_branches_with_stitch_point = [0]\n",
      "MAP_branches_with_stitch_point = [6]\n",
      "MAP_stitch_point_on_end_or_branch = False\n"
     ]
    },
    {
     "data": {
      "application/vnd.jupyter.widget-view+json": {
       "model_id": "bfc6a529e2874add88488f0226aa1832",
       "version_major": 2,
       "version_minor": 0
      },
      "text/plain": [
       "HBox(children=(FloatProgress(value=1.0, bar_style='info', max=1.0), HTML(value='')))"
      ]
     },
     "metadata": {},
     "output_type": "display_data"
    },
    {
     "name": "stdout",
     "output_type": "stream",
     "text": [
      "\n",
      "\n",
      "\n",
      "--- Working on 1-to-1 correspondence-----\n",
      "max(original_labels),len(original_labels) = (1, 2)\n",
      "empty_indices % = 0.31163731556401714\n",
      " conflict_indices % = 0.008924321751546883\n"
     ]
    },
    {
     "data": {
      "application/vnd.jupyter.widget-view+json": {
       "model_id": "666958e9ec9c4d95b4ecb63627ec0b4c",
       "version_major": 2,
       "version_minor": 0
      },
      "text/plain": [
       "HBox(children=(FloatProgress(value=0.0, max=22.0), HTML(value='')))"
      ]
     },
     "metadata": {},
     "output_type": "display_data"
    },
    {
     "name": "stdout",
     "output_type": "stream",
     "text": [
      "\n",
      "AFTER face_lookup_resolved_test\n"
     ]
    },
    {
     "data": {
      "application/vnd.jupyter.widget-view+json": {
       "model_id": "2df6d91965294b988139af092c068317",
       "version_major": 2,
       "version_minor": 0
      },
      "text/plain": [
       "HBox(children=(FloatProgress(value=0.0, max=2.0), HTML(value='')))"
      ]
     },
     "metadata": {},
     "output_type": "display_data"
    },
    {
     "name": "stdout",
     "output_type": "stream",
     "text": [
      "\n"
     ]
    },
    {
     "data": {
      "application/vnd.jupyter.widget-view+json": {
       "model_id": "f5c1f63ba9654dbdbd61d1c0de67a654",
       "version_major": 2,
       "version_minor": 0
      },
      "text/plain": [
       "HBox(children=(FloatProgress(value=1.0, bar_style='info', max=1.0), HTML(value='')))"
      ]
     },
     "metadata": {},
     "output_type": "display_data"
    },
    {
     "name": "stdout",
     "output_type": "stream",
     "text": [
      "\n",
      "\n",
      "\n",
      "--- Working on 1-to-1 correspondence-----\n",
      "max(original_labels),len(original_labels) = (2, 3)\n",
      "empty_indices % = 0.2965882657017317\n",
      " conflict_indices % = 0.009197036271215646\n"
     ]
    },
    {
     "data": {
      "application/vnd.jupyter.widget-view+json": {
       "model_id": "2282eb37e6d74ead9ce23024628a3370",
       "version_major": 2,
       "version_minor": 0
      },
      "text/plain": [
       "HBox(children=(FloatProgress(value=0.0, max=126.0), HTML(value='')))"
      ]
     },
     "metadata": {},
     "output_type": "display_data"
    },
    {
     "name": "stdout",
     "output_type": "stream",
     "text": [
      "\n",
      "AFTER face_lookup_resolved_test\n"
     ]
    },
    {
     "data": {
      "application/vnd.jupyter.widget-view+json": {
       "model_id": "2525de3109df4fd8b4da4db96a9ae4e1",
       "version_major": 2,
       "version_minor": 0
      },
      "text/plain": [
       "HBox(children=(FloatProgress(value=0.0, max=3.0), HTML(value='')))"
      ]
     },
     "metadata": {},
     "output_type": "display_data"
    },
    {
     "name": "stdout",
     "output_type": "stream",
     "text": [
      "\n",
      "Deleting branches from dictionary\n",
      "MP_branches_with_stitch_point= [0]\n",
      "MP_branches_for_correspondence = [0]\n",
      "MP_leftover = [], MP_leftover_idx = []\n",
      " Finished with (22, 4) \n",
      "\n",
      "\n",
      "\n",
      "\n",
      "---- Working on (23, 10) connection-----\n",
      "sk_conn = [0]\n",
      "conn = [0]\n",
      "winning_vertex = [679900.47432171 634133.08694458 968130.27609941]\n",
      "MP_branches_with_stitch_point = [0]\n",
      "MAP_branches_with_stitch_point = [3]\n",
      "MAP_stitch_point_on_end_or_branch = False\n"
     ]
    },
    {
     "data": {
      "application/vnd.jupyter.widget-view+json": {
       "model_id": "ae9bb553d6e94918b1ca23d92b3f974a",
       "version_major": 2,
       "version_minor": 0
      },
      "text/plain": [
       "HBox(children=(FloatProgress(value=1.0, bar_style='info', max=1.0), HTML(value='')))"
      ]
     },
     "metadata": {},
     "output_type": "display_data"
    },
    {
     "name": "stdout",
     "output_type": "stream",
     "text": [
      "\n",
      "\n",
      "\n",
      "--- Working on 1-to-1 correspondence-----\n",
      "max(original_labels),len(original_labels) = (1, 2)\n",
      "empty_indices % = 0.1024134255336595\n",
      " conflict_indices % = 0.001202612949954902\n"
     ]
    },
    {
     "data": {
      "application/vnd.jupyter.widget-view+json": {
       "model_id": "2759a900fa404cde95823f58d925dccc",
       "version_major": 2,
       "version_minor": 0
      },
      "text/plain": [
       "HBox(children=(FloatProgress(value=0.0, max=35.0), HTML(value='')))"
      ]
     },
     "metadata": {},
     "output_type": "display_data"
    },
    {
     "name": "stdout",
     "output_type": "stream",
     "text": [
      "\n",
      "AFTER face_lookup_resolved_test\n"
     ]
    },
    {
     "data": {
      "application/vnd.jupyter.widget-view+json": {
       "model_id": "e6c6f84c80f14b658515820d479aa94f",
       "version_major": 2,
       "version_minor": 0
      },
      "text/plain": [
       "HBox(children=(FloatProgress(value=0.0, max=2.0), HTML(value='')))"
      ]
     },
     "metadata": {},
     "output_type": "display_data"
    },
    {
     "name": "stdout",
     "output_type": "stream",
     "text": [
      "\n"
     ]
    },
    {
     "data": {
      "application/vnd.jupyter.widget-view+json": {
       "model_id": "f097351345054f7cb9d2824d99cf4ca6",
       "version_major": 2,
       "version_minor": 0
      },
      "text/plain": [
       "HBox(children=(FloatProgress(value=1.0, bar_style='info', max=1.0), HTML(value='')))"
      ]
     },
     "metadata": {},
     "output_type": "display_data"
    },
    {
     "name": "stdout",
     "output_type": "stream",
     "text": [
      "\n",
      "\n",
      "\n",
      "--- Working on 1-to-1 correspondence-----\n",
      "max(original_labels),len(original_labels) = (2, 3)\n",
      "empty_indices % = 0.09875853073393427\n",
      " conflict_indices % = 0.00542706076910535\n"
     ]
    },
    {
     "data": {
      "application/vnd.jupyter.widget-view+json": {
       "model_id": "4a132e386b124bccb35d94dff8f4bd41",
       "version_major": 2,
       "version_minor": 0
      },
      "text/plain": [
       "HBox(children=(FloatProgress(value=0.0, max=14.0), HTML(value='')))"
      ]
     },
     "metadata": {},
     "output_type": "display_data"
    },
    {
     "name": "stdout",
     "output_type": "stream",
     "text": [
      "\n",
      "AFTER face_lookup_resolved_test\n"
     ]
    },
    {
     "data": {
      "application/vnd.jupyter.widget-view+json": {
       "model_id": "e6e7b524dfb3445f860c8e99d3bf3c86",
       "version_major": 2,
       "version_minor": 0
      },
      "text/plain": [
       "HBox(children=(FloatProgress(value=0.0, max=3.0), HTML(value='')))"
      ]
     },
     "metadata": {},
     "output_type": "display_data"
    },
    {
     "name": "stdout",
     "output_type": "stream",
     "text": [
      "\n",
      "Deleting branches from dictionary\n",
      "MP_branches_with_stitch_point= [0]\n",
      "MP_branches_for_correspondence = [0]\n",
      "MP_leftover = [], MP_leftover_idx = []\n",
      " Finished with (23, 10) \n",
      "\n",
      "\n",
      "\n",
      "\n",
      "---- Working on (24, 5) connection-----\n",
      "sk_conn = [2]\n",
      "conn = [2]\n",
      "winning_vertex = [608532.88086254 609803.80755633 964971.57431152]\n",
      "MP_branches_with_stitch_point = [2]\n",
      "MAP_branches_with_stitch_point = [4]\n",
      "MAP_stitch_point_on_end_or_branch = False\n"
     ]
    },
    {
     "data": {
      "application/vnd.jupyter.widget-view+json": {
       "model_id": "10af839d2cef472aa2f762b31fa13e4a",
       "version_major": 2,
       "version_minor": 0
      },
      "text/plain": [
       "HBox(children=(FloatProgress(value=1.0, bar_style='info', max=1.0), HTML(value='')))"
      ]
     },
     "metadata": {},
     "output_type": "display_data"
    },
    {
     "name": "stdout",
     "output_type": "stream",
     "text": [
      "\n",
      "\n",
      "\n",
      "--- Working on 1-to-1 correspondence-----\n",
      "max(original_labels),len(original_labels) = (1, 2)\n",
      "empty_indices % = 0.14719721767594107\n",
      " conflict_indices % = 0.0005932896890343699\n"
     ]
    },
    {
     "data": {
      "application/vnd.jupyter.widget-view+json": {
       "model_id": "c38fc44a8c2940edb16140fd59b809dc",
       "version_major": 2,
       "version_minor": 0
      },
      "text/plain": [
       "HBox(children=(FloatProgress(value=0.0, max=89.0), HTML(value='')))"
      ]
     },
     "metadata": {},
     "output_type": "display_data"
    },
    {
     "name": "stdout",
     "output_type": "stream",
     "text": [
      "\n",
      "AFTER face_lookup_resolved_test\n"
     ]
    },
    {
     "data": {
      "application/vnd.jupyter.widget-view+json": {
       "model_id": "b0a70531ec234153980c5ec8924633bb",
       "version_major": 2,
       "version_minor": 0
      },
      "text/plain": [
       "HBox(children=(FloatProgress(value=0.0, max=2.0), HTML(value='')))"
      ]
     },
     "metadata": {},
     "output_type": "display_data"
    },
    {
     "name": "stdout",
     "output_type": "stream",
     "text": [
      "\n"
     ]
    },
    {
     "data": {
      "application/vnd.jupyter.widget-view+json": {
       "model_id": "a2d13505d77a4d0796ed8f64d3a9ef9f",
       "version_major": 2,
       "version_minor": 0
      },
      "text/plain": [
       "HBox(children=(FloatProgress(value=1.0, bar_style='info', max=1.0), HTML(value='')))"
      ]
     },
     "metadata": {},
     "output_type": "display_data"
    },
    {
     "name": "stdout",
     "output_type": "stream",
     "text": [
      "\n",
      "\n",
      "\n",
      "--- Working on 1-to-1 correspondence-----\n",
      "max(original_labels),len(original_labels) = (2, 3)\n",
      "empty_indices % = 0.15347158903524938\n",
      " conflict_indices % = 0.010107280734087338\n"
     ]
    },
    {
     "data": {
      "application/vnd.jupyter.widget-view+json": {
       "model_id": "9967e9ae0e10473890f33328c4840605",
       "version_major": 2,
       "version_minor": 0
      },
      "text/plain": [
       "HBox(children=(FloatProgress(value=0.0, max=9.0), HTML(value='')))"
      ]
     },
     "metadata": {},
     "output_type": "display_data"
    },
    {
     "name": "stdout",
     "output_type": "stream",
     "text": [
      "\n",
      "AFTER face_lookup_resolved_test\n"
     ]
    },
    {
     "data": {
      "application/vnd.jupyter.widget-view+json": {
       "model_id": "2d972ad85a834e70a7220f201a9fc399",
       "version_major": 2,
       "version_minor": 0
      },
      "text/plain": [
       "HBox(children=(FloatProgress(value=0.0, max=3.0), HTML(value='')))"
      ]
     },
     "metadata": {},
     "output_type": "display_data"
    },
    {
     "name": "stdout",
     "output_type": "stream",
     "text": [
      "\n",
      "Deleting branches from dictionary\n",
      "MP_branches_with_stitch_point= [2]\n",
      "MP_branches_for_correspondence = [2]\n",
      "MP_leftover = [], MP_leftover_idx = []\n",
      " Finished with (24, 5) \n",
      "\n",
      "\n",
      "\n",
      "\n",
      "---- Working on (25, 5) connection-----\n",
      "sk_conn = [0]\n",
      "conn = [0]\n",
      "winning_vertex = [607306.28481004 571336.35196042 967282.70660847]\n",
      "MP_branches_with_stitch_point = [0]\n",
      "MAP_branches_with_stitch_point = [4]\n",
      "MAP_stitch_point_on_end_or_branch = False\n"
     ]
    },
    {
     "data": {
      "application/vnd.jupyter.widget-view+json": {
       "model_id": "9d321a6a080245409968f46a982f1aa7",
       "version_major": 2,
       "version_minor": 0
      },
      "text/plain": [
       "HBox(children=(FloatProgress(value=1.0, bar_style='info', max=1.0), HTML(value='')))"
      ]
     },
     "metadata": {},
     "output_type": "display_data"
    },
    {
     "name": "stdout",
     "output_type": "stream",
     "text": [
      "\n",
      "\n",
      "\n",
      "--- Working on 1-to-1 correspondence-----\n",
      "max(original_labels),len(original_labels) = (1, 2)\n",
      "empty_indices % = 0.16482132201816616\n",
      " conflict_indices % = 0.00044199871820371723\n"
     ]
    },
    {
     "data": {
      "application/vnd.jupyter.widget-view+json": {
       "model_id": "42466ee0d3f345b59f8fcaf9b3de5262",
       "version_major": 2,
       "version_minor": 0
      },
      "text/plain": [
       "HBox(children=(FloatProgress(value=0.0, max=87.0), HTML(value='')))"
      ]
     },
     "metadata": {},
     "output_type": "display_data"
    },
    {
     "name": "stdout",
     "output_type": "stream",
     "text": [
      "\n",
      "AFTER face_lookup_resolved_test\n"
     ]
    },
    {
     "data": {
      "application/vnd.jupyter.widget-view+json": {
       "model_id": "bf599c992f7d4af8a69cd3c754f4c3b4",
       "version_major": 2,
       "version_minor": 0
      },
      "text/plain": [
       "HBox(children=(FloatProgress(value=0.0, max=2.0), HTML(value='')))"
      ]
     },
     "metadata": {},
     "output_type": "display_data"
    },
    {
     "name": "stdout",
     "output_type": "stream",
     "text": [
      "\n"
     ]
    },
    {
     "data": {
      "application/vnd.jupyter.widget-view+json": {
       "model_id": "2c0d952ac5154f4d9e1a970cc3c87615",
       "version_major": 2,
       "version_minor": 0
      },
      "text/plain": [
       "HBox(children=(FloatProgress(value=1.0, bar_style='info', max=1.0), HTML(value='')))"
      ]
     },
     "metadata": {},
     "output_type": "display_data"
    },
    {
     "name": "stdout",
     "output_type": "stream",
     "text": [
      "\n",
      "\n",
      "\n",
      "--- Working on 1-to-1 correspondence-----\n",
      "max(original_labels),len(original_labels) = (2, 3)\n",
      "empty_indices % = 0.1721275205967256\n",
      " conflict_indices % = 0.007690848943298426\n"
     ]
    },
    {
     "data": {
      "application/vnd.jupyter.widget-view+json": {
       "model_id": "3fc4ddfea8ec4be9bb0f8db23d440f0b",
       "version_major": 2,
       "version_minor": 0
      },
      "text/plain": [
       "HBox(children=(FloatProgress(value=0.0, max=9.0), HTML(value='')))"
      ]
     },
     "metadata": {},
     "output_type": "display_data"
    },
    {
     "name": "stdout",
     "output_type": "stream",
     "text": [
      "\n",
      "AFTER face_lookup_resolved_test\n"
     ]
    },
    {
     "data": {
      "application/vnd.jupyter.widget-view+json": {
       "model_id": "6ab7f1435fe14cb58c046bf563a06152",
       "version_major": 2,
       "version_minor": 0
      },
      "text/plain": [
       "HBox(children=(FloatProgress(value=0.0, max=3.0), HTML(value='')))"
      ]
     },
     "metadata": {},
     "output_type": "display_data"
    },
    {
     "name": "stdout",
     "output_type": "stream",
     "text": [
      "\n",
      "Deleting branches from dictionary\n",
      "MP_branches_with_stitch_point= [0]\n",
      "MP_branches_for_correspondence = [0]\n",
      "MP_leftover = [], MP_leftover_idx = []\n",
      " Finished with (25, 5) \n",
      "\n",
      "\n",
      "\n",
      "\n",
      "---- Working on (26, 10) connection-----\n",
      "sk_conn = [0]\n",
      "conn = [0]\n",
      "winning_vertex = [642593.4306231  556551.65236405 985634.67074752]\n",
      "MP_branches_with_stitch_point = [0]\n",
      "MAP_branches_with_stitch_point = [0]\n",
      "MAP_stitch_point_on_end_or_branch = False\n"
     ]
    },
    {
     "data": {
      "application/vnd.jupyter.widget-view+json": {
       "model_id": "30bc9e7dc92040df863e5b66549399e0",
       "version_major": 2,
       "version_minor": 0
      },
      "text/plain": [
       "HBox(children=(FloatProgress(value=1.0, bar_style='info', max=1.0), HTML(value='')))"
      ]
     },
     "metadata": {},
     "output_type": "display_data"
    },
    {
     "name": "stdout",
     "output_type": "stream",
     "text": [
      "\n",
      "\n",
      "\n",
      "--- Working on 1-to-1 correspondence-----\n",
      "max(original_labels),len(original_labels) = (1, 2)\n",
      "empty_indices % = 0.04552248946867781\n",
      " conflict_indices % = 0.0024459845087647777\n"
     ]
    },
    {
     "data": {
      "application/vnd.jupyter.widget-view+json": {
       "model_id": "b87bfbc299e34f3897215ac4119dfa99",
       "version_major": 2,
       "version_minor": 0
      },
      "text/plain": [
       "HBox(children=(FloatProgress(value=0.0, max=19.0), HTML(value='')))"
      ]
     },
     "metadata": {},
     "output_type": "display_data"
    },
    {
     "name": "stdout",
     "output_type": "stream",
     "text": [
      "\n",
      "AFTER face_lookup_resolved_test\n"
     ]
    },
    {
     "data": {
      "application/vnd.jupyter.widget-view+json": {
       "model_id": "a94e25ca584f4924a7d523139ff407e4",
       "version_major": 2,
       "version_minor": 0
      },
      "text/plain": [
       "HBox(children=(FloatProgress(value=0.0, max=2.0), HTML(value='')))"
      ]
     },
     "metadata": {},
     "output_type": "display_data"
    },
    {
     "name": "stdout",
     "output_type": "stream",
     "text": [
      "\n"
     ]
    },
    {
     "data": {
      "application/vnd.jupyter.widget-view+json": {
       "model_id": "9489ed4add22429493818135f8087211",
       "version_major": 2,
       "version_minor": 0
      },
      "text/plain": [
       "HBox(children=(FloatProgress(value=1.0, bar_style='info', max=1.0), HTML(value='')))"
      ]
     },
     "metadata": {},
     "output_type": "display_data"
    },
    {
     "name": "stdout",
     "output_type": "stream",
     "text": [
      "\n",
      "\n",
      "\n",
      "--- Working on 1-to-1 correspondence-----\n",
      "max(original_labels),len(original_labels) = (2, 3)\n",
      "empty_indices % = 0.06020033720122979\n",
      " conflict_indices % = 0.008925914906277893\n"
     ]
    },
    {
     "data": {
      "application/vnd.jupyter.widget-view+json": {
       "model_id": "cb4b8066986146ac8487c5e9519dab8b",
       "version_major": 2,
       "version_minor": 0
      },
      "text/plain": [
       "HBox(children=(FloatProgress(value=0.0, max=15.0), HTML(value='')))"
      ]
     },
     "metadata": {},
     "output_type": "display_data"
    },
    {
     "name": "stdout",
     "output_type": "stream",
     "text": [
      "\n",
      "AFTER face_lookup_resolved_test\n"
     ]
    },
    {
     "data": {
      "application/vnd.jupyter.widget-view+json": {
       "model_id": "ad5ca8c3bd3a4d8e8e97b071f31366c3",
       "version_major": 2,
       "version_minor": 0
      },
      "text/plain": [
       "HBox(children=(FloatProgress(value=0.0, max=3.0), HTML(value='')))"
      ]
     },
     "metadata": {},
     "output_type": "display_data"
    },
    {
     "name": "stdout",
     "output_type": "stream",
     "text": [
      "\n",
      "Deleting branches from dictionary\n",
      "MP_branches_with_stitch_point= [0]\n",
      "MP_branches_for_correspondence = [0]\n",
      "MP_leftover = [], MP_leftover_idx = []\n",
      " Finished with (26, 10) \n",
      "\n",
      "\n",
      "\n",
      "\n",
      "---- Working on (27, 9) connection-----\n",
      "sk_conn = [0]\n",
      "conn = [0]\n",
      "winning_vertex = [720208.66263369 567669.33011061 874166.94260296]\n",
      "MP_branches_with_stitch_point = [0]\n",
      "MAP_branches_with_stitch_point = [4]\n",
      "MAP_stitch_point_on_end_or_branch = False\n"
     ]
    },
    {
     "data": {
      "application/vnd.jupyter.widget-view+json": {
       "model_id": "9005db4fb45d463784d35311613cf30e",
       "version_major": 2,
       "version_minor": 0
      },
      "text/plain": [
       "HBox(children=(FloatProgress(value=1.0, bar_style='info', max=1.0), HTML(value='')))"
      ]
     },
     "metadata": {},
     "output_type": "display_data"
    },
    {
     "name": "stdout",
     "output_type": "stream",
     "text": [
      "\n",
      "\n",
      "\n",
      "--- Working on 1-to-1 correspondence-----\n",
      "max(original_labels),len(original_labels) = (1, 2)\n",
      "empty_indices % = 0.024494712889840717\n",
      " conflict_indices % = 0.0016062106813010306\n"
     ]
    },
    {
     "data": {
      "application/vnd.jupyter.widget-view+json": {
       "model_id": "18c648facb4b4aec834035c2b87df31a",
       "version_major": 2,
       "version_minor": 0
      },
      "text/plain": [
       "HBox(children=(FloatProgress(value=0.0, max=10.0), HTML(value='')))"
      ]
     },
     "metadata": {},
     "output_type": "display_data"
    },
    {
     "name": "stdout",
     "output_type": "stream",
     "text": [
      "\n",
      "AFTER face_lookup_resolved_test\n"
     ]
    },
    {
     "data": {
      "application/vnd.jupyter.widget-view+json": {
       "model_id": "862ee1bcdad84c61ac9a348ae0c88c00",
       "version_major": 2,
       "version_minor": 0
      },
      "text/plain": [
       "HBox(children=(FloatProgress(value=0.0, max=2.0), HTML(value='')))"
      ]
     },
     "metadata": {},
     "output_type": "display_data"
    },
    {
     "name": "stdout",
     "output_type": "stream",
     "text": [
      "\n"
     ]
    },
    {
     "data": {
      "application/vnd.jupyter.widget-view+json": {
       "model_id": "51f4bb8257574c09a0e45b9c1e86e538",
       "version_major": 2,
       "version_minor": 0
      },
      "text/plain": [
       "HBox(children=(FloatProgress(value=1.0, bar_style='info', max=1.0), HTML(value='')))"
      ]
     },
     "metadata": {},
     "output_type": "display_data"
    },
    {
     "name": "stdout",
     "output_type": "stream",
     "text": [
      "\n",
      "\n",
      "\n",
      "--- Working on 1-to-1 correspondence-----\n",
      "max(original_labels),len(original_labels) = (2, 3)\n",
      "empty_indices % = 0.03586287723410489\n",
      " conflict_indices % = 0.011602695575739818\n"
     ]
    },
    {
     "data": {
      "application/vnd.jupyter.widget-view+json": {
       "model_id": "762dfafa6bd14644a326dda75b17974b",
       "version_major": 2,
       "version_minor": 0
      },
      "text/plain": [
       "HBox(children=(FloatProgress(value=0.0, max=17.0), HTML(value='')))"
      ]
     },
     "metadata": {},
     "output_type": "display_data"
    },
    {
     "name": "stdout",
     "output_type": "stream",
     "text": [
      "\n",
      "AFTER face_lookup_resolved_test\n"
     ]
    },
    {
     "data": {
      "application/vnd.jupyter.widget-view+json": {
       "model_id": "4acbc63aa9ee43bc960ee39f1d968eaf",
       "version_major": 2,
       "version_minor": 0
      },
      "text/plain": [
       "HBox(children=(FloatProgress(value=0.0, max=3.0), HTML(value='')))"
      ]
     },
     "metadata": {},
     "output_type": "display_data"
    },
    {
     "name": "stdout",
     "output_type": "stream",
     "text": [
      "\n",
      "Deleting branches from dictionary\n",
      "MP_branches_with_stitch_point= [0]\n",
      "MP_branches_for_correspondence = [0]\n",
      "MP_leftover = [], MP_leftover_idx = []\n",
      " Finished with (27, 9) \n",
      "\n",
      "\n",
      "\n",
      "Time for decomp of Limb = 1981.2642278671265\n",
      "Number of matching vertices = 0\n",
      "Number of matching vertices = 0\n",
      "Number of matching vertices = 26\n",
      "Number of matching vertices = 32\n",
      "Number of matching vertices = 0\n",
      "Number of matching vertices = 0\n",
      "Number of matching vertices = 28\n",
      "Number of matching vertices = 0\n",
      "Number of matching vertices = 21\n",
      "Number of matching vertices = 0\n",
      "Number of matching vertices = 23\n",
      "Number of matching vertices = 0\n",
      "Number of matching vertices = 0\n",
      "Only one endpoint after filtering away the endpoints that are not on the skeleton\n",
      "Only one endpoint after filtering away the endpoints that are not on the skeleton\n",
      "Only one endpoint after filtering away the endpoints that are not on the skeleton\n",
      "Only one endpoint after filtering away the endpoints that are not on the skeleton\n",
      "Only one endpoint after filtering away the endpoints that are not on the skeleton\n",
      "Using Distance measure skeletal_distance\n",
      "endpoints_must_keep = [[609896. 640868. 956495.]\n",
      " [611204. 644615. 958219.]\n",
      " [693297. 623517. 936763.]\n",
      " [694358. 622217. 933781.]\n",
      " [697042. 622005. 930103.]]\n",
      "Number of end_nodes BEFORE filtering = 333\n",
      "all_single_nodes_to_eliminate = [48, 51, 181, 183, 186]\n"
     ]
    },
    {
     "data": {
      "application/vnd.jupyter.widget-view+json": {
       "model_id": "937e9bf426094dbba5b6a743aa8629f2",
       "version_major": 2,
       "version_minor": 0
      },
      "text/plain": [
       "HBox(children=(FloatProgress(value=0.0, max=3.0), HTML(value='')))"
      ]
     },
     "metadata": {},
     "output_type": "display_data"
    },
    {
     "name": "stdout",
     "output_type": "stream",
     "text": [
      "\n",
      "Removed 3 skeletal branches\n"
     ]
    },
    {
     "data": {
      "application/vnd.jupyter.widget-view+json": {
       "model_id": "aefeddd36b744d5bb36762f989f17001",
       "version_major": 2,
       "version_minor": 0
      },
      "text/plain": [
       "HBox(children=(FloatProgress(value=0.0, max=651.0), HTML(value='')))"
      ]
     },
     "metadata": {},
     "output_type": "display_data"
    },
    {
     "name": "stdout",
     "output_type": "stream",
     "text": [
      "\n",
      "2358592 2358593\n",
      "For marked faces: None\n",
      "empty_indices % = 0.0001403379048441168\n",
      " conflict_indices % = 0.0\n"
     ]
    },
    {
     "data": {
      "application/vnd.jupyter.widget-view+json": {
       "model_id": "724810a695f74e40860e6f1ea9128269",
       "version_major": 2,
       "version_minor": 0
      },
      "text/plain": [
       "HBox(children=(FloatProgress(value=0.0, max=1.0), HTML(value='')))"
      ]
     },
     "metadata": {},
     "output_type": "display_data"
    },
    {
     "name": "stdout",
     "output_type": "stream",
     "text": [
      "\n",
      "AFTER face_lookup_resolved_test\n"
     ]
    },
    {
     "data": {
      "application/vnd.jupyter.widget-view+json": {
       "model_id": "6e082fc4a79c4886a899f6f35c8a8d1e",
       "version_major": 2,
       "version_minor": 0
      },
      "text/plain": [
       "HBox(children=(FloatProgress(value=0.0, max=646.0), HTML(value='')))"
      ]
     },
     "metadata": {},
     "output_type": "display_data"
    },
    {
     "name": "stdout",
     "output_type": "stream",
     "text": [
      "\n",
      "\n",
      "\n",
      "----- Working on Proper Limb # 1 ---------\n",
      "meshparty_segment_size = 100\n",
      "root_curr = [608475. 655599. 947373.]\n",
      "Time for preparing soma vertices and root: 0.014325380325317383\n",
      "invalidation_d = 12000\n",
      "cc_vertex_thresh = 10\n"
     ]
    },
    {
     "name": "stderr",
     "output_type": "stream",
     "text": [
      "\r",
      "  0%|          | 0/1 [00:00<?, ?it/s]"
     ]
    },
    {
     "data": {
      "application/vnd.jupyter.widget-view+json": {
       "model_id": "26f5bd5c3e5f4233a31ea3f046b05e94",
       "version_major": 2,
       "version_minor": 0
      },
      "text/plain": [
       "HBox(children=(FloatProgress(value=0.0, max=151960.0), HTML(value='')))"
      ]
     },
     "metadata": {},
     "output_type": "display_data"
    },
    {
     "name": "stderr",
     "output_type": "stream",
     "text": [
      "100%|██████████| 1/1 [00:04<00:00,  4.08s/it]"
     ]
    },
    {
     "name": "stdout",
     "output_type": "stream",
     "text": [
      "\n"
     ]
    },
    {
     "name": "stderr",
     "output_type": "stream",
     "text": [
      "\n"
     ]
    },
    {
     "name": "stdout",
     "output_type": "stream",
     "text": [
      "meshparty_segment_size = 100\n",
      "Time for 1st pass MP skeletonization: 5.76531195640564\n",
      "branches_touching_root = [9]\n",
      "length of Graph = 16584\n",
      "Working on path [2158. 2167. 2170. 2176. 2177.]\n",
      "path_degrees = [3, 2, 2, 2, 3]\n",
      "Working on path [3361. 3368. 3376. 3382. 3386.]\n",
      "path_degrees = [3, 2, 2, 2, 3]\n",
      "Working on path [8815. 8818. 8823. 8829. 8834. 8839. 8845. 8846.]\n",
      "path_degrees = [3, 2, 2, 2, 2, 2, 2, 3]\n",
      "After combining close endpoints max(kept_branches_idx) = 47, len(kept_branches_idx) = 45\n",
      "empty_indices % = 0.0\n",
      " conflict_indices % = 0.003697924741788529\n"
     ]
    },
    {
     "data": {
      "application/vnd.jupyter.widget-view+json": {
       "model_id": "091ef4ae99f54e9bb5a1a296101f553c",
       "version_major": 2,
       "version_minor": 0
      },
      "text/plain": [
       "HBox(children=(FloatProgress(value=0.0, max=21.0), HTML(value='')))"
      ]
     },
     "metadata": {},
     "output_type": "display_data"
    },
    {
     "name": "stdout",
     "output_type": "stream",
     "text": [
      "\n",
      "AFTER face_lookup_resolved_test\n"
     ]
    },
    {
     "data": {
      "application/vnd.jupyter.widget-view+json": {
       "model_id": "64819e17852f47b9b6b2b1970281bb61",
       "version_major": 2,
       "version_minor": 0
      },
      "text/plain": [
       "HBox(children=(FloatProgress(value=0.0, max=45.0), HTML(value='')))"
      ]
     },
     "metadata": {},
     "output_type": "display_data"
    },
    {
     "name": "stdout",
     "output_type": "stream",
     "text": [
      "\n",
      "Decomposing first pass: 18.48884606361389\n",
      "Attempting to use MeshAfterParty Skeletonization and Mesh Correspondence\n",
      "Another print\n",
      "Found len(mesh_large_idx) MAP candidates: [13351, 5934, 8847, 804, 3710, 15533]\n",
      "mesh_large_connectivity: 0.05730032920837402\n",
      "Finding MAP candidates connected components: 0.00017547607421875\n",
      "len(filtered_pieces) = 3\n",
      "skeleton_connectivity_MP : 0.8213889598846436\n",
      "Grouping MP Sublimbs by Graph: 0.16560649871826172\n",
      "Divinding into MP and MAP pieces: 1.1920928955078125e-06\n",
      "--- Working on MAP piece 0---\n",
      "MAP Filtering Soma Pieces: 0.023960113525390625\n",
      "inside skeletonize_connected_branch and use_surface_after_CGAL=False, surface_reconstruction_size=1000\n",
      "     Starting Screened Poisson\n",
      "xvfb-run -n 4097 -s \"-screen 0 800x600x24\" meshlabserver $@  -i /notebooks/Auto_Proofreading/Decomposition_Optimization/Debug_4/temp/None.off -o /notebooks/Auto_Proofreading/Decomposition_Optimization/Debug_4/temp/None_poisson.off -s /notebooks/Auto_Proofreading/Decomposition_Optimization/Debug_4/temp/poisson_888544.mls\n",
      "removed temporary input file: /notebooks/Auto_Proofreading/Decomposition_Optimization/Debug_4/temp/None.off\n",
      "removed temporary output file: /notebooks/Auto_Proofreading/Decomposition_Optimization/Debug_4/temp/None_poisson.off\n",
      "Using the close holes feature\n",
      "Mesh was manifold\n",
      "No holes needed to fill and mesh was manifold so returning original mesh\n",
      "-----Time for Screened Poisson= 13.405301809310913\n",
      "mesh_pieces = [<trimesh.Trimesh(vertices.shape=(17379, 3), faces.shape=(34754, 3))>]\n",
      "     Starting Calcification (Changed back where stitches large poissons)\n",
      "min_edge_length = 75\n"
     ]
    },
    {
     "data": {
      "application/vnd.jupyter.widget-view+json": {
       "model_id": "3474d7a06e7c414e83106b1c7c026bd9",
       "version_major": 2,
       "version_minor": 0
      },
      "text/plain": [
       "HBox(children=(FloatProgress(value=1.0, bar_style='info', max=1.0), HTML(value='')))"
      ]
     },
     "metadata": {},
     "output_type": "display_data"
    },
    {
     "name": "stdout",
     "output_type": "stream",
     "text": [
      "\n",
      "No skeletons to stack so returning empty list\n",
      "len_subgraphs AT BEGINNING of the loop\n"
     ]
    },
    {
     "data": {
      "application/vnd.jupyter.widget-view+json": {
       "model_id": "ada90753c63b4d70a746aaa183833558",
       "version_major": 2,
       "version_minor": 0
      },
      "text/plain": [
       "HBox(children=(FloatProgress(value=0.0, max=1.0), HTML(value='')))"
      ]
     },
     "metadata": {},
     "output_type": "display_data"
    },
    {
     "name": "stdout",
     "output_type": "stream",
     "text": [
      "all graph is one component!\n",
      "\n",
      "Total time for skeleton stitching = 0.057813167572021484\n",
      "The process was using a temp folder\n",
      "Checking connected components after skeletonize_connected_branch\n",
      "    Total time for skeletonizing branch: 15.04488229751587\n",
      "Checking connected components after removing cycles\n",
      "Total time for mesh KDTree = 0.13690400123596191\n",
      "sbv[0].reshape(-1,3) = [[618990.2 661982.5 951263.9]]\n",
      "closest_sk_pt_coord BEFORE = [619224. 662129. 950511.]\n",
      "current_skeleton.shape = (430, 2, 3)\n",
      "node_for_stitch = 0: [619224. 662129. 950511.]\n",
      "node_for_stitch AFTER = 0: [619224. 662129. 950511.]\n",
      "possible_node_loc = [  0  60 126 354 430]\n",
      "possible_node_loc AFTER = [  0  60 126 354 430]\n",
      "curr_shortest_path = [0]\n",
      "Current stitch point was a branch or endpoint\n",
      "change_status for create soma extending pieces = False\n",
      "closest_sk_pt_coord AFTER = [619224. 662129. 950511.]\n",
      "skipping soma 0 because closest skeleton node was already end node\n",
      "endpoints_must_keep = {0: array([[619224., 662129., 950511.]])}\n",
      "    Total time for Fixing Skeleton Soma Endpoint Extension : 0.29003357887268066\n",
      "filter_end_node_length = 4000\n",
      "xvfb-run -n 4097 -s \"-screen 0 800x600x24\" meshlabserver $@  -i /notebooks/Auto_Proofreading/Decomposition_Optimization/Debug_4/temp/neuron_77810.off -o /notebooks/Auto_Proofreading/Decomposition_Optimization/Debug_4/temp/neuron_77810_remove_interior.off -s /notebooks/Auto_Proofreading/Decomposition_Optimization/Debug_4/temp/remove_interior_266618.mls\n",
      "removed temporary input file: /notebooks/Auto_Proofreading/Decomposition_Optimization/Debug_4/temp/neuron_77810.off\n",
      "removed temporary output file: /notebooks/Auto_Proofreading/Decomposition_Optimization/Debug_4/temp/neuron_77810_remove_interior.off\n",
      "/notebooks/Auto_Proofreading/Decomposition_Optimization/Debug_4/temp/remove_interior_266618.mls is being deleted....\n",
      "THERE WERE NO MESH PIECES GREATER THAN THE significance_threshold\n",
      "No significant (100) interior meshes present\n",
      "largest is 65\n",
      "Using Distance measure skeletal_distance\n",
      "endpoints_must_keep = [[619224. 662129. 950511.]\n",
      " [619224. 662129. 950511.]]\n",
      "Number of end_nodes BEFORE filtering = 5\n",
      "all_single_nodes_to_eliminate = [0, 0]\n"
     ]
    },
    {
     "data": {
      "application/vnd.jupyter.widget-view+json": {
       "model_id": "b6c8964afc1d47948a43bddfcd9a517d",
       "version_major": 2,
       "version_minor": 0
      },
      "text/plain": [
       "HBox(children=(FloatProgress(value=0.0, max=2.0), HTML(value='')))"
      ]
     },
     "metadata": {},
     "output_type": "display_data"
    },
    {
     "name": "stdout",
     "output_type": "stream",
     "text": [
      "\n",
      "Checking connected components after clean_skeleton\n",
      "after DISTANCE cleaning limb size of skeleton = (420, 2, 3)\n",
      "********COMBINING CLOSE SKELETON NODES WITHIN 700 DISTANCE**********\n",
      "Found 0 valid paths to replace\n",
      "valid_paths = []\n",
      "valid_path_lengths = []\n",
      "No valid paths found so just returning the original\n",
      "skeletonize_and_clean_connected_branch_CGAL: 17.85391116142273\n",
      "Working on limb correspondence for #0 MAP piece\n",
      "xvfb-run -n 4097 -s \"-screen 0 800x600x24\" meshlabserver $@  -i /notebooks/Auto_Proofreading/Decomposition_Optimization/Debug_4/temp/neuron_50612.off -o /notebooks/Auto_Proofreading/Decomposition_Optimization/Debug_4/temp/neuron_50612_remove_interior.off -s /notebooks/Auto_Proofreading/Decomposition_Optimization/Debug_4/temp/remove_interior_419636.mls\n",
      "removed temporary input file: /notebooks/Auto_Proofreading/Decomposition_Optimization/Debug_4/temp/neuron_50612.off\n",
      "removed temporary output file: /notebooks/Auto_Proofreading/Decomposition_Optimization/Debug_4/temp/neuron_50612_remove_interior.off\n",
      "/notebooks/Auto_Proofreading/Decomposition_Optimization/Debug_4/temp/remove_interior_419636.mls is being deleted....\n",
      "THERE WERE NO MESH PIECES GREATER THAN THE significance_threshold\n",
      "No significant (100) interior meshes present\n",
      "largest is 65\n"
     ]
    },
    {
     "data": {
      "application/vnd.jupyter.widget-view+json": {
       "model_id": "24d4ca0b50eb44ad8cc7a10d942d1e41",
       "version_major": 2,
       "version_minor": 0
      },
      "text/plain": [
       "HBox(children=(FloatProgress(value=1.0, bar_style='info', max=1.0), HTML(value='')))"
      ]
     },
     "metadata": {},
     "output_type": "display_data"
    },
    {
     "name": "stdout",
     "output_type": "stream",
     "text": [
      "\n",
      "Total time for decomposition = 2.952866315841675\n",
      "mesh_correspondence_first_pass: 2.953049659729004\n",
      "Limb decomposed into 3 branches\n",
      "divided_skeleton_graph_recovered = (420, 2, 3) and \n",
      "current_mesh_data[0]['branch_skeletons_cleaned'].shape = (420, 2, 3)\n",
      "\n",
      "Number of connected components in deocmposed recovered graph = 1\n",
      "Number of connected components in cleaned skeleton graph= 1\n",
      "The downsampled branches number of connected components = 1\n",
      "Empty submeshes = []\n",
      "\n",
      "\n",
      "--- Working on 1-to-1 correspondence-----\n",
      "max(original_labels),len(original_labels) = (2, 3)\n",
      "empty_indices % = 0.20215714178713204\n",
      " conflict_indices % = 0.01707737248146206\n"
     ]
    },
    {
     "data": {
      "application/vnd.jupyter.widget-view+json": {
       "model_id": "70bcec92e9f7453685372f8f0f22cd6b",
       "version_major": 2,
       "version_minor": 0
      },
      "text/plain": [
       "HBox(children=(FloatProgress(value=0.0, max=34.0), HTML(value='')))"
      ]
     },
     "metadata": {},
     "output_type": "display_data"
    },
    {
     "name": "stdout",
     "output_type": "stream",
     "text": [
      "\n",
      "AFTER face_lookup_resolved_test\n",
      "Took 0 iterations to expand the label back\n",
      "empty_indices % = 0.0\n",
      " conflict_indices % = 0.0\n"
     ]
    },
    {
     "data": {
      "application/vnd.jupyter.widget-view+json": {
       "model_id": "e94428b307964a5286e3685b824c0e52",
       "version_major": 2,
       "version_minor": 0
      },
      "text/plain": [
       "HBox(children=(FloatProgress(value=1.0, bar_style='info', max=1.0), HTML(value='')))"
      ]
     },
     "metadata": {},
     "output_type": "display_data"
    },
    {
     "name": "stdout",
     "output_type": "stream",
     "text": [
      "\n",
      "AFTER face_lookup_resolved_test\n"
     ]
    },
    {
     "data": {
      "application/vnd.jupyter.widget-view+json": {
       "model_id": "09d327981e7d414d864d1c516054de84",
       "version_major": 2,
       "version_minor": 0
      },
      "text/plain": [
       "HBox(children=(FloatProgress(value=0.0, max=3.0), HTML(value='')))"
      ]
     },
     "metadata": {},
     "output_type": "display_data"
    },
    {
     "name": "stdout",
     "output_type": "stream",
     "text": [
      "\n",
      "Total time for MAP sublimb #0 mesh processing = 21.923747539520264\n",
      "correspondence_1_to_1: 1.0925931930541992\n",
      "--- Working on MAP piece 1---\n",
      "MAP Filtering Soma Pieces: 0.027745723724365234\n",
      "inside skeletonize_connected_branch and use_surface_after_CGAL=False, surface_reconstruction_size=1000\n",
      "     Starting Screened Poisson\n",
      "xvfb-run -n 4097 -s \"-screen 0 800x600x24\" meshlabserver $@  -i /notebooks/Auto_Proofreading/Decomposition_Optimization/Debug_4/temp/None.off -o /notebooks/Auto_Proofreading/Decomposition_Optimization/Debug_4/temp/None_poisson.off -s /notebooks/Auto_Proofreading/Decomposition_Optimization/Debug_4/temp/poisson_38867.mls\n",
      "removed temporary input file: /notebooks/Auto_Proofreading/Decomposition_Optimization/Debug_4/temp/None.off\n",
      "removed temporary output file: /notebooks/Auto_Proofreading/Decomposition_Optimization/Debug_4/temp/None_poisson.off\n",
      "Using the close holes feature\n",
      "Mesh was manifold\n",
      "No holes needed to fill and mesh was manifold so returning original mesh\n",
      "-----Time for Screened Poisson= 11.017757177352905\n",
      "mesh_pieces = [<trimesh.Trimesh(vertices.shape=(5543, 3), faces.shape=(11082, 3))>]\n",
      "     Starting Calcification (Changed back where stitches large poissons)\n",
      "min_edge_length = 75\n"
     ]
    },
    {
     "data": {
      "application/vnd.jupyter.widget-view+json": {
       "model_id": "ea973b2a03ef4162a32a2591b42a7d4f",
       "version_major": 2,
       "version_minor": 0
      },
      "text/plain": [
       "HBox(children=(FloatProgress(value=1.0, bar_style='info', max=1.0), HTML(value='')))"
      ]
     },
     "metadata": {},
     "output_type": "display_data"
    },
    {
     "name": "stdout",
     "output_type": "stream",
     "text": [
      "\n",
      "No skeletons to stack so returning empty list\n",
      "len_subgraphs AT BEGINNING of the loop\n"
     ]
    },
    {
     "data": {
      "application/vnd.jupyter.widget-view+json": {
       "model_id": "0fddb70c560543218d8667138b736b05",
       "version_major": 2,
       "version_minor": 0
      },
      "text/plain": [
       "HBox(children=(FloatProgress(value=0.0, max=1.0), HTML(value='')))"
      ]
     },
     "metadata": {},
     "output_type": "display_data"
    },
    {
     "name": "stdout",
     "output_type": "stream",
     "text": [
      "all graph is one component!\n",
      "\n",
      "Total time for skeleton stitching = 0.0632317066192627\n",
      "The process was using a temp folder\n",
      "Checking connected components after skeletonize_connected_branch\n",
      "    Total time for skeletonizing branch: 11.622941732406616\n",
      "Checking connected components after removing cycles\n",
      "    Total time for Fixing Skeleton Soma Endpoint Extension : 0.008762121200561523\n",
      "filter_end_node_length = 4000\n",
      "xvfb-run -n 4097 -s \"-screen 0 800x600x24\" meshlabserver $@  -i /notebooks/Auto_Proofreading/Decomposition_Optimization/Debug_4/temp/neuron_61489.off -o /notebooks/Auto_Proofreading/Decomposition_Optimization/Debug_4/temp/neuron_61489_remove_interior.off -s /notebooks/Auto_Proofreading/Decomposition_Optimization/Debug_4/temp/remove_interior_727484.mls\n",
      "removed temporary input file: /notebooks/Auto_Proofreading/Decomposition_Optimization/Debug_4/temp/neuron_61489.off\n",
      "removed temporary output file: /notebooks/Auto_Proofreading/Decomposition_Optimization/Debug_4/temp/neuron_61489_remove_interior.off\n",
      "/notebooks/Auto_Proofreading/Decomposition_Optimization/Debug_4/temp/remove_interior_727484.mls is being deleted....\n",
      "THERE WERE NO MESH PIECES GREATER THAN THE significance_threshold\n",
      "No significant (100) interior meshes present\n",
      "largest is 8\n",
      "Using Distance measure skeletal_distance\n"
     ]
    },
    {
     "data": {
      "application/vnd.jupyter.widget-view+json": {
       "model_id": "12d1209e288441e0a27aaad5f2e4d39a",
       "version_major": 2,
       "version_minor": 0
      },
      "text/plain": [
       "HBox(children=(FloatProgress(value=0.0, max=3.0), HTML(value='')))"
      ]
     },
     "metadata": {},
     "output_type": "display_data"
    },
    {
     "name": "stdout",
     "output_type": "stream",
     "text": [
      "\n",
      "Checking connected components after clean_skeleton\n",
      "after DISTANCE cleaning limb size of skeleton = (136, 2, 3)\n",
      "********COMBINING CLOSE SKELETON NODES WITHIN 700 DISTANCE**********\n",
      "Found 0 valid paths to replace\n",
      "valid_paths = []\n",
      "valid_path_lengths = []\n",
      "No valid paths found so just returning the original\n",
      "Inside MAP decomposition and curr_limb_endpoints_must_keep was None\n",
      "skeletonize_and_clean_connected_branch_CGAL: 13.369407415390015\n",
      "Working on limb correspondence for #1 MAP piece\n",
      "xvfb-run -n 4097 -s \"-screen 0 800x600x24\" meshlabserver $@  -i /notebooks/Auto_Proofreading/Decomposition_Optimization/Debug_4/temp/neuron_92324.off -o /notebooks/Auto_Proofreading/Decomposition_Optimization/Debug_4/temp/neuron_92324_remove_interior.off -s /notebooks/Auto_Proofreading/Decomposition_Optimization/Debug_4/temp/remove_interior_258502.mls\n",
      "removed temporary input file: /notebooks/Auto_Proofreading/Decomposition_Optimization/Debug_4/temp/neuron_92324.off\n",
      "removed temporary output file: /notebooks/Auto_Proofreading/Decomposition_Optimization/Debug_4/temp/neuron_92324_remove_interior.off\n",
      "/notebooks/Auto_Proofreading/Decomposition_Optimization/Debug_4/temp/remove_interior_258502.mls is being deleted....\n",
      "THERE WERE NO MESH PIECES GREATER THAN THE significance_threshold\n",
      "No significant (100) interior meshes present\n",
      "largest is 8\n"
     ]
    },
    {
     "data": {
      "application/vnd.jupyter.widget-view+json": {
       "model_id": "5aaab28c145b4bccaa46e28127f83704",
       "version_major": 2,
       "version_minor": 0
      },
      "text/plain": [
       "HBox(children=(FloatProgress(value=1.0, bar_style='info', max=1.0), HTML(value='')))"
      ]
     },
     "metadata": {},
     "output_type": "display_data"
    },
    {
     "name": "stdout",
     "output_type": "stream",
     "text": [
      "\n",
      "Total time for decomposition = 1.7631897926330566\n",
      "mesh_correspondence_first_pass: 1.7633564472198486\n",
      "Limb decomposed into 1 branches\n",
      "divided_skeleton_graph_recovered = (136, 2, 3) and \n",
      "current_mesh_data[0]['branch_skeletons_cleaned'].shape = (136, 2, 3)\n",
      "\n",
      "Number of connected components in deocmposed recovered graph = 1\n",
      "Number of connected components in cleaned skeleton graph= 1\n",
      "The downsampled branches number of connected components = 1\n",
      "Empty submeshes = []\n",
      "\n",
      "\n",
      "--- Working on 1-to-1 correspondence-----\n",
      "max(original_labels),len(original_labels) = (0, 1)\n",
      "empty_indices % = 0.23525446579036063\n",
      " conflict_indices % = 0.0\n"
     ]
    },
    {
     "data": {
      "application/vnd.jupyter.widget-view+json": {
       "model_id": "1e5f0aa26b754805a5bafa62520df087",
       "version_major": 2,
       "version_minor": 0
      },
      "text/plain": [
       "HBox(children=(FloatProgress(value=0.0, max=22.0), HTML(value='')))"
      ]
     },
     "metadata": {},
     "output_type": "display_data"
    },
    {
     "name": "stdout",
     "output_type": "stream",
     "text": [
      "\n",
      "AFTER face_lookup_resolved_test\n"
     ]
    },
    {
     "data": {
      "application/vnd.jupyter.widget-view+json": {
       "model_id": "c26475c7252d4cbeaf80398bcf1c78ac",
       "version_major": 2,
       "version_minor": 0
      },
      "text/plain": [
       "HBox(children=(FloatProgress(value=0.0, max=1.0), HTML(value='')))"
      ]
     },
     "metadata": {},
     "output_type": "display_data"
    },
    {
     "name": "stdout",
     "output_type": "stream",
     "text": [
      "\n",
      "Total time for MAP sublimb #1 mesh processing = 15.484681367874146\n",
      "correspondence_1_to_1: 0.32421207427978516\n",
      "--- Working on MAP piece 2---\n",
      "MAP Filtering Soma Pieces: 0.02055215835571289\n",
      "inside skeletonize_connected_branch and use_surface_after_CGAL=False, surface_reconstruction_size=1000\n",
      "     Starting Screened Poisson\n",
      "xvfb-run -n 4097 -s \"-screen 0 800x600x24\" meshlabserver $@  -i /notebooks/Auto_Proofreading/Decomposition_Optimization/Debug_4/temp/None.off -o /notebooks/Auto_Proofreading/Decomposition_Optimization/Debug_4/temp/None_poisson.off -s /notebooks/Auto_Proofreading/Decomposition_Optimization/Debug_4/temp/poisson_243809.mls\n",
      "removed temporary input file: /notebooks/Auto_Proofreading/Decomposition_Optimization/Debug_4/temp/None.off\n",
      "removed temporary output file: /notebooks/Auto_Proofreading/Decomposition_Optimization/Debug_4/temp/None_poisson.off\n",
      "Using the close holes feature\n",
      "Mesh was manifold\n",
      "No holes needed to fill and mesh was manifold so returning original mesh\n",
      "-----Time for Screened Poisson= 24.3119797706604\n",
      "mesh_pieces = [<trimesh.Trimesh(vertices.shape=(33439, 3), faces.shape=(66874, 3))>]\n",
      "     Starting Calcification (Changed back where stitches large poissons)\n",
      "min_edge_length = 75\n"
     ]
    },
    {
     "data": {
      "application/vnd.jupyter.widget-view+json": {
       "model_id": "ef4a4ce607a14414b972f1769513bb7d",
       "version_major": 2,
       "version_minor": 0
      },
      "text/plain": [
       "HBox(children=(FloatProgress(value=1.0, bar_style='info', max=1.0), HTML(value='')))"
      ]
     },
     "metadata": {},
     "output_type": "display_data"
    },
    {
     "name": "stdout",
     "output_type": "stream",
     "text": [
      "\n",
      "No skeletons to stack so returning empty list\n",
      "len_subgraphs AT BEGINNING of the loop\n"
     ]
    },
    {
     "data": {
      "application/vnd.jupyter.widget-view+json": {
       "model_id": "128af1c3b5bf474e90ab2b3b6e43bac7",
       "version_major": 2,
       "version_minor": 0
      },
      "text/plain": [
       "HBox(children=(FloatProgress(value=0.0, max=1.0), HTML(value='')))"
      ]
     },
     "metadata": {},
     "output_type": "display_data"
    },
    {
     "name": "stdout",
     "output_type": "stream",
     "text": [
      "all graph is one component!\n",
      "\n",
      "Total time for skeleton stitching = 0.08461856842041016\n",
      "The process was using a temp folder\n",
      "Checking connected components after skeletonize_connected_branch\n",
      "    Total time for skeletonizing branch: 27.7668559551239\n",
      "Checking connected components after removing cycles\n",
      "Total time for mesh KDTree = 0.21997523307800293\n",
      "sbv[0].reshape(-1,3) = [[608475. 655599. 947373.]]\n",
      "closest_sk_pt_coord BEFORE = [608322. 655997. 946522.]\n",
      "current_skeleton.shape = (815, 2, 3)\n",
      "node_for_stitch = 815: [608322. 655997. 946522.]\n",
      "node_for_stitch AFTER = 815: [608322. 655997. 946522.]\n",
      "possible_node_loc = [  0  74 109 123 157 179 213 268 300 457 639 713 768 813 815]\n",
      "possible_node_loc AFTER = [  0  74 109 123 157 179 213 268 300 457 639 713 768 813 815]\n",
      "curr_shortest_path = [815]\n",
      "Current stitch point was a branch or endpoint\n",
      "change_status for create soma extending pieces = False\n",
      "closest_sk_pt_coord AFTER = [608322. 655997. 946522.]\n",
      "skipping soma 0 because closest skeleton node was already end node\n",
      "endpoints_must_keep = {0: array([[608322., 655997., 946522.]])}\n",
      "    Total time for Fixing Skeleton Soma Endpoint Extension : 0.5174169540405273\n",
      "filter_end_node_length = 4000\n",
      "Using Distance measure skeletal_distance\n",
      "endpoints_must_keep = [[608322. 655997. 946522.]]\n",
      "Number of end_nodes BEFORE filtering = 15\n",
      "all_single_nodes_to_eliminate = [14]\n"
     ]
    },
    {
     "data": {
      "application/vnd.jupyter.widget-view+json": {
       "model_id": "ebb3394e096b43b390b723b951b71b39",
       "version_major": 2,
       "version_minor": 0
      },
      "text/plain": [
       "HBox(children=(FloatProgress(value=0.0, max=12.0), HTML(value='')))"
      ]
     },
     "metadata": {},
     "output_type": "display_data"
    },
    {
     "name": "stdout",
     "output_type": "stream",
     "text": [
      "\n",
      "Checking connected components after clean_skeleton\n",
      "after DISTANCE cleaning limb size of skeleton = (771, 2, 3)\n",
      "********COMBINING CLOSE SKELETON NODES WITHIN 700 DISTANCE**********\n",
      "Found 0 valid paths to replace\n",
      "valid_paths = []\n",
      "valid_path_lengths = []\n",
      "No valid paths found so just returning the original\n",
      "skeletonize_and_clean_connected_branch_CGAL: 30.251160621643066\n",
      "Working on limb correspondence for #2 MAP piece\n",
      "xvfb-run -n 4097 -s \"-screen 0 800x600x24\" meshlabserver $@  -i /notebooks/Auto_Proofreading/Decomposition_Optimization/Debug_4/temp/neuron_88741.off -o /notebooks/Auto_Proofreading/Decomposition_Optimization/Debug_4/temp/neuron_88741_remove_interior.off -s /notebooks/Auto_Proofreading/Decomposition_Optimization/Debug_4/temp/remove_interior_123987.mls\n",
      "removed temporary input file: /notebooks/Auto_Proofreading/Decomposition_Optimization/Debug_4/temp/neuron_88741.off\n",
      "removed temporary output file: /notebooks/Auto_Proofreading/Decomposition_Optimization/Debug_4/temp/neuron_88741_remove_interior.off\n",
      "/notebooks/Auto_Proofreading/Decomposition_Optimization/Debug_4/temp/remove_interior_123987.mls is being deleted....\n",
      "THERE WERE NO MESH PIECES GREATER THAN THE significance_threshold\n",
      "No significant (100) interior meshes present\n",
      "largest is 13\n"
     ]
    },
    {
     "data": {
      "application/vnd.jupyter.widget-view+json": {
       "model_id": "039121aab0df4447b08fe2b07b1cbfe6",
       "version_major": 2,
       "version_minor": 0
      },
      "text/plain": [
       "HBox(children=(FloatProgress(value=1.0, bar_style='info', max=1.0), HTML(value='')))"
      ]
     },
     "metadata": {},
     "output_type": "display_data"
    },
    {
     "name": "stdout",
     "output_type": "stream",
     "text": [
      "\n",
      "Total time for decomposition = 4.837469577789307\n",
      "mesh_correspondence_first_pass: 4.837510824203491\n",
      "Limb decomposed into 3 branches\n",
      "divided_skeleton_graph_recovered = (771, 2, 3) and \n",
      "current_mesh_data[0]['branch_skeletons_cleaned'].shape = (771, 2, 3)\n",
      "\n",
      "Number of connected components in deocmposed recovered graph = 1\n",
      "Number of connected components in cleaned skeleton graph= 1\n",
      "The downsampled branches number of connected components = 1\n",
      "Empty submeshes = []\n",
      "\n",
      "\n",
      "--- Working on 1-to-1 correspondence-----\n",
      "max(original_labels),len(original_labels) = (2, 3)\n",
      "empty_indices % = 0.2562815809510625\n",
      " conflict_indices % = 0.017685332595002424\n"
     ]
    },
    {
     "data": {
      "application/vnd.jupyter.widget-view+json": {
       "model_id": "ca57e4b688574e4090e71c54bcae9901",
       "version_major": 2,
       "version_minor": 0
      },
      "text/plain": [
       "HBox(children=(FloatProgress(value=0.0, max=81.0), HTML(value='')))"
      ]
     },
     "metadata": {},
     "output_type": "display_data"
    },
    {
     "name": "stdout",
     "output_type": "stream",
     "text": [
      "\n",
      "AFTER face_lookup_resolved_test\n",
      "Took 0 iterations to expand the label back\n",
      "empty_indices % = 0.0\n",
      " conflict_indices % = 0.0\n"
     ]
    },
    {
     "data": {
      "application/vnd.jupyter.widget-view+json": {
       "model_id": "bc8619de3ba945e09fb4eca7fde201e2",
       "version_major": 2,
       "version_minor": 0
      },
      "text/plain": [
       "HBox(children=(FloatProgress(value=1.0, bar_style='info', max=1.0), HTML(value='')))"
      ]
     },
     "metadata": {},
     "output_type": "display_data"
    },
    {
     "name": "stdout",
     "output_type": "stream",
     "text": [
      "\n",
      "AFTER face_lookup_resolved_test\n"
     ]
    },
    {
     "data": {
      "application/vnd.jupyter.widget-view+json": {
       "model_id": "ca86159ab3194607a97d036c1c4aea39",
       "version_major": 2,
       "version_minor": 0
      },
      "text/plain": [
       "HBox(children=(FloatProgress(value=0.0, max=3.0), HTML(value='')))"
      ]
     },
     "metadata": {},
     "output_type": "display_data"
    },
    {
     "name": "stdout",
     "output_type": "stream",
     "text": [
      "\n",
      "Total time for MAP sublimb #2 mesh processing = 37.35829019546509\n",
      "correspondence_1_to_1: 2.2487597465515137\n",
      "Total time for MAP sublimb processing 74.76794910430908\n",
      "---- Working on MP Decomposition #0 ----\n",
      "Computing the current soma touching verts dict manually\n",
      "MP filtering soma verts: 0.0030126571655273438\n",
      "Do Not Need to Fix MP Decomposition 0 so just continuing\n",
      "---- Working on MP Decomposition #1 ----\n",
      "Computing the current soma touching verts dict manually\n",
      "MP filtering soma verts: 0.024831771850585938\n",
      "Do Not Need to Fix MP Decomposition 1 so just continuing\n",
      "---- Working on MP Decomposition #2 ----\n",
      "Computing the current soma touching verts dict manually\n",
      "MP filtering soma verts: 0.0272979736328125\n",
      "Fixing Possible Soma Extension Branch for Sublimb 2\n",
      "Total time for mesh KDTree = 0.19556856155395508\n",
      "sbv[0].reshape(-1,3) = [[615846. 654108. 946428.]]\n",
      "On iteration 0 the filter points were empty with close_nodes len = 1412, len(all_skeleton_points) = 594, len(sk_points_closest_nodes) = 594\n",
      "closest_sk_pt_coord BEFORE = [617396.37146276 655353.39244082 937682.23369643]\n",
      "current_skeleton.shape = (593, 2, 3)\n",
      "node_for_stitch = 463: [617396.37146276 655353.39244082 937682.23369643]\n",
      "node_for_stitch AFTER = 463: [617396.37146276 655353.39244082 937682.23369643]\n",
      "possible_node_loc = [  0 593]\n",
      "possible_node_loc AFTER = [  0 593]\n",
      "curr_shortest_path = [463, 464.0, 465.0, 466.0, 467.0, 468.0, 469.0, 470.0, 471.0, 472.0, 473.0, 474.0, 475.0, 476.0, 477.0, 478.0, 479.0, 480.0, 481.0, 482.0, 483.0, 484.0, 485.0, 486.0, 487.0, 488.0, 489.0, 490.0, 491.0, 492.0, 493.0, 494.0, 495.0, 496.0, 497.0, 498.0, 499.0, 500.0, 501.0, 502.0, 503.0, 504.0, 505.0, 506.0, 507.0, 508.0, 509.0, 510.0, 511.0, 512.0, 513.0, 514.0, 515.0, 516.0, 517.0, 518.0, 519.0, 520.0, 521.0, 522.0, 523.0, 524.0, 525.0, 526.0, 527.0, 528.0, 529.0, 530.0, 531.0, 532.0, 533.0, 534.0, 535.0, 536.0, 537.0, 538.0, 539.0, 540.0, 541.0, 542.0, 543.0, 544.0, 545.0, 546.0, 547.0, 548.0, 549.0, 550.0, 551.0, 552.0, 553.0, 554.0, 555.0, 556.0, 557.0, 558.0, 559.0, 560.0, 561.0, 562.0, 563.0, 564.0, 565.0, 566.0, 567.0, 568.0, 569.0, 570.0, 571.0, 572.0, 573.0, 574.0, 575.0, 576.0, 577.0, 578.0, 579.0, 580.0, 581.0, 582.0, 583.0, 584.0, 585.0, 586.0, 587.0, 588.0, 589.0, 590.0, 591.0, 592.0, 593.0]\n",
      "Current stitch point was not a branch or endpoint, shortest_path_length to one = 12976.20367186432\n",
      "change_status for create soma extending pieces = False\n",
      "closest_sk_pt_coord AFTER = [617396.37146276 655353.39244082 937682.23369643]\n",
      "Adding new branch to skeleton\n",
      "border_average_coordinate = [616300.78846154 654203.36153846 946664.02692308]\n",
      "endpoints_must_keep = {0: array([[616300.78846154, 654203.36153846, 946664.02692308]])}\n",
      "match_sk_branches = []\n",
      "orig_vertex = [617396.37146276 655353.39244082 937682.23369643]\n",
      "match_sk_branches = [0]\n"
     ]
    },
    {
     "data": {
      "application/vnd.jupyter.widget-view+json": {
       "model_id": "67ca86aca2704181ae57fcfb2d65bad3",
       "version_major": 2,
       "version_minor": 0
      },
      "text/plain": [
       "HBox(children=(FloatProgress(value=1.0, bar_style='info', max=1.0), HTML(value='')))"
      ]
     },
     "metadata": {},
     "output_type": "display_data"
    },
    {
     "name": "stdout",
     "output_type": "stream",
     "text": [
      "\n",
      "\n",
      "\n",
      "--- Working on 1-to-1 correspondence-----\n",
      "max(original_labels),len(original_labels) = (2, 3)\n",
      "empty_indices % = 0.20195934913574687\n",
      " conflict_indices % = 0.04521141827599797\n"
     ]
    },
    {
     "data": {
      "application/vnd.jupyter.widget-view+json": {
       "model_id": "377d95078c404c2ea3cca21a57169775",
       "version_major": 2,
       "version_minor": 0
      },
      "text/plain": [
       "HBox(children=(FloatProgress(value=0.0, max=47.0), HTML(value='')))"
      ]
     },
     "metadata": {},
     "output_type": "display_data"
    },
    {
     "name": "stdout",
     "output_type": "stream",
     "text": [
      "\n",
      "AFTER face_lookup_resolved_test\n",
      "Took 0 iterations to expand the label back\n",
      "empty_indices % = 0.0\n",
      " conflict_indices % = 0.0\n"
     ]
    },
    {
     "data": {
      "application/vnd.jupyter.widget-view+json": {
       "model_id": "58de6aec6b1d479db88462daa8c94883",
       "version_major": 2,
       "version_minor": 0
      },
      "text/plain": [
       "HBox(children=(FloatProgress(value=1.0, bar_style='info', max=1.0), HTML(value='')))"
      ]
     },
     "metadata": {},
     "output_type": "display_data"
    },
    {
     "name": "stdout",
     "output_type": "stream",
     "text": [
      "\n",
      "AFTER face_lookup_resolved_test\n"
     ]
    },
    {
     "data": {
      "application/vnd.jupyter.widget-view+json": {
       "model_id": "ae3e25f71c5c45ee808312f9f6c25a47",
       "version_major": 2,
       "version_minor": 0
      },
      "text/plain": [
       "HBox(children=(FloatProgress(value=0.0, max=3.0), HTML(value='')))"
      ]
     },
     "metadata": {},
     "output_type": "display_data"
    },
    {
     "name": "stdout",
     "output_type": "stream",
     "text": [
      "\n",
      "curr_width_median = 365.19410484500554\n",
      "curr_width_median = 581.5311966408871\n",
      "curr_width_median = 898.2643538684969\n",
      "checked segment branches after soma add on\n",
      "MP (because soma touching verts) soma extension add: 4.613852024078369\n",
      "---- Working on MP Decomposition #3 ----\n",
      "Computing the current soma touching verts dict manually\n",
      "MP filtering soma verts: 0.03240346908569336\n",
      "Do Not Need to Fix MP Decomposition 3 so just continuing\n",
      "---- Working on MP Decomposition #4 ----\n",
      "Computing the current soma touching verts dict manually\n",
      "MP filtering soma verts: 0.05474996566772461\n",
      "Do Not Need to Fix MP Decomposition 4 so just continuing\n",
      "Successful mesh connectivity with type edges\n",
      "\n",
      "---- Working on (0, 0) connection-----\n",
      "sk_conn = [1, 3]\n",
      "conn = [1, 3]\n",
      "winning_vertex = [639929.73330971 657573.10493967 955415.11534563]\n",
      "MP_branches_with_stitch_point = [1, 3]\n",
      "MAP_branches_with_stitch_point = [2]\n",
      "MAP_stitch_point_on_end_or_branch = True\n"
     ]
    },
    {
     "data": {
      "application/vnd.jupyter.widget-view+json": {
       "model_id": "08254dbfe23e46acb34cedf8bbce1430",
       "version_major": 2,
       "version_minor": 0
      },
      "text/plain": [
       "HBox(children=(FloatProgress(value=1.0, bar_style='info', max=1.0), HTML(value='')))"
      ]
     },
     "metadata": {},
     "output_type": "display_data"
    },
    {
     "name": "stdout",
     "output_type": "stream",
     "text": [
      "\n",
      "\n",
      "\n",
      "--- Working on 1-to-1 correspondence-----\n",
      "max(original_labels),len(original_labels) = (2, 3)\n",
      "empty_indices % = 0.4033658520231989\n",
      " conflict_indices % = 0.006403164705487948\n"
     ]
    },
    {
     "data": {
      "application/vnd.jupyter.widget-view+json": {
       "model_id": "3a5ba6c6155943218ccd7d3c3ab0580c",
       "version_major": 2,
       "version_minor": 0
      },
      "text/plain": [
       "HBox(children=(FloatProgress(value=0.0, max=70.0), HTML(value='')))"
      ]
     },
     "metadata": {},
     "output_type": "display_data"
    },
    {
     "name": "stdout",
     "output_type": "stream",
     "text": [
      "\n",
      "AFTER face_lookup_resolved_test\n"
     ]
    },
    {
     "data": {
      "application/vnd.jupyter.widget-view+json": {
       "model_id": "2366986287a34746b662bee603cb22be",
       "version_major": 2,
       "version_minor": 0
      },
      "text/plain": [
       "HBox(children=(FloatProgress(value=0.0, max=3.0), HTML(value='')))"
      ]
     },
     "metadata": {},
     "output_type": "display_data"
    },
    {
     "name": "stdout",
     "output_type": "stream",
     "text": [
      "\n",
      "MP_branches_with_stitch_point= [1, 3]\n",
      "MP_branches_for_correspondence = [1 3]\n",
      "MP_leftover = [], MP_leftover_idx = []\n",
      " Finished with (0, 0) \n",
      "\n",
      "\n",
      "\n",
      "\n",
      "---- Working on (1, 0) connection-----\n",
      "sk_conn = [0, 1]\n",
      "conn = [0, 1]\n",
      "winning_vertex = [644177.05800214 646777.55026964 926005.13028457]\n",
      "MP_branches_with_stitch_point = [0, 1]\n",
      "MAP_branches_with_stitch_point = [1]\n",
      "MAP_stitch_point_on_end_or_branch = True\n"
     ]
    },
    {
     "data": {
      "application/vnd.jupyter.widget-view+json": {
       "model_id": "f7700416ee034584bf67c3da1f83b083",
       "version_major": 2,
       "version_minor": 0
      },
      "text/plain": [
       "HBox(children=(FloatProgress(value=1.0, bar_style='info', max=1.0), HTML(value='')))"
      ]
     },
     "metadata": {},
     "output_type": "display_data"
    },
    {
     "name": "stdout",
     "output_type": "stream",
     "text": [
      "\n",
      "\n",
      "\n",
      "--- Working on 1-to-1 correspondence-----\n",
      "max(original_labels),len(original_labels) = (2, 3)\n",
      "empty_indices % = 0.2919395558157404\n",
      " conflict_indices % = 0.0032197870549924993\n"
     ]
    },
    {
     "data": {
      "application/vnd.jupyter.widget-view+json": {
       "model_id": "7d2870bc9fd14862ab716de75dd97803",
       "version_major": 2,
       "version_minor": 0
      },
      "text/plain": [
       "HBox(children=(FloatProgress(value=0.0, max=74.0), HTML(value='')))"
      ]
     },
     "metadata": {},
     "output_type": "display_data"
    },
    {
     "name": "stdout",
     "output_type": "stream",
     "text": [
      "\n",
      "AFTER face_lookup_resolved_test\n"
     ]
    },
    {
     "data": {
      "application/vnd.jupyter.widget-view+json": {
       "model_id": "29003f8e018a4a218a9d3f1121a24add",
       "version_major": 2,
       "version_minor": 0
      },
      "text/plain": [
       "HBox(children=(FloatProgress(value=0.0, max=3.0), HTML(value='')))"
      ]
     },
     "metadata": {},
     "output_type": "display_data"
    },
    {
     "name": "stdout",
     "output_type": "stream",
     "text": [
      "\n",
      "MP_branches_with_stitch_point= [0, 1]\n",
      "MP_branches_for_correspondence = [0 1]\n",
      "MP_leftover = [], MP_leftover_idx = []\n",
      " Finished with (1, 0) \n",
      "\n",
      "\n",
      "\n",
      "\n",
      "---- Working on (1, 1) connection-----\n",
      "sk_conn = [0, 2]\n",
      "conn = [0, 2]\n",
      "winning_vertex = [645633.58675118 649330.73800285 925945.77648698]\n",
      "MP_branches_with_stitch_point = [0, 2]\n",
      "MAP_branches_with_stitch_point = [0]\n",
      "MAP_stitch_point_on_end_or_branch = True\n"
     ]
    },
    {
     "data": {
      "application/vnd.jupyter.widget-view+json": {
       "model_id": "d1cd2f8af4674830b540f408ed367f0b",
       "version_major": 2,
       "version_minor": 0
      },
      "text/plain": [
       "HBox(children=(FloatProgress(value=1.0, bar_style='info', max=1.0), HTML(value='')))"
      ]
     },
     "metadata": {},
     "output_type": "display_data"
    },
    {
     "name": "stdout",
     "output_type": "stream",
     "text": [
      "\n",
      "\n",
      "\n",
      "--- Working on 1-to-1 correspondence-----\n",
      "max(original_labels),len(original_labels) = (2, 3)\n",
      "empty_indices % = 0.20009298333452544\n",
      " conflict_indices % = 0.006544596237751234\n"
     ]
    },
    {
     "data": {
      "application/vnd.jupyter.widget-view+json": {
       "model_id": "9a365d226cd34469bf50518359589514",
       "version_major": 2,
       "version_minor": 0
      },
      "text/plain": [
       "HBox(children=(FloatProgress(value=0.0, max=67.0), HTML(value='')))"
      ]
     },
     "metadata": {},
     "output_type": "display_data"
    },
    {
     "name": "stdout",
     "output_type": "stream",
     "text": [
      "\n",
      "AFTER face_lookup_resolved_test\n"
     ]
    },
    {
     "data": {
      "application/vnd.jupyter.widget-view+json": {
       "model_id": "7875d49114aa41bcaa343706dff124f7",
       "version_major": 2,
       "version_minor": 0
      },
      "text/plain": [
       "HBox(children=(FloatProgress(value=0.0, max=3.0), HTML(value='')))"
      ]
     },
     "metadata": {},
     "output_type": "display_data"
    },
    {
     "name": "stdout",
     "output_type": "stream",
     "text": [
      "\n",
      "MP_branches_with_stitch_point= [0, 2]\n",
      "MP_branches_for_correspondence = [0 2]\n",
      "MP_leftover = [], MP_leftover_idx = []\n",
      " Finished with (1, 1) \n",
      "\n",
      "\n",
      "\n",
      "\n",
      "---- Working on (2, 1) connection-----\n",
      "sk_conn = [3, 5]\n",
      "conn = [3, 5]\n",
      "winning_vertex = [629620.70135578 653194.42005651 934892.56394656]\n",
      "MP_branches_with_stitch_point = [3, 5]\n",
      "MAP_branches_with_stitch_point = [0]\n",
      "MAP_stitch_point_on_end_or_branch = True\n"
     ]
    },
    {
     "data": {
      "application/vnd.jupyter.widget-view+json": {
       "model_id": "86fdeb0ec0634491a3324c4a046b4909",
       "version_major": 2,
       "version_minor": 0
      },
      "text/plain": [
       "HBox(children=(FloatProgress(value=1.0, bar_style='info', max=1.0), HTML(value='')))"
      ]
     },
     "metadata": {},
     "output_type": "display_data"
    },
    {
     "name": "stdout",
     "output_type": "stream",
     "text": [
      "\n",
      "\n",
      "\n",
      "--- Working on 1-to-1 correspondence-----\n",
      "max(original_labels),len(original_labels) = (2, 3)\n",
      "empty_indices % = 0.28942387514527645\n",
      " conflict_indices % = 0.004117549393989706\n"
     ]
    },
    {
     "data": {
      "application/vnd.jupyter.widget-view+json": {
       "model_id": "ebd0699b1029465aa5dd63c0f87ae2a5",
       "version_major": 2,
       "version_minor": 0
      },
      "text/plain": [
       "HBox(children=(FloatProgress(value=0.0, max=83.0), HTML(value='')))"
      ]
     },
     "metadata": {},
     "output_type": "display_data"
    },
    {
     "name": "stdout",
     "output_type": "stream",
     "text": [
      "\n",
      "AFTER face_lookup_resolved_test\n"
     ]
    },
    {
     "data": {
      "application/vnd.jupyter.widget-view+json": {
       "model_id": "41603c488fc149d29fc95668c8c5817d",
       "version_major": 2,
       "version_minor": 0
      },
      "text/plain": [
       "HBox(children=(FloatProgress(value=0.0, max=3.0), HTML(value='')))"
      ]
     },
     "metadata": {},
     "output_type": "display_data"
    },
    {
     "name": "stdout",
     "output_type": "stream",
     "text": [
      "\n",
      "MP_branches_with_stitch_point= [3, 5]\n",
      "MP_branches_for_correspondence = [3 5]\n",
      "MP_leftover = [], MP_leftover_idx = []\n",
      " Finished with (2, 1) \n",
      "\n",
      "\n",
      "\n",
      "\n",
      "---- Working on (2, 2) connection-----\n",
      "sk_conn = [0, 2]\n",
      "conn = [0, 2]\n",
      "winning_vertex = [585078.61595191 650233.48781973 908145.09053186]\n",
      "MP_branches_with_stitch_point = [0, 2]\n",
      "MAP_branches_with_stitch_point = [1]\n",
      "MAP_stitch_point_on_end_or_branch = True\n"
     ]
    },
    {
     "data": {
      "application/vnd.jupyter.widget-view+json": {
       "model_id": "07cdacad562b4982b198fe4ccccc2cac",
       "version_major": 2,
       "version_minor": 0
      },
      "text/plain": [
       "HBox(children=(FloatProgress(value=1.0, bar_style='info', max=1.0), HTML(value='')))"
      ]
     },
     "metadata": {},
     "output_type": "display_data"
    },
    {
     "name": "stdout",
     "output_type": "stream",
     "text": [
      "\n",
      "\n",
      "\n",
      "--- Working on 1-to-1 correspondence-----\n",
      "max(original_labels),len(original_labels) = (2, 3)\n",
      "empty_indices % = 0.27561880808514555\n",
      " conflict_indices % = 0.006778517314357574\n"
     ]
    },
    {
     "data": {
      "application/vnd.jupyter.widget-view+json": {
       "model_id": "c9032efc812341608fbd589697dd5b43",
       "version_major": 2,
       "version_minor": 0
      },
      "text/plain": [
       "HBox(children=(FloatProgress(value=0.0, max=90.0), HTML(value='')))"
      ]
     },
     "metadata": {},
     "output_type": "display_data"
    },
    {
     "name": "stdout",
     "output_type": "stream",
     "text": [
      "\n",
      "AFTER face_lookup_resolved_test\n"
     ]
    },
    {
     "data": {
      "application/vnd.jupyter.widget-view+json": {
       "model_id": "6bff8a27c1044817bb250940d9e14dbc",
       "version_major": 2,
       "version_minor": 0
      },
      "text/plain": [
       "HBox(children=(FloatProgress(value=0.0, max=3.0), HTML(value='')))"
      ]
     },
     "metadata": {},
     "output_type": "display_data"
    },
    {
     "name": "stdout",
     "output_type": "stream",
     "text": [
      "\n",
      "MP_branches_with_stitch_point= [0, 2]\n",
      "MP_branches_for_correspondence = [0 2]\n",
      "MP_leftover = [], MP_leftover_idx = []\n",
      " Finished with (2, 2) \n",
      "\n",
      "\n",
      "\n",
      "\n",
      "---- Working on (3, 2) connection-----\n",
      "sk_conn = [20]\n",
      "conn = [20]\n",
      "winning_vertex = [558137.70144254 671386.39126388 960350.17866194]\n",
      "MP_branches_with_stitch_point = [5, 20, 21]\n",
      "MAP_branches_with_stitch_point = [0]\n",
      "MAP_stitch_point_on_end_or_branch = True\n"
     ]
    },
    {
     "data": {
      "application/vnd.jupyter.widget-view+json": {
       "model_id": "11160c0521f4447bbd440c975c3d5472",
       "version_major": 2,
       "version_minor": 0
      },
      "text/plain": [
       "HBox(children=(FloatProgress(value=1.0, bar_style='info', max=1.0), HTML(value='')))"
      ]
     },
     "metadata": {},
     "output_type": "display_data"
    },
    {
     "name": "stdout",
     "output_type": "stream",
     "text": [
      "\n",
      "\n",
      "\n",
      "--- Working on 1-to-1 correspondence-----\n",
      "max(original_labels),len(original_labels) = (1, 2)\n",
      "empty_indices % = 0.2545837657640658\n",
      " conflict_indices % = 0.0007547881875648646\n"
     ]
    },
    {
     "data": {
      "application/vnd.jupyter.widget-view+json": {
       "model_id": "66743e4e385046d6b0c44703f35ab0e3",
       "version_major": 2,
       "version_minor": 0
      },
      "text/plain": [
       "HBox(children=(FloatProgress(value=0.0, max=68.0), HTML(value='')))"
      ]
     },
     "metadata": {},
     "output_type": "display_data"
    },
    {
     "name": "stdout",
     "output_type": "stream",
     "text": [
      "\n",
      "AFTER face_lookup_resolved_test\n"
     ]
    },
    {
     "data": {
      "application/vnd.jupyter.widget-view+json": {
       "model_id": "b45936fb2225451caf82498bfc77ed80",
       "version_major": 2,
       "version_minor": 0
      },
      "text/plain": [
       "HBox(children=(FloatProgress(value=0.0, max=2.0), HTML(value='')))"
      ]
     },
     "metadata": {},
     "output_type": "display_data"
    },
    {
     "name": "stdout",
     "output_type": "stream",
     "text": [
      "\n",
      "MP_branches_with_stitch_point= [5, 20, 21]\n",
      "MP_branches_for_correspondence = [20]\n",
      "MP_leftover = [ 5 21], MP_leftover_idx = [0 2]\n",
      " Finished with (3, 2) \n",
      "\n",
      "\n",
      "\n",
      "\n",
      "---- Working on (4, 2) connection-----\n",
      "sk_conn = [0]\n",
      "conn = [0]\n",
      "winning_vertex = [599044.66272992 660966.13391406 935470.92290971]\n",
      "MP_branches_with_stitch_point = [0]\n",
      "MAP_branches_with_stitch_point = [1]\n",
      "MAP_stitch_point_on_end_or_branch = False\n"
     ]
    },
    {
     "data": {
      "application/vnd.jupyter.widget-view+json": {
       "model_id": "f6d3432227dd479cb4b875f6b3a85138",
       "version_major": 2,
       "version_minor": 0
      },
      "text/plain": [
       "HBox(children=(FloatProgress(value=1.0, bar_style='info', max=1.0), HTML(value='')))"
      ]
     },
     "metadata": {},
     "output_type": "display_data"
    },
    {
     "name": "stdout",
     "output_type": "stream",
     "text": [
      "\n",
      "\n",
      "\n",
      "--- Working on 1-to-1 correspondence-----\n",
      "max(original_labels),len(original_labels) = (1, 2)\n",
      "empty_indices % = 0.32943510493891615\n",
      " conflict_indices % = 0.005116424767672548\n"
     ]
    },
    {
     "data": {
      "application/vnd.jupyter.widget-view+json": {
       "model_id": "21d61ea2c2134228b60aa37caec9e49b",
       "version_major": 2,
       "version_minor": 0
      },
      "text/plain": [
       "HBox(children=(FloatProgress(value=0.0, max=26.0), HTML(value='')))"
      ]
     },
     "metadata": {},
     "output_type": "display_data"
    },
    {
     "name": "stdout",
     "output_type": "stream",
     "text": [
      "\n",
      "AFTER face_lookup_resolved_test\n"
     ]
    },
    {
     "data": {
      "application/vnd.jupyter.widget-view+json": {
       "model_id": "36b6db5847c9489487d589cc03208963",
       "version_major": 2,
       "version_minor": 0
      },
      "text/plain": [
       "HBox(children=(FloatProgress(value=0.0, max=2.0), HTML(value='')))"
      ]
     },
     "metadata": {},
     "output_type": "display_data"
    },
    {
     "name": "stdout",
     "output_type": "stream",
     "text": [
      "\n"
     ]
    },
    {
     "data": {
      "application/vnd.jupyter.widget-view+json": {
       "model_id": "1d916d17413844ce93b6060f7a88f02a",
       "version_major": 2,
       "version_minor": 0
      },
      "text/plain": [
       "HBox(children=(FloatProgress(value=1.0, bar_style='info', max=1.0), HTML(value='')))"
      ]
     },
     "metadata": {},
     "output_type": "display_data"
    },
    {
     "name": "stdout",
     "output_type": "stream",
     "text": [
      "\n",
      "\n",
      "\n",
      "--- Working on 1-to-1 correspondence-----\n",
      "max(original_labels),len(original_labels) = (2, 3)\n",
      "empty_indices % = 0.31766389762011676\n",
      " conflict_indices % = 0.0097103726986978\n"
     ]
    },
    {
     "data": {
      "application/vnd.jupyter.widget-view+json": {
       "model_id": "3333349095d84a868d8785a73d742c68",
       "version_major": 2,
       "version_minor": 0
      },
      "text/plain": [
       "HBox(children=(FloatProgress(value=0.0, max=98.0), HTML(value='')))"
      ]
     },
     "metadata": {},
     "output_type": "display_data"
    },
    {
     "name": "stdout",
     "output_type": "stream",
     "text": [
      "\n",
      "AFTER face_lookup_resolved_test\n"
     ]
    },
    {
     "data": {
      "application/vnd.jupyter.widget-view+json": {
       "model_id": "907a6877fd5a4d3d9dfa3d0572c66314",
       "version_major": 2,
       "version_minor": 0
      },
      "text/plain": [
       "HBox(children=(FloatProgress(value=0.0, max=3.0), HTML(value='')))"
      ]
     },
     "metadata": {},
     "output_type": "display_data"
    },
    {
     "name": "stdout",
     "output_type": "stream",
     "text": [
      "\n",
      "Deleting branches from dictionary\n",
      "MP_branches_with_stitch_point= [0]\n",
      "MP_branches_for_correspondence = [0]\n",
      "MP_leftover = [], MP_leftover_idx = []\n",
      " Finished with (4, 2) \n",
      "\n",
      "\n",
      "\n",
      "Time for decomp of Limb = 159.8766622543335\n",
      "Number of matching vertices = 0\n",
      "Number of matching vertices = 21\n",
      "Number of matching vertices = 0\n",
      "Number of matching vertices = 22\n",
      "Number of matching vertices = 0\n",
      "Number of matching vertices = 0\n",
      "Number of matching vertices = 0\n",
      "Number of matching vertices = 0\n",
      "Number of matching vertices = 26\n",
      "Only one endpoint after filtering away the endpoints that are not on the skeleton\n",
      "Only one endpoint after filtering away the endpoints that are not on the skeleton\n",
      "Only one endpoint after filtering away the endpoints that are not on the skeleton\n",
      "Using Distance measure skeletal_distance\n",
      "endpoints_must_keep = [[608322.         655997.         946522.        ]\n",
      " [616300.78846154 654203.36153846 946664.02692308]\n",
      " [619224.         662129.         950511.        ]]\n",
      "Number of end_nodes BEFORE filtering = 28\n",
      "all_single_nodes_to_eliminate = [10, 16, 17]\n",
      "no small end nodes to get rid of so returning whole skeleton\n",
      "Removed 0 skeletal branches\n"
     ]
    },
    {
     "data": {
      "application/vnd.jupyter.widget-view+json": {
       "model_id": "a4fab15522514a2e96e6e76fa4a3310a",
       "version_major": 2,
       "version_minor": 0
      },
      "text/plain": [
       "HBox(children=(FloatProgress(value=0.0, max=49.0), HTML(value='')))"
      ]
     },
     "metadata": {},
     "output_type": "display_data"
    },
    {
     "name": "stdout",
     "output_type": "stream",
     "text": [
      "\n",
      "303155 303156\n",
      "For marked faces: None\n",
      "empty_indices % = 0.0\n",
      " conflict_indices % = 0.0\n"
     ]
    },
    {
     "data": {
      "application/vnd.jupyter.widget-view+json": {
       "model_id": "f20bd7db1f5745258861709315803344",
       "version_major": 2,
       "version_minor": 0
      },
      "text/plain": [
       "HBox(children=(FloatProgress(value=1.0, bar_style='info', max=1.0), HTML(value='')))"
      ]
     },
     "metadata": {},
     "output_type": "display_data"
    },
    {
     "name": "stdout",
     "output_type": "stream",
     "text": [
      "\n",
      "AFTER face_lookup_resolved_test\n"
     ]
    },
    {
     "data": {
      "application/vnd.jupyter.widget-view+json": {
       "model_id": "df65f1cfb27b429694f405c81da2c8c5",
       "version_major": 2,
       "version_minor": 0
      },
      "text/plain": [
       "HBox(children=(FloatProgress(value=0.0, max=49.0), HTML(value='')))"
      ]
     },
     "metadata": {},
     "output_type": "display_data"
    },
    {
     "name": "stdout",
     "output_type": "stream",
     "text": [
      "\n",
      "\n",
      "\n",
      "----- Working on Proper Limb # 2 ---------\n",
      "meshparty_segment_size = 100\n",
      "root_curr = [615153. 668619. 953547.]\n",
      "Time for preparing soma vertices and root: 0.00024700164794921875\n",
      "invalidation_d = 12000\n",
      "cc_vertex_thresh = 10\n"
     ]
    },
    {
     "name": "stderr",
     "output_type": "stream",
     "text": [
      "\r",
      "  0%|          | 0/1 [00:00<?, ?it/s]"
     ]
    },
    {
     "data": {
      "application/vnd.jupyter.widget-view+json": {
       "model_id": "b05231a70c2a45a091d4167ae6d2c5a8",
       "version_major": 2,
       "version_minor": 0
      },
      "text/plain": [
       "HBox(children=(FloatProgress(value=0.0, max=72565.0), HTML(value='')))"
      ]
     },
     "metadata": {},
     "output_type": "display_data"
    },
    {
     "name": "stderr",
     "output_type": "stream",
     "text": [
      "100%|██████████| 1/1 [00:00<00:00,  1.84it/s]"
     ]
    },
    {
     "name": "stdout",
     "output_type": "stream",
     "text": [
      "\n"
     ]
    },
    {
     "name": "stderr",
     "output_type": "stream",
     "text": [
      "\n"
     ]
    },
    {
     "name": "stdout",
     "output_type": "stream",
     "text": [
      "meshparty_segment_size = 100\n",
      "Time for 1st pass MP skeletonization: 1.3567891120910645\n",
      "connecting at the root\n",
      "branches_touching_root = [4]\n",
      "length of Graph = 5235\n",
      "After combining close endpoints max(kept_branches_idx) = 4, len(kept_branches_idx) = 5\n",
      "empty_indices % = 0.0\n",
      " conflict_indices % = 0.0012662344401929105\n"
     ]
    },
    {
     "data": {
      "application/vnd.jupyter.widget-view+json": {
       "model_id": "37342eb585d3432ba445f16c16ffc3fb",
       "version_major": 2,
       "version_minor": 0
      },
      "text/plain": [
       "HBox(children=(FloatProgress(value=0.0, max=2.0), HTML(value='')))"
      ]
     },
     "metadata": {},
     "output_type": "display_data"
    },
    {
     "name": "stdout",
     "output_type": "stream",
     "text": [
      "\n",
      "AFTER face_lookup_resolved_test\n"
     ]
    },
    {
     "data": {
      "application/vnd.jupyter.widget-view+json": {
       "model_id": "81934b641fab48488a9895c46f247ea5",
       "version_major": 2,
       "version_minor": 0
      },
      "text/plain": [
       "HBox(children=(FloatProgress(value=0.0, max=5.0), HTML(value='')))"
      ]
     },
     "metadata": {},
     "output_type": "display_data"
    },
    {
     "name": "stdout",
     "output_type": "stream",
     "text": [
      "\n",
      "Decomposing first pass: 12.116767644882202\n",
      "Attempting to use MeshAfterParty Skeletonization and Mesh Correspondence\n",
      "Another print\n",
      "Found len(mesh_large_idx) MAP candidates: [40523, 5304]\n",
      "mesh_large_connectivity: 0.012489080429077148\n",
      "Finding MAP candidates connected components: 9.822845458984375e-05\n",
      "len(filtered_pieces) = 1\n",
      "skeleton_connectivity_MP : 0.2608602046966553\n",
      "Grouping MP Sublimbs by Graph: 0.05453824996948242\n",
      "Divinding into MP and MAP pieces: 1.430511474609375e-06\n",
      "--- Working on MAP piece 0---\n",
      "MAP Filtering Soma Pieces: 0.022588729858398438\n",
      "inside skeletonize_connected_branch and use_surface_after_CGAL=False, surface_reconstruction_size=1000\n",
      "     Starting Screened Poisson\n",
      "xvfb-run -n 4097 -s \"-screen 0 800x600x24\" meshlabserver $@  -i /notebooks/Auto_Proofreading/Decomposition_Optimization/Debug_4/temp/None.off -o /notebooks/Auto_Proofreading/Decomposition_Optimization/Debug_4/temp/None_poisson.off -s /notebooks/Auto_Proofreading/Decomposition_Optimization/Debug_4/temp/poisson_842214.mls\n",
      "removed temporary input file: /notebooks/Auto_Proofreading/Decomposition_Optimization/Debug_4/temp/None.off\n",
      "removed temporary output file: /notebooks/Auto_Proofreading/Decomposition_Optimization/Debug_4/temp/None_poisson.off\n",
      "Using the close holes feature\n",
      "Mesh was manifold\n",
      "No holes needed to fill and mesh was manifold so returning original mesh\n",
      "-----Time for Screened Poisson= 23.02893877029419\n",
      "mesh_pieces = [<trimesh.Trimesh(vertices.shape=(48100, 3), faces.shape=(96200, 3))>]\n",
      "     Starting Calcification (Changed back where stitches large poissons)\n",
      "min_edge_length = 75\n"
     ]
    },
    {
     "data": {
      "application/vnd.jupyter.widget-view+json": {
       "model_id": "55c3ddd025284621bbaa00f36be4d05a",
       "version_major": 2,
       "version_minor": 0
      },
      "text/plain": [
       "HBox(children=(FloatProgress(value=1.0, bar_style='info', max=1.0), HTML(value='')))"
      ]
     },
     "metadata": {},
     "output_type": "display_data"
    },
    {
     "name": "stdout",
     "output_type": "stream",
     "text": [
      "\n",
      "No skeletons to stack so returning empty list\n",
      "len_subgraphs AT BEGINNING of the loop\n"
     ]
    },
    {
     "data": {
      "application/vnd.jupyter.widget-view+json": {
       "model_id": "e801701fecf949ea87dcd6a3c351f90c",
       "version_major": 2,
       "version_minor": 0
      },
      "text/plain": [
       "HBox(children=(FloatProgress(value=0.0, max=1.0), HTML(value='')))"
      ]
     },
     "metadata": {},
     "output_type": "display_data"
    },
    {
     "name": "stdout",
     "output_type": "stream",
     "text": [
      "all graph is one component!\n",
      "\n",
      "Total time for skeleton stitching = 0.09409451484680176\n",
      "The process was using a temp folder\n",
      "Checking connected components after skeletonize_connected_branch\n",
      "    Total time for skeletonizing branch: 28.374281406402588\n",
      "Checking connected components after removing cycles\n",
      "Total time for mesh KDTree = 0.36559343338012695\n",
      "sbv[0].reshape(-1,3) = [[615153. 668619. 953547.]]\n",
      "closest_sk_pt_coord BEFORE = [615183. 669073. 953268.]\n",
      "current_skeleton.shape = (1409, 2, 3)\n",
      "node_for_stitch = 1009: [615183. 669073. 953268.]\n",
      "node_for_stitch AFTER = 1009: [615183. 669073. 953268.]\n",
      "possible_node_loc = [   0   20   28  108  120  170  200  323  356  438  469  480  525  547\n",
      "  567  600  624  650  726  730  738  760  789  810  858  903  940  985\n",
      " 1009 1055 1069 1188 1277 1335 1409]\n",
      "possible_node_loc AFTER = [   0   20   28  108  120  170  200  323  356  438  469  480  525  547\n",
      "  567  600  624  650  726  730  738  760  789  810  858  903  940  985\n",
      " 1009 1055 1069 1188 1277 1335 1409]\n",
      "curr_shortest_path = [1009]\n",
      "Current stitch point was a branch or endpoint\n",
      "change_status for create soma extending pieces = False\n",
      "closest_sk_pt_coord AFTER = [615183. 669073. 953268.]\n",
      "skipping soma 0 because closest skeleton node was already end node\n",
      "sbv[0].reshape(-1,3) = [[616728. 657783. 953148.]]\n",
      "closest_sk_pt_coord BEFORE = [616867. 658133. 952680.]\n",
      "current_skeleton.shape = (1409, 2, 3)\n",
      "node_for_stitch = 1055: [616867. 658133. 952680.]\n",
      "node_for_stitch AFTER = 1055: [616867. 658133. 952680.]\n",
      "possible_node_loc = [   0   20   28  108  120  170  200  323  356  438  469  480  525  547\n",
      "  567  600  624  650  726  730  738  760  789  810  858  903  940  985\n",
      " 1009 1055 1069 1188 1277 1335 1409]\n",
      "possible_node_loc AFTER = [   0   20   28  108  120  170  200  323  356  438  469  480  525  547\n",
      "  567  600  624  650  726  730  738  760  789  810  858  903  940  985\n",
      " 1009 1055 1069 1188 1277 1335 1409]\n",
      "curr_shortest_path = [1055]\n",
      "Current stitch point was a branch or endpoint\n",
      "change_status for create soma extending pieces = False\n",
      "closest_sk_pt_coord AFTER = [616867. 658133. 952680.]\n",
      "skipping soma 0 because closest skeleton node was already end node\n",
      "endpoints_must_keep = {0: array([[615183., 669073., 953268.],\n",
      "       [616867., 658133., 952680.]])}\n",
      "    Total time for Fixing Skeleton Soma Endpoint Extension : 1.1293611526489258\n",
      "filter_end_node_length = 4000\n",
      "xvfb-run -n 4097 -s \"-screen 0 800x600x24\" meshlabserver $@  -i /notebooks/Auto_Proofreading/Decomposition_Optimization/Debug_4/temp/neuron_6762.off -o /notebooks/Auto_Proofreading/Decomposition_Optimization/Debug_4/temp/neuron_6762_remove_interior.off -s /notebooks/Auto_Proofreading/Decomposition_Optimization/Debug_4/temp/remove_interior_397792.mls\n",
      "removed temporary input file: /notebooks/Auto_Proofreading/Decomposition_Optimization/Debug_4/temp/neuron_6762.off\n",
      "removed temporary output file: /notebooks/Auto_Proofreading/Decomposition_Optimization/Debug_4/temp/neuron_6762_remove_interior.off\n",
      "/notebooks/Auto_Proofreading/Decomposition_Optimization/Debug_4/temp/remove_interior_397792.mls is being deleted....\n",
      "THERE WERE NO MESH PIECES GREATER THAN THE significance_threshold\n",
      "No significant (100) interior meshes present\n",
      "largest is 20\n",
      "Using Distance measure skeletal_distance\n",
      "endpoints_must_keep = [[615183. 669073. 953268.]\n",
      " [616867. 658133. 952680.]\n",
      " [544389. 710828. 959900.]]\n",
      "Number of end_nodes BEFORE filtering = 35\n",
      "all_single_nodes_to_eliminate = [28, 29, 6]\n"
     ]
    },
    {
     "data": {
      "application/vnd.jupyter.widget-view+json": {
       "model_id": "59bebbee496f4d228851865223a3ac15",
       "version_major": 2,
       "version_minor": 0
      },
      "text/plain": [
       "HBox(children=(FloatProgress(value=0.0, max=31.0), HTML(value='')))"
      ]
     },
     "metadata": {},
     "output_type": "display_data"
    },
    {
     "name": "stdout",
     "output_type": "stream",
     "text": [
      "\n",
      "Checking connected components after clean_skeleton\n",
      "after DISTANCE cleaning limb size of skeleton = (1224, 2, 3)\n",
      "********COMBINING CLOSE SKELETON NODES WITHIN 700 DISTANCE**********\n",
      "Found 0 valid paths to replace\n",
      "valid_paths = []\n",
      "valid_path_lengths = []\n",
      "No valid paths found so just returning the original\n",
      "skeletonize_and_clean_connected_branch_CGAL: 42.26760196685791\n",
      "Working on limb correspondence for #0 MAP piece\n",
      "xvfb-run -n 4097 -s \"-screen 0 800x600x24\" meshlabserver $@  -i /notebooks/Auto_Proofreading/Decomposition_Optimization/Debug_4/temp/neuron_78753.off -o /notebooks/Auto_Proofreading/Decomposition_Optimization/Debug_4/temp/neuron_78753_remove_interior.off -s /notebooks/Auto_Proofreading/Decomposition_Optimization/Debug_4/temp/remove_interior_966548.mls\n",
      "removed temporary input file: /notebooks/Auto_Proofreading/Decomposition_Optimization/Debug_4/temp/neuron_78753.off\n",
      "removed temporary output file: /notebooks/Auto_Proofreading/Decomposition_Optimization/Debug_4/temp/neuron_78753_remove_interior.off\n",
      "/notebooks/Auto_Proofreading/Decomposition_Optimization/Debug_4/temp/remove_interior_966548.mls is being deleted....\n",
      "THERE WERE NO MESH PIECES GREATER THAN THE significance_threshold\n",
      "No significant (100) interior meshes present\n",
      "largest is 20\n"
     ]
    },
    {
     "data": {
      "application/vnd.jupyter.widget-view+json": {
       "model_id": "7596da803d844bafb5c523b1d8a24e73",
       "version_major": 2,
       "version_minor": 0
      },
      "text/plain": [
       "HBox(children=(FloatProgress(value=1.0, bar_style='info', max=1.0), HTML(value='')))"
      ]
     },
     "metadata": {},
     "output_type": "display_data"
    },
    {
     "name": "stdout",
     "output_type": "stream",
     "text": [
      "\n",
      "Total time for decomposition = 8.723946809768677\n",
      "mesh_correspondence_first_pass: 8.723984479904175\n",
      "Limb decomposed into 7 branches\n",
      "divided_skeleton_graph_recovered = (1224, 2, 3) and \n",
      "current_mesh_data[0]['branch_skeletons_cleaned'].shape = (1224, 2, 3)\n",
      "\n",
      "Number of connected components in deocmposed recovered graph = 1\n",
      "Number of connected components in cleaned skeleton graph= 1\n",
      "The downsampled branches number of connected components = 1\n",
      "Empty submeshes = []\n",
      "\n",
      "\n",
      "--- Working on 1-to-1 correspondence-----\n",
      "max(original_labels),len(original_labels) = (6, 7)\n",
      "empty_indices % = 0.2230126344731272\n",
      " conflict_indices % = 0.02529076745150239\n"
     ]
    },
    {
     "data": {
      "application/vnd.jupyter.widget-view+json": {
       "model_id": "bf353bcf17bf4702933b1c548b24d594",
       "version_major": 2,
       "version_minor": 0
      },
      "text/plain": [
       "HBox(children=(FloatProgress(value=0.0, max=142.0), HTML(value='')))"
      ]
     },
     "metadata": {},
     "output_type": "display_data"
    },
    {
     "name": "stdout",
     "output_type": "stream",
     "text": [
      "\n",
      "AFTER face_lookup_resolved_test\n",
      "Took 0 iterations to expand the label back\n",
      "empty_indices % = 0.0\n",
      " conflict_indices % = 0.0\n"
     ]
    },
    {
     "data": {
      "application/vnd.jupyter.widget-view+json": {
       "model_id": "ab79071df4f54f2db2dfea8414fbe3b8",
       "version_major": 2,
       "version_minor": 0
      },
      "text/plain": [
       "HBox(children=(FloatProgress(value=1.0, bar_style='info', max=1.0), HTML(value='')))"
      ]
     },
     "metadata": {},
     "output_type": "display_data"
    },
    {
     "name": "stdout",
     "output_type": "stream",
     "text": [
      "\n",
      "AFTER face_lookup_resolved_test\n",
      "Took 0 iterations to expand the label back\n",
      "empty_indices % = 0.0\n",
      " conflict_indices % = 0.0\n"
     ]
    },
    {
     "data": {
      "application/vnd.jupyter.widget-view+json": {
       "model_id": "d913b4c3c47946bf87c8a6981aaa1595",
       "version_major": 2,
       "version_minor": 0
      },
      "text/plain": [
       "HBox(children=(FloatProgress(value=1.0, bar_style='info', max=1.0), HTML(value='')))"
      ]
     },
     "metadata": {},
     "output_type": "display_data"
    },
    {
     "name": "stdout",
     "output_type": "stream",
     "text": [
      "\n",
      "AFTER face_lookup_resolved_test\n"
     ]
    },
    {
     "data": {
      "application/vnd.jupyter.widget-view+json": {
       "model_id": "187722a2d45a47159e2886de6188a065",
       "version_major": 2,
       "version_minor": 0
      },
      "text/plain": [
       "HBox(children=(FloatProgress(value=0.0, max=7.0), HTML(value='')))"
      ]
     },
     "metadata": {},
     "output_type": "display_data"
    },
    {
     "name": "stdout",
     "output_type": "stream",
     "text": [
      "\n",
      "Total time for MAP sublimb #0 mesh processing = 56.08373165130615\n",
      "correspondence_1_to_1: 5.06973934173584\n",
      "Total time for MAP sublimb processing 56.08424520492554\n",
      "---- Working on MP Decomposition #0 ----\n",
      "Computing the current soma touching verts dict manually\n",
      "MP filtering soma verts: 0.027509689331054688\n",
      "Do Not Need to Fix MP Decomposition 0 so just continuing\n",
      "---- Working on MP Decomposition #1 ----\n",
      "Computing the current soma touching verts dict manually\n",
      "MP filtering soma verts: 0.018770694732666016\n",
      "Do Not Need to Fix MP Decomposition 1 so just continuing\n",
      "Successful mesh connectivity with type edges\n",
      "\n",
      "---- Working on (0, 0) connection-----\n",
      "sk_conn = [0, 1]\n",
      "conn = [0, 1]\n",
      "winning_vertex = [631224.56764549 662358.90813895 959053.6025425 ]\n",
      "MP_branches_with_stitch_point = [0, 1]\n",
      "MAP_branches_with_stitch_point = [6]\n",
      "MAP_stitch_point_on_end_or_branch = True\n"
     ]
    },
    {
     "data": {
      "application/vnd.jupyter.widget-view+json": {
       "model_id": "8bc1f77fed054101b99610167e15fbc4",
       "version_major": 2,
       "version_minor": 0
      },
      "text/plain": [
       "HBox(children=(FloatProgress(value=1.0, bar_style='info', max=1.0), HTML(value='')))"
      ]
     },
     "metadata": {},
     "output_type": "display_data"
    },
    {
     "name": "stdout",
     "output_type": "stream",
     "text": [
      "\n",
      "\n",
      "\n",
      "--- Working on 1-to-1 correspondence-----\n",
      "max(original_labels),len(original_labels) = (2, 3)\n",
      "empty_indices % = 0.2784638505014865\n",
      " conflict_indices % = 0.009033290862164723\n"
     ]
    },
    {
     "data": {
      "application/vnd.jupyter.widget-view+json": {
       "model_id": "02a77efb77fb47a79e6da7565dd418fe",
       "version_major": 2,
       "version_minor": 0
      },
      "text/plain": [
       "HBox(children=(FloatProgress(value=0.0, max=213.0), HTML(value='')))"
      ]
     },
     "metadata": {},
     "output_type": "display_data"
    },
    {
     "name": "stdout",
     "output_type": "stream",
     "text": [
      "\n",
      "AFTER face_lookup_resolved_test\n"
     ]
    },
    {
     "data": {
      "application/vnd.jupyter.widget-view+json": {
       "model_id": "6d56cc4f1eca4aa5933d1d3db88112aa",
       "version_major": 2,
       "version_minor": 0
      },
      "text/plain": [
       "HBox(children=(FloatProgress(value=0.0, max=3.0), HTML(value='')))"
      ]
     },
     "metadata": {},
     "output_type": "display_data"
    },
    {
     "name": "stdout",
     "output_type": "stream",
     "text": [
      "\n",
      "MP_branches_with_stitch_point= [0, 1]\n",
      "MP_branches_for_correspondence = [0 1]\n",
      "MP_leftover = [], MP_leftover_idx = []\n",
      " Finished with (0, 0) \n",
      "\n",
      "\n",
      "\n",
      "\n",
      "---- Working on (1, 0) connection-----\n",
      "sk_conn = [0]\n",
      "conn = [0]\n",
      "winning_vertex = [622992.21186091 666976.42653336 950684.76096406]\n",
      "MP_branches_with_stitch_point = [0]\n",
      "MAP_branches_with_stitch_point = [5]\n",
      "MAP_stitch_point_on_end_or_branch = False\n"
     ]
    },
    {
     "data": {
      "application/vnd.jupyter.widget-view+json": {
       "model_id": "3b7771a0856d440daef47f923c26c8a1",
       "version_major": 2,
       "version_minor": 0
      },
      "text/plain": [
       "HBox(children=(FloatProgress(value=1.0, bar_style='info', max=1.0), HTML(value='')))"
      ]
     },
     "metadata": {},
     "output_type": "display_data"
    },
    {
     "name": "stdout",
     "output_type": "stream",
     "text": [
      "\n",
      "\n",
      "\n",
      "--- Working on 1-to-1 correspondence-----\n",
      "max(original_labels),len(original_labels) = (1, 2)\n",
      "empty_indices % = 0.15712468193384224\n",
      " conflict_indices % = 0.023377862595419848\n"
     ]
    },
    {
     "data": {
      "application/vnd.jupyter.widget-view+json": {
       "model_id": "b1729f60dce14cab819fa4f6ba059c88",
       "version_major": 2,
       "version_minor": 0
      },
      "text/plain": [
       "HBox(children=(FloatProgress(value=0.0, max=19.0), HTML(value='')))"
      ]
     },
     "metadata": {},
     "output_type": "display_data"
    },
    {
     "name": "stdout",
     "output_type": "stream",
     "text": [
      "\n",
      "AFTER face_lookup_resolved_test\n"
     ]
    },
    {
     "data": {
      "application/vnd.jupyter.widget-view+json": {
       "model_id": "a9baa70722da47f49910b3689d09b555",
       "version_major": 2,
       "version_minor": 0
      },
      "text/plain": [
       "HBox(children=(FloatProgress(value=0.0, max=2.0), HTML(value='')))"
      ]
     },
     "metadata": {},
     "output_type": "display_data"
    },
    {
     "name": "stdout",
     "output_type": "stream",
     "text": [
      "\n"
     ]
    },
    {
     "data": {
      "application/vnd.jupyter.widget-view+json": {
       "model_id": "ebfac92431464ca9a591b19fe0097470",
       "version_major": 2,
       "version_minor": 0
      },
      "text/plain": [
       "HBox(children=(FloatProgress(value=1.0, bar_style='info', max=1.0), HTML(value='')))"
      ]
     },
     "metadata": {},
     "output_type": "display_data"
    },
    {
     "name": "stdout",
     "output_type": "stream",
     "text": [
      "\n",
      "\n",
      "\n",
      "--- Working on 1-to-1 correspondence-----\n",
      "max(original_labels),len(original_labels) = (2, 3)\n",
      "empty_indices % = 0.2570454447369557\n",
      " conflict_indices % = 0.009386733416770964\n"
     ]
    },
    {
     "data": {
      "application/vnd.jupyter.widget-view+json": {
       "model_id": "64d18eca8bd3438b996d87237b9e8718",
       "version_major": 2,
       "version_minor": 0
      },
      "text/plain": [
       "HBox(children=(FloatProgress(value=0.0, max=131.0), HTML(value='')))"
      ]
     },
     "metadata": {},
     "output_type": "display_data"
    },
    {
     "name": "stdout",
     "output_type": "stream",
     "text": [
      "\n",
      "AFTER face_lookup_resolved_test\n"
     ]
    },
    {
     "data": {
      "application/vnd.jupyter.widget-view+json": {
       "model_id": "09149f5616a945178b25b9257fdd6312",
       "version_major": 2,
       "version_minor": 0
      },
      "text/plain": [
       "HBox(children=(FloatProgress(value=0.0, max=3.0), HTML(value='')))"
      ]
     },
     "metadata": {},
     "output_type": "display_data"
    },
    {
     "name": "stdout",
     "output_type": "stream",
     "text": [
      "\n",
      "Deleting branches from dictionary\n",
      "MP_branches_with_stitch_point= [0]\n",
      "MP_branches_for_correspondence = [0]\n",
      "MP_leftover = [], MP_leftover_idx = []\n",
      " Finished with (1, 0) \n",
      "\n",
      "\n",
      "\n",
      "Time for decomp of Limb = 101.97302889823914\n",
      "Number of matching vertices = 16\n",
      "Number of matching vertices = 0\n",
      "Number of matching vertices = 0\n",
      "Number of matching vertices = 29\n",
      "Only one endpoint after filtering away the endpoints that are not on the skeleton\n",
      "Only one endpoint after filtering away the endpoints that are not on the skeleton\n",
      "Using Distance measure skeletal_distance\n",
      "endpoints_must_keep = [[615183. 669073. 953268.]\n",
      " [616867. 658133. 952680.]]\n",
      "Number of end_nodes BEFORE filtering = 7\n",
      "all_single_nodes_to_eliminate = [2, 3]\n"
     ]
    },
    {
     "data": {
      "application/vnd.jupyter.widget-view+json": {
       "model_id": "ac28a4f5d0804d28a7eb9f999886a775",
       "version_major": 2,
       "version_minor": 0
      },
      "text/plain": [
       "HBox(children=(FloatProgress(value=0.0, max=1.0), HTML(value='')))"
      ]
     },
     "metadata": {},
     "output_type": "display_data"
    },
    {
     "name": "stdout",
     "output_type": "stream",
     "text": [
      "\n",
      "Removed 1 skeletal branches\n"
     ]
    },
    {
     "data": {
      "application/vnd.jupyter.widget-view+json": {
       "model_id": "8aeb8da1f8694407ab78947087b872f0",
       "version_major": 2,
       "version_minor": 0
      },
      "text/plain": [
       "HBox(children=(FloatProgress(value=0.0, max=11.0), HTML(value='')))"
      ]
     },
     "metadata": {},
     "output_type": "display_data"
    },
    {
     "name": "stdout",
     "output_type": "stream",
     "text": [
      "\n",
      "144522 144523\n",
      "For marked faces: None\n",
      "empty_indices % = 0.0\n",
      " conflict_indices % = 0.0\n"
     ]
    },
    {
     "data": {
      "application/vnd.jupyter.widget-view+json": {
       "model_id": "f9884ff3c9e543fd9d79081864888ce2",
       "version_major": 2,
       "version_minor": 0
      },
      "text/plain": [
       "HBox(children=(FloatProgress(value=1.0, bar_style='info', max=1.0), HTML(value='')))"
      ]
     },
     "metadata": {},
     "output_type": "display_data"
    },
    {
     "name": "stdout",
     "output_type": "stream",
     "text": [
      "\n",
      "AFTER face_lookup_resolved_test\n"
     ]
    },
    {
     "data": {
      "application/vnd.jupyter.widget-view+json": {
       "model_id": "ee68d80794f64760b519f22c6475af4a",
       "version_major": 2,
       "version_minor": 0
      },
      "text/plain": [
       "HBox(children=(FloatProgress(value=0.0, max=9.0), HTML(value='')))"
      ]
     },
     "metadata": {},
     "output_type": "display_data"
    },
    {
     "name": "stderr",
     "output_type": "stream",
     "text": [
      "\r",
      "  0%|          | 0/1 [00:00<?, ?it/s]"
     ]
    },
    {
     "name": "stdout",
     "output_type": "stream",
     "text": [
      "\n",
      "\n",
      "\n",
      "----- Working on Proper Limb # 3 ---------\n",
      "meshparty_segment_size = 100\n",
      "root_curr = [693628.1 639560.5 927511.2]\n",
      "Time for preparing soma vertices and root: 0.0004265308380126953\n",
      "invalidation_d = 12000\n",
      "cc_vertex_thresh = 10\n"
     ]
    },
    {
     "data": {
      "application/vnd.jupyter.widget-view+json": {
       "model_id": "ad6eb3f7661948f7b737b1bb0923fda0",
       "version_major": 2,
       "version_minor": 0
      },
      "text/plain": [
       "HBox(children=(FloatProgress(value=0.0, max=30718.0), HTML(value='')))"
      ]
     },
     "metadata": {},
     "output_type": "display_data"
    },
    {
     "name": "stderr",
     "output_type": "stream",
     "text": [
      "100%|██████████| 1/1 [00:00<00:00,  4.00it/s]"
     ]
    },
    {
     "name": "stdout",
     "output_type": "stream",
     "text": [
      "\n"
     ]
    },
    {
     "name": "stderr",
     "output_type": "stream",
     "text": [
      "\n"
     ]
    },
    {
     "name": "stdout",
     "output_type": "stream",
     "text": [
      "meshparty_segment_size = 100\n",
      "Time for 1st pass MP skeletonization: 0.6044809818267822\n",
      "connecting at the root\n",
      "branches_touching_root = [6]\n",
      "length of Graph = 3606\n",
      "After combining close endpoints max(kept_branches_idx) = 6, len(kept_branches_idx) = 7\n",
      "empty_indices % = 0.0\n",
      " conflict_indices % = 0.0029861462395770443\n"
     ]
    },
    {
     "data": {
      "application/vnd.jupyter.widget-view+json": {
       "model_id": "a1ef8fd6b39843bfa1dca7cebe7499eb",
       "version_major": 2,
       "version_minor": 0
      },
      "text/plain": [
       "HBox(children=(FloatProgress(value=0.0, max=3.0), HTML(value='')))"
      ]
     },
     "metadata": {},
     "output_type": "display_data"
    },
    {
     "name": "stdout",
     "output_type": "stream",
     "text": [
      "\n",
      "AFTER face_lookup_resolved_test\n"
     ]
    },
    {
     "data": {
      "application/vnd.jupyter.widget-view+json": {
       "model_id": "534d1f7f9fd34e0ca8c7ef1cd2ceafc4",
       "version_major": 2,
       "version_minor": 0
      },
      "text/plain": [
       "HBox(children=(FloatProgress(value=0.0, max=7.0), HTML(value='')))"
      ]
     },
     "metadata": {},
     "output_type": "display_data"
    },
    {
     "name": "stdout",
     "output_type": "stream",
     "text": [
      "\n",
      "Decomposing first pass: 3.6565968990325928\n",
      "Attempting to use MeshAfterParty Skeletonization and Mesh Correspondence\n",
      "Another print\n",
      "Found len(mesh_large_idx) MAP candidates: [11777, 9896, 32119]\n",
      "mesh_large_connectivity: 0.02677631378173828\n",
      "Finding MAP candidates connected components: 0.00011157989501953125\n",
      "len(filtered_pieces) = 1\n",
      "skeleton_connectivity_MP : 0.047719717025756836\n",
      "Grouping MP Sublimbs by Graph: 0.007553577423095703\n",
      "Divinding into MP and MAP pieces: 1.1920928955078125e-06\n",
      "--- Working on MAP piece 0---\n",
      "MAP Filtering Soma Pieces: 0.01201009750366211\n",
      "inside skeletonize_connected_branch and use_surface_after_CGAL=False, surface_reconstruction_size=1000\n",
      "     Starting Screened Poisson\n",
      "xvfb-run -n 4097 -s \"-screen 0 800x600x24\" meshlabserver $@  -i /notebooks/Auto_Proofreading/Decomposition_Optimization/Debug_4/temp/None.off -o /notebooks/Auto_Proofreading/Decomposition_Optimization/Debug_4/temp/None_poisson.off -s /notebooks/Auto_Proofreading/Decomposition_Optimization/Debug_4/temp/poisson_727769.mls\n",
      "removed temporary input file: /notebooks/Auto_Proofreading/Decomposition_Optimization/Debug_4/temp/None.off\n",
      "removed temporary output file: /notebooks/Auto_Proofreading/Decomposition_Optimization/Debug_4/temp/None_poisson.off\n",
      "Using the close holes feature\n",
      "Mesh was manifold\n",
      "No holes needed to fill and mesh was manifold so returning original mesh\n",
      "-----Time for Screened Poisson= 22.441325664520264\n",
      "mesh_pieces = [<trimesh.Trimesh(vertices.shape=(67797, 3), faces.shape=(135590, 3))>]\n",
      "     Starting Calcification (Changed back where stitches large poissons)\n",
      "min_edge_length = 75\n"
     ]
    },
    {
     "data": {
      "application/vnd.jupyter.widget-view+json": {
       "model_id": "fe7e8a4cb35a4573ad313c895cb0638b",
       "version_major": 2,
       "version_minor": 0
      },
      "text/plain": [
       "HBox(children=(FloatProgress(value=1.0, bar_style='info', max=1.0), HTML(value='')))"
      ]
     },
     "metadata": {},
     "output_type": "display_data"
    },
    {
     "name": "stdout",
     "output_type": "stream",
     "text": [
      "\n",
      "No skeletons to stack so returning empty list\n",
      "len_subgraphs AT BEGINNING of the loop\n"
     ]
    },
    {
     "data": {
      "application/vnd.jupyter.widget-view+json": {
       "model_id": "d3dbfa78cc0b44f984d9c3fb9af4072d",
       "version_major": 2,
       "version_minor": 0
      },
      "text/plain": [
       "HBox(children=(FloatProgress(value=0.0, max=1.0), HTML(value='')))"
      ]
     },
     "metadata": {},
     "output_type": "display_data"
    },
    {
     "name": "stdout",
     "output_type": "stream",
     "text": [
      "all graph is one component!\n",
      "\n",
      "Total time for skeleton stitching = 0.12160897254943848\n",
      "The process was using a temp folder\n",
      "Checking connected components after skeletonize_connected_branch\n",
      "    Total time for skeletonizing branch: 30.301981925964355\n",
      "Checking connected components after removing cycles\n",
      "Total time for mesh KDTree = 0.4124157428741455\n",
      "sbv[0].reshape(-1,3) = [[693628.1 639560.5 927511.2]]\n",
      "closest_sk_pt_coord BEFORE = [693709. 640432. 927293.]\n",
      "current_skeleton.shape = (2403, 2, 3)\n",
      "node_for_stitch = 2403: [693709. 640432. 927293.]\n",
      "node_for_stitch AFTER = 2403: [693709. 640432. 927293.]\n",
      "possible_node_loc = [   0   21  236  269  574  624  699  834 1610 1674 1728 1732 1931 1968\n",
      " 2403]\n",
      "possible_node_loc AFTER = [   0   21  236  269  574  624  699  834 1610 1674 1728 1732 1931 1968\n",
      " 2403]\n",
      "curr_shortest_path = [2403]\n",
      "Current stitch point was a branch or endpoint\n",
      "change_status for create soma extending pieces = False\n",
      "closest_sk_pt_coord AFTER = [693709. 640432. 927293.]\n",
      "skipping soma 1 because closest skeleton node was already end node\n",
      "endpoints_must_keep = {1: array([[693709., 640432., 927293.]])}\n",
      "    Total time for Fixing Skeleton Soma Endpoint Extension : 1.3031806945800781\n",
      "filter_end_node_length = 4000\n",
      "xvfb-run -n 4097 -s \"-screen 0 800x600x24\" meshlabserver $@  -i /notebooks/Auto_Proofreading/Decomposition_Optimization/Debug_4/temp/neuron_19302.off -o /notebooks/Auto_Proofreading/Decomposition_Optimization/Debug_4/temp/neuron_19302_remove_interior.off -s /notebooks/Auto_Proofreading/Decomposition_Optimization/Debug_4/temp/remove_interior_769062.mls\n",
      "removed temporary input file: /notebooks/Auto_Proofreading/Decomposition_Optimization/Debug_4/temp/neuron_19302.off\n",
      "removed temporary output file: /notebooks/Auto_Proofreading/Decomposition_Optimization/Debug_4/temp/neuron_19302_remove_interior.off\n",
      "/notebooks/Auto_Proofreading/Decomposition_Optimization/Debug_4/temp/remove_interior_769062.mls is being deleted....\n",
      "THERE WERE NO MESH PIECES GREATER THAN THE significance_threshold\n",
      "No significant (100) interior meshes present\n",
      "largest is 34\n",
      "Using Distance measure skeletal_distance\n",
      "endpoints_must_keep = [[693709. 640432. 927293.]]\n",
      "Number of end_nodes BEFORE filtering = 15\n",
      "all_single_nodes_to_eliminate = [14]\n"
     ]
    },
    {
     "data": {
      "application/vnd.jupyter.widget-view+json": {
       "model_id": "ab7bab2f515d44d5916d227e77466ee1",
       "version_major": 2,
       "version_minor": 0
      },
      "text/plain": [
       "HBox(children=(FloatProgress(value=0.0, max=12.0), HTML(value='')))"
      ]
     },
     "metadata": {},
     "output_type": "display_data"
    },
    {
     "name": "stdout",
     "output_type": "stream",
     "text": [
      "\n",
      "Checking connected components after clean_skeleton\n",
      "after DISTANCE cleaning limb size of skeleton = (2346, 2, 3)\n",
      "********COMBINING CLOSE SKELETON NODES WITHIN 700 DISTANCE**********\n",
      "Found 0 valid paths to replace\n",
      "valid_paths = []\n",
      "valid_path_lengths = []\n",
      "No valid paths found so just returning the original\n",
      "skeletonize_and_clean_connected_branch_CGAL: 47.069284200668335\n",
      "Working on limb correspondence for #0 MAP piece\n",
      "xvfb-run -n 4097 -s \"-screen 0 800x600x24\" meshlabserver $@  -i /notebooks/Auto_Proofreading/Decomposition_Optimization/Debug_4/temp/neuron_57830.off -o /notebooks/Auto_Proofreading/Decomposition_Optimization/Debug_4/temp/neuron_57830_remove_interior.off -s /notebooks/Auto_Proofreading/Decomposition_Optimization/Debug_4/temp/remove_interior_272176.mls\n",
      "removed temporary input file: /notebooks/Auto_Proofreading/Decomposition_Optimization/Debug_4/temp/neuron_57830.off\n",
      "removed temporary output file: /notebooks/Auto_Proofreading/Decomposition_Optimization/Debug_4/temp/neuron_57830_remove_interior.off\n",
      "/notebooks/Auto_Proofreading/Decomposition_Optimization/Debug_4/temp/remove_interior_272176.mls is being deleted....\n",
      "THERE WERE NO MESH PIECES GREATER THAN THE significance_threshold\n",
      "No significant (100) interior meshes present\n",
      "largest is 34\n"
     ]
    },
    {
     "data": {
      "application/vnd.jupyter.widget-view+json": {
       "model_id": "8076b6eb1b674a269e0a4cf99c74f5b4",
       "version_major": 2,
       "version_minor": 0
      },
      "text/plain": [
       "HBox(children=(FloatProgress(value=1.0, bar_style='info', max=1.0), HTML(value='')))"
      ]
     },
     "metadata": {},
     "output_type": "display_data"
    },
    {
     "name": "stdout",
     "output_type": "stream",
     "text": [
      "\n",
      "Total time for decomposition = 12.389102935791016\n",
      "mesh_correspondence_first_pass: 12.389133930206299\n",
      "Limb decomposed into 5 branches\n",
      "divided_skeleton_graph_recovered = (2346, 2, 3) and \n",
      "current_mesh_data[0]['branch_skeletons_cleaned'].shape = (2346, 2, 3)\n",
      "\n",
      "Number of connected components in deocmposed recovered graph = 1\n",
      "Number of connected components in cleaned skeleton graph= 1\n",
      "The downsampled branches number of connected components = 1\n",
      "Empty submeshes = []\n",
      "\n",
      "\n",
      "--- Working on 1-to-1 correspondence-----\n",
      "max(original_labels),len(original_labels) = (4, 5)\n",
      "empty_indices % = 0.01898051754907793\n",
      " conflict_indices % = 0.00896044021415824\n"
     ]
    },
    {
     "data": {
      "application/vnd.jupyter.widget-view+json": {
       "model_id": "55369dabe5774f42adabea480e5c0c56",
       "version_major": 2,
       "version_minor": 0
      },
      "text/plain": [
       "HBox(children=(FloatProgress(value=0.0, max=49.0), HTML(value='')))"
      ]
     },
     "metadata": {},
     "output_type": "display_data"
    },
    {
     "name": "stdout",
     "output_type": "stream",
     "text": [
      "\n",
      "AFTER face_lookup_resolved_test\n",
      "Took 0 iterations to expand the label back\n",
      "empty_indices % = 0.0\n",
      " conflict_indices % = 0.0\n"
     ]
    },
    {
     "data": {
      "application/vnd.jupyter.widget-view+json": {
       "model_id": "5439d1d560a54ba7a1ca25b32404fd65",
       "version_major": 2,
       "version_minor": 0
      },
      "text/plain": [
       "HBox(children=(FloatProgress(value=1.0, bar_style='info', max=1.0), HTML(value='')))"
      ]
     },
     "metadata": {},
     "output_type": "display_data"
    },
    {
     "name": "stdout",
     "output_type": "stream",
     "text": [
      "\n",
      "AFTER face_lookup_resolved_test\n"
     ]
    },
    {
     "data": {
      "application/vnd.jupyter.widget-view+json": {
       "model_id": "8b501a940f7a42ae8e5d4f9f4d8fbdca",
       "version_major": 2,
       "version_minor": 0
      },
      "text/plain": [
       "HBox(children=(FloatProgress(value=0.0, max=5.0), HTML(value='')))"
      ]
     },
     "metadata": {},
     "output_type": "display_data"
    },
    {
     "name": "stdout",
     "output_type": "stream",
     "text": [
      "\n",
      "Total time for MAP sublimb #0 mesh processing = 67.89234209060669\n",
      "correspondence_1_to_1: 8.42192816734314\n",
      "Total time for MAP sublimb processing 67.89289426803589\n",
      "---- Working on MP Decomposition #0 ----\n",
      "Computing the current soma touching verts dict manually\n",
      "MP filtering soma verts: 0.005197763442993164\n",
      "Do Not Need to Fix MP Decomposition 0 so just continuing\n",
      "---- Working on MP Decomposition #1 ----\n",
      "Computing the current soma touching verts dict manually\n",
      "MP filtering soma verts: 0.020207643508911133\n",
      "Do Not Need to Fix MP Decomposition 1 so just continuing\n",
      "Successful mesh connectivity with type edges\n",
      "\n",
      "---- Working on (0, 0) connection-----\n",
      "sk_conn = [0, 1]\n",
      "conn = [0, 1]\n",
      "winning_vertex = [681479.32593464 758731.05968337 939138.24974884]\n",
      "MP_branches_with_stitch_point = [0, 1]\n",
      "MAP_branches_with_stitch_point = [2]\n",
      "MAP_stitch_point_on_end_or_branch = True\n"
     ]
    },
    {
     "data": {
      "application/vnd.jupyter.widget-view+json": {
       "model_id": "f6a1f3ae594343d694e99529a2f04f74",
       "version_major": 2,
       "version_minor": 0
      },
      "text/plain": [
       "HBox(children=(FloatProgress(value=1.0, bar_style='info', max=1.0), HTML(value='')))"
      ]
     },
     "metadata": {},
     "output_type": "display_data"
    },
    {
     "name": "stdout",
     "output_type": "stream",
     "text": [
      "\n",
      "\n",
      "\n",
      "--- Working on 1-to-1 correspondence-----\n",
      "max(original_labels),len(original_labels) = (2, 3)\n",
      "empty_indices % = 0.06049956068783733\n",
      " conflict_indices % = 0.010480733023722856\n"
     ]
    },
    {
     "data": {
      "application/vnd.jupyter.widget-view+json": {
       "model_id": "77b89f2255534356943f7e3519bca0d1",
       "version_major": 2,
       "version_minor": 0
      },
      "text/plain": [
       "HBox(children=(FloatProgress(value=0.0, max=14.0), HTML(value='')))"
      ]
     },
     "metadata": {},
     "output_type": "display_data"
    },
    {
     "name": "stdout",
     "output_type": "stream",
     "text": [
      "\n",
      "AFTER face_lookup_resolved_test\n"
     ]
    },
    {
     "data": {
      "application/vnd.jupyter.widget-view+json": {
       "model_id": "fb0456aef4f54238a21cf9c6f50d7dfb",
       "version_major": 2,
       "version_minor": 0
      },
      "text/plain": [
       "HBox(children=(FloatProgress(value=0.0, max=3.0), HTML(value='')))"
      ]
     },
     "metadata": {},
     "output_type": "display_data"
    },
    {
     "name": "stdout",
     "output_type": "stream",
     "text": [
      "\n",
      "MP_branches_with_stitch_point= [0, 1]\n",
      "MP_branches_for_correspondence = [0 1]\n",
      "MP_leftover = [], MP_leftover_idx = []\n",
      " Finished with (0, 0) \n",
      "\n",
      "\n",
      "\n",
      "\n",
      "---- Working on (1, 0) connection-----\n",
      "sk_conn = [0, 1]\n",
      "conn = [0, 1]\n",
      "winning_vertex = [665500.37788039 735486.26827719 949804.03083792]\n",
      "MP_branches_with_stitch_point = [0, 1]\n",
      "MAP_branches_with_stitch_point = [1]\n",
      "MAP_stitch_point_on_end_or_branch = True\n"
     ]
    },
    {
     "data": {
      "application/vnd.jupyter.widget-view+json": {
       "model_id": "361a8e7179174710b6f3f8852f39e1a6",
       "version_major": 2,
       "version_minor": 0
      },
      "text/plain": [
       "HBox(children=(FloatProgress(value=1.0, bar_style='info', max=1.0), HTML(value='')))"
      ]
     },
     "metadata": {},
     "output_type": "display_data"
    },
    {
     "name": "stdout",
     "output_type": "stream",
     "text": [
      "\n",
      "\n",
      "\n",
      "--- Working on 1-to-1 correspondence-----\n",
      "max(original_labels),len(original_labels) = (2, 3)\n",
      "empty_indices % = 0.04069591527987897\n",
      " conflict_indices % = 0.016565809379727684\n"
     ]
    },
    {
     "data": {
      "application/vnd.jupyter.widget-view+json": {
       "model_id": "63810f3b5116427697dec3e5d7a05534",
       "version_major": 2,
       "version_minor": 0
      },
      "text/plain": [
       "HBox(children=(FloatProgress(value=0.0, max=11.0), HTML(value='')))"
      ]
     },
     "metadata": {},
     "output_type": "display_data"
    },
    {
     "name": "stdout",
     "output_type": "stream",
     "text": [
      "\n",
      "AFTER face_lookup_resolved_test\n"
     ]
    },
    {
     "data": {
      "application/vnd.jupyter.widget-view+json": {
       "model_id": "fb951e9226f7481494db3aa70416a94c",
       "version_major": 2,
       "version_minor": 0
      },
      "text/plain": [
       "HBox(children=(FloatProgress(value=0.0, max=3.0), HTML(value='')))"
      ]
     },
     "metadata": {},
     "output_type": "display_data"
    },
    {
     "name": "stdout",
     "output_type": "stream",
     "text": [
      "\n",
      "MP_branches_with_stitch_point= [0, 1]\n",
      "MP_branches_for_correspondence = [0 1]\n",
      "MP_leftover = [], MP_leftover_idx = []\n",
      " Finished with (1, 0) \n",
      "\n",
      "\n",
      "\n",
      "Time for decomp of Limb = 80.07807564735413\n",
      "Number of matching vertices = 23\n",
      "Only one endpoint after filtering away the endpoints that are not on the skeleton\n",
      "Using Distance measure skeletal_distance\n",
      "endpoints_must_keep = [[693709. 640432. 927293.]]\n",
      "Number of end_nodes BEFORE filtering = 6\n",
      "all_single_nodes_to_eliminate = [5]\n",
      "no small end nodes to get rid of so returning whole skeleton\n",
      "Removed 0 skeletal branches\n"
     ]
    },
    {
     "data": {
      "application/vnd.jupyter.widget-view+json": {
       "model_id": "bcb6c65178f8454e862a27ea8eba2c7f",
       "version_major": 2,
       "version_minor": 0
      },
      "text/plain": [
       "HBox(children=(FloatProgress(value=0.0, max=9.0), HTML(value='')))"
      ]
     },
     "metadata": {},
     "output_type": "display_data"
    },
    {
     "name": "stdout",
     "output_type": "stream",
     "text": [
      "\n",
      "61282 61283\n",
      "For marked faces: None\n",
      "empty_indices % = 0.0\n",
      " conflict_indices % = 0.0\n"
     ]
    },
    {
     "data": {
      "application/vnd.jupyter.widget-view+json": {
       "model_id": "3c89687f739548deb4777f004264d186",
       "version_major": 2,
       "version_minor": 0
      },
      "text/plain": [
       "HBox(children=(FloatProgress(value=1.0, bar_style='info', max=1.0), HTML(value='')))"
      ]
     },
     "metadata": {},
     "output_type": "display_data"
    },
    {
     "name": "stdout",
     "output_type": "stream",
     "text": [
      "\n",
      "AFTER face_lookup_resolved_test\n"
     ]
    },
    {
     "data": {
      "application/vnd.jupyter.widget-view+json": {
       "model_id": "0f986c4915554955803f18a4f6dd2f0a",
       "version_major": 2,
       "version_minor": 0
      },
      "text/plain": [
       "HBox(children=(FloatProgress(value=0.0, max=9.0), HTML(value='')))"
      ]
     },
     "metadata": {},
     "output_type": "display_data"
    },
    {
     "name": "stderr",
     "output_type": "stream",
     "text": [
      "\r",
      "  0%|          | 0/1 [00:00<?, ?it/s]"
     ]
    },
    {
     "name": "stdout",
     "output_type": "stream",
     "text": [
      "\n",
      "\n",
      "\n",
      "----- Working on Proper Limb # 4 ---------\n",
      "meshparty_segment_size = 100\n",
      "root_curr = [699668.3 642568.6 931356.2]\n",
      "Time for preparing soma vertices and root: 0.00043082237243652344\n",
      "invalidation_d = 12000\n",
      "cc_vertex_thresh = 10\n"
     ]
    },
    {
     "data": {
      "application/vnd.jupyter.widget-view+json": {
       "model_id": "7806bd1698014c7a874a9bd8ea45852f",
       "version_major": 2,
       "version_minor": 0
      },
      "text/plain": [
       "HBox(children=(FloatProgress(value=0.0, max=30271.0), HTML(value='')))"
      ]
     },
     "metadata": {},
     "output_type": "display_data"
    },
    {
     "name": "stderr",
     "output_type": "stream",
     "text": [
      "100%|██████████| 1/1 [00:00<00:00,  4.51it/s]"
     ]
    },
    {
     "name": "stdout",
     "output_type": "stream",
     "text": [
      "\n"
     ]
    },
    {
     "name": "stderr",
     "output_type": "stream",
     "text": [
      "\n"
     ]
    },
    {
     "name": "stdout",
     "output_type": "stream",
     "text": [
      "meshparty_segment_size = 100\n",
      "Time for 1st pass MP skeletonization: 0.6487367153167725\n",
      "connecting at the root\n",
      "branches_touching_root = [2]\n",
      "length of Graph = 3828\n",
      "After combining close endpoints max(kept_branches_idx) = 2, len(kept_branches_idx) = 3\n",
      "empty_indices % = 0.0\n",
      " conflict_indices % = 0.0017049310578848922\n"
     ]
    },
    {
     "data": {
      "application/vnd.jupyter.widget-view+json": {
       "model_id": "a5c392dbb8ed43c496016843138d5bd4",
       "version_major": 2,
       "version_minor": 0
      },
      "text/plain": [
       "HBox(children=(FloatProgress(value=0.0, max=1.0), HTML(value='')))"
      ]
     },
     "metadata": {},
     "output_type": "display_data"
    },
    {
     "name": "stdout",
     "output_type": "stream",
     "text": [
      "\n",
      "AFTER face_lookup_resolved_test\n"
     ]
    },
    {
     "data": {
      "application/vnd.jupyter.widget-view+json": {
       "model_id": "f72908837ae44d0297554291d6f2e661",
       "version_major": 2,
       "version_minor": 0
      },
      "text/plain": [
       "HBox(children=(FloatProgress(value=0.0, max=3.0), HTML(value='')))"
      ]
     },
     "metadata": {},
     "output_type": "display_data"
    },
    {
     "name": "stdout",
     "output_type": "stream",
     "text": [
      "\n",
      "Decomposing first pass: 3.787046194076538\n",
      "Attempting to use MeshAfterParty Skeletonization and Mesh Correspondence\n",
      "Another print\n",
      "Found len(mesh_large_idx) MAP candidates: [17495, 17573, 25345]\n",
      "mesh_large_connectivity: 0.030089378356933594\n",
      "Finding MAP candidates connected components: 0.00010776519775390625\n",
      "len(filtered_pieces) = 1\n",
      "skeleton_connectivity_MP : 0.01712512969970703\n",
      "Grouping MP Sublimbs by Graph: 3.8623809814453125e-05\n",
      "Divinding into MP and MAP pieces: 7.152557373046875e-07\n",
      "--- Working on MAP piece 0---\n",
      "MAP Filtering Soma Pieces: 0.0135498046875\n",
      "inside skeletonize_connected_branch and use_surface_after_CGAL=False, surface_reconstruction_size=1000\n",
      "     Starting Screened Poisson\n",
      "xvfb-run -n 4097 -s \"-screen 0 800x600x24\" meshlabserver $@  -i /notebooks/Auto_Proofreading/Decomposition_Optimization/Debug_4/temp/None.off -o /notebooks/Auto_Proofreading/Decomposition_Optimization/Debug_4/temp/None_poisson.off -s /notebooks/Auto_Proofreading/Decomposition_Optimization/Debug_4/temp/poisson_944303.mls\n",
      "removed temporary input file: /notebooks/Auto_Proofreading/Decomposition_Optimization/Debug_4/temp/None.off\n",
      "removed temporary output file: /notebooks/Auto_Proofreading/Decomposition_Optimization/Debug_4/temp/None_poisson.off\n",
      "Using the close holes feature\n",
      "Mesh was manifold\n",
      "No holes needed to fill and mesh was manifold so returning original mesh\n",
      "-----Time for Screened Poisson= 28.2488534450531\n",
      "mesh_pieces = [<trimesh.Trimesh(vertices.shape=(57812, 3), faces.shape=(115620, 3))>, <trimesh.Trimesh(vertices.shape=(10047, 3), faces.shape=(20090, 3))>]\n",
      "     Starting Calcification (Changed back where stitches large poissons)\n",
      "min_edge_length = 75\n",
      "min_edge_length = 75\n"
     ]
    },
    {
     "data": {
      "application/vnd.jupyter.widget-view+json": {
       "model_id": "6103e8b4f88e4f9a8c6edfef72baabe4",
       "version_major": 2,
       "version_minor": 0
      },
      "text/plain": [
       "HBox(children=(FloatProgress(value=1.0, bar_style='info', max=1.0), HTML(value='')))"
      ]
     },
     "metadata": {},
     "output_type": "display_data"
    },
    {
     "name": "stdout",
     "output_type": "stream",
     "text": [
      "\n",
      "No skeletons to stack so returning empty list\n",
      "len_subgraphs AT BEGINNING of the loop\n"
     ]
    },
    {
     "data": {
      "application/vnd.jupyter.widget-view+json": {
       "model_id": "e8d4c2a28be44844899e7a6b1cd1fba4",
       "version_major": 2,
       "version_minor": 0
      },
      "text/plain": [
       "HBox(children=(FloatProgress(value=0.0, max=2.0), HTML(value='')))"
      ]
     },
     "metadata": {},
     "output_type": "display_data"
    },
    {
     "name": "stdout",
     "output_type": "stream",
     "text": [
      "all graph is one component!\n",
      "\n",
      "Total time for skeleton stitching = 0.16646289825439453\n",
      "The process was using a temp folder\n",
      "Checking connected components after skeletonize_connected_branch\n",
      "    Total time for skeletonizing branch: 36.00204300880432\n",
      "Checking connected components after removing cycles\n",
      "Total time for mesh KDTree = 0.48386216163635254\n",
      "sbv[0].reshape(-1,3) = [[699668.3 642568.6 931356.2]]\n",
      "closest_sk_pt_coord BEFORE = [699138. 642969. 930824.]\n",
      "current_skeleton.shape = (2762, 2, 3)\n",
      "node_for_stitch = 1641: [699138. 642969. 930824.]\n",
      "node_for_stitch AFTER = 1641: [699138. 642969. 930824.]\n",
      "possible_node_loc = [   0  190  459  830  909  988 1364 1641 1843 1946 2337]\n",
      "possible_node_loc AFTER = [   0  190  459  830  909  988 1364 1641 1843 1946 2337]\n",
      "curr_shortest_path = [1641]\n",
      "Current stitch point was a branch or endpoint\n",
      "change_status for create soma extending pieces = False\n",
      "closest_sk_pt_coord AFTER = [699138. 642969. 930824.]\n",
      "skipping soma 1 because closest skeleton node was already end node\n",
      "endpoints_must_keep = {1: array([[699138., 642969., 930824.]])}\n",
      "    Total time for Fixing Skeleton Soma Endpoint Extension : 1.6001391410827637\n",
      "filter_end_node_length = 4000\n",
      "xvfb-run -n 4097 -s \"-screen 0 800x600x24\" meshlabserver $@  -i /notebooks/Auto_Proofreading/Decomposition_Optimization/Debug_4/temp/neuron_65362.off -o /notebooks/Auto_Proofreading/Decomposition_Optimization/Debug_4/temp/neuron_65362_remove_interior.off -s /notebooks/Auto_Proofreading/Decomposition_Optimization/Debug_4/temp/remove_interior_229978.mls\n",
      "removed temporary input file: /notebooks/Auto_Proofreading/Decomposition_Optimization/Debug_4/temp/neuron_65362.off\n",
      "removed temporary output file: /notebooks/Auto_Proofreading/Decomposition_Optimization/Debug_4/temp/neuron_65362_remove_interior.off\n",
      "/notebooks/Auto_Proofreading/Decomposition_Optimization/Debug_4/temp/remove_interior_229978.mls is being deleted....\n",
      "THERE WERE NO MESH PIECES GREATER THAN THE significance_threshold\n",
      "No significant (100) interior meshes present\n",
      "largest is 13\n",
      "Using Distance measure skeletal_distance\n",
      "endpoints_must_keep = [[699138. 642969. 930824.]\n",
      " [688473. 737727. 913946.]]\n",
      "Number of end_nodes BEFORE filtering = 11\n",
      "all_single_nodes_to_eliminate = [7, 3]\n"
     ]
    },
    {
     "data": {
      "application/vnd.jupyter.widget-view+json": {
       "model_id": "2ed42876a2534295bf7a75504f73c03d",
       "version_major": 2,
       "version_minor": 0
      },
      "text/plain": [
       "HBox(children=(FloatProgress(value=0.0, max=7.0), HTML(value='')))"
      ]
     },
     "metadata": {},
     "output_type": "display_data"
    },
    {
     "name": "stdout",
     "output_type": "stream",
     "text": [
      "\n",
      "Checking connected components after clean_skeleton\n",
      "after DISTANCE cleaning limb size of skeleton = (2741, 2, 3)\n",
      "********COMBINING CLOSE SKELETON NODES WITHIN 700 DISTANCE**********\n",
      "Found 0 valid paths to replace\n",
      "valid_paths = []\n",
      "valid_path_lengths = []\n",
      "No valid paths found so just returning the original\n",
      "skeletonize_and_clean_connected_branch_CGAL: 53.658214807510376\n",
      "Working on limb correspondence for #0 MAP piece\n",
      "xvfb-run -n 4097 -s \"-screen 0 800x600x24\" meshlabserver $@  -i /notebooks/Auto_Proofreading/Decomposition_Optimization/Debug_4/temp/neuron_53034.off -o /notebooks/Auto_Proofreading/Decomposition_Optimization/Debug_4/temp/neuron_53034_remove_interior.off -s /notebooks/Auto_Proofreading/Decomposition_Optimization/Debug_4/temp/remove_interior_668567.mls\n",
      "removed temporary input file: /notebooks/Auto_Proofreading/Decomposition_Optimization/Debug_4/temp/neuron_53034.off\n",
      "removed temporary output file: /notebooks/Auto_Proofreading/Decomposition_Optimization/Debug_4/temp/neuron_53034_remove_interior.off\n",
      "/notebooks/Auto_Proofreading/Decomposition_Optimization/Debug_4/temp/remove_interior_668567.mls is being deleted....\n",
      "THERE WERE NO MESH PIECES GREATER THAN THE significance_threshold\n",
      "No significant (100) interior meshes present\n",
      "largest is 13\n"
     ]
    },
    {
     "data": {
      "application/vnd.jupyter.widget-view+json": {
       "model_id": "3881beea55dc4739bd31e185de9fde12",
       "version_major": 2,
       "version_minor": 0
      },
      "text/plain": [
       "HBox(children=(FloatProgress(value=1.0, bar_style='info', max=1.0), HTML(value='')))"
      ]
     },
     "metadata": {},
     "output_type": "display_data"
    },
    {
     "name": "stdout",
     "output_type": "stream",
     "text": [
      "\n",
      "Total time for decomposition = 15.406768321990967\n",
      "mesh_correspondence_first_pass: 15.406818628311157\n",
      "Limb decomposed into 5 branches\n",
      "divided_skeleton_graph_recovered = (2741, 2, 3) and \n",
      "current_mesh_data[0]['branch_skeletons_cleaned'].shape = (2741, 2, 3)\n",
      "\n",
      "Number of connected components in deocmposed recovered graph = 1\n",
      "Number of connected components in cleaned skeleton graph= 1\n",
      "The downsampled branches number of connected components = 1\n",
      "Empty submeshes = []\n",
      "\n",
      "\n",
      "--- Working on 1-to-1 correspondence-----\n",
      "max(original_labels),len(original_labels) = (4, 5)\n",
      "empty_indices % = 0.07011735884660586\n",
      " conflict_indices % = 0.006786618774104912\n"
     ]
    },
    {
     "data": {
      "application/vnd.jupyter.widget-view+json": {
       "model_id": "ed7a674fa4984cb89559b1d6cadd8a13",
       "version_major": 2,
       "version_minor": 0
      },
      "text/plain": [
       "HBox(children=(FloatProgress(value=0.0, max=47.0), HTML(value='')))"
      ]
     },
     "metadata": {},
     "output_type": "display_data"
    },
    {
     "name": "stdout",
     "output_type": "stream",
     "text": [
      "\n",
      "AFTER face_lookup_resolved_test\n",
      "Took 0 iterations to expand the label back\n",
      "empty_indices % = 0.0\n",
      " conflict_indices % = 0.0\n"
     ]
    },
    {
     "data": {
      "application/vnd.jupyter.widget-view+json": {
       "model_id": "2fecf39e9d66439088d914172ad53ad7",
       "version_major": 2,
       "version_minor": 0
      },
      "text/plain": [
       "HBox(children=(FloatProgress(value=1.0, bar_style='info', max=1.0), HTML(value='')))"
      ]
     },
     "metadata": {},
     "output_type": "display_data"
    },
    {
     "name": "stdout",
     "output_type": "stream",
     "text": [
      "\n",
      "AFTER face_lookup_resolved_test\n"
     ]
    },
    {
     "data": {
      "application/vnd.jupyter.widget-view+json": {
       "model_id": "fb709dd563a94564a2556575c35150eb",
       "version_major": 2,
       "version_minor": 0
      },
      "text/plain": [
       "HBox(children=(FloatProgress(value=0.0, max=5.0), HTML(value='')))"
      ]
     },
     "metadata": {},
     "output_type": "display_data"
    },
    {
     "name": "stdout",
     "output_type": "stream",
     "text": [
      "\n",
      "Total time for MAP sublimb #0 mesh processing = 78.1986448764801\n",
      "correspondence_1_to_1: 9.119853973388672\n",
      "Total time for MAP sublimb processing 78.19890832901001\n",
      "There were not both MAP and MP pieces so skipping the stitch resolving phase\n",
      "Time for decomp of Limb = 82.85885381698608\n",
      "Number of matching vertices = 31\n",
      "Only one endpoint after filtering away the endpoints that are not on the skeleton\n",
      "Using Distance measure skeletal_distance\n",
      "endpoints_must_keep = [[699138. 642969. 930824.]]\n",
      "Number of end_nodes BEFORE filtering = 4\n",
      "all_single_nodes_to_eliminate = [2]\n",
      "no small end nodes to get rid of so returning whole skeleton\n",
      "Removed 0 skeletal branches\n"
     ]
    },
    {
     "data": {
      "application/vnd.jupyter.widget-view+json": {
       "model_id": "4a629f5944914d3f9cf75f874530bff1",
       "version_major": 2,
       "version_minor": 0
      },
      "text/plain": [
       "HBox(children=(FloatProgress(value=0.0, max=5.0), HTML(value='')))"
      ]
     },
     "metadata": {},
     "output_type": "display_data"
    },
    {
     "name": "stdout",
     "output_type": "stream",
     "text": [
      "\n",
      "60412 60413\n",
      "For marked faces: None\n",
      "empty_indices % = 0.0\n",
      " conflict_indices % = 0.0\n"
     ]
    },
    {
     "data": {
      "application/vnd.jupyter.widget-view+json": {
       "model_id": "b1f9a34c960c4b9ab4701e78960873f8",
       "version_major": 2,
       "version_minor": 0
      },
      "text/plain": [
       "HBox(children=(FloatProgress(value=1.0, bar_style='info', max=1.0), HTML(value='')))"
      ]
     },
     "metadata": {},
     "output_type": "display_data"
    },
    {
     "name": "stdout",
     "output_type": "stream",
     "text": [
      "\n",
      "AFTER face_lookup_resolved_test\n"
     ]
    },
    {
     "data": {
      "application/vnd.jupyter.widget-view+json": {
       "model_id": "9aa1e84b50594ef0845a5ec7b778df53",
       "version_major": 2,
       "version_minor": 0
      },
      "text/plain": [
       "HBox(children=(FloatProgress(value=0.0, max=5.0), HTML(value='')))"
      ]
     },
     "metadata": {},
     "output_type": "display_data"
    },
    {
     "name": "stderr",
     "output_type": "stream",
     "text": [
      "\r",
      "  0%|          | 0/1 [00:00<?, ?it/s]"
     ]
    },
    {
     "name": "stdout",
     "output_type": "stream",
     "text": [
      "\n",
      "\n",
      "\n",
      "----- Working on Proper Limb # 5 ---------\n",
      "meshparty_segment_size = 100\n",
      "root_curr = [612745.6 668498.6 952853.5]\n",
      "Time for preparing soma vertices and root: 0.0005319118499755859\n",
      "invalidation_d = 12000\n",
      "cc_vertex_thresh = 10\n"
     ]
    },
    {
     "data": {
      "application/vnd.jupyter.widget-view+json": {
       "model_id": "d23800c30b8744a09affb212828e049b",
       "version_major": 2,
       "version_minor": 0
      },
      "text/plain": [
       "HBox(children=(FloatProgress(value=0.0, max=29632.0), HTML(value='')))"
      ]
     },
     "metadata": {},
     "output_type": "display_data"
    },
    {
     "name": "stderr",
     "output_type": "stream",
     "text": [
      "100%|██████████| 1/1 [00:00<00:00,  2.45it/s]"
     ]
    },
    {
     "name": "stdout",
     "output_type": "stream",
     "text": [
      "\n"
     ]
    },
    {
     "name": "stderr",
     "output_type": "stream",
     "text": [
      "\n"
     ]
    },
    {
     "name": "stdout",
     "output_type": "stream",
     "text": [
      "meshparty_segment_size = 100\n",
      "Time for 1st pass MP skeletonization: 0.793039083480835\n",
      "branches_touching_root = [7]\n",
      "length of Graph = 2530\n",
      "After combining close endpoints max(kept_branches_idx) = 14, len(kept_branches_idx) = 15\n",
      "empty_indices % = 0.0\n",
      " conflict_indices % = 0.0054555928297922805\n"
     ]
    },
    {
     "data": {
      "application/vnd.jupyter.widget-view+json": {
       "model_id": "e0c6430f43c0402abb11316e0a5fce2b",
       "version_major": 2,
       "version_minor": 0
      },
      "text/plain": [
       "HBox(children=(FloatProgress(value=0.0, max=8.0), HTML(value='')))"
      ]
     },
     "metadata": {},
     "output_type": "display_data"
    },
    {
     "name": "stdout",
     "output_type": "stream",
     "text": [
      "\n",
      "AFTER face_lookup_resolved_test\n"
     ]
    },
    {
     "data": {
      "application/vnd.jupyter.widget-view+json": {
       "model_id": "3aa8f3e088ff48c69f6ef3ff3eb3a1e1",
       "version_major": 2,
       "version_minor": 0
      },
      "text/plain": [
       "HBox(children=(FloatProgress(value=0.0, max=15.0), HTML(value='')))"
      ]
     },
     "metadata": {},
     "output_type": "display_data"
    },
    {
     "name": "stdout",
     "output_type": "stream",
     "text": [
      "\n",
      "Decomposing first pass: 3.2740516662597656\n",
      "Attempting to use MeshAfterParty Skeletonization and Mesh Correspondence\n",
      "Another print\n",
      "Found len(mesh_large_idx) MAP candidates: [2541, 4341]\n",
      "mesh_large_connectivity: 0.002619028091430664\n",
      "Finding MAP candidates connected components: 9.417533874511719e-05\n",
      "len(filtered_pieces) = 1\n",
      "skeleton_connectivity_MP : 0.13009881973266602\n",
      "Grouping MP Sublimbs by Graph: 0.0350193977355957\n",
      "Divinding into MP and MAP pieces: 1.430511474609375e-06\n",
      "--- Working on MAP piece 0---\n",
      "MAP Filtering Soma Pieces: 0.013819694519042969\n",
      "inside skeletonize_connected_branch and use_surface_after_CGAL=False, surface_reconstruction_size=1000\n",
      "     Starting Screened Poisson\n",
      "xvfb-run -n 4097 -s \"-screen 0 800x600x24\" meshlabserver $@  -i /notebooks/Auto_Proofreading/Decomposition_Optimization/Debug_4/temp/None.off -o /notebooks/Auto_Proofreading/Decomposition_Optimization/Debug_4/temp/None_poisson.off -s /notebooks/Auto_Proofreading/Decomposition_Optimization/Debug_4/temp/poisson_996135.mls\n",
      "removed temporary input file: /notebooks/Auto_Proofreading/Decomposition_Optimization/Debug_4/temp/None.off\n",
      "removed temporary output file: /notebooks/Auto_Proofreading/Decomposition_Optimization/Debug_4/temp/None_poisson.off\n",
      "Using the close holes feature\n",
      "Mesh was manifold\n",
      "No holes needed to fill and mesh was manifold so returning original mesh\n",
      "-----Time for Screened Poisson= 11.7636079788208\n",
      "mesh_pieces = [<trimesh.Trimesh(vertices.shape=(10367, 3), faces.shape=(20730, 3))>]\n",
      "     Starting Calcification (Changed back where stitches large poissons)\n",
      "min_edge_length = 75\n"
     ]
    },
    {
     "data": {
      "application/vnd.jupyter.widget-view+json": {
       "model_id": "9cb22703445b44e68db56dcb482bcf1f",
       "version_major": 2,
       "version_minor": 0
      },
      "text/plain": [
       "HBox(children=(FloatProgress(value=1.0, bar_style='info', max=1.0), HTML(value='')))"
      ]
     },
     "metadata": {},
     "output_type": "display_data"
    },
    {
     "name": "stdout",
     "output_type": "stream",
     "text": [
      "\n",
      "No skeletons to stack so returning empty list\n",
      "len_subgraphs AT BEGINNING of the loop\n"
     ]
    },
    {
     "data": {
      "application/vnd.jupyter.widget-view+json": {
       "model_id": "7c913a2c887543d39026f11a0d3af743",
       "version_major": 2,
       "version_minor": 0
      },
      "text/plain": [
       "HBox(children=(FloatProgress(value=0.0, max=1.0), HTML(value='')))"
      ]
     },
     "metadata": {},
     "output_type": "display_data"
    },
    {
     "name": "stdout",
     "output_type": "stream",
     "text": [
      "all graph is one component!\n",
      "\n",
      "Total time for skeleton stitching = 0.03881430625915527\n",
      "The process was using a temp folder\n",
      "Checking connected components after skeletonize_connected_branch\n",
      "    Total time for skeletonizing branch: 12.73606014251709\n",
      "Checking connected components after removing cycles\n",
      "Total time for mesh KDTree = 0.06815719604492188\n",
      "sbv[0].reshape(-1,3) = [[612745.6 668498.6 952853.5]]\n",
      "closest_sk_pt_coord BEFORE = [612507. 668579. 952427.]\n",
      "current_skeleton.shape = (235, 2, 3)\n",
      "node_for_stitch = 6: [612507. 668579. 952427.]\n",
      "node_for_stitch AFTER = 6: [612507. 668579. 952427.]\n",
      "possible_node_loc = [  0   6  96 100 146 235]\n",
      "possible_node_loc AFTER = [  0   6  96 100 146 235]\n",
      "curr_shortest_path = [6]\n",
      "Current stitch point was a branch or endpoint\n",
      "change_status for create soma extending pieces = False\n",
      "closest_sk_pt_coord AFTER = [612507. 668579. 952427.]\n",
      "skipping soma 0 because closest skeleton node was already end node\n",
      "endpoints_must_keep = {0: array([[612507., 668579., 952427.]])}\n",
      "    Total time for Fixing Skeleton Soma Endpoint Extension : 0.17042946815490723\n",
      "filter_end_node_length = 4000\n",
      "Using Distance measure skeletal_distance\n",
      "endpoints_must_keep = [[612507. 668579. 952427.]]\n",
      "Number of end_nodes BEFORE filtering = 6\n",
      "all_single_nodes_to_eliminate = [1]\n"
     ]
    },
    {
     "data": {
      "application/vnd.jupyter.widget-view+json": {
       "model_id": "e1a9a1dfaa954b0481ba2bfaed1554fe",
       "version_major": 2,
       "version_minor": 0
      },
      "text/plain": [
       "HBox(children=(FloatProgress(value=0.0, max=4.0), HTML(value='')))"
      ]
     },
     "metadata": {},
     "output_type": "display_data"
    },
    {
     "name": "stdout",
     "output_type": "stream",
     "text": [
      "\n",
      "Checking connected components after clean_skeleton\n",
      "after DISTANCE cleaning limb size of skeleton = (221, 2, 3)\n",
      "********COMBINING CLOSE SKELETON NODES WITHIN 700 DISTANCE**********\n",
      "Found 0 valid paths to replace\n",
      "valid_paths = []\n",
      "valid_path_lengths = []\n",
      "No valid paths found so just returning the original\n",
      "skeletonize_and_clean_connected_branch_CGAL: 13.424741506576538\n",
      "Working on limb correspondence for #0 MAP piece\n",
      "xvfb-run -n 4097 -s \"-screen 0 800x600x24\" meshlabserver $@  -i /notebooks/Auto_Proofreading/Decomposition_Optimization/Debug_4/temp/neuron_88544.off -o /notebooks/Auto_Proofreading/Decomposition_Optimization/Debug_4/temp/neuron_88544_remove_interior.off -s /notebooks/Auto_Proofreading/Decomposition_Optimization/Debug_4/temp/remove_interior_467206.mls\n",
      "removed temporary input file: /notebooks/Auto_Proofreading/Decomposition_Optimization/Debug_4/temp/neuron_88544.off\n",
      "removed temporary output file: /notebooks/Auto_Proofreading/Decomposition_Optimization/Debug_4/temp/neuron_88544_remove_interior.off\n",
      "/notebooks/Auto_Proofreading/Decomposition_Optimization/Debug_4/temp/remove_interior_467206.mls is being deleted....\n",
      "THERE WERE NO MESH PIECES GREATER THAN THE significance_threshold\n",
      "No significant (100) interior meshes present\n",
      "largest is 7\n"
     ]
    },
    {
     "data": {
      "application/vnd.jupyter.widget-view+json": {
       "model_id": "b20145526da9494994a2bca9442903de",
       "version_major": 2,
       "version_minor": 0
      },
      "text/plain": [
       "HBox(children=(FloatProgress(value=1.0, bar_style='info', max=1.0), HTML(value='')))"
      ]
     },
     "metadata": {},
     "output_type": "display_data"
    },
    {
     "name": "stdout",
     "output_type": "stream",
     "text": [
      "\n",
      "Total time for decomposition = 2.05696964263916\n",
      "mesh_correspondence_first_pass: 2.0570008754730225\n",
      "Limb decomposed into 1 branches\n",
      "divided_skeleton_graph_recovered = (221, 2, 3) and \n",
      "current_mesh_data[0]['branch_skeletons_cleaned'].shape = (221, 2, 3)\n",
      "\n",
      "Number of connected components in deocmposed recovered graph = 1\n",
      "Number of connected components in cleaned skeleton graph= 1\n",
      "The downsampled branches number of connected components = 1\n",
      "Empty submeshes = []\n",
      "\n",
      "\n",
      "--- Working on 1-to-1 correspondence-----\n",
      "max(original_labels),len(original_labels) = (0, 1)\n",
      "empty_indices % = 0.17523975588491716\n",
      " conflict_indices % = 0.0\n"
     ]
    },
    {
     "data": {
      "application/vnd.jupyter.widget-view+json": {
       "model_id": "c6b67abe62a84ce6801c919a05f295f1",
       "version_major": 2,
       "version_minor": 0
      },
      "text/plain": [
       "HBox(children=(FloatProgress(value=0.0, max=14.0), HTML(value='')))"
      ]
     },
     "metadata": {},
     "output_type": "display_data"
    },
    {
     "name": "stdout",
     "output_type": "stream",
     "text": [
      "\n",
      "AFTER face_lookup_resolved_test\n",
      "Took 0 iterations to expand the label back\n",
      "empty_indices % = 0.0\n",
      " conflict_indices % = 0.0\n"
     ]
    },
    {
     "data": {
      "application/vnd.jupyter.widget-view+json": {
       "model_id": "e8d50aea188d4cb8bcd617bccc1591d5",
       "version_major": 2,
       "version_minor": 0
      },
      "text/plain": [
       "HBox(children=(FloatProgress(value=1.0, bar_style='info', max=1.0), HTML(value='')))"
      ]
     },
     "metadata": {},
     "output_type": "display_data"
    },
    {
     "name": "stdout",
     "output_type": "stream",
     "text": [
      "\n",
      "AFTER face_lookup_resolved_test\n"
     ]
    },
    {
     "data": {
      "application/vnd.jupyter.widget-view+json": {
       "model_id": "ed8eee9c4a8e4fca86883a3dc8360878",
       "version_major": 2,
       "version_minor": 0
      },
      "text/plain": [
       "HBox(children=(FloatProgress(value=0.0, max=1.0), HTML(value='')))"
      ]
     },
     "metadata": {},
     "output_type": "display_data"
    },
    {
     "name": "stdout",
     "output_type": "stream",
     "text": [
      "\n",
      "Total time for MAP sublimb #0 mesh processing = 16.088603734970093\n",
      "correspondence_1_to_1: 0.5926954746246338\n",
      "Total time for MAP sublimb processing 16.088826179504395\n",
      "---- Working on MP Decomposition #0 ----\n",
      "Computing the current soma touching verts dict manually\n",
      "MP filtering soma verts: 0.013681411743164062\n",
      "Do Not Need to Fix MP Decomposition 0 so just continuing\n",
      "Successful mesh connectivity with type edges\n",
      "\n",
      "---- Working on (0, 0) connection-----\n",
      "sk_conn = [8]\n",
      "conn = [8]\n",
      "winning_vertex = [609826.47218097 729661.37928632 947844.18086962]\n",
      "MP_branches_with_stitch_point = [8]\n",
      "MAP_branches_with_stitch_point = [0]\n",
      "MAP_stitch_point_on_end_or_branch = True\n"
     ]
    },
    {
     "data": {
      "application/vnd.jupyter.widget-view+json": {
       "model_id": "e5608639b34b4f069902ee7508dd4e26",
       "version_major": 2,
       "version_minor": 0
      },
      "text/plain": [
       "HBox(children=(FloatProgress(value=1.0, bar_style='info', max=1.0), HTML(value='')))"
      ]
     },
     "metadata": {},
     "output_type": "display_data"
    },
    {
     "name": "stdout",
     "output_type": "stream",
     "text": [
      "\n",
      "\n",
      "\n",
      "--- Working on 1-to-1 correspondence-----\n",
      "max(original_labels),len(original_labels) = (1, 2)\n",
      "empty_indices % = 0.38096901526530896\n",
      " conflict_indices % = 0.0\n"
     ]
    },
    {
     "data": {
      "application/vnd.jupyter.widget-view+json": {
       "model_id": "32bb97c645fe46c3a5b528eb6e2a24c6",
       "version_major": 2,
       "version_minor": 0
      },
      "text/plain": [
       "HBox(children=(FloatProgress(value=0.0, max=60.0), HTML(value='')))"
      ]
     },
     "metadata": {},
     "output_type": "display_data"
    },
    {
     "name": "stdout",
     "output_type": "stream",
     "text": [
      "\n",
      "AFTER face_lookup_resolved_test\n"
     ]
    },
    {
     "data": {
      "application/vnd.jupyter.widget-view+json": {
       "model_id": "03d65f391bd1413cb4f953953147103c",
       "version_major": 2,
       "version_minor": 0
      },
      "text/plain": [
       "HBox(children=(FloatProgress(value=0.0, max=2.0), HTML(value='')))"
      ]
     },
     "metadata": {},
     "output_type": "display_data"
    },
    {
     "name": "stdout",
     "output_type": "stream",
     "text": [
      "\n",
      "MP_branches_with_stitch_point= [8]\n",
      "MP_branches_for_correspondence = [8]\n",
      "MP_leftover = [], MP_leftover_idx = []\n",
      " Finished with (0, 0) \n",
      "\n",
      "\n",
      "\n",
      "Time for decomp of Limb = 27.7919704914093\n",
      "Number of matching vertices = 21\n",
      "Only one endpoint after filtering away the endpoints that are not on the skeleton\n",
      "Using Distance measure skeletal_distance\n",
      "endpoints_must_keep = [[612507. 668579. 952427.]]\n",
      "Number of end_nodes BEFORE filtering = 8\n",
      "all_single_nodes_to_eliminate = [3]\n"
     ]
    },
    {
     "data": {
      "application/vnd.jupyter.widget-view+json": {
       "model_id": "ba13d005a4cb4f638637862a69213a3c",
       "version_major": 2,
       "version_minor": 0
      },
      "text/plain": [
       "HBox(children=(FloatProgress(value=0.0, max=4.0), HTML(value='')))"
      ]
     },
     "metadata": {},
     "output_type": "display_data"
    },
    {
     "name": "stdout",
     "output_type": "stream",
     "text": [
      "\n",
      "Removed 4 skeletal branches\n"
     ]
    },
    {
     "data": {
      "application/vnd.jupyter.widget-view+json": {
       "model_id": "3b9741d550f447319df39d43d74e7171",
       "version_major": 2,
       "version_minor": 0
      },
      "text/plain": [
       "HBox(children=(FloatProgress(value=0.0, max=14.0), HTML(value='')))"
      ]
     },
     "metadata": {},
     "output_type": "display_data"
    },
    {
     "name": "stdout",
     "output_type": "stream",
     "text": [
      "\n",
      "59021 59022\n",
      "For marked faces: None\n",
      "empty_indices % = 0.0\n",
      " conflict_indices % = 0.0\n"
     ]
    },
    {
     "data": {
      "application/vnd.jupyter.widget-view+json": {
       "model_id": "1c762a95e4134aac9a962dd666b63441",
       "version_major": 2,
       "version_minor": 0
      },
      "text/plain": [
       "HBox(children=(FloatProgress(value=1.0, bar_style='info', max=1.0), HTML(value='')))"
      ]
     },
     "metadata": {},
     "output_type": "display_data"
    },
    {
     "name": "stdout",
     "output_type": "stream",
     "text": [
      "\n",
      "AFTER face_lookup_resolved_test\n"
     ]
    },
    {
     "data": {
      "application/vnd.jupyter.widget-view+json": {
       "model_id": "8733125f75c548e187b311ec49df6757",
       "version_major": 2,
       "version_minor": 0
      },
      "text/plain": [
       "HBox(children=(FloatProgress(value=0.0, max=5.0), HTML(value='')))"
      ]
     },
     "metadata": {},
     "output_type": "display_data"
    },
    {
     "name": "stderr",
     "output_type": "stream",
     "text": [
      "\r",
      "  0%|          | 0/1 [00:00<?, ?it/s]"
     ]
    },
    {
     "name": "stdout",
     "output_type": "stream",
     "text": [
      "\n",
      "\n",
      "\n",
      "----- Working on Proper Limb # 6 ---------\n",
      "meshparty_segment_size = 100\n",
      "root_curr = [614461.2 660424.7 960682.1]\n",
      "Time for preparing soma vertices and root: 0.0006451606750488281\n",
      "invalidation_d = 12000\n",
      "cc_vertex_thresh = 10\n"
     ]
    },
    {
     "data": {
      "application/vnd.jupyter.widget-view+json": {
       "model_id": "21985852824249de84be8958e1207fd3",
       "version_major": 2,
       "version_minor": 0
      },
      "text/plain": [
       "HBox(children=(FloatProgress(value=0.0, max=29008.0), HTML(value='')))"
      ]
     },
     "metadata": {},
     "output_type": "display_data"
    },
    {
     "name": "stderr",
     "output_type": "stream",
     "text": [
      "100%|██████████| 1/1 [00:00<00:00,  5.02it/s]"
     ]
    },
    {
     "name": "stdout",
     "output_type": "stream",
     "text": [
      "\n"
     ]
    },
    {
     "name": "stderr",
     "output_type": "stream",
     "text": [
      "\n"
     ]
    },
    {
     "name": "stdout",
     "output_type": "stream",
     "text": [
      "meshparty_segment_size = 100\n",
      "Time for 1st pass MP skeletonization: 0.6268889904022217\n",
      "connecting at the root\n",
      "branches_touching_root = [2]\n",
      "length of Graph = 3222\n",
      "After combining close endpoints max(kept_branches_idx) = 2, len(kept_branches_idx) = 3\n",
      "empty_indices % = 0.0\n",
      " conflict_indices % = 0.0008484113929529911\n"
     ]
    },
    {
     "data": {
      "application/vnd.jupyter.widget-view+json": {
       "model_id": "bb774a33f88849b19fbc9e5f888f4dbd",
       "version_major": 2,
       "version_minor": 0
      },
      "text/plain": [
       "HBox(children=(FloatProgress(value=0.0, max=1.0), HTML(value='')))"
      ]
     },
     "metadata": {},
     "output_type": "display_data"
    },
    {
     "name": "stdout",
     "output_type": "stream",
     "text": [
      "\n",
      "AFTER face_lookup_resolved_test\n"
     ]
    },
    {
     "data": {
      "application/vnd.jupyter.widget-view+json": {
       "model_id": "273d9de7020547cd82dab3dfddcc6399",
       "version_major": 2,
       "version_minor": 0
      },
      "text/plain": [
       "HBox(children=(FloatProgress(value=0.0, max=3.0), HTML(value='')))"
      ]
     },
     "metadata": {},
     "output_type": "display_data"
    },
    {
     "name": "stdout",
     "output_type": "stream",
     "text": [
      "\n",
      "Decomposing first pass: 3.3465664386749268\n",
      "Attempting to use MeshAfterParty Skeletonization and Mesh Correspondence\n",
      "Another print\n",
      "Divinding into MP and MAP pieces: 9.989738464355469e-05\n",
      "Total time for MAP sublimb processing 4.0531158447265625e-06\n",
      "---- Working on MP Decomposition #0 ----\n",
      "Using Quicker soma_to_piece_touching_vertices because no MAP and only one sublimb_mesh piece \n",
      "MP filtering soma verts: 6.67572021484375e-05\n",
      "Fixing Possible Soma Extension Branch for Sublimb 0\n",
      "Total time for mesh KDTree = 0.23181366920471191\n",
      "sbv[0].reshape(-1,3) = [[614461.2 660424.7 960682.1]]\n",
      "On iteration 0 the filter points were empty with close_nodes len = 873, len(all_skeleton_points) = 1197, len(sk_points_closest_nodes) = 1197\n",
      "closest_sk_pt_coord BEFORE = [613843.40647605 654733.73326553 968958.75506745]\n",
      "current_skeleton.shape = (1196, 2, 3)\n",
      "node_for_stitch = 30: [613843.40647605 654733.73326553 968958.75506745]\n",
      "node_for_stitch AFTER = 30: [613843.40647605 654733.73326553 968958.75506745]\n",
      "possible_node_loc = [  77 1196]\n",
      "possible_node_loc AFTER = [  77 1196]\n",
      "curr_shortest_path = [30, 28.0, 25.0, 22.0, 20.0, 17.0, 15.0, 13.0, 11.0, 9.0, 6.0, 5.0, 2.0, 1.0, 0.0, 3.0, 4.0, 7.0, 8.0, 10.0, 12.0, 14.0, 16.0, 18.0, 19.0, 21.0, 23.0, 24.0, 26.0, 27.0, 29.0, 31.0, 32.0, 34.0, 35.0, 37.0, 38.0, 40.0, 42.0, 43.0, 45.0, 46.0, 48.0, 49.0, 50.0, 52.0, 53.0, 54.0, 55.0, 57.0, 58.0, 59.0, 60.0, 62.0, 63.0, 64.0, 66.0, 67.0, 68.0, 69.0, 71.0, 72.0, 73.0, 74.0, 75.0, 76.0, 77.0]\n",
      "Current stitch point was not a branch or endpoint, shortest_path_length to one = 6595.523870640503\n",
      "change_status for create soma extending pieces = False\n",
      "closest_sk_pt_coord AFTER = [613843.40647605 654733.73326553 968958.75506745]\n",
      "Adding new branch to skeleton\n",
      "border_average_coordinate = [614947.24       660849.53714286 960430.57714286]\n",
      "endpoints_must_keep = {0: array([[614947.24      , 660849.53714286, 960430.57714286]])}\n",
      "match_sk_branches = []\n",
      "orig_vertex = [613843.40647605 654733.73326553 968958.75506745]\n",
      "match_sk_branches = [2]\n"
     ]
    },
    {
     "data": {
      "application/vnd.jupyter.widget-view+json": {
       "model_id": "e8028ecd139f49dcad12e5d1fb4ccd37",
       "version_major": 2,
       "version_minor": 0
      },
      "text/plain": [
       "HBox(children=(FloatProgress(value=1.0, bar_style='info', max=1.0), HTML(value='')))"
      ]
     },
     "metadata": {},
     "output_type": "display_data"
    },
    {
     "name": "stdout",
     "output_type": "stream",
     "text": [
      "\n",
      "\n",
      "\n",
      "--- Working on 1-to-1 correspondence-----\n",
      "max(original_labels),len(original_labels) = (2, 3)\n",
      "empty_indices % = 0.28557341907824224\n",
      " conflict_indices % = 0.002615219721329046\n"
     ]
    },
    {
     "data": {
      "application/vnd.jupyter.widget-view+json": {
       "model_id": "1a4773b627ce48ccb0bcda5146d419f8",
       "version_major": 2,
       "version_minor": 0
      },
      "text/plain": [
       "HBox(children=(FloatProgress(value=0.0, max=71.0), HTML(value='')))"
      ]
     },
     "metadata": {},
     "output_type": "display_data"
    },
    {
     "name": "stdout",
     "output_type": "stream",
     "text": [
      "\n",
      "AFTER face_lookup_resolved_test\n",
      "Took 0 iterations to expand the label back\n",
      "empty_indices % = 0.0\n",
      " conflict_indices % = 0.0\n"
     ]
    },
    {
     "data": {
      "application/vnd.jupyter.widget-view+json": {
       "model_id": "62f182b505e34b868b3c81c43bcfd695",
       "version_major": 2,
       "version_minor": 0
      },
      "text/plain": [
       "HBox(children=(FloatProgress(value=1.0, bar_style='info', max=1.0), HTML(value='')))"
      ]
     },
     "metadata": {},
     "output_type": "display_data"
    },
    {
     "name": "stdout",
     "output_type": "stream",
     "text": [
      "\n",
      "AFTER face_lookup_resolved_test\n"
     ]
    },
    {
     "data": {
      "application/vnd.jupyter.widget-view+json": {
       "model_id": "39f6aa4ad0274320b1bd2149272145cd",
       "version_major": 2,
       "version_minor": 0
      },
      "text/plain": [
       "HBox(children=(FloatProgress(value=0.0, max=3.0), HTML(value='')))"
      ]
     },
     "metadata": {},
     "output_type": "display_data"
    },
    {
     "name": "stdout",
     "output_type": "stream",
     "text": [
      "\n",
      "curr_width_median = 506.9572971361731\n",
      "curr_width_median = 298.728260709238\n",
      "curr_width_median = 612.7882002194358\n",
      "checked segment branches after soma add on\n",
      "Total time for mesh KDTree = 0.012709379196166992\n",
      "sbv[0].reshape(-1,3) = [[613905.7 659402.1 961356.5]]\n",
      "closest_sk_pt_coord BEFORE = [614947.24       660849.53714286 960430.57714286]\n",
      "current_skeleton.shape = (1, 2, 3)\n",
      "node_for_stitch = 1: [614947.24       660849.53714286 960430.57714286]\n",
      "node_for_stitch AFTER = 1: [614947.24       660849.53714286 960430.57714286]\n",
      "possible_node_loc = [0 1]\n",
      "possible_node_loc AFTER = [0 1]\n",
      "curr_shortest_path = [1]\n",
      "Current stitch point was a branch or endpoint\n",
      "change_status for create soma extending pieces = False\n",
      "closest_sk_pt_coord AFTER = [614947.24       660849.53714286 960430.57714286]\n",
      "skipping soma 0 because closest skeleton node was already end node\n",
      "endpoints_must_keep = {0: array([[614947.24      , 660849.53714286, 960430.57714286]])}\n",
      "match_sk_branches = [4]\n",
      "The new branch info was none so skipping \n",
      "\n",
      "MP (because soma touching verts) soma extension add: 6.049254894256592\n",
      "There were not both MAP and MP pieces so skipping the stitch resolving phase\n",
      "Time for decomp of Limb = 10.21224570274353\n",
      "Number of matching vertices = 35\n",
      "Number of matching vertices = 0\n",
      "Number of matching vertices = 0\n",
      "Number of matching vertices = 9\n",
      "Only one endpoint after filtering away the endpoints that are not on the skeleton\n",
      "Only one endpoint after filtering away the endpoints that are not on the skeleton\n",
      "Using Distance measure skeletal_distance\n",
      "endpoints_must_keep = [[614947.24       660849.53714286 960430.57714286]]\n",
      "Number of end_nodes BEFORE filtering = 4\n",
      "all_single_nodes_to_eliminate = [1]\n",
      "no small end nodes to get rid of so returning whole skeleton\n",
      "Removed 0 skeletal branches\n"
     ]
    },
    {
     "data": {
      "application/vnd.jupyter.widget-view+json": {
       "model_id": "66e73425e5024d998a75693ac2f2a1cf",
       "version_major": 2,
       "version_minor": 0
      },
      "text/plain": [
       "HBox(children=(FloatProgress(value=0.0, max=5.0), HTML(value='')))"
      ]
     },
     "metadata": {},
     "output_type": "display_data"
    },
    {
     "name": "stdout",
     "output_type": "stream",
     "text": [
      "\n",
      "57754 57755\n",
      "For marked faces: None\n",
      "empty_indices % = 0.0\n",
      " conflict_indices % = 0.0\n"
     ]
    },
    {
     "data": {
      "application/vnd.jupyter.widget-view+json": {
       "model_id": "a083ed3962b14369b9c7e2128590dc89",
       "version_major": 2,
       "version_minor": 0
      },
      "text/plain": [
       "HBox(children=(FloatProgress(value=1.0, bar_style='info', max=1.0), HTML(value='')))"
      ]
     },
     "metadata": {},
     "output_type": "display_data"
    },
    {
     "name": "stdout",
     "output_type": "stream",
     "text": [
      "\n",
      "AFTER face_lookup_resolved_test\n"
     ]
    },
    {
     "data": {
      "application/vnd.jupyter.widget-view+json": {
       "model_id": "0ab8895a51e44cc8ad2685c28949b47a",
       "version_major": 2,
       "version_minor": 0
      },
      "text/plain": [
       "HBox(children=(FloatProgress(value=0.0, max=5.0), HTML(value='')))"
      ]
     },
     "metadata": {},
     "output_type": "display_data"
    },
    {
     "name": "stderr",
     "output_type": "stream",
     "text": [
      "\r",
      "  0%|          | 0/1 [00:00<?, ?it/s]"
     ]
    },
    {
     "name": "stdout",
     "output_type": "stream",
     "text": [
      "\n",
      "\n",
      "\n",
      "----- Working on Proper Limb # 7 ---------\n",
      "meshparty_segment_size = 100\n",
      "root_curr = [701095.8 631204.1 939742.1]\n",
      "Time for preparing soma vertices and root: 0.0005316734313964844\n",
      "invalidation_d = 12000\n",
      "cc_vertex_thresh = 10\n"
     ]
    },
    {
     "data": {
      "application/vnd.jupyter.widget-view+json": {
       "model_id": "1c9daf7b722b4812b255f48c64b5a1e8",
       "version_major": 2,
       "version_minor": 0
      },
      "text/plain": [
       "HBox(children=(FloatProgress(value=0.0, max=28190.0), HTML(value='')))"
      ]
     },
     "metadata": {},
     "output_type": "display_data"
    },
    {
     "name": "stderr",
     "output_type": "stream",
     "text": [
      "100%|██████████| 1/1 [00:00<00:00,  5.90it/s]\n"
     ]
    },
    {
     "name": "stdout",
     "output_type": "stream",
     "text": [
      "\n",
      "meshparty_segment_size = 100\n",
      "Time for 1st pass MP skeletonization: 0.5641424655914307\n",
      "branches_touching_root = [1]\n",
      "length of Graph = 3047\n",
      "After combining close endpoints max(kept_branches_idx) = 2, len(kept_branches_idx) = 3\n",
      "empty_indices % = 0.0\n",
      " conflict_indices % = 0.0014090787478819229\n"
     ]
    },
    {
     "data": {
      "application/vnd.jupyter.widget-view+json": {
       "model_id": "bb4b9d1fea834911b9308b2bad5dfe5a",
       "version_major": 2,
       "version_minor": 0
      },
      "text/plain": [
       "HBox(children=(FloatProgress(value=0.0, max=1.0), HTML(value='')))"
      ]
     },
     "metadata": {},
     "output_type": "display_data"
    },
    {
     "name": "stdout",
     "output_type": "stream",
     "text": [
      "\n",
      "AFTER face_lookup_resolved_test\n"
     ]
    },
    {
     "data": {
      "application/vnd.jupyter.widget-view+json": {
       "model_id": "b9917b17ab8b48419bbc896a3b3e7bd3",
       "version_major": 2,
       "version_minor": 0
      },
      "text/plain": [
       "HBox(children=(FloatProgress(value=0.0, max=3.0), HTML(value='')))"
      ]
     },
     "metadata": {},
     "output_type": "display_data"
    },
    {
     "name": "stdout",
     "output_type": "stream",
     "text": [
      "\n",
      "Decomposing first pass: 3.23942494392395\n",
      "Attempting to use MeshAfterParty Skeletonization and Mesh Correspondence\n",
      "Another print\n",
      "Found len(mesh_large_idx) MAP candidates: [24905, 3593, 27567]\n",
      "mesh_large_connectivity: 0.029756546020507812\n",
      "Finding MAP candidates connected components: 0.00011086463928222656\n",
      "len(filtered_pieces) = 1\n",
      "skeleton_connectivity_MP : 0.01573944091796875\n",
      "Grouping MP Sublimbs by Graph: 3.743171691894531e-05\n",
      "Divinding into MP and MAP pieces: 9.5367431640625e-07\n",
      "--- Working on MAP piece 0---\n",
      "MAP Filtering Soma Pieces: 0.015084981918334961\n",
      "inside skeletonize_connected_branch and use_surface_after_CGAL=False, surface_reconstruction_size=1000\n",
      "     Starting Screened Poisson\n",
      "xvfb-run -n 4097 -s \"-screen 0 800x600x24\" meshlabserver $@  -i /notebooks/Auto_Proofreading/Decomposition_Optimization/Debug_4/temp/None.off -o /notebooks/Auto_Proofreading/Decomposition_Optimization/Debug_4/temp/None_poisson.off -s /notebooks/Auto_Proofreading/Decomposition_Optimization/Debug_4/temp/poisson_729484.mls\n",
      "removed temporary input file: /notebooks/Auto_Proofreading/Decomposition_Optimization/Debug_4/temp/None.off\n",
      "removed temporary output file: /notebooks/Auto_Proofreading/Decomposition_Optimization/Debug_4/temp/None_poisson.off\n",
      "Using the close holes feature\n",
      "Mesh was manifold\n",
      "No holes needed to fill and mesh was manifold so returning original mesh\n",
      "-----Time for Screened Poisson= 22.20656657218933\n",
      "mesh_pieces = [<trimesh.Trimesh(vertices.shape=(61412, 3), faces.shape=(122820, 3))>, <trimesh.Trimesh(vertices.shape=(2276, 3), faces.shape=(4548, 3))>]\n",
      "     Starting Calcification (Changed back where stitches large poissons)\n",
      "min_edge_length = 75\n",
      "min_edge_length = 75\n"
     ]
    },
    {
     "data": {
      "application/vnd.jupyter.widget-view+json": {
       "model_id": "cd6a9e074c184d7395c02b1c84b6258c",
       "version_major": 2,
       "version_minor": 0
      },
      "text/plain": [
       "HBox(children=(FloatProgress(value=1.0, bar_style='info', max=1.0), HTML(value='')))"
      ]
     },
     "metadata": {},
     "output_type": "display_data"
    },
    {
     "name": "stdout",
     "output_type": "stream",
     "text": [
      "\n",
      "No skeletons to stack so returning empty list\n",
      "len_subgraphs AT BEGINNING of the loop\n"
     ]
    },
    {
     "data": {
      "application/vnd.jupyter.widget-view+json": {
       "model_id": "c754acbc910c45588c557eb758b6611e",
       "version_major": 2,
       "version_minor": 0
      },
      "text/plain": [
       "HBox(children=(FloatProgress(value=0.0, max=2.0), HTML(value='')))"
      ]
     },
     "metadata": {},
     "output_type": "display_data"
    },
    {
     "name": "stdout",
     "output_type": "stream",
     "text": [
      "all graph is one component!\n",
      "\n",
      "Total time for skeleton stitching = 0.12881231307983398\n",
      "The process was using a temp folder\n",
      "Checking connected components after skeletonize_connected_branch\n",
      "    Total time for skeletonizing branch: 29.1874942779541\n",
      "Checking connected components after removing cycles\n",
      "Total time for mesh KDTree = 0.47148585319519043\n",
      "sbv[0].reshape(-1,3) = [[701095.8 631204.1 939742.1]]\n",
      "closest_sk_pt_coord BEFORE = [701308. 631618. 939767.]\n",
      "current_skeleton.shape = (2197, 2, 3)\n",
      "node_for_stitch = 1112: [701308. 631618. 939767.]\n",
      "node_for_stitch AFTER = 1112: [701308. 631618. 939767.]\n",
      "possible_node_loc = [  37  162  293  527  632  722  743  834  908  944  949 1112 1523 1925\n",
      " 2052 2099 2126 2197]\n",
      "possible_node_loc AFTER = [  37  162  293  527  632  722  743  834  908  944  949 1112 1523 1925\n",
      " 2052 2099 2126 2197]\n",
      "curr_shortest_path = [1112]\n",
      "Current stitch point was a branch or endpoint\n",
      "change_status for create soma extending pieces = False\n",
      "closest_sk_pt_coord AFTER = [701308. 631618. 939767.]\n",
      "skipping soma 1 because closest skeleton node was already end node\n",
      "endpoints_must_keep = {1: array([[701308., 631618., 939767.]])}\n",
      "    Total time for Fixing Skeleton Soma Endpoint Extension : 1.2883846759796143\n",
      "filter_end_node_length = 4000\n",
      "Using Distance measure skeletal_distance\n",
      "endpoints_must_keep = [[701308. 631618. 939767.]]\n",
      "Number of end_nodes BEFORE filtering = 18\n",
      "all_single_nodes_to_eliminate = [11]\n"
     ]
    },
    {
     "data": {
      "application/vnd.jupyter.widget-view+json": {
       "model_id": "5c714b95939a46db8575951ef5d58f44",
       "version_major": 2,
       "version_minor": 0
      },
      "text/plain": [
       "HBox(children=(FloatProgress(value=0.0, max=15.0), HTML(value='')))"
      ]
     },
     "metadata": {},
     "output_type": "display_data"
    },
    {
     "name": "stdout",
     "output_type": "stream",
     "text": [
      "\n",
      "Checking connected components after clean_skeleton\n",
      "after DISTANCE cleaning limb size of skeleton = (2153, 2, 3)\n",
      "********COMBINING CLOSE SKELETON NODES WITHIN 700 DISTANCE**********\n",
      "Found 0 valid paths to replace\n",
      "valid_paths = []\n",
      "valid_path_lengths = []\n",
      "No valid paths found so just returning the original\n",
      "skeletonize_and_clean_connected_branch_CGAL: 41.59041976928711\n",
      "Working on limb correspondence for #0 MAP piece\n",
      "xvfb-run -n 4097 -s \"-screen 0 800x600x24\" meshlabserver $@  -i /notebooks/Auto_Proofreading/Decomposition_Optimization/Debug_4/temp/neuron_87196.off -o /notebooks/Auto_Proofreading/Decomposition_Optimization/Debug_4/temp/neuron_87196_remove_interior.off -s /notebooks/Auto_Proofreading/Decomposition_Optimization/Debug_4/temp/remove_interior_405110.mls\n",
      "removed temporary input file: /notebooks/Auto_Proofreading/Decomposition_Optimization/Debug_4/temp/neuron_87196.off\n",
      "removed temporary output file: /notebooks/Auto_Proofreading/Decomposition_Optimization/Debug_4/temp/neuron_87196_remove_interior.off\n",
      "/notebooks/Auto_Proofreading/Decomposition_Optimization/Debug_4/temp/remove_interior_405110.mls is being deleted....\n",
      "THERE WERE NO MESH PIECES GREATER THAN THE significance_threshold\n",
      "No significant (100) interior meshes present\n",
      "largest is 7\n"
     ]
    },
    {
     "data": {
      "application/vnd.jupyter.widget-view+json": {
       "model_id": "a5731bd552f34d6e8991bec38cc20d3d",
       "version_major": 2,
       "version_minor": 0
      },
      "text/plain": [
       "HBox(children=(FloatProgress(value=1.0, bar_style='info', max=1.0), HTML(value='')))"
      ]
     },
     "metadata": {},
     "output_type": "display_data"
    },
    {
     "name": "stdout",
     "output_type": "stream",
     "text": [
      "\n",
      "Total time for decomposition = 12.885134935379028\n",
      "mesh_correspondence_first_pass: 12.885300159454346\n",
      "Limb decomposed into 3 branches\n",
      "divided_skeleton_graph_recovered = (2153, 2, 3) and \n",
      "current_mesh_data[0]['branch_skeletons_cleaned'].shape = (2153, 2, 3)\n",
      "\n",
      "Number of connected components in deocmposed recovered graph = 1\n",
      "Number of connected components in cleaned skeleton graph= 1\n",
      "The downsampled branches number of connected components = 1\n",
      "Empty submeshes = []\n",
      "\n",
      "\n",
      "--- Working on 1-to-1 correspondence-----\n",
      "max(original_labels),len(original_labels) = (2, 3)\n",
      "empty_indices % = 0.05622045839650406\n",
      " conflict_indices % = 0.006599482743244448\n"
     ]
    },
    {
     "data": {
      "application/vnd.jupyter.widget-view+json": {
       "model_id": "723b31ebafb84c4d8a637a74eb00b648",
       "version_major": 2,
       "version_minor": 0
      },
      "text/plain": [
       "HBox(children=(FloatProgress(value=0.0, max=49.0), HTML(value='')))"
      ]
     },
     "metadata": {},
     "output_type": "display_data"
    },
    {
     "name": "stdout",
     "output_type": "stream",
     "text": [
      "\n",
      "AFTER face_lookup_resolved_test\n",
      "Took 0 iterations to expand the label back\n",
      "empty_indices % = 0.0\n",
      " conflict_indices % = 0.0\n"
     ]
    },
    {
     "data": {
      "application/vnd.jupyter.widget-view+json": {
       "model_id": "04a737e30c7d4dddb1a202031f659c0f",
       "version_major": 2,
       "version_minor": 0
      },
      "text/plain": [
       "HBox(children=(FloatProgress(value=1.0, bar_style='info', max=1.0), HTML(value='')))"
      ]
     },
     "metadata": {},
     "output_type": "display_data"
    },
    {
     "name": "stdout",
     "output_type": "stream",
     "text": [
      "\n",
      "AFTER face_lookup_resolved_test\n"
     ]
    },
    {
     "data": {
      "application/vnd.jupyter.widget-view+json": {
       "model_id": "bba945e630524219b42f049dc222b936",
       "version_major": 2,
       "version_minor": 0
      },
      "text/plain": [
       "HBox(children=(FloatProgress(value=0.0, max=3.0), HTML(value='')))"
      ]
     },
     "metadata": {},
     "output_type": "display_data"
    },
    {
     "name": "stdout",
     "output_type": "stream",
     "text": [
      "\n",
      "Total time for MAP sublimb #0 mesh processing = 58.70750904083252\n",
      "correspondence_1_to_1: 4.216661214828491\n",
      "Total time for MAP sublimb processing 58.70804500579834\n",
      "There were not both MAP and MP pieces so skipping the stitch resolving phase\n",
      "Time for decomp of Limb = 62.683876514434814\n",
      "Number of matching vertices = 18\n",
      "Only one endpoint after filtering away the endpoints that are not on the skeleton\n",
      "Using Distance measure skeletal_distance\n",
      "endpoints_must_keep = [[701308. 631618. 939767.]]\n",
      "Number of end_nodes BEFORE filtering = 3\n",
      "all_single_nodes_to_eliminate = [1]\n",
      "no small end nodes to get rid of so returning whole skeleton\n",
      "Removed 0 skeletal branches\n"
     ]
    },
    {
     "data": {
      "application/vnd.jupyter.widget-view+json": {
       "model_id": "dfe223196bfa4f74a7f1ffcf676a624c",
       "version_major": 2,
       "version_minor": 0
      },
      "text/plain": [
       "HBox(children=(FloatProgress(value=0.0, max=3.0), HTML(value='')))"
      ]
     },
     "metadata": {},
     "output_type": "display_data"
    },
    {
     "name": "stdout",
     "output_type": "stream",
     "text": [
      "\n",
      "56064 56065\n",
      "For marked faces: None\n",
      "empty_indices % = 0.0\n",
      " conflict_indices % = 0.0\n"
     ]
    },
    {
     "data": {
      "application/vnd.jupyter.widget-view+json": {
       "model_id": "860738f08e6b45d19e8bceab77f8a100",
       "version_major": 2,
       "version_minor": 0
      },
      "text/plain": [
       "HBox(children=(FloatProgress(value=1.0, bar_style='info', max=1.0), HTML(value='')))"
      ]
     },
     "metadata": {},
     "output_type": "display_data"
    },
    {
     "name": "stdout",
     "output_type": "stream",
     "text": [
      "\n",
      "AFTER face_lookup_resolved_test\n"
     ]
    },
    {
     "data": {
      "application/vnd.jupyter.widget-view+json": {
       "model_id": "0cf5be142c5d40fa801455487a16d8ed",
       "version_major": 2,
       "version_minor": 0
      },
      "text/plain": [
       "HBox(children=(FloatProgress(value=0.0, max=3.0), HTML(value='')))"
      ]
     },
     "metadata": {},
     "output_type": "display_data"
    },
    {
     "name": "stderr",
     "output_type": "stream",
     "text": [
      "\r",
      "  0%|          | 0/1 [00:00<?, ?it/s]"
     ]
    },
    {
     "name": "stdout",
     "output_type": "stream",
     "text": [
      "\n",
      "\n",
      "\n",
      "----- Working on Proper Limb # 8 ---------\n",
      "meshparty_segment_size = 100\n",
      "root_curr = [703755.8 639960.7 929374.2]\n",
      "Time for preparing soma vertices and root: 0.0004069805145263672\n",
      "invalidation_d = 12000\n",
      "cc_vertex_thresh = 10\n"
     ]
    },
    {
     "data": {
      "application/vnd.jupyter.widget-view+json": {
       "model_id": "d12982874eff45ccade9d2d8d4c4dee5",
       "version_major": 2,
       "version_minor": 0
      },
      "text/plain": [
       "HBox(children=(FloatProgress(value=0.0, max=26462.0), HTML(value='')))"
      ]
     },
     "metadata": {},
     "output_type": "display_data"
    },
    {
     "name": "stderr",
     "output_type": "stream",
     "text": [
      "100%|██████████| 1/1 [00:00<00:00,  6.39it/s]\n"
     ]
    },
    {
     "name": "stdout",
     "output_type": "stream",
     "text": [
      "\n",
      "meshparty_segment_size = 100\n",
      "Time for 1st pass MP skeletonization: 0.49593329429626465\n",
      "branches_touching_root = [1]\n",
      "length of Graph = 2980\n",
      "After combining close endpoints max(kept_branches_idx) = 2, len(kept_branches_idx) = 3\n",
      "empty_indices % = 0.0\n",
      " conflict_indices % = 0.0028995944358109387\n"
     ]
    },
    {
     "data": {
      "application/vnd.jupyter.widget-view+json": {
       "model_id": "b3b3f9a774814c99b7ec9d26a7a559d3",
       "version_major": 2,
       "version_minor": 0
      },
      "text/plain": [
       "HBox(children=(FloatProgress(value=0.0, max=1.0), HTML(value='')))"
      ]
     },
     "metadata": {},
     "output_type": "display_data"
    },
    {
     "name": "stdout",
     "output_type": "stream",
     "text": [
      "\n",
      "AFTER face_lookup_resolved_test\n"
     ]
    },
    {
     "data": {
      "application/vnd.jupyter.widget-view+json": {
       "model_id": "c30bed35d45044f2b8aeb42c83ddb59a",
       "version_major": 2,
       "version_minor": 0
      },
      "text/plain": [
       "HBox(children=(FloatProgress(value=0.0, max=3.0), HTML(value='')))"
      ]
     },
     "metadata": {},
     "output_type": "display_data"
    },
    {
     "name": "stdout",
     "output_type": "stream",
     "text": [
      "\n",
      "Decomposing first pass: 3.185434341430664\n",
      "Attempting to use MeshAfterParty Skeletonization and Mesh Correspondence\n",
      "Another print\n",
      "Found len(mesh_large_idx) MAP candidates: [28188, 6317]\n",
      "mesh_large_connectivity: 0.009193897247314453\n",
      "Finding MAP candidates connected components: 9.489059448242188e-05\n",
      "len(filtered_pieces) = 1\n",
      "skeleton_connectivity_MP : 0.08329343795776367\n",
      "Grouping MP Sublimbs by Graph: 0.01055908203125\n",
      "Divinding into MP and MAP pieces: 1.9073486328125e-06\n",
      "--- Working on MAP piece 0---\n",
      "MAP Filtering Soma Pieces: 0.013358116149902344\n",
      "inside skeletonize_connected_branch and use_surface_after_CGAL=False, surface_reconstruction_size=1000\n",
      "     Starting Screened Poisson\n",
      "xvfb-run -n 4097 -s \"-screen 0 800x600x24\" meshlabserver $@  -i /notebooks/Auto_Proofreading/Decomposition_Optimization/Debug_4/temp/None.off -o /notebooks/Auto_Proofreading/Decomposition_Optimization/Debug_4/temp/None_poisson.off -s /notebooks/Auto_Proofreading/Decomposition_Optimization/Debug_4/temp/poisson_896460.mls\n",
      "removed temporary input file: /notebooks/Auto_Proofreading/Decomposition_Optimization/Debug_4/temp/None.off\n",
      "removed temporary output file: /notebooks/Auto_Proofreading/Decomposition_Optimization/Debug_4/temp/None_poisson.off\n",
      "Using the close holes feature\n",
      "Mesh was manifold\n",
      "No holes needed to fill and mesh was manifold so returning original mesh\n",
      "-----Time for Screened Poisson= 16.465513706207275\n",
      "mesh_pieces = [<trimesh.Trimesh(vertices.shape=(35967, 3), faces.shape=(71930, 3))>]\n",
      "     Starting Calcification (Changed back where stitches large poissons)\n",
      "min_edge_length = 75\n"
     ]
    },
    {
     "data": {
      "application/vnd.jupyter.widget-view+json": {
       "model_id": "4a22ae17e1284f2dac22a5b13b110cc9",
       "version_major": 2,
       "version_minor": 0
      },
      "text/plain": [
       "HBox(children=(FloatProgress(value=1.0, bar_style='info', max=1.0), HTML(value='')))"
      ]
     },
     "metadata": {},
     "output_type": "display_data"
    },
    {
     "name": "stdout",
     "output_type": "stream",
     "text": [
      "\n",
      "No skeletons to stack so returning empty list\n",
      "len_subgraphs AT BEGINNING of the loop\n"
     ]
    },
    {
     "data": {
      "application/vnd.jupyter.widget-view+json": {
       "model_id": "daeae595e4a64d27a773a164d9833262",
       "version_major": 2,
       "version_minor": 0
      },
      "text/plain": [
       "HBox(children=(FloatProgress(value=0.0, max=1.0), HTML(value='')))"
      ]
     },
     "metadata": {},
     "output_type": "display_data"
    },
    {
     "name": "stdout",
     "output_type": "stream",
     "text": [
      "all graph is one component!\n",
      "\n",
      "Total time for skeleton stitching = 0.07746767997741699\n",
      "The process was using a temp folder\n",
      "Checking connected components after skeletonize_connected_branch\n",
      "    Total time for skeletonizing branch: 20.359827041625977\n",
      "Checking connected components after removing cycles\n",
      "Total time for mesh KDTree = 0.30486154556274414\n",
      "sbv[0].reshape(-1,3) = [[703755.8 639960.7 929374.2]]\n",
      "closest_sk_pt_coord BEFORE = [703966. 639699. 929730.]\n",
      "current_skeleton.shape = (1311, 2, 3)\n",
      "node_for_stitch = 0: [703966. 639699. 929730.]\n",
      "node_for_stitch AFTER = 0: [703966. 639699. 929730.]\n",
      "possible_node_loc = [   0  519  542  724  802 1243 1266 1311]\n",
      "possible_node_loc AFTER = [   0  519  542  724  802 1243 1266 1311]\n",
      "curr_shortest_path = [0]\n",
      "Current stitch point was a branch or endpoint\n",
      "change_status for create soma extending pieces = False\n",
      "closest_sk_pt_coord AFTER = [703966. 639699. 929730.]\n",
      "skipping soma 1 because closest skeleton node was already end node\n",
      "endpoints_must_keep = {1: array([[703966., 639699., 929730.]])}\n",
      "    Total time for Fixing Skeleton Soma Endpoint Extension : 0.7487049102783203\n",
      "filter_end_node_length = 4000\n",
      "xvfb-run -n 4097 -s \"-screen 0 800x600x24\" meshlabserver $@  -i /notebooks/Auto_Proofreading/Decomposition_Optimization/Debug_4/temp/neuron_27913.off -o /notebooks/Auto_Proofreading/Decomposition_Optimization/Debug_4/temp/neuron_27913_remove_interior.off -s /notebooks/Auto_Proofreading/Decomposition_Optimization/Debug_4/temp/remove_interior_421256.mls\n",
      "removed temporary input file: /notebooks/Auto_Proofreading/Decomposition_Optimization/Debug_4/temp/neuron_27913.off\n",
      "removed temporary output file: /notebooks/Auto_Proofreading/Decomposition_Optimization/Debug_4/temp/neuron_27913_remove_interior.off\n",
      "/notebooks/Auto_Proofreading/Decomposition_Optimization/Debug_4/temp/remove_interior_421256.mls is being deleted....\n",
      "THERE WERE NO MESH PIECES GREATER THAN THE significance_threshold\n",
      "No significant (100) interior meshes present\n",
      "largest is 7\n",
      "Using Distance measure skeletal_distance\n",
      "endpoints_must_keep = [[703966. 639699. 929730.]\n",
      " [803110. 621713. 935096.]]\n",
      "Number of end_nodes BEFORE filtering = 8\n",
      "all_single_nodes_to_eliminate = [0, 4]\n"
     ]
    },
    {
     "data": {
      "application/vnd.jupyter.widget-view+json": {
       "model_id": "082b046dced3456e8b7d85a3de916d33",
       "version_major": 2,
       "version_minor": 0
      },
      "text/plain": [
       "HBox(children=(FloatProgress(value=0.0, max=5.0), HTML(value='')))"
      ]
     },
     "metadata": {},
     "output_type": "display_data"
    },
    {
     "name": "stdout",
     "output_type": "stream",
     "text": [
      "\n",
      "Checking connected components after clean_skeleton\n",
      "after DISTANCE cleaning limb size of skeleton = (1298, 2, 3)\n",
      "********COMBINING CLOSE SKELETON NODES WITHIN 700 DISTANCE**********\n",
      "Found 0 valid paths to replace\n",
      "valid_paths = []\n",
      "valid_path_lengths = []\n",
      "No valid paths found so just returning the original\n",
      "skeletonize_and_clean_connected_branch_CGAL: 31.549068689346313\n",
      "Working on limb correspondence for #0 MAP piece\n",
      "xvfb-run -n 4097 -s \"-screen 0 800x600x24\" meshlabserver $@  -i /notebooks/Auto_Proofreading/Decomposition_Optimization/Debug_4/temp/neuron_71283.off -o /notebooks/Auto_Proofreading/Decomposition_Optimization/Debug_4/temp/neuron_71283_remove_interior.off -s /notebooks/Auto_Proofreading/Decomposition_Optimization/Debug_4/temp/remove_interior_878049.mls\n",
      "removed temporary input file: /notebooks/Auto_Proofreading/Decomposition_Optimization/Debug_4/temp/neuron_71283.off\n",
      "removed temporary output file: /notebooks/Auto_Proofreading/Decomposition_Optimization/Debug_4/temp/neuron_71283_remove_interior.off\n",
      "/notebooks/Auto_Proofreading/Decomposition_Optimization/Debug_4/temp/remove_interior_878049.mls is being deleted....\n",
      "THERE WERE NO MESH PIECES GREATER THAN THE significance_threshold\n",
      "No significant (100) interior meshes present\n",
      "largest is 7\n"
     ]
    },
    {
     "data": {
      "application/vnd.jupyter.widget-view+json": {
       "model_id": "2188bb15d6274778ba1851a25a7c9227",
       "version_major": 2,
       "version_minor": 0
      },
      "text/plain": [
       "HBox(children=(FloatProgress(value=1.0, bar_style='info', max=1.0), HTML(value='')))"
      ]
     },
     "metadata": {},
     "output_type": "display_data"
    },
    {
     "name": "stdout",
     "output_type": "stream",
     "text": [
      "\n",
      "Total time for decomposition = 7.801950454711914\n",
      "mesh_correspondence_first_pass: 7.802129507064819\n",
      "Limb decomposed into 3 branches\n",
      "divided_skeleton_graph_recovered = (1298, 2, 3) and \n",
      "current_mesh_data[0]['branch_skeletons_cleaned'].shape = (1298, 2, 3)\n",
      "\n",
      "Number of connected components in deocmposed recovered graph = 1\n",
      "Number of connected components in cleaned skeleton graph= 1\n",
      "The downsampled branches number of connected components = 1\n",
      "Empty submeshes = []\n",
      "\n",
      "\n",
      "--- Working on 1-to-1 correspondence-----\n",
      "max(original_labels),len(original_labels) = (2, 3)\n",
      "empty_indices % = 0.029734821040428922\n",
      " conflict_indices % = 0.003912476452688016\n"
     ]
    },
    {
     "data": {
      "application/vnd.jupyter.widget-view+json": {
       "model_id": "79876962e409401cbd6ecadd5f5e9095",
       "version_major": 2,
       "version_minor": 0
      },
      "text/plain": [
       "HBox(children=(FloatProgress(value=0.0, max=35.0), HTML(value='')))"
      ]
     },
     "metadata": {},
     "output_type": "display_data"
    },
    {
     "name": "stdout",
     "output_type": "stream",
     "text": [
      "\n",
      "AFTER face_lookup_resolved_test\n",
      "Took 0 iterations to expand the label back\n",
      "empty_indices % = 0.0\n",
      " conflict_indices % = 0.0\n"
     ]
    },
    {
     "data": {
      "application/vnd.jupyter.widget-view+json": {
       "model_id": "f7b26ccaeb7a4cdba99fabc90c62a32f",
       "version_major": 2,
       "version_minor": 0
      },
      "text/plain": [
       "HBox(children=(FloatProgress(value=1.0, bar_style='info', max=1.0), HTML(value='')))"
      ]
     },
     "metadata": {},
     "output_type": "display_data"
    },
    {
     "name": "stdout",
     "output_type": "stream",
     "text": [
      "\n",
      "AFTER face_lookup_resolved_test\n"
     ]
    },
    {
     "data": {
      "application/vnd.jupyter.widget-view+json": {
       "model_id": "8a907988b1044a03a21ae2ba1759ed66",
       "version_major": 2,
       "version_minor": 0
      },
      "text/plain": [
       "HBox(children=(FloatProgress(value=0.0, max=3.0), HTML(value='')))"
      ]
     },
     "metadata": {},
     "output_type": "display_data"
    },
    {
     "name": "stdout",
     "output_type": "stream",
     "text": [
      "\n",
      "Total time for MAP sublimb #0 mesh processing = 41.96538996696472\n",
      "correspondence_1_to_1: 2.600587844848633\n",
      "Total time for MAP sublimb processing 41.965625047683716\n",
      "---- Working on MP Decomposition #0 ----\n",
      "Computing the current soma touching verts dict manually\n",
      "MP filtering soma verts: 0.007424116134643555\n",
      "Do Not Need to Fix MP Decomposition 0 so just continuing\n",
      "Successful mesh connectivity with type edges\n",
      "\n",
      "---- Working on (0, 0) connection-----\n",
      "sk_conn = [0]\n",
      "conn = [0]\n",
      "winning_vertex = [730621.14499858 645434.03893329 927758.90223629]\n",
      "MP_branches_with_stitch_point = [0]\n",
      "MAP_branches_with_stitch_point = [0]\n",
      "MAP_stitch_point_on_end_or_branch = False\n"
     ]
    },
    {
     "data": {
      "application/vnd.jupyter.widget-view+json": {
       "model_id": "e9e868b77bce4797a57e8787fc8e0458",
       "version_major": 2,
       "version_minor": 0
      },
      "text/plain": [
       "HBox(children=(FloatProgress(value=1.0, bar_style='info', max=1.0), HTML(value='')))"
      ]
     },
     "metadata": {},
     "output_type": "display_data"
    },
    {
     "name": "stdout",
     "output_type": "stream",
     "text": [
      "\n",
      "\n",
      "\n",
      "--- Working on 1-to-1 correspondence-----\n",
      "max(original_labels),len(original_labels) = (1, 2)\n",
      "empty_indices % = 0.016987036209208762\n",
      " conflict_indices % = 0.0031291908806437194\n"
     ]
    },
    {
     "data": {
      "application/vnd.jupyter.widget-view+json": {
       "model_id": "2a506876c8e84292a3cbd4bb7918d566",
       "version_major": 2,
       "version_minor": 0
      },
      "text/plain": [
       "HBox(children=(FloatProgress(value=0.0, max=24.0), HTML(value='')))"
      ]
     },
     "metadata": {},
     "output_type": "display_data"
    },
    {
     "name": "stdout",
     "output_type": "stream",
     "text": [
      "\n",
      "AFTER face_lookup_resolved_test\n"
     ]
    },
    {
     "data": {
      "application/vnd.jupyter.widget-view+json": {
       "model_id": "dc885b9509d743c3949fff8a36125015",
       "version_major": 2,
       "version_minor": 0
      },
      "text/plain": [
       "HBox(children=(FloatProgress(value=0.0, max=2.0), HTML(value='')))"
      ]
     },
     "metadata": {},
     "output_type": "display_data"
    },
    {
     "name": "stdout",
     "output_type": "stream",
     "text": [
      "\n"
     ]
    },
    {
     "data": {
      "application/vnd.jupyter.widget-view+json": {
       "model_id": "4c9157af9d8847ef9f8fb53eb7e4527d",
       "version_major": 2,
       "version_minor": 0
      },
      "text/plain": [
       "HBox(children=(FloatProgress(value=1.0, bar_style='info', max=1.0), HTML(value='')))"
      ]
     },
     "metadata": {},
     "output_type": "display_data"
    },
    {
     "name": "stdout",
     "output_type": "stream",
     "text": [
      "\n",
      "\n",
      "\n",
      "--- Working on 1-to-1 correspondence-----\n",
      "max(original_labels),len(original_labels) = (2, 3)\n",
      "empty_indices % = 0.018163471241170535\n",
      " conflict_indices % = 0.008466441879353203\n"
     ]
    },
    {
     "data": {
      "application/vnd.jupyter.widget-view+json": {
       "model_id": "119ac79443124273b3cd437882aebed0",
       "version_major": 2,
       "version_minor": 0
      },
      "text/plain": [
       "HBox(children=(FloatProgress(value=0.0, max=15.0), HTML(value='')))"
      ]
     },
     "metadata": {},
     "output_type": "display_data"
    },
    {
     "name": "stdout",
     "output_type": "stream",
     "text": [
      "\n",
      "AFTER face_lookup_resolved_test\n"
     ]
    },
    {
     "data": {
      "application/vnd.jupyter.widget-view+json": {
       "model_id": "dbfab0515420436c8f451aaf0308c34f",
       "version_major": 2,
       "version_minor": 0
      },
      "text/plain": [
       "HBox(children=(FloatProgress(value=0.0, max=3.0), HTML(value='')))"
      ]
     },
     "metadata": {},
     "output_type": "display_data"
    },
    {
     "name": "stdout",
     "output_type": "stream",
     "text": [
      "\n",
      "Deleting branches from dictionary\n",
      "MP_branches_with_stitch_point= [0]\n",
      "MP_branches_for_correspondence = [0]\n",
      "MP_leftover = [], MP_leftover_idx = []\n",
      " Finished with (0, 0) \n",
      "\n",
      "\n",
      "\n",
      "Time for decomp of Limb = 59.79186248779297\n",
      "Number of matching vertices = 27\n",
      "Only one endpoint after filtering away the endpoints that are not on the skeleton\n",
      "Using Distance measure skeletal_distance\n",
      "endpoints_must_keep = [[703966. 639699. 929730.]]\n",
      "Number of end_nodes BEFORE filtering = 4\n",
      "all_single_nodes_to_eliminate = [0]\n"
     ]
    },
    {
     "data": {
      "application/vnd.jupyter.widget-view+json": {
       "model_id": "dacb3fd68d464fe5b69c2cc0c8af2ee6",
       "version_major": 2,
       "version_minor": 0
      },
      "text/plain": [
       "HBox(children=(FloatProgress(value=0.0, max=1.0), HTML(value='')))"
      ]
     },
     "metadata": {},
     "output_type": "display_data"
    },
    {
     "name": "stdout",
     "output_type": "stream",
     "text": [
      "\n",
      "Removed 1 skeletal branches\n"
     ]
    },
    {
     "data": {
      "application/vnd.jupyter.widget-view+json": {
       "model_id": "8f02e3310a7c4fe3a738ec3c2c8f2986",
       "version_major": 2,
       "version_minor": 0
      },
      "text/plain": [
       "HBox(children=(FloatProgress(value=0.0, max=5.0), HTML(value='')))"
      ]
     },
     "metadata": {},
     "output_type": "display_data"
    },
    {
     "name": "stdout",
     "output_type": "stream",
     "text": [
      "\n",
      "52765 52766\n",
      "For marked faces: None\n",
      "empty_indices % = 0.0\n",
      " conflict_indices % = 0.0\n"
     ]
    },
    {
     "data": {
      "application/vnd.jupyter.widget-view+json": {
       "model_id": "cd07a13153064fadb15ef50dd3cbe098",
       "version_major": 2,
       "version_minor": 0
      },
      "text/plain": [
       "HBox(children=(FloatProgress(value=1.0, bar_style='info', max=1.0), HTML(value='')))"
      ]
     },
     "metadata": {},
     "output_type": "display_data"
    },
    {
     "name": "stdout",
     "output_type": "stream",
     "text": [
      "\n",
      "AFTER face_lookup_resolved_test\n"
     ]
    },
    {
     "data": {
      "application/vnd.jupyter.widget-view+json": {
       "model_id": "121987510f564b2d8f7d551633920a45",
       "version_major": 2,
       "version_minor": 0
      },
      "text/plain": [
       "HBox(children=(FloatProgress(value=0.0, max=3.0), HTML(value='')))"
      ]
     },
     "metadata": {},
     "output_type": "display_data"
    },
    {
     "name": "stderr",
     "output_type": "stream",
     "text": [
      "\r",
      "  0%|          | 0/1 [00:00<?, ?it/s]"
     ]
    },
    {
     "name": "stdout",
     "output_type": "stream",
     "text": [
      "\n",
      "\n",
      "\n",
      "----- Working on Proper Limb # 9 ---------\n",
      "meshparty_segment_size = 100\n",
      "root_curr = [689493.  628472.2 931712.2]\n",
      "Time for preparing soma vertices and root: 0.0006258487701416016\n",
      "invalidation_d = 12000\n",
      "cc_vertex_thresh = 10\n"
     ]
    },
    {
     "data": {
      "application/vnd.jupyter.widget-view+json": {
       "model_id": "ed956596a7fa4486b29a78c155ecb65b",
       "version_major": 2,
       "version_minor": 0
      },
      "text/plain": [
       "HBox(children=(FloatProgress(value=0.0, max=22965.0), HTML(value='')))"
      ]
     },
     "metadata": {},
     "output_type": "display_data"
    },
    {
     "name": "stderr",
     "output_type": "stream",
     "text": [
      "100%|██████████| 1/1 [00:00<00:00,  6.86it/s]\n"
     ]
    },
    {
     "name": "stdout",
     "output_type": "stream",
     "text": [
      "\n",
      "meshparty_segment_size = 100\n",
      "Time for 1st pass MP skeletonization: 0.4207274913787842\n",
      "branches_touching_root = [1]\n",
      "length of Graph = 2730\n",
      "After combining close endpoints max(kept_branches_idx) = 2, len(kept_branches_idx) = 3\n",
      "empty_indices % = 0.0\n",
      " conflict_indices % = 0.0023618947644666053\n"
     ]
    },
    {
     "data": {
      "application/vnd.jupyter.widget-view+json": {
       "model_id": "5df5c7e1977c450baefdb5bec8cfe0fd",
       "version_major": 2,
       "version_minor": 0
      },
      "text/plain": [
       "HBox(children=(FloatProgress(value=0.0, max=1.0), HTML(value='')))"
      ]
     },
     "metadata": {},
     "output_type": "display_data"
    },
    {
     "name": "stdout",
     "output_type": "stream",
     "text": [
      "\n",
      "AFTER face_lookup_resolved_test\n"
     ]
    },
    {
     "data": {
      "application/vnd.jupyter.widget-view+json": {
       "model_id": "62d42a243a374b9d98236cc10fa5dd6e",
       "version_major": 2,
       "version_minor": 0
      },
      "text/plain": [
       "HBox(children=(FloatProgress(value=0.0, max=3.0), HTML(value='')))"
      ]
     },
     "metadata": {},
     "output_type": "display_data"
    },
    {
     "name": "stdout",
     "output_type": "stream",
     "text": [
      "\n",
      "Decomposing first pass: 2.6734421253204346\n",
      "Attempting to use MeshAfterParty Skeletonization and Mesh Correspondence\n",
      "Another print\n",
      "Found len(mesh_large_idx) MAP candidates: [22952, 6051]\n",
      "mesh_large_connectivity: 0.007815361022949219\n",
      "Finding MAP candidates connected components: 9.34600830078125e-05\n",
      "len(filtered_pieces) = 1\n",
      "skeleton_connectivity_MP : 0.08549094200134277\n",
      "Grouping MP Sublimbs by Graph: 0.009852886199951172\n",
      "Divinding into MP and MAP pieces: 9.5367431640625e-07\n",
      "--- Working on MAP piece 0---\n",
      "MAP Filtering Soma Pieces: 0.008327722549438477\n",
      "inside skeletonize_connected_branch and use_surface_after_CGAL=False, surface_reconstruction_size=1000\n",
      "     Starting Screened Poisson\n",
      "xvfb-run -n 4097 -s \"-screen 0 800x600x24\" meshlabserver $@  -i /notebooks/Auto_Proofreading/Decomposition_Optimization/Debug_4/temp/None.off -o /notebooks/Auto_Proofreading/Decomposition_Optimization/Debug_4/temp/None_poisson.off -s /notebooks/Auto_Proofreading/Decomposition_Optimization/Debug_4/temp/poisson_349910.mls\n",
      "removed temporary input file: /notebooks/Auto_Proofreading/Decomposition_Optimization/Debug_4/temp/None.off\n",
      "removed temporary output file: /notebooks/Auto_Proofreading/Decomposition_Optimization/Debug_4/temp/None_poisson.off\n",
      "Using the close holes feature\n",
      "Mesh was manifold\n",
      "No holes needed to fill and mesh was manifold so returning original mesh\n",
      "-----Time for Screened Poisson= 17.44453191757202\n",
      "mesh_pieces = [<trimesh.Trimesh(vertices.shape=(43342, 3), faces.shape=(86680, 3))>]\n",
      "     Starting Calcification (Changed back where stitches large poissons)\n",
      "min_edge_length = 75\n"
     ]
    },
    {
     "data": {
      "application/vnd.jupyter.widget-view+json": {
       "model_id": "d5c5e81cafd440538b004a471b4177c5",
       "version_major": 2,
       "version_minor": 0
      },
      "text/plain": [
       "HBox(children=(FloatProgress(value=1.0, bar_style='info', max=1.0), HTML(value='')))"
      ]
     },
     "metadata": {},
     "output_type": "display_data"
    },
    {
     "name": "stdout",
     "output_type": "stream",
     "text": [
      "\n",
      "No skeletons to stack so returning empty list\n",
      "len_subgraphs AT BEGINNING of the loop\n"
     ]
    },
    {
     "data": {
      "application/vnd.jupyter.widget-view+json": {
       "model_id": "e0497575edc84507ab170b22b4accbb9",
       "version_major": 2,
       "version_minor": 0
      },
      "text/plain": [
       "HBox(children=(FloatProgress(value=0.0, max=1.0), HTML(value='')))"
      ]
     },
     "metadata": {},
     "output_type": "display_data"
    },
    {
     "name": "stdout",
     "output_type": "stream",
     "text": [
      "all graph is one component!\n",
      "\n",
      "Total time for skeleton stitching = 0.09566164016723633\n",
      "The process was using a temp folder\n",
      "Checking connected components after skeletonize_connected_branch\n",
      "    Total time for skeletonizing branch: 21.77041244506836\n",
      "Checking connected components after removing cycles\n",
      "Total time for mesh KDTree = 0.25055789947509766\n",
      "sbv[0].reshape(-1,3) = [[689493.  628472.2 931712.2]]\n",
      "closest_sk_pt_coord BEFORE = [689179. 628169. 931160.]\n",
      "current_skeleton.shape = (1223, 2, 3)\n",
      "node_for_stitch = 1223: [689179. 628169. 931160.]\n",
      "node_for_stitch AFTER = 1223: [689179. 628169. 931160.]\n",
      "possible_node_loc = [   3   68  293  321  388  615  751  949 1054 1223]\n",
      "possible_node_loc AFTER = [   3   68  293  321  388  615  751  949 1054 1223]\n",
      "curr_shortest_path = [1223]\n",
      "Current stitch point was a branch or endpoint\n",
      "change_status for create soma extending pieces = False\n",
      "closest_sk_pt_coord AFTER = [689179. 628169. 931160.]\n",
      "skipping soma 1 because closest skeleton node was already end node\n",
      "endpoints_must_keep = {1: array([[689179., 628169., 931160.]])}\n",
      "    Total time for Fixing Skeleton Soma Endpoint Extension : 0.6781647205352783\n",
      "filter_end_node_length = 4000\n",
      "Using Distance measure skeletal_distance\n",
      "endpoints_must_keep = [[689179. 628169. 931160.]]\n",
      "Number of end_nodes BEFORE filtering = 10\n",
      "all_single_nodes_to_eliminate = [9]\n"
     ]
    },
    {
     "data": {
      "application/vnd.jupyter.widget-view+json": {
       "model_id": "6c8dea977f7140608e39b48a2775a9ed",
       "version_major": 2,
       "version_minor": 0
      },
      "text/plain": [
       "HBox(children=(FloatProgress(value=0.0, max=8.0), HTML(value='')))"
      ]
     },
     "metadata": {},
     "output_type": "display_data"
    },
    {
     "name": "stdout",
     "output_type": "stream",
     "text": [
      "\n",
      "Checking connected components after clean_skeleton\n",
      "after DISTANCE cleaning limb size of skeleton = (1196, 2, 3)\n",
      "********COMBINING CLOSE SKELETON NODES WITHIN 700 DISTANCE**********\n",
      "Found 0 valid paths to replace\n",
      "valid_paths = []\n",
      "valid_path_lengths = []\n",
      "No valid paths found so just returning the original\n",
      "skeletonize_and_clean_connected_branch_CGAL: 25.42430853843689\n",
      "Working on limb correspondence for #0 MAP piece\n",
      "xvfb-run -n 4097 -s \"-screen 0 800x600x24\" meshlabserver $@  -i /notebooks/Auto_Proofreading/Decomposition_Optimization/Debug_4/temp/neuron_51507.off -o /notebooks/Auto_Proofreading/Decomposition_Optimization/Debug_4/temp/neuron_51507_remove_interior.off -s /notebooks/Auto_Proofreading/Decomposition_Optimization/Debug_4/temp/remove_interior_110437.mls\n",
      "removed temporary input file: /notebooks/Auto_Proofreading/Decomposition_Optimization/Debug_4/temp/neuron_51507.off\n",
      "removed temporary output file: /notebooks/Auto_Proofreading/Decomposition_Optimization/Debug_4/temp/neuron_51507_remove_interior.off\n",
      "/notebooks/Auto_Proofreading/Decomposition_Optimization/Debug_4/temp/remove_interior_110437.mls is being deleted....\n",
      "THERE WERE NO MESH PIECES GREATER THAN THE significance_threshold\n",
      "No significant (100) interior meshes present\n",
      "largest is 9\n"
     ]
    },
    {
     "data": {
      "application/vnd.jupyter.widget-view+json": {
       "model_id": "914092097872432489abdcc0d62db3a0",
       "version_major": 2,
       "version_minor": 0
      },
      "text/plain": [
       "HBox(children=(FloatProgress(value=1.0, bar_style='info', max=1.0), HTML(value='')))"
      ]
     },
     "metadata": {},
     "output_type": "display_data"
    },
    {
     "name": "stdout",
     "output_type": "stream",
     "text": [
      "\n",
      "Total time for decomposition = 11.40656590461731\n",
      "mesh_correspondence_first_pass: 11.406603574752808\n",
      "Limb decomposed into 1 branches\n",
      "divided_skeleton_graph_recovered = (1196, 2, 3) and \n",
      "current_mesh_data[0]['branch_skeletons_cleaned'].shape = (1196, 2, 3)\n",
      "\n",
      "Number of connected components in deocmposed recovered graph = 1\n",
      "Number of connected components in cleaned skeleton graph= 1\n",
      "The downsampled branches number of connected components = 1\n",
      "Empty submeshes = []\n",
      "\n",
      "\n",
      "--- Working on 1-to-1 correspondence-----\n",
      "max(original_labels),len(original_labels) = (0, 1)\n",
      "empty_indices % = 0.0542702479053891\n",
      " conflict_indices % = 0.0\n"
     ]
    },
    {
     "data": {
      "application/vnd.jupyter.widget-view+json": {
       "model_id": "11fd71bdc8104063863fd44f4d1de948",
       "version_major": 2,
       "version_minor": 0
      },
      "text/plain": [
       "HBox(children=(FloatProgress(value=0.0, max=18.0), HTML(value='')))"
      ]
     },
     "metadata": {},
     "output_type": "display_data"
    },
    {
     "name": "stdout",
     "output_type": "stream",
     "text": [
      "\n",
      "AFTER face_lookup_resolved_test\n",
      "Took 0 iterations to expand the label back\n",
      "empty_indices % = 0.0\n",
      " conflict_indices % = 0.0\n"
     ]
    },
    {
     "data": {
      "application/vnd.jupyter.widget-view+json": {
       "model_id": "98f81f5a2b074851a318b90a792c022c",
       "version_major": 2,
       "version_minor": 0
      },
      "text/plain": [
       "HBox(children=(FloatProgress(value=1.0, bar_style='info', max=1.0), HTML(value='')))"
      ]
     },
     "metadata": {},
     "output_type": "display_data"
    },
    {
     "name": "stdout",
     "output_type": "stream",
     "text": [
      "\n",
      "AFTER face_lookup_resolved_test\n"
     ]
    },
    {
     "data": {
      "application/vnd.jupyter.widget-view+json": {
       "model_id": "ccbca9e3f8f54a42911b234697f5b071",
       "version_major": 2,
       "version_minor": 0
      },
      "text/plain": [
       "HBox(children=(FloatProgress(value=0.0, max=1.0), HTML(value='')))"
      ]
     },
     "metadata": {},
     "output_type": "display_data"
    },
    {
     "name": "stdout",
     "output_type": "stream",
     "text": [
      "\n",
      "Total time for MAP sublimb #0 mesh processing = 39.09316611289978\n",
      "correspondence_1_to_1: 2.253553867340088\n",
      "Total time for MAP sublimb processing 39.093395709991455\n",
      "---- Working on MP Decomposition #0 ----\n",
      "Computing the current soma touching verts dict manually\n",
      "MP filtering soma verts: 0.0012195110321044922\n",
      "Do Not Need to Fix MP Decomposition 0 so just continuing\n",
      "Successful mesh connectivity with type edges\n",
      "\n",
      "---- Working on (0, 0) connection-----\n",
      "sk_conn = [0]\n",
      "conn = [0]\n",
      "winning_vertex = [664866.85419594 629041.6478433  923853.96970587]\n",
      "MP_branches_with_stitch_point = [0]\n",
      "MAP_branches_with_stitch_point = [0]\n",
      "MAP_stitch_point_on_end_or_branch = False\n"
     ]
    },
    {
     "data": {
      "application/vnd.jupyter.widget-view+json": {
       "model_id": "75eb8c74e3c74e0f925506f184d0248c",
       "version_major": 2,
       "version_minor": 0
      },
      "text/plain": [
       "HBox(children=(FloatProgress(value=1.0, bar_style='info', max=1.0), HTML(value='')))"
      ]
     },
     "metadata": {},
     "output_type": "display_data"
    },
    {
     "name": "stdout",
     "output_type": "stream",
     "text": [
      "\n",
      "\n",
      "\n",
      "--- Working on 1-to-1 correspondence-----\n",
      "max(original_labels),len(original_labels) = (1, 2)\n",
      "empty_indices % = 0.05595972830396855\n",
      " conflict_indices % = 0.001275730096886529\n"
     ]
    },
    {
     "data": {
      "application/vnd.jupyter.widget-view+json": {
       "model_id": "c2be5bd1f1b64516949cc7a961f114d0",
       "version_major": 2,
       "version_minor": 0
      },
      "text/plain": [
       "HBox(children=(FloatProgress(value=0.0, max=23.0), HTML(value='')))"
      ]
     },
     "metadata": {},
     "output_type": "display_data"
    },
    {
     "name": "stdout",
     "output_type": "stream",
     "text": [
      "\n",
      "AFTER face_lookup_resolved_test\n"
     ]
    },
    {
     "data": {
      "application/vnd.jupyter.widget-view+json": {
       "model_id": "92d008bde8684c278a423edb373d15db",
       "version_major": 2,
       "version_minor": 0
      },
      "text/plain": [
       "HBox(children=(FloatProgress(value=0.0, max=2.0), HTML(value='')))"
      ]
     },
     "metadata": {},
     "output_type": "display_data"
    },
    {
     "name": "stdout",
     "output_type": "stream",
     "text": [
      "\n"
     ]
    },
    {
     "data": {
      "application/vnd.jupyter.widget-view+json": {
       "model_id": "e33e0f40b2a14e26b1af7767a13d3143",
       "version_major": 2,
       "version_minor": 0
      },
      "text/plain": [
       "HBox(children=(FloatProgress(value=1.0, bar_style='info', max=1.0), HTML(value='')))"
      ]
     },
     "metadata": {},
     "output_type": "display_data"
    },
    {
     "name": "stdout",
     "output_type": "stream",
     "text": [
      "\n",
      "\n",
      "\n",
      "--- Working on 1-to-1 correspondence-----\n",
      "max(original_labels),len(original_labels) = (2, 3)\n",
      "empty_indices % = 0.05500153085771771\n",
      " conflict_indices % = 0.005839128723264663\n"
     ]
    },
    {
     "data": {
      "application/vnd.jupyter.widget-view+json": {
       "model_id": "bcfc86d76ed54aacbe5bab57e522adb3",
       "version_major": 2,
       "version_minor": 0
      },
      "text/plain": [
       "HBox(children=(FloatProgress(value=0.0, max=36.0), HTML(value='')))"
      ]
     },
     "metadata": {},
     "output_type": "display_data"
    },
    {
     "name": "stdout",
     "output_type": "stream",
     "text": [
      "\n",
      "AFTER face_lookup_resolved_test\n"
     ]
    },
    {
     "data": {
      "application/vnd.jupyter.widget-view+json": {
       "model_id": "95b609c39a814e479e8dbcb1546badb2",
       "version_major": 2,
       "version_minor": 0
      },
      "text/plain": [
       "HBox(children=(FloatProgress(value=0.0, max=3.0), HTML(value='')))"
      ]
     },
     "metadata": {},
     "output_type": "display_data"
    },
    {
     "name": "stdout",
     "output_type": "stream",
     "text": [
      "\n",
      "Deleting branches from dictionary\n",
      "MP_branches_with_stitch_point= [0]\n",
      "MP_branches_for_correspondence = [0]\n",
      "MP_leftover = [], MP_leftover_idx = []\n",
      " Finished with (0, 0) \n",
      "\n",
      "\n",
      "\n",
      "Time for decomp of Limb = 59.954296350479126\n",
      "Number of matching vertices = 26\n",
      "Only one endpoint after filtering away the endpoints that are not on the skeleton\n",
      "Using Distance measure skeletal_distance\n",
      "endpoints_must_keep = [[689179. 628169. 931160.]]\n",
      "Number of end_nodes BEFORE filtering = 3\n",
      "all_single_nodes_to_eliminate = [2]\n",
      "no small end nodes to get rid of so returning whole skeleton\n",
      "Removed 0 skeletal branches\n"
     ]
    },
    {
     "data": {
      "application/vnd.jupyter.widget-view+json": {
       "model_id": "5bb20b2fe65a4869b383fa6259661bd8",
       "version_major": 2,
       "version_minor": 0
      },
      "text/plain": [
       "HBox(children=(FloatProgress(value=0.0, max=3.0), HTML(value='')))"
      ]
     },
     "metadata": {},
     "output_type": "display_data"
    },
    {
     "name": "stdout",
     "output_type": "stream",
     "text": [
      "\n",
      "45725 45726\n",
      "For marked faces: None\n",
      "empty_indices % = 0.0\n",
      " conflict_indices % = 0.0\n"
     ]
    },
    {
     "data": {
      "application/vnd.jupyter.widget-view+json": {
       "model_id": "37f05fc406f442e4a75e3ce670821e7a",
       "version_major": 2,
       "version_minor": 0
      },
      "text/plain": [
       "HBox(children=(FloatProgress(value=1.0, bar_style='info', max=1.0), HTML(value='')))"
      ]
     },
     "metadata": {},
     "output_type": "display_data"
    },
    {
     "name": "stdout",
     "output_type": "stream",
     "text": [
      "\n",
      "AFTER face_lookup_resolved_test\n"
     ]
    },
    {
     "data": {
      "application/vnd.jupyter.widget-view+json": {
       "model_id": "5d4569332aa54340bc167847d07a892b",
       "version_major": 2,
       "version_minor": 0
      },
      "text/plain": [
       "HBox(children=(FloatProgress(value=0.0, max=3.0), HTML(value='')))"
      ]
     },
     "metadata": {},
     "output_type": "display_data"
    },
    {
     "name": "stderr",
     "output_type": "stream",
     "text": [
      "\r",
      "  0%|          | 0/1 [00:00<?, ?it/s]"
     ]
    },
    {
     "name": "stdout",
     "output_type": "stream",
     "text": [
      "\n",
      "\n",
      "\n",
      "----- Working on Proper Limb # 10 ---------\n",
      "meshparty_segment_size = 100\n",
      "root_curr = [701223.9 641769.6 928265.3]\n",
      "Time for preparing soma vertices and root: 0.00042629241943359375\n",
      "invalidation_d = 12000\n",
      "cc_vertex_thresh = 10\n"
     ]
    },
    {
     "data": {
      "application/vnd.jupyter.widget-view+json": {
       "model_id": "2bdfcd47e12e4cf5be0036adc00913f3",
       "version_major": 2,
       "version_minor": 0
      },
      "text/plain": [
       "HBox(children=(FloatProgress(value=0.0, max=22877.0), HTML(value='')))"
      ]
     },
     "metadata": {},
     "output_type": "display_data"
    },
    {
     "name": "stderr",
     "output_type": "stream",
     "text": [
      "100%|██████████| 1/1 [00:00<00:00,  5.88it/s]\n"
     ]
    },
    {
     "name": "stdout",
     "output_type": "stream",
     "text": [
      "\n",
      "meshparty_segment_size = 100\n",
      "Time for 1st pass MP skeletonization: 0.47342491149902344\n",
      "branches_touching_root = [1]\n",
      "length of Graph = 2628\n",
      "After combining close endpoints max(kept_branches_idx) = 2, len(kept_branches_idx) = 3\n",
      "empty_indices % = 0.0\n",
      " conflict_indices % = 0.0015100781301293415\n"
     ]
    },
    {
     "data": {
      "application/vnd.jupyter.widget-view+json": {
       "model_id": "718600fb0c1e413f9cf62b3141b87c79",
       "version_major": 2,
       "version_minor": 0
      },
      "text/plain": [
       "HBox(children=(FloatProgress(value=0.0, max=1.0), HTML(value='')))"
      ]
     },
     "metadata": {},
     "output_type": "display_data"
    },
    {
     "name": "stdout",
     "output_type": "stream",
     "text": [
      "\n",
      "AFTER face_lookup_resolved_test\n"
     ]
    },
    {
     "data": {
      "application/vnd.jupyter.widget-view+json": {
       "model_id": "42c697fa9a874fdc8663fb00dce824dd",
       "version_major": 2,
       "version_minor": 0
      },
      "text/plain": [
       "HBox(children=(FloatProgress(value=0.0, max=3.0), HTML(value='')))"
      ]
     },
     "metadata": {},
     "output_type": "display_data"
    },
    {
     "name": "stdout",
     "output_type": "stream",
     "text": [
      "\n",
      "Decomposing first pass: 2.6900217533111572\n",
      "Attempting to use MeshAfterParty Skeletonization and Mesh Correspondence\n",
      "Another print\n",
      "Found len(mesh_large_idx) MAP candidates: [16663, 16587]\n",
      "mesh_large_connectivity: 0.009162187576293945\n",
      "Finding MAP candidates connected components: 9.918212890625e-05\n",
      "len(filtered_pieces) = 1\n",
      "skeleton_connectivity_MP : 0.05916857719421387\n",
      "Grouping MP Sublimbs by Graph: 0.007610321044921875\n",
      "Divinding into MP and MAP pieces: 1.1920928955078125e-06\n",
      "--- Working on MAP piece 0---\n",
      "MAP Filtering Soma Pieces: 0.015779495239257812\n",
      "inside skeletonize_connected_branch and use_surface_after_CGAL=False, surface_reconstruction_size=1000\n",
      "     Starting Screened Poisson\n",
      "xvfb-run -n 4097 -s \"-screen 0 800x600x24\" meshlabserver $@  -i /notebooks/Auto_Proofreading/Decomposition_Optimization/Debug_4/temp/None.off -o /notebooks/Auto_Proofreading/Decomposition_Optimization/Debug_4/temp/None_poisson.off -s /notebooks/Auto_Proofreading/Decomposition_Optimization/Debug_4/temp/poisson_694631.mls\n",
      "removed temporary input file: /notebooks/Auto_Proofreading/Decomposition_Optimization/Debug_4/temp/None.off\n",
      "removed temporary output file: /notebooks/Auto_Proofreading/Decomposition_Optimization/Debug_4/temp/None_poisson.off\n",
      "Using the close holes feature\n",
      "Mesh was manifold\n",
      "No holes needed to fill and mesh was manifold so returning original mesh\n",
      "-----Time for Screened Poisson= 23.400102376937866\n",
      "mesh_pieces = [<trimesh.Trimesh(vertices.shape=(49173, 3), faces.shape=(98346, 3))>]\n",
      "     Starting Calcification (Changed back where stitches large poissons)\n",
      "min_edge_length = 75\n"
     ]
    },
    {
     "data": {
      "application/vnd.jupyter.widget-view+json": {
       "model_id": "5cfbf651ffdf402899ce1d723e13723f",
       "version_major": 2,
       "version_minor": 0
      },
      "text/plain": [
       "HBox(children=(FloatProgress(value=1.0, bar_style='info', max=1.0), HTML(value='')))"
      ]
     },
     "metadata": {},
     "output_type": "display_data"
    },
    {
     "name": "stdout",
     "output_type": "stream",
     "text": [
      "\n",
      "No skeletons to stack so returning empty list\n",
      "len_subgraphs AT BEGINNING of the loop\n"
     ]
    },
    {
     "data": {
      "application/vnd.jupyter.widget-view+json": {
       "model_id": "e24f82fa63934fb1b1fcbd12b015d1d2",
       "version_major": 2,
       "version_minor": 0
      },
      "text/plain": [
       "HBox(children=(FloatProgress(value=0.0, max=1.0), HTML(value='')))"
      ]
     },
     "metadata": {},
     "output_type": "display_data"
    },
    {
     "name": "stdout",
     "output_type": "stream",
     "text": [
      "all graph is one component!\n",
      "\n",
      "Total time for skeleton stitching = 0.07936429977416992\n",
      "The process was using a temp folder\n",
      "Checking connected components after skeletonize_connected_branch\n",
      "    Total time for skeletonizing branch: 28.47923517227173\n",
      "Checking connected components after removing cycles\n",
      "Total time for mesh KDTree = 0.28049778938293457\n",
      "sbv[0].reshape(-1,3) = [[701223.9 641769.6 928265.3]]\n",
      "closest_sk_pt_coord BEFORE = [702178. 642132. 927744.]\n",
      "current_skeleton.shape = (1388, 2, 3)\n",
      "node_for_stitch = 0: [702178. 642132. 927744.]\n",
      "node_for_stitch AFTER = 0: [702178. 642132. 927744.]\n",
      "possible_node_loc = [   0  581  620  742  812 1067 1068 1153 1239 1292 1388]\n",
      "possible_node_loc AFTER = [   0  581  620  742  812 1067 1068 1153 1239 1292 1388]\n",
      "curr_shortest_path = [0]\n",
      "Current stitch point was a branch or endpoint\n",
      "change_status for create soma extending pieces = False\n",
      "closest_sk_pt_coord AFTER = [702178. 642132. 927744.]\n",
      "skipping soma 1 because closest skeleton node was already end node\n",
      "endpoints_must_keep = {1: array([[702178., 642132., 927744.]])}\n",
      "    Total time for Fixing Skeleton Soma Endpoint Extension : 0.7794442176818848\n",
      "filter_end_node_length = 4000\n",
      "Using Distance measure skeletal_distance\n",
      "endpoints_must_keep = [[702178. 642132. 927744.]]\n",
      "Number of end_nodes BEFORE filtering = 11\n",
      "all_single_nodes_to_eliminate = [0]\n"
     ]
    },
    {
     "data": {
      "application/vnd.jupyter.widget-view+json": {
       "model_id": "1fb674aa96d94e169b903e89584426e1",
       "version_major": 2,
       "version_minor": 0
      },
      "text/plain": [
       "HBox(children=(FloatProgress(value=0.0, max=9.0), HTML(value='')))"
      ]
     },
     "metadata": {},
     "output_type": "display_data"
    },
    {
     "name": "stdout",
     "output_type": "stream",
     "text": [
      "\n",
      "Checking connected components after clean_skeleton\n",
      "after DISTANCE cleaning limb size of skeleton = (1354, 2, 3)\n",
      "********COMBINING CLOSE SKELETON NODES WITHIN 700 DISTANCE**********\n",
      "Found 0 valid paths to replace\n",
      "valid_paths = []\n",
      "valid_path_lengths = []\n",
      "No valid paths found so just returning the original\n",
      "skeletonize_and_clean_connected_branch_CGAL: 32.78462553024292\n",
      "Working on limb correspondence for #0 MAP piece\n",
      "xvfb-run -n 4097 -s \"-screen 0 800x600x24\" meshlabserver $@  -i /notebooks/Auto_Proofreading/Decomposition_Optimization/Debug_4/temp/neuron_76931.off -o /notebooks/Auto_Proofreading/Decomposition_Optimization/Debug_4/temp/neuron_76931_remove_interior.off -s /notebooks/Auto_Proofreading/Decomposition_Optimization/Debug_4/temp/remove_interior_573547.mls\n",
      "removed temporary input file: /notebooks/Auto_Proofreading/Decomposition_Optimization/Debug_4/temp/neuron_76931.off\n",
      "removed temporary output file: /notebooks/Auto_Proofreading/Decomposition_Optimization/Debug_4/temp/neuron_76931_remove_interior.off\n",
      "/notebooks/Auto_Proofreading/Decomposition_Optimization/Debug_4/temp/remove_interior_573547.mls is being deleted....\n",
      "THERE WERE NO MESH PIECES GREATER THAN THE significance_threshold\n",
      "No significant (100) interior meshes present\n",
      "largest is 28\n"
     ]
    },
    {
     "data": {
      "application/vnd.jupyter.widget-view+json": {
       "model_id": "791b78b5b1254a34be4fde0f38898ce8",
       "version_major": 2,
       "version_minor": 0
      },
      "text/plain": [
       "HBox(children=(FloatProgress(value=1.0, bar_style='info', max=1.0), HTML(value='')))"
      ]
     },
     "metadata": {},
     "output_type": "display_data"
    },
    {
     "name": "stdout",
     "output_type": "stream",
     "text": [
      "\n",
      "Total time for decomposition = 9.983201742172241\n",
      "mesh_correspondence_first_pass: 9.983363151550293\n",
      "Limb decomposed into 1 branches\n",
      "divided_skeleton_graph_recovered = (1354, 2, 3) and \n",
      "current_mesh_data[0]['branch_skeletons_cleaned'].shape = (1354, 2, 3)\n",
      "\n",
      "Number of connected components in deocmposed recovered graph = 1\n",
      "Number of connected components in cleaned skeleton graph= 1\n",
      "The downsampled branches number of connected components = 1\n",
      "Empty submeshes = []\n",
      "\n",
      "\n",
      "--- Working on 1-to-1 correspondence-----\n",
      "max(original_labels),len(original_labels) = (0, 1)\n",
      "empty_indices % = 0.025413533834586464\n",
      " conflict_indices % = 0.0\n"
     ]
    },
    {
     "data": {
      "application/vnd.jupyter.widget-view+json": {
       "model_id": "3c54c1d536f94303a7f651584550f331",
       "version_major": 2,
       "version_minor": 0
      },
      "text/plain": [
       "HBox(children=(FloatProgress(value=0.0, max=26.0), HTML(value='')))"
      ]
     },
     "metadata": {},
     "output_type": "display_data"
    },
    {
     "name": "stdout",
     "output_type": "stream",
     "text": [
      "\n",
      "AFTER face_lookup_resolved_test\n",
      "Took 0 iterations to expand the label back\n",
      "empty_indices % = 0.0\n",
      " conflict_indices % = 0.0\n"
     ]
    },
    {
     "data": {
      "application/vnd.jupyter.widget-view+json": {
       "model_id": "ee3fd555b06145128e5a222c2b252b59",
       "version_major": 2,
       "version_minor": 0
      },
      "text/plain": [
       "HBox(children=(FloatProgress(value=1.0, bar_style='info', max=1.0), HTML(value='')))"
      ]
     },
     "metadata": {},
     "output_type": "display_data"
    },
    {
     "name": "stdout",
     "output_type": "stream",
     "text": [
      "\n",
      "AFTER face_lookup_resolved_test\n"
     ]
    },
    {
     "data": {
      "application/vnd.jupyter.widget-view+json": {
       "model_id": "8c445832da6348da862c4cf7bf6e3063",
       "version_major": 2,
       "version_minor": 0
      },
      "text/plain": [
       "HBox(children=(FloatProgress(value=0.0, max=1.0), HTML(value='')))"
      ]
     },
     "metadata": {},
     "output_type": "display_data"
    },
    {
     "name": "stdout",
     "output_type": "stream",
     "text": [
      "\n",
      "Total time for MAP sublimb #0 mesh processing = 49.760798931121826\n",
      "correspondence_1_to_1: 6.976518392562866\n",
      "Total time for MAP sublimb processing 49.7610387802124\n",
      "---- Working on MP Decomposition #0 ----\n",
      "Computing the current soma touching verts dict manually\n",
      "MP filtering soma verts: 0.0067462921142578125\n",
      "Do Not Need to Fix MP Decomposition 0 so just continuing\n",
      "Successful mesh connectivity with type edges\n",
      "\n",
      "---- Working on (0, 0) connection-----\n",
      "sk_conn = [0]\n",
      "conn = [0]\n",
      "winning_vertex = [727298.86399651 703830.58350431 906585.85782364]\n",
      "MP_branches_with_stitch_point = [0]\n",
      "MAP_branches_with_stitch_point = [0]\n",
      "MAP_stitch_point_on_end_or_branch = False\n"
     ]
    },
    {
     "data": {
      "application/vnd.jupyter.widget-view+json": {
       "model_id": "c75b8e0677eb439780ec71a9bf31770b",
       "version_major": 2,
       "version_minor": 0
      },
      "text/plain": [
       "HBox(children=(FloatProgress(value=1.0, bar_style='info', max=1.0), HTML(value='')))"
      ]
     },
     "metadata": {},
     "output_type": "display_data"
    },
    {
     "name": "stdout",
     "output_type": "stream",
     "text": [
      "\n",
      "\n",
      "\n",
      "--- Working on 1-to-1 correspondence-----\n",
      "max(original_labels),len(original_labels) = (1, 2)\n",
      "empty_indices % = 0.026406015037593985\n",
      " conflict_indices % = 0.0012330827067669173\n"
     ]
    },
    {
     "data": {
      "application/vnd.jupyter.widget-view+json": {
       "model_id": "e22ace703da94f128004464ff5442c91",
       "version_major": 2,
       "version_minor": 0
      },
      "text/plain": [
       "HBox(children=(FloatProgress(value=0.0, max=29.0), HTML(value='')))"
      ]
     },
     "metadata": {},
     "output_type": "display_data"
    },
    {
     "name": "stdout",
     "output_type": "stream",
     "text": [
      "\n",
      "AFTER face_lookup_resolved_test\n"
     ]
    },
    {
     "data": {
      "application/vnd.jupyter.widget-view+json": {
       "model_id": "517fc338e3c74272a4fc8ceebd661d00",
       "version_major": 2,
       "version_minor": 0
      },
      "text/plain": [
       "HBox(children=(FloatProgress(value=0.0, max=2.0), HTML(value='')))"
      ]
     },
     "metadata": {},
     "output_type": "display_data"
    },
    {
     "name": "stdout",
     "output_type": "stream",
     "text": [
      "\n"
     ]
    },
    {
     "data": {
      "application/vnd.jupyter.widget-view+json": {
       "model_id": "dca1f413d99f4d31b8f5a93d5ea63013",
       "version_major": 2,
       "version_minor": 0
      },
      "text/plain": [
       "HBox(children=(FloatProgress(value=1.0, bar_style='info', max=1.0), HTML(value='')))"
      ]
     },
     "metadata": {},
     "output_type": "display_data"
    },
    {
     "name": "stdout",
     "output_type": "stream",
     "text": [
      "\n",
      "\n",
      "\n",
      "--- Working on 1-to-1 correspondence-----\n",
      "max(original_labels),len(original_labels) = (2, 3)\n",
      "empty_indices % = 0.045214803142713325\n",
      " conflict_indices % = 0.004180071345720351\n"
     ]
    },
    {
     "data": {
      "application/vnd.jupyter.widget-view+json": {
       "model_id": "cb46c8db40494dd0ad41a5fbb09bc28d",
       "version_major": 2,
       "version_minor": 0
      },
      "text/plain": [
       "HBox(children=(FloatProgress(value=0.0, max=28.0), HTML(value='')))"
      ]
     },
     "metadata": {},
     "output_type": "display_data"
    },
    {
     "name": "stdout",
     "output_type": "stream",
     "text": [
      "\n",
      "AFTER face_lookup_resolved_test\n"
     ]
    },
    {
     "data": {
      "application/vnd.jupyter.widget-view+json": {
       "model_id": "5fd3b80da18940b2ab29e0bfa027e983",
       "version_major": 2,
       "version_minor": 0
      },
      "text/plain": [
       "HBox(children=(FloatProgress(value=0.0, max=3.0), HTML(value='')))"
      ]
     },
     "metadata": {},
     "output_type": "display_data"
    },
    {
     "name": "stdout",
     "output_type": "stream",
     "text": [
      "\n",
      "Deleting branches from dictionary\n",
      "MP_branches_with_stitch_point= [0]\n",
      "MP_branches_for_correspondence = [0]\n",
      "MP_leftover = [], MP_leftover_idx = []\n",
      " Finished with (0, 0) \n",
      "\n",
      "\n",
      "\n",
      "Time for decomp of Limb = 71.17427134513855\n",
      "Number of matching vertices = 16\n",
      "Only one endpoint after filtering away the endpoints that are not on the skeleton\n",
      "Using Distance measure skeletal_distance\n",
      "endpoints_must_keep = [[702178. 642132. 927744.]]\n",
      "Number of end_nodes BEFORE filtering = 3\n",
      "all_single_nodes_to_eliminate = [0]\n",
      "no small end nodes to get rid of so returning whole skeleton\n",
      "Removed 0 skeletal branches\n"
     ]
    },
    {
     "data": {
      "application/vnd.jupyter.widget-view+json": {
       "model_id": "0fecb69ba81d4d60b93549a056cc6089",
       "version_major": 2,
       "version_minor": 0
      },
      "text/plain": [
       "HBox(children=(FloatProgress(value=0.0, max=3.0), HTML(value='')))"
      ]
     },
     "metadata": {},
     "output_type": "display_data"
    },
    {
     "name": "stdout",
     "output_type": "stream",
     "text": [
      "\n",
      "45692 45693\n",
      "For marked faces: None\n",
      "empty_indices % = 0.0\n",
      " conflict_indices % = 0.0\n"
     ]
    },
    {
     "data": {
      "application/vnd.jupyter.widget-view+json": {
       "model_id": "b29b98806a8d48b085f3bca79089b95c",
       "version_major": 2,
       "version_minor": 0
      },
      "text/plain": [
       "HBox(children=(FloatProgress(value=1.0, bar_style='info', max=1.0), HTML(value='')))"
      ]
     },
     "metadata": {},
     "output_type": "display_data"
    },
    {
     "name": "stdout",
     "output_type": "stream",
     "text": [
      "\n",
      "AFTER face_lookup_resolved_test\n"
     ]
    },
    {
     "data": {
      "application/vnd.jupyter.widget-view+json": {
       "model_id": "ce81a4b526b14ad19e47a8c0c4fefb71",
       "version_major": 2,
       "version_minor": 0
      },
      "text/plain": [
       "HBox(children=(FloatProgress(value=0.0, max=3.0), HTML(value='')))"
      ]
     },
     "metadata": {},
     "output_type": "display_data"
    },
    {
     "name": "stderr",
     "output_type": "stream",
     "text": [
      "\r",
      "  0%|          | 0/1 [00:00<?, ?it/s]"
     ]
    },
    {
     "name": "stdout",
     "output_type": "stream",
     "text": [
      "\n",
      "\n",
      "\n",
      "----- Working on Proper Limb # 11 ---------\n",
      "meshparty_segment_size = 100\n",
      "root_curr = [607386.  649925.8 959611.2]\n",
      "Time for preparing soma vertices and root: 0.0003383159637451172\n",
      "invalidation_d = 12000\n",
      "cc_vertex_thresh = 10\n"
     ]
    },
    {
     "data": {
      "application/vnd.jupyter.widget-view+json": {
       "model_id": "52e11642a6374a29a2e522954dee564a",
       "version_major": 2,
       "version_minor": 0
      },
      "text/plain": [
       "HBox(children=(FloatProgress(value=0.0, max=21775.0), HTML(value='')))"
      ]
     },
     "metadata": {},
     "output_type": "display_data"
    },
    {
     "name": "stderr",
     "output_type": "stream",
     "text": [
      "100%|██████████| 1/1 [00:00<00:00,  7.40it/s]\n"
     ]
    },
    {
     "name": "stdout",
     "output_type": "stream",
     "text": [
      "\n",
      "meshparty_segment_size = 100\n",
      "Time for 1st pass MP skeletonization: 0.47119784355163574\n",
      "connecting at the root\n",
      "branches_touching_root = [0]\n",
      "length of Graph = 1956\n",
      "After combining close endpoints max(kept_branches_idx) = 0, len(kept_branches_idx) = 1\n",
      "empty_indices % = 0.0\n",
      " conflict_indices % = 0.0\n"
     ]
    },
    {
     "data": {
      "application/vnd.jupyter.widget-view+json": {
       "model_id": "8cd2698fd3c8473e8965cda54b162d2e",
       "version_major": 2,
       "version_minor": 0
      },
      "text/plain": [
       "HBox(children=(FloatProgress(value=1.0, bar_style='info', max=1.0), HTML(value='')))"
      ]
     },
     "metadata": {},
     "output_type": "display_data"
    },
    {
     "name": "stdout",
     "output_type": "stream",
     "text": [
      "\n",
      "AFTER face_lookup_resolved_test\n"
     ]
    },
    {
     "data": {
      "application/vnd.jupyter.widget-view+json": {
       "model_id": "1f8fa74b03b647d1a984fbf3661646b4",
       "version_major": 2,
       "version_minor": 0
      },
      "text/plain": [
       "HBox(children=(FloatProgress(value=0.0, max=1.0), HTML(value='')))"
      ]
     },
     "metadata": {},
     "output_type": "display_data"
    },
    {
     "name": "stdout",
     "output_type": "stream",
     "text": [
      "\n",
      "Decomposing first pass: 2.3903541564941406\n",
      "Attempting to use MeshAfterParty Skeletonization and Mesh Correspondence\n",
      "Another print\n",
      "Divinding into MP and MAP pieces: 0.00030231475830078125\n",
      "Total time for MAP sublimb processing 4.291534423828125e-06\n",
      "---- Working on MP Decomposition #0 ----\n",
      "Using Quicker soma_to_piece_touching_vertices because no MAP and only one sublimb_mesh piece \n",
      "MP filtering soma verts: 9.512901306152344e-05\n",
      "Fixing Possible Soma Extension Branch for Sublimb 0\n",
      "Total time for mesh KDTree = 0.33631205558776855\n",
      "sbv[0].reshape(-1,3) = [[607386.  649925.8 959611.2]]\n",
      "closest_sk_pt_coord BEFORE = [600367.34936925 653540.90410406 962900.59139373]\n",
      "current_skeleton.shape = (1955, 2, 3)\n",
      "node_for_stitch = 1315: [600367.34936925 653540.90410406 962900.59139373]\n",
      "node_for_stitch AFTER = 1315: [600367.34936925 653540.90410406 962900.59139373]\n",
      "possible_node_loc = [  13 1054]\n",
      "possible_node_loc AFTER = [  13 1054]\n",
      "curr_shortest_path = [1315, 1309.0, 1302.0, 1293.0, 1255.0, 1236.0, 1223.0, 1210.0, 1188.0, 1185.0, 1182.0, 1179.0, 1176.0, 1173.0, 1170.0, 1167.0, 1164.0, 1162.0, 1159.0, 1156.0, 1154.0, 1152.0, 1149.0, 1147.0, 1145.0, 1142.0, 1140.0, 1138.0, 1135.0, 1133.0, 1131.0, 1129.0, 1126.0, 1124.0, 1122.0, 1119.0, 1117.0, 1115.0, 1112.0, 1110.0, 1107.0, 1104.0, 1102.0, 1099.0, 1096.0, 1093.0, 1091.0, 1088.0, 1086.0, 1083.0, 1081.0, 1078.0, 1076.0, 1074.0, 1071.0, 1069.0, 1066.0, 1063.0, 1061.0, 1058.0, 1055.0, 1050.0, 1045.0, 1041.0, 1037.0, 1033.0, 1029.0, 1026.0, 1022.0, 1019.0, 1016.0, 1012.0, 1009.0, 1006.0, 1003.0, 998.0, 995.0, 992.0, 989.0, 985.0, 981.0, 978.0, 974.0, 970.0, 967.0, 962.0, 958.0, 954.0, 950.0, 946.0, 942.0, 937.0, 932.0, 926.0, 920.0, 914.0, 905.0, 894.0, 875.0, 874.0, 873.0, 872.0, 871.0, 870.0, 869.0, 868.0, 867.0, 866.0, 865.0, 864.0, 863.0, 862.0, 861.0, 860.0, 859.0, 858.0, 857.0, 856.0, 855.0, 854.0, 853.0, 852.0, 851.0, 850.0, 849.0, 848.0, 847.0, 846.0, 845.0, 844.0, 843.0, 842.0, 841.0, 840.0, 839.0, 838.0, 837.0, 836.0, 835.0, 834.0, 833.0, 832.0, 831.0, 830.0, 829.0, 828.0, 827.0, 826.0, 825.0, 824.0, 823.0, 822.0, 821.0, 820.0, 819.0, 818.0, 817.0, 816.0, 815.0, 814.0, 813.0, 812.0, 811.0, 810.0, 809.0, 808.0, 807.0, 806.0, 805.0, 804.0, 803.0, 802.0, 801.0, 800.0, 799.0, 798.0, 797.0, 796.0, 795.0, 794.0, 793.0, 792.0, 791.0, 790.0, 789.0, 788.0, 787.0, 786.0, 785.0, 784.0, 783.0, 782.0, 781.0, 780.0, 779.0, 778.0, 777.0, 776.0, 775.0, 774.0, 773.0, 772.0, 771.0, 770.0, 769.0, 768.0, 767.0, 766.0, 765.0, 764.0, 763.0, 762.0, 761.0, 760.0, 759.0, 758.0, 757.0, 756.0, 755.0, 754.0, 753.0, 752.0, 751.0, 750.0, 749.0, 748.0, 747.0, 746.0, 745.0, 744.0, 743.0, 742.0, 741.0, 740.0, 739.0, 738.0, 737.0, 736.0, 735.0, 734.0, 733.0, 732.0, 731.0, 730.0, 729.0, 728.0, 727.0, 726.0, 725.0, 724.0, 723.0, 722.0, 721.0, 720.0, 719.0, 718.0, 717.0, 716.0, 715.0, 714.0, 713.0, 712.0, 711.0, 710.0, 709.0, 708.0, 707.0, 706.0, 705.0, 704.0, 703.0, 702.0, 701.0, 700.0, 699.0, 698.0, 697.0, 696.0, 695.0, 694.0, 693.0, 692.0, 691.0, 690.0, 689.0, 688.0, 687.0, 686.0, 685.0, 684.0, 683.0, 682.0, 681.0, 680.0, 679.0, 678.0, 677.0, 676.0, 675.0, 674.0, 673.0, 672.0, 671.0, 670.0, 669.0, 668.0, 667.0, 666.0, 665.0, 664.0, 663.0, 662.0, 661.0, 660.0, 659.0, 658.0, 657.0, 656.0, 655.0, 654.0, 653.0, 652.0, 651.0, 650.0, 649.0, 648.0, 647.0, 646.0, 645.0, 644.0, 643.0, 642.0, 641.0, 640.0, 639.0, 638.0, 637.0, 636.0, 635.0, 634.0, 633.0, 632.0, 631.0, 630.0, 629.0, 628.0, 627.0, 626.0, 625.0, 624.0, 623.0, 622.0, 621.0, 620.0, 619.0, 618.0, 617.0, 616.0, 615.0, 614.0, 613.0, 612.0, 611.0, 610.0, 609.0, 608.0, 607.0, 606.0, 605.0, 604.0, 603.0, 602.0, 601.0, 600.0, 599.0, 598.0, 597.0, 596.0, 595.0, 594.0, 593.0, 592.0, 591.0, 590.0, 589.0, 588.0, 587.0, 586.0, 585.0, 584.0, 583.0, 582.0, 581.0, 580.0, 579.0, 578.0, 577.0, 576.0, 575.0, 574.0, 573.0, 572.0, 571.0, 570.0, 569.0, 568.0, 567.0, 566.0, 565.0, 564.0, 563.0, 562.0, 561.0, 560.0, 559.0, 558.0, 557.0, 556.0, 555.0, 554.0, 553.0, 552.0, 551.0, 550.0, 549.0, 548.0, 547.0, 546.0, 545.0, 544.0, 543.0, 542.0, 541.0, 540.0, 539.0, 538.0, 537.0, 536.0, 535.0, 534.0, 533.0, 532.0, 531.0, 530.0, 529.0, 528.0, 527.0, 526.0, 525.0, 524.0, 523.0, 522.0, 521.0, 520.0, 519.0, 518.0, 517.0, 516.0, 515.0, 514.0, 513.0, 512.0, 511.0, 510.0, 509.0, 508.0, 507.0, 506.0, 505.0, 504.0, 503.0, 502.0, 501.0, 500.0, 499.0, 498.0, 497.0, 496.0, 495.0, 494.0, 493.0, 492.0, 491.0, 490.0, 489.0, 488.0, 487.0, 486.0, 485.0, 484.0, 483.0, 482.0, 481.0, 480.0, 479.0, 478.0, 477.0, 476.0, 475.0, 474.0, 473.0, 472.0, 471.0, 470.0, 469.0, 468.0, 467.0, 466.0, 465.0, 464.0, 463.0, 462.0, 461.0, 460.0, 459.0, 458.0, 457.0, 456.0, 455.0, 454.0, 453.0, 452.0, 451.0, 450.0, 449.0, 448.0, 447.0, 446.0, 445.0, 444.0, 443.0, 442.0, 441.0, 440.0, 439.0, 438.0, 437.0, 436.0, 435.0, 434.0, 433.0, 432.0, 431.0, 430.0, 429.0, 428.0, 427.0, 426.0, 425.0, 424.0, 423.0, 422.0, 421.0, 420.0, 419.0, 418.0, 417.0, 416.0, 415.0, 414.0, 413.0, 412.0, 411.0, 410.0, 409.0, 408.0, 407.0, 406.0, 405.0, 404.0, 403.0, 402.0, 401.0, 400.0, 399.0, 398.0, 397.0, 396.0, 395.0, 394.0, 393.0, 392.0, 391.0, 390.0, 389.0, 388.0, 387.0, 386.0, 385.0, 384.0, 383.0, 382.0, 381.0, 380.0, 379.0, 378.0, 377.0, 376.0, 375.0, 374.0, 373.0, 372.0, 371.0, 370.0, 369.0, 368.0, 367.0, 366.0, 365.0, 364.0, 363.0, 362.0, 361.0, 360.0, 359.0, 358.0, 357.0, 356.0, 355.0, 354.0, 353.0, 352.0, 351.0, 350.0, 349.0, 348.0, 347.0, 346.0, 345.0, 344.0, 343.0, 342.0, 341.0, 340.0, 339.0, 338.0, 337.0, 336.0, 335.0, 334.0, 333.0, 332.0, 331.0, 330.0, 329.0, 328.0, 327.0, 326.0, 325.0, 324.0, 323.0, 322.0, 321.0, 320.0, 319.0, 318.0, 317.0, 316.0, 315.0, 314.0, 313.0, 312.0, 311.0, 310.0, 309.0, 308.0, 307.0, 306.0, 305.0, 304.0, 303.0, 302.0, 301.0, 300.0, 299.0, 298.0, 297.0, 296.0, 295.0, 294.0, 293.0, 292.0, 291.0, 290.0, 289.0, 288.0, 287.0, 286.0, 285.0, 284.0, 283.0, 282.0, 281.0, 280.0, 279.0, 278.0, 277.0, 276.0, 275.0, 274.0, 273.0, 272.0, 271.0, 270.0, 269.0, 268.0, 267.0, 266.0, 265.0, 264.0, 263.0, 262.0, 261.0, 260.0, 259.0, 258.0, 257.0, 256.0, 255.0, 254.0, 253.0, 252.0, 251.0, 250.0, 249.0, 248.0, 247.0, 246.0, 245.0, 244.0, 243.0, 242.0, 241.0, 240.0, 239.0, 238.0, 237.0, 236.0, 235.0, 234.0, 233.0, 232.0, 231.0, 230.0, 229.0, 228.0, 227.0, 226.0, 225.0, 224.0, 223.0, 222.0, 221.0, 220.0, 219.0, 218.0, 217.0, 216.0, 215.0, 214.0, 213.0, 212.0, 211.0, 210.0, 209.0, 208.0, 207.0, 206.0, 205.0, 204.0, 203.0, 202.0, 201.0, 200.0, 199.0, 198.0, 197.0, 196.0, 195.0, 194.0, 193.0, 192.0, 191.0, 190.0, 189.0, 188.0, 187.0, 186.0, 185.0, 184.0, 183.0, 182.0, 181.0, 180.0, 179.0, 178.0, 177.0, 176.0, 175.0, 174.0, 173.0, 172.0, 171.0, 170.0, 169.0, 168.0, 167.0, 166.0, 165.0, 164.0, 163.0, 162.0, 161.0, 160.0, 159.0, 158.0, 157.0, 156.0, 155.0, 154.0, 153.0, 152.0, 151.0, 150.0, 149.0, 148.0, 147.0, 146.0, 145.0, 144.0, 143.0, 142.0, 141.0, 140.0, 139.0, 138.0, 137.0, 136.0, 135.0, 134.0, 133.0, 132.0, 131.0, 130.0, 129.0, 128.0, 127.0, 126.0, 125.0, 124.0, 123.0, 122.0, 121.0, 120.0, 119.0, 118.0, 117.0, 116.0, 115.0, 114.0, 113.0, 112.0, 111.0, 110.0, 109.0, 108.0, 107.0, 106.0, 105.0, 104.0, 103.0, 102.0, 101.0, 100.0, 99.0, 98.0, 97.0, 96.0, 95.0, 94.0, 93.0, 92.0, 91.0, 90.0, 89.0, 88.0, 87.0, 86.0, 85.0, 84.0, 83.0, 82.0, 81.0, 80.0, 79.0, 78.0, 77.0, 76.0, 75.0, 74.0, 73.0, 72.0, 71.0, 70.0, 69.0, 68.0, 67.0, 66.0, 65.0, 64.0, 63.0, 62.0, 61.0, 60.0, 59.0, 58.0, 57.0, 56.0, 55.0, 54.0, 53.0, 52.0, 51.0, 50.0, 49.0, 48.0, 47.0, 46.0, 45.0, 44.0, 43.0, 42.0, 41.0, 40.0, 39.0, 38.0, 37.0, 36.0, 35.0, 34.0, 33.0, 32.0, 31.0, 30.0, 29.0, 28.0, 27.0, 26.0, 25.0, 24.0, 23.0, 22.0, 21.0, 20.0, 19.0, 18.0, 17.0, 16.0, 15.0, 14.0, 10.0, 7.0, 4.0, 2.0, 0.0, 1.0, 3.0, 5.0, 6.0, 8.0, 9.0, 11.0, 12.0, 13.0]\n",
      "Current stitch point was not a branch or endpoint, shortest_path_length to one = 97289.79068104079\n",
      "change_status for create soma extending pieces = False\n",
      "closest_sk_pt_coord AFTER = [600367.34936925 653540.90410406 962900.59139373]\n",
      "Adding new branch to skeleton\n",
      "border_average_coordinate = [607538.68333333 650259.13333333 959779.94166667]\n",
      "endpoints_must_keep = {0: array([[607538.68333333, 650259.13333333, 959779.94166667]])}\n",
      "match_sk_branches = []\n",
      "orig_vertex = [600367.34936925 653540.90410406 962900.59139373]\n",
      "match_sk_branches = [0]\n"
     ]
    },
    {
     "data": {
      "application/vnd.jupyter.widget-view+json": {
       "model_id": "7d8c908cdf664bfbb3320b7c1267cd78",
       "version_major": 2,
       "version_minor": 0
      },
      "text/plain": [
       "HBox(children=(FloatProgress(value=1.0, bar_style='info', max=1.0), HTML(value='')))"
      ]
     },
     "metadata": {},
     "output_type": "display_data"
    },
    {
     "name": "stdout",
     "output_type": "stream",
     "text": [
      "\n",
      "\n",
      "\n",
      "--- Working on 1-to-1 correspondence-----\n",
      "max(original_labels),len(original_labels) = (2, 3)\n",
      "empty_indices % = 0.28703703703703703\n",
      " conflict_indices % = 0.005550948958909158\n"
     ]
    },
    {
     "data": {
      "application/vnd.jupyter.widget-view+json": {
       "model_id": "5b10681197c841fdbaa179079c87eb4f",
       "version_major": 2,
       "version_minor": 0
      },
      "text/plain": [
       "HBox(children=(FloatProgress(value=0.0, max=131.0), HTML(value='')))"
      ]
     },
     "metadata": {},
     "output_type": "display_data"
    },
    {
     "name": "stdout",
     "output_type": "stream",
     "text": [
      "\n",
      "AFTER face_lookup_resolved_test\n",
      "Took 0 iterations to expand the label back\n",
      "empty_indices % = 0.0\n",
      " conflict_indices % = 0.0\n"
     ]
    },
    {
     "data": {
      "application/vnd.jupyter.widget-view+json": {
       "model_id": "852560d6dc4f42358a10494e7f95ff38",
       "version_major": 2,
       "version_minor": 0
      },
      "text/plain": [
       "HBox(children=(FloatProgress(value=1.0, bar_style='info', max=1.0), HTML(value='')))"
      ]
     },
     "metadata": {},
     "output_type": "display_data"
    },
    {
     "name": "stdout",
     "output_type": "stream",
     "text": [
      "\n",
      "AFTER face_lookup_resolved_test\n"
     ]
    },
    {
     "data": {
      "application/vnd.jupyter.widget-view+json": {
       "model_id": "6cc54d13246049e8bfd5e20150f067fe",
       "version_major": 2,
       "version_minor": 0
      },
      "text/plain": [
       "HBox(children=(FloatProgress(value=0.0, max=3.0), HTML(value='')))"
      ]
     },
     "metadata": {},
     "output_type": "display_data"
    },
    {
     "name": "stdout",
     "output_type": "stream",
     "text": [
      "\n",
      "curr_width_median = 357.84349705550613\n",
      "curr_width_median = 353.3851793572982\n",
      "curr_width_median = 483.5215747510276\n",
      "checked segment branches after soma add on\n",
      "MP (because soma touching verts) soma extension add: 15.9850492477417\n",
      "There were not both MAP and MP pieces so skipping the stitch resolving phase\n",
      "Time for decomp of Limb = 18.959744215011597\n",
      "Number of matching vertices = 12\n",
      "Only one endpoint after filtering away the endpoints that are not on the skeleton\n",
      "Using Distance measure skeletal_distance\n",
      "endpoints_must_keep = [[607538.68333333 650259.13333333 959779.94166667]]\n",
      "Number of end_nodes BEFORE filtering = 3\n",
      "all_single_nodes_to_eliminate = [2]\n",
      "no small end nodes to get rid of so returning whole skeleton\n",
      "Removed 0 skeletal branches\n"
     ]
    },
    {
     "data": {
      "application/vnd.jupyter.widget-view+json": {
       "model_id": "54fad67701b34e3e8a40a57f5e496033",
       "version_major": 2,
       "version_minor": 0
      },
      "text/plain": [
       "HBox(children=(FloatProgress(value=0.0, max=3.0), HTML(value='')))"
      ]
     },
     "metadata": {},
     "output_type": "display_data"
    },
    {
     "name": "stdout",
     "output_type": "stream",
     "text": [
      "\n",
      "43415 43416\n",
      "For marked faces: None\n",
      "empty_indices % = 0.0\n",
      " conflict_indices % = 0.0\n"
     ]
    },
    {
     "data": {
      "application/vnd.jupyter.widget-view+json": {
       "model_id": "325979242a1240e6984ba70d856ebf58",
       "version_major": 2,
       "version_minor": 0
      },
      "text/plain": [
       "HBox(children=(FloatProgress(value=1.0, bar_style='info', max=1.0), HTML(value='')))"
      ]
     },
     "metadata": {},
     "output_type": "display_data"
    },
    {
     "name": "stdout",
     "output_type": "stream",
     "text": [
      "\n",
      "AFTER face_lookup_resolved_test\n"
     ]
    },
    {
     "data": {
      "application/vnd.jupyter.widget-view+json": {
       "model_id": "5b274f0b9f1b4746b46d21d892eba0ee",
       "version_major": 2,
       "version_minor": 0
      },
      "text/plain": [
       "HBox(children=(FloatProgress(value=0.0, max=3.0), HTML(value='')))"
      ]
     },
     "metadata": {},
     "output_type": "display_data"
    },
    {
     "name": "stderr",
     "output_type": "stream",
     "text": [
      "\r",
      "  0%|          | 0/1 [00:00<?, ?it/s]"
     ]
    },
    {
     "name": "stdout",
     "output_type": "stream",
     "text": [
      "\n",
      "\n",
      "\n",
      "----- Working on Proper Limb # 12 ---------\n",
      "meshparty_segment_size = 100\n",
      "root_curr = [617390.9 649077.3 950387.1]\n",
      "Time for preparing soma vertices and root: 0.0004050731658935547\n",
      "invalidation_d = 12000\n",
      "cc_vertex_thresh = 10\n"
     ]
    },
    {
     "data": {
      "application/vnd.jupyter.widget-view+json": {
       "model_id": "e6d86d6ef6f44b4485cc2ca8dd295120",
       "version_major": 2,
       "version_minor": 0
      },
      "text/plain": [
       "HBox(children=(FloatProgress(value=0.0, max=18549.0), HTML(value='')))"
      ]
     },
     "metadata": {},
     "output_type": "display_data"
    },
    {
     "name": "stdout",
     "output_type": "stream",
     "text": [
      "\n"
     ]
    },
    {
     "name": "stderr",
     "output_type": "stream",
     "text": [
      "100%|██████████| 1/1 [00:00<00:00,  8.86it/s]\n"
     ]
    },
    {
     "name": "stdout",
     "output_type": "stream",
     "text": [
      "meshparty_segment_size = 100\n",
      "Time for 1st pass MP skeletonization: 0.3748900890350342\n",
      "branches_touching_root = [0]\n",
      "length of Graph = 1435\n",
      "After combining close endpoints max(kept_branches_idx) = 0, len(kept_branches_idx) = 1\n",
      "empty_indices % = 0.0\n",
      " conflict_indices % = 0.0\n"
     ]
    },
    {
     "data": {
      "application/vnd.jupyter.widget-view+json": {
       "model_id": "490b21797f824e4e80e588cb29df5046",
       "version_major": 2,
       "version_minor": 0
      },
      "text/plain": [
       "HBox(children=(FloatProgress(value=1.0, bar_style='info', max=1.0), HTML(value='')))"
      ]
     },
     "metadata": {},
     "output_type": "display_data"
    },
    {
     "name": "stdout",
     "output_type": "stream",
     "text": [
      "\n",
      "AFTER face_lookup_resolved_test\n"
     ]
    },
    {
     "data": {
      "application/vnd.jupyter.widget-view+json": {
       "model_id": "2da9142f5c2440819cc4c15951e614b1",
       "version_major": 2,
       "version_minor": 0
      },
      "text/plain": [
       "HBox(children=(FloatProgress(value=0.0, max=1.0), HTML(value='')))"
      ]
     },
     "metadata": {},
     "output_type": "display_data"
    },
    {
     "name": "stdout",
     "output_type": "stream",
     "text": [
      "\n",
      "Decomposing first pass: 1.9306001663208008\n",
      "Attempting to use MeshAfterParty Skeletonization and Mesh Correspondence\n",
      "Another print\n",
      "Divinding into MP and MAP pieces: 0.0003058910369873047\n",
      "Total time for MAP sublimb processing 3.337860107421875e-06\n",
      "---- Working on MP Decomposition #0 ----\n",
      "Using Quicker soma_to_piece_touching_vertices because no MAP and only one sublimb_mesh piece \n",
      "MP filtering soma verts: 0.00041794776916503906\n",
      "Fixing Possible Soma Extension Branch for Sublimb 0\n",
      "Total time for mesh KDTree = 0.30533933639526367\n",
      "sbv[0].reshape(-1,3) = [[617390.9 649077.3 950387.1]]\n",
      "closest_sk_pt_coord BEFORE = [617795.43189057 649163.08395755 950496.18463483]\n",
      "current_skeleton.shape = (1434, 2, 3)\n",
      "node_for_stitch = 0: [617795.43189057 649163.08395755 950496.18463483]\n",
      "node_for_stitch AFTER = 0: [617795.43189057 649163.08395755 950496.18463483]\n",
      "possible_node_loc = [   0 1352]\n",
      "possible_node_loc AFTER = [   0 1352]\n",
      "curr_shortest_path = [0]\n",
      "Current stitch point was a branch or endpoint\n",
      "change_status for create soma extending pieces = False\n",
      "closest_sk_pt_coord AFTER = [617795.43189057 649163.08395755 950496.18463483]\n",
      "skipping soma 0 because closest skeleton node was already end node\n",
      "endpoints_must_keep = {0: array([[617795.43189057, 649163.08395755, 950496.18463483]])}\n",
      "match_sk_branches = [0]\n",
      "The new branch info was none so skipping \n",
      "\n",
      "No soma extending branch was added for this sublimb even though it had a soma border (means they already existed)\n",
      "MP (because soma touching verts) soma extension add: 0.6199779510498047\n",
      "There were not both MAP and MP pieces so skipping the stitch resolving phase\n",
      "Time for decomp of Limb = 3.0167429447174072\n",
      "Number of matching vertices = 13\n",
      "Only one endpoint after filtering away the endpoints that are not on the skeleton\n",
      "Using Distance measure skeletal_distance\n",
      "endpoints_must_keep = [[617795.43189057 649163.08395755 950496.18463483]]\n",
      "Number of end_nodes BEFORE filtering = 2\n",
      "all_single_nodes_to_eliminate = [0]\n",
      "no small end nodes to get rid of so returning whole skeleton\n",
      "Removed 0 skeletal branches\n"
     ]
    },
    {
     "data": {
      "application/vnd.jupyter.widget-view+json": {
       "model_id": "ca2771aaccdd4143b724489dc9b6a7a4",
       "version_major": 2,
       "version_minor": 0
      },
      "text/plain": [
       "HBox(children=(FloatProgress(value=0.0, max=1.0), HTML(value='')))"
      ]
     },
     "metadata": {},
     "output_type": "display_data"
    },
    {
     "name": "stdout",
     "output_type": "stream",
     "text": [
      "\n",
      "36950 36951\n",
      "For marked faces: None\n",
      "empty_indices % = 0.0\n",
      " conflict_indices % = 0.0\n"
     ]
    },
    {
     "data": {
      "application/vnd.jupyter.widget-view+json": {
       "model_id": "85b121366a1c4221b219a6c33add6960",
       "version_major": 2,
       "version_minor": 0
      },
      "text/plain": [
       "HBox(children=(FloatProgress(value=1.0, bar_style='info', max=1.0), HTML(value='')))"
      ]
     },
     "metadata": {},
     "output_type": "display_data"
    },
    {
     "name": "stdout",
     "output_type": "stream",
     "text": [
      "\n",
      "AFTER face_lookup_resolved_test\n"
     ]
    },
    {
     "data": {
      "application/vnd.jupyter.widget-view+json": {
       "model_id": "512a056e3e7645caad4677c19494e4c9",
       "version_major": 2,
       "version_minor": 0
      },
      "text/plain": [
       "HBox(children=(FloatProgress(value=0.0, max=1.0), HTML(value='')))"
      ]
     },
     "metadata": {},
     "output_type": "display_data"
    },
    {
     "name": "stderr",
     "output_type": "stream",
     "text": [
      "\r",
      "  0%|          | 0/1 [00:00<?, ?it/s]"
     ]
    },
    {
     "name": "stdout",
     "output_type": "stream",
     "text": [
      "\n",
      "\n",
      "\n",
      "----- Working on Proper Limb # 13 ---------\n",
      "meshparty_segment_size = 100\n",
      "root_curr = [699805.5 624723.6 937226.5]\n",
      "Time for preparing soma vertices and root: 0.00032973289489746094\n",
      "invalidation_d = 12000\n",
      "cc_vertex_thresh = 10\n"
     ]
    },
    {
     "data": {
      "application/vnd.jupyter.widget-view+json": {
       "model_id": "763f5912764b47cdac1d286f42fef217",
       "version_major": 2,
       "version_minor": 0
      },
      "text/plain": [
       "HBox(children=(FloatProgress(value=0.0, max=17012.0), HTML(value='')))"
      ]
     },
     "metadata": {},
     "output_type": "display_data"
    },
    {
     "name": "stderr",
     "output_type": "stream",
     "text": [
      "100%|██████████| 1/1 [00:00<00:00,  7.46it/s]"
     ]
    },
    {
     "name": "stdout",
     "output_type": "stream",
     "text": [
      "\n"
     ]
    },
    {
     "name": "stderr",
     "output_type": "stream",
     "text": [
      "\n"
     ]
    },
    {
     "name": "stdout",
     "output_type": "stream",
     "text": [
      "meshparty_segment_size = 100\n",
      "Time for 1st pass MP skeletonization: 0.35123777389526367\n",
      "branches_touching_root = [1]\n",
      "length of Graph = 2162\n",
      "After combining close endpoints max(kept_branches_idx) = 2, len(kept_branches_idx) = 3\n",
      "empty_indices % = 0.0\n",
      " conflict_indices % = 0.0020609450905343736\n"
     ]
    },
    {
     "data": {
      "application/vnd.jupyter.widget-view+json": {
       "model_id": "15398551afb04323a8233b0873ec56fa",
       "version_major": 2,
       "version_minor": 0
      },
      "text/plain": [
       "HBox(children=(FloatProgress(value=0.0, max=1.0), HTML(value='')))"
      ]
     },
     "metadata": {},
     "output_type": "display_data"
    },
    {
     "name": "stdout",
     "output_type": "stream",
     "text": [
      "\n",
      "AFTER face_lookup_resolved_test\n"
     ]
    },
    {
     "data": {
      "application/vnd.jupyter.widget-view+json": {
       "model_id": "3b8017504d034579a409f51d958cf00e",
       "version_major": 2,
       "version_minor": 0
      },
      "text/plain": [
       "HBox(children=(FloatProgress(value=0.0, max=3.0), HTML(value='')))"
      ]
     },
     "metadata": {},
     "output_type": "display_data"
    },
    {
     "name": "stdout",
     "output_type": "stream",
     "text": [
      "\n",
      "Decomposing first pass: 2.020602226257324\n",
      "Attempting to use MeshAfterParty Skeletonization and Mesh Correspondence\n",
      "Another print\n",
      "Found len(mesh_large_idx) MAP candidates: [21163]\n",
      "mesh_large_connectivity: 0.0005395412445068359\n",
      "Finding MAP candidates connected components: 8.034706115722656e-05\n",
      "len(filtered_pieces) = 1\n",
      "skeleton_connectivity_MP : 0.06684279441833496\n",
      "Grouping MP Sublimbs by Graph: 0.008256912231445312\n",
      "Divinding into MP and MAP pieces: 9.5367431640625e-07\n",
      "--- Working on MAP piece 0---\n",
      "MAP Filtering Soma Pieces: 0.01177978515625\n",
      "inside skeletonize_connected_branch and use_surface_after_CGAL=False, surface_reconstruction_size=1000\n",
      "     Starting Screened Poisson\n",
      "xvfb-run -n 4097 -s \"-screen 0 800x600x24\" meshlabserver $@  -i /notebooks/Auto_Proofreading/Decomposition_Optimization/Debug_4/temp/None.off -o /notebooks/Auto_Proofreading/Decomposition_Optimization/Debug_4/temp/None_poisson.off -s /notebooks/Auto_Proofreading/Decomposition_Optimization/Debug_4/temp/poisson_35659.mls\n",
      "removed temporary input file: /notebooks/Auto_Proofreading/Decomposition_Optimization/Debug_4/temp/None.off\n",
      "removed temporary output file: /notebooks/Auto_Proofreading/Decomposition_Optimization/Debug_4/temp/None_poisson.off\n",
      "Using the close holes feature\n",
      "Mesh was manifold\n",
      "No holes needed to fill and mesh was manifold so returning original mesh\n",
      "-----Time for Screened Poisson= 19.499655723571777\n",
      "mesh_pieces = [<trimesh.Trimesh(vertices.shape=(18103, 3), faces.shape=(36202, 3))>, <trimesh.Trimesh(vertices.shape=(9490, 3), faces.shape=(18976, 3))>]\n",
      "     Starting Calcification (Changed back where stitches large poissons)\n",
      "min_edge_length = 75\n",
      "min_edge_length = 75\n"
     ]
    },
    {
     "data": {
      "application/vnd.jupyter.widget-view+json": {
       "model_id": "1b2ddf98f0024231b456010b4be34430",
       "version_major": 2,
       "version_minor": 0
      },
      "text/plain": [
       "HBox(children=(FloatProgress(value=1.0, bar_style='info', max=1.0), HTML(value='')))"
      ]
     },
     "metadata": {},
     "output_type": "display_data"
    },
    {
     "name": "stdout",
     "output_type": "stream",
     "text": [
      "\n",
      "No skeletons to stack so returning empty list\n",
      "len_subgraphs AT BEGINNING of the loop\n"
     ]
    },
    {
     "data": {
      "application/vnd.jupyter.widget-view+json": {
       "model_id": "3a59af79f8e34248b962367ca4a183dd",
       "version_major": 2,
       "version_minor": 0
      },
      "text/plain": [
       "HBox(children=(FloatProgress(value=0.0, max=2.0), HTML(value='')))"
      ]
     },
     "metadata": {},
     "output_type": "display_data"
    },
    {
     "name": "stdout",
     "output_type": "stream",
     "text": [
      "all graph is one component!\n",
      "\n",
      "Total time for skeleton stitching = 0.09693098068237305\n",
      "The process was using a temp folder\n",
      "Checking connected components after skeletonize_connected_branch\n",
      "    Total time for skeletonizing branch: 22.050554037094116\n",
      "Checking connected components after removing cycles\n",
      "Total time for mesh KDTree = 0.1733541488647461\n",
      "sbv[0].reshape(-1,3) = [[699805.5 624723.6 937226.5]]\n",
      "closest_sk_pt_coord BEFORE = [700512. 624380. 937423.]\n",
      "current_skeleton.shape = (828, 2, 3)\n",
      "node_for_stitch = 0: [700512. 624380. 937423.]\n",
      "node_for_stitch AFTER = 0: [700512. 624380. 937423.]\n",
      "possible_node_loc = [  0 156 158 401 572 678 789 828]\n",
      "possible_node_loc AFTER = [  0 156 158 401 572 678 789 828]\n",
      "curr_shortest_path = [0]\n",
      "Current stitch point was a branch or endpoint\n",
      "change_status for create soma extending pieces = False\n",
      "closest_sk_pt_coord AFTER = [700512. 624380. 937423.]\n",
      "skipping soma 1 because closest skeleton node was already end node\n",
      "endpoints_must_keep = {1: array([[700512., 624380., 937423.]])}\n",
      "    Total time for Fixing Skeleton Soma Endpoint Extension : 0.4453911781311035\n",
      "filter_end_node_length = 4000\n",
      "Using Distance measure skeletal_distance\n",
      "endpoints_must_keep = [[700512. 624380. 937423.]]\n",
      "Number of end_nodes BEFORE filtering = 8\n",
      "all_single_nodes_to_eliminate = [0]\n"
     ]
    },
    {
     "data": {
      "application/vnd.jupyter.widget-view+json": {
       "model_id": "4714bbfa13474d41a4ee40d35629dc13",
       "version_major": 2,
       "version_minor": 0
      },
      "text/plain": [
       "HBox(children=(FloatProgress(value=0.0, max=6.0), HTML(value='')))"
      ]
     },
     "metadata": {},
     "output_type": "display_data"
    },
    {
     "name": "stdout",
     "output_type": "stream",
     "text": [
      "\n",
      "Checking connected components after clean_skeleton\n",
      "after DISTANCE cleaning limb size of skeleton = (809, 2, 3)\n",
      "********COMBINING CLOSE SKELETON NODES WITHIN 700 DISTANCE**********\n",
      "Found 0 valid paths to replace\n",
      "valid_paths = []\n",
      "valid_path_lengths = []\n",
      "No valid paths found so just returning the original\n",
      "skeletonize_and_clean_connected_branch_CGAL: 24.330037832260132\n",
      "Working on limb correspondence for #0 MAP piece\n",
      "xvfb-run -n 4097 -s \"-screen 0 800x600x24\" meshlabserver $@  -i /notebooks/Auto_Proofreading/Decomposition_Optimization/Debug_4/temp/neuron_45738.off -o /notebooks/Auto_Proofreading/Decomposition_Optimization/Debug_4/temp/neuron_45738_remove_interior.off -s /notebooks/Auto_Proofreading/Decomposition_Optimization/Debug_4/temp/remove_interior_191594.mls\n",
      "removed temporary input file: /notebooks/Auto_Proofreading/Decomposition_Optimization/Debug_4/temp/neuron_45738.off\n",
      "removed temporary output file: /notebooks/Auto_Proofreading/Decomposition_Optimization/Debug_4/temp/neuron_45738_remove_interior.off\n",
      "/notebooks/Auto_Proofreading/Decomposition_Optimization/Debug_4/temp/remove_interior_191594.mls is being deleted....\n",
      "THERE WERE NO MESH PIECES GREATER THAN THE significance_threshold\n",
      "No significant (100) interior meshes present\n",
      "largest is 11\n"
     ]
    },
    {
     "data": {
      "application/vnd.jupyter.widget-view+json": {
       "model_id": "af1bae674c424eba83a8022873390b32",
       "version_major": 2,
       "version_minor": 0
      },
      "text/plain": [
       "HBox(children=(FloatProgress(value=1.0, bar_style='info', max=1.0), HTML(value='')))"
      ]
     },
     "metadata": {},
     "output_type": "display_data"
    },
    {
     "name": "stdout",
     "output_type": "stream",
     "text": [
      "\n",
      "Total time for decomposition = 4.858943223953247\n",
      "mesh_correspondence_first_pass: 4.859107732772827\n",
      "Limb decomposed into 1 branches\n",
      "divided_skeleton_graph_recovered = (809, 2, 3) and \n",
      "current_mesh_data[0]['branch_skeletons_cleaned'].shape = (809, 2, 3)\n",
      "\n",
      "Number of connected components in deocmposed recovered graph = 1\n",
      "Number of connected components in cleaned skeleton graph= 1\n",
      "The downsampled branches number of connected components = 1\n",
      "Empty submeshes = []\n",
      "\n",
      "\n",
      "--- Working on 1-to-1 correspondence-----\n",
      "max(original_labels),len(original_labels) = (0, 1)\n",
      "empty_indices % = 0.01668005481264471\n",
      " conflict_indices % = 0.0\n"
     ]
    },
    {
     "data": {
      "application/vnd.jupyter.widget-view+json": {
       "model_id": "5ed6e20a65a743ccbd33348527b1b6b2",
       "version_major": 2,
       "version_minor": 0
      },
      "text/plain": [
       "HBox(children=(FloatProgress(value=0.0, max=14.0), HTML(value='')))"
      ]
     },
     "metadata": {},
     "output_type": "display_data"
    },
    {
     "name": "stdout",
     "output_type": "stream",
     "text": [
      "\n",
      "AFTER face_lookup_resolved_test\n",
      "Took 0 iterations to expand the label back\n",
      "empty_indices % = 0.0\n",
      " conflict_indices % = 0.0\n"
     ]
    },
    {
     "data": {
      "application/vnd.jupyter.widget-view+json": {
       "model_id": "786b72a9d41545bcbc105cf25709cc35",
       "version_major": 2,
       "version_minor": 0
      },
      "text/plain": [
       "HBox(children=(FloatProgress(value=1.0, bar_style='info', max=1.0), HTML(value='')))"
      ]
     },
     "metadata": {},
     "output_type": "display_data"
    },
    {
     "name": "stdout",
     "output_type": "stream",
     "text": [
      "\n",
      "AFTER face_lookup_resolved_test\n"
     ]
    },
    {
     "data": {
      "application/vnd.jupyter.widget-view+json": {
       "model_id": "de6b3a00098d483189ad0a6449c8c235",
       "version_major": 2,
       "version_minor": 0
      },
      "text/plain": [
       "HBox(children=(FloatProgress(value=0.0, max=1.0), HTML(value='')))"
      ]
     },
     "metadata": {},
     "output_type": "display_data"
    },
    {
     "name": "stdout",
     "output_type": "stream",
     "text": [
      "\n",
      "Total time for MAP sublimb #0 mesh processing = 30.81000280380249\n",
      "correspondence_1_to_1: 1.6088905334472656\n",
      "Total time for MAP sublimb processing 30.810495615005493\n",
      "---- Working on MP Decomposition #0 ----\n",
      "Computing the current soma touching verts dict manually\n",
      "MP filtering soma verts: 0.009248971939086914\n",
      "Do Not Need to Fix MP Decomposition 0 so just continuing\n",
      "Successful mesh connectivity with type edges\n",
      "\n",
      "---- Working on (0, 0) connection-----\n",
      "sk_conn = [0, 1]\n",
      "conn = [0, 1]\n",
      "winning_vertex = [ 727305.35556629  555725.78015178 1015259.16842004]\n",
      "MP_branches_with_stitch_point = [0, 1]\n",
      "MAP_branches_with_stitch_point = [0]\n",
      "MAP_stitch_point_on_end_or_branch = True\n"
     ]
    },
    {
     "data": {
      "application/vnd.jupyter.widget-view+json": {
       "model_id": "06b38c34dcf1417e8a8c601eacfe5921",
       "version_major": 2,
       "version_minor": 0
      },
      "text/plain": [
       "HBox(children=(FloatProgress(value=1.0, bar_style='info', max=1.0), HTML(value='')))"
      ]
     },
     "metadata": {},
     "output_type": "display_data"
    },
    {
     "name": "stdout",
     "output_type": "stream",
     "text": [
      "\n",
      "\n",
      "\n",
      "--- Working on 1-to-1 correspondence-----\n",
      "max(original_labels),len(original_labels) = (2, 3)\n",
      "empty_indices % = 0.03262181657588694\n",
      " conflict_indices % = 0.005181804799057854\n"
     ]
    },
    {
     "data": {
      "application/vnd.jupyter.widget-view+json": {
       "model_id": "610c55937ec2451c92c10c52c096d08a",
       "version_major": 2,
       "version_minor": 0
      },
      "text/plain": [
       "HBox(children=(FloatProgress(value=0.0, max=32.0), HTML(value='')))"
      ]
     },
     "metadata": {},
     "output_type": "display_data"
    },
    {
     "name": "stdout",
     "output_type": "stream",
     "text": [
      "\n",
      "AFTER face_lookup_resolved_test\n"
     ]
    },
    {
     "data": {
      "application/vnd.jupyter.widget-view+json": {
       "model_id": "dce2cca42d1a49118d15e892559d970e",
       "version_major": 2,
       "version_minor": 0
      },
      "text/plain": [
       "HBox(children=(FloatProgress(value=0.0, max=3.0), HTML(value='')))"
      ]
     },
     "metadata": {},
     "output_type": "display_data"
    },
    {
     "name": "stdout",
     "output_type": "stream",
     "text": [
      "\n",
      "MP_branches_with_stitch_point= [0, 1]\n",
      "MP_branches_for_correspondence = [0 1]\n",
      "MP_leftover = [], MP_leftover_idx = []\n",
      " Finished with (0, 0) \n",
      "\n",
      "\n",
      "\n",
      "Time for decomp of Limb = 42.58842658996582\n",
      "Number of matching vertices = 12\n",
      "Only one endpoint after filtering away the endpoints that are not on the skeleton\n",
      "Using Distance measure skeletal_distance\n",
      "endpoints_must_keep = [[700512. 624380. 937423.]]\n",
      "Number of end_nodes BEFORE filtering = 3\n",
      "all_single_nodes_to_eliminate = [0]\n",
      "no small end nodes to get rid of so returning whole skeleton\n",
      "Removed 0 skeletal branches\n"
     ]
    },
    {
     "data": {
      "application/vnd.jupyter.widget-view+json": {
       "model_id": "70a8ef2852d24c96aa1bfd2d62badcd0",
       "version_major": 2,
       "version_minor": 0
      },
      "text/plain": [
       "HBox(children=(FloatProgress(value=0.0, max=3.0), HTML(value='')))"
      ]
     },
     "metadata": {},
     "output_type": "display_data"
    },
    {
     "name": "stdout",
     "output_type": "stream",
     "text": [
      "\n",
      "33964 33965\n",
      "For marked faces: None\n",
      "empty_indices % = 0.0\n",
      " conflict_indices % = 0.0\n"
     ]
    },
    {
     "data": {
      "application/vnd.jupyter.widget-view+json": {
       "model_id": "f53d3d74165e42a38ba1706b6f9306ab",
       "version_major": 2,
       "version_minor": 0
      },
      "text/plain": [
       "HBox(children=(FloatProgress(value=1.0, bar_style='info', max=1.0), HTML(value='')))"
      ]
     },
     "metadata": {},
     "output_type": "display_data"
    },
    {
     "name": "stdout",
     "output_type": "stream",
     "text": [
      "\n",
      "AFTER face_lookup_resolved_test\n"
     ]
    },
    {
     "data": {
      "application/vnd.jupyter.widget-view+json": {
       "model_id": "d6cceac3568945788a042ad06fa9d492",
       "version_major": 2,
       "version_minor": 0
      },
      "text/plain": [
       "HBox(children=(FloatProgress(value=0.0, max=3.0), HTML(value='')))"
      ]
     },
     "metadata": {},
     "output_type": "display_data"
    },
    {
     "name": "stderr",
     "output_type": "stream",
     "text": [
      "\r",
      "  0%|          | 0/1 [00:00<?, ?it/s]"
     ]
    },
    {
     "name": "stdout",
     "output_type": "stream",
     "text": [
      "\n",
      "\n",
      "\n",
      "----- Working on Proper Limb # 14 ---------\n",
      "meshparty_segment_size = 100\n",
      "root_curr = [705681.8 633773.8 934732.8]\n",
      "Time for preparing soma vertices and root: 0.0003993511199951172\n",
      "invalidation_d = 12000\n",
      "cc_vertex_thresh = 10\n"
     ]
    },
    {
     "data": {
      "application/vnd.jupyter.widget-view+json": {
       "model_id": "da4dbe43edf547b196cda8b259cb76dc",
       "version_major": 2,
       "version_minor": 0
      },
      "text/plain": [
       "HBox(children=(FloatProgress(value=0.0, max=14121.0), HTML(value='')))"
      ]
     },
     "metadata": {},
     "output_type": "display_data"
    },
    {
     "name": "stderr",
     "output_type": "stream",
     "text": [
      "100%|██████████| 1/1 [00:00<00:00,  9.21it/s]"
     ]
    },
    {
     "name": "stdout",
     "output_type": "stream",
     "text": [
      "\n"
     ]
    },
    {
     "name": "stderr",
     "output_type": "stream",
     "text": [
      "\n"
     ]
    },
    {
     "name": "stdout",
     "output_type": "stream",
     "text": [
      "meshparty_segment_size = 100\n",
      "Time for 1st pass MP skeletonization: 0.3187403678894043\n",
      "branches_touching_root = [0]\n",
      "length of Graph = 1715\n",
      "After combining close endpoints max(kept_branches_idx) = 0, len(kept_branches_idx) = 1\n",
      "empty_indices % = 0.0\n",
      " conflict_indices % = 0.0\n"
     ]
    },
    {
     "data": {
      "application/vnd.jupyter.widget-view+json": {
       "model_id": "f800757c481f4d4184de9a85ceafa8a9",
       "version_major": 2,
       "version_minor": 0
      },
      "text/plain": [
       "HBox(children=(FloatProgress(value=1.0, bar_style='info', max=1.0), HTML(value='')))"
      ]
     },
     "metadata": {},
     "output_type": "display_data"
    },
    {
     "name": "stdout",
     "output_type": "stream",
     "text": [
      "\n",
      "AFTER face_lookup_resolved_test\n"
     ]
    },
    {
     "data": {
      "application/vnd.jupyter.widget-view+json": {
       "model_id": "08fe5c89bbf5457788f4dc37913fc628",
       "version_major": 2,
       "version_minor": 0
      },
      "text/plain": [
       "HBox(children=(FloatProgress(value=0.0, max=1.0), HTML(value='')))"
      ]
     },
     "metadata": {},
     "output_type": "display_data"
    },
    {
     "name": "stdout",
     "output_type": "stream",
     "text": [
      "\n",
      "Decomposing first pass: 1.712263584136963\n",
      "Attempting to use MeshAfterParty Skeletonization and Mesh Correspondence\n",
      "Another print\n",
      "Found len(mesh_large_idx) MAP candidates: [28191]\n",
      "mesh_large_connectivity: 0.0005314350128173828\n",
      "Finding MAP candidates connected components: 8.249282836914062e-05\n",
      "len(filtered_pieces) = 1\n",
      "skeleton_connectivity_MP : 0.008206605911254883\n",
      "Grouping MP Sublimbs by Graph: 2.9325485229492188e-05\n",
      "Divinding into MP and MAP pieces: 7.152557373046875e-07\n",
      "--- Working on MAP piece 0---\n",
      "MAP Filtering Soma Pieces: 0.0124969482421875\n",
      "inside skeletonize_connected_branch and use_surface_after_CGAL=False, surface_reconstruction_size=1000\n",
      "     Starting Screened Poisson\n",
      "xvfb-run -n 4097 -s \"-screen 0 800x600x24\" meshlabserver $@  -i /notebooks/Auto_Proofreading/Decomposition_Optimization/Debug_4/temp/None.off -o /notebooks/Auto_Proofreading/Decomposition_Optimization/Debug_4/temp/None_poisson.off -s /notebooks/Auto_Proofreading/Decomposition_Optimization/Debug_4/temp/poisson_677396.mls\n",
      "removed temporary input file: /notebooks/Auto_Proofreading/Decomposition_Optimization/Debug_4/temp/None.off\n",
      "removed temporary output file: /notebooks/Auto_Proofreading/Decomposition_Optimization/Debug_4/temp/None_poisson.off\n",
      "Using the close holes feature\n",
      "Mesh was manifold\n",
      "No holes needed to fill and mesh was manifold so returning original mesh\n",
      "-----Time for Screened Poisson= 17.461975812911987\n",
      "mesh_pieces = [<trimesh.Trimesh(vertices.shape=(37823, 3), faces.shape=(75642, 3))>, <trimesh.Trimesh(vertices.shape=(7062, 3), faces.shape=(14120, 3))>]\n",
      "     Starting Calcification (Changed back where stitches large poissons)\n",
      "min_edge_length = 75\n",
      "min_edge_length = 75\n"
     ]
    },
    {
     "data": {
      "application/vnd.jupyter.widget-view+json": {
       "model_id": "2f74968bf5104ef3bc801be21b3f24bc",
       "version_major": 2,
       "version_minor": 0
      },
      "text/plain": [
       "HBox(children=(FloatProgress(value=1.0, bar_style='info', max=1.0), HTML(value='')))"
      ]
     },
     "metadata": {},
     "output_type": "display_data"
    },
    {
     "name": "stdout",
     "output_type": "stream",
     "text": [
      "\n",
      "No skeletons to stack so returning empty list\n",
      "len_subgraphs AT BEGINNING of the loop\n"
     ]
    },
    {
     "data": {
      "application/vnd.jupyter.widget-view+json": {
       "model_id": "d05e48cb2d3b40a39fd737bf4e95f35a",
       "version_major": 2,
       "version_minor": 0
      },
      "text/plain": [
       "HBox(children=(FloatProgress(value=0.0, max=2.0), HTML(value='')))"
      ]
     },
     "metadata": {},
     "output_type": "display_data"
    },
    {
     "name": "stdout",
     "output_type": "stream",
     "text": [
      "all graph is one component!\n",
      "\n",
      "Total time for skeleton stitching = 0.08600187301635742\n",
      "The process was using a temp folder\n",
      "Checking connected components after skeletonize_connected_branch\n",
      "    Total time for skeletonizing branch: 26.51180362701416\n",
      "Checking connected components after removing cycles\n",
      "Total time for mesh KDTree = 0.20798540115356445\n",
      "sbv[0].reshape(-1,3) = [[705681.8 633773.8 934732.8]]\n",
      "closest_sk_pt_coord BEFORE = [706386. 633983. 934702.]\n",
      "current_skeleton.shape = (1292, 2, 3)\n",
      "node_for_stitch = 0: [706386. 633983. 934702.]\n",
      "node_for_stitch AFTER = 0: [706386. 633983. 934702.]\n",
      "possible_node_loc = [   0  660  756  820  855  889  890  904  912  940 1117 1220 1292]\n",
      "possible_node_loc AFTER = [   0  660  756  820  855  889  890  904  912  940 1117 1220 1292]\n",
      "curr_shortest_path = [0]\n",
      "Current stitch point was a branch or endpoint\n",
      "change_status for create soma extending pieces = False\n",
      "closest_sk_pt_coord AFTER = [706386. 633983. 934702.]\n",
      "skipping soma 1 because closest skeleton node was already end node\n",
      "endpoints_must_keep = {1: array([[706386., 633983., 934702.]])}\n",
      "    Total time for Fixing Skeleton Soma Endpoint Extension : 0.6572914123535156\n",
      "filter_end_node_length = 4000\n",
      "Using Distance measure skeletal_distance\n",
      "endpoints_must_keep = [[706386. 633983. 934702.]]\n",
      "Number of end_nodes BEFORE filtering = 13\n",
      "all_single_nodes_to_eliminate = [0]\n"
     ]
    },
    {
     "data": {
      "application/vnd.jupyter.widget-view+json": {
       "model_id": "cae519d8b560426e87e40dcdb40dfc33",
       "version_major": 2,
       "version_minor": 0
      },
      "text/plain": [
       "HBox(children=(FloatProgress(value=0.0, max=11.0), HTML(value='')))"
      ]
     },
     "metadata": {},
     "output_type": "display_data"
    },
    {
     "name": "stdout",
     "output_type": "stream",
     "text": [
      "\n",
      "Checking connected components after clean_skeleton\n",
      "after DISTANCE cleaning limb size of skeleton = (1255, 2, 3)\n",
      "********COMBINING CLOSE SKELETON NODES WITHIN 700 DISTANCE**********\n",
      "Found 0 valid paths to replace\n",
      "valid_paths = []\n",
      "valid_path_lengths = []\n",
      "No valid paths found so just returning the original\n",
      "skeletonize_and_clean_connected_branch_CGAL: 30.491514205932617\n",
      "Working on limb correspondence for #0 MAP piece\n",
      "xvfb-run -n 4097 -s \"-screen 0 800x600x24\" meshlabserver $@  -i /notebooks/Auto_Proofreading/Decomposition_Optimization/Debug_4/temp/neuron_20723.off -o /notebooks/Auto_Proofreading/Decomposition_Optimization/Debug_4/temp/neuron_20723_remove_interior.off -s /notebooks/Auto_Proofreading/Decomposition_Optimization/Debug_4/temp/remove_interior_835221.mls\n",
      "removed temporary input file: /notebooks/Auto_Proofreading/Decomposition_Optimization/Debug_4/temp/neuron_20723.off\n",
      "removed temporary output file: /notebooks/Auto_Proofreading/Decomposition_Optimization/Debug_4/temp/neuron_20723_remove_interior.off\n",
      "/notebooks/Auto_Proofreading/Decomposition_Optimization/Debug_4/temp/remove_interior_835221.mls is being deleted....\n",
      "THERE WERE NO MESH PIECES GREATER THAN THE significance_threshold\n",
      "No significant (100) interior meshes present\n",
      "largest is 14\n"
     ]
    },
    {
     "data": {
      "application/vnd.jupyter.widget-view+json": {
       "model_id": "f202e86022414386919b0e3d287dd2c2",
       "version_major": 2,
       "version_minor": 0
      },
      "text/plain": [
       "HBox(children=(FloatProgress(value=1.0, bar_style='info', max=1.0), HTML(value='')))"
      ]
     },
     "metadata": {},
     "output_type": "display_data"
    },
    {
     "name": "stdout",
     "output_type": "stream",
     "text": [
      "\n",
      "Total time for decomposition = 6.8233418464660645\n",
      "mesh_correspondence_first_pass: 6.823511838912964\n",
      "Limb decomposed into 1 branches\n",
      "divided_skeleton_graph_recovered = (1255, 2, 3) and \n",
      "current_mesh_data[0]['branch_skeletons_cleaned'].shape = (1255, 2, 3)\n",
      "\n",
      "Number of connected components in deocmposed recovered graph = 1\n",
      "Number of connected components in cleaned skeleton graph= 1\n",
      "The downsampled branches number of connected components = 1\n",
      "Empty submeshes = []\n",
      "\n",
      "\n",
      "--- Working on 1-to-1 correspondence-----\n",
      "max(original_labels),len(original_labels) = (0, 1)\n",
      "empty_indices % = 0.014721010251498705\n",
      " conflict_indices % = 0.0\n"
     ]
    },
    {
     "data": {
      "application/vnd.jupyter.widget-view+json": {
       "model_id": "de407f2940534777bcf8a3e1889b5414",
       "version_major": 2,
       "version_minor": 0
      },
      "text/plain": [
       "HBox(children=(FloatProgress(value=0.0, max=21.0), HTML(value='')))"
      ]
     },
     "metadata": {},
     "output_type": "display_data"
    },
    {
     "name": "stdout",
     "output_type": "stream",
     "text": [
      "\n",
      "AFTER face_lookup_resolved_test\n",
      "Took 0 iterations to expand the label back\n",
      "empty_indices % = 0.0\n",
      " conflict_indices % = 0.0\n"
     ]
    },
    {
     "data": {
      "application/vnd.jupyter.widget-view+json": {
       "model_id": "ca1eabf71d2a4be5aca80f85c0ebbda2",
       "version_major": 2,
       "version_minor": 0
      },
      "text/plain": [
       "HBox(children=(FloatProgress(value=1.0, bar_style='info', max=1.0), HTML(value='')))"
      ]
     },
     "metadata": {},
     "output_type": "display_data"
    },
    {
     "name": "stdout",
     "output_type": "stream",
     "text": [
      "\n",
      "AFTER face_lookup_resolved_test\n"
     ]
    },
    {
     "data": {
      "application/vnd.jupyter.widget-view+json": {
       "model_id": "02100a1e33cd4567b3041b108d5ccb6e",
       "version_major": 2,
       "version_minor": 0
      },
      "text/plain": [
       "HBox(children=(FloatProgress(value=0.0, max=1.0), HTML(value='')))"
      ]
     },
     "metadata": {},
     "output_type": "display_data"
    },
    {
     "name": "stdout",
     "output_type": "stream",
     "text": [
      "\n",
      "Total time for MAP sublimb #0 mesh processing = 39.48653602600098\n",
      "correspondence_1_to_1: 2.1586687564849854\n",
      "Total time for MAP sublimb processing 39.48701763153076\n",
      "There were not both MAP and MP pieces so skipping the stitch resolving phase\n",
      "Time for decomp of Limb = 41.60458302497864\n",
      "Number of matching vertices = 15\n",
      "Only one endpoint after filtering away the endpoints that are not on the skeleton\n",
      "Using Distance measure skeletal_distance\n",
      "endpoints_must_keep = [[706386. 633983. 934702.]]\n",
      "Number of end_nodes BEFORE filtering = 2\n",
      "all_single_nodes_to_eliminate = [0]\n",
      "no small end nodes to get rid of so returning whole skeleton\n",
      "Removed 0 skeletal branches\n"
     ]
    },
    {
     "data": {
      "application/vnd.jupyter.widget-view+json": {
       "model_id": "fe1abe9b5dfb493abaa2627245891a20",
       "version_major": 2,
       "version_minor": 0
      },
      "text/plain": [
       "HBox(children=(FloatProgress(value=0.0, max=1.0), HTML(value='')))"
      ]
     },
     "metadata": {},
     "output_type": "display_data"
    },
    {
     "name": "stdout",
     "output_type": "stream",
     "text": [
      "\n",
      "28190 28191\n",
      "For marked faces: None\n",
      "empty_indices % = 0.0\n",
      " conflict_indices % = 0.0\n"
     ]
    },
    {
     "data": {
      "application/vnd.jupyter.widget-view+json": {
       "model_id": "f43c85668a3541dd91d031b605c705e1",
       "version_major": 2,
       "version_minor": 0
      },
      "text/plain": [
       "HBox(children=(FloatProgress(value=1.0, bar_style='info', max=1.0), HTML(value='')))"
      ]
     },
     "metadata": {},
     "output_type": "display_data"
    },
    {
     "name": "stdout",
     "output_type": "stream",
     "text": [
      "\n",
      "AFTER face_lookup_resolved_test\n"
     ]
    },
    {
     "data": {
      "application/vnd.jupyter.widget-view+json": {
       "model_id": "df15d940cecf412db422018d8adb4801",
       "version_major": 2,
       "version_minor": 0
      },
      "text/plain": [
       "HBox(children=(FloatProgress(value=0.0, max=1.0), HTML(value='')))"
      ]
     },
     "metadata": {},
     "output_type": "display_data"
    },
    {
     "name": "stderr",
     "output_type": "stream",
     "text": [
      "\r",
      "  0%|          | 0/1 [00:00<?, ?it/s]"
     ]
    },
    {
     "name": "stdout",
     "output_type": "stream",
     "text": [
      "\n",
      "\n",
      "\n",
      "----- Working on Proper Limb # 15 ---------\n",
      "meshparty_segment_size = 100\n",
      "root_curr = [612288.3 662040.8 947726.2]\n",
      "Time for preparing soma vertices and root: 0.00030231475830078125\n",
      "invalidation_d = 12000\n",
      "cc_vertex_thresh = 10\n"
     ]
    },
    {
     "data": {
      "application/vnd.jupyter.widget-view+json": {
       "model_id": "9f64128fe05f4ac190a1325311fa4bcc",
       "version_major": 2,
       "version_minor": 0
      },
      "text/plain": [
       "HBox(children=(FloatProgress(value=0.0, max=14112.0), HTML(value='')))"
      ]
     },
     "metadata": {},
     "output_type": "display_data"
    },
    {
     "name": "stderr",
     "output_type": "stream",
     "text": [
      "100%|██████████| 1/1 [00:00<00:00,  7.13it/s]"
     ]
    },
    {
     "name": "stdout",
     "output_type": "stream",
     "text": [
      "\n"
     ]
    },
    {
     "name": "stderr",
     "output_type": "stream",
     "text": [
      "\n"
     ]
    },
    {
     "name": "stdout",
     "output_type": "stream",
     "text": [
      "meshparty_segment_size = 100\n",
      "Time for 1st pass MP skeletonization: 0.4235413074493408\n",
      "branches_touching_root = [0]\n",
      "length of Graph = 1285\n",
      "After combining close endpoints max(kept_branches_idx) = 0, len(kept_branches_idx) = 1\n",
      "empty_indices % = 0.0\n",
      " conflict_indices % = 0.0\n"
     ]
    },
    {
     "data": {
      "application/vnd.jupyter.widget-view+json": {
       "model_id": "540f9df6cc8944b9b2b33691701e8b69",
       "version_major": 2,
       "version_minor": 0
      },
      "text/plain": [
       "HBox(children=(FloatProgress(value=1.0, bar_style='info', max=1.0), HTML(value='')))"
      ]
     },
     "metadata": {},
     "output_type": "display_data"
    },
    {
     "name": "stdout",
     "output_type": "stream",
     "text": [
      "\n",
      "AFTER face_lookup_resolved_test\n"
     ]
    },
    {
     "data": {
      "application/vnd.jupyter.widget-view+json": {
       "model_id": "a1d21969e65c4626a56bb3779592c166",
       "version_major": 2,
       "version_minor": 0
      },
      "text/plain": [
       "HBox(children=(FloatProgress(value=0.0, max=1.0), HTML(value='')))"
      ]
     },
     "metadata": {},
     "output_type": "display_data"
    },
    {
     "name": "stdout",
     "output_type": "stream",
     "text": [
      "\n",
      "Decomposing first pass: 1.4948134422302246\n",
      "Attempting to use MeshAfterParty Skeletonization and Mesh Correspondence\n",
      "Another print\n",
      "Divinding into MP and MAP pieces: 0.00018739700317382812\n",
      "Total time for MAP sublimb processing 3.337860107421875e-06\n",
      "---- Working on MP Decomposition #0 ----\n",
      "Using Quicker soma_to_piece_touching_vertices because no MAP and only one sublimb_mesh piece \n",
      "MP filtering soma verts: 7.104873657226562e-05\n",
      "Fixing Possible Soma Extension Branch for Sublimb 0\n",
      "Total time for mesh KDTree = 0.2447056770324707\n",
      "sbv[0].reshape(-1,3) = [[612288.3 662040.8 947726.2]]\n",
      "closest_sk_pt_coord BEFORE = [611804.34549495 662149.77227665 947388.5498449 ]\n",
      "current_skeleton.shape = (1284, 2, 3)\n",
      "node_for_stitch = 1284: [611804.34549495 662149.77227665 947388.5498449 ]\n",
      "node_for_stitch AFTER = 1284: [611804.34549495 662149.77227665 947388.5498449 ]\n",
      "possible_node_loc = [ 726 1284]\n",
      "possible_node_loc AFTER = [ 726 1284]\n",
      "curr_shortest_path = [1284]\n",
      "Current stitch point was a branch or endpoint\n",
      "change_status for create soma extending pieces = False\n",
      "closest_sk_pt_coord AFTER = [611804.34549495 662149.77227665 947388.5498449 ]\n",
      "skipping soma 0 because closest skeleton node was already end node\n",
      "endpoints_must_keep = {0: array([[611804.34549495, 662149.77227665, 947388.5498449 ]])}\n",
      "match_sk_branches = [0]\n",
      "The new branch info was none so skipping \n",
      "\n",
      "No soma extending branch was added for this sublimb even though it had a soma border (means they already existed)\n",
      "MP (because soma touching verts) soma extension add: 0.533393144607544\n",
      "There were not both MAP and MP pieces so skipping the stitch resolving phase\n",
      "Time for decomp of Limb = 2.5298807621002197\n",
      "Number of matching vertices = 18\n",
      "Only one endpoint after filtering away the endpoints that are not on the skeleton\n",
      "Using Distance measure skeletal_distance\n",
      "endpoints_must_keep = [[611804.34549495 662149.77227665 947388.5498449 ]]\n",
      "Number of end_nodes BEFORE filtering = 2\n",
      "all_single_nodes_to_eliminate = [1]\n",
      "no small end nodes to get rid of so returning whole skeleton\n",
      "Removed 0 skeletal branches\n"
     ]
    },
    {
     "data": {
      "application/vnd.jupyter.widget-view+json": {
       "model_id": "668f46a8d58d4b8c83b94e7b4bd5d88a",
       "version_major": 2,
       "version_minor": 0
      },
      "text/plain": [
       "HBox(children=(FloatProgress(value=0.0, max=1.0), HTML(value='')))"
      ]
     },
     "metadata": {},
     "output_type": "display_data"
    },
    {
     "name": "stdout",
     "output_type": "stream",
     "text": [
      "\n",
      "28102 28103\n",
      "For marked faces: None\n",
      "empty_indices % = 0.0\n",
      " conflict_indices % = 0.0\n"
     ]
    },
    {
     "data": {
      "application/vnd.jupyter.widget-view+json": {
       "model_id": "f795b757d00e4ce0a48453e262c0fbf2",
       "version_major": 2,
       "version_minor": 0
      },
      "text/plain": [
       "HBox(children=(FloatProgress(value=1.0, bar_style='info', max=1.0), HTML(value='')))"
      ]
     },
     "metadata": {},
     "output_type": "display_data"
    },
    {
     "name": "stdout",
     "output_type": "stream",
     "text": [
      "\n",
      "AFTER face_lookup_resolved_test\n"
     ]
    },
    {
     "data": {
      "application/vnd.jupyter.widget-view+json": {
       "model_id": "6fe7fccf356a471f95a43498ec8d7be3",
       "version_major": 2,
       "version_minor": 0
      },
      "text/plain": [
       "HBox(children=(FloatProgress(value=0.0, max=1.0), HTML(value='')))"
      ]
     },
     "metadata": {},
     "output_type": "display_data"
    },
    {
     "name": "stdout",
     "output_type": "stream",
     "text": [
      "\n",
      "Total time for Skeletonization and Mesh Correspondence = 3729.4347150325775\n",
      "\n",
      "\n",
      " ----- Working on Stitching ----------\n",
      "Status of Main limb stitch point moved = True\n",
      "Total time for stitching floating pieces = 37.96224498748779\n",
      "Total time for Concept Networks = 168.9348020553589\n",
      "Total time for all mesh and skeletonization decomp = 3936.332790851593\n",
      "No soma volume ratios so computing them now\n",
      "Using Poisson Surface Reconstruction for watertightness in soma_volume_ratio\n",
      "xvfb-run -n 4097 -s \"-screen 0 800x600x24\" meshlabserver $@  -i /notebooks/Auto_Proofreading/Decomposition_Optimization/Debug_4/Poisson_temp/neuron_468644.off -o /notebooks/Auto_Proofreading/Decomposition_Optimization/Debug_4/Poisson_temp/neuron_468644_poisson.off -s /notebooks/Auto_Proofreading/Decomposition_Optimization/Debug_4/Poisson_temp/poisson_439458.mls\n",
      "removed temporary input file: /notebooks/Auto_Proofreading/Decomposition_Optimization/Debug_4/Poisson_temp/neuron_468644.off\n",
      "removed temporary output file: /notebooks/Auto_Proofreading/Decomposition_Optimization/Debug_4/Poisson_temp/neuron_468644_poisson.off\n",
      "mesh.is_watertight = True\n",
      "/notebooks/Auto_Proofreading/Decomposition_Optimization/Debug_4/Poisson_temp/poisson_439458.mls is being deleted....\n",
      "Using Poisson Surface Reconstruction for watertightness in soma_volume_ratio\n",
      "xvfb-run -n 4097 -s \"-screen 0 800x600x24\" meshlabserver $@  -i /notebooks/Auto_Proofreading/Decomposition_Optimization/Debug_4/Poisson_temp/neuron_896044.off -o /notebooks/Auto_Proofreading/Decomposition_Optimization/Debug_4/Poisson_temp/neuron_896044_poisson.off -s /notebooks/Auto_Proofreading/Decomposition_Optimization/Debug_4/Poisson_temp/poisson_343152.mls\n",
      "removed temporary input file: /notebooks/Auto_Proofreading/Decomposition_Optimization/Debug_4/Poisson_temp/neuron_896044.off\n",
      "removed temporary output file: /notebooks/Auto_Proofreading/Decomposition_Optimization/Debug_4/Poisson_temp/neuron_896044_poisson.off\n",
      "mesh.is_watertight = True\n",
      "/notebooks/Auto_Proofreading/Decomposition_Optimization/Debug_4/Poisson_temp/poisson_343152.mls is being deleted....\n",
      "--- 1) Finished unpacking preprocessed materials: 4269.137022972107\n",
      "total_edges = [['S0', 'L0'], ['S0', 'L1'], ['S0', 'L2'], ['S0', 'L5'], ['S0', 'L6'], ['S0', 'L11'], ['S0', 'L12'], ['S0', 'L15'], ['S1', 'L0'], ['S1', 'L3'], ['S1', 'L4'], ['S1', 'L7'], ['S1', 'L8'], ['S1', 'L9'], ['S1', 'L10'], ['S1', 'L13'], ['S1', 'L14']]\n",
      "--- 2) Finished creating neuron connectivity graph: 0.00023293495178222656\n",
      "Having to generate soma_meshes_face_idx because none in preprocessed data\n",
      "--- 3a) Finshed generating soma_meshes_face_idx: 4.376088380813599\n",
      "Using precomputed volume ratio\n",
      "Using precomputed volume ratio\n",
      "--- 3) Finshed generating soma objects and adding them to concept graph: 0.24879932403564453\n",
      "--- 4a) Finshed generating curr_limb_meshes_face_idx: 23.444732189178467\n",
      "curr_limb_concept_networks= {1: [<networkx_utils.GraphOrderedEdges object at 0x7fee352a1e48>, <networkx_utils.GraphOrderedEdges object at 0x7febea6c8ba8>, <networkx_utils.GraphOrderedEdges object at 0x7feca4929518>], 0: [<networkx_utils.GraphOrderedEdges object at 0x7feca4929400>, <networkx_utils.GraphOrderedEdges object at 0x7feeb7db45c0>]}\n",
      "curr_limb_concept_networks= {0: [<networkx_utils.GraphOrderedEdges object at 0x7feb55010ba8>, <networkx_utils.GraphOrderedEdges object at 0x7feb56fe4a90>, <networkx_utils.GraphOrderedEdges object at 0x7fee352a1e80>]}\n",
      "curr_limb_concept_networks= {0: [<networkx_utils.GraphOrderedEdges object at 0x7febba405e10>, <networkx_utils.GraphOrderedEdges object at 0x7febba405208>]}\n",
      "curr_limb_concept_networks= {1: [<networkx_utils.GraphOrderedEdges object at 0x7feb4128d470>]}\n",
      "curr_limb_concept_networks= {1: [<networkx_utils.GraphOrderedEdges object at 0x7feb517cb3c8>]}\n",
      "curr_limb_concept_networks= {0: [<networkx_utils.GraphOrderedEdges object at 0x7feb517cbfd0>]}\n",
      "curr_limb_concept_networks= {0: [<networkx_utils.GraphOrderedEdges object at 0x7feb517cbcf8>, <networkx_utils.GraphOrderedEdges object at 0x7fedde3dc438>]}\n",
      "curr_limb_concept_networks= {1: [<networkx_utils.GraphOrderedEdges object at 0x7febba3cc5c0>]}\n",
      "curr_limb_concept_networks= {1: [<networkx_utils.GraphOrderedEdges object at 0x7febba3cc0f0>]}\n",
      "curr_limb_concept_networks= {1: [<networkx_utils.GraphOrderedEdges object at 0x7febba3cc278>]}\n",
      "curr_limb_concept_networks= {1: [<networkx_utils.GraphOrderedEdges object at 0x7febba3cc208>]}\n",
      "curr_limb_concept_networks= {0: [<networkx_utils.GraphOrderedEdges object at 0x7febba3ccc50>]}\n",
      "curr_limb_concept_networks= {0: [<networkx_utils.GraphOrderedEdges object at 0x7feca8c91898>]}\n",
      "Concept graph size was 1 or less so returning original\n",
      "curr_limb_concept_networks= {1: [<networkx_utils.GraphOrderedEdges object at 0x7febba3cc390>]}\n",
      "curr_limb_concept_networks= {1: [<networkx_utils.GraphOrderedEdges object at 0x7febea6c83c8>]}\n",
      "Concept graph size was 1 or less so returning original\n",
      "curr_limb_concept_networks= {0: [<networkx_utils.GraphOrderedEdges object at 0x7feb517cb780>]}\n",
      "Concept graph size was 1 or less so returning original\n",
      "--- 4) Finshed generating Limb objects and adding them to concept graph: 34.591041564941406\n",
      "--- 5) SKIPPING Doing the adaptive mesh correspondence on the meshparty preprocessing ---\n",
      "--- 6) SKIPPING Using the computed_attribute_dict to populate neuron attributes ---\n",
      "self.n_limbs = 16\n",
      "Total time for neuron instance creation = 4331.798525571823\n",
      "\n",
      "\n",
      "\n",
      "---- Total preprocessing time = 4331.801875591278\n"
     ]
    }
   ],
   "source": [
    "total_neuron_process_time = time.time()\n",
    "\n",
    "print(f\"\\n--- Beginning preprocessing of {segment_id}---\")\n",
    "recovered_neuron = neuron.Neuron(\n",
    "mesh = current_neuron_mesh,\n",
    "somas = somas,\n",
    "segment_id=segment_id,\n",
    "description=description,\n",
    "suppress_preprocessing_print=False,\n",
    "suppress_output=False,\n",
    "calculate_spines=False,\n",
    "glia_faces=glia_faces,\n",
    "nuclei_faces = nuclei_faces,\n",
    "widths_to_calculate=[],\n",
    "    \n",
    "\n",
    "        )\n",
    "\n",
    "print(f\"\\n\\n\\n---- Total preprocessing time = {time.time() - total_neuron_process_time}\")"
   ]
  },
  {
   "cell_type": "code",
   "execution_count": 12,
   "metadata": {},
   "outputs": [
    {
     "name": "stdout",
     "output_type": "stream",
     "text": [
      "Saving Neuorn in suppress_output mode...please wait\n",
      "Saved File at location: 864691135654122946_0_25\n"
     ]
    }
   ],
   "source": [
    "recovered_neuron.save_compressed_neuron(output_folder=\"./\",\n",
    "                                       export_mesh=True)"
   ]
  },
  {
   "cell_type": "code",
   "execution_count": 13,
   "metadata": {},
   "outputs": [
    {
     "name": "stdout",
     "output_type": "stream",
     "text": [
      "Decompressing Neuron in minimal output mode...please wait\n"
     ]
    }
   ],
   "source": [
    "neuron_obj = nru.decompress_neuron(\"./864691135654122946_0_25\",\n",
    "                                  \"./864691135654122946_0_25\")"
   ]
  },
  {
   "cell_type": "code",
   "execution_count": 21,
   "metadata": {},
   "outputs": [],
   "source": [
    "branch_obj = neuron_obj[0][0]"
   ]
  },
  {
   "cell_type": "code",
   "execution_count": 22,
   "metadata": {
    "scrolled": true
   },
   "outputs": [
    {
     "data": {
      "text/plain": [
       "[<trimesh.Trimesh(vertices.shape=(145, 3), faces.shape=(284, 3))>,\n",
       " <trimesh.Trimesh(vertices.shape=(134, 3), faces.shape=(263, 3))>,\n",
       " <trimesh.Trimesh(vertices.shape=(134, 3), faces.shape=(262, 3))>,\n",
       " <trimesh.Trimesh(vertices.shape=(113, 3), faces.shape=(221, 3))>,\n",
       " <trimesh.Trimesh(vertices.shape=(112, 3), faces.shape=(219, 3))>,\n",
       " <trimesh.Trimesh(vertices.shape=(107, 3), faces.shape=(209, 3))>,\n",
       " <trimesh.Trimesh(vertices.shape=(107, 3), faces.shape=(209, 3))>,\n",
       " <trimesh.Trimesh(vertices.shape=(107, 3), faces.shape=(208, 3))>,\n",
       " <trimesh.Trimesh(vertices.shape=(107, 3), faces.shape=(208, 3))>,\n",
       " <trimesh.Trimesh(vertices.shape=(106, 3), faces.shape=(207, 3))>,\n",
       " <trimesh.Trimesh(vertices.shape=(98, 3), faces.shape=(188, 3))>,\n",
       " <trimesh.Trimesh(vertices.shape=(94, 3), faces.shape=(182, 3))>,\n",
       " <trimesh.Trimesh(vertices.shape=(87, 3), faces.shape=(169, 3))>,\n",
       " <trimesh.Trimesh(vertices.shape=(84, 3), faces.shape=(163, 3))>,\n",
       " <trimesh.Trimesh(vertices.shape=(83, 3), faces.shape=(160, 3))>,\n",
       " <trimesh.Trimesh(vertices.shape=(82, 3), faces.shape=(159, 3))>,\n",
       " <trimesh.Trimesh(vertices.shape=(81, 3), faces.shape=(157, 3))>,\n",
       " <trimesh.Trimesh(vertices.shape=(79, 3), faces.shape=(153, 3))>,\n",
       " <trimesh.Trimesh(vertices.shape=(78, 3), faces.shape=(151, 3))>,\n",
       " <trimesh.Trimesh(vertices.shape=(76, 3), faces.shape=(147, 3))>,\n",
       " <trimesh.Trimesh(vertices.shape=(75, 3), faces.shape=(145, 3))>,\n",
       " <trimesh.Trimesh(vertices.shape=(75, 3), faces.shape=(145, 3))>,\n",
       " <trimesh.Trimesh(vertices.shape=(74, 3), faces.shape=(143, 3))>,\n",
       " <trimesh.Trimesh(vertices.shape=(74, 3), faces.shape=(142, 3))>,\n",
       " <trimesh.Trimesh(vertices.shape=(72, 3), faces.shape=(142, 3))>,\n",
       " <trimesh.Trimesh(vertices.shape=(73, 3), faces.shape=(141, 3))>,\n",
       " <trimesh.Trimesh(vertices.shape=(73, 3), faces.shape=(141, 3))>,\n",
       " <trimesh.Trimesh(vertices.shape=(71, 3), faces.shape=(137, 3))>,\n",
       " <trimesh.Trimesh(vertices.shape=(70, 3), faces.shape=(135, 3))>,\n",
       " <trimesh.Trimesh(vertices.shape=(69, 3), faces.shape=(133, 3))>,\n",
       " <trimesh.Trimesh(vertices.shape=(67, 3), faces.shape=(129, 3))>,\n",
       " <trimesh.Trimesh(vertices.shape=(66, 3), faces.shape=(126, 3))>,\n",
       " <trimesh.Trimesh(vertices.shape=(65, 3), faces.shape=(125, 3))>,\n",
       " <trimesh.Trimesh(vertices.shape=(64, 3), faces.shape=(123, 3))>,\n",
       " <trimesh.Trimesh(vertices.shape=(63, 3), faces.shape=(121, 3))>,\n",
       " <trimesh.Trimesh(vertices.shape=(62, 3), faces.shape=(119, 3))>,\n",
       " <trimesh.Trimesh(vertices.shape=(61, 3), faces.shape=(117, 3))>,\n",
       " <trimesh.Trimesh(vertices.shape=(61, 3), faces.shape=(117, 3))>,\n",
       " <trimesh.Trimesh(vertices.shape=(61, 3), faces.shape=(116, 3))>,\n",
       " <trimesh.Trimesh(vertices.shape=(60, 3), faces.shape=(115, 3))>,\n",
       " <trimesh.Trimesh(vertices.shape=(60, 3), faces.shape=(114, 3))>,\n",
       " <trimesh.Trimesh(vertices.shape=(59, 3), faces.shape=(113, 3))>,\n",
       " <trimesh.Trimesh(vertices.shape=(59, 3), faces.shape=(112, 3))>,\n",
       " <trimesh.Trimesh(vertices.shape=(57, 3), faces.shape=(109, 3))>,\n",
       " <trimesh.Trimesh(vertices.shape=(56, 3), faces.shape=(106, 3))>,\n",
       " <trimesh.Trimesh(vertices.shape=(54, 3), faces.shape=(103, 3))>,\n",
       " <trimesh.Trimesh(vertices.shape=(53, 3), faces.shape=(101, 3))>,\n",
       " <trimesh.Trimesh(vertices.shape=(53, 3), faces.shape=(100, 3))>,\n",
       " <trimesh.Trimesh(vertices.shape=(52, 3), faces.shape=(98, 3))>,\n",
       " <trimesh.Trimesh(vertices.shape=(48, 3), faces.shape=(91, 3))>,\n",
       " <trimesh.Trimesh(vertices.shape=(47, 3), faces.shape=(88, 3))>,\n",
       " <trimesh.Trimesh(vertices.shape=(43, 3), faces.shape=(81, 3))>,\n",
       " <trimesh.Trimesh(vertices.shape=(43, 3), faces.shape=(81, 3))>,\n",
       " <trimesh.Trimesh(vertices.shape=(42, 3), faces.shape=(78, 3))>,\n",
       " <trimesh.Trimesh(vertices.shape=(41, 3), faces.shape=(76, 3))>,\n",
       " <trimesh.Trimesh(vertices.shape=(40, 3), faces.shape=(75, 3))>,\n",
       " <trimesh.Trimesh(vertices.shape=(39, 3), faces.shape=(73, 3))>,\n",
       " <trimesh.Trimesh(vertices.shape=(38, 3), faces.shape=(70, 3))>,\n",
       " <trimesh.Trimesh(vertices.shape=(35, 3), faces.shape=(65, 3))>,\n",
       " <trimesh.Trimesh(vertices.shape=(32, 3), faces.shape=(59, 3))>,\n",
       " <trimesh.Trimesh(vertices.shape=(32, 3), faces.shape=(59, 3))>,\n",
       " <trimesh.Trimesh(vertices.shape=(30, 3), faces.shape=(55, 3))>,\n",
       " <trimesh.Trimesh(vertices.shape=(29, 3), faces.shape=(53, 3))>,\n",
       " <trimesh.Trimesh(vertices.shape=(25, 3), faces.shape=(45, 3))>,\n",
       " <trimesh.Trimesh(vertices.shape=(25, 3), faces.shape=(45, 3))>,\n",
       " <trimesh.Trimesh(vertices.shape=(25, 3), faces.shape=(45, 3))>,\n",
       " <trimesh.Trimesh(vertices.shape=(23, 3), faces.shape=(40, 3))>,\n",
       " <trimesh.Trimesh(vertices.shape=(22, 3), faces.shape=(38, 3))>,\n",
       " <trimesh.Trimesh(vertices.shape=(21, 3), faces.shape=(37, 3))>,\n",
       " <trimesh.Trimesh(vertices.shape=(20, 3), faces.shape=(35, 3))>,\n",
       " <trimesh.Trimesh(vertices.shape=(19, 3), faces.shape=(33, 3))>,\n",
       " <trimesh.Trimesh(vertices.shape=(19, 3), faces.shape=(33, 3))>,\n",
       " <trimesh.Trimesh(vertices.shape=(19, 3), faces.shape=(33, 3))>,\n",
       " <trimesh.Trimesh(vertices.shape=(19, 3), faces.shape=(32, 3))>,\n",
       " <trimesh.Trimesh(vertices.shape=(16, 3), faces.shape=(27, 3))>,\n",
       " <trimesh.Trimesh(vertices.shape=(16, 3), faces.shape=(27, 3))>,\n",
       " <trimesh.Trimesh(vertices.shape=(16, 3), faces.shape=(27, 3))>,\n",
       " <trimesh.Trimesh(vertices.shape=(17, 3), faces.shape=(26, 3))>,\n",
       " <trimesh.Trimesh(vertices.shape=(13, 3), faces.shape=(21, 3))>]"
      ]
     },
     "execution_count": 22,
     "metadata": {},
     "output_type": "execute_result"
    }
   ],
   "source": [
    "branch_obj.spines"
   ]
  },
  {
   "cell_type": "code",
   "execution_count": 29,
   "metadata": {},
   "outputs": [
    {
     "name": "stdout",
     "output_type": "stream",
     "text": [
      "segment_name before cgal = 0_0\n"
     ]
    },
    {
     "data": {
      "application/vnd.jupyter.widget-view+json": {
       "model_id": "e53ce92b1f2c41ff9102ef7d2ba63e02",
       "version_major": 2,
       "version_minor": 0
      },
      "text/plain": [
       "HBox(children=(FloatProgress(value=0.0, max=185.0), HTML(value='')))"
      ]
     },
     "metadata": {},
     "output_type": "display_data"
    },
    {
     "name": "stdout",
     "output_type": "stream",
     "text": [
      "\n"
     ]
    }
   ],
   "source": [
    "from pathlib import Path\n",
    "import spine_utils as spu\n",
    "spine_submesh_split= spu.get_spine_meshes_unfiltered(current_neuron = neuron_obj,\n",
    "                                                                limb_idx=0,\n",
    "                                                                branch_idx=0,\n",
    "                                                                clusters=3,\n",
    "                                                                smoothness=0.1,\n",
    "                                                                cgal_folder = Path(\"./cgal_temp\"),\n",
    "                                                                delete_temp_file=True,\n",
    "                                                                return_sdf=False,\n",
    "                                                                print_flag=False,\n",
    "                                                                shaft_threshold=300)"
   ]
  },
  {
   "cell_type": "code",
   "execution_count": 30,
   "metadata": {},
   "outputs": [
    {
     "data": {
      "application/vnd.jupyter.widget-view+json": {
       "model_id": "ebbfde3544d14baa9fe85ea004eb1ad8",
       "version_major": 2,
       "version_minor": 0
      },
      "text/plain": [
       "VBox(children=(Figure(camera=PerspectiveCamera(fov=46.0, position=(0.0, 0.0, 2.0), quaternion=(0.0, 0.0, 0.0, …"
      ]
     },
     "metadata": {},
     "output_type": "display_data"
    }
   ],
   "source": [
    "nviz.plot_objects(branch_obj.mesh,\n",
    "                 meshes=spine_submesh_split,\n",
    "                 meshes_colors=\"red\")"
   ]
  },
  {
   "cell_type": "code",
   "execution_count": 24,
   "metadata": {},
   "outputs": [
    {
     "data": {
      "application/vnd.jupyter.widget-view+json": {
       "model_id": "0eb1218e70dc478bbf0452ce16fc51f7",
       "version_major": 2,
       "version_minor": 0
      },
      "text/plain": [
       "VBox(children=(Figure(camera=PerspectiveCamera(fov=46.0, position=(0.0, 0.0, 2.0), quaternion=(0.0, 0.0, 0.0, …"
      ]
     },
     "metadata": {},
     "output_type": "display_data"
    }
   ],
   "source": [
    "nviz.plot_objects(branch_obj.mesh,\n",
    "                 meshes=branch_obj.spines,\n",
    "                 meshes_colors=\"red\")"
   ]
  },
  {
   "cell_type": "code",
   "execution_count": 32,
   "metadata": {},
   "outputs": [
    {
     "name": "stdout",
     "output_type": "stream",
     "text": [
      "query = median_mesh_center > 140 and n_faces_branch>100\n",
      "smoothness_threshold = 0.1\n",
      "The median_mesh_center was requested and HAS already been calculated\n",
      "functions_list = [<function median_mesh_center at 0x7fedd84227b8>, <function n_faces_branch at 0x7fedd8422378>]\n",
      "Saved object at /notebooks/Auto_Proofreading/Decomposition_Optimization/Debug_4/curr_branch_before_spines.pbz2\n",
      "File size is 2.725782 MB\n",
      "segment_name before cgal = L0_0\n"
     ]
    },
    {
     "data": {
      "application/vnd.jupyter.widget-view+json": {
       "model_id": "85d25679ef894ebe9f947df079c67ccc",
       "version_major": 2,
       "version_minor": 0
      },
      "text/plain": [
       "HBox(children=(FloatProgress(value=0.0, max=185.0), HTML(value='')))"
      ]
     },
     "metadata": {},
     "output_type": "display_data"
    },
    {
     "name": "stdout",
     "output_type": "stream",
     "text": [
      "\n",
      "Saved object at /notebooks/Auto_Proofreading/Decomposition_Optimization/Debug_4/curr_branch_before_spines.pbz2\n",
      "File size is 0.515959 MB\n",
      "segment_name before cgal = L0_2\n"
     ]
    },
    {
     "data": {
      "application/vnd.jupyter.widget-view+json": {
       "model_id": "979b738c6251408395fc8a1d6bbe4147",
       "version_major": 2,
       "version_minor": 0
      },
      "text/plain": [
       "HBox(children=(FloatProgress(value=0.0, max=47.0), HTML(value='')))"
      ]
     },
     "metadata": {},
     "output_type": "display_data"
    },
    {
     "name": "stdout",
     "output_type": "stream",
     "text": [
      "\n",
      "Saved object at /notebooks/Auto_Proofreading/Decomposition_Optimization/Debug_4/curr_branch_before_spines.pbz2\n",
      "File size is 1.78586 MB\n",
      "segment_name before cgal = L0_9\n"
     ]
    },
    {
     "data": {
      "application/vnd.jupyter.widget-view+json": {
       "model_id": "3d1e94d4c8b3466b8bcbe4a1f4e7f4c6",
       "version_major": 2,
       "version_minor": 0
      },
      "text/plain": [
       "HBox(children=(FloatProgress(value=0.0, max=123.0), HTML(value='')))"
      ]
     },
     "metadata": {},
     "output_type": "display_data"
    },
    {
     "name": "stdout",
     "output_type": "stream",
     "text": [
      "\n",
      "Saved object at /notebooks/Auto_Proofreading/Decomposition_Optimization/Debug_4/curr_branch_before_spines.pbz2\n",
      "File size is 0.869151 MB\n",
      "segment_name before cgal = L0_11\n"
     ]
    },
    {
     "data": {
      "application/vnd.jupyter.widget-view+json": {
       "model_id": "015497dfe7d34f7f955642707ef62a49",
       "version_major": 2,
       "version_minor": 0
      },
      "text/plain": [
       "HBox(children=(FloatProgress(value=0.0, max=53.0), HTML(value='')))"
      ]
     },
     "metadata": {},
     "output_type": "display_data"
    },
    {
     "name": "stdout",
     "output_type": "stream",
     "text": [
      "\n",
      "Saved object at /notebooks/Auto_Proofreading/Decomposition_Optimization/Debug_4/curr_branch_before_spines.pbz2\n",
      "File size is 1.886693 MB\n",
      "segment_name before cgal = L0_12\n"
     ]
    },
    {
     "data": {
      "application/vnd.jupyter.widget-view+json": {
       "model_id": "7ebe4dd5effb4b81a12350ef076076b9",
       "version_major": 2,
       "version_minor": 0
      },
      "text/plain": [
       "HBox(children=(FloatProgress(value=0.0, max=136.0), HTML(value='')))"
      ]
     },
     "metadata": {},
     "output_type": "display_data"
    },
    {
     "name": "stdout",
     "output_type": "stream",
     "text": [
      "\n",
      "Saved object at /notebooks/Auto_Proofreading/Decomposition_Optimization/Debug_4/curr_branch_before_spines.pbz2\n",
      "File size is 0.582459 MB\n",
      "segment_name before cgal = L0_13\n"
     ]
    },
    {
     "data": {
      "application/vnd.jupyter.widget-view+json": {
       "model_id": "49e68347307d4d60a9f6003e3805ffd8",
       "version_major": 2,
       "version_minor": 0
      },
      "text/plain": [
       "HBox(children=(FloatProgress(value=0.0, max=40.0), HTML(value='')))"
      ]
     },
     "metadata": {},
     "output_type": "display_data"
    },
    {
     "name": "stdout",
     "output_type": "stream",
     "text": [
      "\n",
      "Saved object at /notebooks/Auto_Proofreading/Decomposition_Optimization/Debug_4/curr_branch_before_spines.pbz2\n",
      "File size is 0.089489 MB\n",
      "segment_name before cgal = L0_24\n"
     ]
    },
    {
     "data": {
      "application/vnd.jupyter.widget-view+json": {
       "model_id": "e96c13fdd6434ac4bbb049aed3dac84f",
       "version_major": 2,
       "version_minor": 0
      },
      "text/plain": [
       "HBox(children=(FloatProgress(value=0.0, max=7.0), HTML(value='')))"
      ]
     },
     "metadata": {},
     "output_type": "display_data"
    },
    {
     "name": "stdout",
     "output_type": "stream",
     "text": [
      "\n",
      "Saved object at /notebooks/Auto_Proofreading/Decomposition_Optimization/Debug_4/curr_branch_before_spines.pbz2\n",
      "File size is 0.538848 MB\n",
      "segment_name before cgal = L0_38\n"
     ]
    },
    {
     "data": {
      "application/vnd.jupyter.widget-view+json": {
       "model_id": "c6a647be761f45628ad1099c5539081d",
       "version_major": 2,
       "version_minor": 0
      },
      "text/plain": [
       "HBox(children=(FloatProgress(value=0.0, max=40.0), HTML(value='')))"
      ]
     },
     "metadata": {},
     "output_type": "display_data"
    },
    {
     "name": "stdout",
     "output_type": "stream",
     "text": [
      "\n",
      "Saved object at /notebooks/Auto_Proofreading/Decomposition_Optimization/Debug_4/curr_branch_before_spines.pbz2\n",
      "File size is 0.707423 MB\n",
      "segment_name before cgal = L0_39\n"
     ]
    },
    {
     "data": {
      "application/vnd.jupyter.widget-view+json": {
       "model_id": "071d6e7ba62f4cbba289c84f98a23a68",
       "version_major": 2,
       "version_minor": 0
      },
      "text/plain": [
       "HBox(children=(FloatProgress(value=0.0, max=32.0), HTML(value='')))"
      ]
     },
     "metadata": {},
     "output_type": "display_data"
    },
    {
     "name": "stdout",
     "output_type": "stream",
     "text": [
      "\n",
      "Saved object at /notebooks/Auto_Proofreading/Decomposition_Optimization/Debug_4/curr_branch_before_spines.pbz2\n",
      "File size is 0.151344 MB\n",
      "segment_name before cgal = L0_41\n"
     ]
    },
    {
     "data": {
      "application/vnd.jupyter.widget-view+json": {
       "model_id": "2a6feb6c4bc147b0b630b94cd7b2702b",
       "version_major": 2,
       "version_minor": 0
      },
      "text/plain": [
       "HBox(children=(FloatProgress(value=0.0, max=12.0), HTML(value='')))"
      ]
     },
     "metadata": {},
     "output_type": "display_data"
    },
    {
     "name": "stdout",
     "output_type": "stream",
     "text": [
      "\n",
      "Saved object at /notebooks/Auto_Proofreading/Decomposition_Optimization/Debug_4/curr_branch_before_spines.pbz2\n",
      "File size is 0.087902 MB\n",
      "segment_name before cgal = L0_42\n"
     ]
    },
    {
     "data": {
      "application/vnd.jupyter.widget-view+json": {
       "model_id": "9c44101ca17245a98cf92402b9bb95b8",
       "version_major": 2,
       "version_minor": 0
      },
      "text/plain": [
       "HBox(children=(FloatProgress(value=0.0, max=7.0), HTML(value='')))"
      ]
     },
     "metadata": {},
     "output_type": "display_data"
    },
    {
     "name": "stdout",
     "output_type": "stream",
     "text": [
      "\n",
      "Saved object at /notebooks/Auto_Proofreading/Decomposition_Optimization/Debug_4/curr_branch_before_spines.pbz2\n",
      "File size is 0.510926 MB\n",
      "segment_name before cgal = L0_46\n"
     ]
    },
    {
     "data": {
      "application/vnd.jupyter.widget-view+json": {
       "model_id": "e174fad52f3f4280bdadf6ff7c82fd84",
       "version_major": 2,
       "version_minor": 0
      },
      "text/plain": [
       "HBox(children=(FloatProgress(value=0.0, max=40.0), HTML(value='')))"
      ]
     },
     "metadata": {},
     "output_type": "display_data"
    },
    {
     "name": "stdout",
     "output_type": "stream",
     "text": [
      "\n",
      "Saved object at /notebooks/Auto_Proofreading/Decomposition_Optimization/Debug_4/curr_branch_before_spines.pbz2\n",
      "File size is 2.270061 MB\n",
      "segment_name before cgal = L0_48\n"
     ]
    },
    {
     "data": {
      "application/vnd.jupyter.widget-view+json": {
       "model_id": "2a9040dce3b74532bc2aba520a5892be",
       "version_major": 2,
       "version_minor": 0
      },
      "text/plain": [
       "HBox(children=(FloatProgress(value=0.0, max=135.0), HTML(value='')))"
      ]
     },
     "metadata": {},
     "output_type": "display_data"
    },
    {
     "name": "stdout",
     "output_type": "stream",
     "text": [
      "\n",
      "Saved object at /notebooks/Auto_Proofreading/Decomposition_Optimization/Debug_4/curr_branch_before_spines.pbz2\n",
      "File size is 0.129372 MB\n",
      "segment_name before cgal = L0_49\n"
     ]
    },
    {
     "data": {
      "application/vnd.jupyter.widget-view+json": {
       "model_id": "e05533d2b814423da8f46ee2fb736188",
       "version_major": 2,
       "version_minor": 0
      },
      "text/plain": [
       "HBox(children=(FloatProgress(value=0.0, max=14.0), HTML(value='')))"
      ]
     },
     "metadata": {},
     "output_type": "display_data"
    },
    {
     "name": "stdout",
     "output_type": "stream",
     "text": [
      "\n",
      "Saved object at /notebooks/Auto_Proofreading/Decomposition_Optimization/Debug_4/curr_branch_before_spines.pbz2\n",
      "File size is 5.932772 MB\n",
      "segment_name before cgal = L0_50\n"
     ]
    },
    {
     "data": {
      "application/vnd.jupyter.widget-view+json": {
       "model_id": "5a34362edfd24b81bebb6cf1fea7f8b4",
       "version_major": 2,
       "version_minor": 0
      },
      "text/plain": [
       "HBox(children=(FloatProgress(value=0.0, max=336.0), HTML(value='')))"
      ]
     },
     "metadata": {},
     "output_type": "display_data"
    },
    {
     "name": "stdout",
     "output_type": "stream",
     "text": [
      "\n",
      "Saved object at /notebooks/Auto_Proofreading/Decomposition_Optimization/Debug_4/curr_branch_before_spines.pbz2\n",
      "File size is 0.816364 MB\n",
      "segment_name before cgal = L0_52\n"
     ]
    },
    {
     "data": {
      "application/vnd.jupyter.widget-view+json": {
       "model_id": "42e8caa812014a8c86a80ab6fadcfb87",
       "version_major": 2,
       "version_minor": 0
      },
      "text/plain": [
       "HBox(children=(FloatProgress(value=0.0, max=56.0), HTML(value='')))"
      ]
     },
     "metadata": {},
     "output_type": "display_data"
    },
    {
     "name": "stdout",
     "output_type": "stream",
     "text": [
      "\n",
      "Saved object at /notebooks/Auto_Proofreading/Decomposition_Optimization/Debug_4/curr_branch_before_spines.pbz2\n",
      "File size is 0.147024 MB\n",
      "segment_name before cgal = L0_54\n"
     ]
    },
    {
     "data": {
      "application/vnd.jupyter.widget-view+json": {
       "model_id": "b0a236445a314ad883d37f1fcfe06d07",
       "version_major": 2,
       "version_minor": 0
      },
      "text/plain": [
       "HBox(children=(FloatProgress(value=0.0, max=13.0), HTML(value='')))"
      ]
     },
     "metadata": {},
     "output_type": "display_data"
    },
    {
     "name": "stdout",
     "output_type": "stream",
     "text": [
      "\n",
      "Saved object at /notebooks/Auto_Proofreading/Decomposition_Optimization/Debug_4/curr_branch_before_spines.pbz2\n",
      "File size is 2.753795 MB\n",
      "segment_name before cgal = L0_65\n"
     ]
    },
    {
     "data": {
      "application/vnd.jupyter.widget-view+json": {
       "model_id": "a1c91edf0ea8416d88fae00427223d57",
       "version_major": 2,
       "version_minor": 0
      },
      "text/plain": [
       "HBox(children=(FloatProgress(value=0.0, max=99.0), HTML(value='')))"
      ]
     },
     "metadata": {},
     "output_type": "display_data"
    },
    {
     "name": "stdout",
     "output_type": "stream",
     "text": [
      "\n",
      "Saved object at /notebooks/Auto_Proofreading/Decomposition_Optimization/Debug_4/curr_branch_before_spines.pbz2\n",
      "File size is 0.249001 MB\n",
      "segment_name before cgal = L0_71\n"
     ]
    },
    {
     "data": {
      "application/vnd.jupyter.widget-view+json": {
       "model_id": "1a9b69e2b2624d92b3e2524ce5f4a897",
       "version_major": 2,
       "version_minor": 0
      },
      "text/plain": [
       "HBox(children=(FloatProgress(value=0.0, max=11.0), HTML(value='')))"
      ]
     },
     "metadata": {},
     "output_type": "display_data"
    },
    {
     "name": "stdout",
     "output_type": "stream",
     "text": [
      "\n",
      "Saved object at /notebooks/Auto_Proofreading/Decomposition_Optimization/Debug_4/curr_branch_before_spines.pbz2\n",
      "File size is 3.719533 MB\n",
      "segment_name before cgal = L0_72\n"
     ]
    },
    {
     "data": {
      "application/vnd.jupyter.widget-view+json": {
       "model_id": "b470f7fa14a84a15997e98086118a696",
       "version_major": 2,
       "version_minor": 0
      },
      "text/plain": [
       "HBox(children=(FloatProgress(value=0.0, max=220.0), HTML(value='')))"
      ]
     },
     "metadata": {},
     "output_type": "display_data"
    },
    {
     "name": "stdout",
     "output_type": "stream",
     "text": [
      "\n",
      "Saved object at /notebooks/Auto_Proofreading/Decomposition_Optimization/Debug_4/curr_branch_before_spines.pbz2\n",
      "File size is 0.16381 MB\n",
      "segment_name before cgal = L0_75\n"
     ]
    },
    {
     "data": {
      "application/vnd.jupyter.widget-view+json": {
       "model_id": "1e213ecc0eb743f08577d37aa5ca8a79",
       "version_major": 2,
       "version_minor": 0
      },
      "text/plain": [
       "HBox(children=(FloatProgress(value=0.0, max=19.0), HTML(value='')))"
      ]
     },
     "metadata": {},
     "output_type": "display_data"
    },
    {
     "name": "stdout",
     "output_type": "stream",
     "text": [
      "\n",
      "Saved object at /notebooks/Auto_Proofreading/Decomposition_Optimization/Debug_4/curr_branch_before_spines.pbz2\n",
      "File size is 0.149293 MB\n",
      "segment_name before cgal = L0_76\n"
     ]
    },
    {
     "data": {
      "application/vnd.jupyter.widget-view+json": {
       "model_id": "a98227132e6b416e992766d7a6dd008d",
       "version_major": 2,
       "version_minor": 0
      },
      "text/plain": [
       "HBox(children=(FloatProgress(value=0.0, max=7.0), HTML(value='')))"
      ]
     },
     "metadata": {},
     "output_type": "display_data"
    },
    {
     "name": "stdout",
     "output_type": "stream",
     "text": [
      "\n",
      "Saved object at /notebooks/Auto_Proofreading/Decomposition_Optimization/Debug_4/curr_branch_before_spines.pbz2\n",
      "File size is 0.066951 MB\n",
      "segment_name before cgal = L0_77\n"
     ]
    },
    {
     "data": {
      "application/vnd.jupyter.widget-view+json": {
       "model_id": "acfbf4f64cb04c1897432f328ba4e358",
       "version_major": 2,
       "version_minor": 0
      },
      "text/plain": [
       "HBox(children=(FloatProgress(value=0.0, max=9.0), HTML(value='')))"
      ]
     },
     "metadata": {},
     "output_type": "display_data"
    },
    {
     "name": "stdout",
     "output_type": "stream",
     "text": [
      "\n",
      "Saved object at /notebooks/Auto_Proofreading/Decomposition_Optimization/Debug_4/curr_branch_before_spines.pbz2\n",
      "File size is 0.599666 MB\n",
      "segment_name before cgal = L0_79\n"
     ]
    },
    {
     "data": {
      "application/vnd.jupyter.widget-view+json": {
       "model_id": "0bd6ad60bae04cce8d33df24120e4f12",
       "version_major": 2,
       "version_minor": 0
      },
      "text/plain": [
       "HBox(children=(FloatProgress(value=0.0, max=29.0), HTML(value='')))"
      ]
     },
     "metadata": {},
     "output_type": "display_data"
    },
    {
     "name": "stdout",
     "output_type": "stream",
     "text": [
      "\n",
      "Saved object at /notebooks/Auto_Proofreading/Decomposition_Optimization/Debug_4/curr_branch_before_spines.pbz2\n",
      "File size is 0.189855 MB\n",
      "segment_name before cgal = L0_83\n"
     ]
    },
    {
     "data": {
      "application/vnd.jupyter.widget-view+json": {
       "model_id": "0f563927e193463e90a2f22451e0c910",
       "version_major": 2,
       "version_minor": 0
      },
      "text/plain": [
       "HBox(children=(FloatProgress(value=0.0, max=21.0), HTML(value='')))"
      ]
     },
     "metadata": {},
     "output_type": "display_data"
    },
    {
     "name": "stdout",
     "output_type": "stream",
     "text": [
      "\n",
      "Saved object at /notebooks/Auto_Proofreading/Decomposition_Optimization/Debug_4/curr_branch_before_spines.pbz2\n",
      "File size is 1.198175 MB\n",
      "segment_name before cgal = L0_85\n"
     ]
    },
    {
     "data": {
      "application/vnd.jupyter.widget-view+json": {
       "model_id": "61111dd71b1c4162992553e98d0c12ca",
       "version_major": 2,
       "version_minor": 0
      },
      "text/plain": [
       "HBox(children=(FloatProgress(value=0.0, max=69.0), HTML(value='')))"
      ]
     },
     "metadata": {},
     "output_type": "display_data"
    },
    {
     "name": "stdout",
     "output_type": "stream",
     "text": [
      "\n",
      "Saved object at /notebooks/Auto_Proofreading/Decomposition_Optimization/Debug_4/curr_branch_before_spines.pbz2\n",
      "File size is 1.172114 MB\n",
      "segment_name before cgal = L0_86\n"
     ]
    },
    {
     "data": {
      "application/vnd.jupyter.widget-view+json": {
       "model_id": "341390fc2c1b4b80b877883560c3290a",
       "version_major": 2,
       "version_minor": 0
      },
      "text/plain": [
       "HBox(children=(FloatProgress(value=0.0, max=59.0), HTML(value='')))"
      ]
     },
     "metadata": {},
     "output_type": "display_data"
    },
    {
     "name": "stdout",
     "output_type": "stream",
     "text": [
      "\n",
      "Saved object at /notebooks/Auto_Proofreading/Decomposition_Optimization/Debug_4/curr_branch_before_spines.pbz2\n",
      "File size is 0.306771 MB\n",
      "segment_name before cgal = L0_88\n"
     ]
    },
    {
     "data": {
      "application/vnd.jupyter.widget-view+json": {
       "model_id": "0539234e6831494e9c32a7700250a33d",
       "version_major": 2,
       "version_minor": 0
      },
      "text/plain": [
       "HBox(children=(FloatProgress(value=0.0, max=19.0), HTML(value='')))"
      ]
     },
     "metadata": {},
     "output_type": "display_data"
    },
    {
     "name": "stdout",
     "output_type": "stream",
     "text": [
      "\n",
      "Saved object at /notebooks/Auto_Proofreading/Decomposition_Optimization/Debug_4/curr_branch_before_spines.pbz2\n",
      "File size is 0.225305 MB\n",
      "segment_name before cgal = L0_91\n"
     ]
    },
    {
     "data": {
      "application/vnd.jupyter.widget-view+json": {
       "model_id": "cafabcea2a6b449589e11516caee8247",
       "version_major": 2,
       "version_minor": 0
      },
      "text/plain": [
       "HBox(children=(FloatProgress(value=0.0, max=19.0), HTML(value='')))"
      ]
     },
     "metadata": {},
     "output_type": "display_data"
    },
    {
     "name": "stdout",
     "output_type": "stream",
     "text": [
      "\n",
      "Saved object at /notebooks/Auto_Proofreading/Decomposition_Optimization/Debug_4/curr_branch_before_spines.pbz2\n",
      "File size is 0.201193 MB\n",
      "segment_name before cgal = L0_92\n"
     ]
    },
    {
     "data": {
      "application/vnd.jupyter.widget-view+json": {
       "model_id": "78b829ae7d704eb5bf1db5a72e972817",
       "version_major": 2,
       "version_minor": 0
      },
      "text/plain": [
       "HBox(children=(FloatProgress(value=0.0, max=8.0), HTML(value='')))"
      ]
     },
     "metadata": {},
     "output_type": "display_data"
    },
    {
     "name": "stdout",
     "output_type": "stream",
     "text": [
      "\n",
      "Saved object at /notebooks/Auto_Proofreading/Decomposition_Optimization/Debug_4/curr_branch_before_spines.pbz2\n",
      "File size is 0.237546 MB\n",
      "segment_name before cgal = L0_93\n"
     ]
    },
    {
     "data": {
      "application/vnd.jupyter.widget-view+json": {
       "model_id": "259e9853b00c4bdbad2b7fce91ea8a13",
       "version_major": 2,
       "version_minor": 0
      },
      "text/plain": [
       "HBox(children=(FloatProgress(value=0.0, max=15.0), HTML(value='')))"
      ]
     },
     "metadata": {},
     "output_type": "display_data"
    },
    {
     "name": "stdout",
     "output_type": "stream",
     "text": [
      "\n",
      "Saved object at /notebooks/Auto_Proofreading/Decomposition_Optimization/Debug_4/curr_branch_before_spines.pbz2\n",
      "File size is 0.327085 MB\n",
      "segment_name before cgal = L0_96\n"
     ]
    },
    {
     "data": {
      "application/vnd.jupyter.widget-view+json": {
       "model_id": "166017075b9e44208d7e9256d652a09c",
       "version_major": 2,
       "version_minor": 0
      },
      "text/plain": [
       "HBox(children=(FloatProgress(value=0.0, max=20.0), HTML(value='')))"
      ]
     },
     "metadata": {},
     "output_type": "display_data"
    },
    {
     "name": "stdout",
     "output_type": "stream",
     "text": [
      "\n",
      "Saved object at /notebooks/Auto_Proofreading/Decomposition_Optimization/Debug_4/curr_branch_before_spines.pbz2\n",
      "File size is 0.167988 MB\n",
      "segment_name before cgal = L0_100\n"
     ]
    },
    {
     "data": {
      "application/vnd.jupyter.widget-view+json": {
       "model_id": "0e7c73987d6440b4bf6617188c234600",
       "version_major": 2,
       "version_minor": 0
      },
      "text/plain": [
       "HBox(children=(FloatProgress(value=0.0, max=8.0), HTML(value='')))"
      ]
     },
     "metadata": {},
     "output_type": "display_data"
    },
    {
     "name": "stdout",
     "output_type": "stream",
     "text": [
      "\n",
      "Saved object at /notebooks/Auto_Proofreading/Decomposition_Optimization/Debug_4/curr_branch_before_spines.pbz2\n",
      "File size is 0.201216 MB\n",
      "segment_name before cgal = L0_103\n"
     ]
    },
    {
     "data": {
      "application/vnd.jupyter.widget-view+json": {
       "model_id": "d278c8bb47464358bf4bada79673b285",
       "version_major": 2,
       "version_minor": 0
      },
      "text/plain": [
       "HBox(children=(FloatProgress(value=0.0, max=16.0), HTML(value='')))"
      ]
     },
     "metadata": {},
     "output_type": "display_data"
    },
    {
     "name": "stdout",
     "output_type": "stream",
     "text": [
      "\n",
      "Saved object at /notebooks/Auto_Proofreading/Decomposition_Optimization/Debug_4/curr_branch_before_spines.pbz2\n",
      "File size is 0.205629 MB\n",
      "segment_name before cgal = L0_104\n"
     ]
    },
    {
     "data": {
      "application/vnd.jupyter.widget-view+json": {
       "model_id": "c8f63c52889e4079be59989897726d1f",
       "version_major": 2,
       "version_minor": 0
      },
      "text/plain": [
       "HBox(children=(FloatProgress(value=0.0, max=5.0), HTML(value='')))"
      ]
     },
     "metadata": {},
     "output_type": "display_data"
    },
    {
     "name": "stdout",
     "output_type": "stream",
     "text": [
      "\n",
      "Saved object at /notebooks/Auto_Proofreading/Decomposition_Optimization/Debug_4/curr_branch_before_spines.pbz2\n",
      "File size is 0.578334 MB\n",
      "segment_name before cgal = L0_105\n"
     ]
    },
    {
     "data": {
      "application/vnd.jupyter.widget-view+json": {
       "model_id": "e390a217e37c4af696e504c48f8bf40e",
       "version_major": 2,
       "version_minor": 0
      },
      "text/plain": [
       "HBox(children=(FloatProgress(value=0.0, max=31.0), HTML(value='')))"
      ]
     },
     "metadata": {},
     "output_type": "display_data"
    },
    {
     "name": "stdout",
     "output_type": "stream",
     "text": [
      "\n",
      "Saved object at /notebooks/Auto_Proofreading/Decomposition_Optimization/Debug_4/curr_branch_before_spines.pbz2\n",
      "File size is 1.595914 MB\n",
      "segment_name before cgal = L0_108\n"
     ]
    },
    {
     "data": {
      "application/vnd.jupyter.widget-view+json": {
       "model_id": "d9127de6cf344d7b9e4bece83d41df91",
       "version_major": 2,
       "version_minor": 0
      },
      "text/plain": [
       "HBox(children=(FloatProgress(value=0.0, max=96.0), HTML(value='')))"
      ]
     },
     "metadata": {},
     "output_type": "display_data"
    },
    {
     "name": "stdout",
     "output_type": "stream",
     "text": [
      "\n",
      "Saved object at /notebooks/Auto_Proofreading/Decomposition_Optimization/Debug_4/curr_branch_before_spines.pbz2\n",
      "File size is 0.265366 MB\n",
      "segment_name before cgal = L0_109\n"
     ]
    },
    {
     "data": {
      "application/vnd.jupyter.widget-view+json": {
       "model_id": "3d675bba5a6c40cd99ebde55c0378adc",
       "version_major": 2,
       "version_minor": 0
      },
      "text/plain": [
       "HBox(children=(FloatProgress(value=0.0, max=22.0), HTML(value='')))"
      ]
     },
     "metadata": {},
     "output_type": "display_data"
    },
    {
     "name": "stdout",
     "output_type": "stream",
     "text": [
      "\n",
      "Saved object at /notebooks/Auto_Proofreading/Decomposition_Optimization/Debug_4/curr_branch_before_spines.pbz2\n",
      "File size is 1.423455 MB\n",
      "segment_name before cgal = L0_112\n"
     ]
    },
    {
     "data": {
      "application/vnd.jupyter.widget-view+json": {
       "model_id": "aafd531fd4d24c77b4149779f55be547",
       "version_major": 2,
       "version_minor": 0
      },
      "text/plain": [
       "HBox(children=(FloatProgress(value=0.0, max=85.0), HTML(value='')))"
      ]
     },
     "metadata": {},
     "output_type": "display_data"
    },
    {
     "name": "stdout",
     "output_type": "stream",
     "text": [
      "\n",
      "Saved object at /notebooks/Auto_Proofreading/Decomposition_Optimization/Debug_4/curr_branch_before_spines.pbz2\n",
      "File size is 1.136067 MB\n",
      "segment_name before cgal = L0_114\n"
     ]
    },
    {
     "data": {
      "application/vnd.jupyter.widget-view+json": {
       "model_id": "4ea51358f9904076a1033b1faac21362",
       "version_major": 2,
       "version_minor": 0
      },
      "text/plain": [
       "HBox(children=(FloatProgress(value=0.0, max=80.0), HTML(value='')))"
      ]
     },
     "metadata": {},
     "output_type": "display_data"
    },
    {
     "name": "stdout",
     "output_type": "stream",
     "text": [
      "\n",
      "Saved object at /notebooks/Auto_Proofreading/Decomposition_Optimization/Debug_4/curr_branch_before_spines.pbz2\n",
      "File size is 0.944108 MB\n",
      "segment_name before cgal = L0_115\n"
     ]
    },
    {
     "data": {
      "application/vnd.jupyter.widget-view+json": {
       "model_id": "15b4db96d31a4c3985e065b677e21731",
       "version_major": 2,
       "version_minor": 0
      },
      "text/plain": [
       "HBox(children=(FloatProgress(value=0.0, max=80.0), HTML(value='')))"
      ]
     },
     "metadata": {},
     "output_type": "display_data"
    },
    {
     "name": "stdout",
     "output_type": "stream",
     "text": [
      "\n",
      "Saved object at /notebooks/Auto_Proofreading/Decomposition_Optimization/Debug_4/curr_branch_before_spines.pbz2\n",
      "File size is 0.148162 MB\n",
      "segment_name before cgal = L0_118\n"
     ]
    },
    {
     "data": {
      "application/vnd.jupyter.widget-view+json": {
       "model_id": "0e60e66b77e04b87b10608fcce5b6716",
       "version_major": 2,
       "version_minor": 0
      },
      "text/plain": [
       "HBox(children=(FloatProgress(value=0.0, max=13.0), HTML(value='')))"
      ]
     },
     "metadata": {},
     "output_type": "display_data"
    },
    {
     "name": "stdout",
     "output_type": "stream",
     "text": [
      "\n",
      "Saved object at /notebooks/Auto_Proofreading/Decomposition_Optimization/Debug_4/curr_branch_before_spines.pbz2\n",
      "File size is 0.47494 MB\n",
      "segment_name before cgal = L0_120\n"
     ]
    },
    {
     "data": {
      "application/vnd.jupyter.widget-view+json": {
       "model_id": "5b79e9dfafa8463f91f78418fd8130d1",
       "version_major": 2,
       "version_minor": 0
      },
      "text/plain": [
       "HBox(children=(FloatProgress(value=0.0, max=24.0), HTML(value='')))"
      ]
     },
     "metadata": {},
     "output_type": "display_data"
    },
    {
     "name": "stdout",
     "output_type": "stream",
     "text": [
      "\n",
      "Saved object at /notebooks/Auto_Proofreading/Decomposition_Optimization/Debug_4/curr_branch_before_spines.pbz2\n",
      "File size is 0.404603 MB\n",
      "segment_name before cgal = L0_122\n"
     ]
    },
    {
     "data": {
      "application/vnd.jupyter.widget-view+json": {
       "model_id": "d83e1e52cc3c46b1b71fe51ccb456c46",
       "version_major": 2,
       "version_minor": 0
      },
      "text/plain": [
       "HBox(children=(FloatProgress(value=0.0, max=18.0), HTML(value='')))"
      ]
     },
     "metadata": {},
     "output_type": "display_data"
    },
    {
     "name": "stdout",
     "output_type": "stream",
     "text": [
      "\n",
      "Saved object at /notebooks/Auto_Proofreading/Decomposition_Optimization/Debug_4/curr_branch_before_spines.pbz2\n",
      "File size is 0.163668 MB\n",
      "segment_name before cgal = L0_128\n"
     ]
    },
    {
     "data": {
      "application/vnd.jupyter.widget-view+json": {
       "model_id": "3fd7f805b8d5442f82fd98c7177cfe28",
       "version_major": 2,
       "version_minor": 0
      },
      "text/plain": [
       "HBox(children=(FloatProgress(value=0.0, max=10.0), HTML(value='')))"
      ]
     },
     "metadata": {},
     "output_type": "display_data"
    },
    {
     "name": "stdout",
     "output_type": "stream",
     "text": [
      "\n",
      "Saved object at /notebooks/Auto_Proofreading/Decomposition_Optimization/Debug_4/curr_branch_before_spines.pbz2\n",
      "File size is 0.081338 MB\n",
      "segment_name before cgal = L0_131\n"
     ]
    },
    {
     "data": {
      "application/vnd.jupyter.widget-view+json": {
       "model_id": "77b3995026f44ac7a0f2fe4c8295581a",
       "version_major": 2,
       "version_minor": 0
      },
      "text/plain": [
       "HBox(children=(FloatProgress(value=0.0, max=8.0), HTML(value='')))"
      ]
     },
     "metadata": {},
     "output_type": "display_data"
    },
    {
     "name": "stdout",
     "output_type": "stream",
     "text": [
      "\n",
      "Saved object at /notebooks/Auto_Proofreading/Decomposition_Optimization/Debug_4/curr_branch_before_spines.pbz2\n",
      "File size is 0.335177 MB\n",
      "segment_name before cgal = L0_137\n"
     ]
    },
    {
     "data": {
      "application/vnd.jupyter.widget-view+json": {
       "model_id": "6b5592ea77584d54b5ab700b45c37dd3",
       "version_major": 2,
       "version_minor": 0
      },
      "text/plain": [
       "HBox(children=(FloatProgress(value=0.0, max=14.0), HTML(value='')))"
      ]
     },
     "metadata": {},
     "output_type": "display_data"
    },
    {
     "name": "stdout",
     "output_type": "stream",
     "text": [
      "\n",
      "Saved object at /notebooks/Auto_Proofreading/Decomposition_Optimization/Debug_4/curr_branch_before_spines.pbz2\n",
      "File size is 0.226039 MB\n",
      "segment_name before cgal = L0_140\n"
     ]
    },
    {
     "data": {
      "application/vnd.jupyter.widget-view+json": {
       "model_id": "dbc2666885324aa9856afddf1a131862",
       "version_major": 2,
       "version_minor": 0
      },
      "text/plain": [
       "HBox(children=(FloatProgress(value=0.0, max=11.0), HTML(value='')))"
      ]
     },
     "metadata": {},
     "output_type": "display_data"
    },
    {
     "name": "stdout",
     "output_type": "stream",
     "text": [
      "\n",
      "Saved object at /notebooks/Auto_Proofreading/Decomposition_Optimization/Debug_4/curr_branch_before_spines.pbz2\n",
      "File size is 0.207598 MB\n",
      "segment_name before cgal = L0_142\n"
     ]
    },
    {
     "data": {
      "application/vnd.jupyter.widget-view+json": {
       "model_id": "9205abd607e24714b6f3d122571459c5",
       "version_major": 2,
       "version_minor": 0
      },
      "text/plain": [
       "HBox(children=(FloatProgress(value=0.0, max=12.0), HTML(value='')))"
      ]
     },
     "metadata": {},
     "output_type": "display_data"
    },
    {
     "name": "stdout",
     "output_type": "stream",
     "text": [
      "\n",
      "Saved object at /notebooks/Auto_Proofreading/Decomposition_Optimization/Debug_4/curr_branch_before_spines.pbz2\n",
      "File size is 0.144055 MB\n",
      "segment_name before cgal = L0_146\n"
     ]
    },
    {
     "data": {
      "application/vnd.jupyter.widget-view+json": {
       "model_id": "474d721d1ef949ef9bec1f9c334837d2",
       "version_major": 2,
       "version_minor": 0
      },
      "text/plain": [
       "HBox(children=(FloatProgress(value=0.0, max=14.0), HTML(value='')))"
      ]
     },
     "metadata": {},
     "output_type": "display_data"
    },
    {
     "name": "stdout",
     "output_type": "stream",
     "text": [
      "\n",
      "Saved object at /notebooks/Auto_Proofreading/Decomposition_Optimization/Debug_4/curr_branch_before_spines.pbz2\n",
      "File size is 0.610817 MB\n",
      "segment_name before cgal = L0_147\n"
     ]
    },
    {
     "data": {
      "application/vnd.jupyter.widget-view+json": {
       "model_id": "57c6d8169f6a42c4ae5572fdd6215ea5",
       "version_major": 2,
       "version_minor": 0
      },
      "text/plain": [
       "HBox(children=(FloatProgress(value=0.0, max=21.0), HTML(value='')))"
      ]
     },
     "metadata": {},
     "output_type": "display_data"
    },
    {
     "name": "stdout",
     "output_type": "stream",
     "text": [
      "\n",
      "Saved object at /notebooks/Auto_Proofreading/Decomposition_Optimization/Debug_4/curr_branch_before_spines.pbz2\n",
      "File size is 0.414061 MB\n",
      "segment_name before cgal = L0_148\n"
     ]
    },
    {
     "data": {
      "application/vnd.jupyter.widget-view+json": {
       "model_id": "effbc91b073c49a38a62d7e410d9f241",
       "version_major": 2,
       "version_minor": 0
      },
      "text/plain": [
       "HBox(children=(FloatProgress(value=0.0, max=24.0), HTML(value='')))"
      ]
     },
     "metadata": {},
     "output_type": "display_data"
    },
    {
     "name": "stdout",
     "output_type": "stream",
     "text": [
      "\n",
      "Saved object at /notebooks/Auto_Proofreading/Decomposition_Optimization/Debug_4/curr_branch_before_spines.pbz2\n",
      "File size is 0.137099 MB\n",
      "segment_name before cgal = L0_153\n"
     ]
    },
    {
     "data": {
      "application/vnd.jupyter.widget-view+json": {
       "model_id": "12b0aaadff0844918b46794bff16100c",
       "version_major": 2,
       "version_minor": 0
      },
      "text/plain": [
       "HBox(children=(FloatProgress(value=0.0, max=8.0), HTML(value='')))"
      ]
     },
     "metadata": {},
     "output_type": "display_data"
    },
    {
     "name": "stdout",
     "output_type": "stream",
     "text": [
      "\n",
      "Saved object at /notebooks/Auto_Proofreading/Decomposition_Optimization/Debug_4/curr_branch_before_spines.pbz2\n",
      "File size is 0.306143 MB\n",
      "segment_name before cgal = L0_154\n"
     ]
    },
    {
     "data": {
      "application/vnd.jupyter.widget-view+json": {
       "model_id": "c2a697bc524245a7a6884c31b915fdcf",
       "version_major": 2,
       "version_minor": 0
      },
      "text/plain": [
       "HBox(children=(FloatProgress(value=0.0, max=14.0), HTML(value='')))"
      ]
     },
     "metadata": {},
     "output_type": "display_data"
    },
    {
     "name": "stdout",
     "output_type": "stream",
     "text": [
      "\n",
      "Saved object at /notebooks/Auto_Proofreading/Decomposition_Optimization/Debug_4/curr_branch_before_spines.pbz2\n",
      "File size is 0.159982 MB\n",
      "segment_name before cgal = L0_155\n"
     ]
    },
    {
     "data": {
      "application/vnd.jupyter.widget-view+json": {
       "model_id": "3455f7c86078436f98aa7e6eca0cd86d",
       "version_major": 2,
       "version_minor": 0
      },
      "text/plain": [
       "HBox(children=(FloatProgress(value=0.0, max=20.0), HTML(value='')))"
      ]
     },
     "metadata": {},
     "output_type": "display_data"
    },
    {
     "name": "stdout",
     "output_type": "stream",
     "text": [
      "\n",
      "Saved object at /notebooks/Auto_Proofreading/Decomposition_Optimization/Debug_4/curr_branch_before_spines.pbz2\n",
      "File size is 0.409339 MB\n",
      "segment_name before cgal = L0_168\n"
     ]
    },
    {
     "data": {
      "application/vnd.jupyter.widget-view+json": {
       "model_id": "26c4ccd8de064fe9936890dcc964e06d",
       "version_major": 2,
       "version_minor": 0
      },
      "text/plain": [
       "HBox(children=(FloatProgress(value=0.0, max=23.0), HTML(value='')))"
      ]
     },
     "metadata": {},
     "output_type": "display_data"
    },
    {
     "name": "stdout",
     "output_type": "stream",
     "text": [
      "\n",
      "Saved object at /notebooks/Auto_Proofreading/Decomposition_Optimization/Debug_4/curr_branch_before_spines.pbz2\n",
      "File size is 0.734099 MB\n",
      "segment_name before cgal = L0_171\n"
     ]
    },
    {
     "data": {
      "application/vnd.jupyter.widget-view+json": {
       "model_id": "3ccabcf36f99477babcf695c904c3eb3",
       "version_major": 2,
       "version_minor": 0
      },
      "text/plain": [
       "HBox(children=(FloatProgress(value=0.0, max=26.0), HTML(value='')))"
      ]
     },
     "metadata": {},
     "output_type": "display_data"
    },
    {
     "name": "stdout",
     "output_type": "stream",
     "text": [
      "\n",
      "Saved object at /notebooks/Auto_Proofreading/Decomposition_Optimization/Debug_4/curr_branch_before_spines.pbz2\n",
      "File size is 0.041044 MB\n",
      "segment_name before cgal = L0_181\n"
     ]
    },
    {
     "data": {
      "application/vnd.jupyter.widget-view+json": {
       "model_id": "952b8a249c624c6e9aa4eeb1588affa8",
       "version_major": 2,
       "version_minor": 0
      },
      "text/plain": [
       "HBox(children=(FloatProgress(value=0.0, max=4.0), HTML(value='')))"
      ]
     },
     "metadata": {},
     "output_type": "display_data"
    },
    {
     "name": "stdout",
     "output_type": "stream",
     "text": [
      "\n",
      "Saved object at /notebooks/Auto_Proofreading/Decomposition_Optimization/Debug_4/curr_branch_before_spines.pbz2\n",
      "File size is 0.446567 MB\n",
      "segment_name before cgal = L0_182\n"
     ]
    },
    {
     "data": {
      "application/vnd.jupyter.widget-view+json": {
       "model_id": "ee86cb67ecff4e61ad3a3af40bc98e46",
       "version_major": 2,
       "version_minor": 0
      },
      "text/plain": [
       "HBox(children=(FloatProgress(value=0.0, max=21.0), HTML(value='')))"
      ]
     },
     "metadata": {},
     "output_type": "display_data"
    },
    {
     "name": "stdout",
     "output_type": "stream",
     "text": [
      "\n",
      "Saved object at /notebooks/Auto_Proofreading/Decomposition_Optimization/Debug_4/curr_branch_before_spines.pbz2\n",
      "File size is 0.317294 MB\n",
      "segment_name before cgal = L0_186\n"
     ]
    },
    {
     "data": {
      "application/vnd.jupyter.widget-view+json": {
       "model_id": "fd193ba3e6e74cb591cb6bc942de9ca4",
       "version_major": 2,
       "version_minor": 0
      },
      "text/plain": [
       "HBox(children=(FloatProgress(value=0.0, max=12.0), HTML(value='')))"
      ]
     },
     "metadata": {},
     "output_type": "display_data"
    },
    {
     "name": "stdout",
     "output_type": "stream",
     "text": [
      "\n",
      "Saved object at /notebooks/Auto_Proofreading/Decomposition_Optimization/Debug_4/curr_branch_before_spines.pbz2\n",
      "File size is 0.141841 MB\n",
      "segment_name before cgal = L0_192\n"
     ]
    },
    {
     "data": {
      "application/vnd.jupyter.widget-view+json": {
       "model_id": "4925c0b0fadd4651a2ab07d37815bd97",
       "version_major": 2,
       "version_minor": 0
      },
      "text/plain": [
       "HBox(children=(FloatProgress(value=0.0, max=6.0), HTML(value='')))"
      ]
     },
     "metadata": {},
     "output_type": "display_data"
    },
    {
     "name": "stdout",
     "output_type": "stream",
     "text": [
      "\n",
      "Saved object at /notebooks/Auto_Proofreading/Decomposition_Optimization/Debug_4/curr_branch_before_spines.pbz2\n",
      "File size is 0.361698 MB\n",
      "segment_name before cgal = L0_193\n"
     ]
    },
    {
     "data": {
      "application/vnd.jupyter.widget-view+json": {
       "model_id": "a1b5195fee004e74bf3f122fa4498739",
       "version_major": 2,
       "version_minor": 0
      },
      "text/plain": [
       "HBox(children=(FloatProgress(value=0.0, max=16.0), HTML(value='')))"
      ]
     },
     "metadata": {},
     "output_type": "display_data"
    },
    {
     "name": "stdout",
     "output_type": "stream",
     "text": [
      "\n",
      "Saved object at /notebooks/Auto_Proofreading/Decomposition_Optimization/Debug_4/curr_branch_before_spines.pbz2\n",
      "File size is 0.230916 MB\n",
      "segment_name before cgal = L0_199\n"
     ]
    },
    {
     "data": {
      "application/vnd.jupyter.widget-view+json": {
       "model_id": "a804ad8b58ef448095684c851a71845c",
       "version_major": 2,
       "version_minor": 0
      },
      "text/plain": [
       "HBox(children=(FloatProgress(value=0.0, max=14.0), HTML(value='')))"
      ]
     },
     "metadata": {},
     "output_type": "display_data"
    },
    {
     "name": "stdout",
     "output_type": "stream",
     "text": [
      "\n",
      "Saved object at /notebooks/Auto_Proofreading/Decomposition_Optimization/Debug_4/curr_branch_before_spines.pbz2\n",
      "File size is 0.369861 MB\n",
      "segment_name before cgal = L0_203\n"
     ]
    },
    {
     "data": {
      "application/vnd.jupyter.widget-view+json": {
       "model_id": "637cd31b4ce045b9a0e102df1708dd16",
       "version_major": 2,
       "version_minor": 0
      },
      "text/plain": [
       "HBox(children=(FloatProgress(value=0.0, max=13.0), HTML(value='')))"
      ]
     },
     "metadata": {},
     "output_type": "display_data"
    },
    {
     "name": "stdout",
     "output_type": "stream",
     "text": [
      "\n",
      "Saved object at /notebooks/Auto_Proofreading/Decomposition_Optimization/Debug_4/curr_branch_before_spines.pbz2\n",
      "File size is 0.066595 MB\n",
      "segment_name before cgal = L0_204\n"
     ]
    },
    {
     "data": {
      "application/vnd.jupyter.widget-view+json": {
       "model_id": "f3bc122935f64a70a96c33cd4ca1791a",
       "version_major": 2,
       "version_minor": 0
      },
      "text/plain": [
       "HBox(children=(FloatProgress(value=0.0, max=4.0), HTML(value='')))"
      ]
     },
     "metadata": {},
     "output_type": "display_data"
    },
    {
     "name": "stdout",
     "output_type": "stream",
     "text": [
      "\n",
      "Saved object at /notebooks/Auto_Proofreading/Decomposition_Optimization/Debug_4/curr_branch_before_spines.pbz2\n",
      "File size is 0.128311 MB\n",
      "segment_name before cgal = L0_206\n"
     ]
    },
    {
     "data": {
      "application/vnd.jupyter.widget-view+json": {
       "model_id": "0d6547cf1972489f8595c0e76d37b870",
       "version_major": 2,
       "version_minor": 0
      },
      "text/plain": [
       "HBox(children=(FloatProgress(value=0.0, max=9.0), HTML(value='')))"
      ]
     },
     "metadata": {},
     "output_type": "display_data"
    },
    {
     "name": "stdout",
     "output_type": "stream",
     "text": [
      "\n",
      "Saved object at /notebooks/Auto_Proofreading/Decomposition_Optimization/Debug_4/curr_branch_before_spines.pbz2\n",
      "File size is 0.175231 MB\n",
      "segment_name before cgal = L0_207\n"
     ]
    },
    {
     "data": {
      "application/vnd.jupyter.widget-view+json": {
       "model_id": "773aa32b1ab44790b61710f58b2bc77a",
       "version_major": 2,
       "version_minor": 0
      },
      "text/plain": [
       "HBox(children=(FloatProgress(value=0.0, max=14.0), HTML(value='')))"
      ]
     },
     "metadata": {},
     "output_type": "display_data"
    },
    {
     "name": "stdout",
     "output_type": "stream",
     "text": [
      "\n",
      "Saved object at /notebooks/Auto_Proofreading/Decomposition_Optimization/Debug_4/curr_branch_before_spines.pbz2\n",
      "File size is 0.175065 MB\n",
      "segment_name before cgal = L0_209\n"
     ]
    },
    {
     "data": {
      "application/vnd.jupyter.widget-view+json": {
       "model_id": "c1c4caffaf214f0bbe434f16de352ae8",
       "version_major": 2,
       "version_minor": 0
      },
      "text/plain": [
       "HBox(children=(FloatProgress(value=0.0, max=17.0), HTML(value='')))"
      ]
     },
     "metadata": {},
     "output_type": "display_data"
    },
    {
     "name": "stdout",
     "output_type": "stream",
     "text": [
      "\n",
      "Saved object at /notebooks/Auto_Proofreading/Decomposition_Optimization/Debug_4/curr_branch_before_spines.pbz2\n",
      "File size is 0.302602 MB\n",
      "segment_name before cgal = L0_216\n"
     ]
    },
    {
     "data": {
      "application/vnd.jupyter.widget-view+json": {
       "model_id": "cb72ec5320b8414ba493c70e7ebce110",
       "version_major": 2,
       "version_minor": 0
      },
      "text/plain": [
       "HBox(children=(FloatProgress(value=0.0, max=13.0), HTML(value='')))"
      ]
     },
     "metadata": {},
     "output_type": "display_data"
    },
    {
     "name": "stdout",
     "output_type": "stream",
     "text": [
      "\n",
      "Saved object at /notebooks/Auto_Proofreading/Decomposition_Optimization/Debug_4/curr_branch_before_spines.pbz2\n",
      "File size is 0.101989 MB\n",
      "segment_name before cgal = L0_223\n"
     ]
    },
    {
     "data": {
      "application/vnd.jupyter.widget-view+json": {
       "model_id": "cbc209bd697c4890b345f6d9bc0ee0ae",
       "version_major": 2,
       "version_minor": 0
      },
      "text/plain": [
       "HBox(children=(FloatProgress(value=0.0, max=11.0), HTML(value='')))"
      ]
     },
     "metadata": {},
     "output_type": "display_data"
    },
    {
     "name": "stdout",
     "output_type": "stream",
     "text": [
      "\n",
      "Saved object at /notebooks/Auto_Proofreading/Decomposition_Optimization/Debug_4/curr_branch_before_spines.pbz2\n",
      "File size is 0.021103 MB\n",
      "segment_name before cgal = L0_226\n"
     ]
    },
    {
     "data": {
      "application/vnd.jupyter.widget-view+json": {
       "model_id": "c6be89a0e40c4d22b9276213ba068523",
       "version_major": 2,
       "version_minor": 0
      },
      "text/plain": [
       "HBox(children=(FloatProgress(value=0.0, max=4.0), HTML(value='')))"
      ]
     },
     "metadata": {},
     "output_type": "display_data"
    },
    {
     "name": "stdout",
     "output_type": "stream",
     "text": [
      "\n",
      "Saved object at /notebooks/Auto_Proofreading/Decomposition_Optimization/Debug_4/curr_branch_before_spines.pbz2\n",
      "File size is 0.107376 MB\n",
      "segment_name before cgal = L0_235\n"
     ]
    },
    {
     "data": {
      "application/vnd.jupyter.widget-view+json": {
       "model_id": "82d5eeb8836d49678d9d93cc162838cb",
       "version_major": 2,
       "version_minor": 0
      },
      "text/plain": [
       "HBox(children=(FloatProgress(value=0.0, max=6.0), HTML(value='')))"
      ]
     },
     "metadata": {},
     "output_type": "display_data"
    },
    {
     "name": "stdout",
     "output_type": "stream",
     "text": [
      "\n",
      "Saved object at /notebooks/Auto_Proofreading/Decomposition_Optimization/Debug_4/curr_branch_before_spines.pbz2\n",
      "File size is 0.322053 MB\n",
      "segment_name before cgal = L0_244\n"
     ]
    },
    {
     "data": {
      "application/vnd.jupyter.widget-view+json": {
       "model_id": "aa004563b3db48beac48aae9876bd15d",
       "version_major": 2,
       "version_minor": 0
      },
      "text/plain": [
       "HBox(children=(FloatProgress(value=0.0, max=16.0), HTML(value='')))"
      ]
     },
     "metadata": {},
     "output_type": "display_data"
    },
    {
     "name": "stdout",
     "output_type": "stream",
     "text": [
      "\n",
      "Saved object at /notebooks/Auto_Proofreading/Decomposition_Optimization/Debug_4/curr_branch_before_spines.pbz2\n",
      "File size is 0.234179 MB\n",
      "segment_name before cgal = L0_245\n"
     ]
    },
    {
     "data": {
      "application/vnd.jupyter.widget-view+json": {
       "model_id": "6a1d3a61ee1343fa98b9c4fdadbfb291",
       "version_major": 2,
       "version_minor": 0
      },
      "text/plain": [
       "HBox(children=(FloatProgress(value=0.0, max=24.0), HTML(value='')))"
      ]
     },
     "metadata": {},
     "output_type": "display_data"
    },
    {
     "name": "stdout",
     "output_type": "stream",
     "text": [
      "\n",
      "Saved object at /notebooks/Auto_Proofreading/Decomposition_Optimization/Debug_4/curr_branch_before_spines.pbz2\n",
      "File size is 0.480279 MB\n",
      "segment_name before cgal = L0_255\n"
     ]
    },
    {
     "data": {
      "application/vnd.jupyter.widget-view+json": {
       "model_id": "8edc96fcf5934111866413173d00594f",
       "version_major": 2,
       "version_minor": 0
      },
      "text/plain": [
       "HBox(children=(FloatProgress(value=0.0, max=26.0), HTML(value='')))"
      ]
     },
     "metadata": {},
     "output_type": "display_data"
    },
    {
     "name": "stdout",
     "output_type": "stream",
     "text": [
      "\n",
      "Saved object at /notebooks/Auto_Proofreading/Decomposition_Optimization/Debug_4/curr_branch_before_spines.pbz2\n",
      "File size is 0.824728 MB\n",
      "segment_name before cgal = L0_258\n"
     ]
    },
    {
     "data": {
      "application/vnd.jupyter.widget-view+json": {
       "model_id": "6bd9a8c47cf5485590328151c0fc34f0",
       "version_major": 2,
       "version_minor": 0
      },
      "text/plain": [
       "HBox(children=(FloatProgress(value=0.0, max=25.0), HTML(value='')))"
      ]
     },
     "metadata": {},
     "output_type": "display_data"
    },
    {
     "name": "stdout",
     "output_type": "stream",
     "text": [
      "\n",
      "Saved object at /notebooks/Auto_Proofreading/Decomposition_Optimization/Debug_4/curr_branch_before_spines.pbz2\n",
      "File size is 0.054916 MB\n",
      "segment_name before cgal = L0_259\n"
     ]
    },
    {
     "data": {
      "application/vnd.jupyter.widget-view+json": {
       "model_id": "3a2f2c817c8b4804857aa5801163e49b",
       "version_major": 2,
       "version_minor": 0
      },
      "text/plain": [
       "HBox(children=(FloatProgress(value=0.0, max=6.0), HTML(value='')))"
      ]
     },
     "metadata": {},
     "output_type": "display_data"
    },
    {
     "name": "stdout",
     "output_type": "stream",
     "text": [
      "\n",
      "Saved object at /notebooks/Auto_Proofreading/Decomposition_Optimization/Debug_4/curr_branch_before_spines.pbz2\n",
      "File size is 0.947099 MB\n",
      "segment_name before cgal = L0_261\n"
     ]
    },
    {
     "data": {
      "application/vnd.jupyter.widget-view+json": {
       "model_id": "151875cb082b45af91a6ba4df729e337",
       "version_major": 2,
       "version_minor": 0
      },
      "text/plain": [
       "HBox(children=(FloatProgress(value=0.0, max=35.0), HTML(value='')))"
      ]
     },
     "metadata": {},
     "output_type": "display_data"
    },
    {
     "name": "stdout",
     "output_type": "stream",
     "text": [
      "\n",
      "Saved object at /notebooks/Auto_Proofreading/Decomposition_Optimization/Debug_4/curr_branch_before_spines.pbz2\n",
      "File size is 0.090904 MB\n",
      "segment_name before cgal = L0_262\n"
     ]
    },
    {
     "data": {
      "application/vnd.jupyter.widget-view+json": {
       "model_id": "544dbbbffeeb4966b8b71518c43718c8",
       "version_major": 2,
       "version_minor": 0
      },
      "text/plain": [
       "HBox(children=(FloatProgress(value=0.0, max=7.0), HTML(value='')))"
      ]
     },
     "metadata": {},
     "output_type": "display_data"
    },
    {
     "name": "stdout",
     "output_type": "stream",
     "text": [
      "\n",
      "Saved object at /notebooks/Auto_Proofreading/Decomposition_Optimization/Debug_4/curr_branch_before_spines.pbz2\n",
      "File size is 0.203506 MB\n",
      "segment_name before cgal = L0_263\n"
     ]
    },
    {
     "data": {
      "application/vnd.jupyter.widget-view+json": {
       "model_id": "3d5e0e0811e3473b968ed58146a5e8ed",
       "version_major": 2,
       "version_minor": 0
      },
      "text/plain": [
       "HBox(children=(FloatProgress(value=0.0, max=21.0), HTML(value='')))"
      ]
     },
     "metadata": {},
     "output_type": "display_data"
    },
    {
     "name": "stdout",
     "output_type": "stream",
     "text": [
      "\n",
      "Saved object at /notebooks/Auto_Proofreading/Decomposition_Optimization/Debug_4/curr_branch_before_spines.pbz2\n",
      "File size is 0.075159 MB\n",
      "segment_name before cgal = L0_265\n"
     ]
    },
    {
     "data": {
      "application/vnd.jupyter.widget-view+json": {
       "model_id": "b54a032b62b9474e8120353caf8e110b",
       "version_major": 2,
       "version_minor": 0
      },
      "text/plain": [
       "HBox(children=(FloatProgress(value=0.0, max=7.0), HTML(value='')))"
      ]
     },
     "metadata": {},
     "output_type": "display_data"
    },
    {
     "name": "stdout",
     "output_type": "stream",
     "text": [
      "\n",
      "Saved object at /notebooks/Auto_Proofreading/Decomposition_Optimization/Debug_4/curr_branch_before_spines.pbz2\n",
      "File size is 0.371757 MB\n",
      "segment_name before cgal = L0_268\n"
     ]
    },
    {
     "data": {
      "application/vnd.jupyter.widget-view+json": {
       "model_id": "b063fdd004b94cd7bb7c85894b82ddab",
       "version_major": 2,
       "version_minor": 0
      },
      "text/plain": [
       "HBox(children=(FloatProgress(value=0.0, max=24.0), HTML(value='')))"
      ]
     },
     "metadata": {},
     "output_type": "display_data"
    },
    {
     "name": "stdout",
     "output_type": "stream",
     "text": [
      "\n",
      "Saved object at /notebooks/Auto_Proofreading/Decomposition_Optimization/Debug_4/curr_branch_before_spines.pbz2\n",
      "File size is 2.259764 MB\n",
      "segment_name before cgal = L0_269\n"
     ]
    },
    {
     "data": {
      "application/vnd.jupyter.widget-view+json": {
       "model_id": "dd9d3d539ced4e3a9cd1cc20af514e5a",
       "version_major": 2,
       "version_minor": 0
      },
      "text/plain": [
       "HBox(children=(FloatProgress(value=0.0, max=107.0), HTML(value='')))"
      ]
     },
     "metadata": {},
     "output_type": "display_data"
    },
    {
     "name": "stdout",
     "output_type": "stream",
     "text": [
      "\n",
      "Saved object at /notebooks/Auto_Proofreading/Decomposition_Optimization/Debug_4/curr_branch_before_spines.pbz2\n",
      "File size is 0.377428 MB\n",
      "segment_name before cgal = L0_273\n"
     ]
    },
    {
     "data": {
      "application/vnd.jupyter.widget-view+json": {
       "model_id": "ab26b0a130384d13b9529fe7ffa1c422",
       "version_major": 2,
       "version_minor": 0
      },
      "text/plain": [
       "HBox(children=(FloatProgress(value=0.0, max=20.0), HTML(value='')))"
      ]
     },
     "metadata": {},
     "output_type": "display_data"
    },
    {
     "name": "stdout",
     "output_type": "stream",
     "text": [
      "\n",
      "Saved object at /notebooks/Auto_Proofreading/Decomposition_Optimization/Debug_4/curr_branch_before_spines.pbz2\n",
      "File size is 0.213004 MB\n",
      "segment_name before cgal = L0_279\n"
     ]
    },
    {
     "data": {
      "application/vnd.jupyter.widget-view+json": {
       "model_id": "25cd8c5e7ff346dfa8fefa87d60ada82",
       "version_major": 2,
       "version_minor": 0
      },
      "text/plain": [
       "HBox(children=(FloatProgress(value=0.0, max=13.0), HTML(value='')))"
      ]
     },
     "metadata": {},
     "output_type": "display_data"
    },
    {
     "name": "stdout",
     "output_type": "stream",
     "text": [
      "\n",
      "Saved object at /notebooks/Auto_Proofreading/Decomposition_Optimization/Debug_4/curr_branch_before_spines.pbz2\n",
      "File size is 0.025517 MB\n",
      "segment_name before cgal = L0_281\n"
     ]
    },
    {
     "data": {
      "application/vnd.jupyter.widget-view+json": {
       "model_id": "df92e879a7474b1eb594db77dfbc4e10",
       "version_major": 2,
       "version_minor": 0
      },
      "text/plain": [
       "HBox(children=(FloatProgress(value=0.0, max=3.0), HTML(value='')))"
      ]
     },
     "metadata": {},
     "output_type": "display_data"
    },
    {
     "name": "stdout",
     "output_type": "stream",
     "text": [
      "\n",
      "Saved object at /notebooks/Auto_Proofreading/Decomposition_Optimization/Debug_4/curr_branch_before_spines.pbz2\n",
      "File size is 0.038915 MB\n",
      "segment_name before cgal = L0_283\n"
     ]
    },
    {
     "data": {
      "application/vnd.jupyter.widget-view+json": {
       "model_id": "bd31332a88f844fbb21277c31823bb3f",
       "version_major": 2,
       "version_minor": 0
      },
      "text/plain": [
       "HBox(children=(FloatProgress(value=0.0, max=4.0), HTML(value='')))"
      ]
     },
     "metadata": {},
     "output_type": "display_data"
    },
    {
     "name": "stdout",
     "output_type": "stream",
     "text": [
      "\n",
      "Saved object at /notebooks/Auto_Proofreading/Decomposition_Optimization/Debug_4/curr_branch_before_spines.pbz2\n",
      "File size is 0.229966 MB\n",
      "segment_name before cgal = L0_285\n"
     ]
    },
    {
     "data": {
      "application/vnd.jupyter.widget-view+json": {
       "model_id": "6d1553a285d7495183c1f3a66aace6f7",
       "version_major": 2,
       "version_minor": 0
      },
      "text/plain": [
       "HBox(children=(FloatProgress(value=0.0, max=11.0), HTML(value='')))"
      ]
     },
     "metadata": {},
     "output_type": "display_data"
    },
    {
     "name": "stdout",
     "output_type": "stream",
     "text": [
      "\n",
      "Saved object at /notebooks/Auto_Proofreading/Decomposition_Optimization/Debug_4/curr_branch_before_spines.pbz2\n",
      "File size is 0.465917 MB\n",
      "segment_name before cgal = L0_286\n"
     ]
    },
    {
     "data": {
      "application/vnd.jupyter.widget-view+json": {
       "model_id": "5be3cc1ddeff4e4fa2b5fb7e6edc0b95",
       "version_major": 2,
       "version_minor": 0
      },
      "text/plain": [
       "HBox(children=(FloatProgress(value=0.0, max=26.0), HTML(value='')))"
      ]
     },
     "metadata": {},
     "output_type": "display_data"
    },
    {
     "name": "stdout",
     "output_type": "stream",
     "text": [
      "\n",
      "Saved object at /notebooks/Auto_Proofreading/Decomposition_Optimization/Debug_4/curr_branch_before_spines.pbz2\n",
      "File size is 0.230887 MB\n",
      "segment_name before cgal = L0_287\n"
     ]
    },
    {
     "data": {
      "application/vnd.jupyter.widget-view+json": {
       "model_id": "7800adac3b034b389af736dcf9c174d7",
       "version_major": 2,
       "version_minor": 0
      },
      "text/plain": [
       "HBox(children=(FloatProgress(value=0.0, max=19.0), HTML(value='')))"
      ]
     },
     "metadata": {},
     "output_type": "display_data"
    },
    {
     "name": "stdout",
     "output_type": "stream",
     "text": [
      "\n",
      "Saved object at /notebooks/Auto_Proofreading/Decomposition_Optimization/Debug_4/curr_branch_before_spines.pbz2\n",
      "File size is 0.105501 MB\n",
      "segment_name before cgal = L0_288\n"
     ]
    },
    {
     "data": {
      "application/vnd.jupyter.widget-view+json": {
       "model_id": "cf64be172fca451d82c4932cd1a1bca9",
       "version_major": 2,
       "version_minor": 0
      },
      "text/plain": [
       "HBox(children=(FloatProgress(value=0.0, max=6.0), HTML(value='')))"
      ]
     },
     "metadata": {},
     "output_type": "display_data"
    },
    {
     "name": "stdout",
     "output_type": "stream",
     "text": [
      "\n",
      "Saved object at /notebooks/Auto_Proofreading/Decomposition_Optimization/Debug_4/curr_branch_before_spines.pbz2\n",
      "File size is 0.032448 MB\n",
      "segment_name before cgal = L0_297\n"
     ]
    },
    {
     "data": {
      "application/vnd.jupyter.widget-view+json": {
       "model_id": "cf1027dff41f4d8c82cd2d69e560d939",
       "version_major": 2,
       "version_minor": 0
      },
      "text/plain": [
       "HBox(children=(FloatProgress(value=0.0, max=5.0), HTML(value='')))"
      ]
     },
     "metadata": {},
     "output_type": "display_data"
    },
    {
     "name": "stdout",
     "output_type": "stream",
     "text": [
      "\n",
      "Saved object at /notebooks/Auto_Proofreading/Decomposition_Optimization/Debug_4/curr_branch_before_spines.pbz2\n",
      "File size is 0.174174 MB\n",
      "segment_name before cgal = L0_298\n"
     ]
    },
    {
     "data": {
      "application/vnd.jupyter.widget-view+json": {
       "model_id": "f59b64b2270f4429afdade2a43a4c19c",
       "version_major": 2,
       "version_minor": 0
      },
      "text/plain": [
       "HBox(children=(FloatProgress(value=0.0, max=13.0), HTML(value='')))"
      ]
     },
     "metadata": {},
     "output_type": "display_data"
    },
    {
     "name": "stdout",
     "output_type": "stream",
     "text": [
      "\n",
      "Saved object at /notebooks/Auto_Proofreading/Decomposition_Optimization/Debug_4/curr_branch_before_spines.pbz2\n",
      "File size is 0.072728 MB\n",
      "segment_name before cgal = L0_304\n"
     ]
    },
    {
     "data": {
      "application/vnd.jupyter.widget-view+json": {
       "model_id": "201622b01983458e86545273815f34ed",
       "version_major": 2,
       "version_minor": 0
      },
      "text/plain": [
       "HBox(children=(FloatProgress(value=0.0, max=6.0), HTML(value='')))"
      ]
     },
     "metadata": {},
     "output_type": "display_data"
    },
    {
     "name": "stdout",
     "output_type": "stream",
     "text": [
      "\n",
      "Saved object at /notebooks/Auto_Proofreading/Decomposition_Optimization/Debug_4/curr_branch_before_spines.pbz2\n",
      "File size is 0.203792 MB\n",
      "segment_name before cgal = L0_306\n"
     ]
    },
    {
     "data": {
      "application/vnd.jupyter.widget-view+json": {
       "model_id": "ff8c57c97f21456db78b05f6b298d232",
       "version_major": 2,
       "version_minor": 0
      },
      "text/plain": [
       "HBox(children=(FloatProgress(value=0.0, max=7.0), HTML(value='')))"
      ]
     },
     "metadata": {},
     "output_type": "display_data"
    },
    {
     "name": "stdout",
     "output_type": "stream",
     "text": [
      "\n",
      "Saved object at /notebooks/Auto_Proofreading/Decomposition_Optimization/Debug_4/curr_branch_before_spines.pbz2\n",
      "File size is 0.315671 MB\n",
      "segment_name before cgal = L0_307\n"
     ]
    },
    {
     "data": {
      "application/vnd.jupyter.widget-view+json": {
       "model_id": "0eec85d3e5074829b5faf01183961088",
       "version_major": 2,
       "version_minor": 0
      },
      "text/plain": [
       "HBox(children=(FloatProgress(value=0.0, max=22.0), HTML(value='')))"
      ]
     },
     "metadata": {},
     "output_type": "display_data"
    },
    {
     "name": "stdout",
     "output_type": "stream",
     "text": [
      "\n",
      "Saved object at /notebooks/Auto_Proofreading/Decomposition_Optimization/Debug_4/curr_branch_before_spines.pbz2\n",
      "File size is 0.055652 MB\n",
      "segment_name before cgal = L0_309\n"
     ]
    },
    {
     "data": {
      "application/vnd.jupyter.widget-view+json": {
       "model_id": "83f7a61b107f44f8b0bb6aab67302737",
       "version_major": 2,
       "version_minor": 0
      },
      "text/plain": [
       "HBox(children=(FloatProgress(value=0.0, max=8.0), HTML(value='')))"
      ]
     },
     "metadata": {},
     "output_type": "display_data"
    },
    {
     "name": "stdout",
     "output_type": "stream",
     "text": [
      "\n",
      "Saved object at /notebooks/Auto_Proofreading/Decomposition_Optimization/Debug_4/curr_branch_before_spines.pbz2\n",
      "File size is 0.243951 MB\n",
      "segment_name before cgal = L0_310\n"
     ]
    },
    {
     "data": {
      "application/vnd.jupyter.widget-view+json": {
       "model_id": "92b3daea38244e32801eec97d13d6068",
       "version_major": 2,
       "version_minor": 0
      },
      "text/plain": [
       "HBox(children=(FloatProgress(value=0.0, max=12.0), HTML(value='')))"
      ]
     },
     "metadata": {},
     "output_type": "display_data"
    },
    {
     "name": "stdout",
     "output_type": "stream",
     "text": [
      "\n",
      "Saved object at /notebooks/Auto_Proofreading/Decomposition_Optimization/Debug_4/curr_branch_before_spines.pbz2\n",
      "File size is 0.08224 MB\n",
      "segment_name before cgal = L0_311\n"
     ]
    },
    {
     "data": {
      "application/vnd.jupyter.widget-view+json": {
       "model_id": "b2886c95ae5643aea71be8ba69761d27",
       "version_major": 2,
       "version_minor": 0
      },
      "text/plain": [
       "HBox(children=(FloatProgress(value=0.0, max=6.0), HTML(value='')))"
      ]
     },
     "metadata": {},
     "output_type": "display_data"
    },
    {
     "name": "stdout",
     "output_type": "stream",
     "text": [
      "\n",
      "Saved object at /notebooks/Auto_Proofreading/Decomposition_Optimization/Debug_4/curr_branch_before_spines.pbz2\n",
      "File size is 0.240752 MB\n",
      "segment_name before cgal = L0_314\n"
     ]
    },
    {
     "data": {
      "application/vnd.jupyter.widget-view+json": {
       "model_id": "542e0c442f4c4571ba44449ce4175496",
       "version_major": 2,
       "version_minor": 0
      },
      "text/plain": [
       "HBox(children=(FloatProgress(value=0.0, max=12.0), HTML(value='')))"
      ]
     },
     "metadata": {},
     "output_type": "display_data"
    },
    {
     "name": "stdout",
     "output_type": "stream",
     "text": [
      "\n",
      "Saved object at /notebooks/Auto_Proofreading/Decomposition_Optimization/Debug_4/curr_branch_before_spines.pbz2\n",
      "File size is 0.043089 MB\n",
      "segment_name before cgal = L0_319\n"
     ]
    },
    {
     "data": {
      "application/vnd.jupyter.widget-view+json": {
       "model_id": "269d8f921a894dd4bce128ada66171ba",
       "version_major": 2,
       "version_minor": 0
      },
      "text/plain": [
       "HBox(children=(FloatProgress(value=0.0, max=3.0), HTML(value='')))"
      ]
     },
     "metadata": {},
     "output_type": "display_data"
    },
    {
     "name": "stdout",
     "output_type": "stream",
     "text": [
      "\n",
      "Saved object at /notebooks/Auto_Proofreading/Decomposition_Optimization/Debug_4/curr_branch_before_spines.pbz2\n",
      "File size is 0.343392 MB\n",
      "segment_name before cgal = L0_322\n"
     ]
    },
    {
     "data": {
      "application/vnd.jupyter.widget-view+json": {
       "model_id": "139e56afc4484d91b2f13c5e10b47ce8",
       "version_major": 2,
       "version_minor": 0
      },
      "text/plain": [
       "HBox(children=(FloatProgress(value=0.0, max=15.0), HTML(value='')))"
      ]
     },
     "metadata": {},
     "output_type": "display_data"
    },
    {
     "name": "stdout",
     "output_type": "stream",
     "text": [
      "\n",
      "Saved object at /notebooks/Auto_Proofreading/Decomposition_Optimization/Debug_4/curr_branch_before_spines.pbz2\n",
      "File size is 0.065107 MB\n",
      "segment_name before cgal = L0_327\n"
     ]
    },
    {
     "data": {
      "application/vnd.jupyter.widget-view+json": {
       "model_id": "3da35d41eca345d994e6398b82803782",
       "version_major": 2,
       "version_minor": 0
      },
      "text/plain": [
       "HBox(children=(FloatProgress(value=0.0, max=4.0), HTML(value='')))"
      ]
     },
     "metadata": {},
     "output_type": "display_data"
    },
    {
     "name": "stdout",
     "output_type": "stream",
     "text": [
      "\n",
      "Saved object at /notebooks/Auto_Proofreading/Decomposition_Optimization/Debug_4/curr_branch_before_spines.pbz2\n",
      "File size is 0.549431 MB\n",
      "segment_name before cgal = L0_328\n"
     ]
    },
    {
     "data": {
      "application/vnd.jupyter.widget-view+json": {
       "model_id": "47c8aa3d55f1469d9f32195b2812adbd",
       "version_major": 2,
       "version_minor": 0
      },
      "text/plain": [
       "HBox(children=(FloatProgress(value=0.0, max=27.0), HTML(value='')))"
      ]
     },
     "metadata": {},
     "output_type": "display_data"
    },
    {
     "name": "stdout",
     "output_type": "stream",
     "text": [
      "\n",
      "Saved object at /notebooks/Auto_Proofreading/Decomposition_Optimization/Debug_4/curr_branch_before_spines.pbz2\n",
      "File size is 0.071541 MB\n",
      "segment_name before cgal = L0_338\n"
     ]
    },
    {
     "data": {
      "application/vnd.jupyter.widget-view+json": {
       "model_id": "8885ca9697e449d387d0d6988a43dd4d",
       "version_major": 2,
       "version_minor": 0
      },
      "text/plain": [
       "HBox(children=(FloatProgress(value=0.0, max=7.0), HTML(value='')))"
      ]
     },
     "metadata": {},
     "output_type": "display_data"
    },
    {
     "name": "stdout",
     "output_type": "stream",
     "text": [
      "\n",
      "Saved object at /notebooks/Auto_Proofreading/Decomposition_Optimization/Debug_4/curr_branch_before_spines.pbz2\n",
      "File size is 0.193028 MB\n",
      "segment_name before cgal = L0_339\n"
     ]
    },
    {
     "data": {
      "application/vnd.jupyter.widget-view+json": {
       "model_id": "3f64b64144ed486eb529d1d077ec6752",
       "version_major": 2,
       "version_minor": 0
      },
      "text/plain": [
       "HBox(children=(FloatProgress(value=0.0, max=6.0), HTML(value='')))"
      ]
     },
     "metadata": {},
     "output_type": "display_data"
    },
    {
     "name": "stdout",
     "output_type": "stream",
     "text": [
      "\n",
      "Saved object at /notebooks/Auto_Proofreading/Decomposition_Optimization/Debug_4/curr_branch_before_spines.pbz2\n",
      "File size is 0.389865 MB\n",
      "segment_name before cgal = L0_340\n"
     ]
    },
    {
     "data": {
      "application/vnd.jupyter.widget-view+json": {
       "model_id": "6dd52202f46048ddbbfe7b59c8c409ce",
       "version_major": 2,
       "version_minor": 0
      },
      "text/plain": [
       "HBox(children=(FloatProgress(value=0.0, max=14.0), HTML(value='')))"
      ]
     },
     "metadata": {},
     "output_type": "display_data"
    },
    {
     "name": "stdout",
     "output_type": "stream",
     "text": [
      "\n",
      "Saved object at /notebooks/Auto_Proofreading/Decomposition_Optimization/Debug_4/curr_branch_before_spines.pbz2\n",
      "File size is 0.012788 MB\n",
      "segment_name before cgal = L0_347\n"
     ]
    },
    {
     "data": {
      "application/vnd.jupyter.widget-view+json": {
       "model_id": "2cc70dbbf37a4f3aa5deb963cf410f62",
       "version_major": 2,
       "version_minor": 0
      },
      "text/plain": [
       "HBox(children=(FloatProgress(value=0.0, max=2.0), HTML(value='')))"
      ]
     },
     "metadata": {},
     "output_type": "display_data"
    },
    {
     "name": "stdout",
     "output_type": "stream",
     "text": [
      "\n",
      "Saved object at /notebooks/Auto_Proofreading/Decomposition_Optimization/Debug_4/curr_branch_before_spines.pbz2\n",
      "File size is 0.053556 MB\n",
      "segment_name before cgal = L0_350\n"
     ]
    },
    {
     "data": {
      "application/vnd.jupyter.widget-view+json": {
       "model_id": "caa4e4fefb2c493bad866cdfd7137ef4",
       "version_major": 2,
       "version_minor": 0
      },
      "text/plain": [
       "HBox(children=(FloatProgress(value=0.0, max=5.0), HTML(value='')))"
      ]
     },
     "metadata": {},
     "output_type": "display_data"
    },
    {
     "name": "stdout",
     "output_type": "stream",
     "text": [
      "\n",
      "Saved object at /notebooks/Auto_Proofreading/Decomposition_Optimization/Debug_4/curr_branch_before_spines.pbz2\n",
      "File size is 0.752204 MB\n",
      "segment_name before cgal = L0_352\n"
     ]
    },
    {
     "data": {
      "application/vnd.jupyter.widget-view+json": {
       "model_id": "1a619877228c411cb57476564c6fefb4",
       "version_major": 2,
       "version_minor": 0
      },
      "text/plain": [
       "HBox(children=(FloatProgress(value=0.0, max=18.0), HTML(value='')))"
      ]
     },
     "metadata": {},
     "output_type": "display_data"
    },
    {
     "name": "stdout",
     "output_type": "stream",
     "text": [
      "\n",
      "Saved object at /notebooks/Auto_Proofreading/Decomposition_Optimization/Debug_4/curr_branch_before_spines.pbz2\n",
      "File size is 0.273257 MB\n",
      "segment_name before cgal = L0_354\n"
     ]
    },
    {
     "data": {
      "application/vnd.jupyter.widget-view+json": {
       "model_id": "dc73b26f79464b07a784d8d11f2a80c6",
       "version_major": 2,
       "version_minor": 0
      },
      "text/plain": [
       "HBox(children=(FloatProgress(value=0.0, max=8.0), HTML(value='')))"
      ]
     },
     "metadata": {},
     "output_type": "display_data"
    },
    {
     "name": "stdout",
     "output_type": "stream",
     "text": [
      "\n",
      "Saved object at /notebooks/Auto_Proofreading/Decomposition_Optimization/Debug_4/curr_branch_before_spines.pbz2\n",
      "File size is 0.302934 MB\n",
      "segment_name before cgal = L0_355\n"
     ]
    },
    {
     "data": {
      "application/vnd.jupyter.widget-view+json": {
       "model_id": "a2e7e70cabba4980bf65f2cc7d4143b9",
       "version_major": 2,
       "version_minor": 0
      },
      "text/plain": [
       "HBox(children=(FloatProgress(value=0.0, max=13.0), HTML(value='')))"
      ]
     },
     "metadata": {},
     "output_type": "display_data"
    },
    {
     "name": "stdout",
     "output_type": "stream",
     "text": [
      "\n",
      "Saved object at /notebooks/Auto_Proofreading/Decomposition_Optimization/Debug_4/curr_branch_before_spines.pbz2\n",
      "File size is 0.543145 MB\n",
      "segment_name before cgal = L0_357\n"
     ]
    },
    {
     "data": {
      "application/vnd.jupyter.widget-view+json": {
       "model_id": "956bc9a36f42416e8e7c11204521254c",
       "version_major": 2,
       "version_minor": 0
      },
      "text/plain": [
       "HBox(children=(FloatProgress(value=0.0, max=10.0), HTML(value='')))"
      ]
     },
     "metadata": {},
     "output_type": "display_data"
    },
    {
     "name": "stdout",
     "output_type": "stream",
     "text": [
      "\n",
      "Saved object at /notebooks/Auto_Proofreading/Decomposition_Optimization/Debug_4/curr_branch_before_spines.pbz2\n",
      "File size is 0.02957 MB\n",
      "segment_name before cgal = L0_358\n"
     ]
    },
    {
     "data": {
      "application/vnd.jupyter.widget-view+json": {
       "model_id": "5007c3f20ddc45dd99e7c2207c8bd312",
       "version_major": 2,
       "version_minor": 0
      },
      "text/plain": [
       "HBox(children=(FloatProgress(value=0.0, max=3.0), HTML(value='')))"
      ]
     },
     "metadata": {},
     "output_type": "display_data"
    },
    {
     "name": "stdout",
     "output_type": "stream",
     "text": [
      "\n",
      "Saved object at /notebooks/Auto_Proofreading/Decomposition_Optimization/Debug_4/curr_branch_before_spines.pbz2\n",
      "File size is 0.710973 MB\n",
      "segment_name before cgal = L0_361\n"
     ]
    },
    {
     "data": {
      "application/vnd.jupyter.widget-view+json": {
       "model_id": "fe79d8ccb1054d70b69dfee02fd1419a",
       "version_major": 2,
       "version_minor": 0
      },
      "text/plain": [
       "HBox(children=(FloatProgress(value=0.0, max=9.0), HTML(value='')))"
      ]
     },
     "metadata": {},
     "output_type": "display_data"
    },
    {
     "name": "stdout",
     "output_type": "stream",
     "text": [
      "\n",
      "Saved object at /notebooks/Auto_Proofreading/Decomposition_Optimization/Debug_4/curr_branch_before_spines.pbz2\n",
      "File size is 0.222922 MB\n",
      "segment_name before cgal = L0_364\n"
     ]
    },
    {
     "data": {
      "application/vnd.jupyter.widget-view+json": {
       "model_id": "beb38fcd25aa4219be8d8a6ebc77a583",
       "version_major": 2,
       "version_minor": 0
      },
      "text/plain": [
       "HBox(children=(FloatProgress(value=0.0, max=9.0), HTML(value='')))"
      ]
     },
     "metadata": {},
     "output_type": "display_data"
    },
    {
     "name": "stdout",
     "output_type": "stream",
     "text": [
      "\n",
      "Saved object at /notebooks/Auto_Proofreading/Decomposition_Optimization/Debug_4/curr_branch_before_spines.pbz2\n",
      "File size is 0.605855 MB\n",
      "segment_name before cgal = L0_365\n"
     ]
    },
    {
     "data": {
      "application/vnd.jupyter.widget-view+json": {
       "model_id": "a1f036da793e4654831d884669f2902a",
       "version_major": 2,
       "version_minor": 0
      },
      "text/plain": [
       "HBox(children=(FloatProgress(value=0.0, max=12.0), HTML(value='')))"
      ]
     },
     "metadata": {},
     "output_type": "display_data"
    },
    {
     "name": "stdout",
     "output_type": "stream",
     "text": [
      "\n",
      "Saved object at /notebooks/Auto_Proofreading/Decomposition_Optimization/Debug_4/curr_branch_before_spines.pbz2\n",
      "File size is 0.09911 MB\n",
      "segment_name before cgal = L0_368\n"
     ]
    },
    {
     "data": {
      "application/vnd.jupyter.widget-view+json": {
       "model_id": "0afda2e40a124dea879db3cb1eba4b25",
       "version_major": 2,
       "version_minor": 0
      },
      "text/plain": [
       "HBox(children=(FloatProgress(value=0.0, max=6.0), HTML(value='')))"
      ]
     },
     "metadata": {},
     "output_type": "display_data"
    },
    {
     "name": "stdout",
     "output_type": "stream",
     "text": [
      "\n",
      "Saved object at /notebooks/Auto_Proofreading/Decomposition_Optimization/Debug_4/curr_branch_before_spines.pbz2\n",
      "File size is 0.179735 MB\n",
      "segment_name before cgal = L0_369\n"
     ]
    },
    {
     "data": {
      "application/vnd.jupyter.widget-view+json": {
       "model_id": "b7ecebbd45de4307b90ba2d8535cd585",
       "version_major": 2,
       "version_minor": 0
      },
      "text/plain": [
       "HBox(children=(FloatProgress(value=0.0, max=9.0), HTML(value='')))"
      ]
     },
     "metadata": {},
     "output_type": "display_data"
    },
    {
     "name": "stdout",
     "output_type": "stream",
     "text": [
      "\n",
      "Saved object at /notebooks/Auto_Proofreading/Decomposition_Optimization/Debug_4/curr_branch_before_spines.pbz2\n",
      "File size is 0.029888 MB\n",
      "segment_name before cgal = L0_370\n"
     ]
    },
    {
     "data": {
      "application/vnd.jupyter.widget-view+json": {
       "model_id": "01355f60568644b7a89d9f546c7b5271",
       "version_major": 2,
       "version_minor": 0
      },
      "text/plain": [
       "HBox(children=(FloatProgress(value=0.0, max=6.0), HTML(value='')))"
      ]
     },
     "metadata": {},
     "output_type": "display_data"
    },
    {
     "name": "stdout",
     "output_type": "stream",
     "text": [
      "\n",
      "Saved object at /notebooks/Auto_Proofreading/Decomposition_Optimization/Debug_4/curr_branch_before_spines.pbz2\n",
      "File size is 0.667447 MB\n",
      "segment_name before cgal = L0_372\n"
     ]
    },
    {
     "data": {
      "application/vnd.jupyter.widget-view+json": {
       "model_id": "d24397f1523241bf9f78d2a1f5acdd09",
       "version_major": 2,
       "version_minor": 0
      },
      "text/plain": [
       "HBox(children=(FloatProgress(value=0.0, max=18.0), HTML(value='')))"
      ]
     },
     "metadata": {},
     "output_type": "display_data"
    },
    {
     "name": "stdout",
     "output_type": "stream",
     "text": [
      "\n",
      "Saved object at /notebooks/Auto_Proofreading/Decomposition_Optimization/Debug_4/curr_branch_before_spines.pbz2\n",
      "File size is 0.389728 MB\n",
      "segment_name before cgal = L0_374\n"
     ]
    },
    {
     "data": {
      "application/vnd.jupyter.widget-view+json": {
       "model_id": "30352074a08649a18500211559246871",
       "version_major": 2,
       "version_minor": 0
      },
      "text/plain": [
       "HBox(children=(FloatProgress(value=0.0, max=16.0), HTML(value='')))"
      ]
     },
     "metadata": {},
     "output_type": "display_data"
    },
    {
     "name": "stdout",
     "output_type": "stream",
     "text": [
      "\n",
      "Saved object at /notebooks/Auto_Proofreading/Decomposition_Optimization/Debug_4/curr_branch_before_spines.pbz2\n",
      "File size is 0.1079 MB\n",
      "segment_name before cgal = L0_377\n"
     ]
    },
    {
     "data": {
      "application/vnd.jupyter.widget-view+json": {
       "model_id": "eb9b11f165e34d91a624da81c6e71661",
       "version_major": 2,
       "version_minor": 0
      },
      "text/plain": [
       "HBox(children=(FloatProgress(value=0.0, max=8.0), HTML(value='')))"
      ]
     },
     "metadata": {},
     "output_type": "display_data"
    },
    {
     "name": "stdout",
     "output_type": "stream",
     "text": [
      "\n",
      "Saved object at /notebooks/Auto_Proofreading/Decomposition_Optimization/Debug_4/curr_branch_before_spines.pbz2\n",
      "File size is 0.38976 MB\n",
      "segment_name before cgal = L0_379\n"
     ]
    },
    {
     "data": {
      "application/vnd.jupyter.widget-view+json": {
       "model_id": "5bca95393c4047fb873173379e06946f",
       "version_major": 2,
       "version_minor": 0
      },
      "text/plain": [
       "HBox(children=(FloatProgress(value=0.0, max=16.0), HTML(value='')))"
      ]
     },
     "metadata": {},
     "output_type": "display_data"
    },
    {
     "name": "stdout",
     "output_type": "stream",
     "text": [
      "\n",
      "Saved object at /notebooks/Auto_Proofreading/Decomposition_Optimization/Debug_4/curr_branch_before_spines.pbz2\n",
      "File size is 0.092454 MB\n",
      "segment_name before cgal = L0_381\n"
     ]
    },
    {
     "data": {
      "application/vnd.jupyter.widget-view+json": {
       "model_id": "a421e75d54154d2fb8dddfa0f7867b7d",
       "version_major": 2,
       "version_minor": 0
      },
      "text/plain": [
       "HBox(children=(FloatProgress(value=0.0, max=5.0), HTML(value='')))"
      ]
     },
     "metadata": {},
     "output_type": "display_data"
    },
    {
     "name": "stdout",
     "output_type": "stream",
     "text": [
      "\n",
      "Saved object at /notebooks/Auto_Proofreading/Decomposition_Optimization/Debug_4/curr_branch_before_spines.pbz2\n",
      "File size is 0.107617 MB\n",
      "segment_name before cgal = L0_382\n"
     ]
    },
    {
     "data": {
      "application/vnd.jupyter.widget-view+json": {
       "model_id": "eacb0e3d9fac49b493cd634e8acd0396",
       "version_major": 2,
       "version_minor": 0
      },
      "text/plain": [
       "HBox(children=(FloatProgress(value=0.0, max=4.0), HTML(value='')))"
      ]
     },
     "metadata": {},
     "output_type": "display_data"
    },
    {
     "name": "stdout",
     "output_type": "stream",
     "text": [
      "\n",
      "Saved object at /notebooks/Auto_Proofreading/Decomposition_Optimization/Debug_4/curr_branch_before_spines.pbz2\n",
      "File size is 0.244287 MB\n",
      "segment_name before cgal = L0_384\n"
     ]
    },
    {
     "data": {
      "application/vnd.jupyter.widget-view+json": {
       "model_id": "eceb4dcc11394a488c2638c7b42ecfa0",
       "version_major": 2,
       "version_minor": 0
      },
      "text/plain": [
       "HBox(children=(FloatProgress(value=0.0, max=16.0), HTML(value='')))"
      ]
     },
     "metadata": {},
     "output_type": "display_data"
    },
    {
     "name": "stdout",
     "output_type": "stream",
     "text": [
      "\n",
      "Saved object at /notebooks/Auto_Proofreading/Decomposition_Optimization/Debug_4/curr_branch_before_spines.pbz2\n",
      "File size is 0.248746 MB\n",
      "segment_name before cgal = L0_385\n"
     ]
    },
    {
     "data": {
      "application/vnd.jupyter.widget-view+json": {
       "model_id": "c97d1769d3c34ea39b483e098cb3b97c",
       "version_major": 2,
       "version_minor": 0
      },
      "text/plain": [
       "HBox(children=(FloatProgress(value=0.0, max=9.0), HTML(value='')))"
      ]
     },
     "metadata": {},
     "output_type": "display_data"
    },
    {
     "name": "stdout",
     "output_type": "stream",
     "text": [
      "\n",
      "Saved object at /notebooks/Auto_Proofreading/Decomposition_Optimization/Debug_4/curr_branch_before_spines.pbz2\n",
      "File size is 0.044646 MB\n",
      "segment_name before cgal = L0_387\n"
     ]
    },
    {
     "data": {
      "application/vnd.jupyter.widget-view+json": {
       "model_id": "5b9344a2d7284dd8b106e9a17ddfe5b6",
       "version_major": 2,
       "version_minor": 0
      },
      "text/plain": [
       "HBox(children=(FloatProgress(value=0.0, max=2.0), HTML(value='')))"
      ]
     },
     "metadata": {},
     "output_type": "display_data"
    },
    {
     "name": "stdout",
     "output_type": "stream",
     "text": [
      "\n",
      "Saved object at /notebooks/Auto_Proofreading/Decomposition_Optimization/Debug_4/curr_branch_before_spines.pbz2\n",
      "File size is 0.078129 MB\n",
      "segment_name before cgal = L0_389\n"
     ]
    },
    {
     "data": {
      "application/vnd.jupyter.widget-view+json": {
       "model_id": "ac3f2f6f08124b11acadfceab811bb8b",
       "version_major": 2,
       "version_minor": 0
      },
      "text/plain": [
       "HBox(children=(FloatProgress(value=0.0, max=7.0), HTML(value='')))"
      ]
     },
     "metadata": {},
     "output_type": "display_data"
    },
    {
     "name": "stdout",
     "output_type": "stream",
     "text": [
      "\n",
      "Saved object at /notebooks/Auto_Proofreading/Decomposition_Optimization/Debug_4/curr_branch_before_spines.pbz2\n",
      "File size is 0.175965 MB\n",
      "segment_name before cgal = L0_391\n"
     ]
    },
    {
     "data": {
      "application/vnd.jupyter.widget-view+json": {
       "model_id": "48727f36464f49bc9a5eccc312b08ea3",
       "version_major": 2,
       "version_minor": 0
      },
      "text/plain": [
       "HBox(children=(FloatProgress(value=0.0, max=5.0), HTML(value='')))"
      ]
     },
     "metadata": {},
     "output_type": "display_data"
    },
    {
     "name": "stdout",
     "output_type": "stream",
     "text": [
      "\n",
      "Saved object at /notebooks/Auto_Proofreading/Decomposition_Optimization/Debug_4/curr_branch_before_spines.pbz2\n",
      "File size is 0.168959 MB\n",
      "segment_name before cgal = L0_392\n"
     ]
    },
    {
     "data": {
      "application/vnd.jupyter.widget-view+json": {
       "model_id": "6182355c2147410e9f7e8fd20f11d6d3",
       "version_major": 2,
       "version_minor": 0
      },
      "text/plain": [
       "HBox(children=(FloatProgress(value=0.0, max=8.0), HTML(value='')))"
      ]
     },
     "metadata": {},
     "output_type": "display_data"
    },
    {
     "name": "stdout",
     "output_type": "stream",
     "text": [
      "\n",
      "Saved object at /notebooks/Auto_Proofreading/Decomposition_Optimization/Debug_4/curr_branch_before_spines.pbz2\n",
      "File size is 0.110756 MB\n",
      "segment_name before cgal = L0_393\n"
     ]
    },
    {
     "data": {
      "application/vnd.jupyter.widget-view+json": {
       "model_id": "33dfd67237424ec3b4710effc478867a",
       "version_major": 2,
       "version_minor": 0
      },
      "text/plain": [
       "HBox(children=(FloatProgress(value=0.0, max=5.0), HTML(value='')))"
      ]
     },
     "metadata": {},
     "output_type": "display_data"
    },
    {
     "name": "stdout",
     "output_type": "stream",
     "text": [
      "\n",
      "Saved object at /notebooks/Auto_Proofreading/Decomposition_Optimization/Debug_4/curr_branch_before_spines.pbz2\n",
      "File size is 0.05549 MB\n",
      "segment_name before cgal = L0_395\n"
     ]
    },
    {
     "data": {
      "application/vnd.jupyter.widget-view+json": {
       "model_id": "b026b993f2ed46199f3da2d295734945",
       "version_major": 2,
       "version_minor": 0
      },
      "text/plain": [
       "HBox(children=(FloatProgress(value=0.0, max=5.0), HTML(value='')))"
      ]
     },
     "metadata": {},
     "output_type": "display_data"
    },
    {
     "name": "stdout",
     "output_type": "stream",
     "text": [
      "\n",
      "Saved object at /notebooks/Auto_Proofreading/Decomposition_Optimization/Debug_4/curr_branch_before_spines.pbz2\n",
      "File size is 0.145338 MB\n",
      "segment_name before cgal = L0_396\n"
     ]
    },
    {
     "data": {
      "application/vnd.jupyter.widget-view+json": {
       "model_id": "32951dac1c064ebdb33246fea393fcee",
       "version_major": 2,
       "version_minor": 0
      },
      "text/plain": [
       "HBox(children=(FloatProgress(value=0.0, max=14.0), HTML(value='')))"
      ]
     },
     "metadata": {},
     "output_type": "display_data"
    },
    {
     "name": "stdout",
     "output_type": "stream",
     "text": [
      "\n",
      "Saved object at /notebooks/Auto_Proofreading/Decomposition_Optimization/Debug_4/curr_branch_before_spines.pbz2\n",
      "File size is 0.488877 MB\n",
      "segment_name before cgal = L0_397\n"
     ]
    },
    {
     "data": {
      "application/vnd.jupyter.widget-view+json": {
       "model_id": "6866a349dd924254acb9976450cccd7f",
       "version_major": 2,
       "version_minor": 0
      },
      "text/plain": [
       "HBox(children=(FloatProgress(value=0.0, max=25.0), HTML(value='')))"
      ]
     },
     "metadata": {},
     "output_type": "display_data"
    },
    {
     "name": "stdout",
     "output_type": "stream",
     "text": [
      "\n",
      "Saved object at /notebooks/Auto_Proofreading/Decomposition_Optimization/Debug_4/curr_branch_before_spines.pbz2\n",
      "File size is 0.161566 MB\n",
      "segment_name before cgal = L0_398\n"
     ]
    },
    {
     "data": {
      "application/vnd.jupyter.widget-view+json": {
       "model_id": "2851761b343f4bb4b4065842b1feac19",
       "version_major": 2,
       "version_minor": 0
      },
      "text/plain": [
       "HBox(children=(FloatProgress(value=0.0, max=9.0), HTML(value='')))"
      ]
     },
     "metadata": {},
     "output_type": "display_data"
    },
    {
     "name": "stdout",
     "output_type": "stream",
     "text": [
      "\n",
      "Saved object at /notebooks/Auto_Proofreading/Decomposition_Optimization/Debug_4/curr_branch_before_spines.pbz2\n",
      "File size is 0.096022 MB\n",
      "segment_name before cgal = L0_399\n"
     ]
    },
    {
     "data": {
      "application/vnd.jupyter.widget-view+json": {
       "model_id": "458400b7e8f54f3595eb5a7bd6327779",
       "version_major": 2,
       "version_minor": 0
      },
      "text/plain": [
       "HBox(children=(FloatProgress(value=0.0, max=5.0), HTML(value='')))"
      ]
     },
     "metadata": {},
     "output_type": "display_data"
    },
    {
     "name": "stdout",
     "output_type": "stream",
     "text": [
      "\n",
      "Saved object at /notebooks/Auto_Proofreading/Decomposition_Optimization/Debug_4/curr_branch_before_spines.pbz2\n",
      "File size is 0.31273 MB\n",
      "segment_name before cgal = L0_401\n"
     ]
    },
    {
     "data": {
      "application/vnd.jupyter.widget-view+json": {
       "model_id": "1a064f04ca884423a2120e36ee769151",
       "version_major": 2,
       "version_minor": 0
      },
      "text/plain": [
       "HBox(children=(FloatProgress(value=0.0, max=18.0), HTML(value='')))"
      ]
     },
     "metadata": {},
     "output_type": "display_data"
    },
    {
     "name": "stdout",
     "output_type": "stream",
     "text": [
      "\n",
      "Saved object at /notebooks/Auto_Proofreading/Decomposition_Optimization/Debug_4/curr_branch_before_spines.pbz2\n",
      "File size is 0.121903 MB\n",
      "segment_name before cgal = L0_404\n"
     ]
    },
    {
     "data": {
      "application/vnd.jupyter.widget-view+json": {
       "model_id": "221f9853db7f4541a86d976fa18a447a",
       "version_major": 2,
       "version_minor": 0
      },
      "text/plain": [
       "HBox(children=(FloatProgress(value=0.0, max=14.0), HTML(value='')))"
      ]
     },
     "metadata": {},
     "output_type": "display_data"
    },
    {
     "name": "stdout",
     "output_type": "stream",
     "text": [
      "\n",
      "Saved object at /notebooks/Auto_Proofreading/Decomposition_Optimization/Debug_4/curr_branch_before_spines.pbz2\n",
      "File size is 0.021738 MB\n",
      "segment_name before cgal = L0_406\n"
     ]
    },
    {
     "data": {
      "application/vnd.jupyter.widget-view+json": {
       "model_id": "dd36980fd9cf4f83be255fb961a9299b",
       "version_major": 2,
       "version_minor": 0
      },
      "text/plain": [
       "HBox(children=(FloatProgress(value=0.0, max=2.0), HTML(value='')))"
      ]
     },
     "metadata": {},
     "output_type": "display_data"
    },
    {
     "name": "stdout",
     "output_type": "stream",
     "text": [
      "\n",
      "Saved object at /notebooks/Auto_Proofreading/Decomposition_Optimization/Debug_4/curr_branch_before_spines.pbz2\n",
      "File size is 1.337909 MB\n",
      "segment_name before cgal = L0_407\n"
     ]
    },
    {
     "data": {
      "application/vnd.jupyter.widget-view+json": {
       "model_id": "925b799cd05344e6abc18f15462f1873",
       "version_major": 2,
       "version_minor": 0
      },
      "text/plain": [
       "HBox(children=(FloatProgress(value=0.0, max=33.0), HTML(value='')))"
      ]
     },
     "metadata": {},
     "output_type": "display_data"
    },
    {
     "name": "stdout",
     "output_type": "stream",
     "text": [
      "\n",
      "Saved object at /notebooks/Auto_Proofreading/Decomposition_Optimization/Debug_4/curr_branch_before_spines.pbz2\n",
      "File size is 0.198397 MB\n",
      "segment_name before cgal = L0_408\n"
     ]
    },
    {
     "data": {
      "application/vnd.jupyter.widget-view+json": {
       "model_id": "1c4699ccbecb445cab908f2bdc5d387f",
       "version_major": 2,
       "version_minor": 0
      },
      "text/plain": [
       "HBox(children=(FloatProgress(value=0.0, max=9.0), HTML(value='')))"
      ]
     },
     "metadata": {},
     "output_type": "display_data"
    },
    {
     "name": "stdout",
     "output_type": "stream",
     "text": [
      "\n",
      "Saved object at /notebooks/Auto_Proofreading/Decomposition_Optimization/Debug_4/curr_branch_before_spines.pbz2\n",
      "File size is 0.11496 MB\n",
      "segment_name before cgal = L0_409\n"
     ]
    },
    {
     "data": {
      "application/vnd.jupyter.widget-view+json": {
       "model_id": "e200701c79c144dc986a732dfa9eaf17",
       "version_major": 2,
       "version_minor": 0
      },
      "text/plain": [
       "HBox(children=(FloatProgress(value=0.0, max=3.0), HTML(value='')))"
      ]
     },
     "metadata": {},
     "output_type": "display_data"
    },
    {
     "name": "stdout",
     "output_type": "stream",
     "text": [
      "\n",
      "Saved object at /notebooks/Auto_Proofreading/Decomposition_Optimization/Debug_4/curr_branch_before_spines.pbz2\n",
      "File size is 0.977974 MB\n",
      "segment_name before cgal = L0_412\n"
     ]
    },
    {
     "data": {
      "application/vnd.jupyter.widget-view+json": {
       "model_id": "09b971ecbe1f4b3d8bb9113fda0d64df",
       "version_major": 2,
       "version_minor": 0
      },
      "text/plain": [
       "HBox(children=(FloatProgress(value=0.0, max=55.0), HTML(value='')))"
      ]
     },
     "metadata": {},
     "output_type": "display_data"
    },
    {
     "name": "stdout",
     "output_type": "stream",
     "text": [
      "\n",
      "Saved object at /notebooks/Auto_Proofreading/Decomposition_Optimization/Debug_4/curr_branch_before_spines.pbz2\n",
      "File size is 0.637639 MB\n",
      "segment_name before cgal = L0_413\n"
     ]
    },
    {
     "data": {
      "application/vnd.jupyter.widget-view+json": {
       "model_id": "d7290250d6414df9957efb3ed1334487",
       "version_major": 2,
       "version_minor": 0
      },
      "text/plain": [
       "HBox(children=(FloatProgress(value=0.0, max=23.0), HTML(value='')))"
      ]
     },
     "metadata": {},
     "output_type": "display_data"
    },
    {
     "name": "stdout",
     "output_type": "stream",
     "text": [
      "\n",
      "Saved object at /notebooks/Auto_Proofreading/Decomposition_Optimization/Debug_4/curr_branch_before_spines.pbz2\n",
      "File size is 0.083657 MB\n",
      "segment_name before cgal = L0_418\n"
     ]
    },
    {
     "data": {
      "application/vnd.jupyter.widget-view+json": {
       "model_id": "0b008043989245ab8ab468ada42a04fd",
       "version_major": 2,
       "version_minor": 0
      },
      "text/plain": [
       "HBox(children=(FloatProgress(value=0.0, max=5.0), HTML(value='')))"
      ]
     },
     "metadata": {},
     "output_type": "display_data"
    },
    {
     "name": "stdout",
     "output_type": "stream",
     "text": [
      "\n",
      "Saved object at /notebooks/Auto_Proofreading/Decomposition_Optimization/Debug_4/curr_branch_before_spines.pbz2\n",
      "File size is 0.161031 MB\n",
      "segment_name before cgal = L0_419\n"
     ]
    },
    {
     "data": {
      "application/vnd.jupyter.widget-view+json": {
       "model_id": "4fa5690eb35e447bb0fee23e64b47a8c",
       "version_major": 2,
       "version_minor": 0
      },
      "text/plain": [
       "HBox(children=(FloatProgress(value=0.0, max=13.0), HTML(value='')))"
      ]
     },
     "metadata": {},
     "output_type": "display_data"
    },
    {
     "name": "stdout",
     "output_type": "stream",
     "text": [
      "\n",
      "Saved object at /notebooks/Auto_Proofreading/Decomposition_Optimization/Debug_4/curr_branch_before_spines.pbz2\n",
      "File size is 0.164459 MB\n",
      "segment_name before cgal = L0_420\n"
     ]
    },
    {
     "data": {
      "application/vnd.jupyter.widget-view+json": {
       "model_id": "a26dfbee322e4ce198c3d599ff428ba3",
       "version_major": 2,
       "version_minor": 0
      },
      "text/plain": [
       "HBox(children=(FloatProgress(value=0.0, max=12.0), HTML(value='')))"
      ]
     },
     "metadata": {},
     "output_type": "display_data"
    },
    {
     "name": "stdout",
     "output_type": "stream",
     "text": [
      "\n",
      "Saved object at /notebooks/Auto_Proofreading/Decomposition_Optimization/Debug_4/curr_branch_before_spines.pbz2\n",
      "File size is 0.9154 MB\n",
      "segment_name before cgal = L0_421\n"
     ]
    },
    {
     "data": {
      "application/vnd.jupyter.widget-view+json": {
       "model_id": "81e0e535955a404d86bdd1c8a961d810",
       "version_major": 2,
       "version_minor": 0
      },
      "text/plain": [
       "HBox(children=(FloatProgress(value=0.0, max=54.0), HTML(value='')))"
      ]
     },
     "metadata": {},
     "output_type": "display_data"
    },
    {
     "name": "stdout",
     "output_type": "stream",
     "text": [
      "\n",
      "Saved object at /notebooks/Auto_Proofreading/Decomposition_Optimization/Debug_4/curr_branch_before_spines.pbz2\n",
      "File size is 0.332972 MB\n",
      "segment_name before cgal = L0_422\n"
     ]
    },
    {
     "data": {
      "application/vnd.jupyter.widget-view+json": {
       "model_id": "3dc8fd36f1cf45a790118c55344d1ac2",
       "version_major": 2,
       "version_minor": 0
      },
      "text/plain": [
       "HBox(children=(FloatProgress(value=0.0, max=14.0), HTML(value='')))"
      ]
     },
     "metadata": {},
     "output_type": "display_data"
    },
    {
     "name": "stdout",
     "output_type": "stream",
     "text": [
      "\n",
      "Saved object at /notebooks/Auto_Proofreading/Decomposition_Optimization/Debug_4/curr_branch_before_spines.pbz2\n",
      "File size is 0.181645 MB\n",
      "segment_name before cgal = L0_426\n"
     ]
    },
    {
     "data": {
      "application/vnd.jupyter.widget-view+json": {
       "model_id": "71510ff836744e3eb16f7cb3a9262b08",
       "version_major": 2,
       "version_minor": 0
      },
      "text/plain": [
       "HBox(children=(FloatProgress(value=0.0, max=9.0), HTML(value='')))"
      ]
     },
     "metadata": {},
     "output_type": "display_data"
    },
    {
     "name": "stdout",
     "output_type": "stream",
     "text": [
      "\n",
      "Saved object at /notebooks/Auto_Proofreading/Decomposition_Optimization/Debug_4/curr_branch_before_spines.pbz2\n",
      "File size is 0.347946 MB\n",
      "segment_name before cgal = L0_429\n"
     ]
    },
    {
     "data": {
      "application/vnd.jupyter.widget-view+json": {
       "model_id": "a08da10baba6423b98265057aa51bdc1",
       "version_major": 2,
       "version_minor": 0
      },
      "text/plain": [
       "HBox(children=(FloatProgress(value=0.0, max=24.0), HTML(value='')))"
      ]
     },
     "metadata": {},
     "output_type": "display_data"
    },
    {
     "name": "stdout",
     "output_type": "stream",
     "text": [
      "\n",
      "Saved object at /notebooks/Auto_Proofreading/Decomposition_Optimization/Debug_4/curr_branch_before_spines.pbz2\n",
      "File size is 0.03934 MB\n",
      "segment_name before cgal = L0_430\n"
     ]
    },
    {
     "data": {
      "application/vnd.jupyter.widget-view+json": {
       "model_id": "b6b6eedc43554ef9a027300a568afd4f",
       "version_major": 2,
       "version_minor": 0
      },
      "text/plain": [
       "HBox(children=(FloatProgress(value=0.0, max=4.0), HTML(value='')))"
      ]
     },
     "metadata": {},
     "output_type": "display_data"
    },
    {
     "name": "stdout",
     "output_type": "stream",
     "text": [
      "\n",
      "Saved object at /notebooks/Auto_Proofreading/Decomposition_Optimization/Debug_4/curr_branch_before_spines.pbz2\n",
      "File size is 0.28275 MB\n",
      "segment_name before cgal = L0_432\n"
     ]
    },
    {
     "data": {
      "application/vnd.jupyter.widget-view+json": {
       "model_id": "c307010e577b42b4a7930df9b5ade058",
       "version_major": 2,
       "version_minor": 0
      },
      "text/plain": [
       "HBox(children=(FloatProgress(value=0.0, max=14.0), HTML(value='')))"
      ]
     },
     "metadata": {},
     "output_type": "display_data"
    },
    {
     "name": "stdout",
     "output_type": "stream",
     "text": [
      "\n",
      "Saved object at /notebooks/Auto_Proofreading/Decomposition_Optimization/Debug_4/curr_branch_before_spines.pbz2\n",
      "File size is 0.100568 MB\n",
      "segment_name before cgal = L0_434\n"
     ]
    },
    {
     "data": {
      "application/vnd.jupyter.widget-view+json": {
       "model_id": "dec14fa82ef1454e84e78fd0a2db6345",
       "version_major": 2,
       "version_minor": 0
      },
      "text/plain": [
       "HBox(children=(FloatProgress(value=0.0, max=7.0), HTML(value='')))"
      ]
     },
     "metadata": {},
     "output_type": "display_data"
    },
    {
     "name": "stdout",
     "output_type": "stream",
     "text": [
      "\n",
      "Saved object at /notebooks/Auto_Proofreading/Decomposition_Optimization/Debug_4/curr_branch_before_spines.pbz2\n",
      "File size is 1.187362 MB\n",
      "segment_name before cgal = L0_436\n"
     ]
    },
    {
     "data": {
      "application/vnd.jupyter.widget-view+json": {
       "model_id": "4b7c84c20a2c4889b1a12ff2e21b6867",
       "version_major": 2,
       "version_minor": 0
      },
      "text/plain": [
       "HBox(children=(FloatProgress(value=0.0, max=46.0), HTML(value='')))"
      ]
     },
     "metadata": {},
     "output_type": "display_data"
    },
    {
     "name": "stdout",
     "output_type": "stream",
     "text": [
      "\n",
      "Saved object at /notebooks/Auto_Proofreading/Decomposition_Optimization/Debug_4/curr_branch_before_spines.pbz2\n",
      "File size is 0.474917 MB\n",
      "segment_name before cgal = L0_439\n"
     ]
    },
    {
     "data": {
      "application/vnd.jupyter.widget-view+json": {
       "model_id": "bc450995426c4d71b065c88286382ee8",
       "version_major": 2,
       "version_minor": 0
      },
      "text/plain": [
       "HBox(children=(FloatProgress(value=0.0, max=21.0), HTML(value='')))"
      ]
     },
     "metadata": {},
     "output_type": "display_data"
    },
    {
     "name": "stdout",
     "output_type": "stream",
     "text": [
      "\n",
      "Saved object at /notebooks/Auto_Proofreading/Decomposition_Optimization/Debug_4/curr_branch_before_spines.pbz2\n",
      "File size is 0.102488 MB\n",
      "segment_name before cgal = L0_441\n"
     ]
    },
    {
     "data": {
      "application/vnd.jupyter.widget-view+json": {
       "model_id": "6d34c3d84d754bc5bf5583525c15c67d",
       "version_major": 2,
       "version_minor": 0
      },
      "text/plain": [
       "HBox(children=(FloatProgress(value=0.0, max=9.0), HTML(value='')))"
      ]
     },
     "metadata": {},
     "output_type": "display_data"
    },
    {
     "name": "stdout",
     "output_type": "stream",
     "text": [
      "\n",
      "Saved object at /notebooks/Auto_Proofreading/Decomposition_Optimization/Debug_4/curr_branch_before_spines.pbz2\n",
      "File size is 0.564401 MB\n",
      "segment_name before cgal = L0_442\n"
     ]
    },
    {
     "data": {
      "application/vnd.jupyter.widget-view+json": {
       "model_id": "1b57ee7db55c49b5b2850c817ff0133f",
       "version_major": 2,
       "version_minor": 0
      },
      "text/plain": [
       "HBox(children=(FloatProgress(value=0.0, max=25.0), HTML(value='')))"
      ]
     },
     "metadata": {},
     "output_type": "display_data"
    },
    {
     "name": "stdout",
     "output_type": "stream",
     "text": [
      "\n",
      "Saved object at /notebooks/Auto_Proofreading/Decomposition_Optimization/Debug_4/curr_branch_before_spines.pbz2\n",
      "File size is 0.28937 MB\n",
      "segment_name before cgal = L0_443\n"
     ]
    },
    {
     "data": {
      "application/vnd.jupyter.widget-view+json": {
       "model_id": "726f8cdc97944d5097b4674149dd61ec",
       "version_major": 2,
       "version_minor": 0
      },
      "text/plain": [
       "HBox(children=(FloatProgress(value=0.0, max=12.0), HTML(value='')))"
      ]
     },
     "metadata": {},
     "output_type": "display_data"
    },
    {
     "name": "stdout",
     "output_type": "stream",
     "text": [
      "\n",
      "Saved object at /notebooks/Auto_Proofreading/Decomposition_Optimization/Debug_4/curr_branch_before_spines.pbz2\n",
      "File size is 0.032485 MB\n",
      "segment_name before cgal = L0_449\n"
     ]
    },
    {
     "data": {
      "application/vnd.jupyter.widget-view+json": {
       "model_id": "c83ce7fc90ab49ccb5df0dda89c31595",
       "version_major": 2,
       "version_minor": 0
      },
      "text/plain": [
       "HBox(children=(FloatProgress(value=0.0, max=3.0), HTML(value='')))"
      ]
     },
     "metadata": {},
     "output_type": "display_data"
    },
    {
     "name": "stdout",
     "output_type": "stream",
     "text": [
      "\n",
      "Saved object at /notebooks/Auto_Proofreading/Decomposition_Optimization/Debug_4/curr_branch_before_spines.pbz2\n",
      "File size is 0.142359 MB\n",
      "segment_name before cgal = L0_451\n"
     ]
    },
    {
     "data": {
      "application/vnd.jupyter.widget-view+json": {
       "model_id": "7bb05d09ddf945b88a1b882e11f37e43",
       "version_major": 2,
       "version_minor": 0
      },
      "text/plain": [
       "HBox(children=(FloatProgress(value=0.0, max=6.0), HTML(value='')))"
      ]
     },
     "metadata": {},
     "output_type": "display_data"
    },
    {
     "name": "stdout",
     "output_type": "stream",
     "text": [
      "\n",
      "Saved object at /notebooks/Auto_Proofreading/Decomposition_Optimization/Debug_4/curr_branch_before_spines.pbz2\n",
      "File size is 0.087248 MB\n",
      "segment_name before cgal = L0_453\n"
     ]
    },
    {
     "data": {
      "application/vnd.jupyter.widget-view+json": {
       "model_id": "ad51b51c59254211b6d63c3ca5b1b47d",
       "version_major": 2,
       "version_minor": 0
      },
      "text/plain": [
       "HBox(children=(FloatProgress(value=0.0, max=5.0), HTML(value='')))"
      ]
     },
     "metadata": {},
     "output_type": "display_data"
    },
    {
     "name": "stdout",
     "output_type": "stream",
     "text": [
      "\n",
      "Saved object at /notebooks/Auto_Proofreading/Decomposition_Optimization/Debug_4/curr_branch_before_spines.pbz2\n",
      "File size is 0.036369 MB\n",
      "segment_name before cgal = L0_455\n"
     ]
    },
    {
     "data": {
      "application/vnd.jupyter.widget-view+json": {
       "model_id": "75ed30e7625a4105b106b7f0bbd4ca96",
       "version_major": 2,
       "version_minor": 0
      },
      "text/plain": [
       "HBox(children=(FloatProgress(value=0.0, max=7.0), HTML(value='')))"
      ]
     },
     "metadata": {},
     "output_type": "display_data"
    },
    {
     "name": "stdout",
     "output_type": "stream",
     "text": [
      "\n",
      "Saved object at /notebooks/Auto_Proofreading/Decomposition_Optimization/Debug_4/curr_branch_before_spines.pbz2\n",
      "File size is 0.232627 MB\n",
      "segment_name before cgal = L0_465\n"
     ]
    },
    {
     "data": {
      "application/vnd.jupyter.widget-view+json": {
       "model_id": "440c3751177045c9845b3b023a748d38",
       "version_major": 2,
       "version_minor": 0
      },
      "text/plain": [
       "HBox(children=(FloatProgress(value=0.0, max=11.0), HTML(value='')))"
      ]
     },
     "metadata": {},
     "output_type": "display_data"
    },
    {
     "name": "stdout",
     "output_type": "stream",
     "text": [
      "\n",
      "Saved object at /notebooks/Auto_Proofreading/Decomposition_Optimization/Debug_4/curr_branch_before_spines.pbz2\n",
      "File size is 0.226516 MB\n",
      "segment_name before cgal = L0_467\n"
     ]
    },
    {
     "data": {
      "application/vnd.jupyter.widget-view+json": {
       "model_id": "3abfbbc416da44bdaaed0a528c69f5c3",
       "version_major": 2,
       "version_minor": 0
      },
      "text/plain": [
       "HBox(children=(FloatProgress(value=0.0, max=13.0), HTML(value='')))"
      ]
     },
     "metadata": {},
     "output_type": "display_data"
    },
    {
     "name": "stdout",
     "output_type": "stream",
     "text": [
      "\n",
      "Saved object at /notebooks/Auto_Proofreading/Decomposition_Optimization/Debug_4/curr_branch_before_spines.pbz2\n",
      "File size is 0.33457 MB\n",
      "segment_name before cgal = L0_468\n"
     ]
    },
    {
     "data": {
      "application/vnd.jupyter.widget-view+json": {
       "model_id": "669d2665cc6a40b6ad1a0a4df0f32446",
       "version_major": 2,
       "version_minor": 0
      },
      "text/plain": [
       "HBox(children=(FloatProgress(value=0.0, max=20.0), HTML(value='')))"
      ]
     },
     "metadata": {},
     "output_type": "display_data"
    },
    {
     "name": "stdout",
     "output_type": "stream",
     "text": [
      "\n",
      "Saved object at /notebooks/Auto_Proofreading/Decomposition_Optimization/Debug_4/curr_branch_before_spines.pbz2\n",
      "File size is 0.020323 MB\n",
      "segment_name before cgal = L0_470\n"
     ]
    },
    {
     "data": {
      "application/vnd.jupyter.widget-view+json": {
       "model_id": "ee415319f14a459a90a1b158907e260a",
       "version_major": 2,
       "version_minor": 0
      },
      "text/plain": [
       "HBox(children=(FloatProgress(value=0.0, max=3.0), HTML(value='')))"
      ]
     },
     "metadata": {},
     "output_type": "display_data"
    },
    {
     "name": "stdout",
     "output_type": "stream",
     "text": [
      "\n",
      "Saved object at /notebooks/Auto_Proofreading/Decomposition_Optimization/Debug_4/curr_branch_before_spines.pbz2\n",
      "File size is 0.065306 MB\n",
      "segment_name before cgal = L0_477\n"
     ]
    },
    {
     "data": {
      "application/vnd.jupyter.widget-view+json": {
       "model_id": "343c7a03c1c049cdbb28b253a3a011f5",
       "version_major": 2,
       "version_minor": 0
      },
      "text/plain": [
       "HBox(children=(FloatProgress(value=0.0, max=3.0), HTML(value='')))"
      ]
     },
     "metadata": {},
     "output_type": "display_data"
    },
    {
     "name": "stdout",
     "output_type": "stream",
     "text": [
      "\n",
      "Saved object at /notebooks/Auto_Proofreading/Decomposition_Optimization/Debug_4/curr_branch_before_spines.pbz2\n",
      "File size is 0.433931 MB\n",
      "segment_name before cgal = L0_479\n"
     ]
    },
    {
     "data": {
      "application/vnd.jupyter.widget-view+json": {
       "model_id": "f177058b36e8424b814aa73f92f3dd5b",
       "version_major": 2,
       "version_minor": 0
      },
      "text/plain": [
       "HBox(children=(FloatProgress(value=0.0, max=17.0), HTML(value='')))"
      ]
     },
     "metadata": {},
     "output_type": "display_data"
    },
    {
     "name": "stdout",
     "output_type": "stream",
     "text": [
      "\n",
      "Saved object at /notebooks/Auto_Proofreading/Decomposition_Optimization/Debug_4/curr_branch_before_spines.pbz2\n",
      "File size is 0.071127 MB\n",
      "segment_name before cgal = L0_480\n"
     ]
    },
    {
     "data": {
      "application/vnd.jupyter.widget-view+json": {
       "model_id": "01a16f4671a94ec68c44748d52fbbbae",
       "version_major": 2,
       "version_minor": 0
      },
      "text/plain": [
       "HBox(children=(FloatProgress(value=0.0, max=5.0), HTML(value='')))"
      ]
     },
     "metadata": {},
     "output_type": "display_data"
    },
    {
     "name": "stdout",
     "output_type": "stream",
     "text": [
      "\n",
      "Saved object at /notebooks/Auto_Proofreading/Decomposition_Optimization/Debug_4/curr_branch_before_spines.pbz2\n",
      "File size is 0.745085 MB\n",
      "segment_name before cgal = L0_481\n"
     ]
    },
    {
     "data": {
      "application/vnd.jupyter.widget-view+json": {
       "model_id": "9f743d8d823b47f1974d34659227c882",
       "version_major": 2,
       "version_minor": 0
      },
      "text/plain": [
       "HBox(children=(FloatProgress(value=0.0, max=32.0), HTML(value='')))"
      ]
     },
     "metadata": {},
     "output_type": "display_data"
    },
    {
     "name": "stdout",
     "output_type": "stream",
     "text": [
      "\n",
      "Saved object at /notebooks/Auto_Proofreading/Decomposition_Optimization/Debug_4/curr_branch_before_spines.pbz2\n",
      "File size is 0.041098 MB\n",
      "segment_name before cgal = L0_483\n"
     ]
    },
    {
     "data": {
      "application/vnd.jupyter.widget-view+json": {
       "model_id": "7e21084e04084557afec084a8347bd0a",
       "version_major": 2,
       "version_minor": 0
      },
      "text/plain": [
       "HBox(children=(FloatProgress(value=0.0, max=4.0), HTML(value='')))"
      ]
     },
     "metadata": {},
     "output_type": "display_data"
    },
    {
     "name": "stdout",
     "output_type": "stream",
     "text": [
      "\n",
      "Saved object at /notebooks/Auto_Proofreading/Decomposition_Optimization/Debug_4/curr_branch_before_spines.pbz2\n",
      "File size is 0.600732 MB\n",
      "segment_name before cgal = L0_494\n"
     ]
    },
    {
     "data": {
      "application/vnd.jupyter.widget-view+json": {
       "model_id": "93f135f6c9ca4ef9b8d4df65a9b0bcdd",
       "version_major": 2,
       "version_minor": 0
      },
      "text/plain": [
       "HBox(children=(FloatProgress(value=0.0, max=21.0), HTML(value='')))"
      ]
     },
     "metadata": {},
     "output_type": "display_data"
    },
    {
     "name": "stdout",
     "output_type": "stream",
     "text": [
      "\n",
      "Saved object at /notebooks/Auto_Proofreading/Decomposition_Optimization/Debug_4/curr_branch_before_spines.pbz2\n",
      "File size is 0.522419 MB\n",
      "segment_name before cgal = L0_495\n"
     ]
    },
    {
     "data": {
      "application/vnd.jupyter.widget-view+json": {
       "model_id": "3100dd6d621e4d1f8f3f7020a848087c",
       "version_major": 2,
       "version_minor": 0
      },
      "text/plain": [
       "HBox(children=(FloatProgress(value=0.0, max=35.0), HTML(value='')))"
      ]
     },
     "metadata": {},
     "output_type": "display_data"
    },
    {
     "name": "stdout",
     "output_type": "stream",
     "text": [
      "\n",
      "Saved object at /notebooks/Auto_Proofreading/Decomposition_Optimization/Debug_4/curr_branch_before_spines.pbz2\n",
      "File size is 0.169359 MB\n",
      "segment_name before cgal = L0_498\n"
     ]
    },
    {
     "data": {
      "application/vnd.jupyter.widget-view+json": {
       "model_id": "3d43bc15942443e2829ef1ed2f1ac043",
       "version_major": 2,
       "version_minor": 0
      },
      "text/plain": [
       "HBox(children=(FloatProgress(value=0.0, max=10.0), HTML(value='')))"
      ]
     },
     "metadata": {},
     "output_type": "display_data"
    },
    {
     "name": "stdout",
     "output_type": "stream",
     "text": [
      "\n",
      "Saved object at /notebooks/Auto_Proofreading/Decomposition_Optimization/Debug_4/curr_branch_before_spines.pbz2\n",
      "File size is 0.656561 MB\n",
      "segment_name before cgal = L0_502\n"
     ]
    },
    {
     "data": {
      "application/vnd.jupyter.widget-view+json": {
       "model_id": "fd900d13bcd6476a8d250b1fad6bd779",
       "version_major": 2,
       "version_minor": 0
      },
      "text/plain": [
       "HBox(children=(FloatProgress(value=0.0, max=36.0), HTML(value='')))"
      ]
     },
     "metadata": {},
     "output_type": "display_data"
    },
    {
     "name": "stdout",
     "output_type": "stream",
     "text": [
      "\n",
      "Saved object at /notebooks/Auto_Proofreading/Decomposition_Optimization/Debug_4/curr_branch_before_spines.pbz2\n",
      "File size is 0.272905 MB\n",
      "segment_name before cgal = L0_506\n"
     ]
    },
    {
     "data": {
      "application/vnd.jupyter.widget-view+json": {
       "model_id": "7af692ef920244ab8ba55c298818885b",
       "version_major": 2,
       "version_minor": 0
      },
      "text/plain": [
       "HBox(children=(FloatProgress(value=0.0, max=17.0), HTML(value='')))"
      ]
     },
     "metadata": {},
     "output_type": "display_data"
    },
    {
     "name": "stdout",
     "output_type": "stream",
     "text": [
      "\n",
      "Saved object at /notebooks/Auto_Proofreading/Decomposition_Optimization/Debug_4/curr_branch_before_spines.pbz2\n",
      "File size is 0.970559 MB\n",
      "segment_name before cgal = L0_533\n"
     ]
    },
    {
     "data": {
      "application/vnd.jupyter.widget-view+json": {
       "model_id": "5c84ffbbc70a46349d7c3cab4f2eb6b9",
       "version_major": 2,
       "version_minor": 0
      },
      "text/plain": [
       "HBox(children=(FloatProgress(value=0.0, max=47.0), HTML(value='')))"
      ]
     },
     "metadata": {},
     "output_type": "display_data"
    },
    {
     "name": "stdout",
     "output_type": "stream",
     "text": [
      "\n",
      "Saved object at /notebooks/Auto_Proofreading/Decomposition_Optimization/Debug_4/curr_branch_before_spines.pbz2\n",
      "File size is 0.420724 MB\n",
      "segment_name before cgal = L0_534\n"
     ]
    },
    {
     "data": {
      "application/vnd.jupyter.widget-view+json": {
       "model_id": "95122df4cc6f427798edd155b02bdee8",
       "version_major": 2,
       "version_minor": 0
      },
      "text/plain": [
       "HBox(children=(FloatProgress(value=0.0, max=30.0), HTML(value='')))"
      ]
     },
     "metadata": {},
     "output_type": "display_data"
    },
    {
     "name": "stdout",
     "output_type": "stream",
     "text": [
      "\n",
      "Saved object at /notebooks/Auto_Proofreading/Decomposition_Optimization/Debug_4/curr_branch_before_spines.pbz2\n",
      "File size is 0.130675 MB\n",
      "segment_name before cgal = L0_541\n"
     ]
    },
    {
     "data": {
      "application/vnd.jupyter.widget-view+json": {
       "model_id": "a1bd1aff68bf4411bea7fbe77a7d5c85",
       "version_major": 2,
       "version_minor": 0
      },
      "text/plain": [
       "HBox(children=(FloatProgress(value=0.0, max=9.0), HTML(value='')))"
      ]
     },
     "metadata": {},
     "output_type": "display_data"
    },
    {
     "name": "stdout",
     "output_type": "stream",
     "text": [
      "\n",
      "Saved object at /notebooks/Auto_Proofreading/Decomposition_Optimization/Debug_4/curr_branch_before_spines.pbz2\n",
      "File size is 0.02193 MB\n",
      "segment_name before cgal = L0_544\n"
     ]
    },
    {
     "data": {
      "application/vnd.jupyter.widget-view+json": {
       "model_id": "5beacdea182f4ded9f2231278823bb5e",
       "version_major": 2,
       "version_minor": 0
      },
      "text/plain": [
       "HBox(children=(FloatProgress(value=0.0, max=2.0), HTML(value='')))"
      ]
     },
     "metadata": {},
     "output_type": "display_data"
    },
    {
     "name": "stdout",
     "output_type": "stream",
     "text": [
      "\n",
      "Saved object at /notebooks/Auto_Proofreading/Decomposition_Optimization/Debug_4/curr_branch_before_spines.pbz2\n",
      "File size is 0.177878 MB\n",
      "segment_name before cgal = L0_545\n"
     ]
    },
    {
     "data": {
      "application/vnd.jupyter.widget-view+json": {
       "model_id": "63df026586f7411695ee7deb68d6b9a4",
       "version_major": 2,
       "version_minor": 0
      },
      "text/plain": [
       "HBox(children=(FloatProgress(value=0.0, max=18.0), HTML(value='')))"
      ]
     },
     "metadata": {},
     "output_type": "display_data"
    },
    {
     "name": "stdout",
     "output_type": "stream",
     "text": [
      "\n",
      "Saved object at /notebooks/Auto_Proofreading/Decomposition_Optimization/Debug_4/curr_branch_before_spines.pbz2\n",
      "File size is 0.067403 MB\n",
      "segment_name before cgal = L0_546\n"
     ]
    },
    {
     "data": {
      "application/vnd.jupyter.widget-view+json": {
       "model_id": "c333870919c94ab789229650c2a7b46e",
       "version_major": 2,
       "version_minor": 0
      },
      "text/plain": [
       "HBox(children=(FloatProgress(value=0.0, max=5.0), HTML(value='')))"
      ]
     },
     "metadata": {},
     "output_type": "display_data"
    },
    {
     "name": "stdout",
     "output_type": "stream",
     "text": [
      "\n",
      "Saved object at /notebooks/Auto_Proofreading/Decomposition_Optimization/Debug_4/curr_branch_before_spines.pbz2\n",
      "File size is 0.330856 MB\n",
      "segment_name before cgal = L0_549\n"
     ]
    },
    {
     "data": {
      "application/vnd.jupyter.widget-view+json": {
       "model_id": "d4ce24b5dbe44a01aad2cea27b047507",
       "version_major": 2,
       "version_minor": 0
      },
      "text/plain": [
       "HBox(children=(FloatProgress(value=0.0, max=20.0), HTML(value='')))"
      ]
     },
     "metadata": {},
     "output_type": "display_data"
    },
    {
     "name": "stdout",
     "output_type": "stream",
     "text": [
      "\n",
      "Saved object at /notebooks/Auto_Proofreading/Decomposition_Optimization/Debug_4/curr_branch_before_spines.pbz2\n",
      "File size is 0.13154 MB\n",
      "segment_name before cgal = L0_550\n"
     ]
    },
    {
     "data": {
      "application/vnd.jupyter.widget-view+json": {
       "model_id": "5e97d8e9e86c4034a77c0eabc2467512",
       "version_major": 2,
       "version_minor": 0
      },
      "text/plain": [
       "HBox(children=(FloatProgress(value=0.0, max=11.0), HTML(value='')))"
      ]
     },
     "metadata": {},
     "output_type": "display_data"
    },
    {
     "name": "stdout",
     "output_type": "stream",
     "text": [
      "\n",
      "Saved object at /notebooks/Auto_Proofreading/Decomposition_Optimization/Debug_4/curr_branch_before_spines.pbz2\n",
      "File size is 0.110102 MB\n",
      "segment_name before cgal = L0_560\n"
     ]
    },
    {
     "data": {
      "application/vnd.jupyter.widget-view+json": {
       "model_id": "803324be9f484a60a237d92ca3a80d34",
       "version_major": 2,
       "version_minor": 0
      },
      "text/plain": [
       "HBox(children=(FloatProgress(value=0.0, max=10.0), HTML(value='')))"
      ]
     },
     "metadata": {},
     "output_type": "display_data"
    },
    {
     "name": "stdout",
     "output_type": "stream",
     "text": [
      "\n",
      "Saved object at /notebooks/Auto_Proofreading/Decomposition_Optimization/Debug_4/curr_branch_before_spines.pbz2\n",
      "File size is 0.234275 MB\n",
      "segment_name before cgal = L0_565\n"
     ]
    },
    {
     "data": {
      "application/vnd.jupyter.widget-view+json": {
       "model_id": "c9df51bd844540c8905bbffbbb3d2356",
       "version_major": 2,
       "version_minor": 0
      },
      "text/plain": [
       "HBox(children=(FloatProgress(value=0.0, max=17.0), HTML(value='')))"
      ]
     },
     "metadata": {},
     "output_type": "display_data"
    },
    {
     "name": "stdout",
     "output_type": "stream",
     "text": [
      "\n",
      "Saved object at /notebooks/Auto_Proofreading/Decomposition_Optimization/Debug_4/curr_branch_before_spines.pbz2\n",
      "File size is 0.022192 MB\n",
      "segment_name before cgal = L0_566\n"
     ]
    },
    {
     "data": {
      "application/vnd.jupyter.widget-view+json": {
       "model_id": "1fad07ac1ee945bab3add5b9750d82f2",
       "version_major": 2,
       "version_minor": 0
      },
      "text/plain": [
       "HBox(children=(FloatProgress(value=0.0, max=3.0), HTML(value='')))"
      ]
     },
     "metadata": {},
     "output_type": "display_data"
    },
    {
     "name": "stdout",
     "output_type": "stream",
     "text": [
      "\n",
      "Saved object at /notebooks/Auto_Proofreading/Decomposition_Optimization/Debug_4/curr_branch_before_spines.pbz2\n",
      "File size is 0.076061 MB\n",
      "segment_name before cgal = L0_570\n"
     ]
    },
    {
     "data": {
      "application/vnd.jupyter.widget-view+json": {
       "model_id": "58f365478d5e4059be01d980fe46c963",
       "version_major": 2,
       "version_minor": 0
      },
      "text/plain": [
       "HBox(children=(FloatProgress(value=0.0, max=8.0), HTML(value='')))"
      ]
     },
     "metadata": {},
     "output_type": "display_data"
    },
    {
     "name": "stdout",
     "output_type": "stream",
     "text": [
      "\n",
      "Saved object at /notebooks/Auto_Proofreading/Decomposition_Optimization/Debug_4/curr_branch_before_spines.pbz2\n",
      "File size is 0.089322 MB\n",
      "segment_name before cgal = L0_586\n"
     ]
    },
    {
     "data": {
      "application/vnd.jupyter.widget-view+json": {
       "model_id": "34a59166ca5f4c7b9a2db02520c541f9",
       "version_major": 2,
       "version_minor": 0
      },
      "text/plain": [
       "HBox(children=(FloatProgress(value=0.0, max=5.0), HTML(value='')))"
      ]
     },
     "metadata": {},
     "output_type": "display_data"
    },
    {
     "name": "stdout",
     "output_type": "stream",
     "text": [
      "\n",
      "Saved object at /notebooks/Auto_Proofreading/Decomposition_Optimization/Debug_4/curr_branch_before_spines.pbz2\n",
      "File size is 0.11507 MB\n",
      "segment_name before cgal = L0_597\n"
     ]
    },
    {
     "data": {
      "application/vnd.jupyter.widget-view+json": {
       "model_id": "083364758a75461b86f3f5d9f52f0798",
       "version_major": 2,
       "version_minor": 0
      },
      "text/plain": [
       "HBox(children=(FloatProgress(value=0.0, max=11.0), HTML(value='')))"
      ]
     },
     "metadata": {},
     "output_type": "display_data"
    },
    {
     "name": "stdout",
     "output_type": "stream",
     "text": [
      "\n",
      "Saved object at /notebooks/Auto_Proofreading/Decomposition_Optimization/Debug_4/curr_branch_before_spines.pbz2\n",
      "File size is 0.198112 MB\n",
      "segment_name before cgal = L0_599\n"
     ]
    },
    {
     "data": {
      "application/vnd.jupyter.widget-view+json": {
       "model_id": "3f34a48319b54dd4a9bf87f4efe875ff",
       "version_major": 2,
       "version_minor": 0
      },
      "text/plain": [
       "HBox(children=(FloatProgress(value=0.0, max=13.0), HTML(value='')))"
      ]
     },
     "metadata": {},
     "output_type": "display_data"
    },
    {
     "name": "stdout",
     "output_type": "stream",
     "text": [
      "\n",
      "Saved object at /notebooks/Auto_Proofreading/Decomposition_Optimization/Debug_4/curr_branch_before_spines.pbz2\n",
      "File size is 0.021684 MB\n",
      "segment_name before cgal = L0_601\n"
     ]
    },
    {
     "data": {
      "application/vnd.jupyter.widget-view+json": {
       "model_id": "52be3e93ba9a4fa28f862b18f48177a3",
       "version_major": 2,
       "version_minor": 0
      },
      "text/plain": [
       "HBox(children=(FloatProgress(value=0.0, max=7.0), HTML(value='')))"
      ]
     },
     "metadata": {},
     "output_type": "display_data"
    },
    {
     "name": "stdout",
     "output_type": "stream",
     "text": [
      "\n",
      "Saved object at /notebooks/Auto_Proofreading/Decomposition_Optimization/Debug_4/curr_branch_before_spines.pbz2\n",
      "File size is 0.071711 MB\n",
      "segment_name before cgal = L0_604\n"
     ]
    },
    {
     "data": {
      "application/vnd.jupyter.widget-view+json": {
       "model_id": "ba9c2ca8294145a29a61dd56ea335f14",
       "version_major": 2,
       "version_minor": 0
      },
      "text/plain": [
       "HBox(children=(FloatProgress(value=0.0, max=7.0), HTML(value='')))"
      ]
     },
     "metadata": {},
     "output_type": "display_data"
    },
    {
     "name": "stdout",
     "output_type": "stream",
     "text": [
      "\n",
      "Saved object at /notebooks/Auto_Proofreading/Decomposition_Optimization/Debug_4/curr_branch_before_spines.pbz2\n",
      "File size is 1.711487 MB\n",
      "segment_name before cgal = L1_1\n"
     ]
    },
    {
     "data": {
      "application/vnd.jupyter.widget-view+json": {
       "model_id": "23068a578f674eab9b263876b9242d88",
       "version_major": 2,
       "version_minor": 0
      },
      "text/plain": [
       "HBox(children=(FloatProgress(value=0.0, max=118.0), HTML(value='')))"
      ]
     },
     "metadata": {},
     "output_type": "display_data"
    },
    {
     "name": "stdout",
     "output_type": "stream",
     "text": [
      "\n",
      "Saved object at /notebooks/Auto_Proofreading/Decomposition_Optimization/Debug_4/curr_branch_before_spines.pbz2\n",
      "File size is 2.630314 MB\n",
      "segment_name before cgal = L1_2\n"
     ]
    },
    {
     "data": {
      "application/vnd.jupyter.widget-view+json": {
       "model_id": "bc817d1898b749c8b09a5191c8423f39",
       "version_major": 2,
       "version_minor": 0
      },
      "text/plain": [
       "HBox(children=(FloatProgress(value=0.0, max=174.0), HTML(value='')))"
      ]
     },
     "metadata": {},
     "output_type": "display_data"
    },
    {
     "name": "stdout",
     "output_type": "stream",
     "text": [
      "\n",
      "Saved object at /notebooks/Auto_Proofreading/Decomposition_Optimization/Debug_4/curr_branch_before_spines.pbz2\n",
      "File size is 2.231167 MB\n",
      "segment_name before cgal = L1_3\n"
     ]
    },
    {
     "data": {
      "application/vnd.jupyter.widget-view+json": {
       "model_id": "403e35094f7744079eb48de913019132",
       "version_major": 2,
       "version_minor": 0
      },
      "text/plain": [
       "HBox(children=(FloatProgress(value=0.0, max=160.0), HTML(value='')))"
      ]
     },
     "metadata": {},
     "output_type": "display_data"
    },
    {
     "name": "stdout",
     "output_type": "stream",
     "text": [
      "\n",
      "Saved object at /notebooks/Auto_Proofreading/Decomposition_Optimization/Debug_4/curr_branch_before_spines.pbz2\n",
      "File size is 1.597288 MB\n",
      "segment_name before cgal = L1_7\n"
     ]
    },
    {
     "data": {
      "application/vnd.jupyter.widget-view+json": {
       "model_id": "4b8ed153c76c4559bec8ff6e6ac83864",
       "version_major": 2,
       "version_minor": 0
      },
      "text/plain": [
       "HBox(children=(FloatProgress(value=0.0, max=114.0), HTML(value='')))"
      ]
     },
     "metadata": {},
     "output_type": "display_data"
    },
    {
     "name": "stdout",
     "output_type": "stream",
     "text": [
      "\n",
      "Saved object at /notebooks/Auto_Proofreading/Decomposition_Optimization/Debug_4/curr_branch_before_spines.pbz2\n",
      "File size is 2.291231 MB\n",
      "segment_name before cgal = L1_11\n"
     ]
    },
    {
     "data": {
      "application/vnd.jupyter.widget-view+json": {
       "model_id": "2ef9a648c95643f2bc8f3c6ba6e089cb",
       "version_major": 2,
       "version_minor": 0
      },
      "text/plain": [
       "HBox(children=(FloatProgress(value=0.0, max=161.0), HTML(value='')))"
      ]
     },
     "metadata": {},
     "output_type": "display_data"
    },
    {
     "name": "stdout",
     "output_type": "stream",
     "text": [
      "\n",
      "Saved object at /notebooks/Auto_Proofreading/Decomposition_Optimization/Debug_4/curr_branch_before_spines.pbz2\n",
      "File size is 0.864506 MB\n",
      "segment_name before cgal = L1_12\n"
     ]
    },
    {
     "data": {
      "application/vnd.jupyter.widget-view+json": {
       "model_id": "e4fdab449c9f4741b6674d278fbd3408",
       "version_major": 2,
       "version_minor": 0
      },
      "text/plain": [
       "HBox(children=(FloatProgress(value=0.0, max=53.0), HTML(value='')))"
      ]
     },
     "metadata": {},
     "output_type": "display_data"
    },
    {
     "name": "stdout",
     "output_type": "stream",
     "text": [
      "\n",
      "Saved object at /notebooks/Auto_Proofreading/Decomposition_Optimization/Debug_4/curr_branch_before_spines.pbz2\n",
      "File size is 1.078979 MB\n",
      "segment_name before cgal = L1_14\n"
     ]
    },
    {
     "data": {
      "application/vnd.jupyter.widget-view+json": {
       "model_id": "7230f32fbde54f69a89376bfd5488ac9",
       "version_major": 2,
       "version_minor": 0
      },
      "text/plain": [
       "HBox(children=(FloatProgress(value=0.0, max=72.0), HTML(value='')))"
      ]
     },
     "metadata": {},
     "output_type": "display_data"
    },
    {
     "name": "stdout",
     "output_type": "stream",
     "text": [
      "\n",
      "Saved object at /notebooks/Auto_Proofreading/Decomposition_Optimization/Debug_4/curr_branch_before_spines.pbz2\n",
      "File size is 0.063995 MB\n",
      "segment_name before cgal = L1_16\n"
     ]
    },
    {
     "data": {
      "application/vnd.jupyter.widget-view+json": {
       "model_id": "bce9080bbd6e45efaa73f07f61eb3158",
       "version_major": 2,
       "version_minor": 0
      },
      "text/plain": [
       "HBox(children=(FloatProgress(value=0.0, max=18.0), HTML(value='')))"
      ]
     },
     "metadata": {},
     "output_type": "display_data"
    },
    {
     "name": "stdout",
     "output_type": "stream",
     "text": [
      "\n",
      "Saved object at /notebooks/Auto_Proofreading/Decomposition_Optimization/Debug_4/curr_branch_before_spines.pbz2\n",
      "File size is 0.308807 MB\n",
      "segment_name before cgal = L1_17\n"
     ]
    },
    {
     "data": {
      "application/vnd.jupyter.widget-view+json": {
       "model_id": "7442325d480040c8a6e52ae259ad8b4e",
       "version_major": 2,
       "version_minor": 0
      },
      "text/plain": [
       "HBox(children=(FloatProgress(value=0.0, max=17.0), HTML(value='')))"
      ]
     },
     "metadata": {},
     "output_type": "display_data"
    },
    {
     "name": "stdout",
     "output_type": "stream",
     "text": [
      "\n",
      "Saved object at /notebooks/Auto_Proofreading/Decomposition_Optimization/Debug_4/curr_branch_before_spines.pbz2\n",
      "File size is 0.203474 MB\n",
      "segment_name before cgal = L1_34\n"
     ]
    },
    {
     "data": {
      "application/vnd.jupyter.widget-view+json": {
       "model_id": "bd19dde71534497387797e1bfb9e90b0",
       "version_major": 2,
       "version_minor": 0
      },
      "text/plain": [
       "HBox(children=(FloatProgress(value=0.0, max=18.0), HTML(value='')))"
      ]
     },
     "metadata": {},
     "output_type": "display_data"
    },
    {
     "name": "stdout",
     "output_type": "stream",
     "text": [
      "\n",
      "Saved object at /notebooks/Auto_Proofreading/Decomposition_Optimization/Debug_4/curr_branch_before_spines.pbz2\n",
      "File size is 0.416112 MB\n",
      "segment_name before cgal = L1_36\n"
     ]
    },
    {
     "data": {
      "application/vnd.jupyter.widget-view+json": {
       "model_id": "9616d4978b184ce3851e79ec78b0415e",
       "version_major": 2,
       "version_minor": 0
      },
      "text/plain": [
       "HBox(children=(FloatProgress(value=0.0, max=36.0), HTML(value='')))"
      ]
     },
     "metadata": {},
     "output_type": "display_data"
    },
    {
     "name": "stdout",
     "output_type": "stream",
     "text": [
      "\n",
      "Saved object at /notebooks/Auto_Proofreading/Decomposition_Optimization/Debug_4/curr_branch_before_spines.pbz2\n",
      "File size is 0.064915 MB\n",
      "segment_name before cgal = L1_37\n"
     ]
    },
    {
     "data": {
      "application/vnd.jupyter.widget-view+json": {
       "model_id": "df7b301ae53746c99fc82f7afbc7550b",
       "version_major": 2,
       "version_minor": 0
      },
      "text/plain": [
       "HBox(children=(FloatProgress(value=0.0, max=4.0), HTML(value='')))"
      ]
     },
     "metadata": {},
     "output_type": "display_data"
    },
    {
     "name": "stdout",
     "output_type": "stream",
     "text": [
      "\n",
      "Saved object at /notebooks/Auto_Proofreading/Decomposition_Optimization/Debug_4/curr_branch_before_spines.pbz2\n",
      "File size is 0.751631 MB\n",
      "segment_name before cgal = L1_38\n"
     ]
    },
    {
     "data": {
      "application/vnd.jupyter.widget-view+json": {
       "model_id": "7ccf2860385d4dd680342cb62f522e56",
       "version_major": 2,
       "version_minor": 0
      },
      "text/plain": [
       "HBox(children=(FloatProgress(value=0.0, max=48.0), HTML(value='')))"
      ]
     },
     "metadata": {},
     "output_type": "display_data"
    },
    {
     "name": "stdout",
     "output_type": "stream",
     "text": [
      "\n",
      "Saved object at /notebooks/Auto_Proofreading/Decomposition_Optimization/Debug_4/curr_branch_before_spines.pbz2\n",
      "File size is 0.349945 MB\n",
      "segment_name before cgal = L1_39\n"
     ]
    },
    {
     "data": {
      "application/vnd.jupyter.widget-view+json": {
       "model_id": "48799d579cf943f5b7ac38b9d322ea2a",
       "version_major": 2,
       "version_minor": 0
      },
      "text/plain": [
       "HBox(children=(FloatProgress(value=0.0, max=22.0), HTML(value='')))"
      ]
     },
     "metadata": {},
     "output_type": "display_data"
    },
    {
     "name": "stdout",
     "output_type": "stream",
     "text": [
      "\n",
      "Saved object at /notebooks/Auto_Proofreading/Decomposition_Optimization/Debug_4/curr_branch_before_spines.pbz2\n",
      "File size is 1.903748 MB\n",
      "segment_name before cgal = L1_40\n"
     ]
    },
    {
     "data": {
      "application/vnd.jupyter.widget-view+json": {
       "model_id": "8c7da5a217894c4cb36a3156ccae147f",
       "version_major": 2,
       "version_minor": 0
      },
      "text/plain": [
       "HBox(children=(FloatProgress(value=0.0, max=132.0), HTML(value='')))"
      ]
     },
     "metadata": {},
     "output_type": "display_data"
    },
    {
     "name": "stdout",
     "output_type": "stream",
     "text": [
      "\n",
      "Saved object at /notebooks/Auto_Proofreading/Decomposition_Optimization/Debug_4/curr_branch_before_spines.pbz2\n",
      "File size is 0.594871 MB\n",
      "segment_name before cgal = L1_41\n"
     ]
    },
    {
     "data": {
      "application/vnd.jupyter.widget-view+json": {
       "model_id": "cb93bc402fb54d55902934c00a3072a7",
       "version_major": 2,
       "version_minor": 0
      },
      "text/plain": [
       "HBox(children=(FloatProgress(value=0.0, max=41.0), HTML(value='')))"
      ]
     },
     "metadata": {},
     "output_type": "display_data"
    },
    {
     "name": "stdout",
     "output_type": "stream",
     "text": [
      "\n",
      "Saved object at /notebooks/Auto_Proofreading/Decomposition_Optimization/Debug_4/curr_branch_before_spines.pbz2\n",
      "File size is 0.403336 MB\n",
      "segment_name before cgal = L1_42\n"
     ]
    },
    {
     "data": {
      "application/vnd.jupyter.widget-view+json": {
       "model_id": "4c8c384ed44d4aba974af04dbcb7e1b4",
       "version_major": 2,
       "version_minor": 0
      },
      "text/plain": [
       "HBox(children=(FloatProgress(value=0.0, max=33.0), HTML(value='')))"
      ]
     },
     "metadata": {},
     "output_type": "display_data"
    },
    {
     "name": "stdout",
     "output_type": "stream",
     "text": [
      "\n",
      "Saved object at /notebooks/Auto_Proofreading/Decomposition_Optimization/Debug_4/curr_branch_before_spines.pbz2\n",
      "File size is 2.143629 MB\n",
      "segment_name before cgal = L1_43\n"
     ]
    },
    {
     "data": {
      "application/vnd.jupyter.widget-view+json": {
       "model_id": "a557e48959394d77b1bd38c7101db0d6",
       "version_major": 2,
       "version_minor": 0
      },
      "text/plain": [
       "HBox(children=(FloatProgress(value=0.0, max=149.0), HTML(value='')))"
      ]
     },
     "metadata": {},
     "output_type": "display_data"
    },
    {
     "name": "stdout",
     "output_type": "stream",
     "text": [
      "\n",
      "Saved object at /notebooks/Auto_Proofreading/Decomposition_Optimization/Debug_4/curr_branch_before_spines.pbz2\n",
      "File size is 1.883005 MB\n",
      "segment_name before cgal = L1_44\n"
     ]
    },
    {
     "data": {
      "application/vnd.jupyter.widget-view+json": {
       "model_id": "1e09f3388b16406d917fe39e79d3b817",
       "version_major": 2,
       "version_minor": 0
      },
      "text/plain": [
       "HBox(children=(FloatProgress(value=0.0, max=129.0), HTML(value='')))"
      ]
     },
     "metadata": {},
     "output_type": "display_data"
    },
    {
     "name": "stdout",
     "output_type": "stream",
     "text": [
      "\n",
      "Saved object at /notebooks/Auto_Proofreading/Decomposition_Optimization/Debug_4/curr_branch_before_spines.pbz2\n",
      "File size is 2.203551 MB\n",
      "segment_name before cgal = L1_46\n"
     ]
    },
    {
     "data": {
      "application/vnd.jupyter.widget-view+json": {
       "model_id": "651596797ce0410e83a282574e4196de",
       "version_major": 2,
       "version_minor": 0
      },
      "text/plain": [
       "HBox(children=(FloatProgress(value=0.0, max=159.0), HTML(value='')))"
      ]
     },
     "metadata": {},
     "output_type": "display_data"
    },
    {
     "name": "stdout",
     "output_type": "stream",
     "text": [
      "\n",
      "Saved object at /notebooks/Auto_Proofreading/Decomposition_Optimization/Debug_4/curr_branch_before_spines.pbz2\n",
      "File size is 0.53154 MB\n",
      "segment_name before cgal = L1_47\n"
     ]
    },
    {
     "data": {
      "application/vnd.jupyter.widget-view+json": {
       "model_id": "846ad5954c5047b99a2a46d96562116a",
       "version_major": 2,
       "version_minor": 0
      },
      "text/plain": [
       "HBox(children=(FloatProgress(value=0.0, max=50.0), HTML(value='')))"
      ]
     },
     "metadata": {},
     "output_type": "display_data"
    },
    {
     "name": "stdout",
     "output_type": "stream",
     "text": [
      "\n",
      "Saved object at /notebooks/Auto_Proofreading/Decomposition_Optimization/Debug_4/curr_branch_before_spines.pbz2\n",
      "File size is 0.702462 MB\n",
      "segment_name before cgal = L1_48\n"
     ]
    },
    {
     "data": {
      "application/vnd.jupyter.widget-view+json": {
       "model_id": "18286aad7e3242c085a38d510b77ea1c",
       "version_major": 2,
       "version_minor": 0
      },
      "text/plain": [
       "HBox(children=(FloatProgress(value=0.0, max=55.0), HTML(value='')))"
      ]
     },
     "metadata": {},
     "output_type": "display_data"
    },
    {
     "name": "stdout",
     "output_type": "stream",
     "text": [
      "\n",
      "Saved object at /notebooks/Auto_Proofreading/Decomposition_Optimization/Debug_4/curr_branch_before_spines.pbz2\n",
      "File size is 3.519179 MB\n",
      "segment_name before cgal = L2_0\n"
     ]
    },
    {
     "data": {
      "application/vnd.jupyter.widget-view+json": {
       "model_id": "df2a67fcc0a64f4eabdb0426bbee4b05",
       "version_major": 2,
       "version_minor": 0
      },
      "text/plain": [
       "HBox(children=(FloatProgress(value=0.0, max=230.0), HTML(value='')))"
      ]
     },
     "metadata": {},
     "output_type": "display_data"
    },
    {
     "name": "stdout",
     "output_type": "stream",
     "text": [
      "\n",
      "Saved object at /notebooks/Auto_Proofreading/Decomposition_Optimization/Debug_4/curr_branch_before_spines.pbz2\n",
      "File size is 0.088443 MB\n",
      "segment_name before cgal = L2_1\n"
     ]
    },
    {
     "data": {
      "application/vnd.jupyter.widget-view+json": {
       "model_id": "fe0c1d01e41d47b4bd3a79056cfc4245",
       "version_major": 2,
       "version_minor": 0
      },
      "text/plain": [
       "HBox(children=(FloatProgress(value=0.0, max=6.0), HTML(value='')))"
      ]
     },
     "metadata": {},
     "output_type": "display_data"
    },
    {
     "name": "stdout",
     "output_type": "stream",
     "text": [
      "\n",
      "Saved object at /notebooks/Auto_Proofreading/Decomposition_Optimization/Debug_4/curr_branch_before_spines.pbz2\n",
      "File size is 0.070788 MB\n",
      "segment_name before cgal = L2_2\n"
     ]
    },
    {
     "data": {
      "application/vnd.jupyter.widget-view+json": {
       "model_id": "2060d2e0451745999f44b69bf8523d3a",
       "version_major": 2,
       "version_minor": 0
      },
      "text/plain": [
       "HBox(children=(FloatProgress(value=0.0, max=5.0), HTML(value='')))"
      ]
     },
     "metadata": {},
     "output_type": "display_data"
    },
    {
     "name": "stdout",
     "output_type": "stream",
     "text": [
      "\n",
      "Saved object at /notebooks/Auto_Proofreading/Decomposition_Optimization/Debug_4/curr_branch_before_spines.pbz2\n",
      "File size is 0.415869 MB\n",
      "segment_name before cgal = L2_3\n"
     ]
    },
    {
     "data": {
      "application/vnd.jupyter.widget-view+json": {
       "model_id": "64fe1f7634604d958b0807345da34bcb",
       "version_major": 2,
       "version_minor": 0
      },
      "text/plain": [
       "HBox(children=(FloatProgress(value=0.0, max=30.0), HTML(value='')))"
      ]
     },
     "metadata": {},
     "output_type": "display_data"
    },
    {
     "name": "stdout",
     "output_type": "stream",
     "text": [
      "\n",
      "Saved object at /notebooks/Auto_Proofreading/Decomposition_Optimization/Debug_4/curr_branch_before_spines.pbz2\n",
      "File size is 0.126877 MB\n",
      "segment_name before cgal = L2_4\n"
     ]
    },
    {
     "data": {
      "application/vnd.jupyter.widget-view+json": {
       "model_id": "4584b4bdf31a427db8014131a232da4c",
       "version_major": 2,
       "version_minor": 0
      },
      "text/plain": [
       "HBox(children=(FloatProgress(value=0.0, max=9.0), HTML(value='')))"
      ]
     },
     "metadata": {},
     "output_type": "display_data"
    },
    {
     "name": "stdout",
     "output_type": "stream",
     "text": [
      "\n",
      "Saved object at /notebooks/Auto_Proofreading/Decomposition_Optimization/Debug_4/curr_branch_before_spines.pbz2\n",
      "File size is 0.220175 MB\n",
      "segment_name before cgal = L2_5\n"
     ]
    },
    {
     "data": {
      "application/vnd.jupyter.widget-view+json": {
       "model_id": "25becf0efc8346d19a97585d70a95e9f",
       "version_major": 2,
       "version_minor": 0
      },
      "text/plain": [
       "HBox(children=(FloatProgress(value=0.0, max=12.0), HTML(value='')))"
      ]
     },
     "metadata": {},
     "output_type": "display_data"
    },
    {
     "name": "stdout",
     "output_type": "stream",
     "text": [
      "\n",
      "Saved object at /notebooks/Auto_Proofreading/Decomposition_Optimization/Debug_4/curr_branch_before_spines.pbz2\n",
      "File size is 3.935985 MB\n",
      "segment_name before cgal = L2_6\n"
     ]
    },
    {
     "data": {
      "application/vnd.jupyter.widget-view+json": {
       "model_id": "caffe33ee00849899caef7f893afbadd",
       "version_major": 2,
       "version_minor": 0
      },
      "text/plain": [
       "HBox(children=(FloatProgress(value=0.0, max=238.0), HTML(value='')))"
      ]
     },
     "metadata": {},
     "output_type": "display_data"
    },
    {
     "name": "stdout",
     "output_type": "stream",
     "text": [
      "\n",
      "Saved object at /notebooks/Auto_Proofreading/Decomposition_Optimization/Debug_4/curr_branch_before_spines.pbz2\n",
      "File size is 3.317015 MB\n",
      "segment_name before cgal = L2_7\n"
     ]
    },
    {
     "data": {
      "application/vnd.jupyter.widget-view+json": {
       "model_id": "10e2a4bcee574903aeb0b657367c0e47",
       "version_major": 2,
       "version_minor": 0
      },
      "text/plain": [
       "HBox(children=(FloatProgress(value=0.0, max=225.0), HTML(value='')))"
      ]
     },
     "metadata": {},
     "output_type": "display_data"
    },
    {
     "name": "stdout",
     "output_type": "stream",
     "text": [
      "\n",
      "Saved object at /notebooks/Auto_Proofreading/Decomposition_Optimization/Debug_4/curr_branch_before_spines.pbz2\n",
      "File size is 2.413518 MB\n",
      "segment_name before cgal = L2_8\n"
     ]
    },
    {
     "data": {
      "application/vnd.jupyter.widget-view+json": {
       "model_id": "67974d693fca4adab134b2a53e48546a",
       "version_major": 2,
       "version_minor": 0
      },
      "text/plain": [
       "HBox(children=(FloatProgress(value=0.0, max=161.0), HTML(value='')))"
      ]
     },
     "metadata": {},
     "output_type": "display_data"
    },
    {
     "name": "stdout",
     "output_type": "stream",
     "text": [
      "\n",
      "Saved object at /notebooks/Auto_Proofreading/Decomposition_Optimization/Debug_4/curr_branch_before_spines.pbz2\n",
      "File size is 1.518961 MB\n",
      "segment_name before cgal = L3_0\n"
     ]
    },
    {
     "data": {
      "application/vnd.jupyter.widget-view+json": {
       "model_id": "98ea940db51a4344aed9f6c34a0fa37b",
       "version_major": 2,
       "version_minor": 0
      },
      "text/plain": [
       "HBox(children=(FloatProgress(value=0.0, max=70.0), HTML(value='')))"
      ]
     },
     "metadata": {},
     "output_type": "display_data"
    },
    {
     "name": "stdout",
     "output_type": "stream",
     "text": [
      "\n",
      "Saved object at /notebooks/Auto_Proofreading/Decomposition_Optimization/Debug_4/curr_branch_before_spines.pbz2\n",
      "File size is 0.122899 MB\n",
      "segment_name before cgal = L3_1\n"
     ]
    },
    {
     "data": {
      "application/vnd.jupyter.widget-view+json": {
       "model_id": "6074c61a6cfa42ffbdacaf94d4613d38",
       "version_major": 2,
       "version_minor": 0
      },
      "text/plain": [
       "HBox(children=(FloatProgress(value=0.0, max=15.0), HTML(value='')))"
      ]
     },
     "metadata": {},
     "output_type": "display_data"
    },
    {
     "name": "stdout",
     "output_type": "stream",
     "text": [
      "\n",
      "Saved object at /notebooks/Auto_Proofreading/Decomposition_Optimization/Debug_4/curr_branch_before_spines.pbz2\n",
      "File size is 0.120309 MB\n",
      "segment_name before cgal = L3_2\n"
     ]
    },
    {
     "data": {
      "application/vnd.jupyter.widget-view+json": {
       "model_id": "d3e82398b80f401da47df7807944ac60",
       "version_major": 2,
       "version_minor": 0
      },
      "text/plain": [
       "HBox(children=(FloatProgress(value=0.0, max=5.0), HTML(value='')))"
      ]
     },
     "metadata": {},
     "output_type": "display_data"
    },
    {
     "name": "stdout",
     "output_type": "stream",
     "text": [
      "\n",
      "Saved object at /notebooks/Auto_Proofreading/Decomposition_Optimization/Debug_4/curr_branch_before_spines.pbz2\n",
      "File size is 0.731167 MB\n",
      "segment_name before cgal = L3_3\n"
     ]
    },
    {
     "data": {
      "application/vnd.jupyter.widget-view+json": {
       "model_id": "6f18060921714b9488cda76a5a465532",
       "version_major": 2,
       "version_minor": 0
      },
      "text/plain": [
       "HBox(children=(FloatProgress(value=0.0, max=37.0), HTML(value='')))"
      ]
     },
     "metadata": {},
     "output_type": "display_data"
    },
    {
     "name": "stdout",
     "output_type": "stream",
     "text": [
      "\n",
      "Saved object at /notebooks/Auto_Proofreading/Decomposition_Optimization/Debug_4/curr_branch_before_spines.pbz2\n",
      "File size is 0.944878 MB\n",
      "segment_name before cgal = L3_4\n"
     ]
    },
    {
     "data": {
      "application/vnd.jupyter.widget-view+json": {
       "model_id": "d0063f46268a441bb0dc6ebc16b9df49",
       "version_major": 2,
       "version_minor": 0
      },
      "text/plain": [
       "HBox(children=(FloatProgress(value=0.0, max=45.0), HTML(value='')))"
      ]
     },
     "metadata": {},
     "output_type": "display_data"
    },
    {
     "name": "stdout",
     "output_type": "stream",
     "text": [
      "\n",
      "Saved object at /notebooks/Auto_Proofreading/Decomposition_Optimization/Debug_4/curr_branch_before_spines.pbz2\n",
      "File size is 0.172383 MB\n",
      "segment_name before cgal = L3_5\n"
     ]
    },
    {
     "data": {
      "application/vnd.jupyter.widget-view+json": {
       "model_id": "35328cc18270416385400b70ad425dfc",
       "version_major": 2,
       "version_minor": 0
      },
      "text/plain": [
       "HBox(children=(FloatProgress(value=0.0, max=14.0), HTML(value='')))"
      ]
     },
     "metadata": {},
     "output_type": "display_data"
    },
    {
     "name": "stdout",
     "output_type": "stream",
     "text": [
      "\n",
      "Saved object at /notebooks/Auto_Proofreading/Decomposition_Optimization/Debug_4/curr_branch_before_spines.pbz2\n",
      "File size is 0.126242 MB\n",
      "segment_name before cgal = L3_6\n"
     ]
    },
    {
     "data": {
      "application/vnd.jupyter.widget-view+json": {
       "model_id": "1324f96d352e42929ed6282f98878052",
       "version_major": 2,
       "version_minor": 0
      },
      "text/plain": [
       "HBox(children=(FloatProgress(value=0.0, max=13.0), HTML(value='')))"
      ]
     },
     "metadata": {},
     "output_type": "display_data"
    },
    {
     "name": "stdout",
     "output_type": "stream",
     "text": [
      "\n",
      "Saved object at /notebooks/Auto_Proofreading/Decomposition_Optimization/Debug_4/curr_branch_before_spines.pbz2\n",
      "File size is 0.679443 MB\n",
      "segment_name before cgal = L3_7\n"
     ]
    },
    {
     "data": {
      "application/vnd.jupyter.widget-view+json": {
       "model_id": "db7fad2c248a4a2cb5d8565e45566135",
       "version_major": 2,
       "version_minor": 0
      },
      "text/plain": [
       "HBox(children=(FloatProgress(value=0.0, max=24.0), HTML(value='')))"
      ]
     },
     "metadata": {},
     "output_type": "display_data"
    },
    {
     "name": "stdout",
     "output_type": "stream",
     "text": [
      "\n",
      "Saved object at /notebooks/Auto_Proofreading/Decomposition_Optimization/Debug_4/curr_branch_before_spines.pbz2\n",
      "File size is 0.182577 MB\n",
      "segment_name before cgal = L3_8\n"
     ]
    },
    {
     "data": {
      "application/vnd.jupyter.widget-view+json": {
       "model_id": "75848f3c859946b79cb4fed112e8b4d4",
       "version_major": 2,
       "version_minor": 0
      },
      "text/plain": [
       "HBox(children=(FloatProgress(value=0.0, max=7.0), HTML(value='')))"
      ]
     },
     "metadata": {},
     "output_type": "display_data"
    },
    {
     "name": "stdout",
     "output_type": "stream",
     "text": [
      "\n",
      "Saved object at /notebooks/Auto_Proofreading/Decomposition_Optimization/Debug_4/curr_branch_before_spines.pbz2\n",
      "File size is 1.355072 MB\n",
      "segment_name before cgal = L4_0\n"
     ]
    },
    {
     "data": {
      "application/vnd.jupyter.widget-view+json": {
       "model_id": "cf65a6720c594acd9fbb8829dfeb4124",
       "version_major": 2,
       "version_minor": 0
      },
      "text/plain": [
       "HBox(children=(FloatProgress(value=0.0, max=30.0), HTML(value='')))"
      ]
     },
     "metadata": {},
     "output_type": "display_data"
    },
    {
     "name": "stdout",
     "output_type": "stream",
     "text": [
      "\n",
      "Saved object at /notebooks/Auto_Proofreading/Decomposition_Optimization/Debug_4/curr_branch_before_spines.pbz2\n",
      "File size is 1.34206 MB\n",
      "segment_name before cgal = L4_1\n"
     ]
    },
    {
     "data": {
      "application/vnd.jupyter.widget-view+json": {
       "model_id": "c7f7e28cf54e4e469f913ab087658a71",
       "version_major": 2,
       "version_minor": 0
      },
      "text/plain": [
       "HBox(children=(FloatProgress(value=0.0, max=44.0), HTML(value='')))"
      ]
     },
     "metadata": {},
     "output_type": "display_data"
    },
    {
     "name": "stdout",
     "output_type": "stream",
     "text": [
      "\n",
      "Saved object at /notebooks/Auto_Proofreading/Decomposition_Optimization/Debug_4/curr_branch_before_spines.pbz2\n",
      "File size is 0.124368 MB\n",
      "segment_name before cgal = L4_2\n"
     ]
    },
    {
     "data": {
      "application/vnd.jupyter.widget-view+json": {
       "model_id": "3d62c80f080a45718cd9c8e7a70d5829",
       "version_major": 2,
       "version_minor": 0
      },
      "text/plain": [
       "HBox(children=(FloatProgress(value=0.0, max=5.0), HTML(value='')))"
      ]
     },
     "metadata": {},
     "output_type": "display_data"
    },
    {
     "name": "stdout",
     "output_type": "stream",
     "text": [
      "\n",
      "Saved object at /notebooks/Auto_Proofreading/Decomposition_Optimization/Debug_4/curr_branch_before_spines.pbz2\n",
      "File size is 0.021846 MB\n",
      "segment_name before cgal = L4_3\n"
     ]
    },
    {
     "data": {
      "application/vnd.jupyter.widget-view+json": {
       "model_id": "b2d67d0f92bf425fbd82233e8a49c762",
       "version_major": 2,
       "version_minor": 0
      },
      "text/plain": [
       "HBox(children=(FloatProgress(value=0.0, max=2.0), HTML(value='')))"
      ]
     },
     "metadata": {},
     "output_type": "display_data"
    },
    {
     "name": "stdout",
     "output_type": "stream",
     "text": [
      "\n",
      "Saved object at /notebooks/Auto_Proofreading/Decomposition_Optimization/Debug_4/curr_branch_before_spines.pbz2\n",
      "File size is 1.792767 MB\n",
      "segment_name before cgal = L4_4\n"
     ]
    },
    {
     "data": {
      "application/vnd.jupyter.widget-view+json": {
       "model_id": "9b34708f40434fb0b339ec57db0528a4",
       "version_major": 2,
       "version_minor": 0
      },
      "text/plain": [
       "HBox(children=(FloatProgress(value=0.0, max=67.0), HTML(value='')))"
      ]
     },
     "metadata": {},
     "output_type": "display_data"
    },
    {
     "name": "stdout",
     "output_type": "stream",
     "text": [
      "\n",
      "Saved object at /notebooks/Auto_Proofreading/Decomposition_Optimization/Debug_4/curr_branch_before_spines.pbz2\n",
      "File size is 2.67129 MB\n",
      "segment_name before cgal = L5_0\n"
     ]
    },
    {
     "data": {
      "application/vnd.jupyter.widget-view+json": {
       "model_id": "69bdb03da22746f7872a1b0aabdb248d",
       "version_major": 2,
       "version_minor": 0
      },
      "text/plain": [
       "HBox(children=(FloatProgress(value=0.0, max=139.0), HTML(value='')))"
      ]
     },
     "metadata": {},
     "output_type": "display_data"
    },
    {
     "name": "stdout",
     "output_type": "stream",
     "text": [
      "\n",
      "Saved object at /notebooks/Auto_Proofreading/Decomposition_Optimization/Debug_4/curr_branch_before_spines.pbz2\n",
      "File size is 0.791129 MB\n",
      "segment_name before cgal = L5_2\n"
     ]
    },
    {
     "data": {
      "application/vnd.jupyter.widget-view+json": {
       "model_id": "4a5d2fde98c34c008cb1fe1e486846e1",
       "version_major": 2,
       "version_minor": 0
      },
      "text/plain": [
       "HBox(children=(FloatProgress(value=0.0, max=52.0), HTML(value='')))"
      ]
     },
     "metadata": {},
     "output_type": "display_data"
    },
    {
     "name": "stdout",
     "output_type": "stream",
     "text": [
      "\n",
      "Saved object at /notebooks/Auto_Proofreading/Decomposition_Optimization/Debug_4/curr_branch_before_spines.pbz2\n",
      "File size is 1.971812 MB\n",
      "segment_name before cgal = L5_3\n"
     ]
    },
    {
     "data": {
      "application/vnd.jupyter.widget-view+json": {
       "model_id": "248bae255ee64b86affee012f2780c08",
       "version_major": 2,
       "version_minor": 0
      },
      "text/plain": [
       "HBox(children=(FloatProgress(value=0.0, max=133.0), HTML(value='')))"
      ]
     },
     "metadata": {},
     "output_type": "display_data"
    },
    {
     "name": "stdout",
     "output_type": "stream",
     "text": [
      "\n",
      "Saved object at /notebooks/Auto_Proofreading/Decomposition_Optimization/Debug_4/curr_branch_before_spines.pbz2\n",
      "File size is 1.525477 MB\n",
      "segment_name before cgal = L6_0\n"
     ]
    },
    {
     "data": {
      "application/vnd.jupyter.widget-view+json": {
       "model_id": "3fa5697718be4277bf74325b312c771c",
       "version_major": 2,
       "version_minor": 0
      },
      "text/plain": [
       "HBox(children=(FloatProgress(value=0.0, max=101.0), HTML(value='')))"
      ]
     },
     "metadata": {},
     "output_type": "display_data"
    },
    {
     "name": "stdout",
     "output_type": "stream",
     "text": [
      "\n",
      "Saved object at /notebooks/Auto_Proofreading/Decomposition_Optimization/Debug_4/curr_branch_before_spines.pbz2\n",
      "File size is 0.110625 MB\n",
      "segment_name before cgal = L6_1\n"
     ]
    },
    {
     "data": {
      "application/vnd.jupyter.widget-view+json": {
       "model_id": "0b282d38125445ab9b525bf89195fc76",
       "version_major": 2,
       "version_minor": 0
      },
      "text/plain": [
       "HBox(children=(FloatProgress(value=0.0, max=8.0), HTML(value='')))"
      ]
     },
     "metadata": {},
     "output_type": "display_data"
    },
    {
     "name": "stdout",
     "output_type": "stream",
     "text": [
      "\n",
      "Saved object at /notebooks/Auto_Proofreading/Decomposition_Optimization/Debug_4/curr_branch_before_spines.pbz2\n",
      "File size is 1.883209 MB\n",
      "segment_name before cgal = L6_2\n"
     ]
    },
    {
     "data": {
      "application/vnd.jupyter.widget-view+json": {
       "model_id": "c1952e4b7a9f4b2caf4279ba535cbd8d",
       "version_major": 2,
       "version_minor": 0
      },
      "text/plain": [
       "HBox(children=(FloatProgress(value=0.0, max=111.0), HTML(value='')))"
      ]
     },
     "metadata": {},
     "output_type": "display_data"
    },
    {
     "name": "stdout",
     "output_type": "stream",
     "text": [
      "\n",
      "Saved object at /notebooks/Auto_Proofreading/Decomposition_Optimization/Debug_4/curr_branch_before_spines.pbz2\n",
      "File size is 1.798107 MB\n",
      "segment_name before cgal = L6_3\n"
     ]
    },
    {
     "data": {
      "application/vnd.jupyter.widget-view+json": {
       "model_id": "09f9f82a38884f6fb1e7e087f6f792a9",
       "version_major": 2,
       "version_minor": 0
      },
      "text/plain": [
       "HBox(children=(FloatProgress(value=0.0, max=130.0), HTML(value='')))"
      ]
     },
     "metadata": {},
     "output_type": "display_data"
    },
    {
     "name": "stdout",
     "output_type": "stream",
     "text": [
      "\n",
      "Saved object at /notebooks/Auto_Proofreading/Decomposition_Optimization/Debug_4/curr_branch_before_spines.pbz2\n",
      "File size is 0.128496 MB\n",
      "segment_name before cgal = L6_4\n"
     ]
    },
    {
     "data": {
      "application/vnd.jupyter.widget-view+json": {
       "model_id": "bc7dc1db9b1a4675a23fea7e61a8c432",
       "version_major": 2,
       "version_minor": 0
      },
      "text/plain": [
       "HBox(children=(FloatProgress(value=0.0, max=11.0), HTML(value='')))"
      ]
     },
     "metadata": {},
     "output_type": "display_data"
    },
    {
     "name": "stdout",
     "output_type": "stream",
     "text": [
      "\n",
      "Saved object at /notebooks/Auto_Proofreading/Decomposition_Optimization/Debug_4/curr_branch_before_spines.pbz2\n",
      "File size is 2.190377 MB\n",
      "segment_name before cgal = L7_0\n"
     ]
    },
    {
     "data": {
      "application/vnd.jupyter.widget-view+json": {
       "model_id": "2e99e251dd82427da67aca6cf779d7d5",
       "version_major": 2,
       "version_minor": 0
      },
      "text/plain": [
       "HBox(children=(FloatProgress(value=0.0, max=91.0), HTML(value='')))"
      ]
     },
     "metadata": {},
     "output_type": "display_data"
    },
    {
     "name": "stdout",
     "output_type": "stream",
     "text": [
      "\n",
      "Saved object at /notebooks/Auto_Proofreading/Decomposition_Optimization/Debug_4/curr_branch_before_spines.pbz2\n",
      "File size is 0.24264 MB\n",
      "segment_name before cgal = L7_1\n"
     ]
    },
    {
     "data": {
      "application/vnd.jupyter.widget-view+json": {
       "model_id": "ba0453067acf4aa7b64b5c5e351553d0",
       "version_major": 2,
       "version_minor": 0
      },
      "text/plain": [
       "HBox(children=(FloatProgress(value=0.0, max=9.0), HTML(value='')))"
      ]
     },
     "metadata": {},
     "output_type": "display_data"
    },
    {
     "name": "stdout",
     "output_type": "stream",
     "text": [
      "\n",
      "Saved object at /notebooks/Auto_Proofreading/Decomposition_Optimization/Debug_4/curr_branch_before_spines.pbz2\n",
      "File size is 1.944198 MB\n",
      "segment_name before cgal = L7_2\n"
     ]
    },
    {
     "data": {
      "application/vnd.jupyter.widget-view+json": {
       "model_id": "54f999252f82450a9366ff4e978df2ed",
       "version_major": 2,
       "version_minor": 0
      },
      "text/plain": [
       "HBox(children=(FloatProgress(value=0.0, max=58.0), HTML(value='')))"
      ]
     },
     "metadata": {},
     "output_type": "display_data"
    },
    {
     "name": "stdout",
     "output_type": "stream",
     "text": [
      "\n",
      "Saved object at /notebooks/Auto_Proofreading/Decomposition_Optimization/Debug_4/curr_branch_before_spines.pbz2\n",
      "File size is 0.436405 MB\n",
      "segment_name before cgal = L8_0\n"
     ]
    },
    {
     "data": {
      "application/vnd.jupyter.widget-view+json": {
       "model_id": "5bec9dc43f174416abf02d8d0ac874f1",
       "version_major": 2,
       "version_minor": 0
      },
      "text/plain": [
       "HBox(children=(FloatProgress(value=0.0, max=19.0), HTML(value='')))"
      ]
     },
     "metadata": {},
     "output_type": "display_data"
    },
    {
     "name": "stdout",
     "output_type": "stream",
     "text": [
      "\n",
      "Saved object at /notebooks/Auto_Proofreading/Decomposition_Optimization/Debug_4/curr_branch_before_spines.pbz2\n",
      "File size is 1.469867 MB\n",
      "segment_name before cgal = L8_1\n"
     ]
    },
    {
     "data": {
      "application/vnd.jupyter.widget-view+json": {
       "model_id": "ca3bfb96d4ba4b7e856a309e7faeedd4",
       "version_major": 2,
       "version_minor": 0
      },
      "text/plain": [
       "HBox(children=(FloatProgress(value=0.0, max=58.0), HTML(value='')))"
      ]
     },
     "metadata": {},
     "output_type": "display_data"
    },
    {
     "name": "stdout",
     "output_type": "stream",
     "text": [
      "\n",
      "Saved object at /notebooks/Auto_Proofreading/Decomposition_Optimization/Debug_4/curr_branch_before_spines.pbz2\n",
      "File size is 2.189228 MB\n",
      "segment_name before cgal = L8_2\n"
     ]
    },
    {
     "data": {
      "application/vnd.jupyter.widget-view+json": {
       "model_id": "a595ca4400cb495b93ae42958642bd21",
       "version_major": 2,
       "version_minor": 0
      },
      "text/plain": [
       "HBox(children=(FloatProgress(value=0.0, max=99.0), HTML(value='')))"
      ]
     },
     "metadata": {},
     "output_type": "display_data"
    },
    {
     "name": "stdout",
     "output_type": "stream",
     "text": [
      "\n",
      "Saved object at /notebooks/Auto_Proofreading/Decomposition_Optimization/Debug_4/curr_branch_before_spines.pbz2\n",
      "File size is 1.29435 MB\n",
      "segment_name before cgal = L9_0\n"
     ]
    },
    {
     "data": {
      "application/vnd.jupyter.widget-view+json": {
       "model_id": "004a231039724a29bd6b963a29a015c3",
       "version_major": 2,
       "version_minor": 0
      },
      "text/plain": [
       "HBox(children=(FloatProgress(value=0.0, max=72.0), HTML(value='')))"
      ]
     },
     "metadata": {},
     "output_type": "display_data"
    },
    {
     "name": "stdout",
     "output_type": "stream",
     "text": [
      "\n",
      "Saved object at /notebooks/Auto_Proofreading/Decomposition_Optimization/Debug_4/curr_branch_before_spines.pbz2\n",
      "File size is 1.806953 MB\n",
      "segment_name before cgal = L9_1\n"
     ]
    },
    {
     "data": {
      "application/vnd.jupyter.widget-view+json": {
       "model_id": "8639fabdea9a4d859eb40329bfae277f",
       "version_major": 2,
       "version_minor": 0
      },
      "text/plain": [
       "HBox(children=(FloatProgress(value=0.0, max=71.0), HTML(value='')))"
      ]
     },
     "metadata": {},
     "output_type": "display_data"
    },
    {
     "name": "stdout",
     "output_type": "stream",
     "text": [
      "\n",
      "Saved object at /notebooks/Auto_Proofreading/Decomposition_Optimization/Debug_4/curr_branch_before_spines.pbz2\n",
      "File size is 0.428507 MB\n",
      "segment_name before cgal = L9_2\n"
     ]
    },
    {
     "data": {
      "application/vnd.jupyter.widget-view+json": {
       "model_id": "6ac4718f67a649e79876e76b2cd1d3bc",
       "version_major": 2,
       "version_minor": 0
      },
      "text/plain": [
       "HBox(children=(FloatProgress(value=0.0, max=14.0), HTML(value='')))"
      ]
     },
     "metadata": {},
     "output_type": "display_data"
    },
    {
     "name": "stdout",
     "output_type": "stream",
     "text": [
      "\n",
      "Saved object at /notebooks/Auto_Proofreading/Decomposition_Optimization/Debug_4/curr_branch_before_spines.pbz2\n",
      "File size is 1.302034 MB\n",
      "segment_name before cgal = L10_0\n"
     ]
    },
    {
     "data": {
      "application/vnd.jupyter.widget-view+json": {
       "model_id": "9fdfaaf8e07c496488a97878f7fe21c0",
       "version_major": 2,
       "version_minor": 0
      },
      "text/plain": [
       "HBox(children=(FloatProgress(value=0.0, max=32.0), HTML(value='')))"
      ]
     },
     "metadata": {},
     "output_type": "display_data"
    },
    {
     "name": "stdout",
     "output_type": "stream",
     "text": [
      "\n",
      "Saved object at /notebooks/Auto_Proofreading/Decomposition_Optimization/Debug_4/curr_branch_before_spines.pbz2\n",
      "File size is 0.98859 MB\n",
      "segment_name before cgal = L10_1\n"
     ]
    },
    {
     "data": {
      "application/vnd.jupyter.widget-view+json": {
       "model_id": "6ac73f3842344b9d917684426b320cd9",
       "version_major": 2,
       "version_minor": 0
      },
      "text/plain": [
       "HBox(children=(FloatProgress(value=0.0, max=52.0), HTML(value='')))"
      ]
     },
     "metadata": {},
     "output_type": "display_data"
    },
    {
     "name": "stdout",
     "output_type": "stream",
     "text": [
      "\n",
      "Saved object at /notebooks/Auto_Proofreading/Decomposition_Optimization/Debug_4/curr_branch_before_spines.pbz2\n",
      "File size is 1.328281 MB\n",
      "segment_name before cgal = L10_2\n"
     ]
    },
    {
     "data": {
      "application/vnd.jupyter.widget-view+json": {
       "model_id": "c95327980490476ab3b7f96c3fbd7d37",
       "version_major": 2,
       "version_minor": 0
      },
      "text/plain": [
       "HBox(children=(FloatProgress(value=0.0, max=66.0), HTML(value='')))"
      ]
     },
     "metadata": {},
     "output_type": "display_data"
    },
    {
     "name": "stdout",
     "output_type": "stream",
     "text": [
      "\n",
      "Saved object at /notebooks/Auto_Proofreading/Decomposition_Optimization/Debug_4/curr_branch_before_spines.pbz2\n",
      "File size is 1.840052 MB\n",
      "segment_name before cgal = L11_0\n"
     ]
    },
    {
     "data": {
      "application/vnd.jupyter.widget-view+json": {
       "model_id": "99b1d9d7bb7a45b8b47e32d7ef0cea09",
       "version_major": 2,
       "version_minor": 0
      },
      "text/plain": [
       "HBox(children=(FloatProgress(value=0.0, max=122.0), HTML(value='')))"
      ]
     },
     "metadata": {},
     "output_type": "display_data"
    },
    {
     "name": "stdout",
     "output_type": "stream",
     "text": [
      "\n",
      "Saved object at /notebooks/Auto_Proofreading/Decomposition_Optimization/Debug_4/curr_branch_before_spines.pbz2\n",
      "File size is 2.219278 MB\n",
      "segment_name before cgal = L11_1\n"
     ]
    },
    {
     "data": {
      "application/vnd.jupyter.widget-view+json": {
       "model_id": "9d6ac3cd965c473282d741b551082f6b",
       "version_major": 2,
       "version_minor": 0
      },
      "text/plain": [
       "HBox(children=(FloatProgress(value=0.0, max=134.0), HTML(value='')))"
      ]
     },
     "metadata": {},
     "output_type": "display_data"
    },
    {
     "name": "stdout",
     "output_type": "stream",
     "text": [
      "\n",
      "Saved object at /notebooks/Auto_Proofreading/Decomposition_Optimization/Debug_4/curr_branch_before_spines.pbz2\n",
      "File size is 0.122571 MB\n",
      "segment_name before cgal = L11_2\n"
     ]
    },
    {
     "data": {
      "application/vnd.jupyter.widget-view+json": {
       "model_id": "d33c517b968e4ffb9a20599d4ecc184c",
       "version_major": 2,
       "version_minor": 0
      },
      "text/plain": [
       "HBox(children=(FloatProgress(value=0.0, max=8.0), HTML(value='')))"
      ]
     },
     "metadata": {},
     "output_type": "display_data"
    },
    {
     "name": "stdout",
     "output_type": "stream",
     "text": [
      "\n",
      "Saved object at /notebooks/Auto_Proofreading/Decomposition_Optimization/Debug_4/curr_branch_before_spines.pbz2\n",
      "File size is 3.574029 MB\n",
      "segment_name before cgal = L12_0\n"
     ]
    },
    {
     "data": {
      "application/vnd.jupyter.widget-view+json": {
       "model_id": "49fb8f9589cb481a900e9aa8b11b65fc",
       "version_major": 2,
       "version_minor": 0
      },
      "text/plain": [
       "HBox(children=(FloatProgress(value=0.0, max=208.0), HTML(value='')))"
      ]
     },
     "metadata": {},
     "output_type": "display_data"
    },
    {
     "name": "stdout",
     "output_type": "stream",
     "text": [
      "\n",
      "Saved object at /notebooks/Auto_Proofreading/Decomposition_Optimization/Debug_4/curr_branch_before_spines.pbz2\n",
      "File size is 1.655927 MB\n",
      "segment_name before cgal = L13_0\n"
     ]
    },
    {
     "data": {
      "application/vnd.jupyter.widget-view+json": {
       "model_id": "7cacc0e49774473ea906a17c5810b6de",
       "version_major": 2,
       "version_minor": 0
      },
      "text/plain": [
       "HBox(children=(FloatProgress(value=0.0, max=37.0), HTML(value='')))"
      ]
     },
     "metadata": {},
     "output_type": "display_data"
    },
    {
     "name": "stdout",
     "output_type": "stream",
     "text": [
      "\n",
      "Saved object at /notebooks/Auto_Proofreading/Decomposition_Optimization/Debug_4/curr_branch_before_spines.pbz2\n",
      "File size is 0.954453 MB\n",
      "segment_name before cgal = L13_1\n"
     ]
    },
    {
     "data": {
      "application/vnd.jupyter.widget-view+json": {
       "model_id": "f0061d83c6434381b8c924c6c99394f8",
       "version_major": 2,
       "version_minor": 0
      },
      "text/plain": [
       "HBox(children=(FloatProgress(value=0.0, max=65.0), HTML(value='')))"
      ]
     },
     "metadata": {},
     "output_type": "display_data"
    },
    {
     "name": "stdout",
     "output_type": "stream",
     "text": [
      "\n",
      "Saved object at /notebooks/Auto_Proofreading/Decomposition_Optimization/Debug_4/curr_branch_before_spines.pbz2\n",
      "File size is 0.070161 MB\n",
      "segment_name before cgal = L13_2\n"
     ]
    },
    {
     "data": {
      "application/vnd.jupyter.widget-view+json": {
       "model_id": "fb8b973a1f8344e495989d006aa69fb4",
       "version_major": 2,
       "version_minor": 0
      },
      "text/plain": [
       "HBox(children=(FloatProgress(value=0.0, max=7.0), HTML(value='')))"
      ]
     },
     "metadata": {},
     "output_type": "display_data"
    },
    {
     "name": "stdout",
     "output_type": "stream",
     "text": [
      "\n",
      "Saved object at /notebooks/Auto_Proofreading/Decomposition_Optimization/Debug_4/curr_branch_before_spines.pbz2\n",
      "File size is 2.140015 MB\n",
      "segment_name before cgal = L14_0\n"
     ]
    },
    {
     "data": {
      "application/vnd.jupyter.widget-view+json": {
       "model_id": "6daa89cf68754bc2ab04e5cd1ccfafa1",
       "version_major": 2,
       "version_minor": 0
      },
      "text/plain": [
       "HBox(children=(FloatProgress(value=0.0, max=60.0), HTML(value='')))"
      ]
     },
     "metadata": {},
     "output_type": "display_data"
    },
    {
     "name": "stdout",
     "output_type": "stream",
     "text": [
      "\n",
      "Saved object at /notebooks/Auto_Proofreading/Decomposition_Optimization/Debug_4/curr_branch_before_spines.pbz2\n",
      "File size is 2.651215 MB\n",
      "segment_name before cgal = L15_0\n"
     ]
    },
    {
     "data": {
      "application/vnd.jupyter.widget-view+json": {
       "model_id": "1e3cb7d2eb4642d09ddc998ea80bb32b",
       "version_major": 2,
       "version_minor": 0
      },
      "text/plain": [
       "HBox(children=(FloatProgress(value=0.0, max=157.0), HTML(value='')))"
      ]
     },
     "metadata": {},
     "output_type": "display_data"
    },
    {
     "name": "stdout",
     "output_type": "stream",
     "text": [
      "\n"
     ]
    }
   ],
   "source": [
    "neuron = reload(neuron)\n",
    "neuron_obj.calculate_spines(clusters_threshold=3,\n",
    "                           smoothness_threshold=0.1)"
   ]
  },
  {
   "cell_type": "code",
   "execution_count": null,
   "metadata": {},
   "outputs": [],
   "source": []
  },
  {
   "cell_type": "code",
   "execution_count": 33,
   "metadata": {},
   "outputs": [
    {
     "name": "stdout",
     "output_type": "stream",
     "text": [
      "\n",
      " Working on visualization type: mesh\n",
      "\n",
      " Working on visualization type: skeleton\n"
     ]
    },
    {
     "data": {
      "application/vnd.jupyter.widget-view+json": {
       "model_id": "81bd036ec5c54713a5ed133fc2cfde89",
       "version_major": 2,
       "version_minor": 0
      },
      "text/plain": [
       "VBox(children=(Figure(camera=PerspectiveCamera(fov=46.0, position=(0.0, 0.0, 2.0), quaternion=(0.0, 0.0, 0.0, …"
      ]
     },
     "metadata": {},
     "output_type": "display_data"
    }
   ],
   "source": [
    "nviz.plot_spines(neuron_obj)"
   ]
  },
  {
   "cell_type": "markdown",
   "metadata": {},
   "source": [
    "# Running the Function to Decompose"
   ]
  },
  {
   "cell_type": "code",
   "execution_count": null,
   "metadata": {},
   "outputs": [],
   "source": [
    "#predefined arguments for the Neuron constructor\n",
    "\n",
    "decomposition_type=\"meshafterparty\"\n",
    "mesh_correspondence=\"meshparty\" #meshafterparty_adaptive\n",
    "distance_by_mesh_center=True #how the distance is calculated for mesh correspondence\n",
    "meshparty_segment_size = 100\n",
    "meshparty_n_surface_downsampling = 2\n",
    "meshparty_adaptive_correspondence_after_creation=False\n",
    "suppress_preprocessing_print=True\n",
    "computed_attribute_dict=None\n",
    "\n",
    "\n",
    "branch_skeleton_data=None\n",
    "combine_close_skeleton_nodes = True\n",
    "combine_close_skeleton_nodes_threshold=700\n",
    "\n",
    "ignore_warnings=True\n",
    "suppress_output=False\n",
    "calculate_spines=True\n",
    "widths_to_calculate=[\"no_spine_median_mesh_center\"]\n",
    "fill_hole_size=0# The old value for the parameter when performing 2000,\n",
    "\n",
    "preprocessing_version=2\n",
    "limb_to_branch_objects=None"
   ]
  },
  {
   "cell_type": "code",
   "execution_count": null,
   "metadata": {},
   "outputs": [],
   "source": [
    "#arguments for the preprocess neuron\n",
    "mesh = current_neuron_mesh\n",
    "segment_id=segment_id\n",
    "description=description\n",
    "\n",
    "sig_th_initial_split=15 #for significant splitting meshes in the intial mesh split\n",
    "limb_threshold = 2000 #the mesh faces threshold for a mesh to be qualified as a limb (otherwise too small)\n",
    "filter_end_node_length=4500 #used in cleaning the skeleton during skeletonizations\n",
    "return_no_somas = False\n",
    "\n",
    "decomposition_type=decomposition_type\n",
    "mesh_correspondence=mesh_correspondence\n",
    "distance_by_mesh_center=distance_by_mesh_center\n",
    "meshparty_segment_size =meshparty_segment_size\n",
    "meshparty_n_surface_downsampling = meshparty_n_surface_downsampling\n",
    "somas=somas\n",
    "branch_skeleton_data=branch_skeleton_data\n",
    "combine_close_skeleton_nodes = combine_close_skeleton_nodes\n",
    "combine_close_skeleton_nodes_threshold=combine_close_skeleton_nodes_threshold\n",
    "\n",
    "use_meshafterparty=True"
   ]
  },
  {
   "cell_type": "markdown",
   "metadata": {},
   "source": [
    "# Starting of the preprocessing function"
   ]
  },
  {
   "cell_type": "code",
   "execution_count": null,
   "metadata": {},
   "outputs": [],
   "source": [
    "from preprocessing_vp2 import *"
   ]
  },
  {
   "cell_type": "code",
   "execution_count": null,
   "metadata": {},
   "outputs": [],
   "source": [
    "pre_branch_connectivity = \"edges\"\n",
    "print(f\"use_meshafterparty = {use_meshafterparty}\")\n",
    "\n",
    "whole_processing_tiempo = time.time()\n",
    "\n",
    "\n",
    "\"\"\"\n",
    "Purpose: To process the mesh into a format that can be loaded into the neuron class\n",
    "and used for higher order processing (how to visualize is included)\n",
    "\n",
    "This method includes the fusion\n",
    "\n",
    "\"\"\"\n",
    "if description is None:\n",
    "    description = \"no_description\"\n",
    "if segment_id is None:\n",
    "    #pick a random segment id\n",
    "    segment_id = np.random.randint(100000000)\n",
    "    print(f\"picking a random 7 digit segment id: {segment_id}\")\n",
    "    description += \"_random_id\"\n",
    "\n",
    "\n",
    "if mesh is None:\n",
    "    if mesh_file is None:\n",
    "        raise Exception(\"No mesh or mesh_file file were given\")\n",
    "    else:\n",
    "        current_neuron = tu.load_mesh_no_processing(mesh_file)\n",
    "else:\n",
    "    current_neuron = mesh\n"
   ]
  },
  {
   "cell_type": "code",
   "execution_count": null,
   "metadata": {},
   "outputs": [],
   "source": [
    "# -------- Phase 1: Doing Soma Detection (if Not already done) ---------- #\n",
    "if somas is None:\n",
    "    soma_mesh_list,run_time,total_soma_list_sdf = sm.extract_soma_center(segment_id,\n",
    "                                             current_neuron.vertices,\n",
    "                                             current_neuron.faces)\n",
    "else:\n",
    "    soma_mesh_list,run_time,total_soma_list_sdf = somas\n",
    "    print(f\"Using pre-computed somas: soma_mesh_list = {soma_mesh_list}\")\n",
    "\n",
    "# geting the soma centers\n",
    "if len(soma_mesh_list) <= 0:\n",
    "    print(f\"**** No Somas Found for Mesh {segment_id} so just one mesh\")\n",
    "    soma_mesh_list_centers = []\n",
    "    if return_no_somas:\n",
    "        return_value= soma_mesh_list_centers\n",
    "    raise Exception(\"Processing of No Somas is not yet implemented yet\")\n",
    "else:\n",
    "    #compute the soma centers\n",
    "    print(f\"Soma List = {soma_mesh_list}\")\n",
    "\n",
    "    soma_mesh_list_centers = sm.find_soma_centroids(soma_mesh_list)\n",
    "    print(f\"soma_mesh_list_centers = {soma_mesh_list_centers}\")\n",
    "\n",
    "        "
   ]
  },
  {
   "cell_type": "markdown",
   "metadata": {},
   "source": [
    "# Filtering Pieces and Eliminating Inside Soma Pieces"
   ]
  },
  {
   "cell_type": "code",
   "execution_count": null,
   "metadata": {},
   "outputs": [],
   "source": [
    "#--- Phase 2: getting the soma submeshes that are connected to each soma and identifiying those that aren't \n",
    "# ------------------ (and eliminating any mesh pieces inside the soma) ------------------------\n",
    "\n",
    "# -------- 11/13 Addition: Will remove the inside nucleus --------- #\n",
    "interior_time = time.time()\n",
    "\n",
    "\n",
    "\n",
    "if glia_pieces is None or nuclei_piece is None:\n",
    "    main_mesh_total,glia_pieces,nuclei_piece = tu.remove_nuclei_and_glia_meshes(current_neuron,\n",
    "                                                                   verbose=True)\n",
    "print(f\"Total time for removing interior = {time.time() - interior_time}\")\n",
    "\n",
    "\n",
    "#finding the mesh pieces that contain the soma\n",
    "#splitting the current neuron into distinct pieces\n",
    "split_time = time.time()\n",
    "split_meshes = tu.split_significant_pieces(\n",
    "                            main_mesh_total,\n",
    "                            significance_threshold=sig_th_initial_split,\n",
    "                            print_flag=False,\n",
    "                            connectivity=pre_branch_connectivity)\n",
    "print(f\"Total time for splitting mesh = {time.time() - split_time}\")\n",
    "\n",
    "print(f\"# total split meshes = {len(split_meshes)}\")\n",
    "\n",
    "#returns the index of the split_meshes index that contains each soma    \n",
    "containing_mesh_indices = sm.find_soma_centroid_containing_meshes(soma_mesh_list,\n",
    "                                        split_meshes)\n",
    "\n",
    "# filtering away any of the inside floating pieces: \n",
    "non_soma_touching_meshes = [m for i,m in enumerate(split_meshes)\n",
    "                 if i not in list(containing_mesh_indices.values())]\n",
    "\n",
    "#Adding the step that will filter away any pieces that are inside the soma\n",
    "if len(non_soma_touching_meshes) > 0 and len(soma_mesh_list) > 0:\n",
    "    \"\"\"\n",
    "    *** want to save these pieces that are inside of the soma***\n",
    "    \"\"\"\n",
    "\n",
    "    non_soma_touching_meshes,inside_pieces = sm.filter_away_inside_soma_pieces(soma_mesh_list,non_soma_touching_meshes,\n",
    "                                    significance_threshold=sig_th_initial_split,\n",
    "                                    return_inside_pieces = True)\n",
    "\n",
    "else:\n",
    "    non_soma_touching_meshes = []\n",
    "    inside_pieces=[]\n",
    "\n",
    "#adding in the nuclei center to the inside pieces\n",
    "inside_pieces += inside_nucleus_pieces\n",
    "\n",
    "\n",
    "split_meshes # the meshes of the original mesh\n",
    "containing_mesh_indices #the mapping of each soma centroid to the correct split mesh\n",
    "soma_containing_meshes = sm.grouping_containing_mesh_indices(containing_mesh_indices)\n",
    "\n",
    "soma_touching_meshes = [split_meshes[k] for k in soma_containing_meshes.keys()]\n",
    "\n",
    "\n",
    "#     print(f\"# of non soma touching seperate meshes = {len(non_soma_touching_meshes)}\")\n",
    "#     print(f\"# of inside pieces = {len(inside_pieces)}\")\n",
    "print(f\"\\n-----Before filtering away multiple disconneted soma pieces-----\")\n",
    "print(f\"# of soma containing seperate meshes = {len(soma_touching_meshes)}\")\n",
    "print(f\"meshes with somas = {soma_containing_meshes}\")\n",
    "\n",
    "# ------ 11/15 Addition: Part 2.b \n",
    "\n",
    "\"\"\"\n",
    "Pseudocode: \n",
    "1) Get the largest of the meshes with a soma (largest in soma_touching_meshes)\n",
    "2) Save all other meshes not the largest in \n",
    "3) Overwrite the following variables:\n",
    "    soma_mesh_list\n",
    "    soma_containing_meshes\n",
    "    soma_touching_meshes\n",
    "    total_soma_list_sdf\n",
    "\n",
    "\n",
    "\"\"\"\n",
    "#1) Get the largest of the meshes with a soma (largest in soma_touching_meshes)\n",
    "soma_containing_meshes_keys = np.array(list(soma_containing_meshes.keys()))\n",
    "soma_touching_meshes = np.array([split_meshes[k] for k in soma_containing_meshes_keys])\n",
    "largest_soma_touching_mesh_idx = soma_containing_meshes_keys[np.argmax([len(kk.faces) for kk in soma_touching_meshes])]\n",
    "\n",
    "#2) Save all other meshes not the largest in \n",
    "not_processed_soma_containing_meshes_idx = np.setdiff1d(soma_containing_meshes_keys,[largest_soma_touching_mesh_idx])\n",
    "not_processed_soma_containing_meshes = [split_meshes[k] for k in not_processed_soma_containing_meshes_idx]\n",
    "print(f\"Number of not_processed_soma_containing_meshes = {len(not_processed_soma_containing_meshes)}\")\n",
    "\n",
    "\"\"\"\n",
    "3) Overwrite the following variables:\n",
    "    soma_mesh_list\n",
    "    soma_containing_meshes\n",
    "    soma_touching_meshes\n",
    "    total_soma_list_sdf\n",
    "\n",
    "\"\"\"\n",
    "\n",
    "somas_idx_to_process = soma_containing_meshes[largest_soma_touching_mesh_idx]\n",
    "soma_mesh_list = [soma_mesh_list[k] for k in somas_idx_to_process]\n",
    "\n",
    "soma_containing_meshes = {largest_soma_touching_mesh_idx:list(np.arange(0,len(soma_mesh_list)))}\n",
    "\n",
    "soma_touching_meshes = [split_meshes[largest_soma_touching_mesh_idx]]\n",
    "\n",
    "total_soma_list_sdf = total_soma_list_sdf[somas_idx_to_process]\n",
    "\n",
    "print(f\"\\n-----After filtering away multiple disconneted soma pieces-----\")\n",
    "print(f\"# of soma containing seperate meshes = {len(soma_touching_meshes)}\")\n",
    "print(f\"meshes with somas = {soma_containing_meshes}\")"
   ]
  },
  {
   "cell_type": "code",
   "execution_count": null,
   "metadata": {},
   "outputs": [],
   "source": [
    "#--- Phase 3:  Soma Extraction was great (but it wasn't the original soma faces), so now need to get the original soma faces and the original non-soma faces of original pieces\n",
    "\n",
    "\"\"\"\n",
    "for each soma touching mesh get the following:\n",
    "1) original soma meshes\n",
    "2) significant mesh pieces touching these somas\n",
    "3) The soma connectivity to each of the significant mesh pieces\n",
    "-- later will just translate the \n",
    "\n",
    "\n",
    "Process: \n",
    "\n",
    "1) Final all soma faces (through soma extraction and then soma original faces function)\n",
    "2) Subtact all soma faces from original mesh\n",
    "3) Find all significant mesh pieces\n",
    "4) Backtrack significant mesh pieces to orignal mesh and find connectivity of each to all\n",
    "   the available somas\n",
    "Conclusion: Will have connectivity map\n",
    "\n",
    "\n",
    "\"\"\"\n",
    "\n",
    "soma_touching_mesh_data = dict()\n",
    "\n",
    "for z,(mesh_idx, soma_idxes) in enumerate(soma_containing_meshes.items()):\n",
    "    soma_touching_mesh_data[z] = dict()\n",
    "    print(f\"\\n\\n----Working on soma-containing mesh piece {z}----\")\n",
    "\n",
    "    #1) Final all soma faces (through soma extraction and then soma original faces function)\n",
    "    current_mesh = split_meshes[mesh_idx]\n",
    "\n",
    "    current_soma_mesh_list = [soma_mesh_list[k] for k in soma_idxes]\n",
    "\n",
    "    current_time = time.time()\n",
    "    mesh_pieces_without_soma = sm.subtract_soma(current_soma_mesh_list,current_mesh,\n",
    "                                                significance_threshold=250,\n",
    "                                               connectivity=pre_branch_connectivity)\n",
    "    print(f\"Total time for Subtract Soam = {time.time() - current_time}\")\n",
    "    current_time = time.time()\n",
    "\n",
    "    mesh_pieces_without_soma_stacked = tu.combine_meshes(mesh_pieces_without_soma)\n",
    "\n",
    "    # find the original soma faces of mesh\n",
    "    soma_faces = tu.original_mesh_faces_map(current_mesh,mesh_pieces_without_soma_stacked,matching=False)\n",
    "    print(f\"Total time for Original_mesh_faces_map for mesh_pieces without soma= {time.time() - current_time}\")\n",
    "    current_time = time.time()\n",
    "    soma_meshes = current_mesh.submesh([soma_faces],append=True,repair=False)\n",
    "\n",
    "    # finding the non-soma original faces\n",
    "    non_soma_faces = tu.original_mesh_faces_map(current_mesh,soma_meshes,matching=False)\n",
    "    non_soma_stacked_mesh = current_mesh.submesh([non_soma_faces],append=True,repair=False)\n",
    "\n",
    "    print(f\"Total time for Original_mesh_faces_map for somas= {time.time() - current_time}\")\n",
    "    current_time = time.time()\n",
    "\n",
    "    #4) Backtrack significant mesh pieces to orignal mesh and find connectivity of each to all the available somas\n",
    "    # get all the seperate mesh faces\n",
    "\n",
    "    #How to seperate the mesh faces\n",
    "    seperate_soma_meshes,soma_face_components = tu.split(soma_meshes,only_watertight=False,\n",
    "                                                        connectivity=pre_branch_connectivity)\n",
    "    #take the top largest ones depending how many were originally in the soma list\n",
    "    seperate_soma_meshes = seperate_soma_meshes[:len(soma_mesh_list)]\n",
    "    soma_face_components = soma_face_components[:len(soma_mesh_list)]\n",
    "\n",
    "    soma_touching_mesh_data[z][\"soma_meshes\"] = seperate_soma_meshes\n",
    "\n",
    "\n",
    "\n",
    "\n",
    "    # 3) Find all significant mesh pieces\n",
    "    \"\"\"\n",
    "    Pseudocode: \n",
    "    a) Iterate through all of the somas and get the pieces that are connected\n",
    "    b) Concatenate all the results into one list and order\n",
    "    c) Filter away the mesh pieces that aren't touching and add to the floating pieces\n",
    "\n",
    "    \"\"\"\n",
    "    sig_non_soma_pieces,insignificant_limbs = tu.split_significant_pieces(non_soma_stacked_mesh,significance_threshold=limb_threshold,\n",
    "                                                     return_insignificant_pieces=True,\n",
    "                                                                         connectivity=pre_branch_connectivity)\n",
    "\n",
    "    # a) Filter these down to only those touching the somas\n",
    "    all_conneted_non_soma_pieces = []\n",
    "    for i,curr_soma in enumerate(seperate_soma_meshes):\n",
    "        (connected_mesh_pieces,\n",
    "         connected_mesh_pieces_vertices,\n",
    "         connected_mesh_pieces_vertices_idx) = tu.mesh_pieces_connectivity(\n",
    "                        main_mesh=current_mesh,\n",
    "                        central_piece=curr_soma,\n",
    "                        periphery_pieces = sig_non_soma_pieces,\n",
    "                        return_vertices = True,\n",
    "                        return_vertices_idx=True)\n",
    "        all_conneted_non_soma_pieces.append(connected_mesh_pieces)\n",
    "\n",
    "    #b) Iterate through all of the somas and get the pieces that are connected\n",
    "    t_non_soma_pieces = np.concatenate(all_conneted_non_soma_pieces)\n",
    "\n",
    "    #c) Filter away the mesh pieces that aren't touching and add to the floating pieces\n",
    "    sig_non_soma_pieces = [s_t for hh,s_t in enumerate(sig_non_soma_pieces) if hh in t_non_soma_pieces]\n",
    "    new_floating_pieces = [s_t for hh,s_t in enumerate(sig_non_soma_pieces) if hh not in t_non_soma_pieces]\n",
    "\n",
    "    print(f\"new_floating_pieces = {new_floating_pieces}\")\n",
    "\n",
    "    non_soma_touching_meshes += new_floating_pieces\n",
    "\n",
    "\n",
    "\n",
    "    print(f\"Total time for sig_non_soma_pieces= {time.time() - current_time}\")\n",
    "    current_time = time.time()\n",
    "\n",
    "    soma_touching_mesh_data[z][\"branch_meshes\"] = sig_non_soma_pieces\n",
    "\n",
    "\n",
    "\n",
    "\n",
    "\n",
    "\n",
    "    print(f\"Total time for split= {time.time() - current_time}\")\n",
    "    current_time = time.time()\n",
    "\n",
    "\n",
    "\n",
    "    soma_to_piece_connectivity = dict()\n",
    "    soma_to_piece_touching_vertices = dict()\n",
    "    soma_to_piece_touching_vertices_idx = dict()\n",
    "    limb_root_nodes = dict()\n",
    "\n",
    "    m_vert_graph = tu.mesh_vertex_graph(current_mesh)\n",
    "\n",
    "    for i,curr_soma in enumerate(seperate_soma_meshes):\n",
    "        (connected_mesh_pieces,\n",
    "         connected_mesh_pieces_vertices,\n",
    "         connected_mesh_pieces_vertices_idx) = tu.mesh_pieces_connectivity(\n",
    "                        main_mesh=current_mesh,\n",
    "                        central_piece=curr_soma,\n",
    "                        periphery_pieces = sig_non_soma_pieces,\n",
    "                        return_vertices = True,\n",
    "                        return_vertices_idx=True)\n",
    "        #print(f\"soma {i}: connected_mesh_pieces = {connected_mesh_pieces}\")\n",
    "        soma_to_piece_connectivity[i] = connected_mesh_pieces\n",
    "\n",
    "        soma_to_piece_touching_vertices[i] = dict()\n",
    "        for piece_index,piece_idx in enumerate(connected_mesh_pieces):\n",
    "            limb_root_nodes[piece_idx] = connected_mesh_pieces_vertices[piece_index][0]\n",
    "\n",
    "            \"\"\" Old way of finding vertex connected components on a mesh without trimesh function\n",
    "            #find the number of touching groups and save those \n",
    "            soma_touching_graph = m_vert_graph.subgraph(connected_mesh_pieces_vertices_idx[piece_index])\n",
    "            soma_con_comp = [current_mesh.vertices[np.array(list(k)).astype(\"int\")] for k in list(nx.connected_components(soma_touching_graph))]\n",
    "            soma_to_piece_touching_vertices[i][piece_idx] = soma_con_comp\n",
    "            \"\"\"\n",
    "\n",
    "            soma_to_piece_touching_vertices[i][piece_idx] = tu.split_vertex_list_into_connected_components(\n",
    "                                                vertex_indices_list=connected_mesh_pieces_vertices_idx[piece_index],\n",
    "                                                mesh=current_mesh, \n",
    "                                                vertex_graph=m_vert_graph, \n",
    "                                                return_coordinates=True\n",
    "                                               )\n",
    "\n",
    "\n",
    "\n",
    "\n",
    "\n",
    "#         border_debug = False\n",
    "#         if border_debug:\n",
    "#             print(f\"soma_to_piece_connectivity = {soma_to_piece_connectivity}\")\n",
    "#             print(f\"soma_to_piece_touching_vertices = {soma_to_piece_touching_vertices}\")\n",
    "\n",
    "\n",
    "    print(f\"Total time for mesh_pieces_connectivity= {time.time() - current_time}\")\n",
    "\n",
    "    soma_touching_mesh_data[z][\"soma_to_piece_connectivity\"] = soma_to_piece_connectivity\n",
    "\n",
    "print(f\"# of insignificant_limbs = {len(insignificant_limbs)} with trimesh : {insignificant_limbs}\")\n",
    "print(f\"# of not_processed_soma_containing_meshes = {len(not_processed_soma_containing_meshes)} with trimesh : {not_processed_soma_containing_meshes}\")\n",
    "\n",
    "\n",
    "\n",
    "\n",
    "# Lets have an alert if there was more than one soma disconnected meshes\n",
    "if len(soma_touching_mesh_data.keys()) > 1:\n",
    "    raise Exception(\"More than 1 disconnected meshes that contain somas\")\n",
    "\n",
    "current_mesh_data = soma_touching_mesh_data\n",
    "soma_containing_idx = 0\n",
    "\n",
    "#doing inversion of the connectivity and touching vertices\n",
    "piece_to_soma_touching_vertices = gu.flip_key_orders_for_dict(soma_to_piece_touching_vertices)\n",
    "\n"
   ]
  },
  {
   "cell_type": "markdown",
   "metadata": {},
   "source": [
    "# Doing the Actual Limb Processing"
   ]
  },
  {
   "cell_type": "code",
   "execution_count": null,
   "metadata": {},
   "outputs": [],
   "source": [
    "pre = reload(pre)"
   ]
  },
  {
   "cell_type": "code",
   "execution_count": null,
   "metadata": {},
   "outputs": [],
   "source": [
    "# Phase 4: Skeletonization, Mesh Correspondence,  \n",
    "\n",
    "proper_time = time.time()\n",
    "\n",
    "#The containers that will hold the final data for the preprocessed neuron\n",
    "limb_correspondence=dict()\n",
    "limb_network_stating_info = dict()\n",
    "\n",
    "# ---------- Part A: skeletonization and mesh decomposition --------- #\n",
    "skeleton_time = time.time()\n",
    "\n",
    "for curr_limb_idx,limb_mesh_mparty in enumerate(current_mesh_data[0][\"branch_meshes\"]):\n",
    "\n",
    "    #Arguments to pass to the specific function (when working with a limb)\n",
    "    soma_touching_vertices_dict = piece_to_soma_touching_vertices[curr_limb_idx]\n",
    "\n",
    "    curr_limb_time = time.time()\n",
    "    print(f\"\\n\\n----- Working on Proper Limb # {curr_limb_idx} ---------\")\n",
    "    \n",
    "    if curr_limb_idx != 1:\n",
    "        continue\n",
    "    else:\n",
    "        raise Exception(\"\")\n",
    "\n",
    "    print(f\"meshparty_segment_size = {meshparty_segment_size}\")\n",
    "    limb_correspondence_individual,network_starting_info = pre.preprocess_limb(mesh=limb_mesh_mparty,\n",
    "                   soma_touching_vertices_dict = soma_touching_vertices_dict,\n",
    "                   return_concept_network = False, \n",
    "                   return_concept_network_starting_info=True,\n",
    "                   width_threshold_MAP=500,\n",
    "                   size_threshold_MAP=2000,\n",
    "                   surface_reconstruction_size=1000,  \n",
    "\n",
    "                   #arguments added from the big preprocessing step                                                            \n",
    "                   distance_by_mesh_center=distance_by_mesh_center,\n",
    "                   meshparty_segment_size=meshparty_segment_size,\n",
    "                   meshparty_n_surface_downsampling = meshparty_n_surface_downsampling,\n",
    "\n",
    "                    use_meshafterparty=use_meshafterparty,\n",
    "\n",
    "                   )\n",
    "    #Storing all of the data to be sent to \n",
    "\n",
    "    limb_correspondence[curr_limb_idx] = limb_correspondence_individual\n",
    "    limb_network_stating_info[curr_limb_idx] = network_starting_info\n",
    "    \n",
    "    raise Exception(\"Finished\")\n",
    "\n",
    "print(f\"Total time for Skeletonization and Mesh Correspondence = {time.time() - skeleton_time}\")\n",
    "\n",
    "\n",
    "\n",
    "# ---------- Part B: Stitching on floating pieces --------- #\n",
    "print(\"\\n\\n ----- Working on Stitching ----------\")\n",
    "\n",
    "floating_stitching_time = time.time()\n",
    "\n",
    "if len(limb_correspondence) > 0:\n",
    "    non_soma_touching_meshes_to_stitch = tu.check_meshes_outside_multiple_mesh_bbox(seperate_soma_meshes,non_soma_touching_meshes,\n",
    "                             return_indices=False)\n",
    "\n",
    "    limb_correspondence_with_floating_pieces = pre.attach_floating_pieces_to_limb_correspondence(\n",
    "            limb_correspondence,\n",
    "            floating_meshes=non_soma_touching_meshes_to_stitch,\n",
    "            floating_piece_face_threshold = 600,\n",
    "            max_stitch_distance=8000,\n",
    "            distance_to_move_point_threshold = 4000,\n",
    "            verbose = False)\n",
    "else:\n",
    "    limb_correspondence_with_floating_pieces = limb_correspondence\n",
    "\n",
    "\n",
    "\n",
    "\n",
    "print(f\"Total time for stitching floating pieces = {time.time() - floating_stitching_time}\")\n",
    "\n",
    "\n",
    "\n",
    "\n",
    "\n",
    "# ---------- Part C: Computing Concept Networks --------- #\n",
    "concept_network_time = time.time()\n",
    "\n",
    "limb_concept_networks=dict()\n",
    "limb_labels=dict()\n",
    "\n",
    "for curr_limb_idx,limb_mesh_mparty in enumerate(current_mesh_data[0][\"branch_meshes\"]):\n",
    "    limb_to_soma_concept_networks = pre.calculate_limb_concept_networks(limb_correspondence_with_floating_pieces[curr_limb_idx],\n",
    "                                                                    limb_network_stating_info[curr_limb_idx],\n",
    "                                                                    run_concept_network_checks=True,\n",
    "                                                                       )   \n",
    "\n",
    "\n",
    "\n",
    "    limb_concept_networks[curr_limb_idx] = limb_to_soma_concept_networks\n",
    "    limb_labels[curr_limb_idx]= \"Unlabeled\"\n",
    "\n",
    "print(f\"Total time for Concept Networks = {time.time() - concept_network_time}\")\n",
    "\n"
   ]
  },
  {
   "cell_type": "code",
   "execution_count": null,
   "metadata": {},
   "outputs": [],
   "source": [
    "curr_limb_idx"
   ]
  },
  {
   "cell_type": "markdown",
   "metadata": {},
   "source": [
    "# Debugging the can't find endpoints"
   ]
  },
  {
   "cell_type": "markdown",
   "metadata": {},
   "source": [
    "\n",
    "# The Limb Preprocessing Function"
   ]
  },
  {
   "cell_type": "code",
   "execution_count": null,
   "metadata": {},
   "outputs": [],
   "source": [
    "mesh=limb_mesh_mparty\n",
    "soma_touching_vertices_dict = soma_touching_vertices_dict\n",
    "return_concept_network = False\n",
    "return_concept_network_starting_info=True\n",
    "width_threshold_MAP=500\n",
    "size_threshold_MAP=2000\n",
    "surface_reconstruction_size=1000  \n",
    "\n",
    "#arguments added from the big preprocessing step                                                            \n",
    "distance_by_mesh_center=distance_by_mesh_center\n",
    "meshparty_segment_size=meshparty_segment_size\n",
    "meshparty_n_surface_downsampling = meshparty_n_surface_downsampling\n",
    "\n",
    "use_meshafterparty=use_meshafterparty\n",
    "\n",
    "\n",
    "\n",
    "\n",
    "combine_close_skeleton_nodes=True\n",
    "combine_close_skeleton_nodes_threshold=700\n",
    "filter_end_node_length=4000\n",
    "perform_cleaning_checks = True\n",
    "\n",
    "\n",
    "\n",
    "#parameters for MP skeletonization,\n",
    "\n",
    "#Parameters for setting how the MAP skeletonization takes place\n",
    "use_surface_after_CGAL=False\n",
    "\n",
    "#parametrers for stitching the MAP and MP pieces together\n",
    "move_MAP_stitch_to_end_or_branch = True\n",
    "distance_to_move_point_threshold=500\n",
    "\n",
    "#concept_network parameters\n",
    "run_concept_network_checks = True\n",
    "\n",
    "\n",
    "#printing controls\n",
    "verbose = True\n",
    "print_fusion_steps=True\n",
    "\n",
    "check_correspondence_branches = True\n",
    "filter_end_nodes_from_correspondence = True\n",
    "\n",
    "error_on_no_starting_coordinates=True,\n",
    "prevent_MP_starter_branch_stitches = False, #will control if a MP soma extending branch is able to be stitched to\n",
    "    \n",
    "\n"
   ]
  },
  {
   "cell_type": "code",
   "execution_count": null,
   "metadata": {},
   "outputs": [],
   "source": [
    "curr_limb_time = time.time()\n",
    "\n",
    "limb_mesh_mparty = mesh\n",
    "\n",
    "\n",
    "#will store a list of all the endpoints tha tmust be kept:\n",
    "limb_to_endpoints_must_keep_list = []\n",
    "limb_to_soma_touching_vertices_list = []\n",
    "\n",
    "# --------------- Part 1 and 2: Getting Border Vertices and Setting the Root------------- #\n",
    "fusion_time = time.time()\n",
    "#will eventually get the current root from soma_to_piece_touching_vertices[i]\n",
    "if not soma_touching_vertices_dict is None:\n",
    "    root_curr = soma_touching_vertices_dict[list(soma_touching_vertices_dict.keys())[0]][0][0]\n",
    "else:\n",
    "    root_curr = None\n",
    "\n",
    "print(f\"root_curr = {root_curr}\")\n",
    "\n",
    "if print_fusion_steps:\n",
    "    print(f\"Time for preparing soma vertices and root: {time.time() - fusion_time }\")\n",
    "    fusion_time = time.time()\n",
    "\n",
    "# --------------- Part 3: Meshparty skeletonization and Decomposition ------------- #\n",
    "sk_meshparty_obj = m_sk.skeletonize_mesh_largest_component(limb_mesh_mparty,\n",
    "                                                        root=root_curr,\n",
    "                                                          filter_mesh=False)\n",
    "\n",
    "print(f\"meshparty_segment_size = {meshparty_segment_size}\")\n",
    "\n",
    "if print_fusion_steps:\n",
    "    print(f\"Time for 1st pass MP skeletonization: {time.time() - fusion_time }\")\n",
    "    fusion_time = time.time()\n",
    "\n",
    "(segment_branches, #skeleton branches\n",
    "divided_submeshes, divided_submeshes_idx, #mesh correspondence (mesh and indices)\n",
    "segment_widths_median) = m_sk.skeleton_obj_to_branches(sk_meshparty_obj,\n",
    "                                                      mesh = limb_mesh_mparty,\n",
    "                                                      meshparty_segment_size=meshparty_segment_size)\n",
    "\n",
    "\n",
    "\n",
    "\n",
    "\n",
    "if print_fusion_steps:\n",
    "    print(f\"Decomposing first pass: {time.time() - fusion_time }\")\n",
    "    fusion_time = time.time()\n",
    "\n",
    "\n",
    "if use_meshafterparty:\n",
    "    print(\"Attempting to use MeshAfterParty Skeletonization and Mesh Correspondence\")\n",
    "    # --------------- Part 4: Find Individual Branches that could be MAP processed because of width ------------- #\n",
    "    #gettin the branches that should be passed through MAP skeletonization\n",
    "    pieces_above_threshold = np.where(segment_widths_median>width_threshold_MAP)[0]\n",
    "\n",
    "    #getting the correspondnece info for those MAP qualifying\n",
    "    width_large = segment_widths_median[pieces_above_threshold]\n",
    "    sk_large = [segment_branches[k] for k in pieces_above_threshold]\n",
    "    mesh_large_idx = [divided_submeshes_idx[k] for k in pieces_above_threshold]\n",
    "else:\n",
    "    print(\"Only Using MeshParty Skeletonization and Mesh Correspondence\")\n",
    "    mesh_large_idx = []\n",
    "    width_large = []\n",
    "    sk_large = []\n",
    "\n",
    "\n",
    "print(\"Another print\")\n",
    "mesh_pieces_for_MAP = []\n",
    "mesh_pieces_for_MAP_face_idx = []\n",
    "\n",
    "\n",
    "if len(mesh_large_idx) > 0: #will only continue processing if found MAP candidates\n",
    "\n",
    "    # --------------- Part 5: Find mesh connectivity and group MAP branch candidates into MAP sublimbs ------------- #\n",
    "    print(f\"Found len(mesh_large_idx) MAP candidates: {[len(k) for k in mesh_large_idx]}\")\n",
    "\n",
    "    #finds the connectivity edges of all the MAP candidates\n",
    "    mesh_large_connectivity = tu.mesh_list_connectivity(meshes = mesh_large_idx,\n",
    "                                                        connectivity=\"edges\",\n",
    "                            main_mesh = limb_mesh_mparty,\n",
    "                            print_flag = False)\n",
    "    if print_fusion_steps:\n",
    "        print(f\"mesh_large_connectivity: {time.time() - fusion_time }\")\n",
    "        fusion_time = time.time()\n",
    "        \n",
    "    \n",
    "    \"\"\"\n",
    "    --------------- Grouping MAP candidates ----------------\n",
    "    Purpose: Will see what mesh pieces should be grouped together\n",
    "    to pass through CGAL skeletonization\n",
    "\n",
    "\n",
    "    Pseudocode: \n",
    "    1) build a networkx graph with all nodes for mesh_large_idx indexes\n",
    "    2) Add the edges\n",
    "    3) Find the connected components\n",
    "    4) Find sizes of connected components\n",
    "    5) For all those connected components that are of a large enough size, \n",
    "    add the mesh branches and skeletons to the final list\n",
    "\n",
    "\n",
    "    \"\"\"\n",
    "    G = nx.Graph()\n",
    "    G.add_nodes_from(np.arange(len(mesh_large_idx)))\n",
    "    G.add_edges_from(mesh_large_connectivity)\n",
    "    conn_comp = list(nx.connected_components(G))\n",
    "    \n",
    "    print(\"**** Debugging big mesh connectivity ********\")\n",
    "    print(f\"mesh_large_connectivity = {mesh_large_connectivity}\")\n",
    "    print(f\"conn_comp = {conn_comp}\")\n",
    "\n",
    "    filtered_pieces = []\n",
    "\n",
    "    sk_large_size_filt = []\n",
    "    mesh_large_idx_size_filt = []\n",
    "    width_large_size_filt = []\n",
    "\n",
    "    for cc in conn_comp:\n",
    "        total_cc_size = np.sum([len(mesh_large_idx[k]) for k in cc])\n",
    "        if total_cc_size>size_threshold_MAP:\n",
    "            #print(f\"cc ({cc}) passed the size threshold because size was {total_cc_size}\")\n",
    "            filtered_pieces.append(pieces_above_threshold[list(cc)])\n",
    "\n",
    "    if print_fusion_steps:\n",
    "        print(f\"Finding MAP candidates connected components: {time.time() - fusion_time }\")\n",
    "        fusion_time = time.time()\n",
    "\n",
    "    #filtered_pieces: will have the indexes of all the branch candidates that should  be \n",
    "    #grouped together and passed through MAP skeletonization\n",
    "\n",
    "    if len(filtered_pieces) > 0:\n",
    "        # --------------- Part 6: If Found MAP sublimbs, Get the meshes and mesh_idxs of the sublimbs ------------- #\n",
    "        print(f\"len(filtered_pieces) = {len(filtered_pieces)}\")\n",
    "        #all the pieces that will require MAP mesh correspondence and skeletonization\n",
    "        #(already organized into their components)\n",
    "        mesh_pieces_for_MAP = [limb_mesh_mparty.submesh([np.concatenate(divided_submeshes_idx[k])],append=True,repair=False) for k in filtered_pieces]\n",
    "        mesh_pieces_for_MAP_face_idx = [np.concatenate(divided_submeshes_idx[k]) for k in filtered_pieces]\n",
    "\n",
    "\n",
    "\n",
    "        \"\"\"\n",
    "        Old Way: Finding connectivity of pieces through\n",
    "        mesh_idx_MP = [divided_submeshes_idx[k] for k in pieces_idx_MP]\n",
    "\n",
    "        mesh_large_connectivity_MP = tu.mesh_list_connectivity(meshes = mesh_idx_MP,\n",
    "                                main_mesh = limb_mesh_mparty,\n",
    "                                print_flag = False)\n",
    "\n",
    "        New Way: going to use skeleton connectivity to determine\n",
    "        connectivity of pieces\n",
    "\n",
    "        Pseudocode: \n",
    "        1)\n",
    "\n",
    "        \"\"\"\n",
    "        # --------------- Part 7: If Found MAP sublimbs, Get the meshes and mesh_idxs of the sublimbs ------------- #\n",
    "        # ********* if there are no pieces leftover then will automatically make all the lists below just empty (don't need to if.. else.. the case)****\n",
    "        pieces_idx_MP = np.setdiff1d(np.arange(len(divided_submeshes_idx)),np.concatenate(filtered_pieces))\n",
    "\n",
    "        skeleton_MP = [segment_branches[k] for k in pieces_idx_MP]\n",
    "        skeleton_connectivity_MP = sk.skeleton_list_connectivity(\n",
    "                                        skeletons=skeleton_MP\n",
    "                                        )\n",
    "        if print_fusion_steps:\n",
    "            print(f\"skeleton_connectivity_MP : {time.time() - fusion_time }\")\n",
    "            fusion_time = time.time()\n",
    "\n",
    "        G = nx.Graph()\n",
    "        G.add_nodes_from(np.arange(len(skeleton_MP)))\n",
    "        G.add_edges_from(skeleton_connectivity_MP)\n",
    "        sublimbs_MP = list(nx.connected_components(G))\n",
    "        sublimbs_MP_orig_idx = [pieces_idx_MP[list(k)] for k in sublimbs_MP]\n",
    "\n",
    "\n",
    "        #concatenate into sublimbs the skeletons and meshes\n",
    "        sublimb_mesh_idx_branches_MP = [divided_submeshes_idx[k] for k in sublimbs_MP_orig_idx]\n",
    "        sublimb_mesh_branches_MP = [[limb_mesh_mparty.submesh([ki],append=True,repair=False)\n",
    "                                    for ki in k] for k in sublimb_mesh_idx_branches_MP]\n",
    "        sublimb_meshes_MP = [limb_mesh_mparty.submesh([np.concatenate(k)],append=True,repair=False)\n",
    "                                                     for k in sublimb_mesh_idx_branches_MP]\n",
    "        sublimb_meshes_MP_face_idx = [np.concatenate(k)\n",
    "                                                     for k in sublimb_mesh_idx_branches_MP]\n",
    "        sublimb_skeleton_branches = [segment_branches[k] for k in sublimbs_MP_orig_idx]\n",
    "        widths_MP = [segment_widths_median[k] for k in sublimbs_MP_orig_idx]\n",
    "\n",
    "        if print_fusion_steps:\n",
    "            print(f\"Grouping MP Sublimbs by Graph: {time.time() - fusion_time }\")\n",
    "            fusion_time = time.time()\n",
    "\n",
    "\n",
    "# else: #if no pieces were determine to need MAP processing\n",
    "#     print(\"No MAP processing needed: just returning the Meshparty skeletonization and mesh correspondence\")\n",
    "#     raise Exception(\"Returning MP correspondence\")\n",
    "\n",
    "\n",
    "# nviz.plot_objects(main_mesh=tu.combine_meshes([limb_mesh_mparty,current_neuron[\"S0\"].mesh]),\n",
    "#                   main_mesh_color=\"green\",\n",
    "#     skeletons=sk_large_size_filt,\n",
    "#      meshes=[limb_mesh_mparty.submesh([k],append=True) for k in mesh_large_idx_size_filt],\n",
    "#       meshes_colors=\"red\")\n",
    "\n",
    "\n",
    "\n",
    "\n",
    "\n",
    "\n",
    "\n",
    "\n",
    "# --------------- Part 8: If No MAP sublimbs found, set the MP sublimb lists to just the whole MP branch decomposition ------------- #\n",
    "\n",
    "#if no sublimbs need to be decomposed with MAP then just reassign all of the previous MP processing to the sublimb_MPs\n",
    "if len(mesh_pieces_for_MAP) == 0:\n",
    "    sublimb_meshes_MP = [limb_mesh_mparty] #trimesh pieces that have already been passed through MP skeletonization (may not need)\n",
    "    # -- the decomposition information ---\n",
    "    sublimb_mesh_branches_MP = [divided_submeshes] #the mesh branches for all the disconnected sublimbs\n",
    "    sublimb_mesh_idx_branches_MP = [divided_submeshes_idx] #The mesh branches idx that have already passed through MP skeletonization\n",
    "    sublimb_skeleton_branches = [segment_branches]#the skeleton bnraches for all the sublimbs\n",
    "    widths_MP = [segment_widths_median] #the mesh branches widths for all the disconnected groups\n",
    "\n",
    "    MAP_flag = False\n",
    "else:\n",
    "    MAP_flag = True\n",
    "\n",
    "\n",
    "\n",
    "mesh_pieces_for_MAP #trimesh pieces that should go through CGAL skeletonization\n",
    "sublimb_meshes_MP #trimesh pieces that have already been passed through MP skeletonization (may not need)\n",
    "\n",
    "# -- the decomposition information ---\n",
    "sublimb_mesh_branches_MP #the mesh branches for all the disconnected sublimbs\n",
    "sublimb_mesh_idx_branches_MP #The mesh branches idx that have already passed through MP skeletonization\n",
    "sublimb_skeleton_branches #the skeleton bnraches for all the sublimbs\n",
    "widths_MP #the mesh branches widths for all the disconnected groups\n",
    "\n",
    "if print_fusion_steps:\n",
    "    print(f\"Divinding into MP and MAP pieces: {time.time() - fusion_time }\")\n",
    "    fusion_time = time.time()\n",
    "\n",
    "\n",
    "\n",
    "# ------------------- At this point have the correct division between MAP and MP ------------------------\n",
    "\n",
    "# -------------- Part 9: Doing the MAP decomposition ------------------ #\n",
    "global_start_time = time.time()\n",
    "endpoints_must_keep = dict()\n",
    "\n",
    "\n",
    "\n",
    "limb_correspondence_MAP = dict()\n",
    "\n",
    "for sublimb_idx,(mesh,mesh_idx) in enumerate(zip(mesh_pieces_for_MAP,mesh_pieces_for_MAP_face_idx)):\n",
    "    print(f\"--- Working on MAP piece {sublimb_idx}---\")\n",
    "    #print(f\"soma_touching_vertices_dict = {soma_touching_vertices_dict}\")\n",
    "    mesh_start_time = time.time()\n",
    "    curr_soma_to_piece_touching_vertices = filter_soma_touching_vertices_dict_by_mesh(\n",
    "    mesh = mesh,\n",
    "    curr_piece_to_soma_touching_vertices = soma_touching_vertices_dict\n",
    "    )\n",
    "\n",
    "    if print_fusion_steps:\n",
    "        print(f\"MAP Filtering Soma Pieces: {time.time() - fusion_time }\")\n",
    "        fusion_time = time.time()\n",
    "\n",
    "    # ---- 0) Generating the Clean skeletons  -------------------------------------------#\n",
    "    if not curr_soma_to_piece_touching_vertices is None:\n",
    "        curr_total_border_vertices = dict([(k,np.vstack(v)) for k,v in curr_soma_to_piece_touching_vertices.items()])\n",
    "    else:\n",
    "        curr_total_border_vertices = None\n",
    "\n",
    "\n",
    "    cleaned_branch,curr_limb_endpoints_must_keep = sk.skeletonize_and_clean_connected_branch_CGAL(\n",
    "        mesh=mesh,\n",
    "        curr_soma_to_piece_touching_vertices=curr_soma_to_piece_touching_vertices,\n",
    "        total_border_vertices=curr_total_border_vertices,\n",
    "        filter_end_node_length=filter_end_node_length,\n",
    "        perform_cleaning_checks=perform_cleaning_checks,\n",
    "        combine_close_skeleton_nodes = combine_close_skeleton_nodes,\n",
    "        combine_close_skeleton_nodes_threshold=combine_close_skeleton_nodes_threshold,\n",
    "    use_surface_after_CGAL=use_surface_after_CGAL,\n",
    "    surface_reconstruction_size=surface_reconstruction_size)\n",
    "\n",
    "    if not curr_limb_endpoints_must_keep is None:\n",
    "        limb_to_endpoints_must_keep_list.append(curr_limb_endpoints_must_keep)\n",
    "        limb_to_soma_touching_vertices_list.append(curr_soma_to_piece_touching_vertices)\n",
    "    else:\n",
    "        print(\"Inside MAP decomposition and curr_limb_endpoints_must_keep was None\")\n",
    "\n",
    "    if len(cleaned_branch) == 0:\n",
    "        raise Exception(f\"Found a zero length skeleton for limb {z} of trmesh {branch}\")\n",
    "\n",
    "    if print_fusion_steps:\n",
    "        print(f\"skeletonize_and_clean_connected_branch_CGAL: {time.time() - fusion_time }\")\n",
    "        fusion_time = time.time()\n",
    "\n",
    "    # ---- 1) Generating Initial Mesh Correspondence -------------------------------------------#\n",
    "    start_time = time.time()\n",
    "\n",
    "    print(f\"Working on limb correspondence for #{sublimb_idx} MAP piece\")\n",
    "    local_correspondence = mesh_correspondence_first_pass(mesh=mesh,\n",
    "                                                         skeleton=cleaned_branch,\n",
    "                                                         distance_by_mesh_center=distance_by_mesh_center,\n",
    "                                                         connectivity=\"edges\",\n",
    "                                                         remove_inside_pieces_threshold=100)\n",
    "\n",
    "\n",
    "    print(f\"Total time for decomposition = {time.time() - start_time}\")\n",
    "    if print_fusion_steps:\n",
    "        print(f\"mesh_correspondence_first_pass: {time.time() - fusion_time }\")\n",
    "        fusion_time = time.time()\n",
    "\n",
    "\n",
    "    #------------- 2) Doing Some checks on the initial corespondence -------- #\n",
    "\n",
    "\n",
    "    if perform_cleaning_checks:\n",
    "        check_skeletonization_and_decomp(skeleton=cleaned_branch,\n",
    "                                        local_correspondence=local_correspondence)\n",
    "\n",
    "    # -------3) Finishing off the face correspondence so get 1-to-1 correspondence of mesh face to skeletal piece\n",
    "    local_correspondence_revised = correspondence_1_to_1(mesh=mesh,\n",
    "                                    local_correspondence=local_correspondence,\n",
    "                                    curr_limb_endpoints_must_keep=curr_limb_endpoints_must_keep,\n",
    "                                    curr_soma_to_piece_touching_vertices=curr_soma_to_piece_touching_vertices)\n",
    "\n",
    "    # -------3b) Fixing the mesh indices to correspond to the larger mesh as a whole\n",
    "    for k,v in local_correspondence_revised.items():\n",
    "        local_correspondence_revised[k][\"branch_face_idx\"] = mesh_idx[local_correspondence_revised[k][\"branch_face_idx\"]]\n",
    "\n",
    "    print(f\"Total time for MAP sublimb #{sublimb_idx} mesh processing = {time.time() - mesh_start_time}\")\n",
    "\n",
    "    if print_fusion_steps:\n",
    "        print(f\"correspondence_1_to_1: {time.time() - fusion_time }\")\n",
    "        fusion_time = time.time()\n",
    "\n",
    "    limb_correspondence_MAP[sublimb_idx] = local_correspondence_revised\n",
    "\n",
    "print(f\"Total time for MAP sublimb processing {time.time() - global_start_time}\")\n",
    "\n",
    "\n",
    "\n",
    "\n",
    "\n",
    "# ----------------- Part 10: Doing the MP Decomposition ---------------------- #\n",
    "\n",
    "\n",
    "\n",
    "\n",
    "sublimb_meshes_MP #trimesh pieces that have already been passed through MP skeletonization (may not need)\n",
    "# -- the decomposition information ---\n",
    "sublimb_mesh_branches_MP #the mesh branches for all the disconnected sublimbs\n",
    "sublimb_mesh_idx_branches_MP #The mesh branches idx that have already passed through MP skeletonization\n",
    "sublimb_skeleton_branches #the skeleton bnraches for all the sublimbs\n",
    "widths_MP #the mesh branches widths for all the disconnected groups\n",
    "\n",
    "limb_correspondence_MP = dict()\n",
    "\n",
    "for sublimb_idx,mesh in enumerate(sublimb_meshes_MP):\n",
    "    print(f\"---- Working on MP Decomposition #{sublimb_idx} ----\")\n",
    "    mesh_start_time = time.time()\n",
    "\n",
    "    if len(sublimb_meshes_MP) == 1 and MAP_flag == False:\n",
    "        print(\"Using Quicker soma_to_piece_touching_vertices because no MAP and only one sublimb_mesh piece \")\n",
    "        curr_soma_to_piece_touching_vertices = soma_touching_vertices_dict\n",
    "    else:\n",
    "        if not soma_touching_vertices_dict is None:\n",
    "            print(\"Computing the current soma touching verts dict manually\")\n",
    "            curr_soma_to_piece_touching_vertices = filter_soma_touching_vertices_dict_by_mesh(\n",
    "                                                mesh = mesh,\n",
    "                                                curr_piece_to_soma_touching_vertices = soma_touching_vertices_dict\n",
    "                                                )\n",
    "        else:\n",
    "            curr_soma_to_piece_touching_vertices = None\n",
    "\n",
    "    if print_fusion_steps:\n",
    "        print(f\"MP filtering soma verts: {time.time() - fusion_time }\")\n",
    "        fusion_time = time.time()\n",
    "\n",
    "    #creating all of the sublimb groups\n",
    "    segment_branches = np.array(sublimb_skeleton_branches[sublimb_idx])\n",
    "    whole_sk_MP = sk.stack_skeletons(segment_branches)\n",
    "    branch = mesh\n",
    "    divided_submeshes = np.array(sublimb_mesh_branches_MP[sublimb_idx])\n",
    "    divided_submeshes_idx = sublimb_mesh_idx_branches_MP[sublimb_idx]\n",
    "    segment_widths_median = widths_MP[sublimb_idx]\n",
    "\n",
    "\n",
    "    if curr_soma_to_piece_touching_vertices is None:\n",
    "        print(f\"Do Not Need to Fix MP Decomposition {sublimb_idx} so just continuing\")\n",
    "\n",
    "    else:\n",
    "\n",
    "        # ------- 11/9 addition: Fixing error where creating soma touching branch on mesh that doesn't touch border ------------------- #\n",
    "        print(f\"Fixing Possible Soma Extension Branch for Sublimb {sublimb_idx}\")\n",
    "        no_soma_extension_add = True \n",
    "\n",
    "        endpts_total = dict()\n",
    "        curr_soma_to_piece_touching_vertices_total = dict()\n",
    "        for sm_idx,sm_bord_verts_list in curr_soma_to_piece_touching_vertices.items():\n",
    "            #will be used for later\n",
    "            endpts_total[sm_idx] = []\n",
    "            curr_soma_to_piece_touching_vertices_total[sm_idx] = []\n",
    "\n",
    "            for sm_bord_verts in sm_bord_verts_list:\n",
    "                #1) Get the mesh pieces that are touching the border\n",
    "                matching_mesh_idx = tu.filter_meshes_by_containing_coordinates(mesh_list=divided_submeshes,\n",
    "                                           nullifying_points=sm_bord_verts,\n",
    "                                            filter_away=False,\n",
    "                                           distance_threshold=0,\n",
    "                                           return_indices=True)\n",
    "                #2) concatenate all meshes and skeletons that are touching\n",
    "                if len(matching_mesh_idx) <= 0:\n",
    "                    raise Exception(\"None of branches were touching the border vertices when fixing MP pieces\")\n",
    "\n",
    "                touch_mesh = tu.combine_meshes(divided_submeshes[matching_mesh_idx])\n",
    "                touch_sk = sk.stack_skeletons(segment_branches[matching_mesh_idx])\n",
    "\n",
    "                local_curr_soma_to_piece_touching_vertices = {sm_idx:[sm_bord_verts]}\n",
    "                new_sk,endpts,new_branch_info = sk.create_soma_extending_branches(current_skeleton=touch_sk,\n",
    "                                      skeleton_mesh=touch_mesh,\n",
    "                                      soma_to_piece_touching_vertices=local_curr_soma_to_piece_touching_vertices,\n",
    "                                      return_endpoints_must_keep=True,\n",
    "                                      return_created_branch_info=True,\n",
    "                                      check_connected_skeleton=False)\n",
    "                # ---- 12/30 Addition Check if the endpoint found is an endnode or not and if not then manually add branch ---\n",
    "                curr_endnode = endpts[sm_idx][0]\n",
    "                match_sk_branches = sk.find_branch_skeleton_with_specific_coordinate(segment_branches,\n",
    "                    current_coordinate=curr_endnode)\n",
    "                \n",
    "                if len(match_sk_branches) > 1:\n",
    "                    border_average_coordinate = np.mean(sm_bord_verts,axis=0)\n",
    "                    new_branch_sk = np.vstack([curr_endnode,border_average_coordinate]).reshape(-1,2,3)\n",
    "                    br_info = dict(new_branch = new_branch_sk,border_verts=sm_bord_verts)\n",
    "                    endpts_total[sm_idx].append(border_average_coordinate)\n",
    "                else:\n",
    "                    br_info = new_branch_info[sm_idx][0]\n",
    "                    endpts_total[sm_idx].append(endpts[sm_idx][0])\n",
    "                # -------------------- End of 12/30 Addition ------------------\n",
    "                \n",
    "\n",
    "                #3) Add the info to the new running lists\n",
    "                \n",
    "                curr_soma_to_piece_touching_vertices_total[sm_idx].append(sm_bord_verts)\n",
    "\n",
    "\n",
    "                #4) Skip if no new branch was added\n",
    "                \n",
    "                if br_info is None:\n",
    "                    print(\"The new branch info was none so skipping \\n\")\n",
    "                    continue\n",
    "\n",
    "                #4 If new branch was made then \n",
    "                no_soma_extension_add=False\n",
    "\n",
    "                #1) Get the newly added branch (and the original vertex which is the first row)\n",
    "                br_new,sm_bord_verts = br_info[\"new_branch\"],br_info[\"border_verts\"] #this will hold the new branch and the border vertices corresponding to it\n",
    "\n",
    "                curr_soma_to_piece_touching_vertices_MP = {sm_idx:[sm_bord_verts]}\n",
    "                endpoints_must_keep_MP = {sm_idx:[br_new[0][1]]}\n",
    "\n",
    "\n",
    "                orig_vertex = br_new[0][0]\n",
    "                print(f\"orig_vertex = {orig_vertex}\")\n",
    "\n",
    "                #2) Find the branches that have that coordinate (could be multiple)\n",
    "                match_sk_branches = sk.find_branch_skeleton_with_specific_coordinate(segment_branches,\n",
    "                    current_coordinate=orig_vertex)\n",
    "\n",
    "                print(f\"match_sk_branches = {match_sk_branches}\")\n",
    "\n",
    "\n",
    "\n",
    "                \"\"\" ******************* THIS NEEDS TO BE FIXED WITH THE SAME METHOD OF STITCHING ********************  \"\"\"\n",
    "                \"\"\"\n",
    "                Pseudocode:\n",
    "                1) Find if branch point will require split or not\n",
    "                2) If does require split then split the skeleton\n",
    "                3) Gather mesh pieces for correspondence and the skeletons\n",
    "                4) Run the mesh correspondence\n",
    "                - this case calculate the new widths after run \n",
    "                5) Replace the old branch parts with the new ones\n",
    "\n",
    "\n",
    "\n",
    "                \"\"\"\n",
    "\n",
    "                stitch_point_on_end_or_branch = find_if_stitch_point_on_end_or_branch(\n",
    "                                                        matched_branches_skeletons= segment_branches[match_sk_branches],\n",
    "                                                         stitch_coordinate=orig_vertex,\n",
    "                                                          verbose=False)\n",
    "\n",
    "\n",
    "                if not stitch_point_on_end_or_branch:\n",
    "                    matching_branch_sk = sk.cut_skeleton_at_coordinate(skeleton=segment_branches[match_sk_branches][0],\n",
    "                                                                      cut_coordinate = orig_vertex)\n",
    "                else:\n",
    "                    matching_branch_sk = segment_branches[match_sk_branches]\n",
    "\n",
    "\n",
    "                #3) Find the mesh and skeleton of the winning branch\n",
    "                matching_branch_meshes = np.array(divided_submeshes)[match_sk_branches]\n",
    "                matching_branch_mesh_idx = np.array(divided_submeshes_idx)[match_sk_branches]\n",
    "                extend_soma_mesh_idx = np.concatenate(matching_branch_mesh_idx)\n",
    "                extend_soma_mesh = limb_mesh_mparty.submesh([extend_soma_mesh_idx ],append=True,repair=False)\n",
    "\n",
    "                #4) Add newly created branch to skeleton and divide the skeleton into branches (could make 2 or 3)\n",
    "                #extended_skeleton_to_soma = sk.stack_skeletons([list(matching_branch_sk),br_new])\n",
    "\n",
    "                sk.check_skeleton_connected_component(sk.stack_skeletons(list(matching_branch_sk) + [br_new]))\n",
    "\n",
    "                #5) Run Adaptive mesh correspondnece using branches and mesh\n",
    "                local_correspondnece_MP = mesh_correspondence_first_pass(mesh=extend_soma_mesh,\n",
    "                                                                         skeleton_branches = list(matching_branch_sk) + [br_new]\n",
    "                                              #skeleton=extended_skeleton_to_soma\n",
    "                                                                        )\n",
    "\n",
    "                # GETTING MESHES THAT ARE NOT FULLY CONNECTED!!\n",
    "                local_correspondence_revised = correspondence_1_to_1(mesh=extend_soma_mesh,\n",
    "                                                            local_correspondence=local_correspondnece_MP,\n",
    "                                                            curr_limb_endpoints_must_keep=endpoints_must_keep_MP,\n",
    "                                                            curr_soma_to_piece_touching_vertices=curr_soma_to_piece_touching_vertices_MP)\n",
    "\n",
    "                # All the things that should be revised:\n",
    "            #     segment_branches, #skeleton branches\n",
    "            #     divided_submeshes, divided_submeshes_idx, #mesh correspondence (mesh and indices)\n",
    "            #     segment_widths_median\n",
    "\n",
    "\n",
    "                new_submeshes = [k[\"branch_mesh\"] for k in local_correspondence_revised.values()]\n",
    "                new_submeshes_idx = [extend_soma_mesh_idx[k[\"branch_face_idx\"]] for k in local_correspondence_revised.values()]\n",
    "                new_skeletal_branches = [k[\"branch_skeleton\"] for k in local_correspondence_revised.values()]\n",
    "\n",
    "                #calculate the new width\n",
    "                ray_inter = tu.ray_pyembree.RayMeshIntersector(limb_mesh_mparty)\n",
    "                new_widths = []\n",
    "                for new_s_idx in new_submeshes_idx:\n",
    "                    curr_ray_distance = tu.ray_trace_distance(mesh=limb_mesh_mparty, \n",
    "                                        face_inds=new_s_idx,\n",
    "                                       ray_inter=ray_inter)\n",
    "                    curr_width_median = np.median(curr_ray_distance[curr_ray_distance!=0])\n",
    "                    print(f\"curr_width_median = {curr_width_median}\")\n",
    "                    if (not np.isnan(curr_width_median)) and (curr_width_median > 0):\n",
    "                        new_widths.append(curr_width_median)\n",
    "                    else:\n",
    "                        print(f\"USING A DEFAULT WIDTH BECAUSE THE NEWLY COMPUTED ONE WAS {curr_width_median}: {segment_widths_median[match_sk_branches[0]]}\")\n",
    "                        new_widths.append(segment_widths_median[match_sk_branches[0]])\n",
    "\n",
    "\n",
    "                #6) Remove the original branch and mesh correspondence and replace with the multiples\n",
    "#                     print(f\"match_sk_branches BEFORE = {match_sk_branches}\")\n",
    "#                     print(f\"segment_branches BEFORE = {segment_branches}\")\n",
    "#                     print(f\"len(new_skeletal_branches) = {len(new_skeletal_branches)}\")\n",
    "#                     print(f\"new_skeletal_branches BEFORE= {new_skeletal_branches}\")\n",
    "\n",
    "\n",
    "                #segment_branches = np.delete(segment_branches,match_sk_branches,axis=0)\n",
    "                #segment_branches = np.append(segment_branches,new_skeletal_branches,axis=0)\n",
    "\n",
    "                segment_branches = np.array([k for i,k in enumerate(segment_branches) if i not in match_sk_branches] + new_skeletal_branches)\n",
    "\n",
    "\n",
    "                divided_submeshes = np.delete(divided_submeshes,match_sk_branches,axis=0)\n",
    "                divided_submeshes = np.append(divided_submeshes,new_submeshes,axis=0)\n",
    "\n",
    "\n",
    "                #divided_submeshes_idx = np.delete(divided_submeshes_idx,match_sk_branches,axis=0)\n",
    "                #divided_submeshes_idx = np.append(divided_submeshes_idx,new_submeshes_idx,axis=0)\n",
    "                divided_submeshes_idx = np.array([k for i,k in enumerate(divided_submeshes_idx) if i not in match_sk_branches] + new_submeshes_idx)\n",
    "\n",
    "                segment_widths_median = np.delete(segment_widths_median,match_sk_branches,axis=0)\n",
    "                segment_widths_median = np.append(segment_widths_median,new_widths,axis=0)\n",
    "\n",
    "                try:\n",
    "                    debug = False\n",
    "                    if debug:\n",
    "                        print(f\"segment_branches.shape = {segment_branches.shape}\")\n",
    "                        print(f\"segment_branches = {segment_branches}\")\n",
    "                        print(f\"new_skeletal_branches = {new_skeletal_branches}\")\n",
    "                    sk.check_skeleton_connected_component(sk.stack_skeletons(segment_branches))\n",
    "                except:\n",
    "                    su.compressed_pickle(local_correspondence_revised,\"local_correspondence_revised\")\n",
    "                print(\"checked segment branches after soma add on\")\n",
    "                return_find = sk.find_branch_skeleton_with_specific_coordinate(segment_branches,\n",
    "                                             orig_vertex)\n",
    "\n",
    "\n",
    "\n",
    "                \"\"\" ******************* END OF HOW CAN DO STITCHING ********************  \"\"\"\n",
    "\n",
    "\n",
    "\n",
    "        limb_to_endpoints_must_keep_list.append(endpts_total)\n",
    "        limb_to_soma_touching_vertices_list.append(curr_soma_to_piece_touching_vertices_total)\n",
    "\n",
    "        # ------------------- 11/9 addition ------------------- #\n",
    "\n",
    "        if no_soma_extension_add:\n",
    "            print(\"No soma extending branch was added for this sublimb even though it had a soma border (means they already existed)\")\n",
    "\n",
    "        if print_fusion_steps:\n",
    "            print(f\"MP (because soma touching verts) soma extension add: {time.time() - fusion_time }\")\n",
    "            fusion_time = time.time()\n",
    "\n",
    "    #building the limb correspondence\n",
    "    limb_correspondence_MP[sublimb_idx] = dict()\n",
    "\n",
    "    for zz,b_sk in enumerate(segment_branches):\n",
    "        limb_correspondence_MP[sublimb_idx][zz] = dict(\n",
    "            branch_skeleton = b_sk,\n",
    "            width_from_skeleton = segment_widths_median[zz],\n",
    "            branch_mesh = divided_submeshes[zz],\n",
    "            branch_face_idx = divided_submeshes_idx[zz]\n",
    "            )\n",
    "\n",
    "\n",
    "\n",
    "limb_correspondence_MP_saved = copy.deepcopy(limb_correspondence_MP)\n",
    "limb_correspondence_MAP_saved = copy.deepcopy(limb_correspondence_MAP)\n",
    "\n",
    "# ------------------------------------- Part C: Will make sure the correspondences can all be stitched together --------------- #\n",
    "\n",
    "\n",
    "\n",
    "#     su.compressed_pickle(limb_correspondence_MAP,\"limb_correspondence_MAP_before_stitch\")\n",
    "#     su.compressed_pickle(limb_correspondence_MP,\"limb_correspondence_MP_before_stitch\")\n",
    "\n",
    "\n",
    "if check_correspondence_branches:\n",
    "    sk.check_correspondence_branches_have_2_endpoints(limb_correspondence_MAP)\n",
    "    sk.check_correspondence_branches_have_2_endpoints(limb_correspondence_MP)\n",
    "\n",
    "#total_keep_endpoints = np.concatenate([list(v.values()) for v in limb_to_endpoints_must_keep_list]).reshape(-1,3)\n",
    "total_keep_endpoints = []\n",
    "for entry in limb_to_endpoints_must_keep_list:\n",
    "    for k,v in entry.items():\n",
    "        total_keep_endpoints.append(v)\n",
    "total_keep_endpoints = np.vstack(total_keep_endpoints)\n",
    "    \n",
    "    \n",
    "\n",
    "# Only want to perform this step if both MP and MAP pieces\n",
    "if len(limb_correspondence_MAP)>0 and len(limb_correspondence_MP)>0:\n",
    "\n",
    "    # -------------- Part 11: Getting Sublimb Mesh and Skeletons and Gets connectivitiy by Mesh -------#\n",
    "    # -------------(filtering connections to only MP to MAP edges)--------------- #\n",
    "\n",
    "    # ---- Doing the mesh connectivity ---------#\n",
    "    sublimb_meshes_MP = []\n",
    "    sublimb_skeletons_MP = []\n",
    "\n",
    "    for sublimb_key,sublimb_v in limb_correspondence_MP.items():\n",
    "        sublimb_meshes_MP.append(tu.combine_meshes([branch_v[\"branch_mesh\"] for branch_v in sublimb_v.values()]))\n",
    "        sublimb_skeletons_MP.append(sk.stack_skeletons([branch_v[\"branch_skeleton\"] for branch_v in sublimb_v.values()]))\n",
    "\n",
    "\n",
    "\n",
    "    sublimb_meshes_MAP = []\n",
    "    sublimb_skeletons_MAP = []\n",
    "\n",
    "\n",
    "    for sublimb_key,sublimb_v in limb_correspondence_MAP.items():\n",
    "        sublimb_meshes_MAP.append(tu.combine_meshes([branch_v[\"branch_mesh\"] for branch_v in sublimb_v.values()]))\n",
    "        sublimb_skeletons_MAP.append(sk.stack_skeletons([branch_v[\"branch_skeleton\"] for branch_v in sublimb_v.values()]))\n",
    "\n",
    "    sublimb_skeletons_MP_saved = copy.deepcopy(sublimb_skeletons_MP)\n",
    "    sublimb_skeletons_MAP_saved = copy.deepcopy(sublimb_skeletons_MAP)\n",
    "\n",
    "    connectivity_type = \"edges\"\n",
    "    for i in range(0,2):\n",
    "        mesh_conn,mesh_conn_vertex_groups = tu.mesh_list_connectivity(meshes = sublimb_meshes_MP + sublimb_meshes_MAP,\n",
    "                                            main_mesh = limb_mesh_mparty,\n",
    "                                            connectivity=connectivity_type,\n",
    "                                            min_common_vertices=1,\n",
    "                                            return_vertex_connection_groups=True,\n",
    "                                            return_largest_vertex_connection_group=True,\n",
    "                                            print_flag = False)\n",
    "        mesh_conn_old = copy.deepcopy(mesh_conn)\n",
    "\n",
    "\n",
    "\n",
    "        #check that every MAP piece mapped to a MP piece\n",
    "        mesh_conn_filt = []\n",
    "        mesh_conn_vertex_groups_filt = []\n",
    "        for j,(m1,m2) in enumerate(mesh_conn):\n",
    "            if m1 < len(sublimb_meshes_MP) and m2 >=len(sublimb_meshes_MP):\n",
    "                mesh_conn_filt.append([m1,m2])\n",
    "                mesh_conn_vertex_groups_filt.append(mesh_conn_vertex_groups[j])\n",
    "            else:\n",
    "                print(f\"Edge {(m1,m2)} was not kept\")\n",
    "        mesh_conn_filt = np.array(mesh_conn_filt)\n",
    "\n",
    "        mesh_conn = mesh_conn_filt\n",
    "        mesh_conn_vertex_groups = mesh_conn_vertex_groups_filt\n",
    "\n",
    "        #check that the mapping should create only one connected component\n",
    "        G = nx.from_edgelist(mesh_conn)\n",
    "\n",
    "\n",
    "\n",
    "        try:\n",
    "            if len(G) != len(sublimb_meshes_MP) + len(sublimb_meshes_MAP):\n",
    "                raise Exception(\"Number of nodes in mesh connectivity graph is not equal to number of  MAP and MP sublimbs\")\n",
    "\n",
    "            connect_comp = list(nx.connected_components(G))\n",
    "            if len(connect_comp)>1:\n",
    "                raise Exception(f\"Mesh connectivity was not one component, instead it was ({len(connect_comp)}): {connect_comp} \")\n",
    "        except:\n",
    "\n",
    "            if connectivity_type == \"vertices\":\n",
    "                print(f\"mesh_conn_filt = {mesh_conn_filt}\")\n",
    "                print(f\"mesh_conn_old = {mesh_conn_old}\")\n",
    "                mesh_conn_adjusted = np.vstack([mesh_conn[:,0],mesh_conn[:,1]-len(sublimb_meshes_MP)]).T\n",
    "                print(f\"mesh_conn_adjusted = {mesh_conn_adjusted}\")\n",
    "                print(f\"len(sublimb_meshes_MP) = {len(sublimb_meshes_MP)}\")\n",
    "                print(f\"len(sublimb_meshes_MAP) = {len(sublimb_meshes_MAP)}\")\n",
    "                meshes = sublimb_meshes_MP + sublimb_meshes_MAP\n",
    "                #su.compressed_pickle(meshes,\"meshes\")\n",
    "                su.compressed_pickle(sublimb_meshes_MP,\"sublimb_meshes_MP\")\n",
    "                su.compressed_pickle(sublimb_meshes_MAP,\"sublimb_meshes_MAP\")\n",
    "                su.compressed_pickle(limb_mesh_mparty,\"limb_mesh_mparty\")\n",
    "                su.compressed_pickle(sublimb_skeletons_MP,\"sublimb_skeletons_MP\")\n",
    "                su.compressed_pickle(sublimb_skeletons_MAP,\"sublimb_skeletons_MAP\")\n",
    "\n",
    "\n",
    "\n",
    "\n",
    "                raise Exception(\"Something went wrong in the connectivity\")\n",
    "            else:\n",
    "                print(f\"Failed on connection type {connectivity_type} \")\n",
    "                connectivity_type = \"vertices\"\n",
    "                print(f\"so changing type to {connectivity_type}\")\n",
    "        else:\n",
    "            print(f\"Successful mesh connectivity with type {connectivity_type}\")\n",
    "            break\n",
    "\n",
    "\n",
    "    #adjust the connection indices for MP and MAP indices\n",
    "    mesh_conn_adjusted = np.vstack([mesh_conn[:,0],mesh_conn[:,1]-len(sublimb_meshes_MP)]).T\n",
    "\n",
    "\n",
    "\n",
    "\n",
    "\n",
    "\n",
    "    \"\"\"\n",
    "    Pseudocode:\n",
    "    For each connection edge:\n",
    "        For each vertex connection group:\n",
    "            1) Get the endpoint vertices of the MP skeleton\n",
    "            2) Find the closest endpoint vertex to the vertex connection group (this is MP stitch point)\n",
    "            3) Find the closest skeletal point on MAP pairing (MAP stitch) \n",
    "            4) Find the branches that have that MAP stitch point:\n",
    "            5A) If the number of branches corresponding to stitch point is multipled\n",
    "                --> then we are stitching at a branching oint\n",
    "                i) Just add the skeletal segment from MP_stitch to MAP stitch to the MP skeletal segment\n",
    "                ii) \n",
    "\n",
    "    \"\"\"\n",
    "\n",
    "\n",
    "\n",
    "    # -------------- STITCHING PHASE -------#\n",
    "    stitch_counter = 0\n",
    "    all_map_stitch_points = []\n",
    "    for (MP_idx,MAP_idx),v_g in zip(mesh_conn_adjusted,mesh_conn_vertex_groups):\n",
    "        print(f\"\\n---- Working on {(MP_idx,MAP_idx)} connection-----\")\n",
    "\n",
    "        \"\"\"\n",
    "        This old way of getting the endpoints was not good because could possibly just need\n",
    "        a stitching done between original branch junction\n",
    "\n",
    "        skeleton_MP_graph = sk.convert_skeleton_to_graph(curr_skeleton_MP)\n",
    "        endpoint_nodes = xu.get_nodes_of_degree_k(skeleton_MP_graph,1)\n",
    "        endpoint_nodes_coordinates = xu.get_node_attributes(skeleton_MP_graph,node_list=endpoint_nodes)\n",
    "        \"\"\"\n",
    "\n",
    "\n",
    "        # -------------- Part 12: Find the MP and MAP stitching point and branches that contain the stitching point-------#\n",
    "\n",
    "        \"\"\"  OLD WAY THAT ALLOWED STITICHING POINTS TO NOT BE CONNECTED AT THE CONNECTING BRANCHES\n",
    "        #getting the skeletons that should be stitched\n",
    "        curr_skeleton_MP = sk.stack_skeletons([branch_v[\"branch_skeleton\"] for branch_v in limb_correspondence_MP[MP_idx].values()])\n",
    "        curr_skeleton_MAP = sk.stack_skeletons([branch_v[\"branch_skeleton\"] for branch_v in limb_correspondence_MAP[MAP_idx].values()])\n",
    "\n",
    "        #1) Get the endpoint vertices of the MP skeleton branches (so every endpoint or high degree node)\n",
    "        #(needs to be inside loop because limb correspondence will change)\n",
    "        curr_MP_branch_skeletons = [limb_correspondence_MP[MP_idx][k][\"branch_skeleton\"] for k in np.sort(list(limb_correspondence_MP[MP_idx].keys()))]\n",
    "        endpoint_nodes_coordinates = np.array([sk.find_branch_endpoints(k) for k in curr_MP_branch_skeletons])\n",
    "        endpoint_nodes_coordinates = np.unique(endpoint_nodes_coordinates.reshape(-1,3),axis=0)\n",
    "\n",
    "        #2) Find the closest endpoint vertex to the vertex connection group (this is MP stitch point)\n",
    "        av_vert = np.mean(v_g,axis=0)\n",
    "        winning_vertex = endpoint_nodes_coordinates[np.argmin(np.linalg.norm(endpoint_nodes_coordinates-av_vert,axis=1))]\n",
    "        print(f\"winning_vertex = {winning_vertex}\")\n",
    "\n",
    "\n",
    "        #2b) Find the branch points where the winning vertex is located\n",
    "        MP_branches_with_stitch_point = sk.find_branch_skeleton_with_specific_coordinate(\n",
    "            divded_skeleton=curr_MP_branch_skeletons,\n",
    "            current_coordinate = winning_vertex\n",
    "        )\n",
    "        print(f\"MP_branches_with_stitch_point = {MP_branches_with_stitch_point}\")\n",
    "\n",
    "\n",
    "        #3) Find the closest skeletal point on MAP pairing (MAP stitch)\n",
    "        MAP_skeleton_coords = np.unique(curr_skeleton_MAP.reshape(-1,3),axis=0)\n",
    "        MAP_stitch_point = MAP_skeleton_coords[np.argmin(np.linalg.norm(MAP_skeleton_coords-winning_vertex,axis=1))]\n",
    "\n",
    "\n",
    "        #3b) Consider if the stitch point is close enough to end or branch node in skeleton:\n",
    "        # and if so then reassign\n",
    "        if move_MAP_stitch_to_end_or_branch:\n",
    "            MAP_stitch_point_new,change_status = sk.move_point_to_nearest_branch_end_point_within_threshold(\n",
    "                                                    skeleton=curr_skeleton_MAP,\n",
    "                                                    coordinate=MAP_stitch_point,\n",
    "                                                    distance_to_move_point_threshold = distance_to_move_point_threshold,\n",
    "                                                    verbose=True\n",
    "\n",
    "                                                    )\n",
    "            MAP_stitch_point=MAP_stitch_point_new\n",
    "\n",
    "\n",
    "        #4) Find the branches that have that MAP stitch point:\n",
    "        curr_MAP_branch_skeletons = [limb_correspondence_MAP[MAP_idx][k][\"branch_skeleton\"]\n",
    "                                         for k in np.sort(list(limb_correspondence_MAP[MAP_idx].keys()))]\n",
    "\n",
    "        MAP_branches_with_stitch_point = sk.find_branch_skeleton_with_specific_coordinate(\n",
    "            divded_skeleton=curr_MAP_branch_skeletons,\n",
    "            current_coordinate = MAP_stitch_point\n",
    "        )\n",
    "\n",
    "\n",
    "\n",
    "        MAP_stitch_point_on_end_or_branch = False\n",
    "        if len(MAP_branches_with_stitch_point)>1:\n",
    "            MAP_stitch_point_on_end_or_branch = True\n",
    "        elif len(MAP_branches_with_stitch_point)==1:\n",
    "            if len(nu.matching_rows(sk.find_branch_endpoints(curr_MAP_branch_skeletons[MAP_branches_with_stitch_point[0]]),\n",
    "                                    MAP_stitch_point))>0:\n",
    "                MAP_stitch_point_on_end_or_branch=True\n",
    "        else:\n",
    "            raise Exception(\"No matching MAP values\")\n",
    "\n",
    "    \"\"\"\n",
    "\n",
    "        #*****should only get branches that are touching....****\n",
    "\n",
    "        #getting the skeletons that should be stitched\n",
    "        curr_skeleton_MP = sk.stack_skeletons([branch_v[\"branch_skeleton\"] for branch_v in limb_correspondence_MP[MP_idx].values()])\n",
    "        curr_skeleton_MAP = sk.stack_skeletons([branch_v[\"branch_skeleton\"] for branch_v in limb_correspondence_MAP[MAP_idx].values()])\n",
    "\n",
    "\n",
    "        av_vert = np.mean(v_g,axis=0)\n",
    "\n",
    "        # ---------------- Doing the MAP part first -------------- #\n",
    "        \"\"\"\n",
    "        The previous way did not ensure that the MAP point found will have a branch mesh that is touching the border vertices\n",
    "\n",
    "        #3) Find the closest skeletal point on MAP pairing (MAP stitch)\n",
    "        MAP_skeleton_coords = np.unique(curr_skeleton_MAP.reshape(-1,3),axis=0)\n",
    "\n",
    "        #this does not guarentee that the MAP branch associated with the MAP stitch point is touching the border group\n",
    "        MAP_stitch_point = MAP_skeleton_coords[np.argmin(np.linalg.norm(MAP_skeleton_coords-av_vert,axis=1))]\n",
    "        \"\"\"\n",
    "\n",
    "        # -------------- 11/9 NEW METHOD FOR FINDING MAP STITCH POINT ------------ #\n",
    "        o_keys = np.sort(list(limb_correspondence_MAP[MAP_idx].keys()))\n",
    "        curr_MAP_branch_meshes = np.array([limb_correspondence_MAP[MAP_idx][k][\"branch_mesh\"]\n",
    "                                         for k in o_keys])\n",
    "        curr_MAP_branch_skeletons = np.array([limb_correspondence_MAP[MAP_idx][k][\"branch_skeleton\"]\n",
    "                                         for k in o_keys])\n",
    "\n",
    "        MAP_pieces_idx_touching_border = tu.filter_meshes_by_containing_coordinates(mesh_list=curr_MAP_branch_meshes,\n",
    "                                       nullifying_points=v_g,\n",
    "                                        filter_away=False,\n",
    "                                       distance_threshold=0,\n",
    "                                       return_indices=True)\n",
    "\n",
    "        MAP_branches_considered = curr_MAP_branch_skeletons[MAP_pieces_idx_touching_border]\n",
    "        curr_skeleton_MAP_for_stitch = sk.stack_skeletons(MAP_branches_considered)\n",
    "\n",
    "        #3) Find the closest skeletal point on MAP pairing (MAP stitch)\n",
    "        MAP_skeleton_coords = np.unique(curr_skeleton_MAP_for_stitch.reshape(-1,3),axis=0)\n",
    "\n",
    "        \"\"\"\n",
    "        #------- OLD WAY: this does not guarentee that the MAP branch associated with the MAP stitch point is touching the border group\n",
    "        #MAP_stitch_point = MAP_skeleton_coords[np.argmin(np.linalg.norm(MAP_skeleton_coords-av_vert,axis=1))]\n",
    "        \n",
    "        # ------- 1/1/21 Change to make sure never stitches to soma connecting point ----\n",
    "        Pseudocode: \n",
    "        1) Get all the closest coordinates and sort in order of distance\n",
    "        2) Iterate through the top coordinates:\n",
    "        - check if not in the endpoints\n",
    "        a. if not --> make that the winning MAP stitch point\n",
    "        b. if not --> continue to next\n",
    "\n",
    "        3) if get to end and dont have winning coordinate then error\n",
    "        \"\"\"\n",
    "\n",
    "        MAP_stitch_point = MAP_skeleton_coords[np.argmin(np.linalg.norm(MAP_skeleton_coords-av_vert,axis=1))]\n",
    "\n",
    "        # --------- 11/13: Making so could possibly stitch to another point that was already stitched to\n",
    "        curr_br_endpts = np.array([sk.find_branch_endpoints(k) for k in MAP_branches_considered]).reshape(-1,3)\n",
    "        curr_br_endpts_unique = np.unique(curr_br_endpts,axis=0)\n",
    "        \n",
    "\n",
    "\n",
    "\n",
    "        #3b) Consider if the stitch point is close enough to end or branch node in skeleton:\n",
    "        # and if so then reassign\n",
    "        print(f\"total_keep_endpoints = {total_keep_endpoints}\")\n",
    "        print(f\"MAP_stitch_point BEFORE = {MAP_stitch_point}, move_MAP_stitch_to_end_or_branch = {move_MAP_stitch_to_end_or_branch}\")\n",
    "        \n",
    "        if move_MAP_stitch_to_end_or_branch:\n",
    "            MAP_stitch_point_new,change_status = sk.move_point_to_nearest_branch_end_point_within_threshold(\n",
    "                                                    skeleton=curr_skeleton_MAP,\n",
    "                                                    coordinate=MAP_stitch_point,\n",
    "                                                    distance_to_move_point_threshold = distance_to_move_point_threshold,\n",
    "                                                    verbose=True,\n",
    "                                                    possible_node_coordinates=curr_br_endpts_unique,\n",
    "                                                    excluded_node_coordinates=total_keep_endpoints,\n",
    "                                                    )\n",
    "            MAP_stitch_point=MAP_stitch_point_new\n",
    "            \n",
    "        print(f\"MAP_stitch_point AFTER = {MAP_stitch_point}\")\n",
    "        \n",
    "        if len(nu.matching_rows(total_keep_endpoints,MAP_stitch_point))>0:\n",
    "            raise Exception(\"About to stitch to soma connecting point\")\n",
    "\n",
    "        #4) Find the branches that have that MAP stitch point:\n",
    "\n",
    "        MAP_branches_with_stitch_point = sk.find_branch_skeleton_with_specific_coordinate(\n",
    "            divded_skeleton=curr_MAP_branch_skeletons,\n",
    "            current_coordinate = MAP_stitch_point\n",
    "        )\n",
    "\n",
    "\n",
    "\n",
    "        MAP_stitch_point_on_end_or_branch = False\n",
    "        if len(MAP_branches_with_stitch_point)>1:\n",
    "            MAP_stitch_point_on_end_or_branch = True\n",
    "        elif len(MAP_branches_with_stitch_point)==1:\n",
    "            if len(nu.matching_rows(sk.find_branch_endpoints(curr_MAP_branch_skeletons[MAP_branches_with_stitch_point[0]]),\n",
    "                                    MAP_stitch_point))>0:\n",
    "                MAP_stitch_point_on_end_or_branch=True\n",
    "        else:\n",
    "            raise Exception(\"No matching MAP values\")\n",
    "\n",
    "        #add the map stitch point to the history\n",
    "        all_map_stitch_points.append(MAP_stitch_point)\n",
    "\n",
    "        # ---------------- Doing the MP Part --------------------- #\n",
    "\n",
    "\n",
    "\n",
    "        ord_keys = np.sort(list(limb_correspondence_MP[MP_idx].keys()))\n",
    "        curr_MP_branch_meshes = [limb_correspondence_MP[MP_idx][k][\"branch_mesh\"] for k in ord_keys]\n",
    "\n",
    "\n",
    "\n",
    "        \"\"\" old way of filtering MP pieces just to those touching the MAP, but just want the ones touching the connection group\n",
    "\n",
    "        MAP_meshes_with_stitch_point = tu.combine_meshes([limb_correspondence_MAP[MAP_idx][k][\"branch_mesh\"] for k in MAP_branches_with_stitch_point])\n",
    "\n",
    "        conn = tu.mesh_pieces_connectivity(main_mesh=limb_mesh_mparty,\n",
    "                                   central_piece=MAP_meshes_with_stitch_point,\n",
    "                                   periphery_pieces=curr_MP_branch_meshes)\n",
    "        \"\"\"\n",
    "        # 11/9 Addition: New way that filters meshes by their touching of the vertex connection group (this could possibly be an empty group)\n",
    "        conn = tu.filter_meshes_by_containing_coordinates(mesh_list=curr_MP_branch_meshes,\n",
    "                                       nullifying_points=v_g,\n",
    "                                        filter_away=False,\n",
    "                                       distance_threshold=0,\n",
    "                                       return_indices=True)\n",
    "\n",
    "        if len(conn) == 0:\n",
    "            print(\"Connectivity was 0 for the MP mesh groups touching the vertex group so not restricting by that anymore\")\n",
    "            sk_conn = np.arange(0,len(curr_MP_branch_meshes))\n",
    "        else:\n",
    "            sk_conn = conn\n",
    "\n",
    "        print(f\"sk_conn = {sk_conn}\")\n",
    "        print(f\"conn = {conn}\")\n",
    "\n",
    "\n",
    "        #1) Get the endpoint vertices of the MP skeleton branches (so every endpoint or high degree node)\n",
    "        #(needs to be inside loop because limb correspondence will change)\n",
    "        curr_MP_branch_skeletons = [limb_correspondence_MP[MP_idx][k][\"branch_skeleton\"] for k in sk_conn]\n",
    "        endpoint_nodes_coordinates = np.array([sk.find_branch_endpoints(k) for k in curr_MP_branch_skeletons])\n",
    "        endpoint_nodes_coordinates = np.unique(endpoint_nodes_coordinates.reshape(-1,3),axis=0)\n",
    "        \n",
    "        \"\"\" ---------- 1 /5: Take out the possible endpoints --------------------\"\"\"\n",
    "        if prevent_MP_starter_branch_stitches:\n",
    "            endpoint_nodes_coordinates = nu.setdiff2d(endpoint_nodes_coordinates,total_keep_endpoints)\n",
    "\n",
    "\n",
    "        #2) Find the closest endpoint vertex to the vertex connection group (this is MP stitch point)\n",
    "\n",
    "        winning_vertex = endpoint_nodes_coordinates[np.argmin(np.linalg.norm(endpoint_nodes_coordinates-av_vert,axis=1))]\n",
    "        print(f\"winning_vertex = {winning_vertex}\")\n",
    "        \n",
    "        if len(nu.matching_rows(total_keep_endpoints,winning_vertex))>0:\n",
    "            raise Exception(\"Trying to stitch to MP starting point\")\n",
    "        \n",
    "        \n",
    "\n",
    "\n",
    "        #2b) Find the branch points where the winning vertex is located\n",
    "        curr_MP_branch_skeletons = [limb_correspondence_MP[MP_idx][k][\"branch_skeleton\"] for k in np.sort(list(limb_correspondence_MP[MP_idx].keys()))]\n",
    "        MP_branches_with_stitch_point = sk.find_branch_skeleton_with_specific_coordinate(\n",
    "            divded_skeleton=curr_MP_branch_skeletons,\n",
    "            current_coordinate = winning_vertex\n",
    "        )\n",
    "        \n",
    "        print(f\"MP_branches_with_stitch_point = {MP_branches_with_stitch_point}\")\n",
    "\n",
    "\n",
    "\n",
    "        print(f\"MAP_branches_with_stitch_point = {MAP_branches_with_stitch_point}\")\n",
    "        print(f\"MAP_stitch_point_on_end_or_branch = {MAP_stitch_point_on_end_or_branch}\")\n",
    "\n",
    "\n",
    "        # -------- 11/13 addition: Will see if the MP stitch point was already a MAP stitch point ---- #\n",
    "        if len(nu.matching_rows(np.array(all_map_stitch_points),winning_vertex)) > 0:\n",
    "            keep_MP_stitch_static = True\n",
    "        else:\n",
    "            keep_MP_stitch_static = False\n",
    "\n",
    "\n",
    "\n",
    "\n",
    "\n",
    "        # ------------------------- This part does the stitching -------------------- #\n",
    "\n",
    "\n",
    "        \"\"\"\n",
    "        Pseudocode:\n",
    "        1) For all MP branches\n",
    "            a) Get neighbor coordinates to MP stitch points\n",
    "            b) Delete the MP Stitch points on each \n",
    "            c) Add skeleton segment from neighbor to MAP stitch point\n",
    "        2) Get skeletons and meshes from MP and MAP pieces\n",
    "        3) Run mesh correspondence to get new meshes and mesh_idx and widths\n",
    "        4a) If MAP_stitch_point_on_end_or_branch is False\n",
    "        - Delete the old MAP branch parts and replace with new MAP ones\n",
    "        4b) Revise the meshes,  mesh_idx, and widths of the MAP pieces\n",
    "        5) Revise the meshes,  mesh_idx, and widths of the MP pieces\n",
    "\n",
    "\n",
    "        \"\"\"\n",
    "\n",
    "        # -------------- Part 13: Will Adjust the MP branches that have the stitch point so extends to the MAP stitch point -------#\n",
    "        curr_MP_sk = []\n",
    "        for b_idx in MP_branches_with_stitch_point:\n",
    "            if not keep_MP_stitch_static:\n",
    "                #a) Get neighbor coordinates to MP stitch points\n",
    "                MP_stitch_branch_graph = sk.convert_skeleton_to_graph(curr_MP_branch_skeletons[b_idx])\n",
    "                stitch_node = xu.get_nodes_with_attributes_dict(MP_stitch_branch_graph,dict(coordinates=winning_vertex))[0]\n",
    "                stitch_neighbors = xu.get_neighbors(MP_stitch_branch_graph,stitch_node)\n",
    "\n",
    "                if len(stitch_neighbors) != 1:\n",
    "                    raise Exception(\"Not just one neighbor for stitch point of MP branch\")\n",
    "                keep_neighbor = stitch_neighbors[0]  \n",
    "                keep_neighbor_coordinates = xu.get_node_attributes(MP_stitch_branch_graph,node_list=[keep_neighbor])[0]\n",
    "\n",
    "                #b) Delete the MP Stitch points on each \n",
    "                MP_stitch_branch_graph.remove_node(stitch_node)\n",
    "\n",
    "                \"\"\" Old way that does not do smoothing\n",
    "\n",
    "                #c) Add skeleton segment from neighbor to MAP stitch point\n",
    "                new_node_name = np.max(MP_stitch_branch_graph.nodes())+1\n",
    "\n",
    "                MP_stitch_branch_graph.add_nodes_from([(int(new_node_name),{\"coordinates\":MAP_stitch_point})])\n",
    "                MP_stitch_branch_graph.add_weighted_edges_from([(keep_neighbor,new_node_name,np.linalg.norm(MAP_stitch_point - keep_neighbor_coordinates))])\n",
    "\n",
    "                new_MP_skeleton = sk.convert_graph_to_skeleton(MP_stitch_branch_graph)\n",
    "\n",
    "                \"\"\"\n",
    "                try:\n",
    "                    if len(MP_stitch_branch_graph)>1:\n",
    "                        new_MP_skeleton = sk.add_and_smooth_segment_to_branch(skeleton=sk.convert_graph_to_skeleton(MP_stitch_branch_graph),\n",
    "                                                        skeleton_stitch_point=keep_neighbor_coordinates,\n",
    "                                                         new_stitch_point=MAP_stitch_point)\n",
    "                    else:\n",
    "                        print(\"Not even attempting smoothing segment because once keep_neighbor_coordinates\")\n",
    "                        new_MP_skeleton = np.vstack([keep_neighbor_coordinates,MAP_stitch_point]).reshape(-1,2,3)\n",
    "                except:\n",
    "                    su.compressed_pickle(MP_stitch_branch_graph,\"MP_stitch_branch_graph\")\n",
    "                    su.compressed_pickle(keep_neighbor_coordinates,\"keep_neighbor_coordinates\")\n",
    "                    su.compressed_pickle(MAP_stitch_point,\"MAP_stitch_point\")\n",
    "\n",
    "\n",
    "                    raise Exception(\"Something went wrong with add_and_smooth_segment_to_branch\")\n",
    "\n",
    "\n",
    "\n",
    "\n",
    "\n",
    "                #smooth over the new skeleton\n",
    "                new_MP_skeleton_smooth = sk.resize_skeleton_branch(new_MP_skeleton,\n",
    "                                                                  segment_width=meshparty_segment_size)\n",
    "\n",
    "                curr_MP_sk.append(new_MP_skeleton_smooth)\n",
    "            else:\n",
    "                print(f\"Not adjusting MP skeletons because keep_MP_stitch_static = {keep_MP_stitch_static}\")\n",
    "                curr_MP_sk.append(curr_MP_branch_skeletons[b_idx])\n",
    "\n",
    "\n",
    "\n",
    "        #2) Get skeletons and meshes from MP and MAP pieces\n",
    "        curr_MAP_sk = [limb_correspondence_MAP[MAP_idx][k][\"branch_skeleton\"] for k in MAP_branches_with_stitch_point]\n",
    "\n",
    "        #2.1) Going to break up the MAP skeleton if need be\n",
    "        \"\"\"\n",
    "        Pseudocode:\n",
    "        a) check to see if it needs to be broken up\n",
    "        If it does:\n",
    "        b) Convert the skeleton into a graph\n",
    "        c) Find the node of the MAP stitch point (where need to do the breaking)\n",
    "        d) Find the degree one nodes\n",
    "        e) For each degree one node:\n",
    "        - Find shortest path from stitch node to end node\n",
    "        - get a subgraph from that path\n",
    "        - convert graph to a skeleton and save as new skeletons\n",
    "\n",
    "        \"\"\"\n",
    "        # -------------- Part 14: Breaks Up MAP skeleton into 2 pieces if Needs (because MAP stitch point not on endpoint or branch point)  -------#\n",
    "\n",
    "        #a) check to see if it needs to be broken up\n",
    "        cut_flag = False\n",
    "        if not MAP_stitch_point_on_end_or_branch:\n",
    "            if len(curr_MAP_sk) > 1:\n",
    "                raise Exception(f\"There was more than one skeleton for MAP skeletons even though MAP_stitch_point_on_end_or_branch = {MAP_stitch_point_on_end_or_branch}\")\n",
    "\n",
    "\n",
    "            skeleton_to_cut = curr_MAP_sk[0]\n",
    "            curr_MAP_sk = sk.cut_skeleton_at_coordinate(skeleton=skeleton_to_cut,\n",
    "                                                        cut_coordinate=MAP_stitch_point)\n",
    "            cut_flag=True\n",
    "\n",
    "\n",
    "        # ------ 11/13 Addition: need to adjust the MAP points if have to keep MP static\n",
    "        if keep_MP_stitch_static:\n",
    "            curr_MAP_sk_final = []\n",
    "            for map_skel in curr_MAP_sk:\n",
    "                #a) Get neighbor coordinates to MP stitch points\n",
    "                MP_stitch_branch_graph = sk.convert_skeleton_to_graph(map_skel)\n",
    "                stitch_node = xu.get_nodes_with_attributes_dict(MP_stitch_branch_graph,dict(coordinates=MAP_stitch_point))[0]\n",
    "                stitch_neighbors = xu.get_neighbors(MP_stitch_branch_graph,stitch_node)\n",
    "\n",
    "                if len(stitch_neighbors) != 1:\n",
    "                    raise Exception(\"Not just one neighbor for stitch point of MP branch\")\n",
    "                keep_neighbor = stitch_neighbors[0]  \n",
    "                keep_neighbor_coordinates = xu.get_node_attributes(MP_stitch_branch_graph,node_list=[keep_neighbor])[0]\n",
    "\n",
    "                #b) Delete the MP Stitch points on each \n",
    "                MP_stitch_branch_graph.remove_node(stitch_node)\n",
    "\n",
    "                \"\"\" Old way that does not do smoothing\n",
    "\n",
    "                #c) Add skeleton segment from neighbor to MAP stitch point\n",
    "                new_node_name = np.max(MP_stitch_branch_graph.nodes())+1\n",
    "\n",
    "                MP_stitch_branch_graph.add_nodes_from([(int(new_node_name),{\"coordinates\":MAP_stitch_point})])\n",
    "                MP_stitch_branch_graph.add_weighted_edges_from([(keep_neighbor,new_node_name,np.linalg.norm(MAP_stitch_point - keep_neighbor_coordinates))])\n",
    "\n",
    "                new_MP_skeleton = sk.convert_graph_to_skeleton(MP_stitch_branch_graph)\n",
    "\n",
    "                \"\"\"\n",
    "                try:\n",
    "                    if len(MP_stitch_branch_graph)>1:\n",
    "                        new_MP_skeleton = sk.add_and_smooth_segment_to_branch(skeleton=sk.convert_graph_to_skeleton(MP_stitch_branch_graph),\n",
    "                                                        skeleton_stitch_point=keep_neighbor_coordinates,\n",
    "                                                         new_stitch_point=winning_vertex)\n",
    "                    else:\n",
    "                        print(\"Not even attempting smoothing segment because once keep_neighbor_coordinates\")\n",
    "                        new_MP_skeleton = np.vstack([keep_neighbor_coordinates,MAP_stitch_point]).reshape(-1,2,3)\n",
    "                except:\n",
    "                    su.compressed_pickle(MP_stitch_branch_graph,\"MP_stitch_branch_graph\")\n",
    "                    su.compressed_pickle(keep_neighbor_coordinates,\"keep_neighbor_coordinates\")\n",
    "                    su.compressed_pickle(winning_vertex,\"winning_vertex\")\n",
    "\n",
    "\n",
    "                    raise Exception(\"Something went wrong with add_and_smooth_segment_to_branch\")\n",
    "\n",
    "\n",
    "\n",
    "\n",
    "\n",
    "                #smooth over the new skeleton\n",
    "                new_MP_skeleton_smooth = sk.resize_skeleton_branch(new_MP_skeleton,\n",
    "                                                                  segment_width=meshparty_segment_size)\n",
    "\n",
    "                curr_MAP_sk_final.append(new_MP_skeleton_smooth)\n",
    "            curr_MAP_sk = copy.deepcopy(curr_MAP_sk_final)\n",
    "\n",
    "\n",
    "\n",
    "        # -------------- Part 15: Gets all of the skeletons and Mesh to divide u and does mesh correspondence -------#\n",
    "        # ------------- revise IDX so still references the whole limb mesh -----------#\n",
    "\n",
    "        # -------------- 11/10 Addition accounting for not all MAP pieces always touching each other --------------------#\n",
    "        if len(MAP_branches_with_stitch_point) > 1:\n",
    "            print(\"\\nRevising the MAP pieces index:\")\n",
    "            print(f\"MAP_pieces_idx_touching_border = {MAP_pieces_idx_touching_border}, MAP_branches_with_stitch_point = {MAP_branches_with_stitch_point}\")\n",
    "            MAP_pieces_for_correspondence = nu.intersect1d(MAP_pieces_idx_touching_border,MAP_branches_with_stitch_point)\n",
    "            print(f\"MAP_pieces_for_correspondence = {MAP_pieces_for_correspondence}\")\n",
    "            curr_MAP_sk = [limb_correspondence_MAP[MAP_idx][k][\"branch_skeleton\"] for k in MAP_pieces_for_correspondence]\n",
    "        else:\n",
    "            MAP_pieces_for_correspondence = MAP_branches_with_stitch_point\n",
    "\n",
    "        curr_MAP_meshes_idx = [limb_correspondence_MAP[MAP_idx][k][\"branch_face_idx\"] for k in MAP_pieces_for_correspondence]\n",
    "\n",
    "        # Have to adjust based on if the skeleton were split\n",
    "\n",
    "        if cut_flag:\n",
    "            #Then it was cut and have to do mesh correspondence to find what label to cut\n",
    "            if len(curr_MAP_meshes_idx) > 1:\n",
    "                raise Exception(\"MAP_pieces_for_correspondence was longer than 1 and cut flag was set\")\n",
    "            pre_stitch_mesh_idx = curr_MAP_meshes_idx[0]\n",
    "            pre_stitch_mesh = limb_mesh_mparty.submesh([pre_stitch_mesh_idx],append=True,repair=False)\n",
    "            local_correspondnece_stitch = mesh_correspondence_first_pass(mesh=pre_stitch_mesh,\n",
    "                                      skeleton_branches=curr_MAP_sk)\n",
    "            local_correspondence_stitch_revised_MAP = correspondence_1_to_1(mesh=pre_stitch_mesh,\n",
    "                                                        local_correspondence=local_correspondnece_stitch,\n",
    "                                                        curr_limb_endpoints_must_keep=None,\n",
    "                                                        curr_soma_to_piece_touching_vertices=None)\n",
    "\n",
    "#                 curr_MAP_meshes_idx = [pre_stitch_mesh_idx[local_correspondence_stitch_revised_MAP[nn][\"branch_face_idx\"]] for \n",
    "#                                                nn in local_correspondence_stitch_revised_MAP.keys()]\n",
    "\n",
    "            #Need to readjust the mesh correspondence idx\n",
    "            for k,v in local_correspondence_stitch_revised_MAP.items():\n",
    "                local_correspondence_stitch_revised_MAP[k][\"branch_face_idx\"] = pre_stitch_mesh_idx[local_correspondence_stitch_revised_MAP[k][\"branch_face_idx\"]]\n",
    "\n",
    "            curr_MAP_meshes_idx = [v[\"branch_face_idx\"] for v in local_correspondence_stitch_revised_MAP.values()]\n",
    "        else:\n",
    "            local_correspondence_stitch_revised_MAP = dict([(gg,limb_correspondence_MAP[MAP_idx][kk]) for gg,kk in enumerate(MAP_pieces_for_correspondence)])\n",
    "\n",
    "            for gg,kk in enumerate(MAP_pieces_for_correspondence):\n",
    "                local_correspondence_stitch_revised_MAP[gg][\"branch_skeleton\"] = curr_MAP_sk[gg]\n",
    "\n",
    "\n",
    "\n",
    "        #To make sure that the MAP never gives up ground on the labels\n",
    "        must_keep_labels_MAP = dict()\n",
    "        must_keep_counter = 0\n",
    "        for kk,b_idx in enumerate(curr_MAP_meshes_idx):\n",
    "            #must_keep_labels_MAP.update(dict([(ii,kk) for ii in range(must_keep_counter,must_keep_counter+len(b_idx))]))\n",
    "            must_keep_labels_MAP[kk] = np.arange(must_keep_counter,must_keep_counter+len(b_idx))\n",
    "            must_keep_counter += len(b_idx)\n",
    "\n",
    "\n",
    "\n",
    "        #this is where should send only the MP that apply\n",
    "        MP_branches_for_correspondence,conn_idx,MP_branches_with_stitch_point_idx = nu.intersect1d(conn,MP_branches_with_stitch_point,return_indices=True)\n",
    "\n",
    "        curr_MP_meshes_idx = [limb_correspondence_MP[MP_idx][k][\"branch_face_idx\"] for k in MP_branches_for_correspondence]\n",
    "        curr_MP_sk_for_correspondence = [curr_MP_sk[zz] for zz in MP_branches_with_stitch_point_idx]\n",
    "\n",
    "        stitching_mesh_idx = np.concatenate(curr_MAP_meshes_idx + curr_MP_meshes_idx)\n",
    "        stitching_mesh = limb_mesh_mparty.submesh([stitching_mesh_idx],append=True,repair=False)\n",
    "        stitching_skeleton_branches = curr_MAP_sk + curr_MP_sk_for_correspondence\n",
    "        \"\"\"\n",
    "\n",
    "        ****** NEED TO GET THE RIGHT MESH TO RUN HE IDX ON SO GETS A GOOD MESH (CAN'T BE LIMB_MESH_MPARTY)\n",
    "        BUT MUST BE THE ORIGINAL MAP MESH\n",
    "\n",
    "        mesh_pieces_for_MAP\n",
    "        sublimb_meshes_MP\n",
    "\n",
    "        mesh_pieces_for_MAP_face_idx\n",
    "        sublimb_meshes_MP_face_idx\n",
    "\n",
    "        stitching_mesh = tu.combine_meshes(curr_MAP_meshes + curr_MP_meshes)\n",
    "        stitching_skeleton_branches = curr_MAP_sk + curr_MP_sk\n",
    "\n",
    "        \"\"\"\n",
    "\n",
    "        # ******************************** this is where should do thing about no mesh correspondence ***************** #\n",
    "\n",
    "        # -------- 12/22: Trying to do the re-correspondence but if doesn't work then just resort to old one --------- #\n",
    "\n",
    "        try:\n",
    "\n",
    "            #3) Run mesh correspondence to get new meshes and mesh_idx and widths\n",
    "            local_correspondnece_stitch = mesh_correspondence_first_pass(mesh=stitching_mesh,\n",
    "                                          skeleton_branches=stitching_skeleton_branches)\n",
    "\n",
    "            local_correspondence_stitch_revised = correspondence_1_to_1(mesh=stitching_mesh,\n",
    "                                                        local_correspondence=local_correspondnece_stitch,\n",
    "                                                        curr_limb_endpoints_must_keep=None,\n",
    "                                                        curr_soma_to_piece_touching_vertices=None,\n",
    "                                                        must_keep_labels=must_keep_labels_MAP)\n",
    "\n",
    "            #Need to readjust the mesh correspondence idx\n",
    "            for k,v in local_correspondence_stitch_revised.items():\n",
    "                local_correspondence_stitch_revised[k][\"branch_face_idx\"] = stitching_mesh_idx[local_correspondence_stitch_revised[k][\"branch_face_idx\"]]\n",
    "        except:\n",
    "            print(\"Errored in 1 to 1 correspondence in stitching so just reverting to the original mesh assignments\")\n",
    "            # Setting the correspondence manually because the adaptive way did not work\n",
    "            local_counter = 0\n",
    "            local_correspondence_stitch_revised = dict()\n",
    "\n",
    "            # setting the MAP parts (the new skeletons have already been adjusted)\n",
    "            for k in local_correspondence_stitch_revised_MAP:\n",
    "                local_correspondence_stitch_revised[local_counter] = local_correspondence_stitch_revised_MAP[k]\n",
    "                local_counter += 1\n",
    "\n",
    "            # setting the MP parts (the new skeletons have not been adjusted yet so adjusting them here)\n",
    "            for mp_idx, k in enumerate(MP_branches_for_correspondence):\n",
    "                local_correspondence_stitch_revised[local_counter] = limb_correspondence_MP[MP_idx][k] \n",
    "                local_correspondence_stitch_revised[local_counter][\"branch_skeleton\"] = curr_MP_sk[mp_idx]\n",
    "                local_counter += 1\n",
    "\n",
    "\n",
    "#                 su.compressed_pickle(stitching_skeleton_branches,\"stitching_skeleton_branches\")\n",
    "#                 su.compressed_pickle(stitching_mesh,\"stitching_mesh\")\n",
    "#                 su.compressed_pickle(local_correspondnece_stitch,\"local_correspondnece_stitch\")\n",
    "#                 su.compressed_pickle(must_keep_labels_MAP,\"must_keep_labels_MAP\")\n",
    "\n",
    "#                 raise Exception(\"Something went wrong with 1 to 1 correspondence\")\n",
    "\n",
    "\n",
    "\n",
    "\n",
    "\n",
    "\n",
    "\n",
    "        # -------------- Part 16: Overwrite old branch entries (and add on one new to MAP if required a split) -------#\n",
    "\n",
    "\n",
    "        #4a) If MAP_stitch_point_on_end_or_branch is False\n",
    "        #- Delete the old MAP branch parts and replace with new MAP ones\n",
    "        if not MAP_stitch_point_on_end_or_branch:\n",
    "            print(\"Deleting branches from dictionary\")\n",
    "            del limb_correspondence_MAP[MAP_idx][MAP_branches_with_stitch_point[0]]\n",
    "            #adding the two new branches created from the stitching\n",
    "            limb_correspondence_MAP[MAP_idx][MAP_branches_with_stitch_point[0]] = local_correspondence_stitch_revised[0]\n",
    "            limb_correspondence_MAP[MAP_idx][np.max(list(limb_correspondence_MAP[MAP_idx].keys()))+1] = local_correspondence_stitch_revised[1]\n",
    "\n",
    "            #have to reorder the keys\n",
    "            #limb_correspondence_MAP[MAP_idx] = dict([(k,limb_correspondence_MAP[MAP_idx][k]) for k in np.sort(list(limb_correspondence_MAP[MAP_idx].keys()))])\n",
    "            limb_correspondence_MAP[MAP_idx] = gu.order_dict_by_keys(limb_correspondence_MAP[MAP_idx])\n",
    "\n",
    "        else: #4b) Revise the meshes,  mesh_idx, and widths of the MAP pieces if weren't broken up\n",
    "            for j,curr_MAP_idx_fixed in enumerate(MAP_pieces_for_correspondence): \n",
    "                limb_correspondence_MAP[MAP_idx][curr_MAP_idx_fixed] = local_correspondence_stitch_revised[j]\n",
    "            #want to update all of the skeletons just in case was altered by keep_MP_stitch_static and not included in correspondence\n",
    "            if keep_MP_stitch_static:\n",
    "                if len(MAP_branches_with_stitch_point) != len(curr_MAP_sk_final):\n",
    "                    raise Exception(\"MAP_branches_with_stitch_point not same size as curr_MAP_sk_final\")\n",
    "                for gg,map_idx_curr in enumerate(MAP_branches_with_stitch_point):\n",
    "                    limb_correspondence_MAP[MAP_idx][map_idx_curr][\"branch_skeleton\"] = curr_MAP_sk_final[gg]\n",
    "\n",
    "\n",
    "        for j,curr_MP_idx_fixed in enumerate(MP_branches_for_correspondence): #************** right here just need to make only the ones that applied\n",
    "            limb_correspondence_MP[MP_idx][curr_MP_idx_fixed] = local_correspondence_stitch_revised[j+len(curr_MAP_sk)]\n",
    "\n",
    "\n",
    "        #5b) Fixing the branch skeletons that were not included in the correspondence\n",
    "        MP_leftover,MP_leftover_idx = nu.setdiff1d(MP_branches_with_stitch_point,MP_branches_for_correspondence)\n",
    "        print(f\"MP_branches_with_stitch_point= {MP_branches_with_stitch_point}\")\n",
    "        print(f\"MP_branches_for_correspondence = {MP_branches_for_correspondence}\")\n",
    "        print(f\"MP_leftover = {MP_leftover}, MP_leftover_idx = {MP_leftover_idx}\")\n",
    "\n",
    "        for curr_MP_leftover,curr_MP_leftover_idx in zip(MP_leftover,MP_leftover_idx):\n",
    "            limb_correspondence_MP[MP_idx][curr_MP_leftover][\"branch_skeleton\"] = curr_MP_sk[curr_MP_leftover_idx]\n",
    "\n",
    "\n",
    "        print(f\" Finished with {(MP_idx,MAP_idx)} \\n\\n\\n\")\n",
    "        stitch_counter += 1\n",
    "#         if cut_flag:\n",
    "#             raise Exception(\"Cut flag was activated\")\n",
    "\n",
    "        if check_correspondence_branches:\n",
    "            sk.check_correspondence_branches_have_2_endpoints(limb_correspondence_MAP[MAP_idx])\n",
    "            sk.check_correspondence_branches_have_2_endpoints(limb_correspondence_MP[MP_idx])\n",
    "\n",
    "#             su.compressed_pickle(limb_correspondence_MAP,f\"limb_correspondence_MAP_{MAP_idx}_{MP_idx}\")\n",
    "#             su.compressed_pickle(limb_correspondence_MP,f\"limb_correspondence_MP_{MAP_idx}_{MP_idx}\")\n",
    "\n",
    "\n",
    "else:\n",
    "    print(\"There were not both MAP and MP pieces so skipping the stitch resolving phase\")\n",
    "\n",
    "print(f\"Time for decomp of Limb = {time.time() - curr_limb_time}\")\n",
    "#     # ------------- Saving the MAP and MP Decompositions ---------------- #\n",
    "#     proper_limb_mesh_correspondence_MAP[curr_limb_idx] = limb_correspondence_MAP\n",
    "#     proper_limb_mesh_correspondence_MP[curr_limb_idx] = limb_correspondence_MP\n",
    "\n",
    "\n",
    "\n",
    "\n",
    "\n",
    "\n",
    "# -------------- Part 17: Grouping the MP and MAP Correspondence into one correspondence dictionary -------#\n",
    "limb_correspondence_individual = dict()\n",
    "counter = 0\n",
    "\n",
    "for sublimb_idx,sublimb_branches in limb_correspondence_MAP.items():\n",
    "    for branch_dict in sublimb_branches.values():\n",
    "        limb_correspondence_individual[counter]= branch_dict\n",
    "        counter += 1\n",
    "for sublimb_idx,sublimb_branches in limb_correspondence_MP.items():\n",
    "    for branch_dict in sublimb_branches.values():\n",
    "        limb_correspondence_individual[counter]= branch_dict\n",
    "        counter += 1\n",
    "\n",
    "\n",
    "#info that may be used for concept networks\n",
    "network_starting_info = dict(\n",
    "            touching_verts_list = limb_to_soma_touching_vertices_list,\n",
    "            endpoints_must_keep = limb_to_endpoints_must_keep_list\n",
    ")\n",
    "\n",
    "\n",
    "\n",
    "\n",
    "\n",
    "\n",
    "# -------------- Part 18: 11-17 Addition that filters the network starting info into a more clean presentation ------------ #\n",
    "\"\"\"\n",
    "Pseudocode: \n",
    "1) Rearrange the network starting info into a ditionary mapping\n",
    "  soma_idx --> branch_broder_group --> list of dict(touching_vertices,endpoint)\n",
    "\n",
    "2) iterate through all the somas and border vertex groups\n",
    "a. filter to only those with an endpoint that is on a branch of the skeleton\n",
    "b1: If 1 --> then keep that one\n",
    "b2: If more --> pick the one with the endpoint closest to the average fo the vertex group\n",
    "b3: If 0 --> find the best available soma extending branch endpoint\n",
    "\n",
    "\"\"\"\n",
    "\n",
    "# Part 1: Rearrange network info\n",
    "\n",
    "\n",
    "t_verts_list_total,enpts_list_total = network_starting_info.values()\n",
    "network_starting_info_revised = dict()\n",
    "for j,(v_list_dict,enpts_list_dict) in enumerate(zip(t_verts_list_total,enpts_list_total)):\n",
    "    #print(f\"---- Working on {j} -----\")\n",
    "#     print(v_list_dict)\n",
    "#     print(enpts_list_dict)\n",
    "    if set(list(v_list_dict.keys())) != set(list(enpts_list_dict)):\n",
    "        raise Exception(\"Soma keys not match for touching vertices and endpoints\")\n",
    "    for sm_idx in v_list_dict.keys():\n",
    "        v_list_soma = v_list_dict[sm_idx]\n",
    "        endpt_soma = enpts_list_dict[sm_idx]\n",
    "        if len(v_list_soma) != len(endpt_soma):\n",
    "            raise Exception(f\"touching vertices list and endpoint list not match size for soma {sm_idx}\")\n",
    "\n",
    "        all_border_vertex_groups = soma_touching_vertices_dict[sm_idx]\n",
    "\n",
    "        for v_l,endpt in zip(v_list_soma,endpt_soma):\n",
    "\n",
    "            matching_border_group  = []\n",
    "            for i,curr_border_group in enumerate(all_border_vertex_groups):\n",
    "                if nu.test_matching_vertices_in_lists(curr_border_group,v_l,verbose=True):\n",
    "                    matching_border_group.append(i)\n",
    "\n",
    "            if len(matching_border_group) == 0 or len(matching_border_group)>1:\n",
    "                raise Exception(f\"Matching border groups was not exactly 1: {matching_border_group}\")\n",
    "\n",
    "            winning_border_group = matching_border_group[0]\n",
    "\n",
    "            if sm_idx not in network_starting_info_revised.keys():\n",
    "                network_starting_info_revised[sm_idx] = dict()\n",
    "\n",
    "            if winning_border_group not in network_starting_info_revised[sm_idx].keys():\n",
    "                network_starting_info_revised[sm_idx][winning_border_group] = []\n",
    "            network_starting_info_revised[sm_idx][winning_border_group].append(dict(touching_verts=v_l,endpoint=endpt))\n",
    "\n",
    "\n",
    "# Part 2 Filter\n",
    "\"\"\"\n",
    "2) iterate through all the somas and border vertex groups\n",
    "a. filter to only those with an endpoint that is on a branch of the skeleton\n",
    "b1: If 1 --> then keep that one\n",
    "b2: If more --> pick the one with the endpoint closest to the average fo the vertex group\n",
    "b3: If 0 --> find the best available soma extending branch endpoint\n",
    "\n",
    "Pseudocode for b3:\n",
    "i) get all meshes that touch the vertex group (and keep the vertices that overlap)\n",
    "--> error if none\n",
    "ii) Get all of the endpoints of all matching branches\n",
    "iii) Filter the endpoints to only those that are degree 1 in the overall skeleton\n",
    "--> if none then just keep all endpoints\n",
    "iv) Find the closest viable endpoint to the mean of the boundary group\n",
    "v) save the overlap vertices and the winning endpoint as a dictionary\n",
    "\n",
    "\"\"\"\n",
    "\n",
    "limb_correspondence_individual_saved = copy.deepcopy(limb_correspondence_individual)\n",
    "\n",
    "sorted_keys = np.sort(list(limb_correspondence_individual.keys()))\n",
    "curr_branches = [limb_correspondence_individual[k][\"branch_skeleton\"] for k in sorted_keys]\n",
    "curr_meshes = [limb_correspondence_individual[k][\"branch_mesh\"] for k in sorted_keys]\n",
    "\n",
    "network_starting_info_revised_cleaned = dict()\n",
    "for soma_idx in network_starting_info_revised.keys():\n",
    "    network_starting_info_revised_cleaned[soma_idx] = dict()\n",
    "    for bound_g_idx,endpoint_list in network_starting_info_revised[soma_idx].items():\n",
    "        endpoint_list = np.array(endpoint_list)\n",
    "\n",
    "        filter_on_skeleton_list = []\n",
    "        for zz,endpt_dict in enumerate(endpoint_list):\n",
    "            #a. filter to only those with an endpoint that is on a branch of the skeleton\n",
    "            sk_indices = sk.find_branch_skeleton_with_specific_coordinate(divded_skeleton=curr_branches,\n",
    "                                                                        current_coordinate=endpt_dict[\"endpoint\"])\n",
    "            if len(sk_indices) > 0:\n",
    "                filter_on_skeleton_list.append(zz)\n",
    "\n",
    "        endpoint_list_filt = endpoint_list[filter_on_skeleton_list]\n",
    "\n",
    "\n",
    "\n",
    "        curr_border_group_coordinates = soma_touching_vertices_dict[soma_idx][bound_g_idx]\n",
    "        boundary_mean = np.mean(curr_border_group_coordinates,axis=0)\n",
    "\n",
    "        if len(endpoint_list_filt) == 1:\n",
    "            print(\"Only one endpoint after filtering away the endpoints that are not on the skeleton\")\n",
    "            winning_dict = endpoint_list_filt[0]\n",
    "        #b2: If more --> pick the one with the endpoint closest to the average fo the vertex group\n",
    "        elif len(endpoint_list_filt) > 1:\n",
    "            print(f\"MORE THAN one endpoint after filtering away the endpoints that are not on the skeleton: {len(endpoint_list_filt)}\")\n",
    "            viable_endpoints = [endpt_dict[\"endpoint\"] for endpt_dict in endpoint_list_filt]\n",
    "\n",
    "\n",
    "            distanes_from_mean = np.linalg.norm(viable_endpoints-boundary_mean,axis=1)\n",
    "            winning_endpoint_idx = np.argmin(distanes_from_mean)\n",
    "            winning_dict = endpoint_list_filt[winning_endpoint_idx]\n",
    "\n",
    "        #if there was no clear winner\n",
    "        else:\n",
    "            \"\"\"\n",
    "            Pseudocode for no viable options:\n",
    "            i) get all meshes that touch the vertex group (and keep the vertices that overlap)\n",
    "            --> error if none\n",
    "            ii) Get all of the endpoints of all matching branches\n",
    "            iii) Filter the endpoints to only those that are degree 1 in the overall skeleton\n",
    "            --> if none then just keep all endpoints\n",
    "            iv) Find the closest viable endpoint to the mean of the boundary group\n",
    "            v) save the overlap vertices and the winning endpoint as a dictionary\n",
    "\n",
    "\n",
    "            \"\"\"\n",
    "            print(\"Having to find a new branch point\")\n",
    "            #i) get all meshes that touch the vertex group (and keep the vertices that overlap)\n",
    "            mesh_indices_on_border = tu.filter_meshes_by_containing_coordinates(curr_meshes,\n",
    "                                          nullifying_points=curr_border_group_coordinates,\n",
    "                                          filter_away=False,\n",
    "                                          distance_threshold=0,\n",
    "                                          return_indices=True)\n",
    "            if len(mesh_indices_on_border) == 0:\n",
    "                raise Exception(\"There were no meshes that were touching the boundary group\")\n",
    "\n",
    "            total_skeleton_graph = sk.convert_skeleton_to_graph(sk.stack_skeletons(curr_branches))\n",
    "            skeleton_branches_on_border = [k for n,k in enumerate(curr_branches) if n in mesh_indices_on_border]\n",
    "            skeleton_branches_on_border_endpoints = np.array([sk.find_branch_endpoints(k) for k in skeleton_branches_on_border])\n",
    "\n",
    "\n",
    "\n",
    "            viable_endpoints = []\n",
    "            for enpt in skeleton_branches_on_border_endpoints.reshape(-1,3):\n",
    "                curr_enpt_node = xu.get_graph_node_by_coordinate(total_skeleton_graph,enpt,return_single_value=True)\n",
    "                curr_enpt_degree = xu.get_node_degree(total_skeleton_graph,curr_enpt_node)\n",
    "                #print(f\"curr_enpt_degree = {curr_enpt_degree}\")\n",
    "                if curr_enpt_degree == 1:\n",
    "                    viable_endpoints.append(enpt)\n",
    "\n",
    "            if len(viable_endpoints) == 0:\n",
    "                print(\"No branch endpoints were degree 1 so just using all endpoints\")\n",
    "                viable_endpoints = skeleton_branches_on_border_endpoints.reshape(-1,3)\n",
    "\n",
    "            distanes_from_mean = np.linalg.norm(viable_endpoints-boundary_mean,axis=1)\n",
    "            winning_endpoint = viable_endpoints[np.argmin(distanes_from_mean)]\n",
    "\n",
    "\n",
    "            sk_indices = sk.find_branch_skeleton_with_specific_coordinate(divded_skeleton=curr_branches,\n",
    "                                                                                    current_coordinate=winning_endpoint)\n",
    "\n",
    "            winning_branch = np.intersect1d(mesh_indices_on_border,sk_indices)\n",
    "            if len(winning_branch) == 0:\n",
    "                raise Exception(\"There was no winning branch for the creation of a new soma extending branch\")\n",
    "            else:\n",
    "                winning_branch_single = winning_branch[0]\n",
    "\n",
    "\n",
    "            winning_touching_vertices = tu.filter_vertices_by_mesh(curr_meshes[winning_branch_single],curr_border_group_coordinates)\n",
    "            winning_dict = dict(touching_verts=winning_touching_vertices,endpoint=winning_endpoint)\n",
    "\n",
    "\n",
    "\n",
    "\n",
    "\n",
    "\n",
    "\n",
    "\n",
    "        network_starting_info_revised_cleaned[soma_idx][bound_g_idx] = winning_dict\n",
    "\n",
    "\n",
    "# -------------- Part 18: Filter the limb correspondence for any short stubs ------------ #\n",
    "if filter_end_nodes_from_correspondence:\n",
    "    limb_correspondence_individual = pre.filter_limb_correspondence_for_end_nodes(limb_correspondence=limb_correspondence_individual,\n",
    "                                                 mesh=limb_mesh_mparty,\n",
    "                                                 starting_info=network_starting_info_revised_cleaned,\n",
    "                                                filter_end_node_length=filter_end_node_length\n",
    "\n",
    "                                                )\n",
    "\n",
    "\n",
    "\n",
    "\n",
    "\n",
    "if not return_concept_network:\n",
    "    if return_concept_network_starting_info: #because may want to calculate the concept networks later\n",
    "        return_value = limb_correspondence_individual,network_starting_info_revised_cleaned\n",
    "    else:\n",
    "        return_value = limb_correspondence_individual\n",
    "    raise Exception(\"Returned\")\n",
    "    \n",
    "else:\n",
    "    limb_to_soma_concept_networks = calculate_limb_concept_networks(limb_correspondence_individual,\n",
    "                                                                    network_starting_info_revised_cleaned,\n",
    "                                                                    run_concept_network_checks=run_concept_network_checks,\n",
    "                                                                    error_on_starting_coordinates_not_endnodes= prevent_MP_starter_branch_stitches\n",
    "                                                                   )\n",
    "\n",
    "\n",
    "\n",
    "\n",
    "return_value =  limb_correspondence_individual,limb_to_soma_concept_networks\n",
    "raise Exception(\"Returned\")\n",
    "\n"
   ]
  },
  {
   "cell_type": "code",
   "execution_count": null,
   "metadata": {},
   "outputs": [],
   "source": [
    "nviz.plot_limb_correspondence(limb_correspondence_individual)"
   ]
  },
  {
   "cell_type": "markdown",
   "metadata": {},
   "source": [
    "# Debugging the missing mesh piece"
   ]
  },
  {
   "cell_type": "code",
   "execution_count": null,
   "metadata": {},
   "outputs": [],
   "source": [
    "retrieved_obj = (minnie.Decomposition & dict(segment_id=segment_id)).fetch1(\"decomposition\")"
   ]
  },
  {
   "cell_type": "code",
   "execution_count": null,
   "metadata": {},
   "outputs": [],
   "source": [
    "debug_mesh = mesh_pieces_for_MAP[0]"
   ]
  },
  {
   "cell_type": "code",
   "execution_count": null,
   "metadata": {},
   "outputs": [],
   "source": [
    "nviz.plot_objects(mesh_pieces_for_MAP[0])"
   ]
  },
  {
   "cell_type": "code",
   "execution_count": null,
   "metadata": {},
   "outputs": [],
   "source": [
    "sk = reload(sk)"
   ]
  },
  {
   "cell_type": "code",
   "execution_count": null,
   "metadata": {},
   "outputs": [],
   "source": [
    "for sublimb_idx,(mesh,mesh_idx) in enumerate(zip(mesh_pieces_for_MAP,mesh_pieces_for_MAP_face_idx)):\n",
    "    print(f\"--- Working on MAP piece {sublimb_idx}---\")\n",
    "    #print(f\"soma_touching_vertices_dict = {soma_touching_vertices_dict}\")\n",
    "    mesh_start_time = time.time()\n",
    "    curr_soma_to_piece_touching_vertices = filter_soma_touching_vertices_dict_by_mesh(\n",
    "    mesh = mesh,\n",
    "    curr_piece_to_soma_touching_vertices = soma_touching_vertices_dict\n",
    "    )\n",
    "\n",
    "    if print_fusion_steps:\n",
    "        print(f\"MAP Filtering Soma Pieces: {time.time() - fusion_time }\")\n",
    "        fusion_time = time.time()\n",
    "\n",
    "    # ---- 0) Generating the Clean skeletons  -------------------------------------------#\n",
    "    if not curr_soma_to_piece_touching_vertices is None:\n",
    "        curr_total_border_vertices = dict([(k,np.vstack(v)) for k,v in curr_soma_to_piece_touching_vertices.items()])\n",
    "    else:\n",
    "        curr_total_border_vertices = None\n",
    "\n",
    "\n",
    "    cleaned_branch,curr_limb_endpoints_must_keep = sk.skeletonize_and_clean_connected_branch_CGAL(\n",
    "        mesh=mesh,\n",
    "        curr_soma_to_piece_touching_vertices=curr_soma_to_piece_touching_vertices,\n",
    "        total_border_vertices=curr_total_border_vertices,\n",
    "        filter_end_node_length=filter_end_node_length,\n",
    "        perform_cleaning_checks=perform_cleaning_checks,\n",
    "        combine_close_skeleton_nodes = combine_close_skeleton_nodes,\n",
    "        combine_close_skeleton_nodes_threshold=combine_close_skeleton_nodes_threshold,\n",
    "    use_surface_after_CGAL=use_surface_after_CGAL,\n",
    "    surface_reconstruction_size=surface_reconstruction_size,\n",
    "    verbose=True)\n",
    "\n",
    "    if not curr_limb_endpoints_must_keep is None:\n",
    "        limb_to_endpoints_must_keep_list.append(curr_limb_endpoints_must_keep)\n",
    "        limb_to_soma_touching_vertices_list.append(curr_soma_to_piece_touching_vertices)\n",
    "    else:\n",
    "        print(\"Inside MAP decomposition and curr_limb_endpoints_must_keep was None\")\n",
    "\n",
    "    if len(cleaned_branch) == 0:\n",
    "        raise Exception(f\"Found a zero length skeleton for limb {z} of trmesh {branch}\")\n",
    "\n",
    "    if print_fusion_steps:\n",
    "        print(f\"skeletonize_and_clean_connected_branch_CGAL: {time.time() - fusion_time }\")\n",
    "        fusion_time = time.time()\n",
    "\n",
    "    # ---- 1) Generating Initial Mesh Correspondence -------------------------------------------#\n",
    "    start_time = time.time()\n",
    "\n",
    "    print(f\"Working on limb correspondence for #{sublimb_idx} MAP piece\")\n",
    "    local_correspondence = mesh_correspondence_first_pass(mesh=mesh,\n",
    "                                                         skeleton=cleaned_branch,\n",
    "                                                         distance_by_mesh_center=distance_by_mesh_center,\n",
    "                                                         connectivity=\"edges\",\n",
    "                                                         remove_inside_pieces_threshold=100)\n",
    "\n",
    "\n",
    "    print(f\"Total time for decomposition = {time.time() - start_time}\")\n",
    "    if print_fusion_steps:\n",
    "        print(f\"mesh_correspondence_first_pass: {time.time() - fusion_time }\")\n",
    "        fusion_time = time.time()\n",
    "\n",
    "\n",
    "    #------------- 2) Doing Some checks on the initial corespondence -------- #\n",
    "\n",
    "\n",
    "    if perform_cleaning_checks:\n",
    "        check_skeletonization_and_decomp(skeleton=cleaned_branch,\n",
    "                                        local_correspondence=local_correspondence)\n",
    "\n",
    "    # -------3) Finishing off the face correspondence so get 1-to-1 correspondence of mesh face to skeletal piece\n",
    "    local_correspondence_revised = correspondence_1_to_1(mesh=mesh,\n",
    "                                    local_correspondence=local_correspondence,\n",
    "                                    curr_limb_endpoints_must_keep=curr_limb_endpoints_must_keep,\n",
    "                                    curr_soma_to_piece_touching_vertices=curr_soma_to_piece_touching_vertices)\n",
    "\n",
    "    # -------3b) Fixing the mesh indices to correspond to the larger mesh as a whole\n",
    "    for k,v in local_correspondence_revised.items():\n",
    "        local_correspondence_revised[k][\"branch_face_idx\"] = mesh_idx[local_correspondence_revised[k][\"branch_face_idx\"]]\n",
    "\n",
    "    print(f\"Total time for MAP sublimb #{sublimb_idx} mesh processing = {time.time() - mesh_start_time}\")\n",
    "\n",
    "    if print_fusion_steps:\n",
    "        print(f\"correspondence_1_to_1: {time.time() - fusion_time }\")\n",
    "        fusion_time = time.time()\n",
    "\n",
    "    limb_correspondence_MAP[sublimb_idx] = local_correspondence_revised\n",
    "    \n",
    "    raise Exception(\"Done #0 mesh piece\")\n",
    "\n",
    "print(f\"Total time for MAP sublimb processing {time.time() - global_start_time}\")"
   ]
  },
  {
   "cell_type": "code",
   "execution_count": null,
   "metadata": {},
   "outputs": [],
   "source": [
    "current_skeleton = su.decompress_pickle(\"current_skeleton\")"
   ]
  },
  {
   "cell_type": "code",
   "execution_count": null,
   "metadata": {},
   "outputs": [],
   "source": [
    "nviz.plot_objects(debug_mesh,\n",
    "                 skeletons=[current_skeleton])"
   ]
  },
  {
   "cell_type": "markdown",
   "metadata": {},
   "source": [
    "# Do the new function where can protect the segments we want"
   ]
  },
  {
   "cell_type": "code",
   "execution_count": null,
   "metadata": {},
   "outputs": [],
   "source": [
    "import networkx_utils as xu"
   ]
  },
  {
   "cell_type": "code",
   "execution_count": null,
   "metadata": {},
   "outputs": [],
   "source": [
    "\"\"\"\n",
    "Pseudocode: \n",
    "1) Turn the skeleton into a graph\n",
    "2) Get all of the end nodes\n",
    "3) Get all of the high degree nodes in the graph\n",
    "\n",
    "if there are high degree nodes, for each end nodes\n",
    "a. Find the path to the nearest high degree node\n",
    "b. Get the skeleton of that subgraph\n",
    "c. If length of that skeleton is within a certain range:\n",
    "    1) Run the first pass mesh correspondence\n",
    "    2) If the mesh is of a certain size, add the endpoint to the endpoints to keep\n",
    "\n",
    "\"\"\""
   ]
  },
  {
   "cell_type": "code",
   "execution_count": null,
   "metadata": {},
   "outputs": [],
   "source": [
    "debug_mesh.submesh([[1]],append=True,repair=False)"
   ]
  },
  {
   "cell_type": "code",
   "execution_count": null,
   "metadata": {},
   "outputs": [],
   "source": [
    "\n",
    "import trimesh_utils as tu\n",
    "                                                                \n",
    "return_value = tu.skeleton_to_mesh_correspondence( mesh = debug_mesh,\n",
    "                                                skeletons = viable_end_node_skeletons\n",
    "                                   )\n",
    "\n",
    "nviz.plot_objects(meshes=return_value,\n",
    "                  meshes_colors=\"random\",\n",
    "                  skeletons=viable_end_node_skeletons,\n",
    "                 skeletons_colors=\"random\")\n",
    "    "
   ]
  },
  {
   "cell_type": "code",
   "execution_count": null,
   "metadata": {},
   "outputs": [],
   "source": [
    "nviz.plot_objects(meshes=return_value,\n",
    "                  meshes_colors=\"random\",\n",
    "                  skeletons=viable_end_node_skeletons,\n",
    "                 skeletons_colors=\"random\")"
   ]
  },
  {
   "cell_type": "code",
   "execution_count": null,
   "metadata": {},
   "outputs": [],
   "source": [
    "skeleton = current_skeleton"
   ]
  },
  {
   "cell_type": "code",
   "execution_count": null,
   "metadata": {},
   "outputs": [],
   "source": [
    "sk.find_end_nodes_with_significant_mesh_correspondence(\n",
    "    mesh = debug_mesh,\n",
    "    skeleton = current_skeleton,\n",
    "    plot_viable_endpoint_correspondences = False,\n",
    "    plot_keep_endpoints = False,\n",
    "    verbose = False)"
   ]
  },
  {
   "cell_type": "code",
   "execution_count": null,
   "metadata": {},
   "outputs": [],
   "source": [
    "viable_end_node_skeletons_len"
   ]
  },
  {
   "cell_type": "code",
   "execution_count": null,
   "metadata": {},
   "outputs": [],
   "source": []
  },
  {
   "cell_type": "code",
   "execution_count": null,
   "metadata": {},
   "outputs": [],
   "source": []
  },
  {
   "cell_type": "code",
   "execution_count": null,
   "metadata": {},
   "outputs": [],
   "source": []
  },
  {
   "cell_type": "code",
   "execution_count": null,
   "metadata": {},
   "outputs": [],
   "source": [
    "sk.skeletonize_connected_branch"
   ]
  },
  {
   "cell_type": "code",
   "execution_count": null,
   "metadata": {},
   "outputs": [],
   "source": [
    "ret_col = nviz.visualize_neuron(retrieved_obj,\n",
    "                      visualize_type=[\"mesh\",\"skeleton\"],\n",
    "                     limb_branch_dict=dict(L1=\"all\"),\n",
    "                     return_color_dict=True)"
   ]
  },
  {
   "cell_type": "code",
   "execution_count": null,
   "metadata": {},
   "outputs": [],
   "source": [
    "nviz.plot_limb_concept_network_2D(retrieved_obj,\n",
    "                                 node_colors=ret_col,\n",
    "                                 starting_soma=0,\n",
    "                                 starting_soma_group=1)"
   ]
  },
  {
   "cell_type": "code",
   "execution_count": null,
   "metadata": {},
   "outputs": [],
   "source": [
    "curr_limb = retrieved_obj[1]"
   ]
  },
  {
   "cell_type": "code",
   "execution_count": null,
   "metadata": {},
   "outputs": [],
   "source": [
    "curr_limb.set_concept_network_directional?"
   ]
  },
  {
   "cell_type": "code",
   "execution_count": null,
   "metadata": {},
   "outputs": [],
   "source": []
  },
  {
   "cell_type": "code",
   "execution_count": null,
   "metadata": {},
   "outputs": [],
   "source": []
  },
  {
   "cell_type": "code",
   "execution_count": null,
   "metadata": {},
   "outputs": [],
   "source": []
  },
  {
   "cell_type": "code",
   "execution_count": null,
   "metadata": {},
   "outputs": [],
   "source": []
  },
  {
   "cell_type": "code",
   "execution_count": null,
   "metadata": {},
   "outputs": [],
   "source": [
    "nru.all_soma_connnecting_endpionts_from_starting_info(network_starting_info_revised_cleaned)"
   ]
  },
  {
   "cell_type": "code",
   "execution_count": null,
   "metadata": {},
   "outputs": [],
   "source": [
    "winning_vertex = np.array([1155881.9375  , 519313.2625  , 763731.68125])\n",
    "nu.matching_rows(total_keep_endpoints,winning_vertex)"
   ]
  },
  {
   "cell_type": "code",
   "execution_count": null,
   "metadata": {},
   "outputs": [],
   "source": [
    "limb_correspondence_individual = pre.filter_limb_correspondence_for_end_nodes(limb_correspondence=limb_correspondence_individual,\n",
    "                                                 mesh=limb_mesh_mparty,\n",
    "                                                 starting_info=network_starting_info_revised_cleaned,\n",
    "                                                filter_end_node_length=filter_end_node_length\n",
    "\n",
    "                                                )"
   ]
  },
  {
   "cell_type": "code",
   "execution_count": null,
   "metadata": {},
   "outputs": [],
   "source": [
    "total_keep_endpoints"
   ]
  },
  {
   "cell_type": "code",
   "execution_count": null,
   "metadata": {},
   "outputs": [],
   "source": [
    "st_coord = nru.all_soma_connnecting_endpionts_from_starting_info(network_starting_info_revised_cleaned)\n",
    "st_coord"
   ]
  },
  {
   "cell_type": "code",
   "execution_count": null,
   "metadata": {},
   "outputs": [],
   "source": [
    "st_coord"
   ]
  },
  {
   "cell_type": "code",
   "execution_count": null,
   "metadata": {},
   "outputs": [],
   "source": [
    "total_keep_endpoints"
   ]
  },
  {
   "cell_type": "code",
   "execution_count": null,
   "metadata": {},
   "outputs": [],
   "source": [
    "limb_to_endpoints_must_keep_list"
   ]
  },
  {
   "cell_type": "code",
   "execution_count": null,
   "metadata": {},
   "outputs": [],
   "source": [
    "network_starting_info"
   ]
  },
  {
   "cell_type": "code",
   "execution_count": null,
   "metadata": {},
   "outputs": [],
   "source": [
    "t_verts_list_total"
   ]
  },
  {
   "cell_type": "code",
   "execution_count": null,
   "metadata": {},
   "outputs": [],
   "source": [
    "network_starting_info_revised"
   ]
  },
  {
   "cell_type": "code",
   "execution_count": null,
   "metadata": {},
   "outputs": [],
   "source": [
    "network_starting_info_revised"
   ]
  },
  {
   "cell_type": "code",
   "execution_count": null,
   "metadata": {},
   "outputs": [],
   "source": [
    "network_starting_info_revised[1]"
   ]
  },
  {
   "cell_type": "code",
   "execution_count": null,
   "metadata": {},
   "outputs": [],
   "source": [
    "nru.all_soma_connnecting_endpionts_from_starting_info(network_starting_info_revised)"
   ]
  },
  {
   "cell_type": "code",
   "execution_count": null,
   "metadata": {},
   "outputs": [],
   "source": [
    "nviz.plot_limb_correspondence(limb_correspondence_MP_saved,\n",
    "                             meshes_colors=\"green\",\n",
    "                             skeleton_colors=\"blue\",\n",
    "                             scatters=total_keep_endpoints)"
   ]
  },
  {
   "cell_type": "code",
   "execution_count": null,
   "metadata": {},
   "outputs": [],
   "source": []
  },
  {
   "cell_type": "code",
   "execution_count": null,
   "metadata": {},
   "outputs": [],
   "source": []
  },
  {
   "cell_type": "code",
   "execution_count": null,
   "metadata": {},
   "outputs": [],
   "source": [
    "nviz.plot_limb_correspondence(limb_correspondence_MAP_saved,\n",
    "                             meshes_colors=\"green\",\n",
    "                             skeleton_colors=\"blue\",\n",
    "                             scatters=st_coord[0:1])"
   ]
  },
  {
   "cell_type": "code",
   "execution_count": null,
   "metadata": {},
   "outputs": [],
   "source": [
    "nviz.plot_limb_correspondence(limb_correspondence_individual,\n",
    "                             meshes_colors=\"green\",\n",
    "                             skeleton_colors=\"blue\",\n",
    "                             scatters=st_coord)"
   ]
  },
  {
   "cell_type": "markdown",
   "metadata": {},
   "source": [
    "# Debugging the limb correspondence error"
   ]
  },
  {
   "cell_type": "code",
   "execution_count": null,
   "metadata": {},
   "outputs": [],
   "source": [
    "for sublimb_idx,(mesh,mesh_idx) in enumerate(zip(mesh_pieces_for_MAP,mesh_pieces_for_MAP_face_idx)):\n",
    "    print(f\"--- Working on MAP piece {sublimb_idx}---\")\n",
    "    #print(f\"soma_touching_vertices_dict = {soma_touching_vertices_dict}\")\n",
    "    mesh_start_time = time.time()\n",
    "    curr_soma_to_piece_touching_vertices = filter_soma_touching_vertices_dict_by_mesh(\n",
    "    mesh = mesh,\n",
    "    curr_piece_to_soma_touching_vertices = soma_touching_vertices_dict\n",
    "    )\n",
    "\n",
    "    if print_fusion_steps:\n",
    "        print(f\"MAP Filtering Soma Pieces: {time.time() - fusion_time }\")\n",
    "        fusion_time = time.time()\n",
    "\n",
    "    # ---- 0) Generating the Clean skeletons  -------------------------------------------#\n",
    "    if not curr_soma_to_piece_touching_vertices is None:\n",
    "        curr_total_border_vertices = dict([(k,np.vstack(v)) for k,v in curr_soma_to_piece_touching_vertices.items()])\n",
    "    else:\n",
    "        curr_total_border_vertices = None\n",
    "\n",
    "\n",
    "    cleaned_branch,curr_limb_endpoints_must_keep = sk.skeletonize_and_clean_connected_branch_CGAL(\n",
    "        mesh=mesh,\n",
    "        curr_soma_to_piece_touching_vertices=curr_soma_to_piece_touching_vertices,\n",
    "        total_border_vertices=curr_total_border_vertices,\n",
    "        filter_end_node_length=filter_end_node_length,\n",
    "        perform_cleaning_checks=perform_cleaning_checks,\n",
    "        combine_close_skeleton_nodes = combine_close_skeleton_nodes,\n",
    "        combine_close_skeleton_nodes_threshold=combine_close_skeleton_nodes_threshold,\n",
    "    use_surface_after_CGAL=use_surface_after_CGAL,\n",
    "    surface_reconstruction_size=surface_reconstruction_size)\n",
    "\n",
    "    if not curr_limb_endpoints_must_keep is None:\n",
    "        limb_to_endpoints_must_keep_list.append(curr_limb_endpoints_must_keep)\n",
    "        limb_to_soma_touching_vertices_list.append(curr_soma_to_piece_touching_vertices)\n",
    "    else:\n",
    "        print(\"Inside MAP decomposition and curr_limb_endpoints_must_keep was None\")\n",
    "\n",
    "    if len(cleaned_branch) == 0:\n",
    "        raise Exception(f\"Found a zero length skeleton for limb {z} of trmesh {branch}\")\n",
    "\n",
    "    if print_fusion_steps:\n",
    "        print(f\"skeletonize_and_clean_connected_branch_CGAL: {time.time() - fusion_time }\")\n",
    "        fusion_time = time.time()\n",
    "\n",
    "    # ---- 1) Generating Initial Mesh Correspondence -------------------------------------------#\n",
    "    start_time = time.time()\n",
    "\n",
    "    print(f\"Working on limb correspondence for #{sublimb_idx} MAP piece\")\n",
    "    local_correspondence = mesh_correspondence_first_pass(mesh=mesh,\n",
    "                                                         skeleton=cleaned_branch,\n",
    "                                                         distance_by_mesh_center=distance_by_mesh_center,\n",
    "                                                         connectivity=\"edges\",\n",
    "                                                         remove_inside_pieces_threshold=100)\n",
    "\n",
    "\n",
    "    print(f\"Total time for decomposition = {time.time() - start_time}\")\n",
    "    if print_fusion_steps:\n",
    "        print(f\"mesh_correspondence_first_pass: {time.time() - fusion_time }\")\n",
    "        fusion_time = time.time()\n",
    "\n",
    "\n",
    "    #------------- 2) Doing Some checks on the initial corespondence -------- #\n",
    "\n",
    "\n",
    "    if perform_cleaning_checks:\n",
    "        check_skeletonization_and_decomp(skeleton=cleaned_branch,\n",
    "                                        local_correspondence=local_correspondence)\n",
    "\n",
    "    # -------3) Finishing off the face correspondence so get 1-to-1 correspondence of mesh face to skeletal piece\n",
    "    local_correspondence_revised = correspondence_1_to_1(mesh=mesh,\n",
    "                                    local_correspondence=local_correspondence,\n",
    "                                    curr_limb_endpoints_must_keep=curr_limb_endpoints_must_keep,\n",
    "                                    curr_soma_to_piece_touching_vertices=curr_soma_to_piece_touching_vertices)\n",
    "\n",
    "    # -------3b) Fixing the mesh indices to correspond to the larger mesh as a whole\n",
    "    for k,v in local_correspondence_revised.items():\n",
    "        local_correspondence_revised[k][\"branch_face_idx\"] = mesh_idx[local_correspondence_revised[k][\"branch_face_idx\"]]\n",
    "\n",
    "    print(f\"Total time for MAP sublimb #{sublimb_idx} mesh processing = {time.time() - mesh_start_time}\")\n",
    "\n",
    "    if print_fusion_steps:\n",
    "        print(f\"correspondence_1_to_1: {time.time() - fusion_time }\")\n",
    "        fusion_time = time.time()\n",
    "\n",
    "    limb_correspondence_MAP[sublimb_idx] = local_correspondence_revised\n",
    "    \n",
    "    raise Exception(\"Done #0 mesh piece\")\n",
    "\n",
    "print(f\"Total time for MAP sublimb processing {time.time() - global_start_time}\")"
   ]
  },
  {
   "cell_type": "code",
   "execution_count": null,
   "metadata": {
    "scrolled": true
   },
   "outputs": [],
   "source": [
    "nviz.plot_objects(mesh,\n",
    "                 skeletons=[cleaned_branch])"
   ]
  },
  {
   "cell_type": "code",
   "execution_count": null,
   "metadata": {},
   "outputs": [],
   "source": [
    "nviz.plot_limb_correspondence(local_correspondence,mesh_name=\"correspondence_mesh\")"
   ]
  },
  {
   "cell_type": "code",
   "execution_count": null,
   "metadata": {},
   "outputs": [],
   "source": [
    "nviz = reload(nviz)\n",
    "nviz.plot_limb_correspondence(local_correspondence,mesh_name=\"correspondence_mesh\")"
   ]
  },
  {
   "cell_type": "code",
   "execution_count": null,
   "metadata": {},
   "outputs": [],
   "source": [
    "nviz.plot_limb_correspondence(local_correspondence_revised)"
   ]
  },
  {
   "cell_type": "markdown",
   "metadata": {},
   "source": [
    "# Debugging the local correspondence"
   ]
  },
  {
   "cell_type": "code",
   "execution_count": null,
   "metadata": {},
   "outputs": [],
   "source": [
    "mesh=mesh\n",
    "skeleton=cleaned_branch\n",
    "distance_by_mesh_center=distance_by_mesh_center\n",
    "connectivity=\"edges\"\n",
    "\n",
    "skeleton_branches=None\n",
    "\n",
    "\"\"\"\n",
    "Will come up with the mesh correspondences for all of the skeleton\n",
    "branches: where there can be overlaps and empty faces\n",
    "\n",
    "\"\"\"\n",
    "curr_limb_mesh = mesh\n",
    "curr_limb_sk = skeleton\n",
    "\n",
    "if skeleton_branches is None:\n",
    "    if skeleton is None:\n",
    "        raise Exception(\"Both skeleton and skeleton_branches is None\")\n",
    "    curr_limb_branches_sk_uneven = sk.decompose_skeleton_to_branches(curr_limb_sk) #the line that is decomposing to branches\n",
    "else:\n",
    "    curr_limb_branches_sk_uneven = skeleton_branches \n",
    "\n",
    "#Doing the limb correspondence for all of the branches of the skeleton\n",
    "local_correspondence = dict()\n",
    "for j,curr_branch_sk in tqdm(enumerate(curr_limb_branches_sk_uneven)):\n",
    "    local_correspondence[j] = dict()\n",
    "\n",
    "\n",
    "    returned_data = cu.mesh_correspondence_adaptive_distance(curr_branch_sk,\n",
    "                                  curr_limb_mesh,\n",
    "                                 skeleton_segment_width = 1000,\n",
    "                                 distance_by_mesh_center=distance_by_mesh_center,\n",
    "                                                            connectivity=connectivity)\n",
    "    if len(returned_data) == 0:\n",
    "        print(\"Got nothing from first pass so expanding the mesh correspondnece parameters \")\n",
    "        returned_data = cu.mesh_correspondence_adaptive_distance(curr_branch_sk,\n",
    "                                  curr_limb_mesh,\n",
    "                                 skeleton_segment_width = 1000,\n",
    "                                 distance_by_mesh_center=distance_by_mesh_center,\n",
    "                                buffer=300,\n",
    "                                 distance_threshold=6000,\n",
    "                                return_closest_face_on_empty=True,\n",
    "                                    connectivity=connectivity)\n",
    "\n",
    "    # Need to just pick the closest face is still didn't get anything\n",
    "\n",
    "    # ------ 12/3 Addition: Account for correspondence that does not work so just picking the closest face\n",
    "    curr_branch_face_correspondence, width_from_skeleton = returned_data\n",
    "\n",
    "\n",
    "#             print(f\"curr_branch_sk.shape = {curr_branch_sk.shape}\")\n",
    "#             np.savez(\"saved_skeleton_branch.npz\",curr_branch_sk=curr_branch_sk)\n",
    "#             tu.write_neuron_off(curr_limb_mesh,\"curr_limb_mesh.off\")\n",
    "#             #print(f\"returned_data = {returned_data}\")\n",
    "#             raise Exception(f\"The output from mesh_correspondence_adaptive_distance was nothing: curr_branch_face_correspondence\")\n",
    "\n",
    "\n",
    "    if len(curr_branch_face_correspondence) > 0:\n",
    "        curr_submesh = curr_limb_mesh.submesh([list(curr_branch_face_correspondence)],append=True,repair=False)\n",
    "    else:\n",
    "        curr_submesh = trimesh.Trimesh(vertices=np.array([]),faces=np.array([]))\n",
    "\n",
    "\n",
    "    local_correspondence[j][\"branch_skeleton\"] = curr_branch_sk\n",
    "    local_correspondence[j][\"correspondence_mesh\"] = curr_submesh\n",
    "    local_correspondence[j][\"correspondence_face_idx\"] = curr_branch_face_correspondence\n",
    "    local_correspondence[j][\"width_from_skeleton\"] = width_from_skeleton"
   ]
  },
  {
   "cell_type": "code",
   "execution_count": null,
   "metadata": {},
   "outputs": [],
   "source": [
    "tu.original_mesh_faces_map(curr_limb_mesh,inside_pieces)"
   ]
  },
  {
   "cell_type": "code",
   "execution_count": null,
   "metadata": {},
   "outputs": [],
   "source": [
    "curr_limb_mesh,len(new_mesh)"
   ]
  },
  {
   "cell_type": "code",
   "execution_count": null,
   "metadata": {},
   "outputs": [],
   "source": [
    "new_mesh = tu.remove_mesh_interior(curr_limb_mesh,size_threshold_to_remove=100,try_hole_close=False,return_removed_pieces=False,\n",
    "                                  return_face_indices=True)\n",
    "\n",
    "nviz.plot_objects(curr_limb_mesh.submesh([new_mesh],append=True))"
   ]
  },
  {
   "cell_type": "code",
   "execution_count": null,
   "metadata": {},
   "outputs": [],
   "source": [
    "test_skeleton = curr_limb_branches_sk_uneven[2]\n",
    "curr_branch_face_correspondence, width_from_skeleton = cu.mesh_correspondence_adaptive_distance(test_skeleton,\n",
    "                                 new_mesh,\n",
    "                                 skeleton_segment_width = 1000,\n",
    "                                 distance_by_mesh_center=distance_by_mesh_center,\n",
    "                                                            connectivity=connectivity,\n",
    "                                                                                               #buffer=3000\n",
    "                                                                                               )"
   ]
  },
  {
   "cell_type": "code",
   "execution_count": null,
   "metadata": {},
   "outputs": [],
   "source": [
    "curr_submesh = new_mesh.submesh([list(curr_branch_face_correspondence)],append=True,repair=False)\n",
    "nviz.plot_objects(curr_submesh,\n",
    "                 skeletons=[test_skeleton],\n",
    "                 meshes=inside_pieces,\n",
    "                 meshes_colors=\"red\")"
   ]
  },
  {
   "cell_type": "code",
   "execution_count": null,
   "metadata": {},
   "outputs": [],
   "source": [
    "len(face_subtract_indices)"
   ]
  },
  {
   "cell_type": "code",
   "execution_count": null,
   "metadata": {},
   "outputs": [],
   "source": [
    "face_subtract_indices = su.decompress_pickle(\"face_subtract_indices\")\n",
    "debug_mesh = curr_limb_mesh.submesh([np.unique(np.concatenate(face_subtract_indices))],append=True,)"
   ]
  },
  {
   "cell_type": "code",
   "execution_count": null,
   "metadata": {},
   "outputs": [],
   "source": [
    "ret_val = tu.remove_mesh_interior(debug_mesh,size_threshold_to_remove=100,verbose=True,return_removed_pieces=True)"
   ]
  },
  {
   "cell_type": "code",
   "execution_count": null,
   "metadata": {},
   "outputs": [],
   "source": [
    "debug_mesh_revised,inside_pieces = ret_val"
   ]
  },
  {
   "cell_type": "code",
   "execution_count": null,
   "metadata": {},
   "outputs": [],
   "source": [
    "nviz.plot_objects(main_mesh=debug_mesh_revised,\n",
    "                meshes=inside_pieces,\n",
    "                 meshes_colors=\"random\")"
   ]
  },
  {
   "cell_type": "code",
   "execution_count": null,
   "metadata": {},
   "outputs": [],
   "source": [
    "split_meshes = tu.split_significant_pieces(debug_mesh,connectivity=\"vertices\")\n",
    "nviz.plot_objects(meshes=split_meshes,\n",
    "                  meshes_colors=\"random\")"
   ]
  },
  {
   "cell_type": "code",
   "execution_count": null,
   "metadata": {},
   "outputs": [],
   "source": [
    "nviz.plot_objects(meshes=tu.split(debug_mesh,connectivity=\"edges\")[0],\n",
    "                  meshes_colors=\"random\")"
   ]
  },
  {
   "cell_type": "code",
   "execution_count": null,
   "metadata": {},
   "outputs": [],
   "source": [
    "nviz.plot_objects(,\n",
    "                  skeletons=[test_skeleton])\n",
    "                  \n"
   ]
  },
  {
   "cell_type": "code",
   "execution_count": null,
   "metadata": {},
   "outputs": [],
   "source": [
    "face_subtract_indices = su.decompress_pickle(\"face_subtract_indices\")\n",
    "conn_face_components = nu.intersecting_array_components(face_subtract_indices,sort_components=True)\n",
    "conn_comps_lenghts = np.array([len(k) for k in conn_face_components])\n",
    "max_len_components_idx = np.where(conn_comps_lenghts == np.max(conn_comps_lenghts))[0]\n",
    "\n",
    "#2) Get the face indices for all those in the group\n",
    "max_len_components_unique_faces = [np.unique(np.concatenate([face_subtract_indices[k] \n",
    "                                                             for k in conn_face_components[cmp_idx]])) for cmp_idx in  max_len_components_idx]\n",
    "unique_removed_faces_pre = max_len_components_unique_faces[np.argmax([len(k) for k in max_len_components_unique_faces])]\n",
    "unique_removed_faces_pre"
   ]
  },
  {
   "cell_type": "code",
   "execution_count": null,
   "metadata": {},
   "outputs": [],
   "source": [
    "nviz.plot_objects(curr_limb_mesh.submesh([unique_removed_faces_pre],append=True),\n",
    "                 skeletons=[test_skeleton])"
   ]
  },
  {
   "cell_type": "code",
   "execution_count": null,
   "metadata": {},
   "outputs": [],
   "source": []
  },
  {
   "cell_type": "code",
   "execution_count": null,
   "metadata": {},
   "outputs": [],
   "source": [
    "nviz.plot_objects(skeletons=curr_limb_branches_sk_uneven,\n",
    "                 scatters=[curr_limb_branches_sk_uneven[2].reshape(-1,3)])"
   ]
  },
  {
   "cell_type": "code",
   "execution_count": null,
   "metadata": {},
   "outputs": [],
   "source": []
  },
  {
   "cell_type": "code",
   "execution_count": null,
   "metadata": {},
   "outputs": [],
   "source": []
  },
  {
   "cell_type": "code",
   "execution_count": null,
   "metadata": {},
   "outputs": [],
   "source": [
    "limb_correspondence_individual[0]"
   ]
  },
  {
   "cell_type": "code",
   "execution_count": null,
   "metadata": {},
   "outputs": [],
   "source": [
    "dict([(k,v) for k,v in limb_correspondence_individual.items() if k in np.arange(10,20)])"
   ]
  },
  {
   "cell_type": "code",
   "execution_count": null,
   "metadata": {},
   "outputs": [],
   "source": []
  },
  {
   "cell_type": "code",
   "execution_count": null,
   "metadata": {},
   "outputs": [],
   "source": [
    "nviz.plot_limb_correspondence(dict([(k,v) for k,v in limb_correspondence_individual.items() if k in np.arange(19,20)]))"
   ]
  },
  {
   "cell_type": "code",
   "execution_count": null,
   "metadata": {},
   "outputs": [],
   "source": [
    "nviz.plot_objects(meshes=mesh_pieces_for_MAP,\n",
    "                  meshes_colors=[\"red\",\"black\"])"
   ]
  },
  {
   "cell_type": "code",
   "execution_count": null,
   "metadata": {},
   "outputs": [],
   "source": [
    "nviz.plot_limb_correspondence(limb_correspondence_MAP)"
   ]
  },
  {
   "cell_type": "code",
   "execution_count": null,
   "metadata": {},
   "outputs": [],
   "source": []
  },
  {
   "cell_type": "code",
   "execution_count": null,
   "metadata": {},
   "outputs": [],
   "source": [
    "nviz.visualize_neuron(\n",
    "                        recovered_neuron,\n",
    "                      visualize_type=[\"mesh\",\"skeleton\"],\n",
    "                      limb_branch_dict=dict(L1=\"all\")\n",
    "                     )"
   ]
  },
  {
   "cell_type": "code",
   "execution_count": null,
   "metadata": {},
   "outputs": [],
   "source": [
    "curr_br_endpts_unique"
   ]
  },
  {
   "cell_type": "code",
   "execution_count": null,
   "metadata": {},
   "outputs": [],
   "source": [
    "nviz.plot_objects(skeletons=[curr_skeleton_MAP,curr_skeleton_MP],\n",
    "                 skeletons_colors=[\"red\",\"black\"],\n",
    "                 scatters=[MAP_stitch_point.reshape(-1,3)],\n",
    "                 scatter_size=0.4)"
   ]
  },
  {
   "cell_type": "code",
   "execution_count": null,
   "metadata": {},
   "outputs": [],
   "source": [
    "curr_br_endpts_unique"
   ]
  },
  {
   "cell_type": "code",
   "execution_count": null,
   "metadata": {},
   "outputs": [],
   "source": [
    "nu.setdiff2d(curr_br_endpts_unique,total_keep_endpoints)"
   ]
  },
  {
   "cell_type": "code",
   "execution_count": null,
   "metadata": {},
   "outputs": [],
   "source": [
    "st = time.time()\n",
    "np.array([k for k in curr_br_endpts_unique if len(nu.matching_rows(total_keep_endpoints,k))==0])\n",
    "print(f\"total time = {time.time() - st}\")"
   ]
  },
  {
   "cell_type": "code",
   "execution_count": null,
   "metadata": {},
   "outputs": [],
   "source": [
    "st = time.time()\n",
    "np.array([k for k in curr_br_endpts_unique if len(nu.matching_rows(total_keep_endpoints,k))==0])\n",
    "print(f\"total time = {time.time() - st}\")"
   ]
  },
  {
   "cell_type": "code",
   "execution_count": null,
   "metadata": {},
   "outputs": [],
   "source": [
    "sk = reload(sk)\n",
    "sk.move_point_to_nearest_branch_end_point_within_threshold(\n",
    "                                                    skeleton=curr_skeleton_MAP,\n",
    "                                                    coordinate=MAP_stitch_point,\n",
    "                                                    distance_to_move_point_threshold = distance_to_move_point_threshold,\n",
    "                                                    verbose=True,\n",
    "                                                    possible_node_coordinates=nu.setdiff2d(curr_br_endpts_unique,total_keep_endpoints),\n",
    "                                                    excluded_node_coordinates=total_keep_endpoints,\n",
    "                                                    )"
   ]
  },
  {
   "cell_type": "code",
   "execution_count": null,
   "metadata": {},
   "outputs": [],
   "source": [
    "network_starting_info_revised_cleaned"
   ]
  },
  {
   "cell_type": "code",
   "execution_count": null,
   "metadata": {},
   "outputs": [],
   "source": [
    "st_endpts = nru.all_soma_connnecting_endpionts_from_starting_info(network_starting_info_revised_cleaned,multiple_limbs=False)\n",
    "meshes,skeletons = nviz.limb_correspondence_plottable(limb_correspondence_MAP_saved)\n",
    "nviz.plot_objects(meshes=meshes,\n",
    "                  skeletons=skeletons,\n",
    "                             meshes_colors=\"green\",\n",
    "                             skeletons_colors=\"blue\",\n",
    "                 scatters=[st_endpts],\n",
    "                 scatter_size=0.5)"
   ]
  },
  {
   "cell_type": "code",
   "execution_count": null,
   "metadata": {},
   "outputs": [],
   "source": [
    "meshes,skeletons = nviz.limb_correspondence_plottable(limb_correspondence_individual)"
   ]
  },
  {
   "cell_type": "code",
   "execution_count": null,
   "metadata": {},
   "outputs": [],
   "source": [
    "total_skeleton = sk.stack_skeletons(skeletons)"
   ]
  },
  {
   "cell_type": "code",
   "execution_count": null,
   "metadata": {},
   "outputs": [],
   "source": [
    "nviz.plot_objects(\n",
    "                #meshes=meshes,\n",
    "                skeletons=[skeletons[k] for k in [1,86]],\n",
    "                 skeletons_colors=\"random\",\n",
    "                scatters=[skeletons[1].reshape(-1,3)],\n",
    "    scatter_size=1\n",
    ")"
   ]
  },
  {
   "cell_type": "code",
   "execution_count": null,
   "metadata": {},
   "outputs": [],
   "source": [
    "sk.calculate_skeleton_distance(skeletons[1])"
   ]
  },
  {
   "cell_type": "code",
   "execution_count": null,
   "metadata": {},
   "outputs": [],
   "source": [
    "sk.calculate_skeleton_distance(skeletons[86])"
   ]
  },
  {
   "cell_type": "code",
   "execution_count": null,
   "metadata": {},
   "outputs": [],
   "source": [
    "sk.find_branch_skeleton_with_specific_coordinate(skeletons,st_endpts[2])"
   ]
  },
  {
   "cell_type": "code",
   "execution_count": null,
   "metadata": {},
   "outputs": [],
   "source": [
    "st_endpts = nru.all_soma_connnecting_endpionts_from_starting_info(network_starting_info_revised_cleaned,multiple_limbs=False)\n",
    "meshes,skeletons = nviz.limb_correspondence_plottable(limb_correspondence_individual)\n",
    "nviz.plot_objects(meshes=meshes,\n",
    "                  skeletons=skeletons,\n",
    "                             meshes_colors=\"green\",\n",
    "                             skeletons_colors=\"blue\",\n",
    "                 scatters=[st_endpts[2]],\n",
    "                 scatter_size=0.5)"
   ]
  },
  {
   "cell_type": "code",
   "execution_count": null,
   "metadata": {},
   "outputs": [],
   "source": [
    "\n",
    "st_endpts"
   ]
  },
  {
   "cell_type": "code",
   "execution_count": null,
   "metadata": {},
   "outputs": [],
   "source": [
    "meshes,skeletons = nviz.limb_correspondence_plottable(limb_correspondence_MAP_saved)\n",
    "nviz.plot_objects(meshes=meshes,\n",
    "                  skeletons=skeletons,\n",
    "                             meshes_colors=\"green\",\n",
    "                             skeletons_colors=\"blue\",\n",
    "                 scatters=[st_endpts],\n",
    "                 scatter_size=0.1)"
   ]
  },
  {
   "cell_type": "code",
   "execution_count": null,
   "metadata": {},
   "outputs": [],
   "source": [
    "nviz.plot_limb_correspondence(limb_correspondence_MP,\n",
    "                             meshes_colors=\"green\",\n",
    "                             skeleton_colors=\"blue\")"
   ]
  },
  {
   "cell_type": "code",
   "execution_count": null,
   "metadata": {},
   "outputs": [],
   "source": [
    "\"\"\"\n",
    "Big Conclusion: the large mesh pieces themselves (before combining into map pieces)\n",
    "themselves aren't totally connected by edges (can be split)\n",
    "\n",
    "- so even if large pieces do have a shared edge and you combine them together,\n",
    "they can still be split by the edges into multiple pieces\n",
    "\n",
    "Solution: should have to do split by vertices in the skeletonization\n",
    "\n",
    "\"\"\""
   ]
  },
  {
   "cell_type": "code",
   "execution_count": null,
   "metadata": {},
   "outputs": [],
   "source": [
    "for sublimb_idx,(mesh,mesh_idx) in enumerate(zip(mesh_pieces_for_MAP,mesh_pieces_for_MAP_face_idx)):\n",
    "    print(f\"--- Working on MAP piece {sublimb_idx}---\")\n",
    "    #print(f\"soma_touching_vertices_dict = {soma_touching_vertices_dict}\")\n",
    "    mesh_start_time = time.time()\n",
    "    curr_soma_to_piece_touching_vertices = filter_soma_touching_vertices_dict_by_mesh(\n",
    "    mesh = mesh,\n",
    "    curr_piece_to_soma_touching_vertices = soma_touching_vertices_dict\n",
    "    )\n",
    "\n",
    "    if print_fusion_steps:\n",
    "        print(f\"MAP Filtering Soma Pieces: {time.time() - fusion_time }\")\n",
    "        fusion_time = time.time()\n",
    "\n",
    "    # ---- 0) Generating the Clean skeletons  -------------------------------------------#\n",
    "    if not curr_soma_to_piece_touching_vertices is None:\n",
    "        curr_total_border_vertices = dict([(k,np.vstack(v)) for k,v in curr_soma_to_piece_touching_vertices.items()])\n",
    "    else:\n",
    "        curr_total_border_vertices = None\n",
    "\n",
    "\n",
    "    cleaned_branch,curr_limb_endpoints_must_keep = sk.skeletonize_and_clean_connected_branch_CGAL(\n",
    "        mesh=mesh,\n",
    "        curr_soma_to_piece_touching_vertices=curr_soma_to_piece_touching_vertices,\n",
    "        total_border_vertices=curr_total_border_vertices,\n",
    "        filter_end_node_length=filter_end_node_length,\n",
    "        perform_cleaning_checks=perform_cleaning_checks,\n",
    "        combine_close_skeleton_nodes = combine_close_skeleton_nodes,\n",
    "        combine_close_skeleton_nodes_threshold=combine_close_skeleton_nodes_threshold,\n",
    "    use_surface_after_CGAL=use_surface_after_CGAL,\n",
    "    surface_reconstruction_size=surface_reconstruction_size,\n",
    "    skeleton_print=True,\n",
    "    connectivity=\"vertices\"\n",
    "    )\n",
    "    \n",
    "    raise Exception(\"\")"
   ]
  },
  {
   "cell_type": "code",
   "execution_count": null,
   "metadata": {},
   "outputs": [],
   "source": [
    "nviz.plot_objects(meshes=[mesh_pieces_for_MAP[0]],\n",
    "                 skeletons=[cleaned_branch])"
   ]
  },
  {
   "cell_type": "code",
   "execution_count": null,
   "metadata": {},
   "outputs": [],
   "source": [
    "current_mesh_splits = tu.split_significant_pieces(mesh_pieces_for_MAP[0],\n",
    "                               significance_threshold=1,\n",
    "                                                  connectivity=\"vertices\")\n",
    "current_mesh_splits"
   ]
  },
  {
   "cell_type": "code",
   "execution_count": null,
   "metadata": {},
   "outputs": [],
   "source": [
    "tu."
   ]
  }
 ],
 "metadata": {
  "kernelspec": {
   "display_name": "Python 3",
   "language": "python",
   "name": "python3"
  },
  "language_info": {
   "codemirror_mode": {
    "name": "ipython",
    "version": 3
   },
   "file_extension": ".py",
   "mimetype": "text/x-python",
   "name": "python",
   "nbconvert_exporter": "python",
   "pygments_lexer": "ipython3",
   "version": "3.6.9"
  }
 },
 "nbformat": 4,
 "nbformat_minor": 4
}
