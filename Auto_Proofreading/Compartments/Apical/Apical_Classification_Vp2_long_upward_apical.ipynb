{
 "cells": [
  {
   "cell_type": "code",
   "execution_count": null,
   "metadata": {},
   "outputs": [],
   "source": [
    "\"\"\"\n",
    "Purpose: To identify the apicals that point up \n",
    "and are thick with some spines\n",
    "\n",
    "\n",
    "\n",
    "\n",
    "\"\"\""
   ]
  },
  {
   "cell_type": "code",
   "execution_count": 1,
   "metadata": {},
   "outputs": [],
   "source": [
    "%load_ext autoreload\n",
    "%autoreload 2"
   ]
  },
  {
   "cell_type": "code",
   "execution_count": 2,
   "metadata": {},
   "outputs": [],
   "source": [
    "from os import sys\n",
    "sys.path.append(\"/meshAfterParty/\")"
   ]
  },
  {
   "cell_type": "code",
   "execution_count": 3,
   "metadata": {},
   "outputs": [
    {
     "name": "stderr",
     "output_type": "stream",
     "text": [
      "INFO - 2021-01-22 08:17:30,510 - settings - Setting database.host to at-database.ad.bcm.edu\n",
      "INFO - 2021-01-22 08:17:30,511 - settings - Setting database.user to celiib\n",
      "INFO - 2021-01-22 08:17:30,512 - settings - Setting database.password to newceliipass\n",
      "INFO - 2021-01-22 08:17:30,515 - settings - Setting stores to {'minnie65': {'protocol': 'file', 'location': '/mnt/dj-stor01/platinum/minnie65', 'stage': '/mnt/dj-stor01/platinum/minnie65'}, 'meshes': {'protocol': 'file', 'location': '/mnt/dj-stor01/platinum/minnie65/02/meshes', 'stage': '/mnt/dj-stor01/platinum/minnie65/02/meshes'}, 'decimated_meshes': {'protocol': 'file', 'location': '/mnt/dj-stor01/platinum/minnie65/02/decimated_meshes', 'stage': '/mnt/dj-stor01/platinum/minnie65/02/decimated_meshes'}, 'skeletons': {'protocol': 'file', 'location': '/mnt/dj-stor01/platinum/minnie65/02/skeletons'}}\n",
      "INFO - 2021-01-22 08:17:30,516 - settings - Setting enable_python_native_blobs to True\n",
      "INFO - 2021-01-22 08:17:30,527 - connection - Connected celiib@at-database.ad.bcm.edu:3306\n"
     ]
    },
    {
     "name": "stdout",
     "output_type": "stream",
     "text": [
      "Connecting celiib@at-database.ad.bcm.edu:3306\n"
     ]
    },
    {
     "name": "stderr",
     "output_type": "stream",
     "text": [
      "INFO - 2021-01-22 08:17:30,804 - settings - Setting enable_python_native_blobs to True\n"
     ]
    }
   ],
   "source": [
    "from importlib import reload\n",
    "\n",
    "import neuron_utils as nru\n",
    "\n",
    "import neuron\n",
    "\n",
    "import neuron_visualizations as nviz\n",
    "\n",
    "import time\n",
    "\n",
    "import datajoint_utils as du\n",
    "\n",
    "import numpy as np\n",
    "\n",
    "import proofreading_utils as pru\n",
    "\n",
    "import preprocessing_vp2 as pre\n",
    "\n",
    "# -- For the axon classification --\n",
    "\n",
    "import neuron_searching as ns\n",
    "\n",
    "import skeleton_utils as sk\n",
    "\n",
    "import numpy_utils as nu\n",
    "\n",
    "import networkx_utils as xu\n",
    "\n",
    "import system_utils as su"
   ]
  },
  {
   "cell_type": "code",
   "execution_count": 4,
   "metadata": {},
   "outputs": [
    {
     "name": "stderr",
     "output_type": "stream",
     "text": [
      "INFO - 2021-01-22 08:17:33,058 - settings - Setting enable_python_native_blobs to True\n",
      "INFO - 2021-01-22 08:17:33,347 - settings - Setting enable_python_native_blobs to True\n"
     ]
    }
   ],
   "source": [
    "minnie,schema = du.configure_minnie_vm()"
   ]
  },
  {
   "cell_type": "markdown",
   "metadata": {},
   "source": [
    "# Importing Neuron"
   ]
  },
  {
   "cell_type": "code",
   "execution_count": 11,
   "metadata": {},
   "outputs": [
    {
     "data": {
      "text/html": [
       "\n",
       "        \n",
       "        <style type=\"text/css\">\n",
       "            .Relation{\n",
       "                border-collapse:collapse;\n",
       "            }\n",
       "            .Relation th{\n",
       "                background: #A0A0A0; color: #ffffff; padding:4px; border:#f0e0e0 1px solid;\n",
       "                font-weight: normal; font-family: monospace; font-size: 100%;\n",
       "            }\n",
       "            .Relation td{\n",
       "                padding:4px; border:#f0e0e0 1px solid; font-size:100%;\n",
       "            }\n",
       "            .Relation tr:nth-child(odd){\n",
       "                background: #ffffff;\n",
       "            }\n",
       "            .Relation tr:nth-child(even){\n",
       "                background: #f3f1ff;\n",
       "            }\n",
       "            /* Tooltip container */\n",
       "            .djtooltip {\n",
       "            }\n",
       "            /* Tooltip text */\n",
       "            .djtooltip .djtooltiptext {\n",
       "                visibility: hidden;\n",
       "                width: 120px;\n",
       "                background-color: black;\n",
       "                color: #fff;\n",
       "                text-align: center;\n",
       "                padding: 5px 0;\n",
       "                border-radius: 6px;\n",
       "                /* Position the tooltip text - see examples below! */\n",
       "                position: absolute;\n",
       "                z-index: 1;\n",
       "            }\n",
       "            #primary {\n",
       "                font-weight: bold;\n",
       "                color: black;\n",
       "            }\n",
       "\n",
       "            #nonprimary {\n",
       "                font-weight: normal;\n",
       "                color: white;\n",
       "            }\n",
       "\n",
       "            /* Show the tooltip text when you mouse over the tooltip container */\n",
       "            .djtooltip:hover .djtooltiptext {\n",
       "                visibility: visible;\n",
       "            }\n",
       "        </style>\n",
       "        \n",
       "        <b></b>\n",
       "            <div style=\"max-height:1000px;max-width:1500px;overflow:auto;\">\n",
       "            <table border=\"1\" class=\"Relation\">\n",
       "                <thead> <tr style=\"text-align: right;\"> <th> <div class=\"djtooltip\">\n",
       "                                <p id=\"primary\">segment_id</p>\n",
       "                                <span class=\"djtooltiptext\">segment id unique within each Segmentation</span>\n",
       "                            </div></th><th><div class=\"djtooltip\">\n",
       "                                <p id=\"primary\">decimation_version</p>\n",
       "                                <span class=\"djtooltiptext\"></span>\n",
       "                            </div></th><th><div class=\"djtooltip\">\n",
       "                                <p id=\"primary\">decimation_ratio</p>\n",
       "                                <span class=\"djtooltiptext\">ratio of remaining mesh vertices/faces (which ones depends on what metric the decimation technique uses)</span>\n",
       "                            </div></th><th><div class=\"djtooltip\">\n",
       "                                <p id=\"primary\">ver</p>\n",
       "                                <span class=\"djtooltiptext\">the version number of the materializaiton</span>\n",
       "                            </div></th><th><div class=\"djtooltip\">\n",
       "                                <p id=\"primary\">process_version</p>\n",
       "                                <span class=\"djtooltiptext\">the version of the preprocessing pipeline run</span>\n",
       "                            </div></th><th><div class=\"djtooltip\">\n",
       "                                <p id=\"primary\">index</p>\n",
       "                                <span class=\"djtooltiptext\">the index of the neuron object that resulted from that mesh (indexed starting at 0)</span>\n",
       "                            </div></th><th><div class=\"djtooltip\">\n",
       "                                <p id=\"nonprimary\">multiplicity</p>\n",
       "                                <span class=\"djtooltiptext\">the number of somas found for this base segment</span>\n",
       "                            </div></th><th><div class=\"djtooltip\">\n",
       "                                <p id=\"nonprimary\">decomposition</p>\n",
       "                                <span class=\"djtooltiptext\"></span>\n",
       "                            </div></th><th><div class=\"djtooltip\">\n",
       "                                <p id=\"nonprimary\">n_vertices</p>\n",
       "                                <span class=\"djtooltiptext\">number of vertices</span>\n",
       "                            </div></th><th><div class=\"djtooltip\">\n",
       "                                <p id=\"nonprimary\">n_faces</p>\n",
       "                                <span class=\"djtooltiptext\">number of faces</span>\n",
       "                            </div></th><th><div class=\"djtooltip\">\n",
       "                                <p id=\"nonprimary\">n_not_processed_soma_containing_meshes</p>\n",
       "                                <span class=\"djtooltiptext\">the number of meshes with somas that were not processed</span>\n",
       "                            </div></th><th><div class=\"djtooltip\">\n",
       "                                <p id=\"nonprimary\">n_error_limbs</p>\n",
       "                                <span class=\"djtooltiptext\">the number of limbs that are touching multiple somas or 1 soma in multiple places</span>\n",
       "                            </div></th><th><div class=\"djtooltip\">\n",
       "                                <p id=\"nonprimary\">n_same_soma_multi_touching_limbs</p>\n",
       "                                <span class=\"djtooltiptext\">number of limbs that touch the same soma multiple times</span>\n",
       "                            </div></th><th><div class=\"djtooltip\">\n",
       "                                <p id=\"nonprimary\">n_multi_soma_touching_limbs</p>\n",
       "                                <span class=\"djtooltiptext\">number of limbs that touch multiple somas</span>\n",
       "                            </div></th><th><div class=\"djtooltip\">\n",
       "                                <p id=\"nonprimary\">n_somas</p>\n",
       "                                <span class=\"djtooltiptext\">number of soma meshes detected</span>\n",
       "                            </div></th><th><div class=\"djtooltip\">\n",
       "                                <p id=\"nonprimary\">n_limbs</p>\n",
       "                                <span class=\"djtooltiptext\"></span>\n",
       "                            </div></th><th><div class=\"djtooltip\">\n",
       "                                <p id=\"nonprimary\">n_branches</p>\n",
       "                                <span class=\"djtooltiptext\"></span>\n",
       "                            </div></th><th><div class=\"djtooltip\">\n",
       "                                <p id=\"nonprimary\">max_limb_n_branches</p>\n",
       "                                <span class=\"djtooltiptext\"></span>\n",
       "                            </div></th><th><div class=\"djtooltip\">\n",
       "                                <p id=\"nonprimary\">skeletal_length</p>\n",
       "                                <span class=\"djtooltiptext\"></span>\n",
       "                            </div></th><th><div class=\"djtooltip\">\n",
       "                                <p id=\"nonprimary\">max_limb_skeletal_length</p>\n",
       "                                <span class=\"djtooltiptext\"></span>\n",
       "                            </div></th><th><div class=\"djtooltip\">\n",
       "                                <p id=\"nonprimary\">median_branch_length</p>\n",
       "                                <span class=\"djtooltiptext\">gives information on average skeletal length to next branch point</span>\n",
       "                            </div></th><th><div class=\"djtooltip\">\n",
       "                                <p id=\"nonprimary\">width_median</p>\n",
       "                                <span class=\"djtooltiptext\">median width from mesh center without spines removed</span>\n",
       "                            </div></th><th><div class=\"djtooltip\">\n",
       "                                <p id=\"nonprimary\">width_no_spine_median</p>\n",
       "                                <span class=\"djtooltiptext\">median width from mesh center with spines removed</span>\n",
       "                            </div></th><th><div class=\"djtooltip\">\n",
       "                                <p id=\"nonprimary\">width_90_perc</p>\n",
       "                                <span class=\"djtooltiptext\">90th percentile for width without spines removed</span>\n",
       "                            </div></th><th><div class=\"djtooltip\">\n",
       "                                <p id=\"nonprimary\">width_no_spine_90_perc</p>\n",
       "                                <span class=\"djtooltiptext\">90th percentile for width with spines removed</span>\n",
       "                            </div></th><th><div class=\"djtooltip\">\n",
       "                                <p id=\"nonprimary\">n_spines</p>\n",
       "                                <span class=\"djtooltiptext\"></span>\n",
       "                            </div></th><th><div class=\"djtooltip\">\n",
       "                                <p id=\"nonprimary\">spine_density</p>\n",
       "                                <span class=\"djtooltiptext\">n_spines/ skeletal_length</span>\n",
       "                            </div></th><th><div class=\"djtooltip\">\n",
       "                                <p id=\"nonprimary\">spines_per_branch</p>\n",
       "                                <span class=\"djtooltiptext\"></span>\n",
       "                            </div></th><th><div class=\"djtooltip\">\n",
       "                                <p id=\"nonprimary\">skeletal_length_eligible</p>\n",
       "                                <span class=\"djtooltiptext\">the skeletal length for all branches searched for spines</span>\n",
       "                            </div></th><th><div class=\"djtooltip\">\n",
       "                                <p id=\"nonprimary\">n_spine_eligible_branches</p>\n",
       "                                <span class=\"djtooltiptext\">the number of branches that were checked for spines because passed width threshold</span>\n",
       "                            </div></th><th><div class=\"djtooltip\">\n",
       "                                <p id=\"nonprimary\">spine_density_eligible</p>\n",
       "                                <span class=\"djtooltiptext\">n_spines/skeletal_length_eligible</span>\n",
       "                            </div></th><th><div class=\"djtooltip\">\n",
       "                                <p id=\"nonprimary\">spines_per_branch_eligible</p>\n",
       "                                <span class=\"djtooltiptext\">n_spines/n_spine_eligible_branches</span>\n",
       "                            </div></th><th><div class=\"djtooltip\">\n",
       "                                <p id=\"nonprimary\">total_spine_volume</p>\n",
       "                                <span class=\"djtooltiptext\">the sum of all spine volume</span>\n",
       "                            </div></th><th><div class=\"djtooltip\">\n",
       "                                <p id=\"nonprimary\">spine_volume_median</p>\n",
       "                                <span class=\"djtooltiptext\">median of the spine volume for those spines with able to calculate volume</span>\n",
       "                            </div></th><th><div class=\"djtooltip\">\n",
       "                                <p id=\"nonprimary\">spine_volume_density</p>\n",
       "                                <span class=\"djtooltiptext\">total_spine_volume/skeletal_length</span>\n",
       "                            </div></th><th><div class=\"djtooltip\">\n",
       "                                <p id=\"nonprimary\">spine_volume_density_eligible</p>\n",
       "                                <span class=\"djtooltiptext\">total_spine_volume/skeletal_length_eligible</span>\n",
       "                            </div></th><th><div class=\"djtooltip\">\n",
       "                                <p id=\"nonprimary\">spine_volume_per_branch_eligible</p>\n",
       "                                <span class=\"djtooltiptext\">total_spine_volume/n_spine_eligible_branches</span>\n",
       "                            </div></th><th><div class=\"djtooltip\">\n",
       "                                <p id=\"nonprimary\">run_time</p>\n",
       "                                <span class=\"djtooltiptext\">the amount of time to run (seconds)</span>\n",
       "                            </div> </th> </tr> </thead>\n",
       "                <tbody> <tr> <td>864691134219060901</td>\n",
       "<td>0</td>\n",
       "<td>0.25</td>\n",
       "<td>30.00</td>\n",
       "<td>0</td>\n",
       "<td>0</td>\n",
       "<td>1</td>\n",
       "<td>=BLOB=</td>\n",
       "<td>11723</td>\n",
       "<td>24809</td>\n",
       "<td>0</td>\n",
       "<td>0</td>\n",
       "<td>0</td>\n",
       "<td>0</td>\n",
       "<td>1</td>\n",
       "<td>0</td>\n",
       "<td>0</td>\n",
       "<td>None</td>\n",
       "<td>0.0</td>\n",
       "<td>nan</td>\n",
       "<td>nan</td>\n",
       "<td>nan</td>\n",
       "<td>nan</td>\n",
       "<td>nan</td>\n",
       "<td>nan</td>\n",
       "<td>0</td>\n",
       "<td>0.0</td>\n",
       "<td>0.0</td>\n",
       "<td>0.0</td>\n",
       "<td>0</td>\n",
       "<td>0.0</td>\n",
       "<td>0.0</td>\n",
       "<td>0.0</td>\n",
       "<td>0.0</td>\n",
       "<td>0.0</td>\n",
       "<td>0.0</td>\n",
       "<td>0.0</td>\n",
       "<td>14.8309</td></tr><tr><td>864691134242673681</td>\n",
       "<td>0</td>\n",
       "<td>0.25</td>\n",
       "<td>30.00</td>\n",
       "<td>0</td>\n",
       "<td>0</td>\n",
       "<td>1</td>\n",
       "<td>=BLOB=</td>\n",
       "<td>10252</td>\n",
       "<td>20204</td>\n",
       "<td>0</td>\n",
       "<td>0</td>\n",
       "<td>0</td>\n",
       "<td>0</td>\n",
       "<td>1</td>\n",
       "<td>0</td>\n",
       "<td>0</td>\n",
       "<td>None</td>\n",
       "<td>0.0</td>\n",
       "<td>nan</td>\n",
       "<td>nan</td>\n",
       "<td>nan</td>\n",
       "<td>nan</td>\n",
       "<td>nan</td>\n",
       "<td>nan</td>\n",
       "<td>0</td>\n",
       "<td>0.0</td>\n",
       "<td>0.0</td>\n",
       "<td>0.0</td>\n",
       "<td>0</td>\n",
       "<td>0.0</td>\n",
       "<td>0.0</td>\n",
       "<td>0.0</td>\n",
       "<td>0.0</td>\n",
       "<td>0.0</td>\n",
       "<td>0.0</td>\n",
       "<td>0.0</td>\n",
       "<td>17.9755</td></tr><tr><td>864691134252908410</td>\n",
       "<td>0</td>\n",
       "<td>0.25</td>\n",
       "<td>30.00</td>\n",
       "<td>0</td>\n",
       "<td>0</td>\n",
       "<td>1</td>\n",
       "<td>=BLOB=</td>\n",
       "<td>10910</td>\n",
       "<td>22764</td>\n",
       "<td>0</td>\n",
       "<td>0</td>\n",
       "<td>0</td>\n",
       "<td>0</td>\n",
       "<td>1</td>\n",
       "<td>0</td>\n",
       "<td>0</td>\n",
       "<td>None</td>\n",
       "<td>0.0</td>\n",
       "<td>nan</td>\n",
       "<td>nan</td>\n",
       "<td>nan</td>\n",
       "<td>nan</td>\n",
       "<td>nan</td>\n",
       "<td>nan</td>\n",
       "<td>0</td>\n",
       "<td>0.0</td>\n",
       "<td>0.0</td>\n",
       "<td>0.0</td>\n",
       "<td>0</td>\n",
       "<td>0.0</td>\n",
       "<td>0.0</td>\n",
       "<td>0.0</td>\n",
       "<td>0.0</td>\n",
       "<td>0.0</td>\n",
       "<td>0.0</td>\n",
       "<td>0.0</td>\n",
       "<td>16.2558</td></tr><tr><td>864691134316523453</td>\n",
       "<td>0</td>\n",
       "<td>0.25</td>\n",
       "<td>30.00</td>\n",
       "<td>0</td>\n",
       "<td>0</td>\n",
       "<td>1</td>\n",
       "<td>=BLOB=</td>\n",
       "<td>10031</td>\n",
       "<td>22403</td>\n",
       "<td>0</td>\n",
       "<td>0</td>\n",
       "<td>0</td>\n",
       "<td>0</td>\n",
       "<td>1</td>\n",
       "<td>0</td>\n",
       "<td>0</td>\n",
       "<td>None</td>\n",
       "<td>0.0</td>\n",
       "<td>nan</td>\n",
       "<td>nan</td>\n",
       "<td>nan</td>\n",
       "<td>nan</td>\n",
       "<td>nan</td>\n",
       "<td>nan</td>\n",
       "<td>0</td>\n",
       "<td>0.0</td>\n",
       "<td>0.0</td>\n",
       "<td>0.0</td>\n",
       "<td>0</td>\n",
       "<td>0.0</td>\n",
       "<td>0.0</td>\n",
       "<td>0.0</td>\n",
       "<td>0.0</td>\n",
       "<td>0.0</td>\n",
       "<td>0.0</td>\n",
       "<td>0.0</td>\n",
       "<td>14.5114</td></tr><tr><td>864691134384033872</td>\n",
       "<td>0</td>\n",
       "<td>0.25</td>\n",
       "<td>30.00</td>\n",
       "<td>0</td>\n",
       "<td>0</td>\n",
       "<td>1</td>\n",
       "<td>=BLOB=</td>\n",
       "<td>10015</td>\n",
       "<td>20509</td>\n",
       "<td>0</td>\n",
       "<td>0</td>\n",
       "<td>0</td>\n",
       "<td>0</td>\n",
       "<td>1</td>\n",
       "<td>0</td>\n",
       "<td>0</td>\n",
       "<td>None</td>\n",
       "<td>0.0</td>\n",
       "<td>nan</td>\n",
       "<td>nan</td>\n",
       "<td>nan</td>\n",
       "<td>nan</td>\n",
       "<td>nan</td>\n",
       "<td>nan</td>\n",
       "<td>0</td>\n",
       "<td>0.0</td>\n",
       "<td>0.0</td>\n",
       "<td>0.0</td>\n",
       "<td>0</td>\n",
       "<td>0.0</td>\n",
       "<td>0.0</td>\n",
       "<td>0.0</td>\n",
       "<td>0.0</td>\n",
       "<td>0.0</td>\n",
       "<td>0.0</td>\n",
       "<td>0.0</td>\n",
       "<td>17.8075</td></tr><tr><td>864691134391593458</td>\n",
       "<td>0</td>\n",
       "<td>0.25</td>\n",
       "<td>30.00</td>\n",
       "<td>0</td>\n",
       "<td>0</td>\n",
       "<td>1</td>\n",
       "<td>=BLOB=</td>\n",
       "<td>11947</td>\n",
       "<td>25033</td>\n",
       "<td>0</td>\n",
       "<td>0</td>\n",
       "<td>0</td>\n",
       "<td>0</td>\n",
       "<td>1</td>\n",
       "<td>0</td>\n",
       "<td>0</td>\n",
       "<td>None</td>\n",
       "<td>0.0</td>\n",
       "<td>nan</td>\n",
       "<td>nan</td>\n",
       "<td>nan</td>\n",
       "<td>nan</td>\n",
       "<td>nan</td>\n",
       "<td>nan</td>\n",
       "<td>0</td>\n",
       "<td>0.0</td>\n",
       "<td>0.0</td>\n",
       "<td>0.0</td>\n",
       "<td>0</td>\n",
       "<td>0.0</td>\n",
       "<td>0.0</td>\n",
       "<td>0.0</td>\n",
       "<td>0.0</td>\n",
       "<td>0.0</td>\n",
       "<td>0.0</td>\n",
       "<td>0.0</td>\n",
       "<td>16.7341</td></tr><tr><td>864691134409056935</td>\n",
       "<td>0</td>\n",
       "<td>0.25</td>\n",
       "<td>30.00</td>\n",
       "<td>0</td>\n",
       "<td>0</td>\n",
       "<td>1</td>\n",
       "<td>=BLOB=</td>\n",
       "<td>10770</td>\n",
       "<td>22630</td>\n",
       "<td>0</td>\n",
       "<td>0</td>\n",
       "<td>0</td>\n",
       "<td>0</td>\n",
       "<td>1</td>\n",
       "<td>0</td>\n",
       "<td>0</td>\n",
       "<td>None</td>\n",
       "<td>0.0</td>\n",
       "<td>nan</td>\n",
       "<td>nan</td>\n",
       "<td>nan</td>\n",
       "<td>nan</td>\n",
       "<td>nan</td>\n",
       "<td>nan</td>\n",
       "<td>0</td>\n",
       "<td>0.0</td>\n",
       "<td>0.0</td>\n",
       "<td>0.0</td>\n",
       "<td>0</td>\n",
       "<td>0.0</td>\n",
       "<td>0.0</td>\n",
       "<td>0.0</td>\n",
       "<td>0.0</td>\n",
       "<td>0.0</td>\n",
       "<td>0.0</td>\n",
       "<td>0.0</td>\n",
       "<td>14.9198</td></tr><tr><td>864691134428609977</td>\n",
       "<td>0</td>\n",
       "<td>0.25</td>\n",
       "<td>30.00</td>\n",
       "<td>0</td>\n",
       "<td>0</td>\n",
       "<td>1</td>\n",
       "<td>=BLOB=</td>\n",
       "<td>13062</td>\n",
       "<td>28555</td>\n",
       "<td>0</td>\n",
       "<td>0</td>\n",
       "<td>0</td>\n",
       "<td>0</td>\n",
       "<td>1</td>\n",
       "<td>0</td>\n",
       "<td>0</td>\n",
       "<td>None</td>\n",
       "<td>0.0</td>\n",
       "<td>nan</td>\n",
       "<td>nan</td>\n",
       "<td>nan</td>\n",
       "<td>nan</td>\n",
       "<td>nan</td>\n",
       "<td>nan</td>\n",
       "<td>0</td>\n",
       "<td>0.0</td>\n",
       "<td>0.0</td>\n",
       "<td>0.0</td>\n",
       "<td>0</td>\n",
       "<td>0.0</td>\n",
       "<td>0.0</td>\n",
       "<td>0.0</td>\n",
       "<td>0.0</td>\n",
       "<td>0.0</td>\n",
       "<td>0.0</td>\n",
       "<td>0.0</td>\n",
       "<td>19.3236</td></tr><tr><td>864691134441691943</td>\n",
       "<td>0</td>\n",
       "<td>0.25</td>\n",
       "<td>30.00</td>\n",
       "<td>0</td>\n",
       "<td>0</td>\n",
       "<td>1</td>\n",
       "<td>=BLOB=</td>\n",
       "<td>10681</td>\n",
       "<td>23432</td>\n",
       "<td>0</td>\n",
       "<td>0</td>\n",
       "<td>0</td>\n",
       "<td>0</td>\n",
       "<td>1</td>\n",
       "<td>0</td>\n",
       "<td>0</td>\n",
       "<td>None</td>\n",
       "<td>0.0</td>\n",
       "<td>nan</td>\n",
       "<td>nan</td>\n",
       "<td>nan</td>\n",
       "<td>nan</td>\n",
       "<td>nan</td>\n",
       "<td>nan</td>\n",
       "<td>0</td>\n",
       "<td>0.0</td>\n",
       "<td>0.0</td>\n",
       "<td>0.0</td>\n",
       "<td>0</td>\n",
       "<td>0.0</td>\n",
       "<td>0.0</td>\n",
       "<td>0.0</td>\n",
       "<td>0.0</td>\n",
       "<td>0.0</td>\n",
       "<td>0.0</td>\n",
       "<td>0.0</td>\n",
       "<td>15.9167</td></tr><tr><td>864691134484023255</td>\n",
       "<td>0</td>\n",
       "<td>0.25</td>\n",
       "<td>30.00</td>\n",
       "<td>0</td>\n",
       "<td>0</td>\n",
       "<td>1</td>\n",
       "<td>=BLOB=</td>\n",
       "<td>21063</td>\n",
       "<td>46992</td>\n",
       "<td>0</td>\n",
       "<td>0</td>\n",
       "<td>0</td>\n",
       "<td>0</td>\n",
       "<td>1</td>\n",
       "<td>0</td>\n",
       "<td>0</td>\n",
       "<td>None</td>\n",
       "<td>0.0</td>\n",
       "<td>nan</td>\n",
       "<td>nan</td>\n",
       "<td>nan</td>\n",
       "<td>nan</td>\n",
       "<td>nan</td>\n",
       "<td>nan</td>\n",
       "<td>0</td>\n",
       "<td>0.0</td>\n",
       "<td>0.0</td>\n",
       "<td>0.0</td>\n",
       "<td>0</td>\n",
       "<td>0.0</td>\n",
       "<td>0.0</td>\n",
       "<td>0.0</td>\n",
       "<td>0.0</td>\n",
       "<td>0.0</td>\n",
       "<td>0.0</td>\n",
       "<td>0.0</td>\n",
       "<td>17.2306</td></tr><tr><td>864691134488295985</td>\n",
       "<td>0</td>\n",
       "<td>0.25</td>\n",
       "<td>30.00</td>\n",
       "<td>0</td>\n",
       "<td>0</td>\n",
       "<td>1</td>\n",
       "<td>=BLOB=</td>\n",
       "<td>10256</td>\n",
       "<td>22552</td>\n",
       "<td>0</td>\n",
       "<td>0</td>\n",
       "<td>0</td>\n",
       "<td>0</td>\n",
       "<td>1</td>\n",
       "<td>0</td>\n",
       "<td>0</td>\n",
       "<td>None</td>\n",
       "<td>0.0</td>\n",
       "<td>nan</td>\n",
       "<td>nan</td>\n",
       "<td>nan</td>\n",
       "<td>nan</td>\n",
       "<td>nan</td>\n",
       "<td>nan</td>\n",
       "<td>0</td>\n",
       "<td>0.0</td>\n",
       "<td>0.0</td>\n",
       "<td>0.0</td>\n",
       "<td>0</td>\n",
       "<td>0.0</td>\n",
       "<td>0.0</td>\n",
       "<td>0.0</td>\n",
       "<td>0.0</td>\n",
       "<td>0.0</td>\n",
       "<td>0.0</td>\n",
       "<td>0.0</td>\n",
       "<td>14.8901</td></tr><tr><td>864691134488799440</td>\n",
       "<td>0</td>\n",
       "<td>0.25</td>\n",
       "<td>30.00</td>\n",
       "<td>0</td>\n",
       "<td>0</td>\n",
       "<td>1</td>\n",
       "<td>=BLOB=</td>\n",
       "<td>11552</td>\n",
       "<td>23922</td>\n",
       "<td>0</td>\n",
       "<td>0</td>\n",
       "<td>0</td>\n",
       "<td>0</td>\n",
       "<td>1</td>\n",
       "<td>0</td>\n",
       "<td>0</td>\n",
       "<td>None</td>\n",
       "<td>0.0</td>\n",
       "<td>nan</td>\n",
       "<td>nan</td>\n",
       "<td>nan</td>\n",
       "<td>nan</td>\n",
       "<td>nan</td>\n",
       "<td>nan</td>\n",
       "<td>0</td>\n",
       "<td>0.0</td>\n",
       "<td>0.0</td>\n",
       "<td>0.0</td>\n",
       "<td>0</td>\n",
       "<td>0.0</td>\n",
       "<td>0.0</td>\n",
       "<td>0.0</td>\n",
       "<td>0.0</td>\n",
       "<td>0.0</td>\n",
       "<td>0.0</td>\n",
       "<td>0.0</td>\n",
       "<td>8.6106</td> </tr> </tbody>\n",
       "            </table>\n",
       "            <p>...</p>\n",
       "            <p>Total: 44654</p></div>\n",
       "            "
      ],
      "text/plain": [
       "*segment_id    *decimation_ve *decimation_ra *ver      *process_versi *index    multiplicity   decomposit n_vertices     n_faces     n_not_processe n_error_limbs  n_same_soma_mu n_multi_soma_t n_somas     n_limbs     n_branches     max_limb_n_bra skeletal_lengt max_limb_skele median_branch_ width_median   width_no_spine width_90_perc  width_no_spine n_spines     spine_density  spines_per_bra skeletal_lengt n_spine_eligib spine_density_ spines_per_bra total_spine_vo spine_volume_m spine_volume_d spine_volume_d spine_volume_p run_time    \n",
       "+------------+ +------------+ +------------+ +-------+ +------------+ +-------+ +------------+ +--------+ +------------+ +---------+ +------------+ +------------+ +------------+ +------------+ +---------+ +---------+ +------------+ +------------+ +------------+ +------------+ +------------+ +------------+ +------------+ +------------+ +------------+ +----------+ +------------+ +------------+ +------------+ +------------+ +------------+ +------------+ +------------+ +------------+ +------------+ +------------+ +------------+ +----------+\n",
       "86469113421906 0              0.25           30.00     0              0         1              =BLOB=     11723          24809       0              0              0              0              1           0           0              None           0.0            nan            nan            nan            nan            nan            nan            0            0.0            0.0            0.0            0              0.0            0.0            0.0            0.0            0.0            0.0            0.0            14.8309     \n",
       "86469113424267 0              0.25           30.00     0              0         1              =BLOB=     10252          20204       0              0              0              0              1           0           0              None           0.0            nan            nan            nan            nan            nan            nan            0            0.0            0.0            0.0            0              0.0            0.0            0.0            0.0            0.0            0.0            0.0            17.9755     \n",
       "86469113425290 0              0.25           30.00     0              0         1              =BLOB=     10910          22764       0              0              0              0              1           0           0              None           0.0            nan            nan            nan            nan            nan            nan            0            0.0            0.0            0.0            0              0.0            0.0            0.0            0.0            0.0            0.0            0.0            16.2558     \n",
       "86469113431652 0              0.25           30.00     0              0         1              =BLOB=     10031          22403       0              0              0              0              1           0           0              None           0.0            nan            nan            nan            nan            nan            nan            0            0.0            0.0            0.0            0              0.0            0.0            0.0            0.0            0.0            0.0            0.0            14.5114     \n",
       "86469113438403 0              0.25           30.00     0              0         1              =BLOB=     10015          20509       0              0              0              0              1           0           0              None           0.0            nan            nan            nan            nan            nan            nan            0            0.0            0.0            0.0            0              0.0            0.0            0.0            0.0            0.0            0.0            0.0            17.8075     \n",
       "86469113439159 0              0.25           30.00     0              0         1              =BLOB=     11947          25033       0              0              0              0              1           0           0              None           0.0            nan            nan            nan            nan            nan            nan            0            0.0            0.0            0.0            0              0.0            0.0            0.0            0.0            0.0            0.0            0.0            16.7341     \n",
       "86469113440905 0              0.25           30.00     0              0         1              =BLOB=     10770          22630       0              0              0              0              1           0           0              None           0.0            nan            nan            nan            nan            nan            nan            0            0.0            0.0            0.0            0              0.0            0.0            0.0            0.0            0.0            0.0            0.0            14.9198     \n",
       "86469113442860 0              0.25           30.00     0              0         1              =BLOB=     13062          28555       0              0              0              0              1           0           0              None           0.0            nan            nan            nan            nan            nan            nan            0            0.0            0.0            0.0            0              0.0            0.0            0.0            0.0            0.0            0.0            0.0            19.3236     \n",
       "86469113444169 0              0.25           30.00     0              0         1              =BLOB=     10681          23432       0              0              0              0              1           0           0              None           0.0            nan            nan            nan            nan            nan            nan            0            0.0            0.0            0.0            0              0.0            0.0            0.0            0.0            0.0            0.0            0.0            15.9167     \n",
       "86469113448402 0              0.25           30.00     0              0         1              =BLOB=     21063          46992       0              0              0              0              1           0           0              None           0.0            nan            nan            nan            nan            nan            nan            0            0.0            0.0            0.0            0              0.0            0.0            0.0            0.0            0.0            0.0            0.0            17.2306     \n",
       "86469113448829 0              0.25           30.00     0              0         1              =BLOB=     10256          22552       0              0              0              0              1           0           0              None           0.0            nan            nan            nan            nan            nan            nan            0            0.0            0.0            0.0            0              0.0            0.0            0.0            0.0            0.0            0.0            0.0            14.8901     \n",
       "86469113448879 0              0.25           30.00     0              0         1              =BLOB=     11552          23922       0              0              0              0              1           0           0              None           0.0            nan            nan            nan            nan            nan            nan            0            0.0            0.0            0.0            0              0.0            0.0            0.0            0.0            0.0            0.0            0.0            8.6106      \n",
       "   ...\n",
       " (Total: 44654)"
      ]
     },
     "execution_count": 11,
     "metadata": {},
     "output_type": "execute_result"
    }
   ],
   "source": [
    "minnie.Decomposition()"
   ]
  },
  {
   "cell_type": "code",
   "execution_count": 12,
   "metadata": {},
   "outputs": [
    {
     "name": "stdout",
     "output_type": "stream",
     "text": [
      "Decompressing Neuron in minimal output mode...please wait\n"
     ]
    }
   ],
   "source": [
    "neuron_obj = (minnie.Decomposition() & dict(segment_id=864691135644605167)).fetch1(\"decomposition\")"
   ]
  },
  {
   "cell_type": "code",
   "execution_count": 13,
   "metadata": {
    "scrolled": true
   },
   "outputs": [
    {
     "name": "stdout",
     "output_type": "stream",
     "text": [
      "query = median_mesh_center > 115 and n_faces_branch>100\n",
      "smoothness_threshold = 0.12\n",
      "The median_mesh_center was requested and HAS already been calculated\n",
      "functions_list = [<function median_mesh_center at 0x7fedd3848158>, <function n_faces_branch at 0x7fedd3847bf8>]\n",
      "segment_name before cgal = L0_0\n"
     ]
    },
    {
     "data": {
      "application/vnd.jupyter.widget-view+json": {
       "model_id": "0a33fade4c6643e09408aceb51f611f0",
       "version_major": 2,
       "version_minor": 0
      },
      "text/plain": [
       "HBox(children=(FloatProgress(value=0.0, max=68.0), HTML(value='')))"
      ]
     },
     "metadata": {},
     "output_type": "display_data"
    },
    {
     "name": "stdout",
     "output_type": "stream",
     "text": [
      "\n",
      "segment_name before cgal = L0_1\n"
     ]
    },
    {
     "data": {
      "application/vnd.jupyter.widget-view+json": {
       "model_id": "436f8f87fb024e7a8e2d6afe8f2436f5",
       "version_major": 2,
       "version_minor": 0
      },
      "text/plain": [
       "HBox(children=(FloatProgress(value=0.0, max=3.0), HTML(value='')))"
      ]
     },
     "metadata": {},
     "output_type": "display_data"
    },
    {
     "name": "stdout",
     "output_type": "stream",
     "text": [
      "\n",
      "segment_name before cgal = L0_2\n"
     ]
    },
    {
     "data": {
      "application/vnd.jupyter.widget-view+json": {
       "model_id": "12126739cccd49b893f5cde0d5dd3821",
       "version_major": 2,
       "version_minor": 0
      },
      "text/plain": [
       "HBox(children=(FloatProgress(value=0.0, max=4.0), HTML(value='')))"
      ]
     },
     "metadata": {},
     "output_type": "display_data"
    },
    {
     "name": "stdout",
     "output_type": "stream",
     "text": [
      "\n",
      "Removed 1 spines because of side length greater than 5000\n",
      "segment_name before cgal = L0_3\n"
     ]
    },
    {
     "data": {
      "application/vnd.jupyter.widget-view+json": {
       "model_id": "e141ccf0c61c45bc8aa3cedfe78b2e60",
       "version_major": 2,
       "version_minor": 0
      },
      "text/plain": [
       "HBox(children=(FloatProgress(value=0.0, max=24.0), HTML(value='')))"
      ]
     },
     "metadata": {},
     "output_type": "display_data"
    },
    {
     "name": "stdout",
     "output_type": "stream",
     "text": [
      "\n",
      "Removed 1 spines because of side length greater than 5000\n",
      "segment_name before cgal = L0_4\n"
     ]
    },
    {
     "data": {
      "application/vnd.jupyter.widget-view+json": {
       "model_id": "59fddcd5f7e34c8aaae1bcbc7597dc29",
       "version_major": 2,
       "version_minor": 0
      },
      "text/plain": [
       "HBox(children=(FloatProgress(value=0.0, max=2.0), HTML(value='')))"
      ]
     },
     "metadata": {},
     "output_type": "display_data"
    },
    {
     "name": "stdout",
     "output_type": "stream",
     "text": [
      "\n",
      "segment_name before cgal = L0_5\n"
     ]
    },
    {
     "data": {
      "application/vnd.jupyter.widget-view+json": {
       "model_id": "ad7e744997d64ef5b4e2ba30dc2a9b85",
       "version_major": 2,
       "version_minor": 0
      },
      "text/plain": [
       "HBox(children=(FloatProgress(value=0.0, max=11.0), HTML(value='')))"
      ]
     },
     "metadata": {},
     "output_type": "display_data"
    },
    {
     "name": "stdout",
     "output_type": "stream",
     "text": [
      "\n",
      "segment_name before cgal = L0_6\n"
     ]
    },
    {
     "data": {
      "application/vnd.jupyter.widget-view+json": {
       "model_id": "87b40325c5c940b2956d7b8922a8f1d1",
       "version_major": 2,
       "version_minor": 0
      },
      "text/plain": [
       "HBox(children=(FloatProgress(value=0.0, max=22.0), HTML(value='')))"
      ]
     },
     "metadata": {},
     "output_type": "display_data"
    },
    {
     "name": "stdout",
     "output_type": "stream",
     "text": [
      "\n",
      "segment_name before cgal = L0_7\n"
     ]
    },
    {
     "data": {
      "application/vnd.jupyter.widget-view+json": {
       "model_id": "b4fde60dd7c84290b30358d92dea2b73",
       "version_major": 2,
       "version_minor": 0
      },
      "text/plain": [
       "HBox(children=(FloatProgress(value=0.0, max=37.0), HTML(value='')))"
      ]
     },
     "metadata": {},
     "output_type": "display_data"
    },
    {
     "name": "stdout",
     "output_type": "stream",
     "text": [
      "\n",
      "Removed 1 spines because of side length greater than 5000\n",
      "segment_name before cgal = L0_8\n"
     ]
    },
    {
     "data": {
      "application/vnd.jupyter.widget-view+json": {
       "model_id": "a1f70ed175a14fb59f59d2f9b3773894",
       "version_major": 2,
       "version_minor": 0
      },
      "text/plain": [
       "HBox(children=(FloatProgress(value=0.0, max=82.0), HTML(value='')))"
      ]
     },
     "metadata": {},
     "output_type": "display_data"
    },
    {
     "name": "stdout",
     "output_type": "stream",
     "text": [
      "\n",
      "segment_name before cgal = L0_9\n"
     ]
    },
    {
     "data": {
      "application/vnd.jupyter.widget-view+json": {
       "model_id": "cda861d28c3b4e98a18e8a793b14e142",
       "version_major": 2,
       "version_minor": 0
      },
      "text/plain": [
       "HBox(children=(FloatProgress(value=0.0, max=7.0), HTML(value='')))"
      ]
     },
     "metadata": {},
     "output_type": "display_data"
    },
    {
     "name": "stdout",
     "output_type": "stream",
     "text": [
      "\n",
      "segment_name before cgal = L0_10\n"
     ]
    },
    {
     "data": {
      "application/vnd.jupyter.widget-view+json": {
       "model_id": "952ab611f91a40e58895625a2915bcf7",
       "version_major": 2,
       "version_minor": 0
      },
      "text/plain": [
       "HBox(children=(FloatProgress(value=0.0, max=20.0), HTML(value='')))"
      ]
     },
     "metadata": {},
     "output_type": "display_data"
    },
    {
     "name": "stdout",
     "output_type": "stream",
     "text": [
      "\n",
      "segment_name before cgal = L0_11\n"
     ]
    },
    {
     "data": {
      "application/vnd.jupyter.widget-view+json": {
       "model_id": "9dcea0d07a604fb389c63040084ec51f",
       "version_major": 2,
       "version_minor": 0
      },
      "text/plain": [
       "HBox(children=(FloatProgress(value=0.0, max=53.0), HTML(value='')))"
      ]
     },
     "metadata": {},
     "output_type": "display_data"
    },
    {
     "name": "stdout",
     "output_type": "stream",
     "text": [
      "\n",
      "segment_name before cgal = L0_12\n"
     ]
    },
    {
     "data": {
      "application/vnd.jupyter.widget-view+json": {
       "model_id": "7e4bd7e0d4804ae1a0d433011f30bf0a",
       "version_major": 2,
       "version_minor": 0
      },
      "text/plain": [
       "HBox(children=(FloatProgress(value=0.0, max=40.0), HTML(value='')))"
      ]
     },
     "metadata": {},
     "output_type": "display_data"
    },
    {
     "name": "stdout",
     "output_type": "stream",
     "text": [
      "\n",
      "segment_name before cgal = L0_13\n"
     ]
    },
    {
     "data": {
      "application/vnd.jupyter.widget-view+json": {
       "model_id": "a84010f03be84e5eab725fa6b866d938",
       "version_major": 2,
       "version_minor": 0
      },
      "text/plain": [
       "HBox(children=(FloatProgress(value=0.0, max=23.0), HTML(value='')))"
      ]
     },
     "metadata": {},
     "output_type": "display_data"
    },
    {
     "name": "stdout",
     "output_type": "stream",
     "text": [
      "\n",
      "segment_name before cgal = L0_14\n"
     ]
    },
    {
     "data": {
      "application/vnd.jupyter.widget-view+json": {
       "model_id": "26bc81296a3241e6a14f28f9de5384f1",
       "version_major": 2,
       "version_minor": 0
      },
      "text/plain": [
       "HBox(children=(FloatProgress(value=0.0, max=7.0), HTML(value='')))"
      ]
     },
     "metadata": {},
     "output_type": "display_data"
    },
    {
     "name": "stdout",
     "output_type": "stream",
     "text": [
      "\n",
      "segment_name before cgal = L0_15\n"
     ]
    },
    {
     "data": {
      "application/vnd.jupyter.widget-view+json": {
       "model_id": "5f2d610adc5a4667a64bcfda540da127",
       "version_major": 2,
       "version_minor": 0
      },
      "text/plain": [
       "HBox(children=(FloatProgress(value=0.0, max=30.0), HTML(value='')))"
      ]
     },
     "metadata": {},
     "output_type": "display_data"
    },
    {
     "name": "stdout",
     "output_type": "stream",
     "text": [
      "\n",
      "segment_name before cgal = L1_0\n"
     ]
    },
    {
     "data": {
      "application/vnd.jupyter.widget-view+json": {
       "model_id": "c1acdff9d07d4304aaa2a0d92fc26111",
       "version_major": 2,
       "version_minor": 0
      },
      "text/plain": [
       "HBox(children=(FloatProgress(value=0.0, max=177.0), HTML(value='')))"
      ]
     },
     "metadata": {},
     "output_type": "display_data"
    },
    {
     "name": "stdout",
     "output_type": "stream",
     "text": [
      "\n",
      "Removed 1 spines because of side length greater than 5000\n",
      "segment_name before cgal = L1_1\n"
     ]
    },
    {
     "data": {
      "application/vnd.jupyter.widget-view+json": {
       "model_id": "84ef47a0c97747f9ac7860f3d2cac949",
       "version_major": 2,
       "version_minor": 0
      },
      "text/plain": [
       "HBox(children=(FloatProgress(value=0.0, max=52.0), HTML(value='')))"
      ]
     },
     "metadata": {},
     "output_type": "display_data"
    },
    {
     "name": "stdout",
     "output_type": "stream",
     "text": [
      "\n",
      "segment_name before cgal = L1_3\n"
     ]
    },
    {
     "data": {
      "application/vnd.jupyter.widget-view+json": {
       "model_id": "f081a4f64c704fe895f075379a69905f",
       "version_major": 2,
       "version_minor": 0
      },
      "text/plain": [
       "HBox(children=(FloatProgress(value=0.0, max=14.0), HTML(value='')))"
      ]
     },
     "metadata": {},
     "output_type": "display_data"
    },
    {
     "name": "stdout",
     "output_type": "stream",
     "text": [
      "\n",
      "Removed 2 spines because of side length greater than 5000\n",
      "segment_name before cgal = L1_5\n"
     ]
    },
    {
     "data": {
      "application/vnd.jupyter.widget-view+json": {
       "model_id": "27a4227121c4443493c69b9cce3adf03",
       "version_major": 2,
       "version_minor": 0
      },
      "text/plain": [
       "HBox(children=(FloatProgress(value=0.0, max=19.0), HTML(value='')))"
      ]
     },
     "metadata": {},
     "output_type": "display_data"
    },
    {
     "name": "stdout",
     "output_type": "stream",
     "text": [
      "\n",
      "segment_name before cgal = L1_6\n"
     ]
    },
    {
     "data": {
      "application/vnd.jupyter.widget-view+json": {
       "model_id": "0fac850b89f24e33a815e388ef452edd",
       "version_major": 2,
       "version_minor": 0
      },
      "text/plain": [
       "HBox(children=(FloatProgress(value=0.0, max=16.0), HTML(value='')))"
      ]
     },
     "metadata": {},
     "output_type": "display_data"
    },
    {
     "name": "stdout",
     "output_type": "stream",
     "text": [
      "\n",
      "segment_name before cgal = L1_7\n"
     ]
    },
    {
     "data": {
      "application/vnd.jupyter.widget-view+json": {
       "model_id": "4a2776abf4b146978c4ecfcb9a59d05f",
       "version_major": 2,
       "version_minor": 0
      },
      "text/plain": [
       "HBox(children=(FloatProgress(value=0.0, max=6.0), HTML(value='')))"
      ]
     },
     "metadata": {},
     "output_type": "display_data"
    },
    {
     "name": "stdout",
     "output_type": "stream",
     "text": [
      "\n",
      "segment_name before cgal = L1_9\n"
     ]
    },
    {
     "data": {
      "application/vnd.jupyter.widget-view+json": {
       "model_id": "8f216fb475cf4cdbb50703be5c0db8d5",
       "version_major": 2,
       "version_minor": 0
      },
      "text/plain": [
       "HBox(children=(FloatProgress(value=0.0, max=6.0), HTML(value='')))"
      ]
     },
     "metadata": {},
     "output_type": "display_data"
    },
    {
     "name": "stdout",
     "output_type": "stream",
     "text": [
      "\n",
      "segment_name before cgal = L1_10\n"
     ]
    },
    {
     "data": {
      "application/vnd.jupyter.widget-view+json": {
       "model_id": "457e5f3351504a9386289e02e53c46cf",
       "version_major": 2,
       "version_minor": 0
      },
      "text/plain": [
       "HBox(children=(FloatProgress(value=0.0, max=21.0), HTML(value='')))"
      ]
     },
     "metadata": {},
     "output_type": "display_data"
    },
    {
     "name": "stdout",
     "output_type": "stream",
     "text": [
      "\n",
      "Removed 1 spines because of side length greater than 5000\n",
      "segment_name before cgal = L1_11\n"
     ]
    },
    {
     "data": {
      "application/vnd.jupyter.widget-view+json": {
       "model_id": "567225b6356341ecaa6acb0d04a8863a",
       "version_major": 2,
       "version_minor": 0
      },
      "text/plain": [
       "HBox(children=(FloatProgress(value=0.0, max=20.0), HTML(value='')))"
      ]
     },
     "metadata": {},
     "output_type": "display_data"
    },
    {
     "name": "stdout",
     "output_type": "stream",
     "text": [
      "\n",
      "segment_name before cgal = L1_12\n"
     ]
    },
    {
     "data": {
      "application/vnd.jupyter.widget-view+json": {
       "model_id": "77e5d62b4e224c7fb3aeb11fee5af2ee",
       "version_major": 2,
       "version_minor": 0
      },
      "text/plain": [
       "HBox(children=(FloatProgress(value=0.0, max=23.0), HTML(value='')))"
      ]
     },
     "metadata": {},
     "output_type": "display_data"
    },
    {
     "name": "stdout",
     "output_type": "stream",
     "text": [
      "\n",
      "segment_name before cgal = L1_13\n"
     ]
    },
    {
     "data": {
      "application/vnd.jupyter.widget-view+json": {
       "model_id": "da95fc792b524788844670a45e63749f",
       "version_major": 2,
       "version_minor": 0
      },
      "text/plain": [
       "HBox(children=(FloatProgress(value=0.0, max=8.0), HTML(value='')))"
      ]
     },
     "metadata": {},
     "output_type": "display_data"
    },
    {
     "name": "stdout",
     "output_type": "stream",
     "text": [
      "\n",
      "segment_name before cgal = L1_14\n"
     ]
    },
    {
     "data": {
      "application/vnd.jupyter.widget-view+json": {
       "model_id": "aef2801310cb40ab929b1379cf1abb54",
       "version_major": 2,
       "version_minor": 0
      },
      "text/plain": [
       "HBox(children=(FloatProgress(value=0.0, max=9.0), HTML(value='')))"
      ]
     },
     "metadata": {},
     "output_type": "display_data"
    },
    {
     "name": "stdout",
     "output_type": "stream",
     "text": [
      "\n",
      "segment_name before cgal = L1_15\n"
     ]
    },
    {
     "data": {
      "application/vnd.jupyter.widget-view+json": {
       "model_id": "905d201d40494417822f840aab04e47c",
       "version_major": 2,
       "version_minor": 0
      },
      "text/plain": [
       "HBox(children=(FloatProgress(value=0.0, max=2.0), HTML(value='')))"
      ]
     },
     "metadata": {},
     "output_type": "display_data"
    },
    {
     "name": "stdout",
     "output_type": "stream",
     "text": [
      "\n",
      "segment_name before cgal = L2_1\n"
     ]
    },
    {
     "data": {
      "application/vnd.jupyter.widget-view+json": {
       "model_id": "dd03339dd1e44edea0d8df0aaf5312b9",
       "version_major": 2,
       "version_minor": 0
      },
      "text/plain": [
       "HBox(children=(FloatProgress(value=0.0, max=41.0), HTML(value='')))"
      ]
     },
     "metadata": {},
     "output_type": "display_data"
    },
    {
     "name": "stdout",
     "output_type": "stream",
     "text": [
      "\n",
      "segment_name before cgal = L2_3\n"
     ]
    },
    {
     "data": {
      "application/vnd.jupyter.widget-view+json": {
       "model_id": "cb2f4ddaecb740ed9ac441c66dfa99f1",
       "version_major": 2,
       "version_minor": 0
      },
      "text/plain": [
       "HBox(children=(FloatProgress(value=0.0, max=79.0), HTML(value='')))"
      ]
     },
     "metadata": {},
     "output_type": "display_data"
    },
    {
     "name": "stdout",
     "output_type": "stream",
     "text": [
      "\n",
      "segment_name before cgal = L2_4\n"
     ]
    },
    {
     "data": {
      "application/vnd.jupyter.widget-view+json": {
       "model_id": "bfced0a625084490b26b56abaa7353ea",
       "version_major": 2,
       "version_minor": 0
      },
      "text/plain": [
       "HBox(children=(FloatProgress(value=0.0, max=9.0), HTML(value='')))"
      ]
     },
     "metadata": {},
     "output_type": "display_data"
    },
    {
     "name": "stdout",
     "output_type": "stream",
     "text": [
      "\n",
      "segment_name before cgal = L3_0\n"
     ]
    },
    {
     "data": {
      "application/vnd.jupyter.widget-view+json": {
       "model_id": "2dd84b98077c422b83819aa830680fdd",
       "version_major": 2,
       "version_minor": 0
      },
      "text/plain": [
       "HBox(children=(FloatProgress(value=0.0, max=86.0), HTML(value='')))"
      ]
     },
     "metadata": {},
     "output_type": "display_data"
    },
    {
     "name": "stdout",
     "output_type": "stream",
     "text": [
      "\n",
      "Removed 1 spines because of side length greater than 5000\n",
      "segment_name before cgal = L4_0\n"
     ]
    },
    {
     "data": {
      "application/vnd.jupyter.widget-view+json": {
       "model_id": "eecd98c72c234ee4ab7ee9fee90a7c48",
       "version_major": 2,
       "version_minor": 0
      },
      "text/plain": [
       "HBox(children=(FloatProgress(value=0.0, max=62.0), HTML(value='')))"
      ]
     },
     "metadata": {},
     "output_type": "display_data"
    },
    {
     "name": "stdout",
     "output_type": "stream",
     "text": [
      "\n",
      "Removed 1 spines because of side length greater than 5000\n",
      "segment_name before cgal = L4_1\n"
     ]
    },
    {
     "data": {
      "application/vnd.jupyter.widget-view+json": {
       "model_id": "b8156bb5a0ef42da9b0760c5fcca93b4",
       "version_major": 2,
       "version_minor": 0
      },
      "text/plain": [
       "HBox(children=(FloatProgress(value=0.0, max=20.0), HTML(value='')))"
      ]
     },
     "metadata": {},
     "output_type": "display_data"
    },
    {
     "name": "stdout",
     "output_type": "stream",
     "text": [
      "\n",
      "segment_name before cgal = L4_2\n"
     ]
    },
    {
     "data": {
      "application/vnd.jupyter.widget-view+json": {
       "model_id": "36ad9f95e8944673884ec703e1e26efd",
       "version_major": 2,
       "version_minor": 0
      },
      "text/plain": [
       "HBox(children=(FloatProgress(value=0.0, max=9.0), HTML(value='')))"
      ]
     },
     "metadata": {},
     "output_type": "display_data"
    },
    {
     "name": "stdout",
     "output_type": "stream",
     "text": [
      "\n",
      "segment_name before cgal = L5_0\n"
     ]
    },
    {
     "data": {
      "application/vnd.jupyter.widget-view+json": {
       "model_id": "f62ddaa5c3ed420bb4e5aeb0c3cecb61",
       "version_major": 2,
       "version_minor": 0
      },
      "text/plain": [
       "HBox(children=(FloatProgress(value=0.0, max=33.0), HTML(value='')))"
      ]
     },
     "metadata": {},
     "output_type": "display_data"
    },
    {
     "name": "stdout",
     "output_type": "stream",
     "text": [
      "\n",
      "segment_name before cgal = L5_1\n"
     ]
    },
    {
     "data": {
      "application/vnd.jupyter.widget-view+json": {
       "model_id": "a8bc426334e145e78dfbf5c6baa4977c",
       "version_major": 2,
       "version_minor": 0
      },
      "text/plain": [
       "HBox(children=(FloatProgress(value=0.0, max=52.0), HTML(value='')))"
      ]
     },
     "metadata": {},
     "output_type": "display_data"
    },
    {
     "name": "stdout",
     "output_type": "stream",
     "text": [
      "\n",
      "Removed 1 spines because of side length greater than 5000\n",
      "segment_name before cgal = L5_2\n"
     ]
    },
    {
     "data": {
      "application/vnd.jupyter.widget-view+json": {
       "model_id": "0583d9ad3032404fa8ee29019433e900",
       "version_major": 2,
       "version_minor": 0
      },
      "text/plain": [
       "HBox(children=(FloatProgress(value=0.0, max=9.0), HTML(value='')))"
      ]
     },
     "metadata": {},
     "output_type": "display_data"
    },
    {
     "name": "stdout",
     "output_type": "stream",
     "text": [
      "\n",
      "segment_name before cgal = L6_0\n"
     ]
    },
    {
     "data": {
      "application/vnd.jupyter.widget-view+json": {
       "model_id": "49e1f920e7b54246912b92deb06f6a75",
       "version_major": 2,
       "version_minor": 0
      },
      "text/plain": [
       "HBox(children=(FloatProgress(value=0.0, max=20.0), HTML(value='')))"
      ]
     },
     "metadata": {},
     "output_type": "display_data"
    },
    {
     "name": "stdout",
     "output_type": "stream",
     "text": [
      "\n",
      "Removed 1 spines because of side length greater than 5000\n",
      "segment_name before cgal = L7_0\n"
     ]
    },
    {
     "data": {
      "application/vnd.jupyter.widget-view+json": {
       "model_id": "6b57ce7a21354225b5906e069d7a4ba4",
       "version_major": 2,
       "version_minor": 0
      },
      "text/plain": [
       "HBox(children=(FloatProgress(value=0.0, max=6.0), HTML(value='')))"
      ]
     },
     "metadata": {},
     "output_type": "display_data"
    },
    {
     "name": "stdout",
     "output_type": "stream",
     "text": [
      "\n"
     ]
    }
   ],
   "source": [
    "neuron_obj.calculate_spines()"
   ]
  },
  {
   "cell_type": "code",
   "execution_count": 119,
   "metadata": {},
   "outputs": [
    {
     "name": "stdout",
     "output_type": "stream",
     "text": [
      "Saving Neuorn in suppress_output mode...please wait\n",
      "Saved File at location: 864691135644605167_0_25\n"
     ]
    }
   ],
   "source": [
    "neuron_obj.save_compressed_neuron(export_mesh=True)"
   ]
  },
  {
   "cell_type": "code",
   "execution_count": 14,
   "metadata": {},
   "outputs": [
    {
     "name": "stdout",
     "output_type": "stream",
     "text": [
      "\n",
      " Working on visualization type: mesh\n",
      "\n",
      " Working on visualization type: skeleton\n"
     ]
    },
    {
     "data": {
      "application/vnd.jupyter.widget-view+json": {
       "model_id": "a88b42cd7b61497bbbdfa089cc4b51d1",
       "version_major": 2,
       "version_minor": 0
      },
      "text/plain": [
       "VBox(children=(Figure(camera=PerspectiveCamera(fov=46.0, position=(0.0, 0.0, 2.0), quaternion=(0.0, 0.0, 0.0, …"
      ]
     },
     "metadata": {},
     "output_type": "display_data"
    }
   ],
   "source": [
    "nviz.visualize_neuron(neuron_obj,\n",
    "                     limb_branch_dict=\"all\")"
   ]
  },
  {
   "cell_type": "code",
   "execution_count": 15,
   "metadata": {},
   "outputs": [
    {
     "name": "stdout",
     "output_type": "stream",
     "text": [
      "\n",
      " Working on visualization type: mesh\n",
      "\n",
      " Working on visualization type: skeleton\n"
     ]
    },
    {
     "data": {
      "application/vnd.jupyter.widget-view+json": {
       "model_id": "b48a8ad61a6f4b4cb615bb2b200c4e92",
       "version_major": 2,
       "version_minor": 0
      },
      "text/plain": [
       "VBox(children=(Figure(camera=PerspectiveCamera(fov=46.0, position=(0.0, 0.0, 2.0), quaternion=(0.0, 0.0, 0.0, …"
      ]
     },
     "metadata": {},
     "output_type": "display_data"
    }
   ],
   "source": [
    "nviz.plot_spines(neuron_obj)"
   ]
  },
  {
   "cell_type": "markdown",
   "metadata": {},
   "source": [
    "# 0) Split the neuron first"
   ]
  },
  {
   "cell_type": "code",
   "execution_count": 16,
   "metadata": {},
   "outputs": [
    {
     "name": "stdout",
     "output_type": "stream",
     "text": [
      "multi_soma_limbs = []\n",
      "multi_touch_limbs = []\n",
      "Total time for split = 0.0006635189056396484\n"
     ]
    }
   ],
   "source": [
    "split_time = time.time()\n",
    "limb_suggestions = pru.multi_soma_split_suggestions(neuron_obj,\n",
    "                                    plot_intermediates=True,\n",
    "                                    plot_cut_coordinates=True)\n",
    "print(f\"Total time for split = {time.time() - split_time}\")"
   ]
  },
  {
   "cell_type": "code",
   "execution_count": 17,
   "metadata": {},
   "outputs": [],
   "source": [
    "curr_neuron_obj = neuron_obj"
   ]
  },
  {
   "cell_type": "code",
   "execution_count": 18,
   "metadata": {},
   "outputs": [],
   "source": [
    "# 0) Make sure just 1 soma\n",
    "\n",
    "soma_names = curr_neuron_obj.get_soma_node_names()\n",
    "\n",
    "if len(soma_names)>1:\n",
    "    soma_print = f\"More than 1 soma: {soma_names}\"\n",
    "    if error_on_multi_soma:\n",
    "        raise Exception(soma_print)\n",
    "    else:\n",
    "        print(soma_print)\n",
    "\n",
    "soma_name = soma_names[0]"
   ]
  },
  {
   "cell_type": "markdown",
   "metadata": {},
   "source": [
    "# 1) Filtering the limbs by the soma angle"
   ]
  },
  {
   "cell_type": "code",
   "execution_count": 19,
   "metadata": {},
   "outputs": [],
   "source": [
    "verbose = True\n",
    "apical_soma_angle_threshold = 40"
   ]
  },
  {
   "cell_type": "code",
   "execution_count": 20,
   "metadata": {},
   "outputs": [
    {
     "name": "stdout",
     "output_type": "stream",
     "text": [
      "functions_list = [<function soma_starting_angle at 0x7fedd384a2f0>]\n",
      "Limb L0 soma angle: 31.96 \n",
      "Limb L1 soma angle: 120.57 \n",
      "Limb L2 soma angle: 112.62 \n",
      "Limb L3 soma angle: 134.92 \n",
      "Limb L4 soma angle: 100.5 \n",
      "Limb L5 soma angle: 120.96 \n",
      "Limb L6 soma angle: 126.82 \n",
      "Limb L7 soma angle: 151.97 \n",
      "viable_limbs = [0]\n"
     ]
    }
   ],
   "source": [
    "viable_limbs = nru.viable_axon_limbs_by_starting_angle(curr_neuron_obj,\n",
    "                                       soma_angle_threshold=apical_soma_angle_threshold,\n",
    "                                       above_threshold=False,\n",
    "                                       verbose=True)\n",
    "\n",
    "if verbose:\n",
    "    print(f\"viable_limbs = {viable_limbs}\")"
   ]
  },
  {
   "cell_type": "code",
   "execution_count": 21,
   "metadata": {},
   "outputs": [
    {
     "name": "stdout",
     "output_type": "stream",
     "text": [
      "\n",
      " Working on visualization type: mesh\n",
      "\n",
      " Working on visualization type: skeleton\n"
     ]
    },
    {
     "data": {
      "application/vnd.jupyter.widget-view+json": {
       "model_id": "b41274f60522474a86ab1a187569aaa7",
       "version_major": 2,
       "version_minor": 0
      },
      "text/plain": [
       "VBox(children=(Figure(camera=PerspectiveCamera(fov=46.0, position=(0.0, 0.0, 2.0), quaternion=(0.0, 0.0, 0.0, …"
      ]
     },
     "metadata": {},
     "output_type": "display_data"
    }
   ],
   "source": [
    "ret_col = nviz.visualize_neuron(curr_neuron_obj,\n",
    "                     visualize_type=[\"mesh\",\"skeleton\"],\n",
    "                     limb_branch_dict={f\"L{k}\":\"all\" for k in viable_limbs},\n",
    "                     return_color_dict=True)"
   ]
  },
  {
   "cell_type": "markdown",
   "metadata": {},
   "source": [
    "# 2) Find the Viable Candidats for High Projecting Apical"
   ]
  },
  {
   "cell_type": "code",
   "execution_count": 25,
   "metadata": {},
   "outputs": [
    {
     "name": "stdout",
     "output_type": "stream",
     "text": [
      "Working on limb 0\n"
     ]
    }
   ],
   "source": [
    "limb_idx = viable_limbs[0]\n",
    "curr_limb = curr_neuron_obj[limb_idx]\n",
    "\n",
    "if verbose:\n",
    "    print(f\"Working on limb {limb_idx}\")"
   ]
  },
  {
   "cell_type": "code",
   "execution_count": 26,
   "metadata": {},
   "outputs": [],
   "source": [
    "import networkx_utils as xu\n",
    "import skeleton_utils as sk"
   ]
  },
  {
   "cell_type": "code",
   "execution_count": 33,
   "metadata": {},
   "outputs": [
    {
     "data": {
      "application/vnd.jupyter.widget-view+json": {
       "model_id": "ae8526e2a65548a3939f397fc0aab744",
       "version_major": 2,
       "version_minor": 0
      },
      "text/plain": [
       "VBox(children=(Figure(camera=PerspectiveCamera(fov=46.0, position=(0.0, 0.0, 2.0), quaternion=(0.0, 0.0, 0.0, …"
      ]
     },
     "metadata": {},
     "output_type": "display_data"
    }
   ],
   "source": [
    "apical_check_distance_max = 150000\n",
    "apical_check_distance_min = 50000\n",
    "limb_gr = sk.convert_skeleton_to_graph(curr_limb.skeleton)\n",
    "st_node = xu.get_graph_node_by_coordinate(limb_gr,curr_limb.current_starting_coordinate)\n",
    "nodes_max_distance = xu.find_nodes_within_certain_distance_of_target_node(limb_gr,st_node,apical_check_distance_max)\n",
    "nodes_min_distance = xu.find_nodes_within_certain_distance_of_target_node(limb_gr,st_node,apical_check_distance_min)\n",
    "nodes_with_distance_range = np.setdiff1d(list(nodes_max_distance),list(nodes_min_distance))\n",
    "\n",
    "\n",
    "restricted_limb_gr = limb_gr.subgraph(nodes_with_distance_range)\n",
    "restricted_limb_sk = sk.convert_graph_to_skeleton(restricted_limb_gr)\n",
    "restricted_limb_sk.shape\n",
    "\n",
    "nviz.plot_objects(curr_limb.mesh,\n",
    "                 skeletons=[restricted_limb_sk])"
   ]
  },
  {
   "cell_type": "code",
   "execution_count": null,
   "metadata": {},
   "outputs": [],
   "source": [
    "# Find each of the subskeletons closest node to the "
   ]
  },
  {
   "cell_type": "code",
   "execution_count": 34,
   "metadata": {},
   "outputs": [],
   "source": [
    "import networkx as nx"
   ]
  },
  {
   "cell_type": "code",
   "execution_count": 42,
   "metadata": {},
   "outputs": [
    {
     "data": {
      "text/plain": [
       "[1364.0, 2420.0, 4104.0, 4184.0]"
      ]
     },
     "execution_count": 42,
     "metadata": {},
     "output_type": "execute_result"
    }
   ],
   "source": [
    "conn_comp = list([np.array(list(k)) for k in nx.connected_components(restricted_limb_gr)])\n",
    "conn_comp_closest_nodes = [xu.shortest_path_between_two_sets_of_nodes(limb_gr,[st_node],k)[2]\n",
    "                           for k in conn_comp]\n",
    "conn_comp_closest_nodes"
   ]
  },
  {
   "cell_type": "code",
   "execution_count": 43,
   "metadata": {},
   "outputs": [
    {
     "data": {
      "application/vnd.jupyter.widget-view+json": {
       "model_id": "445289a3d9c2491a944a360662f215fe",
       "version_major": 2,
       "version_minor": 0
      },
      "text/plain": [
       "VBox(children=(Figure(camera=PerspectiveCamera(fov=46.0, position=(0.0, 0.0, 2.0), quaternion=(0.0, 0.0, 0.0, …"
      ]
     },
     "metadata": {},
     "output_type": "display_data"
    }
   ],
   "source": [
    "nviz.plot_objects(curr_limb.mesh,\n",
    "                 skeletons=[restricted_limb_sk],\n",
    "                 scatters=[xu.get_coordinate_by_graph_node(limb_gr,conn_comp_closest_nodes)],\n",
    "                 scatter_size=1)"
   ]
  },
  {
   "cell_type": "code",
   "execution_count": null,
   "metadata": {},
   "outputs": [],
   "source": [
    "\"\"\"\n",
    "Getting all of the possible apical paths\n",
    "\n",
    "Pseudocode: \n",
    "For each connected component\n",
    "1) Get all the end nodes of the subgraph\n",
    "2) Subtract of the closest subgraph node to limb start\n",
    "For each end node\n",
    "3) Look at the vector between end nodes and closest node \n",
    "    (continue if not approximately straight up) and not long enough\n",
    "4) Find the branches that contain the two ends of the path\n",
    "\n",
    "For all combinations of branches:\n",
    "\n",
    "5) Find the shortest path between the two branches on the context network\n",
    "6) Get the subskeleton:\n",
    "- Analyze for width and spine density (and if too thin or not spiny enough then continue)\n",
    "7) If passed all tests then add the branch path as possible candidate\n",
    "\n",
    "\"\"\""
   ]
  },
  {
   "cell_type": "code",
   "execution_count": 49,
   "metadata": {},
   "outputs": [],
   "source": [
    "import numpy_utils as nu"
   ]
  },
  {
   "cell_type": "code",
   "execution_count": 101,
   "metadata": {},
   "outputs": [],
   "source": [
    "angle_threshold = 30\n",
    "top_volume_vector = np.array([0,-1,0])"
   ]
  },
  {
   "cell_type": "code",
   "execution_count": 89,
   "metadata": {},
   "outputs": [
    {
     "name": "stdout",
     "output_type": "stream",
     "text": [
      "Filered End nodes for component 1: [3081. 3535. 3683. 6956.]\n"
     ]
    }
   ],
   "source": [
    "# 1) Get all the end nodes of the subgraph\n",
    "component_idx = 1\n",
    "\n",
    "curr_cmpnt = conn_comp[component_idx]\n",
    "closest_node = conn_comp_closest_nodes[component_idx]\n",
    "closest_node_coordinate = xu.get_coordinate_by_graph_node(limb_gr,closest_node)\n",
    "\n",
    "c_subgraph = restricted_limb_gr.subgraph(curr_cmpnt)\n",
    "endnodes = xu.get_nodes_of_degree_k(c_subgraph,1)\n",
    "\n",
    "#2) Subtract of the closest subgraph node to limb start\n",
    "filtered_endnodes = np.setdiff1d(endnodes,closest_node)\n",
    "filtered_endnodes_coordinates = xu.get_coordinate_by_graph_node(limb_gr,filtered_endnodes)\n",
    "\n",
    "if verbose:\n",
    "    print(f\"Filered End nodes for component {component_idx}: {filtered_endnodes}\")"
   ]
  },
  {
   "cell_type": "code",
   "execution_count": 90,
   "metadata": {},
   "outputs": [
    {
     "name": "stdout",
     "output_type": "stream",
     "text": [
      "End Node Candidate 0 angle = 6.27\n",
      "    Upward distance 95365.0\n"
     ]
    }
   ],
   "source": [
    "#3) Look at the vector between end nodes and closest node \n",
    "#for e_node in filtered_endnodes:\n",
    "e_node_idx = 0\n",
    "e_node = filtered_endnodes[e_node_idx]\n",
    "e_node_coordinate = filtered_endnodes_coordinates[e_node_idx]\n",
    "\n",
    "# nviz.plot_objects(curr_limb.mesh,\n",
    "#                  skeletons=[restricted_limb_sk],\n",
    "#                  scatters=[xu.get_coordinate_by_graph_node(limb_gr,[closest_node,e_node])],\n",
    "#                  scatter_size=1)\n",
    "\n",
    "curr_vector = e_node_coordinate-closest_node_coordinate\n",
    "curr_vector_upward_distance = -curr_vector[1]\n",
    "curr_vector_len = np.linalg.norm(curr_vector)\n",
    "\n",
    "curr_vector_angle = nu.angle_between_vectors(top_volume_vector,curr_vector)\n",
    "\n",
    "if verbose:\n",
    "    print(f\"End Node Candidate {e_node_idx} angle = {np.round(curr_vector_angle,2)}\"\n",
    "          f\"\\n    Upward distance {np.round(curr_vector_upward_distance,2)}\")\n",
    "    \n",
    "reject_flag = False\n",
    "if curr_vector_angle > angle_threshold:\n",
    "    if verbose:\n",
    "        print(f\"Rejecting candidate because did not pass angle threshold of ess than {angle_threshold}\")\n",
    "    reject_flag = True\n",
    "    \n",
    "# if curr_vector_upward_distance < upward_distance_threshold:\n",
    "#     if verbose:\n",
    "#         print(f\"Rejecting candidate because did not pass upward distance threshold of greater than {upward_distance_threshold}\")\n",
    "#     reject_flag = True\n"
   ]
  },
  {
   "cell_type": "code",
   "execution_count": 84,
   "metadata": {},
   "outputs": [
    {
     "data": {
      "text/plain": [
       "array([25080.,  1264.,   168.])"
      ]
     },
     "execution_count": 84,
     "metadata": {},
     "output_type": "execute_result"
    }
   ],
   "source": [
    "curr_vector"
   ]
  },
  {
   "cell_type": "code",
   "execution_count": 86,
   "metadata": {},
   "outputs": [
    {
     "data": {
      "application/vnd.jupyter.widget-view+json": {
       "model_id": "1d18231227a34f14a4a63383dffeafb0",
       "version_major": 2,
       "version_minor": 0
      },
      "text/plain": [
       "VBox(children=(Figure(camera=PerspectiveCamera(fov=46.0, position=(0.0, 0.0, 2.0), quaternion=(0.0, 0.0, 0.0, …"
      ]
     },
     "metadata": {},
     "output_type": "display_data"
    }
   ],
   "source": [
    "nviz.plot_objects(curr_limb.mesh,\n",
    "                 skeletons=[restricted_limb_sk],\n",
    "                 scatters=[xu.get_coordinate_by_graph_node(limb_gr,[closest_node,e_node])],\n",
    "                 scatter_size=1)"
   ]
  },
  {
   "cell_type": "code",
   "execution_count": 109,
   "metadata": {},
   "outputs": [
    {
     "data": {
      "text/plain": [
       "[2420.0,\n",
       " 2421.0,\n",
       " 2423.0,\n",
       " 2425.0,\n",
       " 2426.0,\n",
       " 2427.0,\n",
       " 2428.0,\n",
       " 2429.0,\n",
       " 2430.0,\n",
       " 2432.0,\n",
       " 2431.0,\n",
       " 2436.0,\n",
       " 2435.0,\n",
       " 2442.0,\n",
       " 2441.0,\n",
       " 2444.0,\n",
       " 2447.0,\n",
       " 2450.0,\n",
       " 2452.0,\n",
       " 2456.0,\n",
       " 2458.0,\n",
       " 2462.0,\n",
       " 2467.0,\n",
       " 2468.0,\n",
       " 2472.0,\n",
       " 2475.0,\n",
       " 2480.0,\n",
       " 2479.0,\n",
       " 2478.0,\n",
       " 2477.0,\n",
       " 2476.0,\n",
       " 2474.0,\n",
       " 2471.0,\n",
       " 2469.0,\n",
       " 2466.0,\n",
       " 2464.0,\n",
       " 2460.0,\n",
       " 2455.0,\n",
       " 2449.0,\n",
       " 2446.0,\n",
       " 2440.0,\n",
       " 2434.0,\n",
       " 2433.0,\n",
       " 2439.0,\n",
       " 2438.0,\n",
       " 2443.0,\n",
       " 2445.0,\n",
       " 2451.0,\n",
       " 2454.0,\n",
       " 2453.0,\n",
       " 2457.0,\n",
       " 2459.0,\n",
       " 2463.0,\n",
       " 2465.0,\n",
       " 2470.0,\n",
       " 2473.0,\n",
       " 2482.0,\n",
       " 2483.0,\n",
       " 2486.0,\n",
       " 2489.0,\n",
       " 2491.0,\n",
       " 2493.0,\n",
       " 2496.0,\n",
       " 2497.0,\n",
       " 2500.0,\n",
       " 2502.0,\n",
       " 2505.0,\n",
       " 2506.0,\n",
       " 2508.0,\n",
       " 2510.0,\n",
       " 2512.0,\n",
       " 2514.0,\n",
       " 2516.0,\n",
       " 2517.0,\n",
       " 2520.0,\n",
       " 2521.0,\n",
       " 2522.0,\n",
       " 2524.0,\n",
       " 2525.0,\n",
       " 2526.0,\n",
       " 2528.0,\n",
       " 2529.0,\n",
       " 2531.0,\n",
       " 2532.0,\n",
       " 2533.0,\n",
       " 2534.0,\n",
       " 2535.0,\n",
       " 2536.0,\n",
       " 2538.0,\n",
       " 2540.0,\n",
       " 2541.0,\n",
       " 2542.0,\n",
       " 2543.0,\n",
       " 2544.0,\n",
       " 2545.0,\n",
       " 2547.0,\n",
       " 2549.0,\n",
       " 2550.0,\n",
       " 2552.0,\n",
       " 2553.0,\n",
       " 2554.0,\n",
       " 2556.0,\n",
       " 2558.0,\n",
       " 2559.0,\n",
       " 2560.0,\n",
       " 2563.0,\n",
       " 2564.0,\n",
       " 2565.0,\n",
       " 2568.0,\n",
       " 2569.0,\n",
       " 2572.0,\n",
       " 2573.0,\n",
       " 2575.0,\n",
       " 2577.0,\n",
       " 2579.0,\n",
       " 2582.0,\n",
       " 2584.0,\n",
       " 2587.0,\n",
       " 2590.0,\n",
       " 2591.0,\n",
       " 2594.0,\n",
       " 2596.0,\n",
       " 2598.0,\n",
       " 2600.0,\n",
       " 2603.0,\n",
       " 2604.0,\n",
       " 2607.0,\n",
       " 2608.0,\n",
       " 2610.0,\n",
       " 2612.0,\n",
       " 2614.0,\n",
       " 2615.0,\n",
       " 2616.0,\n",
       " 2618.0,\n",
       " 2620.0,\n",
       " 2621.0,\n",
       " 2622.0,\n",
       " 2623.0,\n",
       " 2624.0,\n",
       " 2630.0,\n",
       " 2629.0,\n",
       " 2628.0,\n",
       " 2627.0,\n",
       " 2632.0,\n",
       " 2631.0,\n",
       " 2633.0,\n",
       " 2634.0,\n",
       " 2635.0,\n",
       " 2636.0,\n",
       " 2637.0,\n",
       " 2639.0,\n",
       " 2642.0,\n",
       " 2641.0,\n",
       " 2643.0,\n",
       " 2644.0,\n",
       " 2647.0,\n",
       " 2648.0,\n",
       " 2650.0,\n",
       " 2652.0,\n",
       " 2655.0,\n",
       " 2656.0,\n",
       " 2659.0,\n",
       " 2662.0,\n",
       " 2665.0,\n",
       " 2666.0,\n",
       " 2668.0,\n",
       " 2670.0,\n",
       " 2672.0,\n",
       " 2674.0,\n",
       " 2675.0,\n",
       " 2677.0,\n",
       " 2679.0,\n",
       " 2680.0,\n",
       " 2683.0,\n",
       " 2684.0,\n",
       " 2687.0,\n",
       " 2688.0,\n",
       " 2690.0,\n",
       " 2691.0,\n",
       " 2694.0,\n",
       " 2695.0,\n",
       " 2696.0,\n",
       " 2699.0,\n",
       " 2700.0,\n",
       " 2702.0,\n",
       " 2704.0,\n",
       " 2707.0,\n",
       " 2709.0,\n",
       " 2711.0,\n",
       " 2713.0,\n",
       " 2715.0,\n",
       " 2717.0,\n",
       " 2718.0,\n",
       " 2720.0,\n",
       " 2721.0,\n",
       " 2722.0,\n",
       " 2725.0,\n",
       " 2726.0,\n",
       " 2732.0,\n",
       " 2736.0,\n",
       " 2742.0,\n",
       " 2741.0,\n",
       " 2744.0,\n",
       " 2743.0,\n",
       " 2740.0,\n",
       " 2739.0,\n",
       " 2735.0,\n",
       " 2734.0,\n",
       " 2731.0,\n",
       " 2730.0,\n",
       " 2729.0,\n",
       " 2728.0,\n",
       " 2727.0,\n",
       " 2733.0,\n",
       " 2738.0,\n",
       " 2745.0,\n",
       " 2747.0,\n",
       " 2752.0,\n",
       " 2749.0,\n",
       " 2748.0,\n",
       " 2751.0,\n",
       " 2753.0,\n",
       " 2756.0,\n",
       " 2758.0,\n",
       " 2759.0,\n",
       " 2761.0,\n",
       " 2764.0,\n",
       " 2765.0,\n",
       " 2766.0,\n",
       " 2769.0,\n",
       " 2784.0,\n",
       " 2790.0,\n",
       " 2797.0,\n",
       " 2803.0,\n",
       " 2810.0,\n",
       " 2856.0,\n",
       " 2885.0,\n",
       " 2900.0,\n",
       " 2922.0,\n",
       " 2952.0,\n",
       " 2974.0,\n",
       " 2984.0,\n",
       " 3004.0,\n",
       " 3038.0,\n",
       " 3048.0,\n",
       " 3073.0,\n",
       " 3099.0,\n",
       " 3122.0,\n",
       " 3141.0,\n",
       " 3147.0,\n",
       " 3163.0,\n",
       " 3184.0,\n",
       " 3211.0,\n",
       " 3230.0,\n",
       " 3241.0,\n",
       " 3255.0,\n",
       " 3261.0,\n",
       " 3269.0,\n",
       " 3285.0,\n",
       " 3295.0,\n",
       " 3306.0,\n",
       " 3315.0,\n",
       " 3334.0,\n",
       " 3345.0,\n",
       " 3351.0,\n",
       " 3361.0,\n",
       " 3368.0,\n",
       " 3376.0,\n",
       " 3393.0,\n",
       " 3400.0,\n",
       " 3404.0,\n",
       " 3408.0,\n",
       " 3411.0,\n",
       " 3418.0,\n",
       " 3423.0,\n",
       " 3430.0,\n",
       " 3429.0,\n",
       " 3434.0,\n",
       " 3440.0,\n",
       " 3447.0,\n",
       " 3452.0,\n",
       " 3464.0,\n",
       " 3477.0,\n",
       " 3486.0,\n",
       " 3507.0,\n",
       " 3516.0,\n",
       " 3526.0,\n",
       " 3541.0,\n",
       " 3580.0,\n",
       " 3599.0,\n",
       " 3613.0,\n",
       " 3626.0,\n",
       " 3641.0,\n",
       " 3656.0,\n",
       " 3665.0,\n",
       " 3673.0,\n",
       " 3681.0,\n",
       " 3687.0,\n",
       " 3694.0,\n",
       " 3693.0,\n",
       " 3690.0,\n",
       " 3692.0,\n",
       " 3689.0,\n",
       " 3685.0,\n",
       " 3680.0,\n",
       " 3677.0,\n",
       " 3663.0,\n",
       " 3650.0,\n",
       " 3637.0,\n",
       " 3625.0,\n",
       " 3621.0,\n",
       " 3605.0,\n",
       " 3592.0,\n",
       " 3572.0,\n",
       " 3546.0,\n",
       " 3540.0,\n",
       " 3531.0,\n",
       " 3523.0,\n",
       " 3520.0,\n",
       " 3519.0,\n",
       " 3512.0,\n",
       " 3510.0,\n",
       " 3506.0,\n",
       " 3499.0,\n",
       " 3490.0,\n",
       " 3489.0,\n",
       " 3498.0,\n",
       " 3497.0,\n",
       " 3496.0,\n",
       " 3505.0,\n",
       " 3504.0,\n",
       " 3503.0,\n",
       " 3502.0,\n",
       " 3495.0,\n",
       " 3494.0,\n",
       " 3493.0,\n",
       " 3488.0,\n",
       " 3485.0,\n",
       " 3484.0,\n",
       " 3479.0,\n",
       " 3472.0,\n",
       " 3468.0,\n",
       " 3463.0,\n",
       " 3461.0,\n",
       " 3450.0,\n",
       " 3444.0,\n",
       " 3439.0,\n",
       " 3436.0,\n",
       " 3433.0,\n",
       " 3432.0,\n",
       " 3428.0,\n",
       " 3425.0,\n",
       " 3420.0,\n",
       " 3416.0,\n",
       " 3410.0,\n",
       " 3407.0,\n",
       " 3402.0,\n",
       " 3395.0,\n",
       " 3386.0,\n",
       " 3381.0,\n",
       " 3371.0,\n",
       " 3360.0,\n",
       " 3355.0,\n",
       " 3347.0,\n",
       " 3343.0,\n",
       " 3333.0,\n",
       " 3327.0,\n",
       " 3314.0,\n",
       " 3310.0,\n",
       " 3294.0,\n",
       " 3275.0,\n",
       " 3257.0,\n",
       " 3248.0,\n",
       " 3236.0,\n",
       " 3221.0,\n",
       " 3199.0,\n",
       " 3192.0,\n",
       " 3180.0,\n",
       " 3176.0,\n",
       " 3162.0,\n",
       " 3158.0,\n",
       " 3157.0,\n",
       " 3156.0,\n",
       " 3155.0,\n",
       " 3154.0,\n",
       " 3161.0,\n",
       " 3153.0,\n",
       " 3152.0,\n",
       " 3151.0,\n",
       " 3160.0,\n",
       " 3170.0,\n",
       " 3175.0,\n",
       " 3179.0,\n",
       " 3183.0,\n",
       " 3186.0,\n",
       " 3191.0,\n",
       " 3194.0,\n",
       " 3198.0,\n",
       " 3204.0,\n",
       " 3203.0,\n",
       " 3210.0,\n",
       " 3209.0,\n",
       " 3217.0,\n",
       " 3216.0,\n",
       " 3215.0,\n",
       " 3214.0,\n",
       " 3213.0,\n",
       " 3212.0,\n",
       " 3208.0,\n",
       " 3202.0,\n",
       " 3197.0,\n",
       " 3178.0,\n",
       " 3169.0,\n",
       " 3150.0,\n",
       " 3143.0,\n",
       " 3140.0,\n",
       " 3139.0,\n",
       " 3135.0,\n",
       " 3134.0,\n",
       " 3131.0,\n",
       " 3130.0,\n",
       " 3129.0,\n",
       " 3126.0,\n",
       " 3125.0,\n",
       " 3121.0,\n",
       " 3120.0,\n",
       " 3116.0,\n",
       " 3110.0,\n",
       " 3105.0,\n",
       " 3091.0,\n",
       " 3079.0,\n",
       " 3076.0,\n",
       " 3068.0,\n",
       " 3065.0,\n",
       " 3064.0,\n",
       " 3060.0,\n",
       " 3055.0,\n",
       " 3054.0,\n",
       " 3053.0,\n",
       " 3052.0,\n",
       " 3059.0,\n",
       " 3063.0,\n",
       " 3067.0,\n",
       " 3072.0,\n",
       " 3090.0,\n",
       " 3089.0,\n",
       " 3104.0,\n",
       " 3109.0,\n",
       " 3119.0,\n",
       " 3133.0,\n",
       " 3146.0,\n",
       " 3167.0,\n",
       " 3174.0,\n",
       " 3190.0,\n",
       " 3196.0,\n",
       " 3207.0,\n",
       " 3229.0,\n",
       " 3240.0,\n",
       " 3247.0,\n",
       " 3254.0,\n",
       " 3260.0,\n",
       " 3268.0,\n",
       " 3274.0,\n",
       " 3273.0,\n",
       " 3272.0,\n",
       " 3284.0,\n",
       " 3283.0,\n",
       " 3293.0,\n",
       " 3292.0,\n",
       " 3291.0,\n",
       " 3290.0,\n",
       " 3289.0,\n",
       " 3288.0,\n",
       " 3282.0,\n",
       " 3281.0,\n",
       " 3280.0,\n",
       " 3279.0,\n",
       " 3287.0,\n",
       " 3286.0,\n",
       " 3298.0,\n",
       " 3302.0,\n",
       " 3305.0,\n",
       " 3309.0,\n",
       " 3312.0,\n",
       " 3317.0,\n",
       " 3324.0,\n",
       " 3326.0,\n",
       " 3332.0,\n",
       " 3339.0,\n",
       " 3342.0,\n",
       " 3350.0,\n",
       " 3356.0,\n",
       " 3365.0,\n",
       " 3370.0,\n",
       " 3373.0,\n",
       " 3380.0,\n",
       " 3385.0,\n",
       " 3392.0,\n",
       " 3391.0,\n",
       " 3390.0,\n",
       " 3389.0,\n",
       " 3384.0,\n",
       " 3379.0,\n",
       " 3383.0,\n",
       " 3364.0,\n",
       " 3338.0,\n",
       " 3323.0,\n",
       " 3304.0,\n",
       " 3267.0,\n",
       " 3253.0,\n",
       " 3239.0,\n",
       " 3228.0,\n",
       " 3206.0,\n",
       " 3189.0,\n",
       " 3177.0,\n",
       " 3173.0,\n",
       " 3166.0,\n",
       " 3145.0,\n",
       " 3142.0,\n",
       " 3128.0,\n",
       " 3118.0,\n",
       " 3115.0,\n",
       " 3108.0,\n",
       " 3103.0,\n",
       " 3098.0,\n",
       " 3088.0,\n",
       " 3087.0,\n",
       " 3086.0,\n",
       " 3085.0,\n",
       " 3084.0,\n",
       " 3083.0,\n",
       " 3097.0,\n",
       " 3096.0,\n",
       " 3095.0,\n",
       " 3094.0,\n",
       " 3093.0,\n",
       " 3082.0,\n",
       " 3078.0,\n",
       " 3071.0,\n",
       " 3062.0,\n",
       " 3051.0,\n",
       " 3046.0,\n",
       " 3035.0,\n",
       " 3030.0,\n",
       " 3018.0,\n",
       " 3010.0,\n",
       " 3000.0,\n",
       " 2999.0,\n",
       " 2989.0,\n",
       " 2971.0,\n",
       " 2963.0,\n",
       " 2930.0,\n",
       " 2911.0,\n",
       " 2899.0,\n",
       " 2884.0,\n",
       " 2874.0,\n",
       " 2869.0,\n",
       " 2855.0,\n",
       " 2850.0,\n",
       " 2807.0,\n",
       " 2802.0,\n",
       " 2799.0,\n",
       " 2796.0,\n",
       " 2795.0,\n",
       " 2789.0,\n",
       " 2787.0,\n",
       " 2783.0,\n",
       " 2782.0,\n",
       " 2780.0,\n",
       " 2778.0,\n",
       " 2776.0,\n",
       " 2775.0,\n",
       " 2774.0,\n",
       " 2773.0,\n",
       " 2772.0,\n",
       " 2771.0,\n",
       " 2777.0,\n",
       " 2779.0,\n",
       " 2781.0,\n",
       " 2785.0,\n",
       " 2786.0,\n",
       " 2791.0,\n",
       " 2794.0,\n",
       " 2798.0,\n",
       " 2801.0,\n",
       " 2806.0,\n",
       " 2849.0,\n",
       " 2860.0,\n",
       " 2873.0,\n",
       " 2896.0,\n",
       " 2916.0,\n",
       " 2941.0,\n",
       " 2951.0,\n",
       " 2970.0,\n",
       " 2979.0,\n",
       " 2983.0,\n",
       " 2988.0,\n",
       " 2998.0,\n",
       " 3008.0,\n",
       " 3014.0,\n",
       " 3017.0,\n",
       " 3016.0,\n",
       " 3023.0,\n",
       " 3029.0,\n",
       " 3028.0,\n",
       " 3027.0,\n",
       " 3022.0,\n",
       " 3026.0,\n",
       " 3032.0,\n",
       " 3031.0,\n",
       " 3021.0,\n",
       " 3020.0,\n",
       " 3019.0,\n",
       " 3013.0,\n",
       " 3009.0,\n",
       " 3007.0,\n",
       " 2997.0,\n",
       " 2993.0,\n",
       " 2987.0,\n",
       " 2982.0,\n",
       " 2973.0,\n",
       " 2962.0,\n",
       " 2956.0,\n",
       " 2940.0,\n",
       " 2936.0,\n",
       " 2925.0,\n",
       " 2915.0,\n",
       " 2910.0,\n",
       " 2903.0,\n",
       " 2895.0,\n",
       " 2890.0,\n",
       " 2889.0,\n",
       " 2878.0,\n",
       " 2877.0,\n",
       " 2868.0,\n",
       " 2864.0,\n",
       " 2859.0,\n",
       " 2854.0,\n",
       " 2853.0,\n",
       " 2848.0,\n",
       " 2847.0,\n",
       " 2846.0,\n",
       " 2845.0,\n",
       " 2844.0,\n",
       " 2843.0,\n",
       " 2852.0,\n",
       " 2851.0,\n",
       " 2858.0,\n",
       " 2863.0,\n",
       " 2867.0,\n",
       " 2872.0,\n",
       " 2876.0,\n",
       " 2883.0,\n",
       " 2888.0,\n",
       " 2891.0,\n",
       " 2894.0,\n",
       " 2898.0,\n",
       " 2902.0,\n",
       " 2907.0,\n",
       " 2909.0,\n",
       " 2914.0,\n",
       " 2921.0,\n",
       " 2920.0,\n",
       " 2924.0,\n",
       " 2929.0,\n",
       " 2928.0,\n",
       " 2935.0,\n",
       " 2934.0,\n",
       " 2937.0,\n",
       " 2939.0,\n",
       " 2948.0,\n",
       " 2955.0,\n",
       " 2961.0,\n",
       " 2972.0,\n",
       " 2978.0,\n",
       " 2969.0,\n",
       " 2968.0,\n",
       " 2967.0,\n",
       " 2960.0,\n",
       " 2957.0,\n",
       " 2954.0,\n",
       " 2947.0,\n",
       " 2938.0,\n",
       " 2933.0,\n",
       " 2923.0,\n",
       " 2919.0,\n",
       " 2918.0,\n",
       " 2906.0,\n",
       " 2897.0,\n",
       " 2893.0,\n",
       " 2882.0,\n",
       " 2881.0,\n",
       " 2875.0,\n",
       " 2866.0,\n",
       " 2862.0,\n",
       " 2857.0,\n",
       " 2840.0,\n",
       " 2839.0,\n",
       " 2838.0,\n",
       " 2842.0,\n",
       " 2837.0,\n",
       " 2836.0,\n",
       " 2835.0,\n",
       " 2821.0,\n",
       " 2820.0,\n",
       " 2834.0,\n",
       " 2833.0,\n",
       " 2832.0,\n",
       " 2831.0,\n",
       " 2830.0,\n",
       " 2829.0,\n",
       " 2828.0,\n",
       " 2827.0,\n",
       " 2826.0,\n",
       " 2825.0,\n",
       " 2824.0,\n",
       " 2819.0,\n",
       " 2818.0,\n",
       " 2817.0,\n",
       " 2816.0,\n",
       " 2815.0,\n",
       " 2814.0,\n",
       " 2813.0,\n",
       " 2809.0,\n",
       " 2805.0,\n",
       " 2808.0,\n",
       " 2812.0,\n",
       " 2823.0,\n",
       " 2841.0,\n",
       " 2861.0,\n",
       " 2871.0,\n",
       " 2887.0,\n",
       " 2901.0,\n",
       " 2905.0,\n",
       " 2917.0,\n",
       " 2927.0,\n",
       " 2932.0,\n",
       " 2946.0,\n",
       " 2950.0,\n",
       " 2953.0,\n",
       " 2959.0,\n",
       " 2964.0,\n",
       " 2966.0,\n",
       " 2976.0,\n",
       " 2981.0,\n",
       " 2986.0,\n",
       " 2990.0,\n",
       " 2992.0,\n",
       " 2996.0,\n",
       " 2995.0,\n",
       " 3003.0,\n",
       " 3002.0,\n",
       " 3006.0,\n",
       " 3012.0,\n",
       " 3025.0,\n",
       " 3037.0,\n",
       " 3036.0,\n",
       " 3041.0,\n",
       " 3043.0,\n",
       " 3045.0,\n",
       " 3047.0,\n",
       " 3058.0,\n",
       " 3057.0,\n",
       " 3070.0,\n",
       " 3075.0,\n",
       " 3081.0]"
      ]
     },
     "execution_count": 109,
     "metadata": {},
     "output_type": "execute_result"
    }
   ],
   "source": [
    "nx.shortest_path(limb_gr,closest_node,e_node)"
   ]
  },
  {
   "cell_type": "code",
   "execution_count": 112,
   "metadata": {},
   "outputs": [
    {
     "name": "stdout",
     "output_type": "stream",
     "text": [
      "all_branch_pairings = [[ 5 11]]\n"
     ]
    }
   ],
   "source": [
    "#4) Find the branches that contain the two ends of the path\n",
    "curr_skeleton_path = sk.convert_graph_to_skeleton(limb_gr.subgraph(nx.shortest_path(limb_gr,closest_node,e_node)))\n",
    "curr_skeleton_path_len = sk.calculate_skeleton_distance(curr_skeleton_path)\n",
    "\n",
    "e_node_branches = nru.find_branch_with_specific_coordinate(curr_limb,e_node_coordinate)\n",
    "\n",
    "closest_node_branches =  nru.find_branch_with_specific_coordinate(curr_limb,closest_node_coordinate)\n",
    "\n",
    "#get all possible combinations\n",
    "all_branch_pairings = nu.unique_pairings_between_2_arrays(closest_node_branches,\n",
    "                                                          e_node_branches\n",
    "                                                         )\n",
    "if verbose:\n",
    "    print(f\"all_branch_pairings = {all_branch_pairings}\")"
   ]
  },
  {
   "cell_type": "code",
   "execution_count": 116,
   "metadata": {},
   "outputs": [
    {
     "name": "stdout",
     "output_type": "stream",
     "text": [
      "total_spine_density = 0.00023885774300493517\n",
      "scaled_branch_width = 644.7230905643621\n",
      "curr_skeleton_path_len = 99882.20305076375\n",
      "curr_vector_upward_distance = 95365.0\n",
      "upward ratio to length = 0.9547746954633355\n"
     ]
    }
   ],
   "source": [
    "#for st_branch,end_branch in all_branch_pairings\n",
    "#5) Find the shortest path between the two branches on the context network\n",
    "\n",
    "curr_pairing_idx = 0\n",
    "\n",
    "st_branch = all_branch_pairings[curr_pairing_idx][0]\n",
    "end_branch = all_branch_pairings[curr_pairing_idx][1]\n",
    "\n",
    "try:\n",
    "    branch_path = nx.shortest_path(curr_limb.concept_network,st_branch,end_branch)\n",
    "except:\n",
    "    print(f\"Couln't find path between branches\")\n",
    "\n",
    "#6) Get the subskeleton:\n",
    "#- Analyze for width and spine density (and if too thin or not spiny enough then continue)\n",
    "\n",
    "#total_skeleton = sk.stack_skeletons([curr_limb[k].skeleton for k in branch_path])\n",
    "skeleton_distance_per_branch = np.array([sk.calculate_skeleton_distance(curr_limb[k].skeleton) for k in branch_path])\n",
    "branch_widths = np.array([curr_limb[k].width_new[\"median_mesh_center\"] for k in branch_path])\n",
    "branch_spines = np.array([curr_limb[k].n_spines for k in branch_path])\n",
    "\n",
    "total_skeleton_distance = np.sum(skeleton_distance_per_branch)\n",
    "total_spine_density = np.sum(branch_spines)/np.sum(skeleton_distance_per_branch)\n",
    "scaled_branch_width = np.sum(skeleton_distance_per_branch*branch_widths)/(total_skeleton_distance)\n",
    "curr_vector_upward_distance\n",
    "upward_to_skeletal_length_ratio = curr_vector_upward_distance/curr_skeleton_path_len\n",
    "\n",
    "\n",
    "if verbose:\n",
    "    print(f\"total_spine_density = {total_spine_density}\")\n",
    "    print(f\"scaled_branch_width = {scaled_branch_width}\")\n",
    "    print(f\"curr_skeleton_path_len = {curr_skeleton_path_len}\")\n",
    "    print(f\"curr_vector_upward_distance = {curr_vector_upward_distance}\")\n",
    "    print(f\"upward ratio to length = {upward_to_skeletal_length_ratio}\")"
   ]
  },
  {
   "cell_type": "code",
   "execution_count": 117,
   "metadata": {},
   "outputs": [],
   "source": [
    "spine_density_threshold = 0.00001\n",
    "total_skeleton_distance_threshold = (apical_check_distance_max - apical_check_distance_min)/2\n",
    "apical_width_threshold = 350\n",
    "upward_distance_to_skeletal_distance_ratio_threshold = 0.85"
   ]
  },
  {
   "cell_type": "code",
   "execution_count": 118,
   "metadata": {},
   "outputs": [
    {
     "name": "stdout",
     "output_type": "stream",
     "text": [
      "Adding the following branch path as a apical pathway: [5, 7, 9, 11]\n"
     ]
    }
   ],
   "source": [
    "# Apply the restrictions\n",
    "if ((total_spine_density > spine_density_threshold) and\n",
    "    (total_skeleton_distance > total_skeleton_distance_threshold) and \n",
    "    (scaled_branch_width > apical_width_threshold) and\n",
    "    (upward_to_skeletal_length_ratio > upward_distance_to_skeletal_distance_ratio_threshold)):\n",
    "    print(f\"Adding the following branch path as a apical pathway: {branch_path}\")\n",
    "else:\n",
    "    print(\"Did not pass final filters to continuing\")"
   ]
  },
  {
   "cell_type": "code",
   "execution_count": null,
   "metadata": {},
   "outputs": [],
   "source": []
  }
 ],
 "metadata": {
  "kernelspec": {
   "display_name": "Python 3",
   "language": "python",
   "name": "python3"
  },
  "language_info": {
   "codemirror_mode": {
    "name": "ipython",
    "version": 3
   },
   "file_extension": ".py",
   "mimetype": "text/x-python",
   "name": "python",
   "nbconvert_exporter": "python",
   "pygments_lexer": "ipython3",
   "version": "3.6.9"
  }
 },
 "nbformat": 4,
 "nbformat_minor": 4
}
