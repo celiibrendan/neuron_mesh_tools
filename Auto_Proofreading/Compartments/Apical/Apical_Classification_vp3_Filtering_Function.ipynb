{
 "cells": [
  {
   "cell_type": "code",
   "execution_count": null,
   "metadata": {},
   "outputs": [],
   "source": [
    "\"\"\"\n",
    "To package Apical Filter into a function that\n",
    "can be used to filter inhibitory/excitatory\n",
    "\n",
    "\n",
    "\n",
    "\"\"\""
   ]
  },
  {
   "cell_type": "code",
   "execution_count": 2,
   "metadata": {},
   "outputs": [
    {
     "name": "stdout",
     "output_type": "stream",
     "text": [
      "The autoreload extension is already loaded. To reload it, use:\n",
      "  %reload_ext autoreload\n"
     ]
    }
   ],
   "source": [
    "%load_ext autoreload\n",
    "%autoreload 2"
   ]
  },
  {
   "cell_type": "code",
   "execution_count": 3,
   "metadata": {},
   "outputs": [],
   "source": [
    "from os import sys\n",
    "sys.path.append(\"/meshAfterParty/\")"
   ]
  },
  {
   "cell_type": "code",
   "execution_count": 4,
   "metadata": {},
   "outputs": [
    {
     "name": "stderr",
     "output_type": "stream",
     "text": [
      "INFO - 2021-01-22 09:49:50,188 - settings - Setting database.host to at-database.ad.bcm.edu\n",
      "INFO - 2021-01-22 09:49:50,189 - settings - Setting database.user to celiib\n",
      "INFO - 2021-01-22 09:49:50,190 - settings - Setting database.password to newceliipass\n",
      "INFO - 2021-01-22 09:49:50,202 - settings - Setting stores to {'minnie65': {'protocol': 'file', 'location': '/mnt/dj-stor01/platinum/minnie65', 'stage': '/mnt/dj-stor01/platinum/minnie65'}, 'meshes': {'protocol': 'file', 'location': '/mnt/dj-stor01/platinum/minnie65/02/meshes', 'stage': '/mnt/dj-stor01/platinum/minnie65/02/meshes'}, 'decimated_meshes': {'protocol': 'file', 'location': '/mnt/dj-stor01/platinum/minnie65/02/decimated_meshes', 'stage': '/mnt/dj-stor01/platinum/minnie65/02/decimated_meshes'}, 'skeletons': {'protocol': 'file', 'location': '/mnt/dj-stor01/platinum/minnie65/02/skeletons'}}\n",
      "INFO - 2021-01-22 09:49:50,203 - settings - Setting enable_python_native_blobs to True\n",
      "INFO - 2021-01-22 09:49:50,218 - connection - Connected celiib@at-database.ad.bcm.edu:3306\n"
     ]
    },
    {
     "name": "stdout",
     "output_type": "stream",
     "text": [
      "Connecting celiib@at-database.ad.bcm.edu:3306\n"
     ]
    },
    {
     "name": "stderr",
     "output_type": "stream",
     "text": [
      "INFO - 2021-01-22 09:49:50,489 - settings - Setting enable_python_native_blobs to True\n"
     ]
    }
   ],
   "source": [
    "from importlib import reload\n",
    "\n",
    "import neuron_utils as nru\n",
    "\n",
    "import neuron\n",
    "\n",
    "import neuron_visualizations as nviz\n",
    "\n",
    "import time\n",
    "\n",
    "import datajoint_utils as du\n",
    "\n",
    "import numpy as np\n",
    "\n",
    "import proofreading_utils as pru\n",
    "\n",
    "import preprocessing_vp2 as pre\n",
    "\n",
    "# -- For the axon classification --\n",
    "\n",
    "import neuron_searching as ns\n",
    "\n",
    "import skeleton_utils as sk\n",
    "\n",
    "import numpy_utils as nu\n",
    "\n",
    "import networkx_utils as xu\n",
    "\n",
    "import system_utils as su"
   ]
  },
  {
   "cell_type": "code",
   "execution_count": 5,
   "metadata": {},
   "outputs": [
    {
     "name": "stderr",
     "output_type": "stream",
     "text": [
      "INFO - 2021-01-22 09:50:01,725 - settings - Setting enable_python_native_blobs to True\n",
      "INFO - 2021-01-22 09:50:02,051 - settings - Setting enable_python_native_blobs to True\n"
     ]
    }
   ],
   "source": [
    "minnie,schema = du.configure_minnie_vm()"
   ]
  },
  {
   "cell_type": "markdown",
   "metadata": {},
   "source": [
    "# Importing the Neuron"
   ]
  },
  {
   "cell_type": "code",
   "execution_count": 6,
   "metadata": {},
   "outputs": [
    {
     "name": "stdout",
     "output_type": "stream",
     "text": [
      "Decompressing Neuron in minimal output mode...please wait\n"
     ]
    }
   ],
   "source": [
    "neuron_file = \"./864691135644605167_0_25\"\n",
    "neuron_obj = nru.decompress_neuron(neuron_file,neuron_file)"
   ]
  },
  {
   "cell_type": "code",
   "execution_count": 7,
   "metadata": {},
   "outputs": [
    {
     "name": "stdout",
     "output_type": "stream",
     "text": [
      "\n",
      " Working on visualization type: mesh\n",
      "\n",
      " Working on visualization type: skeleton\n"
     ]
    },
    {
     "data": {
      "application/vnd.jupyter.widget-view+json": {
       "model_id": "e604b91ee54a499c9ac6c03ed83fd0f3",
       "version_major": 2,
       "version_minor": 0
      },
      "text/plain": [
       "VBox(children=(Figure(camera=PerspectiveCamera(fov=46.0, position=(0.0, 0.0, 2.0), quaternion=(0.0, 0.0, 0.0, …"
      ]
     },
     "metadata": {},
     "output_type": "display_data"
    }
   ],
   "source": [
    "nviz.visualize_neuron(neuron_obj,\n",
    "                     limb_branch_dict=\"all\")"
   ]
  },
  {
   "cell_type": "markdown",
   "metadata": {},
   "source": [
    "# The function that will return the apical branches on a certain limb"
   ]
  },
  {
   "cell_type": "code",
   "execution_count": 9,
   "metadata": {},
   "outputs": [],
   "source": [
    "import networkx_utils as xu\n",
    "import skeleton_utils as sk\n",
    "import networkx as nx\n",
    "import numpy_utils as nu"
   ]
  },
  {
   "cell_type": "code",
   "execution_count": 15,
   "metadata": {},
   "outputs": [],
   "source": [
    "def apical_branch_candidates_on_limb(limb_obj,\n",
    "                                     \n",
    "                                    apical_check_distance_max = 100000,\n",
    "                                    apical_check_distance_min = 25000,\n",
    "                                    plot_restricted_skeleton = False,\n",
    "                                    plot_restricted_skeleton_with_endnodes=False,\n",
    "                                     \n",
    "                                     \n",
    "                                    angle_threshold = 30,\n",
    "                                    top_volume_vector = np.array([0,-1,0]),\n",
    "                                     \n",
    "                                     spine_density_threshold = 0.00001,\n",
    "                                    total_skeleton_distance_threshold_multiplier = 0.5,\n",
    "                                    apical_width_threshold = 350,\n",
    "                                    upward_distance_to_skeletal_distance_ratio_threshold = 0.85,\n",
    "                                    \n",
    "                                    verbose=False):\n",
    "    \"\"\"\n",
    "    Purpose: To identify the branches on the limb that are most likely \n",
    "    part of a large upward apical branch\n",
    "    \n",
    "    \n",
    "    Psuedoode:\n",
    "    0a) Getting the subskeleton region to analyze\n",
    "    0b) Divided the Restricted Skeleton into components to analyze\n",
    "    \n",
    "    For each connected component\n",
    "    1) Get all the end nodes of the subgraph\n",
    "    2) Subtract of the closest subgraph node to limb start\n",
    "    For each end node\n",
    "    3) Look at the vector between end nodes and closest node \n",
    "        (continue if not approximately straight up) and not long enough\n",
    "    4) Find the branches that contain the two ends of the path\n",
    "\n",
    "    For all combinations of branches:\n",
    "\n",
    "    5) Find the shortest path between the two branches on the context network\n",
    "    6) Get the subskeleton:\n",
    "    - Analyze for width and spine density (and if too thin or not spiny enough then continue)\n",
    "    7) If passed all tests then add the branch path as possible candidate\n",
    "    \n",
    "    \"\"\"\n",
    "    \n",
    "    \n",
    "    \n",
    "    curr_limb = limb_obj\n",
    "    apical_branches = []\n",
    "    \n",
    "    total_skeleton_distance_threshold = total_skeleton_distance_threshold_multiplier*(apical_check_distance_max - apical_check_distance_min)\n",
    "    \n",
    "    \n",
    "    #0a) Getting the subskeleton region to analyze\n",
    "    \n",
    "    \n",
    "    limb_gr = sk.convert_skeleton_to_graph(curr_limb.skeleton)\n",
    "    st_node = xu.get_graph_node_by_coordinate(limb_gr,curr_limb.current_starting_coordinate)\n",
    "    nodes_max_distance = xu.find_nodes_within_certain_distance_of_target_node(limb_gr,st_node,apical_check_distance_max)\n",
    "    nodes_min_distance = xu.find_nodes_within_certain_distance_of_target_node(limb_gr,st_node,apical_check_distance_min)\n",
    "    nodes_with_distance_range = np.setdiff1d(list(nodes_max_distance),list(nodes_min_distance))\n",
    "\n",
    "\n",
    "    restricted_limb_gr = limb_gr.subgraph(nodes_with_distance_range)\n",
    "    restricted_limb_sk = sk.convert_graph_to_skeleton(restricted_limb_gr)\n",
    "    \n",
    "    if plot_restricted_skeleton:\n",
    "        nviz.plot_objects(curr_limb.mesh,\n",
    "                         skeletons=[restricted_limb_sk])\n",
    "        \n",
    "        \n",
    "    #0b) Divided the Restricted Skeleton into components to analyze\n",
    "        \n",
    "    conn_comp = list([np.array(list(k)) for k in nx.connected_components(restricted_limb_gr)])\n",
    "    conn_comp_closest_nodes = [xu.shortest_path_between_two_sets_of_nodes(limb_gr,[st_node],k)[2]\n",
    "                               for k in conn_comp]\n",
    "    \n",
    "    if plot_restricted_skeleton_with_endnodes:\n",
    "        nviz.plot_objects(curr_limb.mesh,\n",
    "                     skeletons=[restricted_limb_sk],\n",
    "                     scatters=[xu.get_coordinate_by_graph_node(limb_gr,conn_comp_closest_nodes)],\n",
    "                     scatter_size=1)\n",
    "        \n",
    "        \n",
    "    \n",
    "    for component_idx in range(len(conn_comp)):\n",
    "        \n",
    "        # 1) Get all the end nodes of the subgraph\n",
    "        curr_cmpnt = conn_comp[component_idx]\n",
    "        closest_node = conn_comp_closest_nodes[component_idx]\n",
    "        closest_node_coordinate = xu.get_coordinate_by_graph_node(limb_gr,closest_node)\n",
    "\n",
    "        c_subgraph = restricted_limb_gr.subgraph(curr_cmpnt)\n",
    "        endnodes = xu.get_nodes_of_degree_k(c_subgraph,1)\n",
    "\n",
    "        #2) Subtract of the closest subgraph node to limb start\n",
    "        filtered_endnodes = np.setdiff1d(endnodes,closest_node)\n",
    "        filtered_endnodes_coordinates = xu.get_coordinate_by_graph_node(limb_gr,filtered_endnodes)\n",
    "\n",
    "        if verbose:\n",
    "            print(f\"Filered End nodes for component {component_idx}: {filtered_endnodes}\")\n",
    "            \n",
    "        \n",
    "        \n",
    "        for e_node_idx in range(len(filtered_endnodes)):\n",
    "            \n",
    "            #3) Look at the vector between end nodes and closest node \n",
    "            e_node = filtered_endnodes[e_node_idx]\n",
    "            e_node_coordinate = filtered_endnodes_coordinates[e_node_idx]\n",
    "\n",
    "            # nviz.plot_objects(curr_limb.mesh,\n",
    "            #                  skeletons=[restricted_limb_sk],\n",
    "            #                  scatters=[xu.get_coordinate_by_graph_node(limb_gr,[closest_node,e_node])],\n",
    "            #                  scatter_size=1)\n",
    "\n",
    "            curr_vector = e_node_coordinate-closest_node_coordinate\n",
    "            curr_vector_upward_distance = -curr_vector[1]\n",
    "            curr_vector_len = np.linalg.norm(curr_vector)\n",
    "\n",
    "            curr_vector_angle = nu.angle_between_vectors(top_volume_vector,curr_vector)\n",
    "\n",
    "            if verbose:\n",
    "                print(f\"End Node Candidate {e_node_idx} angle = {np.round(curr_vector_angle,2)}\"\n",
    "                      f\"\\n    Upward distance {np.round(curr_vector_upward_distance,2)}\")\n",
    "\n",
    "            reject_flag = False\n",
    "            if curr_vector_angle > angle_threshold:\n",
    "                if verbose:\n",
    "                    print(f\"Rejecting candidate because did not pass angle threshold of ess than {angle_threshold}\")\n",
    "                continue\n",
    "                \n",
    "                \n",
    "                \n",
    "            #4) Find the branches that contain the two ends of the path\n",
    "            curr_skeleton_path = sk.convert_graph_to_skeleton(limb_gr.subgraph(nx.shortest_path(limb_gr,closest_node,e_node)))\n",
    "            curr_skeleton_path_len = sk.calculate_skeleton_distance(curr_skeleton_path)\n",
    "\n",
    "            e_node_branches = nru.find_branch_with_specific_coordinate(curr_limb,e_node_coordinate)\n",
    "\n",
    "            closest_node_branches =  nru.find_branch_with_specific_coordinate(curr_limb,closest_node_coordinate)\n",
    "\n",
    "            #get all possible combinations\n",
    "            all_branch_pairings = nu.unique_pairings_between_2_arrays(closest_node_branches,\n",
    "                                                                      e_node_branches\n",
    "                                                                     )\n",
    "            if verbose:\n",
    "                print(f\"all_branch_pairings = {all_branch_pairings}\")\n",
    "                \n",
    "                \n",
    "                \n",
    "            \n",
    "            #for st_branch,end_branch in all_branch_pairings\n",
    "            #5) Find the shortest path between the two branches on the context network\n",
    "\n",
    "            for curr_pairing_idx  in range(len(all_branch_pairings)):\n",
    "\n",
    "                st_branch = all_branch_pairings[curr_pairing_idx][0]\n",
    "                end_branch = all_branch_pairings[curr_pairing_idx][1]\n",
    "\n",
    "                try:\n",
    "                    branch_path = nx.shortest_path(curr_limb.concept_network,st_branch,end_branch)\n",
    "                except:\n",
    "                    print(f\"Couln't find path between branches\")\n",
    "\n",
    "                #6) Get the subskeleton:\n",
    "                #- Analyze for width and spine density (and if too thin or not spiny enough then continue)\n",
    "\n",
    "                #total_skeleton = sk.stack_skeletons([curr_limb[k].skeleton for k in branch_path])\n",
    "                skeleton_distance_per_branch = np.array([sk.calculate_skeleton_distance(curr_limb[k].skeleton) for k in branch_path])\n",
    "                branch_widths = np.array([curr_limb[k].width_new[\"median_mesh_center\"] for k in branch_path])\n",
    "                branch_spines = np.array([curr_limb[k].n_spines for k in branch_path])\n",
    "\n",
    "                total_skeleton_distance = np.sum(skeleton_distance_per_branch)\n",
    "                total_spine_density = np.sum(branch_spines)/np.sum(skeleton_distance_per_branch)\n",
    "                scaled_branch_width = np.sum(skeleton_distance_per_branch*branch_widths)/(total_skeleton_distance)\n",
    "                curr_vector_upward_distance\n",
    "                upward_to_skeletal_length_ratio = curr_vector_upward_distance/curr_skeleton_path_len\n",
    "\n",
    "\n",
    "                if verbose:\n",
    "                    print(f\"total_spine_density = {total_spine_density}\")\n",
    "                    print(f\"scaled_branch_width = {scaled_branch_width}\")\n",
    "                    print(f\"curr_skeleton_path_len = {curr_skeleton_path_len}\")\n",
    "                    print(f\"curr_vector_upward_distance = {curr_vector_upward_distance}\")\n",
    "                    print(f\"upward ratio to length = {upward_to_skeletal_length_ratio}\")\n",
    "                    \n",
    "                # Apply the restrictions\n",
    "                if ((total_spine_density > spine_density_threshold) and\n",
    "                    (total_skeleton_distance > total_skeleton_distance_threshold) and \n",
    "                    (scaled_branch_width > apical_width_threshold) and\n",
    "                    (upward_to_skeletal_length_ratio > upward_distance_to_skeletal_distance_ratio_threshold)):\n",
    "                    \n",
    "                    print(f\"Adding the following branch path as a apical pathway: {branch_path}\")\n",
    "                    apical_branches += list(branch_path)\n",
    "                else:\n",
    "                    print(\"Did not pass final filters to continuing\")\n",
    "                    continue\n",
    "    \n",
    "    return np.unique(apical_branches)\n",
    "            \n"
   ]
  },
  {
   "cell_type": "markdown",
   "metadata": {},
   "source": [
    "# Larger Funtion that will find apical candidates for all limbs "
   ]
  },
  {
   "cell_type": "code",
   "execution_count": 20,
   "metadata": {},
   "outputs": [],
   "source": [
    "import proofreading_utils as pru"
   ]
  },
  {
   "cell_type": "code",
   "execution_count": 27,
   "metadata": {},
   "outputs": [],
   "source": [
    "def apical_classification(neuron_obj,\n",
    "                          apical_soma_angle_threshold=40,\n",
    "                          plot_viable_limbs = False,\n",
    "                          label_neuron_branches=True,\n",
    "                          plot_apical_branches=True,\n",
    "                          verbose=False,\n",
    "                         **kwargs):\n",
    "    \"\"\"\n",
    "    Will compute a limb branch dict of all \n",
    "    the branches that are part of a probably \n",
    "    long reaching apical branch\n",
    "    \n",
    "    Pseudocode: \n",
    "    1) Split the neuron and take the first neuron obj (assume only some in neuron)\n",
    "    2) Check only 1 soma \n",
    "    3) Filter the limbs for viable aplical limbs based on the soma angle\n",
    "    4) Iterate through the viable limbs to find the apical branches on each limb\n",
    "    \n",
    "    Ex:\n",
    "    apical_classification(neuron_obj,\n",
    "                          apical_soma_angle_threshold=40,\n",
    "                          plot_viable_limbs = False,\n",
    "                          label_neuron_branches=True,\n",
    "                          plot_apical_branches=True,\n",
    "                          verbose=False)\n",
    "    \"\"\"\n",
    "    \n",
    "    split_time = time.time()\n",
    "    neuron_obj_list = pru.split_neuron(neuron_obj,\n",
    "                                      plot_seperated_neurons=False,\n",
    "                                      verbose=verbose)\n",
    "    \n",
    "    if verbose:\n",
    "        print(f\"Total time for split = {time.time() - split_time}\")\n",
    "        \n",
    "    if len(neuron_obj_list)==0:\n",
    "        raise Exception(f\"Split Neurons not just one: {neuron_obj_list}\")\n",
    "        \n",
    "    \n",
    "    curr_neuron_obj = neuron_obj\n",
    "    \n",
    "    \n",
    "    viable_limbs = nru.viable_axon_limbs_by_starting_angle(curr_neuron_obj,\n",
    "                                       soma_angle_threshold=apical_soma_angle_threshold,\n",
    "                                       above_threshold=False,\n",
    "                                       verbose=verbose)\n",
    "\n",
    "    if verbose:\n",
    "        print(f\"viable_limbs = {viable_limbs}\")\n",
    "        \n",
    "        \n",
    "    if plot_viable_limbs:\n",
    "        ret_col = nviz.visualize_neuron(curr_neuron_obj,\n",
    "                     visualize_type=[\"mesh\",\"skeleton\"],\n",
    "                     limb_branch_dict={f\"L{k}\":\"all\" for k in viable_limbs},\n",
    "                     return_color_dict=True)\n",
    "        \n",
    "    \n",
    "    apical_limb_branch_dict = dict()\n",
    "    \n",
    "    for limb_idx in viable_limbs:\n",
    "        \n",
    "        curr_limb = curr_neuron_obj[limb_idx]\n",
    "\n",
    "        if verbose:\n",
    "            print(f\"Working on limb {limb_idx}\")\n",
    "        \n",
    "        curr_limb_apical_branches = apical_branch_candidates_on_limb(curr_limb,\n",
    "                                         verbose=verbose,\n",
    "                                         **kwargs)\n",
    "        \n",
    "        apical_limb_branch_dict.update({f\"L{limb_idx}\":curr_limb_apical_branches})\n",
    "        \n",
    "    \n",
    "    if plot_apical_branches:\n",
    "        nviz.visualize_neuron(curr_neuron_obj,\n",
    "                             visualize_type=[\"mesh\"],\n",
    "                             limb_branch_dict=apical_limb_branch_dict,\n",
    "                             mesh_color=\"blue\",\n",
    "                             mesh_whole_neuron=True,\n",
    "                             mesh_color_alpha=1)\n",
    "        \n",
    "    if label_neuron_branches:\n",
    "        nru.add_branch_label(curr_neuron_obj,\n",
    "                    limb_branch_dict=apical_limb_branch_dict,\n",
    "                    labels=\"apical\")\n",
    "        \n",
    "    return apical_limb_branch_dict"
   ]
  },
  {
   "cell_type": "code",
   "execution_count": 30,
   "metadata": {},
   "outputs": [],
   "source": [
    "import classification_utils as clu"
   ]
  },
  {
   "cell_type": "code",
   "execution_count": 32,
   "metadata": {},
   "outputs": [
    {
     "name": "stdout",
     "output_type": "stream",
     "text": [
      "\n",
      "\n",
      "------ Working on Soma 0 -------\n",
      "local_floating_meshes = []\n",
      "Processing Neuorn in minimal output mode...please wait\n",
      "Total time for neuron instance creation = 2.052189826965332\n",
      "\n",
      "\n",
      "Number of seperate neuron objects = 1\n",
      "functions_list = [<function soma_starting_angle at 0x7ff4200272f0>]\n",
      "Adding the following branch path as a apical pathway: [4, 5, 7]\n",
      "\n",
      " Working on visualization type: mesh\n"
     ]
    },
    {
     "data": {
      "application/vnd.jupyter.widget-view+json": {
       "model_id": "7b7c8c5d7ec64bcab37ceeb7bfb86c82",
       "version_major": 2,
       "version_minor": 0
      },
      "text/plain": [
       "VBox(children=(Figure(camera=PerspectiveCamera(fov=46.0, position=(0.0, 0.0, 2.0), quaternion=(0.0, 0.0, 0.0, …"
      ]
     },
     "metadata": {},
     "output_type": "display_data"
    },
    {
     "data": {
      "text/plain": [
       "{'L0': array([4, 5, 7])}"
      ]
     },
     "execution_count": 32,
     "metadata": {},
     "output_type": "execute_result"
    }
   ],
   "source": [
    "clu.apical_classification(neuron_obj,\n",
    "                          apical_soma_angle_threshold=40,\n",
    "                          plot_viable_limbs = False,\n",
    "                          label_neuron_branches=True,\n",
    "                          plot_apical_branches=True,\n",
    "                          verbose=False)"
   ]
  }
 ],
 "metadata": {
  "kernelspec": {
   "display_name": "Python 3",
   "language": "python",
   "name": "python3"
  },
  "language_info": {
   "codemirror_mode": {
    "name": "ipython",
    "version": 3
   },
   "file_extension": ".py",
   "mimetype": "text/x-python",
   "name": "python",
   "nbconvert_exporter": "python",
   "pygments_lexer": "ipython3",
   "version": "3.6.9"
  }
 },
 "nbformat": 4,
 "nbformat_minor": 4
}
