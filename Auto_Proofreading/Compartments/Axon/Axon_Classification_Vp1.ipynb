{
 "cells": [
  {
   "cell_type": "code",
   "execution_count": 1,
   "metadata": {},
   "outputs": [
    {
     "data": {
      "text/plain": [
       "'\\nPurpose: \\n\\nTo Determine which of the branches are \\npotential axon candidates\\n\\n'"
      ]
     },
     "execution_count": 1,
     "metadata": {},
     "output_type": "execute_result"
    }
   ],
   "source": [
    "\"\"\"\n",
    "Purpose: \n",
    "\n",
    "To Determine which of the branches are \n",
    "potential axon candidates\n",
    "\n",
    "\"\"\""
   ]
  },
  {
   "cell_type": "code",
   "execution_count": 2,
   "metadata": {},
   "outputs": [],
   "source": [
    "%load_ext autoreload\n",
    "%autoreload 2"
   ]
  },
  {
   "cell_type": "code",
   "execution_count": 3,
   "metadata": {},
   "outputs": [],
   "source": [
    "from os import sys\n",
    "sys.path.append(\"/meshAfterParty/\")"
   ]
  },
  {
   "cell_type": "code",
   "execution_count": 18,
   "metadata": {},
   "outputs": [],
   "source": [
    "from importlib import reload\n",
    "\n",
    "import neuron_utils as nru\n",
    "\n",
    "import neuron\n",
    "\n",
    "import neuron_visualizations as nviz\n",
    "\n",
    "import time\n",
    "\n",
    "import datajoint_utils as du\n",
    "\n",
    "import numpy as np\n",
    "\n",
    "import proofreading_utils as pru\n",
    "import preprocessing_vp2 as pre"
   ]
  },
  {
   "cell_type": "markdown",
   "metadata": {},
   "source": [
    "# Loading the Neuron Mesh"
   ]
  },
  {
   "cell_type": "code",
   "execution_count": 5,
   "metadata": {},
   "outputs": [],
   "source": [
    "import trimesh_utils as tu\n",
    "current_neuron_mesh = tu.load_mesh_no_processing(\"/notebooks/test_neurons/meshafterparty_processed/12345_double_soma_meshafterparty_9_29.off\")\n"
   ]
  },
  {
   "cell_type": "code",
   "execution_count": 6,
   "metadata": {},
   "outputs": [],
   "source": [
    "segment_id = 12345\n",
    "description=\"classic_double_soma_12_29\"\n",
    "somas=None"
   ]
  },
  {
   "cell_type": "code",
   "execution_count": 10,
   "metadata": {},
   "outputs": [
    {
     "name": "stdout",
     "output_type": "stream",
     "text": [
      "\n",
      "--- Beginning preprocessing of 12345---\n",
      "--- 0) Having to preprocess the Neuron becuase no preprocessed data\n",
      "Please wait this could take a while.....\n",
      "Skipping the hole filling\n",
      "use_meshafterparty = True\n",
      "Current Arguments Using (adjusted for decimation):\n",
      " large_mesh_threshold= 5000.0 \n",
      "large_mesh_threshold_inner = 5000.0 \n",
      "soma_size_threshold = 937.5 \n",
      "soma_size_threshold_max = 12000.0\n",
      "outer_decimation_ratio = 0.25\n",
      "inner_decimation_ratio = 0.25\n",
      "xvfb-run -n 1662 -s \"-screen 0 800x600x24\" meshlabserver $@  -i /notebooks/Auto_Proofreading/Compartments/Axon/temp/neuron_13179.off -o /notebooks/Auto_Proofreading/Compartments/Axon/temp/neuron_13179_fill_holes.off -s /notebooks/Auto_Proofreading/Compartments/Axon/temp/fill_holes_549391.mls\n",
      "removed temporary input file: /notebooks/Auto_Proofreading/Compartments/Axon/temp/neuron_13179.off\n",
      "removed temporary output file: /notebooks/Auto_Proofreading/Compartments/Axon/temp/neuron_13179_fill_holes.off\n",
      "/notebooks/Auto_Proofreading/Compartments/Axon/temp/fill_holes_549391.mls is being deleted....\n",
      "xvfb-run -n 5350 -s \"-screen 0 800x600x24\" meshlabserver $@  -i /notebooks/Auto_Proofreading/Compartments/Axon/temp/neuron_26970.off -o /notebooks/Auto_Proofreading/Compartments/Axon/temp/neuron_26970_remove_interior.off -s /notebooks/Auto_Proofreading/Compartments/Axon/temp/remove_interior_293945.mls\n",
      "removed temporary input file: /notebooks/Auto_Proofreading/Compartments/Axon/temp/neuron_26970.off\n",
      "removed temporary output file: /notebooks/Auto_Proofreading/Compartments/Axon/temp/neuron_26970_remove_interior.off\n",
      "/notebooks/Auto_Proofreading/Compartments/Axon/temp/remove_interior_293945.mls is being deleted....\n",
      "THERE WERE NO MESH PIECES GREATER THAN THE significance_threshold\n",
      "No significant (700) interior meshes present\n",
      "largest is 455\n",
      "xvfb-run -n 9242 -s \"-screen 0 800x600x24\" meshlabserver $@  -i /notebooks/Auto_Proofreading/Compartments/Axon/12345/neuron_12345.off -o /notebooks/Auto_Proofreading/Compartments/Axon/12345/neuron_12345_decimated.off -s /notebooks/Auto_Proofreading/Compartments/Axon/12345/decimation_meshlab_25787507.mls\n",
      "Total found significant pieces before Poisson = [<trimesh.Trimesh(vertices.shape=(139768, 3), faces.shape=(284352, 3))>]\n",
      "----- working on large mesh #0: <trimesh.Trimesh(vertices.shape=(139768, 3), faces.shape=(284352, 3))>\n",
      "remove_inside_pieces requested \n",
      "xvfb-run -n 3727 -s \"-screen 0 800x600x24\" meshlabserver $@  -i /notebooks/Auto_Proofreading/Compartments/Axon/temp/neuron_51202.off -o /notebooks/Auto_Proofreading/Compartments/Axon/temp/neuron_51202_fill_holes.off -s /notebooks/Auto_Proofreading/Compartments/Axon/temp/fill_holes_631777.mls\n",
      "removed temporary input file: /notebooks/Auto_Proofreading/Compartments/Axon/temp/neuron_51202.off\n",
      "removed temporary output file: /notebooks/Auto_Proofreading/Compartments/Axon/temp/neuron_51202_fill_holes.off\n",
      "/notebooks/Auto_Proofreading/Compartments/Axon/temp/fill_holes_631777.mls is being deleted....\n",
      "xvfb-run -n 4583 -s \"-screen 0 800x600x24\" meshlabserver $@  -i /notebooks/Auto_Proofreading/Compartments/Axon/temp/neuron_50011.off -o /notebooks/Auto_Proofreading/Compartments/Axon/temp/neuron_50011_remove_interior.off -s /notebooks/Auto_Proofreading/Compartments/Axon/temp/remove_interior_88809.mls\n",
      "removed temporary input file: /notebooks/Auto_Proofreading/Compartments/Axon/temp/neuron_50011.off\n",
      "removed temporary output file: /notebooks/Auto_Proofreading/Compartments/Axon/temp/neuron_50011_remove_interior.off\n",
      "/notebooks/Auto_Proofreading/Compartments/Axon/temp/remove_interior_88809.mls is being deleted....\n",
      "THERE WERE NO MESH PIECES GREATER THAN THE significance_threshold\n",
      "No significant (1000) interior meshes present\n",
      "largest is 252\n",
      "pre_largest_mesh_path = /notebooks/Auto_Proofreading/Compartments/Axon/12345/neuron_12345_decimated_largest_piece.off\n",
      "xvfb-run -n 5083 -s \"-screen 0 800x600x24\" meshlabserver $@  -i /notebooks/Auto_Proofreading/Compartments/Axon/12345/neuron_12345_decimated_largest_piece.off -o /notebooks/Auto_Proofreading/Compartments/Axon/12345/neuron_12345_decimated_largest_piece_poisson.off -s /notebooks/Auto_Proofreading/Compartments/Axon/12345/poisson_877446.mls\n",
      "Total found significant pieces AFTER Poisson = [<trimesh.Trimesh(vertices.shape=(151128, 3), faces.shape=(302264, 3))>, <trimesh.Trimesh(vertices.shape=(42559, 3), faces.shape=(85114, 3))>, <trimesh.Trimesh(vertices.shape=(3167, 3), faces.shape=(6330, 3))>, <trimesh.Trimesh(vertices.shape=(3100, 3), faces.shape=(6196, 3))>]\n",
      "----- working on mesh after poisson #0: <trimesh.Trimesh(vertices.shape=(151128, 3), faces.shape=(302264, 3))>\n",
      "xvfb-run -n 5043 -s \"-screen 0 800x600x24\" meshlabserver $@  -i /notebooks/Auto_Proofreading/Compartments/Axon/12345/neuron_12345_decimated_largest_piece_poisson_largest_inner.off -o /notebooks/Auto_Proofreading/Compartments/Axon/12345/neuron_12345_decimated_largest_piece_poisson_largest_inner_decimated.off -s /notebooks/Auto_Proofreading/Compartments/Axon/12345/decimation_meshlab_25932858.mls\n",
      "\n",
      "-------Splits after inner decimation len = 1--------\n",
      "\n",
      "done exporting decimated mesh: neuron_12345_decimated_largest_piece_poisson_largest_inner.off\n",
      "largest_mesh_path_inner_decimated_clean = <trimesh.Trimesh(vertices.shape=(37774, 3), faces.shape=(75556, 3))>\n",
      "\n",
      "1) Starting: Mesh importing and Pymesh fix\n",
      "loading mesh from vertices and triangles array\n",
      "1) Finished: Mesh importing and Pymesh fix: 0.0007495880126953125\n",
      "2) Staring: Generating CGAL segmentation for neuron\n",
      "Done writing OFF file\n",
      "\n",
      "Starting CGAL segmentation\n",
      "Right before cgal segmentation, clusters = 3, smoothness = 0.2, path_and_filename = /notebooks/Auto_Proofreading/Compartments/Axon/temp/1234500_fixed \n",
      "1\n",
      "Finished CGAL segmentation algorithm: 8.931761741638184\n",
      "2) Finished: Generating CGAL segmentation for neuron: 10.181757926940918\n",
      "3) Staring: Generating Graph Structure and Identifying Soma using soma size threshold  = 3000\n",
      "my_list_keys = [0, 1, 2, 3, 4, 5, 6, 7, 8, 9, 10, 11, 12, 13, 14, 15, 16, 17, 18, 19, 20, 21, 22, 23, 24, 25, 26]\n",
      "changed the median value\n",
      "changed the mean value\n",
      "changed the max value\n",
      "changed the median value\n",
      "changed the mean value\n",
      "changed the max value\n",
      "soma_index = 9\n",
      "3) Finished: Generating Graph Structure and Identifying Soma: 0.02540445327758789\n",
      "Not finding the apical because soma_only option selected\n",
      "6) Staring: Classifying Entire Neuron\n",
      "Total Labels found = {'unsure', 'soma'}\n",
      "6) Finished: Classifying Entire Neuron: 4.5299530029296875e-05\n",
      "7) Staring: Transfering Segmentation Labels to Face Labels\n",
      "7) Finished: Transfering Segmentation Labels to Face Labels: 0.07040548324584961\n",
      "8) Staring: Generating final Vertex and Face Labels\n",
      "8) Finished: Generating final Vertex and Face Labels: 0.3623030185699463\n",
      "Returning the soma_sdf value AND the classifier\n",
      "soma_sdf_value = 0.85348\n",
      "segmentation[sorted_medians],median_values[sorted_medians] = (array([ 9,  0, 23,  4,  2, 17, 12, 22,  8, 24, 14, 25,  7, 20,  3, 16, 13,\n",
      "       21,  6, 19, 18, 11,  5, 10,  1, 26, 15]), array([0.85348   , 0.1526975 , 0.113518  , 0.109762  , 0.1089385 ,\n",
      "       0.091745  , 0.0895308 , 0.0835979 , 0.0678356 , 0.0568538 ,\n",
      "       0.0527978 , 0.0462665 , 0.04549975, 0.04516045, 0.0443893 ,\n",
      "       0.0427765 , 0.0417306 , 0.0415761 , 0.0412519 , 0.04028725,\n",
      "       0.040191  , 0.0398989 , 0.0397497 , 0.0356991 , 0.0355391 ,\n",
      "       0.0338604 , 0.0322887 ]))\n",
      "Sizes = [6255, 10608, 733, 1523, 2152, 1575, 521, 221, 481, 182, 411, 4661, 4498, 6182, 3897, 3573, 1729, 6191, 3992, 3180, 1157, 3949, 741, 3329, 2237, 985, 593]\n",
      "soma_size_threshold = 937.5\n",
      "soma_size_threshold_max=12000.0\n",
      "valid_soma_segments_width\n",
      "      ------ Found 1 viable somas: [9]\n",
      "Using Poisson Surface Reconstruction for watertightness in soma_volume_ratio\n",
      "xvfb-run -n 8783 -s \"-screen 0 800x600x24\" meshlabserver $@  -i /notebooks/Auto_Proofreading/Compartments/Axon/Poisson_temp/neuron_233263.off -o /notebooks/Auto_Proofreading/Compartments/Axon/Poisson_temp/neuron_233263_poisson.off -s /notebooks/Auto_Proofreading/Compartments/Axon/Poisson_temp/poisson_780342.mls\n",
      "removed temporary input file: /notebooks/Auto_Proofreading/Compartments/Axon/Poisson_temp/neuron_233263.off\n",
      "removed temporary output file: /notebooks/Auto_Proofreading/Compartments/Axon/Poisson_temp/neuron_233263_poisson.off\n",
      "mesh.is_watertight = True\n",
      "/notebooks/Auto_Proofreading/Compartments/Axon/Poisson_temp/poisson_780342.mls is being deleted....\n",
      "Inside sphere validater: ratio_val = 2.880447849880988\n",
      "----- working on mesh after poisson #1: <trimesh.Trimesh(vertices.shape=(42559, 3), faces.shape=(85114, 3))>\n"
     ]
    },
    {
     "name": "stdout",
     "output_type": "stream",
     "text": [
      "xvfb-run -n 289 -s \"-screen 0 800x600x24\" meshlabserver $@  -i /notebooks/Auto_Proofreading/Compartments/Axon/12345/neuron_12345_decimated_largest_piece_poisson_largest_inner.off -o /notebooks/Auto_Proofreading/Compartments/Axon/12345/neuron_12345_decimated_largest_piece_poisson_largest_inner_decimated.off -s /notebooks/Auto_Proofreading/Compartments/Axon/12345/decimation_meshlab_25932858.mls\n",
      "\n",
      "-------Splits after inner decimation len = 1--------\n",
      "\n",
      "done exporting decimated mesh: neuron_12345_decimated_largest_piece_poisson_largest_inner.off\n",
      "largest_mesh_path_inner_decimated_clean = <trimesh.Trimesh(vertices.shape=(10639, 3), faces.shape=(21274, 3))>\n",
      "\n",
      "1) Starting: Mesh importing and Pymesh fix\n",
      "loading mesh from vertices and triangles array\n",
      "1) Finished: Mesh importing and Pymesh fix: 0.0007109642028808594\n",
      "2) Staring: Generating CGAL segmentation for neuron\n",
      "Done writing OFF file\n",
      "\n",
      "Starting CGAL segmentation\n",
      "Right before cgal segmentation, clusters = 3, smoothness = 0.2, path_and_filename = /notebooks/Auto_Proofreading/Compartments/Axon/temp/1234501_fixed \n",
      "1\n",
      "Finished CGAL segmentation algorithm: 1.7961666584014893\n",
      "2) Finished: Generating CGAL segmentation for neuron: 2.1335062980651855\n",
      "3) Staring: Generating Graph Structure and Identifying Soma using soma size threshold  = 3000\n",
      "my_list_keys = [0, 1, 2, 3, 4, 5, 6, 7, 8, 9, 10, 11]\n",
      "changed the median value\n",
      "changed the mean value\n",
      "changed the max value\n",
      "changed the median value\n",
      "changed the mean value\n",
      "changed the max value\n",
      "changed the median value\n",
      "changed the mean value\n",
      "changed the max value\n",
      "soma_index = 7\n",
      "3) Finished: Generating Graph Structure and Identifying Soma: 0.007325887680053711\n",
      "Not finding the apical because soma_only option selected\n",
      "6) Staring: Classifying Entire Neuron\n",
      "Total Labels found = {'unsure', 'soma'}\n",
      "6) Finished: Classifying Entire Neuron: 4.291534423828125e-05\n",
      "7) Staring: Transfering Segmentation Labels to Face Labels\n",
      "7) Finished: Transfering Segmentation Labels to Face Labels: 0.01965045928955078\n",
      "8) Staring: Generating final Vertex and Face Labels\n",
      "8) Finished: Generating final Vertex and Face Labels: 0.1003272533416748\n",
      "Returning the soma_sdf value AND the classifier\n",
      "soma_sdf_value = 0.860162\n",
      "segmentation[sorted_medians],median_values[sorted_medians] = (array([ 7, 11,  3, 10,  8,  4,  1,  2,  0,  5,  9,  6]), array([0.860162  , 0.1291715 , 0.1248115 , 0.104002  , 0.100924  ,\n",
      "       0.06404805, 0.0577484 , 0.0550072 , 0.0447385 , 0.0407943 ,\n",
      "       0.0398564 , 0.0315156 ]))\n",
      "Sizes = [4263, 764, 1018, 475, 636, 2758, 657, 5733, 3093, 1145, 283, 449]\n",
      "soma_size_threshold = 937.5\n",
      "soma_size_threshold_max=12000.0\n",
      "valid_soma_segments_width\n",
      "      ------ Found 1 viable somas: [7]\n",
      "Using Poisson Surface Reconstruction for watertightness in soma_volume_ratio\n",
      "xvfb-run -n 5772 -s \"-screen 0 800x600x24\" meshlabserver $@  -i /notebooks/Auto_Proofreading/Compartments/Axon/Poisson_temp/neuron_975193.off -o /notebooks/Auto_Proofreading/Compartments/Axon/Poisson_temp/neuron_975193_poisson.off -s /notebooks/Auto_Proofreading/Compartments/Axon/Poisson_temp/poisson_52910.mls\n",
      "removed temporary input file: /notebooks/Auto_Proofreading/Compartments/Axon/Poisson_temp/neuron_975193.off\n",
      "removed temporary output file: /notebooks/Auto_Proofreading/Compartments/Axon/Poisson_temp/neuron_975193_poisson.off\n",
      "mesh.is_watertight = True\n",
      "/notebooks/Auto_Proofreading/Compartments/Axon/Poisson_temp/poisson_52910.mls is being deleted....\n",
      "Inside sphere validater: ratio_val = 2.827530227481668\n",
      "----- working on mesh after poisson #2: <trimesh.Trimesh(vertices.shape=(3167, 3), faces.shape=(6330, 3))>\n",
      "xvfb-run -n 5797 -s \"-screen 0 800x600x24\" meshlabserver $@  -i /notebooks/Auto_Proofreading/Compartments/Axon/12345/neuron_12345_decimated_largest_piece_poisson_largest_inner.off -o /notebooks/Auto_Proofreading/Compartments/Axon/12345/neuron_12345_decimated_largest_piece_poisson_largest_inner_decimated.off -s /notebooks/Auto_Proofreading/Compartments/Axon/12345/decimation_meshlab_25932858.mls\n",
      "\n",
      "-------Splits after inner decimation len = 1--------\n",
      "\n",
      "done exporting decimated mesh: neuron_12345_decimated_largest_piece_poisson_largest_inner.off\n",
      "largest_mesh_path_inner_decimated_clean = <trimesh.Trimesh(vertices.shape=(793, 3), faces.shape=(1582, 3))>\n",
      "\n",
      "1) Starting: Mesh importing and Pymesh fix\n",
      "loading mesh from vertices and triangles array\n",
      "1) Finished: Mesh importing and Pymesh fix: 0.0005748271942138672\n",
      "2) Staring: Generating CGAL segmentation for neuron\n",
      "Done writing OFF file\n",
      "\n",
      "Starting CGAL segmentation\n",
      "Right before cgal segmentation, clusters = 3, smoothness = 0.2, path_and_filename = /notebooks/Auto_Proofreading/Compartments/Axon/temp/1234502_fixed \n",
      "1\n",
      "Finished CGAL segmentation algorithm: 0.09601974487304688\n",
      "2) Finished: Generating CGAL segmentation for neuron: 0.127028226852417\n",
      "3) Staring: Generating Graph Structure and Identifying Soma using soma size threshold  = 3000\n",
      "my_list_keys = [0, 1, 2, 3, 4, 5, 6]\n",
      "soma_index = -1\n",
      "3) Finished: Generating Graph Structure and Identifying Soma: 0.0007195472717285156\n",
      "Not finding the apical because soma_only option selected\n",
      "6) Staring: Classifying Entire Neuron\n",
      "Total Labels found = {'unsure'}\n",
      "6) Finished: Classifying Entire Neuron: 5.698204040527344e-05\n",
      "7) Staring: Transfering Segmentation Labels to Face Labels\n",
      "7) Finished: Transfering Segmentation Labels to Face Labels: 0.001638174057006836\n",
      "8) Staring: Generating final Vertex and Face Labels\n",
      "8) Finished: Generating final Vertex and Face Labels: 0.007931709289550781\n",
      "Returning the soma_sdf value AND the classifier\n",
      "soma_sdf_value = 0\n",
      "segmentation[sorted_medians],median_values[sorted_medians] = (array([4, 2, 5, 0, 1, 3, 6]), array([0.752659 , 0.686745 , 0.496492 , 0.491079 , 0.4545865, 0.203339 ,\n",
      "       0.0910781]))\n",
      "Sizes = [103, 257, 108, 767, 270, 64, 13]\n",
      "soma_size_threshold = 937.5\n",
      "soma_size_threshold_max=12000.0\n",
      "valid_soma_segments_width\n",
      "----- working on mesh after poisson #3: <trimesh.Trimesh(vertices.shape=(3100, 3), faces.shape=(6196, 3))>\n",
      "xvfb-run -n 5128 -s \"-screen 0 800x600x24\" meshlabserver $@  -i /notebooks/Auto_Proofreading/Compartments/Axon/12345/neuron_12345_decimated_largest_piece_poisson_largest_inner.off -o /notebooks/Auto_Proofreading/Compartments/Axon/12345/neuron_12345_decimated_largest_piece_poisson_largest_inner_decimated.off -s /notebooks/Auto_Proofreading/Compartments/Axon/12345/decimation_meshlab_25932858.mls\n",
      "\n",
      "-------Splits after inner decimation len = 1--------\n",
      "\n",
      "done exporting decimated mesh: neuron_12345_decimated_largest_piece_poisson_largest_inner.off\n",
      "largest_mesh_path_inner_decimated_clean = <trimesh.Trimesh(vertices.shape=(776, 3), faces.shape=(1548, 3))>\n",
      "\n",
      "1) Starting: Mesh importing and Pymesh fix\n",
      "loading mesh from vertices and triangles array\n",
      "1) Finished: Mesh importing and Pymesh fix: 0.00022530555725097656\n",
      "2) Staring: Generating CGAL segmentation for neuron\n",
      "Done writing OFF file\n",
      "\n",
      "Starting CGAL segmentation\n",
      "Right before cgal segmentation, clusters = 3, smoothness = 0.2, path_and_filename = /notebooks/Auto_Proofreading/Compartments/Axon/temp/1234503_fixed \n",
      "1\n",
      "Finished CGAL segmentation algorithm: 0.08670902252197266\n",
      "2) Finished: Generating CGAL segmentation for neuron: 0.11077475547790527\n",
      "3) Staring: Generating Graph Structure and Identifying Soma using soma size threshold  = 3000\n",
      "my_list_keys = [0, 1, 2]\n",
      "soma_index = -1\n",
      "3) Finished: Generating Graph Structure and Identifying Soma: 0.0005848407745361328\n",
      "Not finding the apical because soma_only option selected\n",
      "6) Staring: Classifying Entire Neuron\n",
      "Total Labels found = {'unsure'}\n",
      "6) Finished: Classifying Entire Neuron: 4.172325134277344e-05\n",
      "7) Staring: Transfering Segmentation Labels to Face Labels\n",
      "7) Finished: Transfering Segmentation Labels to Face Labels: 0.0014641284942626953\n",
      "8) Staring: Generating final Vertex and Face Labels\n",
      "8) Finished: Generating final Vertex and Face Labels: 0.006943225860595703\n",
      "Returning the soma_sdf value AND the classifier\n",
      "soma_sdf_value = 0\n",
      "segmentation[sorted_medians],median_values[sorted_medians] = (array([2, 1, 0]), array([0.626289 , 0.485475 , 0.2994975]))\n",
      "Sizes = [1229, 235, 84]\n",
      "soma_size_threshold = 937.5\n",
      "soma_size_threshold_max=12000.0\n",
      "valid_soma_segments_width\n",
      "      ------ Found 1 viable somas: [2]\n",
      "Using Poisson Surface Reconstruction for watertightness in soma_volume_ratio\n",
      "xvfb-run -n 816 -s \"-screen 0 800x600x24\" meshlabserver $@  -i /notebooks/Auto_Proofreading/Compartments/Axon/Poisson_temp/neuron_948102.off -o /notebooks/Auto_Proofreading/Compartments/Axon/Poisson_temp/neuron_948102_poisson.off -s /notebooks/Auto_Proofreading/Compartments/Axon/Poisson_temp/poisson_129913.mls\n"
     ]
    },
    {
     "name": "stdout",
     "output_type": "stream",
     "text": [
      "removed temporary input file: /notebooks/Auto_Proofreading/Compartments/Axon/Poisson_temp/neuron_948102.off\n",
      "removed temporary output file: /notebooks/Auto_Proofreading/Compartments/Axon/Poisson_temp/neuron_948102_poisson.off\n",
      "mesh.is_watertight = True\n",
      "/notebooks/Auto_Proofreading/Compartments/Axon/Poisson_temp/poisson_129913.mls is being deleted....\n",
      "Inside sphere validater: ratio_val = 243.70909586956054\n",
      "--->This soma mesh was not added because it did not pass the sphere validation:\n",
      " soma_mesh = <trimesh.Trimesh(vertices.shape=(618, 3), faces.shape=(1229, 3))>, curr_side_len_check = True, curr_volume_check = False\n",
      "\n",
      "\n",
      "\n",
      " Total time for run = 214.6900863647461\n",
      "Before Filtering the number of somas found = 2\n",
      "Performing Soma Mesh Backtracking to original mesh\n",
      "# total split meshes = 79\n",
      "viable_meshes = [0]\n",
      "There were 78 pieces found after size threshold\n",
      "# of soma containing seperate meshes = 1\n",
      "meshes with somas = {0: [0]}\n",
      "\n",
      "\n",
      "----Working on soma-containing mesh piece 0----\n",
      "current_soma_mesh_list = [<trimesh.Trimesh(vertices.shape=(3190, 3), faces.shape=(6255, 3))>]\n",
      "current_mesh = <trimesh.Trimesh(vertices.shape=(571170, 3), faces.shape=(1147156, 3))>\n",
      "\n",
      "inside Soma subtraction\n",
      "Total Time for soma mesh cancellation = 1.765\n",
      "mesh_pieces_without_soma = [<trimesh.Trimesh(vertices.shape=(232471, 3), faces.shape=(466929, 3))>, <trimesh.Trimesh(vertices.shape=(153577, 3), faces.shape=(308195, 3))>, <trimesh.Trimesh(vertices.shape=(57007, 3), faces.shape=(114743, 3))>, <trimesh.Trimesh(vertices.shape=(55016, 3), faces.shape=(110265, 3))>, <trimesh.Trimesh(vertices.shape=(51861, 3), faces.shape=(104099, 3))>, <trimesh.Trimesh(vertices.shape=(1218, 3), faces.shape=(2394, 3))>]\n",
      "Total time for Subtract Soam = 1.7662713527679443\n",
      "Total time for Original_mesh_faces_map for mesh_pieces without soma= 0.713447093963623\n",
      "poisson_backtrack_distance_threshold = None\n",
      "Using Poisson Surface Reconstruction for watertightness in soma_volume_ratio\n",
      "xvfb-run -n 1200 -s \"-screen 0 800x600x24\" meshlabserver $@  -i /notebooks/Auto_Proofreading/Compartments/Axon/Poisson_temp/neuron_254914.off -o /notebooks/Auto_Proofreading/Compartments/Axon/Poisson_temp/neuron_254914_poisson.off -s /notebooks/Auto_Proofreading/Compartments/Axon/Poisson_temp/poisson_208768.mls\n",
      "removed temporary input file: /notebooks/Auto_Proofreading/Compartments/Axon/Poisson_temp/neuron_254914.off\n",
      "removed temporary output file: /notebooks/Auto_Proofreading/Compartments/Axon/Poisson_temp/neuron_254914_poisson.off\n",
      "mesh.is_watertight = True\n",
      "/notebooks/Auto_Proofreading/Compartments/Axon/Poisson_temp/poisson_208768.mls is being deleted....\n",
      "Inside sphere validater: ratio_val = 3.0284378852084055\n",
      "Performing Soma Mesh Backtracking to original mesh\n",
      "# total split meshes = 79\n",
      "viable_meshes = [0]\n",
      "There were 78 pieces found after size threshold\n",
      "# of soma containing seperate meshes = 1\n",
      "meshes with somas = {0: [0]}\n",
      "\n",
      "\n",
      "----Working on soma-containing mesh piece 0----\n",
      "current_soma_mesh_list = [<trimesh.Trimesh(vertices.shape=(2156, 3), faces.shape=(4263, 3))>]\n",
      "current_mesh = <trimesh.Trimesh(vertices.shape=(571170, 3), faces.shape=(1147156, 3))>\n",
      "\n",
      "inside Soma subtraction\n",
      "Total Time for soma mesh cancellation = 1.774\n",
      "mesh_pieces_without_soma = [<trimesh.Trimesh(vertices.shape=(426323, 3), faces.shape=(856337, 3))>, <trimesh.Trimesh(vertices.shape=(57782, 3), faces.shape=(115877, 3))>, <trimesh.Trimesh(vertices.shape=(29372, 3), faces.shape=(58872, 3))>, <trimesh.Trimesh(vertices.shape=(29178, 3), faces.shape=(58597, 3))>, <trimesh.Trimesh(vertices.shape=(14750, 3), faces.shape=(29642, 3))>]\n",
      "Total time for Subtract Soam = 1.7753427028656006\n",
      "Total time for Original_mesh_faces_map for mesh_pieces without soma= 0.6880195140838623\n",
      "poisson_backtrack_distance_threshold = None\n",
      "Using Poisson Surface Reconstruction for watertightness in soma_volume_ratio\n",
      "xvfb-run -n 7338 -s \"-screen 0 800x600x24\" meshlabserver $@  -i /notebooks/Auto_Proofreading/Compartments/Axon/Poisson_temp/neuron_742939.off -o /notebooks/Auto_Proofreading/Compartments/Axon/Poisson_temp/neuron_742939_poisson.off -s /notebooks/Auto_Proofreading/Compartments/Axon/Poisson_temp/poisson_98033.mls\n",
      "removed temporary input file: /notebooks/Auto_Proofreading/Compartments/Axon/Poisson_temp/neuron_742939.off\n",
      "removed temporary output file: /notebooks/Auto_Proofreading/Compartments/Axon/Poisson_temp/neuron_742939_poisson.off\n",
      "mesh.is_watertight = True\n",
      "/notebooks/Auto_Proofreading/Compartments/Axon/Poisson_temp/poisson_98033.mls is being deleted....\n",
      "Inside sphere validater: ratio_val = 3.2996004434865336\n",
      "Saved object at /notebooks/Auto_Proofreading/Compartments/Axon/filtered_soma_list.pbz2\n",
      "File size is 4.550699 MB\n",
      "Skipping the segmentatio filter at end\n",
      "removing mesh interior before segmentation\n",
      "xvfb-run -n 5089 -s \"-screen 0 800x600x24\" meshlabserver $@  -i /notebooks/Auto_Proofreading/Compartments/Axon/temp/neuron_82030.off -o /notebooks/Auto_Proofreading/Compartments/Axon/temp/neuron_82030_fill_holes.off -s /notebooks/Auto_Proofreading/Compartments/Axon/temp/fill_holes_740538.mls\n",
      "removed temporary input file: /notebooks/Auto_Proofreading/Compartments/Axon/temp/neuron_82030.off\n",
      "removed temporary output file: /notebooks/Auto_Proofreading/Compartments/Axon/temp/neuron_82030_fill_holes.off\n",
      "/notebooks/Auto_Proofreading/Compartments/Axon/temp/fill_holes_740538.mls is being deleted....\n",
      "xvfb-run -n 2821 -s \"-screen 0 800x600x24\" meshlabserver $@  -i /notebooks/Auto_Proofreading/Compartments/Axon/temp/neuron_69832.off -o /notebooks/Auto_Proofreading/Compartments/Axon/temp/neuron_69832_remove_interior.off -s /notebooks/Auto_Proofreading/Compartments/Axon/temp/remove_interior_852478.mls\n",
      "removed temporary input file: /notebooks/Auto_Proofreading/Compartments/Axon/temp/neuron_69832.off\n",
      "removed temporary output file: /notebooks/Auto_Proofreading/Compartments/Axon/temp/neuron_69832_remove_interior.off\n",
      "/notebooks/Auto_Proofreading/Compartments/Axon/temp/remove_interior_852478.mls is being deleted....\n",
      "THERE WERE NO MESH PIECES GREATER THAN THE significance_threshold\n",
      "No significant (1000) interior meshes present\n",
      "largest is 196\n",
      "Doing the soma segmentation filter at end\n"
     ]
    },
    {
     "data": {
      "application/vnd.jupyter.widget-view+json": {
       "model_id": "c8a502ecd8d74518b3ac8e191c31727f",
       "version_major": 2,
       "version_minor": 0
      },
      "text/plain": [
       "HBox(children=(FloatProgress(value=0.0, max=7.0), HTML(value='')))"
      ]
     },
     "metadata": {},
     "output_type": "display_data"
    },
    {
     "name": "stdout",
     "output_type": "stream",
     "text": [
      "\n",
      "Largest hole before segmentation = 296632.54401808785, after = 611533.4811623684,\n",
      "ratio = 2.0615859368589, difference = 314900.9371442806\n",
      "Skipping the segmentatio filter at end\n",
      "removing mesh interior before segmentation\n",
      "xvfb-run -n 1430 -s \"-screen 0 800x600x24\" meshlabserver $@  -i /notebooks/Auto_Proofreading/Compartments/Axon/temp/neuron_89949.off -o /notebooks/Auto_Proofreading/Compartments/Axon/temp/neuron_89949_fill_holes.off -s /notebooks/Auto_Proofreading/Compartments/Axon/temp/fill_holes_953752.mls\n",
      "removed temporary input file: /notebooks/Auto_Proofreading/Compartments/Axon/temp/neuron_89949.off\n",
      "removed temporary output file: /notebooks/Auto_Proofreading/Compartments/Axon/temp/neuron_89949_fill_holes.off\n",
      "/notebooks/Auto_Proofreading/Compartments/Axon/temp/fill_holes_953752.mls is being deleted....\n",
      "xvfb-run -n 4204 -s \"-screen 0 800x600x24\" meshlabserver $@  -i /notebooks/Auto_Proofreading/Compartments/Axon/temp/neuron_67008.off -o /notebooks/Auto_Proofreading/Compartments/Axon/temp/neuron_67008_remove_interior.off -s /notebooks/Auto_Proofreading/Compartments/Axon/temp/remove_interior_600177.mls\n",
      "removed temporary input file: /notebooks/Auto_Proofreading/Compartments/Axon/temp/neuron_67008.off\n",
      "removed temporary output file: /notebooks/Auto_Proofreading/Compartments/Axon/temp/neuron_67008_remove_interior.off\n",
      "/notebooks/Auto_Proofreading/Compartments/Axon/temp/remove_interior_600177.mls is being deleted....\n",
      "THERE WERE NO MESH PIECES GREATER THAN THE significance_threshold\n",
      "No significant (1000) interior meshes present\n",
      "largest is 628\n",
      "Doing the soma segmentation filter at end\n"
     ]
    },
    {
     "data": {
      "application/vnd.jupyter.widget-view+json": {
       "model_id": "93a86e0ad9af436a89a716e4e2fd5fd6",
       "version_major": 2,
       "version_minor": 0
      },
      "text/plain": [
       "HBox(children=(FloatProgress(value=0.0, max=5.0), HTML(value='')))"
      ]
     },
     "metadata": {},
     "output_type": "display_data"
    },
    {
     "name": "stdout",
     "output_type": "stream",
     "text": [
      "\n",
      "Largest hole before segmentation = 101868.505754373, after = 1043428.4149404205,\n",
      "ratio = 10.242895065687447, difference = 941559.9091860475\n",
      "Soma List = [<trimesh.Trimesh(vertices.shape=(20419, 3), faces.shape=(40531, 3))>, <trimesh.Trimesh(vertices.shape=(13928, 3), faces.shape=(27831, 3))>]\n",
      "soma_mesh_list_centers = [array([756951.59392233, 958934.16523826, 874272.94729908]), array([863965.45847214, 994501.70777571, 859769.72105112])]\n",
      "xvfb-run -n 2792 -s \"-screen 0 800x600x24\" meshlabserver $@  -i /notebooks/Auto_Proofreading/Compartments/Axon/temp/neuron_90213.off -o /notebooks/Auto_Proofreading/Compartments/Axon/temp/neuron_90213_remove_interior.off -s /notebooks/Auto_Proofreading/Compartments/Axon/temp/remove_interior_30039.mls\n",
      "removed temporary input file: /notebooks/Auto_Proofreading/Compartments/Axon/temp/neuron_90213.off\n",
      "removed temporary output file: /notebooks/Auto_Proofreading/Compartments/Axon/temp/neuron_90213_remove_interior.off\n",
      "/notebooks/Auto_Proofreading/Compartments/Axon/temp/remove_interior_30039.mls is being deleted....\n",
      "THERE WERE NO MESH PIECES GREATER THAN THE significance_threshold\n",
      "No significant (700) interior meshes present\n",
      "largest is 455\n",
      "Total time for removing interior = 48.74923133850098\n",
      "Total time for splitting mesh = 0.8347735404968262\n",
      "# total split meshes = 79\n",
      "There were 78 pieces found after size threshold\n",
      "\n",
      "-----Before filtering away multiple disconneted soma pieces-----\n",
      "# of soma containing seperate meshes = 1\n",
      "meshes with somas = {0: [0, 1]}\n",
      "Number of not_processed_soma_containing_meshes = 0\n",
      "\n",
      "-----After filtering away multiple disconneted soma pieces-----\n",
      "# of soma containing seperate meshes = 1\n",
      "meshes with somas = {0: [0, 1]}\n",
      "\n",
      "\n",
      "----Working on soma-containing mesh piece 0----\n",
      "\n",
      "inside Soma subtraction\n",
      "Total Time for soma mesh cancellation = 1.78\n",
      "Total time for Subtract Soam = 1.7809953689575195\n",
      "Total time for Original_mesh_faces_map for mesh_pieces without soma= 0.8314685821533203\n",
      "Total time for Original_mesh_faces_map for somas= 0.6725304126739502\n",
      "new_floating_pieces = []\n",
      "Total time for sig_non_soma_pieces= 11.464025974273682\n",
      "Total time for split= 1.1920928955078125e-06\n",
      "Total time for mesh_pieces_connectivity= 17.007185697555542\n",
      "# of insignificant_limbs = 0 with trimesh : []\n",
      "# of not_processed_soma_containing_meshes = 0 with trimesh : []\n",
      "\n",
      "\n",
      "----- Working on Proper Limb # 0 ---------\n",
      "meshparty_segment_size = 100\n",
      "root_curr = [757248.8 949474.6 871715.8]\n",
      "Time for preparing soma vertices and root: 0.0002503395080566406\n",
      "invalidation_d = 12000\n",
      "cc_vertex_thresh = 10\n"
     ]
    },
    {
     "name": "stderr",
     "output_type": "stream",
     "text": [
      "\r",
      "  0%|          | 0/1 [00:00<?, ?it/s]"
     ]
    },
    {
     "data": {
      "application/vnd.jupyter.widget-view+json": {
       "model_id": "d9c34b1afdaf43289a71eac098911690",
       "version_major": 2,
       "version_minor": 0
      },
      "text/plain": [
       "HBox(children=(FloatProgress(value=0.0, max=153314.0), HTML(value='')))"
      ]
     },
     "metadata": {},
     "output_type": "display_data"
    },
    {
     "name": "stderr",
     "output_type": "stream",
     "text": [
      "100%|██████████| 1/1 [00:03<00:00,  3.38s/it]"
     ]
    },
    {
     "name": "stdout",
     "output_type": "stream",
     "text": [
      "\n"
     ]
    },
    {
     "name": "stderr",
     "output_type": "stream",
     "text": [
      "\n"
     ]
    },
    {
     "name": "stdout",
     "output_type": "stream",
     "text": [
      "meshparty_segment_size = 100\n",
      "Time for 1st pass MP skeletonization: 4.73781418800354\n",
      "connecting at the root\n",
      "branches_touching_root = [60]\n",
      "length of Graph = 15706\n",
      "Working on path [7923. 7950. 7993. 8001.]\n",
      "path_degrees = [3, 2, 2, 3]\n",
      "After combining close endpoints max(kept_branches_idx) = 60, len(kept_branches_idx) = 60\n",
      "empty_indices % = 0.0\n",
      " conflict_indices % = 0.013085916550466588\n"
     ]
    },
    {
     "data": {
      "application/vnd.jupyter.widget-view+json": {
       "model_id": "8d7017e72ca24c85bbff1cb63a804554",
       "version_major": 2,
       "version_minor": 0
      },
      "text/plain": [
       "HBox(children=(FloatProgress(value=0.0, max=28.0), HTML(value='')))"
      ]
     },
     "metadata": {},
     "output_type": "display_data"
    },
    {
     "name": "stdout",
     "output_type": "stream",
     "text": [
      "\n",
      "AFTER face_lookup_resolved_test\n"
     ]
    },
    {
     "data": {
      "application/vnd.jupyter.widget-view+json": {
       "model_id": "cce43b26d02e45ef9658dcb250e72cb8",
       "version_major": 2,
       "version_minor": 0
      },
      "text/plain": [
       "HBox(children=(FloatProgress(value=0.0, max=60.0), HTML(value='')))"
      ]
     },
     "metadata": {},
     "output_type": "display_data"
    },
    {
     "name": "stdout",
     "output_type": "stream",
     "text": [
      "\n",
      "Decomposing first pass: 15.125329971313477\n",
      "Attempting to use MeshAfterParty Skeletonization and Mesh Correspondence\n",
      "Another print\n",
      "Found len(mesh_large_idx) MAP candidates: [15744, 1763, 9025, 4845, 5632, 2392, 2951, 1984, 2287, 4216, 11544, 11107, 7851, 15941, 4556, 10056, 15273, 656, 214, 7932, 1007, 2607, 12828, 896, 8848, 11432, 11086, 4672, 2777, 2614, 9875, 2520, 2258, 7367, 10491, 12961, 15420, 15989, 3327]\n",
      "mesh_large_connectivity: 1.8949849605560303\n",
      "Finding MAP candidates connected components: 0.0003948211669921875\n",
      "len(filtered_pieces) = 2\n",
      "skeleton_connectivity_MP : 0.23841214179992676\n",
      "Grouping MP Sublimbs by Graph: 0.0344233512878418\n",
      "Divinding into MP and MAP pieces: 7.152557373046875e-07\n",
      "--- Working on MAP piece 0---\n",
      "MAP Filtering Soma Pieces: 0.016570568084716797\n",
      "inside skeletonize_connected_branch and use_surface_after_CGAL=False, surface_reconstruction_size=1000\n",
      "The mesh passed has 21 pieces so just taking the largest one <trimesh.Trimesh(vertices.shape=(135479, 3), faces.shape=(271309, 3))>\n",
      "     Starting Screened Poisson\n",
      "xvfb-run -n 5559 -s \"-screen 0 800x600x24\" meshlabserver $@  -i /notebooks/Auto_Proofreading/Compartments/Axon/temp/None.off -o /notebooks/Auto_Proofreading/Compartments/Axon/temp/None_poisson.off -s /notebooks/Auto_Proofreading/Compartments/Axon/temp/poisson_933850.mls\n",
      "removed temporary input file: /notebooks/Auto_Proofreading/Compartments/Axon/temp/None.off\n",
      "removed temporary output file: /notebooks/Auto_Proofreading/Compartments/Axon/temp/None_poisson.off\n",
      "Using the close holes feature\n",
      "xvfb-run -n 2056 -s \"-screen 0 800x600x24\" meshlabserver $@  -i /notebooks/Auto_Proofreading/Compartments/Axon/temp/neuron_81534.off -o /notebooks/Auto_Proofreading/Compartments/Axon/temp/neuron_81534_fill_holes.off -s /notebooks/Auto_Proofreading/Compartments/Axon/temp/fill_holes_33201.mls\n",
      "removed temporary input file: /notebooks/Auto_Proofreading/Compartments/Axon/temp/neuron_81534.off\n",
      "removed temporary output file: /notebooks/Auto_Proofreading/Compartments/Axon/temp/neuron_81534_fill_holes.off\n",
      "-----Time for Screened Poisson= 64.09480595588684\n",
      "mesh_pieces = [<trimesh.Trimesh(vertices.shape=(328438, 3), faces.shape=(656928, 3))>]\n",
      "     Starting Calcification (Changed back where stitches large poissons)\n",
      "min_edge_length = 75\n",
      "node_degrees = [2 2 2 2 2 2 2 2 2 2 2 2 3 2 2 2 2 2 2 3 2 2 2 2 2 2 2 2]\n",
      "node_degrees = [2 2 2 2 2 2 2 2 3 2 2 2 2 3]\n",
      "node_degrees = [2 2 2 2 2 3 2 2 2 3 2 2 3]\n",
      "node_degrees = [3 2 4 2 2 2 2 2 2 2 2]\n",
      "node_degrees = [3 2 2 2 3 3 3 2 2]\n",
      "node_degrees = [3 2 2 2 3 3 2 2]\n",
      "node_degrees = [2 4 2 2]\n",
      "node_degrees = [3 3 2 2]\n",
      "node_degrees = [3 3 3]\n"
     ]
    },
    {
     "data": {
      "application/vnd.jupyter.widget-view+json": {
       "model_id": "4dc9d36702c34cbeaa27bb9ebef13d4d",
       "version_major": 2,
       "version_minor": 0
      },
      "text/plain": [
       "HBox(children=(FloatProgress(value=1.0, bar_style='info', max=1.0), HTML(value='')))"
      ]
     },
     "metadata": {},
     "output_type": "display_data"
    },
    {
     "name": "stdout",
     "output_type": "stream",
     "text": [
      "\n",
      "No skeletons to stack so returning empty list\n",
      "len_subgraphs AT BEGINNING of the loop\n"
     ]
    },
    {
     "data": {
      "application/vnd.jupyter.widget-view+json": {
       "model_id": "f6359fddf46c45de99f3a9d9e686202c",
       "version_major": 2,
       "version_minor": 0
      },
      "text/plain": [
       "HBox(children=(FloatProgress(value=0.0, max=1.0), HTML(value='')))"
      ]
     },
     "metadata": {},
     "output_type": "display_data"
    },
    {
     "name": "stdout",
     "output_type": "stream",
     "text": [
      "all graph is one component!\n",
      "\n",
      "Total time for skeleton stitching = 0.30406880378723145\n",
      "The process was using a temp folder\n",
      "Checking connected components after skeletonize_connected_branch\n",
      "    Total time for skeletonizing branch: 125.42802405357361\n",
      "Checking connected components after removing cycles\n",
      "Total time for mesh KDTree = 1.7069149017333984\n",
      "sbv[0].reshape(-1,3) = [[757248.8 949474.6 871715.8]]\n",
      "closest_sk_pt_coord BEFORE = [756851. 948250. 874012.]\n",
      "current_skeleton.shape = (9301, 2, 3)\n",
      "Current stitch point was a branch or endpoint\n",
      "change_status for create soma extending pieces = False\n",
      "closest_sk_pt_coord AFTER = [756851. 948250. 874012.]\n",
      "skipping soma 0 because closest skeleton node was already end node\n",
      "endpoints_must_keep = {0: array([[756851., 948250., 874012.]])}\n",
      "    Total time for Fixing Skeleton Soma Endpoint Extension : 9.47258996963501\n",
      "filter_end_node_length = 4500\n",
      "Using Distance measure skeletal_distance\n",
      "endpoints_must_keep = [[756851. 948250. 874012.]]\n",
      "Number of end_nodes BEFORE filtering = 325\n",
      "all_single_nodes_to_eliminate = [194]\n"
     ]
    },
    {
     "data": {
      "application/vnd.jupyter.widget-view+json": {
       "model_id": "29e939a8903442cf87c6a6fad5e851ab",
       "version_major": 2,
       "version_minor": 0
      },
      "text/plain": [
       "HBox(children=(FloatProgress(value=0.0, max=316.0), HTML(value='')))"
      ]
     },
     "metadata": {},
     "output_type": "display_data"
    },
    {
     "name": "stdout",
     "output_type": "stream",
     "text": [
      "\n",
      "Checking connected components after clean_skeleton\n",
      "after DISTANCE cleaning limb size of skeleton = (7626, 2, 3)\n",
      "********COMBINING CLOSE SKELETON NODES WITHIN 700 DISTANCE**********\n",
      "Found 2 valid paths to replace\n",
      "valid_paths = [array([2398., 2402., 2404., 2410.]), array([3953., 3989., 3995., 4016., 4037.])]\n",
      "valid_path_lengths = [508.43061225433075, 442.8068275214607]\n",
      "length of Graph = 7624\n",
      "Working on path [2398. 2402. 2404. 2410.]\n",
      "path_degrees = [3, 2, 2, 3]\n",
      "Working on path [3953. 3989. 3995. 4016. 4037.]\n",
      "path_degrees = [3, 2, 2, 2, 3]\n",
      "node_degrees = [2 2 2 2 2 2 2 2 2 4]\n",
      "node_degrees = [2 4 2 2 2]\n",
      "skeletonize_and_clean_connected_branch_CGAL: 196.4220893383026\n",
      "Working on limb correspondence for #0 MAP piece\n"
     ]
    },
    {
     "data": {
      "application/vnd.jupyter.widget-view+json": {
       "model_id": "8a215acbdcb246cda84a5425efd232e8",
       "version_major": 2,
       "version_minor": 0
      },
      "text/plain": [
       "HBox(children=(FloatProgress(value=1.0, bar_style='info', max=1.0), HTML(value='')))"
      ]
     },
     "metadata": {},
     "output_type": "display_data"
    },
    {
     "name": "stdout",
     "output_type": "stream",
     "text": [
      "\n",
      "Total time for decomposition = 35.1033821105957\n",
      "mesh_correspondence_first_pass: 35.10340595245361\n",
      "Limb decomposed into 25 branches\n",
      "divided_skeleton_graph_recovered = (7603, 2, 3) and \n",
      "current_mesh_data[0]['branch_skeletons_cleaned'].shape = (7603, 2, 3)\n",
      "\n",
      "Number of connected components in deocmposed recovered graph = 1\n",
      "Number of connected components in cleaned skeleton graph= 1\n",
      "The downsampled branches number of connected components = 1\n",
      "Empty submeshes = []\n",
      "\n",
      "\n",
      "--- Working on 1-to-1 correspondence-----\n",
      "max(original_labels),len(original_labels) = (24, 25)\n",
      "empty_indices % = 0.10023218958463863\n",
      " conflict_indices % = 0.026329561788228355\n"
     ]
    },
    {
     "data": {
      "application/vnd.jupyter.widget-view+json": {
       "model_id": "8e8b8826c417484d95d2263a27c47159",
       "version_major": 2,
       "version_minor": 0
      },
      "text/plain": [
       "HBox(children=(FloatProgress(value=0.0, max=690.0), HTML(value='')))"
      ]
     },
     "metadata": {},
     "output_type": "display_data"
    },
    {
     "name": "stdout",
     "output_type": "stream",
     "text": [
      "\n",
      "AFTER face_lookup_resolved_test\n",
      "Took 0 iterations to expand the label back\n",
      "empty_indices % = 0.0\n",
      " conflict_indices % = 0.0\n"
     ]
    },
    {
     "data": {
      "application/vnd.jupyter.widget-view+json": {
       "model_id": "95ca0a5ac2ea419e9f7681d341ab2129",
       "version_major": 2,
       "version_minor": 0
      },
      "text/plain": [
       "HBox(children=(FloatProgress(value=1.0, bar_style='info', max=1.0), HTML(value='')))"
      ]
     },
     "metadata": {},
     "output_type": "display_data"
    },
    {
     "name": "stdout",
     "output_type": "stream",
     "text": [
      "\n",
      "AFTER face_lookup_resolved_test\n"
     ]
    },
    {
     "data": {
      "application/vnd.jupyter.widget-view+json": {
       "model_id": "6411cea28ec14f6bb0618bd59d706a81",
       "version_major": 2,
       "version_minor": 0
      },
      "text/plain": [
       "HBox(children=(FloatProgress(value=0.0, max=25.0), HTML(value='')))"
      ]
     },
     "metadata": {},
     "output_type": "display_data"
    },
    {
     "name": "stdout",
     "output_type": "stream",
     "text": [
      "\n",
      "Total time for MAP sublimb #0 mesh processing = 256.5663583278656\n",
      "correspondence_1_to_1: 25.024173736572266\n",
      "--- Working on MAP piece 1---\n",
      "MAP Filtering Soma Pieces: 0.0024220943450927734\n",
      "inside skeletonize_connected_branch and use_surface_after_CGAL=False, surface_reconstruction_size=1000\n",
      "The mesh passed has 6 pieces so just taking the largest one <trimesh.Trimesh(vertices.shape=(1834, 3), faces.shape=(3609, 3))>\n",
      "     Starting Screened Poisson\n",
      "xvfb-run -n 4449 -s \"-screen 0 800x600x24\" meshlabserver $@  -i /notebooks/Auto_Proofreading/Compartments/Axon/temp/None.off -o /notebooks/Auto_Proofreading/Compartments/Axon/temp/None_poisson.off -s /notebooks/Auto_Proofreading/Compartments/Axon/temp/poisson_984294.mls\n",
      "removed temporary input file: /notebooks/Auto_Proofreading/Compartments/Axon/temp/None.off\n",
      "removed temporary output file: /notebooks/Auto_Proofreading/Compartments/Axon/temp/None_poisson.off\n",
      "Using the close holes feature\n",
      "xvfb-run -n 3840 -s \"-screen 0 800x600x24\" meshlabserver $@  -i /notebooks/Auto_Proofreading/Compartments/Axon/temp/neuron_68520.off -o /notebooks/Auto_Proofreading/Compartments/Axon/temp/neuron_68520_fill_holes.off -s /notebooks/Auto_Proofreading/Compartments/Axon/temp/fill_holes_794941.mls\n",
      "removed temporary input file: /notebooks/Auto_Proofreading/Compartments/Axon/temp/neuron_68520.off\n",
      "removed temporary output file: /notebooks/Auto_Proofreading/Compartments/Axon/temp/neuron_68520_fill_holes.off\n",
      "-----Time for Screened Poisson= 6.604921579360962\n",
      "mesh_pieces = [<trimesh.Trimesh(vertices.shape=(5299, 3), faces.shape=(10594, 3))>]\n",
      "     Starting Calcification (Changed back where stitches large poissons)\n",
      "min_edge_length = 75\n"
     ]
    },
    {
     "data": {
      "application/vnd.jupyter.widget-view+json": {
       "model_id": "3f54cd4a9b29440c869513c4f16be62f",
       "version_major": 2,
       "version_minor": 0
      },
      "text/plain": [
       "HBox(children=(FloatProgress(value=1.0, bar_style='info', max=1.0), HTML(value='')))"
      ]
     },
     "metadata": {},
     "output_type": "display_data"
    },
    {
     "name": "stdout",
     "output_type": "stream",
     "text": [
      "\n",
      "No skeletons to stack so returning empty list\n",
      "len_subgraphs AT BEGINNING of the loop\n"
     ]
    },
    {
     "data": {
      "application/vnd.jupyter.widget-view+json": {
       "model_id": "5d80a824434b411d9839cbb1133d1b8a",
       "version_major": 2,
       "version_minor": 0
      },
      "text/plain": [
       "HBox(children=(FloatProgress(value=0.0, max=1.0), HTML(value='')))"
      ]
     },
     "metadata": {},
     "output_type": "display_data"
    },
    {
     "name": "stdout",
     "output_type": "stream",
     "text": [
      "all graph is one component!\n",
      "\n",
      "Total time for skeleton stitching = 0.025708675384521484\n",
      "The process was using a temp folder\n",
      "Checking connected components after skeletonize_connected_branch\n",
      "    Total time for skeletonizing branch: 7.008430480957031\n",
      "Checking connected components after removing cycles\n",
      "    Total time for Fixing Skeleton Soma Endpoint Extension : 0.007148265838623047\n",
      "filter_end_node_length = 4500\n",
      "Using Distance measure skeletal_distance\n"
     ]
    },
    {
     "data": {
      "application/vnd.jupyter.widget-view+json": {
       "model_id": "f31324657d2b4fa6b9aabe3b50ce529a",
       "version_major": 2,
       "version_minor": 0
      },
      "text/plain": [
       "HBox(children=(FloatProgress(value=0.0, max=3.0), HTML(value='')))"
      ]
     },
     "metadata": {},
     "output_type": "display_data"
    },
    {
     "name": "stdout",
     "output_type": "stream",
     "text": [
      "\n",
      "Checking connected components after clean_skeleton\n",
      "after DISTANCE cleaning limb size of skeleton = (149, 2, 3)\n",
      "********COMBINING CLOSE SKELETON NODES WITHIN 700 DISTANCE**********\n",
      "Found 0 valid paths to replace\n",
      "valid_paths = []\n",
      "valid_path_lengths = []\n",
      "No valid paths found so just returning the original\n",
      "Inside MAP decomposition and curr_limb_endpoints_must_keep was None\n",
      "skeletonize_and_clean_connected_branch_CGAL: 7.244240760803223\n",
      "Working on limb correspondence for #1 MAP piece\n"
     ]
    },
    {
     "data": {
      "application/vnd.jupyter.widget-view+json": {
       "model_id": "38e6933430c0441eb944529729db3377",
       "version_major": 2,
       "version_minor": 0
      },
      "text/plain": [
       "HBox(children=(FloatProgress(value=1.0, bar_style='info', max=1.0), HTML(value='')))"
      ]
     },
     "metadata": {},
     "output_type": "display_data"
    },
    {
     "name": "stdout",
     "output_type": "stream",
     "text": [
      "\n",
      "Total time for decomposition = 0.3417534828186035\n",
      "mesh_correspondence_first_pass: 0.34178924560546875\n",
      "Limb decomposed into 1 branches\n",
      "divided_skeleton_graph_recovered = (149, 2, 3) and \n",
      "current_mesh_data[0]['branch_skeletons_cleaned'].shape = (149, 2, 3)\n",
      "\n",
      "Number of connected components in deocmposed recovered graph = 1\n",
      "Number of connected components in cleaned skeleton graph= 1\n",
      "The downsampled branches number of connected components = 1\n",
      "Empty submeshes = []\n",
      "\n",
      "\n",
      "--- Working on 1-to-1 correspondence-----\n",
      "max(original_labels),len(original_labels) = (0, 1)\n",
      "empty_indices % = 0.17653569452130602\n",
      " conflict_indices % = 0.0\n"
     ]
    },
    {
     "data": {
      "application/vnd.jupyter.widget-view+json": {
       "model_id": "565215c370474ca6a609ee2b346dda04",
       "version_major": 2,
       "version_minor": 0
      },
      "text/plain": [
       "HBox(children=(FloatProgress(value=0.0, max=15.0), HTML(value='')))"
      ]
     },
     "metadata": {},
     "output_type": "display_data"
    },
    {
     "name": "stdout",
     "output_type": "stream",
     "text": [
      "\n",
      "AFTER face_lookup_resolved_test\n"
     ]
    },
    {
     "data": {
      "application/vnd.jupyter.widget-view+json": {
       "model_id": "a1644cf249814a7c874215d61cef4816",
       "version_major": 2,
       "version_minor": 0
      },
      "text/plain": [
       "HBox(children=(FloatProgress(value=0.0, max=1.0), HTML(value='')))"
      ]
     },
     "metadata": {},
     "output_type": "display_data"
    },
    {
     "name": "stdout",
     "output_type": "stream",
     "text": [
      "\n",
      "Total time for MAP sublimb #1 mesh processing = 7.797586917877197\n",
      "correspondence_1_to_1: 0.20922446250915527\n",
      "Total time for MAP sublimb processing 264.3644003868103\n",
      "---- Working on MP Decomposition #0 ----\n",
      "Computing the current soma touching verts dict manually\n",
      "MP filtering soma verts: 0.0077152252197265625\n",
      "Do Not Need to Fix MP Decomposition 0 so just continuing\n",
      "---- Working on MP Decomposition #1 ----\n",
      "Computing the current soma touching verts dict manually\n",
      "MP filtering soma verts: 0.003977298736572266\n",
      "Do Not Need to Fix MP Decomposition 1 so just continuing\n",
      "---- Working on MP Decomposition #2 ----\n",
      "Computing the current soma touching verts dict manually\n",
      "MP filtering soma verts: 0.003114938735961914\n",
      "Do Not Need to Fix MP Decomposition 2 so just continuing\n",
      "---- Working on MP Decomposition #3 ----\n",
      "Computing the current soma touching verts dict manually\n",
      "MP filtering soma verts: 0.0006513595581054688\n",
      "Do Not Need to Fix MP Decomposition 3 so just continuing\n",
      "---- Working on MP Decomposition #4 ----\n",
      "Computing the current soma touching verts dict manually\n",
      "MP filtering soma verts: 0.0011525154113769531\n",
      "Do Not Need to Fix MP Decomposition 4 so just continuing\n",
      "---- Working on MP Decomposition #5 ----\n",
      "Computing the current soma touching verts dict manually\n",
      "MP filtering soma verts: 0.0007610321044921875\n",
      "Do Not Need to Fix MP Decomposition 5 so just continuing\n",
      "---- Working on MP Decomposition #6 ----\n",
      "Computing the current soma touching verts dict manually\n",
      "MP filtering soma verts: 0.0003752708435058594\n",
      "Do Not Need to Fix MP Decomposition 6 so just continuing\n",
      "---- Working on MP Decomposition #7 ----\n",
      "Computing the current soma touching verts dict manually\n",
      "MP filtering soma verts: 0.0002770423889160156\n",
      "Do Not Need to Fix MP Decomposition 7 so just continuing\n",
      "---- Working on MP Decomposition #8 ----\n",
      "Computing the current soma touching verts dict manually\n",
      "MP filtering soma verts: 0.00031113624572753906\n",
      "Do Not Need to Fix MP Decomposition 8 so just continuing\n",
      "---- Working on MP Decomposition #9 ----\n",
      "Computing the current soma touching verts dict manually\n",
      "MP filtering soma verts: 0.00040149688720703125\n",
      "Do Not Need to Fix MP Decomposition 9 so just continuing\n",
      "---- Working on MP Decomposition #10 ----\n",
      "Computing the current soma touching verts dict manually\n",
      "MP filtering soma verts: 0.00022125244140625\n",
      "Do Not Need to Fix MP Decomposition 10 so just continuing\n",
      "---- Working on MP Decomposition #11 ----\n",
      "Computing the current soma touching verts dict manually\n",
      "MP filtering soma verts: 0.0003261566162109375\n",
      "Do Not Need to Fix MP Decomposition 11 so just continuing\n",
      "---- Working on MP Decomposition #12 ----\n",
      "Computing the current soma touching verts dict manually\n",
      "MP filtering soma verts: 0.0004017353057861328\n",
      "Do Not Need to Fix MP Decomposition 12 so just continuing\n",
      "---- Working on MP Decomposition #13 ----\n",
      "Computing the current soma touching verts dict manually\n",
      "MP filtering soma verts: 0.00027680397033691406\n",
      "Do Not Need to Fix MP Decomposition 13 so just continuing\n",
      "---- Working on MP Decomposition #14 ----\n",
      "Computing the current soma touching verts dict manually\n",
      "MP filtering soma verts: 0.0002238750457763672\n",
      "Do Not Need to Fix MP Decomposition 14 so just continuing\n",
      "Successful mesh connectivity with type edges\n",
      "\n",
      "---- Working on (0, 0) connection-----\n",
      "Current stitch point was not a branch or endpoint, shortest_path_length to one = 22954.320356990076\n",
      "sk_conn = [0]\n",
      "conn = [0]\n",
      "winning_vertex = [738672.27000763 911719.49572209 859073.88665578]\n",
      "MP_branches_with_stitch_point = [0]\n",
      "MAP_branches_with_stitch_point = [1]\n",
      "MAP_stitch_point_on_end_or_branch = False\n",
      "Using max stitch distance (300) for smoothing because stitch_distance greater (505.1892624012995) \n",
      "Found winning edge: [136, 137.0]\n",
      "in remove edge\n"
     ]
    },
    {
     "data": {
      "application/vnd.jupyter.widget-view+json": {
       "model_id": "1eadbe4ab79b4f26bdd530fa6feb1099",
       "version_major": 2,
       "version_minor": 0
      },
      "text/plain": [
       "HBox(children=(FloatProgress(value=1.0, bar_style='info', max=1.0), HTML(value='')))"
      ]
     },
     "metadata": {},
     "output_type": "display_data"
    },
    {
     "name": "stdout",
     "output_type": "stream",
     "text": [
      "\n",
      "\n",
      "\n",
      "--- Working on 1-to-1 correspondence-----\n",
      "max(original_labels),len(original_labels) = (1, 2)\n",
      "empty_indices % = 0.08987373112156474\n",
      " conflict_indices % = 0.0007922753156721961\n"
     ]
    },
    {
     "data": {
      "application/vnd.jupyter.widget-view+json": {
       "model_id": "7e802ee2ecb147029ad08a8f756deeda",
       "version_major": 2,
       "version_minor": 0
      },
      "text/plain": [
       "HBox(children=(FloatProgress(value=0.0, max=56.0), HTML(value='')))"
      ]
     },
     "metadata": {},
     "output_type": "display_data"
    },
    {
     "name": "stdout",
     "output_type": "stream",
     "text": [
      "\n",
      "AFTER face_lookup_resolved_test\n"
     ]
    },
    {
     "data": {
      "application/vnd.jupyter.widget-view+json": {
       "model_id": "a03fdc2ec2a144ff91a5cb02a8401ba7",
       "version_major": 2,
       "version_minor": 0
      },
      "text/plain": [
       "HBox(children=(FloatProgress(value=0.0, max=2.0), HTML(value='')))"
      ]
     },
     "metadata": {},
     "output_type": "display_data"
    },
    {
     "name": "stdout",
     "output_type": "stream",
     "text": [
      "\n"
     ]
    },
    {
     "data": {
      "application/vnd.jupyter.widget-view+json": {
       "model_id": "57300090e3654a9eb8525285693d0820",
       "version_major": 2,
       "version_minor": 0
      },
      "text/plain": [
       "HBox(children=(FloatProgress(value=1.0, bar_style='info', max=1.0), HTML(value='')))"
      ]
     },
     "metadata": {},
     "output_type": "display_data"
    },
    {
     "name": "stdout",
     "output_type": "stream",
     "text": [
      "\n",
      "\n",
      "\n",
      "--- Working on 1-to-1 correspondence-----\n",
      "max(original_labels),len(original_labels) = (2, 3)\n",
      "empty_indices % = 0.09693633317376735\n",
      " conflict_indices % = 0.0013403542364767832\n"
     ]
    },
    {
     "data": {
      "application/vnd.jupyter.widget-view+json": {
       "model_id": "f6bb872d91724e68bfa21bdcc78ed809",
       "version_major": 2,
       "version_minor": 0
      },
      "text/plain": [
       "HBox(children=(FloatProgress(value=0.0, max=7.0), HTML(value='')))"
      ]
     },
     "metadata": {},
     "output_type": "display_data"
    },
    {
     "name": "stdout",
     "output_type": "stream",
     "text": [
      "\n",
      "AFTER face_lookup_resolved_test\n"
     ]
    },
    {
     "data": {
      "application/vnd.jupyter.widget-view+json": {
       "model_id": "fd6aba0f93534bdaa3f66931ddc891a7",
       "version_major": 2,
       "version_minor": 0
      },
      "text/plain": [
       "HBox(children=(FloatProgress(value=0.0, max=3.0), HTML(value='')))"
      ]
     },
     "metadata": {},
     "output_type": "display_data"
    },
    {
     "name": "stdout",
     "output_type": "stream",
     "text": [
      "\n",
      "Deleting branches from dictionary\n",
      "MP_branches_with_stitch_point= [0]\n",
      "MP_branches_for_correspondence = [0]\n",
      "MP_leftover = [], MP_leftover_idx = []\n",
      " Finished with (0, 0) \n",
      "\n",
      "\n",
      "\n",
      "\n",
      "---- Working on (1, 0) connection-----\n",
      "Current stitch point was not a branch or endpoint, shortest_path_length to one = 70978.80114713497\n",
      "sk_conn = [0]\n",
      "conn = [0]\n",
      "winning_vertex = [617390.70637528 991940.3493018  899977.64549628]\n",
      "MP_branches_with_stitch_point = [0]\n",
      "MAP_branches_with_stitch_point = [0]\n",
      "MAP_stitch_point_on_end_or_branch = False\n",
      "Using max stitch distance (300) for smoothing because stitch_distance greater (427.3724243636415) \n",
      "Found winning edge: [108, 109.0]\n",
      "in remove edge\n"
     ]
    },
    {
     "data": {
      "application/vnd.jupyter.widget-view+json": {
       "model_id": "c6b739c869a44a9b9807fcc17d32f5a5",
       "version_major": 2,
       "version_minor": 0
      },
      "text/plain": [
       "HBox(children=(FloatProgress(value=1.0, bar_style='info', max=1.0), HTML(value='')))"
      ]
     },
     "metadata": {},
     "output_type": "display_data"
    },
    {
     "name": "stdout",
     "output_type": "stream",
     "text": [
      "\n",
      "\n",
      "\n",
      "--- Working on 1-to-1 correspondence-----\n",
      "max(original_labels),len(original_labels) = (1, 2)\n",
      "empty_indices % = 0.09923385625684057\n",
      " conflict_indices % = 0.0005051497207644599\n"
     ]
    },
    {
     "data": {
      "application/vnd.jupyter.widget-view+json": {
       "model_id": "8a7eb245c50d4fee981a75fca0e36695",
       "version_major": 2,
       "version_minor": 0
      },
      "text/plain": [
       "HBox(children=(FloatProgress(value=0.0, max=118.0), HTML(value='')))"
      ]
     },
     "metadata": {},
     "output_type": "display_data"
    },
    {
     "name": "stdout",
     "output_type": "stream",
     "text": [
      "\n",
      "AFTER face_lookup_resolved_test\n"
     ]
    },
    {
     "data": {
      "application/vnd.jupyter.widget-view+json": {
       "model_id": "b07f10e524864a029cc5c5a72d91cef6",
       "version_major": 2,
       "version_minor": 0
      },
      "text/plain": [
       "HBox(children=(FloatProgress(value=0.0, max=2.0), HTML(value='')))"
      ]
     },
     "metadata": {},
     "output_type": "display_data"
    },
    {
     "name": "stdout",
     "output_type": "stream",
     "text": [
      "\n"
     ]
    },
    {
     "data": {
      "application/vnd.jupyter.widget-view+json": {
       "model_id": "12d2a11e8abe41dea6f70a06a3136622",
       "version_major": 2,
       "version_minor": 0
      },
      "text/plain": [
       "HBox(children=(FloatProgress(value=1.0, bar_style='info', max=1.0), HTML(value='')))"
      ]
     },
     "metadata": {},
     "output_type": "display_data"
    },
    {
     "name": "stdout",
     "output_type": "stream",
     "text": [
      "\n",
      "\n",
      "\n",
      "--- Working on 1-to-1 correspondence-----\n",
      "max(original_labels),len(original_labels) = (2, 3)\n",
      "empty_indices % = 0.10460412251974571\n",
      " conflict_indices % = 0.0007705644384511655\n"
     ]
    },
    {
     "data": {
      "application/vnd.jupyter.widget-view+json": {
       "model_id": "30a4b608682b44caacb25939c1e14045",
       "version_major": 2,
       "version_minor": 0
      },
      "text/plain": [
       "HBox(children=(FloatProgress(value=0.0, max=9.0), HTML(value='')))"
      ]
     },
     "metadata": {},
     "output_type": "display_data"
    },
    {
     "name": "stdout",
     "output_type": "stream",
     "text": [
      "\n",
      "AFTER face_lookup_resolved_test\n"
     ]
    },
    {
     "data": {
      "application/vnd.jupyter.widget-view+json": {
       "model_id": "e73553c44ec44edbb97fe0b98fe5bb68",
       "version_major": 2,
       "version_minor": 0
      },
      "text/plain": [
       "HBox(children=(FloatProgress(value=0.0, max=3.0), HTML(value='')))"
      ]
     },
     "metadata": {},
     "output_type": "display_data"
    },
    {
     "name": "stdout",
     "output_type": "stream",
     "text": [
      "\n",
      "Deleting branches from dictionary\n",
      "MP_branches_with_stitch_point= [0]\n",
      "MP_branches_for_correspondence = [0]\n",
      "MP_leftover = [], MP_leftover_idx = []\n",
      " Finished with (1, 0) \n",
      "\n",
      "\n",
      "\n",
      "\n",
      "---- Working on (2, 0) connection-----\n",
      "Current stitch point was a branch or endpoint\n",
      "sk_conn = [0, 1]\n",
      "conn = [0, 1]\n",
      "winning_vertex = [790061.79614569 913366.61359468 806307.92985623]\n",
      "MP_branches_with_stitch_point = [0, 1]\n",
      "MAP_branches_with_stitch_point = [19]\n",
      "MAP_stitch_point_on_end_or_branch = True\n",
      "Using max stitch distance (300) for smoothing because stitch_distance greater (626.4183147403959) \n",
      "Found winning edge: [9, 10.0]\n",
      "in remove edge\n",
      "Using max stitch distance (300) for smoothing because stitch_distance greater (666.0299170211457) \n",
      "Found winning edge: [105, 108.0]\n",
      "in remove edge\n"
     ]
    },
    {
     "data": {
      "application/vnd.jupyter.widget-view+json": {
       "model_id": "e8089a7d7de1419e8711bc379c11d1dc",
       "version_major": 2,
       "version_minor": 0
      },
      "text/plain": [
       "HBox(children=(FloatProgress(value=1.0, bar_style='info', max=1.0), HTML(value='')))"
      ]
     },
     "metadata": {},
     "output_type": "display_data"
    },
    {
     "name": "stdout",
     "output_type": "stream",
     "text": [
      "\n",
      "\n",
      "\n",
      "--- Working on 1-to-1 correspondence-----\n",
      "max(original_labels),len(original_labels) = (2, 3)\n",
      "empty_indices % = 0.1035650623885918\n",
      " conflict_indices % = 0.0020796197266785502\n"
     ]
    },
    {
     "data": {
      "application/vnd.jupyter.widget-view+json": {
       "model_id": "fd3c78bcc45b404b9d0354e318285ab3",
       "version_major": 2,
       "version_minor": 0
      },
      "text/plain": [
       "HBox(children=(FloatProgress(value=0.0, max=13.0), HTML(value='')))"
      ]
     },
     "metadata": {},
     "output_type": "display_data"
    },
    {
     "name": "stdout",
     "output_type": "stream",
     "text": [
      "\n",
      "AFTER face_lookup_resolved_test\n"
     ]
    },
    {
     "data": {
      "application/vnd.jupyter.widget-view+json": {
       "model_id": "6e147b69ecb44a2ba780e3189810ac05",
       "version_major": 2,
       "version_minor": 0
      },
      "text/plain": [
       "HBox(children=(FloatProgress(value=0.0, max=3.0), HTML(value='')))"
      ]
     },
     "metadata": {},
     "output_type": "display_data"
    },
    {
     "name": "stdout",
     "output_type": "stream",
     "text": [
      "\n",
      "MP_branches_with_stitch_point= [0, 1]\n",
      "MP_branches_for_correspondence = [0 1]\n",
      "MP_leftover = [], MP_leftover_idx = []\n",
      " Finished with (2, 0) \n",
      "\n",
      "\n",
      "\n",
      "\n",
      "---- Working on (3, 0) connection-----\n",
      "Current stitch point was not a branch or endpoint, shortest_path_length to one = 5052.273817845113\n",
      "sk_conn = [0, 1]\n",
      "conn = [0, 1]\n",
      "winning_vertex = [747692.98035346 833423.71748216 837836.37753604]\n",
      "MP_branches_with_stitch_point = [0, 1]\n",
      "MAP_branches_with_stitch_point = [5]\n",
      "MAP_stitch_point_on_end_or_branch = False\n",
      "Using max stitch distance (300) for smoothing because stitch_distance greater (997.2676023623447) \n",
      "Found winning edge: [172, 174.0]\n",
      "in remove edge\n",
      "Using max stitch distance (300) for smoothing because stitch_distance greater (953.3001771561227) \n",
      "Found winning edge: [11, 12.0]\n",
      "in remove edge\n"
     ]
    },
    {
     "data": {
      "application/vnd.jupyter.widget-view+json": {
       "model_id": "0b6ea11cb2994ca0a69ed511accae1d4",
       "version_major": 2,
       "version_minor": 0
      },
      "text/plain": [
       "HBox(children=(FloatProgress(value=1.0, bar_style='info', max=1.0), HTML(value='')))"
      ]
     },
     "metadata": {},
     "output_type": "display_data"
    },
    {
     "name": "stdout",
     "output_type": "stream",
     "text": [
      "\n",
      "\n",
      "\n",
      "--- Working on 1-to-1 correspondence-----\n",
      "max(original_labels),len(original_labels) = (1, 2)\n",
      "empty_indices % = 0.1812792511700468\n",
      " conflict_indices % = 0.003536141445657826\n"
     ]
    },
    {
     "data": {
      "application/vnd.jupyter.widget-view+json": {
       "model_id": "f3465fd455504333a29eafd6f278fd4c",
       "version_major": 2,
       "version_minor": 0
      },
      "text/plain": [
       "HBox(children=(FloatProgress(value=0.0, max=34.0), HTML(value='')))"
      ]
     },
     "metadata": {},
     "output_type": "display_data"
    },
    {
     "name": "stdout",
     "output_type": "stream",
     "text": [
      "\n",
      "AFTER face_lookup_resolved_test\n"
     ]
    },
    {
     "data": {
      "application/vnd.jupyter.widget-view+json": {
       "model_id": "f05f8380c4c24c8b9eedea798ac2a4cc",
       "version_major": 2,
       "version_minor": 0
      },
      "text/plain": [
       "HBox(children=(FloatProgress(value=0.0, max=2.0), HTML(value='')))"
      ]
     },
     "metadata": {},
     "output_type": "display_data"
    },
    {
     "name": "stdout",
     "output_type": "stream",
     "text": [
      "\n"
     ]
    },
    {
     "data": {
      "application/vnd.jupyter.widget-view+json": {
       "model_id": "bb04265eb64045fc82092f12636f6377",
       "version_major": 2,
       "version_minor": 0
      },
      "text/plain": [
       "HBox(children=(FloatProgress(value=1.0, bar_style='info', max=1.0), HTML(value='')))"
      ]
     },
     "metadata": {},
     "output_type": "display_data"
    },
    {
     "name": "stdout",
     "output_type": "stream",
     "text": [
      "\n",
      "\n",
      "\n",
      "--- Working on 1-to-1 correspondence-----\n",
      "max(original_labels),len(original_labels) = (3, 4)\n",
      "empty_indices % = 0.17809174952032095\n",
      " conflict_indices % = 0.00898308041165184\n"
     ]
    },
    {
     "data": {
      "application/vnd.jupyter.widget-view+json": {
       "model_id": "cac06f6a14ba46aa87c542adea994d82",
       "version_major": 2,
       "version_minor": 0
      },
      "text/plain": [
       "HBox(children=(FloatProgress(value=0.0, max=16.0), HTML(value='')))"
      ]
     },
     "metadata": {},
     "output_type": "display_data"
    },
    {
     "name": "stdout",
     "output_type": "stream",
     "text": [
      "\n",
      "AFTER face_lookup_resolved_test\n"
     ]
    },
    {
     "data": {
      "application/vnd.jupyter.widget-view+json": {
       "model_id": "0bbd199537c0424abd0735f75109c931",
       "version_major": 2,
       "version_minor": 0
      },
      "text/plain": [
       "HBox(children=(FloatProgress(value=0.0, max=4.0), HTML(value='')))"
      ]
     },
     "metadata": {},
     "output_type": "display_data"
    },
    {
     "name": "stdout",
     "output_type": "stream",
     "text": [
      "\n",
      "Deleting branches from dictionary\n",
      "MP_branches_with_stitch_point= [0, 1]\n",
      "MP_branches_for_correspondence = [0 1]\n",
      "MP_leftover = [], MP_leftover_idx = []\n",
      " Finished with (3, 0) \n",
      "\n",
      "\n",
      "\n",
      "\n",
      "---- Working on (5, 0) connection-----\n",
      "Current stitch point was not a branch or endpoint, shortest_path_length to one = 745.2822105348733\n",
      "sk_conn = [1, 2]\n",
      "conn = [1, 2]\n",
      "winning_vertex = [ 562225.09974601 1021597.93209883  901754.6503269 ]\n",
      "MP_branches_with_stitch_point = [1, 2]\n",
      "MAP_branches_with_stitch_point = [0]\n",
      "MAP_stitch_point_on_end_or_branch = False\n",
      "Using max stitch distance (300) for smoothing because stitch_distance greater (513.4545345485486) \n",
      "Found winning edge: [9, 10.0]\n",
      "in remove edge\n",
      "Using max stitch distance (300) for smoothing because stitch_distance greater (521.4459522363408) \n",
      "Found winning edge: [27, 28.0]\n",
      "in remove edge\n"
     ]
    },
    {
     "data": {
      "application/vnd.jupyter.widget-view+json": {
       "model_id": "3c46e24040e64fddaced020df2b80fd2",
       "version_major": 2,
       "version_minor": 0
      },
      "text/plain": [
       "HBox(children=(FloatProgress(value=1.0, bar_style='info', max=1.0), HTML(value='')))"
      ]
     },
     "metadata": {},
     "output_type": "display_data"
    },
    {
     "name": "stdout",
     "output_type": "stream",
     "text": [
      "\n",
      "\n",
      "\n",
      "--- Working on 1-to-1 correspondence-----\n",
      "max(original_labels),len(original_labels) = (1, 2)\n",
      "empty_indices % = 0.10527943108912421\n",
      " conflict_indices % = 0.00440596738038185\n"
     ]
    },
    {
     "data": {
      "application/vnd.jupyter.widget-view+json": {
       "model_id": "7454b8de3a9846c895c4d34a028fe989",
       "version_major": 2,
       "version_minor": 0
      },
      "text/plain": [
       "HBox(children=(FloatProgress(value=0.0, max=44.0), HTML(value='')))"
      ]
     },
     "metadata": {},
     "output_type": "display_data"
    },
    {
     "name": "stdout",
     "output_type": "stream",
     "text": [
      "\n",
      "AFTER face_lookup_resolved_test\n"
     ]
    },
    {
     "data": {
      "application/vnd.jupyter.widget-view+json": {
       "model_id": "1563d7ad97b4404f801bd363c85a98cf",
       "version_major": 2,
       "version_minor": 0
      },
      "text/plain": [
       "HBox(children=(FloatProgress(value=0.0, max=2.0), HTML(value='')))"
      ]
     },
     "metadata": {},
     "output_type": "display_data"
    },
    {
     "name": "stdout",
     "output_type": "stream",
     "text": [
      "\n"
     ]
    },
    {
     "data": {
      "application/vnd.jupyter.widget-view+json": {
       "model_id": "056343730bc3421dbd8bf9aef23811ed",
       "version_major": 2,
       "version_minor": 0
      },
      "text/plain": [
       "HBox(children=(FloatProgress(value=1.0, bar_style='info', max=1.0), HTML(value='')))"
      ]
     },
     "metadata": {},
     "output_type": "display_data"
    },
    {
     "name": "stdout",
     "output_type": "stream",
     "text": [
      "\n",
      "\n",
      "\n",
      "--- Working on 1-to-1 correspondence-----\n",
      "max(original_labels),len(original_labels) = (3, 4)\n",
      "empty_indices % = 0.1286503102407924\n",
      " conflict_indices % = 0.01428815392497296\n"
     ]
    },
    {
     "data": {
      "application/vnd.jupyter.widget-view+json": {
       "model_id": "a5c5539ff9b24af090843dcd8850b188",
       "version_major": 2,
       "version_minor": 0
      },
      "text/plain": [
       "HBox(children=(FloatProgress(value=0.0, max=21.0), HTML(value='')))"
      ]
     },
     "metadata": {},
     "output_type": "display_data"
    },
    {
     "name": "stdout",
     "output_type": "stream",
     "text": [
      "\n",
      "AFTER face_lookup_resolved_test\n"
     ]
    },
    {
     "data": {
      "application/vnd.jupyter.widget-view+json": {
       "model_id": "b000906808a6499ca164b46bef37824d",
       "version_major": 2,
       "version_minor": 0
      },
      "text/plain": [
       "HBox(children=(FloatProgress(value=0.0, max=4.0), HTML(value='')))"
      ]
     },
     "metadata": {},
     "output_type": "display_data"
    },
    {
     "name": "stdout",
     "output_type": "stream",
     "text": [
      "\n",
      "Deleting branches from dictionary\n",
      "MP_branches_with_stitch_point= [1, 2]\n",
      "MP_branches_for_correspondence = [1 2]\n",
      "MP_leftover = [], MP_leftover_idx = []\n",
      " Finished with (5, 0) \n",
      "\n",
      "\n",
      "\n",
      "\n",
      "---- Working on (6, 0) connection-----\n",
      "Current stitch point was not a branch or endpoint, shortest_path_length to one = 1140.4158382153275\n",
      "sk_conn = [0, 1]\n",
      "conn = [0, 1]\n",
      "winning_vertex = [750225.42003372 832265.31151481 843305.46652016]\n",
      "MP_branches_with_stitch_point = [0, 1]\n",
      "MAP_branches_with_stitch_point = [7]\n",
      "MAP_stitch_point_on_end_or_branch = False\n",
      "Using max stitch distance (300) for smoothing because stitch_distance greater (1637.1030563736717) \n",
      "Found winning edge: [259, 260.0]\n",
      "in remove edge\n",
      "Using max stitch distance (300) for smoothing because stitch_distance greater (1682.6899941565107) \n",
      "Found winning edge: [9, 10.0]\n",
      "in remove edge\n"
     ]
    },
    {
     "data": {
      "application/vnd.jupyter.widget-view+json": {
       "model_id": "5ce169cd4f8d4856bd58d870d362d37d",
       "version_major": 2,
       "version_minor": 0
      },
      "text/plain": [
       "HBox(children=(FloatProgress(value=1.0, bar_style='info', max=1.0), HTML(value='')))"
      ]
     },
     "metadata": {},
     "output_type": "display_data"
    },
    {
     "name": "stdout",
     "output_type": "stream",
     "text": [
      "\n",
      "\n",
      "\n",
      "--- Working on 1-to-1 correspondence-----\n",
      "max(original_labels),len(original_labels) = (1, 2)\n",
      "empty_indices % = 0.11176727909011373\n",
      " conflict_indices % = 0.016185476815398076\n"
     ]
    },
    {
     "data": {
      "application/vnd.jupyter.widget-view+json": {
       "model_id": "107ba004bb55430ab314e7fa974bdcdf",
       "version_major": 2,
       "version_minor": 0
      },
      "text/plain": [
       "HBox(children=(FloatProgress(value=0.0, max=25.0), HTML(value='')))"
      ]
     },
     "metadata": {},
     "output_type": "display_data"
    },
    {
     "name": "stdout",
     "output_type": "stream",
     "text": [
      "\n",
      "AFTER face_lookup_resolved_test\n"
     ]
    },
    {
     "data": {
      "application/vnd.jupyter.widget-view+json": {
       "model_id": "9b271e34e9d94b15b9e17391d56428c2",
       "version_major": 2,
       "version_minor": 0
      },
      "text/plain": [
       "HBox(children=(FloatProgress(value=0.0, max=2.0), HTML(value='')))"
      ]
     },
     "metadata": {},
     "output_type": "display_data"
    },
    {
     "name": "stdout",
     "output_type": "stream",
     "text": [
      "\n"
     ]
    },
    {
     "data": {
      "application/vnd.jupyter.widget-view+json": {
       "model_id": "e8cf2264f2ca484f93b1aa0d7da80673",
       "version_major": 2,
       "version_minor": 0
      },
      "text/plain": [
       "HBox(children=(FloatProgress(value=1.0, bar_style='info', max=1.0), HTML(value='')))"
      ]
     },
     "metadata": {},
     "output_type": "display_data"
    },
    {
     "name": "stdout",
     "output_type": "stream",
     "text": [
      "\n",
      "\n",
      "\n",
      "--- Working on 1-to-1 correspondence-----\n",
      "max(original_labels),len(original_labels) = (3, 4)\n",
      "empty_indices % = 0.14184727002139336\n",
      " conflict_indices % = 0.017021672402567203\n"
     ]
    },
    {
     "data": {
      "application/vnd.jupyter.widget-view+json": {
       "model_id": "ac2745e3c4244b4cad24edbcb924ea67",
       "version_major": 2,
       "version_minor": 0
      },
      "text/plain": [
       "HBox(children=(FloatProgress(value=0.0, max=12.0), HTML(value='')))"
      ]
     },
     "metadata": {},
     "output_type": "display_data"
    },
    {
     "name": "stdout",
     "output_type": "stream",
     "text": [
      "\n",
      "AFTER face_lookup_resolved_test\n"
     ]
    },
    {
     "data": {
      "application/vnd.jupyter.widget-view+json": {
       "model_id": "87db4d3d0d574b668b5ba0591fcd4433",
       "version_major": 2,
       "version_minor": 0
      },
      "text/plain": [
       "HBox(children=(FloatProgress(value=0.0, max=4.0), HTML(value='')))"
      ]
     },
     "metadata": {},
     "output_type": "display_data"
    },
    {
     "name": "stdout",
     "output_type": "stream",
     "text": [
      "\n",
      "Deleting branches from dictionary\n",
      "MP_branches_with_stitch_point= [0, 1]\n",
      "MP_branches_for_correspondence = [0 1]\n",
      "MP_leftover = [], MP_leftover_idx = []\n",
      " Finished with (6, 0) \n",
      "\n",
      "\n",
      "\n",
      "\n",
      "---- Working on (7, 0) connection-----\n",
      "Current stitch point was not a branch or endpoint, shortest_path_length to one = 26980.039697567456\n",
      "sk_conn = [0]\n",
      "conn = [0]\n",
      "winning_vertex = [769842.41477881 965735.55265003 825802.66754091]\n",
      "MP_branches_with_stitch_point = [0]\n",
      "MAP_branches_with_stitch_point = [23]\n",
      "MAP_stitch_point_on_end_or_branch = False\n",
      "Found winning edge: [242, 243.0]\n",
      "in remove edge\n"
     ]
    },
    {
     "data": {
      "application/vnd.jupyter.widget-view+json": {
       "model_id": "33a77a9b5caa4b85986a3d8610c9afbd",
       "version_major": 2,
       "version_minor": 0
      },
      "text/plain": [
       "HBox(children=(FloatProgress(value=1.0, bar_style='info', max=1.0), HTML(value='')))"
      ]
     },
     "metadata": {},
     "output_type": "display_data"
    },
    {
     "name": "stdout",
     "output_type": "stream",
     "text": [
      "\n",
      "\n",
      "\n",
      "--- Working on 1-to-1 correspondence-----\n",
      "max(original_labels),len(original_labels) = (1, 2)\n",
      "empty_indices % = 0.12381519796349455\n",
      " conflict_indices % = 0.0013540594702919353\n"
     ]
    },
    {
     "data": {
      "application/vnd.jupyter.widget-view+json": {
       "model_id": "4a25fe5b6a494aa899cb3502ea688ea0",
       "version_major": 2,
       "version_minor": 0
      },
      "text/plain": [
       "HBox(children=(FloatProgress(value=0.0, max=62.0), HTML(value='')))"
      ]
     },
     "metadata": {},
     "output_type": "display_data"
    },
    {
     "name": "stdout",
     "output_type": "stream",
     "text": [
      "\n",
      "AFTER face_lookup_resolved_test\n"
     ]
    },
    {
     "data": {
      "application/vnd.jupyter.widget-view+json": {
       "model_id": "01aaa65962df4c379634aa876659a0f0",
       "version_major": 2,
       "version_minor": 0
      },
      "text/plain": [
       "HBox(children=(FloatProgress(value=0.0, max=2.0), HTML(value='')))"
      ]
     },
     "metadata": {},
     "output_type": "display_data"
    },
    {
     "name": "stdout",
     "output_type": "stream",
     "text": [
      "\n"
     ]
    },
    {
     "data": {
      "application/vnd.jupyter.widget-view+json": {
       "model_id": "688fb08d0b794811a6af9c220db0668b",
       "version_major": 2,
       "version_minor": 0
      },
      "text/plain": [
       "HBox(children=(FloatProgress(value=1.0, bar_style='info', max=1.0), HTML(value='')))"
      ]
     },
     "metadata": {},
     "output_type": "display_data"
    },
    {
     "name": "stdout",
     "output_type": "stream",
     "text": [
      "\n",
      "\n",
      "\n",
      "--- Working on 1-to-1 correspondence-----\n",
      "max(original_labels),len(original_labels) = (2, 3)\n",
      "empty_indices % = 0.1297879876536963\n",
      " conflict_indices % = 0.005363558164246319\n"
     ]
    },
    {
     "data": {
      "application/vnd.jupyter.widget-view+json": {
       "model_id": "4de1335432024abab3bb8c31e9356e98",
       "version_major": 2,
       "version_minor": 0
      },
      "text/plain": [
       "HBox(children=(FloatProgress(value=0.0, max=10.0), HTML(value='')))"
      ]
     },
     "metadata": {},
     "output_type": "display_data"
    },
    {
     "name": "stdout",
     "output_type": "stream",
     "text": [
      "\n",
      "AFTER face_lookup_resolved_test\n"
     ]
    },
    {
     "data": {
      "application/vnd.jupyter.widget-view+json": {
       "model_id": "4acd972314234756a5069dc89a306795",
       "version_major": 2,
       "version_minor": 0
      },
      "text/plain": [
       "HBox(children=(FloatProgress(value=0.0, max=3.0), HTML(value='')))"
      ]
     },
     "metadata": {},
     "output_type": "display_data"
    },
    {
     "name": "stdout",
     "output_type": "stream",
     "text": [
      "\n",
      "Deleting branches from dictionary\n",
      "MP_branches_with_stitch_point= [0]\n",
      "MP_branches_for_correspondence = [0]\n",
      "MP_leftover = [], MP_leftover_idx = []\n",
      " Finished with (7, 0) \n",
      "\n",
      "\n",
      "\n",
      "\n",
      "---- Working on (8, 0) connection-----\n",
      "Current stitch point was not a branch or endpoint, shortest_path_length to one = 10519.48004148061\n",
      "sk_conn = [0]\n",
      "conn = [0]\n",
      "winning_vertex = [789461.38211197 884911.95391546 822530.9200346 ]\n",
      "MP_branches_with_stitch_point = [0]\n",
      "MAP_branches_with_stitch_point = [24]\n",
      "MAP_stitch_point_on_end_or_branch = False\n",
      "Using max stitch distance (300) for smoothing because stitch_distance greater (579.6409311903394) \n",
      "Found winning edge: [189, 192.0]\n",
      "in remove edge\n"
     ]
    },
    {
     "data": {
      "application/vnd.jupyter.widget-view+json": {
       "model_id": "4c8ab77e29b2446197389811fbbd302f",
       "version_major": 2,
       "version_minor": 0
      },
      "text/plain": [
       "HBox(children=(FloatProgress(value=1.0, bar_style='info', max=1.0), HTML(value='')))"
      ]
     },
     "metadata": {},
     "output_type": "display_data"
    },
    {
     "name": "stdout",
     "output_type": "stream",
     "text": [
      "\n",
      "\n",
      "\n",
      "--- Working on 1-to-1 correspondence-----\n",
      "max(original_labels),len(original_labels) = (1, 2)\n",
      "empty_indices % = 0.1673884077281812\n",
      " conflict_indices % = 0.002831445702864757\n"
     ]
    },
    {
     "data": {
      "application/vnd.jupyter.widget-view+json": {
       "model_id": "1bfa81ea0e5c44b48147bcc2e559bde0",
       "version_major": 2,
       "version_minor": 0
      },
      "text/plain": [
       "HBox(children=(FloatProgress(value=0.0, max=41.0), HTML(value='')))"
      ]
     },
     "metadata": {},
     "output_type": "display_data"
    },
    {
     "name": "stdout",
     "output_type": "stream",
     "text": [
      "\n",
      "AFTER face_lookup_resolved_test\n"
     ]
    },
    {
     "data": {
      "application/vnd.jupyter.widget-view+json": {
       "model_id": "a207bfbf90ee48a9afb3bed53909be80",
       "version_major": 2,
       "version_minor": 0
      },
      "text/plain": [
       "HBox(children=(FloatProgress(value=0.0, max=2.0), HTML(value='')))"
      ]
     },
     "metadata": {},
     "output_type": "display_data"
    },
    {
     "name": "stdout",
     "output_type": "stream",
     "text": [
      "\n"
     ]
    },
    {
     "data": {
      "application/vnd.jupyter.widget-view+json": {
       "model_id": "d193981160db42d096fc2b4daeb22db9",
       "version_major": 2,
       "version_minor": 0
      },
      "text/plain": [
       "HBox(children=(FloatProgress(value=1.0, bar_style='info', max=1.0), HTML(value='')))"
      ]
     },
     "metadata": {},
     "output_type": "display_data"
    },
    {
     "name": "stdout",
     "output_type": "stream",
     "text": [
      "\n",
      "\n",
      "\n",
      "--- Working on 1-to-1 correspondence-----\n",
      "max(original_labels),len(original_labels) = (2, 3)\n",
      "empty_indices % = 0.20855096254290403\n",
      " conflict_indices % = 0.005073869571705716\n"
     ]
    },
    {
     "data": {
      "application/vnd.jupyter.widget-view+json": {
       "model_id": "aa3a0cd0c75344b59dc51caf795155ee",
       "version_major": 2,
       "version_minor": 0
      },
      "text/plain": [
       "HBox(children=(FloatProgress(value=0.0, max=5.0), HTML(value='')))"
      ]
     },
     "metadata": {},
     "output_type": "display_data"
    },
    {
     "name": "stdout",
     "output_type": "stream",
     "text": [
      "\n",
      "AFTER face_lookup_resolved_test\n"
     ]
    },
    {
     "data": {
      "application/vnd.jupyter.widget-view+json": {
       "model_id": "d7ff4f4b4f114c45b378be137d998bc6",
       "version_major": 2,
       "version_minor": 0
      },
      "text/plain": [
       "HBox(children=(FloatProgress(value=0.0, max=3.0), HTML(value='')))"
      ]
     },
     "metadata": {},
     "output_type": "display_data"
    },
    {
     "name": "stdout",
     "output_type": "stream",
     "text": [
      "\n",
      "Deleting branches from dictionary\n",
      "MP_branches_with_stitch_point= [0]\n",
      "MP_branches_for_correspondence = [0]\n",
      "MP_leftover = [], MP_leftover_idx = []\n",
      " Finished with (8, 0) \n",
      "\n",
      "\n",
      "\n",
      "\n",
      "---- Working on (9, 0) connection-----\n",
      "Current stitch point was not a branch or endpoint, shortest_path_length to one = 18952.076744729813\n",
      "sk_conn = [0]\n",
      "conn = [0]\n",
      "winning_vertex = [740556.37017036 948033.81589711 881349.96314501]\n",
      "MP_branches_with_stitch_point = [0]\n",
      "MAP_branches_with_stitch_point = [3]\n",
      "MAP_stitch_point_on_end_or_branch = False\n",
      "Using max stitch distance (300) for smoothing because stitch_distance greater (647.9013980846263) \n",
      "Found winning edge: [2, 4.0]\n",
      "in remove edge\n"
     ]
    },
    {
     "data": {
      "application/vnd.jupyter.widget-view+json": {
       "model_id": "e25ca8d6b8b6451c83e9c47eebc296a0",
       "version_major": 2,
       "version_minor": 0
      },
      "text/plain": [
       "HBox(children=(FloatProgress(value=1.0, bar_style='info', max=1.0), HTML(value='')))"
      ]
     },
     "metadata": {},
     "output_type": "display_data"
    },
    {
     "name": "stdout",
     "output_type": "stream",
     "text": [
      "\n",
      "\n",
      "\n",
      "--- Working on 1-to-1 correspondence-----\n",
      "max(original_labels),len(original_labels) = (1, 2)\n",
      "empty_indices % = 0.07426515511506347\n",
      " conflict_indices % = 0.0014934491887855542\n"
     ]
    },
    {
     "data": {
      "application/vnd.jupyter.widget-view+json": {
       "model_id": "b9cd99e2129945c4a89cb531cd0e554b",
       "version_major": 2,
       "version_minor": 0
      },
      "text/plain": [
       "HBox(children=(FloatProgress(value=0.0, max=33.0), HTML(value='')))"
      ]
     },
     "metadata": {},
     "output_type": "display_data"
    },
    {
     "name": "stdout",
     "output_type": "stream",
     "text": [
      "\n",
      "AFTER face_lookup_resolved_test\n"
     ]
    },
    {
     "data": {
      "application/vnd.jupyter.widget-view+json": {
       "model_id": "31728184833f4943a919f6faa393bf4d",
       "version_major": 2,
       "version_minor": 0
      },
      "text/plain": [
       "HBox(children=(FloatProgress(value=0.0, max=2.0), HTML(value='')))"
      ]
     },
     "metadata": {},
     "output_type": "display_data"
    },
    {
     "name": "stdout",
     "output_type": "stream",
     "text": [
      "\n"
     ]
    },
    {
     "data": {
      "application/vnd.jupyter.widget-view+json": {
       "model_id": "6143a603441c43f6a6cf773cdd43eb37",
       "version_major": 2,
       "version_minor": 0
      },
      "text/plain": [
       "HBox(children=(FloatProgress(value=1.0, bar_style='info', max=1.0), HTML(value='')))"
      ]
     },
     "metadata": {},
     "output_type": "display_data"
    },
    {
     "name": "stdout",
     "output_type": "stream",
     "text": [
      "\n",
      "\n",
      "\n",
      "--- Working on 1-to-1 correspondence-----\n",
      "max(original_labels),len(original_labels) = (2, 3)\n",
      "empty_indices % = 0.09304255066966931\n",
      " conflict_indices % = 0.006459642052862392\n"
     ]
    },
    {
     "data": {
      "application/vnd.jupyter.widget-view+json": {
       "model_id": "e764329ecf0843deb4c6f3c0b6945747",
       "version_major": 2,
       "version_minor": 0
      },
      "text/plain": [
       "HBox(children=(FloatProgress(value=0.0, max=11.0), HTML(value='')))"
      ]
     },
     "metadata": {},
     "output_type": "display_data"
    },
    {
     "name": "stdout",
     "output_type": "stream",
     "text": [
      "\n",
      "AFTER face_lookup_resolved_test\n"
     ]
    },
    {
     "data": {
      "application/vnd.jupyter.widget-view+json": {
       "model_id": "83240ab127c240ed882bb2226cda0d81",
       "version_major": 2,
       "version_minor": 0
      },
      "text/plain": [
       "HBox(children=(FloatProgress(value=0.0, max=3.0), HTML(value='')))"
      ]
     },
     "metadata": {},
     "output_type": "display_data"
    },
    {
     "name": "stdout",
     "output_type": "stream",
     "text": [
      "\n",
      "Deleting branches from dictionary\n",
      "MP_branches_with_stitch_point= [0]\n",
      "MP_branches_for_correspondence = [0]\n",
      "MP_leftover = [], MP_leftover_idx = []\n",
      " Finished with (9, 0) \n",
      "\n",
      "\n",
      "\n",
      "\n",
      "---- Working on (11, 0) connection-----\n",
      "Current stitch point was not a branch or endpoint, shortest_path_length to one = 46549.982236340235\n",
      "sk_conn = [0]\n",
      "conn = [0]\n",
      "winning_vertex = [657474.18915944 977164.3791609  892020.67095013]\n",
      "MP_branches_with_stitch_point = [0]\n",
      "MAP_branches_with_stitch_point = [26]\n",
      "MAP_stitch_point_on_end_or_branch = False\n",
      "Found winning edge: [166, 167.0]\n",
      "in remove edge\n"
     ]
    },
    {
     "data": {
      "application/vnd.jupyter.widget-view+json": {
       "model_id": "e6c4f268eafe440c9deb55e3553285a2",
       "version_major": 2,
       "version_minor": 0
      },
      "text/plain": [
       "HBox(children=(FloatProgress(value=1.0, bar_style='info', max=1.0), HTML(value='')))"
      ]
     },
     "metadata": {},
     "output_type": "display_data"
    },
    {
     "name": "stdout",
     "output_type": "stream",
     "text": [
      "\n",
      "\n",
      "\n",
      "--- Working on 1-to-1 correspondence-----\n",
      "max(original_labels),len(original_labels) = (1, 2)\n",
      "empty_indices % = 0.10364023833340581\n",
      " conflict_indices % = 0.00043491497412255904\n"
     ]
    },
    {
     "data": {
      "application/vnd.jupyter.widget-view+json": {
       "model_id": "39fa2808f91f43b78bd1c16ce0438333",
       "version_major": 2,
       "version_minor": 0
      },
      "text/plain": [
       "HBox(children=(FloatProgress(value=0.0, max=72.0), HTML(value='')))"
      ]
     },
     "metadata": {},
     "output_type": "display_data"
    },
    {
     "name": "stdout",
     "output_type": "stream",
     "text": [
      "\n",
      "AFTER face_lookup_resolved_test\n"
     ]
    },
    {
     "data": {
      "application/vnd.jupyter.widget-view+json": {
       "model_id": "04743c23d5ae4cf48c1cb50e548d6dd2",
       "version_major": 2,
       "version_minor": 0
      },
      "text/plain": [
       "HBox(children=(FloatProgress(value=0.0, max=2.0), HTML(value='')))"
      ]
     },
     "metadata": {},
     "output_type": "display_data"
    },
    {
     "name": "stdout",
     "output_type": "stream",
     "text": [
      "\n"
     ]
    },
    {
     "data": {
      "application/vnd.jupyter.widget-view+json": {
       "model_id": "6b42239423c84c6a85deaa1d68b2291f",
       "version_major": 2,
       "version_minor": 0
      },
      "text/plain": [
       "HBox(children=(FloatProgress(value=1.0, bar_style='info', max=1.0), HTML(value='')))"
      ]
     },
     "metadata": {},
     "output_type": "display_data"
    },
    {
     "name": "stdout",
     "output_type": "stream",
     "text": [
      "\n",
      "\n",
      "\n",
      "--- Working on 1-to-1 correspondence-----\n",
      "max(original_labels),len(original_labels) = (2, 3)\n",
      "empty_indices % = 0.11945994747209455\n",
      " conflict_indices % = 0.003980630334865397\n"
     ]
    },
    {
     "data": {
      "application/vnd.jupyter.widget-view+json": {
       "model_id": "6dfe882bd7784af380ce5d560b5f5b13",
       "version_major": 2,
       "version_minor": 0
      },
      "text/plain": [
       "HBox(children=(FloatProgress(value=0.0, max=6.0), HTML(value='')))"
      ]
     },
     "metadata": {},
     "output_type": "display_data"
    },
    {
     "name": "stdout",
     "output_type": "stream",
     "text": [
      "\n",
      "AFTER face_lookup_resolved_test\n"
     ]
    },
    {
     "data": {
      "application/vnd.jupyter.widget-view+json": {
       "model_id": "7e6fd4c3525c4127bc01a9464d280834",
       "version_major": 2,
       "version_minor": 0
      },
      "text/plain": [
       "HBox(children=(FloatProgress(value=0.0, max=3.0), HTML(value='')))"
      ]
     },
     "metadata": {},
     "output_type": "display_data"
    },
    {
     "name": "stdout",
     "output_type": "stream",
     "text": [
      "\n",
      "Deleting branches from dictionary\n",
      "MP_branches_with_stitch_point= [0]\n",
      "MP_branches_for_correspondence = [0]\n",
      "MP_leftover = [], MP_leftover_idx = []\n",
      " Finished with (11, 0) \n",
      "\n",
      "\n",
      "\n",
      "\n",
      "---- Working on (12, 0) connection-----\n",
      "Current stitch point was not a branch or endpoint, shortest_path_length to one = 6236.759837130087\n",
      "sk_conn = [0]\n",
      "conn = [0]\n",
      "winning_vertex = [707076.07728256 963268.4837509  886392.52779786]\n",
      "MP_branches_with_stitch_point = [0]\n",
      "MAP_branches_with_stitch_point = [3]\n",
      "MAP_stitch_point_on_end_or_branch = False\n",
      "Using max stitch distance (300) for smoothing because stitch_distance greater (507.7073671406673) \n",
      "Found winning edge: [617, 618.0]\n",
      "in remove edge\n"
     ]
    },
    {
     "data": {
      "application/vnd.jupyter.widget-view+json": {
       "model_id": "2639e17f873a45b39f54e0c72a57436e",
       "version_major": 2,
       "version_minor": 0
      },
      "text/plain": [
       "HBox(children=(FloatProgress(value=1.0, bar_style='info', max=1.0), HTML(value='')))"
      ]
     },
     "metadata": {},
     "output_type": "display_data"
    },
    {
     "name": "stdout",
     "output_type": "stream",
     "text": [
      "\n",
      "\n",
      "\n",
      "--- Working on 1-to-1 correspondence-----\n",
      "max(original_labels),len(original_labels) = (1, 2)\n",
      "empty_indices % = 0.07112049187849867\n",
      " conflict_indices % = 0.001284757272643847\n"
     ]
    },
    {
     "data": {
      "application/vnd.jupyter.widget-view+json": {
       "model_id": "77e39f8524b3485a928170ec62ac324f",
       "version_major": 2,
       "version_minor": 0
      },
      "text/plain": [
       "HBox(children=(FloatProgress(value=0.0, max=35.0), HTML(value='')))"
      ]
     },
     "metadata": {},
     "output_type": "display_data"
    },
    {
     "name": "stdout",
     "output_type": "stream",
     "text": [
      "\n",
      "AFTER face_lookup_resolved_test\n"
     ]
    },
    {
     "data": {
      "application/vnd.jupyter.widget-view+json": {
       "model_id": "c2643dafedb14e9e87b0b7e9f23fcdd9",
       "version_major": 2,
       "version_minor": 0
      },
      "text/plain": [
       "HBox(children=(FloatProgress(value=0.0, max=2.0), HTML(value='')))"
      ]
     },
     "metadata": {},
     "output_type": "display_data"
    },
    {
     "name": "stdout",
     "output_type": "stream",
     "text": [
      "\n"
     ]
    },
    {
     "data": {
      "application/vnd.jupyter.widget-view+json": {
       "model_id": "f72d546030a24c63b91bf864adb19377",
       "version_major": 2,
       "version_minor": 0
      },
      "text/plain": [
       "HBox(children=(FloatProgress(value=1.0, bar_style='info', max=1.0), HTML(value='')))"
      ]
     },
     "metadata": {},
     "output_type": "display_data"
    },
    {
     "name": "stdout",
     "output_type": "stream",
     "text": [
      "\n",
      "\n",
      "\n",
      "--- Working on 1-to-1 correspondence-----\n",
      "max(original_labels),len(original_labels) = (2, 3)\n",
      "empty_indices % = 0.08034006376195536\n",
      " conflict_indices % = 0.006659582004959263\n"
     ]
    },
    {
     "data": {
      "application/vnd.jupyter.widget-view+json": {
       "model_id": "bcc264602371473bbd472912cbd8752c",
       "version_major": 2,
       "version_minor": 0
      },
      "text/plain": [
       "HBox(children=(FloatProgress(value=0.0, max=16.0), HTML(value='')))"
      ]
     },
     "metadata": {},
     "output_type": "display_data"
    },
    {
     "name": "stdout",
     "output_type": "stream",
     "text": [
      "\n",
      "AFTER face_lookup_resolved_test\n"
     ]
    },
    {
     "data": {
      "application/vnd.jupyter.widget-view+json": {
       "model_id": "396be00dec97433788b02d0d99f25f8e",
       "version_major": 2,
       "version_minor": 0
      },
      "text/plain": [
       "HBox(children=(FloatProgress(value=0.0, max=3.0), HTML(value='')))"
      ]
     },
     "metadata": {},
     "output_type": "display_data"
    },
    {
     "name": "stdout",
     "output_type": "stream",
     "text": [
      "\n",
      "Deleting branches from dictionary\n",
      "MP_branches_with_stitch_point= [0]\n",
      "MP_branches_for_correspondence = [0]\n",
      "MP_leftover = [], MP_leftover_idx = []\n",
      " Finished with (12, 0) \n",
      "\n",
      "\n",
      "\n",
      "\n",
      "---- Working on (13, 0) connection-----\n",
      "Current stitch point was not a branch or endpoint, shortest_path_length to one = 7691.272820712564\n",
      "sk_conn = [0]\n",
      "conn = [0]\n",
      "winning_vertex = [759831.41102267 918528.04973866 862768.90971417]\n",
      "MP_branches_with_stitch_point = [0]\n",
      "MAP_branches_with_stitch_point = [16]\n",
      "MAP_stitch_point_on_end_or_branch = False\n",
      "Using max stitch distance (300) for smoothing because stitch_distance greater (1124.1487168857964) \n",
      "Found winning edge: [20, 23.0]\n",
      "in remove edge\n"
     ]
    },
    {
     "data": {
      "application/vnd.jupyter.widget-view+json": {
       "model_id": "e03e6ae411a2470fb836298ef35c7151",
       "version_major": 2,
       "version_minor": 0
      },
      "text/plain": [
       "HBox(children=(FloatProgress(value=1.0, bar_style='info', max=1.0), HTML(value='')))"
      ]
     },
     "metadata": {},
     "output_type": "display_data"
    },
    {
     "name": "stdout",
     "output_type": "stream",
     "text": [
      "\n",
      "\n",
      "\n",
      "--- Working on 1-to-1 correspondence-----\n",
      "max(original_labels),len(original_labels) = (1, 2)\n",
      "empty_indices % = 0.013387935107891007\n",
      " conflict_indices % = 0.0026775870215782014\n"
     ]
    },
    {
     "data": {
      "application/vnd.jupyter.widget-view+json": {
       "model_id": "560aedd53baf4e9b968a001c0ea2d623",
       "version_major": 2,
       "version_minor": 0
      },
      "text/plain": [
       "HBox(children=(FloatProgress(value=0.0, max=16.0), HTML(value='')))"
      ]
     },
     "metadata": {},
     "output_type": "display_data"
    },
    {
     "name": "stdout",
     "output_type": "stream",
     "text": [
      "\n",
      "AFTER face_lookup_resolved_test\n"
     ]
    },
    {
     "data": {
      "application/vnd.jupyter.widget-view+json": {
       "model_id": "d9dd39128b8a40bcbb6837715e05af43",
       "version_major": 2,
       "version_minor": 0
      },
      "text/plain": [
       "HBox(children=(FloatProgress(value=0.0, max=2.0), HTML(value='')))"
      ]
     },
     "metadata": {},
     "output_type": "display_data"
    },
    {
     "name": "stdout",
     "output_type": "stream",
     "text": [
      "\n"
     ]
    },
    {
     "data": {
      "application/vnd.jupyter.widget-view+json": {
       "model_id": "9beb2226b61a4fa0b2d9e273e2601b22",
       "version_major": 2,
       "version_minor": 0
      },
      "text/plain": [
       "HBox(children=(FloatProgress(value=1.0, bar_style='info', max=1.0), HTML(value='')))"
      ]
     },
     "metadata": {},
     "output_type": "display_data"
    },
    {
     "name": "stdout",
     "output_type": "stream",
     "text": [
      "\n",
      "\n",
      "\n",
      "--- Working on 1-to-1 correspondence-----\n",
      "max(original_labels),len(original_labels) = (2, 3)\n",
      "empty_indices % = 0.04308510638297872\n",
      " conflict_indices % = 0.016356382978723404\n"
     ]
    },
    {
     "data": {
      "application/vnd.jupyter.widget-view+json": {
       "model_id": "92080f896d3f45f0ab3f4b45fa50fc1e",
       "version_major": 2,
       "version_minor": 0
      },
      "text/plain": [
       "HBox(children=(FloatProgress(value=0.0, max=4.0), HTML(value='')))"
      ]
     },
     "metadata": {},
     "output_type": "display_data"
    },
    {
     "name": "stdout",
     "output_type": "stream",
     "text": [
      "\n",
      "AFTER face_lookup_resolved_test\n"
     ]
    },
    {
     "data": {
      "application/vnd.jupyter.widget-view+json": {
       "model_id": "c04bdab4764d4125a2925e9d1ce66235",
       "version_major": 2,
       "version_minor": 0
      },
      "text/plain": [
       "HBox(children=(FloatProgress(value=0.0, max=3.0), HTML(value='')))"
      ]
     },
     "metadata": {},
     "output_type": "display_data"
    },
    {
     "name": "stdout",
     "output_type": "stream",
     "text": [
      "\n",
      "Deleting branches from dictionary\n",
      "MP_branches_with_stitch_point= [0]\n",
      "MP_branches_for_correspondence = [0]\n",
      "MP_leftover = [], MP_leftover_idx = []\n",
      " Finished with (13, 0) \n",
      "\n",
      "\n",
      "\n",
      "\n",
      "---- Working on (14, 0) connection-----\n",
      "Current stitch point was not a branch or endpoint, shortest_path_length to one = 11455.961565286396\n",
      "sk_conn = [0]\n",
      "conn = [0]\n",
      "winning_vertex = [767602.56945079 955227.28259985 825444.88054069]\n",
      "MP_branches_with_stitch_point = [0]\n",
      "MAP_branches_with_stitch_point = [23]\n",
      "MAP_stitch_point_on_end_or_branch = False\n",
      "Using max stitch distance (300) for smoothing because stitch_distance greater (409.6648648624075) \n",
      "Found winning edge: [9, 10.0]\n",
      "in remove edge\n"
     ]
    },
    {
     "data": {
      "application/vnd.jupyter.widget-view+json": {
       "model_id": "ba202e060f2c429ebca34766e39c4bf0",
       "version_major": 2,
       "version_minor": 0
      },
      "text/plain": [
       "HBox(children=(FloatProgress(value=1.0, bar_style='info', max=1.0), HTML(value='')))"
      ]
     },
     "metadata": {},
     "output_type": "display_data"
    },
    {
     "name": "stdout",
     "output_type": "stream",
     "text": [
      "\n",
      "\n",
      "\n",
      "--- Working on 1-to-1 correspondence-----\n",
      "max(original_labels),len(original_labels) = (1, 2)\n",
      "empty_indices % = 0.17134680736898586\n",
      " conflict_indices % = 0.003219459846181363\n"
     ]
    },
    {
     "data": {
      "application/vnd.jupyter.widget-view+json": {
       "model_id": "ed87b9b8df3e474bbcddceb570ae1b34",
       "version_major": 2,
       "version_minor": 0
      },
      "text/plain": [
       "HBox(children=(FloatProgress(value=0.0, max=23.0), HTML(value='')))"
      ]
     },
     "metadata": {},
     "output_type": "display_data"
    },
    {
     "name": "stdout",
     "output_type": "stream",
     "text": [
      "\n",
      "AFTER face_lookup_resolved_test\n"
     ]
    },
    {
     "data": {
      "application/vnd.jupyter.widget-view+json": {
       "model_id": "8ec6f640ef5b4672b75d812159ce04c0",
       "version_major": 2,
       "version_minor": 0
      },
      "text/plain": [
       "HBox(children=(FloatProgress(value=0.0, max=2.0), HTML(value='')))"
      ]
     },
     "metadata": {},
     "output_type": "display_data"
    },
    {
     "name": "stdout",
     "output_type": "stream",
     "text": [
      "\n"
     ]
    },
    {
     "data": {
      "application/vnd.jupyter.widget-view+json": {
       "model_id": "7c2cca29aa444e4ca8fcd4f49c0d615c",
       "version_major": 2,
       "version_minor": 0
      },
      "text/plain": [
       "HBox(children=(FloatProgress(value=1.0, bar_style='info', max=1.0), HTML(value='')))"
      ]
     },
     "metadata": {},
     "output_type": "display_data"
    },
    {
     "name": "stdout",
     "output_type": "stream",
     "text": [
      "\n",
      "\n",
      "\n",
      "--- Working on 1-to-1 correspondence-----\n",
      "max(original_labels),len(original_labels) = (2, 3)\n",
      "empty_indices % = 0.1966772151898734\n",
      " conflict_indices % = 0.010759493670886076\n"
     ]
    },
    {
     "data": {
      "application/vnd.jupyter.widget-view+json": {
       "model_id": "465886ad6ab64a188c361c748e5a262d",
       "version_major": 2,
       "version_minor": 0
      },
      "text/plain": [
       "HBox(children=(FloatProgress(value=0.0, max=8.0), HTML(value='')))"
      ]
     },
     "metadata": {},
     "output_type": "display_data"
    },
    {
     "name": "stdout",
     "output_type": "stream",
     "text": [
      "\n",
      "AFTER face_lookup_resolved_test\n"
     ]
    },
    {
     "data": {
      "application/vnd.jupyter.widget-view+json": {
       "model_id": "00c5c1bca4d94a2d88947fc4bb911164",
       "version_major": 2,
       "version_minor": 0
      },
      "text/plain": [
       "HBox(children=(FloatProgress(value=0.0, max=3.0), HTML(value='')))"
      ]
     },
     "metadata": {},
     "output_type": "display_data"
    },
    {
     "name": "stdout",
     "output_type": "stream",
     "text": [
      "\n",
      "Deleting branches from dictionary\n",
      "MP_branches_with_stitch_point= [0]\n",
      "MP_branches_for_correspondence = [0]\n",
      "MP_leftover = [], MP_leftover_idx = []\n",
      " Finished with (14, 0) \n",
      "\n",
      "\n",
      "\n",
      "\n",
      "---- Working on (4, 1) connection-----\n",
      "Current stitch point was a branch or endpoint\n",
      "sk_conn = [0, 1]\n",
      "conn = [0, 1]\n",
      "winning_vertex = [ 545002.20237731 1035355.15894395  907209.72201172]\n",
      "MP_branches_with_stitch_point = [0, 1]\n",
      "MAP_branches_with_stitch_point = [0]\n",
      "MAP_stitch_point_on_end_or_branch = True\n",
      "Using max stitch distance (300) for smoothing because stitch_distance greater (560.9800273605266) \n",
      "Found winning edge: [81, 82.0]\n",
      "in remove edge\n",
      "Using max stitch distance (300) for smoothing because stitch_distance greater (558.65272828462) \n",
      "Found winning edge: [399, 400.0]\n",
      "in remove edge\n"
     ]
    },
    {
     "data": {
      "application/vnd.jupyter.widget-view+json": {
       "model_id": "8831f5817d454dc9b6de445d94b9c304",
       "version_major": 2,
       "version_minor": 0
      },
      "text/plain": [
       "HBox(children=(FloatProgress(value=1.0, bar_style='info', max=1.0), HTML(value='')))"
      ]
     },
     "metadata": {},
     "output_type": "display_data"
    },
    {
     "name": "stdout",
     "output_type": "stream",
     "text": [
      "\n",
      "\n",
      "\n",
      "--- Working on 1-to-1 correspondence-----\n",
      "max(original_labels),len(original_labels) = (2, 3)\n",
      "empty_indices % = 0.15724177726485863\n",
      " conflict_indices % = 0.005770340450086555\n"
     ]
    },
    {
     "data": {
      "application/vnd.jupyter.widget-view+json": {
       "model_id": "7baf82431d05409a8e20307d78086783",
       "version_major": 2,
       "version_minor": 0
      },
      "text/plain": [
       "HBox(children=(FloatProgress(value=0.0, max=22.0), HTML(value='')))"
      ]
     },
     "metadata": {},
     "output_type": "display_data"
    },
    {
     "name": "stdout",
     "output_type": "stream",
     "text": [
      "\n",
      "AFTER face_lookup_resolved_test\n"
     ]
    },
    {
     "data": {
      "application/vnd.jupyter.widget-view+json": {
       "model_id": "e46071ced9d142f1bb069edfe0a6def5",
       "version_major": 2,
       "version_minor": 0
      },
      "text/plain": [
       "HBox(children=(FloatProgress(value=0.0, max=3.0), HTML(value='')))"
      ]
     },
     "metadata": {},
     "output_type": "display_data"
    },
    {
     "name": "stdout",
     "output_type": "stream",
     "text": [
      "\n",
      "MP_branches_with_stitch_point= [0, 1]\n",
      "MP_branches_for_correspondence = [0 1]\n",
      "MP_leftover = [], MP_leftover_idx = []\n",
      " Finished with (4, 1) \n",
      "\n",
      "\n",
      "\n",
      "\n",
      "---- Working on (5, 1) connection-----\n",
      "Current stitch point was a branch or endpoint\n",
      "sk_conn = [0, 2]\n",
      "conn = [0, 2]\n",
      "winning_vertex = [ 559655.79623005 1024226.6265392   901938.49994124]\n",
      "MP_branches_with_stitch_point = [0, 2]\n",
      "MAP_branches_with_stitch_point = [0]\n",
      "MAP_stitch_point_on_end_or_branch = True\n",
      "Using max stitch distance (300) for smoothing because stitch_distance greater (594.3128108543906) \n",
      "Found winning edge: [127, 134.0]\n",
      "in remove edge\n",
      "Using max stitch distance (300) for smoothing because stitch_distance greater (717.6438761252638) \n",
      "Gettng rid of 1 nodes INSIDE SKELETON TO GRAPH CONVERSION\n"
     ]
    },
    {
     "data": {
      "application/vnd.jupyter.widget-view+json": {
       "model_id": "eaa4c8b25e964a5dac51f1803f854125",
       "version_major": 2,
       "version_minor": 0
      },
      "text/plain": [
       "HBox(children=(FloatProgress(value=1.0, bar_style='info', max=1.0), HTML(value='')))"
      ]
     },
     "metadata": {},
     "output_type": "display_data"
    },
    {
     "name": "stdout",
     "output_type": "stream",
     "text": [
      "\n",
      "\n",
      "\n",
      "--- Working on 1-to-1 correspondence-----\n",
      "max(original_labels),len(original_labels) = (2, 3)\n",
      "empty_indices % = 0.24094835508178644\n",
      " conflict_indices % = 0.004227164124241867\n"
     ]
    },
    {
     "data": {
      "application/vnd.jupyter.widget-view+json": {
       "model_id": "a2d536aeee0241ad95c18dfa7f2d1663",
       "version_major": 2,
       "version_minor": 0
      },
      "text/plain": [
       "HBox(children=(FloatProgress(value=0.0, max=7.0), HTML(value='')))"
      ]
     },
     "metadata": {},
     "output_type": "display_data"
    },
    {
     "name": "stdout",
     "output_type": "stream",
     "text": [
      "\n",
      "AFTER face_lookup_resolved_test\n"
     ]
    },
    {
     "data": {
      "application/vnd.jupyter.widget-view+json": {
       "model_id": "2f4e283998b14dc983d5597bff96b912",
       "version_major": 2,
       "version_minor": 0
      },
      "text/plain": [
       "HBox(children=(FloatProgress(value=0.0, max=3.0), HTML(value='')))"
      ]
     },
     "metadata": {},
     "output_type": "display_data"
    },
    {
     "name": "stdout",
     "output_type": "stream",
     "text": [
      "\n",
      "MP_branches_with_stitch_point= [0, 2]\n",
      "MP_branches_for_correspondence = [0 2]\n",
      "MP_leftover = [], MP_leftover_idx = []\n",
      " Finished with (5, 1) \n",
      "\n",
      "\n",
      "\n",
      "\n",
      "---- Working on (10, 1) connection-----\n",
      "Current stitch point was not a branch or endpoint, shortest_path_length to one = 5067.678038784198\n",
      "sk_conn = [0]\n",
      "conn = [0]\n",
      "winning_vertex = [ 549141.11248633 1032480.03600108  905834.7668478 ]\n",
      "MP_branches_with_stitch_point = [0]\n",
      "MAP_branches_with_stitch_point = [0]\n",
      "MAP_stitch_point_on_end_or_branch = False\n",
      "Using max stitch distance (300) for smoothing because stitch_distance greater (319.40879092689687) \n",
      "Found winning edge: [9, 10.0]\n",
      "in remove edge\n"
     ]
    },
    {
     "data": {
      "application/vnd.jupyter.widget-view+json": {
       "model_id": "e102c937373b479192200e1376f5c786",
       "version_major": 2,
       "version_minor": 0
      },
      "text/plain": [
       "HBox(children=(FloatProgress(value=1.0, bar_style='info', max=1.0), HTML(value='')))"
      ]
     },
     "metadata": {},
     "output_type": "display_data"
    },
    {
     "name": "stdout",
     "output_type": "stream",
     "text": [
      "\n",
      "\n",
      "\n",
      "--- Working on 1-to-1 correspondence-----\n",
      "max(original_labels),len(original_labels) = (1, 2)\n",
      "empty_indices % = 0.1831218974076117\n",
      " conflict_indices % = 0.002206287920573635\n"
     ]
    },
    {
     "data": {
      "application/vnd.jupyter.widget-view+json": {
       "model_id": "40d9b38e88024e5c8ca97bbbf7ac6667",
       "version_major": 2,
       "version_minor": 0
      },
      "text/plain": [
       "HBox(children=(FloatProgress(value=0.0, max=18.0), HTML(value='')))"
      ]
     },
     "metadata": {},
     "output_type": "display_data"
    },
    {
     "name": "stdout",
     "output_type": "stream",
     "text": [
      "\n",
      "AFTER face_lookup_resolved_test\n"
     ]
    },
    {
     "data": {
      "application/vnd.jupyter.widget-view+json": {
       "model_id": "fb62562aeca142e8894c9f93a3aff8bb",
       "version_major": 2,
       "version_minor": 0
      },
      "text/plain": [
       "HBox(children=(FloatProgress(value=0.0, max=2.0), HTML(value='')))"
      ]
     },
     "metadata": {},
     "output_type": "display_data"
    },
    {
     "name": "stdout",
     "output_type": "stream",
     "text": [
      "\n"
     ]
    },
    {
     "data": {
      "application/vnd.jupyter.widget-view+json": {
       "model_id": "533b8af6cf7f4c25940872859477f243",
       "version_major": 2,
       "version_minor": 0
      },
      "text/plain": [
       "HBox(children=(FloatProgress(value=1.0, bar_style='info', max=1.0), HTML(value='')))"
      ]
     },
     "metadata": {},
     "output_type": "display_data"
    },
    {
     "name": "stdout",
     "output_type": "stream",
     "text": [
      "\n",
      "\n",
      "\n",
      "--- Working on 1-to-1 correspondence-----\n",
      "max(original_labels),len(original_labels) = (2, 3)\n",
      "empty_indices % = 0.15316858331294347\n",
      " conflict_indices % = 0.005382921458282359\n"
     ]
    },
    {
     "data": {
      "application/vnd.jupyter.widget-view+json": {
       "model_id": "50f971a988d844c99199415dd2a7f1b9",
       "version_major": 2,
       "version_minor": 0
      },
      "text/plain": [
       "HBox(children=(FloatProgress(value=0.0, max=5.0), HTML(value='')))"
      ]
     },
     "metadata": {},
     "output_type": "display_data"
    },
    {
     "name": "stdout",
     "output_type": "stream",
     "text": [
      "\n",
      "AFTER face_lookup_resolved_test\n"
     ]
    },
    {
     "data": {
      "application/vnd.jupyter.widget-view+json": {
       "model_id": "1584bfe7471742d6b3b272d0adeb2ad5",
       "version_major": 2,
       "version_minor": 0
      },
      "text/plain": [
       "HBox(children=(FloatProgress(value=0.0, max=3.0), HTML(value='')))"
      ]
     },
     "metadata": {},
     "output_type": "display_data"
    },
    {
     "name": "stdout",
     "output_type": "stream",
     "text": [
      "\n",
      "Deleting branches from dictionary\n",
      "MP_branches_with_stitch_point= [0]\n",
      "MP_branches_for_correspondence = [0]\n",
      "MP_leftover = [], MP_leftover_idx = []\n",
      " Finished with (10, 1) \n",
      "\n",
      "\n",
      "\n",
      "Time for decomp of Limb = 375.9101769924164\n",
      "Number of matching vertices = 108\n",
      "Only one endpoint after filtering away the endpoints that are not on the skeleton\n",
      "Using Distance measure skeletal_distance\n",
      "endpoints_must_keep = [array([756851., 948250., 874012.])]\n",
      "Number of end_nodes BEFORE filtering = 33\n",
      "all_single_nodes_to_eliminate = [22]\n"
     ]
    },
    {
     "data": {
      "application/vnd.jupyter.widget-view+json": {
       "model_id": "70576e208b744dfebbca1184757e765b",
       "version_major": 2,
       "version_minor": 0
      },
      "text/plain": [
       "HBox(children=(FloatProgress(value=0.0, max=1.0), HTML(value='')))"
      ]
     },
     "metadata": {},
     "output_type": "display_data"
    },
    {
     "name": "stdout",
     "output_type": "stream",
     "text": [
      "\n",
      "Removed 1 skeletal branches\n"
     ]
    },
    {
     "data": {
      "application/vnd.jupyter.widget-view+json": {
       "model_id": "3a42485cd55b47bea337dd7380487fb8",
       "version_major": 2,
       "version_minor": 0
      },
      "text/plain": [
       "HBox(children=(FloatProgress(value=0.0, max=60.0), HTML(value='')))"
      ]
     },
     "metadata": {},
     "output_type": "display_data"
    },
    {
     "name": "stdout",
     "output_type": "stream",
     "text": [
      "\n",
      "307659 307660\n",
      "For marked faces: None\n",
      "empty_indices % = 0.0001852694532925957\n",
      " conflict_indices % = 0.0\n"
     ]
    },
    {
     "data": {
      "application/vnd.jupyter.widget-view+json": {
       "model_id": "cabb617c066a43438962913017e9a921",
       "version_major": 2,
       "version_minor": 0
      },
      "text/plain": [
       "HBox(children=(FloatProgress(value=0.0, max=1.0), HTML(value='')))"
      ]
     },
     "metadata": {},
     "output_type": "display_data"
    },
    {
     "name": "stdout",
     "output_type": "stream",
     "text": [
      "\n",
      "AFTER face_lookup_resolved_test\n"
     ]
    },
    {
     "data": {
      "application/vnd.jupyter.widget-view+json": {
       "model_id": "7b1589e02a3741abb5884090f0ca5503",
       "version_major": 2,
       "version_minor": 0
      },
      "text/plain": [
       "HBox(children=(FloatProgress(value=0.0, max=59.0), HTML(value='')))"
      ]
     },
     "metadata": {},
     "output_type": "display_data"
    },
    {
     "name": "stdout",
     "output_type": "stream",
     "text": [
      "\n",
      "\n",
      "\n",
      "----- Working on Proper Limb # 1 ---------\n",
      "meshparty_segment_size = 100\n",
      "root_curr = [764613.6 961026.9 879448.1]\n",
      "Time for preparing soma vertices and root: 0.0002803802490234375\n",
      "invalidation_d = 12000\n",
      "cc_vertex_thresh = 10\n"
     ]
    },
    {
     "name": "stderr",
     "output_type": "stream",
     "text": [
      "\r",
      "  0%|          | 0/1 [00:00<?, ?it/s]"
     ]
    },
    {
     "data": {
      "application/vnd.jupyter.widget-view+json": {
       "model_id": "b7734506e98448f38751ec06c976351a",
       "version_major": 2,
       "version_minor": 0
      },
      "text/plain": [
       "HBox(children=(FloatProgress(value=0.0, max=87470.0), HTML(value='')))"
      ]
     },
     "metadata": {},
     "output_type": "display_data"
    },
    {
     "name": "stderr",
     "output_type": "stream",
     "text": [
      "100%|██████████| 1/1 [00:01<00:00,  1.60s/it]"
     ]
    },
    {
     "name": "stdout",
     "output_type": "stream",
     "text": [
      "\n"
     ]
    },
    {
     "name": "stderr",
     "output_type": "stream",
     "text": [
      "\n"
     ]
    },
    {
     "name": "stdout",
     "output_type": "stream",
     "text": [
      "meshparty_segment_size = 100\n",
      "Time for 1st pass MP skeletonization: 2.4944217205047607\n",
      "branches_touching_root = [13]\n",
      "length of Graph = 10874\n",
      "Working on path [6621. 6628. 6630. 6635. 6638. 6640.]\n",
      "path_degrees = [3, 2, 2, 2, 2, 3]\n",
      "Working on path [10874.  6651.  6662.]\n",
      "path_degrees = [4, 2, 3]\n",
      "After combining close endpoints max(kept_branches_idx) = 44, len(kept_branches_idx) = 43\n",
      "empty_indices % = 0.0\n",
      " conflict_indices % = 0.010926817059713548\n"
     ]
    },
    {
     "data": {
      "application/vnd.jupyter.widget-view+json": {
       "model_id": "f5911e3101cf4146ae49f6a694887097",
       "version_major": 2,
       "version_minor": 0
      },
      "text/plain": [
       "HBox(children=(FloatProgress(value=0.0, max=19.0), HTML(value='')))"
      ]
     },
     "metadata": {},
     "output_type": "display_data"
    },
    {
     "name": "stdout",
     "output_type": "stream",
     "text": [
      "\n",
      "AFTER face_lookup_resolved_test\n"
     ]
    },
    {
     "data": {
      "application/vnd.jupyter.widget-view+json": {
       "model_id": "26eb611777544b64aa511cbf394134af",
       "version_major": 2,
       "version_minor": 0
      },
      "text/plain": [
       "HBox(children=(FloatProgress(value=0.0, max=43.0), HTML(value='')))"
      ]
     },
     "metadata": {},
     "output_type": "display_data"
    },
    {
     "name": "stdout",
     "output_type": "stream",
     "text": [
      "\n",
      "Decomposing first pass: 11.741755485534668\n",
      "Attempting to use MeshAfterParty Skeletonization and Mesh Correspondence\n",
      "Another print\n",
      "Found len(mesh_large_idx) MAP candidates: [5518, 17879, 1993, 5611, 8248, 158, 4250, 1122, 292, 1760, 11617, 5396, 4931, 4844, 7298, 3335, 752, 2756, 21110, 338, 1652, 13132, 12498]\n",
      "mesh_large_connectivity: 0.6137924194335938\n",
      "Finding MAP candidates connected components: 0.0002841949462890625\n",
      "len(filtered_pieces) = 2\n",
      "skeleton_connectivity_MP : 0.21240735054016113\n",
      "Grouping MP Sublimbs by Graph: 0.03681468963623047\n",
      "Divinding into MP and MAP pieces: 7.152557373046875e-07\n",
      "--- Working on MAP piece 0---\n",
      "MAP Filtering Soma Pieces: 0.010226964950561523\n",
      "inside skeletonize_connected_branch and use_surface_after_CGAL=False, surface_reconstruction_size=1000\n",
      "The mesh passed has 17 pieces so just taking the largest one <trimesh.Trimesh(vertices.shape=(42585, 3), faces.shape=(85214, 3))>\n",
      "     Starting Screened Poisson\n",
      "xvfb-run -n 1051 -s \"-screen 0 800x600x24\" meshlabserver $@  -i /notebooks/Auto_Proofreading/Compartments/Axon/temp/None.off -o /notebooks/Auto_Proofreading/Compartments/Axon/temp/None_poisson.off -s /notebooks/Auto_Proofreading/Compartments/Axon/temp/poisson_610203.mls\n",
      "removed temporary input file: /notebooks/Auto_Proofreading/Compartments/Axon/temp/None.off\n",
      "removed temporary output file: /notebooks/Auto_Proofreading/Compartments/Axon/temp/None_poisson.off\n",
      "Using the close holes feature\n",
      "xvfb-run -n 8701 -s \"-screen 0 800x600x24\" meshlabserver $@  -i /notebooks/Auto_Proofreading/Compartments/Axon/temp/neuron_38324.off -o /notebooks/Auto_Proofreading/Compartments/Axon/temp/neuron_38324_fill_holes.off -s /notebooks/Auto_Proofreading/Compartments/Axon/temp/fill_holes_467574.mls\n",
      "removed temporary input file: /notebooks/Auto_Proofreading/Compartments/Axon/temp/neuron_38324.off\n",
      "removed temporary output file: /notebooks/Auto_Proofreading/Compartments/Axon/temp/neuron_38324_fill_holes.off\n",
      "-----Time for Screened Poisson= 27.201313495635986\n",
      "mesh_pieces = [<trimesh.Trimesh(vertices.shape=(93651, 3), faces.shape=(187310, 3))>, <trimesh.Trimesh(vertices.shape=(7485, 3), faces.shape=(14966, 3))>]\n",
      "     Starting Calcification (Changed back where stitches large poissons)\n",
      "min_edge_length = 75\n",
      "min_edge_length = 75\n",
      "node_degrees = [2 4 2 3 2 2 2 2 3 2]\n",
      "node_degrees = [2 4 3 2 2 2 2 3 2]\n",
      "node_degrees = [4 2 3]\n",
      "The number of cycles skipped (2) does not equal the number of cycles at the end (1)\n"
     ]
    },
    {
     "data": {
      "application/vnd.jupyter.widget-view+json": {
       "model_id": "4e73b0a443c84c84b77dacdd006231af",
       "version_major": 2,
       "version_minor": 0
      },
      "text/plain": [
       "HBox(children=(FloatProgress(value=1.0, bar_style='info', max=1.0), HTML(value='')))"
      ]
     },
     "metadata": {},
     "output_type": "display_data"
    },
    {
     "name": "stdout",
     "output_type": "stream",
     "text": [
      "\n",
      "No skeletons to stack so returning empty list\n",
      "len_subgraphs AT BEGINNING of the loop\n"
     ]
    },
    {
     "data": {
      "application/vnd.jupyter.widget-view+json": {
       "model_id": "7177d090987d4588bd918175809866aa",
       "version_major": 2,
       "version_minor": 0
      },
      "text/plain": [
       "HBox(children=(FloatProgress(value=0.0, max=2.0), HTML(value='')))"
      ]
     },
     "metadata": {},
     "output_type": "display_data"
    },
    {
     "name": "stdout",
     "output_type": "stream",
     "text": [
      "all graph is one component!\n",
      "\n",
      "Total time for skeleton stitching = 0.1557316780090332\n",
      "The process was using a temp folder\n",
      "Checking connected components after skeletonize_connected_branch\n",
      "    Total time for skeletonizing branch: 38.31535053253174\n",
      "Checking connected components after removing cycles\n",
      "Total time for mesh KDTree = 0.5736136436462402\n",
      "sbv[0].reshape(-1,3) = [[856160.1 995780.8 859904.1]]\n",
      "closest_sk_pt_coord BEFORE = [855834. 995971. 860546.]\n",
      "current_skeleton.shape = (3552, 2, 3)\n",
      "Current stitch point was a branch or endpoint\n",
      "change_status for create soma extending pieces = False\n",
      "closest_sk_pt_coord AFTER = [855834. 995971. 860546.]\n",
      "skipping soma 1 because closest skeleton node was already end node\n",
      "endpoints_must_keep = {1: array([[855834., 995971., 860546.]])}\n",
      "    Total time for Fixing Skeleton Soma Endpoint Extension : 1.8897626399993896\n",
      "filter_end_node_length = 4500\n",
      "Using Distance measure skeletal_distance\n",
      "endpoints_must_keep = [[855834. 995971. 860546.]]\n",
      "Number of end_nodes BEFORE filtering = 53\n",
      "all_single_nodes_to_eliminate = [52]\n"
     ]
    },
    {
     "data": {
      "application/vnd.jupyter.widget-view+json": {
       "model_id": "c49c7b40cdbd42f88b70ade2d3549888",
       "version_major": 2,
       "version_minor": 0
      },
      "text/plain": [
       "HBox(children=(FloatProgress(value=0.0, max=51.0), HTML(value='')))"
      ]
     },
     "metadata": {},
     "output_type": "display_data"
    },
    {
     "name": "stdout",
     "output_type": "stream",
     "text": [
      "\n",
      "Checking connected components after clean_skeleton\n",
      "after DISTANCE cleaning limb size of skeleton = (3339, 2, 3)\n",
      "********COMBINING CLOSE SKELETON NODES WITHIN 700 DISTANCE**********\n",
      "Found 1 valid paths to replace\n",
      "valid_paths = [array([2569., 2568., 2570., 2575.])]\n",
      "valid_path_lengths = [528.1041698414045]\n",
      "length of Graph = 3339\n",
      "Working on path [2569. 2568. 2570. 2575.]\n",
      "path_degrees = [3, 2, 2, 3]\n",
      "node_degrees = [4 2 2 2 2 2]\n",
      "skeletonize_and_clean_connected_branch_CGAL: 53.28012037277222\n",
      "Working on limb correspondence for #0 MAP piece\n"
     ]
    },
    {
     "data": {
      "application/vnd.jupyter.widget-view+json": {
       "model_id": "823974f78c28438faf9a1dcc2dcbf656",
       "version_major": 2,
       "version_minor": 0
      },
      "text/plain": [
       "HBox(children=(FloatProgress(value=1.0, bar_style='info', max=1.0), HTML(value='')))"
      ]
     },
     "metadata": {},
     "output_type": "display_data"
    },
    {
     "name": "stdout",
     "output_type": "stream",
     "text": [
      "\n",
      "Total time for decomposition = 20.000459671020508\n",
      "mesh_correspondence_first_pass: 20.00049066543579\n",
      "Limb decomposed into 5 branches\n",
      "divided_skeleton_graph_recovered = (3330, 2, 3) and \n",
      "current_mesh_data[0]['branch_skeletons_cleaned'].shape = (3330, 2, 3)\n",
      "\n",
      "Number of connected components in deocmposed recovered graph = 1\n",
      "Number of connected components in cleaned skeleton graph= 1\n",
      "The downsampled branches number of connected components = 1\n",
      "Empty submeshes = []\n",
      "\n",
      "\n",
      "--- Working on 1-to-1 correspondence-----\n",
      "max(original_labels),len(original_labels) = (4, 5)\n",
      "empty_indices % = 0.10484571160389534\n",
      " conflict_indices % = 0.009386366302944973\n"
     ]
    },
    {
     "data": {
      "application/vnd.jupyter.widget-view+json": {
       "model_id": "70ba25225fb243e7a3f53519a35f2e59",
       "version_major": 2,
       "version_minor": 0
      },
      "text/plain": [
       "HBox(children=(FloatProgress(value=0.0, max=218.0), HTML(value='')))"
      ]
     },
     "metadata": {},
     "output_type": "display_data"
    },
    {
     "name": "stdout",
     "output_type": "stream",
     "text": [
      "\n",
      "AFTER face_lookup_resolved_test\n",
      "Took 0 iterations to expand the label back\n",
      "empty_indices % = 0.0\n",
      " conflict_indices % = 0.0\n"
     ]
    },
    {
     "data": {
      "application/vnd.jupyter.widget-view+json": {
       "model_id": "d89d9bf2b1aa47fc8e00c1ce6b2edf5f",
       "version_major": 2,
       "version_minor": 0
      },
      "text/plain": [
       "HBox(children=(FloatProgress(value=1.0, bar_style='info', max=1.0), HTML(value='')))"
      ]
     },
     "metadata": {},
     "output_type": "display_data"
    },
    {
     "name": "stdout",
     "output_type": "stream",
     "text": [
      "\n",
      "AFTER face_lookup_resolved_test\n"
     ]
    },
    {
     "data": {
      "application/vnd.jupyter.widget-view+json": {
       "model_id": "c4869fb860bf4f938b1845793530ebe7",
       "version_major": 2,
       "version_minor": 0
      },
      "text/plain": [
       "HBox(children=(FloatProgress(value=0.0, max=5.0), HTML(value='')))"
      ]
     },
     "metadata": {},
     "output_type": "display_data"
    },
    {
     "name": "stdout",
     "output_type": "stream",
     "text": [
      "\n",
      "Total time for MAP sublimb #0 mesh processing = 83.43613648414612\n",
      "correspondence_1_to_1: 10.145371675491333\n",
      "--- Working on MAP piece 1---\n",
      "MAP Filtering Soma Pieces: 0.007718801498413086\n",
      "inside skeletonize_connected_branch and use_surface_after_CGAL=False, surface_reconstruction_size=1000\n",
      "The mesh passed has 9 pieces so just taking the largest one <trimesh.Trimesh(vertices.shape=(25375, 3), faces.shape=(50914, 3))>\n",
      "     Starting Screened Poisson\n",
      "xvfb-run -n 8151 -s \"-screen 0 800x600x24\" meshlabserver $@  -i /notebooks/Auto_Proofreading/Compartments/Axon/temp/None.off -o /notebooks/Auto_Proofreading/Compartments/Axon/temp/None_poisson.off -s /notebooks/Auto_Proofreading/Compartments/Axon/temp/poisson_735198.mls\n",
      "removed temporary input file: /notebooks/Auto_Proofreading/Compartments/Axon/temp/None.off\n",
      "removed temporary output file: /notebooks/Auto_Proofreading/Compartments/Axon/temp/None_poisson.off\n",
      "Using the close holes feature\n",
      "xvfb-run -n 1715 -s \"-screen 0 800x600x24\" meshlabserver $@  -i /notebooks/Auto_Proofreading/Compartments/Axon/temp/neuron_25611.off -o /notebooks/Auto_Proofreading/Compartments/Axon/temp/neuron_25611_fill_holes.off -s /notebooks/Auto_Proofreading/Compartments/Axon/temp/fill_holes_31477.mls\n",
      "removed temporary input file: /notebooks/Auto_Proofreading/Compartments/Axon/temp/neuron_25611.off\n",
      "removed temporary output file: /notebooks/Auto_Proofreading/Compartments/Axon/temp/neuron_25611_fill_holes.off\n",
      "-----Time for Screened Poisson= 21.978419542312622\n",
      "mesh_pieces = [<trimesh.Trimesh(vertices.shape=(60101, 3), faces.shape=(120202, 3))>]\n",
      "     Starting Calcification (Changed back where stitches large poissons)\n",
      "min_edge_length = 75\n"
     ]
    },
    {
     "data": {
      "application/vnd.jupyter.widget-view+json": {
       "model_id": "26a29932a0054fa79b02d05c49199c39",
       "version_major": 2,
       "version_minor": 0
      },
      "text/plain": [
       "HBox(children=(FloatProgress(value=1.0, bar_style='info', max=1.0), HTML(value='')))"
      ]
     },
     "metadata": {},
     "output_type": "display_data"
    },
    {
     "name": "stdout",
     "output_type": "stream",
     "text": [
      "\n",
      "No skeletons to stack so returning empty list\n",
      "len_subgraphs AT BEGINNING of the loop\n"
     ]
    },
    {
     "data": {
      "application/vnd.jupyter.widget-view+json": {
       "model_id": "ec9831714c1e4fb8816432a987359257",
       "version_major": 2,
       "version_minor": 0
      },
      "text/plain": [
       "HBox(children=(FloatProgress(value=0.0, max=1.0), HTML(value='')))"
      ]
     },
     "metadata": {},
     "output_type": "display_data"
    },
    {
     "name": "stdout",
     "output_type": "stream",
     "text": [
      "all graph is one component!\n",
      "\n",
      "Total time for skeleton stitching = 0.07873988151550293\n",
      "The process was using a temp folder\n",
      "Checking connected components after skeletonize_connected_branch\n",
      "    Total time for skeletonizing branch: 27.076490879058838\n",
      "Checking connected components after removing cycles\n",
      "Total time for mesh KDTree = 0.3646669387817383\n",
      "sbv[0].reshape(-1,3) = [[764613.6 961026.9 879448.1]]\n",
      "closest_sk_pt_coord BEFORE = [764892. 961723. 878964.]\n",
      "current_skeleton.shape = (1817, 2, 3)\n",
      "Current stitch point was a branch or endpoint\n",
      "change_status for create soma extending pieces = False\n",
      "closest_sk_pt_coord AFTER = [764892. 961723. 878964.]\n",
      "skipping soma 0 because closest skeleton node was already end node\n",
      "endpoints_must_keep = {0: array([[764892., 961723., 878964.]])}\n",
      "    Total time for Fixing Skeleton Soma Endpoint Extension : 0.8733808994293213\n",
      "filter_end_node_length = 4500\n",
      "Using Distance measure skeletal_distance\n",
      "endpoints_must_keep = [[764892. 961723. 878964.]]\n",
      "Number of end_nodes BEFORE filtering = 49\n",
      "all_single_nodes_to_eliminate = [0]\n"
     ]
    },
    {
     "data": {
      "application/vnd.jupyter.widget-view+json": {
       "model_id": "2e5ec57e9852410c9f8e03330a879807",
       "version_major": 2,
       "version_minor": 0
      },
      "text/plain": [
       "HBox(children=(FloatProgress(value=0.0, max=46.0), HTML(value='')))"
      ]
     },
     "metadata": {},
     "output_type": "display_data"
    },
    {
     "name": "stdout",
     "output_type": "stream",
     "text": [
      "\n",
      "Checking connected components after clean_skeleton\n",
      "after DISTANCE cleaning limb size of skeleton = (1588, 2, 3)\n",
      "********COMBINING CLOSE SKELETON NODES WITHIN 700 DISTANCE**********\n",
      "Found 0 valid paths to replace\n",
      "valid_paths = []\n",
      "valid_path_lengths = []\n",
      "No valid paths found so just returning the original\n",
      "skeletonize_and_clean_connected_branch_CGAL: 31.316494941711426\n",
      "Working on limb correspondence for #1 MAP piece\n"
     ]
    },
    {
     "data": {
      "application/vnd.jupyter.widget-view+json": {
       "model_id": "419e462667004a50a5b83bd340e41966",
       "version_major": 2,
       "version_minor": 0
      },
      "text/plain": [
       "HBox(children=(FloatProgress(value=1.0, bar_style='info', max=1.0), HTML(value='')))"
      ]
     },
     "metadata": {},
     "output_type": "display_data"
    },
    {
     "name": "stdout",
     "output_type": "stream",
     "text": [
      "\n",
      "Total time for decomposition = 6.791340589523315\n",
      "mesh_correspondence_first_pass: 6.791527509689331\n",
      "Limb decomposed into 5 branches\n",
      "divided_skeleton_graph_recovered = (1588, 2, 3) and \n",
      "current_mesh_data[0]['branch_skeletons_cleaned'].shape = (1588, 2, 3)\n",
      "\n",
      "Number of connected components in deocmposed recovered graph = 1\n",
      "Number of connected components in cleaned skeleton graph= 1\n",
      "The downsampled branches number of connected components = 1\n",
      "Empty submeshes = []\n",
      "\n",
      "\n",
      "--- Working on 1-to-1 correspondence-----\n",
      "max(original_labels),len(original_labels) = (4, 5)\n",
      "empty_indices % = 0.11077726719296178\n",
      " conflict_indices % = 0.01714386709084482\n"
     ]
    },
    {
     "data": {
      "application/vnd.jupyter.widget-view+json": {
       "model_id": "b21172b2329f41058a22348850d3b47b",
       "version_major": 2,
       "version_minor": 0
      },
      "text/plain": [
       "HBox(children=(FloatProgress(value=0.0, max=130.0), HTML(value='')))"
      ]
     },
     "metadata": {},
     "output_type": "display_data"
    },
    {
     "name": "stdout",
     "output_type": "stream",
     "text": [
      "\n",
      "AFTER face_lookup_resolved_test\n",
      "Took 0 iterations to expand the label back\n",
      "empty_indices % = 0.0\n",
      " conflict_indices % = 0.0\n"
     ]
    },
    {
     "data": {
      "application/vnd.jupyter.widget-view+json": {
       "model_id": "e32687e3ee434b3487b9318d2b5cce72",
       "version_major": 2,
       "version_minor": 0
      },
      "text/plain": [
       "HBox(children=(FloatProgress(value=1.0, bar_style='info', max=1.0), HTML(value='')))"
      ]
     },
     "metadata": {},
     "output_type": "display_data"
    },
    {
     "name": "stdout",
     "output_type": "stream",
     "text": [
      "\n",
      "AFTER face_lookup_resolved_test\n"
     ]
    },
    {
     "data": {
      "application/vnd.jupyter.widget-view+json": {
       "model_id": "f4f80a91a0164d9c8c632280b3163158",
       "version_major": 2,
       "version_minor": 0
      },
      "text/plain": [
       "HBox(children=(FloatProgress(value=0.0, max=5.0), HTML(value='')))"
      ]
     },
     "metadata": {},
     "output_type": "display_data"
    },
    {
     "name": "stdout",
     "output_type": "stream",
     "text": [
      "\n",
      "Total time for MAP sublimb #1 mesh processing = 44.00713038444519\n",
      "correspondence_1_to_1: 5.891381740570068\n",
      "Total time for MAP sublimb processing 127.44399166107178\n",
      "---- Working on MP Decomposition #0 ----\n",
      "Computing the current soma touching verts dict manually\n",
      "MP filtering soma verts: 0.018149137496948242\n",
      "Do Not Need to Fix MP Decomposition 0 so just continuing\n",
      "---- Working on MP Decomposition #1 ----\n",
      "Computing the current soma touching verts dict manually\n",
      "MP filtering soma verts: 0.014469385147094727\n",
      "Do Not Need to Fix MP Decomposition 1 so just continuing\n",
      "---- Working on MP Decomposition #2 ----\n",
      "Computing the current soma touching verts dict manually\n",
      "MP filtering soma verts: 0.018901824951171875\n",
      "Do Not Need to Fix MP Decomposition 2 so just continuing\n",
      "---- Working on MP Decomposition #3 ----\n",
      "Computing the current soma touching verts dict manually\n",
      "MP filtering soma verts: 0.01593494415283203\n",
      "Do Not Need to Fix MP Decomposition 3 so just continuing\n",
      "---- Working on MP Decomposition #4 ----\n",
      "Computing the current soma touching verts dict manually\n",
      "MP filtering soma verts: 0.01902914047241211\n",
      "Do Not Need to Fix MP Decomposition 4 so just continuing\n",
      "---- Working on MP Decomposition #5 ----\n",
      "Computing the current soma touching verts dict manually\n",
      "MP filtering soma verts: 0.026587724685668945\n",
      "Do Not Need to Fix MP Decomposition 5 so just continuing\n",
      "---- Working on MP Decomposition #6 ----\n",
      "Computing the current soma touching verts dict manually\n",
      "MP filtering soma verts: 0.02830338478088379\n",
      "Do Not Need to Fix MP Decomposition 6 so just continuing\n",
      "---- Working on MP Decomposition #7 ----\n",
      "Computing the current soma touching verts dict manually\n",
      "MP filtering soma verts: 0.022977113723754883\n",
      "Do Not Need to Fix MP Decomposition 7 so just continuing\n",
      "---- Working on MP Decomposition #8 ----\n",
      "Computing the current soma touching verts dict manually\n",
      "MP filtering soma verts: 0.02472519874572754\n",
      "Do Not Need to Fix MP Decomposition 8 so just continuing\n",
      "---- Working on MP Decomposition #9 ----\n",
      "Computing the current soma touching verts dict manually\n",
      "MP filtering soma verts: 0.026520729064941406\n",
      "Do Not Need to Fix MP Decomposition 9 so just continuing\n",
      "---- Working on MP Decomposition #10 ----\n",
      "Computing the current soma touching verts dict manually\n",
      "MP filtering soma verts: 0.013132333755493164\n",
      "Do Not Need to Fix MP Decomposition 10 so just continuing\n",
      "---- Working on MP Decomposition #11 ----\n",
      "Computing the current soma touching verts dict manually\n",
      "MP filtering soma verts: 0.011338472366333008\n",
      "Do Not Need to Fix MP Decomposition 11 so just continuing\n",
      "Edge (2, 5) was not kept\n",
      "Successful mesh connectivity with type edges\n",
      "\n",
      "---- Working on (0, 0) connection-----\n",
      "Current stitch point was a branch or endpoint\n",
      "sk_conn = [0, 1]\n",
      "conn = [0, 1]\n",
      "winning_vertex = [ 621433.15682079 1079898.78396661  847175.44682173]\n",
      "MP_branches_with_stitch_point = [0, 1]\n",
      "MAP_branches_with_stitch_point = [0]\n",
      "MAP_stitch_point_on_end_or_branch = True\n",
      "Using max stitch distance (300) for smoothing because stitch_distance greater (740.8212071601308) \n",
      "Found winning edge: [822, 823.0]\n",
      "in remove edge\n",
      "Using max stitch distance (300) for smoothing because stitch_distance greater (725.5433986733661) \n",
      "Found winning edge: [101, 102.0]\n",
      "in remove edge\n"
     ]
    },
    {
     "data": {
      "application/vnd.jupyter.widget-view+json": {
       "model_id": "330cdd711fac4fefae14228bf6490c49",
       "version_major": 2,
       "version_minor": 0
      },
      "text/plain": [
       "HBox(children=(FloatProgress(value=1.0, bar_style='info', max=1.0), HTML(value='')))"
      ]
     },
     "metadata": {},
     "output_type": "display_data"
    },
    {
     "name": "stdout",
     "output_type": "stream",
     "text": [
      "\n",
      "\n",
      "\n",
      "--- Working on 1-to-1 correspondence-----\n",
      "max(original_labels),len(original_labels) = (2, 3)\n",
      "empty_indices % = 0.10853543421434796\n",
      " conflict_indices % = 0.00043566656985187334\n"
     ]
    },
    {
     "data": {
      "application/vnd.jupyter.widget-view+json": {
       "model_id": "56626b253bb44e51a9f4720e0682cbbe",
       "version_major": 2,
       "version_minor": 0
      },
      "text/plain": [
       "HBox(children=(FloatProgress(value=0.0, max=29.0), HTML(value='')))"
      ]
     },
     "metadata": {},
     "output_type": "display_data"
    },
    {
     "name": "stdout",
     "output_type": "stream",
     "text": [
      "\n",
      "AFTER face_lookup_resolved_test\n"
     ]
    },
    {
     "data": {
      "application/vnd.jupyter.widget-view+json": {
       "model_id": "ef94ee2190194c7bb298b244ca57e6e8",
       "version_major": 2,
       "version_minor": 0
      },
      "text/plain": [
       "HBox(children=(FloatProgress(value=0.0, max=3.0), HTML(value='')))"
      ]
     },
     "metadata": {},
     "output_type": "display_data"
    },
    {
     "name": "stdout",
     "output_type": "stream",
     "text": [
      "\n",
      "MP_branches_with_stitch_point= [0, 1]\n",
      "MP_branches_for_correspondence = [0 1]\n",
      "MP_leftover = [], MP_leftover_idx = []\n",
      " Finished with (0, 0) \n",
      "\n",
      "\n",
      "\n",
      "\n",
      "---- Working on (1, 0) connection-----\n",
      "Current stitch point was not a branch or endpoint, shortest_path_length to one = 7199.385019803611\n",
      "sk_conn = [0]\n",
      "conn = [0]\n",
      "winning_vertex = [ 834608.55858259 1008537.23536733  858132.74481039]\n",
      "MP_branches_with_stitch_point = [0]\n",
      "MAP_branches_with_stitch_point = [3]\n",
      "MAP_stitch_point_on_end_or_branch = False\n",
      "Using max stitch distance (300) for smoothing because stitch_distance greater (684.0420002432481) \n",
      "Found winning edge: [140, 141.0]\n",
      "in remove edge\n"
     ]
    },
    {
     "data": {
      "application/vnd.jupyter.widget-view+json": {
       "model_id": "1d00aefbe161466c8d367d4d926fe2b6",
       "version_major": 2,
       "version_minor": 0
      },
      "text/plain": [
       "HBox(children=(FloatProgress(value=1.0, bar_style='info', max=1.0), HTML(value='')))"
      ]
     },
     "metadata": {},
     "output_type": "display_data"
    },
    {
     "name": "stdout",
     "output_type": "stream",
     "text": [
      "\n",
      "\n",
      "\n",
      "--- Working on 1-to-1 correspondence-----\n",
      "max(original_labels),len(original_labels) = (1, 2)\n",
      "empty_indices % = 0.06962836394703119\n",
      " conflict_indices % = 0.0070482699700982485\n"
     ]
    },
    {
     "data": {
      "application/vnd.jupyter.widget-view+json": {
       "model_id": "823f96dcd1064201b6fc6b59cf79668d",
       "version_major": 2,
       "version_minor": 0
      },
      "text/plain": [
       "HBox(children=(FloatProgress(value=0.0, max=20.0), HTML(value='')))"
      ]
     },
     "metadata": {},
     "output_type": "display_data"
    },
    {
     "name": "stdout",
     "output_type": "stream",
     "text": [
      "\n",
      "AFTER face_lookup_resolved_test\n"
     ]
    },
    {
     "data": {
      "application/vnd.jupyter.widget-view+json": {
       "model_id": "9bd6325d75994e589c6a3647719200a9",
       "version_major": 2,
       "version_minor": 0
      },
      "text/plain": [
       "HBox(children=(FloatProgress(value=0.0, max=2.0), HTML(value='')))"
      ]
     },
     "metadata": {},
     "output_type": "display_data"
    },
    {
     "name": "stdout",
     "output_type": "stream",
     "text": [
      "\n"
     ]
    },
    {
     "data": {
      "application/vnd.jupyter.widget-view+json": {
       "model_id": "f786ff1b659647d0a552f362653370fd",
       "version_major": 2,
       "version_minor": 0
      },
      "text/plain": [
       "HBox(children=(FloatProgress(value=1.0, bar_style='info', max=1.0), HTML(value='')))"
      ]
     },
     "metadata": {},
     "output_type": "display_data"
    },
    {
     "name": "stdout",
     "output_type": "stream",
     "text": [
      "\n",
      "\n",
      "\n",
      "--- Working on 1-to-1 correspondence-----\n",
      "max(original_labels),len(original_labels) = (2, 3)\n",
      "empty_indices % = 0.111796785304248\n",
      " conflict_indices % = 0.039322617680826635\n"
     ]
    },
    {
     "data": {
      "application/vnd.jupyter.widget-view+json": {
       "model_id": "cbeb354abaab4b63bf5a806385ade14e",
       "version_major": 2,
       "version_minor": 0
      },
      "text/plain": [
       "HBox(children=(FloatProgress(value=0.0, max=10.0), HTML(value='')))"
      ]
     },
     "metadata": {},
     "output_type": "display_data"
    },
    {
     "name": "stdout",
     "output_type": "stream",
     "text": [
      "\n",
      "AFTER face_lookup_resolved_test\n"
     ]
    },
    {
     "data": {
      "application/vnd.jupyter.widget-view+json": {
       "model_id": "a4caf1af55064618a57695f24cded285",
       "version_major": 2,
       "version_minor": 0
      },
      "text/plain": [
       "HBox(children=(FloatProgress(value=0.0, max=3.0), HTML(value='')))"
      ]
     },
     "metadata": {},
     "output_type": "display_data"
    },
    {
     "name": "stdout",
     "output_type": "stream",
     "text": [
      "\n",
      "Deleting branches from dictionary\n",
      "MP_branches_with_stitch_point= [0]\n",
      "MP_branches_for_correspondence = [0]\n",
      "MP_leftover = [], MP_leftover_idx = []\n",
      " Finished with (1, 0) \n",
      "\n",
      "\n",
      "\n",
      "\n",
      "---- Working on (2, 0) connection-----\n",
      "Current stitch point was not a branch or endpoint, shortest_path_length to one = 21031.611233846805\n",
      "sk_conn = [0]\n",
      "conn = [0]\n",
      "winning_vertex = [ 810776.71389258 1017836.3378414   850877.39501258]\n",
      "MP_branches_with_stitch_point = [0]\n",
      "MAP_branches_with_stitch_point = [0]\n",
      "MAP_stitch_point_on_end_or_branch = False\n",
      "Using max stitch distance (300) for smoothing because stitch_distance greater (522.7128704363495) \n",
      "Found winning edge: [164, 165.0]\n",
      "in remove edge\n"
     ]
    },
    {
     "data": {
      "application/vnd.jupyter.widget-view+json": {
       "model_id": "1db9bb51f1674e938e89e1836bfe77e5",
       "version_major": 2,
       "version_minor": 0
      },
      "text/plain": [
       "HBox(children=(FloatProgress(value=1.0, bar_style='info', max=1.0), HTML(value='')))"
      ]
     },
     "metadata": {},
     "output_type": "display_data"
    },
    {
     "name": "stdout",
     "output_type": "stream",
     "text": [
      "\n",
      "\n",
      "\n",
      "--- Working on 1-to-1 correspondence-----\n",
      "max(original_labels),len(original_labels) = (1, 2)\n",
      "empty_indices % = 0.10574927592419439\n",
      " conflict_indices % = 0.00027366644621314054\n"
     ]
    },
    {
     "data": {
      "application/vnd.jupyter.widget-view+json": {
       "model_id": "61f06588ebec41e68c18e5e7e7c57f6e",
       "version_major": 2,
       "version_minor": 0
      },
      "text/plain": [
       "HBox(children=(FloatProgress(value=0.0, max=111.0), HTML(value='')))"
      ]
     },
     "metadata": {},
     "output_type": "display_data"
    },
    {
     "name": "stdout",
     "output_type": "stream",
     "text": [
      "\n",
      "AFTER face_lookup_resolved_test\n"
     ]
    },
    {
     "data": {
      "application/vnd.jupyter.widget-view+json": {
       "model_id": "e325f271bb4942bfb429fd40d18a1650",
       "version_major": 2,
       "version_minor": 0
      },
      "text/plain": [
       "HBox(children=(FloatProgress(value=0.0, max=2.0), HTML(value='')))"
      ]
     },
     "metadata": {},
     "output_type": "display_data"
    },
    {
     "name": "stdout",
     "output_type": "stream",
     "text": [
      "\n"
     ]
    },
    {
     "data": {
      "application/vnd.jupyter.widget-view+json": {
       "model_id": "970f5c48f77d4e04b3e6fe71ffd2fd9f",
       "version_major": 2,
       "version_minor": 0
      },
      "text/plain": [
       "HBox(children=(FloatProgress(value=1.0, bar_style='info', max=1.0), HTML(value='')))"
      ]
     },
     "metadata": {},
     "output_type": "display_data"
    },
    {
     "name": "stdout",
     "output_type": "stream",
     "text": [
      "\n",
      "\n",
      "\n",
      "--- Working on 1-to-1 correspondence-----\n",
      "max(original_labels),len(original_labels) = (2, 3)\n",
      "empty_indices % = 0.10629314389116011\n",
      " conflict_indices % = 0.0009382749145499631\n"
     ]
    },
    {
     "data": {
      "application/vnd.jupyter.widget-view+json": {
       "model_id": "8db4a91fb4874db0b3bdce6346609fca",
       "version_major": 2,
       "version_minor": 0
      },
      "text/plain": [
       "HBox(children=(FloatProgress(value=0.0, max=11.0), HTML(value='')))"
      ]
     },
     "metadata": {},
     "output_type": "display_data"
    },
    {
     "name": "stdout",
     "output_type": "stream",
     "text": [
      "\n",
      "AFTER face_lookup_resolved_test\n"
     ]
    },
    {
     "data": {
      "application/vnd.jupyter.widget-view+json": {
       "model_id": "81785e60f8d04bb2a5ffc0e007c69cad",
       "version_major": 2,
       "version_minor": 0
      },
      "text/plain": [
       "HBox(children=(FloatProgress(value=0.0, max=3.0), HTML(value='')))"
      ]
     },
     "metadata": {},
     "output_type": "display_data"
    },
    {
     "name": "stdout",
     "output_type": "stream",
     "text": [
      "\n",
      "Deleting branches from dictionary\n",
      "MP_branches_with_stitch_point= [0]\n",
      "MP_branches_for_correspondence = [0]\n",
      "MP_leftover = [], MP_leftover_idx = []\n",
      " Finished with (2, 0) \n",
      "\n",
      "\n",
      "\n",
      "\n",
      "---- Working on (3, 0) connection-----\n",
      "Current stitch point was not a branch or endpoint, shortest_path_length to one = 36911.986182333305\n",
      "sk_conn = [0]\n",
      "conn = [0]\n",
      "winning_vertex = [ 654119.39052006 1066395.03675066  847426.64592048]\n",
      "MP_branches_with_stitch_point = [0]\n",
      "MAP_branches_with_stitch_point = [0]\n",
      "MAP_stitch_point_on_end_or_branch = False\n",
      "Using max stitch distance (300) for smoothing because stitch_distance greater (318.1441926141118) \n",
      "Found winning edge: [254, 257.0]\n",
      "in remove edge\n"
     ]
    },
    {
     "data": {
      "application/vnd.jupyter.widget-view+json": {
       "model_id": "fdeb29a444804367b36ae1cc2cc16cb5",
       "version_major": 2,
       "version_minor": 0
      },
      "text/plain": [
       "HBox(children=(FloatProgress(value=1.0, bar_style='info', max=1.0), HTML(value='')))"
      ]
     },
     "metadata": {},
     "output_type": "display_data"
    },
    {
     "name": "stdout",
     "output_type": "stream",
     "text": [
      "\n",
      "\n",
      "\n",
      "--- Working on 1-to-1 correspondence-----\n",
      "max(original_labels),len(original_labels) = (1, 2)\n",
      "empty_indices % = 0.11939312307809602\n",
      " conflict_indices % = 0.00022872245800401535\n"
     ]
    },
    {
     "data": {
      "application/vnd.jupyter.widget-view+json": {
       "model_id": "8fc0900b76fd41bcbedb5b2a79ffc8c5",
       "version_major": 2,
       "version_minor": 0
      },
      "text/plain": [
       "HBox(children=(FloatProgress(value=0.0, max=105.0), HTML(value='')))"
      ]
     },
     "metadata": {},
     "output_type": "display_data"
    },
    {
     "name": "stdout",
     "output_type": "stream",
     "text": [
      "\n",
      "AFTER face_lookup_resolved_test\n"
     ]
    },
    {
     "data": {
      "application/vnd.jupyter.widget-view+json": {
       "model_id": "87361f69133346beb907d59120ab3e0d",
       "version_major": 2,
       "version_minor": 0
      },
      "text/plain": [
       "HBox(children=(FloatProgress(value=0.0, max=2.0), HTML(value='')))"
      ]
     },
     "metadata": {},
     "output_type": "display_data"
    },
    {
     "name": "stdout",
     "output_type": "stream",
     "text": [
      "\n"
     ]
    },
    {
     "data": {
      "application/vnd.jupyter.widget-view+json": {
       "model_id": "efe8462b935740ad9e7d3270746220cc",
       "version_major": 2,
       "version_minor": 0
      },
      "text/plain": [
       "HBox(children=(FloatProgress(value=1.0, bar_style='info', max=1.0), HTML(value='')))"
      ]
     },
     "metadata": {},
     "output_type": "display_data"
    },
    {
     "name": "stdout",
     "output_type": "stream",
     "text": [
      "\n",
      "\n",
      "\n",
      "--- Working on 1-to-1 correspondence-----\n",
      "max(original_labels),len(original_labels) = (2, 3)\n",
      "empty_indices % = 0.13444945582900283\n",
      " conflict_indices % = 0.0011030493185606432\n"
     ]
    },
    {
     "data": {
      "application/vnd.jupyter.widget-view+json": {
       "model_id": "b926f68006e748e1b8040abe19b592bc",
       "version_major": 2,
       "version_minor": 0
      },
      "text/plain": [
       "HBox(children=(FloatProgress(value=0.0, max=7.0), HTML(value='')))"
      ]
     },
     "metadata": {},
     "output_type": "display_data"
    },
    {
     "name": "stdout",
     "output_type": "stream",
     "text": [
      "\n",
      "AFTER face_lookup_resolved_test\n"
     ]
    },
    {
     "data": {
      "application/vnd.jupyter.widget-view+json": {
       "model_id": "3aacfe6a60b746ec859909763bcdc6a5",
       "version_major": 2,
       "version_minor": 0
      },
      "text/plain": [
       "HBox(children=(FloatProgress(value=0.0, max=3.0), HTML(value='')))"
      ]
     },
     "metadata": {},
     "output_type": "display_data"
    },
    {
     "name": "stdout",
     "output_type": "stream",
     "text": [
      "\n",
      "Deleting branches from dictionary\n",
      "MP_branches_with_stitch_point= [0]\n",
      "MP_branches_for_correspondence = [0]\n",
      "MP_leftover = [], MP_leftover_idx = []\n",
      " Finished with (3, 0) \n",
      "\n",
      "\n",
      "\n",
      "\n",
      "---- Working on (4, 0) connection-----\n",
      "Current stitch point was not a branch or endpoint, shortest_path_length to one = 78537.24156998456\n",
      "sk_conn = [0]\n",
      "conn = [0]\n",
      "winning_vertex = [ 740875.60521871 1038687.52217102  839831.25998153]\n",
      "MP_branches_with_stitch_point = [0]\n",
      "MAP_branches_with_stitch_point = [7]\n",
      "MAP_stitch_point_on_end_or_branch = False\n",
      "Found winning edge: [12, 13.0]\n",
      "in remove edge\n"
     ]
    },
    {
     "data": {
      "application/vnd.jupyter.widget-view+json": {
       "model_id": "96346705c1f34b969355a3a70a1a8c86",
       "version_major": 2,
       "version_minor": 0
      },
      "text/plain": [
       "HBox(children=(FloatProgress(value=1.0, bar_style='info', max=1.0), HTML(value='')))"
      ]
     },
     "metadata": {},
     "output_type": "display_data"
    },
    {
     "name": "stdout",
     "output_type": "stream",
     "text": [
      "\n",
      "\n",
      "\n",
      "--- Working on 1-to-1 correspondence-----\n",
      "max(original_labels),len(original_labels) = (1, 2)\n",
      "empty_indices % = 0.12284794613590054\n",
      " conflict_indices % = 0.000295307562826684\n"
     ]
    },
    {
     "data": {
      "application/vnd.jupyter.widget-view+json": {
       "model_id": "dca1313bec264a55a4bf34ed8a8d9ee6",
       "version_major": 2,
       "version_minor": 0
      },
      "text/plain": [
       "HBox(children=(FloatProgress(value=0.0, max=95.0), HTML(value='')))"
      ]
     },
     "metadata": {},
     "output_type": "display_data"
    },
    {
     "name": "stdout",
     "output_type": "stream",
     "text": [
      "\n",
      "AFTER face_lookup_resolved_test\n"
     ]
    },
    {
     "data": {
      "application/vnd.jupyter.widget-view+json": {
       "model_id": "9f7326ceacf1464d9b3cd1009512c19a",
       "version_major": 2,
       "version_minor": 0
      },
      "text/plain": [
       "HBox(children=(FloatProgress(value=0.0, max=2.0), HTML(value='')))"
      ]
     },
     "metadata": {},
     "output_type": "display_data"
    },
    {
     "name": "stdout",
     "output_type": "stream",
     "text": [
      "\n"
     ]
    },
    {
     "data": {
      "application/vnd.jupyter.widget-view+json": {
       "model_id": "fbb074ce35734fad9a8e684121b93426",
       "version_major": 2,
       "version_minor": 0
      },
      "text/plain": [
       "HBox(children=(FloatProgress(value=1.0, bar_style='info', max=1.0), HTML(value='')))"
      ]
     },
     "metadata": {},
     "output_type": "display_data"
    },
    {
     "name": "stdout",
     "output_type": "stream",
     "text": [
      "\n",
      "\n",
      "\n",
      "--- Working on 1-to-1 correspondence-----\n",
      "max(original_labels),len(original_labels) = (2, 3)\n",
      "empty_indices % = 0.1227756965581831\n",
      " conflict_indices % = 0.020516272535705923\n"
     ]
    },
    {
     "data": {
      "application/vnd.jupyter.widget-view+json": {
       "model_id": "44deff5782bb4558a00c6f7e323075d0",
       "version_major": 2,
       "version_minor": 0
      },
      "text/plain": [
       "HBox(children=(FloatProgress(value=0.0, max=2.0), HTML(value='')))"
      ]
     },
     "metadata": {},
     "output_type": "display_data"
    },
    {
     "name": "stdout",
     "output_type": "stream",
     "text": [
      "\n",
      "AFTER face_lookup_resolved_test\n"
     ]
    },
    {
     "data": {
      "application/vnd.jupyter.widget-view+json": {
       "model_id": "612b768e182f44f1a446af541d6aab74",
       "version_major": 2,
       "version_minor": 0
      },
      "text/plain": [
       "HBox(children=(FloatProgress(value=0.0, max=3.0), HTML(value='')))"
      ]
     },
     "metadata": {},
     "output_type": "display_data"
    },
    {
     "name": "stdout",
     "output_type": "stream",
     "text": [
      "\n",
      "Deleting branches from dictionary\n",
      "MP_branches_with_stitch_point= [0]\n",
      "MP_branches_for_correspondence = [0]\n",
      "MP_leftover = [], MP_leftover_idx = []\n",
      " Finished with (4, 0) \n",
      "\n",
      "\n",
      "\n",
      "\n",
      "---- Working on (5, 0) connection-----\n",
      "Current stitch point was not a branch or endpoint, shortest_path_length to one = 1448.0622034734918\n",
      "sk_conn = [0, 1, 2]\n",
      "conn = [0, 1, 2]\n",
      "winning_vertex = [ 812666.45561609 1017316.94860585  850507.38782781]\n",
      "MP_branches_with_stitch_point = [0, 1, 2]\n",
      "MAP_branches_with_stitch_point = [6]\n",
      "MAP_stitch_point_on_end_or_branch = False\n",
      "Using max stitch distance (300) for smoothing because stitch_distance greater (304.77931984751905) \n",
      "Found winning edge: [0, 2.0]\n",
      "in remove edge\n",
      "Using max stitch distance (300) for smoothing because stitch_distance greater (618.3721113290264) \n",
      "Found winning edge: [9, 10.0]\n",
      "in remove edge\n",
      "Using max stitch distance (300) for smoothing because stitch_distance greater (607.771159582519) \n",
      "Found winning edge: [44, 46.0]\n",
      "in remove edge\n"
     ]
    },
    {
     "data": {
      "application/vnd.jupyter.widget-view+json": {
       "model_id": "a41b4210629c447c93a486832c39308c",
       "version_major": 2,
       "version_minor": 0
      },
      "text/plain": [
       "HBox(children=(FloatProgress(value=1.0, bar_style='info', max=1.0), HTML(value='')))"
      ]
     },
     "metadata": {},
     "output_type": "display_data"
    },
    {
     "name": "stdout",
     "output_type": "stream",
     "text": [
      "\n",
      "\n",
      "\n",
      "--- Working on 1-to-1 correspondence-----\n",
      "max(original_labels),len(original_labels) = (1, 2)\n",
      "empty_indices % = 0.171477442805217\n",
      " conflict_indices % = 0.0027795595467179817\n"
     ]
    },
    {
     "data": {
      "application/vnd.jupyter.widget-view+json": {
       "model_id": "fc1ff69906f040568968b13cb5fd447b",
       "version_major": 2,
       "version_minor": 0
      },
      "text/plain": [
       "HBox(children=(FloatProgress(value=0.0, max=18.0), HTML(value='')))"
      ]
     },
     "metadata": {},
     "output_type": "display_data"
    },
    {
     "name": "stdout",
     "output_type": "stream",
     "text": [
      "\n",
      "AFTER face_lookup_resolved_test\n"
     ]
    },
    {
     "data": {
      "application/vnd.jupyter.widget-view+json": {
       "model_id": "3061b6f1e7bc4e98aa2c2d5547bcb3bc",
       "version_major": 2,
       "version_minor": 0
      },
      "text/plain": [
       "HBox(children=(FloatProgress(value=0.0, max=2.0), HTML(value='')))"
      ]
     },
     "metadata": {},
     "output_type": "display_data"
    },
    {
     "name": "stdout",
     "output_type": "stream",
     "text": [
      "\n"
     ]
    },
    {
     "data": {
      "application/vnd.jupyter.widget-view+json": {
       "model_id": "4d0d3e5ec6074cedb9d98a43145bc128",
       "version_major": 2,
       "version_minor": 0
      },
      "text/plain": [
       "HBox(children=(FloatProgress(value=1.0, bar_style='info', max=1.0), HTML(value='')))"
      ]
     },
     "metadata": {},
     "output_type": "display_data"
    },
    {
     "name": "stdout",
     "output_type": "stream",
     "text": [
      "\n",
      "\n",
      "\n",
      "--- Working on 1-to-1 correspondence-----\n",
      "max(original_labels),len(original_labels) = (4, 5)\n",
      "empty_indices % = 0.1699537750385208\n",
      " conflict_indices % = 0.009399075500770416\n"
     ]
    },
    {
     "data": {
      "application/vnd.jupyter.widget-view+json": {
       "model_id": "cf46845f73e748159752e992be156ac7",
       "version_major": 2,
       "version_minor": 0
      },
      "text/plain": [
       "HBox(children=(FloatProgress(value=0.0, max=17.0), HTML(value='')))"
      ]
     },
     "metadata": {},
     "output_type": "display_data"
    },
    {
     "name": "stdout",
     "output_type": "stream",
     "text": [
      "\n",
      "AFTER face_lookup_resolved_test\n"
     ]
    },
    {
     "data": {
      "application/vnd.jupyter.widget-view+json": {
       "model_id": "e46c086b247f449a89ca7a6b83d83657",
       "version_major": 2,
       "version_minor": 0
      },
      "text/plain": [
       "HBox(children=(FloatProgress(value=0.0, max=5.0), HTML(value='')))"
      ]
     },
     "metadata": {},
     "output_type": "display_data"
    },
    {
     "name": "stdout",
     "output_type": "stream",
     "text": [
      "\n",
      "Deleting branches from dictionary\n",
      "MP_branches_with_stitch_point= [0, 1, 2]\n",
      "MP_branches_for_correspondence = [0 1 2]\n",
      "MP_leftover = [], MP_leftover_idx = []\n",
      " Finished with (5, 0) \n",
      "\n",
      "\n",
      "\n",
      "\n",
      "---- Working on (7, 0) connection-----\n",
      "Current stitch point was not a branch or endpoint, shortest_path_length to one = 3339.3268138836493\n",
      "sk_conn = [1]\n",
      "conn = [1]\n",
      "winning_vertex = [ 844554.17994661 1000961.75317652  861608.75604605]\n",
      "MP_branches_with_stitch_point = [1]\n",
      "MAP_branches_with_stitch_point = [5]\n",
      "MAP_stitch_point_on_end_or_branch = False\n",
      "Using max stitch distance (300) for smoothing because stitch_distance greater (460.9871643054035) \n",
      "Found winning edge: [9, 10.0]\n",
      "in remove edge\n"
     ]
    },
    {
     "data": {
      "application/vnd.jupyter.widget-view+json": {
       "model_id": "5c968c6637ec4754bc5a227b4a49ad18",
       "version_major": 2,
       "version_minor": 0
      },
      "text/plain": [
       "HBox(children=(FloatProgress(value=1.0, bar_style='info', max=1.0), HTML(value='')))"
      ]
     },
     "metadata": {},
     "output_type": "display_data"
    },
    {
     "name": "stdout",
     "output_type": "stream",
     "text": [
      "\n",
      "\n",
      "\n",
      "--- Working on 1-to-1 correspondence-----\n",
      "max(original_labels),len(original_labels) = (1, 2)\n",
      "empty_indices % = 0.09206349206349207\n",
      " conflict_indices % = 0.004329004329004329\n"
     ]
    },
    {
     "data": {
      "application/vnd.jupyter.widget-view+json": {
       "model_id": "936fe60955144b44885548c4f8606904",
       "version_major": 2,
       "version_minor": 0
      },
      "text/plain": [
       "HBox(children=(FloatProgress(value=0.0, max=22.0), HTML(value='')))"
      ]
     },
     "metadata": {},
     "output_type": "display_data"
    },
    {
     "name": "stdout",
     "output_type": "stream",
     "text": [
      "\n",
      "AFTER face_lookup_resolved_test\n"
     ]
    },
    {
     "data": {
      "application/vnd.jupyter.widget-view+json": {
       "model_id": "f4b664b2f49f419381a2fbc259ca90b1",
       "version_major": 2,
       "version_minor": 0
      },
      "text/plain": [
       "HBox(children=(FloatProgress(value=0.0, max=2.0), HTML(value='')))"
      ]
     },
     "metadata": {},
     "output_type": "display_data"
    },
    {
     "name": "stdout",
     "output_type": "stream",
     "text": [
      "\n"
     ]
    },
    {
     "data": {
      "application/vnd.jupyter.widget-view+json": {
       "model_id": "1d41f74cb7c840c9a7549f50d62777a5",
       "version_major": 2,
       "version_minor": 0
      },
      "text/plain": [
       "HBox(children=(FloatProgress(value=1.0, bar_style='info', max=1.0), HTML(value='')))"
      ]
     },
     "metadata": {},
     "output_type": "display_data"
    },
    {
     "name": "stdout",
     "output_type": "stream",
     "text": [
      "\n",
      "\n",
      "\n",
      "--- Working on 1-to-1 correspondence-----\n",
      "max(original_labels),len(original_labels) = (2, 3)\n",
      "empty_indices % = 0.16810750663357016\n",
      " conflict_indices % = 0.031241975519986306\n"
     ]
    },
    {
     "data": {
      "application/vnd.jupyter.widget-view+json": {
       "model_id": "bcea926fb08148d0ba9b43da5787a7af",
       "version_major": 2,
       "version_minor": 0
      },
      "text/plain": [
       "HBox(children=(FloatProgress(value=0.0, max=24.0), HTML(value='')))"
      ]
     },
     "metadata": {},
     "output_type": "display_data"
    },
    {
     "name": "stdout",
     "output_type": "stream",
     "text": [
      "\n",
      "AFTER face_lookup_resolved_test\n"
     ]
    },
    {
     "data": {
      "application/vnd.jupyter.widget-view+json": {
       "model_id": "24369fb59b6744559562b2209bb9e602",
       "version_major": 2,
       "version_minor": 0
      },
      "text/plain": [
       "HBox(children=(FloatProgress(value=0.0, max=3.0), HTML(value='')))"
      ]
     },
     "metadata": {},
     "output_type": "display_data"
    },
    {
     "name": "stdout",
     "output_type": "stream",
     "text": [
      "\n",
      "Deleting branches from dictionary\n",
      "MP_branches_with_stitch_point= [1]\n",
      "MP_branches_for_correspondence = [1]\n",
      "MP_leftover = [], MP_leftover_idx = []\n",
      " Finished with (7, 0) \n",
      "\n",
      "\n",
      "\n",
      "\n",
      "---- Working on (8, 0) connection-----\n",
      "Current stitch point was not a branch or endpoint, shortest_path_length to one = 38815.69455421581\n",
      "sk_conn = [0]\n",
      "conn = [0]\n",
      "winning_vertex = [ 777467.28879304 1027851.604918    844537.04498641]\n",
      "MP_branches_with_stitch_point = [0]\n",
      "MAP_branches_with_stitch_point = [8]\n",
      "MAP_stitch_point_on_end_or_branch = False\n",
      "Found winning edge: [43, 44.0]\n",
      "in remove edge\n"
     ]
    },
    {
     "data": {
      "application/vnd.jupyter.widget-view+json": {
       "model_id": "a88f6602c5d44f40a25c8c87f3fc78df",
       "version_major": 2,
       "version_minor": 0
      },
      "text/plain": [
       "HBox(children=(FloatProgress(value=1.0, bar_style='info', max=1.0), HTML(value='')))"
      ]
     },
     "metadata": {},
     "output_type": "display_data"
    },
    {
     "name": "stdout",
     "output_type": "stream",
     "text": [
      "\n",
      "\n",
      "\n",
      "--- Working on 1-to-1 correspondence-----\n",
      "max(original_labels),len(original_labels) = (1, 2)\n",
      "empty_indices % = 0.09649781113195748\n",
      " conflict_indices % = 0.00075046904315197\n"
     ]
    },
    {
     "data": {
      "application/vnd.jupyter.widget-view+json": {
       "model_id": "3e27acc0c8c24d6bab6d781197e23705",
       "version_major": 2,
       "version_minor": 0
      },
      "text/plain": [
       "HBox(children=(FloatProgress(value=0.0, max=47.0), HTML(value='')))"
      ]
     },
     "metadata": {},
     "output_type": "display_data"
    },
    {
     "name": "stdout",
     "output_type": "stream",
     "text": [
      "\n",
      "AFTER face_lookup_resolved_test\n"
     ]
    },
    {
     "data": {
      "application/vnd.jupyter.widget-view+json": {
       "model_id": "1bbc42dbe34b401d932e359b34cb0450",
       "version_major": 2,
       "version_minor": 0
      },
      "text/plain": [
       "HBox(children=(FloatProgress(value=0.0, max=2.0), HTML(value='')))"
      ]
     },
     "metadata": {},
     "output_type": "display_data"
    },
    {
     "name": "stdout",
     "output_type": "stream",
     "text": [
      "\n"
     ]
    },
    {
     "data": {
      "application/vnd.jupyter.widget-view+json": {
       "model_id": "e7c901396f604fe3baed65d89ead16c9",
       "version_major": 2,
       "version_minor": 0
      },
      "text/plain": [
       "HBox(children=(FloatProgress(value=1.0, bar_style='info', max=1.0), HTML(value='')))"
      ]
     },
     "metadata": {},
     "output_type": "display_data"
    },
    {
     "name": "stdout",
     "output_type": "stream",
     "text": [
      "\n",
      "\n",
      "\n",
      "--- Working on 1-to-1 correspondence-----\n",
      "max(original_labels),len(original_labels) = (2, 3)\n",
      "empty_indices % = 0.1030527401832858\n",
      " conflict_indices % = 0.0021241730897614856\n"
     ]
    },
    {
     "data": {
      "application/vnd.jupyter.widget-view+json": {
       "model_id": "cf5dea70e0984ae39f48872c8c66b948",
       "version_major": 2,
       "version_minor": 0
      },
      "text/plain": [
       "HBox(children=(FloatProgress(value=0.0, max=5.0), HTML(value='')))"
      ]
     },
     "metadata": {},
     "output_type": "display_data"
    },
    {
     "name": "stdout",
     "output_type": "stream",
     "text": [
      "\n",
      "AFTER face_lookup_resolved_test\n"
     ]
    },
    {
     "data": {
      "application/vnd.jupyter.widget-view+json": {
       "model_id": "93f311af1f6e43d7826531a5931d078f",
       "version_major": 2,
       "version_minor": 0
      },
      "text/plain": [
       "HBox(children=(FloatProgress(value=0.0, max=3.0), HTML(value='')))"
      ]
     },
     "metadata": {},
     "output_type": "display_data"
    },
    {
     "name": "stdout",
     "output_type": "stream",
     "text": [
      "\n",
      "Deleting branches from dictionary\n",
      "MP_branches_with_stitch_point= [0]\n",
      "MP_branches_for_correspondence = [0]\n",
      "MP_leftover = [], MP_leftover_idx = []\n",
      " Finished with (8, 0) \n",
      "\n",
      "\n",
      "\n",
      "\n",
      "---- Working on (11, 0) connection-----\n",
      "Current stitch point was not a branch or endpoint, shortest_path_length to one = 12862.326169237438\n",
      "sk_conn = [0]\n",
      "conn = [0]\n",
      "winning_vertex = [ 751852.71606945 1034781.42029594  841826.78472209]\n",
      "MP_branches_with_stitch_point = [0]\n",
      "MAP_branches_with_stitch_point = [8]\n",
      "MAP_stitch_point_on_end_or_branch = False\n",
      "Using max stitch distance (300) for smoothing because stitch_distance greater (865.1534004129668) \n",
      "Found winning edge: [9, 10.0]\n",
      "in remove edge\n"
     ]
    },
    {
     "data": {
      "application/vnd.jupyter.widget-view+json": {
       "model_id": "599ea3abe9dd40ef9c49ff3aa92e05bc",
       "version_major": 2,
       "version_minor": 0
      },
      "text/plain": [
       "HBox(children=(FloatProgress(value=1.0, bar_style='info', max=1.0), HTML(value='')))"
      ]
     },
     "metadata": {},
     "output_type": "display_data"
    },
    {
     "name": "stdout",
     "output_type": "stream",
     "text": [
      "\n",
      "\n",
      "\n",
      "--- Working on 1-to-1 correspondence-----\n",
      "max(original_labels),len(original_labels) = (1, 2)\n",
      "empty_indices % = 0.10890079061463913\n",
      " conflict_indices % = 0.0045906656465187455\n"
     ]
    },
    {
     "data": {
      "application/vnd.jupyter.widget-view+json": {
       "model_id": "16b4d4eb37f44ea38ed03e269b0f869b",
       "version_major": 2,
       "version_minor": 0
      },
      "text/plain": [
       "HBox(children=(FloatProgress(value=0.0, max=25.0), HTML(value='')))"
      ]
     },
     "metadata": {},
     "output_type": "display_data"
    },
    {
     "name": "stdout",
     "output_type": "stream",
     "text": [
      "\n",
      "AFTER face_lookup_resolved_test\n"
     ]
    },
    {
     "data": {
      "application/vnd.jupyter.widget-view+json": {
       "model_id": "18f89c7863de455ebf2882d5897f0690",
       "version_major": 2,
       "version_minor": 0
      },
      "text/plain": [
       "HBox(children=(FloatProgress(value=0.0, max=2.0), HTML(value='')))"
      ]
     },
     "metadata": {},
     "output_type": "display_data"
    },
    {
     "name": "stdout",
     "output_type": "stream",
     "text": [
      "\n"
     ]
    },
    {
     "data": {
      "application/vnd.jupyter.widget-view+json": {
       "model_id": "d97f2c1924cf419ca495c7041824d869",
       "version_major": 2,
       "version_minor": 0
      },
      "text/plain": [
       "HBox(children=(FloatProgress(value=1.0, bar_style='info', max=1.0), HTML(value='')))"
      ]
     },
     "metadata": {},
     "output_type": "display_data"
    },
    {
     "name": "stdout",
     "output_type": "stream",
     "text": [
      "\n",
      "\n",
      "\n",
      "--- Working on 1-to-1 correspondence-----\n",
      "max(original_labels),len(original_labels) = (2, 3)\n",
      "empty_indices % = 0.11837029893924783\n",
      " conflict_indices % = 0.005544840887174542\n"
     ]
    },
    {
     "data": {
      "application/vnd.jupyter.widget-view+json": {
       "model_id": "8a81f1b343b44bb29c8397ce4d0b8693",
       "version_major": 2,
       "version_minor": 0
      },
      "text/plain": [
       "HBox(children=(FloatProgress(value=0.0, max=9.0), HTML(value='')))"
      ]
     },
     "metadata": {},
     "output_type": "display_data"
    },
    {
     "name": "stdout",
     "output_type": "stream",
     "text": [
      "\n",
      "AFTER face_lookup_resolved_test\n"
     ]
    },
    {
     "data": {
      "application/vnd.jupyter.widget-view+json": {
       "model_id": "325420dd4db54fa691223a81226ab47c",
       "version_major": 2,
       "version_minor": 0
      },
      "text/plain": [
       "HBox(children=(FloatProgress(value=0.0, max=3.0), HTML(value='')))"
      ]
     },
     "metadata": {},
     "output_type": "display_data"
    },
    {
     "name": "stdout",
     "output_type": "stream",
     "text": [
      "\n",
      "Deleting branches from dictionary\n",
      "MP_branches_with_stitch_point= [0]\n",
      "MP_branches_for_correspondence = [0]\n",
      "MP_leftover = [], MP_leftover_idx = []\n",
      " Finished with (11, 0) \n",
      "\n",
      "\n",
      "\n",
      "\n",
      "---- Working on (1, 1) connection-----\n",
      "Current stitch point was not a branch or endpoint, shortest_path_length to one = 1107.8385617927433\n",
      "sk_conn = [0]\n",
      "conn = [0]\n",
      "winning_vertex = [ 820762.89202273 1006986.27176105  862526.87194537]\n",
      "MP_branches_with_stitch_point = [0]\n",
      "MAP_branches_with_stitch_point = [4]\n",
      "MAP_stitch_point_on_end_or_branch = False\n",
      "Using max stitch distance (300) for smoothing because stitch_distance greater (601.7255764337608) \n",
      "Found winning edge: [8, 9.0]\n",
      "in remove edge\n"
     ]
    },
    {
     "data": {
      "application/vnd.jupyter.widget-view+json": {
       "model_id": "ad98c33e2db046428739bf2afb706606",
       "version_major": 2,
       "version_minor": 0
      },
      "text/plain": [
       "HBox(children=(FloatProgress(value=1.0, bar_style='info', max=1.0), HTML(value='')))"
      ]
     },
     "metadata": {},
     "output_type": "display_data"
    },
    {
     "name": "stdout",
     "output_type": "stream",
     "text": [
      "\n",
      "\n",
      "\n",
      "--- Working on 1-to-1 correspondence-----\n",
      "max(original_labels),len(original_labels) = (1, 2)\n",
      "empty_indices % = 0.1394658753709199\n",
      " conflict_indices % = 0.005267062314540059\n"
     ]
    },
    {
     "data": {
      "application/vnd.jupyter.widget-view+json": {
       "model_id": "44e89c83fa324658b15594c676f829e6",
       "version_major": 2,
       "version_minor": 0
      },
      "text/plain": [
       "HBox(children=(FloatProgress(value=0.0, max=41.0), HTML(value='')))"
      ]
     },
     "metadata": {},
     "output_type": "display_data"
    },
    {
     "name": "stdout",
     "output_type": "stream",
     "text": [
      "\n",
      "AFTER face_lookup_resolved_test\n"
     ]
    },
    {
     "data": {
      "application/vnd.jupyter.widget-view+json": {
       "model_id": "c39b834e78cb4f8ab46401fd293280e1",
       "version_major": 2,
       "version_minor": 0
      },
      "text/plain": [
       "HBox(children=(FloatProgress(value=0.0, max=2.0), HTML(value='')))"
      ]
     },
     "metadata": {},
     "output_type": "display_data"
    },
    {
     "name": "stdout",
     "output_type": "stream",
     "text": [
      "\n"
     ]
    },
    {
     "data": {
      "application/vnd.jupyter.widget-view+json": {
       "model_id": "a2c5e85dba504b25a861f66794b108f9",
       "version_major": 2,
       "version_minor": 0
      },
      "text/plain": [
       "HBox(children=(FloatProgress(value=1.0, bar_style='info', max=1.0), HTML(value='')))"
      ]
     },
     "metadata": {},
     "output_type": "display_data"
    },
    {
     "name": "stdout",
     "output_type": "stream",
     "text": [
      "\n",
      "\n",
      "\n",
      "--- Working on 1-to-1 correspondence-----\n",
      "max(original_labels),len(original_labels) = (2, 3)\n",
      "empty_indices % = 0.16021636937343037\n",
      " conflict_indices % = 0.013716272779960076\n"
     ]
    },
    {
     "data": {
      "application/vnd.jupyter.widget-view+json": {
       "model_id": "81f837ad135749b79d0be6bb9a77b6f2",
       "version_major": 2,
       "version_minor": 0
      },
      "text/plain": [
       "HBox(children=(FloatProgress(value=0.0, max=12.0), HTML(value='')))"
      ]
     },
     "metadata": {},
     "output_type": "display_data"
    },
    {
     "name": "stdout",
     "output_type": "stream",
     "text": [
      "\n",
      "AFTER face_lookup_resolved_test\n"
     ]
    },
    {
     "data": {
      "application/vnd.jupyter.widget-view+json": {
       "model_id": "4c8a0ad3331c4577995b0e2a6e5ae8c6",
       "version_major": 2,
       "version_minor": 0
      },
      "text/plain": [
       "HBox(children=(FloatProgress(value=0.0, max=3.0), HTML(value='')))"
      ]
     },
     "metadata": {},
     "output_type": "display_data"
    },
    {
     "name": "stdout",
     "output_type": "stream",
     "text": [
      "\n",
      "Deleting branches from dictionary\n",
      "MP_branches_with_stitch_point= [0]\n",
      "MP_branches_for_correspondence = [0]\n",
      "MP_leftover = [], MP_leftover_idx = []\n",
      " Finished with (1, 1) \n",
      "\n",
      "\n",
      "\n",
      "\n",
      "---- Working on (6, 1) connection-----\n",
      "Current stitch point was not a branch or endpoint, shortest_path_length to one = 10016.748151377766\n",
      "sk_conn = [0]\n",
      "conn = [0]\n",
      "winning_vertex = [808492.72167126 969524.95129816 863685.18721981]\n",
      "MP_branches_with_stitch_point = [0]\n",
      "MAP_branches_with_stitch_point = [2]\n",
      "MAP_stitch_point_on_end_or_branch = False\n",
      "Using max stitch distance (300) for smoothing because stitch_distance greater (788.4200085884111) \n",
      "Found winning edge: [142, 143.0]\n",
      "in remove edge\n"
     ]
    },
    {
     "data": {
      "application/vnd.jupyter.widget-view+json": {
       "model_id": "ff803fea08f648de9abd4ddc8de48485",
       "version_major": 2,
       "version_minor": 0
      },
      "text/plain": [
       "HBox(children=(FloatProgress(value=1.0, bar_style='info', max=1.0), HTML(value='')))"
      ]
     },
     "metadata": {},
     "output_type": "display_data"
    },
    {
     "name": "stdout",
     "output_type": "stream",
     "text": [
      "\n",
      "\n",
      "\n",
      "--- Working on 1-to-1 correspondence-----\n",
      "max(original_labels),len(original_labels) = (1, 2)\n",
      "empty_indices % = 0.10160132523467698\n",
      " conflict_indices % = 0.004417448923246825\n"
     ]
    },
    {
     "data": {
      "application/vnd.jupyter.widget-view+json": {
       "model_id": "1721f8364c0e4fcc83a7fac2fb26f5ed",
       "version_major": 2,
       "version_minor": 0
      },
      "text/plain": [
       "HBox(children=(FloatProgress(value=0.0, max=22.0), HTML(value='')))"
      ]
     },
     "metadata": {},
     "output_type": "display_data"
    },
    {
     "name": "stdout",
     "output_type": "stream",
     "text": [
      "\n",
      "AFTER face_lookup_resolved_test\n"
     ]
    },
    {
     "data": {
      "application/vnd.jupyter.widget-view+json": {
       "model_id": "32c27a79d8b9486ca742819af81c5752",
       "version_major": 2,
       "version_minor": 0
      },
      "text/plain": [
       "HBox(children=(FloatProgress(value=0.0, max=2.0), HTML(value='')))"
      ]
     },
     "metadata": {},
     "output_type": "display_data"
    },
    {
     "name": "stdout",
     "output_type": "stream",
     "text": [
      "\n"
     ]
    },
    {
     "data": {
      "application/vnd.jupyter.widget-view+json": {
       "model_id": "6c87b68245204eb582c6da02aaf40e20",
       "version_major": 2,
       "version_minor": 0
      },
      "text/plain": [
       "HBox(children=(FloatProgress(value=1.0, bar_style='info', max=1.0), HTML(value='')))"
      ]
     },
     "metadata": {},
     "output_type": "display_data"
    },
    {
     "name": "stdout",
     "output_type": "stream",
     "text": [
      "\n",
      "\n",
      "\n",
      "--- Working on 1-to-1 correspondence-----\n",
      "max(original_labels),len(original_labels) = (2, 3)\n",
      "empty_indices % = 0.10464658397322307\n",
      " conflict_indices % = 0.01535735380980508\n"
     ]
    },
    {
     "data": {
      "application/vnd.jupyter.widget-view+json": {
       "model_id": "3b3d1ff1fc55446e80b1a749fcf0eb94",
       "version_major": 2,
       "version_minor": 0
      },
      "text/plain": [
       "HBox(children=(FloatProgress(value=0.0, max=5.0), HTML(value='')))"
      ]
     },
     "metadata": {},
     "output_type": "display_data"
    },
    {
     "name": "stdout",
     "output_type": "stream",
     "text": [
      "\n",
      "AFTER face_lookup_resolved_test\n"
     ]
    },
    {
     "data": {
      "application/vnd.jupyter.widget-view+json": {
       "model_id": "29e5a1e7120c4c57a3e37f3d71253e2a",
       "version_major": 2,
       "version_minor": 0
      },
      "text/plain": [
       "HBox(children=(FloatProgress(value=0.0, max=3.0), HTML(value='')))"
      ]
     },
     "metadata": {},
     "output_type": "display_data"
    },
    {
     "name": "stdout",
     "output_type": "stream",
     "text": [
      "\n",
      "Deleting branches from dictionary\n",
      "MP_branches_with_stitch_point= [0]\n",
      "MP_branches_for_correspondence = [0]\n",
      "MP_leftover = [], MP_leftover_idx = []\n",
      " Finished with (6, 1) \n",
      "\n",
      "\n",
      "\n",
      "\n",
      "---- Working on (9, 1) connection-----\n",
      "Current stitch point was not a branch or endpoint, shortest_path_length to one = 24917.284760082985\n",
      "sk_conn = [0]\n",
      "conn = [0]\n",
      "winning_vertex = [ 795965.90298399 1005413.97155279  865087.47016204]\n",
      "MP_branches_with_stitch_point = [0]\n",
      "MAP_branches_with_stitch_point = [1]\n",
      "MAP_stitch_point_on_end_or_branch = False\n",
      "Using max stitch distance (300) for smoothing because stitch_distance greater (340.73959651500246) \n",
      "Found winning edge: [245, 246.0]\n",
      "in remove edge\n"
     ]
    },
    {
     "data": {
      "application/vnd.jupyter.widget-view+json": {
       "model_id": "d9be5ef3a3074aaa99d1033f2c9fbd4e",
       "version_major": 2,
       "version_minor": 0
      },
      "text/plain": [
       "HBox(children=(FloatProgress(value=1.0, bar_style='info', max=1.0), HTML(value='')))"
      ]
     },
     "metadata": {},
     "output_type": "display_data"
    },
    {
     "name": "stdout",
     "output_type": "stream",
     "text": [
      "\n",
      "\n",
      "\n",
      "--- Working on 1-to-1 correspondence-----\n",
      "max(original_labels),len(original_labels) = (1, 2)\n",
      "empty_indices % = 0.20006248698187878\n",
      " conflict_indices % = 0.0012497396375755051\n"
     ]
    },
    {
     "data": {
      "application/vnd.jupyter.widget-view+json": {
       "model_id": "ee0fd04dc5ee4af2a3a55e7e5848571b",
       "version_major": 2,
       "version_minor": 0
      },
      "text/plain": [
       "HBox(children=(FloatProgress(value=0.0, max=43.0), HTML(value='')))"
      ]
     },
     "metadata": {},
     "output_type": "display_data"
    },
    {
     "name": "stdout",
     "output_type": "stream",
     "text": [
      "\n",
      "AFTER face_lookup_resolved_test\n"
     ]
    },
    {
     "data": {
      "application/vnd.jupyter.widget-view+json": {
       "model_id": "33d296c377f44bb0ad051534f85d7939",
       "version_major": 2,
       "version_minor": 0
      },
      "text/plain": [
       "HBox(children=(FloatProgress(value=0.0, max=2.0), HTML(value='')))"
      ]
     },
     "metadata": {},
     "output_type": "display_data"
    },
    {
     "name": "stdout",
     "output_type": "stream",
     "text": [
      "\n"
     ]
    },
    {
     "data": {
      "application/vnd.jupyter.widget-view+json": {
       "model_id": "e19f6fdc188546f7bda4bd5858829101",
       "version_major": 2,
       "version_minor": 0
      },
      "text/plain": [
       "HBox(children=(FloatProgress(value=1.0, bar_style='info', max=1.0), HTML(value='')))"
      ]
     },
     "metadata": {},
     "output_type": "display_data"
    },
    {
     "name": "stdout",
     "output_type": "stream",
     "text": [
      "\n",
      "\n",
      "\n",
      "--- Working on 1-to-1 correspondence-----\n",
      "max(original_labels),len(original_labels) = (2, 3)\n",
      "empty_indices % = 0.22149141539250022\n",
      " conflict_indices % = 0.009310668830614162\n"
     ]
    },
    {
     "data": {
      "application/vnd.jupyter.widget-view+json": {
       "model_id": "39615fba8a10444ca7a7c034f494478f",
       "version_major": 2,
       "version_minor": 0
      },
      "text/plain": [
       "HBox(children=(FloatProgress(value=0.0, max=11.0), HTML(value='')))"
      ]
     },
     "metadata": {},
     "output_type": "display_data"
    },
    {
     "name": "stdout",
     "output_type": "stream",
     "text": [
      "\n",
      "AFTER face_lookup_resolved_test\n"
     ]
    },
    {
     "data": {
      "application/vnd.jupyter.widget-view+json": {
       "model_id": "22a6225d82164870b6453487d56b5cfa",
       "version_major": 2,
       "version_minor": 0
      },
      "text/plain": [
       "HBox(children=(FloatProgress(value=0.0, max=3.0), HTML(value='')))"
      ]
     },
     "metadata": {},
     "output_type": "display_data"
    },
    {
     "name": "stdout",
     "output_type": "stream",
     "text": [
      "\n",
      "Deleting branches from dictionary\n",
      "MP_branches_with_stitch_point= [0]\n",
      "MP_branches_for_correspondence = [0]\n",
      "MP_leftover = [], MP_leftover_idx = []\n",
      " Finished with (9, 1) \n",
      "\n",
      "\n",
      "\n",
      "\n",
      "---- Working on (10, 1) connection-----\n",
      "Current stitch point was not a branch or endpoint, shortest_path_length to one = 6691.674148392684\n",
      "sk_conn = [0]\n",
      "conn = [0]\n",
      "winning_vertex = [ 815411.99877383 1002555.62215959  865499.10850638]\n",
      "MP_branches_with_stitch_point = [0]\n",
      "MAP_branches_with_stitch_point = [3]\n",
      "MAP_stitch_point_on_end_or_branch = False\n",
      "Found winning edge: [165, 166.0]\n",
      "in remove edge\n"
     ]
    },
    {
     "data": {
      "application/vnd.jupyter.widget-view+json": {
       "model_id": "9f08485298964ccb8202a2c97bcd5e0d",
       "version_major": 2,
       "version_minor": 0
      },
      "text/plain": [
       "HBox(children=(FloatProgress(value=1.0, bar_style='info', max=1.0), HTML(value='')))"
      ]
     },
     "metadata": {},
     "output_type": "display_data"
    },
    {
     "name": "stdout",
     "output_type": "stream",
     "text": [
      "\n",
      "\n",
      "\n",
      "--- Working on 1-to-1 correspondence-----\n",
      "max(original_labels),len(original_labels) = (1, 2)\n",
      "empty_indices % = 0.08443449048152296\n",
      " conflict_indices % = 0.0006718924972004479\n"
     ]
    },
    {
     "data": {
      "application/vnd.jupyter.widget-view+json": {
       "model_id": "49ab65c2631540afb5923e8eb25e6769",
       "version_major": 2,
       "version_minor": 0
      },
      "text/plain": [
       "HBox(children=(FloatProgress(value=0.0, max=36.0), HTML(value='')))"
      ]
     },
     "metadata": {},
     "output_type": "display_data"
    },
    {
     "name": "stdout",
     "output_type": "stream",
     "text": [
      "\n",
      "AFTER face_lookup_resolved_test\n"
     ]
    },
    {
     "data": {
      "application/vnd.jupyter.widget-view+json": {
       "model_id": "4570164853e841ff85c91ddc81279bb5",
       "version_major": 2,
       "version_minor": 0
      },
      "text/plain": [
       "HBox(children=(FloatProgress(value=0.0, max=2.0), HTML(value='')))"
      ]
     },
     "metadata": {},
     "output_type": "display_data"
    },
    {
     "name": "stdout",
     "output_type": "stream",
     "text": [
      "\n"
     ]
    },
    {
     "data": {
      "application/vnd.jupyter.widget-view+json": {
       "model_id": "f5113bfa35804f33b46abfb31001790d",
       "version_major": 2,
       "version_minor": 0
      },
      "text/plain": [
       "HBox(children=(FloatProgress(value=1.0, bar_style='info', max=1.0), HTML(value='')))"
      ]
     },
     "metadata": {},
     "output_type": "display_data"
    },
    {
     "name": "stdout",
     "output_type": "stream",
     "text": [
      "\n",
      "\n",
      "\n",
      "--- Working on 1-to-1 correspondence-----\n",
      "max(original_labels),len(original_labels) = (2, 3)\n",
      "empty_indices % = 0.08663729809104258\n",
      " conflict_indices % = 0.005594014404587092\n"
     ]
    },
    {
     "data": {
      "application/vnd.jupyter.widget-view+json": {
       "model_id": "52962147539545b7abfbbcf9ea423b74",
       "version_major": 2,
       "version_minor": 0
      },
      "text/plain": [
       "HBox(children=(FloatProgress(value=0.0, max=9.0), HTML(value='')))"
      ]
     },
     "metadata": {},
     "output_type": "display_data"
    },
    {
     "name": "stdout",
     "output_type": "stream",
     "text": [
      "\n",
      "AFTER face_lookup_resolved_test\n"
     ]
    },
    {
     "data": {
      "application/vnd.jupyter.widget-view+json": {
       "model_id": "9dfc319a3dd14d43b9652601a1ec42ec",
       "version_major": 2,
       "version_minor": 0
      },
      "text/plain": [
       "HBox(children=(FloatProgress(value=0.0, max=3.0), HTML(value='')))"
      ]
     },
     "metadata": {},
     "output_type": "display_data"
    },
    {
     "name": "stdout",
     "output_type": "stream",
     "text": [
      "\n",
      "Deleting branches from dictionary\n",
      "MP_branches_with_stitch_point= [0]\n",
      "MP_branches_for_correspondence = [0]\n",
      "MP_leftover = [], MP_leftover_idx = []\n",
      " Finished with (10, 1) \n",
      "\n",
      "\n",
      "\n",
      "Time for decomp of Limb = 248.38334131240845\n",
      "Number of matching vertices = 34\n",
      "Number of matching vertices = 29\n",
      "Only one endpoint after filtering away the endpoints that are not on the skeleton\n",
      "Only one endpoint after filtering away the endpoints that are not on the skeleton\n",
      "Using Distance measure skeletal_distance\n",
      "endpoints_must_keep = [array([855834., 995971., 860546.]), array([764892., 961723., 878964.])]\n",
      "Number of end_nodes BEFORE filtering = 24\n",
      "all_single_nodes_to_eliminate = [20, 7]\n",
      "no small end nodes to get rid of so returning whole skeleton\n",
      "Removed 0 skeletal branches\n"
     ]
    },
    {
     "data": {
      "application/vnd.jupyter.widget-view+json": {
       "model_id": "0095aa96e0bc4eb9b5eed612132cbcac",
       "version_major": 2,
       "version_minor": 0
      },
      "text/plain": [
       "HBox(children=(FloatProgress(value=0.0, max=43.0), HTML(value='')))"
      ]
     },
     "metadata": {},
     "output_type": "display_data"
    },
    {
     "name": "stdout",
     "output_type": "stream",
     "text": [
      "\n",
      "175810 175811\n",
      "For marked faces: None\n",
      "empty_indices % = 0.0\n",
      " conflict_indices % = 0.0\n"
     ]
    },
    {
     "data": {
      "application/vnd.jupyter.widget-view+json": {
       "model_id": "989f9d992581479d9190da6f4f375fa4",
       "version_major": 2,
       "version_minor": 0
      },
      "text/plain": [
       "HBox(children=(FloatProgress(value=1.0, bar_style='info', max=1.0), HTML(value='')))"
      ]
     },
     "metadata": {},
     "output_type": "display_data"
    },
    {
     "name": "stdout",
     "output_type": "stream",
     "text": [
      "\n",
      "AFTER face_lookup_resolved_test\n"
     ]
    },
    {
     "data": {
      "application/vnd.jupyter.widget-view+json": {
       "model_id": "51bf63c5e37846fd98e19b97d3653017",
       "version_major": 2,
       "version_minor": 0
      },
      "text/plain": [
       "HBox(children=(FloatProgress(value=0.0, max=43.0), HTML(value='')))"
      ]
     },
     "metadata": {},
     "output_type": "display_data"
    },
    {
     "name": "stdout",
     "output_type": "stream",
     "text": [
      "\n",
      "\n",
      "\n",
      "----- Working on Proper Limb # 2 ---------\n",
      "meshparty_segment_size = 100\n",
      "root_curr = [760439.3 960593.1 865868.4]\n",
      "Time for preparing soma vertices and root: 0.0003211498260498047\n",
      "invalidation_d = 12000\n",
      "cc_vertex_thresh = 10\n"
     ]
    },
    {
     "name": "stderr",
     "output_type": "stream",
     "text": [
      "\r",
      "  0%|          | 0/1 [00:00<?, ?it/s]"
     ]
    },
    {
     "data": {
      "application/vnd.jupyter.widget-view+json": {
       "model_id": "843c02a6369f456fb91a6061c5136613",
       "version_major": 2,
       "version_minor": 0
      },
      "text/plain": [
       "HBox(children=(FloatProgress(value=0.0, max=56750.0), HTML(value='')))"
      ]
     },
     "metadata": {},
     "output_type": "display_data"
    },
    {
     "name": "stderr",
     "output_type": "stream",
     "text": [
      "100%|██████████| 1/1 [00:01<00:00,  1.07s/it]"
     ]
    },
    {
     "name": "stdout",
     "output_type": "stream",
     "text": [
      "\n"
     ]
    },
    {
     "name": "stderr",
     "output_type": "stream",
     "text": [
      "\n"
     ]
    },
    {
     "name": "stdout",
     "output_type": "stream",
     "text": [
      "meshparty_segment_size = 100\n",
      "Time for 1st pass MP skeletonization: 1.681121587753296\n",
      "connecting at the root\n",
      "branches_touching_root = [46]\n",
      "length of Graph = 7320\n",
      "Working on path [4679. 4683. 4691. 4696. 4699.]\n",
      "path_degrees = [3, 2, 2, 2, 3]\n",
      "Working on path [5644. 5650. 5659. 5666. 5682.]\n",
      "path_degrees = [3, 2, 2, 2, 3]\n",
      "After combining close endpoints max(kept_branches_idx) = 46, len(kept_branches_idx) = 45\n",
      "empty_indices % = 0.0\n",
      " conflict_indices % = 0.018000262777558798\n"
     ]
    },
    {
     "data": {
      "application/vnd.jupyter.widget-view+json": {
       "model_id": "e51d8828221f4116ae8d84d4add9941c",
       "version_major": 2,
       "version_minor": 0
      },
      "text/plain": [
       "HBox(children=(FloatProgress(value=0.0, max=21.0), HTML(value='')))"
      ]
     },
     "metadata": {},
     "output_type": "display_data"
    },
    {
     "name": "stdout",
     "output_type": "stream",
     "text": [
      "\n",
      "AFTER face_lookup_resolved_test\n"
     ]
    },
    {
     "data": {
      "application/vnd.jupyter.widget-view+json": {
       "model_id": "2c1597a1ff52423b91dd069780505886",
       "version_major": 2,
       "version_minor": 0
      },
      "text/plain": [
       "HBox(children=(FloatProgress(value=0.0, max=45.0), HTML(value='')))"
      ]
     },
     "metadata": {},
     "output_type": "display_data"
    },
    {
     "name": "stdout",
     "output_type": "stream",
     "text": [
      "\n",
      "Decomposing first pass: 7.976678371429443\n",
      "Attempting to use MeshAfterParty Skeletonization and Mesh Correspondence\n",
      "Another print\n",
      "Found len(mesh_large_idx) MAP candidates: [17924, 3672, 310, 29, 4519, 64, 1189, 4275, 2710, 7221, 13089, 8243, 121, 207, 4777, 9461]\n",
      "mesh_large_connectivity: 0.2210700511932373\n",
      "Finding MAP candidates connected components: 0.0002429485321044922\n",
      "len(filtered_pieces) = 2\n",
      "skeleton_connectivity_MP : 0.17874979972839355\n",
      "Grouping MP Sublimbs by Graph: 0.03824162483215332\n",
      "Divinding into MP and MAP pieces: 1.1920928955078125e-06\n",
      "--- Working on MAP piece 0---\n",
      "MAP Filtering Soma Pieces: 0.005878448486328125\n",
      "inside skeletonize_connected_branch and use_surface_after_CGAL=False, surface_reconstruction_size=1000\n",
      "The mesh passed has 8 pieces so just taking the largest one <trimesh.Trimesh(vertices.shape=(34740, 3), faces.shape=(69566, 3))>\n",
      "     Starting Screened Poisson\n",
      "xvfb-run -n 8068 -s \"-screen 0 800x600x24\" meshlabserver $@  -i /notebooks/Auto_Proofreading/Compartments/Axon/temp/None.off -o /notebooks/Auto_Proofreading/Compartments/Axon/temp/None_poisson.off -s /notebooks/Auto_Proofreading/Compartments/Axon/temp/poisson_173231.mls\n",
      "removed temporary input file: /notebooks/Auto_Proofreading/Compartments/Axon/temp/None.off\n",
      "removed temporary output file: /notebooks/Auto_Proofreading/Compartments/Axon/temp/None_poisson.off\n",
      "Using the close holes feature\n",
      "xvfb-run -n 9271 -s \"-screen 0 800x600x24\" meshlabserver $@  -i /notebooks/Auto_Proofreading/Compartments/Axon/temp/neuron_1461.off -o /notebooks/Auto_Proofreading/Compartments/Axon/temp/neuron_1461_fill_holes.off -s /notebooks/Auto_Proofreading/Compartments/Axon/temp/fill_holes_395269.mls\n",
      "removed temporary input file: /notebooks/Auto_Proofreading/Compartments/Axon/temp/neuron_1461.off\n",
      "removed temporary output file: /notebooks/Auto_Proofreading/Compartments/Axon/temp/neuron_1461_fill_holes.off\n",
      "-----Time for Screened Poisson= 22.881919384002686\n",
      "mesh_pieces = [<trimesh.Trimesh(vertices.shape=(74323, 3), faces.shape=(148654, 3))>]\n",
      "     Starting Calcification (Changed back where stitches large poissons)\n",
      "min_edge_length = 75\n"
     ]
    },
    {
     "data": {
      "application/vnd.jupyter.widget-view+json": {
       "model_id": "175ed56536a240a09f50912c890a12ab",
       "version_major": 2,
       "version_minor": 0
      },
      "text/plain": [
       "HBox(children=(FloatProgress(value=1.0, bar_style='info', max=1.0), HTML(value='')))"
      ]
     },
     "metadata": {},
     "output_type": "display_data"
    },
    {
     "name": "stdout",
     "output_type": "stream",
     "text": [
      "\n",
      "No skeletons to stack so returning empty list\n",
      "len_subgraphs AT BEGINNING of the loop\n"
     ]
    },
    {
     "data": {
      "application/vnd.jupyter.widget-view+json": {
       "model_id": "c5052fbb582240a7b92c02bdf05ce714",
       "version_major": 2,
       "version_minor": 0
      },
      "text/plain": [
       "HBox(children=(FloatProgress(value=0.0, max=1.0), HTML(value='')))"
      ]
     },
     "metadata": {},
     "output_type": "display_data"
    },
    {
     "name": "stdout",
     "output_type": "stream",
     "text": [
      "all graph is one component!\n",
      "\n",
      "Total time for skeleton stitching = 0.09089303016662598\n",
      "The process was using a temp folder\n",
      "Checking connected components after skeletonize_connected_branch\n",
      "    Total time for skeletonizing branch: 29.69406533241272\n",
      "Checking connected components after removing cycles\n",
      "Total time for mesh KDTree = 0.4630730152130127\n",
      "sbv[0].reshape(-1,3) = [[760439.3 960593.1 865868.4]]\n",
      "closest_sk_pt_coord BEFORE = [759821. 961581. 866163.]\n",
      "current_skeleton.shape = (2127, 2, 3)\n",
      "Current stitch point was not a branch or endpoint, shortest_path_length to one = 384.09982287153923\n",
      "Changing the stitch point becasue the distance to end or branch node was 384.09982287153923\n",
      "New stitch point has degree 1\n",
      "change_status for create soma extending pieces = True\n",
      "closest_sk_pt_coord AFTER = [759468. 961525. 866302.]\n",
      "skipping soma 0 because closest skeleton node was already end node\n",
      "endpoints_must_keep = {0: array([[759468., 961525., 866302.]])}\n",
      "    Total time for Fixing Skeleton Soma Endpoint Extension : 1.0922114849090576\n",
      "filter_end_node_length = 4500\n",
      "Using Distance measure skeletal_distance\n",
      "endpoints_must_keep = [[759468. 961525. 866302.]]\n",
      "Number of end_nodes BEFORE filtering = 61\n",
      "all_single_nodes_to_eliminate = [0]\n"
     ]
    },
    {
     "data": {
      "application/vnd.jupyter.widget-view+json": {
       "model_id": "541a8ece551c426a85ae698710b514ca",
       "version_major": 2,
       "version_minor": 0
      },
      "text/plain": [
       "HBox(children=(FloatProgress(value=0.0, max=60.0), HTML(value='')))"
      ]
     },
     "metadata": {},
     "output_type": "display_data"
    },
    {
     "name": "stdout",
     "output_type": "stream",
     "text": [
      "\n",
      "Checking connected components after clean_skeleton\n",
      "after DISTANCE cleaning limb size of skeleton = (1846, 2, 3)\n",
      "********COMBINING CLOSE SKELETON NODES WITHIN 700 DISTANCE**********\n",
      "Found 0 valid paths to replace\n",
      "valid_paths = []\n",
      "valid_path_lengths = []\n",
      "No valid paths found so just returning the original\n",
      "skeletonize_and_clean_connected_branch_CGAL: 36.30583071708679\n",
      "Working on limb correspondence for #0 MAP piece\n"
     ]
    },
    {
     "data": {
      "application/vnd.jupyter.widget-view+json": {
       "model_id": "af65437e93064d5cb1e968c4d2ff0294",
       "version_major": 2,
       "version_minor": 0
      },
      "text/plain": [
       "HBox(children=(FloatProgress(value=1.0, bar_style='info', max=1.0), HTML(value='')))"
      ]
     },
     "metadata": {},
     "output_type": "display_data"
    },
    {
     "name": "stdout",
     "output_type": "stream",
     "text": [
      "\n",
      "Total time for decomposition = 7.240845680236816\n",
      "mesh_correspondence_first_pass: 7.240870714187622\n",
      "Limb decomposed into 7 branches\n",
      "divided_skeleton_graph_recovered = (1846, 2, 3) and \n",
      "current_mesh_data[0]['branch_skeletons_cleaned'].shape = (1846, 2, 3)\n",
      "\n",
      "Number of connected components in deocmposed recovered graph = 1\n",
      "Number of connected components in cleaned skeleton graph= 1\n",
      "The downsampled branches number of connected components = 1\n",
      "Empty submeshes = []\n",
      "\n",
      "\n",
      "--- Working on 1-to-1 correspondence-----\n",
      "max(original_labels),len(original_labels) = (6, 7)\n",
      "empty_indices % = 0.08973308611099133\n",
      " conflict_indices % = 0.02173256866888017\n"
     ]
    },
    {
     "data": {
      "application/vnd.jupyter.widget-view+json": {
       "model_id": "536f256419ef45889997799fe570cdc9",
       "version_major": 2,
       "version_minor": 0
      },
      "text/plain": [
       "HBox(children=(FloatProgress(value=0.0, max=166.0), HTML(value='')))"
      ]
     },
     "metadata": {},
     "output_type": "display_data"
    },
    {
     "name": "stdout",
     "output_type": "stream",
     "text": [
      "\n",
      "AFTER face_lookup_resolved_test\n",
      "Took 0 iterations to expand the label back\n",
      "empty_indices % = 0.0\n",
      " conflict_indices % = 0.0\n"
     ]
    },
    {
     "data": {
      "application/vnd.jupyter.widget-view+json": {
       "model_id": "8382d66688724da8bfed79dcad90daff",
       "version_major": 2,
       "version_minor": 0
      },
      "text/plain": [
       "HBox(children=(FloatProgress(value=1.0, bar_style='info', max=1.0), HTML(value='')))"
      ]
     },
     "metadata": {},
     "output_type": "display_data"
    },
    {
     "name": "stdout",
     "output_type": "stream",
     "text": [
      "\n",
      "AFTER face_lookup_resolved_test\n"
     ]
    },
    {
     "data": {
      "application/vnd.jupyter.widget-view+json": {
       "model_id": "1e87eecc68c645f79ebdb7281f18252c",
       "version_major": 2,
       "version_minor": 0
      },
      "text/plain": [
       "HBox(children=(FloatProgress(value=0.0, max=7.0), HTML(value='')))"
      ]
     },
     "metadata": {},
     "output_type": "display_data"
    },
    {
     "name": "stdout",
     "output_type": "stream",
     "text": [
      "\n",
      "Total time for MAP sublimb #0 mesh processing = 49.16109275817871\n",
      "correspondence_1_to_1: 5.608596086502075\n",
      "--- Working on MAP piece 1---\n",
      "MAP Filtering Soma Pieces: 0.005926609039306641\n",
      "inside skeletonize_connected_branch and use_surface_after_CGAL=False, surface_reconstruction_size=1000\n",
      "The mesh passed has 5 pieces so just taking the largest one <trimesh.Trimesh(vertices.shape=(3514, 3), faces.shape=(6980, 3))>\n",
      "     Starting Screened Poisson\n",
      "xvfb-run -n 6989 -s \"-screen 0 800x600x24\" meshlabserver $@  -i /notebooks/Auto_Proofreading/Compartments/Axon/temp/None.off -o /notebooks/Auto_Proofreading/Compartments/Axon/temp/None_poisson.off -s /notebooks/Auto_Proofreading/Compartments/Axon/temp/poisson_22399.mls\n",
      "removed temporary input file: /notebooks/Auto_Proofreading/Compartments/Axon/temp/None.off\n",
      "removed temporary output file: /notebooks/Auto_Proofreading/Compartments/Axon/temp/None_poisson.off\n",
      "Using the close holes feature\n",
      "xvfb-run -n 5747 -s \"-screen 0 800x600x24\" meshlabserver $@  -i /notebooks/Auto_Proofreading/Compartments/Axon/temp/neuron_64266.off -o /notebooks/Auto_Proofreading/Compartments/Axon/temp/neuron_64266_fill_holes.off -s /notebooks/Auto_Proofreading/Compartments/Axon/temp/fill_holes_401861.mls\n",
      "removed temporary input file: /notebooks/Auto_Proofreading/Compartments/Axon/temp/neuron_64266.off\n",
      "removed temporary output file: /notebooks/Auto_Proofreading/Compartments/Axon/temp/neuron_64266_fill_holes.off\n",
      "-----Time for Screened Poisson= 8.252532005310059\n",
      "mesh_pieces = [<trimesh.Trimesh(vertices.shape=(6607, 3), faces.shape=(13210, 3))>]\n",
      "     Starting Calcification (Changed back where stitches large poissons)\n",
      "min_edge_length = 75\n"
     ]
    },
    {
     "data": {
      "application/vnd.jupyter.widget-view+json": {
       "model_id": "05f02a7c19d44568bdfc0c8ba829f744",
       "version_major": 2,
       "version_minor": 0
      },
      "text/plain": [
       "HBox(children=(FloatProgress(value=1.0, bar_style='info', max=1.0), HTML(value='')))"
      ]
     },
     "metadata": {},
     "output_type": "display_data"
    },
    {
     "name": "stdout",
     "output_type": "stream",
     "text": [
      "\n",
      "No skeletons to stack so returning empty list\n",
      "len_subgraphs AT BEGINNING of the loop\n"
     ]
    },
    {
     "data": {
      "application/vnd.jupyter.widget-view+json": {
       "model_id": "8d6f8e51eea146098d2815eed4828755",
       "version_major": 2,
       "version_minor": 0
      },
      "text/plain": [
       "HBox(children=(FloatProgress(value=0.0, max=1.0), HTML(value='')))"
      ]
     },
     "metadata": {},
     "output_type": "display_data"
    },
    {
     "name": "stdout",
     "output_type": "stream",
     "text": [
      "all graph is one component!\n",
      "\n",
      "Total time for skeleton stitching = 0.029577016830444336\n",
      "The process was using a temp folder\n",
      "Checking connected components after skeletonize_connected_branch\n",
      "    Total time for skeletonizing branch: 8.77381420135498\n",
      "Checking connected components after removing cycles\n",
      "    Total time for Fixing Skeleton Soma Endpoint Extension : 0.012877464294433594\n",
      "filter_end_node_length = 4500\n",
      "Using Distance measure skeletal_distance\n"
     ]
    },
    {
     "data": {
      "application/vnd.jupyter.widget-view+json": {
       "model_id": "1601b177e77748589acb90a168f68879",
       "version_major": 2,
       "version_minor": 0
      },
      "text/plain": [
       "HBox(children=(FloatProgress(value=0.0, max=6.0), HTML(value='')))"
      ]
     },
     "metadata": {},
     "output_type": "display_data"
    },
    {
     "name": "stdout",
     "output_type": "stream",
     "text": [
      "\n",
      "Checking connected components after clean_skeleton\n",
      "after DISTANCE cleaning limb size of skeleton = (278, 2, 3)\n",
      "********COMBINING CLOSE SKELETON NODES WITHIN 700 DISTANCE**********\n",
      "Found 0 valid paths to replace\n",
      "valid_paths = []\n",
      "valid_path_lengths = []\n",
      "No valid paths found so just returning the original\n",
      "Inside MAP decomposition and curr_limb_endpoints_must_keep was None\n",
      "skeletonize_and_clean_connected_branch_CGAL: 11.250927209854126\n",
      "Working on limb correspondence for #1 MAP piece\n"
     ]
    },
    {
     "data": {
      "application/vnd.jupyter.widget-view+json": {
       "model_id": "e77cf5ae6a02473f90619b8f4911a86a",
       "version_major": 2,
       "version_minor": 0
      },
      "text/plain": [
       "HBox(children=(FloatProgress(value=1.0, bar_style='info', max=1.0), HTML(value='')))"
      ]
     },
     "metadata": {},
     "output_type": "display_data"
    },
    {
     "name": "stdout",
     "output_type": "stream",
     "text": [
      "\n",
      "Total time for decomposition = 0.6629166603088379\n",
      "mesh_correspondence_first_pass: 0.6629486083984375\n",
      "Limb decomposed into 1 branches\n",
      "divided_skeleton_graph_recovered = (278, 2, 3) and \n",
      "current_mesh_data[0]['branch_skeletons_cleaned'].shape = (278, 2, 3)\n",
      "\n",
      "Number of connected components in deocmposed recovered graph = 1\n",
      "Number of connected components in cleaned skeleton graph= 1\n",
      "The downsampled branches number of connected components = 1\n",
      "Empty submeshes = []\n",
      "\n",
      "\n",
      "--- Working on 1-to-1 correspondence-----\n",
      "max(original_labels),len(original_labels) = (0, 1)\n",
      "empty_indices % = 0.1035075161059413\n",
      " conflict_indices % = 0.0\n"
     ]
    },
    {
     "data": {
      "application/vnd.jupyter.widget-view+json": {
       "model_id": "eba8620ab82e4911a19e5d899d7513e7",
       "version_major": 2,
       "version_minor": 0
      },
      "text/plain": [
       "HBox(children=(FloatProgress(value=0.0, max=28.0), HTML(value='')))"
      ]
     },
     "metadata": {},
     "output_type": "display_data"
    },
    {
     "name": "stdout",
     "output_type": "stream",
     "text": [
      "\n",
      "AFTER face_lookup_resolved_test\n"
     ]
    },
    {
     "data": {
      "application/vnd.jupyter.widget-view+json": {
       "model_id": "4395360d6be14ba98d90fe45b0d27e50",
       "version_major": 2,
       "version_minor": 0
      },
      "text/plain": [
       "HBox(children=(FloatProgress(value=0.0, max=1.0), HTML(value='')))"
      ]
     },
     "metadata": {},
     "output_type": "display_data"
    },
    {
     "name": "stdout",
     "output_type": "stream",
     "text": [
      "\n",
      "Total time for MAP sublimb #1 mesh processing = 12.247316122055054\n",
      "correspondence_1_to_1: 0.32745909690856934\n",
      "Total time for MAP sublimb processing 61.40924835205078\n",
      "---- Working on MP Decomposition #0 ----\n",
      "Computing the current soma touching verts dict manually\n",
      "MP filtering soma verts: 0.003815174102783203\n",
      "Do Not Need to Fix MP Decomposition 0 so just continuing\n",
      "---- Working on MP Decomposition #1 ----\n",
      "Computing the current soma touching verts dict manually\n",
      "MP filtering soma verts: 0.004156589508056641\n",
      "Do Not Need to Fix MP Decomposition 1 so just continuing\n",
      "---- Working on MP Decomposition #2 ----\n",
      "Computing the current soma touching verts dict manually\n",
      "MP filtering soma verts: 0.003581523895263672\n",
      "Do Not Need to Fix MP Decomposition 2 so just continuing\n",
      "---- Working on MP Decomposition #3 ----\n",
      "Computing the current soma touching verts dict manually\n",
      "MP filtering soma verts: 0.0035626888275146484\n",
      "Do Not Need to Fix MP Decomposition 3 so just continuing\n",
      "---- Working on MP Decomposition #4 ----\n",
      "Computing the current soma touching verts dict manually\n",
      "MP filtering soma verts: 0.0021102428436279297\n",
      "Do Not Need to Fix MP Decomposition 4 so just continuing\n",
      "---- Working on MP Decomposition #5 ----\n",
      "Computing the current soma touching verts dict manually\n",
      "MP filtering soma verts: 0.002843618392944336\n",
      "Do Not Need to Fix MP Decomposition 5 so just continuing\n",
      "---- Working on MP Decomposition #6 ----\n",
      "Computing the current soma touching verts dict manually\n",
      "MP filtering soma verts: 0.002894878387451172\n",
      "Do Not Need to Fix MP Decomposition 6 so just continuing\n",
      "---- Working on MP Decomposition #7 ----\n",
      "Computing the current soma touching verts dict manually\n",
      "MP filtering soma verts: 0.0020341873168945312\n",
      "Do Not Need to Fix MP Decomposition 7 so just continuing\n",
      "Edge (2, 5) was not kept\n",
      "Successful mesh connectivity with type edges\n",
      "\n",
      "---- Working on (0, 0) connection-----\n",
      "Current stitch point was a branch or endpoint\n",
      "sk_conn = [2, 6]\n",
      "conn = [2, 6]\n",
      "winning_vertex = [851414.76760302 975469.56668999 790137.88232477]\n",
      "MP_branches_with_stitch_point = [2, 6]\n",
      "MAP_branches_with_stitch_point = [4]\n",
      "MAP_stitch_point_on_end_or_branch = True\n",
      "Using max stitch distance (300) for smoothing because stitch_distance greater (761.5708841597448) \n",
      "Found winning edge: [9, 10.0]\n",
      "in remove edge\n",
      "Using max stitch distance (300) for smoothing because stitch_distance greater (675.1767087623457) \n",
      "Found winning edge: [9, 10.0]\n",
      "in remove edge\n"
     ]
    },
    {
     "data": {
      "application/vnd.jupyter.widget-view+json": {
       "model_id": "d80c04499c124f53ab5f76ec9d6782e7",
       "version_major": 2,
       "version_minor": 0
      },
      "text/plain": [
       "HBox(children=(FloatProgress(value=1.0, bar_style='info', max=1.0), HTML(value='')))"
      ]
     },
     "metadata": {},
     "output_type": "display_data"
    },
    {
     "name": "stdout",
     "output_type": "stream",
     "text": [
      "\n",
      "\n",
      "\n",
      "--- Working on 1-to-1 correspondence-----\n",
      "max(original_labels),len(original_labels) = (2, 3)\n",
      "empty_indices % = 0.07874779541446209\n",
      " conflict_indices % = 0.01371252204585538\n"
     ]
    },
    {
     "data": {
      "application/vnd.jupyter.widget-view+json": {
       "model_id": "46ef67c5679d4e05865b6d6ab477f9a8",
       "version_major": 2,
       "version_minor": 0
      },
      "text/plain": [
       "HBox(children=(FloatProgress(value=0.0, max=3.0), HTML(value='')))"
      ]
     },
     "metadata": {},
     "output_type": "display_data"
    },
    {
     "name": "stdout",
     "output_type": "stream",
     "text": [
      "\n",
      "AFTER face_lookup_resolved_test\n"
     ]
    },
    {
     "data": {
      "application/vnd.jupyter.widget-view+json": {
       "model_id": "77df97a7e9254f948829a71cc2caf23c",
       "version_major": 2,
       "version_minor": 0
      },
      "text/plain": [
       "HBox(children=(FloatProgress(value=0.0, max=3.0), HTML(value='')))"
      ]
     },
     "metadata": {},
     "output_type": "display_data"
    },
    {
     "name": "stdout",
     "output_type": "stream",
     "text": [
      "\n",
      "MP_branches_with_stitch_point= [2, 6]\n",
      "MP_branches_for_correspondence = [2 6]\n",
      "MP_leftover = [], MP_leftover_idx = []\n",
      " Finished with (0, 0) \n",
      "\n",
      "\n",
      "\n",
      "\n",
      "---- Working on (2, 0) connection-----\n",
      "Current stitch point was not a branch or endpoint, shortest_path_length to one = 4193.059210037698\n",
      "sk_conn = [0]\n",
      "conn = [0]\n",
      "winning_vertex = [796241.29182216 967424.101931   841080.03965728]\n",
      "MP_branches_with_stitch_point = [0]\n",
      "MAP_branches_with_stitch_point = [4]\n",
      "MAP_stitch_point_on_end_or_branch = False\n",
      "Using max stitch distance (300) for smoothing because stitch_distance greater (452.37142643192936) \n",
      "Found winning edge: [281, 282.0]\n",
      "in remove edge\n"
     ]
    },
    {
     "data": {
      "application/vnd.jupyter.widget-view+json": {
       "model_id": "f599ab20a9244f028e598ae46442eadd",
       "version_major": 2,
       "version_minor": 0
      },
      "text/plain": [
       "HBox(children=(FloatProgress(value=1.0, bar_style='info', max=1.0), HTML(value='')))"
      ]
     },
     "metadata": {},
     "output_type": "display_data"
    },
    {
     "name": "stdout",
     "output_type": "stream",
     "text": [
      "\n",
      "\n",
      "\n",
      "--- Working on 1-to-1 correspondence-----\n",
      "max(original_labels),len(original_labels) = (1, 2)\n",
      "empty_indices % = 0.09357773495271815\n",
      " conflict_indices % = 0.0007170707659212119\n"
     ]
    },
    {
     "data": {
      "application/vnd.jupyter.widget-view+json": {
       "model_id": "42b4c2f3edf04396b6dc3370505c31ab",
       "version_major": 2,
       "version_minor": 0
      },
      "text/plain": [
       "HBox(children=(FloatProgress(value=0.0, max=61.0), HTML(value='')))"
      ]
     },
     "metadata": {},
     "output_type": "display_data"
    },
    {
     "name": "stdout",
     "output_type": "stream",
     "text": [
      "\n",
      "AFTER face_lookup_resolved_test\n"
     ]
    },
    {
     "data": {
      "application/vnd.jupyter.widget-view+json": {
       "model_id": "83519b51ce8a44429091e95dc47d9abc",
       "version_major": 2,
       "version_minor": 0
      },
      "text/plain": [
       "HBox(children=(FloatProgress(value=0.0, max=2.0), HTML(value='')))"
      ]
     },
     "metadata": {},
     "output_type": "display_data"
    },
    {
     "name": "stdout",
     "output_type": "stream",
     "text": [
      "\n"
     ]
    },
    {
     "data": {
      "application/vnd.jupyter.widget-view+json": {
       "model_id": "a575d3eac5574b489de9a1dc0dfbf5c9",
       "version_major": 2,
       "version_minor": 0
      },
      "text/plain": [
       "HBox(children=(FloatProgress(value=1.0, bar_style='info', max=1.0), HTML(value='')))"
      ]
     },
     "metadata": {},
     "output_type": "display_data"
    },
    {
     "name": "stdout",
     "output_type": "stream",
     "text": [
      "\n",
      "\n",
      "\n",
      "--- Working on 1-to-1 correspondence-----\n",
      "max(original_labels),len(original_labels) = (2, 3)\n",
      "empty_indices % = 0.11256390914424608\n",
      " conflict_indices % = 0.0013829519738496354\n"
     ]
    },
    {
     "data": {
      "application/vnd.jupyter.widget-view+json": {
       "model_id": "755a545c125b4504ab1071a6198949e6",
       "version_major": 2,
       "version_minor": 0
      },
      "text/plain": [
       "HBox(children=(FloatProgress(value=0.0, max=10.0), HTML(value='')))"
      ]
     },
     "metadata": {},
     "output_type": "display_data"
    },
    {
     "name": "stdout",
     "output_type": "stream",
     "text": [
      "\n",
      "AFTER face_lookup_resolved_test\n"
     ]
    },
    {
     "data": {
      "application/vnd.jupyter.widget-view+json": {
       "model_id": "519a00a028224bd096b1dc9a0d0d7e44",
       "version_major": 2,
       "version_minor": 0
      },
      "text/plain": [
       "HBox(children=(FloatProgress(value=0.0, max=3.0), HTML(value='')))"
      ]
     },
     "metadata": {},
     "output_type": "display_data"
    },
    {
     "name": "stdout",
     "output_type": "stream",
     "text": [
      "\n",
      "Deleting branches from dictionary\n",
      "MP_branches_with_stitch_point= [0]\n",
      "MP_branches_for_correspondence = [0]\n",
      "MP_leftover = [], MP_leftover_idx = []\n",
      " Finished with (2, 0) \n",
      "\n",
      "\n",
      "\n",
      "\n",
      "---- Working on (3, 0) connection-----\n",
      "Current stitch point was not a branch or endpoint, shortest_path_length to one = 1497.0845720903264\n",
      "sk_conn = [0]\n",
      "conn = [0]\n",
      "winning_vertex = [ 819283.21637022 1029752.83254346  799741.26018108]\n",
      "MP_branches_with_stitch_point = [0]\n",
      "MAP_branches_with_stitch_point = [5]\n",
      "MAP_stitch_point_on_end_or_branch = False\n",
      "Using max stitch distance (300) for smoothing because stitch_distance greater (496.6952884629031) \n",
      "Found winning edge: [84, 85.0]\n",
      "in remove edge\n"
     ]
    },
    {
     "data": {
      "application/vnd.jupyter.widget-view+json": {
       "model_id": "65b1b238f1c44f1f98c1b6017b952dd9",
       "version_major": 2,
       "version_minor": 0
      },
      "text/plain": [
       "HBox(children=(FloatProgress(value=1.0, bar_style='info', max=1.0), HTML(value='')))"
      ]
     },
     "metadata": {},
     "output_type": "display_data"
    },
    {
     "name": "stdout",
     "output_type": "stream",
     "text": [
      "\n",
      "\n",
      "\n",
      "--- Working on 1-to-1 correspondence-----\n",
      "max(original_labels),len(original_labels) = (1, 2)\n",
      "empty_indices % = 0.12694795648338725\n",
      " conflict_indices % = 0.0020582181711261394\n"
     ]
    },
    {
     "data": {
      "application/vnd.jupyter.widget-view+json": {
       "model_id": "4c175d51cf894b5aa7f6d55534b4f7b2",
       "version_major": 2,
       "version_minor": 0
      },
      "text/plain": [
       "HBox(children=(FloatProgress(value=0.0, max=36.0), HTML(value='')))"
      ]
     },
     "metadata": {},
     "output_type": "display_data"
    },
    {
     "name": "stdout",
     "output_type": "stream",
     "text": [
      "\n",
      "AFTER face_lookup_resolved_test\n"
     ]
    },
    {
     "data": {
      "application/vnd.jupyter.widget-view+json": {
       "model_id": "930e3546b1554788b645af188f27632e",
       "version_major": 2,
       "version_minor": 0
      },
      "text/plain": [
       "HBox(children=(FloatProgress(value=0.0, max=2.0), HTML(value='')))"
      ]
     },
     "metadata": {},
     "output_type": "display_data"
    },
    {
     "name": "stdout",
     "output_type": "stream",
     "text": [
      "\n"
     ]
    },
    {
     "data": {
      "application/vnd.jupyter.widget-view+json": {
       "model_id": "c50a8b2d4e1548ae9f0297a1f93fbb80",
       "version_major": 2,
       "version_minor": 0
      },
      "text/plain": [
       "HBox(children=(FloatProgress(value=1.0, bar_style='info', max=1.0), HTML(value='')))"
      ]
     },
     "metadata": {},
     "output_type": "display_data"
    },
    {
     "name": "stdout",
     "output_type": "stream",
     "text": [
      "\n",
      "\n",
      "\n",
      "--- Working on 1-to-1 correspondence-----\n",
      "max(original_labels),len(original_labels) = (2, 3)\n",
      "empty_indices % = 0.12890597195529932\n",
      " conflict_indices % = 0.00306071606520037\n"
     ]
    },
    {
     "data": {
      "application/vnd.jupyter.widget-view+json": {
       "model_id": "3ced820fa40c47dc87d233a789417f63",
       "version_major": 2,
       "version_minor": 0
      },
      "text/plain": [
       "HBox(children=(FloatProgress(value=0.0, max=6.0), HTML(value='')))"
      ]
     },
     "metadata": {},
     "output_type": "display_data"
    },
    {
     "name": "stdout",
     "output_type": "stream",
     "text": [
      "\n",
      "AFTER face_lookup_resolved_test\n"
     ]
    },
    {
     "data": {
      "application/vnd.jupyter.widget-view+json": {
       "model_id": "0c41bdf332104e51acc0a8d60253abce",
       "version_major": 2,
       "version_minor": 0
      },
      "text/plain": [
       "HBox(children=(FloatProgress(value=0.0, max=3.0), HTML(value='')))"
      ]
     },
     "metadata": {},
     "output_type": "display_data"
    },
    {
     "name": "stdout",
     "output_type": "stream",
     "text": [
      "\n",
      "Deleting branches from dictionary\n",
      "MP_branches_with_stitch_point= [0]\n",
      "MP_branches_for_correspondence = [0]\n",
      "MP_leftover = [], MP_leftover_idx = []\n",
      " Finished with (3, 0) \n",
      "\n",
      "\n",
      "\n",
      "\n",
      "---- Working on (4, 0) connection-----\n",
      "Current stitch point was a branch or endpoint\n",
      "sk_conn = [0]\n",
      "conn = [0]\n",
      "winning_vertex = [ 819119.35153973 1030275.92786366  798690.89392448]\n",
      "MP_branches_with_stitch_point = [0]\n",
      "MAP_branches_with_stitch_point = [8]\n",
      "MAP_stitch_point_on_end_or_branch = True\n",
      "Using max stitch distance (300) for smoothing because stitch_distance greater (455.5133413183981) \n",
      "Found winning edge: [438, 439.0]\n",
      "in remove edge\n"
     ]
    },
    {
     "data": {
      "application/vnd.jupyter.widget-view+json": {
       "model_id": "fed9a03465fc459d8c7b1c5a4c9fe191",
       "version_major": 2,
       "version_minor": 0
      },
      "text/plain": [
       "HBox(children=(FloatProgress(value=1.0, bar_style='info', max=1.0), HTML(value='')))"
      ]
     },
     "metadata": {},
     "output_type": "display_data"
    },
    {
     "name": "stdout",
     "output_type": "stream",
     "text": [
      "\n",
      "\n",
      "\n",
      "--- Working on 1-to-1 correspondence-----\n",
      "max(original_labels),len(original_labels) = (1, 2)\n",
      "empty_indices % = 0.6331635016211209\n",
      " conflict_indices % = 0.0\n"
     ]
    },
    {
     "data": {
      "application/vnd.jupyter.widget-view+json": {
       "model_id": "9b40d8c15b0946119d6d7b327a13d19b",
       "version_major": 2,
       "version_minor": 0
      },
      "text/plain": [
       "HBox(children=(FloatProgress(value=0.0, max=10.0), HTML(value='')))"
      ]
     },
     "metadata": {},
     "output_type": "display_data"
    },
    {
     "name": "stdout",
     "output_type": "stream",
     "text": [
      "\n",
      "AFTER face_lookup_resolved_test\n"
     ]
    },
    {
     "data": {
      "application/vnd.jupyter.widget-view+json": {
       "model_id": "8836d07936af4d5ca78f43ab876f7c98",
       "version_major": 2,
       "version_minor": 0
      },
      "text/plain": [
       "HBox(children=(FloatProgress(value=0.0, max=2.0), HTML(value='')))"
      ]
     },
     "metadata": {},
     "output_type": "display_data"
    },
    {
     "name": "stdout",
     "output_type": "stream",
     "text": [
      "\n",
      "MP_branches_with_stitch_point= [0]\n",
      "MP_branches_for_correspondence = [0]\n",
      "MP_leftover = [], MP_leftover_idx = []\n",
      " Finished with (4, 0) \n",
      "\n",
      "\n",
      "\n",
      "\n",
      "---- Working on (5, 0) connection-----\n",
      "Current stitch point was not a branch or endpoint, shortest_path_length to one = 1765.3107473531074\n",
      "sk_conn = [0]\n",
      "conn = [0]\n",
      "winning_vertex = [794191.51225116 967512.47265651 842362.13737273]\n",
      "MP_branches_with_stitch_point = [0]\n",
      "MAP_branches_with_stitch_point = [4]\n",
      "MAP_stitch_point_on_end_or_branch = False\n",
      "Using max stitch distance (300) for smoothing because stitch_distance greater (476.05280963637955) \n",
      "Found winning edge: [166, 167.0]\n",
      "in remove edge\n"
     ]
    },
    {
     "data": {
      "application/vnd.jupyter.widget-view+json": {
       "model_id": "3c13122452ee4a90b4c6c125be2f759c",
       "version_major": 2,
       "version_minor": 0
      },
      "text/plain": [
       "HBox(children=(FloatProgress(value=1.0, bar_style='info', max=1.0), HTML(value='')))"
      ]
     },
     "metadata": {},
     "output_type": "display_data"
    },
    {
     "name": "stdout",
     "output_type": "stream",
     "text": [
      "\n",
      "\n",
      "\n",
      "--- Working on 1-to-1 correspondence-----\n",
      "max(original_labels),len(original_labels) = (1, 2)\n",
      "empty_indices % = 0.43470790378006874\n",
      " conflict_indices % = 0.01288659793814433\n"
     ]
    },
    {
     "data": {
      "application/vnd.jupyter.widget-view+json": {
       "model_id": "d44f6f25e75040ba9bc3141cbcdae849",
       "version_major": 2,
       "version_minor": 0
      },
      "text/plain": [
       "HBox(children=(FloatProgress(value=0.0, max=8.0), HTML(value='')))"
      ]
     },
     "metadata": {},
     "output_type": "display_data"
    },
    {
     "name": "stdout",
     "output_type": "stream",
     "text": [
      "\n",
      "AFTER face_lookup_resolved_test\n"
     ]
    },
    {
     "data": {
      "application/vnd.jupyter.widget-view+json": {
       "model_id": "4cc2b24a8e8f45bd88857dc151b3d468",
       "version_major": 2,
       "version_minor": 0
      },
      "text/plain": [
       "HBox(children=(FloatProgress(value=0.0, max=2.0), HTML(value='')))"
      ]
     },
     "metadata": {},
     "output_type": "display_data"
    },
    {
     "name": "stdout",
     "output_type": "stream",
     "text": [
      "\n"
     ]
    },
    {
     "data": {
      "application/vnd.jupyter.widget-view+json": {
       "model_id": "8efc5b51afed46418a57b8e7fc9f43d9",
       "version_major": 2,
       "version_minor": 0
      },
      "text/plain": [
       "HBox(children=(FloatProgress(value=1.0, bar_style='info', max=1.0), HTML(value='')))"
      ]
     },
     "metadata": {},
     "output_type": "display_data"
    },
    {
     "name": "stdout",
     "output_type": "stream",
     "text": [
      "\n",
      "\n",
      "\n",
      "--- Working on 1-to-1 correspondence-----\n",
      "max(original_labels),len(original_labels) = (2, 3)\n",
      "empty_indices % = 0.28045454545454546\n",
      " conflict_indices % = 0.02\n"
     ]
    },
    {
     "data": {
      "application/vnd.jupyter.widget-view+json": {
       "model_id": "178909e3cc334c45bea6db0c60875544",
       "version_major": 2,
       "version_minor": 0
      },
      "text/plain": [
       "HBox(children=(FloatProgress(value=0.0, max=7.0), HTML(value='')))"
      ]
     },
     "metadata": {},
     "output_type": "display_data"
    },
    {
     "name": "stdout",
     "output_type": "stream",
     "text": [
      "\n",
      "AFTER face_lookup_resolved_test\n"
     ]
    },
    {
     "data": {
      "application/vnd.jupyter.widget-view+json": {
       "model_id": "cf5bbf8af79842a08e1186809ae1daa2",
       "version_major": 2,
       "version_minor": 0
      },
      "text/plain": [
       "HBox(children=(FloatProgress(value=0.0, max=3.0), HTML(value='')))"
      ]
     },
     "metadata": {},
     "output_type": "display_data"
    },
    {
     "name": "stdout",
     "output_type": "stream",
     "text": [
      "\n",
      "Deleting branches from dictionary\n",
      "MP_branches_with_stitch_point= [0]\n",
      "MP_branches_for_correspondence = [0]\n",
      "MP_leftover = [], MP_leftover_idx = []\n",
      " Finished with (5, 0) \n",
      "\n",
      "\n",
      "\n",
      "\n",
      "---- Working on (6, 0) connection-----\n",
      "Current stitch point was not a branch or endpoint, shortest_path_length to one = 511.9189699871359\n",
      "sk_conn = [0, 1]\n",
      "conn = [0, 1]\n",
      "winning_vertex = [ 817861.80572996 1031429.51196166  799061.13306115]\n",
      "MP_branches_with_stitch_point = [0, 1]\n",
      "MAP_branches_with_stitch_point = [8]\n",
      "MAP_stitch_point_on_end_or_branch = False\n",
      "Using max stitch distance (300) for smoothing because stitch_distance greater (1599.1898410160777) \n",
      "Found winning edge: [9, 10.0]\n",
      "in remove edge\n",
      "Using max stitch distance (300) for smoothing because stitch_distance greater (1618.081434316109) \n",
      "Found winning edge: [242, 243.0]\n",
      "in remove edge\n"
     ]
    },
    {
     "data": {
      "application/vnd.jupyter.widget-view+json": {
       "model_id": "0dd9b5220f1f4bdc9e787ea21bb208e1",
       "version_major": 2,
       "version_minor": 0
      },
      "text/plain": [
       "HBox(children=(FloatProgress(value=1.0, bar_style='info', max=1.0), HTML(value='')))"
      ]
     },
     "metadata": {},
     "output_type": "display_data"
    },
    {
     "name": "stdout",
     "output_type": "stream",
     "text": [
      "\n",
      "\n",
      "\n",
      "--- Working on 1-to-1 correspondence-----\n",
      "max(original_labels),len(original_labels) = (1, 2)\n",
      "empty_indices % = 0.8158415841584158\n",
      " conflict_indices % = 0.021122112211221122\n"
     ]
    },
    {
     "data": {
      "application/vnd.jupyter.widget-view+json": {
       "model_id": "7dbd0d76de8347f1831c2397ea1331a3",
       "version_major": 2,
       "version_minor": 0
      },
      "text/plain": [
       "HBox(children=(FloatProgress(value=0.0, max=5.0), HTML(value='')))"
      ]
     },
     "metadata": {},
     "output_type": "display_data"
    },
    {
     "name": "stdout",
     "output_type": "stream",
     "text": [
      "\n",
      "AFTER face_lookup_resolved_test\n"
     ]
    },
    {
     "data": {
      "application/vnd.jupyter.widget-view+json": {
       "model_id": "2d4efed032104cf48ff129ef2e0a97f1",
       "version_major": 2,
       "version_minor": 0
      },
      "text/plain": [
       "HBox(children=(FloatProgress(value=0.0, max=2.0), HTML(value='')))"
      ]
     },
     "metadata": {},
     "output_type": "display_data"
    },
    {
     "name": "stdout",
     "output_type": "stream",
     "text": [
      "\n"
     ]
    },
    {
     "data": {
      "application/vnd.jupyter.widget-view+json": {
       "model_id": "4e4b13e4696245f499a6660a3f55c77d",
       "version_major": 2,
       "version_minor": 0
      },
      "text/plain": [
       "HBox(children=(FloatProgress(value=1.0, bar_style='info', max=1.0), HTML(value='')))"
      ]
     },
     "metadata": {},
     "output_type": "display_data"
    },
    {
     "name": "stdout",
     "output_type": "stream",
     "text": [
      "\n",
      "\n",
      "\n",
      "--- Working on 1-to-1 correspondence-----\n",
      "max(original_labels),len(original_labels) = (3, 4)\n",
      "empty_indices % = 0.5562301243133854\n",
      " conflict_indices % = 0.009251228678808905\n"
     ]
    },
    {
     "data": {
      "application/vnd.jupyter.widget-view+json": {
       "model_id": "4534e6236d064ef4ac37150ea266bda7",
       "version_major": 2,
       "version_minor": 0
      },
      "text/plain": [
       "HBox(children=(FloatProgress(value=0.0, max=12.0), HTML(value='')))"
      ]
     },
     "metadata": {},
     "output_type": "display_data"
    },
    {
     "name": "stdout",
     "output_type": "stream",
     "text": [
      "\n",
      "AFTER face_lookup_resolved_test\n"
     ]
    },
    {
     "data": {
      "application/vnd.jupyter.widget-view+json": {
       "model_id": "4b4b6062de34419184fa03960106931c",
       "version_major": 2,
       "version_minor": 0
      },
      "text/plain": [
       "HBox(children=(FloatProgress(value=0.0, max=4.0), HTML(value='')))"
      ]
     },
     "metadata": {},
     "output_type": "display_data"
    },
    {
     "name": "stdout",
     "output_type": "stream",
     "text": [
      "\n",
      "Deleting branches from dictionary\n",
      "MP_branches_with_stitch_point= [0, 1]\n",
      "MP_branches_for_correspondence = [0 1]\n",
      "MP_leftover = [], MP_leftover_idx = []\n",
      " Finished with (6, 0) \n",
      "\n",
      "\n",
      "\n",
      "\n",
      "---- Working on (7, 0) connection-----\n",
      "Current stitch point was not a branch or endpoint, shortest_path_length to one = 15272.77915431257\n",
      "sk_conn = [0]\n",
      "conn = [0]\n",
      "winning_vertex = [806701.98061585 969708.7458737  831343.27668318]\n",
      "MP_branches_with_stitch_point = [0]\n",
      "MAP_branches_with_stitch_point = [7]\n",
      "MAP_stitch_point_on_end_or_branch = False\n",
      "Using max stitch distance (300) for smoothing because stitch_distance greater (549.2820442484809) \n",
      "Found winning edge: [34, 37.0]\n",
      "in remove edge\n"
     ]
    },
    {
     "data": {
      "application/vnd.jupyter.widget-view+json": {
       "model_id": "8207acd31b6446d3a68d86b66b96bb17",
       "version_major": 2,
       "version_minor": 0
      },
      "text/plain": [
       "HBox(children=(FloatProgress(value=1.0, bar_style='info', max=1.0), HTML(value='')))"
      ]
     },
     "metadata": {},
     "output_type": "display_data"
    },
    {
     "name": "stdout",
     "output_type": "stream",
     "text": [
      "\n",
      "\n",
      "\n",
      "--- Working on 1-to-1 correspondence-----\n",
      "max(original_labels),len(original_labels) = (1, 2)\n",
      "empty_indices % = 0.11197212160117383\n",
      " conflict_indices % = 0.0006419368150763446\n"
     ]
    },
    {
     "data": {
      "application/vnd.jupyter.widget-view+json": {
       "model_id": "0c53ccf567b54077ad7a2d29f0b2f865",
       "version_major": 2,
       "version_minor": 0
      },
      "text/plain": [
       "HBox(children=(FloatProgress(value=0.0, max=63.0), HTML(value='')))"
      ]
     },
     "metadata": {},
     "output_type": "display_data"
    },
    {
     "name": "stdout",
     "output_type": "stream",
     "text": [
      "\n",
      "AFTER face_lookup_resolved_test\n"
     ]
    },
    {
     "data": {
      "application/vnd.jupyter.widget-view+json": {
       "model_id": "18d5831a36714250a4202750b082f584",
       "version_major": 2,
       "version_minor": 0
      },
      "text/plain": [
       "HBox(children=(FloatProgress(value=0.0, max=2.0), HTML(value='')))"
      ]
     },
     "metadata": {},
     "output_type": "display_data"
    },
    {
     "name": "stdout",
     "output_type": "stream",
     "text": [
      "\n"
     ]
    },
    {
     "data": {
      "application/vnd.jupyter.widget-view+json": {
       "model_id": "95bdf767e06641589c14f9bd844ccc8b",
       "version_major": 2,
       "version_minor": 0
      },
      "text/plain": [
       "HBox(children=(FloatProgress(value=1.0, bar_style='info', max=1.0), HTML(value='')))"
      ]
     },
     "metadata": {},
     "output_type": "display_data"
    },
    {
     "name": "stdout",
     "output_type": "stream",
     "text": [
      "\n",
      "\n",
      "\n",
      "--- Working on 1-to-1 correspondence-----\n",
      "max(original_labels),len(original_labels) = (2, 3)\n",
      "empty_indices % = 0.11602726908167357\n",
      " conflict_indices % = 0.007485630263333779\n"
     ]
    },
    {
     "data": {
      "application/vnd.jupyter.widget-view+json": {
       "model_id": "91418327d05948c882b7d22fadadda80",
       "version_major": 2,
       "version_minor": 0
      },
      "text/plain": [
       "HBox(children=(FloatProgress(value=0.0, max=2.0), HTML(value='')))"
      ]
     },
     "metadata": {},
     "output_type": "display_data"
    },
    {
     "name": "stdout",
     "output_type": "stream",
     "text": [
      "\n",
      "AFTER face_lookup_resolved_test\n"
     ]
    },
    {
     "data": {
      "application/vnd.jupyter.widget-view+json": {
       "model_id": "4a10b06e7a3d4942ab65548cfc7441b2",
       "version_major": 2,
       "version_minor": 0
      },
      "text/plain": [
       "HBox(children=(FloatProgress(value=0.0, max=3.0), HTML(value='')))"
      ]
     },
     "metadata": {},
     "output_type": "display_data"
    },
    {
     "name": "stdout",
     "output_type": "stream",
     "text": [
      "\n",
      "Deleting branches from dictionary\n",
      "MP_branches_with_stitch_point= [0]\n",
      "MP_branches_for_correspondence = [0]\n",
      "MP_leftover = [], MP_leftover_idx = []\n",
      " Finished with (7, 0) \n",
      "\n",
      "\n",
      "\n",
      "\n",
      "---- Working on (0, 1) connection-----\n",
      "Current stitch point was a branch or endpoint\n",
      "sk_conn = [9, 21]\n",
      "conn = [9, 21]\n",
      "winning_vertex = [860093.10027218 977335.00791125 788196.22636693]\n",
      "MP_branches_with_stitch_point = [9, 21]\n",
      "MAP_branches_with_stitch_point = [0]\n",
      "MAP_stitch_point_on_end_or_branch = True\n",
      "Using max stitch distance (300) for smoothing because stitch_distance greater (631.6442894220687) \n",
      "Found winning edge: [19, 20.0]\n",
      "in remove edge\n",
      "Using max stitch distance (300) for smoothing because stitch_distance greater (632.1653234734682) \n",
      "Found winning edge: [9, 10.0]\n",
      "in remove edge\n"
     ]
    },
    {
     "data": {
      "application/vnd.jupyter.widget-view+json": {
       "model_id": "6f854ee28d634df39502d7b0fc430084",
       "version_major": 2,
       "version_minor": 0
      },
      "text/plain": [
       "HBox(children=(FloatProgress(value=1.0, bar_style='info', max=1.0), HTML(value='')))"
      ]
     },
     "metadata": {},
     "output_type": "display_data"
    },
    {
     "name": "stdout",
     "output_type": "stream",
     "text": [
      "\n",
      "\n",
      "\n",
      "--- Working on 1-to-1 correspondence-----\n",
      "max(original_labels),len(original_labels) = (2, 3)\n",
      "empty_indices % = 0.10579407061139132\n",
      " conflict_indices % = 0.003567474474105056\n"
     ]
    },
    {
     "data": {
      "application/vnd.jupyter.widget-view+json": {
       "model_id": "1b4447873ae74a68bdad6fc16f8216fd",
       "version_major": 2,
       "version_minor": 0
      },
      "text/plain": [
       "HBox(children=(FloatProgress(value=0.0, max=7.0), HTML(value='')))"
      ]
     },
     "metadata": {},
     "output_type": "display_data"
    },
    {
     "name": "stdout",
     "output_type": "stream",
     "text": [
      "\n",
      "AFTER face_lookup_resolved_test\n"
     ]
    },
    {
     "data": {
      "application/vnd.jupyter.widget-view+json": {
       "model_id": "6b01bdaa880d412983dce374d7d71a35",
       "version_major": 2,
       "version_minor": 0
      },
      "text/plain": [
       "HBox(children=(FloatProgress(value=0.0, max=3.0), HTML(value='')))"
      ]
     },
     "metadata": {},
     "output_type": "display_data"
    },
    {
     "name": "stdout",
     "output_type": "stream",
     "text": [
      "\n",
      "MP_branches_with_stitch_point= [9, 21]\n",
      "MP_branches_for_correspondence = [ 9 21]\n",
      "MP_leftover = [], MP_leftover_idx = []\n",
      " Finished with (0, 1) \n",
      "\n",
      "\n",
      "\n",
      "\n",
      "---- Working on (1, 1) connection-----\n",
      "Current stitch point was not a branch or endpoint, shortest_path_length to one = 17245.560114913027\n",
      "sk_conn = [0]\n",
      "conn = [0]\n",
      "winning_vertex = [882513.99604165 981687.18118189 785420.86853104]\n",
      "MP_branches_with_stitch_point = [0]\n",
      "MAP_branches_with_stitch_point = [0]\n",
      "MAP_stitch_point_on_end_or_branch = False\n",
      "Using max stitch distance (300) for smoothing because stitch_distance greater (340.2971022433319) \n",
      "Found winning edge: [53, 54.0]\n",
      "in remove edge\n"
     ]
    },
    {
     "data": {
      "application/vnd.jupyter.widget-view+json": {
       "model_id": "25104e9e090a4f7ca3f5a3b13ca3f8f3",
       "version_major": 2,
       "version_minor": 0
      },
      "text/plain": [
       "HBox(children=(FloatProgress(value=1.0, bar_style='info', max=1.0), HTML(value='')))"
      ]
     },
     "metadata": {},
     "output_type": "display_data"
    },
    {
     "name": "stdout",
     "output_type": "stream",
     "text": [
      "\n",
      "\n",
      "\n",
      "--- Working on 1-to-1 correspondence-----\n",
      "max(original_labels),len(original_labels) = (1, 2)\n",
      "empty_indices % = 0.11766389922702548\n",
      " conflict_indices % = 0.002004008016032064\n"
     ]
    },
    {
     "data": {
      "application/vnd.jupyter.widget-view+json": {
       "model_id": "495b82a8e10240268819f2bb0ee501c5",
       "version_major": 2,
       "version_minor": 0
      },
      "text/plain": [
       "HBox(children=(FloatProgress(value=0.0, max=27.0), HTML(value='')))"
      ]
     },
     "metadata": {},
     "output_type": "display_data"
    },
    {
     "name": "stdout",
     "output_type": "stream",
     "text": [
      "\n",
      "AFTER face_lookup_resolved_test\n"
     ]
    },
    {
     "data": {
      "application/vnd.jupyter.widget-view+json": {
       "model_id": "b6b6606446ca46f68f23e286c1887cee",
       "version_major": 2,
       "version_minor": 0
      },
      "text/plain": [
       "HBox(children=(FloatProgress(value=0.0, max=2.0), HTML(value='')))"
      ]
     },
     "metadata": {},
     "output_type": "display_data"
    },
    {
     "name": "stdout",
     "output_type": "stream",
     "text": [
      "\n"
     ]
    },
    {
     "data": {
      "application/vnd.jupyter.widget-view+json": {
       "model_id": "02bb13f5158d4ff084301f418bf9feaa",
       "version_major": 2,
       "version_minor": 0
      },
      "text/plain": [
       "HBox(children=(FloatProgress(value=1.0, bar_style='info', max=1.0), HTML(value='')))"
      ]
     },
     "metadata": {},
     "output_type": "display_data"
    },
    {
     "name": "stdout",
     "output_type": "stream",
     "text": [
      "\n",
      "\n",
      "\n",
      "--- Working on 1-to-1 correspondence-----\n",
      "max(original_labels),len(original_labels) = (2, 3)\n",
      "empty_indices % = 0.13707084994213706\n",
      " conflict_indices % = 0.013115597274013116\n"
     ]
    },
    {
     "data": {
      "application/vnd.jupyter.widget-view+json": {
       "model_id": "6ff7928439294007a6ac9f2a20291e45",
       "version_major": 2,
       "version_minor": 0
      },
      "text/plain": [
       "HBox(children=(FloatProgress(value=0.0, max=7.0), HTML(value='')))"
      ]
     },
     "metadata": {},
     "output_type": "display_data"
    },
    {
     "name": "stdout",
     "output_type": "stream",
     "text": [
      "\n",
      "AFTER face_lookup_resolved_test\n"
     ]
    },
    {
     "data": {
      "application/vnd.jupyter.widget-view+json": {
       "model_id": "ffa5722da43646a9be87278a82626829",
       "version_major": 2,
       "version_minor": 0
      },
      "text/plain": [
       "HBox(children=(FloatProgress(value=0.0, max=3.0), HTML(value='')))"
      ]
     },
     "metadata": {},
     "output_type": "display_data"
    },
    {
     "name": "stdout",
     "output_type": "stream",
     "text": [
      "\n",
      "Deleting branches from dictionary\n",
      "MP_branches_with_stitch_point= [0]\n",
      "MP_branches_for_correspondence = [0]\n",
      "MP_leftover = [], MP_leftover_idx = []\n",
      " Finished with (1, 1) \n",
      "\n",
      "\n",
      "\n",
      "Time for decomp of Limb = 104.16306185722351\n",
      "Number of matching vertices = 79\n",
      "Only one endpoint after filtering away the endpoints that are not on the skeleton\n",
      "Using Distance measure skeletal_distance\n",
      "endpoints_must_keep = [array([759468., 961525., 866302.])]\n",
      "Number of end_nodes BEFORE filtering = 25\n",
      "all_single_nodes_to_eliminate = [0]\n",
      "no small end nodes to get rid of so returning whole skeleton\n",
      "Removed 0 skeletal branches\n"
     ]
    },
    {
     "data": {
      "application/vnd.jupyter.widget-view+json": {
       "model_id": "05f02965f74641ebb6ed947095c95afa",
       "version_major": 2,
       "version_minor": 0
      },
      "text/plain": [
       "HBox(children=(FloatProgress(value=0.0, max=45.0), HTML(value='')))"
      ]
     },
     "metadata": {},
     "output_type": "display_data"
    },
    {
     "name": "stdout",
     "output_type": "stream",
     "text": [
      "\n",
      "114248 114249\n",
      "For marked faces: None\n",
      "empty_indices % = 0.0\n",
      " conflict_indices % = 0.0\n"
     ]
    },
    {
     "data": {
      "application/vnd.jupyter.widget-view+json": {
       "model_id": "00c35a04f53b49618e61cf66a460ccf6",
       "version_major": 2,
       "version_minor": 0
      },
      "text/plain": [
       "HBox(children=(FloatProgress(value=1.0, bar_style='info', max=1.0), HTML(value='')))"
      ]
     },
     "metadata": {},
     "output_type": "display_data"
    },
    {
     "name": "stdout",
     "output_type": "stream",
     "text": [
      "\n",
      "AFTER face_lookup_resolved_test\n"
     ]
    },
    {
     "data": {
      "application/vnd.jupyter.widget-view+json": {
       "model_id": "fd78c6aa356a4822be7169702e51aac2",
       "version_major": 2,
       "version_minor": 0
      },
      "text/plain": [
       "HBox(children=(FloatProgress(value=0.0, max=44.0), HTML(value='')))"
      ]
     },
     "metadata": {},
     "output_type": "display_data"
    },
    {
     "name": "stdout",
     "output_type": "stream",
     "text": [
      "\n",
      "\n",
      "\n",
      "----- Working on Proper Limb # 3 ---------\n",
      "meshparty_segment_size = 100\n",
      "root_curr = [750599.4 961442.2 879379.3]\n",
      "Time for preparing soma vertices and root: 0.0002503395080566406\n",
      "invalidation_d = 12000\n",
      "cc_vertex_thresh = 10\n"
     ]
    },
    {
     "name": "stderr",
     "output_type": "stream",
     "text": [
      "\r",
      "  0%|          | 0/1 [00:00<?, ?it/s]"
     ]
    },
    {
     "data": {
      "application/vnd.jupyter.widget-view+json": {
       "model_id": "2a0b95aa355045e28af6b5a6e1d06d1c",
       "version_major": 2,
       "version_minor": 0
      },
      "text/plain": [
       "HBox(children=(FloatProgress(value=0.0, max=54886.0), HTML(value='')))"
      ]
     },
     "metadata": {},
     "output_type": "display_data"
    },
    {
     "name": "stderr",
     "output_type": "stream",
     "text": [
      "100%|██████████| 1/1 [00:00<00:00,  1.28it/s]"
     ]
    },
    {
     "name": "stdout",
     "output_type": "stream",
     "text": [
      "\n"
     ]
    },
    {
     "name": "stderr",
     "output_type": "stream",
     "text": [
      "\n"
     ]
    },
    {
     "name": "stdout",
     "output_type": "stream",
     "text": [
      "meshparty_segment_size = 100\n",
      "Time for 1st pass MP skeletonization: 1.3741512298583984\n",
      "connecting at the root\n",
      "branches_touching_root = [32]\n",
      "length of Graph = 6949\n",
      "Working on path [3997. 4010. 4021. 4034. 4047. 4062. 4063.]\n",
      "path_degrees = [3, 2, 2, 2, 2, 2, 3]\n",
      "Working on path [5163. 5168. 5170. 5172. 5174. 5178. 5182. 5183.]\n",
      "path_degrees = [3, 2, 2, 2, 2, 2, 2, 3]\n",
      "After combining close endpoints max(kept_branches_idx) = 32, len(kept_branches_idx) = 31\n",
      "empty_indices % = 0.0\n",
      " conflict_indices % = 0.009446435247239472\n"
     ]
    },
    {
     "data": {
      "application/vnd.jupyter.widget-view+json": {
       "model_id": "77c5759301124334aec664250df7cdfb",
       "version_major": 2,
       "version_minor": 0
      },
      "text/plain": [
       "HBox(children=(FloatProgress(value=0.0, max=15.0), HTML(value='')))"
      ]
     },
     "metadata": {},
     "output_type": "display_data"
    },
    {
     "name": "stdout",
     "output_type": "stream",
     "text": [
      "\n",
      "AFTER face_lookup_resolved_test\n"
     ]
    },
    {
     "data": {
      "application/vnd.jupyter.widget-view+json": {
       "model_id": "0a641fe98c264a34ae1b93bc8db04089",
       "version_major": 2,
       "version_minor": 0
      },
      "text/plain": [
       "HBox(children=(FloatProgress(value=0.0, max=31.0), HTML(value='')))"
      ]
     },
     "metadata": {},
     "output_type": "display_data"
    },
    {
     "name": "stdout",
     "output_type": "stream",
     "text": [
      "\n",
      "Decomposing first pass: 7.465472221374512\n",
      "Attempting to use MeshAfterParty Skeletonization and Mesh Correspondence\n",
      "Another print\n",
      "Found len(mesh_large_idx) MAP candidates: [1382, 1571, 7137, 5379, 5020, 4620, 7876, 18481, 10710, 3448, 8308, 15398]\n",
      "mesh_large_connectivity: 0.19982147216796875\n",
      "Finding MAP candidates connected components: 0.00018453598022460938\n",
      "len(filtered_pieces) = 1\n",
      "skeleton_connectivity_MP : 0.14000892639160156\n",
      "Grouping MP Sublimbs by Graph: 0.022391557693481445\n",
      "Divinding into MP and MAP pieces: 1.1920928955078125e-06\n",
      "--- Working on MAP piece 0---\n",
      "MAP Filtering Soma Pieces: 0.007453441619873047\n",
      "inside skeletonize_connected_branch and use_surface_after_CGAL=False, surface_reconstruction_size=1000\n",
      "The mesh passed has 9 pieces so just taking the largest one <trimesh.Trimesh(vertices.shape=(44654, 3), faces.shape=(89322, 3))>\n",
      "     Starting Screened Poisson\n",
      "xvfb-run -n 4969 -s \"-screen 0 800x600x24\" meshlabserver $@  -i /notebooks/Auto_Proofreading/Compartments/Axon/temp/None.off -o /notebooks/Auto_Proofreading/Compartments/Axon/temp/None_poisson.off -s /notebooks/Auto_Proofreading/Compartments/Axon/temp/poisson_793419.mls\n",
      "removed temporary input file: /notebooks/Auto_Proofreading/Compartments/Axon/temp/None.off\n",
      "removed temporary output file: /notebooks/Auto_Proofreading/Compartments/Axon/temp/None_poisson.off\n",
      "Using the close holes feature\n",
      "xvfb-run -n 598 -s \"-screen 0 800x600x24\" meshlabserver $@  -i /notebooks/Auto_Proofreading/Compartments/Axon/temp/neuron_81947.off -o /notebooks/Auto_Proofreading/Compartments/Axon/temp/neuron_81947_fill_holes.off -s /notebooks/Auto_Proofreading/Compartments/Axon/temp/fill_holes_569405.mls\n",
      "removed temporary input file: /notebooks/Auto_Proofreading/Compartments/Axon/temp/neuron_81947.off\n",
      "removed temporary output file: /notebooks/Auto_Proofreading/Compartments/Axon/temp/neuron_81947_fill_holes.off\n",
      "-----Time for Screened Poisson= 24.243216276168823\n",
      "mesh_pieces = [<trimesh.Trimesh(vertices.shape=(88394, 3), faces.shape=(176792, 3))>]\n",
      "     Starting Calcification (Changed back where stitches large poissons)\n",
      "min_edge_length = 75\n",
      "node_degrees = [2 2 4]\n"
     ]
    },
    {
     "data": {
      "application/vnd.jupyter.widget-view+json": {
       "model_id": "31f97f8678024dabb311bdfad333cfb3",
       "version_major": 2,
       "version_minor": 0
      },
      "text/plain": [
       "HBox(children=(FloatProgress(value=1.0, bar_style='info', max=1.0), HTML(value='')))"
      ]
     },
     "metadata": {},
     "output_type": "display_data"
    },
    {
     "name": "stdout",
     "output_type": "stream",
     "text": [
      "\n",
      "No skeletons to stack so returning empty list\n",
      "len_subgraphs AT BEGINNING of the loop\n"
     ]
    },
    {
     "data": {
      "application/vnd.jupyter.widget-view+json": {
       "model_id": "970b839e8eb844a0882a2c63f8f0719d",
       "version_major": 2,
       "version_minor": 0
      },
      "text/plain": [
       "HBox(children=(FloatProgress(value=0.0, max=1.0), HTML(value='')))"
      ]
     },
     "metadata": {},
     "output_type": "display_data"
    },
    {
     "name": "stdout",
     "output_type": "stream",
     "text": [
      "all graph is one component!\n",
      "\n",
      "Total time for skeleton stitching = 0.11842536926269531\n",
      "The process was using a temp folder\n",
      "Checking connected components after skeletonize_connected_branch\n",
      "    Total time for skeletonizing branch: 32.5027060508728\n",
      "Checking connected components after removing cycles\n",
      "    Total time for Fixing Skeleton Soma Endpoint Extension : 0.21164274215698242\n",
      "filter_end_node_length = 4500\n",
      "Using Distance measure skeletal_distance\n"
     ]
    },
    {
     "data": {
      "application/vnd.jupyter.widget-view+json": {
       "model_id": "2f0f6a413e024cedb65f7272fb461e84",
       "version_major": 2,
       "version_minor": 0
      },
      "text/plain": [
       "HBox(children=(FloatProgress(value=0.0, max=93.0), HTML(value='')))"
      ]
     },
     "metadata": {},
     "output_type": "display_data"
    },
    {
     "name": "stdout",
     "output_type": "stream",
     "text": [
      "\n",
      "Checking connected components after clean_skeleton\n",
      "after DISTANCE cleaning limb size of skeleton = (2947, 2, 3)\n",
      "********COMBINING CLOSE SKELETON NODES WITHIN 700 DISTANCE**********\n",
      "Found 0 valid paths to replace\n",
      "valid_paths = []\n",
      "valid_path_lengths = []\n",
      "No valid paths found so just returning the original\n",
      "Inside MAP decomposition and curr_limb_endpoints_must_keep was None\n",
      "skeletonize_and_clean_connected_branch_CGAL: 42.0908784866333\n",
      "Working on limb correspondence for #0 MAP piece\n"
     ]
    },
    {
     "data": {
      "application/vnd.jupyter.widget-view+json": {
       "model_id": "2aba51de54b641ffac149876b1e01ab3",
       "version_major": 2,
       "version_minor": 0
      },
      "text/plain": [
       "HBox(children=(FloatProgress(value=1.0, bar_style='info', max=1.0), HTML(value='')))"
      ]
     },
     "metadata": {},
     "output_type": "display_data"
    },
    {
     "name": "stdout",
     "output_type": "stream",
     "text": [
      "\n",
      "Total time for decomposition = 11.444664001464844\n",
      "mesh_correspondence_first_pass: 11.444687366485596\n",
      "Limb decomposed into 7 branches\n",
      "divided_skeleton_graph_recovered = (2947, 2, 3) and \n",
      "current_mesh_data[0]['branch_skeletons_cleaned'].shape = (2947, 2, 3)\n",
      "\n",
      "Number of connected components in deocmposed recovered graph = 1\n",
      "Number of connected components in cleaned skeleton graph= 1\n",
      "The downsampled branches number of connected components = 1\n",
      "Empty submeshes = []\n",
      "\n",
      "\n",
      "--- Working on 1-to-1 correspondence-----\n",
      "max(original_labels),len(original_labels) = (6, 7)\n",
      "empty_indices % = 0.1005037501399306\n",
      " conflict_indices % = 0.01650061569461547\n"
     ]
    },
    {
     "data": {
      "application/vnd.jupyter.widget-view+json": {
       "model_id": "8a1158537cc7473d83e8336247175e55",
       "version_major": 2,
       "version_minor": 0
      },
      "text/plain": [
       "HBox(children=(FloatProgress(value=0.0, max=242.0), HTML(value='')))"
      ]
     },
     "metadata": {},
     "output_type": "display_data"
    },
    {
     "name": "stdout",
     "output_type": "stream",
     "text": [
      "\n",
      "AFTER face_lookup_resolved_test\n"
     ]
    },
    {
     "data": {
      "application/vnd.jupyter.widget-view+json": {
       "model_id": "c3288406fc554218adae4855ceaebb15",
       "version_major": 2,
       "version_minor": 0
      },
      "text/plain": [
       "HBox(children=(FloatProgress(value=0.0, max=7.0), HTML(value='')))"
      ]
     },
     "metadata": {},
     "output_type": "display_data"
    },
    {
     "name": "stdout",
     "output_type": "stream",
     "text": [
      "\n",
      "Total time for MAP sublimb #0 mesh processing = 58.22292399406433\n",
      "correspondence_1_to_1: 4.680024862289429\n",
      "Total time for MAP sublimb processing 58.2231867313385\n",
      "---- Working on MP Decomposition #0 ----\n",
      "Computing the current soma touching verts dict manually\n",
      "MP filtering soma verts: 0.0014846324920654297\n",
      "Do Not Need to Fix MP Decomposition 0 so just continuing\n",
      "---- Working on MP Decomposition #1 ----\n",
      "Computing the current soma touching verts dict manually\n",
      "MP filtering soma verts: 0.002700328826904297\n",
      "Do Not Need to Fix MP Decomposition 1 so just continuing\n",
      "---- Working on MP Decomposition #2 ----\n",
      "Computing the current soma touching verts dict manually\n",
      "MP filtering soma verts: 0.0002243518829345703\n",
      "Do Not Need to Fix MP Decomposition 2 so just continuing\n",
      "---- Working on MP Decomposition #3 ----\n",
      "Computing the current soma touching verts dict manually\n",
      "MP filtering soma verts: 0.00024127960205078125\n",
      "Do Not Need to Fix MP Decomposition 3 so just continuing\n",
      "---- Working on MP Decomposition #4 ----\n",
      "Computing the current soma touching verts dict manually\n",
      "MP filtering soma verts: 0.0007493495941162109\n",
      "Fixing Possible Soma Extension Branch for Sublimb 4\n",
      "Total time for mesh KDTree = 0.08832335472106934\n",
      "sbv[0].reshape(-1,3) = [[750599.4 961442.2 879379.3]]\n",
      "closest_sk_pt_coord BEFORE = [747751.79448453 960625.05999425 880665.9814744 ]\n",
      "current_skeleton.shape = (642, 2, 3)\n",
      "Current stitch point was not a branch or endpoint, shortest_path_length to one = 4691.408330410734\n",
      "change_status for create soma extending pieces = False\n",
      "closest_sk_pt_coord AFTER = [747751.79448453 960625.05999425 880665.9814744 ]\n",
      "Adding new branch to skeleton\n",
      "border_average_coordinate = [749899.57674419 960506.73488372 879443.3       ]\n",
      "endpoints_must_keep = {0: array([[749899.57674419, 960506.73488372, 879443.3       ]])}\n",
      "orig_vertex = [747751.79448453 960625.05999425 880665.9814744 ]\n",
      "match_sk_branches = [0]\n"
     ]
    },
    {
     "data": {
      "application/vnd.jupyter.widget-view+json": {
       "model_id": "f9dd27e51d2a400eaf80e7e89e535836",
       "version_major": 2,
       "version_minor": 0
      },
      "text/plain": [
       "HBox(children=(FloatProgress(value=1.0, bar_style='info', max=1.0), HTML(value='')))"
      ]
     },
     "metadata": {},
     "output_type": "display_data"
    },
    {
     "name": "stdout",
     "output_type": "stream",
     "text": [
      "\n",
      "\n",
      "\n",
      "--- Working on 1-to-1 correspondence-----\n",
      "max(original_labels),len(original_labels) = (2, 3)\n",
      "empty_indices % = 0.15219005196733482\n",
      " conflict_indices % = 0.030544066178810055\n"
     ]
    },
    {
     "data": {
      "application/vnd.jupyter.widget-view+json": {
       "model_id": "26583aef13d24371a6cbe8e9abe791eb",
       "version_major": 2,
       "version_minor": 0
      },
      "text/plain": [
       "HBox(children=(FloatProgress(value=0.0, max=29.0), HTML(value='')))"
      ]
     },
     "metadata": {},
     "output_type": "display_data"
    },
    {
     "name": "stdout",
     "output_type": "stream",
     "text": [
      "\n",
      "AFTER face_lookup_resolved_test\n",
      "Took 0 iterations to expand the label back\n",
      "empty_indices % = 0.0\n",
      " conflict_indices % = 0.0\n"
     ]
    },
    {
     "data": {
      "application/vnd.jupyter.widget-view+json": {
       "model_id": "c8d10da228c94c9f9d48b41e95167149",
       "version_major": 2,
       "version_minor": 0
      },
      "text/plain": [
       "HBox(children=(FloatProgress(value=1.0, bar_style='info', max=1.0), HTML(value='')))"
      ]
     },
     "metadata": {},
     "output_type": "display_data"
    },
    {
     "name": "stdout",
     "output_type": "stream",
     "text": [
      "\n",
      "AFTER face_lookup_resolved_test\n"
     ]
    },
    {
     "data": {
      "application/vnd.jupyter.widget-view+json": {
       "model_id": "ae339a6314cb40fab3b459bfd04a0884",
       "version_major": 2,
       "version_minor": 0
      },
      "text/plain": [
       "HBox(children=(FloatProgress(value=0.0, max=3.0), HTML(value='')))"
      ]
     },
     "metadata": {},
     "output_type": "display_data"
    },
    {
     "name": "stdout",
     "output_type": "stream",
     "text": [
      "\n",
      "curr_width_median = 417.49470341563756\n",
      "curr_width_median = 1625.4164886875774\n",
      "curr_width_median = 1624.8334389399733\n",
      "checked segment branches after soma add on\n",
      "MP (because soma touching verts) soma extension add: 2.136207342147827\n",
      "Successful mesh connectivity with type edges\n",
      "\n",
      "---- Working on (0, 0) connection-----\n",
      "Current stitch point was not a branch or endpoint, shortest_path_length to one = 8444.545517774995\n",
      "sk_conn = [9]\n",
      "conn = [9]\n",
      "winning_vertex = [749495.63435917 969961.42673188 921233.08484384]\n",
      "MP_branches_with_stitch_point = [3, 9]\n",
      "MAP_branches_with_stitch_point = [6]\n",
      "MAP_stitch_point_on_end_or_branch = False\n",
      "Using max stitch distance (300) for smoothing because stitch_distance greater (703.8163844864639) \n",
      "Found winning edge: [110, 111.0]\n",
      "in remove edge\n",
      "Using max stitch distance (300) for smoothing because stitch_distance greater (811.0264201428762) \n",
      "Found winning edge: [9, 10.0]\n",
      "in remove edge\n"
     ]
    },
    {
     "data": {
      "application/vnd.jupyter.widget-view+json": {
       "model_id": "1127258e4d1a4a80bc42d4b1380b4f0b",
       "version_major": 2,
       "version_minor": 0
      },
      "text/plain": [
       "HBox(children=(FloatProgress(value=1.0, bar_style='info', max=1.0), HTML(value='')))"
      ]
     },
     "metadata": {},
     "output_type": "display_data"
    },
    {
     "name": "stdout",
     "output_type": "stream",
     "text": [
      "\n",
      "\n",
      "\n",
      "--- Working on 1-to-1 correspondence-----\n",
      "max(original_labels),len(original_labels) = (1, 2)\n",
      "empty_indices % = 0.11543272613556407\n",
      " conflict_indices % = 0.0017981393167070597\n"
     ]
    },
    {
     "data": {
      "application/vnd.jupyter.widget-view+json": {
       "model_id": "c122922abba04f4e8698949e54e019b0",
       "version_major": 2,
       "version_minor": 0
      },
      "text/plain": [
       "HBox(children=(FloatProgress(value=0.0, max=73.0), HTML(value='')))"
      ]
     },
     "metadata": {},
     "output_type": "display_data"
    },
    {
     "name": "stdout",
     "output_type": "stream",
     "text": [
      "\n",
      "AFTER face_lookup_resolved_test\n"
     ]
    },
    {
     "data": {
      "application/vnd.jupyter.widget-view+json": {
       "model_id": "ef54e4c329454fd88602dbc7bddf42e8",
       "version_major": 2,
       "version_minor": 0
      },
      "text/plain": [
       "HBox(children=(FloatProgress(value=0.0, max=2.0), HTML(value='')))"
      ]
     },
     "metadata": {},
     "output_type": "display_data"
    },
    {
     "name": "stdout",
     "output_type": "stream",
     "text": [
      "\n"
     ]
    },
    {
     "data": {
      "application/vnd.jupyter.widget-view+json": {
       "model_id": "51edbd64f90e419e9cb7b743dada250f",
       "version_major": 2,
       "version_minor": 0
      },
      "text/plain": [
       "HBox(children=(FloatProgress(value=1.0, bar_style='info', max=1.0), HTML(value='')))"
      ]
     },
     "metadata": {},
     "output_type": "display_data"
    },
    {
     "name": "stdout",
     "output_type": "stream",
     "text": [
      "\n",
      "\n",
      "\n",
      "--- Working on 1-to-1 correspondence-----\n",
      "max(original_labels),len(original_labels) = (2, 3)\n",
      "empty_indices % = 0.12059397604194573\n",
      " conflict_indices % = 0.00474568487121589\n"
     ]
    },
    {
     "data": {
      "application/vnd.jupyter.widget-view+json": {
       "model_id": "ad7966da69944a1891c96673b244b8b9",
       "version_major": 2,
       "version_minor": 0
      },
      "text/plain": [
       "HBox(children=(FloatProgress(value=0.0, max=4.0), HTML(value='')))"
      ]
     },
     "metadata": {},
     "output_type": "display_data"
    },
    {
     "name": "stdout",
     "output_type": "stream",
     "text": [
      "\n",
      "AFTER face_lookup_resolved_test\n"
     ]
    },
    {
     "data": {
      "application/vnd.jupyter.widget-view+json": {
       "model_id": "978873a4c45b4112b8bb292372d637f9",
       "version_major": 2,
       "version_minor": 0
      },
      "text/plain": [
       "HBox(children=(FloatProgress(value=0.0, max=3.0), HTML(value='')))"
      ]
     },
     "metadata": {},
     "output_type": "display_data"
    },
    {
     "name": "stdout",
     "output_type": "stream",
     "text": [
      "\n",
      "Deleting branches from dictionary\n",
      "MP_branches_with_stitch_point= [3, 9]\n",
      "MP_branches_for_correspondence = [9]\n",
      "MP_leftover = [3], MP_leftover_idx = [0]\n",
      " Finished with (0, 0) \n",
      "\n",
      "\n",
      "\n",
      "\n",
      "---- Working on (1, 0) connection-----\n",
      "Current stitch point was not a branch or endpoint, shortest_path_length to one = 24430.59052134441\n",
      "sk_conn = [0]\n",
      "conn = [0]\n",
      "winning_vertex = [760972.07797587 969037.32269709 940394.61202358]\n",
      "MP_branches_with_stitch_point = [0]\n",
      "MAP_branches_with_stitch_point = [7]\n",
      "MAP_stitch_point_on_end_or_branch = False\n",
      "Using max stitch distance (300) for smoothing because stitch_distance greater (488.86755873891457) \n",
      "Found winning edge: [65, 66.0]\n",
      "in remove edge\n"
     ]
    },
    {
     "data": {
      "application/vnd.jupyter.widget-view+json": {
       "model_id": "f90e63e3f44445a6b679cca15f3b9563",
       "version_major": 2,
       "version_minor": 0
      },
      "text/plain": [
       "HBox(children=(FloatProgress(value=1.0, bar_style='info', max=1.0), HTML(value='')))"
      ]
     },
     "metadata": {},
     "output_type": "display_data"
    },
    {
     "name": "stdout",
     "output_type": "stream",
     "text": [
      "\n",
      "\n",
      "\n",
      "--- Working on 1-to-1 correspondence-----\n",
      "max(original_labels),len(original_labels) = (1, 2)\n",
      "empty_indices % = 0.10154654216515903\n",
      " conflict_indices % = 0.0019175455417066154\n"
     ]
    },
    {
     "data": {
      "application/vnd.jupyter.widget-view+json": {
       "model_id": "9e8b5da07d154ea88b190e8d8708bc4f",
       "version_major": 2,
       "version_minor": 0
      },
      "text/plain": [
       "HBox(children=(FloatProgress(value=0.0, max=65.0), HTML(value='')))"
      ]
     },
     "metadata": {},
     "output_type": "display_data"
    },
    {
     "name": "stdout",
     "output_type": "stream",
     "text": [
      "\n",
      "AFTER face_lookup_resolved_test\n"
     ]
    },
    {
     "data": {
      "application/vnd.jupyter.widget-view+json": {
       "model_id": "f236f00ce79c4660ac7f252979aaa11a",
       "version_major": 2,
       "version_minor": 0
      },
      "text/plain": [
       "HBox(children=(FloatProgress(value=0.0, max=2.0), HTML(value='')))"
      ]
     },
     "metadata": {},
     "output_type": "display_data"
    },
    {
     "name": "stdout",
     "output_type": "stream",
     "text": [
      "\n"
     ]
    },
    {
     "data": {
      "application/vnd.jupyter.widget-view+json": {
       "model_id": "160caf2745444903b845d0c4ab6e84b3",
       "version_major": 2,
       "version_minor": 0
      },
      "text/plain": [
       "HBox(children=(FloatProgress(value=1.0, bar_style='info', max=1.0), HTML(value='')))"
      ]
     },
     "metadata": {},
     "output_type": "display_data"
    },
    {
     "name": "stdout",
     "output_type": "stream",
     "text": [
      "\n",
      "\n",
      "\n",
      "--- Working on 1-to-1 correspondence-----\n",
      "max(original_labels),len(original_labels) = (2, 3)\n",
      "empty_indices % = 0.1042907251814993\n",
      " conflict_indices % = 0.003507627049514642\n"
     ]
    },
    {
     "data": {
      "application/vnd.jupyter.widget-view+json": {
       "model_id": "40ca3d37ee794a45a701300cbbc3bbe5",
       "version_major": 2,
       "version_minor": 0
      },
      "text/plain": [
       "HBox(children=(FloatProgress(value=0.0, max=7.0), HTML(value='')))"
      ]
     },
     "metadata": {},
     "output_type": "display_data"
    },
    {
     "name": "stdout",
     "output_type": "stream",
     "text": [
      "\n",
      "AFTER face_lookup_resolved_test\n"
     ]
    },
    {
     "data": {
      "application/vnd.jupyter.widget-view+json": {
       "model_id": "deb73f20054b4d43a18bf2290b7004cf",
       "version_major": 2,
       "version_minor": 0
      },
      "text/plain": [
       "HBox(children=(FloatProgress(value=0.0, max=3.0), HTML(value='')))"
      ]
     },
     "metadata": {},
     "output_type": "display_data"
    },
    {
     "name": "stdout",
     "output_type": "stream",
     "text": [
      "\n",
      "Deleting branches from dictionary\n",
      "MP_branches_with_stitch_point= [0]\n",
      "MP_branches_for_correspondence = [0]\n",
      "MP_leftover = [], MP_leftover_idx = []\n",
      " Finished with (1, 0) \n",
      "\n",
      "\n",
      "\n",
      "\n",
      "---- Working on (2, 0) connection-----\n",
      "Current stitch point was not a branch or endpoint, shortest_path_length to one = 16001.223367571534\n",
      "sk_conn = [1]\n",
      "conn = [1]\n",
      "winning_vertex = [720961.00684912 991978.32523568 900793.06609987]\n",
      "MP_branches_with_stitch_point = [1]\n",
      "MAP_branches_with_stitch_point = [2]\n",
      "MAP_stitch_point_on_end_or_branch = False\n",
      "Using max stitch distance (300) for smoothing because stitch_distance greater (639.2533728743496) \n",
      "Found winning edge: [0, 2.0]\n",
      "in remove edge\n"
     ]
    },
    {
     "data": {
      "application/vnd.jupyter.widget-view+json": {
       "model_id": "66a3713b7d7146b280d47026594186d2",
       "version_major": 2,
       "version_minor": 0
      },
      "text/plain": [
       "HBox(children=(FloatProgress(value=1.0, bar_style='info', max=1.0), HTML(value='')))"
      ]
     },
     "metadata": {},
     "output_type": "display_data"
    },
    {
     "name": "stdout",
     "output_type": "stream",
     "text": [
      "\n",
      "\n",
      "\n",
      "--- Working on 1-to-1 correspondence-----\n",
      "max(original_labels),len(original_labels) = (1, 2)\n",
      "empty_indices % = 0.1270838366755255\n",
      " conflict_indices % = 0.0027784489007006523\n"
     ]
    },
    {
     "data": {
      "application/vnd.jupyter.widget-view+json": {
       "model_id": "090ea1bfa9cb418da56e36a9f9d79caf",
       "version_major": 2,
       "version_minor": 0
      },
      "text/plain": [
       "HBox(children=(FloatProgress(value=0.0, max=28.0), HTML(value='')))"
      ]
     },
     "metadata": {},
     "output_type": "display_data"
    },
    {
     "name": "stdout",
     "output_type": "stream",
     "text": [
      "\n",
      "AFTER face_lookup_resolved_test\n"
     ]
    },
    {
     "data": {
      "application/vnd.jupyter.widget-view+json": {
       "model_id": "eefd1b7573a049dc94458d4785a7f32a",
       "version_major": 2,
       "version_minor": 0
      },
      "text/plain": [
       "HBox(children=(FloatProgress(value=0.0, max=2.0), HTML(value='')))"
      ]
     },
     "metadata": {},
     "output_type": "display_data"
    },
    {
     "name": "stdout",
     "output_type": "stream",
     "text": [
      "\n"
     ]
    },
    {
     "data": {
      "application/vnd.jupyter.widget-view+json": {
       "model_id": "8ed233c090fc48bd83197d8ad5456e90",
       "version_major": 2,
       "version_minor": 0
      },
      "text/plain": [
       "HBox(children=(FloatProgress(value=1.0, bar_style='info', max=1.0), HTML(value='')))"
      ]
     },
     "metadata": {},
     "output_type": "display_data"
    },
    {
     "name": "stdout",
     "output_type": "stream",
     "text": [
      "\n",
      "\n",
      "\n",
      "--- Working on 1-to-1 correspondence-----\n",
      "max(original_labels),len(original_labels) = (2, 3)\n",
      "empty_indices % = 0.13761362328845933\n",
      " conflict_indices % = 0.005062708549073754\n"
     ]
    },
    {
     "data": {
      "application/vnd.jupyter.widget-view+json": {
       "model_id": "fd71dfdb42174818a55e92b35f8fbfb9",
       "version_major": 2,
       "version_minor": 0
      },
      "text/plain": [
       "HBox(children=(FloatProgress(value=0.0, max=5.0), HTML(value='')))"
      ]
     },
     "metadata": {},
     "output_type": "display_data"
    },
    {
     "name": "stdout",
     "output_type": "stream",
     "text": [
      "\n",
      "AFTER face_lookup_resolved_test\n"
     ]
    },
    {
     "data": {
      "application/vnd.jupyter.widget-view+json": {
       "model_id": "82239eae51bb4958a0606505f70b8924",
       "version_major": 2,
       "version_minor": 0
      },
      "text/plain": [
       "HBox(children=(FloatProgress(value=0.0, max=3.0), HTML(value='')))"
      ]
     },
     "metadata": {},
     "output_type": "display_data"
    },
    {
     "name": "stdout",
     "output_type": "stream",
     "text": [
      "\n",
      "Deleting branches from dictionary\n",
      "MP_branches_with_stitch_point= [1]\n",
      "MP_branches_for_correspondence = [1]\n",
      "MP_leftover = [], MP_leftover_idx = []\n",
      " Finished with (2, 0) \n",
      "\n",
      "\n",
      "\n",
      "\n",
      "---- Working on (3, 0) connection-----\n",
      "Current stitch point was not a branch or endpoint, shortest_path_length to one = 32051.51070737709\n",
      "sk_conn = [1]\n",
      "conn = [1]\n",
      "winning_vertex = [778828.02751892 966172.18966297 965401.08433928]\n",
      "MP_branches_with_stitch_point = [1]\n",
      "MAP_branches_with_stitch_point = [8]\n",
      "MAP_stitch_point_on_end_or_branch = False\n",
      "Using max stitch distance (300) for smoothing because stitch_distance greater (370.8646843132247) \n",
      "Found winning edge: [9, 10.0]\n",
      "in remove edge\n"
     ]
    },
    {
     "data": {
      "application/vnd.jupyter.widget-view+json": {
       "model_id": "f0e1630e487243888a4ba632d4854a4f",
       "version_major": 2,
       "version_minor": 0
      },
      "text/plain": [
       "HBox(children=(FloatProgress(value=1.0, bar_style='info', max=1.0), HTML(value='')))"
      ]
     },
     "metadata": {},
     "output_type": "display_data"
    },
    {
     "name": "stdout",
     "output_type": "stream",
     "text": [
      "\n",
      "\n",
      "\n",
      "--- Working on 1-to-1 correspondence-----\n",
      "max(original_labels),len(original_labels) = (1, 2)\n",
      "empty_indices % = 0.09526881720430108\n",
      " conflict_indices % = 0.0025268817204301074\n"
     ]
    },
    {
     "data": {
      "application/vnd.jupyter.widget-view+json": {
       "model_id": "193fbdc732714e8bb73c69b494abbe2c",
       "version_major": 2,
       "version_minor": 0
      },
      "text/plain": [
       "HBox(children=(FloatProgress(value=0.0, max=48.0), HTML(value='')))"
      ]
     },
     "metadata": {},
     "output_type": "display_data"
    },
    {
     "name": "stdout",
     "output_type": "stream",
     "text": [
      "\n",
      "AFTER face_lookup_resolved_test\n"
     ]
    },
    {
     "data": {
      "application/vnd.jupyter.widget-view+json": {
       "model_id": "3cececcfed2f4f76a0aaae734f5a7541",
       "version_major": 2,
       "version_minor": 0
      },
      "text/plain": [
       "HBox(children=(FloatProgress(value=0.0, max=2.0), HTML(value='')))"
      ]
     },
     "metadata": {},
     "output_type": "display_data"
    },
    {
     "name": "stdout",
     "output_type": "stream",
     "text": [
      "\n"
     ]
    },
    {
     "data": {
      "application/vnd.jupyter.widget-view+json": {
       "model_id": "2da9073b5c664ce9bf649c640480eb22",
       "version_major": 2,
       "version_minor": 0
      },
      "text/plain": [
       "HBox(children=(FloatProgress(value=1.0, bar_style='info', max=1.0), HTML(value='')))"
      ]
     },
     "metadata": {},
     "output_type": "display_data"
    },
    {
     "name": "stdout",
     "output_type": "stream",
     "text": [
      "\n",
      "\n",
      "\n",
      "--- Working on 1-to-1 correspondence-----\n",
      "max(original_labels),len(original_labels) = (2, 3)\n",
      "empty_indices % = 0.0953977121574887\n",
      " conflict_indices % = 0.004416068103218942\n"
     ]
    },
    {
     "data": {
      "application/vnd.jupyter.widget-view+json": {
       "model_id": "a226a53df5c94e5690d8145e44c5bb5b",
       "version_major": 2,
       "version_minor": 0
      },
      "text/plain": [
       "HBox(children=(FloatProgress(value=0.0, max=4.0), HTML(value='')))"
      ]
     },
     "metadata": {},
     "output_type": "display_data"
    },
    {
     "name": "stdout",
     "output_type": "stream",
     "text": [
      "\n",
      "AFTER face_lookup_resolved_test\n"
     ]
    },
    {
     "data": {
      "application/vnd.jupyter.widget-view+json": {
       "model_id": "9b951bbd1afe4e21a4eb2dfd1e4961b0",
       "version_major": 2,
       "version_minor": 0
      },
      "text/plain": [
       "HBox(children=(FloatProgress(value=0.0, max=3.0), HTML(value='')))"
      ]
     },
     "metadata": {},
     "output_type": "display_data"
    },
    {
     "name": "stdout",
     "output_type": "stream",
     "text": [
      "\n",
      "Deleting branches from dictionary\n",
      "MP_branches_with_stitch_point= [1]\n",
      "MP_branches_for_correspondence = [1]\n",
      "MP_leftover = [], MP_leftover_idx = []\n",
      " Finished with (3, 0) \n",
      "\n",
      "\n",
      "\n",
      "\n",
      "---- Working on (4, 0) connection-----\n",
      "Current stitch point was not a branch or endpoint, shortest_path_length to one = 23660.83310184379\n",
      "sk_conn = [1]\n",
      "conn = [1]\n",
      "winning_vertex = [746921.13943236 963351.4204698  884152.30584531]\n",
      "MP_branches_with_stitch_point = [1]\n",
      "MAP_branches_with_stitch_point = [4]\n",
      "MAP_stitch_point_on_end_or_branch = False\n",
      "Using max stitch distance (300) for smoothing because stitch_distance greater (850.4885071060892) \n",
      "Found winning edge: [8, 10.0]\n",
      "in remove edge\n"
     ]
    },
    {
     "data": {
      "application/vnd.jupyter.widget-view+json": {
       "model_id": "0e9330658421424bbad95a8b5e251b61",
       "version_major": 2,
       "version_minor": 0
      },
      "text/plain": [
       "HBox(children=(FloatProgress(value=1.0, bar_style='info', max=1.0), HTML(value='')))"
      ]
     },
     "metadata": {},
     "output_type": "display_data"
    },
    {
     "name": "stdout",
     "output_type": "stream",
     "text": [
      "\n",
      "\n",
      "\n",
      "--- Working on 1-to-1 correspondence-----\n",
      "max(original_labels),len(original_labels) = (1, 2)\n",
      "empty_indices % = 0.044470256367709286\n",
      " conflict_indices % = 0.006471417904256202\n"
     ]
    },
    {
     "data": {
      "application/vnd.jupyter.widget-view+json": {
       "model_id": "aefd387e5be04fe6a19d34e6e435724d",
       "version_major": 2,
       "version_minor": 0
      },
      "text/plain": [
       "HBox(children=(FloatProgress(value=0.0, max=23.0), HTML(value='')))"
      ]
     },
     "metadata": {},
     "output_type": "display_data"
    },
    {
     "name": "stdout",
     "output_type": "stream",
     "text": [
      "\n",
      "AFTER face_lookup_resolved_test\n"
     ]
    },
    {
     "data": {
      "application/vnd.jupyter.widget-view+json": {
       "model_id": "d2a58b456a854203a32ebb358064b599",
       "version_major": 2,
       "version_minor": 0
      },
      "text/plain": [
       "HBox(children=(FloatProgress(value=0.0, max=2.0), HTML(value='')))"
      ]
     },
     "metadata": {},
     "output_type": "display_data"
    },
    {
     "name": "stdout",
     "output_type": "stream",
     "text": [
      "\n"
     ]
    },
    {
     "data": {
      "application/vnd.jupyter.widget-view+json": {
       "model_id": "9be132d199ac496798b3baf2438e210c",
       "version_major": 2,
       "version_minor": 0
      },
      "text/plain": [
       "HBox(children=(FloatProgress(value=1.0, bar_style='info', max=1.0), HTML(value='')))"
      ]
     },
     "metadata": {},
     "output_type": "display_data"
    },
    {
     "name": "stdout",
     "output_type": "stream",
     "text": [
      "\n",
      "\n",
      "\n",
      "--- Working on 1-to-1 correspondence-----\n",
      "max(original_labels),len(original_labels) = (2, 3)\n",
      "empty_indices % = 0.06020066889632107\n",
      " conflict_indices % = 0.032228640924293096\n"
     ]
    },
    {
     "data": {
      "application/vnd.jupyter.widget-view+json": {
       "model_id": "d5e426b0aafb423494c6ac9ea87d5086",
       "version_major": 2,
       "version_minor": 0
      },
      "text/plain": [
       "HBox(children=(FloatProgress(value=0.0, max=2.0), HTML(value='')))"
      ]
     },
     "metadata": {},
     "output_type": "display_data"
    },
    {
     "name": "stdout",
     "output_type": "stream",
     "text": [
      "\n",
      "AFTER face_lookup_resolved_test\n"
     ]
    },
    {
     "data": {
      "application/vnd.jupyter.widget-view+json": {
       "model_id": "482ce97608a64c099dfd1a76129654d2",
       "version_major": 2,
       "version_minor": 0
      },
      "text/plain": [
       "HBox(children=(FloatProgress(value=0.0, max=3.0), HTML(value='')))"
      ]
     },
     "metadata": {},
     "output_type": "display_data"
    },
    {
     "name": "stdout",
     "output_type": "stream",
     "text": [
      "\n",
      "Deleting branches from dictionary\n",
      "MP_branches_with_stitch_point= [1]\n",
      "MP_branches_for_correspondence = [1]\n",
      "MP_leftover = [], MP_leftover_idx = []\n",
      " Finished with (4, 0) \n",
      "\n",
      "\n",
      "\n",
      "Time for decomp of Limb = 95.83453869819641\n",
      "Number of matching vertices = 43\n",
      "Only one endpoint after filtering away the endpoints that are not on the skeleton\n",
      "Using Distance measure skeletal_distance\n",
      "endpoints_must_keep = [array([749899.57674419, 960506.73488372, 879443.3       ])]\n",
      "Number of end_nodes BEFORE filtering = 19\n",
      "all_single_nodes_to_eliminate = [11]\n",
      "no small end nodes to get rid of so returning whole skeleton\n",
      "Removed 0 skeletal branches\n"
     ]
    },
    {
     "data": {
      "application/vnd.jupyter.widget-view+json": {
       "model_id": "24b3d11e21a540f0b449ee466aa817a5",
       "version_major": 2,
       "version_minor": 0
      },
      "text/plain": [
       "HBox(children=(FloatProgress(value=0.0, max=33.0), HTML(value='')))"
      ]
     },
     "metadata": {},
     "output_type": "display_data"
    },
    {
     "name": "stdout",
     "output_type": "stream",
     "text": [
      "\n",
      "110020 110021\n",
      "For marked faces: None\n",
      "empty_indices % = 0.0\n",
      " conflict_indices % = 0.0\n"
     ]
    },
    {
     "data": {
      "application/vnd.jupyter.widget-view+json": {
       "model_id": "f0b346b6aabb429d9b7339ad6ff1cd19",
       "version_major": 2,
       "version_minor": 0
      },
      "text/plain": [
       "HBox(children=(FloatProgress(value=1.0, bar_style='info', max=1.0), HTML(value='')))"
      ]
     },
     "metadata": {},
     "output_type": "display_data"
    },
    {
     "name": "stdout",
     "output_type": "stream",
     "text": [
      "\n",
      "AFTER face_lookup_resolved_test\n"
     ]
    },
    {
     "data": {
      "application/vnd.jupyter.widget-view+json": {
       "model_id": "34e15b1cb0ac4c578641ff55cb5176ae",
       "version_major": 2,
       "version_minor": 0
      },
      "text/plain": [
       "HBox(children=(FloatProgress(value=0.0, max=33.0), HTML(value='')))"
      ]
     },
     "metadata": {},
     "output_type": "display_data"
    },
    {
     "name": "stderr",
     "output_type": "stream",
     "text": [
      "\r",
      "  0%|          | 0/1 [00:00<?, ?it/s]"
     ]
    },
    {
     "name": "stdout",
     "output_type": "stream",
     "text": [
      "\n",
      "\n",
      "\n",
      "----- Working on Proper Limb # 4 ---------\n",
      "meshparty_segment_size = 100\n",
      "root_curr = [863644.1 998240.5 867369.4]\n",
      "Time for preparing soma vertices and root: 0.0002651214599609375\n",
      "invalidation_d = 12000\n",
      "cc_vertex_thresh = 10\n"
     ]
    },
    {
     "data": {
      "application/vnd.jupyter.widget-view+json": {
       "model_id": "5ae2036fd70a441aacceca1ad4e89a6e",
       "version_major": 2,
       "version_minor": 0
      },
      "text/plain": [
       "HBox(children=(FloatProgress(value=0.0, max=53681.0), HTML(value='')))"
      ]
     },
     "metadata": {},
     "output_type": "display_data"
    },
    {
     "name": "stderr",
     "output_type": "stream",
     "text": [
      "100%|██████████| 1/1 [00:00<00:00,  1.21it/s]"
     ]
    },
    {
     "name": "stdout",
     "output_type": "stream",
     "text": [
      "\n"
     ]
    },
    {
     "name": "stderr",
     "output_type": "stream",
     "text": [
      "\n"
     ]
    },
    {
     "name": "stdout",
     "output_type": "stream",
     "text": [
      "meshparty_segment_size = 100\n",
      "Time for 1st pass MP skeletonization: 1.3913733959197998\n",
      "connecting at the root\n",
      "branches_touching_root = [33]\n",
      "length of Graph = 8591\n",
      "Working on path [7819. 7820. 7821. 7822. 7823. 7824.]\n",
      "path_degrees = [3, 2, 2, 2, 2, 3]\n",
      "After combining close endpoints max(kept_branches_idx) = 33, len(kept_branches_idx) = 33\n",
      "empty_indices % = 0.0\n",
      " conflict_indices % = 0.008275516174872523\n"
     ]
    },
    {
     "data": {
      "application/vnd.jupyter.widget-view+json": {
       "model_id": "5c3d072c3b4b4d7faced0dc84aab7056",
       "version_major": 2,
       "version_minor": 0
      },
      "text/plain": [
       "HBox(children=(FloatProgress(value=0.0, max=13.0), HTML(value='')))"
      ]
     },
     "metadata": {},
     "output_type": "display_data"
    },
    {
     "name": "stdout",
     "output_type": "stream",
     "text": [
      "\n",
      "AFTER face_lookup_resolved_test\n"
     ]
    },
    {
     "data": {
      "application/vnd.jupyter.widget-view+json": {
       "model_id": "bc5bcca5817146c1bd4142887ac8f8bd",
       "version_major": 2,
       "version_minor": 0
      },
      "text/plain": [
       "HBox(children=(FloatProgress(value=0.0, max=33.0), HTML(value='')))"
      ]
     },
     "metadata": {},
     "output_type": "display_data"
    },
    {
     "name": "stdout",
     "output_type": "stream",
     "text": [
      "\n",
      "Decomposing first pass: 7.557373523712158\n",
      "Attempting to use MeshAfterParty Skeletonization and Mesh Correspondence\n",
      "Another print\n",
      "Found len(mesh_large_idx) MAP candidates: [963, 14586, 11997, 5516, 371, 292, 750, 3344, 21571, 239, 8906, 3641]\n",
      "mesh_large_connectivity: 0.14755702018737793\n",
      "Finding MAP candidates connected components: 0.00016236305236816406\n",
      "len(filtered_pieces) = 1\n",
      "skeleton_connectivity_MP : 0.18985843658447266\n",
      "Grouping MP Sublimbs by Graph: 0.032041311264038086\n",
      "Divinding into MP and MAP pieces: 1.1920928955078125e-06\n",
      "--- Working on MAP piece 0---\n",
      "MAP Filtering Soma Pieces: 0.008357763290405273\n",
      "inside skeletonize_connected_branch and use_surface_after_CGAL=False, surface_reconstruction_size=1000\n",
      "The mesh passed has 11 pieces so just taking the largest one <trimesh.Trimesh(vertices.shape=(36083, 3), faces.shape=(72165, 3))>\n",
      "     Starting Screened Poisson\n",
      "xvfb-run -n 2994 -s \"-screen 0 800x600x24\" meshlabserver $@  -i /notebooks/Auto_Proofreading/Compartments/Axon/temp/None.off -o /notebooks/Auto_Proofreading/Compartments/Axon/temp/None_poisson.off -s /notebooks/Auto_Proofreading/Compartments/Axon/temp/poisson_637287.mls\n",
      "removed temporary input file: /notebooks/Auto_Proofreading/Compartments/Axon/temp/None.off\n",
      "removed temporary output file: /notebooks/Auto_Proofreading/Compartments/Axon/temp/None_poisson.off\n",
      "Using the close holes feature\n",
      "xvfb-run -n 9495 -s \"-screen 0 800x600x24\" meshlabserver $@  -i /notebooks/Auto_Proofreading/Compartments/Axon/temp/neuron_72694.off -o /notebooks/Auto_Proofreading/Compartments/Axon/temp/neuron_72694_fill_holes.off -s /notebooks/Auto_Proofreading/Compartments/Axon/temp/fill_holes_150316.mls\n",
      "removed temporary input file: /notebooks/Auto_Proofreading/Compartments/Axon/temp/neuron_72694.off\n",
      "removed temporary output file: /notebooks/Auto_Proofreading/Compartments/Axon/temp/neuron_72694_fill_holes.off\n",
      "-----Time for Screened Poisson= 17.729369401931763\n",
      "mesh_pieces = [<trimesh.Trimesh(vertices.shape=(58117, 3), faces.shape=(116242, 3))>]\n",
      "     Starting Calcification (Changed back where stitches large poissons)\n",
      "min_edge_length = 75\n",
      "node_degrees = [4 3 2]\n"
     ]
    },
    {
     "data": {
      "application/vnd.jupyter.widget-view+json": {
       "model_id": "f8916341b30143568b12ee3b84263ee8",
       "version_major": 2,
       "version_minor": 0
      },
      "text/plain": [
       "HBox(children=(FloatProgress(value=1.0, bar_style='info', max=1.0), HTML(value='')))"
      ]
     },
     "metadata": {},
     "output_type": "display_data"
    },
    {
     "name": "stdout",
     "output_type": "stream",
     "text": [
      "\n",
      "No skeletons to stack so returning empty list\n",
      "len_subgraphs AT BEGINNING of the loop\n"
     ]
    },
    {
     "data": {
      "application/vnd.jupyter.widget-view+json": {
       "model_id": "05cc36fc9e2046598637efc0fea26d61",
       "version_major": 2,
       "version_minor": 0
      },
      "text/plain": [
       "HBox(children=(FloatProgress(value=0.0, max=1.0), HTML(value='')))"
      ]
     },
     "metadata": {},
     "output_type": "display_data"
    },
    {
     "name": "stdout",
     "output_type": "stream",
     "text": [
      "all graph is one component!\n",
      "\n",
      "Total time for skeleton stitching = 0.11377930641174316\n",
      "The process was using a temp folder\n",
      "Checking connected components after skeletonize_connected_branch\n",
      "    Total time for skeletonizing branch: 23.45575189590454\n",
      "Checking connected components after removing cycles\n",
      "Total time for mesh KDTree = 0.44907522201538086\n",
      "sbv[0].reshape(-1,3) = [[863644.1 998240.5 867369.4]]\n",
      "closest_sk_pt_coord BEFORE = [864563. 998267. 867311.]\n",
      "current_skeleton.shape = (2901, 2, 3)\n",
      "Current stitch point was not a branch or endpoint, shortest_path_length to one = 492.04735602034674\n",
      "Changing the stitch point becasue the distance to end or branch node was 492.04735602034674\n",
      "New stitch point has degree 1\n",
      "change_status for create soma extending pieces = True\n",
      "closest_sk_pt_coord AFTER = [864831. 998267. 866901.]\n",
      "skipping soma 1 because closest skeleton node was already end node\n",
      "endpoints_must_keep = {1: array([[864831., 998267., 866901.]])}\n",
      "    Total time for Fixing Skeleton Soma Endpoint Extension : 1.3091552257537842\n",
      "filter_end_node_length = 4500\n",
      "Using Distance measure skeletal_distance\n",
      "endpoints_must_keep = [[864831. 998267. 866901.]]\n",
      "Number of end_nodes BEFORE filtering = 27\n",
      "all_single_nodes_to_eliminate = [8]\n"
     ]
    },
    {
     "data": {
      "application/vnd.jupyter.widget-view+json": {
       "model_id": "b41a16490427493ea95615eec0fa46c0",
       "version_major": 2,
       "version_minor": 0
      },
      "text/plain": [
       "HBox(children=(FloatProgress(value=0.0, max=24.0), HTML(value='')))"
      ]
     },
     "metadata": {},
     "output_type": "display_data"
    },
    {
     "name": "stdout",
     "output_type": "stream",
     "text": [
      "\n",
      "Checking connected components after clean_skeleton\n",
      "after DISTANCE cleaning limb size of skeleton = (2810, 2, 3)\n",
      "********COMBINING CLOSE SKELETON NODES WITHIN 700 DISTANCE**********\n",
      "Found 0 valid paths to replace\n",
      "valid_paths = []\n",
      "valid_path_lengths = []\n",
      "No valid paths found so just returning the original\n",
      "skeletonize_and_clean_connected_branch_CGAL: 32.23567771911621\n",
      "Working on limb correspondence for #0 MAP piece\n"
     ]
    },
    {
     "data": {
      "application/vnd.jupyter.widget-view+json": {
       "model_id": "db0da04317a044678d8df6bf594f9229",
       "version_major": 2,
       "version_minor": 0
      },
      "text/plain": [
       "HBox(children=(FloatProgress(value=1.0, bar_style='info', max=1.0), HTML(value='')))"
      ]
     },
     "metadata": {},
     "output_type": "display_data"
    },
    {
     "name": "stdout",
     "output_type": "stream",
     "text": [
      "\n",
      "Total time for decomposition = 10.115218162536621\n",
      "mesh_correspondence_first_pass: 10.115242719650269\n",
      "Limb decomposed into 5 branches\n",
      "divided_skeleton_graph_recovered = (2810, 2, 3) and \n",
      "current_mesh_data[0]['branch_skeletons_cleaned'].shape = (2810, 2, 3)\n",
      "\n",
      "Number of connected components in deocmposed recovered graph = 1\n",
      "Number of connected components in cleaned skeleton graph= 1\n",
      "The downsampled branches number of connected components = 1\n",
      "Empty submeshes = []\n",
      "\n",
      "\n",
      "--- Working on 1-to-1 correspondence-----\n",
      "max(original_labels),len(original_labels) = (4, 5)\n",
      "empty_indices % = 0.10779206384393704\n",
      " conflict_indices % = 0.009296719131013079\n"
     ]
    },
    {
     "data": {
      "application/vnd.jupyter.widget-view+json": {
       "model_id": "79f83ea18192463e9825c2890af40cf8",
       "version_major": 2,
       "version_minor": 0
      },
      "text/plain": [
       "HBox(children=(FloatProgress(value=0.0, max=197.0), HTML(value='')))"
      ]
     },
     "metadata": {},
     "output_type": "display_data"
    },
    {
     "name": "stdout",
     "output_type": "stream",
     "text": [
      "\n",
      "AFTER face_lookup_resolved_test\n",
      "Took 0 iterations to expand the label back\n",
      "empty_indices % = 0.0\n",
      " conflict_indices % = 0.0\n"
     ]
    },
    {
     "data": {
      "application/vnd.jupyter.widget-view+json": {
       "model_id": "0246f2bdd8b74eeab5852b75c54c8974",
       "version_major": 2,
       "version_minor": 0
      },
      "text/plain": [
       "HBox(children=(FloatProgress(value=1.0, bar_style='info', max=1.0), HTML(value='')))"
      ]
     },
     "metadata": {},
     "output_type": "display_data"
    },
    {
     "name": "stdout",
     "output_type": "stream",
     "text": [
      "\n",
      "AFTER face_lookup_resolved_test\n"
     ]
    },
    {
     "data": {
      "application/vnd.jupyter.widget-view+json": {
       "model_id": "f6e9ce9bf36e43258bc11c8412b8ce64",
       "version_major": 2,
       "version_minor": 0
      },
      "text/plain": [
       "HBox(children=(FloatProgress(value=0.0, max=5.0), HTML(value='')))"
      ]
     },
     "metadata": {},
     "output_type": "display_data"
    },
    {
     "name": "stdout",
     "output_type": "stream",
     "text": [
      "\n",
      "Total time for MAP sublimb #0 mesh processing = 49.006043672561646\n",
      "correspondence_1_to_1: 6.646890878677368\n",
      "Total time for MAP sublimb processing 49.00635027885437\n",
      "---- Working on MP Decomposition #0 ----\n",
      "Computing the current soma touching verts dict manually\n",
      "MP filtering soma verts: 0.0017893314361572266\n",
      "Do Not Need to Fix MP Decomposition 0 so just continuing\n",
      "---- Working on MP Decomposition #1 ----\n",
      "Computing the current soma touching verts dict manually\n",
      "MP filtering soma verts: 0.0008833408355712891\n",
      "Do Not Need to Fix MP Decomposition 1 so just continuing\n",
      "---- Working on MP Decomposition #2 ----\n",
      "Computing the current soma touching verts dict manually\n",
      "MP filtering soma verts: 0.0010366439819335938\n",
      "Do Not Need to Fix MP Decomposition 2 so just continuing\n",
      "---- Working on MP Decomposition #3 ----\n",
      "Computing the current soma touching verts dict manually\n",
      "MP filtering soma verts: 0.0008137226104736328\n",
      "Do Not Need to Fix MP Decomposition 3 so just continuing\n",
      "---- Working on MP Decomposition #4 ----\n",
      "Computing the current soma touching verts dict manually\n",
      "MP filtering soma verts: 0.0004220008850097656\n",
      "Do Not Need to Fix MP Decomposition 4 so just continuing\n",
      "---- Working on MP Decomposition #5 ----\n",
      "Computing the current soma touching verts dict manually\n",
      "MP filtering soma verts: 0.00025153160095214844\n",
      "Do Not Need to Fix MP Decomposition 5 so just continuing\n",
      "---- Working on MP Decomposition #6 ----\n",
      "Computing the current soma touching verts dict manually\n",
      "MP filtering soma verts: 0.00020265579223632812\n",
      "Do Not Need to Fix MP Decomposition 6 so just continuing\n",
      "---- Working on MP Decomposition #7 ----\n",
      "Computing the current soma touching verts dict manually\n",
      "MP filtering soma verts: 0.000209808349609375\n",
      "Do Not Need to Fix MP Decomposition 7 so just continuing\n",
      "Successful mesh connectivity with type edges\n",
      "\n",
      "---- Working on (0, 0) connection-----\n",
      "Current stitch point was not a branch or endpoint, shortest_path_length to one = 22260.978874807366\n",
      "sk_conn = [1]\n",
      "conn = [1]\n",
      "winning_vertex = [ 882442.9007457  1101534.14610268 1019647.01039372]\n",
      "MP_branches_with_stitch_point = [1]\n",
      "MAP_branches_with_stitch_point = [3]\n",
      "MAP_stitch_point_on_end_or_branch = False\n",
      "Using max stitch distance (300) for smoothing because stitch_distance greater (411.1364528829983) \n",
      "Found winning edge: [9, 10.0]\n",
      "in remove edge\n"
     ]
    },
    {
     "data": {
      "application/vnd.jupyter.widget-view+json": {
       "model_id": "33c41675629f48dd9d61a4a99b831247",
       "version_major": 2,
       "version_minor": 0
      },
      "text/plain": [
       "HBox(children=(FloatProgress(value=1.0, bar_style='info', max=1.0), HTML(value='')))"
      ]
     },
     "metadata": {},
     "output_type": "display_data"
    },
    {
     "name": "stdout",
     "output_type": "stream",
     "text": [
      "\n",
      "\n",
      "\n",
      "--- Working on 1-to-1 correspondence-----\n",
      "max(original_labels),len(original_labels) = (1, 2)\n",
      "empty_indices % = 0.1183381847049484\n",
      " conflict_indices % = 0.0014289494575284467\n"
     ]
    },
    {
     "data": {
      "application/vnd.jupyter.widget-view+json": {
       "model_id": "c0fe28b04552474c828e0e5031515ac4",
       "version_major": 2,
       "version_minor": 0
      },
      "text/plain": [
       "HBox(children=(FloatProgress(value=0.0, max=59.0), HTML(value='')))"
      ]
     },
     "metadata": {},
     "output_type": "display_data"
    },
    {
     "name": "stdout",
     "output_type": "stream",
     "text": [
      "\n",
      "AFTER face_lookup_resolved_test\n"
     ]
    },
    {
     "data": {
      "application/vnd.jupyter.widget-view+json": {
       "model_id": "0a1dbcc6ef494d6abe1cc24da8e4ae63",
       "version_major": 2,
       "version_minor": 0
      },
      "text/plain": [
       "HBox(children=(FloatProgress(value=0.0, max=2.0), HTML(value='')))"
      ]
     },
     "metadata": {},
     "output_type": "display_data"
    },
    {
     "name": "stdout",
     "output_type": "stream",
     "text": [
      "\n"
     ]
    },
    {
     "data": {
      "application/vnd.jupyter.widget-view+json": {
       "model_id": "524f1bf7951a420d8ab7cdb939514cee",
       "version_major": 2,
       "version_minor": 0
      },
      "text/plain": [
       "HBox(children=(FloatProgress(value=1.0, bar_style='info', max=1.0), HTML(value='')))"
      ]
     },
     "metadata": {},
     "output_type": "display_data"
    },
    {
     "name": "stdout",
     "output_type": "stream",
     "text": [
      "\n",
      "\n",
      "\n",
      "--- Working on 1-to-1 correspondence-----\n",
      "max(original_labels),len(original_labels) = (2, 3)\n",
      "empty_indices % = 0.11726230966459107\n",
      " conflict_indices % = 0.003767463764324211\n"
     ]
    },
    {
     "data": {
      "application/vnd.jupyter.widget-view+json": {
       "model_id": "59ae38ae6d9f4d7bac25f23ac9e0bfd0",
       "version_major": 2,
       "version_minor": 0
      },
      "text/plain": [
       "HBox(children=(FloatProgress(value=0.0, max=4.0), HTML(value='')))"
      ]
     },
     "metadata": {},
     "output_type": "display_data"
    },
    {
     "name": "stdout",
     "output_type": "stream",
     "text": [
      "\n",
      "AFTER face_lookup_resolved_test\n"
     ]
    },
    {
     "data": {
      "application/vnd.jupyter.widget-view+json": {
       "model_id": "e1ea358af2ee4225a116bc6ff4fdcae8",
       "version_major": 2,
       "version_minor": 0
      },
      "text/plain": [
       "HBox(children=(FloatProgress(value=0.0, max=3.0), HTML(value='')))"
      ]
     },
     "metadata": {},
     "output_type": "display_data"
    },
    {
     "name": "stdout",
     "output_type": "stream",
     "text": [
      "\n",
      "Deleting branches from dictionary\n",
      "MP_branches_with_stitch_point= [1]\n",
      "MP_branches_for_correspondence = [1]\n",
      "MP_leftover = [], MP_leftover_idx = []\n",
      " Finished with (0, 0) \n",
      "\n",
      "\n",
      "\n",
      "\n",
      "---- Working on (1, 0) connection-----\n",
      "Current stitch point was a branch or endpoint\n",
      "sk_conn = [0, 3]\n",
      "conn = [0, 3]\n",
      "winning_vertex = [ 877926.13802755 1109912.17752451 1037594.09472496]\n",
      "MP_branches_with_stitch_point = [0, 3]\n",
      "MAP_branches_with_stitch_point = [5]\n",
      "MAP_stitch_point_on_end_or_branch = True\n",
      "Using max stitch distance (300) for smoothing because stitch_distance greater (516.8442113295299) \n",
      "Found winning edge: [520, 521.0]\n",
      "in remove edge\n",
      "Using max stitch distance (300) for smoothing because stitch_distance greater (485.63394426063377) \n",
      "Found winning edge: [9, 10.0]\n",
      "in remove edge\n"
     ]
    },
    {
     "data": {
      "application/vnd.jupyter.widget-view+json": {
       "model_id": "dfb2d0fa689e455fa9e845f4fc2c433e",
       "version_major": 2,
       "version_minor": 0
      },
      "text/plain": [
       "HBox(children=(FloatProgress(value=1.0, bar_style='info', max=1.0), HTML(value='')))"
      ]
     },
     "metadata": {},
     "output_type": "display_data"
    },
    {
     "name": "stdout",
     "output_type": "stream",
     "text": [
      "\n",
      "\n",
      "\n",
      "--- Working on 1-to-1 correspondence-----\n",
      "max(original_labels),len(original_labels) = (2, 3)\n",
      "empty_indices % = 0.20857618651124063\n",
      " conflict_indices % = 0.0033305578684429643\n"
     ]
    },
    {
     "data": {
      "application/vnd.jupyter.widget-view+json": {
       "model_id": "819c5648badc4a47b6b20df53f686789",
       "version_major": 2,
       "version_minor": 0
      },
      "text/plain": [
       "HBox(children=(FloatProgress(value=0.0, max=16.0), HTML(value='')))"
      ]
     },
     "metadata": {},
     "output_type": "display_data"
    },
    {
     "name": "stdout",
     "output_type": "stream",
     "text": [
      "\n",
      "AFTER face_lookup_resolved_test\n"
     ]
    },
    {
     "data": {
      "application/vnd.jupyter.widget-view+json": {
       "model_id": "1867c10fb3fa4aaebd3a6bb733887539",
       "version_major": 2,
       "version_minor": 0
      },
      "text/plain": [
       "HBox(children=(FloatProgress(value=0.0, max=3.0), HTML(value='')))"
      ]
     },
     "metadata": {},
     "output_type": "display_data"
    },
    {
     "name": "stdout",
     "output_type": "stream",
     "text": [
      "\n",
      "MP_branches_with_stitch_point= [0, 3]\n",
      "MP_branches_for_correspondence = [0 3]\n",
      "MP_leftover = [], MP_leftover_idx = []\n",
      " Finished with (1, 0) \n",
      "\n",
      "\n",
      "\n",
      "\n",
      "---- Working on (2, 0) connection-----\n",
      "Current stitch point was a branch or endpoint\n",
      "sk_conn = [0, 6]\n",
      "conn = [0, 6]\n",
      "winning_vertex = [ 979630.63206844 1080016.0396105  1030311.16137809]\n",
      "MP_branches_with_stitch_point = [0, 2, 6]\n",
      "MAP_branches_with_stitch_point = [4]\n",
      "MAP_stitch_point_on_end_or_branch = True\n",
      "Using max stitch distance (300) for smoothing because stitch_distance greater (450.94843058554306) \n",
      "Found winning edge: [9, 10.0]\n",
      "in remove edge\n",
      "Using max stitch distance (300) for smoothing because stitch_distance greater (391.47013147693485) \n",
      "Found winning edge: [346, 347.0]\n",
      "in remove edge\n",
      "Found winning edge: [4, 5.0]\n",
      "in remove edge\n"
     ]
    },
    {
     "data": {
      "application/vnd.jupyter.widget-view+json": {
       "model_id": "783cf6c518964377b7c5f030d2b7718f",
       "version_major": 2,
       "version_minor": 0
      },
      "text/plain": [
       "HBox(children=(FloatProgress(value=1.0, bar_style='info', max=1.0), HTML(value='')))"
      ]
     },
     "metadata": {},
     "output_type": "display_data"
    },
    {
     "name": "stdout",
     "output_type": "stream",
     "text": [
      "\n",
      "\n",
      "\n",
      "--- Working on 1-to-1 correspondence-----\n",
      "max(original_labels),len(original_labels) = (2, 3)\n",
      "empty_indices % = 0.13962635201573254\n",
      " conflict_indices % = 0.0009481668773704172\n"
     ]
    },
    {
     "data": {
      "application/vnd.jupyter.widget-view+json": {
       "model_id": "69523e1ea6a34f7f82793ac70cf336c2",
       "version_major": 2,
       "version_minor": 0
      },
      "text/plain": [
       "HBox(children=(FloatProgress(value=0.0, max=18.0), HTML(value='')))"
      ]
     },
     "metadata": {},
     "output_type": "display_data"
    },
    {
     "name": "stdout",
     "output_type": "stream",
     "text": [
      "\n",
      "AFTER face_lookup_resolved_test\n"
     ]
    },
    {
     "data": {
      "application/vnd.jupyter.widget-view+json": {
       "model_id": "60fddbbfc3064c4c881016c73fa2c14b",
       "version_major": 2,
       "version_minor": 0
      },
      "text/plain": [
       "HBox(children=(FloatProgress(value=0.0, max=3.0), HTML(value='')))"
      ]
     },
     "metadata": {},
     "output_type": "display_data"
    },
    {
     "name": "stdout",
     "output_type": "stream",
     "text": [
      "\n",
      "MP_branches_with_stitch_point= [0, 2, 6]\n",
      "MP_branches_for_correspondence = [0 6]\n",
      "MP_leftover = [2], MP_leftover_idx = [1]\n",
      " Finished with (2, 0) \n",
      "\n",
      "\n",
      "\n",
      "\n",
      "---- Working on (3, 0) connection-----\n",
      "Current stitch point was not a branch or endpoint, shortest_path_length to one = 8262.420985649705\n",
      "sk_conn = [0]\n",
      "conn = [0]\n",
      "winning_vertex = [ 864143.4243164  1007528.82386963  885663.0391586 ]\n",
      "MP_branches_with_stitch_point = [0]\n",
      "MAP_branches_with_stitch_point = [2]\n",
      "MAP_stitch_point_on_end_or_branch = False\n",
      "Using max stitch distance (300) for smoothing because stitch_distance greater (813.3858878701046) \n",
      "Found winning edge: [9, 10.0]\n",
      "in remove edge\n"
     ]
    },
    {
     "data": {
      "application/vnd.jupyter.widget-view+json": {
       "model_id": "41a80ad88a64445f82d5cbe4e570e564",
       "version_major": 2,
       "version_minor": 0
      },
      "text/plain": [
       "HBox(children=(FloatProgress(value=1.0, bar_style='info', max=1.0), HTML(value='')))"
      ]
     },
     "metadata": {},
     "output_type": "display_data"
    },
    {
     "name": "stdout",
     "output_type": "stream",
     "text": [
      "\n",
      "\n",
      "\n",
      "--- Working on 1-to-1 correspondence-----\n",
      "max(original_labels),len(original_labels) = (1, 2)\n",
      "empty_indices % = 0.09987997703908574\n",
      " conflict_indices % = 0.0017742524656890885\n"
     ]
    },
    {
     "data": {
      "application/vnd.jupyter.widget-view+json": {
       "model_id": "a4c91e54d4e74bc28f926726859554c4",
       "version_major": 2,
       "version_minor": 0
      },
      "text/plain": [
       "HBox(children=(FloatProgress(value=0.0, max=53.0), HTML(value='')))"
      ]
     },
     "metadata": {},
     "output_type": "display_data"
    },
    {
     "name": "stdout",
     "output_type": "stream",
     "text": [
      "\n",
      "AFTER face_lookup_resolved_test\n"
     ]
    },
    {
     "data": {
      "application/vnd.jupyter.widget-view+json": {
       "model_id": "f547143049d64c73b99b67455a84bb6c",
       "version_major": 2,
       "version_minor": 0
      },
      "text/plain": [
       "HBox(children=(FloatProgress(value=0.0, max=2.0), HTML(value='')))"
      ]
     },
     "metadata": {},
     "output_type": "display_data"
    },
    {
     "name": "stdout",
     "output_type": "stream",
     "text": [
      "\n"
     ]
    },
    {
     "data": {
      "application/vnd.jupyter.widget-view+json": {
       "model_id": "3cf5d719480447a1823e8d55cf00a33a",
       "version_major": 2,
       "version_minor": 0
      },
      "text/plain": [
       "HBox(children=(FloatProgress(value=1.0, bar_style='info', max=1.0), HTML(value='')))"
      ]
     },
     "metadata": {},
     "output_type": "display_data"
    },
    {
     "name": "stdout",
     "output_type": "stream",
     "text": [
      "\n",
      "\n",
      "\n",
      "--- Working on 1-to-1 correspondence-----\n",
      "max(original_labels),len(original_labels) = (2, 3)\n",
      "empty_indices % = 0.12790909422005317\n",
      " conflict_indices % = 0.008121790435954401\n"
     ]
    },
    {
     "data": {
      "application/vnd.jupyter.widget-view+json": {
       "model_id": "ff6e0022599c4221ac8f9fec0a204e47",
       "version_major": 2,
       "version_minor": 0
      },
      "text/plain": [
       "HBox(children=(FloatProgress(value=0.0, max=34.0), HTML(value='')))"
      ]
     },
     "metadata": {},
     "output_type": "display_data"
    },
    {
     "name": "stdout",
     "output_type": "stream",
     "text": [
      "\n",
      "AFTER face_lookup_resolved_test\n"
     ]
    },
    {
     "data": {
      "application/vnd.jupyter.widget-view+json": {
       "model_id": "b9de81cef8c8422c8ae5f03071ce9deb",
       "version_major": 2,
       "version_minor": 0
      },
      "text/plain": [
       "HBox(children=(FloatProgress(value=0.0, max=3.0), HTML(value='')))"
      ]
     },
     "metadata": {},
     "output_type": "display_data"
    },
    {
     "name": "stdout",
     "output_type": "stream",
     "text": [
      "\n",
      "Deleting branches from dictionary\n",
      "MP_branches_with_stitch_point= [0]\n",
      "MP_branches_for_correspondence = [0]\n",
      "MP_leftover = [], MP_leftover_idx = []\n",
      " Finished with (3, 0) \n",
      "\n",
      "\n",
      "\n",
      "\n",
      "---- Working on (4, 0) connection-----\n",
      "Current stitch point was not a branch or endpoint, shortest_path_length to one = 2484.291459582095\n",
      "sk_conn = [0, 1]\n",
      "conn = [0, 1]\n",
      "winning_vertex = [ 864027.59306965 1004875.02303692  884947.16150289]\n",
      "MP_branches_with_stitch_point = [0, 1]\n",
      "MAP_branches_with_stitch_point = [2]\n",
      "MAP_stitch_point_on_end_or_branch = False\n",
      "Using max stitch distance (300) for smoothing because stitch_distance greater (745.078429341867) \n",
      "Found winning edge: [9, 10.0]\n",
      "in remove edge\n",
      "Using max stitch distance (300) for smoothing because stitch_distance greater (630.5104503994912) \n",
      "Found winning edge: [136, 137.0]\n",
      "in remove edge\n"
     ]
    },
    {
     "data": {
      "application/vnd.jupyter.widget-view+json": {
       "model_id": "d7dab385058e48a4bb8b491267c7f1a1",
       "version_major": 2,
       "version_minor": 0
      },
      "text/plain": [
       "HBox(children=(FloatProgress(value=1.0, bar_style='info', max=1.0), HTML(value='')))"
      ]
     },
     "metadata": {},
     "output_type": "display_data"
    },
    {
     "name": "stdout",
     "output_type": "stream",
     "text": [
      "\n",
      "\n",
      "\n",
      "--- Working on 1-to-1 correspondence-----\n",
      "max(original_labels),len(original_labels) = (1, 2)\n",
      "empty_indices % = 0.22422535211267605\n",
      " conflict_indices % = 0.021971830985915493\n"
     ]
    },
    {
     "data": {
      "application/vnd.jupyter.widget-view+json": {
       "model_id": "a3a6ab45f4834f0499d5324683128f26",
       "version_major": 2,
       "version_minor": 0
      },
      "text/plain": [
       "HBox(children=(FloatProgress(value=0.0, max=10.0), HTML(value='')))"
      ]
     },
     "metadata": {},
     "output_type": "display_data"
    },
    {
     "name": "stdout",
     "output_type": "stream",
     "text": [
      "\n",
      "AFTER face_lookup_resolved_test\n"
     ]
    },
    {
     "data": {
      "application/vnd.jupyter.widget-view+json": {
       "model_id": "44bbd763b49a46268df787aa5e13a0bf",
       "version_major": 2,
       "version_minor": 0
      },
      "text/plain": [
       "HBox(children=(FloatProgress(value=0.0, max=2.0), HTML(value='')))"
      ]
     },
     "metadata": {},
     "output_type": "display_data"
    },
    {
     "name": "stdout",
     "output_type": "stream",
     "text": [
      "\n"
     ]
    },
    {
     "data": {
      "application/vnd.jupyter.widget-view+json": {
       "model_id": "0a3c4ac5b43f49b0ac1be802ca23e732",
       "version_major": 2,
       "version_minor": 0
      },
      "text/plain": [
       "HBox(children=(FloatProgress(value=1.0, bar_style='info', max=1.0), HTML(value='')))"
      ]
     },
     "metadata": {},
     "output_type": "display_data"
    },
    {
     "name": "stdout",
     "output_type": "stream",
     "text": [
      "\n",
      "\n",
      "\n",
      "--- Working on 1-to-1 correspondence-----\n",
      "max(original_labels),len(original_labels) = (3, 4)\n",
      "empty_indices % = 0.18733657078819574\n",
      " conflict_indices % = 0.06406425102726933\n"
     ]
    },
    {
     "data": {
      "application/vnd.jupyter.widget-view+json": {
       "model_id": "789b9571cd884bbe83dbf7d78be55d20",
       "version_major": 2,
       "version_minor": 0
      },
      "text/plain": [
       "HBox(children=(FloatProgress(value=0.0, max=18.0), HTML(value='')))"
      ]
     },
     "metadata": {},
     "output_type": "display_data"
    },
    {
     "name": "stdout",
     "output_type": "stream",
     "text": [
      "\n",
      "AFTER face_lookup_resolved_test\n"
     ]
    },
    {
     "data": {
      "application/vnd.jupyter.widget-view+json": {
       "model_id": "e69d72538e154e359dc44e1df0b29379",
       "version_major": 2,
       "version_minor": 0
      },
      "text/plain": [
       "HBox(children=(FloatProgress(value=0.0, max=4.0), HTML(value='')))"
      ]
     },
     "metadata": {},
     "output_type": "display_data"
    },
    {
     "name": "stdout",
     "output_type": "stream",
     "text": [
      "\n",
      "Deleting branches from dictionary\n",
      "MP_branches_with_stitch_point= [0, 1]\n",
      "MP_branches_for_correspondence = [0 1]\n",
      "MP_leftover = [], MP_leftover_idx = []\n",
      " Finished with (4, 0) \n",
      "\n",
      "\n",
      "\n",
      "\n",
      "---- Working on (5, 0) connection-----\n",
      "Current stitch point was not a branch or endpoint, shortest_path_length to one = 2434.272036574636\n",
      "sk_conn = [0]\n",
      "conn = [0]\n",
      "winning_vertex = [ 862876.05461012 1004036.25480567  882244.51497722]\n",
      "MP_branches_with_stitch_point = [0]\n",
      "MAP_branches_with_stitch_point = [2]\n",
      "MAP_stitch_point_on_end_or_branch = False\n",
      "Using max stitch distance (300) for smoothing because stitch_distance greater (511.47540776351843) \n",
      "Found winning edge: [84, 87.0]\n",
      "in remove edge\n"
     ]
    },
    {
     "data": {
      "application/vnd.jupyter.widget-view+json": {
       "model_id": "9221fb855dc44e348c07fbed75e4d809",
       "version_major": 2,
       "version_minor": 0
      },
      "text/plain": [
       "HBox(children=(FloatProgress(value=1.0, bar_style='info', max=1.0), HTML(value='')))"
      ]
     },
     "metadata": {},
     "output_type": "display_data"
    },
    {
     "name": "stdout",
     "output_type": "stream",
     "text": [
      "\n",
      "\n",
      "\n",
      "--- Working on 1-to-1 correspondence-----\n",
      "max(original_labels),len(original_labels) = (1, 2)\n",
      "empty_indices % = 0.3035048471290082\n",
      " conflict_indices % = 0.013422818791946308\n"
     ]
    },
    {
     "data": {
      "application/vnd.jupyter.widget-view+json": {
       "model_id": "25416f00b6134f51ba817d201b8bdd63",
       "version_major": 2,
       "version_minor": 0
      },
      "text/plain": [
       "HBox(children=(FloatProgress(value=0.0, max=6.0), HTML(value='')))"
      ]
     },
     "metadata": {},
     "output_type": "display_data"
    },
    {
     "name": "stdout",
     "output_type": "stream",
     "text": [
      "\n",
      "AFTER face_lookup_resolved_test\n"
     ]
    },
    {
     "data": {
      "application/vnd.jupyter.widget-view+json": {
       "model_id": "7f1c20160dfc407f8376d09cdfef0044",
       "version_major": 2,
       "version_minor": 0
      },
      "text/plain": [
       "HBox(children=(FloatProgress(value=0.0, max=2.0), HTML(value='')))"
      ]
     },
     "metadata": {},
     "output_type": "display_data"
    },
    {
     "name": "stdout",
     "output_type": "stream",
     "text": [
      "\n"
     ]
    },
    {
     "data": {
      "application/vnd.jupyter.widget-view+json": {
       "model_id": "028ec682e4464c8e93874cbf45d91644",
       "version_major": 2,
       "version_minor": 0
      },
      "text/plain": [
       "HBox(children=(FloatProgress(value=1.0, bar_style='info', max=1.0), HTML(value='')))"
      ]
     },
     "metadata": {},
     "output_type": "display_data"
    },
    {
     "name": "stdout",
     "output_type": "stream",
     "text": [
      "\n",
      "\n",
      "\n",
      "--- Working on 1-to-1 correspondence-----\n",
      "max(original_labels),len(original_labels) = (2, 3)\n",
      "empty_indices % = 0.24427837459131246\n",
      " conflict_indices % = 0.021952358710882764\n"
     ]
    },
    {
     "data": {
      "application/vnd.jupyter.widget-view+json": {
       "model_id": "f4c01be2952e44ca8a28d2a5b1125300",
       "version_major": 2,
       "version_minor": 0
      },
      "text/plain": [
       "HBox(children=(FloatProgress(value=0.0, max=7.0), HTML(value='')))"
      ]
     },
     "metadata": {},
     "output_type": "display_data"
    },
    {
     "name": "stdout",
     "output_type": "stream",
     "text": [
      "\n",
      "AFTER face_lookup_resolved_test\n"
     ]
    },
    {
     "data": {
      "application/vnd.jupyter.widget-view+json": {
       "model_id": "c61618fb21de4c19aca0dfc9ff60c369",
       "version_major": 2,
       "version_minor": 0
      },
      "text/plain": [
       "HBox(children=(FloatProgress(value=0.0, max=3.0), HTML(value='')))"
      ]
     },
     "metadata": {},
     "output_type": "display_data"
    },
    {
     "name": "stdout",
     "output_type": "stream",
     "text": [
      "\n",
      "Deleting branches from dictionary\n",
      "MP_branches_with_stitch_point= [0]\n",
      "MP_branches_for_correspondence = [0]\n",
      "MP_leftover = [], MP_leftover_idx = []\n",
      " Finished with (5, 0) \n",
      "\n",
      "\n",
      "\n",
      "\n",
      "---- Working on (6, 0) connection-----\n",
      "Current stitch point was not a branch or endpoint, shortest_path_length to one = 29397.44193414593\n",
      "sk_conn = [0]\n",
      "conn = [0]\n",
      "winning_vertex = [ 871086.77537262 1027743.86707096  904737.15211925]\n",
      "MP_branches_with_stitch_point = [0]\n",
      "MAP_branches_with_stitch_point = [6]\n",
      "MAP_stitch_point_on_end_or_branch = False\n",
      "Using max stitch distance (300) for smoothing because stitch_distance greater (608.6816258551362) \n",
      "Found winning edge: [9, 10.0]\n",
      "in remove edge\n"
     ]
    },
    {
     "data": {
      "application/vnd.jupyter.widget-view+json": {
       "model_id": "c3d11645986a42cb98c8f94f4c1c8dcc",
       "version_major": 2,
       "version_minor": 0
      },
      "text/plain": [
       "HBox(children=(FloatProgress(value=1.0, bar_style='info', max=1.0), HTML(value='')))"
      ]
     },
     "metadata": {},
     "output_type": "display_data"
    },
    {
     "name": "stdout",
     "output_type": "stream",
     "text": [
      "\n",
      "\n",
      "\n",
      "--- Working on 1-to-1 correspondence-----\n",
      "max(original_labels),len(original_labels) = (1, 2)\n",
      "empty_indices % = 0.10379310344827586\n",
      " conflict_indices % = 0.001206896551724138\n"
     ]
    },
    {
     "data": {
      "application/vnd.jupyter.widget-view+json": {
       "model_id": "a296a0b94a724d1f833ecee2e7b9b8a8",
       "version_major": 2,
       "version_minor": 0
      },
      "text/plain": [
       "HBox(children=(FloatProgress(value=0.0, max=46.0), HTML(value='')))"
      ]
     },
     "metadata": {},
     "output_type": "display_data"
    },
    {
     "name": "stdout",
     "output_type": "stream",
     "text": [
      "\n",
      "AFTER face_lookup_resolved_test\n"
     ]
    },
    {
     "data": {
      "application/vnd.jupyter.widget-view+json": {
       "model_id": "608eb466b561478f9773cfc0da7e1abd",
       "version_major": 2,
       "version_minor": 0
      },
      "text/plain": [
       "HBox(children=(FloatProgress(value=0.0, max=2.0), HTML(value='')))"
      ]
     },
     "metadata": {},
     "output_type": "display_data"
    },
    {
     "name": "stdout",
     "output_type": "stream",
     "text": [
      "\n"
     ]
    },
    {
     "data": {
      "application/vnd.jupyter.widget-view+json": {
       "model_id": "90a1b2f0b5d748b0825d03b08a938567",
       "version_major": 2,
       "version_minor": 0
      },
      "text/plain": [
       "HBox(children=(FloatProgress(value=1.0, bar_style='info', max=1.0), HTML(value='')))"
      ]
     },
     "metadata": {},
     "output_type": "display_data"
    },
    {
     "name": "stdout",
     "output_type": "stream",
     "text": [
      "\n",
      "\n",
      "\n",
      "--- Working on 1-to-1 correspondence-----\n",
      "max(original_labels),len(original_labels) = (2, 3)\n",
      "empty_indices % = 0.11531580374085118\n",
      " conflict_indices % = 0.0064516129032258064\n"
     ]
    },
    {
     "data": {
      "application/vnd.jupyter.widget-view+json": {
       "model_id": "ea6a8c121aea4bc18875bafbdcb60ba0",
       "version_major": 2,
       "version_minor": 0
      },
      "text/plain": [
       "HBox(children=(FloatProgress(value=0.0, max=6.0), HTML(value='')))"
      ]
     },
     "metadata": {},
     "output_type": "display_data"
    },
    {
     "name": "stdout",
     "output_type": "stream",
     "text": [
      "\n",
      "AFTER face_lookup_resolved_test\n"
     ]
    },
    {
     "data": {
      "application/vnd.jupyter.widget-view+json": {
       "model_id": "909e8bf915854076a718c22cd9079e2b",
       "version_major": 2,
       "version_minor": 0
      },
      "text/plain": [
       "HBox(children=(FloatProgress(value=0.0, max=3.0), HTML(value='')))"
      ]
     },
     "metadata": {},
     "output_type": "display_data"
    },
    {
     "name": "stdout",
     "output_type": "stream",
     "text": [
      "\n",
      "Deleting branches from dictionary\n",
      "MP_branches_with_stitch_point= [0]\n",
      "MP_branches_for_correspondence = [0]\n",
      "MP_leftover = [], MP_leftover_idx = []\n",
      " Finished with (6, 0) \n",
      "\n",
      "\n",
      "\n",
      "\n",
      "---- Working on (7, 0) connection-----\n",
      "Current stitch point was not a branch or endpoint, shortest_path_length to one = 6463.153072604977\n",
      "sk_conn = [0]\n",
      "conn = [0]\n",
      "winning_vertex = [ 880016.32496105 1099443.7389572  1014138.10630352]\n",
      "MP_branches_with_stitch_point = [0]\n",
      "MAP_branches_with_stitch_point = [3]\n",
      "MAP_stitch_point_on_end_or_branch = False\n",
      "Using max stitch distance (300) for smoothing because stitch_distance greater (344.2949663460217) \n",
      "Found winning edge: [223, 224.0]\n",
      "in remove edge\n"
     ]
    },
    {
     "data": {
      "application/vnd.jupyter.widget-view+json": {
       "model_id": "9f781a2881214a99b541c8ecf9931e03",
       "version_major": 2,
       "version_minor": 0
      },
      "text/plain": [
       "HBox(children=(FloatProgress(value=1.0, bar_style='info', max=1.0), HTML(value='')))"
      ]
     },
     "metadata": {},
     "output_type": "display_data"
    },
    {
     "name": "stdout",
     "output_type": "stream",
     "text": [
      "\n",
      "\n",
      "\n",
      "--- Working on 1-to-1 correspondence-----\n",
      "max(original_labels),len(original_labels) = (1, 2)\n",
      "empty_indices % = 0.10955561263806833\n",
      " conflict_indices % = 0.0009632674030310815\n"
     ]
    },
    {
     "data": {
      "application/vnd.jupyter.widget-view+json": {
       "model_id": "05549829358945efae09623e66a66bc0",
       "version_major": 2,
       "version_minor": 0
      },
      "text/plain": [
       "HBox(children=(FloatProgress(value=0.0, max=50.0), HTML(value='')))"
      ]
     },
     "metadata": {},
     "output_type": "display_data"
    },
    {
     "name": "stdout",
     "output_type": "stream",
     "text": [
      "\n",
      "AFTER face_lookup_resolved_test\n"
     ]
    },
    {
     "data": {
      "application/vnd.jupyter.widget-view+json": {
       "model_id": "e7b3ef30c52b4867af6fa2b7f88569ef",
       "version_major": 2,
       "version_minor": 0
      },
      "text/plain": [
       "HBox(children=(FloatProgress(value=0.0, max=2.0), HTML(value='')))"
      ]
     },
     "metadata": {},
     "output_type": "display_data"
    },
    {
     "name": "stdout",
     "output_type": "stream",
     "text": [
      "\n"
     ]
    },
    {
     "data": {
      "application/vnd.jupyter.widget-view+json": {
       "model_id": "b285d7dd9f1740108c1d189d106b5660",
       "version_major": 2,
       "version_minor": 0
      },
      "text/plain": [
       "HBox(children=(FloatProgress(value=1.0, bar_style='info', max=1.0), HTML(value='')))"
      ]
     },
     "metadata": {},
     "output_type": "display_data"
    },
    {
     "name": "stdout",
     "output_type": "stream",
     "text": [
      "\n",
      "\n",
      "\n",
      "--- Working on 1-to-1 correspondence-----\n",
      "max(original_labels),len(original_labels) = (2, 3)\n",
      "empty_indices % = 0.1103676913803496\n",
      " conflict_indices % = 0.0022905364677516574\n"
     ]
    },
    {
     "data": {
      "application/vnd.jupyter.widget-view+json": {
       "model_id": "f3828b7fb90045e181d1a8ba66ef8e55",
       "version_major": 2,
       "version_minor": 0
      },
      "text/plain": [
       "HBox(children=(FloatProgress(value=0.0, max=11.0), HTML(value='')))"
      ]
     },
     "metadata": {},
     "output_type": "display_data"
    },
    {
     "name": "stdout",
     "output_type": "stream",
     "text": [
      "\n",
      "AFTER face_lookup_resolved_test\n"
     ]
    },
    {
     "data": {
      "application/vnd.jupyter.widget-view+json": {
       "model_id": "5737f09a926c4ef1961e69147fe898b7",
       "version_major": 2,
       "version_minor": 0
      },
      "text/plain": [
       "HBox(children=(FloatProgress(value=0.0, max=3.0), HTML(value='')))"
      ]
     },
     "metadata": {},
     "output_type": "display_data"
    },
    {
     "name": "stdout",
     "output_type": "stream",
     "text": [
      "\n",
      "Deleting branches from dictionary\n",
      "MP_branches_with_stitch_point= [0]\n",
      "MP_branches_for_correspondence = [0]\n",
      "MP_leftover = [], MP_leftover_idx = []\n",
      " Finished with (7, 0) \n",
      "\n",
      "\n",
      "\n",
      "Time for decomp of Limb = 95.69539737701416\n",
      "Number of matching vertices = 40\n",
      "Only one endpoint after filtering away the endpoints that are not on the skeleton\n",
      "Using Distance measure skeletal_distance\n",
      "endpoints_must_keep = [array([864831., 998267., 866901.])]\n",
      "Number of end_nodes BEFORE filtering = 19\n",
      "all_single_nodes_to_eliminate = [5]\n",
      "no small end nodes to get rid of so returning whole skeleton\n",
      "Removed 0 skeletal branches\n"
     ]
    },
    {
     "data": {
      "application/vnd.jupyter.widget-view+json": {
       "model_id": "5e9634541251451991e363dbeb4a0ba4",
       "version_major": 2,
       "version_minor": 0
      },
      "text/plain": [
       "HBox(children=(FloatProgress(value=0.0, max=32.0), HTML(value='')))"
      ]
     },
     "metadata": {},
     "output_type": "display_data"
    },
    {
     "name": "stdout",
     "output_type": "stream",
     "text": [
      "\n",
      "107691 107692\n",
      "For marked faces: None\n",
      "empty_indices % = 0.0\n",
      " conflict_indices % = 0.0\n"
     ]
    },
    {
     "data": {
      "application/vnd.jupyter.widget-view+json": {
       "model_id": "0886e9cc124a4802b3f54f2f9f97c34a",
       "version_major": 2,
       "version_minor": 0
      },
      "text/plain": [
       "HBox(children=(FloatProgress(value=1.0, bar_style='info', max=1.0), HTML(value='')))"
      ]
     },
     "metadata": {},
     "output_type": "display_data"
    },
    {
     "name": "stdout",
     "output_type": "stream",
     "text": [
      "\n",
      "AFTER face_lookup_resolved_test\n"
     ]
    },
    {
     "data": {
      "application/vnd.jupyter.widget-view+json": {
       "model_id": "09da41dd81db4c0080abea697ad25b28",
       "version_major": 2,
       "version_minor": 0
      },
      "text/plain": [
       "HBox(children=(FloatProgress(value=0.0, max=32.0), HTML(value='')))"
      ]
     },
     "metadata": {},
     "output_type": "display_data"
    },
    {
     "name": "stderr",
     "output_type": "stream",
     "text": [
      "\r",
      "  0%|          | 0/1 [00:00<?, ?it/s]"
     ]
    },
    {
     "name": "stdout",
     "output_type": "stream",
     "text": [
      "\n",
      "\n",
      "\n",
      "----- Working on Proper Limb # 5 ---------\n",
      "meshparty_segment_size = 100\n",
      "root_curr = [751358.7 963102.2 868703.4]\n",
      "Time for preparing soma vertices and root: 0.0002696514129638672\n",
      "invalidation_d = 12000\n",
      "cc_vertex_thresh = 10\n"
     ]
    },
    {
     "data": {
      "application/vnd.jupyter.widget-view+json": {
       "model_id": "f2e1e88534fe467ebb63ed201528e417",
       "version_major": 2,
       "version_minor": 0
      },
      "text/plain": [
       "HBox(children=(FloatProgress(value=0.0, max=51733.0), HTML(value='')))"
      ]
     },
     "metadata": {},
     "output_type": "display_data"
    },
    {
     "name": "stderr",
     "output_type": "stream",
     "text": [
      "100%|██████████| 1/1 [00:00<00:00,  3.30it/s]"
     ]
    },
    {
     "name": "stdout",
     "output_type": "stream",
     "text": [
      "\n"
     ]
    },
    {
     "name": "stderr",
     "output_type": "stream",
     "text": [
      "\n"
     ]
    },
    {
     "name": "stdout",
     "output_type": "stream",
     "text": [
      "meshparty_segment_size = 100\n",
      "Time for 1st pass MP skeletonization: 0.8190212249755859\n",
      "connecting at the root\n",
      "branches_touching_root = [6]\n",
      "length of Graph = 4471\n",
      "After combining close endpoints max(kept_branches_idx) = 6, len(kept_branches_idx) = 7\n",
      "empty_indices % = 0.0\n",
      " conflict_indices % = 0.0036492133489957443\n"
     ]
    },
    {
     "data": {
      "application/vnd.jupyter.widget-view+json": {
       "model_id": "79f2dc70c6fe420c9d1a03a1cf01c5cf",
       "version_major": 2,
       "version_minor": 0
      },
      "text/plain": [
       "HBox(children=(FloatProgress(value=0.0, max=3.0), HTML(value='')))"
      ]
     },
     "metadata": {},
     "output_type": "display_data"
    },
    {
     "name": "stdout",
     "output_type": "stream",
     "text": [
      "\n",
      "AFTER face_lookup_resolved_test\n"
     ]
    },
    {
     "data": {
      "application/vnd.jupyter.widget-view+json": {
       "model_id": "4abcc192bcc54b4a9cec0930cc57fa1e",
       "version_major": 2,
       "version_minor": 0
      },
      "text/plain": [
       "HBox(children=(FloatProgress(value=0.0, max=7.0), HTML(value='')))"
      ]
     },
     "metadata": {},
     "output_type": "display_data"
    },
    {
     "name": "stdout",
     "output_type": "stream",
     "text": [
      "\n",
      "Decomposing first pass: 4.207566976547241\n",
      "Attempting to use MeshAfterParty Skeletonization and Mesh Correspondence\n",
      "Another print\n",
      "Found len(mesh_large_idx) MAP candidates: [38648, 6772, 3162, 4354, 12866, 34226, 3830]\n",
      "mesh_large_connectivity: 0.12057232856750488\n",
      "Finding MAP candidates connected components: 0.00015664100646972656\n",
      "len(filtered_pieces) = 1\n",
      "skeleton_connectivity_MP : 0.02402186393737793\n",
      "Grouping MP Sublimbs by Graph: 3.504753112792969e-05\n",
      "Divinding into MP and MAP pieces: 9.5367431640625e-07\n",
      "--- Working on MAP piece 0---\n",
      "MAP Filtering Soma Pieces: 0.006371498107910156\n",
      "inside skeletonize_connected_branch and use_surface_after_CGAL=False, surface_reconstruction_size=1000\n",
      "     Starting Screened Poisson\n",
      "xvfb-run -n 1375 -s \"-screen 0 800x600x24\" meshlabserver $@  -i /notebooks/Auto_Proofreading/Compartments/Axon/temp/None.off -o /notebooks/Auto_Proofreading/Compartments/Axon/temp/None_poisson.off -s /notebooks/Auto_Proofreading/Compartments/Axon/temp/poisson_278259.mls\n",
      "removed temporary input file: /notebooks/Auto_Proofreading/Compartments/Axon/temp/None.off\n",
      "removed temporary output file: /notebooks/Auto_Proofreading/Compartments/Axon/temp/None_poisson.off\n",
      "Using the close holes feature\n",
      "xvfb-run -n 4204 -s \"-screen 0 800x600x24\" meshlabserver $@  -i /notebooks/Auto_Proofreading/Compartments/Axon/temp/neuron_51772.off -o /notebooks/Auto_Proofreading/Compartments/Axon/temp/neuron_51772_fill_holes.off -s /notebooks/Auto_Proofreading/Compartments/Axon/temp/fill_holes_627048.mls\n",
      "removed temporary input file: /notebooks/Auto_Proofreading/Compartments/Axon/temp/neuron_51772.off\n",
      "removed temporary output file: /notebooks/Auto_Proofreading/Compartments/Axon/temp/neuron_51772_fill_holes.off\n",
      "-----Time for Screened Poisson= 24.8528950214386\n",
      "mesh_pieces = [<trimesh.Trimesh(vertices.shape=(98332, 3), faces.shape=(196680, 3))>]\n",
      "     Starting Calcification (Changed back where stitches large poissons)\n",
      "min_edge_length = 75\n"
     ]
    },
    {
     "data": {
      "application/vnd.jupyter.widget-view+json": {
       "model_id": "789b89364ce94e899b258c8b4c688383",
       "version_major": 2,
       "version_minor": 0
      },
      "text/plain": [
       "HBox(children=(FloatProgress(value=1.0, bar_style='info', max=1.0), HTML(value='')))"
      ]
     },
     "metadata": {},
     "output_type": "display_data"
    },
    {
     "name": "stdout",
     "output_type": "stream",
     "text": [
      "\n",
      "No skeletons to stack so returning empty list\n",
      "len_subgraphs AT BEGINNING of the loop\n"
     ]
    },
    {
     "data": {
      "application/vnd.jupyter.widget-view+json": {
       "model_id": "0ee5ea2e35e047659ffa47486620a2be",
       "version_major": 2,
       "version_minor": 0
      },
      "text/plain": [
       "HBox(children=(FloatProgress(value=0.0, max=1.0), HTML(value='')))"
      ]
     },
     "metadata": {},
     "output_type": "display_data"
    },
    {
     "name": "stdout",
     "output_type": "stream",
     "text": [
      "all graph is one component!\n",
      "\n",
      "Total time for skeleton stitching = 0.1200251579284668\n",
      "The process was using a temp folder\n",
      "Checking connected components after skeletonize_connected_branch\n",
      "    Total time for skeletonizing branch: 34.02048873901367\n",
      "Checking connected components after removing cycles\n",
      "Total time for mesh KDTree = 0.6427099704742432\n",
      "sbv[0].reshape(-1,3) = [[751358.7 963102.2 868703.4]]\n",
      "closest_sk_pt_coord BEFORE = [751250. 964032. 868861.]\n",
      "current_skeleton.shape = (3248, 2, 3)\n",
      "Current stitch point was a branch or endpoint\n",
      "change_status for create soma extending pieces = False\n",
      "closest_sk_pt_coord AFTER = [751250. 964032. 868861.]\n",
      "skipping soma 0 because closest skeleton node was already end node\n",
      "endpoints_must_keep = {0: array([[751250., 964032., 868861.]])}\n",
      "    Total time for Fixing Skeleton Soma Endpoint Extension : 1.662081241607666\n",
      "filter_end_node_length = 4500\n",
      "Using Distance measure skeletal_distance\n",
      "endpoints_must_keep = [[751250. 964032. 868861.]]\n",
      "Number of end_nodes BEFORE filtering = 70\n",
      "all_single_nodes_to_eliminate = [56]\n"
     ]
    },
    {
     "data": {
      "application/vnd.jupyter.widget-view+json": {
       "model_id": "506f0cd0ea82463f8639f13ab1a463ea",
       "version_major": 2,
       "version_minor": 0
      },
      "text/plain": [
       "HBox(children=(FloatProgress(value=0.0, max=67.0), HTML(value='')))"
      ]
     },
     "metadata": {},
     "output_type": "display_data"
    },
    {
     "name": "stdout",
     "output_type": "stream",
     "text": [
      "\n",
      "Checking connected components after clean_skeleton\n",
      "after DISTANCE cleaning limb size of skeleton = (2968, 2, 3)\n",
      "********COMBINING CLOSE SKELETON NODES WITHIN 700 DISTANCE**********\n",
      "Found 0 valid paths to replace\n",
      "valid_paths = []\n",
      "valid_path_lengths = []\n",
      "No valid paths found so just returning the original\n",
      "skeletonize_and_clean_connected_branch_CGAL: 45.357866287231445\n",
      "Working on limb correspondence for #0 MAP piece\n"
     ]
    },
    {
     "data": {
      "application/vnd.jupyter.widget-view+json": {
       "model_id": "4c16b1d56b1f4519a91c97112d72bcf5",
       "version_major": 2,
       "version_minor": 0
      },
      "text/plain": [
       "HBox(children=(FloatProgress(value=1.0, bar_style='info', max=1.0), HTML(value='')))"
      ]
     },
     "metadata": {},
     "output_type": "display_data"
    },
    {
     "name": "stdout",
     "output_type": "stream",
     "text": [
      "\n",
      "Total time for decomposition = 14.948285102844238\n",
      "mesh_correspondence_first_pass: 14.948311805725098\n",
      "Limb decomposed into 7 branches\n",
      "divided_skeleton_graph_recovered = (2968, 2, 3) and \n",
      "current_mesh_data[0]['branch_skeletons_cleaned'].shape = (2968, 2, 3)\n",
      "\n",
      "Number of connected components in deocmposed recovered graph = 1\n",
      "Number of connected components in cleaned skeleton graph= 1\n",
      "The downsampled branches number of connected components = 1\n",
      "Empty submeshes = []\n",
      "\n",
      "\n",
      "--- Working on 1-to-1 correspondence-----\n",
      "max(original_labels),len(original_labels) = (6, 7)\n",
      "empty_indices % = 0.09500471798031929\n",
      " conflict_indices % = 0.016416645804848928\n"
     ]
    },
    {
     "data": {
      "application/vnd.jupyter.widget-view+json": {
       "model_id": "de44df2c061f43c487a68ebde8aa9504",
       "version_major": 2,
       "version_minor": 0
      },
      "text/plain": [
       "HBox(children=(FloatProgress(value=0.0, max=218.0), HTML(value='')))"
      ]
     },
     "metadata": {},
     "output_type": "display_data"
    },
    {
     "name": "stdout",
     "output_type": "stream",
     "text": [
      "\n",
      "AFTER face_lookup_resolved_test\n",
      "Took 0 iterations to expand the label back\n",
      "empty_indices % = 0.0\n",
      " conflict_indices % = 0.0\n"
     ]
    },
    {
     "data": {
      "application/vnd.jupyter.widget-view+json": {
       "model_id": "aa04a47f65f3434bbdf86b98b867d0de",
       "version_major": 2,
       "version_minor": 0
      },
      "text/plain": [
       "HBox(children=(FloatProgress(value=1.0, bar_style='info', max=1.0), HTML(value='')))"
      ]
     },
     "metadata": {},
     "output_type": "display_data"
    },
    {
     "name": "stdout",
     "output_type": "stream",
     "text": [
      "\n",
      "AFTER face_lookup_resolved_test\n"
     ]
    },
    {
     "data": {
      "application/vnd.jupyter.widget-view+json": {
       "model_id": "6d41ec013c694f0c956853f4faf32894",
       "version_major": 2,
       "version_minor": 0
      },
      "text/plain": [
       "HBox(children=(FloatProgress(value=0.0, max=7.0), HTML(value='')))"
      ]
     },
     "metadata": {},
     "output_type": "display_data"
    },
    {
     "name": "stdout",
     "output_type": "stream",
     "text": [
      "\n",
      "Total time for MAP sublimb #0 mesh processing = 67.83746123313904\n",
      "correspondence_1_to_1: 7.524834871292114\n",
      "Total time for MAP sublimb processing 67.83756828308105\n",
      "There were not both MAP and MP pieces so skipping the stitch resolving phase\n",
      "Time for decomp of Limb = 73.1322066783905\n",
      "Number of matching vertices = 48\n",
      "Only one endpoint after filtering away the endpoints that are not on the skeleton\n",
      "Using Distance measure skeletal_distance\n",
      "endpoints_must_keep = [array([751250., 964032., 868861.])]\n",
      "Number of end_nodes BEFORE filtering = 5\n",
      "all_single_nodes_to_eliminate = [2]\n",
      "no small end nodes to get rid of so returning whole skeleton\n",
      "Removed 0 skeletal branches\n"
     ]
    },
    {
     "data": {
      "application/vnd.jupyter.widget-view+json": {
       "model_id": "7eebf49279ef46c49b459c6c7b45e547",
       "version_major": 2,
       "version_minor": 0
      },
      "text/plain": [
       "HBox(children=(FloatProgress(value=0.0, max=7.0), HTML(value='')))"
      ]
     },
     "metadata": {},
     "output_type": "display_data"
    },
    {
     "name": "stdout",
     "output_type": "stream",
     "text": [
      "\n",
      "103857 103858\n",
      "For marked faces: None\n",
      "empty_indices % = 0.0\n",
      " conflict_indices % = 0.0\n"
     ]
    },
    {
     "data": {
      "application/vnd.jupyter.widget-view+json": {
       "model_id": "31084a8660fd46af8d21335c56065fcd",
       "version_major": 2,
       "version_minor": 0
      },
      "text/plain": [
       "HBox(children=(FloatProgress(value=1.0, bar_style='info', max=1.0), HTML(value='')))"
      ]
     },
     "metadata": {},
     "output_type": "display_data"
    },
    {
     "name": "stdout",
     "output_type": "stream",
     "text": [
      "\n",
      "AFTER face_lookup_resolved_test\n"
     ]
    },
    {
     "data": {
      "application/vnd.jupyter.widget-view+json": {
       "model_id": "411f7ed32919451ab8ba513f1731187c",
       "version_major": 2,
       "version_minor": 0
      },
      "text/plain": [
       "HBox(children=(FloatProgress(value=0.0, max=7.0), HTML(value='')))"
      ]
     },
     "metadata": {},
     "output_type": "display_data"
    },
    {
     "name": "stderr",
     "output_type": "stream",
     "text": [
      "\r",
      "  0%|          | 0/1 [00:00<?, ?it/s]"
     ]
    },
    {
     "name": "stdout",
     "output_type": "stream",
     "text": [
      "\n",
      "\n",
      "\n",
      "----- Working on Proper Limb # 6 ---------\n",
      "meshparty_segment_size = 100\n",
      "root_curr = [865936.  988245.8 860387.3]\n",
      "Time for preparing soma vertices and root: 0.00036978721618652344\n",
      "invalidation_d = 12000\n",
      "cc_vertex_thresh = 10\n"
     ]
    },
    {
     "data": {
      "application/vnd.jupyter.widget-view+json": {
       "model_id": "43c107124d394c7087594b323ace60ee",
       "version_major": 2,
       "version_minor": 0
      },
      "text/plain": [
       "HBox(children=(FloatProgress(value=0.0, max=29304.0), HTML(value='')))"
      ]
     },
     "metadata": {},
     "output_type": "display_data"
    },
    {
     "name": "stderr",
     "output_type": "stream",
     "text": [
      "100%|██████████| 1/1 [00:00<00:00,  3.47it/s]"
     ]
    },
    {
     "name": "stdout",
     "output_type": "stream",
     "text": [
      "\n"
     ]
    },
    {
     "name": "stderr",
     "output_type": "stream",
     "text": [
      "\n"
     ]
    },
    {
     "name": "stdout",
     "output_type": "stream",
     "text": [
      "meshparty_segment_size = 100\n",
      "Time for 1st pass MP skeletonization: 0.5982260704040527\n",
      "branches_touching_root = [6]\n",
      "length of Graph = 4060\n",
      "Working on path [2646. 2656. 2663.]\n",
      "path_degrees = [3, 2, 3]\n",
      "After combining close endpoints max(kept_branches_idx) = 16, len(kept_branches_idx) = 16\n",
      "empty_indices % = 0.0\n",
      " conflict_indices % = 0.01062326563271421\n"
     ]
    },
    {
     "data": {
      "application/vnd.jupyter.widget-view+json": {
       "model_id": "914541c69298494997b25e2dd305d7ed",
       "version_major": 2,
       "version_minor": 0
      },
      "text/plain": [
       "HBox(children=(FloatProgress(value=0.0, max=7.0), HTML(value='')))"
      ]
     },
     "metadata": {},
     "output_type": "display_data"
    },
    {
     "name": "stdout",
     "output_type": "stream",
     "text": [
      "\n",
      "AFTER face_lookup_resolved_test\n"
     ]
    },
    {
     "data": {
      "application/vnd.jupyter.widget-view+json": {
       "model_id": "87dfd54d5ff3426187e86639c64ffc54",
       "version_major": 2,
       "version_minor": 0
      },
      "text/plain": [
       "HBox(children=(FloatProgress(value=0.0, max=16.0), HTML(value='')))"
      ]
     },
     "metadata": {},
     "output_type": "display_data"
    },
    {
     "name": "stdout",
     "output_type": "stream",
     "text": [
      "\n",
      "Decomposing first pass: 2.886213541030884\n",
      "Attempting to use MeshAfterParty Skeletonization and Mesh Correspondence\n",
      "Another print\n",
      "Found len(mesh_large_idx) MAP candidates: [6581, 1235, 1106, 513, 1298, 4669, 4155, 15082, 4713]\n",
      "mesh_large_connectivity: 0.0594182014465332\n",
      "Finding MAP candidates connected components: 0.00014090538024902344\n",
      "len(filtered_pieces) = 1\n",
      "skeleton_connectivity_MP : 0.07900023460388184\n",
      "Grouping MP Sublimbs by Graph: 0.014856338500976562\n",
      "Divinding into MP and MAP pieces: 7.152557373046875e-07\n",
      "--- Working on MAP piece 0---\n",
      "MAP Filtering Soma Pieces: 0.0025026798248291016\n",
      "inside skeletonize_connected_branch and use_surface_after_CGAL=False, surface_reconstruction_size=1000\n",
      "The mesh passed has 2 pieces so just taking the largest one <trimesh.Trimesh(vertices.shape=(19667, 3), faces.shape=(39351, 3))>\n",
      "     Starting Screened Poisson\n",
      "xvfb-run -n 8387 -s \"-screen 0 800x600x24\" meshlabserver $@  -i /notebooks/Auto_Proofreading/Compartments/Axon/temp/None.off -o /notebooks/Auto_Proofreading/Compartments/Axon/temp/None_poisson.off -s /notebooks/Auto_Proofreading/Compartments/Axon/temp/poisson_517269.mls\n",
      "removed temporary input file: /notebooks/Auto_Proofreading/Compartments/Axon/temp/None.off\n",
      "removed temporary output file: /notebooks/Auto_Proofreading/Compartments/Axon/temp/None_poisson.off\n",
      "Using the close holes feature\n",
      "xvfb-run -n 5544 -s \"-screen 0 800x600x24\" meshlabserver $@  -i /notebooks/Auto_Proofreading/Compartments/Axon/temp/neuron_41306.off -o /notebooks/Auto_Proofreading/Compartments/Axon/temp/neuron_41306_fill_holes.off -s /notebooks/Auto_Proofreading/Compartments/Axon/temp/fill_holes_62722.mls\n",
      "removed temporary input file: /notebooks/Auto_Proofreading/Compartments/Axon/temp/neuron_41306.off\n",
      "removed temporary output file: /notebooks/Auto_Proofreading/Compartments/Axon/temp/neuron_41306_fill_holes.off\n",
      "-----Time for Screened Poisson= 14.434242963790894\n",
      "mesh_pieces = [<trimesh.Trimesh(vertices.shape=(44604, 3), faces.shape=(89212, 3))>]\n",
      "     Starting Calcification (Changed back where stitches large poissons)\n",
      "min_edge_length = 75\n"
     ]
    },
    {
     "data": {
      "application/vnd.jupyter.widget-view+json": {
       "model_id": "485353cf3cfa4a029e54c52937de10e5",
       "version_major": 2,
       "version_minor": 0
      },
      "text/plain": [
       "HBox(children=(FloatProgress(value=1.0, bar_style='info', max=1.0), HTML(value='')))"
      ]
     },
     "metadata": {},
     "output_type": "display_data"
    },
    {
     "name": "stdout",
     "output_type": "stream",
     "text": [
      "\n",
      "No skeletons to stack so returning empty list\n",
      "len_subgraphs AT BEGINNING of the loop\n"
     ]
    },
    {
     "data": {
      "application/vnd.jupyter.widget-view+json": {
       "model_id": "151858b6a747439a94daf0c1b5638f82",
       "version_major": 2,
       "version_minor": 0
      },
      "text/plain": [
       "HBox(children=(FloatProgress(value=0.0, max=1.0), HTML(value='')))"
      ]
     },
     "metadata": {},
     "output_type": "display_data"
    },
    {
     "name": "stdout",
     "output_type": "stream",
     "text": [
      "all graph is one component!\n",
      "\n",
      "Total time for skeleton stitching = 0.07440042495727539\n",
      "The process was using a temp folder\n",
      "Checking connected components after skeletonize_connected_branch\n",
      "    Total time for skeletonizing branch: 17.860941410064697\n",
      "Checking connected components after removing cycles\n",
      "Total time for mesh KDTree = 0.26218724250793457\n",
      "sbv[0].reshape(-1,3) = [[865936.  988245.8 860387.3]]\n",
      "closest_sk_pt_coord BEFORE = [865566. 987765. 860546.]\n",
      "current_skeleton.shape = (1660, 2, 3)\n",
      "Current stitch point was a branch or endpoint\n",
      "change_status for create soma extending pieces = False\n",
      "closest_sk_pt_coord AFTER = [865566. 987765. 860546.]\n",
      "skipping soma 1 because closest skeleton node was already end node\n",
      "endpoints_must_keep = {1: array([[865566., 987765., 860546.]])}\n",
      "    Total time for Fixing Skeleton Soma Endpoint Extension : 0.6987590789794922\n",
      "filter_end_node_length = 4500\n",
      "Using Distance measure skeletal_distance\n",
      "endpoints_must_keep = [[865566. 987765. 860546.]]\n",
      "Number of end_nodes BEFORE filtering = 37\n",
      "all_single_nodes_to_eliminate = [14]\n"
     ]
    },
    {
     "data": {
      "application/vnd.jupyter.widget-view+json": {
       "model_id": "5322037123d4451ea494fbeb82058137",
       "version_major": 2,
       "version_minor": 0
      },
      "text/plain": [
       "HBox(children=(FloatProgress(value=0.0, max=34.0), HTML(value='')))"
      ]
     },
     "metadata": {},
     "output_type": "display_data"
    },
    {
     "name": "stdout",
     "output_type": "stream",
     "text": [
      "\n",
      "Checking connected components after clean_skeleton\n",
      "after DISTANCE cleaning limb size of skeleton = (1537, 2, 3)\n",
      "********COMBINING CLOSE SKELETON NODES WITHIN 700 DISTANCE**********\n",
      "Found 0 valid paths to replace\n",
      "valid_paths = []\n",
      "valid_path_lengths = []\n",
      "No valid paths found so just returning the original\n",
      "skeletonize_and_clean_connected_branch_CGAL: 22.60941171646118\n",
      "Working on limb correspondence for #0 MAP piece\n"
     ]
    },
    {
     "data": {
      "application/vnd.jupyter.widget-view+json": {
       "model_id": "9384f7ea8a654562a562430cfaf6f694",
       "version_major": 2,
       "version_minor": 0
      },
      "text/plain": [
       "HBox(children=(FloatProgress(value=1.0, bar_style='info', max=1.0), HTML(value='')))"
      ]
     },
     "metadata": {},
     "output_type": "display_data"
    },
    {
     "name": "stdout",
     "output_type": "stream",
     "text": [
      "\n",
      "Total time for decomposition = 5.363695383071899\n",
      "mesh_correspondence_first_pass: 5.363728046417236\n",
      "Limb decomposed into 7 branches\n",
      "divided_skeleton_graph_recovered = (1537, 2, 3) and \n",
      "current_mesh_data[0]['branch_skeletons_cleaned'].shape = (1537, 2, 3)\n",
      "\n",
      "Number of connected components in deocmposed recovered graph = 1\n",
      "Number of connected components in cleaned skeleton graph= 1\n",
      "The downsampled branches number of connected components = 1\n",
      "Empty submeshes = []\n",
      "\n",
      "\n",
      "--- Working on 1-to-1 correspondence-----\n",
      "max(original_labels),len(original_labels) = (6, 7)\n",
      "empty_indices % = 0.13770583451921123\n",
      " conflict_indices % = 0.019312868469201057\n"
     ]
    },
    {
     "data": {
      "application/vnd.jupyter.widget-view+json": {
       "model_id": "c39a9de1cc62493bbbcfa32faa42a71b",
       "version_major": 2,
       "version_minor": 0
      },
      "text/plain": [
       "HBox(children=(FloatProgress(value=0.0, max=131.0), HTML(value='')))"
      ]
     },
     "metadata": {},
     "output_type": "display_data"
    },
    {
     "name": "stdout",
     "output_type": "stream",
     "text": [
      "\n",
      "AFTER face_lookup_resolved_test\n",
      "Took 0 iterations to expand the label back\n",
      "empty_indices % = 0.0\n",
      " conflict_indices % = 0.0\n"
     ]
    },
    {
     "data": {
      "application/vnd.jupyter.widget-view+json": {
       "model_id": "2953a8fa1f9741bc8593f7cf87677737",
       "version_major": 2,
       "version_minor": 0
      },
      "text/plain": [
       "HBox(children=(FloatProgress(value=1.0, bar_style='info', max=1.0), HTML(value='')))"
      ]
     },
     "metadata": {},
     "output_type": "display_data"
    },
    {
     "name": "stdout",
     "output_type": "stream",
     "text": [
      "\n",
      "AFTER face_lookup_resolved_test\n"
     ]
    },
    {
     "data": {
      "application/vnd.jupyter.widget-view+json": {
       "model_id": "cbb78e73693d42d9839484972dfd1a30",
       "version_major": 2,
       "version_minor": 0
      },
      "text/plain": [
       "HBox(children=(FloatProgress(value=0.0, max=7.0), HTML(value='')))"
      ]
     },
     "metadata": {},
     "output_type": "display_data"
    },
    {
     "name": "stdout",
     "output_type": "stream",
     "text": [
      "\n",
      "Total time for MAP sublimb #0 mesh processing = 31.63544797897339\n",
      "correspondence_1_to_1: 3.659731388092041\n",
      "Total time for MAP sublimb processing 31.63555383682251\n",
      "---- Working on MP Decomposition #0 ----\n",
      "Computing the current soma touching verts dict manually\n",
      "MP filtering soma verts: 0.006437778472900391\n",
      "Do Not Need to Fix MP Decomposition 0 so just continuing\n",
      "---- Working on MP Decomposition #1 ----\n",
      "Computing the current soma touching verts dict manually\n",
      "MP filtering soma verts: 0.0018439292907714844\n",
      "Do Not Need to Fix MP Decomposition 1 so just continuing\n",
      "---- Working on MP Decomposition #2 ----\n",
      "Computing the current soma touching verts dict manually\n",
      "MP filtering soma verts: 0.0020170211791992188\n",
      "Do Not Need to Fix MP Decomposition 2 so just continuing\n",
      "Successful mesh connectivity with type edges\n",
      "\n",
      "---- Working on (0, 0) connection-----\n",
      "Current stitch point was not a branch or endpoint, shortest_path_length to one = 24036.427440032643\n",
      "sk_conn = [0]\n",
      "conn = [0]\n",
      "winning_vertex = [860766.19553595 942207.60606438 847628.26612071]\n",
      "MP_branches_with_stitch_point = [0]\n",
      "MAP_branches_with_stitch_point = [1]\n",
      "MAP_stitch_point_on_end_or_branch = False\n",
      "Using max stitch distance (300) for smoothing because stitch_distance greater (395.52521171480385) \n",
      "Found winning edge: [246, 247.0]\n",
      "in remove edge\n"
     ]
    },
    {
     "data": {
      "application/vnd.jupyter.widget-view+json": {
       "model_id": "84eaf7c2db8a45b0bc76acae621a5faf",
       "version_major": 2,
       "version_minor": 0
      },
      "text/plain": [
       "HBox(children=(FloatProgress(value=1.0, bar_style='info', max=1.0), HTML(value='')))"
      ]
     },
     "metadata": {},
     "output_type": "display_data"
    },
    {
     "name": "stdout",
     "output_type": "stream",
     "text": [
      "\n",
      "\n",
      "\n",
      "--- Working on 1-to-1 correspondence-----\n",
      "max(original_labels),len(original_labels) = (1, 2)\n",
      "empty_indices % = 0.1674087266251113\n",
      " conflict_indices % = 0.0017809439002671415\n"
     ]
    },
    {
     "data": {
      "application/vnd.jupyter.widget-view+json": {
       "model_id": "f2cfb27f382141fabd001a8c0cc4c225",
       "version_major": 2,
       "version_minor": 0
      },
      "text/plain": [
       "HBox(children=(FloatProgress(value=0.0, max=46.0), HTML(value='')))"
      ]
     },
     "metadata": {},
     "output_type": "display_data"
    },
    {
     "name": "stdout",
     "output_type": "stream",
     "text": [
      "\n",
      "AFTER face_lookup_resolved_test\n"
     ]
    },
    {
     "data": {
      "application/vnd.jupyter.widget-view+json": {
       "model_id": "7f1e1a825bac42e98ce30e22094a59a0",
       "version_major": 2,
       "version_minor": 0
      },
      "text/plain": [
       "HBox(children=(FloatProgress(value=0.0, max=2.0), HTML(value='')))"
      ]
     },
     "metadata": {},
     "output_type": "display_data"
    },
    {
     "name": "stdout",
     "output_type": "stream",
     "text": [
      "\n"
     ]
    },
    {
     "data": {
      "application/vnd.jupyter.widget-view+json": {
       "model_id": "2cbd472755b44d6e8d01805abbd67859",
       "version_major": 2,
       "version_minor": 0
      },
      "text/plain": [
       "HBox(children=(FloatProgress(value=1.0, bar_style='info', max=1.0), HTML(value='')))"
      ]
     },
     "metadata": {},
     "output_type": "display_data"
    },
    {
     "name": "stdout",
     "output_type": "stream",
     "text": [
      "\n",
      "\n",
      "\n",
      "--- Working on 1-to-1 correspondence-----\n",
      "max(original_labels),len(original_labels) = (2, 3)\n",
      "empty_indices % = 0.16902274124154887\n",
      " conflict_indices % = 0.012770607116028137\n"
     ]
    },
    {
     "data": {
      "application/vnd.jupyter.widget-view+json": {
       "model_id": "92781fda24cc43d2ad7d930676d8a661",
       "version_major": 2,
       "version_minor": 0
      },
      "text/plain": [
       "HBox(children=(FloatProgress(value=0.0, max=16.0), HTML(value='')))"
      ]
     },
     "metadata": {},
     "output_type": "display_data"
    },
    {
     "name": "stdout",
     "output_type": "stream",
     "text": [
      "\n",
      "AFTER face_lookup_resolved_test\n"
     ]
    },
    {
     "data": {
      "application/vnd.jupyter.widget-view+json": {
       "model_id": "dae19d94d5f94d60a3f0f4e34034860d",
       "version_major": 2,
       "version_minor": 0
      },
      "text/plain": [
       "HBox(children=(FloatProgress(value=0.0, max=3.0), HTML(value='')))"
      ]
     },
     "metadata": {},
     "output_type": "display_data"
    },
    {
     "name": "stdout",
     "output_type": "stream",
     "text": [
      "\n",
      "Deleting branches from dictionary\n",
      "MP_branches_with_stitch_point= [0]\n",
      "MP_branches_for_correspondence = [0]\n",
      "MP_leftover = [], MP_leftover_idx = []\n",
      " Finished with (0, 0) \n",
      "\n",
      "\n",
      "\n",
      "\n",
      "---- Working on (1, 0) connection-----\n",
      "Current stitch point was not a branch or endpoint, shortest_path_length to one = 3100.9402636425834\n",
      "sk_conn = [0, 1]\n",
      "conn = [0, 1]\n",
      "winning_vertex = [865980.37749739 982524.46675892 862381.81276001]\n",
      "MP_branches_with_stitch_point = [0, 1]\n",
      "MAP_branches_with_stitch_point = [3]\n",
      "MAP_stitch_point_on_end_or_branch = False\n",
      "Using max stitch distance (300) for smoothing because stitch_distance greater (598.2105911417748) \n",
      "Found winning edge: [83, 84.0]\n",
      "in remove edge\n",
      "Using max stitch distance (300) for smoothing because stitch_distance greater (613.8484181918041) \n",
      "Found winning edge: [9, 10.0]\n",
      "in remove edge\n"
     ]
    },
    {
     "data": {
      "application/vnd.jupyter.widget-view+json": {
       "model_id": "658926edb1b442fab275288b894054d4",
       "version_major": 2,
       "version_minor": 0
      },
      "text/plain": [
       "HBox(children=(FloatProgress(value=1.0, bar_style='info', max=1.0), HTML(value='')))"
      ]
     },
     "metadata": {},
     "output_type": "display_data"
    },
    {
     "name": "stdout",
     "output_type": "stream",
     "text": [
      "\n",
      "\n",
      "\n",
      "--- Working on 1-to-1 correspondence-----\n",
      "max(original_labels),len(original_labels) = (1, 2)\n",
      "empty_indices % = 0.056584362139917695\n",
      " conflict_indices % = 0.022119341563786008\n"
     ]
    },
    {
     "data": {
      "application/vnd.jupyter.widget-view+json": {
       "model_id": "db7f87954a7841bea598a556afa2ac33",
       "version_major": 2,
       "version_minor": 0
      },
      "text/plain": [
       "HBox(children=(FloatProgress(value=0.0, max=5.0), HTML(value='')))"
      ]
     },
     "metadata": {},
     "output_type": "display_data"
    },
    {
     "name": "stdout",
     "output_type": "stream",
     "text": [
      "\n",
      "AFTER face_lookup_resolved_test\n"
     ]
    },
    {
     "data": {
      "application/vnd.jupyter.widget-view+json": {
       "model_id": "d024885a37694416b4b9e172bc146e95",
       "version_major": 2,
       "version_minor": 0
      },
      "text/plain": [
       "HBox(children=(FloatProgress(value=0.0, max=2.0), HTML(value='')))"
      ]
     },
     "metadata": {},
     "output_type": "display_data"
    },
    {
     "name": "stdout",
     "output_type": "stream",
     "text": [
      "\n"
     ]
    },
    {
     "data": {
      "application/vnd.jupyter.widget-view+json": {
       "model_id": "fd1734102aff4ff0b9362e290951a36c",
       "version_major": 2,
       "version_minor": 0
      },
      "text/plain": [
       "HBox(children=(FloatProgress(value=1.0, bar_style='info', max=1.0), HTML(value='')))"
      ]
     },
     "metadata": {},
     "output_type": "display_data"
    },
    {
     "name": "stdout",
     "output_type": "stream",
     "text": [
      "\n",
      "\n",
      "\n",
      "--- Working on 1-to-1 correspondence-----\n",
      "max(original_labels),len(original_labels) = (3, 4)\n",
      "empty_indices % = 0.16405797101449276\n",
      " conflict_indices % = 0.012463768115942029\n"
     ]
    },
    {
     "data": {
      "application/vnd.jupyter.widget-view+json": {
       "model_id": "48c71205da36423a8d7fb7faae5ac651",
       "version_major": 2,
       "version_minor": 0
      },
      "text/plain": [
       "HBox(children=(FloatProgress(value=0.0, max=13.0), HTML(value='')))"
      ]
     },
     "metadata": {},
     "output_type": "display_data"
    },
    {
     "name": "stdout",
     "output_type": "stream",
     "text": [
      "\n",
      "AFTER face_lookup_resolved_test\n"
     ]
    },
    {
     "data": {
      "application/vnd.jupyter.widget-view+json": {
       "model_id": "6857b78dc118433ab3391acd2c9686a1",
       "version_major": 2,
       "version_minor": 0
      },
      "text/plain": [
       "HBox(children=(FloatProgress(value=0.0, max=4.0), HTML(value='')))"
      ]
     },
     "metadata": {},
     "output_type": "display_data"
    },
    {
     "name": "stdout",
     "output_type": "stream",
     "text": [
      "\n",
      "Deleting branches from dictionary\n",
      "MP_branches_with_stitch_point= [0, 1]\n",
      "MP_branches_for_correspondence = [0 1]\n",
      "MP_leftover = [], MP_leftover_idx = []\n",
      " Finished with (1, 0) \n",
      "\n",
      "\n",
      "\n",
      "\n",
      "---- Working on (2, 0) connection-----\n",
      "Current stitch point was a branch or endpoint\n",
      "sk_conn = [1, 2]\n",
      "conn = [1, 2]\n",
      "winning_vertex = [858090.31646612 920161.71004124 845912.25581579]\n",
      "MP_branches_with_stitch_point = [1, 2]\n",
      "MAP_branches_with_stitch_point = [1]\n",
      "MAP_stitch_point_on_end_or_branch = True\n",
      "Using max stitch distance (300) for smoothing because stitch_distance greater (736.7022873512983) \n",
      "Found winning edge: [60, 63.0]\n",
      "in remove edge\n",
      "Using max stitch distance (300) for smoothing because stitch_distance greater (723.7586666890202) \n",
      "Found winning edge: [368, 369.0]\n",
      "in remove edge\n"
     ]
    },
    {
     "data": {
      "application/vnd.jupyter.widget-view+json": {
       "model_id": "79def798388540a291fa472025a162e6",
       "version_major": 2,
       "version_minor": 0
      },
      "text/plain": [
       "HBox(children=(FloatProgress(value=1.0, bar_style='info', max=1.0), HTML(value='')))"
      ]
     },
     "metadata": {},
     "output_type": "display_data"
    },
    {
     "name": "stdout",
     "output_type": "stream",
     "text": [
      "\n",
      "\n",
      "\n",
      "--- Working on 1-to-1 correspondence-----\n",
      "max(original_labels),len(original_labels) = (2, 3)\n",
      "empty_indices % = 0.2536009445100354\n",
      " conflict_indices % = 0.0036599763872491144\n"
     ]
    },
    {
     "data": {
      "application/vnd.jupyter.widget-view+json": {
       "model_id": "1f540d2f31e042ba886354c51a4b2089",
       "version_major": 2,
       "version_minor": 0
      },
      "text/plain": [
       "HBox(children=(FloatProgress(value=0.0, max=13.0), HTML(value='')))"
      ]
     },
     "metadata": {},
     "output_type": "display_data"
    },
    {
     "name": "stdout",
     "output_type": "stream",
     "text": [
      "\n",
      "AFTER face_lookup_resolved_test\n"
     ]
    },
    {
     "data": {
      "application/vnd.jupyter.widget-view+json": {
       "model_id": "beaca9322d024e1cb7708e76d9057d40",
       "version_major": 2,
       "version_minor": 0
      },
      "text/plain": [
       "HBox(children=(FloatProgress(value=0.0, max=3.0), HTML(value='')))"
      ]
     },
     "metadata": {},
     "output_type": "display_data"
    },
    {
     "name": "stdout",
     "output_type": "stream",
     "text": [
      "\n",
      "MP_branches_with_stitch_point= [1, 2]\n",
      "MP_branches_for_correspondence = [1 2]\n",
      "MP_leftover = [], MP_leftover_idx = []\n",
      " Finished with (2, 0) \n",
      "\n",
      "\n",
      "\n",
      "Time for decomp of Limb = 43.07847595214844\n",
      "Number of matching vertices = 29\n",
      "Only one endpoint after filtering away the endpoints that are not on the skeleton\n",
      "Using Distance measure skeletal_distance\n",
      "endpoints_must_keep = [array([865566., 987765., 860546.])]\n",
      "Number of end_nodes BEFORE filtering = 10\n",
      "all_single_nodes_to_eliminate = [5]\n",
      "no small end nodes to get rid of so returning whole skeleton\n",
      "Removed 0 skeletal branches\n"
     ]
    },
    {
     "data": {
      "application/vnd.jupyter.widget-view+json": {
       "model_id": "61e4d3d30f7a497781c3bbb48acfa152",
       "version_major": 2,
       "version_minor": 0
      },
      "text/plain": [
       "HBox(children=(FloatProgress(value=0.0, max=16.0), HTML(value='')))"
      ]
     },
     "metadata": {},
     "output_type": "display_data"
    },
    {
     "name": "stdout",
     "output_type": "stream",
     "text": [
      "\n",
      "58738 58739\n",
      "For marked faces: None\n",
      "empty_indices % = 0.0\n",
      " conflict_indices % = 0.0\n"
     ]
    },
    {
     "data": {
      "application/vnd.jupyter.widget-view+json": {
       "model_id": "4ba2e54d36cd4341b90a6288337aada8",
       "version_major": 2,
       "version_minor": 0
      },
      "text/plain": [
       "HBox(children=(FloatProgress(value=1.0, bar_style='info', max=1.0), HTML(value='')))"
      ]
     },
     "metadata": {},
     "output_type": "display_data"
    },
    {
     "name": "stdout",
     "output_type": "stream",
     "text": [
      "\n",
      "AFTER face_lookup_resolved_test\n"
     ]
    },
    {
     "data": {
      "application/vnd.jupyter.widget-view+json": {
       "model_id": "71ba8f29d6f141c0a047749bfa25c477",
       "version_major": 2,
       "version_minor": 0
      },
      "text/plain": [
       "HBox(children=(FloatProgress(value=0.0, max=16.0), HTML(value='')))"
      ]
     },
     "metadata": {},
     "output_type": "display_data"
    },
    {
     "name": "stderr",
     "output_type": "stream",
     "text": [
      "\r",
      "  0%|          | 0/1 [00:00<?, ?it/s]"
     ]
    },
    {
     "name": "stdout",
     "output_type": "stream",
     "text": [
      "\n",
      "\n",
      "\n",
      "----- Working on Proper Limb # 7 ---------\n",
      "meshparty_segment_size = 100\n",
      "root_curr = [867462.7 993447.4 851209.5]\n",
      "Time for preparing soma vertices and root: 0.0003554821014404297\n",
      "invalidation_d = 12000\n",
      "cc_vertex_thresh = 10\n"
     ]
    },
    {
     "data": {
      "application/vnd.jupyter.widget-view+json": {
       "model_id": "1cd1bc21eed647e1ba8ea1df0c115535",
       "version_major": 2,
       "version_minor": 0
      },
      "text/plain": [
       "HBox(children=(FloatProgress(value=0.0, max=29132.0), HTML(value='')))"
      ]
     },
     "metadata": {},
     "output_type": "display_data"
    },
    {
     "name": "stderr",
     "output_type": "stream",
     "text": [
      "100%|██████████| 1/1 [00:00<00:00,  3.58it/s]"
     ]
    },
    {
     "name": "stdout",
     "output_type": "stream",
     "text": [
      "\n"
     ]
    },
    {
     "name": "stderr",
     "output_type": "stream",
     "text": [
      "\n"
     ]
    },
    {
     "name": "stdout",
     "output_type": "stream",
     "text": [
      "meshparty_segment_size = 100\n",
      "Time for 1st pass MP skeletonization: 0.5986907482147217\n",
      "branches_touching_root = [3]\n",
      "length of Graph = 4120\n",
      "After combining close endpoints max(kept_branches_idx) = 18, len(kept_branches_idx) = 19\n",
      "empty_indices % = 0.0\n",
      " conflict_indices % = 0.010767942297502863\n"
     ]
    },
    {
     "data": {
      "application/vnd.jupyter.widget-view+json": {
       "model_id": "4779c7c9873649178e3be38a4ddecb77",
       "version_major": 2,
       "version_minor": 0
      },
      "text/plain": [
       "HBox(children=(FloatProgress(value=0.0, max=7.0), HTML(value='')))"
      ]
     },
     "metadata": {},
     "output_type": "display_data"
    },
    {
     "name": "stdout",
     "output_type": "stream",
     "text": [
      "\n",
      "AFTER face_lookup_resolved_test\n"
     ]
    },
    {
     "data": {
      "application/vnd.jupyter.widget-view+json": {
       "model_id": "200386fc08ba4d77976cda3116b9a406",
       "version_major": 2,
       "version_minor": 0
      },
      "text/plain": [
       "HBox(children=(FloatProgress(value=0.0, max=19.0), HTML(value='')))"
      ]
     },
     "metadata": {},
     "output_type": "display_data"
    },
    {
     "name": "stdout",
     "output_type": "stream",
     "text": [
      "\n",
      "Decomposing first pass: 2.8428640365600586\n",
      "Attempting to use MeshAfterParty Skeletonization and Mesh Correspondence\n",
      "Another print\n",
      "Found len(mesh_large_idx) MAP candidates: [2368, 3208, 91, 781, 7169, 4820]\n",
      "mesh_large_connectivity: 0.017902612686157227\n",
      "Finding MAP candidates connected components: 0.0001266002655029297\n",
      "len(filtered_pieces) = 2\n",
      "skeleton_connectivity_MP : 0.12368249893188477\n",
      "Grouping MP Sublimbs by Graph: 0.02522420883178711\n",
      "Divinding into MP and MAP pieces: 9.5367431640625e-07\n",
      "--- Working on MAP piece 0---\n",
      "MAP Filtering Soma Pieces: 0.0009753704071044922\n",
      "inside skeletonize_connected_branch and use_surface_after_CGAL=False, surface_reconstruction_size=1000\n",
      "     Starting Screened Poisson\n",
      "xvfb-run -n 5620 -s \"-screen 0 800x600x24\" meshlabserver $@  -i /notebooks/Auto_Proofreading/Compartments/Axon/temp/None.off -o /notebooks/Auto_Proofreading/Compartments/Axon/temp/None_poisson.off -s /notebooks/Auto_Proofreading/Compartments/Axon/temp/poisson_94325.mls\n",
      "removed temporary input file: /notebooks/Auto_Proofreading/Compartments/Axon/temp/None.off\n",
      "removed temporary output file: /notebooks/Auto_Proofreading/Compartments/Axon/temp/None_poisson.off\n",
      "Using the close holes feature\n",
      "xvfb-run -n 6890 -s \"-screen 0 800x600x24\" meshlabserver $@  -i /notebooks/Auto_Proofreading/Compartments/Axon/temp/neuron_32977.off -o /notebooks/Auto_Proofreading/Compartments/Axon/temp/neuron_32977_fill_holes.off -s /notebooks/Auto_Proofreading/Compartments/Axon/temp/fill_holes_33541.mls\n",
      "removed temporary input file: /notebooks/Auto_Proofreading/Compartments/Axon/temp/neuron_32977.off\n",
      "removed temporary output file: /notebooks/Auto_Proofreading/Compartments/Axon/temp/neuron_32977_fill_holes.off\n",
      "-----Time for Screened Poisson= 9.476356029510498\n",
      "mesh_pieces = [<trimesh.Trimesh(vertices.shape=(17680, 3), faces.shape=(35356, 3))>]\n",
      "     Starting Calcification (Changed back where stitches large poissons)\n",
      "min_edge_length = 75\n"
     ]
    },
    {
     "data": {
      "application/vnd.jupyter.widget-view+json": {
       "model_id": "34ff5d6f0bc649a2a92df4581913bbfe",
       "version_major": 2,
       "version_minor": 0
      },
      "text/plain": [
       "HBox(children=(FloatProgress(value=1.0, bar_style='info', max=1.0), HTML(value='')))"
      ]
     },
     "metadata": {},
     "output_type": "display_data"
    },
    {
     "name": "stdout",
     "output_type": "stream",
     "text": [
      "\n",
      "No skeletons to stack so returning empty list\n",
      "len_subgraphs AT BEGINNING of the loop\n"
     ]
    },
    {
     "data": {
      "application/vnd.jupyter.widget-view+json": {
       "model_id": "08add846501a4b5691c41710e8715d0c",
       "version_major": 2,
       "version_minor": 0
      },
      "text/plain": [
       "HBox(children=(FloatProgress(value=0.0, max=1.0), HTML(value='')))"
      ]
     },
     "metadata": {},
     "output_type": "display_data"
    },
    {
     "name": "stdout",
     "output_type": "stream",
     "text": [
      "all graph is one component!\n",
      "\n",
      "Total time for skeleton stitching = 0.046459197998046875\n",
      "The process was using a temp folder\n",
      "Checking connected components after skeletonize_connected_branch\n",
      "    Total time for skeletonizing branch: 10.717310667037964\n",
      "Checking connected components after removing cycles\n",
      "Total time for mesh KDTree = 0.11028885841369629\n",
      "sbv[0].reshape(-1,3) = [[867462.7 993447.4 851209.5]]\n",
      "closest_sk_pt_coord BEFORE = [867581. 993877. 850679.]\n",
      "current_skeleton.shape = (596, 2, 3)\n",
      "Current stitch point was a branch or endpoint\n",
      "change_status for create soma extending pieces = False\n",
      "closest_sk_pt_coord AFTER = [867581. 993877. 850679.]\n",
      "skipping soma 1 because closest skeleton node was already end node\n",
      "endpoints_must_keep = {1: array([[867581., 993877., 850679.]])}\n",
      "    Total time for Fixing Skeleton Soma Endpoint Extension : 0.24841094017028809\n",
      "filter_end_node_length = 4500\n",
      "Using Distance measure skeletal_distance\n",
      "endpoints_must_keep = [[867581. 993877. 850679.]]\n",
      "Number of end_nodes BEFORE filtering = 13\n",
      "all_single_nodes_to_eliminate = [2]\n"
     ]
    },
    {
     "data": {
      "application/vnd.jupyter.widget-view+json": {
       "model_id": "6f238d988771422c9097019dff37bbae",
       "version_major": 2,
       "version_minor": 0
      },
      "text/plain": [
       "HBox(children=(FloatProgress(value=0.0, max=10.0), HTML(value='')))"
      ]
     },
     "metadata": {},
     "output_type": "display_data"
    },
    {
     "name": "stdout",
     "output_type": "stream",
     "text": [
      "\n",
      "Checking connected components after clean_skeleton\n",
      "after DISTANCE cleaning limb size of skeleton = (552, 2, 3)\n",
      "********COMBINING CLOSE SKELETON NODES WITHIN 700 DISTANCE**********\n",
      "Found 0 valid paths to replace\n",
      "valid_paths = []\n",
      "valid_path_lengths = []\n",
      "No valid paths found so just returning the original\n",
      "skeletonize_and_clean_connected_branch_CGAL: 11.763465881347656\n",
      "Working on limb correspondence for #0 MAP piece\n"
     ]
    },
    {
     "data": {
      "application/vnd.jupyter.widget-view+json": {
       "model_id": "8ff38521b18148769255a194a28343f2",
       "version_major": 2,
       "version_minor": 0
      },
      "text/plain": [
       "HBox(children=(FloatProgress(value=1.0, bar_style='info', max=1.0), HTML(value='')))"
      ]
     },
     "metadata": {},
     "output_type": "display_data"
    },
    {
     "name": "stdout",
     "output_type": "stream",
     "text": [
      "\n",
      "Total time for decomposition = 1.2919397354125977\n",
      "mesh_correspondence_first_pass: 1.2919654846191406\n",
      "Limb decomposed into 3 branches\n",
      "divided_skeleton_graph_recovered = (552, 2, 3) and \n",
      "current_mesh_data[0]['branch_skeletons_cleaned'].shape = (552, 2, 3)\n",
      "\n",
      "Number of connected components in deocmposed recovered graph = 1\n",
      "Number of connected components in cleaned skeleton graph= 1\n",
      "The downsampled branches number of connected components = 1\n",
      "Empty submeshes = []\n",
      "\n",
      "\n",
      "--- Working on 1-to-1 correspondence-----\n",
      "max(original_labels),len(original_labels) = (2, 3)\n",
      "empty_indices % = 0.08834836610971462\n",
      " conflict_indices % = 0.02277095963329883\n"
     ]
    },
    {
     "data": {
      "application/vnd.jupyter.widget-view+json": {
       "model_id": "fd4cb0c01bba47dd8f55d97c2453ebb2",
       "version_major": 2,
       "version_minor": 0
      },
      "text/plain": [
       "HBox(children=(FloatProgress(value=0.0, max=32.0), HTML(value='')))"
      ]
     },
     "metadata": {},
     "output_type": "display_data"
    },
    {
     "name": "stdout",
     "output_type": "stream",
     "text": [
      "\n",
      "AFTER face_lookup_resolved_test\n",
      "Took 0 iterations to expand the label back\n",
      "empty_indices % = 0.0\n",
      " conflict_indices % = 0.0\n"
     ]
    },
    {
     "data": {
      "application/vnd.jupyter.widget-view+json": {
       "model_id": "06ce081e0b25469b8d060e274022a22b",
       "version_major": 2,
       "version_minor": 0
      },
      "text/plain": [
       "HBox(children=(FloatProgress(value=1.0, bar_style='info', max=1.0), HTML(value='')))"
      ]
     },
     "metadata": {},
     "output_type": "display_data"
    },
    {
     "name": "stdout",
     "output_type": "stream",
     "text": [
      "\n",
      "AFTER face_lookup_resolved_test\n"
     ]
    },
    {
     "data": {
      "application/vnd.jupyter.widget-view+json": {
       "model_id": "af304214e3654b998701bfbd62c45064",
       "version_major": 2,
       "version_minor": 0
      },
      "text/plain": [
       "HBox(children=(FloatProgress(value=0.0, max=3.0), HTML(value='')))"
      ]
     },
     "metadata": {},
     "output_type": "display_data"
    },
    {
     "name": "stdout",
     "output_type": "stream",
     "text": [
      "\n",
      "Total time for MAP sublimb #0 mesh processing = 13.956045627593994\n",
      "correspondence_1_to_1: 0.899571418762207\n",
      "--- Working on MAP piece 1---\n",
      "MAP Filtering Soma Pieces: 0.002790212631225586\n",
      "inside skeletonize_connected_branch and use_surface_after_CGAL=False, surface_reconstruction_size=1000\n",
      "The mesh passed has 5 pieces so just taking the largest one <trimesh.Trimesh(vertices.shape=(2473, 3), faces.shape=(4907, 3))>\n",
      "     Starting Screened Poisson\n",
      "xvfb-run -n 3550 -s \"-screen 0 800x600x24\" meshlabserver $@  -i /notebooks/Auto_Proofreading/Compartments/Axon/temp/None.off -o /notebooks/Auto_Proofreading/Compartments/Axon/temp/None_poisson.off -s /notebooks/Auto_Proofreading/Compartments/Axon/temp/poisson_891397.mls\n",
      "removed temporary input file: /notebooks/Auto_Proofreading/Compartments/Axon/temp/None.off\n",
      "removed temporary output file: /notebooks/Auto_Proofreading/Compartments/Axon/temp/None_poisson.off\n",
      "Using the close holes feature\n",
      "xvfb-run -n 2135 -s \"-screen 0 800x600x24\" meshlabserver $@  -i /notebooks/Auto_Proofreading/Compartments/Axon/temp/neuron_82961.off -o /notebooks/Auto_Proofreading/Compartments/Axon/temp/neuron_82961_fill_holes.off -s /notebooks/Auto_Proofreading/Compartments/Axon/temp/fill_holes_32894.mls\n",
      "removed temporary input file: /notebooks/Auto_Proofreading/Compartments/Axon/temp/neuron_82961.off\n",
      "removed temporary output file: /notebooks/Auto_Proofreading/Compartments/Axon/temp/neuron_82961_fill_holes.off\n",
      "-----Time for Screened Poisson= 7.598123550415039\n",
      "mesh_pieces = [<trimesh.Trimesh(vertices.shape=(6287, 3), faces.shape=(12574, 3))>]\n",
      "     Starting Calcification (Changed back where stitches large poissons)\n",
      "min_edge_length = 75\n",
      "node_degrees = [3 2 2 2 2 2 2 2 2 2 3 2 2 2 2 2 2 2 2]\n"
     ]
    },
    {
     "data": {
      "application/vnd.jupyter.widget-view+json": {
       "model_id": "730f119c65694deb94fee4bc781f0b70",
       "version_major": 2,
       "version_minor": 0
      },
      "text/plain": [
       "HBox(children=(FloatProgress(value=1.0, bar_style='info', max=1.0), HTML(value='')))"
      ]
     },
     "metadata": {},
     "output_type": "display_data"
    },
    {
     "name": "stdout",
     "output_type": "stream",
     "text": [
      "\n",
      "No skeletons to stack so returning empty list\n",
      "len_subgraphs AT BEGINNING of the loop\n"
     ]
    },
    {
     "data": {
      "application/vnd.jupyter.widget-view+json": {
       "model_id": "06dd4cba52f0489794b08665a85a010a",
       "version_major": 2,
       "version_minor": 0
      },
      "text/plain": [
       "HBox(children=(FloatProgress(value=0.0, max=1.0), HTML(value='')))"
      ]
     },
     "metadata": {},
     "output_type": "display_data"
    },
    {
     "name": "stdout",
     "output_type": "stream",
     "text": [
      "all graph is one component!\n",
      "\n",
      "Total time for skeleton stitching = 0.030855417251586914\n",
      "The process was using a temp folder\n",
      "Checking connected components after skeletonize_connected_branch\n",
      "    Total time for skeletonizing branch: 8.077874422073364\n",
      "Checking connected components after removing cycles\n",
      "    Total time for Fixing Skeleton Soma Endpoint Extension : 0.01069784164428711\n",
      "filter_end_node_length = 4500\n",
      "Using Distance measure skeletal_distance\n"
     ]
    },
    {
     "data": {
      "application/vnd.jupyter.widget-view+json": {
       "model_id": "9f86b9babb024e2594572c9a935ef5c6",
       "version_major": 2,
       "version_minor": 0
      },
      "text/plain": [
       "HBox(children=(FloatProgress(value=0.0, max=1.0), HTML(value='')))"
      ]
     },
     "metadata": {},
     "output_type": "display_data"
    },
    {
     "name": "stdout",
     "output_type": "stream",
     "text": [
      "\n",
      "Checking connected components after clean_skeleton\n",
      "after DISTANCE cleaning limb size of skeleton = (252, 2, 3)\n",
      "********COMBINING CLOSE SKELETON NODES WITHIN 700 DISTANCE**********\n",
      "Found 0 valid paths to replace\n",
      "valid_paths = []\n",
      "valid_path_lengths = []\n",
      "No valid paths found so just returning the original\n",
      "Inside MAP decomposition and curr_limb_endpoints_must_keep was None\n",
      "skeletonize_and_clean_connected_branch_CGAL: 8.422614097595215\n",
      "Working on limb correspondence for #1 MAP piece\n"
     ]
    },
    {
     "data": {
      "application/vnd.jupyter.widget-view+json": {
       "model_id": "55204e821f544216a18a990b91d1f2fa",
       "version_major": 2,
       "version_minor": 0
      },
      "text/plain": [
       "HBox(children=(FloatProgress(value=1.0, bar_style='info', max=1.0), HTML(value='')))"
      ]
     },
     "metadata": {},
     "output_type": "display_data"
    },
    {
     "name": "stdout",
     "output_type": "stream",
     "text": [
      "\n",
      "Total time for decomposition = 0.5011246204376221\n",
      "mesh_correspondence_first_pass: 0.5011560916900635\n",
      "Limb decomposed into 1 branches\n",
      "divided_skeleton_graph_recovered = (252, 2, 3) and \n",
      "current_mesh_data[0]['branch_skeletons_cleaned'].shape = (252, 2, 3)\n",
      "\n",
      "Number of connected components in deocmposed recovered graph = 1\n",
      "Number of connected components in cleaned skeleton graph= 1\n",
      "The downsampled branches number of connected components = 1\n",
      "Empty submeshes = []\n",
      "\n",
      "\n",
      "--- Working on 1-to-1 correspondence-----\n",
      "max(original_labels),len(original_labels) = (0, 1)\n",
      "empty_indices % = 0.18468743636733861\n",
      " conflict_indices % = 0.0\n"
     ]
    },
    {
     "data": {
      "application/vnd.jupyter.widget-view+json": {
       "model_id": "63be101bd49944ab858e1e52b0c428dd",
       "version_major": 2,
       "version_minor": 0
      },
      "text/plain": [
       "HBox(children=(FloatProgress(value=0.0, max=20.0), HTML(value='')))"
      ]
     },
     "metadata": {},
     "output_type": "display_data"
    },
    {
     "name": "stdout",
     "output_type": "stream",
     "text": [
      "\n",
      "AFTER face_lookup_resolved_test\n"
     ]
    },
    {
     "data": {
      "application/vnd.jupyter.widget-view+json": {
       "model_id": "1df68910628c46c4a334d7d72fff98de",
       "version_major": 2,
       "version_minor": 0
      },
      "text/plain": [
       "HBox(children=(FloatProgress(value=0.0, max=1.0), HTML(value='')))"
      ]
     },
     "metadata": {},
     "output_type": "display_data"
    },
    {
     "name": "stdout",
     "output_type": "stream",
     "text": [
      "\n",
      "Total time for MAP sublimb #1 mesh processing = 9.17489242553711\n",
      "correspondence_1_to_1: 0.24837684631347656\n",
      "Total time for MAP sublimb processing 23.13117551803589\n",
      "---- Working on MP Decomposition #0 ----\n",
      "Computing the current soma touching verts dict manually\n",
      "MP filtering soma verts: 0.005179405212402344\n",
      "Do Not Need to Fix MP Decomposition 0 so just continuing\n",
      "---- Working on MP Decomposition #1 ----\n",
      "Computing the current soma touching verts dict manually\n",
      "MP filtering soma verts: 0.0033338069915771484\n",
      "Do Not Need to Fix MP Decomposition 1 so just continuing\n",
      "---- Working on MP Decomposition #2 ----\n",
      "Computing the current soma touching verts dict manually\n",
      "MP filtering soma verts: 0.0036466121673583984\n",
      "Do Not Need to Fix MP Decomposition 2 so just continuing\n",
      "---- Working on MP Decomposition #3 ----\n",
      "Computing the current soma touching verts dict manually\n",
      "MP filtering soma verts: 0.002863645553588867\n",
      "Do Not Need to Fix MP Decomposition 3 so just continuing\n",
      "Successful mesh connectivity with type edges\n",
      "\n",
      "---- Working on (0, 0) connection-----\n",
      "Current stitch point was not a branch or endpoint, shortest_path_length to one = 13163.922540299536\n",
      "sk_conn = [1]\n",
      "conn = [1]\n",
      "winning_vertex = [879642.21342832 994737.91480305 829191.99448761]\n",
      "MP_branches_with_stitch_point = [1]\n",
      "MAP_branches_with_stitch_point = [0]\n",
      "MAP_stitch_point_on_end_or_branch = False\n",
      "Using max stitch distance (300) for smoothing because stitch_distance greater (768.4989975498052) \n",
      "Found winning edge: [127, 183.0]\n",
      "in remove edge\n"
     ]
    },
    {
     "data": {
      "application/vnd.jupyter.widget-view+json": {
       "model_id": "df0091c059404d18b3c462bcff76ae12",
       "version_major": 2,
       "version_minor": 0
      },
      "text/plain": [
       "HBox(children=(FloatProgress(value=1.0, bar_style='info', max=1.0), HTML(value='')))"
      ]
     },
     "metadata": {},
     "output_type": "display_data"
    },
    {
     "name": "stdout",
     "output_type": "stream",
     "text": [
      "\n",
      "\n",
      "\n",
      "--- Working on 1-to-1 correspondence-----\n",
      "max(original_labels),len(original_labels) = (1, 2)\n",
      "empty_indices % = 0.16211426188490408\n",
      " conflict_indices % = 0.0023978315262718933\n"
     ]
    },
    {
     "data": {
      "application/vnd.jupyter.widget-view+json": {
       "model_id": "e08139eb05de453e9fda8732477b074a",
       "version_major": 2,
       "version_minor": 0
      },
      "text/plain": [
       "HBox(children=(FloatProgress(value=0.0, max=39.0), HTML(value='')))"
      ]
     },
     "metadata": {},
     "output_type": "display_data"
    },
    {
     "name": "stdout",
     "output_type": "stream",
     "text": [
      "\n",
      "AFTER face_lookup_resolved_test\n"
     ]
    },
    {
     "data": {
      "application/vnd.jupyter.widget-view+json": {
       "model_id": "b6a611b329304f668a756821f2743eaa",
       "version_major": 2,
       "version_minor": 0
      },
      "text/plain": [
       "HBox(children=(FloatProgress(value=0.0, max=2.0), HTML(value='')))"
      ]
     },
     "metadata": {},
     "output_type": "display_data"
    },
    {
     "name": "stdout",
     "output_type": "stream",
     "text": [
      "\n"
     ]
    },
    {
     "data": {
      "application/vnd.jupyter.widget-view+json": {
       "model_id": "af948ffd7957459f9176c80e6b9e0c5e",
       "version_major": 2,
       "version_minor": 0
      },
      "text/plain": [
       "HBox(children=(FloatProgress(value=1.0, bar_style='info', max=1.0), HTML(value='')))"
      ]
     },
     "metadata": {},
     "output_type": "display_data"
    },
    {
     "name": "stdout",
     "output_type": "stream",
     "text": [
      "\n",
      "\n",
      "\n",
      "--- Working on 1-to-1 correspondence-----\n",
      "max(original_labels),len(original_labels) = (2, 3)\n",
      "empty_indices % = 0.17885048337968482\n",
      " conflict_indices % = 0.009733810091378626\n"
     ]
    },
    {
     "data": {
      "application/vnd.jupyter.widget-view+json": {
       "model_id": "f56350702ff345d2a9ea226124d53025",
       "version_major": 2,
       "version_minor": 0
      },
      "text/plain": [
       "HBox(children=(FloatProgress(value=0.0, max=25.0), HTML(value='')))"
      ]
     },
     "metadata": {},
     "output_type": "display_data"
    },
    {
     "name": "stdout",
     "output_type": "stream",
     "text": [
      "\n",
      "AFTER face_lookup_resolved_test\n"
     ]
    },
    {
     "data": {
      "application/vnd.jupyter.widget-view+json": {
       "model_id": "31eb3e98402a42e28abd342d3488094e",
       "version_major": 2,
       "version_minor": 0
      },
      "text/plain": [
       "HBox(children=(FloatProgress(value=0.0, max=3.0), HTML(value='')))"
      ]
     },
     "metadata": {},
     "output_type": "display_data"
    },
    {
     "name": "stdout",
     "output_type": "stream",
     "text": [
      "\n",
      "Deleting branches from dictionary\n",
      "MP_branches_with_stitch_point= [1]\n",
      "MP_branches_for_correspondence = [1]\n",
      "MP_leftover = [], MP_leftover_idx = []\n",
      " Finished with (0, 0) \n",
      "\n",
      "\n",
      "\n",
      "\n",
      "---- Working on (2, 0) connection-----\n",
      "Current stitch point was a branch or endpoint\n",
      "sk_conn = [1, 3]\n",
      "conn = [1, 3]\n",
      "winning_vertex = [882280.32224737 991601.23123033 841520.51857453]\n",
      "MP_branches_with_stitch_point = [1, 3]\n",
      "MAP_branches_with_stitch_point = [2]\n",
      "MAP_stitch_point_on_end_or_branch = True\n",
      "Using max stitch distance (300) for smoothing because stitch_distance greater (617.5777961470006) \n",
      "Found winning edge: [9, 10.0]\n",
      "in remove edge\n",
      "Using max stitch distance (300) for smoothing because stitch_distance greater (556.260717682475) \n",
      "Found winning edge: [9, 10.0]\n",
      "in remove edge\n"
     ]
    },
    {
     "data": {
      "application/vnd.jupyter.widget-view+json": {
       "model_id": "954d8853bade4639b2a16151a7598d04",
       "version_major": 2,
       "version_minor": 0
      },
      "text/plain": [
       "HBox(children=(FloatProgress(value=1.0, bar_style='info', max=1.0), HTML(value='')))"
      ]
     },
     "metadata": {},
     "output_type": "display_data"
    },
    {
     "name": "stdout",
     "output_type": "stream",
     "text": [
      "\n",
      "\n",
      "\n",
      "--- Working on 1-to-1 correspondence-----\n",
      "max(original_labels),len(original_labels) = (2, 3)\n",
      "empty_indices % = 0.15823219601557134\n",
      " conflict_indices % = 0.012044882070070987\n"
     ]
    },
    {
     "data": {
      "application/vnd.jupyter.widget-view+json": {
       "model_id": "bd78be4c12794276ae27fc6e32eb0272",
       "version_major": 2,
       "version_minor": 0
      },
      "text/plain": [
       "HBox(children=(FloatProgress(value=0.0, max=66.0), HTML(value='')))"
      ]
     },
     "metadata": {},
     "output_type": "display_data"
    },
    {
     "name": "stdout",
     "output_type": "stream",
     "text": [
      "\n",
      "AFTER face_lookup_resolved_test\n"
     ]
    },
    {
     "data": {
      "application/vnd.jupyter.widget-view+json": {
       "model_id": "818aac863892451393ac5ae730b98733",
       "version_major": 2,
       "version_minor": 0
      },
      "text/plain": [
       "HBox(children=(FloatProgress(value=0.0, max=3.0), HTML(value='')))"
      ]
     },
     "metadata": {},
     "output_type": "display_data"
    },
    {
     "name": "stdout",
     "output_type": "stream",
     "text": [
      "\n",
      "MP_branches_with_stitch_point= [1, 3]\n",
      "MP_branches_for_correspondence = [1 3]\n",
      "MP_leftover = [], MP_leftover_idx = []\n",
      " Finished with (2, 0) \n",
      "\n",
      "\n",
      "\n",
      "\n",
      "---- Working on (1, 1) connection-----\n",
      "Current stitch point was a branch or endpoint\n",
      "sk_conn = [0, 1]\n",
      "conn = [0, 1]\n",
      "winning_vertex = [ 941676.39801295 1004334.40911444  831362.76896767]\n",
      "MP_branches_with_stitch_point = [0, 1]\n",
      "MAP_branches_with_stitch_point = [0]\n",
      "MAP_stitch_point_on_end_or_branch = True\n",
      "Using max stitch distance (300) for smoothing because stitch_distance greater (778.1153746627373) \n",
      "Found winning edge: [9, 10.0]\n",
      "in remove edge\n",
      "Using max stitch distance (300) for smoothing because stitch_distance greater (750.0529587722511) \n",
      "Found winning edge: [48, 49.0]\n",
      "in remove edge\n"
     ]
    },
    {
     "data": {
      "application/vnd.jupyter.widget-view+json": {
       "model_id": "e9eaa6b5e10b46c3a45b820c077aba34",
       "version_major": 2,
       "version_minor": 0
      },
      "text/plain": [
       "HBox(children=(FloatProgress(value=1.0, bar_style='info', max=1.0), HTML(value='')))"
      ]
     },
     "metadata": {},
     "output_type": "display_data"
    },
    {
     "name": "stdout",
     "output_type": "stream",
     "text": [
      "\n",
      "\n",
      "\n",
      "--- Working on 1-to-1 correspondence-----\n",
      "max(original_labels),len(original_labels) = (2, 3)\n",
      "empty_indices % = 0.19930875576036866\n",
      " conflict_indices % = 0.005904377880184331\n"
     ]
    },
    {
     "data": {
      "application/vnd.jupyter.widget-view+json": {
       "model_id": "101f8343b708449fb132c73a5df7f770",
       "version_major": 2,
       "version_minor": 0
      },
      "text/plain": [
       "HBox(children=(FloatProgress(value=0.0, max=17.0), HTML(value='')))"
      ]
     },
     "metadata": {},
     "output_type": "display_data"
    },
    {
     "name": "stdout",
     "output_type": "stream",
     "text": [
      "\n",
      "AFTER face_lookup_resolved_test\n"
     ]
    },
    {
     "data": {
      "application/vnd.jupyter.widget-view+json": {
       "model_id": "5a70b98f99174c6b9b0923bfd31d992b",
       "version_major": 2,
       "version_minor": 0
      },
      "text/plain": [
       "HBox(children=(FloatProgress(value=0.0, max=3.0), HTML(value='')))"
      ]
     },
     "metadata": {},
     "output_type": "display_data"
    },
    {
     "name": "stdout",
     "output_type": "stream",
     "text": [
      "\n",
      "MP_branches_with_stitch_point= [0, 1]\n",
      "MP_branches_for_correspondence = [0 1]\n",
      "MP_leftover = [], MP_leftover_idx = []\n",
      " Finished with (1, 1) \n",
      "\n",
      "\n",
      "\n",
      "\n",
      "---- Working on (2, 1) connection-----\n",
      "Current stitch point was a branch or endpoint\n",
      "sk_conn = [3]\n",
      "conn = [3]\n",
      "winning_vertex = [ 941288.32898386 1004492.89757464  830478.39792031]\n",
      "MP_branches_with_stitch_point = [3]\n",
      "MAP_branches_with_stitch_point = [0]\n",
      "MAP_stitch_point_on_end_or_branch = True\n",
      "Using max stitch distance (300) for smoothing because stitch_distance greater (542.9994910404782) \n",
      "Found winning edge: [625, 626.0]\n",
      "in remove edge\n"
     ]
    },
    {
     "data": {
      "application/vnd.jupyter.widget-view+json": {
       "model_id": "c09ea1706436435e9dd4c01b269fab02",
       "version_major": 2,
       "version_minor": 0
      },
      "text/plain": [
       "HBox(children=(FloatProgress(value=1.0, bar_style='info', max=1.0), HTML(value='')))"
      ]
     },
     "metadata": {},
     "output_type": "display_data"
    },
    {
     "name": "stdout",
     "output_type": "stream",
     "text": [
      "\n",
      "\n",
      "\n",
      "--- Working on 1-to-1 correspondence-----\n",
      "max(original_labels),len(original_labels) = (1, 2)\n",
      "empty_indices % = 0.15443037974683543\n",
      " conflict_indices % = 0.002531645569620253\n"
     ]
    },
    {
     "data": {
      "application/vnd.jupyter.widget-view+json": {
       "model_id": "6b33d82bcf414182bedd5dde905f1e5c",
       "version_major": 2,
       "version_minor": 0
      },
      "text/plain": [
       "HBox(children=(FloatProgress(value=0.0, max=34.0), HTML(value='')))"
      ]
     },
     "metadata": {},
     "output_type": "display_data"
    },
    {
     "name": "stdout",
     "output_type": "stream",
     "text": [
      "\n",
      "AFTER face_lookup_resolved_test\n"
     ]
    },
    {
     "data": {
      "application/vnd.jupyter.widget-view+json": {
       "model_id": "1ac9214809a94d28b2494a2b8e86f839",
       "version_major": 2,
       "version_minor": 0
      },
      "text/plain": [
       "HBox(children=(FloatProgress(value=0.0, max=2.0), HTML(value='')))"
      ]
     },
     "metadata": {},
     "output_type": "display_data"
    },
    {
     "name": "stdout",
     "output_type": "stream",
     "text": [
      "\n",
      "MP_branches_with_stitch_point= [3]\n",
      "MP_branches_for_correspondence = [3]\n",
      "MP_leftover = [], MP_leftover_idx = []\n",
      " Finished with (2, 1) \n",
      "\n",
      "\n",
      "\n",
      "\n",
      "---- Working on (3, 1) connection-----\n",
      "Current stitch point was a branch or endpoint\n",
      "sk_conn = [1, 2, 3]\n",
      "conn = [1, 2, 3]\n",
      "winning_vertex = [ 969236.4811753  1006049.11569386  822166.62030036]\n",
      "MP_branches_with_stitch_point = [2, 3]\n",
      "MAP_branches_with_stitch_point = [0]\n",
      "MAP_stitch_point_on_end_or_branch = True\n",
      "Only 2 skeleton nodes so cannot do smoothing\n",
      "Found winning edge: [162, 163.0]\n",
      "in remove edge\n"
     ]
    },
    {
     "data": {
      "application/vnd.jupyter.widget-view+json": {
       "model_id": "dab786aec5c2418c99dda4e560bd72c7",
       "version_major": 2,
       "version_minor": 0
      },
      "text/plain": [
       "HBox(children=(FloatProgress(value=1.0, bar_style='info', max=1.0), HTML(value='')))"
      ]
     },
     "metadata": {},
     "output_type": "display_data"
    },
    {
     "name": "stdout",
     "output_type": "stream",
     "text": [
      "\n",
      "\n",
      "\n",
      "--- Working on 1-to-1 correspondence-----\n",
      "max(original_labels),len(original_labels) = (2, 3)\n",
      "empty_indices % = 0.1774928294246668\n",
      " conflict_indices % = 0.009448287497891008\n"
     ]
    },
    {
     "data": {
      "application/vnd.jupyter.widget-view+json": {
       "model_id": "a155ee8af23c4ff2909dd8fe0c4c0b6d",
       "version_major": 2,
       "version_minor": 0
      },
      "text/plain": [
       "HBox(children=(FloatProgress(value=0.0, max=5.0), HTML(value='')))"
      ]
     },
     "metadata": {},
     "output_type": "display_data"
    },
    {
     "name": "stdout",
     "output_type": "stream",
     "text": [
      "\n",
      "AFTER face_lookup_resolved_test\n"
     ]
    },
    {
     "data": {
      "application/vnd.jupyter.widget-view+json": {
       "model_id": "13e5d4f3b9c14fedb13566b084030b14",
       "version_major": 2,
       "version_minor": 0
      },
      "text/plain": [
       "HBox(children=(FloatProgress(value=0.0, max=3.0), HTML(value='')))"
      ]
     },
     "metadata": {},
     "output_type": "display_data"
    },
    {
     "name": "stdout",
     "output_type": "stream",
     "text": [
      "\n",
      "MP_branches_with_stitch_point= [2, 3]\n",
      "MP_branches_for_correspondence = [2 3]\n",
      "MP_leftover = [], MP_leftover_idx = []\n",
      " Finished with (3, 1) \n",
      "\n",
      "\n",
      "\n",
      "Time for decomp of Limb = 41.878527879714966\n",
      "Number of matching vertices = 21\n",
      "Only one endpoint after filtering away the endpoints that are not on the skeleton\n",
      "Using Distance measure skeletal_distance\n",
      "endpoints_must_keep = [array([867581., 993877., 850679.])]\n",
      "Number of end_nodes BEFORE filtering = 11\n",
      "all_single_nodes_to_eliminate = [1]\n",
      "no small end nodes to get rid of so returning whole skeleton\n",
      "Removed 0 skeletal branches\n"
     ]
    },
    {
     "data": {
      "application/vnd.jupyter.widget-view+json": {
       "model_id": "a6526ddbc49543cda1e5af1ed87169e2",
       "version_major": 2,
       "version_minor": 0
      },
      "text/plain": [
       "HBox(children=(FloatProgress(value=0.0, max=18.0), HTML(value='')))"
      ]
     },
     "metadata": {},
     "output_type": "display_data"
    },
    {
     "name": "stdout",
     "output_type": "stream",
     "text": [
      "\n",
      "58506 58507\n",
      "For marked faces: None\n",
      "empty_indices % = 0.0\n",
      " conflict_indices % = 0.0\n"
     ]
    },
    {
     "data": {
      "application/vnd.jupyter.widget-view+json": {
       "model_id": "c8665dc94d134ce381f90b83a676efdb",
       "version_major": 2,
       "version_minor": 0
      },
      "text/plain": [
       "HBox(children=(FloatProgress(value=1.0, bar_style='info', max=1.0), HTML(value='')))"
      ]
     },
     "metadata": {},
     "output_type": "display_data"
    },
    {
     "name": "stdout",
     "output_type": "stream",
     "text": [
      "\n",
      "AFTER face_lookup_resolved_test\n"
     ]
    },
    {
     "data": {
      "application/vnd.jupyter.widget-view+json": {
       "model_id": "1ac321f22bec43ba93cf7f62d189d469",
       "version_major": 2,
       "version_minor": 0
      },
      "text/plain": [
       "HBox(children=(FloatProgress(value=0.0, max=18.0), HTML(value='')))"
      ]
     },
     "metadata": {},
     "output_type": "display_data"
    },
    {
     "name": "stderr",
     "output_type": "stream",
     "text": [
      "\r",
      "  0%|          | 0/1 [00:00<?, ?it/s]"
     ]
    },
    {
     "name": "stdout",
     "output_type": "stream",
     "text": [
      "\n",
      "\n",
      "\n",
      "----- Working on Proper Limb # 8 ---------\n",
      "meshparty_segment_size = 100\n",
      "root_curr = [862945.7 995553.9 851412.1]\n",
      "Time for preparing soma vertices and root: 0.00029659271240234375\n",
      "invalidation_d = 12000\n",
      "cc_vertex_thresh = 10\n"
     ]
    },
    {
     "data": {
      "application/vnd.jupyter.widget-view+json": {
       "model_id": "9e1fbf471e264fa3bfb786693f0024c8",
       "version_major": 2,
       "version_minor": 0
      },
      "text/plain": [
       "HBox(children=(FloatProgress(value=0.0, max=14703.0), HTML(value='')))"
      ]
     },
     "metadata": {},
     "output_type": "display_data"
    },
    {
     "name": "stderr",
     "output_type": "stream",
     "text": [
      "100%|██████████| 1/1 [00:00<00:00,  7.99it/s]"
     ]
    },
    {
     "name": "stdout",
     "output_type": "stream",
     "text": [
      "\n"
     ]
    },
    {
     "name": "stderr",
     "output_type": "stream",
     "text": [
      "\n"
     ]
    },
    {
     "name": "stdout",
     "output_type": "stream",
     "text": [
      "meshparty_segment_size = 100\n",
      "Time for 1st pass MP skeletonization: 0.3178260326385498\n",
      "branches_touching_root = [3]\n",
      "length of Graph = 2356\n",
      "After combining close endpoints max(kept_branches_idx) = 10, len(kept_branches_idx) = 11\n",
      "empty_indices % = 0.0\n",
      " conflict_indices % = 0.009372356623244798\n"
     ]
    },
    {
     "data": {
      "application/vnd.jupyter.widget-view+json": {
       "model_id": "0cd874b5292541a2a8f9ae8e02f60649",
       "version_major": 2,
       "version_minor": 0
      },
      "text/plain": [
       "HBox(children=(FloatProgress(value=0.0, max=4.0), HTML(value='')))"
      ]
     },
     "metadata": {},
     "output_type": "display_data"
    },
    {
     "name": "stdout",
     "output_type": "stream",
     "text": [
      "\n",
      "AFTER face_lookup_resolved_test\n"
     ]
    },
    {
     "data": {
      "application/vnd.jupyter.widget-view+json": {
       "model_id": "c289d3db1acd4348b8724b6d0c65bca3",
       "version_major": 2,
       "version_minor": 0
      },
      "text/plain": [
       "HBox(children=(FloatProgress(value=0.0, max=11.0), HTML(value='')))"
      ]
     },
     "metadata": {},
     "output_type": "display_data"
    },
    {
     "name": "stdout",
     "output_type": "stream",
     "text": [
      "\n",
      "Decomposing first pass: 2.6879448890686035\n",
      "Attempting to use MeshAfterParty Skeletonization and Mesh Correspondence\n",
      "Another print\n",
      "Found len(mesh_large_idx) MAP candidates: [4121, 188]\n",
      "mesh_large_connectivity: 0.0018274784088134766\n",
      "Finding MAP candidates connected components: 9.059906005859375e-05\n",
      "len(filtered_pieces) = 1\n",
      "skeleton_connectivity_MP : 0.09000349044799805\n",
      "Grouping MP Sublimbs by Graph: 0.015240192413330078\n",
      "Divinding into MP and MAP pieces: 1.1920928955078125e-06\n",
      "--- Working on MAP piece 0---\n",
      "MAP Filtering Soma Pieces: 0.001409292221069336\n",
      "inside skeletonize_connected_branch and use_surface_after_CGAL=False, surface_reconstruction_size=1000\n",
      "The mesh passed has 2 pieces so just taking the largest one <trimesh.Trimesh(vertices.shape=(2068, 3), faces.shape=(4120, 3))>\n",
      "     Starting Screened Poisson\n",
      "xvfb-run -n 7460 -s \"-screen 0 800x600x24\" meshlabserver $@  -i /notebooks/Auto_Proofreading/Compartments/Axon/temp/None.off -o /notebooks/Auto_Proofreading/Compartments/Axon/temp/None_poisson.off -s /notebooks/Auto_Proofreading/Compartments/Axon/temp/poisson_202003.mls\n",
      "removed temporary input file: /notebooks/Auto_Proofreading/Compartments/Axon/temp/None.off\n",
      "removed temporary output file: /notebooks/Auto_Proofreading/Compartments/Axon/temp/None_poisson.off\n",
      "Using the close holes feature\n",
      "xvfb-run -n 4145 -s \"-screen 0 800x600x24\" meshlabserver $@  -i /notebooks/Auto_Proofreading/Compartments/Axon/temp/neuron_56602.off -o /notebooks/Auto_Proofreading/Compartments/Axon/temp/neuron_56602_fill_holes.off -s /notebooks/Auto_Proofreading/Compartments/Axon/temp/fill_holes_659970.mls\n",
      "removed temporary input file: /notebooks/Auto_Proofreading/Compartments/Axon/temp/neuron_56602.off\n",
      "removed temporary output file: /notebooks/Auto_Proofreading/Compartments/Axon/temp/neuron_56602_fill_holes.off\n",
      "-----Time for Screened Poisson= 6.160181760787964\n",
      "mesh_pieces = [<trimesh.Trimesh(vertices.shape=(5781, 3), faces.shape=(11558, 3))>]\n",
      "     Starting Calcification (Changed back where stitches large poissons)\n",
      "min_edge_length = 75\n"
     ]
    },
    {
     "data": {
      "application/vnd.jupyter.widget-view+json": {
       "model_id": "e65f7e10979f4dfb8a10c25d10348fa0",
       "version_major": 2,
       "version_minor": 0
      },
      "text/plain": [
       "HBox(children=(FloatProgress(value=1.0, bar_style='info', max=1.0), HTML(value='')))"
      ]
     },
     "metadata": {},
     "output_type": "display_data"
    },
    {
     "name": "stdout",
     "output_type": "stream",
     "text": [
      "\n",
      "No skeletons to stack so returning empty list\n",
      "len_subgraphs AT BEGINNING of the loop\n"
     ]
    },
    {
     "data": {
      "application/vnd.jupyter.widget-view+json": {
       "model_id": "0a1ee1bc3fe74969afe241611cd181a5",
       "version_major": 2,
       "version_minor": 0
      },
      "text/plain": [
       "HBox(children=(FloatProgress(value=0.0, max=1.0), HTML(value='')))"
      ]
     },
     "metadata": {},
     "output_type": "display_data"
    },
    {
     "name": "stdout",
     "output_type": "stream",
     "text": [
      "all graph is one component!\n",
      "\n",
      "Total time for skeleton stitching = 0.026046276092529297\n",
      "The process was using a temp folder\n",
      "Checking connected components after skeletonize_connected_branch\n",
      "    Total time for skeletonizing branch: 6.570339202880859\n",
      "Checking connected components after removing cycles\n",
      "Total time for mesh KDTree = 0.04443836212158203\n",
      "sbv[0].reshape(-1,3) = [[862945.7 995553.9 851412.1]]\n",
      "closest_sk_pt_coord BEFORE = [862906. 995381. 851022.]\n",
      "current_skeleton.shape = (162, 2, 3)\n",
      "Current stitch point was a branch or endpoint\n",
      "change_status for create soma extending pieces = False\n",
      "closest_sk_pt_coord AFTER = [862906. 995381. 851022.]\n",
      "skipping soma 1 because closest skeleton node was already end node\n",
      "endpoints_must_keep = {1: array([[862906., 995381., 851022.]])}\n",
      "    Total time for Fixing Skeleton Soma Endpoint Extension : 0.11521482467651367\n",
      "filter_end_node_length = 4500\n",
      "Using Distance measure skeletal_distance\n",
      "endpoints_must_keep = [[862906. 995381. 851022.]]\n",
      "Number of end_nodes BEFORE filtering = 4\n",
      "all_single_nodes_to_eliminate = [3]\n"
     ]
    },
    {
     "data": {
      "application/vnd.jupyter.widget-view+json": {
       "model_id": "d380aed6e94e4d4db0359c708fd8deca",
       "version_major": 2,
       "version_minor": 0
      },
      "text/plain": [
       "HBox(children=(FloatProgress(value=0.0, max=3.0), HTML(value='')))"
      ]
     },
     "metadata": {},
     "output_type": "display_data"
    },
    {
     "name": "stdout",
     "output_type": "stream",
     "text": [
      "\n",
      "Checking connected components after clean_skeleton\n",
      "after DISTANCE cleaning limb size of skeleton = (149, 2, 3)\n",
      "********COMBINING CLOSE SKELETON NODES WITHIN 700 DISTANCE**********\n",
      "Found 0 valid paths to replace\n",
      "valid_paths = []\n",
      "valid_path_lengths = []\n",
      "No valid paths found so just returning the original\n",
      "skeletonize_and_clean_connected_branch_CGAL: 6.906844854354858\n",
      "Working on limb correspondence for #0 MAP piece\n"
     ]
    },
    {
     "data": {
      "application/vnd.jupyter.widget-view+json": {
       "model_id": "a11636cefa6b4acb9e8aaa9e1448dd38",
       "version_major": 2,
       "version_minor": 0
      },
      "text/plain": [
       "HBox(children=(FloatProgress(value=1.0, bar_style='info', max=1.0), HTML(value='')))"
      ]
     },
     "metadata": {},
     "output_type": "display_data"
    },
    {
     "name": "stdout",
     "output_type": "stream",
     "text": [
      "\n",
      "Total time for decomposition = 0.3564107418060303\n",
      "mesh_correspondence_first_pass: 0.3564796447753906\n",
      "Limb decomposed into 1 branches\n",
      "divided_skeleton_graph_recovered = (149, 2, 3) and \n",
      "current_mesh_data[0]['branch_skeletons_cleaned'].shape = (149, 2, 3)\n",
      "\n",
      "Number of connected components in deocmposed recovered graph = 1\n",
      "Number of connected components in cleaned skeleton graph= 1\n",
      "The downsampled branches number of connected components = 1\n",
      "Empty submeshes = []\n",
      "\n",
      "\n",
      "--- Working on 1-to-1 correspondence-----\n",
      "max(original_labels),len(original_labels) = (0, 1)\n",
      "empty_indices % = 0.11113807328318369\n",
      " conflict_indices % = 0.0\n"
     ]
    },
    {
     "data": {
      "application/vnd.jupyter.widget-view+json": {
       "model_id": "1e0e6ac803fb4b4881862b4824d0212d",
       "version_major": 2,
       "version_minor": 0
      },
      "text/plain": [
       "HBox(children=(FloatProgress(value=0.0, max=8.0), HTML(value='')))"
      ]
     },
     "metadata": {},
     "output_type": "display_data"
    },
    {
     "name": "stdout",
     "output_type": "stream",
     "text": [
      "\n",
      "AFTER face_lookup_resolved_test\n",
      "Took 0 iterations to expand the label back\n",
      "empty_indices % = 0.0\n",
      " conflict_indices % = 0.0\n"
     ]
    },
    {
     "data": {
      "application/vnd.jupyter.widget-view+json": {
       "model_id": "62690f05ae124f54af6bf5ba29247df7",
       "version_major": 2,
       "version_minor": 0
      },
      "text/plain": [
       "HBox(children=(FloatProgress(value=1.0, bar_style='info', max=1.0), HTML(value='')))"
      ]
     },
     "metadata": {},
     "output_type": "display_data"
    },
    {
     "name": "stdout",
     "output_type": "stream",
     "text": [
      "\n",
      "AFTER face_lookup_resolved_test\n"
     ]
    },
    {
     "data": {
      "application/vnd.jupyter.widget-view+json": {
       "model_id": "756d6df4d3ae46fab22c7b34dc686e51",
       "version_major": 2,
       "version_minor": 0
      },
      "text/plain": [
       "HBox(children=(FloatProgress(value=0.0, max=1.0), HTML(value='')))"
      ]
     },
     "metadata": {},
     "output_type": "display_data"
    },
    {
     "name": "stdout",
     "output_type": "stream",
     "text": [
      "\n",
      "Total time for MAP sublimb #0 mesh processing = 7.603865146636963\n",
      "correspondence_1_to_1: 0.3389711380004883\n",
      "Total time for MAP sublimb processing 7.6039958000183105\n",
      "---- Working on MP Decomposition #0 ----\n",
      "Computing the current soma touching verts dict manually\n",
      "MP filtering soma verts: 0.003010272979736328\n",
      "Do Not Need to Fix MP Decomposition 0 so just continuing\n",
      "Successful mesh connectivity with type edges\n",
      "\n",
      "---- Working on (0, 0) connection-----\n",
      "Current stitch point was a branch or endpoint\n",
      "sk_conn = [2, 5]\n",
      "conn = [2, 5]\n",
      "winning_vertex = [850241.65438488 997733.96318925 835120.92336446]\n",
      "MP_branches_with_stitch_point = [2, 5]\n",
      "MAP_branches_with_stitch_point = [0]\n",
      "MAP_stitch_point_on_end_or_branch = True\n",
      "Using max stitch distance (300) for smoothing because stitch_distance greater (828.9436283104867) \n",
      "Found winning edge: [19, 20.0]\n",
      "in remove edge\n",
      "Using max stitch distance (300) for smoothing because stitch_distance greater (848.8255613325341) \n",
      "Found winning edge: [513, 515.0]\n",
      "in remove edge\n"
     ]
    },
    {
     "data": {
      "application/vnd.jupyter.widget-view+json": {
       "model_id": "71bad88360fb4b6ab15fc2e07d124cf8",
       "version_major": 2,
       "version_minor": 0
      },
      "text/plain": [
       "HBox(children=(FloatProgress(value=1.0, bar_style='info', max=1.0), HTML(value='')))"
      ]
     },
     "metadata": {},
     "output_type": "display_data"
    },
    {
     "name": "stdout",
     "output_type": "stream",
     "text": [
      "\n",
      "\n",
      "\n",
      "--- Working on 1-to-1 correspondence-----\n",
      "max(original_labels),len(original_labels) = (2, 3)\n",
      "empty_indices % = 0.17153758107592523\n",
      " conflict_indices % = 0.029759633727584892\n"
     ]
    },
    {
     "data": {
      "application/vnd.jupyter.widget-view+json": {
       "model_id": "ac3fe2cfbb0540e481264fa1be5d3523",
       "version_major": 2,
       "version_minor": 0
      },
      "text/plain": [
       "HBox(children=(FloatProgress(value=0.0, max=29.0), HTML(value='')))"
      ]
     },
     "metadata": {},
     "output_type": "display_data"
    },
    {
     "name": "stdout",
     "output_type": "stream",
     "text": [
      "\n",
      "AFTER face_lookup_resolved_test\n"
     ]
    },
    {
     "data": {
      "application/vnd.jupyter.widget-view+json": {
       "model_id": "87dd32adf3034296bc2b1991e2034aaa",
       "version_major": 2,
       "version_minor": 0
      },
      "text/plain": [
       "HBox(children=(FloatProgress(value=0.0, max=3.0), HTML(value='')))"
      ]
     },
     "metadata": {},
     "output_type": "display_data"
    },
    {
     "name": "stdout",
     "output_type": "stream",
     "text": [
      "\n",
      "MP_branches_with_stitch_point= [2, 5]\n",
      "MP_branches_for_correspondence = [2 5]\n",
      "MP_leftover = [], MP_leftover_idx = []\n",
      " Finished with (0, 0) \n",
      "\n",
      "\n",
      "\n",
      "Time for decomp of Limb = 13.615397691726685\n",
      "Number of matching vertices = 13\n",
      "Only one endpoint after filtering away the endpoints that are not on the skeleton\n",
      "Using Distance measure skeletal_distance\n",
      "endpoints_must_keep = [array([862906., 995381., 851022.])]\n",
      "Number of end_nodes BEFORE filtering = 7\n",
      "all_single_nodes_to_eliminate = [6]\n",
      "no small end nodes to get rid of so returning whole skeleton\n",
      "Removed 0 skeletal branches\n"
     ]
    },
    {
     "data": {
      "application/vnd.jupyter.widget-view+json": {
       "model_id": "22eaeda119f14cb199918b4e5aa3ca4d",
       "version_major": 2,
       "version_minor": 0
      },
      "text/plain": [
       "HBox(children=(FloatProgress(value=0.0, max=11.0), HTML(value='')))"
      ]
     },
     "metadata": {},
     "output_type": "display_data"
    },
    {
     "name": "stdout",
     "output_type": "stream",
     "text": [
      "\n",
      "29554 29555\n",
      "For marked faces: None\n",
      "empty_indices % = 0.0\n",
      " conflict_indices % = 0.0\n"
     ]
    },
    {
     "data": {
      "application/vnd.jupyter.widget-view+json": {
       "model_id": "33416014b0e648d7a3aff021242c9d5c",
       "version_major": 2,
       "version_minor": 0
      },
      "text/plain": [
       "HBox(children=(FloatProgress(value=1.0, bar_style='info', max=1.0), HTML(value='')))"
      ]
     },
     "metadata": {},
     "output_type": "display_data"
    },
    {
     "name": "stdout",
     "output_type": "stream",
     "text": [
      "\n",
      "AFTER face_lookup_resolved_test\n"
     ]
    },
    {
     "data": {
      "application/vnd.jupyter.widget-view+json": {
       "model_id": "ab57433680634bba9a84d94fd9c8de8b",
       "version_major": 2,
       "version_minor": 0
      },
      "text/plain": [
       "HBox(children=(FloatProgress(value=0.0, max=11.0), HTML(value='')))"
      ]
     },
     "metadata": {},
     "output_type": "display_data"
    },
    {
     "name": "stderr",
     "output_type": "stream",
     "text": [
      "\r",
      "  0%|          | 0/1 [00:00<?, ?it/s]"
     ]
    },
    {
     "name": "stdout",
     "output_type": "stream",
     "text": [
      "\n",
      "\n",
      "\n",
      "----- Working on Proper Limb # 9 ---------\n",
      "meshparty_segment_size = 100\n",
      "root_curr = [866601.8 999431.3 865586.1]\n",
      "Time for preparing soma vertices and root: 0.00028395652770996094\n",
      "invalidation_d = 12000\n",
      "cc_vertex_thresh = 10\n"
     ]
    },
    {
     "data": {
      "application/vnd.jupyter.widget-view+json": {
       "model_id": "9ded694db0f847a9a88cb7854669d429",
       "version_major": 2,
       "version_minor": 0
      },
      "text/plain": [
       "HBox(children=(FloatProgress(value=0.0, max=3954.0), HTML(value='')))"
      ]
     },
     "metadata": {},
     "output_type": "display_data"
    },
    {
     "name": "stderr",
     "output_type": "stream",
     "text": [
      "\r",
      "100%|██████████| 1/1 [00:00<00:00, 14.10it/s]"
     ]
    },
    {
     "name": "stdout",
     "output_type": "stream",
     "text": [
      "\n",
      "meshparty_segment_size = 100\n",
      "Time for 1st pass MP skeletonization: 0.14762282371520996\n",
      "connecting at the root\n",
      "branches_touching_root = [4]\n"
     ]
    },
    {
     "name": "stderr",
     "output_type": "stream",
     "text": [
      "\n"
     ]
    },
    {
     "name": "stdout",
     "output_type": "stream",
     "text": [
      "length of Graph = 935\n",
      "After combining close endpoints max(kept_branches_idx) = 4, len(kept_branches_idx) = 5\n",
      "empty_indices % = 0.0\n",
      " conflict_indices % = 0.014853370572553003\n"
     ]
    },
    {
     "data": {
      "application/vnd.jupyter.widget-view+json": {
       "model_id": "99734700a0e34cc0956d8c4b173e9a27",
       "version_major": 2,
       "version_minor": 0
      },
      "text/plain": [
       "HBox(children=(FloatProgress(value=0.0, max=2.0), HTML(value='')))"
      ]
     },
     "metadata": {},
     "output_type": "display_data"
    },
    {
     "name": "stdout",
     "output_type": "stream",
     "text": [
      "\n",
      "AFTER face_lookup_resolved_test\n"
     ]
    },
    {
     "data": {
      "application/vnd.jupyter.widget-view+json": {
       "model_id": "a6940bb35cb0471fb9fb42431f67fca3",
       "version_major": 2,
       "version_minor": 0
      },
      "text/plain": [
       "HBox(children=(FloatProgress(value=0.0, max=5.0), HTML(value='')))"
      ]
     },
     "metadata": {},
     "output_type": "display_data"
    },
    {
     "name": "stdout",
     "output_type": "stream",
     "text": [
      "\n",
      "Decomposing first pass: 0.5325157642364502\n",
      "Attempting to use MeshAfterParty Skeletonization and Mesh Correspondence\n",
      "Another print\n",
      "Divinding into MP and MAP pieces: 5.7220458984375e-05\n",
      "Total time for MAP sublimb processing 2.86102294921875e-06\n",
      "---- Working on MP Decomposition #0 ----\n",
      "Using Quicker soma_to_piece_touching_vertices because no MAP and only one sublimb_mesh piece \n",
      "MP filtering soma verts: 5.245208740234375e-05\n",
      "Fixing Possible Soma Extension Branch for Sublimb 0\n",
      "Total time for mesh KDTree = 0.04354214668273926\n",
      "sbv[0].reshape(-1,3) = [[866601.8 999431.3 865586.1]]\n",
      "closest_sk_pt_coord BEFORE = [866772.35565041 998723.19767362 866295.48548942]\n",
      "current_skeleton.shape = (376, 2, 3)\n",
      "Current stitch point was not a branch or endpoint, shortest_path_length to one = 199.9999390423719\n",
      "Changing the stitch point becasue the distance to end or branch node was 199.9999390423719\n",
      "New stitch point has degree 1\n",
      "change_status for create soma extending pieces = True\n",
      "closest_sk_pt_coord AFTER = [866671.73526598 998551.80371485 866273.13876054]\n",
      "skipping soma 1 because closest skeleton node was already end node\n",
      "endpoints_must_keep = {1: array([[866671.73526598, 998551.80371485, 866273.13876054]])}\n",
      "The new branch info was none so skipping \n",
      "\n",
      "No soma extending branch was added for this sublimb even though it had a soma border (means they already existed)\n",
      "MP (because soma touching verts) soma extension add: 0.13006329536437988\n",
      "There were not both MAP and MP pieces so skipping the stitch resolving phase\n",
      "Time for decomp of Limb = 0.8451426029205322\n",
      "Number of matching vertices = 39\n",
      "Only one endpoint after filtering away the endpoints that are not on the skeleton\n",
      "Using Distance measure skeletal_distance\n",
      "endpoints_must_keep = [array([866671.73526598, 998551.80371485, 866273.13876054])]\n",
      "Number of end_nodes BEFORE filtering = 4\n",
      "all_single_nodes_to_eliminate = [1]\n",
      "no small end nodes to get rid of so returning whole skeleton\n",
      "Removed 0 skeletal branches\n"
     ]
    },
    {
     "data": {
      "application/vnd.jupyter.widget-view+json": {
       "model_id": "378b7e4683214e4a938c2f28df46c1b7",
       "version_major": 2,
       "version_minor": 0
      },
      "text/plain": [
       "HBox(children=(FloatProgress(value=0.0, max=5.0), HTML(value='')))"
      ]
     },
     "metadata": {},
     "output_type": "display_data"
    },
    {
     "name": "stdout",
     "output_type": "stream",
     "text": [
      "\n",
      "7876 7877\n",
      "For marked faces: None\n",
      "empty_indices % = 0.0\n",
      " conflict_indices % = 0.0\n"
     ]
    },
    {
     "data": {
      "application/vnd.jupyter.widget-view+json": {
       "model_id": "d846ce771cdf4805adda7d1ceb80ba49",
       "version_major": 2,
       "version_minor": 0
      },
      "text/plain": [
       "HBox(children=(FloatProgress(value=1.0, bar_style='info', max=1.0), HTML(value='')))"
      ]
     },
     "metadata": {},
     "output_type": "display_data"
    },
    {
     "name": "stdout",
     "output_type": "stream",
     "text": [
      "\n",
      "AFTER face_lookup_resolved_test\n"
     ]
    },
    {
     "data": {
      "application/vnd.jupyter.widget-view+json": {
       "model_id": "59e7ab49b4c44c3ebb3fc75bc61052a7",
       "version_major": 2,
       "version_minor": 0
      },
      "text/plain": [
       "HBox(children=(FloatProgress(value=0.0, max=5.0), HTML(value='')))"
      ]
     },
     "metadata": {},
     "output_type": "display_data"
    },
    {
     "name": "stderr",
     "output_type": "stream",
     "text": [
      "\r",
      "  0%|          | 0/1 [00:00<?, ?it/s]"
     ]
    },
    {
     "name": "stdout",
     "output_type": "stream",
     "text": [
      "\n",
      "\n",
      "\n",
      "----- Working on Proper Limb # 10 ---------\n",
      "meshparty_segment_size = 100\n",
      "root_curr = [760131.6 964802.4 878797.2]\n",
      "Time for preparing soma vertices and root: 0.00020456314086914062\n",
      "invalidation_d = 12000\n",
      "cc_vertex_thresh = 10\n"
     ]
    },
    {
     "data": {
      "application/vnd.jupyter.widget-view+json": {
       "model_id": "37d59f1ce6f24c1e98eadbed25e85815",
       "version_major": 2,
       "version_minor": 0
      },
      "text/plain": [
       "HBox(children=(FloatProgress(value=0.0, max=1136.0), HTML(value='')))"
      ]
     },
     "metadata": {},
     "output_type": "display_data"
    },
    {
     "name": "stderr",
     "output_type": "stream",
     "text": [
      "\r",
      "100%|██████████| 1/1 [00:00<00:00, 37.26it/s]"
     ]
    },
    {
     "name": "stdout",
     "output_type": "stream",
     "text": [
      "\n",
      "meshparty_segment_size = 100\n",
      "Time for 1st pass MP skeletonization: 0.05288410186767578\n",
      "connecting at the root\n",
      "branches_touching_root = [0]\n",
      "length of Graph = 106\n",
      "After combining close endpoints max(kept_branches_idx) = 0, len(kept_branches_idx) = 1\n",
      "empty_indices % = 0.0\n",
      " conflict_indices % = 0.0\n"
     ]
    },
    {
     "name": "stderr",
     "output_type": "stream",
     "text": [
      "\n"
     ]
    },
    {
     "data": {
      "application/vnd.jupyter.widget-view+json": {
       "model_id": "0aa23637e457493f9abe99aa2b0abe52",
       "version_major": 2,
       "version_minor": 0
      },
      "text/plain": [
       "HBox(children=(FloatProgress(value=1.0, bar_style='info', max=1.0), HTML(value='')))"
      ]
     },
     "metadata": {},
     "output_type": "display_data"
    },
    {
     "name": "stdout",
     "output_type": "stream",
     "text": [
      "\n",
      "AFTER face_lookup_resolved_test\n"
     ]
    },
    {
     "data": {
      "application/vnd.jupyter.widget-view+json": {
       "model_id": "60dacc1d58a44a6791d25d0250279dae",
       "version_major": 2,
       "version_minor": 0
      },
      "text/plain": [
       "HBox(children=(FloatProgress(value=0.0, max=1.0), HTML(value='')))"
      ]
     },
     "metadata": {},
     "output_type": "display_data"
    },
    {
     "name": "stdout",
     "output_type": "stream",
     "text": [
      "\n",
      "Decomposing first pass: 0.13505911827087402\n",
      "Attempting to use MeshAfterParty Skeletonization and Mesh Correspondence\n",
      "Another print\n",
      "Found len(mesh_large_idx) MAP candidates: [2234]\n",
      "mesh_large_connectivity: 0.00012683868408203125\n",
      "Finding MAP candidates connected components: 5.745887756347656e-05\n",
      "len(filtered_pieces) = 1\n",
      "skeleton_connectivity_MP : 0.0021123886108398438\n",
      "Grouping MP Sublimbs by Graph: 2.3126602172851562e-05\n",
      "Divinding into MP and MAP pieces: 7.152557373046875e-07\n",
      "--- Working on MAP piece 0---\n",
      "MAP Filtering Soma Pieces: 0.003450155258178711\n",
      "inside skeletonize_connected_branch and use_surface_after_CGAL=False, surface_reconstruction_size=1000\n",
      "     Starting Screened Poisson\n",
      "xvfb-run -n 8212 -s \"-screen 0 800x600x24\" meshlabserver $@  -i /notebooks/Auto_Proofreading/Compartments/Axon/temp/None.off -o /notebooks/Auto_Proofreading/Compartments/Axon/temp/None_poisson.off -s /notebooks/Auto_Proofreading/Compartments/Axon/temp/poisson_822758.mls\n",
      "removed temporary input file: /notebooks/Auto_Proofreading/Compartments/Axon/temp/None.off\n",
      "removed temporary output file: /notebooks/Auto_Proofreading/Compartments/Axon/temp/None_poisson.off\n",
      "Using the close holes feature\n",
      "xvfb-run -n 5085 -s \"-screen 0 800x600x24\" meshlabserver $@  -i /notebooks/Auto_Proofreading/Compartments/Axon/temp/neuron_75256.off -o /notebooks/Auto_Proofreading/Compartments/Axon/temp/neuron_75256_fill_holes.off -s /notebooks/Auto_Proofreading/Compartments/Axon/temp/fill_holes_984245.mls\n",
      "removed temporary input file: /notebooks/Auto_Proofreading/Compartments/Axon/temp/neuron_75256.off\n",
      "removed temporary output file: /notebooks/Auto_Proofreading/Compartments/Axon/temp/neuron_75256_fill_holes.off\n",
      "-----Time for Screened Poisson= 5.856771230697632\n",
      "mesh_pieces = [<trimesh.Trimesh(vertices.shape=(2893, 3), faces.shape=(5782, 3))>]\n",
      "     Starting Calcification (Changed back where stitches large poissons)\n",
      "min_edge_length = 75\n"
     ]
    },
    {
     "data": {
      "application/vnd.jupyter.widget-view+json": {
       "model_id": "f1f68f3b34054d64ab11abc5c6178696",
       "version_major": 2,
       "version_minor": 0
      },
      "text/plain": [
       "HBox(children=(FloatProgress(value=1.0, bar_style='info', max=1.0), HTML(value='')))"
      ]
     },
     "metadata": {},
     "output_type": "display_data"
    },
    {
     "name": "stdout",
     "output_type": "stream",
     "text": [
      "\n",
      "No skeletons to stack so returning empty list\n",
      "len_subgraphs AT BEGINNING of the loop\n"
     ]
    },
    {
     "data": {
      "application/vnd.jupyter.widget-view+json": {
       "model_id": "a62a0664cb89477fae8e6f234b6a80e3",
       "version_major": 2,
       "version_minor": 0
      },
      "text/plain": [
       "HBox(children=(FloatProgress(value=0.0, max=1.0), HTML(value='')))"
      ]
     },
     "metadata": {},
     "output_type": "display_data"
    },
    {
     "name": "stdout",
     "output_type": "stream",
     "text": [
      "all graph is one component!\n",
      "\n",
      "Total time for skeleton stitching = 0.030889272689819336\n",
      "The process was using a temp folder\n",
      "Checking connected components after skeletonize_connected_branch\n",
      "    Total time for skeletonizing branch: 6.127143859863281\n",
      "Checking connected components after removing cycles\n",
      "Total time for mesh KDTree = 0.023958683013916016\n",
      "sbv[0].reshape(-1,3) = [[760131.6 964802.4 878797.2]]\n",
      "closest_sk_pt_coord BEFORE = [760962. 964966. 878665.]\n",
      "current_skeleton.shape = (64, 2, 3)\n",
      "Current stitch point was a branch or endpoint\n",
      "change_status for create soma extending pieces = False\n",
      "closest_sk_pt_coord AFTER = [760962. 964966. 878665.]\n",
      "skipping soma 0 because closest skeleton node was already end node\n",
      "endpoints_must_keep = {0: array([[760962., 964966., 878665.]])}\n",
      "    Total time for Fixing Skeleton Soma Endpoint Extension : 0.0675811767578125\n",
      "filter_end_node_length = 4500\n",
      "Using Distance measure skeletal_distance\n",
      "endpoints_must_keep = [[760962. 964966. 878665.]]\n",
      "Number of end_nodes BEFORE filtering = 2\n",
      "all_single_nodes_to_eliminate = [0]\n",
      "no small end nodes to get rid of so returning whole skeleton\n",
      "Checking connected components after clean_skeleton\n",
      "after DISTANCE cleaning limb size of skeleton = (64, 2, 3)\n",
      "********COMBINING CLOSE SKELETON NODES WITHIN 700 DISTANCE**********\n",
      "Found 0 valid paths to replace\n",
      "valid_paths = []\n",
      "valid_path_lengths = []\n",
      "No valid paths found so just returning the original\n",
      "skeletonize_and_clean_connected_branch_CGAL: 6.285287380218506\n",
      "Working on limb correspondence for #0 MAP piece\n"
     ]
    },
    {
     "data": {
      "application/vnd.jupyter.widget-view+json": {
       "model_id": "e9d9d1d021264ac996393a06e8acc2ef",
       "version_major": 2,
       "version_minor": 0
      },
      "text/plain": [
       "HBox(children=(FloatProgress(value=1.0, bar_style='info', max=1.0), HTML(value='')))"
      ]
     },
     "metadata": {},
     "output_type": "display_data"
    },
    {
     "name": "stdout",
     "output_type": "stream",
     "text": [
      "\n",
      "Total time for decomposition = 0.16483354568481445\n",
      "mesh_correspondence_first_pass: 0.1648545265197754\n",
      "Limb decomposed into 1 branches\n",
      "divided_skeleton_graph_recovered = (64, 2, 3) and \n",
      "current_mesh_data[0]['branch_skeletons_cleaned'].shape = (64, 2, 3)\n",
      "\n",
      "Number of connected components in deocmposed recovered graph = 1\n",
      "Number of connected components in cleaned skeleton graph= 1\n",
      "The downsampled branches number of connected components = 1\n",
      "Empty submeshes = []\n",
      "\n",
      "\n",
      "--- Working on 1-to-1 correspondence-----\n",
      "max(original_labels),len(original_labels) = (0, 1)\n",
      "empty_indices % = 0.11772605192479857\n",
      " conflict_indices % = 0.0\n"
     ]
    },
    {
     "data": {
      "application/vnd.jupyter.widget-view+json": {
       "model_id": "f110e193af994cc99bcb089f88dd861a",
       "version_major": 2,
       "version_minor": 0
      },
      "text/plain": [
       "HBox(children=(FloatProgress(value=0.0, max=3.0), HTML(value='')))"
      ]
     },
     "metadata": {},
     "output_type": "display_data"
    },
    {
     "name": "stdout",
     "output_type": "stream",
     "text": [
      "\n",
      "AFTER face_lookup_resolved_test\n",
      "Took 0 iterations to expand the label back\n",
      "empty_indices % = 0.0\n",
      " conflict_indices % = 0.0\n"
     ]
    },
    {
     "data": {
      "application/vnd.jupyter.widget-view+json": {
       "model_id": "647c69d45ecb4010ab2017c86d527678",
       "version_major": 2,
       "version_minor": 0
      },
      "text/plain": [
       "HBox(children=(FloatProgress(value=1.0, bar_style='info', max=1.0), HTML(value='')))"
      ]
     },
     "metadata": {},
     "output_type": "display_data"
    },
    {
     "name": "stdout",
     "output_type": "stream",
     "text": [
      "\n",
      "AFTER face_lookup_resolved_test\n"
     ]
    },
    {
     "data": {
      "application/vnd.jupyter.widget-view+json": {
       "model_id": "718b3843b5e14e379f18d25198b03473",
       "version_major": 2,
       "version_minor": 0
      },
      "text/plain": [
       "HBox(children=(FloatProgress(value=0.0, max=1.0), HTML(value='')))"
      ]
     },
     "metadata": {},
     "output_type": "display_data"
    },
    {
     "name": "stdout",
     "output_type": "stream",
     "text": [
      "\n",
      "Total time for MAP sublimb #0 mesh processing = 6.664821624755859\n",
      "correspondence_1_to_1: 0.21118402481079102\n",
      "Total time for MAP sublimb processing 6.664945125579834\n",
      "There were not both MAP and MP pieces so skipping the stitch resolving phase\n",
      "Time for decomp of Limb = 6.85957145690918\n",
      "Number of matching vertices = 38\n",
      "Only one endpoint after filtering away the endpoints that are not on the skeleton\n",
      "Using Distance measure skeletal_distance\n",
      "endpoints_must_keep = [array([760962., 964966., 878665.])]\n",
      "Number of end_nodes BEFORE filtering = 2\n",
      "all_single_nodes_to_eliminate = [0]\n",
      "no small end nodes to get rid of so returning whole skeleton\n",
      "Removed 0 skeletal branches\n"
     ]
    },
    {
     "data": {
      "application/vnd.jupyter.widget-view+json": {
       "model_id": "6d88164ea575437fa557144f26089d13",
       "version_major": 2,
       "version_minor": 0
      },
      "text/plain": [
       "HBox(children=(FloatProgress(value=0.0, max=1.0), HTML(value='')))"
      ]
     },
     "metadata": {},
     "output_type": "display_data"
    },
    {
     "name": "stdout",
     "output_type": "stream",
     "text": [
      "\n",
      "2233 2234\n",
      "For marked faces: None\n",
      "empty_indices % = 0.0\n",
      " conflict_indices % = 0.0\n"
     ]
    },
    {
     "data": {
      "application/vnd.jupyter.widget-view+json": {
       "model_id": "96611ac6b5334e759c1faaf8c21221f8",
       "version_major": 2,
       "version_minor": 0
      },
      "text/plain": [
       "HBox(children=(FloatProgress(value=1.0, bar_style='info', max=1.0), HTML(value='')))"
      ]
     },
     "metadata": {},
     "output_type": "display_data"
    },
    {
     "name": "stdout",
     "output_type": "stream",
     "text": [
      "\n",
      "AFTER face_lookup_resolved_test\n"
     ]
    },
    {
     "data": {
      "application/vnd.jupyter.widget-view+json": {
       "model_id": "58b667916bb340749824c56aebced4a0",
       "version_major": 2,
       "version_minor": 0
      },
      "text/plain": [
       "HBox(children=(FloatProgress(value=0.0, max=1.0), HTML(value='')))"
      ]
     },
     "metadata": {},
     "output_type": "display_data"
    },
    {
     "name": "stdout",
     "output_type": "stream",
     "text": [
      "\n",
      "Total time for Skeletonization and Mesh Correspondence = 1185.3690423965454\n",
      "\n",
      "\n",
      " ----- Working on Stitching ----------\n",
      "Status of Main limb stitch point moved = True\n",
      "Total time for stitching floating pieces = 0.7792787551879883\n",
      "Total time for Concept Networks = 7.477459669113159\n",
      "Total time for all mesh and skeletonization decomp = 1193.6259458065033\n",
      "No soma volume ratios so computing them now\n",
      "Using Poisson Surface Reconstruction for watertightness in soma_volume_ratio\n",
      "xvfb-run -n 8590 -s \"-screen 0 800x600x24\" meshlabserver $@  -i /notebooks/Auto_Proofreading/Compartments/Axon/Poisson_temp/neuron_761846.off -o /notebooks/Auto_Proofreading/Compartments/Axon/Poisson_temp/neuron_761846_poisson.off -s /notebooks/Auto_Proofreading/Compartments/Axon/Poisson_temp/poisson_671715.mls\n",
      "removed temporary input file: /notebooks/Auto_Proofreading/Compartments/Axon/Poisson_temp/neuron_761846.off\n",
      "removed temporary output file: /notebooks/Auto_Proofreading/Compartments/Axon/Poisson_temp/neuron_761846_poisson.off\n",
      "mesh.is_watertight = True\n",
      "/notebooks/Auto_Proofreading/Compartments/Axon/Poisson_temp/poisson_671715.mls is being deleted....\n",
      "Using Poisson Surface Reconstruction for watertightness in soma_volume_ratio\n",
      "xvfb-run -n 8044 -s \"-screen 0 800x600x24\" meshlabserver $@  -i /notebooks/Auto_Proofreading/Compartments/Axon/Poisson_temp/neuron_44797.off -o /notebooks/Auto_Proofreading/Compartments/Axon/Poisson_temp/neuron_44797_poisson.off -s /notebooks/Auto_Proofreading/Compartments/Axon/Poisson_temp/poisson_767068.mls\n",
      "removed temporary input file: /notebooks/Auto_Proofreading/Compartments/Axon/Poisson_temp/neuron_44797.off\n",
      "removed temporary output file: /notebooks/Auto_Proofreading/Compartments/Axon/Poisson_temp/neuron_44797_poisson.off\n",
      "mesh.is_watertight = True\n",
      "/notebooks/Auto_Proofreading/Compartments/Axon/Poisson_temp/poisson_767068.mls is being deleted....\n",
      "--- 1) Finished unpacking preprocessed materials: 1581.531085729599\n",
      "total_edges = [['S0', 'L0'], ['S0', 'L1'], ['S0', 'L2'], ['S0', 'L3'], ['S0', 'L5'], ['S0', 'L10'], ['S1', 'L1'], ['S1', 'L4'], ['S1', 'L6'], ['S1', 'L7'], ['S1', 'L8'], ['S1', 'L9']]\n",
      "--- 2) Finished creating neuron connectivity graph: 0.00019073486328125\n",
      "Having to generate soma_meshes_face_idx because none in preprocessed data\n",
      "--- 3a) Finshed generating soma_meshes_face_idx: 1.1759157180786133\n",
      "Using precomputed volume ratio\n",
      "Using precomputed volume ratio\n",
      "--- 3) Finshed generating soma objects and adding them to concept graph: 0.23076987266540527\n",
      "--- 4a) Finshed generating curr_limb_meshes_face_idx: 3.797407388687134\n",
      "curr_limb_concept_networks= {0: [<networkx_utils.GraphOrderedEdges object at 0x7f62a0104dd8>]}\n",
      "curr_limb_concept_networks= {1: [<networkx_utils.GraphOrderedEdges object at 0x7f62a01041d0>], 0: [<networkx_utils.GraphOrderedEdges object at 0x7f62a0104860>]}\n",
      "curr_limb_concept_networks= {0: [<networkx_utils.GraphOrderedEdges object at 0x7f62a12c9c50>]}\n",
      "curr_limb_concept_networks= {0: [<networkx_utils.GraphOrderedEdges object at 0x7f62a0104160>]}\n",
      "curr_limb_concept_networks= {1: [<networkx_utils.GraphOrderedEdges object at 0x7f62461ec4e0>]}\n",
      "curr_limb_concept_networks= {0: [<networkx_utils.GraphOrderedEdges object at 0x7f62a2cfab00>]}\n",
      "curr_limb_concept_networks= {1: [<networkx_utils.GraphOrderedEdges object at 0x7f62a2cfa4a8>]}\n",
      "curr_limb_concept_networks= {1: [<networkx_utils.GraphOrderedEdges object at 0x7f62a2cfac18>]}\n",
      "curr_limb_concept_networks= {1: [<networkx_utils.GraphOrderedEdges object at 0x7f62a2cfa7b8>]}\n",
      "curr_limb_concept_networks= {1: [<networkx_utils.GraphOrderedEdges object at 0x7f62a2cfa2e8>]}\n",
      "curr_limb_concept_networks= {0: [<networkx_utils.GraphOrderedEdges object at 0x7f624d819518>]}\n",
      "Concept graph size was 1 or less so returning original\n",
      "--- 4) Finshed generating Limb objects and adding them to concept graph: 2.203784227371216\n",
      "--- 5) SKIPPING Doing the adaptive mesh correspondence on the meshparty preprocessing ---\n",
      "--- 6) SKIPPING Using the computed_attribute_dict to populate neuron attributes ---\n",
      "self.n_limbs = 11\n",
      "7) Calculating the spines for the neuorn if do not already exist\n",
      "7a) calculating spines because didn't exist\n",
      "query = median_mesh_center > 140 and n_faces_branch>100\n",
      "smoothness_threshold = 0.08\n",
      "The median_mesh_center was requested but has not already been calculated so calculating now.... \n",
      "Working on limb L0 branch 36\n",
      "Working on limb L0 branch 23\n",
      "Working on limb L0 branch 35\n",
      "Working on limb L0 branch 17\n",
      "Working on limb L0 branch 22\n",
      "Working on limb L0 branch 44\n",
      "Working on limb L0 branch 45\n",
      "Working on limb L0 branch 12\n",
      "Working on limb L0 branch 16\n",
      "Working on limb L0 branch 47\n",
      "Working on limb L0 branch 48\n",
      "Working on limb L0 branch 57\n",
      "Working on limb L0 branch 58\n",
      "Working on limb L0 branch 13\n",
      "Working on limb L0 branch 15\n",
      "Working on limb L0 branch 40\n",
      "Working on limb L0 branch 49\n",
      "Working on limb L0 branch 10\n",
      "Working on limb L0 branch 11\n",
      "Working on limb L0 branch 41\n",
      "Working on limb L0 branch 43\n",
      "Working on limb L0 branch 32\n",
      "Working on limb L0 branch 50\n",
      "Working on limb L0 branch 8\n",
      "Working on limb L0 branch 9\n",
      "Working on limb L0 branch 21\n",
      "Working on limb L0 branch 39\n",
      "Working on limb L0 branch 52\n",
      "Working on limb L0 branch 53\n",
      "Working on limb L0 branch 6\n",
      "Working on limb L0 branch 7\n",
      "Working on limb L0 branch 14\n",
      "Working on limb L0 branch 20\n",
      "Working on limb L0 branch 37\n",
      "Working on limb L0 branch 42\n",
      "Working on limb L0 branch 46\n",
      "Working on limb L0 branch 54\n",
      "Working on limb L0 branch 3\n",
      "Working on limb L0 branch 5\n",
      "Working on limb L0 branch 33\n",
      "Working on limb L0 branch 38\n",
      "Working on limb L0 branch 34\n",
      "Working on limb L0 branch 51\n",
      "Working on limb L0 branch 2\n",
      "Working on limb L0 branch 4\n",
      "Working on limb L0 branch 18\n",
      "Working on limb L0 branch 30\n",
      "Working on limb L0 branch 55\n",
      "Working on limb L0 branch 56\n",
      "Working on limb L0 branch 0\n",
      "Working on limb L0 branch 1\n",
      "Working on limb L0 branch 24\n",
      "Working on limb L0 branch 29\n",
      "Working on limb L0 branch 31\n",
      "Working on limb L0 branch 27\n",
      "Working on limb L0 branch 28\n",
      "Working on limb L0 branch 19\n",
      "Working on limb L0 branch 25\n",
      "Working on limb L0 branch 26\n",
      "Working on limb L1 branch 38\n",
      "Working on limb L1 branch 11\n",
      "Working on limb L1 branch 37\n",
      "Working on limb L1 branch 35\n",
      "Working on limb L1 branch 36\n",
      "Working on limb L1 branch 31\n",
      "Working on limb L1 branch 34\n",
      "Working on limb L1 branch 41\n",
      "Working on limb L1 branch 42\n",
      "Working on limb L1 branch 30\n",
      "Working on limb L1 branch 32\n",
      "Working on limb L1 branch 28\n",
      "Working on limb L1 branch 33\n",
      "Working on limb L1 branch 39\n",
      "Working on limb L1 branch 40\n",
      "Working on limb L1 branch 19\n",
      "Working on limb L1 branch 29\n",
      "Working on limb L1 branch 24\n",
      "Working on limb L1 branch 25\n",
      "Working on limb L1 branch 26\n",
      "Working on limb L1 branch 27\n",
      "Working on limb L1 branch 13\n",
      "Working on limb L1 branch 16\n",
      "Working on limb L1 branch 18\n",
      "Working on limb L1 branch 22\n",
      "Working on limb L1 branch 15\n",
      "Working on limb L1 branch 20\n",
      "Working on limb L1 branch 12\n",
      "Working on limb L1 branch 17\n",
      "Working on limb L1 branch 10\n",
      "Working on limb L1 branch 14\n",
      "Working on limb L1 branch 21\n",
      "Working on limb L1 branch 23\n",
      "Working on limb L1 branch 8\n",
      "Working on limb L1 branch 9\n",
      "Working on limb L1 branch 4\n",
      "Working on limb L1 branch 6\n",
      "Working on limb L1 branch 2\n",
      "Working on limb L1 branch 3\n",
      "Working on limb L1 branch 5\n",
      "Working on limb L1 branch 7\n",
      "Working on limb L1 branch 0\n",
      "Working on limb L1 branch 1\n",
      "Working on limb L2 branch 0\n",
      "Working on limb L2 branch 1\n",
      "Working on limb L2 branch 2\n",
      "Working on limb L2 branch 5\n",
      "Working on limb L2 branch 6\n",
      "Working on limb L2 branch 10\n",
      "Working on limb L2 branch 11\n",
      "Working on limb L2 branch 3\n",
      "Working on limb L2 branch 7\n",
      "Working on limb L2 branch 15\n",
      "Working on limb L2 branch 17\n",
      "Working on limb L2 branch 4\n",
      "Working on limb L2 branch 8\n",
      "Working on limb L2 branch 9\n",
      "Working on limb L2 branch 12\n",
      "Working on limb L2 branch 16\n",
      "Working on limb L2 branch 13\n",
      "Working on limb L2 branch 14\n",
      "Working on limb L2 branch 18\n",
      "Working on limb L2 branch 19\n",
      "Working on limb L2 branch 21\n",
      "Working on limb L2 branch 22\n",
      "Working on limb L2 branch 23\n",
      "Working on limb L2 branch 28\n",
      "Working on limb L2 branch 20\n",
      "Working on limb L2 branch 24\n",
      "Working on limb L2 branch 25\n",
      "Working on limb L2 branch 33\n",
      "Working on limb L2 branch 34\n",
      "Working on limb L2 branch 26\n",
      "Working on limb L2 branch 27\n",
      "Working on limb L2 branch 29\n",
      "Working on limb L2 branch 31\n",
      "Working on limb L2 branch 35\n",
      "Working on limb L2 branch 39\n",
      "Working on limb L2 branch 40\n"
     ]
    },
    {
     "name": "stdout",
     "output_type": "stream",
     "text": [
      "Working on limb L2 branch 32\n",
      "Working on limb L2 branch 37\n",
      "Working on limb L2 branch 30\n",
      "Working on limb L2 branch 36\n",
      "Working on limb L2 branch 42\n",
      "Working on limb L2 branch 43\n",
      "Working on limb L2 branch 38\n",
      "Working on limb L2 branch 41\n",
      "Working on limb L3 branch 26\n",
      "Working on limb L3 branch 2\n",
      "Working on limb L3 branch 23\n",
      "Working on limb L3 branch 12\n",
      "Working on limb L3 branch 20\n",
      "Working on limb L3 branch 0\n",
      "Working on limb L3 branch 7\n",
      "Working on limb L3 branch 5\n",
      "Working on limb L3 branch 21\n",
      "Working on limb L3 branch 3\n",
      "Working on limb L3 branch 6\n",
      "Working on limb L3 branch 1\n",
      "Working on limb L3 branch 22\n",
      "Working on limb L3 branch 9\n",
      "Working on limb L3 branch 10\n",
      "Working on limb L3 branch 19\n",
      "Working on limb L3 branch 24\n",
      "Working on limb L3 branch 25\n",
      "Working on limb L3 branch 16\n",
      "Working on limb L3 branch 17\n",
      "Working on limb L3 branch 18\n",
      "Working on limb L3 branch 27\n",
      "Working on limb L3 branch 28\n",
      "Working on limb L3 branch 8\n",
      "Working on limb L3 branch 15\n",
      "Working on limb L3 branch 31\n",
      "Working on limb L3 branch 32\n",
      "Working on limb L3 branch 11\n",
      "Working on limb L3 branch 13\n",
      "Working on limb L3 branch 29\n",
      "Working on limb L3 branch 30\n",
      "Working on limb L3 branch 4\n",
      "Working on limb L3 branch 14\n",
      "Working on limb L5 branch 3\n",
      "Working on limb L5 branch 2\n",
      "Working on limb L5 branch 4\n",
      "Working on limb L5 branch 0\n",
      "Working on limb L5 branch 1\n",
      "Working on limb L5 branch 5\n",
      "Working on limb L5 branch 6\n",
      "Working on limb L10 branch 0\n",
      "Working on limb L4 branch 4\n",
      "Working on limb L4 branch 0\n",
      "Working on limb L4 branch 5\n",
      "Working on limb L4 branch 6\n",
      "Working on limb L4 branch 7\n",
      "Working on limb L4 branch 1\n",
      "Working on limb L4 branch 8\n",
      "Working on limb L4 branch 9\n",
      "Working on limb L4 branch 10\n",
      "Working on limb L4 branch 11\n",
      "Working on limb L4 branch 13\n",
      "Working on limb L4 branch 15\n",
      "Working on limb L4 branch 16\n",
      "Working on limb L4 branch 18\n",
      "Working on limb L4 branch 14\n",
      "Working on limb L4 branch 21\n",
      "Working on limb L4 branch 27\n",
      "Working on limb L4 branch 30\n",
      "Working on limb L4 branch 31\n",
      "Working on limb L4 branch 20\n",
      "Working on limb L4 branch 22\n",
      "Working on limb L4 branch 24\n",
      "Working on limb L4 branch 26\n",
      "Working on limb L4 branch 28\n",
      "Working on limb L4 branch 2\n",
      "Working on limb L4 branch 19\n",
      "Working on limb L4 branch 12\n",
      "Working on limb L4 branch 23\n",
      "Working on limb L4 branch 25\n",
      "Working on limb L4 branch 29\n",
      "Working on limb L4 branch 3\n",
      "Working on limb L4 branch 17\n",
      "Working on limb L6 branch 13\n",
      "Working on limb L6 branch 7\n",
      "Working on limb L6 branch 10\n",
      "Working on limb L6 branch 14\n",
      "Working on limb L6 branch 9\n",
      "Working on limb L6 branch 11\n",
      "Working on limb L6 branch 2\n",
      "Working on limb L6 branch 12\n",
      "Working on limb L6 branch 8\n",
      "Working on limb L6 branch 15\n",
      "Working on limb L6 branch 3\n",
      "Working on limb L6 branch 4\n",
      "Working on limb L6 branch 0\n",
      "Working on limb L6 branch 5\n",
      "Working on limb L6 branch 1\n",
      "Working on limb L6 branch 6\n",
      "Working on limb L6 branch 16\n",
      "Working on limb L7 branch 1\n",
      "Working on limb L7 branch 2\n",
      "Working on limb L7 branch 3\n",
      "Working on limb L7 branch 0\n",
      "Working on limb L7 branch 4\n",
      "Working on limb L7 branch 7\n",
      "Working on limb L7 branch 8\n",
      "Working on limb L7 branch 5\n",
      "Working on limb L7 branch 6\n",
      "Working on limb L7 branch 9\n",
      "Working on limb L7 branch 10\n",
      "Working on limb L7 branch 11\n",
      "Working on limb L7 branch 12\n",
      "Working on limb L7 branch 13\n",
      "Working on limb L7 branch 14\n",
      "Working on limb L7 branch 15\n",
      "Working on limb L7 branch 16\n",
      "Working on limb L7 branch 17\n",
      "Working on limb L8 branch 10\n",
      "Working on limb L8 branch 5\n",
      "Working on limb L8 branch 9\n",
      "Working on limb L8 branch 4\n",
      "Working on limb L8 branch 7\n",
      "Working on limb L8 branch 1\n",
      "Working on limb L8 branch 3\n",
      "Working on limb L8 branch 6\n",
      "Working on limb L8 branch 8\n",
      "Working on limb L8 branch 0\n",
      "Working on limb L8 branch 2\n",
      "Working on limb L9 branch 1\n",
      "Working on limb L9 branch 2\n",
      "Working on limb L9 branch 4\n",
      "Working on limb L9 branch 0\n",
      "Working on limb L9 branch 3\n",
      "functions_list = [<function median_mesh_center at 0x7f6308a79488>, <function n_faces_branch at 0x7f6308a79048>]\n"
     ]
    },
    {
     "data": {
      "application/vnd.jupyter.widget-view+json": {
       "model_id": "dac016330036443dbdc7c075428c5b75",
       "version_major": 2,
       "version_minor": 0
      },
      "text/plain": [
       "HBox(children=(FloatProgress(value=0.0, max=27.0), HTML(value='')))"
      ]
     },
     "metadata": {},
     "output_type": "display_data"
    },
    {
     "name": "stdout",
     "output_type": "stream",
     "text": [
      "\n"
     ]
    },
    {
     "data": {
      "application/vnd.jupyter.widget-view+json": {
       "model_id": "8ecedd2e04e5470a8acce597b0c10719",
       "version_major": 2,
       "version_minor": 0
      },
      "text/plain": [
       "HBox(children=(FloatProgress(value=0.0, max=7.0), HTML(value='')))"
      ]
     },
     "metadata": {},
     "output_type": "display_data"
    },
    {
     "name": "stdout",
     "output_type": "stream",
     "text": [
      "\n"
     ]
    },
    {
     "data": {
      "application/vnd.jupyter.widget-view+json": {
       "model_id": "d8e40089199c4c0384dfc403aff76fb0",
       "version_major": 2,
       "version_minor": 0
      },
      "text/plain": [
       "HBox(children=(FloatProgress(value=0.0, max=18.0), HTML(value='')))"
      ]
     },
     "metadata": {},
     "output_type": "display_data"
    },
    {
     "name": "stdout",
     "output_type": "stream",
     "text": [
      "\n"
     ]
    },
    {
     "data": {
      "application/vnd.jupyter.widget-view+json": {
       "model_id": "a581be322b82466fbe8fcfa80616b1a9",
       "version_major": 2,
       "version_minor": 0
      },
      "text/plain": [
       "HBox(children=(FloatProgress(value=0.0, max=7.0), HTML(value='')))"
      ]
     },
     "metadata": {},
     "output_type": "display_data"
    },
    {
     "name": "stdout",
     "output_type": "stream",
     "text": [
      "\n"
     ]
    },
    {
     "data": {
      "application/vnd.jupyter.widget-view+json": {
       "model_id": "a999027ca7fc42118e33765c02198214",
       "version_major": 2,
       "version_minor": 0
      },
      "text/plain": [
       "HBox(children=(FloatProgress(value=0.0, max=64.0), HTML(value='')))"
      ]
     },
     "metadata": {},
     "output_type": "display_data"
    },
    {
     "name": "stdout",
     "output_type": "stream",
     "text": [
      "\n"
     ]
    },
    {
     "data": {
      "application/vnd.jupyter.widget-view+json": {
       "model_id": "401bf2fc023241c7af38a7f08fa2679d",
       "version_major": 2,
       "version_minor": 0
      },
      "text/plain": [
       "HBox(children=(FloatProgress(value=0.0, max=68.0), HTML(value='')))"
      ]
     },
     "metadata": {},
     "output_type": "display_data"
    },
    {
     "name": "stdout",
     "output_type": "stream",
     "text": [
      "\n"
     ]
    },
    {
     "data": {
      "application/vnd.jupyter.widget-view+json": {
       "model_id": "539dd1a214d84937b98f79676028879b",
       "version_major": 2,
       "version_minor": 0
      },
      "text/plain": [
       "HBox(children=(FloatProgress(value=0.0, max=64.0), HTML(value='')))"
      ]
     },
     "metadata": {},
     "output_type": "display_data"
    },
    {
     "name": "stdout",
     "output_type": "stream",
     "text": [
      "\n"
     ]
    },
    {
     "data": {
      "application/vnd.jupyter.widget-view+json": {
       "model_id": "ee83e1f111024a2dbd9b6550992bf886",
       "version_major": 2,
       "version_minor": 0
      },
      "text/plain": [
       "HBox(children=(FloatProgress(value=0.0, max=74.0), HTML(value='')))"
      ]
     },
     "metadata": {},
     "output_type": "display_data"
    },
    {
     "name": "stdout",
     "output_type": "stream",
     "text": [
      "\n"
     ]
    },
    {
     "data": {
      "application/vnd.jupyter.widget-view+json": {
       "model_id": "f78486ec25b9425cba9a3203d1aca5cc",
       "version_major": 2,
       "version_minor": 0
      },
      "text/plain": [
       "HBox(children=(FloatProgress(value=0.0, max=69.0), HTML(value='')))"
      ]
     },
     "metadata": {},
     "output_type": "display_data"
    },
    {
     "name": "stdout",
     "output_type": "stream",
     "text": [
      "\n"
     ]
    },
    {
     "data": {
      "application/vnd.jupyter.widget-view+json": {
       "model_id": "2415b87b1ec942fcbe6a4ff74f489ac9",
       "version_major": 2,
       "version_minor": 0
      },
      "text/plain": [
       "HBox(children=(FloatProgress(value=0.0, max=16.0), HTML(value='')))"
      ]
     },
     "metadata": {},
     "output_type": "display_data"
    },
    {
     "name": "stdout",
     "output_type": "stream",
     "text": [
      "\n"
     ]
    },
    {
     "data": {
      "application/vnd.jupyter.widget-view+json": {
       "model_id": "e0bfc74291f44e199f7fb04d65191950",
       "version_major": 2,
       "version_minor": 0
      },
      "text/plain": [
       "HBox(children=(FloatProgress(value=0.0, max=41.0), HTML(value='')))"
      ]
     },
     "metadata": {},
     "output_type": "display_data"
    },
    {
     "name": "stdout",
     "output_type": "stream",
     "text": [
      "\n"
     ]
    },
    {
     "data": {
      "application/vnd.jupyter.widget-view+json": {
       "model_id": "49503e7457de446bb6d2c4ef320f93eb",
       "version_major": 2,
       "version_minor": 0
      },
      "text/plain": [
       "HBox(children=(FloatProgress(value=0.0, max=43.0), HTML(value='')))"
      ]
     },
     "metadata": {},
     "output_type": "display_data"
    },
    {
     "name": "stdout",
     "output_type": "stream",
     "text": [
      "\n"
     ]
    },
    {
     "data": {
      "application/vnd.jupyter.widget-view+json": {
       "model_id": "d98df2a20aeb453fad4faf6480225265",
       "version_major": 2,
       "version_minor": 0
      },
      "text/plain": [
       "HBox(children=(FloatProgress(value=0.0, max=55.0), HTML(value='')))"
      ]
     },
     "metadata": {},
     "output_type": "display_data"
    },
    {
     "name": "stdout",
     "output_type": "stream",
     "text": [
      "\n"
     ]
    },
    {
     "data": {
      "application/vnd.jupyter.widget-view+json": {
       "model_id": "6ba7712e5ab044f7be09922bfefbe66a",
       "version_major": 2,
       "version_minor": 0
      },
      "text/plain": [
       "HBox(children=(FloatProgress(value=0.0, max=17.0), HTML(value='')))"
      ]
     },
     "metadata": {},
     "output_type": "display_data"
    },
    {
     "name": "stdout",
     "output_type": "stream",
     "text": [
      "\n"
     ]
    },
    {
     "data": {
      "application/vnd.jupyter.widget-view+json": {
       "model_id": "854857615eed4b6ca75dbe5938785206",
       "version_major": 2,
       "version_minor": 0
      },
      "text/plain": [
       "HBox(children=(FloatProgress(value=0.0, max=4.0), HTML(value='')))"
      ]
     },
     "metadata": {},
     "output_type": "display_data"
    },
    {
     "name": "stdout",
     "output_type": "stream",
     "text": [
      "\n"
     ]
    },
    {
     "data": {
      "application/vnd.jupyter.widget-view+json": {
       "model_id": "a1b887edc87446a78cfc862d641a5974",
       "version_major": 2,
       "version_minor": 0
      },
      "text/plain": [
       "HBox(children=(FloatProgress(value=0.0, max=24.0), HTML(value='')))"
      ]
     },
     "metadata": {},
     "output_type": "display_data"
    },
    {
     "name": "stdout",
     "output_type": "stream",
     "text": [
      "\n"
     ]
    },
    {
     "data": {
      "application/vnd.jupyter.widget-view+json": {
       "model_id": "7c94d6dd23494afd9b50cdd9de073b1f",
       "version_major": 2,
       "version_minor": 0
      },
      "text/plain": [
       "HBox(children=(FloatProgress(value=0.0, max=8.0), HTML(value='')))"
      ]
     },
     "metadata": {},
     "output_type": "display_data"
    },
    {
     "name": "stdout",
     "output_type": "stream",
     "text": [
      "\n"
     ]
    },
    {
     "data": {
      "application/vnd.jupyter.widget-view+json": {
       "model_id": "e7363648896b4772ace32225d0cdf71d",
       "version_major": 2,
       "version_minor": 0
      },
      "text/plain": [
       "HBox(children=(FloatProgress(value=0.0, max=19.0), HTML(value='')))"
      ]
     },
     "metadata": {},
     "output_type": "display_data"
    },
    {
     "name": "stdout",
     "output_type": "stream",
     "text": [
      "\n"
     ]
    },
    {
     "data": {
      "application/vnd.jupyter.widget-view+json": {
       "model_id": "a836297c90534669a9d6159653acb1fc",
       "version_major": 2,
       "version_minor": 0
      },
      "text/plain": [
       "HBox(children=(FloatProgress(value=0.0, max=42.0), HTML(value='')))"
      ]
     },
     "metadata": {},
     "output_type": "display_data"
    },
    {
     "name": "stdout",
     "output_type": "stream",
     "text": [
      "\n"
     ]
    },
    {
     "data": {
      "application/vnd.jupyter.widget-view+json": {
       "model_id": "fcc78010b0344677a7beca29fe2dd386",
       "version_major": 2,
       "version_minor": 0
      },
      "text/plain": [
       "HBox(children=(FloatProgress(value=0.0, max=63.0), HTML(value='')))"
      ]
     },
     "metadata": {},
     "output_type": "display_data"
    },
    {
     "name": "stdout",
     "output_type": "stream",
     "text": [
      "\n"
     ]
    },
    {
     "data": {
      "application/vnd.jupyter.widget-view+json": {
       "model_id": "37ba5d341b004c5dab7b0cf002706943",
       "version_major": 2,
       "version_minor": 0
      },
      "text/plain": [
       "HBox(children=(FloatProgress(value=0.0, max=55.0), HTML(value='')))"
      ]
     },
     "metadata": {},
     "output_type": "display_data"
    },
    {
     "name": "stdout",
     "output_type": "stream",
     "text": [
      "\n"
     ]
    },
    {
     "data": {
      "application/vnd.jupyter.widget-view+json": {
       "model_id": "7b3c11f5dcd84418b7a89356a175e09f",
       "version_major": 2,
       "version_minor": 0
      },
      "text/plain": [
       "HBox(children=(FloatProgress(value=0.0, max=79.0), HTML(value='')))"
      ]
     },
     "metadata": {},
     "output_type": "display_data"
    },
    {
     "name": "stdout",
     "output_type": "stream",
     "text": [
      "\n"
     ]
    },
    {
     "data": {
      "application/vnd.jupyter.widget-view+json": {
       "model_id": "80f8f962ce05413b84846500ea807793",
       "version_major": 2,
       "version_minor": 0
      },
      "text/plain": [
       "HBox(children=(FloatProgress(value=0.0, max=11.0), HTML(value='')))"
      ]
     },
     "metadata": {},
     "output_type": "display_data"
    },
    {
     "name": "stdout",
     "output_type": "stream",
     "text": [
      "\n"
     ]
    },
    {
     "data": {
      "application/vnd.jupyter.widget-view+json": {
       "model_id": "d5f0c1d2371841cfa48a3cda58ec8829",
       "version_major": 2,
       "version_minor": 0
      },
      "text/plain": [
       "HBox(children=(FloatProgress(value=0.0, max=10.0), HTML(value='')))"
      ]
     },
     "metadata": {},
     "output_type": "display_data"
    },
    {
     "name": "stdout",
     "output_type": "stream",
     "text": [
      "\n"
     ]
    },
    {
     "data": {
      "application/vnd.jupyter.widget-view+json": {
       "model_id": "560b432595004982b4764386069c2788",
       "version_major": 2,
       "version_minor": 0
      },
      "text/plain": [
       "HBox(children=(FloatProgress(value=0.0, max=21.0), HTML(value='')))"
      ]
     },
     "metadata": {},
     "output_type": "display_data"
    },
    {
     "name": "stdout",
     "output_type": "stream",
     "text": [
      "\n"
     ]
    },
    {
     "data": {
      "application/vnd.jupyter.widget-view+json": {
       "model_id": "ccc54ba61ef6496d93cb7647da8044d8",
       "version_major": 2,
       "version_minor": 0
      },
      "text/plain": [
       "HBox(children=(FloatProgress(value=0.0, max=40.0), HTML(value='')))"
      ]
     },
     "metadata": {},
     "output_type": "display_data"
    },
    {
     "name": "stdout",
     "output_type": "stream",
     "text": [
      "\n"
     ]
    },
    {
     "data": {
      "application/vnd.jupyter.widget-view+json": {
       "model_id": "e03a855f84534733876ed59ec543623b",
       "version_major": 2,
       "version_minor": 0
      },
      "text/plain": [
       "HBox(children=(FloatProgress(value=0.0, max=22.0), HTML(value='')))"
      ]
     },
     "metadata": {},
     "output_type": "display_data"
    },
    {
     "name": "stdout",
     "output_type": "stream",
     "text": [
      "\n"
     ]
    },
    {
     "data": {
      "application/vnd.jupyter.widget-view+json": {
       "model_id": "40a51bdcf62340179e611f0766891156",
       "version_major": 2,
       "version_minor": 0
      },
      "text/plain": [
       "HBox(children=(FloatProgress(value=0.0, max=15.0), HTML(value='')))"
      ]
     },
     "metadata": {},
     "output_type": "display_data"
    },
    {
     "name": "stdout",
     "output_type": "stream",
     "text": [
      "\n"
     ]
    },
    {
     "data": {
      "application/vnd.jupyter.widget-view+json": {
       "model_id": "a31682abc9fc45ee8cf57b094ce0672c",
       "version_major": 2,
       "version_minor": 0
      },
      "text/plain": [
       "HBox(children=(FloatProgress(value=0.0, max=10.0), HTML(value='')))"
      ]
     },
     "metadata": {},
     "output_type": "display_data"
    },
    {
     "name": "stdout",
     "output_type": "stream",
     "text": [
      "\n"
     ]
    },
    {
     "data": {
      "application/vnd.jupyter.widget-view+json": {
       "model_id": "31dffa07820f42e9bc638e13383ac1c6",
       "version_major": 2,
       "version_minor": 0
      },
      "text/plain": [
       "HBox(children=(FloatProgress(value=0.0, max=7.0), HTML(value='')))"
      ]
     },
     "metadata": {},
     "output_type": "display_data"
    },
    {
     "name": "stdout",
     "output_type": "stream",
     "text": [
      "\n"
     ]
    },
    {
     "data": {
      "application/vnd.jupyter.widget-view+json": {
       "model_id": "dfe413ba3eb64c9481a21d26330e854f",
       "version_major": 2,
       "version_minor": 0
      },
      "text/plain": [
       "HBox(children=(FloatProgress(value=0.0, max=12.0), HTML(value='')))"
      ]
     },
     "metadata": {},
     "output_type": "display_data"
    },
    {
     "name": "stdout",
     "output_type": "stream",
     "text": [
      "\n"
     ]
    },
    {
     "data": {
      "application/vnd.jupyter.widget-view+json": {
       "model_id": "8cb49a4c7d5f4423b197ab71e11c2c77",
       "version_major": 2,
       "version_minor": 0
      },
      "text/plain": [
       "HBox(children=(FloatProgress(value=0.0, max=52.0), HTML(value='')))"
      ]
     },
     "metadata": {},
     "output_type": "display_data"
    },
    {
     "name": "stdout",
     "output_type": "stream",
     "text": [
      "\n"
     ]
    },
    {
     "data": {
      "application/vnd.jupyter.widget-view+json": {
       "model_id": "c700d73ab14a417aaaf5ec3dc766c0f4",
       "version_major": 2,
       "version_minor": 0
      },
      "text/plain": [
       "HBox(children=(FloatProgress(value=0.0, max=7.0), HTML(value='')))"
      ]
     },
     "metadata": {},
     "output_type": "display_data"
    },
    {
     "name": "stdout",
     "output_type": "stream",
     "text": [
      "\n"
     ]
    },
    {
     "data": {
      "application/vnd.jupyter.widget-view+json": {
       "model_id": "32d88789f18f47a589f7f590256afe67",
       "version_major": 2,
       "version_minor": 0
      },
      "text/plain": [
       "HBox(children=(FloatProgress(value=0.0, max=35.0), HTML(value='')))"
      ]
     },
     "metadata": {},
     "output_type": "display_data"
    },
    {
     "name": "stdout",
     "output_type": "stream",
     "text": [
      "\n"
     ]
    },
    {
     "data": {
      "application/vnd.jupyter.widget-view+json": {
       "model_id": "8a23230e675142dea630699028d06209",
       "version_major": 2,
       "version_minor": 0
      },
      "text/plain": [
       "HBox(children=(FloatProgress(value=0.0, max=37.0), HTML(value='')))"
      ]
     },
     "metadata": {},
     "output_type": "display_data"
    },
    {
     "name": "stdout",
     "output_type": "stream",
     "text": [
      "\n"
     ]
    },
    {
     "data": {
      "application/vnd.jupyter.widget-view+json": {
       "model_id": "c9fa231d0c3e4d3089cc05dad2d20670",
       "version_major": 2,
       "version_minor": 0
      },
      "text/plain": [
       "HBox(children=(FloatProgress(value=0.0, max=14.0), HTML(value='')))"
      ]
     },
     "metadata": {},
     "output_type": "display_data"
    },
    {
     "name": "stdout",
     "output_type": "stream",
     "text": [
      "\n"
     ]
    },
    {
     "data": {
      "application/vnd.jupyter.widget-view+json": {
       "model_id": "abb361287ee9433a99396b594e297303",
       "version_major": 2,
       "version_minor": 0
      },
      "text/plain": [
       "HBox(children=(FloatProgress(value=0.0, max=65.0), HTML(value='')))"
      ]
     },
     "metadata": {},
     "output_type": "display_data"
    },
    {
     "name": "stdout",
     "output_type": "stream",
     "text": [
      "\n"
     ]
    },
    {
     "data": {
      "application/vnd.jupyter.widget-view+json": {
       "model_id": "2e4f714a56dc4c7d84c9c0293d20546a",
       "version_major": 2,
       "version_minor": 0
      },
      "text/plain": [
       "HBox(children=(FloatProgress(value=0.0, max=16.0), HTML(value='')))"
      ]
     },
     "metadata": {},
     "output_type": "display_data"
    },
    {
     "name": "stdout",
     "output_type": "stream",
     "text": [
      "\n"
     ]
    },
    {
     "data": {
      "application/vnd.jupyter.widget-view+json": {
       "model_id": "ecc5e8f02bdc40a4b4a80bf6e427cd73",
       "version_major": 2,
       "version_minor": 0
      },
      "text/plain": [
       "HBox(children=(FloatProgress(value=0.0, max=73.0), HTML(value='')))"
      ]
     },
     "metadata": {},
     "output_type": "display_data"
    },
    {
     "name": "stdout",
     "output_type": "stream",
     "text": [
      "\n"
     ]
    },
    {
     "data": {
      "application/vnd.jupyter.widget-view+json": {
       "model_id": "5f0d24207ade441aa33f809d6813320e",
       "version_major": 2,
       "version_minor": 0
      },
      "text/plain": [
       "HBox(children=(FloatProgress(value=0.0, max=13.0), HTML(value='')))"
      ]
     },
     "metadata": {},
     "output_type": "display_data"
    },
    {
     "name": "stdout",
     "output_type": "stream",
     "text": [
      "\n"
     ]
    },
    {
     "data": {
      "application/vnd.jupyter.widget-view+json": {
       "model_id": "21b18ae2386340e98a5470e699002f16",
       "version_major": 2,
       "version_minor": 0
      },
      "text/plain": [
       "HBox(children=(FloatProgress(value=0.0, max=7.0), HTML(value='')))"
      ]
     },
     "metadata": {},
     "output_type": "display_data"
    },
    {
     "name": "stdout",
     "output_type": "stream",
     "text": [
      "\n"
     ]
    },
    {
     "data": {
      "application/vnd.jupyter.widget-view+json": {
       "model_id": "1e1f13387a2c44f3999085d31788ceab",
       "version_major": 2,
       "version_minor": 0
      },
      "text/plain": [
       "HBox(children=(FloatProgress(value=0.0, max=33.0), HTML(value='')))"
      ]
     },
     "metadata": {},
     "output_type": "display_data"
    },
    {
     "name": "stdout",
     "output_type": "stream",
     "text": [
      "\n"
     ]
    },
    {
     "data": {
      "application/vnd.jupyter.widget-view+json": {
       "model_id": "3691dd5bcd09432689d3cb6777a4f4ee",
       "version_major": 2,
       "version_minor": 0
      },
      "text/plain": [
       "HBox(children=(FloatProgress(value=0.0, max=26.0), HTML(value='')))"
      ]
     },
     "metadata": {},
     "output_type": "display_data"
    },
    {
     "name": "stdout",
     "output_type": "stream",
     "text": [
      "\n"
     ]
    },
    {
     "data": {
      "application/vnd.jupyter.widget-view+json": {
       "model_id": "92f68ecc1be14ed5b95b64632d3aa2b2",
       "version_major": 2,
       "version_minor": 0
      },
      "text/plain": [
       "HBox(children=(FloatProgress(value=0.0, max=95.0), HTML(value='')))"
      ]
     },
     "metadata": {},
     "output_type": "display_data"
    },
    {
     "name": "stdout",
     "output_type": "stream",
     "text": [
      "\n"
     ]
    },
    {
     "data": {
      "application/vnd.jupyter.widget-view+json": {
       "model_id": "ac6b72721bda4f3da46750d800c3fa39",
       "version_major": 2,
       "version_minor": 0
      },
      "text/plain": [
       "HBox(children=(FloatProgress(value=0.0, max=15.0), HTML(value='')))"
      ]
     },
     "metadata": {},
     "output_type": "display_data"
    },
    {
     "name": "stdout",
     "output_type": "stream",
     "text": [
      "\n"
     ]
    },
    {
     "data": {
      "application/vnd.jupyter.widget-view+json": {
       "model_id": "bcd1bde6b0dc486892b327638e370690",
       "version_major": 2,
       "version_minor": 0
      },
      "text/plain": [
       "HBox(children=(FloatProgress(value=0.0, max=30.0), HTML(value='')))"
      ]
     },
     "metadata": {},
     "output_type": "display_data"
    },
    {
     "name": "stdout",
     "output_type": "stream",
     "text": [
      "\n"
     ]
    },
    {
     "data": {
      "application/vnd.jupyter.widget-view+json": {
       "model_id": "6e403559cc1a4adea7c22401ab0f5671",
       "version_major": 2,
       "version_minor": 0
      },
      "text/plain": [
       "HBox(children=(FloatProgress(value=0.0, max=108.0), HTML(value='')))"
      ]
     },
     "metadata": {},
     "output_type": "display_data"
    },
    {
     "name": "stdout",
     "output_type": "stream",
     "text": [
      "\n"
     ]
    },
    {
     "data": {
      "application/vnd.jupyter.widget-view+json": {
       "model_id": "b327ecc1d1124db684217ec99a6dbfa6",
       "version_major": 2,
       "version_minor": 0
      },
      "text/plain": [
       "HBox(children=(FloatProgress(value=0.0, max=3.0), HTML(value='')))"
      ]
     },
     "metadata": {},
     "output_type": "display_data"
    },
    {
     "name": "stdout",
     "output_type": "stream",
     "text": [
      "\n"
     ]
    },
    {
     "data": {
      "application/vnd.jupyter.widget-view+json": {
       "model_id": "f9929d4f5779453db1f213685ce573cb",
       "version_major": 2,
       "version_minor": 0
      },
      "text/plain": [
       "HBox(children=(FloatProgress(value=0.0, max=34.0), HTML(value='')))"
      ]
     },
     "metadata": {},
     "output_type": "display_data"
    },
    {
     "name": "stdout",
     "output_type": "stream",
     "text": [
      "\n"
     ]
    },
    {
     "data": {
      "application/vnd.jupyter.widget-view+json": {
       "model_id": "73bd39993f0b4486a5d9321751bd4a7a",
       "version_major": 2,
       "version_minor": 0
      },
      "text/plain": [
       "HBox(children=(FloatProgress(value=0.0, max=42.0), HTML(value='')))"
      ]
     },
     "metadata": {},
     "output_type": "display_data"
    },
    {
     "name": "stdout",
     "output_type": "stream",
     "text": [
      "\n"
     ]
    },
    {
     "data": {
      "application/vnd.jupyter.widget-view+json": {
       "model_id": "737cb03fb41444d0a9c883b22629f106",
       "version_major": 2,
       "version_minor": 0
      },
      "text/plain": [
       "HBox(children=(FloatProgress(value=0.0, max=42.0), HTML(value='')))"
      ]
     },
     "metadata": {},
     "output_type": "display_data"
    },
    {
     "name": "stdout",
     "output_type": "stream",
     "text": [
      "\n"
     ]
    },
    {
     "data": {
      "application/vnd.jupyter.widget-view+json": {
       "model_id": "96033f07c12245368d6ca122bed873de",
       "version_major": 2,
       "version_minor": 0
      },
      "text/plain": [
       "HBox(children=(FloatProgress(value=0.0, max=54.0), HTML(value='')))"
      ]
     },
     "metadata": {},
     "output_type": "display_data"
    },
    {
     "name": "stdout",
     "output_type": "stream",
     "text": [
      "\n"
     ]
    },
    {
     "data": {
      "application/vnd.jupyter.widget-view+json": {
       "model_id": "3d32564d45c1468684de70c3c03a8b39",
       "version_major": 2,
       "version_minor": 0
      },
      "text/plain": [
       "HBox(children=(FloatProgress(value=0.0, max=33.0), HTML(value='')))"
      ]
     },
     "metadata": {},
     "output_type": "display_data"
    },
    {
     "name": "stdout",
     "output_type": "stream",
     "text": [
      "\n"
     ]
    },
    {
     "data": {
      "application/vnd.jupyter.widget-view+json": {
       "model_id": "341b21c5fd8c40c4b64574f2296f62f6",
       "version_major": 2,
       "version_minor": 0
      },
      "text/plain": [
       "HBox(children=(FloatProgress(value=0.0, max=8.0), HTML(value='')))"
      ]
     },
     "metadata": {},
     "output_type": "display_data"
    },
    {
     "name": "stdout",
     "output_type": "stream",
     "text": [
      "\n"
     ]
    },
    {
     "data": {
      "application/vnd.jupyter.widget-view+json": {
       "model_id": "04914768042a4c42aa1b1f65c30756af",
       "version_major": 2,
       "version_minor": 0
      },
      "text/plain": [
       "HBox(children=(FloatProgress(value=0.0, max=11.0), HTML(value='')))"
      ]
     },
     "metadata": {},
     "output_type": "display_data"
    },
    {
     "name": "stdout",
     "output_type": "stream",
     "text": [
      "\n"
     ]
    },
    {
     "data": {
      "application/vnd.jupyter.widget-view+json": {
       "model_id": "8989bd8066154cb5b270d0e678ffe02c",
       "version_major": 2,
       "version_minor": 0
      },
      "text/plain": [
       "HBox(children=(FloatProgress(value=0.0, max=11.0), HTML(value='')))"
      ]
     },
     "metadata": {},
     "output_type": "display_data"
    },
    {
     "name": "stdout",
     "output_type": "stream",
     "text": [
      "\n"
     ]
    },
    {
     "data": {
      "application/vnd.jupyter.widget-view+json": {
       "model_id": "131dbbd4e33743a7a94ee0bc75dd0741",
       "version_major": 2,
       "version_minor": 0
      },
      "text/plain": [
       "HBox(children=(FloatProgress(value=0.0, max=3.0), HTML(value='')))"
      ]
     },
     "metadata": {},
     "output_type": "display_data"
    },
    {
     "name": "stdout",
     "output_type": "stream",
     "text": [
      "\n"
     ]
    },
    {
     "data": {
      "application/vnd.jupyter.widget-view+json": {
       "model_id": "06d538ebc9464c1a9256d703713c6805",
       "version_major": 2,
       "version_minor": 0
      },
      "text/plain": [
       "HBox(children=(FloatProgress(value=0.0, max=30.0), HTML(value='')))"
      ]
     },
     "metadata": {},
     "output_type": "display_data"
    },
    {
     "name": "stdout",
     "output_type": "stream",
     "text": [
      "\n"
     ]
    },
    {
     "data": {
      "application/vnd.jupyter.widget-view+json": {
       "model_id": "1931b6e86c4a4ea9806ad3130100b682",
       "version_major": 2,
       "version_minor": 0
      },
      "text/plain": [
       "HBox(children=(FloatProgress(value=0.0, max=20.0), HTML(value='')))"
      ]
     },
     "metadata": {},
     "output_type": "display_data"
    },
    {
     "name": "stdout",
     "output_type": "stream",
     "text": [
      "\n"
     ]
    },
    {
     "data": {
      "application/vnd.jupyter.widget-view+json": {
       "model_id": "d7733f43981440dfbd11fea078dbcd85",
       "version_major": 2,
       "version_minor": 0
      },
      "text/plain": [
       "HBox(children=(FloatProgress(value=0.0, max=12.0), HTML(value='')))"
      ]
     },
     "metadata": {},
     "output_type": "display_data"
    },
    {
     "name": "stdout",
     "output_type": "stream",
     "text": [
      "\n"
     ]
    },
    {
     "data": {
      "application/vnd.jupyter.widget-view+json": {
       "model_id": "98a4307127484e61aa0e619853a446d3",
       "version_major": 2,
       "version_minor": 0
      },
      "text/plain": [
       "HBox(children=(FloatProgress(value=0.0, max=10.0), HTML(value='')))"
      ]
     },
     "metadata": {},
     "output_type": "display_data"
    },
    {
     "name": "stdout",
     "output_type": "stream",
     "text": [
      "\n"
     ]
    },
    {
     "data": {
      "application/vnd.jupyter.widget-view+json": {
       "model_id": "da83adfb63314967b2d44ad956e82650",
       "version_major": 2,
       "version_minor": 0
      },
      "text/plain": [
       "HBox(children=(FloatProgress(value=0.0, max=70.0), HTML(value='')))"
      ]
     },
     "metadata": {},
     "output_type": "display_data"
    },
    {
     "name": "stdout",
     "output_type": "stream",
     "text": [
      "\n"
     ]
    },
    {
     "data": {
      "application/vnd.jupyter.widget-view+json": {
       "model_id": "84416fa491904f449abdc85e81d09d86",
       "version_major": 2,
       "version_minor": 0
      },
      "text/plain": [
       "HBox(children=(FloatProgress(value=0.0, max=45.0), HTML(value='')))"
      ]
     },
     "metadata": {},
     "output_type": "display_data"
    },
    {
     "name": "stdout",
     "output_type": "stream",
     "text": [
      "\n"
     ]
    },
    {
     "data": {
      "application/vnd.jupyter.widget-view+json": {
       "model_id": "2bd72f5da05447f8b6907c1886fd673e",
       "version_major": 2,
       "version_minor": 0
      },
      "text/plain": [
       "HBox(children=(FloatProgress(value=0.0, max=7.0), HTML(value='')))"
      ]
     },
     "metadata": {},
     "output_type": "display_data"
    },
    {
     "name": "stdout",
     "output_type": "stream",
     "text": [
      "\n"
     ]
    },
    {
     "data": {
      "application/vnd.jupyter.widget-view+json": {
       "model_id": "5a8668c43d3243899a69fb48813e5f77",
       "version_major": 2,
       "version_minor": 0
      },
      "text/plain": [
       "HBox(children=(FloatProgress(value=0.0, max=18.0), HTML(value='')))"
      ]
     },
     "metadata": {},
     "output_type": "display_data"
    },
    {
     "name": "stdout",
     "output_type": "stream",
     "text": [
      "\n"
     ]
    },
    {
     "data": {
      "application/vnd.jupyter.widget-view+json": {
       "model_id": "d2bee659a9144798acd9e902c57ad9ae",
       "version_major": 2,
       "version_minor": 0
      },
      "text/plain": [
       "HBox(children=(FloatProgress(value=0.0, max=45.0), HTML(value='')))"
      ]
     },
     "metadata": {},
     "output_type": "display_data"
    },
    {
     "name": "stdout",
     "output_type": "stream",
     "text": [
      "\n"
     ]
    },
    {
     "data": {
      "application/vnd.jupyter.widget-view+json": {
       "model_id": "b50d27987b9d401396926b2f41ce579e",
       "version_major": 2,
       "version_minor": 0
      },
      "text/plain": [
       "HBox(children=(FloatProgress(value=0.0, max=9.0), HTML(value='')))"
      ]
     },
     "metadata": {},
     "output_type": "display_data"
    },
    {
     "name": "stdout",
     "output_type": "stream",
     "text": [
      "\n"
     ]
    },
    {
     "data": {
      "application/vnd.jupyter.widget-view+json": {
       "model_id": "f152d637113e42a99ba622285295feae",
       "version_major": 2,
       "version_minor": 0
      },
      "text/plain": [
       "HBox(children=(FloatProgress(value=0.0, max=6.0), HTML(value='')))"
      ]
     },
     "metadata": {},
     "output_type": "display_data"
    },
    {
     "name": "stdout",
     "output_type": "stream",
     "text": [
      "\n"
     ]
    },
    {
     "data": {
      "application/vnd.jupyter.widget-view+json": {
       "model_id": "643d96f2617d4dcb934a9e11488dd567",
       "version_major": 2,
       "version_minor": 0
      },
      "text/plain": [
       "HBox(children=(FloatProgress(value=0.0, max=29.0), HTML(value='')))"
      ]
     },
     "metadata": {},
     "output_type": "display_data"
    },
    {
     "name": "stdout",
     "output_type": "stream",
     "text": [
      "\n"
     ]
    },
    {
     "data": {
      "application/vnd.jupyter.widget-view+json": {
       "model_id": "b25bdbd157b048acafae798d23a78b6b",
       "version_major": 2,
       "version_minor": 0
      },
      "text/plain": [
       "HBox(children=(FloatProgress(value=0.0, max=7.0), HTML(value='')))"
      ]
     },
     "metadata": {},
     "output_type": "display_data"
    },
    {
     "name": "stdout",
     "output_type": "stream",
     "text": [
      "\n"
     ]
    },
    {
     "data": {
      "application/vnd.jupyter.widget-view+json": {
       "model_id": "d54eb02d86e34aa2bbd644b2787cf2ac",
       "version_major": 2,
       "version_minor": 0
      },
      "text/plain": [
       "HBox(children=(FloatProgress(value=0.0, max=18.0), HTML(value='')))"
      ]
     },
     "metadata": {},
     "output_type": "display_data"
    },
    {
     "name": "stdout",
     "output_type": "stream",
     "text": [
      "\n"
     ]
    },
    {
     "data": {
      "application/vnd.jupyter.widget-view+json": {
       "model_id": "70c43cb48b6b4c5f928b9bcbd786dde0",
       "version_major": 2,
       "version_minor": 0
      },
      "text/plain": [
       "HBox(children=(FloatProgress(value=0.0, max=22.0), HTML(value='')))"
      ]
     },
     "metadata": {},
     "output_type": "display_data"
    },
    {
     "name": "stdout",
     "output_type": "stream",
     "text": [
      "\n"
     ]
    },
    {
     "data": {
      "application/vnd.jupyter.widget-view+json": {
       "model_id": "560acf9c2eeb4cf4828de316c7e7fcd1",
       "version_major": 2,
       "version_minor": 0
      },
      "text/plain": [
       "HBox(children=(FloatProgress(value=0.0, max=37.0), HTML(value='')))"
      ]
     },
     "metadata": {},
     "output_type": "display_data"
    },
    {
     "name": "stdout",
     "output_type": "stream",
     "text": [
      "\n"
     ]
    },
    {
     "data": {
      "application/vnd.jupyter.widget-view+json": {
       "model_id": "16386c26e0a847ceb73d647845769e01",
       "version_major": 2,
       "version_minor": 0
      },
      "text/plain": [
       "HBox(children=(FloatProgress(value=0.0, max=35.0), HTML(value='')))"
      ]
     },
     "metadata": {},
     "output_type": "display_data"
    },
    {
     "name": "stdout",
     "output_type": "stream",
     "text": [
      "\n"
     ]
    },
    {
     "data": {
      "application/vnd.jupyter.widget-view+json": {
       "model_id": "ab737567f5424418b06c1497bb24cb5e",
       "version_major": 2,
       "version_minor": 0
      },
      "text/plain": [
       "HBox(children=(FloatProgress(value=0.0, max=8.0), HTML(value='')))"
      ]
     },
     "metadata": {},
     "output_type": "display_data"
    },
    {
     "name": "stdout",
     "output_type": "stream",
     "text": [
      "\n"
     ]
    },
    {
     "data": {
      "application/vnd.jupyter.widget-view+json": {
       "model_id": "2d7775be358548a195ae53b5dda881c8",
       "version_major": 2,
       "version_minor": 0
      },
      "text/plain": [
       "HBox(children=(FloatProgress(value=0.0, max=8.0), HTML(value='')))"
      ]
     },
     "metadata": {},
     "output_type": "display_data"
    },
    {
     "name": "stdout",
     "output_type": "stream",
     "text": [
      "\n"
     ]
    },
    {
     "data": {
      "application/vnd.jupyter.widget-view+json": {
       "model_id": "f221e88af79641b0a36db3de7ea2ec57",
       "version_major": 2,
       "version_minor": 0
      },
      "text/plain": [
       "HBox(children=(FloatProgress(value=0.0, max=16.0), HTML(value='')))"
      ]
     },
     "metadata": {},
     "output_type": "display_data"
    },
    {
     "name": "stdout",
     "output_type": "stream",
     "text": [
      "\n"
     ]
    },
    {
     "data": {
      "application/vnd.jupyter.widget-view+json": {
       "model_id": "0aaf4ad48f90463395137afc0f9f31de",
       "version_major": 2,
       "version_minor": 0
      },
      "text/plain": [
       "HBox(children=(FloatProgress(value=0.0, max=72.0), HTML(value='')))"
      ]
     },
     "metadata": {},
     "output_type": "display_data"
    },
    {
     "name": "stdout",
     "output_type": "stream",
     "text": [
      "\n"
     ]
    },
    {
     "data": {
      "application/vnd.jupyter.widget-view+json": {
       "model_id": "70a6eabfab89439fbf412d18dcfc3f02",
       "version_major": 2,
       "version_minor": 0
      },
      "text/plain": [
       "HBox(children=(FloatProgress(value=0.0, max=29.0), HTML(value='')))"
      ]
     },
     "metadata": {},
     "output_type": "display_data"
    },
    {
     "name": "stdout",
     "output_type": "stream",
     "text": [
      "\n"
     ]
    },
    {
     "data": {
      "application/vnd.jupyter.widget-view+json": {
       "model_id": "5a4e5424ab2040a9a3d7b6f0764f9156",
       "version_major": 2,
       "version_minor": 0
      },
      "text/plain": [
       "HBox(children=(FloatProgress(value=0.0, max=93.0), HTML(value='')))"
      ]
     },
     "metadata": {},
     "output_type": "display_data"
    },
    {
     "name": "stdout",
     "output_type": "stream",
     "text": [
      "\n"
     ]
    },
    {
     "data": {
      "application/vnd.jupyter.widget-view+json": {
       "model_id": "bf1f58a63953434c8973c857e1eb905b",
       "version_major": 2,
       "version_minor": 0
      },
      "text/plain": [
       "HBox(children=(FloatProgress(value=0.0, max=2.0), HTML(value='')))"
      ]
     },
     "metadata": {},
     "output_type": "display_data"
    },
    {
     "name": "stdout",
     "output_type": "stream",
     "text": [
      "\n"
     ]
    },
    {
     "data": {
      "application/vnd.jupyter.widget-view+json": {
       "model_id": "bd57a2fbcdcf4ab18fbbb601f84386df",
       "version_major": 2,
       "version_minor": 0
      },
      "text/plain": [
       "HBox(children=(FloatProgress(value=0.0, max=3.0), HTML(value='')))"
      ]
     },
     "metadata": {},
     "output_type": "display_data"
    },
    {
     "name": "stdout",
     "output_type": "stream",
     "text": [
      "\n"
     ]
    },
    {
     "data": {
      "application/vnd.jupyter.widget-view+json": {
       "model_id": "c470df8c0bfa47bfa3a0a321fcb23577",
       "version_major": 2,
       "version_minor": 0
      },
      "text/plain": [
       "HBox(children=(FloatProgress(value=0.0, max=13.0), HTML(value='')))"
      ]
     },
     "metadata": {},
     "output_type": "display_data"
    },
    {
     "name": "stdout",
     "output_type": "stream",
     "text": [
      "\n"
     ]
    },
    {
     "data": {
      "application/vnd.jupyter.widget-view+json": {
       "model_id": "e594c5ed4710473e9e2489993bc617f1",
       "version_major": 2,
       "version_minor": 0
      },
      "text/plain": [
       "HBox(children=(FloatProgress(value=0.0, max=3.0), HTML(value='')))"
      ]
     },
     "metadata": {},
     "output_type": "display_data"
    },
    {
     "name": "stdout",
     "output_type": "stream",
     "text": [
      "\n"
     ]
    },
    {
     "data": {
      "application/vnd.jupyter.widget-view+json": {
       "model_id": "00c2c13dbfcb465ca84b803b902c6229",
       "version_major": 2,
       "version_minor": 0
      },
      "text/plain": [
       "HBox(children=(FloatProgress(value=0.0, max=7.0), HTML(value='')))"
      ]
     },
     "metadata": {},
     "output_type": "display_data"
    },
    {
     "name": "stdout",
     "output_type": "stream",
     "text": [
      "\n"
     ]
    },
    {
     "data": {
      "application/vnd.jupyter.widget-view+json": {
       "model_id": "27bc29ed2aff4296b5695122456dbaf6",
       "version_major": 2,
       "version_minor": 0
      },
      "text/plain": [
       "HBox(children=(FloatProgress(value=0.0, max=10.0), HTML(value='')))"
      ]
     },
     "metadata": {},
     "output_type": "display_data"
    },
    {
     "name": "stdout",
     "output_type": "stream",
     "text": [
      "\n"
     ]
    },
    {
     "data": {
      "application/vnd.jupyter.widget-view+json": {
       "model_id": "adf46eb4cb1243cfa48072f2bd0a264e",
       "version_major": 2,
       "version_minor": 0
      },
      "text/plain": [
       "HBox(children=(FloatProgress(value=0.0, max=24.0), HTML(value='')))"
      ]
     },
     "metadata": {},
     "output_type": "display_data"
    },
    {
     "name": "stdout",
     "output_type": "stream",
     "text": [
      "\n"
     ]
    },
    {
     "data": {
      "application/vnd.jupyter.widget-view+json": {
       "model_id": "3a7d50149656446e91f183aaff0416c5",
       "version_major": 2,
       "version_minor": 0
      },
      "text/plain": [
       "HBox(children=(FloatProgress(value=0.0, max=10.0), HTML(value='')))"
      ]
     },
     "metadata": {},
     "output_type": "display_data"
    },
    {
     "name": "stdout",
     "output_type": "stream",
     "text": [
      "\n"
     ]
    },
    {
     "data": {
      "application/vnd.jupyter.widget-view+json": {
       "model_id": "a2e5b7d9c98842f0a7889939f3e5e003",
       "version_major": 2,
       "version_minor": 0
      },
      "text/plain": [
       "HBox(children=(FloatProgress(value=0.0, max=12.0), HTML(value='')))"
      ]
     },
     "metadata": {},
     "output_type": "display_data"
    },
    {
     "name": "stdout",
     "output_type": "stream",
     "text": [
      "\n"
     ]
    },
    {
     "data": {
      "application/vnd.jupyter.widget-view+json": {
       "model_id": "c449b33ee9974b0fa2b13867123878d2",
       "version_major": 2,
       "version_minor": 0
      },
      "text/plain": [
       "HBox(children=(FloatProgress(value=0.0, max=28.0), HTML(value='')))"
      ]
     },
     "metadata": {},
     "output_type": "display_data"
    },
    {
     "name": "stdout",
     "output_type": "stream",
     "text": [
      "\n"
     ]
    },
    {
     "data": {
      "application/vnd.jupyter.widget-view+json": {
       "model_id": "347b5b266b2e40e8b6bdb123ef3a6a76",
       "version_major": 2,
       "version_minor": 0
      },
      "text/plain": [
       "HBox(children=(FloatProgress(value=0.0, max=4.0), HTML(value='')))"
      ]
     },
     "metadata": {},
     "output_type": "display_data"
    },
    {
     "name": "stdout",
     "output_type": "stream",
     "text": [
      "\n"
     ]
    },
    {
     "data": {
      "application/vnd.jupyter.widget-view+json": {
       "model_id": "967fb6b54ed6419e9e926cce93ff5033",
       "version_major": 2,
       "version_minor": 0
      },
      "text/plain": [
       "HBox(children=(FloatProgress(value=0.0, max=22.0), HTML(value='')))"
      ]
     },
     "metadata": {},
     "output_type": "display_data"
    },
    {
     "name": "stdout",
     "output_type": "stream",
     "text": [
      "\n"
     ]
    },
    {
     "data": {
      "application/vnd.jupyter.widget-view+json": {
       "model_id": "0943d19cac4a493cbd5e231cc9d70f32",
       "version_major": 2,
       "version_minor": 0
      },
      "text/plain": [
       "HBox(children=(FloatProgress(value=0.0, max=81.0), HTML(value='')))"
      ]
     },
     "metadata": {},
     "output_type": "display_data"
    },
    {
     "name": "stdout",
     "output_type": "stream",
     "text": [
      "\n"
     ]
    },
    {
     "data": {
      "application/vnd.jupyter.widget-view+json": {
       "model_id": "078bfca5599b47908e243187ebf44a44",
       "version_major": 2,
       "version_minor": 0
      },
      "text/plain": [
       "HBox(children=(FloatProgress(value=0.0, max=77.0), HTML(value='')))"
      ]
     },
     "metadata": {},
     "output_type": "display_data"
    },
    {
     "name": "stdout",
     "output_type": "stream",
     "text": [
      "\n"
     ]
    },
    {
     "data": {
      "application/vnd.jupyter.widget-view+json": {
       "model_id": "162bc658d5e740deb2724810fbd72a5b",
       "version_major": 2,
       "version_minor": 0
      },
      "text/plain": [
       "HBox(children=(FloatProgress(value=0.0, max=18.0), HTML(value='')))"
      ]
     },
     "metadata": {},
     "output_type": "display_data"
    },
    {
     "name": "stdout",
     "output_type": "stream",
     "text": [
      "\n"
     ]
    },
    {
     "data": {
      "application/vnd.jupyter.widget-view+json": {
       "model_id": "d2604c6b3e3343619358ad50508c332d",
       "version_major": 2,
       "version_minor": 0
      },
      "text/plain": [
       "HBox(children=(FloatProgress(value=0.0, max=17.0), HTML(value='')))"
      ]
     },
     "metadata": {},
     "output_type": "display_data"
    },
    {
     "name": "stdout",
     "output_type": "stream",
     "text": [
      "\n"
     ]
    },
    {
     "data": {
      "application/vnd.jupyter.widget-view+json": {
       "model_id": "fd615772bb214ec6836374a81f4ea62e",
       "version_major": 2,
       "version_minor": 0
      },
      "text/plain": [
       "HBox(children=(FloatProgress(value=0.0, max=48.0), HTML(value='')))"
      ]
     },
     "metadata": {},
     "output_type": "display_data"
    },
    {
     "name": "stdout",
     "output_type": "stream",
     "text": [
      "\n"
     ]
    },
    {
     "data": {
      "application/vnd.jupyter.widget-view+json": {
       "model_id": "794c30d9c9a84cd595e6227bd1702046",
       "version_major": 2,
       "version_minor": 0
      },
      "text/plain": [
       "HBox(children=(FloatProgress(value=0.0, max=29.0), HTML(value='')))"
      ]
     },
     "metadata": {},
     "output_type": "display_data"
    },
    {
     "name": "stdout",
     "output_type": "stream",
     "text": [
      "\n"
     ]
    },
    {
     "data": {
      "application/vnd.jupyter.widget-view+json": {
       "model_id": "87141c0b445c4f37b597f33f80021ddc",
       "version_major": 2,
       "version_minor": 0
      },
      "text/plain": [
       "HBox(children=(FloatProgress(value=0.0, max=24.0), HTML(value='')))"
      ]
     },
     "metadata": {},
     "output_type": "display_data"
    },
    {
     "name": "stdout",
     "output_type": "stream",
     "text": [
      "\n"
     ]
    },
    {
     "data": {
      "application/vnd.jupyter.widget-view+json": {
       "model_id": "40a5478c8ddb4fd6aa9931a28d73270b",
       "version_major": 2,
       "version_minor": 0
      },
      "text/plain": [
       "HBox(children=(FloatProgress(value=0.0, max=2.0), HTML(value='')))"
      ]
     },
     "metadata": {},
     "output_type": "display_data"
    },
    {
     "name": "stdout",
     "output_type": "stream",
     "text": [
      "\n"
     ]
    },
    {
     "data": {
      "application/vnd.jupyter.widget-view+json": {
       "model_id": "ef6ac3a969e74c2390d72b9de2db4851",
       "version_major": 2,
       "version_minor": 0
      },
      "text/plain": [
       "HBox(children=(FloatProgress(value=0.0, max=26.0), HTML(value='')))"
      ]
     },
     "metadata": {},
     "output_type": "display_data"
    },
    {
     "name": "stdout",
     "output_type": "stream",
     "text": [
      "\n"
     ]
    },
    {
     "data": {
      "application/vnd.jupyter.widget-view+json": {
       "model_id": "e398b62ff874447f923b4936c6887eaa",
       "version_major": 2,
       "version_minor": 0
      },
      "text/plain": [
       "HBox(children=(FloatProgress(value=0.0, max=11.0), HTML(value='')))"
      ]
     },
     "metadata": {},
     "output_type": "display_data"
    },
    {
     "name": "stdout",
     "output_type": "stream",
     "text": [
      "\n"
     ]
    },
    {
     "data": {
      "application/vnd.jupyter.widget-view+json": {
       "model_id": "4d3e0ad89396403fa085b940d8ff5b8c",
       "version_major": 2,
       "version_minor": 0
      },
      "text/plain": [
       "HBox(children=(FloatProgress(value=0.0, max=9.0), HTML(value='')))"
      ]
     },
     "metadata": {},
     "output_type": "display_data"
    },
    {
     "name": "stdout",
     "output_type": "stream",
     "text": [
      "\n"
     ]
    },
    {
     "data": {
      "application/vnd.jupyter.widget-view+json": {
       "model_id": "0bb269cc26fb4109be24c5cd43982a80",
       "version_major": 2,
       "version_minor": 0
      },
      "text/plain": [
       "HBox(children=(FloatProgress(value=0.0, max=10.0), HTML(value='')))"
      ]
     },
     "metadata": {},
     "output_type": "display_data"
    },
    {
     "name": "stdout",
     "output_type": "stream",
     "text": [
      "\n"
     ]
    },
    {
     "data": {
      "application/vnd.jupyter.widget-view+json": {
       "model_id": "dd25b4e380324c448a230cbefcf90e74",
       "version_major": 2,
       "version_minor": 0
      },
      "text/plain": [
       "HBox(children=(FloatProgress(value=0.0, max=29.0), HTML(value='')))"
      ]
     },
     "metadata": {},
     "output_type": "display_data"
    },
    {
     "name": "stdout",
     "output_type": "stream",
     "text": [
      "\n"
     ]
    },
    {
     "data": {
      "application/vnd.jupyter.widget-view+json": {
       "model_id": "f6b6ff8c91f34f47a3a4c49dbd5caaf7",
       "version_major": 2,
       "version_minor": 0
      },
      "text/plain": [
       "HBox(children=(FloatProgress(value=0.0, max=11.0), HTML(value='')))"
      ]
     },
     "metadata": {},
     "output_type": "display_data"
    },
    {
     "name": "stdout",
     "output_type": "stream",
     "text": [
      "\n"
     ]
    },
    {
     "data": {
      "application/vnd.jupyter.widget-view+json": {
       "model_id": "f00e70d737db417aba4ba549e73e2376",
       "version_major": 2,
       "version_minor": 0
      },
      "text/plain": [
       "HBox(children=(FloatProgress(value=0.0, max=46.0), HTML(value='')))"
      ]
     },
     "metadata": {},
     "output_type": "display_data"
    },
    {
     "name": "stdout",
     "output_type": "stream",
     "text": [
      "\n"
     ]
    },
    {
     "data": {
      "application/vnd.jupyter.widget-view+json": {
       "model_id": "0e54a949969d4a06be96e5e80419840d",
       "version_major": 2,
       "version_minor": 0
      },
      "text/plain": [
       "HBox(children=(FloatProgress(value=0.0, max=49.0), HTML(value='')))"
      ]
     },
     "metadata": {},
     "output_type": "display_data"
    },
    {
     "name": "stdout",
     "output_type": "stream",
     "text": [
      "\n"
     ]
    },
    {
     "data": {
      "application/vnd.jupyter.widget-view+json": {
       "model_id": "b4a8701692f9400bba9bd0a06e73e059",
       "version_major": 2,
       "version_minor": 0
      },
      "text/plain": [
       "HBox(children=(FloatProgress(value=0.0, max=40.0), HTML(value='')))"
      ]
     },
     "metadata": {},
     "output_type": "display_data"
    },
    {
     "name": "stdout",
     "output_type": "stream",
     "text": [
      "\n"
     ]
    },
    {
     "data": {
      "application/vnd.jupyter.widget-view+json": {
       "model_id": "97555f3a39774850ba9de16c0aa3289a",
       "version_major": 2,
       "version_minor": 0
      },
      "text/plain": [
       "HBox(children=(FloatProgress(value=0.0, max=22.0), HTML(value='')))"
      ]
     },
     "metadata": {},
     "output_type": "display_data"
    },
    {
     "name": "stdout",
     "output_type": "stream",
     "text": [
      "\n"
     ]
    },
    {
     "data": {
      "application/vnd.jupyter.widget-view+json": {
       "model_id": "a6868d0f028c488bbed34002d79b450e",
       "version_major": 2,
       "version_minor": 0
      },
      "text/plain": [
       "HBox(children=(FloatProgress(value=0.0, max=5.0), HTML(value='')))"
      ]
     },
     "metadata": {},
     "output_type": "display_data"
    },
    {
     "name": "stdout",
     "output_type": "stream",
     "text": [
      "\n"
     ]
    },
    {
     "data": {
      "application/vnd.jupyter.widget-view+json": {
       "model_id": "21e7408b305344b997e232ab607d8c77",
       "version_major": 2,
       "version_minor": 0
      },
      "text/plain": [
       "HBox(children=(FloatProgress(value=0.0, max=5.0), HTML(value='')))"
      ]
     },
     "metadata": {},
     "output_type": "display_data"
    },
    {
     "name": "stdout",
     "output_type": "stream",
     "text": [
      "\n"
     ]
    },
    {
     "data": {
      "application/vnd.jupyter.widget-view+json": {
       "model_id": "fd53ddc5fbba44b8992a80aa63971529",
       "version_major": 2,
       "version_minor": 0
      },
      "text/plain": [
       "HBox(children=(FloatProgress(value=0.0, max=3.0), HTML(value='')))"
      ]
     },
     "metadata": {},
     "output_type": "display_data"
    },
    {
     "name": "stdout",
     "output_type": "stream",
     "text": [
      "\n"
     ]
    },
    {
     "data": {
      "application/vnd.jupyter.widget-view+json": {
       "model_id": "2d2645d22d1e497a8c510c85464f9a73",
       "version_major": 2,
       "version_minor": 0
      },
      "text/plain": [
       "HBox(children=(FloatProgress(value=0.0, max=5.0), HTML(value='')))"
      ]
     },
     "metadata": {},
     "output_type": "display_data"
    },
    {
     "name": "stdout",
     "output_type": "stream",
     "text": [
      "\n"
     ]
    },
    {
     "data": {
      "application/vnd.jupyter.widget-view+json": {
       "model_id": "f1bd5dd5f5e24f4bb5c79769cf529c5a",
       "version_major": 2,
       "version_minor": 0
      },
      "text/plain": [
       "HBox(children=(FloatProgress(value=0.0, max=18.0), HTML(value='')))"
      ]
     },
     "metadata": {},
     "output_type": "display_data"
    },
    {
     "name": "stdout",
     "output_type": "stream",
     "text": [
      "\n"
     ]
    },
    {
     "data": {
      "application/vnd.jupyter.widget-view+json": {
       "model_id": "5a866f0a31784037bb790d31418d2f86",
       "version_major": 2,
       "version_minor": 0
      },
      "text/plain": [
       "HBox(children=(FloatProgress(value=0.0, max=43.0), HTML(value='')))"
      ]
     },
     "metadata": {},
     "output_type": "display_data"
    },
    {
     "name": "stdout",
     "output_type": "stream",
     "text": [
      "\n"
     ]
    },
    {
     "data": {
      "application/vnd.jupyter.widget-view+json": {
       "model_id": "049b75169a9043678cc16412fc4634af",
       "version_major": 2,
       "version_minor": 0
      },
      "text/plain": [
       "HBox(children=(FloatProgress(value=0.0, max=29.0), HTML(value='')))"
      ]
     },
     "metadata": {},
     "output_type": "display_data"
    },
    {
     "name": "stdout",
     "output_type": "stream",
     "text": [
      "\n"
     ]
    },
    {
     "data": {
      "application/vnd.jupyter.widget-view+json": {
       "model_id": "29896a26858149cfab717a1cac3c4b7b",
       "version_major": 2,
       "version_minor": 0
      },
      "text/plain": [
       "HBox(children=(FloatProgress(value=0.0, max=68.0), HTML(value='')))"
      ]
     },
     "metadata": {},
     "output_type": "display_data"
    },
    {
     "name": "stdout",
     "output_type": "stream",
     "text": [
      "\n"
     ]
    },
    {
     "data": {
      "application/vnd.jupyter.widget-view+json": {
       "model_id": "b975c828236f40b09182070787f6488a",
       "version_major": 2,
       "version_minor": 0
      },
      "text/plain": [
       "HBox(children=(FloatProgress(value=0.0, max=65.0), HTML(value='')))"
      ]
     },
     "metadata": {},
     "output_type": "display_data"
    },
    {
     "name": "stdout",
     "output_type": "stream",
     "text": [
      "\n"
     ]
    },
    {
     "data": {
      "application/vnd.jupyter.widget-view+json": {
       "model_id": "c2083ec4ea58456cba5eb7f24fad05c3",
       "version_major": 2,
       "version_minor": 0
      },
      "text/plain": [
       "HBox(children=(FloatProgress(value=0.0, max=68.0), HTML(value='')))"
      ]
     },
     "metadata": {},
     "output_type": "display_data"
    },
    {
     "name": "stdout",
     "output_type": "stream",
     "text": [
      "\n"
     ]
    },
    {
     "data": {
      "application/vnd.jupyter.widget-view+json": {
       "model_id": "7c44ea811d8f4a228ff812ec30754271",
       "version_major": 2,
       "version_minor": 0
      },
      "text/plain": [
       "HBox(children=(FloatProgress(value=0.0, max=14.0), HTML(value='')))"
      ]
     },
     "metadata": {},
     "output_type": "display_data"
    },
    {
     "name": "stdout",
     "output_type": "stream",
     "text": [
      "\n"
     ]
    },
    {
     "data": {
      "application/vnd.jupyter.widget-view+json": {
       "model_id": "aa38b18ef34840c2ae6cac067234d298",
       "version_major": 2,
       "version_minor": 0
      },
      "text/plain": [
       "HBox(children=(FloatProgress(value=0.0, max=14.0), HTML(value='')))"
      ]
     },
     "metadata": {},
     "output_type": "display_data"
    },
    {
     "name": "stdout",
     "output_type": "stream",
     "text": [
      "\n"
     ]
    },
    {
     "data": {
      "application/vnd.jupyter.widget-view+json": {
       "model_id": "b1a83f2933a04269bec434d961481e6e",
       "version_major": 2,
       "version_minor": 0
      },
      "text/plain": [
       "HBox(children=(FloatProgress(value=0.0, max=28.0), HTML(value='')))"
      ]
     },
     "metadata": {},
     "output_type": "display_data"
    },
    {
     "name": "stdout",
     "output_type": "stream",
     "text": [
      "\n"
     ]
    },
    {
     "data": {
      "application/vnd.jupyter.widget-view+json": {
       "model_id": "7baa6c1277d049879502912b4652a14b",
       "version_major": 2,
       "version_minor": 0
      },
      "text/plain": [
       "HBox(children=(FloatProgress(value=0.0, max=144.0), HTML(value='')))"
      ]
     },
     "metadata": {},
     "output_type": "display_data"
    },
    {
     "name": "stdout",
     "output_type": "stream",
     "text": [
      "\n"
     ]
    },
    {
     "data": {
      "application/vnd.jupyter.widget-view+json": {
       "model_id": "d0fa057bfdf74be5b41973c06ee3c5ab",
       "version_major": 2,
       "version_minor": 0
      },
      "text/plain": [
       "HBox(children=(FloatProgress(value=0.0, max=163.0), HTML(value='')))"
      ]
     },
     "metadata": {},
     "output_type": "display_data"
    },
    {
     "name": "stdout",
     "output_type": "stream",
     "text": [
      "\n"
     ]
    },
    {
     "data": {
      "application/vnd.jupyter.widget-view+json": {
       "model_id": "b1fcd72664444c94adae5eb876d68f43",
       "version_major": 2,
       "version_minor": 0
      },
      "text/plain": [
       "HBox(children=(FloatProgress(value=0.0, max=19.0), HTML(value='')))"
      ]
     },
     "metadata": {},
     "output_type": "display_data"
    },
    {
     "name": "stdout",
     "output_type": "stream",
     "text": [
      "\n"
     ]
    },
    {
     "data": {
      "application/vnd.jupyter.widget-view+json": {
       "model_id": "37bf095e40d543cdb9445f3121622960",
       "version_major": 2,
       "version_minor": 0
      },
      "text/plain": [
       "HBox(children=(FloatProgress(value=0.0, max=6.0), HTML(value='')))"
      ]
     },
     "metadata": {},
     "output_type": "display_data"
    },
    {
     "name": "stdout",
     "output_type": "stream",
     "text": [
      "\n"
     ]
    },
    {
     "data": {
      "application/vnd.jupyter.widget-view+json": {
       "model_id": "6b56cc93d7004efeb8ba9f925d991a40",
       "version_major": 2,
       "version_minor": 0
      },
      "text/plain": [
       "HBox(children=(FloatProgress(value=0.0, max=13.0), HTML(value='')))"
      ]
     },
     "metadata": {},
     "output_type": "display_data"
    },
    {
     "name": "stdout",
     "output_type": "stream",
     "text": [
      "\n"
     ]
    },
    {
     "data": {
      "application/vnd.jupyter.widget-view+json": {
       "model_id": "dddb533136324a16a48e0453490db2f5",
       "version_major": 2,
       "version_minor": 0
      },
      "text/plain": [
       "HBox(children=(FloatProgress(value=0.0, max=52.0), HTML(value='')))"
      ]
     },
     "metadata": {},
     "output_type": "display_data"
    },
    {
     "name": "stdout",
     "output_type": "stream",
     "text": [
      "\n"
     ]
    },
    {
     "data": {
      "application/vnd.jupyter.widget-view+json": {
       "model_id": "e7d992a9ec264c009c705c2b140ad4a9",
       "version_major": 2,
       "version_minor": 0
      },
      "text/plain": [
       "HBox(children=(FloatProgress(value=0.0, max=12.0), HTML(value='')))"
      ]
     },
     "metadata": {},
     "output_type": "display_data"
    },
    {
     "name": "stdout",
     "output_type": "stream",
     "text": [
      "\n"
     ]
    },
    {
     "data": {
      "application/vnd.jupyter.widget-view+json": {
       "model_id": "a92c7ab67d4144d491da659ae2744826",
       "version_major": 2,
       "version_minor": 0
      },
      "text/plain": [
       "HBox(children=(FloatProgress(value=0.0, max=61.0), HTML(value='')))"
      ]
     },
     "metadata": {},
     "output_type": "display_data"
    },
    {
     "name": "stdout",
     "output_type": "stream",
     "text": [
      "\n"
     ]
    },
    {
     "data": {
      "application/vnd.jupyter.widget-view+json": {
       "model_id": "ac2dec8b1deb444aaa05a34f20ab8714",
       "version_major": 2,
       "version_minor": 0
      },
      "text/plain": [
       "HBox(children=(FloatProgress(value=0.0, max=30.0), HTML(value='')))"
      ]
     },
     "metadata": {},
     "output_type": "display_data"
    },
    {
     "name": "stdout",
     "output_type": "stream",
     "text": [
      "\n"
     ]
    },
    {
     "data": {
      "application/vnd.jupyter.widget-view+json": {
       "model_id": "f96a5f16781046b9be94bcf86282129a",
       "version_major": 2,
       "version_minor": 0
      },
      "text/plain": [
       "HBox(children=(FloatProgress(value=0.0, max=11.0), HTML(value='')))"
      ]
     },
     "metadata": {},
     "output_type": "display_data"
    },
    {
     "name": "stdout",
     "output_type": "stream",
     "text": [
      "\n"
     ]
    },
    {
     "data": {
      "application/vnd.jupyter.widget-view+json": {
       "model_id": "e3db4c8bd6fd4c87930795475bf7146c",
       "version_major": 2,
       "version_minor": 0
      },
      "text/plain": [
       "HBox(children=(FloatProgress(value=0.0, max=28.0), HTML(value='')))"
      ]
     },
     "metadata": {},
     "output_type": "display_data"
    },
    {
     "name": "stdout",
     "output_type": "stream",
     "text": [
      "\n"
     ]
    },
    {
     "data": {
      "application/vnd.jupyter.widget-view+json": {
       "model_id": "f3c7b429734f4952a5a3051538cbc8cb",
       "version_major": 2,
       "version_minor": 0
      },
      "text/plain": [
       "HBox(children=(FloatProgress(value=0.0, max=7.0), HTML(value='')))"
      ]
     },
     "metadata": {},
     "output_type": "display_data"
    },
    {
     "name": "stdout",
     "output_type": "stream",
     "text": [
      "\n"
     ]
    },
    {
     "data": {
      "application/vnd.jupyter.widget-view+json": {
       "model_id": "234dba89caaf4d1990206b5c267e7eb4",
       "version_major": 2,
       "version_minor": 0
      },
      "text/plain": [
       "HBox(children=(FloatProgress(value=0.0, max=35.0), HTML(value='')))"
      ]
     },
     "metadata": {},
     "output_type": "display_data"
    },
    {
     "name": "stdout",
     "output_type": "stream",
     "text": [
      "\n"
     ]
    },
    {
     "data": {
      "application/vnd.jupyter.widget-view+json": {
       "model_id": "2973d367e2aa4822bb9ce7a4b63c6670",
       "version_major": 2,
       "version_minor": 0
      },
      "text/plain": [
       "HBox(children=(FloatProgress(value=0.0, max=12.0), HTML(value='')))"
      ]
     },
     "metadata": {},
     "output_type": "display_data"
    },
    {
     "name": "stdout",
     "output_type": "stream",
     "text": [
      "\n"
     ]
    },
    {
     "data": {
      "application/vnd.jupyter.widget-view+json": {
       "model_id": "a860fe1ea087469a892b6a59c95151c9",
       "version_major": 2,
       "version_minor": 0
      },
      "text/plain": [
       "HBox(children=(FloatProgress(value=0.0, max=5.0), HTML(value='')))"
      ]
     },
     "metadata": {},
     "output_type": "display_data"
    },
    {
     "name": "stdout",
     "output_type": "stream",
     "text": [
      "\n"
     ]
    },
    {
     "data": {
      "application/vnd.jupyter.widget-view+json": {
       "model_id": "7b912d08700341dfb41808da89491631",
       "version_major": 2,
       "version_minor": 0
      },
      "text/plain": [
       "HBox(children=(FloatProgress(value=0.0, max=4.0), HTML(value='')))"
      ]
     },
     "metadata": {},
     "output_type": "display_data"
    },
    {
     "name": "stdout",
     "output_type": "stream",
     "text": [
      "\n"
     ]
    },
    {
     "data": {
      "application/vnd.jupyter.widget-view+json": {
       "model_id": "ba3482d44b4e45babc19af44c656f04a",
       "version_major": 2,
       "version_minor": 0
      },
      "text/plain": [
       "HBox(children=(FloatProgress(value=0.0, max=6.0), HTML(value='')))"
      ]
     },
     "metadata": {},
     "output_type": "display_data"
    },
    {
     "name": "stdout",
     "output_type": "stream",
     "text": [
      "\n"
     ]
    },
    {
     "data": {
      "application/vnd.jupyter.widget-view+json": {
       "model_id": "09a2c2e81fc049aca792d2298a1be365",
       "version_major": 2,
       "version_minor": 0
      },
      "text/plain": [
       "HBox(children=(FloatProgress(value=0.0, max=6.0), HTML(value='')))"
      ]
     },
     "metadata": {},
     "output_type": "display_data"
    },
    {
     "name": "stdout",
     "output_type": "stream",
     "text": [
      "\n"
     ]
    },
    {
     "data": {
      "application/vnd.jupyter.widget-view+json": {
       "model_id": "b9e9c3290f3b4950867b7e26e6c40048",
       "version_major": 2,
       "version_minor": 0
      },
      "text/plain": [
       "HBox(children=(FloatProgress(value=0.0, max=68.0), HTML(value='')))"
      ]
     },
     "metadata": {},
     "output_type": "display_data"
    },
    {
     "name": "stdout",
     "output_type": "stream",
     "text": [
      "\n"
     ]
    },
    {
     "data": {
      "application/vnd.jupyter.widget-view+json": {
       "model_id": "b4d1df9d149f4f0eb99161f9797c5b00",
       "version_major": 2,
       "version_minor": 0
      },
      "text/plain": [
       "HBox(children=(FloatProgress(value=0.0, max=47.0), HTML(value='')))"
      ]
     },
     "metadata": {},
     "output_type": "display_data"
    },
    {
     "name": "stdout",
     "output_type": "stream",
     "text": [
      "\n"
     ]
    },
    {
     "data": {
      "application/vnd.jupyter.widget-view+json": {
       "model_id": "455e8bccd7154ae0afb65d8505434bfd",
       "version_major": 2,
       "version_minor": 0
      },
      "text/plain": [
       "HBox(children=(FloatProgress(value=0.0, max=5.0), HTML(value='')))"
      ]
     },
     "metadata": {},
     "output_type": "display_data"
    },
    {
     "name": "stdout",
     "output_type": "stream",
     "text": [
      "\n"
     ]
    },
    {
     "data": {
      "application/vnd.jupyter.widget-view+json": {
       "model_id": "4060556222614e4e870c45620fa87df8",
       "version_major": 2,
       "version_minor": 0
      },
      "text/plain": [
       "HBox(children=(FloatProgress(value=0.0, max=10.0), HTML(value='')))"
      ]
     },
     "metadata": {},
     "output_type": "display_data"
    },
    {
     "name": "stdout",
     "output_type": "stream",
     "text": [
      "\n"
     ]
    },
    {
     "data": {
      "application/vnd.jupyter.widget-view+json": {
       "model_id": "748c41a9496b4b2f889413b44f95f157",
       "version_major": 2,
       "version_minor": 0
      },
      "text/plain": [
       "HBox(children=(FloatProgress(value=0.0, max=8.0), HTML(value='')))"
      ]
     },
     "metadata": {},
     "output_type": "display_data"
    },
    {
     "name": "stdout",
     "output_type": "stream",
     "text": [
      "\n"
     ]
    },
    {
     "data": {
      "application/vnd.jupyter.widget-view+json": {
       "model_id": "741a788e238242879bf866ca9a7fbcbd",
       "version_major": 2,
       "version_minor": 0
      },
      "text/plain": [
       "HBox(children=(FloatProgress(value=0.0, max=30.0), HTML(value='')))"
      ]
     },
     "metadata": {},
     "output_type": "display_data"
    },
    {
     "name": "stdout",
     "output_type": "stream",
     "text": [
      "\n"
     ]
    },
    {
     "data": {
      "application/vnd.jupyter.widget-view+json": {
       "model_id": "13f67b1eb4ca4fe1a09576bbf284f55b",
       "version_major": 2,
       "version_minor": 0
      },
      "text/plain": [
       "HBox(children=(FloatProgress(value=0.0, max=6.0), HTML(value='')))"
      ]
     },
     "metadata": {},
     "output_type": "display_data"
    },
    {
     "name": "stdout",
     "output_type": "stream",
     "text": [
      "\n"
     ]
    },
    {
     "data": {
      "application/vnd.jupyter.widget-view+json": {
       "model_id": "c6850ce009c2472a90e7b4601d1e24dd",
       "version_major": 2,
       "version_minor": 0
      },
      "text/plain": [
       "HBox(children=(FloatProgress(value=0.0, max=59.0), HTML(value='')))"
      ]
     },
     "metadata": {},
     "output_type": "display_data"
    },
    {
     "name": "stdout",
     "output_type": "stream",
     "text": [
      "\n"
     ]
    },
    {
     "data": {
      "application/vnd.jupyter.widget-view+json": {
       "model_id": "af72ffe6f38846fe9614f134b46be08e",
       "version_major": 2,
       "version_minor": 0
      },
      "text/plain": [
       "HBox(children=(FloatProgress(value=0.0, max=48.0), HTML(value='')))"
      ]
     },
     "metadata": {},
     "output_type": "display_data"
    },
    {
     "name": "stdout",
     "output_type": "stream",
     "text": [
      "\n"
     ]
    },
    {
     "data": {
      "application/vnd.jupyter.widget-view+json": {
       "model_id": "f07c2916df864934986eec43a0df3448",
       "version_major": 2,
       "version_minor": 0
      },
      "text/plain": [
       "HBox(children=(FloatProgress(value=0.0, max=26.0), HTML(value='')))"
      ]
     },
     "metadata": {},
     "output_type": "display_data"
    },
    {
     "name": "stdout",
     "output_type": "stream",
     "text": [
      "\n"
     ]
    },
    {
     "data": {
      "application/vnd.jupyter.widget-view+json": {
       "model_id": "8e4bea8509854d9ea923a43eb2bd004d",
       "version_major": 2,
       "version_minor": 0
      },
      "text/plain": [
       "HBox(children=(FloatProgress(value=0.0, max=8.0), HTML(value='')))"
      ]
     },
     "metadata": {},
     "output_type": "display_data"
    },
    {
     "name": "stdout",
     "output_type": "stream",
     "text": [
      "\n"
     ]
    },
    {
     "data": {
      "application/vnd.jupyter.widget-view+json": {
       "model_id": "428fbd5c225142bb81191124cf878d1e",
       "version_major": 2,
       "version_minor": 0
      },
      "text/plain": [
       "HBox(children=(FloatProgress(value=0.0, max=35.0), HTML(value='')))"
      ]
     },
     "metadata": {},
     "output_type": "display_data"
    },
    {
     "name": "stdout",
     "output_type": "stream",
     "text": [
      "\n"
     ]
    },
    {
     "data": {
      "application/vnd.jupyter.widget-view+json": {
       "model_id": "b81ab71be10c46f69903a99e5e3254b2",
       "version_major": 2,
       "version_minor": 0
      },
      "text/plain": [
       "HBox(children=(FloatProgress(value=0.0, max=10.0), HTML(value='')))"
      ]
     },
     "metadata": {},
     "output_type": "display_data"
    },
    {
     "name": "stdout",
     "output_type": "stream",
     "text": [
      "\n"
     ]
    },
    {
     "data": {
      "application/vnd.jupyter.widget-view+json": {
       "model_id": "aa09f80dc9b045f4b916fdd70b803836",
       "version_major": 2,
       "version_minor": 0
      },
      "text/plain": [
       "HBox(children=(FloatProgress(value=0.0, max=20.0), HTML(value='')))"
      ]
     },
     "metadata": {},
     "output_type": "display_data"
    },
    {
     "name": "stdout",
     "output_type": "stream",
     "text": [
      "\n"
     ]
    },
    {
     "data": {
      "application/vnd.jupyter.widget-view+json": {
       "model_id": "7f04f202f29d4449a398b7239f134a55",
       "version_major": 2,
       "version_minor": 0
      },
      "text/plain": [
       "HBox(children=(FloatProgress(value=0.0, max=9.0), HTML(value='')))"
      ]
     },
     "metadata": {},
     "output_type": "display_data"
    },
    {
     "name": "stdout",
     "output_type": "stream",
     "text": [
      "\n"
     ]
    },
    {
     "data": {
      "application/vnd.jupyter.widget-view+json": {
       "model_id": "8da363d15df24bdc8bc4a808bf0ffc0f",
       "version_major": 2,
       "version_minor": 0
      },
      "text/plain": [
       "HBox(children=(FloatProgress(value=0.0, max=60.0), HTML(value='')))"
      ]
     },
     "metadata": {},
     "output_type": "display_data"
    },
    {
     "name": "stdout",
     "output_type": "stream",
     "text": [
      "\n"
     ]
    },
    {
     "data": {
      "application/vnd.jupyter.widget-view+json": {
       "model_id": "33dd4472f8444b1d802c263ea50eb0ab",
       "version_major": 2,
       "version_minor": 0
      },
      "text/plain": [
       "HBox(children=(FloatProgress(value=0.0, max=30.0), HTML(value='')))"
      ]
     },
     "metadata": {},
     "output_type": "display_data"
    },
    {
     "name": "stdout",
     "output_type": "stream",
     "text": [
      "\n"
     ]
    },
    {
     "data": {
      "application/vnd.jupyter.widget-view+json": {
       "model_id": "46d32bcb7e9443ffa7fe1dcb5949c569",
       "version_major": 2,
       "version_minor": 0
      },
      "text/plain": [
       "HBox(children=(FloatProgress(value=0.0, max=2.0), HTML(value='')))"
      ]
     },
     "metadata": {},
     "output_type": "display_data"
    },
    {
     "name": "stdout",
     "output_type": "stream",
     "text": [
      "\n"
     ]
    },
    {
     "data": {
      "application/vnd.jupyter.widget-view+json": {
       "model_id": "337e278db7b547f39ad2e61eff2c9bf5",
       "version_major": 2,
       "version_minor": 0
      },
      "text/plain": [
       "HBox(children=(FloatProgress(value=0.0, max=5.0), HTML(value='')))"
      ]
     },
     "metadata": {},
     "output_type": "display_data"
    },
    {
     "name": "stdout",
     "output_type": "stream",
     "text": [
      "\n"
     ]
    },
    {
     "data": {
      "application/vnd.jupyter.widget-view+json": {
       "model_id": "3e7a4400ffa54d1fbd5f22631f5f4c40",
       "version_major": 2,
       "version_minor": 0
      },
      "text/plain": [
       "HBox(children=(FloatProgress(value=0.0, max=7.0), HTML(value='')))"
      ]
     },
     "metadata": {},
     "output_type": "display_data"
    },
    {
     "name": "stdout",
     "output_type": "stream",
     "text": [
      "\n"
     ]
    },
    {
     "data": {
      "application/vnd.jupyter.widget-view+json": {
       "model_id": "ae9f35c7706c499989e038d685484141",
       "version_major": 2,
       "version_minor": 0
      },
      "text/plain": [
       "HBox(children=(FloatProgress(value=0.0, max=8.0), HTML(value='')))"
      ]
     },
     "metadata": {},
     "output_type": "display_data"
    },
    {
     "name": "stdout",
     "output_type": "stream",
     "text": [
      "\n"
     ]
    },
    {
     "data": {
      "application/vnd.jupyter.widget-view+json": {
       "model_id": "35659bc2ea834894a8f841b79b534a44",
       "version_major": 2,
       "version_minor": 0
      },
      "text/plain": [
       "HBox(children=(FloatProgress(value=0.0, max=2.0), HTML(value='')))"
      ]
     },
     "metadata": {},
     "output_type": "display_data"
    },
    {
     "name": "stdout",
     "output_type": "stream",
     "text": [
      "\n"
     ]
    },
    {
     "data": {
      "application/vnd.jupyter.widget-view+json": {
       "model_id": "971eed188f8446548ae5b7b784200203",
       "version_major": 2,
       "version_minor": 0
      },
      "text/plain": [
       "HBox(children=(FloatProgress(value=0.0, max=2.0), HTML(value='')))"
      ]
     },
     "metadata": {},
     "output_type": "display_data"
    },
    {
     "name": "stdout",
     "output_type": "stream",
     "text": [
      "\n",
      "Working on limb L0 branch 36\n",
      "No spines and using precomputed width\n",
      "Working on limb L0 branch 23\n",
      "No spines and using precomputed width\n",
      "Working on limb L0 branch 35\n",
      "Working on limb L0 branch 17\n",
      "Working on limb L0 branch 22\n",
      "No spines and using precomputed width\n",
      "Working on limb L0 branch 44\n",
      "Working on limb L0 branch 45\n",
      "Working on limb L0 branch 12\n",
      "No spines and using precomputed width\n",
      "Working on limb L0 branch 16\n",
      "Working on limb L0 branch 47\n",
      "Working on limb L0 branch 48\n",
      "Working on limb L0 branch 57\n",
      "No spines and using precomputed width\n",
      "Working on limb L0 branch 58\n",
      "Working on limb L0 branch 13\n",
      "Working on limb L0 branch 15\n",
      "Working on limb L0 branch 40\n",
      "No spines and using precomputed width\n",
      "Working on limb L0 branch 49\n",
      "Working on limb L0 branch 10\n",
      "Working on limb L0 branch 11\n",
      "No spines and using precomputed width\n",
      "Working on limb L0 branch 41\n",
      "Working on limb L0 branch 43\n",
      "No spines and using precomputed width\n",
      "Working on limb L0 branch 32\n",
      "Working on limb L0 branch 50\n",
      "Working on limb L0 branch 8\n",
      "Working on limb L0 branch 9\n",
      "No spines and using precomputed width\n",
      "Working on limb L0 branch 21\n",
      "Working on limb L0 branch 39\n",
      "Working on limb L0 branch 52\n",
      "Working on limb L0 branch 53\n",
      "No spines and using precomputed width\n",
      "Working on limb L0 branch 6\n",
      "No spines and using precomputed width\n",
      "Working on limb L0 branch 7\n",
      "No spines and using precomputed width\n",
      "Working on limb L0 branch 14\n",
      "Working on limb L0 branch 20\n",
      "No spines and using precomputed width\n",
      "Working on limb L0 branch 37\n",
      "Working on limb L0 branch 42\n",
      "Working on limb L0 branch 46\n",
      "No spines and using precomputed width\n",
      "Working on limb L0 branch 54\n",
      "Working on limb L0 branch 3\n",
      "Working on limb L0 branch 5\n",
      "No spines and using precomputed width\n",
      "Working on limb L0 branch 33\n",
      "Working on limb L0 branch 38\n",
      "Working on limb L0 branch 34\n",
      "Working on limb L0 branch 51\n",
      "Working on limb L0 branch 2\n",
      "Working on limb L0 branch 4\n",
      "No spines and using precomputed width\n",
      "Working on limb L0 branch 18\n",
      "Working on limb L0 branch 30\n",
      "Working on limb L0 branch 55\n",
      "No spines and using precomputed width\n",
      "Working on limb L0 branch 56\n",
      "Working on limb L0 branch 0\n",
      "Working on limb L0 branch 1\n",
      "No spines and using precomputed width\n",
      "Working on limb L0 branch 24\n",
      "No spines and using precomputed width\n",
      "Working on limb L0 branch 29\n",
      "No spines and using precomputed width\n",
      "Working on limb L0 branch 31\n",
      "No spines and using precomputed width\n",
      "Working on limb L0 branch 27\n",
      "Working on limb L0 branch 28\n",
      "Working on limb L0 branch 19\n",
      "Working on limb L0 branch 25\n",
      "No spines and using precomputed width\n",
      "Working on limb L0 branch 26\n",
      "No spines and using precomputed width\n",
      "Working on limb L1 branch 38\n",
      "No spines and using precomputed width\n",
      "Working on limb L1 branch 11\n",
      "Working on limb L1 branch 37\n",
      "Working on limb L1 branch 35\n",
      "Working on limb L1 branch 36\n",
      "Working on limb L1 branch 31\n",
      "Working on limb L1 branch 34\n",
      "Working on limb L1 branch 41\n",
      "No spines and using precomputed width\n",
      "Working on limb L1 branch 42\n",
      "No spines and using precomputed width\n",
      "Working on limb L1 branch 30\n",
      "Working on limb L1 branch 32\n",
      "Working on limb L1 branch 28\n",
      "Working on limb L1 branch 33\n",
      "Working on limb L1 branch 39\n",
      "No spines and using precomputed width\n",
      "Working on limb L1 branch 40\n",
      "Working on limb L1 branch 19\n",
      "Working on limb L1 branch 29\n",
      "Working on limb L1 branch 24\n",
      "No spines and using precomputed width\n",
      "Working on limb L1 branch 25\n",
      "No spines and using precomputed width\n",
      "Working on limb L1 branch 26\n",
      "No spines and using precomputed width\n",
      "Working on limb L1 branch 27\n",
      "No spines and using precomputed width\n",
      "Working on limb L1 branch 13\n",
      "Working on limb L1 branch 16\n",
      "No spines and using precomputed width\n",
      "Working on limb L1 branch 18\n",
      "Working on limb L1 branch 22\n",
      "No spines and using precomputed width\n",
      "Working on limb L1 branch 15\n",
      "Working on limb L1 branch 20\n",
      "No spines and using precomputed width\n",
      "Working on limb L1 branch 12\n",
      "No spines and using precomputed width\n",
      "Working on limb L1 branch 17\n",
      "Working on limb L1 branch 10\n",
      "Working on limb L1 branch 14\n",
      "No spines and using precomputed width\n",
      "Working on limb L1 branch 21\n",
      "Working on limb L1 branch 23\n",
      "Working on limb L1 branch 8\n",
      "Working on limb L1 branch 9\n",
      "No spines and using precomputed width\n",
      "Working on limb L1 branch 4\n",
      "Working on limb L1 branch 6\n",
      "No spines and using precomputed width\n",
      "Working on limb L1 branch 2\n",
      "Working on limb L1 branch 3\n",
      "No spines and using precomputed width\n",
      "Working on limb L1 branch 5\n",
      "No spines and using precomputed width\n",
      "Working on limb L1 branch 7\n",
      "No spines and using precomputed width\n",
      "Working on limb L1 branch 0\n",
      "Working on limb L1 branch 1\n",
      "No spines and using precomputed width\n",
      "Working on limb L2 branch 0\n",
      "Working on limb L2 branch 1\n",
      "Working on limb L2 branch 2\n",
      "Working on limb L2 branch 5\n",
      "Working on limb L2 branch 6\n",
      "No spines and using precomputed width\n",
      "Working on limb L2 branch 10\n",
      "Working on limb L2 branch 11\n",
      "Working on limb L2 branch 3\n",
      "No spines and using precomputed width\n",
      "Working on limb L2 branch 7\n",
      "Working on limb L2 branch 15\n",
      "No spines and using precomputed width\n",
      "Working on limb L2 branch 17\n",
      "No spines and using precomputed width\n",
      "Working on limb L2 branch 4\n",
      "No spines and using precomputed width\n",
      "Working on limb L2 branch 8\n",
      "Working on limb L2 branch 9\n",
      "No spines and using precomputed width\n",
      "Working on limb L2 branch 12\n",
      "No spines and using precomputed width\n",
      "Working on limb L2 branch 16\n",
      "No spines and using precomputed width\n",
      "Working on limb L2 branch 13\n",
      "No spines and using precomputed width\n",
      "Working on limb L2 branch 14\n",
      "Working on limb L2 branch 18\n",
      "No spines and using precomputed width\n",
      "Working on limb L2 branch 19\n",
      "No spines and using precomputed width\n",
      "Working on limb L2 branch 21\n",
      "Working on limb L2 branch 22\n",
      "No spines and using precomputed width\n",
      "Working on limb L2 branch 23\n",
      "No spines and using precomputed width\n",
      "Working on limb L2 branch 28\n",
      "Working on limb L2 branch 20\n",
      "No spines and using precomputed width\n",
      "Working on limb L2 branch 24\n",
      "Working on limb L2 branch 25\n",
      "No spines and using precomputed width\n",
      "Working on limb L2 branch 33\n",
      "No spines and using precomputed width\n",
      "Working on limb L2 branch 34\n",
      "Working on limb L2 branch 26\n",
      "No spines and using precomputed width\n",
      "Working on limb L2 branch 27\n",
      "No spines and using precomputed width\n",
      "Working on limb L2 branch 29\n",
      "No spines and using precomputed width\n",
      "Working on limb L2 branch 31\n",
      "No spines and using precomputed width\n",
      "Working on limb L2 branch 35\n",
      "No spines and using precomputed width\n",
      "Working on limb L2 branch 39\n",
      "No spines and using precomputed width\n",
      "Working on limb L2 branch 40\n",
      "Working on limb L2 branch 32\n",
      "No spines and using precomputed width\n",
      "Working on limb L2 branch 37\n",
      "No spines and using precomputed width\n",
      "Working on limb L2 branch 30\n",
      "No spines and using precomputed width\n",
      "Working on limb L2 branch 36\n",
      "Working on limb L2 branch 42\n",
      "No spines and using precomputed width\n",
      "Working on limb L2 branch 43\n",
      "Working on limb L2 branch 38\n",
      "No spines and using precomputed width\n",
      "Working on limb L2 branch 41\n",
      "No spines and using precomputed width\n",
      "Working on limb L3 branch 26\n",
      "No spines and using precomputed width\n",
      "Working on limb L3 branch 2\n",
      "Working on limb L3 branch 23\n",
      "No spines and using precomputed width\n",
      "Working on limb L3 branch 12\n",
      "Working on limb L3 branch 20\n",
      "Working on limb L3 branch 0\n",
      "Working on limb L3 branch 7\n",
      "Working on limb L3 branch 5\n",
      "Working on limb L3 branch 21\n",
      "Working on limb L3 branch 3\n",
      "Working on limb L3 branch 6\n",
      "No spines and using precomputed width\n",
      "Working on limb L3 branch 1\n",
      "Working on limb L3 branch 22\n",
      "Working on limb L3 branch 9\n",
      "No spines and using precomputed width\n",
      "Working on limb L3 branch 10\n",
      "No spines and using precomputed width\n",
      "Working on limb L3 branch 19\n",
      "No spines and using precomputed width\n",
      "Working on limb L3 branch 24\n",
      "Working on limb L3 branch 25\n",
      "No spines and using precomputed width\n",
      "Working on limb L3 branch 16\n",
      "No spines and using precomputed width\n",
      "Working on limb L3 branch 17\n",
      "No spines and using precomputed width\n",
      "Working on limb L3 branch 18\n",
      "No spines and using precomputed width\n",
      "Working on limb L3 branch 27\n",
      "No spines and using precomputed width\n",
      "Working on limb L3 branch 28\n",
      "Working on limb L3 branch 8\n",
      "No spines and using precomputed width\n",
      "Working on limb L3 branch 15\n",
      "No spines and using precomputed width\n",
      "Working on limb L3 branch 31\n",
      "No spines and using precomputed width\n",
      "Working on limb L3 branch 32\n",
      "Working on limb L3 branch 11\n",
      "No spines and using precomputed width\n",
      "Working on limb L3 branch 13\n",
      "No spines and using precomputed width\n",
      "Working on limb L3 branch 29\n",
      "No spines and using precomputed width\n",
      "Working on limb L3 branch 30\n",
      "No spines and using precomputed width\n",
      "Working on limb L3 branch 4\n",
      "No spines and using precomputed width\n",
      "Working on limb L3 branch 14\n",
      "No spines and using precomputed width\n",
      "Working on limb L5 branch 3\n",
      "Working on limb L5 branch 2\n"
     ]
    },
    {
     "name": "stdout",
     "output_type": "stream",
     "text": [
      "Working on limb L5 branch 4\n",
      "Working on limb L5 branch 0\n",
      "Working on limb L5 branch 1\n",
      "Working on limb L5 branch 5\n",
      "Working on limb L5 branch 6\n",
      "Working on limb L10 branch 0\n",
      "No spines and using precomputed width\n",
      "Working on limb L4 branch 4\n",
      "Working on limb L4 branch 0\n",
      "Working on limb L4 branch 5\n",
      "Working on limb L4 branch 6\n",
      "No spines and using precomputed width\n",
      "Working on limb L4 branch 7\n",
      "No spines and using precomputed width\n",
      "Working on limb L4 branch 1\n",
      "No spines and using precomputed width\n",
      "Working on limb L4 branch 8\n",
      "Working on limb L4 branch 9\n",
      "Working on limb L4 branch 10\n",
      "Working on limb L4 branch 11\n",
      "Working on limb L4 branch 13\n",
      "Working on limb L4 branch 15\n",
      "No spines and using precomputed width\n",
      "Working on limb L4 branch 16\n",
      "Working on limb L4 branch 18\n",
      "Working on limb L4 branch 14\n",
      "No spines and using precomputed width\n",
      "Working on limb L4 branch 21\n",
      "Working on limb L4 branch 27\n",
      "No spines and using precomputed width\n",
      "Working on limb L4 branch 30\n",
      "No spines and using precomputed width\n",
      "Working on limb L4 branch 31\n",
      "Working on limb L4 branch 20\n",
      "Working on limb L4 branch 22\n",
      "No spines and using precomputed width\n",
      "Working on limb L4 branch 24\n",
      "No spines and using precomputed width\n",
      "Working on limb L4 branch 26\n",
      "No spines and using precomputed width\n",
      "Working on limb L4 branch 28\n",
      "No spines and using precomputed width\n",
      "Working on limb L4 branch 2\n",
      "Working on limb L4 branch 19\n",
      "No spines and using precomputed width\n",
      "Working on limb L4 branch 12\n",
      "No spines and using precomputed width\n",
      "Working on limb L4 branch 23\n",
      "No spines and using precomputed width\n",
      "Working on limb L4 branch 25\n",
      "No spines and using precomputed width\n",
      "Working on limb L4 branch 29\n",
      "No spines and using precomputed width\n",
      "Working on limb L4 branch 3\n",
      "No spines and using precomputed width\n",
      "Working on limb L4 branch 17\n",
      "No spines and using precomputed width\n",
      "Working on limb L6 branch 13\n",
      "No spines and using precomputed width\n",
      "Working on limb L6 branch 7\n",
      "No spines and using precomputed width\n",
      "Working on limb L6 branch 10\n",
      "No spines and using precomputed width\n",
      "Working on limb L6 branch 14\n",
      "No spines and using precomputed width\n",
      "Working on limb L6 branch 9\n",
      "Working on limb L6 branch 11\n",
      "Working on limb L6 branch 2\n",
      "Working on limb L6 branch 12\n",
      "Working on limb L6 branch 8\n",
      "Working on limb L6 branch 15\n",
      "Working on limb L6 branch 3\n",
      "Working on limb L6 branch 4\n",
      "Working on limb L6 branch 0\n",
      "No spines and using precomputed width\n",
      "Working on limb L6 branch 5\n",
      "Working on limb L6 branch 1\n",
      "Working on limb L6 branch 6\n",
      "No spines and using precomputed width\n",
      "Working on limb L6 branch 16\n",
      "No spines and using precomputed width\n",
      "Working on limb L7 branch 1\n",
      "Working on limb L7 branch 2\n",
      "Working on limb L7 branch 3\n",
      "Working on limb L7 branch 0\n",
      "Working on limb L7 branch 4\n",
      "Working on limb L7 branch 7\n",
      "Working on limb L7 branch 8\n",
      "Working on limb L7 branch 5\n",
      "No spines and using precomputed width\n",
      "Working on limb L7 branch 6\n",
      "Working on limb L7 branch 9\n",
      "No spines and using precomputed width\n",
      "Working on limb L7 branch 10\n",
      "Working on limb L7 branch 11\n",
      "No spines and using precomputed width\n",
      "Working on limb L7 branch 12\n",
      "No spines and using precomputed width\n",
      "Working on limb L7 branch 13\n",
      "Working on limb L7 branch 14\n",
      "No spines and using precomputed width\n",
      "Working on limb L7 branch 15\n",
      "No spines and using precomputed width\n",
      "Working on limb L7 branch 16\n",
      "No spines and using precomputed width\n",
      "Working on limb L7 branch 17\n",
      "Working on limb L8 branch 10\n",
      "Working on limb L8 branch 5\n",
      "Working on limb L8 branch 9\n",
      "No spines and using precomputed width\n",
      "Working on limb L8 branch 4\n",
      "Working on limb L8 branch 7\n",
      "No spines and using precomputed width\n",
      "Working on limb L8 branch 1\n",
      "No spines and using precomputed width\n",
      "Working on limb L8 branch 3\n",
      "Working on limb L8 branch 6\n",
      "No spines and using precomputed width\n",
      "Working on limb L8 branch 8\n",
      "No spines and using precomputed width\n",
      "Working on limb L8 branch 0\n",
      "No spines and using precomputed width\n",
      "Working on limb L8 branch 2\n",
      "No spines and using precomputed width\n",
      "Working on limb L9 branch 1\n",
      "No spines and using precomputed width\n",
      "Working on limb L9 branch 2\n",
      "No spines and using precomputed width\n",
      "Working on limb L9 branch 4\n",
      "No spines and using precomputed width\n",
      "Working on limb L9 branch 0\n",
      "No spines and using precomputed width\n",
      "Working on limb L9 branch 3\n",
      "No spines and using precomputed width\n",
      "Total time for neuron instance creation = 2309.844041824341\n",
      "\n",
      "\n",
      "\n",
      "---- Total preprocessing time = 2309.844441652298\n"
     ]
    }
   ],
   "source": [
    "total_neuron_process_time = time.time()\n",
    "\n",
    "print(f\"\\n--- Beginning preprocessing of {segment_id}---\")\n",
    "recovered_neuron = neuron.Neuron(\n",
    "mesh = current_neuron_mesh,\n",
    "somas = somas,\n",
    "segment_id=segment_id,\n",
    "description=description,\n",
    "suppress_preprocessing_print=False,\n",
    "suppress_output=False,\n",
    "calculate_spines=True,\n",
    "widths_to_calculate=[\"no_spine_median_mesh_center\"]\n",
    "\n",
    "        )\n",
    "\n",
    "print(f\"\\n\\n\\n---- Total preprocessing time = {time.time() - total_neuron_process_time}\")"
   ]
  },
  {
   "cell_type": "markdown",
   "metadata": {},
   "source": [
    "# Doing the Actual Analysis of It"
   ]
  },
  {
   "cell_type": "code",
   "execution_count": 228,
   "metadata": {},
   "outputs": [
    {
     "name": "stdout",
     "output_type": "stream",
     "text": [
      "Recieved another instance of Neuron class in init -- so just copying data\n"
     ]
    }
   ],
   "source": [
    "recovered_neuron = neuron.Neuron(recovered_neuron)"
   ]
  },
  {
   "cell_type": "code",
   "execution_count": 11,
   "metadata": {
    "scrolled": true
   },
   "outputs": [
    {
     "name": "stdout",
     "output_type": "stream",
     "text": [
      "\n",
      " Working on visualization type: mesh\n",
      "\n",
      " Working on visualization type: skeleton\n"
     ]
    },
    {
     "data": {
      "application/vnd.jupyter.widget-view+json": {
       "model_id": "9dc2fe551bd4423fa6a22a0481650a22",
       "version_major": 2,
       "version_minor": 0
      },
      "text/plain": [
       "VBox(children=(Figure(camera=PerspectiveCamera(fov=46.0, position=(0.0, 0.0, 2.0), quaternion=(0.0, 0.0, 0.0, …"
      ]
     },
     "metadata": {},
     "output_type": "display_data"
    }
   ],
   "source": [
    "nviz.visualize_neuron(recovered_neuron,\n",
    "                     visualize_type=[\"mesh\",\"skeleton\"],\n",
    "                     limb_branch_dict=\"all\")"
   ]
  },
  {
   "cell_type": "markdown",
   "metadata": {},
   "source": [
    "# Save and Decompressing the neuron object"
   ]
  },
  {
   "cell_type": "code",
   "execution_count": 26,
   "metadata": {},
   "outputs": [
    {
     "name": "stdout",
     "output_type": "stream",
     "text": [
      "Saving Neuorn in suppress_output mode...please wait\n",
      "Saved File at location: /notebooks/test_neurons/Segmentation_3/Multi_Soma/12345_classic_double_soma_12_29\n"
     ]
    }
   ],
   "source": [
    "recovered_neuron.save_compressed_neuron(output_folder=\"/notebooks/test_neurons/Segmentation_3/Multi_Soma/\",\n",
    "                                       export_mesh=True)"
   ]
  },
  {
   "cell_type": "code",
   "execution_count": 284,
   "metadata": {},
   "outputs": [
    {
     "name": "stdout",
     "output_type": "stream",
     "text": [
      "Decompressing Neuron in minimal output mode...please wait\n"
     ]
    }
   ],
   "source": [
    "curr_file = \"/notebooks/test_neurons/Segmentation_3/Multi_Soma/12345_classic_double_soma_12_29\"\n",
    "neuron_obj = nru.decompress_neuron(curr_file,curr_file)"
   ]
  },
  {
   "cell_type": "code",
   "execution_count": 13,
   "metadata": {},
   "outputs": [],
   "source": [
    "neuron_obj = recovered_neuron"
   ]
  },
  {
   "cell_type": "markdown",
   "metadata": {},
   "source": [
    "# Doing the Soma Splitting"
   ]
  },
  {
   "cell_type": "code",
   "execution_count": 14,
   "metadata": {},
   "outputs": [
    {
     "data": {
      "image/png": "[encoded data removed]",
      "text/plain": [
       "<Figure size 432x288 with 1 Axes>"
      ]
     },
     "metadata": {},
     "output_type": "display_data"
    }
   ],
   "source": [
    "nviz.plot_soma_limb_concept_network(neuron_obj)"
   ]
  },
  {
   "cell_type": "code",
   "execution_count": 19,
   "metadata": {},
   "outputs": [
    {
     "name": "stdout",
     "output_type": "stream",
     "text": [
      "multi_soma_limbs = [1]\n",
      "multi_touch_limbs = []\n",
      "\n",
      "\n",
      " -------- Working on limb 1------------\n",
      "Starting combinations to process = [(38, 12)]\n",
      "\n",
      "\n",
      "---- working on disconnecting 38 and 12\n",
      "---- This disconnects S1_0 from S0_0  \n",
      " Cut iteration 0\n",
      "Shortest path = [38, 37, 35, 31, 30, 29, 18, 12]\n",
      "Found 0 high degree coordinates to cut\n",
      "skip_nodes = []\n",
      "\n",
      "Attempting the doubling back check (symmetrical so don't need to check from both sides)\n"
     ]
    },
    {
     "data": {
      "application/vnd.jupyter.widget-view+json": {
       "model_id": "ed3d542bc41941559d0ca34158b29479",
       "version_major": 2,
       "version_minor": 0
      },
      "text/plain": [
       "HBox(children=(FloatProgress(value=0.0, max=7.0), HTML(value='')))"
      ]
     },
     "metadata": {},
     "output_type": "display_data"
    },
    {
     "name": "stdout",
     "output_type": "stream",
     "text": [
      "  Edge: [38 37]: curr_angle = 34.42\n",
      "  Edge: [37 35]: curr_angle = 6.65\n",
      "  Edge: [35 31]: curr_angle = 47.13\n",
      "  Edge: [31 30]: curr_angle = 29.64\n",
      "  Edge: [30 29]: curr_angle = 46.72\n",
      "  Edge: [29 18]: curr_angle = 24.23\n",
      "  Edge: [18 12]: curr_angle = 41.82\n",
      "\n",
      "Total time for doubling_back = 0.31182384490966797\n",
      "\n",
      "Attempting the width jump check (attempting from both sides)\n",
      "  Edge: [38 37]: jump = -92.21\n",
      "  Edge: [37 35]: jump = -156.32\n",
      "  Edge: [35 31]: jump = -164.34\n",
      "  Edge: [31 30]: jump = 187.93\n",
      "  Edge: [30 29]: jump = 155.4\n",
      "  Edge: [29 18]: jump = 103.76\n",
      "  Edge: [18 12]: jump = -10.63\n",
      "Total time for width = 0.2772805690765381\n",
      "Path starting at 38 had err_edges: []\n",
      "  Edge: [12 18]: jump = 10.63\n",
      "  Edge: [18 29]: jump = -103.76\n",
      "  Edge: [29 30]: jump = 127.88\n",
      "  Edge: [30 31]: jump = -72.9\n",
      "  Edge: [31 35]: jump = 164.34\n",
      "  Edge: [35 37]: jump = 156.32\n",
      "  Edge: [37 38]: jump = 92.21\n",
      "Total time for width = 0.2653636932373047\n",
      "Path starting at 12 had err_edges: []\n",
      "Did not find an error edge in either of the paths\n",
      "Number of connected components = 1\n",
      "Comp 0 = {0, 1, 2, 3, 4, 5, 6, 7, 8, 9, 10, 11, 12, 13, 14, 15, 16, 17, 18, 19, 20, 21, 22, 23, 24, 25, 26, 27, 28, 29, 30, 31, 32, 33, 34, 35, 36, 37, 38, 39, 40, 41, 42}\n",
      "After get best cut: cut_edges = None, added_edges = []\n",
      "***** there was no suggested cut for this limb even though it is still connnected***\n",
      "Total number of graphs at the end of the split = 1\n"
     ]
    }
   ],
   "source": [
    "limb_results = pru.multi_soma_split_suggestions(neuron_obj,\n",
    "                                verbose=True,\n",
    "                                )"
   ]
  },
  {
   "cell_type": "code",
   "execution_count": 345,
   "metadata": {
    "scrolled": true
   },
   "outputs": [
    {
     "name": "stdout",
     "output_type": "stream",
     "text": [
      "Recieved another instance of Neuron class in init -- so just copying data\n",
      "Concept graph size was 1 or less so returning original\n",
      "\n",
      "\n",
      "------ Working on Soma 0 -------\n",
      "Processing Neuorn in minimal output mode...please wait\n",
      "Total time for neuron instance creation = 0.5169281959533691\n",
      "\n",
      "\n",
      "------ Working on Soma 1 -------\n",
      "Processing Neuorn in minimal output mode...please wait\n",
      "Total time for neuron instance creation = 0.38280415534973145\n",
      "\n",
      "\n",
      "Number of seperate neuron objects = 2\n",
      "\n",
      " Working on visualization type: mesh\n",
      "\n",
      " Working on visualization type: skeleton\n"
     ]
    },
    {
     "data": {
      "application/vnd.jupyter.widget-view+json": {
       "model_id": "fab98e94608e4e35a878bcba56d98016",
       "version_major": 2,
       "version_minor": 0
      },
      "text/plain": [
       "VBox(children=(Figure(camera=PerspectiveCamera(fov=46.0, position=(0.0, 0.0, 2.0), quaternion=(0.0, 0.0, 0.0, …"
      ]
     },
     "metadata": {},
     "output_type": "display_data"
    },
    {
     "name": "stdout",
     "output_type": "stream",
     "text": [
      "\n",
      " Working on visualization type: mesh\n",
      "\n",
      " Working on visualization type: skeleton\n"
     ]
    },
    {
     "data": {
      "application/vnd.jupyter.widget-view+json": {
       "model_id": "784f751f93204e218cac462416188b2d",
       "version_major": 2,
       "version_minor": 0
      },
      "text/plain": [
       "VBox(children=(Figure(camera=PerspectiveCamera(fov=46.0, position=(0.0, 0.0, 2.0), quaternion=(0.0, 0.0, 0.0, …"
      ]
     },
     "metadata": {},
     "output_type": "display_data"
    }
   ],
   "source": [
    "neuron_obj = neuron.Neuron(neuron_obj)\n",
    "seperate_neuron_objects = pru.split_neuron(neuron_obj)"
   ]
  },
  {
   "cell_type": "code",
   "execution_count": 298,
   "metadata": {},
   "outputs": [
    {
     "data": {
      "text/plain": [
       "2"
      ]
     },
     "execution_count": 298,
     "metadata": {},
     "output_type": "execute_result"
    }
   ],
   "source": [
    "len(seperate_neuron_objects)"
   ]
  },
  {
   "cell_type": "markdown",
   "metadata": {},
   "source": [
    "# Checking that the limbs are all connected skeletons"
   ]
  },
  {
   "cell_type": "code",
   "execution_count": 299,
   "metadata": {},
   "outputs": [],
   "source": [
    "import skeleton_utils as sk"
   ]
  },
  {
   "cell_type": "code",
   "execution_count": 301,
   "metadata": {},
   "outputs": [
    {
     "name": "stdout",
     "output_type": "stream",
     "text": [
      "1\n",
      "1\n",
      "1\n",
      "1\n",
      "1\n",
      "1\n",
      "1\n",
      "1\n",
      "1\n",
      "1\n",
      "1\n"
     ]
    }
   ],
   "source": [
    "for n_obj in seperate_neuron_objects:\n",
    "    for c_limb in n_obj:\n",
    "        print(sk.number_connected_components(c_limb.skeleton))"
   ]
  },
  {
   "cell_type": "markdown",
   "metadata": {},
   "source": [
    "# Saving of the seperated pieces"
   ]
  },
  {
   "cell_type": "code",
   "execution_count": 459,
   "metadata": {},
   "outputs": [
    {
     "name": "stdout",
     "output_type": "stream",
     "text": [
      "Saving Neuorn in suppress_output mode...please wait\n",
      "Saved File at location: classic_double_neuron_1\n",
      "Saving Neuorn in suppress_output mode...please wait\n",
      "Saved File at location: classic_double_neuron_2\n"
     ]
    }
   ],
   "source": [
    "sep_neurons[0].save_compressed_neuron(\"./\",\n",
    "                                                 file_name=\"classic_double_neuron_1\",\n",
    "                                                 export_mesh=True)\n",
    "sep_neurons[1].save_compressed_neuron(\"./\",\n",
    "                                                 file_name=\"classic_double_neuron_2\",\n",
    "                                                 export_mesh=True)"
   ]
  },
  {
   "cell_type": "code",
   "execution_count": 460,
   "metadata": {},
   "outputs": [
    {
     "name": "stdout",
     "output_type": "stream",
     "text": [
      "Decompressing Neuron in minimal output mode...please wait\n",
      "Decompressing Neuron in minimal output mode...please wait\n"
     ]
    }
   ],
   "source": [
    "rec_neurons = [nru.decompress_neuron(f\"classic_double_neuron_{k}\",f\"classic_double_neuron_{k}\") for k in [1,2]]\n",
    "\n",
    "for r in rec_neurons:\n",
    "    nviz.visualize_neuron(r,\n",
    "                     visualize_type=[\"mesh\",\"skeleton\"],\n",
    "                     limb_branch_dict=\"all\")"
   ]
  },
  {
   "cell_type": "markdown",
   "metadata": {},
   "source": [
    "# Going to Now Classify Each of the Neurons"
   ]
  },
  {
   "cell_type": "code",
   "execution_count": 463,
   "metadata": {},
   "outputs": [
    {
     "data": {
      "text/plain": [
       "<neuron.Neuron at 0x7f62c284c908>"
      ]
     },
     "execution_count": 463,
     "metadata": {},
     "output_type": "execute_result"
    }
   ],
   "source": [
    "curr_neuron_obj = seperate_neuron_objects[0]\n",
    "curr_neuron_obj"
   ]
  },
  {
   "cell_type": "code",
   "execution_count": 464,
   "metadata": {},
   "outputs": [
    {
     "data": {
      "image/png": "[encoded data removed]",
      "text/plain": [
       "<Figure size 432x288 with 1 Axes>"
      ]
     },
     "metadata": {},
     "output_type": "display_data"
    }
   ],
   "source": [
    "nviz.plot_soma_limb_concept_network(curr_neuron_obj)"
   ]
  },
  {
   "cell_type": "code",
   "execution_count": 465,
   "metadata": {},
   "outputs": [],
   "source": [
    "soma_names = curr_neuron_obj.get_soma_node_names()\n",
    "if len(soma_names)>1:\n",
    "    raise Exception(f\"More than 1 soma: {soma_names}\")\n",
    "\n",
    "soma_name = soma_names[0]"
   ]
  },
  {
   "cell_type": "code",
   "execution_count": 466,
   "metadata": {},
   "outputs": [
    {
     "data": {
      "text/plain": [
       "({0: 1.19, 1: 107.49, 2: 100.29, 3: 123.22, 4: 135.3, 5: 106.91},\n",
       " [1, 2, 3, 4, 5])"
      ]
     },
     "execution_count": 466,
     "metadata": {},
     "output_type": "execute_result"
    }
   ],
   "source": [
    "import neuron_statistics as nst\n",
    "\n",
    "axon_soma_angle_threshold = 70\n",
    "possible_axon_limbs = []\n",
    "\n",
    "# Find the limb find the soma angle AND Filter away all limbs with a soma starting angle above threshold\n",
    "limb_to_starting_angle = dict()\n",
    "for curr_limb_idx,curr_limb in enumerate(curr_neuron_obj):\n",
    "    curr_soma_angle = nst.soma_starting_angle(curr_neuron_obj,curr_limb_idx)\n",
    "    limb_to_starting_angle[curr_limb_idx] = curr_soma_angle\n",
    "    \n",
    "    if curr_soma_angle > axon_soma_angle_threshold:\n",
    "        possible_axon_limbs.append(curr_limb_idx)\n",
    "    \n",
    "    \n",
    "\n",
    "limb_to_starting_angle,possible_axon_limbs"
   ]
  },
  {
   "cell_type": "code",
   "execution_count": null,
   "metadata": {},
   "outputs": [],
   "source": [
    "curr_neuron_obj[4][0]"
   ]
  },
  {
   "cell_type": "code",
   "execution_count": 566,
   "metadata": {},
   "outputs": [
    {
     "data": {
      "application/vnd.jupyter.widget-view+json": {
       "model_id": "fa76fc10103c401a8f16b50b5b9b9709",
       "version_major": 2,
       "version_minor": 0
      },
      "text/plain": [
       "VBox(children=(Figure(camera=PerspectiveCamera(fov=46.0, position=(0.0, 0.0, 2.0), quaternion=(0.0, 0.0, 0.0, …"
      ]
     },
     "metadata": {},
     "output_type": "display_data"
    }
   ],
   "source": [
    "curr_limb = curr_neuron_obj[4][0]\n",
    "nviz.plot_objects(curr_limb.mesh,\n",
    "                 meshes=curr_limb.spines,\n",
    "                 meshes_colors=\"red\")"
   ]
  },
  {
   "cell_type": "code",
   "execution_count": 524,
   "metadata": {},
   "outputs": [
    {
     "name": "stdout",
     "output_type": "stream",
     "text": [
      "\n",
      " Working on visualization type: mesh\n",
      "\n",
      " Working on visualization type: skeleton\n"
     ]
    },
    {
     "data": {
      "application/vnd.jupyter.widget-view+json": {
       "model_id": "41f8e8abe44b4bb2b061674e9e57f29a",
       "version_major": 2,
       "version_minor": 0
      },
      "text/plain": [
       "VBox(children=(Figure(camera=PerspectiveCamera(fov=46.0, position=(0.0, 0.0, 2.0), quaternion=(0.0, 0.0, 0.0, …"
      ]
     },
     "metadata": {},
     "output_type": "display_data"
    }
   ],
   "source": [
    "ret_col = nviz.visualize_neuron(curr_neuron_obj,\n",
    "                     visualize_type=[\"mesh\",\"skeleton\"],\n",
    "                     limb_branch_dict=dict(L2=\"all\"),\n",
    "                     return_color_dict=True)"
   ]
  },
  {
   "cell_type": "code",
   "execution_count": 525,
   "metadata": {},
   "outputs": [
    {
     "name": "stdout",
     "output_type": "stream",
     "text": [
      "No limb name was given so using L2 because was the limb in the first key\n"
     ]
    },
    {
     "data": {
      "image/png": "[encoded data removed]",
      "text/plain": [
       "<Figure size 2880x1440 with 1 Axes>"
      ]
     },
     "metadata": {},
     "output_type": "display_data"
    }
   ],
   "source": [
    "nviz.plot_limb_concept_network_2D(curr_neuron_obj,\n",
    "                                 node_colors=ret_col)"
   ]
  },
  {
   "cell_type": "code",
   "execution_count": 526,
   "metadata": {},
   "outputs": [
    {
     "data": {
      "text/plain": [
       "<neuron.Branch at 0x7f62cd81b390>"
      ]
     },
     "execution_count": 526,
     "metadata": {},
     "output_type": "execute_result"
    }
   ],
   "source": [
    "ex_branch = curr_neuron_obj[2][2]\n",
    "ex_branch"
   ]
  },
  {
   "cell_type": "code",
   "execution_count": 527,
   "metadata": {},
   "outputs": [
    {
     "data": {
      "text/plain": [
       "[<trimesh.Trimesh(vertices.shape=(89, 3), faces.shape=(173, 3))>,\n",
       " <trimesh.Trimesh(vertices.shape=(42, 3), faces.shape=(79, 3))>,\n",
       " <trimesh.Trimesh(vertices.shape=(39, 3), faces.shape=(72, 3))>,\n",
       " <trimesh.Trimesh(vertices.shape=(32, 3), faces.shape=(58, 3))>,\n",
       " <trimesh.Trimesh(vertices.shape=(29, 3), faces.shape=(50, 3))>,\n",
       " <trimesh.Trimesh(vertices.shape=(17, 3), faces.shape=(29, 3))>,\n",
       " <trimesh.Trimesh(vertices.shape=(14, 3), faces.shape=(27, 3))>,\n",
       " <trimesh.Trimesh(vertices.shape=(16, 3), faces.shape=(27, 3))>,\n",
       " <trimesh.Trimesh(vertices.shape=(16, 3), faces.shape=(26, 3))>,\n",
       " <trimesh.Trimesh(vertices.shape=(15, 3), faces.shape=(25, 3))>,\n",
       " <trimesh.Trimesh(vertices.shape=(15, 3), faces.shape=(24, 3))>]"
      ]
     },
     "execution_count": 527,
     "metadata": {},
     "output_type": "execute_result"
    }
   ],
   "source": [
    "ex_branch.spines"
   ]
  },
  {
   "cell_type": "code",
   "execution_count": 529,
   "metadata": {},
   "outputs": [
    {
     "data": {
      "application/vnd.jupyter.widget-view+json": {
       "model_id": "674f5070687a47ab8c5dd4eb067f64aa",
       "version_major": 2,
       "version_minor": 0
      },
      "text/plain": [
       "VBox(children=(Figure(camera=PerspectiveCamera(fov=46.0, position=(0.0, 0.0, 2.0), quaternion=(0.0, 0.0, 0.0, …"
      ]
     },
     "metadata": {},
     "output_type": "display_data"
    }
   ],
   "source": [
    "nviz.plot_objects(ex_branch.mesh,\n",
    "                 meshes=ex_branch.spines,\n",
    "                 meshes_colors=\"red\")"
   ]
  },
  {
   "cell_type": "code",
   "execution_count": 537,
   "metadata": {},
   "outputs": [
    {
     "data": {
      "text/plain": [
       "[[1027,\n",
       "  356,\n",
       "  3396,\n",
       "  1254,\n",
       "  1412,\n",
       "  2857,\n",
       "  2987,\n",
       "  305,\n",
       "  3220,\n",
       "  3573,\n",
       "  1110,\n",
       "  87,\n",
       "  1464,\n",
       "  1339,\n",
       "  637,\n",
       "  383]]"
      ]
     },
     "execution_count": 537,
     "metadata": {},
     "output_type": "execute_result"
    }
   ],
   "source": [
    "group = tu.find_border_vertex_groups(ex_branch.mesh)\n",
    "group"
   ]
  },
  {
   "cell_type": "code",
   "execution_count": 551,
   "metadata": {},
   "outputs": [],
   "source": [
    "m_skel_history = []"
   ]
  },
  {
   "cell_type": "code",
   "execution_count": 552,
   "metadata": {},
   "outputs": [
    {
     "data": {
      "text/plain": [
       "2857"
      ]
     },
     "execution_count": 552,
     "metadata": {},
     "output_type": "execute_result"
    }
   ],
   "source": [
    "curr_root"
   ]
  },
  {
   "cell_type": "code",
   "execution_count": 568,
   "metadata": {},
   "outputs": [
    {
     "name": "stderr",
     "output_type": "stream",
     "text": [
      "100%|██████████| 1/1 [00:00<00:00, 77.94it/s]"
     ]
    },
    {
     "name": "stdout",
     "output_type": "stream",
     "text": [
      "invalidation_d = 3500\n",
      "cc_vertex_thresh = 10\n",
      "branches_touching_root = [1]\n"
     ]
    },
    {
     "name": "stderr",
     "output_type": "stream",
     "text": [
      "\n"
     ]
    }
   ],
   "source": [
    "curr_root = group[0][12]\n",
    "m_skel = sk.skeletonize_connected_branch_meshparty(curr_neuron_obj[4][0].mesh,\n",
    "                                                    #ex_branch.mesh,\n",
    "                                                   #root =ex_branch.mesh.vertices[curr_root],\n",
    "                                                  invalidation_d=3500,\n",
    "                                                  combine_close_skeleton_nodes_threshold=0,\n",
    "                                                  )"
   ]
  },
  {
   "cell_type": "code",
   "execution_count": 562,
   "metadata": {},
   "outputs": [],
   "source": [
    "m_skel_history.append(m_skel)"
   ]
  },
  {
   "cell_type": "code",
   "execution_count": 570,
   "metadata": {},
   "outputs": [
    {
     "data": {
      "application/vnd.jupyter.widget-view+json": {
       "model_id": "34d7df2239fd4e10929e56e1f3885988",
       "version_major": 2,
       "version_minor": 0
      },
      "text/plain": [
       "VBox(children=(Figure(camera=PerspectiveCamera(fov=46.0, position=(0.0, 0.0, 2.0), quaternion=(0.0, 0.0, 0.0, …"
      ]
     },
     "metadata": {},
     "output_type": "display_data"
    }
   ],
   "source": [
    "nviz.plot_objects(curr_neuron_obj[4][0].mesh,\n",
    "                  skeletons=m_skel,\n",
    "                  meshes=ex_branch.spines,\n",
    "                 meshes_colors=\"red\",\n",
    "                  \n",
    "                 )"
   ]
  },
  {
   "cell_type": "code",
   "execution_count": null,
   "metadata": {},
   "outputs": [],
   "source": []
  },
  {
   "cell_type": "code",
   "execution_count": 467,
   "metadata": {},
   "outputs": [
    {
     "name": "stdout",
     "output_type": "stream",
     "text": [
      "\n",
      " Working on visualization type: mesh\n",
      "\n",
      " Working on visualization type: skeleton\n"
     ]
    },
    {
     "data": {
      "application/vnd.jupyter.widget-view+json": {
       "model_id": "bbe33e61092e418fab2e7511062ab040",
       "version_major": 2,
       "version_minor": 0
      },
      "text/plain": [
       "VBox(children=(Figure(camera=PerspectiveCamera(fov=46.0, position=(0.0, 0.0, 2.0), quaternion=(0.0, 0.0, 0.0, …"
      ]
     },
     "metadata": {},
     "output_type": "display_data"
    }
   ],
   "source": [
    "nviz.visualize_neuron(curr_neuron_obj,\n",
    "                     visualize_type=[\"mesh\",\"skeleton\"],\n",
    "                     limb_branch_dict={f\"L{k}\":\"all\" for k in possible_axon_limbs})"
   ]
  },
  {
   "cell_type": "markdown",
   "metadata": {},
   "source": [
    "# Classifying all axons"
   ]
  },
  {
   "cell_type": "code",
   "execution_count": 334,
   "metadata": {},
   "outputs": [],
   "source": [
    "import neuron_searching as ns"
   ]
  },
  {
   "cell_type": "code",
   "execution_count": 521,
   "metadata": {},
   "outputs": [
    {
     "name": "stdout",
     "output_type": "stream",
     "text": [
      "current_query = (n_spines < 4 and (median_mesh_center < 600) and skeleton_distance_branch <= 15000) or (skeleton_distance_branch > 15000 and (median_mesh_center < 600) and spines_per_skeletal_length < 0.00023)\n",
      "functions_list = [<function width at 0x7f63c3605158>, <function median_mesh_center at 0x7f6308a792f0>, <function n_spines at 0x7f6308a79048>, <function n_faces_branch at 0x7f62a77ebb70>, <function skeleton_distance_branch at 0x7f630942bbf8>, <function spines_per_skeletal_length at 0x7f6308a79598>, <function no_spine_median_mesh_center at 0x7f6308a79400>]\n",
      "\n",
      " Working on visualization type: mesh\n"
     ]
    },
    {
     "data": {
      "application/vnd.jupyter.widget-view+json": {
       "model_id": "79ac95019f8a49428f1e88a0d0908485",
       "version_major": 2,
       "version_minor": 0
      },
      "text/plain": [
       "VBox(children=(Figure(camera=PerspectiveCamera(fov=46.0, position=(0.0, 0.0, 2.0), quaternion=(0.0, 0.0, 0.0, …"
      ]
     },
     "metadata": {},
     "output_type": "display_data"
    }
   ],
   "source": [
    "axon_like_limb_branch_dict = ns.axon_width_like_segments(curr_neuron_obj,\n",
    "                                                        include_ais=True)\n",
    "\n",
    "nviz.visualize_neuron(curr_neuron_obj,\n",
    "                      visualize_type=[\"mesh\"],\n",
    "                     limb_branch_dict=axon_like_limb_branch_dict,\n",
    "                     mesh_color=\"red\",\n",
    "                      mesh_color_alpha=1,\n",
    "                     mesh_whole_neuron=True)"
   ]
  },
  {
   "cell_type": "code",
   "execution_count": 522,
   "metadata": {},
   "outputs": [
    {
     "name": "stdout",
     "output_type": "stream",
     "text": [
      "functions_list = [<function axon_segment at 0x7f6308a79b70>]\n",
      "\n",
      " Working on visualization type: mesh\n"
     ]
    },
    {
     "data": {
      "application/vnd.jupyter.widget-view+json": {
       "model_id": "63059c41a65141bd80e607747e52c936",
       "version_major": 2,
       "version_minor": 0
      },
      "text/plain": [
       "VBox(children=(Figure(camera=PerspectiveCamera(fov=46.0, position=(0.0, 0.0, 2.0), quaternion=(0.0, 0.0, 0.0, …"
      ]
     },
     "metadata": {},
     "output_type": "display_data"
    }
   ],
   "source": [
    "#How to give a limb_branch_dict as an argument\n",
    "ns = reload(ns)\n",
    "current_functions_list = [\"axon_segment\"]\n",
    "final_axon_like_classification = ns.query_neuron(curr_neuron_obj,\n",
    "                                        \n",
    "                                   query=\"axon_segment==True\",\n",
    "                                   function_kwargs=dict(limb_branch_dict =axon_like_limb_branch_dict,\n",
    "                                                        downstream_face_threshold=3000,\n",
    "                                                        width_match_threshold=50,\n",
    "                                                       print_flag=False),\n",
    "                                   functions_list=current_functions_list)\n",
    "\n",
    "nviz.visualize_neuron(curr_neuron_obj,\n",
    "                      visualize_type=[\"mesh\"],\n",
    "                     limb_branch_dict=final_axon_like_classification,\n",
    "                     mesh_color=\"red\",\n",
    "                      mesh_color_alpha=1,\n",
    "                     mesh_whole_neuron=True)\n"
   ]
  },
  {
   "cell_type": "code",
   "execution_count": 341,
   "metadata": {},
   "outputs": [
    {
     "name": "stdout",
     "output_type": "stream",
     "text": [
      "\n",
      " Working on visualization type: mesh\n",
      "\n",
      " Working on visualization type: skeleton\n"
     ]
    },
    {
     "data": {
      "application/vnd.jupyter.widget-view+json": {
       "model_id": "064da6cb7a7745e78c44a810295e3094",
       "version_major": 2,
       "version_minor": 0
      },
      "text/plain": [
       "VBox(children=(Figure(camera=PerspectiveCamera(fov=46.0, position=(0.0, 0.0, 2.0), quaternion=(0.0, 0.0, 0.0, …"
      ]
     },
     "metadata": {},
     "output_type": "display_data"
    }
   ],
   "source": [
    "nviz.plot_spines(curr_neuron_obj)"
   ]
  },
  {
   "cell_type": "code",
   "execution_count": null,
   "metadata": {},
   "outputs": [],
   "source": []
  }
 ],
 "metadata": {
  "kernelspec": {
   "display_name": "Python 3",
   "language": "python",
   "name": "python3"
  },
  "language_info": {
   "codemirror_mode": {
    "name": "ipython",
    "version": 3
   },
   "file_extension": ".py",
   "mimetype": "text/x-python",
   "name": "python",
   "nbconvert_exporter": "python",
   "pygments_lexer": "ipython3",
   "version": "3.6.9"
  }
 },
 "nbformat": 4,
 "nbformat_minor": 4
}
