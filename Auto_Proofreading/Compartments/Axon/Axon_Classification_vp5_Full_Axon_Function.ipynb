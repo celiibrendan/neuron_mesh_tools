{
 "cells": [
  {
   "cell_type": "code",
   "execution_count": null,
   "metadata": {},
   "outputs": [],
   "source": [
    "\"\"\"\n",
    "Purpose: To put the whole axon classificatoin steps \n",
    "together into one function that will labels\n",
    "branches as axon-like, axon and error\n",
    "\n",
    "\"\"\""
   ]
  },
  {
   "cell_type": "code",
   "execution_count": 1,
   "metadata": {},
   "outputs": [],
   "source": [
    "%load_ext autoreload\n",
    "%autoreload 2"
   ]
  },
  {
   "cell_type": "code",
   "execution_count": 2,
   "metadata": {},
   "outputs": [],
   "source": [
    "from os import sys\n",
    "sys.path.append(\"/meshAfterParty/\")"
   ]
  },
  {
   "cell_type": "code",
   "execution_count": 199,
   "metadata": {},
   "outputs": [],
   "source": [
    "from importlib import reload\n",
    "\n",
    "import neuron_utils as nru\n",
    "\n",
    "import neuron\n",
    "\n",
    "import neuron_visualizations as nviz\n",
    "\n",
    "import time\n",
    "\n",
    "import datajoint_utils as du\n",
    "\n",
    "import numpy as np\n",
    "\n",
    "import proofreading_utils as pru\n",
    "\n",
    "import preprocessing_vp2 as pre\n",
    "\n",
    "# -- For the axon classification --\n",
    "\n",
    "import neuron_searching as ns\n",
    "\n",
    "import skeleton_utils as sk\n",
    "\n",
    "import numpy_utils as nu\n",
    "\n",
    "import networkx_utils as xu\n",
    "\n",
    "import system_utils as su"
   ]
  },
  {
   "cell_type": "markdown",
   "metadata": {},
   "source": [
    "# Importing Neuron"
   ]
  },
  {
   "cell_type": "code",
   "execution_count": 210,
   "metadata": {},
   "outputs": [],
   "source": [
    "neuron_obj_file = \"classic_double_neuron_1\""
   ]
  },
  {
   "cell_type": "code",
   "execution_count": 211,
   "metadata": {},
   "outputs": [
    {
     "name": "stdout",
     "output_type": "stream",
     "text": [
      "Inside decompress neuron and decomposition_type = meshafterparty\n",
      "Decompress pickle time = 0.419466495513916\n",
      "Getting mesh time = 5.373567342758179\n",
      "Passed faces original mesh check\n",
      "Passed vertices original mesh check\n",
      "Face and Vertices check time = 3.5762786865234375e-05\n",
      "using precomputed soma_volume_ratios\n",
      "Original Soma mesh time = 0.19947171211242676\n",
      "Insignificant and Not-processed and glia time = 1.239776611328125e-05\n",
      "Limb meshes time = 0.1742241382598877\n",
      "Working on limb 0\n"
     ]
    },
    {
     "data": {
      "application/vnd.jupyter.widget-view+json": {
       "model_id": "16a3d4866f0447c4b32e1c3f13eeb5c2",
       "version_major": 2,
       "version_minor": 0
      },
      "text/plain": [
       "HBox(children=(FloatProgress(value=0.0, max=47.0), HTML(value='')))"
      ]
     },
     "metadata": {},
     "output_type": "display_data"
    },
    {
     "name": "stdout",
     "output_type": "stream",
     "text": [
      "  Working on branch 0\n",
      "  Working on branch 1\n",
      "  Working on branch 2\n",
      "  Working on branch 3\n",
      "  Working on branch 4\n",
      "  Working on branch 5\n",
      "  Working on branch 6\n",
      "  Working on branch 7\n",
      "  Working on branch 8\n",
      "  Working on branch 9\n",
      "  Working on branch 10\n",
      "  Working on branch 11\n",
      "  Working on branch 12\n",
      "  Working on branch 13\n",
      "  Working on branch 14\n",
      "  Working on branch 15\n",
      "  Working on branch 16\n",
      "  Working on branch 17\n",
      "  Working on branch 18\n",
      "  Working on branch 19\n",
      "  Working on branch 20\n",
      "  Working on branch 21\n",
      "  Working on branch 22\n",
      "  Working on branch 23\n",
      "  Working on branch 24\n",
      "  Working on branch 25\n",
      "  Working on branch 26\n",
      "  Working on branch 27\n",
      "  Working on branch 28\n",
      "  Working on branch 29\n",
      "  Working on branch 30\n",
      "  Working on branch 31\n",
      "  Working on branch 32\n",
      "  Working on branch 33\n",
      "  Working on branch 34\n",
      "  Working on branch 35\n",
      "  Working on branch 36\n",
      "  Working on branch 37\n",
      "  Working on branch 38\n",
      "  Working on branch 39\n",
      "  Working on branch 40\n",
      "  Working on branch 41\n",
      "  Working on branch 42\n",
      "  Working on branch 43\n",
      "  Working on branch 44\n",
      "  Working on branch 45\n",
      "  Working on branch 46\n",
      "\n",
      "Working on limb 1\n"
     ]
    },
    {
     "data": {
      "application/vnd.jupyter.widget-view+json": {
       "model_id": "a2adaadaeb87405ca7bb146ce4617420",
       "version_major": 2,
       "version_minor": 0
      },
      "text/plain": [
       "HBox(children=(FloatProgress(value=0.0, max=24.0), HTML(value='')))"
      ]
     },
     "metadata": {},
     "output_type": "display_data"
    },
    {
     "name": "stdout",
     "output_type": "stream",
     "text": [
      "  Working on branch 0\n",
      "  Working on branch 1\n",
      "  Working on branch 2\n",
      "  Working on branch 3\n",
      "  Working on branch 4\n",
      "  Working on branch 5\n",
      "  Working on branch 6\n",
      "  Working on branch 7\n",
      "  Working on branch 8\n",
      "  Working on branch 9\n",
      "  Working on branch 10\n",
      "  Working on branch 11\n",
      "  Working on branch 12\n",
      "  Working on branch 13\n",
      "  Working on branch 14\n",
      "  Working on branch 15\n",
      "  Working on branch 16\n",
      "  Working on branch 17\n",
      "  Working on branch 18\n",
      "  Working on branch 19\n",
      "  Working on branch 20\n",
      "  Working on branch 21\n",
      "  Working on branch 22\n",
      "  Working on branch 23\n",
      "\n",
      "Working on limb 2\n"
     ]
    },
    {
     "data": {
      "application/vnd.jupyter.widget-view+json": {
       "model_id": "079fd7d4b10e4fccbed5464f2adefd6a",
       "version_major": 2,
       "version_minor": 0
      },
      "text/plain": [
       "HBox(children=(FloatProgress(value=0.0, max=25.0), HTML(value='')))"
      ]
     },
     "metadata": {},
     "output_type": "display_data"
    },
    {
     "name": "stdout",
     "output_type": "stream",
     "text": [
      "  Working on branch 0\n",
      "  Working on branch 1\n",
      "  Working on branch 2\n",
      "  Working on branch 3\n",
      "  Working on branch 4\n",
      "  Working on branch 5\n",
      "  Working on branch 6\n",
      "  Working on branch 7\n",
      "  Working on branch 8\n",
      "  Working on branch 9\n",
      "  Working on branch 10\n",
      "  Working on branch 11\n",
      "  Working on branch 12\n",
      "  Working on branch 13\n",
      "  Working on branch 14\n",
      "  Working on branch 15\n",
      "  Working on branch 16\n",
      "  Working on branch 17\n",
      "  Working on branch 18\n",
      "  Working on branch 19\n",
      "  Working on branch 20\n",
      "  Working on branch 21\n",
      "  Working on branch 22\n",
      "  Working on branch 23\n",
      "  Working on branch 24\n",
      "\n",
      "Working on limb 3\n"
     ]
    },
    {
     "data": {
      "application/vnd.jupyter.widget-view+json": {
       "model_id": "f57ce7f786654bb0af36da2e1656f47e",
       "version_major": 2,
       "version_minor": 0
      },
      "text/plain": [
       "HBox(children=(FloatProgress(value=0.0, max=7.0), HTML(value='')))"
      ]
     },
     "metadata": {},
     "output_type": "display_data"
    },
    {
     "name": "stdout",
     "output_type": "stream",
     "text": [
      "  Working on branch 0\n",
      "  Working on branch 1\n",
      "  Working on branch 2\n",
      "  Working on branch 3\n",
      "  Working on branch 4\n",
      "  Working on branch 5\n",
      "  Working on branch 6\n",
      "\n",
      "Working on limb 4\n"
     ]
    },
    {
     "data": {
      "application/vnd.jupyter.widget-view+json": {
       "model_id": "735fd6587d4346d29f57cad9a424d7aa",
       "version_major": 2,
       "version_minor": 0
      },
      "text/plain": [
       "HBox(children=(FloatProgress(value=0.0, max=1.0), HTML(value='')))"
      ]
     },
     "metadata": {},
     "output_type": "display_data"
    },
    {
     "name": "stdout",
     "output_type": "stream",
     "text": [
      "  Working on branch 0\n",
      "\n",
      "Working on limb 5\n"
     ]
    },
    {
     "data": {
      "application/vnd.jupyter.widget-view+json": {
       "model_id": "752ea6b9dbf04515b468754b7da5d3c3",
       "version_major": 2,
       "version_minor": 0
      },
      "text/plain": [
       "HBox(children=(FloatProgress(value=0.0, max=6.0), HTML(value='')))"
      ]
     },
     "metadata": {},
     "output_type": "display_data"
    },
    {
     "name": "stdout",
     "output_type": "stream",
     "text": [
      "  Working on branch 0\n",
      "  Working on branch 1\n",
      "  Working on branch 2\n",
      "  Working on branch 3\n",
      "  Working on branch 4\n",
      "  Working on branch 5\n",
      "\n",
      "Limb Correspondence = 3.1969006061553955\n",
      "calculating limb networks = 3.1680076122283936\n",
      "Already have preprocessed data\n",
      "--- 1) Finished unpacking preprocessed materials: 3.123283386230469e-05\n",
      "total_edges = [['S0', 'L0'], ['S0', 'L1'], ['S0', 'L2'], ['S0', 'L3'], ['S0', 'L4'], ['S0', 'L5']]\n",
      "--- 2) Finished creating neuron connectivity graph: 9.5367431640625e-05\n",
      "Having to generate soma_meshes_face_idx because none in preprocessed data\n",
      "--- 3a) Finshed generating soma_meshes_face_idx: 0.345684289932251\n",
      "Using precomputed volume ratio\n",
      "--- 3) Finshed generating soma objects and adding them to concept graph: 0.12450957298278809\n",
      "--- 4a) Finshed generating curr_limb_meshes_face_idx: 1.2181758880615234\n",
      "curr_limb_concept_networks= {0: [<networkx_utils.GraphOrderedEdges object at 0x7f98ba83b390>]}\n",
      "curr_limb_concept_networks= {0: [<networkx_utils.GraphOrderedEdges object at 0x7f98ba83b0b8>]}\n",
      "curr_limb_concept_networks= {0: [<networkx_utils.GraphOrderedEdges object at 0x7f98ba83b128>]}\n",
      "curr_limb_concept_networks= {0: [<networkx_utils.GraphOrderedEdges object at 0x7f98ba83b080>]}\n",
      "curr_limb_concept_networks= {0: [<networkx_utils.GraphOrderedEdges object at 0x7f9965760e80>]}\n",
      "Concept graph size was 1 or less so returning original\n",
      "curr_limb_concept_networks= {0: [<networkx_utils.GraphOrderedEdges object at 0x7f98ba83b7f0>]}\n",
      "--- 4) Finshed generating Limb objects and adding them to concept graph: 3.1942121982574463\n",
      "--- 5) SKIPPING Doing the adaptive mesh correspondence on the meshparty preprocessing ---\n",
      "--- 6) Using the computed_attribute_dict to populate neuron attributes ---\n",
      "Working on Limb 0:\n",
      "Working on Limb 1:\n",
      "Working on Limb 2:\n",
      "Working on Limb 3:\n",
      "Working on Limb 4:\n",
      "Working on Limb 5:\n",
      "Working on Limb 0:\n",
      "Working on Limb 1:\n",
      "Working on Limb 2:\n",
      "Working on Limb 3:\n",
      "Working on Limb 4:\n",
      "Working on Limb 5:\n",
      "Working on Limb 0:\n",
      "     Branch 0\n",
      "curr_branch.mesh = <trimesh.Trimesh(vertices.shape=(5403, 3), faces.shape=(10858, 3))>\n",
      "     Branch 1\n",
      "     Branch 2\n",
      "curr_branch.mesh = <trimesh.Trimesh(vertices.shape=(249, 3), faces.shape=(464, 3))>\n",
      "     Branch 3\n",
      "     Branch 4\n",
      "curr_branch.mesh = <trimesh.Trimesh(vertices.shape=(6575, 3), faces.shape=(13150, 3))>\n",
      "     Branch 5\n",
      "     Branch 6\n",
      "curr_branch.mesh = <trimesh.Trimesh(vertices.shape=(5931, 3), faces.shape=(11851, 3))>\n",
      "     Branch 7\n",
      "     Branch 8\n",
      "     Branch 9\n",
      "curr_branch.mesh = <trimesh.Trimesh(vertices.shape=(5714, 3), faces.shape=(11407, 3))>\n",
      "     Branch 10\n",
      "curr_branch.mesh = <trimesh.Trimesh(vertices.shape=(7761, 3), faces.shape=(15548, 3))>\n",
      "     Branch 11\n",
      "curr_branch.mesh = <trimesh.Trimesh(vertices.shape=(7770, 3), faces.shape=(15571, 3))>\n",
      "     Branch 12\n",
      "curr_branch.mesh = <trimesh.Trimesh(vertices.shape=(1009, 3), faces.shape=(1952, 3))>\n",
      "     Branch 13\n",
      "curr_branch.mesh = <trimesh.Trimesh(vertices.shape=(4697, 3), faces.shape=(9344, 3))>\n",
      "     Branch 14\n",
      "curr_branch.mesh = <trimesh.Trimesh(vertices.shape=(3553, 3), faces.shape=(7095, 3))>\n",
      "     Branch 15\n",
      "curr_branch.mesh = <trimesh.Trimesh(vertices.shape=(4845, 3), faces.shape=(9692, 3))>\n",
      "     Branch 16\n",
      "     Branch 17\n",
      "curr_branch.mesh = <trimesh.Trimesh(vertices.shape=(2437, 3), faces.shape=(4815, 3))>\n",
      "     Branch 18\n",
      "     Branch 19\n",
      "curr_branch.mesh = <trimesh.Trimesh(vertices.shape=(2193, 3), faces.shape=(4283, 3))>\n",
      "     Branch 20\n",
      "     Branch 21\n",
      "     Branch 22\n",
      "curr_branch.mesh = <trimesh.Trimesh(vertices.shape=(2318, 3), faces.shape=(4570, 3))>\n",
      "     Branch 23\n",
      "curr_branch.mesh = <trimesh.Trimesh(vertices.shape=(483, 3), faces.shape=(886, 3))>\n",
      "     Branch 24\n",
      "curr_branch.mesh = <trimesh.Trimesh(vertices.shape=(577, 3), faces.shape=(1003, 3))>\n",
      "     Branch 25\n",
      "curr_branch.mesh = <trimesh.Trimesh(vertices.shape=(4241, 3), faces.shape=(8391, 3))>\n",
      "     Branch 26\n",
      "curr_branch.mesh = <trimesh.Trimesh(vertices.shape=(5658, 3), faces.shape=(11334, 3))>\n",
      "     Branch 27\n",
      "curr_branch.mesh = <trimesh.Trimesh(vertices.shape=(8475, 3), faces.shape=(16841, 3))>\n",
      "     Branch 28\n",
      "curr_branch.mesh = <trimesh.Trimesh(vertices.shape=(8106, 3), faces.shape=(16240, 3))>\n",
      "     Branch 29\n",
      "curr_branch.mesh = <trimesh.Trimesh(vertices.shape=(3289, 3), faces.shape=(6366, 3))>\n",
      "     Branch 30\n",
      "curr_branch.mesh = <trimesh.Trimesh(vertices.shape=(1509, 3), faces.shape=(2806, 3))>\n",
      "     Branch 31\n",
      "curr_branch.mesh = <trimesh.Trimesh(vertices.shape=(2588, 3), faces.shape=(5078, 3))>\n",
      "     Branch 32\n",
      "curr_branch.mesh = <trimesh.Trimesh(vertices.shape=(3444, 3), faces.shape=(6868, 3))>\n",
      "     Branch 33\n",
      "curr_branch.mesh = <trimesh.Trimesh(vertices.shape=(5380, 3), faces.shape=(10646, 3))>\n",
      "     Branch 34\n",
      "curr_branch.mesh = <trimesh.Trimesh(vertices.shape=(3870, 3), faces.shape=(7602, 3))>\n",
      "     Branch 35\n",
      "curr_branch.mesh = <trimesh.Trimesh(vertices.shape=(915, 3), faces.shape=(1756, 3))>\n",
      "     Branch 36\n",
      "curr_branch.mesh = <trimesh.Trimesh(vertices.shape=(1932, 3), faces.shape=(3707, 3))>\n",
      "     Branch 37\n",
      "curr_branch.mesh = <trimesh.Trimesh(vertices.shape=(8412, 3), faces.shape=(16857, 3))>\n",
      "     Branch 38\n",
      "     Branch 39\n",
      "curr_branch.mesh = <trimesh.Trimesh(vertices.shape=(2052, 3), faces.shape=(3947, 3))>\n",
      "     Branch 40\n",
      "curr_branch.mesh = <trimesh.Trimesh(vertices.shape=(4554, 3), faces.shape=(9043, 3))>\n",
      "     Branch 41\n",
      "curr_branch.mesh = <trimesh.Trimesh(vertices.shape=(5048, 3), faces.shape=(10038, 3))>\n",
      "     Branch 42\n",
      "curr_branch.mesh = <trimesh.Trimesh(vertices.shape=(1422, 3), faces.shape=(2792, 3))>\n",
      "     Branch 43\n",
      "curr_branch.mesh = <trimesh.Trimesh(vertices.shape=(6684, 3), faces.shape=(13401, 3))>\n",
      "     Branch 44\n",
      "curr_branch.mesh = <trimesh.Trimesh(vertices.shape=(1511, 3), faces.shape=(2973, 3))>\n",
      "     Branch 45\n",
      "     Branch 46\n",
      "curr_branch.mesh = <trimesh.Trimesh(vertices.shape=(6465, 3), faces.shape=(12987, 3))>\n",
      "Working on Limb 1:\n",
      "     Branch 0\n",
      "curr_branch.mesh = <trimesh.Trimesh(vertices.shape=(4574, 3), faces.shape=(9073, 3))>\n",
      "     Branch 1\n",
      "curr_branch.mesh = <trimesh.Trimesh(vertices.shape=(4098, 3), faces.shape=(8186, 3))>\n",
      "     Branch 2\n",
      "curr_branch.mesh = <trimesh.Trimesh(vertices.shape=(2405, 3), faces.shape=(4738, 3))>\n",
      "     Branch 3\n",
      "     Branch 4\n",
      "     Branch 5\n",
      "curr_branch.mesh = <trimesh.Trimesh(vertices.shape=(210, 3), faces.shape=(354, 3))>\n",
      "     Branch 6\n",
      "curr_branch.mesh = <trimesh.Trimesh(vertices.shape=(3420, 3), faces.shape=(6847, 3))>\n",
      "     Branch 7\n",
      "curr_branch.mesh = <trimesh.Trimesh(vertices.shape=(599, 3), faces.shape=(1146, 3))>\n",
      "     Branch 8\n",
      "curr_branch.mesh = <trimesh.Trimesh(vertices.shape=(11109, 3), faces.shape=(22344, 3))>\n",
      "     Branch 9\n",
      "     Branch 10\n",
      "curr_branch.mesh = <trimesh.Trimesh(vertices.shape=(7729, 3), faces.shape=(15444, 3))>\n",
      "     Branch 11\n",
      "curr_branch.mesh = <trimesh.Trimesh(vertices.shape=(2329, 3), faces.shape=(4637, 3))>\n",
      "     Branch 12\n",
      "     Branch 13\n",
      "     Branch 14\n",
      "     Branch 15\n",
      "curr_branch.mesh = <trimesh.Trimesh(vertices.shape=(1726, 3), faces.shape=(3319, 3))>\n",
      "     Branch 16\n",
      "     Branch 17\n",
      "curr_branch.mesh = <trimesh.Trimesh(vertices.shape=(3658, 3), faces.shape=(7328, 3))>\n",
      "     Branch 18\n",
      "curr_branch.mesh = <trimesh.Trimesh(vertices.shape=(81, 3), faces.shape=(120, 3))>\n",
      "     Branch 19\n",
      "curr_branch.mesh = <trimesh.Trimesh(vertices.shape=(1433, 3), faces.shape=(2839, 3))>\n",
      "     Branch 20\n",
      "     Branch 21\n",
      "     Branch 22\n",
      "     Branch 23\n",
      "curr_branch.mesh = <trimesh.Trimesh(vertices.shape=(4421, 3), faces.shape=(8845, 3))>\n",
      "Working on Limb 2:\n",
      "     Branch 0\n",
      "curr_branch.mesh = <trimesh.Trimesh(vertices.shape=(7667, 3), faces.shape=(15390, 3))>\n",
      "     Branch 1\n",
      "curr_branch.mesh = <trimesh.Trimesh(vertices.shape=(9158, 3), faces.shape=(18311, 3))>\n",
      "     Branch 2\n",
      "curr_branch.mesh = <trimesh.Trimesh(vertices.shape=(3718, 3), faces.shape=(7429, 3))>\n",
      "     Branch 3\n",
      "curr_branch.mesh = <trimesh.Trimesh(vertices.shape=(1754, 3), faces.shape=(3490, 3))>\n",
      "     Branch 4\n",
      "     Branch 5\n",
      "curr_branch.mesh = <trimesh.Trimesh(vertices.shape=(4054, 3), faces.shape=(8076, 3))>\n",
      "     Branch 6\n",
      "     Branch 7\n",
      "curr_branch.mesh = <trimesh.Trimesh(vertices.shape=(2510, 3), faces.shape=(4967, 3))>\n",
      "     Branch 8\n",
      "     Branch 9\n",
      "     Branch 10\n",
      "curr_branch.mesh = <trimesh.Trimesh(vertices.shape=(2525, 3), faces.shape=(4930, 3))>\n",
      "     Branch 11\n",
      "curr_branch.mesh = <trimesh.Trimesh(vertices.shape=(143, 3), faces.shape=(248, 3))>\n",
      "     Branch 12\n",
      "     Branch 13\n",
      "     Branch 14\n",
      "     Branch 15\n",
      "     Branch 16\n",
      "     Branch 17\n",
      "curr_branch.mesh = <trimesh.Trimesh(vertices.shape=(3783, 3), faces.shape=(7480, 3))>\n",
      "     Branch 18\n",
      "curr_branch.mesh = <trimesh.Trimesh(vertices.shape=(863, 3), faces.shape=(1658, 3))>\n",
      "     Branch 19\n",
      "curr_branch.mesh = <trimesh.Trimesh(vertices.shape=(1147, 3), faces.shape=(2237, 3))>\n",
      "     Branch 20\n",
      "curr_branch.mesh = <trimesh.Trimesh(vertices.shape=(404, 3), faces.shape=(696, 3))>\n",
      "     Branch 21\n",
      "curr_branch.mesh = <trimesh.Trimesh(vertices.shape=(6915, 3), faces.shape=(13791, 3))>\n",
      "     Branch 22\n",
      "curr_branch.mesh = <trimesh.Trimesh(vertices.shape=(397, 3), faces.shape=(679, 3))>\n",
      "     Branch 23\n",
      "     Branch 24\n",
      "curr_branch.mesh = <trimesh.Trimesh(vertices.shape=(5606, 3), faces.shape=(11187, 3))>\n",
      "Working on Limb 3:\n",
      "     Branch 0\n",
      "curr_branch.mesh = <trimesh.Trimesh(vertices.shape=(16932, 3), faces.shape=(33958, 3))>\n",
      "     Branch 1\n",
      "curr_branch.mesh = <trimesh.Trimesh(vertices.shape=(19259, 3), faces.shape=(38670, 3))>\n"
     ]
    },
    {
     "name": "stdout",
     "output_type": "stream",
     "text": [
      "     Branch 2\n",
      "curr_branch.mesh = <trimesh.Trimesh(vertices.shape=(3494, 3), faces.shape=(6889, 3))>\n",
      "     Branch 3\n",
      "curr_branch.mesh = <trimesh.Trimesh(vertices.shape=(1689, 3), faces.shape=(3285, 3))>\n",
      "     Branch 4\n",
      "curr_branch.mesh = <trimesh.Trimesh(vertices.shape=(2408, 3), faces.shape=(4721, 3))>\n",
      "     Branch 5\n",
      "curr_branch.mesh = <trimesh.Trimesh(vertices.shape=(6518, 3), faces.shape=(13045, 3))>\n",
      "     Branch 6\n",
      "curr_branch.mesh = <trimesh.Trimesh(vertices.shape=(1532, 3), faces.shape=(3041, 3))>\n",
      "Working on Limb 4:\n",
      "     Branch 0\n",
      "curr_branch.mesh = <trimesh.Trimesh(vertices.shape=(1038, 3), faces.shape=(2040, 3))>\n",
      "Working on Limb 5:\n",
      "     Branch 0\n",
      "curr_branch.mesh = <trimesh.Trimesh(vertices.shape=(2675, 3), faces.shape=(5281, 3))>\n",
      "     Branch 1\n",
      "curr_branch.mesh = <trimesh.Trimesh(vertices.shape=(5056, 3), faces.shape=(10200, 3))>\n",
      "     Branch 2\n",
      "curr_branch.mesh = <trimesh.Trimesh(vertices.shape=(5796, 3), faces.shape=(11583, 3))>\n",
      "     Branch 3\n",
      "     Branch 4\n",
      "curr_branch.mesh = <trimesh.Trimesh(vertices.shape=(1229, 3), faces.shape=(2377, 3))>\n",
      "     Branch 5\n",
      "curr_branch.mesh = <trimesh.Trimesh(vertices.shape=(6553, 3), faces.shape=(13074, 3))>\n",
      "Working on Limb 0:\n",
      "Working on Limb 1:\n",
      "Working on Limb 2:\n",
      "Working on Limb 3:\n",
      "Working on Limb 4:\n",
      "Working on Limb 5:\n",
      "Working on Limb 0:\n",
      "Working on Limb 1:\n",
      "Working on Limb 2:\n",
      "Working on Limb 3:\n",
      "Working on Limb 4:\n",
      "Working on Limb 5:\n",
      "--- 6) FINISHED Using the computed_attribute_dict to populate neuron attributes: 1.0281295776367188\n",
      "self.n_limbs = 6\n",
      "Total time for neuron instance creation = 5.9113664627075195\n",
      "Sending to Neuron Object = 5.911427736282349\n"
     ]
    }
   ],
   "source": [
    "nru = reload(nru)\n",
    "curr_neuron_obj = nru.decompress_neuron(neuron_obj_file,neuron_obj_file,\n",
    "                                       suppress_output=True,\n",
    "                                       debug_time=False)"
   ]
  },
  {
   "cell_type": "markdown",
   "metadata": {},
   "source": [
    "# Debugging the new spining"
   ]
  },
  {
   "cell_type": "code",
   "execution_count": 212,
   "metadata": {},
   "outputs": [
    {
     "name": "stdout",
     "output_type": "stream",
     "text": [
      "\n",
      " Working on visualization type: mesh\n",
      "\n",
      " Working on visualization type: skeleton\n"
     ]
    },
    {
     "data": {
      "application/vnd.jupyter.widget-view+json": {
       "model_id": "a5e12b66bb9945dc81f6033a6a136cc8",
       "version_major": 2,
       "version_minor": 0
      },
      "text/plain": [
       "VBox(children=(Figure(camera=PerspectiveCamera(fov=46.0, position=(0.0, 0.0, 2.0), quaternion=(0.0, 0.0, 0.0, …"
      ]
     },
     "metadata": {},
     "output_type": "display_data"
    }
   ],
   "source": [
    "nviz.visualize_neuron(curr_neuron_obj,\n",
    "                      limb_branch_dict=\"all\")"
   ]
  },
  {
   "cell_type": "code",
   "execution_count": 213,
   "metadata": {},
   "outputs": [
    {
     "name": "stdout",
     "output_type": "stream",
     "text": [
      "query = median_mesh_center > 115 and n_faces_branch>100\n",
      "smoothness_threshold = 0.1\n",
      "The median_mesh_center was requested and HAS already been calculated\n",
      "functions_list = [<function median_mesh_center at 0x7f98d7db39d8>, <function n_faces_branch at 0x7f98d7db3f28>]\n",
      "segment_name before cgal = L0_0\n"
     ]
    },
    {
     "data": {
      "application/vnd.jupyter.widget-view+json": {
       "model_id": "3fb815d917c3437c8c3e497954cafaee",
       "version_major": 2,
       "version_minor": 0
      },
      "text/plain": [
       "HBox(children=(FloatProgress(value=0.0, max=49.0), HTML(value='')))"
      ]
     },
     "metadata": {},
     "output_type": "display_data"
    },
    {
     "name": "stdout",
     "output_type": "stream",
     "text": [
      "\n",
      "segment_name before cgal = L0_2\n"
     ]
    },
    {
     "data": {
      "application/vnd.jupyter.widget-view+json": {
       "model_id": "648e4a3239bd4801bdffd273ce87c7b8",
       "version_major": 2,
       "version_minor": 0
      },
      "text/plain": [
       "HBox(children=(FloatProgress(value=0.0, max=5.0), HTML(value='')))"
      ]
     },
     "metadata": {},
     "output_type": "display_data"
    },
    {
     "name": "stdout",
     "output_type": "stream",
     "text": [
      "\n",
      "segment_name before cgal = L0_4\n"
     ]
    },
    {
     "data": {
      "application/vnd.jupyter.widget-view+json": {
       "model_id": "aa20b9050b814a66aa110bc1a984404f",
       "version_major": 2,
       "version_minor": 0
      },
      "text/plain": [
       "HBox(children=(FloatProgress(value=0.0, max=74.0), HTML(value='')))"
      ]
     },
     "metadata": {},
     "output_type": "display_data"
    },
    {
     "name": "stdout",
     "output_type": "stream",
     "text": [
      "\n",
      "segment_name before cgal = L0_6\n"
     ]
    },
    {
     "data": {
      "application/vnd.jupyter.widget-view+json": {
       "model_id": "6157a003b0ff4abea1175ec5ea00f90b",
       "version_major": 2,
       "version_minor": 0
      },
      "text/plain": [
       "HBox(children=(FloatProgress(value=0.0, max=75.0), HTML(value='')))"
      ]
     },
     "metadata": {},
     "output_type": "display_data"
    },
    {
     "name": "stdout",
     "output_type": "stream",
     "text": [
      "\n",
      "segment_name before cgal = L0_9\n"
     ]
    },
    {
     "data": {
      "application/vnd.jupyter.widget-view+json": {
       "model_id": "49ff4d44b5f041e497c22a09cd132cb2",
       "version_major": 2,
       "version_minor": 0
      },
      "text/plain": [
       "HBox(children=(FloatProgress(value=0.0, max=68.0), HTML(value='')))"
      ]
     },
     "metadata": {},
     "output_type": "display_data"
    },
    {
     "name": "stdout",
     "output_type": "stream",
     "text": [
      "\n",
      "segment_name before cgal = L0_10\n"
     ]
    },
    {
     "data": {
      "application/vnd.jupyter.widget-view+json": {
       "model_id": "b6c8253eee0f486794df17ff8b9f2084",
       "version_major": 2,
       "version_minor": 0
      },
      "text/plain": [
       "HBox(children=(FloatProgress(value=0.0, max=95.0), HTML(value='')))"
      ]
     },
     "metadata": {},
     "output_type": "display_data"
    },
    {
     "name": "stdout",
     "output_type": "stream",
     "text": [
      "\n",
      "segment_name before cgal = L0_11\n"
     ]
    },
    {
     "data": {
      "application/vnd.jupyter.widget-view+json": {
       "model_id": "28f14de0645d41cdad9430fb3e064a01",
       "version_major": 2,
       "version_minor": 0
      },
      "text/plain": [
       "HBox(children=(FloatProgress(value=0.0, max=95.0), HTML(value='')))"
      ]
     },
     "metadata": {},
     "output_type": "display_data"
    },
    {
     "name": "stdout",
     "output_type": "stream",
     "text": [
      "\n",
      "segment_name before cgal = L0_12\n"
     ]
    },
    {
     "data": {
      "application/vnd.jupyter.widget-view+json": {
       "model_id": "d62610f2cbda4614819ff6d3ad355935",
       "version_major": 2,
       "version_minor": 0
      },
      "text/plain": [
       "HBox(children=(FloatProgress(value=0.0, max=15.0), HTML(value='')))"
      ]
     },
     "metadata": {},
     "output_type": "display_data"
    },
    {
     "name": "stdout",
     "output_type": "stream",
     "text": [
      "\n",
      "segment_name before cgal = L0_13\n"
     ]
    },
    {
     "data": {
      "application/vnd.jupyter.widget-view+json": {
       "model_id": "eff1d054c2174824884ae1d2250d6139",
       "version_major": 2,
       "version_minor": 0
      },
      "text/plain": [
       "HBox(children=(FloatProgress(value=0.0, max=37.0), HTML(value='')))"
      ]
     },
     "metadata": {},
     "output_type": "display_data"
    },
    {
     "name": "stdout",
     "output_type": "stream",
     "text": [
      "\n",
      "segment_name before cgal = L0_14\n"
     ]
    },
    {
     "data": {
      "application/vnd.jupyter.widget-view+json": {
       "model_id": "700212871c8f4b849fb57b953666521a",
       "version_major": 2,
       "version_minor": 0
      },
      "text/plain": [
       "HBox(children=(FloatProgress(value=0.0, max=41.0), HTML(value='')))"
      ]
     },
     "metadata": {},
     "output_type": "display_data"
    },
    {
     "name": "stdout",
     "output_type": "stream",
     "text": [
      "\n",
      "segment_name before cgal = L0_15\n"
     ]
    },
    {
     "data": {
      "application/vnd.jupyter.widget-view+json": {
       "model_id": "fb99d3b580c64faa9d24092578c48ac3",
       "version_major": 2,
       "version_minor": 0
      },
      "text/plain": [
       "HBox(children=(FloatProgress(value=0.0, max=62.0), HTML(value='')))"
      ]
     },
     "metadata": {},
     "output_type": "display_data"
    },
    {
     "name": "stdout",
     "output_type": "stream",
     "text": [
      "\n",
      "segment_name before cgal = L0_17\n"
     ]
    },
    {
     "data": {
      "application/vnd.jupyter.widget-view+json": {
       "model_id": "476dbd542d454ce4ae94fdb7942475df",
       "version_major": 2,
       "version_minor": 0
      },
      "text/plain": [
       "HBox(children=(FloatProgress(value=0.0, max=16.0), HTML(value='')))"
      ]
     },
     "metadata": {},
     "output_type": "display_data"
    },
    {
     "name": "stdout",
     "output_type": "stream",
     "text": [
      "\n",
      "segment_name before cgal = L0_19\n"
     ]
    },
    {
     "data": {
      "application/vnd.jupyter.widget-view+json": {
       "model_id": "cf8a876258924e4ca6f4dc084a5fd3b8",
       "version_major": 2,
       "version_minor": 0
      },
      "text/plain": [
       "HBox(children=(FloatProgress(value=0.0, max=12.0), HTML(value='')))"
      ]
     },
     "metadata": {},
     "output_type": "display_data"
    },
    {
     "name": "stdout",
     "output_type": "stream",
     "text": [
      "\n",
      "segment_name before cgal = L0_22\n"
     ]
    },
    {
     "data": {
      "application/vnd.jupyter.widget-view+json": {
       "model_id": "ae5e5d8cf62d46c3af26703976dad3d5",
       "version_major": 2,
       "version_minor": 0
      },
      "text/plain": [
       "HBox(children=(FloatProgress(value=0.0, max=21.0), HTML(value='')))"
      ]
     },
     "metadata": {},
     "output_type": "display_data"
    },
    {
     "name": "stdout",
     "output_type": "stream",
     "text": [
      "\n",
      "segment_name before cgal = L0_23\n"
     ]
    },
    {
     "data": {
      "application/vnd.jupyter.widget-view+json": {
       "model_id": "72acb8bae19d4f4396dcd46367a1c0b9",
       "version_major": 2,
       "version_minor": 0
      },
      "text/plain": [
       "HBox(children=(FloatProgress(value=0.0, max=8.0), HTML(value='')))"
      ]
     },
     "metadata": {},
     "output_type": "display_data"
    },
    {
     "name": "stdout",
     "output_type": "stream",
     "text": [
      "\n",
      "segment_name before cgal = L0_24\n"
     ]
    },
    {
     "data": {
      "application/vnd.jupyter.widget-view+json": {
       "model_id": "6bb59dec24eb470dafc4559f231a910c",
       "version_major": 2,
       "version_minor": 0
      },
      "text/plain": [
       "HBox(children=(FloatProgress(value=0.0, max=9.0), HTML(value='')))"
      ]
     },
     "metadata": {},
     "output_type": "display_data"
    },
    {
     "name": "stdout",
     "output_type": "stream",
     "text": [
      "\n",
      "segment_name before cgal = L0_25\n"
     ]
    },
    {
     "data": {
      "application/vnd.jupyter.widget-view+json": {
       "model_id": "675a810f7a7241d59ef73d255fb158d0",
       "version_major": 2,
       "version_minor": 0
      },
      "text/plain": [
       "HBox(children=(FloatProgress(value=0.0, max=40.0), HTML(value='')))"
      ]
     },
     "metadata": {},
     "output_type": "display_data"
    },
    {
     "name": "stdout",
     "output_type": "stream",
     "text": [
      "\n",
      "segment_name before cgal = L0_26\n"
     ]
    },
    {
     "data": {
      "application/vnd.jupyter.widget-view+json": {
       "model_id": "9473883a6e5e4184ad7013ce0d613971",
       "version_major": 2,
       "version_minor": 0
      },
      "text/plain": [
       "HBox(children=(FloatProgress(value=0.0, max=68.0), HTML(value='')))"
      ]
     },
     "metadata": {},
     "output_type": "display_data"
    },
    {
     "name": "stdout",
     "output_type": "stream",
     "text": [
      "\n",
      "segment_name before cgal = L0_27\n"
     ]
    },
    {
     "data": {
      "application/vnd.jupyter.widget-view+json": {
       "model_id": "71fbf96331c34515a0b3a5f53c7c7d3e",
       "version_major": 2,
       "version_minor": 0
      },
      "text/plain": [
       "HBox(children=(FloatProgress(value=0.0, max=52.0), HTML(value='')))"
      ]
     },
     "metadata": {},
     "output_type": "display_data"
    },
    {
     "name": "stdout",
     "output_type": "stream",
     "text": [
      "\n",
      "segment_name before cgal = L0_28\n"
     ]
    },
    {
     "data": {
      "application/vnd.jupyter.widget-view+json": {
       "model_id": "e436903857bb4e8e8a9aae5944523227",
       "version_major": 2,
       "version_minor": 0
      },
      "text/plain": [
       "HBox(children=(FloatProgress(value=0.0, max=95.0), HTML(value='')))"
      ]
     },
     "metadata": {},
     "output_type": "display_data"
    },
    {
     "name": "stdout",
     "output_type": "stream",
     "text": [
      "\n",
      "segment_name before cgal = L0_29\n"
     ]
    },
    {
     "data": {
      "application/vnd.jupyter.widget-view+json": {
       "model_id": "f7c66dc63bb24a2ebe357a7f53ce51bb",
       "version_major": 2,
       "version_minor": 0
      },
      "text/plain": [
       "HBox(children=(FloatProgress(value=0.0, max=7.0), HTML(value='')))"
      ]
     },
     "metadata": {},
     "output_type": "display_data"
    },
    {
     "name": "stdout",
     "output_type": "stream",
     "text": [
      "\n",
      "segment_name before cgal = L0_30\n"
     ]
    },
    {
     "data": {
      "application/vnd.jupyter.widget-view+json": {
       "model_id": "a46d74fd456e422b8728c2650e64b2e0",
       "version_major": 2,
       "version_minor": 0
      },
      "text/plain": [
       "HBox(children=(FloatProgress(value=0.0, max=7.0), HTML(value='')))"
      ]
     },
     "metadata": {},
     "output_type": "display_data"
    },
    {
     "name": "stdout",
     "output_type": "stream",
     "text": [
      "\n",
      "segment_name before cgal = L0_31\n"
     ]
    },
    {
     "data": {
      "application/vnd.jupyter.widget-view+json": {
       "model_id": "f68cf11ab0ff470198e9545d26ed495c",
       "version_major": 2,
       "version_minor": 0
      },
      "text/plain": [
       "HBox(children=(FloatProgress(value=0.0, max=18.0), HTML(value='')))"
      ]
     },
     "metadata": {},
     "output_type": "display_data"
    },
    {
     "name": "stdout",
     "output_type": "stream",
     "text": [
      "\n",
      "segment_name before cgal = L0_32\n"
     ]
    },
    {
     "data": {
      "application/vnd.jupyter.widget-view+json": {
       "model_id": "78bec25e111743f3a01b6b33afa65cb1",
       "version_major": 2,
       "version_minor": 0
      },
      "text/plain": [
       "HBox(children=(FloatProgress(value=0.0, max=44.0), HTML(value='')))"
      ]
     },
     "metadata": {},
     "output_type": "display_data"
    },
    {
     "name": "stdout",
     "output_type": "stream",
     "text": [
      "\n",
      "segment_name before cgal = L0_33\n"
     ]
    },
    {
     "data": {
      "application/vnd.jupyter.widget-view+json": {
       "model_id": "e062ea38041943898fb98de7982dba35",
       "version_major": 2,
       "version_minor": 0
      },
      "text/plain": [
       "HBox(children=(FloatProgress(value=0.0, max=20.0), HTML(value='')))"
      ]
     },
     "metadata": {},
     "output_type": "display_data"
    },
    {
     "name": "stdout",
     "output_type": "stream",
     "text": [
      "\n",
      "segment_name before cgal = L0_34\n"
     ]
    },
    {
     "data": {
      "application/vnd.jupyter.widget-view+json": {
       "model_id": "480bd24f445946ee9f8c547905624373",
       "version_major": 2,
       "version_minor": 0
      },
      "text/plain": [
       "HBox(children=(FloatProgress(value=0.0, max=14.0), HTML(value='')))"
      ]
     },
     "metadata": {},
     "output_type": "display_data"
    },
    {
     "name": "stdout",
     "output_type": "stream",
     "text": [
      "\n",
      "segment_name before cgal = L0_35\n"
     ]
    },
    {
     "data": {
      "application/vnd.jupyter.widget-view+json": {
       "model_id": "e6ed39e1d37b4ee5a74f69c0a05b544d",
       "version_major": 2,
       "version_minor": 0
      },
      "text/plain": [
       "HBox(children=(FloatProgress(value=0.0, max=7.0), HTML(value='')))"
      ]
     },
     "metadata": {},
     "output_type": "display_data"
    },
    {
     "name": "stdout",
     "output_type": "stream",
     "text": [
      "\n",
      "segment_name before cgal = L0_36\n"
     ]
    },
    {
     "data": {
      "application/vnd.jupyter.widget-view+json": {
       "model_id": "34f0757c90c0405295868b57e45f8e87",
       "version_major": 2,
       "version_minor": 0
      },
      "text/plain": [
       "HBox(children=(FloatProgress(value=0.0, max=10.0), HTML(value='')))"
      ]
     },
     "metadata": {},
     "output_type": "display_data"
    },
    {
     "name": "stdout",
     "output_type": "stream",
     "text": [
      "\n",
      "segment_name before cgal = L0_37\n"
     ]
    },
    {
     "data": {
      "application/vnd.jupyter.widget-view+json": {
       "model_id": "feed71e123b74775a310b3954a4ea900",
       "version_major": 2,
       "version_minor": 0
      },
      "text/plain": [
       "HBox(children=(FloatProgress(value=0.0, max=66.0), HTML(value='')))"
      ]
     },
     "metadata": {},
     "output_type": "display_data"
    },
    {
     "name": "stdout",
     "output_type": "stream",
     "text": [
      "\n",
      "segment_name before cgal = L0_39\n"
     ]
    },
    {
     "data": {
      "application/vnd.jupyter.widget-view+json": {
       "model_id": "a01409da472144a8ba19e87571a61c82",
       "version_major": 2,
       "version_minor": 0
      },
      "text/plain": [
       "HBox(children=(FloatProgress(value=0.0, max=5.0), HTML(value='')))"
      ]
     },
     "metadata": {},
     "output_type": "display_data"
    },
    {
     "name": "stdout",
     "output_type": "stream",
     "text": [
      "\n",
      "segment_name before cgal = L0_40\n"
     ]
    },
    {
     "data": {
      "application/vnd.jupyter.widget-view+json": {
       "model_id": "184f905e3a0642e5b7f80f4666289e8f",
       "version_major": 2,
       "version_minor": 0
      },
      "text/plain": [
       "HBox(children=(FloatProgress(value=0.0, max=34.0), HTML(value='')))"
      ]
     },
     "metadata": {},
     "output_type": "display_data"
    },
    {
     "name": "stdout",
     "output_type": "stream",
     "text": [
      "\n",
      "segment_name before cgal = L0_41\n"
     ]
    },
    {
     "data": {
      "application/vnd.jupyter.widget-view+json": {
       "model_id": "6b1c132039984e109c53e0ba5a815bb4",
       "version_major": 2,
       "version_minor": 0
      },
      "text/plain": [
       "HBox(children=(FloatProgress(value=0.0, max=39.0), HTML(value='')))"
      ]
     },
     "metadata": {},
     "output_type": "display_data"
    },
    {
     "name": "stdout",
     "output_type": "stream",
     "text": [
      "\n",
      "segment_name before cgal = L0_42\n"
     ]
    },
    {
     "data": {
      "application/vnd.jupyter.widget-view+json": {
       "model_id": "f3f8eb95be764227aa1d2fcfb44d932d",
       "version_major": 2,
       "version_minor": 0
      },
      "text/plain": [
       "HBox(children=(FloatProgress(value=0.0, max=14.0), HTML(value='')))"
      ]
     },
     "metadata": {},
     "output_type": "display_data"
    },
    {
     "name": "stdout",
     "output_type": "stream",
     "text": [
      "\n",
      "segment_name before cgal = L0_43\n"
     ]
    },
    {
     "data": {
      "application/vnd.jupyter.widget-view+json": {
       "model_id": "e5410ed4a780486f8fadcf851de80bf7",
       "version_major": 2,
       "version_minor": 0
      },
      "text/plain": [
       "HBox(children=(FloatProgress(value=0.0, max=85.0), HTML(value='')))"
      ]
     },
     "metadata": {},
     "output_type": "display_data"
    },
    {
     "name": "stdout",
     "output_type": "stream",
     "text": [
      "\n",
      "segment_name before cgal = L0_44\n"
     ]
    },
    {
     "data": {
      "application/vnd.jupyter.widget-view+json": {
       "model_id": "5523c2fa694143148047879ee05e6c09",
       "version_major": 2,
       "version_minor": 0
      },
      "text/plain": [
       "HBox(children=(FloatProgress(value=0.0, max=12.0), HTML(value='')))"
      ]
     },
     "metadata": {},
     "output_type": "display_data"
    },
    {
     "name": "stdout",
     "output_type": "stream",
     "text": [
      "\n",
      "segment_name before cgal = L0_46\n"
     ]
    },
    {
     "data": {
      "application/vnd.jupyter.widget-view+json": {
       "model_id": "e58209eacfaa4af6a9ff906926519c4d",
       "version_major": 2,
       "version_minor": 0
      },
      "text/plain": [
       "HBox(children=(FloatProgress(value=0.0, max=71.0), HTML(value='')))"
      ]
     },
     "metadata": {},
     "output_type": "display_data"
    },
    {
     "name": "stdout",
     "output_type": "stream",
     "text": [
      "\n",
      "segment_name before cgal = L1_0\n"
     ]
    },
    {
     "data": {
      "application/vnd.jupyter.widget-view+json": {
       "model_id": "d7b9b4f31a8645b68a4b15fc7f80a3df",
       "version_major": 2,
       "version_minor": 0
      },
      "text/plain": [
       "HBox(children=(FloatProgress(value=0.0, max=19.0), HTML(value='')))"
      ]
     },
     "metadata": {},
     "output_type": "display_data"
    },
    {
     "name": "stdout",
     "output_type": "stream",
     "text": [
      "\n",
      "segment_name before cgal = L1_1\n"
     ]
    },
    {
     "data": {
      "application/vnd.jupyter.widget-view+json": {
       "model_id": "99f5212b637b4a459e5f848942971411",
       "version_major": 2,
       "version_minor": 0
      },
      "text/plain": [
       "HBox(children=(FloatProgress(value=0.0, max=42.0), HTML(value='')))"
      ]
     },
     "metadata": {},
     "output_type": "display_data"
    },
    {
     "name": "stdout",
     "output_type": "stream",
     "text": [
      "\n",
      "segment_name before cgal = L1_2\n"
     ]
    },
    {
     "data": {
      "application/vnd.jupyter.widget-view+json": {
       "model_id": "138d56fd2ccf4df9a749c48786f901f5",
       "version_major": 2,
       "version_minor": 0
      },
      "text/plain": [
       "HBox(children=(FloatProgress(value=0.0, max=21.0), HTML(value='')))"
      ]
     },
     "metadata": {},
     "output_type": "display_data"
    },
    {
     "name": "stdout",
     "output_type": "stream",
     "text": [
      "\n",
      "segment_name before cgal = L1_5\n"
     ]
    },
    {
     "data": {
      "application/vnd.jupyter.widget-view+json": {
       "model_id": "be5827bedc9a4aaa92d38de39825847b",
       "version_major": 2,
       "version_minor": 0
      },
      "text/plain": [
       "HBox(children=(FloatProgress(value=0.0, max=4.0), HTML(value='')))"
      ]
     },
     "metadata": {},
     "output_type": "display_data"
    },
    {
     "name": "stdout",
     "output_type": "stream",
     "text": [
      "\n",
      "segment_name before cgal = L1_6\n"
     ]
    },
    {
     "data": {
      "application/vnd.jupyter.widget-view+json": {
       "model_id": "27f7fe73b6d3443798defa7da04ceb23",
       "version_major": 2,
       "version_minor": 0
      },
      "text/plain": [
       "HBox(children=(FloatProgress(value=0.0, max=33.0), HTML(value='')))"
      ]
     },
     "metadata": {},
     "output_type": "display_data"
    },
    {
     "name": "stdout",
     "output_type": "stream",
     "text": [
      "\n",
      "segment_name before cgal = L1_7\n"
     ]
    },
    {
     "data": {
      "application/vnd.jupyter.widget-view+json": {
       "model_id": "ba63fa85336f437aae4fbde4325e061c",
       "version_major": 2,
       "version_minor": 0
      },
      "text/plain": [
       "HBox(children=(FloatProgress(value=0.0, max=11.0), HTML(value='')))"
      ]
     },
     "metadata": {},
     "output_type": "display_data"
    },
    {
     "name": "stdout",
     "output_type": "stream",
     "text": [
      "\n",
      "segment_name before cgal = L1_8\n"
     ]
    },
    {
     "data": {
      "application/vnd.jupyter.widget-view+json": {
       "model_id": "084fa5a6ecaf467d8c347c75b643b6c2",
       "version_major": 2,
       "version_minor": 0
      },
      "text/plain": [
       "HBox(children=(FloatProgress(value=0.0, max=137.0), HTML(value='')))"
      ]
     },
     "metadata": {},
     "output_type": "display_data"
    },
    {
     "name": "stdout",
     "output_type": "stream",
     "text": [
      "\n",
      "segment_name before cgal = L1_10\n"
     ]
    },
    {
     "data": {
      "application/vnd.jupyter.widget-view+json": {
       "model_id": "c4e19924e1ff4cf28c29fc67f94b21ee",
       "version_major": 2,
       "version_minor": 0
      },
      "text/plain": [
       "HBox(children=(FloatProgress(value=0.0, max=89.0), HTML(value='')))"
      ]
     },
     "metadata": {},
     "output_type": "display_data"
    },
    {
     "name": "stdout",
     "output_type": "stream",
     "text": [
      "\n",
      "segment_name before cgal = L1_11\n"
     ]
    },
    {
     "data": {
      "application/vnd.jupyter.widget-view+json": {
       "model_id": "75ec2b28707046088fcc00e233eae85e",
       "version_major": 2,
       "version_minor": 0
      },
      "text/plain": [
       "HBox(children=(FloatProgress(value=0.0, max=24.0), HTML(value='')))"
      ]
     },
     "metadata": {},
     "output_type": "display_data"
    },
    {
     "name": "stdout",
     "output_type": "stream",
     "text": [
      "\n",
      "segment_name before cgal = L1_15\n"
     ]
    },
    {
     "data": {
      "application/vnd.jupyter.widget-view+json": {
       "model_id": "66eccf58b3824a1c91f522814d44a3cc",
       "version_major": 2,
       "version_minor": 0
      },
      "text/plain": [
       "HBox(children=(FloatProgress(value=0.0, max=21.0), HTML(value='')))"
      ]
     },
     "metadata": {},
     "output_type": "display_data"
    },
    {
     "name": "stdout",
     "output_type": "stream",
     "text": [
      "\n",
      "segment_name before cgal = L1_17\n"
     ]
    },
    {
     "data": {
      "application/vnd.jupyter.widget-view+json": {
       "model_id": "5aa64223fcac44548c1cd153b3fe8e4d",
       "version_major": 2,
       "version_minor": 0
      },
      "text/plain": [
       "HBox(children=(FloatProgress(value=0.0, max=21.0), HTML(value='')))"
      ]
     },
     "metadata": {},
     "output_type": "display_data"
    },
    {
     "name": "stdout",
     "output_type": "stream",
     "text": [
      "\n",
      "segment_name before cgal = L1_18\n"
     ]
    },
    {
     "data": {
      "application/vnd.jupyter.widget-view+json": {
       "model_id": "6bb6c96025634e6486d4d70e966607d0",
       "version_major": 2,
       "version_minor": 0
      },
      "text/plain": [
       "HBox(children=(FloatProgress(value=0.0, max=3.0), HTML(value='')))"
      ]
     },
     "metadata": {},
     "output_type": "display_data"
    },
    {
     "name": "stdout",
     "output_type": "stream",
     "text": [
      "\n",
      "segment_name before cgal = L1_19\n"
     ]
    },
    {
     "data": {
      "application/vnd.jupyter.widget-view+json": {
       "model_id": "dc1faf760cd4425e850991f059a0c9e1",
       "version_major": 2,
       "version_minor": 0
      },
      "text/plain": [
       "HBox(children=(FloatProgress(value=0.0, max=12.0), HTML(value='')))"
      ]
     },
     "metadata": {},
     "output_type": "display_data"
    },
    {
     "name": "stdout",
     "output_type": "stream",
     "text": [
      "\n",
      "segment_name before cgal = L1_20\n"
     ]
    },
    {
     "data": {
      "application/vnd.jupyter.widget-view+json": {
       "model_id": "69711d1c1f5a45df8546a144fa362f10",
       "version_major": 2,
       "version_minor": 0
      },
      "text/plain": [
       "HBox(children=(FloatProgress(value=0.0, max=9.0), HTML(value='')))"
      ]
     },
     "metadata": {},
     "output_type": "display_data"
    },
    {
     "name": "stdout",
     "output_type": "stream",
     "text": [
      "\n",
      "segment_name before cgal = L1_22\n"
     ]
    },
    {
     "data": {
      "application/vnd.jupyter.widget-view+json": {
       "model_id": "a4bbb8a2986a4c66b54cb8c91d8b9808",
       "version_major": 2,
       "version_minor": 0
      },
      "text/plain": [
       "HBox(children=(FloatProgress(value=0.0, max=33.0), HTML(value='')))"
      ]
     },
     "metadata": {},
     "output_type": "display_data"
    },
    {
     "name": "stdout",
     "output_type": "stream",
     "text": [
      "\n",
      "segment_name before cgal = L1_23\n"
     ]
    },
    {
     "data": {
      "application/vnd.jupyter.widget-view+json": {
       "model_id": "638e256bd4c747e2a6e0f4eea196d687",
       "version_major": 2,
       "version_minor": 0
      },
      "text/plain": [
       "HBox(children=(FloatProgress(value=0.0, max=46.0), HTML(value='')))"
      ]
     },
     "metadata": {},
     "output_type": "display_data"
    },
    {
     "name": "stdout",
     "output_type": "stream",
     "text": [
      "\n",
      "segment_name before cgal = L2_0\n"
     ]
    },
    {
     "data": {
      "application/vnd.jupyter.widget-view+json": {
       "model_id": "0328a670fb7544ca8740a1cc37897a39",
       "version_major": 2,
       "version_minor": 0
      },
      "text/plain": [
       "HBox(children=(FloatProgress(value=0.0, max=96.0), HTML(value='')))"
      ]
     },
     "metadata": {},
     "output_type": "display_data"
    },
    {
     "name": "stdout",
     "output_type": "stream",
     "text": [
      "\n",
      "segment_name before cgal = L2_1\n"
     ]
    },
    {
     "data": {
      "application/vnd.jupyter.widget-view+json": {
       "model_id": "75e1600dc6bf43fc9aa729d25813cf7e",
       "version_major": 2,
       "version_minor": 0
      },
      "text/plain": [
       "HBox(children=(FloatProgress(value=0.0, max=95.0), HTML(value='')))"
      ]
     },
     "metadata": {},
     "output_type": "display_data"
    },
    {
     "name": "stdout",
     "output_type": "stream",
     "text": [
      "\n",
      "segment_name before cgal = L2_2\n"
     ]
    },
    {
     "data": {
      "application/vnd.jupyter.widget-view+json": {
       "model_id": "f07748382121439995b5f767280f8787",
       "version_major": 2,
       "version_minor": 0
      },
      "text/plain": [
       "HBox(children=(FloatProgress(value=0.0, max=35.0), HTML(value='')))"
      ]
     },
     "metadata": {},
     "output_type": "display_data"
    },
    {
     "name": "stdout",
     "output_type": "stream",
     "text": [
      "\n",
      "segment_name before cgal = L2_3\n"
     ]
    },
    {
     "data": {
      "application/vnd.jupyter.widget-view+json": {
       "model_id": "7de47c514dae4f139bd5594aa05c0414",
       "version_major": 2,
       "version_minor": 0
      },
      "text/plain": [
       "HBox(children=(FloatProgress(value=0.0, max=20.0), HTML(value='')))"
      ]
     },
     "metadata": {},
     "output_type": "display_data"
    },
    {
     "name": "stdout",
     "output_type": "stream",
     "text": [
      "\n",
      "segment_name before cgal = L2_5\n"
     ]
    },
    {
     "data": {
      "application/vnd.jupyter.widget-view+json": {
       "model_id": "8a6e2226842745a1984dbfe66ffacedd",
       "version_major": 2,
       "version_minor": 0
      },
      "text/plain": [
       "HBox(children=(FloatProgress(value=0.0, max=55.0), HTML(value='')))"
      ]
     },
     "metadata": {},
     "output_type": "display_data"
    },
    {
     "name": "stdout",
     "output_type": "stream",
     "text": [
      "\n",
      "segment_name before cgal = L2_7\n"
     ]
    },
    {
     "data": {
      "application/vnd.jupyter.widget-view+json": {
       "model_id": "75da4c41c3bd4362b7a895802d1aead5",
       "version_major": 2,
       "version_minor": 0
      },
      "text/plain": [
       "HBox(children=(FloatProgress(value=0.0, max=35.0), HTML(value='')))"
      ]
     },
     "metadata": {},
     "output_type": "display_data"
    },
    {
     "name": "stdout",
     "output_type": "stream",
     "text": [
      "\n",
      "segment_name before cgal = L2_10\n"
     ]
    },
    {
     "data": {
      "application/vnd.jupyter.widget-view+json": {
       "model_id": "197dcff448784305aaaf9063d141aed2",
       "version_major": 2,
       "version_minor": 0
      },
      "text/plain": [
       "HBox(children=(FloatProgress(value=0.0, max=12.0), HTML(value='')))"
      ]
     },
     "metadata": {},
     "output_type": "display_data"
    },
    {
     "name": "stdout",
     "output_type": "stream",
     "text": [
      "\n",
      "segment_name before cgal = L2_11\n"
     ]
    },
    {
     "data": {
      "application/vnd.jupyter.widget-view+json": {
       "model_id": "f303b901cc2b4d9e8fb2751b98ec5630",
       "version_major": 2,
       "version_minor": 0
      },
      "text/plain": [
       "HBox(children=(FloatProgress(value=0.0, max=5.0), HTML(value='')))"
      ]
     },
     "metadata": {},
     "output_type": "display_data"
    },
    {
     "name": "stdout",
     "output_type": "stream",
     "text": [
      "\n",
      "segment_name before cgal = L2_17\n"
     ]
    },
    {
     "data": {
      "application/vnd.jupyter.widget-view+json": {
       "model_id": "9a90d397d8ed455086c5e3267fb22e8e",
       "version_major": 2,
       "version_minor": 0
      },
      "text/plain": [
       "HBox(children=(FloatProgress(value=0.0, max=23.0), HTML(value='')))"
      ]
     },
     "metadata": {},
     "output_type": "display_data"
    },
    {
     "name": "stdout",
     "output_type": "stream",
     "text": [
      "\n",
      "segment_name before cgal = L2_18\n"
     ]
    },
    {
     "data": {
      "application/vnd.jupyter.widget-view+json": {
       "model_id": "93d5ac2d960c4dc7a83dcde6d87dadcb",
       "version_major": 2,
       "version_minor": 0
      },
      "text/plain": [
       "HBox(children=(FloatProgress(value=0.0, max=11.0), HTML(value='')))"
      ]
     },
     "metadata": {},
     "output_type": "display_data"
    },
    {
     "name": "stdout",
     "output_type": "stream",
     "text": [
      "\n",
      "segment_name before cgal = L2_19\n"
     ]
    },
    {
     "data": {
      "application/vnd.jupyter.widget-view+json": {
       "model_id": "dc5201b119d5427c8c62643e1ffc07f3",
       "version_major": 2,
       "version_minor": 0
      },
      "text/plain": [
       "HBox(children=(FloatProgress(value=0.0, max=12.0), HTML(value='')))"
      ]
     },
     "metadata": {},
     "output_type": "display_data"
    },
    {
     "name": "stdout",
     "output_type": "stream",
     "text": [
      "\n",
      "segment_name before cgal = L2_20\n"
     ]
    },
    {
     "data": {
      "application/vnd.jupyter.widget-view+json": {
       "model_id": "9df7c513e11a420baee930f034ac38dd",
       "version_major": 2,
       "version_minor": 0
      },
      "text/plain": [
       "HBox(children=(FloatProgress(value=0.0, max=3.0), HTML(value='')))"
      ]
     },
     "metadata": {},
     "output_type": "display_data"
    },
    {
     "name": "stdout",
     "output_type": "stream",
     "text": [
      "\n",
      "segment_name before cgal = L2_21\n"
     ]
    },
    {
     "data": {
      "application/vnd.jupyter.widget-view+json": {
       "model_id": "c031b0157bdd45e5b3f0e0aec66e556d",
       "version_major": 2,
       "version_minor": 0
      },
      "text/plain": [
       "HBox(children=(FloatProgress(value=0.0, max=73.0), HTML(value='')))"
      ]
     },
     "metadata": {},
     "output_type": "display_data"
    },
    {
     "name": "stdout",
     "output_type": "stream",
     "text": [
      "\n",
      "segment_name before cgal = L2_22\n"
     ]
    },
    {
     "data": {
      "application/vnd.jupyter.widget-view+json": {
       "model_id": "792db34123c24c469d0d6c997e9f4137",
       "version_major": 2,
       "version_minor": 0
      },
      "text/plain": [
       "HBox(children=(FloatProgress(value=0.0, max=4.0), HTML(value='')))"
      ]
     },
     "metadata": {},
     "output_type": "display_data"
    },
    {
     "name": "stdout",
     "output_type": "stream",
     "text": [
      "\n",
      "segment_name before cgal = L2_24\n"
     ]
    },
    {
     "data": {
      "application/vnd.jupyter.widget-view+json": {
       "model_id": "f0a11888a38649a9ac08dcbb1bfdb826",
       "version_major": 2,
       "version_minor": 0
      },
      "text/plain": [
       "HBox(children=(FloatProgress(value=0.0, max=66.0), HTML(value='')))"
      ]
     },
     "metadata": {},
     "output_type": "display_data"
    },
    {
     "name": "stdout",
     "output_type": "stream",
     "text": [
      "\n",
      "segment_name before cgal = L3_0\n"
     ]
    },
    {
     "data": {
      "application/vnd.jupyter.widget-view+json": {
       "model_id": "72be0302875f4398846fff97ffcafdc3",
       "version_major": 2,
       "version_minor": 0
      },
      "text/plain": [
       "HBox(children=(FloatProgress(value=0.0, max=163.0), HTML(value='')))"
      ]
     },
     "metadata": {},
     "output_type": "display_data"
    },
    {
     "name": "stdout",
     "output_type": "stream",
     "text": [
      "\n",
      "segment_name before cgal = L3_1\n"
     ]
    },
    {
     "data": {
      "application/vnd.jupyter.widget-view+json": {
       "model_id": "e1f05228d17f45a18a4ccfa980d28812",
       "version_major": 2,
       "version_minor": 0
      },
      "text/plain": [
       "HBox(children=(FloatProgress(value=0.0, max=196.0), HTML(value='')))"
      ]
     },
     "metadata": {},
     "output_type": "display_data"
    },
    {
     "name": "stdout",
     "output_type": "stream",
     "text": [
      "\n",
      "segment_name before cgal = L3_2\n"
     ]
    },
    {
     "data": {
      "application/vnd.jupyter.widget-view+json": {
       "model_id": "568bbbca7f90412b961fef3e6f0827ee",
       "version_major": 2,
       "version_minor": 0
      },
      "text/plain": [
       "HBox(children=(FloatProgress(value=0.0, max=27.0), HTML(value='')))"
      ]
     },
     "metadata": {},
     "output_type": "display_data"
    },
    {
     "name": "stdout",
     "output_type": "stream",
     "text": [
      "\n",
      "segment_name before cgal = L3_3\n"
     ]
    },
    {
     "data": {
      "application/vnd.jupyter.widget-view+json": {
       "model_id": "efae9fde991941068584771d30ab4dd5",
       "version_major": 2,
       "version_minor": 0
      },
      "text/plain": [
       "HBox(children=(FloatProgress(value=0.0, max=7.0), HTML(value='')))"
      ]
     },
     "metadata": {},
     "output_type": "display_data"
    },
    {
     "name": "stdout",
     "output_type": "stream",
     "text": [
      "\n",
      "segment_name before cgal = L3_4\n"
     ]
    },
    {
     "data": {
      "application/vnd.jupyter.widget-view+json": {
       "model_id": "6648ed3c2fbe48ca953c640968091c58",
       "version_major": 2,
       "version_minor": 0
      },
      "text/plain": [
       "HBox(children=(FloatProgress(value=0.0, max=10.0), HTML(value='')))"
      ]
     },
     "metadata": {},
     "output_type": "display_data"
    },
    {
     "name": "stdout",
     "output_type": "stream",
     "text": [
      "\n",
      "segment_name before cgal = L3_5\n"
     ]
    },
    {
     "data": {
      "application/vnd.jupyter.widget-view+json": {
       "model_id": "75e820c9eabe4e5a8679350308ae2267",
       "version_major": 2,
       "version_minor": 0
      },
      "text/plain": [
       "HBox(children=(FloatProgress(value=0.0, max=71.0), HTML(value='')))"
      ]
     },
     "metadata": {},
     "output_type": "display_data"
    },
    {
     "name": "stdout",
     "output_type": "stream",
     "text": [
      "\n",
      "segment_name before cgal = L3_6\n"
     ]
    },
    {
     "data": {
      "application/vnd.jupyter.widget-view+json": {
       "model_id": "48edfe78d11c47ab881b8d08f5f90344",
       "version_major": 2,
       "version_minor": 0
      },
      "text/plain": [
       "HBox(children=(FloatProgress(value=0.0, max=13.0), HTML(value='')))"
      ]
     },
     "metadata": {},
     "output_type": "display_data"
    },
    {
     "name": "stdout",
     "output_type": "stream",
     "text": [
      "\n",
      "segment_name before cgal = L4_0\n"
     ]
    },
    {
     "data": {
      "application/vnd.jupyter.widget-view+json": {
       "model_id": "7cb12b983205438e854a82e2ab4ef824",
       "version_major": 2,
       "version_minor": 0
      },
      "text/plain": [
       "HBox(children=(FloatProgress(value=0.0, max=3.0), HTML(value='')))"
      ]
     },
     "metadata": {},
     "output_type": "display_data"
    },
    {
     "name": "stdout",
     "output_type": "stream",
     "text": [
      "\n",
      "segment_name before cgal = L5_0\n"
     ]
    },
    {
     "data": {
      "application/vnd.jupyter.widget-view+json": {
       "model_id": "4aa15ca7edf245a4b80fe87a383b2a20",
       "version_major": 2,
       "version_minor": 0
      },
      "text/plain": [
       "HBox(children=(FloatProgress(value=0.0, max=7.0), HTML(value='')))"
      ]
     },
     "metadata": {},
     "output_type": "display_data"
    },
    {
     "name": "stdout",
     "output_type": "stream",
     "text": [
      "\n",
      "segment_name before cgal = L5_1\n"
     ]
    },
    {
     "data": {
      "application/vnd.jupyter.widget-view+json": {
       "model_id": "2ab4dab4f5074755bd9588b395c9a37a",
       "version_major": 2,
       "version_minor": 0
      },
      "text/plain": [
       "HBox(children=(FloatProgress(value=0.0, max=57.0), HTML(value='')))"
      ]
     },
     "metadata": {},
     "output_type": "display_data"
    },
    {
     "name": "stdout",
     "output_type": "stream",
     "text": [
      "\n",
      "segment_name before cgal = L5_2\n"
     ]
    },
    {
     "data": {
      "application/vnd.jupyter.widget-view+json": {
       "model_id": "04f06f5ca2e24613ac2bed6676db2139",
       "version_major": 2,
       "version_minor": 0
      },
      "text/plain": [
       "HBox(children=(FloatProgress(value=0.0, max=59.0), HTML(value='')))"
      ]
     },
     "metadata": {},
     "output_type": "display_data"
    },
    {
     "name": "stdout",
     "output_type": "stream",
     "text": [
      "\n",
      "segment_name before cgal = L5_4\n"
     ]
    },
    {
     "data": {
      "application/vnd.jupyter.widget-view+json": {
       "model_id": "7df32bd9a0b44846bf45fef4df39585e",
       "version_major": 2,
       "version_minor": 0
      },
      "text/plain": [
       "HBox(children=(FloatProgress(value=0.0, max=21.0), HTML(value='')))"
      ]
     },
     "metadata": {},
     "output_type": "display_data"
    },
    {
     "name": "stdout",
     "output_type": "stream",
     "text": [
      "\n",
      "segment_name before cgal = L5_5\n"
     ]
    },
    {
     "data": {
      "application/vnd.jupyter.widget-view+json": {
       "model_id": "5c148d3ab4c1408ca03e57a7016cea7d",
       "version_major": 2,
       "version_minor": 0
      },
      "text/plain": [
       "HBox(children=(FloatProgress(value=0.0, max=77.0), HTML(value='')))"
      ]
     },
     "metadata": {},
     "output_type": "display_data"
    },
    {
     "name": "stdout",
     "output_type": "stream",
     "text": [
      "\n"
     ]
    }
   ],
   "source": [
    "curr_neuron_obj.calculate_spines()"
   ]
  },
  {
   "cell_type": "code",
   "execution_count": 214,
   "metadata": {},
   "outputs": [
    {
     "name": "stdout",
     "output_type": "stream",
     "text": [
      "\n",
      " Working on visualization type: mesh\n",
      "\n",
      " Working on visualization type: skeleton\n"
     ]
    },
    {
     "data": {
      "application/vnd.jupyter.widget-view+json": {
       "model_id": "f64eb72833af46a68c6fbb462f7fe0fe",
       "version_major": 2,
       "version_minor": 0
      },
      "text/plain": [
       "VBox(children=(Figure(camera=PerspectiveCamera(fov=46.0, position=(0.0, 0.0, 2.0), quaternion=(0.0, 0.0, 0.0, …"
      ]
     },
     "metadata": {},
     "output_type": "display_data"
    }
   ],
   "source": [
    "nviz.plot_spines(curr_neuron_obj)"
   ]
  },
  {
   "cell_type": "code",
   "execution_count": 220,
   "metadata": {},
   "outputs": [
    {
     "name": "stdout",
     "output_type": "stream",
     "text": [
      "\n",
      " Working on visualization type: mesh\n"
     ]
    },
    {
     "data": {
      "application/vnd.jupyter.widget-view+json": {
       "model_id": "bd63883ffa744c408631821b22e19bc6",
       "version_major": 2,
       "version_minor": 0
      },
      "text/plain": [
       "VBox(children=(Figure(camera=PerspectiveCamera(fov=46.0, position=(0.0, 0.0, 2.0), quaternion=(0.0, 0.0, 0.0, …"
      ]
     },
     "metadata": {},
     "output_type": "display_data"
    }
   ],
   "source": [
    "ret_col = nviz.visualize_neuron(curr_neuron_obj,\n",
    "                                visualize_type=[\"mesh\"],\n",
    "                     limb_branch_dict=dict(L2=\"all\"),\n",
    "                     return_color_dict=True)"
   ]
  },
  {
   "cell_type": "code",
   "execution_count": 223,
   "metadata": {},
   "outputs": [],
   "source": [
    "curr_branch = curr_neuron_obj[2][2]"
   ]
  },
  {
   "cell_type": "code",
   "execution_count": 225,
   "metadata": {},
   "outputs": [
    {
     "data": {
      "text/plain": [
       "0.0002684763516506638"
      ]
     },
     "execution_count": 225,
     "metadata": {},
     "output_type": "execute_result"
    }
   ],
   "source": [
    "curr_branch.spine_density"
   ]
  },
  {
   "cell_type": "code",
   "execution_count": 222,
   "metadata": {},
   "outputs": [
    {
     "data": {
      "application/vnd.jupyter.widget-view+json": {
       "model_id": "7fc2a58fe4bf41a38b6a8309b3b211d1",
       "version_major": 2,
       "version_minor": 0
      },
      "text/plain": [
       "VBox(children=(Figure(camera=PerspectiveCamera(fov=46.0, position=(0.0, 0.0, 2.0), quaternion=(0.0, 0.0, 0.0, …"
      ]
     },
     "metadata": {},
     "output_type": "display_data"
    }
   ],
   "source": [
    "nviz.plot_branch_spines(curr_neuron_obj[2][2])"
   ]
  },
  {
   "cell_type": "code",
   "execution_count": 221,
   "metadata": {},
   "outputs": [
    {
     "name": "stdout",
     "output_type": "stream",
     "text": [
      "No limb name was given so using L2 because was the limb in the first key\n"
     ]
    },
    {
     "data": {
      "image/png": "[encoded data removed]",
      "text/plain": [
       "<Figure size 2880x1440 with 1 Axes>"
      ]
     },
     "metadata": {},
     "output_type": "display_data"
    }
   ],
   "source": [
    "nviz.plot_limb_concept_network_2D(curr_neuron_obj,\n",
    "                                   node_colors=ret_col)"
   ]
  },
  {
   "cell_type": "markdown",
   "metadata": {},
   "source": [
    "# Getting another neuron from database"
   ]
  },
  {
   "cell_type": "code",
   "execution_count": 32,
   "metadata": {},
   "outputs": [],
   "source": [
    "minnie,_ = du.configure_minnie_vm()"
   ]
  },
  {
   "cell_type": "code",
   "execution_count": 45,
   "metadata": {},
   "outputs": [
    {
     "data": {
      "text/plain": [
       "864691137196923969"
      ]
     },
     "execution_count": 45,
     "metadata": {},
     "output_type": "execute_result"
    }
   ],
   "source": [
    "import test_neurons as tn\n",
    "segment_id = tn.big_run_long_axon[0]\n",
    "segment_id"
   ]
  },
  {
   "cell_type": "code",
   "execution_count": 120,
   "metadata": {},
   "outputs": [
    {
     "data": {
      "text/plain": [
       "array([864691134800773453, 864691134835275642, 864691134879633410, ...,\n",
       "       864691135718463537, 864691135718467377, 864691135718469681])"
      ]
     },
     "execution_count": 120,
     "metadata": {},
     "output_type": "execute_result"
    }
   ],
   "source": [
    "seg_ids_to_test = (minnie.Decomposition() & \"n_limbs > 5\" & \"n_error_limbs = 0\").fetch(\"segment_id\")\n",
    "seg_ids_to_test"
   ]
  },
  {
   "cell_type": "code",
   "execution_count": 179,
   "metadata": {},
   "outputs": [
    {
     "data": {
      "text/plain": [
       "864691135578531524"
      ]
     },
     "execution_count": 179,
     "metadata": {},
     "output_type": "execute_result"
    }
   ],
   "source": [
    "segment_id = 864691134884745466 #worked for this one\n",
    "#segment_id = 864691134884742906 #worked\n",
    "segment_id = 864691134884744698\n",
    "segment_id = 864691134884741370\n",
    "segment_id = seg_ids_to_test[-3000]\n",
    "segment_id"
   ]
  },
  {
   "cell_type": "code",
   "execution_count": 180,
   "metadata": {},
   "outputs": [
    {
     "name": "stdout",
     "output_type": "stream",
     "text": [
      "Decompressing Neuron in minimal output mode...please wait\n"
     ]
    }
   ],
   "source": [
    "curr_neuron_obj = (minnie.Decomposition() & dict(segment_id=segment_id)).fetch1(\"decomposition\")"
   ]
  },
  {
   "cell_type": "code",
   "execution_count": 181,
   "metadata": {},
   "outputs": [
    {
     "name": "stdout",
     "output_type": "stream",
     "text": [
      "\n",
      " Working on visualization type: mesh\n",
      "\n",
      " Working on visualization type: skeleton\n"
     ]
    },
    {
     "data": {
      "application/vnd.jupyter.widget-view+json": {
       "model_id": "c12738f26f1c44deaa6749fa86cca0c2",
       "version_major": 2,
       "version_minor": 0
      },
      "text/plain": [
       "VBox(children=(Figure(camera=PerspectiveCamera(fov=46.0, position=(0.0, 0.0, 2.0), quaternion=(0.0, 0.0, 0.0, …"
      ]
     },
     "metadata": {},
     "output_type": "display_data"
    }
   ],
   "source": [
    "nviz.visualize_neuron(curr_neuron_obj,\n",
    "                     visualize_type=[\"mesh\",\"skeleton\"],\n",
    "                     limb_branch_dict=\"all\")"
   ]
  },
  {
   "cell_type": "code",
   "execution_count": 182,
   "metadata": {},
   "outputs": [
    {
     "name": "stdout",
     "output_type": "stream",
     "text": [
      "\n",
      " Working on visualization type: mesh\n"
     ]
    },
    {
     "data": {
      "application/vnd.jupyter.widget-view+json": {
       "model_id": "e6c5baad998e4cf389e1a9f6bbb9d8d9",
       "version_major": 2,
       "version_minor": 0
      },
      "text/plain": [
       "VBox(children=(Figure(camera=PerspectiveCamera(fov=46.0, position=(0.0, 0.0, 2.0), quaternion=(0.0, 0.0, 0.0, …"
      ]
     },
     "metadata": {},
     "output_type": "display_data"
    }
   ],
   "source": [
    "ret_col = nviz.visualize_neuron(curr_neuron_obj,\n",
    "                     visualize_type=[\"mesh\"],\n",
    "                     limb_branch_dict=\"all\",\n",
    "                     mesh_resolution=\"limb\",\n",
    "                                return_color_dict=True)\n",
    "\n"
   ]
  },
  {
   "cell_type": "code",
   "execution_count": 183,
   "metadata": {},
   "outputs": [],
   "source": [
    "# ret_col = nviz.visualize_neuron(curr_neuron_obj,\n",
    "#                      visualize_type=[\"mesh\",\"skeleton\"],\n",
    "#                      limb_branch_dict=dict(L1=\"all\"),\n",
    "#                                return_color_dict=True)"
   ]
  },
  {
   "cell_type": "code",
   "execution_count": 184,
   "metadata": {},
   "outputs": [],
   "source": [
    "# nviz.plot_limb_concept_network_2D(curr_neuron_obj,\n",
    "#                                  node_colors=ret_col)"
   ]
  },
  {
   "cell_type": "code",
   "execution_count": 185,
   "metadata": {},
   "outputs": [
    {
     "data": {
      "image/png": "[encoded data removed]",
      "text/plain": [
       "<Figure size 432x288 with 1 Axes>"
      ]
     },
     "metadata": {},
     "output_type": "display_data"
    }
   ],
   "source": [
    "nviz.plot_soma_limb_concept_network(curr_neuron_obj,\n",
    "                                   node_colors=ret_col)"
   ]
  },
  {
   "cell_type": "markdown",
   "metadata": {},
   "source": [
    "# Running the Axon Classification"
   ]
  },
  {
   "cell_type": "code",
   "execution_count": 186,
   "metadata": {
    "scrolled": false
   },
   "outputs": [
    {
     "name": "stdout",
     "output_type": "stream",
     "text": [
      "current_query = (n_spines < 4 and (median_mesh_center < 600) and skeleton_distance_branch <= 25000) or (skeleton_distance_branch > 15000 and (median_mesh_center < 600) and spines_per_skeletal_length < 0.00007)\n",
      "functions_list = [<function width at 0x7f98d7823400>, <function median_mesh_center at 0x7f98d78230d0>, <function n_spines at 0x7f98d78231e0>, <function n_faces_branch at 0x7f98d5d28ae8>, <function skeleton_distance_branch at 0x7f98d7823048>, <function spines_per_skeletal_length at 0x7f98d78237b8>, <function no_spine_median_mesh_center at 0x7f98d7823488>]\n",
      "functions_list = [<function axon_segment at 0x7f98d787a1e0>]\n",
      "\n",
      "Part 1: Axon like branchese \n",
      "{'L1': array([ 1,  2,  3,  4,  6,  7,  8,  9, 10, 11, 25]), 'L2': array([ 0,  1,  2,  3,  4,  5,  6,  7,  8,  9, 10, 11, 12, 13, 14, 15, 16,\n",
      "       17, 18, 19, 20, 21, 22, 23, 24, 25, 26, 28, 29, 30, 31, 32, 33, 34,\n",
      "       35, 39, 41]), 'L4': array([3, 5, 7]), 'L6': array([ 3,  5,  6,  7,  8,  9, 11]), 'L8': array([0])}\n",
      "functions_list = [<function soma_starting_angle at 0x7f98d787a510>]\n",
      "Limb L0 soma angle: 12.61 \n",
      "Limb L1 soma angle: 133.5 \n",
      "Limb L2 soma angle: 107.93 \n",
      "Limb L3 soma angle: 90.48 \n",
      "Limb L4 soma angle: 78.84 \n",
      "Limb L5 soma angle: 96.99 \n",
      "Limb L6 soma angle: 144.18 \n",
      "Limb L7 soma angle: 49.72 \n",
      "Limb L8 soma angle: 149.37 \n",
      "\n",
      "Part 2: possible_axon_limbs = [1, 2, 3, 4, 5, 6, 8]\n",
      "functions_list = [<function skeletal_distance_from_soma at 0x7f98d787a950>]\n",
      "functions_list = [<function skeletal_distance_from_soma at 0x7f98d787a950>]\n",
      "\n",
      "Working on Limb L1\n",
      "nodes_to_eliminate = [16]\n",
      "\n",
      "Working on Limb L2\n",
      "nodes_to_eliminate = [45]\n",
      "\n",
      "Working on Limb L3\n",
      "nodes_to_eliminate = [ 9 11]\n",
      "\n",
      "Working on Limb L4\n",
      "nodes_to_eliminate = [11]\n",
      "\n",
      "Working on Limb L5\n",
      "nodes_to_eliminate = [0]\n",
      "\n",
      "Working on Limb L6\n",
      "nodes_to_eliminate = []\n",
      "\n",
      "Working on Limb L8\n",
      "nodes_to_eliminate = []\n",
      "\n",
      "----Working on Limb L1-----\n",
      "No endpoints were eliminated so don't need to add back any candidates\n",
      "\n",
      "----Working on Limb L2-----\n",
      "No endpoints were eliminated so don't need to add back any candidates\n",
      "\n",
      "----Working on Limb L3-----\n",
      "No endpoints were eliminated so don't need to add back any candidates\n",
      "\n",
      "----Working on Limb L4-----\n",
      "No endpoints were eliminated so don't need to add back any candidates\n",
      "\n",
      "----Working on Limb L5-----\n",
      "No endpoints were eliminated so don't need to add back any candidates\n",
      "\n",
      "----Working on Limb L6-----\n",
      "No nodes were eliminated so don't need to add back any candidates\n",
      "\n",
      "----Working on Limb L8-----\n",
      "No nodes were eliminated so don't need to add back any candidates\n",
      "Final Candidates\n",
      "\n",
      "Limb 1\n",
      "array([ 0,  1,  2,  3,  4,  5,  6,  7,  8,  9, 10, 11, 12, 13, 14, 15])\n",
      "array([17, 18, 19, 20, 21, 22, 23, 24, 25])\n",
      "\n",
      "Limb 2\n",
      "array([ 0,  1,  2,  3,  4,  5,  6,  7,  8,  9, 10, 11, 12, 13, 14, 15, 16,\n",
      "       17, 18, 19, 20, 21, 22, 23, 24, 25, 26, 28, 29, 30, 31, 32, 33, 34,\n",
      "       35, 36, 39, 40, 41, 42])\n",
      "array([37, 38, 43, 44, 27])\n",
      "\n",
      "Limb 3\n",
      "array([10])\n",
      "array([1, 2, 5])\n",
      "array([0, 3, 4, 6, 7])\n",
      "array([8])\n",
      "\n",
      "Limb 4\n",
      "array([0, 1, 2, 8, 9])\n",
      "array([ 3,  4,  5,  6,  7, 10, 12, 13, 14])\n",
      "\n",
      "Limb 5\n",
      "array([1])\n",
      "array([2, 3, 4, 5, 6, 7, 8])\n",
      "\n",
      "Limb 6\n",
      "array([ 0,  1,  2,  3,  4,  5,  6,  7,  8,  9, 10, 11])\n",
      "\n",
      "Limb 8\n",
      "array([0])\n",
      "Part 3: axon_subgraph_candidates = {1: [[0, 1, 2, 3, 4, 5, 6, 7, 8, 9, 10, 11, 12, 13, 14, 15], [17, 18, 19, 20, 21, 22, 23, 24, 25]], 2: [[0, 1, 2, 3, 4, 5, 6, 7, 8, 9, 10, 11, 12, 13, 14, 15, 16, 17, 18, 19, 20, 21, 22, 23, 24, 25, 26, 28, 29, 30, 31, 32, 33, 34, 35, 36, 39, 40, 41, 42], [37, 38, 43, 44, 27]], 3: [[10], [1, 2, 5], [0, 3, 4, 6, 7], [8]], 4: [[0, 1, 2, 8, 9], [3, 4, 5, 6, 7, 10, 12, 13, 14]], 5: [[1], [2, 3, 4, 5, 6, 7, 8]], 6: [[0, 1, 2, 3, 4, 5, 6, 7, 8, 9, 10, 11]], 8: [[0]]}\n",
      "\n",
      "\n",
      " --- Working on limb 1, candidate # 0\n",
      "10 out of 16 branches are axons\n",
      "Axon percentage = 0.625\n",
      "curr_axon_angle_threshold = 120\n",
      "endnodes_to_test = [2945 3673]\n",
      "Skeleton paths distances = [24977.19501495 24917.44379548]\n",
      "Filtered indexes = [0 1]\n",
      "len(filtered_skeletons) = 2\n",
      "sk_angles = [142.77388904 142.77388904]\n",
      "Not adding candidate the first branch was not an axon \n",
      "\n",
      "\n",
      " --- Working on limb 1, candidate # 1\n",
      "1 out of 9 branches are axons\n",
      "Axon percentage = 0.1111111111111111\n",
      "curr_axon_angle_threshold = 120\n",
      "endnodes_to_test = [186 191]\n",
      "Skeleton paths distances = [24935.53802347 24956.11629569]\n",
      "Filtered indexes = [0 1]\n",
      "len(filtered_skeletons) = 2\n",
      "sk_angles = [86.94919561 86.94919561]\n",
      "Not adding candidate because no angles ([86.94919561 86.94919561]) passed the threhold 120 \n",
      "\n",
      "\n",
      " --- Working on limb 2, candidate # 0\n",
      "37 out of 40 branches are axons\n",
      "Axon percentage = 0.925\n",
      "curr_axon_angle_threshold = 90\n",
      "endnodes_to_test = [7990 7999]\n",
      "Skeleton paths distances = [24993.78198796 24974.63340455]\n",
      "Filtered indexes = [0 1]\n",
      "len(filtered_skeletons) = 2\n",
      "sk_angles = [150.50158744 150.50158744]\n",
      "Not adding candidate the first branch was not an axon \n",
      "\n",
      "\n",
      " --- Working on limb 2, candidate # 1\n",
      "0 out of 5 branches are axons\n",
      "Axon percentage = 0.0\n",
      "Not adding candidate no axon branches detected \n",
      "\n",
      "\n",
      " --- Working on limb 3, candidate # 0\n",
      "0 out of 1 branches are axons\n",
      "Axon percentage = 0.0\n",
      "Not adding candidate no axon branches detected \n",
      "\n",
      "\n",
      " --- Working on limb 3, candidate # 1\n",
      "0 out of 3 branches are axons\n",
      "Axon percentage = 0.0\n",
      "Not adding candidate no axon branches detected \n",
      "\n",
      "\n",
      " --- Working on limb 3, candidate # 2\n",
      "0 out of 5 branches are axons\n",
      "Axon percentage = 0.0\n",
      "Not adding candidate no axon branches detected \n",
      "\n",
      "\n",
      " --- Working on limb 3, candidate # 3\n",
      "0 out of 1 branches are axons\n",
      "Axon percentage = 0.0\n",
      "Not adding candidate no axon branches detected \n",
      "\n",
      "\n",
      " --- Working on limb 4, candidate # 0\n",
      "0 out of 5 branches are axons\n",
      "Axon percentage = 0.0\n",
      "Not adding candidate no axon branches detected \n",
      "\n",
      "\n",
      " --- Working on limb 4, candidate # 1\n",
      "3 out of 9 branches are axons\n",
      "Axon percentage = 0.3333333333333333\n",
      "curr_axon_angle_threshold = 120\n",
      "endnodes_to_test = [1226]\n",
      "Skeleton paths distances = [24996.62438074]\n",
      "Filtered indexes = [0]\n",
      "len(filtered_skeletons) = 1\n",
      "sk_angles = [133.31053446]\n",
      "Not adding candidate the first branch was not an axon \n",
      "\n",
      "\n",
      " --- Working on limb 5, candidate # 0\n",
      "0 out of 1 branches are axons\n",
      "Axon percentage = 0.0\n",
      "Not adding candidate no axon branches detected \n",
      "\n",
      "\n",
      " --- Working on limb 5, candidate # 1\n",
      "0 out of 7 branches are axons\n",
      "Axon percentage = 0.0\n",
      "Not adding candidate no axon branches detected \n",
      "\n",
      "\n",
      " --- Working on limb 6, candidate # 0\n",
      "7 out of 12 branches are axons\n",
      "Axon percentage = 0.5833333333333334\n",
      "curr_axon_angle_threshold = 120\n",
      "endnodes_to_test = [ 319 1488]\n",
      "Skeleton paths distances = [24976.9101707  24977.14299306]\n",
      "Filtered indexes = [0 1]\n",
      "len(filtered_skeletons) = 2\n",
      "sk_angles = [152.06909174 133.0467097 ]\n",
      "Not adding candidate the first branch was not an axon \n",
      "\n",
      "\n",
      " --- Working on limb 8, candidate # 0\n",
      "1 out of 1 branches are axons\n",
      "Axon percentage = 1.0\n",
      "curr_axon_angle_threshold = 90\n",
      "endnodes_to_test = [2]\n",
      "Skeleton paths distances = [24998.97220826]\n",
      "Filtered indexes = [0]\n",
      "len(filtered_skeletons) = 1\n",
      "sk_angles = [174.78257481]\n",
      "Adding the following branches as true axons: [0.]\n",
      "\n",
      "\n",
      "Part 4: final_true_axons = {'L8': array([0.])}\n",
      "\n",
      " Working on visualization type: mesh\n"
     ]
    },
    {
     "data": {
      "application/vnd.jupyter.widget-view+json": {
       "model_id": "8788f74e3bbb4d97941f58b798a92885",
       "version_major": 2,
       "version_minor": 0
      },
      "text/plain": [
       "VBox(children=(Figure(camera=PerspectiveCamera(fov=46.0, position=(0.0, 0.0, 2.0), quaternion=(0.0, 0.0, 0.0, …"
      ]
     },
     "metadata": {},
     "output_type": "display_data"
    },
    {
     "name": "stdout",
     "output_type": "stream",
     "text": [
      "functions_list = [<function labels_restriction at 0x7f98d7823730>, <function median_mesh_center at 0x7f98d78230d0>]\n",
      "\n",
      " Working on visualization type: mesh\n"
     ]
    },
    {
     "data": {
      "application/vnd.jupyter.widget-view+json": {
       "model_id": "4cbeb439d22c49fdb4906606534d6d85",
       "version_major": 2,
       "version_minor": 0
      },
      "text/plain": [
       "VBox(children=(Figure(camera=PerspectiveCamera(fov=46.0, position=(0.0, 0.0, 2.0), quaternion=(0.0, 0.0, 0.0, …"
      ]
     },
     "metadata": {},
     "output_type": "display_data"
    }
   ],
   "source": [
    "import classification_utils as clu\n",
    "\n",
    "axon_limb_branch_dict,error_limb_branch_dict = clu.axon_classification(curr_neuron_obj,\n",
    "                   verbose=True,\n",
    "                    plot_axons=True,\n",
    "                   plot_axon_errors=True,\n",
    "                    error_width_max=200)"
   ]
  },
  {
   "cell_type": "code",
   "execution_count": 187,
   "metadata": {},
   "outputs": [
    {
     "name": "stdout",
     "output_type": "stream",
     "text": [
      "\n",
      " Working on visualization type: mesh\n"
     ]
    },
    {
     "data": {
      "application/vnd.jupyter.widget-view+json": {
       "model_id": "6acfee7ddfc34232b39aca7d15e99a17",
       "version_major": 2,
       "version_minor": 0
      },
      "text/plain": [
       "VBox(children=(Figure(camera=PerspectiveCamera(fov=46.0, position=(0.0, 0.0, 2.0), quaternion=(0.0, 0.0, 0.0, …"
      ]
     },
     "metadata": {},
     "output_type": "display_data"
    },
    {
     "data": {
      "image/png": "[encoded data removed]",
      "text/plain": [
       "<Figure size 432x288 with 1 Axes>"
      ]
     },
     "metadata": {},
     "output_type": "display_data"
    }
   ],
   "source": [
    "ret_col = nviz.visualize_neuron(curr_neuron_obj,\n",
    "                     visualize_type=[\"mesh\"],\n",
    "                     limb_branch_dict=\"all\",\n",
    "                     mesh_resolution=\"limb\",\n",
    "                                return_color_dict=True)\n",
    "\n",
    "nviz.plot_soma_limb_concept_network(curr_neuron_obj,\n",
    "                                   node_colors=ret_col)"
   ]
  },
  {
   "cell_type": "code",
   "execution_count": 189,
   "metadata": {
    "scrolled": false
   },
   "outputs": [
    {
     "name": "stdout",
     "output_type": "stream",
     "text": [
      "\n",
      " Working on visualization type: mesh\n",
      "\n",
      " Working on visualization type: skeleton\n"
     ]
    },
    {
     "data": {
      "application/vnd.jupyter.widget-view+json": {
       "model_id": "f2ff75b79f2b462c8ed93b3ab3667bbf",
       "version_major": 2,
       "version_minor": 0
      },
      "text/plain": [
       "VBox(children=(Figure(camera=PerspectiveCamera(fov=46.0, position=(0.0, 0.0, 2.0), quaternion=(0.0, 0.0, 0.0, …"
      ]
     },
     "metadata": {},
     "output_type": "display_data"
    }
   ],
   "source": [
    "ret_col = nviz.visualize_neuron(curr_neuron_obj,\n",
    "                                visualize_type=[\"mesh\",\"skeleton\"],\n",
    "                     limb_branch_dict=dict(L1=\"all\"),\n",
    "                               return_color_dict=True)"
   ]
  },
  {
   "cell_type": "code",
   "execution_count": 190,
   "metadata": {},
   "outputs": [
    {
     "name": "stdout",
     "output_type": "stream",
     "text": [
      "No limb name was given so using L1 because was the limb in the first key\n"
     ]
    },
    {
     "data": {
      "image/png": "[encoded data removed]",
      "text/plain": [
       "<Figure size 2880x1440 with 1 Axes>"
      ]
     },
     "metadata": {},
     "output_type": "display_data"
    }
   ],
   "source": [
    "nviz.plot_limb_concept_network_2D(curr_neuron_obj,\n",
    "                                   node_colors=ret_col)"
   ]
  },
  {
   "cell_type": "code",
   "execution_count": 191,
   "metadata": {},
   "outputs": [],
   "source": [
    "ex_branch = curr_neuron_obj[1][25]"
   ]
  },
  {
   "cell_type": "code",
   "execution_count": 192,
   "metadata": {},
   "outputs": [
    {
     "data": {
      "text/plain": [
       "{'median_mesh_center': 134.24769837942708,\n",
       " 'no_spine_median_mesh_center': 134.24769837942708}"
      ]
     },
     "execution_count": 192,
     "metadata": {},
     "output_type": "execute_result"
    }
   ],
   "source": [
    "ex_branch.width_new"
   ]
  },
  {
   "cell_type": "code",
   "execution_count": 193,
   "metadata": {},
   "outputs": [
    {
     "data": {
      "text/plain": [
       "0"
      ]
     },
     "execution_count": 193,
     "metadata": {},
     "output_type": "execute_result"
    }
   ],
   "source": [
    "ex_branch.n_spines"
   ]
  },
  {
   "cell_type": "code",
   "execution_count": 149,
   "metadata": {},
   "outputs": [
    {
     "data": {
      "text/plain": [
       "18087.053330393166"
      ]
     },
     "execution_count": 149,
     "metadata": {},
     "output_type": "execute_result"
    }
   ],
   "source": [
    "sk.calculate_skeleton_distance(ex_branch.skeleton)"
   ]
  },
  {
   "cell_type": "code",
   "execution_count": 150,
   "metadata": {},
   "outputs": [
    {
     "data": {
      "text/plain": [
       "0.0"
      ]
     },
     "execution_count": 150,
     "metadata": {},
     "output_type": "execute_result"
    }
   ],
   "source": [
    "import skeleton_utils as sk\n",
    "len(ex_branch.spines)/sk.calculate_skeleton_distance(ex_branch.skeleton)"
   ]
  },
  {
   "cell_type": "code",
   "execution_count": null,
   "metadata": {},
   "outputs": [],
   "source": []
  },
  {
   "cell_type": "code",
   "execution_count": 142,
   "metadata": {},
   "outputs": [
    {
     "data": {
      "text/plain": [
       "0.0002"
      ]
     },
     "execution_count": 142,
     "metadata": {},
     "output_type": "execute_result"
    }
   ],
   "source": [
    "3/15000"
   ]
  },
  {
   "cell_type": "code",
   "execution_count": 140,
   "metadata": {},
   "outputs": [
    {
     "data": {
      "application/vnd.jupyter.widget-view+json": {
       "model_id": "a77b8f441dc745ec8f7a0b2660d28ecf",
       "version_major": 2,
       "version_minor": 0
      },
      "text/plain": [
       "VBox(children=(Figure(camera=PerspectiveCamera(fov=46.0, position=(0.0, 0.0, 2.0), quaternion=(0.0, 0.0, 0.0, …"
      ]
     },
     "metadata": {},
     "output_type": "display_data"
    }
   ],
   "source": [
    "nviz.plot_objects(ex_branch.mesh,\n",
    "                 meshes=ex_branch.spines,\n",
    "                 meshes_colors=\"red\")"
   ]
  },
  {
   "cell_type": "code",
   "execution_count": null,
   "metadata": {},
   "outputs": [],
   "source": []
  }
 ],
 "metadata": {
  "kernelspec": {
   "display_name": "Python 3",
   "language": "python",
   "name": "python3"
  },
  "language_info": {
   "codemirror_mode": {
    "name": "ipython",
    "version": 3
   },
   "file_extension": ".py",
   "mimetype": "text/x-python",
   "name": "python",
   "nbconvert_exporter": "python",
   "pygments_lexer": "ipython3",
   "version": "3.6.9"
  }
 },
 "nbformat": 4,
 "nbformat_minor": 4
}
