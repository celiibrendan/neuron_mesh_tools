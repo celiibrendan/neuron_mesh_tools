{
 "cells": [
  {
   "cell_type": "code",
   "execution_count": 1,
   "metadata": {},
   "outputs": [
    {
     "data": {
      "text/plain": [
       "'\\nTo practice extracting the axon automatically using the \\nnewly created filtering rules\\n\\n'"
      ]
     },
     "execution_count": 1,
     "metadata": {},
     "output_type": "execute_result"
    }
   ],
   "source": [
    "\"\"\"\n",
    "To practice extracting the axon automatically using the \n",
    "newly created filtering rules\n",
    "\n",
    "\"\"\""
   ]
  },
  {
   "cell_type": "code",
   "execution_count": 2,
   "metadata": {},
   "outputs": [],
   "source": [
    "%load_ext autoreload\n",
    "%autoreload 2"
   ]
  },
  {
   "cell_type": "code",
   "execution_count": 3,
   "metadata": {},
   "outputs": [],
   "source": [
    "from os import sys\n",
    "sys.path.append(\"/meshAfterParty/\")"
   ]
  },
  {
   "cell_type": "code",
   "execution_count": 104,
   "metadata": {},
   "outputs": [],
   "source": [
    "from importlib import reload\n",
    "\n",
    "import neuron_utils as nru\n",
    "\n",
    "import neuron\n",
    "\n",
    "import neuron_visualizations as nviz\n",
    "\n",
    "import time\n",
    "\n",
    "import datajoint_utils as du\n",
    "\n",
    "import numpy as np\n",
    "\n",
    "import proofreading_utils as pru\n",
    "\n",
    "import preprocessing_vp2 as pre\n",
    "\n",
    "# -- For the axon classification --\n",
    "\n",
    "import neuron_searching as ns\n",
    "\n",
    "import skeleton_utils as sk\n",
    "\n",
    "import numpy_utils as nu"
   ]
  },
  {
   "cell_type": "markdown",
   "metadata": {},
   "source": [
    "# Importing Neuron"
   ]
  },
  {
   "cell_type": "code",
   "execution_count": 5,
   "metadata": {},
   "outputs": [],
   "source": [
    "neuron_obj_file = \"classic_double_neuron_1\""
   ]
  },
  {
   "cell_type": "code",
   "execution_count": 6,
   "metadata": {},
   "outputs": [
    {
     "name": "stdout",
     "output_type": "stream",
     "text": [
      "Decompressing Neuron in minimal output mode...please wait\n"
     ]
    }
   ],
   "source": [
    "curr_neuron_obj = nru.decompress_neuron(neuron_obj_file,neuron_obj_file)"
   ]
  },
  {
   "cell_type": "code",
   "execution_count": 7,
   "metadata": {},
   "outputs": [
    {
     "data": {
      "image/png": "[encoded data removed]",
      "text/plain": [
       "<Figure size 432x288 with 1 Axes>"
      ]
     },
     "metadata": {},
     "output_type": "display_data"
    }
   ],
   "source": [
    "nviz.plot_soma_limb_concept_network(curr_neuron_obj)"
   ]
  },
  {
   "cell_type": "code",
   "execution_count": 8,
   "metadata": {},
   "outputs": [
    {
     "name": "stdout",
     "output_type": "stream",
     "text": [
      "\n",
      " Working on visualization type: mesh\n",
      "\n",
      " Working on visualization type: skeleton\n"
     ]
    },
    {
     "data": {
      "application/vnd.jupyter.widget-view+json": {
       "model_id": "5cd599863e5d41ebb5f6226b55bdc5bb",
       "version_major": 2,
       "version_minor": 0
      },
      "text/plain": [
       "VBox(children=(Figure(camera=PerspectiveCamera(fov=46.0, position=(0.0, 0.0, 2.0), quaternion=(0.0, 0.0, 0.0, …"
      ]
     },
     "metadata": {},
     "output_type": "display_data"
    }
   ],
   "source": [
    "nviz.visualize_neuron(curr_neuron_obj,\n",
    "                     visualize_type=[\"mesh\",\"skeleton\"],\n",
    "                     limb_branch_dict=\"all\")"
   ]
  },
  {
   "cell_type": "markdown",
   "metadata": {},
   "source": [
    "# 0) Check that only one soma"
   ]
  },
  {
   "cell_type": "code",
   "execution_count": 9,
   "metadata": {},
   "outputs": [],
   "source": [
    "soma_names = curr_neuron_obj.get_soma_node_names()\n",
    "if len(soma_names)>1:\n",
    "    raise Exception(f\"More than 1 soma: {soma_names}\")\n",
    "\n",
    "soma_name = soma_names[0]"
   ]
  },
  {
   "cell_type": "code",
   "execution_count": 106,
   "metadata": {},
   "outputs": [],
   "source": [
    "verbose = True\n",
    "ais_threshold = 20000\n",
    "axon_angle_threshold = 140"
   ]
  },
  {
   "cell_type": "markdown",
   "metadata": {},
   "source": [
    "# 1) Classify All Axon Segments"
   ]
  },
  {
   "cell_type": "code",
   "execution_count": 10,
   "metadata": {},
   "outputs": [
    {
     "name": "stdout",
     "output_type": "stream",
     "text": [
      "current_query = (n_spines < 4 and (median_mesh_center < 600) and skeleton_distance_branch <= 15000) or (skeleton_distance_branch > 15000 and (median_mesh_center < 600) and spines_per_skeletal_length < 0.00023)\n",
      "functions_list = [<function width at 0x7f00f4068d08>, <function median_mesh_center at 0x7f00f40d1048>, <function n_spines at 0x7f00f4068e18>, <function n_faces_branch at 0x7f00f4068b70>, <function skeleton_distance_branch at 0x7f00f4068d90>, <function spines_per_skeletal_length at 0x7f00f40d12f0>, <function no_spine_median_mesh_center at 0x7f00f40d1158>]\n",
      "functions_list = [<function axon_segment at 0x7f00f40d19d8>]\n",
      "\n",
      " Working on visualization type: mesh\n"
     ]
    },
    {
     "data": {
      "application/vnd.jupyter.widget-view+json": {
       "model_id": "eb1962770c9e4a179b180f3abd6b7d5d",
       "version_major": 2,
       "version_minor": 0
      },
      "text/plain": [
       "VBox(children=(Figure(camera=PerspectiveCamera(fov=46.0, position=(0.0, 0.0, 2.0), quaternion=(0.0, 0.0, 0.0, …"
      ]
     },
     "metadata": {},
     "output_type": "display_data"
    }
   ],
   "source": [
    "axon_like_limb_branch_dict = ns.axon_width_like_segments(curr_neuron_obj,\n",
    "                                                        include_ais=True)\n",
    "\n",
    "\n",
    "\n",
    "# nviz.visualize_neuron(curr_neuron_obj,\n",
    "#                       visualize_type=[\"mesh\"],\n",
    "#                      limb_branch_dict=axon_like_limb_branch_dict,\n",
    "#                      mesh_color=\"red\",\n",
    "#                       mesh_color_alpha=1,\n",
    "#                      mesh_whole_neuron=True)\n",
    "\n",
    "current_functions_list = [\"axon_segment\"]\n",
    "final_axon_like_classification = ns.query_neuron(curr_neuron_obj,\n",
    "                                        \n",
    "                                   query=\"axon_segment==True\",\n",
    "                                   function_kwargs=dict(limb_branch_dict =axon_like_limb_branch_dict,\n",
    "                                                        downstream_face_threshold=3000,\n",
    "                                                        width_match_threshold=50,\n",
    "                                                       print_flag=False),\n",
    "                                   functions_list=current_functions_list)\n",
    "\n",
    "nviz.visualize_neuron(curr_neuron_obj,\n",
    "                      visualize_type=[\"mesh\"],\n",
    "                     limb_branch_dict=final_axon_like_classification,\n",
    "                     mesh_color=\"red\",\n",
    "                      mesh_color_alpha=1,\n",
    "                     mesh_whole_neuron=True)"
   ]
  },
  {
   "cell_type": "code",
   "execution_count": 11,
   "metadata": {},
   "outputs": [],
   "source": [
    "# want to label all branches as \"axon_like\"\n",
    "current_label = \"axon-like\"\n",
    "\n",
    "nru.add_branch_label(curr_neuron_obj,\n",
    "                    limb_branch_dict=final_axon_like_classification,\n",
    "                    labels=current_label)\n"
   ]
  },
  {
   "cell_type": "code",
   "execution_count": 12,
   "metadata": {},
   "outputs": [
    {
     "name": "stdout",
     "output_type": "stream",
     "text": [
      "functions_list = [<function matching_label at 0x7f00f40d1378>]\n"
     ]
    },
    {
     "data": {
      "text/plain": [
       "{'L0': array([ 1,  3,  5,  7,  8, 16, 18, 20, 21, 38, 45]),\n",
       " 'L1': array([ 3,  4,  9, 12, 13, 14, 16, 17, 18, 19, 20, 21, 22]),\n",
       " 'L2': array([ 4,  6,  8,  9, 11, 12, 13, 14, 15, 16, 23]),\n",
       " 'L4': array([0]),\n",
       " 'L5': array([3])}"
      ]
     },
     "execution_count": 12,
     "metadata": {},
     "output_type": "execute_result"
    }
   ],
   "source": [
    "current_functions_list = [\"matching_label\"]\n",
    "\n",
    "recovered_axon_branches = ns.query_neuron(curr_neuron_obj,\n",
    "                query=\"matching_label==True\",\n",
    "                function_kwargs=dict(labels =[\"axon-like\"]),\n",
    "                functions_list=current_functions_list\n",
    "               )\n",
    "\n",
    "recovered_axon_branches"
   ]
  },
  {
   "cell_type": "markdown",
   "metadata": {},
   "source": [
    "# 2) Filter Limbs By Starting Angle"
   ]
  },
  {
   "cell_type": "code",
   "execution_count": 13,
   "metadata": {},
   "outputs": [
    {
     "name": "stdout",
     "output_type": "stream",
     "text": [
      "functions_list = [<function soma_starting_angle at 0x7f00f40d1d08>]\n",
      "Limb L0 soma angle: 2.56 \n",
      "Limb L1 soma angle: 106.07 \n",
      "Limb L2 soma angle: 98.8 \n",
      "Limb L3 soma angle: 122.76 \n",
      "Limb L4 soma angle: 134.4 \n",
      "Limb L5 soma angle: 106.31 \n"
     ]
    },
    {
     "data": {
      "text/plain": [
       "[1, 2, 3, 4, 5]"
      ]
     },
     "execution_count": 13,
     "metadata": {},
     "output_type": "execute_result"
    }
   ],
   "source": [
    "axon_soma_angle_threshold = 70\n",
    "\n",
    "soma_center = curr_neuron_obj[\"S0\"].mesh_center\n",
    "\n",
    "possible_axon_limbs_dict = ns.query_neuron(curr_neuron_obj,\n",
    "                query=f\"soma_starting_angle>{axon_soma_angle_threshold}\",\n",
    "               functions_list=[ns.soma_starting_angle],\n",
    "               function_kwargs=dict(soma_center=soma_center,\n",
    "                                   verbose=True))\n",
    "\n",
    "possible_axon_limbs = list(possible_axon_limbs_dict.keys())\n",
    "possible_axon_limbs = [nru.get_limb_int_name(k) for k in possible_axon_limbs]\n",
    "possible_axon_limbs"
   ]
  },
  {
   "cell_type": "markdown",
   "metadata": {},
   "source": [
    "# 3) Get all of the Viable Candidates"
   ]
  },
  {
   "cell_type": "code",
   "execution_count": 14,
   "metadata": {},
   "outputs": [],
   "source": [
    "import classification_utils as clu"
   ]
  },
  {
   "cell_type": "code",
   "execution_count": 15,
   "metadata": {},
   "outputs": [
    {
     "name": "stdout",
     "output_type": "stream",
     "text": [
      "functions_list = [<function skeletal_distance_from_soma at 0x7f00f40d1840>]\n",
      "functions_list = [<function skeletal_distance_from_soma at 0x7f00f40d1840>]\n",
      "\n",
      "Working on Limb L1\n",
      "nodes_to_eliminate = []\n",
      "\n",
      "Working on Limb L2\n",
      "nodes_to_eliminate = [20 22]\n",
      "\n",
      "Working on Limb L3\n",
      "nodes_to_eliminate = [3]\n",
      "\n",
      "Working on Limb L4\n",
      "nodes_to_eliminate = [0]\n",
      "The filtered network is empty so just leaving the candidates as empty lists\n",
      "\n",
      "Working on Limb L5\n",
      "nodes_to_eliminate = [0]\n",
      "\n",
      "----Working on Limb L1-----\n",
      "No nodes were eliminated so don't need to add back any candidates\n",
      "\n",
      "----Working on Limb L2-----\n",
      "No endpoints were eliminated so don't need to add back any candidates\n",
      "\n",
      "----Working on Limb L3-----\n",
      "No endpoints were eliminated so don't need to add back any candidates\n",
      "\n",
      "----Working on Limb L4-----\n",
      "network was only of size 1 and that node was eliminated so returning that as the only candidate\n",
      "\n",
      "----Working on Limb L5-----\n",
      "No endpoints were eliminated so don't need to add back any candidates\n",
      "\n",
      " Working on visualization type: mesh\n"
     ]
    },
    {
     "data": {
      "application/vnd.jupyter.widget-view+json": {
       "model_id": "6bba0747fc19407b99d598c8a3249ae4",
       "version_major": 2,
       "version_minor": 0
      },
      "text/plain": [
       "VBox(children=(Figure(camera=PerspectiveCamera(fov=46.0, position=(0.0, 0.0, 2.0), quaternion=(0.0, 0.0, 0.0, …"
      ]
     },
     "metadata": {},
     "output_type": "display_data"
    },
    {
     "name": "stdout",
     "output_type": "stream",
     "text": [
      "Final Candidates\n",
      "\n",
      "Limb 1\n",
      "[ 0  1  2  3  4  5  6  7  8  9 10 11 12 13 14 15 16 17 18 19 20 21 22 23]\n",
      "\n",
      "Limb 2\n",
      "[2]\n",
      "[ 0  3  6  7 10]\n",
      "[ 1  4  5  8  9 11 12 13 14 15 16 17 18 19 21 23 24]\n",
      "\n",
      "Limb 3\n",
      "[0 1 2]\n",
      "[4 5 6]\n",
      "\n",
      "Limb 4\n",
      "[0]\n",
      "\n",
      "Limb 5\n",
      "[1]\n",
      "[2 3 4 5]\n"
     ]
    }
   ],
   "source": [
    "axon_subgraph_candidates = clu.axon_candidates(curr_neuron_obj,\n",
    "                   possible_axon_limbs=possible_axon_limbs,\n",
    "                        ais_threshold=ais_threshold,\n",
    "                   plot_candidates_after_adding_back=True,\n",
    "                   verbose=True)"
   ]
  },
  {
   "cell_type": "markdown",
   "metadata": {},
   "source": [
    "# Doing the Filtering of the Candidates"
   ]
  },
  {
   "cell_type": "code",
   "execution_count": null,
   "metadata": {},
   "outputs": [],
   "source": [
    "\"\"\"\n",
    "Pseudocode: \n",
    "\n",
    "For each candidate: \n",
    "\n",
    "0) If all Axon? (Have a more relaxed threshold for the skeleton angle)\n",
    "1) Find the starting direction, and if not downwards --> then not axon\n",
    "2) ------------- Check if too thin at the start --> Not Axon (NOT GOING TO DO THIS) -------------\n",
    "3) If first branch is axon --> classify as axon\n",
    "4) Trace back to starting node and add all branches that are axon like\n",
    "\n",
    "\"\"\""
   ]
  },
  {
   "cell_type": "code",
   "execution_count": 17,
   "metadata": {},
   "outputs": [],
   "source": [
    "import networkx_utils as xu"
   ]
  },
  {
   "cell_type": "code",
   "execution_count": 18,
   "metadata": {
    "scrolled": true
   },
   "outputs": [
    {
     "data": {
      "text/plain": [
       "['GraphOrderedEdges',\n",
       " '__builtins__',\n",
       " '__cached__',\n",
       " '__doc__',\n",
       " '__file__',\n",
       " '__loader__',\n",
       " '__name__',\n",
       " '__package__',\n",
       " '__spec__',\n",
       " 'add_new_coordinate_node',\n",
       " 'combine_graphs',\n",
       " 'compare_endpoints',\n",
       " 'compare_networks',\n",
       " 'connected_components_from_nodes_edges',\n",
       " 'copy',\n",
       " 'deepcopy',\n",
       " 'downstream_edges',\n",
       " 'downstream_edges_neighbors',\n",
       " 'downstream_nodes',\n",
       " 'edge_to_index',\n",
       " 'endpoint_connectivity',\n",
       " 'find_all_cycles',\n",
       " 'find_nodes_within_certain_distance_of_target_node',\n",
       " 'find_reciprocal_connections',\n",
       " 'find_skeletal_distance_along_graph_node_path',\n",
       " 'get_all_attributes_for_edges',\n",
       " 'get_all_attributes_for_nodes',\n",
       " 'get_all_nodes_with_certain_attribute_key',\n",
       " 'get_coordinate_by_graph_node',\n",
       " 'get_coordinate_degree',\n",
       " 'get_edge_attributes',\n",
       " 'get_edges_with_attributes_dict',\n",
       " 'get_graph_node_by_coordinate',\n",
       " 'get_graph_node_by_coordinate_old',\n",
       " 'get_neighbors',\n",
       " 'get_node_attributes',\n",
       " 'get_node_degree',\n",
       " 'get_node_list',\n",
       " 'get_nodes_greater_or_equal_degree_k',\n",
       " 'get_nodes_less_or_equal_degree_k',\n",
       " 'get_nodes_of_degree_k',\n",
       " 'get_nodes_with_attributes_dict',\n",
       " 'get_starting_node',\n",
       " 'hierarchy_pos',\n",
       " 'index_to_edge',\n",
       " 'move_node_from_exclusion_list',\n",
       " 'node_to_edges',\n",
       " 'np',\n",
       " 'nu',\n",
       " 'nx',\n",
       " 'parent_node',\n",
       " 'pickle_graph',\n",
       " 'random',\n",
       " 'relabel_node_names',\n",
       " 'remove_cycle',\n",
       " 'remove_selfloops',\n",
       " 'set_node_attributes_dict',\n",
       " 'set_node_data',\n",
       " 'shortest_path_between_two_sets_of_nodes',\n",
       " 'sibling_nodes',\n",
       " 'time',\n",
       " 'unpickle_graph',\n",
       " 'upstream_edges',\n",
       " 'upstream_edges_neighbors',\n",
       " 'upstream_node',\n",
       " 'xu']"
      ]
     },
     "execution_count": 18,
     "metadata": {},
     "output_type": "execute_result"
    }
   ],
   "source": [
    "dir(xu)"
   ]
  },
  {
   "cell_type": "code",
   "execution_count": 27,
   "metadata": {},
   "outputs": [
    {
     "data": {
      "text/plain": [
       "array([ 0,  1,  2,  3,  4,  5,  6,  7,  8,  9, 10, 11, 12, 13, 14, 15, 16,\n",
       "       17, 18, 19, 20, 21, 22, 23])"
      ]
     },
     "execution_count": 27,
     "metadata": {},
     "output_type": "execute_result"
    }
   ],
   "source": [
    "curr_limb_idx = 2\n",
    "curr_limb = curr_neuron_obj[curr_limb_idx]\n",
    "curr_candidate_idx = 0\n",
    "curr_candidate_subgraph = np.array(axon_subgraph_candidates[curr_limb_idx][curr_candidate_idx])\n",
    "curr_candidate_subgraph"
   ]
  },
  {
   "cell_type": "code",
   "execution_count": 21,
   "metadata": {},
   "outputs": [
    {
     "name": "stdout",
     "output_type": "stream",
     "text": [
      "\n",
      " Working on visualization type: mesh\n",
      "\n",
      " Working on visualization type: skeleton\n"
     ]
    },
    {
     "data": {
      "application/vnd.jupyter.widget-view+json": {
       "model_id": "9f2fcd6fd0294ec7a4c31d14097d77a8",
       "version_major": 2,
       "version_minor": 0
      },
      "text/plain": [
       "VBox(children=(Figure(camera=PerspectiveCamera(fov=46.0, position=(0.0, 0.0, 2.0), quaternion=(0.0, 0.0, 0.0, …"
      ]
     },
     "metadata": {},
     "output_type": "display_data"
    }
   ],
   "source": [
    "nviz.visualize_neuron(curr_neuron_obj,\n",
    "                      visualize_type=[\"mesh\",\"skeleton\"],\n",
    "                     limb_branch_dict={f\"L{curr_limb}\":curr_candidate_subgraph})"
   ]
  },
  {
   "cell_type": "markdown",
   "metadata": {},
   "source": [
    "# Finding the shortest path back to starting soma that will be used in some of the later algorithms"
   ]
  },
  {
   "cell_type": "code",
   "execution_count": 116,
   "metadata": {},
   "outputs": [],
   "source": [
    "axon_subgraph_candidates_passing_angle_filter = dict()"
   ]
  },
  {
   "cell_type": "code",
   "execution_count": 34,
   "metadata": {},
   "outputs": [
    {
     "data": {
      "text/plain": [
       "0"
      ]
     },
     "execution_count": 34,
     "metadata": {},
     "output_type": "execute_result"
    }
   ],
   "source": [
    "curr_limb.set_concept_network_directional(starting_soma = 0)\n",
    "curr_limb.current_starting_node,curr_limb.current_starting_coordinate"
   ]
  },
  {
   "cell_type": "code",
   "execution_count": 32,
   "metadata": {},
   "outputs": [],
   "source": [
    "import networkx as nx\n",
    "undirectional_limb_graph = nx.Graph(curr_limb.concept_network_directional)"
   ]
  },
  {
   "cell_type": "code",
   "execution_count": 33,
   "metadata": {},
   "outputs": [
    {
     "data": {
      "text/plain": [
       "<networkx.classes.graph.Graph at 0x7f00d75385f8>"
      ]
     },
     "execution_count": 33,
     "metadata": {},
     "output_type": "execute_result"
    }
   ],
   "source": [
    "undirectional_limb_graph"
   ]
  },
  {
   "cell_type": "code",
   "execution_count": 35,
   "metadata": {},
   "outputs": [
    {
     "data": {
      "text/plain": [
       "([0], 0, 0)"
      ]
     },
     "execution_count": 35,
     "metadata": {},
     "output_type": "execute_result"
    }
   ],
   "source": [
    "import networkx_utils as xu\n",
    "\n",
    "current_shortest_path,st_node,end_node = xu.shortest_path_between_two_sets_of_nodes(\n",
    "    undirectional_limb_graph,[0],\n",
    "    curr_candidate_subgraph)\n"
   ]
  },
  {
   "cell_type": "markdown",
   "metadata": {},
   "source": [
    "# Part A: Finding the Starting Skeleton Direction"
   ]
  },
  {
   "cell_type": "code",
   "execution_count": null,
   "metadata": {},
   "outputs": [],
   "source": [
    "def candidate_starting_skeletal_angle(limb_obj,candidate_nodes,\n",
    "                                      offset = 20000,\n",
    "                                    axon_sk_direction_comparison_distance = 5000,\n",
    "                                    buffer_for_skeleton = 5000,\n",
    "                                      top_volume_vector = np.array([0,-1,0])\n",
    "                                     )"
   ]
  },
  {
   "cell_type": "code",
   "execution_count": null,
   "metadata": {},
   "outputs": [],
   "source": [
    "\"\"\"\n",
    "Purpose: To get the skeleton that represents the starting skeleton\n",
    "--> and then find the projection angle to filter it away or not\n",
    "\n",
    "Pseudocode: \n",
    "1) convert the graph into a skeleton (this is when self touches could be a problem)\n",
    "2) Find all skeleton points that are within a certain distance of the starting coordinate\n",
    "3) Find all edn-degree nodes (except for the start)\n",
    "4) Find path back to start for all end-nodes\n",
    "5) Find paths that are long enough for the offset plus test --> if none then don't filter\n",
    "anyway\n",
    "\n",
    "For each valid path (make them ordered paths):\n",
    "6) Get the offset + test subskeletons for all valid paths\n",
    "7) Get the angle of the sksletons vectors\n",
    "8) Filter the candidate away if ALL (ANY) don't make the threshold angle requirement\n",
    "\"\"\""
   ]
  },
  {
   "cell_type": "code",
   "execution_count": 117,
   "metadata": {},
   "outputs": [
    {
     "data": {
      "text/plain": [
       "array([[779602., 969709., 846839.],\n",
       "       [780569., 967560., 847203.]])"
      ]
     },
     "execution_count": 117,
     "metadata": {},
     "output_type": "execute_result"
    }
   ],
   "source": []
  },
  {
   "cell_type": "code",
   "execution_count": 91,
   "metadata": {},
   "outputs": [],
   "source": [
    "offset = ais_threshold\n",
    "axon_sk_direction_comparison_distance = 5000\n",
    "buffer_for_skeleton = 5000\n",
    "sk_size_to_compare = comparison_distance + offset\n",
    "total_distance = offset + comparison_distance + buffer_for_skeleton"
   ]
  },
  {
   "cell_type": "code",
   "execution_count": 92,
   "metadata": {},
   "outputs": [
    {
     "data": {
      "text/plain": [
       "array([ 0,  1,  2,  3,  4,  5,  6,  7,  8,  9, 10, 11, 12, 13, 14, 15, 16,\n",
       "       17, 18, 19, 20, 21, 22, 23])"
      ]
     },
     "execution_count": 92,
     "metadata": {},
     "output_type": "execute_result"
    }
   ],
   "source": [
    "subgraph_branches = np.unique(np.hstack([curr_candidate_subgraph,current_shortest_path]))\n",
    "subgraph_branches"
   ]
  },
  {
   "cell_type": "code",
   "execution_count": 93,
   "metadata": {},
   "outputs": [],
   "source": [
    "#1) convert the graph into a skeleton (this is when self touches could be a problem)\n",
    "candidate_sk= sk.stack_skeletons([curr_limb[k].skeleton for k in subgraph_branches])\n",
    "candidate_sk_graph = sk.convert_skeleton_to_graph(candidate_sk)\n"
   ]
  },
  {
   "cell_type": "code",
   "execution_count": 94,
   "metadata": {},
   "outputs": [
    {
     "data": {
      "text/plain": [
       "<networkx_utils.GraphOrderedEdges at 0x7f00c9bc9b70>"
      ]
     },
     "execution_count": 94,
     "metadata": {},
     "output_type": "execute_result"
    }
   ],
   "source": [
    "#2) Find all skeleton points that are within a certain distance of the starting coordinate\n",
    "starting_sk_coord = curr_limb.current_starting_coordinate\n",
    "starting_sk_node = xu.get_graph_node_by_coordinate(candidate_sk_graph,starting_sk_coord)\n",
    "skeletons_nodes_for_comparison = xu.find_nodes_within_certain_distance_of_target_node(\n",
    "    candidate_sk_graph,\n",
    "    starting_sk_node,total_distance)\n",
    "np.array(list(skeletons_nodes_for_comparison))\n",
    "comparison_subgraph = candidate_sk_graph.subgraph(skeletons_nodes_for_comparison)\n",
    "comparison_subgraph"
   ]
  },
  {
   "cell_type": "code",
   "execution_count": 95,
   "metadata": {},
   "outputs": [
    {
     "name": "stdout",
     "output_type": "stream",
     "text": [
      "endnodes_to_test = [204 221]\n"
     ]
    }
   ],
   "source": [
    "#3) Find all edn-degree nodes (except for the start)\n",
    "all_endnodes = xu.get_nodes_of_degree_k(comparison_subgraph,1)\n",
    "starting_coordinate_endnode = xu.get_graph_node_by_coordinate(\n",
    "    comparison_subgraph,\n",
    "    starting_sk_coord)\n",
    "endnodes_to_test = np.setdiff1d(all_endnodes,[starting_coordinate_endnode])\n",
    "\n",
    "if verbose:\n",
    "    print(f\"endnodes_to_test = {endnodes_to_test}\")\n",
    "    \n",
    "# nviz.plot_objects(curr_limb.mesh,\n",
    "#             skeletons=[sk.convert_graph_to_skeleton(comparison_subgraph)],\n",
    "#                  )"
   ]
  },
  {
   "cell_type": "code",
   "execution_count": 96,
   "metadata": {},
   "outputs": [],
   "source": [
    "#4) Find path back to start for all end-nodes\n",
    "import networkx as nx\n",
    "paths_to_test = [nx.shortest_path(comparison_subgraph,\n",
    "                                  starting_coordinate_endnode,\n",
    "                                  k\n",
    "                                 ) for k in endnodes_to_test]\n",
    "sk_paths_to_test = [sk.convert_graph_to_skeleton(comparison_subgraph.subgraph(k))\n",
    "                       for k in paths_to_test]\n",
    "sk_paths_to_test_ordered = [sk.order_skeleton(k,\n",
    "                                              start_endpoint_coordinate = starting_sk_coord)\n",
    "                           for k in sk_paths_to_test]\n",
    "\n",
    "if len(sk_paths_to_test_ordered) <= 0: \n",
    "    raise Exception(\"Found no skeleton paths\")\n",
    "# for k in sk_paths_to_test_ordered:\n",
    "#     nviz.plot_objects(curr_limb.mesh,\n",
    "#                      skeletons=[k])"
   ]
  },
  {
   "cell_type": "code",
   "execution_count": 97,
   "metadata": {},
   "outputs": [
    {
     "name": "stdout",
     "output_type": "stream",
     "text": [
      "Skeleton paths distances = [29870.36627367 29835.7633328 ]\n",
      "Filtered indexes = [0 1]\n",
      "len(filtered_skeletons) = 2\n"
     ]
    }
   ],
   "source": [
    "#5) Find paths that are long enough for the offset plus test --> if none then don't filter any\n",
    "\n",
    "sk_distances = np.array([sk.calculate_skeleton_distance(k) for k in sk_paths_to_test_ordered])\n",
    "filtered_indexes = np.where(sk_distances>=sk_size_to_compare)[0]\n",
    "\n",
    "\n",
    "if len(filtered_indexes)> 0:\n",
    "    filtered_skeletons = [sk_paths_to_test_ordered[k] for k in filtered_indexes]\n",
    "else:\n",
    "    filtered_skeletons = sk_paths_to_test_ordered\n",
    "\n",
    "if verbose:\n",
    "    print(f\"Skeleton paths distances = {sk_distances}\")\n",
    "    print(f\"Filtered indexes = {filtered_indexes}\")\n",
    "    print(f\"len(filtered_skeletons) = {len(filtered_skeletons)}\")"
   ]
  },
  {
   "cell_type": "code",
   "execution_count": 98,
   "metadata": {},
   "outputs": [
    {
     "data": {
      "application/vnd.jupyter.widget-view+json": {
       "model_id": "05e763a9949d4fb4b3ee21f09c5cc6ef",
       "version_major": 2,
       "version_minor": 0
      },
      "text/plain": [
       "VBox(children=(Figure(camera=PerspectiveCamera(fov=46.0, position=(0.0, 0.0, 2.0), quaternion=(0.0, 0.0, 0.0, …"
      ]
     },
     "metadata": {},
     "output_type": "display_data"
    },
    {
     "data": {
      "application/vnd.jupyter.widget-view+json": {
       "model_id": "6bf3fc77603f407995d7051b0a9edd48",
       "version_major": 2,
       "version_minor": 0
      },
      "text/plain": [
       "VBox(children=(Figure(camera=PerspectiveCamera(fov=46.0, position=(0.0, 0.0, 2.0), quaternion=(0.0, 0.0, 0.0, …"
      ]
     },
     "metadata": {},
     "output_type": "display_data"
    }
   ],
   "source": [
    "#6) Get the offset + test subskeletons for all valid paths\n",
    "filtered_skeletons_restricted = [sk.restrict_skeleton_from_start_plus_offset(k,\n",
    "                                    offset=offset,\n",
    "                                    comparison_distance=axon_sk_direction_comparison_distance)\n",
    "         for k in filtered_skeletons]\n",
    "\n",
    "for k in filtered_skeletons_restricted:\n",
    "    nviz.plot_objects(curr_limb.mesh,\n",
    "                     skeletons=[k])"
   ]
  },
  {
   "cell_type": "code",
   "execution_count": 115,
   "metadata": {},
   "outputs": [
    {
     "name": "stdout",
     "output_type": "stream",
     "text": [
      "Number of skeleton paths passing the axon skeleton threhold = 0\n"
     ]
    },
    {
     "data": {
      "text/plain": [
       "[]"
      ]
     },
     "execution_count": 115,
     "metadata": {},
     "output_type": "execute_result"
    }
   ],
   "source": [
    "#7) Get the angle of the sletons vectors\n",
    "top_volume_vector = np.array([0,-1,0])\n",
    "\n",
    "#angle between going down and skeleton vector\n",
    "sk_vectors = [sk.skeleton_endpoint_vector(k) for k in filtered_skeletons_restricted]\n",
    "sk_angles = np.array([nu.angle_between_vectors(top_volume_vector,k) for k in sk_vectors])\n",
    "\n",
    "sk_passing_threshold = np.where(sk_angles>axon_angle_threshold)[0]\n",
    "\n",
    "if verbose:\n",
    "    print(f\"Number of skeleton paths passing the axon skeleton threhold = {len(sk_passing_threshold)}\")\n",
    "\n",
    "if len(sk_passing_threshold) > 0:\n",
    "    if curr_limb_idx not in limbs_passing_angle_filter:\n",
    "        axon_subgraph_candidates_passing_angle_filter[curr_limb_idx]\n",
    "    if curr_candidate_idx not in axon_subgraph_candidates_passing_angle_filter[curr_limb_idx]:\n",
    "        axon_subgraph_candidates_passing_angle_filter[curr_limb_idx].append(curr_candidate_idx)\n",
    "        \n",
    "limbs_passing_angle_filter"
   ]
  },
  {
   "cell_type": "code",
   "execution_count": null,
   "metadata": {},
   "outputs": [],
   "source": []
  }
 ],
 "metadata": {
  "kernelspec": {
   "display_name": "Python 3",
   "language": "python",
   "name": "python3"
  },
  "language_info": {
   "codemirror_mode": {
    "name": "ipython",
    "version": 3
   },
   "file_extension": ".py",
   "mimetype": "text/x-python",
   "name": "python",
   "nbconvert_exporter": "python",
   "pygments_lexer": "ipython3",
   "version": "3.6.9"
  }
 },
 "nbformat": 4,
 "nbformat_minor": 4
}
