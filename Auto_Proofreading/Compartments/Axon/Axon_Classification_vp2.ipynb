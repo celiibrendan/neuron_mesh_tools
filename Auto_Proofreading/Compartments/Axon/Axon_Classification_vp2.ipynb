{
 "cells": [
  {
   "cell_type": "code",
   "execution_count": null,
   "metadata": {},
   "outputs": [],
   "source": [
    "\"\"\"\n",
    "To practice extracting the axon automatically using the \n",
    "newly created filtering rules\n",
    "\n",
    "\"\"\""
   ]
  },
  {
   "cell_type": "code",
   "execution_count": 1,
   "metadata": {},
   "outputs": [],
   "source": [
    "%load_ext autoreload\n",
    "%autoreload 2"
   ]
  },
  {
   "cell_type": "code",
   "execution_count": 2,
   "metadata": {},
   "outputs": [],
   "source": [
    "from os import sys\n",
    "sys.path.append(\"/meshAfterParty/\")"
   ]
  },
  {
   "cell_type": "code",
   "execution_count": 12,
   "metadata": {},
   "outputs": [],
   "source": [
    "from importlib import reload\n",
    "\n",
    "import neuron_utils as nru\n",
    "\n",
    "import neuron\n",
    "\n",
    "import neuron_visualizations as nviz\n",
    "\n",
    "import time\n",
    "\n",
    "import datajoint_utils as du\n",
    "\n",
    "import numpy as np\n",
    "\n",
    "import proofreading_utils as pru\n",
    "\n",
    "import preprocessing_vp2 as pre\n",
    "\n",
    "# -- For the axon classification --\n",
    "\n",
    "import neuron_searching as ns"
   ]
  },
  {
   "cell_type": "markdown",
   "metadata": {},
   "source": [
    "# Importing Neuron"
   ]
  },
  {
   "cell_type": "code",
   "execution_count": 5,
   "metadata": {},
   "outputs": [],
   "source": [
    "neuron_obj_file = \"classic_double_neuron_1\""
   ]
  },
  {
   "cell_type": "code",
   "execution_count": 6,
   "metadata": {},
   "outputs": [
    {
     "name": "stdout",
     "output_type": "stream",
     "text": [
      "Decompressing Neuron in minimal output mode...please wait\n"
     ]
    }
   ],
   "source": [
    "curr_neuron_obj = nru.decompress_neuron(neuron_obj_file,neuron_obj_file)"
   ]
  },
  {
   "cell_type": "code",
   "execution_count": 7,
   "metadata": {},
   "outputs": [
    {
     "data": {
      "image/png": "[encoded data removed]",
      "text/plain": [
       "<Figure size 432x288 with 1 Axes>"
      ]
     },
     "metadata": {},
     "output_type": "display_data"
    }
   ],
   "source": [
    "nviz.plot_soma_limb_concept_network(curr_neuron_obj)"
   ]
  },
  {
   "cell_type": "code",
   "execution_count": 8,
   "metadata": {},
   "outputs": [
    {
     "name": "stdout",
     "output_type": "stream",
     "text": [
      "\n",
      " Working on visualization type: mesh\n",
      "\n",
      " Working on visualization type: skeleton\n"
     ]
    },
    {
     "data": {
      "application/vnd.jupyter.widget-view+json": {
       "model_id": "4be0b3b13d7c47cab5ab0ffe054f29bc",
       "version_major": 2,
       "version_minor": 0
      },
      "text/plain": [
       "VBox(children=(Figure(camera=PerspectiveCamera(fov=46.0, position=(0.0, 0.0, 2.0), quaternion=(0.0, 0.0, 0.0, …"
      ]
     },
     "metadata": {},
     "output_type": "display_data"
    }
   ],
   "source": [
    "nviz.visualize_neuron(curr_neuron_obj,\n",
    "                     visualize_type=[\"mesh\",\"skeleton\"],\n",
    "                     limb_branch_dict=\"all\")"
   ]
  },
  {
   "cell_type": "markdown",
   "metadata": {},
   "source": [
    "# 0) Check that only one soma"
   ]
  },
  {
   "cell_type": "code",
   "execution_count": 9,
   "metadata": {},
   "outputs": [],
   "source": [
    "soma_names = curr_neuron_obj.get_soma_node_names()\n",
    "if len(soma_names)>1:\n",
    "    raise Exception(f\"More than 1 soma: {soma_names}\")\n",
    "\n",
    "soma_name = soma_names[0]"
   ]
  },
  {
   "cell_type": "markdown",
   "metadata": {},
   "source": [
    "# 1) Classify All Axon Segments"
   ]
  },
  {
   "cell_type": "code",
   "execution_count": 16,
   "metadata": {},
   "outputs": [
    {
     "name": "stdout",
     "output_type": "stream",
     "text": [
      "current_query = (n_spines < 4 and (median_mesh_center < 600) and skeleton_distance_branch <= 15000) or (skeleton_distance_branch > 15000 and (median_mesh_center < 600) and spines_per_skeletal_length < 0.00023)\n",
      "functions_list = [<function width at 0x7f1c20d2d840>, <function median_mesh_center at 0x7f1c20d2d2f0>, <function n_spines at 0x7f1c20d2d8c8>, <function n_faces_branch at 0x7f1c20d2d158>, <function skeleton_distance_branch at 0x7f1c20d2d950>, <function spines_per_skeletal_length at 0x7f1c20d2d620>, <function no_spine_median_mesh_center at 0x7f1c20d2d400>]\n",
      "functions_list = [<function axon_segment at 0x7f1c20d1c7b8>]\n",
      "\n",
      " Working on visualization type: mesh\n"
     ]
    },
    {
     "data": {
      "application/vnd.jupyter.widget-view+json": {
       "model_id": "f687b80502484f5391d2159efc7363be",
       "version_major": 2,
       "version_minor": 0
      },
      "text/plain": [
       "VBox(children=(Figure(camera=PerspectiveCamera(fov=46.0, position=(0.0, 0.0, 2.0), quaternion=(0.0, 0.0, 0.0, …"
      ]
     },
     "metadata": {},
     "output_type": "display_data"
    }
   ],
   "source": [
    "axon_like_limb_branch_dict = ns.axon_width_like_segments(curr_neuron_obj,\n",
    "                                                        include_ais=True)\n",
    "\n",
    "\n",
    "\n",
    "# nviz.visualize_neuron(curr_neuron_obj,\n",
    "#                       visualize_type=[\"mesh\"],\n",
    "#                      limb_branch_dict=axon_like_limb_branch_dict,\n",
    "#                      mesh_color=\"red\",\n",
    "#                       mesh_color_alpha=1,\n",
    "#                      mesh_whole_neuron=True)\n",
    "\n",
    "current_functions_list = [\"axon_segment\"]\n",
    "final_axon_like_classification = ns.query_neuron(curr_neuron_obj,\n",
    "                                        \n",
    "                                   query=\"axon_segment==True\",\n",
    "                                   function_kwargs=dict(limb_branch_dict =axon_like_limb_branch_dict,\n",
    "                                                        downstream_face_threshold=3000,\n",
    "                                                        width_match_threshold=50,\n",
    "                                                       print_flag=False),\n",
    "                                   functions_list=current_functions_list)\n",
    "\n",
    "nviz.visualize_neuron(curr_neuron_obj,\n",
    "                      visualize_type=[\"mesh\"],\n",
    "                     limb_branch_dict=final_axon_like_classification,\n",
    "                     mesh_color=\"red\",\n",
    "                      mesh_color_alpha=1,\n",
    "                     mesh_whole_neuron=True)"
   ]
  },
  {
   "cell_type": "code",
   "execution_count": 29,
   "metadata": {},
   "outputs": [],
   "source": [
    "# want to label all branches as \"axon_like\"\n",
    "current_label = \"axon-like\"\n",
    "\n",
    "nru.add_branch_label(curr_neuron_obj,\n",
    "                    limb_branch_dict=final_axon_like_classification,\n",
    "                    labels=current_label)\n"
   ]
  },
  {
   "cell_type": "code",
   "execution_count": 34,
   "metadata": {},
   "outputs": [
    {
     "name": "stdout",
     "output_type": "stream",
     "text": [
      "functions_list = [<function matching_label at 0x7f1c21efa730>]\n"
     ]
    },
    {
     "data": {
      "text/plain": [
       "{'L0': array([ 1,  3,  5,  7,  8, 16, 18, 20, 21, 38, 45]),\n",
       " 'L1': array([ 3,  4,  9, 12, 13, 14, 16, 17, 18, 19, 20, 21, 22]),\n",
       " 'L2': array([ 4,  6,  8,  9, 11, 12, 13, 14, 15, 16, 23]),\n",
       " 'L4': array([0]),\n",
       " 'L5': array([3])}"
      ]
     },
     "execution_count": 34,
     "metadata": {},
     "output_type": "execute_result"
    }
   ],
   "source": [
    "current_functions_list = [\"matching_label\"]\n",
    "\n",
    "recovered_axon_branches = ns.query_neuron(curr_neuron_obj,\n",
    "                query=\"matching_label==True\",\n",
    "                function_kwargs=dict(labels =[\"axon-like\"]),\n",
    "                functions_list=current_functions_list\n",
    "               )\n",
    "\n",
    "recovered_axon_branches"
   ]
  },
  {
   "cell_type": "markdown",
   "metadata": {},
   "source": [
    "# 2) Filter Limbs By Starting Angle"
   ]
  },
  {
   "cell_type": "code",
   "execution_count": 50,
   "metadata": {},
   "outputs": [
    {
     "name": "stdout",
     "output_type": "stream",
     "text": [
      "functions_list = [<function soma_starting_angle at 0x7f1c20d2d158>]\n",
      "Limb L0 soma angle: 2.56 \n",
      "Limb L1 soma angle: 106.07 \n",
      "Limb L2 soma angle: 98.8 \n",
      "Limb L3 soma angle: 122.76 \n",
      "Limb L4 soma angle: 134.4 \n",
      "Limb L5 soma angle: 106.31 \n"
     ]
    },
    {
     "data": {
      "text/plain": [
       "[1, 2, 3, 4, 5]"
      ]
     },
     "execution_count": 50,
     "metadata": {},
     "output_type": "execute_result"
    }
   ],
   "source": [
    "axon_soma_angle_threshold = 70\n",
    "\n",
    "soma_center = curr_neuron_obj[\"S0\"].mesh_center\n",
    "\n",
    "possible_axon_limbs_dict = ns.query_neuron(curr_neuron_obj,\n",
    "                query=f\"soma_starting_angle>{axon_soma_angle_threshold}\",\n",
    "               functions_list=[ns.soma_starting_angle],\n",
    "               function_kwargs=dict(soma_center=soma_center,\n",
    "                                   verbose=True))\n",
    "\n",
    "possible_axon_limbs = list(possible_axon_limbs_dict.keys())\n",
    "possible_axon_limbs = [nru.get_limb_int_name(k) for k in possible_axon_limbs]\n",
    "possible_axon_limbs"
   ]
  },
  {
   "cell_type": "markdown",
   "metadata": {},
   "source": [
    "# 3) Get all of the Viable Candidates"
   ]
  },
  {
   "cell_type": "code",
   "execution_count": 51,
   "metadata": {},
   "outputs": [
    {
     "name": "stdout",
     "output_type": "stream",
     "text": [
      "functions_list = [<function skeletal_distance_from_soma at 0x7f1c21ede268>]\n",
      "functions_list = [<function skeletal_distance_from_soma at 0x7f1c21ede268>]\n",
      "\n",
      " Working on visualization type: mesh\n",
      "\n",
      " Working on visualization type: skeleton\n"
     ]
    },
    {
     "data": {
      "application/vnd.jupyter.widget-view+json": {
       "model_id": "0a1043a9cd2f4585a4bec5a066825201",
       "version_major": 2,
       "version_minor": 0
      },
      "text/plain": [
       "VBox(children=(Figure(camera=PerspectiveCamera(fov=46.0, position=(0.0, 0.0, 2.0), quaternion=(0.0, 0.0, 0.0, …"
      ]
     },
     "metadata": {},
     "output_type": "display_data"
    }
   ],
   "source": [
    "#1) Find all branches that are less than [ais_threshold] distance\n",
    "#away from the soma\n",
    "\n",
    "ais_threshold = 20000\n",
    "close_limb_branch_dict = ns.query_neuron(curr_neuron_obj,\n",
    "                                        functions_list=[ns.skeletal_distance_from_soma],\n",
    "                                        query=f\"skeletal_distance_from_soma<{ais_threshold}\",\n",
    "                                        function_kwargs=dict(limbs_to_process=possible_axon_limbs),\n",
    "                                         #return_dataframe=False\n",
    "\n",
    "\n",
    "                                        )\n",
    "outside_bubble_limb_branch_dict = ns.query_neuron(curr_neuron_obj,\n",
    "                                        functions_list=[ns.skeletal_distance_from_soma],\n",
    "                                        query=f\"skeletal_distance_from_soma>={ais_threshold}\",\n",
    "                                        function_kwargs=dict(limbs_to_process=possible_axon_limbs),\n",
    "                                         #return_dataframe=False\n",
    "\n",
    "\n",
    "                                        )\n",
    "\n",
    "colors_dict_returned = nviz.visualize_neuron(curr_neuron_obj,\n",
    "                      limb_branch_dict=close_limb_branch_dict,\n",
    "                     mesh_color=\"red\",\n",
    "                     mesh_color_alpha=1,\n",
    "                     mesh_whole_neuron=True,\n",
    "                     return_color_dict=True)"
   ]
  },
  {
   "cell_type": "code",
   "execution_count": 53,
   "metadata": {},
   "outputs": [
    {
     "name": "stdout",
     "output_type": "stream",
     "text": [
      "\n",
      "Working on Limb L1\n",
      "nodes_to_eliminate = []\n",
      "\n",
      "Working on Limb L2\n",
      "nodes_to_eliminate = [20 22]\n",
      "\n",
      "Working on Limb L3\n",
      "nodes_to_eliminate = [3]\n",
      "\n",
      "Working on Limb L4\n",
      "nodes_to_eliminate = [0]\n",
      "The filtered network is empty so just leaving the candidates as empty lists\n",
      "\n",
      "Working on Limb L5\n",
      "nodes_to_eliminate = [0]\n",
      "\n",
      " Working on visualization type: mesh\n"
     ]
    },
    {
     "data": {
      "application/vnd.jupyter.widget-view+json": {
       "model_id": "69ce9a1ab827400585e9a847fa4d45f4",
       "version_major": 2,
       "version_minor": 0
      },
      "text/plain": [
       "VBox(children=(Figure(camera=PerspectiveCamera(fov=46.0, position=(0.0, 0.0, 2.0), quaternion=(0.0, 0.0, 0.0, …"
      ]
     },
     "metadata": {},
     "output_type": "display_data"
    }
   ],
   "source": [
    "# 2) Delete the nodes from the branch graph and then group into connected ocmponents\n",
    "# into candidates\n",
    "\n",
    "\"\"\"\n",
    "Pseudocode:\n",
    "1) Get the limbs touching the soma of inteterst\n",
    "\n",
    "\n",
    "\"\"\"\n",
    "\n",
    "import networkx_utils as xu\n",
    "import networkx as nx\n",
    "import matplotlib_utils as mu\n",
    "\n",
    "limbs_to_check = [nru.get_limb_string_name(k) for k in possible_axon_limbs]\n",
    "\n",
    "sub_limb_color_dict = dict()\n",
    "total_sub_limbs = dict() #will map the limbs to the connected components\n",
    "\n",
    "verbose = True\n",
    "\n",
    "for limb_idx in limbs_to_check:\n",
    "    print(f\"\\nWorking on Limb {limb_idx}\")\n",
    "    \n",
    "    #initializing the candidate list and the color dictionary for visualization\n",
    "    total_sub_limbs[limb_idx] = []\n",
    "    sub_limb_color_dict[limb_idx] = dict()\n",
    "    \n",
    "    \n",
    "    \n",
    "    curr_limb = curr_neuron_obj[limb_idx]\n",
    "    \n",
    "    if limb_idx in close_limb_branch_dict.keys():\n",
    "        nodes_to_eliminate = close_limb_branch_dict[limb_idx]\n",
    "    else:\n",
    "        nodes_to_eliminate = []\n",
    "    \n",
    "    #the nodes that were eliminated we need to show deleted colors\n",
    "    for n in nodes_to_eliminate:\n",
    "        sub_limb_color_dict[limb_idx][n] = mu.color_to_rgba(\"black\", alpha=1)\n",
    "    \n",
    "    if verbose:\n",
    "        print(f\"nodes_to_eliminate = {nodes_to_eliminate}\")\n",
    "        \n",
    "    curr_filt_network = nx.Graph(curr_limb.concept_network_directional)\n",
    "    curr_filt_network.remove_nodes_from(nodes_to_eliminate)\n",
    "    \n",
    "    if len(curr_filt_network) == 0:\n",
    "        if verbose:\n",
    "            print(\"The filtered network is empty so just leaving the candidates as empty lists\")\n",
    "        continue\n",
    "        \n",
    "    curr_limb_conn_comp = list(nx.connected_components(curr_filt_network))\n",
    "    \n",
    "\n",
    "    total_sub_limbs[limb_idx] = [list(k) for k in curr_limb_conn_comp]\n",
    "    \n",
    "    colors_to_use = mu.generate_unique_random_color_list(n_colors=len(curr_limb_conn_comp),colors_to_omit=[\"black\",\"midnightblue\"])\n",
    "    for j,(c_comp,curr_random_color) in enumerate(zip(curr_limb_conn_comp,colors_to_use)):\n",
    "\n",
    "        for n in c_comp:\n",
    "            sub_limb_color_dict[limb_idx][n] = curr_random_color\n",
    "            \n",
    "            \n",
    "nviz.visualize_neuron(curr_neuron_obj,\n",
    "                      visualize_type=[\"mesh\"],\n",
    "                     limb_branch_dict=\"all\",\n",
    "                     mesh_color=sub_limb_color_dict,\n",
    "                     mesh_fill_color=\"green\")"
   ]
  },
  {
   "cell_type": "code",
   "execution_count": 55,
   "metadata": {},
   "outputs": [
    {
     "name": "stdout",
     "output_type": "stream",
     "text": [
      "\n",
      "----Working on Limb L1-----\n",
      "No nodes were eliminated so don't need to add back any candidates\n",
      "\n",
      "----Working on Limb L2-----\n",
      "No endpoints were eliminated so don't need to add back any candidates\n",
      "\n",
      "----Working on Limb L3-----\n",
      "No endpoints were eliminated so don't need to add back any candidates\n",
      "\n",
      "----Working on Limb L4-----\n",
      "network was only of size 1 and that node was eliminated so returning that as the only candidate\n",
      "\n",
      "----Working on Limb L5-----\n",
      "No endpoints were eliminated so don't need to add back any candidates\n",
      "\n",
      " Working on visualization type: mesh\n"
     ]
    },
    {
     "data": {
      "application/vnd.jupyter.widget-view+json": {
       "model_id": "61c41db370094c24ba3df0be4d951e1a",
       "version_major": 2,
       "version_minor": 0
      },
      "text/plain": [
       "VBox(children=(Figure(camera=PerspectiveCamera(fov=46.0, position=(0.0, 0.0, 2.0), quaternion=(0.0, 0.0, 0.0, …"
      ]
     },
     "metadata": {},
     "output_type": "display_data"
    }
   ],
   "source": [
    "\"\"\"\n",
    "3) Adding back all endpoints that were eliminated in step 2: Process is below\n",
    "\n",
    "For each limb\n",
    "\n",
    "0) Get all of the endpoint nodes in the whole directed concept network\n",
    "- remove the starting node from the list\n",
    "1) Find the shortest path from every endpoint to the starting node\n",
    "2) Concatenate shortest paths into dictionary mapping node to number of\n",
    "occurances in the shortest paths\n",
    "3) Find all of the endpoints that were eliminated with the restriction\n",
    "4) Filter those endpoint paths for nodes that only have an \n",
    "occurance of one for the lookup dictionary\n",
    "5) Add all deleted endpoint filtered shortest paths as candidates\n",
    "\n",
    "How to handle corner cases:\n",
    "1) If only starting node that got deleted\n",
    "--> just add that as a candidate\n",
    "2) If all of network got deleted, current way will work\n",
    "\n",
    "\"\"\"\n",
    "\n",
    "removed_candidates = dict()\n",
    "\n",
    "for limb_idx in limbs_to_check:\n",
    "    if verbose:\n",
    "        print(f\"\\n----Working on Limb {limb_idx}-----\")\n",
    "        \n",
    "    curr_limb = curr_neuron_obj[limb_idx]    \n",
    "    \n",
    "    removed_candidates[limb_idx] = []\n",
    "    \n",
    "    if limb_idx in close_limb_branch_dict.keys():\n",
    "        nodes_to_eliminate = close_limb_branch_dict[limb_idx]\n",
    "    else:\n",
    "        nodes_to_eliminate = []\n",
    "        if verbose:\n",
    "            print(\"No nodes were eliminated so don't need to add back any candidates\")\n",
    "        continue\n",
    "\n",
    "    \n",
    "    curr_network = nx.Graph(curr_limb.concept_network_directional)\n",
    "    curr_starting_node = curr_limb.current_starting_node\n",
    "    \n",
    "    #covering the corner case that only the root node existed\n",
    "    #and it was deleted\n",
    "    if len(nodes_to_eliminate) == 1 and len(curr_network)==1:\n",
    "        if verbose:\n",
    "            print(\"network was only of size 1 and that node was eliminated so returning that as the only candidate\")\n",
    "        removed_candidates[limb_idx] = [[curr_starting_node]]\n",
    "        \n",
    "        #adding the color\n",
    "        curr_random_color = mu.generate_unique_random_color_list(n_colors=1,colors_to_omit=[\"black\",\"midnightblue\"])[0]\n",
    "        sub_limb_color_dict[limb_idx][n] = curr_random_color\n",
    "        \n",
    "    else:\n",
    "        #0) Get all of the endpoint nodes in the whole directed concept network\n",
    "        #- remove the starting node from the list\n",
    "        curr_endpoints = xu.get_nodes_of_degree_k(curr_network,1)\n",
    "        if curr_starting_node in curr_endpoints:\n",
    "            curr_endpoints.remove(curr_starting_node)\n",
    "\n",
    "\n",
    "        #3) Find all of the endpoints that were eliminated with the restriction\n",
    "        endpoints_eliminated = [k for k in curr_endpoints if k in nodes_to_eliminate]\n",
    "\n",
    "        if len(endpoints_eliminated) == 0:\n",
    "            if verbose:\n",
    "                print(\"No endpoints were eliminated so don't need to add back any candidates\")\n",
    "            continue\n",
    "\n",
    "        #1) Find the shortest path from every endpoint to the starting node\n",
    "        shortest_paths_endpoints = dict()\n",
    "        for en in curr_endpoints:\n",
    "            en_shortest_path = nx.shortest_path(curr_network,\n",
    "                            source = en,\n",
    "                             target = curr_starting_node)\n",
    "            shortest_paths_endpoints[en] = en_shortest_path\n",
    "\n",
    "        #2) Concatenate shortest paths into dictionary mapping node to number of\n",
    "        #occurances in the shortest paths\n",
    "        node_occurance = dict()\n",
    "        for curr_path in shortest_paths_endpoints.values():\n",
    "            for n in curr_path:\n",
    "                if n not in node_occurance.keys():\n",
    "                    node_occurance[n] = 1\n",
    "                else:\n",
    "                    node_occurance[n] += 1\n",
    "\n",
    "        #4) Filter those endpoint paths for nodes that only have an \n",
    "        #occurance of one for the lookup dictionary\n",
    "        added_back_candidates = []\n",
    "        for en_elim in endpoints_eliminated:\n",
    "            filtered_path = [k for k in shortest_paths_endpoints[en_elim] if node_occurance[k] == 1]\n",
    "            added_back_candidates.append(filtered_path)\n",
    "\n",
    "        if verbose:\n",
    "            print(f\"New candidates added back: {added_back_candidates}\")\n",
    "\n",
    "        removed_candidates[limb_idx] = added_back_candidates\n",
    "    \n",
    "    #5) Adding the new paths to the color dictionary for visualization \n",
    "    colors_to_use = mu.generate_unique_random_color_list(n_colors=len(removed_candidates[limb_idx]),colors_to_omit=[\"black\",\"midnightblue\"])\n",
    "    for add_path,curr_random_color in zip(removed_candidates[limb_idx],colors_to_use):\n",
    "        for n in add_path:\n",
    "            sub_limb_color_dict[limb_idx][n] = curr_random_color\n",
    "            \n",
    "# checking that adding back the candidates went well\n",
    "\n",
    "nviz.visualize_neuron(curr_neuron_obj,\n",
    "                      visualize_type=[\"mesh\"],\n",
    "                     limb_branch_dict=\"all\",\n",
    "                     mesh_color=sub_limb_color_dict,\n",
    "                     mesh_fill_color=\"green\")"
   ]
  },
  {
   "cell_type": "code",
   "execution_count": 56,
   "metadata": {},
   "outputs": [
    {
     "data": {
      "text/plain": [
       "{1: [[0,\n",
       "   1,\n",
       "   2,\n",
       "   3,\n",
       "   4,\n",
       "   5,\n",
       "   6,\n",
       "   7,\n",
       "   8,\n",
       "   9,\n",
       "   10,\n",
       "   11,\n",
       "   12,\n",
       "   13,\n",
       "   14,\n",
       "   15,\n",
       "   16,\n",
       "   17,\n",
       "   18,\n",
       "   19,\n",
       "   20,\n",
       "   21,\n",
       "   22,\n",
       "   23]],\n",
       " 2: [[2],\n",
       "  [0, 3, 6, 7, 10],\n",
       "  [1, 4, 5, 8, 9, 11, 12, 13, 14, 15, 16, 17, 18, 19, 21, 23, 24]],\n",
       " 3: [[0, 1, 2], [4, 5, 6]],\n",
       " 4: [[0]],\n",
       " 5: [[1], [2, 3, 4, 5]]}"
      ]
     },
     "execution_count": 56,
     "metadata": {},
     "output_type": "execute_result"
    }
   ],
   "source": [
    "all_candidates = dict()\n",
    "for limb_name in limbs_to_check:\n",
    "    all_candidates[int(limb_name[1:])] = total_sub_limbs[limb_name] + removed_candidates[limb_name]\n",
    "    \n",
    "all_candidates"
   ]
  },
  {
   "cell_type": "code",
   "execution_count": 61,
   "metadata": {},
   "outputs": [],
   "source": [
    "import classification_utils as clu"
   ]
  },
  {
   "cell_type": "code",
   "execution_count": 65,
   "metadata": {},
   "outputs": [
    {
     "name": "stdout",
     "output_type": "stream",
     "text": [
      "functions_list = [<function skeletal_distance_from_soma at 0x7f1c21ede268>]\n",
      "functions_list = [<function skeletal_distance_from_soma at 0x7f1c21ede268>]\n",
      "\n",
      "Working on Limb L1\n",
      "nodes_to_eliminate = []\n",
      "\n",
      "Working on Limb L2\n",
      "nodes_to_eliminate = [20 22]\n",
      "\n",
      "Working on Limb L3\n",
      "nodes_to_eliminate = [3]\n",
      "\n",
      "Working on Limb L4\n",
      "nodes_to_eliminate = [0]\n",
      "The filtered network is empty so just leaving the candidates as empty lists\n",
      "\n",
      "Working on Limb L5\n",
      "nodes_to_eliminate = [0]\n",
      "\n",
      "----Working on Limb L1-----\n",
      "No nodes were eliminated so don't need to add back any candidates\n",
      "\n",
      "----Working on Limb L2-----\n",
      "No endpoints were eliminated so don't need to add back any candidates\n",
      "\n",
      "----Working on Limb L3-----\n",
      "No endpoints were eliminated so don't need to add back any candidates\n",
      "\n",
      "----Working on Limb L4-----\n",
      "network was only of size 1 and that node was eliminated so returning that as the only candidate\n",
      "\n",
      "----Working on Limb L5-----\n",
      "No endpoints were eliminated so don't need to add back any candidates\n",
      "\n",
      " Working on visualization type: mesh\n"
     ]
    },
    {
     "data": {
      "application/vnd.jupyter.widget-view+json": {
       "model_id": "0b9942397bb7426894c98ff00895c016",
       "version_major": 2,
       "version_minor": 0
      },
      "text/plain": [
       "VBox(children=(Figure(camera=PerspectiveCamera(fov=46.0, position=(0.0, 0.0, 2.0), quaternion=(0.0, 0.0, 0.0, …"
      ]
     },
     "metadata": {},
     "output_type": "display_data"
    },
    {
     "name": "stdout",
     "output_type": "stream",
     "text": [
      "Final Candidates\n",
      "\n",
      "Limb 1\n",
      "[ 0  1  2  3  4  5  6  7  8  9 10 11 12 13 14 15 16 17 18 19 20 21 22 23]\n",
      "\n",
      "Limb 2\n",
      "[2]\n",
      "[ 0  3  6  7 10]\n",
      "[ 1  4  5  8  9 11 12 13 14 15 16 17 18 19 21 23 24]\n",
      "\n",
      "Limb 3\n",
      "[0 1 2]\n",
      "[4 5 6]\n",
      "\n",
      "Limb 4\n",
      "[0]\n",
      "\n",
      "Limb 5\n",
      "[1]\n",
      "[2 3 4 5]\n"
     ]
    }
   ],
   "source": [
    "axon_subgraph_candidates = clu.axon_candidates(curr_neuron_obj,\n",
    "                   possible_axon_limbs=possible_axon_limbs,\n",
    "                   plot_candidates_after_adding_back=True,\n",
    "                   verbose=True)"
   ]
  },
  {
   "cell_type": "code",
   "execution_count": null,
   "metadata": {},
   "outputs": [],
   "source": [
    "axon_subgraph_candidates"
   ]
  }
 ],
 "metadata": {
  "kernelspec": {
   "display_name": "Python 3",
   "language": "python",
   "name": "python3"
  },
  "language_info": {
   "codemirror_mode": {
    "name": "ipython",
    "version": 3
   },
   "file_extension": ".py",
   "mimetype": "text/x-python",
   "name": "python",
   "nbconvert_exporter": "python",
   "pygments_lexer": "ipython3",
   "version": "3.6.9"
  }
 },
 "nbformat": 4,
 "nbformat_minor": 4
}
