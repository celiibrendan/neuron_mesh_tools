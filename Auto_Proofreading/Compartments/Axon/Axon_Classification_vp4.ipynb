{
 "cells": [
  {
   "cell_type": "code",
   "execution_count": null,
   "metadata": {},
   "outputs": [],
   "source": [
    "\"\"\"\n",
    "To practice extracting the axon automatically using the \n",
    "newly created filtering rules\n",
    "\n",
    "\"\"\""
   ]
  },
  {
   "cell_type": "code",
   "execution_count": 1,
   "metadata": {},
   "outputs": [],
   "source": [
    "%load_ext autoreload\n",
    "%autoreload 2"
   ]
  },
  {
   "cell_type": "code",
   "execution_count": 2,
   "metadata": {},
   "outputs": [],
   "source": [
    "from os import sys\n",
    "sys.path.append(\"/meshAfterParty/\")"
   ]
  },
  {
   "cell_type": "code",
   "execution_count": 18,
   "metadata": {},
   "outputs": [],
   "source": [
    "from importlib import reload\n",
    "\n",
    "import neuron_utils as nru\n",
    "\n",
    "import neuron\n",
    "\n",
    "import neuron_visualizations as nviz\n",
    "\n",
    "import time\n",
    "\n",
    "import datajoint_utils as du\n",
    "\n",
    "import numpy as np\n",
    "\n",
    "import proofreading_utils as pru\n",
    "\n",
    "import preprocessing_vp2 as pre\n",
    "\n",
    "# -- For the axon classification --\n",
    "\n",
    "import neuron_searching as ns\n",
    "\n",
    "import skeleton_utils as sk\n",
    "\n",
    "import numpy_utils as nu\n",
    "\n",
    "import networkx_utils as xu"
   ]
  },
  {
   "cell_type": "markdown",
   "metadata": {},
   "source": [
    "# Importing Neuron"
   ]
  },
  {
   "cell_type": "code",
   "execution_count": 4,
   "metadata": {},
   "outputs": [],
   "source": [
    "neuron_obj_file = \"classic_double_neuron_1\""
   ]
  },
  {
   "cell_type": "code",
   "execution_count": 5,
   "metadata": {},
   "outputs": [
    {
     "name": "stdout",
     "output_type": "stream",
     "text": [
      "Decompressing Neuron in minimal output mode...please wait\n"
     ]
    }
   ],
   "source": [
    "curr_neuron_obj = nru.decompress_neuron(neuron_obj_file,neuron_obj_file)"
   ]
  },
  {
   "cell_type": "code",
   "execution_count": 7,
   "metadata": {},
   "outputs": [
    {
     "data": {
      "image/png": "[encoded data removed]",
      "text/plain": [
       "<Figure size 432x288 with 1 Axes>"
      ]
     },
     "metadata": {},
     "output_type": "display_data"
    }
   ],
   "source": [
    "nviz.plot_soma_limb_concept_network(curr_neuron_obj)"
   ]
  },
  {
   "cell_type": "code",
   "execution_count": 8,
   "metadata": {},
   "outputs": [
    {
     "name": "stdout",
     "output_type": "stream",
     "text": [
      "\n",
      " Working on visualization type: mesh\n",
      "\n",
      " Working on visualization type: skeleton\n"
     ]
    },
    {
     "data": {
      "application/vnd.jupyter.widget-view+json": {
       "model_id": "424c6612d68c43b5b8247f35ef417138",
       "version_major": 2,
       "version_minor": 0
      },
      "text/plain": [
       "VBox(children=(Figure(camera=PerspectiveCamera(fov=46.0, position=(0.0, 0.0, 2.0), quaternion=(0.0, 0.0, 0.0, …"
      ]
     },
     "metadata": {},
     "output_type": "display_data"
    }
   ],
   "source": [
    "nviz.visualize_neuron(curr_neuron_obj,\n",
    "                     visualize_type=[\"mesh\",\"skeleton\"],\n",
    "                     limb_branch_dict=\"all\")"
   ]
  },
  {
   "cell_type": "markdown",
   "metadata": {},
   "source": [
    "# 0) Check that only one soma"
   ]
  },
  {
   "cell_type": "code",
   "execution_count": 9,
   "metadata": {},
   "outputs": [],
   "source": [
    "soma_names = curr_neuron_obj.get_soma_node_names()\n",
    "if len(soma_names)>1:\n",
    "    raise Exception(f\"More than 1 soma: {soma_names}\")\n",
    "\n",
    "soma_name = soma_names[0]"
   ]
  },
  {
   "cell_type": "code",
   "execution_count": 87,
   "metadata": {},
   "outputs": [],
   "source": [
    "verbose = True\n",
    "ais_threshold = 10000"
   ]
  },
  {
   "cell_type": "markdown",
   "metadata": {},
   "source": [
    "# 1) Classify All Axon Segments"
   ]
  },
  {
   "cell_type": "code",
   "execution_count": 33,
   "metadata": {},
   "outputs": [
    {
     "name": "stdout",
     "output_type": "stream",
     "text": [
      "current_query = (n_spines < 4 and (median_mesh_center < 600) and skeleton_distance_branch <= 15000) or (skeleton_distance_branch > 15000 and (median_mesh_center < 600) and spines_per_skeletal_length < 0.00023)\n",
      "functions_list = [<function width at 0x7f5ea2455a60>, <function median_mesh_center at 0x7f5ea2455d08>, <function n_spines at 0x7f5ea2455b70>, <function n_faces_branch at 0x7f5ea24558c8>, <function skeleton_distance_branch at 0x7f5ea2455ae8>, <function spines_per_skeletal_length at 0x7f5ea26bd048>, <function no_spine_median_mesh_center at 0x7f5ea2455e18>]\n",
      "functions_list = [<function axon_segment at 0x7f5ea26bd730>]\n",
      "\n",
      " Working on visualization type: mesh\n"
     ]
    },
    {
     "data": {
      "application/vnd.jupyter.widget-view+json": {
       "model_id": "6fe11e8dbc494b5ebd3101e82600573d",
       "version_major": 2,
       "version_minor": 0
      },
      "text/plain": [
       "VBox(children=(Figure(camera=PerspectiveCamera(fov=46.0, position=(0.0, 0.0, 2.0), quaternion=(0.0, 0.0, 0.0, …"
      ]
     },
     "metadata": {},
     "output_type": "display_data"
    }
   ],
   "source": [
    "axon_like_limb_branch_dict = ns.axon_width_like_segments(curr_neuron_obj,\n",
    "                                                        include_ais=True)\n",
    "\n",
    "\n",
    "\n",
    "# nviz.visualize_neuron(curr_neuron_obj,\n",
    "#                       visualize_type=[\"mesh\"],\n",
    "#                      limb_branch_dict=axon_like_limb_branch_dict,\n",
    "#                      mesh_color=\"red\",\n",
    "#                       mesh_color_alpha=1,\n",
    "#                      mesh_whole_neuron=True)\n",
    "\n",
    "current_functions_list = [\"axon_segment\"]\n",
    "final_axon_like_classification = ns.query_neuron(curr_neuron_obj,\n",
    "                                        \n",
    "                                   query=\"axon_segment==True\",\n",
    "                                   function_kwargs=dict(limb_branch_dict =axon_like_limb_branch_dict,\n",
    "                                                        downstream_face_threshold=3000,\n",
    "                                                        width_match_threshold=50,\n",
    "                                                       print_flag=False),\n",
    "                                   functions_list=current_functions_list)\n",
    "\n",
    "nviz.visualize_neuron(curr_neuron_obj,\n",
    "                      visualize_type=[\"mesh\"],\n",
    "                     limb_branch_dict=final_axon_like_classification,\n",
    "                     mesh_color=\"red\",\n",
    "                      mesh_color_alpha=1,\n",
    "                     mesh_whole_neuron=True)"
   ]
  },
  {
   "cell_type": "code",
   "execution_count": 34,
   "metadata": {},
   "outputs": [],
   "source": [
    "# want to label all branches as \"axon_like\"\n",
    "current_label = \"axon-like\"\n",
    "\n",
    "nru.add_branch_label(curr_neuron_obj,\n",
    "                    limb_branch_dict=final_axon_like_classification,\n",
    "                    labels=current_label)\n"
   ]
  },
  {
   "cell_type": "code",
   "execution_count": 35,
   "metadata": {},
   "outputs": [
    {
     "name": "stdout",
     "output_type": "stream",
     "text": [
      "functions_list = [<function matching_label at 0x7f5ea26bd0d0>]\n"
     ]
    },
    {
     "data": {
      "text/plain": [
       "{'L0': array([ 1,  3,  5,  7,  8, 16, 18, 20, 21, 38, 45]),\n",
       " 'L1': array([ 3,  4,  9, 12, 13, 14, 16, 17, 18, 19, 20, 21, 22]),\n",
       " 'L2': array([ 4,  6,  8,  9, 11, 12, 13, 14, 15, 16, 23]),\n",
       " 'L4': array([0]),\n",
       " 'L5': array([3])}"
      ]
     },
     "execution_count": 35,
     "metadata": {},
     "output_type": "execute_result"
    }
   ],
   "source": [
    "current_functions_list = [\"matching_label\"]\n",
    "\n",
    "recovered_axon_branches = ns.query_neuron(curr_neuron_obj,\n",
    "                query=\"matching_label==True\",\n",
    "                function_kwargs=dict(labels =[\"axon-like\"]),\n",
    "                functions_list=current_functions_list\n",
    "               )\n",
    "\n",
    "recovered_axon_branches"
   ]
  },
  {
   "cell_type": "markdown",
   "metadata": {},
   "source": [
    "# 2) Filter Limbs By Starting Angle"
   ]
  },
  {
   "cell_type": "code",
   "execution_count": 36,
   "metadata": {},
   "outputs": [
    {
     "name": "stdout",
     "output_type": "stream",
     "text": [
      "functions_list = [<function soma_starting_angle at 0x7f5ea26bda60>]\n",
      "Limb L0 soma angle: 2.56 \n",
      "Limb L1 soma angle: 106.07 \n",
      "Limb L2 soma angle: 98.8 \n",
      "Limb L3 soma angle: 122.76 \n",
      "Limb L4 soma angle: 134.4 \n",
      "Limb L5 soma angle: 106.31 \n"
     ]
    },
    {
     "data": {
      "text/plain": [
       "[1, 2, 3, 4, 5]"
      ]
     },
     "execution_count": 36,
     "metadata": {},
     "output_type": "execute_result"
    }
   ],
   "source": [
    "axon_soma_angle_threshold = 70\n",
    "\n",
    "soma_center = curr_neuron_obj[\"S0\"].mesh_center\n",
    "\n",
    "possible_axon_limbs_dict = ns.query_neuron(curr_neuron_obj,\n",
    "                query=f\"soma_starting_angle>{axon_soma_angle_threshold}\",\n",
    "               functions_list=[ns.soma_starting_angle],\n",
    "               function_kwargs=dict(soma_center=soma_center,\n",
    "                                   verbose=True))\n",
    "\n",
    "possible_axon_limbs = list(possible_axon_limbs_dict.keys())\n",
    "possible_axon_limbs = [nru.get_limb_int_name(k) for k in possible_axon_limbs]\n",
    "possible_axon_limbs"
   ]
  },
  {
   "cell_type": "markdown",
   "metadata": {},
   "source": [
    "# 3) Get all of the Viable Candidates"
   ]
  },
  {
   "cell_type": "code",
   "execution_count": 37,
   "metadata": {},
   "outputs": [],
   "source": [
    "import classification_utils as clu"
   ]
  },
  {
   "cell_type": "code",
   "execution_count": 38,
   "metadata": {},
   "outputs": [
    {
     "name": "stdout",
     "output_type": "stream",
     "text": [
      "functions_list = [<function skeletal_distance_from_soma at 0x7f5ea26bd598>]\n",
      "functions_list = [<function skeletal_distance_from_soma at 0x7f5ea26bd598>]\n",
      "\n",
      "Working on Limb L1\n",
      "nodes_to_eliminate = []\n",
      "\n",
      "Working on Limb L2\n",
      "nodes_to_eliminate = [20 22]\n",
      "\n",
      "Working on Limb L3\n",
      "nodes_to_eliminate = [3]\n",
      "\n",
      "Working on Limb L4\n",
      "nodes_to_eliminate = [0]\n",
      "The filtered network is empty so just leaving the candidates as empty lists\n",
      "\n",
      "Working on Limb L5\n",
      "nodes_to_eliminate = []\n",
      "\n",
      "----Working on Limb L1-----\n",
      "No nodes were eliminated so don't need to add back any candidates\n",
      "\n",
      "----Working on Limb L2-----\n",
      "No endpoints were eliminated so don't need to add back any candidates\n",
      "\n",
      "----Working on Limb L3-----\n",
      "No endpoints were eliminated so don't need to add back any candidates\n",
      "\n",
      "----Working on Limb L4-----\n",
      "network was only of size 1 and that node was eliminated so returning that as the only candidate\n",
      "\n",
      "----Working on Limb L5-----\n",
      "No nodes were eliminated so don't need to add back any candidates\n",
      "\n",
      " Working on visualization type: mesh\n"
     ]
    },
    {
     "data": {
      "application/vnd.jupyter.widget-view+json": {
       "model_id": "1ed5bbb88ef642e4ad5215ce9a69ab62",
       "version_major": 2,
       "version_minor": 0
      },
      "text/plain": [
       "VBox(children=(Figure(camera=PerspectiveCamera(fov=46.0, position=(0.0, 0.0, 2.0), quaternion=(0.0, 0.0, 0.0, …"
      ]
     },
     "metadata": {},
     "output_type": "display_data"
    },
    {
     "name": "stdout",
     "output_type": "stream",
     "text": [
      "Final Candidates\n",
      "\n",
      "Limb 1\n",
      "[ 0  1  2  3  4  5  6  7  8  9 10 11 12 13 14 15 16 17 18 19 20 21 22 23]\n",
      "\n",
      "Limb 2\n",
      "[2]\n",
      "[ 0  3  6  7 10]\n",
      "[ 1  4  5  8  9 11 12 13 14 15 16 17 18 19 21 23 24]\n",
      "\n",
      "Limb 3\n",
      "[0 1 2]\n",
      "[4 5 6]\n",
      "\n",
      "Limb 4\n",
      "[0]\n",
      "\n",
      "Limb 5\n",
      "[0 1 2 3 4 5]\n"
     ]
    }
   ],
   "source": [
    "axon_subgraph_candidates = clu.axon_candidates(curr_neuron_obj,\n",
    "                   possible_axon_limbs=possible_axon_limbs,\n",
    "                        ais_threshold=ais_threshold,\n",
    "                   plot_candidates_after_adding_back=True,\n",
    "                   verbose=True)"
   ]
  },
  {
   "cell_type": "code",
   "execution_count": 56,
   "metadata": {},
   "outputs": [
    {
     "data": {
      "text/plain": [
       "array([2])"
      ]
     },
     "execution_count": 56,
     "metadata": {},
     "output_type": "execute_result"
    }
   ],
   "source": [
    "curr_candidate_subgraph"
   ]
  },
  {
   "cell_type": "code",
   "execution_count": 57,
   "metadata": {},
   "outputs": [
    {
     "name": "stdout",
     "output_type": "stream",
     "text": [
      "\n",
      " Working on visualization type: mesh\n",
      "\n",
      " Working on visualization type: skeleton\n"
     ]
    },
    {
     "data": {
      "application/vnd.jupyter.widget-view+json": {
       "model_id": "9d955d5b9dc34bd0af371ee4204fb8f6",
       "version_major": 2,
       "version_minor": 0
      },
      "text/plain": [
       "VBox(children=(Figure(camera=PerspectiveCamera(fov=46.0, position=(0.0, 0.0, 2.0), quaternion=(0.0, 0.0, 0.0, …"
      ]
     },
     "metadata": {},
     "output_type": "display_data"
    }
   ],
   "source": [
    "nviz.visualize_neuron(curr_neuron_obj,\n",
    "                     visualize_type=[\"mesh\",\"skeleton\"],\n",
    "                     limb_branch_dict=dict(L2=[2]))"
   ]
  },
  {
   "cell_type": "markdown",
   "metadata": {},
   "source": [
    "# Doing the Filtering of the Candidates"
   ]
  },
  {
   "cell_type": "code",
   "execution_count": 39,
   "metadata": {},
   "outputs": [],
   "source": [
    "import networkx_utils as xu\n",
    "import networkx as nx"
   ]
  },
  {
   "cell_type": "code",
   "execution_count": 40,
   "metadata": {},
   "outputs": [
    {
     "data": {
      "text/plain": [
       "'\\nPseudocode: \\n\\nFor each candidate: \\n\\n0) If all Axon? (Have a more relaxed threshold for the skeleton angle)\\n1) Find the starting direction, and if not downwards --> then not axon\\n2) ------------- Check if too thin at the start --> Not Axon (NOT GOING TO DO THIS) -------------\\n3) If first branch is axon --> classify as axon\\n4) Trace back to starting node and add all branches that are axon like\\n\\n'"
      ]
     },
     "execution_count": 40,
     "metadata": {},
     "output_type": "execute_result"
    }
   ],
   "source": [
    "\"\"\"\n",
    "Pseudocode: \n",
    "\n",
    "For each candidate: \n",
    "\n",
    "0) If all Axon? (Have a more relaxed threshold for the skeleton angle)\n",
    "1) Find the starting direction, and if not downwards --> then not axon\n",
    "2) ------------- Check if too thin at the start --> Not Axon (NOT GOING TO DO THIS) -------------\n",
    "3) If first branch is axon --> classify as axon\n",
    "4) Trace back to starting node and add all branches that are axon like\n",
    "\n",
    "\"\"\"\n",
    "\n",
    "axon_subgraph_candidates_passing_angle_filter = dict()"
   ]
  },
  {
   "cell_type": "code",
   "execution_count": 91,
   "metadata": {},
   "outputs": [
    {
     "data": {
      "text/plain": [
       "(array([ 0,  3,  6,  7, 10]), 'L2')"
      ]
     },
     "execution_count": 91,
     "metadata": {},
     "output_type": "execute_result"
    }
   ],
   "source": [
    "curr_limb_idx = 2\n",
    "curr_limb_name = nru.get_limb_string_name(curr_limb_idx)\n",
    "curr_limb = curr_neuron_obj[curr_limb_idx]\n",
    "curr_candidate_idx = 1\n",
    "curr_candidate_subgraph = np.array(axon_subgraph_candidates[curr_limb_idx][curr_candidate_idx])\n",
    "curr_candidate_subgraph,curr_limb_name"
   ]
  },
  {
   "cell_type": "code",
   "execution_count": 93,
   "metadata": {
    "scrolled": false
   },
   "outputs": [
    {
     "name": "stdout",
     "output_type": "stream",
     "text": [
      "\n",
      " Working on visualization type: mesh\n",
      "\n",
      " Working on visualization type: skeleton\n"
     ]
    },
    {
     "data": {
      "application/vnd.jupyter.widget-view+json": {
       "model_id": "0c1e6c879e514d1a8b974fad4c1bf704",
       "version_major": 2,
       "version_minor": 0
      },
      "text/plain": [
       "VBox(children=(Figure(camera=PerspectiveCamera(fov=46.0, position=(0.0, 0.0, 2.0), quaternion=(0.0, 0.0, 0.0, …"
      ]
     },
     "metadata": {},
     "output_type": "display_data"
    }
   ],
   "source": [
    "nviz.visualize_neuron(curr_neuron_obj,\n",
    "                      visualize_type=[\"mesh\",\"skeleton\"],\n",
    "                     limb_branch_dict={f\"L{curr_limb_idx}\":curr_candidate_subgraph})"
   ]
  },
  {
   "cell_type": "code",
   "execution_count": 94,
   "metadata": {},
   "outputs": [],
   "source": [
    "true_axon_branches = []"
   ]
  },
  {
   "cell_type": "markdown",
   "metadata": {},
   "source": [
    "# Part A: Filtering For Axon Composition"
   ]
  },
  {
   "cell_type": "code",
   "execution_count": 104,
   "metadata": {},
   "outputs": [
    {
     "name": "stdout",
     "output_type": "stream",
     "text": [
      "1 out of 5 branches are axons\n",
      "Axon percentage = 0.2\n",
      "curr_axon_angle_threshold = 120\n"
     ]
    }
   ],
   "source": [
    "\"\"\"\n",
    "Pseudocode: \n",
    "1) Get the number of branches in the candidate that are axons\n",
    "2a) If all are axons --> choose the relaxed axon angle threshold\n",
    "2b) If none are axons --> remove as not a candidate\n",
    "2c) if some are --> use standard axon threshold\n",
    "\n",
    "\"\"\"\n",
    "\n",
    "axon_angle_threshold_relaxed = 100\n",
    "axon_angle_threshold = 120\n",
    "relaxation_percentage = 85\n",
    "\n",
    "axon_branches_on_limb = final_axon_like_classification[curr_limb_name]\n",
    "axon_branches_on_subgraph = np.intersect1d(axon_branches_on_limb,curr_candidate_subgraph)\n",
    "\n",
    "axon_percentage = len(axon_branches_on_subgraph)/len(curr_candidate_subgraph)\n",
    "\n",
    "if verbose:\n",
    "    print(f\"{len(axon_branches_on_subgraph)} out of {len(curr_candidate_subgraph)} branches are axons\")\n",
    "    print(f\"Axon percentage = {axon_percentage}\")\n",
    "if axon_percentage > relaxation_percentage:\n",
    "    curr_axon_angle_threshold = axon_angle_threshold_relaxed\n",
    "elif len(axon_branches_on_subgraph) == 0:\n",
    "    true_axon_branches = []\n",
    "    raise Exception(\"Done processing candidate\")\n",
    "else:\n",
    "    curr_axon_angle_threshold = axon_angle_threshold\n",
    "    \n",
    "if verbose:\n",
    "    print(f\"curr_axon_angle_threshold = {curr_axon_angle_threshold}\")\n",
    "    "
   ]
  },
  {
   "cell_type": "markdown",
   "metadata": {},
   "source": [
    "# Part B: Filtering For Starting Skeleton Angle"
   ]
  },
  {
   "cell_type": "code",
   "execution_count": 105,
   "metadata": {},
   "outputs": [],
   "source": [
    "curr_limb.set_concept_network_directional(starting_soma = 0)"
   ]
  },
  {
   "cell_type": "code",
   "execution_count": 106,
   "metadata": {},
   "outputs": [
    {
     "data": {
      "text/plain": [
       "array([ 0,  3,  6,  7, 10, 20, 22])"
      ]
     },
     "execution_count": 106,
     "metadata": {},
     "output_type": "execute_result"
    }
   ],
   "source": [
    "undirectional_limb_graph = nx.Graph(curr_limb.concept_network_directional)\n",
    "\n",
    "current_shortest_path,st_node,end_node = xu.shortest_path_between_two_sets_of_nodes(\n",
    "    undirectional_limb_graph,[curr_limb.current_starting_node],\n",
    "    curr_candidate_subgraph)\n",
    "\n",
    "candidate_nodes = np.unique(np.hstack([curr_candidate_subgraph,current_shortest_path]))\n",
    "candidate_nodes"
   ]
  },
  {
   "cell_type": "code",
   "execution_count": 107,
   "metadata": {},
   "outputs": [
    {
     "name": "stdout",
     "output_type": "stream",
     "text": [
      "endnodes_to_test = [962]\n",
      "Skeleton paths distances = [24955.63367314]\n",
      "Filtered indexes = [0]\n",
      "len(filtered_skeletons) = 1\n"
     ]
    },
    {
     "data": {
      "application/vnd.jupyter.widget-view+json": {
       "model_id": "820d237151564a9dbd4b68b4e2c2cd77",
       "version_major": 2,
       "version_minor": 0
      },
      "text/plain": [
       "VBox(children=(Figure(camera=PerspectiveCamera(fov=46.0, position=(0.0, 0.0, 2.0), quaternion=(0.0, 0.0, 0.0, …"
      ]
     },
     "metadata": {},
     "output_type": "display_data"
    },
    {
     "name": "stdout",
     "output_type": "stream",
     "text": [
      "sk_angles = [128.0149632]\n"
     ]
    },
    {
     "data": {
      "text/plain": [
       "array([0])"
      ]
     },
     "execution_count": 107,
     "metadata": {},
     "output_type": "execute_result"
    }
   ],
   "source": [
    "import networkx as nx\n",
    "\n",
    "    \n",
    "    \n",
    "    \n",
    "candidate_angles,restr_skels = clu.candidate_starting_skeletal_angle(limb_obj=curr_limb,\n",
    "                                  candidate_nodes=candidate_nodes,\n",
    "                                      offset = ais_threshold,\n",
    "                                    axon_sk_direction_comparison_distance = 10000,\n",
    "                                    buffer_for_skeleton = 5000,\n",
    "                                      top_volume_vector = np.array([0,-1,0]),\n",
    "                                      plot_skeleton_paths_before_restriction=False,\n",
    "                                      plot_skeleton_paths_after_restriction=True,\n",
    "                                                     return_restricted_skeletons=True,\n",
    "                                      verbose=True,\n",
    "                                     )\n",
    "\n",
    "sk_passing_threshold = np.where(candidate_angles>curr_axon_angle_threshold)[0]\n",
    "sk_passing_threshold"
   ]
  },
  {
   "cell_type": "code",
   "execution_count": null,
   "metadata": {},
   "outputs": [],
   "source": [
    "if len(sk_passing_threshold) == 0:\n",
    "    true_axon_branches = []\n",
    "    raise Exception(\"Done processing candidate\")"
   ]
  },
  {
   "cell_type": "markdown",
   "metadata": {},
   "source": [
    "# Part C: Filtering by Axon Being the Current Starting Piece"
   ]
  },
  {
   "cell_type": "code",
   "execution_count": 117,
   "metadata": {},
   "outputs": [
    {
     "ename": "Exception",
     "evalue": "Done processing candidate",
     "output_type": "error",
     "traceback": [
      "\u001b[0;31m---------------------------------------------------------------------------\u001b[0m",
      "\u001b[0;31mException\u001b[0m                                 Traceback (most recent call last)",
      "\u001b[0;32m<ipython-input-117-9f5cb3e64e33>\u001b[0m in \u001b[0;36m<module>\u001b[0;34m\u001b[0m\n\u001b[1;32m      2\u001b[0m \u001b[0;32mif\u001b[0m \u001b[0mcandidate_starting_node\u001b[0m \u001b[0;32mnot\u001b[0m \u001b[0;32min\u001b[0m \u001b[0maxon_branches_on_limb\u001b[0m\u001b[0;34m:\u001b[0m\u001b[0;34m\u001b[0m\u001b[0;34m\u001b[0m\u001b[0m\n\u001b[1;32m      3\u001b[0m     \u001b[0mtrue_axon_branches\u001b[0m \u001b[0;34m=\u001b[0m \u001b[0;34m[\u001b[0m\u001b[0;34m]\u001b[0m\u001b[0;34m\u001b[0m\u001b[0;34m\u001b[0m\u001b[0m\n\u001b[0;32m----> 4\u001b[0;31m     \u001b[0;32mraise\u001b[0m \u001b[0mException\u001b[0m\u001b[0;34m(\u001b[0m\u001b[0;34m\"Done processing candidate\"\u001b[0m\u001b[0;34m)\u001b[0m\u001b[0;34m\u001b[0m\u001b[0;34m\u001b[0m\u001b[0m\n\u001b[0m",
      "\u001b[0;31mException\u001b[0m: Done processing candidate"
     ]
    }
   ],
   "source": [
    "candidate_starting_node = current_shortest_path[-1]\n",
    "if candidate_starting_node not in axon_branches_on_limb:\n",
    "    true_axon_branches = []\n",
    "    raise Exception(\"Done processing candidate\")"
   ]
  },
  {
   "cell_type": "code",
   "execution_count": 115,
   "metadata": {},
   "outputs": [
    {
     "data": {
      "text/plain": [
       "array([ 0,  3,  6,  7, 10])"
      ]
     },
     "execution_count": 115,
     "metadata": {},
     "output_type": "execute_result"
    }
   ],
   "source": [
    "# Part D: Add all of the candidates branches and those backtracking to mesh that are axon-like\n",
    "extra_nodes_to_add = np.intersect1d(axon_branches_on_limb,current_shortest_path[:-1])\n",
    "true_axon_branches = np.hstack([curr_candidate_subgraph,extra_nodes_to_add])\n",
    "true_axon_branches"
   ]
  },
  {
   "cell_type": "code",
   "execution_count": 116,
   "metadata": {},
   "outputs": [
    {
     "data": {
      "text/plain": [
       "[22, 20, 10]"
      ]
     },
     "execution_count": 116,
     "metadata": {},
     "output_type": "execute_result"
    }
   ],
   "source": [
    "current_shortest_path"
   ]
  },
  {
   "cell_type": "markdown",
   "metadata": {},
   "source": [
    "# Funciton that Processes all candidates"
   ]
  },
  {
   "cell_type": "code",
   "execution_count": 132,
   "metadata": {},
   "outputs": [
    {
     "name": "stderr",
     "output_type": "stream",
     "text": [
      "[autoreload of classification_utils failed: Traceback (most recent call last):\n",
      "  File \"/usr/local/lib/python3.6/dist-packages/IPython/extensions/autoreload.py\", line 245, in check\n",
      "    superreload(m, reload, self.old_objects)\n",
      "  File \"/usr/local/lib/python3.6/dist-packages/IPython/extensions/autoreload.py\", line 394, in superreload\n",
      "    module = reload(module)\n",
      "  File \"/usr/lib/python3.6/imp.py\", line 315, in reload\n",
      "    return importlib.reload(module)\n",
      "  File \"/usr/lib/python3.6/importlib/__init__.py\", line 166, in reload\n",
      "    _bootstrap._exec(spec, module)\n",
      "  File \"<frozen importlib._bootstrap>\", line 618, in _exec\n",
      "  File \"<frozen importlib._bootstrap_external>\", line 674, in exec_module\n",
      "  File \"<frozen importlib._bootstrap_external>\", line 781, in get_code\n",
      "  File \"<frozen importlib._bootstrap_external>\", line 741, in source_to_code\n",
      "  File \"<frozen importlib._bootstrap>\", line 219, in _call_with_frames_removed\n",
      "  File \"/meshAfterParty/classification_utils.py\", line 446\n",
      "    axon_candidate_filtered = dict()\n",
      "                          ^\n",
      "IndentationError: expected an indented block\n",
      "]\n"
     ]
    }
   ],
   "source": [
    "ns.query_neuron"
   ]
  },
  {
   "cell_type": "code",
   "execution_count": 184,
   "metadata": {},
   "outputs": [
    {
     "name": "stdout",
     "output_type": "stream",
     "text": [
      "functions_list = [<function matching_label at 0x7f5e83acb378>]\n",
      "\n",
      "\n",
      " --- Working on limb 1, candidate # 0\n",
      "13 out of 24 branches are axons\n",
      "Axon percentage = 0.5416666666666666\n",
      "curr_axon_angle_threshold = 120\n",
      "endnodes_to_test = [169]\n",
      "Skeleton paths distances = [24973.65193482]\n",
      "Filtered indexes = [0]\n",
      "len(filtered_skeletons) = 1\n",
      "sk_angles = [101.76314944]\n",
      "Not adding candidate because no angles ([101.76314944]) passed the threhold 120 \n",
      "\n",
      "\n",
      " --- Working on limb 2, candidate # 0\n",
      "0 out of 1 branches are axons\n",
      "Axon percentage = 0.0\n",
      "Not adding candidate no axon branches detected \n",
      "curr_axon_angle_threshold = 120\n",
      "endnodes_to_test = [363]\n",
      "Skeleton paths distances = [24985.83163314]\n",
      "Filtered indexes = [0]\n",
      "len(filtered_skeletons) = 1\n",
      "sk_angles = [94.99871289]\n",
      "Not adding candidate because no angles ([94.99871289]) passed the threhold 120 \n",
      "\n",
      "\n",
      " --- Working on limb 2, candidate # 1\n",
      "1 out of 5 branches are axons\n",
      "Axon percentage = 0.2\n",
      "curr_axon_angle_threshold = 120\n",
      "endnodes_to_test = [962]\n",
      "Skeleton paths distances = [24955.63367314]\n",
      "Filtered indexes = [0]\n",
      "len(filtered_skeletons) = 1\n",
      "sk_angles = [128.0149632]\n",
      "Not adding candidate the first branch was not an axon \n",
      "\n",
      "\n",
      " --- Working on limb 2, candidate # 2\n",
      "10 out of 17 branches are axons\n",
      "Axon percentage = 0.5882352941176471\n",
      "curr_axon_angle_threshold = 120\n",
      "endnodes_to_test = [2083]\n",
      "Skeleton paths distances = [24830.84950485]\n",
      "Filtered indexes = [0]\n",
      "len(filtered_skeletons) = 1\n",
      "sk_angles = [102.26248324]\n",
      "Not adding candidate because no angles ([102.26248324]) passed the threhold 120 \n",
      "\n",
      "\n",
      " --- Working on limb 3, candidate # 0\n",
      "0 out of 3 branches are axons\n",
      "Axon percentage = 0.0\n",
      "Not adding candidate no axon branches detected \n",
      "curr_axon_angle_threshold = 120\n",
      "endnodes_to_test = [2180]\n",
      "Skeleton paths distances = [24837.54435061]\n",
      "Filtered indexes = [0]\n",
      "len(filtered_skeletons) = 1\n",
      "sk_angles = [124.89031439]\n",
      "Not adding candidate the first branch was not an axon \n",
      "\n",
      "\n",
      " --- Working on limb 3, candidate # 1\n",
      "0 out of 3 branches are axons\n",
      "Axon percentage = 0.0\n",
      "Not adding candidate no axon branches detected \n",
      "curr_axon_angle_threshold = 120\n",
      "endnodes_to_test = [159]\n",
      "Skeleton paths distances = [24877.0536426]\n",
      "Filtered indexes = [0]\n",
      "len(filtered_skeletons) = 1\n",
      "sk_angles = [110.6720443]\n",
      "Not adding candidate because no angles ([110.6720443]) passed the threhold 120 \n",
      "\n",
      "\n",
      " --- Working on limb 4, candidate # 0\n",
      "1 out of 1 branches are axons\n",
      "Axon percentage = 1.0\n",
      "curr_axon_angle_threshold = 120\n",
      "endnodes_to_test = [64]\n",
      "Skeleton paths distances = [9554.69240399]\n",
      "Filtered indexes = []\n",
      "len(filtered_skeletons) = 1\n",
      "sk_angles = [147.10346656]\n",
      "Adding the following branches as true axons: [0.]\n",
      "\n",
      "\n",
      " --- Working on limb 5, candidate # 0\n",
      "1 out of 6 branches are axons\n",
      "Axon percentage = 0.16666666666666666\n",
      "curr_axon_angle_threshold = 120\n",
      "endnodes_to_test = [187 204]\n",
      "Skeleton paths distances = [24961.11075551 24902.65816348]\n",
      "Filtered indexes = [0 1]\n",
      "len(filtered_skeletons) = 2\n",
      "sk_angles = [110.52423643 108.61755551]\n",
      "Not adding candidate because no angles ([110.52423643 108.61755551]) passed the threhold 120 \n"
     ]
    }
   ],
   "source": [
    "final_true_axons = clu.filter_axon_candiates(\n",
    "    curr_neuron_obj,\n",
    "    axon_subgraph_candidates,\n",
    "    axon_angle_threshold_relaxed = 100,\n",
    "    axon_angle_threshold = 120,\n",
    "    relaxation_percentage = 85,\n",
    "    axon_like_limb_branch_dict=None,\n",
    "    verbose = True,\n",
    "    )"
   ]
  },
  {
   "cell_type": "code",
   "execution_count": 186,
   "metadata": {},
   "outputs": [
    {
     "data": {
      "text/plain": [
       "{'L4': array([0.])}"
      ]
     },
     "execution_count": 186,
     "metadata": {},
     "output_type": "execute_result"
    }
   ],
   "source": [
    "final_true_axons"
   ]
  },
  {
   "cell_type": "code",
   "execution_count": 128,
   "metadata": {},
   "outputs": [
    {
     "name": "stdout",
     "output_type": "stream",
     "text": [
      "\n",
      " Working on visualization type: mesh\n",
      "\n",
      " Working on visualization type: skeleton\n"
     ]
    },
    {
     "data": {
      "application/vnd.jupyter.widget-view+json": {
       "model_id": "3b51098a27934fc9999f2bd474395025",
       "version_major": 2,
       "version_minor": 0
      },
      "text/plain": [
       "VBox(children=(Figure(camera=PerspectiveCamera(fov=46.0, position=(0.0, 0.0, 2.0), quaternion=(0.0, 0.0, 0.0, …"
      ]
     },
     "metadata": {},
     "output_type": "display_data"
    }
   ],
   "source": [
    "nviz.visualize_neuron(curr_neuron_obj,\n",
    "                     limb_branch_dict=dict(L4=[0]))"
   ]
  },
  {
   "cell_type": "code",
   "execution_count": 189,
   "metadata": {},
   "outputs": [
    {
     "data": {
      "text/plain": [
       "<neuron.Limb at 0x7f5ea1a53198>"
      ]
     },
     "execution_count": 189,
     "metadata": {},
     "output_type": "execute_result"
    }
   ],
   "source": [
    "curr_neuron_obj[\"L4\"]"
   ]
  },
  {
   "cell_type": "code",
   "execution_count": 191,
   "metadata": {},
   "outputs": [
    {
     "name": "stdout",
     "output_type": "stream",
     "text": [
      "\n",
      " Working on visualization type: mesh\n"
     ]
    },
    {
     "data": {
      "application/vnd.jupyter.widget-view+json": {
       "model_id": "2a7c113648554266b9d9322db48a08bd",
       "version_major": 2,
       "version_minor": 0
      },
      "text/plain": [
       "VBox(children=(Figure(camera=PerspectiveCamera(fov=46.0, position=(0.0, 0.0, 2.0), quaternion=(0.0, 0.0, 0.0, …"
      ]
     },
     "metadata": {},
     "output_type": "display_data"
    }
   ],
   "source": [
    "nviz.visualize_neuron(curr_neuron_obj,\n",
    "                              visualize_type=[\"mesh\"],\n",
    "                             limb_branch_dict=final_true_axons,\n",
    "                             mesh_color=\"red\",\n",
    "                              mesh_color_alpha=1,\n",
    "                             mesh_whole_neuron=True)"
   ]
  },
  {
   "cell_type": "code",
   "execution_count": 190,
   "metadata": {},
   "outputs": [
    {
     "name": "stdout",
     "output_type": "stream",
     "text": [
      "> \u001b[0;32m/usr/local/lib/python3.6/dist-packages/networkx/classes/reportviews.py\u001b[0m(178)\u001b[0;36m__getitem__\u001b[0;34m()\u001b[0m\n",
      "\u001b[0;32m    176 \u001b[0;31m\u001b[0;34m\u001b[0m\u001b[0m\n",
      "\u001b[0m\u001b[0;32m    177 \u001b[0;31m    \u001b[0;32mdef\u001b[0m \u001b[0m__getitem__\u001b[0m\u001b[0;34m(\u001b[0m\u001b[0mself\u001b[0m\u001b[0;34m,\u001b[0m \u001b[0mn\u001b[0m\u001b[0;34m)\u001b[0m\u001b[0;34m:\u001b[0m\u001b[0;34m\u001b[0m\u001b[0;34m\u001b[0m\u001b[0m\n",
      "\u001b[0m\u001b[0;32m--> 178 \u001b[0;31m        \u001b[0;32mreturn\u001b[0m \u001b[0mself\u001b[0m\u001b[0;34m.\u001b[0m\u001b[0m_nodes\u001b[0m\u001b[0;34m[\u001b[0m\u001b[0mn\u001b[0m\u001b[0;34m]\u001b[0m\u001b[0;34m\u001b[0m\u001b[0;34m\u001b[0m\u001b[0m\n",
      "\u001b[0m\u001b[0;32m    179 \u001b[0;31m\u001b[0;34m\u001b[0m\u001b[0m\n",
      "\u001b[0m\u001b[0;32m    180 \u001b[0;31m    \u001b[0;31m# Set methods\u001b[0m\u001b[0;34m\u001b[0m\u001b[0;34m\u001b[0m\u001b[0;34m\u001b[0m\u001b[0m\n",
      "\u001b[0m\n",
      "ipdb> self._nodes\n",
      "{'S0': {'data': <neuron.Soma object at 0x7f5e7ab72f28>}, 'L0': {'data': <neuron.Limb object at 0x7f5e7ab72f98>}, 'L1': {'data': <neuron.Limb object at 0x7f5e7ab570b8>}, 'L2': {'data': <neuron.Limb object at 0x7f5e7ab571d0>}, 'L3': {'data': <neuron.Limb object at 0x7f5e7ab72cf8>}, 'L4': {'data': <neuron.Limb object at 0x7f5e7a7dfef0>}, 'L5': {'data': <neuron.Limb object at 0x7f5e7a843a58>}}\n",
      "ipdb> c\n"
     ]
    }
   ],
   "source": [
    "debug"
   ]
  },
  {
   "cell_type": "markdown",
   "metadata": {},
   "source": [
    "# Final Part: Adding the labels to the Neuron"
   ]
  },
  {
   "cell_type": "code",
   "execution_count": 150,
   "metadata": {},
   "outputs": [
    {
     "data": {
      "text/plain": [
       "['axon-like']"
      ]
     },
     "execution_count": 150,
     "metadata": {},
     "output_type": "execute_result"
    }
   ],
   "source": [
    "nru.clear_all_branch_labels(curr_neuron_obj,\"axon\")"
   ]
  },
  {
   "cell_type": "code",
   "execution_count": 175,
   "metadata": {},
   "outputs": [],
   "source": [
    "nru.add_branch_label(curr_neuron_obj,\n",
    "                    limb_branch_dict=final_ture_axons,\n",
    "                    labels=\"axon\")"
   ]
  },
  {
   "cell_type": "code",
   "execution_count": 176,
   "metadata": {},
   "outputs": [
    {
     "data": {
      "text/plain": [
       "['axon-like', 'axon']"
      ]
     },
     "execution_count": 176,
     "metadata": {},
     "output_type": "execute_result"
    }
   ],
   "source": [
    "curr_neuron_obj[4][0].labels#.append(\"axon\")"
   ]
  },
  {
   "cell_type": "markdown",
   "metadata": {},
   "source": [
    "# Now be able to search neuron for axons and others as errors"
   ]
  },
  {
   "cell_type": "code",
   "execution_count": 181,
   "metadata": {},
   "outputs": [
    {
     "name": "stdout",
     "output_type": "stream",
     "text": [
      "functions_list = [<function labels_restriction at 0x7f5e83acb268>]\n"
     ]
    },
    {
     "data": {
      "text/plain": [
       "{'L0': array([ 1,  3,  5,  7,  8, 16, 18, 20, 21, 38, 45]),\n",
       " 'L1': array([ 3,  4,  9, 12, 13, 14, 16, 17, 18, 19, 20, 21, 22]),\n",
       " 'L2': array([ 4,  6,  8,  9, 11, 12, 13, 14, 15, 16, 23]),\n",
       " 'L4': array([0]),\n",
       " 'L5': array([3])}"
      ]
     },
     "execution_count": 181,
     "metadata": {},
     "output_type": "execute_result"
    }
   ],
   "source": [
    "ns.query_neuron_by_labels(curr_neuron_obj,\n",
    "                         matching_labels = [\"axon-like\"],\n",
    "                         #not_matching_labels = [\"axon\"]\n",
    "                         )"
   ]
  },
  {
   "cell_type": "code",
   "execution_count": null,
   "metadata": {},
   "outputs": [],
   "source": []
  }
 ],
 "metadata": {
  "kernelspec": {
   "display_name": "Python 3",
   "language": "python",
   "name": "python3"
  },
  "language_info": {
   "codemirror_mode": {
    "name": "ipython",
    "version": 3
   },
   "file_extension": ".py",
   "mimetype": "text/x-python",
   "name": "python",
   "nbconvert_exporter": "python",
   "pygments_lexer": "ipython3",
   "version": "3.6.9"
  }
 },
 "nbformat": 4,
 "nbformat_minor": 4
}
