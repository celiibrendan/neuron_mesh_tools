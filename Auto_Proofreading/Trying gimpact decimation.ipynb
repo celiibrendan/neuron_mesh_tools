{
 "cells": [
  {
   "cell_type": "code",
   "execution_count": 1,
   "metadata": {},
   "outputs": [
    {
     "data": {
      "text/plain": [
       "'\\nPurpose: To try a new decimaation algorithm\\n\\n\\n'"
      ]
     },
     "execution_count": 1,
     "metadata": {},
     "output_type": "execute_result"
    }
   ],
   "source": [
    "\"\"\"\n",
    "Purpose: To try a new decimaation algorithm\n",
    "\n",
    "Link: https://github.com/StephenNneji/gimpact\n",
    "\"\"\""
   ]
  },
  {
   "cell_type": "code",
   "execution_count": 2,
   "metadata": {},
   "outputs": [],
   "source": [
    "import gimpact"
   ]
  },
  {
   "cell_type": "code",
   "execution_count": 3,
   "metadata": {},
   "outputs": [
    {
     "data": {
      "text/plain": [
       "['AABB',\n",
       " 'AABBSet',\n",
       " 'Contact',\n",
       " 'G_BUFFER_MANAGER_SHARED',\n",
       " 'G_BUFFER_MANAGER_SYSTEM',\n",
       " 'G_BUFFER_MANAGER__MAX',\n",
       " 'TriMesh',\n",
       " '__builtins__',\n",
       " '__doc__',\n",
       " '__file__',\n",
       " '__loader__',\n",
       " '__name__',\n",
       " '__package__',\n",
       " '__pyx_unpickle_Enum',\n",
       " '__spec__',\n",
       " '__test__',\n",
       " 'np',\n",
       " 'trimesh_capsule_collision',\n",
       " 'trimesh_plane_collision',\n",
       " 'trimesh_ray_closest_collision',\n",
       " 'trimesh_ray_collision',\n",
       " 'trimesh_sphere_collision',\n",
       " 'trimesh_trimesh_collision']"
      ]
     },
     "execution_count": 3,
     "metadata": {},
     "output_type": "execute_result"
    }
   ],
   "source": [
    "dir(gimpact)"
   ]
  },
  {
   "cell_type": "code",
   "execution_count": null,
   "metadata": {},
   "outputs": [],
   "source": []
  }
 ],
 "metadata": {
  "kernelspec": {
   "display_name": "Python 3",
   "language": "python",
   "name": "python3"
  },
  "language_info": {
   "codemirror_mode": {
    "name": "ipython",
    "version": 3
   },
   "file_extension": ".py",
   "mimetype": "text/x-python",
   "name": "python",
   "nbconvert_exporter": "python",
   "pygments_lexer": "ipython3",
   "version": "3.6.9"
  }
 },
 "nbformat": 4,
 "nbformat_minor": 4
}
