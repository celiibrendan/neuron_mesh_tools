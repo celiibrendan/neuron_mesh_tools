{
 "cells": [
  {
   "cell_type": "code",
   "execution_count": null,
   "metadata": {},
   "outputs": [],
   "source": [
    "\"\"\"\n",
    "\n",
    "\n",
    "\n",
    "\"\"\""
   ]
  },
  {
   "cell_type": "code",
   "execution_count": 1,
   "metadata": {},
   "outputs": [],
   "source": [
    "from os import sys\n",
    "sys.path.append(\"/meshAfterParty/\")"
   ]
  },
  {
   "cell_type": "code",
   "execution_count": 2,
   "metadata": {},
   "outputs": [
    {
     "name": "stderr",
     "output_type": "stream",
     "text": [
      "INFO - 2021-01-06 21:34:57,967 - settings - Setting database.host to at-database.ad.bcm.edu\n",
      "INFO - 2021-01-06 21:34:57,968 - settings - Setting database.user to celiib\n",
      "INFO - 2021-01-06 21:34:57,969 - settings - Setting database.password to newceliipass\n",
      "INFO - 2021-01-06 21:34:57,971 - settings - Setting stores to {'minnie65': {'protocol': 'file', 'location': '/mnt/dj-stor01/platinum/minnie65', 'stage': '/mnt/dj-stor01/platinum/minnie65'}, 'meshes': {'protocol': 'file', 'location': '/mnt/dj-stor01/platinum/minnie65/02/meshes', 'stage': '/mnt/dj-stor01/platinum/minnie65/02/meshes'}, 'decimated_meshes': {'protocol': 'file', 'location': '/mnt/dj-stor01/platinum/minnie65/02/decimated_meshes', 'stage': '/mnt/dj-stor01/platinum/minnie65/02/decimated_meshes'}, 'skeletons': {'protocol': 'file', 'location': '/mnt/dj-stor01/platinum/minnie65/02/skeletons'}}\n",
      "INFO - 2021-01-06 21:34:57,972 - settings - Setting enable_python_native_blobs to True\n",
      "INFO - 2021-01-06 21:34:57,986 - connection - Connected celiib@at-database.ad.bcm.edu:3306\n"
     ]
    },
    {
     "name": "stdout",
     "output_type": "stream",
     "text": [
      "Connecting celiib@at-database.ad.bcm.edu:3306\n"
     ]
    },
    {
     "name": "stderr",
     "output_type": "stream",
     "text": [
      "INFO - 2021-01-06 21:34:58,227 - settings - Setting enable_python_native_blobs to True\n"
     ]
    }
   ],
   "source": [
    "import datajoint_utils as du"
   ]
  },
  {
   "cell_type": "code",
   "execution_count": 3,
   "metadata": {},
   "outputs": [
    {
     "name": "stderr",
     "output_type": "stream",
     "text": [
      "INFO - 2021-01-06 21:35:18,066 - settings - Setting enable_python_native_blobs to True\n",
      "INFO - 2021-01-06 21:35:18,316 - settings - Setting enable_python_native_blobs to True\n"
     ]
    }
   ],
   "source": [
    "minnie,schema = du.configure_minnie_vm()"
   ]
  },
  {
   "cell_type": "markdown",
   "metadata": {},
   "source": [
    "# Inspecting Decimation"
   ]
  },
  {
   "cell_type": "code",
   "execution_count": 4,
   "metadata": {},
   "outputs": [
    {
     "data": {
      "text/html": [
       "\n",
       "        \n",
       "        <style type=\"text/css\">\n",
       "            .Relation{\n",
       "                border-collapse:collapse;\n",
       "            }\n",
       "            .Relation th{\n",
       "                background: #A0A0A0; color: #ffffff; padding:4px; border:#f0e0e0 1px solid;\n",
       "                font-weight: normal; font-family: monospace; font-size: 100%;\n",
       "            }\n",
       "            .Relation td{\n",
       "                padding:4px; border:#f0e0e0 1px solid; font-size:100%;\n",
       "            }\n",
       "            .Relation tr:nth-child(odd){\n",
       "                background: #ffffff;\n",
       "            }\n",
       "            .Relation tr:nth-child(even){\n",
       "                background: #f3f1ff;\n",
       "            }\n",
       "            /* Tooltip container */\n",
       "            .djtooltip {\n",
       "            }\n",
       "            /* Tooltip text */\n",
       "            .djtooltip .djtooltiptext {\n",
       "                visibility: hidden;\n",
       "                width: 120px;\n",
       "                background-color: black;\n",
       "                color: #fff;\n",
       "                text-align: center;\n",
       "                padding: 5px 0;\n",
       "                border-radius: 6px;\n",
       "                /* Position the tooltip text - see examples below! */\n",
       "                position: absolute;\n",
       "                z-index: 1;\n",
       "            }\n",
       "            #primary {\n",
       "                font-weight: bold;\n",
       "                color: black;\n",
       "            }\n",
       "\n",
       "            #nonprimary {\n",
       "                font-weight: normal;\n",
       "                color: white;\n",
       "            }\n",
       "\n",
       "            /* Show the tooltip text when you mouse over the tooltip container */\n",
       "            .djtooltip:hover .djtooltiptext {\n",
       "                visibility: visible;\n",
       "            }\n",
       "        </style>\n",
       "        \n",
       "        <b></b>\n",
       "            <div style=\"max-height:1000px;max-width:1500px;overflow:auto;\">\n",
       "            <table border=\"1\" class=\"Relation\">\n",
       "                <thead> <tr style=\"text-align: right;\"> <th> <div class=\"djtooltip\">\n",
       "                                <p id=\"primary\">segment_id</p>\n",
       "                                <span class=\"djtooltiptext\">segment id for those to be decimated</span>\n",
       "                            </div></th><th><div class=\"djtooltip\">\n",
       "                                <p id=\"nonprimary\">n_somas</p>\n",
       "                                <span class=\"djtooltiptext\">the number of somas associated with the neuron from the Allen Institute</span>\n",
       "                            </div> </th> </tr> </thead>\n",
       "                <tbody> <tr> <td>864691134947393276</td>\n",
       "<td>3</td></tr><tr><td>864691135012398582</td>\n",
       "<td>2</td></tr><tr><td>864691135012471798</td>\n",
       "<td>2</td></tr><tr><td>864691135012571126</td>\n",
       "<td>2</td></tr><tr><td>864691135012905110</td>\n",
       "<td>2</td></tr><tr><td>864691135065018692</td>\n",
       "<td>2</td></tr><tr><td>864691135065024068</td>\n",
       "<td>2</td></tr><tr><td>864691135065032772</td>\n",
       "<td>3</td></tr><tr><td>864691135065033540</td>\n",
       "<td>3</td></tr><tr><td>864691135081745143</td>\n",
       "<td>2</td></tr><tr><td>864691135081756919</td>\n",
       "<td>3</td></tr><tr><td>864691135155574372</td>\n",
       "<td>3</td> </tr> </tbody>\n",
       "            </table>\n",
       "            <p>...</p>\n",
       "            <p>Total: 146</p></div>\n",
       "            "
      ],
      "text/plain": [
       "*segment_id    n_somas    \n",
       "+------------+ +---------+\n",
       "86469113494739 3          \n",
       "86469113501239 2          \n",
       "86469113501247 2          \n",
       "86469113501257 2          \n",
       "86469113501290 2          \n",
       "86469113506501 2          \n",
       "86469113506502 2          \n",
       "86469113506503 3          \n",
       "86469113506503 3          \n",
       "86469113508174 2          \n",
       "86469113508175 3          \n",
       "86469113515557 3          \n",
       "   ...\n",
       " (Total: 146)"
      ]
     },
     "execution_count": 4,
     "metadata": {},
     "output_type": "execute_result"
    }
   ],
   "source": [
    "minnie.MultiSomaProofread2()"
   ]
  },
  {
   "cell_type": "code",
   "execution_count": 5,
   "metadata": {},
   "outputs": [
    {
     "data": {
      "text/html": [
       "\n",
       "        \n",
       "        <style type=\"text/css\">\n",
       "            .Relation{\n",
       "                border-collapse:collapse;\n",
       "            }\n",
       "            .Relation th{\n",
       "                background: #A0A0A0; color: #ffffff; padding:4px; border:#f0e0e0 1px solid;\n",
       "                font-weight: normal; font-family: monospace; font-size: 100%;\n",
       "            }\n",
       "            .Relation td{\n",
       "                padding:4px; border:#f0e0e0 1px solid; font-size:100%;\n",
       "            }\n",
       "            .Relation tr:nth-child(odd){\n",
       "                background: #ffffff;\n",
       "            }\n",
       "            .Relation tr:nth-child(even){\n",
       "                background: #f3f1ff;\n",
       "            }\n",
       "            /* Tooltip container */\n",
       "            .djtooltip {\n",
       "            }\n",
       "            /* Tooltip text */\n",
       "            .djtooltip .djtooltiptext {\n",
       "                visibility: hidden;\n",
       "                width: 120px;\n",
       "                background-color: black;\n",
       "                color: #fff;\n",
       "                text-align: center;\n",
       "                padding: 5px 0;\n",
       "                border-radius: 6px;\n",
       "                /* Position the tooltip text - see examples below! */\n",
       "                position: absolute;\n",
       "                z-index: 1;\n",
       "            }\n",
       "            #primary {\n",
       "                font-weight: bold;\n",
       "                color: black;\n",
       "            }\n",
       "\n",
       "            #nonprimary {\n",
       "                font-weight: normal;\n",
       "                color: white;\n",
       "            }\n",
       "\n",
       "            /* Show the tooltip text when you mouse over the tooltip container */\n",
       "            .djtooltip:hover .djtooltiptext {\n",
       "                visibility: visible;\n",
       "            }\n",
       "        </style>\n",
       "        \n",
       "        <b>Decimated meshes</b>\n",
       "            <div style=\"max-height:1000px;max-width:1500px;overflow:auto;\">\n",
       "            <table border=\"1\" class=\"Relation\">\n",
       "                <thead> <tr style=\"text-align: right;\"> <th> <div class=\"djtooltip\">\n",
       "                                <p id=\"primary\">segment_id</p>\n",
       "                                <span class=\"djtooltiptext\">segment id unique within each Segmentation</span>\n",
       "                            </div></th><th><div class=\"djtooltip\">\n",
       "                                <p id=\"primary\">version</p>\n",
       "                                <span class=\"djtooltiptext\"></span>\n",
       "                            </div></th><th><div class=\"djtooltip\">\n",
       "                                <p id=\"primary\">decimation_ratio</p>\n",
       "                                <span class=\"djtooltiptext\">ratio of remaining mesh vertices/faces (which ones depends on what metric the decimation technique uses)</span>\n",
       "                            </div></th><th><div class=\"djtooltip\">\n",
       "                                <p id=\"nonprimary\">n_vertices</p>\n",
       "                                <span class=\"djtooltiptext\"></span>\n",
       "                            </div></th><th><div class=\"djtooltip\">\n",
       "                                <p id=\"nonprimary\">n_faces</p>\n",
       "                                <span class=\"djtooltiptext\"></span>\n",
       "                            </div></th><th><div class=\"djtooltip\">\n",
       "                                <p id=\"nonprimary\">mesh</p>\n",
       "                                <span class=\"djtooltiptext\">in-place path to the hdf5 (decimated) mesh file</span>\n",
       "                            </div> </th> </tr> </thead>\n",
       "                <tbody> <tr> <td>864691134947393276</td>\n",
       "<td>0</td>\n",
       "<td>0.25</td>\n",
       "<td>1400375</td>\n",
       "<td>2824255</td>\n",
       "<td>=BLOB=</td></tr><tr><td>864691135012398582</td>\n",
       "<td>0</td>\n",
       "<td>0.25</td>\n",
       "<td>1376990</td>\n",
       "<td>2794781</td>\n",
       "<td>=BLOB=</td></tr><tr><td>864691135012471798</td>\n",
       "<td>0</td>\n",
       "<td>0.25</td>\n",
       "<td>879119</td>\n",
       "<td>1793791</td>\n",
       "<td>=BLOB=</td></tr><tr><td>864691135012905110</td>\n",
       "<td>0</td>\n",
       "<td>0.25</td>\n",
       "<td>816541</td>\n",
       "<td>1676641</td>\n",
       "<td>=BLOB=</td></tr><tr><td>864691135065018692</td>\n",
       "<td>0</td>\n",
       "<td>0.25</td>\n",
       "<td>927599</td>\n",
       "<td>1896021</td>\n",
       "<td>=BLOB=</td></tr><tr><td>864691135065024068</td>\n",
       "<td>0</td>\n",
       "<td>0.25</td>\n",
       "<td>1683573</td>\n",
       "<td>3378174</td>\n",
       "<td>=BLOB=</td></tr><tr><td>864691135210051520</td>\n",
       "<td>0</td>\n",
       "<td>0.25</td>\n",
       "<td>498916</td>\n",
       "<td>1023655</td>\n",
       "<td>=BLOB=</td></tr><tr><td>864691135345134239</td>\n",
       "<td>0</td>\n",
       "<td>0.25</td>\n",
       "<td>1300713</td>\n",
       "<td>2608916</td>\n",
       "<td>=BLOB=</td></tr><tr><td>864691135360133191</td>\n",
       "<td>0</td>\n",
       "<td>0.25</td>\n",
       "<td>660341</td>\n",
       "<td>1362009</td>\n",
       "<td>=BLOB=</td></tr><tr><td>864691135373423816</td>\n",
       "<td>0</td>\n",
       "<td>0.25</td>\n",
       "<td>3383405</td>\n",
       "<td>6837747</td>\n",
       "<td>=BLOB=</td></tr><tr><td>864691135385192277</td>\n",
       "<td>0</td>\n",
       "<td>0.25</td>\n",
       "<td>476509</td>\n",
       "<td>964056</td>\n",
       "<td>=BLOB=</td></tr><tr><td>864691135385207893</td>\n",
       "<td>0</td>\n",
       "<td>0.25</td>\n",
       "<td>510452</td>\n",
       "<td>1073563</td>\n",
       "<td>=BLOB=</td> </tr> </tbody>\n",
       "            </table>\n",
       "            <p>...</p>\n",
       "            <p>Total: 59</p></div>\n",
       "            "
      ],
      "text/plain": [
       "*segment_id    *version    *decimation_ra n_vertices     n_faces     mesh      \n",
       "+------------+ +---------+ +------------+ +------------+ +---------+ +--------+\n",
       "86469113494739 0           0.25           1400375        2824255     =BLOB=    \n",
       "86469113501239 0           0.25           1376990        2794781     =BLOB=    \n",
       "86469113501247 0           0.25           879119         1793791     =BLOB=    \n",
       "86469113501290 0           0.25           816541         1676641     =BLOB=    \n",
       "86469113506501 0           0.25           927599         1896021     =BLOB=    \n",
       "86469113506502 0           0.25           1683573        3378174     =BLOB=    \n",
       "86469113521005 0           0.25           498916         1023655     =BLOB=    \n",
       "86469113534513 0           0.25           1300713        2608916     =BLOB=    \n",
       "86469113536013 0           0.25           660341         1362009     =BLOB=    \n",
       "86469113537342 0           0.25           3383405        6837747     =BLOB=    \n",
       "86469113538519 0           0.25           476509         964056      =BLOB=    \n",
       "86469113538520 0           0.25           510452         1073563     =BLOB=    \n",
       "   ...\n",
       " (Total: 59)"
      ]
     },
     "execution_count": 5,
     "metadata": {},
     "output_type": "execute_result"
    }
   ],
   "source": [
    "minnie.Decimation() & minnie.MultiSomaProofread2.proj()"
   ]
  },
  {
   "cell_type": "code",
   "execution_count": null,
   "metadata": {},
   "outputs": [],
   "source": []
  }
 ],
 "metadata": {
  "kernelspec": {
   "display_name": "Python 3",
   "language": "python",
   "name": "python3"
  },
  "language_info": {
   "codemirror_mode": {
    "name": "ipython",
    "version": 3
   },
   "file_extension": ".py",
   "mimetype": "text/x-python",
   "name": "python",
   "nbconvert_exporter": "python",
   "pygments_lexer": "ipython3",
   "version": "3.6.9"
  }
 },
 "nbformat": 4,
 "nbformat_minor": 4
}
