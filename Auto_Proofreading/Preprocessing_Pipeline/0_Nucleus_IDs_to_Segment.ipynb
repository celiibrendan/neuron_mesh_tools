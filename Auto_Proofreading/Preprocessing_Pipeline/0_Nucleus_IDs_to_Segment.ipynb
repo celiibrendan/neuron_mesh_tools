{
 "cells": [
  {
   "cell_type": "code",
   "execution_count": null,
   "metadata": {},
   "outputs": [],
   "source": [
    "\"\"\"\n",
    "Purpose: To pull down the latest segment ids that \n",
    "correspond to the nucleus table so they can be used to \n",
    "run downstream tables\n",
    "\n",
    "\"\"\""
   ]
  },
  {
   "cell_type": "code",
   "execution_count": 4,
   "metadata": {},
   "outputs": [],
   "source": [
    "%load_ext autoreload\n",
    "%autoreload 2"
   ]
  },
  {
   "cell_type": "code",
   "execution_count": 5,
   "metadata": {},
   "outputs": [],
   "source": [
    "from os import sys\n",
    "sys.path.append(\"/meshAfterParty/\")"
   ]
  },
  {
   "cell_type": "code",
   "execution_count": 6,
   "metadata": {},
   "outputs": [
    {
     "name": "stderr",
     "output_type": "stream",
     "text": [
      "INFO - 2021-01-14 19:41:55,092 - settings - Setting database.host to at-database.ad.bcm.edu\n",
      "INFO - 2021-01-14 19:41:55,093 - settings - Setting database.user to celiib\n",
      "INFO - 2021-01-14 19:41:55,093 - settings - Setting database.password to newceliipass\n",
      "INFO - 2021-01-14 19:41:55,097 - settings - Setting stores to {'minnie65': {'protocol': 'file', 'location': '/mnt/dj-stor01/platinum/minnie65', 'stage': '/mnt/dj-stor01/platinum/minnie65'}, 'meshes': {'protocol': 'file', 'location': '/mnt/dj-stor01/platinum/minnie65/02/meshes', 'stage': '/mnt/dj-stor01/platinum/minnie65/02/meshes'}, 'decimated_meshes': {'protocol': 'file', 'location': '/mnt/dj-stor01/platinum/minnie65/02/decimated_meshes', 'stage': '/mnt/dj-stor01/platinum/minnie65/02/decimated_meshes'}, 'skeletons': {'protocol': 'file', 'location': '/mnt/dj-stor01/platinum/minnie65/02/skeletons'}}\n",
      "INFO - 2021-01-14 19:41:55,097 - settings - Setting enable_python_native_blobs to True\n",
      "INFO - 2021-01-14 19:41:55,339 - settings - Setting enable_python_native_blobs to True\n"
     ]
    },
    {
     "data": {
      "text/html": [
       "\n",
       "        \n",
       "        <style type=\"text/css\">\n",
       "            .Relation{\n",
       "                border-collapse:collapse;\n",
       "            }\n",
       "            .Relation th{\n",
       "                background: #A0A0A0; color: #ffffff; padding:4px; border:#f0e0e0 1px solid;\n",
       "                font-weight: normal; font-family: monospace; font-size: 100%;\n",
       "            }\n",
       "            .Relation td{\n",
       "                padding:4px; border:#f0e0e0 1px solid; font-size:100%;\n",
       "            }\n",
       "            .Relation tr:nth-child(odd){\n",
       "                background: #ffffff;\n",
       "            }\n",
       "            .Relation tr:nth-child(even){\n",
       "                background: #f3f1ff;\n",
       "            }\n",
       "            /* Tooltip container */\n",
       "            .djtooltip {\n",
       "            }\n",
       "            /* Tooltip text */\n",
       "            .djtooltip .djtooltiptext {\n",
       "                visibility: hidden;\n",
       "                width: 120px;\n",
       "                background-color: black;\n",
       "                color: #fff;\n",
       "                text-align: center;\n",
       "                padding: 5px 0;\n",
       "                border-radius: 6px;\n",
       "                /* Position the tooltip text - see examples below! */\n",
       "                position: absolute;\n",
       "                z-index: 1;\n",
       "            }\n",
       "            #primary {\n",
       "                font-weight: bold;\n",
       "                color: black;\n",
       "            }\n",
       "\n",
       "            #nonprimary {\n",
       "                font-weight: normal;\n",
       "                color: white;\n",
       "            }\n",
       "\n",
       "            /* Show the tooltip text when you mouse over the tooltip container */\n",
       "            .djtooltip:hover .djtooltiptext {\n",
       "                visibility: visible;\n",
       "            }\n",
       "        </style>\n",
       "        \n",
       "        <b>Detailed information from each nucleus_id</b>\n",
       "            <div style=\"max-height:1000px;max-width:1500px;overflow:auto;\">\n",
       "            <table border=\"1\" class=\"Relation\">\n",
       "                <thead> <tr style=\"text-align: right;\"> <th> <div class=\"djtooltip\">\n",
       "                                <p id=\"primary\">ver</p>\n",
       "                                <span class=\"djtooltiptext\">materialization version</span>\n",
       "                            </div></th><th><div class=\"djtooltip\">\n",
       "                                <p id=\"primary\">nucleus_id</p>\n",
       "                                <span class=\"djtooltiptext\">id of nucleus from the flat segmentation  Equivalent to Allen: 'id'.</span>\n",
       "                            </div></th><th><div class=\"djtooltip\">\n",
       "                                <p id=\"primary\">segment_id</p>\n",
       "                                <span class=\"djtooltiptext\">id of the segment under the nucleus centroid. Equivalent to Allen 'pt_root_id'.</span>\n",
       "                            </div></th><th><div class=\"djtooltip\">\n",
       "                                <p id=\"nonprimary\">nucleus_x</p>\n",
       "                                <span class=\"djtooltiptext\">x coordinate of nucleus centroid in EM voxels (x: 4nm, y: 4nm, z: 40nm)</span>\n",
       "                            </div></th><th><div class=\"djtooltip\">\n",
       "                                <p id=\"nonprimary\">nucleus_y</p>\n",
       "                                <span class=\"djtooltiptext\">y coordinate of nucleus centroid in EM voxels (x: 4nm, y: 4nm, z: 40nm)</span>\n",
       "                            </div></th><th><div class=\"djtooltip\">\n",
       "                                <p id=\"nonprimary\">nucleus_z</p>\n",
       "                                <span class=\"djtooltiptext\">z coordinate of nucleus centroid in EM voxels (x: 4nm, y: 4nm, z: 40nm)</span>\n",
       "                            </div></th><th><div class=\"djtooltip\">\n",
       "                                <p id=\"nonprimary\">supervoxel_id</p>\n",
       "                                <span class=\"djtooltiptext\">id of the supervoxel under the nucleus centroid. Equivalent to Allen: 'pt_supervoxel_id'.</span>\n",
       "                            </div></th><th><div class=\"djtooltip\">\n",
       "                                <p id=\"nonprimary\">volume</p>\n",
       "                                <span class=\"djtooltiptext\">volume of the nucleus in um^3</span>\n",
       "                            </div> </th> </tr> </thead>\n",
       "                <tbody> <tr> <td>30.00</td>\n",
       "<td>996</td>\n",
       "<td>0</td>\n",
       "<td>60464</td>\n",
       "<td>93616</td>\n",
       "<td>20968</td>\n",
       "<td>0</td>\n",
       "<td>35.1478</td></tr><tr><td>30.00</td>\n",
       "<td>1833</td>\n",
       "<td>0</td>\n",
       "<td>56800</td>\n",
       "<td>97280</td>\n",
       "<td>19929</td>\n",
       "<td>0</td>\n",
       "<td>35.934</td></tr><tr><td>30.00</td>\n",
       "<td>1841</td>\n",
       "<td>0</td>\n",
       "<td>57536</td>\n",
       "<td>105584</td>\n",
       "<td>19883</td>\n",
       "<td>0</td>\n",
       "<td>265.586</td></tr><tr><td>30.00</td>\n",
       "<td>1896</td>\n",
       "<td>0</td>\n",
       "<td>59872</td>\n",
       "<td>96608</td>\n",
       "<td>19853</td>\n",
       "<td>0</td>\n",
       "<td>174.558</td></tr><tr><td>30.00</td>\n",
       "<td>1998</td>\n",
       "<td>864691136050815731</td>\n",
       "<td>59936</td>\n",
       "<td>105872</td>\n",
       "<td>20078</td>\n",
       "<td>72978435697419638</td>\n",
       "<td>137.669</td></tr><tr><td>30.00</td>\n",
       "<td>2005</td>\n",
       "<td>0</td>\n",
       "<td>61472</td>\n",
       "<td>96128</td>\n",
       "<td>20003</td>\n",
       "<td>0</td>\n",
       "<td>71.6715</td></tr><tr><td>30.00</td>\n",
       "<td>2020</td>\n",
       "<td>0</td>\n",
       "<td>62448</td>\n",
       "<td>97920</td>\n",
       "<td>20177</td>\n",
       "<td>0</td>\n",
       "<td>214.823</td></tr><tr><td>30.00</td>\n",
       "<td>2026</td>\n",
       "<td>0</td>\n",
       "<td>60832</td>\n",
       "<td>100752</td>\n",
       "<td>19857</td>\n",
       "<td>0</td>\n",
       "<td>103.014</td></tr><tr><td>30.00</td>\n",
       "<td>2051</td>\n",
       "<td>0</td>\n",
       "<td>61968</td>\n",
       "<td>96704</td>\n",
       "<td>20133</td>\n",
       "<td>0</td>\n",
       "<td>38.5804</td></tr><tr><td>30.00</td>\n",
       "<td>2198</td>\n",
       "<td>864691135084884330</td>\n",
       "<td>65088</td>\n",
       "<td>104160</td>\n",
       "<td>20059</td>\n",
       "<td>73752285724957558</td>\n",
       "<td>76.0236</td></tr><tr><td>30.00</td>\n",
       "<td>2199</td>\n",
       "<td>864691136521572241</td>\n",
       "<td>65664</td>\n",
       "<td>109488</td>\n",
       "<td>19839</td>\n",
       "<td>73823341596728836</td>\n",
       "<td>142.404</td></tr><tr><td>30.00</td>\n",
       "<td>2242</td>\n",
       "<td>0</td>\n",
       "<td>51632</td>\n",
       "<td>98000</td>\n",
       "<td>20281</td>\n",
       "<td>0</td>\n",
       "<td>59.2083</td> </tr> </tbody>\n",
       "            </table>\n",
       "            <p>...</p>\n",
       "            <p>Total: 144120</p></div>\n",
       "            "
      ],
      "text/plain": [
       "*ver      *nucleus_id    *segment_id    nucleus_x     nucleus_y     nucleus_z     supervoxel_id  volume     \n",
       "+-------+ +------------+ +------------+ +-----------+ +-----------+ +-----------+ +------------+ +---------+\n",
       "30.00     996            0              60464         93616         20968         0              35.1478    \n",
       "30.00     1833           0              56800         97280         19929         0              35.934     \n",
       "30.00     1841           0              57536         105584        19883         0              265.586    \n",
       "30.00     1896           0              59872         96608         19853         0              174.558    \n",
       "30.00     1998           86469113605081 59936         105872        20078         72978435697419 137.669    \n",
       "30.00     2005           0              61472         96128         20003         0              71.6715    \n",
       "30.00     2020           0              62448         97920         20177         0              214.823    \n",
       "30.00     2026           0              60832         100752        19857         0              103.014    \n",
       "30.00     2051           0              61968         96704         20133         0              38.5804    \n",
       "30.00     2198           86469113508488 65088         104160        20059         73752285724957 76.0236    \n",
       "30.00     2199           86469113652157 65664         109488        19839         73823341596728 142.404    \n",
       "30.00     2242           0              51632         98000         20281         0              59.2083    \n",
       "   ...\n",
       " (Total: 144120)"
      ]
     },
     "execution_count": 6,
     "metadata": {},
     "output_type": "execute_result"
    }
   ],
   "source": [
    "import datajoint_utils as du\n",
    "nucleus_table = du.configure_nucleus_table()\n",
    "nucleus_table"
   ]
  },
  {
   "cell_type": "code",
   "execution_count": 7,
   "metadata": {},
   "outputs": [
    {
     "name": "stderr",
     "output_type": "stream",
     "text": [
      "INFO - 2021-01-14 19:41:55,580 - settings - Setting enable_python_native_blobs to True\n",
      "INFO - 2021-01-14 19:41:55,842 - settings - Setting enable_python_native_blobs to True\n"
     ]
    }
   ],
   "source": [
    "minnie,schema = du.configure_minnie_vm()"
   ]
  },
  {
   "cell_type": "code",
   "execution_count": null,
   "metadata": {},
   "outputs": [],
   "source": [
    "decimation_version = 0\n",
    "decimation_ratio = 0.25\n",
    "verts_min = 10000\n",
    "current_version = 30\n",
    "\n",
    "key_source =  ((minnie.Decimation & f\"n_vertices > {verts_min}\").proj(decimation_version='version') & \n",
    "                        \"decimation_version=\" + str(decimation_version) &\n",
    "                   f\"decimation_ratio={decimation_ratio}\") & (dj.U(\"segment_id\") & (minnie.OldBaylorSegmentCentroid() & \"multiplicity<3\").proj()\n",
    "                                                             & (dj.U(\"segment_id\") & nucleus_table))\n",
    "key_source"
   ]
  },
  {
   "cell_type": "code",
   "execution_count": null,
   "metadata": {},
   "outputs": [],
   "source": [
    "new_seg_ids = (dj.U(\"segment_id\") & nucleus_table).fetch(\"segment_id\")"
   ]
  },
  {
   "cell_type": "code",
   "execution_count": null,
   "metadata": {},
   "outputs": [],
   "source": [
    "filtered_seg_ids = new_seg_ids[new_seg_ids!= 0]"
   ]
  },
  {
   "cell_type": "code",
   "execution_count": null,
   "metadata": {},
   "outputs": [],
   "source": [
    "filtered_seg_ids_dict = [dict(segment_id=k) for k in filtered_seg_ids]"
   ]
  },
  {
   "cell_type": "code",
   "execution_count": null,
   "metadata": {},
   "outputs": [],
   "source": [
    "@schema\n",
    "class NucleiSegmentsRun2(dj.Manual):\n",
    "    definition=\"\"\"\n",
    "    segment_id : bigint unsigned  #segment id for those to be decimated\n",
    "    \"\"\"\n",
    "    \n",
    "NucleiSegmentsRun2.insert(filtered_seg_ids_dict,skip_duplicates=True)"
   ]
  },
  {
   "cell_type": "markdown",
   "metadata": {},
   "source": [
    "# Figuring Out What Meshes we don't have"
   ]
  },
  {
   "cell_type": "code",
   "execution_count": 3,
   "metadata": {
    "collapsed": true,
    "jupyter": {
     "outputs_hidden": true
    }
   },
   "outputs": [
    {
     "data": {
      "text/html": [
       "\n",
       "        \n",
       "        <style type=\"text/css\">\n",
       "            .Relation{\n",
       "                border-collapse:collapse;\n",
       "            }\n",
       "            .Relation th{\n",
       "                background: #A0A0A0; color: #ffffff; padding:4px; border:#f0e0e0 1px solid;\n",
       "                font-weight: normal; font-family: monospace; font-size: 100%;\n",
       "            }\n",
       "            .Relation td{\n",
       "                padding:4px; border:#f0e0e0 1px solid; font-size:100%;\n",
       "            }\n",
       "            .Relation tr:nth-child(odd){\n",
       "                background: #ffffff;\n",
       "            }\n",
       "            .Relation tr:nth-child(even){\n",
       "                background: #f3f1ff;\n",
       "            }\n",
       "            /* Tooltip container */\n",
       "            .djtooltip {\n",
       "            }\n",
       "            /* Tooltip text */\n",
       "            .djtooltip .djtooltiptext {\n",
       "                visibility: hidden;\n",
       "                width: 120px;\n",
       "                background-color: black;\n",
       "                color: #fff;\n",
       "                text-align: center;\n",
       "                padding: 5px 0;\n",
       "                border-radius: 6px;\n",
       "                /* Position the tooltip text - see examples below! */\n",
       "                position: absolute;\n",
       "                z-index: 1;\n",
       "            }\n",
       "            #primary {\n",
       "                font-weight: bold;\n",
       "                color: black;\n",
       "            }\n",
       "\n",
       "            #nonprimary {\n",
       "                font-weight: normal;\n",
       "                color: white;\n",
       "            }\n",
       "\n",
       "            /* Show the tooltip text when you mouse over the tooltip container */\n",
       "            .djtooltip:hover .djtooltiptext {\n",
       "                visibility: visible;\n",
       "            }\n",
       "        </style>\n",
       "        \n",
       "        <b>Detailed information from each nucleus_id</b>\n",
       "            <div style=\"max-height:1000px;max-width:1500px;overflow:auto;\">\n",
       "            <table border=\"1\" class=\"Relation\">\n",
       "                <thead> <tr style=\"text-align: right;\"> <th> <div class=\"djtooltip\">\n",
       "                                <p id=\"primary\">ver</p>\n",
       "                                <span class=\"djtooltiptext\">materialization version</span>\n",
       "                            </div></th><th><div class=\"djtooltip\">\n",
       "                                <p id=\"primary\">nucleus_id</p>\n",
       "                                <span class=\"djtooltiptext\">id of nucleus from the flat segmentation  Equivalent to Allen: 'id'.</span>\n",
       "                            </div></th><th><div class=\"djtooltip\">\n",
       "                                <p id=\"primary\">segment_id</p>\n",
       "                                <span class=\"djtooltiptext\">id of the segment under the nucleus centroid. Equivalent to Allen 'pt_root_id'.</span>\n",
       "                            </div></th><th><div class=\"djtooltip\">\n",
       "                                <p id=\"nonprimary\">nucleus_x</p>\n",
       "                                <span class=\"djtooltiptext\">x coordinate of nucleus centroid in EM voxels (x: 4nm, y: 4nm, z: 40nm)</span>\n",
       "                            </div></th><th><div class=\"djtooltip\">\n",
       "                                <p id=\"nonprimary\">nucleus_y</p>\n",
       "                                <span class=\"djtooltiptext\">y coordinate of nucleus centroid in EM voxels (x: 4nm, y: 4nm, z: 40nm)</span>\n",
       "                            </div></th><th><div class=\"djtooltip\">\n",
       "                                <p id=\"nonprimary\">nucleus_z</p>\n",
       "                                <span class=\"djtooltiptext\">z coordinate of nucleus centroid in EM voxels (x: 4nm, y: 4nm, z: 40nm)</span>\n",
       "                            </div></th><th><div class=\"djtooltip\">\n",
       "                                <p id=\"nonprimary\">supervoxel_id</p>\n",
       "                                <span class=\"djtooltiptext\">id of the supervoxel under the nucleus centroid. Equivalent to Allen: 'pt_supervoxel_id'.</span>\n",
       "                            </div></th><th><div class=\"djtooltip\">\n",
       "                                <p id=\"nonprimary\">volume</p>\n",
       "                                <span class=\"djtooltiptext\">volume of the nucleus in um^3</span>\n",
       "                            </div> </th> </tr> </thead>\n",
       "                <tbody> <tr> <td>30.00</td>\n",
       "<td>1998</td>\n",
       "<td>864691136050815731</td>\n",
       "<td>59936</td>\n",
       "<td>105872</td>\n",
       "<td>20078</td>\n",
       "<td>72978435697419638</td>\n",
       "<td>137.669</td></tr><tr><td>30.00</td>\n",
       "<td>2198</td>\n",
       "<td>864691135084884330</td>\n",
       "<td>65088</td>\n",
       "<td>104160</td>\n",
       "<td>20059</td>\n",
       "<td>73752285724957558</td>\n",
       "<td>76.0236</td></tr><tr><td>30.00</td>\n",
       "<td>2199</td>\n",
       "<td>864691136521572241</td>\n",
       "<td>65664</td>\n",
       "<td>109488</td>\n",
       "<td>19839</td>\n",
       "<td>73823341596728836</td>\n",
       "<td>142.404</td></tr><tr><td>30.00</td>\n",
       "<td>2389</td>\n",
       "<td>864691135494586958</td>\n",
       "<td>58256</td>\n",
       "<td>103152</td>\n",
       "<td>20676</td>\n",
       "<td>72766985934597733</td>\n",
       "<td>50.0802</td></tr><tr><td>30.00</td>\n",
       "<td>2398</td>\n",
       "<td>864691136451074559</td>\n",
       "<td>58720</td>\n",
       "<td>109408</td>\n",
       "<td>20589</td>\n",
       "<td>72838179312529142</td>\n",
       "<td>131.664</td></tr><tr><td>30.00</td>\n",
       "<td>2433</td>\n",
       "<td>864691135524436073</td>\n",
       "<td>59968</td>\n",
       "<td>109952</td>\n",
       "<td>21002</td>\n",
       "<td>73049354331530450</td>\n",
       "<td>126.039</td></tr><tr><td>30.00</td>\n",
       "<td>3024</td>\n",
       "<td>864691135087399350</td>\n",
       "<td>57024</td>\n",
       "<td>103536</td>\n",
       "<td>21200</td>\n",
       "<td>72626248513279322</td>\n",
       "<td>238.007</td></tr><tr><td>30.00</td>\n",
       "<td>3117</td>\n",
       "<td>864691134684964653</td>\n",
       "<td>58512</td>\n",
       "<td>105424</td>\n",
       "<td>21317</td>\n",
       "<td>72837629623886011</td>\n",
       "<td>244.205</td></tr><tr><td>30.00</td>\n",
       "<td>3121</td>\n",
       "<td>864691132625568958</td>\n",
       "<td>57648</td>\n",
       "<td>103360</td>\n",
       "<td>21760</td>\n",
       "<td>72696617324576355</td>\n",
       "<td>30.9133</td></tr><tr><td>30.00</td>\n",
       "<td>3152</td>\n",
       "<td>864691135524409705</td>\n",
       "<td>58736</td>\n",
       "<td>107008</td>\n",
       "<td>21323</td>\n",
       "<td>72837835782285934</td>\n",
       "<td>47.1471</td></tr><tr><td>30.00</td>\n",
       "<td>3237</td>\n",
       "<td>864691135493381966</td>\n",
       "<td>61296</td>\n",
       "<td>107920</td>\n",
       "<td>21750</td>\n",
       "<td>73189817009212455</td>\n",
       "<td>28.67</td></tr><tr><td>30.00</td>\n",
       "<td>3384</td>\n",
       "<td>864691134917390346</td>\n",
       "<td>63216</td>\n",
       "<td>104112</td>\n",
       "<td>21404</td>\n",
       "<td>73470742163277945</td>\n",
       "<td>128.668</td> </tr> </tbody>\n",
       "            </table>\n",
       "            <p>...</p>\n",
       "            <p>Total: 129816</p></div>\n",
       "            "
      ],
      "text/plain": [
       "*ver      *nucleus_id    *segment_id    nucleus_x     nucleus_y     nucleus_z     supervoxel_id  volume     \n",
       "+-------+ +------------+ +------------+ +-----------+ +-----------+ +-----------+ +------------+ +---------+\n",
       "30.00     1998           86469113605081 59936         105872        20078         72978435697419 137.669    \n",
       "30.00     2198           86469113508488 65088         104160        20059         73752285724957 76.0236    \n",
       "30.00     2199           86469113652157 65664         109488        19839         73823341596728 142.404    \n",
       "30.00     2389           86469113549458 58256         103152        20676         72766985934597 50.0802    \n",
       "30.00     2398           86469113645107 58720         109408        20589         72838179312529 131.664    \n",
       "30.00     2433           86469113552443 59968         109952        21002         73049354331530 126.039    \n",
       "30.00     3024           86469113508739 57024         103536        21200         72626248513279 238.007    \n",
       "30.00     3117           86469113468496 58512         105424        21317         72837629623886 244.205    \n",
       "30.00     3121           86469113262556 57648         103360        21760         72696617324576 30.9133    \n",
       "30.00     3152           86469113552440 58736         107008        21323         72837835782285 47.1471    \n",
       "30.00     3237           86469113549338 61296         107920        21750         73189817009212 28.67      \n",
       "30.00     3384           86469113491739 63216         104112        21404         73470742163277 128.668    \n",
       "   ...\n",
       " (Total: 129816)"
      ]
     },
     "execution_count": 3,
     "metadata": {},
     "output_type": "execute_result"
    }
   ],
   "source": [
    "import datajoint as dj\n",
    "version = 30\n",
    "m65mat = dj.create_virtual_module('m65mat', 'microns_minnie65_materialization')\n",
    "nucleus_table_ids = m65mat.Nucleus.Info & {'ver': version} & \"segment_id>0\""
   ]
  },
  {
   "cell_type": "code",
   "execution_count": 10,
   "metadata": {},
   "outputs": [],
   "source": [
    "changed_ids = nucleus_table_ids.proj() - minnie.Segment"
   ]
  },
  {
   "cell_type": "code",
   "execution_count": 12,
   "metadata": {},
   "outputs": [
    {
     "data": {
      "text/plain": [
       "array([864691132625568958, 864691136119039313, 864691136723556861, ...,\n",
       "       864691134851052247, 864691134344325456, 864691136069916432])"
      ]
     },
     "execution_count": 12,
     "metadata": {},
     "output_type": "execute_result"
    }
   ],
   "source": [
    "need_to_download_mesh_ids = changed_ids.fetch(\"segment_id\")\n",
    "need_to_download_mesh_ids"
   ]
  },
  {
   "cell_type": "code",
   "execution_count": 13,
   "metadata": {},
   "outputs": [],
   "source": [
    "import numpy as np\n",
    "np.savez(\"Mesh_ids_to_Download.npz\",segment_ids=need_to_download_mesh_ids)"
   ]
  },
  {
   "cell_type": "code",
   "execution_count": 15,
   "metadata": {},
   "outputs": [
    {
     "data": {
      "text/plain": [
       "array([864691132625568958, 864691136119039313, 864691136723556861, ...,\n",
       "       864691134851052247, 864691134344325456, 864691136069916432])"
      ]
     },
     "execution_count": 15,
     "metadata": {},
     "output_type": "execute_result"
    }
   ],
   "source": [
    "np.load(\"Mesh_ids_to_Download.npz\",allow_pickle=True)[\"segment_ids\"]"
   ]
  },
  {
   "cell_type": "code",
   "execution_count": null,
   "metadata": {},
   "outputs": [],
   "source": []
  }
 ],
 "metadata": {
  "kernelspec": {
   "display_name": "Python 3",
   "language": "python",
   "name": "python3"
  },
  "language_info": {
   "codemirror_mode": {
    "name": "ipython",
    "version": 3
   },
   "file_extension": ".py",
   "mimetype": "text/x-python",
   "name": "python",
   "nbconvert_exporter": "python",
   "pygments_lexer": "ipython3",
   "version": "3.6.9"
  }
 },
 "nbformat": 4,
 "nbformat_minor": 4
}
