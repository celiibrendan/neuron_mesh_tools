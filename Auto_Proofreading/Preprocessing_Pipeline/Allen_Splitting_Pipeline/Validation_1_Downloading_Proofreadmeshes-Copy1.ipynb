{
 "cells": [
  {
   "cell_type": "code",
   "execution_count": null,
   "metadata": {},
   "outputs": [],
   "source": [
    "\"\"\"\n",
    "Purpose: To download meshes from allen and\n",
    "insert into segment and mesh table in database\n",
    "\n",
    "\"\"\""
   ]
  },
  {
   "cell_type": "code",
   "execution_count": 1,
   "metadata": {},
   "outputs": [],
   "source": [
    "%load_ext autoreload\n",
    "%autoreload 2"
   ]
  },
  {
   "cell_type": "code",
   "execution_count": 2,
   "metadata": {},
   "outputs": [],
   "source": [
    "from os import sys\n",
    "sys.path.append(\"/meshAfterParty/\")\n",
    "sys.path.append(\"/meshAfterParty/meshAfterParty\")"
   ]
  },
  {
   "cell_type": "code",
   "execution_count": 3,
   "metadata": {},
   "outputs": [
    {
     "name": "stderr",
     "output_type": "stream",
     "text": [
      "INFO - 2021-03-04 06:13:00,547 - settings - Setting database.host to at-database.ad.bcm.edu\n",
      "INFO - 2021-03-04 06:13:00,550 - settings - Setting database.user to celiib\n",
      "INFO - 2021-03-04 06:13:00,551 - settings - Setting database.password to newceliipass\n",
      "INFO - 2021-03-04 06:13:00,564 - settings - Setting stores to {'minnie65': {'protocol': 'file', 'location': '/mnt/dj-stor01/platinum/minnie65', 'stage': '/mnt/dj-stor01/platinum/minnie65'}, 'meshes': {'protocol': 'file', 'location': '/mnt/dj-stor01/platinum/minnie65/02/meshes', 'stage': '/mnt/dj-stor01/platinum/minnie65/02/meshes'}, 'decimated_meshes': {'protocol': 'file', 'location': '/mnt/dj-stor01/platinum/minnie65/02/decimated_meshes', 'stage': '/mnt/dj-stor01/platinum/minnie65/02/decimated_meshes'}, 'skeletons': {'protocol': 'file', 'location': '/mnt/dj-stor01/platinum/minnie65/02/skeletons'}}\n",
      "INFO - 2021-03-04 06:13:00,566 - settings - Setting enable_python_native_blobs to True\n",
      "INFO - 2021-03-04 06:13:00,581 - connection - Connected celiib@at-database.ad.bcm.edu:3306\n"
     ]
    },
    {
     "name": "stdout",
     "output_type": "stream",
     "text": [
      "Connecting celiib@at-database.ad.bcm.edu:3306\n"
     ]
    },
    {
     "name": "stderr",
     "output_type": "stream",
     "text": [
      "INFO - 2021-03-04 06:13:00,980 - settings - Setting enable_python_native_blobs to True\n",
      "INFO - 2021-03-04 06:13:00,984 - settings - Setting database.host to at-database.ad.bcm.edu\n",
      "INFO - 2021-03-04 06:13:00,986 - settings - Setting database.user to celiib\n",
      "INFO - 2021-03-04 06:13:00,987 - settings - Setting database.password to newceliipass\n",
      "INFO - 2021-03-04 06:13:00,988 - settings - Setting database.host to at-database.ad.bcm.edu\n",
      "INFO - 2021-03-04 06:13:00,989 - settings - Setting database.user to celiib\n",
      "INFO - 2021-03-04 06:13:00,990 - settings - Setting database.password to newceliipass\n",
      "INFO - 2021-03-04 06:13:00,993 - settings - Setting enable_python_native_blobs to True\n",
      "INFO - 2021-03-04 06:13:01,391 - settings - Setting enable_python_native_blobs to True\n"
     ]
    }
   ],
   "source": [
    "import datajoint_utils as du"
   ]
  },
  {
   "cell_type": "code",
   "execution_count": 4,
   "metadata": {},
   "outputs": [
    {
     "name": "stderr",
     "output_type": "stream",
     "text": [
      "INFO - 2021-03-04 06:13:01,501 - settings - Setting database.host to at-database.ad.bcm.edu\n",
      "INFO - 2021-03-04 06:13:01,501 - settings - Setting database.user to celiib\n",
      "INFO - 2021-03-04 06:13:01,502 - settings - Setting database.password to newceliipass\n",
      "INFO - 2021-03-04 06:13:01,503 - settings - Setting enable_python_native_blobs to True\n",
      "INFO - 2021-03-04 06:13:01,922 - settings - Setting enable_python_native_blobs to True\n"
     ]
    }
   ],
   "source": [
    "minnie,schema = du.configure_minnie_vm()"
   ]
  },
  {
   "cell_type": "markdown",
   "metadata": {},
   "source": [
    "# Segment to Fetch"
   ]
  },
  {
   "cell_type": "code",
   "execution_count": 5,
   "metadata": {},
   "outputs": [],
   "source": [
    "two_soma_segment_ids_new = [\n",
    "    \n",
    "864691136672813959,\n",
    "864691135472075826,\n",
    "864691136311833405,\n",
    "864691135564804951,\n",
    "864691135758491982,\n",
    "864691135945417764,\n",
    "864691135644807919,\n",
    "864691136008578990,\n",
    "864691135510515408,\n",
    "864691135815482447,\n",
    "864691136236730639,\n",
    "864691134988608634,\n",
    "864691135382990571,\n",
    "864691136617134811,\n",
    "864691135753592525,\n",
    "864691135841095907,\n",
    "864691136056568536,\n",
    "864691135609490439,\n",
    "864691135926327508,\n",
    "864691135474614848,\n",
    "864691135341057989,\n",
    "864691137196942401,\n",
    "864691135939404545,\n",
    "864691135155711844,\n",
    "864691136008496556,\n",
    "864691136008729518,\n",
    "864691135883914352,\n",
    "864691135345291423,\n",
    "864691136041004886,\n",
    "864691137196949569,\n",
    "864691135975576131,\n",
    "864691135463533125,\n",
    "864691135653543364,\n",
    "864691135373423816,\n",
    "864691135850470343,\n",
    "864691135210232512,\n",
    "864691135775809453,\n",
    "864691136486808850,\n",
    "864691136008511148,\n",
    "864691136031686843,\n",
    "864691135576995845,\n",
    "864691135490245479,\n",
    "864691136008436140,\n",
    "864691135571307557,\n",
    "864691135753669837,\n",
    "864691136090951092,\n",
    "864691135065024068,\n",
    "864691136922900452,\n",
    "864691135807230237,\n",
    "864691135373676873,\n",
    "864691135782479155,\n",
    "864691136922748900,\n",
    "864691135850464967,\n",
    "]\n",
    "\n",
    "three_soma_segment_ids_new = []"
   ]
  },
  {
   "cell_type": "code",
   "execution_count": 6,
   "metadata": {},
   "outputs": [
    {
     "data": {
      "text/plain": [
       "53"
      ]
     },
     "execution_count": 6,
     "metadata": {},
     "output_type": "execute_result"
    }
   ],
   "source": [
    "segment_ids = two_soma_segment_ids_new\n",
    "len(segment_ids)"
   ]
  },
  {
   "cell_type": "markdown",
   "metadata": {},
   "source": [
    "# Insert Segment IDs into a table that can control downstream analysis"
   ]
  },
  {
   "cell_type": "code",
   "execution_count": 8,
   "metadata": {},
   "outputs": [],
   "source": [
    "import datajoint as dj"
   ]
  },
  {
   "cell_type": "code",
   "execution_count": 9,
   "metadata": {},
   "outputs": [
    {
     "data": {
      "text/html": [
       "\n",
       "        \n",
       "        <style type=\"text/css\">\n",
       "            .Relation{\n",
       "                border-collapse:collapse;\n",
       "            }\n",
       "            .Relation th{\n",
       "                background: #A0A0A0; color: #ffffff; padding:4px; border:#f0e0e0 1px solid;\n",
       "                font-weight: normal; font-family: monospace; font-size: 100%;\n",
       "            }\n",
       "            .Relation td{\n",
       "                padding:4px; border:#f0e0e0 1px solid; font-size:100%;\n",
       "            }\n",
       "            .Relation tr:nth-child(odd){\n",
       "                background: #ffffff;\n",
       "            }\n",
       "            .Relation tr:nth-child(even){\n",
       "                background: #f3f1ff;\n",
       "            }\n",
       "            /* Tooltip container */\n",
       "            .djtooltip {\n",
       "            }\n",
       "            /* Tooltip text */\n",
       "            .djtooltip .djtooltiptext {\n",
       "                visibility: hidden;\n",
       "                width: 120px;\n",
       "                background-color: black;\n",
       "                color: #fff;\n",
       "                text-align: center;\n",
       "                padding: 5px 0;\n",
       "                border-radius: 6px;\n",
       "                /* Position the tooltip text - see examples below! */\n",
       "                position: absolute;\n",
       "                z-index: 1;\n",
       "            }\n",
       "            #primary {\n",
       "                font-weight: bold;\n",
       "                color: black;\n",
       "            }\n",
       "\n",
       "            #nonprimary {\n",
       "                font-weight: normal;\n",
       "                color: white;\n",
       "            }\n",
       "\n",
       "            /* Show the tooltip text when you mouse over the tooltip container */\n",
       "            .djtooltip:hover .djtooltiptext {\n",
       "                visibility: visible;\n",
       "            }\n",
       "        </style>\n",
       "        \n",
       "        <b></b>\n",
       "            <div style=\"max-height:1000px;max-width:1500px;overflow:auto;\">\n",
       "            <table border=\"1\" class=\"Relation\">\n",
       "                <thead> <tr style=\"text-align: right;\"> <th> <div class=\"djtooltip\">\n",
       "                                <p id=\"primary\">segment_id</p>\n",
       "                                <span class=\"djtooltiptext\">segment id for those to be decimated</span>\n",
       "                            </div></th><th><div class=\"djtooltip\">\n",
       "                                <p id=\"primary\">month</p>\n",
       "                                <span class=\"djtooltiptext\">the month that the cell was added</span>\n",
       "                            </div></th><th><div class=\"djtooltip\">\n",
       "                                <p id=\"primary\">day</p>\n",
       "                                <span class=\"djtooltiptext\">the day that the cell was added</span>\n",
       "                            </div></th><th><div class=\"djtooltip\">\n",
       "                                <p id=\"primary\">year</p>\n",
       "                                <span class=\"djtooltiptext\">the year that the cell was added</span>\n",
       "                            </div></th><th><div class=\"djtooltip\">\n",
       "                                <p id=\"nonprimary\">n_somas</p>\n",
       "                                <span class=\"djtooltiptext\">the number of somas associated with the neuron from the Allen Institute</span>\n",
       "                            </div> </th> </tr> </thead>\n",
       "                <tbody> <tr> <td>864691134964412191</td>\n",
       "<td>1</td>\n",
       "<td>28</td>\n",
       "<td>2021</td>\n",
       "<td>2</td></tr><tr><td>864691134988608634</td>\n",
       "<td>1</td>\n",
       "<td>28</td>\n",
       "<td>2021</td>\n",
       "<td>2</td></tr><tr><td>864691135012398582</td>\n",
       "<td>1</td>\n",
       "<td>28</td>\n",
       "<td>2021</td>\n",
       "<td>2</td></tr><tr><td>864691135065024068</td>\n",
       "<td>1</td>\n",
       "<td>28</td>\n",
       "<td>2021</td>\n",
       "<td>2</td></tr><tr><td>864691135155711844</td>\n",
       "<td>1</td>\n",
       "<td>28</td>\n",
       "<td>2021</td>\n",
       "<td>2</td></tr><tr><td>864691135162240557</td>\n",
       "<td>1</td>\n",
       "<td>28</td>\n",
       "<td>2021</td>\n",
       "<td>2</td></tr><tr><td>864691135210077120</td>\n",
       "<td>1</td>\n",
       "<td>28</td>\n",
       "<td>2021</td>\n",
       "<td>2</td></tr><tr><td>864691135210232512</td>\n",
       "<td>1</td>\n",
       "<td>28</td>\n",
       "<td>2021</td>\n",
       "<td>2</td></tr><tr><td>864691135341057989</td>\n",
       "<td>1</td>\n",
       "<td>28</td>\n",
       "<td>2021</td>\n",
       "<td>2</td></tr><tr><td>864691135341171909</td>\n",
       "<td>1</td>\n",
       "<td>28</td>\n",
       "<td>2021</td>\n",
       "<td>2</td></tr><tr><td>864691135341203141</td>\n",
       "<td>1</td>\n",
       "<td>28</td>\n",
       "<td>2021</td>\n",
       "<td>3</td></tr><tr><td>864691135345134239</td>\n",
       "<td>1</td>\n",
       "<td>28</td>\n",
       "<td>2021</td>\n",
       "<td>2</td> </tr> </tbody>\n",
       "            </table>\n",
       "            <p>...</p>\n",
       "            <p>Total: 101</p></div>\n",
       "            "
      ],
      "text/plain": [
       "*segment_id    *month    *day    *year    n_somas    \n",
       "+------------+ +-------+ +-----+ +------+ +---------+\n",
       "86469113496441 1         28      2021     2          \n",
       "86469113498860 1         28      2021     2          \n",
       "86469113501239 1         28      2021     2          \n",
       "86469113506502 1         28      2021     2          \n",
       "86469113515571 1         28      2021     2          \n",
       "86469113516224 1         28      2021     2          \n",
       "86469113521007 1         28      2021     2          \n",
       "86469113521023 1         28      2021     2          \n",
       "86469113534105 1         28      2021     2          \n",
       "86469113534117 1         28      2021     2          \n",
       "86469113534120 1         28      2021     3          \n",
       "86469113534513 1         28      2021     2          \n",
       "   ...\n",
       " (Total: 101)"
      ]
     },
     "execution_count": 9,
     "metadata": {},
     "output_type": "execute_result"
    }
   ],
   "source": [
    "@schema\n",
    "class AllenProofreading(dj.Manual):\n",
    "    definition=\"\"\"\n",
    "    segment_id : bigint unsigned  #segment id for those to be decimated\n",
    "    month: tinyint #the month that the cell was added\n",
    "    day: tinyint #the day that the cell was added \n",
    "    year: int unsigned  #the year that the cell was added\n",
    "    ---\n",
    "    n_somas : int #the number of somas associated with the neuron from the Allen Institute\n",
    "    \n",
    "    \"\"\"\n",
    "month = 1\n",
    "day = 28\n",
    "year = 2021\n",
    "\n",
    "double_somas =two_soma_segment_ids_new\n",
    "triple_somas = three_soma_segment_ids_new\n",
    "    \n",
    "dict_of_seg_2_soma = [dict(segment_id=k,n_somas=2,month=month,day=day,year=year) for k in double_somas]\n",
    "dict_of_seg_3_soma = [dict(segment_id=k,n_somas=3,month=month,day=day,year=year) for k in triple_somas]\n",
    "AllenProofreading.insert(dict_of_seg_2_soma + dict_of_seg_3_soma,skip_duplicates=True)\n",
    "AllenProofreading() & dict(month=1,day=28,year=2021)"
   ]
  },
  {
   "cell_type": "code",
   "execution_count": 15,
   "metadata": {},
   "outputs": [
    {
     "data": {
      "text/plain": [
       "array([864691135155711844, 864691135210232512, 864691135564804951,\n",
       "       864691135700441723, 864691135850470343, 864691136008729518,\n",
       "       864691136056568536, 864691136175165190, 864691136311803709,\n",
       "       864691136922900452])"
      ]
     },
     "execution_count": 15,
     "metadata": {},
     "output_type": "execute_result"
    }
   ],
   "source": [
    "missing_segment_ids = (minnie.AllenProofreading() - minnie.Mesh()).fetch(\"segment_id\")\n",
    "missing_segment_ids"
   ]
  },
  {
   "cell_type": "code",
   "execution_count": 16,
   "metadata": {},
   "outputs": [
    {
     "name": "stdout",
     "output_type": "stream",
     "text": [
      "target_dir = /mnt/dj-stor01/platinum/minnie65/02/meshes\n",
      "segment_ids = [864691135155711844 864691135210232512 864691135564804951\n",
      " 864691135700441723 864691135850470343 864691136008729518\n",
      " 864691136056568536 864691136175165190 864691136311803709\n",
      " 864691136922900452]\n",
      "overwrite = False\n",
      "Done in 228.336446 seconds.\n",
      "filepath = /mnt/dj-stor01/platinum/minnie65/02/meshes/864691135155711844.h5\n",
      "filepath = /mnt/dj-stor01/platinum/minnie65/02/meshes/864691135210232512.h5\n",
      "filepath = /mnt/dj-stor01/platinum/minnie65/02/meshes/864691135564804951.h5\n",
      "filepath = /mnt/dj-stor01/platinum/minnie65/02/meshes/864691135700441723.h5\n",
      "filepath = /mnt/dj-stor01/platinum/minnie65/02/meshes/864691135850470343.h5\n",
      "filepath = /mnt/dj-stor01/platinum/minnie65/02/meshes/864691136008729518.h5\n",
      "filepath = /mnt/dj-stor01/platinum/minnie65/02/meshes/864691136056568536.h5\n",
      "filepath = /mnt/dj-stor01/platinum/minnie65/02/meshes/864691136175165190.h5\n",
      "filepath = /mnt/dj-stor01/platinum/minnie65/02/meshes/864691136311803709.h5\n",
      "filepath = /mnt/dj-stor01/platinum/minnie65/02/meshes/864691136922900452.h5\n"
     ]
    }
   ],
   "source": [
    "du.download_and_insert_allen_meshes(missing_segment_ids,\n",
    "                                   n_threads=10)"
   ]
  },
  {
   "cell_type": "code",
   "execution_count": null,
   "metadata": {},
   "outputs": [],
   "source": []
  }
 ],
 "metadata": {
  "kernelspec": {
   "display_name": "Python 3",
   "language": "python",
   "name": "python3"
  },
  "language_info": {
   "codemirror_mode": {
    "name": "ipython",
    "version": 3
   },
   "file_extension": ".py",
   "mimetype": "text/x-python",
   "name": "python",
   "nbconvert_exporter": "python",
   "pygments_lexer": "ipython3",
   "version": "3.6.9"
  }
 },
 "nbformat": 4,
 "nbformat_minor": 4
}
