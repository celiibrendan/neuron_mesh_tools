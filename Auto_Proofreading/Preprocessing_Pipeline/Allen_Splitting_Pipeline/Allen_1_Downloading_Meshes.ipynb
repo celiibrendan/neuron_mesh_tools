{
 "cells": [
  {
   "cell_type": "code",
   "execution_count": null,
   "metadata": {},
   "outputs": [],
   "source": [
    "\"\"\"\n",
    "Purpose: To download meshes from allen and\n",
    "insert into segment and mesh table in database\n",
    "\n",
    "\"\"\""
   ]
  },
  {
   "cell_type": "code",
   "execution_count": 1,
   "metadata": {},
   "outputs": [],
   "source": [
    "%load_ext autoreload\n",
    "%autoreload 2"
   ]
  },
  {
   "cell_type": "code",
   "execution_count": 2,
   "metadata": {},
   "outputs": [],
   "source": [
    "from os import sys\n",
    "sys.path.append(\"/meshAfterParty/\")\n",
    "sys.path.append(\"/meshAfterParty/meshAfterParty\")"
   ]
  },
  {
   "cell_type": "code",
   "execution_count": 3,
   "metadata": {},
   "outputs": [
    {
     "name": "stderr",
     "output_type": "stream",
     "text": [
      "INFO - 2021-04-14 17:12:20,937 - settings - Setting database.host to at-database.ad.bcm.edu\n",
      "INFO - 2021-04-14 17:12:20,939 - settings - Setting database.user to celiib\n",
      "INFO - 2021-04-14 17:12:20,940 - settings - Setting database.password to newceliipass\n",
      "INFO - 2021-04-14 17:12:20,943 - settings - Setting stores to {'minnie65': {'protocol': 'file', 'location': '/mnt/dj-stor01/platinum/minnie65', 'stage': '/mnt/dj-stor01/platinum/minnie65'}, 'meshes': {'protocol': 'file', 'location': '/mnt/dj-stor01/platinum/minnie65/02/meshes', 'stage': '/mnt/dj-stor01/platinum/minnie65/02/meshes'}, 'decimated_meshes': {'protocol': 'file', 'location': '/mnt/dj-stor01/platinum/minnie65/02/decimated_meshes', 'stage': '/mnt/dj-stor01/platinum/minnie65/02/decimated_meshes'}, 'skeletons': {'protocol': 'file', 'location': '/mnt/dj-stor01/platinum/minnie65/02/skeletons'}}\n",
      "INFO - 2021-04-14 17:12:20,944 - settings - Setting enable_python_native_blobs to True\n",
      "INFO - 2021-04-14 17:12:20,957 - connection - Connected celiib@at-database.ad.bcm.edu:3306\n"
     ]
    },
    {
     "name": "stdout",
     "output_type": "stream",
     "text": [
      "Connecting celiib@at-database.ad.bcm.edu:3306\n"
     ]
    },
    {
     "name": "stderr",
     "output_type": "stream",
     "text": [
      "INFO - 2021-04-14 17:12:21,311 - settings - Setting enable_python_native_blobs to True\n",
      "INFO - 2021-04-14 17:12:21,314 - settings - Setting database.host to at-database.ad.bcm.edu\n",
      "INFO - 2021-04-14 17:12:21,315 - settings - Setting database.user to celiib\n",
      "INFO - 2021-04-14 17:12:21,316 - settings - Setting database.password to newceliipass\n",
      "INFO - 2021-04-14 17:12:21,316 - settings - Setting database.host to at-database.ad.bcm.edu\n",
      "INFO - 2021-04-14 17:12:21,317 - settings - Setting database.user to celiib\n",
      "INFO - 2021-04-14 17:12:21,317 - settings - Setting database.password to newceliipass\n",
      "INFO - 2021-04-14 17:12:21,320 - settings - Setting enable_python_native_blobs to True\n",
      "INFO - 2021-04-14 17:12:21,706 - settings - Setting enable_python_native_blobs to True\n"
     ]
    }
   ],
   "source": [
    "import datajoint_utils as du"
   ]
  },
  {
   "cell_type": "code",
   "execution_count": 4,
   "metadata": {},
   "outputs": [
    {
     "name": "stderr",
     "output_type": "stream",
     "text": [
      "INFO - 2021-04-14 17:12:21,823 - settings - Setting database.host to at-database.ad.bcm.edu\n",
      "INFO - 2021-04-14 17:12:21,824 - settings - Setting database.user to celiib\n",
      "INFO - 2021-04-14 17:12:21,825 - settings - Setting database.password to newceliipass\n",
      "INFO - 2021-04-14 17:12:21,827 - settings - Setting enable_python_native_blobs to True\n",
      "INFO - 2021-04-14 17:12:22,248 - settings - Setting enable_python_native_blobs to True\n"
     ]
    }
   ],
   "source": [
    "minnie,schema = du.configure_minnie_vm()"
   ]
  },
  {
   "cell_type": "markdown",
   "metadata": {},
   "source": [
    "# Segment to Fetch"
   ]
  },
  {
   "cell_type": "code",
   "execution_count": 6,
   "metadata": {},
   "outputs": [],
   "source": [
    "two_soma_segment_ids_new = [\n",
    "    \n",
    "864691136286740931,\n",
    "864691135590161419,\n",
    "864691136617170395,\n",
    "864691136370937224,\n",
    "864691135724471467,\n",
    "864691135538111858,\n",
    "864691135341029829,\n",
    "864691136617121243,\n",
    "864691135736940420,\n",
    "864691136237486908,\n",
    "864691135724472235,\n",
    "864691136436433054,\n",
    "864691135373423816,\n",
    "864691135748581673,\n",
    "864691135865548421,\n",
    "864691136194333772,\n",
    "864691135415490234,\n",
    "864691135497625875,\n",
    "864691135345208735,\n",
    "]\n",
    "\n",
    "three_soma_segment_ids_new = [\n",
    "864691136209271740,\n",
    "864691135617824143,\n",
    "864691135777347517,\n",
    "864691136521591953,\n",
    "864691136309709146,\n",
    "864691136089091639,\n",
    "864691136236789519,\n",
    "864691135345280671,\n",
    "864691135132762784,\n",
    "864691135462553757,\n",
    "864691135382504922,\n",
    "864691136922746852,\n",
    "864691136486811410,\n",
    "864691135730176441,\n",
    "864691135491253343,\n",
    "864691135501584194,\n",
    "864691135403793646,\n",
    "864691135937310468,\n",
    "864691135654122946,\n",
    "864691135081756919,\n",
    "864691135337764326,\n",
    "864691136309709658,\n",
    "864691136023802169,\n",
    "864691135340990917,\n",
    "864691136617169371,\n",
    "864691135462301853,\n",
    "864691135382719450,\n",
    "864691135462292893,\n",
    "864691135937302020,\n",
    "864691136617169883,\n",
    "864691137019583086,\n",
    "864691135589222386,\n",
    "864691135583731320,\n",
    "864691135474751296,\n",
    "864691135462454941,\n",
    "864691135753746381,\n",
    "864691135502074805,\n",
    "864691136041089110,\n",
    "]\n",
    "\n",
    "# New segments\n",
    "two_soma_segment_ids_new = [864691136099972213,\n",
    "864691135866815254,\n",
    "864691137197169985,\n",
    "864691137197156929,\n",
    "864691135569218694,\n",
    "864691135639122747,\n",
    "864691135864237182,\n",
    "864691136091193268,\n",
    "864691135493989520,\n",
    "864691135385570133,\n",
    "864691135866790422,\n",
    "864691135337768422,\n",
    "864691135748641321,\n",
    "864691136174990854,\n",
    "864691135373423816,\n",
    "864691136194189270,\n",
    "864691135873745550,\n",
    "864691135866807318,\n",
    "864691135777371837,\n",
    "864691135758712910,\n",
    "864691135657789570,\n",
    "864691135373605832]\n",
    "\n",
    "three_soma_segment_ids_new = []"
   ]
  },
  {
   "cell_type": "markdown",
   "metadata": {},
   "source": [
    "# Insert Segment IDs into a table that can control downstream analysis"
   ]
  },
  {
   "cell_type": "code",
   "execution_count": 7,
   "metadata": {},
   "outputs": [],
   "source": [
    "import datajoint as dj"
   ]
  },
  {
   "cell_type": "code",
   "execution_count": 8,
   "metadata": {},
   "outputs": [
    {
     "data": {
      "text/html": [
       "\n",
       "        \n",
       "        <style type=\"text/css\">\n",
       "            .Relation{\n",
       "                border-collapse:collapse;\n",
       "            }\n",
       "            .Relation th{\n",
       "                background: #A0A0A0; color: #ffffff; padding:4px; border:#f0e0e0 1px solid;\n",
       "                font-weight: normal; font-family: monospace; font-size: 100%;\n",
       "            }\n",
       "            .Relation td{\n",
       "                padding:4px; border:#f0e0e0 1px solid; font-size:100%;\n",
       "            }\n",
       "            .Relation tr:nth-child(odd){\n",
       "                background: #ffffff;\n",
       "            }\n",
       "            .Relation tr:nth-child(even){\n",
       "                background: #f3f1ff;\n",
       "            }\n",
       "            /* Tooltip container */\n",
       "            .djtooltip {\n",
       "            }\n",
       "            /* Tooltip text */\n",
       "            .djtooltip .djtooltiptext {\n",
       "                visibility: hidden;\n",
       "                width: 120px;\n",
       "                background-color: black;\n",
       "                color: #fff;\n",
       "                text-align: center;\n",
       "                padding: 5px 0;\n",
       "                border-radius: 6px;\n",
       "                /* Position the tooltip text - see examples below! */\n",
       "                position: absolute;\n",
       "                z-index: 1;\n",
       "            }\n",
       "            #primary {\n",
       "                font-weight: bold;\n",
       "                color: black;\n",
       "            }\n",
       "\n",
       "            #nonprimary {\n",
       "                font-weight: normal;\n",
       "                color: white;\n",
       "            }\n",
       "\n",
       "            /* Show the tooltip text when you mouse over the tooltip container */\n",
       "            .djtooltip:hover .djtooltiptext {\n",
       "                visibility: visible;\n",
       "            }\n",
       "        </style>\n",
       "        \n",
       "        <b></b>\n",
       "            <div style=\"max-height:1000px;max-width:1500px;overflow:auto;\">\n",
       "            <table border=\"1\" class=\"Relation\">\n",
       "                <thead> <tr style=\"text-align: right;\"> <th> <div class=\"djtooltip\">\n",
       "                                <p id=\"primary\">segment_id</p>\n",
       "                                <span class=\"djtooltiptext\">segment id for those to be decimated</span>\n",
       "                            </div></th><th><div class=\"djtooltip\">\n",
       "                                <p id=\"primary\">month</p>\n",
       "                                <span class=\"djtooltiptext\">the month that the cell was added</span>\n",
       "                            </div></th><th><div class=\"djtooltip\">\n",
       "                                <p id=\"primary\">day</p>\n",
       "                                <span class=\"djtooltiptext\">the day that the cell was added</span>\n",
       "                            </div></th><th><div class=\"djtooltip\">\n",
       "                                <p id=\"primary\">year</p>\n",
       "                                <span class=\"djtooltiptext\">the year that the cell was added</span>\n",
       "                            </div></th><th><div class=\"djtooltip\">\n",
       "                                <p id=\"nonprimary\">n_somas</p>\n",
       "                                <span class=\"djtooltiptext\">the number of somas associated with the neuron from the Allen Institute</span>\n",
       "                            </div> </th> </tr> </thead>\n",
       "                <tbody> <tr> <td>864691135337768422</td>\n",
       "<td>4</td>\n",
       "<td>14</td>\n",
       "<td>2021</td>\n",
       "<td>2</td></tr><tr><td>864691135373423816</td>\n",
       "<td>4</td>\n",
       "<td>14</td>\n",
       "<td>2021</td>\n",
       "<td>2</td></tr><tr><td>864691135373605832</td>\n",
       "<td>4</td>\n",
       "<td>14</td>\n",
       "<td>2021</td>\n",
       "<td>2</td></tr><tr><td>864691135385570133</td>\n",
       "<td>4</td>\n",
       "<td>14</td>\n",
       "<td>2021</td>\n",
       "<td>2</td></tr><tr><td>864691135493989520</td>\n",
       "<td>4</td>\n",
       "<td>14</td>\n",
       "<td>2021</td>\n",
       "<td>2</td></tr><tr><td>864691135569218694</td>\n",
       "<td>4</td>\n",
       "<td>14</td>\n",
       "<td>2021</td>\n",
       "<td>2</td></tr><tr><td>864691135639122747</td>\n",
       "<td>4</td>\n",
       "<td>14</td>\n",
       "<td>2021</td>\n",
       "<td>2</td></tr><tr><td>864691135657789570</td>\n",
       "<td>4</td>\n",
       "<td>14</td>\n",
       "<td>2021</td>\n",
       "<td>2</td></tr><tr><td>864691135748641321</td>\n",
       "<td>4</td>\n",
       "<td>14</td>\n",
       "<td>2021</td>\n",
       "<td>2</td></tr><tr><td>864691135758712910</td>\n",
       "<td>4</td>\n",
       "<td>14</td>\n",
       "<td>2021</td>\n",
       "<td>2</td></tr><tr><td>864691135777371837</td>\n",
       "<td>4</td>\n",
       "<td>14</td>\n",
       "<td>2021</td>\n",
       "<td>2</td></tr><tr><td>864691135864237182</td>\n",
       "<td>4</td>\n",
       "<td>14</td>\n",
       "<td>2021</td>\n",
       "<td>2</td> </tr> </tbody>\n",
       "            </table>\n",
       "            <p>...</p>\n",
       "            <p>Total: 22</p></div>\n",
       "            "
      ],
      "text/plain": [
       "*segment_id    *month    *day    *year    n_somas    \n",
       "+------------+ +-------+ +-----+ +------+ +---------+\n",
       "86469113533776 4         14      2021     2          \n",
       "86469113537342 4         14      2021     2          \n",
       "86469113537360 4         14      2021     2          \n",
       "86469113538557 4         14      2021     2          \n",
       "86469113549398 4         14      2021     2          \n",
       "86469113556921 4         14      2021     2          \n",
       "86469113563912 4         14      2021     2          \n",
       "86469113565778 4         14      2021     2          \n",
       "86469113574864 4         14      2021     2          \n",
       "86469113575871 4         14      2021     2          \n",
       "86469113577737 4         14      2021     2          \n",
       "86469113586423 4         14      2021     2          \n",
       "   ...\n",
       " (Total: 22)"
      ]
     },
     "execution_count": 8,
     "metadata": {},
     "output_type": "execute_result"
    }
   ],
   "source": [
    "@schema\n",
    "class AllenProofreading(dj.Manual):\n",
    "    definition=\"\"\"\n",
    "    segment_id : bigint unsigned  #segment id for those to be decimated\n",
    "    month: tinyint #the month that the cell was added\n",
    "    day: tinyint #the day that the cell was added \n",
    "    year: int unsigned  #the year that the cell was added\n",
    "    ---\n",
    "    n_somas : int #the number of somas associated with the neuron from the Allen Institute\n",
    "    \n",
    "    \"\"\"\n",
    "month = 4\n",
    "day = 14\n",
    "year = 2021\n",
    "\n",
    "double_somas =two_soma_segment_ids_new\n",
    "triple_somas = three_soma_segment_ids_new\n",
    "    \n",
    "dict_of_seg_2_soma = [dict(segment_id=k,n_somas=2,month=month,day=day,year=year) for k in double_somas]\n",
    "dict_of_seg_3_soma = [dict(segment_id=k,n_somas=3,month=month,day=day,year=year) for k in triple_somas]\n",
    "AllenProofreading.insert(dict_of_seg_2_soma + dict_of_seg_3_soma,skip_duplicates=True)\n",
    "AllenProofreading() & dict(month=month,day=day,year=year)"
   ]
  },
  {
   "cell_type": "code",
   "execution_count": 11,
   "metadata": {
    "scrolled": true
   },
   "outputs": [
    {
     "data": {
      "text/plain": [
       "array([], dtype=int64)"
      ]
     },
     "execution_count": 11,
     "metadata": {},
     "output_type": "execute_result"
    }
   ],
   "source": [
    "missing_segment_ids = (minnie.AllenProofreading() - minnie.Mesh()).fetch(\"segment_id\")\n",
    "missing_segment_ids"
   ]
  },
  {
   "cell_type": "code",
   "execution_count": 10,
   "metadata": {},
   "outputs": [
    {
     "name": "stdout",
     "output_type": "stream",
     "text": [
      "Done in 211.733817 seconds.\n"
     ]
    }
   ],
   "source": [
    "du.download_and_insert_allen_meshes(missing_segment_ids,\n",
    "                                   n_threads=6)"
   ]
  },
  {
   "cell_type": "code",
   "execution_count": null,
   "metadata": {},
   "outputs": [],
   "source": []
  }
 ],
 "metadata": {
  "kernelspec": {
   "display_name": "Python 3",
   "language": "python",
   "name": "python3"
  },
  "language_info": {
   "codemirror_mode": {
    "name": "ipython",
    "version": 3
   },
   "file_extension": ".py",
   "mimetype": "text/x-python",
   "name": "python",
   "nbconvert_exporter": "python",
   "pygments_lexer": "ipython3",
   "version": "3.6.9"
  }
 },
 "nbformat": 4,
 "nbformat_minor": 4
}
