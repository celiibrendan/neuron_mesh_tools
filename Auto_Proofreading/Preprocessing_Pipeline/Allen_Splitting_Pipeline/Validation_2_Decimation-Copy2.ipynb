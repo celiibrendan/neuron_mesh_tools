{
 "cells": [
  {
   "cell_type": "code",
   "execution_count": 1,
   "metadata": {},
   "outputs": [
    {
     "data": {
      "text/plain": [
       "'\\nPurpose: To decompose the multi-somas for splitting\\nusing the new decomposition method\\n\\n\\n\\n'"
      ]
     },
     "execution_count": 1,
     "metadata": {},
     "output_type": "execute_result"
    }
   ],
   "source": [
    "\"\"\"\n",
    "Purpose: To decompose the multi-somas for splitting\n",
    "using the new decomposition method\n",
    "\n",
    "\n",
    "\n",
    "\"\"\"\n"
   ]
  },
  {
   "cell_type": "code",
   "execution_count": 2,
   "metadata": {},
   "outputs": [
    {
     "name": "stderr",
     "output_type": "stream",
     "text": [
      "INFO - 2021-04-20 21:33:05,580 - settings - Setting database.host to at-database.ad.bcm.edu\n",
      "INFO - 2021-04-20 21:33:05,590 - settings - Setting database.user to celiib\n",
      "INFO - 2021-04-20 21:33:05,591 - settings - Setting database.password to newceliipass\n",
      "INFO - 2021-04-20 21:33:05,605 - settings - Setting stores to {'minnie65': {'protocol': 'file', 'location': '/mnt/dj-stor01/platinum/minnie65', 'stage': '/mnt/dj-stor01/platinum/minnie65'}, 'meshes': {'protocol': 'file', 'location': '/mnt/dj-stor01/platinum/minnie65/02/meshes', 'stage': '/mnt/dj-stor01/platinum/minnie65/02/meshes'}, 'decimated_meshes': {'protocol': 'file', 'location': '/mnt/dj-stor01/platinum/minnie65/02/decimated_meshes', 'stage': '/mnt/dj-stor01/platinum/minnie65/02/decimated_meshes'}, 'skeletons': {'protocol': 'file', 'location': '/mnt/dj-stor01/platinum/minnie65/02/skeletons'}}\n",
      "INFO - 2021-04-20 21:33:05,606 - settings - Setting enable_python_native_blobs to True\n",
      "INFO - 2021-04-20 21:33:05,621 - connection - Connected celiib@at-database.ad.bcm.edu:3306\n"
     ]
    },
    {
     "name": "stdout",
     "output_type": "stream",
     "text": [
      "Connecting celiib@at-database.ad.bcm.edu:3306\n"
     ]
    },
    {
     "name": "stderr",
     "output_type": "stream",
     "text": [
      "INFO - 2021-04-20 21:33:06,123 - settings - Setting enable_python_native_blobs to True\n",
      "INFO - 2021-04-20 21:33:06,127 - settings - Setting database.host to at-database.ad.bcm.edu\n",
      "INFO - 2021-04-20 21:33:06,129 - settings - Setting database.user to celiib\n",
      "INFO - 2021-04-20 21:33:06,130 - settings - Setting database.password to newceliipass\n",
      "INFO - 2021-04-20 21:33:06,130 - settings - Setting database.host to at-database.ad.bcm.edu\n",
      "INFO - 2021-04-20 21:33:06,131 - settings - Setting database.user to celiib\n",
      "INFO - 2021-04-20 21:33:06,132 - settings - Setting database.password to newceliipass\n",
      "INFO - 2021-04-20 21:33:06,133 - settings - Setting enable_python_native_blobs to True\n",
      "INFO - 2021-04-20 21:33:06,599 - settings - Setting enable_python_native_blobs to True\n"
     ]
    }
   ],
   "source": [
    "import numpy as np\n",
    "import datajoint as dj\n",
    "import trimesh\n",
    "from tqdm.notebook import tqdm\n",
    "from pathlib import Path\n",
    "\n",
    "from os import sys\n",
    "sys.path.append(\"/meshAfterParty/\")\n",
    "sys.path.append(\"/meshAfterParty/meshAfterParty/\")\n",
    "\n",
    "\n",
    "import datajoint_utils as du\n",
    "from importlib import reload"
   ]
  },
  {
   "cell_type": "code",
   "execution_count": 3,
   "metadata": {},
   "outputs": [],
   "source": [
    "test_mode = True"
   ]
  },
  {
   "cell_type": "code",
   "execution_count": 4,
   "metadata": {},
   "outputs": [
    {
     "name": "stderr",
     "output_type": "stream",
     "text": [
      "INFO - 2021-04-20 21:33:06,693 - settings - Setting database.host to at-database.ad.bcm.edu\n",
      "INFO - 2021-04-20 21:33:06,693 - settings - Setting database.user to celiib\n",
      "INFO - 2021-04-20 21:33:06,694 - settings - Setting database.password to newceliipass\n",
      "INFO - 2021-04-20 21:33:06,696 - settings - Setting database.host to at-database.ad.bcm.edu\n",
      "INFO - 2021-04-20 21:33:06,697 - settings - Setting database.user to celiib\n",
      "INFO - 2021-04-20 21:33:06,698 - settings - Setting database.password to newceliipass\n",
      "INFO - 2021-04-20 21:33:06,702 - settings - Setting enable_python_native_blobs to True\n"
     ]
    },
    {
     "name": "stdout",
     "output_type": "stream",
     "text": [
      "Sleeping 109 sec before conneting\n",
      "Done sleeping\n",
      "Current path for external_segmentation_path = /mnt/dj-stor01/platinum/minnie65/02\n",
      "Current path for external_mesh_path = /mnt/dj-stor01/platinum/minnie65/02/meshes\n",
      "Current path for external_decimated_mesh_path = /mnt/dj-stor01/platinum/minnie65/02/decimated_meshes\n",
      "Current path for external_skeleton_path = /mnt/dj-stor01/platinum/minnie65/02/skeletons\n"
     ]
    },
    {
     "name": "stderr",
     "output_type": "stream",
     "text": [
      "INFO - 2021-04-20 21:33:07,241 - settings - Setting enable_python_native_blobs to True\n"
     ]
    }
   ],
   "source": [
    "import minfig\n",
    "import time\n",
    "import numpy as np\n",
    "#want to add in a wait for the connection part\n",
    "random_sleep_sec = np.random.randint(0, 200)\n",
    "print(f\"Sleeping {random_sleep_sec} sec before conneting\")\n",
    "if not test_mode:\n",
    "    time.sleep(random_sleep_sec)\n",
    "print(\"Done sleeping\")\n",
    "\n",
    "du.config_celii()\n",
    "du.set_minnie65_config_segmentation(minfig)\n",
    "du.print_minnie65_config_paths(minfig)\n",
    "\n",
    "#configuring will include the adapters\n",
    "minnie,schema = du.configure_minnie_vm()"
   ]
  },
  {
   "cell_type": "markdown",
   "metadata": {},
   "source": [
    "# Defining the Table"
   ]
  },
  {
   "cell_type": "code",
   "execution_count": 5,
   "metadata": {},
   "outputs": [],
   "source": [
    "import neuron_utils as nru\n",
    "import neuron\n",
    "import trimesh_utils as tu\n",
    "import numpy as np"
   ]
  },
  {
   "cell_type": "code",
   "execution_count": 6,
   "metadata": {},
   "outputs": [
    {
     "name": "stdout",
     "output_type": "stream",
     "text": [
      "No port chosen so picked random port 1328\n"
     ]
    }
   ],
   "source": [
    "import meshlab\n",
    "meshlab.set_meshlab_port(current_port=None)\n",
    "temporary_folder = 'decimation_temp'\n",
    "meshlab_scripts = {}"
   ]
  },
  {
   "cell_type": "code",
   "execution_count": 7,
   "metadata": {},
   "outputs": [],
   "source": [
    "#so that it will have the adapter defined\n",
    "from datajoint_utils import *"
   ]
  },
  {
   "cell_type": "code",
   "execution_count": 8,
   "metadata": {},
   "outputs": [],
   "source": [
    "# key_source = minnie.Mesh.proj() * (minnie.DecimationConfig & 'decimation_ratio=0.25') & (minnie.AllenProofreading() & dict(month=3,day=18,year=2021)).proj()\n",
    "# minnie.Decimation() & key_source"
   ]
  },
  {
   "cell_type": "code",
   "execution_count": 9,
   "metadata": {},
   "outputs": [],
   "source": [
    "import numpy as np\n",
    "import time\n",
    "decimation_version = 0\n",
    "decimation_ratio = 0.25\n",
    "\n",
    "from minfig.minnie65_config import external_decimated_mesh_path\n",
    "\n",
    "@schema\n",
    "class Decimation(dj.Computed):\n",
    "#     definition = minnie.Decimation.describe(printout=False)\n",
    "    key_source = minnie.Mesh.proj() * (minnie.DecimationConfig & 'decimation_ratio=0.25') & (minnie.AutoProofreadValidationSegmentMap() - minnie.Decimation()).proj()\n",
    "\n",
    "    # Creates hf file at the proper location, returns the filepath of the newly created file\n",
    "    @classmethod\n",
    "    def make_file(cls, segment_id, version, decimation_ratio, vertices, faces):\n",
    "        \"\"\"Creates hf file at the proper location, returns the filepath of the newly created file\"\"\"\n",
    "\n",
    "        assert vertices.ndim == 2 and vertices.shape[1] == 3\n",
    "        assert faces.ndim == 2 and faces.shape[1] == 3\n",
    "\n",
    "        filename = f'{segment_id}_{version}_{int(decimation_ratio*100):02}.h5'\n",
    "        filepath = os.path.join(external_decimated_mesh_path, filename)\n",
    "        with h5py.File(filepath, 'w') as hf:\n",
    "            hf.create_dataset('segment_id', data=segment_id)\n",
    "            hf.create_dataset('version', data=version)\n",
    "            hf.create_dataset('decimation_ratio', data=float(decimation_ratio))\n",
    "            hf.create_dataset('vertices', data=vertices)\n",
    "            hf.create_dataset('faces', data=faces)\n",
    "\n",
    "        return filepath\n",
    "\n",
    "    @classmethod\n",
    "    def make_entry(cls, segment_id, version, decimation_ratio, vertices, faces):\n",
    "        key = dict(\n",
    "            segment_id=segment_id,\n",
    "            version=version,\n",
    "            decimation_ratio=decimation_ratio,\n",
    "            n_vertices=len(vertices),\n",
    "            n_faces=len(faces)\n",
    "        )\n",
    "\n",
    "        filepath = cls.make_file(segment_id, version, decimation_ratio, vertices, faces)\n",
    "\n",
    "        cls.insert1(dict(key, mesh=filepath), allow_direct_insert=True)\n",
    "\n",
    "    \n",
    "\n",
    "    def make(self, key):\n",
    "        print(key)\n",
    "        mesh = (minnie.Mesh & key).fetch1('mesh')\n",
    "        segment_id = key['segment_id']\n",
    "        version = key['version']\n",
    "        decimation_ratio = key['decimation_ratio']\n",
    "        print(f\"Mesh size: n_vertices = {len(mesh.vertices)}, n_faces = {len(mesh.faces)}\")\n",
    "\n",
    "        if decimation_ratio not in meshlab_scripts:\n",
    "            meshlab_scripts[decimation_ratio] = meshlab.Decimator(decimation_ratio, temporary_folder, overwrite=False)\n",
    "        mls_func = meshlab_scripts[decimation_ratio]\n",
    "\n",
    "        try:\n",
    "            expected_filepath = os.path.join(external_decimated_mesh_path, f'{segment_id}_{version}.h5')\n",
    "            if not os.path.isfile(expected_filepath):\n",
    "                new_mesh, _path = mls_func(mesh.vertices, mesh.faces, segment_id)\n",
    "                new_vertices, new_faces = new_mesh.vertices, new_mesh.faces\n",
    "\n",
    "                self.make_entry(\n",
    "                    segment_id=segment_id,\n",
    "                    version=version,\n",
    "                    decimation_ratio=decimation_ratio,\n",
    "                    vertices=new_vertices,\n",
    "                    faces=new_faces,\n",
    "                    )\n",
    "            else:\n",
    "                print('File already exists.')\n",
    "                with h5py.File(expected_filepath, 'r') as hf:\n",
    "                    vertices = hf['vertices'][()].astype(np.float64)\n",
    "                    faces = hf['faces'][()].reshape(-1, 3).astype(np.uint32)\n",
    "                self.insert1(dict(key, n_vertices=len(vertices), n_faces=len(faces), mesh=expected_filepath), allow_direct_insert=True)\n",
    "        except Exception as e:\n",
    "            minnie.DecimationError.insert1(dict(key, log=str(e)))\n",
    "            print(e)\n",
    "            raise e\n",
    "    "
   ]
  },
  {
   "cell_type": "markdown",
   "metadata": {},
   "source": [
    "# Running the Populate"
   ]
  },
  {
   "cell_type": "code",
   "execution_count": 10,
   "metadata": {},
   "outputs": [
    {
     "data": {
      "text/html": [
       "\n",
       "        \n",
       "        <style type=\"text/css\">\n",
       "            .Relation{\n",
       "                border-collapse:collapse;\n",
       "            }\n",
       "            .Relation th{\n",
       "                background: #A0A0A0; color: #ffffff; padding:4px; border:#f0e0e0 1px solid;\n",
       "                font-weight: normal; font-family: monospace; font-size: 100%;\n",
       "            }\n",
       "            .Relation td{\n",
       "                padding:4px; border:#f0e0e0 1px solid; font-size:100%;\n",
       "            }\n",
       "            .Relation tr:nth-child(odd){\n",
       "                background: #ffffff;\n",
       "            }\n",
       "            .Relation tr:nth-child(even){\n",
       "                background: #f3f1ff;\n",
       "            }\n",
       "            /* Tooltip container */\n",
       "            .djtooltip {\n",
       "            }\n",
       "            /* Tooltip text */\n",
       "            .djtooltip .djtooltiptext {\n",
       "                visibility: hidden;\n",
       "                width: 120px;\n",
       "                background-color: black;\n",
       "                color: #fff;\n",
       "                text-align: center;\n",
       "                padding: 5px 0;\n",
       "                border-radius: 6px;\n",
       "                /* Position the tooltip text - see examples below! */\n",
       "                position: absolute;\n",
       "                z-index: 1;\n",
       "            }\n",
       "            #primary {\n",
       "                font-weight: bold;\n",
       "                color: black;\n",
       "            }\n",
       "\n",
       "            #nonprimary {\n",
       "                font-weight: normal;\n",
       "                color: white;\n",
       "            }\n",
       "\n",
       "            /* Show the tooltip text when you mouse over the tooltip container */\n",
       "            .djtooltip:hover .djtooltiptext {\n",
       "                visibility: visible;\n",
       "            }\n",
       "        </style>\n",
       "        \n",
       "        <b>job reservation table for `microns_minnie65_02`</b>\n",
       "            <div style=\"max-height:1000px;max-width:1500px;overflow:auto;\">\n",
       "            <table border=\"1\" class=\"Relation\">\n",
       "                <thead> <tr style=\"text-align: right;\"> <th> <div class=\"djtooltip\">\n",
       "                                <p id=\"primary\">table_name</p>\n",
       "                                <span class=\"djtooltiptext\">className of the table</span>\n",
       "                            </div></th><th><div class=\"djtooltip\">\n",
       "                                <p id=\"primary\">key_hash</p>\n",
       "                                <span class=\"djtooltiptext\">key hash</span>\n",
       "                            </div></th><th><div class=\"djtooltip\">\n",
       "                                <p id=\"nonprimary\">status</p>\n",
       "                                <span class=\"djtooltiptext\">if tuple is missing, the job is available</span>\n",
       "                            </div></th><th><div class=\"djtooltip\">\n",
       "                                <p id=\"nonprimary\">key</p>\n",
       "                                <span class=\"djtooltiptext\">structure containing the key</span>\n",
       "                            </div></th><th><div class=\"djtooltip\">\n",
       "                                <p id=\"nonprimary\">error_message</p>\n",
       "                                <span class=\"djtooltiptext\">error message returned if failed</span>\n",
       "                            </div></th><th><div class=\"djtooltip\">\n",
       "                                <p id=\"nonprimary\">error_stack</p>\n",
       "                                <span class=\"djtooltiptext\">error stack if failed</span>\n",
       "                            </div></th><th><div class=\"djtooltip\">\n",
       "                                <p id=\"nonprimary\">user</p>\n",
       "                                <span class=\"djtooltiptext\">database user</span>\n",
       "                            </div></th><th><div class=\"djtooltip\">\n",
       "                                <p id=\"nonprimary\">host</p>\n",
       "                                <span class=\"djtooltiptext\">system hostname</span>\n",
       "                            </div></th><th><div class=\"djtooltip\">\n",
       "                                <p id=\"nonprimary\">pid</p>\n",
       "                                <span class=\"djtooltiptext\">system process id</span>\n",
       "                            </div></th><th><div class=\"djtooltip\">\n",
       "                                <p id=\"nonprimary\">connection_id</p>\n",
       "                                <span class=\"djtooltiptext\">connection_id()</span>\n",
       "                            </div></th><th><div class=\"djtooltip\">\n",
       "                                <p id=\"nonprimary\">timestamp</p>\n",
       "                                <span class=\"djtooltiptext\">automatic timestamp</span>\n",
       "                            </div> </th> </tr> </thead>\n",
       "                <tbody> <tr> <td>__decimation</td>\n",
       "<td>525d81733304ef871b498d6d6e46fd6f</td>\n",
       "<td>reserved</td>\n",
       "<td>=BLOB=</td>\n",
       "<td></td>\n",
       "<td>=BLOB=</td>\n",
       "<td>celiib@10.28.0.83</td>\n",
       "<td>at-compute004</td>\n",
       "<td>411016</td>\n",
       "<td>340463</td>\n",
       "<td>2021-04-20 16:27:02</td></tr><tr><td>__decimation</td>\n",
       "<td>62287bfa3ef2e61c5c30977d8e2abe38</td>\n",
       "<td>reserved</td>\n",
       "<td>=BLOB=</td>\n",
       "<td></td>\n",
       "<td>=BLOB=</td>\n",
       "<td>celiib@10.28.0.83</td>\n",
       "<td>at-compute004</td>\n",
       "<td>411196</td>\n",
       "<td>340465</td>\n",
       "<td>2021-04-20 16:27:55</td> </tr> </tbody>\n",
       "            </table>\n",
       "            \n",
       "            <p>Total: 2</p></div>\n",
       "            "
      ],
      "text/plain": [
       "*table_name    *key_hash      status       key        error_message  error_stac user           host           pid        connection_id  timestamp     \n",
       "+------------+ +------------+ +----------+ +--------+ +------------+ +--------+ +------------+ +------------+ +--------+ +------------+ +------------+\n",
       "__decimation   525d81733304ef reserved     =BLOB=                    =BLOB=     celiib@10.28.0 at-compute004  411016     340463         2021-04-20 16:\n",
       "__decimation   62287bfa3ef2e6 reserved     =BLOB=                    =BLOB=     celiib@10.28.0 at-compute004  411196     340465         2021-04-20 16:\n",
       " (Total: 2)"
      ]
     },
     "execution_count": 10,
     "metadata": {},
     "output_type": "execute_result"
    }
   ],
   "source": [
    "curr_table = (minnie.schema.jobs & \"table_name='__decimation'\")\n",
    "curr_table\n",
    "#curr_table.delete()\n",
    "#curr_table.delete()\n",
    "#curr_table.delete()"
   ]
  },
  {
   "cell_type": "code",
   "execution_count": 11,
   "metadata": {},
   "outputs": [
    {
     "name": "stderr",
     "output_type": "stream",
     "text": [
      "INFO - 2021-04-20 21:33:07,400 - autopopulate - Found 6 keys to populate\n",
      "INFO - 2021-04-20 21:33:07,418 - connection - Transaction started\n",
      "INFO - 2021-04-20 21:33:07,421 - autopopulate - Populating: {'segment_id': 864691135415666362, 'version': 0, 'decimation_ratio': Decimal('0.25')}\n"
     ]
    },
    {
     "name": "stdout",
     "output_type": "stream",
     "text": [
      "Populate Started\n",
      "{'segment_id': 864691135415666362, 'version': 0, 'decimation_ratio': Decimal('0.25')}\n",
      "Mesh size: n_vertices = 6204866, n_faces = 12383225\n",
      "xvfb-run -n 1328 -s \"-screen 0 800x600x24\" meshlabserver $@  -i /neuron_mesh_tools/Auto_Proofreading/Preprocessing_Pipeline/Allen_Splitting_Pipeline/decimation_temp/neuron_864691135415666362.off -o /neuron_mesh_tools/Auto_Proofreading/Preprocessing_Pipeline/Allen_Splitting_Pipeline/decimation_temp/neuron_864691135415666362_decimated.off -s /neuron_mesh_tools/Auto_Proofreading/Preprocessing_Pipeline/Allen_Splitting_Pipeline/decimation_temp/decimation_meshlab_25212761.mls\n",
      "removed temporary input file: /neuron_mesh_tools/Auto_Proofreading/Preprocessing_Pipeline/Allen_Splitting_Pipeline/decimation_temp/neuron_864691135415666362.off\n",
      "removed temporary output file: /neuron_mesh_tools/Auto_Proofreading/Preprocessing_Pipeline/Allen_Splitting_Pipeline/decimation_temp/neuron_864691135415666362_decimated.off\n"
     ]
    },
    {
     "name": "stderr",
     "output_type": "stream",
     "text": [
      "INFO - 2021-04-20 21:47:09,125 - connection - Transaction committed and closed.\n",
      "INFO - 2021-04-20 21:47:09,134 - connection - Transaction started\n",
      "INFO - 2021-04-20 21:47:09,137 - connection - Transaction cancelled. Rolling back ...\n",
      "INFO - 2021-04-20 21:47:09,146 - connection - Transaction started\n",
      "INFO - 2021-04-20 21:47:09,149 - connection - Transaction cancelled. Rolling back ...\n"
     ]
    },
    {
     "name": "stdout",
     "output_type": "stream",
     "text": [
      "Populate Done\n",
      "Total time for Decimation populate = 841.7719411849976\n"
     ]
    }
   ],
   "source": [
    "import time\n",
    "import random\n",
    "\n",
    "start_time = time.time()\n",
    "if not test_mode:\n",
    "    time.sleep(random.randint(0, 800))\n",
    "print('Populate Started')\n",
    "if not test_mode:\n",
    "    Decimation.populate(reserve_jobs=True, suppress_errors=True)\n",
    "else:\n",
    "    Decimation.populate(reserve_jobs=True, suppress_errors=False)\n",
    "print('Populate Done')\n",
    "\n",
    "print(f\"Total time for Decimation populate = {time.time() - start_time}\")"
   ]
  },
  {
   "cell_type": "code",
   "execution_count": null,
   "metadata": {},
   "outputs": [],
   "source": []
  }
 ],
 "metadata": {
  "kernelspec": {
   "display_name": "Python 3",
   "language": "python",
   "name": "python3"
  },
  "language_info": {
   "codemirror_mode": {
    "name": "ipython",
    "version": 3
   },
   "file_extension": ".py",
   "mimetype": "text/x-python",
   "name": "python",
   "nbconvert_exporter": "python",
   "pygments_lexer": "ipython3",
   "version": "3.6.9"
  }
 },
 "nbformat": 4,
 "nbformat_minor": 4
}
