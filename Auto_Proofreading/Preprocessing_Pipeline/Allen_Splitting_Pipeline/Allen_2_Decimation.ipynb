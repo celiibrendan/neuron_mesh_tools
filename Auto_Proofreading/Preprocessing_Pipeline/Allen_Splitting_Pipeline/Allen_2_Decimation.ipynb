{
 "cells": [
  {
   "cell_type": "code",
   "execution_count": null,
   "metadata": {},
   "outputs": [],
   "source": [
    "\"\"\"\n",
    "Purpose: To decompose the multi-somas for splitting\n",
    "using the new decomposition method\n",
    "\n",
    "\n",
    "\n",
    "\"\"\"\n"
   ]
  },
  {
   "cell_type": "code",
   "execution_count": 1,
   "metadata": {},
   "outputs": [
    {
     "name": "stderr",
     "output_type": "stream",
     "text": [
      "INFO - 2021-03-18 22:34:43,605 - settings - Setting database.host to at-database.ad.bcm.edu\n",
      "INFO - 2021-03-18 22:34:43,607 - settings - Setting database.user to celiib\n",
      "INFO - 2021-03-18 22:34:43,608 - settings - Setting database.password to newceliipass\n",
      "INFO - 2021-03-18 22:34:43,620 - settings - Setting stores to {'minnie65': {'protocol': 'file', 'location': '/mnt/dj-stor01/platinum/minnie65', 'stage': '/mnt/dj-stor01/platinum/minnie65'}, 'meshes': {'protocol': 'file', 'location': '/mnt/dj-stor01/platinum/minnie65/02/meshes', 'stage': '/mnt/dj-stor01/platinum/minnie65/02/meshes'}, 'decimated_meshes': {'protocol': 'file', 'location': '/mnt/dj-stor01/platinum/minnie65/02/decimated_meshes', 'stage': '/mnt/dj-stor01/platinum/minnie65/02/decimated_meshes'}, 'skeletons': {'protocol': 'file', 'location': '/mnt/dj-stor01/platinum/minnie65/02/skeletons'}}\n",
      "INFO - 2021-03-18 22:34:43,622 - settings - Setting enable_python_native_blobs to True\n",
      "INFO - 2021-03-18 22:34:43,637 - connection - Connected celiib@at-database.ad.bcm.edu:3306\n"
     ]
    },
    {
     "name": "stdout",
     "output_type": "stream",
     "text": [
      "Connecting celiib@at-database.ad.bcm.edu:3306\n"
     ]
    },
    {
     "name": "stderr",
     "output_type": "stream",
     "text": [
      "INFO - 2021-03-18 22:34:43,985 - settings - Setting enable_python_native_blobs to True\n",
      "INFO - 2021-03-18 22:34:43,989 - settings - Setting database.host to at-database.ad.bcm.edu\n",
      "INFO - 2021-03-18 22:34:43,990 - settings - Setting database.user to celiib\n",
      "INFO - 2021-03-18 22:34:43,991 - settings - Setting database.password to newceliipass\n",
      "INFO - 2021-03-18 22:34:43,992 - settings - Setting database.host to at-database.ad.bcm.edu\n",
      "INFO - 2021-03-18 22:34:43,992 - settings - Setting database.user to celiib\n",
      "INFO - 2021-03-18 22:34:43,993 - settings - Setting database.password to newceliipass\n",
      "INFO - 2021-03-18 22:34:43,995 - settings - Setting enable_python_native_blobs to True\n",
      "INFO - 2021-03-18 22:34:44,378 - settings - Setting enable_python_native_blobs to True\n"
     ]
    }
   ],
   "source": [
    "import numpy as np\n",
    "import datajoint as dj\n",
    "import trimesh\n",
    "from tqdm.notebook import tqdm\n",
    "from pathlib import Path\n",
    "\n",
    "from os import sys\n",
    "sys.path.append(\"/meshAfterParty/\")\n",
    "sys.path.append(\"/meshAfterParty/meshAfterParty/\")\n",
    "\n",
    "\n",
    "import datajoint_utils as du\n",
    "from importlib import reload"
   ]
  },
  {
   "cell_type": "code",
   "execution_count": 2,
   "metadata": {},
   "outputs": [],
   "source": [
    "test_mode = True"
   ]
  },
  {
   "cell_type": "code",
   "execution_count": 3,
   "metadata": {},
   "outputs": [
    {
     "name": "stderr",
     "output_type": "stream",
     "text": [
      "INFO - 2021-03-18 22:34:44,454 - settings - Setting database.host to at-database.ad.bcm.edu\n",
      "INFO - 2021-03-18 22:34:44,455 - settings - Setting database.user to celiib\n",
      "INFO - 2021-03-18 22:34:44,456 - settings - Setting database.password to newceliipass\n",
      "INFO - 2021-03-18 22:34:44,457 - settings - Setting database.host to at-database.ad.bcm.edu\n",
      "INFO - 2021-03-18 22:34:44,458 - settings - Setting database.user to celiib\n",
      "INFO - 2021-03-18 22:34:44,459 - settings - Setting database.password to newceliipass\n",
      "INFO - 2021-03-18 22:34:44,461 - settings - Setting enable_python_native_blobs to True\n"
     ]
    },
    {
     "name": "stdout",
     "output_type": "stream",
     "text": [
      "Sleeping 32 sec before conneting\n",
      "Done sleeping\n",
      "Current path for external_segmentation_path = /mnt/dj-stor01/platinum/minnie65/02\n",
      "Current path for external_mesh_path = /mnt/dj-stor01/platinum/minnie65/02/meshes\n",
      "Current path for external_decimated_mesh_path = /mnt/dj-stor01/platinum/minnie65/02/decimated_meshes\n",
      "Current path for external_skeleton_path = /mnt/dj-stor01/platinum/minnie65/02/skeletons\n"
     ]
    },
    {
     "name": "stderr",
     "output_type": "stream",
     "text": [
      "INFO - 2021-03-18 22:34:44,881 - settings - Setting enable_python_native_blobs to True\n"
     ]
    }
   ],
   "source": [
    "import minfig\n",
    "import time\n",
    "import numpy as np\n",
    "#want to add in a wait for the connection part\n",
    "random_sleep_sec = np.random.randint(0, 200)\n",
    "print(f\"Sleeping {random_sleep_sec} sec before conneting\")\n",
    "if not test_mode:\n",
    "    time.sleep(random_sleep_sec)\n",
    "print(\"Done sleeping\")\n",
    "\n",
    "du.config_celii()\n",
    "du.set_minnie65_config_segmentation(minfig)\n",
    "du.print_minnie65_config_paths(minfig)\n",
    "\n",
    "#configuring will include the adapters\n",
    "minnie,schema = du.configure_minnie_vm()"
   ]
  },
  {
   "cell_type": "markdown",
   "metadata": {},
   "source": [
    "# Defining the Table"
   ]
  },
  {
   "cell_type": "code",
   "execution_count": 4,
   "metadata": {},
   "outputs": [],
   "source": [
    "import neuron_utils as nru\n",
    "import neuron\n",
    "import trimesh_utils as tu\n",
    "import numpy as np"
   ]
  },
  {
   "cell_type": "code",
   "execution_count": 5,
   "metadata": {},
   "outputs": [
    {
     "name": "stdout",
     "output_type": "stream",
     "text": [
      "No port chosen so picked random port 9558\n"
     ]
    }
   ],
   "source": [
    "import meshlab\n",
    "meshlab.set_meshlab_port(current_port=None)\n",
    "temporary_folder = 'decimation_temp'\n",
    "meshlab_scripts = {}"
   ]
  },
  {
   "cell_type": "code",
   "execution_count": 6,
   "metadata": {},
   "outputs": [],
   "source": [
    "#so that it will have the adapter defined\n",
    "from datajoint_utils import *"
   ]
  },
  {
   "cell_type": "code",
   "execution_count": 7,
   "metadata": {},
   "outputs": [
    {
     "data": {
      "text/html": [
       "\n",
       "        \n",
       "        <style type=\"text/css\">\n",
       "            .Relation{\n",
       "                border-collapse:collapse;\n",
       "            }\n",
       "            .Relation th{\n",
       "                background: #A0A0A0; color: #ffffff; padding:4px; border:#f0e0e0 1px solid;\n",
       "                font-weight: normal; font-family: monospace; font-size: 100%;\n",
       "            }\n",
       "            .Relation td{\n",
       "                padding:4px; border:#f0e0e0 1px solid; font-size:100%;\n",
       "            }\n",
       "            .Relation tr:nth-child(odd){\n",
       "                background: #ffffff;\n",
       "            }\n",
       "            .Relation tr:nth-child(even){\n",
       "                background: #f3f1ff;\n",
       "            }\n",
       "            /* Tooltip container */\n",
       "            .djtooltip {\n",
       "            }\n",
       "            /* Tooltip text */\n",
       "            .djtooltip .djtooltiptext {\n",
       "                visibility: hidden;\n",
       "                width: 120px;\n",
       "                background-color: black;\n",
       "                color: #fff;\n",
       "                text-align: center;\n",
       "                padding: 5px 0;\n",
       "                border-radius: 6px;\n",
       "                /* Position the tooltip text - see examples below! */\n",
       "                position: absolute;\n",
       "                z-index: 1;\n",
       "            }\n",
       "            #primary {\n",
       "                font-weight: bold;\n",
       "                color: black;\n",
       "            }\n",
       "\n",
       "            #nonprimary {\n",
       "                font-weight: normal;\n",
       "                color: white;\n",
       "            }\n",
       "\n",
       "            /* Show the tooltip text when you mouse over the tooltip container */\n",
       "            .djtooltip:hover .djtooltiptext {\n",
       "                visibility: visible;\n",
       "            }\n",
       "        </style>\n",
       "        \n",
       "        <b>Decimated meshes</b>\n",
       "            <div style=\"max-height:1000px;max-width:1500px;overflow:auto;\">\n",
       "            <table border=\"1\" class=\"Relation\">\n",
       "                <thead> <tr style=\"text-align: right;\"> <th> <div class=\"djtooltip\">\n",
       "                                <p id=\"primary\">segment_id</p>\n",
       "                                <span class=\"djtooltiptext\">segment id unique within each Segmentation</span>\n",
       "                            </div></th><th><div class=\"djtooltip\">\n",
       "                                <p id=\"primary\">version</p>\n",
       "                                <span class=\"djtooltiptext\"></span>\n",
       "                            </div></th><th><div class=\"djtooltip\">\n",
       "                                <p id=\"primary\">decimation_ratio</p>\n",
       "                                <span class=\"djtooltiptext\">ratio of remaining mesh vertices/faces (which ones depends on what metric the decimation technique uses)</span>\n",
       "                            </div></th><th><div class=\"djtooltip\">\n",
       "                                <p id=\"nonprimary\">n_vertices</p>\n",
       "                                <span class=\"djtooltiptext\"></span>\n",
       "                            </div></th><th><div class=\"djtooltip\">\n",
       "                                <p id=\"nonprimary\">n_faces</p>\n",
       "                                <span class=\"djtooltiptext\"></span>\n",
       "                            </div></th><th><div class=\"djtooltip\">\n",
       "                                <p id=\"nonprimary\">mesh</p>\n",
       "                                <span class=\"djtooltiptext\">in-place path to the hdf5 (decimated) mesh file</span>\n",
       "                            </div> </th> </tr> </thead>\n",
       "                <tbody> <tr> <td>864691135081756919</td>\n",
       "<td>0</td>\n",
       "<td>0.25</td>\n",
       "<td>2990029</td>\n",
       "<td>6102497</td>\n",
       "<td>=BLOB=</td></tr><tr><td>864691135337764326</td>\n",
       "<td>0</td>\n",
       "<td>0.25</td>\n",
       "<td>1657003</td>\n",
       "<td>3339842</td>\n",
       "<td>=BLOB=</td></tr><tr><td>864691135340990917</td>\n",
       "<td>0</td>\n",
       "<td>0.25</td>\n",
       "<td>1028903</td>\n",
       "<td>2083646</td>\n",
       "<td>=BLOB=</td></tr><tr><td>864691135341029829</td>\n",
       "<td>0</td>\n",
       "<td>0.25</td>\n",
       "<td>1408282</td>\n",
       "<td>2835919</td>\n",
       "<td>=BLOB=</td></tr><tr><td>864691135345208735</td>\n",
       "<td>0</td>\n",
       "<td>0.25</td>\n",
       "<td>1755370</td>\n",
       "<td>3532920</td>\n",
       "<td>=BLOB=</td></tr><tr><td>864691135345280671</td>\n",
       "<td>0</td>\n",
       "<td>0.25</td>\n",
       "<td>2631717</td>\n",
       "<td>5309289</td>\n",
       "<td>=BLOB=</td></tr><tr><td>864691135373423816</td>\n",
       "<td>0</td>\n",
       "<td>0.25</td>\n",
       "<td>3383405</td>\n",
       "<td>6837747</td>\n",
       "<td>=BLOB=</td></tr><tr><td>864691135382504922</td>\n",
       "<td>0</td>\n",
       "<td>0.25</td>\n",
       "<td>1778136</td>\n",
       "<td>3607784</td>\n",
       "<td>=BLOB=</td></tr><tr><td>864691135382719450</td>\n",
       "<td>0</td>\n",
       "<td>0.25</td>\n",
       "<td>2268160</td>\n",
       "<td>4584441</td>\n",
       "<td>=BLOB=</td></tr><tr><td>864691135403793646</td>\n",
       "<td>0</td>\n",
       "<td>0.25</td>\n",
       "<td>1272236</td>\n",
       "<td>2608554</td>\n",
       "<td>=BLOB=</td></tr><tr><td>864691135415490234</td>\n",
       "<td>0</td>\n",
       "<td>0.25</td>\n",
       "<td>1066684</td>\n",
       "<td>2168849</td>\n",
       "<td>=BLOB=</td></tr><tr><td>864691135462292893</td>\n",
       "<td>0</td>\n",
       "<td>0.25</td>\n",
       "<td>2078498</td>\n",
       "<td>4191949</td>\n",
       "<td>=BLOB=</td> </tr> </tbody>\n",
       "            </table>\n",
       "            <p>...</p>\n",
       "            <p>Total: 51</p></div>\n",
       "            "
      ],
      "text/plain": [
       "*segment_id    *version    *decimation_ra n_vertices     n_faces     mesh      \n",
       "+------------+ +---------+ +------------+ +------------+ +---------+ +--------+\n",
       "86469113508175 0           0.25           2990029        6102497     =BLOB=    \n",
       "86469113533776 0           0.25           1657003        3339842     =BLOB=    \n",
       "86469113534099 0           0.25           1028903        2083646     =BLOB=    \n",
       "86469113534102 0           0.25           1408282        2835919     =BLOB=    \n",
       "86469113534520 0           0.25           1755370        3532920     =BLOB=    \n",
       "86469113534528 0           0.25           2631717        5309289     =BLOB=    \n",
       "86469113537342 0           0.25           3383405        6837747     =BLOB=    \n",
       "86469113538250 0           0.25           1778136        3607784     =BLOB=    \n",
       "86469113538271 0           0.25           2268160        4584441     =BLOB=    \n",
       "86469113540379 0           0.25           1272236        2608554     =BLOB=    \n",
       "86469113541549 0           0.25           1066684        2168849     =BLOB=    \n",
       "86469113546229 0           0.25           2078498        4191949     =BLOB=    \n",
       "   ...\n",
       " (Total: 51)"
      ]
     },
     "execution_count": 7,
     "metadata": {},
     "output_type": "execute_result"
    }
   ],
   "source": [
    "# key_source = minnie.Mesh.proj() * (minnie.DecimationConfig & 'decimation_ratio=0.25') & (minnie.AllenProofreading() & dict(month=3,day=18,year=2021)).proj()\n",
    "# minnie.Decimation() & key_source"
   ]
  },
  {
   "cell_type": "code",
   "execution_count": 10,
   "metadata": {},
   "outputs": [],
   "source": [
    "import numpy as np\n",
    "import time\n",
    "decimation_version = 0\n",
    "decimation_ratio = 0.25\n",
    "\n",
    "from minfig.minnie65_config import external_decimated_mesh_path\n",
    "\n",
    "@schema\n",
    "class Decimation(dj.Computed):\n",
    "#     definition = minnie.Decimation.describe(printout=False)\n",
    "    key_source = minnie.Mesh.proj() * (minnie.DecimationConfig & 'decimation_ratio=0.25') & (minnie.AllenProofreading() & dict(month=3,day=18,year=2021)).proj()\n",
    "\n",
    "    # Creates hf file at the proper location, returns the filepath of the newly created file\n",
    "    @classmethod\n",
    "    def make_file(cls, segment_id, version, decimation_ratio, vertices, faces):\n",
    "        \"\"\"Creates hf file at the proper location, returns the filepath of the newly created file\"\"\"\n",
    "\n",
    "        assert vertices.ndim == 2 and vertices.shape[1] == 3\n",
    "        assert faces.ndim == 2 and faces.shape[1] == 3\n",
    "\n",
    "        filename = f'{segment_id}_{version}_{int(decimation_ratio*100):02}.h5'\n",
    "        filepath = os.path.join(external_decimated_mesh_path, filename)\n",
    "        with h5py.File(filepath, 'w') as hf:\n",
    "            hf.create_dataset('segment_id', data=segment_id)\n",
    "            hf.create_dataset('version', data=version)\n",
    "            hf.create_dataset('decimation_ratio', data=float(decimation_ratio))\n",
    "            hf.create_dataset('vertices', data=vertices)\n",
    "            hf.create_dataset('faces', data=faces)\n",
    "\n",
    "        return filepath\n",
    "\n",
    "    @classmethod\n",
    "    def make_entry(cls, segment_id, version, decimation_ratio, vertices, faces):\n",
    "        key = dict(\n",
    "            segment_id=segment_id,\n",
    "            version=version,\n",
    "            decimation_ratio=decimation_ratio,\n",
    "            n_vertices=len(vertices),\n",
    "            n_faces=len(faces)\n",
    "        )\n",
    "\n",
    "        filepath = cls.make_file(segment_id, version, decimation_ratio, vertices, faces)\n",
    "\n",
    "        cls.insert1(dict(key, mesh=filepath), allow_direct_insert=True)\n",
    "\n",
    "    \n",
    "\n",
    "    def make(self, key):\n",
    "        print(key)\n",
    "        mesh = (minnie.Mesh & key).fetch1('mesh')\n",
    "        segment_id = key['segment_id']\n",
    "        version = key['version']\n",
    "        decimation_ratio = key['decimation_ratio']\n",
    "        print(f\"Mesh size: n_vertices = {len(mesh.vertices)}, n_faces = {len(mesh.faces)}\")\n",
    "\n",
    "        if decimation_ratio not in meshlab_scripts:\n",
    "            meshlab_scripts[decimation_ratio] = meshlab.Decimator(decimation_ratio, temporary_folder, overwrite=False)\n",
    "        mls_func = meshlab_scripts[decimation_ratio]\n",
    "\n",
    "        try:\n",
    "            expected_filepath = os.path.join(external_decimated_mesh_path, f'{segment_id}_{version}.h5')\n",
    "            if not os.path.isfile(expected_filepath):\n",
    "                new_mesh, _path = mls_func(mesh.vertices, mesh.faces, segment_id)\n",
    "                new_vertices, new_faces = new_mesh.vertices, new_mesh.faces\n",
    "\n",
    "                self.make_entry(\n",
    "                    segment_id=segment_id,\n",
    "                    version=version,\n",
    "                    decimation_ratio=decimation_ratio,\n",
    "                    vertices=new_vertices,\n",
    "                    faces=new_faces,\n",
    "                    )\n",
    "            else:\n",
    "                print('File already exists.')\n",
    "                with h5py.File(expected_filepath, 'r') as hf:\n",
    "                    vertices = hf['vertices'][()].astype(np.float64)\n",
    "                    faces = hf['faces'][()].reshape(-1, 3).astype(np.uint32)\n",
    "                self.insert1(dict(key, n_vertices=len(vertices), n_faces=len(faces), mesh=expected_filepath), allow_direct_insert=True)\n",
    "        except Exception as e:\n",
    "            minnie.DecimationError.insert1(dict(key, log=str(e)))\n",
    "            print(e)\n",
    "            raise e\n",
    "    "
   ]
  },
  {
   "cell_type": "markdown",
   "metadata": {},
   "source": [
    "# Running the Populate"
   ]
  },
  {
   "cell_type": "code",
   "execution_count": 12,
   "metadata": {},
   "outputs": [],
   "source": [
    "curr_table = (minnie.schema.jobs & \"table_name='__decimation'\")\n",
    "#curr_table.delete()\n",
    "#curr_table.delete()\n",
    "#curr_table.delete()"
   ]
  },
  {
   "cell_type": "code",
   "execution_count": 13,
   "metadata": {},
   "outputs": [
    {
     "name": "stderr",
     "output_type": "stream",
     "text": [
      "INFO - 2021-03-18 22:35:53,186 - autopopulate - Found 6 keys to populate\n",
      "INFO - 2021-03-18 22:35:53,196 - connection - Transaction started\n",
      "INFO - 2021-03-18 22:35:53,198 - autopopulate - Populating: {'segment_id': 864691135132762784, 'version': 0, 'decimation_ratio': Decimal('0.25')}\n"
     ]
    },
    {
     "name": "stdout",
     "output_type": "stream",
     "text": [
      "Populate Started\n",
      "{'segment_id': 864691135132762784, 'version': 0, 'decimation_ratio': Decimal('0.25')}\n",
      "Mesh size: n_vertices = 3924249, n_faces = 7826112\n",
      "xvfb-run -n 9558 -s \"-screen 0 800x600x24\" meshlabserver $@  -i /neuron_mesh_tools/Auto_Proofreading/Preprocessing_Pipeline/Allen_Splitting_Pipeline/decimation_temp/neuron_864691135132762784.off -o /neuron_mesh_tools/Auto_Proofreading/Preprocessing_Pipeline/Allen_Splitting_Pipeline/decimation_temp/neuron_864691135132762784_decimated.off -s /neuron_mesh_tools/Auto_Proofreading/Preprocessing_Pipeline/Allen_Splitting_Pipeline/decimation_temp/decimation_meshlab_25800615.mls\n",
      "removed temporary input file: /neuron_mesh_tools/Auto_Proofreading/Preprocessing_Pipeline/Allen_Splitting_Pipeline/decimation_temp/neuron_864691135132762784.off\n",
      "removed temporary output file: /neuron_mesh_tools/Auto_Proofreading/Preprocessing_Pipeline/Allen_Splitting_Pipeline/decimation_temp/neuron_864691135132762784_decimated.off\n"
     ]
    },
    {
     "name": "stderr",
     "output_type": "stream",
     "text": [
      "INFO - 2021-03-18 22:40:04,425 - connection - Transaction committed and closed.\n",
      "INFO - 2021-03-18 22:40:04,431 - connection - Transaction started\n",
      "INFO - 2021-03-18 22:40:04,433 - autopopulate - Populating: {'segment_id': 864691135462553757, 'version': 0, 'decimation_ratio': Decimal('0.25')}\n"
     ]
    },
    {
     "name": "stdout",
     "output_type": "stream",
     "text": [
      "{'segment_id': 864691135462553757, 'version': 0, 'decimation_ratio': Decimal('0.25')}\n",
      "Mesh size: n_vertices = 5373896, n_faces = 10720724\n",
      "xvfb-run -n 9558 -s \"-screen 0 800x600x24\" meshlabserver $@  -i /neuron_mesh_tools/Auto_Proofreading/Preprocessing_Pipeline/Allen_Splitting_Pipeline/decimation_temp/neuron_864691135462553757.off -o /neuron_mesh_tools/Auto_Proofreading/Preprocessing_Pipeline/Allen_Splitting_Pipeline/decimation_temp/neuron_864691135462553757_decimated.off -s /neuron_mesh_tools/Auto_Proofreading/Preprocessing_Pipeline/Allen_Splitting_Pipeline/decimation_temp/decimation_meshlab_25800615.mls\n",
      "removed temporary input file: /neuron_mesh_tools/Auto_Proofreading/Preprocessing_Pipeline/Allen_Splitting_Pipeline/decimation_temp/neuron_864691135462553757.off\n",
      "removed temporary output file: /neuron_mesh_tools/Auto_Proofreading/Preprocessing_Pipeline/Allen_Splitting_Pipeline/decimation_temp/neuron_864691135462553757_decimated.off\n"
     ]
    },
    {
     "name": "stderr",
     "output_type": "stream",
     "text": [
      "INFO - 2021-03-18 22:46:07,391 - connection - Transaction committed and closed.\n",
      "INFO - 2021-03-18 22:46:07,398 - connection - Transaction started\n",
      "INFO - 2021-03-18 22:46:07,401 - autopopulate - Populating: {'segment_id': 864691135590161419, 'version': 0, 'decimation_ratio': Decimal('0.25')}\n"
     ]
    },
    {
     "name": "stdout",
     "output_type": "stream",
     "text": [
      "{'segment_id': 864691135590161419, 'version': 0, 'decimation_ratio': Decimal('0.25')}\n",
      "Mesh size: n_vertices = 5495209, n_faces = 10969411\n",
      "xvfb-run -n 9558 -s \"-screen 0 800x600x24\" meshlabserver $@  -i /neuron_mesh_tools/Auto_Proofreading/Preprocessing_Pipeline/Allen_Splitting_Pipeline/decimation_temp/neuron_864691135590161419.off -o /neuron_mesh_tools/Auto_Proofreading/Preprocessing_Pipeline/Allen_Splitting_Pipeline/decimation_temp/neuron_864691135590161419_decimated.off -s /neuron_mesh_tools/Auto_Proofreading/Preprocessing_Pipeline/Allen_Splitting_Pipeline/decimation_temp/decimation_meshlab_25800615.mls\n",
      "removed temporary input file: /neuron_mesh_tools/Auto_Proofreading/Preprocessing_Pipeline/Allen_Splitting_Pipeline/decimation_temp/neuron_864691135590161419.off\n",
      "removed temporary output file: /neuron_mesh_tools/Auto_Proofreading/Preprocessing_Pipeline/Allen_Splitting_Pipeline/decimation_temp/neuron_864691135590161419_decimated.off\n"
     ]
    },
    {
     "name": "stderr",
     "output_type": "stream",
     "text": [
      "INFO - 2021-03-18 22:53:33,576 - connection - Transaction committed and closed.\n",
      "INFO - 2021-03-18 22:53:33,582 - connection - Transaction started\n",
      "INFO - 2021-03-18 22:53:33,584 - autopopulate - Populating: {'segment_id': 864691135724471467, 'version': 0, 'decimation_ratio': Decimal('0.25')}\n"
     ]
    },
    {
     "name": "stdout",
     "output_type": "stream",
     "text": [
      "{'segment_id': 864691135724471467, 'version': 0, 'decimation_ratio': Decimal('0.25')}\n",
      "Mesh size: n_vertices = 8732039, n_faces = 17490011\n",
      "xvfb-run -n 9558 -s \"-screen 0 800x600x24\" meshlabserver $@  -i /neuron_mesh_tools/Auto_Proofreading/Preprocessing_Pipeline/Allen_Splitting_Pipeline/decimation_temp/neuron_864691135724471467.off -o /neuron_mesh_tools/Auto_Proofreading/Preprocessing_Pipeline/Allen_Splitting_Pipeline/decimation_temp/neuron_864691135724471467_decimated.off -s /neuron_mesh_tools/Auto_Proofreading/Preprocessing_Pipeline/Allen_Splitting_Pipeline/decimation_temp/decimation_meshlab_25800615.mls\n",
      "removed temporary input file: /neuron_mesh_tools/Auto_Proofreading/Preprocessing_Pipeline/Allen_Splitting_Pipeline/decimation_temp/neuron_864691135724471467.off\n",
      "removed temporary output file: /neuron_mesh_tools/Auto_Proofreading/Preprocessing_Pipeline/Allen_Splitting_Pipeline/decimation_temp/neuron_864691135724471467_decimated.off\n"
     ]
    },
    {
     "name": "stderr",
     "output_type": "stream",
     "text": [
      "INFO - 2021-03-18 23:03:25,922 - connection - Transaction committed and closed.\n",
      "INFO - 2021-03-18 23:03:25,934 - connection - Transaction started\n",
      "INFO - 2021-03-18 23:03:25,936 - autopopulate - Populating: {'segment_id': 864691135724472235, 'version': 0, 'decimation_ratio': Decimal('0.25')}\n"
     ]
    },
    {
     "name": "stdout",
     "output_type": "stream",
     "text": [
      "{'segment_id': 864691135724472235, 'version': 0, 'decimation_ratio': Decimal('0.25')}\n",
      "Mesh size: n_vertices = 5350036, n_faces = 10674521\n",
      "xvfb-run -n 9558 -s \"-screen 0 800x600x24\" meshlabserver $@  -i /neuron_mesh_tools/Auto_Proofreading/Preprocessing_Pipeline/Allen_Splitting_Pipeline/decimation_temp/neuron_864691135724472235.off -o /neuron_mesh_tools/Auto_Proofreading/Preprocessing_Pipeline/Allen_Splitting_Pipeline/decimation_temp/neuron_864691135724472235_decimated.off -s /neuron_mesh_tools/Auto_Proofreading/Preprocessing_Pipeline/Allen_Splitting_Pipeline/decimation_temp/decimation_meshlab_25800615.mls\n",
      "removed temporary input file: /neuron_mesh_tools/Auto_Proofreading/Preprocessing_Pipeline/Allen_Splitting_Pipeline/decimation_temp/neuron_864691135724472235.off\n",
      "removed temporary output file: /neuron_mesh_tools/Auto_Proofreading/Preprocessing_Pipeline/Allen_Splitting_Pipeline/decimation_temp/neuron_864691135724472235_decimated.off\n"
     ]
    },
    {
     "name": "stderr",
     "output_type": "stream",
     "text": [
      "INFO - 2021-03-18 23:09:30,577 - connection - Transaction committed and closed.\n",
      "INFO - 2021-03-18 23:09:30,601 - connection - Transaction started\n",
      "INFO - 2021-03-18 23:09:30,603 - autopopulate - Populating: {'segment_id': 864691136286740931, 'version': 0, 'decimation_ratio': Decimal('0.25')}\n"
     ]
    },
    {
     "name": "stdout",
     "output_type": "stream",
     "text": [
      "{'segment_id': 864691136286740931, 'version': 0, 'decimation_ratio': Decimal('0.25')}\n",
      "Mesh size: n_vertices = 2467636, n_faces = 4930980\n",
      "xvfb-run -n 9558 -s \"-screen 0 800x600x24\" meshlabserver $@  -i /neuron_mesh_tools/Auto_Proofreading/Preprocessing_Pipeline/Allen_Splitting_Pipeline/decimation_temp/neuron_864691136286740931.off -o /neuron_mesh_tools/Auto_Proofreading/Preprocessing_Pipeline/Allen_Splitting_Pipeline/decimation_temp/neuron_864691136286740931_decimated.off -s /neuron_mesh_tools/Auto_Proofreading/Preprocessing_Pipeline/Allen_Splitting_Pipeline/decimation_temp/decimation_meshlab_25800615.mls\n",
      "removed temporary input file: /neuron_mesh_tools/Auto_Proofreading/Preprocessing_Pipeline/Allen_Splitting_Pipeline/decimation_temp/neuron_864691136286740931.off\n",
      "removed temporary output file: /neuron_mesh_tools/Auto_Proofreading/Preprocessing_Pipeline/Allen_Splitting_Pipeline/decimation_temp/neuron_864691136286740931_decimated.off\n"
     ]
    },
    {
     "name": "stderr",
     "output_type": "stream",
     "text": [
      "INFO - 2021-03-18 23:12:05,763 - connection - Transaction committed and closed.\n"
     ]
    },
    {
     "name": "stdout",
     "output_type": "stream",
     "text": [
      "Populate Done\n",
      "Total time for Decimation populate = 2172.5972883701324\n"
     ]
    }
   ],
   "source": [
    "import time\n",
    "import random\n",
    "\n",
    "start_time = time.time()\n",
    "if not test_mode:\n",
    "    time.sleep(random.randint(0, 800))\n",
    "print('Populate Started')\n",
    "if not test_mode:\n",
    "    Decimation.populate(reserve_jobs=True, suppress_errors=True)\n",
    "else:\n",
    "    Decimation.populate(reserve_jobs=True, suppress_errors=False)\n",
    "print('Populate Done')\n",
    "\n",
    "print(f\"Total time for Decimation populate = {time.time() - start_time}\")"
   ]
  },
  {
   "cell_type": "code",
   "execution_count": null,
   "metadata": {},
   "outputs": [],
   "source": []
  }
 ],
 "metadata": {
  "kernelspec": {
   "display_name": "Python 3",
   "language": "python",
   "name": "python3"
  },
  "language_info": {
   "codemirror_mode": {
    "name": "ipython",
    "version": 3
   },
   "file_extension": ".py",
   "mimetype": "text/x-python",
   "name": "python",
   "nbconvert_exporter": "python",
   "pygments_lexer": "ipython3",
   "version": "3.6.9"
  }
 },
 "nbformat": 4,
 "nbformat_minor": 4
}
