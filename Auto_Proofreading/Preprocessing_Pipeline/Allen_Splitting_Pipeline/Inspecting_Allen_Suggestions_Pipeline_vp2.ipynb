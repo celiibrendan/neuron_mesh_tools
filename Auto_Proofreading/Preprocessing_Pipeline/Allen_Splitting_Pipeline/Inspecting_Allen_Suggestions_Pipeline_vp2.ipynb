{
 "cells": [
  {
   "cell_type": "code",
   "execution_count": null,
   "metadata": {},
   "outputs": [],
   "source": [
    "\"\"\"\n",
    "Purpose: To check on the status of the Allen split suggestions pipeline\n",
    "as they run through\n",
    "\n",
    "- Downloading\n",
    "- Decimation\n",
    "- Soma Finding\n",
    "- Decomposition\n",
    "- Suggestion Splits\n",
    "\n",
    "\"\"\""
   ]
  },
  {
   "cell_type": "code",
   "execution_count": 1,
   "metadata": {},
   "outputs": [],
   "source": [
    "%load_ext autoreload\n",
    "%autoreload 2"
   ]
  },
  {
   "cell_type": "code",
   "execution_count": 2,
   "metadata": {},
   "outputs": [],
   "source": [
    "from os import sys\n",
    "sys.path.append(\"/meshAfterParty/\")\n",
    "sys.path.append(\"/meshAfterParty/meshAfterParty/\")"
   ]
  },
  {
   "cell_type": "code",
   "execution_count": 3,
   "metadata": {},
   "outputs": [
    {
     "name": "stderr",
     "output_type": "stream",
     "text": [
      "INFO - 2021-03-22 18:47:18,315 - settings - Setting database.host to at-database.ad.bcm.edu\n",
      "INFO - 2021-03-22 18:47:18,318 - settings - Setting database.user to celiib\n",
      "INFO - 2021-03-22 18:47:18,319 - settings - Setting database.password to newceliipass\n",
      "INFO - 2021-03-22 18:47:18,334 - settings - Setting stores to {'minnie65': {'protocol': 'file', 'location': '/mnt/dj-stor01/platinum/minnie65', 'stage': '/mnt/dj-stor01/platinum/minnie65'}, 'meshes': {'protocol': 'file', 'location': '/mnt/dj-stor01/platinum/minnie65/02/meshes', 'stage': '/mnt/dj-stor01/platinum/minnie65/02/meshes'}, 'decimated_meshes': {'protocol': 'file', 'location': '/mnt/dj-stor01/platinum/minnie65/02/decimated_meshes', 'stage': '/mnt/dj-stor01/platinum/minnie65/02/decimated_meshes'}, 'skeletons': {'protocol': 'file', 'location': '/mnt/dj-stor01/platinum/minnie65/02/skeletons'}}\n",
      "INFO - 2021-03-22 18:47:18,335 - settings - Setting enable_python_native_blobs to True\n",
      "INFO - 2021-03-22 18:47:18,349 - connection - Connected celiib@at-database.ad.bcm.edu:3306\n"
     ]
    },
    {
     "name": "stdout",
     "output_type": "stream",
     "text": [
      "Connecting celiib@at-database.ad.bcm.edu:3306\n"
     ]
    },
    {
     "name": "stderr",
     "output_type": "stream",
     "text": [
      "INFO - 2021-03-22 18:47:18,771 - settings - Setting enable_python_native_blobs to True\n",
      "INFO - 2021-03-22 18:47:18,775 - settings - Setting database.host to at-database.ad.bcm.edu\n",
      "INFO - 2021-03-22 18:47:18,776 - settings - Setting database.user to celiib\n",
      "INFO - 2021-03-22 18:47:18,777 - settings - Setting database.password to newceliipass\n",
      "INFO - 2021-03-22 18:47:18,778 - settings - Setting database.host to at-database.ad.bcm.edu\n",
      "INFO - 2021-03-22 18:47:18,779 - settings - Setting database.user to celiib\n",
      "INFO - 2021-03-22 18:47:18,779 - settings - Setting database.password to newceliipass\n",
      "INFO - 2021-03-22 18:47:18,782 - settings - Setting enable_python_native_blobs to True\n",
      "INFO - 2021-03-22 18:47:19,233 - settings - Setting enable_python_native_blobs to True\n"
     ]
    }
   ],
   "source": [
    "from importlib import reload\n",
    "\n",
    "import neuron_utils as nru\n",
    "\n",
    "import neuron\n",
    "\n",
    "import neuron_visualizations as nviz\n",
    "\n",
    "import time\n",
    "\n",
    "import datajoint_utils as du\n",
    "\n",
    "import numpy as np\n",
    "\n",
    "import proofreading_utils as pru\n",
    "\n",
    "import preprocessing_vp2 as pre\n",
    "\n",
    "# -- For the axon classification --\n",
    "\n",
    "import neuron_searching as ns\n",
    "\n",
    "import skeleton_utils as sk\n",
    "\n",
    "import numpy_utils as nu\n",
    "\n",
    "import networkx_utils as xu\n",
    "\n",
    "import system_utils as su"
   ]
  },
  {
   "cell_type": "code",
   "execution_count": 4,
   "metadata": {},
   "outputs": [
    {
     "name": "stderr",
     "output_type": "stream",
     "text": [
      "INFO - 2021-03-22 18:47:21,551 - settings - Setting database.host to at-database.ad.bcm.edu\n",
      "INFO - 2021-03-22 18:47:21,552 - settings - Setting database.user to celiib\n",
      "INFO - 2021-03-22 18:47:21,553 - settings - Setting database.password to newceliipass\n",
      "INFO - 2021-03-22 18:47:21,557 - settings - Setting enable_python_native_blobs to True\n",
      "INFO - 2021-03-22 18:47:22,040 - settings - Setting enable_python_native_blobs to True\n"
     ]
    }
   ],
   "source": [
    "minnie,schema = du.configure_minnie_vm()"
   ]
  },
  {
   "cell_type": "markdown",
   "metadata": {},
   "source": [
    "# Investigating why some neurons did not get split suggestions"
   ]
  },
  {
   "cell_type": "code",
   "execution_count": null,
   "metadata": {},
   "outputs": [],
   "source": [
    "allen_table = (minnie.AllenProofreading() & dict(month=3,day=18,year=2021))\n",
    "allen_table"
   ]
  },
  {
   "cell_type": "code",
   "execution_count": null,
   "metadata": {},
   "outputs": [],
   "source": [
    "minnie.BaylorSegmentCentroid() & allen_table  & dict(decimation_ratio=0.25) & \"multiplicity=0\""
   ]
  },
  {
   "cell_type": "code",
   "execution_count": null,
   "metadata": {},
   "outputs": [],
   "source": [
    "nviz.plot_objects(du.fetch_segment_id_mesh(864691136236789519))"
   ]
  },
  {
   "cell_type": "code",
   "execution_count": null,
   "metadata": {
    "scrolled": true
   },
   "outputs": [],
   "source": [
    "key_source = minnie.Decomposition() & (minnie.AllenProofreading() & dict(month=3,day=3,year=2021)).proj()\n",
    "key_source"
   ]
  },
  {
   "cell_type": "code",
   "execution_count": null,
   "metadata": {},
   "outputs": [],
   "source": [
    "key_source & \"n_multi_soma_touching_limbs = 0 AND n_same_soma_multi_touching_limbs=0 \""
   ]
  },
  {
   "cell_type": "code",
   "execution_count": null,
   "metadata": {},
   "outputs": [],
   "source": [
    "(minnie.Decomposition() & dict(segment_id=864691136008729518))"
   ]
  },
  {
   "cell_type": "code",
   "execution_count": null,
   "metadata": {},
   "outputs": [],
   "source": [
    "neuron_obj = (minnie.Decomposition() & dict(segment_id=864691136008729518)).fetch1(\"decomposition\")\n",
    "neuron_obj"
   ]
  },
  {
   "cell_type": "code",
   "execution_count": null,
   "metadata": {},
   "outputs": [],
   "source": [
    "import datajoint_utils as du\n",
    "neuron_obj = du.fetch_neuron_obj_manual(segment_id=864691136008729518)"
   ]
  },
  {
   "cell_type": "code",
   "execution_count": null,
   "metadata": {},
   "outputs": [],
   "source": [
    "import neuron_utils as nru"
   ]
  },
  {
   "cell_type": "code",
   "execution_count": null,
   "metadata": {},
   "outputs": [],
   "source": [
    "segment_id = 864691135782479155\n",
    "dec_mesh = du.fetch_segment_id_mesh(segment_id)\n",
    "neuron_obj = nru.decompress_neuron(\"/mnt/dj-stor01/platinum/minnie65/02/decomposition/864691135782479155_0_25.pbz2\",\n",
    "                     original_mesh=dec_mesh)"
   ]
  },
  {
   "cell_type": "code",
   "execution_count": null,
   "metadata": {},
   "outputs": [],
   "source": [
    "nviz.visualize_neuron(neuron_obj,\n",
    "                     limb_branch_dict=\"all\")"
   ]
  },
  {
   "cell_type": "code",
   "execution_count": null,
   "metadata": {},
   "outputs": [],
   "source": [
    "neuron_obj.n_error_limbs"
   ]
  },
  {
   "cell_type": "code",
   "execution_count": null,
   "metadata": {},
   "outputs": [],
   "source": [
    "nviz.visualize_neuron_lite(neuron_obj)"
   ]
  },
  {
   "cell_type": "code",
   "execution_count": null,
   "metadata": {},
   "outputs": [],
   "source": []
  },
  {
   "cell_type": "code",
   "execution_count": null,
   "metadata": {},
   "outputs": [],
   "source": [
    "segment_id_with_no_errors = [\n",
    "    864691135345291423, #had just soma on the very tip\n",
    "    864691135373423816, #removed in glia\n",
    "    864691135753669837,\n",
    "    ,\n",
    "]"
   ]
  },
  {
   "cell_type": "code",
   "execution_count": null,
   "metadata": {},
   "outputs": [],
   "source": [
    "curr_table = (minnie.schema.jobs & \"table_name='__decomposition'\") & \"status='error'\"\n",
    "(curr_table).delete()# & \"status='error'\")"
   ]
  },
  {
   "cell_type": "code",
   "execution_count": null,
   "metadata": {
    "scrolled": true
   },
   "outputs": [],
   "source": [
    "curr_table = (minnie.schema.jobs & \"table_name='__decomposition_split'\")\n",
    "seg_ids_to_delete = [k[\"segment_id\"] for k in curr_table.fetch(\"key\")]\n",
    "seg_ids_to_delete"
   ]
  },
  {
   "cell_type": "code",
   "execution_count": null,
   "metadata": {},
   "outputs": [],
   "source": [
    "minnie.Decomposition()"
   ]
  },
  {
   "cell_type": "markdown",
   "metadata": {},
   "source": [
    "# All the cells that need to get suggestions"
   ]
  },
  {
   "cell_type": "code",
   "execution_count": null,
   "metadata": {},
   "outputs": [],
   "source": [
    "key_source = minnie.Decomposition() & \"n_somas>1 OR n_error_limbs>0\" & (minnie.AllenProofreading() & dict(month=3,day=3,year=2021)).proj()\n",
    "key_source"
   ]
  },
  {
   "cell_type": "code",
   "execution_count": null,
   "metadata": {},
   "outputs": [],
   "source": [
    "no_splits = (minnie.AllenProofreading() & dict(month=3,day=3,year=2021)) - key_source.proj()\n",
    "no_splits"
   ]
  },
  {
   "cell_type": "code",
   "execution_count": null,
   "metadata": {},
   "outputs": [],
   "source": [
    "minnie.DecompositionSplit() & key_source.proj()"
   ]
  },
  {
   "cell_type": "code",
   "execution_count": null,
   "metadata": {},
   "outputs": [],
   "source": [
    "curr_table = (minnie.schema.jobs & \"table_name='__decomposition_split'\")\n",
    "(curr_table)#.delete()# & \"status='error'\")"
   ]
  },
  {
   "cell_type": "markdown",
   "metadata": {},
   "source": [
    "# Getting the split suggesstions"
   ]
  },
  {
   "cell_type": "code",
   "execution_count": null,
   "metadata": {
    "scrolled": true
   },
   "outputs": [],
   "source": [
    "import datajoint as dj\n",
    "dj.U(\"segment_id\") & minnie.DecompositionSplit() & key_source.proj()"
   ]
  },
  {
   "cell_type": "code",
   "execution_count": null,
   "metadata": {},
   "outputs": [],
   "source": [
    "du.create_suggested_splits_neuroglancer_spreadsheet?"
   ]
  },
  {
   "cell_type": "code",
   "execution_count": 5,
   "metadata": {},
   "outputs": [
    {
     "data": {
      "text/html": [
       "\n",
       "        \n",
       "        <style type=\"text/css\">\n",
       "            .Relation{\n",
       "                border-collapse:collapse;\n",
       "            }\n",
       "            .Relation th{\n",
       "                background: #A0A0A0; color: #ffffff; padding:4px; border:#f0e0e0 1px solid;\n",
       "                font-weight: normal; font-family: monospace; font-size: 100%;\n",
       "            }\n",
       "            .Relation td{\n",
       "                padding:4px; border:#f0e0e0 1px solid; font-size:100%;\n",
       "            }\n",
       "            .Relation tr:nth-child(odd){\n",
       "                background: #ffffff;\n",
       "            }\n",
       "            .Relation tr:nth-child(even){\n",
       "                background: #f3f1ff;\n",
       "            }\n",
       "            /* Tooltip container */\n",
       "            .djtooltip {\n",
       "            }\n",
       "            /* Tooltip text */\n",
       "            .djtooltip .djtooltiptext {\n",
       "                visibility: hidden;\n",
       "                width: 120px;\n",
       "                background-color: black;\n",
       "                color: #fff;\n",
       "                text-align: center;\n",
       "                padding: 5px 0;\n",
       "                border-radius: 6px;\n",
       "                /* Position the tooltip text - see examples below! */\n",
       "                position: absolute;\n",
       "                z-index: 1;\n",
       "            }\n",
       "            #primary {\n",
       "                font-weight: bold;\n",
       "                color: black;\n",
       "            }\n",
       "\n",
       "            #nonprimary {\n",
       "                font-weight: normal;\n",
       "                color: white;\n",
       "            }\n",
       "\n",
       "            /* Show the tooltip text when you mouse over the tooltip container */\n",
       "            .djtooltip:hover .djtooltiptext {\n",
       "                visibility: visible;\n",
       "            }\n",
       "        </style>\n",
       "        \n",
       "        <b></b>\n",
       "            <div style=\"max-height:1000px;max-width:1500px;overflow:auto;\">\n",
       "            <table border=\"1\" class=\"Relation\">\n",
       "                <thead> <tr style=\"text-align: right;\"> <th> <div class=\"djtooltip\">\n",
       "                                <p id=\"primary\">segment_id</p>\n",
       "                                <span class=\"djtooltiptext\">segment id for those to be decimated</span>\n",
       "                            </div></th><th><div class=\"djtooltip\">\n",
       "                                <p id=\"primary\">month</p>\n",
       "                                <span class=\"djtooltiptext\">the month that the cell was added</span>\n",
       "                            </div></th><th><div class=\"djtooltip\">\n",
       "                                <p id=\"primary\">day</p>\n",
       "                                <span class=\"djtooltiptext\">the day that the cell was added</span>\n",
       "                            </div></th><th><div class=\"djtooltip\">\n",
       "                                <p id=\"primary\">year</p>\n",
       "                                <span class=\"djtooltiptext\">the year that the cell was added</span>\n",
       "                            </div></th><th><div class=\"djtooltip\">\n",
       "                                <p id=\"nonprimary\">n_somas</p>\n",
       "                                <span class=\"djtooltiptext\">the number of somas associated with the neuron from the Allen Institute</span>\n",
       "                            </div> </th> </tr> </thead>\n",
       "                <tbody> <tr> <td>864691134964412191</td>\n",
       "<td>1</td>\n",
       "<td>28</td>\n",
       "<td>2021</td>\n",
       "<td>2</td></tr><tr><td>864691134988608634</td>\n",
       "<td>1</td>\n",
       "<td>28</td>\n",
       "<td>2021</td>\n",
       "<td>2</td></tr><tr><td>864691134988608634</td>\n",
       "<td>3</td>\n",
       "<td>3</td>\n",
       "<td>2021</td>\n",
       "<td>2</td></tr><tr><td>864691135012398582</td>\n",
       "<td>1</td>\n",
       "<td>28</td>\n",
       "<td>2021</td>\n",
       "<td>2</td></tr><tr><td>864691135065024068</td>\n",
       "<td>1</td>\n",
       "<td>28</td>\n",
       "<td>2021</td>\n",
       "<td>2</td></tr><tr><td>864691135065024068</td>\n",
       "<td>3</td>\n",
       "<td>3</td>\n",
       "<td>2021</td>\n",
       "<td>2</td></tr><tr><td>864691135065024068</td>\n",
       "<td>3</td>\n",
       "<td>11</td>\n",
       "<td>2021</td>\n",
       "<td>2</td></tr><tr><td>864691135081756919</td>\n",
       "<td>3</td>\n",
       "<td>11</td>\n",
       "<td>2021</td>\n",
       "<td>3</td></tr><tr><td>864691135081756919</td>\n",
       "<td>3</td>\n",
       "<td>18</td>\n",
       "<td>2021</td>\n",
       "<td>3</td></tr><tr><td>864691135132762784</td>\n",
       "<td>3</td>\n",
       "<td>18</td>\n",
       "<td>2021</td>\n",
       "<td>3</td></tr><tr><td>864691135155711844</td>\n",
       "<td>1</td>\n",
       "<td>28</td>\n",
       "<td>2021</td>\n",
       "<td>2</td></tr><tr><td>864691135155711844</td>\n",
       "<td>3</td>\n",
       "<td>3</td>\n",
       "<td>2021</td>\n",
       "<td>2</td> </tr> </tbody>\n",
       "            </table>\n",
       "            <p>...</p>\n",
       "            <p>Total: 308</p></div>\n",
       "            "
      ],
      "text/plain": [
       "*segment_id    *month    *day    *year    n_somas    \n",
       "+------------+ +-------+ +-----+ +------+ +---------+\n",
       "86469113496441 1         28      2021     2          \n",
       "86469113498860 1         28      2021     2          \n",
       "86469113498860 3         3       2021     2          \n",
       "86469113501239 1         28      2021     2          \n",
       "86469113506502 1         28      2021     2          \n",
       "86469113506502 3         3       2021     2          \n",
       "86469113506502 3         11      2021     2          \n",
       "86469113508175 3         11      2021     3          \n",
       "86469113508175 3         18      2021     3          \n",
       "86469113513276 3         18      2021     3          \n",
       "86469113515571 1         28      2021     2          \n",
       "86469113515571 3         3       2021     2          \n",
       "   ...\n",
       " (Total: 308)"
      ]
     },
     "execution_count": 5,
     "metadata": {},
     "output_type": "execute_result"
    }
   ],
   "source": [
    "minnie.AllenProofreading() "
   ]
  },
  {
   "cell_type": "code",
   "execution_count": 7,
   "metadata": {},
   "outputs": [
    {
     "data": {
      "text/plain": [
       "array([864691135081756919, 864691135132762784, 864691135337764326,\n",
       "       864691135340990917, 864691135341029829, 864691135345208735,\n",
       "       864691135345280671, 864691135373423816, 864691135382504922,\n",
       "       864691135382719450, 864691135403793646, 864691135415490234,\n",
       "       864691135462292893, 864691135462301853, 864691135462454941,\n",
       "       864691135462553757, 864691135474751296, 864691135491253343,\n",
       "       864691135497625875, 864691135501584194, 864691135502074805,\n",
       "       864691135538111858, 864691135583731320, 864691135589222386,\n",
       "       864691135590161419, 864691135617824143, 864691135654122946,\n",
       "       864691135724471467, 864691135724472235, 864691135730176441,\n",
       "       864691135736940420, 864691135748581673, 864691135753746381,\n",
       "       864691135777347517, 864691135865548421, 864691135937302020,\n",
       "       864691135937310468, 864691136023802169, 864691136041089110,\n",
       "       864691136089091639, 864691136194333772, 864691136209271740,\n",
       "       864691136236789519, 864691136237486908, 864691136286740931,\n",
       "       864691136309709146, 864691136309709658, 864691136370937224,\n",
       "       864691136436433054, 864691136486811410, 864691136521591953,\n",
       "       864691136617121243, 864691136617169371, 864691136617169883,\n",
       "       864691136617170395, 864691136922746852, 864691137019583086])"
      ]
     },
     "execution_count": 7,
     "metadata": {},
     "output_type": "execute_result"
    }
   ],
   "source": [
    "allen_segment_ids = (minnie.AllenProofreading() & dict(day=18,month=3,year=2021)).fetch(\"segment_id\")\n",
    "allen_segment_ids"
   ]
  },
  {
   "cell_type": "code",
   "execution_count": 8,
   "metadata": {},
   "outputs": [
    {
     "data": {
      "text/plain": [
       "57"
      ]
     },
     "execution_count": 8,
     "metadata": {},
     "output_type": "execute_result"
    }
   ],
   "source": [
    "len(allen_segment_ids)"
   ]
  },
  {
   "cell_type": "code",
   "execution_count": 10,
   "metadata": {},
   "outputs": [
    {
     "data": {
      "application/vnd.jupyter.widget-view+json": {
       "model_id": "55135cb2da7941c9a7f42dea19d7cfc7",
       "version_major": 2,
       "version_minor": 0
      },
      "text/plain": [
       "  0%|          | 0/44 [00:00<?, ?it/s]"
      ]
     },
     "metadata": {},
     "output_type": "display_data"
    },
    {
     "name": "stdout",
     "output_type": "stream",
     "text": [
      "segment_id = 864691135081756919\n",
      "segment_id = 864691135132762784\n",
      "segment_id = 864691135337764326\n",
      "segment_id = 864691135340990917\n",
      "segment_id = 864691135341029829\n",
      "segment_id = 864691135345208735\n",
      "segment_id = 864691135382504922\n",
      "segment_id = 864691135382719450\n",
      "segment_id = 864691135403793646\n",
      "segment_id = 864691135415490234\n",
      "segment_id = 864691135462292893\n",
      "segment_id = 864691135462301853\n",
      "segment_id = 864691135462454941\n",
      "segment_id = 864691135462553757\n",
      "segment_id = 864691135474751296\n",
      "segment_id = 864691135497625875\n",
      "segment_id = 864691135501584194\n",
      "segment_id = 864691135502074805\n",
      "segment_id = 864691135538111858\n",
      "segment_id = 864691135590161419\n",
      "segment_id = 864691135617824143\n",
      "segment_id = 864691135654122946\n",
      "segment_id = 864691135736940420\n",
      "segment_id = 864691135748581673\n",
      "segment_id = 864691135753746381\n",
      "segment_id = 864691135777347517\n",
      "segment_id = 864691135865548421\n",
      "segment_id = 864691135937302020\n",
      "segment_id = 864691135937310468\n",
      "segment_id = 864691136023802169\n",
      "segment_id = 864691136041089110\n",
      "segment_id = 864691136089091639\n",
      "segment_id = 864691136194333772\n",
      "segment_id = 864691136209271740\n",
      "segment_id = 864691136286740931\n",
      "segment_id = 864691136309709146\n",
      "segment_id = 864691136309709658\n",
      "segment_id = 864691136370937224\n",
      "segment_id = 864691136436433054\n",
      "segment_id = 864691136617121243\n",
      "segment_id = 864691136617169371\n",
      "segment_id = 864691136617169883\n",
      "segment_id = 864691136617170395\n",
      "segment_id = 864691137019583086\n",
      "864691135081756919: https://akhilesh-graphene-sharded-dot-neuromancer-seung-import.appspot.com/?json_url=https://globalv1.daf-apis.com/nglstate/api/v1/6204442487554048\n",
      "864691135132762784: https://akhilesh-graphene-sharded-dot-neuromancer-seung-import.appspot.com/?json_url=https://globalv1.daf-apis.com/nglstate/api/v1/6326227107315712\n",
      "864691135337764326: https://akhilesh-graphene-sharded-dot-neuromancer-seung-import.appspot.com/?json_url=https://globalv1.daf-apis.com/nglstate/api/v1/5523195461369856\n",
      "864691135340990917: https://akhilesh-graphene-sharded-dot-neuromancer-seung-import.appspot.com/?json_url=https://globalv1.daf-apis.com/nglstate/api/v1/6575015772291072\n",
      "864691135341029829: https://akhilesh-graphene-sharded-dot-neuromancer-seung-import.appspot.com/?json_url=https://globalv1.daf-apis.com/nglstate/api/v1/4800778455744512\n",
      "864691135345208735: https://akhilesh-graphene-sharded-dot-neuromancer-seung-import.appspot.com/?json_url=https://globalv1.daf-apis.com/nglstate/api/v1/5669732766187520\n",
      "864691135382504922: https://akhilesh-graphene-sharded-dot-neuromancer-seung-import.appspot.com/?json_url=https://globalv1.daf-apis.com/nglstate/api/v1/6649095368212480\n",
      "864691135382719450: https://akhilesh-graphene-sharded-dot-neuromancer-seung-import.appspot.com/?json_url=https://globalv1.daf-apis.com/nglstate/api/v1/4797067604000768\n",
      "864691135403793646: https://akhilesh-graphene-sharded-dot-neuromancer-seung-import.appspot.com/?json_url=https://globalv1.daf-apis.com/nglstate/api/v1/5997462728736768\n",
      "864691135415490234: https://akhilesh-graphene-sharded-dot-neuromancer-seung-import.appspot.com/?json_url=https://globalv1.daf-apis.com/nglstate/api/v1/6405924520460288\n",
      "864691135462292893: https://akhilesh-graphene-sharded-dot-neuromancer-seung-import.appspot.com/?json_url=https://globalv1.daf-apis.com/nglstate/api/v1/5920909231652864\n",
      "864691135462301853: https://akhilesh-graphene-sharded-dot-neuromancer-seung-import.appspot.com/?json_url=https://globalv1.daf-apis.com/nglstate/api/v1/6242570204086272\n",
      "864691135462454941: https://akhilesh-graphene-sharded-dot-neuromancer-seung-import.appspot.com/?json_url=https://globalv1.daf-apis.com/nglstate/api/v1/5926678362587136\n",
      "864691135462553757: https://akhilesh-graphene-sharded-dot-neuromancer-seung-import.appspot.com/?json_url=https://globalv1.daf-apis.com/nglstate/api/v1/5795743952535552\n",
      "864691135474751296: https://akhilesh-graphene-sharded-dot-neuromancer-seung-import.appspot.com/?json_url=https://globalv1.daf-apis.com/nglstate/api/v1/4745428423671808\n",
      "864691135497625875: https://akhilesh-graphene-sharded-dot-neuromancer-seung-import.appspot.com/?json_url=https://globalv1.daf-apis.com/nglstate/api/v1/6231694675804160\n",
      "864691135501584194: https://akhilesh-graphene-sharded-dot-neuromancer-seung-import.appspot.com/?json_url=https://globalv1.daf-apis.com/nglstate/api/v1/5357959278231552\n",
      "864691135502074805: https://akhilesh-graphene-sharded-dot-neuromancer-seung-import.appspot.com/?json_url=https://globalv1.daf-apis.com/nglstate/api/v1/5871328330514432\n",
      "864691135538111858: https://akhilesh-graphene-sharded-dot-neuromancer-seung-import.appspot.com/?json_url=https://globalv1.daf-apis.com/nglstate/api/v1/6525167106785280\n",
      "864691135590161419: https://akhilesh-graphene-sharded-dot-neuromancer-seung-import.appspot.com/?json_url=https://globalv1.daf-apis.com/nglstate/api/v1/6744649330851840\n",
      "864691135617824143: https://akhilesh-graphene-sharded-dot-neuromancer-seung-import.appspot.com/?json_url=https://globalv1.daf-apis.com/nglstate/api/v1/4918852223762432\n",
      "864691135654122946: https://akhilesh-graphene-sharded-dot-neuromancer-seung-import.appspot.com/?json_url=https://globalv1.daf-apis.com/nglstate/api/v1/4585534911414272\n",
      "864691135736940420: https://akhilesh-graphene-sharded-dot-neuromancer-seung-import.appspot.com/?json_url=https://globalv1.daf-apis.com/nglstate/api/v1/5020209274421248\n",
      "864691135748581673: https://akhilesh-graphene-sharded-dot-neuromancer-seung-import.appspot.com/?json_url=https://globalv1.daf-apis.com/nglstate/api/v1/5363728409165824\n",
      "864691135753746381: https://akhilesh-graphene-sharded-dot-neuromancer-seung-import.appspot.com/?json_url=https://globalv1.daf-apis.com/nglstate/api/v1/5711434818256896\n",
      "864691135777347517: https://akhilesh-graphene-sharded-dot-neuromancer-seung-import.appspot.com/?json_url=https://globalv1.daf-apis.com/nglstate/api/v1/4757160730820608\n",
      "864691135865548421: https://akhilesh-graphene-sharded-dot-neuromancer-seung-import.appspot.com/?json_url=https://globalv1.daf-apis.com/nglstate/api/v1/5232793999114240\n",
      "864691135937302020: https://akhilesh-graphene-sharded-dot-neuromancer-seung-import.appspot.com/?json_url=https://globalv1.daf-apis.com/nglstate/api/v1/5883060637663232\n",
      "864691135937310468: https://akhilesh-graphene-sharded-dot-neuromancer-seung-import.appspot.com/?json_url=https://globalv1.daf-apis.com/nglstate/api/v1/6299746821996544\n",
      "864691136023802169: https://akhilesh-graphene-sharded-dot-neuromancer-seung-import.appspot.com/?json_url=https://globalv1.daf-apis.com/nglstate/api/v1/5390980597415936\n",
      "864691136041089110: https://akhilesh-graphene-sharded-dot-neuromancer-seung-import.appspot.com/?json_url=https://globalv1.daf-apis.com/nglstate/api/v1/4998549636907008\n",
      "864691136089091639: https://akhilesh-graphene-sharded-dot-neuromancer-seung-import.appspot.com/?json_url=https://globalv1.daf-apis.com/nglstate/api/v1/5994971379269632\n",
      "864691136194333772: https://akhilesh-graphene-sharded-dot-neuromancer-seung-import.appspot.com/?json_url=https://globalv1.daf-apis.com/nglstate/api/v1/6744202922688512\n",
      "864691136209271740: https://akhilesh-graphene-sharded-dot-neuromancer-seung-import.appspot.com/?json_url=https://globalv1.daf-apis.com/nglstate/api/v1/5912467137888256\n",
      "864691136286740931: https://akhilesh-graphene-sharded-dot-neuromancer-seung-import.appspot.com/?json_url=https://globalv1.daf-apis.com/nglstate/api/v1/6044752130605056\n",
      "864691136309709146: https://akhilesh-graphene-sharded-dot-neuromancer-seung-import.appspot.com/?json_url=https://globalv1.daf-apis.com/nglstate/api/v1/4518791388069888\n",
      "864691136309709658: https://akhilesh-graphene-sharded-dot-neuromancer-seung-import.appspot.com/?json_url=https://globalv1.daf-apis.com/nglstate/api/v1/4892371938443264\n",
      "864691136370937224: https://akhilesh-graphene-sharded-dot-neuromancer-seung-import.appspot.com/?json_url=https://globalv1.daf-apis.com/nglstate/api/v1/6559629924368384\n",
      "864691136436433054: https://akhilesh-graphene-sharded-dot-neuromancer-seung-import.appspot.com/?json_url=https://globalv1.daf-apis.com/nglstate/api/v1/6018271845285888\n",
      "864691136617121243: https://akhilesh-graphene-sharded-dot-neuromancer-seung-import.appspot.com/?json_url=https://globalv1.daf-apis.com/nglstate/api/v1/4519237796233216\n",
      "864691136617169371: https://akhilesh-graphene-sharded-dot-neuromancer-seung-import.appspot.com/?json_url=https://globalv1.daf-apis.com/nglstate/api/v1/6358693905956864\n",
      "864691136617169883: https://akhilesh-graphene-sharded-dot-neuromancer-seung-import.appspot.com/?json_url=https://globalv1.daf-apis.com/nglstate/api/v1/6237713535598592\n",
      "864691136617170395: https://akhilesh-graphene-sharded-dot-neuromancer-seung-import.appspot.com/?json_url=https://globalv1.daf-apis.com/nglstate/api/v1/6483859185074176\n",
      "864691137019583086: https://akhilesh-graphene-sharded-dot-neuromancer-seung-import.appspot.com/?json_url=https://globalv1.daf-apis.com/nglstate/api/v1/5481802177183744\n"
     ]
    }
   ],
   "source": [
    "allen_segment_ids = (minnie.AllenProofreading() & dict(day=18,month=3,year=2021)).fetch(\"segment_id\")\n",
    "du.create_suggested_splits_neuroglancer_spreadsheet(segment_ids=allen_segment_ids,output_type=\"server\",\n",
    "                                                   print_links=True,\n",
    "                                                   output_filename=\"allen_spreadsheet_3_18.csv\")"
   ]
  },
  {
   "cell_type": "code",
   "execution_count": 11,
   "metadata": {},
   "outputs": [
    {
     "name": "stdout",
     "output_type": "stream",
     "text": [
      "Decompressing Neuron in minimal output mode...please wait\n"
     ]
    },
    {
     "data": {
      "text/plain": [
       "<neuron.Neuron at 0x7f863e0e5e80>"
      ]
     },
     "execution_count": 11,
     "metadata": {},
     "output_type": "execute_result"
    }
   ],
   "source": [
    "du.fetch_neuron_obj_manual(864691135753746381)"
   ]
  },
  {
   "cell_type": "code",
   "execution_count": 12,
   "metadata": {},
   "outputs": [],
   "source": [
    "neuron_obj = Out[11]"
   ]
  },
  {
   "cell_type": "code",
   "execution_count": 14,
   "metadata": {},
   "outputs": [
    {
     "name": "stdout",
     "output_type": "stream",
     "text": [
      "\n",
      " Working on visualization type: mesh\n",
      "\n",
      " Working on visualization type: skeleton\n"
     ]
    },
    {
     "data": {
      "application/vnd.jupyter.widget-view+json": {
       "model_id": "4775dd766ef3428bafcf2dfa2222326d",
       "version_major": 2,
       "version_minor": 0
      },
      "text/plain": [
       "VBox(children=(Figure(camera=PerspectiveCamera(fov=46.0, position=(0.0, 0.0, 2.0), projectionMatrix=(1.0, 0.0,…"
      ]
     },
     "metadata": {},
     "output_type": "display_data"
    }
   ],
   "source": [
    "import neuron_visualizations as nviz\n",
    "nviz.visualize_neuron(neuron_obj,\n",
    "                     limb_branch_dict=\"all\")"
   ]
  },
  {
   "cell_type": "code",
   "execution_count": null,
   "metadata": {},
   "outputs": [],
   "source": []
  }
 ],
 "metadata": {
  "kernelspec": {
   "display_name": "Python 3",
   "language": "python",
   "name": "python3"
  },
  "language_info": {
   "codemirror_mode": {
    "name": "ipython",
    "version": 3
   },
   "file_extension": ".py",
   "mimetype": "text/x-python",
   "name": "python",
   "nbconvert_exporter": "python",
   "pygments_lexer": "ipython3",
   "version": "3.6.9"
  }
 },
 "nbformat": 4,
 "nbformat_minor": 4
}
