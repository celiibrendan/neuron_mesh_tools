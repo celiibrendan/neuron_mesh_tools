{
 "cells": [
  {
   "cell_type": "code",
   "execution_count": null,
   "metadata": {},
   "outputs": [],
   "source": [
    "\"\"\"\n",
    "Purpose: Run the Soma Finding\n",
    "Algorithm for all the cells\n",
    "in our final match\n",
    "\n",
    "\n",
    "\n",
    "\"\"\"\n"
   ]
  },
  {
   "cell_type": "code",
   "execution_count": 1,
   "metadata": {},
   "outputs": [],
   "source": [
    "current_version = 30"
   ]
  },
  {
   "cell_type": "code",
   "execution_count": 2,
   "metadata": {},
   "outputs": [
    {
     "name": "stderr",
     "output_type": "stream",
     "text": [
      "INFO - 2021-03-04 19:50:39,994 - settings - Setting database.host to at-database.ad.bcm.edu\n",
      "INFO - 2021-03-04 19:50:39,997 - settings - Setting database.user to celiib\n",
      "INFO - 2021-03-04 19:50:39,998 - settings - Setting database.password to newceliipass\n",
      "INFO - 2021-03-04 19:50:40,001 - settings - Setting stores to {'minnie65': {'protocol': 'file', 'location': '/mnt/dj-stor01/platinum/minnie65', 'stage': '/mnt/dj-stor01/platinum/minnie65'}, 'meshes': {'protocol': 'file', 'location': '/mnt/dj-stor01/platinum/minnie65/02/meshes', 'stage': '/mnt/dj-stor01/platinum/minnie65/02/meshes'}, 'decimated_meshes': {'protocol': 'file', 'location': '/mnt/dj-stor01/platinum/minnie65/02/decimated_meshes', 'stage': '/mnt/dj-stor01/platinum/minnie65/02/decimated_meshes'}, 'skeletons': {'protocol': 'file', 'location': '/mnt/dj-stor01/platinum/minnie65/02/skeletons'}}\n",
      "INFO - 2021-03-04 19:50:40,002 - settings - Setting enable_python_native_blobs to True\n",
      "INFO - 2021-03-04 19:50:40,017 - connection - Connected celiib@at-database.ad.bcm.edu:3306\n"
     ]
    },
    {
     "name": "stdout",
     "output_type": "stream",
     "text": [
      "Connecting celiib@at-database.ad.bcm.edu:3306\n"
     ]
    },
    {
     "name": "stderr",
     "output_type": "stream",
     "text": [
      "INFO - 2021-03-04 19:50:40,429 - settings - Setting enable_python_native_blobs to True\n",
      "INFO - 2021-03-04 19:50:40,433 - settings - Setting database.host to at-database.ad.bcm.edu\n",
      "INFO - 2021-03-04 19:50:40,434 - settings - Setting database.user to celiib\n",
      "INFO - 2021-03-04 19:50:40,434 - settings - Setting database.password to newceliipass\n",
      "INFO - 2021-03-04 19:50:40,435 - settings - Setting database.host to at-database.ad.bcm.edu\n",
      "INFO - 2021-03-04 19:50:40,436 - settings - Setting database.user to celiib\n",
      "INFO - 2021-03-04 19:50:40,438 - settings - Setting database.password to newceliipass\n",
      "INFO - 2021-03-04 19:50:40,440 - settings - Setting enable_python_native_blobs to True\n",
      "INFO - 2021-03-04 19:50:40,886 - settings - Setting enable_python_native_blobs to True\n"
     ]
    }
   ],
   "source": [
    "import numpy as np\n",
    "import datajoint as dj\n",
    "import trimesh\n",
    "from tqdm.notebook import tqdm\n",
    "from pathlib import Path\n",
    "\n",
    "from os import sys\n",
    "sys.path.append(\"/meshAfterParty/\")\n",
    "sys.path.append(\"/meshAfterParty/meshAfterParty\")\n",
    "\n",
    "import datajoint_utils as du\n",
    "from importlib import reload"
   ]
  },
  {
   "cell_type": "code",
   "execution_count": 3,
   "metadata": {},
   "outputs": [],
   "source": [
    "test_mode = True"
   ]
  },
  {
   "cell_type": "code",
   "execution_count": 4,
   "metadata": {},
   "outputs": [
    {
     "name": "stderr",
     "output_type": "stream",
     "text": [
      "INFO - 2021-03-04 19:50:40,971 - settings - Setting database.host to at-database.ad.bcm.edu\n",
      "INFO - 2021-03-04 19:50:40,972 - settings - Setting database.user to celiib\n",
      "INFO - 2021-03-04 19:50:40,973 - settings - Setting database.password to newceliipass\n",
      "INFO - 2021-03-04 19:50:40,974 - settings - Setting database.host to at-database.ad.bcm.edu\n",
      "INFO - 2021-03-04 19:50:40,977 - settings - Setting database.user to celiib\n",
      "INFO - 2021-03-04 19:50:40,978 - settings - Setting database.password to newceliipass\n",
      "INFO - 2021-03-04 19:50:40,979 - settings - Setting enable_python_native_blobs to True\n"
     ]
    },
    {
     "name": "stdout",
     "output_type": "stream",
     "text": [
      "Sleeping 110 sec before conneting\n",
      "Done sleeping\n",
      "Current path for external_segmentation_path = /mnt/dj-stor01/platinum/minnie65/02\n",
      "Current path for external_mesh_path = /mnt/dj-stor01/platinum/minnie65/02/meshes\n",
      "Current path for external_decimated_mesh_path = /mnt/dj-stor01/platinum/minnie65/02/decimated_meshes\n",
      "Current path for external_skeleton_path = /mnt/dj-stor01/platinum/minnie65/02/skeletons\n"
     ]
    },
    {
     "name": "stderr",
     "output_type": "stream",
     "text": [
      "INFO - 2021-03-04 19:50:41,458 - settings - Setting enable_python_native_blobs to True\n"
     ]
    }
   ],
   "source": [
    "import minfig\n",
    "import time\n",
    "import numpy as np\n",
    "#want to add in a wait for the connection part\n",
    "random_sleep_sec = np.random.randint(0, 200)\n",
    "print(f\"Sleeping {random_sleep_sec} sec before conneting\")\n",
    "if not test_mode:\n",
    "    time.sleep(random_sleep_sec)\n",
    "print(\"Done sleeping\")\n",
    "\n",
    "du.config_celii()\n",
    "du.set_minnie65_config_segmentation(minfig)\n",
    "du.print_minnie65_config_paths(minfig)\n",
    "\n",
    "#configuring will include the adapters\n",
    "minnie,schema = du.configure_minnie_vm()"
   ]
  },
  {
   "cell_type": "markdown",
   "metadata": {},
   "source": [
    "# Getting the list of neurons to decompose for the mutli soma testing"
   ]
  },
  {
   "cell_type": "code",
   "execution_count": 5,
   "metadata": {},
   "outputs": [],
   "source": [
    "# import pandas as pd\n",
    "# soma_soma_table = pd.read_csv(\"Minnie65 core proofreading - Soma-Soma.csv\")\n",
    "# no_header = soma_soma_table.iloc[1:]\n",
    "# multi_soma_ids_str = no_header[\"Dendrites\"].to_numpy()\n",
    "# multi_soma_ids = multi_soma_ids_str[~np.isnan(multi_soma_ids_str.astype(\"float\"))].astype(\"int\")\n",
    "\n",
    "# @schema\n",
    "# class MultiSomaProofread(dj.Manual):\n",
    "#     definition=\"\"\"\n",
    "#     segment_id : bigint unsigned  #segment id for those to be decimated\n",
    "#     \"\"\"\n",
    "    \n",
    "# dict_of_seg = [dict(segment_id=k) for k in multi_soma_ids]\n",
    "# minnie.MultiSomaProofread.insert(dict_of_seg,skip_duplicates=True)\n",
    "# MultiSomaProofread()"
   ]
  },
  {
   "cell_type": "markdown",
   "metadata": {},
   "source": [
    "# Defining the Table"
   ]
  },
  {
   "cell_type": "code",
   "execution_count": 6,
   "metadata": {},
   "outputs": [],
   "source": [
    "import neuron_utils as nru\n",
    "import neuron\n",
    "import trimesh_utils as tu\n",
    "import numpy as np"
   ]
  },
  {
   "cell_type": "code",
   "execution_count": 7,
   "metadata": {},
   "outputs": [
    {
     "name": "stdout",
     "output_type": "stream",
     "text": [
      "No port chosen so picked random port 1859\n"
     ]
    }
   ],
   "source": [
    "import meshlab\n",
    "meshlab.set_meshlab_port(current_port=None)\n",
    "temporary_folder = 'decimation_temp'\n",
    "meshlab_scripts = {}"
   ]
  },
  {
   "cell_type": "code",
   "execution_count": 8,
   "metadata": {},
   "outputs": [],
   "source": [
    "#so that it will have the adapter defined\n",
    "from datajoint_utils import *"
   ]
  },
  {
   "cell_type": "code",
   "execution_count": 9,
   "metadata": {},
   "outputs": [],
   "source": [
    "@schema\n",
    "class NeuronGliaNuclei(dj.Manual):\n",
    "    definition=\"\"\"\n",
    "    -> minnie.Decimation.proj(decimation_version='version')\n",
    "    ver : decimal(6,2) #the version number of the materializaiton\n",
    "    ---\n",
    "    n_glia_faces              : int unsigned                 # The number of faces that were saved off as belonging to glia\n",
    "    glia_faces=NULL           : <faces>                      # faces indices that were saved off as belonging to glia (external storage)\n",
    "    n_nuclei_faces            : int unsigned                 # The number of faces that were saved off as belonging to nuclie\n",
    "    nuclei_faces=NULL         : <faces>                      # faces indices that were saved off as belonging to nuclei (external storage)\n",
    "    \"\"\""
   ]
  },
  {
   "cell_type": "code",
   "execution_count": 10,
   "metadata": {},
   "outputs": [],
   "source": [
    "# schema.external['faces'].delete(delete_external_files=True)\n",
    "# schema.external['somas'].delete(delete_external_files=True)"
   ]
  },
  {
   "cell_type": "code",
   "execution_count": 11,
   "metadata": {},
   "outputs": [],
   "source": [
    "# minnie.BaylorSegmentCentroid.delete()\n",
    "# minnie.NeuronGliaNuclei().delete()"
   ]
  },
  {
   "cell_type": "code",
   "execution_count": 16,
   "metadata": {},
   "outputs": [
    {
     "data": {
      "text/html": [
       "\n",
       "        \n",
       "        <style type=\"text/css\">\n",
       "            .Relation{\n",
       "                border-collapse:collapse;\n",
       "            }\n",
       "            .Relation th{\n",
       "                background: #A0A0A0; color: #ffffff; padding:4px; border:#f0e0e0 1px solid;\n",
       "                font-weight: normal; font-family: monospace; font-size: 100%;\n",
       "            }\n",
       "            .Relation td{\n",
       "                padding:4px; border:#f0e0e0 1px solid; font-size:100%;\n",
       "            }\n",
       "            .Relation tr:nth-child(odd){\n",
       "                background: #ffffff;\n",
       "            }\n",
       "            .Relation tr:nth-child(even){\n",
       "                background: #f3f1ff;\n",
       "            }\n",
       "            /* Tooltip container */\n",
       "            .djtooltip {\n",
       "            }\n",
       "            /* Tooltip text */\n",
       "            .djtooltip .djtooltiptext {\n",
       "                visibility: hidden;\n",
       "                width: 120px;\n",
       "                background-color: black;\n",
       "                color: #fff;\n",
       "                text-align: center;\n",
       "                padding: 5px 0;\n",
       "                border-radius: 6px;\n",
       "                /* Position the tooltip text - see examples below! */\n",
       "                position: absolute;\n",
       "                z-index: 1;\n",
       "            }\n",
       "            #primary {\n",
       "                font-weight: bold;\n",
       "                color: black;\n",
       "            }\n",
       "\n",
       "            #nonprimary {\n",
       "                font-weight: normal;\n",
       "                color: white;\n",
       "            }\n",
       "\n",
       "            /* Show the tooltip text when you mouse over the tooltip container */\n",
       "            .djtooltip:hover .djtooltiptext {\n",
       "                visibility: visible;\n",
       "            }\n",
       "        </style>\n",
       "        \n",
       "        <b></b>\n",
       "            <div style=\"max-height:1000px;max-width:1500px;overflow:auto;\">\n",
       "            <table border=\"1\" class=\"Relation\">\n",
       "                <thead> <tr style=\"text-align: right;\"> <th> <div class=\"djtooltip\">\n",
       "                                <p id=\"primary\">segment_id</p>\n",
       "                                <span class=\"djtooltiptext\">segment id unique within each Segmentation</span>\n",
       "                            </div></th><th><div class=\"djtooltip\">\n",
       "                                <p id=\"primary\">decimation_version</p>\n",
       "                                <span class=\"djtooltiptext\"></span>\n",
       "                            </div></th><th><div class=\"djtooltip\">\n",
       "                                <p id=\"primary\">decimation_ratio</p>\n",
       "                                <span class=\"djtooltiptext\">ratio of remaining mesh vertices/faces (which ones depends on what metric the decimation technique uses)</span>\n",
       "                            </div></th><th><div class=\"djtooltip\">\n",
       "                                <p id=\"primary\">soma_index</p>\n",
       "                                <span class=\"djtooltiptext\">index given to this soma to account for multiple somas in one base semgnet</span>\n",
       "                            </div></th><th><div class=\"djtooltip\">\n",
       "                                <p id=\"primary\">ver</p>\n",
       "                                <span class=\"djtooltiptext\">the version number of the materializaiton</span>\n",
       "                            </div></th><th><div class=\"djtooltip\">\n",
       "                                <p id=\"nonprimary\">centroid_x</p>\n",
       "                                <span class=\"djtooltiptext\">(EM voxels)</span>\n",
       "                            </div></th><th><div class=\"djtooltip\">\n",
       "                                <p id=\"nonprimary\">centroid_y</p>\n",
       "                                <span class=\"djtooltiptext\">(EM voxels)</span>\n",
       "                            </div></th><th><div class=\"djtooltip\">\n",
       "                                <p id=\"nonprimary\">centroid_z</p>\n",
       "                                <span class=\"djtooltiptext\">(EM voxels)</span>\n",
       "                            </div></th><th><div class=\"djtooltip\">\n",
       "                                <p id=\"nonprimary\">n_vertices</p>\n",
       "                                <span class=\"djtooltiptext\">number of vertices</span>\n",
       "                            </div></th><th><div class=\"djtooltip\">\n",
       "                                <p id=\"nonprimary\">n_faces</p>\n",
       "                                <span class=\"djtooltiptext\">number of faces</span>\n",
       "                            </div></th><th><div class=\"djtooltip\">\n",
       "                                <p id=\"nonprimary\">mesh</p>\n",
       "                                <span class=\"djtooltiptext\">datajoint adapter to get the somas mesh objects</span>\n",
       "                            </div></th><th><div class=\"djtooltip\">\n",
       "                                <p id=\"nonprimary\">multiplicity</p>\n",
       "                                <span class=\"djtooltiptext\">the number of somas found for this base segment</span>\n",
       "                            </div></th><th><div class=\"djtooltip\">\n",
       "                                <p id=\"nonprimary\">sdf</p>\n",
       "                                <span class=\"djtooltiptext\">sdf width value for the soma</span>\n",
       "                            </div></th><th><div class=\"djtooltip\">\n",
       "                                <p id=\"nonprimary\">volume</p>\n",
       "                                <span class=\"djtooltiptext\">the volume in billions (10*9 nm^3) of the convex hull</span>\n",
       "                            </div></th><th><div class=\"djtooltip\">\n",
       "                                <p id=\"nonprimary\">max_side_ratio</p>\n",
       "                                <span class=\"djtooltiptext\">the maximum of the side length ratios used for check if soma</span>\n",
       "                            </div></th><th><div class=\"djtooltip\">\n",
       "                                <p id=\"nonprimary\">bbox_volume_ratio</p>\n",
       "                                <span class=\"djtooltiptext\">ratio of bbox (axis aligned) volume to mesh volume to use for check if soma</span>\n",
       "                            </div></th><th><div class=\"djtooltip\">\n",
       "                                <p id=\"nonprimary\">max_hole_length</p>\n",
       "                                <span class=\"djtooltiptext\">euclidean distance of the maximum hole size</span>\n",
       "                            </div></th><th><div class=\"djtooltip\">\n",
       "                                <p id=\"nonprimary\">run_time</p>\n",
       "                                <span class=\"djtooltiptext\">the amount of time to run (seconds)</span>\n",
       "                            </div> </th> </tr> </thead>\n",
       "                <tbody> <tr> <td>864691134988608634</td>\n",
       "<td>0</td>\n",
       "<td>0.25</td>\n",
       "<td>1</td>\n",
       "<td>30.00</td>\n",
       "<td>151978</td>\n",
       "<td>185713</td>\n",
       "<td>26304</td>\n",
       "<td>21523</td>\n",
       "<td>42748</td>\n",
       "<td>=BLOB=</td>\n",
       "<td>2</td>\n",
       "<td>0.744</td>\n",
       "<td>1369.9483234182394</td>\n",
       "<td>1.138</td>\n",
       "<td>5.259</td>\n",
       "<td>164323.827</td>\n",
       "<td>643.1645</td></tr><tr><td>864691134988608634</td>\n",
       "<td>0</td>\n",
       "<td>0.25</td>\n",
       "<td>2</td>\n",
       "<td>30.00</td>\n",
       "<td>145965</td>\n",
       "<td>170142</td>\n",
       "<td>26401</td>\n",
       "<td>18288</td>\n",
       "<td>36394</td>\n",
       "<td>=BLOB=</td>\n",
       "<td>2</td>\n",
       "<td>0.885</td>\n",
       "<td>1090.709593370298</td>\n",
       "<td>1.092</td>\n",
       "<td>5.773</td>\n",
       "<td>41529.935</td>\n",
       "<td>643.1645</td></tr><tr><td>864691135065024068</td>\n",
       "<td>0</td>\n",
       "<td>0.25</td>\n",
       "<td>1</td>\n",
       "<td>30.00</td>\n",
       "<td>256704</td>\n",
       "<td>178828</td>\n",
       "<td>18168</td>\n",
       "<td>46789</td>\n",
       "<td>91851</td>\n",
       "<td>=BLOB=</td>\n",
       "<td>1</td>\n",
       "<td>0.746</td>\n",
       "<td>4869.565858574333</td>\n",
       "<td>1.178</td>\n",
       "<td>5.073</td>\n",
       "<td>7651221.993</td>\n",
       "<td>481.3812</td></tr><tr><td>864691135155711844</td>\n",
       "<td>0</td>\n",
       "<td>0.25</td>\n",
       "<td>1</td>\n",
       "<td>30.00</td>\n",
       "<td>213707</td>\n",
       "<td>116033</td>\n",
       "<td>21601</td>\n",
       "<td>38102</td>\n",
       "<td>75062</td>\n",
       "<td>=BLOB=</td>\n",
       "<td>1</td>\n",
       "<td>0.87</td>\n",
       "<td>3212.236160781479</td>\n",
       "<td>1.228</td>\n",
       "<td>7.616</td>\n",
       "<td>970650.073</td>\n",
       "<td>367.7925</td></tr><tr><td>864691135210232512</td>\n",
       "<td>0</td>\n",
       "<td>0.25</td>\n",
       "<td>1</td>\n",
       "<td>30.00</td>\n",
       "<td>225921</td>\n",
       "<td>206935</td>\n",
       "<td>17407</td>\n",
       "<td>24065</td>\n",
       "<td>73651</td>\n",
       "<td>=BLOB=</td>\n",
       "<td>2</td>\n",
       "<td>0.576</td>\n",
       "<td>1875.1993309595885</td>\n",
       "<td>1.445</td>\n",
       "<td>3.048</td>\n",
       "<td>260616.601</td>\n",
       "<td>370.6695</td></tr><tr><td>864691135210232512</td>\n",
       "<td>0</td>\n",
       "<td>0.25</td>\n",
       "<td>2</td>\n",
       "<td>30.00</td>\n",
       "<td>233198</td>\n",
       "<td>221309</td>\n",
       "<td>18533</td>\n",
       "<td>7834</td>\n",
       "<td>14450</td>\n",
       "<td>=BLOB=</td>\n",
       "<td>2</td>\n",
       "<td>0.705</td>\n",
       "<td>455.40817405</td>\n",
       "<td>1.39</td>\n",
       "<td>5.524</td>\n",
       "<td>1892493.179</td>\n",
       "<td>370.6695</td></tr><tr><td>864691135341057989</td>\n",
       "<td>0</td>\n",
       "<td>0.25</td>\n",
       "<td>1</td>\n",
       "<td>30.00</td>\n",
       "<td>187888</td>\n",
       "<td>154907</td>\n",
       "<td>19639</td>\n",
       "<td>14109</td>\n",
       "<td>28039</td>\n",
       "<td>=BLOB=</td>\n",
       "<td>2</td>\n",
       "<td>0.884</td>\n",
       "<td>965.9089776211927</td>\n",
       "<td>1.497</td>\n",
       "<td>4.768</td>\n",
       "<td>48356.196</td>\n",
       "<td>296.7842</td></tr><tr><td>864691135341057989</td>\n",
       "<td>0</td>\n",
       "<td>0.25</td>\n",
       "<td>2</td>\n",
       "<td>30.00</td>\n",
       "<td>201482</td>\n",
       "<td>125642</td>\n",
       "<td>20329</td>\n",
       "<td>15466</td>\n",
       "<td>30460</td>\n",
       "<td>=BLOB=</td>\n",
       "<td>2</td>\n",
       "<td>0.884</td>\n",
       "<td>981.7812867800417</td>\n",
       "<td>1.313</td>\n",
       "<td>4.181</td>\n",
       "<td>69246.747</td>\n",
       "<td>296.7842</td></tr><tr><td>864691135345291423</td>\n",
       "<td>0</td>\n",
       "<td>0.25</td>\n",
       "<td>1</td>\n",
       "<td>30.00</td>\n",
       "<td>196623</td>\n",
       "<td>127334</td>\n",
       "<td>24613</td>\n",
       "<td>17425</td>\n",
       "<td>34530</td>\n",
       "<td>=BLOB=</td>\n",
       "<td>1</td>\n",
       "<td>0.787</td>\n",
       "<td>1031.2078735189218</td>\n",
       "<td>1.25</td>\n",
       "<td>6.117</td>\n",
       "<td>63494.512</td>\n",
       "<td>359.7465</td></tr><tr><td>864691135373423816</td>\n",
       "<td>0</td>\n",
       "<td>0.25</td>\n",
       "<td>1</td>\n",
       "<td>30.00</td>\n",
       "<td>237920</td>\n",
       "<td>168543</td>\n",
       "<td>21108</td>\n",
       "<td>23056</td>\n",
       "<td>45474</td>\n",
       "<td>=BLOB=</td>\n",
       "<td>1</td>\n",
       "<td>0.859</td>\n",
       "<td>1579.2820321304062</td>\n",
       "<td>1.147</td>\n",
       "<td>3.991</td>\n",
       "<td>149462.436</td>\n",
       "<td>1295.5624</td></tr><tr><td>864691135373676873</td>\n",
       "<td>0</td>\n",
       "<td>0.25</td>\n",
       "<td>1</td>\n",
       "<td>30.00</td>\n",
       "<td>265558</td>\n",
       "<td>192948</td>\n",
       "<td>17001</td>\n",
       "<td>15118</td>\n",
       "<td>29721</td>\n",
       "<td>=BLOB=</td>\n",
       "<td>2</td>\n",
       "<td>0.755</td>\n",
       "<td>866.5454183404792</td>\n",
       "<td>1.17</td>\n",
       "<td>4.189</td>\n",
       "<td>94485.608</td>\n",
       "<td>399.0921</td></tr><tr><td>864691135373676873</td>\n",
       "<td>0</td>\n",
       "<td>0.25</td>\n",
       "<td>2</td>\n",
       "<td>30.00</td>\n",
       "<td>269500</td>\n",
       "<td>215845</td>\n",
       "<td>17452</td>\n",
       "<td>13766</td>\n",
       "<td>27342</td>\n",
       "<td>=BLOB=</td>\n",
       "<td>2</td>\n",
       "<td>0.73</td>\n",
       "<td>749.7794734562135</td>\n",
       "<td>1.176</td>\n",
       "<td>4.83</td>\n",
       "<td>24313.148</td>\n",
       "<td>399.0921</td> </tr> </tbody>\n",
       "            </table>\n",
       "            <p>...</p>\n",
       "            <p>Total: 93</p></div>\n",
       "            "
      ],
      "text/plain": [
       "*segment_id    *decimation_ve *decimation_ra *soma_index    *ver      centroid_x     centroid_y     centroid_z     n_vertices     n_faces     mesh       multiplicity   sdf       volume         max_side_ratio bbox_volume_ra max_hole_lengt run_time     \n",
       "+------------+ +------------+ +------------+ +------------+ +-------+ +------------+ +------------+ +------------+ +------------+ +---------+ +--------+ +------------+ +-------+ +------------+ +------------+ +------------+ +------------+ +-----------+\n",
       "86469113498860 0              0.25           1              30.00     151978         185713         26304          21523          42748       =BLOB=     2              0.744     1369.948323418 1.138          5.259          164323.827     643.1645     \n",
       "86469113498860 0              0.25           2              30.00     145965         170142         26401          18288          36394       =BLOB=     2              0.885     1090.709593370 1.092          5.773          41529.935      643.1645     \n",
       "86469113506502 0              0.25           1              30.00     256704         178828         18168          46789          91851       =BLOB=     1              0.746     4869.565858574 1.178          5.073          7651221.993    481.3812     \n",
       "86469113515571 0              0.25           1              30.00     213707         116033         21601          38102          75062       =BLOB=     1              0.87      3212.236160781 1.228          7.616          970650.073     367.7925     \n",
       "86469113521023 0              0.25           1              30.00     225921         206935         17407          24065          73651       =BLOB=     2              0.576     1875.199330959 1.445          3.048          260616.601     370.6695     \n",
       "86469113521023 0              0.25           2              30.00     233198         221309         18533          7834           14450       =BLOB=     2              0.705     455.40817405   1.39           5.524          1892493.179    370.6695     \n",
       "86469113534105 0              0.25           1              30.00     187888         154907         19639          14109          28039       =BLOB=     2              0.884     965.9089776211 1.497          4.768          48356.196      296.7842     \n",
       "86469113534105 0              0.25           2              30.00     201482         125642         20329          15466          30460       =BLOB=     2              0.884     981.7812867800 1.313          4.181          69246.747      296.7842     \n",
       "86469113534529 0              0.25           1              30.00     196623         127334         24613          17425          34530       =BLOB=     1              0.787     1031.207873518 1.25           6.117          63494.512      359.7465     \n",
       "86469113537342 0              0.25           1              30.00     237920         168543         21108          23056          45474       =BLOB=     1              0.859     1579.282032130 1.147          3.991          149462.436     1295.5624    \n",
       "86469113537367 0              0.25           1              30.00     265558         192948         17001          15118          29721       =BLOB=     2              0.755     866.5454183404 1.17           4.189          94485.608      399.0921     \n",
       "86469113537367 0              0.25           2              30.00     269500         215845         17452          13766          27342       =BLOB=     2              0.73      749.7794734562 1.176          4.83           24313.148      399.0921     \n",
       "   ...\n",
       " (Total: 93)"
      ]
     },
     "execution_count": 16,
     "metadata": {},
     "output_type": "execute_result"
    }
   ],
   "source": [
    "decimation_version = 0\n",
    "decimation_ratio = 0.25\n",
    "verts_min = 10000\n",
    "current_version = 30\n",
    "\n",
    "key_source = (((minnie.Decimation & f\"n_vertices > {verts_min}\").proj(decimation_version='version') & \n",
    "                            \"decimation_version=\" + str(decimation_version) &\n",
    "                       f\"decimation_ratio={decimation_ratio}\") & (dj.U(\"segment_id\") )  & (minnie.AllenProofreading() & dict(month=3,day=3,year=2021)).proj())"
   ]
  },
  {
   "cell_type": "code",
   "execution_count": 13,
   "metadata": {},
   "outputs": [],
   "source": [
    "decimation_version = 0\n",
    "decimation_ratio = 0.25\n",
    "verts_min = 10000\n",
    "current_version = 30\n",
    "\n",
    "\n",
    "import trimesh_utils as tu\n",
    "import soma_extraction_utils as sm\n",
    "@schema\n",
    "class BaylorSegmentCentroid(dj.Computed):\n",
    "    definition=\"\"\"\n",
    "    -> minnie.Decimation.proj(decimation_version='version')\n",
    "    soma_index : tinyint unsigned #index given to this soma to account for multiple somas in one base semgnet\n",
    "    ver : decimal(6,2) #the version number of the materializaiton\n",
    "    ---\n",
    "    centroid_x=NULL           : int unsigned                 # (EM voxels)\n",
    "    centroid_y=NULL           : int unsigned                 # (EM voxels)\n",
    "    centroid_z=NULL           : int unsigned                 # (EM voxels)\n",
    "    n_vertices=NULL           : bigint                 #number of vertices\n",
    "    n_faces=NULL            : bigint                  #number of faces\n",
    "    mesh: <somas>  #datajoint adapter to get the somas mesh objects\n",
    "    multiplicity=NULL         : tinyint unsigned             # the number of somas found for this base segment\n",
    "    sdf=NULL                  : double                       # sdf width value for the soma\n",
    "    volume=NULL               : double                       # the volume in billions (10*9 nm^3) of the convex hull\n",
    "    max_side_ratio=NULL       : double                       # the maximum of the side length ratios used for check if soma\n",
    "    bbox_volume_ratio=NULL    : double                       # ratio of bbox (axis aligned) volume to mesh volume to use for check if soma\n",
    "    max_hole_length=NULL      : double                    #euclidean distance of the maximum hole size\n",
    "    run_time=NULL : double                   # the amount of time to run (seconds)\n",
    "\n",
    "    \"\"\"\n",
    "\n",
    "    key_source = (((minnie.Decimation & f\"n_vertices > {verts_min}\").proj(decimation_version='version') & \n",
    "                            \"decimation_version=\" + str(decimation_version) &\n",
    "                       f\"decimation_ratio={decimation_ratio}\") & (dj.U(\"segment_id\") )  & (minnie.AllenProofreading() & dict(month=3,day=3,year=2021)).proj())\n",
    "                                                                 \n",
    "     \n",
    "\n",
    "    def make(self,key):\n",
    "        \"\"\"\n",
    "        Pseudocode: \n",
    "        1) Compute all of the\n",
    "        2) Save the mesh as an h5 py file\n",
    "        3) Store the saved path as the decomposition part of the dictionary and erase the vertices and faces\n",
    "        4) Insert\n",
    "        \n",
    "        \n",
    "        \"\"\"\n",
    "        \n",
    "        #get the mesh data\n",
    "        print(f\"\\n\\n\\n---- Working on Neuron {key['segment_id']} ----\")\n",
    "        print(key)\n",
    "        new_mesh = (minnie.Decimation() & key).fetch1(\"mesh\")\n",
    "        current_mesh_verts,current_mesh_faces = new_mesh.vertices,new_mesh.faces\n",
    "\n",
    "        segment_id = key[\"segment_id\"]\n",
    "\n",
    "        (total_soma_list, \n",
    "         run_time, \n",
    "         total_soma_list_sdf,\n",
    "         glia_pieces,\n",
    "         nuclei_pieces) = sm.extract_soma_center(\n",
    "                            segment_id,\n",
    "                            current_mesh_verts,\n",
    "                            current_mesh_faces,\n",
    "            return_glia_nuclei_pieces=True,\n",
    "        )\n",
    "        \n",
    "        # -------- 1/9 Addition: Going to save off the glia and nuclei pieces ----------- #\n",
    "        \"\"\"\n",
    "        Psuedocode:\n",
    "        For both glia and nuclie pieces\n",
    "        1) If the length of array is greater than 0 --> combine the mesh and map the indices to original mesh\n",
    "        2) If not then just put None     \n",
    "        \"\"\"\n",
    "        orig_mesh = trimesh.Trimesh(vertices=current_mesh_verts,\n",
    "                                   faces=current_mesh_faces)\n",
    "        \n",
    "        if len(glia_pieces)>0:\n",
    "            glia_faces = tu.original_mesh_faces_map(orig_mesh,tu.combine_meshes(glia_pieces))\n",
    "            n_glia_faces = len(glia_faces)\n",
    "        else:\n",
    "            glia_faces = None\n",
    "            n_glia_faces = 0\n",
    "            \n",
    "        if len(nuclei_pieces)>0:\n",
    "            nuclei_faces = tu.original_mesh_faces_map(orig_mesh,tu.combine_meshes(nuclei_pieces))\n",
    "            n_nuclei_faces = len(nuclei_faces)\n",
    "        else:\n",
    "            nuclei_faces = None\n",
    "            n_nuclei_faces = 0\n",
    "            \n",
    "        # --------- saving the nuclei and glia saves\n",
    "        glia_path,nuclei_path = du.save_glia_nuclei_files(glia_faces=glia_faces,\n",
    "                                 nuclei_faces=nuclei_faces,\n",
    "                                 segment_id=segment_id)\n",
    "        \n",
    "        print(f\" glia_path = {glia_path} \\n nuclei_path = {nuclei_path}\")\n",
    "            \n",
    "        glia_nuclei_key = dict(key,\n",
    "                               ver=current_version,\n",
    "                               n_glia_faces=n_glia_faces,\n",
    "                               #glia_faces = glia_faces,\n",
    "                               glia_faces = glia_path,\n",
    "                               n_nuclei_faces = n_nuclei_faces,\n",
    "                               #nuclei_faces = nuclei_faces\n",
    "                               nuclei_faces = nuclei_path,\n",
    "                              )\n",
    "        \n",
    "        NeuronGliaNuclei.insert1(glia_nuclei_key,replace=True)\n",
    "        print(f\"Finished saving off glia and nuclei information : {glia_nuclei_key}\")\n",
    "        \n",
    "        # ---------------- End of 1/9 Addition --------------------------------- #\n",
    "        \n",
    "        \n",
    "        \n",
    "        print(f\"Run time was {run_time} \\n    total_soma_list = {total_soma_list}\"\n",
    "             f\"\\n    with sdf values = {total_soma_list_sdf}\")\n",
    "        \n",
    "        #check if soma list is empty and did not find soma\n",
    "        if len(total_soma_list) <= 0:\n",
    "            print(\"There were no somas found for this mesh so just writing empty data\")\n",
    "            \n",
    "\n",
    "            returned_file_path = tu.write_h5_file(\n",
    "                                                vertices=np.array([]),\n",
    "                                                  faces=np.array([]),\n",
    "                                                  segment_id=segment_id,\n",
    "                                                  filename = f'{segment_id}_0.h5',\n",
    "                                                    filepath=str(du.get_somas_path())\n",
    "                                                 )\n",
    "\n",
    "            \n",
    "            \n",
    "            insert_dict = dict(key,\n",
    "                              soma_index=0,\n",
    "                               ver=current_version,\n",
    "                              centroid_x=None,\n",
    "                               centroid_y=None,\n",
    "                               centroid_z=None,\n",
    "                               #distance_from_prediction=None,\n",
    "                               #prediction_matching_index = None,\n",
    "                               n_vertices=0,\n",
    "                               n_faces=0,\n",
    "                               mesh=returned_file_path,\n",
    "                               multiplicity=0,\n",
    "                               sdf = None,\n",
    "                               volume = None,\n",
    "                               max_side_ratio = None,\n",
    "                               bbox_volume_ratio = None,\n",
    "                               max_hole_length=None,\n",
    "                               run_time=run_time\n",
    "                              )\n",
    "            \n",
    "            #raise Exception(\"to prevent writing because none were found\")\n",
    "            self.insert1(insert_dict,skip_duplicates=True)\n",
    "            return\n",
    "        \n",
    "        #if there is one or more soma found, get the volume and side length checks\n",
    "        max_side_ratio =  [np.max(sm.side_length_ratios(m)) for m in total_soma_list]\n",
    "        bbox_volume_ratio =  [sm.soma_volume_ratio(m) for m in total_soma_list]\n",
    "        dicts_to_insert = []\n",
    "\n",
    "\n",
    "        for i,(current_soma,soma_sdf,sz_ratio,vol_ratio) in enumerate(zip(total_soma_list,total_soma_list_sdf,max_side_ratio,bbox_volume_ratio)):\n",
    "            print(\"Trying to write off file\")\n",
    "            \"\"\" Currently don't need to export the meshes\n",
    "            current_soma.export(f\"{key['segment_id']}/{key['segment_id']}_soma_{i}.off\")\n",
    "            \"\"\"\n",
    "            auto_prediction_center = np.mean(current_soma.vertices,axis=0) / np.array([4,4,40])\n",
    "            auto_prediction_center = auto_prediction_center.astype(\"int\")\n",
    "            print(f\"Predicted Coordinates are {auto_prediction_center}\")\n",
    "            max_hole_length = tu.largest_hole_length(current_soma)\n",
    "            \n",
    "            returned_file_path = tu.write_h5_file(\n",
    "                                            vertices=current_soma.vertices,\n",
    "                                              faces=current_soma.faces,\n",
    "                                              segment_id=segment_id,\n",
    "                                              filename = f'{segment_id}_{i}.h5',\n",
    "                                                filepath=str(du.get_somas_path())\n",
    "                                             )\n",
    "\n",
    "\n",
    "\n",
    "            insert_dict = dict(key,\n",
    "                              soma_index=i+1,\n",
    "                               ver=current_version,\n",
    "                              centroid_x=auto_prediction_center[0],\n",
    "                               centroid_y=auto_prediction_center[1],\n",
    "                               centroid_z=auto_prediction_center[2],\n",
    "                               n_vertices = len(current_soma.vertices),\n",
    "                               n_faces = len(current_soma.faces),\n",
    "                               mesh=returned_file_path,\n",
    "                               multiplicity=len(total_soma_list),\n",
    "                               sdf = np.round(soma_sdf,3),\n",
    "                               volume = current_soma.convex_hull.volume/1000000000,\n",
    "                               max_side_ratio = np.round(sz_ratio,3),\n",
    "                               bbox_volume_ratio = np.round(vol_ratio,3),\n",
    "                               max_hole_length = np.round(max_hole_length,3),\n",
    "                               run_time=np.round(run_time,4)\n",
    "                              )\n",
    "\n",
    "\n",
    "\n",
    "            dicts_to_insert.append(insert_dict)\n",
    "        self.insert(dicts_to_insert,skip_duplicates=True)"
   ]
  },
  {
   "cell_type": "markdown",
   "metadata": {},
   "source": [
    "# Running the Populate"
   ]
  },
  {
   "cell_type": "code",
   "execution_count": 14,
   "metadata": {},
   "outputs": [
    {
     "data": {
      "text/html": [
       "\n",
       "        \n",
       "        <style type=\"text/css\">\n",
       "            .Relation{\n",
       "                border-collapse:collapse;\n",
       "            }\n",
       "            .Relation th{\n",
       "                background: #A0A0A0; color: #ffffff; padding:4px; border:#f0e0e0 1px solid;\n",
       "                font-weight: normal; font-family: monospace; font-size: 100%;\n",
       "            }\n",
       "            .Relation td{\n",
       "                padding:4px; border:#f0e0e0 1px solid; font-size:100%;\n",
       "            }\n",
       "            .Relation tr:nth-child(odd){\n",
       "                background: #ffffff;\n",
       "            }\n",
       "            .Relation tr:nth-child(even){\n",
       "                background: #f3f1ff;\n",
       "            }\n",
       "            /* Tooltip container */\n",
       "            .djtooltip {\n",
       "            }\n",
       "            /* Tooltip text */\n",
       "            .djtooltip .djtooltiptext {\n",
       "                visibility: hidden;\n",
       "                width: 120px;\n",
       "                background-color: black;\n",
       "                color: #fff;\n",
       "                text-align: center;\n",
       "                padding: 5px 0;\n",
       "                border-radius: 6px;\n",
       "                /* Position the tooltip text - see examples below! */\n",
       "                position: absolute;\n",
       "                z-index: 1;\n",
       "            }\n",
       "            #primary {\n",
       "                font-weight: bold;\n",
       "                color: black;\n",
       "            }\n",
       "\n",
       "            #nonprimary {\n",
       "                font-weight: normal;\n",
       "                color: white;\n",
       "            }\n",
       "\n",
       "            /* Show the tooltip text when you mouse over the tooltip container */\n",
       "            .djtooltip:hover .djtooltiptext {\n",
       "                visibility: visible;\n",
       "            }\n",
       "        </style>\n",
       "        \n",
       "        <b>job reservation table for `microns_minnie65_02`</b>\n",
       "            <div style=\"max-height:1000px;max-width:1500px;overflow:auto;\">\n",
       "            <table border=\"1\" class=\"Relation\">\n",
       "                <thead> <tr style=\"text-align: right;\"> <th> <div class=\"djtooltip\">\n",
       "                                <p id=\"primary\">table_name</p>\n",
       "                                <span class=\"djtooltiptext\">className of the table</span>\n",
       "                            </div></th><th><div class=\"djtooltip\">\n",
       "                                <p id=\"primary\">key_hash</p>\n",
       "                                <span class=\"djtooltiptext\">key hash</span>\n",
       "                            </div></th><th><div class=\"djtooltip\">\n",
       "                                <p id=\"nonprimary\">status</p>\n",
       "                                <span class=\"djtooltiptext\">if tuple is missing, the job is available</span>\n",
       "                            </div></th><th><div class=\"djtooltip\">\n",
       "                                <p id=\"nonprimary\">key</p>\n",
       "                                <span class=\"djtooltiptext\">structure containing the key</span>\n",
       "                            </div></th><th><div class=\"djtooltip\">\n",
       "                                <p id=\"nonprimary\">error_message</p>\n",
       "                                <span class=\"djtooltiptext\">error message returned if failed</span>\n",
       "                            </div></th><th><div class=\"djtooltip\">\n",
       "                                <p id=\"nonprimary\">error_stack</p>\n",
       "                                <span class=\"djtooltiptext\">error stack if failed</span>\n",
       "                            </div></th><th><div class=\"djtooltip\">\n",
       "                                <p id=\"nonprimary\">user</p>\n",
       "                                <span class=\"djtooltiptext\">database user</span>\n",
       "                            </div></th><th><div class=\"djtooltip\">\n",
       "                                <p id=\"nonprimary\">host</p>\n",
       "                                <span class=\"djtooltiptext\">system hostname</span>\n",
       "                            </div></th><th><div class=\"djtooltip\">\n",
       "                                <p id=\"nonprimary\">pid</p>\n",
       "                                <span class=\"djtooltiptext\">system process id</span>\n",
       "                            </div></th><th><div class=\"djtooltip\">\n",
       "                                <p id=\"nonprimary\">connection_id</p>\n",
       "                                <span class=\"djtooltiptext\">connection_id()</span>\n",
       "                            </div></th><th><div class=\"djtooltip\">\n",
       "                                <p id=\"nonprimary\">timestamp</p>\n",
       "                                <span class=\"djtooltiptext\">automatic timestamp</span>\n",
       "                            </div> </th> </tr> </thead>\n",
       "                <tbody> <tr> <td>__baylor_segment_centroid</td>\n",
       "<td>650062339c7ed1c5ae3c0180706af144</td>\n",
       "<td>reserved</td>\n",
       "<td>=BLOB=</td>\n",
       "<td></td>\n",
       "<td>=BLOB=</td>\n",
       "<td>celiib@10.28.0.83</td>\n",
       "<td>at-compute004</td>\n",
       "<td>23385</td>\n",
       "<td>202338</td>\n",
       "<td>2021-03-04 13:50:33</td> </tr> </tbody>\n",
       "            </table>\n",
       "            \n",
       "            <p>Total: 1</p></div>\n",
       "            "
      ],
      "text/plain": [
       "*table_name    *key_hash      status       key        error_message  error_stac user           host           pid       connection_id  timestamp     \n",
       "+------------+ +------------+ +----------+ +--------+ +------------+ +--------+ +------------+ +------------+ +-------+ +------------+ +------------+\n",
       "__baylor_segme 650062339c7ed1 reserved     =BLOB=                    =BLOB=     celiib@10.28.0 at-compute004  23385     202338         2021-03-04 13:\n",
       " (Total: 1)"
      ]
     },
     "execution_count": 14,
     "metadata": {},
     "output_type": "execute_result"
    }
   ],
   "source": [
    "curr_table = (minnie.schema.jobs & \"table_name='__baylor_segment_centroid'\")\n",
    "(curr_table)#.delete()#.delete()# & \"status='error'\"#.delete()\n",
    "#curr_table.delete()"
   ]
  },
  {
   "cell_type": "code",
   "execution_count": 15,
   "metadata": {
    "collapsed": true,
    "jupyter": {
     "outputs_hidden": true
    }
   },
   "outputs": [
    {
     "name": "stderr",
     "output_type": "stream",
     "text": [
      "INFO - 2021-03-04 19:50:56,599 - autopopulate - Found 8 keys to populate\n",
      "INFO - 2021-03-04 19:50:56,610 - connection - Transaction started\n",
      "INFO - 2021-03-04 19:50:56,612 - autopopulate - Populating: {'segment_id': 864691135564804951, 'decimation_version': 0, 'decimation_ratio': Decimal('0.25')}\n"
     ]
    },
    {
     "name": "stdout",
     "output_type": "stream",
     "text": [
      "Populate Started\n",
      "\n",
      "\n",
      "\n",
      "---- Working on Neuron 864691135564804951 ----\n",
      "{'segment_id': 864691135564804951, 'decimation_version': 0, 'decimation_ratio': Decimal('0.25')}\n",
      "Current Arguments Using (adjusted for decimation):\n",
      " large_mesh_threshold= 5000.0 \n",
      "large_mesh_threshold_inner = 3250.0 \n",
      "soma_size_threshold = 562.5 \n",
      "soma_size_threshold_max = 75000.0\n",
      "outer_decimation_ratio = 0.25\n",
      "inner_decimation_ratio = 0.25\n",
      "max_mesh_sized_filtered_away = 22500.0\n",
      "xvfb-run -n 1859 -s \"-screen 0 800x600x24\" meshlabserver $@  -i /neuron_mesh_tools/Auto_Proofreading/Preprocessing_Pipeline/Allen_Splitting_Pipeline/temp/neuron_31365.off -o /neuron_mesh_tools/Auto_Proofreading/Preprocessing_Pipeline/Allen_Splitting_Pipeline/temp/neuron_31365_remove_interior.off -s /neuron_mesh_tools/Auto_Proofreading/Preprocessing_Pipeline/Allen_Splitting_Pipeline/temp/remove_interior_711893.mls\n",
      "removed temporary input file: /neuron_mesh_tools/Auto_Proofreading/Preprocessing_Pipeline/Allen_Splitting_Pipeline/temp/neuron_31365.off\n",
      "removed temporary output file: /neuron_mesh_tools/Auto_Proofreading/Preprocessing_Pipeline/Allen_Splitting_Pipeline/temp/neuron_31365_remove_interior.off\n",
      "/neuron_mesh_tools/Auto_Proofreading/Preprocessing_Pipeline/Allen_Splitting_Pipeline/temp/remove_interior_711893.mls is being deleted....\n"
     ]
    },
    {
     "name": "stderr",
     "output_type": "stream",
     "text": [
      "/meshAfterParty/meshAfterParty/trimesh_utils.py:685: VisibleDeprecationWarning: Creating an ndarray from ragged nested sequences (which is a list-or-tuple of lists-or-tuples-or ndarrays with different lengths or shapes) is deprecated. If you meant to do this, you must specify 'dtype=object' when creating the ndarray\n",
      "  ordered_comp_indices = np.array([k.astype(\"int\") for k in ordered_components])\n"
     ]
    },
    {
     "name": "stdout",
     "output_type": "stream",
     "text": [
      "There were 24 total interior meshes\n",
      "Pieces satisfying glia requirements (volume) (x >= 2500000000000): 1\n",
      "Pieces satisfying nuclie requirements: n_faces (700 <= x) and volume (x < 2500000000000) : 23\n",
      "using precomputed glia pieces\n",
      "\n",
      " ---- Working on inside piece 0 ------\n",
      "For glia mesh 0 there were 581747 faces within 3000 distane\n",
      "New mesh size is <trimesh.Trimesh(vertices.shape=(290961, 3), faces.shape=(581747, 3))>\n",
      "Found 2179 and going to remove 2086 that were inside bounding box\n",
      "After removal of floating pieces the mesh is <trimesh.Trimesh(vertices.shape=(122100, 3), faces.shape=(242900, 3))>\n",
      "inside remove_mesh_interior and using precomputed inside_pieces\n",
      "Removing the following inside neurons: [<trimesh.Trimesh(vertices.shape=(3303, 3), faces.shape=(5949, 3))>, <trimesh.Trimesh(vertices.shape=(2250, 3), faces.shape=(4366, 3))>, <trimesh.Trimesh(vertices.shape=(1560, 3), faces.shape=(2442, 3))>, <trimesh.Trimesh(vertices.shape=(1368, 3), faces.shape=(2246, 3))>, <trimesh.Trimesh(vertices.shape=(1349, 3), faces.shape=(3072, 3))>, <trimesh.Trimesh(vertices.shape=(1312, 3), faces.shape=(2129, 3))>, <trimesh.Trimesh(vertices.shape=(1311, 3), faces.shape=(2096, 3))>, <trimesh.Trimesh(vertices.shape=(1239, 3), faces.shape=(1857, 3))>, <trimesh.Trimesh(vertices.shape=(1161, 3), faces.shape=(1853, 3))>, <trimesh.Trimesh(vertices.shape=(1085, 3), faces.shape=(1725, 3))>, <trimesh.Trimesh(vertices.shape=(1015, 3), faces.shape=(1646, 3))>, <trimesh.Trimesh(vertices.shape=(912, 3), faces.shape=(2060, 3))>, <trimesh.Trimesh(vertices.shape=(831, 3), faces.shape=(1870, 3))>, <trimesh.Trimesh(vertices.shape=(780, 3), faces.shape=(1734, 3))>, <trimesh.Trimesh(vertices.shape=(726, 3), faces.shape=(1602, 3))>, <trimesh.Trimesh(vertices.shape=(599, 3), faces.shape=(1013, 3))>, <trimesh.Trimesh(vertices.shape=(591, 3), faces.shape=(1202, 3))>, <trimesh.Trimesh(vertices.shape=(581, 3), faces.shape=(976, 3))>, <trimesh.Trimesh(vertices.shape=(564, 3), faces.shape=(943, 3))>, <trimesh.Trimesh(vertices.shape=(527, 3), faces.shape=(793, 3))>, <trimesh.Trimesh(vertices.shape=(524, 3), faces.shape=(811, 3))>, <trimesh.Trimesh(vertices.shape=(505, 3), faces.shape=(777, 3))>]\n",
      "\n",
      "\n",
      "Original Mesh size: 5704876, Final mesh size: 242900\n",
      "Total time = 1215.0996899604797\n",
      "xvfb-run -n 1859 -s \"-screen 0 800x600x24\" meshlabserver $@  -i /neuron_mesh_tools/Auto_Proofreading/Preprocessing_Pipeline/Allen_Splitting_Pipeline/864691135564804951/neuron_864691135564804951.off -o /neuron_mesh_tools/Auto_Proofreading/Preprocessing_Pipeline/Allen_Splitting_Pipeline/864691135564804951/neuron_864691135564804951_decimated.off -s /neuron_mesh_tools/Auto_Proofreading/Preprocessing_Pipeline/Allen_Splitting_Pipeline/864691135564804951/decimation_meshlab_25906060.mls\n",
      "Total found significant pieces before Poisson = [<trimesh.Trimesh(vertices.shape=(18406, 3), faces.shape=(36582, 3))>, <trimesh.Trimesh(vertices.shape=(4887, 3), faces.shape=(9597, 3))>, <trimesh.Trimesh(vertices.shape=(2996, 3), faces.shape=(5929, 3))>]\n",
      "----- working on large mesh #0: <trimesh.Trimesh(vertices.shape=(18406, 3), faces.shape=(36582, 3))>\n",
      "remove_inside_pieces requested \n",
      "xvfb-run -n 1859 -s \"-screen 0 800x600x24\" meshlabserver $@  -i /neuron_mesh_tools/Auto_Proofreading/Preprocessing_Pipeline/Allen_Splitting_Pipeline/temp/neuron_47380.off -o /neuron_mesh_tools/Auto_Proofreading/Preprocessing_Pipeline/Allen_Splitting_Pipeline/temp/neuron_47380_remove_interior.off -s /neuron_mesh_tools/Auto_Proofreading/Preprocessing_Pipeline/Allen_Splitting_Pipeline/temp/remove_interior_833302.mls\n",
      "removed temporary input file: /neuron_mesh_tools/Auto_Proofreading/Preprocessing_Pipeline/Allen_Splitting_Pipeline/temp/neuron_47380.off\n",
      "removed temporary output file: /neuron_mesh_tools/Auto_Proofreading/Preprocessing_Pipeline/Allen_Splitting_Pipeline/temp/neuron_47380_remove_interior.off\n",
      "/neuron_mesh_tools/Auto_Proofreading/Preprocessing_Pipeline/Allen_Splitting_Pipeline/temp/remove_interior_833302.mls is being deleted....\n",
      "THERE WERE NO MESH PIECES GREATER THAN THE significance_threshold\n",
      "No significant (1000) interior meshes present\n",
      "largest is 4\n",
      "pre_largest_mesh_path = /neuron_mesh_tools/Auto_Proofreading/Preprocessing_Pipeline/Allen_Splitting_Pipeline/864691135564804951/neuron_864691135564804951_decimated_largest_piece.off\n",
      "xvfb-run -n 1859 -s \"-screen 0 800x600x24\" meshlabserver $@  -i /neuron_mesh_tools/Auto_Proofreading/Preprocessing_Pipeline/Allen_Splitting_Pipeline/864691135564804951/neuron_864691135564804951_decimated_largest_piece.off -o /neuron_mesh_tools/Auto_Proofreading/Preprocessing_Pipeline/Allen_Splitting_Pipeline/864691135564804951/neuron_864691135564804951_decimated_largest_piece_poisson.off -s /neuron_mesh_tools/Auto_Proofreading/Preprocessing_Pipeline/Allen_Splitting_Pipeline/864691135564804951/poisson_799330.mls\n",
      "Total found significant pieces AFTER Poisson = [<trimesh.Trimesh(vertices.shape=(19828, 3), faces.shape=(39652, 3))>, <trimesh.Trimesh(vertices.shape=(6982, 3), faces.shape=(13960, 3))>]\n",
      "----- working on mesh after poisson #0: <trimesh.Trimesh(vertices.shape=(19828, 3), faces.shape=(39652, 3))>\n",
      "xvfb-run -n 1859 -s \"-screen 0 800x600x24\" meshlabserver $@  -i /neuron_mesh_tools/Auto_Proofreading/Preprocessing_Pipeline/Allen_Splitting_Pipeline/864691135564804951/neuron_864691135564804951_decimated_largest_piece_poisson_largest_inner.off -o /neuron_mesh_tools/Auto_Proofreading/Preprocessing_Pipeline/Allen_Splitting_Pipeline/864691135564804951/neuron_864691135564804951_decimated_largest_piece_poisson_largest_inner_decimated.off -s /neuron_mesh_tools/Auto_Proofreading/Preprocessing_Pipeline/Allen_Splitting_Pipeline/864691135564804951/decimation_meshlab_25379285.mls\n",
      "\n",
      "-------Splits after inner decimation len = 1--------\n",
      "\n",
      "done exporting decimated mesh: neuron_864691135564804951_decimated_largest_piece_poisson_largest_inner.off\n",
      "\n",
      "    --- On segmentation loop 0 --\n",
      "largest_mesh_path_inner_decimated_clean = <trimesh.Trimesh(vertices.shape=(4957, 3), faces.shape=(9910, 3))>\n",
      "\n"
     ]
    },
    {
     "data": {
      "application/vnd.jupyter.widget-view+json": {
       "model_id": "f441eeb74e694fe49c5c32dfe63e0ece",
       "version_major": 2,
       "version_minor": 0
      },
      "text/plain": [
       "  0%|          | 0/6 [00:00<?, ?it/s]"
      ]
     },
     "metadata": {},
     "output_type": "display_data"
    },
    {
     "name": "stderr",
     "output_type": "stream",
     "text": [
      "/meshAfterParty/meshAfterParty/trimesh_utils.py:1480: VisibleDeprecationWarning: Creating an ndarray from ragged nested sequences (which is a list-or-tuple of lists-or-tuples-or ndarrays with different lengths or shapes) is deprecated. If you meant to do this, you must specify 'dtype=object' when creating the ndarray\n",
      "  total_submeshes_idx =np.array(list(total_submeshes_idx.values()))\n"
     ]
    },
    {
     "name": "stdout",
     "output_type": "stream",
     "text": [
      "      ------ Found 4 viable somas: [0.5580805, 0.72967, 0.6593275000000001, 0.505747]\n",
      "xy = 7.401024936070114 ratio was beyong 6 multiplier\n",
      "yz = 14.52147226623615 ratio was beyong 6 multiplier\n",
      "Using Poisson Surface Reconstruction for watertightness in soma_volume_ratio\n",
      "xvfb-run -n 1859 -s \"-screen 0 800x600x24\" meshlabserver $@  -i /neuron_mesh_tools/Auto_Proofreading/Preprocessing_Pipeline/Allen_Splitting_Pipeline/Poisson_temp/neuron_589231.off -o /neuron_mesh_tools/Auto_Proofreading/Preprocessing_Pipeline/Allen_Splitting_Pipeline/Poisson_temp/neuron_589231_poisson.off -s /neuron_mesh_tools/Auto_Proofreading/Preprocessing_Pipeline/Allen_Splitting_Pipeline/Poisson_temp/poisson_835540.mls\n",
      "removed temporary input file: /neuron_mesh_tools/Auto_Proofreading/Preprocessing_Pipeline/Allen_Splitting_Pipeline/Poisson_temp/neuron_589231.off\n",
      "removed temporary output file: /neuron_mesh_tools/Auto_Proofreading/Preprocessing_Pipeline/Allen_Splitting_Pipeline/Poisson_temp/neuron_589231_poisson.off\n",
      "mesh.is_watertight = True\n",
      "/neuron_mesh_tools/Auto_Proofreading/Preprocessing_Pipeline/Allen_Splitting_Pipeline/Poisson_temp/poisson_835540.mls is being deleted....\n",
      "Inside sphere validater: ratio_val = 187.05499243762915\n",
      "->Attempting retry of soma because failed first checks: soma_mesh = <trimesh.Trimesh(vertices.shape=(3360, 3), faces.shape=(6712, 3))>, curr_side_len_check = False, curr_volume_check = False\n",
      "perc_0_faces = 0.0008939213349225268\n",
      "Going to run cgal segmentation with:\n",
      "File: /neuron_mesh_tools/Auto_Proofreading/Preprocessing_Pipeline/Allen_Splitting_Pipeline/118_mesh \n",
      "clusters:3 \n",
      "smoothness:0.2\n"
     ]
    },
    {
     "data": {
      "application/vnd.jupyter.widget-view+json": {
       "model_id": "1d1f6f2397014fca94744cd887a21549",
       "version_major": 2,
       "version_minor": 0
      },
      "text/plain": [
       "  0%|          | 0/4 [00:00<?, ?it/s]"
      ]
     },
     "metadata": {},
     "output_type": "display_data"
    },
    {
     "name": "stdout",
     "output_type": "stream",
     "text": [
      "yz = 8.478158369842195 ratio was beyong 6 multiplier\n",
      "Using Poisson Surface Reconstruction for watertightness in soma_volume_ratio\n",
      "xvfb-run -n 1859 -s \"-screen 0 800x600x24\" meshlabserver $@  -i /neuron_mesh_tools/Auto_Proofreading/Preprocessing_Pipeline/Allen_Splitting_Pipeline/Poisson_temp/neuron_109027.off -o /neuron_mesh_tools/Auto_Proofreading/Preprocessing_Pipeline/Allen_Splitting_Pipeline/Poisson_temp/neuron_109027_poisson.off -s /neuron_mesh_tools/Auto_Proofreading/Preprocessing_Pipeline/Allen_Splitting_Pipeline/Poisson_temp/poisson_284833.mls\n",
      "removed temporary input file: /neuron_mesh_tools/Auto_Proofreading/Preprocessing_Pipeline/Allen_Splitting_Pipeline/Poisson_temp/neuron_109027.off\n",
      "removed temporary output file: /neuron_mesh_tools/Auto_Proofreading/Preprocessing_Pipeline/Allen_Splitting_Pipeline/Poisson_temp/neuron_109027_poisson.off\n",
      "mesh.is_watertight = True\n",
      "/neuron_mesh_tools/Auto_Proofreading/Preprocessing_Pipeline/Allen_Splitting_Pipeline/Poisson_temp/poisson_284833.mls is being deleted....\n",
      "Inside sphere validater: ratio_val = 112.43267216617913\n",
      "--->This soma mesh was not added because failed retry of sphere validation:\n",
      " soma_mesh = <trimesh.Trimesh(vertices.shape=(2381, 3), faces.shape=(4749, 3))>, curr_side_len_check = False, curr_volume_check = False\n",
      "Using Poisson Surface Reconstruction for watertightness in soma_volume_ratio\n",
      "xvfb-run -n 1859 -s \"-screen 0 800x600x24\" meshlabserver $@  -i /neuron_mesh_tools/Auto_Proofreading/Preprocessing_Pipeline/Allen_Splitting_Pipeline/Poisson_temp/neuron_821327.off -o /neuron_mesh_tools/Auto_Proofreading/Preprocessing_Pipeline/Allen_Splitting_Pipeline/Poisson_temp/neuron_821327_poisson.off -s /neuron_mesh_tools/Auto_Proofreading/Preprocessing_Pipeline/Allen_Splitting_Pipeline/Poisson_temp/poisson_788064.mls\n",
      "removed temporary input file: /neuron_mesh_tools/Auto_Proofreading/Preprocessing_Pipeline/Allen_Splitting_Pipeline/Poisson_temp/neuron_821327.off\n",
      "removed temporary output file: /neuron_mesh_tools/Auto_Proofreading/Preprocessing_Pipeline/Allen_Splitting_Pipeline/Poisson_temp/neuron_821327_poisson.off\n",
      "mesh.is_watertight = True\n",
      "/neuron_mesh_tools/Auto_Proofreading/Preprocessing_Pipeline/Allen_Splitting_Pipeline/Poisson_temp/poisson_788064.mls is being deleted....\n",
      "Inside sphere validater: ratio_val = 22.901329931570814\n",
      "->Attempting retry of soma because failed first checks: soma_mesh = <trimesh.Trimesh(vertices.shape=(741, 3), faces.shape=(1472, 3))>, curr_side_len_check = True, curr_volume_check = False\n",
      "perc_0_faces = 0.002717391304347826\n",
      "Going to run cgal segmentation with:\n",
      "File: /neuron_mesh_tools/Auto_Proofreading/Preprocessing_Pipeline/Allen_Splitting_Pipeline/763_mesh \n",
      "clusters:3 \n",
      "smoothness:0.2\n"
     ]
    },
    {
     "data": {
      "application/vnd.jupyter.widget-view+json": {
       "model_id": "f33e730ab5c14ce681c6f2863fb7515c",
       "version_major": 2,
       "version_minor": 0
      },
      "text/plain": [
       "  0%|          | 0/1 [00:00<?, ?it/s]"
      ]
     },
     "metadata": {},
     "output_type": "display_data"
    },
    {
     "name": "stdout",
     "output_type": "stream",
     "text": [
      "Using Poisson Surface Reconstruction for watertightness in soma_volume_ratio\n",
      "xvfb-run -n 1859 -s \"-screen 0 800x600x24\" meshlabserver $@  -i /neuron_mesh_tools/Auto_Proofreading/Preprocessing_Pipeline/Allen_Splitting_Pipeline/Poisson_temp/neuron_749860.off -o /neuron_mesh_tools/Auto_Proofreading/Preprocessing_Pipeline/Allen_Splitting_Pipeline/Poisson_temp/neuron_749860_poisson.off -s /neuron_mesh_tools/Auto_Proofreading/Preprocessing_Pipeline/Allen_Splitting_Pipeline/Poisson_temp/poisson_662304.mls\n",
      "removed temporary input file: /neuron_mesh_tools/Auto_Proofreading/Preprocessing_Pipeline/Allen_Splitting_Pipeline/Poisson_temp/neuron_749860.off\n",
      "removed temporary output file: /neuron_mesh_tools/Auto_Proofreading/Preprocessing_Pipeline/Allen_Splitting_Pipeline/Poisson_temp/neuron_749860_poisson.off\n",
      "mesh.is_watertight = True\n",
      "/neuron_mesh_tools/Auto_Proofreading/Preprocessing_Pipeline/Allen_Splitting_Pipeline/Poisson_temp/poisson_662304.mls is being deleted....\n",
      "Inside sphere validater: ratio_val = 22.901329931570814\n",
      "--->This soma mesh was not added because failed retry of sphere validation:\n",
      " soma_mesh = <trimesh.Trimesh(vertices.shape=(741, 3), faces.shape=(1472, 3))>, curr_side_len_check = True, curr_volume_check = False\n",
      "yz = 6.609382887891169 ratio was beyong 6 multiplier\n",
      "Using Poisson Surface Reconstruction for watertightness in soma_volume_ratio\n",
      "xvfb-run -n 1859 -s \"-screen 0 800x600x24\" meshlabserver $@  -i /neuron_mesh_tools/Auto_Proofreading/Preprocessing_Pipeline/Allen_Splitting_Pipeline/Poisson_temp/neuron_581600.off -o /neuron_mesh_tools/Auto_Proofreading/Preprocessing_Pipeline/Allen_Splitting_Pipeline/Poisson_temp/neuron_581600_poisson.off -s /neuron_mesh_tools/Auto_Proofreading/Preprocessing_Pipeline/Allen_Splitting_Pipeline/Poisson_temp/poisson_308107.mls\n",
      "removed temporary input file: /neuron_mesh_tools/Auto_Proofreading/Preprocessing_Pipeline/Allen_Splitting_Pipeline/Poisson_temp/neuron_581600.off\n",
      "removed temporary output file: /neuron_mesh_tools/Auto_Proofreading/Preprocessing_Pipeline/Allen_Splitting_Pipeline/Poisson_temp/neuron_581600_poisson.off\n",
      "mesh.is_watertight = True\n",
      "/neuron_mesh_tools/Auto_Proofreading/Preprocessing_Pipeline/Allen_Splitting_Pipeline/Poisson_temp/poisson_308107.mls is being deleted....\n",
      "Inside sphere validater: ratio_val = 19.506565999643822\n",
      "->Attempting retry of soma because failed first checks: soma_mesh = <trimesh.Trimesh(vertices.shape=(535, 3), faces.shape=(1058, 3))>, curr_side_len_check = False, curr_volume_check = False\n",
      "perc_0_faces = 0.007561436672967864\n",
      "Going to run cgal segmentation with:\n",
      "File: /neuron_mesh_tools/Auto_Proofreading/Preprocessing_Pipeline/Allen_Splitting_Pipeline/836_mesh \n",
      "clusters:3 \n",
      "smoothness:0.2\n"
     ]
    },
    {
     "data": {
      "application/vnd.jupyter.widget-view+json": {
       "model_id": "62caf9ed1af9420eb0b5b6c5cdc9df93",
       "version_major": 2,
       "version_minor": 0
      },
      "text/plain": [
       "  0%|          | 0/1 [00:00<?, ?it/s]"
      ]
     },
     "metadata": {},
     "output_type": "display_data"
    },
    {
     "name": "stdout",
     "output_type": "stream",
     "text": [
      "yz = 6.609382887891169 ratio was beyong 6 multiplier\n",
      "Using Poisson Surface Reconstruction for watertightness in soma_volume_ratio\n",
      "xvfb-run -n 1859 -s \"-screen 0 800x600x24\" meshlabserver $@  -i /neuron_mesh_tools/Auto_Proofreading/Preprocessing_Pipeline/Allen_Splitting_Pipeline/Poisson_temp/neuron_416804.off -o /neuron_mesh_tools/Auto_Proofreading/Preprocessing_Pipeline/Allen_Splitting_Pipeline/Poisson_temp/neuron_416804_poisson.off -s /neuron_mesh_tools/Auto_Proofreading/Preprocessing_Pipeline/Allen_Splitting_Pipeline/Poisson_temp/poisson_155993.mls\n",
      "removed temporary input file: /neuron_mesh_tools/Auto_Proofreading/Preprocessing_Pipeline/Allen_Splitting_Pipeline/Poisson_temp/neuron_416804.off\n",
      "removed temporary output file: /neuron_mesh_tools/Auto_Proofreading/Preprocessing_Pipeline/Allen_Splitting_Pipeline/Poisson_temp/neuron_416804_poisson.off\n",
      "mesh.is_watertight = True\n",
      "/neuron_mesh_tools/Auto_Proofreading/Preprocessing_Pipeline/Allen_Splitting_Pipeline/Poisson_temp/poisson_155993.mls is being deleted....\n",
      "Inside sphere validater: ratio_val = 19.506565999643822\n",
      "--->This soma mesh was not added because failed retry of sphere validation:\n",
      " soma_mesh = <trimesh.Trimesh(vertices.shape=(535, 3), faces.shape=(1058, 3))>, curr_side_len_check = False, curr_volume_check = False\n",
      "Using Poisson Surface Reconstruction for watertightness in soma_volume_ratio\n",
      "xvfb-run -n 1859 -s \"-screen 0 800x600x24\" meshlabserver $@  -i /neuron_mesh_tools/Auto_Proofreading/Preprocessing_Pipeline/Allen_Splitting_Pipeline/Poisson_temp/neuron_326884.off -o /neuron_mesh_tools/Auto_Proofreading/Preprocessing_Pipeline/Allen_Splitting_Pipeline/Poisson_temp/neuron_326884_poisson.off -s /neuron_mesh_tools/Auto_Proofreading/Preprocessing_Pipeline/Allen_Splitting_Pipeline/Poisson_temp/poisson_386216.mls\n",
      "removed temporary input file: /neuron_mesh_tools/Auto_Proofreading/Preprocessing_Pipeline/Allen_Splitting_Pipeline/Poisson_temp/neuron_326884.off\n",
      "removed temporary output file: /neuron_mesh_tools/Auto_Proofreading/Preprocessing_Pipeline/Allen_Splitting_Pipeline/Poisson_temp/neuron_326884_poisson.off\n",
      "mesh.is_watertight = True\n",
      "/neuron_mesh_tools/Auto_Proofreading/Preprocessing_Pipeline/Allen_Splitting_Pipeline/Poisson_temp/poisson_386216.mls is being deleted....\n",
      "Inside sphere validater: ratio_val = 43.14726049869564\n",
      "->Attempting retry of soma because failed first checks: soma_mesh = <trimesh.Trimesh(vertices.shape=(313, 3), faces.shape=(611, 3))>, curr_side_len_check = True, curr_volume_check = False\n",
      "perc_0_faces = 0.022913256955810146\n",
      "Going to run cgal segmentation with:\n",
      "File: /neuron_mesh_tools/Auto_Proofreading/Preprocessing_Pipeline/Allen_Splitting_Pipeline/159_mesh \n",
      "clusters:3 \n",
      "smoothness:0.2\n"
     ]
    },
    {
     "data": {
      "application/vnd.jupyter.widget-view+json": {
       "model_id": "9fe9787706a24fe58b25c194bbc57fcf",
       "version_major": 2,
       "version_minor": 0
      },
      "text/plain": [
       "  0%|          | 0/3 [00:00<?, ?it/s]"
      ]
     },
     "metadata": {},
     "output_type": "display_data"
    },
    {
     "name": "stdout",
     "output_type": "stream",
     "text": [
      "Could not find valid soma mesh in retry\n",
      "----- working on mesh after poisson #1: <trimesh.Trimesh(vertices.shape=(6982, 3), faces.shape=(13960, 3))>\n",
      "xvfb-run -n 1859 -s \"-screen 0 800x600x24\" meshlabserver $@  -i /neuron_mesh_tools/Auto_Proofreading/Preprocessing_Pipeline/Allen_Splitting_Pipeline/864691135564804951/neuron_864691135564804951_decimated_largest_piece_poisson_largest_inner.off -o /neuron_mesh_tools/Auto_Proofreading/Preprocessing_Pipeline/Allen_Splitting_Pipeline/864691135564804951/neuron_864691135564804951_decimated_largest_piece_poisson_largest_inner_decimated.off -s /neuron_mesh_tools/Auto_Proofreading/Preprocessing_Pipeline/Allen_Splitting_Pipeline/864691135564804951/decimation_meshlab_25379285.mls\n",
      "\n",
      "-------Splits after inner decimation len = 1--------\n",
      "\n",
      "done exporting decimated mesh: neuron_864691135564804951_decimated_largest_piece_poisson_largest_inner.off\n",
      "\n",
      "    --- On segmentation loop 0 --\n",
      "largest_mesh_path_inner_decimated_clean = <trimesh.Trimesh(vertices.shape=(1746, 3), faces.shape=(3488, 3))>\n",
      "\n"
     ]
    },
    {
     "data": {
      "application/vnd.jupyter.widget-view+json": {
       "model_id": "32f3945cd16a46f9b25233b359f3ea47",
       "version_major": 2,
       "version_minor": 0
      },
      "text/plain": [
       "  0%|          | 0/4 [00:00<?, ?it/s]"
      ]
     },
     "metadata": {},
     "output_type": "display_data"
    },
    {
     "name": "stdout",
     "output_type": "stream",
     "text": [
      "      ------ Found 1 viable somas: [0.4750615]\n",
      "yz = 6.805775191634545 ratio was beyong 6 multiplier\n",
      "mesh.is_watertight = True\n",
      "/neuron_mesh_tools/Auto_Proofreading/Preprocessing_Pipeline/Allen_Splitting_Pipeline/Poisson_temp/poisson_537980.mls is being deleted....\n",
      "Inside sphere validater: ratio_val = 202.07872890640792\n",
      "->Attempting retry of soma because failed first checks: soma_mesh = <trimesh.Trimesh(vertices.shape=(1562, 3), faces.shape=(3116, 3))>, curr_side_len_check = False, curr_volume_check = False\n",
      "perc_0_faces = 0.0009627727856225931\n",
      "Going to run cgal segmentation with:\n",
      "File: /neuron_mesh_tools/Auto_Proofreading/Preprocessing_Pipeline/Allen_Splitting_Pipeline/615_mesh \n",
      "clusters:3 \n",
      "smoothness:0.2\n"
     ]
    },
    {
     "data": {
      "application/vnd.jupyter.widget-view+json": {
       "model_id": "7512b1292fdf4bd4bad9defe31923f60",
       "version_major": 2,
       "version_minor": 0
      },
      "text/plain": [
       "  0%|          | 0/8 [00:00<?, ?it/s]"
      ]
     },
     "metadata": {},
     "output_type": "display_data"
    },
    {
     "name": "stdout",
     "output_type": "stream",
     "text": [
      "Using Poisson Surface Reconstruction for watertightness in soma_volume_ratio\n",
      "xvfb-run -n 1859 -s \"-screen 0 800x600x24\" meshlabserver $@  -i /neuron_mesh_tools/Auto_Proofreading/Preprocessing_Pipeline/Allen_Splitting_Pipeline/Poisson_temp/neuron_571151.off -o /neuron_mesh_tools/Auto_Proofreading/Preprocessing_Pipeline/Allen_Splitting_Pipeline/Poisson_temp/neuron_571151_poisson.off -s /neuron_mesh_tools/Auto_Proofreading/Preprocessing_Pipeline/Allen_Splitting_Pipeline/Poisson_temp/poisson_656790.mls\n",
      "removed temporary input file: /neuron_mesh_tools/Auto_Proofreading/Preprocessing_Pipeline/Allen_Splitting_Pipeline/Poisson_temp/neuron_571151.off\n",
      "removed temporary output file: /neuron_mesh_tools/Auto_Proofreading/Preprocessing_Pipeline/Allen_Splitting_Pipeline/Poisson_temp/neuron_571151_poisson.off\n",
      "mesh.is_watertight = True\n",
      "/neuron_mesh_tools/Auto_Proofreading/Preprocessing_Pipeline/Allen_Splitting_Pipeline/Poisson_temp/poisson_656790.mls is being deleted....\n",
      "Inside sphere validater: ratio_val = 25.12345477402618\n",
      "--->This soma mesh was not added because failed retry of sphere validation:\n",
      " soma_mesh = <trimesh.Trimesh(vertices.shape=(373, 3), faces.shape=(736, 3))>, curr_side_len_check = True, curr_volume_check = False\n",
      "----- working on large mesh #1: <trimesh.Trimesh(vertices.shape=(4887, 3), faces.shape=(9597, 3))>\n",
      "remove_inside_pieces requested \n",
      "xvfb-run -n 1859 -s \"-screen 0 800x600x24\" meshlabserver $@  -i /neuron_mesh_tools/Auto_Proofreading/Preprocessing_Pipeline/Allen_Splitting_Pipeline/temp/neuron_70907.off -o /neuron_mesh_tools/Auto_Proofreading/Preprocessing_Pipeline/Allen_Splitting_Pipeline/temp/neuron_70907_remove_interior.off -s /neuron_mesh_tools/Auto_Proofreading/Preprocessing_Pipeline/Allen_Splitting_Pipeline/temp/remove_interior_776048.mls\n",
      "removed temporary input file: /neuron_mesh_tools/Auto_Proofreading/Preprocessing_Pipeline/Allen_Splitting_Pipeline/temp/neuron_70907.off\n",
      "removed temporary output file: /neuron_mesh_tools/Auto_Proofreading/Preprocessing_Pipeline/Allen_Splitting_Pipeline/temp/neuron_70907_remove_interior.off\n",
      "/neuron_mesh_tools/Auto_Proofreading/Preprocessing_Pipeline/Allen_Splitting_Pipeline/temp/remove_interior_776048.mls is being deleted....\n",
      "THERE WERE NO MESH PIECES GREATER THAN THE significance_threshold\n",
      "No significant (1000) interior meshes present\n",
      "largest is 6\n",
      "pre_largest_mesh_path = /neuron_mesh_tools/Auto_Proofreading/Preprocessing_Pipeline/Allen_Splitting_Pipeline/864691135564804951/neuron_864691135564804951_decimated_largest_piece.off\n",
      "xvfb-run -n 1859 -s \"-screen 0 800x600x24\" meshlabserver $@  -i /neuron_mesh_tools/Auto_Proofreading/Preprocessing_Pipeline/Allen_Splitting_Pipeline/864691135564804951/neuron_864691135564804951_decimated_largest_piece.off -o /neuron_mesh_tools/Auto_Proofreading/Preprocessing_Pipeline/Allen_Splitting_Pipeline/864691135564804951/neuron_864691135564804951_decimated_largest_piece_poisson.off -s /neuron_mesh_tools/Auto_Proofreading/Preprocessing_Pipeline/Allen_Splitting_Pipeline/864691135564804951/poisson_799330.mls\n"
     ]
    },
    {
     "name": "stderr",
     "output_type": "stream",
     "text": [
      "/meshAfterParty/meshAfterParty/trimesh_utils.py:2987: VisibleDeprecationWarning: Creating an ndarray from ragged nested sequences (which is a list-or-tuple of lists-or-tuples-or ndarrays with different lengths or shapes) is deprecated. If you meant to do this, you must specify 'dtype=object' when creating the ndarray\n",
      "  ordered_comp_indices = np.array([k.astype(\"int\") for k in ordered_components])\n"
     ]
    },
    {
     "name": "stdout",
     "output_type": "stream",
     "text": [
      "Total found significant pieces AFTER Poisson = [<trimesh.Trimesh(vertices.shape=(4370, 3), faces.shape=(8740, 3))>, <trimesh.Trimesh(vertices.shape=(1809, 3), faces.shape=(3614, 3))>]\n",
      "----- working on mesh after poisson #0: <trimesh.Trimesh(vertices.shape=(4370, 3), faces.shape=(8740, 3))>\n",
      "xvfb-run -n 1859 -s \"-screen 0 800x600x24\" meshlabserver $@  -i /neuron_mesh_tools/Auto_Proofreading/Preprocessing_Pipeline/Allen_Splitting_Pipeline/864691135564804951/neuron_864691135564804951_decimated_largest_piece_poisson_largest_inner.off -o /neuron_mesh_tools/Auto_Proofreading/Preprocessing_Pipeline/Allen_Splitting_Pipeline/864691135564804951/neuron_864691135564804951_decimated_largest_piece_poisson_largest_inner_decimated.off -s /neuron_mesh_tools/Auto_Proofreading/Preprocessing_Pipeline/Allen_Splitting_Pipeline/864691135564804951/decimation_meshlab_25379285.mls\n",
      "\n",
      "-------Splits after inner decimation len = 1--------\n",
      "\n",
      "done exporting decimated mesh: neuron_864691135564804951_decimated_largest_piece_poisson_largest_inner.off\n",
      "\n",
      "    --- On segmentation loop 0 --\n",
      "largest_mesh_path_inner_decimated_clean = <trimesh.Trimesh(vertices.shape=(1092, 3), faces.shape=(2184, 3))>\n",
      "\n"
     ]
    },
    {
     "data": {
      "application/vnd.jupyter.widget-view+json": {
       "model_id": "ac273d4cf0aa461b91ac6d5bdaa34476",
       "version_major": 2,
       "version_minor": 0
      },
      "text/plain": [
       "  0%|          | 0/4 [00:00<?, ?it/s]"
      ]
     },
     "metadata": {},
     "output_type": "display_data"
    },
    {
     "name": "stdout",
     "output_type": "stream",
     "text": [
      "      ------ Found 1 viable somas: [0.566341]\n",
      "mesh.is_watertight = True\n",
      "/neuron_mesh_tools/Auto_Proofreading/Preprocessing_Pipeline/Allen_Splitting_Pipeline/Poisson_temp/poisson_958400.mls is being deleted....\n",
      "Inside sphere validater: ratio_val = 371.9982040079336\n",
      "->Attempting retry of soma because failed first checks: soma_mesh = <trimesh.Trimesh(vertices.shape=(545, 3), faces.shape=(1087, 3))>, curr_side_len_check = True, curr_volume_check = False\n",
      "perc_0_faces = 0.0\n",
      "Going to run cgal segmentation with:\n",
      "File: /neuron_mesh_tools/Auto_Proofreading/Preprocessing_Pipeline/Allen_Splitting_Pipeline/942_mesh \n",
      "clusters:3 \n",
      "smoothness:0.2\n"
     ]
    },
    {
     "data": {
      "application/vnd.jupyter.widget-view+json": {
       "model_id": "edc31187ead5427d95645e0190a82589",
       "version_major": 2,
       "version_minor": 0
      },
      "text/plain": [
       "  0%|          | 0/1 [00:00<?, ?it/s]"
      ]
     },
     "metadata": {},
     "output_type": "display_data"
    },
    {
     "name": "stdout",
     "output_type": "stream",
     "text": [
      "mesh.is_watertight = True\n",
      "/neuron_mesh_tools/Auto_Proofreading/Preprocessing_Pipeline/Allen_Splitting_Pipeline/Poisson_temp/poisson_624458.mls is being deleted....\n",
      "Inside sphere validater: ratio_val = 371.9982040079336\n",
      "--->This soma mesh was not added because failed retry of sphere validation:\n",
      " soma_mesh = <trimesh.Trimesh(vertices.shape=(545, 3), faces.shape=(1087, 3))>, curr_side_len_check = True, curr_volume_check = False\n",
      "----- working on mesh after poisson #1: <trimesh.Trimesh(vertices.shape=(1809, 3), faces.shape=(3614, 3))>\n",
      "xvfb-run -n 1859 -s \"-screen 0 800x600x24\" meshlabserver $@  -i /neuron_mesh_tools/Auto_Proofreading/Preprocessing_Pipeline/Allen_Splitting_Pipeline/864691135564804951/neuron_864691135564804951_decimated_largest_piece_poisson_largest_inner.off -o /neuron_mesh_tools/Auto_Proofreading/Preprocessing_Pipeline/Allen_Splitting_Pipeline/864691135564804951/neuron_864691135564804951_decimated_largest_piece_poisson_largest_inner_decimated.off -s /neuron_mesh_tools/Auto_Proofreading/Preprocessing_Pipeline/Allen_Splitting_Pipeline/864691135564804951/decimation_meshlab_25379285.mls\n",
      "\n",
      "-------Splits after inner decimation len = 1--------\n",
      "\n",
      "done exporting decimated mesh: neuron_864691135564804951_decimated_largest_piece_poisson_largest_inner.off\n",
      "\n",
      "    --- On segmentation loop 0 --\n",
      "largest_mesh_path_inner_decimated_clean = <trimesh.Trimesh(vertices.shape=(453, 3), faces.shape=(902, 3))>\n",
      "\n"
     ]
    },
    {
     "data": {
      "application/vnd.jupyter.widget-view+json": {
       "model_id": "da9516b8ef2948b4b610dcfcb7eef9a1",
       "version_major": 2,
       "version_minor": 0
      },
      "text/plain": [
       "  0%|          | 0/2 [00:00<?, ?it/s]"
      ]
     },
     "metadata": {},
     "output_type": "display_data"
    },
    {
     "name": "stdout",
     "output_type": "stream",
     "text": [
      "      ------ Found 1 viable somas: [0.420074]\n",
      "mesh.is_watertight = True\n",
      "/neuron_mesh_tools/Auto_Proofreading/Preprocessing_Pipeline/Allen_Splitting_Pipeline/Poisson_temp/poisson_616561.mls is being deleted....\n",
      "Inside sphere validater: ratio_val = 148.70781257910926\n",
      "->Attempting retry of soma because failed first checks: soma_mesh = <trimesh.Trimesh(vertices.shape=(289, 3), faces.shape=(573, 3))>, curr_side_len_check = True, curr_volume_check = False\n",
      "perc_0_faces = 0.0\n",
      "Going to run cgal segmentation with:\n",
      "File: /neuron_mesh_tools/Auto_Proofreading/Preprocessing_Pipeline/Allen_Splitting_Pipeline/277_mesh \n",
      "clusters:3 \n",
      "smoothness:0.2\n"
     ]
    },
    {
     "data": {
      "application/vnd.jupyter.widget-view+json": {
       "model_id": "44f3ef56cbc74733b67ae8c6cd7ff897",
       "version_major": 2,
       "version_minor": 0
      },
      "text/plain": [
       "  0%|          | 0/3 [00:00<?, ?it/s]"
      ]
     },
     "metadata": {},
     "output_type": "display_data"
    },
    {
     "name": "stdout",
     "output_type": "stream",
     "text": [
      "Could not find valid soma mesh in retry\n",
      "----- working on large mesh #2: <trimesh.Trimesh(vertices.shape=(2996, 3), faces.shape=(5929, 3))>\n",
      "remove_inside_pieces requested \n",
      "xvfb-run -n 1859 -s \"-screen 0 800x600x24\" meshlabserver $@  -i /neuron_mesh_tools/Auto_Proofreading/Preprocessing_Pipeline/Allen_Splitting_Pipeline/temp/neuron_76689.off -o /neuron_mesh_tools/Auto_Proofreading/Preprocessing_Pipeline/Allen_Splitting_Pipeline/temp/neuron_76689_remove_interior.off -s /neuron_mesh_tools/Auto_Proofreading/Preprocessing_Pipeline/Allen_Splitting_Pipeline/temp/remove_interior_507665.mls\n",
      "removed temporary input file: /neuron_mesh_tools/Auto_Proofreading/Preprocessing_Pipeline/Allen_Splitting_Pipeline/temp/neuron_76689.off\n",
      "removed temporary output file: /neuron_mesh_tools/Auto_Proofreading/Preprocessing_Pipeline/Allen_Splitting_Pipeline/temp/neuron_76689_remove_interior.off\n",
      "/neuron_mesh_tools/Auto_Proofreading/Preprocessing_Pipeline/Allen_Splitting_Pipeline/temp/remove_interior_507665.mls is being deleted....\n",
      "THERE WERE NO MESH PIECES GREATER THAN THE significance_threshold\n",
      "THERE WERE NO MESH PIECES GREATER THAN THE significance_threshold\n",
      "No significant (1000) interior meshes present\n",
      "pre_largest_mesh_path = /neuron_mesh_tools/Auto_Proofreading/Preprocessing_Pipeline/Allen_Splitting_Pipeline/864691135564804951/neuron_864691135564804951_decimated_largest_piece.off\n",
      "xvfb-run -n 1859 -s \"-screen 0 800x600x24\" meshlabserver $@  -i /neuron_mesh_tools/Auto_Proofreading/Preprocessing_Pipeline/Allen_Splitting_Pipeline/864691135564804951/neuron_864691135564804951_decimated_largest_piece.off -o /neuron_mesh_tools/Auto_Proofreading/Preprocessing_Pipeline/Allen_Splitting_Pipeline/864691135564804951/neuron_864691135564804951_decimated_largest_piece_poisson.off -s /neuron_mesh_tools/Auto_Proofreading/Preprocessing_Pipeline/Allen_Splitting_Pipeline/864691135564804951/poisson_799330.mls\n",
      "Total found significant pieces AFTER Poisson = []\n",
      "\n",
      "\n",
      "\n",
      " Total time for run = 1323.0784146785736\n",
      "Before Filtering the number of somas found = 0\n",
      "Saved object at /mnt/dj-stor01/platinum/minnie65/02/glia_nuclei_faces/864691135564804951_glia.pbz2\n",
      "File size is 2.377263 MB\n",
      "Saved object at /mnt/dj-stor01/platinum/minnie65/02/glia_nuclei_faces/864691135564804951_nuclei.pbz2\n",
      "File size is 4.6e-05 MB\n",
      " glia_path = /mnt/dj-stor01/platinum/minnie65/02/glia_nuclei_faces/864691135564804951_glia.pbz2 \n",
      " nuclei_path = /mnt/dj-stor01/platinum/minnie65/02/glia_nuclei_faces/864691135564804951_nuclei.pbz2\n",
      "Finished saving off glia and nuclei information : {'segment_id': 864691135564804951, 'decimation_version': 0, 'decimation_ratio': Decimal('0.25'), 'ver': 30, 'n_glia_faces': 5461976, 'glia_faces': PosixPath('/mnt/dj-stor01/platinum/minnie65/02/glia_nuclei_faces/864691135564804951_glia.pbz2'), 'n_nuclei_faces': 0, 'nuclei_faces': PosixPath('/mnt/dj-stor01/platinum/minnie65/02/glia_nuclei_faces/864691135564804951_nuclei.pbz2')}\n",
      "Run time was 1323.0784113407135 \n",
      "    total_soma_list = []\n",
      "    with sdf values = []\n",
      "There were no somas found for this mesh so just writing empty data\n"
     ]
    },
    {
     "name": "stderr",
     "output_type": "stream",
     "text": [
      "INFO - 2021-03-04 20:13:42,780 - connection - Transaction committed and closed.\n",
      "INFO - 2021-03-04 20:13:42,787 - connection - Transaction started\n",
      "INFO - 2021-03-04 20:13:42,789 - autopopulate - Populating: {'segment_id': 864691136008729518, 'decimation_version': 0, 'decimation_ratio': Decimal('0.25')}\n"
     ]
    },
    {
     "name": "stdout",
     "output_type": "stream",
     "text": [
      "\n",
      "\n",
      "\n",
      "---- Working on Neuron 864691136008729518 ----\n",
      "{'segment_id': 864691136008729518, 'decimation_version': 0, 'decimation_ratio': Decimal('0.25')}\n",
      "Current Arguments Using (adjusted for decimation):\n",
      " large_mesh_threshold= 5000.0 \n",
      "large_mesh_threshold_inner = 3250.0 \n",
      "soma_size_threshold = 562.5 \n",
      "soma_size_threshold_max = 75000.0\n",
      "outer_decimation_ratio = 0.25\n",
      "inner_decimation_ratio = 0.25\n",
      "max_mesh_sized_filtered_away = 22500.0\n",
      "xvfb-run -n 1859 -s \"-screen 0 800x600x24\" meshlabserver $@  -i /neuron_mesh_tools/Auto_Proofreading/Preprocessing_Pipeline/Allen_Splitting_Pipeline/temp/neuron_50436.off -o /neuron_mesh_tools/Auto_Proofreading/Preprocessing_Pipeline/Allen_Splitting_Pipeline/temp/neuron_50436_remove_interior.off -s /neuron_mesh_tools/Auto_Proofreading/Preprocessing_Pipeline/Allen_Splitting_Pipeline/temp/remove_interior_329160.mls\n",
      "removed temporary input file: /neuron_mesh_tools/Auto_Proofreading/Preprocessing_Pipeline/Allen_Splitting_Pipeline/temp/neuron_50436.off\n",
      "removed temporary output file: /neuron_mesh_tools/Auto_Proofreading/Preprocessing_Pipeline/Allen_Splitting_Pipeline/temp/neuron_50436_remove_interior.off\n",
      "/neuron_mesh_tools/Auto_Proofreading/Preprocessing_Pipeline/Allen_Splitting_Pipeline/temp/remove_interior_329160.mls is being deleted....\n"
     ]
    },
    {
     "name": "stderr",
     "output_type": "stream",
     "text": [
      "/meshAfterParty/meshAfterParty/trimesh_utils.py:685: VisibleDeprecationWarning: Creating an ndarray from ragged nested sequences (which is a list-or-tuple of lists-or-tuples-or ndarrays with different lengths or shapes) is deprecated. If you meant to do this, you must specify 'dtype=object' when creating the ndarray\n",
      "  ordered_comp_indices = np.array([k.astype(\"int\") for k in ordered_components])\n"
     ]
    },
    {
     "name": "stdout",
     "output_type": "stream",
     "text": [
      "There were 30 total interior meshes\n",
      "Pieces satisfying glia requirements (volume) (x >= 2500000000000): 0\n",
      "Pieces satisfying nuclie requirements: n_faces (700 <= x) and volume (x < 2500000000000) : 30\n",
      "inside remove_mesh_interior and using precomputed inside_pieces\n",
      "Removing the following inside neurons: [<trimesh.Trimesh(vertices.shape=(14841, 3), faces.shape=(30781, 3))>, <trimesh.Trimesh(vertices.shape=(8386, 3), faces.shape=(16910, 3))>, <trimesh.Trimesh(vertices.shape=(4073, 3), faces.shape=(7189, 3))>, <trimesh.Trimesh(vertices.shape=(2097, 3), faces.shape=(4758, 3))>, <trimesh.Trimesh(vertices.shape=(1061, 3), faces.shape=(2407, 3))>, <trimesh.Trimesh(vertices.shape=(1004, 3), faces.shape=(2266, 3))>, <trimesh.Trimesh(vertices.shape=(891, 3), faces.shape=(2035, 3))>, <trimesh.Trimesh(vertices.shape=(880, 3), faces.shape=(1481, 3))>, <trimesh.Trimesh(vertices.shape=(879, 3), faces.shape=(1956, 3))>, <trimesh.Trimesh(vertices.shape=(863, 3), faces.shape=(1948, 3))>, <trimesh.Trimesh(vertices.shape=(727, 3), faces.shape=(1133, 3))>, <trimesh.Trimesh(vertices.shape=(707, 3), faces.shape=(1555, 3))>, <trimesh.Trimesh(vertices.shape=(596, 3), faces.shape=(1344, 3))>, <trimesh.Trimesh(vertices.shape=(533, 3), faces.shape=(764, 3))>, <trimesh.Trimesh(vertices.shape=(462, 3), faces.shape=(1006, 3))>]\n",
      "\n",
      "\n",
      "Original Mesh size: 2763099, Final mesh size: 2685509\n",
      "Total time = 152.01249742507935\n",
      "xvfb-run -n 1859 -s \"-screen 0 800x600x24\" meshlabserver $@  -i /neuron_mesh_tools/Auto_Proofreading/Preprocessing_Pipeline/Allen_Splitting_Pipeline/864691136008729518/neuron_864691136008729518.off -o /neuron_mesh_tools/Auto_Proofreading/Preprocessing_Pipeline/Allen_Splitting_Pipeline/864691136008729518/neuron_864691136008729518_decimated.off -s /neuron_mesh_tools/Auto_Proofreading/Preprocessing_Pipeline/Allen_Splitting_Pipeline/864691136008729518/decimation_meshlab_25156888.mls\n",
      "Total found significant pieces before Poisson = [<trimesh.Trimesh(vertices.shape=(324364, 3), faces.shape=(643331, 3))>]\n",
      "----- working on large mesh #0: <trimesh.Trimesh(vertices.shape=(324364, 3), faces.shape=(643331, 3))>\n",
      "remove_inside_pieces requested \n",
      "xvfb-run -n 1859 -s \"-screen 0 800x600x24\" meshlabserver $@  -i /neuron_mesh_tools/Auto_Proofreading/Preprocessing_Pipeline/Allen_Splitting_Pipeline/temp/neuron_3806.off -o /neuron_mesh_tools/Auto_Proofreading/Preprocessing_Pipeline/Allen_Splitting_Pipeline/temp/neuron_3806_remove_interior.off -s /neuron_mesh_tools/Auto_Proofreading/Preprocessing_Pipeline/Allen_Splitting_Pipeline/temp/remove_interior_256872.mls\n",
      "removed temporary input file: /neuron_mesh_tools/Auto_Proofreading/Preprocessing_Pipeline/Allen_Splitting_Pipeline/temp/neuron_3806.off\n",
      "removed temporary output file: /neuron_mesh_tools/Auto_Proofreading/Preprocessing_Pipeline/Allen_Splitting_Pipeline/temp/neuron_3806_remove_interior.off\n",
      "/neuron_mesh_tools/Auto_Proofreading/Preprocessing_Pipeline/Allen_Splitting_Pipeline/temp/remove_interior_256872.mls is being deleted....\n",
      "THERE WERE NO MESH PIECES GREATER THAN THE significance_threshold\n"
     ]
    },
    {
     "name": "stderr",
     "output_type": "stream",
     "text": [
      "/meshAfterParty/meshAfterParty/trimesh_utils.py:2987: VisibleDeprecationWarning: Creating an ndarray from ragged nested sequences (which is a list-or-tuple of lists-or-tuples-or ndarrays with different lengths or shapes) is deprecated. If you meant to do this, you must specify 'dtype=object' when creating the ndarray\n",
      "  ordered_comp_indices = np.array([k.astype(\"int\") for k in ordered_components])\n"
     ]
    },
    {
     "name": "stdout",
     "output_type": "stream",
     "text": [
      "No significant (1000) interior meshes present\n",
      "largest is 560\n",
      "pre_largest_mesh_path = /neuron_mesh_tools/Auto_Proofreading/Preprocessing_Pipeline/Allen_Splitting_Pipeline/864691136008729518/neuron_864691136008729518_decimated_largest_piece.off\n",
      "xvfb-run -n 1859 -s \"-screen 0 800x600x24\" meshlabserver $@  -i /neuron_mesh_tools/Auto_Proofreading/Preprocessing_Pipeline/Allen_Splitting_Pipeline/864691136008729518/neuron_864691136008729518_decimated_largest_piece.off -o /neuron_mesh_tools/Auto_Proofreading/Preprocessing_Pipeline/Allen_Splitting_Pipeline/864691136008729518/neuron_864691136008729518_decimated_largest_piece_poisson.off -s /neuron_mesh_tools/Auto_Proofreading/Preprocessing_Pipeline/Allen_Splitting_Pipeline/864691136008729518/poisson_164813.mls\n",
      "Total found significant pieces AFTER Poisson = [<trimesh.Trimesh(vertices.shape=(91782, 3), faces.shape=(183572, 3))>, <trimesh.Trimesh(vertices.shape=(13803, 3), faces.shape=(27602, 3))>, <trimesh.Trimesh(vertices.shape=(11195, 3), faces.shape=(22398, 3))>, <trimesh.Trimesh(vertices.shape=(2125, 3), faces.shape=(4246, 3))>, <trimesh.Trimesh(vertices.shape=(1659, 3), faces.shape=(3314, 3))>, <trimesh.Trimesh(vertices.shape=(1628, 3), faces.shape=(3252, 3))>]\n",
      "----- working on mesh after poisson #0: <trimesh.Trimesh(vertices.shape=(91782, 3), faces.shape=(183572, 3))>\n",
      "xvfb-run -n 1859 -s \"-screen 0 800x600x24\" meshlabserver $@  -i /neuron_mesh_tools/Auto_Proofreading/Preprocessing_Pipeline/Allen_Splitting_Pipeline/864691136008729518/neuron_864691136008729518_decimated_largest_piece_poisson_largest_inner.off -o /neuron_mesh_tools/Auto_Proofreading/Preprocessing_Pipeline/Allen_Splitting_Pipeline/864691136008729518/neuron_864691136008729518_decimated_largest_piece_poisson_largest_inner_decimated.off -s /neuron_mesh_tools/Auto_Proofreading/Preprocessing_Pipeline/Allen_Splitting_Pipeline/864691136008729518/decimation_meshlab_25451374.mls\n",
      "\n",
      "-------Splits after inner decimation len = 1--------\n",
      "\n",
      "done exporting decimated mesh: neuron_864691136008729518_decimated_largest_piece_poisson_largest_inner.off\n",
      "\n",
      "    --- On segmentation loop 0 --\n",
      "largest_mesh_path_inner_decimated_clean = <trimesh.Trimesh(vertices.shape=(22939, 3), faces.shape=(45886, 3))>\n",
      "\n"
     ]
    },
    {
     "data": {
      "application/vnd.jupyter.widget-view+json": {
       "model_id": "6c85d3fa54444102975e85cecc4841d5",
       "version_major": 2,
       "version_minor": 0
      },
      "text/plain": [
       "  0%|          | 0/33 [00:00<?, ?it/s]"
      ]
     },
     "metadata": {},
     "output_type": "display_data"
    },
    {
     "name": "stderr",
     "output_type": "stream",
     "text": [
      "/meshAfterParty/meshAfterParty/trimesh_utils.py:1480: VisibleDeprecationWarning: Creating an ndarray from ragged nested sequences (which is a list-or-tuple of lists-or-tuples-or ndarrays with different lengths or shapes) is deprecated. If you meant to do this, you must specify 'dtype=object' when creating the ndarray\n",
      "  total_submeshes_idx =np.array(list(total_submeshes_idx.values()))\n"
     ]
    },
    {
     "name": "stdout",
     "output_type": "stream",
     "text": [
      "      ------ Found 1 viable somas: [0.804124]\n",
      "Using Poisson Surface Reconstruction for watertightness in soma_volume_ratio\n",
      "xvfb-run -n 1859 -s \"-screen 0 800x600x24\" meshlabserver $@  -i /neuron_mesh_tools/Auto_Proofreading/Preprocessing_Pipeline/Allen_Splitting_Pipeline/Poisson_temp/neuron_595978.off -o /neuron_mesh_tools/Auto_Proofreading/Preprocessing_Pipeline/Allen_Splitting_Pipeline/Poisson_temp/neuron_595978_poisson.off -s /neuron_mesh_tools/Auto_Proofreading/Preprocessing_Pipeline/Allen_Splitting_Pipeline/Poisson_temp/poisson_625165.mls\n",
      "removed temporary input file: /neuron_mesh_tools/Auto_Proofreading/Preprocessing_Pipeline/Allen_Splitting_Pipeline/Poisson_temp/neuron_595978.off\n",
      "removed temporary output file: /neuron_mesh_tools/Auto_Proofreading/Preprocessing_Pipeline/Allen_Splitting_Pipeline/Poisson_temp/neuron_595978_poisson.off\n",
      "mesh.is_watertight = True\n",
      "/neuron_mesh_tools/Auto_Proofreading/Preprocessing_Pipeline/Allen_Splitting_Pipeline/Poisson_temp/poisson_625165.mls is being deleted....\n",
      "Inside sphere validater: ratio_val = 3.247043238151259\n",
      "----- working on mesh after poisson #1: <trimesh.Trimesh(vertices.shape=(13803, 3), faces.shape=(27602, 3))>\n",
      "xvfb-run -n 1859 -s \"-screen 0 800x600x24\" meshlabserver $@  -i /neuron_mesh_tools/Auto_Proofreading/Preprocessing_Pipeline/Allen_Splitting_Pipeline/864691136008729518/neuron_864691136008729518_decimated_largest_piece_poisson_largest_inner.off -o /neuron_mesh_tools/Auto_Proofreading/Preprocessing_Pipeline/Allen_Splitting_Pipeline/864691136008729518/neuron_864691136008729518_decimated_largest_piece_poisson_largest_inner_decimated.off -s /neuron_mesh_tools/Auto_Proofreading/Preprocessing_Pipeline/Allen_Splitting_Pipeline/864691136008729518/decimation_meshlab_25451374.mls\n",
      "\n",
      "-------Splits after inner decimation len = 1--------\n",
      "\n",
      "done exporting decimated mesh: neuron_864691136008729518_decimated_largest_piece_poisson_largest_inner.off\n",
      "\n",
      "    --- On segmentation loop 0 --\n",
      "largest_mesh_path_inner_decimated_clean = <trimesh.Trimesh(vertices.shape=(3452, 3), faces.shape=(6900, 3))>\n",
      "\n"
     ]
    },
    {
     "data": {
      "application/vnd.jupyter.widget-view+json": {
       "model_id": "4072598e5e514b63a8b9629adb5f2d17",
       "version_major": 2,
       "version_minor": 0
      },
      "text/plain": [
       "  0%|          | 0/13 [00:00<?, ?it/s]"
      ]
     },
     "metadata": {},
     "output_type": "display_data"
    },
    {
     "name": "stdout",
     "output_type": "stream",
     "text": [
      "      ------ Found 3 viable somas: [0.71614, 0.393868, 0.467806]\n",
      "xy = 8.144670750145531 ratio was beyong 6 multiplier\n",
      "yz = 12.892662595022133 ratio was beyong 6 multiplier\n",
      "Using Poisson Surface Reconstruction for watertightness in soma_volume_ratio\n",
      "xvfb-run -n 1859 -s \"-screen 0 800x600x24\" meshlabserver $@  -i /neuron_mesh_tools/Auto_Proofreading/Preprocessing_Pipeline/Allen_Splitting_Pipeline/Poisson_temp/neuron_861547.off -o /neuron_mesh_tools/Auto_Proofreading/Preprocessing_Pipeline/Allen_Splitting_Pipeline/Poisson_temp/neuron_861547_poisson.off -s /neuron_mesh_tools/Auto_Proofreading/Preprocessing_Pipeline/Allen_Splitting_Pipeline/Poisson_temp/poisson_561711.mls\n",
      "removed temporary input file: /neuron_mesh_tools/Auto_Proofreading/Preprocessing_Pipeline/Allen_Splitting_Pipeline/Poisson_temp/neuron_861547.off\n",
      "removed temporary output file: /neuron_mesh_tools/Auto_Proofreading/Preprocessing_Pipeline/Allen_Splitting_Pipeline/Poisson_temp/neuron_861547_poisson.off\n",
      "mesh.is_watertight = True\n",
      "/neuron_mesh_tools/Auto_Proofreading/Preprocessing_Pipeline/Allen_Splitting_Pipeline/Poisson_temp/poisson_561711.mls is being deleted....\n",
      "Inside sphere validater: ratio_val = 39.76490284919044\n",
      "->Attempting retry of soma because failed first checks: soma_mesh = <trimesh.Trimesh(vertices.shape=(1310, 3), faces.shape=(2607, 3))>, curr_side_len_check = False, curr_volume_check = False\n",
      "perc_0_faces = 0.0019179133103183737\n",
      "Going to run cgal segmentation with:\n",
      "File: /neuron_mesh_tools/Auto_Proofreading/Preprocessing_Pipeline/Allen_Splitting_Pipeline/73_mesh \n",
      "clusters:3 \n",
      "smoothness:0.2\n"
     ]
    },
    {
     "data": {
      "application/vnd.jupyter.widget-view+json": {
       "model_id": "7a78d04b0933425a841625678b203e29",
       "version_major": 2,
       "version_minor": 0
      },
      "text/plain": [
       "  0%|          | 0/2 [00:00<?, ?it/s]"
      ]
     },
     "metadata": {},
     "output_type": "display_data"
    },
    {
     "name": "stdout",
     "output_type": "stream",
     "text": [
      "Using Poisson Surface Reconstruction for watertightness in soma_volume_ratio\n",
      "xvfb-run -n 1859 -s \"-screen 0 800x600x24\" meshlabserver $@  -i /neuron_mesh_tools/Auto_Proofreading/Preprocessing_Pipeline/Allen_Splitting_Pipeline/Poisson_temp/neuron_802606.off -o /neuron_mesh_tools/Auto_Proofreading/Preprocessing_Pipeline/Allen_Splitting_Pipeline/Poisson_temp/neuron_802606_poisson.off -s /neuron_mesh_tools/Auto_Proofreading/Preprocessing_Pipeline/Allen_Splitting_Pipeline/Poisson_temp/poisson_811312.mls\n",
      "removed temporary input file: /neuron_mesh_tools/Auto_Proofreading/Preprocessing_Pipeline/Allen_Splitting_Pipeline/Poisson_temp/neuron_802606.off\n",
      "removed temporary output file: /neuron_mesh_tools/Auto_Proofreading/Preprocessing_Pipeline/Allen_Splitting_Pipeline/Poisson_temp/neuron_802606_poisson.off\n",
      "mesh.is_watertight = True\n",
      "/neuron_mesh_tools/Auto_Proofreading/Preprocessing_Pipeline/Allen_Splitting_Pipeline/Poisson_temp/poisson_811312.mls is being deleted....\n",
      "Inside sphere validater: ratio_val = 16.027488669602107\n",
      "--->This soma mesh was not added because failed retry of sphere validation:\n",
      " soma_mesh = <trimesh.Trimesh(vertices.shape=(500, 3), faces.shape=(986, 3))>, curr_side_len_check = True, curr_volume_check = False\n",
      "Using Poisson Surface Reconstruction for watertightness in soma_volume_ratio\n",
      "xvfb-run -n 1859 -s \"-screen 0 800x600x24\" meshlabserver $@  -i /neuron_mesh_tools/Auto_Proofreading/Preprocessing_Pipeline/Allen_Splitting_Pipeline/Poisson_temp/neuron_482089.off -o /neuron_mesh_tools/Auto_Proofreading/Preprocessing_Pipeline/Allen_Splitting_Pipeline/Poisson_temp/neuron_482089_poisson.off -s /neuron_mesh_tools/Auto_Proofreading/Preprocessing_Pipeline/Allen_Splitting_Pipeline/Poisson_temp/poisson_541109.mls\n",
      "removed temporary input file: /neuron_mesh_tools/Auto_Proofreading/Preprocessing_Pipeline/Allen_Splitting_Pipeline/Poisson_temp/neuron_482089.off\n",
      "removed temporary output file: /neuron_mesh_tools/Auto_Proofreading/Preprocessing_Pipeline/Allen_Splitting_Pipeline/Poisson_temp/neuron_482089_poisson.off\n",
      "mesh.is_watertight = True\n",
      "/neuron_mesh_tools/Auto_Proofreading/Preprocessing_Pipeline/Allen_Splitting_Pipeline/Poisson_temp/poisson_541109.mls is being deleted....\n",
      "Inside sphere validater: ratio_val = 22.362507145462914\n",
      "->Attempting retry of soma because failed first checks: soma_mesh = <trimesh.Trimesh(vertices.shape=(648, 3), faces.shape=(1287, 3))>, curr_side_len_check = True, curr_volume_check = False\n",
      "perc_0_faces = 0.001554001554001554\n",
      "Going to run cgal segmentation with:\n",
      "File: /neuron_mesh_tools/Auto_Proofreading/Preprocessing_Pipeline/Allen_Splitting_Pipeline/958_mesh \n",
      "clusters:3 \n",
      "smoothness:0.2\n"
     ]
    },
    {
     "data": {
      "application/vnd.jupyter.widget-view+json": {
       "model_id": "69164a876c2b4cb0b1c2272bcbc8a12a",
       "version_major": 2,
       "version_minor": 0
      },
      "text/plain": [
       "  0%|          | 0/3 [00:00<?, ?it/s]"
      ]
     },
     "metadata": {},
     "output_type": "display_data"
    },
    {
     "name": "stdout",
     "output_type": "stream",
     "text": [
      "Could not find valid soma mesh in retry\n",
      "Using Poisson Surface Reconstruction for watertightness in soma_volume_ratio\n",
      "xvfb-run -n 1859 -s \"-screen 0 800x600x24\" meshlabserver $@  -i /neuron_mesh_tools/Auto_Proofreading/Preprocessing_Pipeline/Allen_Splitting_Pipeline/Poisson_temp/neuron_345354.off -o /neuron_mesh_tools/Auto_Proofreading/Preprocessing_Pipeline/Allen_Splitting_Pipeline/Poisson_temp/neuron_345354_poisson.off -s /neuron_mesh_tools/Auto_Proofreading/Preprocessing_Pipeline/Allen_Splitting_Pipeline/Poisson_temp/poisson_425302.mls\n",
      "removed temporary input file: /neuron_mesh_tools/Auto_Proofreading/Preprocessing_Pipeline/Allen_Splitting_Pipeline/Poisson_temp/neuron_345354.off\n",
      "removed temporary output file: /neuron_mesh_tools/Auto_Proofreading/Preprocessing_Pipeline/Allen_Splitting_Pipeline/Poisson_temp/neuron_345354_poisson.off\n",
      "mesh.is_watertight = True\n",
      "/neuron_mesh_tools/Auto_Proofreading/Preprocessing_Pipeline/Allen_Splitting_Pipeline/Poisson_temp/poisson_425302.mls is being deleted....\n",
      "Inside sphere validater: ratio_val = 221.341196407936\n",
      "->Attempting retry of soma because failed first checks: soma_mesh = <trimesh.Trimesh(vertices.shape=(429, 3), faces.shape=(849, 3))>, curr_side_len_check = True, curr_volume_check = False\n",
      "perc_0_faces = 0.002355712603062426\n",
      "Going to run cgal segmentation with:\n",
      "File: /neuron_mesh_tools/Auto_Proofreading/Preprocessing_Pipeline/Allen_Splitting_Pipeline/507_mesh \n",
      "clusters:3 \n",
      "smoothness:0.2\n"
     ]
    },
    {
     "data": {
      "application/vnd.jupyter.widget-view+json": {
       "model_id": "eadb7328a9ec46b2b861f21f86e8717a",
       "version_major": 2,
       "version_minor": 0
      },
      "text/plain": [
       "  0%|          | 0/2 [00:00<?, ?it/s]"
      ]
     },
     "metadata": {},
     "output_type": "display_data"
    },
    {
     "name": "stdout",
     "output_type": "stream",
     "text": [
      "Using Poisson Surface Reconstruction for watertightness in soma_volume_ratio\n",
      "xvfb-run -n 1859 -s \"-screen 0 800x600x24\" meshlabserver $@  -i /neuron_mesh_tools/Auto_Proofreading/Preprocessing_Pipeline/Allen_Splitting_Pipeline/Poisson_temp/neuron_788402.off -o /neuron_mesh_tools/Auto_Proofreading/Preprocessing_Pipeline/Allen_Splitting_Pipeline/Poisson_temp/neuron_788402_poisson.off -s /neuron_mesh_tools/Auto_Proofreading/Preprocessing_Pipeline/Allen_Splitting_Pipeline/Poisson_temp/poisson_224718.mls\n",
      "removed temporary input file: /neuron_mesh_tools/Auto_Proofreading/Preprocessing_Pipeline/Allen_Splitting_Pipeline/Poisson_temp/neuron_788402.off\n",
      "removed temporary output file: /neuron_mesh_tools/Auto_Proofreading/Preprocessing_Pipeline/Allen_Splitting_Pipeline/Poisson_temp/neuron_788402_poisson.off\n",
      "mesh.is_watertight = True\n",
      "/neuron_mesh_tools/Auto_Proofreading/Preprocessing_Pipeline/Allen_Splitting_Pipeline/Poisson_temp/poisson_224718.mls is being deleted....\n",
      "Inside sphere validater: ratio_val = 198.89283226631693\n",
      "--->This soma mesh was not added because failed retry of sphere validation:\n",
      " soma_mesh = <trimesh.Trimesh(vertices.shape=(353, 3), faces.shape=(698, 3))>, curr_side_len_check = True, curr_volume_check = False\n",
      "----- working on mesh after poisson #2: <trimesh.Trimesh(vertices.shape=(11195, 3), faces.shape=(22398, 3))>\n",
      "xvfb-run -n 1859 -s \"-screen 0 800x600x24\" meshlabserver $@  -i /neuron_mesh_tools/Auto_Proofreading/Preprocessing_Pipeline/Allen_Splitting_Pipeline/864691136008729518/neuron_864691136008729518_decimated_largest_piece_poisson_largest_inner.off -o /neuron_mesh_tools/Auto_Proofreading/Preprocessing_Pipeline/Allen_Splitting_Pipeline/864691136008729518/neuron_864691136008729518_decimated_largest_piece_poisson_largest_inner_decimated.off -s /neuron_mesh_tools/Auto_Proofreading/Preprocessing_Pipeline/Allen_Splitting_Pipeline/864691136008729518/decimation_meshlab_25451374.mls\n",
      "\n",
      "-------Splits after inner decimation len = 1--------\n",
      "\n",
      "done exporting decimated mesh: neuron_864691136008729518_decimated_largest_piece_poisson_largest_inner.off\n",
      "\n",
      "    --- On segmentation loop 0 --\n",
      "largest_mesh_path_inner_decimated_clean = <trimesh.Trimesh(vertices.shape=(2795, 3), faces.shape=(5598, 3))>\n",
      "\n"
     ]
    },
    {
     "data": {
      "application/vnd.jupyter.widget-view+json": {
       "model_id": "a22e28f9338948118d6efb72046c080d",
       "version_major": 2,
       "version_minor": 0
      },
      "text/plain": [
       "  0%|          | 0/15 [00:00<?, ?it/s]"
      ]
     },
     "metadata": {},
     "output_type": "display_data"
    },
    {
     "name": "stdout",
     "output_type": "stream",
     "text": [
      "      ------ Found 6 viable somas: [0.64092, 0.367968, 0.711008, 0.359887, 0.659488, 0.489886]\n",
      "mesh.is_watertight = True\n",
      "/neuron_mesh_tools/Auto_Proofreading/Preprocessing_Pipeline/Allen_Splitting_Pipeline/Poisson_temp/poisson_81774.mls is being deleted....\n",
      "Inside sphere validater: ratio_val = 208.82753166119645\n",
      "->Attempting retry of soma because failed first checks: soma_mesh = <trimesh.Trimesh(vertices.shape=(386, 3), faces.shape=(765, 3))>, curr_side_len_check = True, curr_volume_check = False\n",
      "perc_0_faces = 0.0\n",
      "Going to run cgal segmentation with:\n",
      "File: /neuron_mesh_tools/Auto_Proofreading/Preprocessing_Pipeline/Allen_Splitting_Pipeline/283_mesh \n",
      "clusters:3 \n",
      "smoothness:0.2\n"
     ]
    },
    {
     "data": {
      "application/vnd.jupyter.widget-view+json": {
       "model_id": "7a03e1280acc472687456a515755a2ae",
       "version_major": 2,
       "version_minor": 0
      },
      "text/plain": [
       "  0%|          | 0/1 [00:00<?, ?it/s]"
      ]
     },
     "metadata": {},
     "output_type": "display_data"
    },
    {
     "name": "stdout",
     "output_type": "stream",
     "text": [
      "mesh.is_watertight = True\n",
      "/neuron_mesh_tools/Auto_Proofreading/Preprocessing_Pipeline/Allen_Splitting_Pipeline/Poisson_temp/poisson_700435.mls is being deleted....\n",
      "Inside sphere validater: ratio_val = 208.82753166119645\n",
      "--->This soma mesh was not added because failed retry of sphere validation:\n",
      " soma_mesh = <trimesh.Trimesh(vertices.shape=(386, 3), faces.shape=(765, 3))>, curr_side_len_check = True, curr_volume_check = False\n",
      "mesh.is_watertight = True\n",
      "/neuron_mesh_tools/Auto_Proofreading/Preprocessing_Pipeline/Allen_Splitting_Pipeline/Poisson_temp/poisson_284869.mls is being deleted....\n",
      "Inside sphere validater: ratio_val = 145.8313078647815\n",
      "->Attempting retry of soma because failed first checks: soma_mesh = <trimesh.Trimesh(vertices.shape=(378, 3), faces.shape=(763, 3))>, curr_side_len_check = True, curr_volume_check = False\n",
      "perc_0_faces = 0.003931847968545216\n",
      "Going to run cgal segmentation with:\n",
      "File: /neuron_mesh_tools/Auto_Proofreading/Preprocessing_Pipeline/Allen_Splitting_Pipeline/166_mesh \n",
      "clusters:3 \n",
      "smoothness:0.2\n"
     ]
    },
    {
     "data": {
      "application/vnd.jupyter.widget-view+json": {
       "model_id": "b17fb7afbb9a4fa5b9fecc45003fabc3",
       "version_major": 2,
       "version_minor": 0
      },
      "text/plain": [
       "  0%|          | 0/3 [00:00<?, ?it/s]"
      ]
     },
     "metadata": {},
     "output_type": "display_data"
    },
    {
     "name": "stdout",
     "output_type": "stream",
     "text": [
      "mesh.is_watertight = True\n",
      "/neuron_mesh_tools/Auto_Proofreading/Preprocessing_Pipeline/Allen_Splitting_Pipeline/Poisson_temp/poisson_544017.mls is being deleted....\n",
      "Inside sphere validater: ratio_val = 109.65304204710564\n",
      "--->This soma mesh was not added because failed retry of sphere validation:\n",
      " soma_mesh = <trimesh.Trimesh(vertices.shape=(328, 3), faces.shape=(662, 3))>, curr_side_len_check = True, curr_volume_check = False\n",
      "mesh.is_watertight = True\n",
      "/neuron_mesh_tools/Auto_Proofreading/Preprocessing_Pipeline/Allen_Splitting_Pipeline/Poisson_temp/poisson_971364.mls is being deleted....\n",
      "Inside sphere validater: ratio_val = 351.31516070172574\n",
      "->Attempting retry of soma because failed first checks: soma_mesh = <trimesh.Trimesh(vertices.shape=(375, 3), faces.shape=(743, 3))>, curr_side_len_check = True, curr_volume_check = False\n",
      "perc_0_faces = 0.0\n",
      "Going to run cgal segmentation with:\n",
      "File: /neuron_mesh_tools/Auto_Proofreading/Preprocessing_Pipeline/Allen_Splitting_Pipeline/417_mesh \n",
      "clusters:3 \n",
      "smoothness:0.2\n"
     ]
    },
    {
     "data": {
      "application/vnd.jupyter.widget-view+json": {
       "model_id": "628893ca3d1240a68a64e005a2ec60d0",
       "version_major": 2,
       "version_minor": 0
      },
      "text/plain": [
       "  0%|          | 0/2 [00:00<?, ?it/s]"
      ]
     },
     "metadata": {},
     "output_type": "display_data"
    },
    {
     "name": "stdout",
     "output_type": "stream",
     "text": [
      "Using Poisson Surface Reconstruction for watertightness in soma_volume_ratio\n",
      "xvfb-run -n 1859 -s \"-screen 0 800x600x24\" meshlabserver $@  -i /neuron_mesh_tools/Auto_Proofreading/Preprocessing_Pipeline/Allen_Splitting_Pipeline/Poisson_temp/neuron_297831.off -o /neuron_mesh_tools/Auto_Proofreading/Preprocessing_Pipeline/Allen_Splitting_Pipeline/Poisson_temp/neuron_297831_poisson.off -s /neuron_mesh_tools/Auto_Proofreading/Preprocessing_Pipeline/Allen_Splitting_Pipeline/Poisson_temp/poisson_597524.mls\n",
      "removed temporary input file: /neuron_mesh_tools/Auto_Proofreading/Preprocessing_Pipeline/Allen_Splitting_Pipeline/Poisson_temp/neuron_297831.off\n",
      "removed temporary output file: /neuron_mesh_tools/Auto_Proofreading/Preprocessing_Pipeline/Allen_Splitting_Pipeline/Poisson_temp/neuron_297831_poisson.off\n",
      "mesh.is_watertight = True\n",
      "/neuron_mesh_tools/Auto_Proofreading/Preprocessing_Pipeline/Allen_Splitting_Pipeline/Poisson_temp/poisson_597524.mls is being deleted....\n",
      "Inside sphere validater: ratio_val = 174.99555706700508\n",
      "--->This soma mesh was not added because failed retry of sphere validation:\n",
      " soma_mesh = <trimesh.Trimesh(vertices.shape=(309, 3), faces.shape=(609, 3))>, curr_side_len_check = True, curr_volume_check = False\n",
      "mesh.is_watertight = True\n",
      "/neuron_mesh_tools/Auto_Proofreading/Preprocessing_Pipeline/Allen_Splitting_Pipeline/Poisson_temp/poisson_209196.mls is being deleted....\n",
      "Inside sphere validater: ratio_val = 247.24323878213366\n",
      "->Attempting retry of soma because failed first checks: soma_mesh = <trimesh.Trimesh(vertices.shape=(314, 3), faces.shape=(623, 3))>, curr_side_len_check = True, curr_volume_check = False\n",
      "perc_0_faces = 0.0016051364365971107\n",
      "Going to run cgal segmentation with:\n",
      "File: /neuron_mesh_tools/Auto_Proofreading/Preprocessing_Pipeline/Allen_Splitting_Pipeline/523_mesh \n",
      "clusters:3 \n",
      "smoothness:0.2\n"
     ]
    },
    {
     "data": {
      "application/vnd.jupyter.widget-view+json": {
       "model_id": "bc74781f6bdc4c11a868d95cbd51f998",
       "version_major": 2,
       "version_minor": 0
      },
      "text/plain": [
       "  0%|          | 0/3 [00:00<?, ?it/s]"
      ]
     },
     "metadata": {},
     "output_type": "display_data"
    },
    {
     "name": "stdout",
     "output_type": "stream",
     "text": [
      "Could not find valid soma mesh in retry\n",
      "mesh.is_watertight = True\n",
      "/neuron_mesh_tools/Auto_Proofreading/Preprocessing_Pipeline/Allen_Splitting_Pipeline/Poisson_temp/poisson_174118.mls is being deleted....\n",
      "Inside sphere validater: ratio_val = 66.51127996067464\n",
      "->Attempting retry of soma because failed first checks: soma_mesh = <trimesh.Trimesh(vertices.shape=(299, 3), faces.shape=(591, 3))>, curr_side_len_check = True, curr_volume_check = False\n",
      "perc_0_faces = 0.0\n",
      "Going to run cgal segmentation with:\n",
      "File: /neuron_mesh_tools/Auto_Proofreading/Preprocessing_Pipeline/Allen_Splitting_Pipeline/559_mesh \n",
      "clusters:3 \n",
      "smoothness:0.2\n"
     ]
    },
    {
     "data": {
      "application/vnd.jupyter.widget-view+json": {
       "model_id": "4c2f3f932de04915865b5f9f0e7427d4",
       "version_major": 2,
       "version_minor": 0
      },
      "text/plain": [
       "  0%|          | 0/2 [00:00<?, ?it/s]"
      ]
     },
     "metadata": {},
     "output_type": "display_data"
    },
    {
     "name": "stdout",
     "output_type": "stream",
     "text": [
      "Could not find valid soma mesh in retry\n",
      "mesh.is_watertight = True\n",
      "/neuron_mesh_tools/Auto_Proofreading/Preprocessing_Pipeline/Allen_Splitting_Pipeline/Poisson_temp/poisson_21378.mls is being deleted....\n",
      "Inside sphere validater: ratio_val = 276.3550853765145\n",
      "->Attempting retry of soma because failed first checks: soma_mesh = <trimesh.Trimesh(vertices.shape=(291, 3), faces.shape=(575, 3))>, curr_side_len_check = True, curr_volume_check = False\n",
      "perc_0_faces = 0.0034782608695652175\n",
      "Going to run cgal segmentation with:\n",
      "File: /neuron_mesh_tools/Auto_Proofreading/Preprocessing_Pipeline/Allen_Splitting_Pipeline/200_mesh \n",
      "clusters:3 \n",
      "smoothness:0.2\n"
     ]
    },
    {
     "data": {
      "application/vnd.jupyter.widget-view+json": {
       "model_id": "80026db269cd445d89bb1e560e176e6f",
       "version_major": 2,
       "version_minor": 0
      },
      "text/plain": [
       "  0%|          | 0/2 [00:00<?, ?it/s]"
      ]
     },
     "metadata": {},
     "output_type": "display_data"
    },
    {
     "name": "stdout",
     "output_type": "stream",
     "text": [
      "Could not find valid soma mesh in retry\n",
      "----- working on mesh after poisson #3: <trimesh.Trimesh(vertices.shape=(2125, 3), faces.shape=(4246, 3))>\n",
      "xvfb-run -n 1859 -s \"-screen 0 800x600x24\" meshlabserver $@  -i /neuron_mesh_tools/Auto_Proofreading/Preprocessing_Pipeline/Allen_Splitting_Pipeline/864691136008729518/neuron_864691136008729518_decimated_largest_piece_poisson_largest_inner.off -o /neuron_mesh_tools/Auto_Proofreading/Preprocessing_Pipeline/Allen_Splitting_Pipeline/864691136008729518/neuron_864691136008729518_decimated_largest_piece_poisson_largest_inner_decimated.off -s /neuron_mesh_tools/Auto_Proofreading/Preprocessing_Pipeline/Allen_Splitting_Pipeline/864691136008729518/decimation_meshlab_25451374.mls\n",
      "\n",
      "-------Splits after inner decimation len = 1--------\n",
      "\n",
      "done exporting decimated mesh: neuron_864691136008729518_decimated_largest_piece_poisson_largest_inner.off\n",
      "\n",
      "    --- On segmentation loop 0 --\n",
      "largest_mesh_path_inner_decimated_clean = <trimesh.Trimesh(vertices.shape=(532, 3), faces.shape=(1060, 3))>\n",
      "\n"
     ]
    },
    {
     "data": {
      "application/vnd.jupyter.widget-view+json": {
       "model_id": "2b8b16c475bb4a4899ef6db3d78f240d",
       "version_major": 2,
       "version_minor": 0
      },
      "text/plain": [
       "  0%|          | 0/2 [00:00<?, ?it/s]"
      ]
     },
     "metadata": {},
     "output_type": "display_data"
    },
    {
     "name": "stdout",
     "output_type": "stream",
     "text": [
      "      ------ Found 1 viable somas: [0.358792]\n",
      "xz = 7.417187229099807 ratio was beyong 6 multiplier\n",
      "yz = 7.162025748181192 ratio was beyong 6 multiplier\n",
      "mesh.is_watertight = True\n",
      "/neuron_mesh_tools/Auto_Proofreading/Preprocessing_Pipeline/Allen_Splitting_Pipeline/Poisson_temp/poisson_379833.mls is being deleted....\n",
      "Inside sphere validater: ratio_val = 705.025023739964\n",
      "->Attempting retry of soma because failed first checks: soma_mesh = <trimesh.Trimesh(vertices.shape=(363, 3), faces.shape=(721, 3))>, curr_side_len_check = False, curr_volume_check = False\n",
      "perc_0_faces = 0.0027739251040221915\n",
      "Going to run cgal segmentation with:\n",
      "File: /neuron_mesh_tools/Auto_Proofreading/Preprocessing_Pipeline/Allen_Splitting_Pipeline/943_mesh \n",
      "clusters:3 \n",
      "smoothness:0.2\n"
     ]
    },
    {
     "data": {
      "application/vnd.jupyter.widget-view+json": {
       "model_id": "2baca56988424c0ca788617ef099f481",
       "version_major": 2,
       "version_minor": 0
      },
      "text/plain": [
       "  0%|          | 0/1 [00:00<?, ?it/s]"
      ]
     },
     "metadata": {},
     "output_type": "display_data"
    },
    {
     "name": "stdout",
     "output_type": "stream",
     "text": [
      "xz = 7.417187229099807 ratio was beyong 6 multiplier\n",
      "yz = 7.162025748181192 ratio was beyong 6 multiplier\n",
      "mesh.is_watertight = True\n",
      "/neuron_mesh_tools/Auto_Proofreading/Preprocessing_Pipeline/Allen_Splitting_Pipeline/Poisson_temp/poisson_183316.mls is being deleted....\n",
      "Inside sphere validater: ratio_val = 705.025023739964\n",
      "--->This soma mesh was not added because failed retry of sphere validation:\n",
      " soma_mesh = <trimesh.Trimesh(vertices.shape=(363, 3), faces.shape=(721, 3))>, curr_side_len_check = False, curr_volume_check = False\n",
      "----- working on mesh after poisson #4: <trimesh.Trimesh(vertices.shape=(1659, 3), faces.shape=(3314, 3))>\n",
      "xvfb-run -n 1859 -s \"-screen 0 800x600x24\" meshlabserver $@  -i /neuron_mesh_tools/Auto_Proofreading/Preprocessing_Pipeline/Allen_Splitting_Pipeline/864691136008729518/neuron_864691136008729518_decimated_largest_piece_poisson_largest_inner.off -o /neuron_mesh_tools/Auto_Proofreading/Preprocessing_Pipeline/Allen_Splitting_Pipeline/864691136008729518/neuron_864691136008729518_decimated_largest_piece_poisson_largest_inner_decimated.off -s /neuron_mesh_tools/Auto_Proofreading/Preprocessing_Pipeline/Allen_Splitting_Pipeline/864691136008729518/decimation_meshlab_25451374.mls\n",
      "\n",
      "-------Splits after inner decimation len = 1--------\n",
      "\n",
      "done exporting decimated mesh: neuron_864691136008729518_decimated_largest_piece_poisson_largest_inner.off\n",
      "\n",
      "    --- On segmentation loop 0 --\n",
      "largest_mesh_path_inner_decimated_clean = <trimesh.Trimesh(vertices.shape=(416, 3), faces.shape=(828, 3))>\n",
      "\n"
     ]
    },
    {
     "data": {
      "application/vnd.jupyter.widget-view+json": {
       "model_id": "1d6d590e8163436d89fdb4521c3005d8",
       "version_major": 2,
       "version_minor": 0
      },
      "text/plain": [
       "  0%|          | 0/3 [00:00<?, ?it/s]"
      ]
     },
     "metadata": {},
     "output_type": "display_data"
    },
    {
     "name": "stdout",
     "output_type": "stream",
     "text": [
      "\n",
      "    --- On segmentation loop 1 --\n",
      "largest_mesh_path_inner_decimated_clean = <trimesh.Trimesh(vertices.shape=(194, 3), faces.shape=(383, 3))>\n",
      "\n"
     ]
    },
    {
     "data": {
      "application/vnd.jupyter.widget-view+json": {
       "model_id": "a20e80631f434088a071d949caef2eb8",
       "version_major": 2,
       "version_minor": 0
      },
      "text/plain": [
       "  0%|          | 0/1 [00:00<?, ?it/s]"
      ]
     },
     "metadata": {},
     "output_type": "display_data"
    },
    {
     "name": "stdout",
     "output_type": "stream",
     "text": [
      "\n",
      "    --- On segmentation loop 2 --\n",
      "largest_mesh_path_inner_decimated_clean = <trimesh.Trimesh(vertices.shape=(194, 3), faces.shape=(383, 3))>\n",
      "\n"
     ]
    },
    {
     "data": {
      "application/vnd.jupyter.widget-view+json": {
       "model_id": "b12cde3aa1a6470fb5136ee83987ff76",
       "version_major": 2,
       "version_minor": 0
      },
      "text/plain": [
       "  0%|          | 0/1 [00:00<?, ?it/s]"
      ]
     },
     "metadata": {},
     "output_type": "display_data"
    },
    {
     "name": "stdout",
     "output_type": "stream",
     "text": [
      "----- working on mesh after poisson #5: <trimesh.Trimesh(vertices.shape=(1628, 3), faces.shape=(3252, 3))>\n",
      "xvfb-run -n 1859 -s \"-screen 0 800x600x24\" meshlabserver $@  -i /neuron_mesh_tools/Auto_Proofreading/Preprocessing_Pipeline/Allen_Splitting_Pipeline/864691136008729518/neuron_864691136008729518_decimated_largest_piece_poisson_largest_inner.off -o /neuron_mesh_tools/Auto_Proofreading/Preprocessing_Pipeline/Allen_Splitting_Pipeline/864691136008729518/neuron_864691136008729518_decimated_largest_piece_poisson_largest_inner_decimated.off -s /neuron_mesh_tools/Auto_Proofreading/Preprocessing_Pipeline/Allen_Splitting_Pipeline/864691136008729518/decimation_meshlab_25451374.mls\n",
      "\n",
      "-------Splits after inner decimation len = 1--------\n",
      "\n",
      "done exporting decimated mesh: neuron_864691136008729518_decimated_largest_piece_poisson_largest_inner.off\n",
      "\n",
      "    --- On segmentation loop 0 --\n",
      "largest_mesh_path_inner_decimated_clean = <trimesh.Trimesh(vertices.shape=(408, 3), faces.shape=(812, 3))>\n",
      "\n"
     ]
    },
    {
     "data": {
      "application/vnd.jupyter.widget-view+json": {
       "model_id": "de2ecc6ea3e7408b96a56655c91363fb",
       "version_major": 2,
       "version_minor": 0
      },
      "text/plain": [
       "  0%|          | 0/1 [00:00<?, ?it/s]"
      ]
     },
     "metadata": {},
     "output_type": "display_data"
    },
    {
     "name": "stdout",
     "output_type": "stream",
     "text": [
      "      ------ Found 1 viable somas: [0.4528775]\n",
      "mesh.is_watertight = True\n",
      "/neuron_mesh_tools/Auto_Proofreading/Preprocessing_Pipeline/Allen_Splitting_Pipeline/Poisson_temp/poisson_314679.mls is being deleted....\n",
      "Inside sphere validater: ratio_val = 866.6936996234424\n",
      "->Attempting retry of soma because failed first checks: soma_mesh = <trimesh.Trimesh(vertices.shape=(408, 3), faces.shape=(812, 3))>, curr_side_len_check = True, curr_volume_check = False\n",
      "perc_0_faces = 0.0\n",
      "Going to run cgal segmentation with:\n",
      "File: /neuron_mesh_tools/Auto_Proofreading/Preprocessing_Pipeline/Allen_Splitting_Pipeline/273_mesh \n",
      "clusters:3 \n",
      "smoothness:0.2\n"
     ]
    },
    {
     "data": {
      "application/vnd.jupyter.widget-view+json": {
       "model_id": "ce294a51ce284bf89a9383e595750686",
       "version_major": 2,
       "version_minor": 0
      },
      "text/plain": [
       "  0%|          | 0/1 [00:00<?, ?it/s]"
      ]
     },
     "metadata": {},
     "output_type": "display_data"
    },
    {
     "name": "stdout",
     "output_type": "stream",
     "text": [
      "mesh.is_watertight = True\n",
      "/neuron_mesh_tools/Auto_Proofreading/Preprocessing_Pipeline/Allen_Splitting_Pipeline/Poisson_temp/poisson_778859.mls is being deleted....\n",
      "Inside sphere validater: ratio_val = 866.6936996234424\n",
      "--->This soma mesh was not added because failed retry of sphere validation:\n",
      " soma_mesh = <trimesh.Trimesh(vertices.shape=(408, 3), faces.shape=(812, 3))>, curr_side_len_check = True, curr_volume_check = False\n",
      "\n",
      "\n",
      "\n",
      " Total time for run = 409.4143645763397\n",
      "Before Filtering the number of somas found = 1\n",
      "xvfb-run -n 1859 -s \"-screen 0 800x600x24\" meshlabserver $@  -i /neuron_mesh_tools/Auto_Proofreading/Preprocessing_Pipeline/Allen_Splitting_Pipeline/temp/neuron_42013.off -o /neuron_mesh_tools/Auto_Proofreading/Preprocessing_Pipeline/Allen_Splitting_Pipeline/temp/neuron_42013_fill_holes.off -s /neuron_mesh_tools/Auto_Proofreading/Preprocessing_Pipeline/Allen_Splitting_Pipeline/temp/fill_holes_33591.mls\n",
      "\n",
      "---- meshlab output -----\n",
      "QStandardPaths: XDG_RUNTIME_DIR not set, defaulting to '/tmp/runtime-root'\n",
      "Current Plugins Dir is: /meshlab/src/distrib/plugins \n",
      "Error While parsing the XML filter plugin descriptors: We are trying to load a xml file that does not correspond to any dll or javascript code; please delete all the spurious xml files\n",
      "Error While parsing the XML filter plugin descriptors: We are trying to load a xml file that does not correspond to any dll or javascript code; please delete all the spurious xml files\n",
      "Opening a file with extention off\n",
      "FilterScript\n",
      "Reading filter with name Remove Duplicate Vertices\n",
      "Reading filter with name Remove Faces from Non Manifold Edges\n",
      "Reading filter with name Close Holes\n",
      "    Reading Param with name MaxHoleSize : RichInt\n",
      "    Reading Param with name Selected : RichBool\n",
      "    Reading Param with name NewFaceSelected : RichBool\n",
      "    Reading Param with name SelfIntersection : RichBool\n",
      "Loading Plugins:\n",
      "Total 104 filtering actions\n",
      "Total 1 io plugins\n",
      "Mesh /neuron_mesh_tools/Auto_Proofreading/Preprocessing_Pipeline/Allen_Splitting_Pipeline/temp/neuron_42013.off loaded has 97105 vn 190818 fn\n",
      "output mesh  /neuron_mesh_tools/Auto_Proofreading/Preprocessing_Pipeline/Allen_Splitting_Pipeline/temp/neuron_42013_fill_holes.off\n",
      "Apply FilterScript: '/neuron_mesh_tools/Auto_Proofreading/Preprocessing_Pipeline/Allen_Splitting_Pipeline/temp/fill_holes_33591.mls'\n",
      "Starting Script of 3 actionsfilter: Remove Duplicate Vertices\n",
      "no additional memory available!!! memory required: 4620336\n",
      "LOG: 2 Removed 0 duplicated vertices\n",
      "Removed 0 duplicated vertices\n",
      "filter: Remove Faces from Non Manifold Edges\n",
      "no additional memory available!!! memory required: 4620336\n",
      "LOG: 2 Successfully removed 7900 non-manifold faces\n",
      "Removed 0 duplicated vertices\n",
      "Successfully removed 7900 non-manifold faces\n",
      "filter: Close Holes\n",
      "no additional memory available!!! memory required: 4525536\n",
      "meshlabserver: ../../../../vcglib/vcg/complex/algorithms/hole.h:259: bool vcg::tri::TrivialEar<MESH>::Close(vcg::tri::TrivialEar<MESH>::PosType&, vcg::tri::TrivialEar<MESH>::PosType&, vcg::tri::TrivialEar<MESH>::FaceType*) [with MESH = CMeshO; vcg::tri::TrivialEar<MESH>::PosType = vcg::face::Pos<CFaceO>; typename MeshType::FaceType = CFaceO; vcg::tri::TrivialEar<MESH>::FaceType = CFaceO]: Assertion `e1.v->IsUserBit(NonManifoldBit())' failed.\n",
      "Aborted (core dumped)\n",
      "\n",
      "\n",
      " returncode ====== 134\n",
      "\n",
      " ------ Done with meshlab output------\n",
      "/neuron_mesh_tools/Auto_Proofreading/Preprocessing_Pipeline/Allen_Splitting_Pipeline/temp/fill_holes_33591.mls is being deleted....\n",
      "The hole closing did not work so continuing without\n",
      "xvfb-run -n 1859 -s \"-screen 0 800x600x24\" meshlabserver $@  -i /neuron_mesh_tools/Auto_Proofreading/Preprocessing_Pipeline/Allen_Splitting_Pipeline/temp/neuron_56792.off -o /neuron_mesh_tools/Auto_Proofreading/Preprocessing_Pipeline/Allen_Splitting_Pipeline/temp/neuron_56792_remove_interior.off -s /neuron_mesh_tools/Auto_Proofreading/Preprocessing_Pipeline/Allen_Splitting_Pipeline/temp/remove_interior_419440.mls\n",
      "removed temporary input file: /neuron_mesh_tools/Auto_Proofreading/Preprocessing_Pipeline/Allen_Splitting_Pipeline/temp/neuron_56792.off\n",
      "removed temporary output file: /neuron_mesh_tools/Auto_Proofreading/Preprocessing_Pipeline/Allen_Splitting_Pipeline/temp/neuron_56792_remove_interior.off\n",
      "/neuron_mesh_tools/Auto_Proofreading/Preprocessing_Pipeline/Allen_Splitting_Pipeline/temp/remove_interior_419440.mls is being deleted....\n",
      "Removing the following inside neurons: [<trimesh.Trimesh(vertices.shape=(7878, 3), faces.shape=(15535, 3))>, <trimesh.Trimesh(vertices.shape=(1163, 3), faces.shape=(1969, 3))>, <trimesh.Trimesh(vertices.shape=(682, 3), faces.shape=(1040, 3))>, <trimesh.Trimesh(vertices.shape=(590, 3), faces.shape=(1524, 3))>, <trimesh.Trimesh(vertices.shape=(502, 3), faces.shape=(817, 3))>, <trimesh.Trimesh(vertices.shape=(438, 3), faces.shape=(716, 3))>, <trimesh.Trimesh(vertices.shape=(417, 3), faces.shape=(847, 3))>, <trimesh.Trimesh(vertices.shape=(414, 3), faces.shape=(465, 3))>, <trimesh.Trimesh(vertices.shape=(348, 3), faces.shape=(396, 3))>, <trimesh.Trimesh(vertices.shape=(321, 3), faces.shape=(664, 3))>, <trimesh.Trimesh(vertices.shape=(292, 3), faces.shape=(456, 3))>, <trimesh.Trimesh(vertices.shape=(281, 3), faces.shape=(586, 3))>, <trimesh.Trimesh(vertices.shape=(277, 3), faces.shape=(402, 3))>, <trimesh.Trimesh(vertices.shape=(269, 3), faces.shape=(436, 3))>, <trimesh.Trimesh(vertices.shape=(265, 3), faces.shape=(550, 3))>, <trimesh.Trimesh(vertices.shape=(259, 3), faces.shape=(475, 3))>, <trimesh.Trimesh(vertices.shape=(252, 3), faces.shape=(461, 3))>, <trimesh.Trimesh(vertices.shape=(251, 3), faces.shape=(457, 3))>, <trimesh.Trimesh(vertices.shape=(249, 3), faces.shape=(504, 3))>, <trimesh.Trimesh(vertices.shape=(231, 3), faces.shape=(470, 3))>, <trimesh.Trimesh(vertices.shape=(213, 3), faces.shape=(379, 3))>, <trimesh.Trimesh(vertices.shape=(205, 3), faces.shape=(418, 3))>, <trimesh.Trimesh(vertices.shape=(195, 3), faces.shape=(430, 3))>, <trimesh.Trimesh(vertices.shape=(185, 3), faces.shape=(314, 3))>]\n",
      "poisson_backtrack_distance_threshold = None\n",
      "Using Poisson Surface Reconstruction for watertightness in soma_volume_ratio\n",
      "xvfb-run -n 1859 -s \"-screen 0 800x600x24\" meshlabserver $@  -i /neuron_mesh_tools/Auto_Proofreading/Preprocessing_Pipeline/Allen_Splitting_Pipeline/Poisson_temp/neuron_739697.off -o /neuron_mesh_tools/Auto_Proofreading/Preprocessing_Pipeline/Allen_Splitting_Pipeline/Poisson_temp/neuron_739697_poisson.off -s /neuron_mesh_tools/Auto_Proofreading/Preprocessing_Pipeline/Allen_Splitting_Pipeline/Poisson_temp/poisson_670335.mls\n",
      "removed temporary input file: /neuron_mesh_tools/Auto_Proofreading/Preprocessing_Pipeline/Allen_Splitting_Pipeline/Poisson_temp/neuron_739697.off\n",
      "removed temporary output file: /neuron_mesh_tools/Auto_Proofreading/Preprocessing_Pipeline/Allen_Splitting_Pipeline/Poisson_temp/neuron_739697_poisson.off\n",
      "mesh.is_watertight = True\n",
      "/neuron_mesh_tools/Auto_Proofreading/Preprocessing_Pipeline/Allen_Splitting_Pipeline/Poisson_temp/poisson_670335.mls is being deleted....\n",
      "Inside sphere validater: ratio_val = 4.791064406566553\n",
      "About to add the following inside nuclei pieces after soma backtrack: [<trimesh.Trimesh(vertices.shape=(14881, 3), faces.shape=(30825, 3))>, <trimesh.Trimesh(vertices.shape=(8386, 3), faces.shape=(16918, 3))>, <trimesh.Trimesh(vertices.shape=(4073, 3), faces.shape=(7189, 3))>, <trimesh.Trimesh(vertices.shape=(2097, 3), faces.shape=(4758, 3))>, <trimesh.Trimesh(vertices.shape=(1061, 3), faces.shape=(2407, 3))>, <trimesh.Trimesh(vertices.shape=(1004, 3), faces.shape=(2266, 3))>, <trimesh.Trimesh(vertices.shape=(891, 3), faces.shape=(2035, 3))>, <trimesh.Trimesh(vertices.shape=(880, 3), faces.shape=(1481, 3))>, <trimesh.Trimesh(vertices.shape=(879, 3), faces.shape=(1956, 3))>, <trimesh.Trimesh(vertices.shape=(863, 3), faces.shape=(1948, 3))>, <trimesh.Trimesh(vertices.shape=(727, 3), faces.shape=(1133, 3))>, <trimesh.Trimesh(vertices.shape=(707, 3), faces.shape=(1555, 3))>, <trimesh.Trimesh(vertices.shape=(596, 3), faces.shape=(1344, 3))>, <trimesh.Trimesh(vertices.shape=(536, 3), faces.shape=(769, 3))>, <trimesh.Trimesh(vertices.shape=(462, 3), faces.shape=(1006, 3))>]\n",
      "Skipping the segmentatio filter at end\n",
      "removing mesh interior before segmentation\n",
      "xvfb-run -n 1859 -s \"-screen 0 800x600x24\" meshlabserver $@  -i /neuron_mesh_tools/Auto_Proofreading/Preprocessing_Pipeline/Allen_Splitting_Pipeline/temp/neuron_74949.off -o /neuron_mesh_tools/Auto_Proofreading/Preprocessing_Pipeline/Allen_Splitting_Pipeline/temp/neuron_74949_fill_holes.off -s /neuron_mesh_tools/Auto_Proofreading/Preprocessing_Pipeline/Allen_Splitting_Pipeline/temp/fill_holes_401777.mls\n",
      "\n",
      "---- meshlab output -----\n",
      "QStandardPaths: XDG_RUNTIME_DIR not set, defaulting to '/tmp/runtime-root'\n",
      "Current Plugins Dir is: /meshlab/src/distrib/plugins \n",
      "Error While parsing the XML filter plugin descriptors: We are trying to load a xml file that does not correspond to any dll or javascript code; please delete all the spurious xml files\n",
      "Error While parsing the XML filter plugin descriptors: We are trying to load a xml file that does not correspond to any dll or javascript code; please delete all the spurious xml files\n",
      "Opening a file with extention off\n",
      "FilterScript\n",
      "Reading filter with name Remove Duplicate Vertices\n",
      "Reading filter with name Remove Faces from Non Manifold Edges\n",
      "Reading filter with name Close Holes\n",
      "    Reading Param with name MaxHoleSize : RichInt\n",
      "    Reading Param with name Selected : RichBool\n",
      "    Reading Param with name NewFaceSelected : RichBool\n",
      "    Reading Param with name SelfIntersection : RichBool\n",
      "Loading Plugins:\n",
      "Total 104 filtering actions\n",
      "Total 1 io plugins\n",
      "Mesh /neuron_mesh_tools/Auto_Proofreading/Preprocessing_Pipeline/Allen_Splitting_Pipeline/temp/neuron_74949.off loaded has 36613 vn 71147 fn\n",
      "output mesh  /neuron_mesh_tools/Auto_Proofreading/Preprocessing_Pipeline/Allen_Splitting_Pipeline/temp/neuron_74949_fill_holes.off\n",
      "Apply FilterScript: '/neuron_mesh_tools/Auto_Proofreading/Preprocessing_Pipeline/Allen_Splitting_Pipeline/temp/fill_holes_401777.mls'\n",
      "Starting Script of 3 actionsfilter: Remove Duplicate Vertices\n",
      "no additional memory available!!! memory required: 1732476\n",
      "LOG: 2 Removed 0 duplicated vertices\n",
      "Removed 0 duplicated vertices\n",
      "filter: Remove Faces from Non Manifold Edges\n",
      "no additional memory available!!! memory required: 1732476\n",
      "LOG: 2 Successfully removed 1 non-manifold faces\n",
      "Removed 0 duplicated vertices\n",
      "Successfully removed 1 non-manifold faces\n",
      "filter: Close Holes\n",
      "no additional memory available!!! memory required: 1732464\n",
      "meshlabserver: ../../../../vcglib/vcg/complex/algorithms/hole.h:259: bool vcg::tri::TrivialEar<MESH>::Close(vcg::tri::TrivialEar<MESH>::PosType&, vcg::tri::TrivialEar<MESH>::PosType&, vcg::tri::TrivialEar<MESH>::FaceType*) [with MESH = CMeshO; vcg::tri::TrivialEar<MESH>::PosType = vcg::face::Pos<CFaceO>; typename MeshType::FaceType = CFaceO; vcg::tri::TrivialEar<MESH>::FaceType = CFaceO]: Assertion `e1.v->IsUserBit(NonManifoldBit())' failed.\n",
      "Aborted (core dumped)\n",
      "\n",
      "\n",
      " returncode ====== 134\n",
      "\n",
      " ------ Done with meshlab output------\n",
      "/neuron_mesh_tools/Auto_Proofreading/Preprocessing_Pipeline/Allen_Splitting_Pipeline/temp/fill_holes_401777.mls is being deleted....\n",
      "The hole closing did not work so continuing without\n",
      "xvfb-run -n 1859 -s \"-screen 0 800x600x24\" meshlabserver $@  -i /neuron_mesh_tools/Auto_Proofreading/Preprocessing_Pipeline/Allen_Splitting_Pipeline/temp/neuron_67181.off -o /neuron_mesh_tools/Auto_Proofreading/Preprocessing_Pipeline/Allen_Splitting_Pipeline/temp/neuron_67181_remove_interior.off -s /neuron_mesh_tools/Auto_Proofreading/Preprocessing_Pipeline/Allen_Splitting_Pipeline/temp/remove_interior_974338.mls\n",
      "removed temporary input file: /neuron_mesh_tools/Auto_Proofreading/Preprocessing_Pipeline/Allen_Splitting_Pipeline/temp/neuron_67181.off\n",
      "removed temporary output file: /neuron_mesh_tools/Auto_Proofreading/Preprocessing_Pipeline/Allen_Splitting_Pipeline/temp/neuron_67181_remove_interior.off\n",
      "/neuron_mesh_tools/Auto_Proofreading/Preprocessing_Pipeline/Allen_Splitting_Pipeline/temp/remove_interior_974338.mls is being deleted....\n",
      "THERE WERE NO MESH PIECES GREATER THAN THE significance_threshold\n",
      "No significant (1000) interior meshes present\n",
      "largest is 259\n",
      "Doing the soma segmentation filter at end\n"
     ]
    },
    {
     "data": {
      "application/vnd.jupyter.widget-view+json": {
       "model_id": "40da0224581d4e86862b1fdb2b84a772",
       "version_major": 2,
       "version_minor": 0
      },
      "text/plain": [
       "  0%|          | 0/23 [00:00<?, ?it/s]"
      ]
     },
     "metadata": {},
     "output_type": "display_data"
    },
    {
     "name": "stderr",
     "output_type": "stream",
     "text": [
      "/meshAfterParty/meshAfterParty/networkx_utils.py:593: VisibleDeprecationWarning: Creating an ndarray from ragged nested sequences (which is a list-or-tuple of lists-or-tuples-or ndarrays with different lengths or shapes) is deprecated. If you meant to do this, you must specify 'dtype=object' when creating the ndarray\n",
      "  cycles_list_array = np.array(cycles_list)\n"
     ]
    },
    {
     "name": "stdout",
     "output_type": "stream",
     "text": [
      "Largest hole before segmentation = 1140375.4807817787, after = 1812149.7061337363,\n",
      "\n",
      "ratio = 1.5890816109895893, difference = 671774.2253519576\n",
      "Saved object at /mnt/dj-stor01/platinum/minnie65/02/glia_nuclei_faces/864691136008729518_glia.pbz2\n",
      "File size is 4.6e-05 MB\n",
      "Saved object at /mnt/dj-stor01/platinum/minnie65/02/glia_nuclei_faces/864691136008729518_nuclei.pbz2\n",
      "File size is 0.17779 MB\n",
      " glia_path = /mnt/dj-stor01/platinum/minnie65/02/glia_nuclei_faces/864691136008729518_glia.pbz2 \n",
      " nuclei_path = /mnt/dj-stor01/platinum/minnie65/02/glia_nuclei_faces/864691136008729518_nuclei.pbz2\n",
      "Finished saving off glia and nuclei information : {'segment_id': 864691136008729518, 'decimation_version': 0, 'decimation_ratio': Decimal('0.25'), 'ver': 30, 'n_glia_faces': 0, 'glia_faces': PosixPath('/mnt/dj-stor01/platinum/minnie65/02/glia_nuclei_faces/864691136008729518_glia.pbz2'), 'n_nuclei_faces': 107902, 'nuclei_faces': PosixPath('/mnt/dj-stor01/platinum/minnie65/02/glia_nuclei_faces/864691136008729518_nuclei.pbz2')}\n",
      "Run time was 409.414363861084 \n",
      "    total_soma_list = [<trimesh.Trimesh(vertices.shape=(36613, 3), faces.shape=(71147, 3))>]\n",
      "    with sdf values = [0.804124]\n",
      "Using Poisson Surface Reconstruction for watertightness in soma_volume_ratio\n",
      "xvfb-run -n 1859 -s \"-screen 0 800x600x24\" meshlabserver $@  -i /neuron_mesh_tools/Auto_Proofreading/Preprocessing_Pipeline/Allen_Splitting_Pipeline/Poisson_temp/neuron_402518.off -o /neuron_mesh_tools/Auto_Proofreading/Preprocessing_Pipeline/Allen_Splitting_Pipeline/Poisson_temp/neuron_402518_poisson.off -s /neuron_mesh_tools/Auto_Proofreading/Preprocessing_Pipeline/Allen_Splitting_Pipeline/Poisson_temp/poisson_645564.mls\n",
      "removed temporary input file: /neuron_mesh_tools/Auto_Proofreading/Preprocessing_Pipeline/Allen_Splitting_Pipeline/Poisson_temp/neuron_402518.off\n",
      "removed temporary output file: /neuron_mesh_tools/Auto_Proofreading/Preprocessing_Pipeline/Allen_Splitting_Pipeline/Poisson_temp/neuron_402518_poisson.off\n",
      "mesh.is_watertight = True\n",
      "/neuron_mesh_tools/Auto_Proofreading/Preprocessing_Pipeline/Allen_Splitting_Pipeline/Poisson_temp/poisson_645564.mls is being deleted....\n",
      "Trying to write off file\n",
      "Predicted Coordinates are [216341 198178  19107]\n"
     ]
    },
    {
     "name": "stderr",
     "output_type": "stream",
     "text": [
      "/meshAfterParty/meshAfterParty/networkx_utils.py:593: VisibleDeprecationWarning: Creating an ndarray from ragged nested sequences (which is a list-or-tuple of lists-or-tuples-or ndarrays with different lengths or shapes) is deprecated. If you meant to do this, you must specify 'dtype=object' when creating the ndarray\n",
      "  cycles_list_array = np.array(cycles_list)\n",
      "INFO - 2021-03-04 20:22:13,429 - connection - Transaction committed and closed.\n",
      "INFO - 2021-03-04 20:22:13,437 - connection - Transaction started\n",
      "INFO - 2021-03-04 20:22:13,438 - autopopulate - Populating: {'segment_id': 864691136922900452, 'decimation_version': 0, 'decimation_ratio': Decimal('0.25')}\n"
     ]
    },
    {
     "name": "stdout",
     "output_type": "stream",
     "text": [
      "\n",
      "\n",
      "\n",
      "---- Working on Neuron 864691136922900452 ----\n",
      "{'segment_id': 864691136922900452, 'decimation_version': 0, 'decimation_ratio': Decimal('0.25')}\n",
      "Current Arguments Using (adjusted for decimation):\n",
      " large_mesh_threshold= 5000.0 \n",
      "large_mesh_threshold_inner = 3250.0 \n",
      "soma_size_threshold = 562.5 \n",
      "soma_size_threshold_max = 75000.0\n",
      "outer_decimation_ratio = 0.25\n",
      "inner_decimation_ratio = 0.25\n",
      "max_mesh_sized_filtered_away = 22500.0\n",
      "xvfb-run -n 1859 -s \"-screen 0 800x600x24\" meshlabserver $@  -i /neuron_mesh_tools/Auto_Proofreading/Preprocessing_Pipeline/Allen_Splitting_Pipeline/temp/neuron_39443.off -o /neuron_mesh_tools/Auto_Proofreading/Preprocessing_Pipeline/Allen_Splitting_Pipeline/temp/neuron_39443_remove_interior.off -s /neuron_mesh_tools/Auto_Proofreading/Preprocessing_Pipeline/Allen_Splitting_Pipeline/temp/remove_interior_746415.mls\n",
      "removed temporary input file: /neuron_mesh_tools/Auto_Proofreading/Preprocessing_Pipeline/Allen_Splitting_Pipeline/temp/neuron_39443.off\n",
      "removed temporary output file: /neuron_mesh_tools/Auto_Proofreading/Preprocessing_Pipeline/Allen_Splitting_Pipeline/temp/neuron_39443_remove_interior.off\n",
      "/neuron_mesh_tools/Auto_Proofreading/Preprocessing_Pipeline/Allen_Splitting_Pipeline/temp/remove_interior_746415.mls is being deleted....\n"
     ]
    },
    {
     "name": "stderr",
     "output_type": "stream",
     "text": [
      "/meshAfterParty/meshAfterParty/trimesh_utils.py:685: VisibleDeprecationWarning: Creating an ndarray from ragged nested sequences (which is a list-or-tuple of lists-or-tuples-or ndarrays with different lengths or shapes) is deprecated. If you meant to do this, you must specify 'dtype=object' when creating the ndarray\n",
      "  ordered_comp_indices = np.array([k.astype(\"int\") for k in ordered_components])\n"
     ]
    },
    {
     "name": "stdout",
     "output_type": "stream",
     "text": [
      "There were 21 total interior meshes\n",
      "Pieces satisfying glia requirements (volume) (x >= 2500000000000): 0\n",
      "Pieces satisfying nuclie requirements: n_faces (700 <= x) and volume (x < 2500000000000) : 21\n",
      "inside remove_mesh_interior and using precomputed inside_pieces\n",
      "Removing the following inside neurons: [<trimesh.Trimesh(vertices.shape=(27178, 3), faces.shape=(54829, 3))>, <trimesh.Trimesh(vertices.shape=(16265, 3), faces.shape=(35491, 3))>, <trimesh.Trimesh(vertices.shape=(1632, 3), faces.shape=(3754, 3))>, <trimesh.Trimesh(vertices.shape=(1090, 3), faces.shape=(2404, 3))>, <trimesh.Trimesh(vertices.shape=(1084, 3), faces.shape=(2438, 3))>, <trimesh.Trimesh(vertices.shape=(808, 3), faces.shape=(1788, 3))>, <trimesh.Trimesh(vertices.shape=(794, 3), faces.shape=(1788, 3))>, <trimesh.Trimesh(vertices.shape=(754, 3), faces.shape=(1671, 3))>, <trimesh.Trimesh(vertices.shape=(674, 3), faces.shape=(1482, 3))>, <trimesh.Trimesh(vertices.shape=(583, 3), faces.shape=(1271, 3))>]\n",
      "\n",
      "\n",
      "Original Mesh size: 2252759, Final mesh size: 2145638\n",
      "Total time = 121.56650614738464\n",
      "xvfb-run -n 1859 -s \"-screen 0 800x600x24\" meshlabserver $@  -i /neuron_mesh_tools/Auto_Proofreading/Preprocessing_Pipeline/Allen_Splitting_Pipeline/864691136922900452/neuron_864691136922900452.off -o /neuron_mesh_tools/Auto_Proofreading/Preprocessing_Pipeline/Allen_Splitting_Pipeline/864691136922900452/neuron_864691136922900452_decimated.off -s /neuron_mesh_tools/Auto_Proofreading/Preprocessing_Pipeline/Allen_Splitting_Pipeline/864691136922900452/decimation_meshlab_25684965.mls\n",
      "Total found significant pieces before Poisson = [<trimesh.Trimesh(vertices.shape=(254383, 3), faces.shape=(499772, 3))>]\n",
      "----- working on large mesh #0: <trimesh.Trimesh(vertices.shape=(254383, 3), faces.shape=(499772, 3))>\n",
      "remove_inside_pieces requested \n",
      "xvfb-run -n 1859 -s \"-screen 0 800x600x24\" meshlabserver $@  -i /neuron_mesh_tools/Auto_Proofreading/Preprocessing_Pipeline/Allen_Splitting_Pipeline/temp/neuron_63618.off -o /neuron_mesh_tools/Auto_Proofreading/Preprocessing_Pipeline/Allen_Splitting_Pipeline/temp/neuron_63618_remove_interior.off -s /neuron_mesh_tools/Auto_Proofreading/Preprocessing_Pipeline/Allen_Splitting_Pipeline/temp/remove_interior_121761.mls\n",
      "removed temporary input file: /neuron_mesh_tools/Auto_Proofreading/Preprocessing_Pipeline/Allen_Splitting_Pipeline/temp/neuron_63618.off\n",
      "removed temporary output file: /neuron_mesh_tools/Auto_Proofreading/Preprocessing_Pipeline/Allen_Splitting_Pipeline/temp/neuron_63618_remove_interior.off\n",
      "/neuron_mesh_tools/Auto_Proofreading/Preprocessing_Pipeline/Allen_Splitting_Pipeline/temp/remove_interior_121761.mls is being deleted....\n",
      "THERE WERE NO MESH PIECES GREATER THAN THE significance_threshold\n"
     ]
    },
    {
     "name": "stderr",
     "output_type": "stream",
     "text": [
      "/meshAfterParty/meshAfterParty/trimesh_utils.py:2987: VisibleDeprecationWarning: Creating an ndarray from ragged nested sequences (which is a list-or-tuple of lists-or-tuples-or ndarrays with different lengths or shapes) is deprecated. If you meant to do this, you must specify 'dtype=object' when creating the ndarray\n",
      "  ordered_comp_indices = np.array([k.astype(\"int\") for k in ordered_components])\n"
     ]
    },
    {
     "name": "stdout",
     "output_type": "stream",
     "text": [
      "No significant (1000) interior meshes present\n",
      "largest is 563\n",
      "pre_largest_mesh_path = /neuron_mesh_tools/Auto_Proofreading/Preprocessing_Pipeline/Allen_Splitting_Pipeline/864691136922900452/neuron_864691136922900452_decimated_largest_piece.off\n",
      "xvfb-run -n 1859 -s \"-screen 0 800x600x24\" meshlabserver $@  -i /neuron_mesh_tools/Auto_Proofreading/Preprocessing_Pipeline/Allen_Splitting_Pipeline/864691136922900452/neuron_864691136922900452_decimated_largest_piece.off -o /neuron_mesh_tools/Auto_Proofreading/Preprocessing_Pipeline/Allen_Splitting_Pipeline/864691136922900452/neuron_864691136922900452_decimated_largest_piece_poisson.off -s /neuron_mesh_tools/Auto_Proofreading/Preprocessing_Pipeline/Allen_Splitting_Pipeline/864691136922900452/poisson_467821.mls\n",
      "Total found significant pieces AFTER Poisson = [<trimesh.Trimesh(vertices.shape=(24469, 3), faces.shape=(48938, 3))>, <trimesh.Trimesh(vertices.shape=(12867, 3), faces.shape=(25730, 3))>, <trimesh.Trimesh(vertices.shape=(2078, 3), faces.shape=(4152, 3))>]\n",
      "----- working on mesh after poisson #0: <trimesh.Trimesh(vertices.shape=(24469, 3), faces.shape=(48938, 3))>\n",
      "xvfb-run -n 1859 -s \"-screen 0 800x600x24\" meshlabserver $@  -i /neuron_mesh_tools/Auto_Proofreading/Preprocessing_Pipeline/Allen_Splitting_Pipeline/864691136922900452/neuron_864691136922900452_decimated_largest_piece_poisson_largest_inner.off -o /neuron_mesh_tools/Auto_Proofreading/Preprocessing_Pipeline/Allen_Splitting_Pipeline/864691136922900452/neuron_864691136922900452_decimated_largest_piece_poisson_largest_inner_decimated.off -s /neuron_mesh_tools/Auto_Proofreading/Preprocessing_Pipeline/Allen_Splitting_Pipeline/864691136922900452/decimation_meshlab_25841506.mls\n",
      "\n",
      "-------Splits after inner decimation len = 1--------\n",
      "\n",
      "done exporting decimated mesh: neuron_864691136922900452_decimated_largest_piece_poisson_largest_inner.off\n",
      "\n",
      "    --- On segmentation loop 0 --\n",
      "largest_mesh_path_inner_decimated_clean = <trimesh.Trimesh(vertices.shape=(6115, 3), faces.shape=(12230, 3))>\n",
      "\n"
     ]
    },
    {
     "data": {
      "application/vnd.jupyter.widget-view+json": {
       "model_id": "82a11f86a26e465f97056ac8f592c08a",
       "version_major": 2,
       "version_minor": 0
      },
      "text/plain": [
       "  0%|          | 0/18 [00:00<?, ?it/s]"
      ]
     },
     "metadata": {},
     "output_type": "display_data"
    },
    {
     "name": "stderr",
     "output_type": "stream",
     "text": [
      "/meshAfterParty/meshAfterParty/trimesh_utils.py:1480: VisibleDeprecationWarning: Creating an ndarray from ragged nested sequences (which is a list-or-tuple of lists-or-tuples-or ndarrays with different lengths or shapes) is deprecated. If you meant to do this, you must specify 'dtype=object' when creating the ndarray\n",
      "  total_submeshes_idx =np.array(list(total_submeshes_idx.values()))\n"
     ]
    },
    {
     "name": "stdout",
     "output_type": "stream",
     "text": [
      "      ------ Found 1 viable somas: [0.6816175]\n",
      "Using Poisson Surface Reconstruction for watertightness in soma_volume_ratio\n",
      "xvfb-run -n 1859 -s \"-screen 0 800x600x24\" meshlabserver $@  -i /neuron_mesh_tools/Auto_Proofreading/Preprocessing_Pipeline/Allen_Splitting_Pipeline/Poisson_temp/neuron_458153.off -o /neuron_mesh_tools/Auto_Proofreading/Preprocessing_Pipeline/Allen_Splitting_Pipeline/Poisson_temp/neuron_458153_poisson.off -s /neuron_mesh_tools/Auto_Proofreading/Preprocessing_Pipeline/Allen_Splitting_Pipeline/Poisson_temp/poisson_779789.mls\n",
      "removed temporary input file: /neuron_mesh_tools/Auto_Proofreading/Preprocessing_Pipeline/Allen_Splitting_Pipeline/Poisson_temp/neuron_458153.off\n",
      "removed temporary output file: /neuron_mesh_tools/Auto_Proofreading/Preprocessing_Pipeline/Allen_Splitting_Pipeline/Poisson_temp/neuron_458153_poisson.off\n",
      "mesh.is_watertight = True\n",
      "/neuron_mesh_tools/Auto_Proofreading/Preprocessing_Pipeline/Allen_Splitting_Pipeline/Poisson_temp/poisson_779789.mls is being deleted....\n",
      "Inside sphere validater: ratio_val = 4.320990689831035\n",
      "----- working on mesh after poisson #1: <trimesh.Trimesh(vertices.shape=(12867, 3), faces.shape=(25730, 3))>\n",
      "xvfb-run -n 1859 -s \"-screen 0 800x600x24\" meshlabserver $@  -i /neuron_mesh_tools/Auto_Proofreading/Preprocessing_Pipeline/Allen_Splitting_Pipeline/864691136922900452/neuron_864691136922900452_decimated_largest_piece_poisson_largest_inner.off -o /neuron_mesh_tools/Auto_Proofreading/Preprocessing_Pipeline/Allen_Splitting_Pipeline/864691136922900452/neuron_864691136922900452_decimated_largest_piece_poisson_largest_inner_decimated.off -s /neuron_mesh_tools/Auto_Proofreading/Preprocessing_Pipeline/Allen_Splitting_Pipeline/864691136922900452/decimation_meshlab_25841506.mls\n",
      "\n",
      "-------Splits after inner decimation len = 1--------\n",
      "\n",
      "done exporting decimated mesh: neuron_864691136922900452_decimated_largest_piece_poisson_largest_inner.off\n",
      "\n",
      "    --- On segmentation loop 0 --\n",
      "largest_mesh_path_inner_decimated_clean = <trimesh.Trimesh(vertices.shape=(3217, 3), faces.shape=(6430, 3))>\n",
      "\n"
     ]
    },
    {
     "data": {
      "application/vnd.jupyter.widget-view+json": {
       "model_id": "b65503e3f3c344cf9aa987ecaab6cb8b",
       "version_major": 2,
       "version_minor": 0
      },
      "text/plain": [
       "  0%|          | 0/13 [00:00<?, ?it/s]"
      ]
     },
     "metadata": {},
     "output_type": "display_data"
    },
    {
     "name": "stdout",
     "output_type": "stream",
     "text": [
      "      ------ Found 1 viable somas: [0.792975]\n",
      "Using Poisson Surface Reconstruction for watertightness in soma_volume_ratio\n",
      "xvfb-run -n 1859 -s \"-screen 0 800x600x24\" meshlabserver $@  -i /neuron_mesh_tools/Auto_Proofreading/Preprocessing_Pipeline/Allen_Splitting_Pipeline/Poisson_temp/neuron_741328.off -o /neuron_mesh_tools/Auto_Proofreading/Preprocessing_Pipeline/Allen_Splitting_Pipeline/Poisson_temp/neuron_741328_poisson.off -s /neuron_mesh_tools/Auto_Proofreading/Preprocessing_Pipeline/Allen_Splitting_Pipeline/Poisson_temp/poisson_976684.mls\n",
      "removed temporary input file: /neuron_mesh_tools/Auto_Proofreading/Preprocessing_Pipeline/Allen_Splitting_Pipeline/Poisson_temp/neuron_741328.off\n",
      "removed temporary output file: /neuron_mesh_tools/Auto_Proofreading/Preprocessing_Pipeline/Allen_Splitting_Pipeline/Poisson_temp/neuron_741328_poisson.off\n",
      "mesh.is_watertight = True\n",
      "/neuron_mesh_tools/Auto_Proofreading/Preprocessing_Pipeline/Allen_Splitting_Pipeline/Poisson_temp/poisson_976684.mls is being deleted....\n",
      "Inside sphere validater: ratio_val = 3.0034905627744592\n",
      "----- working on mesh after poisson #2: <trimesh.Trimesh(vertices.shape=(2078, 3), faces.shape=(4152, 3))>\n",
      "xvfb-run -n 1859 -s \"-screen 0 800x600x24\" meshlabserver $@  -i /neuron_mesh_tools/Auto_Proofreading/Preprocessing_Pipeline/Allen_Splitting_Pipeline/864691136922900452/neuron_864691136922900452_decimated_largest_piece_poisson_largest_inner.off -o /neuron_mesh_tools/Auto_Proofreading/Preprocessing_Pipeline/Allen_Splitting_Pipeline/864691136922900452/neuron_864691136922900452_decimated_largest_piece_poisson_largest_inner_decimated.off -s /neuron_mesh_tools/Auto_Proofreading/Preprocessing_Pipeline/Allen_Splitting_Pipeline/864691136922900452/decimation_meshlab_25841506.mls\n",
      "\n",
      "-------Splits after inner decimation len = 1--------\n",
      "\n",
      "done exporting decimated mesh: neuron_864691136922900452_decimated_largest_piece_poisson_largest_inner.off\n",
      "\n",
      "    --- On segmentation loop 0 --\n",
      "largest_mesh_path_inner_decimated_clean = <trimesh.Trimesh(vertices.shape=(521, 3), faces.shape=(1038, 3))>\n",
      "\n"
     ]
    },
    {
     "data": {
      "application/vnd.jupyter.widget-view+json": {
       "model_id": "2be59d479b48443b8091b907427c9424",
       "version_major": 2,
       "version_minor": 0
      },
      "text/plain": [
       "  0%|          | 0/3 [00:00<?, ?it/s]"
      ]
     },
     "metadata": {},
     "output_type": "display_data"
    },
    {
     "name": "stdout",
     "output_type": "stream",
     "text": [
      "      ------ Found 1 viable somas: [0.403921]\n",
      "mesh.is_watertight = True\n",
      "/neuron_mesh_tools/Auto_Proofreading/Preprocessing_Pipeline/Allen_Splitting_Pipeline/Poisson_temp/poisson_829421.mls is being deleted....\n",
      "Inside sphere validater: ratio_val = 969.1053837035248\n",
      "->Attempting retry of soma because failed first checks: soma_mesh = <trimesh.Trimesh(vertices.shape=(393, 3), faces.shape=(781, 3))>, curr_side_len_check = True, curr_volume_check = False\n",
      "perc_0_faces = 0.0038412291933418692\n",
      "Going to run cgal segmentation with:\n",
      "File: /neuron_mesh_tools/Auto_Proofreading/Preprocessing_Pipeline/Allen_Splitting_Pipeline/788_mesh \n",
      "clusters:3 \n",
      "smoothness:0.2\n"
     ]
    },
    {
     "data": {
      "application/vnd.jupyter.widget-view+json": {
       "model_id": "b14d6ffef6884fb2bdb807dc7487e34b",
       "version_major": 2,
       "version_minor": 0
      },
      "text/plain": [
       "  0%|          | 0/3 [00:00<?, ?it/s]"
      ]
     },
     "metadata": {},
     "output_type": "display_data"
    },
    {
     "name": "stdout",
     "output_type": "stream",
     "text": [
      "mesh.is_watertight = True\n",
      "/neuron_mesh_tools/Auto_Proofreading/Preprocessing_Pipeline/Allen_Splitting_Pipeline/Poisson_temp/poisson_454694.mls is being deleted....\n",
      "Inside sphere validater: ratio_val = 868.3566577363754\n",
      "--->This soma mesh was not added because failed retry of sphere validation:\n",
      " soma_mesh = <trimesh.Trimesh(vertices.shape=(323, 3), faces.shape=(640, 3))>, curr_side_len_check = True, curr_volume_check = False\n",
      "\n",
      "\n",
      "\n",
      " Total time for run = 299.82758951187134\n",
      "Before Filtering the number of somas found = 2\n",
      "xvfb-run -n 1859 -s \"-screen 0 800x600x24\" meshlabserver $@  -i /neuron_mesh_tools/Auto_Proofreading/Preprocessing_Pipeline/Allen_Splitting_Pipeline/temp/neuron_6442.off -o /neuron_mesh_tools/Auto_Proofreading/Preprocessing_Pipeline/Allen_Splitting_Pipeline/temp/neuron_6442_fill_holes.off -s /neuron_mesh_tools/Auto_Proofreading/Preprocessing_Pipeline/Allen_Splitting_Pipeline/temp/fill_holes_566078.mls\n",
      "\n",
      "---- meshlab output -----\n",
      "QStandardPaths: XDG_RUNTIME_DIR not set, defaulting to '/tmp/runtime-root'\n",
      "Current Plugins Dir is: /meshlab/src/distrib/plugins \n",
      "Error While parsing the XML filter plugin descriptors: We are trying to load a xml file that does not correspond to any dll or javascript code; please delete all the spurious xml files\n",
      "Error While parsing the XML filter plugin descriptors: We are trying to load a xml file that does not correspond to any dll or javascript code; please delete all the spurious xml files\n",
      "Opening a file with extention off\n",
      "FilterScript\n",
      "Reading filter with name Remove Duplicate Vertices\n",
      "Reading filter with name Remove Faces from Non Manifold Edges\n",
      "Reading filter with name Close Holes\n",
      "    Reading Param with name MaxHoleSize : RichInt\n",
      "    Reading Param with name Selected : RichBool\n",
      "    Reading Param with name NewFaceSelected : RichBool\n",
      "    Reading Param with name SelfIntersection : RichBool\n",
      "Loading Plugins:\n",
      "Total 104 filtering actions\n",
      "Total 1 io plugins\n",
      "Mesh /neuron_mesh_tools/Auto_Proofreading/Preprocessing_Pipeline/Allen_Splitting_Pipeline/temp/neuron_6442.off loaded has 55031 vn 112403 fn\n",
      "output mesh  /neuron_mesh_tools/Auto_Proofreading/Preprocessing_Pipeline/Allen_Splitting_Pipeline/temp/neuron_6442_fill_holes.off\n",
      "Apply FilterScript: '/neuron_mesh_tools/Auto_Proofreading/Preprocessing_Pipeline/Allen_Splitting_Pipeline/temp/fill_holes_566078.mls'\n",
      "Starting Script of 3 actionsfilter: Remove Duplicate Vertices\n",
      "no additional memory available!!! memory required: 2669580\n",
      "LOG: 2 Removed 0 duplicated vertices\n",
      "Removed 0 duplicated vertices\n",
      "filter: Remove Faces from Non Manifold Edges\n",
      "no additional memory available!!! memory required: 2669580\n",
      "LOG: 2 Successfully removed 13268 non-manifold faces\n",
      "Removed 0 duplicated vertices\n",
      "Successfully removed 13268 non-manifold faces\n",
      "filter: Close Holes\n",
      "no additional memory available!!! memory required: 2510364\n",
      "meshlabserver: ../../../../vcglib/vcg/complex/algorithms/hole.h:259: bool vcg::tri::TrivialEar<MESH>::Close(vcg::tri::TrivialEar<MESH>::PosType&, vcg::tri::TrivialEar<MESH>::PosType&, vcg::tri::TrivialEar<MESH>::FaceType*) [with MESH = CMeshO; vcg::tri::TrivialEar<MESH>::PosType = vcg::face::Pos<CFaceO>; typename MeshType::FaceType = CFaceO; vcg::tri::TrivialEar<MESH>::FaceType = CFaceO]: Assertion `e1.v->IsUserBit(NonManifoldBit())' failed.\n",
      "Aborted (core dumped)\n",
      "\n",
      "\n",
      " returncode ====== 134\n",
      "\n",
      " ------ Done with meshlab output------\n",
      "/neuron_mesh_tools/Auto_Proofreading/Preprocessing_Pipeline/Allen_Splitting_Pipeline/temp/fill_holes_566078.mls is being deleted....\n",
      "The hole closing did not work so continuing without\n",
      "xvfb-run -n 1859 -s \"-screen 0 800x600x24\" meshlabserver $@  -i /neuron_mesh_tools/Auto_Proofreading/Preprocessing_Pipeline/Allen_Splitting_Pipeline/temp/neuron_31162.off -o /neuron_mesh_tools/Auto_Proofreading/Preprocessing_Pipeline/Allen_Splitting_Pipeline/temp/neuron_31162_remove_interior.off -s /neuron_mesh_tools/Auto_Proofreading/Preprocessing_Pipeline/Allen_Splitting_Pipeline/temp/remove_interior_857176.mls\n",
      "removed temporary input file: /neuron_mesh_tools/Auto_Proofreading/Preprocessing_Pipeline/Allen_Splitting_Pipeline/temp/neuron_31162.off\n",
      "removed temporary output file: /neuron_mesh_tools/Auto_Proofreading/Preprocessing_Pipeline/Allen_Splitting_Pipeline/temp/neuron_31162_remove_interior.off\n",
      "/neuron_mesh_tools/Auto_Proofreading/Preprocessing_Pipeline/Allen_Splitting_Pipeline/temp/remove_interior_857176.mls is being deleted....\n",
      "Removing the following inside neurons: [<trimesh.Trimesh(vertices.shape=(21871, 3), faces.shape=(47049, 3))>, <trimesh.Trimesh(vertices.shape=(513, 3), faces.shape=(1121, 3))>, <trimesh.Trimesh(vertices.shape=(168, 3), faces.shape=(360, 3))>, <trimesh.Trimesh(vertices.shape=(151, 3), faces.shape=(332, 3))>, <trimesh.Trimesh(vertices.shape=(133, 3), faces.shape=(314, 3))>]\n",
      "poisson_backtrack_distance_threshold = None\n",
      "Using Poisson Surface Reconstruction for watertightness in soma_volume_ratio\n",
      "xvfb-run -n 1859 -s \"-screen 0 800x600x24\" meshlabserver $@  -i /neuron_mesh_tools/Auto_Proofreading/Preprocessing_Pipeline/Allen_Splitting_Pipeline/Poisson_temp/neuron_716566.off -o /neuron_mesh_tools/Auto_Proofreading/Preprocessing_Pipeline/Allen_Splitting_Pipeline/Poisson_temp/neuron_716566_poisson.off -s /neuron_mesh_tools/Auto_Proofreading/Preprocessing_Pipeline/Allen_Splitting_Pipeline/Poisson_temp/poisson_707503.mls\n",
      "removed temporary input file: /neuron_mesh_tools/Auto_Proofreading/Preprocessing_Pipeline/Allen_Splitting_Pipeline/Poisson_temp/neuron_716566.off\n",
      "removed temporary output file: /neuron_mesh_tools/Auto_Proofreading/Preprocessing_Pipeline/Allen_Splitting_Pipeline/Poisson_temp/neuron_716566_poisson.off\n",
      "mesh.is_watertight = True\n",
      "/neuron_mesh_tools/Auto_Proofreading/Preprocessing_Pipeline/Allen_Splitting_Pipeline/Poisson_temp/poisson_707503.mls is being deleted....\n",
      "Inside sphere validater: ratio_val = 5.944311670691822\n",
      "About to add the following inside nuclei pieces after soma backtrack: [<trimesh.Trimesh(vertices.shape=(27392, 3), faces.shape=(54989, 3))>, <trimesh.Trimesh(vertices.shape=(16324, 3), faces.shape=(35536, 3))>, <trimesh.Trimesh(vertices.shape=(1632, 3), faces.shape=(3754, 3))>, <trimesh.Trimesh(vertices.shape=(1090, 3), faces.shape=(2404, 3))>, <trimesh.Trimesh(vertices.shape=(1084, 3), faces.shape=(2438, 3))>, <trimesh.Trimesh(vertices.shape=(808, 3), faces.shape=(1788, 3))>, <trimesh.Trimesh(vertices.shape=(794, 3), faces.shape=(1788, 3))>, <trimesh.Trimesh(vertices.shape=(754, 3), faces.shape=(1671, 3))>, <trimesh.Trimesh(vertices.shape=(674, 3), faces.shape=(1482, 3))>, <trimesh.Trimesh(vertices.shape=(583, 3), faces.shape=(1271, 3))>]\n",
      "xvfb-run -n 1859 -s \"-screen 0 800x600x24\" meshlabserver $@  -i /neuron_mesh_tools/Auto_Proofreading/Preprocessing_Pipeline/Allen_Splitting_Pipeline/temp/neuron_38217.off -o /neuron_mesh_tools/Auto_Proofreading/Preprocessing_Pipeline/Allen_Splitting_Pipeline/temp/neuron_38217_fill_holes.off -s /neuron_mesh_tools/Auto_Proofreading/Preprocessing_Pipeline/Allen_Splitting_Pipeline/temp/fill_holes_407958.mls\n",
      "\n",
      "---- meshlab output -----\n",
      "QStandardPaths: XDG_RUNTIME_DIR not set, defaulting to '/tmp/runtime-root'\n",
      "Current Plugins Dir is: /meshlab/src/distrib/plugins \n",
      "Error While parsing the XML filter plugin descriptors: We are trying to load a xml file that does not correspond to any dll or javascript code; please delete all the spurious xml files\n",
      "Error While parsing the XML filter plugin descriptors: We are trying to load a xml file that does not correspond to any dll or javascript code; please delete all the spurious xml files\n",
      "Opening a file with extention off\n",
      "FilterScript\n",
      "Reading filter with name Remove Duplicate Vertices\n",
      "Reading filter with name Remove Faces from Non Manifold Edges\n",
      "Reading filter with name Close Holes\n",
      "    Reading Param with name MaxHoleSize : RichInt\n",
      "    Reading Param with name Selected : RichBool\n",
      "    Reading Param with name NewFaceSelected : RichBool\n",
      "    Reading Param with name SelfIntersection : RichBool\n",
      "Loading Plugins:\n",
      "Total 104 filtering actions\n",
      "Total 1 io plugins\n",
      "Mesh /neuron_mesh_tools/Auto_Proofreading/Preprocessing_Pipeline/Allen_Splitting_Pipeline/temp/neuron_38217.off loaded has 28806 vn 56684 fn\n",
      "output mesh  /neuron_mesh_tools/Auto_Proofreading/Preprocessing_Pipeline/Allen_Splitting_Pipeline/temp/neuron_38217_fill_holes.off\n",
      "Apply FilterScript: '/neuron_mesh_tools/Auto_Proofreading/Preprocessing_Pipeline/Allen_Splitting_Pipeline/temp/fill_holes_407958.mls'\n",
      "Starting Script of 3 actionsfilter: Remove Duplicate Vertices\n",
      "no additional memory available!!! memory required: 1371552\n",
      "LOG: 2 Removed 0 duplicated vertices\n",
      "Removed 0 duplicated vertices\n",
      "filter: Remove Faces from Non Manifold Edges\n",
      "no additional memory available!!! memory required: 1371552\n",
      "LOG: 2 Successfully removed 5357 non-manifold faces\n",
      "Removed 0 duplicated vertices\n",
      "Successfully removed 5357 non-manifold faces\n",
      "filter: Close Holes\n",
      "no additional memory available!!! memory required: 1307268\n",
      "meshlabserver: ../../../../vcglib/vcg/complex/algorithms/hole.h:259: bool vcg::tri::TrivialEar<MESH>::Close(vcg::tri::TrivialEar<MESH>::PosType&, vcg::tri::TrivialEar<MESH>::PosType&, vcg::tri::TrivialEar<MESH>::FaceType*) [with MESH = CMeshO; vcg::tri::TrivialEar<MESH>::PosType = vcg::face::Pos<CFaceO>; typename MeshType::FaceType = CFaceO; vcg::tri::TrivialEar<MESH>::FaceType = CFaceO]: Assertion `e1.v->IsUserBit(NonManifoldBit())' failed.\n",
      "Aborted (core dumped)\n",
      "\n",
      "\n",
      " returncode ====== 134\n",
      "\n",
      " ------ Done with meshlab output------\n",
      "/neuron_mesh_tools/Auto_Proofreading/Preprocessing_Pipeline/Allen_Splitting_Pipeline/temp/fill_holes_407958.mls is being deleted....\n",
      "The hole closing did not work so continuing without\n",
      "xvfb-run -n 1859 -s \"-screen 0 800x600x24\" meshlabserver $@  -i /neuron_mesh_tools/Auto_Proofreading/Preprocessing_Pipeline/Allen_Splitting_Pipeline/temp/neuron_1405.off -o /neuron_mesh_tools/Auto_Proofreading/Preprocessing_Pipeline/Allen_Splitting_Pipeline/temp/neuron_1405_remove_interior.off -s /neuron_mesh_tools/Auto_Proofreading/Preprocessing_Pipeline/Allen_Splitting_Pipeline/temp/remove_interior_165670.mls\n",
      "removed temporary input file: /neuron_mesh_tools/Auto_Proofreading/Preprocessing_Pipeline/Allen_Splitting_Pipeline/temp/neuron_1405.off\n",
      "removed temporary output file: /neuron_mesh_tools/Auto_Proofreading/Preprocessing_Pipeline/Allen_Splitting_Pipeline/temp/neuron_1405_remove_interior.off\n",
      "/neuron_mesh_tools/Auto_Proofreading/Preprocessing_Pipeline/Allen_Splitting_Pipeline/temp/remove_interior_165670.mls is being deleted....\n",
      "Removing the following inside neurons: [<trimesh.Trimesh(vertices.shape=(6907, 3), faces.shape=(14097, 3))>, <trimesh.Trimesh(vertices.shape=(862, 3), faces.shape=(1794, 3))>, <trimesh.Trimesh(vertices.shape=(240, 3), faces.shape=(562, 3))>, <trimesh.Trimesh(vertices.shape=(172, 3), faces.shape=(341, 3))>]\n",
      "poisson_backtrack_distance_threshold = None\n",
      "Using Poisson Surface Reconstruction for watertightness in soma_volume_ratio\n",
      "xvfb-run -n 1859 -s \"-screen 0 800x600x24\" meshlabserver $@  -i /neuron_mesh_tools/Auto_Proofreading/Preprocessing_Pipeline/Allen_Splitting_Pipeline/Poisson_temp/neuron_201545.off -o /neuron_mesh_tools/Auto_Proofreading/Preprocessing_Pipeline/Allen_Splitting_Pipeline/Poisson_temp/neuron_201545_poisson.off -s /neuron_mesh_tools/Auto_Proofreading/Preprocessing_Pipeline/Allen_Splitting_Pipeline/Poisson_temp/poisson_498280.mls\n",
      "removed temporary input file: /neuron_mesh_tools/Auto_Proofreading/Preprocessing_Pipeline/Allen_Splitting_Pipeline/Poisson_temp/neuron_201545.off\n",
      "removed temporary output file: /neuron_mesh_tools/Auto_Proofreading/Preprocessing_Pipeline/Allen_Splitting_Pipeline/Poisson_temp/neuron_201545_poisson.off\n",
      "mesh.is_watertight = True\n",
      "/neuron_mesh_tools/Auto_Proofreading/Preprocessing_Pipeline/Allen_Splitting_Pipeline/Poisson_temp/poisson_498280.mls is being deleted....\n",
      "Inside sphere validater: ratio_val = 5.550010308792171\n",
      "About to add the following inside nuclei pieces after soma backtrack: [<trimesh.Trimesh(vertices.shape=(27392, 3), faces.shape=(54989, 3))>, <trimesh.Trimesh(vertices.shape=(16324, 3), faces.shape=(35536, 3))>, <trimesh.Trimesh(vertices.shape=(1632, 3), faces.shape=(3754, 3))>, <trimesh.Trimesh(vertices.shape=(1090, 3), faces.shape=(2404, 3))>, <trimesh.Trimesh(vertices.shape=(1084, 3), faces.shape=(2438, 3))>, <trimesh.Trimesh(vertices.shape=(808, 3), faces.shape=(1788, 3))>, <trimesh.Trimesh(vertices.shape=(794, 3), faces.shape=(1788, 3))>, <trimesh.Trimesh(vertices.shape=(754, 3), faces.shape=(1671, 3))>, <trimesh.Trimesh(vertices.shape=(674, 3), faces.shape=(1482, 3))>, <trimesh.Trimesh(vertices.shape=(583, 3), faces.shape=(1271, 3))>, <trimesh.Trimesh(vertices.shape=(21871, 3), faces.shape=(47049, 3))>, <trimesh.Trimesh(vertices.shape=(513, 3), faces.shape=(1121, 3))>, <trimesh.Trimesh(vertices.shape=(168, 3), faces.shape=(360, 3))>, <trimesh.Trimesh(vertices.shape=(151, 3), faces.shape=(332, 3))>, <trimesh.Trimesh(vertices.shape=(133, 3), faces.shape=(314, 3))>]\n",
      "Skipping the segmentatio filter at end\n",
      "removing mesh interior before segmentation\n",
      "xvfb-run -n 1859 -s \"-screen 0 800x600x24\" meshlabserver $@  -i /neuron_mesh_tools/Auto_Proofreading/Preprocessing_Pipeline/Allen_Splitting_Pipeline/temp/neuron_96139.off -o /neuron_mesh_tools/Auto_Proofreading/Preprocessing_Pipeline/Allen_Splitting_Pipeline/temp/neuron_96139_fill_holes.off -s /neuron_mesh_tools/Auto_Proofreading/Preprocessing_Pipeline/Allen_Splitting_Pipeline/temp/fill_holes_392707.mls\n",
      "\n",
      "---- meshlab output -----\n",
      "QStandardPaths: XDG_RUNTIME_DIR not set, defaulting to '/tmp/runtime-root'\n",
      "Current Plugins Dir is: /meshlab/src/distrib/plugins \n",
      "Error While parsing the XML filter plugin descriptors: We are trying to load a xml file that does not correspond to any dll or javascript code; please delete all the spurious xml files\n",
      "Error While parsing the XML filter plugin descriptors: We are trying to load a xml file that does not correspond to any dll or javascript code; please delete all the spurious xml files\n",
      "Opening a file with extention off\n",
      "FilterScript\n",
      "Reading filter with name Remove Duplicate Vertices\n",
      "Reading filter with name Remove Faces from Non Manifold Edges\n",
      "Reading filter with name Close Holes\n",
      "    Reading Param with name MaxHoleSize : RichInt\n",
      "    Reading Param with name Selected : RichBool\n",
      "    Reading Param with name NewFaceSelected : RichBool\n",
      "    Reading Param with name SelfIntersection : RichBool\n",
      "Loading Plugins:\n",
      "Total 104 filtering actions\n",
      "Total 1 io plugins\n",
      "Mesh /neuron_mesh_tools/Auto_Proofreading/Preprocessing_Pipeline/Allen_Splitting_Pipeline/temp/neuron_96139.off loaded has 20323 vn 39904 fn\n",
      "output mesh  /neuron_mesh_tools/Auto_Proofreading/Preprocessing_Pipeline/Allen_Splitting_Pipeline/temp/neuron_96139_fill_holes.off\n",
      "Apply FilterScript: '/neuron_mesh_tools/Auto_Proofreading/Preprocessing_Pipeline/Allen_Splitting_Pipeline/temp/fill_holes_392707.mls'\n",
      "Starting Script of 3 actionsfilter: Remove Duplicate Vertices\n",
      "no additional memory available!!! memory required: 966600\n",
      "LOG: 2 Removed 0 duplicated vertices\n",
      "Removed 0 duplicated vertices\n",
      "filter: Remove Faces from Non Manifold Edges\n",
      "no additional memory available!!! memory required: 966600\n",
      "LOG: 2 Successfully removed 8 non-manifold faces\n",
      "Removed 0 duplicated vertices\n",
      "Successfully removed 8 non-manifold faces\n",
      "filter: Close Holes\n",
      "no additional memory available!!! memory required: 966504\n",
      "meshlabserver: ../../../../vcglib/vcg/complex/algorithms/hole.h:259: bool vcg::tri::TrivialEar<MESH>::Close(vcg::tri::TrivialEar<MESH>::PosType&, vcg::tri::TrivialEar<MESH>::PosType&, vcg::tri::TrivialEar<MESH>::FaceType*) [with MESH = CMeshO; vcg::tri::TrivialEar<MESH>::PosType = vcg::face::Pos<CFaceO>; typename MeshType::FaceType = CFaceO; vcg::tri::TrivialEar<MESH>::FaceType = CFaceO]: Assertion `e1.v->IsUserBit(NonManifoldBit())' failed.\n",
      "Aborted (core dumped)\n",
      "\n",
      "\n",
      " returncode ====== 134\n",
      "\n",
      " ------ Done with meshlab output------\n",
      "/neuron_mesh_tools/Auto_Proofreading/Preprocessing_Pipeline/Allen_Splitting_Pipeline/temp/fill_holes_392707.mls is being deleted....\n",
      "The hole closing did not work so continuing without\n",
      "xvfb-run -n 1859 -s \"-screen 0 800x600x24\" meshlabserver $@  -i /neuron_mesh_tools/Auto_Proofreading/Preprocessing_Pipeline/Allen_Splitting_Pipeline/temp/neuron_56130.off -o /neuron_mesh_tools/Auto_Proofreading/Preprocessing_Pipeline/Allen_Splitting_Pipeline/temp/neuron_56130_remove_interior.off -s /neuron_mesh_tools/Auto_Proofreading/Preprocessing_Pipeline/Allen_Splitting_Pipeline/temp/remove_interior_294468.mls\n",
      "removed temporary input file: /neuron_mesh_tools/Auto_Proofreading/Preprocessing_Pipeline/Allen_Splitting_Pipeline/temp/neuron_56130.off\n",
      "removed temporary output file: /neuron_mesh_tools/Auto_Proofreading/Preprocessing_Pipeline/Allen_Splitting_Pipeline/temp/neuron_56130_remove_interior.off\n",
      "/neuron_mesh_tools/Auto_Proofreading/Preprocessing_Pipeline/Allen_Splitting_Pipeline/temp/remove_interior_294468.mls is being deleted....\n",
      "THERE WERE NO MESH PIECES GREATER THAN THE significance_threshold\n",
      "No significant (1000) interior meshes present\n",
      "largest is 224\n",
      "Doing the soma segmentation filter at end\n"
     ]
    },
    {
     "data": {
      "application/vnd.jupyter.widget-view+json": {
       "model_id": "b1e2178a9727441db39ab6414d78fb0c",
       "version_major": 2,
       "version_minor": 0
      },
      "text/plain": [
       "  0%|          | 0/14 [00:00<?, ?it/s]"
      ]
     },
     "metadata": {},
     "output_type": "display_data"
    },
    {
     "name": "stderr",
     "output_type": "stream",
     "text": [
      "/meshAfterParty/meshAfterParty/networkx_utils.py:593: VisibleDeprecationWarning: Creating an ndarray from ragged nested sequences (which is a list-or-tuple of lists-or-tuples-or ndarrays with different lengths or shapes) is deprecated. If you meant to do this, you must specify 'dtype=object' when creating the ndarray\n",
      "  cycles_list_array = np.array(cycles_list)\n"
     ]
    },
    {
     "name": "stdout",
     "output_type": "stream",
     "text": [
      "Largest hole before segmentation = 55230.57720361774, after = 189222.6917946554,\n",
      "\n",
      "ratio = 3.4260495069072148, difference = 133992.11459103768\n",
      "Skipping the segmentatio filter at end\n",
      "removing mesh interior before segmentation\n",
      "xvfb-run -n 1859 -s \"-screen 0 800x600x24\" meshlabserver $@  -i /neuron_mesh_tools/Auto_Proofreading/Preprocessing_Pipeline/Allen_Splitting_Pipeline/temp/neuron_84968.off -o /neuron_mesh_tools/Auto_Proofreading/Preprocessing_Pipeline/Allen_Splitting_Pipeline/temp/neuron_84968_fill_holes.off -s /neuron_mesh_tools/Auto_Proofreading/Preprocessing_Pipeline/Allen_Splitting_Pipeline/temp/fill_holes_636613.mls\n",
      "removed temporary input file: /neuron_mesh_tools/Auto_Proofreading/Preprocessing_Pipeline/Allen_Splitting_Pipeline/temp/neuron_84968.off\n",
      "removed temporary output file: /neuron_mesh_tools/Auto_Proofreading/Preprocessing_Pipeline/Allen_Splitting_Pipeline/temp/neuron_84968_fill_holes.off\n",
      "/neuron_mesh_tools/Auto_Proofreading/Preprocessing_Pipeline/Allen_Splitting_Pipeline/temp/fill_holes_636613.mls is being deleted....\n",
      "xvfb-run -n 1859 -s \"-screen 0 800x600x24\" meshlabserver $@  -i /neuron_mesh_tools/Auto_Proofreading/Preprocessing_Pipeline/Allen_Splitting_Pipeline/temp/neuron_34758.off -o /neuron_mesh_tools/Auto_Proofreading/Preprocessing_Pipeline/Allen_Splitting_Pipeline/temp/neuron_34758_remove_interior.off -s /neuron_mesh_tools/Auto_Proofreading/Preprocessing_Pipeline/Allen_Splitting_Pipeline/temp/remove_interior_394969.mls\n",
      "removed temporary input file: /neuron_mesh_tools/Auto_Proofreading/Preprocessing_Pipeline/Allen_Splitting_Pipeline/temp/neuron_34758.off\n",
      "removed temporary output file: /neuron_mesh_tools/Auto_Proofreading/Preprocessing_Pipeline/Allen_Splitting_Pipeline/temp/neuron_34758_remove_interior.off\n",
      "/neuron_mesh_tools/Auto_Proofreading/Preprocessing_Pipeline/Allen_Splitting_Pipeline/temp/remove_interior_394969.mls is being deleted....\n",
      "THERE WERE NO MESH PIECES GREATER THAN THE significance_threshold\n",
      "No significant (1000) interior meshes present\n",
      "largest is 286\n",
      "Doing the soma segmentation filter at end\n"
     ]
    },
    {
     "data": {
      "application/vnd.jupyter.widget-view+json": {
       "model_id": "57f40d91dcfe4acaa15e04266e92de28",
       "version_major": 2,
       "version_minor": 0
      },
      "text/plain": [
       "  0%|          | 0/19 [00:00<?, ?it/s]"
      ]
     },
     "metadata": {},
     "output_type": "display_data"
    },
    {
     "name": "stdout",
     "output_type": "stream",
     "text": [
      "Largest hole before segmentation = 20014.06678014937, after = 117839.24728139903,\n",
      "\n",
      "ratio = 5.887821229730082, difference = 97825.18050124966\n",
      "Saved object at /mnt/dj-stor01/platinum/minnie65/02/glia_nuclei_faces/864691136922900452_glia.pbz2\n",
      "File size is 4.6e-05 MB\n",
      "Saved object at /mnt/dj-stor01/platinum/minnie65/02/glia_nuclei_faces/864691136922900452_nuclei.pbz2\n",
      "File size is 0.189684 MB\n",
      " glia_path = /mnt/dj-stor01/platinum/minnie65/02/glia_nuclei_faces/864691136922900452_glia.pbz2 \n",
      " nuclei_path = /mnt/dj-stor01/platinum/minnie65/02/glia_nuclei_faces/864691136922900452_nuclei.pbz2\n",
      "Finished saving off glia and nuclei information : {'segment_id': 864691136922900452, 'decimation_version': 0, 'decimation_ratio': Decimal('0.25'), 'ver': 30, 'n_glia_faces': 0, 'glia_faces': PosixPath('/mnt/dj-stor01/platinum/minnie65/02/glia_nuclei_faces/864691136922900452_glia.pbz2'), 'n_nuclei_faces': 173091, 'nuclei_faces': PosixPath('/mnt/dj-stor01/platinum/minnie65/02/glia_nuclei_faces/864691136922900452_nuclei.pbz2')}\n",
      "Run time was 299.8275890350342 \n",
      "    total_soma_list = [<trimesh.Trimesh(vertices.shape=(20323, 3), faces.shape=(39904, 3))>, <trimesh.Trimesh(vertices.shape=(14177, 3), faces.shape=(28242, 3))>]\n",
      "    with sdf values = [0.6816175 0.792975 ]\n",
      "Using Poisson Surface Reconstruction for watertightness in soma_volume_ratio\n",
      "xvfb-run -n 1859 -s \"-screen 0 800x600x24\" meshlabserver $@  -i /neuron_mesh_tools/Auto_Proofreading/Preprocessing_Pipeline/Allen_Splitting_Pipeline/Poisson_temp/neuron_504106.off -o /neuron_mesh_tools/Auto_Proofreading/Preprocessing_Pipeline/Allen_Splitting_Pipeline/Poisson_temp/neuron_504106_poisson.off -s /neuron_mesh_tools/Auto_Proofreading/Preprocessing_Pipeline/Allen_Splitting_Pipeline/Poisson_temp/poisson_575714.mls\n",
      "removed temporary input file: /neuron_mesh_tools/Auto_Proofreading/Preprocessing_Pipeline/Allen_Splitting_Pipeline/Poisson_temp/neuron_504106.off\n",
      "removed temporary output file: /neuron_mesh_tools/Auto_Proofreading/Preprocessing_Pipeline/Allen_Splitting_Pipeline/Poisson_temp/neuron_504106_poisson.off\n",
      "mesh.is_watertight = True\n",
      "/neuron_mesh_tools/Auto_Proofreading/Preprocessing_Pipeline/Allen_Splitting_Pipeline/Poisson_temp/poisson_575714.mls is being deleted....\n",
      "Using Poisson Surface Reconstruction for watertightness in soma_volume_ratio\n",
      "xvfb-run -n 1859 -s \"-screen 0 800x600x24\" meshlabserver $@  -i /neuron_mesh_tools/Auto_Proofreading/Preprocessing_Pipeline/Allen_Splitting_Pipeline/Poisson_temp/neuron_271859.off -o /neuron_mesh_tools/Auto_Proofreading/Preprocessing_Pipeline/Allen_Splitting_Pipeline/Poisson_temp/neuron_271859_poisson.off -s /neuron_mesh_tools/Auto_Proofreading/Preprocessing_Pipeline/Allen_Splitting_Pipeline/Poisson_temp/poisson_327983.mls\n",
      "removed temporary input file: /neuron_mesh_tools/Auto_Proofreading/Preprocessing_Pipeline/Allen_Splitting_Pipeline/Poisson_temp/neuron_271859.off\n",
      "removed temporary output file: /neuron_mesh_tools/Auto_Proofreading/Preprocessing_Pipeline/Allen_Splitting_Pipeline/Poisson_temp/neuron_271859_poisson.off\n",
      "mesh.is_watertight = True\n",
      "/neuron_mesh_tools/Auto_Proofreading/Preprocessing_Pipeline/Allen_Splitting_Pipeline/Poisson_temp/poisson_327983.mls is being deleted....\n",
      "Trying to write off file\n",
      "Predicted Coordinates are [271629 175384  18955]\n"
     ]
    },
    {
     "name": "stderr",
     "output_type": "stream",
     "text": [
      "/meshAfterParty/meshAfterParty/networkx_utils.py:593: VisibleDeprecationWarning: Creating an ndarray from ragged nested sequences (which is a list-or-tuple of lists-or-tuples-or ndarrays with different lengths or shapes) is deprecated. If you meant to do this, you must specify 'dtype=object' when creating the ndarray\n",
      "  cycles_list_array = np.array(cycles_list)\n"
     ]
    },
    {
     "name": "stdout",
     "output_type": "stream",
     "text": [
      "Trying to write off file\n",
      "Predicted Coordinates are [245613 168582  19035]\n"
     ]
    },
    {
     "name": "stderr",
     "output_type": "stream",
     "text": [
      "INFO - 2021-03-04 20:29:09,545 - connection - Transaction committed and closed.\n",
      "INFO - 2021-03-04 20:29:09,552 - connection - Transaction started\n",
      "INFO - 2021-03-04 20:29:09,554 - autopopulate - Populating: {'segment_id': 864691137196942401, 'decimation_version': 0, 'decimation_ratio': Decimal('0.25')}\n"
     ]
    },
    {
     "name": "stdout",
     "output_type": "stream",
     "text": [
      "\n",
      "\n",
      "\n",
      "---- Working on Neuron 864691137196942401 ----\n",
      "{'segment_id': 864691137196942401, 'decimation_version': 0, 'decimation_ratio': Decimal('0.25')}\n",
      "Current Arguments Using (adjusted for decimation):\n",
      " large_mesh_threshold= 5000.0 \n",
      "large_mesh_threshold_inner = 3250.0 \n",
      "soma_size_threshold = 562.5 \n",
      "soma_size_threshold_max = 75000.0\n",
      "outer_decimation_ratio = 0.25\n",
      "inner_decimation_ratio = 0.25\n",
      "max_mesh_sized_filtered_away = 22500.0\n",
      "xvfb-run -n 1859 -s \"-screen 0 800x600x24\" meshlabserver $@  -i /neuron_mesh_tools/Auto_Proofreading/Preprocessing_Pipeline/Allen_Splitting_Pipeline/temp/neuron_53611.off -o /neuron_mesh_tools/Auto_Proofreading/Preprocessing_Pipeline/Allen_Splitting_Pipeline/temp/neuron_53611_remove_interior.off -s /neuron_mesh_tools/Auto_Proofreading/Preprocessing_Pipeline/Allen_Splitting_Pipeline/temp/remove_interior_459394.mls\n",
      "removed temporary input file: /neuron_mesh_tools/Auto_Proofreading/Preprocessing_Pipeline/Allen_Splitting_Pipeline/temp/neuron_53611.off\n",
      "removed temporary output file: /neuron_mesh_tools/Auto_Proofreading/Preprocessing_Pipeline/Allen_Splitting_Pipeline/temp/neuron_53611_remove_interior.off\n",
      "/neuron_mesh_tools/Auto_Proofreading/Preprocessing_Pipeline/Allen_Splitting_Pipeline/temp/remove_interior_459394.mls is being deleted....\n"
     ]
    },
    {
     "name": "stderr",
     "output_type": "stream",
     "text": [
      "/meshAfterParty/meshAfterParty/trimesh_utils.py:685: VisibleDeprecationWarning: Creating an ndarray from ragged nested sequences (which is a list-or-tuple of lists-or-tuples-or ndarrays with different lengths or shapes) is deprecated. If you meant to do this, you must specify 'dtype=object' when creating the ndarray\n",
      "  ordered_comp_indices = np.array([k.astype(\"int\") for k in ordered_components])\n"
     ]
    },
    {
     "name": "stdout",
     "output_type": "stream",
     "text": [
      "There were 24 total interior meshes\n",
      "Pieces satisfying glia requirements (volume) (x >= 2500000000000): 0\n",
      "Pieces satisfying nuclie requirements: n_faces (700 <= x) and volume (x < 2500000000000) : 24\n",
      "inside remove_mesh_interior and using precomputed inside_pieces\n",
      "Removing the following inside neurons: [<trimesh.Trimesh(vertices.shape=(15578, 3), faces.shape=(37168, 3))>, <trimesh.Trimesh(vertices.shape=(4480, 3), faces.shape=(10867, 3))>, <trimesh.Trimesh(vertices.shape=(2357, 3), faces.shape=(5639, 3))>, <trimesh.Trimesh(vertices.shape=(2098, 3), faces.shape=(4827, 3))>, <trimesh.Trimesh(vertices.shape=(1923, 3), faces.shape=(4507, 3))>, <trimesh.Trimesh(vertices.shape=(1653, 3), faces.shape=(3858, 3))>, <trimesh.Trimesh(vertices.shape=(1642, 3), faces.shape=(3728, 3))>, <trimesh.Trimesh(vertices.shape=(1571, 3), faces.shape=(3564, 3))>, <trimesh.Trimesh(vertices.shape=(1139, 3), faces.shape=(2553, 3))>, <trimesh.Trimesh(vertices.shape=(1127, 3), faces.shape=(2569, 3))>, <trimesh.Trimesh(vertices.shape=(892, 3), faces.shape=(2034, 3))>, <trimesh.Trimesh(vertices.shape=(872, 3), faces.shape=(1938, 3))>, <trimesh.Trimesh(vertices.shape=(783, 3), faces.shape=(1773, 3))>, <trimesh.Trimesh(vertices.shape=(767, 3), faces.shape=(1328, 3))>, <trimesh.Trimesh(vertices.shape=(719, 3), faces.shape=(1630, 3))>]\n",
      "\n",
      "\n",
      "Original Mesh size: 938444, Final mesh size: 850457\n",
      "Total time = 55.522228956222534\n",
      "xvfb-run -n 1859 -s \"-screen 0 800x600x24\" meshlabserver $@  -i /neuron_mesh_tools/Auto_Proofreading/Preprocessing_Pipeline/Allen_Splitting_Pipeline/864691137196942401/neuron_864691137196942401.off -o /neuron_mesh_tools/Auto_Proofreading/Preprocessing_Pipeline/Allen_Splitting_Pipeline/864691137196942401/neuron_864691137196942401_decimated.off -s /neuron_mesh_tools/Auto_Proofreading/Preprocessing_Pipeline/Allen_Splitting_Pipeline/864691137196942401/decimation_meshlab_25291133.mls\n",
      "Total found significant pieces before Poisson = [<trimesh.Trimesh(vertices.shape=(97836, 3), faces.shape=(189212, 3))>]\n",
      "----- working on large mesh #0: <trimesh.Trimesh(vertices.shape=(97836, 3), faces.shape=(189212, 3))>\n",
      "remove_inside_pieces requested \n",
      "xvfb-run -n 1859 -s \"-screen 0 800x600x24\" meshlabserver $@  -i /neuron_mesh_tools/Auto_Proofreading/Preprocessing_Pipeline/Allen_Splitting_Pipeline/temp/neuron_40396.off -o /neuron_mesh_tools/Auto_Proofreading/Preprocessing_Pipeline/Allen_Splitting_Pipeline/temp/neuron_40396_remove_interior.off -s /neuron_mesh_tools/Auto_Proofreading/Preprocessing_Pipeline/Allen_Splitting_Pipeline/temp/remove_interior_113810.mls\n",
      "removed temporary input file: /neuron_mesh_tools/Auto_Proofreading/Preprocessing_Pipeline/Allen_Splitting_Pipeline/temp/neuron_40396.off\n",
      "removed temporary output file: /neuron_mesh_tools/Auto_Proofreading/Preprocessing_Pipeline/Allen_Splitting_Pipeline/temp/neuron_40396_remove_interior.off\n",
      "/neuron_mesh_tools/Auto_Proofreading/Preprocessing_Pipeline/Allen_Splitting_Pipeline/temp/remove_interior_113810.mls is being deleted....\n",
      "THERE WERE NO MESH PIECES GREATER THAN THE significance_threshold\n",
      "No significant (1000) interior meshes present\n",
      "largest is 482\n",
      "pre_largest_mesh_path = /neuron_mesh_tools/Auto_Proofreading/Preprocessing_Pipeline/Allen_Splitting_Pipeline/864691137196942401/neuron_864691137196942401_decimated_largest_piece.off\n"
     ]
    },
    {
     "name": "stderr",
     "output_type": "stream",
     "text": [
      "/meshAfterParty/meshAfterParty/trimesh_utils.py:2987: VisibleDeprecationWarning: Creating an ndarray from ragged nested sequences (which is a list-or-tuple of lists-or-tuples-or ndarrays with different lengths or shapes) is deprecated. If you meant to do this, you must specify 'dtype=object' when creating the ndarray\n",
      "  ordered_comp_indices = np.array([k.astype(\"int\") for k in ordered_components])\n"
     ]
    },
    {
     "name": "stdout",
     "output_type": "stream",
     "text": [
      "xvfb-run -n 1859 -s \"-screen 0 800x600x24\" meshlabserver $@  -i /neuron_mesh_tools/Auto_Proofreading/Preprocessing_Pipeline/Allen_Splitting_Pipeline/864691137196942401/neuron_864691137196942401_decimated_largest_piece.off -o /neuron_mesh_tools/Auto_Proofreading/Preprocessing_Pipeline/Allen_Splitting_Pipeline/864691137196942401/neuron_864691137196942401_decimated_largest_piece_poisson.off -s /neuron_mesh_tools/Auto_Proofreading/Preprocessing_Pipeline/Allen_Splitting_Pipeline/864691137196942401/poisson_702606.mls\n",
      "Total found significant pieces AFTER Poisson = [<trimesh.Trimesh(vertices.shape=(136871, 3), faces.shape=(273802, 3))>, <trimesh.Trimesh(vertices.shape=(5572, 3), faces.shape=(11144, 3))>, <trimesh.Trimesh(vertices.shape=(5345, 3), faces.shape=(10690, 3))>, <trimesh.Trimesh(vertices.shape=(5168, 3), faces.shape=(10332, 3))>, <trimesh.Trimesh(vertices.shape=(4375, 3), faces.shape=(8750, 3))>, <trimesh.Trimesh(vertices.shape=(4013, 3), faces.shape=(8022, 3))>, <trimesh.Trimesh(vertices.shape=(3287, 3), faces.shape=(6574, 3))>, <trimesh.Trimesh(vertices.shape=(2943, 3), faces.shape=(5882, 3))>, <trimesh.Trimesh(vertices.shape=(2742, 3), faces.shape=(5480, 3))>, <trimesh.Trimesh(vertices.shape=(1967, 3), faces.shape=(3930, 3))>]\n",
      "----- working on mesh after poisson #0: <trimesh.Trimesh(vertices.shape=(136871, 3), faces.shape=(273802, 3))>\n",
      "xvfb-run -n 1859 -s \"-screen 0 800x600x24\" meshlabserver $@  -i /neuron_mesh_tools/Auto_Proofreading/Preprocessing_Pipeline/Allen_Splitting_Pipeline/864691137196942401/neuron_864691137196942401_decimated_largest_piece_poisson_largest_inner.off -o /neuron_mesh_tools/Auto_Proofreading/Preprocessing_Pipeline/Allen_Splitting_Pipeline/864691137196942401/neuron_864691137196942401_decimated_largest_piece_poisson_largest_inner_decimated.off -s /neuron_mesh_tools/Auto_Proofreading/Preprocessing_Pipeline/Allen_Splitting_Pipeline/864691137196942401/decimation_meshlab_25393941.mls\n",
      "\n",
      "-------Splits after inner decimation len = 1--------\n",
      "\n",
      "done exporting decimated mesh: neuron_864691137196942401_decimated_largest_piece_poisson_largest_inner.off\n",
      "\n",
      "    --- On segmentation loop 0 --\n",
      "largest_mesh_path_inner_decimated_clean = <trimesh.Trimesh(vertices.shape=(34189, 3), faces.shape=(68438, 3))>\n",
      "\n"
     ]
    },
    {
     "data": {
      "application/vnd.jupyter.widget-view+json": {
       "model_id": "e4cfd2c9cf7649479b8b375bd0fce961",
       "version_major": 2,
       "version_minor": 0
      },
      "text/plain": [
       "  0%|          | 0/28 [00:00<?, ?it/s]"
      ]
     },
     "metadata": {},
     "output_type": "display_data"
    },
    {
     "name": "stderr",
     "output_type": "stream",
     "text": [
      "/meshAfterParty/meshAfterParty/trimesh_utils.py:1480: VisibleDeprecationWarning: Creating an ndarray from ragged nested sequences (which is a list-or-tuple of lists-or-tuples-or ndarrays with different lengths or shapes) is deprecated. If you meant to do this, you must specify 'dtype=object' when creating the ndarray\n",
      "  total_submeshes_idx =np.array(list(total_submeshes_idx.values()))\n"
     ]
    },
    {
     "name": "stdout",
     "output_type": "stream",
     "text": [
      "      ------ Found 2 viable somas: [0.8801745000000001, 0.835231]\n",
      "Using Poisson Surface Reconstruction for watertightness in soma_volume_ratio\n",
      "xvfb-run -n 1859 -s \"-screen 0 800x600x24\" meshlabserver $@  -i /neuron_mesh_tools/Auto_Proofreading/Preprocessing_Pipeline/Allen_Splitting_Pipeline/Poisson_temp/neuron_68270.off -o /neuron_mesh_tools/Auto_Proofreading/Preprocessing_Pipeline/Allen_Splitting_Pipeline/Poisson_temp/neuron_68270_poisson.off -s /neuron_mesh_tools/Auto_Proofreading/Preprocessing_Pipeline/Allen_Splitting_Pipeline/Poisson_temp/poisson_627316.mls\n",
      "removed temporary input file: /neuron_mesh_tools/Auto_Proofreading/Preprocessing_Pipeline/Allen_Splitting_Pipeline/Poisson_temp/neuron_68270.off\n",
      "removed temporary output file: /neuron_mesh_tools/Auto_Proofreading/Preprocessing_Pipeline/Allen_Splitting_Pipeline/Poisson_temp/neuron_68270_poisson.off\n",
      "mesh.is_watertight = True\n",
      "/neuron_mesh_tools/Auto_Proofreading/Preprocessing_Pipeline/Allen_Splitting_Pipeline/Poisson_temp/poisson_627316.mls is being deleted....\n",
      "Inside sphere validater: ratio_val = 2.0577342841928994\n",
      "Using Poisson Surface Reconstruction for watertightness in soma_volume_ratio\n",
      "xvfb-run -n 1859 -s \"-screen 0 800x600x24\" meshlabserver $@  -i /neuron_mesh_tools/Auto_Proofreading/Preprocessing_Pipeline/Allen_Splitting_Pipeline/Poisson_temp/neuron_2777.off -o /neuron_mesh_tools/Auto_Proofreading/Preprocessing_Pipeline/Allen_Splitting_Pipeline/Poisson_temp/neuron_2777_poisson.off -s /neuron_mesh_tools/Auto_Proofreading/Preprocessing_Pipeline/Allen_Splitting_Pipeline/Poisson_temp/poisson_173100.mls\n",
      "removed temporary input file: /neuron_mesh_tools/Auto_Proofreading/Preprocessing_Pipeline/Allen_Splitting_Pipeline/Poisson_temp/neuron_2777.off\n",
      "removed temporary output file: /neuron_mesh_tools/Auto_Proofreading/Preprocessing_Pipeline/Allen_Splitting_Pipeline/Poisson_temp/neuron_2777_poisson.off\n",
      "mesh.is_watertight = True\n",
      "/neuron_mesh_tools/Auto_Proofreading/Preprocessing_Pipeline/Allen_Splitting_Pipeline/Poisson_temp/poisson_173100.mls is being deleted....\n",
      "Inside sphere validater: ratio_val = 2.4152745133764277\n",
      "----- working on mesh after poisson #1: <trimesh.Trimesh(vertices.shape=(5572, 3), faces.shape=(11144, 3))>\n",
      "xvfb-run -n 1859 -s \"-screen 0 800x600x24\" meshlabserver $@  -i /neuron_mesh_tools/Auto_Proofreading/Preprocessing_Pipeline/Allen_Splitting_Pipeline/864691137196942401/neuron_864691137196942401_decimated_largest_piece_poisson_largest_inner.off -o /neuron_mesh_tools/Auto_Proofreading/Preprocessing_Pipeline/Allen_Splitting_Pipeline/864691137196942401/neuron_864691137196942401_decimated_largest_piece_poisson_largest_inner_decimated.off -s /neuron_mesh_tools/Auto_Proofreading/Preprocessing_Pipeline/Allen_Splitting_Pipeline/864691137196942401/decimation_meshlab_25393941.mls\n",
      "\n",
      "-------Splits after inner decimation len = 1--------\n",
      "\n",
      "done exporting decimated mesh: neuron_864691137196942401_decimated_largest_piece_poisson_largest_inner.off\n",
      "\n",
      "    --- On segmentation loop 0 --\n",
      "largest_mesh_path_inner_decimated_clean = <trimesh.Trimesh(vertices.shape=(1393, 3), faces.shape=(2786, 3))>\n",
      "\n"
     ]
    },
    {
     "data": {
      "application/vnd.jupyter.widget-view+json": {
       "model_id": "9f6debf0333c4d1180012bea5e9248cc",
       "version_major": 2,
       "version_minor": 0
      },
      "text/plain": [
       "  0%|          | 0/8 [00:00<?, ?it/s]"
      ]
     },
     "metadata": {},
     "output_type": "display_data"
    },
    {
     "name": "stdout",
     "output_type": "stream",
     "text": [
      "      ------ Found 2 viable somas: [0.578271, 0.715099]\n",
      "mesh.is_watertight = True\n",
      "/neuron_mesh_tools/Auto_Proofreading/Preprocessing_Pipeline/Allen_Splitting_Pipeline/Poisson_temp/poisson_123808.mls is being deleted....\n",
      "Inside sphere validater: ratio_val = 439.5774725828066\n",
      "->Attempting retry of soma because failed first checks: soma_mesh = <trimesh.Trimesh(vertices.shape=(611, 3), faces.shape=(1216, 3))>, curr_side_len_check = True, curr_volume_check = False\n",
      "perc_0_faces = 0.0\n",
      "Going to run cgal segmentation with:\n",
      "File: /neuron_mesh_tools/Auto_Proofreading/Preprocessing_Pipeline/Allen_Splitting_Pipeline/370_mesh \n",
      "clusters:3 \n",
      "smoothness:0.2\n"
     ]
    },
    {
     "data": {
      "application/vnd.jupyter.widget-view+json": {
       "model_id": "77cd2aa0572b4227bb8c1dfd71343284",
       "version_major": 2,
       "version_minor": 0
      },
      "text/plain": [
       "  0%|          | 0/1 [00:00<?, ?it/s]"
      ]
     },
     "metadata": {},
     "output_type": "display_data"
    },
    {
     "name": "stdout",
     "output_type": "stream",
     "text": [
      "mesh.is_watertight = True\n",
      "/neuron_mesh_tools/Auto_Proofreading/Preprocessing_Pipeline/Allen_Splitting_Pipeline/Poisson_temp/poisson_135124.mls is being deleted....\n",
      "Inside sphere validater: ratio_val = 439.5774725828066\n",
      "--->This soma mesh was not added because failed retry of sphere validation:\n",
      " soma_mesh = <trimesh.Trimesh(vertices.shape=(611, 3), faces.shape=(1216, 3))>, curr_side_len_check = True, curr_volume_check = False\n",
      "mesh.is_watertight = True\n",
      "/neuron_mesh_tools/Auto_Proofreading/Preprocessing_Pipeline/Allen_Splitting_Pipeline/Poisson_temp/poisson_666540.mls is being deleted....\n",
      "Inside sphere validater: ratio_val = 185.74765433207023\n",
      "->Attempting retry of soma because failed first checks: soma_mesh = <trimesh.Trimesh(vertices.shape=(414, 3), faces.shape=(819, 3))>, curr_side_len_check = True, curr_volume_check = False\n",
      "perc_0_faces = 0.001221001221001221\n",
      "Going to run cgal segmentation with:\n",
      "File: /neuron_mesh_tools/Auto_Proofreading/Preprocessing_Pipeline/Allen_Splitting_Pipeline/190_mesh \n",
      "clusters:3 \n",
      "smoothness:0.2\n"
     ]
    },
    {
     "data": {
      "application/vnd.jupyter.widget-view+json": {
       "model_id": "79b470c63d0246d7b17791916d4122c9",
       "version_major": 2,
       "version_minor": 0
      },
      "text/plain": [
       "  0%|          | 0/2 [00:00<?, ?it/s]"
      ]
     },
     "metadata": {},
     "output_type": "display_data"
    },
    {
     "name": "stdout",
     "output_type": "stream",
     "text": [
      "Could not find valid soma mesh in retry\n",
      "----- working on mesh after poisson #2: <trimesh.Trimesh(vertices.shape=(5345, 3), faces.shape=(10690, 3))>\n",
      "xvfb-run -n 1859 -s \"-screen 0 800x600x24\" meshlabserver $@  -i /neuron_mesh_tools/Auto_Proofreading/Preprocessing_Pipeline/Allen_Splitting_Pipeline/864691137196942401/neuron_864691137196942401_decimated_largest_piece_poisson_largest_inner.off -o /neuron_mesh_tools/Auto_Proofreading/Preprocessing_Pipeline/Allen_Splitting_Pipeline/864691137196942401/neuron_864691137196942401_decimated_largest_piece_poisson_largest_inner_decimated.off -s /neuron_mesh_tools/Auto_Proofreading/Preprocessing_Pipeline/Allen_Splitting_Pipeline/864691137196942401/decimation_meshlab_25393941.mls\n",
      "\n",
      "-------Splits after inner decimation len = 1--------\n",
      "\n",
      "done exporting decimated mesh: neuron_864691137196942401_decimated_largest_piece_poisson_largest_inner.off\n",
      "\n",
      "    --- On segmentation loop 0 --\n",
      "largest_mesh_path_inner_decimated_clean = <trimesh.Trimesh(vertices.shape=(1335, 3), faces.shape=(2670, 3))>\n",
      "\n"
     ]
    },
    {
     "data": {
      "application/vnd.jupyter.widget-view+json": {
       "model_id": "9709acc15c5e4655b2f7b75d4becc2c9",
       "version_major": 2,
       "version_minor": 0
      },
      "text/plain": [
       "  0%|          | 0/7 [00:00<?, ?it/s]"
      ]
     },
     "metadata": {},
     "output_type": "display_data"
    },
    {
     "name": "stdout",
     "output_type": "stream",
     "text": [
      "      ------ Found 2 viable somas: [0.484251, 0.6096635]\n",
      "mesh.is_watertight = True\n",
      "/neuron_mesh_tools/Auto_Proofreading/Preprocessing_Pipeline/Allen_Splitting_Pipeline/Poisson_temp/poisson_923105.mls is being deleted....\n",
      "Inside sphere validater: ratio_val = 957.7274350941599\n",
      "->Attempting retry of soma because failed first checks: soma_mesh = <trimesh.Trimesh(vertices.shape=(560, 3), faces.shape=(1118, 3))>, curr_side_len_check = True, curr_volume_check = False\n",
      "perc_0_faces = 0.0008944543828264759\n",
      "Going to run cgal segmentation with:\n",
      "File: /neuron_mesh_tools/Auto_Proofreading/Preprocessing_Pipeline/Allen_Splitting_Pipeline/209_mesh \n",
      "clusters:3 \n",
      "smoothness:0.2\n"
     ]
    },
    {
     "data": {
      "application/vnd.jupyter.widget-view+json": {
       "model_id": "a72f79aa455647e4a307a5025579a20f",
       "version_major": 2,
       "version_minor": 0
      },
      "text/plain": [
       "  0%|          | 0/4 [00:00<?, ?it/s]"
      ]
     },
     "metadata": {},
     "output_type": "display_data"
    },
    {
     "name": "stdout",
     "output_type": "stream",
     "text": [
      "Could not find valid soma mesh in retry\n",
      "mesh.is_watertight = True\n",
      "/neuron_mesh_tools/Auto_Proofreading/Preprocessing_Pipeline/Allen_Splitting_Pipeline/Poisson_temp/poisson_564763.mls is being deleted....\n",
      "Inside sphere validater: ratio_val = 122.55341270902697\n",
      "->Attempting retry of soma because failed first checks: soma_mesh = <trimesh.Trimesh(vertices.shape=(419, 3), faces.shape=(832, 3))>, curr_side_len_check = True, curr_volume_check = False\n",
      "perc_0_faces = 0.0\n",
      "Going to run cgal segmentation with:\n",
      "File: /neuron_mesh_tools/Auto_Proofreading/Preprocessing_Pipeline/Allen_Splitting_Pipeline/94_mesh \n",
      "clusters:3 \n",
      "smoothness:0.2\n"
     ]
    },
    {
     "data": {
      "application/vnd.jupyter.widget-view+json": {
       "model_id": "3b2e9c74a5804dce97214ff95ad8637e",
       "version_major": 2,
       "version_minor": 0
      },
      "text/plain": [
       "  0%|          | 0/1 [00:00<?, ?it/s]"
      ]
     },
     "metadata": {},
     "output_type": "display_data"
    },
    {
     "name": "stdout",
     "output_type": "stream",
     "text": [
      "mesh.is_watertight = True\n",
      "/neuron_mesh_tools/Auto_Proofreading/Preprocessing_Pipeline/Allen_Splitting_Pipeline/Poisson_temp/poisson_919820.mls is being deleted....\n",
      "Inside sphere validater: ratio_val = 122.55341270902697\n",
      "--->This soma mesh was not added because failed retry of sphere validation:\n",
      " soma_mesh = <trimesh.Trimesh(vertices.shape=(419, 3), faces.shape=(832, 3))>, curr_side_len_check = True, curr_volume_check = False\n",
      "----- working on mesh after poisson #3: <trimesh.Trimesh(vertices.shape=(5168, 3), faces.shape=(10332, 3))>\n",
      "xvfb-run -n 1859 -s \"-screen 0 800x600x24\" meshlabserver $@  -i /neuron_mesh_tools/Auto_Proofreading/Preprocessing_Pipeline/Allen_Splitting_Pipeline/864691137196942401/neuron_864691137196942401_decimated_largest_piece_poisson_largest_inner.off -o /neuron_mesh_tools/Auto_Proofreading/Preprocessing_Pipeline/Allen_Splitting_Pipeline/864691137196942401/neuron_864691137196942401_decimated_largest_piece_poisson_largest_inner_decimated.off -s /neuron_mesh_tools/Auto_Proofreading/Preprocessing_Pipeline/Allen_Splitting_Pipeline/864691137196942401/decimation_meshlab_25393941.mls\n",
      "\n",
      "-------Splits after inner decimation len = 1--------\n",
      "\n",
      "done exporting decimated mesh: neuron_864691137196942401_decimated_largest_piece_poisson_largest_inner.off\n",
      "\n",
      "    --- On segmentation loop 0 --\n",
      "largest_mesh_path_inner_decimated_clean = <trimesh.Trimesh(vertices.shape=(1293, 3), faces.shape=(2582, 3))>\n",
      "\n"
     ]
    },
    {
     "data": {
      "application/vnd.jupyter.widget-view+json": {
       "model_id": "9a7d18608a094c04a33baa9e45c081a3",
       "version_major": 2,
       "version_minor": 0
      },
      "text/plain": [
       "  0%|          | 0/11 [00:00<?, ?it/s]"
      ]
     },
     "metadata": {},
     "output_type": "display_data"
    },
    {
     "name": "stdout",
     "output_type": "stream",
     "text": [
      "      ------ Found 1 viable somas: [0.445081]\n",
      "mesh.is_watertight = True\n",
      "/neuron_mesh_tools/Auto_Proofreading/Preprocessing_Pipeline/Allen_Splitting_Pipeline/Poisson_temp/poisson_957429.mls is being deleted....\n",
      "Inside sphere validater: ratio_val = 1115.1618724519792\n",
      "->Attempting retry of soma because failed first checks: soma_mesh = <trimesh.Trimesh(vertices.shape=(428, 3), faces.shape=(849, 3))>, curr_side_len_check = True, curr_volume_check = False\n",
      "perc_0_faces = 0.004711425206124852\n",
      "Going to run cgal segmentation with:\n",
      "File: /neuron_mesh_tools/Auto_Proofreading/Preprocessing_Pipeline/Allen_Splitting_Pipeline/633_mesh \n",
      "clusters:3 \n",
      "smoothness:0.2\n"
     ]
    },
    {
     "data": {
      "application/vnd.jupyter.widget-view+json": {
       "model_id": "8227924963d54dd592787fb68b97b395",
       "version_major": 2,
       "version_minor": 0
      },
      "text/plain": [
       "  0%|          | 0/3 [00:00<?, ?it/s]"
      ]
     },
     "metadata": {},
     "output_type": "display_data"
    },
    {
     "name": "stdout",
     "output_type": "stream",
     "text": [
      "Could not find valid soma mesh in retry\n",
      "----- working on mesh after poisson #4: <trimesh.Trimesh(vertices.shape=(4375, 3), faces.shape=(8750, 3))>\n",
      "xvfb-run -n 1859 -s \"-screen 0 800x600x24\" meshlabserver $@  -i /neuron_mesh_tools/Auto_Proofreading/Preprocessing_Pipeline/Allen_Splitting_Pipeline/864691137196942401/neuron_864691137196942401_decimated_largest_piece_poisson_largest_inner.off -o /neuron_mesh_tools/Auto_Proofreading/Preprocessing_Pipeline/Allen_Splitting_Pipeline/864691137196942401/neuron_864691137196942401_decimated_largest_piece_poisson_largest_inner_decimated.off -s /neuron_mesh_tools/Auto_Proofreading/Preprocessing_Pipeline/Allen_Splitting_Pipeline/864691137196942401/decimation_meshlab_25393941.mls\n",
      "\n",
      "-------Splits after inner decimation len = 1--------\n",
      "\n",
      "done exporting decimated mesh: neuron_864691137196942401_decimated_largest_piece_poisson_largest_inner.off\n",
      "\n",
      "    --- On segmentation loop 0 --\n",
      "largest_mesh_path_inner_decimated_clean = <trimesh.Trimesh(vertices.shape=(1093, 3), faces.shape=(2186, 3))>\n",
      "\n"
     ]
    },
    {
     "data": {
      "application/vnd.jupyter.widget-view+json": {
       "model_id": "56d050be766742a7b4216cf93c8d5d66",
       "version_major": 2,
       "version_minor": 0
      },
      "text/plain": [
       "  0%|          | 0/13 [00:00<?, ?it/s]"
      ]
     },
     "metadata": {},
     "output_type": "display_data"
    },
    {
     "name": "stdout",
     "output_type": "stream",
     "text": [
      "      ------ Found 1 viable somas: [0.5582545]\n",
      "mesh.is_watertight = True\n",
      "/neuron_mesh_tools/Auto_Proofreading/Preprocessing_Pipeline/Allen_Splitting_Pipeline/Poisson_temp/poisson_209017.mls is being deleted....\n",
      "Inside sphere validater: ratio_val = 80.68883531107372\n",
      "->Attempting retry of soma because failed first checks: soma_mesh = <trimesh.Trimesh(vertices.shape=(322, 3), faces.shape=(636, 3))>, curr_side_len_check = True, curr_volume_check = False\n",
      "perc_0_faces = 0.0031446540880503146\n",
      "Going to run cgal segmentation with:\n",
      "File: /neuron_mesh_tools/Auto_Proofreading/Preprocessing_Pipeline/Allen_Splitting_Pipeline/316_mesh \n",
      "clusters:3 \n",
      "smoothness:0.2\n"
     ]
    },
    {
     "data": {
      "application/vnd.jupyter.widget-view+json": {
       "model_id": "f12c361e4a26499c810fd14c496918d2",
       "version_major": 2,
       "version_minor": 0
      },
      "text/plain": [
       "  0%|          | 0/1 [00:00<?, ?it/s]"
      ]
     },
     "metadata": {},
     "output_type": "display_data"
    },
    {
     "name": "stdout",
     "output_type": "stream",
     "text": [
      "mesh.is_watertight = True\n",
      "/neuron_mesh_tools/Auto_Proofreading/Preprocessing_Pipeline/Allen_Splitting_Pipeline/Poisson_temp/poisson_161881.mls is being deleted....\n",
      "Inside sphere validater: ratio_val = 80.68883531107372\n",
      "--->This soma mesh was not added because failed retry of sphere validation:\n",
      " soma_mesh = <trimesh.Trimesh(vertices.shape=(322, 3), faces.shape=(636, 3))>, curr_side_len_check = True, curr_volume_check = False\n",
      "----- working on mesh after poisson #5: <trimesh.Trimesh(vertices.shape=(4013, 3), faces.shape=(8022, 3))>\n",
      "xvfb-run -n 1859 -s \"-screen 0 800x600x24\" meshlabserver $@  -i /neuron_mesh_tools/Auto_Proofreading/Preprocessing_Pipeline/Allen_Splitting_Pipeline/864691137196942401/neuron_864691137196942401_decimated_largest_piece_poisson_largest_inner.off -o /neuron_mesh_tools/Auto_Proofreading/Preprocessing_Pipeline/Allen_Splitting_Pipeline/864691137196942401/neuron_864691137196942401_decimated_largest_piece_poisson_largest_inner_decimated.off -s /neuron_mesh_tools/Auto_Proofreading/Preprocessing_Pipeline/Allen_Splitting_Pipeline/864691137196942401/decimation_meshlab_25393941.mls\n",
      "\n",
      "-------Splits after inner decimation len = 1--------\n",
      "\n",
      "done exporting decimated mesh: neuron_864691137196942401_decimated_largest_piece_poisson_largest_inner.off\n",
      "\n",
      "    --- On segmentation loop 0 --\n",
      "largest_mesh_path_inner_decimated_clean = <trimesh.Trimesh(vertices.shape=(1004, 3), faces.shape=(2004, 3))>\n",
      "\n"
     ]
    },
    {
     "data": {
      "application/vnd.jupyter.widget-view+json": {
       "model_id": "4cbdb726159e4f34b9f22d1e6d5c982f",
       "version_major": 2,
       "version_minor": 0
      },
      "text/plain": [
       "  0%|          | 0/6 [00:00<?, ?it/s]"
      ]
     },
     "metadata": {},
     "output_type": "display_data"
    },
    {
     "name": "stdout",
     "output_type": "stream",
     "text": [
      "      ------ Found 1 viable somas: [0.562004]\n",
      "mesh.is_watertight = True\n",
      "/neuron_mesh_tools/Auto_Proofreading/Preprocessing_Pipeline/Allen_Splitting_Pipeline/Poisson_temp/poisson_894127.mls is being deleted....\n",
      "Inside sphere validater: ratio_val = 64.1114587825559\n",
      "->Attempting retry of soma because failed first checks: soma_mesh = <trimesh.Trimesh(vertices.shape=(306, 3), faces.shape=(606, 3))>, curr_side_len_check = True, curr_volume_check = False\n",
      "perc_0_faces = 0.0\n",
      "Going to run cgal segmentation with:\n",
      "File: /neuron_mesh_tools/Auto_Proofreading/Preprocessing_Pipeline/Allen_Splitting_Pipeline/873_mesh \n",
      "clusters:3 \n",
      "smoothness:0.2\n"
     ]
    },
    {
     "data": {
      "application/vnd.jupyter.widget-view+json": {
       "model_id": "122a7685a2be4acba9b86c0235e05a29",
       "version_major": 2,
       "version_minor": 0
      },
      "text/plain": [
       "  0%|          | 0/2 [00:00<?, ?it/s]"
      ]
     },
     "metadata": {},
     "output_type": "display_data"
    },
    {
     "name": "stdout",
     "output_type": "stream",
     "text": [
      "Could not find valid soma mesh in retry\n",
      "----- working on mesh after poisson #6: <trimesh.Trimesh(vertices.shape=(3287, 3), faces.shape=(6574, 3))>\n",
      "xvfb-run -n 1859 -s \"-screen 0 800x600x24\" meshlabserver $@  -i /neuron_mesh_tools/Auto_Proofreading/Preprocessing_Pipeline/Allen_Splitting_Pipeline/864691137196942401/neuron_864691137196942401_decimated_largest_piece_poisson_largest_inner.off -o /neuron_mesh_tools/Auto_Proofreading/Preprocessing_Pipeline/Allen_Splitting_Pipeline/864691137196942401/neuron_864691137196942401_decimated_largest_piece_poisson_largest_inner_decimated.off -s /neuron_mesh_tools/Auto_Proofreading/Preprocessing_Pipeline/Allen_Splitting_Pipeline/864691137196942401/decimation_meshlab_25393941.mls\n",
      "\n",
      "-------Splits after inner decimation len = 1--------\n",
      "\n",
      "done exporting decimated mesh: neuron_864691137196942401_decimated_largest_piece_poisson_largest_inner.off\n",
      "\n",
      "    --- On segmentation loop 0 --\n",
      "largest_mesh_path_inner_decimated_clean = <trimesh.Trimesh(vertices.shape=(821, 3), faces.shape=(1642, 3))>\n",
      "\n"
     ]
    },
    {
     "data": {
      "application/vnd.jupyter.widget-view+json": {
       "model_id": "0ba7aedc7ef5485d927d7cf06d93f816",
       "version_major": 2,
       "version_minor": 0
      },
      "text/plain": [
       "  0%|          | 0/5 [00:00<?, ?it/s]"
      ]
     },
     "metadata": {},
     "output_type": "display_data"
    },
    {
     "name": "stdout",
     "output_type": "stream",
     "text": [
      "      ------ Found 1 viable somas: [0.566076]\n",
      "mesh.is_watertight = True\n",
      "/neuron_mesh_tools/Auto_Proofreading/Preprocessing_Pipeline/Allen_Splitting_Pipeline/Poisson_temp/poisson_189237.mls is being deleted....\n",
      "Inside sphere validater: ratio_val = 607.4015822802273\n",
      "->Attempting retry of soma because failed first checks: soma_mesh = <trimesh.Trimesh(vertices.shape=(490, 3), faces.shape=(975, 3))>, curr_side_len_check = True, curr_volume_check = False\n",
      "perc_0_faces = 0.0\n",
      "Going to run cgal segmentation with:\n",
      "File: /neuron_mesh_tools/Auto_Proofreading/Preprocessing_Pipeline/Allen_Splitting_Pipeline/773_mesh \n",
      "clusters:3 \n",
      "smoothness:0.2\n"
     ]
    },
    {
     "data": {
      "application/vnd.jupyter.widget-view+json": {
       "model_id": "b0a9814bc64145498a13cda95790349d",
       "version_major": 2,
       "version_minor": 0
      },
      "text/plain": [
       "  0%|          | 0/3 [00:00<?, ?it/s]"
      ]
     },
     "metadata": {},
     "output_type": "display_data"
    },
    {
     "name": "stdout",
     "output_type": "stream",
     "text": [
      "Could not find valid soma mesh in retry\n",
      "----- working on mesh after poisson #7: <trimesh.Trimesh(vertices.shape=(2943, 3), faces.shape=(5882, 3))>\n",
      "xvfb-run -n 1859 -s \"-screen 0 800x600x24\" meshlabserver $@  -i /neuron_mesh_tools/Auto_Proofreading/Preprocessing_Pipeline/Allen_Splitting_Pipeline/864691137196942401/neuron_864691137196942401_decimated_largest_piece_poisson_largest_inner.off -o /neuron_mesh_tools/Auto_Proofreading/Preprocessing_Pipeline/Allen_Splitting_Pipeline/864691137196942401/neuron_864691137196942401_decimated_largest_piece_poisson_largest_inner_decimated.off -s /neuron_mesh_tools/Auto_Proofreading/Preprocessing_Pipeline/Allen_Splitting_Pipeline/864691137196942401/decimation_meshlab_25393941.mls\n",
      "\n",
      "-------Splits after inner decimation len = 1--------\n",
      "\n",
      "done exporting decimated mesh: neuron_864691137196942401_decimated_largest_piece_poisson_largest_inner.off\n",
      "\n",
      "    --- On segmentation loop 0 --\n",
      "largest_mesh_path_inner_decimated_clean = <trimesh.Trimesh(vertices.shape=(737, 3), faces.shape=(1470, 3))>\n",
      "\n"
     ]
    },
    {
     "data": {
      "application/vnd.jupyter.widget-view+json": {
       "model_id": "4e2089df992a4a24b574e64749f83159",
       "version_major": 2,
       "version_minor": 0
      },
      "text/plain": [
       "  0%|          | 0/9 [00:00<?, ?it/s]"
      ]
     },
     "metadata": {},
     "output_type": "display_data"
    },
    {
     "name": "stdout",
     "output_type": "stream",
     "text": [
      "\n",
      "    --- On segmentation loop 1 --\n",
      "largest_mesh_path_inner_decimated_clean = <trimesh.Trimesh(vertices.shape=(250, 3), faces.shape=(494, 3))>\n",
      "\n"
     ]
    },
    {
     "data": {
      "application/vnd.jupyter.widget-view+json": {
       "model_id": "81899a0d933e4e06acf5a7b124697f4c",
       "version_major": 2,
       "version_minor": 0
      },
      "text/plain": [
       "  0%|          | 0/1 [00:00<?, ?it/s]"
      ]
     },
     "metadata": {},
     "output_type": "display_data"
    },
    {
     "name": "stdout",
     "output_type": "stream",
     "text": [
      "\n",
      "    --- On segmentation loop 2 --\n",
      "largest_mesh_path_inner_decimated_clean = <trimesh.Trimesh(vertices.shape=(250, 3), faces.shape=(494, 3))>\n",
      "\n"
     ]
    },
    {
     "data": {
      "application/vnd.jupyter.widget-view+json": {
       "model_id": "798fe49f0cd04bc59fdfe9e17c959611",
       "version_major": 2,
       "version_minor": 0
      },
      "text/plain": [
       "  0%|          | 0/1 [00:00<?, ?it/s]"
      ]
     },
     "metadata": {},
     "output_type": "display_data"
    },
    {
     "name": "stdout",
     "output_type": "stream",
     "text": [
      "----- working on mesh after poisson #8: <trimesh.Trimesh(vertices.shape=(2742, 3), faces.shape=(5480, 3))>\n",
      "xvfb-run -n 1859 -s \"-screen 0 800x600x24\" meshlabserver $@  -i /neuron_mesh_tools/Auto_Proofreading/Preprocessing_Pipeline/Allen_Splitting_Pipeline/864691137196942401/neuron_864691137196942401_decimated_largest_piece_poisson_largest_inner.off -o /neuron_mesh_tools/Auto_Proofreading/Preprocessing_Pipeline/Allen_Splitting_Pipeline/864691137196942401/neuron_864691137196942401_decimated_largest_piece_poisson_largest_inner_decimated.off -s /neuron_mesh_tools/Auto_Proofreading/Preprocessing_Pipeline/Allen_Splitting_Pipeline/864691137196942401/decimation_meshlab_25393941.mls\n",
      "\n",
      "-------Splits after inner decimation len = 1--------\n",
      "\n",
      "done exporting decimated mesh: neuron_864691137196942401_decimated_largest_piece_poisson_largest_inner.off\n",
      "\n",
      "    --- On segmentation loop 0 --\n",
      "largest_mesh_path_inner_decimated_clean = <trimesh.Trimesh(vertices.shape=(687, 3), faces.shape=(1370, 3))>\n",
      "\n"
     ]
    },
    {
     "data": {
      "application/vnd.jupyter.widget-view+json": {
       "model_id": "661c7f85ec6d4c3fac910a886ad34675",
       "version_major": 2,
       "version_minor": 0
      },
      "text/plain": [
       "  0%|          | 0/6 [00:00<?, ?it/s]"
      ]
     },
     "metadata": {},
     "output_type": "display_data"
    },
    {
     "name": "stdout",
     "output_type": "stream",
     "text": [
      "      ------ Found 1 viable somas: [0.614365]\n",
      "mesh.is_watertight = True\n",
      "/neuron_mesh_tools/Auto_Proofreading/Preprocessing_Pipeline/Allen_Splitting_Pipeline/Poisson_temp/poisson_177920.mls is being deleted....\n",
      "Inside sphere validater: ratio_val = 102.54503882859638\n",
      "->Attempting retry of soma because failed first checks: soma_mesh = <trimesh.Trimesh(vertices.shape=(305, 3), faces.shape=(604, 3))>, curr_side_len_check = True, curr_volume_check = False\n",
      "perc_0_faces = 0.0\n",
      "Going to run cgal segmentation with:\n",
      "File: /neuron_mesh_tools/Auto_Proofreading/Preprocessing_Pipeline/Allen_Splitting_Pipeline/891_mesh \n",
      "clusters:3 \n",
      "smoothness:0.2\n"
     ]
    },
    {
     "data": {
      "application/vnd.jupyter.widget-view+json": {
       "model_id": "8ddea7427c564b31a78482f382d7ef5f",
       "version_major": 2,
       "version_minor": 0
      },
      "text/plain": [
       "  0%|          | 0/1 [00:00<?, ?it/s]"
      ]
     },
     "metadata": {},
     "output_type": "display_data"
    },
    {
     "name": "stdout",
     "output_type": "stream",
     "text": [
      "mesh.is_watertight = True\n",
      "/neuron_mesh_tools/Auto_Proofreading/Preprocessing_Pipeline/Allen_Splitting_Pipeline/Poisson_temp/poisson_357135.mls is being deleted....\n",
      "Inside sphere validater: ratio_val = 102.54503882859638\n",
      "--->This soma mesh was not added because failed retry of sphere validation:\n",
      " soma_mesh = <trimesh.Trimesh(vertices.shape=(305, 3), faces.shape=(604, 3))>, curr_side_len_check = True, curr_volume_check = False\n",
      "----- working on mesh after poisson #9: <trimesh.Trimesh(vertices.shape=(1967, 3), faces.shape=(3930, 3))>\n",
      "xvfb-run -n 1859 -s \"-screen 0 800x600x24\" meshlabserver $@  -i /neuron_mesh_tools/Auto_Proofreading/Preprocessing_Pipeline/Allen_Splitting_Pipeline/864691137196942401/neuron_864691137196942401_decimated_largest_piece_poisson_largest_inner.off -o /neuron_mesh_tools/Auto_Proofreading/Preprocessing_Pipeline/Allen_Splitting_Pipeline/864691137196942401/neuron_864691137196942401_decimated_largest_piece_poisson_largest_inner_decimated.off -s /neuron_mesh_tools/Auto_Proofreading/Preprocessing_Pipeline/Allen_Splitting_Pipeline/864691137196942401/decimation_meshlab_25393941.mls\n",
      "\n",
      "-------Splits after inner decimation len = 1--------\n",
      "\n",
      "done exporting decimated mesh: neuron_864691137196942401_decimated_largest_piece_poisson_largest_inner.off\n",
      "\n",
      "    --- On segmentation loop 0 --\n",
      "largest_mesh_path_inner_decimated_clean = <trimesh.Trimesh(vertices.shape=(493, 3), faces.shape=(982, 3))>\n",
      "\n"
     ]
    },
    {
     "data": {
      "application/vnd.jupyter.widget-view+json": {
       "model_id": "d7f44431c4894bf1978c82d2f6480552",
       "version_major": 2,
       "version_minor": 0
      },
      "text/plain": [
       "  0%|          | 0/3 [00:00<?, ?it/s]"
      ]
     },
     "metadata": {},
     "output_type": "display_data"
    },
    {
     "name": "stdout",
     "output_type": "stream",
     "text": [
      "      ------ Found 1 viable somas: [0.4654925]\n",
      "mesh.is_watertight = True\n",
      "/neuron_mesh_tools/Auto_Proofreading/Preprocessing_Pipeline/Allen_Splitting_Pipeline/Poisson_temp/poisson_215313.mls is being deleted....\n",
      "Inside sphere validater: ratio_val = 385.341543523185\n",
      "->Attempting retry of soma because failed first checks: soma_mesh = <trimesh.Trimesh(vertices.shape=(342, 3), faces.shape=(678, 3))>, curr_side_len_check = True, curr_volume_check = False\n",
      "perc_0_faces = 0.0\n",
      "Going to run cgal segmentation with:\n",
      "File: /neuron_mesh_tools/Auto_Proofreading/Preprocessing_Pipeline/Allen_Splitting_Pipeline/467_mesh \n",
      "clusters:3 \n",
      "smoothness:0.2\n"
     ]
    },
    {
     "data": {
      "application/vnd.jupyter.widget-view+json": {
       "model_id": "9f8fe1fbd0934db099faed458f699f86",
       "version_major": 2,
       "version_minor": 0
      },
      "text/plain": [
       "  0%|          | 0/3 [00:00<?, ?it/s]"
      ]
     },
     "metadata": {},
     "output_type": "display_data"
    },
    {
     "name": "stdout",
     "output_type": "stream",
     "text": [
      "Could not find valid soma mesh in retry\n",
      "\n",
      "\n",
      "\n",
      " Total time for run = 178.31008410453796\n",
      "Before Filtering the number of somas found = 2\n",
      "xvfb-run -n 1859 -s \"-screen 0 800x600x24\" meshlabserver $@  -i /neuron_mesh_tools/Auto_Proofreading/Preprocessing_Pipeline/Allen_Splitting_Pipeline/temp/neuron_68371.off -o /neuron_mesh_tools/Auto_Proofreading/Preprocessing_Pipeline/Allen_Splitting_Pipeline/temp/neuron_68371_fill_holes.off -s /neuron_mesh_tools/Auto_Proofreading/Preprocessing_Pipeline/Allen_Splitting_Pipeline/temp/fill_holes_969575.mls\n",
      "\n",
      "---- meshlab output -----\n",
      "QStandardPaths: XDG_RUNTIME_DIR not set, defaulting to '/tmp/runtime-root'\n",
      "Current Plugins Dir is: /meshlab/src/distrib/plugins \n",
      "Error While parsing the XML filter plugin descriptors: We are trying to load a xml file that does not correspond to any dll or javascript code; please delete all the spurious xml files\n",
      "Error While parsing the XML filter plugin descriptors: We are trying to load a xml file that does not correspond to any dll or javascript code; please delete all the spurious xml files\n",
      "Opening a file with extention off\n",
      "FilterScript\n",
      "Reading filter with name Remove Duplicate Vertices\n",
      "Reading filter with name Remove Faces from Non Manifold Edges\n",
      "Reading filter with name Close Holes\n",
      "    Reading Param with name MaxHoleSize : RichInt\n",
      "    Reading Param with name Selected : RichBool\n",
      "    Reading Param with name NewFaceSelected : RichBool\n",
      "    Reading Param with name SelfIntersection : RichBool\n",
      "Loading Plugins:\n",
      "Total 104 filtering actions\n",
      "Total 1 io plugins\n",
      "Mesh /neuron_mesh_tools/Auto_Proofreading/Preprocessing_Pipeline/Allen_Splitting_Pipeline/temp/neuron_68371.off loaded has 32989 vn 64121 fn\n",
      "output mesh  /neuron_mesh_tools/Auto_Proofreading/Preprocessing_Pipeline/Allen_Splitting_Pipeline/temp/neuron_68371_fill_holes.off\n",
      "Apply FilterScript: '/neuron_mesh_tools/Auto_Proofreading/Preprocessing_Pipeline/Allen_Splitting_Pipeline/temp/fill_holes_969575.mls'\n",
      "Starting Script of 3 actionsfilter: Remove Duplicate Vertices\n",
      "no additional memory available!!! memory required: 1561188\n",
      "LOG: 2 Removed 0 duplicated vertices\n",
      "Removed 0 duplicated vertices\n",
      "filter: Remove Faces from Non Manifold Edges\n",
      "no additional memory available!!! memory required: 1561188\n",
      "LOG: 2 Successfully removed 5186 non-manifold faces\n",
      "Removed 0 duplicated vertices\n",
      "Successfully removed 5186 non-manifold faces\n",
      "filter: Close Holes\n",
      "no additional memory available!!! memory required: 1498956\n",
      "meshlabserver: ../../../../vcglib/vcg/complex/algorithms/hole.h:259: bool vcg::tri::TrivialEar<MESH>::Close(vcg::tri::TrivialEar<MESH>::PosType&, vcg::tri::TrivialEar<MESH>::PosType&, vcg::tri::TrivialEar<MESH>::FaceType*) [with MESH = CMeshO; vcg::tri::TrivialEar<MESH>::PosType = vcg::face::Pos<CFaceO>; typename MeshType::FaceType = CFaceO; vcg::tri::TrivialEar<MESH>::FaceType = CFaceO]: Assertion `e1.v->IsUserBit(NonManifoldBit())' failed.\n",
      "Aborted (core dumped)\n",
      "\n",
      "\n",
      " returncode ====== 134\n",
      "\n",
      " ------ Done with meshlab output------\n",
      "/neuron_mesh_tools/Auto_Proofreading/Preprocessing_Pipeline/Allen_Splitting_Pipeline/temp/fill_holes_969575.mls is being deleted....\n",
      "The hole closing did not work so continuing without\n",
      "xvfb-run -n 1859 -s \"-screen 0 800x600x24\" meshlabserver $@  -i /neuron_mesh_tools/Auto_Proofreading/Preprocessing_Pipeline/Allen_Splitting_Pipeline/temp/neuron_12566.off -o /neuron_mesh_tools/Auto_Proofreading/Preprocessing_Pipeline/Allen_Splitting_Pipeline/temp/neuron_12566_remove_interior.off -s /neuron_mesh_tools/Auto_Proofreading/Preprocessing_Pipeline/Allen_Splitting_Pipeline/temp/remove_interior_22888.mls\n",
      "removed temporary input file: /neuron_mesh_tools/Auto_Proofreading/Preprocessing_Pipeline/Allen_Splitting_Pipeline/temp/neuron_12566.off\n",
      "removed temporary output file: /neuron_mesh_tools/Auto_Proofreading/Preprocessing_Pipeline/Allen_Splitting_Pipeline/temp/neuron_12566_remove_interior.off\n",
      "/neuron_mesh_tools/Auto_Proofreading/Preprocessing_Pipeline/Allen_Splitting_Pipeline/temp/remove_interior_22888.mls is being deleted....\n",
      "Removing the following inside neurons: [<trimesh.Trimesh(vertices.shape=(782, 3), faces.shape=(1899, 3))>, <trimesh.Trimesh(vertices.shape=(386, 3), faces.shape=(595, 3))>, <trimesh.Trimesh(vertices.shape=(328, 3), faces.shape=(610, 3))>, <trimesh.Trimesh(vertices.shape=(153, 3), faces.shape=(370, 3))>]\n",
      "poisson_backtrack_distance_threshold = None\n",
      "Using Poisson Surface Reconstruction for watertightness in soma_volume_ratio\n",
      "xvfb-run -n 1859 -s \"-screen 0 800x600x24\" meshlabserver $@  -i /neuron_mesh_tools/Auto_Proofreading/Preprocessing_Pipeline/Allen_Splitting_Pipeline/Poisson_temp/neuron_231548.off -o /neuron_mesh_tools/Auto_Proofreading/Preprocessing_Pipeline/Allen_Splitting_Pipeline/Poisson_temp/neuron_231548_poisson.off -s /neuron_mesh_tools/Auto_Proofreading/Preprocessing_Pipeline/Allen_Splitting_Pipeline/Poisson_temp/poisson_85481.mls\n",
      "removed temporary input file: /neuron_mesh_tools/Auto_Proofreading/Preprocessing_Pipeline/Allen_Splitting_Pipeline/Poisson_temp/neuron_231548.off\n",
      "removed temporary output file: /neuron_mesh_tools/Auto_Proofreading/Preprocessing_Pipeline/Allen_Splitting_Pipeline/Poisson_temp/neuron_231548_poisson.off\n",
      "mesh.is_watertight = True\n",
      "/neuron_mesh_tools/Auto_Proofreading/Preprocessing_Pipeline/Allen_Splitting_Pipeline/Poisson_temp/poisson_85481.mls is being deleted....\n",
      "Inside sphere validater: ratio_val = 2.9834147453137767\n",
      "About to add the following inside nuclei pieces after soma backtrack: [<trimesh.Trimesh(vertices.shape=(15580, 3), faces.shape=(37172, 3))>, <trimesh.Trimesh(vertices.shape=(4480, 3), faces.shape=(10867, 3))>, <trimesh.Trimesh(vertices.shape=(2357, 3), faces.shape=(5639, 3))>, <trimesh.Trimesh(vertices.shape=(2098, 3), faces.shape=(4827, 3))>, <trimesh.Trimesh(vertices.shape=(1923, 3), faces.shape=(4507, 3))>, <trimesh.Trimesh(vertices.shape=(1653, 3), faces.shape=(3858, 3))>, <trimesh.Trimesh(vertices.shape=(1642, 3), faces.shape=(3728, 3))>, <trimesh.Trimesh(vertices.shape=(1571, 3), faces.shape=(3564, 3))>, <trimesh.Trimesh(vertices.shape=(1139, 3), faces.shape=(2553, 3))>, <trimesh.Trimesh(vertices.shape=(1127, 3), faces.shape=(2569, 3))>, <trimesh.Trimesh(vertices.shape=(892, 3), faces.shape=(2034, 3))>, <trimesh.Trimesh(vertices.shape=(872, 3), faces.shape=(1938, 3))>, <trimesh.Trimesh(vertices.shape=(783, 3), faces.shape=(1773, 3))>, <trimesh.Trimesh(vertices.shape=(767, 3), faces.shape=(1328, 3))>, <trimesh.Trimesh(vertices.shape=(719, 3), faces.shape=(1630, 3))>]\n",
      "xvfb-run -n 1859 -s \"-screen 0 800x600x24\" meshlabserver $@  -i /neuron_mesh_tools/Auto_Proofreading/Preprocessing_Pipeline/Allen_Splitting_Pipeline/temp/neuron_51952.off -o /neuron_mesh_tools/Auto_Proofreading/Preprocessing_Pipeline/Allen_Splitting_Pipeline/temp/neuron_51952_fill_holes.off -s /neuron_mesh_tools/Auto_Proofreading/Preprocessing_Pipeline/Allen_Splitting_Pipeline/temp/fill_holes_359803.mls\n",
      "\n",
      "---- meshlab output -----\n",
      "QStandardPaths: XDG_RUNTIME_DIR not set, defaulting to '/tmp/runtime-root'\n",
      "Current Plugins Dir is: /meshlab/src/distrib/plugins \n",
      "Error While parsing the XML filter plugin descriptors: We are trying to load a xml file that does not correspond to any dll or javascript code; please delete all the spurious xml files\n",
      "Error While parsing the XML filter plugin descriptors: We are trying to load a xml file that does not correspond to any dll or javascript code; please delete all the spurious xml files\n",
      "Opening a file with extention off\n",
      "FilterScript\n",
      "Reading filter with name Remove Duplicate Vertices\n",
      "Reading filter with name Remove Faces from Non Manifold Edges\n",
      "Reading filter with name Close Holes\n",
      "    Reading Param with name MaxHoleSize : RichInt\n",
      "    Reading Param with name Selected : RichBool\n",
      "    Reading Param with name NewFaceSelected : RichBool\n",
      "    Reading Param with name SelfIntersection : RichBool\n",
      "Loading Plugins:\n",
      "Total 104 filtering actions\n",
      "Total 1 io plugins\n",
      "Mesh /neuron_mesh_tools/Auto_Proofreading/Preprocessing_Pipeline/Allen_Splitting_Pipeline/temp/neuron_51952.off loaded has 24875 vn 45672 fn\n",
      "output mesh  /neuron_mesh_tools/Auto_Proofreading/Preprocessing_Pipeline/Allen_Splitting_Pipeline/temp/neuron_51952_fill_holes.off\n",
      "Apply FilterScript: '/neuron_mesh_tools/Auto_Proofreading/Preprocessing_Pipeline/Allen_Splitting_Pipeline/temp/fill_holes_359803.mls'\n",
      "Starting Script of 3 actionsfilter: Remove Duplicate Vertices\n",
      "no additional memory available!!! memory required: 1145064\n",
      "LOG: 2 Removed 0 duplicated vertices\n",
      "Removed 0 duplicated vertices\n",
      "filter: Remove Faces from Non Manifold Edges\n",
      "no additional memory available!!! memory required: 1145064\n",
      "LOG: 2 Successfully removed 4763 non-manifold faces\n",
      "Removed 0 duplicated vertices\n",
      "Successfully removed 4763 non-manifold faces\n",
      "filter: Close Holes\n",
      "no additional memory available!!! memory required: 1087908\n",
      "meshlabserver: ../../../../vcglib/vcg/complex/algorithms/hole.h:259: bool vcg::tri::TrivialEar<MESH>::Close(vcg::tri::TrivialEar<MESH>::PosType&, vcg::tri::TrivialEar<MESH>::PosType&, vcg::tri::TrivialEar<MESH>::FaceType*) [with MESH = CMeshO; vcg::tri::TrivialEar<MESH>::PosType = vcg::face::Pos<CFaceO>; typename MeshType::FaceType = CFaceO; vcg::tri::TrivialEar<MESH>::FaceType = CFaceO]: Assertion `e1.v->IsUserBit(NonManifoldBit())' failed.\n",
      "Aborted (core dumped)\n",
      "\n",
      "\n",
      " returncode ====== 134\n",
      "\n",
      " ------ Done with meshlab output------\n",
      "/neuron_mesh_tools/Auto_Proofreading/Preprocessing_Pipeline/Allen_Splitting_Pipeline/temp/fill_holes_359803.mls is being deleted....\n",
      "The hole closing did not work so continuing without\n",
      "xvfb-run -n 1859 -s \"-screen 0 800x600x24\" meshlabserver $@  -i /neuron_mesh_tools/Auto_Proofreading/Preprocessing_Pipeline/Allen_Splitting_Pipeline/temp/neuron_48931.off -o /neuron_mesh_tools/Auto_Proofreading/Preprocessing_Pipeline/Allen_Splitting_Pipeline/temp/neuron_48931_remove_interior.off -s /neuron_mesh_tools/Auto_Proofreading/Preprocessing_Pipeline/Allen_Splitting_Pipeline/temp/remove_interior_738466.mls\n",
      "removed temporary input file: /neuron_mesh_tools/Auto_Proofreading/Preprocessing_Pipeline/Allen_Splitting_Pipeline/temp/neuron_48931.off\n",
      "removed temporary output file: /neuron_mesh_tools/Auto_Proofreading/Preprocessing_Pipeline/Allen_Splitting_Pipeline/temp/neuron_48931_remove_interior.off\n",
      "/neuron_mesh_tools/Auto_Proofreading/Preprocessing_Pipeline/Allen_Splitting_Pipeline/temp/remove_interior_738466.mls is being deleted....\n",
      "Removing the following inside neurons: [<trimesh.Trimesh(vertices.shape=(770, 3), faces.shape=(1500, 3))>, <trimesh.Trimesh(vertices.shape=(400, 3), faces.shape=(828, 3))>, <trimesh.Trimesh(vertices.shape=(357, 3), faces.shape=(591, 3))>, <trimesh.Trimesh(vertices.shape=(255, 3), faces.shape=(446, 3))>]\n",
      "poisson_backtrack_distance_threshold = None\n",
      "Using Poisson Surface Reconstruction for watertightness in soma_volume_ratio\n",
      "xvfb-run -n 1859 -s \"-screen 0 800x600x24\" meshlabserver $@  -i /neuron_mesh_tools/Auto_Proofreading/Preprocessing_Pipeline/Allen_Splitting_Pipeline/Poisson_temp/neuron_185679.off -o /neuron_mesh_tools/Auto_Proofreading/Preprocessing_Pipeline/Allen_Splitting_Pipeline/Poisson_temp/neuron_185679_poisson.off -s /neuron_mesh_tools/Auto_Proofreading/Preprocessing_Pipeline/Allen_Splitting_Pipeline/Poisson_temp/poisson_668781.mls\n",
      "removed temporary input file: /neuron_mesh_tools/Auto_Proofreading/Preprocessing_Pipeline/Allen_Splitting_Pipeline/Poisson_temp/neuron_185679.off\n",
      "removed temporary output file: /neuron_mesh_tools/Auto_Proofreading/Preprocessing_Pipeline/Allen_Splitting_Pipeline/Poisson_temp/neuron_185679_poisson.off\n",
      "mesh.is_watertight = False\n",
      "/neuron_mesh_tools/Auto_Proofreading/Preprocessing_Pipeline/Allen_Splitting_Pipeline/Poisson_temp/poisson_668781.mls is being deleted....\n",
      "Inside sphere validater: ratio_val = 3.4836549865994044\n",
      "About to add the following inside nuclei pieces after soma backtrack: [<trimesh.Trimesh(vertices.shape=(15580, 3), faces.shape=(37172, 3))>, <trimesh.Trimesh(vertices.shape=(4480, 3), faces.shape=(10867, 3))>, <trimesh.Trimesh(vertices.shape=(2357, 3), faces.shape=(5639, 3))>, <trimesh.Trimesh(vertices.shape=(2098, 3), faces.shape=(4827, 3))>, <trimesh.Trimesh(vertices.shape=(1923, 3), faces.shape=(4507, 3))>, <trimesh.Trimesh(vertices.shape=(1653, 3), faces.shape=(3858, 3))>, <trimesh.Trimesh(vertices.shape=(1642, 3), faces.shape=(3728, 3))>, <trimesh.Trimesh(vertices.shape=(1571, 3), faces.shape=(3564, 3))>, <trimesh.Trimesh(vertices.shape=(1139, 3), faces.shape=(2553, 3))>, <trimesh.Trimesh(vertices.shape=(1127, 3), faces.shape=(2569, 3))>, <trimesh.Trimesh(vertices.shape=(892, 3), faces.shape=(2034, 3))>, <trimesh.Trimesh(vertices.shape=(872, 3), faces.shape=(1938, 3))>, <trimesh.Trimesh(vertices.shape=(783, 3), faces.shape=(1773, 3))>, <trimesh.Trimesh(vertices.shape=(767, 3), faces.shape=(1328, 3))>, <trimesh.Trimesh(vertices.shape=(719, 3), faces.shape=(1630, 3))>, <trimesh.Trimesh(vertices.shape=(782, 3), faces.shape=(1899, 3))>, <trimesh.Trimesh(vertices.shape=(386, 3), faces.shape=(595, 3))>, <trimesh.Trimesh(vertices.shape=(328, 3), faces.shape=(610, 3))>, <trimesh.Trimesh(vertices.shape=(153, 3), faces.shape=(370, 3))>]\n",
      "Skipping the segmentatio filter at end\n",
      "removing mesh interior before segmentation\n",
      "xvfb-run -n 1859 -s \"-screen 0 800x600x24\" meshlabserver $@  -i /neuron_mesh_tools/Auto_Proofreading/Preprocessing_Pipeline/Allen_Splitting_Pipeline/temp/neuron_55158.off -o /neuron_mesh_tools/Auto_Proofreading/Preprocessing_Pipeline/Allen_Splitting_Pipeline/temp/neuron_55158_fill_holes.off -s /neuron_mesh_tools/Auto_Proofreading/Preprocessing_Pipeline/Allen_Splitting_Pipeline/temp/fill_holes_953041.mls\n",
      "removed temporary input file: /neuron_mesh_tools/Auto_Proofreading/Preprocessing_Pipeline/Allen_Splitting_Pipeline/temp/neuron_55158.off\n",
      "removed temporary output file: /neuron_mesh_tools/Auto_Proofreading/Preprocessing_Pipeline/Allen_Splitting_Pipeline/temp/neuron_55158_fill_holes.off\n",
      "/neuron_mesh_tools/Auto_Proofreading/Preprocessing_Pipeline/Allen_Splitting_Pipeline/temp/fill_holes_953041.mls is being deleted....\n",
      "xvfb-run -n 1859 -s \"-screen 0 800x600x24\" meshlabserver $@  -i /neuron_mesh_tools/Auto_Proofreading/Preprocessing_Pipeline/Allen_Splitting_Pipeline/temp/neuron_73525.off -o /neuron_mesh_tools/Auto_Proofreading/Preprocessing_Pipeline/Allen_Splitting_Pipeline/temp/neuron_73525_remove_interior.off -s /neuron_mesh_tools/Auto_Proofreading/Preprocessing_Pipeline/Allen_Splitting_Pipeline/temp/remove_interior_490304.mls\n",
      "removed temporary input file: /neuron_mesh_tools/Auto_Proofreading/Preprocessing_Pipeline/Allen_Splitting_Pipeline/temp/neuron_73525.off\n",
      "removed temporary output file: /neuron_mesh_tools/Auto_Proofreading/Preprocessing_Pipeline/Allen_Splitting_Pipeline/temp/neuron_73525_remove_interior.off\n",
      "/neuron_mesh_tools/Auto_Proofreading/Preprocessing_Pipeline/Allen_Splitting_Pipeline/temp/remove_interior_490304.mls is being deleted....\n",
      "THERE WERE NO MESH PIECES GREATER THAN THE significance_threshold\n",
      "No significant (1000) interior meshes present\n",
      "largest is 115\n",
      "Doing the soma segmentation filter at end\n"
     ]
    },
    {
     "data": {
      "application/vnd.jupyter.widget-view+json": {
       "model_id": "8a7049e0d29f4f0e84427a496e2fdfd0",
       "version_major": 2,
       "version_minor": 0
      },
      "text/plain": [
       "  0%|          | 0/14 [00:00<?, ?it/s]"
      ]
     },
     "metadata": {},
     "output_type": "display_data"
    },
    {
     "name": "stderr",
     "output_type": "stream",
     "text": [
      "/meshAfterParty/meshAfterParty/networkx_utils.py:593: VisibleDeprecationWarning: Creating an ndarray from ragged nested sequences (which is a list-or-tuple of lists-or-tuples-or ndarrays with different lengths or shapes) is deprecated. If you meant to do this, you must specify 'dtype=object' when creating the ndarray\n",
      "  cycles_list_array = np.array(cycles_list)\n"
     ]
    },
    {
     "name": "stdout",
     "output_type": "stream",
     "text": [
      "Largest hole before segmentation = 69706.15028774554, after = 331463.16951856104,\n",
      "\n",
      "ratio = 4.755149554957317, difference = 261757.01923081552\n",
      "Skipping the segmentatio filter at end\n",
      "removing mesh interior before segmentation\n",
      "xvfb-run -n 1859 -s \"-screen 0 800x600x24\" meshlabserver $@  -i /neuron_mesh_tools/Auto_Proofreading/Preprocessing_Pipeline/Allen_Splitting_Pipeline/temp/neuron_1796.off -o /neuron_mesh_tools/Auto_Proofreading/Preprocessing_Pipeline/Allen_Splitting_Pipeline/temp/neuron_1796_fill_holes.off -s /neuron_mesh_tools/Auto_Proofreading/Preprocessing_Pipeline/Allen_Splitting_Pipeline/temp/fill_holes_628241.mls\n",
      "removed temporary input file: /neuron_mesh_tools/Auto_Proofreading/Preprocessing_Pipeline/Allen_Splitting_Pipeline/temp/neuron_1796.off\n",
      "removed temporary output file: /neuron_mesh_tools/Auto_Proofreading/Preprocessing_Pipeline/Allen_Splitting_Pipeline/temp/neuron_1796_fill_holes.off\n",
      "/neuron_mesh_tools/Auto_Proofreading/Preprocessing_Pipeline/Allen_Splitting_Pipeline/temp/fill_holes_628241.mls is being deleted....\n",
      "xvfb-run -n 1859 -s \"-screen 0 800x600x24\" meshlabserver $@  -i /neuron_mesh_tools/Auto_Proofreading/Preprocessing_Pipeline/Allen_Splitting_Pipeline/temp/neuron_13734.off -o /neuron_mesh_tools/Auto_Proofreading/Preprocessing_Pipeline/Allen_Splitting_Pipeline/temp/neuron_13734_remove_interior.off -s /neuron_mesh_tools/Auto_Proofreading/Preprocessing_Pipeline/Allen_Splitting_Pipeline/temp/remove_interior_363061.mls\n",
      "removed temporary input file: /neuron_mesh_tools/Auto_Proofreading/Preprocessing_Pipeline/Allen_Splitting_Pipeline/temp/neuron_13734.off\n",
      "removed temporary output file: /neuron_mesh_tools/Auto_Proofreading/Preprocessing_Pipeline/Allen_Splitting_Pipeline/temp/neuron_13734_remove_interior.off\n",
      "/neuron_mesh_tools/Auto_Proofreading/Preprocessing_Pipeline/Allen_Splitting_Pipeline/temp/remove_interior_363061.mls is being deleted....\n",
      "THERE WERE NO MESH PIECES GREATER THAN THE significance_threshold\n",
      "No significant (1000) interior meshes present\n",
      "largest is 379\n",
      "Doing the soma segmentation filter at end\n"
     ]
    },
    {
     "data": {
      "application/vnd.jupyter.widget-view+json": {
       "model_id": "e253572fa96d4ad199923fbb41ea432a",
       "version_major": 2,
       "version_minor": 0
      },
      "text/plain": [
       "  0%|          | 0/10 [00:00<?, ?it/s]"
      ]
     },
     "metadata": {},
     "output_type": "display_data"
    },
    {
     "name": "stdout",
     "output_type": "stream",
     "text": [
      "Largest hole before segmentation = 5925960.875684581, after = 5782844.233407164,\n",
      "\n",
      "ratio = 0.975849209051539, difference = -143116.64227741677\n",
      "Saved object at /mnt/dj-stor01/platinum/minnie65/02/glia_nuclei_faces/864691137196942401_glia.pbz2\n",
      "File size is 4.6e-05 MB\n",
      "Saved object at /mnt/dj-stor01/platinum/minnie65/02/glia_nuclei_faces/864691137196942401_nuclei.pbz2\n",
      "File size is 0.147235 MB\n",
      " glia_path = /mnt/dj-stor01/platinum/minnie65/02/glia_nuclei_faces/864691137196942401_glia.pbz2 \n",
      " nuclei_path = /mnt/dj-stor01/platinum/minnie65/02/glia_nuclei_faces/864691137196942401_nuclei.pbz2\n",
      "Finished saving off glia and nuclei information : {'segment_id': 864691137196942401, 'decimation_version': 0, 'decimation_ratio': Decimal('0.25'), 'ver': 30, 'n_glia_faces': 0, 'glia_faces': PosixPath('/mnt/dj-stor01/platinum/minnie65/02/glia_nuclei_faces/864691137196942401_glia.pbz2'), 'n_nuclei_faces': 94826, 'nuclei_faces': PosixPath('/mnt/dj-stor01/platinum/minnie65/02/glia_nuclei_faces/864691137196942401_nuclei.pbz2')}\n",
      "Run time was 178.31008291244507 \n",
      "    total_soma_list = [<trimesh.Trimesh(vertices.shape=(18782, 3), faces.shape=(37186, 3))>, <trimesh.Trimesh(vertices.shape=(12968, 3), faces.shape=(24007, 3))>]\n",
      "    with sdf values = [0.8801745 0.835231 ]\n",
      "Using Poisson Surface Reconstruction for watertightness in soma_volume_ratio\n",
      "xvfb-run -n 1859 -s \"-screen 0 800x600x24\" meshlabserver $@  -i /neuron_mesh_tools/Auto_Proofreading/Preprocessing_Pipeline/Allen_Splitting_Pipeline/Poisson_temp/neuron_941310.off -o /neuron_mesh_tools/Auto_Proofreading/Preprocessing_Pipeline/Allen_Splitting_Pipeline/Poisson_temp/neuron_941310_poisson.off -s /neuron_mesh_tools/Auto_Proofreading/Preprocessing_Pipeline/Allen_Splitting_Pipeline/Poisson_temp/poisson_613620.mls\n",
      "removed temporary input file: /neuron_mesh_tools/Auto_Proofreading/Preprocessing_Pipeline/Allen_Splitting_Pipeline/Poisson_temp/neuron_941310.off\n",
      "removed temporary output file: /neuron_mesh_tools/Auto_Proofreading/Preprocessing_Pipeline/Allen_Splitting_Pipeline/Poisson_temp/neuron_941310_poisson.off\n",
      "mesh.is_watertight = True\n",
      "/neuron_mesh_tools/Auto_Proofreading/Preprocessing_Pipeline/Allen_Splitting_Pipeline/Poisson_temp/poisson_613620.mls is being deleted....\n",
      "Using Poisson Surface Reconstruction for watertightness in soma_volume_ratio\n",
      "xvfb-run -n 1859 -s \"-screen 0 800x600x24\" meshlabserver $@  -i /neuron_mesh_tools/Auto_Proofreading/Preprocessing_Pipeline/Allen_Splitting_Pipeline/Poisson_temp/neuron_568922.off -o /neuron_mesh_tools/Auto_Proofreading/Preprocessing_Pipeline/Allen_Splitting_Pipeline/Poisson_temp/neuron_568922_poisson.off -s /neuron_mesh_tools/Auto_Proofreading/Preprocessing_Pipeline/Allen_Splitting_Pipeline/Poisson_temp/poisson_753238.mls\n",
      "removed temporary input file: /neuron_mesh_tools/Auto_Proofreading/Preprocessing_Pipeline/Allen_Splitting_Pipeline/Poisson_temp/neuron_568922.off\n",
      "removed temporary output file: /neuron_mesh_tools/Auto_Proofreading/Preprocessing_Pipeline/Allen_Splitting_Pipeline/Poisson_temp/neuron_568922_poisson.off\n",
      "mesh.is_watertight = False\n",
      "/neuron_mesh_tools/Auto_Proofreading/Preprocessing_Pipeline/Allen_Splitting_Pipeline/Poisson_temp/poisson_753238.mls is being deleted....\n",
      "Trying to write off file\n",
      "Predicted Coordinates are [175037 142069  15056]\n",
      "Trying to write off file\n",
      "Predicted Coordinates are [174416 136421  14931]\n"
     ]
    },
    {
     "name": "stderr",
     "output_type": "stream",
     "text": [
      "/meshAfterParty/meshAfterParty/networkx_utils.py:593: VisibleDeprecationWarning: Creating an ndarray from ragged nested sequences (which is a list-or-tuple of lists-or-tuples-or ndarrays with different lengths or shapes) is deprecated. If you meant to do this, you must specify 'dtype=object' when creating the ndarray\n",
      "  cycles_list_array = np.array(cycles_list)\n",
      "INFO - 2021-03-04 20:33:31,758 - connection - Transaction committed and closed.\n"
     ]
    },
    {
     "name": "stdout",
     "output_type": "stream",
     "text": [
      "Populate Done\n",
      "Total time for BaylorSegmentCentroid populate = 2555.188392162323\n"
     ]
    }
   ],
   "source": [
    "import time\n",
    "import random\n",
    "\n",
    "sm = reload(sm)\n",
    "\n",
    "start_time = time.time()\n",
    "if not test_mode:\n",
    "    time.sleep(random.randint(0, 800))\n",
    "print('Populate Started')\n",
    "if not test_mode:\n",
    "    BaylorSegmentCentroid.populate(reserve_jobs=True, suppress_errors=True)\n",
    "else:\n",
    "    BaylorSegmentCentroid.populate(reserve_jobs=True, suppress_errors=False)\n",
    "print('Populate Done')\n",
    "\n",
    "print(f\"Total time for BaylorSegmentCentroid populate = {time.time() - start_time}\")"
   ]
  }
 ],
 "metadata": {
  "kernelspec": {
   "display_name": "Python 3",
   "language": "python",
   "name": "python3"
  },
  "language_info": {
   "codemirror_mode": {
    "name": "ipython",
    "version": 3
   },
   "file_extension": ".py",
   "mimetype": "text/x-python",
   "name": "python",
   "nbconvert_exporter": "python",
   "pygments_lexer": "ipython3",
   "version": "3.6.9"
  }
 },
 "nbformat": 4,
 "nbformat_minor": 4
}
