{
 "cells": [
  {
   "cell_type": "code",
   "execution_count": null,
   "metadata": {},
   "outputs": [],
   "source": [
    "\"\"\"\n",
    "Purpose: To decompose the multi-somas for splitting\n",
    "using the new decomposition method\n",
    "\n",
    "\n",
    "\n",
    "\"\"\"\n"
   ]
  },
  {
   "cell_type": "code",
   "execution_count": 1,
   "metadata": {},
   "outputs": [
    {
     "name": "stderr",
     "output_type": "stream",
     "text": [
      "INFO - 2021-01-26 19:27:19,249 - settings - Setting database.host to at-database.ad.bcm.edu\n",
      "INFO - 2021-01-26 19:27:19,249 - settings - Setting database.user to celiib\n",
      "INFO - 2021-01-26 19:27:19,250 - settings - Setting database.password to newceliipass\n",
      "INFO - 2021-01-26 19:27:19,254 - settings - Setting stores to {'minnie65': {'protocol': 'file', 'location': '/mnt/dj-stor01/platinum/minnie65', 'stage': '/mnt/dj-stor01/platinum/minnie65'}, 'meshes': {'protocol': 'file', 'location': '/mnt/dj-stor01/platinum/minnie65/02/meshes', 'stage': '/mnt/dj-stor01/platinum/minnie65/02/meshes'}, 'decimated_meshes': {'protocol': 'file', 'location': '/mnt/dj-stor01/platinum/minnie65/02/decimated_meshes', 'stage': '/mnt/dj-stor01/platinum/minnie65/02/decimated_meshes'}, 'skeletons': {'protocol': 'file', 'location': '/mnt/dj-stor01/platinum/minnie65/02/skeletons'}}\n",
      "INFO - 2021-01-26 19:27:19,255 - settings - Setting enable_python_native_blobs to True\n",
      "INFO - 2021-01-26 19:27:19,267 - connection - Connected celiib@at-database.ad.bcm.edu:3306\n"
     ]
    },
    {
     "name": "stdout",
     "output_type": "stream",
     "text": [
      "Connecting celiib@at-database.ad.bcm.edu:3306\n"
     ]
    },
    {
     "name": "stderr",
     "output_type": "stream",
     "text": [
      "INFO - 2021-01-26 19:27:19,571 - settings - Setting enable_python_native_blobs to True\n"
     ]
    }
   ],
   "source": [
    "import numpy as np\n",
    "import datajoint as dj\n",
    "import trimesh\n",
    "from tqdm.notebook import tqdm\n",
    "from pathlib import Path\n",
    "\n",
    "from os import sys\n",
    "sys.path.append(\"/meshAfterParty/\")\n",
    "\n",
    "import datajoint_utils as du\n",
    "from importlib import reload"
   ]
  },
  {
   "cell_type": "code",
   "execution_count": 2,
   "metadata": {},
   "outputs": [],
   "source": [
    "test_mode = True"
   ]
  },
  {
   "cell_type": "code",
   "execution_count": 3,
   "metadata": {},
   "outputs": [
    {
     "name": "stderr",
     "output_type": "stream",
     "text": [
      "INFO - 2021-01-26 19:27:20,852 - settings - Setting database.host to at-database.ad.bcm.edu\n",
      "INFO - 2021-01-26 19:27:20,853 - settings - Setting database.user to celiib\n",
      "INFO - 2021-01-26 19:27:20,854 - settings - Setting database.password to newceliipass\n",
      "INFO - 2021-01-26 19:27:20,860 - settings - Setting enable_python_native_blobs to True\n"
     ]
    },
    {
     "name": "stdout",
     "output_type": "stream",
     "text": [
      "Sleeping 90 sec before conneting\n",
      "Done sleeping\n",
      "Current path for external_segmentation_path = /mnt/dj-stor01/platinum/minnie65/02\n",
      "Current path for external_mesh_path = /mnt/dj-stor01/platinum/minnie65/02/meshes\n",
      "Current path for external_decimated_mesh_path = /mnt/dj-stor01/platinum/minnie65/02/decimated_meshes\n",
      "Current path for external_skeleton_path = /mnt/dj-stor01/platinum/minnie65/02/skeletons\n"
     ]
    },
    {
     "name": "stderr",
     "output_type": "stream",
     "text": [
      "INFO - 2021-01-26 19:27:21,204 - settings - Setting enable_python_native_blobs to True\n"
     ]
    }
   ],
   "source": [
    "import minfig\n",
    "import time\n",
    "import numpy as np\n",
    "#want to add in a wait for the connection part\n",
    "random_sleep_sec = np.random.randint(0, 200)\n",
    "print(f\"Sleeping {random_sleep_sec} sec before conneting\")\n",
    "if not test_mode:\n",
    "    time.sleep(random_sleep_sec)\n",
    "print(\"Done sleeping\")\n",
    "\n",
    "du.config_celii()\n",
    "du.set_minnie65_config_segmentation(minfig)\n",
    "du.print_minnie65_config_paths(minfig)\n",
    "\n",
    "#configuring will include the adapters\n",
    "minnie,schema = du.configure_minnie_vm()"
   ]
  },
  {
   "cell_type": "markdown",
   "metadata": {},
   "source": [
    "# Defining the Table"
   ]
  },
  {
   "cell_type": "code",
   "execution_count": 4,
   "metadata": {},
   "outputs": [],
   "source": [
    "import neuron_utils as nru\n",
    "import neuron\n",
    "import trimesh_utils as tu\n",
    "import numpy as np"
   ]
  },
  {
   "cell_type": "code",
   "execution_count": 5,
   "metadata": {},
   "outputs": [
    {
     "name": "stdout",
     "output_type": "stream",
     "text": [
      "No port chosen so picked random port 993\n"
     ]
    }
   ],
   "source": [
    "import meshlab\n",
    "meshlab.set_meshlab_port(current_port=None)\n",
    "temporary_folder = 'decimation_temp'\n",
    "meshlab_scripts = {}"
   ]
  },
  {
   "cell_type": "code",
   "execution_count": 6,
   "metadata": {},
   "outputs": [],
   "source": [
    "#so that it will have the adapter defined\n",
    "from datajoint_utils import *"
   ]
  },
  {
   "cell_type": "code",
   "execution_count": 7,
   "metadata": {},
   "outputs": [],
   "source": [
    "import numpy as np\n",
    "import time\n",
    "decimation_version = 0\n",
    "decimation_ratio = 0.25\n",
    "\n",
    "from minfig.minnie65_config import external_decimated_mesh_path\n",
    "\n",
    "@schema\n",
    "class Decimation(dj.Computed):\n",
    "#     definition = minnie.Decimation.describe(printout=False)\n",
    "    key_source = minnie.Mesh.proj() * (minnie.DecimationConfig & 'decimation_ratio=0.25')\n",
    "\n",
    "    # Creates hf file at the proper location, returns the filepath of the newly created file\n",
    "    @classmethod\n",
    "    def make_file(cls, segment_id, version, decimation_ratio, vertices, faces):\n",
    "        \"\"\"Creates hf file at the proper location, returns the filepath of the newly created file\"\"\"\n",
    "\n",
    "        assert vertices.ndim == 2 and vertices.shape[1] == 3\n",
    "        assert faces.ndim == 2 and faces.shape[1] == 3\n",
    "\n",
    "        filename = f'{segment_id}_{version}_{int(decimation_ratio*100):02}.h5'\n",
    "        filepath = os.path.join(external_decimated_mesh_path, filename)\n",
    "        with h5py.File(filepath, 'w') as hf:\n",
    "            hf.create_dataset('segment_id', data=segment_id)\n",
    "            hf.create_dataset('version', data=version)\n",
    "            hf.create_dataset('decimation_ratio', data=float(decimation_ratio))\n",
    "            hf.create_dataset('vertices', data=vertices)\n",
    "            hf.create_dataset('faces', data=faces)\n",
    "\n",
    "        return filepath\n",
    "\n",
    "    @classmethod\n",
    "    def make_entry(cls, segment_id, version, decimation_ratio, vertices, faces):\n",
    "        key = dict(\n",
    "            segment_id=segment_id,\n",
    "            version=version,\n",
    "            decimation_ratio=decimation_ratio,\n",
    "            n_vertices=len(vertices),\n",
    "            n_faces=len(faces)\n",
    "        )\n",
    "\n",
    "        filepath = cls.make_file(segment_id, version, decimation_ratio, vertices, faces)\n",
    "\n",
    "        cls.insert1(dict(key, mesh=filepath), allow_direct_insert=True)\n",
    "\n",
    "    \n",
    "\n",
    "    def make(self, key):\n",
    "        print(key)\n",
    "        mesh = (minnie.Mesh & key).fetch1('mesh')\n",
    "        segment_id = key['segment_id']\n",
    "        version = key['version']\n",
    "        decimation_ratio = key['decimation_ratio']\n",
    "        print(f\"Mesh size: n_vertices = {len(mesh.vertices)}, n_faces = {len(mesh.faces)}\")\n",
    "\n",
    "        if decimation_ratio not in meshlab_scripts:\n",
    "            meshlab_scripts[decimation_ratio] = meshlab.Decimator(decimation_ratio, temporary_folder, overwrite=False)\n",
    "        mls_func = meshlab_scripts[decimation_ratio]\n",
    "\n",
    "        try:\n",
    "            expected_filepath = os.path.join(external_decimated_mesh_path, f'{segment_id}_{version}.h5')\n",
    "            if not os.path.isfile(expected_filepath):\n",
    "                new_mesh, _path = mls_func(mesh.vertices, mesh.faces, segment_id)\n",
    "                new_vertices, new_faces = new_mesh.vertices, new_mesh.faces\n",
    "\n",
    "                self.make_entry(\n",
    "                    segment_id=segment_id,\n",
    "                    version=version,\n",
    "                    decimation_ratio=decimation_ratio,\n",
    "                    vertices=new_vertices,\n",
    "                    faces=new_faces,\n",
    "                    )\n",
    "            else:\n",
    "                print('File already exists.')\n",
    "                with h5py.File(expected_filepath, 'r') as hf:\n",
    "                    vertices = hf['vertices'][()].astype(np.float64)\n",
    "                    faces = hf['faces'][()].reshape(-1, 3).astype(np.uint32)\n",
    "                self.insert1(dict(key, n_vertices=len(vertices), n_faces=len(faces), mesh=expected_filepath), allow_direct_insert=True)\n",
    "        except Exception as e:\n",
    "            minnie.DecimationError.insert1(dict(key, log=str(e)))\n",
    "            print(e)\n",
    "            raise e\n",
    "    "
   ]
  },
  {
   "cell_type": "markdown",
   "metadata": {},
   "source": [
    "# Running the Populate"
   ]
  },
  {
   "cell_type": "code",
   "execution_count": 12,
   "metadata": {},
   "outputs": [],
   "source": [
    "curr_table = (minnie.schema.jobs & \"table_name='__decimation'\")\n",
    "#curr_table.delete()\n",
    "#curr_table.delete()\n",
    "#curr_table.delete()"
   ]
  },
  {
   "cell_type": "code",
   "execution_count": 13,
   "metadata": {},
   "outputs": [
    {
     "name": "stderr",
     "output_type": "stream",
     "text": [
      "INFO - 2021-01-26 19:45:04,188 - autopopulate - Found 66 keys to populate\n",
      "INFO - 2021-01-26 19:45:04,208 - connection - Transaction started\n",
      "INFO - 2021-01-26 19:45:04,210 - autopopulate - Populating: {'segment_id': 864691135012398582, 'version': 0, 'decimation_ratio': Decimal('0.25')}\n"
     ]
    },
    {
     "name": "stdout",
     "output_type": "stream",
     "text": [
      "Populate Started\n",
      "{'segment_id': 864691135012398582, 'version': 0, 'decimation_ratio': Decimal('0.25')}\n",
      "Mesh size: n_vertices = 5609022, n_faces = 11193873\n",
      "xvfb-run -n 993 -s \"-screen 0 800x600x24\" meshlabserver $@  -i /notebooks/Auto_Proofreading/Preprocessing_Pipeline/decimation_temp/neuron_864691135012398582.off -o /notebooks/Auto_Proofreading/Preprocessing_Pipeline/decimation_temp/neuron_864691135012398582_decimated.off -s /notebooks/Auto_Proofreading/Preprocessing_Pipeline/decimation_temp/decimation_meshlab_25258119.mls\n",
      "removed temporary input file: /notebooks/Auto_Proofreading/Preprocessing_Pipeline/decimation_temp/neuron_864691135012398582.off\n",
      "removed temporary output file: /notebooks/Auto_Proofreading/Preprocessing_Pipeline/decimation_temp/neuron_864691135012398582_decimated.off\n"
     ]
    },
    {
     "name": "stderr",
     "output_type": "stream",
     "text": [
      "INFO - 2021-01-26 19:51:10,702 - connection - Transaction committed and closed.\n",
      "INFO - 2021-01-26 19:51:10,731 - connection - Transaction started\n",
      "INFO - 2021-01-26 19:51:10,733 - autopopulate - Populating: {'segment_id': 864691135012571126, 'version': 0, 'decimation_ratio': Decimal('0.25')}\n"
     ]
    },
    {
     "name": "stdout",
     "output_type": "stream",
     "text": [
      "{'segment_id': 864691135012571126, 'version': 0, 'decimation_ratio': Decimal('0.25')}\n",
      "Mesh size: n_vertices = 5684173, n_faces = 11348165\n",
      "xvfb-run -n 993 -s \"-screen 0 800x600x24\" meshlabserver $@  -i /notebooks/Auto_Proofreading/Preprocessing_Pipeline/decimation_temp/neuron_864691135012571126.off -o /notebooks/Auto_Proofreading/Preprocessing_Pipeline/decimation_temp/neuron_864691135012571126_decimated.off -s /notebooks/Auto_Proofreading/Preprocessing_Pipeline/decimation_temp/decimation_meshlab_25258119.mls\n",
      "removed temporary input file: /notebooks/Auto_Proofreading/Preprocessing_Pipeline/decimation_temp/neuron_864691135012571126.off\n",
      "removed temporary output file: /notebooks/Auto_Proofreading/Preprocessing_Pipeline/decimation_temp/neuron_864691135012571126_decimated.off\n"
     ]
    },
    {
     "name": "stderr",
     "output_type": "stream",
     "text": [
      "INFO - 2021-01-26 19:56:56,415 - connection - Transaction committed and closed.\n",
      "INFO - 2021-01-26 19:56:56,451 - connection - Transaction started\n",
      "INFO - 2021-01-26 19:56:56,454 - autopopulate - Populating: {'segment_id': 864691135065018692, 'version': 0, 'decimation_ratio': Decimal('0.25')}\n"
     ]
    },
    {
     "name": "stdout",
     "output_type": "stream",
     "text": [
      "{'segment_id': 864691135065018692, 'version': 0, 'decimation_ratio': Decimal('0.25')}\n",
      "Mesh size: n_vertices = 3805643, n_faces = 7594973\n",
      "xvfb-run -n 993 -s \"-screen 0 800x600x24\" meshlabserver $@  -i /notebooks/Auto_Proofreading/Preprocessing_Pipeline/decimation_temp/neuron_864691135065018692.off -o /notebooks/Auto_Proofreading/Preprocessing_Pipeline/decimation_temp/neuron_864691135065018692_decimated.off -s /notebooks/Auto_Proofreading/Preprocessing_Pipeline/decimation_temp/decimation_meshlab_25258119.mls\n",
      "removed temporary input file: /notebooks/Auto_Proofreading/Preprocessing_Pipeline/decimation_temp/neuron_864691135065018692.off\n",
      "removed temporary output file: /notebooks/Auto_Proofreading/Preprocessing_Pipeline/decimation_temp/neuron_864691135065018692_decimated.off\n"
     ]
    },
    {
     "name": "stderr",
     "output_type": "stream",
     "text": [
      "INFO - 2021-01-26 20:00:56,435 - connection - Transaction committed and closed.\n",
      "INFO - 2021-01-26 20:00:56,465 - connection - Transaction started\n",
      "INFO - 2021-01-26 20:00:56,468 - autopopulate - Populating: {'segment_id': 864691135065032772, 'version': 0, 'decimation_ratio': Decimal('0.25')}\n"
     ]
    },
    {
     "name": "stdout",
     "output_type": "stream",
     "text": [
      "{'segment_id': 864691135065032772, 'version': 0, 'decimation_ratio': Decimal('0.25')}\n",
      "Mesh size: n_vertices = 5239892, n_faces = 10451383\n",
      "xvfb-run -n 993 -s \"-screen 0 800x600x24\" meshlabserver $@  -i /notebooks/Auto_Proofreading/Preprocessing_Pipeline/decimation_temp/neuron_864691135065032772.off -o /notebooks/Auto_Proofreading/Preprocessing_Pipeline/decimation_temp/neuron_864691135065032772_decimated.off -s /notebooks/Auto_Proofreading/Preprocessing_Pipeline/decimation_temp/decimation_meshlab_25258119.mls\n",
      "removed temporary input file: /notebooks/Auto_Proofreading/Preprocessing_Pipeline/decimation_temp/neuron_864691135065032772.off\n",
      "removed temporary output file: /notebooks/Auto_Proofreading/Preprocessing_Pipeline/decimation_temp/neuron_864691135065032772_decimated.off\n"
     ]
    },
    {
     "name": "stderr",
     "output_type": "stream",
     "text": [
      "INFO - 2021-01-26 20:06:20,649 - connection - Transaction committed and closed.\n",
      "INFO - 2021-01-26 20:06:20,680 - connection - Transaction started\n",
      "INFO - 2021-01-26 20:06:20,683 - autopopulate - Populating: {'segment_id': 864691135210078912, 'version': 0, 'decimation_ratio': Decimal('0.25')}\n"
     ]
    },
    {
     "name": "stdout",
     "output_type": "stream",
     "text": [
      "{'segment_id': 864691135210078912, 'version': 0, 'decimation_ratio': Decimal('0.25')}\n",
      "Mesh size: n_vertices = 9189315, n_faces = 18350897\n",
      "xvfb-run -n 993 -s \"-screen 0 800x600x24\" meshlabserver $@  -i /notebooks/Auto_Proofreading/Preprocessing_Pipeline/decimation_temp/neuron_864691135210078912.off -o /notebooks/Auto_Proofreading/Preprocessing_Pipeline/decimation_temp/neuron_864691135210078912_decimated.off -s /notebooks/Auto_Proofreading/Preprocessing_Pipeline/decimation_temp/decimation_meshlab_25258119.mls\n",
      "removed temporary input file: /notebooks/Auto_Proofreading/Preprocessing_Pipeline/decimation_temp/neuron_864691135210078912.off\n",
      "removed temporary output file: /notebooks/Auto_Proofreading/Preprocessing_Pipeline/decimation_temp/neuron_864691135210078912_decimated.off\n"
     ]
    },
    {
     "name": "stderr",
     "output_type": "stream",
     "text": [
      "INFO - 2021-01-26 20:16:44,259 - connection - Transaction committed and closed.\n",
      "INFO - 2021-01-26 20:16:44,308 - connection - Transaction started\n",
      "INFO - 2021-01-26 20:16:44,311 - autopopulate - Populating: {'segment_id': 864691135341171909, 'version': 0, 'decimation_ratio': Decimal('0.25')}\n"
     ]
    },
    {
     "name": "stdout",
     "output_type": "stream",
     "text": [
      "{'segment_id': 864691135341171909, 'version': 0, 'decimation_ratio': Decimal('0.25')}\n",
      "Mesh size: n_vertices = 3282661, n_faces = 6559194\n",
      "xvfb-run -n 993 -s \"-screen 0 800x600x24\" meshlabserver $@  -i /notebooks/Auto_Proofreading/Preprocessing_Pipeline/decimation_temp/neuron_864691135341171909.off -o /notebooks/Auto_Proofreading/Preprocessing_Pipeline/decimation_temp/neuron_864691135341171909_decimated.off -s /notebooks/Auto_Proofreading/Preprocessing_Pipeline/decimation_temp/decimation_meshlab_25258119.mls\n",
      "removed temporary input file: /notebooks/Auto_Proofreading/Preprocessing_Pipeline/decimation_temp/neuron_864691135341171909.off\n",
      "removed temporary output file: /notebooks/Auto_Proofreading/Preprocessing_Pipeline/decimation_temp/neuron_864691135341171909_decimated.off\n"
     ]
    },
    {
     "name": "stderr",
     "output_type": "stream",
     "text": [
      "INFO - 2021-01-26 20:20:02,719 - connection - Transaction committed and closed.\n",
      "INFO - 2021-01-26 20:20:02,747 - connection - Transaction started\n",
      "INFO - 2021-01-26 20:20:02,750 - autopopulate - Populating: {'segment_id': 864691135345134239, 'version': 0, 'decimation_ratio': Decimal('0.25')}\n"
     ]
    },
    {
     "name": "stdout",
     "output_type": "stream",
     "text": [
      "{'segment_id': 864691135345134239, 'version': 0, 'decimation_ratio': Decimal('0.25')}\n",
      "Mesh size: n_vertices = 5232450, n_faces = 10445179\n",
      "xvfb-run -n 993 -s \"-screen 0 800x600x24\" meshlabserver $@  -i /notebooks/Auto_Proofreading/Preprocessing_Pipeline/decimation_temp/neuron_864691135345134239.off -o /notebooks/Auto_Proofreading/Preprocessing_Pipeline/decimation_temp/neuron_864691135345134239_decimated.off -s /notebooks/Auto_Proofreading/Preprocessing_Pipeline/decimation_temp/decimation_meshlab_25258119.mls\n",
      "removed temporary input file: /notebooks/Auto_Proofreading/Preprocessing_Pipeline/decimation_temp/neuron_864691135345134239.off\n",
      "removed temporary output file: /notebooks/Auto_Proofreading/Preprocessing_Pipeline/decimation_temp/neuron_864691135345134239_decimated.off\n"
     ]
    },
    {
     "name": "stderr",
     "output_type": "stream",
     "text": [
      "INFO - 2021-01-26 20:25:37,871 - connection - Transaction committed and closed.\n",
      "INFO - 2021-01-26 20:25:37,908 - connection - Transaction started\n",
      "INFO - 2021-01-26 20:25:37,910 - autopopulate - Populating: {'segment_id': 864691135345291423, 'version': 0, 'decimation_ratio': Decimal('0.25')}\n"
     ]
    },
    {
     "name": "stdout",
     "output_type": "stream",
     "text": [
      "{'segment_id': 864691135345291423, 'version': 0, 'decimation_ratio': Decimal('0.25')}\n",
      "Mesh size: n_vertices = 2872967, n_faces = 5734478\n",
      "xvfb-run -n 993 -s \"-screen 0 800x600x24\" meshlabserver $@  -i /notebooks/Auto_Proofreading/Preprocessing_Pipeline/decimation_temp/neuron_864691135345291423.off -o /notebooks/Auto_Proofreading/Preprocessing_Pipeline/decimation_temp/neuron_864691135345291423_decimated.off -s /notebooks/Auto_Proofreading/Preprocessing_Pipeline/decimation_temp/decimation_meshlab_25258119.mls\n",
      "removed temporary input file: /notebooks/Auto_Proofreading/Preprocessing_Pipeline/decimation_temp/neuron_864691135345291423.off\n",
      "removed temporary output file: /notebooks/Auto_Proofreading/Preprocessing_Pipeline/decimation_temp/neuron_864691135345291423_decimated.off\n"
     ]
    },
    {
     "name": "stderr",
     "output_type": "stream",
     "text": [
      "INFO - 2021-01-26 20:28:48,048 - connection - Transaction committed and closed.\n",
      "INFO - 2021-01-26 20:28:48,092 - connection - Transaction started\n",
      "INFO - 2021-01-26 20:28:48,094 - autopopulate - Populating: {'segment_id': 864691135373423816, 'version': 0, 'decimation_ratio': Decimal('0.25')}\n"
     ]
    },
    {
     "name": "stdout",
     "output_type": "stream",
     "text": [
      "{'segment_id': 864691135373423816, 'version': 0, 'decimation_ratio': Decimal('0.25')}\n",
      "Mesh size: n_vertices = 13684925, n_faces = 27382132\n",
      "xvfb-run -n 993 -s \"-screen 0 800x600x24\" meshlabserver $@  -i /notebooks/Auto_Proofreading/Preprocessing_Pipeline/decimation_temp/neuron_864691135373423816.off -o /notebooks/Auto_Proofreading/Preprocessing_Pipeline/decimation_temp/neuron_864691135373423816_decimated.off -s /notebooks/Auto_Proofreading/Preprocessing_Pipeline/decimation_temp/decimation_meshlab_25258119.mls\n",
      "removed temporary input file: /notebooks/Auto_Proofreading/Preprocessing_Pipeline/decimation_temp/neuron_864691135373423816.off\n",
      "removed temporary output file: /notebooks/Auto_Proofreading/Preprocessing_Pipeline/decimation_temp/neuron_864691135373423816_decimated.off\n"
     ]
    },
    {
     "name": "stderr",
     "output_type": "stream",
     "text": [
      "INFO - 2021-01-26 20:44:40,463 - connection - Transaction committed and closed.\n",
      "INFO - 2021-01-26 20:44:40,497 - connection - Transaction started\n",
      "INFO - 2021-01-26 20:44:40,500 - connection - Transaction cancelled. Rolling back ...\n",
      "INFO - 2021-01-26 20:44:40,523 - connection - Transaction started\n",
      "INFO - 2021-01-26 20:44:40,526 - connection - Transaction cancelled. Rolling back ...\n",
      "INFO - 2021-01-26 20:44:40,550 - connection - Transaction started\n",
      "INFO - 2021-01-26 20:44:40,553 - connection - Transaction cancelled. Rolling back ...\n",
      "INFO - 2021-01-26 20:44:40,585 - connection - Transaction started\n",
      "INFO - 2021-01-26 20:44:40,587 - autopopulate - Populating: {'segment_id': 864691135474614848, 'version': 0, 'decimation_ratio': Decimal('0.25')}\n"
     ]
    },
    {
     "name": "stdout",
     "output_type": "stream",
     "text": [
      "{'segment_id': 864691135474614848, 'version': 0, 'decimation_ratio': Decimal('0.25')}\n",
      "Mesh size: n_vertices = 9548209, n_faces = 19073833\n",
      "xvfb-run -n 993 -s \"-screen 0 800x600x24\" meshlabserver $@  -i /notebooks/Auto_Proofreading/Preprocessing_Pipeline/decimation_temp/neuron_864691135474614848.off -o /notebooks/Auto_Proofreading/Preprocessing_Pipeline/decimation_temp/neuron_864691135474614848_decimated.off -s /notebooks/Auto_Proofreading/Preprocessing_Pipeline/decimation_temp/decimation_meshlab_25258119.mls\n",
      "removed temporary input file: /notebooks/Auto_Proofreading/Preprocessing_Pipeline/decimation_temp/neuron_864691135474614848.off\n",
      "removed temporary output file: /notebooks/Auto_Proofreading/Preprocessing_Pipeline/decimation_temp/neuron_864691135474614848_decimated.off\n"
     ]
    },
    {
     "name": "stderr",
     "output_type": "stream",
     "text": [
      "INFO - 2021-01-26 20:55:29,360 - connection - Transaction committed and closed.\n",
      "INFO - 2021-01-26 20:55:29,398 - connection - Transaction started\n",
      "INFO - 2021-01-26 20:55:29,402 - connection - Transaction cancelled. Rolling back ...\n",
      "INFO - 2021-01-26 20:55:29,449 - connection - Transaction started\n",
      "INFO - 2021-01-26 20:55:29,451 - autopopulate - Populating: {'segment_id': 864691135538077554, 'version': 0, 'decimation_ratio': Decimal('0.25')}\n"
     ]
    },
    {
     "name": "stdout",
     "output_type": "stream",
     "text": [
      "{'segment_id': 864691135538077554, 'version': 0, 'decimation_ratio': Decimal('0.25')}\n",
      "Mesh size: n_vertices = 5100983, n_faces = 10184882\n",
      "xvfb-run -n 993 -s \"-screen 0 800x600x24\" meshlabserver $@  -i /notebooks/Auto_Proofreading/Preprocessing_Pipeline/decimation_temp/neuron_864691135538077554.off -o /notebooks/Auto_Proofreading/Preprocessing_Pipeline/decimation_temp/neuron_864691135538077554_decimated.off -s /notebooks/Auto_Proofreading/Preprocessing_Pipeline/decimation_temp/decimation_meshlab_25258119.mls\n",
      "removed temporary input file: /notebooks/Auto_Proofreading/Preprocessing_Pipeline/decimation_temp/neuron_864691135538077554.off\n",
      "removed temporary output file: /notebooks/Auto_Proofreading/Preprocessing_Pipeline/decimation_temp/neuron_864691135538077554_decimated.off\n"
     ]
    },
    {
     "name": "stderr",
     "output_type": "stream",
     "text": [
      "INFO - 2021-01-26 21:01:14,086 - connection - Transaction committed and closed.\n",
      "INFO - 2021-01-26 21:01:14,131 - connection - Transaction started\n",
      "INFO - 2021-01-26 21:01:14,133 - autopopulate - Populating: {'segment_id': 864691135589917707, 'version': 0, 'decimation_ratio': Decimal('0.25')}\n"
     ]
    },
    {
     "name": "stdout",
     "output_type": "stream",
     "text": [
      "{'segment_id': 864691135589917707, 'version': 0, 'decimation_ratio': Decimal('0.25')}\n",
      "Mesh size: n_vertices = 3917310, n_faces = 7813244\n",
      "xvfb-run -n 993 -s \"-screen 0 800x600x24\" meshlabserver $@  -i /notebooks/Auto_Proofreading/Preprocessing_Pipeline/decimation_temp/neuron_864691135589917707.off -o /notebooks/Auto_Proofreading/Preprocessing_Pipeline/decimation_temp/neuron_864691135589917707_decimated.off -s /notebooks/Auto_Proofreading/Preprocessing_Pipeline/decimation_temp/decimation_meshlab_25258119.mls\n",
      "removed temporary input file: /notebooks/Auto_Proofreading/Preprocessing_Pipeline/decimation_temp/neuron_864691135589917707.off\n",
      "removed temporary output file: /notebooks/Auto_Proofreading/Preprocessing_Pipeline/decimation_temp/neuron_864691135589917707_decimated.off\n"
     ]
    },
    {
     "name": "stderr",
     "output_type": "stream",
     "text": [
      "INFO - 2021-01-26 21:05:23,255 - connection - Transaction committed and closed.\n",
      "INFO - 2021-01-26 21:05:23,300 - connection - Transaction started\n",
      "INFO - 2021-01-26 21:05:23,303 - autopopulate - Populating: {'segment_id': 864691135593565995, 'version': 0, 'decimation_ratio': Decimal('0.25')}\n"
     ]
    },
    {
     "name": "stdout",
     "output_type": "stream",
     "text": [
      "{'segment_id': 864691135593565995, 'version': 0, 'decimation_ratio': Decimal('0.25')}\n",
      "Mesh size: n_vertices = 4222854, n_faces = 8423035\n",
      "xvfb-run -n 993 -s \"-screen 0 800x600x24\" meshlabserver $@  -i /notebooks/Auto_Proofreading/Preprocessing_Pipeline/decimation_temp/neuron_864691135593565995.off -o /notebooks/Auto_Proofreading/Preprocessing_Pipeline/decimation_temp/neuron_864691135593565995_decimated.off -s /notebooks/Auto_Proofreading/Preprocessing_Pipeline/decimation_temp/decimation_meshlab_25258119.mls\n",
      "removed temporary input file: /notebooks/Auto_Proofreading/Preprocessing_Pipeline/decimation_temp/neuron_864691135593565995.off\n",
      "removed temporary output file: /notebooks/Auto_Proofreading/Preprocessing_Pipeline/decimation_temp/neuron_864691135593565995_decimated.off\n"
     ]
    },
    {
     "name": "stderr",
     "output_type": "stream",
     "text": [
      "INFO - 2021-01-26 21:10:08,122 - connection - Transaction committed and closed.\n",
      "INFO - 2021-01-26 21:10:08,176 - connection - Transaction started\n",
      "INFO - 2021-01-26 21:10:08,178 - autopopulate - Populating: {'segment_id': 864691135718447153, 'version': 0, 'decimation_ratio': Decimal('0.25')}\n"
     ]
    },
    {
     "name": "stdout",
     "output_type": "stream",
     "text": [
      "{'segment_id': 864691135718447153, 'version': 0, 'decimation_ratio': Decimal('0.25')}\n",
      "Mesh size: n_vertices = 4166185, n_faces = 8320533\n",
      "xvfb-run -n 993 -s \"-screen 0 800x600x24\" meshlabserver $@  -i /notebooks/Auto_Proofreading/Preprocessing_Pipeline/decimation_temp/neuron_864691135718447153.off -o /notebooks/Auto_Proofreading/Preprocessing_Pipeline/decimation_temp/neuron_864691135718447153_decimated.off -s /notebooks/Auto_Proofreading/Preprocessing_Pipeline/decimation_temp/decimation_meshlab_25258119.mls\n",
      "removed temporary input file: /notebooks/Auto_Proofreading/Preprocessing_Pipeline/decimation_temp/neuron_864691135718447153.off\n",
      "removed temporary output file: /notebooks/Auto_Proofreading/Preprocessing_Pipeline/decimation_temp/neuron_864691135718447153_decimated.off\n"
     ]
    },
    {
     "name": "stderr",
     "output_type": "stream",
     "text": [
      "INFO - 2021-01-26 21:14:44,200 - connection - Transaction committed and closed.\n",
      "INFO - 2021-01-26 21:14:44,233 - connection - Transaction started\n",
      "INFO - 2021-01-26 21:14:44,235 - autopopulate - Populating: {'segment_id': 864691135771720779, 'version': 0, 'decimation_ratio': Decimal('0.25')}\n"
     ]
    },
    {
     "name": "stdout",
     "output_type": "stream",
     "text": [
      "{'segment_id': 864691135771720779, 'version': 0, 'decimation_ratio': Decimal('0.25')}\n",
      "Mesh size: n_vertices = 4069470, n_faces = 8119022\n",
      "xvfb-run -n 993 -s \"-screen 0 800x600x24\" meshlabserver $@  -i /notebooks/Auto_Proofreading/Preprocessing_Pipeline/decimation_temp/neuron_864691135771720779.off -o /notebooks/Auto_Proofreading/Preprocessing_Pipeline/decimation_temp/neuron_864691135771720779_decimated.off -s /notebooks/Auto_Proofreading/Preprocessing_Pipeline/decimation_temp/decimation_meshlab_25258119.mls\n",
      "removed temporary input file: /notebooks/Auto_Proofreading/Preprocessing_Pipeline/decimation_temp/neuron_864691135771720779.off\n",
      "removed temporary output file: /notebooks/Auto_Proofreading/Preprocessing_Pipeline/decimation_temp/neuron_864691135771720779_decimated.off\n"
     ]
    },
    {
     "name": "stderr",
     "output_type": "stream",
     "text": [
      "INFO - 2021-01-26 21:19:22,041 - connection - Transaction committed and closed.\n",
      "INFO - 2021-01-26 21:19:22,076 - connection - Transaction started\n",
      "INFO - 2021-01-26 21:19:22,077 - autopopulate - Populating: {'segment_id': 864691135855566638, 'version': 0, 'decimation_ratio': Decimal('0.25')}\n"
     ]
    },
    {
     "name": "stdout",
     "output_type": "stream",
     "text": [
      "{'segment_id': 864691135855566638, 'version': 0, 'decimation_ratio': Decimal('0.25')}\n",
      "Mesh size: n_vertices = 11837493, n_faces = 23630474\n",
      "xvfb-run -n 993 -s \"-screen 0 800x600x24\" meshlabserver $@  -i /notebooks/Auto_Proofreading/Preprocessing_Pipeline/decimation_temp/neuron_864691135855566638.off -o /notebooks/Auto_Proofreading/Preprocessing_Pipeline/decimation_temp/neuron_864691135855566638_decimated.off -s /notebooks/Auto_Proofreading/Preprocessing_Pipeline/decimation_temp/decimation_meshlab_25258119.mls\n",
      "removed temporary input file: /notebooks/Auto_Proofreading/Preprocessing_Pipeline/decimation_temp/neuron_864691135855566638.off\n",
      "removed temporary output file: /notebooks/Auto_Proofreading/Preprocessing_Pipeline/decimation_temp/neuron_864691135855566638_decimated.off\n"
     ]
    },
    {
     "name": "stderr",
     "output_type": "stream",
     "text": [
      "INFO - 2021-01-26 21:34:33,766 - connection - Transaction committed and closed.\n",
      "INFO - 2021-01-26 21:34:33,805 - connection - Transaction started\n",
      "INFO - 2021-01-26 21:34:33,808 - connection - Transaction cancelled. Rolling back ...\n",
      "INFO - 2021-01-26 21:34:33,834 - connection - Transaction started\n",
      "INFO - 2021-01-26 21:34:33,837 - connection - Transaction cancelled. Rolling back ...\n",
      "INFO - 2021-01-26 21:34:33,868 - connection - Transaction started\n",
      "INFO - 2021-01-26 21:34:33,870 - autopopulate - Populating: {'segment_id': 864691136008500908, 'version': 0, 'decimation_ratio': Decimal('0.25')}\n"
     ]
    },
    {
     "name": "stdout",
     "output_type": "stream",
     "text": [
      "{'segment_id': 864691136008500908, 'version': 0, 'decimation_ratio': Decimal('0.25')}\n",
      "Mesh size: n_vertices = 4174365, n_faces = 8328129\n",
      "xvfb-run -n 993 -s \"-screen 0 800x600x24\" meshlabserver $@  -i /notebooks/Auto_Proofreading/Preprocessing_Pipeline/decimation_temp/neuron_864691136008500908.off -o /notebooks/Auto_Proofreading/Preprocessing_Pipeline/decimation_temp/neuron_864691136008500908_decimated.off -s /notebooks/Auto_Proofreading/Preprocessing_Pipeline/decimation_temp/decimation_meshlab_25258119.mls\n",
      "removed temporary input file: /notebooks/Auto_Proofreading/Preprocessing_Pipeline/decimation_temp/neuron_864691136008500908.off\n",
      "removed temporary output file: /notebooks/Auto_Proofreading/Preprocessing_Pipeline/decimation_temp/neuron_864691136008500908_decimated.off\n"
     ]
    },
    {
     "name": "stderr",
     "output_type": "stream",
     "text": [
      "INFO - 2021-01-26 21:39:21,490 - connection - Transaction committed and closed.\n",
      "INFO - 2021-01-26 21:39:21,537 - connection - Transaction started\n",
      "INFO - 2021-01-26 21:39:21,539 - autopopulate - Populating: {'segment_id': 864691136065514648, 'version': 0, 'decimation_ratio': Decimal('0.25')}\n"
     ]
    },
    {
     "name": "stdout",
     "output_type": "stream",
     "text": [
      "{'segment_id': 864691136065514648, 'version': 0, 'decimation_ratio': Decimal('0.25')}\n",
      "Mesh size: n_vertices = 4401168, n_faces = 8778084\n",
      "xvfb-run -n 993 -s \"-screen 0 800x600x24\" meshlabserver $@  -i /notebooks/Auto_Proofreading/Preprocessing_Pipeline/decimation_temp/neuron_864691136065514648.off -o /notebooks/Auto_Proofreading/Preprocessing_Pipeline/decimation_temp/neuron_864691136065514648_decimated.off -s /notebooks/Auto_Proofreading/Preprocessing_Pipeline/decimation_temp/decimation_meshlab_25258119.mls\n",
      "removed temporary input file: /notebooks/Auto_Proofreading/Preprocessing_Pipeline/decimation_temp/neuron_864691136065514648.off\n",
      "removed temporary output file: /notebooks/Auto_Proofreading/Preprocessing_Pipeline/decimation_temp/neuron_864691136065514648_decimated.off\n"
     ]
    },
    {
     "name": "stderr",
     "output_type": "stream",
     "text": [
      "INFO - 2021-01-26 21:44:13,063 - connection - Transaction committed and closed.\n",
      "INFO - 2021-01-26 21:44:13,109 - connection - Transaction started\n",
      "INFO - 2021-01-26 21:44:13,110 - autopopulate - Populating: {'segment_id': 864691136390485119, 'version': 0, 'decimation_ratio': Decimal('0.25')}\n"
     ]
    },
    {
     "name": "stdout",
     "output_type": "stream",
     "text": [
      "{'segment_id': 864691136390485119, 'version': 0, 'decimation_ratio': Decimal('0.25')}\n",
      "Mesh size: n_vertices = 4080276, n_faces = 8142169\n",
      "xvfb-run -n 993 -s \"-screen 0 800x600x24\" meshlabserver $@  -i /notebooks/Auto_Proofreading/Preprocessing_Pipeline/decimation_temp/neuron_864691136390485119.off -o /notebooks/Auto_Proofreading/Preprocessing_Pipeline/decimation_temp/neuron_864691136390485119_decimated.off -s /notebooks/Auto_Proofreading/Preprocessing_Pipeline/decimation_temp/decimation_meshlab_25258119.mls\n",
      "removed temporary input file: /notebooks/Auto_Proofreading/Preprocessing_Pipeline/decimation_temp/neuron_864691136390485119.off\n",
      "removed temporary output file: /notebooks/Auto_Proofreading/Preprocessing_Pipeline/decimation_temp/neuron_864691136390485119_decimated.off\n"
     ]
    },
    {
     "name": "stderr",
     "output_type": "stream",
     "text": [
      "INFO - 2021-01-26 21:49:02,862 - connection - Transaction committed and closed.\n",
      "INFO - 2021-01-26 21:49:02,906 - connection - Transaction started\n",
      "INFO - 2021-01-26 21:49:02,908 - autopopulate - Populating: {'segment_id': 864691136723421693, 'version': 0, 'decimation_ratio': Decimal('0.25')}\n"
     ]
    },
    {
     "name": "stdout",
     "output_type": "stream",
     "text": [
      "{'segment_id': 864691136723421693, 'version': 0, 'decimation_ratio': Decimal('0.25')}\n",
      "Mesh size: n_vertices = 3073704, n_faces = 6130711\n",
      "xvfb-run -n 993 -s \"-screen 0 800x600x24\" meshlabserver $@  -i /notebooks/Auto_Proofreading/Preprocessing_Pipeline/decimation_temp/neuron_864691136723421693.off -o /notebooks/Auto_Proofreading/Preprocessing_Pipeline/decimation_temp/neuron_864691136723421693_decimated.off -s /notebooks/Auto_Proofreading/Preprocessing_Pipeline/decimation_temp/decimation_meshlab_25258119.mls\n",
      "removed temporary input file: /notebooks/Auto_Proofreading/Preprocessing_Pipeline/decimation_temp/neuron_864691136723421693.off\n",
      "removed temporary output file: /notebooks/Auto_Proofreading/Preprocessing_Pipeline/decimation_temp/neuron_864691136723421693_decimated.off\n"
     ]
    },
    {
     "name": "stderr",
     "output_type": "stream",
     "text": [
      "INFO - 2021-01-26 21:52:18,782 - connection - Transaction committed and closed.\n",
      "INFO - 2021-01-26 21:52:18,817 - connection - Transaction started\n",
      "INFO - 2021-01-26 21:52:18,819 - autopopulate - Populating: {'segment_id': 864691136922748900, 'version': 0, 'decimation_ratio': Decimal('0.25')}\n"
     ]
    },
    {
     "name": "stdout",
     "output_type": "stream",
     "text": [
      "{'segment_id': 864691136922748900, 'version': 0, 'decimation_ratio': Decimal('0.25')}\n",
      "Mesh size: n_vertices = 5376595, n_faces = 10755528\n",
      "xvfb-run -n 993 -s \"-screen 0 800x600x24\" meshlabserver $@  -i /notebooks/Auto_Proofreading/Preprocessing_Pipeline/decimation_temp/neuron_864691136922748900.off -o /notebooks/Auto_Proofreading/Preprocessing_Pipeline/decimation_temp/neuron_864691136922748900_decimated.off -s /notebooks/Auto_Proofreading/Preprocessing_Pipeline/decimation_temp/decimation_meshlab_25258119.mls\n",
      "removed temporary input file: /notebooks/Auto_Proofreading/Preprocessing_Pipeline/decimation_temp/neuron_864691136922748900.off\n",
      "removed temporary output file: /notebooks/Auto_Proofreading/Preprocessing_Pipeline/decimation_temp/neuron_864691136922748900_decimated.off\n"
     ]
    },
    {
     "name": "stderr",
     "output_type": "stream",
     "text": [
      "INFO - 2021-01-26 21:58:13,667 - connection - Transaction committed and closed.\n",
      "INFO - 2021-01-26 21:58:13,695 - connection - Transaction started\n",
      "INFO - 2021-01-26 21:58:13,697 - autopopulate - Populating: {'segment_id': 864691137196956993, 'version': 0, 'decimation_ratio': Decimal('0.25')}\n"
     ]
    },
    {
     "name": "stdout",
     "output_type": "stream",
     "text": [
      "{'segment_id': 864691137196956993, 'version': 0, 'decimation_ratio': Decimal('0.25')}\n",
      "Mesh size: n_vertices = 6255478, n_faces = 12488735\n",
      "xvfb-run -n 993 -s \"-screen 0 800x600x24\" meshlabserver $@  -i /notebooks/Auto_Proofreading/Preprocessing_Pipeline/decimation_temp/neuron_864691137196956993.off -o /notebooks/Auto_Proofreading/Preprocessing_Pipeline/decimation_temp/neuron_864691137196956993_decimated.off -s /notebooks/Auto_Proofreading/Preprocessing_Pipeline/decimation_temp/decimation_meshlab_25258119.mls\n",
      "removed temporary input file: /notebooks/Auto_Proofreading/Preprocessing_Pipeline/decimation_temp/neuron_864691137196956993.off\n",
      "removed temporary output file: /notebooks/Auto_Proofreading/Preprocessing_Pipeline/decimation_temp/neuron_864691137196956993_decimated.off\n"
     ]
    },
    {
     "name": "stderr",
     "output_type": "stream",
     "text": [
      "INFO - 2021-01-26 22:05:15,679 - connection - Transaction committed and closed.\n"
     ]
    },
    {
     "name": "stdout",
     "output_type": "stream",
     "text": [
      "Populate Done\n",
      "Total time for Decimation populate = 8411.518006563187\n"
     ]
    }
   ],
   "source": [
    "import time\n",
    "import random\n",
    "\n",
    "start_time = time.time()\n",
    "if not test_mode:\n",
    "    time.sleep(random.randint(0, 800))\n",
    "print('Populate Started')\n",
    "if not test_mode:\n",
    "    Decimation.populate(reserve_jobs=True, suppress_errors=True)\n",
    "else:\n",
    "    Decimation.populate(reserve_jobs=True, suppress_errors=False)\n",
    "print('Populate Done')\n",
    "\n",
    "print(f\"Total time for Decimation populate = {time.time() - start_time}\")"
   ]
  },
  {
   "cell_type": "code",
   "execution_count": null,
   "metadata": {},
   "outputs": [],
   "source": []
  }
 ],
 "metadata": {
  "kernelspec": {
   "display_name": "Python 3",
   "language": "python",
   "name": "python3"
  },
  "language_info": {
   "codemirror_mode": {
    "name": "ipython",
    "version": 3
   },
   "file_extension": ".py",
   "mimetype": "text/x-python",
   "name": "python",
   "nbconvert_exporter": "python",
   "pygments_lexer": "ipython3",
   "version": "3.6.9"
  }
 },
 "nbformat": 4,
 "nbformat_minor": 4
}
