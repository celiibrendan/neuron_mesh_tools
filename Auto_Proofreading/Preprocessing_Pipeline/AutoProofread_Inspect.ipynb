{
 "cells": [
  {
   "cell_type": "code",
   "execution_count": 1,
   "metadata": {},
   "outputs": [
    {
     "data": {
      "text/plain": [
       "'\\nPurpose: To Inspect the Autoproofreading Pipeline\\nand the resultant connectome\\n\\n'"
      ]
     },
     "execution_count": 1,
     "metadata": {},
     "output_type": "execute_result"
    }
   ],
   "source": [
    "\"\"\"\n",
    "Purpose: To Inspect the Autoproofreading Pipeline\n",
    "and the resultant connectome\n",
    "\n",
    "\"\"\""
   ]
  },
  {
   "cell_type": "code",
   "execution_count": 2,
   "metadata": {},
   "outputs": [],
   "source": [
    "%load_ext autoreload\n",
    "%autoreload 2"
   ]
  },
  {
   "cell_type": "code",
   "execution_count": 3,
   "metadata": {},
   "outputs": [],
   "source": [
    "from os import sys\n",
    "sys.path.append(\"/meshAfterParty/\")"
   ]
  },
  {
   "cell_type": "code",
   "execution_count": 4,
   "metadata": {},
   "outputs": [
    {
     "name": "stderr",
     "output_type": "stream",
     "text": [
      "INFO - 2021-02-08 07:11:48,390 - settings - Setting database.host to at-database.ad.bcm.edu\n",
      "INFO - 2021-02-08 07:11:48,391 - settings - Setting database.user to celiib\n",
      "INFO - 2021-02-08 07:11:48,392 - settings - Setting database.password to newceliipass\n",
      "INFO - 2021-02-08 07:11:48,397 - settings - Setting stores to {'minnie65': {'protocol': 'file', 'location': '/mnt/dj-stor01/platinum/minnie65', 'stage': '/mnt/dj-stor01/platinum/minnie65'}, 'meshes': {'protocol': 'file', 'location': '/mnt/dj-stor01/platinum/minnie65/02/meshes', 'stage': '/mnt/dj-stor01/platinum/minnie65/02/meshes'}, 'decimated_meshes': {'protocol': 'file', 'location': '/mnt/dj-stor01/platinum/minnie65/02/decimated_meshes', 'stage': '/mnt/dj-stor01/platinum/minnie65/02/decimated_meshes'}, 'skeletons': {'protocol': 'file', 'location': '/mnt/dj-stor01/platinum/minnie65/02/skeletons'}}\n",
      "INFO - 2021-02-08 07:11:48,398 - settings - Setting enable_python_native_blobs to True\n",
      "INFO - 2021-02-08 07:11:48,410 - connection - Connected celiib@at-database.ad.bcm.edu:3306\n"
     ]
    },
    {
     "name": "stdout",
     "output_type": "stream",
     "text": [
      "Connecting celiib@at-database.ad.bcm.edu:3306\n"
     ]
    },
    {
     "name": "stderr",
     "output_type": "stream",
     "text": [
      "INFO - 2021-02-08 07:11:48,693 - settings - Setting enable_python_native_blobs to True\n",
      "INFO - 2021-02-08 07:11:48,725 - settings - Setting enable_python_native_blobs to True\n",
      "INFO - 2021-02-08 07:11:49,026 - settings - Setting enable_python_native_blobs to True\n"
     ]
    }
   ],
   "source": [
    "import datajoint_utils as du\n",
    "minnie,schema = du.configure_minnie_vm()"
   ]
  },
  {
   "cell_type": "code",
   "execution_count": 5,
   "metadata": {},
   "outputs": [],
   "source": [
    "import pandas as pd\n",
    "import matplotlib.pyplot as plt\n",
    "import networkx as nx\n",
    "import numpy as np\n",
    "import networkx_utils as xu"
   ]
  },
  {
   "cell_type": "code",
   "execution_count": 6,
   "metadata": {},
   "outputs": [
    {
     "data": {
      "text/plain": [
       "76928"
      ]
     },
     "execution_count": 6,
     "metadata": {},
     "output_type": "execute_result"
    }
   ],
   "source": [
    "len(minnie.AutoProofreadNeurons())"
   ]
  },
  {
   "cell_type": "markdown",
   "metadata": {},
   "source": [
    "# Getting the Errors"
   ]
  },
  {
   "cell_type": "code",
   "execution_count": null,
   "metadata": {},
   "outputs": [],
   "source": [
    "\"\"\"\n",
    "Notes on Error: the decompression error was usually from SIGTERM signal\n",
    "\n",
    "\n",
    "\"\"\""
   ]
  },
  {
   "cell_type": "code",
   "execution_count": null,
   "metadata": {},
   "outputs": [],
   "source": []
  },
  {
   "cell_type": "code",
   "execution_count": 7,
   "metadata": {},
   "outputs": [
    {
     "data": {
      "text/plain": [
       "array(['', 'DataJointError: Attempt to insert rows with different fields',\n",
       "       'Exception: Number of Error Limbs was greater than 1: 1',\n",
       "       'Exception: Number of Somas was greater than 1: 2',\n",
       "       'Exception: not downsampled branch',\n",
       "       'IndexError: index 1 is out of bounds for axis 0 with size 1',\n",
       "       'IndexError: index 2 is out of bounds for axis 0 with size 1',\n",
       "       'IndexError: index 2 is out of bounds for axis 0 with size 2',\n",
       "       \"KeyError: 'skeletal_length'\", 'SystemExit: SIGTERM received'],\n",
       "      dtype=object)"
      ]
     },
     "execution_count": 7,
     "metadata": {},
     "output_type": "execute_result"
    }
   ],
   "source": [
    "err_table = (schema.jobs & \"table_name='__auto_proofread_neurons'\")\n",
    "err_messages = (err_table).fetch(\"error_message\")\n",
    "unique_errors,unique_counts = np.unique(err_messages,return_counts=True)\n",
    "high_frequency_errors = np.where(unique_counts>20)[0]\n",
    "unique_errors[high_frequency_errors]"
   ]
  },
  {
   "cell_type": "code",
   "execution_count": 38,
   "metadata": {},
   "outputs": [
    {
     "name": "stdout",
     "output_type": "stream",
     "text": [
      "Found 0 matching entries with substring skeletal_length\n"
     ]
    },
    {
     "data": {
      "text/html": [
       "\n",
       "        \n",
       "        <style type=\"text/css\">\n",
       "            .Relation{\n",
       "                border-collapse:collapse;\n",
       "            }\n",
       "            .Relation th{\n",
       "                background: #A0A0A0; color: #ffffff; padding:4px; border:#f0e0e0 1px solid;\n",
       "                font-weight: normal; font-family: monospace; font-size: 100%;\n",
       "            }\n",
       "            .Relation td{\n",
       "                padding:4px; border:#f0e0e0 1px solid; font-size:100%;\n",
       "            }\n",
       "            .Relation tr:nth-child(odd){\n",
       "                background: #ffffff;\n",
       "            }\n",
       "            .Relation tr:nth-child(even){\n",
       "                background: #f3f1ff;\n",
       "            }\n",
       "            /* Tooltip container */\n",
       "            .djtooltip {\n",
       "            }\n",
       "            /* Tooltip text */\n",
       "            .djtooltip .djtooltiptext {\n",
       "                visibility: hidden;\n",
       "                width: 120px;\n",
       "                background-color: black;\n",
       "                color: #fff;\n",
       "                text-align: center;\n",
       "                padding: 5px 0;\n",
       "                border-radius: 6px;\n",
       "                /* Position the tooltip text - see examples below! */\n",
       "                position: absolute;\n",
       "                z-index: 1;\n",
       "            }\n",
       "            #primary {\n",
       "                font-weight: bold;\n",
       "                color: black;\n",
       "            }\n",
       "\n",
       "            #nonprimary {\n",
       "                font-weight: normal;\n",
       "                color: white;\n",
       "            }\n",
       "\n",
       "            /* Show the tooltip text when you mouse over the tooltip container */\n",
       "            .djtooltip:hover .djtooltiptext {\n",
       "                visibility: visible;\n",
       "            }\n",
       "        </style>\n",
       "        \n",
       "        <b>job reservation table for `microns_minnie65_02`</b>\n",
       "            <div style=\"max-height:1000px;max-width:1500px;overflow:auto;\">\n",
       "            <table border=\"1\" class=\"Relation\">\n",
       "                <thead> <tr style=\"text-align: right;\"> <th> <div class=\"djtooltip\">\n",
       "                                <p id=\"primary\">table_name</p>\n",
       "                                <span class=\"djtooltiptext\">className of the table</span>\n",
       "                            </div></th><th><div class=\"djtooltip\">\n",
       "                                <p id=\"primary\">key_hash</p>\n",
       "                                <span class=\"djtooltiptext\">key hash</span>\n",
       "                            </div></th><th><div class=\"djtooltip\">\n",
       "                                <p id=\"nonprimary\">status</p>\n",
       "                                <span class=\"djtooltiptext\">if tuple is missing, the job is available</span>\n",
       "                            </div></th><th><div class=\"djtooltip\">\n",
       "                                <p id=\"nonprimary\">key</p>\n",
       "                                <span class=\"djtooltiptext\">structure containing the key</span>\n",
       "                            </div></th><th><div class=\"djtooltip\">\n",
       "                                <p id=\"nonprimary\">error_message</p>\n",
       "                                <span class=\"djtooltiptext\">error message returned if failed</span>\n",
       "                            </div></th><th><div class=\"djtooltip\">\n",
       "                                <p id=\"nonprimary\">error_stack</p>\n",
       "                                <span class=\"djtooltiptext\">error stack if failed</span>\n",
       "                            </div></th><th><div class=\"djtooltip\">\n",
       "                                <p id=\"nonprimary\">user</p>\n",
       "                                <span class=\"djtooltiptext\">database user</span>\n",
       "                            </div></th><th><div class=\"djtooltip\">\n",
       "                                <p id=\"nonprimary\">host</p>\n",
       "                                <span class=\"djtooltiptext\">system hostname</span>\n",
       "                            </div></th><th><div class=\"djtooltip\">\n",
       "                                <p id=\"nonprimary\">pid</p>\n",
       "                                <span class=\"djtooltiptext\">system process id</span>\n",
       "                            </div></th><th><div class=\"djtooltip\">\n",
       "                                <p id=\"nonprimary\">connection_id</p>\n",
       "                                <span class=\"djtooltiptext\">connection_id()</span>\n",
       "                            </div></th><th><div class=\"djtooltip\">\n",
       "                                <p id=\"nonprimary\">timestamp</p>\n",
       "                                <span class=\"djtooltiptext\">automatic timestamp</span>\n",
       "                            </div> </th> </tr> </thead>\n",
       "                <tbody> <tr>  </tr> </tbody>\n",
       "            </table>\n",
       "            \n",
       "            <p>Total: 0</p></div>\n",
       "            "
      ],
      "text/plain": [
       "*table_name    *key_hash    status     key        error_message  error_stac user     host     pid     connection_id  timestamp    \n",
       "+------------+ +----------+ +--------+ +--------+ +------------+ +--------+ +------+ +------+ +-----+ +------------+ +-----------+\n",
       "\n",
       " (Total: 0)"
      ]
     },
     "execution_count": 38,
     "metadata": {},
     "output_type": "execute_result"
    }
   ],
   "source": [
    "new_table = du.restrict_jobs_table_by_error_substring(err_table,\n",
    "                                         message_in_error=\"skeletal_length\")\n",
    "new_table"
   ]
  },
  {
   "cell_type": "code",
   "execution_count": 39,
   "metadata": {},
   "outputs": [],
   "source": [
    "new_table.delete()"
   ]
  },
  {
   "cell_type": "code",
   "execution_count": 26,
   "metadata": {},
   "outputs": [
    {
     "data": {
      "text/html": [
       "\n",
       "        \n",
       "        <style type=\"text/css\">\n",
       "            .Relation{\n",
       "                border-collapse:collapse;\n",
       "            }\n",
       "            .Relation th{\n",
       "                background: #A0A0A0; color: #ffffff; padding:4px; border:#f0e0e0 1px solid;\n",
       "                font-weight: normal; font-family: monospace; font-size: 100%;\n",
       "            }\n",
       "            .Relation td{\n",
       "                padding:4px; border:#f0e0e0 1px solid; font-size:100%;\n",
       "            }\n",
       "            .Relation tr:nth-child(odd){\n",
       "                background: #ffffff;\n",
       "            }\n",
       "            .Relation tr:nth-child(even){\n",
       "                background: #f3f1ff;\n",
       "            }\n",
       "            /* Tooltip container */\n",
       "            .djtooltip {\n",
       "            }\n",
       "            /* Tooltip text */\n",
       "            .djtooltip .djtooltiptext {\n",
       "                visibility: hidden;\n",
       "                width: 120px;\n",
       "                background-color: black;\n",
       "                color: #fff;\n",
       "                text-align: center;\n",
       "                padding: 5px 0;\n",
       "                border-radius: 6px;\n",
       "                /* Position the tooltip text - see examples below! */\n",
       "                position: absolute;\n",
       "                z-index: 1;\n",
       "            }\n",
       "            #primary {\n",
       "                font-weight: bold;\n",
       "                color: black;\n",
       "            }\n",
       "\n",
       "            #nonprimary {\n",
       "                font-weight: normal;\n",
       "                color: white;\n",
       "            }\n",
       "\n",
       "            /* Show the tooltip text when you mouse over the tooltip container */\n",
       "            .djtooltip:hover .djtooltiptext {\n",
       "                visibility: visible;\n",
       "            }\n",
       "        </style>\n",
       "        \n",
       "        <b>job reservation table for `microns_minnie65_02`</b>\n",
       "            <div style=\"max-height:1000px;max-width:1500px;overflow:auto;\">\n",
       "            <table border=\"1\" class=\"Relation\">\n",
       "                <thead> <tr style=\"text-align: right;\"> <th> <div class=\"djtooltip\">\n",
       "                                <p id=\"primary\">table_name</p>\n",
       "                                <span class=\"djtooltiptext\">className of the table</span>\n",
       "                            </div></th><th><div class=\"djtooltip\">\n",
       "                                <p id=\"primary\">key_hash</p>\n",
       "                                <span class=\"djtooltiptext\">key hash</span>\n",
       "                            </div></th><th><div class=\"djtooltip\">\n",
       "                                <p id=\"nonprimary\">status</p>\n",
       "                                <span class=\"djtooltiptext\">if tuple is missing, the job is available</span>\n",
       "                            </div></th><th><div class=\"djtooltip\">\n",
       "                                <p id=\"nonprimary\">key</p>\n",
       "                                <span class=\"djtooltiptext\">structure containing the key</span>\n",
       "                            </div></th><th><div class=\"djtooltip\">\n",
       "                                <p id=\"nonprimary\">error_message</p>\n",
       "                                <span class=\"djtooltiptext\">error message returned if failed</span>\n",
       "                            </div></th><th><div class=\"djtooltip\">\n",
       "                                <p id=\"nonprimary\">error_stack</p>\n",
       "                                <span class=\"djtooltiptext\">error stack if failed</span>\n",
       "                            </div></th><th><div class=\"djtooltip\">\n",
       "                                <p id=\"nonprimary\">user</p>\n",
       "                                <span class=\"djtooltiptext\">database user</span>\n",
       "                            </div></th><th><div class=\"djtooltip\">\n",
       "                                <p id=\"nonprimary\">host</p>\n",
       "                                <span class=\"djtooltiptext\">system hostname</span>\n",
       "                            </div></th><th><div class=\"djtooltip\">\n",
       "                                <p id=\"nonprimary\">pid</p>\n",
       "                                <span class=\"djtooltiptext\">system process id</span>\n",
       "                            </div></th><th><div class=\"djtooltip\">\n",
       "                                <p id=\"nonprimary\">connection_id</p>\n",
       "                                <span class=\"djtooltiptext\">connection_id()</span>\n",
       "                            </div></th><th><div class=\"djtooltip\">\n",
       "                                <p id=\"nonprimary\">timestamp</p>\n",
       "                                <span class=\"djtooltiptext\">automatic timestamp</span>\n",
       "                            </div> </th> </tr> </thead>\n",
       "                <tbody> <tr> <td>__auto_proofread_neurons</td>\n",
       "<td>0171028a1fd889dec937f482e1e88b28</td>\n",
       "<td>error</td>\n",
       "<td>=BLOB=</td>\n",
       "<td>KeyError: 'skeletal_length'</td>\n",
       "<td>=BLOB=</td>\n",
       "<td>celiib@10.66.4.64</td>\n",
       "<td>jr-compute001</td>\n",
       "<td>1</td>\n",
       "<td>118581</td>\n",
       "<td>2021-02-05 00:31:27</td> </tr> </tbody>\n",
       "            </table>\n",
       "            \n",
       "            <p>Total: 1</p></div>\n",
       "            "
      ],
      "text/plain": [
       "*table_name    *key_hash      status     key        error_message  error_stac user           host           pid     connection_id  timestamp     \n",
       "+------------+ +------------+ +--------+ +--------+ +------------+ +--------+ +------------+ +------------+ +-----+ +------------+ +------------+\n",
       "__auto_proofre 0171028a1fd889 error      =BLOB=     KeyError: 'ske =BLOB=     celiib@10.66.4 jr-compute001  1       118581         2021-02-05 00:\n",
       " (Total: 1)"
      ]
     },
     "execution_count": 26,
     "metadata": {},
     "output_type": "execute_result"
    }
   ],
   "source": [
    "specific_error = (err_table & \"key_hash='0171028a1fd889dec937f482e1e88b28'\")\n",
    "specific_error"
   ]
  },
  {
   "cell_type": "code",
   "execution_count": 27,
   "metadata": {},
   "outputs": [
    {
     "name": "stdout",
     "output_type": "stream",
     "text": [
      "Traceback (most recent call last):\n",
      "  File \"/usr/local/lib/python3.6/dist-packages/pandas/core/indexes/base.py\", line 2646, in get_loc\n",
      "    return self._engine.get_loc(key)\n",
      "  File \"pandas/_libs/index.pyx\", line 111, in pandas._libs.index.IndexEngine.get_loc\n",
      "  File \"pandas/_libs/index.pyx\", line 138, in pandas._libs.index.IndexEngine.get_loc\n",
      "  File \"pandas/_libs/hashtable_class_helper.pxi\", line 1619, in pandas._libs.hashtable.PyObjectHashTable.get_item\n",
      "  File \"pandas/_libs/hashtable_class_helper.pxi\", line 1627, in pandas._libs.hashtable.PyObjectHashTable.get_item\n",
      "KeyError: 'skeletal_length'\n",
      "\n",
      "During handling of the above exception, another exception occurred:\n",
      "\n",
      "Traceback (most recent call last):\n",
      "  File \"/usr/local/lib/python3.6/dist-packages/datajoint/autopopulate.py\", line 159, in populate\n",
      "    make(dict(key))\n",
      "  File \"Run_9_AutoProofreadNeurons.py\", line 408, in make\n",
      "    verbose=False)\n",
      "  File \"/meshAfterParty/proofreading_utils.py\", line 3591, in proofread_neuron\n",
      "    verbose=verbose)\n",
      "  File \"/meshAfterParty/classification_utils.py\", line 1495, in inhibitory_excitatory_classifier\n",
      "    **kwargs)\n",
      "  File \"/meshAfterParty/classification_utils.py\", line 1451, in spine_level_classifier\n",
      "    **kwargs)\n",
      "  File \"/meshAfterParty/neuron_utils.py\", line 3977, in neuron_spine_density\n",
      "    total_skeletal_length_in_search_radius = np.sum(total_branches_in_search_radius[\"skeletal_length\"].to_numpy())\n",
      "  File \"/usr/local/lib/python3.6/dist-packages/pandas/core/frame.py\", line 2800, in __getitem__\n",
      "    indexer = self.columns.get_loc(key)\n",
      "  File \"/usr/local/lib/python3.6/dist-packages/pandas/core/indexes/base.py\", line 2648, in get_loc\n",
      "    return self._engine.get_loc(self._maybe_cast_indexer(key))\n",
      "  File \"pandas/_libs/index.pyx\", line 111, in pandas._libs.index.IndexEngine.get_loc\n",
      "  File \"pandas/_libs/index.pyx\", line 138, in pandas._libs.index.IndexEngine.get_loc\n",
      "  File \"pandas/_libs/hashtable_class_helper.pxi\", line 1619, in pandas._libs.hashtable.PyObjectHashTable.get_item\n",
      "  File \"pandas/_libs/hashtable_class_helper.pxi\", line 1627, in pandas._libs.hashtable.PyObjectHashTable.get_item\n",
      "KeyError: 'skeletal_length'\n",
      "\n"
     ]
    }
   ],
   "source": [
    "print(specific_error.fetch1(\"error_stack\"))"
   ]
  },
  {
   "cell_type": "code",
   "execution_count": 28,
   "metadata": {},
   "outputs": [
    {
     "name": "stdout",
     "output_type": "stream",
     "text": [
      "{'segment_id': 864691135651861970, 'decimation_version': 0, 'decimation_ratio': Decimal('0.25'), 'ver': Decimal('30.00'), 'process_version': 5, 'index': 0}\n"
     ]
    }
   ],
   "source": [
    "print(specific_error.fetch1(\"key\"))"
   ]
  },
  {
   "cell_type": "code",
   "execution_count": 29,
   "metadata": {},
   "outputs": [],
   "source": [
    "specific_error.delete()"
   ]
  },
  {
   "cell_type": "code",
   "execution_count": null,
   "metadata": {},
   "outputs": [],
   "source": []
  },
  {
   "cell_type": "code",
   "execution_count": null,
   "metadata": {},
   "outputs": [],
   "source": []
  },
  {
   "cell_type": "code",
   "execution_count": null,
   "metadata": {},
   "outputs": [],
   "source": [
    "minnie.SpineRecalculation() & dict(segment_id=864691135864722652)"
   ]
  },
  {
   "cell_type": "markdown",
   "metadata": {},
   "source": [
    "# Getting the Connectome"
   ]
  },
  {
   "cell_type": "code",
   "execution_count": null,
   "metadata": {},
   "outputs": [],
   "source": [
    "minnie.ProofreadStats() & (minnie.AutoProofreadNeurons() & \"cell_type_predicted='inhibitory'\").proj() & \"axon_on_dendrite_merges_error_area>=0\""
   ]
  },
  {
   "cell_type": "code",
   "execution_count": null,
   "metadata": {},
   "outputs": [],
   "source": [
    "minnie.SynapseProofread()"
   ]
  },
  {
   "cell_type": "code",
   "execution_count": null,
   "metadata": {},
   "outputs": [],
   "source": [
    "# Fetching all of the data"
   ]
  },
  {
   "cell_type": "code",
   "execution_count": null,
   "metadata": {},
   "outputs": [],
   "source": [
    "synapse_data = minnie.SynapseProofread.fetch(as_dict=True)\n",
    "synapse_data_df = pd.DataFrame.from_dict(synapse_data)\n",
    "synapse_data_df"
   ]
  },
  {
   "cell_type": "code",
   "execution_count": null,
   "metadata": {},
   "outputs": [],
   "source": [
    "uniq_synapse_ids,unique_synapse_indexes,inverse_indices,synapse_id_counts = np.unique(synapse_data_df[\"synapse_id\"].to_numpy(),\n",
    "                           return_index=True,\n",
    "                           return_inverse=True,\n",
    "                            return_counts=True)"
   ]
  },
  {
   "cell_type": "code",
   "execution_count": null,
   "metadata": {},
   "outputs": [],
   "source": [
    "direct_connection_synapse_idx = np.where(synapse_id_counts==2)[0]\n",
    "direct_connection_synapse_mask = np.zeros(len(synapse_id_counts))\n",
    "direct_connection_synapse_mask[direct_connection_synapse_idx] = 1\n",
    "direct_connection_synapse_mask = direct_connection_synapse_mask.astype(\"bool\")\n",
    "row_filter = direct_connection_synapse_mask[inverse_indices]\n",
    "\n",
    "direct_connections_df = synapse_data_df.iloc[row_filter]\n",
    "direct_connections_df"
   ]
  },
  {
   "cell_type": "code",
   "execution_count": null,
   "metadata": {
    "scrolled": true
   },
   "outputs": [],
   "source": [
    "# Combining the table's presyns and postsyns onto the same row\n",
    "\n",
    "df_tables = []\n",
    "for synapse_type in [\"presyn\",\"postsyn\"]:\n",
    "    direct_connections_df_init = direct_connections_df[direct_connections_df[\"synapse_type\"]==synapse_type]\n",
    "    \n",
    "    direct_connections_df_init_sorted = direct_connections_df_init.sort_values(by=['synapse_id']).reset_index(drop=True)\n",
    "    \n",
    "    direct_connections_df_presyn = direct_connections_df_init_sorted[[k for k in direct_connections_df_init_sorted.columns if k != \"synapse_type\"] ]\n",
    "    \n",
    "    #column_mapper = dict([(k,f\"{k}_{synapse_type}\") if k != \"synapse_id\"  else (k,k) for k in direct_connections_df_presyn.columns])\n",
    "    column_mapper = dict([(k,f\"{synapse_type}_{k}\") for k in direct_connections_df_presyn.columns])\n",
    "\n",
    "    presyn_df = direct_connections_df_presyn.rename(columns=column_mapper)\n",
    "    df_tables.append(presyn_df)\n",
    "    \n",
    "direct_conn_df = pd.concat(df_tables,axis=1)\n",
    "direct_conn_df"
   ]
  },
  {
   "cell_type": "code",
   "execution_count": null,
   "metadata": {},
   "outputs": [],
   "source": [
    "edges_df = direct_conn_df[[\"presyn_nucleus_id\",\"postsyn_nucleus_id\"]]\n",
    "connectome_edges = edges_df.to_numpy()\n",
    "connectome_edges"
   ]
  },
  {
   "cell_type": "markdown",
   "metadata": {},
   "source": [
    "# Preliminary Look at the Graph"
   ]
  },
  {
   "cell_type": "code",
   "execution_count": null,
   "metadata": {},
   "outputs": [],
   "source": [
    "import networkx as nx"
   ]
  },
  {
   "cell_type": "code",
   "execution_count": null,
   "metadata": {},
   "outputs": [],
   "source": [
    "G = nx.MultiDiGraph()\n",
    "G.add_edges_from(connectome_edges)\n",
    "len(G.nodes()),len(G.edges())"
   ]
  },
  {
   "cell_type": "code",
   "execution_count": null,
   "metadata": {},
   "outputs": [],
   "source": [
    "#For connected components cannot be a directed graph\n",
    "G_undirected = nx.Graph(G)\n",
    "\n",
    "n_components = nx.number_connected_components(G_undirected)\n",
    "print(f\"Number of connected components = {n_components}\")\n",
    "\n",
    "# The Sizes of the components in the graph\n",
    "conn_comp = list(nx.connected_components(G_undirected))\n",
    "conn_comp_size = [len(k) for k in conn_comp]\n",
    "print(f\"conn_comp_size = {conn_comp_size}\")"
   ]
  },
  {
   "cell_type": "code",
   "execution_count": null,
   "metadata": {},
   "outputs": [],
   "source": [
    "fig,ax = plt.subplots(1,1)\n",
    "ax.hist(conn_comp_size)\n",
    "ax.set_title(\"Number of Neurons in Connected Components\")\n",
    "ax.set_xlabel(\"Number of Neurons\")\n",
    "plt.show()"
   ]
  },
  {
   "cell_type": "markdown",
   "metadata": {},
   "source": [
    "# Selecting the largest component"
   ]
  },
  {
   "cell_type": "code",
   "execution_count": null,
   "metadata": {},
   "outputs": [],
   "source": [
    "G_largest = G.subgraph(conn_comp[0])\n",
    "node_names_largest_comp = np.array(G_largest.nodes())\n",
    "node_names_largest_comp.shape"
   ]
  },
  {
   "cell_type": "markdown",
   "metadata": {},
   "source": [
    "# Degree Distribution"
   ]
  },
  {
   "cell_type": "code",
   "execution_count": null,
   "metadata": {},
   "outputs": [],
   "source": [
    "undirectional_graph = nx.Graph(G_largest)\n",
    "no_selflooped_graph = xu.remove_selfloops(undirectional_graph)\n",
    "no_selflooped_graph"
   ]
  },
  {
   "cell_type": "code",
   "execution_count": null,
   "metadata": {},
   "outputs": [],
   "source": [
    "degree_distribution = np.array(xu.get_node_degree(no_selflooped_graph,node_names_largest_comp))\n",
    "degree_distribution_filtered = degree_distribution[degree_distribution<np.percentile(degree_distribution,99.5)]"
   ]
  },
  {
   "cell_type": "code",
   "execution_count": null,
   "metadata": {},
   "outputs": [],
   "source": [
    "print(f\"Average Degree of Node: {np.mean(degree_distribution_filtered)}\")"
   ]
  },
  {
   "cell_type": "code",
   "execution_count": null,
   "metadata": {},
   "outputs": [],
   "source": [
    "fig,ax = plt.subplots(1,1)\n",
    "ax.hist(degree_distribution_filtered,bins=50,density=True)\n",
    "ax.set_title(\"Degree Distribution of Neurons \\n Unique Edges, No Self Loops\")\n",
    "ax.set_xlabel(\"Degree of Neuron\")\n",
    "ax.set_ylabel(\"Density\")\n",
    "plt.show()"
   ]
  },
  {
   "cell_type": "code",
   "execution_count": null,
   "metadata": {},
   "outputs": [],
   "source": [
    "fig,ax = plt.subplots(1,1)\n",
    "ax.hist(degree_distribution_filtered,bins=50,density=False)\n",
    "ax.set_title(\"Degree Distribution of Neurons \\n Unique Edges, No Self Loops\")\n",
    "ax.set_xlabel(\"Degree of Neuron\")\n",
    "ax.set_ylabel(\"Count\")\n",
    "ax.set_yscale(\"log\")\n",
    "plt.show()"
   ]
  },
  {
   "cell_type": "code",
   "execution_count": null,
   "metadata": {},
   "outputs": [],
   "source": []
  },
  {
   "cell_type": "code",
   "execution_count": null,
   "metadata": {},
   "outputs": [],
   "source": []
  },
  {
   "cell_type": "code",
   "execution_count": null,
   "metadata": {},
   "outputs": [],
   "source": []
  },
  {
   "cell_type": "code",
   "execution_count": null,
   "metadata": {},
   "outputs": [],
   "source": []
  },
  {
   "cell_type": "code",
   "execution_count": null,
   "metadata": {},
   "outputs": [],
   "source": []
  },
  {
   "cell_type": "code",
   "execution_count": null,
   "metadata": {},
   "outputs": [],
   "source": []
  },
  {
   "cell_type": "markdown",
   "metadata": {},
   "source": [
    "# Further Graph Analysis"
   ]
  },
  {
   "cell_type": "code",
   "execution_count": null,
   "metadata": {},
   "outputs": [],
   "source": [
    "#this can take a little bit to compute\n",
    "nx.average_shortest_path_length(G_largest)"
   ]
  },
  {
   "cell_type": "markdown",
   "metadata": {},
   "source": [
    "# OLD Datajoint Way of Processing"
   ]
  },
  {
   "cell_type": "code",
   "execution_count": null,
   "metadata": {},
   "outputs": [],
   "source": [
    "\"\"\" OLD Datajoint Way\n",
    "\n",
    "presyn_table = minnie.SynapseProofread & \"synapse_type='presyn'\"\n",
    "postsyn_table = minnie.SynapseProofread & \"synapse_type='postsyn'\"\n",
    "presyn_table_renamed = presyn_table.proj(presyn=\"segment_id\",\n",
    "                                         presyn_split_index = \"split_index\",\n",
    "                                         presyn_nucleus=\"nucleus_id\",\n",
    "                                         presyn_label=\"synapse_type\")\n",
    "\n",
    "postsyn_table_renamed = postsyn_table.proj(postsyn=\"segment_id\",\n",
    "                                           postsyn_split_index=\"split_index\",\n",
    "                                            postsyn_nucleus=\"nucleus_id\",\n",
    "                                           postsyn_label=\"synapse_type\")\n",
    "\n",
    "direct_conn_with_labels = presyn_table_renamed * postsyn_table_renamed\n",
    "direct_conn_with_labels\n",
    "\n",
    "import time\n",
    "st_time = time.time()\n",
    "direct_conn_data_without_sizes = direct_conn_with_labels.fetch(as_dict=True)\n",
    "print(f\"Total time for fetch = {time.time() - st_time}\")\n",
    "\n",
    "import datajoint as dj\n",
    "just_synapses_id_and_size = dj.U(\"synapse_id\",\"synapse_size\") & du.m65mat.NucleusSynapse.proj(\"synapse_size\")\n",
    "\n",
    "# want to get the synapse table as well\n",
    "direct_conn_with_labels_and_sizes = just_synapses_id_and_size * direct_conn_with_labels\n",
    "direct_conn_with_labels_and_sizes\n",
    "\n",
    "import time\n",
    "st_time = time.time()\n",
    "direct_conn_data = direct_conn_with_labels_and_sizes.fetch(as_dict=True)\n",
    "print(f\"Total time for fetch = {time.time() - st_time}\")\n",
    "\n",
    "import pandas as pd\n",
    "direct_conn_df = pd.DataFrame.from_dict(direct_conn_data)\n",
    "\"\"\""
   ]
  },
  {
   "cell_type": "code",
   "execution_count": null,
   "metadata": {},
   "outputs": [],
   "source": []
  },
  {
   "cell_type": "code",
   "execution_count": null,
   "metadata": {},
   "outputs": [],
   "source": [
    "(1/3)**-2"
   ]
  },
  {
   "cell_type": "code",
   "execution_count": null,
   "metadata": {},
   "outputs": [],
   "source": []
  },
  {
   "cell_type": "code",
   "execution_count": null,
   "metadata": {},
   "outputs": [],
   "source": []
  }
 ],
 "metadata": {
  "kernelspec": {
   "display_name": "Python 3",
   "language": "python",
   "name": "python3"
  },
  "language_info": {
   "codemirror_mode": {
    "name": "ipython",
    "version": 3
   },
   "file_extension": ".py",
   "mimetype": "text/x-python",
   "name": "python",
   "nbconvert_exporter": "python",
   "pygments_lexer": "ipython3",
   "version": "3.6.9"
  }
 },
 "nbformat": 4,
 "nbformat_minor": 4
}
