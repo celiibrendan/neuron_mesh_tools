{
 "cells": [
  {
   "cell_type": "code",
   "execution_count": 1,
   "metadata": {},
   "outputs": [
    {
     "data": {
      "text/plain": [
       "'\\nPurpose: To Inspect the Autoproofreading Pipeline\\nand the resultant connectome\\n\\n'"
      ]
     },
     "execution_count": 1,
     "metadata": {},
     "output_type": "execute_result"
    }
   ],
   "source": [
    "\"\"\"\n",
    "Purpose: To Inspect the Autoproofreading Pipeline\n",
    "and the resultant connectome\n",
    "\n",
    "\"\"\""
   ]
  },
  {
   "cell_type": "code",
   "execution_count": 2,
   "metadata": {},
   "outputs": [],
   "source": [
    "%load_ext autoreload\n",
    "%autoreload 2"
   ]
  },
  {
   "cell_type": "code",
   "execution_count": 3,
   "metadata": {},
   "outputs": [],
   "source": [
    "from os import sys\n",
    "sys.path.append(\"/meshAfterParty/\")"
   ]
  },
  {
   "cell_type": "code",
   "execution_count": 4,
   "metadata": {},
   "outputs": [
    {
     "name": "stderr",
     "output_type": "stream",
     "text": [
      "INFO - 2021-02-08 07:11:48,390 - settings - Setting database.host to at-database.ad.bcm.edu\n",
      "INFO - 2021-02-08 07:11:48,391 - settings - Setting database.user to celiib\n",
      "INFO - 2021-02-08 07:11:48,392 - settings - Setting database.password to newceliipass\n",
      "INFO - 2021-02-08 07:11:48,397 - settings - Setting stores to {'minnie65': {'protocol': 'file', 'location': '/mnt/dj-stor01/platinum/minnie65', 'stage': '/mnt/dj-stor01/platinum/minnie65'}, 'meshes': {'protocol': 'file', 'location': '/mnt/dj-stor01/platinum/minnie65/02/meshes', 'stage': '/mnt/dj-stor01/platinum/minnie65/02/meshes'}, 'decimated_meshes': {'protocol': 'file', 'location': '/mnt/dj-stor01/platinum/minnie65/02/decimated_meshes', 'stage': '/mnt/dj-stor01/platinum/minnie65/02/decimated_meshes'}, 'skeletons': {'protocol': 'file', 'location': '/mnt/dj-stor01/platinum/minnie65/02/skeletons'}}\n",
      "INFO - 2021-02-08 07:11:48,398 - settings - Setting enable_python_native_blobs to True\n",
      "INFO - 2021-02-08 07:11:48,410 - connection - Connected celiib@at-database.ad.bcm.edu:3306\n"
     ]
    },
    {
     "name": "stdout",
     "output_type": "stream",
     "text": [
      "Connecting celiib@at-database.ad.bcm.edu:3306\n"
     ]
    },
    {
     "name": "stderr",
     "output_type": "stream",
     "text": [
      "INFO - 2021-02-08 07:11:48,693 - settings - Setting enable_python_native_blobs to True\n",
      "INFO - 2021-02-08 07:11:48,725 - settings - Setting enable_python_native_blobs to True\n",
      "INFO - 2021-02-08 07:11:49,026 - settings - Setting enable_python_native_blobs to True\n"
     ]
    }
   ],
   "source": [
    "import datajoint_utils as du\n",
    "minnie,schema = du.configure_minnie_vm()"
   ]
  },
  {
   "cell_type": "code",
   "execution_count": 55,
   "metadata": {},
   "outputs": [],
   "source": [
    "import pandas as pd\n",
    "import matplotlib.pyplot as plt\n",
    "import networkx as nx\n",
    "import numpy as np\n",
    "import networkx_utils as xu\n",
    "import datajoint as dj"
   ]
  },
  {
   "cell_type": "code",
   "execution_count": 6,
   "metadata": {},
   "outputs": [
    {
     "data": {
      "text/plain": [
       "76928"
      ]
     },
     "execution_count": 6,
     "metadata": {},
     "output_type": "execute_result"
    }
   ],
   "source": [
    "len(minnie.AutoProofreadNeurons())"
   ]
  },
  {
   "cell_type": "markdown",
   "metadata": {},
   "source": [
    "# The original graph"
   ]
  },
  {
   "cell_type": "code",
   "execution_count": 52,
   "metadata": {},
   "outputs": [
    {
     "name": "stderr",
     "output_type": "stream",
     "text": [
      "INFO - 2021-02-08 17:42:11,694 - settings - Setting database.host to at-database.ad.bcm.edu\n",
      "INFO - 2021-02-08 17:42:11,695 - settings - Setting database.user to celiib\n",
      "INFO - 2021-02-08 17:42:11,696 - settings - Setting database.password to newceliipass\n",
      "INFO - 2021-02-08 17:42:11,705 - settings - Setting enable_python_native_blobs to True\n",
      "INFO - 2021-02-08 17:42:11,992 - settings - Setting enable_python_native_blobs to True\n"
     ]
    },
    {
     "data": {
      "text/html": [
       "\n",
       "        \n",
       "        <style type=\"text/css\">\n",
       "            .Relation{\n",
       "                border-collapse:collapse;\n",
       "            }\n",
       "            .Relation th{\n",
       "                background: #A0A0A0; color: #ffffff; padding:4px; border:#f0e0e0 1px solid;\n",
       "                font-weight: normal; font-family: monospace; font-size: 100%;\n",
       "            }\n",
       "            .Relation td{\n",
       "                padding:4px; border:#f0e0e0 1px solid; font-size:100%;\n",
       "            }\n",
       "            .Relation tr:nth-child(odd){\n",
       "                background: #ffffff;\n",
       "            }\n",
       "            .Relation tr:nth-child(even){\n",
       "                background: #f3f1ff;\n",
       "            }\n",
       "            /* Tooltip container */\n",
       "            .djtooltip {\n",
       "            }\n",
       "            /* Tooltip text */\n",
       "            .djtooltip .djtooltiptext {\n",
       "                visibility: hidden;\n",
       "                width: 120px;\n",
       "                background-color: black;\n",
       "                color: #fff;\n",
       "                text-align: center;\n",
       "                padding: 5px 0;\n",
       "                border-radius: 6px;\n",
       "                /* Position the tooltip text - see examples below! */\n",
       "                position: absolute;\n",
       "                z-index: 1;\n",
       "            }\n",
       "            #primary {\n",
       "                font-weight: bold;\n",
       "                color: black;\n",
       "            }\n",
       "\n",
       "            #nonprimary {\n",
       "                font-weight: normal;\n",
       "                color: white;\n",
       "            }\n",
       "\n",
       "            /* Show the tooltip text when you mouse over the tooltip container */\n",
       "            .djtooltip:hover .djtooltiptext {\n",
       "                visibility: visible;\n",
       "            }\n",
       "        </style>\n",
       "        \n",
       "        <b>Synapses between segments with nuclei from 'nucleus_detection_v0'</b>\n",
       "            <div style=\"max-height:1000px;max-width:1500px;overflow:auto;\">\n",
       "            <table border=\"1\" class=\"Relation\">\n",
       "                <thead> <tr style=\"text-align: right;\"> <th> <div class=\"djtooltip\">\n",
       "                                <p id=\"primary\">ver</p>\n",
       "                                <span class=\"djtooltiptext\">materialization version</span>\n",
       "                            </div></th><th><div class=\"djtooltip\">\n",
       "                                <p id=\"primary\">synapse_id</p>\n",
       "                                <span class=\"djtooltiptext\">synapse index within the segmentation</span>\n",
       "                            </div></th><th><div class=\"djtooltip\">\n",
       "                                <p id=\"primary\">presyn</p>\n",
       "                                <span class=\"djtooltiptext\">segment_id of the presynaptic cell. Equivalent to Allen 'pt_root_id'.</span>\n",
       "                            </div></th><th><div class=\"djtooltip\">\n",
       "                                <p id=\"primary\">postsyn</p>\n",
       "                                <span class=\"djtooltiptext\">segment_id of the postsynaptic cell. Equivalent to Allen 'pt_root_id'.</span>\n",
       "                            </div></th><th><div class=\"djtooltip\">\n",
       "                                <p id=\"nonprimary\">synapse_x</p>\n",
       "                                <span class=\"djtooltiptext\">x coordinate of synapse centroid in EM voxels (x: 4nm, y: 4nm, z: 40nm). From Allen 'ctr_pt_position'.</span>\n",
       "                            </div></th><th><div class=\"djtooltip\">\n",
       "                                <p id=\"nonprimary\">synapse_y</p>\n",
       "                                <span class=\"djtooltiptext\">y coordinate of centroid in EM voxels (x: 4nm, y: 4nm, z: 40nm). From Allen 'ctr_pt_position'.</span>\n",
       "                            </div></th><th><div class=\"djtooltip\">\n",
       "                                <p id=\"nonprimary\">synapse_z</p>\n",
       "                                <span class=\"djtooltiptext\">z coordinate of centroid in EM voxels (x: 4nm, y: 4nm, z: 40nm). From Allen 'ctr_pt_position'.</span>\n",
       "                            </div></th><th><div class=\"djtooltip\">\n",
       "                                <p id=\"nonprimary\">synapse_size</p>\n",
       "                                <span class=\"djtooltiptext\">(EM voxels) scaled by (4x4x40)</span>\n",
       "                            </div> </th> </tr> </thead>\n",
       "                <tbody> <tr> <td>30.00</td>\n",
       "<td>510699</td>\n",
       "<td>864691136056368856</td>\n",
       "<td>864691135462260637</td>\n",
       "<td>66881</td>\n",
       "<td>111951</td>\n",
       "<td>20902</td>\n",
       "<td>3540</td></tr><tr><td>30.00</td>\n",
       "<td>515874</td>\n",
       "<td>864691135593498923</td>\n",
       "<td>864691136723541757</td>\n",
       "<td>67724</td>\n",
       "<td>172488</td>\n",
       "<td>21439</td>\n",
       "<td>3964</td></tr><tr><td>30.00</td>\n",
       "<td>519136</td>\n",
       "<td>864691136951642335</td>\n",
       "<td>864691136816114148</td>\n",
       "<td>66800</td>\n",
       "<td>132046</td>\n",
       "<td>21428</td>\n",
       "<td>6240</td></tr><tr><td>30.00</td>\n",
       "<td>519451</td>\n",
       "<td>864691135986920451</td>\n",
       "<td>864691135393987573</td>\n",
       "<td>67244</td>\n",
       "<td>132814</td>\n",
       "<td>21355</td>\n",
       "<td>1288</td></tr><tr><td>30.00</td>\n",
       "<td>520250</td>\n",
       "<td>864691135617800847</td>\n",
       "<td>864691136816114148</td>\n",
       "<td>68898</td>\n",
       "<td>132056</td>\n",
       "<td>21426</td>\n",
       "<td>1768</td></tr><tr><td>30.00</td>\n",
       "<td>526715</td>\n",
       "<td>864691135307077446</td>\n",
       "<td>864691136056321496</td>\n",
       "<td>68598</td>\n",
       "<td>184442</td>\n",
       "<td>19902</td>\n",
       "<td>3256</td></tr><tr><td>30.00</td>\n",
       "<td>526750</td>\n",
       "<td>864691135359859698</td>\n",
       "<td>864691135415460794</td>\n",
       "<td>68620</td>\n",
       "<td>186396</td>\n",
       "<td>19886</td>\n",
       "<td>448</td></tr><tr><td>30.00</td>\n",
       "<td>528615</td>\n",
       "<td>864691136521572241</td>\n",
       "<td>864691135873643918</td>\n",
       "<td>66224</td>\n",
       "<td>113594</td>\n",
       "<td>20214</td>\n",
       "<td>1320</td></tr><tr><td>30.00</td>\n",
       "<td>533040</td>\n",
       "<td>864691136289642135</td>\n",
       "<td>864691135776658528</td>\n",
       "<td>66836</td>\n",
       "<td>126584</td>\n",
       "<td>20700</td>\n",
       "<td>1964</td></tr><tr><td>30.00</td>\n",
       "<td>535902</td>\n",
       "<td>864691136723550461</td>\n",
       "<td>864691135385316693</td>\n",
       "<td>65906</td>\n",
       "<td>151160</td>\n",
       "<td>20306</td>\n",
       "<td>2328</td></tr><tr><td>30.00</td>\n",
       "<td>536477</td>\n",
       "<td>864691136723550461</td>\n",
       "<td>864691135122295079</td>\n",
       "<td>66568</td>\n",
       "<td>153744</td>\n",
       "<td>20344</td>\n",
       "<td>6052</td></tr><tr><td>30.00</td>\n",
       "<td>536537</td>\n",
       "<td>864691136723550461</td>\n",
       "<td>864691135122295079</td>\n",
       "<td>66628</td>\n",
       "<td>153942</td>\n",
       "<td>20356</td>\n",
       "<td>3096</td> </tr> </tbody>\n",
       "            </table>\n",
       "            <p>...</p>\n",
       "            <p>Total: 17133898</p></div>\n",
       "            "
      ],
      "text/plain": [
       "*ver      *synapse_id    *presyn        *postsyn       synapse_x     synapse_y     synapse_z     synapse_size  \n",
       "+-------+ +------------+ +------------+ +------------+ +-----------+ +-----------+ +-----------+ +------------+\n",
       "30.00     510699         86469113605636 86469113546226 66881         111951        20902         3540          \n",
       "30.00     515874         86469113559349 86469113672354 67724         172488        21439         3964          \n",
       "30.00     519136         86469113695164 86469113681611 66800         132046        21428         6240          \n",
       "30.00     519451         86469113598692 86469113539398 67244         132814        21355         1288          \n",
       "30.00     520250         86469113561780 86469113681611 68898         132056        21426         1768          \n",
       "30.00     526715         86469113530707 86469113605632 68598         184442        19902         3256          \n",
       "30.00     526750         86469113535985 86469113541546 68620         186396        19886         448           \n",
       "30.00     528615         86469113652157 86469113587364 66224         113594        20214         1320          \n",
       "30.00     533040         86469113628964 86469113577665 66836         126584        20700         1964          \n",
       "30.00     535902         86469113672355 86469113538531 65906         151160        20306         2328          \n",
       "30.00     536477         86469113672355 86469113512229 66568         153744        20344         6052          \n",
       "30.00     536537         86469113672355 86469113512229 66628         153942        20356         3096          \n",
       "   ...\n",
       " (Total: 17133898)"
      ]
     },
     "execution_count": 52,
     "metadata": {},
     "output_type": "execute_result"
    }
   ],
   "source": [
    "orig_synapses = (du.m65mat.NucleusSynapse() & \"presyn != postsyn\")"
   ]
  },
  {
   "cell_type": "code",
   "execution_count": 53,
   "metadata": {},
   "outputs": [],
   "source": [
    "orig_synapses = (du.m65mat.NucleusSynapse() & \"presyn != postsyn\")"
   ]
  },
  {
   "cell_type": "code",
   "execution_count": 56,
   "metadata": {},
   "outputs": [
    {
     "data": {
      "text/html": [
       "\n",
       "        \n",
       "        <style type=\"text/css\">\n",
       "            .Relation{\n",
       "                border-collapse:collapse;\n",
       "            }\n",
       "            .Relation th{\n",
       "                background: #A0A0A0; color: #ffffff; padding:4px; border:#f0e0e0 1px solid;\n",
       "                font-weight: normal; font-family: monospace; font-size: 100%;\n",
       "            }\n",
       "            .Relation td{\n",
       "                padding:4px; border:#f0e0e0 1px solid; font-size:100%;\n",
       "            }\n",
       "            .Relation tr:nth-child(odd){\n",
       "                background: #ffffff;\n",
       "            }\n",
       "            .Relation tr:nth-child(even){\n",
       "                background: #f3f1ff;\n",
       "            }\n",
       "            /* Tooltip container */\n",
       "            .djtooltip {\n",
       "            }\n",
       "            /* Tooltip text */\n",
       "            .djtooltip .djtooltiptext {\n",
       "                visibility: hidden;\n",
       "                width: 120px;\n",
       "                background-color: black;\n",
       "                color: #fff;\n",
       "                text-align: center;\n",
       "                padding: 5px 0;\n",
       "                border-radius: 6px;\n",
       "                /* Position the tooltip text - see examples below! */\n",
       "                position: absolute;\n",
       "                z-index: 1;\n",
       "            }\n",
       "            #primary {\n",
       "                font-weight: bold;\n",
       "                color: black;\n",
       "            }\n",
       "\n",
       "            #nonprimary {\n",
       "                font-weight: normal;\n",
       "                color: white;\n",
       "            }\n",
       "\n",
       "            /* Show the tooltip text when you mouse over the tooltip container */\n",
       "            .djtooltip:hover .djtooltiptext {\n",
       "                visibility: visible;\n",
       "            }\n",
       "        </style>\n",
       "        \n",
       "        \n",
       "            <div style=\"max-height:1000px;max-width:1500px;overflow:auto;\">\n",
       "            <table border=\"1\" class=\"Relation\">\n",
       "                <thead> <tr style=\"text-align: right;\"> <th> <div class=\"djtooltip\">\n",
       "                                <p id=\"primary\">presyn</p>\n",
       "                                <span class=\"djtooltiptext\">segment_id of the presynaptic cell. Equivalent to Allen 'pt_root_id'.</span>\n",
       "                            </div></th><th><div class=\"djtooltip\">\n",
       "                                <p id=\"primary\">postsyn</p>\n",
       "                                <span class=\"djtooltiptext\">segment_id of the postsynaptic cell. Equivalent to Allen 'pt_root_id'.</span>\n",
       "                            </div></th><th><div class=\"djtooltip\">\n",
       "                                <p id=\"nonprimary\">n</p>\n",
       "                                <span class=\"djtooltiptext\">calculated attribute</span>\n",
       "                            </div> </th> </tr> </thead>\n",
       "                <tbody> <tr> <td>864691133474009700</td>\n",
       "<td>864691136534887842</td>\n",
       "<td>1</td></tr><tr><td>864691133544279896</td>\n",
       "<td>864691136534887842</td>\n",
       "<td>1</td></tr><tr><td>864691133667718733</td>\n",
       "<td>864691136534887842</td>\n",
       "<td>1</td></tr><tr><td>864691133755783901</td>\n",
       "<td>864691136534887842</td>\n",
       "<td>1</td></tr><tr><td>864691133807578279</td>\n",
       "<td>864691136587929974</td>\n",
       "<td>1</td></tr><tr><td>864691133936287935</td>\n",
       "<td>864691135212707456</td>\n",
       "<td>1</td></tr><tr><td>864691134022681526</td>\n",
       "<td>864691136027013670</td>\n",
       "<td>1</td></tr><tr><td>864691134023994266</td>\n",
       "<td>864691135432632050</td>\n",
       "<td>2</td></tr><tr><td>864691134026921572</td>\n",
       "<td>864691136534887842</td>\n",
       "<td>1</td></tr><tr><td>864691134144734714</td>\n",
       "<td>864691136534887842</td>\n",
       "<td>1</td></tr><tr><td>864691134185793034</td>\n",
       "<td>864691136123805478</td>\n",
       "<td>1</td></tr><tr><td>864691134200792217</td>\n",
       "<td>864691135899716072</td>\n",
       "<td>2</td> </tr> </tbody>\n",
       "            </table>\n",
       "            <p>...</p>\n",
       "            <p>Total: 11917994</p></div>\n",
       "            "
      ],
      "text/plain": [
       "*presyn        *postsyn       n    \n",
       "+------------+ +------------+ +---+\n",
       "86469113347400 86469113653488 1    \n",
       "86469113354427 86469113653488 1    \n",
       "86469113366771 86469113653488 1    \n",
       "86469113375578 86469113653488 1    \n",
       "86469113380757 86469113658792 1    \n",
       "86469113393628 86469113521270 1    \n",
       "86469113402268 86469113602701 1    \n",
       "86469113402399 86469113543263 2    \n",
       "86469113402692 86469113653488 1    \n",
       "86469113414473 86469113653488 1    \n",
       "86469113418579 86469113612380 1    \n",
       "86469113420079 86469113589971 2    \n",
       "   ...\n",
       " (Total: 11917994)"
      ]
     },
     "execution_count": 56,
     "metadata": {},
     "output_type": "execute_result"
    }
   ],
   "source": [
    "dj.U('presyn', 'postsyn').aggr(orig_synapses, n=\"count(*)\")"
   ]
  },
  {
   "cell_type": "code",
   "execution_count": null,
   "metadata": {},
   "outputs": [],
   "source": [
    "dj.U(\"segment_id\")"
   ]
  },
  {
   "cell_type": "markdown",
   "metadata": {},
   "source": [
    "# Getting the Errors"
   ]
  },
  {
   "cell_type": "code",
   "execution_count": null,
   "metadata": {},
   "outputs": [],
   "source": [
    "\"\"\"\n",
    "Notes on Error: the decompression error was usually from SIGTERM signal\n",
    "\n",
    "\n",
    "\"\"\""
   ]
  },
  {
   "cell_type": "code",
   "execution_count": null,
   "metadata": {},
   "outputs": [],
   "source": []
  },
  {
   "cell_type": "code",
   "execution_count": 51,
   "metadata": {},
   "outputs": [
    {
     "data": {
      "text/plain": [
       "array(['', 'Exception: Number of Error Limbs was greater than 1: 1',\n",
       "       'Exception: Number of Somas was greater than 1: 2',\n",
       "       'IndexError: index 1 is out of bounds for axis 0 with size 1',\n",
       "       'IndexError: index 2 is out of bounds for axis 0 with size 1',\n",
       "       'IndexError: index 2 is out of bounds for axis 0 with size 2'],\n",
       "      dtype=object)"
      ]
     },
     "execution_count": 51,
     "metadata": {},
     "output_type": "execute_result"
    }
   ],
   "source": [
    "err_table = (schema.jobs & \"table_name='__auto_proofread_neurons'\")\n",
    "err_messages = (err_table).fetch(\"error_message\")\n",
    "unique_errors,unique_counts = np.unique(err_messages,return_counts=True)\n",
    "high_frequency_errors = np.where(unique_counts>20)[0]\n",
    "unique_errors[high_frequency_errors]"
   ]
  },
  {
   "cell_type": "code",
   "execution_count": 46,
   "metadata": {},
   "outputs": [
    {
     "name": "stdout",
     "output_type": "stream",
     "text": [
      "Found 0 matching entries with substring DataJointError: Attempt to insert rows with different fields\n"
     ]
    },
    {
     "data": {
      "text/html": [
       "\n",
       "        \n",
       "        <style type=\"text/css\">\n",
       "            .Relation{\n",
       "                border-collapse:collapse;\n",
       "            }\n",
       "            .Relation th{\n",
       "                background: #A0A0A0; color: #ffffff; padding:4px; border:#f0e0e0 1px solid;\n",
       "                font-weight: normal; font-family: monospace; font-size: 100%;\n",
       "            }\n",
       "            .Relation td{\n",
       "                padding:4px; border:#f0e0e0 1px solid; font-size:100%;\n",
       "            }\n",
       "            .Relation tr:nth-child(odd){\n",
       "                background: #ffffff;\n",
       "            }\n",
       "            .Relation tr:nth-child(even){\n",
       "                background: #f3f1ff;\n",
       "            }\n",
       "            /* Tooltip container */\n",
       "            .djtooltip {\n",
       "            }\n",
       "            /* Tooltip text */\n",
       "            .djtooltip .djtooltiptext {\n",
       "                visibility: hidden;\n",
       "                width: 120px;\n",
       "                background-color: black;\n",
       "                color: #fff;\n",
       "                text-align: center;\n",
       "                padding: 5px 0;\n",
       "                border-radius: 6px;\n",
       "                /* Position the tooltip text - see examples below! */\n",
       "                position: absolute;\n",
       "                z-index: 1;\n",
       "            }\n",
       "            #primary {\n",
       "                font-weight: bold;\n",
       "                color: black;\n",
       "            }\n",
       "\n",
       "            #nonprimary {\n",
       "                font-weight: normal;\n",
       "                color: white;\n",
       "            }\n",
       "\n",
       "            /* Show the tooltip text when you mouse over the tooltip container */\n",
       "            .djtooltip:hover .djtooltiptext {\n",
       "                visibility: visible;\n",
       "            }\n",
       "        </style>\n",
       "        \n",
       "        <b>job reservation table for `microns_minnie65_02`</b>\n",
       "            <div style=\"max-height:1000px;max-width:1500px;overflow:auto;\">\n",
       "            <table border=\"1\" class=\"Relation\">\n",
       "                <thead> <tr style=\"text-align: right;\"> <th> <div class=\"djtooltip\">\n",
       "                                <p id=\"primary\">table_name</p>\n",
       "                                <span class=\"djtooltiptext\">className of the table</span>\n",
       "                            </div></th><th><div class=\"djtooltip\">\n",
       "                                <p id=\"primary\">key_hash</p>\n",
       "                                <span class=\"djtooltiptext\">key hash</span>\n",
       "                            </div></th><th><div class=\"djtooltip\">\n",
       "                                <p id=\"nonprimary\">status</p>\n",
       "                                <span class=\"djtooltiptext\">if tuple is missing, the job is available</span>\n",
       "                            </div></th><th><div class=\"djtooltip\">\n",
       "                                <p id=\"nonprimary\">key</p>\n",
       "                                <span class=\"djtooltiptext\">structure containing the key</span>\n",
       "                            </div></th><th><div class=\"djtooltip\">\n",
       "                                <p id=\"nonprimary\">error_message</p>\n",
       "                                <span class=\"djtooltiptext\">error message returned if failed</span>\n",
       "                            </div></th><th><div class=\"djtooltip\">\n",
       "                                <p id=\"nonprimary\">error_stack</p>\n",
       "                                <span class=\"djtooltiptext\">error stack if failed</span>\n",
       "                            </div></th><th><div class=\"djtooltip\">\n",
       "                                <p id=\"nonprimary\">user</p>\n",
       "                                <span class=\"djtooltiptext\">database user</span>\n",
       "                            </div></th><th><div class=\"djtooltip\">\n",
       "                                <p id=\"nonprimary\">host</p>\n",
       "                                <span class=\"djtooltiptext\">system hostname</span>\n",
       "                            </div></th><th><div class=\"djtooltip\">\n",
       "                                <p id=\"nonprimary\">pid</p>\n",
       "                                <span class=\"djtooltiptext\">system process id</span>\n",
       "                            </div></th><th><div class=\"djtooltip\">\n",
       "                                <p id=\"nonprimary\">connection_id</p>\n",
       "                                <span class=\"djtooltiptext\">connection_id()</span>\n",
       "                            </div></th><th><div class=\"djtooltip\">\n",
       "                                <p id=\"nonprimary\">timestamp</p>\n",
       "                                <span class=\"djtooltiptext\">automatic timestamp</span>\n",
       "                            </div> </th> </tr> </thead>\n",
       "                <tbody> <tr>  </tr> </tbody>\n",
       "            </table>\n",
       "            \n",
       "            <p>Total: 0</p></div>\n",
       "            "
      ],
      "text/plain": [
       "*table_name    *key_hash    status     key        error_message  error_stac user     host     pid     connection_id  timestamp    \n",
       "+------------+ +----------+ +--------+ +--------+ +------------+ +--------+ +------+ +------+ +-----+ +------------+ +-----------+\n",
       "\n",
       " (Total: 0)"
      ]
     },
     "execution_count": 46,
     "metadata": {},
     "output_type": "execute_result"
    }
   ],
   "source": [
    "new_table = du.restrict_jobs_table_by_error_substring(err_table,\n",
    "                                         message_in_error=\"DataJointError: Attempt to insert rows with different fields\")\n",
    "new_table"
   ]
  },
  {
   "cell_type": "code",
   "execution_count": 50,
   "metadata": {},
   "outputs": [
    {
     "data": {
      "text/plain": [
       "77728"
      ]
     },
     "execution_count": 50,
     "metadata": {},
     "output_type": "execute_result"
    }
   ],
   "source": [
    "len(minnie.AutoProofreadNeurons())"
   ]
  },
  {
   "cell_type": "code",
   "execution_count": 26,
   "metadata": {},
   "outputs": [
    {
     "data": {
      "text/html": [
       "\n",
       "        \n",
       "        <style type=\"text/css\">\n",
       "            .Relation{\n",
       "                border-collapse:collapse;\n",
       "            }\n",
       "            .Relation th{\n",
       "                background: #A0A0A0; color: #ffffff; padding:4px; border:#f0e0e0 1px solid;\n",
       "                font-weight: normal; font-family: monospace; font-size: 100%;\n",
       "            }\n",
       "            .Relation td{\n",
       "                padding:4px; border:#f0e0e0 1px solid; font-size:100%;\n",
       "            }\n",
       "            .Relation tr:nth-child(odd){\n",
       "                background: #ffffff;\n",
       "            }\n",
       "            .Relation tr:nth-child(even){\n",
       "                background: #f3f1ff;\n",
       "            }\n",
       "            /* Tooltip container */\n",
       "            .djtooltip {\n",
       "            }\n",
       "            /* Tooltip text */\n",
       "            .djtooltip .djtooltiptext {\n",
       "                visibility: hidden;\n",
       "                width: 120px;\n",
       "                background-color: black;\n",
       "                color: #fff;\n",
       "                text-align: center;\n",
       "                padding: 5px 0;\n",
       "                border-radius: 6px;\n",
       "                /* Position the tooltip text - see examples below! */\n",
       "                position: absolute;\n",
       "                z-index: 1;\n",
       "            }\n",
       "            #primary {\n",
       "                font-weight: bold;\n",
       "                color: black;\n",
       "            }\n",
       "\n",
       "            #nonprimary {\n",
       "                font-weight: normal;\n",
       "                color: white;\n",
       "            }\n",
       "\n",
       "            /* Show the tooltip text when you mouse over the tooltip container */\n",
       "            .djtooltip:hover .djtooltiptext {\n",
       "                visibility: visible;\n",
       "            }\n",
       "        </style>\n",
       "        \n",
       "        <b>job reservation table for `microns_minnie65_02`</b>\n",
       "            <div style=\"max-height:1000px;max-width:1500px;overflow:auto;\">\n",
       "            <table border=\"1\" class=\"Relation\">\n",
       "                <thead> <tr style=\"text-align: right;\"> <th> <div class=\"djtooltip\">\n",
       "                                <p id=\"primary\">table_name</p>\n",
       "                                <span class=\"djtooltiptext\">className of the table</span>\n",
       "                            </div></th><th><div class=\"djtooltip\">\n",
       "                                <p id=\"primary\">key_hash</p>\n",
       "                                <span class=\"djtooltiptext\">key hash</span>\n",
       "                            </div></th><th><div class=\"djtooltip\">\n",
       "                                <p id=\"nonprimary\">status</p>\n",
       "                                <span class=\"djtooltiptext\">if tuple is missing, the job is available</span>\n",
       "                            </div></th><th><div class=\"djtooltip\">\n",
       "                                <p id=\"nonprimary\">key</p>\n",
       "                                <span class=\"djtooltiptext\">structure containing the key</span>\n",
       "                            </div></th><th><div class=\"djtooltip\">\n",
       "                                <p id=\"nonprimary\">error_message</p>\n",
       "                                <span class=\"djtooltiptext\">error message returned if failed</span>\n",
       "                            </div></th><th><div class=\"djtooltip\">\n",
       "                                <p id=\"nonprimary\">error_stack</p>\n",
       "                                <span class=\"djtooltiptext\">error stack if failed</span>\n",
       "                            </div></th><th><div class=\"djtooltip\">\n",
       "                                <p id=\"nonprimary\">user</p>\n",
       "                                <span class=\"djtooltiptext\">database user</span>\n",
       "                            </div></th><th><div class=\"djtooltip\">\n",
       "                                <p id=\"nonprimary\">host</p>\n",
       "                                <span class=\"djtooltiptext\">system hostname</span>\n",
       "                            </div></th><th><div class=\"djtooltip\">\n",
       "                                <p id=\"nonprimary\">pid</p>\n",
       "                                <span class=\"djtooltiptext\">system process id</span>\n",
       "                            </div></th><th><div class=\"djtooltip\">\n",
       "                                <p id=\"nonprimary\">connection_id</p>\n",
       "                                <span class=\"djtooltiptext\">connection_id()</span>\n",
       "                            </div></th><th><div class=\"djtooltip\">\n",
       "                                <p id=\"nonprimary\">timestamp</p>\n",
       "                                <span class=\"djtooltiptext\">automatic timestamp</span>\n",
       "                            </div> </th> </tr> </thead>\n",
       "                <tbody> <tr> <td>__auto_proofread_neurons</td>\n",
       "<td>0171028a1fd889dec937f482e1e88b28</td>\n",
       "<td>error</td>\n",
       "<td>=BLOB=</td>\n",
       "<td>KeyError: 'skeletal_length'</td>\n",
       "<td>=BLOB=</td>\n",
       "<td>celiib@10.66.4.64</td>\n",
       "<td>jr-compute001</td>\n",
       "<td>1</td>\n",
       "<td>118581</td>\n",
       "<td>2021-02-05 00:31:27</td> </tr> </tbody>\n",
       "            </table>\n",
       "            \n",
       "            <p>Total: 1</p></div>\n",
       "            "
      ],
      "text/plain": [
       "*table_name    *key_hash      status     key        error_message  error_stac user           host           pid     connection_id  timestamp     \n",
       "+------------+ +------------+ +--------+ +--------+ +------------+ +--------+ +------------+ +------------+ +-----+ +------------+ +------------+\n",
       "__auto_proofre 0171028a1fd889 error      =BLOB=     KeyError: 'ske =BLOB=     celiib@10.66.4 jr-compute001  1       118581         2021-02-05 00:\n",
       " (Total: 1)"
      ]
     },
     "execution_count": 26,
     "metadata": {},
     "output_type": "execute_result"
    }
   ],
   "source": [
    "specific_error = (err_table & \"key_hash='0171028a1fd889dec937f482e1e88b28'\")\n",
    "specific_error"
   ]
  },
  {
   "cell_type": "code",
   "execution_count": 27,
   "metadata": {},
   "outputs": [
    {
     "name": "stdout",
     "output_type": "stream",
     "text": [
      "Traceback (most recent call last):\n",
      "  File \"/usr/local/lib/python3.6/dist-packages/pandas/core/indexes/base.py\", line 2646, in get_loc\n",
      "    return self._engine.get_loc(key)\n",
      "  File \"pandas/_libs/index.pyx\", line 111, in pandas._libs.index.IndexEngine.get_loc\n",
      "  File \"pandas/_libs/index.pyx\", line 138, in pandas._libs.index.IndexEngine.get_loc\n",
      "  File \"pandas/_libs/hashtable_class_helper.pxi\", line 1619, in pandas._libs.hashtable.PyObjectHashTable.get_item\n",
      "  File \"pandas/_libs/hashtable_class_helper.pxi\", line 1627, in pandas._libs.hashtable.PyObjectHashTable.get_item\n",
      "KeyError: 'skeletal_length'\n",
      "\n",
      "During handling of the above exception, another exception occurred:\n",
      "\n",
      "Traceback (most recent call last):\n",
      "  File \"/usr/local/lib/python3.6/dist-packages/datajoint/autopopulate.py\", line 159, in populate\n",
      "    make(dict(key))\n",
      "  File \"Run_9_AutoProofreadNeurons.py\", line 408, in make\n",
      "    verbose=False)\n",
      "  File \"/meshAfterParty/proofreading_utils.py\", line 3591, in proofread_neuron\n",
      "    verbose=verbose)\n",
      "  File \"/meshAfterParty/classification_utils.py\", line 1495, in inhibitory_excitatory_classifier\n",
      "    **kwargs)\n",
      "  File \"/meshAfterParty/classification_utils.py\", line 1451, in spine_level_classifier\n",
      "    **kwargs)\n",
      "  File \"/meshAfterParty/neuron_utils.py\", line 3977, in neuron_spine_density\n",
      "    total_skeletal_length_in_search_radius = np.sum(total_branches_in_search_radius[\"skeletal_length\"].to_numpy())\n",
      "  File \"/usr/local/lib/python3.6/dist-packages/pandas/core/frame.py\", line 2800, in __getitem__\n",
      "    indexer = self.columns.get_loc(key)\n",
      "  File \"/usr/local/lib/python3.6/dist-packages/pandas/core/indexes/base.py\", line 2648, in get_loc\n",
      "    return self._engine.get_loc(self._maybe_cast_indexer(key))\n",
      "  File \"pandas/_libs/index.pyx\", line 111, in pandas._libs.index.IndexEngine.get_loc\n",
      "  File \"pandas/_libs/index.pyx\", line 138, in pandas._libs.index.IndexEngine.get_loc\n",
      "  File \"pandas/_libs/hashtable_class_helper.pxi\", line 1619, in pandas._libs.hashtable.PyObjectHashTable.get_item\n",
      "  File \"pandas/_libs/hashtable_class_helper.pxi\", line 1627, in pandas._libs.hashtable.PyObjectHashTable.get_item\n",
      "KeyError: 'skeletal_length'\n",
      "\n"
     ]
    }
   ],
   "source": [
    "print(specific_error.fetch1(\"error_stack\"))"
   ]
  },
  {
   "cell_type": "code",
   "execution_count": 28,
   "metadata": {},
   "outputs": [
    {
     "name": "stdout",
     "output_type": "stream",
     "text": [
      "{'segment_id': 864691135651861970, 'decimation_version': 0, 'decimation_ratio': Decimal('0.25'), 'ver': Decimal('30.00'), 'process_version': 5, 'index': 0}\n"
     ]
    }
   ],
   "source": [
    "print(specific_error.fetch1(\"key\"))"
   ]
  },
  {
   "cell_type": "code",
   "execution_count": 29,
   "metadata": {},
   "outputs": [],
   "source": [
    "specific_error.delete()"
   ]
  },
  {
   "cell_type": "code",
   "execution_count": null,
   "metadata": {},
   "outputs": [],
   "source": []
  },
  {
   "cell_type": "code",
   "execution_count": null,
   "metadata": {},
   "outputs": [],
   "source": []
  },
  {
   "cell_type": "code",
   "execution_count": null,
   "metadata": {},
   "outputs": [],
   "source": [
    "minnie.SpineRecalculation() & dict(segment_id=864691135864722652)"
   ]
  },
  {
   "cell_type": "markdown",
   "metadata": {},
   "source": [
    "# Getting the Connectome"
   ]
  },
  {
   "cell_type": "code",
   "execution_count": null,
   "metadata": {},
   "outputs": [],
   "source": [
    "minnie.ProofreadStats() & (minnie.AutoProofreadNeurons() & \"cell_type_predicted='inhibitory'\").proj() & \"axon_on_dendrite_merges_error_area>=0\""
   ]
  },
  {
   "cell_type": "code",
   "execution_count": null,
   "metadata": {},
   "outputs": [],
   "source": [
    "minnie.SynapseProofread()"
   ]
  },
  {
   "cell_type": "code",
   "execution_count": null,
   "metadata": {},
   "outputs": [],
   "source": [
    "# Fetching all of the data"
   ]
  },
  {
   "cell_type": "code",
   "execution_count": null,
   "metadata": {},
   "outputs": [],
   "source": [
    "synapse_data = minnie.SynapseProofread.fetch(as_dict=True)\n",
    "synapse_data_df = pd.DataFrame.from_dict(synapse_data)\n",
    "synapse_data_df"
   ]
  },
  {
   "cell_type": "code",
   "execution_count": null,
   "metadata": {},
   "outputs": [],
   "source": [
    "uniq_synapse_ids,unique_synapse_indexes,inverse_indices,synapse_id_counts = np.unique(synapse_data_df[\"synapse_id\"].to_numpy(),\n",
    "                           return_index=True,\n",
    "                           return_inverse=True,\n",
    "                            return_counts=True)"
   ]
  },
  {
   "cell_type": "code",
   "execution_count": null,
   "metadata": {},
   "outputs": [],
   "source": [
    "direct_connection_synapse_idx = np.where(synapse_id_counts==2)[0]\n",
    "direct_connection_synapse_mask = np.zeros(len(synapse_id_counts))\n",
    "direct_connection_synapse_mask[direct_connection_synapse_idx] = 1\n",
    "direct_connection_synapse_mask = direct_connection_synapse_mask.astype(\"bool\")\n",
    "row_filter = direct_connection_synapse_mask[inverse_indices]\n",
    "\n",
    "direct_connections_df = synapse_data_df.iloc[row_filter]\n",
    "direct_connections_df"
   ]
  },
  {
   "cell_type": "code",
   "execution_count": null,
   "metadata": {
    "scrolled": true
   },
   "outputs": [],
   "source": [
    "# Combining the table's presyns and postsyns onto the same row\n",
    "\n",
    "df_tables = []\n",
    "for synapse_type in [\"presyn\",\"postsyn\"]:\n",
    "    direct_connections_df_init = direct_connections_df[direct_connections_df[\"synapse_type\"]==synapse_type]\n",
    "    \n",
    "    direct_connections_df_init_sorted = direct_connections_df_init.sort_values(by=['synapse_id']).reset_index(drop=True)\n",
    "    \n",
    "    direct_connections_df_presyn = direct_connections_df_init_sorted[[k for k in direct_connections_df_init_sorted.columns if k != \"synapse_type\"] ]\n",
    "    \n",
    "    #column_mapper = dict([(k,f\"{k}_{synapse_type}\") if k != \"synapse_id\"  else (k,k) for k in direct_connections_df_presyn.columns])\n",
    "    column_mapper = dict([(k,f\"{synapse_type}_{k}\") for k in direct_connections_df_presyn.columns])\n",
    "\n",
    "    presyn_df = direct_connections_df_presyn.rename(columns=column_mapper)\n",
    "    df_tables.append(presyn_df)\n",
    "    \n",
    "direct_conn_df = pd.concat(df_tables,axis=1)\n",
    "direct_conn_df"
   ]
  },
  {
   "cell_type": "code",
   "execution_count": null,
   "metadata": {},
   "outputs": [],
   "source": [
    "edges_df = direct_conn_df[[\"presyn_nucleus_id\",\"postsyn_nucleus_id\"]]\n",
    "connectome_edges = edges_df.to_numpy()\n",
    "connectome_edges"
   ]
  },
  {
   "cell_type": "markdown",
   "metadata": {},
   "source": [
    "# Preliminary Look at the Graph"
   ]
  },
  {
   "cell_type": "code",
   "execution_count": null,
   "metadata": {},
   "outputs": [],
   "source": [
    "import networkx as nx"
   ]
  },
  {
   "cell_type": "code",
   "execution_count": null,
   "metadata": {},
   "outputs": [],
   "source": [
    "G = nx.MultiDiGraph()\n",
    "G.add_edges_from(connectome_edges)\n",
    "len(G.nodes()),len(G.edges())"
   ]
  },
  {
   "cell_type": "code",
   "execution_count": null,
   "metadata": {},
   "outputs": [],
   "source": [
    "#For connected components cannot be a directed graph\n",
    "G_undirected = nx.Graph(G)\n",
    "\n",
    "n_components = nx.number_connected_components(G_undirected)\n",
    "print(f\"Number of connected components = {n_components}\")\n",
    "\n",
    "# The Sizes of the components in the graph\n",
    "conn_comp = list(nx.connected_components(G_undirected))\n",
    "conn_comp_size = [len(k) for k in conn_comp]\n",
    "print(f\"conn_comp_size = {conn_comp_size}\")"
   ]
  },
  {
   "cell_type": "code",
   "execution_count": null,
   "metadata": {},
   "outputs": [],
   "source": [
    "fig,ax = plt.subplots(1,1)\n",
    "ax.hist(conn_comp_size)\n",
    "ax.set_title(\"Number of Neurons in Connected Components\")\n",
    "ax.set_xlabel(\"Number of Neurons\")\n",
    "plt.show()"
   ]
  },
  {
   "cell_type": "markdown",
   "metadata": {},
   "source": [
    "# Selecting the largest component"
   ]
  },
  {
   "cell_type": "code",
   "execution_count": null,
   "metadata": {},
   "outputs": [],
   "source": [
    "G_largest = G.subgraph(conn_comp[0])\n",
    "node_names_largest_comp = np.array(G_largest.nodes())\n",
    "node_names_largest_comp.shape"
   ]
  },
  {
   "cell_type": "markdown",
   "metadata": {},
   "source": [
    "# Degree Distribution"
   ]
  },
  {
   "cell_type": "code",
   "execution_count": null,
   "metadata": {},
   "outputs": [],
   "source": [
    "undirectional_graph = nx.Graph(G_largest)\n",
    "no_selflooped_graph = xu.remove_selfloops(undirectional_graph)\n",
    "no_selflooped_graph"
   ]
  },
  {
   "cell_type": "code",
   "execution_count": null,
   "metadata": {},
   "outputs": [],
   "source": [
    "degree_distribution = np.array(xu.get_node_degree(no_selflooped_graph,node_names_largest_comp))\n",
    "degree_distribution_filtered = degree_distribution[degree_distribution<np.percentile(degree_distribution,99.5)]"
   ]
  },
  {
   "cell_type": "code",
   "execution_count": null,
   "metadata": {},
   "outputs": [],
   "source": [
    "print(f\"Average Degree of Node: {np.mean(degree_distribution_filtered)}\")"
   ]
  },
  {
   "cell_type": "code",
   "execution_count": null,
   "metadata": {},
   "outputs": [],
   "source": [
    "fig,ax = plt.subplots(1,1)\n",
    "ax.hist(degree_distribution_filtered,bins=50,density=True)\n",
    "ax.set_title(\"Degree Distribution of Neurons \\n Unique Edges, No Self Loops\")\n",
    "ax.set_xlabel(\"Degree of Neuron\")\n",
    "ax.set_ylabel(\"Density\")\n",
    "plt.show()"
   ]
  },
  {
   "cell_type": "code",
   "execution_count": null,
   "metadata": {},
   "outputs": [],
   "source": [
    "fig,ax = plt.subplots(1,1)\n",
    "ax.hist(degree_distribution_filtered,bins=50,density=False)\n",
    "ax.set_title(\"Degree Distribution of Neurons \\n Unique Edges, No Self Loops\")\n",
    "ax.set_xlabel(\"Degree of Neuron\")\n",
    "ax.set_ylabel(\"Count\")\n",
    "ax.set_yscale(\"log\")\n",
    "plt.show()"
   ]
  },
  {
   "cell_type": "code",
   "execution_count": null,
   "metadata": {},
   "outputs": [],
   "source": []
  },
  {
   "cell_type": "code",
   "execution_count": null,
   "metadata": {},
   "outputs": [],
   "source": []
  },
  {
   "cell_type": "code",
   "execution_count": null,
   "metadata": {},
   "outputs": [],
   "source": []
  },
  {
   "cell_type": "code",
   "execution_count": null,
   "metadata": {},
   "outputs": [],
   "source": []
  },
  {
   "cell_type": "code",
   "execution_count": null,
   "metadata": {},
   "outputs": [],
   "source": []
  },
  {
   "cell_type": "code",
   "execution_count": null,
   "metadata": {},
   "outputs": [],
   "source": []
  },
  {
   "cell_type": "markdown",
   "metadata": {},
   "source": [
    "# Further Graph Analysis"
   ]
  },
  {
   "cell_type": "code",
   "execution_count": null,
   "metadata": {},
   "outputs": [],
   "source": [
    "#this can take a little bit to compute\n",
    "nx.average_shortest_path_length(G_largest)"
   ]
  },
  {
   "cell_type": "markdown",
   "metadata": {},
   "source": [
    "# OLD Datajoint Way of Processing"
   ]
  },
  {
   "cell_type": "code",
   "execution_count": null,
   "metadata": {},
   "outputs": [],
   "source": [
    "\"\"\" OLD Datajoint Way\n",
    "\n",
    "presyn_table = minnie.SynapseProofread & \"synapse_type='presyn'\"\n",
    "postsyn_table = minnie.SynapseProofread & \"synapse_type='postsyn'\"\n",
    "presyn_table_renamed = presyn_table.proj(presyn=\"segment_id\",\n",
    "                                         presyn_split_index = \"split_index\",\n",
    "                                         presyn_nucleus=\"nucleus_id\",\n",
    "                                         presyn_label=\"synapse_type\")\n",
    "\n",
    "postsyn_table_renamed = postsyn_table.proj(postsyn=\"segment_id\",\n",
    "                                           postsyn_split_index=\"split_index\",\n",
    "                                            postsyn_nucleus=\"nucleus_id\",\n",
    "                                           postsyn_label=\"synapse_type\")\n",
    "\n",
    "direct_conn_with_labels = presyn_table_renamed * postsyn_table_renamed\n",
    "direct_conn_with_labels\n",
    "\n",
    "import time\n",
    "st_time = time.time()\n",
    "direct_conn_data_without_sizes = direct_conn_with_labels.fetch(as_dict=True)\n",
    "print(f\"Total time for fetch = {time.time() - st_time}\")\n",
    "\n",
    "import datajoint as dj\n",
    "just_synapses_id_and_size = dj.U(\"synapse_id\",\"synapse_size\") & du.m65mat.NucleusSynapse.proj(\"synapse_size\")\n",
    "\n",
    "# want to get the synapse table as well\n",
    "direct_conn_with_labels_and_sizes = just_synapses_id_and_size * direct_conn_with_labels\n",
    "direct_conn_with_labels_and_sizes\n",
    "\n",
    "import time\n",
    "st_time = time.time()\n",
    "direct_conn_data = direct_conn_with_labels_and_sizes.fetch(as_dict=True)\n",
    "print(f\"Total time for fetch = {time.time() - st_time}\")\n",
    "\n",
    "import pandas as pd\n",
    "direct_conn_df = pd.DataFrame.from_dict(direct_conn_data)\n",
    "\"\"\""
   ]
  },
  {
   "cell_type": "code",
   "execution_count": null,
   "metadata": {},
   "outputs": [],
   "source": []
  },
  {
   "cell_type": "code",
   "execution_count": null,
   "metadata": {},
   "outputs": [],
   "source": [
    "(1/3)**-2"
   ]
  },
  {
   "cell_type": "code",
   "execution_count": null,
   "metadata": {},
   "outputs": [],
   "source": []
  },
  {
   "cell_type": "code",
   "execution_count": null,
   "metadata": {},
   "outputs": [],
   "source": []
  }
 ],
 "metadata": {
  "kernelspec": {
   "display_name": "Python 3",
   "language": "python",
   "name": "python3"
  },
  "language_info": {
   "codemirror_mode": {
    "name": "ipython",
    "version": 3
   },
   "file_extension": ".py",
   "mimetype": "text/x-python",
   "name": "python",
   "nbconvert_exporter": "python",
   "pygments_lexer": "ipython3",
   "version": "3.6.9"
  }
 },
 "nbformat": 4,
 "nbformat_minor": 4
}
