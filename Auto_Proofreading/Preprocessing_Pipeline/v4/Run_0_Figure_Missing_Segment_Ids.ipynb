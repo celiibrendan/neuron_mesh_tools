{
 "cells": [
  {
   "cell_type": "code",
   "execution_count": 1,
   "metadata": {},
   "outputs": [],
   "source": [
    "%load_ext autoreload\n",
    "%autoreload 2"
   ]
  },
  {
   "cell_type": "code",
   "execution_count": 2,
   "metadata": {},
   "outputs": [
    {
     "name": "stderr",
     "output_type": "stream",
     "text": [
      "INFO - 2021-05-05 03:40:32,567 - settings - Setting database.host to at-database.ad.bcm.edu\n",
      "INFO - 2021-05-05 03:40:32,569 - settings - Setting database.user to celiib\n",
      "INFO - 2021-05-05 03:40:32,570 - settings - Setting database.password to newceliipass\n",
      "INFO - 2021-05-05 03:40:32,574 - settings - Setting stores to {'minnie65': {'protocol': 'file', 'location': '/mnt/dj-stor01/platinum/minnie65', 'stage': '/mnt/dj-stor01/platinum/minnie65'}, 'meshes': {'protocol': 'file', 'location': '/mnt/dj-stor01/platinum/minnie65/02/meshes', 'stage': '/mnt/dj-stor01/platinum/minnie65/02/meshes'}, 'decimated_meshes': {'protocol': 'file', 'location': '/mnt/dj-stor01/platinum/minnie65/02/decimated_meshes', 'stage': '/mnt/dj-stor01/platinum/minnie65/02/decimated_meshes'}, 'skeletons': {'protocol': 'file', 'location': '/mnt/dj-stor01/platinum/minnie65/02/skeletons'}}\n",
      "INFO - 2021-05-05 03:40:32,575 - settings - Setting enable_python_native_blobs to True\n"
     ]
    },
    {
     "name": "stdout",
     "output_type": "stream",
     "text": [
      "Connecting celiib@at-database.ad.bcm.edu:3306\n"
     ]
    },
    {
     "name": "stderr",
     "output_type": "stream",
     "text": [
      "INFO - 2021-05-05 03:40:42,518 - connection - Connected celiib@at-database.ad.bcm.edu:3306\n",
      "INFO - 2021-05-05 03:40:42,952 - settings - Setting enable_python_native_blobs to True\n",
      "INFO - 2021-05-05 03:40:42,957 - settings - Setting database.host to at-database.ad.bcm.edu\n",
      "INFO - 2021-05-05 03:40:42,958 - settings - Setting database.user to celiib\n",
      "INFO - 2021-05-05 03:40:42,959 - settings - Setting database.password to newceliipass\n",
      "INFO - 2021-05-05 03:40:42,960 - settings - Setting database.host to at-database.ad.bcm.edu\n",
      "INFO - 2021-05-05 03:40:42,960 - settings - Setting database.user to celiib\n",
      "INFO - 2021-05-05 03:40:42,961 - settings - Setting database.password to newceliipass\n",
      "INFO - 2021-05-05 03:40:42,964 - settings - Setting enable_python_native_blobs to True\n",
      "INFO - 2021-05-05 03:40:43,417 - settings - Setting enable_python_native_blobs to True\n"
     ]
    }
   ],
   "source": [
    "import numpy as np\n",
    "import datajoint as dj\n",
    "import trimesh\n",
    "from tqdm.notebook import tqdm\n",
    "from pathlib import Path\n",
    "\n",
    "from os import sys\n",
    "sys.path.append(\"/meshAfterParty/\")\n",
    "sys.path.append(\"/meshAfterParty/meshAfterParty\")\n",
    "\n",
    "import datajoint_utils as du\n",
    "from importlib import reload"
   ]
  },
  {
   "cell_type": "code",
   "execution_count": 4,
   "metadata": {},
   "outputs": [],
   "source": [
    "import datajoint as dj\n",
    "version = 88\n",
    "nucleus_table_ids = du.nucleus_info_table(version = 88) & \"segment_id>0\""
   ]
  },
  {
   "cell_type": "code",
   "execution_count": 6,
   "metadata": {},
   "outputs": [
    {
     "name": "stderr",
     "output_type": "stream",
     "text": [
      "INFO - 2021-05-05 03:43:04,043 - settings - Setting database.host to at-database.ad.bcm.edu\n",
      "INFO - 2021-05-05 03:43:04,044 - settings - Setting database.user to celiib\n",
      "INFO - 2021-05-05 03:43:04,045 - settings - Setting database.password to newceliipass\n",
      "INFO - 2021-05-05 03:43:04,050 - settings - Setting enable_python_native_blobs to True\n",
      "INFO - 2021-05-05 03:43:04,544 - settings - Setting enable_python_native_blobs to True\n"
     ]
    },
    {
     "data": {
      "text/html": [
       "\n",
       "        \n",
       "        <style type=\"text/css\">\n",
       "            .Relation{\n",
       "                border-collapse:collapse;\n",
       "            }\n",
       "            .Relation th{\n",
       "                background: #A0A0A0; color: #ffffff; padding:4px; border:#f0e0e0 1px solid;\n",
       "                font-weight: normal; font-family: monospace; font-size: 100%;\n",
       "            }\n",
       "            .Relation td{\n",
       "                padding:4px; border:#f0e0e0 1px solid; font-size:100%;\n",
       "            }\n",
       "            .Relation tr:nth-child(odd){\n",
       "                background: #ffffff;\n",
       "            }\n",
       "            .Relation tr:nth-child(even){\n",
       "                background: #f3f1ff;\n",
       "            }\n",
       "            /* Tooltip container */\n",
       "            .djtooltip {\n",
       "            }\n",
       "            /* Tooltip text */\n",
       "            .djtooltip .djtooltiptext {\n",
       "                visibility: hidden;\n",
       "                width: 120px;\n",
       "                background-color: black;\n",
       "                color: #fff;\n",
       "                text-align: center;\n",
       "                padding: 5px 0;\n",
       "                border-radius: 6px;\n",
       "                /* Position the tooltip text - see examples below! */\n",
       "                position: absolute;\n",
       "                z-index: 1;\n",
       "            }\n",
       "            #primary {\n",
       "                font-weight: bold;\n",
       "                color: black;\n",
       "            }\n",
       "\n",
       "            #nonprimary {\n",
       "                font-weight: normal;\n",
       "                color: white;\n",
       "            }\n",
       "\n",
       "            /* Show the tooltip text when you mouse over the tooltip container */\n",
       "            .djtooltip:hover .djtooltiptext {\n",
       "                visibility: visible;\n",
       "            }\n",
       "        </style>\n",
       "        \n",
       "        \n",
       "            <div style=\"max-height:1000px;max-width:1500px;overflow:auto;\">\n",
       "            <table border=\"1\" class=\"Relation\">\n",
       "                <thead> <tr style=\"text-align: right;\"> <th> <div class=\"djtooltip\">\n",
       "                                <p id=\"primary\">ver</p>\n",
       "                                <span class=\"djtooltiptext\">materialization version</span>\n",
       "                            </div></th><th><div class=\"djtooltip\">\n",
       "                                <p id=\"primary\">nucleus_id</p>\n",
       "                                <span class=\"djtooltiptext\">id of nucleus from the flat segmentation  Equivalent to Allen: 'id'.</span>\n",
       "                            </div></th><th><div class=\"djtooltip\">\n",
       "                                <p id=\"primary\">segment_id</p>\n",
       "                                <span class=\"djtooltiptext\">id of the segment under the nucleus centroid. Equivalent to Allen 'pt_root_id'.</span>\n",
       "                            </div> </th> </tr> </thead>\n",
       "                <tbody> <tr> <td>30.00</td>\n",
       "<td>106167</td>\n",
       "<td>864691135474826048</td></tr><tr><td>30.00</td>\n",
       "<td>107147</td>\n",
       "<td>864691135583738232</td></tr><tr><td>30.00</td>\n",
       "<td>108904</td>\n",
       "<td>864691135474826048</td></tr><tr><td>30.00</td>\n",
       "<td>108927</td>\n",
       "<td>864691135474826048</td></tr><tr><td>30.00</td>\n",
       "<td>108931</td>\n",
       "<td>864691135474826048</td></tr><tr><td>30.00</td>\n",
       "<td>109541</td>\n",
       "<td>864691135467600524</td></tr><tr><td>30.00</td>\n",
       "<td>113215</td>\n",
       "<td>864691135918361264</td></tr><tr><td>30.00</td>\n",
       "<td>113334</td>\n",
       "<td>864691135918361264</td></tr><tr><td>30.00</td>\n",
       "<td>114505</td>\n",
       "<td>864691135382997227</td></tr><tr><td>30.00</td>\n",
       "<td>114507</td>\n",
       "<td>864691135382997227</td></tr><tr><td>30.00</td>\n",
       "<td>115938</td>\n",
       "<td>864691135491247711</td></tr><tr><td>30.00</td>\n",
       "<td>116395</td>\n",
       "<td>864691135132690080</td> </tr> </tbody>\n",
       "            </table>\n",
       "            <p>...</p>\n",
       "            <p>Total: 1248</p></div>\n",
       "            "
      ],
      "text/plain": [
       "*ver      *nucleus_id    *segment_id   \n",
       "+-------+ +------------+ +------------+\n",
       "30.00     106167         86469113547482\n",
       "30.00     107147         86469113558373\n",
       "30.00     108904         86469113547482\n",
       "30.00     108927         86469113547482\n",
       "30.00     108931         86469113547482\n",
       "30.00     109541         86469113546760\n",
       "30.00     113215         86469113591836\n",
       "30.00     113334         86469113591836\n",
       "30.00     114505         86469113538299\n",
       "30.00     114507         86469113538299\n",
       "30.00     115938         86469113549124\n",
       "30.00     116395         86469113513269\n",
       "   ...\n",
       " (Total: 1248)"
      ]
     },
     "execution_count": 6,
     "metadata": {},
     "output_type": "execute_result"
    }
   ],
   "source": [
    "minnie, _ = du.configure_minnie_vm()\n",
    "changed_ids = nucleus_table_ids.proj() - minnie.Segment\n",
    "changed_ids"
   ]
  },
  {
   "cell_type": "code",
   "execution_count": 8,
   "metadata": {},
   "outputs": [
    {
     "data": {
      "text/plain": [
       "(1248,)"
      ]
     },
     "execution_count": 8,
     "metadata": {},
     "output_type": "execute_result"
    }
   ],
   "source": [
    "need_to_download_mesh_ids = changed_ids.fetch(\"segment_id\")\n",
    "need_to_download_mesh_ids.shape"
   ]
  },
  {
   "cell_type": "code",
   "execution_count": 9,
   "metadata": {},
   "outputs": [],
   "source": [
    "import numpy as np\n",
    "np.savez(\"v88_mesh_ids_to_download.npz\",segment_ids=need_to_download_mesh_ids)"
   ]
  },
  {
   "cell_type": "code",
   "execution_count": 10,
   "metadata": {},
   "outputs": [
    {
     "data": {
      "text/plain": [
       "array([864691135474826048, 864691135583738232, 864691135474826048, ...,\n",
       "       864691136118465560, 864691136123805734, 864691136123805734])"
      ]
     },
     "execution_count": 10,
     "metadata": {},
     "output_type": "execute_result"
    }
   ],
   "source": [
    "np.load(\"v88_mesh_ids_to_download.npz\",allow_pickle=True)[\"segment_ids\"]"
   ]
  },
  {
   "cell_type": "code",
   "execution_count": null,
   "metadata": {},
   "outputs": [],
   "source": []
  }
 ],
 "metadata": {
  "kernelspec": {
   "display_name": "Python 3",
   "language": "python",
   "name": "python3"
  },
  "language_info": {
   "codemirror_mode": {
    "name": "ipython",
    "version": 3
   },
   "file_extension": ".py",
   "mimetype": "text/x-python",
   "name": "python",
   "nbconvert_exporter": "python",
   "pygments_lexer": "ipython3",
   "version": "3.6.9"
  }
 },
 "nbformat": 4,
 "nbformat_minor": 4
}
