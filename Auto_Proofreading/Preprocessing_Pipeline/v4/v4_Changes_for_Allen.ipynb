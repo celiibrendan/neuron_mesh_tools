{
 "cells": [
  {
   "cell_type": "code",
   "execution_count": 1,
   "metadata": {},
   "outputs": [],
   "source": [
    "%load_ext autoreload\n",
    "%autoreload 2"
   ]
  },
  {
   "cell_type": "code",
   "execution_count": 2,
   "metadata": {},
   "outputs": [
    {
     "name": "stderr",
     "output_type": "stream",
     "text": [
      "INFO - 2021-05-10 05:54:07,314 - settings - Setting database.host to at-database.ad.bcm.edu\n",
      "INFO - 2021-05-10 05:54:07,317 - settings - Setting database.user to celiib\n",
      "INFO - 2021-05-10 05:54:07,318 - settings - Setting database.password to newceliipass\n",
      "INFO - 2021-05-10 05:54:07,322 - settings - Setting stores to {'minnie65': {'protocol': 'file', 'location': '/mnt/dj-stor01/platinum/minnie65', 'stage': '/mnt/dj-stor01/platinum/minnie65'}, 'meshes': {'protocol': 'file', 'location': '/mnt/dj-stor01/platinum/minnie65/02/meshes', 'stage': '/mnt/dj-stor01/platinum/minnie65/02/meshes'}, 'decimated_meshes': {'protocol': 'file', 'location': '/mnt/dj-stor01/platinum/minnie65/02/decimated_meshes', 'stage': '/mnt/dj-stor01/platinum/minnie65/02/decimated_meshes'}, 'skeletons': {'protocol': 'file', 'location': '/mnt/dj-stor01/platinum/minnie65/02/skeletons'}}\n",
      "INFO - 2021-05-10 05:54:07,324 - settings - Setting enable_python_native_blobs to True\n",
      "INFO - 2021-05-10 05:54:07,339 - connection - Connected celiib@at-database.ad.bcm.edu:3306\n"
     ]
    },
    {
     "name": "stdout",
     "output_type": "stream",
     "text": [
      "Connecting celiib@at-database.ad.bcm.edu:3306\n"
     ]
    },
    {
     "name": "stderr",
     "output_type": "stream",
     "text": [
      "INFO - 2021-05-10 05:54:07,757 - settings - Setting enable_python_native_blobs to True\n",
      "INFO - 2021-05-10 05:54:07,761 - settings - Setting database.host to at-database.ad.bcm.edu\n",
      "INFO - 2021-05-10 05:54:07,762 - settings - Setting database.user to celiib\n",
      "INFO - 2021-05-10 05:54:07,763 - settings - Setting database.password to newceliipass\n",
      "INFO - 2021-05-10 05:54:07,763 - settings - Setting database.host to at-database.ad.bcm.edu\n",
      "INFO - 2021-05-10 05:54:07,764 - settings - Setting database.user to celiib\n",
      "INFO - 2021-05-10 05:54:07,765 - settings - Setting database.password to newceliipass\n",
      "INFO - 2021-05-10 05:54:07,768 - settings - Setting enable_python_native_blobs to True\n",
      "INFO - 2021-05-10 05:54:08,220 - settings - Setting enable_python_native_blobs to True\n"
     ]
    }
   ],
   "source": [
    "import numpy as np\n",
    "import datajoint as dj\n",
    "import trimesh\n",
    "from tqdm.notebook import tqdm\n",
    "from pathlib import Path\n",
    "\n",
    "from os import sys\n",
    "sys.path.append(\"/meshAfterParty/\")\n",
    "sys.path.append(\"/meshAfterParty/meshAfterParty\")\n",
    "\n",
    "import datajoint_utils as du\n",
    "from importlib import reload"
   ]
  },
  {
   "cell_type": "code",
   "execution_count": 3,
   "metadata": {},
   "outputs": [
    {
     "name": "stderr",
     "output_type": "stream",
     "text": [
      "INFO - 2021-05-10 05:54:16,845 - settings - Setting database.host to at-database.ad.bcm.edu\n",
      "INFO - 2021-05-10 05:54:16,846 - settings - Setting database.user to celiib\n",
      "INFO - 2021-05-10 05:54:16,847 - settings - Setting database.password to newceliipass\n",
      "INFO - 2021-05-10 05:54:16,851 - settings - Setting enable_python_native_blobs to True\n",
      "INFO - 2021-05-10 05:54:17,330 - settings - Setting enable_python_native_blobs to True\n"
     ]
    }
   ],
   "source": [
    "#configuring will include the adapters\n",
    "minnie,schema = du.configure_minnie_vm()"
   ]
  },
  {
   "cell_type": "code",
   "execution_count": 4,
   "metadata": {},
   "outputs": [],
   "source": [
    "import neuron_visualizations as nviz\n",
    "import neuron_utils as nru\n",
    "import proofreading_utils as pru\n",
    "import time\n",
    "import system_utils as su\n",
    "import axon_utils as au\n",
    "import trimesh_utils as tu"
   ]
  },
  {
   "cell_type": "markdown",
   "metadata": {},
   "source": [
    "# Getting the limb branch dict"
   ]
  },
  {
   "cell_type": "code",
   "execution_count": 17,
   "metadata": {},
   "outputs": [
    {
     "data": {
      "text/html": [
       "\n",
       "        \n",
       "        <style type=\"text/css\">\n",
       "            .Relation{\n",
       "                border-collapse:collapse;\n",
       "            }\n",
       "            .Relation th{\n",
       "                background: #A0A0A0; color: #ffffff; padding:4px; border:#f0e0e0 1px solid;\n",
       "                font-weight: normal; font-family: monospace; font-size: 100%;\n",
       "            }\n",
       "            .Relation td{\n",
       "                padding:4px; border:#f0e0e0 1px solid; font-size:100%;\n",
       "            }\n",
       "            .Relation tr:nth-child(odd){\n",
       "                background: #ffffff;\n",
       "            }\n",
       "            .Relation tr:nth-child(even){\n",
       "                background: #f3f1ff;\n",
       "            }\n",
       "            /* Tooltip container */\n",
       "            .djtooltip {\n",
       "            }\n",
       "            /* Tooltip text */\n",
       "            .djtooltip .djtooltiptext {\n",
       "                visibility: hidden;\n",
       "                width: 120px;\n",
       "                background-color: black;\n",
       "                color: #fff;\n",
       "                text-align: center;\n",
       "                padding: 5px 0;\n",
       "                border-radius: 6px;\n",
       "                /* Position the tooltip text - see examples below! */\n",
       "                position: absolute;\n",
       "                z-index: 1;\n",
       "            }\n",
       "            #primary {\n",
       "                font-weight: bold;\n",
       "                color: black;\n",
       "            }\n",
       "\n",
       "            #nonprimary {\n",
       "                font-weight: normal;\n",
       "                color: white;\n",
       "            }\n",
       "\n",
       "            /* Show the tooltip text when you mouse over the tooltip container */\n",
       "            .djtooltip:hover .djtooltiptext {\n",
       "                visibility: visible;\n",
       "            }\n",
       "        </style>\n",
       "        \n",
       "        <b></b>\n",
       "            <div style=\"max-height:1000px;max-width:1500px;overflow:auto;\">\n",
       "            <table border=\"1\" class=\"Relation\">\n",
       "                <thead> <tr style=\"text-align: right;\"> <th> <div class=\"djtooltip\">\n",
       "                                <p id=\"primary\">segment_id</p>\n",
       "                                <span class=\"djtooltiptext\">segment id unique within each Segmentation</span>\n",
       "                            </div></th><th><div class=\"djtooltip\">\n",
       "                                <p id=\"primary\">decimation_version</p>\n",
       "                                <span class=\"djtooltiptext\"></span>\n",
       "                            </div></th><th><div class=\"djtooltip\">\n",
       "                                <p id=\"primary\">decimation_ratio</p>\n",
       "                                <span class=\"djtooltiptext\">ratio of remaining mesh vertices/faces (which ones depends on what metric the decimation technique uses)</span>\n",
       "                            </div></th><th><div class=\"djtooltip\">\n",
       "                                <p id=\"primary\">ver</p>\n",
       "                                <span class=\"djtooltiptext\">the version number of the materializaiton</span>\n",
       "                            </div></th><th><div class=\"djtooltip\">\n",
       "                                <p id=\"primary\">process_version</p>\n",
       "                                <span class=\"djtooltiptext\">the version of the preprocessing pipeline run</span>\n",
       "                            </div></th><th><div class=\"djtooltip\">\n",
       "                                <p id=\"primary\">index</p>\n",
       "                                <span class=\"djtooltiptext\">the index of the neuron object that resulted from that mesh (indexed starting at 0)</span>\n",
       "                            </div></th><th><div class=\"djtooltip\">\n",
       "                                <p id=\"primary\">split_index</p>\n",
       "                                <span class=\"djtooltiptext\">the index of the neuron object that resulted AFTER THE SPLITTING ALGORITHM</span>\n",
       "                            </div></th><th><div class=\"djtooltip\">\n",
       "                                <p id=\"primary\">axon_version</p>\n",
       "                                <span class=\"djtooltiptext\">key by which to lookup the finer axon processing method</span>\n",
       "                            </div></th><th><div class=\"djtooltip\">\n",
       "                                <p id=\"nonprimary\">decomposition</p>\n",
       "                                <span class=\"djtooltiptext\">saved neuron object with high fidelity axon</span>\n",
       "                            </div></th><th><div class=\"djtooltip\">\n",
       "                                <p id=\"nonprimary\">axon_length</p>\n",
       "                                <span class=\"djtooltiptext\">length (in um) of the classified axon skeleton</span>\n",
       "                            </div></th><th><div class=\"djtooltip\">\n",
       "                                <p id=\"nonprimary\">run_time</p>\n",
       "                                <span class=\"djtooltiptext\">the amount of time to run (seconds)</span>\n",
       "                            </div> </th> </tr> </thead>\n",
       "                <tbody> <tr> <td>864691134876192250</td>\n",
       "<td>0</td>\n",
       "<td>0.25</td>\n",
       "<td>30.00</td>\n",
       "<td>0</td>\n",
       "<td>0</td>\n",
       "<td>0</td>\n",
       "<td>4</td>\n",
       "<td>=BLOB=</td>\n",
       "<td>1023.0940357102944</td>\n",
       "<td>209.28</td></tr><tr><td>864691134884741114</td>\n",
       "<td>0</td>\n",
       "<td>0.25</td>\n",
       "<td>30.00</td>\n",
       "<td>0</td>\n",
       "<td>0</td>\n",
       "<td>0</td>\n",
       "<td>4</td>\n",
       "<td>=BLOB=</td>\n",
       "<td>2977.706081286783</td>\n",
       "<td>517.09</td></tr><tr><td>864691134884741370</td>\n",
       "<td>0</td>\n",
       "<td>0.25</td>\n",
       "<td>30.00</td>\n",
       "<td>0</td>\n",
       "<td>0</td>\n",
       "<td>0</td>\n",
       "<td>4</td>\n",
       "<td>=BLOB=</td>\n",
       "<td>558.9660414537605</td>\n",
       "<td>209.07</td></tr><tr><td>864691134884741626</td>\n",
       "<td>0</td>\n",
       "<td>0.25</td>\n",
       "<td>30.00</td>\n",
       "<td>0</td>\n",
       "<td>0</td>\n",
       "<td>0</td>\n",
       "<td>4</td>\n",
       "<td>=BLOB=</td>\n",
       "<td>576.8243192402768</td>\n",
       "<td>580.43</td></tr><tr><td>864691134884742138</td>\n",
       "<td>0</td>\n",
       "<td>0.25</td>\n",
       "<td>30.00</td>\n",
       "<td>0</td>\n",
       "<td>0</td>\n",
       "<td>0</td>\n",
       "<td>4</td>\n",
       "<td>=BLOB=</td>\n",
       "<td>739.06078934354</td>\n",
       "<td>231.95</td></tr><tr><td>864691134884742394</td>\n",
       "<td>0</td>\n",
       "<td>0.25</td>\n",
       "<td>30.00</td>\n",
       "<td>0</td>\n",
       "<td>0</td>\n",
       "<td>0</td>\n",
       "<td>4</td>\n",
       "<td>=BLOB=</td>\n",
       "<td>1900.071761948801</td>\n",
       "<td>311.45</td></tr><tr><td>864691134884742650</td>\n",
       "<td>0</td>\n",
       "<td>0.25</td>\n",
       "<td>30.00</td>\n",
       "<td>0</td>\n",
       "<td>0</td>\n",
       "<td>0</td>\n",
       "<td>4</td>\n",
       "<td>=BLOB=</td>\n",
       "<td>2701.510739187321</td>\n",
       "<td>2318.26</td></tr><tr><td>864691134884743418</td>\n",
       "<td>0</td>\n",
       "<td>0.25</td>\n",
       "<td>30.00</td>\n",
       "<td>0</td>\n",
       "<td>0</td>\n",
       "<td>0</td>\n",
       "<td>4</td>\n",
       "<td>=BLOB=</td>\n",
       "<td>1137.019678449479</td>\n",
       "<td>171.58</td></tr><tr><td>864691134884743930</td>\n",
       "<td>0</td>\n",
       "<td>0.25</td>\n",
       "<td>30.00</td>\n",
       "<td>0</td>\n",
       "<td>0</td>\n",
       "<td>0</td>\n",
       "<td>4</td>\n",
       "<td>=BLOB=</td>\n",
       "<td>1823.9167193276587</td>\n",
       "<td>387.44</td></tr><tr><td>864691134884744186</td>\n",
       "<td>0</td>\n",
       "<td>0.25</td>\n",
       "<td>30.00</td>\n",
       "<td>0</td>\n",
       "<td>0</td>\n",
       "<td>0</td>\n",
       "<td>4</td>\n",
       "<td>=BLOB=</td>\n",
       "<td>2717.917048692441</td>\n",
       "<td>3635.89</td></tr><tr><td>864691134884744954</td>\n",
       "<td>0</td>\n",
       "<td>0.25</td>\n",
       "<td>30.00</td>\n",
       "<td>0</td>\n",
       "<td>0</td>\n",
       "<td>0</td>\n",
       "<td>4</td>\n",
       "<td>=BLOB=</td>\n",
       "<td>1995.6561166463293</td>\n",
       "<td>312.06</td></tr><tr><td>864691134884745722</td>\n",
       "<td>0</td>\n",
       "<td>0.25</td>\n",
       "<td>30.00</td>\n",
       "<td>0</td>\n",
       "<td>0</td>\n",
       "<td>0</td>\n",
       "<td>4</td>\n",
       "<td>=BLOB=</td>\n",
       "<td>614.7378235321207</td>\n",
       "<td>101.2</td> </tr> </tbody>\n",
       "            </table>\n",
       "            <p>...</p>\n",
       "            <p>Total: 27620</p></div>\n",
       "            "
      ],
      "text/plain": [
       "*segment_id    *decimation_ve *decimation_ra *ver      *process_versi *index    *split_index   *axon_version  decomposit axon_length    run_time    \n",
       "+------------+ +------------+ +------------+ +-------+ +------------+ +-------+ +------------+ +------------+ +--------+ +------------+ +----------+\n",
       "86469113487619 0              0.25           30.00     0              0         0              4              =BLOB=     1023.094035710 209.28      \n",
       "86469113488474 0              0.25           30.00     0              0         0              4              =BLOB=     2977.706081286 517.09      \n",
       "86469113488474 0              0.25           30.00     0              0         0              4              =BLOB=     558.9660414537 209.07      \n",
       "86469113488474 0              0.25           30.00     0              0         0              4              =BLOB=     576.8243192402 580.43      \n",
       "86469113488474 0              0.25           30.00     0              0         0              4              =BLOB=     739.0607893435 231.95      \n",
       "86469113488474 0              0.25           30.00     0              0         0              4              =BLOB=     1900.071761948 311.45      \n",
       "86469113488474 0              0.25           30.00     0              0         0              4              =BLOB=     2701.510739187 2318.26     \n",
       "86469113488474 0              0.25           30.00     0              0         0              4              =BLOB=     1137.019678449 171.58      \n",
       "86469113488474 0              0.25           30.00     0              0         0              4              =BLOB=     1823.916719327 387.44      \n",
       "86469113488474 0              0.25           30.00     0              0         0              4              =BLOB=     2717.917048692 3635.89     \n",
       "86469113488474 0              0.25           30.00     0              0         0              4              =BLOB=     1995.656116646 312.06      \n",
       "86469113488474 0              0.25           30.00     0              0         0              4              =BLOB=     614.7378235321 101.2       \n",
       "   ...\n",
       " (Total: 27620)"
      ]
     },
     "execution_count": 17,
     "metadata": {},
     "output_type": "execute_result"
    }
   ],
   "source": [
    "curr_table = ((minnie.DecompositionAxon() & \"axon_length>500\"))\n",
    "curr_table"
   ]
  },
  {
   "cell_type": "code",
   "execution_count": 21,
   "metadata": {},
   "outputs": [
    {
     "data": {
      "text/plain": [
       "{'segment_id': 864691134884745722,\n",
       " 'decimation_version': 0,\n",
       " 'decimation_ratio': Decimal('0.25'),\n",
       " 'ver': Decimal('30.00'),\n",
       " 'process_version': 0,\n",
       " 'index': 0,\n",
       " 'split_index': 0,\n",
       " 'axon_version': 4}"
      ]
     },
     "execution_count": 21,
     "metadata": {},
     "output_type": "execute_result"
    }
   ],
   "source": [
    "search_key = dict(segment_id=864691134884745722)\n",
    "neuron_obj_path = (curr_table & search_key).fetch1(\"decomposition\")\n",
    "key = (curr_table & search_key).proj().fetch1()\n",
    "key"
   ]
  },
  {
   "cell_type": "code",
   "execution_count": 9,
   "metadata": {},
   "outputs": [
    {
     "name": "stdout",
     "output_type": "stream",
     "text": [
      "**Using table __decomposition_axon for table_to_neuron_objs**\n",
      "Decompressing Neuron in minimal output mode...please wait\n",
      "Dont need spine recalculation\n",
      "Number of Neurons found = 1\n"
     ]
    }
   ],
   "source": [
    "neuron_objs,split_idxs = du.decomposition_with_spine_recalculation(864691134884745722)"
   ]
  },
  {
   "cell_type": "code",
   "execution_count": 10,
   "metadata": {},
   "outputs": [
    {
     "name": "stdout",
     "output_type": "stream",
     "text": [
      "\n",
      " Working on visualization type: mesh\n"
     ]
    },
    {
     "data": {
      "application/vnd.jupyter.widget-view+json": {
       "model_id": "61adce9a65994f37a1dec68d58e6cf0b",
       "version_major": 2,
       "version_minor": 0
      },
      "text/plain": [
       "VBox(children=(Figure(camera=PerspectiveCamera(fov=46.0, position=(0.0, 0.0, 2.0), projectionMatrix=(1.0, 0.0,…"
      ]
     },
     "metadata": {},
     "output_type": "display_data"
    }
   ],
   "source": [
    "nviz.visualize_neuron_lite(neuron_objs[0])"
   ]
  },
  {
   "cell_type": "code",
   "execution_count": 12,
   "metadata": {},
   "outputs": [],
   "source": [
    "neuron_obj = neuron_objs[0]"
   ]
  },
  {
   "cell_type": "code",
   "execution_count": 13,
   "metadata": {},
   "outputs": [
    {
     "name": "stdout",
     "output_type": "stream",
     "text": [
      "\n",
      " Working on visualization type: mesh\n",
      "\n",
      " Working on visualization type: skeleton\n"
     ]
    },
    {
     "data": {
      "application/vnd.jupyter.widget-view+json": {
       "model_id": "0b29299c821c458dab49fb77089d1fb7",
       "version_major": 2,
       "version_minor": 0
      },
      "text/plain": [
       "VBox(children=(Figure(camera=PerspectiveCamera(fov=46.0, position=(0.0, 0.0, 2.0), projectionMatrix=(1.0, 0.0,…"
      ]
     },
     "metadata": {},
     "output_type": "display_data"
    }
   ],
   "source": [
    "nviz.plot_axon(neuron_obj)"
   ]
  },
  {
   "cell_type": "code",
   "execution_count": null,
   "metadata": {},
   "outputs": [],
   "source": [
    "skeletal_angle_offset\n",
    "axon_sk_direction_comparison_distance\n",
    "buffer_for_skeleton\n",
    "top_volume_vector = np.array([0,-1,0]),"
   ]
  },
  {
   "cell_type": "code",
   "execution_count": 33,
   "metadata": {},
   "outputs": [],
   "source": [
    "from copy import deepcopy\n",
    "n_copy = deepcopy(neuron_obj)"
   ]
  },
  {
   "cell_type": "code",
   "execution_count": 35,
   "metadata": {},
   "outputs": [
    {
     "data": {
      "text/plain": [
       "{1: {0: 132.8566907140693}}"
      ]
     },
     "execution_count": 35,
     "metadata": {},
     "output_type": "execute_result"
    }
   ],
   "source": [
    "axon_angles"
   ]
  },
  {
   "cell_type": "code",
   "execution_count": null,
   "metadata": {},
   "outputs": [],
   "source": []
  },
  {
   "cell_type": "code",
   "execution_count": 41,
   "metadata": {},
   "outputs": [
    {
     "name": "stdout",
     "output_type": "stream",
     "text": [
      "endnodes_to_test = []\n",
      "endnodes_to_test = [2742]\n",
      "Skeleton paths distances = [24958.78511284]\n",
      "Filtered indexes = [0]\n",
      "len(filtered_skeletons) = 1\n",
      "sk_angles = [132.85669071]\n",
      "base_final_widths = [162.3686667  165.72382766 162.64602076]\n",
      "overall_ais_width = 160.04645862889691\n",
      "ais_width = 163.57950504091886\n"
     ]
    }
   ],
   "source": [
    "axon_limb_branch_dict,axon_angles = clu.axon_classification(n_copy,\n",
    "                                                                    return_error_labels=False,\n",
    "                                                                    verbose=False,\n",
    "                                                                    plot_axons=False,\n",
    "                                                                        best_axon=True,\n",
    "                                                                    label_axon_errors=True,\n",
    "                                                                    return_axon_angles=True)"
   ]
  },
  {
   "cell_type": "code",
   "execution_count": 42,
   "metadata": {},
   "outputs": [
    {
     "data": {
      "text/plain": [
       "{1: {0: 132.8566907140693}}"
      ]
     },
     "execution_count": 42,
     "metadata": {},
     "output_type": "execute_result"
    }
   ],
   "source": [
    "axon_angles"
   ]
  },
  {
   "cell_type": "code",
   "execution_count": 43,
   "metadata": {},
   "outputs": [
    {
     "name": "stdout",
     "output_type": "stream",
     "text": [
      "endnodes_to_test = [2742]\n",
      "Skeleton paths distances = [24958.78511284]\n",
      "Filtered indexes = [0]\n",
      "len(filtered_skeletons) = 1\n",
      "sk_angles = [132.85669071]\n",
      "local_axon_angles = [132.85669071]\n"
     ]
    },
    {
     "data": {
      "text/plain": [
       "{1: {0: 132.8566907140693}}"
      ]
     },
     "execution_count": 43,
     "metadata": {},
     "output_type": "execute_result"
    }
   ],
   "source": []
  },
  {
   "cell_type": "code",
   "execution_count": null,
   "metadata": {},
   "outputs": [],
   "source": [
    "# def candidate_starting_skeletal_angle(limb_obj,candidate_nodes,\n",
    "#                                       offset = 10000,#20000,\n",
    "#                                     axon_sk_direction_comparison_distance = 10000,#5000,\n",
    "#                                     buffer_for_skeleton = 5000,\n",
    "#                                       top_volume_vector = np.array([0,-1,0]),\n",
    "#                                       plot_skeleton_paths_before_restriction=False,\n",
    "#                                       plot_skeleton_paths_after_restriction=False,\n",
    "#                                       return_restricted_skeletons=False,\n",
    "#                                       branches_not_to_consider_for_end_nodes = None,\n",
    "#                                       verbose=False,\n",
    "#                                      )\n",
    "\n",
    "# filter_axon_candiates(neuron_obj,\n",
    "#     axon_subgraph_candidates,\n",
    "#     axon_angle_threshold_relaxed = 110,#90,\n",
    "#     axon_angle_threshold = 120,\n",
    "#     relaxation_percentage = 0.85,\n",
    "                          \n",
    "#     #parameters for computing the skeletal angle\n",
    "     \n",
    "#     skeletal_angle_offset = 10000,\n",
    "#     skeletal_angle_comparison_distance = 10000,\n",
    "#     skeletal_angle_buffer = 5000,\n",
    "                          \n",
    "#     axon_like_limb_branch_dict = None,\n",
    "                          \n",
    "#                           min_ais_width=85,#85,\n",
    "#                           use_beginning_ais_for_width_filter=True,\n",
    "                          \n",
    "#     extra_ais_checks= False, #feature that is not needed with new flip_dendrite_to_axon added at axon-like identification step\n",
    "                          \n",
    "#     verbose = False,\n",
    "    \n",
    "                          \n",
    "#     return_axon_angles = True,\n",
    "#     best_axon=False,\n",
    "#     best_axon_skeletal_legnth_ratio = 20,\n",
    "#     **kwargs\n",
    "#     ):"
   ]
  },
  {
   "cell_type": "code",
   "execution_count": null,
   "metadata": {},
   "outputs": [],
   "source": [
    "candidate_angles,restr_skels = clu.candidate_starting_skeletal_angle(limb_obj=curr_limb,\n",
    "                              candidate_nodes=candidate_nodes,\n",
    "                                  offset = skeletal_angle_offset,\n",
    "                                axon_sk_direction_comparison_distance = skeletal_angle_comparison_distance,\n",
    "                                buffer_for_skeleton = skeletal_angle_buffer,\n",
    "                                  top_volume_vector = np.array([0,-1,0]),\n",
    "                                  plot_skeleton_paths_before_restriction=False,\n",
    "                                  plot_skeleton_paths_after_restriction=False,\n",
    "                                                 return_restricted_skeletons=True,\n",
    "                                  verbose=verbose,\n",
    "                                   branches_not_to_consider_for_end_nodes = non_axon_branches_on_subgraph,\n",
    "                                **kwargs\n",
    "                                 )"
   ]
  },
  {
   "cell_type": "code",
   "execution_count": 27,
   "metadata": {},
   "outputs": [
    {
     "data": {
      "text/plain": [
       "{'L1': array([ 0,  1,  2,  3,  4,  5,  6,  7,  8,  9, 10, 11, 12, 13, 14, 15, 16,\n",
       "        17, 18, 19, 20, 21, 22, 23, 24, 25])}"
      ]
     },
     "execution_count": 27,
     "metadata": {},
     "output_type": "execute_result"
    }
   ],
   "source": [
    "neuron_obj_copy "
   ]
  },
  {
   "cell_type": "code",
   "execution_count": 46,
   "metadata": {},
   "outputs": [
    {
     "name": "stdout",
     "output_type": "stream",
     "text": [
      "\n",
      "\n",
      "------- AutoProofreadNeuron 864691134884745722  ----------\n",
      "**Using table __decomposition_axon for table_to_neuron_objs**\n",
      "Decompressing Neuron in minimal output mode...please wait\n",
      "Dont need spine recalculation\n",
      "Number of Neurons found = 1\n",
      "Number of Neurons found =1\n",
      "Number of Corresponding Nuclei = 1\n",
      "nucleus_ids = [268126]\n",
      "nucleus_centers = [[672448 876736 602960]]\n",
      "\n",
      "-----Working on Neuron Split 0-----\n",
      "\n",
      "   --> Part A: Proofreading the Neuron ----\n",
      "---- Part A: NOT Attempting to split neuron --------\n",
      "\n",
      "--- Working on Neuron 0 ---\n",
      "\n",
      "\n",
      " ------ Part B: Axon Classification ---- \n",
      "\n",
      "\n",
      "Skipping Axon Classification\n",
      "endnodes_to_test = [2742]\n",
      "Skeleton paths distances = [24958.78511284]\n",
      "Filtered indexes = [0]\n",
      "len(filtered_skeletons) = 1\n",
      "sk_angles = [132.85669071]\n",
      "local_axon_angles = [132.85669071]\n",
      "\n",
      "\n",
      " ------ Part C: Inhibitory Excitatory Classification ---- \n",
      "\n",
      "\n",
      "spine_category = densely_spined\n",
      "Inhibitory Excitatory Classification = 2.0079898834228516\n",
      "\n",
      " -- Cell Type Classification Results --\n",
      "inh_exc_class=excitatory\n",
      "spine_category=densely_spined\n",
      "axon_angles={1: {0: 132.8566907140693}}\n",
      "n_axons=1\n",
      "n_apicals=0\n",
      "neuron_spine_density=0.0007953206581168702\n",
      "n_branches_processed=5\n",
      "skeletal_length_processed=510547.0352146316\n",
      "n_branches_in_search_radius=29\n",
      "skeletal_length_in_search_radius=893571.0595962496\n",
      "\n",
      "\n",
      " ------ Part D: Neuron Filtering ---- \n",
      "\n",
      " \n",
      "\n",
      "*****Using v4 Filters!!!\n",
      "\n",
      "\n",
      "\n",
      "--- Working on filter 0:\n",
      "function = axon_on_dendrite_merges\n",
      "function __name__ = filter_away_axon_on_dendrite_merges\n",
      "function arguments = {'use_pre_existing_axon_labels': True}\n",
      "\n",
      "\n",
      "----------------------- Running Filter ------------------\n",
      "using pre-existing labels for axon-error detection\n",
      "After disconnecte effect, removed_limb_branch_dict = {'L0': [6]}\n",
      "total_sk_distance = 13.264956663596713, total_area = 12.189345339696821\n",
      "----------------------- FINISHED Running Filter ------------------\n",
      "\n",
      "\n",
      "\n",
      " --Filter axon_on_dendrite_merges Results --\n",
      "local_results = {'axon_on_dendrite_merges_neuron': <neuron.Neuron object at 0x7f1e2707d160>, 'axon_on_dendrite_merges_time': 3.669144868850708, 'axon_on_dendrite_merges_error_area': 12.189345339696821, 'axon_on_dendrite_merges_error_length': 13.264956663596713}\n",
      "\n",
      "--- Working on filter 1:\n",
      "function = high_degree_branching\n",
      "function __name__ = filter_away_high_degree_branching\n",
      "function arguments = {'offset': 1500, 'comparison_distance': 2000, 'worst_case_match_threshold': 65, 'width_diff_max': 75, 'width_diff_perc': 60, 'match_threshold': 45, 'angle_buffer': 15, 'max_degree_to_resolve': 6, 'max_degree_to_resolve_wide': 8, 'match_method': 'best_match', 'kiss_check': True, 'kiss_check_bbox_longest_side_threshold': 450}\n",
      "\n",
      "\n",
      "----------------------- Running Filter ------------------\n",
      "\n",
      "\n",
      " ----- Working on coordinate 0: [626004.4101055  943686.82172004 635764.08820741]--------\n",
      "kiss_check = True\n",
      "For test node 2, sibling nodes were: [3 5]\n",
      "overlap = [3 5]\n",
      "With test node equal to the downstream node\n",
      "upstream = 4, downstream_nodes = [3 5 2]\n",
      "branches_at_coord = [2 3 4 5]\n",
      "widths_in_branches = [60.25816415 56.18870593 59.15088423 66.55782839]\n",
      "coordinate_branches = [2, 3, 4, 5]\n",
      "2 = red\n",
      "3 = aqua\n",
      "4 = purple\n",
      "5 = green\n",
      "Angle between 2 and 3 = 94.11 \n",
      "Angle between 2 and 4 = 12.89 \n",
      "Angle between 2 and 5 = 16.01 \n",
      "Angle between 3 and 4 = 73.91 \n",
      "Angle between 3 and 5 = 100.37 \n",
      "Angle between 4 and 5 = 151.12 \n",
      "Final Matches = [[2, 4], [2, 5]], Final Matches Angle = [12.89, 16.01]\n",
      "matched_edges = [[2, 4], [2, 5]]matched_edges_angles = [12.89, 16.01]\n",
      "Step 2: Edges with worst case scenario matching = 65\n",
      "Remaining Edges = [(2, 4), (2, 5)], Remaining Nodes = [2, 3, 4, 5]\n",
      "edges_to_remove_by_width = []\n",
      "Step 2: Edges after widht mismatch\n",
      "Remaining Edges = [(2, 4), (2, 5)], Remaining Nodes = [2, 3, 4, 5]\n",
      "--Working on edge [2 4]--\n",
      "--Working on edge [2 5]--\n",
      "Step 4: Definite Edges\n",
      "Remaining Edges = [(2, 4), (2, 5)], Remaining Nodes = [2, 3, 4, 5]\n",
      "upstream_subgraph = [2 4 5]\n",
      "Possible Connections = [2], angles = [12.89]\n",
      "Deleting the following nodes because above match threshold while 1 are: []\n",
      "Step 5: Removing worst case edges\n",
      "Remaining Edges = [(2, 4), (2, 5)]\n",
      "Not doing kiss check because upstream_matches = [2]\n",
      "Using best match method\n",
      "for upstream node 4, winning_node = 2, error_branches = [3 5]\n",
      "winning_downstream = 2,error_downstream = [3 5] \n",
      "coordinate [626004.4101055  943686.82172004 635764.08820741] had error branches [3 5]--------\n",
      "limb_branch_dict_to_cancel = {'L1': array([3, 5])}\n",
      "After disconnecte effect, removed_limb_branch_dict = {'L1': [3, 5]}\n",
      "total_sk_distance = 130.7500793188991, total_area = 98.36856635221723\n",
      "----------------------- FINISHED Running Filter ------------------\n",
      "\n",
      "\n",
      "\n",
      " --Filter high_degree_branching Results --\n",
      "local_results = {'high_degree_branching_neuron': <neuron.Neuron object at 0x7f1e26bedc50>, 'high_degree_branching_time': 5.396059274673462, 'high_degree_branching_error_area': 98.36856635221723, 'high_degree_branching_error_length': 130.7500793188991}\n",
      "\n",
      "--- Working on filter 2:\n",
      "function = axon_webbing_t_merges\n",
      "function __name__ = filter_away_webbing_t_merges\n",
      "function arguments = {'child_width_maximum': 75, 'parent_width_maximum': 75, 'axon_only': True, 'error_if_web_is_none': True, 'web_size_threshold': 120, 'web_size_type': 'ray_trace_median', 'web_above_threshold': True}\n",
      "\n",
      "\n",
      "----------------------- Running Filter ------------------\n",
      "two_downstream_thin_axon_limb_branch = {'L1': array([5, 9])}\n",
      "wide_angled_children= {}\n",
      "Final web t error limb branch dict = {}\n",
      "limb_branch_dict_to_cancel = {}\n",
      "limb_branch_dict was empty so returning original neuron\n",
      "----------------------- FINISHED Running Filter ------------------\n",
      "\n",
      "\n",
      "\n",
      " --Filter axon_webbing_t_merges Results --\n",
      "local_results = {'axon_webbing_t_merges_neuron': <neuron.Neuron object at 0x7f1e26e46f28>, 'axon_webbing_t_merges_time': 0.6606650352478027, 'axon_webbing_t_merges_error_area': 0, 'axon_webbing_t_merges_error_length': 0}\n",
      "\n",
      "--- Working on filter 3:\n",
      "function = thick_t_merge\n",
      "function __name__ = filter_away_thick_t_merge\n",
      "function arguments = {}\n",
      "\n",
      "\n",
      "----------------------- Running Filter ------------------\n",
      "two_downstream_thin_axon_limb_branch = {'L1': array([2, 5, 9])}\n",
      "wide_angled_children= {}\n",
      "thick_t_crossing_limb_branch= {}\n",
      "t_error_limb_branch= {}\n",
      "limb_branch_dict_to_cancel = {}\n",
      "limb_branch_dict was empty so returning original neuron\n",
      "----------------------- FINISHED Running Filter ------------------\n",
      "\n",
      "\n",
      "\n",
      " --Filter thick_t_merge Results --\n",
      "local_results = {'thick_t_merge_neuron': <neuron.Neuron object at 0x7f1e268f34e0>, 'thick_t_merge_time': 0.4120469093322754, 'thick_t_merge_error_area': 0, 'thick_t_merge_error_length': 0}\n",
      "\n",
      "--- Working on filter 4:\n",
      "function = double_back_and_width_change\n",
      "function __name__ = filter_away_large_double_back_or_width_changes\n",
      "function arguments = {'perform_double_back_errors': True, 'skip_double_back_errors_for_axon': False, 'width_jump_threshold': 250, 'running_width_jump_method': True, 'double_back_axon_like_threshold': 145, 'double_back_threshold': 120, 'allow_axon_double_back_angle_with_top': None, 'allow_axon_double_back_angle_with_top_width_min': 140, 'skeletal_length_to_skip': 4000, 'comparison_distance': 3000, 'perform_width_errors': True, 'perform_axon_width_errors': False}\n",
      "\n",
      "\n",
      "----------------------- Running Filter ------------------\n",
      "\n",
      "--- Working on Limb L0 ---\n",
      "edges_to_create = []\n",
      "edges_to_create = []\n",
      "\n",
      "--- Working on Limb L1 ---\n",
      "edges_to_create = []\n",
      "edges_to_create = []\n",
      "\n",
      "--- Working on Limb L2 ---\n",
      "edges_to_create = []\n",
      "edges_to_create = []\n",
      "\n",
      "--- Working on Limb L0 ---\n",
      "\n",
      "skipping because was not in the limb_edge dict\n",
      "\n",
      "--- Working on Limb L1 ---\n",
      "\n",
      "skipping because was not in the limb_edge dict\n",
      "\n",
      "--- Working on Limb L2 ---\n",
      "\n",
      "skipping because was not in the limb_edge dict\n",
      "limb_branch_dict_to_cancel = {}\n",
      "limb_branch_dict was empty so returning original neuron\n",
      "----------------------- FINISHED Running Filter ------------------\n",
      "\n",
      "\n",
      "\n",
      " --Filter double_back_and_width_change Results --\n",
      "local_results = {'double_back_and_width_change_neuron': <neuron.Neuron object at 0x7f1e28394f60>, 'double_back_and_width_change_time': 3.7270450592041016, 'double_back_and_width_change_error_area': 0, 'double_back_and_width_change_error_length': 0}\n",
      "\n",
      "--- Working on filter 5:\n",
      "function = axon_fork_divergence\n",
      "function __name__ = filter_away_small_axon_fork_divergence\n",
      "function arguments = {'divergence_threshold_mean': 165}\n",
      "\n",
      "\n",
      "----------------------- Running Filter ------------------\n"
     ]
    },
    {
     "name": "stdout",
     "output_type": "stream",
     "text": [
      "two_downstream_thick_axon_limb_branch = {'L1': array([3, 4, 5, 8])}\n",
      "With divergence_threshold_mean = 165\n",
      "fork_div_limb_branch = {}\n",
      "limb_branch_dict_to_cancel = {}\n",
      "limb_branch_dict was empty so returning original neuron\n",
      "----------------------- FINISHED Running Filter ------------------\n",
      "\n",
      "\n",
      "\n",
      " --Filter axon_fork_divergence Results --\n",
      "local_results = {'axon_fork_divergence_neuron': <neuron.Neuron object at 0x7f1e26f5edd8>, 'axon_fork_divergence_time': 0.35625410079956055, 'axon_fork_divergence_error_area': 0, 'axon_fork_divergence_error_length': 0}\n",
      "\n",
      "\n",
      "\n",
      " ---- Total time for applying filter: 14.223151445388794 -----\n",
      "\n",
      "\n",
      " ------ Part E: Save Neuron  ---- \n",
      "\n",
      " \n",
      "\n",
      "\n",
      "Total time for Neuron Proofreading: 18.179620265960693\n",
      "\n",
      "\n",
      "    --> Part B: Getting Soma Centers and Matching To Nuclei ----\n",
      "soma_center = [673698 876858 602088]\n",
      "nuclei_within_radius = [268126]\n",
      "nuclei_within_radius_distance = [1528.976128]\n",
      "\n",
      "There were 1 nuclei found within the radius of 15000 nm\n",
      "winning_nuclei = 268126\n",
      "winning_nuclei_distance = 1528.9761280020039\n",
      "\n",
      " For Bounding Box Search:\n",
      "inside_nuclei = [268126]\n",
      "\n",
      "\n",
      "At End: using return_id_0_if_no_matches = True\n",
      "winning_nuclei = 268126\n",
      "winning_nuclei_distance = 1528.9761280020039\n",
      "n_nuclei_in_radius = 1\n",
      "n_nuclei_in_bbox = 1\n",
      "nucleus_info = {'nuclei_id': 268126, 'nuclei_distance': 1528.98, 'n_nuclei_in_radius': 1, 'n_nuclei_in_bbox': 1}\n",
      "winning_nucleus_id = 268126\n",
      "\n",
      "\n",
      "    --> Part C: Getting the Faces of the Original Mesh ----\n",
      "Saved object at /mnt/dj-stor01/platinum/minnie65/02/glia_nuclei_faces/864691134884745722_0_proofv4_neuron_proofread.pbz2\n",
      "File size is 0.250222 MB\n",
      "Saved object at /mnt/dj-stor01/platinum/minnie65/02/glia_nuclei_faces/864691134884745722_0_proofv4_axon_proofread.pbz2\n",
      "File size is 0.031441 MB\n",
      "\n",
      "\n",
      "    --> Part D: Getting the Synapse Information ----\n",
      "Apply the presyn non_error\n",
      "For presyn: # valid synapses = 13, # error synapses  = 11, # error presyns = 1\n",
      "Computing the distance to soma for the synapses\n",
      "For postsyn: # valid synapses = 20, # error synapses  = 0, # error presyns = 0\n",
      "Computing the distance to soma for the synapses\n",
      "Saved object at /mnt/dj-stor01/platinum/minnie65/02/compartment_skeletons/864691134884745722_0_proofv4_axon_skeleton_proofread.pbz2\n",
      "File size is 0.139339 MB\n",
      "Saved object at /mnt/dj-stor01/platinum/minnie65/02/compartment_skeletons/864691134884745722_0_proofv4_dendrite_skeleton_proofread.pbz2\n",
      "File size is 0.114825 MB\n"
     ]
    }
   ],
   "source": [
    "import proofreading_utils as pru\n",
    "proof_version = 4\n",
    "curr_output = pru.proofreading_table_processing(key,\n",
    "                                  proof_version=proof_version,\n",
    "                                  compute_synapse_to_soma_skeletal_distance=True,\n",
    "                                perform_axon_classification = False,\n",
    "                                high_fidelity_axon_on_excitatory=False,\n",
    "                                 verbose=True,) "
   ]
  },
  {
   "cell_type": "code",
   "execution_count": null,
   "metadata": {},
   "outputs": [],
   "source": [
    "curr_output"
   ]
  }
 ],
 "metadata": {
  "kernelspec": {
   "display_name": "Python 3",
   "language": "python",
   "name": "python3"
  },
  "language_info": {
   "codemirror_mode": {
    "name": "ipython",
    "version": 3
   },
   "file_extension": ".py",
   "mimetype": "text/x-python",
   "name": "python",
   "nbconvert_exporter": "python",
   "pygments_lexer": "ipython3",
   "version": "3.6.9"
  }
 },
 "nbformat": 4,
 "nbformat_minor": 4
}
