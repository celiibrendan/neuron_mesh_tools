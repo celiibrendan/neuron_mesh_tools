{
 "cells": [
  {
   "cell_type": "code",
   "execution_count": null,
   "metadata": {},
   "outputs": [],
   "source": [
    "\"\"\"\n",
    "Purpose: To test out the changes needed to make to datajoint table \n",
    "for v4 run: \n",
    "\n",
    "1) changing how the axon and dendrite skeleton are saved\n",
    "2) Doing the complete axon preprocessing, saving that off\n",
    "and then passing that to the neuron proofreading function\n",
    "3) How to save off the suggested edits in form that we \n",
    "can create suggested edits fo rneuroglancer\n",
    "4) Make sure webbing and bouton information in table\n",
    "\"\"\""
   ]
  },
  {
   "cell_type": "code",
   "execution_count": 1,
   "metadata": {},
   "outputs": [],
   "source": [
    "%load_ext autoreload\n",
    "%autoreload 2"
   ]
  },
  {
   "cell_type": "code",
   "execution_count": 2,
   "metadata": {},
   "outputs": [
    {
     "name": "stderr",
     "output_type": "stream",
     "text": [
      "INFO - 2021-05-17 21:55:25,712 - settings - Setting database.host to at-database.ad.bcm.edu\n",
      "INFO - 2021-05-17 21:55:25,714 - settings - Setting database.user to celiib\n",
      "INFO - 2021-05-17 21:55:25,715 - settings - Setting database.password to newceliipass\n",
      "INFO - 2021-05-17 21:55:25,718 - settings - Setting stores to {'minnie65': {'protocol': 'file', 'location': '/mnt/dj-stor01/platinum/minnie65', 'stage': '/mnt/dj-stor01/platinum/minnie65'}, 'meshes': {'protocol': 'file', 'location': '/mnt/dj-stor01/platinum/minnie65/02/meshes', 'stage': '/mnt/dj-stor01/platinum/minnie65/02/meshes'}, 'decimated_meshes': {'protocol': 'file', 'location': '/mnt/dj-stor01/platinum/minnie65/02/decimated_meshes', 'stage': '/mnt/dj-stor01/platinum/minnie65/02/decimated_meshes'}, 'skeletons': {'protocol': 'file', 'location': '/mnt/dj-stor01/platinum/minnie65/02/skeletons'}}\n",
      "INFO - 2021-05-17 21:55:25,718 - settings - Setting enable_python_native_blobs to True\n",
      "INFO - 2021-05-17 21:55:25,729 - connection - Connected celiib@at-database.ad.bcm.edu:3306\n"
     ]
    },
    {
     "name": "stdout",
     "output_type": "stream",
     "text": [
      "Connecting celiib@at-database.ad.bcm.edu:3306\n"
     ]
    },
    {
     "name": "stderr",
     "output_type": "stream",
     "text": [
      "INFO - 2021-05-17 21:55:26,129 - settings - Setting enable_python_native_blobs to True\n",
      "INFO - 2021-05-17 21:55:26,131 - settings - Setting database.host to at-database.ad.bcm.edu\n",
      "INFO - 2021-05-17 21:55:26,132 - settings - Setting database.user to celiib\n",
      "INFO - 2021-05-17 21:55:26,133 - settings - Setting database.password to newceliipass\n",
      "INFO - 2021-05-17 21:55:26,134 - settings - Setting database.host to at-database.ad.bcm.edu\n",
      "INFO - 2021-05-17 21:55:26,134 - settings - Setting database.user to celiib\n",
      "INFO - 2021-05-17 21:55:26,135 - settings - Setting database.password to newceliipass\n",
      "INFO - 2021-05-17 21:55:26,135 - settings - Setting enable_python_native_blobs to True\n",
      "INFO - 2021-05-17 21:55:26,557 - settings - Setting enable_python_native_blobs to True\n"
     ]
    }
   ],
   "source": [
    "import numpy as np\n",
    "import datajoint as dj\n",
    "import trimesh\n",
    "from tqdm.notebook import tqdm\n",
    "from pathlib import Path\n",
    "\n",
    "from os import sys\n",
    "sys.path.append(\"/meshAfterParty/\")\n",
    "sys.path.append(\"/meshAfterParty/meshAfterParty\")\n",
    "\n",
    "import datajoint_utils as du\n",
    "from importlib import reload"
   ]
  },
  {
   "cell_type": "code",
   "execution_count": 3,
   "metadata": {},
   "outputs": [
    {
     "name": "stderr",
     "output_type": "stream",
     "text": [
      "INFO - 2021-05-17 21:55:26,683 - settings - Setting database.host to at-database.ad.bcm.edu\n",
      "INFO - 2021-05-17 21:55:26,684 - settings - Setting database.user to celiib\n",
      "INFO - 2021-05-17 21:55:26,685 - settings - Setting database.password to newceliipass\n",
      "INFO - 2021-05-17 21:55:26,686 - settings - Setting enable_python_native_blobs to True\n",
      "INFO - 2021-05-17 21:55:27,276 - settings - Setting enable_python_native_blobs to True\n"
     ]
    }
   ],
   "source": [
    "#configuring will include the adapters\n",
    "minnie,schema = du.configure_minnie_vm()"
   ]
  },
  {
   "cell_type": "code",
   "execution_count": 4,
   "metadata": {},
   "outputs": [],
   "source": [
    "import neuron_visualizations as nviz\n",
    "import neuron_utils as nru\n",
    "import proofreading_utils as pru\n",
    "import time\n",
    "import system_utils as su\n",
    "import axon_utils as au\n",
    "import trimesh_utils as tu"
   ]
  },
  {
   "cell_type": "markdown",
   "metadata": {},
   "source": [
    "# Experimenting With New Way of Saying Skeletons and faces"
   ]
  },
  {
   "cell_type": "code",
   "execution_count": null,
   "metadata": {},
   "outputs": [],
   "source": [
    "\"\"\"\n",
    "5/17 \n",
    "Purpose: To now save off the skeletons and mesh faces as numpy objects\n",
    "\n",
    "\"\"\""
   ]
  },
  {
   "cell_type": "code",
   "execution_count": 12,
   "metadata": {},
   "outputs": [
    {
     "data": {
      "text/plain": [
       "array([0.61460661, 0.07557948, 0.459777  , 0.16375646, 0.19806134,\n",
       "       0.64466776, 0.43616094, 0.02041192, 0.65352067, 0.61322128])"
      ]
     },
     "execution_count": 12,
     "metadata": {},
     "output_type": "execute_result"
    }
   ],
   "source": [
    "x = np.random.rand(10)\n",
    "np.savez_compressed(\"test_np_compressed.npz\",x = x)\n",
    "x"
   ]
  },
  {
   "cell_type": "code",
   "execution_count": 19,
   "metadata": {},
   "outputs": [
    {
     "name": "stderr",
     "output_type": "stream",
     "text": [
      "INFO - 2021-05-17 22:05:39,508 - settings - Setting database.host to at-database.ad.bcm.edu\n",
      "INFO - 2021-05-17 22:05:39,510 - settings - Setting database.user to celiib\n",
      "INFO - 2021-05-17 22:05:39,511 - settings - Setting database.password to newceliipass\n",
      "INFO - 2021-05-17 22:05:39,512 - settings - Setting database.host to at-database.ad.bcm.edu\n",
      "INFO - 2021-05-17 22:05:39,512 - settings - Setting database.user to celiib\n",
      "INFO - 2021-05-17 22:05:39,513 - settings - Setting database.password to newceliipass\n",
      "INFO - 2021-05-17 22:05:39,518 - settings - Setting enable_python_native_blobs to True\n",
      "INFO - 2021-05-17 22:05:40,230 - settings - Setting enable_python_native_blobs to True\n"
     ]
    },
    {
     "data": {
      "text/plain": [
       "array([0.61460661, 0.07557948, 0.459777  , 0.16375646, 0.19806134,\n",
       "       0.64466776, 0.43616094, 0.02041192, 0.65352067, 0.61322128])"
      ]
     },
     "execution_count": 19,
     "metadata": {},
     "output_type": "execute_result"
    }
   ],
   "source": [
    "filename = Path(\"test_np_compressed.npz\")\n",
    "x_reload = np.load(filename)[\"x\"]\n",
    "x_reload"
   ]
  },
  {
   "cell_type": "code",
   "execution_count": 21,
   "metadata": {},
   "outputs": [
    {
     "name": "stderr",
     "output_type": "stream",
     "text": [
      "INFO - 2021-05-17 22:18:06,536 - settings - Setting database.host to at-database.ad.bcm.edu\n",
      "INFO - 2021-05-17 22:18:06,539 - settings - Setting database.user to celiib\n",
      "INFO - 2021-05-17 22:18:06,541 - settings - Setting database.password to newceliipass\n",
      "INFO - 2021-05-17 22:18:06,542 - settings - Setting database.host to at-database.ad.bcm.edu\n",
      "INFO - 2021-05-17 22:18:06,544 - settings - Setting database.user to celiib\n",
      "INFO - 2021-05-17 22:18:06,546 - settings - Setting database.password to newceliipass\n",
      "INFO - 2021-05-17 22:18:06,586 - settings - Setting enable_python_native_blobs to True\n",
      "INFO - 2021-05-17 22:18:09,734 - settings - Setting enable_python_native_blobs to True\n",
      "INFO - 2021-05-17 22:18:11,170 - settings - Setting database.host to at-database.ad.bcm.edu\n",
      "INFO - 2021-05-17 22:18:11,179 - settings - Setting database.user to celiib\n",
      "INFO - 2021-05-17 22:18:11,179 - settings - Setting database.password to newceliipass\n",
      "INFO - 2021-05-17 22:18:11,185 - settings - Setting enable_python_native_blobs to True\n",
      "INFO - 2021-05-17 22:18:12,977 - settings - Setting enable_python_native_blobs to True\n"
     ]
    },
    {
     "name": "stdout",
     "output_type": "stream",
     "text": [
      "filepath = /mnt/dj-stor01/platinum/minnie65/02/glia_nuclei_faces/864691134884759034_0_proofv4_neuron_proofread.pbz2\n"
     ]
    }
   ],
   "source": [
    "minnie,schema = du.configure_minnie_vm()\n",
    "mesh_faces = (minnie.AutoProofreadStats4 & dict(segment_id = 864691134884759034)).fetch(\"mesh_faces\")"
   ]
  },
  {
   "cell_type": "code",
   "execution_count": 20,
   "metadata": {},
   "outputs": [
    {
     "name": "stderr",
     "output_type": "stream",
     "text": [
      "INFO - 2021-05-17 22:06:35,880 - settings - Setting database.host to at-database.ad.bcm.edu\n",
      "INFO - 2021-05-17 22:06:35,881 - settings - Setting database.user to celiib\n",
      "INFO - 2021-05-17 22:06:35,881 - settings - Setting database.password to newceliipass\n",
      "INFO - 2021-05-17 22:06:35,882 - settings - Setting database.host to at-database.ad.bcm.edu\n",
      "INFO - 2021-05-17 22:06:35,882 - settings - Setting database.user to celiib\n",
      "INFO - 2021-05-17 22:06:35,883 - settings - Setting database.password to newceliipass\n",
      "INFO - 2021-05-17 22:06:35,885 - settings - Setting enable_python_native_blobs to True\n",
      "INFO - 2021-05-17 22:06:36,509 - settings - Setting enable_python_native_blobs to True\n"
     ]
    },
    {
     "data": {
      "text/plain": [
       "True"
      ]
     },
     "execution_count": 20,
     "metadata": {},
     "output_type": "execute_result"
    }
   ],
   "source": [
    "from pathlib import Path\n",
    "filepath = Path(\"/mnt/dj-stor01/platinum/minnie65/02/glia_nuclei_faces/864691134884759034_0_proofv4_neuron_proofread.pbz2\")\n",
    "filepath.suffix  == \".pbz2\""
   ]
  },
  {
   "cell_type": "markdown",
   "metadata": {},
   "source": [
    "# Debugging the Splitting Errors"
   ]
  },
  {
   "cell_type": "code",
   "execution_count": null,
   "metadata": {},
   "outputs": [],
   "source": [
    "[k for k in dir(tu) if \"box\" in k]"
   ]
  },
  {
   "cell_type": "code",
   "execution_count": null,
   "metadata": {},
   "outputs": [],
   "source": [
    "neuron_split_idxs"
   ]
  },
  {
   "cell_type": "code",
   "execution_count": null,
   "metadata": {},
   "outputs": [],
   "source": [
    "segment_id = 864691136540183458\n",
    "segment_id = 864691136136605053\n",
    "segment_id = 864691136464362887\n",
    "segment_id = 864691135791213391\n",
    "segment_id = 864691136031747259\n",
    "segment_id = 864691135841099491\n",
    "segment_id = 864691135538151026\n",
    "neuron_objs,neuron_split_idxs = du.decomposition_with_spine_recalculation(segment_id)\n",
    "neuron_obj = neuron_objs[0]"
   ]
  },
  {
   "cell_type": "code",
   "execution_count": null,
   "metadata": {},
   "outputs": [],
   "source": [
    "curr_limb_mesh= su.decompress_pickle(\"curr_limb_mesh\")\n",
    "miss_mesh= su.decompress_pickle(\"miss_mesh\")\n",
    "dec_mesh= su.decompress_pickle(\"dec_mesh\")"
   ]
  },
  {
   "cell_type": "code",
   "execution_count": null,
   "metadata": {},
   "outputs": [],
   "source": [
    "nviz.plot_objects(dec_mesh)"
   ]
  },
  {
   "cell_type": "code",
   "execution_count": null,
   "metadata": {},
   "outputs": [],
   "source": [
    "split_results = pru.multi_soma_split_suggestions(orig_neuron_obj,plot_intermediates=False)"
   ]
  },
  {
   "cell_type": "code",
   "execution_count": null,
   "metadata": {},
   "outputs": [],
   "source": [
    "verbose = True\n",
    "(neuron_list,\n",
    "        neuron_list_errored_limbs_area,\n",
    "         neuron_list_errored_limbs_skeletal_length,\n",
    "        neuron_list_n_multi_soma_errors,\n",
    "        neuron_list_n_same_soma_errors) = pru.split_neuron(orig_neuron_obj,\n",
    "                        limb_results=split_results,\n",
    "                                       verbose=verbose,\n",
    "                                        return_error_info=True\n",
    "                                            )"
   ]
  },
  {
   "cell_type": "code",
   "execution_count": null,
   "metadata": {},
   "outputs": [],
   "source": [
    "ret_path = neuron_list[1].save_compressed_neuron(\"./\",\n",
    "                                      export_mesh=True,\n",
    "                                     return_file_path=True,\n",
    "                                     )"
   ]
  },
  {
   "cell_type": "code",
   "execution_count": null,
   "metadata": {},
   "outputs": [],
   "source": []
  },
  {
   "cell_type": "code",
   "execution_count": null,
   "metadata": {},
   "outputs": [],
   "source": [
    "nviz.plot_objects()"
   ]
  },
  {
   "cell_type": "code",
   "execution_count": null,
   "metadata": {},
   "outputs": [],
   "source": [
    "nviz.plot_objects(miss_mesh,\n",
    "                 main_mesh_color=\"red\",\n",
    "                  show_at_end=False,\n",
    "                 append_figure=True,\n",
    "                  \n",
    "                )"
   ]
  },
  {
   "cell_type": "code",
   "execution_count": null,
   "metadata": {},
   "outputs": [],
   "source": []
  },
  {
   "cell_type": "code",
   "execution_count": null,
   "metadata": {},
   "outputs": [],
   "source": [
    "orig_neuron_obj_path = (minnie.Decomposition & dict(segment_id=segment_id)).fetch1(\"decomposition\")\n",
    "orig_neuron_obj = du.filepath_to_neuron_obj(orig_neuron_obj_path)"
   ]
  },
  {
   "cell_type": "code",
   "execution_count": null,
   "metadata": {},
   "outputs": [],
   "source": [
    "nviz.visualize_neuron_lite(orig_neuron_obj)"
   ]
  },
  {
   "cell_type": "code",
   "execution_count": null,
   "metadata": {},
   "outputs": [],
   "source": [
    "orig_neuron_obj.n_somas"
   ]
  },
  {
   "cell_type": "code",
   "execution_count": null,
   "metadata": {},
   "outputs": [],
   "source": []
  },
  {
   "cell_type": "code",
   "execution_count": null,
   "metadata": {},
   "outputs": [],
   "source": []
  },
  {
   "cell_type": "code",
   "execution_count": null,
   "metadata": {},
   "outputs": [],
   "source": [
    "axon_mesh_filtered_idx = tu.filter_meshes_by_containing_coordinates(diff_meshes,\n",
    "                                              nullifying_points=limb_obj.current_touching_soma_vertices,\n",
    "                                               method=\"distance\",\n",
    "                                               distance_threshold = 0,\n",
    "                                              filter_away=False,\n",
    "                                            return_indices=True,\n",
    "                                                                   verbose=True)\n",
    "axon_mesh_filtered_idx"
   ]
  },
  {
   "cell_type": "code",
   "execution_count": null,
   "metadata": {},
   "outputs": [],
   "source": [
    "diff_meshes"
   ]
  },
  {
   "cell_type": "code",
   "execution_count": null,
   "metadata": {},
   "outputs": [],
   "source": [
    "import preprocessing_vp2 as pre\n",
    "pre.high_fidelity_axon_decomposition(neuron_obj)"
   ]
  },
  {
   "cell_type": "code",
   "execution_count": null,
   "metadata": {},
   "outputs": [],
   "source": []
  },
  {
   "cell_type": "markdown",
   "metadata": {},
   "source": [
    "# BBox function"
   ]
  },
  {
   "cell_type": "code",
   "execution_count": null,
   "metadata": {},
   "outputs": [],
   "source": [
    "\"\"\"\n",
    "Purpose: To test whether a certain number of points line within a bounding box \n",
    "\n",
    "\"\"\""
   ]
  },
  {
   "cell_type": "markdown",
   "metadata": {},
   "source": [
    "# Need a table to store the fully axon processed neurons"
   ]
  },
  {
   "cell_type": "code",
   "execution_count": null,
   "metadata": {},
   "outputs": [],
   "source": [
    "minnie.AutoProofreadVersion.describe()"
   ]
  },
  {
   "cell_type": "markdown",
   "metadata": {},
   "source": [
    "# Testing Populating the Axon Decomposition Table"
   ]
  },
  {
   "cell_type": "code",
   "execution_count": null,
   "metadata": {},
   "outputs": [],
   "source": [
    "verbose = True"
   ]
  },
  {
   "cell_type": "code",
   "execution_count": null,
   "metadata": {},
   "outputs": [],
   "source": [
    "curr_table = (minnie.Decomposition() & \"n_limbs = 10\" & \"n_somas=2\")\n",
    "curr_table"
   ]
  },
  {
   "cell_type": "code",
   "execution_count": null,
   "metadata": {},
   "outputs": [],
   "source": [
    "key = (curr_table & dict(segment_id = 864691135012573174)).proj().fetch1()\n",
    "key"
   ]
  },
  {
   "cell_type": "code",
   "execution_count": null,
   "metadata": {},
   "outputs": [],
   "source": [
    "verbose = True\n",
    "# 1) Pull Down All of the Neurons\n",
    "segment_id = key[\"segment_id\"]\n",
    "\n",
    "whole_pass_time = time.time()\n",
    "\n",
    "#1) Pull Down all the Neuron Objects associated with a segment_id\n",
    "\n",
    "neuron_objs,neuron_split_idxs = du.decomposition_with_spine_recalculation(segment_id)\n",
    "\n",
    "if verbose:\n",
    "    print(f\"Number of Neurons found ={len(neuron_objs)}\")\n",
    "    \n",
    "#For each neuron:\n",
    "#for split_index,neuron_obj_pre_split in zip(neuron_split_idxs,neuron_objs):\n"
   ]
  },
  {
   "cell_type": "code",
   "execution_count": null,
   "metadata": {
    "scrolled": true
   },
   "outputs": [],
   "source": [
    "split_index = 1\n",
    "neuron_obj = neuron_objs[split_index]\n",
    "\n",
    "#Run the Axon Decomposition\n",
    "neuron_obj_with_web = au.complete_axon_processing(neuron_obj,\n",
    "                                     verbose=True)"
   ]
  },
  {
   "cell_type": "code",
   "execution_count": null,
   "metadata": {},
   "outputs": [],
   "source": [
    "neuron_obj_with_web = n_obj"
   ]
  },
  {
   "cell_type": "code",
   "execution_count": null,
   "metadata": {
    "scrolled": false
   },
   "outputs": [],
   "source": [
    "# Just trying to filter neuron to se what it would look like\n",
    "filter_list = pru.v4_exc_filters()\n",
    "inh_exc_class=\"excitatory\"\n",
    "perform_axon_classification = False\n",
    "plot_limb_branch_filter_with_disconnect_effect = True\n",
    "\n",
    "filtered_neuron,filtering_info = pru.proofread_neuron_class_predetermined(neuron_obj_with_web,\n",
    "        inh_exc_class=inh_exc_class,\n",
    "        perform_axon_classification=False,\n",
    "\n",
    "        plot_limb_branch_filter_with_disconnect_effect = plot_limb_branch_filter_with_disconnect_effect,\n",
    "\n",
    "\n",
    "        plot_final_filtered_neuron = False,\n",
    "\n",
    "        #arguments for the axon high fidelity:\n",
    "        plot_new_axon_limb_correspondence = False,\n",
    "        plot_new_limb_object = False,\n",
    "        plot_final_revised_axon_branch = False,\n",
    "\n",
    "        verbose = False,\n",
    "        verbose_outline = verbose,\n",
    "        filter_list = filter_list,\n",
    "        high_fidelity_axon_on_excitatory = perform_axon_classification,\n",
    "                                                                             )"
   ]
  },
  {
   "cell_type": "code",
   "execution_count": null,
   "metadata": {
    "scrolled": false
   },
   "outputs": [],
   "source": [
    "nviz.plot_original_vs_proofread(original = neuron_obj,\n",
    "    proofread = filtered_neuron,\n",
    "    original_color = \"red\",\n",
    "    proofread_color = \"blue\",\n",
    "    mesh_alpha = 0.3,\n",
    "    plot_mesh= True,\n",
    "    plot_skeleton = True)"
   ]
  },
  {
   "cell_type": "code",
   "execution_count": null,
   "metadata": {},
   "outputs": [],
   "source": [
    "filtered_neuron.description"
   ]
  },
  {
   "cell_type": "code",
   "execution_count": null,
   "metadata": {},
   "outputs": [],
   "source": [
    "minnie.Decomposition() & \"n_somas = 2\""
   ]
  },
  {
   "cell_type": "code",
   "execution_count": null,
   "metadata": {},
   "outputs": [],
   "source": [
    "minnie.DecompositionAxon()"
   ]
  },
  {
   "cell_type": "code",
   "execution_count": null,
   "metadata": {},
   "outputs": [],
   "source": [
    "minnie.DecompositionAxon() & \"axon_length>1000\" & \"segment_id=864691134917425418\""
   ]
  },
  {
   "cell_type": "code",
   "execution_count": null,
   "metadata": {},
   "outputs": [],
   "source": [
    "n_obj = du.decomposition_with_spine_recalculation(864691134917425418,0)"
   ]
  },
  {
   "cell_type": "code",
   "execution_count": null,
   "metadata": {},
   "outputs": [],
   "source": [
    "orig_seg_mesh = du.fetch_segment_id_mesh(n_obj.segment_id)"
   ]
  },
  {
   "cell_type": "code",
   "execution_count": null,
   "metadata": {},
   "outputs": [],
   "source": [
    "orig_seg_mesh"
   ]
  },
  {
   "cell_type": "code",
   "execution_count": null,
   "metadata": {},
   "outputs": [],
   "source": [
    "nviz.plot_original_vs_proofread(original = n_obj,\n",
    "    proofread = filtered_neuron,\n",
    "    original_color = \"red\",\n",
    "    proofread_color = \"blue\",\n",
    "    mesh_alpha = 0.3,\n",
    "    plot_mesh= True,\n",
    "    plot_skeleton = False)"
   ]
  },
  {
   "cell_type": "code",
   "execution_count": null,
   "metadata": {},
   "outputs": [],
   "source": [
    "x = None\n",
    "try:\n",
    "    du.decomposition_with_spine_recalculation(864691136231316382,0)\n",
    "except Exception as e:\n",
    "    x = e.args[0]\n",
    "    print(e)"
   ]
  },
  {
   "cell_type": "code",
   "execution_count": null,
   "metadata": {},
   "outputs": [],
   "source": [
    "import datajoint_utils as du\n",
    "du.datajoint_filepath_error_to_filepath(error = x)"
   ]
  },
  {
   "cell_type": "code",
   "execution_count": null,
   "metadata": {},
   "outputs": [],
   "source": [
    "save_time = time.time()\n",
    "ret_file_path = filtered_neuron.save_compressed_neuron(\n",
    "                                #output_folder=str(du.get_decomposition_path()),\n",
    "                                output_folder = \"./\",\n",
    "                                #file_name=f\"{neuron_obj_with_web.segment_id}_validation_full_axon\",\n",
    "                                  return_file_path=True,\n",
    "                                 export_mesh=False,\n",
    "                                 suppress_output=False)\n",
    "\n",
    "ret_file_path_str = str(ret_file_path.absolute()) + \".pbz2\"\n",
    "print(f\"ret_file_path_str = {ret_file_path_str}\")\n",
    "print(f\"Save time = {time.time() - save_time}\")"
   ]
  },
  {
   "cell_type": "code",
   "execution_count": null,
   "metadata": {},
   "outputs": [],
   "source": [
    "n_dict = dict(key,\n",
    "              split_index = split_index,\n",
    "              axon_version = au.axon_version,\n",
    "             decomposition=ret_file_path_str,\n",
    "             axon_length=filtered_neuron.axon_length,\n",
    "              run_time = np.round(time.time() - whole_pass_time,2)\n",
    "             )\n",
    "\n",
    "n_dict"
   ]
  },
  {
   "cell_type": "markdown",
   "metadata": {},
   "source": [
    "# Fetching an example neuron"
   ]
  },
  {
   "cell_type": "code",
   "execution_count": null,
   "metadata": {},
   "outputs": [],
   "source": [
    "du.decomposition_with_spine_recalculation?"
   ]
  },
  {
   "cell_type": "code",
   "execution_count": null,
   "metadata": {},
   "outputs": [],
   "source": [
    "table_to_neuron_objs(table,\n",
    "    return_one=False,\n",
    "    return_split_index=False)"
   ]
  },
  {
   "cell_type": "code",
   "execution_count": null,
   "metadata": {},
   "outputs": [],
   "source": [
    "du.table_to_neuron_objs"
   ]
  },
  {
   "cell_type": "code",
   "execution_count": null,
   "metadata": {},
   "outputs": [],
   "source": [
    "curr_table = minnie.DecompositionSplit() & \"segment_id = 864691134917398026\"\n",
    "curr_table"
   ]
  },
  {
   "cell_type": "code",
   "execution_count": null,
   "metadata": {},
   "outputs": [],
   "source": []
  },
  {
   "cell_type": "code",
   "execution_count": null,
   "metadata": {},
   "outputs": [],
   "source": [
    "\"\"\"\n",
    "Need a function that will go and get the \n",
    "\n",
    "\n",
    "\"\"\"\n"
   ]
  }
 ],
 "metadata": {
  "kernelspec": {
   "display_name": "Python 3",
   "language": "python",
   "name": "python3"
  },
  "language_info": {
   "codemirror_mode": {
    "name": "ipython",
    "version": 3
   },
   "file_extension": ".py",
   "mimetype": "text/x-python",
   "name": "python",
   "nbconvert_exporter": "python",
   "pygments_lexer": "ipython3",
   "version": "3.6.9"
  }
 },
 "nbformat": 4,
 "nbformat_minor": 4
}
