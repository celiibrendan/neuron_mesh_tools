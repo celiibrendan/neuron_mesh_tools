{
 "cells": [
  {
   "cell_type": "code",
   "execution_count": null,
   "metadata": {},
   "outputs": [],
   "source": [
    "\"\"\"\n",
    "Purpose: To check the progress of version 4\n",
    "pods running\n",
    "\n",
    "\"\"\""
   ]
  },
  {
   "cell_type": "code",
   "execution_count": 1,
   "metadata": {},
   "outputs": [],
   "source": [
    "%load_ext autoreload\n",
    "%autoreload 2"
   ]
  },
  {
   "cell_type": "code",
   "execution_count": 2,
   "metadata": {},
   "outputs": [
    {
     "name": "stderr",
     "output_type": "stream",
     "text": [
      "INFO - 2021-06-01 20:41:19,552 - settings - Setting database.host to at-database.ad.bcm.edu\n",
      "INFO - 2021-06-01 20:41:19,555 - settings - Setting database.user to celiib\n",
      "INFO - 2021-06-01 20:41:19,556 - settings - Setting database.password to newceliipass\n",
      "INFO - 2021-06-01 20:41:19,560 - settings - Setting stores to {'minnie65': {'protocol': 'file', 'location': '/mnt/dj-stor01/platinum/minnie65', 'stage': '/mnt/dj-stor01/platinum/minnie65'}, 'meshes': {'protocol': 'file', 'location': '/mnt/dj-stor01/platinum/minnie65/02/meshes', 'stage': '/mnt/dj-stor01/platinum/minnie65/02/meshes'}, 'decimated_meshes': {'protocol': 'file', 'location': '/mnt/dj-stor01/platinum/minnie65/02/decimated_meshes', 'stage': '/mnt/dj-stor01/platinum/minnie65/02/decimated_meshes'}, 'skeletons': {'protocol': 'file', 'location': '/mnt/dj-stor01/platinum/minnie65/02/skeletons'}}\n",
      "INFO - 2021-06-01 20:41:19,561 - settings - Setting enable_python_native_blobs to True\n",
      "INFO - 2021-06-01 20:41:19,576 - connection - Connected celiib@at-database.ad.bcm.edu:3306\n"
     ]
    },
    {
     "name": "stdout",
     "output_type": "stream",
     "text": [
      "Connecting celiib@at-database.ad.bcm.edu:3306\n"
     ]
    },
    {
     "name": "stderr",
     "output_type": "stream",
     "text": [
      "INFO - 2021-06-01 20:41:20,092 - settings - Setting enable_python_native_blobs to True\n",
      "INFO - 2021-06-01 20:41:20,097 - settings - Setting database.host to at-database.ad.bcm.edu\n",
      "INFO - 2021-06-01 20:41:20,098 - settings - Setting database.user to celiib\n",
      "INFO - 2021-06-01 20:41:20,099 - settings - Setting database.password to newceliipass\n",
      "INFO - 2021-06-01 20:41:20,099 - settings - Setting database.host to at-database.ad.bcm.edu\n",
      "INFO - 2021-06-01 20:41:20,100 - settings - Setting database.user to celiib\n",
      "INFO - 2021-06-01 20:41:20,101 - settings - Setting database.password to newceliipass\n",
      "INFO - 2021-06-01 20:41:20,103 - settings - Setting enable_python_native_blobs to True\n",
      "INFO - 2021-06-01 20:41:20,616 - settings - Setting enable_python_native_blobs to True\n"
     ]
    }
   ],
   "source": [
    "import numpy as np\n",
    "import datajoint as dj\n",
    "import trimesh\n",
    "from tqdm.notebook import tqdm\n",
    "from pathlib import Path\n",
    "\n",
    "from os import sys\n",
    "sys.path.append(\"/meshAfterParty/\")\n",
    "sys.path.append(\"/meshAfterParty/meshAfterParty\")\n",
    "\n",
    "import datajoint_utils as du\n",
    "from importlib import reload"
   ]
  },
  {
   "cell_type": "code",
   "execution_count": 3,
   "metadata": {},
   "outputs": [
    {
     "name": "stderr",
     "output_type": "stream",
     "text": [
      "INFO - 2021-06-01 20:41:20,788 - settings - Setting database.host to at-database.ad.bcm.edu\n",
      "INFO - 2021-06-01 20:41:20,790 - settings - Setting database.user to celiib\n",
      "INFO - 2021-06-01 20:41:20,791 - settings - Setting database.password to newceliipass\n",
      "INFO - 2021-06-01 20:41:20,794 - settings - Setting enable_python_native_blobs to True\n",
      "INFO - 2021-06-01 20:41:21,366 - settings - Setting enable_python_native_blobs to True\n"
     ]
    }
   ],
   "source": [
    "import datajoint as dj\n",
    "version = 88\n",
    "nucleus_table_ids = du.nucleus_info_table(version = 88) & \"segment_id>0\"\n",
    "minnie, schema = du.configure_minnie_vm()\n"
   ]
  },
  {
   "cell_type": "markdown",
   "metadata": {},
   "source": [
    "# The list of segments"
   ]
  },
  {
   "cell_type": "code",
   "execution_count": 4,
   "metadata": {},
   "outputs": [
    {
     "data": {
      "text/html": [
       "\n",
       "        \n",
       "        <style type=\"text/css\">\n",
       "            .Relation{\n",
       "                border-collapse:collapse;\n",
       "            }\n",
       "            .Relation th{\n",
       "                background: #A0A0A0; color: #ffffff; padding:4px; border:#f0e0e0 1px solid;\n",
       "                font-weight: normal; font-family: monospace; font-size: 100%;\n",
       "            }\n",
       "            .Relation td{\n",
       "                padding:4px; border:#f0e0e0 1px solid; font-size:100%;\n",
       "            }\n",
       "            .Relation tr:nth-child(odd){\n",
       "                background: #ffffff;\n",
       "            }\n",
       "            .Relation tr:nth-child(even){\n",
       "                background: #f3f1ff;\n",
       "            }\n",
       "            /* Tooltip container */\n",
       "            .djtooltip {\n",
       "            }\n",
       "            /* Tooltip text */\n",
       "            .djtooltip .djtooltiptext {\n",
       "                visibility: hidden;\n",
       "                width: 120px;\n",
       "                background-color: black;\n",
       "                color: #fff;\n",
       "                text-align: center;\n",
       "                padding: 5px 0;\n",
       "                border-radius: 6px;\n",
       "                /* Position the tooltip text - see examples below! */\n",
       "                position: absolute;\n",
       "                z-index: 1;\n",
       "            }\n",
       "            #primary {\n",
       "                font-weight: bold;\n",
       "                color: black;\n",
       "            }\n",
       "\n",
       "            #nonprimary {\n",
       "                font-weight: normal;\n",
       "                color: white;\n",
       "            }\n",
       "\n",
       "            /* Show the tooltip text when you mouse over the tooltip container */\n",
       "            .djtooltip:hover .djtooltiptext {\n",
       "                visibility: visible;\n",
       "            }\n",
       "        </style>\n",
       "        \n",
       "        <b></b>\n",
       "            <div style=\"max-height:1000px;max-width:1500px;overflow:auto;\">\n",
       "            <table border=\"1\" class=\"Relation\">\n",
       "                <thead> <tr style=\"text-align: right;\"> <th> <div class=\"djtooltip\">\n",
       "                                <p id=\"primary\">segment_id</p>\n",
       "                                <span class=\"djtooltiptext\">segment id for those to be decimated</span>\n",
       "                            </div> </th> </tr> </thead>\n",
       "                <tbody> <tr> <td>864691131559524855</td></tr><tr><td>864691131658969700</td></tr><tr><td>864691131705161142</td></tr><tr><td>864691131771477291</td></tr><tr><td>864691131800703080</td></tr><tr><td>864691131820044899</td></tr><tr><td>864691131828706323</td></tr><tr><td>864691131834278152</td></tr><tr><td>864691131848667157</td></tr><tr><td>864691131906133483</td></tr><tr><td>864691131916334184</td></tr><tr><td>864691131927301557</td> </tr> </tbody>\n",
       "            </table>\n",
       "            <p>...</p>\n",
       "            <p>Total: 110220</p></div>\n",
       "            "
      ],
      "text/plain": [
       "*segment_id   \n",
       "+------------+\n",
       "86469113155952\n",
       "86469113165896\n",
       "86469113170516\n",
       "86469113177147\n",
       "86469113180070\n",
       "86469113182004\n",
       "86469113182870\n",
       "86469113183427\n",
       "86469113184866\n",
       "86469113190613\n",
       "86469113191633\n",
       "86469113192730\n",
       "   ...\n",
       " (Total: 110220)"
      ]
     },
     "execution_count": 4,
     "metadata": {},
     "output_type": "execute_result"
    }
   ],
   "source": [
    "minnie.NucleiSegmentsRun4()"
   ]
  },
  {
   "cell_type": "markdown",
   "metadata": {},
   "source": [
    "# Decimation"
   ]
  },
  {
   "cell_type": "code",
   "execution_count": null,
   "metadata": {},
   "outputs": [],
   "source": [
    "curr_table = (minnie.schema.jobs & \"table_name='__decimation'\")\n",
    "curr_table"
   ]
  },
  {
   "cell_type": "markdown",
   "metadata": {},
   "source": [
    "# Soma Extraction"
   ]
  },
  {
   "cell_type": "code",
   "execution_count": null,
   "metadata": {},
   "outputs": [],
   "source": [
    "minnie.BaylorSegmentCentroid()"
   ]
  },
  {
   "cell_type": "code",
   "execution_count": null,
   "metadata": {},
   "outputs": [],
   "source": [
    "curr_table = (minnie.schema.jobs & \"table_name='__baylor_segment_centroid'\")\n",
    "curr_table"
   ]
  },
  {
   "cell_type": "code",
   "execution_count": null,
   "metadata": {},
   "outputs": [],
   "source": [
    "len(minnie.BaylorSegmentCentroid()) - 102595"
   ]
  },
  {
   "cell_type": "code",
   "execution_count": null,
   "metadata": {},
   "outputs": [],
   "source": [
    "decimation_version = 0\n",
    "decimation_ratio = 0.25\n",
    "verts_min = 10000\n",
    "key_source =  (((minnie.Decimation & f\"n_vertices > {verts_min}\").proj(decimation_version='version') & \n",
    "                            \"decimation_version=\" + str(decimation_version) &\n",
    "                       f\"decimation_ratio={decimation_ratio}\") & (\n",
    "                                                                  du.proofreading_segment_id_restriction()\n",
    "                                                                 ))\n",
    "(dj.U(\"segment_id\") & key_source) - (dj.U(\"segment_id\") & minnie.BaylorSegmentCentroid())"
   ]
  },
  {
   "cell_type": "markdown",
   "metadata": {},
   "source": [
    "# 4) Decomposition"
   ]
  },
  {
   "cell_type": "code",
   "execution_count": null,
   "metadata": {},
   "outputs": [],
   "source": [
    "key_source =  ((minnie.Decimation).proj(decimation_version='version') & \n",
    "                            \"decimation_version=\" + str(decimation_version) &\n",
    "                       f\"decimation_ratio={decimation_ratio}\" &  (minnie.BaylorSegmentCentroid() & \"multiplicity>0\")\n",
    "                  & du.proofreading_segment_id_restriction())\n",
    "(dj.U(\"segment_id\") & key_source) - (dj.U(\"segment_id\") & minnie.Decomposition())"
   ]
  },
  {
   "cell_type": "code",
   "execution_count": null,
   "metadata": {
    "scrolled": true
   },
   "outputs": [],
   "source": [
    "len(minnie.Decomposition()) - 77723"
   ]
  },
  {
   "cell_type": "code",
   "execution_count": null,
   "metadata": {
    "scrolled": true
   },
   "outputs": [],
   "source": [
    "curr_table = (minnie.schema.jobs & \"table_name='__decomposition'\")\n",
    "curr_table\n",
    "#du.restrict_jobs_table_by_error_substring(curr_table,\"SystemExit: SIGTERM received\").delete()"
   ]
  },
  {
   "cell_type": "markdown",
   "metadata": {},
   "source": [
    "# DecompositionAxon"
   ]
  },
  {
   "cell_type": "code",
   "execution_count": null,
   "metadata": {},
   "outputs": [],
   "source": [
    "\"\"\"\n",
    "NOTE: quit some jobs at 11:20 so could erase those from the jobs \n",
    "schema\n",
    "\n",
    "\"\"\""
   ]
  },
  {
   "cell_type": "code",
   "execution_count": null,
   "metadata": {},
   "outputs": [],
   "source": [
    "\"\"\"\n",
    "Reminder have to eliminate the jobs that were ended prior to running\n",
    "the new batch\n",
    "\n",
    "Already did using: \n",
    "# curr_table = (minnie.schema.jobs & \"table_name='__decomposition_axon'\")\n",
    "# (curr_table & \"timestamp<'2021-05-17 14:00:03'\").delete()\n",
    "\n",
    "\"\"\""
   ]
  },
  {
   "cell_type": "code",
   "execution_count": null,
   "metadata": {},
   "outputs": [],
   "source": [
    "len(minnie.DecompositionAxon())"
   ]
  },
  {
   "cell_type": "code",
   "execution_count": null,
   "metadata": {},
   "outputs": [],
   "source": [
    "len(minnie.Decomposition()) - 75967"
   ]
  },
  {
   "cell_type": "code",
   "execution_count": null,
   "metadata": {},
   "outputs": [],
   "source": [
    "minnie.Decomposition()"
   ]
  },
  {
   "cell_type": "code",
   "execution_count": null,
   "metadata": {},
   "outputs": [],
   "source": [
    "key_source = minnie.Decomposition() & du.proofreading_segment_id_restriction()\n",
    "(dj.U(\"segment_id\") & key_source) - (dj.U(\"segment_id\") & minnie.DecompositionAxon())"
   ]
  },
  {
   "cell_type": "markdown",
   "metadata": {},
   "source": [
    "# Proofreading Table"
   ]
  },
  {
   "cell_type": "code",
   "execution_count": null,
   "metadata": {},
   "outputs": [],
   "source": [
    "(minnie.AutoProofreadNeurons4() & \"axon_length > 1000\" & \"cell_type_predicted='excitatory'\" )"
   ]
  },
  {
   "cell_type": "code",
   "execution_count": null,
   "metadata": {},
   "outputs": [],
   "source": [
    "curr_table = (minnie.schema.jobs & \"table_name='__auto_proofread_neurons4'\")\n",
    "curr_table#.delete()"
   ]
  },
  {
   "cell_type": "markdown",
   "metadata": {},
   "source": [
    "# Inspecting Certain Neurons"
   ]
  },
  {
   "cell_type": "code",
   "execution_count": null,
   "metadata": {},
   "outputs": [],
   "source": [
    "(minnie.AutoProofreadNeurons4() & \"spine_category='densely_spined'\") & \"axon_length=0\""
   ]
  },
  {
   "cell_type": "code",
   "execution_count": null,
   "metadata": {},
   "outputs": [],
   "source": [
    "((minnie.DecompositionAxon() & \"axon_length>1000\") & \n",
    "(dj.U(\"segment_id\",\"split_index\") & (minnie.AutoProofreadNeurons4() & \"spine_category='densely_spined'\" & \"axon_length=0\")).proj())"
   ]
  },
  {
   "cell_type": "code",
   "execution_count": null,
   "metadata": {},
   "outputs": [],
   "source": [
    "minnie.AutoProofreadStats4() & dict(segment_id=864691135495637444)"
   ]
  },
  {
   "cell_type": "code",
   "execution_count": null,
   "metadata": {},
   "outputs": [],
   "source": [
    "minnie.AutoProofreadNeurons4() & dict(segment_id=864691135495637444)"
   ]
  },
  {
   "cell_type": "code",
   "execution_count": null,
   "metadata": {},
   "outputs": [],
   "source": [
    "du.plot_proofread_neuron(864691134884777978,\n",
    "                        split_index=0,\n",
    "                        plot_proofreading_synapses=True)"
   ]
  },
  {
   "cell_type": "code",
   "execution_count": null,
   "metadata": {},
   "outputs": [],
   "source": [
    "dir(du)"
   ]
  },
  {
   "cell_type": "code",
   "execution_count": null,
   "metadata": {},
   "outputs": [],
   "source": []
  },
  {
   "cell_type": "code",
   "execution_count": null,
   "metadata": {},
   "outputs": [],
   "source": [
    "decomp_path = (minnie.DecompositionAxon() & dict(segment_id=864691135495637444)).fetch1(\"decomposition\")\n",
    "neuron_obj = du.filepath_to_neuron_obj(decomp_path)"
   ]
  },
  {
   "cell_type": "code",
   "execution_count": null,
   "metadata": {},
   "outputs": [],
   "source": [
    "import neuron_visualizations as nviz\n",
    "nviz.plot_axon(neuron_obj)"
   ]
  },
  {
   "cell_type": "code",
   "execution_count": null,
   "metadata": {
    "scrolled": true
   },
   "outputs": [],
   "source": [
    "import proofreading_utils as pru\n",
    "pru.proofread_neuron_class_predetermined(neuron_obj,\n",
    "    inh_exc_class=\"excitatory\",\n",
    "    perform_axon_classification=False,\n",
    "    plot_limb_branch_filter_with_disconnect_effect=True,\n",
    "    high_fidelity_axon_on_excitatory=False,\n",
    "    plot_final_filtered_neuron=False,\n",
    "    plot_new_axon_limb_correspondence=False,\n",
    "    plot_new_limb_object=False,\n",
    "    plot_final_revised_axon_branch=False,\n",
    "    verbose=True,\n",
    "    verbose_outline=True,\n",
    "    return_limb_branch_dict_to_cancel=True,\n",
    "    filter_list=pru.v4_exc_filters())"
   ]
  },
  {
   "cell_type": "markdown",
   "metadata": {},
   "source": [
    "# Inspecting the Stitching"
   ]
  },
  {
   "cell_type": "code",
   "execution_count": 5,
   "metadata": {},
   "outputs": [
    {
     "data": {
      "text/html": [
       "\n",
       "        \n",
       "        <style type=\"text/css\">\n",
       "            .Relation{\n",
       "                border-collapse:collapse;\n",
       "            }\n",
       "            .Relation th{\n",
       "                background: #A0A0A0; color: #ffffff; padding:4px; border:#f0e0e0 1px solid;\n",
       "                font-weight: normal; font-family: monospace; font-size: 100%;\n",
       "            }\n",
       "            .Relation td{\n",
       "                padding:4px; border:#f0e0e0 1px solid; font-size:100%;\n",
       "            }\n",
       "            .Relation tr:nth-child(odd){\n",
       "                background: #ffffff;\n",
       "            }\n",
       "            .Relation tr:nth-child(even){\n",
       "                background: #f3f1ff;\n",
       "            }\n",
       "            /* Tooltip container */\n",
       "            .djtooltip {\n",
       "            }\n",
       "            /* Tooltip text */\n",
       "            .djtooltip .djtooltiptext {\n",
       "                visibility: hidden;\n",
       "                width: 120px;\n",
       "                background-color: black;\n",
       "                color: #fff;\n",
       "                text-align: center;\n",
       "                padding: 5px 0;\n",
       "                border-radius: 6px;\n",
       "                /* Position the tooltip text - see examples below! */\n",
       "                position: absolute;\n",
       "                z-index: 1;\n",
       "            }\n",
       "            #primary {\n",
       "                font-weight: bold;\n",
       "                color: black;\n",
       "            }\n",
       "\n",
       "            #nonprimary {\n",
       "                font-weight: normal;\n",
       "                color: white;\n",
       "            }\n",
       "\n",
       "            /* Show the tooltip text when you mouse over the tooltip container */\n",
       "            .djtooltip:hover .djtooltiptext {\n",
       "                visibility: visible;\n",
       "            }\n",
       "        </style>\n",
       "        \n",
       "        <b></b>\n",
       "            <div style=\"max-height:1000px;max-width:1500px;overflow:auto;\">\n",
       "            <table border=\"1\" class=\"Relation\">\n",
       "                <thead> <tr style=\"text-align: right;\"> <th> <div class=\"djtooltip\">\n",
       "                                <p id=\"primary\">segment_id</p>\n",
       "                                <span class=\"djtooltiptext\">segment id unique within each Segmentation</span>\n",
       "                            </div></th><th><div class=\"djtooltip\">\n",
       "                                <p id=\"primary\">decimation_version</p>\n",
       "                                <span class=\"djtooltiptext\"></span>\n",
       "                            </div></th><th><div class=\"djtooltip\">\n",
       "                                <p id=\"primary\">decimation_ratio</p>\n",
       "                                <span class=\"djtooltiptext\">ratio of remaining mesh vertices/faces (which ones depends on what metric the decimation technique uses)</span>\n",
       "                            </div></th><th><div class=\"djtooltip\">\n",
       "                                <p id=\"primary\">ver</p>\n",
       "                                <span class=\"djtooltiptext\">the version number of the materializaiton</span>\n",
       "                            </div></th><th><div class=\"djtooltip\">\n",
       "                                <p id=\"primary\">process_version</p>\n",
       "                                <span class=\"djtooltiptext\">the version of the preprocessing pipeline run</span>\n",
       "                            </div></th><th><div class=\"djtooltip\">\n",
       "                                <p id=\"primary\">index</p>\n",
       "                                <span class=\"djtooltiptext\">the index of the neuron object that resulted from that mesh (indexed starting at 0)</span>\n",
       "                            </div></th><th><div class=\"djtooltip\">\n",
       "                                <p id=\"primary\">split_index</p>\n",
       "                                <span class=\"djtooltiptext\">the index of the neuron object that resulted AFTER THE SPLITTING ALGORITHM</span>\n",
       "                            </div></th><th><div class=\"djtooltip\">\n",
       "                                <p id=\"primary\">proof_version</p>\n",
       "                                <span class=\"djtooltiptext\">key by which to lookup the decomposition process version</span>\n",
       "                            </div></th><th><div class=\"djtooltip\">\n",
       "                                <p id=\"nonprimary\">mesh_faces</p>\n",
       "                                <span class=\"djtooltiptext\">faces indices that were saved off as belonging to proofread neuron (external storage)</span>\n",
       "                            </div></th><th><div class=\"djtooltip\">\n",
       "                                <p id=\"nonprimary\">axon_faces</p>\n",
       "                                <span class=\"djtooltiptext\">faces indices that were saved off as belonging to proofread neuron's axon (external storage)</span>\n",
       "                            </div></th><th><div class=\"djtooltip\">\n",
       "                                <p id=\"nonprimary\">axon_skeleton</p>\n",
       "                                <span class=\"djtooltiptext\">the skeleton of the axon of the final proofread neuorn</span>\n",
       "                            </div></th><th><div class=\"djtooltip\">\n",
       "                                <p id=\"nonprimary\">dendrite_skeleton</p>\n",
       "                                <span class=\"djtooltiptext\">the skeleton of the dendrite branches of the final proofread neuorn</span>\n",
       "                            </div></th><th><div class=\"djtooltip\">\n",
       "                                <p id=\"nonprimary\">neuron_skeleton</p>\n",
       "                                <span class=\"djtooltiptext\">the skeleton of the entire neuron</span>\n",
       "                            </div></th><th><div class=\"djtooltip\">\n",
       "                                <p id=\"nonprimary\">axon_on_dendrite_merges_error_area</p>\n",
       "                                <span class=\"djtooltiptext\">the area (in um ^ 2) of the faces canceled out by filter</span>\n",
       "                            </div></th><th><div class=\"djtooltip\">\n",
       "                                <p id=\"nonprimary\">axon_on_dendrite_merges_error_length</p>\n",
       "                                <span class=\"djtooltiptext\">the length (in um) of skeleton distance canceled out by filter</span>\n",
       "                            </div></th><th><div class=\"djtooltip\">\n",
       "                                <p id=\"nonprimary\">low_branch_clusters_error_area</p>\n",
       "                                <span class=\"djtooltiptext\">the area (in um ^ 2) of the faces canceled out by filter</span>\n",
       "                            </div></th><th><div class=\"djtooltip\">\n",
       "                                <p id=\"nonprimary\">low_branch_clusters_error_length</p>\n",
       "                                <span class=\"djtooltiptext\">the length (in um) of skeleton distance canceled out by filter</span>\n",
       "                            </div></th><th><div class=\"djtooltip\">\n",
       "                                <p id=\"nonprimary\">dendrite_on_axon_merges_error_area</p>\n",
       "                                <span class=\"djtooltiptext\">the area (in um ^ 2) of the faces canceled out by filter</span>\n",
       "                            </div></th><th><div class=\"djtooltip\">\n",
       "                                <p id=\"nonprimary\">dendrite_on_axon_merges_error_length</p>\n",
       "                                <span class=\"djtooltiptext\">the length (in um) of skeleton distance canceled out by filter</span>\n",
       "                            </div></th><th><div class=\"djtooltip\">\n",
       "                                <p id=\"nonprimary\">double_back_and_width_change_error_area</p>\n",
       "                                <span class=\"djtooltiptext\">the area (in um ^ 2) of the faces canceled out by filter</span>\n",
       "                            </div></th><th><div class=\"djtooltip\">\n",
       "                                <p id=\"nonprimary\">double_back_and_width_change_error_length</p>\n",
       "                                <span class=\"djtooltiptext\">the length (in um) of skeleton distance canceled out by filter</span>\n",
       "                            </div></th><th><div class=\"djtooltip\">\n",
       "                                <p id=\"nonprimary\">crossovers_error_area</p>\n",
       "                                <span class=\"djtooltiptext\">the area (in um ^ 2) of the faces canceled out by filter</span>\n",
       "                            </div></th><th><div class=\"djtooltip\">\n",
       "                                <p id=\"nonprimary\">crossovers_error_length</p>\n",
       "                                <span class=\"djtooltiptext\">the length (in um) of skeleton distance canceled out by filter</span>\n",
       "                            </div></th><th><div class=\"djtooltip\">\n",
       "                                <p id=\"nonprimary\">high_degree_coordinates_error_area</p>\n",
       "                                <span class=\"djtooltiptext\">the area (in um ^ 2) of the faces canceled out by filter</span>\n",
       "                            </div></th><th><div class=\"djtooltip\">\n",
       "                                <p id=\"nonprimary\">high_degree_coordinates_error_length</p>\n",
       "                                <span class=\"djtooltiptext\">the length (in um) of skeleton distance canceled out by filter</span>\n",
       "                            </div></th><th><div class=\"djtooltip\">\n",
       "                                <p id=\"nonprimary\">high_degree_branching_error_area</p>\n",
       "                                <span class=\"djtooltiptext\">the area (in um ^ 2) of the faces canceled out by filter</span>\n",
       "                            </div></th><th><div class=\"djtooltip\">\n",
       "                                <p id=\"nonprimary\">high_degree_branching_error_length</p>\n",
       "                                <span class=\"djtooltiptext\">the length (in um) of skeleton distance canceled out by filter</span>\n",
       "                            </div></th><th><div class=\"djtooltip\">\n",
       "                                <p id=\"nonprimary\">axon_webbing_t_merges_error_area</p>\n",
       "                                <span class=\"djtooltiptext\">the area (in um ^ 2) of the faces canceled out by filter</span>\n",
       "                            </div></th><th><div class=\"djtooltip\">\n",
       "                                <p id=\"nonprimary\">axon_webbing_t_merges_error_length</p>\n",
       "                                <span class=\"djtooltiptext\">the length (in um) of skeleton distance canceled out by filter</span>\n",
       "                            </div></th><th><div class=\"djtooltip\">\n",
       "                                <p id=\"nonprimary\">thick_t_merge_error_area</p>\n",
       "                                <span class=\"djtooltiptext\">the area (in um ^ 2) of the faces canceled out by filter</span>\n",
       "                            </div></th><th><div class=\"djtooltip\">\n",
       "                                <p id=\"nonprimary\">thick_t_merge_error_length</p>\n",
       "                                <span class=\"djtooltiptext\">the length (in um) of skeleton distance canceled out by filter</span>\n",
       "                            </div></th><th><div class=\"djtooltip\">\n",
       "                                <p id=\"nonprimary\">axon_fork_divergence_error_area</p>\n",
       "                                <span class=\"djtooltiptext\">the area (in um ^ 2) of the faces canceled out by filter</span>\n",
       "                            </div></th><th><div class=\"djtooltip\">\n",
       "                                <p id=\"nonprimary\">axon_fork_divergence_error_length</p>\n",
       "                                <span class=\"djtooltiptext\">the length (in um) of skeleton distance canceled out by filter</span>\n",
       "                            </div></th><th><div class=\"djtooltip\">\n",
       "                                <p id=\"nonprimary\">n_valid_syn_presyn_for_split</p>\n",
       "                                <span class=\"djtooltiptext\"></span>\n",
       "                            </div></th><th><div class=\"djtooltip\">\n",
       "                                <p id=\"nonprimary\">n_valid_syn_postsyn_for_split</p>\n",
       "                                <span class=\"djtooltiptext\"></span>\n",
       "                            </div></th><th><div class=\"djtooltip\">\n",
       "                                <p id=\"nonprimary\">n_presyn_error_syn_non_axon</p>\n",
       "                                <span class=\"djtooltiptext\"></span>\n",
       "                            </div></th><th><div class=\"djtooltip\">\n",
       "                                <p id=\"nonprimary\">n_presyn_error_syn</p>\n",
       "                                <span class=\"djtooltiptext\"></span>\n",
       "                            </div></th><th><div class=\"djtooltip\">\n",
       "                                <p id=\"nonprimary\">n_postsyn_error_syn</p>\n",
       "                                <span class=\"djtooltiptext\"></span>\n",
       "                            </div></th><th><div class=\"djtooltip\">\n",
       "                                <p id=\"nonprimary\">total_error_synapses</p>\n",
       "                                <span class=\"djtooltiptext\"></span>\n",
       "                            </div></th><th><div class=\"djtooltip\">\n",
       "                                <p id=\"nonprimary\">total_presyns</p>\n",
       "                                <span class=\"djtooltiptext\"></span>\n",
       "                            </div></th><th><div class=\"djtooltip\">\n",
       "                                <p id=\"nonprimary\">total_postsyns</p>\n",
       "                                <span class=\"djtooltiptext\"></span>\n",
       "                            </div></th><th><div class=\"djtooltip\">\n",
       "                                <p id=\"nonprimary\">total_synapses</p>\n",
       "                                <span class=\"djtooltiptext\"></span>\n",
       "                            </div></th><th><div class=\"djtooltip\">\n",
       "                                <p id=\"nonprimary\">perc_error_presyn</p>\n",
       "                                <span class=\"djtooltiptext\"></span>\n",
       "                            </div></th><th><div class=\"djtooltip\">\n",
       "                                <p id=\"nonprimary\">perc_error_postsyn</p>\n",
       "                                <span class=\"djtooltiptext\"></span>\n",
       "                            </div></th><th><div class=\"djtooltip\">\n",
       "                                <p id=\"nonprimary\">overall_percent_error</p>\n",
       "                                <span class=\"djtooltiptext\"></span>\n",
       "                            </div></th><th><div class=\"djtooltip\">\n",
       "                                <p id=\"nonprimary\">limb_branch_to_cancel</p>\n",
       "                                <span class=\"djtooltiptext\">stores the limb information from</span>\n",
       "                            </div></th><th><div class=\"djtooltip\">\n",
       "                                <p id=\"nonprimary\">red_blue_suggestions</p>\n",
       "                                <span class=\"djtooltiptext\"></span>\n",
       "                            </div> </th> </tr> </thead>\n",
       "                <tbody> <tr> <td>864691135117980637</td>\n",
       "<td>0</td>\n",
       "<td>0.25</td>\n",
       "<td>30.00</td>\n",
       "<td>5</td>\n",
       "<td>0</td>\n",
       "<td>0</td>\n",
       "<td>5</td>\n",
       "<td>=BLOB=</td>\n",
       "<td>=BLOB=</td>\n",
       "<td>=BLOB=</td>\n",
       "<td>=BLOB=</td>\n",
       "<td>=BLOB=</td>\n",
       "<td>1.46</td>\n",
       "<td>1.33</td>\n",
       "<td>nan</td>\n",
       "<td>nan</td>\n",
       "<td>nan</td>\n",
       "<td>nan</td>\n",
       "<td>131.12</td>\n",
       "<td>255.36</td>\n",
       "<td>nan</td>\n",
       "<td>nan</td>\n",
       "<td>nan</td>\n",
       "<td>nan</td>\n",
       "<td>92.85</td>\n",
       "<td>150.4</td>\n",
       "<td>0.0</td>\n",
       "<td>0.0</td>\n",
       "<td>0.0</td>\n",
       "<td>0.0</td>\n",
       "<td>0.0</td>\n",
       "<td>0.0</td>\n",
       "<td>264</td>\n",
       "<td>359</td>\n",
       "<td>17</td>\n",
       "<td>23</td>\n",
       "<td>0</td>\n",
       "<td>23</td>\n",
       "<td>287</td>\n",
       "<td>359</td>\n",
       "<td>646</td>\n",
       "<td>0.0801</td>\n",
       "<td>0.0</td>\n",
       "<td>0.0356</td>\n",
       "<td>=BLOB=</td>\n",
       "<td>=BLOB=</td></tr><tr><td>864691135382556378</td>\n",
       "<td>0</td>\n",
       "<td>0.25</td>\n",
       "<td>30.00</td>\n",
       "<td>5</td>\n",
       "<td>0</td>\n",
       "<td>0</td>\n",
       "<td>5</td>\n",
       "<td>=BLOB=</td>\n",
       "<td>=BLOB=</td>\n",
       "<td>=BLOB=</td>\n",
       "<td>=BLOB=</td>\n",
       "<td>=BLOB=</td>\n",
       "<td>604.91</td>\n",
       "<td>632.37</td>\n",
       "<td>nan</td>\n",
       "<td>nan</td>\n",
       "<td>nan</td>\n",
       "<td>nan</td>\n",
       "<td>1037.49</td>\n",
       "<td>985.54</td>\n",
       "<td>nan</td>\n",
       "<td>nan</td>\n",
       "<td>nan</td>\n",
       "<td>nan</td>\n",
       "<td>2455.09</td>\n",
       "<td>2000.1</td>\n",
       "<td>0.0</td>\n",
       "<td>0.0</td>\n",
       "<td>0.0</td>\n",
       "<td>0.0</td>\n",
       "<td>100.1</td>\n",
       "<td>141.54</td>\n",
       "<td>108</td>\n",
       "<td>678</td>\n",
       "<td>92</td>\n",
       "<td>125</td>\n",
       "<td>6</td>\n",
       "<td>131</td>\n",
       "<td>233</td>\n",
       "<td>684</td>\n",
       "<td>917</td>\n",
       "<td>0.5365</td>\n",
       "<td>0.0088</td>\n",
       "<td>0.1429</td>\n",
       "<td>=BLOB=</td>\n",
       "<td>=BLOB=</td></tr><tr><td>864691135517422218</td>\n",
       "<td>0</td>\n",
       "<td>0.25</td>\n",
       "<td>30.00</td>\n",
       "<td>5</td>\n",
       "<td>0</td>\n",
       "<td>0</td>\n",
       "<td>5</td>\n",
       "<td>=BLOB=</td>\n",
       "<td>=BLOB=</td>\n",
       "<td>=BLOB=</td>\n",
       "<td>=BLOB=</td>\n",
       "<td>=BLOB=</td>\n",
       "<td>365.29</td>\n",
       "<td>269.45</td>\n",
       "<td>nan</td>\n",
       "<td>nan</td>\n",
       "<td>nan</td>\n",
       "<td>nan</td>\n",
       "<td>2024.27</td>\n",
       "<td>1015.92</td>\n",
       "<td>nan</td>\n",
       "<td>nan</td>\n",
       "<td>nan</td>\n",
       "<td>nan</td>\n",
       "<td>53.91</td>\n",
       "<td>77.32</td>\n",
       "<td>130.89</td>\n",
       "<td>194.62</td>\n",
       "<td>0.0</td>\n",
       "<td>0.0</td>\n",
       "<td>0.0</td>\n",
       "<td>0.0</td>\n",
       "<td>678</td>\n",
       "<td>158</td>\n",
       "<td>32</td>\n",
       "<td>36</td>\n",
       "<td>45</td>\n",
       "<td>81</td>\n",
       "<td>714</td>\n",
       "<td>203</td>\n",
       "<td>917</td>\n",
       "<td>0.0504</td>\n",
       "<td>0.2217</td>\n",
       "<td>0.0883</td>\n",
       "<td>=BLOB=</td>\n",
       "<td>=BLOB=</td></tr><tr><td>864691137019596142</td>\n",
       "<td>0</td>\n",
       "<td>0.25</td>\n",
       "<td>88.00</td>\n",
       "<td>5</td>\n",
       "<td>0</td>\n",
       "<td>0</td>\n",
       "<td>5</td>\n",
       "<td>=BLOB=</td>\n",
       "<td>=BLOB=</td>\n",
       "<td>=BLOB=</td>\n",
       "<td>=BLOB=</td>\n",
       "<td>=BLOB=</td>\n",
       "<td>9.98</td>\n",
       "<td>16.64</td>\n",
       "<td>nan</td>\n",
       "<td>nan</td>\n",
       "<td>nan</td>\n",
       "<td>nan</td>\n",
       "<td>0.0</td>\n",
       "<td>0.0</td>\n",
       "<td>nan</td>\n",
       "<td>nan</td>\n",
       "<td>nan</td>\n",
       "<td>nan</td>\n",
       "<td>182.88</td>\n",
       "<td>346.57</td>\n",
       "<td>0.0</td>\n",
       "<td>0.0</td>\n",
       "<td>0.0</td>\n",
       "<td>0.0</td>\n",
       "<td>0.0</td>\n",
       "<td>0.0</td>\n",
       "<td>138</td>\n",
       "<td>200</td>\n",
       "<td>18</td>\n",
       "<td>33</td>\n",
       "<td>1</td>\n",
       "<td>34</td>\n",
       "<td>171</td>\n",
       "<td>201</td>\n",
       "<td>372</td>\n",
       "<td>0.193</td>\n",
       "<td>0.005</td>\n",
       "<td>0.0914</td>\n",
       "<td>=BLOB=</td>\n",
       "<td>=BLOB=</td> </tr> </tbody>\n",
       "            </table>\n",
       "            \n",
       "            <p>Total: 4</p></div>\n",
       "            "
      ],
      "text/plain": [
       "*segment_id    *decimation_ve *decimation_ra *ver      *process_versi *index    *split_index   *proof_version mesh_faces axon_faces axon_skele dendrite_s neuron_ske axon_on_dendri axon_on_dendri low_branch_clu low_branch_clu dendrite_on_ax dendrite_on_ax double_back_an double_back_an crossovers_err crossovers_err high_degree_co high_degree_co high_degree_br high_degree_br axon_webbing_t axon_webbing_t thick_t_merge_ thick_t_merge_ axon_fork_dive axon_fork_dive n_valid_syn_pr n_valid_syn_po n_presyn_error n_presyn_error n_postsyn_erro total_error_sy total_presyns  total_postsyns total_synapses perc_error_pre perc_error_pos overall_percen limb_branc red_blue_s\n",
       "+------------+ +------------+ +------------+ +-------+ +------------+ +-------+ +------------+ +------------+ +--------+ +--------+ +--------+ +--------+ +--------+ +------------+ +------------+ +------------+ +------------+ +------------+ +------------+ +------------+ +------------+ +------------+ +------------+ +------------+ +------------+ +------------+ +------------+ +------------+ +------------+ +------------+ +------------+ +------------+ +------------+ +------------+ +------------+ +------------+ +------------+ +------------+ +------------+ +------------+ +------------+ +------------+ +------------+ +------------+ +------------+ +--------+ +--------+\n",
       "86469113511798 0              0.25           30.00     5              0         0              5              =BLOB=     =BLOB=     =BLOB=     =BLOB=     =BLOB=     1.46           1.33           nan            nan            nan            nan            131.12         255.36         nan            nan            nan            nan            92.85          150.4          0.0            0.0            0.0            0.0            0.0            0.0            264            359            17             23             0              23             287            359            646            0.0801         0.0            0.0356         =BLOB=     =BLOB=    \n",
       "86469113538255 0              0.25           30.00     5              0         0              5              =BLOB=     =BLOB=     =BLOB=     =BLOB=     =BLOB=     604.91         632.37         nan            nan            nan            nan            1037.49        985.54         nan            nan            nan            nan            2455.09        2000.1         0.0            0.0            0.0            0.0            100.1          141.54         108            678            92             125            6              131            233            684            917            0.5365         0.0088         0.1429         =BLOB=     =BLOB=    \n",
       "86469113551742 0              0.25           30.00     5              0         0              5              =BLOB=     =BLOB=     =BLOB=     =BLOB=     =BLOB=     365.29         269.45         nan            nan            nan            nan            2024.27        1015.92        nan            nan            nan            nan            53.91          77.32          130.89         194.62         0.0            0.0            0.0            0.0            678            158            32             36             45             81             714            203            917            0.0504         0.2217         0.0883         =BLOB=     =BLOB=    \n",
       "86469113701959 0              0.25           88.00     5              0         0              5              =BLOB=     =BLOB=     =BLOB=     =BLOB=     =BLOB=     9.98           16.64          nan            nan            nan            nan            0.0            0.0            nan            nan            nan            nan            182.88         346.57         0.0            0.0            0.0            0.0            0.0            0.0            138            200            18             33             1              34             171            201            372            0.193          0.005          0.0914         =BLOB=     =BLOB=    \n",
       " (Total: 4)"
      ]
     },
     "execution_count": 5,
     "metadata": {},
     "output_type": "execute_result"
    }
   ],
   "source": [
    "minnie.AutoProofreadStats5()"
   ]
  },
  {
   "cell_type": "code",
   "execution_count": 6,
   "metadata": {},
   "outputs": [],
   "source": [
    "segment_id = 864691135517422218"
   ]
  },
  {
   "cell_type": "code",
   "execution_count": 7,
   "metadata": {},
   "outputs": [],
   "source": [
    "original_mesh = du.fetch_segment_id_mesh(segment_id)"
   ]
  },
  {
   "cell_type": "code",
   "execution_count": 8,
   "metadata": {},
   "outputs": [
    {
     "data": {
      "text/plain": [
       "array([[[567576.25678949, 897596.0775726 , 980727.06364785],\n",
       "        [567591.41720218, 897632.30064262, 980642.86495301]],\n",
       "\n",
       "       [[567576.25678949, 897596.0775726 , 980727.06364785],\n",
       "        [567647.17474492, 897543.04359158, 980773.51836187]],\n",
       "\n",
       "       [[567591.41720218, 897632.30064262, 980642.86495301],\n",
       "        [567619.5       , 897666.        , 980553.        ]],\n",
       "\n",
       "       ...,\n",
       "\n",
       "       [[732327.90568207, 543145.27112836, 844650.96198287],\n",
       "        [739436.        , 546626.        , 842152.        ]],\n",
       "\n",
       "       [[732327.90568207, 543145.27112836, 844650.96198287],\n",
       "        [730941.        , 550142.        , 847704.        ]],\n",
       "\n",
       "       [[732327.90568207, 543145.27112836, 844650.96198287],\n",
       "        [735669.58230103, 550673.76993182, 843560.84521343]]])"
      ]
     },
     "execution_count": 8,
     "metadata": {},
     "output_type": "execute_result"
    }
   ],
   "source": [
    "neuron_skeleton = (minnie.AutoProofreadStats5() & dict(segment_id=segment_id)).fetch1(\"neuron_skeleton\")\n",
    "neuron_skeleton"
   ]
  },
  {
   "cell_type": "code",
   "execution_count": 11,
   "metadata": {},
   "outputs": [
    {
     "name": "stderr",
     "output_type": "stream",
     "text": [
      "/usr/local/lib/python3.6/dist-packages/traittypes/traittypes.py:101: UserWarning: Given trait value dtype \"float64\" does not match required type \"float64\". A coerced copy has been created.\n",
      "  np.dtype(self.dtype).name))\n"
     ]
    },
    {
     "data": {
      "application/vnd.jupyter.widget-view+json": {
       "model_id": "f07d0cd3e7a54a70a6e37a5737c7f1f8",
       "version_major": 2,
       "version_minor": 0
      },
      "text/plain": [
       "VBox(children=(Figure(camera=PerspectiveCamera(fov=46.0, position=(0.0, 0.0, 2.0), projectionMatrix=(1.0, 0.0,…"
      ]
     },
     "metadata": {},
     "output_type": "display_data"
    }
   ],
   "source": [
    "import neuron_visualizations as nviz\n",
    "nviz.plot_objects(original_mesh,\n",
    "                     skeletons=[neuron_skeleton])"
   ]
  },
  {
   "cell_type": "markdown",
   "metadata": {},
   "source": [
    "# Debugging the Neuron"
   ]
  },
  {
   "cell_type": "code",
   "execution_count": 12,
   "metadata": {},
   "outputs": [],
   "source": [
    "import proofreading_utils as pru"
   ]
  },
  {
   "cell_type": "code",
   "execution_count": null,
   "metadata": {},
   "outputs": [],
   "source": [
    "# 1) Pull Down All of the Neurons\n",
    "segment_id = key[\"segment_id\"]\n",
    "\n",
    "whole_pass_time = time.time()\n",
    "\n",
    "\n",
    "curr_output = pru.proofreading_table_processing(key,\n",
    "                          proof_version=proof_version,\n",
    "                          axon_version  = axon_version,\n",
    "                          compute_synapse_to_soma_skeletal_distance=True,\n",
    "                          perform_axon_classification = False,\n",
    "                          high_fidelity_axon_on_excitatory = False,\n",
    "                         verbose=True,)    \n",
    "# ------ Writing the Data To the Tables ----- #\n",
    "\n",
    "\n",
    "AutoProofreadSynapse_keys = curr_output[\"AutoProofreadSynapse_keys\"]\n",
    "AutoProofreadSynapseErrors_keys = curr_output[\"AutoProofreadSynapseErrors_keys\"]\n",
    "AutoProofreadNeurons_keys = curr_output[\"AutoProofreadNeurons_keys\"]\n",
    "filtering_info_list = curr_output[\"filtering_info_list\"]\n",
    "synapse_stats_list = curr_output[\"synapse_stats_list\"]\n",
    "total_error_synapse_ids_list = curr_output[\"total_error_synapse_ids_list\"]\n",
    "neuron_mesh_list = curr_output[\"neuron_mesh_list\"]\n",
    "axon_mesh_list = curr_output[\"axon_mesh_list\"]\n",
    "neuron_split_idxs = curr_output[\"neuron_split_idxs\"]\n",
    "\n",
    "axon_skeleton_list = curr_output[\"axon_skeleton_list\"]\n",
    "dendrite_skeleton_list = curr_output[\"dendrite_skeleton_list\"]\n",
    "neuron_skeleton_list = curr_output[\"neuron_skeleton_list\"]\n",
    "\n",
    "\n",
    "# Once have inserted all the new neurons need to compute the stats\n",
    "if verbose:\n",
    "    print(\"Computing the overall stats\")\n",
    "\n",
    "overall_syn_error_rates = pru.calculate_error_rate(total_error_synapse_ids_list,\n",
    "                synapse_stats_list,\n",
    "                verbose=True)\n",
    "\n",
    "\n",
    "# Final Part: Create the stats table entries and insert\n",
    "\n",
    "proofread_stats_entries = []\n",
    "\n",
    "stats_to_make_sure_in_proofread_stats = [\n",
    "\n",
    " 'axon_on_dendrite_merges_error_area',\n",
    " 'axon_on_dendrite_merges_error_length',\n",
    " 'low_branch_clusters_error_area',\n",
    " 'low_branch_clusters_error_length',\n",
    " 'dendrite_on_axon_merges_error_area',\n",
    " 'dendrite_on_axon_merges_error_length',\n",
    " 'double_back_and_width_change_error_area',\n",
    " 'double_back_and_width_change_error_length',\n",
    " 'crossovers_error_area',\n",
    " 'crossovers_error_length',\n",
    " 'high_degree_coordinates_error_area',\n",
    " 'high_degree_coordinates_error_length',\n",
    "]\n",
    "\n",
    "\n",
    "for sp_idx,split_index in enumerate(neuron_split_idxs):\n",
    "\n",
    "    #write the AutoProofreadNeurons and AutoProofreadSynapse Tabel\n",
    "    keys_to_write = AutoProofreadSynapse_keys[sp_idx]\n",
    "    AutoProofreadSynapse4.insert(keys_to_write,skip_duplicates=True)\n",
    "\n",
    "    keys_to_write_errors = AutoProofreadSynapseErrors_keys[sp_idx]\n",
    "    AutoProofreadSynapseErrors4.insert(keys_to_write_errors,skip_duplicates=True)\n",
    "\n",
    "\n",
    "\n",
    "    new_key = AutoProofreadNeurons_keys[sp_idx]\n",
    "    self.insert1(new_key,skip_duplicates=True,allow_direct_insert=True)\n",
    "\n",
    "    synapse_stats = synapse_stats_list[sp_idx]\n",
    "    filtering_info = filtering_info_list[sp_idx]\n",
    "    limb_branch_to_cancel = pru.extract_from_filter_info(filtering_info,\n",
    "                    name_to_extract=\"limb_branch_dict_to_cancel\")\n",
    "\n",
    "\n",
    "    red_blue_suggestions = pru.extract_from_filter_info(filtering_info,\n",
    "                    name_to_extract = \"red_blue_suggestions\")\n",
    "\n",
    "    curr_key = dict(key,\n",
    "                   split_index = split_index,\n",
    "                   proof_version = proof_version,\n",
    "\n",
    "                     mesh_faces = neuron_mesh_list[sp_idx],\n",
    "                    axon_faces = axon_mesh_list[sp_idx],\n",
    "\n",
    "                    axon_skeleton = axon_skeleton_list[sp_idx],\n",
    "                    dendrite_skeleton = dendrite_skeleton_list[sp_idx],\n",
    "                    neuron_skeleton = neuron_skeleton_list[sp_idx],\n",
    "\n",
    "\n",
    "                    # ------------ For local valid synapses to that split_index\n",
    "                    n_valid_syn_presyn_for_split=synapse_stats[\"n_valid_syn_presyn\"],\n",
    "                    n_valid_syn_postsyn_for_split=synapse_stats[\"n_valid_syn_postsyn\"],\n",
    "                    n_presyn_error_syn_non_axon=synapse_stats[\"n_errored_syn_presyn_non_axon\"],\n",
    "\n",
    "                    limb_branch_to_cancel = limb_branch_to_cancel,\n",
    "                    red_blue_suggestions = red_blue_suggestions,\n",
    "\n",
    "\n",
    "                   )\n",
    "\n",
    "\n",
    "    for s in stats_to_make_sure_in_proofread_stats:\n",
    "        if s not in filtering_info.keys():\n",
    "            curr_key[s] = None\n",
    "\n",
    "    filter_key = {k:np.round(v,2) for k,v in filtering_info.items() if \"area\" in k or \"length\" in k}\n",
    "    curr_key.update(filter_key)\n",
    "    curr_key.update(overall_syn_error_rates)\n",
    "\n",
    "    proofread_stats_entries.append(curr_key)"
   ]
  },
  {
   "cell_type": "code",
   "execution_count": null,
   "metadata": {},
   "outputs": [],
   "source": []
  },
  {
   "cell_type": "markdown",
   "metadata": {},
   "source": [
    "# Getting the Synapses Filtered Away"
   ]
  },
  {
   "cell_type": "code",
   "execution_count": null,
   "metadata": {},
   "outputs": [],
   "source": [
    "return_error_table_entries\n",
    "\n",
    "keys_to_write_without_version_errors\n",
    "\n",
    "keys_to_write_errors\n",
    "\n",
    "AutoProofreadSynapseErrors_keys"
   ]
  }
 ],
 "metadata": {
  "kernelspec": {
   "display_name": "Python 3",
   "language": "python",
   "name": "python3"
  },
  "language_info": {
   "codemirror_mode": {
    "name": "ipython",
    "version": 3
   },
   "file_extension": ".py",
   "mimetype": "text/x-python",
   "name": "python",
   "nbconvert_exporter": "python",
   "pygments_lexer": "ipython3",
   "version": "3.6.9"
  }
 },
 "nbformat": 4,
 "nbformat_minor": 4
}
